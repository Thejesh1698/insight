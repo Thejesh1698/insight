{
 "cells": [
  {
   "cell_type": "code",
   "execution_count": 1,
   "id": "baf0f5fb-6b59-4157-99e1-408d87fe960e",
   "metadata": {
    "scrolled": true,
    "tags": []
   },
   "outputs": [
    {
     "name": "stdout",
     "output_type": "stream",
     "text": [
      "Collecting sagemaker\n",
      "  Downloading sagemaker-2.196.0.tar.gz (916 kB)\n",
      "\u001b[2K     \u001b[90m━━━━━━━━━━━━━━━━━━━━━━━━━━━━━━━━━━━━━━━\u001b[0m \u001b[32m916.9/916.9 kB\u001b[0m \u001b[31m7.1 MB/s\u001b[0m eta \u001b[36m0:00:00\u001b[0ma \u001b[36m0:00:01\u001b[0m\n",
      "\u001b[?25h  Preparing metadata (setup.py) ... \u001b[?25ldone\n",
      "\u001b[?25hCollecting attrs<24,>=23.1.0 (from sagemaker)\n",
      "  Downloading attrs-23.1.0-py3-none-any.whl (61 kB)\n",
      "\u001b[2K     \u001b[90m━━━━━━━━━━━━━━━━━━━━━━━━━━━━━━━━━━━━━━━━\u001b[0m \u001b[32m61.2/61.2 kB\u001b[0m \u001b[31m8.0 MB/s\u001b[0m eta \u001b[36m0:00:00\u001b[0m\n",
      "\u001b[?25hCollecting boto3<2.0,>=1.26.131 (from sagemaker)\n",
      "  Obtaining dependency information for boto3<2.0,>=1.26.131 from https://files.pythonhosted.org/packages/ff/e9/8ece7607d288c1de22638a7223ae1dc41a34e8cd1511ebfc8171ac24db9d/boto3-1.28.73-py3-none-any.whl.metadata\n",
      "  Downloading boto3-1.28.73-py3-none-any.whl.metadata (6.7 kB)\n",
      "Collecting cloudpickle==2.2.1 (from sagemaker)\n",
      "  Downloading cloudpickle-2.2.1-py3-none-any.whl (25 kB)\n",
      "Collecting google-pasta (from sagemaker)\n",
      "  Downloading google_pasta-0.2.0-py3-none-any.whl (57 kB)\n",
      "\u001b[2K     \u001b[90m━━━━━━━━━━━━━━━━━━━━━━━━━━━━━━━━━━━━━━━━\u001b[0m \u001b[32m57.5/57.5 kB\u001b[0m \u001b[31m5.6 MB/s\u001b[0m eta \u001b[36m0:00:00\u001b[0m\n",
      "\u001b[?25hRequirement already satisfied: numpy<2.0,>=1.9.0 in /Users/ravi.tej/anaconda3/envs/recoenv/lib/python3.11/site-packages (from sagemaker) (1.24.3)\n",
      "Collecting protobuf<5.0,>=3.12 (from sagemaker)\n",
      "  Obtaining dependency information for protobuf<5.0,>=3.12 from https://files.pythonhosted.org/packages/88/12/efb5896c901382548ecb58d0449885a8f9aa62bb559d65e5a8a47f122629/protobuf-4.24.4-cp37-abi3-macosx_10_9_universal2.whl.metadata\n",
      "  Downloading protobuf-4.24.4-cp37-abi3-macosx_10_9_universal2.whl.metadata (540 bytes)\n",
      "Collecting smdebug_rulesconfig==1.0.1 (from sagemaker)\n",
      "  Downloading smdebug_rulesconfig-1.0.1-py2.py3-none-any.whl (20 kB)\n",
      "Requirement already satisfied: importlib-metadata<7.0,>=1.4.0 in /Users/ravi.tej/anaconda3/envs/recoenv/lib/python3.11/site-packages (from sagemaker) (6.0.0)\n",
      "Requirement already satisfied: packaging>=20.0 in /Users/ravi.tej/anaconda3/envs/recoenv/lib/python3.11/site-packages (from sagemaker) (23.1)\n",
      "Requirement already satisfied: pandas in /Users/ravi.tej/anaconda3/envs/recoenv/lib/python3.11/site-packages (from sagemaker) (2.0.3)\n",
      "Collecting pathos (from sagemaker)\n",
      "  Obtaining dependency information for pathos from https://files.pythonhosted.org/packages/d8/08/ac94fa6f9eefe32963b8a54e573dab0dbc0d3df24fd34924bd9ce7eab7c4/pathos-0.3.1-py3-none-any.whl.metadata\n",
      "  Downloading pathos-0.3.1-py3-none-any.whl.metadata (11 kB)\n",
      "Collecting schema (from sagemaker)\n",
      "  Downloading schema-0.7.5-py2.py3-none-any.whl (17 kB)\n",
      "Requirement already satisfied: PyYAML~=6.0 in /Users/ravi.tej/anaconda3/envs/recoenv/lib/python3.11/site-packages (from sagemaker) (6.0)\n",
      "Requirement already satisfied: jsonschema in /Users/ravi.tej/anaconda3/envs/recoenv/lib/python3.11/site-packages (from sagemaker) (4.17.3)\n",
      "Requirement already satisfied: platformdirs in /Users/ravi.tej/anaconda3/envs/recoenv/lib/python3.11/site-packages (from sagemaker) (3.10.0)\n",
      "Collecting tblib==1.7.0 (from sagemaker)\n",
      "  Downloading tblib-1.7.0-py2.py3-none-any.whl (12 kB)\n",
      "Collecting botocore<1.32.0,>=1.31.73 (from boto3<2.0,>=1.26.131->sagemaker)\n",
      "  Obtaining dependency information for botocore<1.32.0,>=1.31.73 from https://files.pythonhosted.org/packages/fa/f3/c369381bf6b2913e201d91be68d34e1ad3dfe9163ae7e8203606d09ee07c/botocore-1.31.73-py3-none-any.whl.metadata\n",
      "  Downloading botocore-1.31.73-py3-none-any.whl.metadata (6.1 kB)\n",
      "Requirement already satisfied: jmespath<2.0.0,>=0.7.1 in /Users/ravi.tej/anaconda3/envs/recoenv/lib/python3.11/site-packages (from boto3<2.0,>=1.26.131->sagemaker) (0.10.0)\n",
      "Collecting s3transfer<0.8.0,>=0.7.0 (from boto3<2.0,>=1.26.131->sagemaker)\n",
      "  Obtaining dependency information for s3transfer<0.8.0,>=0.7.0 from https://files.pythonhosted.org/packages/5a/4b/fec9ce18f8874a96c5061422625ba86c3ee1e6587ccd92ff9f5bf7bd91b2/s3transfer-0.7.0-py3-none-any.whl.metadata\n",
      "  Downloading s3transfer-0.7.0-py3-none-any.whl.metadata (1.8 kB)\n",
      "Requirement already satisfied: zipp>=0.5 in /Users/ravi.tej/anaconda3/envs/recoenv/lib/python3.11/site-packages (from importlib-metadata<7.0,>=1.4.0->sagemaker) (3.11.0)\n",
      "Requirement already satisfied: six in /Users/ravi.tej/anaconda3/envs/recoenv/lib/python3.11/site-packages (from google-pasta->sagemaker) (1.16.0)\n",
      "Requirement already satisfied: pyrsistent!=0.17.0,!=0.17.1,!=0.17.2,>=0.14.0 in /Users/ravi.tej/anaconda3/envs/recoenv/lib/python3.11/site-packages (from jsonschema->sagemaker) (0.18.0)\n",
      "Requirement already satisfied: python-dateutil>=2.8.2 in /Users/ravi.tej/anaconda3/envs/recoenv/lib/python3.11/site-packages (from pandas->sagemaker) (2.8.2)\n",
      "Requirement already satisfied: pytz>=2020.1 in /Users/ravi.tej/anaconda3/envs/recoenv/lib/python3.11/site-packages (from pandas->sagemaker) (2022.7)\n",
      "Requirement already satisfied: tzdata>=2022.1 in /Users/ravi.tej/anaconda3/envs/recoenv/lib/python3.11/site-packages (from pandas->sagemaker) (2023.3)\n",
      "Collecting ppft>=1.7.6.7 (from pathos->sagemaker)\n",
      "  Obtaining dependency information for ppft>=1.7.6.7 from https://files.pythonhosted.org/packages/f0/f8/0a493dfdf73edbfe58cae1323aec72d0152f463c7a351bd285e9d500985c/ppft-1.7.6.7-py3-none-any.whl.metadata\n",
      "  Downloading ppft-1.7.6.7-py3-none-any.whl.metadata (12 kB)\n",
      "Requirement already satisfied: dill>=0.3.7 in /Users/ravi.tej/anaconda3/envs/recoenv/lib/python3.11/site-packages (from pathos->sagemaker) (0.3.7)\n",
      "Collecting pox>=0.3.3 (from pathos->sagemaker)\n",
      "  Obtaining dependency information for pox>=0.3.3 from https://files.pythonhosted.org/packages/17/c7/ef7e37e5a895f5de068b408a52bee0710b1092574b6b4ab247a767e9fbd5/pox-0.3.3-py3-none-any.whl.metadata\n",
      "  Downloading pox-0.3.3-py3-none-any.whl.metadata (8.0 kB)\n",
      "Requirement already satisfied: multiprocess>=0.70.15 in /Users/ravi.tej/anaconda3/envs/recoenv/lib/python3.11/site-packages (from pathos->sagemaker) (0.70.15)\n",
      "Collecting contextlib2>=0.5.5 (from schema->sagemaker)\n",
      "  Downloading contextlib2-21.6.0-py2.py3-none-any.whl (13 kB)\n",
      "Requirement already satisfied: urllib3<2.1,>=1.25.4 in /Users/ravi.tej/anaconda3/envs/recoenv/lib/python3.11/site-packages (from botocore<1.32.0,>=1.31.73->boto3<2.0,>=1.26.131->sagemaker) (1.26.16)\n",
      "Downloading boto3-1.28.73-py3-none-any.whl (135 kB)\n",
      "\u001b[2K   \u001b[90m━━━━━━━━━━━━━━━━━━━━━━━━━━━━━━━━━━━━━━━━\u001b[0m \u001b[32m135.8/135.8 kB\u001b[0m \u001b[31m9.4 MB/s\u001b[0m eta \u001b[36m0:00:00\u001b[0m\n",
      "\u001b[?25hDownloading protobuf-4.24.4-cp37-abi3-macosx_10_9_universal2.whl (409 kB)\n",
      "\u001b[2K   \u001b[90m━━━━━━━━━━━━━━━━━━━━━━━━━━━━━━━━━━━━━━━━\u001b[0m \u001b[32m409.4/409.4 kB\u001b[0m \u001b[31m14.5 MB/s\u001b[0m eta \u001b[36m0:00:00\u001b[0m\n",
      "\u001b[?25hDownloading pathos-0.3.1-py3-none-any.whl (82 kB)\n",
      "\u001b[2K   \u001b[90m━━━━━━━━━━━━━━━━━━━━━━━━━━━━━━━━━━━━━━━━\u001b[0m \u001b[32m82.1/82.1 kB\u001b[0m \u001b[31m7.3 MB/s\u001b[0m eta \u001b[36m0:00:00\u001b[0m\n",
      "\u001b[?25hDownloading botocore-1.31.73-py3-none-any.whl (11.3 MB)\n",
      "\u001b[2K   \u001b[90m━━━━━━━━━━━━━━━━━━━━━━━━━━━━━━━━━━━━━━━━\u001b[0m \u001b[32m11.3/11.3 MB\u001b[0m \u001b[31m14.6 MB/s\u001b[0m eta \u001b[36m0:00:00\u001b[0m00:01\u001b[0m00:01\u001b[0m\n",
      "\u001b[?25hDownloading pox-0.3.3-py3-none-any.whl (29 kB)\n",
      "Downloading ppft-1.7.6.7-py3-none-any.whl (56 kB)\n",
      "\u001b[2K   \u001b[90m━━━━━━━━━━━━━━━━━━━━━━━━━━━━━━━━━━━━━━━━\u001b[0m \u001b[32m56.8/56.8 kB\u001b[0m \u001b[31m6.8 MB/s\u001b[0m eta \u001b[36m0:00:00\u001b[0m\n",
      "\u001b[?25hDownloading s3transfer-0.7.0-py3-none-any.whl (79 kB)\n",
      "\u001b[2K   \u001b[90m━━━━━━━━━━━━━━━━━━━━━━━━━━━━━━━━━━━━━━━━\u001b[0m \u001b[32m79.8/79.8 kB\u001b[0m \u001b[31m7.9 MB/s\u001b[0m eta \u001b[36m0:00:00\u001b[0m\n",
      "\u001b[?25hBuilding wheels for collected packages: sagemaker\n",
      "  Building wheel for sagemaker (setup.py) ... \u001b[?25ldone\n",
      "\u001b[?25h  Created wheel for sagemaker: filename=sagemaker-2.196.0-py2.py3-none-any.whl size=1223208 sha256=64f6813eadfe06a01289fd81367dc35a9265a6cbab3d297a89f2c9378b7559c1\n",
      "  Stored in directory: /Users/ravi.tej/Library/Caches/pip/wheels/67/09/52/7e021644a3ef1688b5fb0e9430146f2d18a30d1e9980119d21\n",
      "Successfully built sagemaker\n",
      "Installing collected packages: tblib, smdebug_rulesconfig, protobuf, ppft, pox, google-pasta, contextlib2, cloudpickle, attrs, schema, pathos, botocore, s3transfer, boto3, sagemaker\n",
      "  Attempting uninstall: attrs\n",
      "    Found existing installation: attrs 22.1.0\n",
      "    Uninstalling attrs-22.1.0:\n",
      "      Successfully uninstalled attrs-22.1.0\n",
      "  Attempting uninstall: botocore\n",
      "    Found existing installation: botocore 1.29.76\n",
      "    Uninstalling botocore-1.29.76:\n",
      "      Successfully uninstalled botocore-1.29.76\n",
      "  Attempting uninstall: s3transfer\n",
      "    Found existing installation: s3transfer 0.6.0\n",
      "    Uninstalling s3transfer-0.6.0:\n",
      "      Successfully uninstalled s3transfer-0.6.0\n",
      "  Attempting uninstall: boto3\n",
      "    Found existing installation: boto3 1.26.76\n",
      "    Uninstalling boto3-1.26.76:\n",
      "      Successfully uninstalled boto3-1.26.76\n",
      "Successfully installed attrs-23.1.0 boto3-1.28.73 botocore-1.31.73 cloudpickle-2.2.1 contextlib2-21.6.0 google-pasta-0.2.0 pathos-0.3.1 pox-0.3.3 ppft-1.7.6.7 protobuf-4.24.4 s3transfer-0.7.0 sagemaker-2.196.0 schema-0.7.5 smdebug_rulesconfig-1.0.1 tblib-1.7.0\n"
     ]
    }
   ],
   "source": [
    "!pip install sagemaker"
   ]
  },
  {
   "cell_type": "code",
   "execution_count": 9,
   "id": "f827952b-eba2-4ef0-9042-e91c07ced3d2",
   "metadata": {
    "tags": []
   },
   "outputs": [],
   "source": [
    "from sentence_transformers import SentenceTransformer"
   ]
  },
  {
   "cell_type": "code",
   "execution_count": 10,
   "id": "d366a90d-4e48-4eb6-852b-9a056195cae0",
   "metadata": {
    "tags": []
   },
   "outputs": [
    {
     "name": "stdout",
     "output_type": "stream",
     "text": [
      "git: 'lfs' is not a git command. See 'git --help'.\n",
      "\n",
      "The most similar command is\n",
      "\tlog\n",
      "Cloning into 'huggingface.co'...\n",
      "fatal: repository 'https://huggingface.co/' not found\n"
     ]
    }
   ],
   "source": [
    "!git lfs install\n",
    "!git clone https://huggingface.co/$repository"
   ]
  },
  {
   "cell_type": "code",
   "execution_count": 4,
   "id": "97751f59-982a-4843-a39f-4040cf70010d",
   "metadata": {
    "tags": []
   },
   "outputs": [
    {
     "name": "stdout",
     "output_type": "stream",
     "text": [
      "sagemaker.config INFO - Not applying SDK defaults from location: /Library/Application Support/sagemaker/config.yaml\n",
      "sagemaker.config INFO - Not applying SDK defaults from location: /Users/ravi.tej/Library/Application Support/sagemaker/config.yaml\n",
      "sagemaker.config INFO - Not applying SDK defaults from location: /Library/Application Support/sagemaker/config.yaml\n",
      "sagemaker.config INFO - Not applying SDK defaults from location: /Users/ravi.tej/Library/Application Support/sagemaker/config.yaml\n",
      "sagemaker.config INFO - Not applying SDK defaults from location: /Library/Application Support/sagemaker/config.yaml\n",
      "sagemaker.config INFO - Not applying SDK defaults from location: /Users/ravi.tej/Library/Application Support/sagemaker/config.yaml\n"
     ]
    },
    {
     "name": "stderr",
     "output_type": "stream",
     "text": [
      "Couldn't call 'get_role' to get Role ARN from role name ravi_tej to get Role path.\n"
     ]
    },
    {
     "name": "stdout",
     "output_type": "stream",
     "text": [
      "sagemaker.config INFO - Not applying SDK defaults from location: /Library/Application Support/sagemaker/config.yaml\n",
      "sagemaker.config INFO - Not applying SDK defaults from location: /Users/ravi.tej/Library/Application Support/sagemaker/config.yaml\n",
      "sagemaker role arn: arn:aws:iam::005418323977:role/Sagemaker-endpoint-manager\n",
      "sagemaker bucket: sagemaker-ap-south-1-005418323977\n",
      "sagemaker session region: ap-south-1\n"
     ]
    }
   ],
   "source": [
    "import sagemaker\n",
    "import boto3\n",
    "sess = sagemaker.Session()\n",
    "# sagemaker session bucket -> used for uploading data, models and logs\n",
    "# sagemaker will automatically create this bucket if it not exists\n",
    "sagemaker_session_bucket=None\n",
    "if sagemaker_session_bucket is None and sess is not None:\n",
    "    # set to default bucket if a bucket name is not given\n",
    "    sagemaker_session_bucket = sess.default_bucket()\n",
    "\n",
    "try:\n",
    "    role = sagemaker.get_execution_role()\n",
    "except ValueError:\n",
    "    iam = boto3.client('iam')\n",
    "    role = iam.get_role(RoleName='Sagemaker-endpoint-manager')['Role']['Arn']\n",
    "\n",
    "sess = sagemaker.Session(default_bucket=sagemaker_session_bucket)\n",
    "\n",
    "print(f\"sagemaker role arn: {role}\")\n",
    "print(f\"sagemaker bucket: {sess.default_bucket()}\")\n",
    "print(f\"sagemaker session region: {sess.boto_region_name}\")\n"
   ]
  },
  {
   "cell_type": "code",
   "execution_count": 5,
   "id": "f5550926-d826-4fe9-8929-3e5e0c2d2c9d",
   "metadata": {
    "tags": []
   },
   "outputs": [
    {
     "data": {
      "text/plain": [
       "'sagemaker-ap-south-1-005418323977'"
      ]
     },
     "execution_count": 5,
     "metadata": {},
     "output_type": "execute_result"
    }
   ],
   "source": [
    "sess.default_bucket()"
   ]
  },
  {
   "cell_type": "code",
   "execution_count": 7,
   "id": "1dfd105c-b2dc-4fa9-ac82-f0c4cc3a3c34",
   "metadata": {
    "tags": []
   },
   "outputs": [],
   "source": [
    "repository = \"BAAI/bge-large-en-v1.5\"\n",
    "model_id=repository.split(\"/\")[-1]\n",
    "s3_location=f\"s3://{sess.default_bucket()}/embedding_models/{model_id}/model.tar.gz\""
   ]
  },
  {
   "cell_type": "code",
   "execution_count": 8,
   "id": "ac5d2ac1-8b80-4adb-bcd9-cc5936913621",
   "metadata": {
    "tags": []
   },
   "outputs": [
    {
     "data": {
      "text/plain": [
       "'s3://sagemaker-ap-south-1-005418323977/embedding_models/bge-large-en-v1.5/model.tar.gz'"
      ]
     },
     "execution_count": 8,
     "metadata": {},
     "output_type": "execute_result"
    }
   ],
   "source": [
    "s3_location"
   ]
  },
  {
   "cell_type": "code",
   "execution_count": 2,
   "id": "443f1388-a892-4970-99c6-525dba2caa46",
   "metadata": {
    "tags": []
   },
   "outputs": [
    {
     "name": "stdout",
     "output_type": "stream",
     "text": [
      "zsh:1: command not found: brew\n"
     ]
    }
   ],
   "source": [
    "!brew install git-lfs"
   ]
  },
  {
   "cell_type": "code",
   "execution_count": 1,
   "id": "e59ed049-5a15-4886-8ae8-ed1466944184",
   "metadata": {
    "tags": []
   },
   "outputs": [
    {
     "name": "stdout",
     "output_type": "stream",
     "text": [
      "git: 'lfs' is not a git command. See 'git --help'.\n",
      "\n",
      "The most similar command is\n",
      "\tlog\n"
     ]
    }
   ],
   "source": [
    "!git lfs install"
   ]
  },
  {
   "cell_type": "code",
   "execution_count": 17,
   "id": "14771f7a-ed07-4e01-ba56-6e206841ff7c",
   "metadata": {
    "tags": []
   },
   "outputs": [
    {
     "name": "stdout",
     "output_type": "stream",
     "text": [
      "git: 'lfs' is not a git command. See 'git --help'.\n",
      "\n",
      "The most similar command is\n",
      "\tlog\n",
      "Cloning into 'bge-large-en-v1.5'...\n",
      "remote: Enumerating objects: 42, done.\u001b[K\n",
      "remote: Counting objects: 100% (6/6), done.\u001b[K\n",
      "remote: Compressing objects: 100% (6/6), done.\u001b[K\n",
      "remote: Total 42 (delta 1), reused 0 (delta 0), pack-reused 36\u001b[K\n",
      "Unpacking objects: 100% (42/42), 363.07 KiB | 548.00 KiB/s, done.\n"
     ]
    }
   ],
   "source": [
    "!git lfs install\n",
    "!git clone https://huggingface.co/$repository"
   ]
  },
  {
   "cell_type": "code",
   "execution_count": 18,
   "id": "8467a5d6-b5a4-4ab4-83bd-23e71c5425ec",
   "metadata": {
    "tags": []
   },
   "outputs": [],
   "source": [
    "!cp -r code/ $model_id/code/"
   ]
  },
  {
   "cell_type": "code",
   "execution_count": 19,
   "id": "aaaa478c-380f-4daf-ae40-14b0b0da6eff",
   "metadata": {
    "tags": []
   },
   "outputs": [
    {
     "name": "stdout",
     "output_type": "stream",
     "text": [
      "/Users/ravi.tej/Desktop/ML/Recommendations/cambrian/notebooks/sagemaker/bge-large-en-v1.5\n",
      "a 1_Pooling\n",
      "a 1_Pooling/config.json\n",
      "a README.md\n",
      "a code\n",
      "a code/inference.py\n",
      "a code/.ipynb_checkpoints\n",
      "a code/.ipynb_checkpoints/inference-checkpoint.py\n",
      "a config.json\n",
      "a config_sentence_transformers.json\n",
      "a modules.json\n",
      "a pytorch_model.bin\n",
      "a sentence_bert_config.json\n",
      "a special_tokens_map.json\n",
      "a tokenizer.json\n",
      "a tokenizer_config.json\n",
      "a vocab.txt\n"
     ]
    }
   ],
   "source": [
    "%cd $model_id\n",
    "!tar zcvf model.tar.gz *"
   ]
  },
  {
   "cell_type": "code",
   "execution_count": 21,
   "id": "5d062464-9a63-4ebe-b144-3726c245f222",
   "metadata": {
    "scrolled": true,
    "tags": []
   },
   "outputs": [
    {
     "name": "stdout",
     "output_type": "stream",
     "text": [
      "Collecting awscli\n",
      "  Obtaining dependency information for awscli from https://files.pythonhosted.org/packages/f9/af/ac25b9236912890e5476b1153afdec2a0f4b95f26609db6dc541b93792a0/awscli-1.29.73-py3-none-any.whl.metadata\n",
      "  Downloading awscli-1.29.73-py3-none-any.whl.metadata (11 kB)\n",
      "Requirement already satisfied: botocore==1.31.73 in /Users/ravi.tej/anaconda3/envs/recoenv/lib/python3.11/site-packages (from awscli) (1.31.73)\n",
      "Collecting docutils<0.17,>=0.10 (from awscli)\n",
      "  Downloading docutils-0.16-py2.py3-none-any.whl (548 kB)\n",
      "\u001b[2K     \u001b[90m━━━━━━━━━━━━━━━━━━━━━━━━━━━━━━━━━━━━━━━\u001b[0m \u001b[32m548.2/548.2 kB\u001b[0m \u001b[31m6.9 MB/s\u001b[0m eta \u001b[36m0:00:00\u001b[0m00:01\u001b[0m00:01\u001b[0m\n",
      "\u001b[?25hRequirement already satisfied: s3transfer<0.8.0,>=0.7.0 in /Users/ravi.tej/anaconda3/envs/recoenv/lib/python3.11/site-packages (from awscli) (0.7.0)\n",
      "Requirement already satisfied: PyYAML<6.1,>=3.10 in /Users/ravi.tej/anaconda3/envs/recoenv/lib/python3.11/site-packages (from awscli) (6.0)\n",
      "Collecting colorama<0.4.5,>=0.2.5 (from awscli)\n",
      "  Downloading colorama-0.4.4-py2.py3-none-any.whl (16 kB)\n",
      "Collecting rsa<4.8,>=3.1.2 (from awscli)\n",
      "  Downloading rsa-4.7.2-py3-none-any.whl (34 kB)\n",
      "Requirement already satisfied: jmespath<2.0.0,>=0.7.1 in /Users/ravi.tej/anaconda3/envs/recoenv/lib/python3.11/site-packages (from botocore==1.31.73->awscli) (0.10.0)\n",
      "Requirement already satisfied: python-dateutil<3.0.0,>=2.1 in /Users/ravi.tej/anaconda3/envs/recoenv/lib/python3.11/site-packages (from botocore==1.31.73->awscli) (2.8.2)\n",
      "Requirement already satisfied: urllib3<2.1,>=1.25.4 in /Users/ravi.tej/anaconda3/envs/recoenv/lib/python3.11/site-packages (from botocore==1.31.73->awscli) (1.26.16)\n",
      "Collecting pyasn1>=0.1.3 (from rsa<4.8,>=3.1.2->awscli)\n",
      "  Downloading pyasn1-0.5.0-py2.py3-none-any.whl (83 kB)\n",
      "\u001b[2K     \u001b[90m━━━━━━━━━━━━━━━━━━━━━━━━━━━━━━━━━━━━━━━━\u001b[0m \u001b[32m83.9/83.9 kB\u001b[0m \u001b[31m9.0 MB/s\u001b[0m eta \u001b[36m0:00:00\u001b[0m\n",
      "\u001b[?25hRequirement already satisfied: six>=1.5 in /Users/ravi.tej/anaconda3/envs/recoenv/lib/python3.11/site-packages (from python-dateutil<3.0.0,>=2.1->botocore==1.31.73->awscli) (1.16.0)\n",
      "Downloading awscli-1.29.73-py3-none-any.whl (4.3 MB)\n",
      "\u001b[2K   \u001b[90m━━━━━━━━━━━━━━━━━━━━━━━━━━━━━━━━━━━━━━━━\u001b[0m \u001b[32m4.3/4.3 MB\u001b[0m \u001b[31m9.9 MB/s\u001b[0m eta \u001b[36m0:00:00\u001b[0m:00:01\u001b[0m00:01\u001b[0m\n",
      "\u001b[?25hInstalling collected packages: pyasn1, docutils, colorama, rsa, awscli\n",
      "Successfully installed awscli-1.29.73 colorama-0.4.4 docutils-0.16 pyasn1-0.5.0 rsa-4.7.2\n"
     ]
    }
   ],
   "source": [
    "!pip install awscli"
   ]
  },
  {
   "cell_type": "code",
   "execution_count": 67,
   "id": "f9d28048-4dc4-4b1a-ad66-377c761b184c",
   "metadata": {
    "tags": []
   },
   "outputs": [
    {
     "name": "stdout",
     "output_type": "stream",
     "text": [
      "/Users/ravi.tej/Desktop/ML/Recommendations/cambrian/notebooks/sagemaker\n"
     ]
    }
   ],
   "source": [
    "%cd .."
   ]
  },
  {
   "cell_type": "code",
   "execution_count": 69,
   "id": "7a4c4052-d785-4e5c-898a-07b2ff3c36cc",
   "metadata": {
    "tags": []
   },
   "outputs": [
    {
     "name": "stdout",
     "output_type": "stream",
     "text": [
      "override r--r--r-- ravi.tej/staff for bge-large-en-v1.5//.git/objects/95/2a9b81c0bfd99800fabf352f69c7ccd46c5e43? ^C\n"
     ]
    }
   ],
   "source": [
    "!rm -r bge-large-en-v1.5/ -y"
   ]
  },
  {
   "cell_type": "code",
   "execution_count": 58,
   "id": "8e1620e9-13d7-4c54-b4de-ea84802075b6",
   "metadata": {
    "tags": []
   },
   "outputs": [
    {
     "name": "stdout",
     "output_type": "stream",
     "text": [
      "[Errno 2] No such file or directory: 'bge-large-en-v1.5'\n",
      "/Users/ravi.tej/Desktop/ML/Recommendations/cambrian/notebooks/sagemaker/bge-large-en-v1.5\n",
      "a 1_Pooling\n",
      "a 1_Pooling/config.json\n",
      "a README.md\n",
      "a code\n",
      "a code/inference.py\n",
      "a code/.ipynb_checkpoints\n",
      "a code/.ipynb_checkpoints/inference-checkpoint.py\n",
      "a config.json\n",
      "a config_sentence_transformers.json\n",
      "a model.tar.gztar: model.tar.gz: Can't add archive to itself\n",
      "\n",
      "a modules.json\n",
      "a pytorch_model.bin\n",
      "a sentence_bert_config.json\n",
      "a special_tokens_map.json\n",
      "a tokenizer.json\n",
      "a tokenizer_config.json\n",
      "a vocab.txt\n",
      "upload: ./model.tar.gz to s3://sagemaker-ap-south-1-005418323977/custom_inference/bge-large-en-v1.5/model.tar.gz\n"
     ]
    }
   ],
   "source": [
    "%cd $model_id\n",
    "!tar zcvf model.tar.gz *\n",
    "!aws s3 cp model.tar.gz $s3_location\n",
    "#    upload: ./model.tar.gz to s3://sagemaker-us-east-1-558105141721/custom_inference/all-MiniLM-L6-v2/model.tar.gz"
   ]
  },
  {
   "cell_type": "code",
   "execution_count": 9,
   "id": "e389f992-128c-46d1-b4d9-2b122762ca32",
   "metadata": {
    "tags": []
   },
   "outputs": [
    {
     "data": {
      "text/plain": [
       "'s3://sagemaker-ap-south-1-005418323977/embedding_models/bge-large-en-v1.5/model.tar.gz'"
      ]
     },
     "execution_count": 9,
     "metadata": {},
     "output_type": "execute_result"
    }
   ],
   "source": [
    "s3_location"
   ]
  },
  {
   "cell_type": "code",
   "execution_count": 10,
   "id": "21b8a207-4a19-413f-b546-d28a6678c0a9",
   "metadata": {
    "tags": []
   },
   "outputs": [
    {
     "data": {
      "text/plain": [
       "'arn:aws:iam::005418323977:role/Sagemaker-endpoint-manager'"
      ]
     },
     "execution_count": 10,
     "metadata": {},
     "output_type": "execute_result"
    }
   ],
   "source": [
    "role"
   ]
  },
  {
   "cell_type": "code",
   "execution_count": 33,
   "id": "3fae3bfa-62fa-49dc-9dc2-7997b1f3ab7c",
   "metadata": {
    "tags": []
   },
   "outputs": [],
   "source": [
    "s3_location_1 = 's3://sagemaker-ap-south-1-005418323977/embedding_models/bge-small-en-v1.5/model.tar.gz'"
   ]
  },
  {
   "cell_type": "code",
   "execution_count": 73,
   "id": "e2901c8c-dac9-44a1-bf8c-8f3ef63da9b9",
   "metadata": {
    "tags": []
   },
   "outputs": [
    {
     "data": {
      "text/plain": [
       "'s3://sagemaker-ap-south-1-005418323977/embedding_models/bge-large-en-v1.5/model.tar.gz'"
      ]
     },
     "execution_count": 73,
     "metadata": {},
     "output_type": "execute_result"
    }
   ],
   "source": [
    "s3_location"
   ]
  },
  {
   "cell_type": "code",
   "execution_count": 74,
   "id": "a3ed5b7a-3ea4-499d-a153-5406d0e87145",
   "metadata": {
    "tags": []
   },
   "outputs": [
    {
     "name": "stdout",
     "output_type": "stream",
     "text": [
      "sagemaker.config INFO - Not applying SDK defaults from location: /Library/Application Support/sagemaker/config.yaml\n",
      "sagemaker.config INFO - Not applying SDK defaults from location: /Users/ravi.tej/Library/Application Support/sagemaker/config.yaml\n",
      "sagemaker.config INFO - Not applying SDK defaults from location: /Library/Application Support/sagemaker/config.yaml\n",
      "sagemaker.config INFO - Not applying SDK defaults from location: /Users/ravi.tej/Library/Application Support/sagemaker/config.yaml\n"
     ]
    }
   ],
   "source": [
    "from sagemaker.huggingface.model import HuggingFaceModel\n",
    "\n",
    "\n",
    "# create Hugging Face Model Class\n",
    "huggingface_model = HuggingFaceModel(\n",
    "   model_data=s3_location,       # path to your model and script\n",
    "   role=role,                    # iam role with permissions to create an Endpoint\n",
    "   transformers_version=\"4.12\",  # transformers version used\n",
    "   pytorch_version=\"1.9\",        # pytorch version used\n",
    "   py_version='py38',            # python version used\n",
    ")"
   ]
  },
  {
   "cell_type": "code",
   "execution_count": 13,
   "id": "ad269763-98f2-41c6-a9a6-d07ea787bbd3",
   "metadata": {
    "tags": []
   },
   "outputs": [],
   "source": [
    "from sagemaker.serverless import ServerlessInferenceConfig"
   ]
  },
  {
   "cell_type": "code",
   "execution_count": 75,
   "id": "29c18151-1a14-420c-8f62-074c37d57d87",
   "metadata": {
    "tags": []
   },
   "outputs": [
    {
     "name": "stdout",
     "output_type": "stream",
     "text": [
      "---!"
     ]
    }
   ],
   "source": [
    "\n",
    "# deploy the endpoint endpoint\n",
    "predictor = huggingface_model.deploy(\n",
    "    serverless_inference_config=ServerlessInferenceConfig(memory_size_in_mb=6144,max_concurrency=10)\n",
    "    )"
   ]
  },
  {
   "cell_type": "code",
   "execution_count": 76,
   "id": "768a7cc9-6b17-4970-8785-1f29af5420d6",
   "metadata": {
    "tags": []
   },
   "outputs": [
    {
     "data": {
      "text/plain": [
       "'huggingface-pytorch-inference-2023-10-30-13-16-43-720'"
      ]
     },
     "execution_count": 76,
     "metadata": {},
     "output_type": "execute_result"
    }
   ],
   "source": [
    "predictor.endpoint_name"
   ]
  },
  {
   "cell_type": "code",
   "execution_count": 43,
   "id": "494231c5-00d2-4f72-95fa-d0b3ba45786f",
   "metadata": {
    "tags": []
   },
   "outputs": [],
   "source": [
    "\n",
    "# # deploy the endpoint endpoint\n",
    "# predictor = huggingface_model.deploy(\n",
    "#     serverless_inference_config=ServerlessInferenceConfig(memory_size_in_mb=2048,max_concurrency=10)\n",
    "#     )"
   ]
  },
  {
   "cell_type": "code",
   "execution_count": 44,
   "id": "eebdc43c-79b0-4c90-8182-42b49666c421",
   "metadata": {
    "tags": []
   },
   "outputs": [],
   "source": [
    "# predictor.delete_endpoint()"
   ]
  },
  {
   "cell_type": "code",
   "execution_count": 62,
   "id": "2c3a73d7-9079-4eeb-94c5-a490f3c07444",
   "metadata": {
    "tags": []
   },
   "outputs": [],
   "source": [
    "# predictor.delete_endpoint()"
   ]
  },
  {
   "cell_type": "code",
   "execution_count": 45,
   "id": "59b61568-91c1-407b-9d04-a21d1d9ca83d",
   "metadata": {
    "tags": []
   },
   "outputs": [
    {
     "data": {
      "text/plain": [
       "'huggingface-pytorch-inference-2023-10-30-12-50-17-495'"
      ]
     },
     "execution_count": 45,
     "metadata": {},
     "output_type": "execute_result"
    }
   ],
   "source": [
    "predictor_1.endpoint_name"
   ]
  },
  {
   "cell_type": "code",
   "execution_count": 41,
   "id": "8674d86e-329e-4a2f-ae1e-4144353b4c58",
   "metadata": {
    "tags": []
   },
   "outputs": [],
   "source": [
    "# from sagemaker.huggingface import HuggingFaceModel\n",
    "# # Hub Model configuration. https://huggingface.co/models\n",
    "# hub = {\n",
    "#   'HF_MODEL_ID':'BAAI/bge-large-en-v1.5'\n",
    "# }\n",
    "# # create Hugging Face Model Class\n",
    "# huggingface_model = HuggingFaceModel(\n",
    "#     transformers_version='4.12',\n",
    "#     pytorch_version='1.9',\n",
    "#     py_version='py38',\n",
    "#     env=hub,\n",
    "#     role=role,\n",
    "# )"
   ]
  },
  {
   "cell_type": "code",
   "execution_count": 23,
   "id": "1fa11016-6633-4b28-af1b-1d3664e7769f",
   "metadata": {
    "tags": []
   },
   "outputs": [],
   "source": [
    "import requests"
   ]
  },
  {
   "cell_type": "code",
   "execution_count": 24,
   "id": "d96baffc-c63f-42a6-af43-2626d339f3f4",
   "metadata": {
    "tags": []
   },
   "outputs": [],
   "source": [
    "# deploy model to SageMaker Inference\n",
    "# huggingface_model = huggingface_model.deploy(serverless_inference_config=ServerlessInferenceConfig(memory_size_in_mb=2048,max_concurrency=1))"
   ]
  },
  {
   "cell_type": "code",
   "execution_count": 42,
   "id": "c5a146a8-10a4-457d-9a99-9a4a900f40f1",
   "metadata": {
    "tags": []
   },
   "outputs": [],
   "source": [
    "# r = requests.post('https://runtime.sagemaker.ap-south-1.amazonaws.com/endpoints/huggingface-pytorch-inference-2023-10-30-09-38-25-073/invocations')"
   ]
  },
  {
   "cell_type": "code",
   "execution_count": 28,
   "id": "8d933fd2-8228-4dd3-b616-ce3965c8b3bb",
   "metadata": {
    "tags": []
   },
   "outputs": [],
   "source": [
    "import boto3\n",
    "\n",
    "# Create a low-level client representing Amazon SageMaker Runtime\n",
    "sagemaker_runtime = boto3.client(\n",
    "    \"sagemaker-runtime\", region_name='ap-south-1')"
   ]
  },
  {
   "cell_type": "code",
   "execution_count": 78,
   "id": "0a1958a8-f416-48e7-b81e-6c2325d87d19",
   "metadata": {
    "tags": []
   },
   "outputs": [],
   "source": [
    "endpoint_name=predictor.endpoint_name"
   ]
  },
  {
   "cell_type": "code",
   "execution_count": 48,
   "id": "05139f26-5fc1-4394-8212-b475d1e20854",
   "metadata": {
    "tags": []
   },
   "outputs": [
    {
     "data": {
      "text/plain": [
       "b'{\"inputs\": \"what is the function of the will and there is a when\"}'"
      ]
     },
     "execution_count": 48,
     "metadata": {},
     "output_type": "execute_result"
    }
   ],
   "source": [
    "bytes('{\"inputs\": \"what is the function of the will and there is a when\"}', 'utf-8')"
   ]
  },
  {
   "cell_type": "code",
   "execution_count": 51,
   "id": "fcd52f06-6439-4a53-8a3b-4e6755489d00",
   "metadata": {
    "scrolled": true,
    "tags": []
   },
   "outputs": [
    {
     "data": {
      "text/plain": [
       "\u001b[0;31mSignature:\u001b[0m \u001b[0msagemaker_runtime\u001b[0m\u001b[0;34m.\u001b[0m\u001b[0minvoke_endpoint\u001b[0m\u001b[0;34m(\u001b[0m\u001b[0;34m*\u001b[0m\u001b[0margs\u001b[0m\u001b[0;34m,\u001b[0m \u001b[0;34m**\u001b[0m\u001b[0mkwargs\u001b[0m\u001b[0;34m)\u001b[0m\u001b[0;34m\u001b[0m\u001b[0;34m\u001b[0m\u001b[0m\n",
       "\u001b[0;31mDocstring:\u001b[0m\n",
       "After you deploy a model into production using Amazon SageMaker hosting services, your client applications use this API to get inferences from the model hosted at the specified endpoint.\n",
       "\n",
       " \n",
       "\n",
       "For an overview of Amazon SageMaker, see `How It Works <https://docs.aws.amazon.com/sagemaker/latest/dg/how-it-works.html>`__.\n",
       "\n",
       " \n",
       "\n",
       "Amazon SageMaker strips all POST headers except those supported by the API. Amazon SageMaker might add additional headers. You should not rely on the behavior of headers outside those enumerated in the request syntax.\n",
       "\n",
       " \n",
       "\n",
       "Calls to ``InvokeEndpoint`` are authenticated by using Amazon Web Services Signature Version 4. For information, see `Authenticating Requests (Amazon Web Services Signature Version 4) <https://docs.aws.amazon.com/AmazonS3/latest/API/sig-v4-authenticating-requests.html>`__ in the *Amazon S3 API Reference*.\n",
       "\n",
       " \n",
       "\n",
       "A customer's model containers must respond to requests within 60 seconds. The model itself can have a maximum processing time of 60 seconds before responding to invocations. If your model is going to take 50-60 seconds of processing time, the SDK socket timeout should be set to be 70 seconds.\n",
       "\n",
       " \n",
       "\n",
       ".. note::\n",
       "\n",
       "  \n",
       "\n",
       "  Endpoints are scoped to an individual account, and are not public. The URL does not contain the account ID, but Amazon SageMaker determines the account ID from the authentication token that is supplied by the caller.\n",
       "\n",
       "  \n",
       "\n",
       "\n",
       "\n",
       "See also: `AWS API Documentation <https://docs.aws.amazon.com/goto/WebAPI/runtime.sagemaker-2017-05-13/InvokeEndpoint>`_\n",
       "\n",
       "\n",
       "**Request Syntax**\n",
       "::\n",
       "\n",
       "  response = client.invoke_endpoint(\n",
       "      EndpointName='string',\n",
       "      Body=b'bytes'|file,\n",
       "      ContentType='string',\n",
       "      Accept='string',\n",
       "      CustomAttributes='string',\n",
       "      TargetModel='string',\n",
       "      TargetVariant='string',\n",
       "      TargetContainerHostname='string',\n",
       "      InferenceId='string',\n",
       "      EnableExplanations='string'\n",
       "  )\n",
       "  \n",
       ":type EndpointName: string\n",
       ":param EndpointName: **[REQUIRED]** \n",
       "\n",
       "  The name of the endpoint that you specified when you created the endpoint using the `CreateEndpoint <https://docs.aws.amazon.com/sagemaker/latest/dg/API_CreateEndpoint.html>`__ API.\n",
       "\n",
       "  \n",
       "\n",
       "\n",
       ":type Body: bytes or seekable file-like object\n",
       ":param Body: **[REQUIRED]** \n",
       "\n",
       "  Provides input data, in the format specified in the ``ContentType`` request header. Amazon SageMaker passes all of the data in the body to the model.\n",
       "\n",
       "   \n",
       "\n",
       "  For information about the format of the request body, see `Common Data Formats-Inference <https://docs.aws.amazon.com/sagemaker/latest/dg/cdf-inference.html>`__.\n",
       "\n",
       "  \n",
       "\n",
       "\n",
       ":type ContentType: string\n",
       ":param ContentType: \n",
       "\n",
       "  The MIME type of the input data in the request body.\n",
       "\n",
       "  \n",
       "\n",
       "\n",
       ":type Accept: string\n",
       ":param Accept: \n",
       "\n",
       "  The desired MIME type of the inference response from the model container.\n",
       "\n",
       "  \n",
       "\n",
       "\n",
       ":type CustomAttributes: string\n",
       ":param CustomAttributes: \n",
       "\n",
       "  Provides additional information about a request for an inference submitted to a model hosted at an Amazon SageMaker endpoint. The information is an opaque value that is forwarded verbatim. You could use this value, for example, to provide an ID that you can use to track a request or to provide other metadata that a service endpoint was programmed to process. The value must consist of no more than 1024 visible US-ASCII characters as specified in `Section 3.3.6. Field Value Components <https://datatracker.ietf.org/doc/html/rfc7230#section-3.2.6>`__ of the Hypertext Transfer Protocol (HTTP/1.1).\n",
       "\n",
       "   \n",
       "\n",
       "  The code in your model is responsible for setting or updating any custom attributes in the response. If your code does not set this value in the response, an empty value is returned. For example, if a custom attribute represents the trace ID, your model can prepend the custom attribute with ``Trace ID:`` in your post-processing function.\n",
       "\n",
       "   \n",
       "\n",
       "  This feature is currently supported in the Amazon Web Services SDKs but not in the Amazon SageMaker Python SDK.\n",
       "\n",
       "  \n",
       "\n",
       "\n",
       ":type TargetModel: string\n",
       ":param TargetModel: \n",
       "\n",
       "  The model to request for inference when invoking a multi-model endpoint.\n",
       "\n",
       "  \n",
       "\n",
       "\n",
       ":type TargetVariant: string\n",
       ":param TargetVariant: \n",
       "\n",
       "  Specify the production variant to send the inference request to when invoking an endpoint that is running two or more variants. Note that this parameter overrides the default behavior for the endpoint, which is to distribute the invocation traffic based on the variant weights.\n",
       "\n",
       "   \n",
       "\n",
       "  For information about how to use variant targeting to perform a/b testing, see `Test models in production <https://docs.aws.amazon.com/sagemaker/latest/dg/model-ab-testing.html>`__\n",
       "\n",
       "  \n",
       "\n",
       "\n",
       ":type TargetContainerHostname: string\n",
       ":param TargetContainerHostname: \n",
       "\n",
       "  If the endpoint hosts multiple containers and is configured to use direct invocation, this parameter specifies the host name of the container to invoke.\n",
       "\n",
       "  \n",
       "\n",
       "\n",
       ":type InferenceId: string\n",
       ":param InferenceId: \n",
       "\n",
       "  If you provide a value, it is added to the captured data when you enable data capture on the endpoint. For information about data capture, see `Capture Data <https://docs.aws.amazon.com/sagemaker/latest/dg/model-monitor-data-capture.html>`__.\n",
       "\n",
       "  \n",
       "\n",
       "\n",
       ":type EnableExplanations: string\n",
       ":param EnableExplanations: \n",
       "\n",
       "  An optional JMESPath expression used to override the ``EnableExplanations`` parameter of the ``ClarifyExplainerConfig`` API. See the `EnableExplanations <https://docs.aws.amazon.com/sagemaker/latest/dg/clarify-online-explainability-create-endpoint.html#clarify-online-explainability-create-endpoint-enable>`__ section in the developer guide for more information.\n",
       "\n",
       "  \n",
       "\n",
       "\n",
       "\n",
       ":rtype: dict\n",
       ":returns: \n",
       "  \n",
       "  **Response Syntax**\n",
       "\n",
       "  \n",
       "  ::\n",
       "\n",
       "    {\n",
       "        'Body': StreamingBody(),\n",
       "        'ContentType': 'string',\n",
       "        'InvokedProductionVariant': 'string',\n",
       "        'CustomAttributes': 'string'\n",
       "    }\n",
       "    \n",
       "  **Response Structure**\n",
       "\n",
       "  \n",
       "\n",
       "  - *(dict) --* \n",
       "    \n",
       "\n",
       "    - **Body** (:class:`.StreamingBody`) -- \n",
       "\n",
       "      Includes the inference provided by the model.\n",
       "\n",
       "       \n",
       "\n",
       "      For information about the format of the response body, see `Common Data Formats-Inference <https://docs.aws.amazon.com/sagemaker/latest/dg/cdf-inference.html>`__.\n",
       "\n",
       "       \n",
       "\n",
       "      If the explainer is activated, the body includes the explanations provided by the model. For more information, see the **Response section** under `Invoke the Endpoint <https://docs.aws.amazon.com/sagemaker/latest/dg/clarify-online-explainability-invoke-endpoint.html#clarify-online-explainability-response>`__ in the Developer Guide.\n",
       "\n",
       "      \n",
       "    \n",
       "\n",
       "    - **ContentType** *(string) --* \n",
       "\n",
       "      The MIME type of the inference returned from the model container.\n",
       "\n",
       "      \n",
       "    \n",
       "\n",
       "    - **InvokedProductionVariant** *(string) --* \n",
       "\n",
       "      Identifies the production variant that was invoked.\n",
       "\n",
       "      \n",
       "    \n",
       "\n",
       "    - **CustomAttributes** *(string) --* \n",
       "\n",
       "      Provides additional information in the response about the inference returned by a model hosted at an Amazon SageMaker endpoint. The information is an opaque value that is forwarded verbatim. You could use this value, for example, to return an ID received in the ``CustomAttributes`` header of a request or other metadata that a service endpoint was programmed to produce. The value must consist of no more than 1024 visible US-ASCII characters as specified in `Section 3.3.6. Field Value Components <https://tools.ietf.org/html/rfc7230#section-3.2.6>`__ of the Hypertext Transfer Protocol (HTTP/1.1). If the customer wants the custom attribute returned, the model must set the custom attribute to be included on the way back.\n",
       "\n",
       "       \n",
       "\n",
       "      The code in your model is responsible for setting or updating any custom attributes in the response. If your code does not set this value in the response, an empty value is returned. For example, if a custom attribute represents the trace ID, your model can prepend the custom attribute with ``Trace ID:`` in your post-processing function.\n",
       "\n",
       "       \n",
       "\n",
       "      This feature is currently supported in the Amazon Web Services SDKs but not in the Amazon SageMaker Python SDK.\n",
       "\n",
       "      \n",
       "\u001b[0;31mFile:\u001b[0m      ~/anaconda3/envs/recoenv/lib/python3.11/site-packages/botocore/client.py\n",
       "\u001b[0;31mType:\u001b[0m      method"
      ]
     },
     "metadata": {},
     "output_type": "display_data"
    }
   ],
   "source": [
    "sagemaker_runtime.invoke_endpoint?"
   ]
  },
  {
   "cell_type": "code",
   "execution_count": 79,
   "id": "4bf5c34f-12dd-4b1f-b08f-9ef89265d46b",
   "metadata": {
    "tags": []
   },
   "outputs": [],
   "source": [
    "response = sagemaker_runtime.invoke_endpoint(\n",
    "    EndpointName=endpoint_name, \n",
    "    Body=bytes('{\"inputs\": \"what is the function of the will and there is a when\"}', 'utf-8'),\n",
    "    ContentType = 'application/json'\n",
    "    )"
   ]
  },
  {
   "cell_type": "code",
   "execution_count": 80,
   "id": "f7991178-bd05-46da-8de5-9e7b0ad4613c",
   "metadata": {
    "tags": []
   },
   "outputs": [],
   "source": [
    "k = response['Body']"
   ]
  },
  {
   "cell_type": "code",
   "execution_count": 65,
   "id": "81422a49-575e-44b8-a722-10c85d348bf5",
   "metadata": {
    "tags": []
   },
   "outputs": [],
   "source": [
    "import json"
   ]
  },
  {
   "cell_type": "code",
   "execution_count": 81,
   "id": "3db0db51-98ef-40ec-9ae0-62d502ffdcec",
   "metadata": {
    "tags": []
   },
   "outputs": [],
   "source": [
    "my_json = json.loads(k.read())"
   ]
  },
  {
   "cell_type": "code",
   "execution_count": 84,
   "id": "3ca85a9a-ae9f-4cb4-a669-fb9bd426cc84",
   "metadata": {
    "tags": []
   },
   "outputs": [
    {
     "data": {
      "text/plain": [
       "1024"
      ]
     },
     "execution_count": 84,
     "metadata": {},
     "output_type": "execute_result"
    }
   ],
   "source": [
    "len(my_json['vectors'][0])"
   ]
  },
  {
   "cell_type": "code",
   "execution_count": 27,
   "id": "df6716d0-9da2-4369-85b2-d6cc560321eb",
   "metadata": {
    "tags": []
   },
   "outputs": [
    {
     "data": {
      "text/plain": [
       "'{\"message\":\"Missing Authentication Token\"}'"
      ]
     },
     "execution_count": 27,
     "metadata": {},
     "output_type": "execute_result"
    }
   ],
   "source": [
    "r.text"
   ]
  },
  {
   "cell_type": "code",
   "execution_count": null,
   "id": "dc351e5d-3196-4e22-b8cc-b99b610e4414",
   "metadata": {},
   "outputs": [],
   "source": []
  }
 ],
 "metadata": {
  "kernelspec": {
   "display_name": "recoenv",
   "language": "python",
   "name": "recoenv"
  },
  "language_info": {
   "codemirror_mode": {
    "name": "ipython",
    "version": 3
   },
   "file_extension": ".py",
   "mimetype": "text/x-python",
   "name": "python",
   "nbconvert_exporter": "python",
   "pygments_lexer": "ipython3",
   "version": "3.11.5"
  }
 },
 "nbformat": 4,
 "nbformat_minor": 5
}
