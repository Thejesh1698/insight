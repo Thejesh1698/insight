{
 "cells": [
  {
   "cell_type": "code",
   "execution_count": 1,
   "id": "d3ff2f04-0867-422d-a105-344cf9e34c23",
   "metadata": {
    "tags": []
   },
   "outputs": [
    {
     "name": "stderr",
     "output_type": "stream",
     "text": [
      "/var/folders/d4/cgyr_gnj7nn2wy_hq40gkq8c0000gq/T/ipykernel_16142/1083430745.py:4: UserWarning: \n",
      "The version_base parameter is not specified.\n",
      "Please specify a compatability version level, or None.\n",
      "Will assume defaults for version 1.1\n",
      "  with initialize(config_path=\"../../conf\"):\n"
     ]
    }
   ],
   "source": [
    "parent_folder = '/Users/ravi.tej/Desktop/ML/Recommendations/cambrian/'\n",
    "data_folder = parent_folder + 'data/'\n",
    "from hydra import compose, initialize\n",
    "with initialize(config_path=\"../../conf\"):\n",
    "    # Compose the configuration\n",
    "    cfg = compose(config_name=\"ClustersResetService.yaml\")\n",
    "\n",
    "import os\n",
    "\n",
    "import xml.etree.ElementTree as ET\n",
    "\n",
    "tree = ET.parse('../../conf/application.run.xml')\n",
    "root = tree.getroot()\n",
    "\n",
    "envs_element = root.find('./configuration/envs')\n",
    "for variable in envs_element.findall('env'):\n",
    "    name = variable.get('name')\n",
    "    value = variable.get('value')\n",
    "    os.environ[name] = value"
   ]
  },
  {
   "cell_type": "code",
   "execution_count": 2,
   "id": "aada9706-6561-452f-97f2-28b1074cb33f",
   "metadata": {
    "tags": []
   },
   "outputs": [
    {
     "name": "stderr",
     "output_type": "stream",
     "text": [
      "/Users/ravi.tej/anaconda3/envs/recoenv/lib/python3.11/site-packages/umap/distances.py:1063: NumbaDeprecationWarning: The 'nopython' keyword argument was not supplied to the 'numba.jit' decorator. The implicit default value for this argument is currently False, but it will be changed to True in Numba 0.59.0. See https://numba.readthedocs.io/en/stable/reference/deprecation.html#deprecation-of-object-mode-fall-back-behaviour-when-using-jit for details.\n",
      "  @numba.jit()\n",
      "/Users/ravi.tej/anaconda3/envs/recoenv/lib/python3.11/site-packages/umap/distances.py:1071: NumbaDeprecationWarning: The 'nopython' keyword argument was not supplied to the 'numba.jit' decorator. The implicit default value for this argument is currently False, but it will be changed to True in Numba 0.59.0. See https://numba.readthedocs.io/en/stable/reference/deprecation.html#deprecation-of-object-mode-fall-back-behaviour-when-using-jit for details.\n",
      "  @numba.jit()\n",
      "/Users/ravi.tej/anaconda3/envs/recoenv/lib/python3.11/site-packages/umap/distances.py:1086: NumbaDeprecationWarning: The 'nopython' keyword argument was not supplied to the 'numba.jit' decorator. The implicit default value for this argument is currently False, but it will be changed to True in Numba 0.59.0. See https://numba.readthedocs.io/en/stable/reference/deprecation.html#deprecation-of-object-mode-fall-back-behaviour-when-using-jit for details.\n",
      "  @numba.jit()\n",
      "/Users/ravi.tej/anaconda3/envs/recoenv/lib/python3.11/site-packages/umap/umap_.py:660: NumbaDeprecationWarning: The 'nopython' keyword argument was not supplied to the 'numba.jit' decorator. The implicit default value for this argument is currently False, but it will be changed to True in Numba 0.59.0. See https://numba.readthedocs.io/en/stable/reference/deprecation.html#deprecation-of-object-mode-fall-back-behaviour-when-using-jit for details.\n",
      "  @numba.jit()\n"
     ]
    }
   ],
   "source": [
    "import sys\n",
    "\n",
    "sys.path.append('/Users/ravi.tej/Desktop/ML/Recommendations/cambrian/')\n",
    "\n",
    "from src.clustering.ClustersResetService import ClustersResetService\n",
    "from src.clustering.ClusterAssignmentService import ClusterAssignmentService\n",
    "from sql.clustering.ClusteringSQL import ClusteringSQL"
   ]
  },
  {
   "cell_type": "code",
   "execution_count": 3,
   "id": "9c749eb1-3e6a-46cd-906c-cd862d201213",
   "metadata": {
    "tags": []
   },
   "outputs": [],
   "source": [
    "ca= ClusterAssignmentService()"
   ]
  },
  {
   "cell_type": "code",
   "execution_count": 4,
   "id": "e7d17ae9-596f-4f01-b36c-3bbd020d80af",
   "metadata": {
    "tags": []
   },
   "outputs": [
    {
     "data": {
      "text/plain": [
       "(168, 537)"
      ]
     },
     "execution_count": 4,
     "metadata": {},
     "output_type": "execute_result"
    }
   ],
   "source": [
    "ca.compute_save_cluster_id_for_article_id(article_id='650d15327946741de369232c')"
   ]
  },
  {
   "cell_type": "code",
   "execution_count": 9,
   "id": "667fd2fa-1e96-410a-9881-a2ffc062e256",
   "metadata": {
    "tags": []
   },
   "outputs": [
    {
     "data": {
      "text/plain": [
       "{289,\n",
       " 293,\n",
       " 297,\n",
       " 312,\n",
       " 379,\n",
       " 392,\n",
       " 421,\n",
       " 472,\n",
       " 484,\n",
       " 488,\n",
       " 493,\n",
       " 503,\n",
       " 511,\n",
       " 512,\n",
       " 515,\n",
       " 519,\n",
       " 526,\n",
       " 528,\n",
       " 530,\n",
       " 531,\n",
       " 537,\n",
       " 540}"
      ]
     },
     "execution_count": 9,
     "metadata": {},
     "output_type": "execute_result"
    }
   ],
   "source": [
    "set(ca.storyline_to_cluster.values())"
   ]
  },
  {
   "cell_type": "code",
   "execution_count": 4,
   "id": "fc7d9a62-1f63-4d16-a284-f3aea7f0c3ac",
   "metadata": {
    "tags": []
   },
   "outputs": [],
   "source": [
    "from src.embeddings._utils import __get_article_text_from_s3, __get_article_metadata_from_api"
   ]
  },
  {
   "cell_type": "code",
   "execution_count": 8,
   "id": "f2388f8a-c896-4e51-a00a-20d309745089",
   "metadata": {
    "tags": []
   },
   "outputs": [],
   "source": [
    "article_id = '650d159e7946741de369238f'"
   ]
  },
  {
   "cell_type": "code",
   "execution_count": 9,
   "id": "322d0dcd-f00d-4415-87d5-37406bfea307",
   "metadata": {
    "tags": []
   },
   "outputs": [],
   "source": [
    "url = f\"http://insight-user-app-beta-env.eba-rnrpvmin.ap-south-1.elasticbeanstalk.com/articles/{article_id}\""
   ]
  },
  {
   "cell_type": "code",
   "execution_count": 11,
   "id": "5ca3ff07-f226-47ab-9280-f2af9e23e5cd",
   "metadata": {
    "tags": []
   },
   "outputs": [],
   "source": [
    "import requests"
   ]
  },
  {
   "cell_type": "code",
   "execution_count": 12,
   "id": "76c41c79-8d53-40f2-a02b-2a576328928a",
   "metadata": {
    "tags": []
   },
   "outputs": [],
   "source": [
    "response = requests.get(url)"
   ]
  },
  {
   "cell_type": "code",
   "execution_count": 15,
   "id": "e07b5e0e-5b4a-4696-9b63-b923aed6e37f",
   "metadata": {
    "tags": []
   },
   "outputs": [
    {
     "data": {
      "text/plain": [
       "{'articleId': '650d15327946741de369232c',\n",
       " 'url': 'https://www.livemint.com/market/live-blog/coal-india-share-price-live-blog-for-22-sep-2023-11695350727833.html',\n",
       " 'title': 'Coal India share price Today Live Updates : Coal India Stocks Plummet in the Market | Mint',\n",
       " 'shortDescription': 'Coal India stock price went down today, 22 Sep 2023, by -1.37 %. The stock closed at 284.25 per share. The stock is currently trading at 280.35 per share. Investors should monitor Coal India stock price closely in the coming days and weeks to see how it reacts to the news.',\n",
       " 'publishedTime': '2023-09-22T08:15:27+05:30',\n",
       " 'lastUpdatedTime': '2023-09-22T09:32:46+05:30',\n",
       " 'tags': ['Coal India Share Price Live',\n",
       "  'Coal India Stock Price Live',\n",
       "  'Coal India Stock',\n",
       "  'Coal India Share'],\n",
       " 'articleImageUrl': 'https://www.livemint.com/lm-img/img/2023/05/04/600x338/The-Bombay-Stock-Exchange-in-Mumbai---Bloomberg-Ph_1683200468247_1683200494396.jpg',\n",
       " 'category': None,\n",
       " 'authors': ['Livemint'],\n",
       " 'isPremiumArticle': False,\n",
       " 'source': None}"
      ]
     },
     "execution_count": 15,
     "metadata": {},
     "output_type": "execute_result"
    }
   ],
   "source": [
    "__get_article_metadata_from_api('650d15327946741de369232c')"
   ]
  },
  {
   "cell_type": "code",
   "execution_count": 8,
   "id": "45b8347a-27b0-4041-8d19-b9d6a3d60672",
   "metadata": {
    "tags": []
   },
   "outputs": [
    {
     "data": {
      "text/plain": [
       "384"
      ]
     },
     "execution_count": 8,
     "metadata": {},
     "output_type": "execute_result"
    }
   ],
   "source": [
    "ca.embedding_size"
   ]
  },
  {
   "cell_type": "code",
   "execution_count": null,
   "id": "8e022fad-e6c4-4c98-b10f-d903fbaa0770",
   "metadata": {},
   "outputs": [],
   "source": []
  }
 ],
 "metadata": {
  "kernelspec": {
   "display_name": "recoenv",
   "language": "python",
   "name": "recoenv"
  },
  "language_info": {
   "codemirror_mode": {
    "name": "ipython",
    "version": 3
   },
   "file_extension": ".py",
   "mimetype": "text/x-python",
   "name": "python",
   "nbconvert_exporter": "python",
   "pygments_lexer": "ipython3",
   "version": "3.11.5"
  }
 },
 "nbformat": 4,
 "nbformat_minor": 5
}
