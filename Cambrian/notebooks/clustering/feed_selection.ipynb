{
 "cells": [
  {
   "cell_type": "code",
   "execution_count": 4,
   "id": "8686afbf-ea0b-4a9d-9e0e-e40da3839c6f",
   "metadata": {},
   "outputs": [
    {
     "name": "stderr",
     "output_type": "stream",
     "text": [
      "/Users/ravi.tej/anaconda3/envs/venv/lib/python3.11/site-packages/umap/distances.py:1063: NumbaDeprecationWarning: The 'nopython' keyword argument was not supplied to the 'numba.jit' decorator. The implicit default value for this argument is currently False, but it will be changed to True in Numba 0.59.0. See https://numba.readthedocs.io/en/stable/reference/deprecation.html#deprecation-of-object-mode-fall-back-behaviour-when-using-jit for details.\n",
      "  @numba.jit()\n",
      "/Users/ravi.tej/anaconda3/envs/venv/lib/python3.11/site-packages/umap/distances.py:1071: NumbaDeprecationWarning: The 'nopython' keyword argument was not supplied to the 'numba.jit' decorator. The implicit default value for this argument is currently False, but it will be changed to True in Numba 0.59.0. See https://numba.readthedocs.io/en/stable/reference/deprecation.html#deprecation-of-object-mode-fall-back-behaviour-when-using-jit for details.\n",
      "  @numba.jit()\n",
      "/Users/ravi.tej/anaconda3/envs/venv/lib/python3.11/site-packages/umap/distances.py:1086: NumbaDeprecationWarning: The 'nopython' keyword argument was not supplied to the 'numba.jit' decorator. The implicit default value for this argument is currently False, but it will be changed to True in Numba 0.59.0. See https://numba.readthedocs.io/en/stable/reference/deprecation.html#deprecation-of-object-mode-fall-back-behaviour-when-using-jit for details.\n",
      "  @numba.jit()\n",
      "/Users/ravi.tej/anaconda3/envs/venv/lib/python3.11/site-packages/umap/umap_.py:660: NumbaDeprecationWarning: The 'nopython' keyword argument was not supplied to the 'numba.jit' decorator. The implicit default value for this argument is currently False, but it will be changed to True in Numba 0.59.0. See https://numba.readthedocs.io/en/stable/reference/deprecation.html#deprecation-of-object-mode-fall-back-behaviour-when-using-jit for details.\n",
      "  @numba.jit()\n"
     ]
    }
   ],
   "source": [
    "from feed_utils import *"
   ]
  },
  {
   "cell_type": "code",
   "execution_count": 5,
   "id": "0b095ac5-a98f-4dcc-95d9-f3fa56f2e1ca",
   "metadata": {
    "tags": []
   },
   "outputs": [],
   "source": [
    "with open(\"ect_bge_small_search.dill\", \"rb\") as f:\n",
    "    ect_bge_small = dill.load(f)"
   ]
  },
  {
   "cell_type": "code",
   "execution_count": 6,
   "id": "6285dad0-bd41-41a3-b07a-39ab2a0fb9eb",
   "metadata": {
    "tags": []
   },
   "outputs": [],
   "source": [
    "bge_hierarchy = deepcopy(ect_bge_small.hierarchical_topics)\n",
    "bge_topic_hierarchy = TopicHierarchy(bge_hierarchy, ect_bge_small.bertopic_model.topics_)\n",
    "bge_levels = bge_topic_hierarchy.get_levels()\n",
    "num_points, points = bge_topic_hierarchy.get_raw_leaf_points()\n",
    "\n",
    "# Updating DataFrame as before\n",
    "bge_hierarchy['Level'] = bge_hierarchy['Parent_ID'].map(bge_levels)\n",
    "bge_hierarchy['num_points'] = bge_hierarchy['Parent_ID'].map(num_points)\n",
    "bge_hierarchy['points'] = bge_hierarchy['Parent_ID'].map(points)"
   ]
  },
  {
   "cell_type": "code",
   "execution_count": 7,
   "id": "1b0cbcfe-a30c-43cc-ab12-a2172444766b",
   "metadata": {
    "tags": []
   },
   "outputs": [],
   "source": [
    "root_index = bge_hierarchy['num_points'].argmax()\n",
    "root_parent_id = bge_hierarchy.iloc[root_index]['Parent_ID']"
   ]
  },
  {
   "cell_type": "code",
   "execution_count": 9,
   "id": "52fac1b5-65c1-48f9-937d-1a861bfa1872",
   "metadata": {
    "tags": []
   },
   "outputs": [
    {
     "data": {
      "text/plain": [
       "'1934'"
      ]
     },
     "execution_count": 9,
     "metadata": {},
     "output_type": "execute_result"
    }
   ],
   "source": [
    "root_parent_id"
   ]
  },
  {
   "cell_type": "code",
   "execution_count": 8,
   "id": "466e6863-85b3-4c87-bf47-a1d739558f4c",
   "metadata": {
    "tags": []
   },
   "outputs": [
    {
     "data": {
      "text/plain": [
       "34"
      ]
     },
     "execution_count": 8,
     "metadata": {},
     "output_type": "execute_result"
    }
   ],
   "source": [
    "balanced_clusters = get_balanced_clusters(bge_hierarchy,parent_id = root_parent_id, max_points = 5000)\n",
    "len(balanced_clusters)"
   ]
  },
  {
   "cell_type": "code",
   "execution_count": 9,
   "id": "12e68431-c752-4896-abdc-b141a6021861",
   "metadata": {
    "tags": []
   },
   "outputs": [],
   "source": [
    "balanced_clusters_df = bge_hierarchy[bge_hierarchy.Parent_ID.isin(balanced_clusters)]"
   ]
  },
  {
   "cell_type": "code",
   "execution_count": 10,
   "id": "05b741a1-384a-4477-b46b-89ba655371ae",
   "metadata": {
    "tags": []
   },
   "outputs": [],
   "source": [
    "assigned_clusters = assign_outliers_to_balanced_clusters(balanced_clusters_df=balanced_clusters_df,\n",
    "                                                        document_topic=ect_bge_small.bertopic_model.topics_,\n",
    "                                                        probabilities=ect_bge_small.bertopic_model.probabilities_)"
   ]
  },
  {
   "cell_type": "code",
   "execution_count": 11,
   "id": "7d05288d-9684-4958-bfd9-67c34b5e297f",
   "metadata": {
    "tags": []
   },
   "outputs": [
    {
     "data": {
      "text/html": [
       "<div>\n",
       "<style scoped>\n",
       "    .dataframe tbody tr th:only-of-type {\n",
       "        vertical-align: middle;\n",
       "    }\n",
       "\n",
       "    .dataframe tbody tr th {\n",
       "        vertical-align: top;\n",
       "    }\n",
       "\n",
       "    .dataframe thead th {\n",
       "        text-align: right;\n",
       "    }\n",
       "</style>\n",
       "<table border=\"1\" class=\"dataframe\">\n",
       "  <thead>\n",
       "    <tr style=\"text-align: right;\">\n",
       "      <th></th>\n",
       "      <th>original_index</th>\n",
       "      <th>new_cluster</th>\n",
       "      <th>total_probability</th>\n",
       "    </tr>\n",
       "  </thead>\n",
       "  <tbody>\n",
       "    <tr>\n",
       "      <th>0</th>\n",
       "      <td>0</td>\n",
       "      <td>1920</td>\n",
       "      <td>0.012067</td>\n",
       "    </tr>\n",
       "    <tr>\n",
       "      <th>1</th>\n",
       "      <td>1</td>\n",
       "      <td>1879</td>\n",
       "      <td>0.168825</td>\n",
       "    </tr>\n",
       "    <tr>\n",
       "      <th>2</th>\n",
       "      <td>2</td>\n",
       "      <td>1899</td>\n",
       "      <td>0.120623</td>\n",
       "    </tr>\n",
       "    <tr>\n",
       "      <th>3</th>\n",
       "      <td>3</td>\n",
       "      <td>1920</td>\n",
       "      <td>0.428434</td>\n",
       "    </tr>\n",
       "    <tr>\n",
       "      <th>4</th>\n",
       "      <td>4</td>\n",
       "      <td>1927</td>\n",
       "      <td>0.071728</td>\n",
       "    </tr>\n",
       "    <tr>\n",
       "      <th>...</th>\n",
       "      <td>...</td>\n",
       "      <td>...</td>\n",
       "      <td>...</td>\n",
       "    </tr>\n",
       "    <tr>\n",
       "      <th>67929</th>\n",
       "      <td>67929</td>\n",
       "      <td>1899</td>\n",
       "      <td>1.000000</td>\n",
       "    </tr>\n",
       "    <tr>\n",
       "      <th>67930</th>\n",
       "      <td>67930</td>\n",
       "      <td>1800</td>\n",
       "      <td>0.069228</td>\n",
       "    </tr>\n",
       "    <tr>\n",
       "      <th>67931</th>\n",
       "      <td>67931</td>\n",
       "      <td>1800</td>\n",
       "      <td>0.011845</td>\n",
       "    </tr>\n",
       "    <tr>\n",
       "      <th>67932</th>\n",
       "      <td>67932</td>\n",
       "      <td>1844</td>\n",
       "      <td>0.084591</td>\n",
       "    </tr>\n",
       "    <tr>\n",
       "      <th>67933</th>\n",
       "      <td>67933</td>\n",
       "      <td>1905</td>\n",
       "      <td>0.121850</td>\n",
       "    </tr>\n",
       "  </tbody>\n",
       "</table>\n",
       "<p>67934 rows × 3 columns</p>\n",
       "</div>"
      ],
      "text/plain": [
       "       original_index new_cluster  total_probability\n",
       "0                   0        1920           0.012067\n",
       "1                   1        1879           0.168825\n",
       "2                   2        1899           0.120623\n",
       "3                   3        1920           0.428434\n",
       "4                   4        1927           0.071728\n",
       "...               ...         ...                ...\n",
       "67929           67929        1899           1.000000\n",
       "67930           67930        1800           0.069228\n",
       "67931           67931        1800           0.011845\n",
       "67932           67932        1844           0.084591\n",
       "67933           67933        1905           0.121850\n",
       "\n",
       "[67934 rows x 3 columns]"
      ]
     },
     "execution_count": 11,
     "metadata": {},
     "output_type": "execute_result"
    }
   ],
   "source": [
    "assigned_clusters"
   ]
  },
  {
   "cell_type": "code",
   "execution_count": 12,
   "id": "7cf577dd-894e-457d-aa04-9b31bd90f842",
   "metadata": {
    "tags": []
   },
   "outputs": [],
   "source": [
    "tmp = assigned_clusters.groupby('new_cluster')['original_index'].apply(list)\n",
    "cluster_to_documents = {cluster: tmp[cluster] for cluster in tmp.keys()}"
   ]
  },
  {
   "cell_type": "code",
   "execution_count": 13,
   "id": "cbd8ee34-dcd8-47f6-985c-75d22f3e6982",
   "metadata": {
    "tags": []
   },
   "outputs": [],
   "source": [
    "candidate_keywords = ['mutual funds', 'indian economy', 'global economy', 'oil & gas', 'gold', \n",
    "                      'automobile sector', 'AI', 'retirement goals', 'taxation', 'credit health', \n",
    "                     'tech and startups', 'precious metals & commodities', 'government benefits',\n",
    "                     'forex & currency', 'IPOs, M&As', 'markets', 'investment basics', 'personal finance',\n",
    "                     'real estate guide', 'insurance']"
   ]
  },
  {
   "cell_type": "code",
   "execution_count": 14,
   "id": "0e86d476-8deb-4fc7-a8f0-f162e013c6c7",
   "metadata": {
    "tags": []
   },
   "outputs": [
    {
     "data": {
      "text/plain": [
       "20"
      ]
     },
     "execution_count": 14,
     "metadata": {},
     "output_type": "execute_result"
    }
   ],
   "source": [
    "len(candidate_keywords)"
   ]
  },
  {
   "cell_type": "code",
   "execution_count": 15,
   "id": "f736c6e1-03ce-4c28-b348-8602f5f3f535",
   "metadata": {
    "tags": []
   },
   "outputs": [],
   "source": [
    "# select random choice of interests between 3-10"
   ]
  },
  {
   "cell_type": "code",
   "execution_count": 16,
   "id": "792326f8-7a77-43de-a5d3-69fabddfc29b",
   "metadata": {
    "tags": []
   },
   "outputs": [],
   "source": [
    "probs = [np.log10(i) for i in range(3,11)]"
   ]
  },
  {
   "cell_type": "code",
   "execution_count": 17,
   "id": "3cd3a9c7-28c2-4e2a-be35-337df145e85b",
   "metadata": {
    "tags": []
   },
   "outputs": [],
   "source": [
    "def simulate_num_preferences():\n",
    "    rand_value = np.random.rand()\n",
    "    valid_idx = [idx for idx, val in enumerate(probs) if val >= rand_value]\n",
    "    return min(valid_idx) + 3"
   ]
  },
  {
   "cell_type": "code",
   "execution_count": 18,
   "id": "2a4fb86b-767a-435a-aadc-7a81a79aa57b",
   "metadata": {
    "tags": []
   },
   "outputs": [
    {
     "data": {
      "text/plain": [
       "3"
      ]
     },
     "execution_count": 18,
     "metadata": {},
     "output_type": "execute_result"
    }
   ],
   "source": [
    "simulate_num_preferences()"
   ]
  },
  {
   "cell_type": "code",
   "execution_count": 19,
   "id": "565307f5-a133-42de-be20-49661727d670",
   "metadata": {
    "tags": []
   },
   "outputs": [],
   "source": [
    "def simulate_topic_preferences(num_pref):\n",
    "    return np.random.choice(candidate_keywords, size=num_pref, replace = False)"
   ]
  },
  {
   "cell_type": "code",
   "execution_count": 20,
   "id": "26db7bec-7555-4b7d-9853-54ba1570962f",
   "metadata": {
    "tags": []
   },
   "outputs": [],
   "source": [
    "topics = simulate_topic_preferences(4)"
   ]
  },
  {
   "cell_type": "code",
   "execution_count": 21,
   "id": "1978102e-a243-4af5-9aa8-f52d110f9923",
   "metadata": {
    "tags": []
   },
   "outputs": [
    {
     "data": {
      "text/plain": [
       "array(['indian economy', 'government benefits', 'automobile sector',\n",
       "       'mutual funds'], dtype='<U29')"
      ]
     },
     "execution_count": 21,
     "metadata": {},
     "output_type": "execute_result"
    }
   ],
   "source": [
    "topics"
   ]
  },
  {
   "cell_type": "code",
   "execution_count": 22,
   "id": "bf7b9c4c-d688-4f91-b5d4-9e0c523d9dec",
   "metadata": {
    "tags": []
   },
   "outputs": [],
   "source": [
    "topic_cluster_map = {}\n",
    "for _, row in bge_hierarchy[bge_hierarchy.Parent_ID.isin(balanced_clusters)].iterrows():\n",
    "    for topic in row['Topics']:\n",
    "        topic_cluster_map[topic] = row['Parent_ID']"
   ]
  },
  {
   "cell_type": "code",
   "execution_count": 23,
   "id": "6426ab08-199d-4666-9cce-db7459081b08",
   "metadata": {
    "tags": []
   },
   "outputs": [],
   "source": [
    "from collections import defaultdict"
   ]
  },
  {
   "cell_type": "code",
   "execution_count": 27,
   "id": "217b4d3d-78df-419e-9b14-0c40e5485dae",
   "metadata": {
    "tags": []
   },
   "outputs": [],
   "source": [
    "def get_modified_similarity_score(score, idx):\n",
    "    position_scaling = (np.log10(idx + 2)/np.log10(5))\n",
    "    return ((score - 0.7)/(1 - 0.7))*min(1, 1/position_scaling)"
   ]
  },
  {
   "cell_type": "code",
   "execution_count": 28,
   "id": "a54ef960-63df-46ea-9598-a231dfac46c1",
   "metadata": {
    "tags": []
   },
   "outputs": [
    {
     "name": "stdout",
     "output_type": "stream",
     "text": [
      "1.01 µs ± 3.9 ns per loop (mean ± std. dev. of 7 runs, 1,000,000 loops each)\n"
     ]
    }
   ],
   "source": [
    "%timeit get_modified_similarity_score(0.756, 10)"
   ]
  },
  {
   "cell_type": "code",
   "execution_count": 29,
   "id": "d2de1edd-1b07-48a3-b95e-05009efae958",
   "metadata": {
    "tags": []
   },
   "outputs": [],
   "source": [
    "def get_cluster_scores_for_word(word):\n",
    "    similar_topics, similarity = ect_bge_small.bertopic_model.find_topics(word,top_n=10)\n",
    "    modified_similarity = [get_modified_similarity_score(original_score, idx) for idx, original_score in enumerate(similarity)]\n",
    "    similar_clusters = [topic_cluster_map[topic] if topic != -1 else -1 for topic in similar_topics]\n",
    "    result = defaultdict(float)  # Initialize a defaultdict with default value as float (0.0)\n",
    "    for cluster, sim in zip(similar_clusters, modified_similarity):\n",
    "        result[cluster] += sim\n",
    "    return result"
   ]
  },
  {
   "cell_type": "code",
   "execution_count": 53,
   "id": "9d88fa95-f0ac-427f-ba50-4a0b7e7fbe72",
   "metadata": {
    "tags": []
   },
   "outputs": [],
   "source": [
    "def update_cluster_priors_for_keyword(word, cluster_priors):\n",
    "    cluster_scores = get_cluster_scores_for_word(word)\n",
    "    for cluster in cluster_scores.keys():\n",
    "        if cluster == -1:\n",
    "            continue\n",
    "        else:\n",
    "            cluster_priors[cluster]['a'] = np.round(min(5, cluster_scores[cluster] + cluster_priors[cluster]['a']),2)\n",
    "    return cluster_priors"
   ]
  },
  {
   "cell_type": "code",
   "execution_count": 939,
   "id": "3cceb71e-3f82-4e19-8b85-dde889cf7463",
   "metadata": {
    "tags": []
   },
   "outputs": [
    {
     "data": {
      "text/plain": [
       "\u001b[0;31mType:\u001b[0m           BERTopic\n",
       "\u001b[0;31mString form:\u001b[0m    BERTopic(calculate_probabilities=True, ctfidf_model=ClassTfidfTransformer(...), embedding_model=< <...> None, top_n_words=10, umap_model=UMAP(...), vectorizer_model=CountVectorizer(...), verbose=False)\n",
       "\u001b[0;31mFile:\u001b[0m           ~/anaconda3/envs/venv/lib/python3.11/site-packages/bertopic/_bertopic.py\n",
       "\u001b[0;31mDocstring:\u001b[0m     \n",
       "BERTopic is a topic modeling technique that leverages BERT embeddings and\n",
       "c-TF-IDF to create dense clusters allowing for easily interpretable topics\n",
       "whilst keeping important words in the topic descriptions.\n",
       "\n",
       "The default embedding model is `all-MiniLM-L6-v2` when selecting `language=\"english\"`\n",
       "and `paraphrase-multilingual-MiniLM-L12-v2` when selecting `language=\"multilingual\"`.\n",
       "\n",
       "Attributes:\n",
       "    topics_ (List[int]) : The topics that are generated for each document after training or updating\n",
       "                          the topic model. The most recent topics are tracked.\n",
       "    probabilities_ (List[float]): The probability of the assigned topic per document. These are\n",
       "                                  only calculated if a HDBSCAN model is used for the clustering step.\n",
       "                                  When `calculate_probabilities=True`, then it is the probabilities\n",
       "                                  of all topics per document.\n",
       "    topic_sizes_ (Mapping[int, int]) : The size of each topic\n",
       "    topic_mapper_ (TopicMapper) : A class for tracking topics and their mappings anytime they are\n",
       "                                  merged, reduced, added, or removed.\n",
       "    topic_representations_ (Mapping[int, Tuple[int, float]]) : The top n terms per topic and their respective\n",
       "                                                               c-TF-IDF values.\n",
       "    c_tf_idf_ (csr_matrix) : The topic-term matrix as calculated through c-TF-IDF. To access its respective\n",
       "                             words, run `.vectorizer_model.get_feature_names()`  or\n",
       "                             `.vectorizer_model.get_feature_names_out()`\n",
       "    topic_labels_ (Mapping[int, str]) : The default labels for each topic.\n",
       "    custom_labels_ (List[str]) : Custom labels for each topic.\n",
       "    topic_embeddings_ (np.ndarray) : The embeddings for each topic. It is calculated by taking the\n",
       "                                     weighted average of word embeddings in a topic based on their c-TF-IDF values.\n",
       "    representative_docs_ (Mapping[int, str]) : The representative documents for each topic.\n",
       "\n",
       "Examples:\n",
       "\n",
       "```python\n",
       "from bertopic import BERTopic\n",
       "from sklearn.datasets import fetch_20newsgroups\n",
       "\n",
       "docs = fetch_20newsgroups(subset='all')['data']\n",
       "topic_model = BERTopic()\n",
       "topics, probabilities = topic_model.fit_transform(docs)\n",
       "```\n",
       "\n",
       "If you want to use your own embedding model, use it as follows:\n",
       "\n",
       "```python\n",
       "from bertopic import BERTopic\n",
       "from sklearn.datasets import fetch_20newsgroups\n",
       "from sentence_transformers import SentenceTransformer\n",
       "\n",
       "docs = fetch_20newsgroups(subset='all')['data']\n",
       "sentence_model = SentenceTransformer(\"all-MiniLM-L6-v2\")\n",
       "topic_model = BERTopic(embedding_model=sentence_model)\n",
       "```\n",
       "\n",
       "Due to the stochastisch nature of UMAP, the results from BERTopic might differ\n",
       "and the quality can degrade. Using your own embeddings allows you to\n",
       "try out BERTopic several times until you find the topics that suit\n",
       "you best.\n",
       "\u001b[0;31mInit docstring:\u001b[0m\n",
       "BERTopic initialization\n",
       "\n",
       "Arguments:\n",
       "    language: The main language used in your documents. The default sentence-transformers\n",
       "              model for \"english\" is `all-MiniLM-L6-v2`. For a full overview of\n",
       "              supported languages see bertopic.backend.languages. Select\n",
       "              \"multilingual\" to load in the `paraphrase-multilingual-MiniLM-L12-v2`\n",
       "              sentence-tranformers model that supports 50+ languages.\n",
       "              NOTE: This is not used if `embedding_model` is used. \n",
       "    top_n_words: The number of words per topic to extract. Setting this\n",
       "                 too high can negatively impact topic embeddings as topics\n",
       "                 are typically best represented by at most 10 words.\n",
       "    n_gram_range: The n-gram range for the CountVectorizer.\n",
       "                  Advised to keep high values between 1 and 3.\n",
       "                  More would likely lead to memory issues.\n",
       "                  NOTE: This param will not be used if you pass in your own\n",
       "                  CountVectorizer.\n",
       "    min_topic_size: The minimum size of the topic. Increasing this value will lead\n",
       "                    to a lower number of clusters/topics.\n",
       "                    NOTE: This param will not be used if you are not using HDBSCAN.\n",
       "    nr_topics: Specifying the number of topics will reduce the initial\n",
       "               number of topics to the value specified. This reduction can take\n",
       "               a while as each reduction in topics (-1) activates a c-TF-IDF\n",
       "               calculation. If this is set to None, no reduction is applied. Use\n",
       "               \"auto\" to automatically reduce topics using HDBSCAN.\n",
       "    low_memory: Sets UMAP low memory to True to make sure less memory is used.\n",
       "                NOTE: This is only used in UMAP. For example, if you use PCA instead of UMAP\n",
       "                this parameter will not be used.\n",
       "    calculate_probabilities: Calculate the probabilities of all topics\n",
       "                             per document instead of the probability of the assigned\n",
       "                             topic per document. This could slow down the extraction\n",
       "                             of topics if you have many documents (> 100_000). \n",
       "                             NOTE: If false you cannot use the corresponding\n",
       "                             visualization method `visualize_probabilities`.\n",
       "                             NOTE: This is an approximation of topic probabilities\n",
       "                             as used in HDBSCAN and not an exact representation.\n",
       "    seed_topic_list: A list of seed words per topic to converge around\n",
       "    verbose: Changes the verbosity of the model, Set to True if you want\n",
       "             to track the stages of the model.\n",
       "    embedding_model: Use a custom embedding model.\n",
       "                     The following backends are currently supported\n",
       "                       * SentenceTransformers\n",
       "                       * Flair\n",
       "                       * Spacy\n",
       "                       * Gensim\n",
       "                       * USE (TF-Hub)\n",
       "                     You can also pass in a string that points to one of the following\n",
       "                     sentence-transformers models:\n",
       "                       * https://www.sbert.net/docs/pretrained_models.html\n",
       "    umap_model: Pass in a UMAP model to be used instead of the default.\n",
       "                NOTE: You can also pass in any dimensionality reduction algorithm as long\n",
       "                as it has `.fit` and `.transform` functions.\n",
       "    hdbscan_model: Pass in a hdbscan.HDBSCAN model to be used instead of the default\n",
       "                   NOTE: You can also pass in any clustering algorithm as long as it has\n",
       "                   `.fit` and `.predict` functions along with the `.labels_` variable.\n",
       "    vectorizer_model: Pass in a custom `CountVectorizer` instead of the default model.\n",
       "    ctfidf_model: Pass in a custom ClassTfidfTransformer instead of the default model.\n",
       "    representation_model: Pass in a model that fine-tunes the topic representations \n",
       "                          calculated through c-TF-IDF. Models from `bertopic.representation`\n",
       "                          are supported."
      ]
     },
     "metadata": {},
     "output_type": "display_data"
    }
   ],
   "source": [
    "ect_bge_small.bertopic_model?"
   ]
  },
  {
   "cell_type": "code",
   "execution_count": 31,
   "id": "7eb0b184-0a6f-4746-a532-08e6631fd966",
   "metadata": {
    "tags": []
   },
   "outputs": [],
   "source": [
    "def simulate_cluster_preferences(topics):\n",
    "    cluster_priors = {cluster: {'a': 1, 'b': 2} for cluster in balanced_clusters}\n",
    "    for topic in topics:\n",
    "        cluster_priors = update_cluster_priors_for_keyword(topic, cluster_priors=cluster_priors)\n",
    "    return cluster_priors"
   ]
  },
  {
   "cell_type": "code",
   "execution_count": 76,
   "id": "83a797e3-70f1-46f5-bb4c-6352bbf92bfc",
   "metadata": {
    "tags": []
   },
   "outputs": [],
   "source": [
    "# from collections import defaultdict\n",
    "\n",
    "# def combine_cluster_scores(cluster_score_dicts):\n",
    "#     combined_scores = defaultdict(float)  # Initialize a defaultdict with default value as float (0.0)\n",
    "    \n",
    "#     for cluster_scores in cluster_score_dicts:\n",
    "#         for cluster, score in cluster_scores.items():\n",
    "#             combined_scores[cluster] = combined_scores.get(cluster, {'a': 1, 'b': 2})\n",
    "#             combined_scores[cluster]['a'] = min(5, combined_scores[cluster]['a'] + score['a'] - 1)\n",
    "            \n",
    "#     return combined_scores"
   ]
  },
  {
   "cell_type": "code",
   "execution_count": 74,
   "id": "64bc6751-ace2-4392-8d60-58d8e2979042",
   "metadata": {},
   "outputs": [],
   "source": [
    "# from concurrent.futures import ThreadPoolExecutor\n",
    "# from functools import partial\n",
    "\n",
    "\n",
    "# def update_cluster_priors_parallel(topic):\n",
    "#     global cluster_priors  # Ensure the function can access the global variable, or pass it explicitly\n",
    "#     return update_cluster_priors_for_keyword(topic, cluster_priors=cluster_priors)"
   ]
  },
  {
   "cell_type": "code",
   "execution_count": 75,
   "id": "d152a989-129b-4efa-9205-d5de28353e02",
   "metadata": {},
   "outputs": [],
   "source": [
    "# def parallize_stuff():\n",
    "#     cluster_priors = {cluster: {'a': 1, 'b': 2} for cluster in balanced_clusters}\n",
    "\n",
    "#     # with ThreadPoolExecutor() as executor:\n",
    "#     #     results = list(executor.map(update_cluster_priors_parallel, topics))\n",
    "#     with ThreadPoolExecutor() as executor:\n",
    "#         # f = partial(update_cluster_priors_for_keyword, cluster_priors=cluster_priors)\n",
    "#         # results = list(executor.map(f, topics))\n",
    "#         results = list(executor.map(update_cluster_priors_parallel, topics))\n",
    "\n",
    "#     # Combine results if needed\n",
    "#     updated_scores = combine_cluster_scores(results)"
   ]
  },
  {
   "cell_type": "code",
   "execution_count": 77,
   "id": "8c0ad249-dcc9-4250-b660-fe9d02681a48",
   "metadata": {
    "scrolled": true,
    "tags": []
   },
   "outputs": [
    {
     "data": {
      "text/plain": [
       "{'1927': {'a': 1, 'b': 2},\n",
       " '1862': {'a': 1, 'b': 2},\n",
       " '1781': {'a': 1, 'b': 2},\n",
       " '1891': {'a': 1, 'b': 2},\n",
       " '1826': {'a': 1, 'b': 2},\n",
       " '1873': {'a': 1, 'b': 2},\n",
       " '1870': {'a': 2.56, 'b': 2},\n",
       " '1732': {'a': 1, 'b': 2},\n",
       " '1904': {'a': 1.41, 'b': 2},\n",
       " '1414': {'a': 1, 'b': 2},\n",
       " '1815': {'a': 1, 'b': 2},\n",
       " '1905': {'a': 4.77, 'b': 2},\n",
       " '1902': {'a': 1, 'b': 2},\n",
       " '1882': {'a': 1.6, 'b': 2},\n",
       " '1899': {'a': 1, 'b': 2},\n",
       " '1555': {'a': 1, 'b': 2},\n",
       " '1304': {'a': 1, 'b': 2},\n",
       " '1637': {'a': 1, 'b': 2},\n",
       " '1844': {'a': 1, 'b': 2},\n",
       " '1290': {'a': 1, 'b': 2},\n",
       " '1800': {'a': 5.0, 'b': 2},\n",
       " '1785': {'a': 1.39, 'b': 2},\n",
       " '1568': {'a': 1, 'b': 2},\n",
       " '1547': {'a': 1, 'b': 2},\n",
       " '1822': {'a': 1.51, 'b': 2},\n",
       " '1790': {'a': 1, 'b': 2},\n",
       " '1887': {'a': 2.86, 'b': 2},\n",
       " '1823': {'a': 1, 'b': 2},\n",
       " '1879': {'a': 1, 'b': 2},\n",
       " '1774': {'a': 1, 'b': 2},\n",
       " '1652': {'a': 1, 'b': 2},\n",
       " '1920': {'a': 5, 'b': 2},\n",
       " '1236': {'a': 1, 'b': 2},\n",
       " '1784': {'a': 1, 'b': 2}}"
      ]
     },
     "execution_count": 77,
     "metadata": {},
     "output_type": "execute_result"
    }
   ],
   "source": [
    "simulate_cluster_preferences(topics)"
   ]
  },
  {
   "cell_type": "code",
   "execution_count": 59,
   "id": "99f266f4-8420-4da9-9bde-1bab0cee54ff",
   "metadata": {
    "tags": []
   },
   "outputs": [
    {
     "data": {
      "text/plain": [
       "array(['indian economy', 'government benefits', 'automobile sector',\n",
       "       'mutual funds'], dtype='<U29')"
      ]
     },
     "execution_count": 59,
     "metadata": {},
     "output_type": "execute_result"
    }
   ],
   "source": [
    "topics"
   ]
  },
  {
   "cell_type": "code",
   "execution_count": 34,
   "id": "ceb278a6-78a6-4546-87fa-9781dac4a77e",
   "metadata": {
    "tags": []
   },
   "outputs": [],
   "source": [
    "balanced_topic_names = {row['Parent_ID']: row['Parent_Name'] for index, row in bge_hierarchy[bge_hierarchy.Parent_ID.isin(balanced_clusters)][['Parent_ID','Parent_Name']].iterrows()}"
   ]
  },
  {
   "cell_type": "code",
   "execution_count": 35,
   "id": "f8eaf0bb-f609-4df2-946f-5226e89d89b0",
   "metadata": {
    "tags": []
   },
   "outputs": [],
   "source": [
    "cluster_preferences = simulate_cluster_preferences(topics)"
   ]
  },
  {
   "cell_type": "code",
   "execution_count": 38,
   "id": "2719a343-27ed-41c0-b00e-bd418a8d05ac",
   "metadata": {
    "tags": []
   },
   "outputs": [
    {
     "name": "stdout",
     "output_type": "stream",
     "text": [
      "37.8 ms ± 2.22 ms per loop (mean ± std. dev. of 7 runs, 10 loops each)\n"
     ]
    }
   ],
   "source": [
    "%timeit get_cluster_scores_for_word('indian economy')"
   ]
  },
  {
   "cell_type": "code",
   "execution_count": 78,
   "id": "b2d44836-2541-4598-ba9c-3122fec31474",
   "metadata": {
    "tags": []
   },
   "outputs": [
    {
     "name": "stdout",
     "output_type": "stream",
     "text": [
      "185 ms ± 6.07 ms per loop (mean ± std. dev. of 7 runs, 10 loops each)\n"
     ]
    }
   ],
   "source": [
    "%timeit simulate_cluster_preferences(topics)"
   ]
  },
  {
   "cell_type": "code",
   "execution_count": 546,
   "id": "ed296db1-f7a7-4588-be82-d6365c73aaf8",
   "metadata": {
    "tags": []
   },
   "outputs": [],
   "source": [
    "a = {'a': 1, 'b2': 2, 'c': 3}"
   ]
  },
  {
   "cell_type": "code",
   "execution_count": 557,
   "id": "70ee21c3-22f1-48f5-b530-47fe3b9b36d5",
   "metadata": {
    "tags": []
   },
   "outputs": [],
   "source": [
    "def simulate_all_user_preferences():\n",
    "    num_pref = simulate_num_preferences()\n",
    "    topics = simulate_topic_preferences(num_pref)\n",
    "    cluster_preferences = simulate_cluster_preferences(topics)\n",
    "    num_clusters = len(cluster_preferences)\n",
    "    default_b_value = np.round(np.log(num_clusters))\n",
    "    adjusted_preferences = {k: {'a': v['a'], 'b': default_b_value} for k, v in cluster_preferences.items()}\n",
    "    return topics, adjusted_preferences"
   ]
  },
  {
   "cell_type": "code",
   "execution_count": 558,
   "id": "d994856e-f56e-4114-bc37-62eb7fecc75a",
   "metadata": {
    "tags": []
   },
   "outputs": [],
   "source": [
    "def get_cluster_name_preferences(cluster_pref):\n",
    "    named_preferences = {balanced_topic_names[cluster]: cluster_pref[cluster] for cluster in cluster_pref.keys()}\n",
    "    sorted_named_preferences = {k: v['a'] for k, v in sorted(named_preferences.items(), key=lambda item: item[1]['a'], reverse=True)}\n",
    "    return sorted_named_preferences"
   ]
  },
  {
   "cell_type": "code",
   "execution_count": 884,
   "id": "ca31ec61-ad8a-45cb-b2cc-8ecf69ba82a2",
   "metadata": {
    "tags": []
   },
   "outputs": [],
   "source": [
    "t,c = simulate_all_user_preferences()"
   ]
  },
  {
   "cell_type": "code",
   "execution_count": 565,
   "id": "825c179b-a930-4592-b2d9-ebcea7493533",
   "metadata": {
    "tags": []
   },
   "outputs": [
    {
     "data": {
      "text/plain": [
       "[<matplotlib.lines.Line2D at 0x30b091350>]"
      ]
     },
     "execution_count": 565,
     "metadata": {},
     "output_type": "execute_result"
    },
    {
     "data": {
      "image/png": "[encoded data removed]",
      "text/plain": [
       "<Figure size 640x480 with 1 Axes>"
      ]
     },
     "metadata": {},
     "output_type": "display_data"
    }
   ],
   "source": [
    "from scipy.stats import beta\n",
    "\n",
    "import matplotlib.pyplot as plt\n",
    "\n",
    "fig, ax = plt.subplots(1, 1)\n",
    "\n",
    "a, b = 2,4\n",
    "x = np.linspace(beta.ppf(0.01, a, b), beta.ppf(0.99, a, b), 100)\n",
    "plt.plot(x, beta.pdf(x, a, b), 'r-', lw=5, alpha=0.6, label='beta pdf')"
   ]
  },
  {
   "cell_type": "code",
   "execution_count": 570,
   "id": "202bc6af-cf12-4c96-b13b-57b93b284baf",
   "metadata": {
    "tags": []
   },
   "outputs": [
    {
     "data": {
      "text/plain": [
       "array(['investment basics', 'precious metals & commodities', 'insurance'],\n",
       "      dtype='<U29')"
      ]
     },
     "execution_count": 570,
     "metadata": {},
     "output_type": "execute_result"
    }
   ],
   "source": [
    "t"
   ]
  },
  {
   "cell_type": "code",
   "execution_count": 569,
   "id": "f0731ace-2082-47d4-a9b5-862afc117188",
   "metadata": {
    "scrolled": true,
    "tags": []
   },
   "outputs": [
    {
     "data": {
      "text/plain": [
       "{'tax_sebi_insurance_income_mutual': 5,\n",
       " 'gold_fed_crude_inflation_rate': 3.62,\n",
       " 'zomato_ondc_earth_climate_esg': 1.88,\n",
       " 'multibagger_cap_fiis_cr_gdp': 1.77,\n",
       " 'bitcoin_crypto_ethereum_cryptocurrency_binance': 1.51,\n",
       " 'trump_pakistan_rupee_biden_imran': 1.37,\n",
       " 'estate_real_housing_residential_realty': 1.3,\n",
       " 'closed_yesterday_stock_reacts_monitor': 1,\n",
       " 'nifty_sensex_pts_indices_sgx': 1,\n",
       " 'adani_hindenburg_ports_group_enterprises': 1,\n",
       " 'vaishali_buy_parekh_sell_axis': 1,\n",
       " 'hindustan_dividend_vedanta_unilever_zinc': 1,\n",
       " 'credit_msmes_msme_upi_suisse': 1,\n",
       " 'profit_net_crore_revenue_quarter': 1,\n",
       " 'ipo_gmp_ikio_mankind_subscribed': 1,\n",
       " 'maruti_suzuki_hyundai_electric_hero': 1,\n",
       " 'apple_5g_oneplus_iphone_galaxy': 1,\n",
       " 'chatgpt_google_ai_twitter_musk': 1,\n",
       " 'vande_pawar_metro_train_imd': 1,\n",
       " 'covid_cases_xbb_omicron_virus': 1,\n",
       " 'visa_visas_1b_immigration_eb': 1,\n",
       " 'gaming_gambling_online_games_gamers': 1,\n",
       " 'campaign_film_brand_whatsapp_blockchain': 1,\n",
       " 'space_spacex_mission_nasa_rocket': 1,\n",
       " 'appoints_king_charles_harry_prince': 1,\n",
       " 'republic_jpmorgan_parade_dimon_jamie': 1,\n",
       " 'holidays_eid_holiday_adha_remain': 1,\n",
       " 'yoga_cancer_health_disease_healthcare': 1,\n",
       " 'ipl_match_runs_vs_csk': 1,\n",
       " 'coal_hydrogen_solar_power_mw': 1,\n",
       " 'ukraine_russia_wagner_russian_putin': 1,\n",
       " 'student_loan_programs_forgiveness_loans': 1,\n",
       " 'petrol_diesel_retailing_litre_cities': 1,\n",
       " 'codes_redeem_garena_max_fire': 1}"
      ]
     },
     "execution_count": 569,
     "metadata": {},
     "output_type": "execute_result"
    }
   ],
   "source": [
    "get_cluster_name_preferences(c)"
   ]
  },
  {
   "cell_type": "code",
   "execution_count": 508,
   "id": "7349adbb-4183-411f-a5be-a5ecc1cc1829",
   "metadata": {
    "tags": []
   },
   "outputs": [],
   "source": [
    "def get_num_documents_per_cluster(cluster_preferences, total_documents, mins_since_last_call):\n",
    "            \n",
    "#     if mins_since_last_call is None:\n",
    "#         temperature = 1/(1440 * 14)\n",
    "#     else:\n",
    "#         temperature = 1/mins_since_last_call\n",
    "        \n",
    "#     def sigmoid(a_value):\n",
    "#         k = 2\n",
    "#         mid_point = 3\n",
    "#         return np.round((1 / (1 + np.exp(-k * (a_value - mid_point)))) * 5)/5\n",
    "        \n",
    "#     def get_temperature_scaled_a_value(a):\n",
    "#         temperature_factor = np.log10(1/temperature)\n",
    "#         temperature_multiplier = sigmoid(a)\n",
    "#         return np.round((1 + temperature_factor * temperature_multiplier) * a,2)\n",
    "        \n",
    "    # c = deepcopy(cluster_preferences)\n",
    "    # cluster_wise_prob = {cluster: get_temperature_scaled_a_value(cluster_preferences[cluster]['a']) for cluster in c.keys()}\n",
    "    cluster_wise_prob = {cluster: np.round(np.random.beta(cluster_preferences[cluster]['a'],cluster_preferences[cluster]['b']),2) for cluster in c.keys()}\n",
    "    days_since_call = np.clip(np.ceil(mins_since_last_call/720)/2, 0.5, 14)\n",
    "    cluster_wise_proportion = {cluster: precomputed_values[cluster_wise_prob[cluster]][days_since_call] for cluster in cluster_wise_prob.keys()}\n",
    "    total_sum = sum(list(cluster_wise_proportion.values()))\n",
    "    if total_sum == 0:\n",
    "        cluster_wise_proportion = {cluster: precomputed_values[cluster_wise_prob[cluster]][1] for cluster in cluster_wise_prob.keys()}\n",
    "    cluster_wise_documents = {cluster: np.round(cluster_wise_proportion[cluster] * total_documents/total_sum) for cluster in cluster_wise_proportion.keys()}\n",
    "    print(np.sum(list(cluster_wise_documents.values())))\n",
    "    return cluster_wise_proportion"
   ]
  },
  {
   "cell_type": "markdown",
   "id": "bfe713ca-7848-49e3-b263-c9c7f898c7e1",
   "metadata": {
    "tags": []
   },
   "source": [
    "\n",
    "Characteristics of the cluster selection:\n",
    "\n",
    "- highly uniform only in certain cases even when scrolling and not the norm - let the users who are interested in a topic, sample the articles from that cluster\n",
    "- this should apply even when the number of clusters are far higher than the number of possible documents \n",
    "- the starting value of 'b' should be dependent on the number of clusters - more the number of clusters, more pessimistic i am about a random cluster"
   ]
  },
  {
   "cell_type": "code",
   "execution_count": 575,
   "id": "c7f91db1-155e-47d9-94cc-0005a4296b77",
   "metadata": {
    "tags": []
   },
   "outputs": [],
   "source": [
    "def get_num_documents_per_cluster(cluster_preferences, total_documents, mins_since_last_call):\n",
    "    def stochastic_round(x):\n",
    "        floor_val = np.floor(x)\n",
    "        prob = x - floor_val\n",
    "        return floor_val + (np.random.rand() < prob)\n",
    "    cluster_wise_prob = {cluster: np.round(np.random.beta(cluster_preferences[cluster]['a'],cluster_preferences[cluster]['b']),2) for cluster in c.keys()}\n",
    "    days_since_call = np.clip(np.ceil(mins_since_last_call/480), 10, 14)\n",
    "    cluster_wise_proportion = {cluster: precomputed_values[cluster_wise_prob[cluster]][days_since_call] for cluster in cluster_wise_prob.keys()}\n",
    "    total_sum = sum(list(cluster_wise_proportion.values()))\n",
    "    if total_sum == 0:\n",
    "        cluster_wise_proportion = {cluster: precomputed_values[cluster_wise_prob[cluster]][1] for cluster in cluster_wise_prob.keys()}\n",
    "#     cluster_wise_documents_float = {cluster: (cluster_wise_proportion[cluster] * total_documents / total_sum) for cluster in cluster_wise_proportion.keys()}\n",
    "    \n",
    "#     print(cluster_wise_documents_float)\n",
    "\n",
    "#     # Separate the integer and fractional parts\n",
    "#     cluster_wise_documents_int = {cluster: int(np.floor(val)) for cluster, val in cluster_wise_documents_float.items()}\n",
    "#     cluster_wise_documents_frac = {cluster: val - np.floor(val) for cluster, val in cluster_wise_documents_float.items()}\n",
    "\n",
    "#     # Calculate how many documents remain to be allocated\n",
    "#     remaining_documents = total_documents - sum(cluster_wise_documents_int.values())\n",
    "\n",
    "#     # Distribute the remaining documents based on the fractional parts\n",
    "#     for cluster, _ in sorted(cluster_wise_documents_frac.items(), key=lambda x: x[1], reverse=True)[:remaining_documents]:\n",
    "#         cluster_wise_documents_int[cluster] += 1\n",
    "    # Calculating cluster-wise documents without rounding first\n",
    "    cluster_wise_documents_float = {cluster: (cluster_wise_proportion[cluster] * total_documents / total_sum) for cluster in cluster_wise_proportion.keys()}\n",
    "\n",
    "    # Apply stochastic rounding to the calculated float values\n",
    "    cluster_wise_documents = {cluster: int(stochastic_round(val)) for cluster, val in cluster_wise_documents_float.items()}\n",
    "    print(cluster_wise_proportion)\n",
    "    cluster_wise_documents_int = {cluster: int(np.floor(cluster_wise_proportion[cluster] * total_documents / total_sum)) for cluster in cluster_wise_proportion.keys()}\n",
    "\n",
    "    # If the sum of the documents does not match total_documents due to stochastic rounding, you might want to adjust.\n",
    "    total_allocated = sum(cluster_wise_documents.values())\n",
    "    remaining_documents = total_documents - sum(cluster_wise_documents_int.values())\n",
    "    if total_allocated < total_documents:\n",
    "        # # Add the remaining to the clusters with highest fractional parts\n",
    "        # remaining_documents = total_documents - total_allocated\n",
    "        # cluster_wise_documents_frac = {cluster: val - np.floor(val) for cluster, val in cluster_wise_documents_float.items()}\n",
    "        # for cluster, _ in sorted(cluster_wise_documents_frac.items(), key=lambda x: x[1], reverse=True)[:remaining_documents]:\n",
    "        #     cluster_wise_documents[cluster] += 1\n",
    "        total_original_proportion = sum(cluster_wise_proportion.values())\n",
    "    \n",
    "        # Calculate the number of extra documents each cluster should receive based on the original proportions\n",
    "        extra_documents = {cluster: cluster_wise_proportion[cluster] / total_original_proportion * remaining_documents for cluster in cluster_wise_proportion.keys()}\n",
    "\n",
    "        # Sort clusters by the extra documents they should receive, and distribute the remaining documents\n",
    "        for cluster, _ in sorted(extra_documents.items(), key=lambda x: x[1], reverse=True)[:remaining_documents]:\n",
    "            cluster_wise_documents_int[cluster] += 1\n",
    "    # elif total_allocated > total_documents:\n",
    "    #     # Remove the extra from the clusters with lowest fractional parts\n",
    "    #     extra_documents = total_allocated - total_documents\n",
    "    #     cluster_wise_documents_frac = {cluster: val - np.floor(val) for cluster, val in cluster_wise_documents_float.items()}\n",
    "    #     for cluster, _ in sorted(cluster_wise_documents_frac.items(), key=lambda x: x[1])[:extra_documents]:\n",
    "    #         cluster_wise_documents[cluster] -= 1\n",
    "\n",
    "    return cluster_wise_documents"
   ]
  },
  {
   "cell_type": "markdown",
   "id": "3fd40e71-e641-49ac-a5ea-f577e5da90fa",
   "metadata": {},
   "source": [
    "#### cases to handle\n",
    "\n",
    "1. new user\n",
    "    - preferences provided and some clusters have 'a' value > 1\n",
    "    - preferences provided but no clusters have 'a' value > 1\n",
    "    - no preferences provided (same case as above)\n",
    "        - num documents > num clusters\n",
    "        - num clusters > num documents"
   ]
  },
  {
   "cell_type": "code",
   "execution_count": 720,
   "id": "300d0171-43ac-486f-98cf-08f6f0460642",
   "metadata": {
    "tags": []
   },
   "outputs": [
    {
     "data": {
      "text/plain": [
       "False"
      ]
     },
     "execution_count": 720,
     "metadata": {},
     "output_type": "execute_result"
    }
   ],
   "source": [
    "(np.random.rand() < 0.33)"
   ]
  },
  {
   "cell_type": "code",
   "execution_count": 738,
   "id": "50861396-bda3-4f05-ac68-a45053d08157",
   "metadata": {
    "tags": []
   },
   "outputs": [
    {
     "data": {
      "text/plain": [
       "3"
      ]
     },
     "execution_count": 738,
     "metadata": {},
     "output_type": "execute_result"
    }
   ],
   "source": [
    "2 + (np.random.rand() < 0.9)"
   ]
  },
  {
   "cell_type": "code",
   "execution_count": 739,
   "id": "e7fd18ee-abe3-47d3-bec3-62ff09c83468",
   "metadata": {
    "tags": []
   },
   "outputs": [
    {
     "data": {
      "text/plain": [
       "[]"
      ]
     },
     "execution_count": 739,
     "metadata": {},
     "output_type": "execute_result"
    }
   ],
   "source": [
    "list(range(-2))"
   ]
  },
  {
   "cell_type": "code",
   "execution_count": 916,
   "id": "0c95dd5e-5e06-4be6-b003-19024cc15a97",
   "metadata": {
    "tags": []
   },
   "outputs": [],
   "source": [
    "k = {'a': 1, 'b': 2}"
   ]
  },
  {
   "cell_type": "code",
   "execution_count": 919,
   "id": "02cc4d42-46d9-46a7-8fc3-f2ebb24a76fe",
   "metadata": {
    "tags": []
   },
   "outputs": [
    {
     "name": "stdout",
     "output_type": "stream",
     "text": [
      "a\n",
      "b\n"
     ]
    }
   ],
   "source": [
    "for v in k:\n",
    "    print(v)"
   ]
  },
  {
   "cell_type": "code",
   "execution_count": 940,
   "id": "7ae12b35-809a-4ebb-8814-89cf655c3831",
   "metadata": {
    "tags": []
   },
   "outputs": [],
   "source": [
    "from random import choice"
   ]
  },
  {
   "cell_type": "code",
   "execution_count": 942,
   "id": "f57298bd-10b5-4424-9431-251212be8d1f",
   "metadata": {
    "tags": []
   },
   "outputs": [],
   "source": [
    "def test_choice():\n",
    "    for i in range(10):\n",
    "        choice(list(range(100)))"
   ]
  },
  {
   "cell_type": "code",
   "execution_count": 943,
   "id": "886ba1dd-7fc6-4c6a-8b8e-ac104d9d50b3",
   "metadata": {
    "tags": []
   },
   "outputs": [
    {
     "name": "stdout",
     "output_type": "stream",
     "text": [
      "5.33 µs ± 110 ns per loop (mean ± std. dev. of 7 runs, 100,000 loops each)\n"
     ]
    }
   ],
   "source": [
    "%timeit test_choice()"
   ]
  },
  {
   "cell_type": "code",
   "execution_count": 944,
   "id": "c58b13e1-2a2f-48a5-8d2f-95adecec9c8f",
   "metadata": {
    "tags": []
   },
   "outputs": [
    {
     "name": "stdout",
     "output_type": "stream",
     "text": [
      "8 µs ± 1.14 µs per loop (mean ± std. dev. of 7 runs, 100,000 loops each)\n"
     ]
    }
   ],
   "source": [
    "%timeit np.random.choice(list(range(100)), 10, replace = False)"
   ]
  },
  {
   "cell_type": "code",
   "execution_count": 941,
   "id": "dd1ba49c-37ee-44ee-b0df-23d40d912b56",
   "metadata": {
    "tags": []
   },
   "outputs": [
    {
     "data": {
      "text/plain": [
       "2"
      ]
     },
     "execution_count": 941,
     "metadata": {},
     "output_type": "execute_result"
    }
   ],
   "source": [
    "choice([1,2,3])"
   ]
  },
  {
   "cell_type": "code",
   "execution_count": 957,
   "id": "99d4938e-f9b7-4651-9d45-7d2168d0fe1e",
   "metadata": {
    "tags": []
   },
   "outputs": [
    {
     "data": {
      "text/plain": [
       "0.5025003405291834"
      ]
     },
     "execution_count": 957,
     "metadata": {},
     "output_type": "execute_result"
    }
   ],
   "source": [
    "np.log2(340/240)"
   ]
  },
  {
   "cell_type": "code",
   "execution_count": 960,
   "id": "eac54166-8ec2-46cb-9d10-281834a76db7",
   "metadata": {
    "tags": []
   },
   "outputs": [],
   "source": [
    "log_probs = {}\n",
    "\n",
    "for prob in range(1, 1001):\n",
    "    prob = prob/1000\n",
    "    log_probs[prob] = np.log10(prob)"
   ]
  },
  {
   "cell_type": "code",
   "execution_count": 961,
   "id": "25444c6d-ce19-424a-a366-e1b918b4d980",
   "metadata": {
    "scrolled": true,
    "tags": []
   },
   "outputs": [
    {
     "data": {
      "text/plain": [
       "{0.001: -3.0,\n",
       " 0.002: -2.6989700043360187,\n",
       " 0.003: -2.5228787452803374,\n",
       " 0.004: -2.3979400086720375,\n",
       " 0.005: -2.3010299956639813,\n",
       " 0.006: -2.221848749616356,\n",
       " 0.007: -2.154901959985743,\n",
       " 0.008: -2.0969100130080562,\n",
       " 0.009: -2.0457574905606752,\n",
       " 0.01: -2.0,\n",
       " 0.011: -1.958607314841775,\n",
       " 0.012: -1.9208187539523751,\n",
       " 0.013: -1.8860566476931633,\n",
       " 0.014: -1.853871964321762,\n",
       " 0.015: -1.8239087409443189,\n",
       " 0.016: -1.7958800173440752,\n",
       " 0.017: -1.7695510786217261,\n",
       " 0.018: -1.744727494896694,\n",
       " 0.019: -1.7212463990471711,\n",
       " 0.02: -1.6989700043360187,\n",
       " 0.021: -1.6777807052660807,\n",
       " 0.022: -1.6575773191777938,\n",
       " 0.023: -1.6382721639824072,\n",
       " 0.024: -1.6197887582883939,\n",
       " 0.025: -1.6020599913279623,\n",
       " 0.026: -1.585026652029182,\n",
       " 0.027: -1.5686362358410126,\n",
       " 0.028: -1.5528419686577808,\n",
       " 0.029: -1.537602002101044,\n",
       " 0.03: -1.5228787452803376,\n",
       " 0.031: -1.5086383061657274,\n",
       " 0.032: -1.494850021680094,\n",
       " 0.033: -1.4814860601221125,\n",
       " 0.034: -1.4685210829577449,\n",
       " 0.035: -1.4559319556497243,\n",
       " 0.036: -1.4436974992327127,\n",
       " 0.037: -1.431798275933005,\n",
       " 0.038: -1.4202164033831899,\n",
       " 0.039: -1.408935392973501,\n",
       " 0.04: -1.3979400086720375,\n",
       " 0.041: -1.3872161432802645,\n",
       " 0.042: -1.3767507096020994,\n",
       " 0.043: -1.3665315444204136,\n",
       " 0.044: -1.3565473235138126,\n",
       " 0.045: -1.3467874862246563,\n",
       " 0.046: -1.337242168318426,\n",
       " 0.047: -1.3279021420642825,\n",
       " 0.048: -1.3187587626244128,\n",
       " 0.049: -1.3098039199714864,\n",
       " 0.05: -1.3010299956639813,\n",
       " 0.051: -1.2924298239020637,\n",
       " 0.052: -1.2839966563652008,\n",
       " 0.053: -1.275724130399211,\n",
       " 0.054: -1.2676062401770316,\n",
       " 0.055: -1.2596373105057561,\n",
       " 0.056: -1.2518119729937995,\n",
       " 0.057: -1.2441251443275085,\n",
       " 0.058: -1.2365720064370627,\n",
       " 0.059: -1.2291479883578558,\n",
       " 0.06: -1.2218487496163564,\n",
       " 0.061: -1.214670164989233,\n",
       " 0.062: -1.207608310501746,\n",
       " 0.063: -1.2006594505464183,\n",
       " 0.064: -1.193820026016113,\n",
       " 0.065: -1.1870866433571443,\n",
       " 0.066: -1.1804560644581312,\n",
       " 0.067: -1.1739251972991736,\n",
       " 0.068: -1.1674910872937636,\n",
       " 0.069: -1.1611509092627446,\n",
       " 0.07: -1.154901959985743,\n",
       " 0.071: -1.1487416512809248,\n",
       " 0.072: -1.1426675035687315,\n",
       " 0.073: -1.136677139879544,\n",
       " 0.074: -1.1307682802690238,\n",
       " 0.075: -1.1249387366083,\n",
       " 0.076: -1.1191864077192086,\n",
       " 0.077: -1.1135092748275182,\n",
       " 0.078: -1.1079053973095196,\n",
       " 0.079: -1.1023729087095586,\n",
       " 0.08: -1.0969100130080565,\n",
       " 0.081: -1.0915149811213503,\n",
       " 0.082: -1.0861861476162833,\n",
       " 0.083: -1.080921907623926,\n",
       " 0.084: -1.0757207139381184,\n",
       " 0.085: -1.0705810742857071,\n",
       " 0.086: -1.0655015487564323,\n",
       " 0.087: -1.0604807473813815,\n",
       " 0.088: -1.0555173278498313,\n",
       " 0.089: -1.0506099933550872,\n",
       " 0.09: -1.0457574905606752,\n",
       " 0.091: -1.0409586076789064,\n",
       " 0.092: -1.0362121726544447,\n",
       " 0.093: -1.031517051446065,\n",
       " 0.094: -1.0268721464003014,\n",
       " 0.095: -1.0222763947111522,\n",
       " 0.096: -1.0177287669604316,\n",
       " 0.097: -1.0132282657337552,\n",
       " 0.098: -1.0087739243075051,\n",
       " 0.099: -1.00436480540245,\n",
       " 0.1: -1.0,\n",
       " 0.101: -0.9956786262173574,\n",
       " 0.102: -0.9913998282380825,\n",
       " 0.103: -0.9871627752948278,\n",
       " 0.104: -0.9829666607012196,\n",
       " 0.105: -0.978810700930062,\n",
       " 0.106: -0.9746941347352298,\n",
       " 0.107: -0.9706162223147904,\n",
       " 0.108: -0.9665762445130504,\n",
       " 0.109: -0.9625735020593764,\n",
       " 0.11: -0.958607314841775,\n",
       " 0.111: -0.9546770212133425,\n",
       " 0.112: -0.9507819773298184,\n",
       " 0.113: -0.9469215565165803,\n",
       " 0.114: -0.9430951486635274,\n",
       " 0.115: -0.9393021596463883,\n",
       " 0.116: -0.9355420107730815,\n",
       " 0.117: -0.9318141382538383,\n",
       " 0.118: -0.9281179926938746,\n",
       " 0.119: -0.9244530386074693,\n",
       " 0.12: -0.9208187539523752,\n",
       " 0.121: -0.9172146296835499,\n",
       " 0.122: -0.9136401693252518,\n",
       " 0.123: -0.9100948885606021,\n",
       " 0.124: -0.906578314837765,\n",
       " 0.125: -0.9030899869919435,\n",
       " 0.126: -0.8996294548824371,\n",
       " 0.127: -0.8961962790440431,\n",
       " 0.128: -0.8927900303521317,\n",
       " 0.129: -0.889410289700751,\n",
       " 0.13: -0.8860566476931632,\n",
       " 0.131: -0.8827287043442357,\n",
       " 0.132: -0.8794260687941501,\n",
       " 0.133: -0.8761483590329142,\n",
       " 0.134: -0.8728952016351923,\n",
       " 0.135: -0.8696662315049939,\n",
       " 0.136: -0.8664610916297825,\n",
       " 0.137: -0.8632794328435932,\n",
       " 0.138: -0.8601209135987634,\n",
       " 0.139: -0.8569851997459049,\n",
       " 0.14: -0.8538719643217619,\n",
       " 0.141: -0.8507808873446201,\n",
       " 0.142: -0.8477116556169435,\n",
       " 0.143: -0.8446639625349383,\n",
       " 0.144: -0.8416375079047503,\n",
       " 0.145: -0.8386319977650252,\n",
       " 0.146: -0.835647144215563,\n",
       " 0.147: -0.8326826652518239,\n",
       " 0.148: -0.8297382846050426,\n",
       " 0.149: -0.826813731587726,\n",
       " 0.15: -0.8239087409443188,\n",
       " 0.151: -0.8210230527068306,\n",
       " 0.152: -0.8181564120552275,\n",
       " 0.153: -0.8153085691824012,\n",
       " 0.154: -0.8124792791635369,\n",
       " 0.155: -0.8096683018297085,\n",
       " 0.156: -0.8068754016455384,\n",
       " 0.157: -0.8041003475907662,\n",
       " 0.158: -0.8013429130455774,\n",
       " 0.159: -0.7986028756795485,\n",
       " 0.16: -0.7958800173440752,\n",
       " 0.161: -0.7931741239681502,\n",
       " 0.162: -0.790484985457369,\n",
       " 0.163: -0.7878123955960422,\n",
       " 0.164: -0.7851561519523022,\n",
       " 0.165: -0.7825160557860937,\n",
       " 0.166: -0.7798919119599449,\n",
       " 0.167: -0.7772835288524167,\n",
       " 0.168: -0.7746907182741372,\n",
       " 0.169: -0.7721132953863264,\n",
       " 0.17: -0.769551078621726,\n",
       " 0.171: -0.7670038896078462,\n",
       " 0.172: -0.7644715530924511,\n",
       " 0.173: -0.7619538968712046,\n",
       " 0.174: -0.7594507517174003,\n",
       " 0.175: -0.7569619513137056,\n",
       " 0.176: -0.7544873321858502,\n",
       " 0.177: -0.7520267336381934,\n",
       " 0.178: -0.7495799976911061,\n",
       " 0.179: -0.7471469690201068,\n",
       " 0.18: -0.744727494896694,\n",
       " 0.181: -0.7423214251308154,\n",
       " 0.182: -0.7399286120149252,\n",
       " 0.183: -0.7375489102695706,\n",
       " 0.184: -0.7351821769904635,\n",
       " 0.185: -0.7328282715969862,\n",
       " 0.186: -0.7304870557820837,\n",
       " 0.187: -0.7281583934635011,\n",
       " 0.188: -0.7258421507363202,\n",
       " 0.189: -0.7235381958267558,\n",
       " 0.19: -0.721246399047171,\n",
       " 0.191: -0.7189666327522725,\n",
       " 0.192: -0.7166987712964504,\n",
       " 0.193: -0.7144426909922262,\n",
       " 0.194: -0.712198270069774,\n",
       " 0.195: -0.7099653886374819,\n",
       " 0.196: -0.707743928643524,\n",
       " 0.197: -0.7055337738384071,\n",
       " 0.198: -0.7033348097384688,\n",
       " 0.199: -0.7011469235902933,\n",
       " 0.2: -0.6989700043360187,\n",
       " 0.201: -0.6968039425795111,\n",
       " 0.202: -0.6946486305533762,\n",
       " 0.203: -0.6925039620867871,\n",
       " 0.204: -0.6903698325741012,\n",
       " 0.205: -0.6882461389442457,\n",
       " 0.206: -0.6861327796308466,\n",
       " 0.207: -0.6840296545430823,\n",
       " 0.208: -0.6819366650372385,\n",
       " 0.209: -0.679853713888946,\n",
       " 0.21: -0.6777807052660807,\n",
       " 0.211: -0.6757175447023074,\n",
       " 0.212: -0.6736641390712486,\n",
       " 0.213: -0.6716203965612623,\n",
       " 0.214: -0.6695862266508091,\n",
       " 0.215: -0.6675615400843947,\n",
       " 0.216: -0.6655462488490691,\n",
       " 0.217: -0.6635402661514705,\n",
       " 0.218: -0.6615435063953952,\n",
       " 0.219: -0.6595558851598816,\n",
       " 0.22: -0.6575773191777937,\n",
       " 0.221: -0.6556077263148893,\n",
       " 0.222: -0.6536470255493614,\n",
       " 0.223: -0.6516951369518393,\n",
       " 0.224: -0.6497519816658371,\n",
       " 0.225: -0.6478174818886375,\n",
       " 0.226: -0.645891560852599,\n",
       " 0.227: -0.6439741428068773,\n",
       " 0.228: -0.6420651529995461,\n",
       " 0.229: -0.640164517660112,\n",
       " 0.23: -0.638272163982407,\n",
       " 0.231: -0.6363880201078557,\n",
       " 0.232: -0.6345120151091003,\n",
       " 0.233: -0.632644078973981,\n",
       " 0.234: -0.6307841425898572,\n",
       " 0.235: -0.6289321377282637,\n",
       " 0.236: -0.6270879970298935,\n",
       " 0.237: -0.6252516539898961,\n",
       " 0.238: -0.623423042943488,\n",
       " 0.239: -0.6216020990518624,\n",
       " 0.24: -0.619788758288394,\n",
       " 0.241: -0.6179829574251317,\n",
       " 0.242: -0.6161846340195687,\n",
       " 0.243: -0.6143937264016879,\n",
       " 0.244: -0.6126101736612706,\n",
       " 0.245: -0.6108339156354675,\n",
       " 0.246: -0.6090648928966209,\n",
       " 0.247: -0.6073030467403343,\n",
       " 0.248: -0.6055483191737837,\n",
       " 0.249: -0.6038006529042637,\n",
       " 0.25: -0.6020599913279624,\n",
       " 0.251: -0.6003262785189618,\n",
       " 0.252: -0.5985994592184559,\n",
       " 0.253: -0.5968794788241821,\n",
       " 0.254: -0.595166283380062,\n",
       " 0.255: -0.5934598195660448,\n",
       " 0.256: -0.5917600346881504,\n",
       " 0.257: -0.5900668766687055,\n",
       " 0.258: -0.5883802940367698,\n",
       " 0.259: -0.5867002359187482,\n",
       " 0.26: -0.585026652029182,\n",
       " 0.261: -0.583359492661719,\n",
       " 0.262: -0.5816987086802545,\n",
       " 0.263: -0.5800442515102421,\n",
       " 0.264: -0.5783960731301689,\n",
       " 0.265: -0.5767541260631921,\n",
       " 0.266: -0.575118363368933,\n",
       " 0.267: -0.5734887386354247,\n",
       " 0.268: -0.5718652059712112,\n",
       " 0.269: -0.5702477199975919,\n",
       " 0.27: -0.5686362358410126,\n",
       " 0.271: -0.5670307091255943,\n",
       " 0.272: -0.5654310959658012,\n",
       " 0.273: -0.563837352959244,\n",
       " 0.274: -0.562249437179612,\n",
       " 0.275: -0.5606673061697374,\n",
       " 0.276: -0.5590909179347823,\n",
       " 0.277: -0.5575202309355514,\n",
       " 0.278: -0.5559552040819237,\n",
       " 0.279: -0.5543957967264024,\n",
       " 0.28: -0.5528419686577808,\n",
       " 0.281: -0.5512936800949201,\n",
       " 0.282: -0.549750891680639,\n",
       " 0.283: -0.5482135644757098,\n",
       " 0.284: -0.5466816599529624,\n",
       " 0.285: -0.5451551399914898,\n",
       " 0.286: -0.543633966870957,\n",
       " 0.287: -0.5421181032660077,\n",
       " 0.288: -0.5406075122407692,\n",
       " 0.289: -0.5391021572434522,\n",
       " 0.29: -0.5376020021010439,\n",
       " 0.291: -0.5361070110140927,\n",
       " 0.292: -0.5346171485515817,\n",
       " 0.293: -0.5331323796458906,\n",
       " 0.294: -0.5316526695878427,\n",
       " 0.295: -0.530177984021837,\n",
       " 0.296: -0.5287082889410615,\n",
       " 0.297: -0.5272435506827877,\n",
       " 0.298: -0.5257837359237448,\n",
       " 0.299: -0.5243288116755703,\n",
       " 0.3: -0.5228787452803376,\n",
       " 0.301: -0.5214335044061567,\n",
       " 0.302: -0.5199930570428494,\n",
       " 0.303: -0.518557371497695,\n",
       " 0.304: -0.5171264163912462,\n",
       " 0.305: -0.5157001606532142,\n",
       " 0.306: -0.51427857351842,\n",
       " 0.307: -0.5128616245228135,\n",
       " 0.308: -0.5114492834995558,\n",
       " 0.309: -0.5100415205751654,\n",
       " 0.31: -0.5086383061657274,\n",
       " 0.311: -0.5072396109731625,\n",
       " 0.312: -0.5058454059815573,\n",
       " 0.313: -0.5044556624535516,\n",
       " 0.314: -0.5030703519267851,\n",
       " 0.315: -0.5016894462103995,\n",
       " 0.316: -0.5003129173815962,\n",
       " 0.317: -0.4989407377822485,\n",
       " 0.318: -0.4975728800155673,\n",
       " 0.319: -0.4962093169428189,\n",
       " 0.32: -0.494850021680094,\n",
       " 0.321: -0.4934949675951279,\n",
       " 0.322: -0.4921441283041691,\n",
       " 0.323: -0.4907974776688971,\n",
       " 0.324: -0.48945498979338786,\n",
       " 0.325: -0.4881166390211256,\n",
       " 0.326: -0.48678239993206096,\n",
       " 0.327: -0.4854522473397139,\n",
       " 0.328: -0.4841261562883209,\n",
       " 0.329: -0.48280410205002566,\n",
       " 0.33: -0.4814860601221125,\n",
       " 0.331: -0.48017200622428124,\n",
       " 0.332: -0.4788619162959637,\n",
       " 0.333: -0.4775557664936801,\n",
       " 0.334: -0.4762535331884355,\n",
       " 0.335: -0.47495519296315475,\n",
       " 0.336: -0.4736607226101559,\n",
       " 0.337: -0.47237009912866135,\n",
       " 0.338: -0.47108329972234525,\n",
       " 0.339: -0.4698003017969178,\n",
       " 0.34: -0.46852108295774486,\n",
       " 0.341: -0.4672456210075022,\n",
       " 0.342: -0.46597389394386496,\n",
       " 0.343: -0.46470587995722945,\n",
       " 0.344: -0.46344155742846993,\n",
       " 0.345: -0.4621809049267259,\n",
       " 0.346: -0.46092390120722343,\n",
       " 0.347: -0.4596705252091263,\n",
       " 0.348: -0.4584207560534191,\n",
       " 0.349: -0.45717457304082015,\n",
       " 0.35: -0.4559319556497244,\n",
       " 0.351: -0.4546928835341759,\n",
       " 0.352: -0.453457336521869,\n",
       " 0.353: -0.4522252946121775,\n",
       " 0.354: -0.4509967379742122,\n",
       " 0.355: -0.44977164694490596,\n",
       " 0.356: -0.44855000202712486,\n",
       " 0.357: -0.4473317838878068,\n",
       " 0.358: -0.44611697335612566,\n",
       " 0.359: -0.44490555142168087,\n",
       " 0.36: -0.44369749923271273,\n",
       " 0.361: -0.4424927980943421,\n",
       " 0.362: -0.4412914294668343,\n",
       " 0.363: -0.4400933749638875,\n",
       " 0.364: -0.438898616350944,\n",
       " 0.365: -0.4377071355435253,\n",
       " 0.366: -0.43651891460558934,\n",
       " 0.367: -0.4353339357479107,\n",
       " 0.368: -0.43415218132648237,\n",
       " 0.369: -0.4329736338409396,\n",
       " 0.37: -0.431798275933005,\n",
       " 0.371: -0.43062609038495414,\n",
       " 0.372: -0.4294570601181025,\n",
       " 0.373: -0.4282911681913124,\n",
       " 0.374: -0.42712839779951983,\n",
       " 0.375: -0.42596873227228116,\n",
       " 0.376: -0.42481215507233894,\n",
       " 0.377: -0.42365864979420714,\n",
       " 0.378: -0.4225082001627747,\n",
       " 0.379: -0.42136079003192767,\n",
       " 0.38: -0.42021640338318983,\n",
       " 0.381: -0.4190750243243807,\n",
       " 0.382: -0.41793663708829126,\n",
       " 0.383: -0.41680122603137726,\n",
       " 0.384: -0.4156687756324692,\n",
       " 0.385: -0.4145392704914993,\n",
       " 0.386: -0.41341269532824504,\n",
       " 0.387: -0.4122890349810886,\n",
       " 0.388: -0.41116827440579273,\n",
       " 0.389: -0.41005039867429227,\n",
       " 0.39: -0.4089353929735008,\n",
       " 0.391: -0.40782324260413316,\n",
       " 0.392: -0.4067139329795427,\n",
       " 0.393: -0.4056074496245733,\n",
       " 0.394: -0.40450377817442584,\n",
       " 0.395: -0.40340290437353976,\n",
       " 0.396: -0.40230481407448765,\n",
       " 0.397: -0.40120949323688493,\n",
       " 0.398: -0.40011692792631215,\n",
       " 0.399: -0.3990271043132517,\n",
       " 0.4: -0.3979400086720376,\n",
       " 0.401: -0.39685562737981767,\n",
       " 0.402: -0.3957739469155299,\n",
       " 0.403: -0.39469495385889053,\n",
       " 0.404: -0.393618634889395,\n",
       " 0.405: -0.3925449767853314,\n",
       " 0.406: -0.39147396642280585,\n",
       " 0.407: -0.39040559077478,\n",
       " 0.408: -0.3893398369101201,\n",
       " 0.409: -0.38827669199265824,\n",
       " 0.41: -0.38721614328026455,\n",
       " 0.411: -0.38615817812393083,\n",
       " 0.412: -0.3851027839668654,\n",
       " 0.413: -0.384049948343599,\n",
       " 0.414: -0.3829996588791011,\n",
       " 0.415: -0.3819519032879073,\n",
       " 0.416: -0.3809066693732573,\n",
       " 0.417: -0.3798639450262425,\n",
       " 0.418: -0.3788237182249648,\n",
       " 0.419: -0.3777859770337047,\n",
       " 0.42: -0.37675070960209955,\n",
       " 0.421: -0.3757179041643317,\n",
       " 0.422: -0.37468754903832613,\n",
       " 0.423: -0.37365963262495766,\n",
       " 0.424: -0.37263414340726736,\n",
       " 0.425: -0.37161106994968846,\n",
       " 0.426: -0.37059040089728107,\n",
       " 0.427: -0.36957212497497616,\n",
       " 0.428: -0.368556230986828,\n",
       " 0.429: -0.36754270781527576,\n",
       " 0.43: -0.36653154442041347,\n",
       " 0.431: -0.3655227298392684,\n",
       " 0.432: -0.3645162531850879,\n",
       " 0.433: -0.36351210364663455,\n",
       " 0.434: -0.3625102704874893,\n",
       " 0.435: -0.3615107430453627,\n",
       " 0.436: -0.36051351073141397,\n",
       " 0.437: -0.3595185630295782,\n",
       " 0.438: -0.3585258894959005,\n",
       " 0.439: -0.35753547975787864,\n",
       " 0.44: -0.3565473235138126,\n",
       " 0.441: -0.35556141053216145,\n",
       " 0.442: -0.3545777306509081,\n",
       " 0.443: -0.3535962737769304,\n",
       " 0.444: -0.3526170298853802,\n",
       " 0.445: -0.3516399890190684,\n",
       " 0.446: -0.35066514128785814,\n",
       " 0.447: -0.34969247686806354,\n",
       " 0.448: -0.348721986001856,\n",
       " 0.449: -0.3477536589966768,\n",
       " 0.45: -0.3467874862246563,\n",
       " 0.451: -0.34582345812203946,\n",
       " 0.452: -0.3448615651886179,\n",
       " 0.453: -0.34390179798716813,\n",
       " 0.454: -0.34294414714289606,\n",
       " 0.455: -0.34198860334288755,\n",
       " 0.456: -0.341035157335565,\n",
       " 0.457: -0.34008379993014975,\n",
       " 0.458: -0.3391345219961308,\n",
       " 0.459: -0.33818731446273875,\n",
       " 0.46: -0.3372421683184259,\n",
       " 0.461: -0.33629907461035186,\n",
       " 0.462: -0.33535802444387447,\n",
       " 0.463: -0.33441900898204685,\n",
       " 0.464: -0.3334820194451191,\n",
       " 0.465: -0.33254704711004607,\n",
       " 0.466: -0.3316140833099998,\n",
       " 0.467: -0.33068311943388784,\n",
       " 0.468: -0.32975414692587596,\n",
       " 0.469: -0.32882715728491674,\n",
       " 0.47: -0.3279021420642826,\n",
       " 0.471: -0.3269790928711038,\n",
       " 0.472: -0.32605800136591223,\n",
       " 0.473: -0.32513885926218844,\n",
       " 0.474: -0.324221658325915,\n",
       " 0.475: -0.3233063903751334,\n",
       " 0.476: -0.32239304727950685,\n",
       " 0.477: -0.3214816209598861,\n",
       " 0.478: -0.3205721033878811,\n",
       " 0.479: -0.3196644865854368,\n",
       " 0.48: -0.3187587626244128,\n",
       " 0.481: -0.31785492362616824,\n",
       " 0.482: -0.31695296176115045,\n",
       " 0.483: -0.31605286924848786,\n",
       " 0.484: -0.31515463835558755,\n",
       " 0.485: -0.3142582613977364,\n",
       " 0.486: -0.3133637307377066,\n",
       " 0.487: -0.3124710387853657,\n",
       " 0.488: -0.3115801779972894,\n",
       " 0.489: -0.3106911408763798,\n",
       " 0.49: -0.3098039199714863,\n",
       " 0.491: -0.3089185078770315,\n",
       " 0.492: -0.30803489723263966,\n",
       " 0.493: -0.30715308072277,\n",
       " 0.494: -0.30627305107635305,\n",
       " 0.495: -0.3053948010664313,\n",
       " 0.496: -0.30451832350980257,\n",
       " 0.497: -0.3036436112666679,\n",
       " 0.498: -0.30277065724028246,\n",
       " 0.499: -0.3018994543766101,\n",
       " 0.5: -0.3010299956639812,\n",
       " 0.501: -0.30016227413275426,\n",
       " 0.502: -0.29929628285498067,\n",
       " 0.503: -0.2984320149440726,\n",
       " 0.504: -0.2975694635544747,\n",
       " 0.505: -0.2967086218813386,\n",
       " 0.506: -0.2958494831602009,\n",
       " 0.507: -0.294992040666664,\n",
       " 0.508: -0.29413628771608075,\n",
       " 0.509: -0.29328221766324125,\n",
       " 0.51: -0.2924298239020636,\n",
       " 0.511: -0.29157909986528724,\n",
       " 0.512: -0.2907300390241692,\n",
       " 0.513: -0.2898826348881837,\n",
       " 0.514: -0.28903688100472424,\n",
       " 0.515: -0.28819277095880896,\n",
       " 0.516: -0.28735029837278864,\n",
       " 0.517: -0.2865094569060575,\n",
       " 0.518: -0.28567024025476695,\n",
       " 0.519: -0.28483264215154214,\n",
       " 0.52: -0.28399665636520083,\n",
       " 0.521: -0.2831622767004755,\n",
       " 0.522: -0.28232949699773785,\n",
       " 0.523: -0.2814983111327257,\n",
       " 0.524: -0.28066871301627333,\n",
       " 0.525: -0.2798406965940431,\n",
       " 0.526: -0.27901425584626094,\n",
       " 0.527: -0.27818938478745336,\n",
       " 0.528: -0.27736607746618774,\n",
       " 0.529: -0.2765443279648142,\n",
       " 0.53: -0.27572413039921095,\n",
       " 0.531: -0.2749054789185309,\n",
       " 0.532: -0.2740883677049518,\n",
       " 0.533: -0.2732727909734277,\n",
       " 0.534: -0.27245874297144357,\n",
       " 0.535: -0.27164621797877153,\n",
       " 0.536: -0.27083521030722996,\n",
       " 0.537: -0.27002571430044436,\n",
       " 0.538: -0.2692177243336108,\n",
       " 0.539: -0.2684112348132613,\n",
       " 0.54: -0.26760624017703144,\n",
       " 0.541: -0.26680273489343054,\n",
       " 0.542: -0.266000713461613,\n",
       " 0.543: -0.265200170411153,\n",
       " 0.544: -0.26440110030182007,\n",
       " 0.545: -0.2636034977233575,\n",
       " 0.546: -0.2628073572952627,\n",
       " 0.547: -0.2620126736665692,\n",
       " 0.548: -0.2612194415156308,\n",
       " 0.549: -0.26042765554990804,\n",
       " 0.55: -0.2596373105057561,\n",
       " 0.551: -0.2588484011482149,\n",
       " 0.552: -0.2580609222708011,\n",
       " 0.553: -0.2572748686953017,\n",
       " 0.554: -0.2564902352715702,\n",
       " 0.555: -0.2557070168773237,\n",
       " 0.556: -0.2549252084179425,\n",
       " 0.557: -0.25414480482627105,\n",
       " 0.558: -0.25336580106242124,\n",
       " 0.559: -0.25258819211357664,\n",
       " 0.56: -0.25181197299379954,\n",
       " 0.561: -0.25103713874383854,\n",
       " 0.562: -0.2502636844309389,\n",
       " 0.563: -0.24949160514865382,\n",
       " 0.564: -0.24872089601665776,\n",
       " 0.565: -0.2479515521805615,\n",
       " 0.566: -0.24718356881172862,\n",
       " 0.567: -0.24641694110709345,\n",
       " 0.568: -0.24565166428898116,\n",
       " 0.569: -0.24488773360492885,\n",
       " 0.57: -0.24412514432750865,\n",
       " 0.571: -0.243363891754152,\n",
       " 0.572: -0.24260397120697583,\n",
       " 0.573: -0.24184537803261005,\n",
       " 0.574: -0.2410881076020265,\n",
       " 0.575: -0.24033215531036956,\n",
       " 0.576: -0.239577516576788,\n",
       " 0.577: -0.2388241868442686,\n",
       " 0.578: -0.23807216157947098,\n",
       " 0.579: -0.23732143627256383,\n",
       " 0.58: -0.23657200643706275,\n",
       " 0.581: -0.2358238676096693,\n",
       " 0.582: -0.23507701535011155,\n",
       " 0.583: -0.23433144524098595,\n",
       " 0.584: -0.23358715288760054,\n",
       " 0.585: -0.23284413391781958,\n",
       " 0.586: -0.23210238398190938,\n",
       " 0.587: -0.23136189875238555,\n",
       " 0.588: -0.23062267392386154,\n",
       " 0.589: -0.2298847052128984,\n",
       " 0.59: -0.22914798835785583,\n",
       " 0.591: -0.22841251911874466,\n",
       " 0.592: -0.22767829327708025,\n",
       " 0.593: -0.22694530663573742,\n",
       " 0.594: -0.22621355501880647,\n",
       " 0.595: -0.22548303427145044,\n",
       " 0.596: -0.22475374025976358,\n",
       " 0.597: -0.22402566887063094,\n",
       " 0.598: -0.22329881601158919,\n",
       " 0.599: -0.22257317761068865,\n",
       " 0.6: -0.2218487496163564,\n",
       " 0.601: -0.22112552799726048,\n",
       " 0.602: -0.22040350874217546,\n",
       " 0.603: -0.2196826878598487,\n",
       " 0.604: -0.21896306137886817,\n",
       " 0.605: -0.2182446253475311,\n",
       " 0.606: -0.21752737583371382,\n",
       " 0.607: -0.21681130892474243,\n",
       " 0.608: -0.21609642072726507,\n",
       " 0.609: -0.21538270736712464,\n",
       " 0.61: -0.21467016498923297,\n",
       " 0.611: -0.21395878975744578,\n",
       " 0.612: -0.21324857785443882,\n",
       " 0.613: -0.21253952548158497,\n",
       " 0.614: -0.21183162885883233,\n",
       " 0.615: -0.21112488422458328,\n",
       " 0.616: -0.21041928783557454,\n",
       " 0.617: -0.20971483596675833,\n",
       " 0.618: -0.20901152491118416,\n",
       " 0.619: -0.208309350979882,\n",
       " 0.62: -0.20760831050174613,\n",
       " 0.621: -0.20690839982341983,\n",
       " 0.622: -0.2062096153091813,\n",
       " 0.623: -0.2055119533408304,\n",
       " 0.624: -0.20481541031757602,\n",
       " 0.625: -0.2041199826559248,\n",
       " 0.626: -0.20342566678957033,\n",
       " 0.627: -0.20273245916928356,\n",
       " 0.628: -0.20204035626280387,\n",
       " 0.629: -0.20134935455473107,\n",
       " 0.63: -0.2006594505464183,\n",
       " 0.631: -0.19997064075586568,\n",
       " 0.632: -0.19928292171761497,\n",
       " 0.633: -0.1985962899826449,\n",
       " 0.634: -0.1979107421182673,\n",
       " 0.635: -0.1972262747080243,\n",
       " 0.636: -0.19654288435158612,\n",
       " 0.637: -0.19586056766464957,\n",
       " 0.638: -0.19517932127883766,\n",
       " 0.639: -0.19449914184159983,\n",
       " 0.64: -0.1938200260161128,\n",
       " 0.641: -0.19314197048118256,\n",
       " 0.642: -0.19246497193114673,\n",
       " 0.643: -0.1917890270757779,\n",
       " 0.644: -0.1911141326401879,\n",
       " 0.645: -0.19044028536473223,\n",
       " 0.646: -0.1897674820049159,\n",
       " 0.647: -0.1890957193312996,\n",
       " 0.648: -0.18842499412940666,\n",
       " 0.649: -0.18775530319963074,\n",
       " 0.65: -0.18708664335714442,\n",
       " 0.651: -0.18641901143180803,\n",
       " 0.652: -0.1857524042680798,\n",
       " 0.653: -0.18508681872492605,\n",
       " 0.654: -0.18442225167573273,\n",
       " 0.655: -0.18375870000821692,\n",
       " 0.656: -0.1830961606243397,\n",
       " 0.657: -0.1824346304402192,\n",
       " 0.658: -0.1817741063860445,\n",
       " 0.659: -0.18111458540599013,\n",
       " 0.66: -0.1804560644581313,\n",
       " 0.661: -0.17979854051435976,\n",
       " 0.662: -0.17914201056030005,\n",
       " 0.663: -0.17848647159522685,\n",
       " 0.664: -0.1778319206319825,\n",
       " 0.665: -0.17717835469689538,\n",
       " 0.666: -0.17652577082969892,\n",
       " 0.667: -0.17587416608345102,\n",
       " 0.668: -0.1752235375244543,\n",
       " 0.669: -0.17457388223217687,\n",
       " 0.67: -0.17392519729917355,\n",
       " 0.671: -0.17327747983100789,\n",
       " 0.672: -0.17263072694617473,\n",
       " 0.673: -0.1719849357760231,\n",
       " 0.674: -0.17134010346468015,\n",
       " 0.675: -0.17069622716897506,\n",
       " 0.676: -0.17005330405836405,\n",
       " 0.677: -0.16941133131485567,\n",
       " 0.678: -0.16877030613293661,\n",
       " 0.679: -0.1681302257194983,\n",
       " 0.68: -0.16749108729376366,\n",
       " 0.681: -0.16685288808721482,\n",
       " 0.682: -0.16621562534352105,\n",
       " 0.683: -0.1655792963184674,\n",
       " 0.684: -0.16494389827988373,\n",
       " 0.685: -0.1643094285075744,\n",
       " 0.686: -0.16367588429324828,\n",
       " 0.687: -0.16304326294044955,\n",
       " 0.688: -0.16241156176448873,\n",
       " 0.689: -0.1617807780923742,\n",
       " 0.69: -0.16115090926274472,\n",
       " 0.691: -0.16052195262580163,\n",
       " 0.692: -0.15989390554324223,\n",
       " 0.693: -0.1592667653881933,\n",
       " 0.694: -0.15864052954514513,\n",
       " 0.695: -0.15801519540988615,\n",
       " 0.696: -0.15739076038943792,\n",
       " 0.697: -0.1567672219019906,\n",
       " 0.698: -0.15614457737683893,\n",
       " 0.699: -0.15552282425431863,\n",
       " 0.7: -0.1549019599857432,\n",
       " 0.701: -0.15428198203334137,\n",
       " 0.702: -0.15366288787019475,\n",
       " 0.703: -0.15304467498017607,\n",
       " 0.704: -0.1524273408578878,\n",
       " 0.705: -0.15181088300860132,\n",
       " 0.706: -0.15119529894819625,\n",
       " 0.707: -0.1505805862031006,\n",
       " 0.708: -0.149966742310231,\n",
       " 0.709: -0.1493537648169335,\n",
       " 0.71: -0.14874165128092473,\n",
       " 0.711: -0.14813039927023372,\n",
       " 0.712: -0.14752000636314366,\n",
       " 0.713: -0.14691047014813446,\n",
       " 0.714: -0.14630178822382564,\n",
       " 0.715: -0.1456939581989194,\n",
       " 0.716: -0.14508697769214446,\n",
       " 0.717: -0.1444808443321999,\n",
       " 0.718: -0.14387555575769967,\n",
       " 0.719: -0.14327110961711742,\n",
       " 0.72: -0.14266750356873156,\n",
       " 0.721: -0.14206473528057098,\n",
       " 0.722: -0.14146280243036088,\n",
       " 0.723: -0.1408617027054692,\n",
       " 0.724: -0.1402614338028531,\n",
       " 0.725: -0.13966199342900631,\n",
       " 0.726: -0.1390633792999063,\n",
       " 0.727: -0.1384655891409622,\n",
       " 0.728: -0.13786862068696282,\n",
       " 0.729: -0.1372724716820254,\n",
       " 0.73: -0.1366771398795441,\n",
       " 0.731: -0.13608262304213956,\n",
       " 0.732: -0.13548891894160814,\n",
       " 0.733: -0.13489602535887207,\n",
       " 0.734: -0.13430394008392949,\n",
       " 0.735: -0.1337126609158051,\n",
       " 0.736: -0.13312218566250114,\n",
       " 0.737: -0.13253251214094852,\n",
       " 0.738: -0.13194363817695845,\n",
       " 0.739: -0.13135556160517428,\n",
       " 0.74: -0.13076828026902382,\n",
       " 0.741: -0.13018179202067184,\n",
       " 0.742: -0.12959609472097294,\n",
       " 0.743: -0.1290111862394247,\n",
       " 0.744: -0.1284270644541213,\n",
       " 0.745: -0.12784372725170717,\n",
       " 0.746: -0.1272611725273312,\n",
       " 0.747: -0.12667939818460122,\n",
       " 0.748: -0.12609840213553863,\n",
       " 0.749: -0.12551818230053352,\n",
       " 0.75: -0.12493873660829995,\n",
       " 0.751: -0.1243600629958316,\n",
       " 0.752: -0.12378215940835775,\n",
       " 0.753: -0.12320502379929942,\n",
       " 0.754: -0.12262865413022594,\n",
       " 0.755: -0.12205304837081175,\n",
       " 0.756: -0.12147820449879346,\n",
       " 0.757: -0.12090412049992724,\n",
       " 0.758: -0.12033079436794646,\n",
       " 0.759: -0.11975822410451964,\n",
       " 0.76: -0.11918640771920865,\n",
       " 0.761: -0.11861534322942717,\n",
       " 0.762: -0.1180450286603995,\n",
       " 0.763: -0.11747546204511952,\n",
       " 0.764: -0.11690664142431006,\n",
       " 0.765: -0.11633856484638239,\n",
       " 0.766: -0.11577123036739606,\n",
       " 0.767: -0.11520463605101904,\n",
       " 0.768: -0.114638779968488,\n",
       " 0.769: -0.11407366019856895,\n",
       " 0.77: -0.11350927482751812,\n",
       " 0.771: -0.11294562194904302,\n",
       " 0.772: -0.11238269966426384,\n",
       " 0.773: -0.11182050608167508,\n",
       " 0.774: -0.11125903931710739,\n",
       " 0.775: -0.1106982974936897,\n",
       " 0.776: -0.11013827874181155,\n",
       " 0.777: -0.10957898119908573,\n",
       " 0.778: -0.10902040301031106,\n",
       " 0.779: -0.10846254232743553,\n",
       " 0.78: -0.10790539730951958,\n",
       " 0.781: -0.10734896612269966,\n",
       " 0.782: -0.10679324694015198,\n",
       " 0.783: -0.10623823794205658,\n",
       " 0.784: -0.10568393731556154,\n",
       " 0.785: -0.10513034325474745,\n",
       " 0.786: -0.10457745396059209,\n",
       " 0.787: -0.10402526764093542,\n",
       " 0.788: -0.10347378251044466,\n",
       " 0.789: -0.10292299679057967,\n",
       " 0.79: -0.10237290870955855,\n",
       " 0.791: -0.10182351650232342,\n",
       " 0.792: -0.10127481841050648,\n",
       " 0.793: -0.10072681268239618,\n",
       " 0.794: -0.10017949757290372,\n",
       " 0.795: -0.09963287134352969,\n",
       " 0.796: -0.09908693226233094,\n",
       " 0.797: -0.09854167860388763,\n",
       " 0.798: -0.09799710864927055,\n",
       " 0.799: -0.09745322068600858,\n",
       " 0.8: -0.09691001300805639,\n",
       " 0.801: -0.09636748391576232,\n",
       " 0.802: -0.09582563171583647,\n",
       " 0.803: -0.09528445472131904,\n",
       " 0.804: -0.0947439512515487,\n",
       " 0.805: -0.09420411963213146,\n",
       " 0.806: -0.09366495819490933,\n",
       " 0.807: -0.09312646527792956,\n",
       " 0.808: -0.09258863922541381,\n",
       " 0.809: -0.09205147838772766,\n",
       " 0.81: -0.09151498112135022,\n",
       " 0.811: -0.09097914578884395,\n",
       " 0.812: -0.09044397075882467,\n",
       " 0.813: -0.08990945440593186,\n",
       " 0.814: -0.0893755951107988,\n",
       " 0.815: -0.08884239126002341,\n",
       " 0.816: -0.08830984124613889,\n",
       " 0.817: -0.08777794346758454,\n",
       " 0.818: -0.08724669632867703,\n",
       " 0.819: -0.08671609823958155,\n",
       " 0.82: -0.08618614761628333,\n",
       " 0.821: -0.08565684288055925,\n",
       " 0.822: -0.08512818245994963,\n",
       " 0.823: -0.08460016478773018,\n",
       " 0.824: -0.08407278830288423,\n",
       " 0.825: -0.08354605145007493,\n",
       " 0.826: -0.0830199526796178,\n",
       " 0.827: -0.08249449044745336,\n",
       " 0.828: -0.08196966321511988,\n",
       " 0.829: -0.08144546944972647,\n",
       " 0.83: -0.08092190762392612,\n",
       " 0.831: -0.08039897621588903,\n",
       " 0.832: -0.07987667370927608,\n",
       " 0.833: -0.07935499859321243,\n",
       " 0.834: -0.0788339493622613,\n",
       " 0.835: -0.07831352451639793,\n",
       " 0.836: -0.07779372256098363,\n",
       " 0.837: -0.07727454200674003,\n",
       " 0.838: -0.07675598136972352,\n",
       " 0.839: -0.07623803917129975,\n",
       " 0.84: -0.07572071393811836,\n",
       " 0.841: -0.07520400420208784,\n",
       " 0.842: -0.07468790850035051,\n",
       " 0.843: -0.07417242537525769,\n",
       " 0.844: -0.07365755337434496,\n",
       " 0.845: -0.07314329105030767,\n",
       " 0.846: -0.07262963696097648,\n",
       " 0.847: -0.0721165896692931,\n",
       " 0.848: -0.07160414774328619,\n",
       " 0.849: -0.07109230975604734,\n",
       " 0.85: -0.07058107428570728,\n",
       " 0.851: -0.07007043991541213,\n",
       " 0.852: -0.0695604052332999,\n",
       " 0.853: -0.06905096883247698,\n",
       " 0.854: -0.06854212931099495,\n",
       " 0.855: -0.06803388527182737,\n",
       " 0.856: -0.06752623532284678,\n",
       " 0.857: -0.06701917807680184,\n",
       " 0.858: -0.06651271215129456,\n",
       " 0.859: -0.0660068361687577,\n",
       " 0.86: -0.06550154875643228,\n",
       " 0.861: -0.06499684854634524,\n",
       " 0.862: -0.06449273417528721,\n",
       " 0.863: -0.06398920428479041,\n",
       " 0.864: -0.06348625752110672,\n",
       " 0.865: -0.06298389253518578,\n",
       " 0.866: -0.06248210798265336,\n",
       " 0.867: -0.06198090252378971,\n",
       " 0.868: -0.0614802748235081,\n",
       " 0.869: -0.060980223551333534,\n",
       " 0.87: -0.060480747381381476,\n",
       " 0.871: -0.059981844992336796,\n",
       " 0.872: -0.05948351506743278,\n",
       " 0.873: -0.05898575629443027,\n",
       " 0.874: -0.05848856736559697,\n",
       " 0.875: -0.057991946977686754,\n",
       " 0.876: -0.05749589383191927,\n",
       " 0.877: -0.05700040663395948,\n",
       " 0.878: -0.05650548409389743,\n",
       " 0.879: -0.056011124926228104,\n",
       " 0.88: -0.05551732784983137,\n",
       " 0.881: -0.05502409158795209,\n",
       " 0.882: -0.054531414868180264,\n",
       " 0.883: -0.05403929642243141,\n",
       " 0.884: -0.05354773498692691,\n",
       " 0.885: -0.05305672930217456,\n",
       " 0.886: -0.05256627811294924,\n",
       " 0.887: -0.0520763801682736,\n",
       " 0.888: -0.05158703422139897,\n",
       " 0.889: -0.0510982390297863,\n",
       " 0.89: -0.05060999335508721,\n",
       " 0.891: -0.0501222959631252,\n",
       " 0.892: -0.04963514562387693,\n",
       " 0.893: -0.049148541111453566,\n",
       " 0.894: -0.04866248120408232,\n",
       " 0.895: -0.04817696468408802,\n",
       " 0.896: -0.047691990337874794,\n",
       " 0.897: -0.047207556955907906,\n",
       " 0.898: -0.04672366333269562,\n",
       " 0.899: -0.046240308266771224,\n",
       " 0.9: -0.045757490560675115,\n",
       " 0.901: -0.04527520902093701,\n",
       " 0.902: -0.04479346245805826,\n",
       " 0.903: -0.04431224968649419,\n",
       " 0.904: -0.04383156952463668,\n",
       " 0.905: -0.043351420794796675,\n",
       " 0.906: -0.042871802323186915,\n",
       " 0.907: -0.04239271293990473,\n",
       " 0.908: -0.04191415147891488,\n",
       " 0.909: -0.041436116778032536,\n",
       " 0.91: -0.040958607678906384,\n",
       " 0.911: -0.040481623027001735,\n",
       " 0.912: -0.04000516167158381,\n",
       " 0.913: -0.039529222465701036,\n",
       " 0.914: -0.039053804266168564,\n",
       " 0.915: -0.038578905933551705,\n",
       " 0.916: -0.0381045263321496,\n",
       " 0.917: -0.03763066432997889,\n",
       " 0.918: -0.03715731879875755,\n",
       " 0.919: -0.03668448861388872,\n",
       " 0.92: -0.036212172654444715,\n",
       " 0.921: -0.03574036980315106,\n",
       " 0.922: -0.03526907894637064,\n",
       " 0.923: -0.03479829897408793,\n",
       " 0.924: -0.03432802877989328,\n",
       " 0.925: -0.03385826726096737,\n",
       " 0.926: -0.033389013318065645,\n",
       " 0.927: -0.0329202658555029,\n",
       " 0.928: -0.032452023781137915,\n",
       " 0.929: -0.03198428600635821,\n",
       " 0.93: -0.03151705144606486,\n",
       " 0.931: -0.031050319018657353,\n",
       " 0.932: -0.030584087646018613,\n",
       " 0.933: -0.030118356253500032,\n",
       " 0.934: -0.029653123769906618,\n",
       " 0.935: -0.0291883891274822,\n",
       " 0.936: -0.028724151261894745,\n",
       " 0.937: -0.02826040911222171,\n",
       " 0.938: -0.027797161620935564,\n",
       " 0.939: -0.027334407733889104,\n",
       " 0.94: -0.026872146400301365,\n",
       " 0.941: -0.026410376572743116,\n",
       " 0.942: -0.025949097207122653,\n",
       " 0.943: -0.02548830726267165,\n",
       " 0.944: -0.02502800570193105,\n",
       " 0.945: -0.024568191490737076,\n",
       " 0.946: -0.02410886359820726,\n",
       " 0.947: -0.0236500209967266,\n",
       " 0.948: -0.023191662661933767,\n",
       " 0.949: -0.022733787572707352,\n",
       " 0.95: -0.022276394711152253,\n",
       " 0.951: -0.02181948306258609,\n",
       " 0.952: -0.021363051615525673,\n",
       " 0.953: -0.02090709936167361,\n",
       " 0.954: -0.020451625295904902,\n",
       " 0.955: -0.019996628416253676,\n",
       " 0.956: -0.019542107723899943,\n",
       " 0.957: -0.01908806222315645,\n",
       " 0.958: -0.018634490921455603,\n",
       " 0.959: -0.018181392829336417,\n",
       " 0.96: -0.017728766960431602,\n",
       " 0.961: -0.017276612331454656,\n",
       " 0.962: -0.016824927962187056,\n",
       " 0.963: -0.0163737128754655,\n",
       " 0.964: -0.01592296609716924,\n",
       " 0.965: -0.015472686656207449,\n",
       " 0.966: -0.015022873584506671,\n",
       " 0.967: -0.014573525916998339,\n",
       " 0.968: -0.014124642691606345,\n",
       " 0.969: -0.013676222949234686,\n",
       " 0.97: -0.01322826573375516,\n",
       " 0.971: -0.012780770091995148,\n",
       " 0.972: -0.012333735073725434,\n",
       " 0.973: -0.0118871597316481,\n",
       " 0.974: -0.011441043121384482,\n",
       " 0.975: -0.010995384301463193,\n",
       " 0.976: -0.010550182333308195,\n",
       " 0.977: -0.010105436281226938,\n",
       " 0.978: -0.009661145212398569,\n",
       " 0.979: -0.009217308196862183,\n",
       " 0.98: -0.00877392430750515,\n",
       " 0.981: -0.008330992620051497,\n",
       " 0.982: -0.00788851221305034,\n",
       " 0.983: -0.007446482167864384,\n",
       " 0.984: -0.007004901568658489,\n",
       " 0.985: -0.006563769502388274,\n",
       " 0.986: -0.0061230850587887945,\n",
       " 0.987: -0.005682847330363273,\n",
       " 0.988: -0.005243055412371883,\n",
       " 0.989: -0.004803708402820599,\n",
       " 0.99: -0.004364805402450088,\n",
       " 0.991: -0.0039263455147246756,\n",
       " 0.992: -0.0034883278458213473,\n",
       " 0.993: -0.0030507515046188267,\n",
       " 0.994: -0.00261361560268669,\n",
       " 0.995: -0.002176919254274547,\n",
       " 0.996: -0.00174066157630127,\n",
       " 0.997: -0.0013048416883442813,\n",
       " 0.998: -0.0008694587126288914,\n",
       " 0.999: -0.0004345117740176917,\n",
       " 1.0: 0.0}"
      ]
     },
     "execution_count": 961,
     "metadata": {},
     "output_type": "execute_result"
    }
   ],
   "source": [
    "log_probs"
   ]
  },
  {
   "cell_type": "code",
   "execution_count": 958,
   "id": "01d15918-1b4e-4844-a8a9-8d454d315e66",
   "metadata": {
    "tags": []
   },
   "outputs": [
    {
     "data": {
      "text/plain": [
       "-3.0"
      ]
     },
     "execution_count": 958,
     "metadata": {},
     "output_type": "execute_result"
    }
   ],
   "source": [
    "np.log10(0.001)"
   ]
  },
  {
   "cell_type": "code",
   "execution_count": 930,
   "id": "5200a726-9ad7-4f82-bfff-133f15acb11f",
   "metadata": {
    "tags": []
   },
   "outputs": [],
   "source": [
    "def get_num_documents_per_cluster(cluster_preferences, total_documents, mins_since_last_call):\n",
    "    \n",
    "    def allot_leftout_documents(left_count, alloted_dict):\n",
    "        alloted_dict = deepcopy(alloted_dict)\n",
    "        if left_count == 0:\n",
    "            pass\n",
    "        elif left_count < 0:\n",
    "            selected_clusters = [cluster for cluster in alloted_dict.keys() if alloted_dict[cluster] > 0]\n",
    "            selected_clusters = np.random.choice(selected_clusters, int(np.abs(left_count)), replace = False)\n",
    "            alloted_dict = {cluster: alloted_dict[cluster] - 1 if cluster in selected_clusters else alloted_dict[cluster] for cluster in alloted_dict.keys()}\n",
    "        elif left_count > 0:\n",
    "            selected_clusters = np.random.choice(list(cluster_preferences.keys()), int(np.abs(left_count)), replace = False)\n",
    "            alloted_dict = {cluster: alloted_dict[cluster] + 1 if cluster in selected_clusters else alloted_dict[cluster] for cluster in alloted_dict.keys()}\n",
    "        return alloted_dict\n",
    "\n",
    "\n",
    "#         # implicitly assumes that left count is less than num clusters\n",
    "#         direction = -1 * (left_count/np.abs(left_count))\n",
    "#         if next_cluster_preferences is None:\n",
    "#             selected_clusters = np.random.choice(list(cluster_preferences.keys()), int(np.abs(left_count)), replace = False)\n",
    "#         else:\n",
    "#             preferred_sum = np.sum(list(next_cluster_preferences.values()))\n",
    "#         alloted_dict = {cluster: alloted_dict[cluster] - direction if cluster in selected_clusters else alloted_dict[cluster] for cluster in alloted_dict.keys()}\n",
    "#         return alloted_dict\n",
    "    \n",
    "    num_clusters = len(cluster_preferences)\n",
    "    \n",
    "    if mins_since_last_call is None:\n",
    "        # If this is the very first call, then make it determisitic number of articles - and based on proportion of 'a' values\n",
    "        if max([x['a'] for x in cluster_preferences.values()]) > 1:\n",
    "            c = {cluster: cluster_preferences[cluster]['a'] - 1 for cluster in cluster_preferences.keys()}\n",
    "            sorted_c = {k: v for k, v in sorted(c.items(), key=lambda item: item[1], reverse=True)}\n",
    "            total_sum = np.sum(list(c.values()))\n",
    "            num_docs = {cluster: np.round(c[cluster] * total_documents/total_sum) for cluster in c.keys()}\n",
    "            # ignored_clusters = {cluster: c[cluster] if num_docs[cluster] == 0 for cluster in c.keys()}\n",
    "            left_count = total_documents - np.sum(list(num_docs.values()))\n",
    "            print(left_count)\n",
    "            num_docs = allot_leftout_documents(left_count, num_docs)\n",
    "            return {k: v for k, v in sorted(num_docs.items(), key=lambda item: item[1], reverse=True)}\n",
    "        else:\n",
    "            # The default value ideally should be based on the most popular clusters, but at immediate launch this won't be availalbe\n",
    "            # Hence we'll use ratio of cluster sizes - which is definitely incorrect but more doesn't mean relevant - but its for only the v0\n",
    "            # For now, we'll samply take uniform sampling\n",
    "            num_samples = min(num_clusters, total_documents)\n",
    "            \n",
    "            if num_clusters <= total_documents:\n",
    "\n",
    "                print(docs_left_to_allot)\n",
    "                if docs_left_to_allot == 0:\n",
    "                    return num_docs\n",
    "                elif docs_left_to_allot < 0:\n",
    "                    selected_clusters = np.random.choice(list(cluster_preferences.keys()), -1 * docs_left_to_allot, replace = False)\n",
    "                    num_docs = {cluster: num_docs[cluster] - 1 if cluster in selected_clusters else num_docs[cluster] for cluster in num_docs.keys()}\n",
    "                elif docs_left_to_allot > 0:\n",
    "                    selected_clusters = np.random.choice(list(cluster_preferences.keys()), docs_left_to_allot, replace = False)\n",
    "                    num_docs = {cluster: num_docs[cluster] + 1 if cluster in selected_clusters else num_docs[cluster] for cluster in num_docs.keys()}\n",
    "                \n",
    "                return num_docs                        \n",
    "            else:\n",
    "                selected_clusters = np.random.choice(list(cluster_preferences.keys()), num_samples, replace = False)\n",
    "                num_docs = {cluster: 1 for cluster in selected_clusters}\n",
    "            return num_docs\n",
    "            \n",
    "            \n",
    "    \n",
    "    cluster_wise_prob = {cluster: np.round(np.random.beta(cluster_preferences[cluster]['a'],cluster_preferences[cluster]['b']),2) for cluster in c.keys()}\n",
    "    print(cluster_wise_prob)\n",
    "    num_clusters = len(cluster_preferences)\n",
    "    num_consideration_clusters = min(10, total_documents, num_clusters)\n",
    "    epsilon = 1e-3\n",
    "    prob_cutoff = sorted(list(cluster_wise_prob.values()))[::-1][num_consideration_clusters-1] - epsilon\n",
    "    cluster_wise_prob = {cluster: cluster_wise_prob[cluster] if cluster_wise_prob[cluster] > prob_cutoff else 0 for cluster in cluster_wise_prob.keys()}\n",
    "    \n",
    "    if mins_since_last_call is None:\n",
    "        hour_blocks_since_last_call = 15\n",
    "    elif mins_since_last_call <= 1440:\n",
    "        hour_blocks_since_last_call = np.ceil(mins_since_last_call/480)\n",
    "    else:\n",
    "        hour_blocks_since_last_call = max(3, np.clip(np.ceil(mins_since_last_call/1440), 1, 5))\n",
    "    cluster_wise_proportion = {cluster: precomputed_values[cluster_wise_prob[cluster]][hour_blocks_since_last_call] for cluster in cluster_wise_prob.keys()}\n",
    "    total_sum = sum(list(cluster_wise_proportion.values()))\n",
    "    print(cluster_wise_prob)\n",
    "    print(cluster_wise_proportion)\n",
    "    print(total_sum)\n",
    "    if total_sum == 0:\n",
    "        cluster_wise_proportion = {cluster: precomputed_values[cluster_wise_prob[cluster]][1] for cluster in cluster_wise_prob.keys()}\n",
    "    cluster_wise_documents_float = {cluster: int(cluster_wise_proportion[cluster] * total_documents / total_sum) for cluster in cluster_wise_proportion.keys()}\n",
    "    sorted_doc_count = {k: v for k, v in sorted(cluster_wise_documents_float.items(), key=lambda item: item[1], reverse=True)}\n",
    "    return sorted_doc_count\n",
    "    \n",
    "#     days_since_call = np.clip(np.ceil(mins_since_last_call/480), 1, 14)\n",
    "#     cluster_wise_proportion = {cluster: precomputed_values[cluster_wise_prob[cluster]][days_since_call] for cluster in cluster_wise_prob.keys()}\n",
    "\n",
    "#     cluster_wise_proportion = {}\n",
    "#     total_sum = sum(list(cluster_wise_proportion.values()))\n",
    "#     # if total_sum == 0:\n",
    "#     #     cluster_wise_proportion = {cluster: precomputed_values[cluster_wise_prob[cluster]][1] for cluster in cluster_wise_prob.keys()}\n",
    "#     cluster_wise_documents_float = {cluster: int(cluster_wise_proportion[cluster] * total_documents / total_sum) for cluster in cluster_wise_proportion.keys()}\n",
    "    \n",
    "\n",
    "# #     # Apply stochastic rounding to the calculated float values\n",
    "# #     cluster_wise_documents = {cluster: int(stochastic_round(val)) for cluster, val in cluster_wise_documents_float.items()}\n",
    "# #     print(cluster_wise_proportion)\n",
    "# #     cluster_wise_documents_int = {cluster: int(np.floor(cluster_wise_proportion[cluster] * total_documents / total_sum)) for cluster in cluster_wise_proportion.keys()}\n",
    "\n",
    "# #     # If the sum of the documents does not match total_documents due to stochastic rounding, you might want to adjust.\n",
    "# #     total_allocated = sum(cluster_wise_documents.values())\n",
    "# #     remaining_documents = total_documents - sum(cluster_wise_documents_int.values())\n",
    "# #     if total_allocated < total_documents:\n",
    "# #         # # Add the remaining to the clusters with highest fractional parts\n",
    "# #         # remaining_documents = total_documents - total_allocated\n",
    "# #         # cluster_wise_documents_frac = {cluster: val - np.floor(val) for cluster, val in cluster_wise_documents_float.items()}\n",
    "# #         # for cluster, _ in sorted(cluster_wise_documents_frac.items(), key=lambda x: x[1], reverse=True)[:remaining_documents]:\n",
    "# #         #     cluster_wise_documents[cluster] += 1\n",
    "# #         total_original_proportion = sum(cluster_wise_proportion.values())\n",
    "    \n",
    "# #         # Calculate the number of extra documents each cluster should receive based on the original proportions\n",
    "# #         extra_documents = {cluster: cluster_wise_proportion[cluster] / total_original_proportion * remaining_documents for cluster in cluster_wise_proportion.keys()}\n",
    "\n",
    "# #         # Sort clusters by the extra documents they should receive, and distribute the remaining documents\n",
    "# #         for cluster, _ in sorted(extra_documents.items(), key=lambda x: x[1], reverse=True)[:remaining_documents]:\n",
    "# #             cluster_wise_documents_int[cluster] += 1\n",
    "# #     # elif total_allocated > total_documents:\n",
    "# #     #     # Remove the extra from the clusters with lowest fractional parts\n",
    "# #     #     extra_documents = total_allocated - total_documents\n",
    "# #     #     cluster_wise_documents_frac = {cluster: val - np.floor(val) for cluster, val in cluster_wise_documents_float.items()}\n",
    "# #     #     for cluster, _ in sorted(cluster_wise_documents_frac.items(), key=lambda x: x[1])[:extra_documents]:\n",
    "# #     #         cluster_wise_documents[cluster] -= 1\n",
    "\n",
    "#     return cluster_wise_documents_float"
   ]
  },
  {
   "cell_type": "code",
   "execution_count": null,
   "id": "410c5566-269c-4ba7-845e-70e93f9012d8",
   "metadata": {},
   "outputs": [],
   "source": []
  },
  {
   "cell_type": "code",
   "execution_count": 937,
   "id": "c0c51b5d-58bd-4770-ad24-81a20293df5a",
   "metadata": {
    "tags": []
   },
   "outputs": [
    {
     "name": "stdout",
     "output_type": "stream",
     "text": [
      "0.0\n"
     ]
    }
   ],
   "source": [
    "j = get_num_documents_per_cluster(c,total_documents=50,mins_since_last_call=None)"
   ]
  },
  {
   "cell_type": "code",
   "execution_count": 938,
   "id": "372ec765-7837-4b78-99da-78aacd254d19",
   "metadata": {
    "tags": []
   },
   "outputs": [
    {
     "data": {
      "text/plain": [
       "{'1920': 14.0,\n",
       " '1800': 13.0,\n",
       " '1870': 8.0,\n",
       " '1815': 6.0,\n",
       " '1873': 2.0,\n",
       " '1904': 2.0,\n",
       " '1822': 2.0,\n",
       " '1652': 2.0,\n",
       " '1785': 1.0,\n",
       " '1927': 0.0,\n",
       " '1862': 0.0,\n",
       " '1781': 0.0,\n",
       " '1891': 0.0,\n",
       " '1826': 0.0,\n",
       " '1732': 0.0,\n",
       " '1414': 0.0,\n",
       " '1905': 0.0,\n",
       " '1902': 0.0,\n",
       " '1882': 0.0,\n",
       " '1899': 0.0,\n",
       " '1555': 0.0,\n",
       " '1304': 0.0,\n",
       " '1637': 0.0,\n",
       " '1844': 0.0,\n",
       " '1290': 0.0,\n",
       " '1568': 0.0,\n",
       " '1547': 0.0,\n",
       " '1790': 0.0,\n",
       " '1887': 0.0,\n",
       " '1823': 0.0,\n",
       " '1879': 0.0,\n",
       " '1774': 0.0,\n",
       " '1236': 0.0,\n",
       " '1784': 0.0}"
      ]
     },
     "execution_count": 938,
     "metadata": {},
     "output_type": "execute_result"
    }
   ],
   "source": [
    "j"
   ]
  },
  {
   "cell_type": "code",
   "execution_count": 914,
   "id": "75686f72-8022-4ce3-a88b-c4a3c96bfd74",
   "metadata": {
    "tags": []
   },
   "outputs": [
    {
     "data": {
      "text/plain": [
       "[6.0,\n",
       " 5.0,\n",
       " 3.0,\n",
       " 3.0,\n",
       " 1.0,\n",
       " 1.0,\n",
       " 1.0,\n",
       " 1.0,\n",
       " 0.0,\n",
       " 0.0,\n",
       " 0.0,\n",
       " 0.0,\n",
       " 0.0,\n",
       " 0.0,\n",
       " 0.0,\n",
       " 0.0,\n",
       " 0.0,\n",
       " 0.0,\n",
       " 0.0,\n",
       " 0.0,\n",
       " 0.0,\n",
       " 0.0,\n",
       " 0.0,\n",
       " 0.0,\n",
       " 0.0,\n",
       " 0.0,\n",
       " 0.0,\n",
       " 0.0,\n",
       " 0.0,\n",
       " 0.0,\n",
       " 0.0,\n",
       " 0.0,\n",
       " 0.0,\n",
       " -1.0]"
      ]
     },
     "execution_count": 914,
     "metadata": {},
     "output_type": "execute_result"
    }
   ],
   "source": [
    "list(j.values())"
   ]
  },
  {
   "cell_type": "code",
   "execution_count": 913,
   "id": "2ba0ebd5-c785-463d-bf84-358695b3febb",
   "metadata": {
    "tags": []
   },
   "outputs": [
    {
     "data": {
      "text/plain": [
       "20.0"
      ]
     },
     "execution_count": 913,
     "metadata": {},
     "output_type": "execute_result"
    }
   ],
   "source": [
    "sum()"
   ]
  },
  {
   "cell_type": "code",
   "execution_count": 911,
   "id": "15ad006e-95cb-455b-a9dc-aa5a7fa93716",
   "metadata": {
    "tags": []
   },
   "outputs": [
    {
     "data": {
      "text/plain": [
       "20.0"
      ]
     },
     "execution_count": 911,
     "metadata": {},
     "output_type": "execute_result"
    }
   ],
   "source": [
    "sum(list(j.values()))"
   ]
  },
  {
   "cell_type": "code",
   "execution_count": 890,
   "id": "7ac86b36-8adf-4d02-bcf5-14d0098b08f2",
   "metadata": {
    "tags": []
   },
   "outputs": [
    {
     "data": {
      "text/plain": [
       "{'1927': {'a': 1, 'b': 4.0},\n",
       " '1862': {'a': 1, 'b': 4.0},\n",
       " '1781': {'a': 1, 'b': 4.0},\n",
       " '1891': {'a': 1, 'b': 4.0},\n",
       " '1826': {'a': 1, 'b': 4.0},\n",
       " '1873': {'a': 1.43, 'b': 4.0},\n",
       " '1870': {'a': 3.2, 'b': 4.0},\n",
       " '1732': {'a': 1, 'b': 4.0},\n",
       " '1904': {'a': 1.59, 'b': 4.0},\n",
       " '1414': {'a': 1, 'b': 4.0},\n",
       " '1815': {'a': 2.78, 'b': 4.0},\n",
       " '1905': {'a': 1, 'b': 4.0},\n",
       " '1902': {'a': 1, 'b': 4.0},\n",
       " '1882': {'a': 1, 'b': 4.0},\n",
       " '1899': {'a': 1, 'b': 4.0},\n",
       " '1555': {'a': 1, 'b': 4.0},\n",
       " '1304': {'a': 1, 'b': 4.0},\n",
       " '1637': {'a': 1, 'b': 4.0},\n",
       " '1844': {'a': 1, 'b': 4.0},\n",
       " '1290': {'a': 1, 'b': 4.0},\n",
       " '1800': {'a': 4.51, 'b': 4.0},\n",
       " '1785': {'a': 1.39, 'b': 4.0},\n",
       " '1568': {'a': 1, 'b': 4.0},\n",
       " '1547': {'a': 1, 'b': 4.0},\n",
       " '1822': {'a': 1.51, 'b': 4.0},\n",
       " '1790': {'a': 1, 'b': 4.0},\n",
       " '1887': {'a': 1, 'b': 4.0},\n",
       " '1823': {'a': 1, 'b': 4.0},\n",
       " '1879': {'a': 1, 'b': 4.0},\n",
       " '1774': {'a': 1, 'b': 4.0},\n",
       " '1652': {'a': 1.51, 'b': 4.0},\n",
       " '1920': {'a': 5, 'b': 4.0},\n",
       " '1236': {'a': 1, 'b': 4.0},\n",
       " '1784': {'a': 1, 'b': 4.0}}"
      ]
     },
     "execution_count": 890,
     "metadata": {},
     "output_type": "execute_result"
    }
   ],
   "source": [
    "c"
   ]
  },
  {
   "cell_type": "code",
   "execution_count": 891,
   "id": "2d2525b4-d6cd-4804-84a6-e810a9538b8a",
   "metadata": {
    "tags": []
   },
   "outputs": [
    {
     "data": {
      "text/plain": [
       "{'1920': 6.0,\n",
       " '1800': 5.0,\n",
       " '1870': 3.0,\n",
       " '1815': 3.0,\n",
       " '1873': 1.0,\n",
       " '1904': 1.0,\n",
       " '1785': 1.0,\n",
       " '1822': 1.0,\n",
       " '1652': 1.0,\n",
       " '1927': 0.0,\n",
       " '1862': 0.0,\n",
       " '1781': 0.0,\n",
       " '1891': 0.0,\n",
       " '1826': 0.0,\n",
       " '1732': 0.0,\n",
       " '1414': 0.0,\n",
       " '1905': 0.0,\n",
       " '1902': 0.0,\n",
       " '1882': 0.0,\n",
       " '1899': 0.0,\n",
       " '1555': 0.0,\n",
       " '1304': 0.0,\n",
       " '1637': 0.0,\n",
       " '1844': 0.0,\n",
       " '1290': 0.0,\n",
       " '1568': 0.0,\n",
       " '1547': 0.0,\n",
       " '1790': 0.0,\n",
       " '1887': 0.0,\n",
       " '1823': 0.0,\n",
       " '1879': 0.0,\n",
       " '1774': 0.0,\n",
       " '1236': 0.0,\n",
       " '1784': 0.0}"
      ]
     },
     "execution_count": 891,
     "metadata": {},
     "output_type": "execute_result"
    }
   ],
   "source": [
    "j"
   ]
  },
  {
   "cell_type": "code",
   "execution_count": 871,
   "id": "bf3b7a94-a24e-4186-9875-d7a97e8462d4",
   "metadata": {
    "tags": []
   },
   "outputs": [
    {
     "data": {
      "text/plain": [
       "{'1927': {'a': 1, 'b': 4.0},\n",
       " '1862': {'a': 1, 'b': 4.0},\n",
       " '1781': {'a': 1, 'b': 4.0},\n",
       " '1891': {'a': 1, 'b': 4.0},\n",
       " '1826': {'a': 1, 'b': 4.0},\n",
       " '1873': {'a': 1, 'b': 4.0},\n",
       " '1870': {'a': 1.77, 'b': 4.0},\n",
       " '1732': {'a': 1.3, 'b': 4.0},\n",
       " '1904': {'a': 3.62, 'b': 4.0},\n",
       " '1414': {'a': 1, 'b': 4.0},\n",
       " '1815': {'a': 1, 'b': 4.0},\n",
       " '1905': {'a': 1, 'b': 4.0},\n",
       " '1902': {'a': 1, 'b': 4.0},\n",
       " '1882': {'a': 1, 'b': 4.0},\n",
       " '1899': {'a': 1, 'b': 4.0},\n",
       " '1555': {'a': 1, 'b': 4.0},\n",
       " '1304': {'a': 1, 'b': 4.0},\n",
       " '1637': {'a': 1, 'b': 4.0},\n",
       " '1844': {'a': 1, 'b': 4.0},\n",
       " '1290': {'a': 1, 'b': 4.0},\n",
       " '1800': {'a': 1, 'b': 4.0},\n",
       " '1785': {'a': 1.88, 'b': 4.0},\n",
       " '1568': {'a': 1, 'b': 4.0},\n",
       " '1547': {'a': 1, 'b': 4.0},\n",
       " '1822': {'a': 1, 'b': 4.0},\n",
       " '1790': {'a': 1, 'b': 4.0},\n",
       " '1887': {'a': 1.37, 'b': 4.0},\n",
       " '1823': {'a': 1.51, 'b': 4.0},\n",
       " '1879': {'a': 1, 'b': 4.0},\n",
       " '1774': {'a': 1, 'b': 4.0},\n",
       " '1652': {'a': 1, 'b': 4.0},\n",
       " '1920': {'a': 5, 'b': 4.0},\n",
       " '1236': {'a': 1, 'b': 4.0},\n",
       " '1784': {'a': 1, 'b': 4.0}}"
      ]
     },
     "execution_count": 871,
     "metadata": {},
     "output_type": "execute_result"
    }
   ],
   "source": [
    "c"
   ]
  },
  {
   "cell_type": "code",
   "execution_count": 865,
   "id": "202890f4-0e51-4812-a962-6416832c35c0",
   "metadata": {
    "tags": []
   },
   "outputs": [
    {
     "data": {
      "text/plain": [
       "{'1920': 4,\n",
       " '1904': 2,\n",
       " '1927': 0,\n",
       " '1862': 0,\n",
       " '1781': 0,\n",
       " '1891': 0,\n",
       " '1826': 0,\n",
       " '1873': 0,\n",
       " '1870': 0,\n",
       " '1732': 0,\n",
       " '1414': 0,\n",
       " '1815': 0,\n",
       " '1905': 0,\n",
       " '1902': 0,\n",
       " '1882': 0,\n",
       " '1899': 0,\n",
       " '1555': 0,\n",
       " '1304': 0,\n",
       " '1637': 0,\n",
       " '1844': 0,\n",
       " '1290': 0,\n",
       " '1800': 0,\n",
       " '1785': 0,\n",
       " '1568': 0,\n",
       " '1547': 0,\n",
       " '1822': 0,\n",
       " '1790': 0,\n",
       " '1887': 0,\n",
       " '1823': 0,\n",
       " '1879': 0,\n",
       " '1774': 0,\n",
       " '1652': 0,\n",
       " '1236': 0,\n",
       " '1784': 0}"
      ]
     },
     "execution_count": 865,
     "metadata": {},
     "output_type": "execute_result"
    }
   ],
   "source": [
    "j"
   ]
  },
  {
   "cell_type": "code",
   "execution_count": 140,
   "id": "487fec15-8ce5-4182-9043-b4da528362df",
   "metadata": {
    "scrolled": true,
    "tags": []
   },
   "outputs": [],
   "source": [
    "c1 = get_num_documents_per_cluster(c)"
   ]
  },
  {
   "cell_type": "code",
   "execution_count": 425,
   "id": "703a99a3-7a21-420e-a0af-9a933fcb6c1d",
   "metadata": {
    "tags": []
   },
   "outputs": [
    {
     "data": {
      "text/plain": [
       "0.9933071490757153"
      ]
     },
     "execution_count": 425,
     "metadata": {},
     "output_type": "execute_result"
    }
   ],
   "source": [
    "k = 2\n"
   ]
  },
  {
   "cell_type": "code",
   "execution_count": 222,
   "id": "8e6c99f9-5fe6-48a5-827b-e77f7d020d8b",
   "metadata": {
    "tags": []
   },
   "outputs": [],
   "source": [
    "import numpy as np\n",
    "\n",
    "def map_power(time_since_last_visit_minutes):\n",
    "#     # Set time bounds: 10 minutes and 2 weeks (in minutes)\n",
    "    lower_bound = 10.0\n",
    "    upper_bound = 14 * 24 * 60.0  # 2 weeks in minutes\n",
    "\n",
    "#     # Clamp the input time to be within the bounds\n",
    "    clamped_time = np.clip(time_since_last_visit_minutes, lower_bound, upper_bound)\n",
    "\n",
    "#     # Map time to a logarithmic scale between 0 and 1\n",
    "#     log_scaled_time = np.log(clamped_time / lower_bound) / np.log(upper_bound / lower_bound)\n",
    "\n",
    "#     # Map the scaled time to a value between 0.5 and 10\n",
    "#     power_value = 0.5 + 9.5 * log_scaled_time\n",
    "\n",
    "#     return power_value\n",
    "    # Time for the center of the curve: 4 days (in minutes)\n",
    "#     t_0 = 4 * 24 * 60.0\n",
    "    \n",
    "#     # Constant to control the steepness of the curve\n",
    "#     k = 0.001\n",
    "    \n",
    "#     # Compute the sigmoid function\n",
    "#     sigmoid_value = 1 / (1 + np.exp(-k * (clamped_time - t_0)))\n",
    "    \n",
    "#     # Stretch and shift to fit the range [0.5, 10]\n",
    "#     power_value = 0.5 + 9.5 * sigmoid_value\n",
    "    # power_value = np.floor(power_value * 2) / 2\n",
    "    \n",
    "    \n",
    "    # Desired outputs at 10 minutes and 2 weeks\n",
    "\n",
    "    # Calculate sigmoid value\n",
    "    k = 0.0001\n",
    "    sigmoid_value = 1 / (1 + np.exp(-k * (clamped_time - upper_bound / 2)))\n",
    "\n",
    "    # Scale and translate sigmoid\n",
    "    # min_sigmoid = 1 / (1 + np.exp(-k * (lower_bound - upper_bound / 2)))\n",
    "    # max_sigmoid = 1 / (1 + np.exp(-k * (upper_bound - upper_bound / 2)))\n",
    "    power_value = 0.5 + 9.5 * sigmoid_value\n",
    "\n",
    "    # scaled_value = lower_bound + (upper_bound - lower_bound) * (sigmoid_value - min_sigmoid) / (max_sigmoid - min_sigmoid)\n",
    "\n",
    "    # Round to nearest 0.5\n",
    "    # rounded_value = round(scaled_value * 2) / 2\n",
    "    return power_value"
   ]
  },
  {
   "cell_type": "code",
   "execution_count": 375,
   "id": "334d45f9-cf47-48f1-8df0-8257de7d1f28",
   "metadata": {
    "tags": []
   },
   "outputs": [],
   "source": [
    "def map_power2(time_since_last_visit_minutes):\n",
    "    # Constants\n",
    "    A = 0.5\n",
    "    B = 9.5\n",
    "    k = 0.0005\n",
    "    x_0 = 4 * 24 * 60  # 4 days in minutes\n",
    "    \n",
    "    # Compute the sigmoid function\n",
    "    sigmoid_value = 1 / (1 + np.exp(-k * (time_since_last_visit_minutes - x_0)))\n",
    "    \n",
    "    # Stretch and shift to fit the range [0.5, 10]\n",
    "    power_value = A + B * sigmoid_value\n",
    "    \n",
    "    # Round to the nearest 0.5\n",
    "    power_value = round(power_value * 2) / 2 - 0.5\n",
    "    \n",
    "    return power_value"
   ]
  },
  {
   "cell_type": "code",
   "execution_count": 343,
   "id": "b914892b-02b4-42ed-aa1c-442c3c3e5d5e",
   "metadata": {
    "tags": []
   },
   "outputs": [
    {
     "data": {
      "text/plain": [
       "2.0791812460476247"
      ]
     },
     "execution_count": 343,
     "metadata": {},
     "output_type": "execute_result"
    }
   ],
   "source": [
    "np.log10(60 * 1440/(1 * 12 * 6 * 10))"
   ]
  },
  {
   "cell_type": "code",
   "execution_count": 276,
   "id": "1c1db69a-972f-4d67-a3db-f45d766daba8",
   "metadata": {
    "tags": []
   },
   "outputs": [
    {
     "data": {
      "text/plain": [
       "0.9640275800758169"
      ]
     },
     "execution_count": 276,
     "metadata": {},
     "output_type": "execute_result"
    }
   ],
   "source": [
    "np.tanh(2)"
   ]
  },
  {
   "cell_type": "code",
   "execution_count": 236,
   "id": "3bb8f129-9c55-4f2a-97d4-1f11f0ca288b",
   "metadata": {
    "tags": []
   },
   "outputs": [
    {
     "name": "stdout",
     "output_type": "stream",
     "text": [
      "352 ns ± 3.06 ns per loop (mean ± std. dev. of 7 runs, 1,000,000 loops each)\n"
     ]
    }
   ],
   "source": [
    "%timeit 1 / (1 + np.exp(-0.0001 * (30 - 4)))"
   ]
  },
  {
   "cell_type": "code",
   "execution_count": null,
   "id": "b8acd531-64f8-41e7-a6b7-d4fc5542a569",
   "metadata": {},
   "outputs": [],
   "source": [
    "np.log()"
   ]
  },
  {
   "cell_type": "code",
   "execution_count": 389,
   "id": "084dad8d-5216-47c5-843f-b0fe08037b27",
   "metadata": {
    "tags": []
   },
   "outputs": [
    {
     "data": {
      "text/plain": [
       "9.5"
      ]
     },
     "execution_count": 389,
     "metadata": {},
     "output_type": "execute_result"
    }
   ],
   "source": [
    "map_power2(time_since_last_visit_minutes=20 * 1440)"
   ]
  },
  {
   "cell_type": "code",
   "execution_count": 394,
   "id": "7f31b1a2-4fa4-4aa4-97bb-91ba86405d30",
   "metadata": {
    "tags": []
   },
   "outputs": [],
   "source": [
    "lst = [precomputed_values[x][9.5] for x in c1.values()]"
   ]
  },
  {
   "cell_type": "code",
   "execution_count": 395,
   "id": "eb94a07b-5502-4c14-a4f7-784e9b6bc682",
   "metadata": {
    "tags": []
   },
   "outputs": [
    {
     "data": {
      "text/plain": [
       "array([0.        , 0.        , 0.        , 0.        , 0.        ,\n",
       "       0.02826855, 0.26501767, 0.        , 0.1590106 , 0.        ,\n",
       "       0.        , 0.01413428, 0.        , 0.        , 0.        ,\n",
       "       0.00353357, 0.00353357, 0.        , 0.        , 0.        ,\n",
       "       0.24028269, 0.03886926, 0.        , 0.        , 0.03180212,\n",
       "       0.        , 0.        , 0.        , 0.        , 0.        ,\n",
       "       0.        , 0.2155477 , 0.        , 0.        ])"
      ]
     },
     "execution_count": 395,
     "metadata": {},
     "output_type": "execute_result"
    }
   ],
   "source": [
    "lst/sum(lst)"
   ]
  },
  {
   "cell_type": "code",
   "execution_count": 353,
   "id": "b4096ec4-5d6f-4f19-849b-30230cecbcc5",
   "metadata": {
    "tags": []
   },
   "outputs": [
    {
     "data": {
      "text/plain": [
       "{'1927': {'a': 1, 'b': 2},\n",
       " '1862': {'a': 1, 'b': 2},\n",
       " '1781': {'a': 1, 'b': 2},\n",
       " '1891': {'a': 1, 'b': 2},\n",
       " '1826': {'a': 1, 'b': 2},\n",
       " '1873': {'a': 1.35, 'b': 1},\n",
       " '1870': {'a': 2.64, 'b': 1},\n",
       " '1732': {'a': 1, 'b': 2},\n",
       " '1904': {'a': 5, 'b': 1},\n",
       " '1414': {'a': 1, 'b': 2},\n",
       " '1815': {'a': 1, 'b': 2},\n",
       " '1905': {'a': 1, 'b': 2},\n",
       " '1902': {'a': 1, 'b': 2},\n",
       " '1882': {'a': 1, 'b': 2},\n",
       " '1899': {'a': 1, 'b': 2},\n",
       " '1555': {'a': 1, 'b': 2},\n",
       " '1304': {'a': 1, 'b': 2},\n",
       " '1637': {'a': 1, 'b': 2},\n",
       " '1844': {'a': 1, 'b': 2},\n",
       " '1290': {'a': 1, 'b': 2},\n",
       " '1800': {'a': 4.52, 'b': 1},\n",
       " '1785': {'a': 2.51, 'b': 1},\n",
       " '1568': {'a': 1, 'b': 2},\n",
       " '1547': {'a': 1, 'b': 2},\n",
       " '1822': {'a': 1.51, 'b': 1},\n",
       " '1790': {'a': 1, 'b': 2},\n",
       " '1887': {'a': 1.44, 'b': 1},\n",
       " '1823': {'a': 1.4, 'b': 1},\n",
       " '1879': {'a': 1, 'b': 2},\n",
       " '1774': {'a': 1, 'b': 2},\n",
       " '1652': {'a': 1, 'b': 2},\n",
       " '1920': {'a': 5, 'b': 1},\n",
       " '1236': {'a': 1, 'b': 2},\n",
       " '1784': {'a': 1, 'b': 2}}"
      ]
     },
     "execution_count": 353,
     "metadata": {},
     "output_type": "execute_result"
    }
   ],
   "source": [
    "c"
   ]
  },
  {
   "cell_type": "code",
   "execution_count": 141,
   "id": "8a16c3b6-3a87-4a41-a8bc-b1eff75bbfc3",
   "metadata": {
    "tags": []
   },
   "outputs": [
    {
     "data": {
      "text/plain": [
       "{'1927': 0.27,\n",
       " '1862': 0.13,\n",
       " '1781': 0.29,\n",
       " '1891': 0.14,\n",
       " '1826': 0.0,\n",
       " '1873': 0.77,\n",
       " '1870': 0.97,\n",
       " '1732': 0.28,\n",
       " '1904': 0.92,\n",
       " '1414': 0.17,\n",
       " '1815': 0.28,\n",
       " '1905': 0.71,\n",
       " '1902': 0.17,\n",
       " '1882': 0.42,\n",
       " '1899': 0.12,\n",
       " '1555': 0.58,\n",
       " '1304': 0.64,\n",
       " '1637': 0.23,\n",
       " '1844': 0.46,\n",
       " '1290': 0.37,\n",
       " '1800': 0.96,\n",
       " '1785': 0.79,\n",
       " '1568': 0.15,\n",
       " '1547': 0.05,\n",
       " '1822': 0.78,\n",
       " '1790': 0.46,\n",
       " '1887': 0.41,\n",
       " '1823': 0.4,\n",
       " '1879': 0.19,\n",
       " '1774': 0.52,\n",
       " '1652': 0.24,\n",
       " '1920': 0.95,\n",
       " '1236': 0.56,\n",
       " '1784': 0.51}"
      ]
     },
     "execution_count": 141,
     "metadata": {},
     "output_type": "execute_result"
    }
   ],
   "source": [
    "c1"
   ]
  },
  {
   "cell_type": "code",
   "execution_count": 127,
   "id": "bbd767a9-a4d3-40a1-a666-6de351d1541b",
   "metadata": {
    "tags": []
   },
   "outputs": [
    {
     "data": {
      "text/plain": [
       "0.01"
      ]
     },
     "execution_count": 127,
     "metadata": {},
     "output_type": "execute_result"
    }
   ],
   "source": [
    "np.round(0.008,2)"
   ]
  },
  {
   "cell_type": "code",
   "execution_count": 635,
   "id": "f0f89292-d7e5-4bb7-bb7e-fed778242b79",
   "metadata": {
    "tags": []
   },
   "outputs": [],
   "source": [
    "def precompute_powers():\n",
    "    # Initialize an empty dictionary to store the precomputed values\n",
    "    precomputed = {}\n",
    "\n",
    "    # Iterate over all 2-decimal values between 0 and 1\n",
    "    for i in range(101):  # 0.00, 0.01, ..., 1.00\n",
    "        value = i / 100.0\n",
    "\n",
    "        # Create a sub-dictionary for each value to store the corresponding powers\n",
    "        precomputed[value] = {}\n",
    "\n",
    "        # Compute and store the powers from 0.5 to 10 in increments of 0.5\n",
    "        for power in [x * 0.5 for x in range(1, 41)]:  # 0.5, 1.0, ..., 10.0\n",
    "            precomputed[value][power] = np.round(value**power,3)\n",
    "\n",
    "    return precomputed\n",
    "\n",
    "# Generate the precomputed values and store them in a dictionary\n",
    "precomputed_values = precompute_powers()"
   ]
  },
  {
   "cell_type": "code",
   "execution_count": 110,
   "id": "c312fe03-90d7-4408-9a11-23a25fcc8b50",
   "metadata": {
    "tags": []
   },
   "outputs": [
    {
     "data": {
      "text/plain": [
       "{'1927': 0.3058143512286309,\n",
       " '1862': 0.134290236487873,\n",
       " '1781': 0.4791097821525532,\n",
       " '1891': 0.5415526868450048,\n",
       " '1826': 0.27350935209576965,\n",
       " '1873': 0.2432452114226264,\n",
       " '1870': 0.5440971372236233,\n",
       " '1732': 0.04096939551870805,\n",
       " '1904': 0.7220735427617851,\n",
       " '1414': 0.2647644598777726,\n",
       " '1815': 0.6339427261833347,\n",
       " '1905': 0.31586527518761276,\n",
       " '1902': 0.7317563843399155,\n",
       " '1882': 0.1685360006409122,\n",
       " '1899': 0.12862619208187787,\n",
       " '1555': 0.4522897803591004,\n",
       " '1304': 0.32447579650636377,\n",
       " '1637': 0.4933986781051965,\n",
       " '1844': 0.7501346764449568,\n",
       " '1290': 0.05197096375792963,\n",
       " '1800': 0.4991126880201249,\n",
       " '1785': 0.44621732964171834,\n",
       " '1568': 0.1711284792134007,\n",
       " '1547': 0.7096408571549939,\n",
       " '1822': 0.124995576597128,\n",
       " '1790': 0.4116100648548768,\n",
       " '1887': 0.18252134348259055,\n",
       " '1823': 0.8363948422696686,\n",
       " '1879': 0.7192594040192023,\n",
       " '1774': 0.4394159282263022,\n",
       " '1652': 0.06934897105054899,\n",
       " '1920': 0.9039934095612591,\n",
       " '1236': 0.39961423385395595,\n",
       " '1784': 0.21933368664376704}"
      ]
     },
     "execution_count": 110,
     "metadata": {},
     "output_type": "execute_result"
    }
   ],
   "source": [
    "c1"
   ]
  },
  {
   "cell_type": "code",
   "execution_count": 120,
   "id": "604b0b42-6707-47c7-811a-d02ebe3373a1",
   "metadata": {
    "tags": []
   },
   "outputs": [],
   "source": [
    "def log_transform(values, base=np.e):\n",
    "    # Add a small constant to avoid log(0)\n",
    "    epsilon = 1e-9\n",
    "    log_values = np.log(values + epsilon) / np.log(base)\n",
    "    \n",
    "    # Shift by the minimum log value to make all values positive\n",
    "    log_values -= np.min(log_values)\n",
    "    \n",
    "    # Exponentiate and normalize\n",
    "    exp_values = np.exp(log_values)\n",
    "    return exp_values / np.sum(exp_values)"
   ]
  },
  {
   "cell_type": "code",
   "execution_count": 122,
   "id": "a3b62430-c178-4e7c-9975-bc529157220c",
   "metadata": {
    "tags": []
   },
   "outputs": [],
   "source": [
    "keys = list(c1.keys())\n",
    "values = np.array(list(c1.values()))\n",
    "\n",
    "# Apply the log transform\n",
    "transformed_values = log_transform(values)\n",
    "\n",
    "# Create a new dictionary with the transformed values\n",
    "transformed_dict = dict(zip(keys, transformed_values))"
   ]
  },
  {
   "cell_type": "code",
   "execution_count": 123,
   "id": "54368857-b15a-44e2-9555-7e3abd8f34b2",
   "metadata": {
    "tags": []
   },
   "outputs": [
    {
     "data": {
      "text/plain": [
       "{'1927': 0.022268560487251253,\n",
       " '1862': 0.009778645948278894,\n",
       " '1781': 0.034887457401574506,\n",
       " '1891': 0.039434378074231356,\n",
       " '1826': 0.019916199252442705,\n",
       " '1873': 0.017712447720628636,\n",
       " '1870': 0.03961965795645452,\n",
       " '1732': 0.0029832788351965944,\n",
       " '1904': 0.052579410574824494,\n",
       " '1414': 0.019279420239646818,\n",
       " '1815': 0.04616196677120326,\n",
       " '1905': 0.023000441141322138,\n",
       " '1902': 0.05328448848173014,\n",
       " '1882': 0.012272328356957874,\n",
       " '1899': 0.009366205804321613,\n",
       " '1555': 0.032934498595510425,\n",
       " '1304': 0.023627435634602238,\n",
       " '1637': 0.03592793552661552,\n",
       " '1844': 0.05462274519339526,\n",
       " '1290': 0.0037843827925627656,\n",
       " '1800': 0.03634401402158493,\n",
       " '1785': 0.03249231942661132,\n",
       " '1568': 0.012461105520235688,\n",
       " '1547': 0.051674096584698785,\n",
       " '1822': 0.009101834364790024,\n",
       " '1790': 0.029972313535494892,\n",
       " '1887': 0.01329070257888461,\n",
       " '1823': 0.06090397335129359,\n",
       " '1879': 0.05237449272727405,\n",
       " '1774': 0.03199706007166764,\n",
       " '1652': 0.005049801513834141,\n",
       " '1920': 0.06582631520220485,\n",
       " '1236': 0.029098810096914816,\n",
       " '1784': 0.015971276215759726}"
      ]
     },
     "execution_count": 123,
     "metadata": {},
     "output_type": "execute_result"
    }
   ],
   "source": [
    "transformed_dict"
   ]
  },
  {
   "cell_type": "code",
   "execution_count": 121,
   "id": "443780ab-a4d8-4390-8f7f-ece203290705",
   "metadata": {
    "tags": []
   },
   "outputs": [
    {
     "ename": "TypeError",
     "evalue": "unsupported operand type(s) for +: 'dict' and 'float'",
     "output_type": "error",
     "traceback": [
      "\u001b[0;31m---------------------------------------------------------------------------\u001b[0m",
      "\u001b[0;31mTypeError\u001b[0m                                 Traceback (most recent call last)",
      "Cell \u001b[0;32mIn[121], line 1\u001b[0m\n\u001b[0;32m----> 1\u001b[0m log_transform(c1)\n",
      "Cell \u001b[0;32mIn[120], line 4\u001b[0m, in \u001b[0;36mlog_transform\u001b[0;34m(values, base)\u001b[0m\n\u001b[1;32m      1\u001b[0m \u001b[38;5;28;01mdef\u001b[39;00m \u001b[38;5;21mlog_transform\u001b[39m(values, base\u001b[38;5;241m=\u001b[39mnp\u001b[38;5;241m.\u001b[39me):\n\u001b[1;32m      2\u001b[0m     \u001b[38;5;66;03m# Add a small constant to avoid log(0)\u001b[39;00m\n\u001b[1;32m      3\u001b[0m     epsilon \u001b[38;5;241m=\u001b[39m \u001b[38;5;241m1e-9\u001b[39m\n\u001b[0;32m----> 4\u001b[0m     log_values \u001b[38;5;241m=\u001b[39m np\u001b[38;5;241m.\u001b[39mlog(values \u001b[38;5;241m+\u001b[39m epsilon) \u001b[38;5;241m/\u001b[39m np\u001b[38;5;241m.\u001b[39mlog(base)\n\u001b[1;32m      6\u001b[0m     \u001b[38;5;66;03m# Shift by the minimum log value to make all values positive\u001b[39;00m\n\u001b[1;32m      7\u001b[0m     log_values \u001b[38;5;241m-\u001b[39m\u001b[38;5;241m=\u001b[39m np\u001b[38;5;241m.\u001b[39mmin(log_values)\n",
      "\u001b[0;31mTypeError\u001b[0m: unsupported operand type(s) for +: 'dict' and 'float'"
     ]
    }
   ],
   "source": [
    "log_transform(c1)"
   ]
  },
  {
   "cell_type": "code",
   "execution_count": 111,
   "id": "8b73192e-2bbe-453f-8f7f-4f01a4e0c4d1",
   "metadata": {
    "tags": []
   },
   "outputs": [
    {
     "name": "stdout",
     "output_type": "stream",
     "text": [
      "{'1927': 0.025894158675536617, '1862': 0.02181272019399005, '1781': 0.030793783661271598, '1891': 0.03277794055651506, '1826': 0.02507101531050318, '1873': 0.0243236291212266, '1870': 0.032861448595751276, '1732': 0.019869232977808793, '1904': 0.03926276447993238, '1414': 0.024852727825175287, '1815': 0.03595060038056499, '1905': 0.02615573121619972, '1902': 0.03964478615119625, '1882': 0.022572651410486977, '1899': 0.021689521209820435, '1555': 0.029978871153190145, '1304': 0.026381918093432034, '1637': 0.03123695148123062, '1844': 0.04038012605999493, '1290': 0.02008903255334988, '1800': 0.03141595064618288, '1785': 0.029797377548743117, '1568': 0.022631246445962046, '1547': 0.03877764479217697, '1822': 0.02161091767420786, '1790': 0.028783811348092676, '1887': 0.022890555496575815, '1823': 0.04401796739915532, '1879': 0.03915242893584887, '1774': 0.02959540126240947, '1652': 0.02044119095069659, '1920': 0.04709639542497578, '1236': 0.028440588349944087, '1784': 0.023748912617851684}\n"
     ]
    }
   ],
   "source": [
    "def softmax(x):\n",
    "    e_x = np.exp(x - np.max(x))  # subtract np.max(x) for numerical stability\n",
    "    return e_x / e_x.sum()\n",
    "\n",
    "# Your dictionary of probabilities\n",
    "\n",
    "# Extract the keys and values\n",
    "keys = list(c1.keys())\n",
    "values = np.array(list(c1.values()))\n",
    "\n",
    "# Compute softmax values\n",
    "softmax_values = softmax(values)\n",
    "\n",
    "# Create a new dictionary with the softmax values\n",
    "softmax_dict = dict(zip(keys, softmax_values))\n",
    "\n",
    "print(softmax_dict)"
   ]
  },
  {
   "cell_type": "code",
   "execution_count": 113,
   "id": "9c083d4f-a427-4a7b-946b-0205c88568df",
   "metadata": {
    "tags": []
   },
   "outputs": [
    {
     "data": {
      "text/plain": [
       "1.0"
      ]
     },
     "execution_count": 113,
     "metadata": {},
     "output_type": "execute_result"
    }
   ],
   "source": [
    "np.sum(list(softmax_dict.values()))"
   ]
  },
  {
   "cell_type": "code",
   "execution_count": 235,
   "id": "b90fa421-8528-4ac5-a06c-9fd2f07ea377",
   "metadata": {
    "tags": []
   },
   "outputs": [],
   "source": [
    "n_items = 21"
   ]
  },
  {
   "cell_type": "code",
   "execution_count": 246,
   "id": "ebdb7fab-cb27-46b7-9fe3-5bf09c711c06",
   "metadata": {
    "tags": []
   },
   "outputs": [],
   "source": [
    "max_clusters = int(n_items/3)"
   ]
  },
  {
   "cell_type": "code",
   "execution_count": 247,
   "id": "7dc5d4c3-b977-44d2-9459-3b6c5e805878",
   "metadata": {
    "tags": []
   },
   "outputs": [],
   "source": [
    "num_clusters = len(c1)"
   ]
  },
  {
   "cell_type": "code",
   "execution_count": 248,
   "id": "ad9d325c-9c70-403d-8ddf-a77a372964ad",
   "metadata": {
    "tags": []
   },
   "outputs": [
    {
     "data": {
      "text/plain": [
       "34"
      ]
     },
     "execution_count": 248,
     "metadata": {},
     "output_type": "execute_result"
    }
   ],
   "source": [
    "num_clusters"
   ]
  },
  {
   "cell_type": "code",
   "execution_count": 249,
   "id": "20d141f9-46dd-49b0-801d-3b5ce479afc7",
   "metadata": {
    "tags": []
   },
   "outputs": [
    {
     "data": {
      "text/plain": [
       "27"
      ]
     },
     "execution_count": 249,
     "metadata": {},
     "output_type": "execute_result"
    }
   ],
   "source": [
    "num_clusters-max_clusters"
   ]
  },
  {
   "cell_type": "code",
   "execution_count": 273,
   "id": "dda80cc7-e00b-40f1-a3a4-2b8fba8c0747",
   "metadata": {
    "tags": []
   },
   "outputs": [
    {
     "data": {
      "text/plain": [
       "array(['automobile sector', 'IPOs, M&As', 'global economy', 'oil & gas'],\n",
       "      dtype='<U29')"
      ]
     },
     "execution_count": 273,
     "metadata": {},
     "output_type": "execute_result"
    }
   ],
   "source": [
    "topics"
   ]
  },
  {
   "cell_type": "code",
   "execution_count": null,
   "id": "f2ed2f54-5e0a-4b08-bc9f-bd1bc03ce428",
   "metadata": {},
   "outputs": [],
   "source": []
  },
  {
   "cell_type": "code",
   "execution_count": 251,
   "id": "6e0d457a-cb29-40f5-a609-281d59c48694",
   "metadata": {
    "tags": []
   },
   "outputs": [],
   "source": [
    "prob_cutoff = sorted(c1.values())[num_clusters-max_clusters]"
   ]
  },
  {
   "cell_type": "code",
   "execution_count": 269,
   "id": "93cfe900-ecf9-486a-8188-76432a712958",
   "metadata": {
    "tags": []
   },
   "outputs": [],
   "source": [
    "updated_c1 = {clu: c1[clu]**10 if c1[clu] >= prob_cutoff - 0.0001 else 0 for clu in c1.keys()}\n",
    "total_sum = np.sum(list(updated_c1.values()))\n",
    "scaled_c1 = {clu: np.round(updated_c1[clu]*n_items/total_sum) for clu in updated_c1.keys()}"
   ]
  },
  {
   "cell_type": "code",
   "execution_count": 270,
   "id": "14e2e20f-ccaa-4a9f-b703-612f643394e3",
   "metadata": {
    "tags": []
   },
   "outputs": [
    {
     "data": {
      "text/plain": [
       "21.0"
      ]
     },
     "execution_count": 270,
     "metadata": {},
     "output_type": "execute_result"
    }
   ],
   "source": [
    "np.sum(list(scaled_c1.values()))"
   ]
  },
  {
   "cell_type": "code",
   "execution_count": 277,
   "id": "57af380d-64bf-48b1-bb4d-9e80f5007da2",
   "metadata": {
    "tags": []
   },
   "outputs": [],
   "source": [
    "cluster_wise_num_documents = {k: v for k, v in sorted(scaled_c1.items(), key=lambda item: item[1], reverse=True)}"
   ]
  },
  {
   "cell_type": "code",
   "execution_count": 280,
   "id": "7cadb3be-72ef-468a-b6fc-51669862deb0",
   "metadata": {
    "tags": []
   },
   "outputs": [],
   "source": [
    "document_list = []\n",
    "for cluster, num in cluster_wise_num_documents.items():\n",
    "    if num == 0:\n",
    "        break\n",
    "    else:\n",
    "        document_list.extend(np.random.choice(cluster_to_documents[cluster],int(num)))"
   ]
  },
  {
   "cell_type": "code",
   "execution_count": 283,
   "id": "33239d43-44b3-4420-94aa-7e1c2ff82749",
   "metadata": {
    "tags": []
   },
   "outputs": [
    {
     "data": {
      "text/plain": [
       "array(['automobile sector', 'IPOs, M&As', 'global economy', 'oil & gas'],\n",
       "      dtype='<U29')"
      ]
     },
     "execution_count": 283,
     "metadata": {},
     "output_type": "execute_result"
    }
   ],
   "source": [
    "topics"
   ]
  },
  {
   "cell_type": "code",
   "execution_count": 286,
   "id": "0807c519-90cf-4bc7-9f2f-06f096c01151",
   "metadata": {
    "tags": []
   },
   "outputs": [
    {
     "data": {
      "text/plain": [
       "18595"
      ]
     },
     "execution_count": 286,
     "metadata": {},
     "output_type": "execute_result"
    }
   ],
   "source": [
    "document_list[8]"
   ]
  },
  {
   "cell_type": "code",
   "execution_count": 289,
   "id": "42c79449-d2f1-4b3f-b7a5-ca4c4b5cf472",
   "metadata": {
    "tags": []
   },
   "outputs": [
    {
     "data": {
      "text/plain": [
       "663"
      ]
     },
     "execution_count": 289,
     "metadata": {},
     "output_type": "execute_result"
    }
   ],
   "source": [
    "ect_bge_small.bertopic_model.topics_[18595]"
   ]
  },
  {
   "cell_type": "code",
   "execution_count": 290,
   "id": "6874e0ba-898a-4feb-960c-659d837e9468",
   "metadata": {
    "tags": []
   },
   "outputs": [
    {
     "data": {
      "text/plain": [
       "'663_codes_redeem_updating_microsite'"
      ]
     },
     "execution_count": 290,
     "metadata": {},
     "output_type": "execute_result"
    }
   ],
   "source": [
    "ect_bge_small.bertopic_model.topic_labels_[663]"
   ]
  },
  {
   "cell_type": "code",
   "execution_count": 291,
   "id": "85871508-a159-4f9c-9ca1-e2f06386eaca",
   "metadata": {
    "tags": []
   },
   "outputs": [
    {
     "data": {
      "text/plain": [
       "'1784'"
      ]
     },
     "execution_count": 291,
     "metadata": {},
     "output_type": "execute_result"
    }
   ],
   "source": [
    "topic_cluster_map[663]"
   ]
  },
  {
   "cell_type": "code",
   "execution_count": 293,
   "id": "36f88e43-335c-4179-a1f4-7e035c13d73b",
   "metadata": {
    "tags": []
   },
   "outputs": [
    {
     "data": {
      "text/html": [
       "<div>\n",
       "<style scoped>\n",
       "    .dataframe tbody tr th:only-of-type {\n",
       "        vertical-align: middle;\n",
       "    }\n",
       "\n",
       "    .dataframe tbody tr th {\n",
       "        vertical-align: top;\n",
       "    }\n",
       "\n",
       "    .dataframe thead th {\n",
       "        text-align: right;\n",
       "    }\n",
       "</style>\n",
       "<table border=\"1\" class=\"dataframe\">\n",
       "  <thead>\n",
       "    <tr style=\"text-align: right;\">\n",
       "      <th></th>\n",
       "      <th>Parent_ID</th>\n",
       "      <th>Parent_Name</th>\n",
       "      <th>Topics</th>\n",
       "      <th>Child_Left_ID</th>\n",
       "      <th>Child_Left_Name</th>\n",
       "      <th>Child_Right_ID</th>\n",
       "      <th>Child_Right_Name</th>\n",
       "      <th>Distance</th>\n",
       "      <th>Level</th>\n",
       "      <th>num_points</th>\n",
       "      <th>points</th>\n",
       "    </tr>\n",
       "  </thead>\n",
       "  <tbody>\n",
       "    <tr>\n",
       "      <th>816</th>\n",
       "      <td>1784</td>\n",
       "      <td>codes_redeem_garena_max_fire</td>\n",
       "      <td>[298, 425, 586, 589, 600, 640, 663, 671, 851, ...</td>\n",
       "      <td>1243</td>\n",
       "      <td>codes_redeem_garena_max_fire</td>\n",
       "      <td>1020</td>\n",
       "      <td>bgmi_redeem_codes_unlock_exciting</td>\n",
       "      <td>1.207107</td>\n",
       "      <td>2</td>\n",
       "      <td>209</td>\n",
       "      <td>[12874, 15409, 15438, 15795, 15807, 15864, 158...</td>\n",
       "    </tr>\n",
       "  </tbody>\n",
       "</table>\n",
       "</div>"
      ],
      "text/plain": [
       "    Parent_ID                   Parent_Name  \\\n",
       "816      1784  codes_redeem_garena_max_fire   \n",
       "\n",
       "                                                Topics Child_Left_ID  \\\n",
       "816  [298, 425, 586, 589, 600, 640, 663, 671, 851, ...          1243   \n",
       "\n",
       "                  Child_Left_Name Child_Right_ID  \\\n",
       "816  codes_redeem_garena_max_fire           1020   \n",
       "\n",
       "                      Child_Right_Name  Distance  Level  num_points  \\\n",
       "816  bgmi_redeem_codes_unlock_exciting  1.207107      2         209   \n",
       "\n",
       "                                                points  \n",
       "816  [12874, 15409, 15438, 15795, 15807, 15864, 158...  "
      ]
     },
     "execution_count": 293,
     "metadata": {},
     "output_type": "execute_result"
    }
   ],
   "source": [
    "balanced_clusters_df[balanced_clusters_df.Parent_ID == '1784']"
   ]
  },
  {
   "cell_type": "code",
   "execution_count": 282,
   "id": "87dcf136-e577-4ef4-bd63-23b9a15bea0d",
   "metadata": {
    "tags": []
   },
   "outputs": [
    {
     "data": {
      "text/plain": [
       "[\"EXCLUSIVE INTERVIEW | From fitness to acting: A day in the life of Bollywood actor Soha Ali Khan Fitness Tips: Soha Ali Khan's Fitness Routine Will Inspire You \",\n",
       " 'Uttar Pradesh Budget : ‘Focus is on infrastructure, goal is to achieve  trillion economy,’ says FM Suresh Khanna Previously, on  May , the state government presented an annual budget of  lakh crore rupees. ',\n",
       " '75% of Indian families discuss finances together: Survey According to their recently-concluded survey, 64% of conversations on financial matters for people aged + dwell on monthly budgeting and expenses, whereas new investments and big purchases account for 60% and 54%, respectively.',\n",
       " 'Digital public infrastructure: Sowing future growth Without public funding, DPI will end up benefiting only large players; in a PPP mode, it can harness private-sector innovation and public-sector inclusivity',\n",
       " \"Nomura hires top ICICI banker to head India ECM business: Report Mahesh Natarajan replaces Mangesh Ghogre, who headed Nomura's equity capital market business in India until last month\",\n",
       " \"China to end Ant Group’s regulatory revamp with fine of at least  billion: Sources The People's Bank of China (PBOC), which has been driving the revamp at Ant after its  billion IPO was scuttled in late , is expected to disclose the fine in the coming days, the sources told Reuters.\",\n",
       " 'LVMH looks to renewed china luxury spending for earnings bump Bernard Arnault’s conglomerate has soared in valuation, but the industry faces headwinds from lower global growth',\n",
       " 'Quality crackdown to hit China imports India has imposed mandatory certification on products.QCOs are being applied to products ranging from ACs and refrigerators to footwear and chemicals',\n",
       " 'Garena Free Fire Max redeem codes April , : Get weapons, diamonds, more Developers of the game keep updating these codes daily. There is also a dedicated microsite where players can visit to redeem the available codes.',\n",
       " 'Garena Free Fire Max redeem codes for May , : Get weapons, diamonds, more Garena Free Fire Max redeem codes offer in-game items like weapons, diamonds, skins, etc. Developers update these codes daily and players can redeem them on a dedicated microsite. The codes are available for a limited time and for the first  users only. Active codes for May , , are listed. ',\n",
       " 'Garena Free Fire Max redeem codes March , : Claim free rewards Garena Free Fire Max redeem codes are available for limited hours (up to  hours) and for the first  users only.',\n",
       " 'Garena Free Fire Max redeem codes March , : Get weapons, diamonds, more Developers of the game keep updating these codes daily. There is also a dedicated microsite where players can visit to redeem the available codes.',\n",
       " 'Garena Free Fire Max redeem codes for May , : Get free rewards Garena Free Fire Max has a dedicated microsite where players can visit to redeem the available codes.',\n",
       " 'Hyundai India COO says diesel engines to continue growing, besides EVs and hybrids Tarun Garg, COO, Hyundai India says the customer demands choice in every segment and while electric will be the future, CNG, petrol and diesel SUVs are still a strong part of the game. ',\n",
       " 'BMW India launches locally produced third generation BMW X1; deliveries to commence from March The all-new BMW X1 sDrive18i xLine boasts of the biggest digital curved display in the segment.',\n",
       " 'Nissan Magnite crosses , production milestone: Details Nissan Magnite is currently exported to  global markets, including New Zealand, Australia, and countries in the Middle East, Europe, Latin America, South-East Asia, SAARC, Sub Sahara, and African regions.',\n",
       " \"ChatGPT could be blocked in Germany if necessary, warns data protection chief Ulrich Kelber, the German data protection commissioner, acknowledged that in principle, Germany could take action similar to Italy's and block ChatGPT.\",\n",
       " \"Australian mayor likely to file world's first defamation case against ChatGPT Australian politician claimed that he is concerned about his reputation after some people asked him about the claims made by ChatGPT\",\n",
       " 'A new class of drugs for weight loss could end obesity The long-term effects must be carefully studied. But the excitement is justified',\n",
       " 'AstraZeneca gets CDSCO approval for cancer treatment drug Durvalumab The approval for AstraZeneca molecule is based on the findings of a phase- global clinical trial that evaluated immunotherapy plus chemotherapy as first line treatment for advanced biliary tract cancer',\n",
       " 'PNB Q4FY23 profit surged six times to Rs , crore; dividend announced PNB reported total income at Rs  thousand crore, up  per cent in comparison to Rs  thousand crore in the fourth quarter of FY22.']"
      ]
     },
     "execution_count": 282,
     "metadata": {},
     "output_type": "execute_result"
    }
   ],
   "source": [
    "[ect_bge_small.documents[x] for x in document_list]"
   ]
  },
  {
   "cell_type": "markdown",
   "id": "b8e11561-4520-490e-8e4c-26a515f602bc",
   "metadata": {},
   "source": [
    "### Issues observed\n",
    "\n",
    "- There are documents which are irrelevant to user like Garena codes (topic 663 and cluster 1784). \n",
    "- The user's prior for that cluster is 1,2 - so it happened out of pure chance\n",
    "    - potential actionable: further suppress non direct cluster preferences\n",
    "- all those documents are actually shit and irrelevant\n",
    "    - potential actionable: the llm should be used to filter out documents which are classified as irrelevant for users"
   ]
  },
  {
   "cell_type": "code",
   "execution_count": 229,
   "id": "7ce51e88-82ea-4839-a122-f295a54e2efb",
   "metadata": {
    "tags": []
   },
   "outputs": [
    {
     "data": {
      "text/plain": [
       "112.17806864638919"
      ]
     },
     "execution_count": 229,
     "metadata": {},
     "output_type": "execute_result"
    }
   ],
   "source": [
    "np.sum(list(c1.values()))"
   ]
  },
  {
   "cell_type": "code",
   "execution_count": null,
   "id": "6c6a7f42-20ee-451d-984a-b3a16d8f6e9a",
   "metadata": {},
   "outputs": [],
   "source": [
    "def get_documents_in_cluster(generate_feed_proprotion, n_items = 20):\n",
    "    \n",
    "    "
   ]
  },
  {
   "cell_type": "code",
   "execution_count": null,
   "id": "6696e0fe-3842-458c-aa4d-94146b037068",
   "metadata": {},
   "outputs": [],
   "source": []
  }
 ],
 "metadata": {
  "kernelspec": {
   "display_name": "venv",
   "language": "python",
   "name": "venv"
  },
  "language_info": {
   "codemirror_mode": {
    "name": "ipython",
    "version": 3
   },
   "file_extension": ".py",
   "mimetype": "text/x-python",
   "name": "python",
   "nbconvert_exporter": "python",
   "pygments_lexer": "ipython3",
   "version": "3.11.4"
  }
 },
 "nbformat": 4,
 "nbformat_minor": 5
}
