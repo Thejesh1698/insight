{
 "cells": [
  {
   "cell_type": "code",
   "execution_count": 1,
   "id": "f5825029-777b-469a-a2ea-67dce4c52da8",
   "metadata": {
    "tags": []
   },
   "outputs": [
    {
     "name": "stderr",
     "output_type": "stream",
     "text": [
      "/var/folders/d4/cgyr_gnj7nn2wy_hq40gkq8c0000gq/T/ipykernel_32574/1083430745.py:4: UserWarning: \n",
      "The version_base parameter is not specified.\n",
      "Please specify a compatability version level, or None.\n",
      "Will assume defaults for version 1.1\n",
      "  with initialize(config_path=\"../../conf\"):\n"
     ]
    }
   ],
   "source": [
    "parent_folder = '/Users/ravi.tej/Desktop/ML/Recommendations/cambrian/'\n",
    "data_folder = parent_folder + 'data/'\n",
    "from hydra import compose, initialize\n",
    "with initialize(config_path=\"../../conf\"):\n",
    "    # Compose the configuration\n",
    "    cfg = compose(config_name=\"ClustersResetService.yaml\")\n",
    "\n",
    "import os\n",
    "\n",
    "import xml.etree.ElementTree as ET\n",
    "\n",
    "tree = ET.parse('../../conf/application.run.xml')\n",
    "root = tree.getroot()\n",
    "\n",
    "envs_element = root.find('./configuration/envs')\n",
    "for variable in envs_element.findall('env'):\n",
    "    name = variable.get('name')\n",
    "    value = variable.get('value')\n",
    "    os.environ[name] = value"
   ]
  },
  {
   "cell_type": "code",
   "execution_count": 2,
   "id": "cee03ee9-4b67-484b-933c-b13cbd1921ac",
   "metadata": {
    "tags": []
   },
   "outputs": [
    {
     "name": "stderr",
     "output_type": "stream",
     "text": [
      "/Users/ravi.tej/anaconda3/envs/recoenv/lib/python3.11/site-packages/umap/distances.py:1063: NumbaDeprecationWarning: The 'nopython' keyword argument was not supplied to the 'numba.jit' decorator. The implicit default value for this argument is currently False, but it will be changed to True in Numba 0.59.0. See https://numba.readthedocs.io/en/stable/reference/deprecation.html#deprecation-of-object-mode-fall-back-behaviour-when-using-jit for details.\n",
      "  @numba.jit()\n",
      "/Users/ravi.tej/anaconda3/envs/recoenv/lib/python3.11/site-packages/umap/distances.py:1071: NumbaDeprecationWarning: The 'nopython' keyword argument was not supplied to the 'numba.jit' decorator. The implicit default value for this argument is currently False, but it will be changed to True in Numba 0.59.0. See https://numba.readthedocs.io/en/stable/reference/deprecation.html#deprecation-of-object-mode-fall-back-behaviour-when-using-jit for details.\n",
      "  @numba.jit()\n",
      "/Users/ravi.tej/anaconda3/envs/recoenv/lib/python3.11/site-packages/umap/distances.py:1086: NumbaDeprecationWarning: The 'nopython' keyword argument was not supplied to the 'numba.jit' decorator. The implicit default value for this argument is currently False, but it will be changed to True in Numba 0.59.0. See https://numba.readthedocs.io/en/stable/reference/deprecation.html#deprecation-of-object-mode-fall-back-behaviour-when-using-jit for details.\n",
      "  @numba.jit()\n",
      "/Users/ravi.tej/anaconda3/envs/recoenv/lib/python3.11/site-packages/umap/umap_.py:660: NumbaDeprecationWarning: The 'nopython' keyword argument was not supplied to the 'numba.jit' decorator. The implicit default value for this argument is currently False, but it will be changed to True in Numba 0.59.0. See https://numba.readthedocs.io/en/stable/reference/deprecation.html#deprecation-of-object-mode-fall-back-behaviour-when-using-jit for details.\n",
      "  @numba.jit()\n"
     ]
    }
   ],
   "source": [
    "import sys\n",
    "\n",
    "sys.path.append('/Users/ravi.tej/Desktop/ML/Recommendations/cambrian/')\n",
    "\n",
    "from src.clustering.ClustersResetService import ClustersResetService\n",
    "from src.clustering.ClusterAssignmentService import ClusterAssignmentService\n",
    "\n",
    "import hydra\n",
    "import os\n",
    "from hydra import compose, initialize"
   ]
  },
  {
   "cell_type": "code",
   "execution_count": 3,
   "id": "4a1013ca-984f-420f-94f1-4419bbe4073e",
   "metadata": {
    "tags": []
   },
   "outputs": [
    {
     "name": "stdout",
     "output_type": "stream",
     "text": [
      "bertopic model instantiated\n"
     ]
    },
    {
     "data": {
      "application/vnd.jupyter.widget-view+json": {
       "model_id": "e90f6f2f90ad4b3da768f4cbc991f10a",
       "version_major": 2,
       "version_minor": 0
      },
      "text/plain": [
       "  0%|          | 0/4533 [00:00<?, ?it/s]"
      ]
     },
     "metadata": {},
     "output_type": "display_data"
    },
    {
     "name": "stderr",
     "output_type": "stream",
     "text": [
      "2023-10-12 12:55:11,334 - BERTopic - Reduced dimensionality\n",
      "2023-10-12 12:55:12,752 - BERTopic - Clustered reduced embeddings\n",
      "100%|██████████| 111/111 [00:00<00:00, 450.19it/s]\n"
     ]
    },
    {
     "name": "stdout",
     "output_type": "stream",
     "text": [
      "model fit to documents\n"
     ]
    },
    {
     "data": {
      "application/vnd.jupyter.widget-view+json": {
       "model_id": "4b6bc1e0e7654e7db9131acf72a2b624",
       "version_major": 2,
       "version_minor": 0
      },
      "text/plain": [
       "topic_embeddings.safetensors:   0%|          | 0.00/463k [00:00<?, ?B/s]"
      ]
     },
     "metadata": {},
     "output_type": "display_data"
    },
    {
     "data": {
      "application/vnd.jupyter.widget-view+json": {
       "model_id": "20daa994978e44ce8d370824014b8ab7",
       "version_major": 2,
       "version_minor": 0
      },
      "text/plain": [
       "ctfidf.safetensors:   0%|          | 0.00/1.04M [00:00<?, ?B/s]"
      ]
     },
     "metadata": {},
     "output_type": "display_data"
    },
    {
     "data": {
      "application/vnd.jupyter.widget-view+json": {
       "model_id": "b708734e11824afb9db9ef86e6cc8d6b",
       "version_major": 2,
       "version_minor": 0
      },
      "text/plain": [
       "Upload 2 LFS files:   0%|          | 0/2 [00:00<?, ?it/s]"
      ]
     },
     "metadata": {},
     "output_type": "display_data"
    },
    {
     "name": "stdout",
     "output_type": "stream",
     "text": [
      "docs assigned to balanced clusters\n"
     ]
    }
   ],
   "source": [
    "clustering = ClustersResetService(cfg = cfg, random_state= 86)"
   ]
  },
  {
   "cell_type": "code",
   "execution_count": 17,
   "id": "b8e3a190-db7c-40db-8ea2-f1616ed8d629",
   "metadata": {
    "tags": []
   },
   "outputs": [],
   "source": [
    "word1 = clustering.bertopic_model.embedding_model.embed_words('advanced financial concepts')"
   ]
  },
  {
   "cell_type": "code",
   "execution_count": 6,
   "id": "8e15d13f-3bba-47e4-851f-4c79d7e6c08f",
   "metadata": {
    "tags": []
   },
   "outputs": [
    {
     "data": {
      "text/plain": [
       "array([ 0.0169005 , -0.00597084,  0.02484456, ...,  0.00131385,\n",
       "       -0.00508852, -0.03187753], dtype=float32)"
      ]
     },
     "execution_count": 6,
     "metadata": {},
     "output_type": "execute_result"
    }
   ],
   "source": [
    "word1"
   ]
  },
  {
   "cell_type": "code",
   "execution_count": 28,
   "id": "b47b6f18-a2e0-4f86-a358-42659b5078ca",
   "metadata": {
    "tags": []
   },
   "outputs": [],
   "source": [
    "word2 = clustering.bertopic_model.embedding_model.embed_words(\"\"\"12.1 – Events\n",
    "Trading or investing based on just company-specific information may not be sufficient. Outside events, both economic and/or non-economic, impact stocks and the market’s performance in general. It is also important to understand the events that influence the markets.\n",
    "\n",
    "In this chapter, we will try to understand some common events and how the stock market reacts to these events.\n",
    "\n",
    "12.2 – Monetary Policy\n",
    "The monetary policy is a tool through which the Reserve Bank of India (RBI) controls the money supply by controlling the interest rates. RBI is India’s central bank. Likewise, every country’s central bank is responsible for setting interest rates. For example, the European Central Bank in Europe and Federal Reserves in the US. Central Banks tweak the interest rates to control the money supply in the mainstream economy.\n",
    "\n",
    "While setting the interest rates, the RBI has to strike a balance between growth and inflation. In a nutshell – if the interest rates are high, the borrowing rates are high (particularly for corporations). If corporate can’t borrow easily, they cannot grow. If corporations don’t grow, the economy slows down.\n",
    "\n",
    "On the other hand, borrowing becomes easier when the interest rates are low. This translates to more money in the hands of corporations and consumers. With more money, there is increased spending which means the sellers tend to increase the prices of goods and services, leading to inflation.\n",
    "\n",
    "I’d encourage you to watch this YouTube video where I’ve tried to explain what causes inflation and the means through which RBI controls inflation.\n",
    "\n",
    "\n",
    "\n",
    "To strike a balance, the RBI has to consider all economic factors and carefully set the key rates. Any imbalance in these rates can lead to economic chaos. The key RBI rates that you need to track are as follows:\n",
    "\n",
    "Repo Rate – Banks can borrow from the RBI. The rate at which RBI lends money to other banks is called the Repo Rate. If the repo rate is high, the cost of borrowing is high, leading to slow economic growth. You can check the latest repo rate (And other rates, too) on RBI’s website. Markets don’t like the RBI increasing the repo rates because it slows down economic growth.\n",
    "\n",
    "Reverse repo rate – Reverse Repo rate is the rate at which RBI borrows money from banks. Or in other words, Reverse Repo is the deposit rate RBI offers to other banks when the banks park funds with RBI. When banks deposit money to RBI, they are certain that RBI will not default, so the rate RBI offers is relatively low. However, the banking system’s money supply reduces when banks deposit money with RBI (at a lower rate) instead of the corporate entity. An increase in the reverse repo rate is not great for the economy as it tightens the money supply. Sometimes via the central bank’s policy, the central bank mandates higher deposits by banks; again, this is a way to curtail excess money supply in the mainstream economy.\n",
    "\n",
    "Cash reserve ratio (CRR) – Every bank must maintain funds with RBI. The amount that they maintain is dependent on the CRR. If CRR increases, more money is sucked out of the mainstream economy, which is not good for the economy.\n",
    "\n",
    "The monetary policy committee members meet regularly to review the economic situation and decide upon these key rates; hence keeping track of the monetary policy event is a must for any active trader. The first to react to rate decisions would be interest-rate sensitive stocks across various sectors such as – banks, automobiles, housing finance, real estate, metals, etc.\n",
    "\n",
    "12.3 – Inflation\n",
    "Inflation is a sustained increase in the general prices of goods and services. Increasing inflation erodes the purchasing power of money. All things being equal, if the cost of 1 KG of onion has increased from Rs.15 to Rs.20, this price increase is attributed to inflation. Inflation is inevitable, but a high inflation rate is not desirable as it could lead to economic uneasiness. A high level of inflation tends to send a bad signal to markets. Both the Government and RBI work towards reducing inflation to a manageable level. Inflation is generally measured using an index. If the inflation index increases by certain percentage points, it indicates rising inflation. Likewise, an index falling indicates inflation cooling off.\n",
    "\n",
    "There are two inflation indices – The Wholesale Price Index (WPI) and Consumer Price Index (CPI).\n",
    "\n",
    "Wholesale Price Index (WPI) – The WPI indicates the movement in prices at the wholesale level. It captures the price change when goods are bought and sold wholesale. WPI is an easy and convenient method to calculate inflation. The inflation measured here is at an institutional level and does not necessarily capture the consumer’s inflation.\n",
    "\n",
    "Consumer Price Index (CPI)– The CPI, on the other hand, captures the effect of the change in prices at a retail level. As a consumer, CPI inflation is what matters. The calculation of CPI is quite detailed as it involves classifying consumption into various categories and subcategories across urban and rural regions. Each of these categories is made into an index, the final CPI index is a composition of several internal indices. The CPI captures the effect of inflation on daily household consumables like fruits, vegetables, cereals, and even fuels like petrol and diesel.\n",
    "\n",
    "The computation of CPI is quite rigorous and detailed. It is one of the most critical metrics for studying the economy.  A national statistical agency, the Ministry of Statistics and Programme Implementation (MOSPI), publishes the CPI numbers around the 2nd week of every month. The RBI’s challenge is to strike a balance between inflation and interest rates. Usually, a low-interest rate tends to increase inflation, and a high-interest rate tends to arrest inflation.\n",
    "\n",
    "12.4 – Index of Industrial Production (IIP)\n",
    "The Index of Industrial Production (IIP)  is a short-term indicator of the country’s industrial sector’s progress. The data is released every month (along with inflation data) by the Ministry of Statistics and Programme Implementation (MOSPI). As the name suggests, the IIP measures the Indian industrial sectors’ production, keeping a fixed reference point. As of today, India uses the reference point of 2004-05. The reference point is also called the base year.\n",
    "\n",
    "Roughly about 15 different industries submit their production data to the ministry, which collates the data and releases it as an index number. If the IIP increases, it indicates a vibrant industrial environment (as the production is going up) and hence a positive sign for the economy and markets. A decreasing IIP indicates a sluggish production environment, hence a negative sign for the economy and markets.\n",
    "\n",
    "To sum up, an upswing in industrial production is good for the economy, and a downswing rings an alarm. As India is getting more industrialized, the relative importance of the Index of Industrial Production is increasing.\n",
    "\n",
    "A lower IIP number puts pressure on the RBI to lower the interest rates and aid industrial credit with cheaper credit.\n",
    "\n",
    "12.5 – Purchasing Managers Index (PMI)\n",
    "The Purchasing managers’ index (PMI) is an economic indicator that tries to capture business activity across the country’s manufacturing and service sectors. This is a survey-based indicator where the respondents – usually the purchasing managers- indicate their business perception change concerning the previous month. A separate survey is conducted for the service and manufacturing sectors. The data from the survey are consolidated on a single index. Typical areas covered in the survey include new orders, output, business expectations, and employment.\n",
    "\n",
    "The PMI number usually oscillates around 50. A reading above 50 indicates expansion, and below 50 indicates a contraction in the economy. And reading at 50 indicates no change in the economy.\n",
    "\n",
    "12.6 – Budget\n",
    "A Budget is an event during which the Ministry of Finance discusses the country’s finance in detail. The Finance Minister, on behalf of the ministry, makes a budget presentation to the entire country. During the budget, major policy announcements and economic reforms are announced, which impacts various industries across the markets. Therefore the budget plays a vital role in the economy.\n",
    "\n",
    "To illustrate this further, in one of the recent budgets, the expectation was to increase the duties on a cigarette. As expected, during the budget, the Finance Minister raised the duties on a cigarette, so the prices increased. An increased cigarette price has a few implications:\n",
    "\n",
    "Increased cigarette prices discourage smokers from buying cigarettes (needless to say, this is debatable), and hence the profitability of the cigarette manufacturing companies such as ITC decreases. If the profitability decreases, investors may want to sell shares of ITC.\n",
    "If market participants start selling ITC, the markets will come down because ITC is an index heavyweight.\n",
    "In reaction to the budget announcement, ITC traded 3.5% lower for this precise reason.\n",
    "\n",
    "A budget is an annual event, and it is announced during the last week of February. However, the budget announcement could be delayed under certain special circumstances, such as a new government formation.\n",
    "\n",
    "12.7 – Corporate Earnings Announcement\n",
    "Corporate earning season is perhaps one of the important events to which the stocks react. The listed companies (trading on the stock exchange) must declare their earnings once every quarter, also called the quarterly earnings numbers. During an earnings announcement, the corporate gives out details on various operational activities, including:\n",
    "\n",
    "Revenue growth\n",
    "Expense trend\n",
    "Finance charges\n",
    "Profitability trends\n",
    "Project updates\n",
    "Key trends in the industry\n",
    "Besides, some companies give an overview of what to expect from the upcoming quarters. This forecast is called ‘corporate guidance.’\n",
    "\n",
    "Invariably every quarter, the first blue-chip company to make the quarterly announcement is Infosys Limited. They also give out guidance regularly. Market participants follow what Infosys has to say regarding guidance as it impacts the markets.\n",
    "\n",
    "The table below gives you an overview of the earning season in India:\n",
    "\n",
    "Sl No\tMonths\tQuarter\tResult Announcement\n",
    "01\tApril to June\tQuarter 1 (Q1)\t1st week of July\n",
    "02\tJuly to September\tQuarter 2 (Q2)\t1st week of Oct\n",
    "03\tOctober to December\tQuarter 3 (Q3)\t1st Week of Jan\n",
    "04\tJanuary to March\tQuarter 4 (Q4)\t1st Week of April\n",
    "Do note that the 1st of April in India marks the beginning of the financial year. In the US, the financial year starts on 1st Jan, so the first quarter starts from January through March, and so forth.\n",
    "\n",
    "Every quarter when the company declares its earnings, the market participants match the earnings with their expectations of how much the company should have earned. The market participant’s expectation is called the ‘street expectation.’\n",
    "\n",
    "The stock price will react positively if the company’s earnings are better than the street expectations. The stock price will react negatively if the actual numbers are lower than the street expectation.\n",
    "\n",
    "If the street expectation and actual numbers match, the stock price tends to trade flat with a negative bias more often than not. This is mainly because the company could not give any positive surprises.\n",
    "\n",
    "12.8 – Non Financial events\n",
    "Apart from the events we discussed above, it would be best to watch out for other non-financial events to understand their impact on markets. For example, the Covid crisis of 2020 had a significant effect on economies around the world, disrupting the world economic order. The supply chain took a hit across the globe leading to an inflation spike. That said, there were select pockets of the economy that did very well, mainly the online services industry.\n",
    "\n",
    "Events like the Russia – Ukraine war or the tension between China and Taiwan have impacted world markets. Geo-political affairs such as these impact various connected economies. For instance, the war between Russia and Ukraine affects the supply of natural gas and crude oil, which significantly impacts the energy costs in Europe.\n",
    "\n",
    "As an active trader or a market participant, you need to watch out for these events and understand how these events can impact the markets.\n",
    "\n",
    "While the world economies are interconnected, isolated events (Country specific) impact the local economy. For example, the elections in India impact only the Indian economy.\n",
    "\n",
    "So, keep an eye on these non-financial events and how they can impact the stock markets or sometimes specific industries.\"\"\")"
   ]
  },
  {
   "cell_type": "code",
   "execution_count": 8,
   "id": "c006c19e-b9ab-4b96-a703-bbf8b4262a6a",
   "metadata": {
    "tags": []
   },
   "outputs": [],
   "source": [
    "from sklearn.metrics.pairwise import cosine_similarity"
   ]
  },
  {
   "cell_type": "code",
   "execution_count": 29,
   "id": "3fb91c99-673c-4332-8115-6ee251323622",
   "metadata": {
    "tags": []
   },
   "outputs": [
    {
     "data": {
      "text/plain": [
       "array([[0.6013861]], dtype=float32)"
      ]
     },
     "execution_count": 29,
     "metadata": {},
     "output_type": "execute_result"
    }
   ],
   "source": [
    "cosine_similarity(word1.reshape(-1,1).T, word2.reshape(-1,1).T)"
   ]
  },
  {
   "cell_type": "code",
   "execution_count": null,
   "id": "4e509245-59c8-4145-9199-7b5412758562",
   "metadata": {},
   "outputs": [],
   "source": []
  }
 ],
 "metadata": {
  "kernelspec": {
   "display_name": "recoenv",
   "language": "python",
   "name": "recoenv"
  },
  "language_info": {
   "codemirror_mode": {
    "name": "ipython",
    "version": 3
   },
   "file_extension": ".py",
   "mimetype": "text/x-python",
   "name": "python",
   "nbconvert_exporter": "python",
   "pygments_lexer": "ipython3",
   "version": "3.11.5"
  }
 },
 "nbformat": 4,
 "nbformat_minor": 5
}
