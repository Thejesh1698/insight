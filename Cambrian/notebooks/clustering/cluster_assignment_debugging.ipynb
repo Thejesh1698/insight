{
 "cells": [
  {
   "cell_type": "code",
   "execution_count": 1,
   "id": "83e3be6c-a5f3-494e-be4d-b46977247868",
   "metadata": {
    "tags": []
   },
   "outputs": [
    {
     "name": "stderr",
     "output_type": "stream",
     "text": [
      "/Users/username/anaconda3/envs/recoenv/lib/python3.11/site-packages/umap/distances.py:1063: NumbaDeprecationWarning: The 'nopython' keyword argument was not supplied to the 'numba.jit' decorator. The implicit default value for this argument is currently False, but it will be changed to True in Numba 0.59.0. See https://numba.readthedocs.io/en/stable/reference/deprecation.html#deprecation-of-object-mode-fall-back-behaviour-when-using-jit for details.\n",
      "  @numba.jit()\n",
      "/Users/username/anaconda3/envs/recoenv/lib/python3.11/site-packages/umap/distances.py:1071: NumbaDeprecationWarning: The 'nopython' keyword argument was not supplied to the 'numba.jit' decorator. The implicit default value for this argument is currently False, but it will be changed to True in Numba 0.59.0. See https://numba.readthedocs.io/en/stable/reference/deprecation.html#deprecation-of-object-mode-fall-back-behaviour-when-using-jit for details.\n",
      "  @numba.jit()\n",
      "/Users/username/anaconda3/envs/recoenv/lib/python3.11/site-packages/umap/distances.py:1086: NumbaDeprecationWarning: The 'nopython' keyword argument was not supplied to the 'numba.jit' decorator. The implicit default value for this argument is currently False, but it will be changed to True in Numba 0.59.0. See https://numba.readthedocs.io/en/stable/reference/deprecation.html#deprecation-of-object-mode-fall-back-behaviour-when-using-jit for details.\n",
      "  @numba.jit()\n",
      "/Users/username/anaconda3/envs/recoenv/lib/python3.11/site-packages/umap/umap_.py:660: NumbaDeprecationWarning: The 'nopython' keyword argument was not supplied to the 'numba.jit' decorator. The implicit default value for this argument is currently False, but it will be changed to True in Numba 0.59.0. See https://numba.readthedocs.io/en/stable/reference/deprecation.html#deprecation-of-object-mode-fall-back-behaviour-when-using-jit for details.\n",
      "  @numba.jit()\n"
     ]
    }
   ],
   "source": [
    "import numpy as np\n",
    "\n",
    "import sys\n",
    "\n",
    "sys.path.append('/Users/username/Desktop/ML/Recommendations/cambrian/')\n",
    "from src.clustering.ClusterAssignmentService import ClusterAssignmentService\n",
    "\n",
    "import hydra\n",
    "import os\n",
    "from hydra import compose, initialize"
   ]
  },
  {
   "cell_type": "code",
   "execution_count": 2,
   "id": "c0365876-9390-4e61-b06a-0a0147b12d31",
   "metadata": {
    "tags": []
   },
   "outputs": [],
   "source": [
    "assign = ClusterAssignmentService(bertopic_model_path='bertopic_bge_small_24_sep_with_topic_cluster_map/', topic_to_cluster_path='topic_cluster_map.json')"
   ]
  },
  {
   "cell_type": "code",
   "execution_count": 3,
   "id": "b8c7a19f-3563-4ab0-9834-ab5e147a008f",
   "metadata": {
    "tags": []
   },
   "outputs": [],
   "source": [
    "sent = 'air india stock'"
   ]
  },
  {
   "cell_type": "code",
   "execution_count": 4,
   "id": "e541ce20-c213-40a0-acb1-91ddc49a39b0",
   "metadata": {
    "tags": []
   },
   "outputs": [],
   "source": [
    "emb = assign.bertopic_model.embedding_model.embed_words(sent)"
   ]
  },
  {
   "cell_type": "code",
   "execution_count": 5,
   "id": "f3a35027-88d0-4618-96d0-6c67f577bc25",
   "metadata": {
    "scrolled": true,
    "tags": []
   },
   "outputs": [
    {
     "data": {
      "text/plain": [
       "\u001b[0;31mSignature:\u001b[0m\n",
       "\u001b[0massign\u001b[0m\u001b[0;34m.\u001b[0m\u001b[0mbertopic_model\u001b[0m\u001b[0;34m.\u001b[0m\u001b[0membedding_model\u001b[0m\u001b[0;34m.\u001b[0m\u001b[0membed_words\u001b[0m\u001b[0;34m(\u001b[0m\u001b[0;34m\u001b[0m\n",
       "\u001b[0;34m\u001b[0m    \u001b[0mwords\u001b[0m\u001b[0;34m:\u001b[0m \u001b[0mList\u001b[0m\u001b[0;34m[\u001b[0m\u001b[0mstr\u001b[0m\u001b[0;34m]\u001b[0m\u001b[0;34m,\u001b[0m\u001b[0;34m\u001b[0m\n",
       "\u001b[0;34m\u001b[0m    \u001b[0mverbose\u001b[0m\u001b[0;34m:\u001b[0m \u001b[0mbool\u001b[0m \u001b[0;34m=\u001b[0m \u001b[0;32mFalse\u001b[0m\u001b[0;34m,\u001b[0m\u001b[0;34m\u001b[0m\n",
       "\u001b[0;34m\u001b[0m\u001b[0;34m)\u001b[0m \u001b[0;34m->\u001b[0m \u001b[0mnumpy\u001b[0m\u001b[0;34m.\u001b[0m\u001b[0mndarray\u001b[0m\u001b[0;34m\u001b[0m\u001b[0;34m\u001b[0m\u001b[0m\n",
       "\u001b[0;31mDocstring:\u001b[0m\n",
       "Embed a list of n words into an n-dimensional\n",
       "matrix of embeddings\n",
       "\n",
       "Arguments:\n",
       "    words: A list of words to be embedded\n",
       "    verbose: Controls the verbosity of the process\n",
       "\n",
       "Returns:\n",
       "    Word embeddings with shape (n, m) with `n` words\n",
       "    that each have an embeddings size of `m`\n",
       "\u001b[0;31mFile:\u001b[0m      ~/anaconda3/envs/recoenv/lib/python3.11/site-packages/bertopic/backend/_base.py\n",
       "\u001b[0;31mType:\u001b[0m      method"
      ]
     },
     "metadata": {},
     "output_type": "display_data"
    }
   ],
   "source": [
    "assign.bertopic_model.embedding_model.embed_words?"
   ]
  },
  {
   "cell_type": "code",
   "execution_count": 6,
   "id": "6edc6f56-c641-4261-aa2e-9135357ceacd",
   "metadata": {
    "scrolled": true,
    "tags": []
   },
   "outputs": [
    {
     "data": {
      "text/plain": [
       "(array([4]),\n",
       " array([[0.87697506, 0.8257112 , 0.84158504, 0.8373555 , 0.8603456 ,\n",
       "         0.90125597, 0.8693791 , 0.82919914, 0.851745  , 0.8407356 ,\n",
       "         0.79113007, 0.8839359 , 0.871776  , 0.8498311 , 0.8114202 ,\n",
       "         0.83324957, 0.8446443 , 0.8079792 , 0.8752942 , 0.84342384,\n",
       "         0.86179614, 0.8518899 , 0.82564485, 0.8318484 , 0.8204112 ,\n",
       "         0.8736922 , 0.83861554, 0.8666043 , 0.83042014, 0.8627547 ,\n",
       "         0.7913588 , 0.8308308 , 0.83401686, 0.82460976, 0.84990984,\n",
       "         0.8315473 , 0.80835754, 0.8532779 , 0.79043865, 0.7897902 ,\n",
       "         0.8316814 , 0.8087018 , 0.8619294 , 0.850507  , 0.7992721 ,\n",
       "         0.8421774 , 0.84457964, 0.8110213 , 0.8176962 , 0.8309644 ,\n",
       "         0.8008025 , 0.8392165 , 0.8646153 , 0.86186105, 0.85254157,\n",
       "         0.8660729 , 0.83099663, 0.8633754 , 0.7706777 , 0.8780349 ,\n",
       "         0.8194458 , 0.83147   , 0.856046  , 0.82751274, 0.79627687,\n",
       "         0.86321855, 0.7956142 , 0.84535694, 0.8192403 , 0.82761896,\n",
       "         0.80940163, 0.8453566 , 0.802004  , 0.8123045 , 0.857559  ,\n",
       "         0.84937716, 0.8347334 , 0.7886042 , 0.8422013 , 0.84580094,\n",
       "         0.8013584 , 0.85660815, 0.8445177 , 0.7885431 , 0.87499523,\n",
       "         0.8504499 , 0.8268013 , 0.8632042 , 0.879085  , 0.8146661 ,\n",
       "         0.8522722 , 0.82108736, 0.7907644 , 0.81726414, 0.85656834,\n",
       "         0.77742547, 0.81582284, 0.8764914 , 0.83179116, 0.7540261 ,\n",
       "         0.83696413, 0.83039564, 0.8135546 , 0.8426678 , 0.8181683 ,\n",
       "         0.85891986, 0.77896595, 0.84463954, 0.84088385, 0.8855356 ,\n",
       "         0.852907  , 0.79399264, 0.8657261 , 0.8385967 , 0.8442199 ,\n",
       "         0.8486964 , 0.84979445, 0.84583324, 0.8149956 , 0.83257306,\n",
       "         0.8662763 , 0.8290691 , 0.8697127 , 0.83602536, 0.8709678 ,\n",
       "         0.8157924 , 0.8502154 , 0.7874616 , 0.7980463 , 0.83112496,\n",
       "         0.8423079 , 0.7552038 , 0.77294433, 0.8402178 , 0.83729345,\n",
       "         0.8230344 , 0.86863697, 0.7977977 , 0.8526083 , 0.8380555 ,\n",
       "         0.8045029 , 0.8388982 , 0.78212595, 0.8702438 , 0.80182904,\n",
       "         0.79509485, 0.8542421 , 0.85674584, 0.788252  , 0.7915793 ,\n",
       "         0.84351385, 0.8362318 , 0.7682816 , 0.80179375, 0.84547746,\n",
       "         0.843252  , 0.85180616, 0.8390394 , 0.8580065 , 0.8457996 ,\n",
       "         0.87286437, 0.8274888 , 0.8682054 , 0.8176208 , 0.7915817 ,\n",
       "         0.859353  , 0.84896827, 0.85643166, 0.799103  , 0.87708116,\n",
       "         0.8362832 , 0.87075174, 0.84029555, 0.85877097, 0.88097954,\n",
       "         0.8550559 , 0.8297359 , 0.8647897 , 0.83594275, 0.84556204,\n",
       "         0.839782  , 0.81279385, 0.84927833, 0.81401086, 0.81737596,\n",
       "         0.78749037, 0.84114295, 0.84008735, 0.80425435, 0.8531748 ,\n",
       "         0.8156998 , 0.82712966, 0.8420186 , 0.85125864, 0.8500376 ,\n",
       "         0.8433397 , 0.846981  , 0.85140634, 0.79577297, 0.8458757 ,\n",
       "         0.8494609 , 0.85269904, 0.8397218 , 0.80895936, 0.83861375,\n",
       "         0.8156605 , 0.8534989 , 0.8435754 , 0.78893095, 0.85719335,\n",
       "         0.84883857, 0.81828743, 0.8007605 , 0.8561883 , 0.7976208 ,\n",
       "         0.8536968 , 0.84076685, 0.8702013 , 0.8458538 , 0.8476185 ,\n",
       "         0.8303804 , 0.8563074 , 0.8481612 , 0.88608634, 0.8551268 ,\n",
       "         0.72706753, 0.8332201 , 0.7879559 , 0.84103775, 0.8186572 ,\n",
       "         0.83694285, 0.79894006, 0.83289474, 0.8314078 , 0.8494489 ,\n",
       "         0.8460375 , 0.83059406, 0.8262656 , 0.83047366, 0.8393215 ,\n",
       "         0.777218  , 0.8457887 , 0.8090518 , 0.8265112 , 0.84274703,\n",
       "         0.7781733 , 0.79811585, 0.8937367 , 0.8341212 , 0.8011117 ,\n",
       "         0.8325083 , 0.85728854, 0.8467358 , 0.8346973 , 0.8510405 ,\n",
       "         0.82425976, 0.80473286, 0.8418642 , 0.8129951 , 0.8436663 ,\n",
       "         0.83097726, 0.8494139 , 0.80632704, 0.7927772 , 0.83262014,\n",
       "         0.8360208 , 0.82842857, 0.8046963 , 0.79546833, 0.86488944,\n",
       "         0.7809735 , 0.86183226, 0.8502042 , 0.80214036, 0.831257  ]],\n",
       "       dtype=float32))"
      ]
     },
     "execution_count": 6,
     "metadata": {},
     "output_type": "execute_result"
    }
   ],
   "source": [
    "assign.bertopic_model.transform([sent],embeddings=emb.reshape(-1,1).T)"
   ]
  },
  {
   "cell_type": "code",
   "execution_count": 7,
   "id": "cbb66a8e-f3c7-43e4-8bac-9635c0f0f109",
   "metadata": {
    "tags": []
   },
   "outputs": [
    {
     "name": "stdout",
     "output_type": "stream",
     "text": [
      "4\n"
     ]
    },
    {
     "data": {
      "text/plain": [
       "'512'"
      ]
     },
     "execution_count": 7,
     "metadata": {},
     "output_type": "execute_result"
    }
   ],
   "source": [
    "assign.get_cluster_id_for_document_embedding(document=sent,embedding=emb)"
   ]
  },
  {
   "cell_type": "code",
   "execution_count": 8,
   "id": "d89bbc4d-5a2a-49d7-9113-55c940118daa",
   "metadata": {
    "tags": []
   },
   "outputs": [
    {
     "data": {
      "text/plain": [
       "'512'"
      ]
     },
     "execution_count": 8,
     "metadata": {},
     "output_type": "execute_result"
    }
   ],
   "source": [
    "assign.topic_to_cluster['4']"
   ]
  },
  {
   "cell_type": "code",
   "execution_count": null,
   "id": "bd2278fe-44cf-452b-84a6-a81174fc09f2",
   "metadata": {},
   "outputs": [],
   "source": []
  }
 ],
 "metadata": {
  "kernelspec": {
   "display_name": "recoenv",
   "language": "python",
   "name": "recoenv"
  },
  "language_info": {
   "codemirror_mode": {
    "name": "ipython",
    "version": 3
   },
   "file_extension": ".py",
   "mimetype": "text/x-python",
   "name": "python",
   "nbconvert_exporter": "python",
   "pygments_lexer": "ipython3",
   "version": "3.11.5"
  }
 },
 "nbformat": 4,
 "nbformat_minor": 5
}
