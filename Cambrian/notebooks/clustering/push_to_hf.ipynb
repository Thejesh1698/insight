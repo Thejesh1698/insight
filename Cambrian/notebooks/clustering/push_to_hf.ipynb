{
 "cells": [
  {
   "cell_type": "code",
   "execution_count": 1,
   "id": "12ab1eb6-300b-4a24-872e-25b4274e135f",
   "metadata": {
    "tags": []
   },
   "outputs": [],
   "source": [
    "from bertopic import BERTopic"
   ]
  },
  {
   "cell_type": "code",
   "execution_count": 5,
   "id": "08bdb98c-4937-4cc1-b191-4bfdf478cef7",
   "metadata": {
    "tags": []
   },
   "outputs": [],
   "source": [
    "from huggingface_hub import login"
   ]
  },
  {
   "cell_type": "code",
   "execution_count": 22,
   "id": "15fcfdab-e92e-4618-80e9-67c3f6f7337e",
   "metadata": {
    "scrolled": true,
    "tags": []
   },
   "outputs": [
    {
     "data": {
      "text/plain": [
       "\u001b[0;31mSignature:\u001b[0m\n",
       "\u001b[0mlogin\u001b[0m\u001b[0;34m(\u001b[0m\u001b[0;34m\u001b[0m\n",
       "\u001b[0;34m\u001b[0m    \u001b[0mtoken\u001b[0m\u001b[0;34m:\u001b[0m \u001b[0mOptional\u001b[0m\u001b[0;34m[\u001b[0m\u001b[0mstr\u001b[0m\u001b[0;34m]\u001b[0m \u001b[0;34m=\u001b[0m \u001b[0;32mNone\u001b[0m\u001b[0;34m,\u001b[0m\u001b[0;34m\u001b[0m\n",
       "\u001b[0;34m\u001b[0m    \u001b[0madd_to_git_credential\u001b[0m\u001b[0;34m:\u001b[0m \u001b[0mbool\u001b[0m \u001b[0;34m=\u001b[0m \u001b[0;32mFalse\u001b[0m\u001b[0;34m,\u001b[0m\u001b[0;34m\u001b[0m\n",
       "\u001b[0;34m\u001b[0m    \u001b[0mnew_session\u001b[0m\u001b[0;34m:\u001b[0m \u001b[0mbool\u001b[0m \u001b[0;34m=\u001b[0m \u001b[0;32mTrue\u001b[0m\u001b[0;34m,\u001b[0m\u001b[0;34m\u001b[0m\n",
       "\u001b[0;34m\u001b[0m    \u001b[0mwrite_permission\u001b[0m\u001b[0;34m:\u001b[0m \u001b[0mbool\u001b[0m \u001b[0;34m=\u001b[0m \u001b[0;32mFalse\u001b[0m\u001b[0;34m,\u001b[0m\u001b[0;34m\u001b[0m\n",
       "\u001b[0;34m\u001b[0m\u001b[0;34m)\u001b[0m \u001b[0;34m->\u001b[0m \u001b[0;32mNone\u001b[0m\u001b[0;34m\u001b[0m\u001b[0;34m\u001b[0m\u001b[0m\n",
       "\u001b[0;31mDocstring:\u001b[0m\n",
       "Login the machine to access the Hub.\n",
       "\n",
       "The `token` is persisted in cache and set as a git credential. Once done, the machine\n",
       "is logged in and the access token will be available across all `huggingface_hub`\n",
       "components. If `token` is not provided, it will be prompted to the user either with\n",
       "a widget (in a notebook) or via the terminal.\n",
       "\n",
       "To login from outside of a script, one can also use `huggingface-cli login` which is\n",
       "a cli command that wraps [`login`].\n",
       "\n",
       "<Tip>\n",
       "[`login`] is a drop-in replacement method for [`notebook_login`] as it wraps and\n",
       "extends its capabilities.\n",
       "</Tip>\n",
       "\n",
       "<Tip>\n",
       "When the token is not passed, [`login`] will automatically detect if the script runs\n",
       "in a notebook or not. However, this detection might not be accurate due to the\n",
       "variety of notebooks that exists nowadays. If that is the case, you can always force\n",
       "the UI by using [`notebook_login`] or [`interpreter_login`].\n",
       "</Tip>\n",
       "\n",
       "Args:\n",
       "    token (`str`, *optional*):\n",
       "        User access token to generate from https://huggingface.co/settings/token.\n",
       "    add_to_git_credential (`bool`, defaults to `False`):\n",
       "        If `True`, token will be set as git credential. If no git credential helper\n",
       "        is configured, a warning will be displayed to the user. If `token` is `None`,\n",
       "        the value of `add_to_git_credential` is ignored and will be prompted again\n",
       "        to the end user.\n",
       "    new_session (`bool`, defaults to `True`):\n",
       "        If `True`, will request a token even if one is already saved on the machine.\n",
       "    write_permission (`bool`, defaults to `False`):\n",
       "        If `True`, requires a token with write permission.\n",
       "Raises:\n",
       "    [`ValueError`](https://docs.python.org/3/library/exceptions.html#ValueError)\n",
       "        If an organization token is passed. Only personal account tokens are valid\n",
       "        to login.\n",
       "    [`ValueError`](https://docs.python.org/3/library/exceptions.html#ValueError)\n",
       "        If token is invalid.\n",
       "    [`ImportError`](https://docs.python.org/3/library/exceptions.html#ImportError)\n",
       "        If running in a notebook but `ipywidgets` is not installed.\n",
       "\u001b[0;31mFile:\u001b[0m      ~/anaconda3/envs/recoenv/lib/python3.11/site-packages/huggingface_hub/_login.py\n",
       "\u001b[0;31mType:\u001b[0m      function"
      ]
     },
     "metadata": {},
     "output_type": "display_data"
    }
   ],
   "source": [
    "login?"
   ]
  },
  {
   "cell_type": "code",
   "execution_count": 6,
   "id": "e8c56baf-5711-43d7-98ce-5e3a09f1c4f5",
   "metadata": {
    "tags": []
   },
   "outputs": [
    {
     "data": {
      "application/vnd.jupyter.widget-view+json": {
       "model_id": "7c141b86ecc74ada96798a8b98284e35",
       "version_major": 2,
       "version_minor": 0
      },
      "text/plain": [
       "VBox(children=(HTML(value='<center> <img\\nsrc=https://huggingface.co/front/assets/huggingface_logo-noborder.sv…"
      ]
     },
     "metadata": {},
     "output_type": "display_data"
    }
   ],
   "source": [
    "login()"
   ]
  },
  {
   "cell_type": "code",
   "execution_count": 4,
   "id": "5a8efa39-25ff-46fd-8336-4c604cf0e717",
   "metadata": {
    "tags": []
   },
   "outputs": [],
   "source": [
    "sample_model = BERTopic.load('bertopic_bge_small_24_sep_with_topic_cluster_map')"
   ]
  },
  {
   "cell_type": "code",
   "execution_count": 24,
   "id": "9683a981-79c4-4dd8-b45a-bf0740ab48f9",
   "metadata": {
    "tags": []
   },
   "outputs": [
    {
     "data": {
      "text/plain": [
       "\u001b[0;31mSignature:\u001b[0m\n",
       "\u001b[0msample_model\u001b[0m\u001b[0;34m.\u001b[0m\u001b[0mpush_to_hf_hub\u001b[0m\u001b[0;34m(\u001b[0m\u001b[0;34m\u001b[0m\n",
       "\u001b[0;34m\u001b[0m    \u001b[0mrepo_id\u001b[0m\u001b[0;34m:\u001b[0m \u001b[0mstr\u001b[0m\u001b[0;34m,\u001b[0m\u001b[0;34m\u001b[0m\n",
       "\u001b[0;34m\u001b[0m    \u001b[0mcommit_message\u001b[0m\u001b[0;34m:\u001b[0m \u001b[0mstr\u001b[0m \u001b[0;34m=\u001b[0m \u001b[0;34m'Add BERTopic model'\u001b[0m\u001b[0;34m,\u001b[0m\u001b[0;34m\u001b[0m\n",
       "\u001b[0;34m\u001b[0m    \u001b[0mtoken\u001b[0m\u001b[0;34m:\u001b[0m \u001b[0mstr\u001b[0m \u001b[0;34m=\u001b[0m \u001b[0;32mNone\u001b[0m\u001b[0;34m,\u001b[0m\u001b[0;34m\u001b[0m\n",
       "\u001b[0;34m\u001b[0m    \u001b[0mrevision\u001b[0m\u001b[0;34m:\u001b[0m \u001b[0mstr\u001b[0m \u001b[0;34m=\u001b[0m \u001b[0;32mNone\u001b[0m\u001b[0;34m,\u001b[0m\u001b[0;34m\u001b[0m\n",
       "\u001b[0;34m\u001b[0m    \u001b[0mprivate\u001b[0m\u001b[0;34m:\u001b[0m \u001b[0mbool\u001b[0m \u001b[0;34m=\u001b[0m \u001b[0;32mFalse\u001b[0m\u001b[0;34m,\u001b[0m\u001b[0;34m\u001b[0m\n",
       "\u001b[0;34m\u001b[0m    \u001b[0mcreate_pr\u001b[0m\u001b[0;34m:\u001b[0m \u001b[0mbool\u001b[0m \u001b[0;34m=\u001b[0m \u001b[0;32mFalse\u001b[0m\u001b[0;34m,\u001b[0m\u001b[0;34m\u001b[0m\n",
       "\u001b[0;34m\u001b[0m    \u001b[0mmodel_card\u001b[0m\u001b[0;34m:\u001b[0m \u001b[0mbool\u001b[0m \u001b[0;34m=\u001b[0m \u001b[0;32mTrue\u001b[0m\u001b[0;34m,\u001b[0m\u001b[0;34m\u001b[0m\n",
       "\u001b[0;34m\u001b[0m    \u001b[0mserialization\u001b[0m\u001b[0;34m:\u001b[0m \u001b[0mstr\u001b[0m \u001b[0;34m=\u001b[0m \u001b[0;34m'safetensors'\u001b[0m\u001b[0;34m,\u001b[0m\u001b[0;34m\u001b[0m\n",
       "\u001b[0;34m\u001b[0m    \u001b[0msave_embedding_model\u001b[0m\u001b[0;34m:\u001b[0m \u001b[0mUnion\u001b[0m\u001b[0;34m[\u001b[0m\u001b[0mstr\u001b[0m\u001b[0;34m,\u001b[0m \u001b[0mbool\u001b[0m\u001b[0;34m]\u001b[0m \u001b[0;34m=\u001b[0m \u001b[0;32mTrue\u001b[0m\u001b[0;34m,\u001b[0m\u001b[0;34m\u001b[0m\n",
       "\u001b[0;34m\u001b[0m    \u001b[0msave_ctfidf\u001b[0m\u001b[0;34m:\u001b[0m \u001b[0mbool\u001b[0m \u001b[0;34m=\u001b[0m \u001b[0;32mFalse\u001b[0m\u001b[0;34m,\u001b[0m\u001b[0;34m\u001b[0m\n",
       "\u001b[0;34m\u001b[0m\u001b[0;34m)\u001b[0m\u001b[0;34m\u001b[0m\u001b[0;34m\u001b[0m\u001b[0m\n",
       "\u001b[0;31mDocstring:\u001b[0m\n",
       "Push your BERTopic model to a HuggingFace Hub\n",
       "\n",
       "Whenever you want to upload files to the Hub, you need to log in to your Hugging Face account:\n",
       "\n",
       "* Log in to your Hugging Face account with the following command:\n",
       "    ```bash\n",
       "    huggingface-cli login\n",
       "\n",
       "    # or using an environment variable\n",
       "    huggingface-cli login --token $HUGGINGFACE_TOKEN\n",
       "    ```\n",
       "* Alternatively, you can programmatically login using login() in a notebook or a script:\n",
       "    ```python\n",
       "    from huggingface_hub import login\n",
       "    login()\n",
       "    ```\n",
       "* Or you can give a token with the `token` variable\n",
       "\n",
       "Arguments:\n",
       "    repo_id: The name of your HuggingFace repository\n",
       "    commit_message: A commit message\n",
       "    token: Token to add if not already logged in\n",
       "    revision: Repository revision\n",
       "    private: Whether to create a private repository\n",
       "    create_pr: Whether to upload the model as a Pull Request\n",
       "    model_card: Whether to automatically create a modelcard\n",
       "    serialization: The type of serialization.\n",
       "                Either `safetensors` or `pytorch`\n",
       "    save_embedding_model: A pointer towards a HuggingFace model to be loaded in with\n",
       "                            SentenceTransformers. E.g.,\n",
       "                            `sentence-transformers/all-MiniLM-L6-v2`\n",
       "    save_ctfidf: Whether to save c-TF-IDF information\n",
       "\n",
       "\n",
       "Examples:\n",
       "\n",
       "```python\n",
       "topic_model.push_to_hf_hub(\n",
       "    repo_id=\"ArXiv\",\n",
       "    save_ctfidf=True,\n",
       "    save_embedding_model=\"sentence-transformers/all-MiniLM-L6-v2\"\n",
       ")\n",
       "```\n",
       "\u001b[0;31mFile:\u001b[0m      ~/anaconda3/envs/recoenv/lib/python3.11/site-packages/bertopic/_bertopic.py\n",
       "\u001b[0;31mType:\u001b[0m      method"
      ]
     },
     "metadata": {},
     "output_type": "display_data"
    }
   ],
   "source": [
    "sample_model.push_to_hf_hub?"
   ]
  },
  {
   "cell_type": "code",
   "execution_count": 7,
   "id": "88909cd1-4193-4f2d-bff3-417b1157cb53",
   "metadata": {
    "tags": []
   },
   "outputs": [
    {
     "data": {
      "application/vnd.jupyter.widget-view+json": {
       "model_id": "015143c1ad3a4d20b675f0f7efb93599",
       "version_major": 2,
       "version_minor": 0
      },
      "text/plain": [
       "topic_embeddings.safetensors:   0%|          | 0.00/422k [00:00<?, ?B/s]"
      ]
     },
     "metadata": {},
     "output_type": "display_data"
    },
    {
     "data": {
      "application/vnd.jupyter.widget-view+json": {
       "model_id": "a496bd2c4a6a42509f197189b739a0b5",
       "version_major": 2,
       "version_minor": 0
      },
      "text/plain": [
       "ctfidf_config.json:   0%|          | 0.00/30.3M [00:00<?, ?B/s]"
      ]
     },
     "metadata": {},
     "output_type": "display_data"
    },
    {
     "data": {
      "application/vnd.jupyter.widget-view+json": {
       "model_id": "9062f74ead5749208f0ca664ca810e98",
       "version_major": 2,
       "version_minor": 0
      },
      "text/plain": [
       "Upload 3 LFS files:   0%|          | 0/3 [00:00<?, ?it/s]"
      ]
     },
     "metadata": {},
     "output_type": "display_data"
    },
    {
     "data": {
      "application/vnd.jupyter.widget-view+json": {
       "model_id": "5a4764177f914c1fa9fcbe0df6f35fe5",
       "version_major": 2,
       "version_minor": 0
      },
      "text/plain": [
       "ctfidf.safetensors:   0%|          | 0.00/25.1M [00:00<?, ?B/s]"
      ]
     },
     "metadata": {},
     "output_type": "display_data"
    },
    {
     "data": {
      "text/plain": [
       "'https://huggingface.co/WintWealth/BERTopic_test_v1/tree/main/'"
      ]
     },
     "execution_count": 7,
     "metadata": {},
     "output_type": "execute_result"
    }
   ],
   "source": [
    "sample_model.push_to_hf_hub(repo_id='WintWealth/BERTopic_test_v1', commit_message='test bertopic model on generic title data', private=True, \n",
    "                            serialization='safetensors', save_embedding_model=True, save_ctfidf=True)"
   ]
  },
  {
   "cell_type": "code",
   "execution_count": 13,
   "id": "1f33880c-2c12-4351-b7a3-da418c88823c",
   "metadata": {
    "tags": []
   },
   "outputs": [
    {
     "data": {
      "text/plain": [
       "<bertopic.backend._sentencetransformers.SentenceTransformerBackend at 0x16bcf4510>"
      ]
     },
     "execution_count": 13,
     "metadata": {},
     "output_type": "execute_result"
    }
   ],
   "source": [
    "sample_model.embedding_model"
   ]
  },
  {
   "cell_type": "code",
   "execution_count": 2,
   "id": "77deceb8-a062-4715-bfee-db2bc6e9821c",
   "metadata": {
    "scrolled": true,
    "tags": []
   },
   "outputs": [
    {
     "data": {
      "text/plain": [
       "\u001b[0;31mSignature:\u001b[0m\n",
       "\u001b[0mBERTopic\u001b[0m\u001b[0;34m.\u001b[0m\u001b[0mpush_to_hf_hub\u001b[0m\u001b[0;34m(\u001b[0m\u001b[0;34m\u001b[0m\n",
       "\u001b[0;34m\u001b[0m    \u001b[0mself\u001b[0m\u001b[0;34m,\u001b[0m\u001b[0;34m\u001b[0m\n",
       "\u001b[0;34m\u001b[0m    \u001b[0mrepo_id\u001b[0m\u001b[0;34m:\u001b[0m \u001b[0mstr\u001b[0m\u001b[0;34m,\u001b[0m\u001b[0;34m\u001b[0m\n",
       "\u001b[0;34m\u001b[0m    \u001b[0mcommit_message\u001b[0m\u001b[0;34m:\u001b[0m \u001b[0mstr\u001b[0m \u001b[0;34m=\u001b[0m \u001b[0;34m'Add BERTopic model'\u001b[0m\u001b[0;34m,\u001b[0m\u001b[0;34m\u001b[0m\n",
       "\u001b[0;34m\u001b[0m    \u001b[0mtoken\u001b[0m\u001b[0;34m:\u001b[0m \u001b[0mstr\u001b[0m \u001b[0;34m=\u001b[0m \u001b[0;32mNone\u001b[0m\u001b[0;34m,\u001b[0m\u001b[0;34m\u001b[0m\n",
       "\u001b[0;34m\u001b[0m    \u001b[0mrevision\u001b[0m\u001b[0;34m:\u001b[0m \u001b[0mstr\u001b[0m \u001b[0;34m=\u001b[0m \u001b[0;32mNone\u001b[0m\u001b[0;34m,\u001b[0m\u001b[0;34m\u001b[0m\n",
       "\u001b[0;34m\u001b[0m    \u001b[0mprivate\u001b[0m\u001b[0;34m:\u001b[0m \u001b[0mbool\u001b[0m \u001b[0;34m=\u001b[0m \u001b[0;32mFalse\u001b[0m\u001b[0;34m,\u001b[0m\u001b[0;34m\u001b[0m\n",
       "\u001b[0;34m\u001b[0m    \u001b[0mcreate_pr\u001b[0m\u001b[0;34m:\u001b[0m \u001b[0mbool\u001b[0m \u001b[0;34m=\u001b[0m \u001b[0;32mFalse\u001b[0m\u001b[0;34m,\u001b[0m\u001b[0;34m\u001b[0m\n",
       "\u001b[0;34m\u001b[0m    \u001b[0mmodel_card\u001b[0m\u001b[0;34m:\u001b[0m \u001b[0mbool\u001b[0m \u001b[0;34m=\u001b[0m \u001b[0;32mTrue\u001b[0m\u001b[0;34m,\u001b[0m\u001b[0;34m\u001b[0m\n",
       "\u001b[0;34m\u001b[0m    \u001b[0mserialization\u001b[0m\u001b[0;34m:\u001b[0m \u001b[0mstr\u001b[0m \u001b[0;34m=\u001b[0m \u001b[0;34m'safetensors'\u001b[0m\u001b[0;34m,\u001b[0m\u001b[0;34m\u001b[0m\n",
       "\u001b[0;34m\u001b[0m    \u001b[0msave_embedding_model\u001b[0m\u001b[0;34m:\u001b[0m \u001b[0mUnion\u001b[0m\u001b[0;34m[\u001b[0m\u001b[0mstr\u001b[0m\u001b[0;34m,\u001b[0m \u001b[0mbool\u001b[0m\u001b[0;34m]\u001b[0m \u001b[0;34m=\u001b[0m \u001b[0;32mTrue\u001b[0m\u001b[0;34m,\u001b[0m\u001b[0;34m\u001b[0m\n",
       "\u001b[0;34m\u001b[0m    \u001b[0msave_ctfidf\u001b[0m\u001b[0;34m:\u001b[0m \u001b[0mbool\u001b[0m \u001b[0;34m=\u001b[0m \u001b[0;32mFalse\u001b[0m\u001b[0;34m,\u001b[0m\u001b[0;34m\u001b[0m\n",
       "\u001b[0;34m\u001b[0m\u001b[0;34m)\u001b[0m\u001b[0;34m\u001b[0m\u001b[0;34m\u001b[0m\u001b[0m\n",
       "\u001b[0;31mDocstring:\u001b[0m\n",
       "Push your BERTopic model to a HuggingFace Hub\n",
       "\n",
       "Whenever you want to upload files to the Hub, you need to log in to your Hugging Face account:\n",
       "\n",
       "* Log in to your Hugging Face account with the following command:\n",
       "    ```bash\n",
       "    huggingface-cli login\n",
       "\n",
       "    # or using an environment variable\n",
       "    huggingface-cli login --token $HUGGINGFACE_TOKEN\n",
       "    ```\n",
       "* Alternatively, you can programmatically login using login() in a notebook or a script:\n",
       "    ```python\n",
       "    from huggingface_hub import login\n",
       "    login()\n",
       "    ```\n",
       "* Or you can give a token with the `token` variable\n",
       "\n",
       "Arguments:\n",
       "    repo_id: The name of your HuggingFace repository\n",
       "    commit_message: A commit message\n",
       "    token: Token to add if not already logged in\n",
       "    revision: Repository revision\n",
       "    private: Whether to create a private repository\n",
       "    create_pr: Whether to upload the model as a Pull Request\n",
       "    model_card: Whether to automatically create a modelcard\n",
       "    serialization: The type of serialization.\n",
       "                Either `safetensors` or `pytorch`\n",
       "    save_embedding_model: A pointer towards a HuggingFace model to be loaded in with\n",
       "                            SentenceTransformers. E.g.,\n",
       "                            `sentence-transformers/all-MiniLM-L6-v2`\n",
       "    save_ctfidf: Whether to save c-TF-IDF information\n",
       "\n",
       "\n",
       "Examples:\n",
       "\n",
       "```python\n",
       "topic_model.push_to_hf_hub(\n",
       "    repo_id=\"ArXiv\",\n",
       "    save_ctfidf=True,\n",
       "    save_embedding_model=\"sentence-transformers/all-MiniLM-L6-v2\"\n",
       ")\n",
       "```\n",
       "\u001b[0;31mFile:\u001b[0m      ~/anaconda3/envs/recoenv/lib/python3.11/site-packages/bertopic/_bertopic.py\n",
       "\u001b[0;31mType:\u001b[0m      function"
      ]
     },
     "metadata": {},
     "output_type": "display_data"
    }
   ],
   "source": [
    "BERTopic.push_to_hf_hub?"
   ]
  },
  {
   "cell_type": "markdown",
   "id": "0133078b-b50c-45f1-bdc6-2edb720b0ef2",
   "metadata": {},
   "source": [
    "#### Loading from HF"
   ]
  },
  {
   "cell_type": "code",
   "execution_count": 31,
   "id": "e7ada87c-ff0b-48a5-9e6c-37586fff48aa",
   "metadata": {
    "tags": []
   },
   "outputs": [
    {
     "name": "stderr",
     "output_type": "stream",
     "text": [
      "/Users/ravi.tej/anaconda3/envs/recoenv/lib/python3.11/site-packages/bertopic/_bertopic.py:3980: UserWarning: You are loading a BERTopic model without explicitly defining an embedding model.If you want to also load in an embedding model, make sure to useBERTopic.load(my_model, embedding_model=my_embedding_model).\n",
      "  warnings.warn(\"You are loading a BERTopic model without explicitly defining an embedding model.\"\n"
     ]
    }
   ],
   "source": [
    "sample_hf_model = BERTopic.load(\"WintWealth/BERTopic_test_v1\", embedding_model='BAAI/bge-small-en')"
   ]
  },
  {
   "cell_type": "code",
   "execution_count": 33,
   "id": "d3021bd9-3a17-4fb1-8c25-bf0cf3adf217",
   "metadata": {
    "tags": []
   },
   "outputs": [
    {
     "data": {
      "text/plain": [
       "<bertopic.backend._sentencetransformers.SentenceTransformerBackend at 0x2c5f1d8d0>"
      ]
     },
     "execution_count": 33,
     "metadata": {},
     "output_type": "execute_result"
    }
   ],
   "source": [
    "sample_hf_model.embedding_model"
   ]
  },
  {
   "cell_type": "code",
   "execution_count": 29,
   "id": "d1eefce7-1c77-4092-a78b-327002279f8a",
   "metadata": {
    "tags": []
   },
   "outputs": [
    {
     "ename": "AttributeError",
     "evalue": "'NoneType' object has no attribute 'flatten'",
     "output_type": "error",
     "traceback": [
      "\u001b[0;31m---------------------------------------------------------------------------\u001b[0m",
      "\u001b[0;31mAttributeError\u001b[0m                            Traceback (most recent call last)",
      "Cell \u001b[0;32mIn[29], line 1\u001b[0m\n\u001b[0;32m----> 1\u001b[0m sample_hf_model\u001b[38;5;241m.\u001b[39mfind_topics(\u001b[38;5;124m'\u001b[39m\u001b[38;5;124msensex\u001b[39m\u001b[38;5;124m'\u001b[39m)\n",
      "File \u001b[0;32m~/anaconda3/envs/recoenv/lib/python3.11/site-packages/bertopic/_bertopic.py:1289\u001b[0m, in \u001b[0;36mBERTopic.find_topics\u001b[0;34m(self, search_term, image, top_n)\u001b[0m\n\u001b[1;32m   1285\u001b[0m \u001b[38;5;66;03m# Extract search_term embeddings and compare with topic embeddings\u001b[39;00m\n\u001b[1;32m   1286\u001b[0m \u001b[38;5;28;01mif\u001b[39;00m search_term \u001b[38;5;129;01mis\u001b[39;00m \u001b[38;5;129;01mnot\u001b[39;00m \u001b[38;5;28;01mNone\u001b[39;00m:\n\u001b[1;32m   1287\u001b[0m     search_embedding \u001b[38;5;241m=\u001b[39m \u001b[38;5;28mself\u001b[39m\u001b[38;5;241m.\u001b[39m_extract_embeddings([search_term],\n\u001b[1;32m   1288\u001b[0m                                                 method\u001b[38;5;241m=\u001b[39m\u001b[38;5;124m\"\u001b[39m\u001b[38;5;124mword\u001b[39m\u001b[38;5;124m\"\u001b[39m,\n\u001b[0;32m-> 1289\u001b[0m                                                 verbose\u001b[38;5;241m=\u001b[39m\u001b[38;5;28;01mFalse\u001b[39;00m)\u001b[38;5;241m.\u001b[39mflatten()\n\u001b[1;32m   1290\u001b[0m \u001b[38;5;28;01melif\u001b[39;00m image \u001b[38;5;129;01mis\u001b[39;00m \u001b[38;5;129;01mnot\u001b[39;00m \u001b[38;5;28;01mNone\u001b[39;00m:\n\u001b[1;32m   1291\u001b[0m     search_embedding \u001b[38;5;241m=\u001b[39m \u001b[38;5;28mself\u001b[39m\u001b[38;5;241m.\u001b[39m_extract_embeddings([\u001b[38;5;28;01mNone\u001b[39;00m],\n\u001b[1;32m   1292\u001b[0m                                                 images\u001b[38;5;241m=\u001b[39m[image],\n\u001b[1;32m   1293\u001b[0m                                                 method\u001b[38;5;241m=\u001b[39m\u001b[38;5;124m\"\u001b[39m\u001b[38;5;124mdocument\u001b[39m\u001b[38;5;124m\"\u001b[39m,\n\u001b[1;32m   1294\u001b[0m                                                 verbose\u001b[38;5;241m=\u001b[39m\u001b[38;5;28;01mFalse\u001b[39;00m)\u001b[38;5;241m.\u001b[39mflatten()\n",
      "\u001b[0;31mAttributeError\u001b[0m: 'NoneType' object has no attribute 'flatten'"
     ]
    }
   ],
   "source": [
    "sample_hf_model.find_topics('sensex')"
   ]
  },
  {
   "cell_type": "code",
   "execution_count": 19,
   "id": "fb2c0c2c-eacf-4996-9066-48def8e704e1",
   "metadata": {
    "tags": []
   },
   "outputs": [
    {
     "data": {
      "text/plain": [
       "66000"
      ]
     },
     "execution_count": 19,
     "metadata": {},
     "output_type": "execute_result"
    }
   ],
   "source": [
    "len(sample_hf_model.topics_)"
   ]
  },
  {
   "cell_type": "code",
   "execution_count": 10,
   "id": "a06cd8c1-b0af-4768-9c3a-debd2515aeca",
   "metadata": {
    "tags": []
   },
   "outputs": [
    {
     "data": {
      "text/plain": [
       "([129, 51, 96, 240, 142],\n",
       " [0.90775657, 0.90007246, 0.8877982, 0.8877425, 0.8870932])"
      ]
     },
     "execution_count": 10,
     "metadata": {},
     "output_type": "execute_result"
    }
   ],
   "source": [
    "sample_model.find_topics('sensex')"
   ]
  },
  {
   "cell_type": "code",
   "execution_count": 25,
   "id": "d52c3617-aceb-47b3-8e8a-27b2b6b0cc23",
   "metadata": {
    "tags": []
   },
   "outputs": [],
   "source": [
    "a = 1"
   ]
  },
  {
   "cell_type": "code",
   "execution_count": null,
   "id": "d4e80758-47b1-4cf4-a3f3-65f220f1b59d",
   "metadata": {},
   "outputs": [],
   "source": [
    "assert "
   ]
  },
  {
   "cell_type": "code",
   "execution_count": 15,
   "id": "2ffa2523-9642-4efe-8eab-6edf605b1076",
   "metadata": {
    "tags": []
   },
   "outputs": [
    {
     "data": {
      "text/plain": [
       "<bertopic.backend._sentencetransformers.SentenceTransformerBackend at 0x2ca79c910>"
      ]
     },
     "execution_count": 15,
     "metadata": {},
     "output_type": "execute_result"
    }
   ],
   "source": [
    "sample_hf_model.embedding_model"
   ]
  },
  {
   "cell_type": "code",
   "execution_count": 16,
   "id": "d80412de-729b-45b7-9eea-ef75e3bf27c0",
   "metadata": {
    "tags": []
   },
   "outputs": [
    {
     "data": {
      "text/plain": [
       "([129, 51, 96, 240, 142],\n",
       " [0.90775657, 0.90007246, 0.8877982, 0.8877425, 0.8870932])"
      ]
     },
     "execution_count": 16,
     "metadata": {},
     "output_type": "execute_result"
    }
   ],
   "source": [
    "sample_hf_model.find_topics('sensex')"
   ]
  },
  {
   "cell_type": "code",
   "execution_count": 17,
   "id": "37292280-a29f-49f7-bd58-fca072021624",
   "metadata": {
    "tags": []
   },
   "outputs": [
    {
     "data": {
      "text/plain": [
       "array([[-0.19578218, -0.1429485 ,  0.00585259, ..., -0.3064819 ,\n",
       "         0.04930554,  0.26532844],\n",
       "       [-0.16982085, -0.15345123,  0.1657951 , ..., -0.4057643 ,\n",
       "         0.37436202,  0.1747153 ],\n",
       "       [-0.25742084, -0.30289093, -0.16158591, ..., -0.35822034,\n",
       "        -0.0395505 ,  0.14367898],\n",
       "       ...,\n",
       "       [-0.15455432,  0.00491111,  0.25397587, ..., -0.38992497,\n",
       "         0.14043497,  0.2872383 ],\n",
       "       [-0.313188  , -0.27121785,  0.03177947, ..., -0.4027196 ,\n",
       "        -0.07672733,  0.31189278],\n",
       "       [-0.10510512, -0.3214417 ,  0.09646221, ..., -0.41810116,\n",
       "        -0.6226491 ,  0.6408851 ]], dtype=float32)"
      ]
     },
     "execution_count": 17,
     "metadata": {},
     "output_type": "execute_result"
    }
   ],
   "source": [
    "sample_hf_model.topic_embeddings_"
   ]
  },
  {
   "cell_type": "code",
   "execution_count": null,
   "id": "8b543d80-f937-462d-88bd-39b40a15686c",
   "metadata": {},
   "outputs": [],
   "source": []
  }
 ],
 "metadata": {
  "kernelspec": {
   "display_name": "recoenv",
   "language": "python",
   "name": "recoenv"
  },
  "language_info": {
   "codemirror_mode": {
    "name": "ipython",
    "version": 3
   },
   "file_extension": ".py",
   "mimetype": "text/x-python",
   "name": "python",
   "nbconvert_exporter": "python",
   "pygments_lexer": "ipython3",
   "version": "3.11.5"
  }
 },
 "nbformat": 4,
 "nbformat_minor": 5
}
