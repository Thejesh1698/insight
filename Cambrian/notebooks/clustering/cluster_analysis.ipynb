{
 "cells": [
  {
   "cell_type": "code",
   "execution_count": 1,
   "id": "59ecbd21-bc51-42c7-b540-779ee6f46b8a",
   "metadata": {
    "tags": []
   },
   "outputs": [
    {
     "name": "stderr",
     "output_type": "stream",
     "text": [
      "/var/folders/d4/cgyr_gnj7nn2wy_hq40gkq8c0000gq/T/ipykernel_68720/1083430745.py:4: UserWarning: \n",
      "The version_base parameter is not specified.\n",
      "Please specify a compatability version level, or None.\n",
      "Will assume defaults for version 1.1\n",
      "  with initialize(config_path=\"../../conf\"):\n"
     ]
    }
   ],
   "source": [
    "parent_folder = '/Users/username/Desktop/ML/Recommendations/cambrian/'\n",
    "data_folder = parent_folder + 'data/'\n",
    "from hydra import compose, initialize\n",
    "with initialize(config_path=\"../../conf\"):\n",
    "    # Compose the configuration\n",
    "    cfg = compose(config_name=\"ClustersResetService.yaml\")\n",
    "\n",
    "import os\n",
    "\n",
    "import xml.etree.ElementTree as ET\n",
    "\n",
    "tree = ET.parse('../../conf/application.run.xml')\n",
    "root = tree.getroot()\n",
    "\n",
    "envs_element = root.find('./configuration/envs')\n",
    "for variable in envs_element.findall('env'):\n",
    "    name = variable.get('name')\n",
    "    value = variable.get('value')\n",
    "    os.environ[name] = value"
   ]
  },
  {
   "cell_type": "code",
   "execution_count": 186,
   "id": "6c458661-d6dc-4813-bf4d-396a890826c6",
   "metadata": {
    "tags": []
   },
   "outputs": [],
   "source": [
    "k = {'a': 1}"
   ]
  },
  {
   "cell_type": "code",
   "execution_count": 191,
   "id": "3a358289-7304-4e30-b47b-a822017ea3ca",
   "metadata": {
    "tags": []
   },
   "outputs": [
    {
     "name": "stdout",
     "output_type": "stream",
     "text": [
      "a\n"
     ]
    }
   ],
   "source": [
    "if [None]:\n",
    "    print('a')"
   ]
  },
  {
   "cell_type": "code",
   "execution_count": 2,
   "id": "7d6e4e2d-42eb-43c2-bb68-2d1614962a76",
   "metadata": {
    "tags": []
   },
   "outputs": [],
   "source": [
    "import sys\n",
    "\n",
    "sys.path.append('/Users/username/Desktop/ML/Recommendations/cambrian/')\n",
    "\n",
    "import hydra\n",
    "import os\n",
    "from hydra import compose, initialize"
   ]
  },
  {
   "cell_type": "code",
   "execution_count": 18,
   "id": "4f6d991a-e2c0-44b1-9173-0188c2d773bb",
   "metadata": {
    "tags": []
   },
   "outputs": [],
   "source": [
    "from pymongo import MongoClient"
   ]
  },
  {
   "cell_type": "code",
   "execution_count": 4,
   "id": "6197baa6-7b0c-438a-886f-a616b0013039",
   "metadata": {
    "tags": []
   },
   "outputs": [],
   "source": [
    "from sql.clustering.ClusteringSQL import ClusteringSQL\n",
    "from sql.feed.ArticleSelectionSQL import ArticleSelectionSQL"
   ]
  },
  {
   "cell_type": "code",
   "execution_count": 5,
   "id": "79642a0b-41a8-4a9b-bb97-3def60ba5891",
   "metadata": {
    "tags": []
   },
   "outputs": [],
   "source": [
    "from sql.PostgresDatabaseOperation import PostgresDatabaseOperation"
   ]
  },
  {
   "cell_type": "code",
   "execution_count": 7,
   "id": "799f83cf-a203-485a-b0ab-57b13a7c037e",
   "metadata": {
    "tags": []
   },
   "outputs": [],
   "source": [
    "import pandas as pd"
   ]
  },
  {
   "cell_type": "code",
   "execution_count": 13,
   "id": "a800c0d0-e5ac-438b-9c2c-1224d3527491",
   "metadata": {
    "tags": []
   },
   "outputs": [],
   "source": [
    "with PostgresDatabaseOperation() as cursor:\n",
    "    sql = \"\"\"SELECT article_id, acm.storyline_id, storyline_name, acm.cluster_id, cluster_name\n",
    "    FROM article_to_cluster_mapping acm\n",
    "    LEFT JOIN (SELECT parent_id as storyline_id, parent_name as storyline_name FROM cluster_hierarchy ch) as sl\n",
    "    ON acm.storyline_id = sl.storyline_id\n",
    "    LEFT JOIN (SELECT parent_id as cluster_id, parent_name as cluster_name FROM cluster_hierarchy ch) ch \n",
    "    ON acm.cluster_id = ch.cluster_id\n",
    "    \"\"\"\n",
    "    cursor.execute(sql)\n",
    "    result = cursor.fetchall()\n",
    "    df = pd.DataFrame(result, columns = ['article_id', 'storyline_id','storyline_name', 'cluster_id', 'cluster_name'])"
   ]
  },
  {
   "cell_type": "code",
   "execution_count": 14,
   "id": "f1b247d8-d5bb-4dec-bc0b-dd71a46c8bc6",
   "metadata": {
    "tags": []
   },
   "outputs": [
    {
     "data": {
      "text/html": [
       "<div>\n",
       "<style scoped>\n",
       "    .dataframe tbody tr th:only-of-type {\n",
       "        vertical-align: middle;\n",
       "    }\n",
       "\n",
       "    .dataframe tbody tr th {\n",
       "        vertical-align: top;\n",
       "    }\n",
       "\n",
       "    .dataframe thead th {\n",
       "        text-align: right;\n",
       "    }\n",
       "</style>\n",
       "<table border=\"1\" class=\"dataframe\">\n",
       "  <thead>\n",
       "    <tr style=\"text-align: right;\">\n",
       "      <th></th>\n",
       "      <th>article_id</th>\n",
       "      <th>storyline_id</th>\n",
       "      <th>storyline_name</th>\n",
       "      <th>cluster_id</th>\n",
       "      <th>cluster_name</th>\n",
       "    </tr>\n",
       "  </thead>\n",
       "  <tbody>\n",
       "    <tr>\n",
       "      <th>0</th>\n",
       "      <td>651e19c0a662d76276b8892c</td>\n",
       "      <td>-1</td>\n",
       "      <td>None</td>\n",
       "      <td>191</td>\n",
       "      <td>india_rs_pc_sales_crore</td>\n",
       "    </tr>\n",
       "    <tr>\n",
       "      <th>1</th>\n",
       "      <td>651dfda4a662d76276b84616</td>\n",
       "      <td>-1</td>\n",
       "      <td>None</td>\n",
       "      <td>203</td>\n",
       "      <td>date_release_release date_know_season</td>\n",
       "    </tr>\n",
       "    <tr>\n",
       "      <th>2</th>\n",
       "      <td>651e222fa662d76276b89d14</td>\n",
       "      <td>96</td>\n",
       "      <td>debt_shutdown_biden_government shutdown_joe biden</td>\n",
       "      <td>194</td>\n",
       "      <td>rs_sebi_rupee_dollar_paise</td>\n",
       "    </tr>\n",
       "    <tr>\n",
       "      <th>3</th>\n",
       "      <td>651e1800a662d76276b8852e</td>\n",
       "      <td>60</td>\n",
       "      <td>china_border_ladakh_arunachal_india china</td>\n",
       "      <td>205</td>\n",
       "      <td>ukraine_russia_china_russian_korea</td>\n",
       "    </tr>\n",
       "    <tr>\n",
       "      <th>4</th>\n",
       "      <td>651df96aa662d76276b83bae</td>\n",
       "      <td>9</td>\n",
       "      <td>karnataka_congress_bjp_polls_siddaramaiah</td>\n",
       "      <td>201</td>\n",
       "      <td>bjp_manipur_congress_karnataka_pawar</td>\n",
       "    </tr>\n",
       "    <tr>\n",
       "      <th>...</th>\n",
       "      <td>...</td>\n",
       "      <td>...</td>\n",
       "      <td>...</td>\n",
       "      <td>...</td>\n",
       "      <td>...</td>\n",
       "    </tr>\n",
       "    <tr>\n",
       "      <th>22824</th>\n",
       "      <td>651e11e6a662d76276b876da</td>\n",
       "      <td>31</td>\n",
       "      <td>tour_swift_taylor_taylor swift_concert</td>\n",
       "      <td>203</td>\n",
       "      <td>date_release_release date_know_season</td>\n",
       "    </tr>\n",
       "    <tr>\n",
       "      <th>22825</th>\n",
       "      <td>651de7eda662d76276b8102d</td>\n",
       "      <td>-1</td>\n",
       "      <td>None</td>\n",
       "      <td>194</td>\n",
       "      <td>rs_sebi_rupee_dollar_paise</td>\n",
       "    </tr>\n",
       "    <tr>\n",
       "      <th>22826</th>\n",
       "      <td>6520c9ddcd871c6ac1cddffd</td>\n",
       "      <td>1</td>\n",
       "      <td>ipl_asian_ipl 2023_games_asian games</td>\n",
       "      <td>185</td>\n",
       "      <td>vs_live_cup_live streaming_streaming</td>\n",
       "    </tr>\n",
       "    <tr>\n",
       "      <th>22827</th>\n",
       "      <td>6520c9e7cd871c6ac1cde00a</td>\n",
       "      <td>35</td>\n",
       "      <td>passes away_away_passes_cancer_actor</td>\n",
       "      <td>203</td>\n",
       "      <td>date_release_release date_know_season</td>\n",
       "    </tr>\n",
       "    <tr>\n",
       "      <th>22828</th>\n",
       "      <td>65236ceecd871c6ac1cde04b</td>\n",
       "      <td>39</td>\n",
       "      <td>steel_coal_mt_tata steel_coal india</td>\n",
       "      <td>191</td>\n",
       "      <td>india_rs_pc_sales_crore</td>\n",
       "    </tr>\n",
       "  </tbody>\n",
       "</table>\n",
       "<p>22829 rows × 5 columns</p>\n",
       "</div>"
      ],
      "text/plain": [
       "                     article_id  ...                           cluster_name\n",
       "0      651e19c0a662d76276b8892c  ...                india_rs_pc_sales_crore\n",
       "1      651dfda4a662d76276b84616  ...  date_release_release date_know_season\n",
       "2      651e222fa662d76276b89d14  ...             rs_sebi_rupee_dollar_paise\n",
       "3      651e1800a662d76276b8852e  ...     ukraine_russia_china_russian_korea\n",
       "4      651df96aa662d76276b83bae  ...   bjp_manipur_congress_karnataka_pawar\n",
       "...                         ...  ...                                    ...\n",
       "22824  651e11e6a662d76276b876da  ...  date_release_release date_know_season\n",
       "22825  651de7eda662d76276b8102d  ...             rs_sebi_rupee_dollar_paise\n",
       "22826  6520c9ddcd871c6ac1cddffd  ...   vs_live_cup_live streaming_streaming\n",
       "22827  6520c9e7cd871c6ac1cde00a  ...  date_release_release date_know_season\n",
       "22828  65236ceecd871c6ac1cde04b  ...                india_rs_pc_sales_crore\n",
       "\n",
       "[22829 rows x 5 columns]"
      ]
     },
     "execution_count": 14,
     "metadata": {},
     "output_type": "execute_result"
    }
   ],
   "source": [
    "df"
   ]
  },
  {
   "cell_type": "code",
   "execution_count": 20,
   "id": "a528350b-c537-4033-bc51-0832bbbcb22e",
   "metadata": {
    "tags": []
   },
   "outputs": [],
   "source": [
    "class MongoDatabaseConnection:\n",
    "    _instance = None\n",
    "    _client = None\n",
    "\n",
    "    def __new__(cls):\n",
    "        if cls._instance is None:\n",
    "            cls._instance = super(MongoDatabaseConnection, cls).__new__(cls)\n",
    "            cls._instance._client = MongoClient(\n",
    "                # host='localhost',\n",
    "                # port=27017,\n",
    "                host='localhost',\n",
    "                port=27017\n",
    "            )\n",
    "        return cls._instance\n",
    "\n",
    "    @classmethod\n",
    "    def get_database(cls):\n",
    "        db_name = 'insight_db'\n",
    "        return cls._instance._client[db_name]"
   ]
  },
  {
   "cell_type": "code",
   "execution_count": 112,
   "id": "f44ea6d9-5e8e-4146-9aa8-c7b793a5325d",
   "metadata": {
    "tags": []
   },
   "outputs": [],
   "source": [
    "def get_article_titles():\n",
    "    db = MongoDatabaseConnection().get_database()\n",
    "    articles_collection = db['articles']\n",
    "    results = articles_collection.find({\"is_premium_article\": False}, {\"published_time\": 1, \"source_id\": 1, \"_id\": 1, \"title\": 1, 'url': 1})\n",
    "    result_list = list(results)\n",
    "    df = pd.DataFrame(result_list).rename(columns={'_id': 'article_id', 'published_time': 'published_at'})\n",
    "    df['article_id'] = df['article_id'].apply(lambda x: str(x))\n",
    "    df['source_id'] = df['source_id'].apply(lambda x: str(x))\n",
    "    return df"
   ]
  },
  {
   "cell_type": "code",
   "execution_count": 113,
   "id": "3990ffe3-1903-49da-bcd7-54127ff4f95e",
   "metadata": {
    "tags": []
   },
   "outputs": [],
   "source": [
    "articles= get_article_titles()"
   ]
  },
  {
   "cell_type": "code",
   "execution_count": 117,
   "id": "362c27ac-d5e1-4696-896e-9a8275643388",
   "metadata": {
    "tags": []
   },
   "outputs": [],
   "source": [
    "is_et = ['https://economictimes.indiatimes.com/' in x for x in articles['url'].values]"
   ]
  },
  {
   "cell_type": "code",
   "execution_count": 122,
   "id": "110cae38-80b2-49e0-8e8e-107cd9bbd933",
   "metadata": {
    "tags": []
   },
   "outputs": [],
   "source": [
    "articles['category'] = articles['url'].apply(lambda x: x.split('https://economictimes.indiatimes.com/')[1].split('/')[0])\n",
    "articles['sub_category'] = articles['url'].apply(lambda x: x.split('https://economictimes.indiatimes.com/')[1].split('/')[1])"
   ]
  },
  {
   "cell_type": "code",
   "execution_count": 132,
   "id": "65a2f11d-f32c-43dc-9d06-bf10ad8c43e7",
   "metadata": {
    "tags": []
   },
   "outputs": [],
   "source": [
    "whitelisted_categories = ['industry', 'markets', 'nri', 'small-biz', 'wealth']\n",
    "whitelisted_sub_cats = ['news-company', 'news-economy', 'news-industry']"
   ]
  },
  {
   "cell_type": "code",
   "execution_count": 133,
   "id": "dda1fe0b-f599-4664-81b6-296515e5ffdb",
   "metadata": {
    "tags": []
   },
   "outputs": [],
   "source": [
    "articles['is_relevant'] = articles.apply(lambda x: x['category'] in whitelisted_categories or x['sub_category'] in whitelisted_sub_cats, axis = 1)"
   ]
  },
  {
   "cell_type": "code",
   "execution_count": 127,
   "id": "7a82eb2b-68fa-4da0-a95d-c322e2cd5af6",
   "metadata": {
    "scrolled": true,
    "tags": []
   },
   "outputs": [
    {
     "data": {
      "text/html": [
       "<div>\n",
       "<style scoped>\n",
       "    .dataframe tbody tr th:only-of-type {\n",
       "        vertical-align: middle;\n",
       "    }\n",
       "\n",
       "    .dataframe tbody tr th {\n",
       "        vertical-align: top;\n",
       "    }\n",
       "\n",
       "    .dataframe thead th {\n",
       "        text-align: right;\n",
       "    }\n",
       "</style>\n",
       "<table border=\"1\" class=\"dataframe\">\n",
       "  <thead>\n",
       "    <tr style=\"text-align: right;\">\n",
       "      <th></th>\n",
       "      <th>article_id</th>\n",
       "      <th>url</th>\n",
       "      <th>published_at</th>\n",
       "      <th>source_id</th>\n",
       "      <th>title</th>\n",
       "      <th>category</th>\n",
       "      <th>sub_category</th>\n",
       "    </tr>\n",
       "  </thead>\n",
       "  <tbody>\n",
       "    <tr>\n",
       "      <th>93</th>\n",
       "      <td>651dd3d2a662d76276b7dbd5</td>\n",
       "      <td>https://economictimes.indiatimes.com/markets/s...</td>\n",
       "      <td>2023-10-03T19:01:00+05:30</td>\n",
       "      <td>6512cdcad01a9c8e86263e05</td>\n",
       "      <td>Sebi to introduce centralised mechanism for ve...</td>\n",
       "      <td>markets</td>\n",
       "      <td>stocks</td>\n",
       "    </tr>\n",
       "    <tr>\n",
       "      <th>159</th>\n",
       "      <td>651dc5fda662d76276b7b573</td>\n",
       "      <td>https://economictimes.indiatimes.com/markets/s...</td>\n",
       "      <td>2023-09-07T20:00:00+05:30</td>\n",
       "      <td>6512cdcad01a9c8e86263e05</td>\n",
       "      <td>Tech shares pressured amid worries over intere...</td>\n",
       "      <td>markets</td>\n",
       "      <td>stocks</td>\n",
       "    </tr>\n",
       "    <tr>\n",
       "      <th>194</th>\n",
       "      <td>651dc684a662d76276b7b6bf</td>\n",
       "      <td>https://economictimes.indiatimes.com/markets/s...</td>\n",
       "      <td>2023-09-08T18:53:00+05:30</td>\n",
       "      <td>6512cdcad01a9c8e86263e05</td>\n",
       "      <td>SAT defers hearing on SEBI's confirmatory orde...</td>\n",
       "      <td>markets</td>\n",
       "      <td>stocks</td>\n",
       "    </tr>\n",
       "    <tr>\n",
       "      <th>260</th>\n",
       "      <td>651dc736a662d76276b7b8ac</td>\n",
       "      <td>https://economictimes.indiatimes.com/markets/s...</td>\n",
       "      <td>2023-09-09T12:55:00+05:30</td>\n",
       "      <td>6512cdcad01a9c8e86263e05</td>\n",
       "      <td>Why mid-market enterprises explore the AIF rou...</td>\n",
       "      <td>markets</td>\n",
       "      <td>stocks</td>\n",
       "    </tr>\n",
       "    <tr>\n",
       "      <th>305</th>\n",
       "      <td>651dc81aa662d76276b7bb43</td>\n",
       "      <td>https://economictimes.indiatimes.com/markets/s...</td>\n",
       "      <td>2023-09-11T10:27:00+05:30</td>\n",
       "      <td>6512cdcad01a9c8e86263e05</td>\n",
       "      <td>Buy Dalmia Bharat Sugar and Industries, target...</td>\n",
       "      <td>markets</td>\n",
       "      <td>stocks</td>\n",
       "    </tr>\n",
       "    <tr>\n",
       "      <th>...</th>\n",
       "      <td>...</td>\n",
       "      <td>...</td>\n",
       "      <td>...</td>\n",
       "      <td>...</td>\n",
       "      <td>...</td>\n",
       "      <td>...</td>\n",
       "      <td>...</td>\n",
       "    </tr>\n",
       "    <tr>\n",
       "      <th>22586</th>\n",
       "      <td>651e24dca662d76276b8a38f</td>\n",
       "      <td>https://economictimes.indiatimes.com/markets/s...</td>\n",
       "      <td>2023-04-30T12:28:00+05:30</td>\n",
       "      <td>6512cdcad01a9c8e86263e05</td>\n",
       "      <td>FPIs invest Rs 11,630 cr in equities in Apr on...</td>\n",
       "      <td>markets</td>\n",
       "      <td>stocks</td>\n",
       "    </tr>\n",
       "    <tr>\n",
       "      <th>22650</th>\n",
       "      <td>651e2692a662d76276b8a783</td>\n",
       "      <td>https://economictimes.indiatimes.com/markets/s...</td>\n",
       "      <td>2023-05-03T20:38:00+05:30</td>\n",
       "      <td>6512cdcad01a9c8e86263e05</td>\n",
       "      <td>ABB India net profit falls to Rs 245 crore in ...</td>\n",
       "      <td>markets</td>\n",
       "      <td>stocks</td>\n",
       "    </tr>\n",
       "    <tr>\n",
       "      <th>22693</th>\n",
       "      <td>651e259aa662d76276b8a545</td>\n",
       "      <td>https://economictimes.indiatimes.com/markets/s...</td>\n",
       "      <td>2023-05-02T18:51:00+05:30</td>\n",
       "      <td>6512cdcad01a9c8e86263e05</td>\n",
       "      <td>Spandana Sphoorty Q4 Results: PAT rises to Rs ...</td>\n",
       "      <td>markets</td>\n",
       "      <td>stocks</td>\n",
       "    </tr>\n",
       "    <tr>\n",
       "      <th>22748</th>\n",
       "      <td>651e269aa662d76276b8a78a</td>\n",
       "      <td>https://economictimes.indiatimes.com/markets/s...</td>\n",
       "      <td>2023-05-02T14:03:00+05:30</td>\n",
       "      <td>6512cdcad01a9c8e86263e05</td>\n",
       "      <td>BP back in Q1 profit after record loss on Russ...</td>\n",
       "      <td>markets</td>\n",
       "      <td>stocks</td>\n",
       "    </tr>\n",
       "    <tr>\n",
       "      <th>22753</th>\n",
       "      <td>651e2560a662d76276b8a4c7</td>\n",
       "      <td>https://economictimes.indiatimes.com/markets/s...</td>\n",
       "      <td>2023-05-02T15:11:00+05:30</td>\n",
       "      <td>6512cdcad01a9c8e86263e05</td>\n",
       "      <td>Sebi fines Future Corporate Resources, Kishore...</td>\n",
       "      <td>markets</td>\n",
       "      <td>stocks</td>\n",
       "    </tr>\n",
       "  </tbody>\n",
       "</table>\n",
       "<p>593 rows × 7 columns</p>\n",
       "</div>"
      ],
      "text/plain": [
       "                     article_id  ... sub_category\n",
       "93     651dd3d2a662d76276b7dbd5  ...       stocks\n",
       "159    651dc5fda662d76276b7b573  ...       stocks\n",
       "194    651dc684a662d76276b7b6bf  ...       stocks\n",
       "260    651dc736a662d76276b7b8ac  ...       stocks\n",
       "305    651dc81aa662d76276b7bb43  ...       stocks\n",
       "...                         ...  ...          ...\n",
       "22586  651e24dca662d76276b8a38f  ...       stocks\n",
       "22650  651e2692a662d76276b8a783  ...       stocks\n",
       "22693  651e259aa662d76276b8a545  ...       stocks\n",
       "22748  651e269aa662d76276b8a78a  ...       stocks\n",
       "22753  651e2560a662d76276b8a4c7  ...       stocks\n",
       "\n",
       "[593 rows x 7 columns]"
      ]
     },
     "execution_count": 127,
     "metadata": {},
     "output_type": "execute_result"
    }
   ],
   "source": [
    "articles[articles.sub_category == 'stocks']"
   ]
  },
  {
   "cell_type": "code",
   "execution_count": 135,
   "id": "e32bc6fd-97b9-47ee-82d9-c6515e99787b",
   "metadata": {
    "tags": []
   },
   "outputs": [],
   "source": [
    "clusters_df = pd.merge(df, articles, how = 'left', on = 'article_id')"
   ]
  },
  {
   "cell_type": "code",
   "execution_count": 138,
   "id": "31c2af80-e059-4c5f-b59d-a3ab32575d58",
   "metadata": {
    "tags": []
   },
   "outputs": [
    {
     "data": {
      "text/plain": [
       "0.16380796970808742"
      ]
     },
     "execution_count": 138,
     "metadata": {},
     "output_type": "execute_result"
    }
   ],
   "source": [
    "0.99 ** 180"
   ]
  },
  {
   "cell_type": "code",
   "execution_count": 139,
   "id": "9964527b-3f02-4c47-9902-859eef65e05b",
   "metadata": {
    "tags": []
   },
   "outputs": [
    {
     "data": {
      "text/plain": [
       "3629"
      ]
     },
     "execution_count": 139,
     "metadata": {},
     "output_type": "execute_result"
    }
   ],
   "source": [
    "len(clusters_df[clusters_df.is_relevant == True])"
   ]
  },
  {
   "cell_type": "code",
   "execution_count": 137,
   "id": "e8f679eb-71d8-494f-be58-d400b80af113",
   "metadata": {
    "tags": []
   },
   "outputs": [
    {
     "data": {
      "text/plain": [
       "cluster_name\n",
       "air_wrestlers_flight_airport_police        310\n",
       "bjp_manipur_congress_karnataka_pawar        77\n",
       "case_ed_delhi_sc_court                      24\n",
       "chandrayaan_isro_mission_space_moon          8\n",
       "covid_imd_heavy_cases_rains                132\n",
       "date_release_release date_know_season       79\n",
       "g20_summit_g20 summit_india_jaishankar      15\n",
       "india_rs_pc_sales_crore                   1994\n",
       "modi_pm modi_pm_train_odisha               133\n",
       "rs_sebi_rupee_dollar_paise                 831\n",
       "ukraine_russia_china_russian_korea          10\n",
       "vs_live_cup_live streaming_streaming        16\n",
       "Name: article_id, dtype: int64"
      ]
     },
     "execution_count": 137,
     "metadata": {},
     "output_type": "execute_result"
    }
   ],
   "source": [
    "clusters_df[(clusters_df.is_relevant == True)].groupby('cluster_name')['article_id'].count()"
   ]
  },
  {
   "cell_type": "code",
   "execution_count": 102,
   "id": "3cdef676-aaff-4640-829d-1600cced315b",
   "metadata": {
    "tags": []
   },
   "outputs": [],
   "source": [
    "sc_mapping = {row['storyline_id']:row['cluster_id'] for index, row in clusters_df[clusters_df.storyline_id != -1][['storyline_id','cluster_id']].iterrows()}"
   ]
  },
  {
   "cell_type": "code",
   "execution_count": 31,
   "id": "00ade147-3925-4b2c-a7e7-c4aa642df399",
   "metadata": {
    "scrolled": true,
    "tags": []
   },
   "outputs": [
    {
     "data": {
      "text/plain": [
       "cluster_name                            cluster_id\n",
       "air_wrestlers_flight_airport_police     188           1759\n",
       "bjp_manipur_congress_karnataka_pawar    201           4589\n",
       "case_ed_delhi_sc_court                  196            949\n",
       "chandrayaan_isro_mission_space_moon     176            313\n",
       "covid_imd_heavy_cases_rains             180           1597\n",
       "date_release_release date_know_season   203           3849\n",
       "g20_summit_g20 summit_india_jaishankar  146            373\n",
       "india_rs_pc_sales_crore                 191           3737\n",
       "modi_pm modi_pm_train_odisha            193            770\n",
       "pakistan_imran_imran khan_khan_pak      161            278\n",
       "puzzle_wordle_clues_word_quordle        108            356\n",
       "rs_sebi_rupee_dollar_paise              194           1424\n",
       "ukraine_russia_china_russian_korea      205            964\n",
       "vs_live_cup_live streaming_streaming    185           1871\n",
       "Name: article_id, dtype: int64"
      ]
     },
     "execution_count": 31,
     "metadata": {},
     "output_type": "execute_result"
    }
   ],
   "source": [
    "clusters_df.groupby(['cluster_name','cluster_id'])['article_id'].count()"
   ]
  },
  {
   "cell_type": "code",
   "execution_count": 37,
   "id": "52898bd7-588a-4e81-96c7-b3a626dd3b80",
   "metadata": {
    "tags": []
   },
   "outputs": [],
   "source": [
    "cluster_count_df = clusters_df.groupby(['cluster_id','cluster_name','storyline_id','storyline_name'])['article_id'].count().reset_index()"
   ]
  },
  {
   "cell_type": "code",
   "execution_count": null,
   "id": "5a88cf7f-00c2-4518-91b2-203eb56dc450",
   "metadata": {},
   "outputs": [],
   "source": [
    "cluster_count_df[cluster_count_df.]"
   ]
  },
  {
   "cell_type": "code",
   "execution_count": 43,
   "id": "916c8efe-e66e-41c9-830c-b6c7b542744b",
   "metadata": {
    "tags": []
   },
   "outputs": [
    {
     "data": {
      "text/plain": [
       "count    108.000000\n",
       "mean     155.240741\n",
       "std      145.420748\n",
       "min       40.000000\n",
       "10%       48.400000\n",
       "25%       70.500000\n",
       "50%       99.500000\n",
       "75%      180.250000\n",
       "90%      338.300000\n",
       "max      869.000000\n",
       "Name: article_id, dtype: float64"
      ]
     },
     "execution_count": 43,
     "metadata": {},
     "output_type": "execute_result"
    }
   ],
   "source": [
    "cluster_count_df['article_id'].describe([0.1,0.25,0.5,0.75,0.9])"
   ]
  },
  {
   "cell_type": "code",
   "execution_count": 74,
   "id": "4f51d388-230c-4aa8-8d62-4e29bbccad6c",
   "metadata": {
    "tags": []
   },
   "outputs": [
    {
     "data": {
      "text/plain": [
       "108"
      ]
     },
     "execution_count": 74,
     "metadata": {},
     "output_type": "execute_result"
    }
   ],
   "source": [
    "cluster_count_df.storyline_id.nunique()"
   ]
  },
  {
   "cell_type": "code",
   "execution_count": 90,
   "id": "69f56001-add4-48fc-9c41-84f5601cfa74",
   "metadata": {
    "tags": []
   },
   "outputs": [],
   "source": [
    "emb = {}"
   ]
  },
  {
   "cell_type": "code",
   "execution_count": 91,
   "id": "0df3018f-35d9-46e0-891c-48ff6ac119e9",
   "metadata": {
    "tags": []
   },
   "outputs": [],
   "source": [
    "emb['taxation'] = bertopic_model.embedding_model.embed_words('taxation')"
   ]
  },
  {
   "cell_type": "code",
   "execution_count": 146,
   "id": "b4651cfd-8d0a-4791-bd1b-ae18280f9efa",
   "metadata": {
    "tags": []
   },
   "outputs": [],
   "source": [
    "storyline_names = {row['storyline_id']:row['storyline_name'] for index, row in cluster_count_df[cluster_count_df.storyline_id != -1].iterrows()}"
   ]
  },
  {
   "cell_type": "code",
   "execution_count": 147,
   "id": "fdf3f9f8-56bf-4957-bd2c-c15c2ba70c73",
   "metadata": {
    "tags": []
   },
   "outputs": [],
   "source": [
    "cluster_names = {row['cluster_id']:row['cluster_name'] for index, row in cluster_count_df[['cluster_id','cluster_name']].drop_duplicates().iterrows()}"
   ]
  },
  {
   "cell_type": "code",
   "execution_count": 177,
   "id": "df1b31e5-165a-42c6-b3e6-cebad1bc6351",
   "metadata": {
    "tags": []
   },
   "outputs": [],
   "source": [
    "def find_storylines_clusters(search_term):\n",
    "    storyline_ids, prob = bertopic_model.find_topics(search_term,top_n=10)\n",
    "    valid_indices = [i for i, v in enumerate(storyline_ids) if v != -1]\n",
    "    storyline_ids = [storyline_ids[i] for i in valid_indices]\n",
    "    # prob = [prob[i] for i in valid_indices]\n",
    "    \n",
    "    s_names = [storyline_names[sc_id] for sc_id in storyline_ids]\n",
    "    cluster_ids = [sc_mapping[sc_id] for sc_id in storyline_ids]\n",
    "    c_names = [cluster_names[c_id] for c_id in cluster_ids]\n",
    "    # print(storyline_ids, s_names, cluster_ids, c_names)\n",
    "    mapping = {storyline_ids[i]: {'storyline_name': s_names[i], \n",
    "                        'cluster_name': c_names[i],\n",
    "                       'prob': prob[i],\n",
    "                       'cluster_id': cluster_ids[i]} for i in range(len(storyline_ids))}\n",
    "    return mapping"
   ]
  },
  {
   "cell_type": "code",
   "execution_count": 184,
   "id": "5a87fc59-2adf-4a7e-9a34-6e1319e8b906",
   "metadata": {
    "scrolled": true,
    "tags": []
   },
   "outputs": [
    {
     "data": {
      "text/plain": [
       "{53: {'storyline_name': 'housing_cr_rs_realty_real estate',\n",
       "  'cluster_name': 'india_rs_pc_sales_crore',\n",
       "  'prob': 0.6912444,\n",
       "  'cluster_id': 191},\n",
       " 80: {'storyline_name': 'stocks_52 week_52_nifty_week',\n",
       "  'cluster_name': 'rs_sebi_rupee_dollar_paise',\n",
       "  'prob': 0.5862149,\n",
       "  'cluster_id': 194},\n",
       " 89: {'storyline_name': 'china_economic_economy_china economy_economy china',\n",
       "  'cluster_name': 'ukraine_russia_china_russian_korea',\n",
       "  'prob': 0.5817936,\n",
       "  'cluster_id': 205},\n",
       " 85: {'storyline_name': 'growth_fy24_revenue_fmcg_growth fy24',\n",
       "  'cluster_name': 'india_rs_pc_sales_crore',\n",
       "  'prob': 0.5806071,\n",
       "  'cluster_id': 191},\n",
       " 73: {'storyline_name': 'ipo_papers_sebi_papers sebi_rs',\n",
       "  'cluster_name': 'rs_sebi_rupee_dollar_paise',\n",
       "  'prob': 0.58016825,\n",
       "  'cluster_id': 194},\n",
       " 93: {'storyline_name': 'crypto_bitcoin_ethereum_everlodge_pomerdoge',\n",
       "  'cluster_name': 'rs_sebi_rupee_dollar_paise',\n",
       "  'prob': 0.5659201,\n",
       "  'cluster_id': 194},\n",
       " 18: {'storyline_name': 'profit_bank_rbi_results_net',\n",
       "  'cluster_name': 'india_rs_pc_sales_crore',\n",
       "  'prob': 0.5638819,\n",
       "  'cluster_id': 191},\n",
       " 43: {'storyline_name': 'fed_inflation_rate_rates_economy',\n",
       "  'cluster_name': 'india_rs_pc_sales_crore',\n",
       "  'prob': 0.5584645,\n",
       "  'cluster_id': 191},\n",
       " 99: {'storyline_name': 'irdai_insurance_insurers_life_lic',\n",
       "  'cluster_name': 'rs_sebi_rupee_dollar_paise',\n",
       "  'prob': 0.5582489,\n",
       "  'cluster_id': 194}}"
      ]
     },
     "execution_count": 184,
     "metadata": {},
     "output_type": "execute_result"
    }
   ],
   "source": [
    "find_storylines_clusters('investment: real estate investment')"
   ]
  },
  {
   "cell_type": "code",
   "execution_count": 183,
   "id": "5d473287-4395-4c26-9174-13a951994a52",
   "metadata": {
    "scrolled": true,
    "tags": []
   },
   "outputs": [
    {
     "data": {
      "text/plain": [
       "{53: {'storyline_name': 'housing_cr_rs_realty_real estate',\n",
       "  'cluster_name': 'india_rs_pc_sales_crore',\n",
       "  'prob': 0.6690377,\n",
       "  'cluster_id': 191},\n",
       " 43: {'storyline_name': 'fed_inflation_rate_rates_economy',\n",
       "  'cluster_name': 'india_rs_pc_sales_crore',\n",
       "  'prob': 0.6184423,\n",
       "  'cluster_id': 191},\n",
       " 89: {'storyline_name': 'china_economic_economy_china economy_economy china',\n",
       "  'cluster_name': 'ukraine_russia_china_russian_korea',\n",
       "  'prob': 0.6152699,\n",
       "  'cluster_id': 205},\n",
       " 18: {'storyline_name': 'profit_bank_rbi_results_net',\n",
       "  'cluster_name': 'india_rs_pc_sales_crore',\n",
       "  'prob': 0.5913097,\n",
       "  'cluster_id': 191},\n",
       " 80: {'storyline_name': 'stocks_52 week_52_nifty_week',\n",
       "  'cluster_name': 'rs_sebi_rupee_dollar_paise',\n",
       "  'prob': 0.5877895,\n",
       "  'cluster_id': 194},\n",
       " 99: {'storyline_name': 'irdai_insurance_insurers_life_lic',\n",
       "  'cluster_name': 'rs_sebi_rupee_dollar_paise',\n",
       "  'prob': 0.57964313,\n",
       "  'cluster_id': 194},\n",
       " 84: {'storyline_name': 'growth_rbi_gdp_cea_economy',\n",
       "  'cluster_name': 'india_rs_pc_sales_crore',\n",
       "  'prob': 0.57154936,\n",
       "  'cluster_id': 191},\n",
       " 85: {'storyline_name': 'growth_fy24_revenue_fmcg_growth fy24',\n",
       "  'cluster_name': 'india_rs_pc_sales_crore',\n",
       "  'prob': 0.5715014,\n",
       "  'cluster_id': 191},\n",
       " 96: {'storyline_name': 'debt_shutdown_biden_government shutdown_joe biden',\n",
       "  'cluster_name': 'rs_sebi_rupee_dollar_paise',\n",
       "  'prob': 0.5695541,\n",
       "  'cluster_id': 194},\n",
       " 47: {'storyline_name': 'gst_tax_evasion_income tax_gaming',\n",
       "  'cluster_name': 'rs_sebi_rupee_dollar_paise',\n",
       "  'prob': 0.5694411,\n",
       "  'cluster_id': 194}}"
      ]
     },
     "execution_count": 183,
     "metadata": {},
     "output_type": "execute_result"
    }
   ],
   "source": [
    "find_storylines_clusters('investment: real estate and home ownership')"
   ]
  },
  {
   "cell_type": "code",
   "execution_count": 178,
   "id": "d0f11457-59e7-4fbe-be65-41c1cc370e85",
   "metadata": {
    "scrolled": true,
    "tags": []
   },
   "outputs": [
    {
     "data": {
      "text/plain": [
       "{47: {'storyline_name': 'gst_tax_evasion_income tax_gaming',\n",
       "  'cluster_name': 'rs_sebi_rupee_dollar_paise',\n",
       "  'prob': 0.6482755,\n",
       "  'cluster_id': 194},\n",
       " 29: {'storyline_name': 'rice_tomatoes_prices_wheat_kg',\n",
       "  'cluster_name': 'india_rs_pc_sales_crore',\n",
       "  'prob': 0.5816685,\n",
       "  'cluster_id': 191},\n",
       " 26: {'storyline_name': 'sc_cji_marriage_sex_court',\n",
       "  'cluster_name': 'case_ed_delhi_sc_court',\n",
       "  'prob': 0.56120294,\n",
       "  'cluster_id': 196},\n",
       " 14: {'storyline_name': 'modi_pm_pm modi_projects_rs',\n",
       "  'cluster_name': 'modi_pm modi_pm_train_odisha',\n",
       "  'prob': 0.5608822,\n",
       "  'cluster_id': 193},\n",
       " 18: {'storyline_name': 'profit_bank_rbi_results_net',\n",
       "  'cluster_name': 'india_rs_pc_sales_crore',\n",
       "  'prob': 0.5557394,\n",
       "  'cluster_id': 191},\n",
       " 43: {'storyline_name': 'fed_inflation_rate_rates_economy',\n",
       "  'cluster_name': 'india_rs_pc_sales_crore',\n",
       "  'prob': 0.5551454,\n",
       "  'cluster_id': 191},\n",
       " 17: {'storyline_name': 'exports_trade_commerce_india_goyal',\n",
       "  'cluster_name': 'india_rs_pc_sales_crore',\n",
       "  'prob': 0.55498016,\n",
       "  'cluster_id': 191},\n",
       " 10: {'storyline_name': 'ed_case_excise_bail_money laundering',\n",
       "  'cluster_name': 'case_ed_delhi_sc_court',\n",
       "  'prob': 0.5532875,\n",
       "  'cluster_id': 196},\n",
       " 96: {'storyline_name': 'debt_shutdown_biden_government shutdown_joe biden',\n",
       "  'cluster_name': 'rs_sebi_rupee_dollar_paise',\n",
       "  'prob': 0.54932344,\n",
       "  'cluster_id': 194}}"
      ]
     },
     "execution_count": 178,
     "metadata": {},
     "output_type": "execute_result"
    }
   ],
   "source": [
    "find_storylines_clusters('taxation')"
   ]
  },
  {
   "cell_type": "code",
   "execution_count": 87,
   "id": "08511e57-a727-4158-9389-45714698dc57",
   "metadata": {
    "scrolled": true,
    "tags": []
   },
   "outputs": [
    {
     "data": {
      "text/html": [
       "<div>\n",
       "<style scoped>\n",
       "    .dataframe tbody tr th:only-of-type {\n",
       "        vertical-align: middle;\n",
       "    }\n",
       "\n",
       "    .dataframe tbody tr th {\n",
       "        vertical-align: top;\n",
       "    }\n",
       "\n",
       "    .dataframe thead th {\n",
       "        text-align: right;\n",
       "    }\n",
       "</style>\n",
       "<table border=\"1\" class=\"dataframe\">\n",
       "  <thead>\n",
       "    <tr style=\"text-align: right;\">\n",
       "      <th></th>\n",
       "      <th>article_id</th>\n",
       "      <th>storyline_id</th>\n",
       "      <th>storyline_name</th>\n",
       "      <th>cluster_id</th>\n",
       "      <th>cluster_name</th>\n",
       "      <th>published_at</th>\n",
       "      <th>source_id</th>\n",
       "      <th>title</th>\n",
       "    </tr>\n",
       "  </thead>\n",
       "  <tbody>\n",
       "    <tr>\n",
       "      <th>180</th>\n",
       "      <td>651deef8a662d76276b822a0</td>\n",
       "      <td>47</td>\n",
       "      <td>gst_tax_evasion_income tax_gaming</td>\n",
       "      <td>194</td>\n",
       "      <td>rs_sebi_rupee_dollar_paise</td>\n",
       "      <td>2023-07-25T18:31:00+05:30</td>\n",
       "      <td>6512cdcad01a9c8e86263e05</td>\n",
       "      <td>Over 8.75 lakh HUFs claimed Rs 3,803 crore tax...</td>\n",
       "    </tr>\n",
       "    <tr>\n",
       "      <th>347</th>\n",
       "      <td>651de11ba662d76276b7fe18</td>\n",
       "      <td>47</td>\n",
       "      <td>gst_tax_evasion_income tax_gaming</td>\n",
       "      <td>194</td>\n",
       "      <td>rs_sebi_rupee_dollar_paise</td>\n",
       "      <td>2023-08-30T20:13:00+05:30</td>\n",
       "      <td>6512cdcad01a9c8e86263e05</td>\n",
       "      <td>GST fraud: Taxmen arrest two in Bengaluru for ...</td>\n",
       "    </tr>\n",
       "    <tr>\n",
       "      <th>579</th>\n",
       "      <td>651dcfd1a662d76276b7d062</td>\n",
       "      <td>47</td>\n",
       "      <td>gst_tax_evasion_income tax_gaming</td>\n",
       "      <td>194</td>\n",
       "      <td>rs_sebi_rupee_dollar_paise</td>\n",
       "      <td>2023-09-27T10:38:00+05:30</td>\n",
       "      <td>6512cdcad01a9c8e86263e05</td>\n",
       "      <td>No relief in Rs 10 lakh tax fine for not discl...</td>\n",
       "    </tr>\n",
       "    <tr>\n",
       "      <th>585</th>\n",
       "      <td>651e17f3a662d76276b8850a</td>\n",
       "      <td>47</td>\n",
       "      <td>gst_tax_evasion_income tax_gaming</td>\n",
       "      <td>194</td>\n",
       "      <td>rs_sebi_rupee_dollar_paise</td>\n",
       "      <td>2023-04-11T15:17:00+05:30</td>\n",
       "      <td>6512cdcad01a9c8e86263e05</td>\n",
       "      <td>If fantasy games are OK, why not online betting?</td>\n",
       "    </tr>\n",
       "    <tr>\n",
       "      <th>862</th>\n",
       "      <td>651e209ea662d76276b89963</td>\n",
       "      <td>47</td>\n",
       "      <td>gst_tax_evasion_income tax_gaming</td>\n",
       "      <td>194</td>\n",
       "      <td>rs_sebi_rupee_dollar_paise</td>\n",
       "      <td>2023-04-23T09:56:00+05:30</td>\n",
       "      <td>6512cdcad01a9c8e86263e05</td>\n",
       "      <td>GST fraud a new challenge for UP government; N...</td>\n",
       "    </tr>\n",
       "    <tr>\n",
       "      <th>...</th>\n",
       "      <td>...</td>\n",
       "      <td>...</td>\n",
       "      <td>...</td>\n",
       "      <td>...</td>\n",
       "      <td>...</td>\n",
       "      <td>...</td>\n",
       "      <td>...</td>\n",
       "      <td>...</td>\n",
       "    </tr>\n",
       "    <tr>\n",
       "      <th>22089</th>\n",
       "      <td>651e180ca662d76276b88548</td>\n",
       "      <td>47</td>\n",
       "      <td>gst_tax_evasion_income tax_gaming</td>\n",
       "      <td>194</td>\n",
       "      <td>rs_sebi_rupee_dollar_paise</td>\n",
       "      <td>2023-04-11T16:35:00+05:30</td>\n",
       "      <td>6512cdcad01a9c8e86263e05</td>\n",
       "      <td>Karnataka: I-T dept detects Rs 1k cr bogus exp...</td>\n",
       "    </tr>\n",
       "    <tr>\n",
       "      <th>22194</th>\n",
       "      <td>651e17c8a662d76276b884a5</td>\n",
       "      <td>47</td>\n",
       "      <td>gst_tax_evasion_income tax_gaming</td>\n",
       "      <td>194</td>\n",
       "      <td>rs_sebi_rupee_dollar_paise</td>\n",
       "      <td>2023-04-06T21:09:00+05:30</td>\n",
       "      <td>6512cdcad01a9c8e86263e05</td>\n",
       "      <td>Government releases norms for online gaming, p...</td>\n",
       "    </tr>\n",
       "    <tr>\n",
       "      <th>22269</th>\n",
       "      <td>651df244a662d76276b82b43</td>\n",
       "      <td>47</td>\n",
       "      <td>gst_tax_evasion_income tax_gaming</td>\n",
       "      <td>194</td>\n",
       "      <td>rs_sebi_rupee_dollar_paise</td>\n",
       "      <td>2023-08-01T16:08:00+05:30</td>\n",
       "      <td>6512cdcad01a9c8e86263e05</td>\n",
       "      <td>Sufficient enforcement provisions in law to ta...</td>\n",
       "    </tr>\n",
       "    <tr>\n",
       "      <th>22334</th>\n",
       "      <td>651e259ea662d76276b8a551</td>\n",
       "      <td>47</td>\n",
       "      <td>gst_tax_evasion_income tax_gaming</td>\n",
       "      <td>194</td>\n",
       "      <td>rs_sebi_rupee_dollar_paise</td>\n",
       "      <td>2023-05-02T17:52:00+05:30</td>\n",
       "      <td>6512cdcad01a9c8e86263e05</td>\n",
       "      <td>Centre asks states to crack down on outdoor ad...</td>\n",
       "    </tr>\n",
       "    <tr>\n",
       "      <th>22438</th>\n",
       "      <td>651de9c8a662d76276b814f7</td>\n",
       "      <td>47</td>\n",
       "      <td>gst_tax_evasion_income tax_gaming</td>\n",
       "      <td>194</td>\n",
       "      <td>rs_sebi_rupee_dollar_paise</td>\n",
       "      <td>2023-07-16T14:21:00+05:30</td>\n",
       "      <td>6512cdcad01a9c8e86263e05</td>\n",
       "      <td>File ITR at earliest as govt not contemplating...</td>\n",
       "    </tr>\n",
       "  </tbody>\n",
       "</table>\n",
       "<p>111 rows × 8 columns</p>\n",
       "</div>"
      ],
      "text/plain": [
       "                     article_id  ...                                              title\n",
       "180    651deef8a662d76276b822a0  ...  Over 8.75 lakh HUFs claimed Rs 3,803 crore tax...\n",
       "347    651de11ba662d76276b7fe18  ...  GST fraud: Taxmen arrest two in Bengaluru for ...\n",
       "579    651dcfd1a662d76276b7d062  ...  No relief in Rs 10 lakh tax fine for not discl...\n",
       "585    651e17f3a662d76276b8850a  ...   If fantasy games are OK, why not online betting?\n",
       "862    651e209ea662d76276b89963  ...  GST fraud a new challenge for UP government; N...\n",
       "...                         ...  ...                                                ...\n",
       "22089  651e180ca662d76276b88548  ...  Karnataka: I-T dept detects Rs 1k cr bogus exp...\n",
       "22194  651e17c8a662d76276b884a5  ...  Government releases norms for online gaming, p...\n",
       "22269  651df244a662d76276b82b43  ...  Sufficient enforcement provisions in law to ta...\n",
       "22334  651e259ea662d76276b8a551  ...  Centre asks states to crack down on outdoor ad...\n",
       "22438  651de9c8a662d76276b814f7  ...  File ITR at earliest as govt not contemplating...\n",
       "\n",
       "[111 rows x 8 columns]"
      ]
     },
     "execution_count": 87,
     "metadata": {},
     "output_type": "execute_result"
    }
   ],
   "source": [
    "clusters_df[clusters_df.storyline_id == 47]"
   ]
  },
  {
   "cell_type": "code",
   "execution_count": 109,
   "id": "30778448-b21b-4826-b3b2-ee8c9487bc0b",
   "metadata": {
    "scrolled": true,
    "tags": []
   },
   "outputs": [
    {
     "data": {
      "text/html": [
       "<div>\n",
       "<style scoped>\n",
       "    .dataframe tbody tr th:only-of-type {\n",
       "        vertical-align: middle;\n",
       "    }\n",
       "\n",
       "    .dataframe tbody tr th {\n",
       "        vertical-align: top;\n",
       "    }\n",
       "\n",
       "    .dataframe thead th {\n",
       "        text-align: right;\n",
       "    }\n",
       "</style>\n",
       "<table border=\"1\" class=\"dataframe\">\n",
       "  <thead>\n",
       "    <tr style=\"text-align: right;\">\n",
       "      <th></th>\n",
       "      <th>cluster_id</th>\n",
       "      <th>cluster_name</th>\n",
       "      <th>storyline_id</th>\n",
       "      <th>storyline_name</th>\n",
       "      <th>article_id</th>\n",
       "    </tr>\n",
       "  </thead>\n",
       "  <tbody>\n",
       "    <tr>\n",
       "      <th>87</th>\n",
       "      <td>203</td>\n",
       "      <td>date_release_release date_know_season</td>\n",
       "      <td>0</td>\n",
       "      <td>season_netflix_release_release date_date</td>\n",
       "      <td>869</td>\n",
       "    </tr>\n",
       "    <tr>\n",
       "      <th>88</th>\n",
       "      <td>203</td>\n",
       "      <td>date_release_release date_know_season</td>\n",
       "      <td>7</td>\n",
       "      <td>film_khan_ott_collection_office collection</td>\n",
       "      <td>415</td>\n",
       "    </tr>\n",
       "    <tr>\n",
       "      <th>89</th>\n",
       "      <td>203</td>\n",
       "      <td>date_release_release date_know_season</td>\n",
       "      <td>16</td>\n",
       "      <td>result_class_results_2023_result 2023</td>\n",
       "      <td>260</td>\n",
       "    </tr>\n",
       "    <tr>\n",
       "      <th>90</th>\n",
       "      <td>203</td>\n",
       "      <td>date_release_release date_know_season</td>\n",
       "      <td>21</td>\n",
       "      <td>xbox_game_diablo_release_nintendo</td>\n",
       "      <td>195</td>\n",
       "    </tr>\n",
       "    <tr>\n",
       "      <th>91</th>\n",
       "      <td>203</td>\n",
       "      <td>date_release_release date_know_season</td>\n",
       "      <td>31</td>\n",
       "      <td>tour_swift_taylor_taylor swift_concert</td>\n",
       "      <td>171</td>\n",
       "    </tr>\n",
       "    <tr>\n",
       "      <th>92</th>\n",
       "      <td>203</td>\n",
       "      <td>date_release_release date_know_season</td>\n",
       "      <td>32</td>\n",
       "      <td>day_day 2023_significance_2023_history</td>\n",
       "      <td>165</td>\n",
       "    </tr>\n",
       "    <tr>\n",
       "      <th>93</th>\n",
       "      <td>203</td>\n",
       "      <td>date_release_release date_know_season</td>\n",
       "      <td>35</td>\n",
       "      <td>passes away_away_passes_cancer_actor</td>\n",
       "      <td>155</td>\n",
       "    </tr>\n",
       "    <tr>\n",
       "      <th>94</th>\n",
       "      <td>203</td>\n",
       "      <td>date_release_release date_know_season</td>\n",
       "      <td>40</td>\n",
       "      <td>step_apple_musk_guide_step guide</td>\n",
       "      <td>130</td>\n",
       "    </tr>\n",
       "    <tr>\n",
       "      <th>95</th>\n",
       "      <td>203</td>\n",
       "      <td>date_release_release date_know_season</td>\n",
       "      <td>44</td>\n",
       "      <td>divorce_spears_britney spears_britney_know</td>\n",
       "      <td>120</td>\n",
       "    </tr>\n",
       "    <tr>\n",
       "      <th>96</th>\n",
       "      <td>203</td>\n",
       "      <td>date_release_release date_know_season</td>\n",
       "      <td>57</td>\n",
       "      <td>barbie_oppenheimer_box_box office_office</td>\n",
       "      <td>98</td>\n",
       "    </tr>\n",
       "    <tr>\n",
       "      <th>97</th>\n",
       "      <td>203</td>\n",
       "      <td>date_release_release date_know_season</td>\n",
       "      <td>66</td>\n",
       "      <td>specifications_samsung_apple_galaxy_check</td>\n",
       "      <td>86</td>\n",
       "    </tr>\n",
       "    <tr>\n",
       "      <th>98</th>\n",
       "      <td>203</td>\n",
       "      <td>date_release_release date_know_season</td>\n",
       "      <td>68</td>\n",
       "      <td>significance_rituals_eid_2023_2023 date</td>\n",
       "      <td>82</td>\n",
       "    </tr>\n",
       "    <tr>\n",
       "      <th>99</th>\n",
       "      <td>203</td>\n",
       "      <td>date_release_release date_know_season</td>\n",
       "      <td>95</td>\n",
       "      <td>ai_chatgpt_google_artificial intelligence_arti...</td>\n",
       "      <td>50</td>\n",
       "    </tr>\n",
       "    <tr>\n",
       "      <th>100</th>\n",
       "      <td>203</td>\n",
       "      <td>date_release_release date_know_season</td>\n",
       "      <td>106</td>\n",
       "      <td>eclipse_eclipse 2023_moon_lunar eclipse_grahan</td>\n",
       "      <td>41</td>\n",
       "    </tr>\n",
       "    <tr>\n",
       "      <th>101</th>\n",
       "      <td>203</td>\n",
       "      <td>date_release_release date_know_season</td>\n",
       "      <td>107</td>\n",
       "      <td>bts_suga_jungkook_pop_bts jungkook</td>\n",
       "      <td>40</td>\n",
       "    </tr>\n",
       "  </tbody>\n",
       "</table>\n",
       "</div>"
      ],
      "text/plain": [
       "     cluster_id  ... article_id\n",
       "87          203  ...        869\n",
       "88          203  ...        415\n",
       "89          203  ...        260\n",
       "90          203  ...        195\n",
       "91          203  ...        171\n",
       "92          203  ...        165\n",
       "93          203  ...        155\n",
       "94          203  ...        130\n",
       "95          203  ...        120\n",
       "96          203  ...         98\n",
       "97          203  ...         86\n",
       "98          203  ...         82\n",
       "99          203  ...         50\n",
       "100         203  ...         41\n",
       "101         203  ...         40\n",
       "\n",
       "[15 rows x 5 columns]"
      ]
     },
     "execution_count": 109,
     "metadata": {},
     "output_type": "execute_result"
    }
   ],
   "source": [
    "cluster_count_df[cluster_count_df.cluster_id == 203]"
   ]
  },
  {
   "cell_type": "code",
   "execution_count": 110,
   "id": "573909ea-0572-49d5-8d47-32ab19377c09",
   "metadata": {
    "tags": []
   },
   "outputs": [
    {
     "data": {
      "text/plain": [
       "2877"
      ]
     },
     "execution_count": 110,
     "metadata": {},
     "output_type": "execute_result"
    }
   ],
   "source": [
    "cluster_count_df[cluster_count_df.cluster_id == 203].article_id.sum()"
   ]
  },
  {
   "cell_type": "code",
   "execution_count": 47,
   "id": "7775481e-e04b-48ce-a683-7588e72a5dfd",
   "metadata": {
    "tags": []
   },
   "outputs": [
    {
     "name": "stderr",
     "output_type": "stream",
     "text": [
      "/Users/username/anaconda3/envs/recoenv/lib/python3.11/site-packages/bertopic/_bertopic.py:3980: UserWarning: You are loading a BERTopic model without explicitly defining an embedding model.If you want to also load in an embedding model, make sure to useBERTopic.load(my_model, embedding_model=my_embedding_model).\n",
      "  warnings.warn(\"You are loading a BERTopic model without explicitly defining an embedding model.\"\n"
     ]
    }
   ],
   "source": [
    "from src._utils import load_bertopic_model_from_hf\n",
    "bertopic_model = load_bertopic_model_from_hf()"
   ]
  },
  {
   "cell_type": "code",
   "execution_count": 82,
   "id": "a2be5750-5cad-483a-b70e-eff91366313a",
   "metadata": {
    "tags": []
   },
   "outputs": [],
   "source": [
    "from sklearn.metrics.pairwise import cosine_similarity, manhattan_distances"
   ]
  },
  {
   "cell_type": "code",
   "execution_count": 83,
   "id": "25696ffc-c5db-46d7-b96a-ed2e29a5602a",
   "metadata": {
    "tags": []
   },
   "outputs": [],
   "source": [
    "def get_cs_between_storylines(id1, id2, dist = 'cos'):\n",
    "    if dist == 'cos':\n",
    "        return cosine_similarity(bertopic_model.topic_embeddings_[id1].reshape(-1,1).T, bertopic_model.topic_embeddings_[id2].reshape(-1,1).T)\n",
    "    else:\n",
    "        return manhattan_distances(bertopic_model.topic_embeddings_[id1].reshape(-1,1).T, bertopic_model.topic_embeddings_[id2].reshape(-1,1).T)"
   ]
  },
  {
   "cell_type": "code",
   "execution_count": 60,
   "id": "2af7a75d-1fba-4fc6-9ad9-71bba68584ff",
   "metadata": {
    "tags": []
   },
   "outputs": [
    {
     "data": {
      "text/plain": [
       "array([[0.80502236]], dtype=float32)"
      ]
     },
     "execution_count": 60,
     "metadata": {},
     "output_type": "execute_result"
    }
   ],
   "source": [
    "cosine_similarity(bertopic_model.topic_embeddings_[30].reshape(-1,1).T, bertopic_model.topic_embeddings_[38].reshape(-1,1).T)"
   ]
  },
  {
   "cell_type": "code",
   "execution_count": 85,
   "id": "7cd2bcc9-28c9-45f6-98af-660261f3c776",
   "metadata": {
    "tags": []
   },
   "outputs": [
    {
     "data": {
      "text/plain": [
       "array([[17.21528239]])"
      ]
     },
     "execution_count": 85,
     "metadata": {},
     "output_type": "execute_result"
    }
   ],
   "source": [
    "get_cs_between_storylines(47, 45, dist = 'man')"
   ]
  },
  {
   "cell_type": "code",
   "execution_count": 86,
   "id": "c36a4ced-31ee-41a4-aa1f-888149c8fda0",
   "metadata": {
    "tags": []
   },
   "outputs": [
    {
     "data": {
      "text/html": [
       "<div>\n",
       "<style scoped>\n",
       "    .dataframe tbody tr th:only-of-type {\n",
       "        vertical-align: middle;\n",
       "    }\n",
       "\n",
       "    .dataframe tbody tr th {\n",
       "        vertical-align: top;\n",
       "    }\n",
       "\n",
       "    .dataframe thead th {\n",
       "        text-align: right;\n",
       "    }\n",
       "</style>\n",
       "<table border=\"1\" class=\"dataframe\">\n",
       "  <thead>\n",
       "    <tr style=\"text-align: right;\">\n",
       "      <th></th>\n",
       "      <th>cluster_id</th>\n",
       "      <th>cluster_name</th>\n",
       "      <th>storyline_id</th>\n",
       "      <th>storyline_name</th>\n",
       "      <th>article_id</th>\n",
       "    </tr>\n",
       "  </thead>\n",
       "  <tbody>\n",
       "    <tr>\n",
       "      <th>16</th>\n",
       "      <td>185</td>\n",
       "      <td>vs_live_cup_live streaming_streaming</td>\n",
       "      <td>1</td>\n",
       "      <td>ipl_asian_ipl 2023_games_asian games</td>\n",
       "      <td>805</td>\n",
       "    </tr>\n",
       "  </tbody>\n",
       "</table>\n",
       "</div>"
      ],
      "text/plain": [
       "    cluster_id  ... article_id\n",
       "16         185  ...        805\n",
       "\n",
       "[1 rows x 5 columns]"
      ]
     },
     "execution_count": 86,
     "metadata": {},
     "output_type": "execute_result"
    }
   ],
   "source": [
    "cluster_count_df[cluster_count_df.storyline_id == 1]"
   ]
  },
  {
   "cell_type": "code",
   "execution_count": 51,
   "id": "e77b2a5f-8a12-4644-8502-b878566a924b",
   "metadata": {
    "tags": []
   },
   "outputs": [
    {
     "data": {
      "text/plain": [
       "array([ 0.0206767 , -0.01522607, -0.02201222, ..., -0.01409806,\n",
       "       -0.00595029, -0.01660891], dtype=float32)"
      ]
     },
     "execution_count": 51,
     "metadata": {},
     "output_type": "execute_result"
    }
   ],
   "source": []
  },
  {
   "cell_type": "code",
   "execution_count": 50,
   "id": "573acc4a-7d89-4ee7-90aa-6022182665f9",
   "metadata": {
    "scrolled": true,
    "tags": []
   },
   "outputs": [
    {
     "data": {
      "text/plain": [
       "array([-0.00923504,  0.0186849 , -0.01047261, ..., -0.00727443,\n",
       "       -0.02175595, -0.00562101], dtype=float32)"
      ]
     },
     "execution_count": 50,
     "metadata": {},
     "output_type": "execute_result"
    }
   ],
   "source": []
  },
  {
   "cell_type": "code",
   "execution_count": 42,
   "id": "16ccfd9a-645d-49ac-a073-d29dc09b0f60",
   "metadata": {
    "tags": []
   },
   "outputs": [
    {
     "data": {
      "text/plain": [
       "array([\"Regulator's review of over 30 Swiss banks finds shortcomings in money-laundering controls\",\n",
       "       'China names Pan Gongsheng to lead central bank, succeeding Yi Gang',\n",
       "       'Rahul Gandhi has deep understanding of technology, says entrepreneur who hosted him in Silicon Valley',\n",
       "       \"Kolkata Port profit jumps 152pc in FY'23; trial run to Myanmar's Sittwe port in April\",\n",
       "       'When Narayana Murthy mentioned about Alia Bhatt in his address to IIM students',\n",
       "       \"Singapore's total population touch new high at 5.92 million: Government\",\n",
       "       'Adequate availability of fertilisers for kharif sowing; states must act against diversion of urea: Mandavi',\n",
       "       'PM Modi, British counterpart Rishi Sunak review bilateral strategic ties',\n",
       "       'UK PM Rishi Sunak defends actions over school closures',\n",
       "       'Palm oil imports fall 15% to 4.39 lakh tonnes in May',\n",
       "       'SBI Card plans to raise Rs 3,000 cr from debentures',\n",
       "       'Australia must continue to expand practical cooperation with India: Australian defence review',\n",
       "       'Urban planning needs shift from regulation to facilitation: Hardeep Puri',\n",
       "       \"Dubai 'P7' number plate sold for a record-breaking DH55M at 'Most Noble Numbers' auction\",\n",
       "       'West Coast dockworkers reach contract deal with port operators',\n",
       "       'Share of housing loans in total advances rises to 14.2 pc in 11 years: RBI report',\n",
       "       'India supports UN efforts to continue Black Sea Grain Initiative: Ruchira Kamboj',\n",
       "       'India one of fastest-growing markets for Nescafe, offers opportunity for innovation: Nestle',\n",
       "       'Return property papers to borrowers within 30 days of repayment or pay Rs 5k/day for delay, RBI to banks',\n",
       "       'First Rupee trade shipment from Petrapole border to Bangladesh'],\n",
       "      dtype=object)"
      ]
     },
     "execution_count": 42,
     "metadata": {},
     "output_type": "execute_result"
    }
   ],
   "source": [
    "clusters_df[(clusters_df.cluster_id == 191) & (clusters_df.storyline_id == -1)].sample(20)['title'].values"
   ]
  },
  {
   "cell_type": "code",
   "execution_count": null,
   "id": "d93ea1aa-aa4b-4db8-8672-04dcaae12cd2",
   "metadata": {},
   "outputs": [],
   "source": [
    "clusters_df[clusters_df.cluster_id == 191]"
   ]
  },
  {
   "cell_type": "code",
   "execution_count": 36,
   "id": "b4c8db36-b7e0-47a5-830f-f941abb7aa57",
   "metadata": {
    "tags": []
   },
   "outputs": [
    {
     "data": {
      "text/html": [
       "<div>\n",
       "<style scoped>\n",
       "    .dataframe tbody tr th:only-of-type {\n",
       "        vertical-align: middle;\n",
       "    }\n",
       "\n",
       "    .dataframe tbody tr th {\n",
       "        vertical-align: top;\n",
       "    }\n",
       "\n",
       "    .dataframe thead th {\n",
       "        text-align: right;\n",
       "    }\n",
       "</style>\n",
       "<table border=\"1\" class=\"dataframe\">\n",
       "  <thead>\n",
       "    <tr style=\"text-align: right;\">\n",
       "      <th></th>\n",
       "      <th>storyline_name</th>\n",
       "      <th>cluster_name</th>\n",
       "    </tr>\n",
       "  </thead>\n",
       "  <tbody>\n",
       "    <tr>\n",
       "      <th>0</th>\n",
       "      <td>None</td>\n",
       "      <td>india_rs_pc_sales_crore</td>\n",
       "    </tr>\n",
       "    <tr>\n",
       "      <th>17</th>\n",
       "      <td>rice_tomatoes_prices_wheat_kg</td>\n",
       "      <td>india_rs_pc_sales_crore</td>\n",
       "    </tr>\n",
       "    <tr>\n",
       "      <th>26</th>\n",
       "      <td>power_energy_mw_solar_renewable</td>\n",
       "      <td>india_rs_pc_sales_crore</td>\n",
       "    </tr>\n",
       "    <tr>\n",
       "      <th>46</th>\n",
       "      <td>electric_sales_ev_units_motors</td>\n",
       "      <td>india_rs_pc_sales_crore</td>\n",
       "    </tr>\n",
       "    <tr>\n",
       "      <th>85</th>\n",
       "      <td>steel_coal_mt_tata steel_coal india</td>\n",
       "      <td>india_rs_pc_sales_crore</td>\n",
       "    </tr>\n",
       "    <tr>\n",
       "      <th>96</th>\n",
       "      <td>profit_bank_rbi_results_net</td>\n",
       "      <td>india_rs_pc_sales_crore</td>\n",
       "    </tr>\n",
       "    <tr>\n",
       "      <th>120</th>\n",
       "      <td>fed_inflation_rate_rates_economy</td>\n",
       "      <td>india_rs_pc_sales_crore</td>\n",
       "    </tr>\n",
       "    <tr>\n",
       "      <th>186</th>\n",
       "      <td>housing_cr_rs_realty_real estate</td>\n",
       "      <td>india_rs_pc_sales_crore</td>\n",
       "    </tr>\n",
       "    <tr>\n",
       "      <th>188</th>\n",
       "      <td>exports_trade_commerce_india_goyal</td>\n",
       "      <td>india_rs_pc_sales_crore</td>\n",
       "    </tr>\n",
       "    <tr>\n",
       "      <th>254</th>\n",
       "      <td>oil_gas_ongc_prices_lpg</td>\n",
       "      <td>india_rs_pc_sales_crore</td>\n",
       "    </tr>\n",
       "    <tr>\n",
       "      <th>268</th>\n",
       "      <td>jio_5g_vodafone_idea_vodafone idea</td>\n",
       "      <td>india_rs_pc_sales_crore</td>\n",
       "    </tr>\n",
       "    <tr>\n",
       "      <th>275</th>\n",
       "      <td>growth_rbi_gdp_cea_economy</td>\n",
       "      <td>india_rs_pc_sales_crore</td>\n",
       "    </tr>\n",
       "    <tr>\n",
       "      <th>565</th>\n",
       "      <td>growth_fy24_revenue_fmcg_growth fy24</td>\n",
       "      <td>india_rs_pc_sales_crore</td>\n",
       "    </tr>\n",
       "    <tr>\n",
       "      <th>1134</th>\n",
       "      <td>semiconductor_chip_foxconn_india_micron</td>\n",
       "      <td>india_rs_pc_sales_crore</td>\n",
       "    </tr>\n",
       "  </tbody>\n",
       "</table>\n",
       "</div>"
      ],
      "text/plain": [
       "                               storyline_name             cluster_name\n",
       "0                                        None  india_rs_pc_sales_crore\n",
       "17              rice_tomatoes_prices_wheat_kg  india_rs_pc_sales_crore\n",
       "26            power_energy_mw_solar_renewable  india_rs_pc_sales_crore\n",
       "46             electric_sales_ev_units_motors  india_rs_pc_sales_crore\n",
       "85        steel_coal_mt_tata steel_coal india  india_rs_pc_sales_crore\n",
       "96                profit_bank_rbi_results_net  india_rs_pc_sales_crore\n",
       "120          fed_inflation_rate_rates_economy  india_rs_pc_sales_crore\n",
       "186          housing_cr_rs_realty_real estate  india_rs_pc_sales_crore\n",
       "188        exports_trade_commerce_india_goyal  india_rs_pc_sales_crore\n",
       "254                   oil_gas_ongc_prices_lpg  india_rs_pc_sales_crore\n",
       "268        jio_5g_vodafone_idea_vodafone idea  india_rs_pc_sales_crore\n",
       "275                growth_rbi_gdp_cea_economy  india_rs_pc_sales_crore\n",
       "565      growth_fy24_revenue_fmcg_growth fy24  india_rs_pc_sales_crore\n",
       "1134  semiconductor_chip_foxconn_india_micron  india_rs_pc_sales_crore"
      ]
     },
     "execution_count": 36,
     "metadata": {},
     "output_type": "execute_result"
    }
   ],
   "source": [
    "clusters_df[clusters_df.cluster_id == 191][['storyline_name', 'cluster_name']].drop_duplicates()"
   ]
  },
  {
   "cell_type": "code",
   "execution_count": null,
   "id": "157c7297-310f-47be-99c4-829a482983e6",
   "metadata": {},
   "outputs": [],
   "source": []
  }
 ],
 "metadata": {
  "kernelspec": {
   "display_name": "recoenv",
   "language": "python",
   "name": "recoenv"
  },
  "language_info": {
   "codemirror_mode": {
    "name": "ipython",
    "version": 3
   },
   "file_extension": ".py",
   "mimetype": "text/x-python",
   "name": "python",
   "nbconvert_exporter": "python",
   "pygments_lexer": "ipython3",
   "version": "3.11.5"
  }
 },
 "nbformat": 4,
 "nbformat_minor": 5
}
