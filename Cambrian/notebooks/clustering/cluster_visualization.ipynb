{
 "cells": [
  {
   "cell_type": "code",
   "execution_count": 1,
   "id": "8053f071-6689-4a6d-814a-90da36918ecc",
   "metadata": {
    "tags": []
   },
   "outputs": [
    {
     "name": "stderr",
     "output_type": "stream",
     "text": [
      "/var/folders/d4/cgyr_gnj7nn2wy_hq40gkq8c0000gq/T/ipykernel_5054/1083430745.py:4: UserWarning: \n",
      "The version_base parameter is not specified.\n",
      "Please specify a compatability version level, or None.\n",
      "Will assume defaults for version 1.1\n",
      "  with initialize(config_path=\"../../conf\"):\n"
     ]
    }
   ],
   "source": [
    "parent_folder = '/Users/username/Desktop/ML/Recommendations/cambrian/'\n",
    "data_folder = parent_folder + 'data/'\n",
    "from hydra import compose, initialize\n",
    "with initialize(config_path=\"../../conf\"):\n",
    "    # Compose the configuration\n",
    "    cfg = compose(config_name=\"ClustersResetService.yaml\")\n",
    "\n",
    "import os\n",
    "\n",
    "import xml.etree.ElementTree as ET\n",
    "\n",
    "tree = ET.parse('../../conf/application.run.xml')\n",
    "root = tree.getroot()\n",
    "\n",
    "envs_element = root.find('./configuration/envs')\n",
    "for variable in envs_element.findall('env'):\n",
    "    name = variable.get('name')\n",
    "    value = variable.get('value')\n",
    "    os.environ[name] = value"
   ]
  },
  {
   "cell_type": "code",
   "execution_count": 2,
   "id": "b9177db5-b8b4-4f87-bd91-cda92ca70202",
   "metadata": {
    "tags": []
   },
   "outputs": [
    {
     "name": "stderr",
     "output_type": "stream",
     "text": [
      "/Users/username/anaconda3/envs/recoenv/lib/python3.11/site-packages/umap/distances.py:1063: NumbaDeprecationWarning: The 'nopython' keyword argument was not supplied to the 'numba.jit' decorator. The implicit default value for this argument is currently False, but it will be changed to True in Numba 0.59.0. See https://numba.readthedocs.io/en/stable/reference/deprecation.html#deprecation-of-object-mode-fall-back-behaviour-when-using-jit for details.\n",
      "  @numba.jit()\n",
      "/Users/username/anaconda3/envs/recoenv/lib/python3.11/site-packages/umap/distances.py:1071: NumbaDeprecationWarning: The 'nopython' keyword argument was not supplied to the 'numba.jit' decorator. The implicit default value for this argument is currently False, but it will be changed to True in Numba 0.59.0. See https://numba.readthedocs.io/en/stable/reference/deprecation.html#deprecation-of-object-mode-fall-back-behaviour-when-using-jit for details.\n",
      "  @numba.jit()\n",
      "/Users/username/anaconda3/envs/recoenv/lib/python3.11/site-packages/umap/distances.py:1086: NumbaDeprecationWarning: The 'nopython' keyword argument was not supplied to the 'numba.jit' decorator. The implicit default value for this argument is currently False, but it will be changed to True in Numba 0.59.0. See https://numba.readthedocs.io/en/stable/reference/deprecation.html#deprecation-of-object-mode-fall-back-behaviour-when-using-jit for details.\n",
      "  @numba.jit()\n",
      "/Users/username/anaconda3/envs/recoenv/lib/python3.11/site-packages/umap/umap_.py:660: NumbaDeprecationWarning: The 'nopython' keyword argument was not supplied to the 'numba.jit' decorator. The implicit default value for this argument is currently False, but it will be changed to True in Numba 0.59.0. See https://numba.readthedocs.io/en/stable/reference/deprecation.html#deprecation-of-object-mode-fall-back-behaviour-when-using-jit for details.\n",
      "  @numba.jit()\n"
     ]
    }
   ],
   "source": [
    "import sys\n",
    "\n",
    "sys.path.append('/Users/username/Desktop/ML/Recommendations/cambrian/')\n",
    "\n",
    "from src.clustering.ClustersResetService import ClustersResetService\n",
    "from src.clustering.ClusterAssignmentService import ClusterAssignmentService\n",
    "\n",
    "import hydra\n",
    "import os\n",
    "from hydra import compose, initialize"
   ]
  },
  {
   "cell_type": "code",
   "execution_count": 3,
   "id": "47d335f9-6427-4cf9-aa76-e363769c29a2",
   "metadata": {
    "tags": []
   },
   "outputs": [],
   "source": [
    "from sql.PostgresDatabaseOperation import PostgresDatabaseOperation"
   ]
  },
  {
   "cell_type": "code",
   "execution_count": 4,
   "id": "d3607eee-2c6b-465c-9c38-b4266539f05a",
   "metadata": {
    "tags": []
   },
   "outputs": [],
   "source": [
    "import pandas as pd"
   ]
  },
  {
   "cell_type": "code",
   "execution_count": 5,
   "id": "afcf6110-0a6e-48a6-97d0-50b1a4243550",
   "metadata": {
    "tags": []
   },
   "outputs": [],
   "source": [
    "with PostgresDatabaseOperation() as cursor:\n",
    "    sql = 'SELECT article_id, embedding FROM embeddings ORDER BY article_id'\n",
    "    cursor.execute(sql)\n",
    "    results = cursor.fetchall()\n",
    "\n",
    "embeddings_df = pd.DataFrame(results, columns = ['article_id','embedding'])"
   ]
  },
  {
   "cell_type": "code",
   "execution_count": 6,
   "id": "21321fd7-75e5-486e-8d20-75373254b4b0",
   "metadata": {
    "tags": []
   },
   "outputs": [],
   "source": [
    "with PostgresDatabaseOperation() as cursor:\n",
    "    sql = 'SELECT DISTINCT article_id, cluster_id, parent_name FROM article_to_cluster_mapping acm LEFT JOIN cluster_hierarchy ch ON acm.cluster_id = ch.parent_id'\n",
    "    cursor.execute(sql)\n",
    "    results = cursor.fetchall()\n",
    "\n",
    "clusters_df = pd.DataFrame(results, columns = ['article_id', 'cluster_id', 'parent_name'])"
   ]
  },
  {
   "cell_type": "code",
   "execution_count": 7,
   "id": "ed838171-6f5f-4f2b-8062-9baaae12370b",
   "metadata": {
    "tags": []
   },
   "outputs": [
    {
     "data": {
      "text/html": [
       "<div>\n",
       "<style scoped>\n",
       "    .dataframe tbody tr th:only-of-type {\n",
       "        vertical-align: middle;\n",
       "    }\n",
       "\n",
       "    .dataframe tbody tr th {\n",
       "        vertical-align: top;\n",
       "    }\n",
       "\n",
       "    .dataframe thead th {\n",
       "        text-align: right;\n",
       "    }\n",
       "</style>\n",
       "<table border=\"1\" class=\"dataframe\">\n",
       "  <thead>\n",
       "    <tr style=\"text-align: right;\">\n",
       "      <th></th>\n",
       "      <th>article_id</th>\n",
       "      <th>embedding</th>\n",
       "    </tr>\n",
       "  </thead>\n",
       "  <tbody>\n",
       "    <tr>\n",
       "      <th>0</th>\n",
       "      <td>651dc3b6a662d76276b7afd9</td>\n",
       "      <td>[0.0051558976992964745, -0.03998439759016037, ...</td>\n",
       "    </tr>\n",
       "  </tbody>\n",
       "</table>\n",
       "</div>"
      ],
      "text/plain": [
       "                 article_id                                          embedding\n",
       "0  651dc3b6a662d76276b7afd9  [0.0051558976992964745, -0.03998439759016037, ..."
      ]
     },
     "execution_count": 7,
     "metadata": {},
     "output_type": "execute_result"
    }
   ],
   "source": [
    "embeddings_df.head(1)"
   ]
  },
  {
   "cell_type": "code",
   "execution_count": 10,
   "id": "c39d83b2-615e-4693-bdf4-61cb658e1ed7",
   "metadata": {
    "tags": []
   },
   "outputs": [],
   "source": [
    "from src.embeddings._utils import get_article_metadata_from_api, parallel_get_article_metadata_from_api"
   ]
  },
  {
   "cell_type": "code",
   "execution_count": 9,
   "id": "39fd2127-3d25-4444-8447-1f0b23de792d",
   "metadata": {
    "scrolled": true,
    "tags": []
   },
   "outputs": [],
   "source": [
    "# articles = []\n",
    "# for article_id in tqdm(list(embeddings_df['article_id'].unique())):\n",
    "#     a = ArticleService.get_Article(article_id=article_id)\n",
    "#     articles.append(a)"
   ]
  },
  {
   "cell_type": "code",
   "execution_count": 11,
   "id": "c5f90001-195e-4a9d-adb5-28fa6d012dee",
   "metadata": {
    "tags": []
   },
   "outputs": [],
   "source": [
    "all_article_ids = list(embeddings_df.article_id.unique())"
   ]
  },
  {
   "cell_type": "code",
   "execution_count": 12,
   "id": "b24062f6-da5e-4e24-aaf1-0b5d0081951e",
   "metadata": {
    "tags": []
   },
   "outputs": [],
   "source": [
    "d = parallel_get_article_metadata_from_api(all_article_ids[:300])"
   ]
  },
  {
   "cell_type": "code",
   "execution_count": 14,
   "id": "595d5450-d47a-4102-a1fc-f4cf11da50a2",
   "metadata": {
    "tags": []
   },
   "outputs": [],
   "source": [
    "t = {k: d[k]['title'] for k in d.keys()}"
   ]
  },
  {
   "cell_type": "code",
   "execution_count": 26,
   "id": "6ef0a361-ee7a-4050-aac8-526f1fbc9e92",
   "metadata": {
    "tags": []
   },
   "outputs": [],
   "source": [
    "combined_df = pd.merge(embeddings_df, clusters_df, how = 'left', on = 'article_id')\n",
    "\n",
    "combined_df = combined_df.dropna()\n",
    "\n",
    "titles_list = [(x.article_id, x.title) for x in articles]\n",
    "\n",
    "titles_df = pd.DataFrame(titles_list, columns = ['article_id', 'title'])\n",
    "\n",
    "combined_df = pd.merge(titles_df, combined_df, how = 'left', on = 'article_id')"
   ]
  },
  {
   "cell_type": "code",
   "execution_count": 28,
   "id": "3dbc41c6-b097-431c-bf27-275dd6fae55c",
   "metadata": {
    "tags": []
   },
   "outputs": [],
   "source": [
    "import plotly.express as px"
   ]
  },
  {
   "cell_type": "code",
   "execution_count": 30,
   "id": "7e736a6e-794c-4933-879d-bc775346be28",
   "metadata": {
    "tags": []
   },
   "outputs": [],
   "source": [
    "import umap"
   ]
  },
  {
   "cell_type": "code",
   "execution_count": 34,
   "id": "8f37633c-1b4e-420a-a5da-ff03af1e1107",
   "metadata": {
    "tags": []
   },
   "outputs": [
    {
     "data": {
      "text/html": [
       "<div>\n",
       "<style scoped>\n",
       "    .dataframe tbody tr th:only-of-type {\n",
       "        vertical-align: middle;\n",
       "    }\n",
       "\n",
       "    .dataframe tbody tr th {\n",
       "        vertical-align: top;\n",
       "    }\n",
       "\n",
       "    .dataframe thead th {\n",
       "        text-align: right;\n",
       "    }\n",
       "</style>\n",
       "<table border=\"1\" class=\"dataframe\">\n",
       "  <thead>\n",
       "    <tr style=\"text-align: right;\">\n",
       "      <th></th>\n",
       "      <th>article_id</th>\n",
       "      <th>title</th>\n",
       "      <th>embedding</th>\n",
       "      <th>cluster_id</th>\n",
       "      <th>parent_name</th>\n",
       "    </tr>\n",
       "  </thead>\n",
       "  <tbody>\n",
       "    <tr>\n",
       "      <th>0</th>\n",
       "      <td>6528b2d250af0e25a9122f4e</td>\n",
       "      <td>Earth Defense Force 6 on PS5, PS4, PC via Stea...</td>\n",
       "      <td>[0.010566741228103638, 0.010105646215379238, -...</td>\n",
       "      <td>203.0</td>\n",
       "      <td>bank_rbi_loan_credit_banks</td>\n",
       "    </tr>\n",
       "    <tr>\n",
       "      <th>1</th>\n",
       "      <td>6528b2cf50af0e25a9122f4b</td>\n",
       "      <td>Google to make passwords obsolete? Here’s what...</td>\n",
       "      <td>[0.02226756513118744, -0.008568921126425266, -...</td>\n",
       "      <td>203.0</td>\n",
       "      <td>bank_rbi_loan_credit_banks</td>\n",
       "    </tr>\n",
       "    <tr>\n",
       "      <th>2</th>\n",
       "      <td>6528b2d650af0e25a9122f53</td>\n",
       "      <td>'Messi Meets America' Documentary Series: Here...</td>\n",
       "      <td>[0.02837894670665264, 0.02687911130487919, -0....</td>\n",
       "      <td>185.0</td>\n",
       "      <td>air_flight_airport_air india_aviation</td>\n",
       "    </tr>\n",
       "  </tbody>\n",
       "</table>\n",
       "</div>"
      ],
      "text/plain": [
       "                 article_id  \\\n",
       "0  6528b2d250af0e25a9122f4e   \n",
       "1  6528b2cf50af0e25a9122f4b   \n",
       "2  6528b2d650af0e25a9122f53   \n",
       "\n",
       "                                               title  \\\n",
       "0  Earth Defense Force 6 on PS5, PS4, PC via Stea...   \n",
       "1  Google to make passwords obsolete? Here’s what...   \n",
       "2  'Messi Meets America' Documentary Series: Here...   \n",
       "\n",
       "                                           embedding  cluster_id  \\\n",
       "0  [0.010566741228103638, 0.010105646215379238, -...       203.0   \n",
       "1  [0.02226756513118744, -0.008568921126425266, -...       203.0   \n",
       "2  [0.02837894670665264, 0.02687911130487919, -0....       185.0   \n",
       "\n",
       "                             parent_name  \n",
       "0             bank_rbi_loan_credit_banks  \n",
       "1             bank_rbi_loan_credit_banks  \n",
       "2  air_flight_airport_air india_aviation  "
      ]
     },
     "execution_count": 34,
     "metadata": {},
     "output_type": "execute_result"
    }
   ],
   "source": [
    "combined_df.head(3)"
   ]
  },
  {
   "cell_type": "code",
   "execution_count": 36,
   "id": "9173fb13-b61c-41e5-a901-cbba248aa8c1",
   "metadata": {
    "tags": []
   },
   "outputs": [],
   "source": [
    "combined_df = combined_df.rename(columns = {'parent_name': 'cluster_name', 'title': 'article_title'})"
   ]
  },
  {
   "cell_type": "code",
   "execution_count": 37,
   "id": "10c39060-5fee-4563-baad-33fc3b63235f",
   "metadata": {
    "tags": []
   },
   "outputs": [],
   "source": [
    "df = combined_df"
   ]
  },
  {
   "cell_type": "code",
   "execution_count": 44,
   "id": "94880dde-303b-4b6c-96a7-a1d6f72a4d21",
   "metadata": {
    "tags": []
   },
   "outputs": [
    {
     "data": {
      "text/plain": [
       "\u001b[0;31mType:\u001b[0m        module\n",
       "\u001b[0;31mString form:\u001b[0m <module '_plotly_utils.colors.qualitative' from '/Users/username/anaconda3/envs/recoenv/lib/python3.11/site-packages/_plotly_utils/colors/qualitative.py'>\n",
       "\u001b[0;31mFile:\u001b[0m        ~/anaconda3/envs/recoenv/lib/python3.11/site-packages/_plotly_utils/colors/qualitative.py\n",
       "\u001b[0;31mDocstring:\u001b[0m   Qualitative color sequences are appropriate for data that has no natural ordering, such as categories, colors, names, countries etc. The color sequences in this module are mostly meant to be passed in as the `color_discrete_sequence` argument to various functions."
      ]
     },
     "metadata": {},
     "output_type": "display_data"
    }
   ],
   "source": [
    "px.colors.qualitative."
   ]
  },
  {
   "cell_type": "code",
   "execution_count": 13,
   "id": "59f58939-0461-47b8-a00b-00384213f529",
   "metadata": {
    "tags": []
   },
   "outputs": [],
   "source": [
    "import umap"
   ]
  },
  {
   "cell_type": "code",
   "execution_count": 15,
   "id": "65e46b51-6f80-426c-b942-ba849de9b24f",
   "metadata": {
    "tags": []
   },
   "outputs": [],
   "source": [
    "embeddings = pd.DataFrame(embeddings_df['embedding'].tolist())"
   ]
  },
  {
   "cell_type": "code",
   "execution_count": 18,
   "id": "35148c11-8779-48ac-be7c-1afd115b8960",
   "metadata": {
    "tags": []
   },
   "outputs": [],
   "source": [
    "import time"
   ]
  },
  {
   "cell_type": "code",
   "execution_count": 19,
   "id": "08513dae-2724-4d91-a8df-36cd3e58e0d0",
   "metadata": {
    "tags": []
   },
   "outputs": [
    {
     "name": "stdout",
     "output_type": "stream",
     "text": [
      "done in 7 seconds\n"
     ]
    }
   ],
   "source": [
    "# Step 1: UMAP reduction\n",
    "start_time = time.time()\n",
    "reducer = umap.UMAP(n_components=3)\n",
    "embedding_2d = reducer.fit_transform(embeddings)  # This now contains the 2D coordinates of your data\n",
    "print(f'done in {int(time.time() - start_time)} seconds')"
   ]
  },
  {
   "cell_type": "code",
   "execution_count": 7,
   "id": "df27486a-3a89-46bd-9e29-7bb293e4f37e",
   "metadata": {
    "tags": []
   },
   "outputs": [],
   "source": [
    "all_article_ids = list(embeddings_df.article_id.unique())"
   ]
  },
  {
   "cell_type": "code",
   "execution_count": 9,
   "id": "ecc00910-73b0-4a79-8a77-cef0bdfd3b86",
   "metadata": {
    "tags": []
   },
   "outputs": [
    {
     "data": {
      "text/plain": [
       "5280"
      ]
     },
     "execution_count": 9,
     "metadata": {},
     "output_type": "execute_result"
    }
   ],
   "source": [
    "len(all_article_ids)"
   ]
  },
  {
   "cell_type": "code",
   "execution_count": 10,
   "id": "aa92fcfb-2f7f-407a-804c-0087e38eeb9a",
   "metadata": {
    "tags": []
   },
   "outputs": [],
   "source": [
    "from src.embeddings._utils import get_article_metadata_from_api"
   ]
  },
  {
   "cell_type": "code",
   "execution_count": 15,
   "id": "5a3daa40-cff1-4278-81f3-3fa97a458d89",
   "metadata": {
    "tags": []
   },
   "outputs": [],
   "source": [
    "import requests\n",
    "from concurrent.futures import ThreadPoolExecutor, as_completed"
   ]
  },
  {
   "cell_type": "code",
   "execution_count": 16,
   "id": "af9ce7ab-5da0-48c6-9768-13b250853952",
   "metadata": {
    "tags": []
   },
   "outputs": [],
   "source": [
    "import time"
   ]
  },
  {
   "cell_type": "code",
   "execution_count": 20,
   "id": "a6fd01ca-a0be-4d5d-b4b2-c908986022ee",
   "metadata": {
    "tags": []
   },
   "outputs": [
    {
     "name": "stdout",
     "output_type": "stream",
     "text": [
      "done in 33 seconds\n"
     ]
    }
   ],
   "source": [
    "start_time = time.time()\n",
    "# Assuming you have a list of article IDs\n",
    "article_ids = all_article_ids  # Replace with your list of article IDs\n",
    "\n",
    "def download_titles(article_ids):\n",
    "    \"\"\"\n",
    "    Parallel download of titles, returning a dictionary of article_ids and their corresponding titles.\n",
    "    \"\"\"\n",
    "    titles_dict = {}\n",
    "    with ThreadPoolExecutor() as executor:\n",
    "        # Start the load operations and mark each future with its article ID\n",
    "        future_to_article_id = {executor.submit(get_article_metadata_from_api, article_id): article_id for article_id in article_ids}\n",
    "\n",
    "        for future in as_completed(future_to_article_id):\n",
    "            article_id = future_to_article_id[future]\n",
    "            try:\n",
    "                # If successful, the result is a tuple of article_id and title\n",
    "                title = future.result()['title']\n",
    "                titles_dict[article_id] = title  # Combine in a dictionary\n",
    "            except Exception as e:\n",
    "                print(f\"Error downloading title for article ID {article_id}: {e}\")\n",
    "    return titles_dict\n",
    "\n",
    "# Using the function to get the titles\n",
    "article_titles_dict = download_titles(article_ids)\n",
    "\n",
    "# Output the titles dictionary (or you can process them as needed)\n",
    "# for article_id, title in article_titles_dict.items():\n",
    "#     print(f\"Article ID: {article_id}, Title: {title}\")\n",
    "print(f'done in {int(time.time() - start_time)} seconds')"
   ]
  },
  {
   "cell_type": "code",
   "execution_count": 21,
   "id": "668cacf2-d22a-42a8-b4ca-644a296540c2",
   "metadata": {
    "tags": []
   },
   "outputs": [
    {
     "data": {
      "text/plain": [
       "5280"
      ]
     },
     "execution_count": 21,
     "metadata": {},
     "output_type": "execute_result"
    }
   ],
   "source": [
    "len(article_titles_dict)"
   ]
  },
  {
   "cell_type": "code",
   "execution_count": 43,
   "id": "4852e958-4319-418b-a00d-a809a3f98c81",
   "metadata": {
    "tags": []
   },
   "outputs": [
    {
     "data": {
      "application/vnd.plotly.v1+json": {
       "config": {
        "plotlyServerURL": "https://plot.ly"
       },
       "data": [
        {
         "customdata": [
          [
           "Earth Defense Force 6 on PS5, PS4, PC via Steam: Release date, key features of video game",
           "bank_rbi_loan_credit_banks"
          ],
          [
           "Google to make passwords obsolete? Here’s what the tech giant is planning with passkeys",
           "bank_rbi_loan_credit_banks"
          ],
          [
           "'Messi Meets America' Documentary Series: Here’s release schedule, streaming platform and everything you m",
           "air_flight_airport_air india_aviation"
          ],
          [
           "Bruce Willis is 'not totally verbal' as dementia progresses",
           "bank_rbi_loan_credit_banks"
          ],
          [
           "Cristiano Ronaldo's Portugal vs Slovakia Euro 2024 Qualifiers live streaming: When and where to watch",
           "air_flight_airport_air india_aviation"
          ],
          [
           "US Secy Blinken highlights civilian suffering, security concerns amid Israel-Hamas war",
           "air_flight_airport_air india_aviation"
          ],
          [
           "‘Please Don't Destroy: The Treasure of Foggy Mountain’: See release date, cast, storyline, trailer, stream",
           "bank_rbi_loan_credit_banks"
          ],
          [
           "'Lessons in Chemistry': How to watch and what you need to know",
           "bank_rbi_loan_credit_banks"
          ],
          [
           "NCLAT sets aside order directing RIL to get stakeholders nod for transfer of RPPMSL's Digital EPC assets",
           "air_flight_airport_air india_india"
          ],
          [
           "IOC suspends Russian Olympic Committee for incorporating Ukrainian sports regions",
           "cr_ipo_rs_crore_firms"
          ],
          [
           "Hamas urges global relief organisations to send vital supplies to Gaza",
           "air_flight_airport_air india_aviation"
          ],
          [
           "Hamas urges global relief organisations to send vital supplies to Gaza",
           "air_flight_airport_air india_aviation"
          ],
          [
           "'Messi Meets America' Documentary Series: Here’s release schedule, streaming platform and everything you m",
           "air_flight_airport_air india_aviation"
          ],
          [
           "Who was Rudolph Isley? Know on Isley Brothers’ founding member and his legacy",
           "bank_rbi_loan_credit_banks"
          ],
          [
           "PinkPantheress’s Debut Album 'Heaven Knows': Here’s release date and more",
           "bank_rbi_loan_credit_banks"
          ],
          [
           "IOC suspends Russian Olympic Committee for incorporating Ukrainian sports regions",
           "cr_ipo_rs_crore_firms"
          ],
          [
           "Sebi comes out with guidelines for exchanges' MDs, CEOs to boost cyber security",
           "sebi_case_case sebi_entities_disclosure"
          ],
          [
           "PinkPantheress’s Debut Album 'Heaven Knows': Here’s release date and more",
           "bank_rbi_loan_credit_banks"
          ],
          [
           "El Nino unlikely to cause sugar shortage in India: NFCSF",
           "trade_exports_uk_fta_india"
          ],
          [
           "‘The Crown’ Season 6: Which years the final season may cover?",
           "oil_gas_ongc_energy_transition"
          ],
          [
           "Empowering education: Study24x7's unique approach to social learning",
           "bank_rbi_loan_credit_banks"
          ],
          [
           "Apollo Tyres expects double-digit revenue growth in FY24",
           "inflation_growth_rate_fed_fy24"
          ],
          [
           "Earth Defense Force 6 on PS5, PS4, PC via Steam: Release date, key features of video game",
           "bank_rbi_loan_credit_banks"
          ],
          [
           "The Callisto Protocol: Check out the complete voice cast and more",
           "bank_rbi_loan_credit_banks"
          ],
          [
           "Spy X Family Season 2 Episode 2: Bond's survival strategy unveiled! Release date and more",
           "bank_rbi_loan_credit_banks"
          ],
          [
           "Capturing the Solar Eclipse on your phone camera: Tips and precautions",
           "bank_rbi_loan_credit_banks"
          ],
          [
           "Spy X Family Season 2 Episode 2: Bond's survival strategy unveiled! Release date and more",
           "bank_rbi_loan_credit_banks"
          ],
          [
           "US Secy Blinken highlights civilian suffering, security concerns amid Israel-Hamas war",
           "air_flight_airport_air india_aviation"
          ],
          [
           "Mitski's 'My Love Mine All Mine' rises to TikTok Billboard Top 50",
           "bank_rbi_loan_credit_banks"
          ],
          [
           "Automobile retail sales see double-digit growth in FY23; PV offtake at record high",
           "sales_electric_ev_units_vehicles"
          ],
          [
           "'Lessons in Chemistry': How to watch and what you need to know",
           "bank_rbi_loan_credit_banks"
          ],
          [
           "The Spencer Sisters Season 1: Know cast, storyline, release schedule, streaming platform and more",
           "bank_rbi_loan_credit_banks"
          ],
          [
           "Cristiano Ronaldo's Portugal vs Slovakia Euro 2024 Qualifiers live streaming: When and where to watch",
           "air_flight_airport_air india_aviation"
          ],
          [
           "Mitski's 'My Love Mine All Mine' rises to TikTok Billboard Top 50",
           "bank_rbi_loan_credit_banks"
          ],
          [
           "‘Blue Eye Samurai’: Here’s storyline, cast, trailer, release date and streaming platform of upcoming anime",
           "bank_rbi_loan_credit_banks"
          ],
          [
           "‘Please Don't Destroy: The Treasure of Foggy Mountain’: See release date, cast, storyline, trailer, stream",
           "bank_rbi_loan_credit_banks"
          ],
          [
           "The Spencer Sisters Season 1: Know cast, storyline, release schedule, streaming platform and more",
           "bank_rbi_loan_credit_banks"
          ],
          [
           "​Holly Willoughby set for career overhaul after exiting  This Morning ",
           "bank_rbi_loan_credit_banks"
          ],
          [
           "​Holly Willoughby set for career overhaul after exiting  This Morning ",
           "bank_rbi_loan_credit_banks"
          ],
          [
           "Bruce Willis is 'not totally verbal' as dementia progresses",
           "bank_rbi_loan_credit_banks"
          ],
          [
           "Union Shipping Minister announces five initiatives to make India global leader in maritime sector",
           "ipo_adani_papers_papers sebi_power"
          ],
          [
           "Empowering education: Study24x7's unique approach to social learning",
           "bank_rbi_loan_credit_banks"
          ],
          [
           "‘Blue Eye Samurai’: Here’s storyline, cast, trailer, release date and streaming platform of upcoming anime",
           "bank_rbi_loan_credit_banks"
          ],
          [
           "Who was Rudolph Isley? Know on Isley Brothers’ founding member and his legacy",
           "bank_rbi_loan_credit_banks"
          ],
          [
           "Capturing the Solar Eclipse on your phone camera: Tips and precautions",
           "bank_rbi_loan_credit_banks"
          ],
          [
           "The Callisto Protocol: Check out the complete voice cast and more",
           "bank_rbi_loan_credit_banks"
          ],
          [
           "‘The Crown’ Season 6: Which years the final season may cover?",
           "oil_gas_ongc_energy_transition"
          ],
          [
           "EAM Jaishankar meets WIPO director general, discusses making intellectual property more 'Global South frie",
           "metro_dmrc_bullet train_bullet_rail"
          ],
          [
           "Jennifer Lopez, Ben Affleck visit Los Angeles market, McDonald's",
           "bank_rbi_loan_credit_banks"
          ],
          [
           "Buy ICICI Prudential Life Insurance Company, target price Rs 550:  Motilal Oswal Financial Services ",
           "crypto_target price_price rs_bitcoin_buy"
          ],
          [
           "Jujutsu Kaisen Season 2 Episode 13: The upcoming Yuji vs Choso battle — What to expect",
           "bank_rbi_loan_credit_banks"
          ],
          [
           "Race for US House speaker in chaos as Republican nominee drops out",
           "oil_gas_ongc_energy_transition"
          ],
          [
           "Microsoft-Activision Blizzard: Ubisoft reveals strategy",
           "bank_rbi_loan_credit_banks"
          ],
          [
           "BSE sells stake in CDSL via bulk deal; Madhusudan Kela's wife Madhuri Kela buys in Sangam",
           "ipo_adani_papers_papers sebi_power"
          ],
          [
           "Bel-Air Season 3: This is what we know so far",
           "bank_rbi_loan_credit_banks"
          ],
          [
           "Scarlett Johansson makes 'powerful' remarks for Pamela Anderson's no-makeup appearance at Paris Fashion We",
           "bank_rbi_loan_credit_banks"
          ],
          [
           "BSF shoots down Pakistani drone in Rajasthan",
           "rbi_bank_rbi imposes_penalty_imposes rs"
          ],
          [
           "John Travolta pays tribute to late wife Kelly Preston. Here’s what happened",
           "bank_rbi_loan_credit_banks"
          ],
          [
           "Halo World Championship 2023: Schedule, kick off time, teams",
           "air_flight_airport_air india_aviation"
          ],
          [
           "IndiGrid raises Rs 1,140 cr via bonds",
           "ipo_adani_papers_papers sebi_power"
          ],
          [
           "BSF shoots down Pakistani drone in Rajasthan",
           "rbi_bank_rbi imposes_penalty_imposes rs"
          ],
          [
           "Halo World Championship 2023: Schedule, kick off time, teams",
           "air_flight_airport_air india_aviation"
          ],
          [
           "John Travolta pays tribute to late wife Kelly Preston. Here’s what happened",
           "bank_rbi_loan_credit_banks"
          ],
          [
           "Scarlett Johansson makes 'powerful' remarks for Pamela Anderson's no-makeup appearance at Paris Fashion We",
           "bank_rbi_loan_credit_banks"
          ],
          [
           "Ashok Leyland partners with Aidrivers for autonomous electric terminal trucks",
           "crypto_target price_price rs_bitcoin_buy"
          ],
          [
           "Crude steel output grows 4% in FY23",
           "coal_steel_mt_coal india_tata steel"
          ],
          [
           "JPMorgan profit jumps 35%, but CEO says geopolitics and gov't inaction have led to 'dangerous time'",
           "crypto_target price_price rs_bitcoin_buy"
          ],
          [
           "‘Lisa Frankenstein’: Know cast, release date, storyline and more",
           "bank_rbi_loan_credit_banks"
          ],
          [
           "JPMorgan profit jumps 35%, but CEO says geopolitics and gov't inaction have led to 'dangerous time'",
           "crypto_target price_price rs_bitcoin_buy"
          ],
          [
           "RBI found excessive dominance by 1-2 board members even in big commercial banks: Das",
           "bank_rbi_loan_credit_banks"
          ],
          [
           "American Horror Story: Delicate Part 2: Here’s what you may want to know",
           "bank_rbi_loan_credit_banks"
          ],
          [
           "Parasitic, blood-sucking 'alien-like' wasp found in Amazon, eats host from inside out",
           "withdrawal_000 notes_rs 000_notes_upi"
          ],
          [
           "'Monarch: Legacy of Monsters’: See release date, cast, trailer, storyline, streaming platform and more",
           "bank_rbi_loan_credit_banks"
          ],
          [
           "The Walking Dead: The Ones Who Live - Release Window unveiled with new cast details | Here’s a sneak peek",
           "bank_rbi_loan_credit_banks"
          ],
          [
           "'Monarch: Legacy of Monsters’: See release date, cast, trailer, storyline, streaming platform and more",
           "bank_rbi_loan_credit_banks"
          ],
          [
           "Ease of doing business: DPIIT to help states in simplifying, decriminalising provisions",
           "gst_tax_pli_gst council_dpiit"
          ],
          [
           "Zoom gets pan-India telecom licence",
           "air_flight_airport_air india_india"
          ],
          [
           "American Horror Story: Delicate Part 2: Here’s what you may want to know",
           "bank_rbi_loan_credit_banks"
          ],
          [
           "Sebi bans Excel Realty N Infra, 4 others from securities market for up to 2 years",
           "sebi_case_case sebi_entities_disclosure"
          ],
          [
           "The Walking Dead: The Ones Who Live - Release Window unveiled with new cast details | Here’s a sneak peek",
           "bank_rbi_loan_credit_banks"
          ],
          [
           "Parasitic, blood-sucking 'alien-like' wasp found in Amazon, eats host from inside out",
           "withdrawal_000 notes_rs 000_notes_upi"
          ],
          [
           "Lords of the Fallen Sequel: See release date, platforms, gameplay, plot and more",
           "bank_rbi_loan_credit_banks"
          ],
          [
           "Maruti Suzuki partners with Indian Bank to provide financing solutions to dealers",
           "sales_electric_ev_units_vehicles"
          ],
          [
           "Kerala: Kochi Water Metro begins commercial operation",
           "vande_vande bharat_train_railway_bharat"
          ],
          [
           "India's coal production grows 8.55 pc to 223 MT in Apr-Jun: Coal Ministry",
           "coal_steel_mt_coal india_tata steel"
          ],
          [
           "Chip designer Arm targets $52 billion valuation in year's largest IPO",
           "stocks_52 week_52_week_nifty"
          ],
          [
           "IRDAI working on three-pronged approach to ensure 'insurance for all by 2047'",
           "irdai_life_insurance_insurers_lic"
          ],
          [
           "‘Lisa Frankenstein’: Know cast, release date, storyline and more",
           "bank_rbi_loan_credit_banks"
          ],
          [
           "Lords of the Fallen Sequel: See release date, platforms, gameplay, plot and more",
           "bank_rbi_loan_credit_banks"
          ],
          [
           "Insolvency & Bankruptcy Code cannot be used as a tool for recovery; says NCLT",
           "air_flight_airport_air india_india"
          ],
          [
           "AI Express flight faces technical problem, lands at Thiruvananthapuram; emergency declared at airport",
           "air_flight_airport_air india_india"
          ],
          [
           "Govt launches GST reward scheme in 6 states, UTs; Rs 30 crore corpus for prize money",
           "gst_tax_pli_gst council_dpiit"
          ],
          [
           "Ideaforge IPO: GMP signals strong investor interest ahead of subscription tomorrow",
           "ipo_adani_papers_papers sebi_power"
          ],
          [
           "MoRTH plans to raise Rs 35,000 crore through asset monetisation this fiscal: Official",
           "projects_cr_fpis_rs_equities"
          ],
          [
           "Colgate-Palmolive India Q4 profit down 2.3% to Rs 316.2cr, Sales up 4% to Rs 1,341.cr",
           "gold_silver_rs_results_profit"
          ],
          [
           "Balrampur Chini bullish on growth, government push on ethanol",
           "trade_exports_uk_fta_india"
          ],
          [
           "Audit reports gain immense significance by inducing action by executive: CAG Girish Chandra Murmu",
           "air_flight_airport_air india_india"
          ],
          [
           "Over 8.75 lakh HUFs claimed Rs 3,803 crore tax deductions in 2022-23: Finance Ministry",
           "bank_rbi_loan_credit_banks"
          ],
          [
           "Private equity funding in realty sector declined 20 per cent in January-June to $2.58 billion: Knight Fran",
           "projects_cr_fpis_rs_equities"
          ],
          [
           "India's merchandise exports may cross USD 500 bn this fiscal: Exporters",
           "trade_exports_uk_fta_india"
          ],
          [
           "Skygazers watch 'Ring of Fire' eclipse over Western Hemisphere",
           "bank_rbi_loan_credit_banks"
          ],
          [
           "EPFO adds 17.9 lakh members in June",
           "pension_epfo_higher_eps_eps pension"
          ],
          [
           "Skygazers watch 'Ring of Fire' eclipse over Western Hemisphere",
           "bank_rbi_loan_credit_banks"
          ],
          [
           "'Aarti' performed at Delhi's Jhandewalan temple to mark first day of 'Navratri'",
           "bank_rbi_loan_credit_banks"
          ],
          [
           "Chhattisgarh: World's longest Dussehra celebration begins in Bastar",
           "bank_rbi_loan_credit_banks"
          ],
          [
           "ET Excellence Awards felicitates the finest entrepreneurs of Telugu states",
           "air_flight_airport_air india_india"
          ],
          [
           "‘Ring of fire’ Solar Eclipse: What can happen if you watch an eclipse with the naked eye?",
           "bank_rbi_loan_credit_banks"
          ],
          [
           "Biden tells Netanyahu US working to ensure water, food, medicine for civilians: White House",
           "cr_ipo_rs_crore_firms"
          ],
          [
           "Manchester United legend Cantona announces debut album ahead of sell-out tour",
           "air_flight_airport_air india_aviation"
          ],
          [
           "Spy x Family Season 2 Episode 2: Release date, time, what to expect, where to watch",
           "bank_rbi_loan_credit_banks"
          ],
          [
           "Gold falls Rs 80; silver declines Rs 400",
           "gold_silver_rs_results_profit"
          ],
          [
           "Qatar's Sheikh Jassim withdraws bid to buy Manchester United",
           "air_flight_airport_air india_aviation"
          ],
          [
           "Qatar's Sheikh Jassim withdraws bid to buy Manchester United",
           "air_flight_airport_air india_aviation"
          ],
          [
           "Manchester United legend Cantona announces debut album ahead of sell-out tour",
           "air_flight_airport_air india_aviation"
          ],
          [
           "Vizag Steel Plant logs highest ever monthly sales of value-added steel in August",
           "coal_steel_mt_coal india_tata steel"
          ],
          [
           "Retail inflation for farm, rural workers eases marginally in August",
           "inflation_growth_rate_fed_fy24"
          ],
          [
           "Irdai asks insurers to lay down social media norms for employees",
           "irdai_life_insurance_insurers_lic"
          ],
          [
           "Reliance Power offers Rs 1,200 cr to settle debt of Butibori power project",
           "bank_rbi_loan_credit_banks"
          ],
          [
           "‘The Afterparty’: Netflix canceled the series after 2 seasons; What you need to know",
           "bank_rbi_loan_credit_banks"
          ],
          [
           "Who is Nina Adgal? Know about Logan Paul’s fiance and their relationship timeline",
           "bank_rbi_loan_credit_banks"
          ],
          [
           "New Umbrella Entity: Nothing innovative presented by applicants, says RBI",
           "bank_rbi_loan_credit_banks"
          ],
          [
           "What is Logan Paul’s net worth? Here’s what you need to know about his ventures",
           "air_flight_airport_air india_aviation"
          ],
          [
           "‘The Afterparty’: Netflix canceled the series after 2 seasons; What you need to know",
           "bank_rbi_loan_credit_banks"
          ],
          [
           "Halloween Candy: Which kind of candies are most unhealthy for your teeth? Here is everything you need to k",
           "withdrawal_000 notes_rs 000_notes_upi"
          ],
          [
           "What is Logan Paul’s net worth? Here’s what you need to know about his ventures",
           "air_flight_airport_air india_aviation"
          ],
          [
           "Goblin Slayer Season 2 Episode 3: Release date, time; All you need to know",
           "bank_rbi_loan_credit_banks"
          ],
          [
           "Goblin Slayer Season 2 Episode 3: Release date, time; All you need to know",
           "bank_rbi_loan_credit_banks"
          ],
          [
           "Halloween Candy: Which kind of candies are most unhealthy for your teeth? Here is everything you need to k",
           "withdrawal_000 notes_rs 000_notes_upi"
          ],
          [
           "Aditya-L1 to reach Lagrange Point 1 by mid-January: ISRO Chief S Somnath",
           "fmcg_itc_hotels_growth_open"
          ],
          [
           "PTC India signs two long-term agreements for 215 MW power purchase: CMD",
           "ipo_adani_papers_papers sebi_power"
          ],
          [
           "Who is the highest paid footballer? Christiano Ronaldo, Lionel Messi and others; Check full list here",
           "air_flight_airport_air india_aviation"
          ],
          [
           "Aditya-L1 to reach Lagrange Point 1 by mid-January: ISRO Chief S Somnath",
           "fmcg_itc_hotels_growth_open"
          ],
          [
           "UCO Bank Q1 Results: Net profit jumps 80% YoY to Rs 223 crore",
           "gold_silver_rs_results_profit"
          ],
          [
           "Who is the highest paid footballer? Christiano Ronaldo, Lionel Messi and others; Check full list here",
           "air_flight_airport_air india_aviation"
          ],
          [
           "Fourth flight with 274 Indian nationals flies out from Israel",
           "rbi_bank_rbi imposes_penalty_imposes rs"
          ],
          [
           "Fourth flight with 274 Indian nationals flies out from Israel",
           "rbi_bank_rbi imposes_penalty_imposes rs"
          ],
          [
           "IndiGrid to acquire Virescent Renewable Energy Trust for up to Rs 4,000 cr",
           "energy_mw_power_solar_project"
          ],
          [
           "CommMin asks depts to hold consultations with compnies on PLI issues",
           "gst_tax_pli_gst council_dpiit"
          ],
          [
           "Gold jumps Rs 480 to lifetime high of Rs 61,780; silver climbs Rs 410",
           "gold_silver_rs_results_profit"
          ],
          [
           "RBI imposes restrictions on Ahmedabad-based Colour Merchants Co-op Bank",
           "bank_rbi_loan_credit_banks"
          ],
          [
           "Delhi HC dismisses plea against reduction in allowances of Air India pilots due to COVID-19",
           "air_flight_airport_air india_india"
          ],
          [
           "BSP releases fourth list for MP elections",
           "bank_rbi_credit_hdfc_loan"
          ],
          [
           "Unlocking the Power of People Strategy and Business Transformation: A Rare Opportunity for Business Leader",
           "air_flight_airport_air india_india"
          ],
          [
           "Lupin Season 4 Update: Creator George Kay talks about next season; Here are the details",
           "bank_rbi_loan_credit_banks"
          ],
          [
           "Rosmerta to set up 10 vehicle scrappage units, invest ₹200 cr",
           "crypto_target price_price rs_bitcoin_buy"
          ],
          [
           "UEFA EURO 2024 live streaming: Where to watch the qualifiers online? All you need to know",
           "air_flight_airport_air india_aviation"
          ],
          [
           "National Cheese Curd Day: Where is Cheese Curd known to have originated from? All we know",
           "bank_rbi_loan_credit_banks"
          ],
          [
           "Demon Slayer Season 4: What you need to know",
           "bank_rbi_loan_credit_banks"
          ],
          [
           "Demon Slayer Season 4: What you need to know",
           "bank_rbi_loan_credit_banks"
          ],
          [
           "CEAT Q1 Results: Net profit jumps multi-fold to Rs 144 crore",
           "gold_silver_rs_results_profit"
          ],
          [
           "Lupin Season 4 Update: Creator George Kay talks about next season; Here are the details",
           "bank_rbi_loan_credit_banks"
          ],
          [
           "UEFA EURO 2024 live streaming: Where to watch the qualifiers online? All you need to know",
           "air_flight_airport_air india_aviation"
          ],
          [
           "Jio building entire ecosystem for Jio Bharat phone in India for supply chain, assembly: Kiran Thomas",
           "air_flight_airport_air india_india"
          ],
          [
           "Rosmerta to set up 10 vehicle scrappage units, invest ₹200 cr",
           "crypto_target price_price rs_bitcoin_buy"
          ],
          [
           "National Cheese Curd Day: Where is Cheese Curd known to have originated from? All we know",
           "bank_rbi_loan_credit_banks"
          ],
          [
           "HDFC Bank share price in focus ahead of Q2 results today; here’s what to expect | Mint",
           "crypto_target price_price rs_bitcoin_buy"
          ],
          [
           "Reliance Power Share Price Live blog for 16 Oct 2023 | Mint",
           "oil_gas_ongc_energy_transition"
          ],
          [
           "Apollo Hospital Share Price Live blog for 16 Oct 2023 | Mint",
           "oil_gas_ongc_energy_transition"
          ],
          [
           "Rail Vikas Nigam Share Price Live blog for 16 Oct 2023 | Mint",
           "oil_gas_ongc_energy_transition"
          ],
          [
           "RBI rate cut possible only after July 2024: Icra",
           "inflation_growth_rate_fed_fy24"
          ],
          [
           "Sbi Life Share Price Live blog for 16 Oct 2023 | Mint",
           "oil_gas_ongc_energy_transition"
          ],
          [
           "7 essential questions you must ask before seeking a personal loan | Mint",
           "crypto_target price_price rs_bitcoin_buy"
          ],
          [
           "ICICI Prudential Life Insurance Share Price Live blog for 16 Oct 2023 | Mint",
           "oil_gas_ongc_energy_transition"
          ],
          [
           "Elon Musk's SpaceX Partners with Qatar Airways: Free 350Mbps Starlink WiFi for Passengers | Mint",
           "fmcg_itc_hotels_growth_open"
          ],
          [
           "Rupee gains 2 paise to close at 81.78 against US dollar",
           "dollar_rupee_paise_dollar rupee_82"
          ],
          [
           "Wipro Share Price Live blog for 16 Oct 2023 | Mint",
           "oil_gas_ongc_energy_transition"
          ],
          [
           "Mphasis Q1 Results: PAT dip 1.4% YoY to Rs 396 crore",
           "gold_silver_rs_results_profit"
          ],
          [
           "MMTC Share Price Live blog for 16 Oct 2023 | Mint",
           "oil_gas_ongc_energy_transition"
          ],
          [
           "T For Travel and not Tiring-Trouble-Turbulence only with a Travel Insurance",
           "bank_rbi_loan_credit_banks"
          ],
          [
           "Icici Bank Share Price Live blog for 16 Oct 2023 | Mint",
           "oil_gas_ongc_energy_transition"
          ],
          [
           "Paytm Share Price Live blog for 16 Oct 2023 | Mint",
           "oil_gas_ongc_energy_transition"
          ],
          [
           "Reliance Infrastructure Share Price Live blog for 16 Oct 2023 | Mint",
           "oil_gas_ongc_energy_transition"
          ],
          [
           "Gold rises Rs 100; silver remains flat",
           "gold_silver_rs_results_profit"
          ],
          [
           "Divis Lab Share Price Live blog for 16 Oct 2023 | Mint",
           "oil_gas_ongc_energy_transition"
          ],
          [
           "Axis Bank Share Price Live blog for 16 Oct 2023 | Mint",
           "oil_gas_ongc_energy_transition"
          ],
          [
           "Delhi govt, MCD, DDA asked to explain construction of housing project in Southern Ridge forest",
           "bank_rbi_loan_credit_banks"
          ],
          [
           "Coffee Day Enterprises Share Price Live blog for 16 Oct 2023 | Mint",
           "oil_gas_ongc_energy_transition"
          ],
          [
           "Sebi orders attachment of bank, demat, MF accounts of Videocon's Dhoot to recover dues",
           "sebi_case_case sebi_entities_disclosure"
          ],
          [
           "Resolutions under insolvency law likely to touch 300 this year: IBBI chief",
           "air_flight_airport_air india_india"
          ],
          [
           "Jio Financial Services Share Price Live blog for 16 Oct 2023 | Mint",
           "oil_gas_ongc_energy_transition"
          ],
          [
           "Vegetable prices likely to cool down next month, rising crude a concern: FinMin official",
           "inflation_growth_rate_fed_fy24"
          ],
          [
           "Adani to raise $3.5 bn from share sale in three group cos",
           "ipo_adani_papers_papers sebi_power"
          ],
          [
           "India's Think360 make top AI Fintech Companies List",
           "air_flight_airport_air india_india"
          ],
          [
           "Deadline for mandatory use of Aadhaar-based payment for MGNREGA workers not to be extended beyond Aug 31",
           "bank_rbi_loan_credit_banks"
          ],
          [
           "Large corporates will never be allowed to open a bank in India: N Vaghul",
           "bank_rbi_loan_credit_banks"
          ],
          [
           "Godrej Properties Q1 Results: Profit jumps nearly 3-fold to Rs 125 crore; sale bookings down 11%",
           "projects_cr_fpis_rs_equities"
          ],
          [
           "Dr Reddy's to enhance presence in emerging segments like nutraceuticals, gene therapy",
           "drug_usfda_gets_pharma_gets usfda"
          ],
          [
           "Ultracab India Share Price Live blog for 16 Oct 2023 | Mint",
           "oil_gas_ongc_energy_transition"
          ],
          [
           "Hcl Tech Share Price Live blog for 16 Oct 2023 | Mint",
           "oil_gas_ongc_energy_transition"
          ],
          [
           "Persistent Systems Share Price Live blog for 16 Oct 2023 | Mint",
           "oil_gas_ongc_energy_transition"
          ],
          [
           "Vedanta Share Price Live blog for 16 Oct 2023 | Mint",
           "oil_gas_ongc_energy_transition"
          ],
          [
           "Eicher Motors Share Price Live blog for 16 Oct 2023 | Mint",
           "oil_gas_ongc_energy_transition"
          ],
          [
           "LTI Mindtree Share Price Live blog for 16 Oct 2023 | Mint",
           "oil_gas_ongc_energy_transition"
          ],
          [
           "JSW Group in talks with MG Motor India, BYD India to pick up stake",
           "sales_electric_ev_units_vehicles"
          ],
          [
           "Dolly Khanna raises stake in multibagger stock despite 105% rally in YTD | Mint",
           "oil_gas_ongc_energy_transition"
          ],
          [
           "Chetak EV domestic sales grow over 4-fold in FY23: Bajaj Auto",
           "sales_electric_ev_units_vehicles"
          ],
          [
           "Infosys earnings shocker wipes off Rs 73,000 crore from company's market cap",
           "firms_mcap_valued_valued firms_10 valued"
          ],
          [
           "RBI working on light weight, portable payment system for critical transactions during catastrophic events",
           "bank_rbi_loan_credit_banks"
          ],
          [
           "RBI cancels licence of Mumbai-based 'The Kapol Co-operative Bank'",
           "bank_rbi_loan_credit_banks"
          ],
          [
           "Deeper participation in global value chains to help India add $1.2 tn to foreign trade by 2030: GTRI repor",
           "trade_exports_uk_fta_india"
          ],
          [
           "Delhi government places order for 2,026 e-buses",
           "sales_electric_ev_units_vehicles"
          ],
          [
           "Sebi issues advertisement code for investment advisers, research analysts",
           "sebi_case_case sebi_entities_disclosure"
          ],
          [
           "UBS completes takeover of Credit Suisse",
           "bank_rbi_loan_credit_banks"
          ],
          [
           "Airbnb inks pact with tourism ministry to promote heritage stays, cultural tourism",
           "inflation_growth_rate_fed_fy24"
          ],
          [
           "Asian Paint Share Price Live blog for 16 Oct 2023 | Mint",
           "oil_gas_ongc_energy_transition"
          ],
          [
           "5Paisa Capital Share Price Live blog for 16 Oct 2023 | Mint",
           "oil_gas_ongc_energy_transition"
          ],
          [
           "Bajaj Finserv Share Price Live blog for 16 Oct 2023 | Mint",
           "oil_gas_ongc_energy_transition"
          ],
          [
           "Sbi Share Price Live blog for 16 Oct 2023 | Mint",
           "oil_gas_ongc_energy_transition"
          ],
          [
           "NTPC, Oil India ink pact to explore collaborations in renewable energy, hydrogen space",
           "energy_mw_power_solar_project"
          ],
          [
           "Rs 200 LPG price cut on oil companies, government unlikely to give subsidy",
           "oil_gas_ongc_energy_transition"
          ],
          [
           "Centre for second PLI scheme for processing millet-based foods: Food Processing Secretary",
           "trade_exports_uk_fta_india"
          ],
          [
           "Jaiprakash Associates defaults on Rs 3,961-crore loans on May 31",
           "bank_rbi_loan_credit_banks"
          ],
          [
           "US welcomes India's move of reducing tariffs on agricultural products",
           "trade_exports_uk_fta_india"
          ],
          [
           "Srinagar-bound SpiceJet flight returns to Delhi airport due to false warning in cockpit",
           "air_flight_airport_air india_india"
          ],
          [
           "Sparsh Hospitals group opens three new specialities in Bengaluru",
           "inflation_growth_rate_fed_fy24"
          ],
          [
           "India, US discuss ways to promote trade, investments",
           "trade_exports_uk_fta_india"
          ],
          [
           "First Rupee trade shipment from Petrapole border to Bangladesh",
           "trade_exports_uk_fta_india"
          ],
          [
           "L&T's construction arm bags multiple EPC orders in domestic market",
           "projects_cr_fpis_rs_equities"
          ],
          [
           "Customs to introduce additional disclosures for export-import of medicinal products from July 1",
           "trade_exports_uk_fta_india"
          ],
          [
           "DST report favours support to innovation even in case of failure",
           "gst_tax_pli_gst council_dpiit"
          ],
          [
           "Air India puts together 'huge financing deal' for new fleet: CEO Campbell Wilson",
           "air_flight_airport_air india_india"
          ],
          [
           "Yes Bank Share Price Live blog for 16 Oct 2023 | Mint",
           "crypto_target price_price rs_bitcoin_buy"
          ],
          [
           "Erratic rainfall may lead to higher inflation in near term: BoB research",
           "inflation_growth_rate_fed_fy24"
          ],
          [
           "Azad Engineering files Rs 740-cr IPO papers with Sebi",
           "ipo_adani_papers_papers sebi_power"
          ],
          [
           "India's renewable energy ambitions could exceed 500 GW, says ISA DG Ajay Mathur",
           "energy_mw_power_solar_project"
          ],
          [
           "MBBS seats in India increase 110 per cent since 2014, Centre tells Lok Sabha",
           "air_flight_airport_air india_india"
          ],
          [
           "Rupee gains 3 paise to close at 82.09 against US dollar",
           "dollar_rupee_paise_dollar rupee_82"
          ],
          [
           "Sai Silks mobilises Rs 360 cr from anchor investors ahead of IPO",
           "ipo_adani_papers_papers sebi_power"
          ],
          [
           "NRRI submits proposals for identification of 10 new rice varieties",
           "trade_exports_uk_fta_india"
          ],
          [
           "Reliance hires 2.6L people in FY2022-23 as growth picks up",
           "inflation_growth_rate_fed_fy24"
          ],
          [
           "Gem, jewellery exports fall 10.7 pc to Rs 22,693.41 cr in May",
           "trade_exports_uk_fta_india"
          ],
          [
           "Texmaco Rail & Engineering Share Price Live blog for 16 Oct 2023 | Mint",
           "oil_gas_ongc_energy_transition"
          ],
          [
           "Mazagon Dock Shipbuilders Share Price Live blog for 16 Oct 2023 | Mint",
           "oil_gas_ongc_energy_transition"
          ],
          [
           "Hdfc Life Share Price Live blog for 16 Oct 2023 | Mint",
           "oil_gas_ongc_energy_transition"
          ],
          [
           "Concord Biotech Share Price Live blog for 16 Oct 2023 | Mint",
           "oil_gas_ongc_energy_transition"
          ],
          [
           "Hindustan Unilever Share Price Live blog for 16 Oct 2023 | Mint",
           "oil_gas_ongc_energy_transition"
          ],
          [
           "Coal India concludes wage revision pact with non-executive workers; agrees on 25% hike in allowances",
           "coal_steel_mt_coal india_tata steel"
          ],
          [
           "IMC constituted to supervise NARCL resolution plan for Srei group firms",
           "air_flight_airport_air india_india"
          ],
          [
           "Syngene International Share Price Live blog for 16 Oct 2023 | Mint",
           "oil_gas_ongc_energy_transition"
          ],
          [
           "Brightcom Group Share Price Live blog for 16 Oct 2023 | Mint",
           "oil_gas_ongc_energy_transition"
          ],
          [
           "Has your bank account gone dormant? Here are 4 ways to reactivate it | Mint",
           "crypto_target price_price rs_bitcoin_buy"
          ],
          [
           "EFC India starts 65,000 sq ft co-working centre in Noida to expand biz",
           "projects_cr_fpis_rs_equities"
          ],
          [
           "Itc Share Price Live blog for 16 Oct 2023 | Mint",
           "oil_gas_ongc_energy_transition"
          ],
          [
           "TCS Share Price Live blog for 16 Oct 2023 | Mint",
           "oil_gas_ongc_energy_transition"
          ],
          [
           "Trident Share Price Live blog for 16 Oct 2023 | Mint",
           "oil_gas_ongc_energy_transition"
          ],
          [
           "Powergrid Share Price Live blog for 16 Oct 2023 | Mint",
           "oil_gas_ongc_energy_transition"
          ],
          [
           "Over 4 lakh hectares brought under natural farming in 8 states: Govt",
           "trade_exports_uk_fta_india"
          ],
          [
           "Bajaj Finance Share Price Live blog for 16 Oct 2023 | Mint",
           "oil_gas_ongc_energy_transition"
          ],
          [
           "Hero Motor Co Share Price Live blog for 16 Oct 2023 | Mint",
           "oil_gas_ongc_energy_transition"
          ],
          [
           "Railway employees union demands productivity-linked bonus on the basis of 7th pay commission",
           "gst_tax_pli_gst council_dpiit"
          ],
          [
           "Tata Consumer Share Price Live blog for 16 Oct 2023 | Mint",
           "oil_gas_ongc_energy_transition"
          ],
          [
           "Infosys Share Price Live blog for 16 Oct 2023 | Mint",
           "oil_gas_ongc_energy_transition"
          ],
          [
           "Tata Motors to remain focused on profitability, growth and cash flows: Chairman Chandrasekaran",
           "sales_electric_ev_units_vehicles"
          ],
          [
           "TCI Express Share Price Live blog for 16 Oct 2023 | Mint",
           "oil_gas_ongc_energy_transition"
          ],
          [
           "UTI Asset Management Company Share Price Live blog for 16 Oct 2023 | Mint",
           "oil_gas_ongc_energy_transition"
          ],
          [
           "India and Bangladesh trade settlement in rupee will boost bilateral commerce: Sanjay Budhia",
           "trade_exports_uk_fta_india"
          ],
          [
           "India to remove retaliatory customs duties on eight US products",
           "trade_exports_uk_fta_india"
          ],
          [
           "Bearish MACD Crossover: Potential Investment Warnings for 7 Prominent Companies",
           "stocks_52 week_52_week_nifty"
          ],
          [
           "India Sotheby's International Realty bags mandate to sell Rs 800 cr worth ultra-luxury apartments in Mumba",
           "projects_cr_fpis_rs_equities"
          ],
          [
           "Domestic manufacturing of premium lighting products may double in 3 yrs: Official",
           "inflation_growth_rate_fed_fy24"
          ],
          [
           "M-cap of seven of top 10 firms declines Rs 62,279 crore; Reliance biggest laggard",
           "firms_mcap_valued_valued firms_10 valued"
          ],
          [
           "DVR share swap to cost Rs 100 crore: Tata Motors",
           "sales_electric_ev_units_vehicles"
          ],
          [
           "No relief in Rs 10 lakh tax fine for not disclosing foreign assets",
           "bank_rbi_loan_credit_banks"
          ],
          [
           "Ksolves India Share Price Live blog for 16 Oct 2023 | Mint",
           "oil_gas_ongc_energy_transition"
          ],
          [
           "If fantasy games are OK, why not online betting?",
           "air_flight_airport_air india_india"
          ],
          [
           "Have commenced dispensing CNG and PNG connections to households: IndianOil",
           "oil_gas_ongc_energy_transition"
          ],
          [
           "Credit card default rises to Rs 4,072 crore in FY23",
           "bank_rbi_loan_credit_banks"
          ],
          [
           "Coal production increased in 'big way' during FY22-FY23; supply improved: Icra",
           "coal_steel_mt_coal india_tata steel"
          ],
          [
           "NCRTC to build pedestrian bridge at Anand Vihar RAPIDX Station",
           "vande_vande bharat_train_railway_bharat"
          ],
          [
           "Domestic electric two wheeler industry to keep growing at fast clip: TVS Motor",
           "sales_electric_ev_units_vehicles"
          ],
          [
           "Jodhpur-based Vishnu Prakash R Punglia Ltd files IPO papers with Sebi",
           "ipo_adani_papers_papers sebi_power"
          ],
          [
           "Govt sets criteria for allocation of power from central pool to states, UTs",
           "energy_mw_power_solar_project"
          ],
          [
           "Peak power demand met touches all-time high of 223.23 GW on June 9",
           "ipo_adani_papers_papers sebi_power"
          ],
          [
           "India is not 'extractive economy' and is not pursuing 'narrow economic activities' in Africa: Jaishankar",
           "trade_exports_uk_fta_india"
          ],
          [
           "Inflation slowing down personal consumption, affecting pvt investment: RBI bulletin",
           "inflation_growth_rate_fed_fy24"
          ],
          [
           "Exhicon Events Media Solutions listed on BSE SME platform",
           "bank_rbi_loan_credit_banks"
          ],
          [
           "Direct flight services from Kerala to Vietnam launched from Cochin International airport",
           "air_flight_airport_air india_india"
          ],
          [
           "Finance Minister Nirmala Sitharaman asks RRBs to remove duplication of PMJDY accounts",
           "bank_rbi_loan_credit_banks"
          ],
          [
           "India's economic growth projected to decelerate to 6% in 2023 from 6.6% in 2022: UN",
           "inflation_growth_rate_fed_fy24"
          ],
          [
           "As many as 388 infra projects show cost overruns of Rs 4.65 lakh crore in July: MoSPI",
           "projects_cr_fpis_rs_equities"
          ],
          [
           "Tata Power Share Price Live blog for 16 Oct 2023 | Mint",
           "oil_gas_ongc_energy_transition"
          ],
          [
           "Go Digit Life Insurance gets Irdai nod to carry life insurance business in India",
           "irdai_life_insurance_insurers_lic"
          ],
          [
           "Sebi enhances accountability of mutual fund' Trustees",
           "sebi_case_case sebi_entities_disclosure"
          ],
          [
           "Tata Technologies to hire 1,000 women engineers to promote gender diversity",
           "sales_electric_ev_units_vehicles"
          ],
          [
           "Covid jab Covovax as heterologous booster to be available on CoWIN soon; to cost Rs 225 per dose",
           "drug_usfda_gets_pharma_gets usfda"
          ],
          [
           "Counter to Rahul Gandhi's Rs 20,000 cr claim:  Rahul Gandhi' says USD 2.6 bn stake sale money came in grou",
           "ipo_adani_papers_papers sebi_power"
          ],
          [
           "Sterlite Power acquires Beawar Transmission to develop power project in Rajasthan",
           "energy_mw_power_solar_project"
          ],
          [
           "Mcap of three of top-10 most-valued firms erodes by Rs 82,082.91 cr; Reliance biggest laggard",
           "firms_mcap_valued_valued firms_10 valued"
          ],
          [
           "Union Bank of India simplifies Form 15G & H submission",
           "bank_rbi_loan_credit_banks"
          ],
          [
           "Ukraine to allow Indian medical Students for 'state qualification exam' from India",
           "drug_usfda_gets_pharma_gets usfda"
          ],
          [
           "77% telco execs expect improvement in revenue, margin from network transformation: Accenture study",
           "air_flight_airport_air india_india"
          ],
          [
           "Yes Bank-DHFL scam: Court says nation is victim, denies bail to Pune-based realtor",
           "bank_rbi_loan_credit_banks"
          ],
          [
           "Aurobindo Pharma Q1 profit up 10 pc at Rs 571 cr",
           "gold_silver_rs_results_profit"
          ],
          [
           "DU rejigs UG admission norms for ECA, sports supernumerary seats",
           "air_flight_airport_air india_india"
          ],
          [
           "Sebi grants final approval for proposed change in control of HDFC AMC, says HDFC Bank",
           "bank_rbi_loan_credit_banks"
          ],
          [
           "Ultra Cem Co Share Price Live blog for 16 Oct 2023 | Mint",
           "oil_gas_ongc_energy_transition"
          ],
          [
           "ONDC provides huge growth opportunities for financial services, manufacturing, e-commerce, agri sectors: D",
           "gst_tax_pli_gst council_dpiit"
          ],
          [
           "Auto component industry reports highest turnover in FY23; aims to log double-digit growth this fiscal",
           "sales_electric_ev_units_vehicles"
          ],
          [
           "CBSE to start 'post-result annual psychological counselling' from May 13",
           "air_flight_airport_air india_india"
          ],
          [
           "HBSE Class 10th Result 2023: Date, time and how to check your results",
           "air_flight_airport_air india_india"
          ]
         ],
         "hovertemplate": "x=%{x}<br>y=%{y}<br>z=%{z}<br>article_title=%{customdata[0]}<br>cluster_name=%{customdata[1]}<br>cluster_id=%{marker.color}<extra></extra>",
         "legendgroup": "",
         "marker": {
          "color": [
           203,
           203,
           185,
           203,
           185,
           161,
           203,
           203,
           195,
           205,
           161,
           161,
           185,
           203,
           203,
           205,
           149,
           203,
           199,
           194,
           203,
           206,
           203,
           203,
           203,
           203,
           203,
           161,
           203,
           207,
           203,
           203,
           185,
           203,
           203,
           203,
           203,
           203,
           203,
           203,
           192,
           203,
           203,
           203,
           203,
           203,
           194,
           146,
           203,
           191,
           203,
           194,
           203,
           192,
           203,
           203,
           188,
           203,
           185,
           192,
           188,
           185,
           203,
           203,
           191,
           213,
           191,
           203,
           191,
           203,
           203,
           180,
           203,
           203,
           203,
           181,
           195,
           203,
           149,
           203,
           180,
           203,
           207,
           186,
           213,
           173,
           126,
           203,
           203,
           195,
           195,
           181,
           192,
           183,
           218,
           199,
           195,
           203,
           183,
           199,
           203,
           145,
           203,
           203,
           203,
           195,
           203,
           205,
           185,
           203,
           218,
           185,
           185,
           185,
           213,
           206,
           126,
           203,
           203,
           203,
           203,
           185,
           203,
           180,
           185,
           203,
           203,
           180,
           176,
           192,
           185,
           176,
           218,
           185,
           188,
           188,
           130,
           181,
           218,
           203,
           195,
           201,
           195,
           203,
           191,
           185,
           203,
           203,
           203,
           218,
           203,
           185,
           195,
           191,
           203,
           191,
           194,
           194,
           194,
           206,
           194,
           191,
           194,
           176,
           112,
           194,
           218,
           194,
           203,
           194,
           194,
           194,
           218,
           194,
           194,
           203,
           194,
           149,
           195,
           194,
           206,
           192,
           195,
           203,
           203,
           183,
           182,
           194,
           194,
           194,
           194,
           194,
           194,
           207,
           194,
           207,
           121,
           203,
           203,
           199,
           207,
           149,
           203,
           206,
           194,
           194,
           194,
           194,
           130,
           194,
           199,
           203,
           199,
           195,
           206,
           199,
           199,
           183,
           199,
           181,
           195,
           191,
           206,
           192,
           130,
           195,
           112,
           192,
           199,
           206,
           199,
           194,
           194,
           194,
           194,
           194,
           213,
           195,
           194,
           194,
           191,
           183,
           194,
           194,
           194,
           194,
           199,
           194,
           194,
           181,
           194,
           194,
           207,
           194,
           194,
           199,
           199,
           173,
           183,
           206,
           121,
           207,
           203,
           194,
           195,
           194,
           203,
           213,
           186,
           207,
           192,
           130,
           192,
           199,
           206,
           203,
           195,
           203,
           206,
           183,
           194,
           126,
           149,
           207,
           182,
           192,
           130,
           121,
           203,
           182,
           195,
           203,
           218,
           195,
           203,
           194,
           181,
           207,
           195,
           195
          ],
          "coloraxis": "coloraxis",
          "line": {
           "color": "DarkSlateGrey",
           "width": 0.5
          },
          "opacity": 0.8,
          "size": 5,
          "symbol": "circle"
         },
         "mode": "markers",
         "name": "",
         "scene": "scene",
         "showlegend": false,
         "type": "scatter3d",
         "x": [
          1.1749403476715088,
          8.580999374389648,
          3.1773195266723633,
          0.28687071800231934,
          3.3023595809936523,
          8.251701354980469,
          0.25655055046081543,
          0.38413891196250916,
          9.259611129760742,
          3.635810613632202,
          8.192227363586426,
          8.233122825622559,
          3.21903395652771,
          0.5686504244804382,
          2.8539490699768066,
          3.7094273567199707,
          8.431900978088379,
          2.8238651752471924,
          10.19340705871582,
          1.041269063949585,
          8.400615692138672,
          10.193705558776855,
          1.1517698764801025,
          0.10708052664995193,
          0.8649489283561707,
          9.620146751403809,
          0.8596525192260742,
          8.366660118103027,
          2.829554319381714,
          10.38422966003418,
          0.4226067364215851,
          0.2984813153743744,
          3.280513286590576,
          2.8185815811157227,
          0.1601245254278183,
          0.22761383652687073,
          0.3476039171218872,
          0.3332543969154358,
          0.32964131236076355,
          0.36657023429870605,
          9.73763656616211,
          8.428268432617188,
          0.07844401895999908,
          0.5662991404533386,
          9.61349868774414,
          0.0225664172321558,
          1.062099814414978,
          9.920087814331055,
          0.44064265489578247,
          7.968473434448242,
          0.6202371120452881,
          8.34978199005127,
          1.2025175094604492,
          8.775142669677734,
          1.1351168155670166,
          0.4225175976753235,
          8.432958602905273,
          0.4761976897716522,
          3.4014148712158203,
          9.625914573669434,
          8.403898239135742,
          3.395439624786377,
          0.49755826592445374,
          0.3948100507259369,
          10.178729057312012,
          10.61266803741455,
          9.484972953796387,
          0.007971670478582382,
          9.429041862487793,
          8.458858489990234,
          0.3367995619773865,
          0.9983767867088318,
          0.05942616984248161,
          0.21841533482074738,
          0.002407269086688757,
          9.309200286865234,
          8.865812301635742,
          0.4173331558704376,
          8.788684844970703,
          0.19385363161563873,
          0.9854434728622437,
          1.1413692235946655,
          9.838591575622559,
          9.1234130859375,
          10.584403038024902,
          9.053645133972168,
          8.310721397399902,
          -0.06038980185985565,
          1.1253056526184082,
          9.301061630249023,
          8.303058624267578,
          9.452301979064941,
          9.007014274597168,
          9.918590545654297,
          9.686556816101074,
          10.469304084777832,
          8.675251960754395,
          9.392965316772461,
          9.62868881225586,
          10.418452262878418,
          9.586870193481445,
          9.906542778015137,
          9.564701080322266,
          9.812969207763672,
          9.744271278381348,
          9.070781707763672,
          9.735075950622559,
          8.246230125427246,
          3.076012372970581,
          0.7900999784469604,
          8.232378005981445,
          3.212808609008789,
          3.181302309036255,
          3.0437519550323486,
          10.633007049560547,
          10.205789566040039,
          8.288086891174316,
          9.744044303894043,
          0.43454134464263916,
          2.3218042850494385,
          8.737171173095703,
          2.3902058601379395,
          0.5079351663589478,
          10.214127540588379,
          2.4221158027648926,
          0.9476225972175598,
          0.891446053981781,
          10.27439022064209,
          9.520339012145996,
          10.180744171142578,
          3.231860399246216,
          9.503252029418945,
          9.586263656616211,
          3.2241294384002686,
          8.304732322692871,
          8.355864524841309,
          10.088513374328613,
          9.588616371154785,
          8.193446159362793,
          8.896212577819824,
          8.496392250061035,
          9.580281257629395,
          8.429688453674316,
          0.9962610006332397,
          10.416994094848633,
          3.2924163341522217,
          10.248459815979004,
          0.9722957015037537,
          0.9801943898200989,
          9.664663314819336,
          1.0576550960540771,
          3.494302988052368,
          8.867533683776855,
          10.37093448638916,
          10.25228500366211,
          8.295088768005371,
          8.470418930053711,
          7.477759838104248,
          7.963909149169922,
          10.368051528930664,
          7.501186847686768,
          8.608059883117676,
          7.70781135559082,
          8.662846565246582,
          7.982187747955322,
          7.557614803314209,
          9.470525741577148,
          7.786465167999268,
          8.319101333618164,
          7.544979572296143,
          7.701265811920166,
          8.52500057220459,
          8.198838233947754,
          7.852545738220215,
          7.504272937774658,
          9.689360618591309,
          7.746230125427246,
          8.658926010131836,
          9.202255249023438,
          7.697753429412842,
          10.333388328552246,
          9.399182319641113,
          8.529487609863281,
          9.446821212768555,
          8.637319564819336,
          9.6657133102417,
          9.086694717407227,
          7.7838029861450195,
          7.994157791137695,
          8.05805492401123,
          7.996450901031494,
          7.571788311004639,
          7.741675853729248,
          10.051783561706543,
          8.80750560760498,
          10.121827125549316,
          8.536348342895508,
          9.020029067993164,
          8.756757736206055,
          10.048505783081055,
          9.87304401397705,
          8.378559112548828,
          8.053693771362305,
          9.669309616088867,
          7.889665126800537,
          7.607245922088623,
          7.800534725189209,
          7.672101020812988,
          10.197264671325684,
          10.112323760986328,
          10.017406463623047,
          9.528536796569824,
          10.168953895568848,
          8.34719181060791,
          9.275518417358398,
          10.16093635559082,
          10.251133918762207,
          9.892894744873047,
          10.040103912353516,
          9.276551246643066,
          8.456012725830078,
          7.511974334716797,
          10.320878028869629,
          9.259021759033203,
          10.452923774719238,
          9.053629875183105,
          7.87716817855835,
          8.982514381408691,
          10.038811683654785,
          10.233376502990723,
          8.386502265930176,
          7.967081069946289,
          7.682802200317383,
          7.571667194366455,
          7.947890758514404,
          7.48576021194458,
          9.883478164672852,
          9.259239196777344,
          7.841799736022949,
          8.139433860778809,
          8.80556869506836,
          9.534632682800293,
          7.7615437507629395,
          7.973979949951172,
          7.6517181396484375,
          8.333069801330566,
          9.963525772094727,
          7.563069820404053,
          7.525440692901611,
          9.837309837341309,
          8.238903999328613,
          7.95258903503418,
          10.233023643493652,
          7.8638787269592285,
          7.545618057250977,
          10.14778995513916,
          10.243659019470215,
          8.58774185180664,
          9.83059310913086,
          9.894380569458008,
          8.452608108520508,
          10.220094680786133,
          9.171384811401367,
          7.825363636016846,
          8.361259460449219,
          9.890758514404297,
          9.064419746398926,
          10.621707916259766,
          9.546167373657227,
          10.169256210327148,
          9.65017032623291,
          9.06437873840332,
          10.530618667602539,
          10.087080001831055,
          10.288962364196777,
          8.365889549255371,
          8.50858211517334,
          9.22014045715332,
          10.450321197509766,
          10.02478313446045,
          8.322225570678711,
          8.282607078552246,
          8.453617095947266,
          9.407414436340332,
          8.62195110321045,
          9.173504829406738,
          10.212282180786133,
          8.529912948608398,
          8.933770179748535,
          8.172901153564453,
          8.818071365356445,
          8.834827423095703,
          9.53801441192627,
          8.832280158996582,
          8.23178482055664,
          7.6044602394104,
          9.025381088256836,
          10.457809448242188,
          7.959131717681885,
          7.858014106750488
         ],
         "y": [
          6.507482528686523,
          6.270076751708984,
          6.966808319091797,
          6.5275444984436035,
          7.244740962982178,
          6.832672595977783,
          6.718201160430908,
          6.451186656951904,
          6.310937404632568,
          7.118625164031982,
          6.794802188873291,
          6.831536293029785,
          7.013760089874268,
          6.47067928314209,
          6.694019317626953,
          7.0691819190979,
          6.505054473876953,
          6.73949670791626,
          6.478883266448975,
          5.9879021644592285,
          6.996054172515869,
          7.953810691833496,
          6.520655155181885,
          6.739555835723877,
          6.47287654876709,
          6.7481913566589355,
          6.4440155029296875,
          6.950398921966553,
          6.669581890106201,
          7.6277594566345215,
          6.587100982666016,
          6.259002685546875,
          7.173877716064453,
          6.65939474105835,
          6.682881832122803,
          6.735569000244141,
          6.341890811920166,
          6.497281074523926,
          6.525970935821533,
          6.516379356384277,
          7.157869338989258,
          6.962579727172852,
          6.751339435577393,
          6.440258979797363,
          6.743823051452637,
          6.810149669647217,
          5.96497917175293,
          7.200921058654785,
          6.60741662979126,
          7.882784843444824,
          6.627110004425049,
          6.966602802276611,
          6.606277942657471,
          6.93113899230957,
          6.120669364929199,
          6.6899094581604,
          6.970541000366211,
          6.56447172164917,
          7.079807758331299,
          6.4529595375061035,
          6.9492034912109375,
          7.081105709075928,
          6.515666961669922,
          6.601815223693848,
          7.8987226486206055,
          7.177149772644043,
          8.336198806762695,
          6.810810565948486,
          8.349601745605469,
          6.517292499542236,
          6.39905309677124,
          6.483920097351074,
          6.822299480438232,
          6.522882461547852,
          6.83154821395874,
          6.117349624633789,
          7.21683406829834,
          6.3294172286987305,
          6.463032245635986,
          6.514669418334961,
          6.441899299621582,
          6.534760475158691,
          7.711629390716553,
          7.252473831176758,
          6.913638114929199,
          7.214625835418701,
          6.248239994049072,
          6.8662590980529785,
          6.49269962310791,
          6.352806568145752,
          6.899660110473633,
          6.08155632019043,
          7.129566669464111,
          6.6038923263549805,
          8.260273933410645,
          6.761925220489502,
          6.882205486297607,
          5.949689865112305,
          7.137814044952393,
          7.144710540771484,
          6.746853351593018,
          6.085717678070068,
          6.793308734893799,
          6.463616371154785,
          6.358118534088135,
          6.740396022796631,
          6.621119499206543,
          6.888233184814453,
          6.729404449462891,
          6.4992594718933105,
          8.804593086242676,
          6.7479400634765625,
          6.761836051940918,
          6.806764125823975,
          7.3683271408081055,
          6.170939922332764,
          6.226984024047852,
          6.614785671234131,
          6.2670111656188965,
          6.971135139465332,
          6.403044700622559,
          7.027126789093018,
          6.248033046722412,
          6.544955253601074,
          7.039336681365967,
          6.450809478759766,
          6.45975399017334,
          6.481725692749023,
          6.870431423187256,
          6.747249603271484,
          7.147170066833496,
          6.89035701751709,
          8.406481742858887,
          7.166537761688232,
          6.860565185546875,
          6.909903526306152,
          6.65877103805542,
          6.4947967529296875,
          8.768782615661621,
          6.068899631500244,
          6.709858417510986,
          6.6605544090271,
          7.0855302810668945,
          6.068557262420654,
          7.573958396911621,
          7.060760974884033,
          6.511483192443848,
          6.437950134277344,
          6.324307918548584,
          8.359498023986816,
          5.984699726104736,
          7.157294273376465,
          7.301864147186279,
          7.62758731842041,
          6.507500648498535,
          7.606393814086914,
          8.118151664733887,
          8.399725914001465,
          8.640359878540039,
          6.098875999450684,
          8.077032089233398,
          6.159793853759766,
          8.000191688537598,
          7.171133995056152,
          8.67032527923584,
          8.30711555480957,
          8.439765930175781,
          8.251747131347656,
          6.538609027862549,
          8.09952449798584,
          8.39334487915039,
          8.017005920410156,
          8.750563621520996,
          8.047197341918945,
          8.16364574432373,
          6.615829944610596,
          8.76812744140625,
          6.325810432434082,
          6.192046165466309,
          8.330011367797852,
          6.213384628295898,
          7.085124969482422,
          6.721573352813721,
          5.932135581970215,
          6.432886600494385,
          8.156096458435059,
          7.204246520996094,
          8.799590110778809,
          7.93992805480957,
          8.339393615722656,
          8.539827346801758,
          8.871378898620605,
          8.40885066986084,
          7.925605773925781,
          7.343171119689941,
          7.9551286697387695,
          8.008442878723145,
          6.0498762130737305,
          6.28611946105957,
          7.131908416748047,
          7.654585838317871,
          6.501696586608887,
          7.068946361541748,
          7.236886024475098,
          8.533555030822754,
          8.342446327209473,
          8.465167045593262,
          8.105050086975098,
          6.77039098739624,
          6.552781105041504,
          6.3434977531433105,
          6.581982612609863,
          6.63773250579834,
          6.830953121185303,
          7.1041131019592285,
          6.912937641143799,
          7.056044101715088,
          6.973562240600586,
          6.78045129776001,
          6.980380058288574,
          6.951383113861084,
          8.161612510681152,
          6.012298107147217,
          6.981801986694336,
          6.737308025360107,
          6.35921573638916,
          8.574806213378906,
          7.261088848114014,
          6.326254844665527,
          7.244624137878418,
          8.80606460571289,
          8.716691017150879,
          8.466148376464844,
          7.94271183013916,
          7.992835521697998,
          8.251280784606934,
          6.379042625427246,
          6.1901373863220215,
          8.135684967041016,
          8.102761268615723,
          5.883317947387695,
          7.119442462921143,
          7.905245780944824,
          8.299226760864258,
          8.471105575561523,
          8.216633796691895,
          6.221518039703369,
          8.328229904174805,
          8.979045867919922,
          6.225954055786133,
          8.115580558776855,
          8.14016342163086,
          8.046791076660156,
          8.331789016723633,
          8.759069442749023,
          7.136612415313721,
          6.755697250366211,
          7.67689323425293,
          7.260617256164551,
          7.360818386077881,
          7.849429130554199,
          7.744414806365967,
          6.185542583465576,
          8.357670783996582,
          6.270545959472656,
          6.6242499351501465,
          5.808979034423828,
          7.116959095001221,
          7.281242370605469,
          7.865005970001221,
          6.893176078796387,
          6.212179183959961,
          6.584883689880371,
          7.2764434814453125,
          6.150857925415039,
          6.890647888183594,
          7.009106636047363,
          6.139118194580078,
          6.719228267669678,
          6.4598307609558105,
          8.289259910583496,
          6.155019283294678,
          6.549314498901367,
          7.370328426361084,
          6.872091293334961,
          7.104178428649902,
          6.742079734802246,
          7.751233100891113,
          5.964773654937744,
          6.555297374725342,
          7.448908805847168,
          6.528626918792725,
          8.321464538574219,
          6.387511253356934,
          6.753603458404541,
          8.875091552734375,
          7.085461139678955,
          7.660834312438965,
          7.6142802238464355,
          7.718892574310303
         ],
         "z": [
          -1.6933250427246094,
          5.283306121826172,
          0.03616467863321304,
          0.5048525929450989,
          -0.16192351281642914,
          2.82261061668396,
          -0.5413110256195068,
          -0.4814814627170563,
          5.988497257232666,
          -0.1888977438211441,
          2.7648088932037354,
          2.7273435592651367,
          -0.027175173163414,
          0.583885133266449,
          0.4513745605945587,
          -0.142835795879364,
          6.154945373535156,
          0.3992599844932556,
          3.2768263816833496,
          -0.8983973264694214,
          5.110092639923096,
          5.200664043426514,
          -1.6645618677139282,
          -1.4686658382415771,
          -0.8708563446998596,
          2.1442763805389404,
          -0.7909358143806458,
          2.721212148666382,
          0.48623591661453247,
          4.943796634674072,
          -0.41216710209846497,
          -0.7461879253387451,
          -0.15708646178245544,
          0.4980866014957428,
          -1.4140232801437378,
          -0.48863598704338074,
          -0.795716404914856,
          -0.3900223672389984,
          -0.3803107738494873,
          0.44873982667922974,
          4.223893642425537,
          5.082896709442139,
          -1.3567399978637695,
          0.5302231311798096,
          2.134450674057007,
          -1.3889236450195312,
          -0.9077461957931519,
          3.94812273979187,
          0.5353308916091919,
          7.5626702308654785,
          -1.278159260749817,
          2.654710531234741,
          -1.6624754667282104,
          6.530719757080078,
          -0.7641916275024414,
          0.5751074552536011,
          3.3160247802734375,
          0.5020209550857544,
          -0.3385791480541229,
          6.034987449645996,
          3.2849953174591064,
          -0.31811559200286865,
          0.5556745529174805,
          0.48104602098464966,
          4.943966388702393,
          4.882697105407715,
          5.807509422302246,
          -1.3385015726089478,
          5.830617904663086,
          5.719149112701416,
          -0.7789303660392761,
          -0.7302963733673096,
          -1.4045699834823608,
          -1.1980764865875244,
          -1.4209264516830444,
          5.698795795440674,
          5.032700061798096,
          -0.8725798726081848,
          6.242520332336426,
          -1.2461179494857788,
          -0.7112123370170593,
          -1.6467984914779663,
          4.939084053039551,
          4.128965377807617,
          4.898058891296387,
          6.613908290863037,
          5.448055267333984,
          -1.2930467128753662,
          -1.673148274421692,
          6.123937606811523,
          3.547508955001831,
          4.993991374969482,
          6.191064834594727,
          5.74699592590332,
          5.816803932189941,
          4.518996238708496,
          5.771658897399902,
          5.185445308685303,
          5.854088306427002,
          4.36560583114624,
          2.1454129219055176,
          4.935580253601074,
          2.1903343200683594,
          3.7072131633758545,
          3.849876880645752,
          5.255908966064453,
          2.0222649574279785,
          2.6800622940063477,
          0.3381803333759308,
          -1.206540584564209,
          6.8183674812316895,
          0.3554825782775879,
          0.3571058213710785,
          0.2841735780239105,
          5.04956579208374,
          4.411111831665039,
          5.6737165451049805,
          6.208385944366455,
          -0.8154177665710449,
          0.5476087927818298,
          5.395648002624512,
          0.5998789668083191,
          -0.8351902365684509,
          2.9451253414154053,
          0.6152530908584595,
          -1.416260838508606,
          -1.3538062572479248,
          2.9959700107574463,
          2.3610095977783203,
          5.728360176086426,
          -0.11652406305074692,
          2.3984012603759766,
          5.964917182922363,
          -0.12723876535892487,
          3.324152946472168,
          3.31294846534729,
          5.952500820159912,
          4.7867279052734375,
          6.915216445922852,
          5.5810651779174805,
          3.884244918823242,
          4.317501068115234,
          5.13612699508667,
          -0.9103242754936218,
          5.4208149909973145,
          -0.1617530882358551,
          2.9920318126678467,
          -1.4546338319778442,
          -1.3525274991989136,
          5.909303665161133,
          -0.8533081412315369,
          -0.2600612938404083,
          5.020978927612305,
          5.459504127502441,
          2.994645118713379,
          6.4848504066467285,
          7.963320732116699,
          8.34359359741211,
          8.151259422302246,
          4.374370098114014,
          7.912650108337402,
          5.24515438079834,
          7.723935604095459,
          3.667816638946533,
          7.022702693939209,
          7.96332311630249,
          6.10374116897583,
          8.317394256591797,
          4.122988224029541,
          7.882833003997803,
          8.30777359008789,
          7.7740020751953125,
          6.85207462310791,
          8.218932151794434,
          7.829641819000244,
          5.463141441345215,
          8.103202819824219,
          6.015405654907227,
          6.163369178771973,
          7.6075263023376465,
          4.435537338256836,
          6.371970176696777,
          5.543544769287109,
          4.981120586395264,
          5.69584846496582,
          5.9103312492370605,
          5.432837963104248,
          7.8844218254089355,
          8.298389434814453,
          8.107804298400879,
          7.967951774597168,
          7.982498645782471,
          8.336352348327637,
          5.100972652435303,
          6.355630397796631,
          5.056457042694092,
          7.087408065795898,
          5.169693946838379,
          5.620593070983887,
          4.323742389678955,
          4.861148834228516,
          6.198977947235107,
          5.920928001403809,
          4.360392093658447,
          8.049445152282715,
          7.674740314483643,
          8.017648696899414,
          8.03948974609375,
          5.072178840637207,
          4.808871746063232,
          4.434449672698975,
          6.213399887084961,
          4.058109760284424,
          3.525392770767212,
          5.5838541984558105,
          3.9342806339263916,
          4.0536208152771,
          5.59166145324707,
          4.084301471710205,
          5.0791778564453125,
          3.6218624114990234,
          7.656440258026123,
          4.460742473602295,
          6.487081050872803,
          4.89995813369751,
          4.331352710723877,
          7.1181206703186035,
          6.366885662078857,
          4.343746662139893,
          5.035301685333252,
          6.639123916625977,
          8.238241195678711,
          8.420696258544922,
          7.887967586517334,
          8.219914436340332,
          7.9706830978393555,
          4.962241172790527,
          6.105881214141846,
          7.977757930755615,
          7.625198841094971,
          5.378281116485596,
          5.746707916259766,
          8.098921775817871,
          8.199110984802246,
          8.287224769592285,
          8.214876174926758,
          4.312326431274414,
          7.7689008712768555,
          7.962386608123779,
          4.8297858238220215,
          7.864077568054199,
          7.752372741699219,
          5.190844535827637,
          8.304978370666504,
          7.816727161407471,
          4.14538049697876,
          4.0317606925964355,
          6.8750762939453125,
          5.913074493408203,
          4.72902774810791,
          7.098012447357178,
          5.662896156311035,
          5.943989276885986,
          7.773479461669922,
          5.637580394744873,
          4.70841121673584,
          5.622162818908691,
          4.964595794677734,
          5.002400875091553,
          4.905551433563232,
          6.241476535797119,
          4.9874348640441895,
          5.033074855804443,
          3.9377825260162354,
          4.789040565490723,
          6.434444427490234,
          3.5322699546813965,
          5.444149494171143,
          4.654209613800049,
          5.524775981903076,
          8.157710075378418,
          5.556159496307373,
          6.097783088684082,
          5.223541736602783,
          4.1088128089904785,
          6.258700847625732,
          5.853981971740723,
          6.999740123748779,
          5.39484167098999,
          3.3721764087677,
          5.109865188598633,
          6.106257438659668,
          6.017155170440674,
          4.721499919891357,
          6.225343704223633,
          7.83979606628418,
          5.298202991485596,
          5.003417491912842,
          6.368364334106445,
          6.532610893249512
         ]
        }
       ],
       "layout": {
        "autosize": true,
        "coloraxis": {
         "colorbar": {
          "title": {
           "text": "cluster_id"
          }
         },
         "colorscale": [
          [
           0,
           "rgb(102,194,165)"
          ],
          [
           0.14285714285714285,
           "rgb(252,141,98)"
          ],
          [
           0.2857142857142857,
           "rgb(141,160,203)"
          ],
          [
           0.42857142857142855,
           "rgb(231,138,195)"
          ],
          [
           0.5714285714285714,
           "rgb(166,216,84)"
          ],
          [
           0.7142857142857143,
           "rgb(255,217,47)"
          ],
          [
           0.8571428571428571,
           "rgb(229,196,148)"
          ],
          [
           1,
           "rgb(179,179,179)"
          ]
         ]
        },
        "legend": {
         "tracegroupgap": 0
        },
        "scene": {
         "aspectmode": "auto",
         "aspectratio": {
          "x": 1.5278464013298398,
          "y": 0.4529313997066089,
          "z": 1.445066639050754
         },
         "camera": {
          "center": {
           "x": 0,
           "y": 0,
           "z": 0
          },
          "eye": {
           "x": 0.341309908287294,
           "y": 1.0232514060361013,
           "z": 0.25083919241567554
          },
          "projection": {
           "type": "perspective"
          },
          "up": {
           "x": 0,
           "y": 0,
           "z": 1
          }
         },
         "domain": {
          "x": [
           0,
           1
          ],
          "y": [
           0,
           1
          ]
         },
         "xaxis": {
          "title": {
           "text": "x"
          },
          "type": "linear"
         },
         "yaxis": {
          "title": {
           "text": "y"
          },
          "type": "linear"
         },
         "zaxis": {
          "title": {
           "text": "z"
          },
          "type": "linear"
         }
        },
        "template": {
         "data": {
          "bar": [
           {
            "error_x": {
             "color": "#2a3f5f"
            },
            "error_y": {
             "color": "#2a3f5f"
            },
            "marker": {
             "line": {
              "color": "#E5ECF6",
              "width": 0.5
             },
             "pattern": {
              "fillmode": "overlay",
              "size": 10,
              "solidity": 0.2
             }
            },
            "type": "bar"
           }
          ],
          "barpolar": [
           {
            "marker": {
             "line": {
              "color": "#E5ECF6",
              "width": 0.5
             },
             "pattern": {
              "fillmode": "overlay",
              "size": 10,
              "solidity": 0.2
             }
            },
            "type": "barpolar"
           }
          ],
          "carpet": [
           {
            "aaxis": {
             "endlinecolor": "#2a3f5f",
             "gridcolor": "white",
             "linecolor": "white",
             "minorgridcolor": "white",
             "startlinecolor": "#2a3f5f"
            },
            "baxis": {
             "endlinecolor": "#2a3f5f",
             "gridcolor": "white",
             "linecolor": "white",
             "minorgridcolor": "white",
             "startlinecolor": "#2a3f5f"
            },
            "type": "carpet"
           }
          ],
          "choropleth": [
           {
            "colorbar": {
             "outlinewidth": 0,
             "ticks": ""
            },
            "type": "choropleth"
           }
          ],
          "contour": [
           {
            "colorbar": {
             "outlinewidth": 0,
             "ticks": ""
            },
            "colorscale": [
             [
              0,
              "#0d0887"
             ],
             [
              0.1111111111111111,
              "#46039f"
             ],
             [
              0.2222222222222222,
              "#7201a8"
             ],
             [
              0.3333333333333333,
              "#9c179e"
             ],
             [
              0.4444444444444444,
              "#bd3786"
             ],
             [
              0.5555555555555556,
              "#d8576b"
             ],
             [
              0.6666666666666666,
              "#ed7953"
             ],
             [
              0.7777777777777778,
              "#fb9f3a"
             ],
             [
              0.8888888888888888,
              "#fdca26"
             ],
             [
              1,
              "#f0f921"
             ]
            ],
            "type": "contour"
           }
          ],
          "contourcarpet": [
           {
            "colorbar": {
             "outlinewidth": 0,
             "ticks": ""
            },
            "type": "contourcarpet"
           }
          ],
          "heatmap": [
           {
            "colorbar": {
             "outlinewidth": 0,
             "ticks": ""
            },
            "colorscale": [
             [
              0,
              "#0d0887"
             ],
             [
              0.1111111111111111,
              "#46039f"
             ],
             [
              0.2222222222222222,
              "#7201a8"
             ],
             [
              0.3333333333333333,
              "#9c179e"
             ],
             [
              0.4444444444444444,
              "#bd3786"
             ],
             [
              0.5555555555555556,
              "#d8576b"
             ],
             [
              0.6666666666666666,
              "#ed7953"
             ],
             [
              0.7777777777777778,
              "#fb9f3a"
             ],
             [
              0.8888888888888888,
              "#fdca26"
             ],
             [
              1,
              "#f0f921"
             ]
            ],
            "type": "heatmap"
           }
          ],
          "heatmapgl": [
           {
            "colorbar": {
             "outlinewidth": 0,
             "ticks": ""
            },
            "colorscale": [
             [
              0,
              "#0d0887"
             ],
             [
              0.1111111111111111,
              "#46039f"
             ],
             [
              0.2222222222222222,
              "#7201a8"
             ],
             [
              0.3333333333333333,
              "#9c179e"
             ],
             [
              0.4444444444444444,
              "#bd3786"
             ],
             [
              0.5555555555555556,
              "#d8576b"
             ],
             [
              0.6666666666666666,
              "#ed7953"
             ],
             [
              0.7777777777777778,
              "#fb9f3a"
             ],
             [
              0.8888888888888888,
              "#fdca26"
             ],
             [
              1,
              "#f0f921"
             ]
            ],
            "type": "heatmapgl"
           }
          ],
          "histogram": [
           {
            "marker": {
             "pattern": {
              "fillmode": "overlay",
              "size": 10,
              "solidity": 0.2
             }
            },
            "type": "histogram"
           }
          ],
          "histogram2d": [
           {
            "colorbar": {
             "outlinewidth": 0,
             "ticks": ""
            },
            "colorscale": [
             [
              0,
              "#0d0887"
             ],
             [
              0.1111111111111111,
              "#46039f"
             ],
             [
              0.2222222222222222,
              "#7201a8"
             ],
             [
              0.3333333333333333,
              "#9c179e"
             ],
             [
              0.4444444444444444,
              "#bd3786"
             ],
             [
              0.5555555555555556,
              "#d8576b"
             ],
             [
              0.6666666666666666,
              "#ed7953"
             ],
             [
              0.7777777777777778,
              "#fb9f3a"
             ],
             [
              0.8888888888888888,
              "#fdca26"
             ],
             [
              1,
              "#f0f921"
             ]
            ],
            "type": "histogram2d"
           }
          ],
          "histogram2dcontour": [
           {
            "colorbar": {
             "outlinewidth": 0,
             "ticks": ""
            },
            "colorscale": [
             [
              0,
              "#0d0887"
             ],
             [
              0.1111111111111111,
              "#46039f"
             ],
             [
              0.2222222222222222,
              "#7201a8"
             ],
             [
              0.3333333333333333,
              "#9c179e"
             ],
             [
              0.4444444444444444,
              "#bd3786"
             ],
             [
              0.5555555555555556,
              "#d8576b"
             ],
             [
              0.6666666666666666,
              "#ed7953"
             ],
             [
              0.7777777777777778,
              "#fb9f3a"
             ],
             [
              0.8888888888888888,
              "#fdca26"
             ],
             [
              1,
              "#f0f921"
             ]
            ],
            "type": "histogram2dcontour"
           }
          ],
          "mesh3d": [
           {
            "colorbar": {
             "outlinewidth": 0,
             "ticks": ""
            },
            "type": "mesh3d"
           }
          ],
          "parcoords": [
           {
            "line": {
             "colorbar": {
              "outlinewidth": 0,
              "ticks": ""
             }
            },
            "type": "parcoords"
           }
          ],
          "pie": [
           {
            "automargin": true,
            "type": "pie"
           }
          ],
          "scatter": [
           {
            "fillpattern": {
             "fillmode": "overlay",
             "size": 10,
             "solidity": 0.2
            },
            "type": "scatter"
           }
          ],
          "scatter3d": [
           {
            "line": {
             "colorbar": {
              "outlinewidth": 0,
              "ticks": ""
             }
            },
            "marker": {
             "colorbar": {
              "outlinewidth": 0,
              "ticks": ""
             }
            },
            "type": "scatter3d"
           }
          ],
          "scattercarpet": [
           {
            "marker": {
             "colorbar": {
              "outlinewidth": 0,
              "ticks": ""
             }
            },
            "type": "scattercarpet"
           }
          ],
          "scattergeo": [
           {
            "marker": {
             "colorbar": {
              "outlinewidth": 0,
              "ticks": ""
             }
            },
            "type": "scattergeo"
           }
          ],
          "scattergl": [
           {
            "marker": {
             "colorbar": {
              "outlinewidth": 0,
              "ticks": ""
             }
            },
            "type": "scattergl"
           }
          ],
          "scattermapbox": [
           {
            "marker": {
             "colorbar": {
              "outlinewidth": 0,
              "ticks": ""
             }
            },
            "type": "scattermapbox"
           }
          ],
          "scatterpolar": [
           {
            "marker": {
             "colorbar": {
              "outlinewidth": 0,
              "ticks": ""
             }
            },
            "type": "scatterpolar"
           }
          ],
          "scatterpolargl": [
           {
            "marker": {
             "colorbar": {
              "outlinewidth": 0,
              "ticks": ""
             }
            },
            "type": "scatterpolargl"
           }
          ],
          "scatterternary": [
           {
            "marker": {
             "colorbar": {
              "outlinewidth": 0,
              "ticks": ""
             }
            },
            "type": "scatterternary"
           }
          ],
          "surface": [
           {
            "colorbar": {
             "outlinewidth": 0,
             "ticks": ""
            },
            "colorscale": [
             [
              0,
              "#0d0887"
             ],
             [
              0.1111111111111111,
              "#46039f"
             ],
             [
              0.2222222222222222,
              "#7201a8"
             ],
             [
              0.3333333333333333,
              "#9c179e"
             ],
             [
              0.4444444444444444,
              "#bd3786"
             ],
             [
              0.5555555555555556,
              "#d8576b"
             ],
             [
              0.6666666666666666,
              "#ed7953"
             ],
             [
              0.7777777777777778,
              "#fb9f3a"
             ],
             [
              0.8888888888888888,
              "#fdca26"
             ],
             [
              1,
              "#f0f921"
             ]
            ],
            "type": "surface"
           }
          ],
          "table": [
           {
            "cells": {
             "fill": {
              "color": "#EBF0F8"
             },
             "line": {
              "color": "white"
             }
            },
            "header": {
             "fill": {
              "color": "#C8D4E3"
             },
             "line": {
              "color": "white"
             }
            },
            "type": "table"
           }
          ]
         },
         "layout": {
          "annotationdefaults": {
           "arrowcolor": "#2a3f5f",
           "arrowhead": 0,
           "arrowwidth": 1
          },
          "autotypenumbers": "strict",
          "coloraxis": {
           "colorbar": {
            "outlinewidth": 0,
            "ticks": ""
           }
          },
          "colorscale": {
           "diverging": [
            [
             0,
             "#8e0152"
            ],
            [
             0.1,
             "#c51b7d"
            ],
            [
             0.2,
             "#de77ae"
            ],
            [
             0.3,
             "#f1b6da"
            ],
            [
             0.4,
             "#fde0ef"
            ],
            [
             0.5,
             "#f7f7f7"
            ],
            [
             0.6,
             "#e6f5d0"
            ],
            [
             0.7,
             "#b8e186"
            ],
            [
             0.8,
             "#7fbc41"
            ],
            [
             0.9,
             "#4d9221"
            ],
            [
             1,
             "#276419"
            ]
           ],
           "sequential": [
            [
             0,
             "#0d0887"
            ],
            [
             0.1111111111111111,
             "#46039f"
            ],
            [
             0.2222222222222222,
             "#7201a8"
            ],
            [
             0.3333333333333333,
             "#9c179e"
            ],
            [
             0.4444444444444444,
             "#bd3786"
            ],
            [
             0.5555555555555556,
             "#d8576b"
            ],
            [
             0.6666666666666666,
             "#ed7953"
            ],
            [
             0.7777777777777778,
             "#fb9f3a"
            ],
            [
             0.8888888888888888,
             "#fdca26"
            ],
            [
             1,
             "#f0f921"
            ]
           ],
           "sequentialminus": [
            [
             0,
             "#0d0887"
            ],
            [
             0.1111111111111111,
             "#46039f"
            ],
            [
             0.2222222222222222,
             "#7201a8"
            ],
            [
             0.3333333333333333,
             "#9c179e"
            ],
            [
             0.4444444444444444,
             "#bd3786"
            ],
            [
             0.5555555555555556,
             "#d8576b"
            ],
            [
             0.6666666666666666,
             "#ed7953"
            ],
            [
             0.7777777777777778,
             "#fb9f3a"
            ],
            [
             0.8888888888888888,
             "#fdca26"
            ],
            [
             1,
             "#f0f921"
            ]
           ]
          },
          "colorway": [
           "#636efa",
           "#EF553B",
           "#00cc96",
           "#ab63fa",
           "#FFA15A",
           "#19d3f3",
           "#FF6692",
           "#B6E880",
           "#FF97FF",
           "#FECB52"
          ],
          "font": {
           "color": "#2a3f5f"
          },
          "geo": {
           "bgcolor": "white",
           "lakecolor": "white",
           "landcolor": "#E5ECF6",
           "showlakes": true,
           "showland": true,
           "subunitcolor": "white"
          },
          "hoverlabel": {
           "align": "left"
          },
          "hovermode": "closest",
          "mapbox": {
           "style": "light"
          },
          "paper_bgcolor": "white",
          "plot_bgcolor": "#E5ECF6",
          "polar": {
           "angularaxis": {
            "gridcolor": "white",
            "linecolor": "white",
            "ticks": ""
           },
           "bgcolor": "#E5ECF6",
           "radialaxis": {
            "gridcolor": "white",
            "linecolor": "white",
            "ticks": ""
           }
          },
          "scene": {
           "xaxis": {
            "backgroundcolor": "#E5ECF6",
            "gridcolor": "white",
            "gridwidth": 2,
            "linecolor": "white",
            "showbackground": true,
            "ticks": "",
            "zerolinecolor": "white"
           },
           "yaxis": {
            "backgroundcolor": "#E5ECF6",
            "gridcolor": "white",
            "gridwidth": 2,
            "linecolor": "white",
            "showbackground": true,
            "ticks": "",
            "zerolinecolor": "white"
           },
           "zaxis": {
            "backgroundcolor": "#E5ECF6",
            "gridcolor": "white",
            "gridwidth": 2,
            "linecolor": "white",
            "showbackground": true,
            "ticks": "",
            "zerolinecolor": "white"
           }
          },
          "shapedefaults": {
           "line": {
            "color": "#2a3f5f"
           }
          },
          "ternary": {
           "aaxis": {
            "gridcolor": "white",
            "linecolor": "white",
            "ticks": ""
           },
           "baxis": {
            "gridcolor": "white",
            "linecolor": "white",
            "ticks": ""
           },
           "bgcolor": "#E5ECF6",
           "caxis": {
            "gridcolor": "white",
            "linecolor": "white",
            "ticks": ""
           }
          },
          "title": {
           "x": 0.05
          },
          "xaxis": {
           "automargin": true,
           "gridcolor": "white",
           "linecolor": "white",
           "ticks": "",
           "title": {
            "standoff": 15
           },
           "zerolinecolor": "white",
           "zerolinewidth": 2
          },
          "yaxis": {
           "automargin": true,
           "gridcolor": "white",
           "linecolor": "white",
           "ticks": "",
           "title": {
            "standoff": 15
           },
           "zerolinecolor": "white",
           "zerolinewidth": 2
          }
         }
        },
        "title": {
         "text": "UMAP Projection of Article Embeddings"
        }
       }
      },
      "image/png": "[encoded data removed]",
      "text/html": [
       "<div>                            <div id=\"13b6dec6-f401-4ea1-b6bd-a0d0c8ba314a\" class=\"plotly-graph-div\" style=\"height:525px; width:100%;\"></div>            <script type=\"text/javascript\">                require([\"plotly\"], function(Plotly) {                    window.PLOTLYENV=window.PLOTLYENV || {};                                    if (document.getElementById(\"13b6dec6-f401-4ea1-b6bd-a0d0c8ba314a\")) {                    Plotly.newPlot(                        \"13b6dec6-f401-4ea1-b6bd-a0d0c8ba314a\",                        [{\"customdata\":[[\"Earth Defense Force 6 on PS5, PS4, PC via Steam: Release date, key features of video game\",\"bank_rbi_loan_credit_banks\"],[\"Google to make passwords obsolete? Here\\u2019s what the tech giant is planning with passkeys\",\"bank_rbi_loan_credit_banks\"],[\"'Messi Meets America' Documentary Series: Here\\u2019s release schedule, streaming platform and everything you m\",\"air_flight_airport_air india_aviation\"],[\"Bruce Willis is 'not totally verbal' as dementia progresses\",\"bank_rbi_loan_credit_banks\"],[\"Cristiano Ronaldo's Portugal vs Slovakia Euro 2024 Qualifiers live streaming: When and where to watch\",\"air_flight_airport_air india_aviation\"],[\"US Secy Blinken highlights civilian suffering, security concerns amid Israel-Hamas war\",\"air_flight_airport_air india_aviation\"],[\"\\u2018Please Don't Destroy: The Treasure of Foggy Mountain\\u2019: See release date, cast, storyline, trailer, stream\",\"bank_rbi_loan_credit_banks\"],[\"'Lessons in Chemistry': How to watch and what you need to know\",\"bank_rbi_loan_credit_banks\"],[\"NCLAT sets aside order directing RIL to get stakeholders nod for transfer of RPPMSL's Digital EPC assets\",\"air_flight_airport_air india_india\"],[\"IOC suspends Russian Olympic Committee for incorporating Ukrainian sports regions\",\"cr_ipo_rs_crore_firms\"],[\"Hamas urges global relief organisations to send vital supplies to Gaza\",\"air_flight_airport_air india_aviation\"],[\"Hamas urges global relief organisations to send vital supplies to Gaza\",\"air_flight_airport_air india_aviation\"],[\"'Messi Meets America' Documentary Series: Here\\u2019s release schedule, streaming platform and everything you m\",\"air_flight_airport_air india_aviation\"],[\"Who was Rudolph Isley? Know on Isley Brothers\\u2019 founding member and his legacy\",\"bank_rbi_loan_credit_banks\"],[\"PinkPantheress\\u2019s Debut Album 'Heaven Knows': Here\\u2019s release date and more\",\"bank_rbi_loan_credit_banks\"],[\"IOC suspends Russian Olympic Committee for incorporating Ukrainian sports regions\",\"cr_ipo_rs_crore_firms\"],[\"Sebi comes out with guidelines for exchanges' MDs, CEOs to boost cyber security\",\"sebi_case_case sebi_entities_disclosure\"],[\"PinkPantheress\\u2019s Debut Album 'Heaven Knows': Here\\u2019s release date and more\",\"bank_rbi_loan_credit_banks\"],[\"El Nino unlikely to cause sugar shortage in India: NFCSF\",\"trade_exports_uk_fta_india\"],[\"\\u2018The Crown\\u2019 Season 6: Which years the final season may cover?\",\"oil_gas_ongc_energy_transition\"],[\"Empowering education: Study24x7's unique approach to social learning\",\"bank_rbi_loan_credit_banks\"],[\"Apollo Tyres expects double-digit revenue growth in FY24\",\"inflation_growth_rate_fed_fy24\"],[\"Earth Defense Force 6 on PS5, PS4, PC via Steam: Release date, key features of video game\",\"bank_rbi_loan_credit_banks\"],[\"The Callisto Protocol: Check out the complete voice cast and more\",\"bank_rbi_loan_credit_banks\"],[\"Spy X Family Season 2 Episode 2: Bond's survival strategy unveiled! Release date and more\",\"bank_rbi_loan_credit_banks\"],[\"Capturing the Solar Eclipse on your phone camera: Tips and precautions\",\"bank_rbi_loan_credit_banks\"],[\"Spy X Family Season 2 Episode 2: Bond's survival strategy unveiled! Release date and more\",\"bank_rbi_loan_credit_banks\"],[\"US Secy Blinken highlights civilian suffering, security concerns amid Israel-Hamas war\",\"air_flight_airport_air india_aviation\"],[\"Mitski's 'My Love Mine All Mine' rises to TikTok Billboard Top 50\",\"bank_rbi_loan_credit_banks\"],[\"Automobile retail sales see double-digit growth in FY23; PV offtake at record high\",\"sales_electric_ev_units_vehicles\"],[\"'Lessons in Chemistry': How to watch and what you need to know\",\"bank_rbi_loan_credit_banks\"],[\"The Spencer Sisters Season 1: Know cast, storyline, release schedule, streaming platform and more\",\"bank_rbi_loan_credit_banks\"],[\"Cristiano Ronaldo's Portugal vs Slovakia Euro 2024 Qualifiers live streaming: When and where to watch\",\"air_flight_airport_air india_aviation\"],[\"Mitski's 'My Love Mine All Mine' rises to TikTok Billboard Top 50\",\"bank_rbi_loan_credit_banks\"],[\"\\u2018Blue Eye Samurai\\u2019: Here\\u2019s storyline, cast, trailer, release date and streaming platform of upcoming anime\",\"bank_rbi_loan_credit_banks\"],[\"\\u2018Please Don't Destroy: The Treasure of Foggy Mountain\\u2019: See release date, cast, storyline, trailer, stream\",\"bank_rbi_loan_credit_banks\"],[\"The Spencer Sisters Season 1: Know cast, storyline, release schedule, streaming platform and more\",\"bank_rbi_loan_credit_banks\"],[\"\\u200bHolly Willoughby set for career overhaul after exiting  This Morning \",\"bank_rbi_loan_credit_banks\"],[\"\\u200bHolly Willoughby set for career overhaul after exiting  This Morning \",\"bank_rbi_loan_credit_banks\"],[\"Bruce Willis is 'not totally verbal' as dementia progresses\",\"bank_rbi_loan_credit_banks\"],[\"Union Shipping Minister announces five initiatives to make India global leader in maritime sector\",\"ipo_adani_papers_papers sebi_power\"],[\"Empowering education: Study24x7's unique approach to social learning\",\"bank_rbi_loan_credit_banks\"],[\"\\u2018Blue Eye Samurai\\u2019: Here\\u2019s storyline, cast, trailer, release date and streaming platform of upcoming anime\",\"bank_rbi_loan_credit_banks\"],[\"Who was Rudolph Isley? Know on Isley Brothers\\u2019 founding member and his legacy\",\"bank_rbi_loan_credit_banks\"],[\"Capturing the Solar Eclipse on your phone camera: Tips and precautions\",\"bank_rbi_loan_credit_banks\"],[\"The Callisto Protocol: Check out the complete voice cast and more\",\"bank_rbi_loan_credit_banks\"],[\"\\u2018The Crown\\u2019 Season 6: Which years the final season may cover?\",\"oil_gas_ongc_energy_transition\"],[\"EAM Jaishankar meets WIPO director general, discusses making intellectual property more 'Global South frie\",\"metro_dmrc_bullet train_bullet_rail\"],[\"Jennifer Lopez, Ben Affleck visit Los Angeles market, McDonald's\",\"bank_rbi_loan_credit_banks\"],[\"Buy ICICI Prudential Life Insurance Company, target price Rs 550:  Motilal Oswal Financial Services \",\"crypto_target price_price rs_bitcoin_buy\"],[\"Jujutsu Kaisen Season 2 Episode 13: The upcoming Yuji vs Choso battle \\u2014 What to expect\",\"bank_rbi_loan_credit_banks\"],[\"Race for US House speaker in chaos as Republican nominee drops out\",\"oil_gas_ongc_energy_transition\"],[\"Microsoft-Activision Blizzard: Ubisoft reveals strategy\",\"bank_rbi_loan_credit_banks\"],[\"BSE sells stake in CDSL via bulk deal; Madhusudan Kela's wife Madhuri Kela buys in Sangam\",\"ipo_adani_papers_papers sebi_power\"],[\"Bel-Air Season 3: This is what we know so far\",\"bank_rbi_loan_credit_banks\"],[\"Scarlett Johansson makes 'powerful' remarks for Pamela Anderson's no-makeup appearance at Paris Fashion We\",\"bank_rbi_loan_credit_banks\"],[\"BSF shoots down Pakistani drone in Rajasthan\",\"rbi_bank_rbi imposes_penalty_imposes rs\"],[\"John Travolta pays tribute to late wife Kelly Preston. Here\\u2019s what happened\",\"bank_rbi_loan_credit_banks\"],[\"Halo World Championship 2023: Schedule, kick off time, teams\",\"air_flight_airport_air india_aviation\"],[\"IndiGrid raises Rs 1,140 cr via bonds\",\"ipo_adani_papers_papers sebi_power\"],[\"BSF shoots down Pakistani drone in Rajasthan\",\"rbi_bank_rbi imposes_penalty_imposes rs\"],[\"Halo World Championship 2023: Schedule, kick off time, teams\",\"air_flight_airport_air india_aviation\"],[\"John Travolta pays tribute to late wife Kelly Preston. Here\\u2019s what happened\",\"bank_rbi_loan_credit_banks\"],[\"Scarlett Johansson makes 'powerful' remarks for Pamela Anderson's no-makeup appearance at Paris Fashion We\",\"bank_rbi_loan_credit_banks\"],[\"Ashok Leyland partners with Aidrivers for autonomous electric terminal trucks\",\"crypto_target price_price rs_bitcoin_buy\"],[\"Crude steel output grows 4% in FY23\",\"coal_steel_mt_coal india_tata steel\"],[\"JPMorgan profit jumps 35%, but CEO says geopolitics and gov't inaction have led to 'dangerous time'\",\"crypto_target price_price rs_bitcoin_buy\"],[\"\\u2018Lisa Frankenstein\\u2019: Know cast, release date, storyline and more\",\"bank_rbi_loan_credit_banks\"],[\"JPMorgan profit jumps 35%, but CEO says geopolitics and gov't inaction have led to 'dangerous time'\",\"crypto_target price_price rs_bitcoin_buy\"],[\"RBI found excessive dominance by 1-2 board members even in big commercial banks: Das\",\"bank_rbi_loan_credit_banks\"],[\"American Horror Story: Delicate Part 2: Here\\u2019s what you may want to know\",\"bank_rbi_loan_credit_banks\"],[\"Parasitic, blood-sucking 'alien-like' wasp found in Amazon, eats host from inside out\",\"withdrawal_000 notes_rs 000_notes_upi\"],[\"'Monarch: Legacy of Monsters\\u2019: See release date, cast, trailer, storyline, streaming platform and more\",\"bank_rbi_loan_credit_banks\"],[\"The Walking Dead: The Ones Who Live - Release Window unveiled with new cast details | Here\\u2019s a sneak peek\",\"bank_rbi_loan_credit_banks\"],[\"'Monarch: Legacy of Monsters\\u2019: See release date, cast, trailer, storyline, streaming platform and more\",\"bank_rbi_loan_credit_banks\"],[\"Ease of doing business: DPIIT to help states in simplifying, decriminalising provisions\",\"gst_tax_pli_gst council_dpiit\"],[\"Zoom gets pan-India telecom licence\",\"air_flight_airport_air india_india\"],[\"American Horror Story: Delicate Part 2: Here\\u2019s what you may want to know\",\"bank_rbi_loan_credit_banks\"],[\"Sebi bans Excel Realty N Infra, 4 others from securities market for up to 2 years\",\"sebi_case_case sebi_entities_disclosure\"],[\"The Walking Dead: The Ones Who Live - Release Window unveiled with new cast details | Here\\u2019s a sneak peek\",\"bank_rbi_loan_credit_banks\"],[\"Parasitic, blood-sucking 'alien-like' wasp found in Amazon, eats host from inside out\",\"withdrawal_000 notes_rs 000_notes_upi\"],[\"Lords of the Fallen Sequel: See release date, platforms, gameplay, plot and more\",\"bank_rbi_loan_credit_banks\"],[\"Maruti Suzuki partners with Indian Bank to provide financing solutions to dealers\",\"sales_electric_ev_units_vehicles\"],[\"Kerala: Kochi Water Metro begins commercial operation\",\"vande_vande bharat_train_railway_bharat\"],[\"India's coal production grows 8.55 pc to 223 MT in Apr-Jun: Coal Ministry\",\"coal_steel_mt_coal india_tata steel\"],[\"Chip designer Arm targets $52 billion valuation in year's largest IPO\",\"stocks_52 week_52_week_nifty\"],[\"IRDAI working on three-pronged approach to ensure 'insurance for all by 2047'\",\"irdai_life_insurance_insurers_lic\"],[\"\\u2018Lisa Frankenstein\\u2019: Know cast, release date, storyline and more\",\"bank_rbi_loan_credit_banks\"],[\"Lords of the Fallen Sequel: See release date, platforms, gameplay, plot and more\",\"bank_rbi_loan_credit_banks\"],[\"Insolvency & Bankruptcy Code cannot be used as a tool for recovery; says NCLT\",\"air_flight_airport_air india_india\"],[\"AI Express flight faces technical problem, lands at Thiruvananthapuram; emergency declared at airport\",\"air_flight_airport_air india_india\"],[\"Govt launches GST reward scheme in 6 states, UTs; Rs 30 crore corpus for prize money\",\"gst_tax_pli_gst council_dpiit\"],[\"Ideaforge IPO: GMP signals strong investor interest ahead of subscription tomorrow\",\"ipo_adani_papers_papers sebi_power\"],[\"MoRTH plans to raise Rs 35,000 crore through asset monetisation this fiscal: Official\",\"projects_cr_fpis_rs_equities\"],[\"Colgate-Palmolive India Q4 profit down 2.3% to Rs 316.2cr, Sales up 4% to Rs 1,341.cr\",\"gold_silver_rs_results_profit\"],[\"Balrampur Chini bullish on growth, government push on ethanol\",\"trade_exports_uk_fta_india\"],[\"Audit reports gain immense significance by inducing action by executive: CAG Girish Chandra Murmu\",\"air_flight_airport_air india_india\"],[\"Over 8.75 lakh HUFs claimed Rs 3,803 crore tax deductions in 2022-23: Finance Ministry\",\"bank_rbi_loan_credit_banks\"],[\"Private equity funding in realty sector declined 20 per cent in January-June to $2.58 billion: Knight Fran\",\"projects_cr_fpis_rs_equities\"],[\"India's merchandise exports may cross USD 500 bn this fiscal: Exporters\",\"trade_exports_uk_fta_india\"],[\"Skygazers watch 'Ring of Fire' eclipse over Western Hemisphere\",\"bank_rbi_loan_credit_banks\"],[\"EPFO adds 17.9 lakh members in June\",\"pension_epfo_higher_eps_eps pension\"],[\"Skygazers watch 'Ring of Fire' eclipse over Western Hemisphere\",\"bank_rbi_loan_credit_banks\"],[\"'Aarti' performed at Delhi's Jhandewalan temple to mark first day of 'Navratri'\",\"bank_rbi_loan_credit_banks\"],[\"Chhattisgarh: World's longest Dussehra celebration begins in Bastar\",\"bank_rbi_loan_credit_banks\"],[\"ET Excellence Awards felicitates the finest entrepreneurs of Telugu states\",\"air_flight_airport_air india_india\"],[\"\\u2018Ring of fire\\u2019 Solar Eclipse: What can happen if you watch an eclipse with the naked eye?\",\"bank_rbi_loan_credit_banks\"],[\"Biden tells Netanyahu US working to ensure water, food, medicine for civilians: White House\",\"cr_ipo_rs_crore_firms\"],[\"Manchester United legend Cantona announces debut album ahead of sell-out tour\",\"air_flight_airport_air india_aviation\"],[\"Spy x Family Season 2 Episode 2: Release date, time, what to expect, where to watch\",\"bank_rbi_loan_credit_banks\"],[\"Gold falls Rs 80; silver declines Rs 400\",\"gold_silver_rs_results_profit\"],[\"Qatar's Sheikh Jassim withdraws bid to buy Manchester United\",\"air_flight_airport_air india_aviation\"],[\"Qatar's Sheikh Jassim withdraws bid to buy Manchester United\",\"air_flight_airport_air india_aviation\"],[\"Manchester United legend Cantona announces debut album ahead of sell-out tour\",\"air_flight_airport_air india_aviation\"],[\"Vizag Steel Plant logs highest ever monthly sales of value-added steel in August\",\"coal_steel_mt_coal india_tata steel\"],[\"Retail inflation for farm, rural workers eases marginally in August\",\"inflation_growth_rate_fed_fy24\"],[\"Irdai asks insurers to lay down social media norms for employees\",\"irdai_life_insurance_insurers_lic\"],[\"Reliance Power offers Rs 1,200 cr to settle debt of Butibori power project\",\"bank_rbi_loan_credit_banks\"],[\"\\u2018The Afterparty\\u2019: Netflix canceled the series after 2 seasons; What you need to know\",\"bank_rbi_loan_credit_banks\"],[\"Who is Nina Adgal? Know about Logan Paul\\u2019s fiance and their relationship timeline\",\"bank_rbi_loan_credit_banks\"],[\"New Umbrella Entity: Nothing innovative presented by applicants, says RBI\",\"bank_rbi_loan_credit_banks\"],[\"What is Logan Paul\\u2019s net worth? Here\\u2019s what you need to know about his ventures\",\"air_flight_airport_air india_aviation\"],[\"\\u2018The Afterparty\\u2019: Netflix canceled the series after 2 seasons; What you need to know\",\"bank_rbi_loan_credit_banks\"],[\"Halloween Candy: Which kind of candies are most unhealthy for your teeth? Here is everything you need to k\",\"withdrawal_000 notes_rs 000_notes_upi\"],[\"What is Logan Paul\\u2019s net worth? Here\\u2019s what you need to know about his ventures\",\"air_flight_airport_air india_aviation\"],[\"Goblin Slayer Season 2 Episode 3: Release date, time; All you need to know\",\"bank_rbi_loan_credit_banks\"],[\"Goblin Slayer Season 2 Episode 3: Release date, time; All you need to know\",\"bank_rbi_loan_credit_banks\"],[\"Halloween Candy: Which kind of candies are most unhealthy for your teeth? Here is everything you need to k\",\"withdrawal_000 notes_rs 000_notes_upi\"],[\"Aditya-L1 to reach Lagrange Point 1 by mid-January: ISRO Chief S Somnath\",\"fmcg_itc_hotels_growth_open\"],[\"PTC India signs two long-term agreements for 215 MW power purchase: CMD\",\"ipo_adani_papers_papers sebi_power\"],[\"Who is the highest paid footballer? Christiano Ronaldo, Lionel Messi and others; Check full list here\",\"air_flight_airport_air india_aviation\"],[\"Aditya-L1 to reach Lagrange Point 1 by mid-January: ISRO Chief S Somnath\",\"fmcg_itc_hotels_growth_open\"],[\"UCO Bank Q1 Results: Net profit jumps 80% YoY to Rs 223 crore\",\"gold_silver_rs_results_profit\"],[\"Who is the highest paid footballer? Christiano Ronaldo, Lionel Messi and others; Check full list here\",\"air_flight_airport_air india_aviation\"],[\"Fourth flight with 274 Indian nationals flies out from Israel\",\"rbi_bank_rbi imposes_penalty_imposes rs\"],[\"Fourth flight with 274 Indian nationals flies out from Israel\",\"rbi_bank_rbi imposes_penalty_imposes rs\"],[\"IndiGrid to acquire Virescent Renewable Energy Trust for up to Rs 4,000 cr\",\"energy_mw_power_solar_project\"],[\"CommMin asks depts to hold consultations with compnies on PLI issues\",\"gst_tax_pli_gst council_dpiit\"],[\"Gold jumps Rs 480 to lifetime high of Rs 61,780; silver climbs Rs 410\",\"gold_silver_rs_results_profit\"],[\"RBI imposes restrictions on Ahmedabad-based Colour Merchants Co-op Bank\",\"bank_rbi_loan_credit_banks\"],[\"Delhi HC dismisses plea against reduction in allowances of Air India pilots due to COVID-19\",\"air_flight_airport_air india_india\"],[\"BSP releases fourth list for MP elections\",\"bank_rbi_credit_hdfc_loan\"],[\"Unlocking the Power of People Strategy and Business Transformation: A Rare Opportunity for Business Leader\",\"air_flight_airport_air india_india\"],[\"Lupin Season 4 Update: Creator George Kay talks about next season; Here are the details\",\"bank_rbi_loan_credit_banks\"],[\"Rosmerta to set up 10 vehicle scrappage units, invest \\u20b9200 cr\",\"crypto_target price_price rs_bitcoin_buy\"],[\"UEFA EURO 2024 live streaming: Where to watch the qualifiers online? All you need to know\",\"air_flight_airport_air india_aviation\"],[\"National Cheese Curd Day: Where is Cheese Curd known to have originated from? All we know\",\"bank_rbi_loan_credit_banks\"],[\"Demon Slayer Season 4: What you need to know\",\"bank_rbi_loan_credit_banks\"],[\"Demon Slayer Season 4: What you need to know\",\"bank_rbi_loan_credit_banks\"],[\"CEAT Q1 Results: Net profit jumps multi-fold to Rs 144 crore\",\"gold_silver_rs_results_profit\"],[\"Lupin Season 4 Update: Creator George Kay talks about next season; Here are the details\",\"bank_rbi_loan_credit_banks\"],[\"UEFA EURO 2024 live streaming: Where to watch the qualifiers online? All you need to know\",\"air_flight_airport_air india_aviation\"],[\"Jio building entire ecosystem for Jio Bharat phone in India for supply chain, assembly: Kiran Thomas\",\"air_flight_airport_air india_india\"],[\"Rosmerta to set up 10 vehicle scrappage units, invest \\u20b9200 cr\",\"crypto_target price_price rs_bitcoin_buy\"],[\"National Cheese Curd Day: Where is Cheese Curd known to have originated from? All we know\",\"bank_rbi_loan_credit_banks\"],[\"HDFC Bank share price in focus ahead of Q2 results today; here\\u2019s what to expect | Mint\",\"crypto_target price_price rs_bitcoin_buy\"],[\"Reliance Power Share Price Live blog for 16 Oct 2023 | Mint\",\"oil_gas_ongc_energy_transition\"],[\"Apollo Hospital Share Price Live blog for 16 Oct 2023 | Mint\",\"oil_gas_ongc_energy_transition\"],[\"Rail Vikas Nigam Share Price Live blog for 16 Oct 2023 | Mint\",\"oil_gas_ongc_energy_transition\"],[\"RBI rate cut possible only after July 2024: Icra\",\"inflation_growth_rate_fed_fy24\"],[\"Sbi Life Share Price Live blog for 16 Oct 2023 | Mint\",\"oil_gas_ongc_energy_transition\"],[\"7 essential questions you must ask before seeking a personal loan | Mint\",\"crypto_target price_price rs_bitcoin_buy\"],[\"ICICI Prudential Life Insurance Share Price Live blog for 16 Oct 2023 | Mint\",\"oil_gas_ongc_energy_transition\"],[\"Elon Musk's SpaceX Partners with Qatar Airways: Free 350Mbps Starlink WiFi for Passengers | Mint\",\"fmcg_itc_hotels_growth_open\"],[\"Rupee gains 2 paise to close at 81.78 against US dollar\",\"dollar_rupee_paise_dollar rupee_82\"],[\"Wipro Share Price Live blog for 16 Oct 2023 | Mint\",\"oil_gas_ongc_energy_transition\"],[\"Mphasis Q1 Results: PAT dip 1.4% YoY to Rs 396 crore\",\"gold_silver_rs_results_profit\"],[\"MMTC Share Price Live blog for 16 Oct 2023 | Mint\",\"oil_gas_ongc_energy_transition\"],[\"T For Travel and not Tiring-Trouble-Turbulence only with a Travel Insurance\",\"bank_rbi_loan_credit_banks\"],[\"Icici Bank Share Price Live blog for 16 Oct 2023 | Mint\",\"oil_gas_ongc_energy_transition\"],[\"Paytm Share Price Live blog for 16 Oct 2023 | Mint\",\"oil_gas_ongc_energy_transition\"],[\"Reliance Infrastructure Share Price Live blog for 16 Oct 2023 | Mint\",\"oil_gas_ongc_energy_transition\"],[\"Gold rises Rs 100; silver remains flat\",\"gold_silver_rs_results_profit\"],[\"Divis Lab Share Price Live blog for 16 Oct 2023 | Mint\",\"oil_gas_ongc_energy_transition\"],[\"Axis Bank Share Price Live blog for 16 Oct 2023 | Mint\",\"oil_gas_ongc_energy_transition\"],[\"Delhi govt, MCD, DDA asked to explain construction of housing project in Southern Ridge forest\",\"bank_rbi_loan_credit_banks\"],[\"Coffee Day Enterprises Share Price Live blog for 16 Oct 2023 | Mint\",\"oil_gas_ongc_energy_transition\"],[\"Sebi orders attachment of bank, demat, MF accounts of Videocon's Dhoot to recover dues\",\"sebi_case_case sebi_entities_disclosure\"],[\"Resolutions under insolvency law likely to touch 300 this year: IBBI chief\",\"air_flight_airport_air india_india\"],[\"Jio Financial Services Share Price Live blog for 16 Oct 2023 | Mint\",\"oil_gas_ongc_energy_transition\"],[\"Vegetable prices likely to cool down next month, rising crude a concern: FinMin official\",\"inflation_growth_rate_fed_fy24\"],[\"Adani to raise $3.5 bn from share sale in three group cos\",\"ipo_adani_papers_papers sebi_power\"],[\"India's Think360 make top AI Fintech Companies List\",\"air_flight_airport_air india_india\"],[\"Deadline for mandatory use of Aadhaar-based payment for MGNREGA workers not to be extended beyond Aug 31\",\"bank_rbi_loan_credit_banks\"],[\"Large corporates will never be allowed to open a bank in India: N Vaghul\",\"bank_rbi_loan_credit_banks\"],[\"Godrej Properties Q1 Results: Profit jumps nearly 3-fold to Rs 125 crore; sale bookings down 11%\",\"projects_cr_fpis_rs_equities\"],[\"Dr Reddy's to enhance presence in emerging segments like nutraceuticals, gene therapy\",\"drug_usfda_gets_pharma_gets usfda\"],[\"Ultracab India Share Price Live blog for 16 Oct 2023 | Mint\",\"oil_gas_ongc_energy_transition\"],[\"Hcl Tech Share Price Live blog for 16 Oct 2023 | Mint\",\"oil_gas_ongc_energy_transition\"],[\"Persistent Systems Share Price Live blog for 16 Oct 2023 | Mint\",\"oil_gas_ongc_energy_transition\"],[\"Vedanta Share Price Live blog for 16 Oct 2023 | Mint\",\"oil_gas_ongc_energy_transition\"],[\"Eicher Motors Share Price Live blog for 16 Oct 2023 | Mint\",\"oil_gas_ongc_energy_transition\"],[\"LTI Mindtree Share Price Live blog for 16 Oct 2023 | Mint\",\"oil_gas_ongc_energy_transition\"],[\"JSW Group in talks with MG Motor India, BYD India to pick up stake\",\"sales_electric_ev_units_vehicles\"],[\"Dolly Khanna raises stake in multibagger stock despite 105% rally in YTD | Mint\",\"oil_gas_ongc_energy_transition\"],[\"Chetak EV domestic sales grow over 4-fold in FY23: Bajaj Auto\",\"sales_electric_ev_units_vehicles\"],[\"Infosys earnings shocker wipes off Rs 73,000 crore from company's market cap\",\"firms_mcap_valued_valued firms_10 valued\"],[\"RBI working on light weight, portable payment system for critical transactions during catastrophic events\",\"bank_rbi_loan_credit_banks\"],[\"RBI cancels licence of Mumbai-based 'The Kapol Co-operative Bank'\",\"bank_rbi_loan_credit_banks\"],[\"Deeper participation in global value chains to help India add $1.2 tn to foreign trade by 2030: GTRI repor\",\"trade_exports_uk_fta_india\"],[\"Delhi government places order for 2,026 e-buses\",\"sales_electric_ev_units_vehicles\"],[\"Sebi issues advertisement code for investment advisers, research analysts\",\"sebi_case_case sebi_entities_disclosure\"],[\"UBS completes takeover of Credit Suisse\",\"bank_rbi_loan_credit_banks\"],[\"Airbnb inks pact with tourism ministry to promote heritage stays, cultural tourism\",\"inflation_growth_rate_fed_fy24\"],[\"Asian Paint Share Price Live blog for 16 Oct 2023 | Mint\",\"oil_gas_ongc_energy_transition\"],[\"5Paisa Capital Share Price Live blog for 16 Oct 2023 | Mint\",\"oil_gas_ongc_energy_transition\"],[\"Bajaj Finserv Share Price Live blog for 16 Oct 2023 | Mint\",\"oil_gas_ongc_energy_transition\"],[\"Sbi Share Price Live blog for 16 Oct 2023 | Mint\",\"oil_gas_ongc_energy_transition\"],[\"NTPC, Oil India ink pact to explore collaborations in renewable energy, hydrogen space\",\"energy_mw_power_solar_project\"],[\"Rs 200 LPG price cut on oil companies, government unlikely to give subsidy\",\"oil_gas_ongc_energy_transition\"],[\"Centre for second PLI scheme for processing millet-based foods: Food Processing Secretary\",\"trade_exports_uk_fta_india\"],[\"Jaiprakash Associates defaults on Rs 3,961-crore loans on May 31\",\"bank_rbi_loan_credit_banks\"],[\"US welcomes India's move of reducing tariffs on agricultural products\",\"trade_exports_uk_fta_india\"],[\"Srinagar-bound SpiceJet flight returns to Delhi airport due to false warning in cockpit\",\"air_flight_airport_air india_india\"],[\"Sparsh Hospitals group opens three new specialities in Bengaluru\",\"inflation_growth_rate_fed_fy24\"],[\"India, US discuss ways to promote trade, investments\",\"trade_exports_uk_fta_india\"],[\"First Rupee trade shipment from Petrapole border to Bangladesh\",\"trade_exports_uk_fta_india\"],[\"L&T's construction arm bags multiple EPC orders in domestic market\",\"projects_cr_fpis_rs_equities\"],[\"Customs to introduce additional disclosures for export-import of medicinal products from July 1\",\"trade_exports_uk_fta_india\"],[\"DST report favours support to innovation even in case of failure\",\"gst_tax_pli_gst council_dpiit\"],[\"Air India puts together 'huge financing deal' for new fleet: CEO Campbell Wilson\",\"air_flight_airport_air india_india\"],[\"Yes Bank Share Price Live blog for 16 Oct 2023 | Mint\",\"crypto_target price_price rs_bitcoin_buy\"],[\"Erratic rainfall may lead to higher inflation in near term: BoB research\",\"inflation_growth_rate_fed_fy24\"],[\"Azad Engineering files Rs 740-cr IPO papers with Sebi\",\"ipo_adani_papers_papers sebi_power\"],[\"India's renewable energy ambitions could exceed 500 GW, says ISA DG Ajay Mathur\",\"energy_mw_power_solar_project\"],[\"MBBS seats in India increase 110 per cent since 2014, Centre tells Lok Sabha\",\"air_flight_airport_air india_india\"],[\"Rupee gains 3 paise to close at 82.09 against US dollar\",\"dollar_rupee_paise_dollar rupee_82\"],[\"Sai Silks mobilises Rs 360 cr from anchor investors ahead of IPO\",\"ipo_adani_papers_papers sebi_power\"],[\"NRRI submits proposals for identification of 10 new rice varieties\",\"trade_exports_uk_fta_india\"],[\"Reliance hires 2.6L people in FY2022-23 as growth picks up\",\"inflation_growth_rate_fed_fy24\"],[\"Gem, jewellery exports fall 10.7 pc to Rs 22,693.41 cr in May\",\"trade_exports_uk_fta_india\"],[\"Texmaco Rail & Engineering Share Price Live blog for 16 Oct 2023 | Mint\",\"oil_gas_ongc_energy_transition\"],[\"Mazagon Dock Shipbuilders Share Price Live blog for 16 Oct 2023 | Mint\",\"oil_gas_ongc_energy_transition\"],[\"Hdfc Life Share Price Live blog for 16 Oct 2023 | Mint\",\"oil_gas_ongc_energy_transition\"],[\"Concord Biotech Share Price Live blog for 16 Oct 2023 | Mint\",\"oil_gas_ongc_energy_transition\"],[\"Hindustan Unilever Share Price Live blog for 16 Oct 2023 | Mint\",\"oil_gas_ongc_energy_transition\"],[\"Coal India concludes wage revision pact with non-executive workers; agrees on 25% hike in allowances\",\"coal_steel_mt_coal india_tata steel\"],[\"IMC constituted to supervise NARCL resolution plan for Srei group firms\",\"air_flight_airport_air india_india\"],[\"Syngene International Share Price Live blog for 16 Oct 2023 | Mint\",\"oil_gas_ongc_energy_transition\"],[\"Brightcom Group Share Price Live blog for 16 Oct 2023 | Mint\",\"oil_gas_ongc_energy_transition\"],[\"Has your bank account gone dormant? Here are 4 ways to reactivate it | Mint\",\"crypto_target price_price rs_bitcoin_buy\"],[\"EFC India starts 65,000 sq ft co-working centre in Noida to expand biz\",\"projects_cr_fpis_rs_equities\"],[\"Itc Share Price Live blog for 16 Oct 2023 | Mint\",\"oil_gas_ongc_energy_transition\"],[\"TCS Share Price Live blog for 16 Oct 2023 | Mint\",\"oil_gas_ongc_energy_transition\"],[\"Trident Share Price Live blog for 16 Oct 2023 | Mint\",\"oil_gas_ongc_energy_transition\"],[\"Powergrid Share Price Live blog for 16 Oct 2023 | Mint\",\"oil_gas_ongc_energy_transition\"],[\"Over 4 lakh hectares brought under natural farming in 8 states: Govt\",\"trade_exports_uk_fta_india\"],[\"Bajaj Finance Share Price Live blog for 16 Oct 2023 | Mint\",\"oil_gas_ongc_energy_transition\"],[\"Hero Motor Co Share Price Live blog for 16 Oct 2023 | Mint\",\"oil_gas_ongc_energy_transition\"],[\"Railway employees union demands productivity-linked bonus on the basis of 7th pay commission\",\"gst_tax_pli_gst council_dpiit\"],[\"Tata Consumer Share Price Live blog for 16 Oct 2023 | Mint\",\"oil_gas_ongc_energy_transition\"],[\"Infosys Share Price Live blog for 16 Oct 2023 | Mint\",\"oil_gas_ongc_energy_transition\"],[\"Tata Motors to remain focused on profitability, growth and cash flows: Chairman Chandrasekaran\",\"sales_electric_ev_units_vehicles\"],[\"TCI Express Share Price Live blog for 16 Oct 2023 | Mint\",\"oil_gas_ongc_energy_transition\"],[\"UTI Asset Management Company Share Price Live blog for 16 Oct 2023 | Mint\",\"oil_gas_ongc_energy_transition\"],[\"India and Bangladesh trade settlement in rupee will boost bilateral commerce: Sanjay Budhia\",\"trade_exports_uk_fta_india\"],[\"India to remove retaliatory customs duties on eight US products\",\"trade_exports_uk_fta_india\"],[\"Bearish MACD Crossover: Potential Investment Warnings for 7 Prominent Companies\",\"stocks_52 week_52_week_nifty\"],[\"India Sotheby's International Realty bags mandate to sell Rs 800 cr worth ultra-luxury apartments in Mumba\",\"projects_cr_fpis_rs_equities\"],[\"Domestic manufacturing of premium lighting products may double in 3 yrs: Official\",\"inflation_growth_rate_fed_fy24\"],[\"M-cap of seven of top 10 firms declines Rs 62,279 crore; Reliance biggest laggard\",\"firms_mcap_valued_valued firms_10 valued\"],[\"DVR share swap to cost Rs 100 crore: Tata Motors\",\"sales_electric_ev_units_vehicles\"],[\"No relief in Rs 10 lakh tax fine for not disclosing foreign assets\",\"bank_rbi_loan_credit_banks\"],[\"Ksolves India Share Price Live blog for 16 Oct 2023 | Mint\",\"oil_gas_ongc_energy_transition\"],[\"If fantasy games are OK, why not online betting?\",\"air_flight_airport_air india_india\"],[\"Have commenced dispensing CNG and PNG connections to households: IndianOil\",\"oil_gas_ongc_energy_transition\"],[\"Credit card default rises to Rs 4,072 crore in FY23\",\"bank_rbi_loan_credit_banks\"],[\"Coal production increased in 'big way' during FY22-FY23; supply improved: Icra\",\"coal_steel_mt_coal india_tata steel\"],[\"NCRTC to build pedestrian bridge at Anand Vihar RAPIDX Station\",\"vande_vande bharat_train_railway_bharat\"],[\"Domestic electric two wheeler industry to keep growing at fast clip: TVS Motor\",\"sales_electric_ev_units_vehicles\"],[\"Jodhpur-based Vishnu Prakash R Punglia Ltd files IPO papers with Sebi\",\"ipo_adani_papers_papers sebi_power\"],[\"Govt sets criteria for allocation of power from central pool to states, UTs\",\"energy_mw_power_solar_project\"],[\"Peak power demand met touches all-time high of 223.23 GW on June 9\",\"ipo_adani_papers_papers sebi_power\"],[\"India is not 'extractive economy' and is not pursuing 'narrow economic activities' in Africa: Jaishankar\",\"trade_exports_uk_fta_india\"],[\"Inflation slowing down personal consumption, affecting pvt investment: RBI bulletin\",\"inflation_growth_rate_fed_fy24\"],[\"Exhicon Events Media Solutions listed on BSE SME platform\",\"bank_rbi_loan_credit_banks\"],[\"Direct flight services from Kerala to Vietnam launched from Cochin International airport\",\"air_flight_airport_air india_india\"],[\"Finance Minister Nirmala Sitharaman asks RRBs to remove duplication of PMJDY accounts\",\"bank_rbi_loan_credit_banks\"],[\"India's economic growth projected to decelerate to 6% in 2023 from 6.6% in 2022: UN\",\"inflation_growth_rate_fed_fy24\"],[\"As many as 388 infra projects show cost overruns of Rs 4.65 lakh crore in July: MoSPI\",\"projects_cr_fpis_rs_equities\"],[\"Tata Power Share Price Live blog for 16 Oct 2023 | Mint\",\"oil_gas_ongc_energy_transition\"],[\"Go Digit Life Insurance gets Irdai nod to carry life insurance business in India\",\"irdai_life_insurance_insurers_lic\"],[\"Sebi enhances accountability of mutual fund' Trustees\",\"sebi_case_case sebi_entities_disclosure\"],[\"Tata Technologies to hire 1,000 women engineers to promote gender diversity\",\"sales_electric_ev_units_vehicles\"],[\"Covid jab Covovax as heterologous booster to be available on CoWIN soon; to cost Rs 225 per dose\",\"drug_usfda_gets_pharma_gets usfda\"],[\"Counter to Rahul Gandhi's Rs 20,000 cr claim:  Rahul Gandhi' says USD 2.6 bn stake sale money came in grou\",\"ipo_adani_papers_papers sebi_power\"],[\"Sterlite Power acquires Beawar Transmission to develop power project in Rajasthan\",\"energy_mw_power_solar_project\"],[\"Mcap of three of top-10 most-valued firms erodes by Rs 82,082.91 cr; Reliance biggest laggard\",\"firms_mcap_valued_valued firms_10 valued\"],[\"Union Bank of India simplifies Form 15G & H submission\",\"bank_rbi_loan_credit_banks\"],[\"Ukraine to allow Indian medical Students for 'state qualification exam' from India\",\"drug_usfda_gets_pharma_gets usfda\"],[\"77% telco execs expect improvement in revenue, margin from network transformation: Accenture study\",\"air_flight_airport_air india_india\"],[\"Yes Bank-DHFL scam: Court says nation is victim, denies bail to Pune-based realtor\",\"bank_rbi_loan_credit_banks\"],[\"Aurobindo Pharma Q1 profit up 10 pc at Rs 571 cr\",\"gold_silver_rs_results_profit\"],[\"DU rejigs UG admission norms for ECA, sports supernumerary seats\",\"air_flight_airport_air india_india\"],[\"Sebi grants final approval for proposed change in control of HDFC AMC, says HDFC Bank\",\"bank_rbi_loan_credit_banks\"],[\"Ultra Cem Co Share Price Live blog for 16 Oct 2023 | Mint\",\"oil_gas_ongc_energy_transition\"],[\"ONDC provides huge growth opportunities for financial services, manufacturing, e-commerce, agri sectors: D\",\"gst_tax_pli_gst council_dpiit\"],[\"Auto component industry reports highest turnover in FY23; aims to log double-digit growth this fiscal\",\"sales_electric_ev_units_vehicles\"],[\"CBSE to start 'post-result annual psychological counselling' from May 13\",\"air_flight_airport_air india_india\"],[\"HBSE Class 10th Result 2023: Date, time and how to check your results\",\"air_flight_airport_air india_india\"]],\"hovertemplate\":\"x=%{x}\\u003cbr\\u003ey=%{y}\\u003cbr\\u003ez=%{z}\\u003cbr\\u003earticle_title=%{customdata[0]}\\u003cbr\\u003ecluster_name=%{customdata[1]}\\u003cbr\\u003ecluster_id=%{marker.color}\\u003cextra\\u003e\\u003c\\u002fextra\\u003e\",\"legendgroup\":\"\",\"marker\":{\"color\":[203.0,203.0,185.0,203.0,185.0,161.0,203.0,203.0,195.0,205.0,161.0,161.0,185.0,203.0,203.0,205.0,149.0,203.0,199.0,194.0,203.0,206.0,203.0,203.0,203.0,203.0,203.0,161.0,203.0,207.0,203.0,203.0,185.0,203.0,203.0,203.0,203.0,203.0,203.0,203.0,192.0,203.0,203.0,203.0,203.0,203.0,194.0,146.0,203.0,191.0,203.0,194.0,203.0,192.0,203.0,203.0,188.0,203.0,185.0,192.0,188.0,185.0,203.0,203.0,191.0,213.0,191.0,203.0,191.0,203.0,203.0,180.0,203.0,203.0,203.0,181.0,195.0,203.0,149.0,203.0,180.0,203.0,207.0,186.0,213.0,173.0,126.0,203.0,203.0,195.0,195.0,181.0,192.0,183.0,218.0,199.0,195.0,203.0,183.0,199.0,203.0,145.0,203.0,203.0,203.0,195.0,203.0,205.0,185.0,203.0,218.0,185.0,185.0,185.0,213.0,206.0,126.0,203.0,203.0,203.0,203.0,185.0,203.0,180.0,185.0,203.0,203.0,180.0,176.0,192.0,185.0,176.0,218.0,185.0,188.0,188.0,130.0,181.0,218.0,203.0,195.0,201.0,195.0,203.0,191.0,185.0,203.0,203.0,203.0,218.0,203.0,185.0,195.0,191.0,203.0,191.0,194.0,194.0,194.0,206.0,194.0,191.0,194.0,176.0,112.0,194.0,218.0,194.0,203.0,194.0,194.0,194.0,218.0,194.0,194.0,203.0,194.0,149.0,195.0,194.0,206.0,192.0,195.0,203.0,203.0,183.0,182.0,194.0,194.0,194.0,194.0,194.0,194.0,207.0,194.0,207.0,121.0,203.0,203.0,199.0,207.0,149.0,203.0,206.0,194.0,194.0,194.0,194.0,130.0,194.0,199.0,203.0,199.0,195.0,206.0,199.0,199.0,183.0,199.0,181.0,195.0,191.0,206.0,192.0,130.0,195.0,112.0,192.0,199.0,206.0,199.0,194.0,194.0,194.0,194.0,194.0,213.0,195.0,194.0,194.0,191.0,183.0,194.0,194.0,194.0,194.0,199.0,194.0,194.0,181.0,194.0,194.0,207.0,194.0,194.0,199.0,199.0,173.0,183.0,206.0,121.0,207.0,203.0,194.0,195.0,194.0,203.0,213.0,186.0,207.0,192.0,130.0,192.0,199.0,206.0,203.0,195.0,203.0,206.0,183.0,194.0,126.0,149.0,207.0,182.0,192.0,130.0,121.0,203.0,182.0,195.0,203.0,218.0,195.0,203.0,194.0,181.0,207.0,195.0,195.0],\"coloraxis\":\"coloraxis\",\"symbol\":\"circle\",\"line\":{\"color\":\"DarkSlateGrey\",\"width\":0.5},\"opacity\":0.8,\"size\":5},\"mode\":\"markers\",\"name\":\"\",\"scene\":\"scene\",\"showlegend\":false,\"x\":[1.1749403476715088,8.580999374389648,3.1773195266723633,0.28687071800231934,3.3023595809936523,8.251701354980469,0.25655055046081543,0.38413891196250916,9.259611129760742,3.635810613632202,8.192227363586426,8.233122825622559,3.21903395652771,0.5686504244804382,2.8539490699768066,3.7094273567199707,8.431900978088379,2.8238651752471924,10.19340705871582,1.041269063949585,8.400615692138672,10.193705558776855,1.1517698764801025,0.10708052664995193,0.8649489283561707,9.620146751403809,0.8596525192260742,8.366660118103027,2.829554319381714,10.38422966003418,0.4226067364215851,0.2984813153743744,3.280513286590576,2.8185815811157227,0.1601245254278183,0.22761383652687073,0.3476039171218872,0.3332543969154358,0.32964131236076355,0.36657023429870605,9.73763656616211,8.428268432617188,0.07844401895999908,0.5662991404533386,9.61349868774414,0.0225664172321558,1.062099814414978,9.920087814331055,0.44064265489578247,7.968473434448242,0.6202371120452881,8.34978199005127,1.2025175094604492,8.775142669677734,1.1351168155670166,0.4225175976753235,8.432958602905273,0.4761976897716522,3.4014148712158203,9.625914573669434,8.403898239135742,3.395439624786377,0.49755826592445374,0.3948100507259369,10.178729057312012,10.61266803741455,9.484972953796387,0.007971670478582382,9.429041862487793,8.458858489990234,0.3367995619773865,0.9983767867088318,0.05942616984248161,0.21841533482074738,0.002407269086688757,9.309200286865234,8.865812301635742,0.4173331558704376,8.788684844970703,0.19385363161563873,0.9854434728622437,1.1413692235946655,9.838591575622559,9.1234130859375,10.584403038024902,9.053645133972168,8.310721397399902,-0.06038980185985565,1.1253056526184082,9.301061630249023,8.303058624267578,9.452301979064941,9.007014274597168,9.918590545654297,9.686556816101074,10.469304084777832,8.675251960754395,9.392965316772461,9.62868881225586,10.418452262878418,9.586870193481445,9.906542778015137,9.564701080322266,9.812969207763672,9.744271278381348,9.070781707763672,9.735075950622559,8.246230125427246,3.076012372970581,0.7900999784469604,8.232378005981445,3.212808609008789,3.181302309036255,3.0437519550323486,10.633007049560547,10.205789566040039,8.288086891174316,9.744044303894043,0.43454134464263916,2.3218042850494385,8.737171173095703,2.3902058601379395,0.5079351663589478,10.214127540588379,2.4221158027648926,0.9476225972175598,0.891446053981781,10.27439022064209,9.520339012145996,10.180744171142578,3.231860399246216,9.503252029418945,9.586263656616211,3.2241294384002686,8.304732322692871,8.355864524841309,10.088513374328613,9.588616371154785,8.193446159362793,8.896212577819824,8.496392250061035,9.580281257629395,8.429688453674316,0.9962610006332397,10.416994094848633,3.2924163341522217,10.248459815979004,0.9722957015037537,0.9801943898200989,9.664663314819336,1.0576550960540771,3.494302988052368,8.867533683776855,10.37093448638916,10.25228500366211,8.295088768005371,8.470418930053711,7.477759838104248,7.963909149169922,10.368051528930664,7.501186847686768,8.608059883117676,7.70781135559082,8.662846565246582,7.982187747955322,7.557614803314209,9.470525741577148,7.786465167999268,8.319101333618164,7.544979572296143,7.701265811920166,8.52500057220459,8.198838233947754,7.852545738220215,7.504272937774658,9.689360618591309,7.746230125427246,8.658926010131836,9.202255249023438,7.697753429412842,10.333388328552246,9.399182319641113,8.529487609863281,9.446821212768555,8.637319564819336,9.6657133102417,9.086694717407227,7.7838029861450195,7.994157791137695,8.05805492401123,7.996450901031494,7.571788311004639,7.741675853729248,10.051783561706543,8.80750560760498,10.121827125549316,8.536348342895508,9.020029067993164,8.756757736206055,10.048505783081055,9.87304401397705,8.378559112548828,8.053693771362305,9.669309616088867,7.889665126800537,7.607245922088623,7.800534725189209,7.672101020812988,10.197264671325684,10.112323760986328,10.017406463623047,9.528536796569824,10.168953895568848,8.34719181060791,9.275518417358398,10.16093635559082,10.251133918762207,9.892894744873047,10.040103912353516,9.276551246643066,8.456012725830078,7.511974334716797,10.320878028869629,9.259021759033203,10.452923774719238,9.053629875183105,7.87716817855835,8.982514381408691,10.038811683654785,10.233376502990723,8.386502265930176,7.967081069946289,7.682802200317383,7.571667194366455,7.947890758514404,7.48576021194458,9.883478164672852,9.259239196777344,7.841799736022949,8.139433860778809,8.80556869506836,9.534632682800293,7.7615437507629395,7.973979949951172,7.6517181396484375,8.333069801330566,9.963525772094727,7.563069820404053,7.525440692901611,9.837309837341309,8.238903999328613,7.95258903503418,10.233023643493652,7.8638787269592285,7.545618057250977,10.14778995513916,10.243659019470215,8.58774185180664,9.83059310913086,9.894380569458008,8.452608108520508,10.220094680786133,9.171384811401367,7.825363636016846,8.361259460449219,9.890758514404297,9.064419746398926,10.621707916259766,9.546167373657227,10.169256210327148,9.65017032623291,9.06437873840332,10.530618667602539,10.087080001831055,10.288962364196777,8.365889549255371,8.50858211517334,9.22014045715332,10.450321197509766,10.02478313446045,8.322225570678711,8.282607078552246,8.453617095947266,9.407414436340332,8.62195110321045,9.173504829406738,10.212282180786133,8.529912948608398,8.933770179748535,8.172901153564453,8.818071365356445,8.834827423095703,9.53801441192627,8.832280158996582,8.23178482055664,7.6044602394104,9.025381088256836,10.457809448242188,7.959131717681885,7.858014106750488],\"y\":[6.507482528686523,6.270076751708984,6.966808319091797,6.5275444984436035,7.244740962982178,6.832672595977783,6.718201160430908,6.451186656951904,6.310937404632568,7.118625164031982,6.794802188873291,6.831536293029785,7.013760089874268,6.47067928314209,6.694019317626953,7.0691819190979,6.505054473876953,6.73949670791626,6.478883266448975,5.9879021644592285,6.996054172515869,7.953810691833496,6.520655155181885,6.739555835723877,6.47287654876709,6.7481913566589355,6.4440155029296875,6.950398921966553,6.669581890106201,7.6277594566345215,6.587100982666016,6.259002685546875,7.173877716064453,6.65939474105835,6.682881832122803,6.735569000244141,6.341890811920166,6.497281074523926,6.525970935821533,6.516379356384277,7.157869338989258,6.962579727172852,6.751339435577393,6.440258979797363,6.743823051452637,6.810149669647217,5.96497917175293,7.200921058654785,6.60741662979126,7.882784843444824,6.627110004425049,6.966602802276611,6.606277942657471,6.93113899230957,6.120669364929199,6.6899094581604,6.970541000366211,6.56447172164917,7.079807758331299,6.4529595375061035,6.9492034912109375,7.081105709075928,6.515666961669922,6.601815223693848,7.8987226486206055,7.177149772644043,8.336198806762695,6.810810565948486,8.349601745605469,6.517292499542236,6.39905309677124,6.483920097351074,6.822299480438232,6.522882461547852,6.83154821395874,6.117349624633789,7.21683406829834,6.3294172286987305,6.463032245635986,6.514669418334961,6.441899299621582,6.534760475158691,7.711629390716553,7.252473831176758,6.913638114929199,7.214625835418701,6.248239994049072,6.8662590980529785,6.49269962310791,6.352806568145752,6.899660110473633,6.08155632019043,7.129566669464111,6.6038923263549805,8.260273933410645,6.761925220489502,6.882205486297607,5.949689865112305,7.137814044952393,7.144710540771484,6.746853351593018,6.085717678070068,6.793308734893799,6.463616371154785,6.358118534088135,6.740396022796631,6.621119499206543,6.888233184814453,6.729404449462891,6.4992594718933105,8.804593086242676,6.7479400634765625,6.761836051940918,6.806764125823975,7.3683271408081055,6.170939922332764,6.226984024047852,6.614785671234131,6.2670111656188965,6.971135139465332,6.403044700622559,7.027126789093018,6.248033046722412,6.544955253601074,7.039336681365967,6.450809478759766,6.45975399017334,6.481725692749023,6.870431423187256,6.747249603271484,7.147170066833496,6.89035701751709,8.406481742858887,7.166537761688232,6.860565185546875,6.909903526306152,6.65877103805542,6.4947967529296875,8.768782615661621,6.068899631500244,6.709858417510986,6.6605544090271,7.0855302810668945,6.068557262420654,7.573958396911621,7.060760974884033,6.511483192443848,6.437950134277344,6.324307918548584,8.359498023986816,5.984699726104736,7.157294273376465,7.301864147186279,7.62758731842041,6.507500648498535,7.606393814086914,8.118151664733887,8.399725914001465,8.640359878540039,6.098875999450684,8.077032089233398,6.159793853759766,8.000191688537598,7.171133995056152,8.67032527923584,8.30711555480957,8.439765930175781,8.251747131347656,6.538609027862549,8.09952449798584,8.39334487915039,8.017005920410156,8.750563621520996,8.047197341918945,8.16364574432373,6.615829944610596,8.76812744140625,6.325810432434082,6.192046165466309,8.330011367797852,6.213384628295898,7.085124969482422,6.721573352813721,5.932135581970215,6.432886600494385,8.156096458435059,7.204246520996094,8.799590110778809,7.93992805480957,8.339393615722656,8.539827346801758,8.871378898620605,8.40885066986084,7.925605773925781,7.343171119689941,7.9551286697387695,8.008442878723145,6.0498762130737305,6.28611946105957,7.131908416748047,7.654585838317871,6.501696586608887,7.068946361541748,7.236886024475098,8.533555030822754,8.342446327209473,8.465167045593262,8.105050086975098,6.77039098739624,6.552781105041504,6.3434977531433105,6.581982612609863,6.63773250579834,6.830953121185303,7.1041131019592285,6.912937641143799,7.056044101715088,6.973562240600586,6.78045129776001,6.980380058288574,6.951383113861084,8.161612510681152,6.012298107147217,6.981801986694336,6.737308025360107,6.35921573638916,8.574806213378906,7.261088848114014,6.326254844665527,7.244624137878418,8.80606460571289,8.716691017150879,8.466148376464844,7.94271183013916,7.992835521697998,8.251280784606934,6.379042625427246,6.1901373863220215,8.135684967041016,8.102761268615723,5.883317947387695,7.119442462921143,7.905245780944824,8.299226760864258,8.471105575561523,8.216633796691895,6.221518039703369,8.328229904174805,8.979045867919922,6.225954055786133,8.115580558776855,8.14016342163086,8.046791076660156,8.331789016723633,8.759069442749023,7.136612415313721,6.755697250366211,7.67689323425293,7.260617256164551,7.360818386077881,7.849429130554199,7.744414806365967,6.185542583465576,8.357670783996582,6.270545959472656,6.6242499351501465,5.808979034423828,7.116959095001221,7.281242370605469,7.865005970001221,6.893176078796387,6.212179183959961,6.584883689880371,7.2764434814453125,6.150857925415039,6.890647888183594,7.009106636047363,6.139118194580078,6.719228267669678,6.4598307609558105,8.289259910583496,6.155019283294678,6.549314498901367,7.370328426361084,6.872091293334961,7.104178428649902,6.742079734802246,7.751233100891113,5.964773654937744,6.555297374725342,7.448908805847168,6.528626918792725,8.321464538574219,6.387511253356934,6.753603458404541,8.875091552734375,7.085461139678955,7.660834312438965,7.6142802238464355,7.718892574310303],\"z\":[-1.6933250427246094,5.283306121826172,0.03616467863321304,0.5048525929450989,-0.16192351281642914,2.82261061668396,-0.5413110256195068,-0.4814814627170563,5.988497257232666,-0.1888977438211441,2.7648088932037354,2.7273435592651367,-0.027175173163414,0.583885133266449,0.4513745605945587,-0.142835795879364,6.154945373535156,0.3992599844932556,3.2768263816833496,-0.8983973264694214,5.110092639923096,5.200664043426514,-1.6645618677139282,-1.4686658382415771,-0.8708563446998596,2.1442763805389404,-0.7909358143806458,2.721212148666382,0.48623591661453247,4.943796634674072,-0.41216710209846497,-0.7461879253387451,-0.15708646178245544,0.4980866014957428,-1.4140232801437378,-0.48863598704338074,-0.795716404914856,-0.3900223672389984,-0.3803107738494873,0.44873982667922974,4.223893642425537,5.082896709442139,-1.3567399978637695,0.5302231311798096,2.134450674057007,-1.3889236450195312,-0.9077461957931519,3.94812273979187,0.5353308916091919,7.5626702308654785,-1.278159260749817,2.654710531234741,-1.6624754667282104,6.530719757080078,-0.7641916275024414,0.5751074552536011,3.3160247802734375,0.5020209550857544,-0.3385791480541229,6.034987449645996,3.2849953174591064,-0.31811559200286865,0.5556745529174805,0.48104602098464966,4.943966388702393,4.882697105407715,5.807509422302246,-1.3385015726089478,5.830617904663086,5.719149112701416,-0.7789303660392761,-0.7302963733673096,-1.4045699834823608,-1.1980764865875244,-1.4209264516830444,5.698795795440674,5.032700061798096,-0.8725798726081848,6.242520332336426,-1.2461179494857788,-0.7112123370170593,-1.6467984914779663,4.939084053039551,4.128965377807617,4.898058891296387,6.613908290863037,5.448055267333984,-1.2930467128753662,-1.673148274421692,6.123937606811523,3.547508955001831,4.993991374969482,6.191064834594727,5.74699592590332,5.816803932189941,4.518996238708496,5.771658897399902,5.185445308685303,5.854088306427002,4.36560583114624,2.1454129219055176,4.935580253601074,2.1903343200683594,3.7072131633758545,3.849876880645752,5.255908966064453,2.0222649574279785,2.6800622940063477,0.3381803333759308,-1.206540584564209,6.8183674812316895,0.3554825782775879,0.3571058213710785,0.2841735780239105,5.04956579208374,4.411111831665039,5.6737165451049805,6.208385944366455,-0.8154177665710449,0.5476087927818298,5.395648002624512,0.5998789668083191,-0.8351902365684509,2.9451253414154053,0.6152530908584595,-1.416260838508606,-1.3538062572479248,2.9959700107574463,2.3610095977783203,5.728360176086426,-0.11652406305074692,2.3984012603759766,5.964917182922363,-0.12723876535892487,3.324152946472168,3.31294846534729,5.952500820159912,4.7867279052734375,6.915216445922852,5.5810651779174805,3.884244918823242,4.317501068115234,5.13612699508667,-0.9103242754936218,5.4208149909973145,-0.1617530882358551,2.9920318126678467,-1.4546338319778442,-1.3525274991989136,5.909303665161133,-0.8533081412315369,-0.2600612938404083,5.020978927612305,5.459504127502441,2.994645118713379,6.4848504066467285,7.963320732116699,8.34359359741211,8.151259422302246,4.374370098114014,7.912650108337402,5.24515438079834,7.723935604095459,3.667816638946533,7.022702693939209,7.96332311630249,6.10374116897583,8.317394256591797,4.122988224029541,7.882833003997803,8.30777359008789,7.7740020751953125,6.85207462310791,8.218932151794434,7.829641819000244,5.463141441345215,8.103202819824219,6.015405654907227,6.163369178771973,7.6075263023376465,4.435537338256836,6.371970176696777,5.543544769287109,4.981120586395264,5.69584846496582,5.9103312492370605,5.432837963104248,7.8844218254089355,8.298389434814453,8.107804298400879,7.967951774597168,7.982498645782471,8.336352348327637,5.100972652435303,6.355630397796631,5.056457042694092,7.087408065795898,5.169693946838379,5.620593070983887,4.323742389678955,4.861148834228516,6.198977947235107,5.920928001403809,4.360392093658447,8.049445152282715,7.674740314483643,8.017648696899414,8.03948974609375,5.072178840637207,4.808871746063232,4.434449672698975,6.213399887084961,4.058109760284424,3.525392770767212,5.5838541984558105,3.9342806339263916,4.0536208152771,5.59166145324707,4.084301471710205,5.0791778564453125,3.6218624114990234,7.656440258026123,4.460742473602295,6.487081050872803,4.89995813369751,4.331352710723877,7.1181206703186035,6.366885662078857,4.343746662139893,5.035301685333252,6.639123916625977,8.238241195678711,8.420696258544922,7.887967586517334,8.219914436340332,7.9706830978393555,4.962241172790527,6.105881214141846,7.977757930755615,7.625198841094971,5.378281116485596,5.746707916259766,8.098921775817871,8.199110984802246,8.287224769592285,8.214876174926758,4.312326431274414,7.7689008712768555,7.962386608123779,4.8297858238220215,7.864077568054199,7.752372741699219,5.190844535827637,8.304978370666504,7.816727161407471,4.14538049697876,4.0317606925964355,6.8750762939453125,5.913074493408203,4.72902774810791,7.098012447357178,5.662896156311035,5.943989276885986,7.773479461669922,5.637580394744873,4.70841121673584,5.622162818908691,4.964595794677734,5.002400875091553,4.905551433563232,6.241476535797119,4.9874348640441895,5.033074855804443,3.9377825260162354,4.789040565490723,6.434444427490234,3.5322699546813965,5.444149494171143,4.654209613800049,5.524775981903076,8.157710075378418,5.556159496307373,6.097783088684082,5.223541736602783,4.1088128089904785,6.258700847625732,5.853981971740723,6.999740123748779,5.39484167098999,3.3721764087677,5.109865188598633,6.106257438659668,6.017155170440674,4.721499919891357,6.225343704223633,7.83979606628418,5.298202991485596,5.003417491912842,6.368364334106445,6.532610893249512],\"type\":\"scatter3d\"}],                        {\"template\":{\"data\":{\"histogram2dcontour\":[{\"type\":\"histogram2dcontour\",\"colorbar\":{\"outlinewidth\":0,\"ticks\":\"\"},\"colorscale\":[[0.0,\"#0d0887\"],[0.1111111111111111,\"#46039f\"],[0.2222222222222222,\"#7201a8\"],[0.3333333333333333,\"#9c179e\"],[0.4444444444444444,\"#bd3786\"],[0.5555555555555556,\"#d8576b\"],[0.6666666666666666,\"#ed7953\"],[0.7777777777777778,\"#fb9f3a\"],[0.8888888888888888,\"#fdca26\"],[1.0,\"#f0f921\"]]}],\"choropleth\":[{\"type\":\"choropleth\",\"colorbar\":{\"outlinewidth\":0,\"ticks\":\"\"}}],\"histogram2d\":[{\"type\":\"histogram2d\",\"colorbar\":{\"outlinewidth\":0,\"ticks\":\"\"},\"colorscale\":[[0.0,\"#0d0887\"],[0.1111111111111111,\"#46039f\"],[0.2222222222222222,\"#7201a8\"],[0.3333333333333333,\"#9c179e\"],[0.4444444444444444,\"#bd3786\"],[0.5555555555555556,\"#d8576b\"],[0.6666666666666666,\"#ed7953\"],[0.7777777777777778,\"#fb9f3a\"],[0.8888888888888888,\"#fdca26\"],[1.0,\"#f0f921\"]]}],\"heatmap\":[{\"type\":\"heatmap\",\"colorbar\":{\"outlinewidth\":0,\"ticks\":\"\"},\"colorscale\":[[0.0,\"#0d0887\"],[0.1111111111111111,\"#46039f\"],[0.2222222222222222,\"#7201a8\"],[0.3333333333333333,\"#9c179e\"],[0.4444444444444444,\"#bd3786\"],[0.5555555555555556,\"#d8576b\"],[0.6666666666666666,\"#ed7953\"],[0.7777777777777778,\"#fb9f3a\"],[0.8888888888888888,\"#fdca26\"],[1.0,\"#f0f921\"]]}],\"heatmapgl\":[{\"type\":\"heatmapgl\",\"colorbar\":{\"outlinewidth\":0,\"ticks\":\"\"},\"colorscale\":[[0.0,\"#0d0887\"],[0.1111111111111111,\"#46039f\"],[0.2222222222222222,\"#7201a8\"],[0.3333333333333333,\"#9c179e\"],[0.4444444444444444,\"#bd3786\"],[0.5555555555555556,\"#d8576b\"],[0.6666666666666666,\"#ed7953\"],[0.7777777777777778,\"#fb9f3a\"],[0.8888888888888888,\"#fdca26\"],[1.0,\"#f0f921\"]]}],\"contourcarpet\":[{\"type\":\"contourcarpet\",\"colorbar\":{\"outlinewidth\":0,\"ticks\":\"\"}}],\"contour\":[{\"type\":\"contour\",\"colorbar\":{\"outlinewidth\":0,\"ticks\":\"\"},\"colorscale\":[[0.0,\"#0d0887\"],[0.1111111111111111,\"#46039f\"],[0.2222222222222222,\"#7201a8\"],[0.3333333333333333,\"#9c179e\"],[0.4444444444444444,\"#bd3786\"],[0.5555555555555556,\"#d8576b\"],[0.6666666666666666,\"#ed7953\"],[0.7777777777777778,\"#fb9f3a\"],[0.8888888888888888,\"#fdca26\"],[1.0,\"#f0f921\"]]}],\"surface\":[{\"type\":\"surface\",\"colorbar\":{\"outlinewidth\":0,\"ticks\":\"\"},\"colorscale\":[[0.0,\"#0d0887\"],[0.1111111111111111,\"#46039f\"],[0.2222222222222222,\"#7201a8\"],[0.3333333333333333,\"#9c179e\"],[0.4444444444444444,\"#bd3786\"],[0.5555555555555556,\"#d8576b\"],[0.6666666666666666,\"#ed7953\"],[0.7777777777777778,\"#fb9f3a\"],[0.8888888888888888,\"#fdca26\"],[1.0,\"#f0f921\"]]}],\"mesh3d\":[{\"type\":\"mesh3d\",\"colorbar\":{\"outlinewidth\":0,\"ticks\":\"\"}}],\"scatter\":[{\"fillpattern\":{\"fillmode\":\"overlay\",\"size\":10,\"solidity\":0.2},\"type\":\"scatter\"}],\"parcoords\":[{\"type\":\"parcoords\",\"line\":{\"colorbar\":{\"outlinewidth\":0,\"ticks\":\"\"}}}],\"scatterpolargl\":[{\"type\":\"scatterpolargl\",\"marker\":{\"colorbar\":{\"outlinewidth\":0,\"ticks\":\"\"}}}],\"bar\":[{\"error_x\":{\"color\":\"#2a3f5f\"},\"error_y\":{\"color\":\"#2a3f5f\"},\"marker\":{\"line\":{\"color\":\"#E5ECF6\",\"width\":0.5},\"pattern\":{\"fillmode\":\"overlay\",\"size\":10,\"solidity\":0.2}},\"type\":\"bar\"}],\"scattergeo\":[{\"type\":\"scattergeo\",\"marker\":{\"colorbar\":{\"outlinewidth\":0,\"ticks\":\"\"}}}],\"scatterpolar\":[{\"type\":\"scatterpolar\",\"marker\":{\"colorbar\":{\"outlinewidth\":0,\"ticks\":\"\"}}}],\"histogram\":[{\"marker\":{\"pattern\":{\"fillmode\":\"overlay\",\"size\":10,\"solidity\":0.2}},\"type\":\"histogram\"}],\"scattergl\":[{\"type\":\"scattergl\",\"marker\":{\"colorbar\":{\"outlinewidth\":0,\"ticks\":\"\"}}}],\"scatter3d\":[{\"type\":\"scatter3d\",\"line\":{\"colorbar\":{\"outlinewidth\":0,\"ticks\":\"\"}},\"marker\":{\"colorbar\":{\"outlinewidth\":0,\"ticks\":\"\"}}}],\"scattermapbox\":[{\"type\":\"scattermapbox\",\"marker\":{\"colorbar\":{\"outlinewidth\":0,\"ticks\":\"\"}}}],\"scatterternary\":[{\"type\":\"scatterternary\",\"marker\":{\"colorbar\":{\"outlinewidth\":0,\"ticks\":\"\"}}}],\"scattercarpet\":[{\"type\":\"scattercarpet\",\"marker\":{\"colorbar\":{\"outlinewidth\":0,\"ticks\":\"\"}}}],\"carpet\":[{\"aaxis\":{\"endlinecolor\":\"#2a3f5f\",\"gridcolor\":\"white\",\"linecolor\":\"white\",\"minorgridcolor\":\"white\",\"startlinecolor\":\"#2a3f5f\"},\"baxis\":{\"endlinecolor\":\"#2a3f5f\",\"gridcolor\":\"white\",\"linecolor\":\"white\",\"minorgridcolor\":\"white\",\"startlinecolor\":\"#2a3f5f\"},\"type\":\"carpet\"}],\"table\":[{\"cells\":{\"fill\":{\"color\":\"#EBF0F8\"},\"line\":{\"color\":\"white\"}},\"header\":{\"fill\":{\"color\":\"#C8D4E3\"},\"line\":{\"color\":\"white\"}},\"type\":\"table\"}],\"barpolar\":[{\"marker\":{\"line\":{\"color\":\"#E5ECF6\",\"width\":0.5},\"pattern\":{\"fillmode\":\"overlay\",\"size\":10,\"solidity\":0.2}},\"type\":\"barpolar\"}],\"pie\":[{\"automargin\":true,\"type\":\"pie\"}]},\"layout\":{\"autotypenumbers\":\"strict\",\"colorway\":[\"#636efa\",\"#EF553B\",\"#00cc96\",\"#ab63fa\",\"#FFA15A\",\"#19d3f3\",\"#FF6692\",\"#B6E880\",\"#FF97FF\",\"#FECB52\"],\"font\":{\"color\":\"#2a3f5f\"},\"hovermode\":\"closest\",\"hoverlabel\":{\"align\":\"left\"},\"paper_bgcolor\":\"white\",\"plot_bgcolor\":\"#E5ECF6\",\"polar\":{\"bgcolor\":\"#E5ECF6\",\"angularaxis\":{\"gridcolor\":\"white\",\"linecolor\":\"white\",\"ticks\":\"\"},\"radialaxis\":{\"gridcolor\":\"white\",\"linecolor\":\"white\",\"ticks\":\"\"}},\"ternary\":{\"bgcolor\":\"#E5ECF6\",\"aaxis\":{\"gridcolor\":\"white\",\"linecolor\":\"white\",\"ticks\":\"\"},\"baxis\":{\"gridcolor\":\"white\",\"linecolor\":\"white\",\"ticks\":\"\"},\"caxis\":{\"gridcolor\":\"white\",\"linecolor\":\"white\",\"ticks\":\"\"}},\"coloraxis\":{\"colorbar\":{\"outlinewidth\":0,\"ticks\":\"\"}},\"colorscale\":{\"sequential\":[[0.0,\"#0d0887\"],[0.1111111111111111,\"#46039f\"],[0.2222222222222222,\"#7201a8\"],[0.3333333333333333,\"#9c179e\"],[0.4444444444444444,\"#bd3786\"],[0.5555555555555556,\"#d8576b\"],[0.6666666666666666,\"#ed7953\"],[0.7777777777777778,\"#fb9f3a\"],[0.8888888888888888,\"#fdca26\"],[1.0,\"#f0f921\"]],\"sequentialminus\":[[0.0,\"#0d0887\"],[0.1111111111111111,\"#46039f\"],[0.2222222222222222,\"#7201a8\"],[0.3333333333333333,\"#9c179e\"],[0.4444444444444444,\"#bd3786\"],[0.5555555555555556,\"#d8576b\"],[0.6666666666666666,\"#ed7953\"],[0.7777777777777778,\"#fb9f3a\"],[0.8888888888888888,\"#fdca26\"],[1.0,\"#f0f921\"]],\"diverging\":[[0,\"#8e0152\"],[0.1,\"#c51b7d\"],[0.2,\"#de77ae\"],[0.3,\"#f1b6da\"],[0.4,\"#fde0ef\"],[0.5,\"#f7f7f7\"],[0.6,\"#e6f5d0\"],[0.7,\"#b8e186\"],[0.8,\"#7fbc41\"],[0.9,\"#4d9221\"],[1,\"#276419\"]]},\"xaxis\":{\"gridcolor\":\"white\",\"linecolor\":\"white\",\"ticks\":\"\",\"title\":{\"standoff\":15},\"zerolinecolor\":\"white\",\"automargin\":true,\"zerolinewidth\":2},\"yaxis\":{\"gridcolor\":\"white\",\"linecolor\":\"white\",\"ticks\":\"\",\"title\":{\"standoff\":15},\"zerolinecolor\":\"white\",\"automargin\":true,\"zerolinewidth\":2},\"scene\":{\"xaxis\":{\"backgroundcolor\":\"#E5ECF6\",\"gridcolor\":\"white\",\"linecolor\":\"white\",\"showbackground\":true,\"ticks\":\"\",\"zerolinecolor\":\"white\",\"gridwidth\":2},\"yaxis\":{\"backgroundcolor\":\"#E5ECF6\",\"gridcolor\":\"white\",\"linecolor\":\"white\",\"showbackground\":true,\"ticks\":\"\",\"zerolinecolor\":\"white\",\"gridwidth\":2},\"zaxis\":{\"backgroundcolor\":\"#E5ECF6\",\"gridcolor\":\"white\",\"linecolor\":\"white\",\"showbackground\":true,\"ticks\":\"\",\"zerolinecolor\":\"white\",\"gridwidth\":2}},\"shapedefaults\":{\"line\":{\"color\":\"#2a3f5f\"}},\"annotationdefaults\":{\"arrowcolor\":\"#2a3f5f\",\"arrowhead\":0,\"arrowwidth\":1},\"geo\":{\"bgcolor\":\"white\",\"landcolor\":\"#E5ECF6\",\"subunitcolor\":\"white\",\"showland\":true,\"showlakes\":true,\"lakecolor\":\"white\"},\"title\":{\"x\":0.05},\"mapbox\":{\"style\":\"light\"}}},\"scene\":{\"domain\":{\"x\":[0.0,1.0],\"y\":[0.0,1.0]},\"xaxis\":{\"title\":{\"text\":\"x\"}},\"yaxis\":{\"title\":{\"text\":\"y\"}},\"zaxis\":{\"title\":{\"text\":\"z\"}}},\"coloraxis\":{\"colorbar\":{\"title\":{\"text\":\"cluster_id\"}},\"colorscale\":[[0.0,\"rgb(102,194,165)\"],[0.14285714285714285,\"rgb(252,141,98)\"],[0.2857142857142857,\"rgb(141,160,203)\"],[0.42857142857142855,\"rgb(231,138,195)\"],[0.5714285714285714,\"rgb(166,216,84)\"],[0.7142857142857143,\"rgb(255,217,47)\"],[0.8571428571428571,\"rgb(229,196,148)\"],[1.0,\"rgb(179,179,179)\"]]},\"legend\":{\"tracegroupgap\":0},\"title\":{\"text\":\"UMAP Projection of Article Embeddings\"}},                        {\"responsive\": true}                    ).then(function(){\n",
       "                            \n",
       "var gd = document.getElementById('13b6dec6-f401-4ea1-b6bd-a0d0c8ba314a');\n",
       "var x = new MutationObserver(function (mutations, observer) {{\n",
       "        var display = window.getComputedStyle(gd).display;\n",
       "        if (!display || display === 'none') {{\n",
       "            console.log([gd, 'removed!']);\n",
       "            Plotly.purge(gd);\n",
       "            observer.disconnect();\n",
       "        }}\n",
       "}});\n",
       "\n",
       "// Listen for the removal of the full notebook cells\n",
       "var notebookContainer = gd.closest('#notebook-container');\n",
       "if (notebookContainer) {{\n",
       "    x.observe(notebookContainer, {childList: true});\n",
       "}}\n",
       "\n",
       "// Listen for the clearing of the current output cell\n",
       "var outputEl = gd.closest('.output');\n",
       "if (outputEl) {{\n",
       "    x.observe(outputEl, {childList: true});\n",
       "}}\n",
       "\n",
       "                        })                };                });            </script>        </div>"
      ]
     },
     "metadata": {},
     "output_type": "display_data"
    }
   ],
   "source": [
    "import umap\n",
    "import pandas as pd\n",
    "import plotly.express as px\n",
    "\n",
    "# Assuming you have a DataFrame 'df' with columns 'article_id', 'article_title', 'embedding', 'cluster_id', 'cluster_name'\n",
    "\n",
    "# Extract embeddings; they need to be in the correct shape (list of lists or NumPy array)\n",
    "# If 'embedding' is a column of lists or arrays, you can convert it directly, otherwise, you need to adjust this step.\n",
    "embeddings = pd.DataFrame(combined_df['embedding'].tolist())\n",
    "\n",
    "# Step 1: UMAP reduction\n",
    "reducer = umap.UMAP(n_components=3)\n",
    "embedding_2d = reducer.fit_transform(embeddings)  # This now contains the 2D coordinates of your data\n",
    "\n",
    "# Step 2: Prepare data for plotting\n",
    "plot_df = pd.DataFrame(embedding_2d, columns=['x', 'y', 'z'])\n",
    "plot_df['article_title'] = df['article_title']\n",
    "plot_df['cluster_name'] = df['cluster_name']\n",
    "plot_df['cluster_id'] = df['cluster_id']  # If you want to use this for color differentiation"
   ]
  },
  {
   "cell_type": "code",
   "execution_count": 46,
   "id": "3f3c115d-f93c-4329-b6c0-1491c5e81744",
   "metadata": {
    "tags": []
   },
   "outputs": [
    {
     "data": {
      "application/vnd.plotly.v1+json": {
       "config": {
        "plotlyServerURL": "https://plot.ly"
       },
       "data": [
        {
         "customdata": [
          [
           "Earth Defense Force 6 on PS5, PS4, PC via Steam: Release date, key features of video game",
           "bank_rbi_loan_credit_banks"
          ],
          [
           "Google to make passwords obsolete? Here’s what the tech giant is planning with passkeys",
           "bank_rbi_loan_credit_banks"
          ],
          [
           "'Messi Meets America' Documentary Series: Here’s release schedule, streaming platform and everything you m",
           "air_flight_airport_air india_aviation"
          ],
          [
           "Bruce Willis is 'not totally verbal' as dementia progresses",
           "bank_rbi_loan_credit_banks"
          ],
          [
           "Cristiano Ronaldo's Portugal vs Slovakia Euro 2024 Qualifiers live streaming: When and where to watch",
           "air_flight_airport_air india_aviation"
          ],
          [
           "US Secy Blinken highlights civilian suffering, security concerns amid Israel-Hamas war",
           "air_flight_airport_air india_aviation"
          ],
          [
           "‘Please Don't Destroy: The Treasure of Foggy Mountain’: See release date, cast, storyline, trailer, stream",
           "bank_rbi_loan_credit_banks"
          ],
          [
           "'Lessons in Chemistry': How to watch and what you need to know",
           "bank_rbi_loan_credit_banks"
          ],
          [
           "NCLAT sets aside order directing RIL to get stakeholders nod for transfer of RPPMSL's Digital EPC assets",
           "air_flight_airport_air india_india"
          ],
          [
           "IOC suspends Russian Olympic Committee for incorporating Ukrainian sports regions",
           "cr_ipo_rs_crore_firms"
          ],
          [
           "Hamas urges global relief organisations to send vital supplies to Gaza",
           "air_flight_airport_air india_aviation"
          ],
          [
           "Hamas urges global relief organisations to send vital supplies to Gaza",
           "air_flight_airport_air india_aviation"
          ],
          [
           "'Messi Meets America' Documentary Series: Here’s release schedule, streaming platform and everything you m",
           "air_flight_airport_air india_aviation"
          ],
          [
           "Who was Rudolph Isley? Know on Isley Brothers’ founding member and his legacy",
           "bank_rbi_loan_credit_banks"
          ],
          [
           "PinkPantheress’s Debut Album 'Heaven Knows': Here’s release date and more",
           "bank_rbi_loan_credit_banks"
          ],
          [
           "IOC suspends Russian Olympic Committee for incorporating Ukrainian sports regions",
           "cr_ipo_rs_crore_firms"
          ],
          [
           "Sebi comes out with guidelines for exchanges' MDs, CEOs to boost cyber security",
           "sebi_case_case sebi_entities_disclosure"
          ],
          [
           "PinkPantheress’s Debut Album 'Heaven Knows': Here’s release date and more",
           "bank_rbi_loan_credit_banks"
          ],
          [
           "El Nino unlikely to cause sugar shortage in India: NFCSF",
           "trade_exports_uk_fta_india"
          ],
          [
           "‘The Crown’ Season 6: Which years the final season may cover?",
           "oil_gas_ongc_energy_transition"
          ],
          [
           "Empowering education: Study24x7's unique approach to social learning",
           "bank_rbi_loan_credit_banks"
          ],
          [
           "Apollo Tyres expects double-digit revenue growth in FY24",
           "inflation_growth_rate_fed_fy24"
          ],
          [
           "Earth Defense Force 6 on PS5, PS4, PC via Steam: Release date, key features of video game",
           "bank_rbi_loan_credit_banks"
          ],
          [
           "The Callisto Protocol: Check out the complete voice cast and more",
           "bank_rbi_loan_credit_banks"
          ],
          [
           "Spy X Family Season 2 Episode 2: Bond's survival strategy unveiled! Release date and more",
           "bank_rbi_loan_credit_banks"
          ],
          [
           "Capturing the Solar Eclipse on your phone camera: Tips and precautions",
           "bank_rbi_loan_credit_banks"
          ],
          [
           "Spy X Family Season 2 Episode 2: Bond's survival strategy unveiled! Release date and more",
           "bank_rbi_loan_credit_banks"
          ],
          [
           "US Secy Blinken highlights civilian suffering, security concerns amid Israel-Hamas war",
           "air_flight_airport_air india_aviation"
          ],
          [
           "Mitski's 'My Love Mine All Mine' rises to TikTok Billboard Top 50",
           "bank_rbi_loan_credit_banks"
          ],
          [
           "Automobile retail sales see double-digit growth in FY23; PV offtake at record high",
           "sales_electric_ev_units_vehicles"
          ],
          [
           "'Lessons in Chemistry': How to watch and what you need to know",
           "bank_rbi_loan_credit_banks"
          ],
          [
           "The Spencer Sisters Season 1: Know cast, storyline, release schedule, streaming platform and more",
           "bank_rbi_loan_credit_banks"
          ],
          [
           "Cristiano Ronaldo's Portugal vs Slovakia Euro 2024 Qualifiers live streaming: When and where to watch",
           "air_flight_airport_air india_aviation"
          ],
          [
           "Mitski's 'My Love Mine All Mine' rises to TikTok Billboard Top 50",
           "bank_rbi_loan_credit_banks"
          ],
          [
           "‘Blue Eye Samurai’: Here’s storyline, cast, trailer, release date and streaming platform of upcoming anime",
           "bank_rbi_loan_credit_banks"
          ],
          [
           "‘Please Don't Destroy: The Treasure of Foggy Mountain’: See release date, cast, storyline, trailer, stream",
           "bank_rbi_loan_credit_banks"
          ],
          [
           "The Spencer Sisters Season 1: Know cast, storyline, release schedule, streaming platform and more",
           "bank_rbi_loan_credit_banks"
          ],
          [
           "​Holly Willoughby set for career overhaul after exiting  This Morning ",
           "bank_rbi_loan_credit_banks"
          ],
          [
           "​Holly Willoughby set for career overhaul after exiting  This Morning ",
           "bank_rbi_loan_credit_banks"
          ],
          [
           "Bruce Willis is 'not totally verbal' as dementia progresses",
           "bank_rbi_loan_credit_banks"
          ],
          [
           "Union Shipping Minister announces five initiatives to make India global leader in maritime sector",
           "ipo_adani_papers_papers sebi_power"
          ],
          [
           "Empowering education: Study24x7's unique approach to social learning",
           "bank_rbi_loan_credit_banks"
          ],
          [
           "‘Blue Eye Samurai’: Here’s storyline, cast, trailer, release date and streaming platform of upcoming anime",
           "bank_rbi_loan_credit_banks"
          ],
          [
           "Who was Rudolph Isley? Know on Isley Brothers’ founding member and his legacy",
           "bank_rbi_loan_credit_banks"
          ],
          [
           "Capturing the Solar Eclipse on your phone camera: Tips and precautions",
           "bank_rbi_loan_credit_banks"
          ],
          [
           "The Callisto Protocol: Check out the complete voice cast and more",
           "bank_rbi_loan_credit_banks"
          ],
          [
           "‘The Crown’ Season 6: Which years the final season may cover?",
           "oil_gas_ongc_energy_transition"
          ],
          [
           "EAM Jaishankar meets WIPO director general, discusses making intellectual property more 'Global South frie",
           "metro_dmrc_bullet train_bullet_rail"
          ],
          [
           "Jennifer Lopez, Ben Affleck visit Los Angeles market, McDonald's",
           "bank_rbi_loan_credit_banks"
          ],
          [
           "Buy ICICI Prudential Life Insurance Company, target price Rs 550:  Motilal Oswal Financial Services ",
           "crypto_target price_price rs_bitcoin_buy"
          ],
          [
           "Jujutsu Kaisen Season 2 Episode 13: The upcoming Yuji vs Choso battle — What to expect",
           "bank_rbi_loan_credit_banks"
          ],
          [
           "Race for US House speaker in chaos as Republican nominee drops out",
           "oil_gas_ongc_energy_transition"
          ],
          [
           "Microsoft-Activision Blizzard: Ubisoft reveals strategy",
           "bank_rbi_loan_credit_banks"
          ],
          [
           "BSE sells stake in CDSL via bulk deal; Madhusudan Kela's wife Madhuri Kela buys in Sangam",
           "ipo_adani_papers_papers sebi_power"
          ],
          [
           "Bel-Air Season 3: This is what we know so far",
           "bank_rbi_loan_credit_banks"
          ],
          [
           "Scarlett Johansson makes 'powerful' remarks for Pamela Anderson's no-makeup appearance at Paris Fashion We",
           "bank_rbi_loan_credit_banks"
          ],
          [
           "BSF shoots down Pakistani drone in Rajasthan",
           "rbi_bank_rbi imposes_penalty_imposes rs"
          ],
          [
           "John Travolta pays tribute to late wife Kelly Preston. Here’s what happened",
           "bank_rbi_loan_credit_banks"
          ],
          [
           "Halo World Championship 2023: Schedule, kick off time, teams",
           "air_flight_airport_air india_aviation"
          ],
          [
           "IndiGrid raises Rs 1,140 cr via bonds",
           "ipo_adani_papers_papers sebi_power"
          ],
          [
           "BSF shoots down Pakistani drone in Rajasthan",
           "rbi_bank_rbi imposes_penalty_imposes rs"
          ],
          [
           "Halo World Championship 2023: Schedule, kick off time, teams",
           "air_flight_airport_air india_aviation"
          ],
          [
           "John Travolta pays tribute to late wife Kelly Preston. Here’s what happened",
           "bank_rbi_loan_credit_banks"
          ],
          [
           "Scarlett Johansson makes 'powerful' remarks for Pamela Anderson's no-makeup appearance at Paris Fashion We",
           "bank_rbi_loan_credit_banks"
          ],
          [
           "Ashok Leyland partners with Aidrivers for autonomous electric terminal trucks",
           "crypto_target price_price rs_bitcoin_buy"
          ],
          [
           "Crude steel output grows 4% in FY23",
           "coal_steel_mt_coal india_tata steel"
          ],
          [
           "JPMorgan profit jumps 35%, but CEO says geopolitics and gov't inaction have led to 'dangerous time'",
           "crypto_target price_price rs_bitcoin_buy"
          ],
          [
           "‘Lisa Frankenstein’: Know cast, release date, storyline and more",
           "bank_rbi_loan_credit_banks"
          ],
          [
           "JPMorgan profit jumps 35%, but CEO says geopolitics and gov't inaction have led to 'dangerous time'",
           "crypto_target price_price rs_bitcoin_buy"
          ],
          [
           "RBI found excessive dominance by 1-2 board members even in big commercial banks: Das",
           "bank_rbi_loan_credit_banks"
          ],
          [
           "American Horror Story: Delicate Part 2: Here’s what you may want to know",
           "bank_rbi_loan_credit_banks"
          ],
          [
           "Parasitic, blood-sucking 'alien-like' wasp found in Amazon, eats host from inside out",
           "withdrawal_000 notes_rs 000_notes_upi"
          ],
          [
           "'Monarch: Legacy of Monsters’: See release date, cast, trailer, storyline, streaming platform and more",
           "bank_rbi_loan_credit_banks"
          ],
          [
           "The Walking Dead: The Ones Who Live - Release Window unveiled with new cast details | Here’s a sneak peek",
           "bank_rbi_loan_credit_banks"
          ],
          [
           "'Monarch: Legacy of Monsters’: See release date, cast, trailer, storyline, streaming platform and more",
           "bank_rbi_loan_credit_banks"
          ],
          [
           "Ease of doing business: DPIIT to help states in simplifying, decriminalising provisions",
           "gst_tax_pli_gst council_dpiit"
          ],
          [
           "Zoom gets pan-India telecom licence",
           "air_flight_airport_air india_india"
          ],
          [
           "American Horror Story: Delicate Part 2: Here’s what you may want to know",
           "bank_rbi_loan_credit_banks"
          ],
          [
           "Sebi bans Excel Realty N Infra, 4 others from securities market for up to 2 years",
           "sebi_case_case sebi_entities_disclosure"
          ],
          [
           "The Walking Dead: The Ones Who Live - Release Window unveiled with new cast details | Here’s a sneak peek",
           "bank_rbi_loan_credit_banks"
          ],
          [
           "Parasitic, blood-sucking 'alien-like' wasp found in Amazon, eats host from inside out",
           "withdrawal_000 notes_rs 000_notes_upi"
          ],
          [
           "Lords of the Fallen Sequel: See release date, platforms, gameplay, plot and more",
           "bank_rbi_loan_credit_banks"
          ],
          [
           "Maruti Suzuki partners with Indian Bank to provide financing solutions to dealers",
           "sales_electric_ev_units_vehicles"
          ],
          [
           "Kerala: Kochi Water Metro begins commercial operation",
           "vande_vande bharat_train_railway_bharat"
          ],
          [
           "India's coal production grows 8.55 pc to 223 MT in Apr-Jun: Coal Ministry",
           "coal_steel_mt_coal india_tata steel"
          ],
          [
           "Chip designer Arm targets $52 billion valuation in year's largest IPO",
           "stocks_52 week_52_week_nifty"
          ],
          [
           "IRDAI working on three-pronged approach to ensure 'insurance for all by 2047'",
           "irdai_life_insurance_insurers_lic"
          ],
          [
           "‘Lisa Frankenstein’: Know cast, release date, storyline and more",
           "bank_rbi_loan_credit_banks"
          ],
          [
           "Lords of the Fallen Sequel: See release date, platforms, gameplay, plot and more",
           "bank_rbi_loan_credit_banks"
          ],
          [
           "Insolvency & Bankruptcy Code cannot be used as a tool for recovery; says NCLT",
           "air_flight_airport_air india_india"
          ],
          [
           "AI Express flight faces technical problem, lands at Thiruvananthapuram; emergency declared at airport",
           "air_flight_airport_air india_india"
          ],
          [
           "Govt launches GST reward scheme in 6 states, UTs; Rs 30 crore corpus for prize money",
           "gst_tax_pli_gst council_dpiit"
          ],
          [
           "Ideaforge IPO: GMP signals strong investor interest ahead of subscription tomorrow",
           "ipo_adani_papers_papers sebi_power"
          ],
          [
           "MoRTH plans to raise Rs 35,000 crore through asset monetisation this fiscal: Official",
           "projects_cr_fpis_rs_equities"
          ],
          [
           "Colgate-Palmolive India Q4 profit down 2.3% to Rs 316.2cr, Sales up 4% to Rs 1,341.cr",
           "gold_silver_rs_results_profit"
          ],
          [
           "Balrampur Chini bullish on growth, government push on ethanol",
           "trade_exports_uk_fta_india"
          ],
          [
           "Audit reports gain immense significance by inducing action by executive: CAG Girish Chandra Murmu",
           "air_flight_airport_air india_india"
          ],
          [
           "Over 8.75 lakh HUFs claimed Rs 3,803 crore tax deductions in 2022-23: Finance Ministry",
           "bank_rbi_loan_credit_banks"
          ],
          [
           "Private equity funding in realty sector declined 20 per cent in January-June to $2.58 billion: Knight Fran",
           "projects_cr_fpis_rs_equities"
          ],
          [
           "India's merchandise exports may cross USD 500 bn this fiscal: Exporters",
           "trade_exports_uk_fta_india"
          ],
          [
           "Skygazers watch 'Ring of Fire' eclipse over Western Hemisphere",
           "bank_rbi_loan_credit_banks"
          ],
          [
           "EPFO adds 17.9 lakh members in June",
           "pension_epfo_higher_eps_eps pension"
          ],
          [
           "Skygazers watch 'Ring of Fire' eclipse over Western Hemisphere",
           "bank_rbi_loan_credit_banks"
          ],
          [
           "'Aarti' performed at Delhi's Jhandewalan temple to mark first day of 'Navratri'",
           "bank_rbi_loan_credit_banks"
          ],
          [
           "Chhattisgarh: World's longest Dussehra celebration begins in Bastar",
           "bank_rbi_loan_credit_banks"
          ],
          [
           "ET Excellence Awards felicitates the finest entrepreneurs of Telugu states",
           "air_flight_airport_air india_india"
          ],
          [
           "‘Ring of fire’ Solar Eclipse: What can happen if you watch an eclipse with the naked eye?",
           "bank_rbi_loan_credit_banks"
          ],
          [
           "Biden tells Netanyahu US working to ensure water, food, medicine for civilians: White House",
           "cr_ipo_rs_crore_firms"
          ],
          [
           "Manchester United legend Cantona announces debut album ahead of sell-out tour",
           "air_flight_airport_air india_aviation"
          ],
          [
           "Spy x Family Season 2 Episode 2: Release date, time, what to expect, where to watch",
           "bank_rbi_loan_credit_banks"
          ],
          [
           "Gold falls Rs 80; silver declines Rs 400",
           "gold_silver_rs_results_profit"
          ],
          [
           "Qatar's Sheikh Jassim withdraws bid to buy Manchester United",
           "air_flight_airport_air india_aviation"
          ],
          [
           "Qatar's Sheikh Jassim withdraws bid to buy Manchester United",
           "air_flight_airport_air india_aviation"
          ],
          [
           "Manchester United legend Cantona announces debut album ahead of sell-out tour",
           "air_flight_airport_air india_aviation"
          ],
          [
           "Vizag Steel Plant logs highest ever monthly sales of value-added steel in August",
           "coal_steel_mt_coal india_tata steel"
          ],
          [
           "Retail inflation for farm, rural workers eases marginally in August",
           "inflation_growth_rate_fed_fy24"
          ],
          [
           "Irdai asks insurers to lay down social media norms for employees",
           "irdai_life_insurance_insurers_lic"
          ],
          [
           "Reliance Power offers Rs 1,200 cr to settle debt of Butibori power project",
           "bank_rbi_loan_credit_banks"
          ],
          [
           "‘The Afterparty’: Netflix canceled the series after 2 seasons; What you need to know",
           "bank_rbi_loan_credit_banks"
          ],
          [
           "Who is Nina Adgal? Know about Logan Paul’s fiance and their relationship timeline",
           "bank_rbi_loan_credit_banks"
          ],
          [
           "New Umbrella Entity: Nothing innovative presented by applicants, says RBI",
           "bank_rbi_loan_credit_banks"
          ],
          [
           "What is Logan Paul’s net worth? Here’s what you need to know about his ventures",
           "air_flight_airport_air india_aviation"
          ],
          [
           "‘The Afterparty’: Netflix canceled the series after 2 seasons; What you need to know",
           "bank_rbi_loan_credit_banks"
          ],
          [
           "Halloween Candy: Which kind of candies are most unhealthy for your teeth? Here is everything you need to k",
           "withdrawal_000 notes_rs 000_notes_upi"
          ],
          [
           "What is Logan Paul’s net worth? Here’s what you need to know about his ventures",
           "air_flight_airport_air india_aviation"
          ],
          [
           "Goblin Slayer Season 2 Episode 3: Release date, time; All you need to know",
           "bank_rbi_loan_credit_banks"
          ],
          [
           "Goblin Slayer Season 2 Episode 3: Release date, time; All you need to know",
           "bank_rbi_loan_credit_banks"
          ],
          [
           "Halloween Candy: Which kind of candies are most unhealthy for your teeth? Here is everything you need to k",
           "withdrawal_000 notes_rs 000_notes_upi"
          ],
          [
           "Aditya-L1 to reach Lagrange Point 1 by mid-January: ISRO Chief S Somnath",
           "fmcg_itc_hotels_growth_open"
          ],
          [
           "PTC India signs two long-term agreements for 215 MW power purchase: CMD",
           "ipo_adani_papers_papers sebi_power"
          ],
          [
           "Who is the highest paid footballer? Christiano Ronaldo, Lionel Messi and others; Check full list here",
           "air_flight_airport_air india_aviation"
          ],
          [
           "Aditya-L1 to reach Lagrange Point 1 by mid-January: ISRO Chief S Somnath",
           "fmcg_itc_hotels_growth_open"
          ],
          [
           "UCO Bank Q1 Results: Net profit jumps 80% YoY to Rs 223 crore",
           "gold_silver_rs_results_profit"
          ],
          [
           "Who is the highest paid footballer? Christiano Ronaldo, Lionel Messi and others; Check full list here",
           "air_flight_airport_air india_aviation"
          ],
          [
           "Fourth flight with 274 Indian nationals flies out from Israel",
           "rbi_bank_rbi imposes_penalty_imposes rs"
          ],
          [
           "Fourth flight with 274 Indian nationals flies out from Israel",
           "rbi_bank_rbi imposes_penalty_imposes rs"
          ],
          [
           "IndiGrid to acquire Virescent Renewable Energy Trust for up to Rs 4,000 cr",
           "energy_mw_power_solar_project"
          ],
          [
           "CommMin asks depts to hold consultations with compnies on PLI issues",
           "gst_tax_pli_gst council_dpiit"
          ],
          [
           "Gold jumps Rs 480 to lifetime high of Rs 61,780; silver climbs Rs 410",
           "gold_silver_rs_results_profit"
          ],
          [
           "RBI imposes restrictions on Ahmedabad-based Colour Merchants Co-op Bank",
           "bank_rbi_loan_credit_banks"
          ],
          [
           "Delhi HC dismisses plea against reduction in allowances of Air India pilots due to COVID-19",
           "air_flight_airport_air india_india"
          ],
          [
           "BSP releases fourth list for MP elections",
           "bank_rbi_credit_hdfc_loan"
          ],
          [
           "Unlocking the Power of People Strategy and Business Transformation: A Rare Opportunity for Business Leader",
           "air_flight_airport_air india_india"
          ],
          [
           "Lupin Season 4 Update: Creator George Kay talks about next season; Here are the details",
           "bank_rbi_loan_credit_banks"
          ],
          [
           "Rosmerta to set up 10 vehicle scrappage units, invest ₹200 cr",
           "crypto_target price_price rs_bitcoin_buy"
          ],
          [
           "UEFA EURO 2024 live streaming: Where to watch the qualifiers online? All you need to know",
           "air_flight_airport_air india_aviation"
          ],
          [
           "National Cheese Curd Day: Where is Cheese Curd known to have originated from? All we know",
           "bank_rbi_loan_credit_banks"
          ],
          [
           "Demon Slayer Season 4: What you need to know",
           "bank_rbi_loan_credit_banks"
          ],
          [
           "Demon Slayer Season 4: What you need to know",
           "bank_rbi_loan_credit_banks"
          ],
          [
           "CEAT Q1 Results: Net profit jumps multi-fold to Rs 144 crore",
           "gold_silver_rs_results_profit"
          ],
          [
           "Lupin Season 4 Update: Creator George Kay talks about next season; Here are the details",
           "bank_rbi_loan_credit_banks"
          ],
          [
           "UEFA EURO 2024 live streaming: Where to watch the qualifiers online? All you need to know",
           "air_flight_airport_air india_aviation"
          ],
          [
           "Jio building entire ecosystem for Jio Bharat phone in India for supply chain, assembly: Kiran Thomas",
           "air_flight_airport_air india_india"
          ],
          [
           "Rosmerta to set up 10 vehicle scrappage units, invest ₹200 cr",
           "crypto_target price_price rs_bitcoin_buy"
          ],
          [
           "National Cheese Curd Day: Where is Cheese Curd known to have originated from? All we know",
           "bank_rbi_loan_credit_banks"
          ],
          [
           "HDFC Bank share price in focus ahead of Q2 results today; here’s what to expect | Mint",
           "crypto_target price_price rs_bitcoin_buy"
          ],
          [
           "Reliance Power Share Price Live blog for 16 Oct 2023 | Mint",
           "oil_gas_ongc_energy_transition"
          ],
          [
           "Apollo Hospital Share Price Live blog for 16 Oct 2023 | Mint",
           "oil_gas_ongc_energy_transition"
          ],
          [
           "Rail Vikas Nigam Share Price Live blog for 16 Oct 2023 | Mint",
           "oil_gas_ongc_energy_transition"
          ],
          [
           "RBI rate cut possible only after July 2024: Icra",
           "inflation_growth_rate_fed_fy24"
          ],
          [
           "Sbi Life Share Price Live blog for 16 Oct 2023 | Mint",
           "oil_gas_ongc_energy_transition"
          ],
          [
           "7 essential questions you must ask before seeking a personal loan | Mint",
           "crypto_target price_price rs_bitcoin_buy"
          ],
          [
           "ICICI Prudential Life Insurance Share Price Live blog for 16 Oct 2023 | Mint",
           "oil_gas_ongc_energy_transition"
          ],
          [
           "Elon Musk's SpaceX Partners with Qatar Airways: Free 350Mbps Starlink WiFi for Passengers | Mint",
           "fmcg_itc_hotels_growth_open"
          ],
          [
           "Rupee gains 2 paise to close at 81.78 against US dollar",
           "dollar_rupee_paise_dollar rupee_82"
          ],
          [
           "Wipro Share Price Live blog for 16 Oct 2023 | Mint",
           "oil_gas_ongc_energy_transition"
          ],
          [
           "Mphasis Q1 Results: PAT dip 1.4% YoY to Rs 396 crore",
           "gold_silver_rs_results_profit"
          ],
          [
           "MMTC Share Price Live blog for 16 Oct 2023 | Mint",
           "oil_gas_ongc_energy_transition"
          ],
          [
           "T For Travel and not Tiring-Trouble-Turbulence only with a Travel Insurance",
           "bank_rbi_loan_credit_banks"
          ],
          [
           "Icici Bank Share Price Live blog for 16 Oct 2023 | Mint",
           "oil_gas_ongc_energy_transition"
          ],
          [
           "Paytm Share Price Live blog for 16 Oct 2023 | Mint",
           "oil_gas_ongc_energy_transition"
          ],
          [
           "Reliance Infrastructure Share Price Live blog for 16 Oct 2023 | Mint",
           "oil_gas_ongc_energy_transition"
          ],
          [
           "Gold rises Rs 100; silver remains flat",
           "gold_silver_rs_results_profit"
          ],
          [
           "Divis Lab Share Price Live blog for 16 Oct 2023 | Mint",
           "oil_gas_ongc_energy_transition"
          ],
          [
           "Axis Bank Share Price Live blog for 16 Oct 2023 | Mint",
           "oil_gas_ongc_energy_transition"
          ],
          [
           "Delhi govt, MCD, DDA asked to explain construction of housing project in Southern Ridge forest",
           "bank_rbi_loan_credit_banks"
          ],
          [
           "Coffee Day Enterprises Share Price Live blog for 16 Oct 2023 | Mint",
           "oil_gas_ongc_energy_transition"
          ],
          [
           "Sebi orders attachment of bank, demat, MF accounts of Videocon's Dhoot to recover dues",
           "sebi_case_case sebi_entities_disclosure"
          ],
          [
           "Resolutions under insolvency law likely to touch 300 this year: IBBI chief",
           "air_flight_airport_air india_india"
          ],
          [
           "Jio Financial Services Share Price Live blog for 16 Oct 2023 | Mint",
           "oil_gas_ongc_energy_transition"
          ],
          [
           "Vegetable prices likely to cool down next month, rising crude a concern: FinMin official",
           "inflation_growth_rate_fed_fy24"
          ],
          [
           "Adani to raise $3.5 bn from share sale in three group cos",
           "ipo_adani_papers_papers sebi_power"
          ],
          [
           "India's Think360 make top AI Fintech Companies List",
           "air_flight_airport_air india_india"
          ],
          [
           "Deadline for mandatory use of Aadhaar-based payment for MGNREGA workers not to be extended beyond Aug 31",
           "bank_rbi_loan_credit_banks"
          ],
          [
           "Large corporates will never be allowed to open a bank in India: N Vaghul",
           "bank_rbi_loan_credit_banks"
          ],
          [
           "Godrej Properties Q1 Results: Profit jumps nearly 3-fold to Rs 125 crore; sale bookings down 11%",
           "projects_cr_fpis_rs_equities"
          ],
          [
           "Dr Reddy's to enhance presence in emerging segments like nutraceuticals, gene therapy",
           "drug_usfda_gets_pharma_gets usfda"
          ],
          [
           "Ultracab India Share Price Live blog for 16 Oct 2023 | Mint",
           "oil_gas_ongc_energy_transition"
          ],
          [
           "Hcl Tech Share Price Live blog for 16 Oct 2023 | Mint",
           "oil_gas_ongc_energy_transition"
          ],
          [
           "Persistent Systems Share Price Live blog for 16 Oct 2023 | Mint",
           "oil_gas_ongc_energy_transition"
          ],
          [
           "Vedanta Share Price Live blog for 16 Oct 2023 | Mint",
           "oil_gas_ongc_energy_transition"
          ],
          [
           "Eicher Motors Share Price Live blog for 16 Oct 2023 | Mint",
           "oil_gas_ongc_energy_transition"
          ],
          [
           "LTI Mindtree Share Price Live blog for 16 Oct 2023 | Mint",
           "oil_gas_ongc_energy_transition"
          ],
          [
           "JSW Group in talks with MG Motor India, BYD India to pick up stake",
           "sales_electric_ev_units_vehicles"
          ],
          [
           "Dolly Khanna raises stake in multibagger stock despite 105% rally in YTD | Mint",
           "oil_gas_ongc_energy_transition"
          ],
          [
           "Chetak EV domestic sales grow over 4-fold in FY23: Bajaj Auto",
           "sales_electric_ev_units_vehicles"
          ],
          [
           "Infosys earnings shocker wipes off Rs 73,000 crore from company's market cap",
           "firms_mcap_valued_valued firms_10 valued"
          ],
          [
           "RBI working on light weight, portable payment system for critical transactions during catastrophic events",
           "bank_rbi_loan_credit_banks"
          ],
          [
           "RBI cancels licence of Mumbai-based 'The Kapol Co-operative Bank'",
           "bank_rbi_loan_credit_banks"
          ],
          [
           "Deeper participation in global value chains to help India add $1.2 tn to foreign trade by 2030: GTRI repor",
           "trade_exports_uk_fta_india"
          ],
          [
           "Delhi government places order for 2,026 e-buses",
           "sales_electric_ev_units_vehicles"
          ],
          [
           "Sebi issues advertisement code for investment advisers, research analysts",
           "sebi_case_case sebi_entities_disclosure"
          ],
          [
           "UBS completes takeover of Credit Suisse",
           "bank_rbi_loan_credit_banks"
          ],
          [
           "Airbnb inks pact with tourism ministry to promote heritage stays, cultural tourism",
           "inflation_growth_rate_fed_fy24"
          ],
          [
           "Asian Paint Share Price Live blog for 16 Oct 2023 | Mint",
           "oil_gas_ongc_energy_transition"
          ],
          [
           "5Paisa Capital Share Price Live blog for 16 Oct 2023 | Mint",
           "oil_gas_ongc_energy_transition"
          ],
          [
           "Bajaj Finserv Share Price Live blog for 16 Oct 2023 | Mint",
           "oil_gas_ongc_energy_transition"
          ],
          [
           "Sbi Share Price Live blog for 16 Oct 2023 | Mint",
           "oil_gas_ongc_energy_transition"
          ],
          [
           "NTPC, Oil India ink pact to explore collaborations in renewable energy, hydrogen space",
           "energy_mw_power_solar_project"
          ],
          [
           "Rs 200 LPG price cut on oil companies, government unlikely to give subsidy",
           "oil_gas_ongc_energy_transition"
          ],
          [
           "Centre for second PLI scheme for processing millet-based foods: Food Processing Secretary",
           "trade_exports_uk_fta_india"
          ],
          [
           "Jaiprakash Associates defaults on Rs 3,961-crore loans on May 31",
           "bank_rbi_loan_credit_banks"
          ],
          [
           "US welcomes India's move of reducing tariffs on agricultural products",
           "trade_exports_uk_fta_india"
          ],
          [
           "Srinagar-bound SpiceJet flight returns to Delhi airport due to false warning in cockpit",
           "air_flight_airport_air india_india"
          ],
          [
           "Sparsh Hospitals group opens three new specialities in Bengaluru",
           "inflation_growth_rate_fed_fy24"
          ],
          [
           "India, US discuss ways to promote trade, investments",
           "trade_exports_uk_fta_india"
          ],
          [
           "First Rupee trade shipment from Petrapole border to Bangladesh",
           "trade_exports_uk_fta_india"
          ],
          [
           "L&T's construction arm bags multiple EPC orders in domestic market",
           "projects_cr_fpis_rs_equities"
          ],
          [
           "Customs to introduce additional disclosures for export-import of medicinal products from July 1",
           "trade_exports_uk_fta_india"
          ],
          [
           "DST report favours support to innovation even in case of failure",
           "gst_tax_pli_gst council_dpiit"
          ],
          [
           "Air India puts together 'huge financing deal' for new fleet: CEO Campbell Wilson",
           "air_flight_airport_air india_india"
          ],
          [
           "Yes Bank Share Price Live blog for 16 Oct 2023 | Mint",
           "crypto_target price_price rs_bitcoin_buy"
          ],
          [
           "Erratic rainfall may lead to higher inflation in near term: BoB research",
           "inflation_growth_rate_fed_fy24"
          ],
          [
           "Azad Engineering files Rs 740-cr IPO papers with Sebi",
           "ipo_adani_papers_papers sebi_power"
          ],
          [
           "India's renewable energy ambitions could exceed 500 GW, says ISA DG Ajay Mathur",
           "energy_mw_power_solar_project"
          ],
          [
           "MBBS seats in India increase 110 per cent since 2014, Centre tells Lok Sabha",
           "air_flight_airport_air india_india"
          ],
          [
           "Rupee gains 3 paise to close at 82.09 against US dollar",
           "dollar_rupee_paise_dollar rupee_82"
          ],
          [
           "Sai Silks mobilises Rs 360 cr from anchor investors ahead of IPO",
           "ipo_adani_papers_papers sebi_power"
          ],
          [
           "NRRI submits proposals for identification of 10 new rice varieties",
           "trade_exports_uk_fta_india"
          ],
          [
           "Reliance hires 2.6L people in FY2022-23 as growth picks up",
           "inflation_growth_rate_fed_fy24"
          ],
          [
           "Gem, jewellery exports fall 10.7 pc to Rs 22,693.41 cr in May",
           "trade_exports_uk_fta_india"
          ],
          [
           "Texmaco Rail & Engineering Share Price Live blog for 16 Oct 2023 | Mint",
           "oil_gas_ongc_energy_transition"
          ],
          [
           "Mazagon Dock Shipbuilders Share Price Live blog for 16 Oct 2023 | Mint",
           "oil_gas_ongc_energy_transition"
          ],
          [
           "Hdfc Life Share Price Live blog for 16 Oct 2023 | Mint",
           "oil_gas_ongc_energy_transition"
          ],
          [
           "Concord Biotech Share Price Live blog for 16 Oct 2023 | Mint",
           "oil_gas_ongc_energy_transition"
          ],
          [
           "Hindustan Unilever Share Price Live blog for 16 Oct 2023 | Mint",
           "oil_gas_ongc_energy_transition"
          ],
          [
           "Coal India concludes wage revision pact with non-executive workers; agrees on 25% hike in allowances",
           "coal_steel_mt_coal india_tata steel"
          ],
          [
           "IMC constituted to supervise NARCL resolution plan for Srei group firms",
           "air_flight_airport_air india_india"
          ],
          [
           "Syngene International Share Price Live blog for 16 Oct 2023 | Mint",
           "oil_gas_ongc_energy_transition"
          ],
          [
           "Brightcom Group Share Price Live blog for 16 Oct 2023 | Mint",
           "oil_gas_ongc_energy_transition"
          ],
          [
           "Has your bank account gone dormant? Here are 4 ways to reactivate it | Mint",
           "crypto_target price_price rs_bitcoin_buy"
          ],
          [
           "EFC India starts 65,000 sq ft co-working centre in Noida to expand biz",
           "projects_cr_fpis_rs_equities"
          ],
          [
           "Itc Share Price Live blog for 16 Oct 2023 | Mint",
           "oil_gas_ongc_energy_transition"
          ],
          [
           "TCS Share Price Live blog for 16 Oct 2023 | Mint",
           "oil_gas_ongc_energy_transition"
          ],
          [
           "Trident Share Price Live blog for 16 Oct 2023 | Mint",
           "oil_gas_ongc_energy_transition"
          ],
          [
           "Powergrid Share Price Live blog for 16 Oct 2023 | Mint",
           "oil_gas_ongc_energy_transition"
          ],
          [
           "Over 4 lakh hectares brought under natural farming in 8 states: Govt",
           "trade_exports_uk_fta_india"
          ],
          [
           "Bajaj Finance Share Price Live blog for 16 Oct 2023 | Mint",
           "oil_gas_ongc_energy_transition"
          ],
          [
           "Hero Motor Co Share Price Live blog for 16 Oct 2023 | Mint",
           "oil_gas_ongc_energy_transition"
          ],
          [
           "Railway employees union demands productivity-linked bonus on the basis of 7th pay commission",
           "gst_tax_pli_gst council_dpiit"
          ],
          [
           "Tata Consumer Share Price Live blog for 16 Oct 2023 | Mint",
           "oil_gas_ongc_energy_transition"
          ],
          [
           "Infosys Share Price Live blog for 16 Oct 2023 | Mint",
           "oil_gas_ongc_energy_transition"
          ],
          [
           "Tata Motors to remain focused on profitability, growth and cash flows: Chairman Chandrasekaran",
           "sales_electric_ev_units_vehicles"
          ],
          [
           "TCI Express Share Price Live blog for 16 Oct 2023 | Mint",
           "oil_gas_ongc_energy_transition"
          ],
          [
           "UTI Asset Management Company Share Price Live blog for 16 Oct 2023 | Mint",
           "oil_gas_ongc_energy_transition"
          ],
          [
           "India and Bangladesh trade settlement in rupee will boost bilateral commerce: Sanjay Budhia",
           "trade_exports_uk_fta_india"
          ],
          [
           "India to remove retaliatory customs duties on eight US products",
           "trade_exports_uk_fta_india"
          ],
          [
           "Bearish MACD Crossover: Potential Investment Warnings for 7 Prominent Companies",
           "stocks_52 week_52_week_nifty"
          ],
          [
           "India Sotheby's International Realty bags mandate to sell Rs 800 cr worth ultra-luxury apartments in Mumba",
           "projects_cr_fpis_rs_equities"
          ],
          [
           "Domestic manufacturing of premium lighting products may double in 3 yrs: Official",
           "inflation_growth_rate_fed_fy24"
          ],
          [
           "M-cap of seven of top 10 firms declines Rs 62,279 crore; Reliance biggest laggard",
           "firms_mcap_valued_valued firms_10 valued"
          ],
          [
           "DVR share swap to cost Rs 100 crore: Tata Motors",
           "sales_electric_ev_units_vehicles"
          ],
          [
           "No relief in Rs 10 lakh tax fine for not disclosing foreign assets",
           "bank_rbi_loan_credit_banks"
          ],
          [
           "Ksolves India Share Price Live blog for 16 Oct 2023 | Mint",
           "oil_gas_ongc_energy_transition"
          ],
          [
           "If fantasy games are OK, why not online betting?",
           "air_flight_airport_air india_india"
          ],
          [
           "Have commenced dispensing CNG and PNG connections to households: IndianOil",
           "oil_gas_ongc_energy_transition"
          ],
          [
           "Credit card default rises to Rs 4,072 crore in FY23",
           "bank_rbi_loan_credit_banks"
          ],
          [
           "Coal production increased in 'big way' during FY22-FY23; supply improved: Icra",
           "coal_steel_mt_coal india_tata steel"
          ],
          [
           "NCRTC to build pedestrian bridge at Anand Vihar RAPIDX Station",
           "vande_vande bharat_train_railway_bharat"
          ],
          [
           "Domestic electric two wheeler industry to keep growing at fast clip: TVS Motor",
           "sales_electric_ev_units_vehicles"
          ],
          [
           "Jodhpur-based Vishnu Prakash R Punglia Ltd files IPO papers with Sebi",
           "ipo_adani_papers_papers sebi_power"
          ],
          [
           "Govt sets criteria for allocation of power from central pool to states, UTs",
           "energy_mw_power_solar_project"
          ],
          [
           "Peak power demand met touches all-time high of 223.23 GW on June 9",
           "ipo_adani_papers_papers sebi_power"
          ],
          [
           "India is not 'extractive economy' and is not pursuing 'narrow economic activities' in Africa: Jaishankar",
           "trade_exports_uk_fta_india"
          ],
          [
           "Inflation slowing down personal consumption, affecting pvt investment: RBI bulletin",
           "inflation_growth_rate_fed_fy24"
          ],
          [
           "Exhicon Events Media Solutions listed on BSE SME platform",
           "bank_rbi_loan_credit_banks"
          ],
          [
           "Direct flight services from Kerala to Vietnam launched from Cochin International airport",
           "air_flight_airport_air india_india"
          ],
          [
           "Finance Minister Nirmala Sitharaman asks RRBs to remove duplication of PMJDY accounts",
           "bank_rbi_loan_credit_banks"
          ],
          [
           "India's economic growth projected to decelerate to 6% in 2023 from 6.6% in 2022: UN",
           "inflation_growth_rate_fed_fy24"
          ],
          [
           "As many as 388 infra projects show cost overruns of Rs 4.65 lakh crore in July: MoSPI",
           "projects_cr_fpis_rs_equities"
          ],
          [
           "Tata Power Share Price Live blog for 16 Oct 2023 | Mint",
           "oil_gas_ongc_energy_transition"
          ],
          [
           "Go Digit Life Insurance gets Irdai nod to carry life insurance business in India",
           "irdai_life_insurance_insurers_lic"
          ],
          [
           "Sebi enhances accountability of mutual fund' Trustees",
           "sebi_case_case sebi_entities_disclosure"
          ],
          [
           "Tata Technologies to hire 1,000 women engineers to promote gender diversity",
           "sales_electric_ev_units_vehicles"
          ],
          [
           "Covid jab Covovax as heterologous booster to be available on CoWIN soon; to cost Rs 225 per dose",
           "drug_usfda_gets_pharma_gets usfda"
          ],
          [
           "Counter to Rahul Gandhi's Rs 20,000 cr claim:  Rahul Gandhi' says USD 2.6 bn stake sale money came in grou",
           "ipo_adani_papers_papers sebi_power"
          ],
          [
           "Sterlite Power acquires Beawar Transmission to develop power project in Rajasthan",
           "energy_mw_power_solar_project"
          ],
          [
           "Mcap of three of top-10 most-valued firms erodes by Rs 82,082.91 cr; Reliance biggest laggard",
           "firms_mcap_valued_valued firms_10 valued"
          ],
          [
           "Union Bank of India simplifies Form 15G & H submission",
           "bank_rbi_loan_credit_banks"
          ],
          [
           "Ukraine to allow Indian medical Students for 'state qualification exam' from India",
           "drug_usfda_gets_pharma_gets usfda"
          ],
          [
           "77% telco execs expect improvement in revenue, margin from network transformation: Accenture study",
           "air_flight_airport_air india_india"
          ],
          [
           "Yes Bank-DHFL scam: Court says nation is victim, denies bail to Pune-based realtor",
           "bank_rbi_loan_credit_banks"
          ],
          [
           "Aurobindo Pharma Q1 profit up 10 pc at Rs 571 cr",
           "gold_silver_rs_results_profit"
          ],
          [
           "DU rejigs UG admission norms for ECA, sports supernumerary seats",
           "air_flight_airport_air india_india"
          ],
          [
           "Sebi grants final approval for proposed change in control of HDFC AMC, says HDFC Bank",
           "bank_rbi_loan_credit_banks"
          ],
          [
           "Ultra Cem Co Share Price Live blog for 16 Oct 2023 | Mint",
           "oil_gas_ongc_energy_transition"
          ],
          [
           "ONDC provides huge growth opportunities for financial services, manufacturing, e-commerce, agri sectors: D",
           "gst_tax_pli_gst council_dpiit"
          ],
          [
           "Auto component industry reports highest turnover in FY23; aims to log double-digit growth this fiscal",
           "sales_electric_ev_units_vehicles"
          ],
          [
           "CBSE to start 'post-result annual psychological counselling' from May 13",
           "air_flight_airport_air india_india"
          ],
          [
           "HBSE Class 10th Result 2023: Date, time and how to check your results",
           "air_flight_airport_air india_india"
          ]
         ],
         "hovertemplate": "x=%{x}<br>y=%{y}<br>z=%{z}<br>article_title=%{customdata[0]}<br>cluster_name=%{customdata[1]}<br>cluster_id=%{marker.color}<extra></extra>",
         "legendgroup": "",
         "marker": {
          "color": [
           203,
           203,
           185,
           203,
           185,
           161,
           203,
           203,
           195,
           205,
           161,
           161,
           185,
           203,
           203,
           205,
           149,
           203,
           199,
           194,
           203,
           206,
           203,
           203,
           203,
           203,
           203,
           161,
           203,
           207,
           203,
           203,
           185,
           203,
           203,
           203,
           203,
           203,
           203,
           203,
           192,
           203,
           203,
           203,
           203,
           203,
           194,
           146,
           203,
           191,
           203,
           194,
           203,
           192,
           203,
           203,
           188,
           203,
           185,
           192,
           188,
           185,
           203,
           203,
           191,
           213,
           191,
           203,
           191,
           203,
           203,
           180,
           203,
           203,
           203,
           181,
           195,
           203,
           149,
           203,
           180,
           203,
           207,
           186,
           213,
           173,
           126,
           203,
           203,
           195,
           195,
           181,
           192,
           183,
           218,
           199,
           195,
           203,
           183,
           199,
           203,
           145,
           203,
           203,
           203,
           195,
           203,
           205,
           185,
           203,
           218,
           185,
           185,
           185,
           213,
           206,
           126,
           203,
           203,
           203,
           203,
           185,
           203,
           180,
           185,
           203,
           203,
           180,
           176,
           192,
           185,
           176,
           218,
           185,
           188,
           188,
           130,
           181,
           218,
           203,
           195,
           201,
           195,
           203,
           191,
           185,
           203,
           203,
           203,
           218,
           203,
           185,
           195,
           191,
           203,
           191,
           194,
           194,
           194,
           206,
           194,
           191,
           194,
           176,
           112,
           194,
           218,
           194,
           203,
           194,
           194,
           194,
           218,
           194,
           194,
           203,
           194,
           149,
           195,
           194,
           206,
           192,
           195,
           203,
           203,
           183,
           182,
           194,
           194,
           194,
           194,
           194,
           194,
           207,
           194,
           207,
           121,
           203,
           203,
           199,
           207,
           149,
           203,
           206,
           194,
           194,
           194,
           194,
           130,
           194,
           199,
           203,
           199,
           195,
           206,
           199,
           199,
           183,
           199,
           181,
           195,
           191,
           206,
           192,
           130,
           195,
           112,
           192,
           199,
           206,
           199,
           194,
           194,
           194,
           194,
           194,
           213,
           195,
           194,
           194,
           191,
           183,
           194,
           194,
           194,
           194,
           199,
           194,
           194,
           181,
           194,
           194,
           207,
           194,
           194,
           199,
           199,
           173,
           183,
           206,
           121,
           207,
           203,
           194,
           195,
           194,
           203,
           213,
           186,
           207,
           192,
           130,
           192,
           199,
           206,
           203,
           195,
           203,
           206,
           183,
           194,
           126,
           149,
           207,
           182,
           192,
           130,
           121,
           203,
           182,
           195,
           203,
           218,
           195,
           203,
           194,
           181,
           207,
           195,
           195
          ],
          "coloraxis": "coloraxis",
          "line": {
           "color": "DarkSlateGrey",
           "width": 0.5
          },
          "opacity": 0.8,
          "size": 5,
          "symbol": "circle"
         },
         "mode": "markers",
         "name": "",
         "scene": "scene",
         "showlegend": false,
         "type": "scatter3d",
         "x": [
          1.1749403476715088,
          8.580999374389648,
          3.1773195266723633,
          0.28687071800231934,
          3.3023595809936523,
          8.251701354980469,
          0.25655055046081543,
          0.38413891196250916,
          9.259611129760742,
          3.635810613632202,
          8.192227363586426,
          8.233122825622559,
          3.21903395652771,
          0.5686504244804382,
          2.8539490699768066,
          3.7094273567199707,
          8.431900978088379,
          2.8238651752471924,
          10.19340705871582,
          1.041269063949585,
          8.400615692138672,
          10.193705558776855,
          1.1517698764801025,
          0.10708052664995193,
          0.8649489283561707,
          9.620146751403809,
          0.8596525192260742,
          8.366660118103027,
          2.829554319381714,
          10.38422966003418,
          0.4226067364215851,
          0.2984813153743744,
          3.280513286590576,
          2.8185815811157227,
          0.1601245254278183,
          0.22761383652687073,
          0.3476039171218872,
          0.3332543969154358,
          0.32964131236076355,
          0.36657023429870605,
          9.73763656616211,
          8.428268432617188,
          0.07844401895999908,
          0.5662991404533386,
          9.61349868774414,
          0.0225664172321558,
          1.062099814414978,
          9.920087814331055,
          0.44064265489578247,
          7.968473434448242,
          0.6202371120452881,
          8.34978199005127,
          1.2025175094604492,
          8.775142669677734,
          1.1351168155670166,
          0.4225175976753235,
          8.432958602905273,
          0.4761976897716522,
          3.4014148712158203,
          9.625914573669434,
          8.403898239135742,
          3.395439624786377,
          0.49755826592445374,
          0.3948100507259369,
          10.178729057312012,
          10.61266803741455,
          9.484972953796387,
          0.007971670478582382,
          9.429041862487793,
          8.458858489990234,
          0.3367995619773865,
          0.9983767867088318,
          0.05942616984248161,
          0.21841533482074738,
          0.002407269086688757,
          9.309200286865234,
          8.865812301635742,
          0.4173331558704376,
          8.788684844970703,
          0.19385363161563873,
          0.9854434728622437,
          1.1413692235946655,
          9.838591575622559,
          9.1234130859375,
          10.584403038024902,
          9.053645133972168,
          8.310721397399902,
          -0.06038980185985565,
          1.1253056526184082,
          9.301061630249023,
          8.303058624267578,
          9.452301979064941,
          9.007014274597168,
          9.918590545654297,
          9.686556816101074,
          10.469304084777832,
          8.675251960754395,
          9.392965316772461,
          9.62868881225586,
          10.418452262878418,
          9.586870193481445,
          9.906542778015137,
          9.564701080322266,
          9.812969207763672,
          9.744271278381348,
          9.070781707763672,
          9.735075950622559,
          8.246230125427246,
          3.076012372970581,
          0.7900999784469604,
          8.232378005981445,
          3.212808609008789,
          3.181302309036255,
          3.0437519550323486,
          10.633007049560547,
          10.205789566040039,
          8.288086891174316,
          9.744044303894043,
          0.43454134464263916,
          2.3218042850494385,
          8.737171173095703,
          2.3902058601379395,
          0.5079351663589478,
          10.214127540588379,
          2.4221158027648926,
          0.9476225972175598,
          0.891446053981781,
          10.27439022064209,
          9.520339012145996,
          10.180744171142578,
          3.231860399246216,
          9.503252029418945,
          9.586263656616211,
          3.2241294384002686,
          8.304732322692871,
          8.355864524841309,
          10.088513374328613,
          9.588616371154785,
          8.193446159362793,
          8.896212577819824,
          8.496392250061035,
          9.580281257629395,
          8.429688453674316,
          0.9962610006332397,
          10.416994094848633,
          3.2924163341522217,
          10.248459815979004,
          0.9722957015037537,
          0.9801943898200989,
          9.664663314819336,
          1.0576550960540771,
          3.494302988052368,
          8.867533683776855,
          10.37093448638916,
          10.25228500366211,
          8.295088768005371,
          8.470418930053711,
          7.477759838104248,
          7.963909149169922,
          10.368051528930664,
          7.501186847686768,
          8.608059883117676,
          7.70781135559082,
          8.662846565246582,
          7.982187747955322,
          7.557614803314209,
          9.470525741577148,
          7.786465167999268,
          8.319101333618164,
          7.544979572296143,
          7.701265811920166,
          8.52500057220459,
          8.198838233947754,
          7.852545738220215,
          7.504272937774658,
          9.689360618591309,
          7.746230125427246,
          8.658926010131836,
          9.202255249023438,
          7.697753429412842,
          10.333388328552246,
          9.399182319641113,
          8.529487609863281,
          9.446821212768555,
          8.637319564819336,
          9.6657133102417,
          9.086694717407227,
          7.7838029861450195,
          7.994157791137695,
          8.05805492401123,
          7.996450901031494,
          7.571788311004639,
          7.741675853729248,
          10.051783561706543,
          8.80750560760498,
          10.121827125549316,
          8.536348342895508,
          9.020029067993164,
          8.756757736206055,
          10.048505783081055,
          9.87304401397705,
          8.378559112548828,
          8.053693771362305,
          9.669309616088867,
          7.889665126800537,
          7.607245922088623,
          7.800534725189209,
          7.672101020812988,
          10.197264671325684,
          10.112323760986328,
          10.017406463623047,
          9.528536796569824,
          10.168953895568848,
          8.34719181060791,
          9.275518417358398,
          10.16093635559082,
          10.251133918762207,
          9.892894744873047,
          10.040103912353516,
          9.276551246643066,
          8.456012725830078,
          7.511974334716797,
          10.320878028869629,
          9.259021759033203,
          10.452923774719238,
          9.053629875183105,
          7.87716817855835,
          8.982514381408691,
          10.038811683654785,
          10.233376502990723,
          8.386502265930176,
          7.967081069946289,
          7.682802200317383,
          7.571667194366455,
          7.947890758514404,
          7.48576021194458,
          9.883478164672852,
          9.259239196777344,
          7.841799736022949,
          8.139433860778809,
          8.80556869506836,
          9.534632682800293,
          7.7615437507629395,
          7.973979949951172,
          7.6517181396484375,
          8.333069801330566,
          9.963525772094727,
          7.563069820404053,
          7.525440692901611,
          9.837309837341309,
          8.238903999328613,
          7.95258903503418,
          10.233023643493652,
          7.8638787269592285,
          7.545618057250977,
          10.14778995513916,
          10.243659019470215,
          8.58774185180664,
          9.83059310913086,
          9.894380569458008,
          8.452608108520508,
          10.220094680786133,
          9.171384811401367,
          7.825363636016846,
          8.361259460449219,
          9.890758514404297,
          9.064419746398926,
          10.621707916259766,
          9.546167373657227,
          10.169256210327148,
          9.65017032623291,
          9.06437873840332,
          10.530618667602539,
          10.087080001831055,
          10.288962364196777,
          8.365889549255371,
          8.50858211517334,
          9.22014045715332,
          10.450321197509766,
          10.02478313446045,
          8.322225570678711,
          8.282607078552246,
          8.453617095947266,
          9.407414436340332,
          8.62195110321045,
          9.173504829406738,
          10.212282180786133,
          8.529912948608398,
          8.933770179748535,
          8.172901153564453,
          8.818071365356445,
          8.834827423095703,
          9.53801441192627,
          8.832280158996582,
          8.23178482055664,
          7.6044602394104,
          9.025381088256836,
          10.457809448242188,
          7.959131717681885,
          7.858014106750488
         ],
         "y": [
          6.507482528686523,
          6.270076751708984,
          6.966808319091797,
          6.5275444984436035,
          7.244740962982178,
          6.832672595977783,
          6.718201160430908,
          6.451186656951904,
          6.310937404632568,
          7.118625164031982,
          6.794802188873291,
          6.831536293029785,
          7.013760089874268,
          6.47067928314209,
          6.694019317626953,
          7.0691819190979,
          6.505054473876953,
          6.73949670791626,
          6.478883266448975,
          5.9879021644592285,
          6.996054172515869,
          7.953810691833496,
          6.520655155181885,
          6.739555835723877,
          6.47287654876709,
          6.7481913566589355,
          6.4440155029296875,
          6.950398921966553,
          6.669581890106201,
          7.6277594566345215,
          6.587100982666016,
          6.259002685546875,
          7.173877716064453,
          6.65939474105835,
          6.682881832122803,
          6.735569000244141,
          6.341890811920166,
          6.497281074523926,
          6.525970935821533,
          6.516379356384277,
          7.157869338989258,
          6.962579727172852,
          6.751339435577393,
          6.440258979797363,
          6.743823051452637,
          6.810149669647217,
          5.96497917175293,
          7.200921058654785,
          6.60741662979126,
          7.882784843444824,
          6.627110004425049,
          6.966602802276611,
          6.606277942657471,
          6.93113899230957,
          6.120669364929199,
          6.6899094581604,
          6.970541000366211,
          6.56447172164917,
          7.079807758331299,
          6.4529595375061035,
          6.9492034912109375,
          7.081105709075928,
          6.515666961669922,
          6.601815223693848,
          7.8987226486206055,
          7.177149772644043,
          8.336198806762695,
          6.810810565948486,
          8.349601745605469,
          6.517292499542236,
          6.39905309677124,
          6.483920097351074,
          6.822299480438232,
          6.522882461547852,
          6.83154821395874,
          6.117349624633789,
          7.21683406829834,
          6.3294172286987305,
          6.463032245635986,
          6.514669418334961,
          6.441899299621582,
          6.534760475158691,
          7.711629390716553,
          7.252473831176758,
          6.913638114929199,
          7.214625835418701,
          6.248239994049072,
          6.8662590980529785,
          6.49269962310791,
          6.352806568145752,
          6.899660110473633,
          6.08155632019043,
          7.129566669464111,
          6.6038923263549805,
          8.260273933410645,
          6.761925220489502,
          6.882205486297607,
          5.949689865112305,
          7.137814044952393,
          7.144710540771484,
          6.746853351593018,
          6.085717678070068,
          6.793308734893799,
          6.463616371154785,
          6.358118534088135,
          6.740396022796631,
          6.621119499206543,
          6.888233184814453,
          6.729404449462891,
          6.4992594718933105,
          8.804593086242676,
          6.7479400634765625,
          6.761836051940918,
          6.806764125823975,
          7.3683271408081055,
          6.170939922332764,
          6.226984024047852,
          6.614785671234131,
          6.2670111656188965,
          6.971135139465332,
          6.403044700622559,
          7.027126789093018,
          6.248033046722412,
          6.544955253601074,
          7.039336681365967,
          6.450809478759766,
          6.45975399017334,
          6.481725692749023,
          6.870431423187256,
          6.747249603271484,
          7.147170066833496,
          6.89035701751709,
          8.406481742858887,
          7.166537761688232,
          6.860565185546875,
          6.909903526306152,
          6.65877103805542,
          6.4947967529296875,
          8.768782615661621,
          6.068899631500244,
          6.709858417510986,
          6.6605544090271,
          7.0855302810668945,
          6.068557262420654,
          7.573958396911621,
          7.060760974884033,
          6.511483192443848,
          6.437950134277344,
          6.324307918548584,
          8.359498023986816,
          5.984699726104736,
          7.157294273376465,
          7.301864147186279,
          7.62758731842041,
          6.507500648498535,
          7.606393814086914,
          8.118151664733887,
          8.399725914001465,
          8.640359878540039,
          6.098875999450684,
          8.077032089233398,
          6.159793853759766,
          8.000191688537598,
          7.171133995056152,
          8.67032527923584,
          8.30711555480957,
          8.439765930175781,
          8.251747131347656,
          6.538609027862549,
          8.09952449798584,
          8.39334487915039,
          8.017005920410156,
          8.750563621520996,
          8.047197341918945,
          8.16364574432373,
          6.615829944610596,
          8.76812744140625,
          6.325810432434082,
          6.192046165466309,
          8.330011367797852,
          6.213384628295898,
          7.085124969482422,
          6.721573352813721,
          5.932135581970215,
          6.432886600494385,
          8.156096458435059,
          7.204246520996094,
          8.799590110778809,
          7.93992805480957,
          8.339393615722656,
          8.539827346801758,
          8.871378898620605,
          8.40885066986084,
          7.925605773925781,
          7.343171119689941,
          7.9551286697387695,
          8.008442878723145,
          6.0498762130737305,
          6.28611946105957,
          7.131908416748047,
          7.654585838317871,
          6.501696586608887,
          7.068946361541748,
          7.236886024475098,
          8.533555030822754,
          8.342446327209473,
          8.465167045593262,
          8.105050086975098,
          6.77039098739624,
          6.552781105041504,
          6.3434977531433105,
          6.581982612609863,
          6.63773250579834,
          6.830953121185303,
          7.1041131019592285,
          6.912937641143799,
          7.056044101715088,
          6.973562240600586,
          6.78045129776001,
          6.980380058288574,
          6.951383113861084,
          8.161612510681152,
          6.012298107147217,
          6.981801986694336,
          6.737308025360107,
          6.35921573638916,
          8.574806213378906,
          7.261088848114014,
          6.326254844665527,
          7.244624137878418,
          8.80606460571289,
          8.716691017150879,
          8.466148376464844,
          7.94271183013916,
          7.992835521697998,
          8.251280784606934,
          6.379042625427246,
          6.1901373863220215,
          8.135684967041016,
          8.102761268615723,
          5.883317947387695,
          7.119442462921143,
          7.905245780944824,
          8.299226760864258,
          8.471105575561523,
          8.216633796691895,
          6.221518039703369,
          8.328229904174805,
          8.979045867919922,
          6.225954055786133,
          8.115580558776855,
          8.14016342163086,
          8.046791076660156,
          8.331789016723633,
          8.759069442749023,
          7.136612415313721,
          6.755697250366211,
          7.67689323425293,
          7.260617256164551,
          7.360818386077881,
          7.849429130554199,
          7.744414806365967,
          6.185542583465576,
          8.357670783996582,
          6.270545959472656,
          6.6242499351501465,
          5.808979034423828,
          7.116959095001221,
          7.281242370605469,
          7.865005970001221,
          6.893176078796387,
          6.212179183959961,
          6.584883689880371,
          7.2764434814453125,
          6.150857925415039,
          6.890647888183594,
          7.009106636047363,
          6.139118194580078,
          6.719228267669678,
          6.4598307609558105,
          8.289259910583496,
          6.155019283294678,
          6.549314498901367,
          7.370328426361084,
          6.872091293334961,
          7.104178428649902,
          6.742079734802246,
          7.751233100891113,
          5.964773654937744,
          6.555297374725342,
          7.448908805847168,
          6.528626918792725,
          8.321464538574219,
          6.387511253356934,
          6.753603458404541,
          8.875091552734375,
          7.085461139678955,
          7.660834312438965,
          7.6142802238464355,
          7.718892574310303
         ],
         "z": [
          -1.6933250427246094,
          5.283306121826172,
          0.03616467863321304,
          0.5048525929450989,
          -0.16192351281642914,
          2.82261061668396,
          -0.5413110256195068,
          -0.4814814627170563,
          5.988497257232666,
          -0.1888977438211441,
          2.7648088932037354,
          2.7273435592651367,
          -0.027175173163414,
          0.583885133266449,
          0.4513745605945587,
          -0.142835795879364,
          6.154945373535156,
          0.3992599844932556,
          3.2768263816833496,
          -0.8983973264694214,
          5.110092639923096,
          5.200664043426514,
          -1.6645618677139282,
          -1.4686658382415771,
          -0.8708563446998596,
          2.1442763805389404,
          -0.7909358143806458,
          2.721212148666382,
          0.48623591661453247,
          4.943796634674072,
          -0.41216710209846497,
          -0.7461879253387451,
          -0.15708646178245544,
          0.4980866014957428,
          -1.4140232801437378,
          -0.48863598704338074,
          -0.795716404914856,
          -0.3900223672389984,
          -0.3803107738494873,
          0.44873982667922974,
          4.223893642425537,
          5.082896709442139,
          -1.3567399978637695,
          0.5302231311798096,
          2.134450674057007,
          -1.3889236450195312,
          -0.9077461957931519,
          3.94812273979187,
          0.5353308916091919,
          7.5626702308654785,
          -1.278159260749817,
          2.654710531234741,
          -1.6624754667282104,
          6.530719757080078,
          -0.7641916275024414,
          0.5751074552536011,
          3.3160247802734375,
          0.5020209550857544,
          -0.3385791480541229,
          6.034987449645996,
          3.2849953174591064,
          -0.31811559200286865,
          0.5556745529174805,
          0.48104602098464966,
          4.943966388702393,
          4.882697105407715,
          5.807509422302246,
          -1.3385015726089478,
          5.830617904663086,
          5.719149112701416,
          -0.7789303660392761,
          -0.7302963733673096,
          -1.4045699834823608,
          -1.1980764865875244,
          -1.4209264516830444,
          5.698795795440674,
          5.032700061798096,
          -0.8725798726081848,
          6.242520332336426,
          -1.2461179494857788,
          -0.7112123370170593,
          -1.6467984914779663,
          4.939084053039551,
          4.128965377807617,
          4.898058891296387,
          6.613908290863037,
          5.448055267333984,
          -1.2930467128753662,
          -1.673148274421692,
          6.123937606811523,
          3.547508955001831,
          4.993991374969482,
          6.191064834594727,
          5.74699592590332,
          5.816803932189941,
          4.518996238708496,
          5.771658897399902,
          5.185445308685303,
          5.854088306427002,
          4.36560583114624,
          2.1454129219055176,
          4.935580253601074,
          2.1903343200683594,
          3.7072131633758545,
          3.849876880645752,
          5.255908966064453,
          2.0222649574279785,
          2.6800622940063477,
          0.3381803333759308,
          -1.206540584564209,
          6.8183674812316895,
          0.3554825782775879,
          0.3571058213710785,
          0.2841735780239105,
          5.04956579208374,
          4.411111831665039,
          5.6737165451049805,
          6.208385944366455,
          -0.8154177665710449,
          0.5476087927818298,
          5.395648002624512,
          0.5998789668083191,
          -0.8351902365684509,
          2.9451253414154053,
          0.6152530908584595,
          -1.416260838508606,
          -1.3538062572479248,
          2.9959700107574463,
          2.3610095977783203,
          5.728360176086426,
          -0.11652406305074692,
          2.3984012603759766,
          5.964917182922363,
          -0.12723876535892487,
          3.324152946472168,
          3.31294846534729,
          5.952500820159912,
          4.7867279052734375,
          6.915216445922852,
          5.5810651779174805,
          3.884244918823242,
          4.317501068115234,
          5.13612699508667,
          -0.9103242754936218,
          5.4208149909973145,
          -0.1617530882358551,
          2.9920318126678467,
          -1.4546338319778442,
          -1.3525274991989136,
          5.909303665161133,
          -0.8533081412315369,
          -0.2600612938404083,
          5.020978927612305,
          5.459504127502441,
          2.994645118713379,
          6.4848504066467285,
          7.963320732116699,
          8.34359359741211,
          8.151259422302246,
          4.374370098114014,
          7.912650108337402,
          5.24515438079834,
          7.723935604095459,
          3.667816638946533,
          7.022702693939209,
          7.96332311630249,
          6.10374116897583,
          8.317394256591797,
          4.122988224029541,
          7.882833003997803,
          8.30777359008789,
          7.7740020751953125,
          6.85207462310791,
          8.218932151794434,
          7.829641819000244,
          5.463141441345215,
          8.103202819824219,
          6.015405654907227,
          6.163369178771973,
          7.6075263023376465,
          4.435537338256836,
          6.371970176696777,
          5.543544769287109,
          4.981120586395264,
          5.69584846496582,
          5.9103312492370605,
          5.432837963104248,
          7.8844218254089355,
          8.298389434814453,
          8.107804298400879,
          7.967951774597168,
          7.982498645782471,
          8.336352348327637,
          5.100972652435303,
          6.355630397796631,
          5.056457042694092,
          7.087408065795898,
          5.169693946838379,
          5.620593070983887,
          4.323742389678955,
          4.861148834228516,
          6.198977947235107,
          5.920928001403809,
          4.360392093658447,
          8.049445152282715,
          7.674740314483643,
          8.017648696899414,
          8.03948974609375,
          5.072178840637207,
          4.808871746063232,
          4.434449672698975,
          6.213399887084961,
          4.058109760284424,
          3.525392770767212,
          5.5838541984558105,
          3.9342806339263916,
          4.0536208152771,
          5.59166145324707,
          4.084301471710205,
          5.0791778564453125,
          3.6218624114990234,
          7.656440258026123,
          4.460742473602295,
          6.487081050872803,
          4.89995813369751,
          4.331352710723877,
          7.1181206703186035,
          6.366885662078857,
          4.343746662139893,
          5.035301685333252,
          6.639123916625977,
          8.238241195678711,
          8.420696258544922,
          7.887967586517334,
          8.219914436340332,
          7.9706830978393555,
          4.962241172790527,
          6.105881214141846,
          7.977757930755615,
          7.625198841094971,
          5.378281116485596,
          5.746707916259766,
          8.098921775817871,
          8.199110984802246,
          8.287224769592285,
          8.214876174926758,
          4.312326431274414,
          7.7689008712768555,
          7.962386608123779,
          4.8297858238220215,
          7.864077568054199,
          7.752372741699219,
          5.190844535827637,
          8.304978370666504,
          7.816727161407471,
          4.14538049697876,
          4.0317606925964355,
          6.8750762939453125,
          5.913074493408203,
          4.72902774810791,
          7.098012447357178,
          5.662896156311035,
          5.943989276885986,
          7.773479461669922,
          5.637580394744873,
          4.70841121673584,
          5.622162818908691,
          4.964595794677734,
          5.002400875091553,
          4.905551433563232,
          6.241476535797119,
          4.9874348640441895,
          5.033074855804443,
          3.9377825260162354,
          4.789040565490723,
          6.434444427490234,
          3.5322699546813965,
          5.444149494171143,
          4.654209613800049,
          5.524775981903076,
          8.157710075378418,
          5.556159496307373,
          6.097783088684082,
          5.223541736602783,
          4.1088128089904785,
          6.258700847625732,
          5.853981971740723,
          6.999740123748779,
          5.39484167098999,
          3.3721764087677,
          5.109865188598633,
          6.106257438659668,
          6.017155170440674,
          4.721499919891357,
          6.225343704223633,
          7.83979606628418,
          5.298202991485596,
          5.003417491912842,
          6.368364334106445,
          6.532610893249512
         ]
        }
       ],
       "layout": {
        "coloraxis": {
         "colorbar": {
          "title": {
           "text": "cluster_id"
          }
         },
         "colorscale": [
          [
           0,
           "rgb(229, 134, 6)"
          ],
          [
           0.1,
           "rgb(93, 105, 177)"
          ],
          [
           0.2,
           "rgb(82, 188, 163)"
          ],
          [
           0.3,
           "rgb(153, 201, 69)"
          ],
          [
           0.4,
           "rgb(204, 97, 176)"
          ],
          [
           0.5,
           "rgb(36, 121, 108)"
          ],
          [
           0.6,
           "rgb(218, 165, 27)"
          ],
          [
           0.7,
           "rgb(47, 138, 196)"
          ],
          [
           0.8,
           "rgb(118, 78, 159)"
          ],
          [
           0.9,
           "rgb(237, 100, 90)"
          ],
          [
           1,
           "rgb(165, 170, 153)"
          ]
         ]
        },
        "height": 800,
        "legend": {
         "tracegroupgap": 0
        },
        "scene": {
         "aspectmode": "auto",
         "aspectratio": {
          "x": 1.5278464013298398,
          "y": 0.4529313997066089,
          "z": 1.445066639050754
         },
         "camera": {
          "center": {
           "x": 0,
           "y": 0,
           "z": 0
          },
          "eye": {
           "x": -0.056586464385936654,
           "y": 2.6866003491964876,
           "z": 1.067113976431245
          },
          "projection": {
           "type": "perspective"
          },
          "up": {
           "x": 0,
           "y": 0,
           "z": 1
          }
         },
         "domain": {
          "x": [
           0,
           1
          ],
          "y": [
           0,
           1
          ]
         },
         "xaxis": {
          "title": {
           "text": "x"
          },
          "type": "linear"
         },
         "yaxis": {
          "title": {
           "text": "y"
          },
          "type": "linear"
         },
         "zaxis": {
          "title": {
           "text": "z"
          },
          "type": "linear"
         }
        },
        "template": {
         "data": {
          "bar": [
           {
            "error_x": {
             "color": "#2a3f5f"
            },
            "error_y": {
             "color": "#2a3f5f"
            },
            "marker": {
             "line": {
              "color": "#E5ECF6",
              "width": 0.5
             },
             "pattern": {
              "fillmode": "overlay",
              "size": 10,
              "solidity": 0.2
             }
            },
            "type": "bar"
           }
          ],
          "barpolar": [
           {
            "marker": {
             "line": {
              "color": "#E5ECF6",
              "width": 0.5
             },
             "pattern": {
              "fillmode": "overlay",
              "size": 10,
              "solidity": 0.2
             }
            },
            "type": "barpolar"
           }
          ],
          "carpet": [
           {
            "aaxis": {
             "endlinecolor": "#2a3f5f",
             "gridcolor": "white",
             "linecolor": "white",
             "minorgridcolor": "white",
             "startlinecolor": "#2a3f5f"
            },
            "baxis": {
             "endlinecolor": "#2a3f5f",
             "gridcolor": "white",
             "linecolor": "white",
             "minorgridcolor": "white",
             "startlinecolor": "#2a3f5f"
            },
            "type": "carpet"
           }
          ],
          "choropleth": [
           {
            "colorbar": {
             "outlinewidth": 0,
             "ticks": ""
            },
            "type": "choropleth"
           }
          ],
          "contour": [
           {
            "colorbar": {
             "outlinewidth": 0,
             "ticks": ""
            },
            "colorscale": [
             [
              0,
              "#0d0887"
             ],
             [
              0.1111111111111111,
              "#46039f"
             ],
             [
              0.2222222222222222,
              "#7201a8"
             ],
             [
              0.3333333333333333,
              "#9c179e"
             ],
             [
              0.4444444444444444,
              "#bd3786"
             ],
             [
              0.5555555555555556,
              "#d8576b"
             ],
             [
              0.6666666666666666,
              "#ed7953"
             ],
             [
              0.7777777777777778,
              "#fb9f3a"
             ],
             [
              0.8888888888888888,
              "#fdca26"
             ],
             [
              1,
              "#f0f921"
             ]
            ],
            "type": "contour"
           }
          ],
          "contourcarpet": [
           {
            "colorbar": {
             "outlinewidth": 0,
             "ticks": ""
            },
            "type": "contourcarpet"
           }
          ],
          "heatmap": [
           {
            "colorbar": {
             "outlinewidth": 0,
             "ticks": ""
            },
            "colorscale": [
             [
              0,
              "#0d0887"
             ],
             [
              0.1111111111111111,
              "#46039f"
             ],
             [
              0.2222222222222222,
              "#7201a8"
             ],
             [
              0.3333333333333333,
              "#9c179e"
             ],
             [
              0.4444444444444444,
              "#bd3786"
             ],
             [
              0.5555555555555556,
              "#d8576b"
             ],
             [
              0.6666666666666666,
              "#ed7953"
             ],
             [
              0.7777777777777778,
              "#fb9f3a"
             ],
             [
              0.8888888888888888,
              "#fdca26"
             ],
             [
              1,
              "#f0f921"
             ]
            ],
            "type": "heatmap"
           }
          ],
          "heatmapgl": [
           {
            "colorbar": {
             "outlinewidth": 0,
             "ticks": ""
            },
            "colorscale": [
             [
              0,
              "#0d0887"
             ],
             [
              0.1111111111111111,
              "#46039f"
             ],
             [
              0.2222222222222222,
              "#7201a8"
             ],
             [
              0.3333333333333333,
              "#9c179e"
             ],
             [
              0.4444444444444444,
              "#bd3786"
             ],
             [
              0.5555555555555556,
              "#d8576b"
             ],
             [
              0.6666666666666666,
              "#ed7953"
             ],
             [
              0.7777777777777778,
              "#fb9f3a"
             ],
             [
              0.8888888888888888,
              "#fdca26"
             ],
             [
              1,
              "#f0f921"
             ]
            ],
            "type": "heatmapgl"
           }
          ],
          "histogram": [
           {
            "marker": {
             "pattern": {
              "fillmode": "overlay",
              "size": 10,
              "solidity": 0.2
             }
            },
            "type": "histogram"
           }
          ],
          "histogram2d": [
           {
            "colorbar": {
             "outlinewidth": 0,
             "ticks": ""
            },
            "colorscale": [
             [
              0,
              "#0d0887"
             ],
             [
              0.1111111111111111,
              "#46039f"
             ],
             [
              0.2222222222222222,
              "#7201a8"
             ],
             [
              0.3333333333333333,
              "#9c179e"
             ],
             [
              0.4444444444444444,
              "#bd3786"
             ],
             [
              0.5555555555555556,
              "#d8576b"
             ],
             [
              0.6666666666666666,
              "#ed7953"
             ],
             [
              0.7777777777777778,
              "#fb9f3a"
             ],
             [
              0.8888888888888888,
              "#fdca26"
             ],
             [
              1,
              "#f0f921"
             ]
            ],
            "type": "histogram2d"
           }
          ],
          "histogram2dcontour": [
           {
            "colorbar": {
             "outlinewidth": 0,
             "ticks": ""
            },
            "colorscale": [
             [
              0,
              "#0d0887"
             ],
             [
              0.1111111111111111,
              "#46039f"
             ],
             [
              0.2222222222222222,
              "#7201a8"
             ],
             [
              0.3333333333333333,
              "#9c179e"
             ],
             [
              0.4444444444444444,
              "#bd3786"
             ],
             [
              0.5555555555555556,
              "#d8576b"
             ],
             [
              0.6666666666666666,
              "#ed7953"
             ],
             [
              0.7777777777777778,
              "#fb9f3a"
             ],
             [
              0.8888888888888888,
              "#fdca26"
             ],
             [
              1,
              "#f0f921"
             ]
            ],
            "type": "histogram2dcontour"
           }
          ],
          "mesh3d": [
           {
            "colorbar": {
             "outlinewidth": 0,
             "ticks": ""
            },
            "type": "mesh3d"
           }
          ],
          "parcoords": [
           {
            "line": {
             "colorbar": {
              "outlinewidth": 0,
              "ticks": ""
             }
            },
            "type": "parcoords"
           }
          ],
          "pie": [
           {
            "automargin": true,
            "type": "pie"
           }
          ],
          "scatter": [
           {
            "fillpattern": {
             "fillmode": "overlay",
             "size": 10,
             "solidity": 0.2
            },
            "type": "scatter"
           }
          ],
          "scatter3d": [
           {
            "line": {
             "colorbar": {
              "outlinewidth": 0,
              "ticks": ""
             }
            },
            "marker": {
             "colorbar": {
              "outlinewidth": 0,
              "ticks": ""
             }
            },
            "type": "scatter3d"
           }
          ],
          "scattercarpet": [
           {
            "marker": {
             "colorbar": {
              "outlinewidth": 0,
              "ticks": ""
             }
            },
            "type": "scattercarpet"
           }
          ],
          "scattergeo": [
           {
            "marker": {
             "colorbar": {
              "outlinewidth": 0,
              "ticks": ""
             }
            },
            "type": "scattergeo"
           }
          ],
          "scattergl": [
           {
            "marker": {
             "colorbar": {
              "outlinewidth": 0,
              "ticks": ""
             }
            },
            "type": "scattergl"
           }
          ],
          "scattermapbox": [
           {
            "marker": {
             "colorbar": {
              "outlinewidth": 0,
              "ticks": ""
             }
            },
            "type": "scattermapbox"
           }
          ],
          "scatterpolar": [
           {
            "marker": {
             "colorbar": {
              "outlinewidth": 0,
              "ticks": ""
             }
            },
            "type": "scatterpolar"
           }
          ],
          "scatterpolargl": [
           {
            "marker": {
             "colorbar": {
              "outlinewidth": 0,
              "ticks": ""
             }
            },
            "type": "scatterpolargl"
           }
          ],
          "scatterternary": [
           {
            "marker": {
             "colorbar": {
              "outlinewidth": 0,
              "ticks": ""
             }
            },
            "type": "scatterternary"
           }
          ],
          "surface": [
           {
            "colorbar": {
             "outlinewidth": 0,
             "ticks": ""
            },
            "colorscale": [
             [
              0,
              "#0d0887"
             ],
             [
              0.1111111111111111,
              "#46039f"
             ],
             [
              0.2222222222222222,
              "#7201a8"
             ],
             [
              0.3333333333333333,
              "#9c179e"
             ],
             [
              0.4444444444444444,
              "#bd3786"
             ],
             [
              0.5555555555555556,
              "#d8576b"
             ],
             [
              0.6666666666666666,
              "#ed7953"
             ],
             [
              0.7777777777777778,
              "#fb9f3a"
             ],
             [
              0.8888888888888888,
              "#fdca26"
             ],
             [
              1,
              "#f0f921"
             ]
            ],
            "type": "surface"
           }
          ],
          "table": [
           {
            "cells": {
             "fill": {
              "color": "#EBF0F8"
             },
             "line": {
              "color": "white"
             }
            },
            "header": {
             "fill": {
              "color": "#C8D4E3"
             },
             "line": {
              "color": "white"
             }
            },
            "type": "table"
           }
          ]
         },
         "layout": {
          "annotationdefaults": {
           "arrowcolor": "#2a3f5f",
           "arrowhead": 0,
           "arrowwidth": 1
          },
          "autotypenumbers": "strict",
          "coloraxis": {
           "colorbar": {
            "outlinewidth": 0,
            "ticks": ""
           }
          },
          "colorscale": {
           "diverging": [
            [
             0,
             "#8e0152"
            ],
            [
             0.1,
             "#c51b7d"
            ],
            [
             0.2,
             "#de77ae"
            ],
            [
             0.3,
             "#f1b6da"
            ],
            [
             0.4,
             "#fde0ef"
            ],
            [
             0.5,
             "#f7f7f7"
            ],
            [
             0.6,
             "#e6f5d0"
            ],
            [
             0.7,
             "#b8e186"
            ],
            [
             0.8,
             "#7fbc41"
            ],
            [
             0.9,
             "#4d9221"
            ],
            [
             1,
             "#276419"
            ]
           ],
           "sequential": [
            [
             0,
             "#0d0887"
            ],
            [
             0.1111111111111111,
             "#46039f"
            ],
            [
             0.2222222222222222,
             "#7201a8"
            ],
            [
             0.3333333333333333,
             "#9c179e"
            ],
            [
             0.4444444444444444,
             "#bd3786"
            ],
            [
             0.5555555555555556,
             "#d8576b"
            ],
            [
             0.6666666666666666,
             "#ed7953"
            ],
            [
             0.7777777777777778,
             "#fb9f3a"
            ],
            [
             0.8888888888888888,
             "#fdca26"
            ],
            [
             1,
             "#f0f921"
            ]
           ],
           "sequentialminus": [
            [
             0,
             "#0d0887"
            ],
            [
             0.1111111111111111,
             "#46039f"
            ],
            [
             0.2222222222222222,
             "#7201a8"
            ],
            [
             0.3333333333333333,
             "#9c179e"
            ],
            [
             0.4444444444444444,
             "#bd3786"
            ],
            [
             0.5555555555555556,
             "#d8576b"
            ],
            [
             0.6666666666666666,
             "#ed7953"
            ],
            [
             0.7777777777777778,
             "#fb9f3a"
            ],
            [
             0.8888888888888888,
             "#fdca26"
            ],
            [
             1,
             "#f0f921"
            ]
           ]
          },
          "colorway": [
           "#636efa",
           "#EF553B",
           "#00cc96",
           "#ab63fa",
           "#FFA15A",
           "#19d3f3",
           "#FF6692",
           "#B6E880",
           "#FF97FF",
           "#FECB52"
          ],
          "font": {
           "color": "#2a3f5f"
          },
          "geo": {
           "bgcolor": "white",
           "lakecolor": "white",
           "landcolor": "#E5ECF6",
           "showlakes": true,
           "showland": true,
           "subunitcolor": "white"
          },
          "hoverlabel": {
           "align": "left"
          },
          "hovermode": "closest",
          "mapbox": {
           "style": "light"
          },
          "paper_bgcolor": "white",
          "plot_bgcolor": "#E5ECF6",
          "polar": {
           "angularaxis": {
            "gridcolor": "white",
            "linecolor": "white",
            "ticks": ""
           },
           "bgcolor": "#E5ECF6",
           "radialaxis": {
            "gridcolor": "white",
            "linecolor": "white",
            "ticks": ""
           }
          },
          "scene": {
           "xaxis": {
            "backgroundcolor": "#E5ECF6",
            "gridcolor": "white",
            "gridwidth": 2,
            "linecolor": "white",
            "showbackground": true,
            "ticks": "",
            "zerolinecolor": "white"
           },
           "yaxis": {
            "backgroundcolor": "#E5ECF6",
            "gridcolor": "white",
            "gridwidth": 2,
            "linecolor": "white",
            "showbackground": true,
            "ticks": "",
            "zerolinecolor": "white"
           },
           "zaxis": {
            "backgroundcolor": "#E5ECF6",
            "gridcolor": "white",
            "gridwidth": 2,
            "linecolor": "white",
            "showbackground": true,
            "ticks": "",
            "zerolinecolor": "white"
           }
          },
          "shapedefaults": {
           "line": {
            "color": "#2a3f5f"
           }
          },
          "ternary": {
           "aaxis": {
            "gridcolor": "white",
            "linecolor": "white",
            "ticks": ""
           },
           "baxis": {
            "gridcolor": "white",
            "linecolor": "white",
            "ticks": ""
           },
           "bgcolor": "#E5ECF6",
           "caxis": {
            "gridcolor": "white",
            "linecolor": "white",
            "ticks": ""
           }
          },
          "title": {
           "x": 0.05
          },
          "xaxis": {
           "automargin": true,
           "gridcolor": "white",
           "linecolor": "white",
           "ticks": "",
           "title": {
            "standoff": 15
           },
           "zerolinecolor": "white",
           "zerolinewidth": 2
          },
          "yaxis": {
           "automargin": true,
           "gridcolor": "white",
           "linecolor": "white",
           "ticks": "",
           "title": {
            "standoff": 15
           },
           "zerolinecolor": "white",
           "zerolinewidth": 2
          }
         }
        },
        "title": {
         "text": "UMAP Projection of Article Embeddings"
        },
        "width": 800
       }
      },
      "image/png": "[encoded data removed]",
      "text/html": [
       "<div>                            <div id=\"afdfab31-dae9-40ef-9d9f-bb6c33c1523e\" class=\"plotly-graph-div\" style=\"height:800px; width:800px;\"></div>            <script type=\"text/javascript\">                require([\"plotly\"], function(Plotly) {                    window.PLOTLYENV=window.PLOTLYENV || {};                                    if (document.getElementById(\"afdfab31-dae9-40ef-9d9f-bb6c33c1523e\")) {                    Plotly.newPlot(                        \"afdfab31-dae9-40ef-9d9f-bb6c33c1523e\",                        [{\"customdata\":[[\"Earth Defense Force 6 on PS5, PS4, PC via Steam: Release date, key features of video game\",\"bank_rbi_loan_credit_banks\"],[\"Google to make passwords obsolete? Here\\u2019s what the tech giant is planning with passkeys\",\"bank_rbi_loan_credit_banks\"],[\"'Messi Meets America' Documentary Series: Here\\u2019s release schedule, streaming platform and everything you m\",\"air_flight_airport_air india_aviation\"],[\"Bruce Willis is 'not totally verbal' as dementia progresses\",\"bank_rbi_loan_credit_banks\"],[\"Cristiano Ronaldo's Portugal vs Slovakia Euro 2024 Qualifiers live streaming: When and where to watch\",\"air_flight_airport_air india_aviation\"],[\"US Secy Blinken highlights civilian suffering, security concerns amid Israel-Hamas war\",\"air_flight_airport_air india_aviation\"],[\"\\u2018Please Don't Destroy: The Treasure of Foggy Mountain\\u2019: See release date, cast, storyline, trailer, stream\",\"bank_rbi_loan_credit_banks\"],[\"'Lessons in Chemistry': How to watch and what you need to know\",\"bank_rbi_loan_credit_banks\"],[\"NCLAT sets aside order directing RIL to get stakeholders nod for transfer of RPPMSL's Digital EPC assets\",\"air_flight_airport_air india_india\"],[\"IOC suspends Russian Olympic Committee for incorporating Ukrainian sports regions\",\"cr_ipo_rs_crore_firms\"],[\"Hamas urges global relief organisations to send vital supplies to Gaza\",\"air_flight_airport_air india_aviation\"],[\"Hamas urges global relief organisations to send vital supplies to Gaza\",\"air_flight_airport_air india_aviation\"],[\"'Messi Meets America' Documentary Series: Here\\u2019s release schedule, streaming platform and everything you m\",\"air_flight_airport_air india_aviation\"],[\"Who was Rudolph Isley? Know on Isley Brothers\\u2019 founding member and his legacy\",\"bank_rbi_loan_credit_banks\"],[\"PinkPantheress\\u2019s Debut Album 'Heaven Knows': Here\\u2019s release date and more\",\"bank_rbi_loan_credit_banks\"],[\"IOC suspends Russian Olympic Committee for incorporating Ukrainian sports regions\",\"cr_ipo_rs_crore_firms\"],[\"Sebi comes out with guidelines for exchanges' MDs, CEOs to boost cyber security\",\"sebi_case_case sebi_entities_disclosure\"],[\"PinkPantheress\\u2019s Debut Album 'Heaven Knows': Here\\u2019s release date and more\",\"bank_rbi_loan_credit_banks\"],[\"El Nino unlikely to cause sugar shortage in India: NFCSF\",\"trade_exports_uk_fta_india\"],[\"\\u2018The Crown\\u2019 Season 6: Which years the final season may cover?\",\"oil_gas_ongc_energy_transition\"],[\"Empowering education: Study24x7's unique approach to social learning\",\"bank_rbi_loan_credit_banks\"],[\"Apollo Tyres expects double-digit revenue growth in FY24\",\"inflation_growth_rate_fed_fy24\"],[\"Earth Defense Force 6 on PS5, PS4, PC via Steam: Release date, key features of video game\",\"bank_rbi_loan_credit_banks\"],[\"The Callisto Protocol: Check out the complete voice cast and more\",\"bank_rbi_loan_credit_banks\"],[\"Spy X Family Season 2 Episode 2: Bond's survival strategy unveiled! Release date and more\",\"bank_rbi_loan_credit_banks\"],[\"Capturing the Solar Eclipse on your phone camera: Tips and precautions\",\"bank_rbi_loan_credit_banks\"],[\"Spy X Family Season 2 Episode 2: Bond's survival strategy unveiled! Release date and more\",\"bank_rbi_loan_credit_banks\"],[\"US Secy Blinken highlights civilian suffering, security concerns amid Israel-Hamas war\",\"air_flight_airport_air india_aviation\"],[\"Mitski's 'My Love Mine All Mine' rises to TikTok Billboard Top 50\",\"bank_rbi_loan_credit_banks\"],[\"Automobile retail sales see double-digit growth in FY23; PV offtake at record high\",\"sales_electric_ev_units_vehicles\"],[\"'Lessons in Chemistry': How to watch and what you need to know\",\"bank_rbi_loan_credit_banks\"],[\"The Spencer Sisters Season 1: Know cast, storyline, release schedule, streaming platform and more\",\"bank_rbi_loan_credit_banks\"],[\"Cristiano Ronaldo's Portugal vs Slovakia Euro 2024 Qualifiers live streaming: When and where to watch\",\"air_flight_airport_air india_aviation\"],[\"Mitski's 'My Love Mine All Mine' rises to TikTok Billboard Top 50\",\"bank_rbi_loan_credit_banks\"],[\"\\u2018Blue Eye Samurai\\u2019: Here\\u2019s storyline, cast, trailer, release date and streaming platform of upcoming anime\",\"bank_rbi_loan_credit_banks\"],[\"\\u2018Please Don't Destroy: The Treasure of Foggy Mountain\\u2019: See release date, cast, storyline, trailer, stream\",\"bank_rbi_loan_credit_banks\"],[\"The Spencer Sisters Season 1: Know cast, storyline, release schedule, streaming platform and more\",\"bank_rbi_loan_credit_banks\"],[\"\\u200bHolly Willoughby set for career overhaul after exiting  This Morning \",\"bank_rbi_loan_credit_banks\"],[\"\\u200bHolly Willoughby set for career overhaul after exiting  This Morning \",\"bank_rbi_loan_credit_banks\"],[\"Bruce Willis is 'not totally verbal' as dementia progresses\",\"bank_rbi_loan_credit_banks\"],[\"Union Shipping Minister announces five initiatives to make India global leader in maritime sector\",\"ipo_adani_papers_papers sebi_power\"],[\"Empowering education: Study24x7's unique approach to social learning\",\"bank_rbi_loan_credit_banks\"],[\"\\u2018Blue Eye Samurai\\u2019: Here\\u2019s storyline, cast, trailer, release date and streaming platform of upcoming anime\",\"bank_rbi_loan_credit_banks\"],[\"Who was Rudolph Isley? Know on Isley Brothers\\u2019 founding member and his legacy\",\"bank_rbi_loan_credit_banks\"],[\"Capturing the Solar Eclipse on your phone camera: Tips and precautions\",\"bank_rbi_loan_credit_banks\"],[\"The Callisto Protocol: Check out the complete voice cast and more\",\"bank_rbi_loan_credit_banks\"],[\"\\u2018The Crown\\u2019 Season 6: Which years the final season may cover?\",\"oil_gas_ongc_energy_transition\"],[\"EAM Jaishankar meets WIPO director general, discusses making intellectual property more 'Global South frie\",\"metro_dmrc_bullet train_bullet_rail\"],[\"Jennifer Lopez, Ben Affleck visit Los Angeles market, McDonald's\",\"bank_rbi_loan_credit_banks\"],[\"Buy ICICI Prudential Life Insurance Company, target price Rs 550:  Motilal Oswal Financial Services \",\"crypto_target price_price rs_bitcoin_buy\"],[\"Jujutsu Kaisen Season 2 Episode 13: The upcoming Yuji vs Choso battle \\u2014 What to expect\",\"bank_rbi_loan_credit_banks\"],[\"Race for US House speaker in chaos as Republican nominee drops out\",\"oil_gas_ongc_energy_transition\"],[\"Microsoft-Activision Blizzard: Ubisoft reveals strategy\",\"bank_rbi_loan_credit_banks\"],[\"BSE sells stake in CDSL via bulk deal; Madhusudan Kela's wife Madhuri Kela buys in Sangam\",\"ipo_adani_papers_papers sebi_power\"],[\"Bel-Air Season 3: This is what we know so far\",\"bank_rbi_loan_credit_banks\"],[\"Scarlett Johansson makes 'powerful' remarks for Pamela Anderson's no-makeup appearance at Paris Fashion We\",\"bank_rbi_loan_credit_banks\"],[\"BSF shoots down Pakistani drone in Rajasthan\",\"rbi_bank_rbi imposes_penalty_imposes rs\"],[\"John Travolta pays tribute to late wife Kelly Preston. Here\\u2019s what happened\",\"bank_rbi_loan_credit_banks\"],[\"Halo World Championship 2023: Schedule, kick off time, teams\",\"air_flight_airport_air india_aviation\"],[\"IndiGrid raises Rs 1,140 cr via bonds\",\"ipo_adani_papers_papers sebi_power\"],[\"BSF shoots down Pakistani drone in Rajasthan\",\"rbi_bank_rbi imposes_penalty_imposes rs\"],[\"Halo World Championship 2023: Schedule, kick off time, teams\",\"air_flight_airport_air india_aviation\"],[\"John Travolta pays tribute to late wife Kelly Preston. Here\\u2019s what happened\",\"bank_rbi_loan_credit_banks\"],[\"Scarlett Johansson makes 'powerful' remarks for Pamela Anderson's no-makeup appearance at Paris Fashion We\",\"bank_rbi_loan_credit_banks\"],[\"Ashok Leyland partners with Aidrivers for autonomous electric terminal trucks\",\"crypto_target price_price rs_bitcoin_buy\"],[\"Crude steel output grows 4% in FY23\",\"coal_steel_mt_coal india_tata steel\"],[\"JPMorgan profit jumps 35%, but CEO says geopolitics and gov't inaction have led to 'dangerous time'\",\"crypto_target price_price rs_bitcoin_buy\"],[\"\\u2018Lisa Frankenstein\\u2019: Know cast, release date, storyline and more\",\"bank_rbi_loan_credit_banks\"],[\"JPMorgan profit jumps 35%, but CEO says geopolitics and gov't inaction have led to 'dangerous time'\",\"crypto_target price_price rs_bitcoin_buy\"],[\"RBI found excessive dominance by 1-2 board members even in big commercial banks: Das\",\"bank_rbi_loan_credit_banks\"],[\"American Horror Story: Delicate Part 2: Here\\u2019s what you may want to know\",\"bank_rbi_loan_credit_banks\"],[\"Parasitic, blood-sucking 'alien-like' wasp found in Amazon, eats host from inside out\",\"withdrawal_000 notes_rs 000_notes_upi\"],[\"'Monarch: Legacy of Monsters\\u2019: See release date, cast, trailer, storyline, streaming platform and more\",\"bank_rbi_loan_credit_banks\"],[\"The Walking Dead: The Ones Who Live - Release Window unveiled with new cast details | Here\\u2019s a sneak peek\",\"bank_rbi_loan_credit_banks\"],[\"'Monarch: Legacy of Monsters\\u2019: See release date, cast, trailer, storyline, streaming platform and more\",\"bank_rbi_loan_credit_banks\"],[\"Ease of doing business: DPIIT to help states in simplifying, decriminalising provisions\",\"gst_tax_pli_gst council_dpiit\"],[\"Zoom gets pan-India telecom licence\",\"air_flight_airport_air india_india\"],[\"American Horror Story: Delicate Part 2: Here\\u2019s what you may want to know\",\"bank_rbi_loan_credit_banks\"],[\"Sebi bans Excel Realty N Infra, 4 others from securities market for up to 2 years\",\"sebi_case_case sebi_entities_disclosure\"],[\"The Walking Dead: The Ones Who Live - Release Window unveiled with new cast details | Here\\u2019s a sneak peek\",\"bank_rbi_loan_credit_banks\"],[\"Parasitic, blood-sucking 'alien-like' wasp found in Amazon, eats host from inside out\",\"withdrawal_000 notes_rs 000_notes_upi\"],[\"Lords of the Fallen Sequel: See release date, platforms, gameplay, plot and more\",\"bank_rbi_loan_credit_banks\"],[\"Maruti Suzuki partners with Indian Bank to provide financing solutions to dealers\",\"sales_electric_ev_units_vehicles\"],[\"Kerala: Kochi Water Metro begins commercial operation\",\"vande_vande bharat_train_railway_bharat\"],[\"India's coal production grows 8.55 pc to 223 MT in Apr-Jun: Coal Ministry\",\"coal_steel_mt_coal india_tata steel\"],[\"Chip designer Arm targets $52 billion valuation in year's largest IPO\",\"stocks_52 week_52_week_nifty\"],[\"IRDAI working on three-pronged approach to ensure 'insurance for all by 2047'\",\"irdai_life_insurance_insurers_lic\"],[\"\\u2018Lisa Frankenstein\\u2019: Know cast, release date, storyline and more\",\"bank_rbi_loan_credit_banks\"],[\"Lords of the Fallen Sequel: See release date, platforms, gameplay, plot and more\",\"bank_rbi_loan_credit_banks\"],[\"Insolvency & Bankruptcy Code cannot be used as a tool for recovery; says NCLT\",\"air_flight_airport_air india_india\"],[\"AI Express flight faces technical problem, lands at Thiruvananthapuram; emergency declared at airport\",\"air_flight_airport_air india_india\"],[\"Govt launches GST reward scheme in 6 states, UTs; Rs 30 crore corpus for prize money\",\"gst_tax_pli_gst council_dpiit\"],[\"Ideaforge IPO: GMP signals strong investor interest ahead of subscription tomorrow\",\"ipo_adani_papers_papers sebi_power\"],[\"MoRTH plans to raise Rs 35,000 crore through asset monetisation this fiscal: Official\",\"projects_cr_fpis_rs_equities\"],[\"Colgate-Palmolive India Q4 profit down 2.3% to Rs 316.2cr, Sales up 4% to Rs 1,341.cr\",\"gold_silver_rs_results_profit\"],[\"Balrampur Chini bullish on growth, government push on ethanol\",\"trade_exports_uk_fta_india\"],[\"Audit reports gain immense significance by inducing action by executive: CAG Girish Chandra Murmu\",\"air_flight_airport_air india_india\"],[\"Over 8.75 lakh HUFs claimed Rs 3,803 crore tax deductions in 2022-23: Finance Ministry\",\"bank_rbi_loan_credit_banks\"],[\"Private equity funding in realty sector declined 20 per cent in January-June to $2.58 billion: Knight Fran\",\"projects_cr_fpis_rs_equities\"],[\"India's merchandise exports may cross USD 500 bn this fiscal: Exporters\",\"trade_exports_uk_fta_india\"],[\"Skygazers watch 'Ring of Fire' eclipse over Western Hemisphere\",\"bank_rbi_loan_credit_banks\"],[\"EPFO adds 17.9 lakh members in June\",\"pension_epfo_higher_eps_eps pension\"],[\"Skygazers watch 'Ring of Fire' eclipse over Western Hemisphere\",\"bank_rbi_loan_credit_banks\"],[\"'Aarti' performed at Delhi's Jhandewalan temple to mark first day of 'Navratri'\",\"bank_rbi_loan_credit_banks\"],[\"Chhattisgarh: World's longest Dussehra celebration begins in Bastar\",\"bank_rbi_loan_credit_banks\"],[\"ET Excellence Awards felicitates the finest entrepreneurs of Telugu states\",\"air_flight_airport_air india_india\"],[\"\\u2018Ring of fire\\u2019 Solar Eclipse: What can happen if you watch an eclipse with the naked eye?\",\"bank_rbi_loan_credit_banks\"],[\"Biden tells Netanyahu US working to ensure water, food, medicine for civilians: White House\",\"cr_ipo_rs_crore_firms\"],[\"Manchester United legend Cantona announces debut album ahead of sell-out tour\",\"air_flight_airport_air india_aviation\"],[\"Spy x Family Season 2 Episode 2: Release date, time, what to expect, where to watch\",\"bank_rbi_loan_credit_banks\"],[\"Gold falls Rs 80; silver declines Rs 400\",\"gold_silver_rs_results_profit\"],[\"Qatar's Sheikh Jassim withdraws bid to buy Manchester United\",\"air_flight_airport_air india_aviation\"],[\"Qatar's Sheikh Jassim withdraws bid to buy Manchester United\",\"air_flight_airport_air india_aviation\"],[\"Manchester United legend Cantona announces debut album ahead of sell-out tour\",\"air_flight_airport_air india_aviation\"],[\"Vizag Steel Plant logs highest ever monthly sales of value-added steel in August\",\"coal_steel_mt_coal india_tata steel\"],[\"Retail inflation for farm, rural workers eases marginally in August\",\"inflation_growth_rate_fed_fy24\"],[\"Irdai asks insurers to lay down social media norms for employees\",\"irdai_life_insurance_insurers_lic\"],[\"Reliance Power offers Rs 1,200 cr to settle debt of Butibori power project\",\"bank_rbi_loan_credit_banks\"],[\"\\u2018The Afterparty\\u2019: Netflix canceled the series after 2 seasons; What you need to know\",\"bank_rbi_loan_credit_banks\"],[\"Who is Nina Adgal? Know about Logan Paul\\u2019s fiance and their relationship timeline\",\"bank_rbi_loan_credit_banks\"],[\"New Umbrella Entity: Nothing innovative presented by applicants, says RBI\",\"bank_rbi_loan_credit_banks\"],[\"What is Logan Paul\\u2019s net worth? Here\\u2019s what you need to know about his ventures\",\"air_flight_airport_air india_aviation\"],[\"\\u2018The Afterparty\\u2019: Netflix canceled the series after 2 seasons; What you need to know\",\"bank_rbi_loan_credit_banks\"],[\"Halloween Candy: Which kind of candies are most unhealthy for your teeth? Here is everything you need to k\",\"withdrawal_000 notes_rs 000_notes_upi\"],[\"What is Logan Paul\\u2019s net worth? Here\\u2019s what you need to know about his ventures\",\"air_flight_airport_air india_aviation\"],[\"Goblin Slayer Season 2 Episode 3: Release date, time; All you need to know\",\"bank_rbi_loan_credit_banks\"],[\"Goblin Slayer Season 2 Episode 3: Release date, time; All you need to know\",\"bank_rbi_loan_credit_banks\"],[\"Halloween Candy: Which kind of candies are most unhealthy for your teeth? Here is everything you need to k\",\"withdrawal_000 notes_rs 000_notes_upi\"],[\"Aditya-L1 to reach Lagrange Point 1 by mid-January: ISRO Chief S Somnath\",\"fmcg_itc_hotels_growth_open\"],[\"PTC India signs two long-term agreements for 215 MW power purchase: CMD\",\"ipo_adani_papers_papers sebi_power\"],[\"Who is the highest paid footballer? Christiano Ronaldo, Lionel Messi and others; Check full list here\",\"air_flight_airport_air india_aviation\"],[\"Aditya-L1 to reach Lagrange Point 1 by mid-January: ISRO Chief S Somnath\",\"fmcg_itc_hotels_growth_open\"],[\"UCO Bank Q1 Results: Net profit jumps 80% YoY to Rs 223 crore\",\"gold_silver_rs_results_profit\"],[\"Who is the highest paid footballer? Christiano Ronaldo, Lionel Messi and others; Check full list here\",\"air_flight_airport_air india_aviation\"],[\"Fourth flight with 274 Indian nationals flies out from Israel\",\"rbi_bank_rbi imposes_penalty_imposes rs\"],[\"Fourth flight with 274 Indian nationals flies out from Israel\",\"rbi_bank_rbi imposes_penalty_imposes rs\"],[\"IndiGrid to acquire Virescent Renewable Energy Trust for up to Rs 4,000 cr\",\"energy_mw_power_solar_project\"],[\"CommMin asks depts to hold consultations with compnies on PLI issues\",\"gst_tax_pli_gst council_dpiit\"],[\"Gold jumps Rs 480 to lifetime high of Rs 61,780; silver climbs Rs 410\",\"gold_silver_rs_results_profit\"],[\"RBI imposes restrictions on Ahmedabad-based Colour Merchants Co-op Bank\",\"bank_rbi_loan_credit_banks\"],[\"Delhi HC dismisses plea against reduction in allowances of Air India pilots due to COVID-19\",\"air_flight_airport_air india_india\"],[\"BSP releases fourth list for MP elections\",\"bank_rbi_credit_hdfc_loan\"],[\"Unlocking the Power of People Strategy and Business Transformation: A Rare Opportunity for Business Leader\",\"air_flight_airport_air india_india\"],[\"Lupin Season 4 Update: Creator George Kay talks about next season; Here are the details\",\"bank_rbi_loan_credit_banks\"],[\"Rosmerta to set up 10 vehicle scrappage units, invest \\u20b9200 cr\",\"crypto_target price_price rs_bitcoin_buy\"],[\"UEFA EURO 2024 live streaming: Where to watch the qualifiers online? All you need to know\",\"air_flight_airport_air india_aviation\"],[\"National Cheese Curd Day: Where is Cheese Curd known to have originated from? All we know\",\"bank_rbi_loan_credit_banks\"],[\"Demon Slayer Season 4: What you need to know\",\"bank_rbi_loan_credit_banks\"],[\"Demon Slayer Season 4: What you need to know\",\"bank_rbi_loan_credit_banks\"],[\"CEAT Q1 Results: Net profit jumps multi-fold to Rs 144 crore\",\"gold_silver_rs_results_profit\"],[\"Lupin Season 4 Update: Creator George Kay talks about next season; Here are the details\",\"bank_rbi_loan_credit_banks\"],[\"UEFA EURO 2024 live streaming: Where to watch the qualifiers online? All you need to know\",\"air_flight_airport_air india_aviation\"],[\"Jio building entire ecosystem for Jio Bharat phone in India for supply chain, assembly: Kiran Thomas\",\"air_flight_airport_air india_india\"],[\"Rosmerta to set up 10 vehicle scrappage units, invest \\u20b9200 cr\",\"crypto_target price_price rs_bitcoin_buy\"],[\"National Cheese Curd Day: Where is Cheese Curd known to have originated from? All we know\",\"bank_rbi_loan_credit_banks\"],[\"HDFC Bank share price in focus ahead of Q2 results today; here\\u2019s what to expect | Mint\",\"crypto_target price_price rs_bitcoin_buy\"],[\"Reliance Power Share Price Live blog for 16 Oct 2023 | Mint\",\"oil_gas_ongc_energy_transition\"],[\"Apollo Hospital Share Price Live blog for 16 Oct 2023 | Mint\",\"oil_gas_ongc_energy_transition\"],[\"Rail Vikas Nigam Share Price Live blog for 16 Oct 2023 | Mint\",\"oil_gas_ongc_energy_transition\"],[\"RBI rate cut possible only after July 2024: Icra\",\"inflation_growth_rate_fed_fy24\"],[\"Sbi Life Share Price Live blog for 16 Oct 2023 | Mint\",\"oil_gas_ongc_energy_transition\"],[\"7 essential questions you must ask before seeking a personal loan | Mint\",\"crypto_target price_price rs_bitcoin_buy\"],[\"ICICI Prudential Life Insurance Share Price Live blog for 16 Oct 2023 | Mint\",\"oil_gas_ongc_energy_transition\"],[\"Elon Musk's SpaceX Partners with Qatar Airways: Free 350Mbps Starlink WiFi for Passengers | Mint\",\"fmcg_itc_hotels_growth_open\"],[\"Rupee gains 2 paise to close at 81.78 against US dollar\",\"dollar_rupee_paise_dollar rupee_82\"],[\"Wipro Share Price Live blog for 16 Oct 2023 | Mint\",\"oil_gas_ongc_energy_transition\"],[\"Mphasis Q1 Results: PAT dip 1.4% YoY to Rs 396 crore\",\"gold_silver_rs_results_profit\"],[\"MMTC Share Price Live blog for 16 Oct 2023 | Mint\",\"oil_gas_ongc_energy_transition\"],[\"T For Travel and not Tiring-Trouble-Turbulence only with a Travel Insurance\",\"bank_rbi_loan_credit_banks\"],[\"Icici Bank Share Price Live blog for 16 Oct 2023 | Mint\",\"oil_gas_ongc_energy_transition\"],[\"Paytm Share Price Live blog for 16 Oct 2023 | Mint\",\"oil_gas_ongc_energy_transition\"],[\"Reliance Infrastructure Share Price Live blog for 16 Oct 2023 | Mint\",\"oil_gas_ongc_energy_transition\"],[\"Gold rises Rs 100; silver remains flat\",\"gold_silver_rs_results_profit\"],[\"Divis Lab Share Price Live blog for 16 Oct 2023 | Mint\",\"oil_gas_ongc_energy_transition\"],[\"Axis Bank Share Price Live blog for 16 Oct 2023 | Mint\",\"oil_gas_ongc_energy_transition\"],[\"Delhi govt, MCD, DDA asked to explain construction of housing project in Southern Ridge forest\",\"bank_rbi_loan_credit_banks\"],[\"Coffee Day Enterprises Share Price Live blog for 16 Oct 2023 | Mint\",\"oil_gas_ongc_energy_transition\"],[\"Sebi orders attachment of bank, demat, MF accounts of Videocon's Dhoot to recover dues\",\"sebi_case_case sebi_entities_disclosure\"],[\"Resolutions under insolvency law likely to touch 300 this year: IBBI chief\",\"air_flight_airport_air india_india\"],[\"Jio Financial Services Share Price Live blog for 16 Oct 2023 | Mint\",\"oil_gas_ongc_energy_transition\"],[\"Vegetable prices likely to cool down next month, rising crude a concern: FinMin official\",\"inflation_growth_rate_fed_fy24\"],[\"Adani to raise $3.5 bn from share sale in three group cos\",\"ipo_adani_papers_papers sebi_power\"],[\"India's Think360 make top AI Fintech Companies List\",\"air_flight_airport_air india_india\"],[\"Deadline for mandatory use of Aadhaar-based payment for MGNREGA workers not to be extended beyond Aug 31\",\"bank_rbi_loan_credit_banks\"],[\"Large corporates will never be allowed to open a bank in India: N Vaghul\",\"bank_rbi_loan_credit_banks\"],[\"Godrej Properties Q1 Results: Profit jumps nearly 3-fold to Rs 125 crore; sale bookings down 11%\",\"projects_cr_fpis_rs_equities\"],[\"Dr Reddy's to enhance presence in emerging segments like nutraceuticals, gene therapy\",\"drug_usfda_gets_pharma_gets usfda\"],[\"Ultracab India Share Price Live blog for 16 Oct 2023 | Mint\",\"oil_gas_ongc_energy_transition\"],[\"Hcl Tech Share Price Live blog for 16 Oct 2023 | Mint\",\"oil_gas_ongc_energy_transition\"],[\"Persistent Systems Share Price Live blog for 16 Oct 2023 | Mint\",\"oil_gas_ongc_energy_transition\"],[\"Vedanta Share Price Live blog for 16 Oct 2023 | Mint\",\"oil_gas_ongc_energy_transition\"],[\"Eicher Motors Share Price Live blog for 16 Oct 2023 | Mint\",\"oil_gas_ongc_energy_transition\"],[\"LTI Mindtree Share Price Live blog for 16 Oct 2023 | Mint\",\"oil_gas_ongc_energy_transition\"],[\"JSW Group in talks with MG Motor India, BYD India to pick up stake\",\"sales_electric_ev_units_vehicles\"],[\"Dolly Khanna raises stake in multibagger stock despite 105% rally in YTD | Mint\",\"oil_gas_ongc_energy_transition\"],[\"Chetak EV domestic sales grow over 4-fold in FY23: Bajaj Auto\",\"sales_electric_ev_units_vehicles\"],[\"Infosys earnings shocker wipes off Rs 73,000 crore from company's market cap\",\"firms_mcap_valued_valued firms_10 valued\"],[\"RBI working on light weight, portable payment system for critical transactions during catastrophic events\",\"bank_rbi_loan_credit_banks\"],[\"RBI cancels licence of Mumbai-based 'The Kapol Co-operative Bank'\",\"bank_rbi_loan_credit_banks\"],[\"Deeper participation in global value chains to help India add $1.2 tn to foreign trade by 2030: GTRI repor\",\"trade_exports_uk_fta_india\"],[\"Delhi government places order for 2,026 e-buses\",\"sales_electric_ev_units_vehicles\"],[\"Sebi issues advertisement code for investment advisers, research analysts\",\"sebi_case_case sebi_entities_disclosure\"],[\"UBS completes takeover of Credit Suisse\",\"bank_rbi_loan_credit_banks\"],[\"Airbnb inks pact with tourism ministry to promote heritage stays, cultural tourism\",\"inflation_growth_rate_fed_fy24\"],[\"Asian Paint Share Price Live blog for 16 Oct 2023 | Mint\",\"oil_gas_ongc_energy_transition\"],[\"5Paisa Capital Share Price Live blog for 16 Oct 2023 | Mint\",\"oil_gas_ongc_energy_transition\"],[\"Bajaj Finserv Share Price Live blog for 16 Oct 2023 | Mint\",\"oil_gas_ongc_energy_transition\"],[\"Sbi Share Price Live blog for 16 Oct 2023 | Mint\",\"oil_gas_ongc_energy_transition\"],[\"NTPC, Oil India ink pact to explore collaborations in renewable energy, hydrogen space\",\"energy_mw_power_solar_project\"],[\"Rs 200 LPG price cut on oil companies, government unlikely to give subsidy\",\"oil_gas_ongc_energy_transition\"],[\"Centre for second PLI scheme for processing millet-based foods: Food Processing Secretary\",\"trade_exports_uk_fta_india\"],[\"Jaiprakash Associates defaults on Rs 3,961-crore loans on May 31\",\"bank_rbi_loan_credit_banks\"],[\"US welcomes India's move of reducing tariffs on agricultural products\",\"trade_exports_uk_fta_india\"],[\"Srinagar-bound SpiceJet flight returns to Delhi airport due to false warning in cockpit\",\"air_flight_airport_air india_india\"],[\"Sparsh Hospitals group opens three new specialities in Bengaluru\",\"inflation_growth_rate_fed_fy24\"],[\"India, US discuss ways to promote trade, investments\",\"trade_exports_uk_fta_india\"],[\"First Rupee trade shipment from Petrapole border to Bangladesh\",\"trade_exports_uk_fta_india\"],[\"L&T's construction arm bags multiple EPC orders in domestic market\",\"projects_cr_fpis_rs_equities\"],[\"Customs to introduce additional disclosures for export-import of medicinal products from July 1\",\"trade_exports_uk_fta_india\"],[\"DST report favours support to innovation even in case of failure\",\"gst_tax_pli_gst council_dpiit\"],[\"Air India puts together 'huge financing deal' for new fleet: CEO Campbell Wilson\",\"air_flight_airport_air india_india\"],[\"Yes Bank Share Price Live blog for 16 Oct 2023 | Mint\",\"crypto_target price_price rs_bitcoin_buy\"],[\"Erratic rainfall may lead to higher inflation in near term: BoB research\",\"inflation_growth_rate_fed_fy24\"],[\"Azad Engineering files Rs 740-cr IPO papers with Sebi\",\"ipo_adani_papers_papers sebi_power\"],[\"India's renewable energy ambitions could exceed 500 GW, says ISA DG Ajay Mathur\",\"energy_mw_power_solar_project\"],[\"MBBS seats in India increase 110 per cent since 2014, Centre tells Lok Sabha\",\"air_flight_airport_air india_india\"],[\"Rupee gains 3 paise to close at 82.09 against US dollar\",\"dollar_rupee_paise_dollar rupee_82\"],[\"Sai Silks mobilises Rs 360 cr from anchor investors ahead of IPO\",\"ipo_adani_papers_papers sebi_power\"],[\"NRRI submits proposals for identification of 10 new rice varieties\",\"trade_exports_uk_fta_india\"],[\"Reliance hires 2.6L people in FY2022-23 as growth picks up\",\"inflation_growth_rate_fed_fy24\"],[\"Gem, jewellery exports fall 10.7 pc to Rs 22,693.41 cr in May\",\"trade_exports_uk_fta_india\"],[\"Texmaco Rail & Engineering Share Price Live blog for 16 Oct 2023 | Mint\",\"oil_gas_ongc_energy_transition\"],[\"Mazagon Dock Shipbuilders Share Price Live blog for 16 Oct 2023 | Mint\",\"oil_gas_ongc_energy_transition\"],[\"Hdfc Life Share Price Live blog for 16 Oct 2023 | Mint\",\"oil_gas_ongc_energy_transition\"],[\"Concord Biotech Share Price Live blog for 16 Oct 2023 | Mint\",\"oil_gas_ongc_energy_transition\"],[\"Hindustan Unilever Share Price Live blog for 16 Oct 2023 | Mint\",\"oil_gas_ongc_energy_transition\"],[\"Coal India concludes wage revision pact with non-executive workers; agrees on 25% hike in allowances\",\"coal_steel_mt_coal india_tata steel\"],[\"IMC constituted to supervise NARCL resolution plan for Srei group firms\",\"air_flight_airport_air india_india\"],[\"Syngene International Share Price Live blog for 16 Oct 2023 | Mint\",\"oil_gas_ongc_energy_transition\"],[\"Brightcom Group Share Price Live blog for 16 Oct 2023 | Mint\",\"oil_gas_ongc_energy_transition\"],[\"Has your bank account gone dormant? Here are 4 ways to reactivate it | Mint\",\"crypto_target price_price rs_bitcoin_buy\"],[\"EFC India starts 65,000 sq ft co-working centre in Noida to expand biz\",\"projects_cr_fpis_rs_equities\"],[\"Itc Share Price Live blog for 16 Oct 2023 | Mint\",\"oil_gas_ongc_energy_transition\"],[\"TCS Share Price Live blog for 16 Oct 2023 | Mint\",\"oil_gas_ongc_energy_transition\"],[\"Trident Share Price Live blog for 16 Oct 2023 | Mint\",\"oil_gas_ongc_energy_transition\"],[\"Powergrid Share Price Live blog for 16 Oct 2023 | Mint\",\"oil_gas_ongc_energy_transition\"],[\"Over 4 lakh hectares brought under natural farming in 8 states: Govt\",\"trade_exports_uk_fta_india\"],[\"Bajaj Finance Share Price Live blog for 16 Oct 2023 | Mint\",\"oil_gas_ongc_energy_transition\"],[\"Hero Motor Co Share Price Live blog for 16 Oct 2023 | Mint\",\"oil_gas_ongc_energy_transition\"],[\"Railway employees union demands productivity-linked bonus on the basis of 7th pay commission\",\"gst_tax_pli_gst council_dpiit\"],[\"Tata Consumer Share Price Live blog for 16 Oct 2023 | Mint\",\"oil_gas_ongc_energy_transition\"],[\"Infosys Share Price Live blog for 16 Oct 2023 | Mint\",\"oil_gas_ongc_energy_transition\"],[\"Tata Motors to remain focused on profitability, growth and cash flows: Chairman Chandrasekaran\",\"sales_electric_ev_units_vehicles\"],[\"TCI Express Share Price Live blog for 16 Oct 2023 | Mint\",\"oil_gas_ongc_energy_transition\"],[\"UTI Asset Management Company Share Price Live blog for 16 Oct 2023 | Mint\",\"oil_gas_ongc_energy_transition\"],[\"India and Bangladesh trade settlement in rupee will boost bilateral commerce: Sanjay Budhia\",\"trade_exports_uk_fta_india\"],[\"India to remove retaliatory customs duties on eight US products\",\"trade_exports_uk_fta_india\"],[\"Bearish MACD Crossover: Potential Investment Warnings for 7 Prominent Companies\",\"stocks_52 week_52_week_nifty\"],[\"India Sotheby's International Realty bags mandate to sell Rs 800 cr worth ultra-luxury apartments in Mumba\",\"projects_cr_fpis_rs_equities\"],[\"Domestic manufacturing of premium lighting products may double in 3 yrs: Official\",\"inflation_growth_rate_fed_fy24\"],[\"M-cap of seven of top 10 firms declines Rs 62,279 crore; Reliance biggest laggard\",\"firms_mcap_valued_valued firms_10 valued\"],[\"DVR share swap to cost Rs 100 crore: Tata Motors\",\"sales_electric_ev_units_vehicles\"],[\"No relief in Rs 10 lakh tax fine for not disclosing foreign assets\",\"bank_rbi_loan_credit_banks\"],[\"Ksolves India Share Price Live blog for 16 Oct 2023 | Mint\",\"oil_gas_ongc_energy_transition\"],[\"If fantasy games are OK, why not online betting?\",\"air_flight_airport_air india_india\"],[\"Have commenced dispensing CNG and PNG connections to households: IndianOil\",\"oil_gas_ongc_energy_transition\"],[\"Credit card default rises to Rs 4,072 crore in FY23\",\"bank_rbi_loan_credit_banks\"],[\"Coal production increased in 'big way' during FY22-FY23; supply improved: Icra\",\"coal_steel_mt_coal india_tata steel\"],[\"NCRTC to build pedestrian bridge at Anand Vihar RAPIDX Station\",\"vande_vande bharat_train_railway_bharat\"],[\"Domestic electric two wheeler industry to keep growing at fast clip: TVS Motor\",\"sales_electric_ev_units_vehicles\"],[\"Jodhpur-based Vishnu Prakash R Punglia Ltd files IPO papers with Sebi\",\"ipo_adani_papers_papers sebi_power\"],[\"Govt sets criteria for allocation of power from central pool to states, UTs\",\"energy_mw_power_solar_project\"],[\"Peak power demand met touches all-time high of 223.23 GW on June 9\",\"ipo_adani_papers_papers sebi_power\"],[\"India is not 'extractive economy' and is not pursuing 'narrow economic activities' in Africa: Jaishankar\",\"trade_exports_uk_fta_india\"],[\"Inflation slowing down personal consumption, affecting pvt investment: RBI bulletin\",\"inflation_growth_rate_fed_fy24\"],[\"Exhicon Events Media Solutions listed on BSE SME platform\",\"bank_rbi_loan_credit_banks\"],[\"Direct flight services from Kerala to Vietnam launched from Cochin International airport\",\"air_flight_airport_air india_india\"],[\"Finance Minister Nirmala Sitharaman asks RRBs to remove duplication of PMJDY accounts\",\"bank_rbi_loan_credit_banks\"],[\"India's economic growth projected to decelerate to 6% in 2023 from 6.6% in 2022: UN\",\"inflation_growth_rate_fed_fy24\"],[\"As many as 388 infra projects show cost overruns of Rs 4.65 lakh crore in July: MoSPI\",\"projects_cr_fpis_rs_equities\"],[\"Tata Power Share Price Live blog for 16 Oct 2023 | Mint\",\"oil_gas_ongc_energy_transition\"],[\"Go Digit Life Insurance gets Irdai nod to carry life insurance business in India\",\"irdai_life_insurance_insurers_lic\"],[\"Sebi enhances accountability of mutual fund' Trustees\",\"sebi_case_case sebi_entities_disclosure\"],[\"Tata Technologies to hire 1,000 women engineers to promote gender diversity\",\"sales_electric_ev_units_vehicles\"],[\"Covid jab Covovax as heterologous booster to be available on CoWIN soon; to cost Rs 225 per dose\",\"drug_usfda_gets_pharma_gets usfda\"],[\"Counter to Rahul Gandhi's Rs 20,000 cr claim:  Rahul Gandhi' says USD 2.6 bn stake sale money came in grou\",\"ipo_adani_papers_papers sebi_power\"],[\"Sterlite Power acquires Beawar Transmission to develop power project in Rajasthan\",\"energy_mw_power_solar_project\"],[\"Mcap of three of top-10 most-valued firms erodes by Rs 82,082.91 cr; Reliance biggest laggard\",\"firms_mcap_valued_valued firms_10 valued\"],[\"Union Bank of India simplifies Form 15G & H submission\",\"bank_rbi_loan_credit_banks\"],[\"Ukraine to allow Indian medical Students for 'state qualification exam' from India\",\"drug_usfda_gets_pharma_gets usfda\"],[\"77% telco execs expect improvement in revenue, margin from network transformation: Accenture study\",\"air_flight_airport_air india_india\"],[\"Yes Bank-DHFL scam: Court says nation is victim, denies bail to Pune-based realtor\",\"bank_rbi_loan_credit_banks\"],[\"Aurobindo Pharma Q1 profit up 10 pc at Rs 571 cr\",\"gold_silver_rs_results_profit\"],[\"DU rejigs UG admission norms for ECA, sports supernumerary seats\",\"air_flight_airport_air india_india\"],[\"Sebi grants final approval for proposed change in control of HDFC AMC, says HDFC Bank\",\"bank_rbi_loan_credit_banks\"],[\"Ultra Cem Co Share Price Live blog for 16 Oct 2023 | Mint\",\"oil_gas_ongc_energy_transition\"],[\"ONDC provides huge growth opportunities for financial services, manufacturing, e-commerce, agri sectors: D\",\"gst_tax_pli_gst council_dpiit\"],[\"Auto component industry reports highest turnover in FY23; aims to log double-digit growth this fiscal\",\"sales_electric_ev_units_vehicles\"],[\"CBSE to start 'post-result annual psychological counselling' from May 13\",\"air_flight_airport_air india_india\"],[\"HBSE Class 10th Result 2023: Date, time and how to check your results\",\"air_flight_airport_air india_india\"]],\"hovertemplate\":\"x=%{x}\\u003cbr\\u003ey=%{y}\\u003cbr\\u003ez=%{z}\\u003cbr\\u003earticle_title=%{customdata[0]}\\u003cbr\\u003ecluster_name=%{customdata[1]}\\u003cbr\\u003ecluster_id=%{marker.color}\\u003cextra\\u003e\\u003c\\u002fextra\\u003e\",\"legendgroup\":\"\",\"marker\":{\"color\":[203.0,203.0,185.0,203.0,185.0,161.0,203.0,203.0,195.0,205.0,161.0,161.0,185.0,203.0,203.0,205.0,149.0,203.0,199.0,194.0,203.0,206.0,203.0,203.0,203.0,203.0,203.0,161.0,203.0,207.0,203.0,203.0,185.0,203.0,203.0,203.0,203.0,203.0,203.0,203.0,192.0,203.0,203.0,203.0,203.0,203.0,194.0,146.0,203.0,191.0,203.0,194.0,203.0,192.0,203.0,203.0,188.0,203.0,185.0,192.0,188.0,185.0,203.0,203.0,191.0,213.0,191.0,203.0,191.0,203.0,203.0,180.0,203.0,203.0,203.0,181.0,195.0,203.0,149.0,203.0,180.0,203.0,207.0,186.0,213.0,173.0,126.0,203.0,203.0,195.0,195.0,181.0,192.0,183.0,218.0,199.0,195.0,203.0,183.0,199.0,203.0,145.0,203.0,203.0,203.0,195.0,203.0,205.0,185.0,203.0,218.0,185.0,185.0,185.0,213.0,206.0,126.0,203.0,203.0,203.0,203.0,185.0,203.0,180.0,185.0,203.0,203.0,180.0,176.0,192.0,185.0,176.0,218.0,185.0,188.0,188.0,130.0,181.0,218.0,203.0,195.0,201.0,195.0,203.0,191.0,185.0,203.0,203.0,203.0,218.0,203.0,185.0,195.0,191.0,203.0,191.0,194.0,194.0,194.0,206.0,194.0,191.0,194.0,176.0,112.0,194.0,218.0,194.0,203.0,194.0,194.0,194.0,218.0,194.0,194.0,203.0,194.0,149.0,195.0,194.0,206.0,192.0,195.0,203.0,203.0,183.0,182.0,194.0,194.0,194.0,194.0,194.0,194.0,207.0,194.0,207.0,121.0,203.0,203.0,199.0,207.0,149.0,203.0,206.0,194.0,194.0,194.0,194.0,130.0,194.0,199.0,203.0,199.0,195.0,206.0,199.0,199.0,183.0,199.0,181.0,195.0,191.0,206.0,192.0,130.0,195.0,112.0,192.0,199.0,206.0,199.0,194.0,194.0,194.0,194.0,194.0,213.0,195.0,194.0,194.0,191.0,183.0,194.0,194.0,194.0,194.0,199.0,194.0,194.0,181.0,194.0,194.0,207.0,194.0,194.0,199.0,199.0,173.0,183.0,206.0,121.0,207.0,203.0,194.0,195.0,194.0,203.0,213.0,186.0,207.0,192.0,130.0,192.0,199.0,206.0,203.0,195.0,203.0,206.0,183.0,194.0,126.0,149.0,207.0,182.0,192.0,130.0,121.0,203.0,182.0,195.0,203.0,218.0,195.0,203.0,194.0,181.0,207.0,195.0,195.0],\"coloraxis\":\"coloraxis\",\"symbol\":\"circle\",\"line\":{\"color\":\"DarkSlateGrey\",\"width\":0.5},\"opacity\":0.8,\"size\":5},\"mode\":\"markers\",\"name\":\"\",\"scene\":\"scene\",\"showlegend\":false,\"x\":[1.1749403476715088,8.580999374389648,3.1773195266723633,0.28687071800231934,3.3023595809936523,8.251701354980469,0.25655055046081543,0.38413891196250916,9.259611129760742,3.635810613632202,8.192227363586426,8.233122825622559,3.21903395652771,0.5686504244804382,2.8539490699768066,3.7094273567199707,8.431900978088379,2.8238651752471924,10.19340705871582,1.041269063949585,8.400615692138672,10.193705558776855,1.1517698764801025,0.10708052664995193,0.8649489283561707,9.620146751403809,0.8596525192260742,8.366660118103027,2.829554319381714,10.38422966003418,0.4226067364215851,0.2984813153743744,3.280513286590576,2.8185815811157227,0.1601245254278183,0.22761383652687073,0.3476039171218872,0.3332543969154358,0.32964131236076355,0.36657023429870605,9.73763656616211,8.428268432617188,0.07844401895999908,0.5662991404533386,9.61349868774414,0.0225664172321558,1.062099814414978,9.920087814331055,0.44064265489578247,7.968473434448242,0.6202371120452881,8.34978199005127,1.2025175094604492,8.775142669677734,1.1351168155670166,0.4225175976753235,8.432958602905273,0.4761976897716522,3.4014148712158203,9.625914573669434,8.403898239135742,3.395439624786377,0.49755826592445374,0.3948100507259369,10.178729057312012,10.61266803741455,9.484972953796387,0.007971670478582382,9.429041862487793,8.458858489990234,0.3367995619773865,0.9983767867088318,0.05942616984248161,0.21841533482074738,0.002407269086688757,9.309200286865234,8.865812301635742,0.4173331558704376,8.788684844970703,0.19385363161563873,0.9854434728622437,1.1413692235946655,9.838591575622559,9.1234130859375,10.584403038024902,9.053645133972168,8.310721397399902,-0.06038980185985565,1.1253056526184082,9.301061630249023,8.303058624267578,9.452301979064941,9.007014274597168,9.918590545654297,9.686556816101074,10.469304084777832,8.675251960754395,9.392965316772461,9.62868881225586,10.418452262878418,9.586870193481445,9.906542778015137,9.564701080322266,9.812969207763672,9.744271278381348,9.070781707763672,9.735075950622559,8.246230125427246,3.076012372970581,0.7900999784469604,8.232378005981445,3.212808609008789,3.181302309036255,3.0437519550323486,10.633007049560547,10.205789566040039,8.288086891174316,9.744044303894043,0.43454134464263916,2.3218042850494385,8.737171173095703,2.3902058601379395,0.5079351663589478,10.214127540588379,2.4221158027648926,0.9476225972175598,0.891446053981781,10.27439022064209,9.520339012145996,10.180744171142578,3.231860399246216,9.503252029418945,9.586263656616211,3.2241294384002686,8.304732322692871,8.355864524841309,10.088513374328613,9.588616371154785,8.193446159362793,8.896212577819824,8.496392250061035,9.580281257629395,8.429688453674316,0.9962610006332397,10.416994094848633,3.2924163341522217,10.248459815979004,0.9722957015037537,0.9801943898200989,9.664663314819336,1.0576550960540771,3.494302988052368,8.867533683776855,10.37093448638916,10.25228500366211,8.295088768005371,8.470418930053711,7.477759838104248,7.963909149169922,10.368051528930664,7.501186847686768,8.608059883117676,7.70781135559082,8.662846565246582,7.982187747955322,7.557614803314209,9.470525741577148,7.786465167999268,8.319101333618164,7.544979572296143,7.701265811920166,8.52500057220459,8.198838233947754,7.852545738220215,7.504272937774658,9.689360618591309,7.746230125427246,8.658926010131836,9.202255249023438,7.697753429412842,10.333388328552246,9.399182319641113,8.529487609863281,9.446821212768555,8.637319564819336,9.6657133102417,9.086694717407227,7.7838029861450195,7.994157791137695,8.05805492401123,7.996450901031494,7.571788311004639,7.741675853729248,10.051783561706543,8.80750560760498,10.121827125549316,8.536348342895508,9.020029067993164,8.756757736206055,10.048505783081055,9.87304401397705,8.378559112548828,8.053693771362305,9.669309616088867,7.889665126800537,7.607245922088623,7.800534725189209,7.672101020812988,10.197264671325684,10.112323760986328,10.017406463623047,9.528536796569824,10.168953895568848,8.34719181060791,9.275518417358398,10.16093635559082,10.251133918762207,9.892894744873047,10.040103912353516,9.276551246643066,8.456012725830078,7.511974334716797,10.320878028869629,9.259021759033203,10.452923774719238,9.053629875183105,7.87716817855835,8.982514381408691,10.038811683654785,10.233376502990723,8.386502265930176,7.967081069946289,7.682802200317383,7.571667194366455,7.947890758514404,7.48576021194458,9.883478164672852,9.259239196777344,7.841799736022949,8.139433860778809,8.80556869506836,9.534632682800293,7.7615437507629395,7.973979949951172,7.6517181396484375,8.333069801330566,9.963525772094727,7.563069820404053,7.525440692901611,9.837309837341309,8.238903999328613,7.95258903503418,10.233023643493652,7.8638787269592285,7.545618057250977,10.14778995513916,10.243659019470215,8.58774185180664,9.83059310913086,9.894380569458008,8.452608108520508,10.220094680786133,9.171384811401367,7.825363636016846,8.361259460449219,9.890758514404297,9.064419746398926,10.621707916259766,9.546167373657227,10.169256210327148,9.65017032623291,9.06437873840332,10.530618667602539,10.087080001831055,10.288962364196777,8.365889549255371,8.50858211517334,9.22014045715332,10.450321197509766,10.02478313446045,8.322225570678711,8.282607078552246,8.453617095947266,9.407414436340332,8.62195110321045,9.173504829406738,10.212282180786133,8.529912948608398,8.933770179748535,8.172901153564453,8.818071365356445,8.834827423095703,9.53801441192627,8.832280158996582,8.23178482055664,7.6044602394104,9.025381088256836,10.457809448242188,7.959131717681885,7.858014106750488],\"y\":[6.507482528686523,6.270076751708984,6.966808319091797,6.5275444984436035,7.244740962982178,6.832672595977783,6.718201160430908,6.451186656951904,6.310937404632568,7.118625164031982,6.794802188873291,6.831536293029785,7.013760089874268,6.47067928314209,6.694019317626953,7.0691819190979,6.505054473876953,6.73949670791626,6.478883266448975,5.9879021644592285,6.996054172515869,7.953810691833496,6.520655155181885,6.739555835723877,6.47287654876709,6.7481913566589355,6.4440155029296875,6.950398921966553,6.669581890106201,7.6277594566345215,6.587100982666016,6.259002685546875,7.173877716064453,6.65939474105835,6.682881832122803,6.735569000244141,6.341890811920166,6.497281074523926,6.525970935821533,6.516379356384277,7.157869338989258,6.962579727172852,6.751339435577393,6.440258979797363,6.743823051452637,6.810149669647217,5.96497917175293,7.200921058654785,6.60741662979126,7.882784843444824,6.627110004425049,6.966602802276611,6.606277942657471,6.93113899230957,6.120669364929199,6.6899094581604,6.970541000366211,6.56447172164917,7.079807758331299,6.4529595375061035,6.9492034912109375,7.081105709075928,6.515666961669922,6.601815223693848,7.8987226486206055,7.177149772644043,8.336198806762695,6.810810565948486,8.349601745605469,6.517292499542236,6.39905309677124,6.483920097351074,6.822299480438232,6.522882461547852,6.83154821395874,6.117349624633789,7.21683406829834,6.3294172286987305,6.463032245635986,6.514669418334961,6.441899299621582,6.534760475158691,7.711629390716553,7.252473831176758,6.913638114929199,7.214625835418701,6.248239994049072,6.8662590980529785,6.49269962310791,6.352806568145752,6.899660110473633,6.08155632019043,7.129566669464111,6.6038923263549805,8.260273933410645,6.761925220489502,6.882205486297607,5.949689865112305,7.137814044952393,7.144710540771484,6.746853351593018,6.085717678070068,6.793308734893799,6.463616371154785,6.358118534088135,6.740396022796631,6.621119499206543,6.888233184814453,6.729404449462891,6.4992594718933105,8.804593086242676,6.7479400634765625,6.761836051940918,6.806764125823975,7.3683271408081055,6.170939922332764,6.226984024047852,6.614785671234131,6.2670111656188965,6.971135139465332,6.403044700622559,7.027126789093018,6.248033046722412,6.544955253601074,7.039336681365967,6.450809478759766,6.45975399017334,6.481725692749023,6.870431423187256,6.747249603271484,7.147170066833496,6.89035701751709,8.406481742858887,7.166537761688232,6.860565185546875,6.909903526306152,6.65877103805542,6.4947967529296875,8.768782615661621,6.068899631500244,6.709858417510986,6.6605544090271,7.0855302810668945,6.068557262420654,7.573958396911621,7.060760974884033,6.511483192443848,6.437950134277344,6.324307918548584,8.359498023986816,5.984699726104736,7.157294273376465,7.301864147186279,7.62758731842041,6.507500648498535,7.606393814086914,8.118151664733887,8.399725914001465,8.640359878540039,6.098875999450684,8.077032089233398,6.159793853759766,8.000191688537598,7.171133995056152,8.67032527923584,8.30711555480957,8.439765930175781,8.251747131347656,6.538609027862549,8.09952449798584,8.39334487915039,8.017005920410156,8.750563621520996,8.047197341918945,8.16364574432373,6.615829944610596,8.76812744140625,6.325810432434082,6.192046165466309,8.330011367797852,6.213384628295898,7.085124969482422,6.721573352813721,5.932135581970215,6.432886600494385,8.156096458435059,7.204246520996094,8.799590110778809,7.93992805480957,8.339393615722656,8.539827346801758,8.871378898620605,8.40885066986084,7.925605773925781,7.343171119689941,7.9551286697387695,8.008442878723145,6.0498762130737305,6.28611946105957,7.131908416748047,7.654585838317871,6.501696586608887,7.068946361541748,7.236886024475098,8.533555030822754,8.342446327209473,8.465167045593262,8.105050086975098,6.77039098739624,6.552781105041504,6.3434977531433105,6.581982612609863,6.63773250579834,6.830953121185303,7.1041131019592285,6.912937641143799,7.056044101715088,6.973562240600586,6.78045129776001,6.980380058288574,6.951383113861084,8.161612510681152,6.012298107147217,6.981801986694336,6.737308025360107,6.35921573638916,8.574806213378906,7.261088848114014,6.326254844665527,7.244624137878418,8.80606460571289,8.716691017150879,8.466148376464844,7.94271183013916,7.992835521697998,8.251280784606934,6.379042625427246,6.1901373863220215,8.135684967041016,8.102761268615723,5.883317947387695,7.119442462921143,7.905245780944824,8.299226760864258,8.471105575561523,8.216633796691895,6.221518039703369,8.328229904174805,8.979045867919922,6.225954055786133,8.115580558776855,8.14016342163086,8.046791076660156,8.331789016723633,8.759069442749023,7.136612415313721,6.755697250366211,7.67689323425293,7.260617256164551,7.360818386077881,7.849429130554199,7.744414806365967,6.185542583465576,8.357670783996582,6.270545959472656,6.6242499351501465,5.808979034423828,7.116959095001221,7.281242370605469,7.865005970001221,6.893176078796387,6.212179183959961,6.584883689880371,7.2764434814453125,6.150857925415039,6.890647888183594,7.009106636047363,6.139118194580078,6.719228267669678,6.4598307609558105,8.289259910583496,6.155019283294678,6.549314498901367,7.370328426361084,6.872091293334961,7.104178428649902,6.742079734802246,7.751233100891113,5.964773654937744,6.555297374725342,7.448908805847168,6.528626918792725,8.321464538574219,6.387511253356934,6.753603458404541,8.875091552734375,7.085461139678955,7.660834312438965,7.6142802238464355,7.718892574310303],\"z\":[-1.6933250427246094,5.283306121826172,0.03616467863321304,0.5048525929450989,-0.16192351281642914,2.82261061668396,-0.5413110256195068,-0.4814814627170563,5.988497257232666,-0.1888977438211441,2.7648088932037354,2.7273435592651367,-0.027175173163414,0.583885133266449,0.4513745605945587,-0.142835795879364,6.154945373535156,0.3992599844932556,3.2768263816833496,-0.8983973264694214,5.110092639923096,5.200664043426514,-1.6645618677139282,-1.4686658382415771,-0.8708563446998596,2.1442763805389404,-0.7909358143806458,2.721212148666382,0.48623591661453247,4.943796634674072,-0.41216710209846497,-0.7461879253387451,-0.15708646178245544,0.4980866014957428,-1.4140232801437378,-0.48863598704338074,-0.795716404914856,-0.3900223672389984,-0.3803107738494873,0.44873982667922974,4.223893642425537,5.082896709442139,-1.3567399978637695,0.5302231311798096,2.134450674057007,-1.3889236450195312,-0.9077461957931519,3.94812273979187,0.5353308916091919,7.5626702308654785,-1.278159260749817,2.654710531234741,-1.6624754667282104,6.530719757080078,-0.7641916275024414,0.5751074552536011,3.3160247802734375,0.5020209550857544,-0.3385791480541229,6.034987449645996,3.2849953174591064,-0.31811559200286865,0.5556745529174805,0.48104602098464966,4.943966388702393,4.882697105407715,5.807509422302246,-1.3385015726089478,5.830617904663086,5.719149112701416,-0.7789303660392761,-0.7302963733673096,-1.4045699834823608,-1.1980764865875244,-1.4209264516830444,5.698795795440674,5.032700061798096,-0.8725798726081848,6.242520332336426,-1.2461179494857788,-0.7112123370170593,-1.6467984914779663,4.939084053039551,4.128965377807617,4.898058891296387,6.613908290863037,5.448055267333984,-1.2930467128753662,-1.673148274421692,6.123937606811523,3.547508955001831,4.993991374969482,6.191064834594727,5.74699592590332,5.816803932189941,4.518996238708496,5.771658897399902,5.185445308685303,5.854088306427002,4.36560583114624,2.1454129219055176,4.935580253601074,2.1903343200683594,3.7072131633758545,3.849876880645752,5.255908966064453,2.0222649574279785,2.6800622940063477,0.3381803333759308,-1.206540584564209,6.8183674812316895,0.3554825782775879,0.3571058213710785,0.2841735780239105,5.04956579208374,4.411111831665039,5.6737165451049805,6.208385944366455,-0.8154177665710449,0.5476087927818298,5.395648002624512,0.5998789668083191,-0.8351902365684509,2.9451253414154053,0.6152530908584595,-1.416260838508606,-1.3538062572479248,2.9959700107574463,2.3610095977783203,5.728360176086426,-0.11652406305074692,2.3984012603759766,5.964917182922363,-0.12723876535892487,3.324152946472168,3.31294846534729,5.952500820159912,4.7867279052734375,6.915216445922852,5.5810651779174805,3.884244918823242,4.317501068115234,5.13612699508667,-0.9103242754936218,5.4208149909973145,-0.1617530882358551,2.9920318126678467,-1.4546338319778442,-1.3525274991989136,5.909303665161133,-0.8533081412315369,-0.2600612938404083,5.020978927612305,5.459504127502441,2.994645118713379,6.4848504066467285,7.963320732116699,8.34359359741211,8.151259422302246,4.374370098114014,7.912650108337402,5.24515438079834,7.723935604095459,3.667816638946533,7.022702693939209,7.96332311630249,6.10374116897583,8.317394256591797,4.122988224029541,7.882833003997803,8.30777359008789,7.7740020751953125,6.85207462310791,8.218932151794434,7.829641819000244,5.463141441345215,8.103202819824219,6.015405654907227,6.163369178771973,7.6075263023376465,4.435537338256836,6.371970176696777,5.543544769287109,4.981120586395264,5.69584846496582,5.9103312492370605,5.432837963104248,7.8844218254089355,8.298389434814453,8.107804298400879,7.967951774597168,7.982498645782471,8.336352348327637,5.100972652435303,6.355630397796631,5.056457042694092,7.087408065795898,5.169693946838379,5.620593070983887,4.323742389678955,4.861148834228516,6.198977947235107,5.920928001403809,4.360392093658447,8.049445152282715,7.674740314483643,8.017648696899414,8.03948974609375,5.072178840637207,4.808871746063232,4.434449672698975,6.213399887084961,4.058109760284424,3.525392770767212,5.5838541984558105,3.9342806339263916,4.0536208152771,5.59166145324707,4.084301471710205,5.0791778564453125,3.6218624114990234,7.656440258026123,4.460742473602295,6.487081050872803,4.89995813369751,4.331352710723877,7.1181206703186035,6.366885662078857,4.343746662139893,5.035301685333252,6.639123916625977,8.238241195678711,8.420696258544922,7.887967586517334,8.219914436340332,7.9706830978393555,4.962241172790527,6.105881214141846,7.977757930755615,7.625198841094971,5.378281116485596,5.746707916259766,8.098921775817871,8.199110984802246,8.287224769592285,8.214876174926758,4.312326431274414,7.7689008712768555,7.962386608123779,4.8297858238220215,7.864077568054199,7.752372741699219,5.190844535827637,8.304978370666504,7.816727161407471,4.14538049697876,4.0317606925964355,6.8750762939453125,5.913074493408203,4.72902774810791,7.098012447357178,5.662896156311035,5.943989276885986,7.773479461669922,5.637580394744873,4.70841121673584,5.622162818908691,4.964595794677734,5.002400875091553,4.905551433563232,6.241476535797119,4.9874348640441895,5.033074855804443,3.9377825260162354,4.789040565490723,6.434444427490234,3.5322699546813965,5.444149494171143,4.654209613800049,5.524775981903076,8.157710075378418,5.556159496307373,6.097783088684082,5.223541736602783,4.1088128089904785,6.258700847625732,5.853981971740723,6.999740123748779,5.39484167098999,3.3721764087677,5.109865188598633,6.106257438659668,6.017155170440674,4.721499919891357,6.225343704223633,7.83979606628418,5.298202991485596,5.003417491912842,6.368364334106445,6.532610893249512],\"type\":\"scatter3d\"}],                        {\"template\":{\"data\":{\"histogram2dcontour\":[{\"type\":\"histogram2dcontour\",\"colorbar\":{\"outlinewidth\":0,\"ticks\":\"\"},\"colorscale\":[[0.0,\"#0d0887\"],[0.1111111111111111,\"#46039f\"],[0.2222222222222222,\"#7201a8\"],[0.3333333333333333,\"#9c179e\"],[0.4444444444444444,\"#bd3786\"],[0.5555555555555556,\"#d8576b\"],[0.6666666666666666,\"#ed7953\"],[0.7777777777777778,\"#fb9f3a\"],[0.8888888888888888,\"#fdca26\"],[1.0,\"#f0f921\"]]}],\"choropleth\":[{\"type\":\"choropleth\",\"colorbar\":{\"outlinewidth\":0,\"ticks\":\"\"}}],\"histogram2d\":[{\"type\":\"histogram2d\",\"colorbar\":{\"outlinewidth\":0,\"ticks\":\"\"},\"colorscale\":[[0.0,\"#0d0887\"],[0.1111111111111111,\"#46039f\"],[0.2222222222222222,\"#7201a8\"],[0.3333333333333333,\"#9c179e\"],[0.4444444444444444,\"#bd3786\"],[0.5555555555555556,\"#d8576b\"],[0.6666666666666666,\"#ed7953\"],[0.7777777777777778,\"#fb9f3a\"],[0.8888888888888888,\"#fdca26\"],[1.0,\"#f0f921\"]]}],\"heatmap\":[{\"type\":\"heatmap\",\"colorbar\":{\"outlinewidth\":0,\"ticks\":\"\"},\"colorscale\":[[0.0,\"#0d0887\"],[0.1111111111111111,\"#46039f\"],[0.2222222222222222,\"#7201a8\"],[0.3333333333333333,\"#9c179e\"],[0.4444444444444444,\"#bd3786\"],[0.5555555555555556,\"#d8576b\"],[0.6666666666666666,\"#ed7953\"],[0.7777777777777778,\"#fb9f3a\"],[0.8888888888888888,\"#fdca26\"],[1.0,\"#f0f921\"]]}],\"heatmapgl\":[{\"type\":\"heatmapgl\",\"colorbar\":{\"outlinewidth\":0,\"ticks\":\"\"},\"colorscale\":[[0.0,\"#0d0887\"],[0.1111111111111111,\"#46039f\"],[0.2222222222222222,\"#7201a8\"],[0.3333333333333333,\"#9c179e\"],[0.4444444444444444,\"#bd3786\"],[0.5555555555555556,\"#d8576b\"],[0.6666666666666666,\"#ed7953\"],[0.7777777777777778,\"#fb9f3a\"],[0.8888888888888888,\"#fdca26\"],[1.0,\"#f0f921\"]]}],\"contourcarpet\":[{\"type\":\"contourcarpet\",\"colorbar\":{\"outlinewidth\":0,\"ticks\":\"\"}}],\"contour\":[{\"type\":\"contour\",\"colorbar\":{\"outlinewidth\":0,\"ticks\":\"\"},\"colorscale\":[[0.0,\"#0d0887\"],[0.1111111111111111,\"#46039f\"],[0.2222222222222222,\"#7201a8\"],[0.3333333333333333,\"#9c179e\"],[0.4444444444444444,\"#bd3786\"],[0.5555555555555556,\"#d8576b\"],[0.6666666666666666,\"#ed7953\"],[0.7777777777777778,\"#fb9f3a\"],[0.8888888888888888,\"#fdca26\"],[1.0,\"#f0f921\"]]}],\"surface\":[{\"type\":\"surface\",\"colorbar\":{\"outlinewidth\":0,\"ticks\":\"\"},\"colorscale\":[[0.0,\"#0d0887\"],[0.1111111111111111,\"#46039f\"],[0.2222222222222222,\"#7201a8\"],[0.3333333333333333,\"#9c179e\"],[0.4444444444444444,\"#bd3786\"],[0.5555555555555556,\"#d8576b\"],[0.6666666666666666,\"#ed7953\"],[0.7777777777777778,\"#fb9f3a\"],[0.8888888888888888,\"#fdca26\"],[1.0,\"#f0f921\"]]}],\"mesh3d\":[{\"type\":\"mesh3d\",\"colorbar\":{\"outlinewidth\":0,\"ticks\":\"\"}}],\"scatter\":[{\"fillpattern\":{\"fillmode\":\"overlay\",\"size\":10,\"solidity\":0.2},\"type\":\"scatter\"}],\"parcoords\":[{\"type\":\"parcoords\",\"line\":{\"colorbar\":{\"outlinewidth\":0,\"ticks\":\"\"}}}],\"scatterpolargl\":[{\"type\":\"scatterpolargl\",\"marker\":{\"colorbar\":{\"outlinewidth\":0,\"ticks\":\"\"}}}],\"bar\":[{\"error_x\":{\"color\":\"#2a3f5f\"},\"error_y\":{\"color\":\"#2a3f5f\"},\"marker\":{\"line\":{\"color\":\"#E5ECF6\",\"width\":0.5},\"pattern\":{\"fillmode\":\"overlay\",\"size\":10,\"solidity\":0.2}},\"type\":\"bar\"}],\"scattergeo\":[{\"type\":\"scattergeo\",\"marker\":{\"colorbar\":{\"outlinewidth\":0,\"ticks\":\"\"}}}],\"scatterpolar\":[{\"type\":\"scatterpolar\",\"marker\":{\"colorbar\":{\"outlinewidth\":0,\"ticks\":\"\"}}}],\"histogram\":[{\"marker\":{\"pattern\":{\"fillmode\":\"overlay\",\"size\":10,\"solidity\":0.2}},\"type\":\"histogram\"}],\"scattergl\":[{\"type\":\"scattergl\",\"marker\":{\"colorbar\":{\"outlinewidth\":0,\"ticks\":\"\"}}}],\"scatter3d\":[{\"type\":\"scatter3d\",\"line\":{\"colorbar\":{\"outlinewidth\":0,\"ticks\":\"\"}},\"marker\":{\"colorbar\":{\"outlinewidth\":0,\"ticks\":\"\"}}}],\"scattermapbox\":[{\"type\":\"scattermapbox\",\"marker\":{\"colorbar\":{\"outlinewidth\":0,\"ticks\":\"\"}}}],\"scatterternary\":[{\"type\":\"scatterternary\",\"marker\":{\"colorbar\":{\"outlinewidth\":0,\"ticks\":\"\"}}}],\"scattercarpet\":[{\"type\":\"scattercarpet\",\"marker\":{\"colorbar\":{\"outlinewidth\":0,\"ticks\":\"\"}}}],\"carpet\":[{\"aaxis\":{\"endlinecolor\":\"#2a3f5f\",\"gridcolor\":\"white\",\"linecolor\":\"white\",\"minorgridcolor\":\"white\",\"startlinecolor\":\"#2a3f5f\"},\"baxis\":{\"endlinecolor\":\"#2a3f5f\",\"gridcolor\":\"white\",\"linecolor\":\"white\",\"minorgridcolor\":\"white\",\"startlinecolor\":\"#2a3f5f\"},\"type\":\"carpet\"}],\"table\":[{\"cells\":{\"fill\":{\"color\":\"#EBF0F8\"},\"line\":{\"color\":\"white\"}},\"header\":{\"fill\":{\"color\":\"#C8D4E3\"},\"line\":{\"color\":\"white\"}},\"type\":\"table\"}],\"barpolar\":[{\"marker\":{\"line\":{\"color\":\"#E5ECF6\",\"width\":0.5},\"pattern\":{\"fillmode\":\"overlay\",\"size\":10,\"solidity\":0.2}},\"type\":\"barpolar\"}],\"pie\":[{\"automargin\":true,\"type\":\"pie\"}]},\"layout\":{\"autotypenumbers\":\"strict\",\"colorway\":[\"#636efa\",\"#EF553B\",\"#00cc96\",\"#ab63fa\",\"#FFA15A\",\"#19d3f3\",\"#FF6692\",\"#B6E880\",\"#FF97FF\",\"#FECB52\"],\"font\":{\"color\":\"#2a3f5f\"},\"hovermode\":\"closest\",\"hoverlabel\":{\"align\":\"left\"},\"paper_bgcolor\":\"white\",\"plot_bgcolor\":\"#E5ECF6\",\"polar\":{\"bgcolor\":\"#E5ECF6\",\"angularaxis\":{\"gridcolor\":\"white\",\"linecolor\":\"white\",\"ticks\":\"\"},\"radialaxis\":{\"gridcolor\":\"white\",\"linecolor\":\"white\",\"ticks\":\"\"}},\"ternary\":{\"bgcolor\":\"#E5ECF6\",\"aaxis\":{\"gridcolor\":\"white\",\"linecolor\":\"white\",\"ticks\":\"\"},\"baxis\":{\"gridcolor\":\"white\",\"linecolor\":\"white\",\"ticks\":\"\"},\"caxis\":{\"gridcolor\":\"white\",\"linecolor\":\"white\",\"ticks\":\"\"}},\"coloraxis\":{\"colorbar\":{\"outlinewidth\":0,\"ticks\":\"\"}},\"colorscale\":{\"sequential\":[[0.0,\"#0d0887\"],[0.1111111111111111,\"#46039f\"],[0.2222222222222222,\"#7201a8\"],[0.3333333333333333,\"#9c179e\"],[0.4444444444444444,\"#bd3786\"],[0.5555555555555556,\"#d8576b\"],[0.6666666666666666,\"#ed7953\"],[0.7777777777777778,\"#fb9f3a\"],[0.8888888888888888,\"#fdca26\"],[1.0,\"#f0f921\"]],\"sequentialminus\":[[0.0,\"#0d0887\"],[0.1111111111111111,\"#46039f\"],[0.2222222222222222,\"#7201a8\"],[0.3333333333333333,\"#9c179e\"],[0.4444444444444444,\"#bd3786\"],[0.5555555555555556,\"#d8576b\"],[0.6666666666666666,\"#ed7953\"],[0.7777777777777778,\"#fb9f3a\"],[0.8888888888888888,\"#fdca26\"],[1.0,\"#f0f921\"]],\"diverging\":[[0,\"#8e0152\"],[0.1,\"#c51b7d\"],[0.2,\"#de77ae\"],[0.3,\"#f1b6da\"],[0.4,\"#fde0ef\"],[0.5,\"#f7f7f7\"],[0.6,\"#e6f5d0\"],[0.7,\"#b8e186\"],[0.8,\"#7fbc41\"],[0.9,\"#4d9221\"],[1,\"#276419\"]]},\"xaxis\":{\"gridcolor\":\"white\",\"linecolor\":\"white\",\"ticks\":\"\",\"title\":{\"standoff\":15},\"zerolinecolor\":\"white\",\"automargin\":true,\"zerolinewidth\":2},\"yaxis\":{\"gridcolor\":\"white\",\"linecolor\":\"white\",\"ticks\":\"\",\"title\":{\"standoff\":15},\"zerolinecolor\":\"white\",\"automargin\":true,\"zerolinewidth\":2},\"scene\":{\"xaxis\":{\"backgroundcolor\":\"#E5ECF6\",\"gridcolor\":\"white\",\"linecolor\":\"white\",\"showbackground\":true,\"ticks\":\"\",\"zerolinecolor\":\"white\",\"gridwidth\":2},\"yaxis\":{\"backgroundcolor\":\"#E5ECF6\",\"gridcolor\":\"white\",\"linecolor\":\"white\",\"showbackground\":true,\"ticks\":\"\",\"zerolinecolor\":\"white\",\"gridwidth\":2},\"zaxis\":{\"backgroundcolor\":\"#E5ECF6\",\"gridcolor\":\"white\",\"linecolor\":\"white\",\"showbackground\":true,\"ticks\":\"\",\"zerolinecolor\":\"white\",\"gridwidth\":2}},\"shapedefaults\":{\"line\":{\"color\":\"#2a3f5f\"}},\"annotationdefaults\":{\"arrowcolor\":\"#2a3f5f\",\"arrowhead\":0,\"arrowwidth\":1},\"geo\":{\"bgcolor\":\"white\",\"landcolor\":\"#E5ECF6\",\"subunitcolor\":\"white\",\"showland\":true,\"showlakes\":true,\"lakecolor\":\"white\"},\"title\":{\"x\":0.05},\"mapbox\":{\"style\":\"light\"}}},\"scene\":{\"domain\":{\"x\":[0.0,1.0],\"y\":[0.0,1.0]},\"xaxis\":{\"title\":{\"text\":\"x\"}},\"yaxis\":{\"title\":{\"text\":\"y\"}},\"zaxis\":{\"title\":{\"text\":\"z\"}}},\"coloraxis\":{\"colorbar\":{\"title\":{\"text\":\"cluster_id\"}},\"colorscale\":[[0.0,\"rgb(229, 134, 6)\"],[0.1,\"rgb(93, 105, 177)\"],[0.2,\"rgb(82, 188, 163)\"],[0.3,\"rgb(153, 201, 69)\"],[0.4,\"rgb(204, 97, 176)\"],[0.5,\"rgb(36, 121, 108)\"],[0.6,\"rgb(218, 165, 27)\"],[0.7,\"rgb(47, 138, 196)\"],[0.8,\"rgb(118, 78, 159)\"],[0.9,\"rgb(237, 100, 90)\"],[1.0,\"rgb(165, 170, 153)\"]]},\"legend\":{\"tracegroupgap\":0},\"title\":{\"text\":\"UMAP Projection of Article Embeddings\"},\"height\":800,\"width\":800},                        {\"responsive\": true}                    ).then(function(){\n",
       "                            \n",
       "var gd = document.getElementById('afdfab31-dae9-40ef-9d9f-bb6c33c1523e');\n",
       "var x = new MutationObserver(function (mutations, observer) {{\n",
       "        var display = window.getComputedStyle(gd).display;\n",
       "        if (!display || display === 'none') {{\n",
       "            console.log([gd, 'removed!']);\n",
       "            Plotly.purge(gd);\n",
       "            observer.disconnect();\n",
       "        }}\n",
       "}});\n",
       "\n",
       "// Listen for the removal of the full notebook cells\n",
       "var notebookContainer = gd.closest('#notebook-container');\n",
       "if (notebookContainer) {{\n",
       "    x.observe(notebookContainer, {childList: true});\n",
       "}}\n",
       "\n",
       "// Listen for the clearing of the current output cell\n",
       "var outputEl = gd.closest('.output');\n",
       "if (outputEl) {{\n",
       "    x.observe(outputEl, {childList: true});\n",
       "}}\n",
       "\n",
       "                        })                };                });            </script>        </div>"
      ]
     },
     "metadata": {},
     "output_type": "display_data"
    }
   ],
   "source": [
    "# Step 3: Create the Plotly visualization\n",
    "fig = px.scatter_3d(\n",
    "    plot_df,\n",
    "    x='x',\n",
    "    y='y',\n",
    "    z ='z',\n",
    "    color='cluster_id',  # this will give each cluster a distinct color\n",
    "    hover_data=['article_title', 'cluster_name'],  # info to display on hover\n",
    "    labels={'x': 'x', 'y': 'y', 'z': 'z'},  # axes labels\n",
    "    title='UMAP Projection of Article Embeddings',\n",
    "    color_continuous_scale=px.colors.qualitative.Vivid,  # you can choose any other palette or even customize it,\n",
    "    width=800,  # Adjusting dimensions for a more square-like appearance\n",
    "    height=800\n",
    ")\n",
    "\n",
    "fig.update_traces(marker=dict(size=5, opacity=0.8, line=dict(width=0.5, color='DarkSlateGrey')),\n",
    "                  selector=dict(mode='markers'))\n",
    "\n",
    "fig.show()"
   ]
  },
  {
   "cell_type": "code",
   "execution_count": null,
   "id": "0750a2c6-78f2-4c00-9629-164ea6c503a5",
   "metadata": {},
   "outputs": [],
   "source": [
    "import umap\n",
    "import numpy as np\n",
    "import matplotlib.pyplot as plt\n",
    "\n",
    "# Assuming 'embeddings' is your set of high-dimensional data points (numpy array)\n",
    "# and 'labels' is an array-like containing the cluster labels.\n",
    "\n",
    "# Step 1: Reduce dimensionality with UMAP\n",
    "reducer = umap.UMAP()\n",
    "embedding_2d = reducer.fit_transform(embeddings)\n",
    "\n",
    "# Step 2: Plot with matplotlib, color-coded based on 'labels'\n",
    "plt.figure(figsize=(12, 8))\n",
    "\n",
    "# Create a scatter plot. Each cluster label will automatically receive a different color.\n",
    "for cluster_label in np.unique(labels):\n",
    "    indices = np.where(labels == cluster_label)\n",
    "    plt.scatter(embedding_2d[indices, 0], embedding_2d[indices, 1], label=cluster_label)\n",
    "\n",
    "plt.title('2D UMAP Projection of Embeddings')\n",
    "plt.xlabel('UMAP1')\n",
    "plt.ylabel('UMAP2')\n",
    "plt.legend(title='Clusters')\n",
    "plt.grid(True)\n",
    "plt.show()\n"
   ]
  }
 ],
 "metadata": {
  "kernelspec": {
   "display_name": "recoenv",
   "language": "python",
   "name": "recoenv"
  },
  "language_info": {
   "codemirror_mode": {
    "name": "ipython",
    "version": 3
   },
   "file_extension": ".py",
   "mimetype": "text/x-python",
   "name": "python",
   "nbconvert_exporter": "python",
   "pygments_lexer": "ipython3",
   "version": "3.11.5"
  }
 },
 "nbformat": 4,
 "nbformat_minor": 5
}
