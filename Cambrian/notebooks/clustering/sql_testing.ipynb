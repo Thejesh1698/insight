{
 "cells": [
  {
   "cell_type": "code",
   "execution_count": 1,
   "id": "32cb2df7-f1f7-4711-be52-bdd7a78c0658",
   "metadata": {},
   "outputs": [
    {
     "name": "stderr",
     "output_type": "stream",
     "text": [
      "/var/folders/d4/cgyr_gnj7nn2wy_hq40gkq8c0000gq/T/ipykernel_98595/1083430745.py:4: UserWarning: \n",
      "The version_base parameter is not specified.\n",
      "Please specify a compatability version level, or None.\n",
      "Will assume defaults for version 1.1\n",
      "  with initialize(config_path=\"../../conf\"):\n"
     ]
    }
   ],
   "source": [
    "parent_folder = '/Users/ravi.tej/Desktop/ML/Recommendations/cambrian/'\n",
    "data_folder = parent_folder + 'data/'\n",
    "from hydra import compose, initialize\n",
    "with initialize(config_path=\"../../conf\"):\n",
    "    # Compose the configuration\n",
    "    cfg = compose(config_name=\"ClustersResetService.yaml\")\n",
    "\n",
    "import os\n",
    "\n",
    "import xml.etree.ElementTree as ET\n",
    "\n",
    "tree = ET.parse('../../conf/application.run.xml')\n",
    "root = tree.getroot()\n",
    "\n",
    "envs_element = root.find('./configuration/envs')\n",
    "for variable in envs_element.findall('env'):\n",
    "    name = variable.get('name')\n",
    "    value = variable.get('value')\n",
    "    os.environ[name] = value"
   ]
  },
  {
   "cell_type": "code",
   "execution_count": 2,
   "id": "e67549bc-4abf-4209-8294-5bdc6910b58d",
   "metadata": {
    "tags": []
   },
   "outputs": [
    {
     "name": "stderr",
     "output_type": "stream",
     "text": [
      "/Users/ravi.tej/anaconda3/envs/recoenv/lib/python3.11/site-packages/umap/distances.py:1063: NumbaDeprecationWarning: The 'nopython' keyword argument was not supplied to the 'numba.jit' decorator. The implicit default value for this argument is currently False, but it will be changed to True in Numba 0.59.0. See https://numba.readthedocs.io/en/stable/reference/deprecation.html#deprecation-of-object-mode-fall-back-behaviour-when-using-jit for details.\n",
      "  @numba.jit()\n",
      "/Users/ravi.tej/anaconda3/envs/recoenv/lib/python3.11/site-packages/umap/distances.py:1071: NumbaDeprecationWarning: The 'nopython' keyword argument was not supplied to the 'numba.jit' decorator. The implicit default value for this argument is currently False, but it will be changed to True in Numba 0.59.0. See https://numba.readthedocs.io/en/stable/reference/deprecation.html#deprecation-of-object-mode-fall-back-behaviour-when-using-jit for details.\n",
      "  @numba.jit()\n",
      "/Users/ravi.tej/anaconda3/envs/recoenv/lib/python3.11/site-packages/umap/distances.py:1086: NumbaDeprecationWarning: The 'nopython' keyword argument was not supplied to the 'numba.jit' decorator. The implicit default value for this argument is currently False, but it will be changed to True in Numba 0.59.0. See https://numba.readthedocs.io/en/stable/reference/deprecation.html#deprecation-of-object-mode-fall-back-behaviour-when-using-jit for details.\n",
      "  @numba.jit()\n",
      "/Users/ravi.tej/anaconda3/envs/recoenv/lib/python3.11/site-packages/umap/umap_.py:660: NumbaDeprecationWarning: The 'nopython' keyword argument was not supplied to the 'numba.jit' decorator. The implicit default value for this argument is currently False, but it will be changed to True in Numba 0.59.0. See https://numba.readthedocs.io/en/stable/reference/deprecation.html#deprecation-of-object-mode-fall-back-behaviour-when-using-jit for details.\n",
      "  @numba.jit()\n"
     ]
    }
   ],
   "source": [
    "import sys\n",
    "\n",
    "sys.path.append('/Users/ravi.tej/Desktop/ML/Recommendations/cambrian/')\n",
    "\n",
    "from src.clustering.ClustersResetService import ClustersResetService\n",
    "from src.clustering.ClusterAssignmentService import ClusterAssignmentService\n",
    "from sql.clustering.ClusteringSQL import ClusteringSQL\n",
    "from sql.embeddings.EmbeddingSQL import EmbeddingSQL"
   ]
  },
  {
   "cell_type": "code",
   "execution_count": 3,
   "id": "7aa066c3-9f24-4b9c-b587-a8e7e2624b4a",
   "metadata": {
    "tags": []
   },
   "outputs": [],
   "source": [
    "sql = EmbeddingSQL()"
   ]
  },
  {
   "cell_type": "code",
   "execution_count": 4,
   "id": "bf8ad6e0-31ec-46e9-8062-88d83998f770",
   "metadata": {
    "scrolled": true,
    "tags": []
   },
   "outputs": [
    {
     "data": {
      "text/plain": [
       "[-0.04299594461917877,\n",
       " -0.24764667451381683,\n",
       " -0.24005919694900513,\n",
       " -0.08684714138507843,\n",
       " 0.13990682363510132,\n",
       " 0.23325788974761963,\n",
       " 0.33510076999664307,\n",
       " -0.32510849833488464,\n",
       " 0.16152380406856537,\n",
       " 0.02042122185230255,\n",
       " 0.258054256439209,\n",
       " -0.3852820098400116,\n",
       " 0.08229615539312363,\n",
       " 0.22941844165325165,\n",
       " -0.031292643398046494,\n",
       " 0.5089672803878784,\n",
       " -0.09972506761550903,\n",
       " -0.284853458404541,\n",
       " -0.6422005891799927,\n",
       " 0.27900534868240356,\n",
       " 0.24707315862178802,\n",
       " -0.40898576378822327,\n",
       " 0.07793791592121124,\n",
       " -0.45591306686401367,\n",
       " 0.18786996603012085,\n",
       " -0.28739219903945923,\n",
       " -0.19920091331005096,\n",
       " -0.291140079498291,\n",
       " -0.34806132316589355,\n",
       " -2.2486941814422607,\n",
       " 0.4811890721321106,\n",
       " -0.10500146448612213,\n",
       " 0.6270914673805237,\n",
       " -0.2504206597805023,\n",
       " -0.44653230905532837,\n",
       " 0.0807693749666214,\n",
       " -0.2900964915752411,\n",
       " 0.2795316278934479,\n",
       " 0.2320086658000946,\n",
       " 0.12702003121376038,\n",
       " -0.4022834002971649,\n",
       " 0.5948389768600464,\n",
       " 0.1576324999332428,\n",
       " 0.027441367506980896,\n",
       " -0.32005417346954346,\n",
       " -0.24285434186458588,\n",
       " -0.16924011707305908,\n",
       " -0.01868516020476818,\n",
       " 0.07268921285867691,\n",
       " 0.30425456166267395,\n",
       " 0.2538301348686218,\n",
       " 0.10227662324905396,\n",
       " -0.023949794471263885,\n",
       " -0.2363922894001007,\n",
       " 0.21027341485023499,\n",
       " 0.1033858135342598,\n",
       " 0.31130489706993103,\n",
       " 0.1566740721464157,\n",
       " 0.5590875148773193,\n",
       " 0.44887909293174744,\n",
       " 0.7905212044715881,\n",
       " 0.08654644340276718,\n",
       " -1.7481153011322021,\n",
       " 0.3149246573448181,\n",
       " 0.2853268086910248,\n",
       " -0.11356605589389801,\n",
       " 0.0981237143278122,\n",
       " -0.640144944190979,\n",
       " 0.11612545698881149,\n",
       " 0.27599018812179565,\n",
       " 0.1798279583454132,\n",
       " 0.33140602707862854,\n",
       " 0.44428250193595886,\n",
       " -0.08301158249378204,\n",
       " -0.06527213007211685,\n",
       " -0.26913726329803467,\n",
       " 0.09676855802536011,\n",
       " 0.08172550797462463,\n",
       " -0.04573744535446167,\n",
       " -0.4192846715450287,\n",
       " -0.00705298874527216,\n",
       " 0.17541536688804626,\n",
       " -0.25985807180404663,\n",
       " -0.3670392632484436,\n",
       " -0.3854260742664337,\n",
       " 0.006704017519950867,\n",
       " 0.8133493661880493,\n",
       " 0.04202347993850708,\n",
       " 0.31871044635772705,\n",
       " 0.0848572701215744,\n",
       " 0.26082172989845276,\n",
       " 0.006810024380683899,\n",
       " -0.29625099897384644,\n",
       " 0.23082253336906433,\n",
       " -0.5167253613471985,\n",
       " 0.12400470674037933,\n",
       " 0.2641061246395111,\n",
       " 0.3177585005760193,\n",
       " -0.24057812988758087,\n",
       " 5.4144697189331055,\n",
       " -0.08990143239498138,\n",
       " 0.6179754137992859,\n",
       " -0.19143390655517578,\n",
       " -0.3111821413040161,\n",
       " -0.07714955508708954,\n",
       " -0.3088124394416809,\n",
       " -0.6406975388526917,\n",
       " 0.2648986279964447,\n",
       " 0.14840739965438843,\n",
       " -0.21909493207931519,\n",
       " 0.33839860558509827,\n",
       " 0.07240098714828491,\n",
       " 0.7305689454078674,\n",
       " -0.37024542689323425,\n",
       " -0.5132322907447815,\n",
       " -0.21929201483726501,\n",
       " 0.4765567481517792,\n",
       " -0.01901206374168396,\n",
       " 0.10435116291046143,\n",
       " 0.10869837552309036,\n",
       " -0.14271624386310577,\n",
       " 0.3455277681350708,\n",
       " 0.26933160424232483,\n",
       " -0.24238845705986023,\n",
       " -0.14120003581047058,\n",
       " -0.2101333737373352,\n",
       " 0.27237001061439514,\n",
       " 0.447982519865036,\n",
       " 0.003291219472885132,\n",
       " -0.16638441383838654,\n",
       " 0.4493837356567383,\n",
       " -0.11685450375080109,\n",
       " -0.23447352647781372,\n",
       " -0.18213427066802979,\n",
       " 0.23387981951236725,\n",
       " -0.015966098755598068,\n",
       " 0.35936543345451355,\n",
       " 0.129776269197464,\n",
       " -0.13051019608974457,\n",
       " 0.14839956164360046,\n",
       " -0.5821990966796875,\n",
       " -0.6674032807350159,\n",
       " 0.09224046766757965,\n",
       " -0.7107284665107727,\n",
       " -0.2421523928642273,\n",
       " 0.45444750785827637,\n",
       " -0.13763505220413208,\n",
       " -0.38607168197631836,\n",
       " -0.34224170446395874,\n",
       " 0.059402648359537125,\n",
       " -0.8006097078323364,\n",
       " 0.3642636239528656,\n",
       " -0.5006322860717773,\n",
       " -0.21542230248451233,\n",
       " -0.08801773190498352,\n",
       " 0.3603932857513428,\n",
       " 0.4058694541454315,\n",
       " 0.2516127824783325,\n",
       " -0.16881641745567322,\n",
       " -0.16485530138015747,\n",
       " -0.4688616096973419,\n",
       " -0.27548786997795105,\n",
       " -0.625593364238739,\n",
       " 0.6355816721916199,\n",
       " 0.3625199496746063,\n",
       " -0.8680870532989502,\n",
       " -0.3514751195907593,\n",
       " 0.09824857115745544,\n",
       " 0.1047116070985794,\n",
       " -0.15630942583084106,\n",
       " 0.03577445447444916,\n",
       " 0.13027827441692352,\n",
       " -0.13089947402477264,\n",
       " -0.42287060618400574,\n",
       " 0.38523241877555847,\n",
       " 0.1595849096775055,\n",
       " 0.34082821011543274,\n",
       " -0.512047290802002,\n",
       " 0.07011990994215012,\n",
       " 0.0002242065966129303,\n",
       " 0.06977631896734238,\n",
       " -0.20456136763095856,\n",
       " -0.1706516146659851,\n",
       " 0.2013567090034485,\n",
       " 0.0979507565498352,\n",
       " -0.35335761308670044,\n",
       " -0.3999120593070984,\n",
       " -0.472288578748703,\n",
       " 0.29316478967666626,\n",
       " 0.2769952118396759,\n",
       " -0.5651640295982361,\n",
       " 0.07574960589408875,\n",
       " -0.8676266670227051,\n",
       " 0.38876858353614807,\n",
       " -0.09440837055444717,\n",
       " -0.07888332009315491,\n",
       " -0.21419720351696014,\n",
       " -0.467940092086792,\n",
       " 0.04269156605005264,\n",
       " 0.4262259006500244,\n",
       " 0.5394195318222046,\n",
       " -0.12154488265514374,\n",
       " -0.7034082412719727,\n",
       " 0.32376641035079956,\n",
       " -0.07906500995159149,\n",
       " 0.37350204586982727,\n",
       " 0.6134112477302551,\n",
       " -0.08866861462593079,\n",
       " 0.21162456274032593,\n",
       " 0.1865011751651764,\n",
       " 0.002420201897621155,\n",
       " -0.0036918986588716507,\n",
       " 0.36106324195861816,\n",
       " 0.15156880021095276,\n",
       " -0.4704623520374298,\n",
       " -0.08402357995510101,\n",
       " 0.24174284934997559,\n",
       " 0.3969787061214447,\n",
       " 0.35062557458877563,\n",
       " 0.04277726635336876,\n",
       " -0.08745960891246796,\n",
       " -0.32041269540786743,\n",
       " -0.3293922543525696,\n",
       " -1.9714337587356567,\n",
       " -0.059593088924884796,\n",
       " 0.041255153715610504,\n",
       " -0.1336735486984253,\n",
       " 0.33881062269210815,\n",
       " -0.15520144999027252,\n",
       " 0.20212382078170776,\n",
       " 0.2954004406929016,\n",
       " 0.31945115327835083,\n",
       " 0.35857465863227844,\n",
       " 0.3721253275871277,\n",
       " 0.23273196816444397,\n",
       " 0.1926083117723465,\n",
       " -0.49983924627304077,\n",
       " 0.31149986386299133,\n",
       " -0.11091780662536621,\n",
       " 0.08105386793613434,\n",
       " 0.48020145297050476,\n",
       " -0.3374576270580292,\n",
       " -0.01754063181579113,\n",
       " -0.0947657972574234,\n",
       " -0.06603812426328659,\n",
       " -0.29582616686820984,\n",
       " -0.32023125886917114,\n",
       " 0.7488410472869873,\n",
       " 0.1735435128211975,\n",
       " 1.3461803197860718,\n",
       " -0.2576812505722046,\n",
       " 0.10385377705097198,\n",
       " 0.0840584933757782,\n",
       " 0.2457914501428604,\n",
       " 0.28502947092056274,\n",
       " -0.12456214427947998,\n",
       " -0.8607526421546936,\n",
       " 0.200527161359787,\n",
       " 0.05155092105269432,\n",
       " 0.32679590582847595,\n",
       " -0.29973065853118896,\n",
       " -0.7091004848480225,\n",
       " 0.11883081495761871,\n",
       " -0.001915179193019867,\n",
       " -0.06744760274887085,\n",
       " 0.13665761053562164,\n",
       " -0.5894569158554077,\n",
       " 0.3735745847225189,\n",
       " 0.17850160598754883,\n",
       " 0.05648048222064972,\n",
       " 0.08515451848506927,\n",
       " -0.17306089401245117,\n",
       " 0.10334114730358124,\n",
       " 0.5102263689041138,\n",
       " -0.2089400440454483,\n",
       " 0.43341976404190063,\n",
       " 0.32978278398513794,\n",
       " 0.3477086126804352,\n",
       " -0.4782600402832031,\n",
       " -0.3803398609161377,\n",
       " 0.1490236520767212,\n",
       " -0.2663044333457947,\n",
       " 0.1691039502620697,\n",
       " -0.2139597237110138,\n",
       " -0.23249967396259308,\n",
       " 0.12865352630615234,\n",
       " -0.25775277614593506,\n",
       " -0.0211799293756485,\n",
       " -0.4718123972415924,\n",
       " 0.07639732211828232,\n",
       " -0.3316687345504761,\n",
       " -0.33856678009033203,\n",
       " 0.14243094623088837,\n",
       " -0.031549420207738876,\n",
       " 0.2909092307090759,\n",
       " -0.05071393400430679,\n",
       " 0.14372387528419495,\n",
       " 0.025415129959583282,\n",
       " 0.08738655596971512,\n",
       " 0.3339903652667999,\n",
       " 0.1295945644378662,\n",
       " 0.1655081957578659,\n",
       " 0.6304730772972107,\n",
       " 0.2070874720811844,\n",
       " -0.16902482509613037,\n",
       " 0.5798047780990601,\n",
       " 0.7176700234413147,\n",
       " 0.07166383415460587,\n",
       " 0.5282134413719177,\n",
       " 0.3198428750038147,\n",
       " -0.06272166967391968,\n",
       " 0.13563643395900726,\n",
       " 0.20909300446510315,\n",
       " -0.31074246764183044,\n",
       " -0.325407475233078,\n",
       " -0.4725997745990753,\n",
       " -0.6581010818481445,\n",
       " 0.6122003793716431,\n",
       " -0.03125154599547386,\n",
       " -2.455350160598755,\n",
       " 0.15557248890399933,\n",
       " -0.059586577117443085,\n",
       " 0.3235006332397461,\n",
       " -0.18756715953350067,\n",
       " -0.2096272110939026,\n",
       " -0.13439257442951202,\n",
       " 0.06010296195745468,\n",
       " -0.4577825665473938,\n",
       " 0.29200008511543274,\n",
       " -0.06308245658874512,\n",
       " 0.3328971266746521,\n",
       " 0.2650328278541565,\n",
       " -0.003916414454579353,\n",
       " -0.26092422008514404,\n",
       " -0.09009924530982971,\n",
       " 0.251262366771698,\n",
       " -0.27116817235946655,\n",
       " 0.33292269706726074,\n",
       " 0.34273475408554077,\n",
       " -0.16415539383888245,\n",
       " 0.12021663784980774,\n",
       " 1.3941737413406372,\n",
       " 0.2264743149280548,\n",
       " 0.32846304774284363,\n",
       " 0.11172644793987274,\n",
       " -0.424577921628952,\n",
       " 0.3171296715736389,\n",
       " -0.25218844413757324,\n",
       " 0.1467367261648178,\n",
       " 0.27378973364830017,\n",
       " -0.4890187978744507,\n",
       " 0.6099109053611755,\n",
       " -0.054297223687171936,\n",
       " 0.0028432831168174744,\n",
       " 0.16045452654361725,\n",
       " -0.11964721977710724,\n",
       " 0.3126538097858429,\n",
       " 0.09421290457248688,\n",
       " -0.15447506308555603,\n",
       " 0.07325504720211029,\n",
       " 0.10507743060588837,\n",
       " -0.29006046056747437,\n",
       " 0.025691233575344086,\n",
       " 0.09372489154338837,\n",
       " -0.4293266534805298,\n",
       " -0.18093152344226837,\n",
       " -0.589565634727478,\n",
       " 0.18251627683639526,\n",
       " -0.09176570177078247,\n",
       " -0.24287182092666626,\n",
       " 0.3545455038547516,\n",
       " -0.12033408880233765,\n",
       " 0.04916805028915405,\n",
       " -0.051777347922325134,\n",
       " 0.005458645522594452,\n",
       " -0.2423468381166458,\n",
       " -0.47470685839653015,\n",
       " 0.1109347939491272,\n",
       " -0.6021826863288879,\n",
       " -0.20257750153541565,\n",
       " -0.13221362233161926,\n",
       " -0.5250572562217712,\n",
       " -0.07241202890872955,\n",
       " 0.13357500731945038]"
      ]
     },
     "execution_count": 4,
     "metadata": {},
     "output_type": "execute_result"
    }
   ],
   "source": [
    "sql.get_embedding_for_article_id(article_id='650d15327946741de369232c')"
   ]
  },
  {
   "cell_type": "code",
   "execution_count": 4,
   "id": "5eadd16b-3ac3-4a6c-8f3a-cca0a4eb57bf",
   "metadata": {
    "tags": []
   },
   "outputs": [
    {
     "ename": "AttributeError",
     "evalue": "'ClusteringSQL' object has no attribute 'connection'",
     "output_type": "error",
     "traceback": [
      "\u001b[0;31m---------------------------------------------------------------------------\u001b[0m",
      "\u001b[0;31mAttributeError\u001b[0m                            Traceback (most recent call last)",
      "Cell \u001b[0;32mIn[4], line 1\u001b[0m\n\u001b[0;32m----> 1\u001b[0m sql\u001b[38;5;241m.\u001b[39mget_latest_run_id()\n",
      "File \u001b[0;32m~/Desktop/ML/Recommendations/cambrian/sql/clustering/ClusteringSQL.py:173\u001b[0m, in \u001b[0;36mClusteringSQL.get_latest_run_id\u001b[0;34m(self)\u001b[0m\n\u001b[1;32m    172\u001b[0m \u001b[38;5;28;01mdef\u001b[39;00m \u001b[38;5;21mget_latest_run_id\u001b[39m(\u001b[38;5;28mself\u001b[39m) \u001b[38;5;241m-\u001b[39m\u001b[38;5;241m>\u001b[39m \u001b[38;5;28mstr\u001b[39m:\n\u001b[0;32m--> 173\u001b[0m     \u001b[38;5;28;01mwith\u001b[39;00m \u001b[38;5;28mself\u001b[39m\u001b[38;5;241m.\u001b[39mconnection\u001b[38;5;241m.\u001b[39mcursor() \u001b[38;5;28;01mas\u001b[39;00m cursor:\n\u001b[1;32m    174\u001b[0m         run_id_sql \u001b[38;5;241m=\u001b[39m \u001b[38;5;124m\"\u001b[39m\u001b[38;5;124mSELECT DISTINCT clustering_run_id FROM storyline_to_cluster_mapping\u001b[39m\u001b[38;5;124m\"\u001b[39m\n\u001b[1;32m    175\u001b[0m         cursor\u001b[38;5;241m.\u001b[39mexecute(run_id_sql)\n",
      "\u001b[0;31mAttributeError\u001b[0m: 'ClusteringSQL' object has no attribute 'connection'"
     ]
    }
   ],
   "source": [
    "sql.get_latest_run_id()"
   ]
  },
  {
   "cell_type": "code",
   "execution_count": 4,
   "id": "2175a2ff-9859-4ffb-bd57-7c57c7145d2c",
   "metadata": {
    "tags": []
   },
   "outputs": [],
   "source": [
    "a = sql.get_config_for_run_id('ZigzagRabbitPanda')"
   ]
  },
  {
   "cell_type": "code",
   "execution_count": 6,
   "id": "0a692d56-7dc4-44e3-90c0-4ab9891f3e00",
   "metadata": {
    "tags": []
   },
   "outputs": [
    {
     "data": {
      "text/plain": [
       "'BAAI/bge-small-en'"
      ]
     },
     "execution_count": 6,
     "metadata": {},
     "output_type": "execute_result"
    }
   ],
   "source": [
    "a['embedding_model_name']"
   ]
  },
  {
   "cell_type": "code",
   "execution_count": 5,
   "id": "cd385b71-0974-425d-917e-81116e507662",
   "metadata": {
    "tags": []
   },
   "outputs": [
    {
     "data": {
      "text/plain": [
       "['WalnutUmbrellaYawn', 'CactusRhinoBluejay', 'ZigzagRabbitPanda']"
      ]
     },
     "execution_count": 5,
     "metadata": {},
     "output_type": "execute_result"
    }
   ],
   "source": [
    "sql.get_all_run_ids()"
   ]
  },
  {
   "cell_type": "code",
   "execution_count": 3,
   "id": "6268e51f-8d2c-4ce7-b95e-78f73bf0530c",
   "metadata": {
    "tags": []
   },
   "outputs": [],
   "source": [
    "from src.clustering import _utils"
   ]
  },
  {
   "cell_type": "code",
   "execution_count": 4,
   "id": "0090fca1-5450-4b50-a8e0-e250f434b887",
   "metadata": {
    "tags": []
   },
   "outputs": [
    {
     "name": "stdout",
     "output_type": "stream",
     "text": [
      "['WalnutUmbrellaYawn', 'CactusRhinoBluejay', 'ZigzagRabbitPanda']\n"
     ]
    },
    {
     "data": {
      "text/plain": [
       "'HazelnutEnvelopeBanana'"
      ]
     },
     "execution_count": 4,
     "metadata": {},
     "output_type": "execute_result"
    }
   ],
   "source": [
    "_utils.generate_unique_run_id()"
   ]
  },
  {
   "cell_type": "code",
   "execution_count": 7,
   "id": "1ac77f5d-9f2c-4074-af3b-ab36d896f5dd",
   "metadata": {
    "tags": []
   },
   "outputs": [
    {
     "name": "stdout",
     "output_type": "stream",
     "text": [
      "K\n"
     ]
    }
   ],
   "source": [
    "if os.environ.get('BERTOPIC_HF_PATH') is None:\n",
    "    print('K')"
   ]
  },
  {
   "cell_type": "code",
   "execution_count": null,
   "id": "baa4506f-ae14-4f8d-96de-a01125b51d83",
   "metadata": {},
   "outputs": [],
   "source": []
  }
 ],
 "metadata": {
  "kernelspec": {
   "display_name": "recoenv",
   "language": "python",
   "name": "recoenv"
  },
  "language_info": {
   "codemirror_mode": {
    "name": "ipython",
    "version": 3
   },
   "file_extension": ".py",
   "mimetype": "text/x-python",
   "name": "python",
   "nbconvert_exporter": "python",
   "pygments_lexer": "ipython3",
   "version": "3.11.5"
  }
 },
 "nbformat": 4,
 "nbformat_minor": 5
}
