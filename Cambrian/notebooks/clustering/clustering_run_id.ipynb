{
 "cells": [
  {
   "cell_type": "code",
   "execution_count": 1,
   "id": "1a3e03b1-3ee7-4e4a-a363-8efe5510304c",
   "metadata": {
    "tags": []
   },
   "outputs": [],
   "source": [
    "import base64"
   ]
  },
  {
   "cell_type": "code",
   "execution_count": 2,
   "id": "c05930a8-574a-4f53-9b87-041c6cd943bd",
   "metadata": {
    "tags": []
   },
   "outputs": [
    {
     "name": "stderr",
     "output_type": "stream",
     "text": [
      "/Users/ravi.tej/anaconda3/envs/recoenv/lib/python3.11/site-packages/umap/distances.py:1063: NumbaDeprecationWarning: The 'nopython' keyword argument was not supplied to the 'numba.jit' decorator. The implicit default value for this argument is currently False, but it will be changed to True in Numba 0.59.0. See https://numba.readthedocs.io/en/stable/reference/deprecation.html#deprecation-of-object-mode-fall-back-behaviour-when-using-jit for details.\n",
      "  @numba.jit()\n",
      "/Users/ravi.tej/anaconda3/envs/recoenv/lib/python3.11/site-packages/umap/distances.py:1071: NumbaDeprecationWarning: The 'nopython' keyword argument was not supplied to the 'numba.jit' decorator. The implicit default value for this argument is currently False, but it will be changed to True in Numba 0.59.0. See https://numba.readthedocs.io/en/stable/reference/deprecation.html#deprecation-of-object-mode-fall-back-behaviour-when-using-jit for details.\n",
      "  @numba.jit()\n",
      "/Users/ravi.tej/anaconda3/envs/recoenv/lib/python3.11/site-packages/umap/distances.py:1086: NumbaDeprecationWarning: The 'nopython' keyword argument was not supplied to the 'numba.jit' decorator. The implicit default value for this argument is currently False, but it will be changed to True in Numba 0.59.0. See https://numba.readthedocs.io/en/stable/reference/deprecation.html#deprecation-of-object-mode-fall-back-behaviour-when-using-jit for details.\n",
      "  @numba.jit()\n",
      "/Users/ravi.tej/anaconda3/envs/recoenv/lib/python3.11/site-packages/umap/umap_.py:660: NumbaDeprecationWarning: The 'nopython' keyword argument was not supplied to the 'numba.jit' decorator. The implicit default value for this argument is currently False, but it will be changed to True in Numba 0.59.0. See https://numba.readthedocs.io/en/stable/reference/deprecation.html#deprecation-of-object-mode-fall-back-behaviour-when-using-jit for details.\n",
      "  @numba.jit()\n"
     ]
    }
   ],
   "source": [
    "import sys\n",
    "\n",
    "sys.path.append('/Users/ravi.tej/Desktop/ML/Recommendations/cambrian/')\n",
    "\n",
    "from src.clustering.ClustersResetService import ClustersResetService\n",
    "from src.clustering.ClusterAssignmentService import ClusterAssignmentService\n",
    "\n",
    "import hydra\n",
    "import os\n",
    "from hydra import compose, initialize"
   ]
  },
  {
   "cell_type": "code",
   "execution_count": 3,
   "id": "777da249-29ea-4aad-914e-03712d1dc553",
   "metadata": {
    "tags": []
   },
   "outputs": [],
   "source": [
    "with initialize(config_path=\"../../conf\"):\n",
    "    # Compose the configuration\n",
    "    cfg = compose(config_name=\"ClustersResetService.yaml\")"
   ]
  },
  {
   "cell_type": "code",
   "execution_count": 5,
   "id": "37b98161-d058-47aa-8dea-51e20eb56462",
   "metadata": {
    "tags": []
   },
   "outputs": [],
   "source": [
    "import time"
   ]
  },
  {
   "cell_type": "code",
   "execution_count": 8,
   "id": "620ed474-961c-43d4-ba82-0c23e7eb34ea",
   "metadata": {
    "tags": []
   },
   "outputs": [],
   "source": [
    "time = int(time.time())"
   ]
  },
  {
   "cell_type": "code",
   "execution_count": 12,
   "id": "ee8ec26f-7bd6-476b-8404-38a59905208d",
   "metadata": {
    "tags": []
   },
   "outputs": [],
   "source": [
    "cfg_dict = dict(cfg)"
   ]
  },
  {
   "cell_type": "code",
   "execution_count": 14,
   "id": "a1713370-7552-462f-b44e-e437a94d3fa3",
   "metadata": {
    "tags": []
   },
   "outputs": [],
   "source": [
    "cfg_dict['time'] = time"
   ]
  },
  {
   "cell_type": "code",
   "execution_count": 15,
   "id": "c16bac93-f34a-46c9-8dcd-df39b7293444",
   "metadata": {
    "tags": []
   },
   "outputs": [],
   "source": [
    "cfg_dict['num_docs'] = 66000"
   ]
  },
  {
   "cell_type": "code",
   "execution_count": 16,
   "id": "dad38023-1aa2-4b33-b2d1-16dd056d0cb0",
   "metadata": {
    "tags": []
   },
   "outputs": [
    {
     "data": {
      "text/plain": [
       "\"{'umap_n_neighbors': 15, 'umap_n_components': 10, 'clustering_model': 'hdbscan', 'hdbscan_metric': 'manhattan', 'kmeans_clusters': 25, 'balanced_cluster_doc_limit': 4000, 'time': 1695637197, 'num_docs': 66000}\""
      ]
     },
     "execution_count": 16,
     "metadata": {},
     "output_type": "execute_result"
    }
   ],
   "source": [
    "str(cfg_dict)"
   ]
  },
  {
   "cell_type": "code",
   "execution_count": 17,
   "id": "c013f859-3c40-4e73-9618-b6f4eedbcd8d",
   "metadata": {
    "tags": []
   },
   "outputs": [],
   "source": [
    "k = base64.b64encode(str(cfg_dict).encode()).decode()"
   ]
  },
  {
   "cell_type": "code",
   "execution_count": 19,
   "id": "a31f1c63-94e4-45c0-8f1b-5378c4448b53",
   "metadata": {
    "tags": []
   },
   "outputs": [],
   "source": [
    "import uuid"
   ]
  },
  {
   "cell_type": "code",
   "execution_count": 28,
   "id": "d80935ff-8c22-4858-b1ce-de95b7bf0916",
   "metadata": {
    "tags": []
   },
   "outputs": [
    {
     "ename": "AttributeError",
     "evalue": "'str' object has no attribute 'bytes'",
     "output_type": "error",
     "traceback": [
      "\u001b[0;31m---------------------------------------------------------------------------\u001b[0m",
      "\u001b[0;31mAttributeError\u001b[0m                            Traceback (most recent call last)",
      "Cell \u001b[0;32mIn[28], line 1\u001b[0m\n\u001b[0;32m----> 1\u001b[0m uuid\u001b[38;5;241m.\u001b[39muuid3(\u001b[38;5;124m\"\u001b[39m\u001b[38;5;124minsight_clustering\u001b[39m\u001b[38;5;124m\"\u001b[39m,\u001b[38;5;28mstr\u001b[39m(cfg_dict))\n",
      "File \u001b[0;32m~/anaconda3/envs/recoenv/lib/python3.11/uuid.py:716\u001b[0m, in \u001b[0;36muuid3\u001b[0;34m(namespace, name)\u001b[0m\n\u001b[1;32m    713\u001b[0m \u001b[38;5;250m\u001b[39m\u001b[38;5;124;03m\"\"\"Generate a UUID from the MD5 hash of a namespace UUID and a name.\"\"\"\u001b[39;00m\n\u001b[1;32m    714\u001b[0m \u001b[38;5;28;01mfrom\u001b[39;00m \u001b[38;5;21;01mhashlib\u001b[39;00m \u001b[38;5;28;01mimport\u001b[39;00m md5\n\u001b[1;32m    715\u001b[0m digest \u001b[38;5;241m=\u001b[39m md5(\n\u001b[0;32m--> 716\u001b[0m     namespace\u001b[38;5;241m.\u001b[39mbytes \u001b[38;5;241m+\u001b[39m \u001b[38;5;28mbytes\u001b[39m(name, \u001b[38;5;124m\"\u001b[39m\u001b[38;5;124mutf-8\u001b[39m\u001b[38;5;124m\"\u001b[39m),\n\u001b[1;32m    717\u001b[0m     usedforsecurity\u001b[38;5;241m=\u001b[39m\u001b[38;5;28;01mFalse\u001b[39;00m\n\u001b[1;32m    718\u001b[0m )\u001b[38;5;241m.\u001b[39mdigest()\n\u001b[1;32m    719\u001b[0m \u001b[38;5;28;01mreturn\u001b[39;00m UUID(\u001b[38;5;28mbytes\u001b[39m\u001b[38;5;241m=\u001b[39mdigest[:\u001b[38;5;241m16\u001b[39m], version\u001b[38;5;241m=\u001b[39m\u001b[38;5;241m3\u001b[39m)\n",
      "\u001b[0;31mAttributeError\u001b[0m: 'str' object has no attribute 'bytes'"
     ]
    }
   ],
   "source": [
    "uuid.uuid3(\"insight_clustering\",str(cfg_dict))"
   ]
  },
  {
   "cell_type": "code",
   "execution_count": 23,
   "id": "a4faacfc-8ea1-46ca-9d56-8002b35759bd",
   "metadata": {
    "tags": []
   },
   "outputs": [],
   "source": [
    "obj = str(cfg_dict)"
   ]
  },
  {
   "cell_type": "code",
   "execution_count": 22,
   "id": "636cc963-3ad0-4f78-99b8-d813bafa4355",
   "metadata": {
    "tags": []
   },
   "outputs": [],
   "source": [
    "import hashlib"
   ]
  },
  {
   "cell_type": "code",
   "execution_count": 24,
   "id": "13c9dc02-ad15-4f28-8c8e-1ee97601ad46",
   "metadata": {
    "tags": []
   },
   "outputs": [],
   "source": [
    "hash_object = hashlib.sha256(obj.encode())"
   ]
  },
  {
   "cell_type": "code",
   "execution_count": 29,
   "id": "a2c4e885-afd7-4973-b72d-add54d70399e",
   "metadata": {
    "tags": []
   },
   "outputs": [
    {
     "data": {
      "text/plain": [
       "\u001b[0;31mSignature:\u001b[0m \u001b[0mhashlib\u001b[0m\u001b[0;34m.\u001b[0m\u001b[0msha1\u001b[0m\u001b[0;34m(\u001b[0m\u001b[0mstring\u001b[0m\u001b[0;34m=\u001b[0m\u001b[0;34mb''\u001b[0m\u001b[0;34m,\u001b[0m \u001b[0;34m*\u001b[0m\u001b[0;34m,\u001b[0m \u001b[0musedforsecurity\u001b[0m\u001b[0;34m=\u001b[0m\u001b[0;32mTrue\u001b[0m\u001b[0;34m)\u001b[0m\u001b[0;34m\u001b[0m\u001b[0;34m\u001b[0m\u001b[0m\n",
       "\u001b[0;31mDocstring:\u001b[0m Returns a sha1 hash object; optionally initialized with a string\n",
       "\u001b[0;31mType:\u001b[0m      builtin_function_or_method"
      ]
     },
     "metadata": {},
     "output_type": "display_data"
    }
   ],
   "source": [
    "hashlib.sha1?"
   ]
  },
  {
   "cell_type": "code",
   "execution_count": 31,
   "id": "3d4e550b-c476-4cb0-8814-91d8d83eb029",
   "metadata": {
    "tags": []
   },
   "outputs": [
    {
     "name": "stdout",
     "output_type": "stream",
     "text": [
      "Collecting shortuuid\n",
      "  Downloading shortuuid-1.0.11-py3-none-any.whl (10 kB)\n",
      "Installing collected packages: shortuuid\n",
      "Successfully installed shortuuid-1.0.11\n"
     ]
    }
   ],
   "source": [
    "!pip install shortuuid"
   ]
  },
  {
   "cell_type": "code",
   "execution_count": 34,
   "id": "42420c34-1ff3-463b-a7cb-ce9ac6dd51f3",
   "metadata": {
    "tags": []
   },
   "outputs": [],
   "source": [
    "import shortuuid\n",
    "short_id = shortuuid.ShortUUID().random(length=16)"
   ]
  },
  {
   "cell_type": "code",
   "execution_count": 35,
   "id": "86001b69-17c1-4252-bdc1-283eca7820ac",
   "metadata": {
    "tags": []
   },
   "outputs": [
    {
     "data": {
      "text/plain": [
       "'7gJR25YaxiVjxwoZ'"
      ]
     },
     "execution_count": 35,
     "metadata": {},
     "output_type": "execute_result"
    }
   ],
   "source": [
    "short_id"
   ]
  },
  {
   "cell_type": "code",
   "execution_count": 25,
   "id": "fea7b6b8-13b0-4060-9540-2f78181614e0",
   "metadata": {
    "tags": []
   },
   "outputs": [
    {
     "data": {
      "text/plain": [
       "<sha256 _hashlib.HASH object @ 0x1418fd3b0>"
      ]
     },
     "execution_count": 25,
     "metadata": {},
     "output_type": "execute_result"
    }
   ],
   "source": [
    "hash_object"
   ]
  },
  {
   "cell_type": "code",
   "execution_count": 26,
   "id": "0fafc722-3ad1-4173-9fc7-4f8f481b8049",
   "metadata": {
    "tags": []
   },
   "outputs": [],
   "source": [
    "hash_hex = hash_object.hexdigest()"
   ]
  },
  {
   "cell_type": "code",
   "execution_count": 27,
   "id": "ccdd9e61-5923-44b9-8efa-e5526f462f62",
   "metadata": {
    "tags": []
   },
   "outputs": [
    {
     "data": {
      "text/plain": [
       "'d1c23a873903302ba2e66e0b84a35ba8645f7b10fc3bdceb8cf45d829d40fefc'"
      ]
     },
     "execution_count": 27,
     "metadata": {},
     "output_type": "execute_result"
    }
   ],
   "source": [
    "hash_hex"
   ]
  },
  {
   "cell_type": "code",
   "execution_count": 18,
   "id": "bca1ba8a-7362-4a7d-92dd-2fce00816a36",
   "metadata": {
    "tags": []
   },
   "outputs": [
    {
     "data": {
      "text/plain": [
       "'eyd1bWFwX25fbmVpZ2hib3JzJzogMTUsICd1bWFwX25fY29tcG9uZW50cyc6IDEwLCAnY2x1c3RlcmluZ19tb2RlbCc6ICdoZGJzY2FuJywgJ2hkYnNjYW5fbWV0cmljJzogJ21hbmhhdHRhbicsICdrbWVhbnNfY2x1c3RlcnMnOiAyNSwgJ2JhbGFuY2VkX2NsdXN0ZXJfZG9jX2xpbWl0JzogNDAwMCwgJ3RpbWUnOiAxNjk1NjM3MTk3LCAnbnVtX2RvY3MnOiA2NjAwMH0='"
      ]
     },
     "execution_count": 18,
     "metadata": {},
     "output_type": "execute_result"
    }
   ],
   "source": [
    "k"
   ]
  },
  {
   "cell_type": "code",
   "execution_count": 9,
   "id": "be9878c2-58a2-43b9-9213-ad1ef637060d",
   "metadata": {
    "tags": []
   },
   "outputs": [
    {
     "data": {
      "text/plain": [
       "1695637197"
      ]
     },
     "execution_count": 9,
     "metadata": {},
     "output_type": "execute_result"
    }
   ],
   "source": [
    "time"
   ]
  },
  {
   "cell_type": "code",
   "execution_count": 36,
   "id": "ee59ffd3-a135-4abb-92b9-12047ca4e4b5",
   "metadata": {
    "tags": []
   },
   "outputs": [],
   "source": [
    "import nltk"
   ]
  },
  {
   "cell_type": "code",
   "execution_count": 41,
   "id": "97f8e935-1ce8-4a53-8c7c-d31c75d243ad",
   "metadata": {
    "scrolled": true,
    "tags": []
   },
   "outputs": [
    {
     "name": "stdout",
     "output_type": "stream",
     "text": [
      "Collecting spacy\n",
      "  Obtaining dependency information for spacy from https://files.pythonhosted.org/packages/66/32/7cd50cc40a1dd52c1e4d0f374aaffe32d91e40c0eec7100f5e288413c29a/spacy-3.6.1-cp311-cp311-macosx_11_0_arm64.whl.metadata\n",
      "  Downloading spacy-3.6.1-cp311-cp311-macosx_11_0_arm64.whl.metadata (25 kB)\n",
      "Collecting spacy-legacy<3.1.0,>=3.0.11 (from spacy)\n",
      "  Downloading spacy_legacy-3.0.12-py2.py3-none-any.whl (29 kB)\n",
      "Collecting spacy-loggers<2.0.0,>=1.0.0 (from spacy)\n",
      "  Obtaining dependency information for spacy-loggers<2.0.0,>=1.0.0 from https://files.pythonhosted.org/packages/33/78/d1a1a026ef3af911159398c939b1509d5c36fe524c7b644f34a5146c4e16/spacy_loggers-1.0.5-py3-none-any.whl.metadata\n",
      "  Downloading spacy_loggers-1.0.5-py3-none-any.whl.metadata (23 kB)\n",
      "Collecting murmurhash<1.1.0,>=0.28.0 (from spacy)\n",
      "  Obtaining dependency information for murmurhash<1.1.0,>=0.28.0 from https://files.pythonhosted.org/packages/7a/05/4a3b5c3043c6d84c00bf0f574d326660702b1c10174fe6b44cef3c3dff08/murmurhash-1.0.10-cp311-cp311-macosx_11_0_arm64.whl.metadata\n",
      "  Downloading murmurhash-1.0.10-cp311-cp311-macosx_11_0_arm64.whl.metadata (2.0 kB)\n",
      "Collecting cymem<2.1.0,>=2.0.2 (from spacy)\n",
      "  Obtaining dependency information for cymem<2.1.0,>=2.0.2 from https://files.pythonhosted.org/packages/d7/f6/67babf1439cdd6d46e4e805616bee84981305c80e562320c293712f54034/cymem-2.0.8-cp311-cp311-macosx_11_0_arm64.whl.metadata\n",
      "  Downloading cymem-2.0.8-cp311-cp311-macosx_11_0_arm64.whl.metadata (8.4 kB)\n",
      "Collecting preshed<3.1.0,>=3.0.2 (from spacy)\n",
      "  Obtaining dependency information for preshed<3.1.0,>=3.0.2 from https://files.pythonhosted.org/packages/a8/b3/1a73ba16bab53043fd19dd0a7838ae05c705dccb329404dd4ad5925767f1/preshed-3.0.9-cp311-cp311-macosx_11_0_arm64.whl.metadata\n",
      "  Downloading preshed-3.0.9-cp311-cp311-macosx_11_0_arm64.whl.metadata (2.2 kB)\n",
      "Collecting thinc<8.2.0,>=8.1.8 (from spacy)\n",
      "  Obtaining dependency information for thinc<8.2.0,>=8.1.8 from https://files.pythonhosted.org/packages/50/87/449c067db721ae9d945e3d763656319b3559ff32c82ac9aea5830d56e262/thinc-8.1.12-cp311-cp311-macosx_11_0_arm64.whl.metadata\n",
      "  Downloading thinc-8.1.12-cp311-cp311-macosx_11_0_arm64.whl.metadata (15 kB)\n",
      "Collecting wasabi<1.2.0,>=0.9.1 (from spacy)\n",
      "  Obtaining dependency information for wasabi<1.2.0,>=0.9.1 from https://files.pythonhosted.org/packages/8f/69/26cbf0bad11703241cb84d5324d868097f7a8faf2f1888354dac8883f3fc/wasabi-1.1.2-py3-none-any.whl.metadata\n",
      "  Downloading wasabi-1.1.2-py3-none-any.whl.metadata (28 kB)\n",
      "Collecting srsly<3.0.0,>=2.4.3 (from spacy)\n",
      "  Obtaining dependency information for srsly<3.0.0,>=2.4.3 from https://files.pythonhosted.org/packages/1b/d7/0800af1a75008b3a6a6a24f3efd165f2d2208076e9b8a4b11b66f16217f3/srsly-2.4.8-cp311-cp311-macosx_11_0_arm64.whl.metadata\n",
      "  Downloading srsly-2.4.8-cp311-cp311-macosx_11_0_arm64.whl.metadata (20 kB)\n",
      "Collecting catalogue<2.1.0,>=2.0.6 (from spacy)\n",
      "  Obtaining dependency information for catalogue<2.1.0,>=2.0.6 from https://files.pythonhosted.org/packages/9e/96/d32b941a501ab566a16358d68b6eb4e4acc373fab3c3c4d7d9e649f7b4bb/catalogue-2.0.10-py3-none-any.whl.metadata\n",
      "  Downloading catalogue-2.0.10-py3-none-any.whl.metadata (14 kB)\n",
      "Collecting typer<0.10.0,>=0.3.0 (from spacy)\n",
      "  Downloading typer-0.9.0-py3-none-any.whl (45 kB)\n",
      "\u001b[2K     \u001b[90m━━━━━━━━━━━━━━━━━━━━━━━━━━━━━━━━━━━━━━━━\u001b[0m \u001b[32m45.9/45.9 kB\u001b[0m \u001b[31m3.9 MB/s\u001b[0m eta \u001b[36m0:00:00\u001b[0m\n",
      "\u001b[?25hCollecting pathy>=0.10.0 (from spacy)\n",
      "  Obtaining dependency information for pathy>=0.10.0 from https://files.pythonhosted.org/packages/b5/c3/04a002ace658133f5ac48d30258ed9ceab720595dc1ac36df02fe52018af/pathy-0.10.2-py3-none-any.whl.metadata\n",
      "  Downloading pathy-0.10.2-py3-none-any.whl.metadata (16 kB)\n",
      "Collecting smart-open<7.0.0,>=5.2.1 (from spacy)\n",
      "  Obtaining dependency information for smart-open<7.0.0,>=5.2.1 from https://files.pythonhosted.org/packages/fc/d9/d97f1db64b09278aba64e8c81b5d322d436132df5741c518f3823824fae0/smart_open-6.4.0-py3-none-any.whl.metadata\n",
      "  Downloading smart_open-6.4.0-py3-none-any.whl.metadata (21 kB)\n",
      "Requirement already satisfied: tqdm<5.0.0,>=4.38.0 in /Users/ravi.tej/anaconda3/envs/recoenv/lib/python3.11/site-packages (from spacy) (4.65.0)\n",
      "Requirement already satisfied: numpy>=1.15.0 in /Users/ravi.tej/anaconda3/envs/recoenv/lib/python3.11/site-packages (from spacy) (1.24.3)\n",
      "Requirement already satisfied: requests<3.0.0,>=2.13.0 in /Users/ravi.tej/anaconda3/envs/recoenv/lib/python3.11/site-packages (from spacy) (2.31.0)\n",
      "Collecting pydantic!=1.8,!=1.8.1,<3.0.0,>=1.7.4 (from spacy)\n",
      "  Obtaining dependency information for pydantic!=1.8,!=1.8.1,<3.0.0,>=1.7.4 from https://files.pythonhosted.org/packages/82/06/fafdc75e48b248eff364b4249af4bcc6952225e8f20e8205820afc66e88e/pydantic-2.3.0-py3-none-any.whl.metadata\n",
      "  Downloading pydantic-2.3.0-py3-none-any.whl.metadata (148 kB)\n",
      "\u001b[2K     \u001b[90m━━━━━━━━━━━━━━━━━━━━━━━━━━━━━━━━━━━━━━━\u001b[0m \u001b[32m148.8/148.8 kB\u001b[0m \u001b[31m4.6 MB/s\u001b[0m eta \u001b[36m0:00:00\u001b[0m\n",
      "\u001b[?25hRequirement already satisfied: jinja2 in /Users/ravi.tej/anaconda3/envs/recoenv/lib/python3.11/site-packages (from spacy) (3.1.2)\n",
      "Requirement already satisfied: setuptools in /Users/ravi.tej/anaconda3/envs/recoenv/lib/python3.11/site-packages (from spacy) (68.0.0)\n",
      "Requirement already satisfied: packaging>=20.0 in /Users/ravi.tej/anaconda3/envs/recoenv/lib/python3.11/site-packages (from spacy) (23.1)\n",
      "Collecting langcodes<4.0.0,>=3.2.0 (from spacy)\n",
      "  Downloading langcodes-3.3.0-py3-none-any.whl (181 kB)\n",
      "\u001b[2K     \u001b[90m━━━━━━━━━━━━━━━━━━━━━━━━━━━━━━━━━━━━━━\u001b[0m \u001b[32m181.6/181.6 kB\u001b[0m \u001b[31m14.5 MB/s\u001b[0m eta \u001b[36m0:00:00\u001b[0m\n",
      "\u001b[?25hCollecting annotated-types>=0.4.0 (from pydantic!=1.8,!=1.8.1,<3.0.0,>=1.7.4->spacy)\n",
      "  Obtaining dependency information for annotated-types>=0.4.0 from https://files.pythonhosted.org/packages/d8/f0/a2ee543a96cc624c35a9086f39b1ed2aa403c6d355dfe47a11ee5c64a164/annotated_types-0.5.0-py3-none-any.whl.metadata\n",
      "  Downloading annotated_types-0.5.0-py3-none-any.whl.metadata (11 kB)\n",
      "Collecting pydantic-core==2.6.3 (from pydantic!=1.8,!=1.8.1,<3.0.0,>=1.7.4->spacy)\n",
      "  Obtaining dependency information for pydantic-core==2.6.3 from https://files.pythonhosted.org/packages/c4/dc/bbc346df4afa3aa4c9ec2a6d22c9fd31c326a2d99a491055d735519c2a3f/pydantic_core-2.6.3-cp311-cp311-macosx_11_0_arm64.whl.metadata\n",
      "  Downloading pydantic_core-2.6.3-cp311-cp311-macosx_11_0_arm64.whl.metadata (6.5 kB)\n",
      "Requirement already satisfied: typing-extensions>=4.6.1 in /Users/ravi.tej/anaconda3/envs/recoenv/lib/python3.11/site-packages (from pydantic!=1.8,!=1.8.1,<3.0.0,>=1.7.4->spacy) (4.7.1)\n",
      "Requirement already satisfied: charset-normalizer<4,>=2 in /Users/ravi.tej/anaconda3/envs/recoenv/lib/python3.11/site-packages (from requests<3.0.0,>=2.13.0->spacy) (2.0.4)\n",
      "Requirement already satisfied: idna<4,>=2.5 in /Users/ravi.tej/anaconda3/envs/recoenv/lib/python3.11/site-packages (from requests<3.0.0,>=2.13.0->spacy) (3.4)\n",
      "Requirement already satisfied: urllib3<3,>=1.21.1 in /Users/ravi.tej/anaconda3/envs/recoenv/lib/python3.11/site-packages (from requests<3.0.0,>=2.13.0->spacy) (1.26.16)\n",
      "Requirement already satisfied: certifi>=2017.4.17 in /Users/ravi.tej/anaconda3/envs/recoenv/lib/python3.11/site-packages (from requests<3.0.0,>=2.13.0->spacy) (2023.7.22)\n",
      "Collecting blis<0.8.0,>=0.7.8 (from thinc<8.2.0,>=8.1.8->spacy)\n",
      "  Obtaining dependency information for blis<0.8.0,>=0.7.8 from https://files.pythonhosted.org/packages/a8/73/0a9d4e7f6e78ef270e3a4532b17e060a02087590cf615ba9943fd1a283e9/blis-0.7.11-cp311-cp311-macosx_11_0_arm64.whl.metadata\n",
      "  Downloading blis-0.7.11-cp311-cp311-macosx_11_0_arm64.whl.metadata (7.4 kB)\n",
      "Collecting confection<1.0.0,>=0.0.1 (from thinc<8.2.0,>=8.1.8->spacy)\n",
      "  Obtaining dependency information for confection<1.0.0,>=0.0.1 from https://files.pythonhosted.org/packages/93/f8/e89268a1f885048fb2ee6b5c9f93c4e90de768534acfef3652f87d97d4cb/confection-0.1.3-py3-none-any.whl.metadata\n",
      "  Downloading confection-0.1.3-py3-none-any.whl.metadata (19 kB)\n",
      "Requirement already satisfied: click<9.0.0,>=7.1.1 in /Users/ravi.tej/anaconda3/envs/recoenv/lib/python3.11/site-packages (from typer<0.10.0,>=0.3.0->spacy) (8.0.4)\n",
      "Requirement already satisfied: MarkupSafe>=2.0 in /Users/ravi.tej/anaconda3/envs/recoenv/lib/python3.11/site-packages (from jinja2->spacy) (2.1.1)\n",
      "Downloading spacy-3.6.1-cp311-cp311-macosx_11_0_arm64.whl (6.5 MB)\n",
      "\u001b[2K   \u001b[90m━━━━━━━━━━━━━━━━━━━━━━━━━━━━━━━━━━━━━━━━\u001b[0m \u001b[32m6.5/6.5 MB\u001b[0m \u001b[31m14.5 MB/s\u001b[0m eta \u001b[36m0:00:00\u001b[0ma \u001b[36m0:00:01\u001b[0m\n",
      "\u001b[?25hDownloading catalogue-2.0.10-py3-none-any.whl (17 kB)\n",
      "Downloading cymem-2.0.8-cp311-cp311-macosx_11_0_arm64.whl (41 kB)\n",
      "\u001b[2K   \u001b[90m━━━━━━━━━━━━━━━━━━━━━━━━━━━━━━━━━━━━━━━━\u001b[0m \u001b[32m41.2/41.2 kB\u001b[0m \u001b[31m5.4 MB/s\u001b[0m eta \u001b[36m0:00:00\u001b[0m\n",
      "\u001b[?25hDownloading murmurhash-1.0.10-cp311-cp311-macosx_11_0_arm64.whl (26 kB)\n",
      "Downloading pathy-0.10.2-py3-none-any.whl (48 kB)\n",
      "\u001b[2K   \u001b[90m━━━━━━━━━━━━━━━━━━━━━━━━━━━━━━━━━━━━━━━━\u001b[0m \u001b[32m48.9/48.9 kB\u001b[0m \u001b[31m6.4 MB/s\u001b[0m eta \u001b[36m0:00:00\u001b[0m\n",
      "\u001b[?25hDownloading preshed-3.0.9-cp311-cp311-macosx_11_0_arm64.whl (128 kB)\n",
      "\u001b[2K   \u001b[90m━━━━━━━━━━━━━━━━━━━━━━━━━━━━━━━━━━━━━━━━\u001b[0m \u001b[32m128.8/128.8 kB\u001b[0m \u001b[31m18.2 MB/s\u001b[0m eta \u001b[36m0:00:00\u001b[0m\n",
      "\u001b[?25hDownloading pydantic-2.3.0-py3-none-any.whl (374 kB)\n",
      "\u001b[2K   \u001b[90m━━━━━━━━━━━━━━━━━━━━━━━━━━━━━━━━━━━━━━━━\u001b[0m \u001b[32m374.5/374.5 kB\u001b[0m \u001b[31m22.2 MB/s\u001b[0m eta \u001b[36m0:00:00\u001b[0m\n",
      "\u001b[?25hDownloading pydantic_core-2.6.3-cp311-cp311-macosx_11_0_arm64.whl (1.6 MB)\n",
      "\u001b[2K   \u001b[90m━━━━━━━━━━━━━━━━━━━━━━━━━━━━━━━━━━━━━━━━\u001b[0m \u001b[32m1.6/1.6 MB\u001b[0m \u001b[31m15.6 MB/s\u001b[0m eta \u001b[36m0:00:00\u001b[0ma \u001b[36m0:00:01\u001b[0m\n",
      "\u001b[?25hDownloading smart_open-6.4.0-py3-none-any.whl (57 kB)\n",
      "\u001b[2K   \u001b[90m━━━━━━━━━━━━━━━━━━━━━━━━━━━━━━━━━━━━━━━━\u001b[0m \u001b[32m57.0/57.0 kB\u001b[0m \u001b[31m6.8 MB/s\u001b[0m eta \u001b[36m0:00:00\u001b[0m\n",
      "\u001b[?25hDownloading spacy_loggers-1.0.5-py3-none-any.whl (22 kB)\n",
      "Downloading srsly-2.4.8-cp311-cp311-macosx_11_0_arm64.whl (488 kB)\n",
      "\u001b[2K   \u001b[90m━━━━━━━━━━━━━━━━━━━━━━━━━━━━━━━━━━━━━━━━\u001b[0m \u001b[32m488.4/488.4 kB\u001b[0m \u001b[31m22.7 MB/s\u001b[0m eta \u001b[36m0:00:00\u001b[0m\n",
      "\u001b[?25hDownloading thinc-8.1.12-cp311-cp311-macosx_11_0_arm64.whl (776 kB)\n",
      "\u001b[2K   \u001b[90m━━━━━━━━━━━━━━━━━━━━━━━━━━━━━━━━━━━━━━━━\u001b[0m \u001b[32m776.4/776.4 kB\u001b[0m \u001b[31m19.8 MB/s\u001b[0m eta \u001b[36m0:00:00\u001b[0m00:01\u001b[0m\n",
      "\u001b[?25hDownloading wasabi-1.1.2-py3-none-any.whl (27 kB)\n",
      "Downloading annotated_types-0.5.0-py3-none-any.whl (11 kB)\n",
      "Downloading blis-0.7.11-cp311-cp311-macosx_11_0_arm64.whl (1.1 MB)\n",
      "\u001b[2K   \u001b[90m━━━━━━━━━━━━━━━━━━━━━━━━━━━━━━━━━━━━━━━━\u001b[0m \u001b[32m1.1/1.1 MB\u001b[0m \u001b[31m14.3 MB/s\u001b[0m eta \u001b[36m0:00:00\u001b[0m00:01\u001b[0m00:01\u001b[0m\n",
      "\u001b[?25hDownloading confection-0.1.3-py3-none-any.whl (34 kB)\n",
      "Installing collected packages: cymem, wasabi, typer, spacy-loggers, spacy-legacy, smart-open, pydantic-core, murmurhash, langcodes, catalogue, blis, annotated-types, srsly, pydantic, preshed, pathy, confection, thinc, spacy\n",
      "Successfully installed annotated-types-0.5.0 blis-0.7.11 catalogue-2.0.10 confection-0.1.3 cymem-2.0.8 langcodes-3.3.0 murmurhash-1.0.10 pathy-0.10.2 preshed-3.0.9 pydantic-2.3.0 pydantic-core-2.6.3 smart-open-6.4.0 spacy-3.6.1 spacy-legacy-3.0.12 spacy-loggers-1.0.5 srsly-2.4.8 thinc-8.1.12 typer-0.9.0 wasabi-1.1.2\n"
     ]
    }
   ],
   "source": [
    "!pip install spacy"
   ]
  },
  {
   "cell_type": "code",
   "execution_count": 42,
   "id": "207b3dd2-f693-4659-98c2-1961e4cbd40c",
   "metadata": {
    "tags": []
   },
   "outputs": [],
   "source": [
    "import spacy"
   ]
  },
  {
   "cell_type": "code",
   "execution_count": 44,
   "id": "79a67167-92f1-430b-b802-cb1951939da3",
   "metadata": {
    "tags": []
   },
   "outputs": [
    {
     "name": "stdout",
     "output_type": "stream",
     "text": [
      "^C\n",
      "\n",
      "Aborted!\n"
     ]
    }
   ],
   "source": [
    "!python -m spacy download en_core_web_sm"
   ]
  },
  {
   "cell_type": "code",
   "execution_count": 45,
   "id": "d8fc1584-a51b-4986-9ac3-12c2880964f2",
   "metadata": {
    "tags": []
   },
   "outputs": [],
   "source": [
    "gpt_words = 'apple, banana, cherry, dragon, eagle, falcon, garden, harbor, iceberg, jaguar, kettle, lemon, magnet, nebula, onion, panda, quasar, rabbit, salmon, tomato, unicorn, volcano, waffle, xerox, yellow, zebra, acorn, bubble, candle, dewdrop, emerald, feather, glacier, hammock, inkwell, jasmine, kiwi, lantern, meadow, nectar, oregano, pebble, quiver, rainbow, seashell, tangerine, umbrella, vanilla, walnut, xylophone, yo-yo, zipper, asteroid, biscuit, cactus, dolphin, eclipse, firefly, gecko, honey, icicle, jackal, koala, lighthouse, mango, notebook, ostrich, pancake, quiche, rhino, starfish, teapot, uvula, vase, windmill, x-ray, yogurt, zigzag, apricot, bluejay, chameleon, daffodil, elf, fern, goblin, hummingbird, iris, jigsaw, kangaroo, ladybug, minnow, narwhal, olive, parrot, quesadilla, raccoon, snail, trampoline, utensil, vine, willow, xenon, yawn, zest, armadillo, barnacle, clover, dingo, escalator, flounder, geyser, hyena, ivy, joystick, kaleidoscope, leprechaun, marigold, nougat, otter, puzzle, quinoa, reindeer, sapphire, tortilla, ukulele, velvet, whisk, xanadu, yardstick, zipline, avocado, bumblebee, chestnut, daisy, envelope, foxglove, giraffe, hazelnut, island, jellyfish, kiwifruit, licorice, marshmallow, needle, ocelot, pineapple, quokka, rosemary, scallop, treasure, unicycle, violin, watermelon, xenophobe, yodel, zamboni'"
   ]
  },
  {
   "cell_type": "code",
   "execution_count": 51,
   "id": "8ca14a99-001d-4829-9fa1-13c07aa91538",
   "metadata": {
    "tags": []
   },
   "outputs": [],
   "source": [
    "gpt_words = gpt_words.replace('-','')"
   ]
  },
  {
   "cell_type": "code",
   "execution_count": 52,
   "id": "64388d7d-fcd3-452e-ab15-888936d3eef0",
   "metadata": {
    "tags": []
   },
   "outputs": [],
   "source": [
    "gpt_word_list = gpt_words.split(', ')"
   ]
  },
  {
   "cell_type": "code",
   "execution_count": 55,
   "id": "e125ef2e-7c66-4571-ab87-90db5bd0af57",
   "metadata": {
    "scrolled": true,
    "tags": []
   },
   "outputs": [],
   "source": [
    "gpt_word_list = [x.capitalize() for x in gpt_word_list]"
   ]
  },
  {
   "cell_type": "code",
   "execution_count": 56,
   "id": "dbcb4d56-7f90-4d91-8043-d542a7f911f0",
   "metadata": {
    "tags": []
   },
   "outputs": [],
   "source": [
    "file = open('../../src/clustering/words.txt','w')\n",
    "for item in gpt_word_list:\n",
    "    file.write(item+\"\\n\")\n",
    "file.close()"
   ]
  },
  {
   "cell_type": "code",
   "execution_count": 67,
   "id": "a96e95e1-48dd-48a3-ace4-293ad480febe",
   "metadata": {
    "tags": []
   },
   "outputs": [],
   "source": [
    "import string"
   ]
  },
  {
   "cell_type": "code",
   "execution_count": 70,
   "id": "eb64eb29-2e25-4896-82d4-d7e4c8103ebe",
   "metadata": {
    "tags": []
   },
   "outputs": [],
   "source": [
    "characters = string.ascii_letters"
   ]
  },
  {
   "cell_type": "code",
   "execution_count": 71,
   "id": "721aa15b-26a0-4284-8373-da7f3a0f9d1d",
   "metadata": {
    "tags": []
   },
   "outputs": [
    {
     "data": {
      "text/plain": [
       "'abcdefghijklmnopqrstuvwxyzABCDEFGHIJKLMNOPQRSTUVWXYZ'"
      ]
     },
     "execution_count": 71,
     "metadata": {},
     "output_type": "execute_result"
    }
   ],
   "source": [
    "characters"
   ]
  },
  {
   "cell_type": "code",
   "execution_count": 57,
   "id": "24763c11-e5e4-4644-a2a9-2c62d53636fd",
   "metadata": {
    "tags": []
   },
   "outputs": [],
   "source": [
    "with open('../../src/clustering/words.txt', 'r') as file:\n",
    "    # Create an empty list to store the lines\n",
    "    words = []\n",
    "    # Iterate over the lines of the file\n",
    "    for line in file:\n",
    "        # Remove the newline character at the end of the line\n",
    "        line = line.strip()\n",
    "\n",
    "        # Append the line to the list\n",
    "        words.append(line)"
   ]
  },
  {
   "cell_type": "code",
   "execution_count": 59,
   "id": "40976e6a-f5f7-49b2-8c29-a64d2fb31298",
   "metadata": {
    "tags": []
   },
   "outputs": [],
   "source": [
    "import random"
   ]
  },
  {
   "cell_type": "code",
   "execution_count": 61,
   "id": "ff20888a-d6e2-4ef6-af5b-61b84810facc",
   "metadata": {
    "tags": []
   },
   "outputs": [
    {
     "data": {
      "text/plain": [
       "\u001b[0;31mSignature:\u001b[0m \u001b[0mrandom\u001b[0m\u001b[0;34m.\u001b[0m\u001b[0mchoice\u001b[0m\u001b[0;34m(\u001b[0m\u001b[0mseq\u001b[0m\u001b[0;34m)\u001b[0m\u001b[0;34m\u001b[0m\u001b[0;34m\u001b[0m\u001b[0m\n",
       "\u001b[0;31mDocstring:\u001b[0m Choose a random element from a non-empty sequence.\n",
       "\u001b[0;31mFile:\u001b[0m      ~/anaconda3/envs/recoenv/lib/python3.11/random.py\n",
       "\u001b[0;31mType:\u001b[0m      method"
      ]
     },
     "metadata": {},
     "output_type": "display_data"
    }
   ],
   "source": [
    "random.choice?"
   ]
  },
  {
   "cell_type": "code",
   "execution_count": 62,
   "id": "40950a64-c2c4-4e6a-91d4-60cf6b23e76a",
   "metadata": {
    "scrolled": true,
    "tags": []
   },
   "outputs": [
    {
     "data": {
      "text/plain": [
       "\u001b[0;31mSignature:\u001b[0m \u001b[0mrandom\u001b[0m\u001b[0;34m.\u001b[0m\u001b[0msample\u001b[0m\u001b[0;34m(\u001b[0m\u001b[0mpopulation\u001b[0m\u001b[0;34m,\u001b[0m \u001b[0mk\u001b[0m\u001b[0;34m,\u001b[0m \u001b[0;34m*\u001b[0m\u001b[0;34m,\u001b[0m \u001b[0mcounts\u001b[0m\u001b[0;34m=\u001b[0m\u001b[0;32mNone\u001b[0m\u001b[0;34m)\u001b[0m\u001b[0;34m\u001b[0m\u001b[0;34m\u001b[0m\u001b[0m\n",
       "\u001b[0;31mDocstring:\u001b[0m\n",
       "Chooses k unique random elements from a population sequence.\n",
       "\n",
       "Returns a new list containing elements from the population while\n",
       "leaving the original population unchanged.  The resulting list is\n",
       "in selection order so that all sub-slices will also be valid random\n",
       "samples.  This allows raffle winners (the sample) to be partitioned\n",
       "into grand prize and second place winners (the subslices).\n",
       "\n",
       "Members of the population need not be hashable or unique.  If the\n",
       "population contains repeats, then each occurrence is a possible\n",
       "selection in the sample.\n",
       "\n",
       "Repeated elements can be specified one at a time or with the optional\n",
       "counts parameter.  For example:\n",
       "\n",
       "    sample(['red', 'blue'], counts=[4, 2], k=5)\n",
       "\n",
       "is equivalent to:\n",
       "\n",
       "    sample(['red', 'red', 'red', 'red', 'blue', 'blue'], k=5)\n",
       "\n",
       "To choose a sample from a range of integers, use range() for the\n",
       "population argument.  This is especially fast and space efficient\n",
       "for sampling from a large population:\n",
       "\n",
       "    sample(range(10000000), 60)\n",
       "\u001b[0;31mFile:\u001b[0m      ~/anaconda3/envs/recoenv/lib/python3.11/random.py\n",
       "\u001b[0;31mType:\u001b[0m      method"
      ]
     },
     "metadata": {},
     "output_type": "display_data"
    }
   ],
   "source": [
    "random.sample?"
   ]
  },
  {
   "cell_type": "code",
   "execution_count": 66,
   "id": "ce4b3543-2ccb-4928-8a6f-8c01486a3058",
   "metadata": {
    "tags": []
   },
   "outputs": [
    {
     "data": {
      "text/plain": [
       "'ZebraDewdropEmerald'"
      ]
     },
     "execution_count": 66,
     "metadata": {},
     "output_type": "execute_result"
    }
   ],
   "source": [
    "''.join(random.sample(words,3))"
   ]
  },
  {
   "cell_type": "code",
   "execution_count": 58,
   "id": "2c260bc6-caf8-4732-a4dc-54ade29ecdcc",
   "metadata": {
    "scrolled": true,
    "tags": []
   },
   "outputs": [
    {
     "data": {
      "text/plain": [
       "['Apple',\n",
       " 'Banana',\n",
       " 'Cherry',\n",
       " 'Dragon',\n",
       " 'Eagle',\n",
       " 'Falcon',\n",
       " 'Garden',\n",
       " 'Harbor',\n",
       " 'Iceberg',\n",
       " 'Jaguar',\n",
       " 'Kettle',\n",
       " 'Lemon',\n",
       " 'Magnet',\n",
       " 'Nebula',\n",
       " 'Onion',\n",
       " 'Panda',\n",
       " 'Quasar',\n",
       " 'Rabbit',\n",
       " 'Salmon',\n",
       " 'Tomato',\n",
       " 'Unicorn',\n",
       " 'Volcano',\n",
       " 'Waffle',\n",
       " 'Xerox',\n",
       " 'Yellow',\n",
       " 'Zebra',\n",
       " 'Acorn',\n",
       " 'Bubble',\n",
       " 'Candle',\n",
       " 'Dewdrop',\n",
       " 'Emerald',\n",
       " 'Feather',\n",
       " 'Glacier',\n",
       " 'Hammock',\n",
       " 'Inkwell',\n",
       " 'Jasmine',\n",
       " 'Kiwi',\n",
       " 'Lantern',\n",
       " 'Meadow',\n",
       " 'Nectar',\n",
       " 'Oregano',\n",
       " 'Pebble',\n",
       " 'Quiver',\n",
       " 'Rainbow',\n",
       " 'Seashell',\n",
       " 'Tangerine',\n",
       " 'Umbrella',\n",
       " 'Vanilla',\n",
       " 'Walnut',\n",
       " 'Xylophone',\n",
       " 'Yoyo',\n",
       " 'Zipper',\n",
       " 'Asteroid',\n",
       " 'Biscuit',\n",
       " 'Cactus',\n",
       " 'Dolphin',\n",
       " 'Eclipse',\n",
       " 'Firefly',\n",
       " 'Gecko',\n",
       " 'Honey',\n",
       " 'Icicle',\n",
       " 'Jackal',\n",
       " 'Koala',\n",
       " 'Lighthouse',\n",
       " 'Mango',\n",
       " 'Notebook',\n",
       " 'Ostrich',\n",
       " 'Pancake',\n",
       " 'Quiche',\n",
       " 'Rhino',\n",
       " 'Starfish',\n",
       " 'Teapot',\n",
       " 'Uvula',\n",
       " 'Vase',\n",
       " 'Windmill',\n",
       " 'Xray',\n",
       " 'Yogurt',\n",
       " 'Zigzag',\n",
       " 'Apricot',\n",
       " 'Bluejay',\n",
       " 'Chameleon',\n",
       " 'Daffodil',\n",
       " 'Elf',\n",
       " 'Fern',\n",
       " 'Goblin',\n",
       " 'Hummingbird',\n",
       " 'Iris',\n",
       " 'Jigsaw',\n",
       " 'Kangaroo',\n",
       " 'Ladybug',\n",
       " 'Minnow',\n",
       " 'Narwhal',\n",
       " 'Olive',\n",
       " 'Parrot',\n",
       " 'Quesadilla',\n",
       " 'Raccoon',\n",
       " 'Snail',\n",
       " 'Trampoline',\n",
       " 'Utensil',\n",
       " 'Vine',\n",
       " 'Willow',\n",
       " 'Xenon',\n",
       " 'Yawn',\n",
       " 'Zest',\n",
       " 'Armadillo',\n",
       " 'Barnacle',\n",
       " 'Clover',\n",
       " 'Dingo',\n",
       " 'Escalator',\n",
       " 'Flounder',\n",
       " 'Geyser',\n",
       " 'Hyena',\n",
       " 'Ivy',\n",
       " 'Joystick',\n",
       " 'Kaleidoscope',\n",
       " 'Leprechaun',\n",
       " 'Marigold',\n",
       " 'Nougat',\n",
       " 'Otter',\n",
       " 'Puzzle',\n",
       " 'Quinoa',\n",
       " 'Reindeer',\n",
       " 'Sapphire',\n",
       " 'Tortilla',\n",
       " 'Ukulele',\n",
       " 'Velvet',\n",
       " 'Whisk',\n",
       " 'Xanadu',\n",
       " 'Yardstick',\n",
       " 'Zipline',\n",
       " 'Avocado',\n",
       " 'Bumblebee',\n",
       " 'Chestnut',\n",
       " 'Daisy',\n",
       " 'Envelope',\n",
       " 'Foxglove',\n",
       " 'Giraffe',\n",
       " 'Hazelnut',\n",
       " 'Island',\n",
       " 'Jellyfish',\n",
       " 'Kiwifruit',\n",
       " 'Licorice',\n",
       " 'Marshmallow',\n",
       " 'Needle',\n",
       " 'Ocelot',\n",
       " 'Pineapple',\n",
       " 'Quokka',\n",
       " 'Rosemary',\n",
       " 'Scallop',\n",
       " 'Treasure',\n",
       " 'Unicycle',\n",
       " 'Violin',\n",
       " 'Watermelon',\n",
       " 'Xenophobe',\n",
       " 'Yodel',\n",
       " 'Zamboni']"
      ]
     },
     "execution_count": 58,
     "metadata": {},
     "output_type": "execute_result"
    }
   ],
   "source": [
    "words"
   ]
  },
  {
   "cell_type": "code",
   "execution_count": 48,
   "id": "f36a0f5b-d447-4c61-bf72-efec52585668",
   "metadata": {
    "tags": []
   },
   "outputs": [
    {
     "data": {
      "text/plain": [
       "156"
      ]
     },
     "execution_count": 48,
     "metadata": {},
     "output_type": "execute_result"
    }
   ],
   "source": [
    "len(gpt_words.split(', '))"
   ]
  },
  {
   "cell_type": "code",
   "execution_count": 39,
   "id": "bfb33574-de70-4b2c-8557-c5b05e4e7b68",
   "metadata": {
    "tags": []
   },
   "outputs": [
    {
     "name": "stderr",
     "output_type": "stream",
     "text": [
      "[nltk_data] Error loading all: <urlopen error [Errno 60] Operation\n",
      "[nltk_data]     timed out>\n"
     ]
    },
    {
     "data": {
      "text/plain": [
       "False"
      ]
     },
     "execution_count": 39,
     "metadata": {},
     "output_type": "execute_result"
    }
   ],
   "source": [
    "nltk.download('all')"
   ]
  },
  {
   "cell_type": "code",
   "execution_count": 37,
   "id": "7b7a3ba6-7cd2-4757-8cec-7cfd50fa72fa",
   "metadata": {
    "tags": []
   },
   "outputs": [
    {
     "name": "stderr",
     "output_type": "stream",
     "text": [
      "[nltk_data] Error loading words: <urlopen error [Errno 60] Operation\n",
      "[nltk_data]     timed out>\n"
     ]
    },
    {
     "data": {
      "text/plain": [
       "False"
      ]
     },
     "execution_count": 37,
     "metadata": {},
     "output_type": "execute_result"
    }
   ],
   "source": [
    "nltk.download('words')"
   ]
  },
  {
   "cell_type": "code",
   "execution_count": 38,
   "id": "0a928696-07a0-4406-9db0-6794ddeddd0d",
   "metadata": {
    "tags": []
   },
   "outputs": [
    {
     "ename": "LookupError",
     "evalue": "\n**********************************************************************\n  Resource \u001b[93mwords\u001b[0m not found.\n  Please use the NLTK Downloader to obtain the resource:\n\n  \u001b[31m>>> import nltk\n  >>> nltk.download('words')\n  \u001b[0m\n  For more information see: https://www.nltk.org/data.html\n\n  Attempted to load \u001b[93mcorpora/words\u001b[0m\n\n  Searched in:\n    - '/Users/ravi.tej/nltk_data'\n    - '/Users/ravi.tej/anaconda3/envs/recoenv/nltk_data'\n    - '/Users/ravi.tej/anaconda3/envs/recoenv/share/nltk_data'\n    - '/Users/ravi.tej/anaconda3/envs/recoenv/lib/nltk_data'\n    - '/usr/share/nltk_data'\n    - '/usr/local/share/nltk_data'\n    - '/usr/lib/nltk_data'\n    - '/usr/local/lib/nltk_data'\n**********************************************************************\n",
     "output_type": "error",
     "traceback": [
      "\u001b[0;31m---------------------------------------------------------------------------\u001b[0m",
      "\u001b[0;31mLookupError\u001b[0m                               Traceback (most recent call last)",
      "File \u001b[0;32m~/anaconda3/envs/recoenv/lib/python3.11/site-packages/nltk/corpus/util.py:84\u001b[0m, in \u001b[0;36mLazyCorpusLoader.__load\u001b[0;34m(self)\u001b[0m\n\u001b[1;32m     83\u001b[0m \u001b[38;5;28;01mtry\u001b[39;00m:\n\u001b[0;32m---> 84\u001b[0m     root \u001b[38;5;241m=\u001b[39m nltk\u001b[38;5;241m.\u001b[39mdata\u001b[38;5;241m.\u001b[39mfind(\u001b[38;5;124mf\u001b[39m\u001b[38;5;124m\"\u001b[39m\u001b[38;5;132;01m{\u001b[39;00m\u001b[38;5;28mself\u001b[39m\u001b[38;5;241m.\u001b[39msubdir\u001b[38;5;132;01m}\u001b[39;00m\u001b[38;5;124m/\u001b[39m\u001b[38;5;132;01m{\u001b[39;00mzip_name\u001b[38;5;132;01m}\u001b[39;00m\u001b[38;5;124m\"\u001b[39m)\n\u001b[1;32m     85\u001b[0m \u001b[38;5;28;01mexcept\u001b[39;00m \u001b[38;5;167;01mLookupError\u001b[39;00m:\n",
      "File \u001b[0;32m~/anaconda3/envs/recoenv/lib/python3.11/site-packages/nltk/data.py:583\u001b[0m, in \u001b[0;36mfind\u001b[0;34m(resource_name, paths)\u001b[0m\n\u001b[1;32m    582\u001b[0m resource_not_found \u001b[38;5;241m=\u001b[39m \u001b[38;5;124mf\u001b[39m\u001b[38;5;124m\"\u001b[39m\u001b[38;5;130;01m\\n\u001b[39;00m\u001b[38;5;132;01m{\u001b[39;00msep\u001b[38;5;132;01m}\u001b[39;00m\u001b[38;5;130;01m\\n\u001b[39;00m\u001b[38;5;132;01m{\u001b[39;00mmsg\u001b[38;5;132;01m}\u001b[39;00m\u001b[38;5;130;01m\\n\u001b[39;00m\u001b[38;5;132;01m{\u001b[39;00msep\u001b[38;5;132;01m}\u001b[39;00m\u001b[38;5;130;01m\\n\u001b[39;00m\u001b[38;5;124m\"\u001b[39m\n\u001b[0;32m--> 583\u001b[0m \u001b[38;5;28;01mraise\u001b[39;00m \u001b[38;5;167;01mLookupError\u001b[39;00m(resource_not_found)\n",
      "\u001b[0;31mLookupError\u001b[0m: \n**********************************************************************\n  Resource \u001b[93mwords\u001b[0m not found.\n  Please use the NLTK Downloader to obtain the resource:\n\n  \u001b[31m>>> import nltk\n  >>> nltk.download('words')\n  \u001b[0m\n  For more information see: https://www.nltk.org/data.html\n\n  Attempted to load \u001b[93mcorpora/words.zip/words/\u001b[0m\n\n  Searched in:\n    - '/Users/ravi.tej/nltk_data'\n    - '/Users/ravi.tej/anaconda3/envs/recoenv/nltk_data'\n    - '/Users/ravi.tej/anaconda3/envs/recoenv/share/nltk_data'\n    - '/Users/ravi.tej/anaconda3/envs/recoenv/lib/nltk_data'\n    - '/usr/share/nltk_data'\n    - '/usr/local/share/nltk_data'\n    - '/usr/lib/nltk_data'\n    - '/usr/local/lib/nltk_data'\n**********************************************************************\n",
      "\nDuring handling of the above exception, another exception occurred:\n",
      "\u001b[0;31mLookupError\u001b[0m                               Traceback (most recent call last)",
      "Cell \u001b[0;32mIn[38], line 1\u001b[0m\n\u001b[0;32m----> 1\u001b[0m word_list \u001b[38;5;241m=\u001b[39m nltk\u001b[38;5;241m.\u001b[39mcorpus\u001b[38;5;241m.\u001b[39mwords\u001b[38;5;241m.\u001b[39mwords()\n",
      "File \u001b[0;32m~/anaconda3/envs/recoenv/lib/python3.11/site-packages/nltk/corpus/util.py:121\u001b[0m, in \u001b[0;36mLazyCorpusLoader.__getattr__\u001b[0;34m(self, attr)\u001b[0m\n\u001b[1;32m    118\u001b[0m \u001b[38;5;28;01mif\u001b[39;00m attr \u001b[38;5;241m==\u001b[39m \u001b[38;5;124m\"\u001b[39m\u001b[38;5;124m__bases__\u001b[39m\u001b[38;5;124m\"\u001b[39m:\n\u001b[1;32m    119\u001b[0m     \u001b[38;5;28;01mraise\u001b[39;00m \u001b[38;5;167;01mAttributeError\u001b[39;00m(\u001b[38;5;124m\"\u001b[39m\u001b[38;5;124mLazyCorpusLoader object has no attribute \u001b[39m\u001b[38;5;124m'\u001b[39m\u001b[38;5;124m__bases__\u001b[39m\u001b[38;5;124m'\u001b[39m\u001b[38;5;124m\"\u001b[39m)\n\u001b[0;32m--> 121\u001b[0m \u001b[38;5;28mself\u001b[39m\u001b[38;5;241m.\u001b[39m__load()\n\u001b[1;32m    122\u001b[0m \u001b[38;5;66;03m# This looks circular, but its not, since __load() changes our\u001b[39;00m\n\u001b[1;32m    123\u001b[0m \u001b[38;5;66;03m# __class__ to something new:\u001b[39;00m\n\u001b[1;32m    124\u001b[0m \u001b[38;5;28;01mreturn\u001b[39;00m \u001b[38;5;28mgetattr\u001b[39m(\u001b[38;5;28mself\u001b[39m, attr)\n",
      "File \u001b[0;32m~/anaconda3/envs/recoenv/lib/python3.11/site-packages/nltk/corpus/util.py:86\u001b[0m, in \u001b[0;36mLazyCorpusLoader.__load\u001b[0;34m(self)\u001b[0m\n\u001b[1;32m     84\u001b[0m             root \u001b[38;5;241m=\u001b[39m nltk\u001b[38;5;241m.\u001b[39mdata\u001b[38;5;241m.\u001b[39mfind(\u001b[38;5;124mf\u001b[39m\u001b[38;5;124m\"\u001b[39m\u001b[38;5;132;01m{\u001b[39;00m\u001b[38;5;28mself\u001b[39m\u001b[38;5;241m.\u001b[39msubdir\u001b[38;5;132;01m}\u001b[39;00m\u001b[38;5;124m/\u001b[39m\u001b[38;5;132;01m{\u001b[39;00mzip_name\u001b[38;5;132;01m}\u001b[39;00m\u001b[38;5;124m\"\u001b[39m)\n\u001b[1;32m     85\u001b[0m         \u001b[38;5;28;01mexcept\u001b[39;00m \u001b[38;5;167;01mLookupError\u001b[39;00m:\n\u001b[0;32m---> 86\u001b[0m             \u001b[38;5;28;01mraise\u001b[39;00m e\n\u001b[1;32m     88\u001b[0m \u001b[38;5;66;03m# Load the corpus.\u001b[39;00m\n\u001b[1;32m     89\u001b[0m corpus \u001b[38;5;241m=\u001b[39m \u001b[38;5;28mself\u001b[39m\u001b[38;5;241m.\u001b[39m__reader_cls(root, \u001b[38;5;241m*\u001b[39m\u001b[38;5;28mself\u001b[39m\u001b[38;5;241m.\u001b[39m__args, \u001b[38;5;241m*\u001b[39m\u001b[38;5;241m*\u001b[39m\u001b[38;5;28mself\u001b[39m\u001b[38;5;241m.\u001b[39m__kwargs)\n",
      "File \u001b[0;32m~/anaconda3/envs/recoenv/lib/python3.11/site-packages/nltk/corpus/util.py:81\u001b[0m, in \u001b[0;36mLazyCorpusLoader.__load\u001b[0;34m(self)\u001b[0m\n\u001b[1;32m     79\u001b[0m \u001b[38;5;28;01melse\u001b[39;00m:\n\u001b[1;32m     80\u001b[0m     \u001b[38;5;28;01mtry\u001b[39;00m:\n\u001b[0;32m---> 81\u001b[0m         root \u001b[38;5;241m=\u001b[39m nltk\u001b[38;5;241m.\u001b[39mdata\u001b[38;5;241m.\u001b[39mfind(\u001b[38;5;124mf\u001b[39m\u001b[38;5;124m\"\u001b[39m\u001b[38;5;132;01m{\u001b[39;00m\u001b[38;5;28mself\u001b[39m\u001b[38;5;241m.\u001b[39msubdir\u001b[38;5;132;01m}\u001b[39;00m\u001b[38;5;124m/\u001b[39m\u001b[38;5;132;01m{\u001b[39;00m\u001b[38;5;28mself\u001b[39m\u001b[38;5;241m.\u001b[39m__name\u001b[38;5;132;01m}\u001b[39;00m\u001b[38;5;124m\"\u001b[39m)\n\u001b[1;32m     82\u001b[0m     \u001b[38;5;28;01mexcept\u001b[39;00m \u001b[38;5;167;01mLookupError\u001b[39;00m \u001b[38;5;28;01mas\u001b[39;00m e:\n\u001b[1;32m     83\u001b[0m         \u001b[38;5;28;01mtry\u001b[39;00m:\n",
      "File \u001b[0;32m~/anaconda3/envs/recoenv/lib/python3.11/site-packages/nltk/data.py:583\u001b[0m, in \u001b[0;36mfind\u001b[0;34m(resource_name, paths)\u001b[0m\n\u001b[1;32m    581\u001b[0m sep \u001b[38;5;241m=\u001b[39m \u001b[38;5;124m\"\u001b[39m\u001b[38;5;124m*\u001b[39m\u001b[38;5;124m\"\u001b[39m \u001b[38;5;241m*\u001b[39m \u001b[38;5;241m70\u001b[39m\n\u001b[1;32m    582\u001b[0m resource_not_found \u001b[38;5;241m=\u001b[39m \u001b[38;5;124mf\u001b[39m\u001b[38;5;124m\"\u001b[39m\u001b[38;5;130;01m\\n\u001b[39;00m\u001b[38;5;132;01m{\u001b[39;00msep\u001b[38;5;132;01m}\u001b[39;00m\u001b[38;5;130;01m\\n\u001b[39;00m\u001b[38;5;132;01m{\u001b[39;00mmsg\u001b[38;5;132;01m}\u001b[39;00m\u001b[38;5;130;01m\\n\u001b[39;00m\u001b[38;5;132;01m{\u001b[39;00msep\u001b[38;5;132;01m}\u001b[39;00m\u001b[38;5;130;01m\\n\u001b[39;00m\u001b[38;5;124m\"\u001b[39m\n\u001b[0;32m--> 583\u001b[0m \u001b[38;5;28;01mraise\u001b[39;00m \u001b[38;5;167;01mLookupError\u001b[39;00m(resource_not_found)\n",
      "\u001b[0;31mLookupError\u001b[0m: \n**********************************************************************\n  Resource \u001b[93mwords\u001b[0m not found.\n  Please use the NLTK Downloader to obtain the resource:\n\n  \u001b[31m>>> import nltk\n  >>> nltk.download('words')\n  \u001b[0m\n  For more information see: https://www.nltk.org/data.html\n\n  Attempted to load \u001b[93mcorpora/words\u001b[0m\n\n  Searched in:\n    - '/Users/ravi.tej/nltk_data'\n    - '/Users/ravi.tej/anaconda3/envs/recoenv/nltk_data'\n    - '/Users/ravi.tej/anaconda3/envs/recoenv/share/nltk_data'\n    - '/Users/ravi.tej/anaconda3/envs/recoenv/lib/nltk_data'\n    - '/usr/share/nltk_data'\n    - '/usr/local/share/nltk_data'\n    - '/usr/lib/nltk_data'\n    - '/usr/local/lib/nltk_data'\n**********************************************************************\n"
     ]
    }
   ],
   "source": [
    "word_list = nltk.corpus.words.words()"
   ]
  },
  {
   "cell_type": "code",
   "execution_count": null,
   "id": "e2d13da8-1d51-4fc9-b205-f922adbcc4ff",
   "metadata": {
    "tags": []
   },
   "outputs": [],
   "source": [
    "num_words = 3"
   ]
  },
  {
   "cell_type": "code",
   "execution_count": null,
   "id": "6544237d-f616-4a04-a8a1-89b1bc06ad4f",
   "metadata": {
    "tags": []
   },
   "outputs": [],
   "source": [
    "random_words = random.sample(word_list, num_words)"
   ]
  },
  {
   "cell_type": "code",
   "execution_count": null,
   "id": "caddbe81-e1c3-4f54-bf20-193d21ab4a5b",
   "metadata": {
    "tags": []
   },
   "outputs": [],
   "source": [
    "random_combination = ' '.join(random_words)"
   ]
  },
  {
   "cell_type": "code",
   "execution_count": null,
   "id": "66523293-a9f2-4633-8096-27684f0cef35",
   "metadata": {},
   "outputs": [],
   "source": []
  }
 ],
 "metadata": {
  "kernelspec": {
   "display_name": "recoenv",
   "language": "python",
   "name": "recoenv"
  },
  "language_info": {
   "codemirror_mode": {
    "name": "ipython",
    "version": 3
   },
   "file_extension": ".py",
   "mimetype": "text/x-python",
   "name": "python",
   "nbconvert_exporter": "python",
   "pygments_lexer": "ipython3",
   "version": "3.11.5"
  }
 },
 "nbformat": 4,
 "nbformat_minor": 5
}
