{
 "cells": [
  {
   "cell_type": "code",
   "execution_count": 1,
   "id": "2c605d3a-8011-434b-a580-24938976efb5",
   "metadata": {
    "tags": []
   },
   "outputs": [
    {
     "name": "stdout",
     "output_type": "stream",
     "text": [
      "True\n"
     ]
    }
   ],
   "source": [
    "import re\n",
    "\n",
    "# Combine unigrams, bigrams, and trigrams\n",
    "keywords = [\n",
    "    \"rupee\", \"nse\", \"bse\", \"sebi\", \"rbi\", \"gst\", \"demonetisation\", \"fdi\",\n",
    "    \"sensex\", \"nifty\", \"mutual fund\", \"equity\", \"debt\", \"ipo\", \"shares\",\n",
    "    \"stock\", \"investment\", \"tax\", \"inflation\", \"recession\", \"gdp\",\n",
    "    \"dividend\", \"portfolio\", \"stock market\", \"interest rate\",\n",
    "    \"foreign investment\", \"economic growth\", \"fiscal policy\",\n",
    "    \"monetary policy\", \"public sector\", \"private sector\", \"non-performing\",\n",
    "    \"credit rating\", \"mutual funds\", \"fixed deposit\", \"real estate\",\n",
    "    \"reserve bank of india\", \"goods and services tax\", \"non performing assets\",\n",
    "    \"foreign direct investment\", \"gross domestic product\",\n",
    "    \"initial public offering\", \"public provident fund\", \"employee provident fund\"\n",
    "]\n",
    "\n",
    "# Precompile the pattern for efficiency\n",
    "pattern = re.compile(r'\\b(' + '|'.join(keywords) + r')\\b', re.IGNORECASE)\n",
    "\n",
    "def is_financial_article(article):\n",
    "    \"\"\"\n",
    "    Classify if the input article is a financial article based on keywords.\n",
    "    \n",
    "    Parameters:\n",
    "        article (str): The article text.\n",
    "    \n",
    "    Returns:\n",
    "        bool: True if it's a financial article, False otherwise.\n",
    "    \"\"\"\n",
    "    # Find all occurrences of the keywords in the article\n",
    "    matches = re.findall(pattern, article)\n",
    "    \n",
    "    # Classify as financial if at least one keyword is found\n",
    "    return len(matches) > 0\n",
    "\n",
    "# Example usage:\n",
    "article = \"The Reserve Bank of India announced a change in the monetary policy...\"\n",
    "print(is_financial_article(article))  # Output: True"
   ]
  },
  {
   "cell_type": "code",
   "execution_count": 2,
   "id": "cd318985-d786-4ea1-a719-19c5ccdf7957",
   "metadata": {
    "tags": []
   },
   "outputs": [],
   "source": [
    "data_folder = '../../data/articles/'"
   ]
  },
  {
   "cell_type": "code",
   "execution_count": 3,
   "id": "762954b6-c180-43f1-8f71-0a23527aa23f",
   "metadata": {
    "tags": []
   },
   "outputs": [],
   "source": [
    "import os\n",
    "import json\n",
    "from tqdm.notebook import tqdm\n",
    "import pandas as pd"
   ]
  },
  {
   "cell_type": "code",
   "execution_count": 4,
   "id": "95c7a75e-72cd-419d-b01c-18dc4383c1dd",
   "metadata": {
    "tags": []
   },
   "outputs": [
    {
     "data": {
      "application/vnd.jupyter.widget-view+json": {
       "model_id": "1ad9c7c005a64ef191714f77b00dd29e",
       "version_major": 2,
       "version_minor": 0
      },
      "text/plain": [
       "  0%|          | 0/8390 [00:00<?, ?it/s]"
      ]
     },
     "metadata": {},
     "output_type": "display_data"
    }
   ],
   "source": [
    "all_articles = os.listdir(data_folder)\n",
    "is_fin = []\n",
    "for article in tqdm(all_articles):\n",
    "    with open(data_folder + article, 'r') as f:\n",
    "        content = json.load(f)\n",
    "    pred = is_financial_article(content['cleaned_text'])\n",
    "    is_fin.append((article.split('.')[0],pred))"
   ]
  },
  {
   "cell_type": "code",
   "execution_count": 5,
   "id": "5b06fb6c-ce38-4ff8-9785-2adde38c1017",
   "metadata": {
    "tags": []
   },
   "outputs": [],
   "source": [
    "fin_df = pd.DataFrame(is_fin, columns = ['article_id','fin'])"
   ]
  },
  {
   "cell_type": "code",
   "execution_count": 6,
   "id": "d356a3b3-36b4-4ca1-927a-4a075037c1a2",
   "metadata": {
    "tags": []
   },
   "outputs": [],
   "source": [
    "def get_article(article_id):\n",
    "    with open(data_folder + article_id + '.json', 'r') as f:\n",
    "        content = json.load(f)\n",
    "    return content['title']"
   ]
  },
  {
   "cell_type": "code",
   "execution_count": 7,
   "id": "8e454d8d-07c8-4c32-9764-2b6943a7fedd",
   "metadata": {
    "tags": []
   },
   "outputs": [],
   "source": [
    "fin_df['title'] = fin_df['article_id'].apply(lambda x: get_article(x))"
   ]
  },
  {
   "cell_type": "code",
   "execution_count": 8,
   "id": "516b2fb5-aa39-45ea-9f9a-e3ec5e73b760",
   "metadata": {
    "tags": []
   },
   "outputs": [
    {
     "data": {
      "text/plain": [
       "fin\n",
       "False    7039\n",
       "True     1351\n",
       "Name: article_id, dtype: int64"
      ]
     },
     "execution_count": 8,
     "metadata": {},
     "output_type": "execute_result"
    }
   ],
   "source": [
    "fin_df.groupby('fin')['article_id'].count()"
   ]
  },
  {
   "cell_type": "code",
   "execution_count": 16,
   "id": "2c4b78b0-0db7-4a8b-8c51-3207ce39ffe4",
   "metadata": {
    "tags": []
   },
   "outputs": [
    {
     "data": {
      "text/plain": [
       "0.1627710843373494"
      ]
     },
     "execution_count": 16,
     "metadata": {},
     "output_type": "execute_result"
    }
   ],
   "source": [
    "1351/8300"
   ]
  },
  {
   "cell_type": "code",
   "execution_count": 15,
   "id": "2b4236c1-63f7-4fc1-ac02-31cc4efeee63",
   "metadata": {
    "tags": []
   },
   "outputs": [
    {
     "data": {
      "text/html": [
       "<div>\n",
       "<style scoped>\n",
       "    .dataframe tbody tr th:only-of-type {\n",
       "        vertical-align: middle;\n",
       "    }\n",
       "\n",
       "    .dataframe tbody tr th {\n",
       "        vertical-align: top;\n",
       "    }\n",
       "\n",
       "    .dataframe thead th {\n",
       "        text-align: right;\n",
       "    }\n",
       "</style>\n",
       "<table border=\"1\" class=\"dataframe\">\n",
       "  <thead>\n",
       "    <tr style=\"text-align: right;\">\n",
       "      <th></th>\n",
       "      <th>article_id</th>\n",
       "      <th>fin</th>\n",
       "      <th>title</th>\n",
       "    </tr>\n",
       "  </thead>\n",
       "  <tbody>\n",
       "    <tr>\n",
       "      <th>1795</th>\n",
       "      <td>6513935d395f46458f8bcb50</td>\n",
       "      <td>False</td>\n",
       "      <td>Congress govt in Karnataka acted under DMK pre...</td>\n",
       "    </tr>\n",
       "    <tr>\n",
       "      <th>2191</th>\n",
       "      <td>6513a96a395f46458f8c007b</td>\n",
       "      <td>False</td>\n",
       "      <td>Salman Khan death threat: Cops arrest a man fr...</td>\n",
       "    </tr>\n",
       "    <tr>\n",
       "      <th>3748</th>\n",
       "      <td>6513a51c395f46458f8bf50c</td>\n",
       "      <td>False</td>\n",
       "      <td>There's been a mistake somewhere: Farooq Abdul...</td>\n",
       "    </tr>\n",
       "    <tr>\n",
       "      <th>1157</th>\n",
       "      <td>65138de9395f46458f8bc370</td>\n",
       "      <td>False</td>\n",
       "      <td>India gears up for Ganesh Chaturthi 2023: Beng...</td>\n",
       "    </tr>\n",
       "    <tr>\n",
       "      <th>2228</th>\n",
       "      <td>65139284395f46458f8bca20</td>\n",
       "      <td>False</td>\n",
       "      <td>'Uri' screened in Manipur; Vicky Kaushal-starr...</td>\n",
       "    </tr>\n",
       "    <tr>\n",
       "      <th>7926</th>\n",
       "      <td>65139a0c395f46458f8bd59f</td>\n",
       "      <td>False</td>\n",
       "      <td>Canada’s open work permit could become a perma...</td>\n",
       "    </tr>\n",
       "    <tr>\n",
       "      <th>8305</th>\n",
       "      <td>6513a1fe395f46458f8bec39</td>\n",
       "      <td>False</td>\n",
       "      <td>'The Little Mermaid' review: This under the se...</td>\n",
       "    </tr>\n",
       "    <tr>\n",
       "      <th>6780</th>\n",
       "      <td>65139d95395f46458f8bdf60</td>\n",
       "      <td>False</td>\n",
       "      <td>Asish Saha appointed as Tripura Pradesh Congre...</td>\n",
       "    </tr>\n",
       "    <tr>\n",
       "      <th>5041</th>\n",
       "      <td>651395bb395f46458f8bcf2f</td>\n",
       "      <td>False</td>\n",
       "      <td>We are fighting for our identity that is in da...</td>\n",
       "    </tr>\n",
       "    <tr>\n",
       "      <th>8338</th>\n",
       "      <td>6513a29d395f46458f8bee18</td>\n",
       "      <td>False</td>\n",
       "      <td>'Paatal Lok' star Abhishek Banerjee joins the ...</td>\n",
       "    </tr>\n",
       "  </tbody>\n",
       "</table>\n",
       "</div>"
      ],
      "text/plain": [
       "                    article_id    fin  \\\n",
       "1795  6513935d395f46458f8bcb50  False   \n",
       "2191  6513a96a395f46458f8c007b  False   \n",
       "3748  6513a51c395f46458f8bf50c  False   \n",
       "1157  65138de9395f46458f8bc370  False   \n",
       "2228  65139284395f46458f8bca20  False   \n",
       "7926  65139a0c395f46458f8bd59f  False   \n",
       "8305  6513a1fe395f46458f8bec39  False   \n",
       "6780  65139d95395f46458f8bdf60  False   \n",
       "5041  651395bb395f46458f8bcf2f  False   \n",
       "8338  6513a29d395f46458f8bee18  False   \n",
       "\n",
       "                                                  title  \n",
       "1795  Congress govt in Karnataka acted under DMK pre...  \n",
       "2191  Salman Khan death threat: Cops arrest a man fr...  \n",
       "3748  There's been a mistake somewhere: Farooq Abdul...  \n",
       "1157  India gears up for Ganesh Chaturthi 2023: Beng...  \n",
       "2228  'Uri' screened in Manipur; Vicky Kaushal-starr...  \n",
       "7926  Canada’s open work permit could become a perma...  \n",
       "8305  'The Little Mermaid' review: This under the se...  \n",
       "6780  Asish Saha appointed as Tripura Pradesh Congre...  \n",
       "5041  We are fighting for our identity that is in da...  \n",
       "8338  'Paatal Lok' star Abhishek Banerjee joins the ...  "
      ]
     },
     "execution_count": 15,
     "metadata": {},
     "output_type": "execute_result"
    }
   ],
   "source": [
    "fin_df[fin_df.fin==False].sample(10)"
   ]
  },
  {
   "cell_type": "code",
   "execution_count": null,
   "id": "8f93f763-b85e-4e6c-93e7-4b1574529a5b",
   "metadata": {},
   "outputs": [],
   "source": []
  }
 ],
 "metadata": {
  "kernelspec": {
   "display_name": "recoenv",
   "language": "python",
   "name": "recoenv"
  },
  "language_info": {
   "codemirror_mode": {
    "name": "ipython",
    "version": 3
   },
   "file_extension": ".py",
   "mimetype": "text/x-python",
   "name": "python",
   "nbconvert_exporter": "python",
   "pygments_lexer": "ipython3",
   "version": "3.11.5"
  }
 },
 "nbformat": 4,
 "nbformat_minor": 5
}
