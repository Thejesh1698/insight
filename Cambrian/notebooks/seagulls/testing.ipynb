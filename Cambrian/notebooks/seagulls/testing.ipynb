{
 "cells": [
  {
   "cell_type": "code",
   "execution_count": 5,
   "id": "a200fa32-a847-42c5-9fa6-36a9e0c6c390",
   "metadata": {
    "tags": []
   },
   "outputs": [
    {
     "name": "stdout",
     "output_type": "stream",
     "text": [
      "Found existing installation: seagulls 0.0.5\n",
      "Uninstalling seagulls-0.0.5:\n",
      "  Successfully uninstalled seagulls-0.0.5\n"
     ]
    }
   ],
   "source": [
    "!pip uninstall -y seagulls "
   ]
  },
  {
   "cell_type": "code",
   "execution_count": 6,
   "id": "8bdd06f1-108b-4d58-aa34-a8407b914e1f",
   "metadata": {
    "scrolled": true,
    "tags": []
   },
   "outputs": [
    {
     "name": "stdout",
     "output_type": "stream",
     "text": [
      "Processing /Users/ravi.tej/Desktop/ML/Recommendations/seagulls/dist/seagulls-0.0.5-py3-none-any.whl\n",
      "Requirement already satisfied: setuptools in /Users/ravi.tej/anaconda3/envs/recoenv/lib/python3.11/site-packages (from seagulls==0.0.5) (68.0.0)\n",
      "Requirement already satisfied: wheel in /Users/ravi.tej/anaconda3/envs/recoenv/lib/python3.11/site-packages (from seagulls==0.0.5) (0.38.4)\n",
      "Requirement already satisfied: twine in /Users/ravi.tej/anaconda3/envs/recoenv/lib/python3.11/site-packages (from seagulls==0.0.5) (4.0.2)\n",
      "Requirement already satisfied: requests in /Users/ravi.tej/anaconda3/envs/recoenv/lib/python3.11/site-packages (from seagulls==0.0.5) (2.31.0)\n",
      "Requirement already satisfied: psycopg2-binary in /Users/ravi.tej/anaconda3/envs/recoenv/lib/python3.11/site-packages (from seagulls==0.0.5) (2.9.9)\n",
      "Requirement already satisfied: pandas in /Users/ravi.tej/anaconda3/envs/recoenv/lib/python3.11/site-packages (from seagulls==0.0.5) (2.0.3)\n",
      "Requirement already satisfied: numpy in /Users/ravi.tej/anaconda3/envs/recoenv/lib/python3.11/site-packages (from seagulls==0.0.5) (1.24.3)\n",
      "Requirement already satisfied: pymongo in /Users/ravi.tej/anaconda3/envs/recoenv/lib/python3.11/site-packages (from seagulls==0.0.5) (4.5.0)\n",
      "Requirement already satisfied: boto3 in /Users/ravi.tej/anaconda3/envs/recoenv/lib/python3.11/site-packages (from seagulls==0.0.5) (1.28.73)\n",
      "Requirement already satisfied: botocore in /Users/ravi.tej/anaconda3/envs/recoenv/lib/python3.11/site-packages (from seagulls==0.0.5) (1.31.85)\n",
      "Requirement already satisfied: sshtunnel in /Users/ravi.tej/anaconda3/envs/recoenv/lib/python3.11/site-packages (from seagulls==0.0.5) (0.4.0)\n",
      "Requirement already satisfied: jmespath<2.0.0,>=0.7.1 in /Users/ravi.tej/anaconda3/envs/recoenv/lib/python3.11/site-packages (from boto3->seagulls==0.0.5) (0.10.0)\n",
      "Requirement already satisfied: s3transfer<0.8.0,>=0.7.0 in /Users/ravi.tej/anaconda3/envs/recoenv/lib/python3.11/site-packages (from boto3->seagulls==0.0.5) (0.7.0)\n",
      "Requirement already satisfied: python-dateutil<3.0.0,>=2.1 in /Users/ravi.tej/anaconda3/envs/recoenv/lib/python3.11/site-packages (from botocore->seagulls==0.0.5) (2.8.2)\n",
      "Requirement already satisfied: urllib3<2.1,>=1.25.4 in /Users/ravi.tej/anaconda3/envs/recoenv/lib/python3.11/site-packages (from botocore->seagulls==0.0.5) (1.26.16)\n",
      "Requirement already satisfied: pytz>=2020.1 in /Users/ravi.tej/anaconda3/envs/recoenv/lib/python3.11/site-packages (from pandas->seagulls==0.0.5) (2022.7)\n",
      "Requirement already satisfied: tzdata>=2022.1 in /Users/ravi.tej/anaconda3/envs/recoenv/lib/python3.11/site-packages (from pandas->seagulls==0.0.5) (2023.3)\n",
      "Requirement already satisfied: dnspython<3.0.0,>=1.16.0 in /Users/ravi.tej/anaconda3/envs/recoenv/lib/python3.11/site-packages (from pymongo->seagulls==0.0.5) (2.4.2)\n",
      "Requirement already satisfied: charset-normalizer<4,>=2 in /Users/ravi.tej/anaconda3/envs/recoenv/lib/python3.11/site-packages (from requests->seagulls==0.0.5) (2.0.4)\n",
      "Requirement already satisfied: idna<4,>=2.5 in /Users/ravi.tej/anaconda3/envs/recoenv/lib/python3.11/site-packages (from requests->seagulls==0.0.5) (3.4)\n",
      "Requirement already satisfied: certifi>=2017.4.17 in /Users/ravi.tej/anaconda3/envs/recoenv/lib/python3.11/site-packages (from requests->seagulls==0.0.5) (2023.7.22)\n",
      "Requirement already satisfied: paramiko>=2.7.2 in /Users/ravi.tej/anaconda3/envs/recoenv/lib/python3.11/site-packages (from sshtunnel->seagulls==0.0.5) (3.3.1)\n",
      "Requirement already satisfied: pkginfo>=1.8.1 in /Users/ravi.tej/anaconda3/envs/recoenv/lib/python3.11/site-packages (from twine->seagulls==0.0.5) (1.9.6)\n",
      "Requirement already satisfied: readme-renderer>=35.0 in /Users/ravi.tej/anaconda3/envs/recoenv/lib/python3.11/site-packages (from twine->seagulls==0.0.5) (42.0)\n",
      "Requirement already satisfied: requests-toolbelt!=0.9.0,>=0.8.0 in /Users/ravi.tej/anaconda3/envs/recoenv/lib/python3.11/site-packages (from twine->seagulls==0.0.5) (1.0.0)\n",
      "Requirement already satisfied: importlib-metadata>=3.6 in /Users/ravi.tej/anaconda3/envs/recoenv/lib/python3.11/site-packages (from twine->seagulls==0.0.5) (6.0.0)\n",
      "Requirement already satisfied: keyring>=15.1 in /Users/ravi.tej/anaconda3/envs/recoenv/lib/python3.11/site-packages (from twine->seagulls==0.0.5) (24.3.0)\n",
      "Requirement already satisfied: rfc3986>=1.4.0 in /Users/ravi.tej/anaconda3/envs/recoenv/lib/python3.11/site-packages (from twine->seagulls==0.0.5) (2.0.0)\n",
      "Requirement already satisfied: rich>=12.0.0 in /Users/ravi.tej/anaconda3/envs/recoenv/lib/python3.11/site-packages (from twine->seagulls==0.0.5) (13.7.0)\n",
      "Requirement already satisfied: zipp>=0.5 in /Users/ravi.tej/anaconda3/envs/recoenv/lib/python3.11/site-packages (from importlib-metadata>=3.6->twine->seagulls==0.0.5) (3.11.0)\n",
      "Requirement already satisfied: jaraco.classes in /Users/ravi.tej/anaconda3/envs/recoenv/lib/python3.11/site-packages (from keyring>=15.1->twine->seagulls==0.0.5) (3.3.0)\n",
      "Requirement already satisfied: bcrypt>=3.2 in /Users/ravi.tej/anaconda3/envs/recoenv/lib/python3.11/site-packages (from paramiko>=2.7.2->sshtunnel->seagulls==0.0.5) (4.0.1)\n",
      "Requirement already satisfied: cryptography>=3.3 in /Users/ravi.tej/anaconda3/envs/recoenv/lib/python3.11/site-packages (from paramiko>=2.7.2->sshtunnel->seagulls==0.0.5) (41.0.3)\n",
      "Requirement already satisfied: pynacl>=1.5 in /Users/ravi.tej/anaconda3/envs/recoenv/lib/python3.11/site-packages (from paramiko>=2.7.2->sshtunnel->seagulls==0.0.5) (1.5.0)\n",
      "Requirement already satisfied: six>=1.5 in /Users/ravi.tej/anaconda3/envs/recoenv/lib/python3.11/site-packages (from python-dateutil<3.0.0,>=2.1->botocore->seagulls==0.0.5) (1.16.0)\n",
      "Requirement already satisfied: nh3>=0.2.14 in /Users/ravi.tej/anaconda3/envs/recoenv/lib/python3.11/site-packages (from readme-renderer>=35.0->twine->seagulls==0.0.5) (0.2.15)\n",
      "Requirement already satisfied: docutils>=0.13.1 in /Users/ravi.tej/anaconda3/envs/recoenv/lib/python3.11/site-packages (from readme-renderer>=35.0->twine->seagulls==0.0.5) (0.16)\n",
      "Requirement already satisfied: Pygments>=2.5.1 in /Users/ravi.tej/anaconda3/envs/recoenv/lib/python3.11/site-packages (from readme-renderer>=35.0->twine->seagulls==0.0.5) (2.15.1)\n",
      "Requirement already satisfied: markdown-it-py>=2.2.0 in /Users/ravi.tej/anaconda3/envs/recoenv/lib/python3.11/site-packages (from rich>=12.0.0->twine->seagulls==0.0.5) (3.0.0)\n",
      "Requirement already satisfied: cffi>=1.12 in /Users/ravi.tej/anaconda3/envs/recoenv/lib/python3.11/site-packages (from cryptography>=3.3->paramiko>=2.7.2->sshtunnel->seagulls==0.0.5) (1.15.1)\n",
      "Requirement already satisfied: mdurl~=0.1 in /Users/ravi.tej/anaconda3/envs/recoenv/lib/python3.11/site-packages (from markdown-it-py>=2.2.0->rich>=12.0.0->twine->seagulls==0.0.5) (0.1.2)\n",
      "Requirement already satisfied: more-itertools in /Users/ravi.tej/anaconda3/envs/recoenv/lib/python3.11/site-packages (from jaraco.classes->keyring>=15.1->twine->seagulls==0.0.5) (10.1.0)\n",
      "Requirement already satisfied: pycparser in /Users/ravi.tej/anaconda3/envs/recoenv/lib/python3.11/site-packages (from cffi>=1.12->cryptography>=3.3->paramiko>=2.7.2->sshtunnel->seagulls==0.0.5) (2.21)\n",
      "Installing collected packages: seagulls\n",
      "Successfully installed seagulls-0.0.5\n"
     ]
    }
   ],
   "source": [
    "!pip install --upgrade /Users/ravi.tej/Desktop/ML/Recommendations/seagulls/dist/seagulls-0.0.5-py3-none-any.whl"
   ]
  },
  {
   "cell_type": "code",
   "execution_count": 7,
   "id": "c5eeeddc-6516-4458-ad30-9e2ce41608e7",
   "metadata": {
    "tags": []
   },
   "outputs": [],
   "source": [
    "parent_folder = '/Users/ravi.tej/Desktop/ML/Recommendations/cambrian_reco/'\n",
    "from hydra import compose, initialize\n",
    "import os\n",
    "\n",
    "import xml.etree.ElementTree as ET\n",
    "\n",
    "tree = ET.parse('../../conf/application.run.xml')\n",
    "root = tree.getroot()\n",
    "\n",
    "envs_element = root.find('./configuration/envs')\n",
    "for variable in envs_element.findall('env'):\n",
    "    name = variable.get('name')\n",
    "    value = variable.get('value')\n",
    "    os.environ[name] = value\n",
    "\n",
    "import sys\n",
    "sys.path.append('/Users/ravi.tej/Desktop/ML/Recommendations/cambrian_reco/')"
   ]
  },
  {
   "cell_type": "code",
   "execution_count": 4,
   "id": "389dec66-fa70-4c3f-ab11-8cd196c814fc",
   "metadata": {
    "tags": []
   },
   "outputs": [],
   "source": [
    "import seagulls"
   ]
  },
  {
   "cell_type": "code",
   "execution_count": 5,
   "id": "59917cbb-0d84-4e1b-a61b-b041eb2ebaa2",
   "metadata": {
    "tags": []
   },
   "outputs": [],
   "source": [
    "from seagulls.articles.ArticleService import ArticleService"
   ]
  },
  {
   "cell_type": "code",
   "execution_count": 6,
   "id": "9054fec2-279a-4aa6-9988-b65a8f4099b1",
   "metadata": {
    "tags": []
   },
   "outputs": [],
   "source": [
    "a = ArticleService.get_Article('652fcfa01e5cc42b1b13a350')"
   ]
  },
  {
   "cell_type": "code",
   "execution_count": 8,
   "id": "74282ee9-6892-4228-95de-1ceebc734cfa",
   "metadata": {
    "tags": []
   },
   "outputs": [],
   "source": [
    "a.image_url"
   ]
  },
  {
   "cell_type": "code",
   "execution_count": 11,
   "id": "22be820b-d24b-4ace-9e23-b5340d578d6a",
   "metadata": {
    "tags": []
   },
   "outputs": [
    {
     "name": "stdout",
     "output_type": "stream",
     "text": [
      "a\n"
     ]
    }
   ],
   "source": [
    "if a.content_type == 'article' and a.image_url is None:\n",
    "    print('a')"
   ]
  },
  {
   "cell_type": "code",
   "execution_count": 9,
   "id": "bfa7577b-dc69-4f5a-8cd6-b17af0df574e",
   "metadata": {
    "tags": []
   },
   "outputs": [
    {
     "data": {
      "text/plain": [
       "'article'"
      ]
     },
     "execution_count": 9,
     "metadata": {},
     "output_type": "execute_result"
    }
   ],
   "source": [
    "a.content_type"
   ]
  },
  {
   "cell_type": "code",
   "execution_count": 13,
   "id": "5e572d5d-e81e-4638-8e27-65cd970de3ef",
   "metadata": {
    "tags": []
   },
   "outputs": [],
   "source": [
    "c = {'meta_data': {'is_premium_article': False, 'title': 'Google India Delists eSIM Apps Airalo & Holafly After Diktat From DoT', 'short_description': 'Google eSIM Delisting India as big tech giant bans Airalo and Holafly from Play Store following a directive issued by the telecom department.', 'published_time': '2024-01-05T15:54:16+0000', 'last_updated_time': '2024-01-05T18:02:04+0000', 'image_url': 'https://inc42.com/wp-content/uploads/2024/01/play-store-esim-social-.png', 'authors': ['Team Inc42'], 'tags': [], 'read_time': '2 minutes', 'is_document': True}, 'cleaned_text': 'SUMMARY The Department of Telecommunications issued the directive against the two platforms for selling international SIM cards without requisite clearances The DoT has also ordered internet service providers (ISPs) to block access to the websites of the two companies The telecom department has also reached out to Apple to take down the two apps from its India app marketplace FOLLOW US FOLLOW US Google has reportedly delisted eSIM apps Airalo and Holafly from Play Store India following a directive issued by the Department of Telecommunications (DoT). Citing sources, Moneycontrol reported that the department issued the directive against the two platforms for selling international SIM cards without requisite clearances. As per the report, the DoT has also ordered internet service providers (ISPs) to block access to the websites of the two companies. Besides, the telecom department has also reached out to Apple to take down the two apps from its India app marketplace. Both the apps are currently not available on Google Play Store. Multiple attempts to access the website of Airalo also failed. However, Inc42 was able to access the website of Holafly. For the uninitiated, embedded SIM (eSIM) cards allow users to activate a mobile plan without having to use a physical SIM. In this case, Singapore-based Airalo and Spain-based Holafly offer eSIMs for multiple countries and regions, especially for subscribers travelling abroad. Recommended For You: The two apps continue to be available for Google Play users outside the country. At the heart of the matter is the DoT’s 2022 regulation that mandates platforms to seek no objection certificate (NOC) before selling foreign SIM cards in India. As both Airalo and Holafly lacked the said authorisation, the DoT directed Apple and Google to delist the two apps. The policy further adds that these SIM cards can only be used outside the country and mandates the sellers to provide the details of their active global SIMs to security agencies every month. In addition, authorised sellers are bound by law to authenticate customers with their copy of passport, visa and other additional proofs. The heavy compliance mandates are largely a result of the Centre’s bid to keep a check on cybercrimes. Easy availability of such eSIM cards may lead to malicious actors using them to perpetrate online scams and financial frauds. In addition, NOC requirements also help curb usage of SIM cards for terror activities. The new development comes months after the Centre tightened the know-your-customer (KYC) process related to mobile SIM cards to prevent misuse of SIM cards through distributors and agents. To crack the whip on cybercrimes, the government, last year, launched the Sanchar Saathi portal . Consequently, lakhs of suspected fake mobile connections were detected and disconnected for failing reverification.', 'article_images': ['https://inc42.com/wp-content/uploads/2024/01/play-store-esim-social-.png']}"
   ]
  },
  {
   "cell_type": "code",
   "execution_count": null,
   "id": "aad8b47e-59b5-4c35-b920-cd4c22041713",
   "metadata": {},
   "outputs": [],
   "source": []
  },
  {
   "cell_type": "code",
   "execution_count": 8,
   "id": "daf92c8a-9e33-422a-96cd-527bbf3f4a75",
   "metadata": {
    "tags": []
   },
   "outputs": [
    {
     "data": {
      "text/plain": [
       "'SUMMARY The Department of Telecommunications issued the directive against the two platforms for selling international SIM cards without requisite clearances The DoT has also ordered internet service providers (ISPs) to block access to the websites of the two companies The telecom department has also reached out to Apple to take down the two apps from its India app marketplace FOLLOW US FOLLOW US Google has reportedly delisted eSIM apps Airalo and Holafly from Play Store India following a directive issued by the Department of Telecommunications (DoT). Citing sources, Moneycontrol reported that the department issued the directive against the two platforms for selling international SIM cards without requisite clearances. As per the report, the DoT has also ordered internet service providers (ISPs) to block access to the websites of the two companies. Besides, the telecom department has also reached out to Apple to take down the two apps from its India app marketplace. Both the apps are currently not available on Google Play Store. Multiple attempts to access the website of Airalo also failed. However, Inc42 was able to access the website of Holafly. For the uninitiated, embedded SIM (eSIM) cards allow users to activate a mobile plan without having to use a physical SIM. In this case, Singapore-based Airalo and Spain-based Holafly offer eSIMs for multiple countries and regions, especially for subscribers travelling abroad. Recommended For You: The two apps continue to be available for Google Play users outside the country. At the heart of the matter is the DoT’s 2022 regulation that mandates platforms to seek no objection certificate (NOC) before selling foreign SIM cards in India. As both Airalo and Holafly lacked the said authorisation, the DoT directed Apple and Google to delist the two apps. The policy further adds that these SIM cards can only be used outside the country and mandates the sellers to provide the details of their active global SIMs to security agencies every month. In addition, authorised sellers are bound by law to authenticate customers with their copy of passport, visa and other additional proofs. The heavy compliance mandates are largely a result of the Centre’s bid to keep a check on cybercrimes. Easy availability of such eSIM cards may lead to malicious actors using them to perpetrate online scams and financial frauds. In addition, NOC requirements also help curb usage of SIM cards for terror activities. The new development comes months after the Centre tightened the know-your-customer (KYC) process related to mobile SIM cards to prevent misuse of SIM cards through distributors and agents. To crack the whip on cybercrimes, the government, last year, launched the Sanchar Saathi portal . Consequently, lakhs of suspected fake mobile connections were detected and disconnected for failing reverification.'"
      ]
     },
     "execution_count": 8,
     "metadata": {},
     "output_type": "execute_result"
    }
   ],
   "source": [
    "b['cleaned_text']"
   ]
  },
  {
   "cell_type": "code",
   "execution_count": 9,
   "id": "a17d41cd-3bf8-449c-8b86-ce2801e0463f",
   "metadata": {
    "tags": []
   },
   "outputs": [],
   "source": [
    "from seagulls.articles.Article import Article"
   ]
  },
  {
   "cell_type": "code",
   "execution_count": 11,
   "id": "44ceef61-0162-4905-9b4c-b8d259a41103",
   "metadata": {
    "tags": []
   },
   "outputs": [],
   "source": [
    "b = Article.to_dict(a)"
   ]
  },
  {
   "cell_type": "code",
   "execution_count": 14,
   "id": "b1ad9c97-8574-4319-abba-c554a0aaf9ea",
   "metadata": {
    "tags": []
   },
   "outputs": [],
   "source": [
    "c.update(b)"
   ]
  },
  {
   "cell_type": "code",
   "execution_count": 15,
   "id": "e4cb533d-1502-4f51-a97d-eac153857c32",
   "metadata": {
    "tags": []
   },
   "outputs": [
    {
     "data": {
      "text/plain": [
       "{'meta_data': {'is_premium_article': False,\n",
       "  'title': 'Google India Delists eSIM Apps Airalo & Holafly After Diktat From DoT',\n",
       "  'short_description': 'Google eSIM Delisting India as big tech giant bans Airalo and Holafly from Play Store following a directive issued by the telecom department.',\n",
       "  'published_time': '2024-01-05T15:54:16+0000',\n",
       "  'last_updated_time': '2024-01-05T18:02:04+0000',\n",
       "  'image_url': 'https://inc42.com/wp-content/uploads/2024/01/play-store-esim-social-.png',\n",
       "  'authors': ['Team Inc42'],\n",
       "  'tags': [],\n",
       "  'read_time': '2 minutes',\n",
       "  'is_document': True},\n",
       " 'cleaned_text': '',\n",
       " 'article_images': ['https://inc42.com/wp-content/uploads/2024/01/play-store-esim-social-.png'],\n",
       " 'article_id': '6598c2404b25ce4814fb4e6b',\n",
       " 'title': 'Google India Delists eSIM Apps Airalo & Holafly After Diktat From DoT',\n",
       " 'is_premium_article': False,\n",
       " 'published_time': '2024-01-05T15:54:16+0000',\n",
       " 'source_id': '65768d2e7c73e77fdb13a9b3',\n",
       " 'url': 'https://inc42.com/buzz/google-india-delists-esim-apps-airalo-holafly-after-diktat-from-dot/',\n",
       " 'content_type': 'article',\n",
       " 'short_description': 'Google eSIM Delisting India as big tech giant bans Airalo and Holafly from Play Store following a directive issued by the telecom department.',\n",
       " 'image_url': 'https://inc42.com/wp-content/uploads/2024/01/play-store-esim-social-.png',\n",
       " 'full_content': 'headline: Google India Delists eSIM Apps Airalo  Holafly After Diktat From DoT.  content: '}"
      ]
     },
     "execution_count": 15,
     "metadata": {},
     "output_type": "execute_result"
    }
   ],
   "source": [
    "c"
   ]
  },
  {
   "cell_type": "code",
   "execution_count": 5,
   "id": "73c3f6bf-5c5d-47b3-92b1-5baa39af8dc1",
   "metadata": {
    "tags": []
   },
   "outputs": [
    {
     "data": {
      "text/plain": [
       "Article(article_id='6598c2404b25ce4814fb4e6b', title='Google India Delists eSIM Apps Airalo & Holafly After Diktat From DoT', cleaned_text='', is_premium_article=False, published_time='2024-01-05T15:54:16+0000', source_id='65768d2e7c73e77fdb13a9b3', url='https://inc42.com/buzz/google-india-delists-esim-apps-airalo-holafly-after-diktat-from-dot/', content_type='article', short_description='Google eSIM Delisting India as big tech giant bans Airalo and Holafly from Play Store following a directive issued by the telecom department.', image_url='https://inc42.com/wp-content/uploads/2024/01/play-store-esim-social-.png', full_content='headline: Google India Delists eSIM Apps Airalo  Holafly After Diktat From DoT.  content: ')"
      ]
     },
     "execution_count": 5,
     "metadata": {},
     "output_type": "execute_result"
    }
   ],
   "source": [
    "a"
   ]
  },
  {
   "cell_type": "code",
   "execution_count": null,
   "id": "a73fdffc-9a16-4023-bf7c-553255cd4076",
   "metadata": {},
   "outputs": [],
   "source": []
  }
 ],
 "metadata": {
  "kernelspec": {
   "display_name": "recoenv",
   "language": "python",
   "name": "recoenv"
  },
  "language_info": {
   "codemirror_mode": {
    "name": "ipython",
    "version": 3
   },
   "file_extension": ".py",
   "mimetype": "text/x-python",
   "name": "python",
   "nbconvert_exporter": "python",
   "pygments_lexer": "ipython3",
   "version": "3.11.5"
  }
 },
 "nbformat": 4,
 "nbformat_minor": 5
}
