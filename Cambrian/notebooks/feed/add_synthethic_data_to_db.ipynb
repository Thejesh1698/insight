{
 "cells": [
  {
   "cell_type": "code",
   "execution_count": 1,
   "id": "cfad98ab-d9ff-4c86-a514-9f825d41a39f",
   "metadata": {
    "tags": []
   },
   "outputs": [
    {
     "name": "stderr",
     "output_type": "stream",
     "text": [
      "/var/folders/d4/cgyr_gnj7nn2wy_hq40gkq8c0000gq/T/ipykernel_58797/4032682437.py:4: UserWarning: \n",
      "The version_base parameter is not specified.\n",
      "Please specify a compatability version level, or None.\n",
      "Will assume defaults for version 1.1\n",
      "  with initialize(config_path=\"../../conf\"):\n"
     ]
    }
   ],
   "source": [
    "parent_folder = '/Users/ravi.tej/Desktop/ML/Recommendations/cambrian/'\n",
    "data_folder = parent_folder + 'data/'\n",
    "from hydra import compose, initialize\n",
    "with initialize(config_path=\"../../conf\"):\n",
    "    # Compose the configuration\n",
    "    cfg = compose(config_name=\"TopicClusterMapping.yaml\")\n",
    "\n",
    "import os\n",
    "\n",
    "import xml.etree.ElementTree as ET\n",
    "\n",
    "tree = ET.parse('../../conf/application.run.xml')\n",
    "root = tree.getroot()\n",
    "\n",
    "envs_element = root.find('./configuration/envs')\n",
    "for variable in envs_element.findall('env'):\n",
    "    name = variable.get('name')\n",
    "    value = variable.get('value')\n",
    "    os.environ[name] = value"
   ]
  },
  {
   "cell_type": "code",
   "execution_count": 2,
   "id": "f9535989-5435-40de-afa4-5ff827b0ab28",
   "metadata": {
    "tags": []
   },
   "outputs": [
    {
     "name": "stderr",
     "output_type": "stream",
     "text": [
      "/Users/ravi.tej/anaconda3/envs/recoenv/lib/python3.11/site-packages/umap/distances.py:1063: NumbaDeprecationWarning: The 'nopython' keyword argument was not supplied to the 'numba.jit' decorator. The implicit default value for this argument is currently False, but it will be changed to True in Numba 0.59.0. See https://numba.readthedocs.io/en/stable/reference/deprecation.html#deprecation-of-object-mode-fall-back-behaviour-when-using-jit for details.\n",
      "  @numba.jit()\n",
      "/Users/ravi.tej/anaconda3/envs/recoenv/lib/python3.11/site-packages/umap/distances.py:1071: NumbaDeprecationWarning: The 'nopython' keyword argument was not supplied to the 'numba.jit' decorator. The implicit default value for this argument is currently False, but it will be changed to True in Numba 0.59.0. See https://numba.readthedocs.io/en/stable/reference/deprecation.html#deprecation-of-object-mode-fall-back-behaviour-when-using-jit for details.\n",
      "  @numba.jit()\n",
      "/Users/ravi.tej/anaconda3/envs/recoenv/lib/python3.11/site-packages/umap/distances.py:1086: NumbaDeprecationWarning: The 'nopython' keyword argument was not supplied to the 'numba.jit' decorator. The implicit default value for this argument is currently False, but it will be changed to True in Numba 0.59.0. See https://numba.readthedocs.io/en/stable/reference/deprecation.html#deprecation-of-object-mode-fall-back-behaviour-when-using-jit for details.\n",
      "  @numba.jit()\n",
      "/Users/ravi.tej/anaconda3/envs/recoenv/lib/python3.11/site-packages/umap/umap_.py:660: NumbaDeprecationWarning: The 'nopython' keyword argument was not supplied to the 'numba.jit' decorator. The implicit default value for this argument is currently False, but it will be changed to True in Numba 0.59.0. See https://numba.readthedocs.io/en/stable/reference/deprecation.html#deprecation-of-object-mode-fall-back-behaviour-when-using-jit for details.\n",
      "  @numba.jit()\n"
     ]
    }
   ],
   "source": [
    "import sys\n",
    "\n",
    "sys.path.append('/Users/ravi.tej/Desktop/ML/Recommendations/cambrian/')\n",
    "\n",
    "from src.clustering.ClustersResetService import ClustersResetService\n",
    "from src.clustering.ClusterAssignmentService import ClusterAssignmentService\n",
    "from sql.clustering.ClusteringSQL import ClusteringSQL\n",
    "from src.onboarding.TopicClusterMapping import TopicClusterMapping"
   ]
  },
  {
   "cell_type": "code",
   "execution_count": 3,
   "id": "48967f97-0867-4243-8f5b-652e91b9d574",
   "metadata": {
    "tags": []
   },
   "outputs": [],
   "source": [
    "from sql.embeddings.EmbeddingSQL import EmbeddingSQL"
   ]
  },
  {
   "cell_type": "code",
   "execution_count": 4,
   "id": "f634b47e-572f-44c7-9995-1b1bbf449583",
   "metadata": {
    "tags": []
   },
   "outputs": [],
   "source": [
    "all_articles = EmbeddingSQL.get_article_ids_with_embeddings()"
   ]
  },
  {
   "cell_type": "code",
   "execution_count": 6,
   "id": "e85668fc-02fe-41fa-8c80-098cdb1b1346",
   "metadata": {
    "tags": []
   },
   "outputs": [],
   "source": [
    "num_users = 20"
   ]
  },
  {
   "cell_type": "code",
   "execution_count": 18,
   "id": "48dec179-799e-45ea-8143-141ef3a078ca",
   "metadata": {
    "tags": []
   },
   "outputs": [],
   "source": [
    "num_days = 60"
   ]
  },
  {
   "cell_type": "code",
   "execution_count": 43,
   "id": "296053b5-32de-45f5-b501-a2921ecda007",
   "metadata": {
    "tags": []
   },
   "outputs": [],
   "source": [
    "feed_ids = list(range(1000,4000))"
   ]
  },
  {
   "cell_type": "code",
   "execution_count": 8,
   "id": "3756df5e-f193-4230-bb50-954a0d4aff6e",
   "metadata": {
    "tags": []
   },
   "outputs": [],
   "source": [
    "import numpy as np"
   ]
  },
  {
   "cell_type": "code",
   "execution_count": 14,
   "id": "b50a2b8d-9c7e-4c7f-81e6-bfbc24a08985",
   "metadata": {
    "tags": []
   },
   "outputs": [
    {
     "data": {
      "text/plain": [
       "0.21304821720445577"
      ]
     },
     "execution_count": 14,
     "metadata": {},
     "output_type": "execute_result"
    }
   ],
   "source": [
    "np.random.rand()"
   ]
  },
  {
   "cell_type": "code",
   "execution_count": 19,
   "id": "c02665b2-07cc-48b5-aa8c-dc3c37594623",
   "metadata": {
    "tags": []
   },
   "outputs": [],
   "source": [
    "from datetime import timedelta"
   ]
  },
  {
   "cell_type": "code",
   "execution_count": 20,
   "id": "23de5b11-d7b6-44af-9bcc-0bd34b29e0df",
   "metadata": {
    "tags": []
   },
   "outputs": [],
   "source": [
    "from datetime import datetime"
   ]
  },
  {
   "cell_type": "code",
   "execution_count": 25,
   "id": "4bc853dc-e6cf-4ead-986d-415a2c310051",
   "metadata": {
    "tags": []
   },
   "outputs": [
    {
     "data": {
      "text/plain": [
       "datetime.datetime(2023, 9, 26, 14, 39, 34, 917780)"
      ]
     },
     "execution_count": 25,
     "metadata": {},
     "output_type": "execute_result"
    }
   ],
   "source": [
    "datetime.today() - timedelta(days = 3)"
   ]
  },
  {
   "cell_type": "code",
   "execution_count": 44,
   "id": "1fa52cb0-f890-4058-8f28-9ae978674e33",
   "metadata": {
    "tags": []
   },
   "outputs": [],
   "source": [
    "feed_content = []\n",
    "for feed_id in feed_ids:\n",
    "    feed_date = datetime.now() - timedelta(days=np.random.randint(1,60), hours = np.random.randint(1,23), minutes = np.random.randint(1,60))\n",
    "    num_articles = np.random.randint(3, 20)\n",
    "    user_id = np.random.randint(1,50)\n",
    "    articles = np.random.choice(all_articles, size = num_articles, replace = False)\n",
    "    click_ratio = np.random.rand()\n",
    "    is_opened = [True if np.random.rand() < click_ratio else False for _ in range(num_articles)]\n",
    "    for i in range(num_articles):\n",
    "        feed_content.append((user_id, feed_id, articles[i], is_opened[i], i, feed_date))"
   ]
  },
  {
   "cell_type": "code",
   "execution_count": 72,
   "id": "2108fa81-2d72-41e3-b86f-61b6eb07e77f",
   "metadata": {
    "tags": []
   },
   "outputs": [],
   "source": [
    "from sql.DatabaseOperation import DatabaseOperation"
   ]
  },
  {
   "cell_type": "code",
   "execution_count": 48,
   "id": "64bb5cfd-c9e1-466b-be92-2083d378fac1",
   "metadata": {
    "tags": []
   },
   "outputs": [],
   "source": [
    "def insert_into_db(event):\n",
    "    with DatabaseOperation() as cursor:\n",
    "        sql = f\"\"\"INSERT INTO user_article_interactions (user_id, feed_id, article_id, is_article_opened, article_position, created_at)\n",
    "        VALUES (%s, %s, %s, %s, %s, %s)\n",
    "        \"\"\"\n",
    "        cursor.execute(sql, (event[0], event[1], event[2], event[3], event[4], event[5]))"
   ]
  },
  {
   "cell_type": "code",
   "execution_count": 49,
   "id": "2955eff5-8d00-4e80-8753-1e891b1c873e",
   "metadata": {
    "tags": []
   },
   "outputs": [],
   "source": [
    "from tqdm.notebook import tqdm"
   ]
  },
  {
   "cell_type": "code",
   "execution_count": 56,
   "id": "780867ea-6b19-4242-8666-e0e5f32fbaff",
   "metadata": {
    "tags": []
   },
   "outputs": [],
   "source": [
    "feeds = feed_content[103:]"
   ]
  },
  {
   "cell_type": "code",
   "execution_count": 59,
   "id": "e32c6f1c-d690-47ba-b173-ff22837a61ea",
   "metadata": {
    "tags": []
   },
   "outputs": [
    {
     "data": {
      "text/plain": [
       "33531"
      ]
     },
     "execution_count": 59,
     "metadata": {},
     "output_type": "execute_result"
    }
   ],
   "source": [
    "len(feeds)"
   ]
  },
  {
   "cell_type": "code",
   "execution_count": 60,
   "id": "48ce5a45-3097-45f6-bef4-a4e8c20f970c",
   "metadata": {
    "tags": []
   },
   "outputs": [
    {
     "data": {
      "application/vnd.jupyter.widget-view+json": {
       "model_id": "efa3c3dab1924a619312b09c8eb12f84",
       "version_major": 2,
       "version_minor": 0
      },
      "text/plain": [
       "  0%|          | 0/33511 [00:00<?, ?it/s]"
      ]
     },
     "metadata": {},
     "output_type": "display_data"
    }
   ],
   "source": [
    "for eve in tqdm(feeds[20:]):\n",
    "    insert_into_db(event=eve)"
   ]
  },
  {
   "cell_type": "code",
   "execution_count": 28,
   "id": "2d40794c-bd05-4a25-8c5b-cc6e39ca2bd4",
   "metadata": {
    "tags": []
   },
   "outputs": [
    {
     "data": {
      "text/plain": [
       "33293"
      ]
     },
     "execution_count": 28,
     "metadata": {},
     "output_type": "execute_result"
    }
   ],
   "source": [
    "len(feed_content)"
   ]
  },
  {
   "cell_type": "markdown",
   "id": "1f6e8bd9-f170-4628-b055-414be645656e",
   "metadata": {},
   "source": [
    "### Candidate articles"
   ]
  },
  {
   "cell_type": "code",
   "execution_count": 65,
   "id": "36effd31-6914-446a-9553-37b10c620c51",
   "metadata": {
    "tags": []
   },
   "outputs": [
    {
     "data": {
      "text/plain": [
       "8390"
      ]
     },
     "execution_count": 65,
     "metadata": {},
     "output_type": "execute_result"
    }
   ],
   "source": [
    "len(all_articles)"
   ]
  },
  {
   "cell_type": "code",
   "execution_count": 68,
   "id": "1e733874-b13a-4b07-9bef-0bf76954b682",
   "metadata": {
    "tags": []
   },
   "outputs": [],
   "source": [
    "candidate_articles = np.random.choice(all_articles,7000,replace = False)"
   ]
  },
  {
   "cell_type": "code",
   "execution_count": 69,
   "id": "2a4e9c04-501a-4e9d-afa7-509e2d659fe6",
   "metadata": {
    "tags": []
   },
   "outputs": [],
   "source": [
    "time = datetime.now()"
   ]
  },
  {
   "cell_type": "code",
   "execution_count": 75,
   "id": "5c6a3f66-d230-4ca6-9f8b-396191e23dc2",
   "metadata": {
    "tags": []
   },
   "outputs": [],
   "source": [
    "def insert_candidate_article(aid):\n",
    "    with DatabaseOperation() as cursor:\n",
    "        sql = f\"\"\"INSERT INTO candidate_articles (article_id, created_at)\n",
    "            VALUES (%s, %s)\n",
    "            \"\"\"\n",
    "        cursor.execute(sql, (aid, time))"
   ]
  },
  {
   "cell_type": "code",
   "execution_count": 77,
   "id": "a0d1df37-72ee-405a-b1f0-dcfec71fc2ce",
   "metadata": {
    "tags": []
   },
   "outputs": [
    {
     "data": {
      "application/vnd.jupyter.widget-view+json": {
       "model_id": "33be222f89a94cf6a60251bd191dcb43",
       "version_major": 2,
       "version_minor": 0
      },
      "text/plain": [
       "  0%|          | 0/7000 [00:00<?, ?it/s]"
      ]
     },
     "metadata": {},
     "output_type": "display_data"
    }
   ],
   "source": [
    "for art in tqdm(candidate_articles):\n",
    "    insert_candidate_article(aid=art)"
   ]
  },
  {
   "cell_type": "code",
   "execution_count": null,
   "id": "41ddb35a-d88d-461b-bf4a-0cd77c4d68bf",
   "metadata": {},
   "outputs": [],
   "source": []
  }
 ],
 "metadata": {
  "kernelspec": {
   "display_name": "recoenv",
   "language": "python",
   "name": "recoenv"
  },
  "language_info": {
   "codemirror_mode": {
    "name": "ipython",
    "version": 3
   },
   "file_extension": ".py",
   "mimetype": "text/x-python",
   "name": "python",
   "nbconvert_exporter": "python",
   "pygments_lexer": "ipython3",
   "version": "3.11.5"
  }
 },
 "nbformat": 4,
 "nbformat_minor": 5
}
