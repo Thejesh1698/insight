{
 "cells": [
  {
   "cell_type": "code",
   "execution_count": 1,
   "id": "43e56a12-0e73-4ebd-95b5-fb5a63568534",
   "metadata": {
    "tags": []
   },
   "outputs": [
    {
     "name": "stderr",
     "output_type": "stream",
     "text": [
      "/var/folders/d4/cgyr_gnj7nn2wy_hq40gkq8c0000gq/T/ipykernel_27559/4032682437.py:4: UserWarning: \n",
      "The version_base parameter is not specified.\n",
      "Please specify a compatability version level, or None.\n",
      "Will assume defaults for version 1.1\n",
      "  with initialize(config_path=\"../../conf\"):\n"
     ]
    }
   ],
   "source": [
    "parent_folder = '/Users/ravi.tej/Desktop/ML/Recommendations/cambrian/'\n",
    "data_folder = parent_folder + 'data/'\n",
    "from hydra import compose, initialize\n",
    "with initialize(config_path=\"../../conf\"):\n",
    "    # Compose the configuration\n",
    "    cfg = compose(config_name=\"TopicClusterMapping.yaml\")\n",
    "\n",
    "import os\n",
    "\n",
    "import xml.etree.ElementTree as ET\n",
    "\n",
    "tree = ET.parse('../../conf/application.run.xml')\n",
    "root = tree.getroot()\n",
    "\n",
    "envs_element = root.find('./configuration/envs')\n",
    "for variable in envs_element.findall('env'):\n",
    "    name = variable.get('name')\n",
    "    value = variable.get('value')\n",
    "    os.environ[name] = value"
   ]
  },
  {
   "cell_type": "code",
   "execution_count": 2,
   "id": "6ce2de72-8ba0-4fdc-a4d0-2efbb141f95b",
   "metadata": {
    "tags": []
   },
   "outputs": [
    {
     "name": "stderr",
     "output_type": "stream",
     "text": [
      "/Users/ravi.tej/anaconda3/envs/recoenv/lib/python3.11/site-packages/umap/distances.py:1063: NumbaDeprecationWarning: The 'nopython' keyword argument was not supplied to the 'numba.jit' decorator. The implicit default value for this argument is currently False, but it will be changed to True in Numba 0.59.0. See https://numba.readthedocs.io/en/stable/reference/deprecation.html#deprecation-of-object-mode-fall-back-behaviour-when-using-jit for details.\n",
      "  @numba.jit()\n",
      "/Users/ravi.tej/anaconda3/envs/recoenv/lib/python3.11/site-packages/umap/distances.py:1071: NumbaDeprecationWarning: The 'nopython' keyword argument was not supplied to the 'numba.jit' decorator. The implicit default value for this argument is currently False, but it will be changed to True in Numba 0.59.0. See https://numba.readthedocs.io/en/stable/reference/deprecation.html#deprecation-of-object-mode-fall-back-behaviour-when-using-jit for details.\n",
      "  @numba.jit()\n",
      "/Users/ravi.tej/anaconda3/envs/recoenv/lib/python3.11/site-packages/umap/distances.py:1086: NumbaDeprecationWarning: The 'nopython' keyword argument was not supplied to the 'numba.jit' decorator. The implicit default value for this argument is currently False, but it will be changed to True in Numba 0.59.0. See https://numba.readthedocs.io/en/stable/reference/deprecation.html#deprecation-of-object-mode-fall-back-behaviour-when-using-jit for details.\n",
      "  @numba.jit()\n",
      "/Users/ravi.tej/anaconda3/envs/recoenv/lib/python3.11/site-packages/umap/umap_.py:660: NumbaDeprecationWarning: The 'nopython' keyword argument was not supplied to the 'numba.jit' decorator. The implicit default value for this argument is currently False, but it will be changed to True in Numba 0.59.0. See https://numba.readthedocs.io/en/stable/reference/deprecation.html#deprecation-of-object-mode-fall-back-behaviour-when-using-jit for details.\n",
      "  @numba.jit()\n"
     ]
    }
   ],
   "source": [
    "import sys\n",
    "\n",
    "sys.path.append('/Users/ravi.tej/Desktop/ML/Recommendations/cambrian/')\n",
    "\n",
    "from src.clustering.ClustersResetService import ClustersResetService\n",
    "from src.clustering.ClusterAssignmentService import ClusterAssignmentService\n",
    "from sql.clustering.ClusteringSQL import ClusteringSQL\n",
    "from src.onboarding.TopicClusterMapping import TopicClusterMapping\n",
    "from src.feed.ArticleSelectionService import ArticleSelectionService\n",
    "from src.feed.ClusterSelectionService import ClusterSelectionService"
   ]
  },
  {
   "cell_type": "code",
   "execution_count": 3,
   "id": "f0ad295a-9d4f-42ff-a916-11a5067b6100",
   "metadata": {
    "tags": []
   },
   "outputs": [],
   "source": [
    "from sql.feed.ArticleSelectionSQL import ArticleSelectionSQL"
   ]
  },
  {
   "cell_type": "code",
   "execution_count": 13,
   "id": "bb42a30f-5eb9-43e2-8f78-2318431124dd",
   "metadata": {
    "tags": []
   },
   "outputs": [
    {
     "name": "stderr",
     "output_type": "stream",
     "text": [
      "INFO:sentence_transformers.SentenceTransformer:Load pretrained SentenceTransformer: BAAI/bge-small-en\n",
      "INFO:sentence_transformers.SentenceTransformer:Use pytorch device: cpu\n"
     ]
    }
   ],
   "source": [
    "tcm = TopicClusterMapping(cfg= cfg)\n",
    "ass = ArticleSelectionService()\n",
    "css = ClusterSelectionService(topicClusterMapping=tcm)"
   ]
  },
  {
   "cell_type": "code",
   "execution_count": 18,
   "id": "e5a0b43b-0567-4170-9763-7e85165b1f06",
   "metadata": {
    "tags": []
   },
   "outputs": [
    {
     "ename": "OperationalError",
     "evalue": "SSL SYSCALL error: Operation timed out\n",
     "output_type": "error",
     "traceback": [
      "\u001b[0;31m---------------------------------------------------------------------------\u001b[0m",
      "\u001b[0;31mOperationalError\u001b[0m                          Traceback (most recent call last)",
      "Cell \u001b[0;32mIn[18], line 1\u001b[0m\n\u001b[0;32m----> 1\u001b[0m pref \u001b[38;5;241m=\u001b[39m css\u001b[38;5;241m.\u001b[39mget_overall_user_preferences(user_id\u001b[38;5;241m=\u001b[39m\u001b[38;5;241m1\u001b[39m, topic_id_list\u001b[38;5;241m=\u001b[39m[])\n",
      "File \u001b[0;32m~/Desktop/ML/Recommendations/cambrian/src/feed/ClusterSelectionService.py:37\u001b[0m, in \u001b[0;36mClusterSelectionService.get_overall_user_preferences\u001b[0;34m(self, user_id, topic_id_list)\u001b[0m\n\u001b[1;32m     36\u001b[0m \u001b[38;5;28;01mdef\u001b[39;00m \u001b[38;5;21mget_overall_user_preferences\u001b[39m(\u001b[38;5;28mself\u001b[39m, user_id, topic_id_list):\n\u001b[0;32m---> 37\u001b[0m     explicit_preferences \u001b[38;5;241m=\u001b[39m \u001b[38;5;28mself\u001b[39m\u001b[38;5;241m.\u001b[39mtopicClusterMapping\u001b[38;5;241m.\u001b[39mget_cluster_preferences_for_topic_list(topic_id_list\u001b[38;5;241m=\u001b[39mtopic_id_list)\n\u001b[1;32m     38\u001b[0m     implicit_preferences \u001b[38;5;241m=\u001b[39m \u001b[38;5;28mself\u001b[39m\u001b[38;5;241m.\u001b[39mget_implicit_user_preferences(user_id\u001b[38;5;241m=\u001b[39muser_id)\n\u001b[1;32m     39\u001b[0m     overall_pref \u001b[38;5;241m=\u001b[39m \u001b[38;5;28mself\u001b[39m\u001b[38;5;241m.\u001b[39m__merge_explicit_implicit_cluster_priors(explicit_priors\u001b[38;5;241m=\u001b[39mexplicit_preferences, implicit_priors\u001b[38;5;241m=\u001b[39mimplicit_preferences)\n",
      "File \u001b[0;32m~/Desktop/ML/Recommendations/cambrian/src/onboarding/TopicClusterMapping.py:105\u001b[0m, in \u001b[0;36mTopicClusterMapping.get_cluster_preferences_for_topic_list\u001b[0;34m(self, topic_id_list)\u001b[0m\n\u001b[1;32m    103\u001b[0m \u001b[38;5;28;01mdef\u001b[39;00m \u001b[38;5;21mget_cluster_preferences_for_topic_list\u001b[39m(\u001b[38;5;28mself\u001b[39m, topic_id_list: List[\u001b[38;5;28mint\u001b[39m]):\n\u001b[1;32m    104\u001b[0m     \u001b[38;5;66;03m# get topic level dict of cluster preferences\u001b[39;00m\n\u001b[0;32m--> 105\u001b[0m     all_preferences \u001b[38;5;241m=\u001b[39m TopicPreferencesSQL\u001b[38;5;241m.\u001b[39mget_all_topic_preferences_from_db()\n\u001b[1;32m    106\u001b[0m     valid_topics \u001b[38;5;241m=\u001b[39m \u001b[38;5;28mlist\u001b[39m(all_preferences[\u001b[38;5;124m'\u001b[39m\u001b[38;5;124mtopic_id\u001b[39m\u001b[38;5;124m'\u001b[39m]\u001b[38;5;241m.\u001b[39munique())\n\u001b[1;32m    107\u001b[0m     valid_topic_id_list \u001b[38;5;241m=\u001b[39m \u001b[38;5;28mlist\u001b[39m(\u001b[38;5;28mset\u001b[39m(valid_topics)\u001b[38;5;241m.\u001b[39mintersection(\u001b[38;5;28mset\u001b[39m(topic_id_list)))\n",
      "File \u001b[0;32m~/Desktop/ML/Recommendations/cambrian/sql/onboarding/TopicPreferencesSQL.py:16\u001b[0m, in \u001b[0;36mTopicPreferencesSQL.get_all_topic_preferences_from_db\u001b[0;34m()\u001b[0m\n\u001b[1;32m     14\u001b[0m \u001b[38;5;28;01mwith\u001b[39;00m DatabaseOperation() \u001b[38;5;28;01mas\u001b[39;00m cursor:\n\u001b[1;32m     15\u001b[0m     sql \u001b[38;5;241m=\u001b[39m \u001b[38;5;124m\"\u001b[39m\u001b[38;5;124mSELECT topic_id, topic_name, cluster_id, a, b, clustering_run_id, created_at FROM topic_cluster_preference_mapping\u001b[39m\u001b[38;5;124m\"\u001b[39m\n\u001b[0;32m---> 16\u001b[0m     cursor\u001b[38;5;241m.\u001b[39mexecute(sql)\n\u001b[1;32m     17\u001b[0m     results \u001b[38;5;241m=\u001b[39m cursor\u001b[38;5;241m.\u001b[39mfetchall()\n\u001b[1;32m     18\u001b[0m     df \u001b[38;5;241m=\u001b[39m pd\u001b[38;5;241m.\u001b[39mDataFrame(results, columns\u001b[38;5;241m=\u001b[39m[\u001b[38;5;124m'\u001b[39m\u001b[38;5;124mtopic_id\u001b[39m\u001b[38;5;124m'\u001b[39m, \u001b[38;5;124m'\u001b[39m\u001b[38;5;124mtopic_name\u001b[39m\u001b[38;5;124m'\u001b[39m, \u001b[38;5;124m'\u001b[39m\u001b[38;5;124mcluster_id\u001b[39m\u001b[38;5;124m'\u001b[39m, \u001b[38;5;124m'\u001b[39m\u001b[38;5;124ma\u001b[39m\u001b[38;5;124m'\u001b[39m, \u001b[38;5;124m'\u001b[39m\u001b[38;5;124mb\u001b[39m\u001b[38;5;124m'\u001b[39m, \u001b[38;5;124m'\u001b[39m\u001b[38;5;124mclustering_run_id\u001b[39m\u001b[38;5;124m'\u001b[39m, \u001b[38;5;124m'\u001b[39m\u001b[38;5;124mcreated_at\u001b[39m\u001b[38;5;124m'\u001b[39m])\n",
      "\u001b[0;31mOperationalError\u001b[0m: SSL SYSCALL error: Operation timed out\n"
     ]
    }
   ],
   "source": [
    "pref = css.get_overall_user_preferences(user_id=1, topic_id_list=[])"
   ]
  },
  {
   "cell_type": "code",
   "execution_count": 17,
   "id": "14d1e7c9-764b-45ac-83f3-9ccf2b7f9815",
   "metadata": {
    "tags": []
   },
   "outputs": [
    {
     "data": {
      "text/plain": [
       "{256: {'a': 1, 'b': 3.9070294784580497},\n",
       " 386: {'a': 2.353678724057374, 'b': 5.030518086086061},\n",
       " 388: {'a': 1, 'b': 3.822702474791882},\n",
       " 390: {'a': 1, 'b': 4.227826507081518},\n",
       " 391: {'a': 3.7210884353741496, 'b': 5.721088435374149},\n",
       " 362: {'a': 1.676839362028687, 'b': 3.676839362028687},\n",
       " 395: {'a': 1, 'b': 3.7462153966366274},\n",
       " 397: {'a': 1, 'b': 4.492430793273255},\n",
       " 303: {'a': 1, 'b': 3.7462153966366274},\n",
       " 400: {'a': 2.353678724057374, 'b': 5.030518086086061},\n",
       " 379: {'a': 1, 'b': 3.644608916217797},\n",
       " 316: {'a': 1.8638375985314761, 'b': 3.863837598531476},\n",
       " 382: {'a': 1.6139132535407592, 'b': 3.613913253540759}}"
      ]
     },
     "execution_count": 17,
     "metadata": {},
     "output_type": "execute_result"
    }
   ],
   "source": [
    "pref"
   ]
  },
  {
   "cell_type": "code",
   "execution_count": 6,
   "id": "b9ac263a-3d54-4aa3-a0c4-0fc10346b282",
   "metadata": {
    "tags": []
   },
   "outputs": [],
   "source": [
    "allot = css.allot_articles_per_cluster(cluster_preferences=pref, feed_article_count=20, mins_since_last_api=1440)"
   ]
  },
  {
   "cell_type": "code",
   "execution_count": 9,
   "id": "1f837e03-dfb5-4f45-bc7a-2a0b9b68c5b4",
   "metadata": {
    "tags": []
   },
   "outputs": [
    {
     "data": {
      "text/plain": [
       "{382: 5,\n",
       " 390: 4,\n",
       " 386: 3,\n",
       " 379: 2,\n",
       " 256: 2,\n",
       " 400: 1,\n",
       " 388: 1,\n",
       " 362: 1,\n",
       " 316: 1,\n",
       " 303: 0}"
      ]
     },
     "execution_count": 9,
     "metadata": {},
     "output_type": "execute_result"
    }
   ],
   "source": [
    "allot"
   ]
  },
  {
   "cell_type": "code",
   "execution_count": 8,
   "id": "2ed372fe-523a-454d-b39c-8588474b27c2",
   "metadata": {
    "tags": []
   },
   "outputs": [
    {
     "data": {
      "text/plain": [
       "{256: {'a': 1.7462153966366274, 'b': 4.492430793273255},\n",
       " 386: {'a': 5.209881696211557, 'b': 7.0610361721721215},\n",
       " 388: {'a': 5.875834001827432, 'b': 7.936214848751291},\n",
       " 390: {'a': 7.84193443300263, 'b': 6.223044581088986},\n",
       " 391: {'a': 1, 'b': 3.9070294784580497},\n",
       " 362: {'a': 2.353678724057374, 'b': 4.353678724057374},\n",
       " 395: {'a': 3.2386461899098826, 'b': 5.238646189909883},\n",
       " 397: {'a': 2.145658971244805, 'b': 3.644608916217797},\n",
       " 303: {'a': 1, 'b': 3.7462153966366274},\n",
       " 400: {'a': 2.958562121469382, 'b': 3.676839362028687},\n",
       " 379: {'a': 4.06894007635764, 'b': 6.867653497306783},\n",
       " 316: {'a': 2.9047619047619047, 'b': 4.904761904761905},\n",
       " 382: {'a': 5.554824927599107, 'b': 5.721088435374149}}"
      ]
     },
     "execution_count": 8,
     "metadata": {},
     "output_type": "execute_result"
    }
   ],
   "source": [
    "pref"
   ]
  },
  {
   "cell_type": "code",
   "execution_count": 10,
   "id": "1c2ab9e6-9720-4c44-a911-9e48e14c5629",
   "metadata": {
    "scrolled": true,
    "tags": []
   },
   "outputs": [
    {
     "data": {
      "text/plain": [
       "{'feedArticles': [{'article_id': '6513a039395f46458f8be71b',\n",
       "   'cluster_id': 390,\n",
       "   'a': 6.0,\n",
       "   'b': 16.0,\n",
       "   'sample_probability': 0.640155842133368},\n",
       "  {'article_id': '6513969b395f46458f8bd067',\n",
       "   'cluster_id': 388,\n",
       "   'a': 5.0,\n",
       "   'b': 13.0,\n",
       "   'sample_probability': 0.62609663574668},\n",
       "  {'article_id': '6513a693395f46458f8bf923',\n",
       "   'cluster_id': 382,\n",
       "   'a': 3.0,\n",
       "   'b': 11.0,\n",
       "   'sample_probability': 0.6013944419544186},\n",
       "  {'article_id': '6513a02e395f46458f8be6fe',\n",
       "   'cluster_id': 362,\n",
       "   'a': 4.0,\n",
       "   'b': 14.0,\n",
       "   'sample_probability': 0.5925155999104981},\n",
       "  {'article_id': '651396a0395f46458f8bd06f',\n",
       "   'cluster_id': 400,\n",
       "   'a': 5.0,\n",
       "   'b': 16.0,\n",
       "   'sample_probability': 0.5768182593989545},\n",
       "  {'article_id': '6513a8d6395f46458f8bfeec',\n",
       "   'cluster_id': 386,\n",
       "   'a': 4.0,\n",
       "   'b': 14.0,\n",
       "   'sample_probability': 0.5731720257944147},\n",
       "  {'article_id': '6513a52a395f46458f8bf534',\n",
       "   'cluster_id': 316,\n",
       "   'a': 5.0,\n",
       "   'b': 16.0,\n",
       "   'sample_probability': 0.5532969436228018},\n",
       "  {'article_id': '6513892d395f46458f8bbb64',\n",
       "   'cluster_id': 390,\n",
       "   'a': 4.0,\n",
       "   'b': 12.0,\n",
       "   'sample_probability': 0.5503909156844126},\n",
       "  {'article_id': '651396a3395f46458f8bd073',\n",
       "   'cluster_id': 390,\n",
       "   'a': 2.0,\n",
       "   'b': 11.0,\n",
       "   'sample_probability': 0.5480087448958728},\n",
       "  {'article_id': '65139458395f46458f8bcce7',\n",
       "   'cluster_id': 256,\n",
       "   'a': 5.0,\n",
       "   'b': 15.0,\n",
       "   'sample_probability': 0.5440207810648584},\n",
       "  {'article_id': '651391a5395f46458f8bc909',\n",
       "   'cluster_id': 379,\n",
       "   'a': 4.0,\n",
       "   'b': 12.0,\n",
       "   'sample_probability': 0.5283707547337616},\n",
       "  {'article_id': '6513a802395f46458f8bfd07',\n",
       "   'cluster_id': 386,\n",
       "   'a': 3.0,\n",
       "   'b': 12.0,\n",
       "   'sample_probability': 0.526168110899423},\n",
       "  {'article_id': '6513a122395f46458f8be9a1',\n",
       "   'cluster_id': 382,\n",
       "   'a': 3.0,\n",
       "   'b': 12.0,\n",
       "   'sample_probability': 0.5249114799718507},\n",
       "  {'article_id': '6513907b395f46458f8bc74d',\n",
       "   'cluster_id': 379,\n",
       "   'a': 3.0,\n",
       "   'b': 11.0,\n",
       "   'sample_probability': 0.5213073440124999},\n",
       "  {'article_id': '6513897f395f46458f8bbbd0',\n",
       "   'cluster_id': 382,\n",
       "   'a': 4.0,\n",
       "   'b': 14.0,\n",
       "   'sample_probability': 0.5200282553318106},\n",
       "  {'article_id': '6513a861395f46458f8bfdc2',\n",
       "   'cluster_id': 390,\n",
       "   'a': 3.0,\n",
       "   'b': 12.0,\n",
       "   'sample_probability': 0.5117390844077141},\n",
       "  {'article_id': '6513a338395f46458f8befe0',\n",
       "   'cluster_id': 382,\n",
       "   'a': 5.0,\n",
       "   'b': 15.0,\n",
       "   'sample_probability': 0.5106211533209147},\n",
       "  {'article_id': '65138cb5395f46458f8bc175',\n",
       "   'cluster_id': 382,\n",
       "   'a': 5.0,\n",
       "   'b': 14.0,\n",
       "   'sample_probability': 0.5079234593761717},\n",
       "  {'article_id': '6513991e395f46458f8bd42b',\n",
       "   'cluster_id': 386,\n",
       "   'a': 3.0,\n",
       "   'b': 12.0,\n",
       "   'sample_probability': 0.5012447894953045},\n",
       "  {'article_id': '6513882c395f46458f8bb9b2',\n",
       "   'cluster_id': 256,\n",
       "   'a': 4.0,\n",
       "   'b': 14.0,\n",
       "   'sample_probability': 0.45275916488500334}],\n",
       " 'model': 'thompson_sampling_v1'}"
      ]
     },
     "execution_count": 10,
     "metadata": {},
     "output_type": "execute_result"
    }
   ],
   "source": [
    "ass.get_ordered_feed(user_id = 15, articles_per_cluster=allot)"
   ]
  },
  {
   "cell_type": "code",
   "execution_count": 20,
   "id": "da2ceacb-22ad-4a5a-9a46-14e681e6eaa5",
   "metadata": {
    "tags": []
   },
   "outputs": [],
   "source": [
    "cand = ArticleSelectionSQL.get_candidate_articles()"
   ]
  },
  {
   "cell_type": "code",
   "execution_count": 42,
   "id": "baf6857a-54f0-42dc-ae40-9e64b4599eb7",
   "metadata": {
    "tags": []
   },
   "outputs": [],
   "source": [
    "hist = ArticleSelectionSQL.get_day_wise_article_a_b()"
   ]
  },
  {
   "cell_type": "code",
   "execution_count": 44,
   "id": "daae54ba-6822-4d15-9288-aeab98529638",
   "metadata": {
    "tags": []
   },
   "outputs": [],
   "source": [
    "from src.feed._utils import apply_article_pref_decay_by_feed_date"
   ]
  },
  {
   "cell_type": "code",
   "execution_count": 47,
   "id": "bbb70f75-4190-4e6a-8187-d66a936f7b9d",
   "metadata": {
    "tags": []
   },
   "outputs": [],
   "source": [
    "from datetime import datetime"
   ]
  },
  {
   "cell_type": "code",
   "execution_count": 53,
   "id": "c5575a47-32d1-48fb-a70a-18ff43039580",
   "metadata": {
    "tags": []
   },
   "outputs": [
    {
     "data": {
      "text/plain": [
       "datetime.timedelta(days=-1, seconds=86399, microseconds=999989)"
      ]
     },
     "execution_count": 53,
     "metadata": {},
     "output_type": "execute_result"
    }
   ],
   "source": [
    "datetime.now() - datetime.today()"
   ]
  },
  {
   "cell_type": "code",
   "execution_count": 51,
   "id": "028d1053-c8af-4ae9-8f18-db7229889c42",
   "metadata": {
    "tags": []
   },
   "outputs": [
    {
     "data": {
      "text/plain": [
       "-1"
      ]
     },
     "execution_count": 51,
     "metadata": {},
     "output_type": "execute_result"
    }
   ],
   "source": [
    "(datetime.now() - datetime.today()).days"
   ]
  },
  {
   "cell_type": "code",
   "execution_count": 45,
   "id": "5bc60c73-fe0b-42c4-b3ba-49222e64894b",
   "metadata": {
    "tags": []
   },
   "outputs": [
    {
     "data": {
      "text/html": [
       "<div>\n",
       "<style scoped>\n",
       "    .dataframe tbody tr th:only-of-type {\n",
       "        vertical-align: middle;\n",
       "    }\n",
       "\n",
       "    .dataframe tbody tr th {\n",
       "        vertical-align: top;\n",
       "    }\n",
       "\n",
       "    .dataframe thead th {\n",
       "        text-align: right;\n",
       "    }\n",
       "</style>\n",
       "<table border=\"1\" class=\"dataframe\">\n",
       "  <thead>\n",
       "    <tr style=\"text-align: right;\">\n",
       "      <th></th>\n",
       "      <th>article_id</th>\n",
       "      <th>feed_date</th>\n",
       "      <th>a</th>\n",
       "      <th>b</th>\n",
       "      <th>days_ago</th>\n",
       "      <th>decay</th>\n",
       "    </tr>\n",
       "  </thead>\n",
       "  <tbody>\n",
       "    <tr>\n",
       "      <th>0</th>\n",
       "      <td>651388a9395f46458f8bbaaf</td>\n",
       "      <td>2023-09-02</td>\n",
       "      <td>1</td>\n",
       "      <td>1</td>\n",
       "      <td>-32</td>\n",
       "      <td>0.000792</td>\n",
       "    </tr>\n",
       "    <tr>\n",
       "      <th>1</th>\n",
       "      <td>65139ad2395f46458f8bd744</td>\n",
       "      <td>2023-09-26</td>\n",
       "      <td>0</td>\n",
       "      <td>1</td>\n",
       "      <td>-8</td>\n",
       "      <td>0.167772</td>\n",
       "    </tr>\n",
       "    <tr>\n",
       "      <th>2</th>\n",
       "      <td>65138adf395f46458f8bbe36</td>\n",
       "      <td>2023-08-05</td>\n",
       "      <td>0</td>\n",
       "      <td>1</td>\n",
       "      <td>-60</td>\n",
       "      <td>0.000002</td>\n",
       "    </tr>\n",
       "    <tr>\n",
       "      <th>3</th>\n",
       "      <td>6513a83d395f46458f8bfd7c</td>\n",
       "      <td>2023-09-18</td>\n",
       "      <td>1</td>\n",
       "      <td>1</td>\n",
       "      <td>-16</td>\n",
       "      <td>0.028147</td>\n",
       "    </tr>\n",
       "    <tr>\n",
       "      <th>4</th>\n",
       "      <td>65139b38395f46458f8bd887</td>\n",
       "      <td>2023-08-30</td>\n",
       "      <td>0</td>\n",
       "      <td>1</td>\n",
       "      <td>-35</td>\n",
       "      <td>0.000406</td>\n",
       "    </tr>\n",
       "    <tr>\n",
       "      <th>...</th>\n",
       "      <td>...</td>\n",
       "      <td>...</td>\n",
       "      <td>...</td>\n",
       "      <td>...</td>\n",
       "      <td>...</td>\n",
       "      <td>...</td>\n",
       "    </tr>\n",
       "    <tr>\n",
       "      <th>32559</th>\n",
       "      <td>6513a77e395f46458f8bfbaf</td>\n",
       "      <td>2023-09-25</td>\n",
       "      <td>0</td>\n",
       "      <td>1</td>\n",
       "      <td>-9</td>\n",
       "      <td>0.134218</td>\n",
       "    </tr>\n",
       "    <tr>\n",
       "      <th>32560</th>\n",
       "      <td>6513a20b395f46458f8bec5e</td>\n",
       "      <td>2023-09-04</td>\n",
       "      <td>0</td>\n",
       "      <td>1</td>\n",
       "      <td>-30</td>\n",
       "      <td>0.001238</td>\n",
       "    </tr>\n",
       "    <tr>\n",
       "      <th>32561</th>\n",
       "      <td>65139fdb395f46458f8be626</td>\n",
       "      <td>2023-08-22</td>\n",
       "      <td>0</td>\n",
       "      <td>1</td>\n",
       "      <td>-43</td>\n",
       "      <td>0.000068</td>\n",
       "    </tr>\n",
       "    <tr>\n",
       "      <th>32562</th>\n",
       "      <td>6513a8d0395f46458f8bfedb</td>\n",
       "      <td>2023-09-11</td>\n",
       "      <td>0</td>\n",
       "      <td>1</td>\n",
       "      <td>-23</td>\n",
       "      <td>0.005903</td>\n",
       "    </tr>\n",
       "    <tr>\n",
       "      <th>32563</th>\n",
       "      <td>6513a125395f46458f8be9a9</td>\n",
       "      <td>2023-09-09</td>\n",
       "      <td>1</td>\n",
       "      <td>1</td>\n",
       "      <td>-25</td>\n",
       "      <td>0.003778</td>\n",
       "    </tr>\n",
       "  </tbody>\n",
       "</table>\n",
       "<p>32564 rows × 6 columns</p>\n",
       "</div>"
      ],
      "text/plain": [
       "                     article_id  feed_date  a  b  days_ago     decay\n",
       "0      651388a9395f46458f8bbaaf 2023-09-02  1  1       -32  0.000792\n",
       "1      65139ad2395f46458f8bd744 2023-09-26  0  1        -8  0.167772\n",
       "2      65138adf395f46458f8bbe36 2023-08-05  0  1       -60  0.000002\n",
       "3      6513a83d395f46458f8bfd7c 2023-09-18  1  1       -16  0.028147\n",
       "4      65139b38395f46458f8bd887 2023-08-30  0  1       -35  0.000406\n",
       "...                         ...        ... .. ..       ...       ...\n",
       "32559  6513a77e395f46458f8bfbaf 2023-09-25  0  1        -9  0.134218\n",
       "32560  6513a20b395f46458f8bec5e 2023-09-04  0  1       -30  0.001238\n",
       "32561  65139fdb395f46458f8be626 2023-08-22  0  1       -43  0.000068\n",
       "32562  6513a8d0395f46458f8bfedb 2023-09-11  0  1       -23  0.005903\n",
       "32563  6513a125395f46458f8be9a9 2023-09-09  1  1       -25  0.003778\n",
       "\n",
       "[32564 rows x 6 columns]"
      ]
     },
     "execution_count": 45,
     "metadata": {},
     "output_type": "execute_result"
    }
   ],
   "source": [
    "apply_article_pref_decay_by_feed_date(hist)"
   ]
  },
  {
   "cell_type": "code",
   "execution_count": 43,
   "id": "c47f4232-e25d-4abc-b502-e02a21aaa81d",
   "metadata": {
    "tags": []
   },
   "outputs": [
    {
     "data": {
      "text/html": [
       "<div>\n",
       "<style scoped>\n",
       "    .dataframe tbody tr th:only-of-type {\n",
       "        vertical-align: middle;\n",
       "    }\n",
       "\n",
       "    .dataframe tbody tr th {\n",
       "        vertical-align: top;\n",
       "    }\n",
       "\n",
       "    .dataframe thead th {\n",
       "        text-align: right;\n",
       "    }\n",
       "</style>\n",
       "<table border=\"1\" class=\"dataframe\">\n",
       "  <thead>\n",
       "    <tr style=\"text-align: right;\">\n",
       "      <th></th>\n",
       "      <th>article_id</th>\n",
       "      <th>feed_date</th>\n",
       "      <th>a</th>\n",
       "      <th>b</th>\n",
       "    </tr>\n",
       "  </thead>\n",
       "  <tbody>\n",
       "    <tr>\n",
       "      <th>0</th>\n",
       "      <td>651388a9395f46458f8bbaaf</td>\n",
       "      <td>2023-09-02</td>\n",
       "      <td>1</td>\n",
       "      <td>1</td>\n",
       "    </tr>\n",
       "    <tr>\n",
       "      <th>1</th>\n",
       "      <td>65139ad2395f46458f8bd744</td>\n",
       "      <td>2023-09-26</td>\n",
       "      <td>0</td>\n",
       "      <td>1</td>\n",
       "    </tr>\n",
       "    <tr>\n",
       "      <th>2</th>\n",
       "      <td>65138adf395f46458f8bbe36</td>\n",
       "      <td>2023-08-05</td>\n",
       "      <td>0</td>\n",
       "      <td>1</td>\n",
       "    </tr>\n",
       "    <tr>\n",
       "      <th>3</th>\n",
       "      <td>6513a83d395f46458f8bfd7c</td>\n",
       "      <td>2023-09-18</td>\n",
       "      <td>1</td>\n",
       "      <td>1</td>\n",
       "    </tr>\n",
       "    <tr>\n",
       "      <th>4</th>\n",
       "      <td>65139b38395f46458f8bd887</td>\n",
       "      <td>2023-08-30</td>\n",
       "      <td>0</td>\n",
       "      <td>1</td>\n",
       "    </tr>\n",
       "    <tr>\n",
       "      <th>...</th>\n",
       "      <td>...</td>\n",
       "      <td>...</td>\n",
       "      <td>...</td>\n",
       "      <td>...</td>\n",
       "    </tr>\n",
       "    <tr>\n",
       "      <th>32559</th>\n",
       "      <td>6513a77e395f46458f8bfbaf</td>\n",
       "      <td>2023-09-25</td>\n",
       "      <td>0</td>\n",
       "      <td>1</td>\n",
       "    </tr>\n",
       "    <tr>\n",
       "      <th>32560</th>\n",
       "      <td>6513a20b395f46458f8bec5e</td>\n",
       "      <td>2023-09-04</td>\n",
       "      <td>0</td>\n",
       "      <td>1</td>\n",
       "    </tr>\n",
       "    <tr>\n",
       "      <th>32561</th>\n",
       "      <td>65139fdb395f46458f8be626</td>\n",
       "      <td>2023-08-22</td>\n",
       "      <td>0</td>\n",
       "      <td>1</td>\n",
       "    </tr>\n",
       "    <tr>\n",
       "      <th>32562</th>\n",
       "      <td>6513a8d0395f46458f8bfedb</td>\n",
       "      <td>2023-09-11</td>\n",
       "      <td>0</td>\n",
       "      <td>1</td>\n",
       "    </tr>\n",
       "    <tr>\n",
       "      <th>32563</th>\n",
       "      <td>6513a125395f46458f8be9a9</td>\n",
       "      <td>2023-09-09</td>\n",
       "      <td>1</td>\n",
       "      <td>1</td>\n",
       "    </tr>\n",
       "  </tbody>\n",
       "</table>\n",
       "<p>32564 rows × 4 columns</p>\n",
       "</div>"
      ],
      "text/plain": [
       "                     article_id   feed_date  a  b\n",
       "0      651388a9395f46458f8bbaaf  2023-09-02  1  1\n",
       "1      65139ad2395f46458f8bd744  2023-09-26  0  1\n",
       "2      65138adf395f46458f8bbe36  2023-08-05  0  1\n",
       "3      6513a83d395f46458f8bfd7c  2023-09-18  1  1\n",
       "4      65139b38395f46458f8bd887  2023-08-30  0  1\n",
       "...                         ...         ... .. ..\n",
       "32559  6513a77e395f46458f8bfbaf  2023-09-25  0  1\n",
       "32560  6513a20b395f46458f8bec5e  2023-09-04  0  1\n",
       "32561  65139fdb395f46458f8be626  2023-08-22  0  1\n",
       "32562  6513a8d0395f46458f8bfedb  2023-09-11  0  1\n",
       "32563  6513a125395f46458f8be9a9  2023-09-09  1  1\n",
       "\n",
       "[32564 rows x 4 columns]"
      ]
     },
     "execution_count": 43,
     "metadata": {},
     "output_type": "execute_result"
    }
   ],
   "source": [
    "hist"
   ]
  },
  {
   "cell_type": "code",
   "execution_count": 39,
   "id": "cfae70f4-1607-4d06-9079-a5012039f0f2",
   "metadata": {
    "tags": []
   },
   "outputs": [],
   "source": [
    "cand = ass._get_all_candidate_articles()"
   ]
  },
  {
   "cell_type": "code",
   "execution_count": 40,
   "id": "7c0a7417-0326-4f5a-968a-7a1ce6d4bea6",
   "metadata": {
    "tags": []
   },
   "outputs": [],
   "source": [
    "candy = ass._get_candidate_article_priors(cand)"
   ]
  },
  {
   "cell_type": "code",
   "execution_count": null,
   "id": "25e0be7e-5385-40b3-b390-70d9b59b13ff",
   "metadata": {},
   "outputs": [],
   "source": []
  },
  {
   "cell_type": "code",
   "execution_count": 27,
   "id": "47122139-6d51-4547-a14a-6450658c71ae",
   "metadata": {
    "scrolled": true,
    "tags": []
   },
   "outputs": [
    {
     "data": {
      "text/plain": [
       "article_id\n",
       "6513881f395f46458f8bb9a0    9\n",
       "65138848395f46458f8bb9f5    8\n",
       "6513a3f2395f46458f8bf1d2    8\n",
       "6513a483395f46458f8bf357    8\n",
       "65138a11395f46458f8bbced    7\n",
       "65138b77395f46458f8bbf3c    7\n",
       "65139499395f46458f8bcd4f    7\n",
       "651396d1395f46458f8bd0bd    7\n",
       "65139c91395f46458f8bdc74    7\n",
       "65139d3b395f46458f8bde54    7\n",
       "65139da3395f46458f8bdf89    7\n",
       "65139f3f395f46458f8be474    7\n",
       "6513a33d395f46458f8befef    7\n",
       "6513a367395f46458f8bf062    7\n",
       "6513a468395f46458f8bf30b    7\n",
       "6513a56f395f46458f8bf60e    7\n",
       "6513a5a8395f46458f8bf6b0    7\n",
       "6513a6d5395f46458f8bf9d7    7\n",
       "6513a9e3395f46458f8c01cf    7\n",
       "6512e9c0395f46458f8bb769    6\n",
       "65138727395f46458f8bb839    6\n",
       "65138816395f46458f8bb994    6\n",
       "651388bb395f46458f8bbad5    6\n",
       "6513890f395f46458f8bbb40    6\n",
       "65138a51395f46458f8bbd4d    6\n",
       "65138afd395f46458f8bbe6e    6\n",
       "65138b84395f46458f8bbf5b    6\n",
       "65138bb7395f46458f8bbfad    6\n",
       "65138c21395f46458f8bc070    6\n",
       "65138dd5395f46458f8bc348    6\n",
       "Name: a, dtype: int64"
      ]
     },
     "execution_count": 27,
     "metadata": {},
     "output_type": "execute_result"
    }
   ],
   "source": [
    "hist.groupby('article_id')['a'].sum().nlargest(30)"
   ]
  },
  {
   "cell_type": "code",
   "execution_count": 24,
   "id": "9557ac54-7590-4d30-94c9-f75ac0535580",
   "metadata": {
    "tags": []
   },
   "outputs": [
    {
     "data": {
      "text/plain": [
       "0.5094582975064489"
      ]
     },
     "execution_count": 24,
     "metadata": {},
     "output_type": "execute_result"
    }
   ],
   "source": [
    "hist['a'].mean()"
   ]
  },
  {
   "cell_type": "code",
   "execution_count": 26,
   "id": "67042cc5-cb27-423a-a063-22dea36a9c32",
   "metadata": {
    "tags": []
   },
   "outputs": [
    {
     "data": {
      "text/plain": [
       "count    32564.000000\n",
       "mean         0.509458\n",
       "std          0.515285\n",
       "min          0.000000\n",
       "20%          0.000000\n",
       "30%          0.000000\n",
       "50%          1.000000\n",
       "60%          1.000000\n",
       "80%          1.000000\n",
       "max          3.000000\n",
       "Name: a, dtype: float64"
      ]
     },
     "execution_count": 26,
     "metadata": {},
     "output_type": "execute_result"
    }
   ],
   "source": [
    "hist['a'].describe([0.2,0.3,0.6,0.8])"
   ]
  },
  {
   "cell_type": "code",
   "execution_count": 25,
   "id": "1b059560-3505-4b82-9141-6eed3351e5bc",
   "metadata": {
    "tags": []
   },
   "outputs": [
    {
     "data": {
      "text/plain": [
       "1.0327048274167792"
      ]
     },
     "execution_count": 25,
     "metadata": {},
     "output_type": "execute_result"
    }
   ],
   "source": [
    "hist['b'].mean()"
   ]
  },
  {
   "cell_type": "code",
   "execution_count": 21,
   "id": "73717b23-c759-4442-9f36-f65ef9a39b23",
   "metadata": {
    "tags": []
   },
   "outputs": [
    {
     "data": {
      "text/html": [
       "<div>\n",
       "<style scoped>\n",
       "    .dataframe tbody tr th:only-of-type {\n",
       "        vertical-align: middle;\n",
       "    }\n",
       "\n",
       "    .dataframe tbody tr th {\n",
       "        vertical-align: top;\n",
       "    }\n",
       "\n",
       "    .dataframe thead th {\n",
       "        text-align: right;\n",
       "    }\n",
       "</style>\n",
       "<table border=\"1\" class=\"dataframe\">\n",
       "  <thead>\n",
       "    <tr style=\"text-align: right;\">\n",
       "      <th></th>\n",
       "      <th>article_id</th>\n",
       "      <th>cluster_id</th>\n",
       "    </tr>\n",
       "  </thead>\n",
       "  <tbody>\n",
       "    <tr>\n",
       "      <th>0</th>\n",
       "      <td>65139307395f46458f8bcaca</td>\n",
       "      <td>388</td>\n",
       "    </tr>\n",
       "    <tr>\n",
       "      <th>1</th>\n",
       "      <td>6513959e395f46458f8bcf03</td>\n",
       "      <td>386</td>\n",
       "    </tr>\n",
       "    <tr>\n",
       "      <th>2</th>\n",
       "      <td>651389a7395f46458f8bbc32</td>\n",
       "      <td>379</td>\n",
       "    </tr>\n",
       "    <tr>\n",
       "      <th>3</th>\n",
       "      <td>65139abb395f46458f8bd6fc</td>\n",
       "      <td>386</td>\n",
       "    </tr>\n",
       "    <tr>\n",
       "      <th>4</th>\n",
       "      <td>6513a23b395f46458f8becf3</td>\n",
       "      <td>386</td>\n",
       "    </tr>\n",
       "    <tr>\n",
       "      <th>...</th>\n",
       "      <td>...</td>\n",
       "      <td>...</td>\n",
       "    </tr>\n",
       "    <tr>\n",
       "      <th>6995</th>\n",
       "      <td>6513a4aa395f46458f8bf3bd</td>\n",
       "      <td>388</td>\n",
       "    </tr>\n",
       "    <tr>\n",
       "      <th>6996</th>\n",
       "      <td>651394f8395f46458f8bcdd2</td>\n",
       "      <td>388</td>\n",
       "    </tr>\n",
       "    <tr>\n",
       "      <th>6997</th>\n",
       "      <td>65139a9b395f46458f8bd69c</td>\n",
       "      <td>386</td>\n",
       "    </tr>\n",
       "    <tr>\n",
       "      <th>6998</th>\n",
       "      <td>651394a1395f46458f8bcd59</td>\n",
       "      <td>386</td>\n",
       "    </tr>\n",
       "    <tr>\n",
       "      <th>6999</th>\n",
       "      <td>6513a068395f46458f8be798</td>\n",
       "      <td>379</td>\n",
       "    </tr>\n",
       "  </tbody>\n",
       "</table>\n",
       "<p>7000 rows × 2 columns</p>\n",
       "</div>"
      ],
      "text/plain": [
       "                    article_id  cluster_id\n",
       "0     65139307395f46458f8bcaca         388\n",
       "1     6513959e395f46458f8bcf03         386\n",
       "2     651389a7395f46458f8bbc32         379\n",
       "3     65139abb395f46458f8bd6fc         386\n",
       "4     6513a23b395f46458f8becf3         386\n",
       "...                        ...         ...\n",
       "6995  6513a4aa395f46458f8bf3bd         388\n",
       "6996  651394f8395f46458f8bcdd2         388\n",
       "6997  65139a9b395f46458f8bd69c         386\n",
       "6998  651394a1395f46458f8bcd59         386\n",
       "6999  6513a068395f46458f8be798         379\n",
       "\n",
       "[7000 rows x 2 columns]"
      ]
     },
     "execution_count": 21,
     "metadata": {},
     "output_type": "execute_result"
    }
   ],
   "source": [
    "cand"
   ]
  },
  {
   "cell_type": "code",
   "execution_count": null,
   "id": "41258901-bcde-4110-84c1-593fe8104063",
   "metadata": {},
   "outputs": [],
   "source": []
  }
 ],
 "metadata": {
  "kernelspec": {
   "display_name": "recoenv",
   "language": "python",
   "name": "recoenv"
  },
  "language_info": {
   "codemirror_mode": {
    "name": "ipython",
    "version": 3
   },
   "file_extension": ".py",
   "mimetype": "text/x-python",
   "name": "python",
   "nbconvert_exporter": "python",
   "pygments_lexer": "ipython3",
   "version": "3.11.5"
  }
 },
 "nbformat": 4,
 "nbformat_minor": 5
}
