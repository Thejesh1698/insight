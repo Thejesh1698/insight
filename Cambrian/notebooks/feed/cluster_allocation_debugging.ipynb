{
 "cells": [
  {
   "cell_type": "code",
   "execution_count": 1,
   "id": "dd7d9c1c-c848-4e63-9fd9-872621f4da22",
   "metadata": {
    "tags": []
   },
   "outputs": [
    {
     "name": "stderr",
     "output_type": "stream",
     "text": [
      "/var/folders/d4/cgyr_gnj7nn2wy_hq40gkq8c0000gq/T/ipykernel_89800/4032682437.py:4: UserWarning: \n",
      "The version_base parameter is not specified.\n",
      "Please specify a compatability version level, or None.\n",
      "Will assume defaults for version 1.1\n",
      "  with initialize(config_path=\"../../conf\"):\n"
     ]
    }
   ],
   "source": [
    "parent_folder = '/Users/ravi.tej/Desktop/ML/Recommendations/cambrian/'\n",
    "data_folder = parent_folder + 'data/'\n",
    "from hydra import compose, initialize\n",
    "with initialize(config_path=\"../../conf\"):\n",
    "    # Compose the configuration\n",
    "    cfg = compose(config_name=\"TopicClusterMapping.yaml\")\n",
    "\n",
    "import os\n",
    "\n",
    "import xml.etree.ElementTree as ET\n",
    "\n",
    "tree = ET.parse('../../conf/application.run.xml')\n",
    "root = tree.getroot()\n",
    "\n",
    "envs_element = root.find('./configuration/envs')\n",
    "for variable in envs_element.findall('env'):\n",
    "    name = variable.get('name')\n",
    "    value = variable.get('value')\n",
    "    os.environ[name] = value"
   ]
  },
  {
   "cell_type": "code",
   "execution_count": 2,
   "id": "b4f5bcc2-684e-48b2-8f32-d5ff4c934249",
   "metadata": {
    "tags": []
   },
   "outputs": [
    {
     "name": "stderr",
     "output_type": "stream",
     "text": [
      "/Users/ravi.tej/anaconda3/envs/recoenv/lib/python3.11/site-packages/umap/distances.py:1063: NumbaDeprecationWarning: The 'nopython' keyword argument was not supplied to the 'numba.jit' decorator. The implicit default value for this argument is currently False, but it will be changed to True in Numba 0.59.0. See https://numba.readthedocs.io/en/stable/reference/deprecation.html#deprecation-of-object-mode-fall-back-behaviour-when-using-jit for details.\n",
      "  @numba.jit()\n",
      "/Users/ravi.tej/anaconda3/envs/recoenv/lib/python3.11/site-packages/umap/distances.py:1071: NumbaDeprecationWarning: The 'nopython' keyword argument was not supplied to the 'numba.jit' decorator. The implicit default value for this argument is currently False, but it will be changed to True in Numba 0.59.0. See https://numba.readthedocs.io/en/stable/reference/deprecation.html#deprecation-of-object-mode-fall-back-behaviour-when-using-jit for details.\n",
      "  @numba.jit()\n",
      "/Users/ravi.tej/anaconda3/envs/recoenv/lib/python3.11/site-packages/umap/distances.py:1086: NumbaDeprecationWarning: The 'nopython' keyword argument was not supplied to the 'numba.jit' decorator. The implicit default value for this argument is currently False, but it will be changed to True in Numba 0.59.0. See https://numba.readthedocs.io/en/stable/reference/deprecation.html#deprecation-of-object-mode-fall-back-behaviour-when-using-jit for details.\n",
      "  @numba.jit()\n",
      "/Users/ravi.tej/anaconda3/envs/recoenv/lib/python3.11/site-packages/umap/umap_.py:660: NumbaDeprecationWarning: The 'nopython' keyword argument was not supplied to the 'numba.jit' decorator. The implicit default value for this argument is currently False, but it will be changed to True in Numba 0.59.0. See https://numba.readthedocs.io/en/stable/reference/deprecation.html#deprecation-of-object-mode-fall-back-behaviour-when-using-jit for details.\n",
      "  @numba.jit()\n"
     ]
    }
   ],
   "source": [
    "import sys\n",
    "\n",
    "sys.path.append('/Users/ravi.tej/Desktop/ML/Recommendations/cambrian/')\n",
    "\n",
    "from src.clustering.ClustersResetService import ClustersResetService\n",
    "from src.clustering.ClusterAssignmentService import ClusterAssignmentService\n",
    "from sql.clustering.ClusteringSQL import ClusteringSQL\n",
    "from src.onboarding.TopicClusterMapping import TopicClusterMapping"
   ]
  },
  {
   "cell_type": "code",
   "execution_count": 3,
   "id": "e06933fa-6b67-4927-85cf-313303a50b12",
   "metadata": {
    "tags": []
   },
   "outputs": [],
   "source": [
    "tc = TopicClusterMapping(cfg = cfg)"
   ]
  },
  {
   "cell_type": "code",
   "execution_count": 4,
   "id": "4a757474-a0da-4adb-83b5-8b6cdf025dc0",
   "metadata": {
    "tags": []
   },
   "outputs": [],
   "source": [
    "from src.onboarding.TopicClusterMapping import topics"
   ]
  },
  {
   "cell_type": "code",
   "execution_count": 10,
   "id": "b427a292-e979-4011-abc7-48e57a9567bc",
   "metadata": {
    "tags": []
   },
   "outputs": [],
   "source": [
    "pref = tc.get_merged_cluster_preferences_for_topic_list([1,4,9])"
   ]
  },
  {
   "cell_type": "code",
   "execution_count": 14,
   "id": "5d761d5f-ccc2-46e1-bd0a-4922e5eab785",
   "metadata": {
    "tags": []
   },
   "outputs": [],
   "source": [
    "cluster_names = ClusteringSQL.get_cluster_names()"
   ]
  },
  {
   "cell_type": "code",
   "execution_count": 26,
   "id": "84a890f7-90bb-4095-b8ee-61e4a1198345",
   "metadata": {
    "tags": []
   },
   "outputs": [],
   "source": [
    "def get_named_preferences(cluster_pref):\n",
    "    named_pref = {}\n",
    "    for cluster in cluster_pref.keys():\n",
    "        named_pref[cluster_names[cluster]] = cluster_pref[cluster]\n",
    "    return {k: v for k, v in sorted(named_pref.items(), key=lambda item: item[1]['a'], reverse=True)}"
   ]
  },
  {
   "cell_type": "code",
   "execution_count": 27,
   "id": "dadecd2f-376f-468a-b0f5-55eaf21915a6",
   "metadata": {
    "scrolled": true,
    "tags": []
   },
   "outputs": [
    {
     "data": {
      "text/plain": [
       "{'insurance_credit_mutual_best_funds': {'a': 4.508049387315786, 'b': 3.0},\n",
       " 'tax_gst_income_income tax_section': {'a': 3.6556538850319047, 'b': 3.0},\n",
       " 'gold_rate_crude_dollar_oil': {'a': 2.6596073188967884, 'b': 3.0},\n",
       " 'adani_stocks_dividend_adani group_crore': {'a': 2.5180452491321588,\n",
       "  'b': 3.0},\n",
       " 'campaign_brand_film_codes_redeem': {'a': 2.4834398678071796, 'b': 3.0},\n",
       " 'pension_epfo_nps_higher pension_provident': {'a': 2.2219193309126686,\n",
       "  'b': 3.0},\n",
       " 'ai_chatgpt_openai_chatbot_generative': {'a': 2.1568351681230693, 'b': 3.0},\n",
       " 'hydrogen_green_solar_green hydrogen_energy': {'a': 1.645121157169342,\n",
       "  'b': 3.0},\n",
       " 'real estate_estate_real_housing_residential': {'a': 1.506804796445783,\n",
       "  'b': 3.0},\n",
       " 'crypto_msmes_sebi_covid_bitcoin': {'a': 1.4468151879127489, 'b': 3.0},\n",
       " 'maruti_suzuki_maruti suzuki_electric_ev': {'a': 1.4139425189837138,\n",
       "  'b': 3.0},\n",
       " 'air_pakistan_ukraine_russia_aircraft': {'a': 1.0, 'b': 3.0},\n",
       " 'stock_stock price_closed_price_share': {'a': 1.0, 'b': 3.0},\n",
       " 'nifty_sensex_share market_pts_bank nifty': {'a': 1.0, 'b': 3.0},\n",
       " 'bjp_modi_trump_pawar_congress': {'a': 1.0, 'b': 3.0},\n",
       " 'vande_train_vande bharat_rainfall_imd': {'a': 1.0, 'b': 3.0},\n",
       " 'visa_visas_immigration_1b_canada': {'a': 1.0, 'b': 3.0},\n",
       " 'ipo_gmp_issue_subscribed_subscription': {'a': 1.0, 'b': 3.0},\n",
       " 'student_student loan_loan_programs_forgiveness': {'a': 1.0, 'b': 3.0},\n",
       " 'apple_5g_twitter_oneplus_whatsapp': {'a': 1.0, 'b': 3.0},\n",
       " 'ipl_ipl 2023_match_vs_runs': {'a': 1.0, 'b': 3.0},\n",
       " 'insolvency_nclt_zee_rcap_resolution': {'a': 1.0, 'b': 3.0}}"
      ]
     },
     "execution_count": 27,
     "metadata": {},
     "output_type": "execute_result"
    }
   ],
   "source": [
    "get_named_preferences(pref)"
   ]
  },
  {
   "cell_type": "code",
   "execution_count": 5,
   "id": "a3f36fbf-2464-4f4f-a938-c6a8187ce7a6",
   "metadata": {
    "tags": []
   },
   "outputs": [],
   "source": [
    "from src.feed.ClusterSelectionService import ClusterSelectionService"
   ]
  },
  {
   "cell_type": "code",
   "execution_count": 8,
   "id": "b3486531-bf8f-434c-a2ae-a77d5818b21d",
   "metadata": {
    "tags": []
   },
   "outputs": [],
   "source": [
    "cs = ClusterSelectionService(topicClusterMapping=tc)"
   ]
  },
  {
   "cell_type": "code",
   "execution_count": 12,
   "id": "dff0a9e2-6f43-4c86-be1f-28389ca05a98",
   "metadata": {
    "tags": []
   },
   "outputs": [
    {
     "data": {
      "text/plain": [
       "{None: {'a': 0.0, 'b': 0.9523809523809523}}"
      ]
     },
     "execution_count": 12,
     "metadata": {},
     "output_type": "execute_result"
    }
   ],
   "source": [
    "cs.get_implicit_user_preferences(user_id=1)"
   ]
  },
  {
   "cell_type": "code",
   "execution_count": 10,
   "id": "261d573d-0c02-4f6c-adb7-ea97c092dad6",
   "metadata": {
    "tags": []
   },
   "outputs": [
    {
     "data": {
      "text/plain": [
       "{193: {'a': 1.0, 'b': 3.0},\n",
       " 194: {'a': 5.0, 'b': 3.0},\n",
       " 161: {'a': 1.443079505501669, 'b': 3.0},\n",
       " 196: {'a': 1.0, 'b': 3.0},\n",
       " 201: {'a': 1.0, 'b': 3.0},\n",
       " 203: {'a': 2.703632672948059, 'b': 3.0},\n",
       " 108: {'a': 1.0, 'b': 3.0},\n",
       " 205: {'a': 1.4140553765159876, 'b': 3.0},\n",
       " 176: {'a': 1.0, 'b': 3.0},\n",
       " 146: {'a': 1.37490355484569, 'b': 3.0},\n",
       " 180: {'a': 1.0, 'b': 3.0},\n",
       " 185: {'a': 1.0, 'b': 3.0},\n",
       " 188: {'a': 1.0, 'b': 3.0},\n",
       " 191: {'a': 5.0, 'b': 3.0},\n",
       " None: {'a': 0.0, 'b': 0.9523809523809523}}"
      ]
     },
     "execution_count": 10,
     "metadata": {},
     "output_type": "execute_result"
    }
   ],
   "source": [
    "cs.get_overall_user_preferences(user_id = 1, topic_id_list= [1,35,45])"
   ]
  },
  {
   "cell_type": "code",
   "execution_count": null,
   "id": "fdf72a53-3b13-4a81-9c2d-ffa4d07a900b",
   "metadata": {},
   "outputs": [],
   "source": []
  },
  {
   "cell_type": "code",
   "execution_count": 63,
   "id": "c8fbb658-b50e-4c29-a04c-75ad4fdc73ab",
   "metadata": {
    "tags": []
   },
   "outputs": [],
   "source": [
    "v = cs.allot_articles_per_cluster(cluster_preferences=pref,feed_article_count=20,mins_since_last_api=1000)"
   ]
  },
  {
   "cell_type": "code",
   "execution_count": 64,
   "id": "e36d57ce-3a0e-4a5c-b0ef-b5c13dfc4da2",
   "metadata": {
    "tags": []
   },
   "outputs": [
    {
     "data": {
      "text/plain": [
       "{421: 3,\n",
       " 531: 3,\n",
       " 511: 3,\n",
       " 472: 3,\n",
       " 297: 2,\n",
       " 312: 2,\n",
       " 488: 1,\n",
       " 392: 1,\n",
       " 540: 1,\n",
       " 537: 0}"
      ]
     },
     "execution_count": 64,
     "metadata": {},
     "output_type": "execute_result"
    }
   ],
   "source": [
    "v"
   ]
  },
  {
   "cell_type": "code",
   "execution_count": 34,
   "id": "f195763e-44d2-465e-aa12-4513d0d48f7c",
   "metadata": {
    "tags": []
   },
   "outputs": [
    {
     "data": {
      "text/plain": [
       "21"
      ]
     },
     "execution_count": 34,
     "metadata": {},
     "output_type": "execute_result"
    }
   ],
   "source": [
    "sum(v.values())"
   ]
  },
  {
   "cell_type": "code",
   "execution_count": null,
   "id": "c72a7100-0553-44f5-a84f-95429647e1d5",
   "metadata": {},
   "outputs": [],
   "source": []
  }
 ],
 "metadata": {
  "kernelspec": {
   "display_name": "recoenv",
   "language": "python",
   "name": "recoenv"
  },
  "language_info": {
   "codemirror_mode": {
    "name": "ipython",
    "version": 3
   },
   "file_extension": ".py",
   "mimetype": "text/x-python",
   "name": "python",
   "nbconvert_exporter": "python",
   "pygments_lexer": "ipython3",
   "version": "3.11.5"
  }
 },
 "nbformat": 4,
 "nbformat_minor": 5
}
