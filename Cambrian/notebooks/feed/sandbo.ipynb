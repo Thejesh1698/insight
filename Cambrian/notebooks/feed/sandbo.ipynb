{
 "cells": [
  {
   "cell_type": "code",
   "execution_count": 10,
   "id": "7c7615f5-517f-4fa7-8257-b6725e6dfa1f",
   "metadata": {
    "tags": []
   },
   "outputs": [],
   "source": [
    "l1 = list(range(10000))"
   ]
  },
  {
   "cell_type": "code",
   "execution_count": 11,
   "id": "b39d3c8c-2940-4e66-b81e-5d49a67a8e9e",
   "metadata": {
    "tags": []
   },
   "outputs": [],
   "source": [
    "l2 = list(range(0,10000,2))"
   ]
  },
  {
   "cell_type": "code",
   "execution_count": 12,
   "id": "3b1d1da2-da53-4119-8dbe-241c456fa18e",
   "metadata": {
    "tags": []
   },
   "outputs": [
    {
     "data": {
      "text/plain": [
       "5000"
      ]
     },
     "execution_count": 12,
     "metadata": {},
     "output_type": "execute_result"
    }
   ],
   "source": [
    "len(l2)"
   ]
  },
  {
   "cell_type": "code",
   "execution_count": 13,
   "id": "acb12c69-bef1-4709-bc9b-5105f71ce8d8",
   "metadata": {
    "tags": []
   },
   "outputs": [
    {
     "name": "stdout",
     "output_type": "stream",
     "text": [
      "276 µs ± 11.1 µs per loop (mean ± std. dev. of 7 runs, 1,000 loops each)\n"
     ]
    }
   ],
   "source": [
    "%timeit list(set(l1) - set(l2))"
   ]
  },
  {
   "cell_type": "code",
   "execution_count": 14,
   "id": "b91d597f-30e1-4213-8d09-13ad32837d28",
   "metadata": {
    "tags": []
   },
   "outputs": [
    {
     "name": "stdout",
     "output_type": "stream",
     "text": [
      "157 ms ± 1.39 ms per loop (mean ± std. dev. of 7 runs, 10 loops each)\n"
     ]
    }
   ],
   "source": [
    "%timeit [x for x in l1 if x not in l2]"
   ]
  },
  {
   "cell_type": "code",
   "execution_count": null,
   "id": "94fbf3ed-530c-4911-b179-b71b95d68008",
   "metadata": {},
   "outputs": [],
   "source": []
  }
 ],
 "metadata": {
  "kernelspec": {
   "display_name": "recoenv",
   "language": "python",
   "name": "recoenv"
  },
  "language_info": {
   "codemirror_mode": {
    "name": "ipython",
    "version": 3
   },
   "file_extension": ".py",
   "mimetype": "text/x-python",
   "name": "python",
   "nbconvert_exporter": "python",
   "pygments_lexer": "ipython3",
   "version": "3.11.5"
  }
 },
 "nbformat": 4,
 "nbformat_minor": 5
}
