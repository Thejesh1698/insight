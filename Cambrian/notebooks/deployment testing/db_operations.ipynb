{
 "cells": [
  {
   "cell_type": "code",
   "execution_count": 1,
   "id": "00ac251b-0a9f-4262-b570-0d2c1aa0f88e",
   "metadata": {
    "tags": []
   },
   "outputs": [],
   "source": [
    "import psycopg2\n",
    "from datetime import datetime\n",
    "import pandas as pd\n",
    "import sys\n",
    "sys.path.append('/Users/ravi.tej/Desktop/ML/Recommendations/cambrian/')\n",
    "from sql.DatabaseConnection import DatabaseConnection\n",
    "\n",
    "import psycopg2.extensions\n",
    "from decimal import Decimal"
   ]
  },
  {
   "cell_type": "code",
   "execution_count": 2,
   "id": "328d11d5-eeca-496e-b72c-8e330e8cdf2a",
   "metadata": {
    "tags": []
   },
   "outputs": [],
   "source": [
    "db = DatabaseConnection()._instance.connection"
   ]
  },
  {
   "cell_type": "code",
   "execution_count": 3,
   "id": "bc8df9f0-1f76-4678-bf91-2aa0a4608ffb",
   "metadata": {
    "tags": []
   },
   "outputs": [],
   "source": [
    "cursor = db.cursor()"
   ]
  },
  {
   "cell_type": "code",
   "execution_count": 6,
   "id": "29a3d390-2cb5-4f71-bd74-a67a8da5372b",
   "metadata": {
    "tags": []
   },
   "outputs": [],
   "source": [
    "\n",
    "\n",
    "# Create a new type caster for Decimal type to float\n",
    "def cast_decimal(value, cur):\n",
    "    if value is None:\n",
    "        return None\n",
    "    return float(value)\n",
    "\n",
    "FLOAT = psycopg2.extensions.new_type(psycopg2.extensions.DECIMAL.values, 'FLOAT', cast_decimal)\n",
    "psycopg2.extensions.register_type(FLOAT)"
   ]
  },
  {
   "cell_type": "code",
   "execution_count": 7,
   "id": "408e6e5c-c567-4004-9a97-1c50e4669ac8",
   "metadata": {
    "tags": []
   },
   "outputs": [],
   "source": [
    "query = \"SELECT * FROM embeddings\"\n",
    "cursor.execute(query)"
   ]
  },
  {
   "cell_type": "code",
   "execution_count": 8,
   "id": "07b2f401-fb11-4b03-a32f-eee758c4194b",
   "metadata": {
    "tags": []
   },
   "outputs": [],
   "source": [
    "column_names = [desc[0] for desc in cursor.description]  # Extract column names from the cursor description\n",
    "records = cursor.fetchall()"
   ]
  },
  {
   "cell_type": "code",
   "execution_count": 9,
   "id": "8195b43f-caff-4e4b-a05a-b058440dd2f6",
   "metadata": {
    "tags": []
   },
   "outputs": [],
   "source": [
    "df = pd.DataFrame(records, columns=column_names)"
   ]
  },
  {
   "cell_type": "code",
   "execution_count": 19,
   "id": "8dbd3ea7-c8e2-4197-a607-70d0bb37d73c",
   "metadata": {
    "tags": []
   },
   "outputs": [],
   "source": [
    "cursor.close()"
   ]
  },
  {
   "cell_type": "code",
   "execution_count": 20,
   "id": "1a76b84c-d38f-4444-9dce-459db6298a8a",
   "metadata": {
    "tags": []
   },
   "outputs": [],
   "source": [
    "e = df.iloc[1]['embedding']"
   ]
  },
  {
   "cell_type": "code",
   "execution_count": 22,
   "id": "b1238219-b093-43b8-9640-2f451c4c59ca",
   "metadata": {
    "tags": []
   },
   "outputs": [
    {
     "name": "stdout",
     "output_type": "stream",
     "text": [
      "74 µs ± 1.73 µs per loop (mean ± std. dev. of 7 runs, 10,000 loops each)\n"
     ]
    }
   ],
   "source": [
    "%timeit [float(x) for x in e]"
   ]
  },
  {
   "cell_type": "code",
   "execution_count": 17,
   "id": "3583473b-eea5-405f-bbbb-e4dd0ca230bf",
   "metadata": {
    "tags": []
   },
   "outputs": [
    {
     "data": {
      "text/plain": [
       "-0.04299594461917877"
      ]
     },
     "execution_count": 17,
     "metadata": {},
     "output_type": "execute_result"
    }
   ],
   "source": [
    "float(df.iloc[1]['embedding'][0])"
   ]
  },
  {
   "cell_type": "code",
   "execution_count": null,
   "id": "047937f8-38e8-4b6f-8061-aff7caf92c3d",
   "metadata": {},
   "outputs": [],
   "source": []
  }
 ],
 "metadata": {
  "kernelspec": {
   "display_name": "recoenv",
   "language": "python",
   "name": "recoenv"
  },
  "language_info": {
   "codemirror_mode": {
    "name": "ipython",
    "version": 3
   },
   "file_extension": ".py",
   "mimetype": "text/x-python",
   "name": "python",
   "nbconvert_exporter": "python",
   "pygments_lexer": "ipython3",
   "version": "3.11.5"
  }
 },
 "nbformat": 4,
 "nbformat_minor": 5
}
