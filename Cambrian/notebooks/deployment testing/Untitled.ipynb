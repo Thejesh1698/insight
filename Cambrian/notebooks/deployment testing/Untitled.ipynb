{
 "cells": [
  {
   "cell_type": "code",
   "execution_count": 2,
   "id": "803ca37a-03af-4f55-a527-0d137f4261ff",
   "metadata": {
    "tags": []
   },
   "outputs": [],
   "source": [
    "import urllib3"
   ]
  },
  {
   "cell_type": "code",
   "execution_count": 16,
   "id": "6c8c27fe-8dee-43cc-b805-d216a79e35d6",
   "metadata": {
    "tags": []
   },
   "outputs": [],
   "source": [
    "url = 'http://65.0.67.16:8000/assign_cluster'\n",
    "http = urllib3.PoolManager()"
   ]
  },
  {
   "cell_type": "code",
   "execution_count": 17,
   "id": "b366a904-f778-48aa-a752-b6aef3194b4a",
   "metadata": {
    "tags": []
   },
   "outputs": [],
   "source": [
    "json_message = {'articleId': '6520c9ddcd871c6ac1cddffd'}"
   ]
  },
  {
   "cell_type": "code",
   "execution_count": 13,
   "id": "fed33318-269c-425d-bc82-571555003834",
   "metadata": {
    "tags": []
   },
   "outputs": [],
   "source": [
    "import json"
   ]
  },
  {
   "cell_type": "code",
   "execution_count": 21,
   "id": "c3d19070-c87e-47a8-ab4c-afda2488065b",
   "metadata": {
    "tags": []
   },
   "outputs": [],
   "source": [
    "r = http.request('POST', url,\n",
    "             headers={'Content-Type': 'application/json'},\n",
    "             body=json.dumps(json_message))"
   ]
  },
  {
   "cell_type": "code",
   "execution_count": 22,
   "id": "29f74703-ff5e-4f17-815e-6db87acab15f",
   "metadata": {
    "tags": []
   },
   "outputs": [
    {
     "data": {
      "text/plain": [
       "b'cluster successfully assigned for articleId 6520c9ddcd871c6ac1cddffd'"
      ]
     },
     "execution_count": 22,
     "metadata": {},
     "output_type": "execute_result"
    }
   ],
   "source": [
    "r.data"
   ]
  },
  {
   "cell_type": "code",
   "execution_count": null,
   "id": "e08e7e65-7e7d-48d9-b26c-f649287342f6",
   "metadata": {},
   "outputs": [],
   "source": []
  }
 ],
 "metadata": {
  "kernelspec": {
   "display_name": "recoenv",
   "language": "python",
   "name": "recoenv"
  },
  "language_info": {
   "codemirror_mode": {
    "name": "ipython",
    "version": 3
   },
   "file_extension": ".py",
   "mimetype": "text/x-python",
   "name": "python",
   "nbconvert_exporter": "python",
   "pygments_lexer": "ipython3",
   "version": "3.11.5"
  }
 },
 "nbformat": 4,
 "nbformat_minor": 5
}
