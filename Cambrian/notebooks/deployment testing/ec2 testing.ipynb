{
 "cells": [
  {
   "cell_type": "code",
   "execution_count": 1,
   "id": "5e1ff83e-499a-456b-9125-79a8cb3db3c9",
   "metadata": {
    "tags": []
   },
   "outputs": [],
   "source": [
    "import requests\n",
    "\n",
    "import json"
   ]
  },
  {
   "cell_type": "code",
   "execution_count": 5,
   "id": "3a877640-d176-4fe1-859c-944a138486bc",
   "metadata": {
    "scrolled": true,
    "tags": []
   },
   "outputs": [],
   "source": [
    "# %timeit requests.post('http://65.0.67.16:8000/articles/651dacc4701055199ecf995e/embedding')"
   ]
  },
  {
   "cell_type": "code",
   "execution_count": 8,
   "id": "5ca22c46-000d-4940-8c75-f853c12ec990",
   "metadata": {
    "tags": []
   },
   "outputs": [],
   "source": [
    "# res1 = requests.post('http://cambrian-env.eba-6q38ki2s.ap-south-1.elasticbeanstalk.com:5000/articles/6513a771395f46458f8bfb8b/embedding')"
   ]
  },
  {
   "cell_type": "code",
   "execution_count": 24,
   "id": "5f189fdc-23cb-4592-a875-5a9a0dea9e9e",
   "metadata": {
    "tags": []
   },
   "outputs": [],
   "source": [
    "url3 = 'http://Cambrian-env.eba-enjrtube.ap-south-1.elasticbeanstalk.com'"
   ]
  },
  {
   "cell_type": "code",
   "execution_count": 2,
   "id": "65326033-0742-4698-8292-067a29e67926",
   "metadata": {
    "tags": []
   },
   "outputs": [],
   "source": [
    "url = \"http://65.0.67.16:8000/\""
   ]
  },
  {
   "cell_type": "code",
   "execution_count": 13,
   "id": "e8d703f7-30e7-4f4e-b76b-6978e6ebfe81",
   "metadata": {
    "tags": []
   },
   "outputs": [],
   "source": [
    "url2 = 'https://8f90-2405-201-d008-8cd0-411e-eaaf-742e-1a84.ngrok.io/'"
   ]
  },
  {
   "cell_type": "code",
   "execution_count": 7,
   "id": "dd56c373-db93-4771-8b45-034ae9a2e3be",
   "metadata": {
    "tags": []
   },
   "outputs": [],
   "source": [
    "# url2 = \"http://cambrian-env.eba-enjrtube.ap-south-1.elasticbeanstalk.com:8000/\""
   ]
  },
  {
   "cell_type": "code",
   "execution_count": 4,
   "id": "d1e6940f-2b6d-47b1-94ec-2098cb1129b6",
   "metadata": {
    "tags": []
   },
   "outputs": [],
   "source": [
    "# topic_dict = {1: 'Investing Basics', 2: 'Personal Finance', 3: 'Taxation', 4: 'Retirement Goals', 5: 'Insurance', 6: 'Credit Health', 7: 'Real Estate Guide', 8: 'Tech & Startups',\n",
    "#           9: 'Industry Highlights', 10: 'Green Investing', 11: 'Study & Education Loans', 12: 'Trade & Global Markets', 13: 'Travel & Lifestyle',\n",
    "#           14: 'Precious Metals & Commodities', 15: 'Small Business Strategies', 16: 'Banking & New Offers', 17: 'Government Benefits', 18: 'Forex & Currency', 19: 'IPOs, M&As',\n",
    "#           20: 'Global Economy',\n",
    "#           101: 'Politics', 102: 'Economy', 103: 'Technology', 104: 'Environment', 105: 'Health',\n",
    "#           106: 'Education', 107: 'Sports', 108: 'Entertainment', 109: 'Legal', 110: 'Culture'}"
   ]
  },
  {
   "cell_type": "code",
   "execution_count": 9,
   "id": "d036aede-6f22-4558-b129-5ceed0a273fb",
   "metadata": {
    "tags": []
   },
   "outputs": [],
   "source": [
    "# topic_dict = {101: 'indian politics', 102: 'Finance', 103: 'Technology and startups', 104: 'Elections', 105: 'US Politics',\n",
    "#           106: 'Shopping and best products', 107: 'China news', 108: 'Bollywood', 109: 'chatgpt and ai', 110: 'Hollywood'}"
   ]
  },
  {
   "cell_type": "code",
   "execution_count": 10,
   "id": "d256630f-396f-457d-87da-2dad6ffff54b",
   "metadata": {
    "tags": []
   },
   "outputs": [],
   "source": [
    "# [topic_dict[x] for x in topics]"
   ]
  },
  {
   "cell_type": "code",
   "execution_count": 6,
   "id": "d955614c-5c6c-4934-9918-24ba7e254517",
   "metadata": {
    "tags": []
   },
   "outputs": [],
   "source": [
    "data_folder = '../../data/articles/'"
   ]
  },
  {
   "cell_type": "code",
   "execution_count": 7,
   "id": "ce7455d2-4db3-419d-a55a-36907206275d",
   "metadata": {
    "tags": []
   },
   "outputs": [],
   "source": [
    "def get_article(article_id):\n",
    "    with open(data_folder + article_id + '.json', 'r') as f:\n",
    "        content = json.load(f)\n",
    "    return content['title']"
   ]
  },
  {
   "cell_type": "code",
   "execution_count": 4,
   "id": "ae3b918b-d1ef-4512-af33-83b5e4f60c15",
   "metadata": {
    "tags": []
   },
   "outputs": [],
   "source": [
    "topics = [12]"
   ]
  },
  {
   "cell_type": "code",
   "execution_count": 5,
   "id": "54e20e71-bb94-485b-bda4-ff83838b94f8",
   "metadata": {
    "tags": []
   },
   "outputs": [],
   "source": [
    "import json"
   ]
  },
  {
   "cell_type": "code",
   "execution_count": 27,
   "id": "b4137177-7cc6-4352-95f2-1169a53dd583",
   "metadata": {
    "tags": []
   },
   "outputs": [],
   "source": [
    "r = requests.get(url3 + '/ping')"
   ]
  },
  {
   "cell_type": "code",
   "execution_count": 28,
   "id": "15fe8bc9-5687-4c17-a347-65989f093d6b",
   "metadata": {
    "tags": []
   },
   "outputs": [
    {
     "data": {
      "text/plain": [
       "'{\"status\":\"ok\"}\\n'"
      ]
     },
     "execution_count": 28,
     "metadata": {},
     "output_type": "execute_result"
    }
   ],
   "source": [
    "r.text"
   ]
  },
  {
   "cell_type": "code",
   "execution_count": 23,
   "id": "88fbc81f-7720-4786-8974-e37cd4bdaead",
   "metadata": {
    "tags": []
   },
   "outputs": [
    {
     "data": {
      "text/plain": [
       "'https://Cambrian-env.eba-enjrtube.ap-south-1.elasticbeanstalk.com'"
      ]
     },
     "execution_count": 23,
     "metadata": {},
     "output_type": "execute_result"
    }
   ],
   "source": [
    "url3"
   ]
  },
  {
   "cell_type": "code",
   "execution_count": 31,
   "id": "0858db89-bb46-414e-bb02-ff35422a428c",
   "metadata": {
    "scrolled": true,
    "tags": []
   },
   "outputs": [],
   "source": [
    "feed = requests.post(url3 + '/get_feed', json = {'user_id': 12, 'topic_ids': topics, 'feed_article_count': 20, 'seconds_since_last_api_call': 0, 'current_feed_session_article_ids': []})\n",
    "\n",
    "feed_json = json.loads(feed.text)\n",
    "\n",
    "# [get_article(x['article_id']) for x in feed_json['feedArticles']]"
   ]
  },
  {
   "cell_type": "code",
   "execution_count": 32,
   "id": "b9b99d41-a8f6-48f7-9177-40c1f24b6668",
   "metadata": {
    "scrolled": true,
    "tags": []
   },
   "outputs": [
    {
     "data": {
      "text/plain": [
       "{'additionalInfo': {'652fc2ab1e5cc42b1b139e6f': {'article_a': 1.0,\n",
       "   'article_b': 10.055,\n",
       "   'cluster': 'gst_tax_pli_gst council_dpiit',\n",
       "   'cluster_id': 181.0,\n",
       "   'explicit_a': 1.0,\n",
       "   'explicit_b': 3.0,\n",
       "   'implicit_a': 0,\n",
       "   'implicit_b': 0,\n",
       "   'sample_probability': 0.507,\n",
       "   'storyline': 'gst_tax_gst council_evasion_council'},\n",
       "  '652fcfa71e5cc42b1b13a354': {'article_a': 1.0,\n",
       "   'article_b': 10.0,\n",
       "   'cluster': 'projects_cr_fpis_rs_equities',\n",
       "   'cluster_id': 183.0,\n",
       "   'explicit_a': 2.278,\n",
       "   'explicit_b': 3.0,\n",
       "   'implicit_a': 0,\n",
       "   'implicit_b': 0,\n",
       "   'sample_probability': 0.478,\n",
       "   'storyline': 'housing_estate_real estate_real_properties'},\n",
       "  '652fcfa91e5cc42b1b13a355': {'article_a': 1.0,\n",
       "   'article_b': 10.0,\n",
       "   'cluster': 'projects_cr_fpis_rs_equities',\n",
       "   'cluster_id': 183.0,\n",
       "   'explicit_a': 2.278,\n",
       "   'explicit_b': 3.0,\n",
       "   'implicit_a': 0,\n",
       "   'implicit_b': 0,\n",
       "   'sample_probability': 0.485,\n",
       "   'storyline': 'housing_estate_real estate_real_properties'},\n",
       "  '653168fb1e5cc42b1b13c6c9': {'article_a': 1.0,\n",
       "   'article_b': 10.0,\n",
       "   'cluster': 'inflation_growth_rate_fed_fy24',\n",
       "   'cluster_id': 206.0,\n",
       "   'explicit_a': 1.658,\n",
       "   'explicit_b': 3.0,\n",
       "   'implicit_a': 0,\n",
       "   'implicit_b': 0,\n",
       "   'sample_probability': 0.537,\n",
       "   'storyline': 'nestle_growing_fastest growing_india fastest_beer'},\n",
       "  '653168fe1e5cc42b1b13c7dc': {'article_a': 1.0,\n",
       "   'article_b': 10.0,\n",
       "   'cluster': 'vande_vande bharat_train_railway_bharat',\n",
       "   'cluster_id': 186.0,\n",
       "   'explicit_a': 1.0,\n",
       "   'explicit_b': 3.0,\n",
       "   'implicit_a': 0,\n",
       "   'implicit_b': 0,\n",
       "   'sample_probability': 0.213,\n",
       "   'storyline': 'bullet train_bullet_train project_project_rail'},\n",
       "  '653169061e5cc42b1b13c9fc': {'article_a': 1.0,\n",
       "   'article_b': 10.0,\n",
       "   'cluster': 'crypto_target price_price rs_bitcoin_buy',\n",
       "   'cluster_id': 191.0,\n",
       "   'explicit_a': 1.662,\n",
       "   'explicit_b': 3.0,\n",
       "   'implicit_a': 0,\n",
       "   'implicit_b': 0,\n",
       "   'sample_probability': 0.569,\n",
       "   'storyline': 'crypto_bitcoin_ethereum_coin_everlodge'},\n",
       "  '653169ca1e5cc42b1b13da7f': {'article_a': 1.0,\n",
       "   'article_b': 10.0,\n",
       "   'cluster': 'vande_vande bharat_train_railway_bharat',\n",
       "   'cluster_id': 186.0,\n",
       "   'explicit_a': 1.0,\n",
       "   'explicit_b': 3.0,\n",
       "   'implicit_a': 0,\n",
       "   'implicit_b': 0,\n",
       "   'sample_probability': 0.289,\n",
       "   'storyline': 'dmrc_metro_delhi metro_line_delhi'},\n",
       "  '65316a871e5cc42b1b13dcd0': {'article_a': 1.0,\n",
       "   'article_b': 10.0,\n",
       "   'cluster': 'coal_steel_mt_coal india_tata steel',\n",
       "   'cluster_id': 213.0,\n",
       "   'explicit_a': 1.0,\n",
       "   'explicit_b': 3.0,\n",
       "   'implicit_a': 0,\n",
       "   'implicit_b': 0,\n",
       "   'sample_probability': 0.449,\n",
       "   'storyline': 'coal_mt_coal india_coal production_india coal'},\n",
       "  '65316f071e5cc42b1b13ecc6': {'article_a': 1.0,\n",
       "   'article_b': 10.0,\n",
       "   'cluster': 'coal_steel_mt_coal india_tata steel',\n",
       "   'cluster_id': 213.0,\n",
       "   'explicit_a': 1.0,\n",
       "   'explicit_b': 3.0,\n",
       "   'implicit_a': 0,\n",
       "   'implicit_b': 0,\n",
       "   'sample_probability': 0.541,\n",
       "   'storyline': 'coal_mt_coal india_coal production_india coal'},\n",
       "  '65316f1c1e5cc42b1b13efba': {'article_a': 1.0,\n",
       "   'article_b': 10.0,\n",
       "   'cluster': 'stocks_52 week_52_week_nifty',\n",
       "   'cluster_id': 173.0,\n",
       "   'explicit_a': 1.435,\n",
       "   'explicit_b': 3.0,\n",
       "   'implicit_a': 0,\n",
       "   'implicit_b': 0,\n",
       "   'sample_probability': 0.513,\n",
       "   'storyline': '52 week_52_week_stocks_stocks hit'},\n",
       "  '65316f231e5cc42b1b13f0d1': {'article_a': 1.0,\n",
       "   'article_b': 10.0,\n",
       "   'cluster': 'irdai_life_insurance_insurers_lic',\n",
       "   'cluster_id': 126.0,\n",
       "   'explicit_a': 1.567,\n",
       "   'explicit_b': 3.0,\n",
       "   'implicit_a': 0,\n",
       "   'implicit_b': 0,\n",
       "   'sample_probability': 0.485,\n",
       "   'storyline': 'lic_insurance_life_general_insurers'},\n",
       "  '65316f571e5cc42b1b13fa65': {'article_a': 1.0,\n",
       "   'article_b': 10.0,\n",
       "   'cluster': 'irdai_life_insurance_insurers_lic',\n",
       "   'cluster_id': 126.0,\n",
       "   'explicit_a': 1.567,\n",
       "   'explicit_b': 3.0,\n",
       "   'implicit_a': 0,\n",
       "   'implicit_b': 0,\n",
       "   'sample_probability': 0.445,\n",
       "   'storyline': 'lic_insurance_life_general_insurers'},\n",
       "  '65316f5c1e5cc42b1b13fb84': {'article_a': 1.0,\n",
       "   'article_b': 10.0,\n",
       "   'cluster': 'firms_mcap_valued_valued firms_10 valued',\n",
       "   'cluster_id': 121.0,\n",
       "   'explicit_a': 1.0,\n",
       "   'explicit_b': 3.0,\n",
       "   'implicit_a': 0,\n",
       "   'implicit_b': 0,\n",
       "   'sample_probability': 0.543,\n",
       "   'storyline': 'listed firms_bse listed_bse_listed_high rs'},\n",
       "  '65316fa91e5cc42b1b140fbc': {'article_a': 1.0,\n",
       "   'article_b': 10.0,\n",
       "   'cluster': 'stocks_52 week_52_week_nifty',\n",
       "   'cluster_id': 173.0,\n",
       "   'explicit_a': 1.435,\n",
       "   'explicit_b': 3.0,\n",
       "   'implicit_a': 0,\n",
       "   'implicit_b': 0,\n",
       "   'sample_probability': 0.588,\n",
       "   'storyline': 'rsi_nifty_stocks_stocks rsi_10 stocks'},\n",
       "  '65316fbb1e5cc42b1b1415cd': {'article_a': 1.0,\n",
       "   'article_b': 10.0,\n",
       "   'cluster': 'stocks_52 week_52_week_nifty',\n",
       "   'cluster_id': 173.0,\n",
       "   'explicit_a': 1.435,\n",
       "   'explicit_b': 3.0,\n",
       "   'implicit_a': 0,\n",
       "   'implicit_b': 0,\n",
       "   'sample_probability': 0.531,\n",
       "   'storyline': 'rsi_nifty_stocks_stocks rsi_10 stocks'},\n",
       "  '65316fe61e5cc42b1b14260c': {'article_a': 1.0,\n",
       "   'article_b': 10.0,\n",
       "   'cluster': 'ipo_adani_papers_papers sebi_power',\n",
       "   'cluster_id': 192.0,\n",
       "   'explicit_a': 1.484,\n",
       "   'explicit_b': 3.0,\n",
       "   'implicit_a': 0,\n",
       "   'implicit_b': 0,\n",
       "   'sample_probability': 0.647,\n",
       "   'storyline': 'ipo_papers_papers sebi_files_sebi'},\n",
       "  '65316ff51e5cc42b1b142c42': {'article_a': 1.0,\n",
       "   'article_b': 10.0,\n",
       "   'cluster': 'ipo_adani_papers_papers sebi_power',\n",
       "   'cluster_id': 192.0,\n",
       "   'explicit_a': 1.484,\n",
       "   'explicit_b': 3.0,\n",
       "   'implicit_a': 0,\n",
       "   'implicit_b': 0,\n",
       "   'sample_probability': 0.572,\n",
       "   'storyline': 'adani_adani group_group_adani ports_ports'},\n",
       "  '6531ed6f1e5cc42b1b1437be': {'article_a': 1.0,\n",
       "   'article_b': 10.0,\n",
       "   'cluster': 'firms_mcap_valued_valued firms_10 valued',\n",
       "   'cluster_id': 121.0,\n",
       "   'explicit_a': 1.0,\n",
       "   'explicit_b': 3.0,\n",
       "   'implicit_a': 0,\n",
       "   'implicit_b': 0,\n",
       "   'sample_probability': 0.57,\n",
       "   'storyline': 'listed firms_bse listed_bse_listed_high rs'},\n",
       "  '6531ed751e5cc42b1b143825': {'article_a': 1.0,\n",
       "   'article_b': 10.0,\n",
       "   'cluster': 'crypto_target price_price rs_bitcoin_buy',\n",
       "   'cluster_id': 191.0,\n",
       "   'explicit_a': 1.662,\n",
       "   'explicit_b': 3.0,\n",
       "   'implicit_a': 0,\n",
       "   'implicit_b': 0,\n",
       "   'sample_probability': 0.573,\n",
       "   'storyline': 'price rs_target price_target_buy_price'},\n",
       "  '6536802c1e5cc42b1b1441ef': {'article_a': 1.0,\n",
       "   'article_b': 10.0,\n",
       "   'cluster': 'gst_tax_pli_gst council_dpiit',\n",
       "   'cluster_id': 181.0,\n",
       "   'explicit_a': 1.0,\n",
       "   'explicit_b': 3.0,\n",
       "   'implicit_a': 0,\n",
       "   'implicit_b': 0,\n",
       "   'sample_probability': 0.468,\n",
       "   'storyline': 'gst_tax_gst council_evasion_council'}},\n",
       " 'feedArticles': [{'article_id': '65316fe61e5cc42b1b14260c'},\n",
       "  {'article_id': '65316fa91e5cc42b1b140fbc'},\n",
       "  {'article_id': '6531ed751e5cc42b1b143825'},\n",
       "  {'article_id': '65316ff51e5cc42b1b142c42'},\n",
       "  {'article_id': '6531ed6f1e5cc42b1b1437be'},\n",
       "  {'article_id': '653169061e5cc42b1b13c9fc'},\n",
       "  {'article_id': '65316f5c1e5cc42b1b13fb84'},\n",
       "  {'article_id': '65316f071e5cc42b1b13ecc6'},\n",
       "  {'article_id': '653168fb1e5cc42b1b13c6c9'},\n",
       "  {'article_id': '65316fbb1e5cc42b1b1415cd'},\n",
       "  {'article_id': '65316f1c1e5cc42b1b13efba'},\n",
       "  {'article_id': '652fc2ab1e5cc42b1b139e6f'},\n",
       "  {'article_id': '65316f231e5cc42b1b13f0d1'},\n",
       "  {'article_id': '652fcfa91e5cc42b1b13a355'},\n",
       "  {'article_id': '652fcfa71e5cc42b1b13a354'},\n",
       "  {'article_id': '6536802c1e5cc42b1b1441ef'},\n",
       "  {'article_id': '65316a871e5cc42b1b13dcd0'},\n",
       "  {'article_id': '65316f571e5cc42b1b13fa65'},\n",
       "  {'article_id': '653169ca1e5cc42b1b13da7f'},\n",
       "  {'article_id': '653168fe1e5cc42b1b13c7dc'}],\n",
       " 'model': 'thompson_sampling_v1'}"
      ]
     },
     "execution_count": 32,
     "metadata": {},
     "output_type": "execute_result"
    }
   ],
   "source": [
    "feed_json"
   ]
  },
  {
   "cell_type": "code",
   "execution_count": 15,
   "id": "b73671e4-38e5-4b77-83c0-a524a0606078",
   "metadata": {
    "tags": []
   },
   "outputs": [],
   "source": [
    "import requests"
   ]
  },
  {
   "cell_type": "code",
   "execution_count": 18,
   "id": "62f700c5-63ad-4b34-929d-23dd71aa0d5e",
   "metadata": {
    "tags": []
   },
   "outputs": [
    {
     "name": "stdout",
     "output_type": "stream",
     "text": [
      "/Users/ravi.tej/Desktop/ML/Recommendations/cambrian/notebooks/deployment testing\n"
     ]
    }
   ],
   "source": [
    "!pwd"
   ]
  },
  {
   "cell_type": "code",
   "execution_count": 20,
   "id": "2b295566-4dd8-4b65-a9d3-10fc9a6e975a",
   "metadata": {
    "tags": []
   },
   "outputs": [],
   "source": [
    "import pandas as pd"
   ]
  },
  {
   "cell_type": "code",
   "execution_count": 21,
   "id": "73128540-e5d8-48f8-9870-cbdf232d294e",
   "metadata": {
    "tags": []
   },
   "outputs": [],
   "source": [
    "from tqdm.notebook import tqdm"
   ]
  },
  {
   "cell_type": "code",
   "execution_count": 22,
   "id": "4f810474-672b-436b-9002-5df949d6c8c4",
   "metadata": {
    "tags": []
   },
   "outputs": [],
   "source": [
    "wint_articles = pd.read_csv('../../data/wintwealth_articles.csv')"
   ]
  },
  {
   "cell_type": "code",
   "execution_count": 25,
   "id": "bb2ba36d-4565-4f7c-ad15-598a69b5b3d3",
   "metadata": {
    "scrolled": true,
    "tags": []
   },
   "outputs": [],
   "source": [
    "wint_ids = list(wint_articles['_id'].unique())[1:]"
   ]
  },
  {
   "cell_type": "code",
   "execution_count": 27,
   "id": "13e6a64b-ca13-40a2-a4b7-5fd86b705bb8",
   "metadata": {
    "tags": []
   },
   "outputs": [
    {
     "data": {
      "application/vnd.jupyter.widget-view+json": {
       "model_id": "c2a9d5743d224184b2557e00f00b30df",
       "version_major": 2,
       "version_minor": 0
      },
      "text/plain": [
       "  0%|          | 0/1742 [00:00<?, ?it/s]"
      ]
     },
     "metadata": {},
     "output_type": "display_data"
    }
   ],
   "source": [
    "for wint_article_id in tqdm(wint_ids):\n",
    "    r = requests.post(url + 'create_embedding', json = {'articleId': wint_article_id})"
   ]
  },
  {
   "cell_type": "code",
   "execution_count": 22,
   "id": "d3fc8fe4-6249-4463-8ba0-06ce68392285",
   "metadata": {
    "tags": []
   },
   "outputs": [],
   "source": [
    "r = requests.post(url + 'create_embedding', json = {'articleId': '652cacf750af0e25a912310f'})"
   ]
  },
  {
   "cell_type": "code",
   "execution_count": 23,
   "id": "1d809123-1010-48b3-8dfe-c80e212c9afc",
   "metadata": {},
   "outputs": [
    {
     "data": {
      "text/plain": [
       "200"
      ]
     },
     "execution_count": 23,
     "metadata": {},
     "output_type": "execute_result"
    }
   ],
   "source": [
    "r.status_code"
   ]
  },
  {
   "cell_type": "markdown",
   "id": "64de728b-147f-4473-8262-611f6cd12905",
   "metadata": {},
   "source": [
    "### updating candidate articles"
   ]
  },
  {
   "cell_type": "code",
   "execution_count": 27,
   "id": "9838218b-9b78-4944-ab47-97959355f8d3",
   "metadata": {
    "tags": []
   },
   "outputs": [
    {
     "data": {
      "text/plain": [
       "'http://65.0.67.16:8000/'"
      ]
     },
     "execution_count": 27,
     "metadata": {},
     "output_type": "execute_result"
    }
   ],
   "source": [
    "url"
   ]
  },
  {
   "cell_type": "code",
   "execution_count": 28,
   "id": "c77087f1-b8a6-4cb8-880e-1f9beccd88f9",
   "metadata": {
    "tags": []
   },
   "outputs": [],
   "source": [
    "r = requests.post(url + 'update_candidates')"
   ]
  },
  {
   "cell_type": "code",
   "execution_count": 29,
   "id": "21733dc2-4fb0-40f9-88a1-7dc6cf5dab99",
   "metadata": {
    "tags": []
   },
   "outputs": [
    {
     "data": {
      "text/plain": [
       "<Response [500]>"
      ]
     },
     "execution_count": 29,
     "metadata": {},
     "output_type": "execute_result"
    }
   ],
   "source": [
    "r"
   ]
  },
  {
   "cell_type": "code",
   "execution_count": 30,
   "id": "6bbe5765-b9e0-4e90-9030-d096054952aa",
   "metadata": {},
   "outputs": [
    {
     "data": {
      "text/plain": [
       "'<!doctype html>\\n<html lang=en>\\n<title>500 Internal Server Error</title>\\n<h1>Internal Server Error</h1>\\n<p>The server encountered an internal error and was unable to complete your request. Either the server is overloaded or there is an error in the application.</p>\\n'"
      ]
     },
     "execution_count": 30,
     "metadata": {},
     "output_type": "execute_result"
    }
   ],
   "source": [
    "r.text"
   ]
  },
  {
   "cell_type": "markdown",
   "id": "8fb2c90d-4496-40ba-b6ae-142f75c61f30",
   "metadata": {},
   "source": [
    "### Update topic preferences"
   ]
  },
  {
   "cell_type": "code",
   "execution_count": 47,
   "id": "7bebaee9-4d0b-40cc-9a20-2d56375fdded",
   "metadata": {
    "tags": []
   },
   "outputs": [],
   "source": [
    "r = requests.post(url + 'update_topic_preferences')"
   ]
  },
  {
   "cell_type": "code",
   "execution_count": null,
   "id": "24bd932e-06c9-48e3-8c5f-963a17126e0c",
   "metadata": {},
   "outputs": [],
   "source": []
  }
 ],
 "metadata": {
  "kernelspec": {
   "display_name": "recoenv",
   "language": "python",
   "name": "recoenv"
  },
  "language_info": {
   "codemirror_mode": {
    "name": "ipython",
    "version": 3
   },
   "file_extension": ".py",
   "mimetype": "text/x-python",
   "name": "python",
   "nbconvert_exporter": "python",
   "pygments_lexer": "ipython3",
   "version": "3.11.5"
  }
 },
 "nbformat": 4,
 "nbformat_minor": 5
}
