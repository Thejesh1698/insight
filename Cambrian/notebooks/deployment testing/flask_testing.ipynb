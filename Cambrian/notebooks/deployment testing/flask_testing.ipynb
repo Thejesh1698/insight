{
 "cells": [
  {
   "cell_type": "code",
   "execution_count": 1,
   "id": "e4df9093-c852-4718-b2f1-baa7a3f20218",
   "metadata": {
    "tags": []
   },
   "outputs": [],
   "source": [
    "import requests"
   ]
  },
  {
   "cell_type": "code",
   "execution_count": 2,
   "id": "dc7be0a4-2ae7-41be-88bb-b3ca63aa126e",
   "metadata": {
    "tags": []
   },
   "outputs": [],
   "source": [
    "url = 'http://127.0.0.1:8000/create_embedding'"
   ]
  },
  {
   "cell_type": "code",
   "execution_count": 12,
   "id": "b4b0a3cc-bcd2-40f6-8be1-bd4d37ac8979",
   "metadata": {
    "tags": []
   },
   "outputs": [],
   "source": [
    "res = requests.post(url, json=json_message)"
   ]
  },
  {
   "cell_type": "code",
   "execution_count": 13,
   "id": "a7b42d64-2391-46a7-aade-c7ab15abf74a",
   "metadata": {
    "tags": []
   },
   "outputs": [
    {
     "data": {
      "text/plain": [
       "'embeddings created for articleId and sqs triggered for cluster assignment'"
      ]
     },
     "execution_count": 13,
     "metadata": {},
     "output_type": "execute_result"
    }
   ],
   "source": [
    "res.text"
   ]
  },
  {
   "cell_type": "code",
   "execution_count": 22,
   "id": "7d68e505-13ce-41f7-9b1b-f6e1365ae5fa",
   "metadata": {
    "tags": []
   },
   "outputs": [],
   "source": [
    "import numpy as np"
   ]
  },
  {
   "cell_type": "code",
   "execution_count": 26,
   "id": "690ca8be-04c3-4311-8e1e-83e9d728b068",
   "metadata": {
    "tags": []
   },
   "outputs": [],
   "source": [
    "a = {'b': 'c'}"
   ]
  },
  {
   "cell_type": "code",
   "execution_count": 25,
   "id": "f31914f4-5539-4cf8-a7c1-3bf4ab3a0aca",
   "metadata": {
    "tags": []
   },
   "outputs": [
    {
     "data": {
      "text/plain": [
       "1"
      ]
     },
     "execution_count": 25,
     "metadata": {},
     "output_type": "execute_result"
    }
   ],
   "source": [
    "np.random.choice(list({1,2}))"
   ]
  },
  {
   "cell_type": "code",
   "execution_count": 14,
   "id": "41297d1c-8899-41be-9eac-2173488eace9",
   "metadata": {
    "tags": []
   },
   "outputs": [],
   "source": [
    "lst = [\"653168371e5cc42b1b13a805\",\n",
    "\"6531682d1e5cc42b1b13a7b6\",\n",
    "\"653168261e5cc42b1b13a797\",\n",
    "\"6531682f1e5cc42b1b13a7c5\",\n",
    "\"6531682d1e5cc42b1b13a7b9\",\n",
    "\"653168351e5cc42b1b13a7f1\",\n",
    "\"6531682c1e5cc42b1b13a7b4\",\n",
    "\"653168301e5cc42b1b13a7cd\",\n",
    "\"6531682e1e5cc42b1b13a7be\",\n",
    "\"6531682e1e5cc42b1b13a7bc\",\n",
    "\"653168331e5cc42b1b13a7e0\",\n",
    "\"6531682e1e5cc42b1b13a7c1\",\n",
    "\"653168341e5cc42b1b13a7e9\",\n",
    "\"6531682c1e5cc42b1b13a7b3\",\n",
    "\"653168391e5cc42b1b13a81a\",\n",
    "\"653168281e5cc42b1b13a7a0\",\n",
    "\"6531682c1e5cc42b1b13a7b0\",\n",
    "\"653168351e5cc42b1b13a7f4\",\n",
    "\"653168281e5cc42b1b13a7a2\",\n",
    "\"653168371e5cc42b1b13a806\",\n",
    "\"6531682f1e5cc42b1b13a7c8\",\n",
    "\"653168311e5cc42b1b13a7d0\",\n",
    "\"653168331e5cc42b1b13a7e3\",\n",
    "\"6531682d1e5cc42b1b13a7b5\",\n",
    "\"653168291e5cc42b1b13a7a6\"]"
   ]
  },
  {
   "cell_type": "code",
   "execution_count": 16,
   "id": "f35ade48-0850-49af-a2fa-6f1971e2f935",
   "metadata": {
    "tags": []
   },
   "outputs": [],
   "source": [
    "json_message = {'articleIdList': lst}"
   ]
  },
  {
   "cell_type": "code",
   "execution_count": 4,
   "id": "64ac1345-eefa-414f-a7f8-229fbc257d09",
   "metadata": {
    "tags": []
   },
   "outputs": [],
   "source": [
    "json_message = {'articleId': '653168341e5cc42b1b13a7f0'}"
   ]
  },
  {
   "cell_type": "code",
   "execution_count": 20,
   "id": "2600f97e-6512-493d-9b71-111b6e31e1db",
   "metadata": {
    "tags": []
   },
   "outputs": [],
   "source": [
    "res = requests.post(url, json=json_message)"
   ]
  },
  {
   "cell_type": "code",
   "execution_count": 21,
   "id": "1c79b465-e03d-4f29-974e-621d906f5aa3",
   "metadata": {
    "tags": []
   },
   "outputs": [
    {
     "data": {
      "text/plain": [
       "'embeddings created for articleId and sqs triggered for cluster assignment'"
      ]
     },
     "execution_count": 21,
     "metadata": {},
     "output_type": "execute_result"
    }
   ],
   "source": [
    "res.text"
   ]
  },
  {
   "cell_type": "code",
   "execution_count": 5,
   "id": "72a5ed9c-5793-42d3-a97c-fb4ea70c318a",
   "metadata": {
    "tags": []
   },
   "outputs": [
    {
     "data": {
      "text/plain": [
       "\u001b[0;31mSignature:\u001b[0m \u001b[0mrequests\u001b[0m\u001b[0;34m.\u001b[0m\u001b[0mpost\u001b[0m\u001b[0;34m(\u001b[0m\u001b[0murl\u001b[0m\u001b[0;34m,\u001b[0m \u001b[0mdata\u001b[0m\u001b[0;34m=\u001b[0m\u001b[0;32mNone\u001b[0m\u001b[0;34m,\u001b[0m \u001b[0mjson\u001b[0m\u001b[0;34m=\u001b[0m\u001b[0;32mNone\u001b[0m\u001b[0;34m,\u001b[0m \u001b[0;34m**\u001b[0m\u001b[0mkwargs\u001b[0m\u001b[0;34m)\u001b[0m\u001b[0;34m\u001b[0m\u001b[0;34m\u001b[0m\u001b[0m\n",
       "\u001b[0;31mDocstring:\u001b[0m\n",
       "Sends a POST request.\n",
       "\n",
       ":param url: URL for the new :class:`Request` object.\n",
       ":param data: (optional) Dictionary, list of tuples, bytes, or file-like\n",
       "    object to send in the body of the :class:`Request`.\n",
       ":param json: (optional) A JSON serializable Python object to send in the body of the :class:`Request`.\n",
       ":param \\*\\*kwargs: Optional arguments that ``request`` takes.\n",
       ":return: :class:`Response <Response>` object\n",
       ":rtype: requests.Response\n",
       "\u001b[0;31mFile:\u001b[0m      ~/anaconda3/envs/recoenv/lib/python3.11/site-packages/requests/api.py\n",
       "\u001b[0;31mType:\u001b[0m      function"
      ]
     },
     "metadata": {},
     "output_type": "display_data"
    }
   ],
   "source": [
    "requests.post?"
   ]
  },
  {
   "cell_type": "code",
   "execution_count": 2,
   "id": "25ca4e4b-dd72-4dc8-be9b-734d8194f14b",
   "metadata": {
    "tags": []
   },
   "outputs": [],
   "source": [
    "import json"
   ]
  },
  {
   "cell_type": "code",
   "execution_count": 3,
   "id": "6b181002-7666-48e6-81bc-bf546adc52ce",
   "metadata": {},
   "outputs": [],
   "source": [
    "url = 'http://127.0.0.1:8000/get_feed'"
   ]
  },
  {
   "cell_type": "code",
   "execution_count": 12,
   "id": "5f5d1317-5a48-4ee9-b15e-5eceae2aa80d",
   "metadata": {
    "tags": []
   },
   "outputs": [],
   "source": [
    "# req = {'user_id': 12, 'topic_ids': [102], 'feed_article_count': 20, 'mins_since_last_api_call': None}\n",
    "req = {\"user_id\":-1,\"topic_ids\":[],\"feed_article_count\":10,\"seconds_since_last_api_call\":86400,\"current_feed_session_article_ids\":[\"651de072a662d76276b7fc59\",\"651dc55ea662d76276b7b3f1\",\"651dd37ca662d76276b7dafe\",\"651e145ea662d76276b87c8f\",\"651e1108a662d76276b874d6\",\"651e25d5a662d76276b8a5c9\",\"651dc8cca662d76276b7bd35\",\"651ddfeea662d76276b7faf8\",\"651e0a85a662d76276b8659d\",\"651e12c3a662d76276b878fc\",\"651dfae3a662d76276b83f39\"]}"
   ]
  },
  {
   "cell_type": "code",
   "execution_count": 16,
   "id": "13e3c9d0-63dc-44a4-a4db-c49aca9b7e64",
   "metadata": {
    "tags": []
   },
   "outputs": [
    {
     "ename": "ConnectionError",
     "evalue": "HTTPConnectionPool(host='127.0.0.1', port=8000): Max retries exceeded with url: /get_feed (Caused by NewConnectionError('<urllib3.connection.HTTPConnection object at 0x11184af90>: Failed to establish a new connection: [Errno 61] Connection refused'))",
     "output_type": "error",
     "traceback": [
      "\u001b[0;31m---------------------------------------------------------------------------\u001b[0m",
      "\u001b[0;31mConnectionRefusedError\u001b[0m                    Traceback (most recent call last)",
      "File \u001b[0;32m~/anaconda3/envs/recoenv/lib/python3.11/site-packages/urllib3/connection.py:174\u001b[0m, in \u001b[0;36mHTTPConnection._new_conn\u001b[0;34m(self)\u001b[0m\n\u001b[1;32m    173\u001b[0m \u001b[38;5;28;01mtry\u001b[39;00m:\n\u001b[0;32m--> 174\u001b[0m     conn \u001b[38;5;241m=\u001b[39m connection\u001b[38;5;241m.\u001b[39mcreate_connection(\n\u001b[1;32m    175\u001b[0m         (\u001b[38;5;28mself\u001b[39m\u001b[38;5;241m.\u001b[39m_dns_host, \u001b[38;5;28mself\u001b[39m\u001b[38;5;241m.\u001b[39mport), \u001b[38;5;28mself\u001b[39m\u001b[38;5;241m.\u001b[39mtimeout, \u001b[38;5;241m*\u001b[39m\u001b[38;5;241m*\u001b[39mextra_kw\n\u001b[1;32m    176\u001b[0m     )\n\u001b[1;32m    178\u001b[0m \u001b[38;5;28;01mexcept\u001b[39;00m SocketTimeout:\n",
      "File \u001b[0;32m~/anaconda3/envs/recoenv/lib/python3.11/site-packages/urllib3/util/connection.py:95\u001b[0m, in \u001b[0;36mcreate_connection\u001b[0;34m(address, timeout, source_address, socket_options)\u001b[0m\n\u001b[1;32m     94\u001b[0m \u001b[38;5;28;01mif\u001b[39;00m err \u001b[38;5;129;01mis\u001b[39;00m \u001b[38;5;129;01mnot\u001b[39;00m \u001b[38;5;28;01mNone\u001b[39;00m:\n\u001b[0;32m---> 95\u001b[0m     \u001b[38;5;28;01mraise\u001b[39;00m err\n\u001b[1;32m     97\u001b[0m \u001b[38;5;28;01mraise\u001b[39;00m socket\u001b[38;5;241m.\u001b[39merror(\u001b[38;5;124m\"\u001b[39m\u001b[38;5;124mgetaddrinfo returns an empty list\u001b[39m\u001b[38;5;124m\"\u001b[39m)\n",
      "File \u001b[0;32m~/anaconda3/envs/recoenv/lib/python3.11/site-packages/urllib3/util/connection.py:85\u001b[0m, in \u001b[0;36mcreate_connection\u001b[0;34m(address, timeout, source_address, socket_options)\u001b[0m\n\u001b[1;32m     84\u001b[0m     sock\u001b[38;5;241m.\u001b[39mbind(source_address)\n\u001b[0;32m---> 85\u001b[0m sock\u001b[38;5;241m.\u001b[39mconnect(sa)\n\u001b[1;32m     86\u001b[0m \u001b[38;5;28;01mreturn\u001b[39;00m sock\n",
      "\u001b[0;31mConnectionRefusedError\u001b[0m: [Errno 61] Connection refused",
      "\nDuring handling of the above exception, another exception occurred:\n",
      "\u001b[0;31mNewConnectionError\u001b[0m                        Traceback (most recent call last)",
      "File \u001b[0;32m~/anaconda3/envs/recoenv/lib/python3.11/site-packages/urllib3/connectionpool.py:714\u001b[0m, in \u001b[0;36mHTTPConnectionPool.urlopen\u001b[0;34m(self, method, url, body, headers, retries, redirect, assert_same_host, timeout, pool_timeout, release_conn, chunked, body_pos, **response_kw)\u001b[0m\n\u001b[1;32m    713\u001b[0m \u001b[38;5;66;03m# Make the request on the httplib connection object.\u001b[39;00m\n\u001b[0;32m--> 714\u001b[0m httplib_response \u001b[38;5;241m=\u001b[39m \u001b[38;5;28mself\u001b[39m\u001b[38;5;241m.\u001b[39m_make_request(\n\u001b[1;32m    715\u001b[0m     conn,\n\u001b[1;32m    716\u001b[0m     method,\n\u001b[1;32m    717\u001b[0m     url,\n\u001b[1;32m    718\u001b[0m     timeout\u001b[38;5;241m=\u001b[39mtimeout_obj,\n\u001b[1;32m    719\u001b[0m     body\u001b[38;5;241m=\u001b[39mbody,\n\u001b[1;32m    720\u001b[0m     headers\u001b[38;5;241m=\u001b[39mheaders,\n\u001b[1;32m    721\u001b[0m     chunked\u001b[38;5;241m=\u001b[39mchunked,\n\u001b[1;32m    722\u001b[0m )\n\u001b[1;32m    724\u001b[0m \u001b[38;5;66;03m# If we're going to release the connection in ``finally:``, then\u001b[39;00m\n\u001b[1;32m    725\u001b[0m \u001b[38;5;66;03m# the response doesn't need to know about the connection. Otherwise\u001b[39;00m\n\u001b[1;32m    726\u001b[0m \u001b[38;5;66;03m# it will also try to release it and we'll have a double-release\u001b[39;00m\n\u001b[1;32m    727\u001b[0m \u001b[38;5;66;03m# mess.\u001b[39;00m\n",
      "File \u001b[0;32m~/anaconda3/envs/recoenv/lib/python3.11/site-packages/urllib3/connectionpool.py:415\u001b[0m, in \u001b[0;36mHTTPConnectionPool._make_request\u001b[0;34m(self, conn, method, url, timeout, chunked, **httplib_request_kw)\u001b[0m\n\u001b[1;32m    414\u001b[0m     \u001b[38;5;28;01melse\u001b[39;00m:\n\u001b[0;32m--> 415\u001b[0m         conn\u001b[38;5;241m.\u001b[39mrequest(method, url, \u001b[38;5;241m*\u001b[39m\u001b[38;5;241m*\u001b[39mhttplib_request_kw)\n\u001b[1;32m    417\u001b[0m \u001b[38;5;66;03m# We are swallowing BrokenPipeError (errno.EPIPE) since the server is\u001b[39;00m\n\u001b[1;32m    418\u001b[0m \u001b[38;5;66;03m# legitimately able to close the connection after sending a valid response.\u001b[39;00m\n\u001b[1;32m    419\u001b[0m \u001b[38;5;66;03m# With this behaviour, the received response is still readable.\u001b[39;00m\n",
      "File \u001b[0;32m~/anaconda3/envs/recoenv/lib/python3.11/site-packages/urllib3/connection.py:244\u001b[0m, in \u001b[0;36mHTTPConnection.request\u001b[0;34m(self, method, url, body, headers)\u001b[0m\n\u001b[1;32m    243\u001b[0m     headers[\u001b[38;5;124m\"\u001b[39m\u001b[38;5;124mUser-Agent\u001b[39m\u001b[38;5;124m\"\u001b[39m] \u001b[38;5;241m=\u001b[39m _get_default_user_agent()\n\u001b[0;32m--> 244\u001b[0m \u001b[38;5;28msuper\u001b[39m(HTTPConnection, \u001b[38;5;28mself\u001b[39m)\u001b[38;5;241m.\u001b[39mrequest(method, url, body\u001b[38;5;241m=\u001b[39mbody, headers\u001b[38;5;241m=\u001b[39mheaders)\n",
      "File \u001b[0;32m~/anaconda3/envs/recoenv/lib/python3.11/http/client.py:1286\u001b[0m, in \u001b[0;36mHTTPConnection.request\u001b[0;34m(self, method, url, body, headers, encode_chunked)\u001b[0m\n\u001b[1;32m   1285\u001b[0m \u001b[38;5;250m\u001b[39m\u001b[38;5;124;03m\"\"\"Send a complete request to the server.\"\"\"\u001b[39;00m\n\u001b[0;32m-> 1286\u001b[0m \u001b[38;5;28mself\u001b[39m\u001b[38;5;241m.\u001b[39m_send_request(method, url, body, headers, encode_chunked)\n",
      "File \u001b[0;32m~/anaconda3/envs/recoenv/lib/python3.11/http/client.py:1332\u001b[0m, in \u001b[0;36mHTTPConnection._send_request\u001b[0;34m(self, method, url, body, headers, encode_chunked)\u001b[0m\n\u001b[1;32m   1331\u001b[0m     body \u001b[38;5;241m=\u001b[39m _encode(body, \u001b[38;5;124m'\u001b[39m\u001b[38;5;124mbody\u001b[39m\u001b[38;5;124m'\u001b[39m)\n\u001b[0;32m-> 1332\u001b[0m \u001b[38;5;28mself\u001b[39m\u001b[38;5;241m.\u001b[39mendheaders(body, encode_chunked\u001b[38;5;241m=\u001b[39mencode_chunked)\n",
      "File \u001b[0;32m~/anaconda3/envs/recoenv/lib/python3.11/http/client.py:1281\u001b[0m, in \u001b[0;36mHTTPConnection.endheaders\u001b[0;34m(self, message_body, encode_chunked)\u001b[0m\n\u001b[1;32m   1280\u001b[0m     \u001b[38;5;28;01mraise\u001b[39;00m CannotSendHeader()\n\u001b[0;32m-> 1281\u001b[0m \u001b[38;5;28mself\u001b[39m\u001b[38;5;241m.\u001b[39m_send_output(message_body, encode_chunked\u001b[38;5;241m=\u001b[39mencode_chunked)\n",
      "File \u001b[0;32m~/anaconda3/envs/recoenv/lib/python3.11/http/client.py:1041\u001b[0m, in \u001b[0;36mHTTPConnection._send_output\u001b[0;34m(self, message_body, encode_chunked)\u001b[0m\n\u001b[1;32m   1040\u001b[0m \u001b[38;5;28;01mdel\u001b[39;00m \u001b[38;5;28mself\u001b[39m\u001b[38;5;241m.\u001b[39m_buffer[:]\n\u001b[0;32m-> 1041\u001b[0m \u001b[38;5;28mself\u001b[39m\u001b[38;5;241m.\u001b[39msend(msg)\n\u001b[1;32m   1043\u001b[0m \u001b[38;5;28;01mif\u001b[39;00m message_body \u001b[38;5;129;01mis\u001b[39;00m \u001b[38;5;129;01mnot\u001b[39;00m \u001b[38;5;28;01mNone\u001b[39;00m:\n\u001b[1;32m   1044\u001b[0m \n\u001b[1;32m   1045\u001b[0m     \u001b[38;5;66;03m# create a consistent interface to message_body\u001b[39;00m\n",
      "File \u001b[0;32m~/anaconda3/envs/recoenv/lib/python3.11/http/client.py:979\u001b[0m, in \u001b[0;36mHTTPConnection.send\u001b[0;34m(self, data)\u001b[0m\n\u001b[1;32m    978\u001b[0m \u001b[38;5;28;01mif\u001b[39;00m \u001b[38;5;28mself\u001b[39m\u001b[38;5;241m.\u001b[39mauto_open:\n\u001b[0;32m--> 979\u001b[0m     \u001b[38;5;28mself\u001b[39m\u001b[38;5;241m.\u001b[39mconnect()\n\u001b[1;32m    980\u001b[0m \u001b[38;5;28;01melse\u001b[39;00m:\n",
      "File \u001b[0;32m~/anaconda3/envs/recoenv/lib/python3.11/site-packages/urllib3/connection.py:205\u001b[0m, in \u001b[0;36mHTTPConnection.connect\u001b[0;34m(self)\u001b[0m\n\u001b[1;32m    204\u001b[0m \u001b[38;5;28;01mdef\u001b[39;00m \u001b[38;5;21mconnect\u001b[39m(\u001b[38;5;28mself\u001b[39m):\n\u001b[0;32m--> 205\u001b[0m     conn \u001b[38;5;241m=\u001b[39m \u001b[38;5;28mself\u001b[39m\u001b[38;5;241m.\u001b[39m_new_conn()\n\u001b[1;32m    206\u001b[0m     \u001b[38;5;28mself\u001b[39m\u001b[38;5;241m.\u001b[39m_prepare_conn(conn)\n",
      "File \u001b[0;32m~/anaconda3/envs/recoenv/lib/python3.11/site-packages/urllib3/connection.py:186\u001b[0m, in \u001b[0;36mHTTPConnection._new_conn\u001b[0;34m(self)\u001b[0m\n\u001b[1;32m    185\u001b[0m \u001b[38;5;28;01mexcept\u001b[39;00m SocketError \u001b[38;5;28;01mas\u001b[39;00m e:\n\u001b[0;32m--> 186\u001b[0m     \u001b[38;5;28;01mraise\u001b[39;00m NewConnectionError(\n\u001b[1;32m    187\u001b[0m         \u001b[38;5;28mself\u001b[39m, \u001b[38;5;124m\"\u001b[39m\u001b[38;5;124mFailed to establish a new connection: \u001b[39m\u001b[38;5;132;01m%s\u001b[39;00m\u001b[38;5;124m\"\u001b[39m \u001b[38;5;241m%\u001b[39m e\n\u001b[1;32m    188\u001b[0m     )\n\u001b[1;32m    190\u001b[0m \u001b[38;5;28;01mreturn\u001b[39;00m conn\n",
      "\u001b[0;31mNewConnectionError\u001b[0m: <urllib3.connection.HTTPConnection object at 0x11184af90>: Failed to establish a new connection: [Errno 61] Connection refused",
      "\nDuring handling of the above exception, another exception occurred:\n",
      "\u001b[0;31mMaxRetryError\u001b[0m                             Traceback (most recent call last)",
      "File \u001b[0;32m~/anaconda3/envs/recoenv/lib/python3.11/site-packages/requests/adapters.py:486\u001b[0m, in \u001b[0;36mHTTPAdapter.send\u001b[0;34m(self, request, stream, timeout, verify, cert, proxies)\u001b[0m\n\u001b[1;32m    485\u001b[0m \u001b[38;5;28;01mtry\u001b[39;00m:\n\u001b[0;32m--> 486\u001b[0m     resp \u001b[38;5;241m=\u001b[39m conn\u001b[38;5;241m.\u001b[39murlopen(\n\u001b[1;32m    487\u001b[0m         method\u001b[38;5;241m=\u001b[39mrequest\u001b[38;5;241m.\u001b[39mmethod,\n\u001b[1;32m    488\u001b[0m         url\u001b[38;5;241m=\u001b[39murl,\n\u001b[1;32m    489\u001b[0m         body\u001b[38;5;241m=\u001b[39mrequest\u001b[38;5;241m.\u001b[39mbody,\n\u001b[1;32m    490\u001b[0m         headers\u001b[38;5;241m=\u001b[39mrequest\u001b[38;5;241m.\u001b[39mheaders,\n\u001b[1;32m    491\u001b[0m         redirect\u001b[38;5;241m=\u001b[39m\u001b[38;5;28;01mFalse\u001b[39;00m,\n\u001b[1;32m    492\u001b[0m         assert_same_host\u001b[38;5;241m=\u001b[39m\u001b[38;5;28;01mFalse\u001b[39;00m,\n\u001b[1;32m    493\u001b[0m         preload_content\u001b[38;5;241m=\u001b[39m\u001b[38;5;28;01mFalse\u001b[39;00m,\n\u001b[1;32m    494\u001b[0m         decode_content\u001b[38;5;241m=\u001b[39m\u001b[38;5;28;01mFalse\u001b[39;00m,\n\u001b[1;32m    495\u001b[0m         retries\u001b[38;5;241m=\u001b[39m\u001b[38;5;28mself\u001b[39m\u001b[38;5;241m.\u001b[39mmax_retries,\n\u001b[1;32m    496\u001b[0m         timeout\u001b[38;5;241m=\u001b[39mtimeout,\n\u001b[1;32m    497\u001b[0m         chunked\u001b[38;5;241m=\u001b[39mchunked,\n\u001b[1;32m    498\u001b[0m     )\n\u001b[1;32m    500\u001b[0m \u001b[38;5;28;01mexcept\u001b[39;00m (ProtocolError, \u001b[38;5;167;01mOSError\u001b[39;00m) \u001b[38;5;28;01mas\u001b[39;00m err:\n",
      "File \u001b[0;32m~/anaconda3/envs/recoenv/lib/python3.11/site-packages/urllib3/connectionpool.py:798\u001b[0m, in \u001b[0;36mHTTPConnectionPool.urlopen\u001b[0;34m(self, method, url, body, headers, retries, redirect, assert_same_host, timeout, pool_timeout, release_conn, chunked, body_pos, **response_kw)\u001b[0m\n\u001b[1;32m    796\u001b[0m     e \u001b[38;5;241m=\u001b[39m ProtocolError(\u001b[38;5;124m\"\u001b[39m\u001b[38;5;124mConnection aborted.\u001b[39m\u001b[38;5;124m\"\u001b[39m, e)\n\u001b[0;32m--> 798\u001b[0m retries \u001b[38;5;241m=\u001b[39m retries\u001b[38;5;241m.\u001b[39mincrement(\n\u001b[1;32m    799\u001b[0m     method, url, error\u001b[38;5;241m=\u001b[39me, _pool\u001b[38;5;241m=\u001b[39m\u001b[38;5;28mself\u001b[39m, _stacktrace\u001b[38;5;241m=\u001b[39msys\u001b[38;5;241m.\u001b[39mexc_info()[\u001b[38;5;241m2\u001b[39m]\n\u001b[1;32m    800\u001b[0m )\n\u001b[1;32m    801\u001b[0m retries\u001b[38;5;241m.\u001b[39msleep()\n",
      "File \u001b[0;32m~/anaconda3/envs/recoenv/lib/python3.11/site-packages/urllib3/util/retry.py:592\u001b[0m, in \u001b[0;36mRetry.increment\u001b[0;34m(self, method, url, response, error, _pool, _stacktrace)\u001b[0m\n\u001b[1;32m    591\u001b[0m \u001b[38;5;28;01mif\u001b[39;00m new_retry\u001b[38;5;241m.\u001b[39mis_exhausted():\n\u001b[0;32m--> 592\u001b[0m     \u001b[38;5;28;01mraise\u001b[39;00m MaxRetryError(_pool, url, error \u001b[38;5;129;01mor\u001b[39;00m ResponseError(cause))\n\u001b[1;32m    594\u001b[0m log\u001b[38;5;241m.\u001b[39mdebug(\u001b[38;5;124m\"\u001b[39m\u001b[38;5;124mIncremented Retry for (url=\u001b[39m\u001b[38;5;124m'\u001b[39m\u001b[38;5;132;01m%s\u001b[39;00m\u001b[38;5;124m'\u001b[39m\u001b[38;5;124m): \u001b[39m\u001b[38;5;132;01m%r\u001b[39;00m\u001b[38;5;124m\"\u001b[39m, url, new_retry)\n",
      "\u001b[0;31mMaxRetryError\u001b[0m: HTTPConnectionPool(host='127.0.0.1', port=8000): Max retries exceeded with url: /get_feed (Caused by NewConnectionError('<urllib3.connection.HTTPConnection object at 0x11184af90>: Failed to establish a new connection: [Errno 61] Connection refused'))",
      "\nDuring handling of the above exception, another exception occurred:\n",
      "\u001b[0;31mConnectionError\u001b[0m                           Traceback (most recent call last)",
      "Cell \u001b[0;32mIn[16], line 1\u001b[0m\n\u001b[0;32m----> 1\u001b[0m res \u001b[38;5;241m=\u001b[39m requests\u001b[38;5;241m.\u001b[39mpost(url\u001b[38;5;241m=\u001b[39murl, json \u001b[38;5;241m=\u001b[39m req)\n",
      "File \u001b[0;32m~/anaconda3/envs/recoenv/lib/python3.11/site-packages/requests/api.py:115\u001b[0m, in \u001b[0;36mpost\u001b[0;34m(url, data, json, **kwargs)\u001b[0m\n\u001b[1;32m    103\u001b[0m \u001b[38;5;28;01mdef\u001b[39;00m \u001b[38;5;21mpost\u001b[39m(url, data\u001b[38;5;241m=\u001b[39m\u001b[38;5;28;01mNone\u001b[39;00m, json\u001b[38;5;241m=\u001b[39m\u001b[38;5;28;01mNone\u001b[39;00m, \u001b[38;5;241m*\u001b[39m\u001b[38;5;241m*\u001b[39mkwargs):\n\u001b[1;32m    104\u001b[0m \u001b[38;5;250m    \u001b[39m\u001b[38;5;124mr\u001b[39m\u001b[38;5;124;03m\"\"\"Sends a POST request.\u001b[39;00m\n\u001b[1;32m    105\u001b[0m \n\u001b[1;32m    106\u001b[0m \u001b[38;5;124;03m    :param url: URL for the new :class:`Request` object.\u001b[39;00m\n\u001b[0;32m   (...)\u001b[0m\n\u001b[1;32m    112\u001b[0m \u001b[38;5;124;03m    :rtype: requests.Response\u001b[39;00m\n\u001b[1;32m    113\u001b[0m \u001b[38;5;124;03m    \"\"\"\u001b[39;00m\n\u001b[0;32m--> 115\u001b[0m     \u001b[38;5;28;01mreturn\u001b[39;00m request(\u001b[38;5;124m\"\u001b[39m\u001b[38;5;124mpost\u001b[39m\u001b[38;5;124m\"\u001b[39m, url, data\u001b[38;5;241m=\u001b[39mdata, json\u001b[38;5;241m=\u001b[39mjson, \u001b[38;5;241m*\u001b[39m\u001b[38;5;241m*\u001b[39mkwargs)\n",
      "File \u001b[0;32m~/anaconda3/envs/recoenv/lib/python3.11/site-packages/requests/api.py:59\u001b[0m, in \u001b[0;36mrequest\u001b[0;34m(method, url, **kwargs)\u001b[0m\n\u001b[1;32m     55\u001b[0m \u001b[38;5;66;03m# By using the 'with' statement we are sure the session is closed, thus we\u001b[39;00m\n\u001b[1;32m     56\u001b[0m \u001b[38;5;66;03m# avoid leaving sockets open which can trigger a ResourceWarning in some\u001b[39;00m\n\u001b[1;32m     57\u001b[0m \u001b[38;5;66;03m# cases, and look like a memory leak in others.\u001b[39;00m\n\u001b[1;32m     58\u001b[0m \u001b[38;5;28;01mwith\u001b[39;00m sessions\u001b[38;5;241m.\u001b[39mSession() \u001b[38;5;28;01mas\u001b[39;00m session:\n\u001b[0;32m---> 59\u001b[0m     \u001b[38;5;28;01mreturn\u001b[39;00m session\u001b[38;5;241m.\u001b[39mrequest(method\u001b[38;5;241m=\u001b[39mmethod, url\u001b[38;5;241m=\u001b[39murl, \u001b[38;5;241m*\u001b[39m\u001b[38;5;241m*\u001b[39mkwargs)\n",
      "File \u001b[0;32m~/anaconda3/envs/recoenv/lib/python3.11/site-packages/requests/sessions.py:589\u001b[0m, in \u001b[0;36mSession.request\u001b[0;34m(self, method, url, params, data, headers, cookies, files, auth, timeout, allow_redirects, proxies, hooks, stream, verify, cert, json)\u001b[0m\n\u001b[1;32m    584\u001b[0m send_kwargs \u001b[38;5;241m=\u001b[39m {\n\u001b[1;32m    585\u001b[0m     \u001b[38;5;124m\"\u001b[39m\u001b[38;5;124mtimeout\u001b[39m\u001b[38;5;124m\"\u001b[39m: timeout,\n\u001b[1;32m    586\u001b[0m     \u001b[38;5;124m\"\u001b[39m\u001b[38;5;124mallow_redirects\u001b[39m\u001b[38;5;124m\"\u001b[39m: allow_redirects,\n\u001b[1;32m    587\u001b[0m }\n\u001b[1;32m    588\u001b[0m send_kwargs\u001b[38;5;241m.\u001b[39mupdate(settings)\n\u001b[0;32m--> 589\u001b[0m resp \u001b[38;5;241m=\u001b[39m \u001b[38;5;28mself\u001b[39m\u001b[38;5;241m.\u001b[39msend(prep, \u001b[38;5;241m*\u001b[39m\u001b[38;5;241m*\u001b[39msend_kwargs)\n\u001b[1;32m    591\u001b[0m \u001b[38;5;28;01mreturn\u001b[39;00m resp\n",
      "File \u001b[0;32m~/anaconda3/envs/recoenv/lib/python3.11/site-packages/requests/sessions.py:703\u001b[0m, in \u001b[0;36mSession.send\u001b[0;34m(self, request, **kwargs)\u001b[0m\n\u001b[1;32m    700\u001b[0m start \u001b[38;5;241m=\u001b[39m preferred_clock()\n\u001b[1;32m    702\u001b[0m \u001b[38;5;66;03m# Send the request\u001b[39;00m\n\u001b[0;32m--> 703\u001b[0m r \u001b[38;5;241m=\u001b[39m adapter\u001b[38;5;241m.\u001b[39msend(request, \u001b[38;5;241m*\u001b[39m\u001b[38;5;241m*\u001b[39mkwargs)\n\u001b[1;32m    705\u001b[0m \u001b[38;5;66;03m# Total elapsed time of the request (approximately)\u001b[39;00m\n\u001b[1;32m    706\u001b[0m elapsed \u001b[38;5;241m=\u001b[39m preferred_clock() \u001b[38;5;241m-\u001b[39m start\n",
      "File \u001b[0;32m~/anaconda3/envs/recoenv/lib/python3.11/site-packages/requests/adapters.py:519\u001b[0m, in \u001b[0;36mHTTPAdapter.send\u001b[0;34m(self, request, stream, timeout, verify, cert, proxies)\u001b[0m\n\u001b[1;32m    515\u001b[0m     \u001b[38;5;28;01mif\u001b[39;00m \u001b[38;5;28misinstance\u001b[39m(e\u001b[38;5;241m.\u001b[39mreason, _SSLError):\n\u001b[1;32m    516\u001b[0m         \u001b[38;5;66;03m# This branch is for urllib3 v1.22 and later.\u001b[39;00m\n\u001b[1;32m    517\u001b[0m         \u001b[38;5;28;01mraise\u001b[39;00m SSLError(e, request\u001b[38;5;241m=\u001b[39mrequest)\n\u001b[0;32m--> 519\u001b[0m     \u001b[38;5;28;01mraise\u001b[39;00m \u001b[38;5;167;01mConnectionError\u001b[39;00m(e, request\u001b[38;5;241m=\u001b[39mrequest)\n\u001b[1;32m    521\u001b[0m \u001b[38;5;28;01mexcept\u001b[39;00m ClosedPoolError \u001b[38;5;28;01mas\u001b[39;00m e:\n\u001b[1;32m    522\u001b[0m     \u001b[38;5;28;01mraise\u001b[39;00m \u001b[38;5;167;01mConnectionError\u001b[39;00m(e, request\u001b[38;5;241m=\u001b[39mrequest)\n",
      "\u001b[0;31mConnectionError\u001b[0m: HTTPConnectionPool(host='127.0.0.1', port=8000): Max retries exceeded with url: /get_feed (Caused by NewConnectionError('<urllib3.connection.HTTPConnection object at 0x11184af90>: Failed to establish a new connection: [Errno 61] Connection refused'))"
     ]
    }
   ],
   "source": [
    "res = requests.post(url=url, json = req)"
   ]
  },
  {
   "cell_type": "code",
   "execution_count": 14,
   "id": "dfeef896-9af3-4db7-881c-a9153c8f1ccd",
   "metadata": {
    "tags": []
   },
   "outputs": [
    {
     "data": {
      "text/plain": [
       "<Response [200]>"
      ]
     },
     "execution_count": 14,
     "metadata": {},
     "output_type": "execute_result"
    }
   ],
   "source": [
    "res"
   ]
  },
  {
   "cell_type": "code",
   "execution_count": 15,
   "id": "5dea285b-acb8-45f6-97fd-70fdce75a39c",
   "metadata": {
    "tags": []
   },
   "outputs": [
    {
     "data": {
      "text/plain": [
       "{'additionalInfo': {'653168e51e5cc42b1b13c0bc': {'article_a': 1.0,\n",
       "   'article_b': 10.0,\n",
       "   'cluster': 'coal_steel_mt_coal india_tata steel',\n",
       "   'cluster_id': 213.0,\n",
       "   'explicit_a': 1.0,\n",
       "   'explicit_b': 3.0,\n",
       "   'implicit_a': 0,\n",
       "   'implicit_b': 0,\n",
       "   'sample_probability': 0.402,\n",
       "   'storyline': 'coal imports_mt_ore_coal_nmdc'},\n",
       "  '653169941e5cc42b1b13d9ea': {'article_a': 1.0,\n",
       "   'article_b': 10.0,\n",
       "   'cluster': 'coal_steel_mt_coal india_tata steel',\n",
       "   'cluster_id': 213.0,\n",
       "   'explicit_a': 1.0,\n",
       "   'explicit_b': 3.0,\n",
       "   'implicit_a': 0,\n",
       "   'implicit_b': 0,\n",
       "   'sample_probability': 0.414,\n",
       "   'storyline': 'coal imports_mt_ore_coal_nmdc'},\n",
       "  '65316f531e5cc42b1b13f990': {'article_a': 1.0,\n",
       "   'article_b': 10.0,\n",
       "   'cluster': 'stocks_52 week_52_week_nifty',\n",
       "   'cluster_id': 173.0,\n",
       "   'explicit_a': 1.0,\n",
       "   'explicit_b': 3.0,\n",
       "   'implicit_a': 0,\n",
       "   'implicit_b': 0,\n",
       "   'sample_probability': 0.565,\n",
       "   'storyline': 'rsi_nifty_stocks_stocks rsi_10 stocks'},\n",
       "  '65316fb51e5cc42b1b1413ac': {'article_a': 1.0,\n",
       "   'article_b': 10.0,\n",
       "   'cluster': 'bank_rbi_loan_credit_banks',\n",
       "   'cluster_id': 203.0,\n",
       "   'explicit_a': 1.0,\n",
       "   'explicit_b': 3.0,\n",
       "   'implicit_a': 0,\n",
       "   'implicit_b': 0,\n",
       "   'sample_probability': 0.518,\n",
       "   'storyline': 'outlier'},\n",
       "  '65316fba1e5cc42b1b14157d': {'article_a': 1.0,\n",
       "   'article_b': 10.0,\n",
       "   'cluster': 'sales_electric_ev_units_vehicles',\n",
       "   'cluster_id': 207.0,\n",
       "   'explicit_a': 1.0,\n",
       "   'explicit_b': 3.0,\n",
       "   'implicit_a': 0,\n",
       "   'implicit_b': 0,\n",
       "   'sample_probability': 0.527,\n",
       "   'storyline': 'hero_sales_motocorp_hero motocorp_units'},\n",
       "  '65316ff41e5cc42b1b142b90': {'article_a': 1.0,\n",
       "   'article_b': 10.0,\n",
       "   'cluster': 'ipo_adani_papers_papers sebi_power',\n",
       "   'cluster_id': 192.0,\n",
       "   'explicit_a': 1.0,\n",
       "   'explicit_b': 3.0,\n",
       "   'implicit_a': 0,\n",
       "   'implicit_b': 0,\n",
       "   'sample_probability': 0.534,\n",
       "   'storyline': 'ipo_papers_papers sebi_files_sebi'},\n",
       "  '65316ff71e5cc42b1b142d1c': {'article_a': 1.0,\n",
       "   'article_b': 10.0,\n",
       "   'cluster': 'stocks_52 week_52_week_nifty',\n",
       "   'cluster_id': 173.0,\n",
       "   'explicit_a': 1.0,\n",
       "   'explicit_b': 3.0,\n",
       "   'implicit_a': 0,\n",
       "   'implicit_b': 0,\n",
       "   'sample_probability': 0.625,\n",
       "   'storyline': 'rsi_nifty_stocks_stocks rsi_10 stocks'},\n",
       "  '65316ff91e5cc42b1b142ded': {'article_a': 1.0,\n",
       "   'article_b': 10.0,\n",
       "   'cluster': 'coal_steel_mt_coal india_tata steel',\n",
       "   'cluster_id': 213.0,\n",
       "   'explicit_a': 1.0,\n",
       "   'explicit_b': 3.0,\n",
       "   'implicit_a': 0,\n",
       "   'implicit_b': 0,\n",
       "   'sample_probability': 0.442,\n",
       "   'storyline': 'jsw_jsw steel_steel_mt jsw_rises 58'},\n",
       "  '653170011e5cc42b1b143107': {'article_a': 1.0,\n",
       "   'article_b': 10.0,\n",
       "   'cluster': 'stocks_52 week_52_week_nifty',\n",
       "   'cluster_id': 173.0,\n",
       "   'explicit_a': 1.0,\n",
       "   'explicit_b': 3.0,\n",
       "   'implicit_a': 0,\n",
       "   'implicit_b': 0,\n",
       "   'sample_probability': 0.615,\n",
       "   'storyline': 'rsi_nifty_stocks_stocks rsi_10 stocks'},\n",
       "  '65367b2d1e5cc42b1b143ba8': {'article_a': 1.0,\n",
       "   'article_b': 10.0,\n",
       "   'cluster': 'irdai_life_insurance_insurers_lic',\n",
       "   'cluster_id': 126.0,\n",
       "   'explicit_a': 1.0,\n",
       "   'explicit_b': 3.0,\n",
       "   'implicit_a': 0,\n",
       "   'implicit_b': 0,\n",
       "   'sample_probability': 0.389,\n",
       "   'storyline': 'lic_insurance_life_general_insurers'}},\n",
       " 'feedArticles': [{'article_id': '65316ff71e5cc42b1b142d1c'},\n",
       "  {'article_id': '653170011e5cc42b1b143107'},\n",
       "  {'article_id': '65316f531e5cc42b1b13f990'},\n",
       "  {'article_id': '65316ff41e5cc42b1b142b90'},\n",
       "  {'article_id': '65316fba1e5cc42b1b14157d'},\n",
       "  {'article_id': '65316fb51e5cc42b1b1413ac'},\n",
       "  {'article_id': '65316ff91e5cc42b1b142ded'},\n",
       "  {'article_id': '653169941e5cc42b1b13d9ea'},\n",
       "  {'article_id': '653168e51e5cc42b1b13c0bc'},\n",
       "  {'article_id': '65367b2d1e5cc42b1b143ba8'}],\n",
       " 'model': 'thompson_sampling_v1'}"
      ]
     },
     "execution_count": 15,
     "metadata": {},
     "output_type": "execute_result"
    }
   ],
   "source": [
    "json.loads(res.text)"
   ]
  },
  {
   "cell_type": "code",
   "execution_count": 73,
   "id": "6db1aafd-bb7b-460c-ac1e-bc1994f8f65a",
   "metadata": {
    "tags": []
   },
   "outputs": [],
   "source": [
    "#     def _format_response(self, feed_articles_df, cluster_preferences):\n",
    "#         feed_articles_list = feed_articles_df[['article_id', 'cluster_id', 'a', 'b', 'sample_probability']].to_dict('records')\n",
    "#         additional_info = self._get_metadata_for_articles_clusters(feed_articles_list=feed_articles_list,\n",
    "#                                                                    cluster_preferences=cluster_preferences,\n",
    "#                                                                    cluster_names=self.cluster_names)\n",
    "#         feed_articles_list = [{'article_id': x['article_id']} for x in feed_articles_list]\n",
    "#         # 'additionalInfo': additional_info\n",
    "#         feed_response = {'feedArticles': feed_articles_list, 'model': 'thompson_sampling_v1', 'additionalInfo': additional_info}\n",
    "#         # print(feed_response)\n",
    "#         return feed_response\n",
    "\n",
    "#     @staticmethod\n",
    "#     def _get_metadata_for_articles_clusters(feed_articles_list, cluster_preferences, cluster_names):\n",
    "#         article_id_list = [x['article_id'] for x in feed_articles_list]\n",
    "#         article_storyline_clusters = ClusteringSQL.get_storyline_cluster_ids_for_article_id_list(article_id_list)\n",
    "\n",
    "#         additional_info = {}\n",
    "#         for article_data in feed_articles_list:\n",
    "#             article_id = article_data['article_id']\n",
    "#             storyline_id = article_storyline_clusters[article_id]['storyline_id']\n",
    "#             cluster_id = article_storyline_clusters[article_id]['cluster_id']\n",
    "#             cur_additional_info = {key: article_data[key] for key in ['cluster_id', 'sample_probability']}\n",
    "\n",
    "#             cur_additional_info['article_a'] = round(article_data['a'], 3)\n",
    "#             cur_additional_info['article_b'] = round(article_data['b'], 3)\n",
    "#             cur_additional_info['storyline'] = cluster_names.get(storyline_id, 'outlier')\n",
    "#             cur_additional_info['cluster'] = cluster_names[cluster_id]\n",
    "#             cur_additional_info['implicit_a'] = round(cluster_preferences[cluster_id]['implicit_a'], 3)\n",
    "#             cur_additional_info['explicit_a'] = round(cluster_preferences[cluster_id]['explicit_a'], 3)\n",
    "#             cur_additional_info['implicit_b'] = round(cluster_preferences[cluster_id]['implicit_b'], 3)\n",
    "#             cur_additional_info['explicit_b'] = round(cluster_preferences[cluster_id]['explicit_b'], 3)\n",
    "#             cur_additional_info['sample_probability'] = round(cur_additional_info['sample_probability'], 3)\n",
    "#             additional_info[article_id] = cur_additional_info\n",
    "\n",
    "#         return additional_info"
   ]
  },
  {
   "cell_type": "code",
   "execution_count": 23,
   "id": "0b1e2efc-6dee-404d-813a-9b8c25f24522",
   "metadata": {
    "tags": []
   },
   "outputs": [],
   "source": [
    "r = json.loads(res.text)"
   ]
  },
  {
   "cell_type": "code",
   "execution_count": 32,
   "id": "ad9eb253-0edd-4c73-9977-9bc835dff056",
   "metadata": {
    "tags": []
   },
   "outputs": [],
   "source": [
    "url2 = 'https://cb10-14-98-233-90.ngrok.io/get_feed'"
   ]
  },
  {
   "cell_type": "code",
   "execution_count": 33,
   "id": "36af6006-118c-4e98-b8fa-4167a4c3a954",
   "metadata": {
    "tags": []
   },
   "outputs": [],
   "source": [
    "res = requests.post(url=url2, json = req)"
   ]
  },
  {
   "cell_type": "code",
   "execution_count": 34,
   "id": "149e5ccf-5ae0-40a6-9fc6-2328e212695d",
   "metadata": {
    "tags": []
   },
   "outputs": [],
   "source": [
    "r = json.loads(res.text)"
   ]
  },
  {
   "cell_type": "code",
   "execution_count": 172,
   "id": "803524a7-b5a5-4f1f-8b4e-8dd058e67dcd",
   "metadata": {
    "tags": []
   },
   "outputs": [
    {
     "data": {
      "text/plain": [
       "8"
      ]
     },
     "execution_count": 172,
     "metadata": {},
     "output_type": "execute_result"
    }
   ],
   "source": [
    "len(r.keys())"
   ]
  },
  {
   "cell_type": "code",
   "execution_count": 97,
   "id": "d209fe26-bddb-471c-b9a0-8a7211647527",
   "metadata": {
    "tags": []
   },
   "outputs": [
    {
     "data": {
      "text/plain": [
       "16"
      ]
     },
     "execution_count": 97,
     "metadata": {},
     "output_type": "execute_result"
    }
   ],
   "source": [
    "len(r['feedArticles'])"
   ]
  },
  {
   "cell_type": "code",
   "execution_count": 93,
   "id": "d598484a-87d5-4e0a-b8d3-7ef62439db51",
   "metadata": {
    "tags": []
   },
   "outputs": [],
   "source": [
    "clu = {185: 0, 203: 2, 176: 2, 196: 2, 108: 2, 194: 2, 191: 2, 201: 2, 180: 2, 146: 2}"
   ]
  },
  {
   "cell_type": "code",
   "execution_count": 79,
   "id": "9ae83680-746a-4822-949b-ebc39857dc6b",
   "metadata": {
    "tags": []
   },
   "outputs": [],
   "source": [
    "import numpy as np"
   ]
  },
  {
   "cell_type": "code",
   "execution_count": 85,
   "id": "e16216c2-ff36-4c76-b495-5435d2ac7847",
   "metadata": {
    "tags": []
   },
   "outputs": [],
   "source": [
    "import pandas as pd"
   ]
  },
  {
   "cell_type": "code",
   "execution_count": 81,
   "id": "9da37db0-77f2-4d81-bfca-d9212f4d2561",
   "metadata": {
    "tags": []
   },
   "outputs": [
    {
     "data": {
      "text/plain": [
       "191"
      ]
     },
     "execution_count": 81,
     "metadata": {},
     "output_type": "execute_result"
    }
   ],
   "source": [
    "np.random.choice(list(clu.keys()))"
   ]
  },
  {
   "cell_type": "code",
   "execution_count": 82,
   "id": "214bafeb-85f6-4e37-b9dc-989e99990e18",
   "metadata": {
    "tags": []
   },
   "outputs": [
    {
     "data": {
      "text/plain": [
       "0.5499471193723516"
      ]
     },
     "execution_count": 82,
     "metadata": {},
     "output_type": "execute_result"
    }
   ],
   "source": [
    "np.random.rand()"
   ]
  },
  {
   "cell_type": "code",
   "execution_count": 83,
   "id": "852b3b0c-7afa-4075-8fc8-71bf44c9802b",
   "metadata": {
    "tags": []
   },
   "outputs": [],
   "source": [
    "lst = []\n",
    "for i in range(1800):\n",
    "    random_clu = np.random.choice(list(clu.keys()))\n",
    "    article_id = i\n",
    "    prob = np.random.rand()\n",
    "    lst.append((random_clu, article_id, prob))"
   ]
  },
  {
   "cell_type": "code",
   "execution_count": 88,
   "id": "b6367b20-0aad-484c-9ff2-8654a1d4fea1",
   "metadata": {
    "tags": []
   },
   "outputs": [],
   "source": [
    "df = pd.DataFrame(lst, columns = ['cluster_id', 'article_id', 'sample_probability'])"
   ]
  },
  {
   "cell_type": "code",
   "execution_count": 89,
   "id": "ceca4c11-ec21-4299-9f9f-869b695c1083",
   "metadata": {
    "tags": []
   },
   "outputs": [],
   "source": [
    "def _select_top_probability_articles(df, cluster_doc_counts):\n",
    "    # Group the DataFrame by cluster_id and then apply the selection function for each group\n",
    "    top_articles = df.groupby('cluster_id').apply(lambda group: group.nlargest(int(cluster_doc_counts.get(group.name, 0)), 'sample_probability'))\n",
    "    # Remove the extra group-by index and reset the DataFrame index\n",
    "    top_articles.reset_index(drop=True, inplace=True)\n",
    "    top_articles.sort_values(by='sample_probability', ascending=False, inplace=True)\n",
    "    return top_articles"
   ]
  },
  {
   "cell_type": "code",
   "execution_count": 94,
   "id": "f7615ea3-8c21-4069-b801-871f5b0aeec7",
   "metadata": {
    "tags": []
   },
   "outputs": [
    {
     "data": {
      "text/plain": [
       "18"
      ]
     },
     "execution_count": 94,
     "metadata": {},
     "output_type": "execute_result"
    }
   ],
   "source": [
    "len(_select_top_probability_articles(df=df,cluster_doc_counts=clu))"
   ]
  },
  {
   "cell_type": "code",
   "execution_count": 73,
   "id": "87d3ade4-be57-4c2f-939e-4a46f42ac956",
   "metadata": {
    "scrolled": true,
    "tags": []
   },
   "outputs": [
    {
     "data": {
      "text/plain": [
       "[{'a': 1.0,\n",
       "  'article_id': '651dc596a662d76276b7b47a',\n",
       "  'b': 7.0,\n",
       "  'cluster_id': 191.0,\n",
       "  'sample_probability': 0.6162506687510576},\n",
       " {'a': 1.0,\n",
       "  'article_id': '651dd15fa662d76276b7d4c0',\n",
       "  'b': 7.0,\n",
       "  'cluster_id': 191.0,\n",
       "  'sample_probability': 0.5888650936788915},\n",
       " {'a': 1.0,\n",
       "  'article_id': '651de316a662d76276b80363',\n",
       "  'b': 7.0,\n",
       "  'cluster_id': 194.0,\n",
       "  'sample_probability': 0.5520732209438532},\n",
       " {'a': 1.0,\n",
       "  'article_id': '651ddcdaa662d76276b7f2b7',\n",
       "  'b': 7.0,\n",
       "  'cluster_id': 194.0,\n",
       "  'sample_probability': 0.5256774415610401},\n",
       " {'a': 1.0,\n",
       "  'article_id': '651dd3bfa662d76276b7dba8',\n",
       "  'b': 7.0,\n",
       "  'cluster_id': 201.0,\n",
       "  'sample_probability': 0.5153079113621734},\n",
       " {'a': 1.0,\n",
       "  'article_id': '651dc76aa662d76276b7b949',\n",
       "  'b': 7.0,\n",
       "  'cluster_id': 188.0,\n",
       "  'sample_probability': 0.510185981663609},\n",
       " {'a': 1.0,\n",
       "  'article_id': '651dddf9a662d76276b7f596',\n",
       "  'b': 7.0,\n",
       "  'cluster_id': 180.0,\n",
       "  'sample_probability': 0.4423346875898096},\n",
       " {'a': 1.0,\n",
       "  'article_id': '651e170ca662d76276b882e3',\n",
       "  'b': 7.0,\n",
       "  'cluster_id': 180.0,\n",
       "  'sample_probability': 0.39104301886643356},\n",
       " {'a': 1.0,\n",
       "  'article_id': '651dd22ba662d76276b7d73a',\n",
       "  'b': 7.0,\n",
       "  'cluster_id': 201.0,\n",
       "  'sample_probability': 0.38338041650712895},\n",
       " {'a': 1.0,\n",
       "  'article_id': '651e1276a662d76276b87843',\n",
       "  'b': 7.0,\n",
       "  'cluster_id': 203.0,\n",
       "  'sample_probability': 0.3196229578005168},\n",
       " {'a': 1.0,\n",
       "  'article_id': '651e0035a662d76276b84c70',\n",
       "  'b': 7.0,\n",
       "  'cluster_id': 203.0,\n",
       "  'sample_probability': 0.2575897356652775},\n",
       " {'a': 1.0,\n",
       "  'article_id': '651e0c71a662d76276b86a0f',\n",
       "  'b': 7.0,\n",
       "  'cluster_id': 203.0,\n",
       "  'sample_probability': 0.1947303091801685}]"
      ]
     },
     "execution_count": 73,
     "metadata": {},
     "output_type": "execute_result"
    }
   ],
   "source": [
    "json.loads(res.text)['feedArticles']"
   ]
  },
  {
   "cell_type": "code",
   "execution_count": 65,
   "id": "187a1498-b603-4d5b-8d92-49689841c25d",
   "metadata": {
    "scrolled": true,
    "tags": []
   },
   "outputs": [
    {
     "data": {
      "text/plain": [
       "[{'a': 1.0,\n",
       "  'article_id': '651dd410a662d76276b7dc86',\n",
       "  'b': 10.0,\n",
       "  'cluster_id': 203,\n",
       "  'sample_probability': 0.5635098565429715},\n",
       " {'a': 1.0,\n",
       "  'article_id': '651de2dda662d76276b802bc',\n",
       "  'b': 10.0,\n",
       "  'cluster_id': 191,\n",
       "  'sample_probability': 0.5464222676214763},\n",
       " {'a': 1.0,\n",
       "  'article_id': '651e1195a662d76276b87626',\n",
       "  'b': 10.0,\n",
       "  'cluster_id': 191,\n",
       "  'sample_probability': 0.5321408540911116},\n",
       " {'a': 1.0,\n",
       "  'article_id': '651e14d3a662d76276b87da2',\n",
       "  'b': 10.0,\n",
       "  'cluster_id': 205,\n",
       "  'sample_probability': 0.5155005207114178},\n",
       " {'a': 1.0,\n",
       "  'article_id': '651e0a2ba662d76276b864c4',\n",
       "  'b': 10.0,\n",
       "  'cluster_id': 194,\n",
       "  'sample_probability': 0.5065280007160227},\n",
       " {'a': 1.0,\n",
       "  'article_id': '651de20da662d76276b80084',\n",
       "  'b': 10.0,\n",
       "  'cluster_id': 191,\n",
       "  'sample_probability': 0.5034838576158993},\n",
       " {'a': 1.0,\n",
       "  'article_id': '651e141aa662d76276b87bf0',\n",
       "  'b': 10.0,\n",
       "  'cluster_id': 191,\n",
       "  'sample_probability': 0.49888294166395936},\n",
       " {'a': 1.0,\n",
       "  'article_id': '651deb1ea662d76276b81891',\n",
       "  'b': 10.0,\n",
       "  'cluster_id': 191,\n",
       "  'sample_probability': 0.4939807719740613},\n",
       " {'a': 1.0,\n",
       "  'article_id': '651e2657a662d76276b8a6f8',\n",
       "  'b': 10.0,\n",
       "  'cluster_id': 191,\n",
       "  'sample_probability': 0.47286961038820313},\n",
       " {'a': 1.0,\n",
       "  'article_id': '651de028a662d76276b7fb94',\n",
       "  'b': 10.0,\n",
       "  'cluster_id': 194,\n",
       "  'sample_probability': 0.4674754377583554},\n",
       " {'a': 1.0,\n",
       "  'article_id': '651dd865a662d76276b7e715',\n",
       "  'b': 10.0,\n",
       "  'cluster_id': 194,\n",
       "  'sample_probability': 0.466997720829252},\n",
       " {'a': 1.0,\n",
       "  'article_id': '651e041fa662d76276b8567c',\n",
       "  'b': 10.0,\n",
       "  'cluster_id': 194,\n",
       "  'sample_probability': 0.44956284594195506},\n",
       " {'a': 1.0,\n",
       "  'article_id': '651e0b2fa662d76276b86732',\n",
       "  'b': 10.0,\n",
       "  'cluster_id': 194,\n",
       "  'sample_probability': 0.4064271172673674},\n",
       " {'a': 1.0,\n",
       "  'article_id': '651df2c0a662d76276b82c95',\n",
       "  'b': 10.0,\n",
       "  'cluster_id': 194,\n",
       "  'sample_probability': 0.4053997229289617},\n",
       " {'a': 1.0,\n",
       "  'article_id': '651e1afaa662d76276b88bf8',\n",
       "  'b': 10.0,\n",
       "  'cluster_id': 194,\n",
       "  'sample_probability': 0.40396020088498014},\n",
       " {'a': 1.0,\n",
       "  'article_id': '651ded97a662d76276b81ef5',\n",
       "  'b': 10.0,\n",
       "  'cluster_id': 194,\n",
       "  'sample_probability': 0.39862231260595776}]"
      ]
     },
     "execution_count": 65,
     "metadata": {},
     "output_type": "execute_result"
    }
   ],
   "source": [
    "json.loads(res.text)['feedArticles']"
   ]
  },
  {
   "cell_type": "code",
   "execution_count": null,
   "id": "8559a37c-4635-4ab6-8528-a2b077245f11",
   "metadata": {},
   "outputs": [],
   "source": []
  }
 ],
 "metadata": {
  "kernelspec": {
   "display_name": "recoenv",
   "language": "python",
   "name": "recoenv"
  },
  "language_info": {
   "codemirror_mode": {
    "name": "ipython",
    "version": 3
   },
   "file_extension": ".py",
   "mimetype": "text/x-python",
   "name": "python",
   "nbconvert_exporter": "python",
   "pygments_lexer": "ipython3",
   "version": "3.11.5"
  }
 },
 "nbformat": 4,
 "nbformat_minor": 5
}
