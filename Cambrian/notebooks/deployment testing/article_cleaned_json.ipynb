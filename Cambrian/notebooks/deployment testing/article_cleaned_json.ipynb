{
 "cells": [
  {
   "cell_type": "code",
   "execution_count": 10,
   "id": "7b619763-7aa4-4ff5-9392-5fa14842e7b8",
   "metadata": {
    "tags": []
   },
   "outputs": [],
   "source": [
    "import json"
   ]
  },
  {
   "cell_type": "code",
   "execution_count": 19,
   "id": "361e5a32-0cd9-41ff-ab1f-3c65f1ee49d9",
   "metadata": {
    "tags": []
   },
   "outputs": [],
   "source": [
    "import boto3"
   ]
  },
  {
   "cell_type": "code",
   "execution_count": 67,
   "id": "4f6bc0d5-d328-45be-8832-bd7204f51112",
   "metadata": {
    "tags": []
   },
   "outputs": [],
   "source": [
    "from dataclasses import dataclass\n",
    "from datetime import datetime"
   ]
  },
  {
   "cell_type": "code",
   "execution_count": 20,
   "id": "cbdbc399-5550-47c9-a195-6baeb423b75e",
   "metadata": {
    "tags": []
   },
   "outputs": [],
   "source": [
    "import boto3\n",
    "import logging\n",
    "from io import BytesIO\n",
    "\n",
    "def read_and_parse_s3_file(bucket_name, document_id):\n",
    "    \"\"\"\n",
    "    Read and parse a text file directly from an S3 bucket.\n",
    "\n",
    "    Parameters:\n",
    "        bucket_name (str): The name of the S3 bucket.\n",
    "        document_id (str): The document ID used to construct the object key.\n",
    "\n",
    "    Returns:\n",
    "        list: A list of lines from the S3 object, or None if the read or parsing fails.\n",
    "    \"\"\"\n",
    "    \n",
    "    # Initialize a session using Amazon S3\n",
    "    s3 = boto3.client('s3')\n",
    "    \n",
    "    # Construct the object key (this will depend on your specific use-case)\n",
    "    object_key = f\"{document_id}/cleaned_data.json\"  # assuming it's a text file\n",
    "\n",
    "    try:\n",
    "        # Read the object into a bytes buffer\n",
    "        s3_object = s3.get_object(Bucket=bucket_name, Key=object_key)\n",
    "        s3_data = s3_object['Body'].read()\n",
    "\n",
    "        # Decode bytes buffer to string\n",
    "        text_content = s3_data.decode('utf-8')\n",
    "\n",
    "        # Parse the text content into lines\n",
    "        lines = text_content.split('\\n')\n",
    "\n",
    "        return lines\n",
    "    except Exception as e:\n",
    "        logging.error(f\"An error occurred: {e}\")\n",
    "        return None"
   ]
  },
  {
   "cell_type": "code",
   "execution_count": 30,
   "id": "26e14272-477f-4636-a918-b2942770b91e",
   "metadata": {
    "tags": []
   },
   "outputs": [],
   "source": [
    "bucket_name = 'insight-articles-content'"
   ]
  },
  {
   "cell_type": "code",
   "execution_count": 31,
   "id": "04930493-d137-4f8d-a455-98a0cde24d45",
   "metadata": {
    "tags": []
   },
   "outputs": [],
   "source": [
    "document_id = '650ad82bdd0346575c9ab68e'\n",
    "object_key = f\"{document_id}/cleaned_data.json\""
   ]
  },
  {
   "cell_type": "code",
   "execution_count": 37,
   "id": "30ba24f0-5028-4c4b-817d-d05bf1859c0d",
   "metadata": {
    "tags": []
   },
   "outputs": [],
   "source": [
    "s3_object = s3.get_object(Bucket=bucket_name, Key=object_key)"
   ]
  },
  {
   "cell_type": "code",
   "execution_count": 38,
   "id": "b4e2f7bf-add7-492e-85ee-7eb2957eaae4",
   "metadata": {
    "tags": []
   },
   "outputs": [],
   "source": [
    "k = json.loads(s3_object['Body'].read())"
   ]
  },
  {
   "cell_type": "code",
   "execution_count": 62,
   "id": "fd23701a-bd55-4207-8706-c18142d3a9e8",
   "metadata": {
    "tags": []
   },
   "outputs": [
    {
     "data": {
      "text/plain": [
       "dict_keys(['meta_data', 'cleaned_text', 'article_images'])"
      ]
     },
     "execution_count": 62,
     "metadata": {},
     "output_type": "execute_result"
    }
   ],
   "source": [
    "k.keys()"
   ]
  },
  {
   "cell_type": "code",
   "execution_count": 63,
   "id": "66b7d00f-3493-4969-89d7-eda8daab98cd",
   "metadata": {
    "tags": []
   },
   "outputs": [
    {
     "data": {
      "text/plain": [
       "dict_keys(['is_premium_article', 'title', 'short_description', 'published_time', 'last_updated_time', 'tags', 'image_url', 'author'])"
      ]
     },
     "execution_count": 63,
     "metadata": {},
     "output_type": "execute_result"
    }
   ],
   "source": [
    "k['meta_data'].keys()"
   ]
  },
  {
   "cell_type": "code",
   "execution_count": 45,
   "id": "b30e091f-8934-46c8-805c-5c81dfa347bf",
   "metadata": {
    "tags": []
   },
   "outputs": [
    {
     "data": {
      "text/plain": [
       "['can', 'last', 'for', 'many', 'years,', 'often', 'a', 'decade', 'or', 'more.']"
      ]
     },
     "execution_count": 45,
     "metadata": {},
     "output_type": "execute_result"
    }
   ],
   "source": [
    "k['cleaned_text'].split(' ')[-10:]"
   ]
  },
  {
   "cell_type": "code",
   "execution_count": 68,
   "id": "e8d90091-6ac1-49ed-80f3-21be22cc2252",
   "metadata": {
    "tags": []
   },
   "outputs": [],
   "source": [
    "@dataclass\n",
    "class MetaData:\n",
    "    is_premium_article: bool\n",
    "    title: str\n",
    "    short_description: str\n",
    "    published_time: datetime\n",
    "\n",
    "@dataclass\n",
    "class Article:\n",
    "    meta_data: MetaData\n",
    "    cleaned_text: str"
   ]
  },
  {
   "cell_type": "code",
   "execution_count": 73,
   "id": "0ac418f4-1691-41fc-9b0d-484d27d5afe4",
   "metadata": {
    "tags": []
   },
   "outputs": [],
   "source": [
    "filtered_dict = {k1: v for k1, v in k['meta_data'].items() if k1 in MetaData.__annotations__}"
   ]
  },
  {
   "cell_type": "code",
   "execution_count": 74,
   "id": "9825cc00-2f86-4a9b-8515-3e631d83c075",
   "metadata": {
    "tags": []
   },
   "outputs": [],
   "source": [
    "meta_data = MetaData(**filtered_dict)"
   ]
  },
  {
   "cell_type": "code",
   "execution_count": 78,
   "id": "dab39994-e250-4766-ab82-72cecc7cfe3d",
   "metadata": {
    "tags": []
   },
   "outputs": [],
   "source": [
    "from dataclasses import dataclass, InitVar, field"
   ]
  },
  {
   "cell_type": "code",
   "execution_count": 100,
   "id": "4c55f744-325e-4067-a29c-a381e7be4839",
   "metadata": {
    "tags": []
   },
   "outputs": [
    {
     "data": {
      "text/plain": [
       "dict_keys(['is_premium_article', 'title', 'short_description', 'published_time', 'last_updated_time', 'tags', 'image_url', 'author'])"
      ]
     },
     "execution_count": 100,
     "metadata": {},
     "output_type": "execute_result"
    }
   ],
   "source": [
    "k['meta_data'].keys()"
   ]
  },
  {
   "cell_type": "code",
   "execution_count": 111,
   "id": "08db9e36-45f6-416f-8042-0e5c730ccb87",
   "metadata": {
    "tags": []
   },
   "outputs": [],
   "source": [
    "filtered_dict = {k1: v for k1, v in k.items() if k1 in Article.__annotations__}"
   ]
  },
  {
   "cell_type": "code",
   "execution_count": 112,
   "id": "d688305c-07e6-4bf7-a9a4-483fc2078f2a",
   "metadata": {},
   "outputs": [],
   "source": [
    "s = Article(**filtered_dict)"
   ]
  },
  {
   "cell_type": "code",
   "execution_count": 115,
   "id": "868fd1d6-cb05-4139-99ed-6bb1f530e74e",
   "metadata": {
    "tags": []
   },
   "outputs": [],
   "source": [
    "import re"
   ]
  },
  {
   "cell_type": "code",
   "execution_count": 117,
   "id": "a183997c-88de-47d5-bd55-1ecd71f8b50e",
   "metadata": {
    "tags": []
   },
   "outputs": [],
   "source": [
    "a = None"
   ]
  },
  {
   "cell_type": "code",
   "execution_count": 119,
   "id": "389c68ef-d30f-49d7-8ebb-1016a3075919",
   "metadata": {
    "tags": []
   },
   "outputs": [
    {
     "name": "stdout",
     "output_type": "stream",
     "text": [
      "d\n"
     ]
    }
   ],
   "source": [
    "if 'abc':\n",
    "    print('d')"
   ]
  },
  {
   "cell_type": "code",
   "execution_count": 118,
   "id": "659f2122-d714-424c-9283-81c5e974e2b6",
   "metadata": {
    "tags": []
   },
   "outputs": [
    {
     "name": "stdout",
     "output_type": "stream",
     "text": [
      "k\n"
     ]
    }
   ],
   "source": [
    "if not a:\n",
    "    print('k')"
   ]
  },
  {
   "cell_type": "code",
   "execution_count": 103,
   "id": "6b2130bd-8c36-40a1-bdb3-a3c637cf9874",
   "metadata": {
    "tags": []
   },
   "outputs": [],
   "source": [
    "@dataclass\n",
    "class Article:\n",
    "    cleaned_text: str\n",
    "    meta_data: InitVar[dict]\n",
    "    is_premium_article: bool | None = None\n",
    "    title: str | None = None\n",
    "\n",
    "    def __post_init__(self, meta_data):\n",
    "        self.is_premium_article = meta_data.get('is_premium_article')\n",
    "        self.title = meta_data.get('title')"
   ]
  },
  {
   "cell_type": "code",
   "execution_count": 50,
   "id": "7a3132e3-2f0a-45d7-9bf1-57c5d4983d86",
   "metadata": {
    "tags": []
   },
   "outputs": [
    {
     "data": {
      "text/plain": [
       "['1949']"
      ]
     },
     "execution_count": 50,
     "metadata": {},
     "output_type": "execute_result"
    }
   ],
   "source": [
    "[x for x in txt.split(' ') if x == '1949']"
   ]
  },
  {
   "cell_type": "code",
   "execution_count": 52,
   "id": "e18a3d89-1f3a-45ad-966e-3034c6d5103b",
   "metadata": {
    "tags": []
   },
   "outputs": [
    {
     "data": {
      "text/plain": [
       "[]"
      ]
     },
     "execution_count": 52,
     "metadata": {},
     "output_type": "execute_result"
    }
   ],
   "source": [
    "[x for x in k['cleaned_text'].split(' ') if x == 1949]"
   ]
  },
  {
   "cell_type": "code",
   "execution_count": 49,
   "id": "c18d3b37-1723-4057-82e5-73bdbb8df23f",
   "metadata": {
    "tags": []
   },
   "outputs": [
    {
     "data": {
      "text/plain": [
       "2162"
      ]
     },
     "execution_count": 49,
     "metadata": {},
     "output_type": "execute_result"
    }
   ],
   "source": [
    "len(txt.split(' '))"
   ]
  },
  {
   "cell_type": "code",
   "execution_count": 47,
   "id": "e6ab3dc7-4733-49e3-984d-cd3a6b286b82",
   "metadata": {
    "tags": []
   },
   "outputs": [
    {
     "data": {
      "text/plain": [
       "19591"
      ]
     },
     "execution_count": 47,
     "metadata": {},
     "output_type": "execute_result"
    }
   ],
   "source": [
    "len(k['cleaned_text'].split(' '))"
   ]
  },
  {
   "cell_type": "code",
   "execution_count": 33,
   "id": "32164e3f-d7ad-466b-90b2-5492beb6d4fb",
   "metadata": {
    "tags": []
   },
   "outputs": [
    {
     "data": {
      "text/plain": [
       "{'ResponseMetadata': {'RequestId': 'SY28RSPT1X0VE6KK',\n",
       "  'HostId': 'NzGZqt5IhCLckaS8D03BnuVexw1QH+Dzgi2MInijHqdnpmgcjYzBMynCbqqn5+Go1f8BV2ikKsheGAz0q0ct1w==',\n",
       "  'HTTPStatusCode': 200,\n",
       "  'HTTPHeaders': {'x-amz-id-2': 'NzGZqt5IhCLckaS8D03BnuVexw1QH+Dzgi2MInijHqdnpmgcjYzBMynCbqqn5+Go1f8BV2ikKsheGAz0q0ct1w==',\n",
       "   'x-amz-request-id': 'SY28RSPT1X0VE6KK',\n",
       "   'date': 'Wed, 20 Sep 2023 12:33:35 GMT',\n",
       "   'last-modified': 'Wed, 20 Sep 2023 11:32:06 GMT',\n",
       "   'etag': '\"db4e79626a4625cf3a5ed233ea216258\"',\n",
       "   'x-amz-server-side-encryption': 'AES256',\n",
       "   'accept-ranges': 'bytes',\n",
       "   'content-type': 'binary/octet-stream',\n",
       "   'server': 'AmazonS3',\n",
       "   'content-length': '139478'},\n",
       "  'RetryAttempts': 1},\n",
       " 'AcceptRanges': 'bytes',\n",
       " 'LastModified': datetime.datetime(2023, 9, 20, 11, 32, 6, tzinfo=tzutc()),\n",
       " 'ContentLength': 139478,\n",
       " 'ETag': '\"db4e79626a4625cf3a5ed233ea216258\"',\n",
       " 'ContentType': 'binary/octet-stream',\n",
       " 'ServerSideEncryption': 'AES256',\n",
       " 'Metadata': {},\n",
       " 'Body': <botocore.response.StreamingBody at 0x1099e12a0>}"
      ]
     },
     "execution_count": 33,
     "metadata": {},
     "output_type": "execute_result"
    }
   ],
   "source": [
    "s3_object"
   ]
  },
  {
   "cell_type": "code",
   "execution_count": null,
   "id": "bd63e55d-4e20-4bcd-adea-1054833b4309",
   "metadata": {},
   "outputs": [],
   "source": [
    "read_and_parse_s3_file(bucket_name='insight-articles-content')"
   ]
  },
  {
   "cell_type": "code",
   "execution_count": 11,
   "id": "f3128413-b22b-4000-9fc0-35b94917801d",
   "metadata": {
    "tags": []
   },
   "outputs": [],
   "source": [
    "with open('cleaned_data.json', 'rb') as f:\n",
    "    k = json.load(f)"
   ]
  },
  {
   "cell_type": "code",
   "execution_count": 14,
   "id": "fc5556b0-5926-4511-ba26-1773269a08cf",
   "metadata": {
    "tags": []
   },
   "outputs": [
    {
     "data": {
      "text/plain": [
       "'Ola Electric eyes IPO filing by end-October in expedited listing plan: Report | Mint'"
      ]
     },
     "execution_count": 14,
     "metadata": {},
     "output_type": "execute_result"
    }
   ],
   "source": [
    "k['meta_data']['title']"
   ]
  },
  {
   "cell_type": "code",
   "execution_count": 18,
   "id": "6614ed9e-5e35-4bec-87dc-54a6210f0d4f",
   "metadata": {
    "tags": []
   },
   "outputs": [
    {
     "ename": "SyntaxError",
     "evalue": "incomplete input (2210104687.py, line 1)",
     "output_type": "error",
     "traceback": [
      "\u001b[0;36m  Cell \u001b[0;32mIn[18], line 1\u001b[0;36m\u001b[0m\n\u001b[0;31m    k['cleaned_text'].replace('\\'', ''')\u001b[0m\n\u001b[0m                                    ^\u001b[0m\n\u001b[0;31mSyntaxError\u001b[0m\u001b[0;31m:\u001b[0m incomplete input\n"
     ]
    }
   ],
   "source": [
    "k['cleaned_text'].replace('\\'', ''')"
   ]
  },
  {
   "cell_type": "code",
   "execution_count": 132,
   "id": "958552bc-fdc7-498a-a824-c1b119e79e4d",
   "metadata": {
    "tags": []
   },
   "outputs": [],
   "source": [
    "def get_article_data_from_s3(article_id: str):\n",
    "    # TODO: - move credentials to conf/env variable\n",
    "    # TODO: - move this to a class perhaps?\n",
    "    bucket_name = 'insight-articles-content'\n",
    "    object_key = f\"{article_id}/cleaned_data.json\"\n",
    "    s3_object = s3.get_object(Bucket=bucket_name, Key=object_key)\n",
    "    article_json = json.loads(s3_object['Body'].read())\n",
    "    if validate_article_json(article_json=article_json, article_id=article_id):\n",
    "        return article_json\n",
    "    else:\n",
    "        return None"
   ]
  },
  {
   "cell_type": "code",
   "execution_count": 124,
   "id": "343fa923-49c2-4dfd-b296-fc93c76d78b6",
   "metadata": {
    "tags": []
   },
   "outputs": [],
   "source": [
    "article_id = '650d15327946741de369232c'"
   ]
  },
  {
   "cell_type": "code",
   "execution_count": 125,
   "id": "953bf0c9-b4f1-4301-8274-e1e29ea10519",
   "metadata": {
    "tags": []
   },
   "outputs": [],
   "source": [
    "bucket_name = 'insight-articles-content'\n",
    "object_key = f\"{article_id}/cleaned_data.json\"\n",
    "s3_object = s3.get_object(Bucket=bucket_name, Key=object_key)"
   ]
  },
  {
   "cell_type": "code",
   "execution_count": 128,
   "id": "beb88c7f-9285-49ff-bb26-4a57ba1e1c68",
   "metadata": {
    "tags": []
   },
   "outputs": [],
   "source": [
    "k = s3_object['Body'].read()"
   ]
  },
  {
   "cell_type": "code",
   "execution_count": 135,
   "id": "0705ef39-15ce-44f3-84cc-65f486cea9e5",
   "metadata": {},
   "outputs": [],
   "source": [
    "k1 = json.loads(k)"
   ]
  },
  {
   "cell_type": "code",
   "execution_count": 2,
   "id": "1ef0914b-4616-4e9a-b733-384fa58f5b6c",
   "metadata": {
    "tags": []
   },
   "outputs": [
    {
     "ename": "NameError",
     "evalue": "name 'true' is not defined",
     "output_type": "error",
     "traceback": [
      "\u001b[0;31m---------------------------------------------------------------------------\u001b[0m",
      "\u001b[0;31mNameError\u001b[0m                                 Traceback (most recent call last)",
      "Cell \u001b[0;32mIn[2], line 1\u001b[0m\n\u001b[0;32m----> 1\u001b[0m data \u001b[38;5;241m=\u001b[39m {\u001b[38;5;124m\"\u001b[39m\u001b[38;5;124mmeta_data\u001b[39m\u001b[38;5;124m\"\u001b[39m: {\u001b[38;5;124m\"\u001b[39m\u001b[38;5;124mis_premium_article\u001b[39m\u001b[38;5;124m\"\u001b[39m: true, \u001b[38;5;124m\"\u001b[39m\u001b[38;5;124mtitle\u001b[39m\u001b[38;5;124m\"\u001b[39m: \u001b[38;5;124m\"\u001b[39m\u001b[38;5;124mMint Explainer: Why Trai wants to cut the entry fees for various licences | Mint\u001b[39m\u001b[38;5;124m\"\u001b[39m, \u001b[38;5;124m\"\u001b[39m\u001b[38;5;124mshort_description\u001b[39m\u001b[38;5;124m\"\u001b[39m: \u001b[38;5;124m\"\u001b[39m\u001b[38;5;124mThe telecom regulator has proposed reducing the entry fees for a number of licences and rationalising bank guarantees that service providers give the government\u001b[39m\u001b[38;5;124m\"\u001b[39m, \u001b[38;5;124m\"\u001b[39m\u001b[38;5;124mpublished_time\u001b[39m\u001b[38;5;124m\"\u001b[39m: \u001b[38;5;124m\"\u001b[39m\u001b[38;5;124m2023-09-20T16:03:19+05:30\u001b[39m\u001b[38;5;124m\"\u001b[39m, \u001b[38;5;124m\"\u001b[39m\u001b[38;5;124mlast_updated_time\u001b[39m\u001b[38;5;124m\"\u001b[39m: \u001b[38;5;124m\"\u001b[39m\u001b[38;5;124m2023-09-20T16:03:19+05:30\u001b[39m\u001b[38;5;124m\"\u001b[39m, \u001b[38;5;124m\"\u001b[39m\u001b[38;5;124mtags\u001b[39m\u001b[38;5;124m\"\u001b[39m: [\u001b[38;5;124m\"\u001b[39m\u001b[38;5;124mtrai\u001b[39m\u001b[38;5;124m\"\u001b[39m, \u001b[38;5;124m\"\u001b[39m\u001b[38;5;124mtelecom regulator\u001b[39m\u001b[38;5;124m\"\u001b[39m, \u001b[38;5;124m\"\u001b[39m\u001b[38;5;124mtelecom licence fees\u001b[39m\u001b[38;5;124m\"\u001b[39m, \u001b[38;5;124m\"\u001b[39m\u001b[38;5;124mindia telecom sector\u001b[39m\u001b[38;5;124m\"\u001b[39m, \u001b[38;5;124m\"\u001b[39m\u001b[38;5;124mbank guarantees\u001b[39m\u001b[38;5;124m\"\u001b[39m, \u001b[38;5;124m\"\u001b[39m\u001b[38;5;124mentry fee\u001b[39m\u001b[38;5;124m\"\u001b[39m, \u001b[38;5;124m\"\u001b[39m\u001b[38;5;124mreliance jio\u001b[39m\u001b[38;5;124m\"\u001b[39m, \u001b[38;5;124m\"\u001b[39m\u001b[38;5;124mbharti airtel\u001b[39m\u001b[38;5;124m\"\u001b[39m, \u001b[38;5;124m\"\u001b[39m\u001b[38;5;124mvodafone idea\u001b[39m\u001b[38;5;124m\"\u001b[39m, \u001b[38;5;124m\"\u001b[39m\u001b[38;5;124mbsnl\u001b[39m\u001b[38;5;124m\"\u001b[39m, \u001b[38;5;124m\"\u001b[39m\u001b[38;5;124mdepartment of telecommunications\u001b[39m\u001b[38;5;124m\"\u001b[39m, \u001b[38;5;124m\"\u001b[39m\u001b[38;5;124mtelecom licence\u001b[39m\u001b[38;5;124m\"\u001b[39m], \u001b[38;5;124m\"\u001b[39m\u001b[38;5;124mimage_url\u001b[39m\u001b[38;5;124m\"\u001b[39m: \u001b[38;5;124m\"\u001b[39m\u001b[38;5;124mhttps://www.livemint.com/lm-img/img/2023/09/20/600x338/APHL7BUU-koBE--621x414LiveMint_1695205738297_1695205738486.jpg\u001b[39m\u001b[38;5;124m\"\u001b[39m, \u001b[38;5;124m\"\u001b[39m\u001b[38;5;124mauthor\u001b[39m\u001b[38;5;124m\"\u001b[39m: \u001b[38;5;124m\"\u001b[39m\u001b[38;5;124mGulveen Aulakh\u001b[39m\u001b[38;5;124m\"\u001b[39m}}\n",
      "\u001b[0;31mNameError\u001b[0m: name 'true' is not defined"
     ]
    }
   ],
   "source": [
    "data = {\"meta_data\": {\"is_premium_article\": true, \"title\": \"Mint Explainer: Why Trai wants to cut the entry fees for various licences | Mint\", \"short_description\": \"The telecom regulator has proposed reducing the entry fees for a number of licences and rationalising bank guarantees that service providers give the government\", \"published_time\": \"2023-09-20T16:03:19+05:30\", \"last_updated_time\": \"2023-09-20T16:03:19+05:30\", \"tags\": [\"trai\", \"telecom regulator\", \"telecom licence fees\", \"india telecom sector\", \"bank guarantees\", \"entry fee\", \"reliance jio\", \"bharti airtel\", \"vodafone idea\", \"bsnl\", \"department of telecommunications\", \"telecom licence\"], \"image_url\": \"https://www.livemint.com/lm-img/img/2023/09/20/600x338/APHL7BUU-koBE--621x414LiveMint_1695205738297_1695205738486.jpg\", \"author\": \"Gulveen Aulakh\"}}"
   ]
  },
  {
   "cell_type": "code",
   "execution_count": 137,
   "id": "8478dafa-89c4-4d42-b118-aa3716ed2485",
   "metadata": {
    "tags": []
   },
   "outputs": [],
   "source": [
    "import requests"
   ]
  },
  {
   "cell_type": "code",
   "execution_count": 138,
   "id": "edf55d58-a619-44cf-ac36-ee0ef071fde8",
   "metadata": {
    "tags": []
   },
   "outputs": [],
   "source": [
    "k = requests.get('http://insight-user-app-beta-env.eba-rnrpvmin.ap-south-1.elasticbeanstalk.com/article/650d15327946741de369232c')"
   ]
  },
  {
   "cell_type": "code",
   "execution_count": 139,
   "id": "5bad1479-d18e-4c99-9039-8cb6b59121f5",
   "metadata": {
    "tags": []
   },
   "outputs": [],
   "source": [
    "k2 = json.loads(k.text)"
   ]
  },
  {
   "cell_type": "code",
   "execution_count": 141,
   "id": "13aab1dd-8f7a-4849-9df0-738a4551ef33",
   "metadata": {
    "tags": []
   },
   "outputs": [],
   "source": [
    "k1.update(k2)"
   ]
  },
  {
   "cell_type": "code",
   "execution_count": 142,
   "id": "8a221881-7529-4f42-9c5c-828eab9068fc",
   "metadata": {
    "tags": []
   },
   "outputs": [
    {
     "data": {
      "text/plain": [
       "{'meta_data': {'is_premium_article': False,\n",
       "  'title': 'Coal India share price Today Live Updates : Coal India Stocks Plummet in the Market | Mint',\n",
       "  'short_description': 'Coal India stock price went down today, 22 Sep 2023, by -1.37 %. The stock closed at 284.25 per share. The stock is currently trading at 280.35 per share. Investors should monitor Coal India stock price closely in the coming days and weeks to see how it reacts to the news.',\n",
       "  'published_time': '2023-09-22T08:15:27+05:30',\n",
       "  'last_updated_time': '2023-09-22T09:32:46+05:30',\n",
       "  'tags': ['Coal India Share Price Live',\n",
       "   'Coal India Stock Price Live',\n",
       "   'Coal India Stock',\n",
       "   'Coal India Share'],\n",
       "  'image_url': 'https://www.livemint.com/lm-img/img/2023/05/04/600x338/The-Bombay-Stock-Exchange-in-Mumbai---Bloomberg-Ph_1683200468247_1683200494396.jpg',\n",
       "  'author': 'Livemint'},\n",
       " 'cleaned_text': \"On the last day, Coal India's stock opened at₹285 and closed at₹284.25. The stock had a high of₹286.7 and a low of₹278.75. The market capitalization of Coal India is currently at₹172,772.09 crores. The 52-week high for the stock is₹288, while the 52-week low is₹207.7. The BSE volume for the stock was 369,943 shares.\\nDisclaimer: This is an AI-generated live blog and has not been edited by LiveMint staff.\\nThe current data of Coal India stock shows that the stock price is₹280.35. There has been a percent change of -1.37, indicating a decrease in value. The net change is -3.9, suggesting a decrease of₹3.9 in the stock price.\\nThe current data of Coal India stock shows that the stock price is₹280.35. There has been a percent change of -1.37, indicating a decrease in value. The net change is -3.9, suggesting a decrease of₹3.9 in the stock price.\\nOn the last day of trading forCoal Indiaon the Bombay Stock Exchange (BSE), the volume of shares traded was 369,943. The closing price for the shares was₹284.25.\\nOn the last day of trading forCoal Indiaon the Bombay Stock Exchange (BSE), the volume of shares traded was 369,943. The closing price for the shares was₹284.25.\\nDownloadthe App to get 14 days of unlimited access to Mint Premium absolutely free!\",\n",
       " 'article_images': [{'image_url': 'https://www.livemint.com/lm-img/img/2023/05/04/600x338/The-Bombay-Stock-Exchange-in-Mumbai---Bloomberg-Ph_1683200468247_1683200494396.jpg',\n",
       "   'image_caption': 'Coal India'}],\n",
       " 'articleId': '650d15327946741de369232c',\n",
       " 'url': 'https://www.livemint.com/market/live-blog/coal-india-share-price-live-blog-for-22-sep-2023-11695350727833.html',\n",
       " 'title': 'Coal India share price Today Live Updates : Coal India Stocks Plummet in the Market | Mint',\n",
       " 'shortDescription': 'Coal India stock price went down today, 22 Sep 2023, by -1.37 %. The stock closed at 284.25 per share. The stock is currently trading at 280.35 per share. Investors should monitor Coal India stock price closely in the coming days and weeks to see how it reacts to the news.',\n",
       " 'publishedTime': '2023-09-22T08:15:27+05:30',\n",
       " 'lastUpdatedTime': '2023-09-22T09:32:46+05:30',\n",
       " 'tags': ['Coal India Share Price Live',\n",
       "  'Coal India Stock Price Live',\n",
       "  'Coal India Stock',\n",
       "  'Coal India Share'],\n",
       " 'articleImageUrl': 'https://www.livemint.com/lm-img/img/2023/05/04/600x338/The-Bombay-Stock-Exchange-in-Mumbai---Bloomberg-Ph_1683200468247_1683200494396.jpg',\n",
       " 'category': None,\n",
       " 'author': 'Livemint',\n",
       " 'isPremiumArticle': False,\n",
       " 'source': None}"
      ]
     },
     "execution_count": 142,
     "metadata": {},
     "output_type": "execute_result"
    }
   ],
   "source": [
    "k1"
   ]
  },
  {
   "cell_type": "code",
   "execution_count": 140,
   "id": "a4a0124d-f0dd-4e1c-aeb5-6cde20fa9bf4",
   "metadata": {
    "tags": []
   },
   "outputs": [
    {
     "data": {
      "text/plain": [
       "{'articleId': '650d15327946741de369232c',\n",
       " 'url': 'https://www.livemint.com/market/live-blog/coal-india-share-price-live-blog-for-22-sep-2023-11695350727833.html',\n",
       " 'title': 'Coal India share price Today Live Updates : Coal India Stocks Plummet in the Market | Mint',\n",
       " 'shortDescription': 'Coal India stock price went down today, 22 Sep 2023, by -1.37 %. The stock closed at 284.25 per share. The stock is currently trading at 280.35 per share. Investors should monitor Coal India stock price closely in the coming days and weeks to see how it reacts to the news.',\n",
       " 'publishedTime': '2023-09-22T08:15:27+05:30',\n",
       " 'lastUpdatedTime': '2023-09-22T09:32:46+05:30',\n",
       " 'tags': ['Coal India Share Price Live',\n",
       "  'Coal India Stock Price Live',\n",
       "  'Coal India Stock',\n",
       "  'Coal India Share'],\n",
       " 'articleImageUrl': 'https://www.livemint.com/lm-img/img/2023/05/04/600x338/The-Bombay-Stock-Exchange-in-Mumbai---Bloomberg-Ph_1683200468247_1683200494396.jpg',\n",
       " 'category': None,\n",
       " 'author': 'Livemint',\n",
       " 'isPremiumArticle': False,\n",
       " 'source': None}"
      ]
     },
     "execution_count": 140,
     "metadata": {},
     "output_type": "execute_result"
    }
   ],
   "source": [
    "k2"
   ]
  },
  {
   "cell_type": "code",
   "execution_count": 143,
   "id": "1cbbf7af-2946-4087-aa79-8a43e0f15139",
   "metadata": {
    "tags": []
   },
   "outputs": [],
   "source": [
    "@dataclass\n",
    "class Article:\n",
    "    article_id: str\n",
    "    cleaned_text: str\n",
    "    is_premium_article: bool\n",
    "    title: str\n",
    "\n",
    "    @classmethod\n",
    "    def from_dict(cls, data: dict):\n",
    "        key_mapping = {\n",
    "            'articleId': 'article_id',\n",
    "            'isPremiumArticle': 'is_premium_article',\n",
    "            'title': 'title',\n",
    "            'cleaned_text': 'cleaned_text'\n",
    "        }\n",
    "        processed_data = {key_mapping[k]: v for k, v in data.items() if k in key_mapping}\n",
    "\n",
    "        return cls(**processed_data)"
   ]
  },
  {
   "cell_type": "code",
   "execution_count": 145,
   "id": "800cceb2-f155-4fec-97d0-0df688db4a28",
   "metadata": {
    "tags": []
   },
   "outputs": [],
   "source": [
    "import numpy as np"
   ]
  },
  {
   "cell_type": "code",
   "execution_count": 153,
   "id": "77c9ea4d-c3ac-445c-acd6-01a1126f1256",
   "metadata": {
    "tags": []
   },
   "outputs": [],
   "source": [
    "ss = [np.float32(np.random.rand()) for i in range(1024)]"
   ]
  },
  {
   "cell_type": "code",
   "execution_count": 156,
   "id": "d8cd7355-c91e-42c8-93d8-564f3c61f639",
   "metadata": {
    "tags": []
   },
   "outputs": [
    {
     "name": "stdout",
     "output_type": "stream",
     "text": [
      "19.8 µs ± 13.1 ns per loop (mean ± std. dev. of 7 runs, 10,000 loops each)\n"
     ]
    }
   ],
   "source": [
    "%timeit [float(x) for x in ss]"
   ]
  },
  {
   "cell_type": "code",
   "execution_count": 144,
   "id": "b92d6a33-26ab-4398-a25c-1331b7645946",
   "metadata": {
    "tags": []
   },
   "outputs": [
    {
     "data": {
      "text/plain": [
       "Article(article_id='650d15327946741de369232c', cleaned_text=\"On the last day, Coal India's stock opened at₹285 and closed at₹284.25. The stock had a high of₹286.7 and a low of₹278.75. The market capitalization of Coal India is currently at₹172,772.09 crores. The 52-week high for the stock is₹288, while the 52-week low is₹207.7. The BSE volume for the stock was 369,943 shares.\\nDisclaimer: This is an AI-generated live blog and has not been edited by LiveMint staff.\\nThe current data of Coal India stock shows that the stock price is₹280.35. There has been a percent change of -1.37, indicating a decrease in value. The net change is -3.9, suggesting a decrease of₹3.9 in the stock price.\\nThe current data of Coal India stock shows that the stock price is₹280.35. There has been a percent change of -1.37, indicating a decrease in value. The net change is -3.9, suggesting a decrease of₹3.9 in the stock price.\\nOn the last day of trading forCoal Indiaon the Bombay Stock Exchange (BSE), the volume of shares traded was 369,943. The closing price for the shares was₹284.25.\\nOn the last day of trading forCoal Indiaon the Bombay Stock Exchange (BSE), the volume of shares traded was 369,943. The closing price for the shares was₹284.25.\\nDownloadthe App to get 14 days of unlimited access to Mint Premium absolutely free!\", is_premium_article=False, title='Coal India share price Today Live Updates : Coal India Stocks Plummet in the Market | Mint')"
      ]
     },
     "execution_count": 144,
     "metadata": {},
     "output_type": "execute_result"
    }
   ],
   "source": [
    "Article.from_dict(k1)"
   ]
  },
  {
   "cell_type": "code",
   "execution_count": null,
   "id": "1a269fc1-456f-4917-a685-909af347e200",
   "metadata": {},
   "outputs": [],
   "source": []
  }
 ],
 "metadata": {
  "kernelspec": {
   "display_name": "recoenv",
   "language": "python",
   "name": "recoenv"
  },
  "language_info": {
   "codemirror_mode": {
    "name": "ipython",
    "version": 3
   },
   "file_extension": ".py",
   "mimetype": "text/x-python",
   "name": "python",
   "nbconvert_exporter": "python",
   "pygments_lexer": "ipython3",
   "version": "3.11.5"
  }
 },
 "nbformat": 4,
 "nbformat_minor": 5
}
