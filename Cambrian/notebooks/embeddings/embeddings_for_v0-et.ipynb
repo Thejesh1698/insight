{
 "cells": [
  {
   "cell_type": "markdown",
   "id": "b3313d3f-ad87-4175-82a7-10f9d2a39dd9",
   "metadata": {},
   "source": [
    "### Objective:\n",
    "\n",
    "To manually generate embeddings for a set of articles which are part of the mongo db to kick start the clustering process\n",
    "\n",
    "Part 2:\n",
    "\n",
    "- 22k embeddings already present in the table\n",
    "- 1.5k more added\n",
    "- some 80% are not financial - many of which are identified using the url category\n",
    "\n",
    "process:\n",
    "- loading all articles exported from mongo\n",
    "- get articles for which embeddings already created\n",
    "- identify financial articles and remove embeddings for non financial from table"
   ]
  },
  {
   "cell_type": "code",
   "execution_count": 1,
   "id": "8b8d6761-46d3-4300-9e5e-94c1fd3e14bf",
   "metadata": {
    "tags": []
   },
   "outputs": [
    {
     "name": "stderr",
     "output_type": "stream",
     "text": [
      "/var/folders/d4/cgyr_gnj7nn2wy_hq40gkq8c0000gq/T/ipykernel_21080/4032682437.py:4: UserWarning: \n",
      "The version_base parameter is not specified.\n",
      "Please specify a compatability version level, or None.\n",
      "Will assume defaults for version 1.1\n",
      "  with initialize(config_path=\"../../conf\"):\n"
     ]
    }
   ],
   "source": [
    "parent_folder = '/Users/ravi.tej/Desktop/ML/Recommendations/cambrian/'\n",
    "data_folder = parent_folder + 'data/'\n",
    "from hydra import compose, initialize\n",
    "with initialize(config_path=\"../../conf\"):\n",
    "    # Compose the configuration\n",
    "    cfg = compose(config_name=\"TopicClusterMapping.yaml\")\n",
    "\n",
    "import os\n",
    "\n",
    "import xml.etree.ElementTree as ET\n",
    "\n",
    "tree = ET.parse('../../conf/application.run.xml')\n",
    "root = tree.getroot()\n",
    "\n",
    "envs_element = root.find('./configuration/envs')\n",
    "for variable in envs_element.findall('env'):\n",
    "    name = variable.get('name')\n",
    "    value = variable.get('value')\n",
    "    os.environ[name] = value"
   ]
  },
  {
   "cell_type": "code",
   "execution_count": 2,
   "id": "5c9313a0-eb6d-4f87-b9f7-a4f211aa804d",
   "metadata": {
    "tags": []
   },
   "outputs": [],
   "source": [
    "import sys\n",
    "\n",
    "sys.path.append('/Users/ravi.tej/Desktop/ML/Recommendations/cambrian/')\n",
    "\n",
    "from src.embeddings.EmbeddingsService import EmbeddingsService\n",
    "from sql.embeddings.EmbeddingSQL import EmbeddingSQL\n",
    "\n",
    "import json"
   ]
  },
  {
   "cell_type": "code",
   "execution_count": 3,
   "id": "166d1886-88c5-447b-8620-81ff334e21a6",
   "metadata": {
    "tags": []
   },
   "outputs": [],
   "source": [
    "from sql.PostgresDatabaseOperation import PostgresDatabaseOperation"
   ]
  },
  {
   "cell_type": "code",
   "execution_count": 4,
   "id": "71cb8731-e6af-4996-8969-8a5faf8dbda1",
   "metadata": {
    "tags": []
   },
   "outputs": [],
   "source": [
    "import pandas as pd"
   ]
  },
  {
   "cell_type": "code",
   "execution_count": 6,
   "id": "76a54541-bdd8-4cac-bb5c-cb9b4b3a3e28",
   "metadata": {
    "tags": []
   },
   "outputs": [],
   "source": [
    "with PostgresDatabaseOperation() as cursor:\n",
    "    sql = \"SELECT DISTINCT article_id FROM embeddings\"\n",
    "    cursor.execute(sql)\n",
    "    res = cursor.fetchall()"
   ]
  },
  {
   "cell_type": "code",
   "execution_count": 8,
   "id": "37c6dcab-a93e-465c-8185-62f100fb5c97",
   "metadata": {
    "tags": []
   },
   "outputs": [],
   "source": [
    "computed_embedding_articles_df = pd.DataFrame(res, columns = ['article_id'])"
   ]
  },
  {
   "cell_type": "code",
   "execution_count": 12,
   "id": "fc3bab91-374e-4df4-9935-bdbf084db830",
   "metadata": {
    "tags": []
   },
   "outputs": [
    {
     "name": "stderr",
     "output_type": "stream",
     "text": [
      "/var/folders/d4/cgyr_gnj7nn2wy_hq40gkq8c0000gq/T/ipykernel_21080/1120521040.py:1: DtypeWarning: Columns (32,33) have mixed types. Specify dtype option on import or set low_memory=False.\n",
      "  all_articles_df = pd.read_csv(data_folder + 'et_non_premium_articles_12_oct.csv')\n"
     ]
    }
   ],
   "source": [
    "all_articles_df = pd.read_csv(data_folder + 'et_non_premium_articles_12_oct.csv')"
   ]
  },
  {
   "cell_type": "code",
   "execution_count": 14,
   "id": "04b00db7-6181-4fd1-8667-64223158c739",
   "metadata": {
    "scrolled": true,
    "tags": []
   },
   "outputs": [
    {
     "data": {
      "text/html": [
       "<div>\n",
       "<style scoped>\n",
       "    .dataframe tbody tr th:only-of-type {\n",
       "        vertical-align: middle;\n",
       "    }\n",
       "\n",
       "    .dataframe tbody tr th {\n",
       "        vertical-align: top;\n",
       "    }\n",
       "\n",
       "    .dataframe thead th {\n",
       "        text-align: right;\n",
       "    }\n",
       "</style>\n",
       "<table border=\"1\" class=\"dataframe\">\n",
       "  <thead>\n",
       "    <tr style=\"text-align: right;\">\n",
       "      <th></th>\n",
       "      <th>_id</th>\n",
       "      <th>url</th>\n",
       "      <th>published_time</th>\n",
       "      <th>source_id</th>\n",
       "      <th>authors[0]</th>\n",
       "      <th>_class</th>\n",
       "      <th>image_url</th>\n",
       "      <th>is_premium_article</th>\n",
       "      <th>last_updated_time</th>\n",
       "      <th>short_description</th>\n",
       "      <th>...</th>\n",
       "      <th>tags[15]</th>\n",
       "      <th>tags[16]</th>\n",
       "      <th>tags[17]</th>\n",
       "      <th>tags[18]</th>\n",
       "      <th>tags[19]</th>\n",
       "      <th>tags[20]</th>\n",
       "      <th>tags[21]</th>\n",
       "      <th>tags[22]</th>\n",
       "      <th>tags[23]</th>\n",
       "      <th>title</th>\n",
       "    </tr>\n",
       "  </thead>\n",
       "  <tbody>\n",
       "    <tr>\n",
       "      <th>0</th>\n",
       "      <td>6527615f50af0e25a9122f15</td>\n",
       "      <td>https://economictimes.indiatimes.com/news/inte...</td>\n",
       "      <td>2023-10-12T07:18:00+05:30</td>\n",
       "      <td>6512cdcad01a9c8e86263e05</td>\n",
       "      <td>The Feed</td>\n",
       "      <td>com.wintWealth.insight.common.models.entities....</td>\n",
       "      <td>https://economictimes.indiatimes.com/thumb/msi...</td>\n",
       "      <td>False</td>\n",
       "      <td>2023-10-12T07:18:00+05:30</td>\n",
       "      <td>The survey encompassed over 9,000 American tee...</td>\n",
       "      <td>...</td>\n",
       "      <td>NaN</td>\n",
       "      <td>NaN</td>\n",
       "      <td>NaN</td>\n",
       "      <td>NaN</td>\n",
       "      <td>NaN</td>\n",
       "      <td>NaN</td>\n",
       "      <td>NaN</td>\n",
       "      <td>NaN</td>\n",
       "      <td>NaN</td>\n",
       "      <td>YouTube passes Netflix as top choice for video...</td>\n",
       "    </tr>\n",
       "    <tr>\n",
       "      <th>1</th>\n",
       "      <td>6527616b50af0e25a9122f3a</td>\n",
       "      <td>https://economictimes.indiatimes.com/news/inte...</td>\n",
       "      <td>2023-10-12T07:18:00+05:30</td>\n",
       "      <td>6512cdcad01a9c8e86263e05</td>\n",
       "      <td>The Feed</td>\n",
       "      <td>com.wintWealth.insight.common.models.entities....</td>\n",
       "      <td>https://economictimes.indiatimes.com/thumb/msi...</td>\n",
       "      <td>False</td>\n",
       "      <td>2023-10-12T07:18:00+05:30</td>\n",
       "      <td>The survey encompassed over 9,000 American tee...</td>\n",
       "      <td>...</td>\n",
       "      <td>NaN</td>\n",
       "      <td>NaN</td>\n",
       "      <td>NaN</td>\n",
       "      <td>NaN</td>\n",
       "      <td>NaN</td>\n",
       "      <td>NaN</td>\n",
       "      <td>NaN</td>\n",
       "      <td>NaN</td>\n",
       "      <td>NaN</td>\n",
       "      <td>YouTube passes Netflix as top choice for video...</td>\n",
       "    </tr>\n",
       "    <tr>\n",
       "      <th>2</th>\n",
       "      <td>6527616b50af0e25a9122f39</td>\n",
       "      <td>https://economictimes.indiatimes.com/news/inte...</td>\n",
       "      <td>2023-10-12T07:12:00+05:30</td>\n",
       "      <td>6512cdcad01a9c8e86263e05</td>\n",
       "      <td>ANI</td>\n",
       "      <td>com.wintWealth.insight.common.models.entities....</td>\n",
       "      <td>https://economictimes.indiatimes.com/thumb/msi...</td>\n",
       "      <td>False</td>\n",
       "      <td>2023-10-12T07:15:00+05:30</td>\n",
       "      <td>The Israeli Air Force has hit more than 200 ta...</td>\n",
       "      <td>...</td>\n",
       "      <td>NaN</td>\n",
       "      <td>NaN</td>\n",
       "      <td>NaN</td>\n",
       "      <td>NaN</td>\n",
       "      <td>NaN</td>\n",
       "      <td>NaN</td>\n",
       "      <td>NaN</td>\n",
       "      <td>NaN</td>\n",
       "      <td>NaN</td>\n",
       "      <td>Airstrikes hammer Hamas targets as Israeli dea...</td>\n",
       "    </tr>\n",
       "    <tr>\n",
       "      <th>3</th>\n",
       "      <td>6527616750af0e25a9122f2d</td>\n",
       "      <td>https://economictimes.indiatimes.com/news/inte...</td>\n",
       "      <td>2023-10-12T07:12:00+05:30</td>\n",
       "      <td>6512cdcad01a9c8e86263e05</td>\n",
       "      <td>ANI</td>\n",
       "      <td>com.wintWealth.insight.common.models.entities....</td>\n",
       "      <td>https://economictimes.indiatimes.com/thumb/msi...</td>\n",
       "      <td>False</td>\n",
       "      <td>2023-10-12T07:15:00+05:30</td>\n",
       "      <td>The Israeli Air Force has hit more than 200 ta...</td>\n",
       "      <td>...</td>\n",
       "      <td>NaN</td>\n",
       "      <td>NaN</td>\n",
       "      <td>NaN</td>\n",
       "      <td>NaN</td>\n",
       "      <td>NaN</td>\n",
       "      <td>NaN</td>\n",
       "      <td>NaN</td>\n",
       "      <td>NaN</td>\n",
       "      <td>NaN</td>\n",
       "      <td>Airstrikes hammer Hamas targets as Israeli dea...</td>\n",
       "    </tr>\n",
       "    <tr>\n",
       "      <th>4</th>\n",
       "      <td>6527616450af0e25a9122f1f</td>\n",
       "      <td>https://economictimes.indiatimes.com/news/inte...</td>\n",
       "      <td>2023-10-12T07:10:00+05:30</td>\n",
       "      <td>6512cdcad01a9c8e86263e05</td>\n",
       "      <td>The Feed</td>\n",
       "      <td>com.wintWealth.insight.common.models.entities....</td>\n",
       "      <td>https://economictimes.indiatimes.com/thumb/msi...</td>\n",
       "      <td>False</td>\n",
       "      <td>2023-10-12T07:10:00+05:30</td>\n",
       "      <td>McGregor suffered a brutal leg break during hi...</td>\n",
       "      <td>...</td>\n",
       "      <td>NaN</td>\n",
       "      <td>NaN</td>\n",
       "      <td>NaN</td>\n",
       "      <td>NaN</td>\n",
       "      <td>NaN</td>\n",
       "      <td>NaN</td>\n",
       "      <td>NaN</td>\n",
       "      <td>NaN</td>\n",
       "      <td>NaN</td>\n",
       "      <td>Conor McGregor closer to UFC comeback; Re-ente...</td>\n",
       "    </tr>\n",
       "    <tr>\n",
       "      <th>...</th>\n",
       "      <td>...</td>\n",
       "      <td>...</td>\n",
       "      <td>...</td>\n",
       "      <td>...</td>\n",
       "      <td>...</td>\n",
       "      <td>...</td>\n",
       "      <td>...</td>\n",
       "      <td>...</td>\n",
       "      <td>...</td>\n",
       "      <td>...</td>\n",
       "      <td>...</td>\n",
       "      <td>...</td>\n",
       "      <td>...</td>\n",
       "      <td>...</td>\n",
       "      <td>...</td>\n",
       "      <td>...</td>\n",
       "      <td>...</td>\n",
       "      <td>...</td>\n",
       "      <td>...</td>\n",
       "      <td>...</td>\n",
       "      <td>...</td>\n",
       "    </tr>\n",
       "    <tr>\n",
       "      <th>23569</th>\n",
       "      <td>651e16aba662d76276b88200</td>\n",
       "      <td>https://economictimes.indiatimes.com/news/defe...</td>\n",
       "      <td>2023-04-04T06:37:00+05:30</td>\n",
       "      <td>6512cdcad01a9c8e86263e05</td>\n",
       "      <td>AFP</td>\n",
       "      <td>com.wintWealth.insight.common.models.entities....</td>\n",
       "      <td>https://economictimes.indiatimes.com/thumb/msi...</td>\n",
       "      <td>False</td>\n",
       "      <td>2023-04-04T06:42:00+05:30</td>\n",
       "      <td>Citing the head of the Odesa district military...</td>\n",
       "      <td>...</td>\n",
       "      <td>NaN</td>\n",
       "      <td>NaN</td>\n",
       "      <td>NaN</td>\n",
       "      <td>NaN</td>\n",
       "      <td>NaN</td>\n",
       "      <td>NaN</td>\n",
       "      <td>NaN</td>\n",
       "      <td>NaN</td>\n",
       "      <td>NaN</td>\n",
       "      <td>Russian drones strike Ukraine's port of Odesa:...</td>\n",
       "    </tr>\n",
       "    <tr>\n",
       "      <th>23570</th>\n",
       "      <td>651e1788a662d76276b88411</td>\n",
       "      <td>https://economictimes.indiatimes.com/news/defe...</td>\n",
       "      <td>2023-04-04T06:33:00+05:30</td>\n",
       "      <td>6512cdcad01a9c8e86263e05</td>\n",
       "      <td>AFP</td>\n",
       "      <td>com.wintWealth.insight.common.models.entities....</td>\n",
       "      <td>https://economictimes.indiatimes.com/thumb/msi...</td>\n",
       "      <td>False</td>\n",
       "      <td>2023-04-04T06:35:00+05:30</td>\n",
       "      <td>A few MiG-29s have already been sent. They ar...</td>\n",
       "      <td>...</td>\n",
       "      <td>NaN</td>\n",
       "      <td>NaN</td>\n",
       "      <td>NaN</td>\n",
       "      <td>NaN</td>\n",
       "      <td>NaN</td>\n",
       "      <td>NaN</td>\n",
       "      <td>NaN</td>\n",
       "      <td>NaN</td>\n",
       "      <td>NaN</td>\n",
       "      <td>Poland says supplied some of pledged MiG-29s t...</td>\n",
       "    </tr>\n",
       "    <tr>\n",
       "      <th>23571</th>\n",
       "      <td>651e167da662d76276b8818f</td>\n",
       "      <td>https://economictimes.indiatimes.com/news/poli...</td>\n",
       "      <td>2023-04-04T00:26:00+05:30</td>\n",
       "      <td>6512cdcad01a9c8e86263e05</td>\n",
       "      <td>PTI</td>\n",
       "      <td>com.wintWealth.insight.common.models.entities....</td>\n",
       "      <td>https://economictimes.indiatimes.com/thumb/msi...</td>\n",
       "      <td>False</td>\n",
       "      <td>2023-04-04T00:28:00+05:30</td>\n",
       "      <td>Senior Congress leader and Rajya Sabha MP Digv...</td>\n",
       "      <td>...</td>\n",
       "      <td>NaN</td>\n",
       "      <td>NaN</td>\n",
       "      <td>NaN</td>\n",
       "      <td>NaN</td>\n",
       "      <td>NaN</td>\n",
       "      <td>NaN</td>\n",
       "      <td>NaN</td>\n",
       "      <td>NaN</td>\n",
       "      <td>NaN</td>\n",
       "      <td>Digvijaya Singh to Sue BJP Leader</td>\n",
       "    </tr>\n",
       "    <tr>\n",
       "      <th>23572</th>\n",
       "      <td>651e164da662d76276b88125</td>\n",
       "      <td>https://economictimes.indiatimes.com/markets/s...</td>\n",
       "      <td>2023-04-04T00:21:00+05:30</td>\n",
       "      <td>6512cdcad01a9c8e86263e05</td>\n",
       "      <td>PTI</td>\n",
       "      <td>com.wintWealth.insight.common.models.entities....</td>\n",
       "      <td>https://economictimes.indiatimes.com/thumb/msi...</td>\n",
       "      <td>False</td>\n",
       "      <td>2023-04-04T00:25:00+05:30</td>\n",
       "      <td>chairman S M Vaidya said the company's refiner...</td>\n",
       "      <td>...</td>\n",
       "      <td>NaN</td>\n",
       "      <td>NaN</td>\n",
       "      <td>NaN</td>\n",
       "      <td>NaN</td>\n",
       "      <td>NaN</td>\n",
       "      <td>NaN</td>\n",
       "      <td>NaN</td>\n",
       "      <td>NaN</td>\n",
       "      <td>NaN</td>\n",
       "      <td>IOC market share climbs to 43%, posts 'stellar...</td>\n",
       "    </tr>\n",
       "    <tr>\n",
       "      <th>23573</th>\n",
       "      <td>651e16faa662d76276b882b8</td>\n",
       "      <td>https://economictimes.indiatimes.com/news/indi...</td>\n",
       "      <td>2023-04-04T00:19:00+05:30</td>\n",
       "      <td>6512cdcad01a9c8e86263e05</td>\n",
       "      <td>PTI</td>\n",
       "      <td>com.wintWealth.insight.common.models.entities....</td>\n",
       "      <td>https://economictimes.indiatimes.com/thumb/msi...</td>\n",
       "      <td>False</td>\n",
       "      <td>2023-04-04T00:23:00+05:30</td>\n",
       "      <td>Five Maoists were killed and several others s...</td>\n",
       "      <td>...</td>\n",
       "      <td>NaN</td>\n",
       "      <td>NaN</td>\n",
       "      <td>NaN</td>\n",
       "      <td>NaN</td>\n",
       "      <td>NaN</td>\n",
       "      <td>NaN</td>\n",
       "      <td>NaN</td>\n",
       "      <td>NaN</td>\n",
       "      <td>NaN</td>\n",
       "      <td>5 Maoists killed in encounter in Jharkhand</td>\n",
       "    </tr>\n",
       "  </tbody>\n",
       "</table>\n",
       "<p>23574 rows × 35 columns</p>\n",
       "</div>"
      ],
      "text/plain": [
       "                            _id  \\\n",
       "0      6527615f50af0e25a9122f15   \n",
       "1      6527616b50af0e25a9122f3a   \n",
       "2      6527616b50af0e25a9122f39   \n",
       "3      6527616750af0e25a9122f2d   \n",
       "4      6527616450af0e25a9122f1f   \n",
       "...                         ...   \n",
       "23569  651e16aba662d76276b88200   \n",
       "23570  651e1788a662d76276b88411   \n",
       "23571  651e167da662d76276b8818f   \n",
       "23572  651e164da662d76276b88125   \n",
       "23573  651e16faa662d76276b882b8   \n",
       "\n",
       "                                                     url  \\\n",
       "0      https://economictimes.indiatimes.com/news/inte...   \n",
       "1      https://economictimes.indiatimes.com/news/inte...   \n",
       "2      https://economictimes.indiatimes.com/news/inte...   \n",
       "3      https://economictimes.indiatimes.com/news/inte...   \n",
       "4      https://economictimes.indiatimes.com/news/inte...   \n",
       "...                                                  ...   \n",
       "23569  https://economictimes.indiatimes.com/news/defe...   \n",
       "23570  https://economictimes.indiatimes.com/news/defe...   \n",
       "23571  https://economictimes.indiatimes.com/news/poli...   \n",
       "23572  https://economictimes.indiatimes.com/markets/s...   \n",
       "23573  https://economictimes.indiatimes.com/news/indi...   \n",
       "\n",
       "                  published_time                 source_id authors[0]  \\\n",
       "0      2023-10-12T07:18:00+05:30  6512cdcad01a9c8e86263e05   The Feed   \n",
       "1      2023-10-12T07:18:00+05:30  6512cdcad01a9c8e86263e05   The Feed   \n",
       "2      2023-10-12T07:12:00+05:30  6512cdcad01a9c8e86263e05        ANI   \n",
       "3      2023-10-12T07:12:00+05:30  6512cdcad01a9c8e86263e05        ANI   \n",
       "4      2023-10-12T07:10:00+05:30  6512cdcad01a9c8e86263e05   The Feed   \n",
       "...                          ...                       ...        ...   \n",
       "23569  2023-04-04T06:37:00+05:30  6512cdcad01a9c8e86263e05        AFP   \n",
       "23570  2023-04-04T06:33:00+05:30  6512cdcad01a9c8e86263e05        AFP   \n",
       "23571  2023-04-04T00:26:00+05:30  6512cdcad01a9c8e86263e05        PTI   \n",
       "23572  2023-04-04T00:21:00+05:30  6512cdcad01a9c8e86263e05        PTI   \n",
       "23573  2023-04-04T00:19:00+05:30  6512cdcad01a9c8e86263e05        PTI   \n",
       "\n",
       "                                                  _class  \\\n",
       "0      com.wintWealth.insight.common.models.entities....   \n",
       "1      com.wintWealth.insight.common.models.entities....   \n",
       "2      com.wintWealth.insight.common.models.entities....   \n",
       "3      com.wintWealth.insight.common.models.entities....   \n",
       "4      com.wintWealth.insight.common.models.entities....   \n",
       "...                                                  ...   \n",
       "23569  com.wintWealth.insight.common.models.entities....   \n",
       "23570  com.wintWealth.insight.common.models.entities....   \n",
       "23571  com.wintWealth.insight.common.models.entities....   \n",
       "23572  com.wintWealth.insight.common.models.entities....   \n",
       "23573  com.wintWealth.insight.common.models.entities....   \n",
       "\n",
       "                                               image_url  is_premium_article  \\\n",
       "0      https://economictimes.indiatimes.com/thumb/msi...               False   \n",
       "1      https://economictimes.indiatimes.com/thumb/msi...               False   \n",
       "2      https://economictimes.indiatimes.com/thumb/msi...               False   \n",
       "3      https://economictimes.indiatimes.com/thumb/msi...               False   \n",
       "4      https://economictimes.indiatimes.com/thumb/msi...               False   \n",
       "...                                                  ...                 ...   \n",
       "23569  https://economictimes.indiatimes.com/thumb/msi...               False   \n",
       "23570  https://economictimes.indiatimes.com/thumb/msi...               False   \n",
       "23571  https://economictimes.indiatimes.com/thumb/msi...               False   \n",
       "23572  https://economictimes.indiatimes.com/thumb/msi...               False   \n",
       "23573  https://economictimes.indiatimes.com/thumb/msi...               False   \n",
       "\n",
       "               last_updated_time  \\\n",
       "0      2023-10-12T07:18:00+05:30   \n",
       "1      2023-10-12T07:18:00+05:30   \n",
       "2      2023-10-12T07:15:00+05:30   \n",
       "3      2023-10-12T07:15:00+05:30   \n",
       "4      2023-10-12T07:10:00+05:30   \n",
       "...                          ...   \n",
       "23569  2023-04-04T06:42:00+05:30   \n",
       "23570  2023-04-04T06:35:00+05:30   \n",
       "23571  2023-04-04T00:28:00+05:30   \n",
       "23572  2023-04-04T00:25:00+05:30   \n",
       "23573  2023-04-04T00:23:00+05:30   \n",
       "\n",
       "                                       short_description  ... tags[15]  \\\n",
       "0      The survey encompassed over 9,000 American tee...  ...      NaN   \n",
       "1      The survey encompassed over 9,000 American tee...  ...      NaN   \n",
       "2      The Israeli Air Force has hit more than 200 ta...  ...      NaN   \n",
       "3      The Israeli Air Force has hit more than 200 ta...  ...      NaN   \n",
       "4      McGregor suffered a brutal leg break during hi...  ...      NaN   \n",
       "...                                                  ...  ...      ...   \n",
       "23569  Citing the head of the Odesa district military...  ...      NaN   \n",
       "23570   A few MiG-29s have already been sent. They ar...  ...      NaN   \n",
       "23571  Senior Congress leader and Rajya Sabha MP Digv...  ...      NaN   \n",
       "23572  chairman S M Vaidya said the company's refiner...  ...      NaN   \n",
       "23573   Five Maoists were killed and several others s...  ...      NaN   \n",
       "\n",
       "      tags[16] tags[17] tags[18] tags[19] tags[20] tags[21] tags[22] tags[23]  \\\n",
       "0          NaN      NaN      NaN      NaN      NaN      NaN      NaN      NaN   \n",
       "1          NaN      NaN      NaN      NaN      NaN      NaN      NaN      NaN   \n",
       "2          NaN      NaN      NaN      NaN      NaN      NaN      NaN      NaN   \n",
       "3          NaN      NaN      NaN      NaN      NaN      NaN      NaN      NaN   \n",
       "4          NaN      NaN      NaN      NaN      NaN      NaN      NaN      NaN   \n",
       "...        ...      ...      ...      ...      ...      ...      ...      ...   \n",
       "23569      NaN      NaN      NaN      NaN      NaN      NaN      NaN      NaN   \n",
       "23570      NaN      NaN      NaN      NaN      NaN      NaN      NaN      NaN   \n",
       "23571      NaN      NaN      NaN      NaN      NaN      NaN      NaN      NaN   \n",
       "23572      NaN      NaN      NaN      NaN      NaN      NaN      NaN      NaN   \n",
       "23573      NaN      NaN      NaN      NaN      NaN      NaN      NaN      NaN   \n",
       "\n",
       "                                                   title  \n",
       "0      YouTube passes Netflix as top choice for video...  \n",
       "1      YouTube passes Netflix as top choice for video...  \n",
       "2      Airstrikes hammer Hamas targets as Israeli dea...  \n",
       "3      Airstrikes hammer Hamas targets as Israeli dea...  \n",
       "4      Conor McGregor closer to UFC comeback; Re-ente...  \n",
       "...                                                  ...  \n",
       "23569  Russian drones strike Ukraine's port of Odesa:...  \n",
       "23570  Poland says supplied some of pledged MiG-29s t...  \n",
       "23571                  Digvijaya Singh to Sue BJP Leader  \n",
       "23572  IOC market share climbs to 43%, posts 'stellar...  \n",
       "23573         5 Maoists killed in encounter in Jharkhand  \n",
       "\n",
       "[23574 rows x 35 columns]"
      ]
     },
     "execution_count": 14,
     "metadata": {},
     "output_type": "execute_result"
    }
   ],
   "source": [
    "all_articles_df"
   ]
  },
  {
   "cell_type": "code",
   "execution_count": 16,
   "id": "d7bcb4be-3afd-45e9-8ccb-9da22fd99742",
   "metadata": {
    "tags": []
   },
   "outputs": [],
   "source": [
    "SOURCE_ID_ET = '6512cdcad01a9c8e86263e05'\n",
    "SOURCE_ID_LIVEMINT = '650046bd005149c49201269f'\n",
    "\n",
    "\n",
    "URL_ET = 'economictimes.indiatimes.com/'\n",
    "URL_LIVEMINT = 'economictimes.indiatimes.com/'"
   ]
  },
  {
   "cell_type": "code",
   "execution_count": 18,
   "id": "5aefb49b-541f-4dad-9d0a-3261301b98e4",
   "metadata": {
    "tags": []
   },
   "outputs": [],
   "source": [
    "def extract_cat_sub_cat_from_url(row):\n",
    "    # ET\n",
    "    if row['source_id'] == SOURCE_ID_ET:\n",
    "        source = 'et'\n",
    "        cat = row['url'].split(URL_ET)[1].split('/')[0]\n",
    "        sub_cat = row['url'].split(URL_ET)[1].split('/')[1]\n",
    "        return source, cat, sub_cat\n",
    "    # livemint\n",
    "    elif row['source_id'] == SOURCE_ID_LIVEMINT:\n",
    "        source = 'livemint'\n",
    "        cat = row['url'].split(URL_LIVEMINT)[1].split('/')[0]\n",
    "        sub_cat = row['url'].split(URL_LIVEMINT)[1].split('/')[1]\n",
    "        return source, cat, sub_cat"
   ]
  },
  {
   "cell_type": "code",
   "execution_count": 15,
   "id": "e8036308-6360-4cd5-8db4-7e5a259fdd65",
   "metadata": {
    "tags": []
   },
   "outputs": [],
   "source": [
    "def get_irrelevant_articles(df):\n",
    "    df['source'], df['category'], df['sub_category'] = zip(*df.apply(extract_cat_sub_cat_from_url, axis=1))\n",
    "    df['source_cat'] = df['source'] + '-' + df['category']\n",
    "    df['source_sub_cat'] = df['source'] + '-' + df['category'] + '-' + df['sub_category']\n",
    "    whitelisted_categories = ['et-industry', 'et-markets', 'et-nri', 'et-small-biz', 'et-wealth']\n",
    "    whitelisted_sub_cats = ['et-news-company', 'et-news-economy', 'et-news-industry']\n",
    "    df['is_relevant'] = df.apply(lambda x: x['source_cat'] in whitelisted_categories or x['source_sub_cat'] in whitelisted_sub_cats, axis=1)\n",
    "    return df"
   ]
  },
  {
   "cell_type": "code",
   "execution_count": 19,
   "id": "17577609-bc22-4822-b2ac-b7eda24526ac",
   "metadata": {
    "tags": []
   },
   "outputs": [],
   "source": [
    "all_articles_df = get_irrelevant_articles(all_articles_df)"
   ]
  },
  {
   "cell_type": "code",
   "execution_count": 22,
   "id": "feb5ca84-2154-457e-a6a0-c38b0e89b88d",
   "metadata": {
    "tags": []
   },
   "outputs": [
    {
     "data": {
      "text/plain": [
       "23574"
      ]
     },
     "execution_count": 22,
     "metadata": {},
     "output_type": "execute_result"
    }
   ],
   "source": [
    "len(all_articles_df)"
   ]
  },
  {
   "cell_type": "code",
   "execution_count": 23,
   "id": "f5998260-7ba1-43c1-9987-e43db9e488dc",
   "metadata": {
    "tags": []
   },
   "outputs": [],
   "source": [
    "relevant_articles = list(all_articles_df[all_articles_df.is_relevant == True]['_id'].unique())"
   ]
  },
  {
   "cell_type": "code",
   "execution_count": 25,
   "id": "222ec587-687f-4595-97b7-5b54acf89a79",
   "metadata": {
    "tags": []
   },
   "outputs": [
    {
     "data": {
      "text/plain": [
       "4533"
      ]
     },
     "execution_count": 25,
     "metadata": {},
     "output_type": "execute_result"
    }
   ],
   "source": [
    "len(relevant_articles)"
   ]
  },
  {
   "cell_type": "code",
   "execution_count": 41,
   "id": "893dd8f9-ccb3-4f74-a344-c7b77b2f2501",
   "metadata": {
    "tags": []
   },
   "outputs": [],
   "source": [
    "all_articles_df['article_id'] = all_articles_df['_id'].astype('str')"
   ]
  },
  {
   "cell_type": "markdown",
   "id": "b9132fee-e362-4fe2-8cf9-f09211fe2fb9",
   "metadata": {},
   "source": [
    "### Adding missing embeddings for later added financial articles"
   ]
  },
  {
   "cell_type": "code",
   "execution_count": 43,
   "id": "24c8f5be-23fb-40dc-8a68-1469cea5e0ed",
   "metadata": {
    "tags": []
   },
   "outputs": [],
   "source": [
    "pending_embeddings_df = all_articles_df[~all_articles_df.article_id.isin(computed_embedding_articles_df.article_id.unique())]"
   ]
  },
  {
   "cell_type": "code",
   "execution_count": 45,
   "id": "7d1b83a2-ef1a-4e79-8c91-99b25896a079",
   "metadata": {
    "tags": []
   },
   "outputs": [
    {
     "data": {
      "text/plain": [
       "is_relevant\n",
       "False    562\n",
       "True     124\n",
       "Name: is_relevant, dtype: int64"
      ]
     },
     "execution_count": 45,
     "metadata": {},
     "output_type": "execute_result"
    }
   ],
   "source": [
    "pending_embeddings_df.groupby('is_relevant')['is_relevant'].count()"
   ]
  },
  {
   "cell_type": "code",
   "execution_count": 46,
   "id": "8e9ad42c-0457-4ce2-9ac7-23f799e16b42",
   "metadata": {
    "tags": []
   },
   "outputs": [],
   "source": [
    "import requests\n",
    "import json"
   ]
  },
  {
   "cell_type": "code",
   "execution_count": 49,
   "id": "92590188-74e5-4a9d-a962-f4c1e9311f66",
   "metadata": {
    "tags": []
   },
   "outputs": [],
   "source": [
    "from tqdm.notebook import tqdm"
   ]
  },
  {
   "cell_type": "code",
   "execution_count": 48,
   "id": "9af3d9d3-5b71-4fed-a13d-3cf2fec0124a",
   "metadata": {
    "tags": []
   },
   "outputs": [],
   "source": [
    "url = \"http://65.0.67.16:8000/\""
   ]
  },
  {
   "cell_type": "code",
   "execution_count": 50,
   "id": "4782080b-671d-47f8-be9c-4d6010ab42e6",
   "metadata": {
    "tags": []
   },
   "outputs": [
    {
     "data": {
      "application/vnd.jupyter.widget-view+json": {
       "model_id": "3680d3bce0ed4b1ea0021aef6a4e0377",
       "version_major": 2,
       "version_minor": 0
      },
      "text/plain": [
       "  0%|          | 0/124 [00:00<?, ?it/s]"
      ]
     },
     "metadata": {},
     "output_type": "display_data"
    }
   ],
   "source": [
    "for article_id in tqdm(pending_embeddings_df[pending_embeddings_df.is_relevant == True]['article_id'].unique()):\n",
    "    r = requests.post(url + 'create_embedding', json = {'articleId': article_id})\n",
    "    assert r.status_code == 200"
   ]
  },
  {
   "cell_type": "markdown",
   "id": "c78c34ff-84a4-4563-95e9-cc9b77e4e3ea",
   "metadata": {},
   "source": [
    "### Deleting non financial articles from db"
   ]
  },
  {
   "cell_type": "code",
   "execution_count": 54,
   "id": "787320f9-e67a-477d-96c7-6f78f8a4dd28",
   "metadata": {
    "tags": []
   },
   "outputs": [],
   "source": [
    "irrelevant_articles = list(set(all_articles_df['article_id'].unique()) - set(relevant_articles))"
   ]
  },
  {
   "cell_type": "code",
   "execution_count": 65,
   "id": "64896ae5-925b-4bc6-8e3f-69c107093781",
   "metadata": {
    "tags": []
   },
   "outputs": [],
   "source": [
    "with PostgresDatabaseOperation() as cursor:\n",
    "    sql = 'DELETE FROM embeddings WHERE article_id NOT IN %s'\n",
    "    cursor.execute(sql, (tuple(relevant_articles),))\n",
    "    # res = cursor.fetchall()"
   ]
  },
  {
   "cell_type": "markdown",
   "id": "6c665fbb-6658-4e18-b93e-52f7cfb82b23",
   "metadata": {},
   "source": [
    "### Archive - code during first run on oct 5th"
   ]
  },
  {
   "cell_type": "code",
   "execution_count": 8,
   "id": "d7b3c173-4c25-47ba-a71b-64fb48f52dd2",
   "metadata": {
    "scrolled": true,
    "tags": []
   },
   "outputs": [
    {
     "data": {
      "application/vnd.jupyter.widget-view+json": {
       "model_id": "5bff6529c45b4f5fbb6beb88e12b59b7",
       "version_major": 2,
       "version_minor": 0
      },
      "text/plain": [
       "Downloading (…)87a7d/.gitattributes:   0%|          | 0.00/1.52k [00:00<?, ?B/s]"
      ]
     },
     "metadata": {},
     "output_type": "display_data"
    },
    {
     "data": {
      "application/vnd.jupyter.widget-view+json": {
       "model_id": "aea6c242d7e24ebe8a450ba28cb3e96e",
       "version_major": 2,
       "version_minor": 0
      },
      "text/plain": [
       "Downloading (…)_Pooling/config.json:   0%|          | 0.00/191 [00:00<?, ?B/s]"
      ]
     },
     "metadata": {},
     "output_type": "display_data"
    },
    {
     "data": {
      "application/vnd.jupyter.widget-view+json": {
       "model_id": "57ca47788f08488c90fa1ea261ad7f93",
       "version_major": 2,
       "version_minor": 0
      },
      "text/plain": [
       "Downloading (…)625eb87a7d/README.md:   0%|          | 0.00/89.1k [00:00<?, ?B/s]"
      ]
     },
     "metadata": {},
     "output_type": "display_data"
    },
    {
     "data": {
      "application/vnd.jupyter.widget-view+json": {
       "model_id": "4c871c95a8a44ef2bb0d53797b42e59c",
       "version_major": 2,
       "version_minor": 0
      },
      "text/plain": [
       "Downloading (…)5eb87a7d/config.json:   0%|          | 0.00/779 [00:00<?, ?B/s]"
      ]
     },
     "metadata": {},
     "output_type": "display_data"
    },
    {
     "data": {
      "application/vnd.jupyter.widget-view+json": {
       "model_id": "7923313efe444db39c470b540d90a954",
       "version_major": 2,
       "version_minor": 0
      },
      "text/plain": [
       "Downloading (…)ce_transformers.json:   0%|          | 0.00/124 [00:00<?, ?B/s]"
      ]
     },
     "metadata": {},
     "output_type": "display_data"
    },
    {
     "data": {
      "application/vnd.jupyter.widget-view+json": {
       "model_id": "024c4be8ca16453abddf0836deca3f39",
       "version_major": 2,
       "version_minor": 0
      },
      "text/plain": [
       "Downloading pytorch_model.bin:   0%|          | 0.00/1.34G [00:00<?, ?B/s]"
      ]
     },
     "metadata": {},
     "output_type": "display_data"
    },
    {
     "data": {
      "application/vnd.jupyter.widget-view+json": {
       "model_id": "98409419b925477c916a32dbe60e82b7",
       "version_major": 2,
       "version_minor": 0
      },
      "text/plain": [
       "Downloading (…)nce_bert_config.json:   0%|          | 0.00/52.0 [00:00<?, ?B/s]"
      ]
     },
     "metadata": {},
     "output_type": "display_data"
    },
    {
     "data": {
      "application/vnd.jupyter.widget-view+json": {
       "model_id": "6ec85009eee64d59a4ec3de418df79a8",
       "version_major": 2,
       "version_minor": 0
      },
      "text/plain": [
       "Downloading (…)cial_tokens_map.json:   0%|          | 0.00/125 [00:00<?, ?B/s]"
      ]
     },
     "metadata": {},
     "output_type": "display_data"
    },
    {
     "data": {
      "application/vnd.jupyter.widget-view+json": {
       "model_id": "504035cb63ee4c80a6064463817f6d94",
       "version_major": 2,
       "version_minor": 0
      },
      "text/plain": [
       "Downloading (…)87a7d/tokenizer.json:   0%|          | 0.00/711k [00:00<?, ?B/s]"
      ]
     },
     "metadata": {},
     "output_type": "display_data"
    },
    {
     "data": {
      "application/vnd.jupyter.widget-view+json": {
       "model_id": "1c26576914774d3e912f6bccc6795e7d",
       "version_major": 2,
       "version_minor": 0
      },
      "text/plain": [
       "Downloading (…)okenizer_config.json:   0%|          | 0.00/366 [00:00<?, ?B/s]"
      ]
     },
     "metadata": {},
     "output_type": "display_data"
    },
    {
     "data": {
      "application/vnd.jupyter.widget-view+json": {
       "model_id": "aeda27deec95445da221cd8a713f1811",
       "version_major": 2,
       "version_minor": 0
      },
      "text/plain": [
       "Downloading (…)625eb87a7d/vocab.txt:   0%|          | 0.00/232k [00:00<?, ?B/s]"
      ]
     },
     "metadata": {},
     "output_type": "display_data"
    },
    {
     "data": {
      "application/vnd.jupyter.widget-view+json": {
       "model_id": "9a8e7137b45c47d2b8a6c1ebb17050ee",
       "version_major": 2,
       "version_minor": 0
      },
      "text/plain": [
       "Downloading (…)eb87a7d/modules.json:   0%|          | 0.00/349 [00:00<?, ?B/s]"
      ]
     },
     "metadata": {},
     "output_type": "display_data"
    }
   ],
   "source": [
    "emb = EmbeddingsService(hf_model_path='BAAI/bge-large-en-v1.5')"
   ]
  },
  {
   "cell_type": "code",
   "execution_count": 11,
   "id": "7ea45336-4f29-4a00-be7a-41d2a4ef27b6",
   "metadata": {
    "tags": []
   },
   "outputs": [],
   "source": [
    "from src.embeddings._utils import get_article_metadata_from_api\n",
    "from sql.PostgresDatabaseOperation import PostgresDatabaseOperation\n",
    "from datetime import datetime\n",
    "\n",
    "from tqdm.notebook import tqdm"
   ]
  },
  {
   "cell_type": "code",
   "execution_count": 22,
   "id": "e1f11f5b-3bdc-4024-9753-7d40e157bd13",
   "metadata": {
    "tags": []
   },
   "outputs": [],
   "source": [
    "def write_entry_to_candidate_articles(article_id):\n",
    "    article_metadata = get_article_metadata_from_api(article_id=article_id)\n",
    "    published_at = article_metadata['publishedTime']\n",
    "    source_id = article_metadata['source']['sourceId']\n",
    "    with PostgresDatabaseOperation() as cursor:\n",
    "        insert_sql = \"\"\"\n",
    "            INSERT INTO candidate_articles (article_id, published_at, source_id, created_at)\n",
    "            VALUES (%s, %s, %s, %s)\n",
    "            ON CONFLICT (article_id) DO NOTHING;\n",
    "            \"\"\"\n",
    "        current_time = datetime.now()\n",
    "        cursor.execute(insert_sql, (article_id, published_at, source_id, current_time))"
   ]
  },
  {
   "cell_type": "code",
   "execution_count": 29,
   "id": "47a9c08b-6cae-4b16-8786-14bbb2eb98f6",
   "metadata": {
    "tags": []
   },
   "outputs": [
    {
     "data": {
      "application/vnd.jupyter.widget-view+json": {
       "model_id": "e16a18fa03db467bbc8cae3a93093565",
       "version_major": 2,
       "version_minor": 0
      },
      "text/plain": [
       "  0%|          | 0/22826 [00:00<?, ?it/s]"
      ]
     },
     "metadata": {},
     "output_type": "display_data"
    }
   ],
   "source": [
    "for article_id in tqdm(all_article_ids):\n",
    "    emb.create_article_embeddings(article_id)\n",
    "    write_entry_to_candidate_articles(article_id)"
   ]
  },
  {
   "cell_type": "code",
   "execution_count": 42,
   "id": "c28ffeed-5504-484b-91d4-1859b69e4660",
   "metadata": {
    "tags": []
   },
   "outputs": [
    {
     "data": {
      "text/plain": [
       "0.2287679245496101"
      ]
     },
     "execution_count": 42,
     "metadata": {},
     "output_type": "execute_result"
    }
   ],
   "source": [
    "0.9 ** 14"
   ]
  },
  {
   "cell_type": "code",
   "execution_count": 43,
   "id": "a9d16177-9eb2-4063-8d50-71ec11b8e7cf",
   "metadata": {
    "tags": []
   },
   "outputs": [],
   "source": [
    "from sql.PostgresDatabaseOperation import PostgresDatabaseOperation"
   ]
  },
  {
   "cell_type": "code",
   "execution_count": 44,
   "id": "0baa40ce-afdc-42b9-b211-ecd688052604",
   "metadata": {
    "tags": []
   },
   "outputs": [],
   "source": [
    "with PostgresDatabaseOperation() as cursor:\n",
    "    sql = \"\"\"\n",
    "    INSERT INTO source_id_characteristics (source_id, publication_date_decay)\n",
    "    VALUES (%s, %s)\n",
    "    \"\"\"\n",
    "    cursor.execute(sql, ('6512cdcad01a9c8e86263e05', 0.9))"
   ]
  },
  {
   "cell_type": "code",
   "execution_count": 20,
   "id": "2910d203-ef48-40b3-81a5-bdd4dd7dd26f",
   "metadata": {
    "tags": []
   },
   "outputs": [],
   "source": [
    "url = f\"http://insight-user-app-beta-env.eba-rnrpvmin.ap-south-1.elasticbeanstalk.com/articles/651dacc4701055199ecf995e?fetchSourceInfo=true\""
   ]
  },
  {
   "cell_type": "code",
   "execution_count": 21,
   "id": "87d7e394-cbea-4dab-b487-9db1bdcd44df",
   "metadata": {
    "tags": []
   },
   "outputs": [],
   "source": [
    "r = requests.get(url)"
   ]
  },
  {
   "cell_type": "code",
   "execution_count": 22,
   "id": "5988b536-d071-439c-86db-23841d6df789",
   "metadata": {
    "tags": []
   },
   "outputs": [],
   "source": [
    "import json"
   ]
  },
  {
   "cell_type": "code",
   "execution_count": 23,
   "id": "c13af8ef-d7b1-415f-b2f1-2d5552758439",
   "metadata": {
    "tags": []
   },
   "outputs": [
    {
     "data": {
      "text/plain": [
       "{'articleId': '651dacc4701055199ecf995e',\n",
       " 'url': 'https://economictimes.indiatimes.com/news/international/us/billboard-latin-music-week-2023-yng-lvcas-peso-pluma-and-grupo-frontera-mark-presence-heres-what-you-may-want-to-know/articleshow/104140976.cms',\n",
       " 'title': 'Billboard Latin Music Week 2023: Yng Lvcas, Peso Pluma and Grupo Frontera mark presence. Here’s what you m',\n",
       " 'shortDescription': 'Peso Pluma, Yng Lvcas and Grupo Frontera, at the Billboard Latin Music Week 2023, discussed their collaborative efforts in fueling the Mexican music revolution. They emphasized unity within the industry and highlighted their global hits, including  La Bebe (Remix)  and  Tulum.  ',\n",
       " 'publishedTime': '2023-10-04T01:43:00+05:30',\n",
       " 'lastUpdatedTime': '2023-10-04T01:43:00+05:30',\n",
       " 'tags': ['latin music week',\n",
       "  'Mexican Music',\n",
       "  'peso',\n",
       "  'Billboard Latin Music Week 2023',\n",
       "  'Billboard Latin Music Week',\n",
       "  'Billboard Latin Music',\n",
       "  'yng lvcas',\n",
       "  'peso pluma',\n",
       "  'grupo frontera'],\n",
       " 'articleImageUrl': 'https://economictimes.indiatimes.com/thumb/msid-104141051,width-1548,height-1024,imgsize-49040,overlay-economictimes/photo.jpg',\n",
       " 'category': None,\n",
       " 'authors': ['The Feed'],\n",
       " 'isPremiumArticle': False,\n",
       " 'source': {'sourceId': '6512cdcad01a9c8e86263e05',\n",
       "  'sourceName': 'economic-times',\n",
       "  'sourceLogo': 'https://img.etimg.com/photo/msid-74451948,quality-100/et-logo.jpg'}}"
      ]
     },
     "execution_count": 23,
     "metadata": {},
     "output_type": "execute_result"
    }
   ],
   "source": [
    "json.loads(r.text)"
   ]
  },
  {
   "cell_type": "code",
   "execution_count": 19,
   "id": "22a85e6d-9897-42bd-9ad1-bed26d002c6c",
   "metadata": {
    "tags": []
   },
   "outputs": [
    {
     "data": {
      "text/plain": [
       "{'articleId': '651dacc4701055199ecf995e',\n",
       " 'url': 'https://economictimes.indiatimes.com/news/international/us/billboard-latin-music-week-2023-yng-lvcas-peso-pluma-and-grupo-frontera-mark-presence-heres-what-you-may-want-to-know/articleshow/104140976.cms',\n",
       " 'title': 'Billboard Latin Music Week 2023: Yng Lvcas, Peso Pluma and Grupo Frontera mark presence. Here’s what you m',\n",
       " 'shortDescription': 'Peso Pluma, Yng Lvcas and Grupo Frontera, at the Billboard Latin Music Week 2023, discussed their collaborative efforts in fueling the Mexican music revolution. They emphasized unity within the industry and highlighted their global hits, including  La Bebe (Remix)  and  Tulum.  ',\n",
       " 'publishedTime': '2023-10-04T01:43:00+05:30',\n",
       " 'lastUpdatedTime': '2023-10-04T01:43:00+05:30',\n",
       " 'tags': ['latin music week',\n",
       "  'Mexican Music',\n",
       "  'peso',\n",
       "  'Billboard Latin Music Week 2023',\n",
       "  'Billboard Latin Music Week',\n",
       "  'Billboard Latin Music',\n",
       "  'yng lvcas',\n",
       "  'peso pluma',\n",
       "  'grupo frontera'],\n",
       " 'articleImageUrl': 'https://economictimes.indiatimes.com/thumb/msid-104141051,width-1548,height-1024,imgsize-49040,overlay-economictimes/photo.jpg',\n",
       " 'category': None,\n",
       " 'authors': ['The Feed'],\n",
       " 'isPremiumArticle': False,\n",
       " 'source': None}"
      ]
     },
     "execution_count": 19,
     "metadata": {},
     "output_type": "execute_result"
    }
   ],
   "source": [
    "get_article_metadata_from_api('651dacc4701055199ecf995e')"
   ]
  },
  {
   "cell_type": "code",
   "execution_count": 12,
   "id": "67a4e961-b919-4b5f-a43a-e76ae5c0efe2",
   "metadata": {
    "tags": []
   },
   "outputs": [
    {
     "data": {
      "text/plain": [
       "{'meta_data': {'is_premium_article': False,\n",
       "  'title': 'Billboard Latin Music Week 2023: Yng Lvcas, Peso Pluma and Grupo Frontera mark presence. Here’s what you m',\n",
       "  'short_description': 'Peso Pluma, Yng Lvcas and Grupo Frontera, at the Billboard Latin Music Week 2023, discussed their collaborative efforts in fueling the Mexican music revolution. They emphasized unity within the industry and highlighted their global hits, including  La Bebe (Remix)  and  Tulum.  ',\n",
       "  'published_time': '2023-10-04T01:43:00+05:30',\n",
       "  'last_updated_time': '2023-10-04T01:43:00+05:30',\n",
       "  'tags': ['latin music week',\n",
       "   'Mexican Music',\n",
       "   'peso',\n",
       "   'Billboard Latin Music Week 2023',\n",
       "   'Billboard Latin Music Week',\n",
       "   'Billboard Latin Music',\n",
       "   'yng lvcas',\n",
       "   'peso pluma',\n",
       "   'grupo frontera'],\n",
       "  'image_url': 'https://economictimes.indiatimes.com/thumb/msid-104141051,width-1548,height-1024,imgsize-49040,overlay-economictimes/photo.jpg',\n",
       "  'authors': ['The Feed']},\n",
       " 'cleaned_text': \"Peso Pluma, Yng Lvcas and Grupo Frontera, rising stars in Mexican music, discussed their careers and the genre's evolution at the Billboard Latin Music Week 2023. During The New Mexican Music Revolution panel presented by BMI, the artists emphasized collaboration's role in advancing the genre. Collaborations have played a crucial role in expanding the genre globally. Peso and Yng Lvcas teamed up for  La Bebe (Remix),  reaching No. 11 on the Billboard Hot 100. Grupo Frontera and Peso's  Tulum  reached No. 6 on the Hot Latin Songs chart.Greeicy and Mike Bahía started the Latin Music Week 2023  Billboard En Vivo  concert series on Monday, October 2. They performed for an hour at the Faena Theater. The show was sponsored by Michelob Ultra 21+. During their performance, they sang their popular songs from their solo careers and their collaborations.The Latin Music Week 2023 features various events, including a Superstar Q&A with Shakira and panels with industry veterans. Showcases by artists like Peso Pluma, etc were also part of the week.The official partners for the event included AT&T, Cheetos, CN Bank, Delta Air Lines, Lexus, Netflix, Michelob ULTRA, and Smirnoff.Latin Music Week coincided with the Billboard Latin Music Awards 2023 ceremony, which broadcasted live from Coral Gables, Florida, and was aired on Telemundo and other platforms throughout Latin America and the Caribbean.FAQsWhat role have collaborations played in the growth of the Mexican music genre discussed at Latin Music Week 2023?Collaborations have been instrumental in expanding the genre globally, as seen with hits like  La Bebe (Remix)  and  Tulum. How has unity among Mexican artists impacted the genre's recognition on a global scale, as mentioned in the panel discussion?Unity among Mexican artists has allowed the genre to gain global recognition and attracted the attention of a wider audience, marking a significant moment in Latin music history.\",\n",
       " 'article_images': [{'image_url': 'https://img.etimg.com/thumb/msid-104141051,width-300,height-225,imgsize-49040,,resizemode-75/billboard-latin-music-week-2023-yng-lvcas-peso-pluma-and-grupo-frontera-mark-presence-heres-what-you-may-want-to-know.jpg',\n",
       "   'image_caption': None}]}"
      ]
     },
     "execution_count": 12,
     "metadata": {},
     "output_type": "execute_result"
    }
   ],
   "source": [
    "__get_article_text_from_s3('651dacc4701055199ecf995e')"
   ]
  },
  {
   "cell_type": "code",
   "execution_count": 19,
   "id": "fb09b0f0-6d3a-410c-a4bf-e89dc0ec845d",
   "metadata": {
    "tags": []
   },
   "outputs": [
    {
     "name": "stdout",
     "output_type": "stream",
     "text": [
      "69.9 ms ± 1.38 ms per loop (mean ± std. dev. of 7 runs, 10 loops each)\n"
     ]
    }
   ],
   "source": [
    "%timeit __get_article_metadata_from_api('65138855395f46458f8bba18')"
   ]
  },
  {
   "cell_type": "code",
   "execution_count": 22,
   "id": "e0745a45-eb93-42dc-8f31-82c23573f2d5",
   "metadata": {
    "tags": []
   },
   "outputs": [
    {
     "name": "stdout",
     "output_type": "stream",
     "text": [
      "397 ms ± 17 ms per loop (mean ± std. dev. of 7 runs, 1 loop each)\n"
     ]
    }
   ],
   "source": [
    "%timeit __get_article_text_from_s3('65138855395f46458f8bba18')"
   ]
  },
  {
   "cell_type": "code",
   "execution_count": 34,
   "id": "6c5d537a-30f4-4e5c-bd06-04f9786eecea",
   "metadata": {
    "tags": []
   },
   "outputs": [],
   "source": [
    "import numpy as np"
   ]
  },
  {
   "cell_type": "code",
   "execution_count": 44,
   "id": "67fab895-9737-49a8-a23e-9d2437c94874",
   "metadata": {
    "tags": []
   },
   "outputs": [],
   "source": [
    "import pandas as pd"
   ]
  },
  {
   "cell_type": "code",
   "execution_count": 46,
   "id": "a6b91af7-898d-474f-a1a7-5e2e5835c850",
   "metadata": {
    "tags": []
   },
   "outputs": [],
   "source": [
    "from datetime import datetime"
   ]
  },
  {
   "cell_type": "code",
   "execution_count": 64,
   "id": "3e96da81-d57d-4b2f-821d-d6abad729305",
   "metadata": {
    "tags": []
   },
   "outputs": [],
   "source": [
    "# Sample DataFrame with a column of dates\n",
    "data = {'date_column': ['2023-09-25', '2023-09-26', '2023-09-27', '2022-10-12', '2021-10-06']}\n",
    "df = pd.DataFrame(data)\n",
    "\n",
    "# Convert the 'date_column' to datetime objects\n",
    "df['date_column'] = pd.to_datetime(df['date_column'])\n",
    "\n",
    "# Get today's date as a datetime object\n",
    "today = datetime.today()\n",
    "\n",
    "# Calculate the number of weeks from today and create a new column\n",
    "df['weeks_from_today'] = (df['date_column'] - today).dt.days//7"
   ]
  },
  {
   "cell_type": "code",
   "execution_count": 65,
   "id": "81819a9b-fd7e-475d-9eb8-fc9551bf17fd",
   "metadata": {
    "tags": []
   },
   "outputs": [
    {
     "data": {
      "text/html": [
       "<div>\n",
       "<style scoped>\n",
       "    .dataframe tbody tr th:only-of-type {\n",
       "        vertical-align: middle;\n",
       "    }\n",
       "\n",
       "    .dataframe tbody tr th {\n",
       "        vertical-align: top;\n",
       "    }\n",
       "\n",
       "    .dataframe thead th {\n",
       "        text-align: right;\n",
       "    }\n",
       "</style>\n",
       "<table border=\"1\" class=\"dataframe\">\n",
       "  <thead>\n",
       "    <tr style=\"text-align: right;\">\n",
       "      <th></th>\n",
       "      <th>date_column</th>\n",
       "      <th>weeks_from_today</th>\n",
       "    </tr>\n",
       "  </thead>\n",
       "  <tbody>\n",
       "    <tr>\n",
       "      <th>0</th>\n",
       "      <td>2023-09-25</td>\n",
       "      <td>-1</td>\n",
       "    </tr>\n",
       "    <tr>\n",
       "      <th>1</th>\n",
       "      <td>2023-09-26</td>\n",
       "      <td>-1</td>\n",
       "    </tr>\n",
       "    <tr>\n",
       "      <th>2</th>\n",
       "      <td>2023-09-27</td>\n",
       "      <td>-1</td>\n",
       "    </tr>\n",
       "    <tr>\n",
       "      <th>3</th>\n",
       "      <td>2022-10-12</td>\n",
       "      <td>-51</td>\n",
       "    </tr>\n",
       "    <tr>\n",
       "      <th>4</th>\n",
       "      <td>2021-10-06</td>\n",
       "      <td>-104</td>\n",
       "    </tr>\n",
       "  </tbody>\n",
       "</table>\n",
       "</div>"
      ],
      "text/plain": [
       "  date_column  weeks_from_today\n",
       "0  2023-09-25                -1\n",
       "1  2023-09-26                -1\n",
       "2  2023-09-27                -1\n",
       "3  2022-10-12               -51\n",
       "4  2021-10-06              -104"
      ]
     },
     "execution_count": 65,
     "metadata": {},
     "output_type": "execute_result"
    }
   ],
   "source": [
    "df"
   ]
  },
  {
   "cell_type": "code",
   "execution_count": 66,
   "id": "aa690639-466c-4545-9bcf-6c66cbb01112",
   "metadata": {
    "tags": []
   },
   "outputs": [],
   "source": [
    "df['decay'] = 1.05 ** df['weeks_from_today']"
   ]
  },
  {
   "cell_type": "code",
   "execution_count": 69,
   "id": "d6ef941e-769b-4329-ba02-6d2e1b4c5c56",
   "metadata": {
    "tags": []
   },
   "outputs": [
    {
     "name": "stdout",
     "output_type": "stream",
     "text": [
      "0.9523809523809523\n",
      "0.9523809523809523\n",
      "0.9523809523809523\n",
      "0.08305116854512426\n",
      "0.006256232740780622\n"
     ]
    }
   ],
   "source": [
    "for i, r in df.iterrows():\n",
    "    print(r['decay'])"
   ]
  },
  {
   "cell_type": "code",
   "execution_count": 94,
   "id": "835f46df-a0a2-4b2d-93fa-027114f23cc9",
   "metadata": {
    "tags": []
   },
   "outputs": [],
   "source": [
    "df['decay1'] = np.maximum(df['decay'], 0.2)"
   ]
  },
  {
   "cell_type": "code",
   "execution_count": 103,
   "id": "aa6564bf-c016-4f8d-a8c9-623a97c7982a",
   "metadata": {
    "tags": []
   },
   "outputs": [
    {
     "data": {
      "text/plain": [
       "9.965784284662087"
      ]
     },
     "execution_count": 103,
     "metadata": {},
     "output_type": "execute_result"
    }
   ],
   "source": [
    "np.log2(1000)"
   ]
  },
  {
   "cell_type": "code",
   "execution_count": 95,
   "id": "5d577006-7272-46b6-9fa8-567750bdb2fa",
   "metadata": {
    "tags": []
   },
   "outputs": [
    {
     "data": {
      "text/html": [
       "<div>\n",
       "<style scoped>\n",
       "    .dataframe tbody tr th:only-of-type {\n",
       "        vertical-align: middle;\n",
       "    }\n",
       "\n",
       "    .dataframe tbody tr th {\n",
       "        vertical-align: top;\n",
       "    }\n",
       "\n",
       "    .dataframe thead th {\n",
       "        text-align: right;\n",
       "    }\n",
       "</style>\n",
       "<table border=\"1\" class=\"dataframe\">\n",
       "  <thead>\n",
       "    <tr style=\"text-align: right;\">\n",
       "      <th></th>\n",
       "      <th>date_column</th>\n",
       "      <th>weeks_from_today</th>\n",
       "      <th>decay</th>\n",
       "      <th>decay1</th>\n",
       "    </tr>\n",
       "  </thead>\n",
       "  <tbody>\n",
       "    <tr>\n",
       "      <th>0</th>\n",
       "      <td>2023-09-25</td>\n",
       "      <td>-1</td>\n",
       "      <td>0.952381</td>\n",
       "      <td>0.952381</td>\n",
       "    </tr>\n",
       "    <tr>\n",
       "      <th>1</th>\n",
       "      <td>2023-09-26</td>\n",
       "      <td>-1</td>\n",
       "      <td>0.952381</td>\n",
       "      <td>0.952381</td>\n",
       "    </tr>\n",
       "    <tr>\n",
       "      <th>2</th>\n",
       "      <td>2023-09-27</td>\n",
       "      <td>-1</td>\n",
       "      <td>0.952381</td>\n",
       "      <td>0.952381</td>\n",
       "    </tr>\n",
       "    <tr>\n",
       "      <th>3</th>\n",
       "      <td>2022-10-12</td>\n",
       "      <td>-51</td>\n",
       "      <td>0.083051</td>\n",
       "      <td>0.200000</td>\n",
       "    </tr>\n",
       "    <tr>\n",
       "      <th>4</th>\n",
       "      <td>2021-10-06</td>\n",
       "      <td>-104</td>\n",
       "      <td>0.006256</td>\n",
       "      <td>0.200000</td>\n",
       "    </tr>\n",
       "  </tbody>\n",
       "</table>\n",
       "</div>"
      ],
      "text/plain": [
       "  date_column  weeks_from_today     decay    decay1\n",
       "0  2023-09-25                -1  0.952381  0.952381\n",
       "1  2023-09-26                -1  0.952381  0.952381\n",
       "2  2023-09-27                -1  0.952381  0.952381\n",
       "3  2022-10-12               -51  0.083051  0.200000\n",
       "4  2021-10-06              -104  0.006256  0.200000"
      ]
     },
     "execution_count": 95,
     "metadata": {},
     "output_type": "execute_result"
    }
   ],
   "source": [
    "df"
   ]
  },
  {
   "cell_type": "code",
   "execution_count": 74,
   "id": "24153ad6-b391-4f0e-a2a9-b798791f5555",
   "metadata": {
    "tags": []
   },
   "outputs": [
    {
     "data": {
      "text/plain": [
       "0.04398046511104"
      ]
     },
     "execution_count": 74,
     "metadata": {},
     "output_type": "execute_result"
    }
   ],
   "source": [
    "1.25 ** -14"
   ]
  },
  {
   "cell_type": "code",
   "execution_count": 78,
   "id": "01397731-70cf-4f48-b362-38b53d70c439",
   "metadata": {
    "tags": []
   },
   "outputs": [
    {
     "data": {
      "text/plain": [
       "2.44"
      ]
     },
     "execution_count": 78,
     "metadata": {},
     "output_type": "execute_result"
    }
   ],
   "source": [
    "sum([1.25**-x for x in range(3)])"
   ]
  },
  {
   "cell_type": "code",
   "execution_count": 80,
   "id": "acd6b65f-7eac-4cd0-8dc7-d86ed6803de3",
   "metadata": {
    "tags": []
   },
   "outputs": [],
   "source": [
    "from scipy.stats import beta"
   ]
  },
  {
   "cell_type": "code",
   "execution_count": 86,
   "id": "84b07a53-ab11-4ce7-ad48-25aa378faf7a",
   "metadata": {
    "tags": []
   },
   "outputs": [
    {
     "data": {
      "image/png": "[encoded data removed]",
      "text/plain": [
       "<Figure size 640x480 with 1 Axes>"
      ]
     },
     "metadata": {},
     "output_type": "display_data"
    }
   ],
   "source": [
    "import matplotlib.pyplot as plt\n",
    "fig, ax = plt.subplots(1, 1)"
   ]
  },
  {
   "cell_type": "code",
   "execution_count": 88,
   "id": "1cda3143-13dc-4e33-8509-d34ca644f10a",
   "metadata": {
    "tags": []
   },
   "outputs": [],
   "source": [
    "plt.show()"
   ]
  },
  {
   "cell_type": "code",
   "execution_count": 61,
   "id": "e3263e66-5c7b-43f2-8e67-f4f1ee08db9c",
   "metadata": {
    "tags": []
   },
   "outputs": [
    {
     "data": {
      "text/plain": [
       "0.7835261664684589"
      ]
     },
     "execution_count": 61,
     "metadata": {},
     "output_type": "execute_result"
    }
   ],
   "source": [
    "1.05**-5"
   ]
  },
  {
   "cell_type": "code",
   "execution_count": null,
   "id": "9cb0bcf5-008c-47e9-90d8-86f85a2ffd34",
   "metadata": {},
   "outputs": [],
   "source": []
  },
  {
   "cell_type": "code",
   "execution_count": 18,
   "id": "29b90974-8fb9-4b15-a58b-d8996710a4a1",
   "metadata": {
    "scrolled": true,
    "tags": []
   },
   "outputs": [
    {
     "data": {
      "text/plain": [
       "{'articleId': '6513889f395f46458f8bba9d',\n",
       " 'url': 'https://economictimes.indiatimes.com/tech/startups/harness-the-power-of-industry-5-0-with-the-latest-sector-focussed-mentorship-cohort-of-accel-3-0/articleshow/103578823.cms',\n",
       " 'title': 'Harness the power of Industry 5.0 with the latest sector-focussed mentorship cohort of Accel 3.0',\n",
       " 'shortDescription': 'The Industry 5.0 cohort by Accel Atoms 3.0 is set to ignite the pace of startup innovations in the industrial manufacturing space, with a focus on empowering visionary entrepreneurs with the vision to power the future of manufacturing. Join the sector-focussed mentorship cohort to connect with industry experts, tech specialists, researchers, founders as part of the Accel Atoms Industry 5.0 cohort, and glean actionable insights into the evolving human-tech pivot fuelling innovation.',\n",
       " 'publishedTime': '2023-09-11T17:01:00+05:30',\n",
       " 'lastUpdatedTime': '2023-09-11T17:01:00+05:30',\n",
       " 'tags': ['accel',\n",
       "  'Industry 5.0',\n",
       "  'Internet of Things',\n",
       "  'Accel 3.0',\n",
       "  'Accel industry',\n",
       "  'industry plans'],\n",
       " 'articleImageUrl': 'https://economictimes.indiatimes.com/thumb/msid-103578907,width-1200,height-900,imgsize-23320,overlay-ettech/photo.jpg',\n",
       " 'category': None,\n",
       " 'authors': ['ET Special'],\n",
       " 'isPremiumArticle': True,\n",
       " 'source': None}"
      ]
     },
     "execution_count": 18,
     "metadata": {},
     "output_type": "execute_result"
    }
   ],
   "source": [
    "__get_article_metadata_from_api('6513889f395f46458f8bba9d')"
   ]
  },
  {
   "cell_type": "code",
   "execution_count": 18,
   "id": "45fd5014-98c3-44be-ab7b-38f6eefd6eeb",
   "metadata": {
    "tags": []
   },
   "outputs": [
    {
     "data": {
      "text/plain": [
       "{'meta_data': {'is_premium_article': True,\n",
       "  'title': 'Harness the power of Industry 5.0 with the latest sector-focussed mentorship cohort of Accel 3.0',\n",
       "  'short_description': 'The Industry 5.0 cohort by Accel Atoms 3.0 is set to ignite the pace of startup innovations in the industrial manufacturing space, with a focus on empowering visionary entrepreneurs with the vision to power the future of manufacturing. Join the sector-focussed mentorship cohort to connect with industry experts, tech specialists, researchers, founders as part of the Accel Atoms Industry 5.0 cohort, and glean actionable insights into the evolving human-tech pivot fuelling innovation.',\n",
       "  'published_time': '2023-09-11T17:01:00+05:30',\n",
       "  'last_updated_time': '2023-09-11T17:01:00+05:30',\n",
       "  'tags': ['accel',\n",
       "   'Industry 5.0',\n",
       "   'Internet of Things',\n",
       "   'Accel 3.0',\n",
       "   'Accel industry',\n",
       "   'industry plans'],\n",
       "  'image_url': 'https://economictimes.indiatimes.com/thumb/msid-103578907,width-1200,height-900,imgsize-23320,overlay-ettech/photo.jpg',\n",
       "  'authors': ['ET Special']}}"
      ]
     },
     "execution_count": 18,
     "metadata": {},
     "output_type": "execute_result"
    }
   ],
   "source": [
    "__get_article_text_from_s3('6513889f395f46458f8bba9d')"
   ]
  },
  {
   "cell_type": "code",
   "execution_count": null,
   "id": "427f70fc-99bd-47d5-93a5-386224b1ec70",
   "metadata": {},
   "outputs": [],
   "source": []
  }
 ],
 "metadata": {
  "kernelspec": {
   "display_name": "recoenv",
   "language": "python",
   "name": "recoenv"
  },
  "language_info": {
   "codemirror_mode": {
    "name": "ipython",
    "version": 3
   },
   "file_extension": ".py",
   "mimetype": "text/x-python",
   "name": "python",
   "nbconvert_exporter": "python",
   "pygments_lexer": "ipython3",
   "version": "3.11.5"
  }
 },
 "nbformat": 4,
 "nbformat_minor": 5
}
