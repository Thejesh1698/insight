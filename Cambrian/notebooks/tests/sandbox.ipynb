{
 "cells": [
  {
   "cell_type": "code",
   "execution_count": 1,
   "id": "4f763d9f-23e1-431d-aa2f-da1f2ae68fc4",
   "metadata": {
    "tags": []
   },
   "outputs": [
    {
     "name": "stderr",
     "output_type": "stream",
     "text": [
      "/var/folders/d4/cgyr_gnj7nn2wy_hq40gkq8c0000gq/T/ipykernel_69476/1083430745.py:4: UserWarning: \n",
      "The version_base parameter is not specified.\n",
      "Please specify a compatability version level, or None.\n",
      "Will assume defaults for version 1.1\n",
      "  with initialize(config_path=\"../../conf\"):\n"
     ]
    }
   ],
   "source": [
    "parent_folder = '/Users/ravi.tej/Desktop/ML/Recommendations/cambrian/'\n",
    "data_folder = parent_folder + 'data/'\n",
    "from hydra import compose, initialize\n",
    "with initialize(config_path=\"../../conf\"):\n",
    "    # Compose the configuration\n",
    "    cfg = compose(config_name=\"ClustersResetService.yaml\")\n",
    "\n",
    "import os\n",
    "\n",
    "import xml.etree.ElementTree as ET\n",
    "\n",
    "tree = ET.parse('../../conf/application.run.xml')\n",
    "root = tree.getroot()\n",
    "\n",
    "envs_element = root.find('./configuration/envs')\n",
    "for variable in envs_element.findall('env'):\n",
    "    name = variable.get('name')\n",
    "    value = variable.get('value')\n",
    "    os.environ[name] = value"
   ]
  },
  {
   "cell_type": "code",
   "execution_count": 2,
   "id": "9308672e-c624-45f9-bae2-c0db6336c9c4",
   "metadata": {
    "tags": []
   },
   "outputs": [
    {
     "name": "stderr",
     "output_type": "stream",
     "text": [
      "/Users/ravi.tej/anaconda3/envs/recoenv/lib/python3.11/site-packages/umap/distances.py:1063: NumbaDeprecationWarning: The 'nopython' keyword argument was not supplied to the 'numba.jit' decorator. The implicit default value for this argument is currently False, but it will be changed to True in Numba 0.59.0. See https://numba.readthedocs.io/en/stable/reference/deprecation.html#deprecation-of-object-mode-fall-back-behaviour-when-using-jit for details.\n",
      "  @numba.jit()\n",
      "/Users/ravi.tej/anaconda3/envs/recoenv/lib/python3.11/site-packages/umap/distances.py:1071: NumbaDeprecationWarning: The 'nopython' keyword argument was not supplied to the 'numba.jit' decorator. The implicit default value for this argument is currently False, but it will be changed to True in Numba 0.59.0. See https://numba.readthedocs.io/en/stable/reference/deprecation.html#deprecation-of-object-mode-fall-back-behaviour-when-using-jit for details.\n",
      "  @numba.jit()\n",
      "/Users/ravi.tej/anaconda3/envs/recoenv/lib/python3.11/site-packages/umap/distances.py:1086: NumbaDeprecationWarning: The 'nopython' keyword argument was not supplied to the 'numba.jit' decorator. The implicit default value for this argument is currently False, but it will be changed to True in Numba 0.59.0. See https://numba.readthedocs.io/en/stable/reference/deprecation.html#deprecation-of-object-mode-fall-back-behaviour-when-using-jit for details.\n",
      "  @numba.jit()\n",
      "/Users/ravi.tej/anaconda3/envs/recoenv/lib/python3.11/site-packages/umap/umap_.py:660: NumbaDeprecationWarning: The 'nopython' keyword argument was not supplied to the 'numba.jit' decorator. The implicit default value for this argument is currently False, but it will be changed to True in Numba 0.59.0. See https://numba.readthedocs.io/en/stable/reference/deprecation.html#deprecation-of-object-mode-fall-back-behaviour-when-using-jit for details.\n",
      "  @numba.jit()\n"
     ]
    }
   ],
   "source": [
    "import sys\n",
    "\n",
    "sys.path.append('/Users/ravi.tej/Desktop/ML/Recommendations/cambrian/')\n",
    "\n",
    "from src.clustering.ClustersResetService import ClustersResetService\n",
    "from src.clustering.ClusterAssignmentService import ClusterAssignmentService\n",
    "\n",
    "import hydra\n",
    "import os\n",
    "from hydra import compose, initialize"
   ]
  },
  {
   "cell_type": "code",
   "execution_count": 3,
   "id": "428eb306-2150-4668-ab9e-4d279078a5ba",
   "metadata": {
    "tags": []
   },
   "outputs": [],
   "source": [
    "from sql.clustering.ClusteringSQL import ClusteringSQL"
   ]
  },
  {
   "cell_type": "code",
   "execution_count": 4,
   "id": "24b45069-c16c-4fca-a4ac-881b2bd2b88a",
   "metadata": {
    "tags": []
   },
   "outputs": [],
   "source": [
    "from sql.embeddings.EmbeddingSQL import EmbeddingSQL"
   ]
  },
  {
   "cell_type": "code",
   "execution_count": 5,
   "id": "3f6d9103-4b3e-4b91-9f4b-b3fbfef686ac",
   "metadata": {
    "tags": []
   },
   "outputs": [],
   "source": [
    "all_articles = EmbeddingSQL.get_article_ids_with_embeddings()"
   ]
  },
  {
   "cell_type": "code",
   "execution_count": 6,
   "id": "993a4f3d-9258-403c-a394-874834ef5c05",
   "metadata": {
    "tags": []
   },
   "outputs": [],
   "source": [
    "import numpy as np"
   ]
  },
  {
   "cell_type": "code",
   "execution_count": 7,
   "id": "cf0df5d9-9fe3-4154-b61a-540517a61d32",
   "metadata": {
    "tags": []
   },
   "outputs": [],
   "source": [
    "ra = list(np.random.choice(all_articles, 10))"
   ]
  },
  {
   "cell_type": "code",
   "execution_count": 8,
   "id": "a1bc7625-97f1-47a5-8374-d851e24268f1",
   "metadata": {
    "tags": []
   },
   "outputs": [
    {
     "data": {
      "text/plain": [
       "['651e0fbca662d76276b871cc',\n",
       " '651de5d8a662d76276b80aa5',\n",
       " '651dc44ba662d76276b7b157',\n",
       " '651df4eea662d76276b83216',\n",
       " '651e18f7a662d76276b88762',\n",
       " '651e0a64a662d76276b86552',\n",
       " '651ddd0da662d76276b7f340',\n",
       " '651dcd0da662d76276b7c8b4',\n",
       " '651de3b1a662d76276b80524',\n",
       " '651de02ea662d76276b7fb9f']"
      ]
     },
     "execution_count": 8,
     "metadata": {},
     "output_type": "execute_result"
    }
   ],
   "source": [
    "ra"
   ]
  },
  {
   "cell_type": "code",
   "execution_count": 9,
   "id": "884bffd6-74f6-4bc0-b00a-fb00cb6b698b",
   "metadata": {
    "tags": []
   },
   "outputs": [],
   "source": [
    "k = ClusteringSQL.get_storyline_cluster_ids_for_article_id_list(ra)"
   ]
  },
  {
   "cell_type": "code",
   "execution_count": 11,
   "id": "ce237d51-5a9b-47ea-81d9-60a9b133c2c5",
   "metadata": {
    "tags": []
   },
   "outputs": [
    {
     "data": {
      "text/plain": [
       "{'651e0fbca662d76276b871cc': {'storyline_id': -1, 'cluster_id': 203},\n",
       " '651de3b1a662d76276b80524': {'storyline_id': 15, 'cluster_id': 112},\n",
       " '651df4eea662d76276b83216': {'storyline_id': 38, 'cluster_id': 213},\n",
       " '651ddd0da662d76276b7f340': {'storyline_id': -1, 'cluster_id': 203},\n",
       " '651de02ea662d76276b7fb9f': {'storyline_id': 12, 'cluster_id': 149},\n",
       " '651dcd0da662d76276b7c8b4': {'storyline_id': 100, 'cluster_id': 192},\n",
       " '651e18f7a662d76276b88762': {'storyline_id': -1, 'cluster_id': 199},\n",
       " '651de5d8a662d76276b80aa5': {'storyline_id': -1, 'cluster_id': 207},\n",
       " '651e0a64a662d76276b86552': {'storyline_id': 6, 'cluster_id': 199},\n",
       " '651dc44ba662d76276b7b157': {'storyline_id': -1, 'cluster_id': 199}}"
      ]
     },
     "execution_count": 11,
     "metadata": {},
     "output_type": "execute_result"
    }
   ],
   "source": [
    "{row['article_id']: {'storyline_id': row['storyline_id'], 'cluster_id': row['cluster_id']} for index, row in k.iterrows()}"
   ]
  },
  {
   "cell_type": "code",
   "execution_count": 4,
   "id": "9e07e09a-fb7a-4a6b-9a60-7e9c1d2eed9a",
   "metadata": {
    "scrolled": true,
    "tags": []
   },
   "outputs": [
    {
     "data": {
      "text/plain": [
       "{99: 'suzlon_wind_mw wind_wind energy_suzlon bags',\n",
       " 30: 'hero_sales_motocorp_hero motocorp_units',\n",
       " 171: 'crypto_bitcoin_ethereum_trading_pomerdoge',\n",
       " 205: 'cr_ipo_rs_crore_firms',\n",
       " 115: 'coal_mt_india coal_grows_coal india',\n",
       " 96: 'jsw_jsw steel_steel_mt jsw_rises 58',\n",
       " 163: 'fpis_cr_equities_housing_real estate',\n",
       " 105: 'jewellery_gem jewellery_jewellery exports_gem_india gem',\n",
       " 62: 'leyland_ashok leyland_ashok_trucks_electric',\n",
       " 55: 'mandaviya_mansukh_mansukh mandaviya_health_medical devices',\n",
       " 35: 'insolvency_nclt_resolution_future_future retail',\n",
       " 12: 'sebi_disclosure_comes_sebi comes_sebi proposes',\n",
       " 131: 'appoints_executive_ceo_md_director',\n",
       " 183: 'projects_cr_fpis_rs_equities',\n",
       " 207: 'sales_electric_ev_units_vehicles',\n",
       " 28: 'agri_farming_drone_agriculture_himachal',\n",
       " 216: 'india_rs_sebi_cr_says',\n",
       " 103: 'battery_cell_india battery_advanced chemistry_chemistry cell',\n",
       " 64: 'appoints_ceo_announces_gupta_chairman',\n",
       " 52: 'rbi_norms_digital_investment banks_billpay',\n",
       " 169: 'covid_vaccine_covid 19_institute india_serum',\n",
       " 187: 'power_power consumption_billion_consumption grows_india power',\n",
       " 121: 'firms_mcap_valued_valued firms_10 valued',\n",
       " 141: 'electric_ev_tvs_charging_tvs motor',\n",
       " 147: 'hdfc_hdfc bank_bank_credit_merger',\n",
       " 40: 'sitharaman_fm_nirmala_adb_g20',\n",
       " 39: 'tea_oil imports_imports_retaliatory_duties',\n",
       " 180: 'withdrawal_000 notes_rs 000_notes_upi',\n",
       " 194: 'oil_gas_ongc_energy_transition',\n",
       " 90: 'hdfc_hdfc bank_merger_bank_merger hdfc',\n",
       " 198: 'air_airport_flight_air india_gst',\n",
       " 176: 'fmcg_itc_hotels_growth_open',\n",
       " 88: 'hotels_hospitality_hotel_new hotels_plans',\n",
       " 86: 'dumping_anti dumping_anti_chinese_dgtr',\n",
       " 199: 'trade_exports_uk_fta_india',\n",
       " 203: 'bank_rbi_loan_credit_banks',\n",
       " 211: 'india_cr_rs_air_says',\n",
       " 214: 'india_rs_sebi_cr_says',\n",
       " 61: 'covid_vaccine_covid 19_serum_serum institute',\n",
       " 56: 'orders_kalpataru_bags_orders worth_worth rs',\n",
       " 222: 'rs_india_crore_cr_pc',\n",
       " 14: 'gold_silver_declines rs_gold falls_declines',\n",
       " 208: 'india_air_airport_flight_air india',\n",
       " 111: 'eu_eu carbon_carbon tax_carbon_deforestation regulation',\n",
       " 200: 'air_airport_flight_air india_india',\n",
       " 94: 'fraud_court_cbi_lawyer_cheating',\n",
       " 142: 'sales_units_maruti_mercedes_hero',\n",
       " 112: 'dollar_rupee_paise_dollar rupee_82',\n",
       " 116: 'mw_energy_power_mw solar_solar',\n",
       " 124: 'sales_units_hero_motocorp_hero motocorp',\n",
       " 11: 'ai_timespro_et_2023_iim',\n",
       " 10: 'results_profit_net profit_net_q1',\n",
       " 21: 'fmcg_growth_fy24_volume_consumer',\n",
       " 91: 'trading_strategy_mobile trading_like pro_rule based',\n",
       " 22: 'silver_gold_jumps rs_climbs rs_climbs',\n",
       " 218: 'gold_silver_rs_results_profit',\n",
       " 25: 'ev_charging_ev charging_charging stations_evs',\n",
       " 6: 'uk_fta_trade_india uk_talks',\n",
       " 213: 'coal_steel_mt_coal india_tata steel',\n",
       " 80: 'withdrawal_000 notes_rs 000_notes_note',\n",
       " 174: 'ipo_adani_papers_papers sebi_files',\n",
       " 104: 'itc_fmcg_sanjiv puri_fmcg business_sanjiv',\n",
       " 38: 'coal_mt_coal india_coal production_india coal',\n",
       " 191: 'crypto_target price_price rs_bitcoin_buy',\n",
       " 26: 'wheat_paddy_rice_omss_onion',\n",
       " 79: 'price rs_target price_target_buy_price',\n",
       " 143: 'oil_hardeep_puri_blending_ethanol blending',\n",
       " 125: 'steel_tata steel_jsw_jsw steel_tata',\n",
       " 92: 'epfo_pension_higher_higher eps_eps pension',\n",
       " 172: 'ipl_viewership_disney star_disney_star',\n",
       " 188: 'rbi_bank_rbi imposes_penalty_imposes rs',\n",
       " 144: 'trade_uk_fta_exports_india uk',\n",
       " 2: '5g_jio_vodafone_idea_vodafone idea',\n",
       " 149: 'sebi_case_case sebi_entities_disclosure',\n",
       " 179: 'withdrawal_000 notes_rs 000_notes_upi',\n",
       " 42: 'lic_insurance_life_general_insurers',\n",
       " 110: 'listed firms_bse listed_bse_listed_high rs',\n",
       " 84: 'loan_loans_bad credit_guaranteed approval_guaranteed',\n",
       " 181: 'gst_tax_pli_gst council_dpiit',\n",
       " 63: 'oil_russia_prices_saudi_aramco reports',\n",
       " 177: 'tea_dumping_anti dumping_anti_imports',\n",
       " 75: 'electric_car_electric vehicles_electric car_vehicles',\n",
       " 220: 'india_rs_pc_cr_sebi',\n",
       " 81: 'lancet_disease_study_lancet study_health',\n",
       " 134: 'stocks_52 week_52_week_nifty',\n",
       " 145: 'pension_epfo_higher_eps_eps pension',\n",
       " 37: 'inflation_tomato_prices_retail inflation_tomato prices',\n",
       " 129: 'stocks_52 week_52_week_sma',\n",
       " 83: 'tata motors_motors_jlr_chandrasekaran_tata',\n",
       " 184: 'growth_fy24_fmcg_gdp_grow',\n",
       " 130: 'energy_mw_power_solar_project',\n",
       " 168: 'growth_economy_gdp_grow_cement',\n",
       " 201: 'bank_rbi_credit_hdfc_loan',\n",
       " 204: 'air_airport_flight_air india_india',\n",
       " 219: 'dollar_rupee_paise_gold_silver',\n",
       " 72: 'coal imports_mt_ore_coal_nmdc',\n",
       " 0: 'air_flight_airport_air india_aviation',\n",
       " 132: 'trade_uk_fta_exports_india uk',\n",
       " 85: 'appoints_director_bank_md ceo_md',\n",
       " 8: 'power_solar_gw_singh_energy',\n",
       " 102: 'bank maharashtra_maharashtra_bank_loan growth_loan',\n",
       " 69: 'kia_hyundai_kia india_units_seltos',\n",
       " 158: 'gst_tax_gst council_evasion_council',\n",
       " 34: 'students_ug_ugc_cuet_exam',\n",
       " 71: 'torrent power_power_torrent_ptc_ptc india',\n",
       " 43: 'maruti_suzuki_maruti suzuki_passenger vehicle_passenger',\n",
       " 137: 'ev_charging_electric_ev charging_vehicles',\n",
       " 195: 'air_flight_airport_air india_india',\n",
       " 15: 'rupee falls_falls_paise_dollar_rupee',\n",
       " 206: 'inflation_growth_rate_fed_fy24',\n",
       " 151: 'electric_ev_tvs_charging_tvs motor',\n",
       " 50: 'ondc_dpiit_commerce_inter ministerial_commerce policy',\n",
       " 122: 'ongc_gas_oil_indianoil_ioc',\n",
       " 31: 'fpis_equities_indian equities_cr_invest',\n",
       " 20: 'drug_usfda_gets_usfda nod_generic',\n",
       " 120: 'power_solar_energy_mw_project',\n",
       " 97: 'tokyo_tokyo stocks_close_stocks close_lower',\n",
       " 197: 'ipo_cr_rs_projects_crore',\n",
       " 146: 'metro_dmrc_bullet train_bullet_rail',\n",
       " 76: 'bank q1_profit_results_net profit_net',\n",
       " 217: 'india_rs_sebi_cr_new',\n",
       " 190: 'trade_exports_uk_fta_india',\n",
       " 19: 'energy_mw_power_tata power_project',\n",
       " 114: 'gold_silver_rs_declines rs_declines',\n",
       " 77: 'debt_external debt_india external_external_debt cost',\n",
       " 108: 'ipl_disney star_disney_viewership_star',\n",
       " 161: 'air_flight_airport_air india_aviation',\n",
       " 196: 'air_airport_flight_air india_gst',\n",
       " 1: 'apple_semiconductor_india_smartphone_chip',\n",
       " 17: 'crypto_bitcoin_ethereum_coin_everlodge',\n",
       " 78: 'shipping_port_kolkata port_cargo_kolkata',\n",
       " 100: 'usd_deal_usd billion_billion_deal activity',\n",
       " 215: 'india_rs_sebi_cr_says',\n",
       " 175: 'oil_hardeep_puri_blending_ethanol blending',\n",
       " 95: 'paper_paper industry_domestic demand_ferrous_non ferrous',\n",
       " 57: 'puri_hardeep_blending_ethanol blending_ethanol',\n",
       " 44: 'rsi_nifty_stocks_stocks rsi_10 stocks',\n",
       " 202: 'air_airport_flight_air india_india',\n",
       " 59: 'office_space_ft_sq ft_sq',\n",
       " 162: 'inflation_fed_rate_rbi_pause',\n",
       " 182: 'drug_usfda_gets_pharma_gets usfda',\n",
       " 60: 'bullet train_bullet_train project_project_rail',\n",
       " 155: 'pli_dpiit_ondc_pli scheme_scheme',\n",
       " 127: 'fed_rate_inflation_rbi_pause',\n",
       " 159: 'bank_hdfc_bank maharashtra_hdfc bank_maharashtra',\n",
       " 210: 'india_air_airport_flight_air india',\n",
       " 119: 'vande_vande bharat_railway_bharat_train',\n",
       " 154: 'ipo_adani_papers_papers sebi_files',\n",
       " 209: 'cr_ipo_rs_inflation_crore',\n",
       " 67: 'coal_coal india_coal ministry_7th_auction',\n",
       " 150: 'air_flight_airport_air india_aviation',\n",
       " 135: 'rbi_rbi imposes_penalty_imposes rs_imposes',\n",
       " 107: 'sjvn_mw_mw solar_200 mw_solar',\n",
       " 47: 'cement_paints_berger paints_berger_coatings industry',\n",
       " 192: 'ipo_adani_papers_papers sebi_power',\n",
       " 58: 'steel_tata steel_tata_narendran_green steel',\n",
       " 73: 'voices_voices concern_advertisements betting_guild_guild voices',\n",
       " 186: 'vande_vande bharat_train_railway_bharat',\n",
       " 106: 'nps_pfrda_pension_pfrda chairman_chairman',\n",
       " 118: 'sebi_case_disclosure_entities_case sebi',\n",
       " 178: 'covid_vaccine_covid 19_cell_institute india',\n",
       " 9: 'rupee rises_dollar_rupee_paise_rises',\n",
       " 87: 'zee_zee entertainment_sat_entertainment_zeel',\n",
       " 66: 'nestle_growing_fastest growing_india fastest_beer',\n",
       " 49: 'irdai_life_surety_insurance_surety bonds',\n",
       " 16: 'fed_rate_markets_asian_european',\n",
       " 185: 'air_flight_airport_air india_aviation',\n",
       " 113: 'results_profit_net profit_net_q1',\n",
       " 148: 'target price_price rs_leyland_ashok_ashok leyland',\n",
       " 53: 'banks_sitharaman_yojana_fm_loan',\n",
       " 89: 'dmrc_metro_delhi metro_line_delhi',\n",
       " 70: 'day sma_sma_stocks_day_crossover',\n",
       " 4: 'housing_estate_real estate_real_properties',\n",
       " 193: 'bank_rbi_credit_loan_hdfc',\n",
       " 212: 'india_rs_cr_air_says',\n",
       " 3: 'ipo_papers_papers sebi_files_sebi',\n",
       " 160: 'insolvency_nclt_zee_resolution_plea',\n",
       " 41: 'valued_10 valued_valued firms_firms_mcap',\n",
       " 173: 'stocks_52 week_52_week_nifty',\n",
       " 136: 'sales_units_maruti_hero_motocorp',\n",
       " 45: '52 week_52_week_stocks_stocks hit',\n",
       " 117: 'steel_tata steel_tata_plant_steel plant',\n",
       " 109: 'upi_rupay_cards_rupay credit_credit cards',\n",
       " 68: 'rbi imposes_penalty_imposes rs_imposes_rbi',\n",
       " 27: 'tvs_tvs motor_electric_motor_electric wheeler',\n",
       " 156: 'usd_debt_billion_deal_usd billion',\n",
       " 123: 'sitharaman_fm_nirmala_nirmala sitharaman_banks',\n",
       " 140: 'fmcg_itc_growth_consumer_fy24',\n",
       " 133: 'rice_wheat_paddy_basmati_export',\n",
       " 167: 'rice_wheat_agri_govt_crop',\n",
       " 32: 'projects_highways_infra projects_road_infra',\n",
       " 36: 'sebi_case_entities_case sebi_lakh fine',\n",
       " 29: 'ongc_gas_ioc_gail_oil',\n",
       " 128: 'coal_mt_coal india_india coal_grows',\n",
       " 74: 'steel_steel plant_plant_jspl_rinl',\n",
       " 101: 'nsel case_nsel_sebi cancels_cancels_cancels registration',\n",
       " 170: 'bank_hdfc_credit_loan_bank maharashtra',\n",
       " 46: 'pli_pli scheme_scheme_linked_linked incentive',\n",
       " 138: 'fpis_cr_equities_housing_real estate',\n",
       " 153: 'growth_economy_gdp_cement_grow',\n",
       " 164: 'drug_usfda_pharma_gets_generic',\n",
       " 189: 'insolvency_nclt_zee_resolution_entertainment',\n",
       " 139: 'projects_highways_infra projects_worth rs_road',\n",
       " 24: 'mercedes_mercedes benz_audi_benz_sales',\n",
       " 7: 'exports_commerce_trade_toy_exporters',\n",
       " 13: 'vande_vande bharat_bharat_bharat express_railway',\n",
       " 221: 'india_rs_pc_cr_sebi',\n",
       " 65: 'rice_basmati_rice exports_ban_rice ban',\n",
       " 33: 'adani_adani group_group_adani ports_ports',\n",
       " 54: 'energy_transition_energy transition_climate_tripling',\n",
       " 157: 'exam_education_ai_timespro_2023',\n",
       " 51: 'branches_institutions_credit_financial_strong',\n",
       " 48: 'rbi_rate_inflation_experts_policy',\n",
       " 23: 'accident_train_railways_railway_odisha',\n",
       " 165: 'tea_jewellery_imports_oil imports_retaliatory',\n",
       " 126: 'irdai_life_insurance_insurers_lic',\n",
       " 82: 'power consumption_india power_consumption grows_consumption_billion units',\n",
       " 5: 'gst_tax_gst council_evasion_council',\n",
       " 93: 'trade_transactions_bangladesh_rupee trade_rupee',\n",
       " 152: 'power_power consumption_india power_consumption grows_consumption',\n",
       " 98: 'gas_oil gas_cairn_cairn oil_pipeline',\n",
       " 18: 'economy_gdp_growth_cea_economic',\n",
       " 166: 'hotels_hospitality_nestle_growing_open'}"
      ]
     },
     "execution_count": 4,
     "metadata": {},
     "output_type": "execute_result"
    }
   ],
   "source": [
    "ClusteringSQL.get_cluster_names()"
   ]
  },
  {
   "cell_type": "code",
   "execution_count": 3,
   "id": "05a317c5-7c31-4741-9929-22d45a6ab78b",
   "metadata": {
    "tags": []
   },
   "outputs": [],
   "source": [
    "from src.embeddings._utils import __get_article_text_from_s3"
   ]
  },
  {
   "cell_type": "code",
   "execution_count": 4,
   "id": "87699ba9-de0b-4601-ae1c-4f63972de44f",
   "metadata": {
    "tags": []
   },
   "outputs": [
    {
     "data": {
      "text/plain": [
       "{'meta_data': {'is_premium_article': False,\n",
       "  'title': 'Earth Defense Force 6 on PS5, PS4, PC via Steam: Release date, key features of video game',\n",
       "  'short_description': 'Earth Defense Force 6 with English language support will be launched next year. The video game has a fresh storyline.',\n",
       "  'published_time': '2023-10-13T02:12:00+05:30',\n",
       "  'last_updated_time': '2023-10-13T02:12:00+05:30',\n",
       "  'tags': ['Earth Defense Force 6',\n",
       "   'earth defense force 6 release date',\n",
       "   'earth defense force',\n",
       "   'earth defense force 6 with english language',\n",
       "   'earth defense force 6 video game'],\n",
       "  'image_url': 'https://economictimes.indiatimes.com/thumb/msid-104381753,width-320,height-180,imgsize-10762,overlay-economictimes/photo.jpg',\n",
       "  'authors': ['The Feed']},\n",
       " 'cleaned_text': \"Earth Defense Force 6 is set to make its debut on PS5, PS4, and PC via Steam in the western market in the spring of 2024. While the latest installment in D3Publisher's well-established Earth Defense Force series has been available in Japan for over a year, it is now poised for its release in Western regions.Earth Defense Force 6 initially launched on PlayStation 5 and PlayStation 4 in Japan on August 25, 2022. As previously confirmed, Clouded Leopard Entertainment will bring the PlayStation 5 and PlayStation 4 versions with English language support to the Asian market in 2024.The game introduces a fresh storyline, marking the return of familiar classes like Ranger, Air Raider, Wing Diver, and Fencer, along with an array of new missions and weaponry.Earth Defense Force 6 unfolds two years after the events of the previous game, where humanity emerged victorious against the invading alien race known as the Primers. Despite this victory, some Primers managed to survive, leading to ongoing conflicts between the two factions on the remnants of Earth. These clashes persist as the planet has suffered the loss of 90% of its population.In the past, D3Publisher released Earth Defense Force 5 digitally on the PS4 in the West in December 2018, following its Japanese launch in December 2017. The game became available on PC through Steam in July 2019. PQube also released a physical edition of Earth Defense Force 5 for PlayStation 4 in North America and Europe in September 2020.Additionally, D3Publisher is in the process of developing Earth Defense Force: World Brothers 2, a sequel to the Earth Defense Force: World Brothers spinoff game, which will be available for PS5, PS4, and Switch.FAQsQ1. When will Earth Defense Force 6 release?A1. Earth Defense Force 6 will release in 2024.Q2. Where can I play Earth Defense Force 6?A2. Once released, Earth Defense Force 6 can be played on PS5, PS4, PC via Steam.\",\n",
       " 'article_images': [{'image_url': 'https://img.etimg.com/thumb/msid-104381753,width-300,height-225,imgsize-10762,,resizemode-75/earth-defense-force-6-on-ps5-ps4-pc-via-steam-release-date-key-features-of-video-game.jpg',\n",
       "   'image_caption': None}]}"
      ]
     },
     "execution_count": 4,
     "metadata": {},
     "output_type": "execute_result"
    }
   ],
   "source": [
    "__get_article_text_from_s3('6528b2d250af0e25a9122f4e')"
   ]
  },
  {
   "cell_type": "code",
   "execution_count": null,
   "id": "0fa08268-b222-40d2-9fe2-3b43fa00895d",
   "metadata": {},
   "outputs": [],
   "source": []
  }
 ],
 "metadata": {
  "kernelspec": {
   "display_name": "recoenv",
   "language": "python",
   "name": "recoenv"
  },
  "language_info": {
   "codemirror_mode": {
    "name": "ipython",
    "version": 3
   },
   "file_extension": ".py",
   "mimetype": "text/x-python",
   "name": "python",
   "nbconvert_exporter": "python",
   "pygments_lexer": "ipython3",
   "version": "3.11.5"
  }
 },
 "nbformat": 4,
 "nbformat_minor": 5
}
