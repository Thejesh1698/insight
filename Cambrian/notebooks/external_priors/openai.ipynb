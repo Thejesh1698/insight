{
 "cells": [
  {
   "cell_type": "code",
   "execution_count": 1,
   "id": "c03691a9-8d5d-466a-9431-e577dd273da3",
   "metadata": {
    "scrolled": true,
    "tags": []
   },
   "outputs": [
    {
     "name": "stdout",
     "output_type": "stream",
     "text": [
      "Collecting openai\n",
      "  Obtaining dependency information for openai from https://files.pythonhosted.org/packages/1e/9f/385c25502f437686e4aa715969e5eaf5c2cb5e5ffa7c5cdd52f3c6ae967a/openai-0.28.1-py3-none-any.whl.metadata\n",
      "  Downloading openai-0.28.1-py3-none-any.whl.metadata (11 kB)\n",
      "Requirement already satisfied: requests>=2.20 in /Users/ravi.tej/anaconda3/envs/recoenv/lib/python3.11/site-packages (from openai) (2.31.0)\n",
      "Requirement already satisfied: tqdm in /Users/ravi.tej/anaconda3/envs/recoenv/lib/python3.11/site-packages (from openai) (4.65.0)\n",
      "Requirement already satisfied: aiohttp in /Users/ravi.tej/anaconda3/envs/recoenv/lib/python3.11/site-packages (from openai) (3.8.5)\n",
      "Requirement already satisfied: charset-normalizer<4,>=2 in /Users/ravi.tej/anaconda3/envs/recoenv/lib/python3.11/site-packages (from requests>=2.20->openai) (2.0.4)\n",
      "Requirement already satisfied: idna<4,>=2.5 in /Users/ravi.tej/anaconda3/envs/recoenv/lib/python3.11/site-packages (from requests>=2.20->openai) (3.4)\n",
      "Requirement already satisfied: urllib3<3,>=1.21.1 in /Users/ravi.tej/anaconda3/envs/recoenv/lib/python3.11/site-packages (from requests>=2.20->openai) (1.26.16)\n",
      "Requirement already satisfied: certifi>=2017.4.17 in /Users/ravi.tej/anaconda3/envs/recoenv/lib/python3.11/site-packages (from requests>=2.20->openai) (2023.7.22)\n",
      "Requirement already satisfied: attrs>=17.3.0 in /Users/ravi.tej/anaconda3/envs/recoenv/lib/python3.11/site-packages (from aiohttp->openai) (22.1.0)\n",
      "Requirement already satisfied: multidict<7.0,>=4.5 in /Users/ravi.tej/anaconda3/envs/recoenv/lib/python3.11/site-packages (from aiohttp->openai) (6.0.2)\n",
      "Requirement already satisfied: async-timeout<5.0,>=4.0.0a3 in /Users/ravi.tej/anaconda3/envs/recoenv/lib/python3.11/site-packages (from aiohttp->openai) (4.0.2)\n",
      "Requirement already satisfied: yarl<2.0,>=1.0 in /Users/ravi.tej/anaconda3/envs/recoenv/lib/python3.11/site-packages (from aiohttp->openai) (1.8.1)\n",
      "Requirement already satisfied: frozenlist>=1.1.1 in /Users/ravi.tej/anaconda3/envs/recoenv/lib/python3.11/site-packages (from aiohttp->openai) (1.3.3)\n",
      "Requirement already satisfied: aiosignal>=1.1.2 in /Users/ravi.tej/anaconda3/envs/recoenv/lib/python3.11/site-packages (from aiohttp->openai) (1.2.0)\n",
      "Downloading openai-0.28.1-py3-none-any.whl (76 kB)\n",
      "\u001b[2K   \u001b[90m━━━━━━━━━━━━━━━━━━━━━━━━━━━━━━━━━━━━━━━━\u001b[0m \u001b[32m77.0/77.0 kB\u001b[0m \u001b[31m2.8 MB/s\u001b[0m eta \u001b[36m0:00:00\u001b[0m\n",
      "\u001b[?25hInstalling collected packages: openai\n",
      "Successfully installed openai-0.28.1\n"
     ]
    }
   ],
   "source": [
    "!pip install --upgrade openai"
   ]
  },
  {
   "cell_type": "code",
   "execution_count": 2,
   "id": "747efd86-d986-43b2-8061-9b8cb2a94474",
   "metadata": {
    "tags": []
   },
   "outputs": [],
   "source": [
    "import openai"
   ]
  },
  {
   "cell_type": "code",
   "execution_count": 5,
   "id": "b89b3ac5-fbbd-41af-a40c-5f3e007748dc",
   "metadata": {
    "tags": []
   },
   "outputs": [],
   "source": [
    "import os"
   ]
  },
  {
   "cell_type": "code",
   "execution_count": 7,
   "id": "03c52f01-5a24-46a9-97eb-87d19fd60bb4",
   "metadata": {
    "tags": []
   },
   "outputs": [],
   "source": [
    "os.environ['OPENAI_API_KEY'] = ''"
   ]
  },
  {
   "cell_type": "code",
   "execution_count": 13,
   "id": "db881cda-7dc8-4e8e-8d67-2ec3b3ea3f6a",
   "metadata": {
    "tags": []
   },
   "outputs": [],
   "source": [
    "openai.api_key = os.environ.get('OPENAI_API_KEY')"
   ]
  },
  {
   "cell_type": "code",
   "execution_count": 15,
   "id": "ff012c43-a734-445f-9ebb-ff5b038d032c",
   "metadata": {
    "tags": []
   },
   "outputs": [],
   "source": [
    "text = \"\"\"\n",
    "Headline: World Bank raises India's inflation forecast to 5.9% for FY24 on higher oil prices, abnormal monsoon\n",
    "Content: The World Bank has kept India's growth forecast unchanged at 6.3% for FY24, citing investment as a significant driver. However, it has revised its inflation projection to 5.9% from 5.2%. It also notes that inflation is likely to spike more than expected due to abnormal rainfall and the concern over oil prices.\n",
    "\n",
    "Ishaan Gera\n",
    "The World Bank Tuesday kept India's growth forecast unchanged at 6.3% for FY24, driven by investment, while sharply revising its inflation projection to 5.9% from 5.2%.\n",
    "\n",
    "\"Private consumption growth is likely to slow as the post-pandemic catch up fades, and external demand for India’s exports will be affected by slowing growth in major trading partners, including the EU,\" the World Bank said in its India Development Outlook, citing public investment in infrastructure as a significant driver of growth.\n",
    "\n",
    "India's economy grew 7.8% in the first quarter of the fiscal owing to strong domestic demand. However, the multilateral lender said that domestic demand will remain robust but at a slower pace.\n",
    "\n",
    "\"Private consumption growth is likely to taper off as post-pandemic pent-up demand fades and high food price inflation constrains demand, particularly for low-income households,\" it noted.\n",
    "\n",
    "The Washington-headquartered multilateral lender pointed out that inflation is likely spike more than expected at 5.9% in FY24, closer to the upper limit of Reserve Bank of India's target of 2-6%.\n",
    "\n",
    "\"Abnormal rainfall during the monsoon months caused a sharp increase in food prices in July 2023. Though eased in August, it is expected to continue to weigh on headline inflation through the rest of the fiscal year,\" the World Bank said.\n",
    "\n",
    "It further noted that oil, even though lower than the peaks witnessed during 2022, also remained a concern.\n",
    "\n",
    "India's inflation eased marginally to 6.8% in August compared with the 15-month high of 7.4% hit in July. Experts indicate it is expected to ease further in September.\n",
    "\n",
    "\"The RBI’s policy of withdrawing accommodation and raising the policy interest rate over the last year has helped rein-in core inflation, which is expected to continue to decelerate gradually,\" the World Bank said.\n",
    "\n",
    "The RBI's Monetary Policy Committee will decide on the policy rate, which has been held at 6.5% since February, later this week.\n",
    "\n",
    "On the fiscal side, the World Bank projected a slight improvement, with the general government deficit declining to 8.7% in FY24 from 9% of the Gross Domestic Product in the previous fiscal. However, it pointed out that subsidy programmes, ahead of 2024 general elections could weigh on fiscal roadmap.\n",
    "\n",
    "\"Although fiscal intervention has been limited so far, fiscal consolidation could be delayed by subsidy programs to limit the impact of high food prices on vulnerable households ahead of the general elections in 2024,\" it said.\n",
    "\n",
    "Last month, the government announced a Rs 200 subsidy on LPG cylinders for all households.\n",
    "\n",
    "The World Bank forecasted public debt to stabilise around 83% of GDP in FY24, falling to 82.4% in FY25.\n",
    "\n",
    "In line with others\n",
    "The World Bank forecast is in line with other projections of GDP growth. S&P Global Ratings, recently, maintained India's growth at 6%, sharply revising its inflation numbers.\n",
    "\n",
    "Fitch, another rating agency, also maintained India's growth forecast, whereas Asian Development Bank, revised the forecast downwards to 6.3%.\n",
    "\n",
    "The Reserve Bank of India forecasts growth to average 6.5% in FY24.\n",
    "\n",
    "The World Bank projects growth to rise to 6.4% in FY25 and inflation to fall to 4.7%.\n",
    "\"\"\""
   ]
  },
  {
   "cell_type": "code",
   "execution_count": 14,
   "id": "daa21c31-bc9a-4a53-924b-585751a4c2fd",
   "metadata": {
    "tags": []
   },
   "outputs": [
    {
     "data": {
      "text/plain": [
       "\u001b[0;31mInit signature:\u001b[0m \u001b[0mopenai\u001b[0m\u001b[0;34m.\u001b[0m\u001b[0mChatCompletion\u001b[0m\u001b[0;34m(\u001b[0m\u001b[0mengine\u001b[0m\u001b[0;34m:\u001b[0m \u001b[0mOptional\u001b[0m\u001b[0;34m[\u001b[0m\u001b[0mstr\u001b[0m\u001b[0;34m]\u001b[0m \u001b[0;34m=\u001b[0m \u001b[0;32mNone\u001b[0m\u001b[0;34m,\u001b[0m \u001b[0;34m**\u001b[0m\u001b[0mkwargs\u001b[0m\u001b[0;34m)\u001b[0m\u001b[0;34m\u001b[0m\u001b[0;34m\u001b[0m\u001b[0m\n",
       "\u001b[0;31mDocstring:\u001b[0m     \n",
       "dict() -> new empty dictionary\n",
       "dict(mapping) -> new dictionary initialized from a mapping object's\n",
       "    (key, value) pairs\n",
       "dict(iterable) -> new dictionary initialized as if via:\n",
       "    d = {}\n",
       "    for k, v in iterable:\n",
       "        d[k] = v\n",
       "dict(**kwargs) -> new dictionary initialized with the name=value pairs\n",
       "    in the keyword argument list.  For example:  dict(one=1, two=2)\n",
       "\u001b[0;31mFile:\u001b[0m           ~/anaconda3/envs/recoenv/lib/python3.11/site-packages/openai/api_resources/chat_completion.py\n",
       "\u001b[0;31mType:\u001b[0m           type\n",
       "\u001b[0;31mSubclasses:\u001b[0m     "
      ]
     },
     "metadata": {},
     "output_type": "display_data"
    }
   ],
   "source": [
    "openai.ChatCompletion?"
   ]
  },
  {
   "cell_type": "code",
   "execution_count": 16,
   "id": "8337f957-268e-41bf-977a-0d149dec563f",
   "metadata": {
    "tags": []
   },
   "outputs": [],
   "source": [
    "prompt = \"summarize the following text. The summarization will be used for financial readers of India. Keep the key points only and don't repeat headline as is. \""
   ]
  },
  {
   "cell_type": "code",
   "execution_count": 61,
   "id": "5d006d89-68bc-4739-9f36-01773d033761",
   "metadata": {
    "tags": []
   },
   "outputs": [],
   "source": [
    "prompt = \"\"\"Below is a article from financial news website. You're an expert in finance. Analyse the article and respond in this exact json format with the following details\n",
    "summary: cover the key points within 80 words and don't repeat the headline; \n",
    "relevance_period: for how many days will the article be relevant beyond the published date. opinion pieces usually have longer relevance and market up and down have shorter relevance. for example, if a market news of midday increase by 0.5% is reported, it is relevant for a maximum of 1 day;\n",
    "is_financial_article: if this is a financial article or not. political, sports etc articles are not.\n",
    "relevant_to_indians: if this is a financial article and it is relevant to indians. for example 401k stuff isn't relevant to indians even though it is financial.\n",
    "expected_popularity_score: on a scale of 1-10, how popular do you think this article will be among financial news readers of india. if the article is not relevant for them, then assign 0. realise that popularity is a long tail distribution. meaning that most articles will be below 6, very few actually will be above 7, 8\n",
    "bias_score: score on 1-10 between how biased or agenda driven the article seems. 1 is for complete facts only article. 10 is for blatent paid news, or advertisement, or misleading and political/company agenda driven article\n",
    "{summary: \"\",\n",
    "relevance_period: \"\",\n",
    "is_relevant: \"\",\n",
    "expected_popularity_score: \"\"\n",
    "bias: \"\"\n",
    "}\n",
    "respond with just the json and no preamble\n",
    "\"\"\""
   ]
  },
  {
   "cell_type": "code",
   "execution_count": 22,
   "id": "1b8d2ae4-0537-4df0-8551-b050cc3524fc",
   "metadata": {
    "tags": []
   },
   "outputs": [],
   "source": [
    "res1 = openai.ChatCompletion.create(model = \"gpt-3.5-turbo\", messages = [{'role': 'system', 'content': prompt}, {'role': 'user', 'content': text}])"
   ]
  },
  {
   "cell_type": "code",
   "execution_count": 23,
   "id": "1ceac22c-fff4-416e-bf09-92c96666ae46",
   "metadata": {
    "tags": []
   },
   "outputs": [
    {
     "data": {
      "text/plain": [
       "<OpenAIObject chat.completion id=chatcmpl-85UQ3zb17wTkysLlvTDjW1VbBsARy at 0x1265ea2d0> JSON: {\n",
       "  \"id\": \"chatcmpl-85UQ3zb17wTkysLlvTDjW1VbBsARy\",\n",
       "  \"object\": \"chat.completion\",\n",
       "  \"created\": 1696319263,\n",
       "  \"model\": \"gpt-3.5-turbo-0613\",\n",
       "  \"choices\": [\n",
       "    {\n",
       "      \"index\": 0,\n",
       "      \"message\": {\n",
       "        \"role\": \"assistant\",\n",
       "        \"content\": \"{\\n  \\\"summary\\\": \\\"The World Bank has maintained India's growth forecast at 6.3% for FY24, citing investment as a key driver. However, it has revised its inflation projection to 5.9% from 5.2% due to abnormal monsoon and higher oil prices. The bank expects inflation to spike more than expected, closer to the upper limit of the Reserve Bank of India's target. It also highlighted that subsidy programs ahead of the 2024 general elections could impact fiscal consolidation.\\\",\\n  \\\"relevance_period\\\": \\\"30\\\",\\n  \\\"is_relevant\\\": \\\"yes\\\",\\n  \\\"expected_popularity_score\\\": \\\"7\\\",\\n  \\\"bias\\\": \\\"5\\\"\\n}\"\n",
       "      },\n",
       "      \"finish_reason\": \"stop\"\n",
       "    }\n",
       "  ],\n",
       "  \"usage\": {\n",
       "    \"prompt_tokens\": 1031,\n",
       "    \"completion_tokens\": 141,\n",
       "    \"total_tokens\": 1172\n",
       "  }\n",
       "}"
      ]
     },
     "execution_count": 23,
     "metadata": {},
     "output_type": "execute_result"
    }
   ],
   "source": [
    "res1"
   ]
  },
  {
   "cell_type": "code",
   "execution_count": 48,
   "id": "e4607325-ec0a-403b-bc57-174d50feaa7c",
   "metadata": {
    "tags": []
   },
   "outputs": [
    {
     "data": {
      "text/plain": [
       "1.8285"
      ]
     },
     "execution_count": 48,
     "metadata": {},
     "output_type": "execute_result"
    }
   ],
   "source": [
    "1031 * 0.0015 + 141 * 0.002"
   ]
  },
  {
   "cell_type": "code",
   "execution_count": 62,
   "id": "3ea64194-a500-432d-8bba-c28d3abd3a9a",
   "metadata": {
    "tags": []
   },
   "outputs": [],
   "source": [
    "text2 = \"\"\"\n",
    "Bihar caste survey: What it means for BJP, Congress, JDU, RJD & how it will affect 2024 polls\n",
    "To navigate this challanging terrain, the BJP must employ astute political maneuvering. The party is studying the caste-based headcount and hopes that the central leadership will address recommendations regarding reservation quotas. The six-party grand alliance and the All India Majlis-e-Ittehad-ul-Muslimeen (AIMIM) pose challenges, and the BJP may need to court smaller parties and strengthen alliances to expand its electoral base.\n",
    "\n",
    "In a scenario that demands political finesse, the Bharatiya Janata Party (BJP) finds itself at a crossroads in Bihar as the latest caste survey data raises questions about its electoral prospects in the upcoming 2024 parliamentary elections. The state boasts 40 parliamentary constituencies, and the BJP is keen to replicate its stellar performance from 2019 when, in alliance with Chief Minister Nitish Kumar's Janata Dal (United) and the Lok Janshakti Party (LJP) led by the late Ram Vilas Paswan, it secured a resounding victory by capturing 39 seats.\n",
    "\n",
    "However, a brewing controversy initiated by Anand Mohan, the former Bihar People's Party (BPP) chief, who was convicted in the 1994 murder of the Gopalganj District Magistrate G. Krishnaiya, has set the stage for a potential clash among Brahmins and Thakurs/Rajputs in Bihar. This friction arises from the recitation of the poem \"Thakur Ka Kuan\" by RJD MP Manoj Kumar Jha in the Rajya Sabha. To navigate this sensitive terrain, the BJP must employ astute political maneuvering, as observers opine.\n",
    "\n",
    "Samrat Chaudhary, the state chief of the BJP, echoed the sentiments of the party's senior leaders, saying, \"We will first study and analyze the details of the caste-based headcount, and then make our statement on policy perspectives.\" Meanwhile, the state leadership is in communication with Union Home Minister Amit Shah, hoping that the central leadership will address the Rohini Commission's recommendations regarding the equitable allocation of reservation quotas among backward castes and EBCs in central government jobs.\n",
    "\n",
    "In this complex political landscape, the BJP's unease presents an opportunity for the six-party grand alliance comprising the Janata Dal (United), Rashtriya Janata Dal (RJD), Congress, and three Left parties. Their challenge lies in the All India Majlis-e-Ittehad-ul-Muslimeen (AIMIM), led by Asaduddin Owaisi, who secured six assembly seats in the 2020 state elections. Owaisi's polarizing ideology could potentially erode a portion of their Muslim support base, despite the fact that five of the six AIMIM MLAs later joined the RJD.\n",
    "\n",
    "Consequently, the BJP in Bihar may need to go the extra mile to court smaller parties outside the National Democratic Alliance (NDA), such as the Vikassheel Insaan Party (VIP), led by former minister Mukesh Sahani. Sahani represents caste-based groups like the Kewats (boatmen) and Mallahs (fishermen), constituting 3.3% of the population. Building stronger alliances with supporting parties also becomes crucial.\n",
    "\n",
    "Furthermore, Mayawati, the chief of the Bahujan Samaj Party (BSP), commands support among the Chamar (cobbler) and Mochi castes within the Scheduled Caste segment, accounting for 5.3% of the total population. While Mayawati's party is not part of the NDA, her influence could significantly impact the BJP's electoral strategy in Bihar. In the face of these intricate caste dynamics, the BJP faces a formidable challenge in maintaining and expanding its electoral base ahead of the 2024 elections.\n",
    "\"\"\""
   ]
  },
  {
   "cell_type": "code",
   "execution_count": 63,
   "id": "73ccc5b5-a796-47a2-9934-e4e853d15492",
   "metadata": {
    "tags": []
   },
   "outputs": [],
   "source": [
    "res2 = openai.ChatCompletion.create(model = \"gpt-3.5-turbo\", messages = [{'role': 'system', 'content': prompt}, {'role': 'user', 'content': text2}])"
   ]
  },
  {
   "cell_type": "code",
   "execution_count": 64,
   "id": "a878ddf6-978d-4ab3-8d6f-5af46e815aa2",
   "metadata": {
    "tags": []
   },
   "outputs": [
    {
     "data": {
      "text/plain": [
       "<OpenAIObject chat.completion id=chatcmpl-85WnjVv1P3Nc2sxZKiL7ZEnJUAaxS at 0x1265e8ad0> JSON: {\n",
       "  \"id\": \"chatcmpl-85WnjVv1P3Nc2sxZKiL7ZEnJUAaxS\",\n",
       "  \"object\": \"chat.completion\",\n",
       "  \"created\": 1696328419,\n",
       "  \"model\": \"gpt-3.5-turbo-0613\",\n",
       "  \"choices\": [\n",
       "    {\n",
       "      \"index\": 0,\n",
       "      \"message\": {\n",
       "        \"role\": \"assistant\",\n",
       "        \"content\": \"{\\n\\\"summary\\\": \\\"The recent caste survey in Bihar raises questions about BJP's electoral prospects in the upcoming 2024 parliamentary elections. The BJP must employ political maneuvering to address the challenges posed by the grand alliance and AIMIM. The party may need to court smaller parties and strengthen alliances to expand its base. The brewing controversy among Brahmins and Thakurs/Rajputs adds to BJP's challenges. Mayawati's influence and intricate caste dynamics further complicate BJP's electoral strategy.\\\",\\n\\\"relevance_period\\\": 180,\\n\\\"is_financial_article\\\": false,\\n\\\"relevant_to_indians\\\": false,\\n\\\"expected_popularity_score\\\": 5,\\n\\\"bias_score\\\": 4\\n}\"\n",
       "      },\n",
       "      \"finish_reason\": \"stop\"\n",
       "    }\n",
       "  ],\n",
       "  \"usage\": {\n",
       "    \"prompt_tokens\": 1136,\n",
       "    \"completion_tokens\": 139,\n",
       "    \"total_tokens\": 1275\n",
       "  }\n",
       "}"
      ]
     },
     "execution_count": 64,
     "metadata": {},
     "output_type": "execute_result"
    }
   ],
   "source": [
    "res2"
   ]
  },
  {
   "cell_type": "code",
   "execution_count": 65,
   "id": "cedcba78-5339-4321-b25a-cafe9cdd6d49",
   "metadata": {
    "tags": []
   },
   "outputs": [],
   "source": [
    "text3 = \"\"\"\n",
    "Jagan doing witch hunt: TDP's Nara Lokesh at hunger strike\n",
    "The party workers held 'I am with CBN' posters demanding the release of Former Andhra Pradesh CM Chandrababu Naidu.\n",
    "\n",
    "TDP National General Secretary Nara Lokesh and party supporters staged a hunger strike at Lodhi in Delhi against the arrest of TDP Chief and former Chief Minister Nara Chandrababu Naidu. \n",
    "\n",
    "The party workers held 'I am with CBN' posters demanding the release of Former Andhra Pradesh CM Chandrababu Naidu.\n",
    "\n",
    "From candle marches to rallies, TDP workers have been demanding the release of Chandrababu Naidu by showcasing their outrage across the country.\n",
    "\n",
    "\n",
    "\n",
    "\"Today we sat on hunger strike in solidarity with Chandrababu Naidu. I will urge people of India to understand this issue. Mr Naidu is known for sincerity and honesty,\" Lokesh told reporters here. \n",
    "\n",
    "Describing YSRCP supremo and Andhra Pradesh Jaganmohan Reddy as a \"mad man\", Lokesh said alleging that he is doing nothing but political witch-hunt.\n",
    "\n",
    "\"It's been 24 days that Mr Naidu has been sent to Jail. They have not been able to show any kind of evidence or proof so far. Clearly this is nothing but vendetta politics,\" the TDP leader alleged.\n",
    "\n",
    "Earlier, a rally was organised in Andhra Pradesh's Chittoor district opposing the arrest of the Naidu. On September 24, TDP women caders held a candlelight march in Visakhapatnam.\n",
    "\"\"\""
   ]
  },
  {
   "cell_type": "code",
   "execution_count": 54,
   "id": "910063c7-d0d6-4e97-9cf0-a73f3065d0bb",
   "metadata": {
    "tags": []
   },
   "outputs": [],
   "source": [
    "res3 = openai.ChatCompletion.create(model = \"gpt-3.5-turbo\", messages = [{'role': 'system', 'content': prompt}, {'role': 'user', 'content': text3}])"
   ]
  },
  {
   "cell_type": "code",
   "execution_count": 79,
   "id": "cd3c047d-5cf5-4aa4-881b-0e5db931431f",
   "metadata": {
    "tags": []
   },
   "outputs": [
    {
     "data": {
      "text/plain": [
       "0.09024000000000001"
      ]
     },
     "execution_count": 79,
     "metadata": {},
     "output_type": "execute_result"
    }
   ],
   "source": [
    "752 * 0.0015 * 80/1000"
   ]
  },
  {
   "cell_type": "code",
   "execution_count": 80,
   "id": "201e55a9-28bf-46f1-b8b5-5daeff951ca2",
   "metadata": {
    "tags": []
   },
   "outputs": [
    {
     "data": {
      "text/plain": [
       "1600.0"
      ]
     },
     "execution_count": 80,
     "metadata": {},
     "output_type": "execute_result"
    }
   ],
   "source": [
    "0.2 * 8000"
   ]
  },
  {
   "cell_type": "code",
   "execution_count": 56,
   "id": "86519ef0-eef6-4eb3-9577-061d12c0ffd1",
   "metadata": {
    "tags": []
   },
   "outputs": [
    {
     "data": {
      "text/plain": [
       "<OpenAIObject chat.completion id=chatcmpl-85WmEQC9SxTlC7r7KMCbk0xzm93IM at 0x107fbda30> JSON: {\n",
       "  \"id\": \"chatcmpl-85WmEQC9SxTlC7r7KMCbk0xzm93IM\",\n",
       "  \"object\": \"chat.completion\",\n",
       "  \"created\": 1696328326,\n",
       "  \"model\": \"gpt-3.5-turbo-0613\",\n",
       "  \"choices\": [\n",
       "    {\n",
       "      \"index\": 0,\n",
       "      \"message\": {\n",
       "        \"role\": \"assistant\",\n",
       "        \"content\": \"{\\\"summary\\\": \\\"TDP National General Secretary Nara Lokesh and party supporters staged a hunger strike in Delhi against the arrest of TDP Chief Chandrababu Naidu. They demanded his release and accused Andhra Pradesh CM Jaganmohan Reddy of political witch-hunt. TDP workers across the country have been protesting through candle marches and rallies. Lokesh highlighted Naidu's sincerity and honesty.\\\",\\n \\\"relevance_period\\\": \\\"1\\\",\\n \\\"is_financial_article\\\": false,\\n \\\"relevant_to_indians\\\": true,\\n \\\"expected_popularity_score\\\": 6,\\n \\\"bias_score\\\": 5}\"\n",
       "      },\n",
       "      \"finish_reason\": \"stop\"\n",
       "    }\n",
       "  ],\n",
       "  \"usage\": {\n",
       "    \"prompt_tokens\": 629,\n",
       "    \"completion_tokens\": 123,\n",
       "    \"total_tokens\": 752\n",
       "  }\n",
       "}"
      ]
     },
     "execution_count": 56,
     "metadata": {},
     "output_type": "execute_result"
    }
   ],
   "source": [
    "res3"
   ]
  },
  {
   "cell_type": "code",
   "execution_count": 57,
   "id": "b3caf563-d696-4820-899c-82b0cd094020",
   "metadata": {
    "tags": []
   },
   "outputs": [],
   "source": [
    "text4 = \"\"\"\n",
    "Suzlon Energy shares climb over 4% amid high volumes\n",
    "In Q1FY24, the company reported a consolidated net profit of Rs 101 crore. It was down 96% from Rs 2,433 crore reported in the corresponding quarter of last year. Revenue from operations during the quarter also fell marginally to Rs 1,348 crore, compared with Rs 1,378 crore in the corresponding quarter last year. Revenues dropped 20% quarter-on-quarter.\n",
    "\n",
    "Navdeep Singh\n",
    "Shares of Suzlon Energy climbed 4.2% to Rs 26.9 in Tuesday's trade on BSE backed by heavy volumes on the NSE. A total of 7,23,15,745 equity shares worth Rs 191.8 crore have changed hands so far.\n",
    "\n",
    "At 10.53 a.m., the stock was trading 3.1% higher at Rs 26.6. Suzlon Energy has also delivered multibagger returns to its investors, as the stock is up nearly 150% year-to-date. It has also jumped over 230% in the last six months and gained 350% in the past two years. Suzlon Energy has a market cap of Rs 36,132 crore.\n",
    "\n",
    "According to the latest shareholding pattern, as of 30 June 2023, 14.5% of the company's shareholding is with promoters, 7.8% with FIIs, 0.7% with mutual funds, and 13.7% with institutions.\n",
    "\n",
    "In Q1FY24, the company reported a consolidated net profit of Rs 101 crore. It was down 96% from Rs 2,433 crore reported in the corresponding quarter of last year. Revenue from operations during the quarter also fell marginally to Rs 1,348 crore, compared with Rs 1,378 crore in the corresponding quarter last year. Revenues dropped 20% quarter-on-quarter.\n",
    "\n",
    "Meanwhile, the company reported an EBITDA of Rs 207 crore during the first quarter of FY24, while margins came in at 15.4%.\n",
    "\n",
    "As per Trendlyne data, the average target price of the stock is Rs 30, which shows an upside potential of 13% from the current market prices. The consensus recommendation from one analyst for the stock is a 'Strong Buy'.\n",
    "\n",
    "Technically, Suzlon Energy's day RSI (14) is at 63.6. The RSI below 30 is considered oversold, and above 70 is overbought, Trendlyne data showed. MACD is at 1.1, which is above its center line, but below signal line. The stock stood higher than the 5-day, 10-day, 20-day, 50-day, 100-day and 200-day moving averages.\n",
    "\n",
    "\"\"\""
   ]
  },
  {
   "cell_type": "code",
   "execution_count": 71,
   "id": "fde08da9-5289-4953-8270-3ab02120631a",
   "metadata": {
    "tags": []
   },
   "outputs": [
    {
     "data": {
      "text/plain": [
       "\u001b[0;31mSignature:\u001b[0m \u001b[0mopenai\u001b[0m\u001b[0;34m.\u001b[0m\u001b[0mCompletion\u001b[0m\u001b[0;34m.\u001b[0m\u001b[0mcreate\u001b[0m\u001b[0;34m(\u001b[0m\u001b[0;34m*\u001b[0m\u001b[0margs\u001b[0m\u001b[0;34m,\u001b[0m \u001b[0;34m**\u001b[0m\u001b[0mkwargs\u001b[0m\u001b[0;34m)\u001b[0m\u001b[0;34m\u001b[0m\u001b[0;34m\u001b[0m\u001b[0m\n",
       "\u001b[0;31mDocstring:\u001b[0m\n",
       "Creates a new completion for the provided prompt and parameters.\n",
       "\n",
       "See https://platform.openai.com/docs/api-reference/completions/create for a list\n",
       "of valid parameters.\n",
       "\u001b[0;31mFile:\u001b[0m      ~/anaconda3/envs/recoenv/lib/python3.11/site-packages/openai/api_resources/completion.py\n",
       "\u001b[0;31mType:\u001b[0m      method"
      ]
     },
     "metadata": {},
     "output_type": "display_data"
    }
   ],
   "source": [
    "openai.Completion.create?"
   ]
  },
  {
   "cell_type": "code",
   "execution_count": 76,
   "id": "3861b3b7-35a4-40a1-9919-c7a8bfb40d12",
   "metadata": {
    "tags": []
   },
   "outputs": [],
   "source": [
    "res41 = openai.Completion.create(model = \"gpt-3.5-turbo-instruct\", prompt = prompt + text4, temperature = 0.3, max_tokens = 300)"
   ]
  },
  {
   "cell_type": "code",
   "execution_count": 77,
   "id": "464f3b23-7e2a-42ba-8f09-5699b4e49893",
   "metadata": {
    "tags": []
   },
   "outputs": [
    {
     "data": {
      "text/plain": [
       "<OpenAIObject text_completion id=cmpl-85YFFJhTdgTt56v4obl4Vlfshhscm at 0x1126c9af0> JSON: {\n",
       "  \"id\": \"cmpl-85YFFJhTdgTt56v4obl4Vlfshhscm\",\n",
       "  \"object\": \"text_completion\",\n",
       "  \"created\": 1696333969,\n",
       "  \"model\": \"gpt-3.5-turbo-instruct\",\n",
       "  \"choices\": [\n",
       "    {\n",
       "      \"text\": \"\\n{\\\"summary\\\": \\\"Shares of Suzlon Energy climbed 4.2% amid high volumes, with a market cap of Rs 36,132 crore. In Q1FY24, the company reported a consolidated net profit of Rs 101 crore, down 96% from the corresponding quarter last year. Revenue from operations also fell marginally. The stock has delivered multibagger returns and has a consensus recommendation of 'Strong Buy'. Technical indicators show the stock is overbought.\\\",\\n\\\"relevance_period\\\": \\\"1 day\\\",\\n\\\"is_relevant\\\": \\\"Yes\\\",\\n\\\"expected_popularity_score\\\": \\\"6\\\",\\n\\\"bias\\\": \\\"5\\\"}\",\n",
       "      \"index\": 0,\n",
       "      \"logprobs\": null,\n",
       "      \"finish_reason\": \"stop\"\n",
       "    }\n",
       "  ],\n",
       "  \"usage\": {\n",
       "    \"prompt_tokens\": 905,\n",
       "    \"completion_tokens\": 129,\n",
       "    \"total_tokens\": 1034\n",
       "  }\n",
       "}"
      ]
     },
     "execution_count": 77,
     "metadata": {},
     "output_type": "execute_result"
    }
   ],
   "source": [
    "res41"
   ]
  },
  {
   "cell_type": "code",
   "execution_count": 59,
   "id": "971a7af5-1a9d-4e6c-874c-5d74310fcb8f",
   "metadata": {
    "tags": []
   },
   "outputs": [
    {
     "data": {
      "text/plain": [
       "<OpenAIObject chat.completion id=chatcmpl-85WmZownfDh0K3oXsgioPfZPD8hAx at 0x1265e9670> JSON: {\n",
       "  \"id\": \"chatcmpl-85WmZownfDh0K3oXsgioPfZPD8hAx\",\n",
       "  \"object\": \"chat.completion\",\n",
       "  \"created\": 1696328347,\n",
       "  \"model\": \"gpt-3.5-turbo-0613\",\n",
       "  \"choices\": [\n",
       "    {\n",
       "      \"index\": 0,\n",
       "      \"message\": {\n",
       "        \"role\": \"assistant\",\n",
       "        \"content\": \"{\\n\\\"summary\\\": \\\"Shares of Suzlon Energy climbed 4.2% amid high volumes. The company reported a significant drop in net profit and revenue in Q1FY24. The stock has delivered strong returns, up nearly 150% year-to-date and over 230% in the last six months. Suzlon Energy has a market cap of Rs 36,132 crore. Analysts have a target price of Rs 30 for the stock with a consensus recommendation of 'Strong Buy'. Technical indicators suggest the stock is in a positive trend.\\\",\\n\\\"relevance_period\\\": 2,\\n\\\"is_financial_article\\\": true,\\n\\\"relevant_to_indians\\\": true,\\n\\\"expected_popularity_score\\\": 8,\\n\\\"bias_score\\\": 3\\n}\"\n",
       "      },\n",
       "      \"finish_reason\": \"stop\"\n",
       "    }\n",
       "  ],\n",
       "  \"usage\": {\n",
       "    \"prompt_tokens\": 886,\n",
       "    \"completion_tokens\": 151,\n",
       "    \"total_tokens\": 1037\n",
       "  }\n",
       "}"
      ]
     },
     "execution_count": 59,
     "metadata": {},
     "output_type": "execute_result"
    }
   ],
   "source": [
    "res4"
   ]
  },
  {
   "cell_type": "code",
   "execution_count": 44,
   "id": "56394ba0-1526-4a88-a749-fe6ea0e83b14",
   "metadata": {
    "tags": []
   },
   "outputs": [],
   "source": [
    "import json"
   ]
  },
  {
   "cell_type": "code",
   "execution_count": 46,
   "id": "664a6980-e5ae-4b1f-a67e-3f788824facb",
   "metadata": {
    "tags": []
   },
   "outputs": [
    {
     "data": {
      "text/plain": [
       "{'summary': 'Shares of Suzlon Energy climbed 4.2% amid high volumes. In Q1FY24, the company reported a net profit of Rs 101 crore, down 96% YoY. Revenue from operations fell marginally to Rs 1,348 crore. The stock has delivered significant returns, up nearly 150% YTD. Analysts have an average target price of Rs 30, showing a potential upside of 13%. Technical indicators suggest the stock is overbought.',\n",
       " 'relevance_period': 7,\n",
       " 'is_relevant': 'Yes',\n",
       " 'expected_popularity_score': 6,\n",
       " 'bias_score': 5}"
      ]
     },
     "execution_count": 46,
     "metadata": {},
     "output_type": "execute_result"
    }
   ],
   "source": [
    "json.loads(res5['choices'][0]['message']['content'])"
   ]
  },
  {
   "cell_type": "code",
   "execution_count": 19,
   "id": "e7fc6839-5ea7-46f7-9c5f-b6ea04ee3938",
   "metadata": {
    "tags": []
   },
   "outputs": [
    {
     "data": {
      "text/plain": [
       "<OpenAIObject chat.completion id=chatcmpl-85UDPQJxRqRTtCnRAWw6wfOmb6OSM at 0x1265e9d90> JSON: {\n",
       "  \"id\": \"chatcmpl-85UDPQJxRqRTtCnRAWw6wfOmb6OSM\",\n",
       "  \"object\": \"chat.completion\",\n",
       "  \"created\": 1696318479,\n",
       "  \"model\": \"gpt-3.5-turbo-0613\",\n",
       "  \"choices\": [\n",
       "    {\n",
       "      \"index\": 0,\n",
       "      \"message\": {\n",
       "        \"role\": \"assistant\",\n",
       "        \"content\": \"The World Bank has kept India's growth forecast unchanged at 6.3% for FY24, driven by investment and public infrastructure spending. However, it has revised its inflation projection to 5.9% from 5.2% due to abnormal rainfall and concerns over oil prices. The World Bank expects private consumption growth to slow as post-pandemic pent-up demand fades and high food price inflation constrains demand. It also warns that subsidy programs ahead of the 2024 general elections could delay fiscal consolidation. The World Bank's forecast is in line with other projections, with S&P Global Ratings maintaining India's growth at 6% and the Reserve Bank of India forecasting an average growth rate of 6.5% in FY24.\"\n",
       "      },\n",
       "      \"finish_reason\": \"stop\"\n",
       "    }\n",
       "  ],\n",
       "  \"usage\": {\n",
       "    \"prompt_tokens\": 834,\n",
       "    \"completion_tokens\": 150,\n",
       "    \"total_tokens\": 984\n",
       "  }\n",
       "}"
      ]
     },
     "execution_count": 19,
     "metadata": {},
     "output_type": "execute_result"
    }
   ],
   "source": [
    "res"
   ]
  },
  {
   "cell_type": "code",
   "execution_count": 66,
   "id": "cb09a335-d453-476e-b56b-b41828ecbe36",
   "metadata": {
    "tags": []
   },
   "outputs": [],
   "source": [
    "text5 = \"\"\"\n",
    "Market Highlights: Sensex drops 300 pts, Nifty 100: Maruti, ONGC drag\n",
    "Share Market Updates: The Indian stock market ended lower on Tuesday as Sensex closed around 65,500 and Nifty shed more than 100 pts. ONGC, Maruti, Tata Motors, and RIL tumbled, while Bajaj twins rose. Most sectors closed in the red Energy and Auto leading the drag. PSU Bank gained.\n",
    "\n",
    "Vijay Kishore\n",
    " Sensex Today | Share Market Updates: Rate hike worries will continue to keep investors sentiment subdued\n",
    "Sensex Today | Share Market Updates: Rate hike worries will continue to keep investors sentiment subdued\n",
    "Share Market Updates: Indian equities came under pressure on Tuesday amidst negative global cues and renewed concerns over inflation. Almost all sectors are trading lower with heavyweights like IT and Finance along with Auto and Energy shedding.\n",
    "\n",
    "India's factory activity expanded at the slowest pace in five months in September but remained solid, with strong demand driving business confidence to its highest level this year, despite increased inflationary pressures, a private survey showed\n",
    "\n",
    "Shares of JSW Infrastructure, India's No.2 commercial port operator, climbed as much as 31.4% in their first day of trading on Tuesday, valuing the company at 330.33 billion rupees ($3.97 billion).\n",
    "\n",
    "Asian shares slid on Tuesday to their lowest this year as worries over higher U.S interest rates for longer period gripped markets, while the yen wobbled near a one-year low, keeping traders on alert for a possible intervention.\n",
    "\"\"\""
   ]
  },
  {
   "cell_type": "code",
   "execution_count": 67,
   "id": "37d318ff-041b-493a-8f54-f06036d4b142",
   "metadata": {
    "tags": []
   },
   "outputs": [],
   "source": [
    "res5 = openai.ChatCompletion.create(model = \"gpt-3.5-turbo\", messages = [{'role': 'system', 'content': prompt}, {'role': 'user', 'content': text5}])"
   ]
  },
  {
   "cell_type": "code",
   "execution_count": 68,
   "id": "941baec7-2af3-419d-8938-2f5009611a4b",
   "metadata": {
    "tags": []
   },
   "outputs": [
    {
     "data": {
      "text/plain": [
       "<OpenAIObject chat.completion id=chatcmpl-85WodK3hP0pZ5dD6fsf0jPCB6IXnW at 0x1265e86b0> JSON: {\n",
       "  \"id\": \"chatcmpl-85WodK3hP0pZ5dD6fsf0jPCB6IXnW\",\n",
       "  \"object\": \"chat.completion\",\n",
       "  \"created\": 1696328475,\n",
       "  \"model\": \"gpt-3.5-turbo-0613\",\n",
       "  \"choices\": [\n",
       "    {\n",
       "      \"index\": 0,\n",
       "      \"message\": {\n",
       "        \"role\": \"assistant\",\n",
       "        \"content\": \"{\\n\\\"summary\\\": \\\"Indian stock market closes lower as Sensex ends around 65,500 and Nifty sheds more than 100 points. ONGC, Maruti, Tata Motors, and RIL tumbled while Bajaj twins rose. Most sectors closed in the red, with Energy and Auto leading the drag. PSU Bank gained. India's factory activity expanded at the slowest pace in five months in September.\\\",\\n\\\"relevance_period\\\": 1,\\n\\\"is_financial_article\\\": true,\\n\\\"relevant_to_indians\\\": true,\\n\\\"expected_popularity_score\\\": 6,\\n\\\"bias_score\\\": 3\\n}\"\n",
       "      },\n",
       "      \"finish_reason\": \"stop\"\n",
       "    }\n",
       "  ],\n",
       "  \"usage\": {\n",
       "    \"prompt_tokens\": 662,\n",
       "    \"completion_tokens\": 126,\n",
       "    \"total_tokens\": 788\n",
       "  }\n",
       "}"
      ]
     },
     "execution_count": 68,
     "metadata": {},
     "output_type": "execute_result"
    }
   ],
   "source": [
    "res5"
   ]
  },
  {
   "cell_type": "code",
   "execution_count": 17,
   "id": "bb55fc1d-3feb-446e-ac88-66e6e9e16065",
   "metadata": {
    "tags": []
   },
   "outputs": [
    {
     "data": {
      "text/plain": [
       "'summarize the following text. The summarization will be used for financial readers of India. Keep the key points only and don\\'t repeat headline as is. \\nHeadline: World Bank raises India\\'s inflation forecast to 5.9% for FY24 on higher oil prices, abnormal monsoon\\nContent: The World Bank has kept India\\'s growth forecast unchanged at 6.3% for FY24, citing investment as a significant driver. However, it has revised its inflation projection to 5.9% from 5.2%. It also notes that inflation is likely to spike more than expected due to abnormal rainfall and the concern over oil prices.\\n\\nIshaan Gera\\nThe World Bank Tuesday kept India\\'s growth forecast unchanged at 6.3% for FY24, driven by investment, while sharply revising its inflation projection to 5.9% from 5.2%.\\n\\n\"Private consumption growth is likely to slow as the post-pandemic catch up fades, and external demand for India’s exports will be affected by slowing growth in major trading partners, including the EU,\" the World Bank said in its India Development Outlook, citing public investment in infrastructure as a significant driver of growth.\\n\\nIndia\\'s economy grew 7.8% in the first quarter of the fiscal owing to strong domestic demand. However, the multilateral lender said that domestic demand will remain robust but at a slower pace.\\n\\n\"Private consumption growth is likely to taper off as post-pandemic pent-up demand fades and high food price inflation constrains demand, particularly for low-income households,\" it noted.\\n\\nThe Washington-headquartered multilateral lender pointed out that inflation is likely spike more than expected at 5.9% in FY24, closer to the upper limit of Reserve Bank of India\\'s target of 2-6%.\\n\\n\"Abnormal rainfall during the monsoon months caused a sharp increase in food prices in July 2023. Though eased in August, it is expected to continue to weigh on headline inflation through the rest of the fiscal year,\" the World Bank said.\\n\\nIt further noted that oil, even though lower than the peaks witnessed during 2022, also remained a concern.\\n\\nIndia\\'s inflation eased marginally to 6.8% in August compared with the 15-month high of 7.4% hit in July. Experts indicate it is expected to ease further in September.\\n\\n\"The RBI’s policy of withdrawing accommodation and raising the policy interest rate over the last year has helped rein-in core inflation, which is expected to continue to decelerate gradually,\" the World Bank said.\\n\\nThe RBI\\'s Monetary Policy Committee will decide on the policy rate, which has been held at 6.5% since February, later this week.\\n\\nOn the fiscal side, the World Bank projected a slight improvement, with the general government deficit declining to 8.7% in FY24 from 9% of the Gross Domestic Product in the previous fiscal. However, it pointed out that subsidy programmes, ahead of 2024 general elections could weigh on fiscal roadmap.\\n\\n\"Although fiscal intervention has been limited so far, fiscal consolidation could be delayed by subsidy programs to limit the impact of high food prices on vulnerable households ahead of the general elections in 2024,\" it said.\\n\\nLast month, the government announced a Rs 200 subsidy on LPG cylinders for all households.\\n\\nThe World Bank forecasted public debt to stabilise around 83% of GDP in FY24, falling to 82.4% in FY25.\\n\\nIn line with others\\nThe World Bank forecast is in line with other projections of GDP growth. S&P Global Ratings, recently, maintained India\\'s growth at 6%, sharply revising its inflation numbers.\\n\\nFitch, another rating agency, also maintained India\\'s growth forecast, whereas Asian Development Bank, revised the forecast downwards to 6.3%.\\n\\nThe Reserve Bank of India forecasts growth to average 6.5% in FY24.\\n\\nThe World Bank projects growth to rise to 6.4% in FY25 and inflation to fall to 4.7%.\\n'"
      ]
     },
     "execution_count": 17,
     "metadata": {},
     "output_type": "execute_result"
    }
   ],
   "source": [
    "prompt + text"
   ]
  },
  {
   "cell_type": "code",
   "execution_count": 11,
   "id": "97ac61b3-62fe-48e5-8f5f-75f5e3743314",
   "metadata": {
    "tags": []
   },
   "outputs": [
    {
     "data": {
      "text/plain": [
       "556"
      ]
     },
     "execution_count": 11,
     "metadata": {},
     "output_type": "execute_result"
    }
   ],
   "source": [
    "len(text.split(' '))"
   ]
  },
  {
   "cell_type": "code",
   "execution_count": 12,
   "id": "e1509bbc-c2c6-4c51-81c5-712aad954267",
   "metadata": {
    "tags": []
   },
   "outputs": [
    {
     "data": {
      "text/plain": [
       "1.4478417266187051"
      ]
     },
     "execution_count": 12,
     "metadata": {},
     "output_type": "execute_result"
    }
   ],
   "source": [
    "805/556"
   ]
  },
  {
   "cell_type": "code",
   "execution_count": null,
   "id": "b8dd5bb0-2d0f-45db-8ebc-ed468a916f01",
   "metadata": {},
   "outputs": [],
   "source": [
    "https://api.openai.com/v1/dashboard/billing/usage?start_date=2023-05-01&end_date=2023-05-31"
   ]
  },
  {
   "cell_type": "code",
   "execution_count": null,
   "id": "f5dad725-8907-4ad4-9b1f-a58f5c089685",
   "metadata": {},
   "outputs": [],
   "source": []
  }
 ],
 "metadata": {
  "kernelspec": {
   "display_name": "recoenv",
   "language": "python",
   "name": "recoenv"
  },
  "language_info": {
   "codemirror_mode": {
    "name": "ipython",
    "version": 3
   },
   "file_extension": ".py",
   "mimetype": "text/x-python",
   "name": "python",
   "nbconvert_exporter": "python",
   "pygments_lexer": "ipython3",
   "version": "3.11.5"
  }
 },
 "nbformat": 4,
 "nbformat_minor": 5
}
