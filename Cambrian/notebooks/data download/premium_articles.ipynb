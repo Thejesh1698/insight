{
 "cells": [
  {
   "cell_type": "code",
   "execution_count": 1,
   "id": "bff9516d-8666-4fd3-86ea-b6015033c39e",
   "metadata": {
    "tags": []
   },
   "outputs": [],
   "source": [
    "data_folder = '../../data/'"
   ]
  },
  {
   "cell_type": "code",
   "execution_count": 2,
   "id": "491b6d9f-4174-4128-9f49-aa0c8d7462e4",
   "metadata": {
    "tags": []
   },
   "outputs": [],
   "source": [
    "import json"
   ]
  },
  {
   "cell_type": "code",
   "execution_count": 3,
   "id": "f6f3b761-b566-4e81-8df4-6a85e3ed381f",
   "metadata": {
    "tags": []
   },
   "outputs": [],
   "source": [
    "with open(data_folder + 'insight_db_articles.json', 'r') as f:\n",
    "    articles = json.load(f)"
   ]
  },
  {
   "cell_type": "code",
   "execution_count": 6,
   "id": "d9aa3db9-aabe-4072-862e-8805778ee0c6",
   "metadata": {
    "tags": []
   },
   "outputs": [],
   "source": [
    "premium = [x for x in articles if x['is_premium_article'] == True]"
   ]
  },
  {
   "cell_type": "code",
   "execution_count": 7,
   "id": "f40622be-bddc-4f23-8eab-d85391ef332e",
   "metadata": {
    "tags": []
   },
   "outputs": [
    {
     "data": {
      "text/plain": [
       "[]"
      ]
     },
     "execution_count": 7,
     "metadata": {},
     "output_type": "execute_result"
    }
   ],
   "source": [
    "premium"
   ]
  },
  {
   "cell_type": "code",
   "execution_count": null,
   "id": "a6c09d33-ce8e-4013-857f-48a08f90741d",
   "metadata": {},
   "outputs": [],
   "source": []
  }
 ],
 "metadata": {
  "kernelspec": {
   "display_name": "recoenv",
   "language": "python",
   "name": "recoenv"
  },
  "language_info": {
   "codemirror_mode": {
    "name": "ipython",
    "version": 3
   },
   "file_extension": ".py",
   "mimetype": "text/x-python",
   "name": "python",
   "nbconvert_exporter": "python",
   "pygments_lexer": "ipython3",
   "version": "3.11.5"
  }
 },
 "nbformat": 4,
 "nbformat_minor": 5
}
