{
 "cells": [
  {
   "cell_type": "code",
   "execution_count": 1,
   "id": "20ee0eb8-2a89-4e01-90d3-d04a797d0316",
   "metadata": {
    "tags": []
   },
   "outputs": [],
   "source": [
    "parent_folder = '/Users/username/Desktop/ML/Recommendations/cambrian_reco/'\n",
    "from hydra import compose, initialize\n",
    "import os\n",
    "\n",
    "import xml.etree.ElementTree as ET\n",
    "\n",
    "tree = ET.parse('../conf/application.run.xml')\n",
    "root = tree.getroot()\n",
    "\n",
    "envs_element = root.find('./configuration/envs')\n",
    "for variable in envs_element.findall('env'):\n",
    "    name = variable.get('name')\n",
    "    value = variable.get('value')\n",
    "    os.environ[name] = value\n",
    "\n",
    "import sys\n",
    "import numpy as np\n",
    "import pandas as pd\n",
    "import json\n",
    "import requests\n",
    "sys.path.append('/Users/username/Desktop/ML/Recommendations/cambrian_reco/')"
   ]
  },
  {
   "cell_type": "code",
   "execution_count": 5,
   "id": "657a9344-6306-455d-b1a8-2e17250f0344",
   "metadata": {
    "scrolled": true,
    "tags": []
   },
   "outputs": [
    {
     "name": "stdout",
     "output_type": "stream",
     "text": [
      "Requirement already satisfied: openai in /Users/username/anaconda3/lib/python3.11/site-packages (1.5.0)\n",
      "Collecting tiktoken\n",
      "  Obtaining dependency information for tiktoken from https://files.pythonhosted.org/packages/f4/99/90fefb027bd962cd336f9f955a2f27782aac123ee7943cfc8a7bd3c1f198/tiktoken-0.5.2-cp311-cp311-macosx_11_0_arm64.whl.metadata\n",
      "  Downloading tiktoken-0.5.2-cp311-cp311-macosx_11_0_arm64.whl.metadata (6.6 kB)\n",
      "Requirement already satisfied: anyio<5,>=3.5.0 in /Users/username/anaconda3/lib/python3.11/site-packages (from openai) (3.5.0)\n",
      "Requirement already satisfied: distro<2,>=1.7.0 in /Users/username/anaconda3/lib/python3.11/site-packages (from openai) (1.8.0)\n",
      "Requirement already satisfied: httpx<1,>=0.23.0 in /Users/username/anaconda3/lib/python3.11/site-packages (from openai) (0.25.2)\n",
      "Requirement already satisfied: pydantic<3,>=1.9.0 in /Users/username/anaconda3/lib/python3.11/site-packages (from openai) (2.5.2)\n",
      "Requirement already satisfied: sniffio in /Users/username/anaconda3/lib/python3.11/site-packages (from openai) (1.2.0)\n",
      "Requirement already satisfied: tqdm>4 in /Users/username/anaconda3/lib/python3.11/site-packages (from openai) (4.65.0)\n",
      "Requirement already satisfied: typing-extensions<5,>=4.5 in /Users/username/anaconda3/lib/python3.11/site-packages (from openai) (4.7.1)\n",
      "Requirement already satisfied: regex>=2022.1.18 in /Users/username/anaconda3/lib/python3.11/site-packages (from tiktoken) (2022.7.9)\n",
      "Requirement already satisfied: requests>=2.26.0 in /Users/username/anaconda3/lib/python3.11/site-packages (from tiktoken) (2.31.0)\n",
      "Requirement already satisfied: idna>=2.8 in /Users/username/anaconda3/lib/python3.11/site-packages (from anyio<5,>=3.5.0->openai) (3.4)\n",
      "Requirement already satisfied: certifi in /Users/username/anaconda3/lib/python3.11/site-packages (from httpx<1,>=0.23.0->openai) (2023.7.22)\n",
      "Requirement already satisfied: httpcore==1.* in /Users/username/anaconda3/lib/python3.11/site-packages (from httpx<1,>=0.23.0->openai) (1.0.2)\n",
      "Requirement already satisfied: h11<0.15,>=0.13 in /Users/username/anaconda3/lib/python3.11/site-packages (from httpcore==1.*->httpx<1,>=0.23.0->openai) (0.14.0)\n",
      "Requirement already satisfied: annotated-types>=0.4.0 in /Users/username/anaconda3/lib/python3.11/site-packages (from pydantic<3,>=1.9.0->openai) (0.6.0)\n",
      "Requirement already satisfied: pydantic-core==2.14.5 in /Users/username/anaconda3/lib/python3.11/site-packages (from pydantic<3,>=1.9.0->openai) (2.14.5)\n",
      "Requirement already satisfied: charset-normalizer<4,>=2 in /Users/username/anaconda3/lib/python3.11/site-packages (from requests>=2.26.0->tiktoken) (2.0.4)\n",
      "Requirement already satisfied: urllib3<3,>=1.21.1 in /Users/username/anaconda3/lib/python3.11/site-packages (from requests>=2.26.0->tiktoken) (1.26.16)\n",
      "Downloading tiktoken-0.5.2-cp311-cp311-macosx_11_0_arm64.whl (953 kB)\n",
      "\u001b[2K   \u001b[90m━━━━━━━━━━━━━━━━━━━━━━━━━━━━━━━━━━━━━━━━\u001b[0m \u001b[32m953.9/953.9 kB\u001b[0m \u001b[31m4.8 MB/s\u001b[0m eta \u001b[36m0:00:00\u001b[0ma \u001b[36m0:00:01\u001b[0m\n",
      "\u001b[?25hInstalling collected packages: tiktoken\n",
      "Successfully installed tiktoken-0.5.2\n"
     ]
    }
   ],
   "source": [
    "!pip install openai tiktoken"
   ]
  },
  {
   "cell_type": "code",
   "execution_count": 6,
   "id": "203da007-294d-4ef1-bed5-9928f8176de9",
   "metadata": {
    "tags": []
   },
   "outputs": [],
   "source": [
    "import re\n",
    "import pandas as pd\n",
    "import numpy as np\n",
    "import openai\n",
    "import json\n",
    "import tiktoken\n",
    "from concurrent.futures import ThreadPoolExecutor, as_completed\n",
    "import time"
   ]
  },
  {
   "cell_type": "code",
   "execution_count": 7,
   "id": "c19e3e86-06a5-4148-ba1d-455d4caff617",
   "metadata": {
    "tags": []
   },
   "outputs": [],
   "source": [
    "openai.api_key = ''"
   ]
  },
  {
   "cell_type": "code",
   "execution_count": 59,
   "id": "3d2bb45d-39de-4217-acb5-e517b3204c1a",
   "metadata": {
    "tags": []
   },
   "outputs": [],
   "source": [
    "def get_prompt(topic):\n",
    "    return f'''\n",
    "    write upto 50 comma separated keywords which you would expect to find in financial articles related to the following topic {topic}. \n",
    "    25 keywords and 25 important nouns. If there are important companies or organisations - then definitely list them in the nouns. Use companies and organisations only if they are directly relevant for that topic. If they don't have high recall among users for that topic, then no need for those or any organisations.\n",
    "    If there are short forms, then mention the full form in brackets. \n",
    "    they should be relevant for indian business news readers. no preamble postamble. no need for any headers. directly give upto 50 keywords mixed with nouns and keywords.\n",
    "    I will use those keywords to filter news related to this topic. make sure that these keywords won't lead to a lot of false positives in terms of irrelevant content for users\n",
    "    '''"
   ]
  },
  {
   "cell_type": "code",
   "execution_count": 9,
   "id": "6f1acbbc-7973-44e8-8625-bc5b26d81da8",
   "metadata": {
    "tags": []
   },
   "outputs": [],
   "source": [
    "model = 'gpt-4'"
   ]
  },
  {
   "cell_type": "code",
   "execution_count": 12,
   "id": "f19e800f-49a3-4da4-b6e6-e12b3a6b3e12",
   "metadata": {
    "tags": []
   },
   "outputs": [],
   "source": [
    "from openai import OpenAI"
   ]
  },
  {
   "cell_type": "code",
   "execution_count": 13,
   "id": "d2c3b96e-5925-4df1-a19f-4f4fc94eccad",
   "metadata": {
    "tags": []
   },
   "outputs": [],
   "source": [
    "client = OpenAI(\n",
    "    # defaults to os.environ.get(\"OPENAI_API_KEY\")\n",
    "    api_key=''\n",
    ")"
   ]
  },
  {
   "cell_type": "code",
   "execution_count": 26,
   "id": "ad9a9fd0-0dc2-4df4-98cb-3597105af0dc",
   "metadata": {
    "tags": []
   },
   "outputs": [],
   "source": [
    "from sql.PostgresDatabaseOperation import PostgresDatabaseOperation"
   ]
  },
  {
   "cell_type": "code",
   "execution_count": 27,
   "id": "d0b14d88-59c9-4173-a2d2-cbc147d24193",
   "metadata": {
    "tags": []
   },
   "outputs": [],
   "source": [
    "def _get_all_topics():\n",
    "    topic_url = f'{BACKEND_URL}/public/articles/topics'\n",
    "    r = requests.get(topic_url)\n",
    "    all_topics = json.loads(r.text)\n",
    "    # TODO: - add validations\n",
    "    return all_topics['topics']"
   ]
  },
  {
   "cell_type": "code",
   "execution_count": 28,
   "id": "a42581aa-d3b7-426e-8f87-c7ebc0853abc",
   "metadata": {
    "tags": []
   },
   "outputs": [],
   "source": [
    "BACKEND_URL = 'https://yg4syp14u8.execute-api.ap-south-1.amazonaws.com/beta'"
   ]
  },
  {
   "cell_type": "code",
   "execution_count": 29,
   "id": "f0ea4e19-368e-49d2-8e45-a734fb8eeea6",
   "metadata": {
    "tags": []
   },
   "outputs": [],
   "source": [
    "all_topics = _get_all_topics()"
   ]
  },
  {
   "cell_type": "code",
   "execution_count": 31,
   "id": "500167cc-c607-4afc-b751-0dcb7d5dddb3",
   "metadata": {
    "tags": []
   },
   "outputs": [],
   "source": [
    "topic_mapping = {}"
   ]
  },
  {
   "cell_type": "code",
   "execution_count": 32,
   "id": "d68773b7-60a1-4fc9-bf49-d70f0efbb5b9",
   "metadata": {
    "tags": []
   },
   "outputs": [],
   "source": [
    "for topic in all_topics:\n",
    "    topic_mapping[topic['topicId']] = topic['topicName']"
   ]
  },
  {
   "cell_type": "code",
   "execution_count": 34,
   "id": "87556a3d-32cc-40c1-aa1c-9beed86d0c12",
   "metadata": {
    "tags": []
   },
   "outputs": [],
   "source": [
    "topic_mapping[3] = 'Financial Independence, Retire Early (FIRE)'"
   ]
  },
  {
   "cell_type": "code",
   "execution_count": 51,
   "id": "418519e6-2179-4048-8935-470579dc51a1",
   "metadata": {
    "tags": []
   },
   "outputs": [],
   "source": [
    "def fetch_keywords_for_topic(topic_name, topic_id):\n",
    "    res_gpt = client.chat.completions.create(model = model, messages = [{'role': 'system', 'content': ''}, {'role': 'user', 'content': get_prompt(topic_name)}])\n",
    "    return topic_id, res_gpt.choices[0].message.content.strip()"
   ]
  },
  {
   "cell_type": "code",
   "execution_count": 37,
   "id": "760a1ad5-69ad-4f48-bad8-67de15c4de65",
   "metadata": {
    "tags": []
   },
   "outputs": [],
   "source": [
    "sample = {1: topic_mapping[1], 2: topic_mapping[2]}"
   ]
  },
  {
   "cell_type": "code",
   "execution_count": 43,
   "id": "1ff38049-4b8a-4fc8-8a14-9e8fc9ded109",
   "metadata": {
    "tags": []
   },
   "outputs": [],
   "source": [
    "from concurrent.futures import ThreadPoolExecutor, as_completed"
   ]
  },
  {
   "cell_type": "code",
   "execution_count": 62,
   "id": "6523a421-c93a-4878-8ba5-ced75c891873",
   "metadata": {
    "tags": []
   },
   "outputs": [],
   "source": [
    "def get_gpt4_keywords_for_topics():\n",
    "    start_time = time.time()\n",
    "    responses = {}\n",
    "    keywords = {}\n",
    "    valid_responses = 0\n",
    "    with ThreadPoolExecutor(max_workers=20) as executor:\n",
    "        futures = [executor.submit(fetch_keywords_for_topic, topic_name, topic_id) for topic_id, topic_name in topic_mapping.items()]\n",
    "        \n",
    "        for future in as_completed(futures):\n",
    "            topic_id, keyword = future.result()\n",
    "            if keyword:  # Timeout or other errors\n",
    "                valid_responses += 1\n",
    "                keywords[topic_id] = keyword\n",
    "    print(f'done in {time.time() - start_time} seconds')\n",
    "    return keywords"
   ]
  },
  {
   "cell_type": "code",
   "execution_count": 63,
   "id": "21e32951-1ad8-4906-b191-3d2c93c935e9",
   "metadata": {
    "tags": []
   },
   "outputs": [
    {
     "name": "stdout",
     "output_type": "stream",
     "text": [
      "done in 77.02781009674072 seconds\n"
     ]
    }
   ],
   "source": [
    "expansive_keywords = get_gpt4_keywords_for_topics()"
   ]
  },
  {
   "cell_type": "code",
   "execution_count": 69,
   "id": "46901ddf-4fad-4ee1-85c0-106d9ae2df5e",
   "metadata": {
    "tags": []
   },
   "outputs": [],
   "source": [
    "with PostgresDatabaseOperation() as cursor:\n",
    "    sql = 'INSERT INTO topic_internal_representations (topic_id, description, approach_name) VALUES (%s, %s, %s)'\n",
    "    for topic_id, keyword in expansive_keywords.items():\n",
    "        cursor.execute(sql, (topic_id, keyword, 'gpt4-keywords-v2'))"
   ]
  },
  {
   "cell_type": "code",
   "execution_count": 61,
   "id": "9df597f0-d8f5-436d-81eb-4c1383a32650",
   "metadata": {
    "tags": []
   },
   "outputs": [
    {
     "data": {
      "text/plain": [
       "{1: 'Savings Account, Budget Allocation, Expense Tracking, Financial Goal, Emergency Fund, Cash Flow, Asset Allocation, Investment Plan, Fixed Deposit, Mutual Funds, Recurring Deposit, Income Tax, Public Provident Fund (PPF), Life Insurance, Health Insurance, Retirement Plan, Employee Provident Fund (EPF), Financial Planning, Debt Reduction, Credit Card, Monthly Budget, Personal Finance, Household Expenses, Income Savings, Financial Literacy, Reserve Bank of India (RBI), State Bank of India (SBI), HDFC Bank, ICICI Bank, Securities and Exchange Board of India (SEBI), Pension Fund Regulatory and Development Authority (PFRDA), Life Insurance Corporation of India (LIC), National Savings Certificate (NSC), Tax Saving Bonds, National Pension System (NPS), Mahindra & Mahindra Financial Services, Bajaj Finserv, Reliance Capital, Kotak Mahindra Bank, Paytm Payment Bank, Axis Bank, IDFC First Bank, National Stock Exchange (NSE), Bombay Stock Exchange (BSE), IndusInd Bank, Union Budget.',\n",
       " 2: 'Debt Management Plan, Credit Counselling, Insolvency, Bankruptcy, Debt Consolidation, Debt Settlement, Credit Score, Debt-to-Income Ratio, Repayment Strategy, Secured Debt, Unsecured Debt, Interest Rates, Principal Amount, Loan Tenure, EMI (Equated Monthly Instalment), NPA (Non-Performing Assets), SARFAESI Act (Securitisation and Reconstruction of Financial Assets and Enforcement of Security Interest), RBI (Reserve Bank of India), Debt Recovery Tribunal, CIBIL (Credit Information Bureau India Limited), Negotiation, Debt Collection, Restructuring, Credit Report, Default, SBI (State Bank of India), HDFC Bank, ICICI Bank, Axis Bank, LIC (Life Insurance Corporation), PNB (Punjab National Bank), IDBI Bank, Yes Bank, NABARD (National Bank for Agriculture and Rural Development), UCO Bank, Indian Bank, Kotak Mahindra Bank, Bank of Baroda, Bank of India, Canara Bank, IndusInd Bank, Federal Bank, Indian Financial System Code (IFSC), Central Depository Services (India) Limited (CDSL), National Securities Depository Limited (NSDL), Financial Ombudsman, National Housing Bank (NHB), Muthoot Finance.'}"
      ]
     },
     "execution_count": 61,
     "metadata": {},
     "output_type": "execute_result"
    }
   ],
   "source": [
    "k"
   ]
  },
  {
   "cell_type": "code",
   "execution_count": 57,
   "id": "f259aa99-5450-4ee1-824e-dd02581dd1a5",
   "metadata": {
    "tags": []
   },
   "outputs": [
    {
     "data": {
      "text/plain": [
       "{1: 'Financial Planning, Saving, Budgeting, Income, Expenses, Investments, Emergency Funds, Long-term saving, Short-term saving, Debt, Retirement, Fiscal discipline, Financial goals, Savings account, Wealth management, Monthly budget, Yearly budget, Taxes, Personal finance, Inflation, Financial literacy, Interest rates, Fixed deposit, Mutual funds, Economic cycle, Reserve Bank of India (RBI), Securities and Exchange Board of India (SEBI), Life Insurance Corporation (LIC), State Bank of India (SBI), HDFC Bank, ICICI Bank, Kotak Mahindra Bank, Axis Bank, YES Bank, Federal Bank, Canara Bank, Punjab National Bank, Mahindra Finance, Tata Capital, Aditya Birla Finance, Bajaj Finserv, Reliance Nippon Life Asset Management, UTI Asset Management Company, India Post Payments Bank, Indian Bank, Income Tax Department, Ministry of Finance, National Savings Certificate (NSC), Public Provident Fund (PPF), Employee Provident Fund (EPF).',\n",
       " 2: 'Debt relief, Consolidation loan, Creditors, Insolvency, Bankruptcy, Debt repayment, Credit Score, Reserve Bank of India (RBI), Equifax, Debt Management Plan (DMP), Non-Performing Asset (NPA), Default, Financial distress, Insolvency and Bankruptcy Code (IBC), Principal, Interest rate, Restructuring, Workouts, Debt settlement, Write-offs, Debt-to-income ratio (DTI), Liquidation, Distressed Debt, Debt Recovery Tribunal (DRT), Auction, Recovery, Debt securities, Income-based repayment, Fixed payments, Securitization, Inflation, Credit Rating Agencies, Experian, TransUnion CIBIL, National Company Law Tribunal (NCLT), PolicyBazaar, Bank loans, Enforcement, Compliance, Secured debt, Unsecured debt, Delinquency, Credit card debt, MoneyLenders, State Bank of India (SBI), Debt Financing, Financial ombudsman, Foreclosure, Indebtedness, Investors.'}"
      ]
     },
     "execution_count": 57,
     "metadata": {},
     "output_type": "execute_result"
    }
   ],
   "source": [
    "k"
   ]
  },
  {
   "cell_type": "code",
   "execution_count": 54,
   "id": "46a5352c-82bf-4a6a-8bb7-d318a0ef24d5",
   "metadata": {
    "tags": []
   },
   "outputs": [
    {
     "data": {
      "text/plain": [
       "{1: 'Financial Planning, Savings Account, Monthly Budget, Household Expenses, Mutual Funds, Fixed Deposit, Saving Schemes, Public Provident Fund (PPF), Equity Linked Savings Scheme (ELSS), Debt, Income, Luxury Spending, Financial Goals, Retirement Funds, Investment, Essential Expenses, Cash Flow, Emergency Fund, Insurance, Taxes, Debt Repayment, Budget Surplus, Budget Deficit, Cost Cutting, Credit Card.\\n\\nReserve Bank of India (RBI), Securities and Exchange Board of India (SEBI), State Bank of India (SBI), Life Insurance Corporation of India (LIC), Employee Provident Fund Organisation (EPFO), Income Tax Department India, Infosys Ltd., Tata Consultancy Services (TCS), HDFC Bank, ICICI Bank, Axis Bank, Reliance Industries Ltd., Wipro, Mahindra & Mahindra, National Stock Exchange of India (NSE), Bombay Stock Exchange (BSE), National Pension System (NPS), Pradhan Mantri Jan Dhan Yojana (PMJDY), Union Budget of India, Central Board of Direct Taxes (CBDT).',\n",
       " 2: \"Debt Consolidation, Refinancing, Loan Repayment, Interest Rates, Insolvency, Bankruptcy, Debt Restructuring, Deferred Payment, Lump Sum, Equated Monthly Installments (EMIs), Financial Planning, Credit Counseling, Debt Collection, Bad Debt, Credit Score, Default Risk, Liquidation, Secured Loan, Unsecured Loan, Debt Servicing, Leverage Ratio, Debt to Income Ratio, Delinquency Rate, Reserve Bank of India (RBI), Creditors.\\n\\nDebt Recovery Tribunal (DRT), National Company Law Tribunal (NCLT), Insolvency and Bankruptcy Board of India (IBBI), Credit Information Bureau India Limited (CIBIL), State Bank of India (SBI), ICICI Bank, HDFC Bank, Axis Bank, Kotak Mahindra Bank, Punjab National Bank (PNB), Indian Bank, Bank of Baroda, Indian Banks' Association (IBA), Infrastructure Leasing & Financial Services (IL&FS), Reliance Industries, Tata Group, Mahindra & Mahindra Financial Services, Adani Group, Emami, Suzlon Energy, IDBI Bank, NABARD (National Bank for Agriculture and Rural Development), SEBI (Securities and Exchange Board of India), Muthoot Finance, Bajaj Finserv.\"}"
      ]
     },
     "execution_count": 54,
     "metadata": {},
     "output_type": "execute_result"
    }
   ],
   "source": [
    "k"
   ]
  },
  {
   "cell_type": "code",
   "execution_count": null,
   "id": "ef80f0b0-e78c-4ee9-8216-84fc2c08b6c5",
   "metadata": {},
   "outputs": [],
   "source": []
  }
 ],
 "metadata": {
  "kernelspec": {
   "display_name": "llms",
   "language": "python",
   "name": "llms"
  },
  "language_info": {
   "codemirror_mode": {
    "name": "ipython",
    "version": 3
   },
   "file_extension": ".py",
   "mimetype": "text/x-python",
   "name": "python",
   "nbconvert_exporter": "python",
   "pygments_lexer": "ipython3",
   "version": "3.11.4"
  }
 },
 "nbformat": 4,
 "nbformat_minor": 5
}
