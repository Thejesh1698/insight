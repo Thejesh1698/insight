{
 "cells": [
  {
   "cell_type": "code",
   "execution_count": 4,
   "id": "e722e08d-3660-4690-b3ed-06652de6f58a",
   "metadata": {
    "tags": []
   },
   "outputs": [],
   "source": [
    "parent_folder = '/Users/ravi.tej/Desktop/ML/Recommendations/cambrian_reco/'\n",
    "from hydra import compose, initialize\n",
    "import os\n",
    "import sys\n",
    "sys.path.append('/Users/ravi.tej/Desktop/ML/Recommendations/cambrian_reco/')\n",
    "\n",
    "import xml.etree.ElementTree as ET\n",
    "\n",
    "tree = ET.parse('../conf/application.run.xml')\n",
    "root = tree.getroot()\n",
    "envs_element = root.find('./configuration/envs')\n",
    "for variable in envs_element.findall('env'):\n",
    "    name = variable.get('name')\n",
    "    value = variable.get('value')\n",
    "    os.environ[name] = value\n",
    "\n",
    "import pandas as pd\n",
    "import numpy as np\n",
    "\n",
    "from sql.PostgresDatabaseOperation import PostgresDatabaseOperation\n",
    "from sql.ArticleSelectionSQL import ArticleSelectionSQL"
   ]
  },
  {
   "cell_type": "code",
   "execution_count": 5,
   "id": "7c573ad6-1727-47c9-96e8-977bc62805e1",
   "metadata": {
    "tags": []
   },
   "outputs": [],
   "source": [
    "from src._utils import get_time_decay_article_priors_for_all_interacted_articles"
   ]
  },
  {
   "cell_type": "code",
   "execution_count": 21,
   "id": "223330cd-7e07-449c-aeea-40c036fce039",
   "metadata": {
    "tags": []
   },
   "outputs": [],
   "source": [
    "def get_day_wise_article_a_b() -> pd.DataFrame:\n",
    "    # TODO: - to evaluate if we need to take count distinct for feed id in case articles can duplicate\n",
    "    # TODO: - do this only for candidate articles\n",
    "    with PostgresDatabaseOperation() as cursor:\n",
    "        interaction_sql = f\"\"\"SELECT article_id, CAST(created_at AS DATE) as feed_date, SUM(CAST(is_article_opened AS INT)) as a, COUNT(activity_id) as b\n",
    "                            FROM user_article_interactions\n",
    "                            GROUP BY article_id, feed_date \n",
    "                            \"\"\"\n",
    "        cursor.execute(interaction_sql)\n",
    "        results = cursor.fetchall()\n",
    "        df = pd.DataFrame(results, columns=['article_id', 'feed_date', 'a', 'b'])\n",
    "        return df"
   ]
  },
  {
   "cell_type": "code",
   "execution_count": 6,
   "id": "601be853-eafe-4799-bd33-bd06835ff128",
   "metadata": {
    "tags": []
   },
   "outputs": [],
   "source": [
    "df = get_time_decay_article_priors_for_all_interacted_articles()"
   ]
  },
  {
   "cell_type": "code",
   "execution_count": 8,
   "id": "3a06b249-afa8-4da9-9a05-799f4c7e5281",
   "metadata": {
    "tags": []
   },
   "outputs": [],
   "source": [
    "df1 = ArticleSelectionSQL.get_day_wise_article_a_b()"
   ]
  },
  {
   "cell_type": "code",
   "execution_count": 118,
   "id": "7c26b265-3646-47ce-b027-ba572f8239e5",
   "metadata": {
    "tags": []
   },
   "outputs": [],
   "source": [
    "df1['feed_date'] = pd.to_datetime(df1['feed_date'])"
   ]
  },
  {
   "cell_type": "code",
   "execution_count": 122,
   "id": "1786aa78-034e-4eaa-ab5e-08a3e6669500",
   "metadata": {
    "tags": []
   },
   "outputs": [],
   "source": [
    "df1['days'] = (datetime.today() - df1['feed_date']).dt.days"
   ]
  },
  {
   "cell_type": "code",
   "execution_count": 129,
   "id": "5507a1b9-62ad-4dbd-9954-9f8c17e0c660",
   "metadata": {
    "tags": []
   },
   "outputs": [
    {
     "name": "stdout",
     "output_type": "stream",
     "text": [
      "99.8 µs ± 10.8 µs per loop (mean ± std. dev. of 7 runs, 10,000 loops each)\n"
     ]
    }
   ],
   "source": [
    "%timeit df1['decay'] = alternative_decay_faster(df1['days'])"
   ]
  },
  {
   "cell_type": "code",
   "execution_count": 134,
   "id": "a82f1b57-880e-40df-8de3-891c887a7621",
   "metadata": {
    "tags": []
   },
   "outputs": [
    {
     "data": {
      "text/plain": [
       "0        0\n",
       "1        0\n",
       "2      -24\n",
       "3        0\n",
       "4      -30\n",
       "        ..\n",
       "2689    -5\n",
       "2690    -7\n",
       "2691     0\n",
       "2692     4\n",
       "2693    -7\n",
       "Name: feed_date, Length: 2694, dtype: int64"
      ]
     },
     "execution_count": 134,
     "metadata": {},
     "output_type": "execute_result"
    }
   ],
   "source": [
    "(datetime(2023,10,16,23,0,0) - df1['feed_date']).dt.days"
   ]
  },
  {
   "cell_type": "code",
   "execution_count": 136,
   "id": "796fb3fc-a7a8-494a-bf6f-1e6b6e26d669",
   "metadata": {
    "tags": []
   },
   "outputs": [],
   "source": [
    "df1['a'] = df1['a'].apply(lambda x: 0 if x == 0 else None)"
   ]
  },
  {
   "cell_type": "code",
   "execution_count": 142,
   "id": "25c2f1f8-196a-4947-a0af-f90454188c77",
   "metadata": {
    "tags": []
   },
   "outputs": [
    {
     "name": "stdout",
     "output_type": "stream",
     "text": [
      "29.3 µs ± 790 ns per loop (mean ± std. dev. of 7 runs, 10,000 loops each)\n"
     ]
    }
   ],
   "source": [
    "%timeit df1['a'] = df1['a'].fillna(1)"
   ]
  },
  {
   "cell_type": "code",
   "execution_count": 143,
   "id": "3a935453-6ca8-46f8-8b54-1aaf10ff3cbe",
   "metadata": {
    "tags": []
   },
   "outputs": [
    {
     "data": {
      "text/html": [
       "<div>\n",
       "<style scoped>\n",
       "    .dataframe tbody tr th:only-of-type {\n",
       "        vertical-align: middle;\n",
       "    }\n",
       "\n",
       "    .dataframe tbody tr th {\n",
       "        vertical-align: top;\n",
       "    }\n",
       "\n",
       "    .dataframe thead th {\n",
       "        text-align: right;\n",
       "    }\n",
       "</style>\n",
       "<table border=\"1\" class=\"dataframe\">\n",
       "  <thead>\n",
       "    <tr style=\"text-align: right;\">\n",
       "      <th></th>\n",
       "      <th>article_id</th>\n",
       "      <th>feed_date</th>\n",
       "      <th>a</th>\n",
       "      <th>b</th>\n",
       "      <th>days_ago</th>\n",
       "      <th>decay</th>\n",
       "      <th>days</th>\n",
       "    </tr>\n",
       "  </thead>\n",
       "  <tbody>\n",
       "    <tr>\n",
       "      <th>0</th>\n",
       "      <td>651dd0cea662d76276b7d32b</td>\n",
       "      <td>2023-10-16</td>\n",
       "      <td>0.0</td>\n",
       "      <td>1</td>\n",
       "      <td>-52</td>\n",
       "      <td>0.525915</td>\n",
       "      <td>51</td>\n",
       "    </tr>\n",
       "    <tr>\n",
       "      <th>1</th>\n",
       "      <td>651dcfd1a662d76276b7d062</td>\n",
       "      <td>2023-10-16</td>\n",
       "      <td>0.0</td>\n",
       "      <td>1</td>\n",
       "      <td>-52</td>\n",
       "      <td>0.525915</td>\n",
       "      <td>51</td>\n",
       "    </tr>\n",
       "    <tr>\n",
       "      <th>2</th>\n",
       "      <td>652fcb6e1e5cc42b1b13a172</td>\n",
       "      <td>2023-11-09</td>\n",
       "      <td>0.0</td>\n",
       "      <td>1</td>\n",
       "      <td>-28</td>\n",
       "      <td>0.620851</td>\n",
       "      <td>27</td>\n",
       "    </tr>\n",
       "    <tr>\n",
       "      <th>3</th>\n",
       "      <td>651de34aa662d76276b803fa</td>\n",
       "      <td>2023-10-16</td>\n",
       "      <td>0.0</td>\n",
       "      <td>1</td>\n",
       "      <td>-52</td>\n",
       "      <td>0.525915</td>\n",
       "      <td>51</td>\n",
       "    </tr>\n",
       "    <tr>\n",
       "      <th>4</th>\n",
       "      <td>652a045b50af0e25a9122fd2</td>\n",
       "      <td>2023-11-15</td>\n",
       "      <td>0.0</td>\n",
       "      <td>1</td>\n",
       "      <td>-22</td>\n",
       "      <td>0.661951</td>\n",
       "      <td>21</td>\n",
       "    </tr>\n",
       "    <tr>\n",
       "      <th>...</th>\n",
       "      <td>...</td>\n",
       "      <td>...</td>\n",
       "      <td>...</td>\n",
       "      <td>...</td>\n",
       "      <td>...</td>\n",
       "      <td>...</td>\n",
       "      <td>...</td>\n",
       "    </tr>\n",
       "    <tr>\n",
       "      <th>2689</th>\n",
       "      <td>6530d42c1e5cc42b1b13a71c</td>\n",
       "      <td>2023-10-21</td>\n",
       "      <td>0.0</td>\n",
       "      <td>1</td>\n",
       "      <td>-47</td>\n",
       "      <td>0.540000</td>\n",
       "      <td>46</td>\n",
       "    </tr>\n",
       "    <tr>\n",
       "      <th>2690</th>\n",
       "      <td>653168441e5cc42b1b13a899</td>\n",
       "      <td>2023-10-23</td>\n",
       "      <td>0.0</td>\n",
       "      <td>1</td>\n",
       "      <td>-45</td>\n",
       "      <td>0.546250</td>\n",
       "      <td>44</td>\n",
       "    </tr>\n",
       "    <tr>\n",
       "      <th>2691</th>\n",
       "      <td>652cace850af0e25a91230be</td>\n",
       "      <td>2023-10-16</td>\n",
       "      <td>0.0</td>\n",
       "      <td>1</td>\n",
       "      <td>-52</td>\n",
       "      <td>0.525915</td>\n",
       "      <td>51</td>\n",
       "    </tr>\n",
       "    <tr>\n",
       "      <th>2692</th>\n",
       "      <td>651dce28a662d76276b7cbb3</td>\n",
       "      <td>2023-10-12</td>\n",
       "      <td>0.0</td>\n",
       "      <td>1</td>\n",
       "      <td>-56</td>\n",
       "      <td>0.516000</td>\n",
       "      <td>55</td>\n",
       "    </tr>\n",
       "    <tr>\n",
       "      <th>2693</th>\n",
       "      <td>652fc5b91e5cc42b1b139eaa</td>\n",
       "      <td>2023-10-23</td>\n",
       "      <td>0.0</td>\n",
       "      <td>1</td>\n",
       "      <td>-45</td>\n",
       "      <td>0.546250</td>\n",
       "      <td>44</td>\n",
       "    </tr>\n",
       "  </tbody>\n",
       "</table>\n",
       "<p>2694 rows × 7 columns</p>\n",
       "</div>"
      ],
      "text/plain": [
       "                    article_id  feed_date    a  b  days_ago     decay  days\n",
       "0     651dd0cea662d76276b7d32b 2023-10-16  0.0  1       -52  0.525915    51\n",
       "1     651dcfd1a662d76276b7d062 2023-10-16  0.0  1       -52  0.525915    51\n",
       "2     652fcb6e1e5cc42b1b13a172 2023-11-09  0.0  1       -28  0.620851    27\n",
       "3     651de34aa662d76276b803fa 2023-10-16  0.0  1       -52  0.525915    51\n",
       "4     652a045b50af0e25a9122fd2 2023-11-15  0.0  1       -22  0.661951    21\n",
       "...                        ...        ...  ... ..       ...       ...   ...\n",
       "2689  6530d42c1e5cc42b1b13a71c 2023-10-21  0.0  1       -47  0.540000    46\n",
       "2690  653168441e5cc42b1b13a899 2023-10-23  0.0  1       -45  0.546250    44\n",
       "2691  652cace850af0e25a91230be 2023-10-16  0.0  1       -52  0.525915    51\n",
       "2692  651dce28a662d76276b7cbb3 2023-10-12  0.0  1       -56  0.516000    55\n",
       "2693  652fc5b91e5cc42b1b139eaa 2023-10-23  0.0  1       -45  0.546250    44\n",
       "\n",
       "[2694 rows x 7 columns]"
      ]
     },
     "execution_count": 143,
     "metadata": {},
     "output_type": "execute_result"
    }
   ],
   "source": [
    "df1.fillna({'feed_a': 0, 'feed_b': 0, 'search_a': 0, 'search_b': 0, 'prior_a': 1, 'prior_b': 10})"
   ]
  },
  {
   "cell_type": "code",
   "execution_count": 139,
   "id": "ba8f13a2-7648-43b3-911e-e2fead13fe48",
   "metadata": {
    "tags": []
   },
   "outputs": [
    {
     "data": {
      "text/plain": [
       "article_id     0\n",
       "feed_date      0\n",
       "a             81\n",
       "b              0\n",
       "days_ago       0\n",
       "decay          0\n",
       "days           0\n",
       "dtype: int64"
      ]
     },
     "execution_count": 139,
     "metadata": {},
     "output_type": "execute_result"
    }
   ],
   "source": [
    "df1.isnull().sum()"
   ]
  },
  {
   "cell_type": "code",
   "execution_count": 137,
   "id": "0fddadf6-2779-4ba1-b650-1f20d2ad468a",
   "metadata": {
    "tags": []
   },
   "outputs": [
    {
     "data": {
      "text/html": [
       "<div>\n",
       "<style scoped>\n",
       "    .dataframe tbody tr th:only-of-type {\n",
       "        vertical-align: middle;\n",
       "    }\n",
       "\n",
       "    .dataframe tbody tr th {\n",
       "        vertical-align: top;\n",
       "    }\n",
       "\n",
       "    .dataframe thead th {\n",
       "        text-align: right;\n",
       "    }\n",
       "</style>\n",
       "<table border=\"1\" class=\"dataframe\">\n",
       "  <thead>\n",
       "    <tr style=\"text-align: right;\">\n",
       "      <th></th>\n",
       "      <th>article_id</th>\n",
       "      <th>feed_date</th>\n",
       "      <th>a</th>\n",
       "      <th>b</th>\n",
       "      <th>days_ago</th>\n",
       "      <th>decay</th>\n",
       "      <th>days</th>\n",
       "    </tr>\n",
       "  </thead>\n",
       "  <tbody>\n",
       "    <tr>\n",
       "      <th>0</th>\n",
       "      <td>651dd0cea662d76276b7d32b</td>\n",
       "      <td>2023-10-16</td>\n",
       "      <td>0.0</td>\n",
       "      <td>1</td>\n",
       "      <td>-52</td>\n",
       "      <td>0.525915</td>\n",
       "      <td>51</td>\n",
       "    </tr>\n",
       "    <tr>\n",
       "      <th>1</th>\n",
       "      <td>651dcfd1a662d76276b7d062</td>\n",
       "      <td>2023-10-16</td>\n",
       "      <td>0.0</td>\n",
       "      <td>1</td>\n",
       "      <td>-52</td>\n",
       "      <td>0.525915</td>\n",
       "      <td>51</td>\n",
       "    </tr>\n",
       "    <tr>\n",
       "      <th>2</th>\n",
       "      <td>652fcb6e1e5cc42b1b13a172</td>\n",
       "      <td>2023-11-09</td>\n",
       "      <td>0.0</td>\n",
       "      <td>1</td>\n",
       "      <td>-28</td>\n",
       "      <td>0.620851</td>\n",
       "      <td>27</td>\n",
       "    </tr>\n",
       "    <tr>\n",
       "      <th>3</th>\n",
       "      <td>651de34aa662d76276b803fa</td>\n",
       "      <td>2023-10-16</td>\n",
       "      <td>0.0</td>\n",
       "      <td>1</td>\n",
       "      <td>-52</td>\n",
       "      <td>0.525915</td>\n",
       "      <td>51</td>\n",
       "    </tr>\n",
       "    <tr>\n",
       "      <th>4</th>\n",
       "      <td>652a045b50af0e25a9122fd2</td>\n",
       "      <td>2023-11-15</td>\n",
       "      <td>0.0</td>\n",
       "      <td>1</td>\n",
       "      <td>-22</td>\n",
       "      <td>0.661951</td>\n",
       "      <td>21</td>\n",
       "    </tr>\n",
       "    <tr>\n",
       "      <th>...</th>\n",
       "      <td>...</td>\n",
       "      <td>...</td>\n",
       "      <td>...</td>\n",
       "      <td>...</td>\n",
       "      <td>...</td>\n",
       "      <td>...</td>\n",
       "      <td>...</td>\n",
       "    </tr>\n",
       "    <tr>\n",
       "      <th>2689</th>\n",
       "      <td>6530d42c1e5cc42b1b13a71c</td>\n",
       "      <td>2023-10-21</td>\n",
       "      <td>0.0</td>\n",
       "      <td>1</td>\n",
       "      <td>-47</td>\n",
       "      <td>0.540000</td>\n",
       "      <td>46</td>\n",
       "    </tr>\n",
       "    <tr>\n",
       "      <th>2690</th>\n",
       "      <td>653168441e5cc42b1b13a899</td>\n",
       "      <td>2023-10-23</td>\n",
       "      <td>0.0</td>\n",
       "      <td>1</td>\n",
       "      <td>-45</td>\n",
       "      <td>0.546250</td>\n",
       "      <td>44</td>\n",
       "    </tr>\n",
       "    <tr>\n",
       "      <th>2691</th>\n",
       "      <td>652cace850af0e25a91230be</td>\n",
       "      <td>2023-10-16</td>\n",
       "      <td>0.0</td>\n",
       "      <td>1</td>\n",
       "      <td>-52</td>\n",
       "      <td>0.525915</td>\n",
       "      <td>51</td>\n",
       "    </tr>\n",
       "    <tr>\n",
       "      <th>2692</th>\n",
       "      <td>651dce28a662d76276b7cbb3</td>\n",
       "      <td>2023-10-12</td>\n",
       "      <td>0.0</td>\n",
       "      <td>1</td>\n",
       "      <td>-56</td>\n",
       "      <td>0.516000</td>\n",
       "      <td>55</td>\n",
       "    </tr>\n",
       "    <tr>\n",
       "      <th>2693</th>\n",
       "      <td>652fc5b91e5cc42b1b139eaa</td>\n",
       "      <td>2023-10-23</td>\n",
       "      <td>0.0</td>\n",
       "      <td>1</td>\n",
       "      <td>-45</td>\n",
       "      <td>0.546250</td>\n",
       "      <td>44</td>\n",
       "    </tr>\n",
       "  </tbody>\n",
       "</table>\n",
       "<p>2694 rows × 7 columns</p>\n",
       "</div>"
      ],
      "text/plain": [
       "                    article_id  feed_date    a  b  days_ago     decay  days\n",
       "0     651dd0cea662d76276b7d32b 2023-10-16  0.0  1       -52  0.525915    51\n",
       "1     651dcfd1a662d76276b7d062 2023-10-16  0.0  1       -52  0.525915    51\n",
       "2     652fcb6e1e5cc42b1b13a172 2023-11-09  0.0  1       -28  0.620851    27\n",
       "3     651de34aa662d76276b803fa 2023-10-16  0.0  1       -52  0.525915    51\n",
       "4     652a045b50af0e25a9122fd2 2023-11-15  0.0  1       -22  0.661951    21\n",
       "...                        ...        ...  ... ..       ...       ...   ...\n",
       "2689  6530d42c1e5cc42b1b13a71c 2023-10-21  0.0  1       -47  0.540000    46\n",
       "2690  653168441e5cc42b1b13a899 2023-10-23  0.0  1       -45  0.546250    44\n",
       "2691  652cace850af0e25a91230be 2023-10-16  0.0  1       -52  0.525915    51\n",
       "2692  651dce28a662d76276b7cbb3 2023-10-12  0.0  1       -56  0.516000    55\n",
       "2693  652fc5b91e5cc42b1b139eaa 2023-10-23  0.0  1       -45  0.546250    44\n",
       "\n",
       "[2694 rows x 7 columns]"
      ]
     },
     "execution_count": 137,
     "metadata": {},
     "output_type": "execute_result"
    }
   ],
   "source": [
    "df1"
   ]
  },
  {
   "cell_type": "code",
   "execution_count": 123,
   "id": "62bbd871-6555-42f0-a015-b56334a23489",
   "metadata": {
    "tags": []
   },
   "outputs": [
    {
     "data": {
      "text/html": [
       "<div>\n",
       "<style scoped>\n",
       "    .dataframe tbody tr th:only-of-type {\n",
       "        vertical-align: middle;\n",
       "    }\n",
       "\n",
       "    .dataframe tbody tr th {\n",
       "        vertical-align: top;\n",
       "    }\n",
       "\n",
       "    .dataframe thead th {\n",
       "        text-align: right;\n",
       "    }\n",
       "</style>\n",
       "<table border=\"1\" class=\"dataframe\">\n",
       "  <thead>\n",
       "    <tr style=\"text-align: right;\">\n",
       "      <th></th>\n",
       "      <th>article_id</th>\n",
       "      <th>feed_date</th>\n",
       "      <th>a</th>\n",
       "      <th>b</th>\n",
       "      <th>days_ago</th>\n",
       "      <th>decay</th>\n",
       "      <th>days</th>\n",
       "    </tr>\n",
       "  </thead>\n",
       "  <tbody>\n",
       "    <tr>\n",
       "      <th>0</th>\n",
       "      <td>651dd0cea662d76276b7d32b</td>\n",
       "      <td>2023-10-16</td>\n",
       "      <td>0</td>\n",
       "      <td>1</td>\n",
       "      <td>-52</td>\n",
       "      <td>1.0</td>\n",
       "      <td>51</td>\n",
       "    </tr>\n",
       "    <tr>\n",
       "      <th>1</th>\n",
       "      <td>651dcfd1a662d76276b7d062</td>\n",
       "      <td>2023-10-16</td>\n",
       "      <td>0</td>\n",
       "      <td>1</td>\n",
       "      <td>-52</td>\n",
       "      <td>1.0</td>\n",
       "      <td>51</td>\n",
       "    </tr>\n",
       "    <tr>\n",
       "      <th>2</th>\n",
       "      <td>652fcb6e1e5cc42b1b13a172</td>\n",
       "      <td>2023-11-09</td>\n",
       "      <td>0</td>\n",
       "      <td>1</td>\n",
       "      <td>-28</td>\n",
       "      <td>1.0</td>\n",
       "      <td>27</td>\n",
       "    </tr>\n",
       "    <tr>\n",
       "      <th>3</th>\n",
       "      <td>651de34aa662d76276b803fa</td>\n",
       "      <td>2023-10-16</td>\n",
       "      <td>0</td>\n",
       "      <td>1</td>\n",
       "      <td>-52</td>\n",
       "      <td>1.0</td>\n",
       "      <td>51</td>\n",
       "    </tr>\n",
       "    <tr>\n",
       "      <th>4</th>\n",
       "      <td>652a045b50af0e25a9122fd2</td>\n",
       "      <td>2023-11-15</td>\n",
       "      <td>0</td>\n",
       "      <td>1</td>\n",
       "      <td>-22</td>\n",
       "      <td>1.0</td>\n",
       "      <td>21</td>\n",
       "    </tr>\n",
       "    <tr>\n",
       "      <th>...</th>\n",
       "      <td>...</td>\n",
       "      <td>...</td>\n",
       "      <td>...</td>\n",
       "      <td>...</td>\n",
       "      <td>...</td>\n",
       "      <td>...</td>\n",
       "      <td>...</td>\n",
       "    </tr>\n",
       "    <tr>\n",
       "      <th>2689</th>\n",
       "      <td>6530d42c1e5cc42b1b13a71c</td>\n",
       "      <td>2023-10-21</td>\n",
       "      <td>0</td>\n",
       "      <td>1</td>\n",
       "      <td>-47</td>\n",
       "      <td>1.0</td>\n",
       "      <td>46</td>\n",
       "    </tr>\n",
       "    <tr>\n",
       "      <th>2690</th>\n",
       "      <td>653168441e5cc42b1b13a899</td>\n",
       "      <td>2023-10-23</td>\n",
       "      <td>0</td>\n",
       "      <td>1</td>\n",
       "      <td>-45</td>\n",
       "      <td>1.0</td>\n",
       "      <td>44</td>\n",
       "    </tr>\n",
       "    <tr>\n",
       "      <th>2691</th>\n",
       "      <td>652cace850af0e25a91230be</td>\n",
       "      <td>2023-10-16</td>\n",
       "      <td>0</td>\n",
       "      <td>1</td>\n",
       "      <td>-52</td>\n",
       "      <td>1.0</td>\n",
       "      <td>51</td>\n",
       "    </tr>\n",
       "    <tr>\n",
       "      <th>2692</th>\n",
       "      <td>651dce28a662d76276b7cbb3</td>\n",
       "      <td>2023-10-12</td>\n",
       "      <td>0</td>\n",
       "      <td>1</td>\n",
       "      <td>-56</td>\n",
       "      <td>1.0</td>\n",
       "      <td>55</td>\n",
       "    </tr>\n",
       "    <tr>\n",
       "      <th>2693</th>\n",
       "      <td>652fc5b91e5cc42b1b139eaa</td>\n",
       "      <td>2023-10-23</td>\n",
       "      <td>0</td>\n",
       "      <td>1</td>\n",
       "      <td>-45</td>\n",
       "      <td>1.0</td>\n",
       "      <td>44</td>\n",
       "    </tr>\n",
       "  </tbody>\n",
       "</table>\n",
       "<p>2694 rows × 7 columns</p>\n",
       "</div>"
      ],
      "text/plain": [
       "                    article_id  feed_date  a  b  days_ago  decay  days\n",
       "0     651dd0cea662d76276b7d32b 2023-10-16  0  1       -52    1.0    51\n",
       "1     651dcfd1a662d76276b7d062 2023-10-16  0  1       -52    1.0    51\n",
       "2     652fcb6e1e5cc42b1b13a172 2023-11-09  0  1       -28    1.0    27\n",
       "3     651de34aa662d76276b803fa 2023-10-16  0  1       -52    1.0    51\n",
       "4     652a045b50af0e25a9122fd2 2023-11-15  0  1       -22    1.0    21\n",
       "...                        ...        ... .. ..       ...    ...   ...\n",
       "2689  6530d42c1e5cc42b1b13a71c 2023-10-21  0  1       -47    1.0    46\n",
       "2690  653168441e5cc42b1b13a899 2023-10-23  0  1       -45    1.0    44\n",
       "2691  652cace850af0e25a91230be 2023-10-16  0  1       -52    1.0    51\n",
       "2692  651dce28a662d76276b7cbb3 2023-10-12  0  1       -56    1.0    55\n",
       "2693  652fc5b91e5cc42b1b139eaa 2023-10-23  0  1       -45    1.0    44\n",
       "\n",
       "[2694 rows x 7 columns]"
      ]
     },
     "execution_count": 123,
     "metadata": {},
     "output_type": "execute_result"
    }
   ],
   "source": [
    "df1"
   ]
  },
  {
   "cell_type": "code",
   "execution_count": 11,
   "id": "ac9511d9-c9a0-443b-972f-8c73f4fcea7d",
   "metadata": {
    "tags": []
   },
   "outputs": [
    {
     "data": {
      "text/plain": [
       "81"
      ]
     },
     "execution_count": 11,
     "metadata": {},
     "output_type": "execute_result"
    }
   ],
   "source": [
    "df1.a.sum()"
   ]
  },
  {
   "cell_type": "code",
   "execution_count": 12,
   "id": "a2071a39-66f7-4d58-b577-b1e24c6c6d53",
   "metadata": {
    "tags": []
   },
   "outputs": [
    {
     "data": {
      "text/plain": [
       "2776"
      ]
     },
     "execution_count": 12,
     "metadata": {},
     "output_type": "execute_result"
    }
   ],
   "source": [
    "df1.b.sum()"
   ]
  },
  {
   "cell_type": "code",
   "execution_count": 13,
   "id": "02791ab2-69b6-4981-b69d-47365fa5a8fd",
   "metadata": {
    "tags": []
   },
   "outputs": [],
   "source": [
    "from src._utils import apply_article_pref_decay_by_feed_date"
   ]
  },
  {
   "cell_type": "code",
   "execution_count": 14,
   "id": "c5d5f63f-7ff2-400b-93ea-67dc41961cf3",
   "metadata": {
    "tags": []
   },
   "outputs": [],
   "source": [
    "df2 = apply_article_pref_decay_by_feed_date(df1)"
   ]
  },
  {
   "cell_type": "code",
   "execution_count": 1,
   "id": "a789e828-4b1d-4239-9819-eaea1e9f7aea",
   "metadata": {
    "tags": []
   },
   "outputs": [],
   "source": [
    "import numpy as np\n",
    "import pandas as pd"
   ]
  },
  {
   "cell_type": "code",
   "execution_count": 2,
   "id": "54c80437-7c78-48f2-a89b-80e4c3178f84",
   "metadata": {
    "tags": []
   },
   "outputs": [],
   "source": [
    "num_hours = lambda days: days * 24 "
   ]
  },
  {
   "cell_type": "code",
   "execution_count": 17,
   "id": "6866e0a0-43a8-49fc-af53-cf01f3479931",
   "metadata": {
    "tags": []
   },
   "outputs": [
    {
     "data": {
      "text/plain": [
       "0.25"
      ]
     },
     "execution_count": 17,
     "metadata": {},
     "output_type": "execute_result"
    }
   ],
   "source": [
    "6/24"
   ]
  },
  {
   "cell_type": "code",
   "execution_count": 122,
   "id": "2ae47f83-b83c-450e-a27f-f56cc36dbb41",
   "metadata": {
    "tags": []
   },
   "outputs": [],
   "source": [
    "def timeliness_weight(hours_since_publication, page_number=1):\n",
    "    # https://www.desmos.com/calculator/qku1api5x6\n",
    "    return 0.25 + (0.75/(1+np.exp((np.log2(hours_since_publication) - 7)/(page_number))))"
   ]
  },
  {
   "cell_type": "code",
   "execution_count": 100,
   "id": "bd64d39d-5848-4b2b-88c6-8cd24c7c650c",
   "metadata": {
    "tags": []
   },
   "outputs": [],
   "source": [
    "def alternative_decay(days):\n",
    "    return 0.33 + (0.66/(1 + (days*np.exp(-3))))"
   ]
  },
  {
   "cell_type": "code",
   "execution_count": 125,
   "id": "1c2d7fd8-81b9-4a86-83c5-56e1a65324f5",
   "metadata": {
    "tags": []
   },
   "outputs": [],
   "source": [
    "def alternative_decay_faster(days):\n",
    "    return 0.34 + (0.66/(1 + 0.05*days))"
   ]
  },
  {
   "cell_type": "code",
   "execution_count": 105,
   "id": "f968b383-eb5f-4893-b5ff-b3a00839406a",
   "metadata": {
    "tags": []
   },
   "outputs": [
    {
     "data": {
      "text/plain": [
       "0.049787068367863944"
      ]
     },
     "execution_count": 105,
     "metadata": {},
     "output_type": "execute_result"
    }
   ],
   "source": [
    "np.exp(-3)"
   ]
  },
  {
   "cell_type": "code",
   "execution_count": 114,
   "id": "3b2b70c3-a5d5-440b-bc81-b404b7e3c344",
   "metadata": {
    "tags": []
   },
   "outputs": [
    {
     "data": {
      "text/plain": [
       "0.8900000000000001"
      ]
     },
     "execution_count": 114,
     "metadata": {},
     "output_type": "execute_result"
    }
   ],
   "source": [
    "alternative_decay1(4)"
   ]
  },
  {
   "cell_type": "code",
   "execution_count": 115,
   "id": "91232211-1fcf-4c90-833b-48740ff53800",
   "metadata": {
    "tags": []
   },
   "outputs": [],
   "source": [
    "from datetime import datetime"
   ]
  },
  {
   "cell_type": "code",
   "execution_count": 116,
   "id": "20f9732b-b31e-4c9f-ada1-590ce2ef851f",
   "metadata": {
    "tags": []
   },
   "outputs": [
    {
     "data": {
      "text/plain": [
       "datetime.datetime(2023, 12, 6, 17, 48, 4, 540788)"
      ]
     },
     "execution_count": 116,
     "metadata": {},
     "output_type": "execute_result"
    }
   ],
   "source": [
    "datetime.today() - "
   ]
  },
  {
   "cell_type": "code",
   "execution_count": 107,
   "id": "f105e8a5-a1e8-4a4a-9e8a-620b28b1917d",
   "metadata": {
    "tags": []
   },
   "outputs": [
    {
     "name": "stdout",
     "output_type": "stream",
     "text": [
      "51.7 ns ± 0.963 ns per loop (mean ± std. dev. of 7 runs, 10,000,000 loops each)\n"
     ]
    }
   ],
   "source": [
    "%timeit alternative_decay1(3)"
   ]
  },
  {
   "cell_type": "code",
   "execution_count": 103,
   "id": "5f99400f-df8e-4a6e-ae01-952fbe7b089c",
   "metadata": {
    "tags": []
   },
   "outputs": [
    {
     "name": "stdout",
     "output_type": "stream",
     "text": [
      "607 ns ± 6.21 ns per loop (mean ± std. dev. of 7 runs, 1,000,000 loops each)\n"
     ]
    }
   ],
   "source": [
    "%timeit alternative_decay(3)"
   ]
  },
  {
   "cell_type": "code",
   "execution_count": 104,
   "id": "57d72459-cf82-4ab3-8936-ae04b52995c5",
   "metadata": {
    "tags": []
   },
   "outputs": [
    {
     "name": "stdout",
     "output_type": "stream",
     "text": [
      "785 ns ± 5.17 ns per loop (mean ± std. dev. of 7 runs, 1,000,000 loops each)\n"
     ]
    }
   ],
   "source": [
    "%timeit interaction_decay(3)"
   ]
  },
  {
   "cell_type": "code",
   "execution_count": 90,
   "id": "c875c3f1-1f76-41cc-849e-e46ae72c19c3",
   "metadata": {
    "tags": []
   },
   "outputs": [],
   "source": [
    "def interaction_decay(days):\n",
    "    # https://www.desmos.com/calculator/qku1api5x6\n",
    "    # return 1/days\n",
    "    return 0.33 + (0.66/(1+np.exp(np.log(days + 0.00001)-3)))"
   ]
  },
  {
   "cell_type": "code",
   "execution_count": 101,
   "id": "588f2346-a7ef-415f-91c2-74b8b22d0287",
   "metadata": {
    "tags": []
   },
   "outputs": [
    {
     "data": {
      "text/plain": [
       "0.5946762954669782"
      ]
     },
     "execution_count": 101,
     "metadata": {},
     "output_type": "execute_result"
    }
   ],
   "source": [
    "alternative_decay(30)"
   ]
  },
  {
   "cell_type": "code",
   "execution_count": 93,
   "id": "af7414e4-e0df-4a01-8885-1e6b56abce18",
   "metadata": {
    "tags": []
   },
   "outputs": [
    {
     "data": {
      "text/plain": [
       "0.5946762426221333"
      ]
     },
     "execution_count": 93,
     "metadata": {},
     "output_type": "execute_result"
    }
   ],
   "source": [
    "interaction_decay(30)"
   ]
  },
  {
   "cell_type": "code",
   "execution_count": 124,
   "id": "ef80a44b-9b95-4476-8131-3b909fb8e92d",
   "metadata": {
    "tags": []
   },
   "outputs": [
    {
     "name": "stdout",
     "output_type": "stream",
     "text": [
      "hours for 0.25 is 6.0 and weight of 0.9910378141300826\n",
      "hours for 1 is 24 and weight of 0.9384751179747243\n",
      "hours for 3 is 72 and weight of 0.7722780907307086\n",
      "hours for 7 is 168 and weight of 0.5523696647847406\n",
      "hours for 14 is 336 and weight of 0.3992785384042919\n",
      "hours for 30 is 720 and weight of 0.3073234640573269\n",
      "hours for 90 is 2160 and weight of 0.26250887579723964\n",
      "hours for 360 is 8640 and weight of 0.2517176632049459\n",
      "hours for 720 is 17280 and weight of 0.2506328090936522\n"
     ]
    }
   ],
   "source": [
    "for day in [0.25, 1, 3, 7, 14, 30, 90, 360, 720]:\n",
    "    weight = timeliness_weight(num_hours(day))\n",
    "    print(f'hours for {day} is {num_hours(day)} and weight of {weight}')"
   ]
  },
  {
   "cell_type": "code",
   "execution_count": 135,
   "id": "7b035aa1-7a17-47a0-ae7d-5478ff2e912e",
   "metadata": {
    "tags": []
   },
   "outputs": [],
   "source": [
    "def softmax(arr, t):\n",
    "    exp_arr = [np.exp(x/t) for x in arr]\n",
    "    exp_arr_sum = np.sum(exp_arr)\n",
    "    return [x/exp_arr_sum for x in exp_arr]"
   ]
  },
  {
   "cell_type": "code",
   "execution_count": 136,
   "id": "06aa0a47-1106-4e56-ae0d-dcef15b81ed0",
   "metadata": {
    "tags": []
   },
   "outputs": [],
   "source": [
    "cluster_prop = np.random.rand(30)"
   ]
  },
  {
   "cell_type": "code",
   "execution_count": 140,
   "id": "17a99ad1-4823-4968-9f20-0cd09f365d2d",
   "metadata": {
    "tags": []
   },
   "outputs": [
    {
     "data": {
      "text/plain": [
       "array([0.74368719, 0.75260124, 0.53138819, 0.162973  , 0.96440304,\n",
       "       0.16611312, 0.48678248, 0.98910907, 0.27297829, 0.9024516 ,\n",
       "       0.0486279 , 0.39512626, 0.00386668, 0.67022996, 0.42663124,\n",
       "       0.88509956, 0.9089922 , 0.66778674, 0.28804467, 0.20347509,\n",
       "       0.67435651, 0.12230065, 0.35860683, 0.02847255, 0.88014925,\n",
       "       0.19427015, 0.13613699, 0.32026216, 0.13993498, 0.91130383])"
      ]
     },
     "execution_count": 140,
     "metadata": {},
     "output_type": "execute_result"
    }
   ],
   "source": [
    "cluster_prop"
   ]
  },
  {
   "cell_type": "code",
   "execution_count": 144,
   "id": "66873715-21eb-47eb-8470-3cd839b605cf",
   "metadata": {
    "tags": []
   },
   "outputs": [
    {
     "data": {
      "text/plain": [
       "[2.0222329446744063e-11,\n",
       " 4.931326728805649e-11,\n",
       " 1.2184361022727835e-20,\n",
       " 1.2182450229620534e-36,\n",
       " 0.07787517608740142,\n",
       " 1.66766239171267e-36,\n",
       " 1.4079966222560547e-22,\n",
       " 0.9212305994803663,\n",
       " 7.297992526684377e-32,\n",
       " 0.00015881147063309738,\n",
       " 1.3176195769775564e-41,\n",
       " 1.4723893939626566e-26,\n",
       " 1.4991150490553414e-43,\n",
       " 1.305041403672163e-14,\n",
       " 3.4376867297983563e-25,\n",
       " 2.8008671497454507e-05,\n",
       " 0.000305447600401855,\n",
       " 1.0221547942053135e-14,\n",
       " 3.2925178027394974e-31,\n",
       " 6.993873571941243e-35,\n",
       " 1.9716876616167863e-14,\n",
       " 2.086203414591155e-38,\n",
       " 3.819477406900956e-28,\n",
       " 1.7557153202622058e-42,\n",
       " 1.7072741356198383e-05,\n",
       " 2.7858176188087203e-35,\n",
       " 8.322643443823771e-38,\n",
       " 8.25497904955951e-30,\n",
       " 1.2167625346002248e-37,\n",
       " 0.00038488387876516164]"
      ]
     },
     "execution_count": 144,
     "metadata": {},
     "output_type": "execute_result"
    }
   ],
   "source": [
    "softmax(cluster_prop, 0.01)"
   ]
  },
  {
   "cell_type": "code",
   "execution_count": null,
   "id": "e4a55f8e-bf3b-40a6-8ea1-f77e0a3db728",
   "metadata": {},
   "outputs": [],
   "source": [
    "softmax: lambda arr: [np.exp(x)]"
   ]
  },
  {
   "cell_type": "code",
   "execution_count": 16,
   "id": "3a1d8496-3aae-4837-b1d1-2f460c42a46c",
   "metadata": {
    "tags": []
   },
   "outputs": [
    {
     "data": {
      "text/plain": [
       "4.584962500721156"
      ]
     },
     "execution_count": 16,
     "metadata": {},
     "output_type": "execute_result"
    }
   ],
   "source": [
    "np.log2(num_hours(1))"
   ]
  },
  {
   "cell_type": "code",
   "execution_count": null,
   "id": "a0d544a3-4d12-48a6-ae22-e47ce681675b",
   "metadata": {},
   "outputs": [],
   "source": [
    "4, 8, 16, 32"
   ]
  },
  {
   "cell_type": "code",
   "execution_count": null,
   "id": "c9d08cb6-6683-4a71-a1e6-abe420c3a430",
   "metadata": {},
   "outputs": [],
   "source": []
  },
  {
   "cell_type": "code",
   "execution_count": 120,
   "id": "c661823a-77e8-44bc-8f2f-62dd363b8ff2",
   "metadata": {
    "tags": []
   },
   "outputs": [
    {
     "data": {
      "text/plain": [
       "0.7682842608550897"
      ]
     },
     "execution_count": 120,
     "metadata": {},
     "output_type": "execute_result"
    }
   ],
   "source": [
    "timeliness_weight(24,)"
   ]
  },
  {
   "cell_type": "code",
   "execution_count": 21,
   "id": "90e26bd7-5743-4606-8605-277fa5491fe6",
   "metadata": {
    "tags": []
   },
   "outputs": [
    {
     "name": "stdout",
     "output_type": "stream",
     "text": [
      "939 ns ± 11.8 ns per loop (mean ± std. dev. of 7 runs, 1,000,000 loops each)\n"
     ]
    }
   ],
   "source": [
    "%timeit timeliness_weight(168)"
   ]
  },
  {
   "cell_type": "code",
   "execution_count": null,
   "id": "a3c6647e-5554-4671-9751-64d881ac3e30",
   "metadata": {},
   "outputs": [],
   "source": []
  }
 ],
 "metadata": {
  "kernelspec": {
   "display_name": "recoenv",
   "language": "python",
   "name": "recoenv"
  },
  "language_info": {
   "codemirror_mode": {
    "name": "ipython",
    "version": 3
   },
   "file_extension": ".py",
   "mimetype": "text/x-python",
   "name": "python",
   "nbconvert_exporter": "python",
   "pygments_lexer": "ipython3",
   "version": "3.11.5"
  }
 },
 "nbformat": 4,
 "nbformat_minor": 5
}
