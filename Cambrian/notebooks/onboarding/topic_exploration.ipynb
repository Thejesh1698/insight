{
 "cells": [
  {
   "cell_type": "code",
   "execution_count": 1,
   "id": "8edf34dd-9a53-4e65-9b9b-3e40ac24cb77",
   "metadata": {
    "tags": []
   },
   "outputs": [
    {
     "name": "stderr",
     "output_type": "stream",
     "text": [
      "/var/folders/d4/cgyr_gnj7nn2wy_hq40gkq8c0000gq/T/ipykernel_41620/4032682437.py:4: UserWarning: \n",
      "The version_base parameter is not specified.\n",
      "Please specify a compatability version level, or None.\n",
      "Will assume defaults for version 1.1\n",
      "  with initialize(config_path=\"../../conf\"):\n"
     ]
    }
   ],
   "source": [
    "parent_folder = '/Users/ravi.tej/Desktop/ML/Recommendations/cambrian/'\n",
    "data_folder = parent_folder + 'data/'\n",
    "from hydra import compose, initialize\n",
    "with initialize(config_path=\"../../conf\"):\n",
    "    # Compose the configuration\n",
    "    cfg = compose(config_name=\"TopicClusterMapping.yaml\")\n",
    "\n",
    "import os\n",
    "\n",
    "import xml.etree.ElementTree as ET\n",
    "\n",
    "tree = ET.parse('../../conf/application.run.xml')\n",
    "root = tree.getroot()\n",
    "\n",
    "envs_element = root.find('./configuration/envs')\n",
    "for variable in envs_element.findall('env'):\n",
    "    name = variable.get('name')\n",
    "    value = variable.get('value')\n",
    "    os.environ[name] = value"
   ]
  },
  {
   "cell_type": "code",
   "execution_count": 1,
   "id": "b6b2cb56-8e58-44b0-89f5-0b516f3c95a2",
   "metadata": {
    "tags": []
   },
   "outputs": [],
   "source": [
    "import requests"
   ]
  },
  {
   "cell_type": "code",
   "execution_count": 2,
   "id": "1a567165-0f0c-4e11-87d9-5bb674b697fc",
   "metadata": {
    "tags": []
   },
   "outputs": [
    {
     "name": "stderr",
     "output_type": "stream",
     "text": [
      "/Users/ravi.tej/anaconda3/envs/recoenv/lib/python3.11/site-packages/umap/distances.py:1063: NumbaDeprecationWarning: The 'nopython' keyword argument was not supplied to the 'numba.jit' decorator. The implicit default value for this argument is currently False, but it will be changed to True in Numba 0.59.0. See https://numba.readthedocs.io/en/stable/reference/deprecation.html#deprecation-of-object-mode-fall-back-behaviour-when-using-jit for details.\n",
      "  @numba.jit()\n",
      "/Users/ravi.tej/anaconda3/envs/recoenv/lib/python3.11/site-packages/umap/distances.py:1071: NumbaDeprecationWarning: The 'nopython' keyword argument was not supplied to the 'numba.jit' decorator. The implicit default value for this argument is currently False, but it will be changed to True in Numba 0.59.0. See https://numba.readthedocs.io/en/stable/reference/deprecation.html#deprecation-of-object-mode-fall-back-behaviour-when-using-jit for details.\n",
      "  @numba.jit()\n",
      "/Users/ravi.tej/anaconda3/envs/recoenv/lib/python3.11/site-packages/umap/distances.py:1086: NumbaDeprecationWarning: The 'nopython' keyword argument was not supplied to the 'numba.jit' decorator. The implicit default value for this argument is currently False, but it will be changed to True in Numba 0.59.0. See https://numba.readthedocs.io/en/stable/reference/deprecation.html#deprecation-of-object-mode-fall-back-behaviour-when-using-jit for details.\n",
      "  @numba.jit()\n",
      "/Users/ravi.tej/anaconda3/envs/recoenv/lib/python3.11/site-packages/umap/umap_.py:660: NumbaDeprecationWarning: The 'nopython' keyword argument was not supplied to the 'numba.jit' decorator. The implicit default value for this argument is currently False, but it will be changed to True in Numba 0.59.0. See https://numba.readthedocs.io/en/stable/reference/deprecation.html#deprecation-of-object-mode-fall-back-behaviour-when-using-jit for details.\n",
      "  @numba.jit()\n"
     ]
    }
   ],
   "source": [
    "import sys\n",
    "\n",
    "sys.path.append('/Users/ravi.tej/Desktop/ML/Recommendations/cambrian/')\n",
    "\n",
    "from src.clustering.ClustersResetService import ClustersResetService\n",
    "from src.clustering.ClusterAssignmentService import ClusterAssignmentService\n",
    "from sql.clustering.ClusteringSQL import ClusteringSQL\n",
    "from src.onboarding.TopicClusterMapping import TopicClusterMapping"
   ]
  },
  {
   "cell_type": "code",
   "execution_count": 3,
   "id": "5ac5c8bd-1243-4949-ac94-7f0bd8745209",
   "metadata": {
    "tags": []
   },
   "outputs": [],
   "source": [
    "from sql.onboarding.TopicPreferencesSQL import TopicPreferencesSQL"
   ]
  },
  {
   "cell_type": "code",
   "execution_count": 4,
   "id": "8385f6b0-6ab8-4d6e-a2d2-63a298dbefc1",
   "metadata": {
    "tags": []
   },
   "outputs": [],
   "source": [
    "# TopicPreferencesSQL.reset_all_topic_preferences_in_db()"
   ]
  },
  {
   "cell_type": "code",
   "execution_count": 4,
   "id": "54c6e512-02c2-40c8-a67a-7bc41163ab13",
   "metadata": {
    "tags": []
   },
   "outputs": [],
   "source": [
    "tc = TopicClusterMapping(cfg=cfg)"
   ]
  },
  {
   "cell_type": "code",
   "execution_count": 5,
   "id": "daaaa6cc-055a-42fc-9f01-898fbcc8990a",
   "metadata": {
    "tags": []
   },
   "outputs": [],
   "source": [
    "tc.recompute_preferences_for_all_topics()"
   ]
  },
  {
   "cell_type": "code",
   "execution_count": 5,
   "id": "1bd9faf5-73f7-4963-a84e-1cc38de41c79",
   "metadata": {
    "tags": []
   },
   "outputs": [
    {
     "name": "stdout",
     "output_type": "stream",
     "text": [
      "121 ms ± 27.7 ms per loop (mean ± std. dev. of 7 runs, 10 loops each)\n"
     ]
    }
   ],
   "source": [
    "%timeit tc.get_merged_cluster_preferences_for_topic_list(topic_id_list=[1,2,3])"
   ]
  },
  {
   "cell_type": "code",
   "execution_count": 5,
   "id": "d9e26f84-d6b8-4a6c-935f-7cca274224b2",
   "metadata": {
    "tags": []
   },
   "outputs": [],
   "source": [
    "for topic in [1,3,4,5,6,7,8,9]:\n",
    "    tc.compute_and_save_cluster_priors_for_topic_id(topic_id=topic)"
   ]
  },
  {
   "cell_type": "code",
   "execution_count": 8,
   "id": "ded07726-db03-4c19-81ba-4c86eb67d93c",
   "metadata": {
    "tags": []
   },
   "outputs": [
    {
     "name": "stdout",
     "output_type": "stream",
     "text": [
      "86 ms ± 2.49 ms per loop (mean ± std. dev. of 7 runs, 10 loops each)\n"
     ]
    }
   ],
   "source": [
    "%timeit TopicPreferencesSQL.get_all_topic_preferences_from_db()"
   ]
  },
  {
   "cell_type": "code",
   "execution_count": 5,
   "id": "54e537ae-e401-4f82-8233-374b89bfbf29",
   "metadata": {
    "tags": []
   },
   "outputs": [],
   "source": [
    "ap = TopicPreferencesSQL.get_all_topic_preferences_from_db()"
   ]
  },
  {
   "cell_type": "code",
   "execution_count": 14,
   "id": "ee51ed41-3c05-452d-99d9-ecfed1184e2c",
   "metadata": {},
   "outputs": [],
   "source": [
    "pref_dict = {}\n",
    "for row in ap[ap.topic_id == 2][['cluster_id','a','b']].itertuples():\n",
    "    pref_dict[row.cluster_id] = {'a': float(row.a), 'b': float(row.b)}"
   ]
  },
  {
   "cell_type": "code",
   "execution_count": 16,
   "id": "30d8b611-faaa-447a-8a46-29f5f3721808",
   "metadata": {
    "tags": []
   },
   "outputs": [],
   "source": [
    "sample_topic_list = [1,3,5]"
   ]
  },
  {
   "cell_type": "code",
   "execution_count": 19,
   "id": "7031f0bf-1620-49f7-b658-00feb1345231",
   "metadata": {
    "tags": []
   },
   "outputs": [
    {
     "data": {
      "text/html": [
       "<div>\n",
       "<style scoped>\n",
       "    .dataframe tbody tr th:only-of-type {\n",
       "        vertical-align: middle;\n",
       "    }\n",
       "\n",
       "    .dataframe tbody tr th {\n",
       "        vertical-align: top;\n",
       "    }\n",
       "\n",
       "    .dataframe thead th {\n",
       "        text-align: right;\n",
       "    }\n",
       "</style>\n",
       "<table border=\"1\" class=\"dataframe\">\n",
       "  <thead>\n",
       "    <tr style=\"text-align: right;\">\n",
       "      <th></th>\n",
       "      <th>topic_id</th>\n",
       "      <th>topic_name</th>\n",
       "      <th>cluster_id</th>\n",
       "      <th>a</th>\n",
       "      <th>b</th>\n",
       "      <th>clustering_run_id</th>\n",
       "      <th>created_at</th>\n",
       "    </tr>\n",
       "  </thead>\n",
       "  <tbody>\n",
       "  </tbody>\n",
       "</table>\n",
       "</div>"
      ],
      "text/plain": [
       "Empty DataFrame\n",
       "Columns: [topic_id, topic_name, cluster_id, a, b, clustering_run_id, created_at]\n",
       "Index: []"
      ]
     },
     "execution_count": 19,
     "metadata": {},
     "output_type": "execute_result"
    }
   ],
   "source": [
    "ap[ap.topic_id == 49]"
   ]
  },
  {
   "cell_type": "code",
   "execution_count": 8,
   "id": "317e0961-e6db-4abe-8de0-ed938e30fe2c",
   "metadata": {
    "tags": []
   },
   "outputs": [],
   "source": [
    "def merge_dicts(dict_list):\n",
    "    merged_dict = {}\n",
    "    \n",
    "    for d in dict_list:\n",
    "        for key, value in d.items():\n",
    "            if key not in merged_dict:\n",
    "                merged_dict[key] = value\n",
    "            else:\n",
    "                # Merge 'a' values using the given logic: 1 + (a1-1) + (a2-1)\n",
    "                merged_dict[key]['a'] = min(5.0, 1 + (merged_dict[key]['a'] - 1) + (value['a'] - 1))\n",
    "                \n",
    "                # Merge 'b' values by taking the average\n",
    "                merged_dict[key]['b'] = (merged_dict[key]['b'] + value['b']) / 2\n",
    "                \n",
    "    return merged_dict"
   ]
  },
  {
   "cell_type": "code",
   "execution_count": 10,
   "id": "7186595c-f034-4b2c-8521-96ed3cd609c5",
   "metadata": {
    "tags": []
   },
   "outputs": [
    {
     "name": "stdout",
     "output_type": "stream",
     "text": [
      "{1: 'Investing Basics', 2: 'Personal Finance', 3: 'Taxation', 4: 'Retirement Goals', 5: 'Insurance', 6: 'Credit Health', 7: 'Real Estate Guide', 8: 'Tech & Startups', 9: 'Industry Highlights', 10: 'Green Investing', 11: 'Study & Education Loans', 12: 'Trade & Global Markets', 13: 'Travel & Lifestyle', 14: 'Precious Metals & Commodities', 15: 'Small Business Strategies', 16: 'Banking & New Offers', 17: 'Government Benefits', 18: 'Forex & Currency', 19: 'IPOs, M&As', 20: 'Global Economy'}\n"
     ]
    }
   ],
   "source": [
    "# Given list of strings\n",
    "categories = [\n",
    "    \"Investing Basics\",\n",
    "    \"Personal Finance\",\n",
    "    \"Taxation\",\n",
    "    \"Retirement Goals\",\n",
    "    \"Insurance\",\n",
    "    \"Credit Health\",\n",
    "    \"Real Estate Guide\",\n",
    "    \"Tech & Startups\",\n",
    "    \"Industry Highlights\",\n",
    "    \"Green Investing\",\n",
    "    \"Study & Education Loans\",\n",
    "    \"Trade & Global Markets\",\n",
    "    \"Travel & Lifestyle\",\n",
    "    \"Precious Metals & Commodities\",\n",
    "    \"Small Business Strategies\",\n",
    "    \"Banking & New Offers\",\n",
    "    \"Government Benefits\",\n",
    "    \"Forex & Currency\",\n",
    "    \"IPOs, M&As\",\n",
    "    \"Global Economy\"\n",
    "]\n",
    "\n",
    "# Convert the list to a dictionary with keys as numbers and values as strings\n",
    "category_dict = {i: category for i, category in enumerate(categories, 1)}\n",
    "\n",
    "# Print the resulting dictionary\n",
    "print(category_dict)\n"
   ]
  },
  {
   "cell_type": "code",
   "execution_count": 11,
   "id": "08fcd61c-0b14-4664-8a10-6b042a32181a",
   "metadata": {
    "tags": []
   },
   "outputs": [],
   "source": [
    "k = merge_dicts([dct, dct])"
   ]
  },
  {
   "cell_type": "code",
   "execution_count": 14,
   "id": "824bee1b-9ed0-4c83-933f-b167ff2c064a",
   "metadata": {
    "tags": []
   },
   "outputs": [],
   "source": [
    "import pandas as pd"
   ]
  },
  {
   "cell_type": "code",
   "execution_count": 20,
   "id": "cb974f75-b5c4-467b-82dc-86c44abea2f7",
   "metadata": {
    "tags": []
   },
   "outputs": [],
   "source": [
    "df = pd.DataFrame(k).T"
   ]
  },
  {
   "cell_type": "code",
   "execution_count": 21,
   "id": "be227308-296a-4393-9f93-b74cadc47116",
   "metadata": {
    "tags": []
   },
   "outputs": [
    {
     "data": {
      "text/plain": [
       "False"
      ]
     },
     "execution_count": 21,
     "metadata": {},
     "output_type": "execute_result"
    }
   ],
   "source": [
    "df.empty"
   ]
  },
  {
   "cell_type": "code",
   "execution_count": 5,
   "id": "7b8da3e0-23d3-48df-b63c-06d76d3e0f53",
   "metadata": {
    "tags": []
   },
   "outputs": [],
   "source": [
    "dct = tc.compute_cluster_priors_for_keyword('sensex')"
   ]
  },
  {
   "cell_type": "code",
   "execution_count": 5,
   "id": "5a4a6258-31ed-4680-bddd-97dbe61b65ea",
   "metadata": {
    "tags": []
   },
   "outputs": [],
   "source": [
    "cpd = tc.compute_cluster_preferences(['sensex'])"
   ]
  },
  {
   "cell_type": "code",
   "execution_count": 6,
   "id": "b989a1e7-3729-4b56-92b5-0a40844336e1",
   "metadata": {
    "scrolled": true,
    "tags": []
   },
   "outputs": [
    {
     "data": {
      "text/plain": [
       "{0: 0.430676558073393,\n",
       " 1: 0.6826061944859853,\n",
       " 2: 0.861353116146786,\n",
       " 3: 1.0,\n",
       " 4: 1.1132827525593783,\n",
       " 5: 1.2090619551221675,\n",
       " 6: 1.292029674220179,\n",
       " 7: 1.3652123889719705,\n",
       " 8: 1.430676558073393,\n",
       " 9: 1.4898961024049782,\n",
       " 10: 1.5439593106327714,\n",
       " 11: 1.5936926411670822,\n",
       " 12: 1.6397385131955604,\n",
       " 13: 1.6826061944859854,\n",
       " 14: 1.722706232293572,\n",
       " 15: 1.7603744277225877,\n",
       " 16: 1.7958889470453634,\n",
       " 17: 1.8294828004351502,\n",
       " 18: 1.861353116146786,\n",
       " 19: 1.8916681496081527,\n",
       " 20: 1.9205726604783708,\n",
       " 21: 1.9481920934663794,\n",
       " 22: 1.9746358687061643,\n",
       " 23: 2.0,\n",
       " 24: 2.0243691992404753,\n",
       " 25: 2.0478185834579556,\n",
       " 26: 2.0704150712689535,\n",
       " 27: 2.0922185341674995,\n",
       " 28: 2.1132827525593783,\n",
       " 29: 2.1336562149773224,\n",
       " 30: 2.1533827903669653,\n",
       " 31: 2.172502296890963,\n",
       " 32: 2.191050985795981,\n",
       " 33: 2.2090619551221673,\n",
       " 34: 2.2265655051187565,\n",
       " 35: 2.2435894449529292,\n",
       " 36: 2.260159358508543,\n",
       " 37: 2.2762988356530673,\n",
       " 38: 2.2920296742201787,\n",
       " 39: 2.307372057048123,\n",
       " 40: 2.322344707681546,\n",
       " 41: 2.3369650277500638,\n",
       " 42: 2.351249218551764,\n",
       " 43: 2.3652123889719703,\n",
       " 44: 2.3788686515397726,\n",
       " 45: 2.3922312081533654,\n",
       " 46: 2.4053124267795574,\n",
       " 47: 2.418123910244335,\n",
       " 48: 2.430676558073393,\n",
       " 49: 2.442980622208573,\n",
       " 50: 2.455045757313868,\n",
       " 51: 2.466881066289463,\n",
       " 52: 2.478495141531349,\n",
       " 53: 2.489896102404978,\n",
       " 54: 2.5010916293423464,\n",
       " 55: 2.5120889949211356,\n",
       " 56: 2.5228950922408924,\n",
       " 57: 2.533516460873527,\n",
       " 58: 2.543959310632771,\n",
       " 59: 2.554229543378943,\n",
       " 60: 2.5643327730507157,\n",
       " 61: 2.574274344094138,\n",
       " 62: 2.584059348440358,\n",
       " 63: 2.593692641167082,\n",
       " 64: 2.6031788549643564,\n",
       " 65: 2.6125224135125684,\n",
       " 66: 2.621727543869374,\n",
       " 67: 2.6307982879523646,\n",
       " 68: 2.6397385131955606,\n",
       " 69: 2.64855192245004,\n",
       " 70: 2.65724206319215,\n",
       " 71: 2.665812336096604,\n",
       " 72: 2.674266003026322,\n",
       " 73: 2.6826061944859854,\n",
       " 74: 2.6908359165819364,\n",
       " 75: 2.6989580575271455,\n",
       " 76: 2.7069753937264602,\n",
       " 77: 2.714890595474233,\n",
       " 78: 2.722706232293572,\n",
       " 79: 2.730424777943941,\n",
       " 80: 2.7380486151215164,\n",
       " 81: 2.745580039874654,\n",
       " 82: 2.7530212657549384,\n",
       " 83: 2.7603744277225877,\n",
       " 84: 2.7676415858234567,\n",
       " 85: 2.7748247286534844,\n",
       " 86: 2.7819257766251573,\n",
       " 87: 2.7889465850494126,\n",
       " 88: 2.7958889470453636,\n",
       " 89: 2.8027545962892497,\n",
       " 90: 2.8095452096131655,\n",
       " 91: 2.8162624094633077,\n",
       " 92: 2.8229077662267583,\n",
       " 93: 2.82948280043515,\n",
       " 94: 2.8359889848529503,\n",
       " 95: 2.842427746457537,\n",
       " 96: 2.848800468317728,\n",
       " 97: 2.8551084913769484,\n",
       " 98: 2.861353116146786,\n",
       " 99: 2.8675356043162856,\n",
       " 100: 2.873657180281966}"
      ]
     },
     "execution_count": 6,
     "metadata": {},
     "output_type": "execute_result"
    }
   ],
   "source": [
    "tc.position_log_scaling"
   ]
  },
  {
   "cell_type": "code",
   "execution_count": 7,
   "id": "7e9e909f-ad66-425f-a649-f1ccdd4c2f3f",
   "metadata": {
    "tags": []
   },
   "outputs": [
    {
     "data": {
      "text/plain": [
       "{512: {'ts_clicked': 1.0, 'ts_not_clicked': 3.0},\n",
       " 515: {'ts_clicked': 1.0, 'ts_not_clicked': 3.0},\n",
       " 519: {'ts_clicked': 4.925, 'ts_not_clicked': 3.0},\n",
       " 392: {'ts_clicked': 1.0, 'ts_not_clicked': 3.0},\n",
       " 526: {'ts_clicked': 1.0, 'ts_not_clicked': 3.0},\n",
       " 528: {'ts_clicked': 1.0, 'ts_not_clicked': 3.0},\n",
       " 530: {'ts_clicked': 1.0, 'ts_not_clicked': 3.0},\n",
       " 531: {'ts_clicked': 1.0, 'ts_not_clicked': 3.0},\n",
       " 537: {'ts_clicked': 1.645, 'ts_not_clicked': 3.0},\n",
       " 540: {'ts_clicked': 1.0, 'ts_not_clicked': 3.0},\n",
       " 289: {'ts_clicked': 1.0, 'ts_not_clicked': 3.0},\n",
       " 421: {'ts_clicked': 1.0, 'ts_not_clicked': 3.0},\n",
       " 293: {'ts_clicked': 1.0, 'ts_not_clicked': 3.0},\n",
       " 297: {'ts_clicked': 1.0, 'ts_not_clicked': 3.0},\n",
       " 312: {'ts_clicked': 1.0, 'ts_not_clicked': 3.0},\n",
       " 472: {'ts_clicked': 1.0, 'ts_not_clicked': 3.0},\n",
       " 484: {'ts_clicked': 2.025, 'ts_not_clicked': 3.0},\n",
       " 488: {'ts_clicked': 1.0, 'ts_not_clicked': 3.0},\n",
       " 493: {'ts_clicked': 1.0, 'ts_not_clicked': 3.0},\n",
       " 503: {'ts_clicked': 1.0, 'ts_not_clicked': 3.0},\n",
       " 379: {'ts_clicked': 1.0, 'ts_not_clicked': 3.0},\n",
       " 511: {'ts_clicked': 1.0, 'ts_not_clicked': 3.0}}"
      ]
     },
     "execution_count": 7,
     "metadata": {},
     "output_type": "execute_result"
    }
   ],
   "source": [
    "cpd._data"
   ]
  },
  {
   "cell_type": "code",
   "execution_count": 6,
   "id": "e9b66c66-ba30-4a5d-bc46-41b3db0d03bc",
   "metadata": {},
   "outputs": [],
   "source": [
    "from src.feed._utils import get_time_decay_article_priors_for_all_interacted_articles"
   ]
  },
  {
   "cell_type": "code",
   "execution_count": 7,
   "id": "3f367f3f-687a-444b-b41c-0f4cbbd82733",
   "metadata": {
    "tags": []
   },
   "outputs": [],
   "source": [
    "df = get_time_decay_article_priors_for_all_interacted_articles()"
   ]
  },
  {
   "cell_type": "code",
   "execution_count": 8,
   "id": "d53e85fe-d2cb-4a5a-9048-df4e833034ae",
   "metadata": {
    "tags": []
   },
   "outputs": [
    {
     "data": {
      "text/html": [
       "<div>\n",
       "<style scoped>\n",
       "    .dataframe tbody tr th:only-of-type {\n",
       "        vertical-align: middle;\n",
       "    }\n",
       "\n",
       "    .dataframe tbody tr th {\n",
       "        vertical-align: top;\n",
       "    }\n",
       "\n",
       "    .dataframe thead th {\n",
       "        text-align: right;\n",
       "    }\n",
       "</style>\n",
       "<table border=\"1\" class=\"dataframe\">\n",
       "  <thead>\n",
       "    <tr style=\"text-align: right;\">\n",
       "      <th></th>\n",
       "      <th>article_id</th>\n",
       "      <th>a_all</th>\n",
       "      <th>b_all</th>\n",
       "      <th>ah</th>\n",
       "      <th>bh</th>\n",
       "    </tr>\n",
       "  </thead>\n",
       "  <tbody>\n",
       "    <tr>\n",
       "      <th>0</th>\n",
       "      <td>6512cde8395f46458f8bb717</td>\n",
       "      <td>1</td>\n",
       "      <td>2</td>\n",
       "      <td>0.004722</td>\n",
       "      <td>0.004740</td>\n",
       "    </tr>\n",
       "    <tr>\n",
       "      <th>1</th>\n",
       "      <td>6512cde9395f46458f8bb718</td>\n",
       "      <td>2</td>\n",
       "      <td>2</td>\n",
       "      <td>0.000999</td>\n",
       "      <td>0.000999</td>\n",
       "    </tr>\n",
       "    <tr>\n",
       "      <th>2</th>\n",
       "      <td>6512cdef395f46458f8bb71b</td>\n",
       "      <td>2</td>\n",
       "      <td>3</td>\n",
       "      <td>0.017434</td>\n",
       "      <td>0.020456</td>\n",
       "    </tr>\n",
       "    <tr>\n",
       "      <th>3</th>\n",
       "      <td>6512cdf0395f46458f8bb71d</td>\n",
       "      <td>2</td>\n",
       "      <td>4</td>\n",
       "      <td>0.000087</td>\n",
       "      <td>0.004894</td>\n",
       "    </tr>\n",
       "    <tr>\n",
       "      <th>4</th>\n",
       "      <td>6512cdf2395f46458f8bb71f</td>\n",
       "      <td>5</td>\n",
       "      <td>7</td>\n",
       "      <td>0.102971</td>\n",
       "      <td>0.138415</td>\n",
       "    </tr>\n",
       "    <tr>\n",
       "      <th>...</th>\n",
       "      <td>...</td>\n",
       "      <td>...</td>\n",
       "      <td>...</td>\n",
       "      <td>...</td>\n",
       "      <td>...</td>\n",
       "    </tr>\n",
       "    <tr>\n",
       "      <th>8230</th>\n",
       "      <td>6513aa31395f46458f8c0281</td>\n",
       "      <td>1</td>\n",
       "      <td>4</td>\n",
       "      <td>0.000005</td>\n",
       "      <td>0.002808</td>\n",
       "    </tr>\n",
       "    <tr>\n",
       "      <th>8231</th>\n",
       "      <td>6513aa35395f46458f8c0282</td>\n",
       "      <td>0</td>\n",
       "      <td>2</td>\n",
       "      <td>0.000000</td>\n",
       "      <td>0.000012</td>\n",
       "    </tr>\n",
       "    <tr>\n",
       "      <th>8232</th>\n",
       "      <td>6513aa3a395f46458f8c0283</td>\n",
       "      <td>3</td>\n",
       "      <td>3</td>\n",
       "      <td>0.011544</td>\n",
       "      <td>0.011544</td>\n",
       "    </tr>\n",
       "    <tr>\n",
       "      <th>8233</th>\n",
       "      <td>6513aa3c395f46458f8c0284</td>\n",
       "      <td>5</td>\n",
       "      <td>8</td>\n",
       "      <td>0.159355</td>\n",
       "      <td>0.177657</td>\n",
       "    </tr>\n",
       "    <tr>\n",
       "      <th>8234</th>\n",
       "      <td>6513aa3d395f46458f8c0285</td>\n",
       "      <td>2</td>\n",
       "      <td>2</td>\n",
       "      <td>0.000002</td>\n",
       "      <td>0.000002</td>\n",
       "    </tr>\n",
       "  </tbody>\n",
       "</table>\n",
       "<p>8235 rows × 5 columns</p>\n",
       "</div>"
      ],
      "text/plain": [
       "                    article_id  a_all  b_all        ah        bh\n",
       "0     6512cde8395f46458f8bb717      1      2  0.004722  0.004740\n",
       "1     6512cde9395f46458f8bb718      2      2  0.000999  0.000999\n",
       "2     6512cdef395f46458f8bb71b      2      3  0.017434  0.020456\n",
       "3     6512cdf0395f46458f8bb71d      2      4  0.000087  0.004894\n",
       "4     6512cdf2395f46458f8bb71f      5      7  0.102971  0.138415\n",
       "...                        ...    ...    ...       ...       ...\n",
       "8230  6513aa31395f46458f8c0281      1      4  0.000005  0.002808\n",
       "8231  6513aa35395f46458f8c0282      0      2  0.000000  0.000012\n",
       "8232  6513aa3a395f46458f8c0283      3      3  0.011544  0.011544\n",
       "8233  6513aa3c395f46458f8c0284      5      8  0.159355  0.177657\n",
       "8234  6513aa3d395f46458f8c0285      2      2  0.000002  0.000002\n",
       "\n",
       "[8235 rows x 5 columns]"
      ]
     },
     "execution_count": 8,
     "metadata": {},
     "output_type": "execute_result"
    }
   ],
   "source": [
    "df"
   ]
  },
  {
   "cell_type": "code",
   "execution_count": 9,
   "id": "819c5d1a-5b8a-4674-91fb-99d4ae81dec3",
   "metadata": {
    "tags": []
   },
   "outputs": [],
   "source": [
    "from sql.feed.ArticleSelectionSQL import ArticleSelectionSQL"
   ]
  },
  {
   "cell_type": "code",
   "execution_count": 13,
   "id": "cc9595e6-babc-4ade-8b7c-ad8f63af5104",
   "metadata": {
    "tags": []
   },
   "outputs": [],
   "source": [
    "import pandas as pd"
   ]
  },
  {
   "cell_type": "code",
   "execution_count": 10,
   "id": "1708391b-ab9a-4d02-a389-471c866aad06",
   "metadata": {
    "tags": []
   },
   "outputs": [],
   "source": [
    "cdf = ArticleSelectionSQL.get_candidate_articles()"
   ]
  },
  {
   "cell_type": "code",
   "execution_count": 15,
   "id": "3708b695-4e05-4ff8-8982-a4e3ad59addc",
   "metadata": {
    "tags": []
   },
   "outputs": [],
   "source": [
    "cdf['a'] = 1\n",
    "cdf['b'] = 8"
   ]
  },
  {
   "cell_type": "code",
   "execution_count": 20,
   "id": "9f9571e4-7df5-486b-821c-c1154e0d2a15",
   "metadata": {
    "tags": []
   },
   "outputs": [],
   "source": [
    "df1 = pd.DataFrame()"
   ]
  },
  {
   "cell_type": "code",
   "execution_count": 21,
   "id": "a7c6571d-78fb-4c66-a607-ce8a0fabb8b8",
   "metadata": {
    "tags": []
   },
   "outputs": [
    {
     "ename": "KeyError",
     "evalue": "'article_id'",
     "output_type": "error",
     "traceback": [
      "\u001b[0;31m---------------------------------------------------------------------------\u001b[0m",
      "\u001b[0;31mKeyError\u001b[0m                                  Traceback (most recent call last)",
      "\u001b[0;32m/var/folders/d4/cgyr_gnj7nn2wy_hq40gkq8c0000gq/T/ipykernel_41620/3750492869.py\u001b[0m in \u001b[0;36m?\u001b[0;34m()\u001b[0m\n\u001b[0;32m----> 1\u001b[0;31m \u001b[0mcdf\u001b[0m \u001b[0;34m=\u001b[0m \u001b[0mpd\u001b[0m\u001b[0;34m.\u001b[0m\u001b[0mmerge\u001b[0m\u001b[0;34m(\u001b[0m\u001b[0mcdf\u001b[0m\u001b[0;34m,\u001b[0m \u001b[0mdf1\u001b[0m\u001b[0;34m,\u001b[0m \u001b[0mhow\u001b[0m \u001b[0;34m=\u001b[0m \u001b[0;34m'left'\u001b[0m\u001b[0;34m,\u001b[0m \u001b[0mon\u001b[0m \u001b[0;34m=\u001b[0m \u001b[0;34m'article_id'\u001b[0m\u001b[0;34m)\u001b[0m\u001b[0;34m\u001b[0m\u001b[0;34m\u001b[0m\u001b[0m\n\u001b[0m",
      "\u001b[0;32m~/anaconda3/envs/recoenv/lib/python3.11/site-packages/pandas/core/reshape/merge.py\u001b[0m in \u001b[0;36m?\u001b[0;34m(left, right, how, on, left_on, right_on, left_index, right_index, sort, suffixes, copy, indicator, validate)\u001b[0m\n\u001b[1;32m    144\u001b[0m     \u001b[0mcopy\u001b[0m\u001b[0;34m:\u001b[0m \u001b[0mbool\u001b[0m \u001b[0;34m|\u001b[0m \u001b[0;32mNone\u001b[0m \u001b[0;34m=\u001b[0m \u001b[0;32mNone\u001b[0m\u001b[0;34m,\u001b[0m\u001b[0;34m\u001b[0m\u001b[0;34m\u001b[0m\u001b[0m\n\u001b[1;32m    145\u001b[0m     \u001b[0mindicator\u001b[0m\u001b[0;34m:\u001b[0m \u001b[0mstr\u001b[0m \u001b[0;34m|\u001b[0m \u001b[0mbool\u001b[0m \u001b[0;34m=\u001b[0m \u001b[0;32mFalse\u001b[0m\u001b[0;34m,\u001b[0m\u001b[0;34m\u001b[0m\u001b[0;34m\u001b[0m\u001b[0m\n\u001b[1;32m    146\u001b[0m     \u001b[0mvalidate\u001b[0m\u001b[0;34m:\u001b[0m \u001b[0mstr\u001b[0m \u001b[0;34m|\u001b[0m \u001b[0;32mNone\u001b[0m \u001b[0;34m=\u001b[0m \u001b[0;32mNone\u001b[0m\u001b[0;34m,\u001b[0m\u001b[0;34m\u001b[0m\u001b[0;34m\u001b[0m\u001b[0m\n\u001b[1;32m    147\u001b[0m ) -> DataFrame:\n\u001b[0;32m--> 148\u001b[0;31m     op = _MergeOperation(\n\u001b[0m\u001b[1;32m    149\u001b[0m         \u001b[0mleft\u001b[0m\u001b[0;34m,\u001b[0m\u001b[0;34m\u001b[0m\u001b[0;34m\u001b[0m\u001b[0m\n\u001b[1;32m    150\u001b[0m         \u001b[0mright\u001b[0m\u001b[0;34m,\u001b[0m\u001b[0;34m\u001b[0m\u001b[0;34m\u001b[0m\u001b[0m\n\u001b[1;32m    151\u001b[0m         \u001b[0mhow\u001b[0m\u001b[0;34m=\u001b[0m\u001b[0mhow\u001b[0m\u001b[0;34m,\u001b[0m\u001b[0;34m\u001b[0m\u001b[0;34m\u001b[0m\u001b[0m\n",
      "\u001b[0;32m~/anaconda3/envs/recoenv/lib/python3.11/site-packages/pandas/core/reshape/merge.py\u001b[0m in \u001b[0;36m?\u001b[0;34m(self, left, right, how, on, left_on, right_on, axis, left_index, right_index, sort, suffixes, indicator, validate)\u001b[0m\n\u001b[1;32m    733\u001b[0m         (\n\u001b[1;32m    734\u001b[0m             \u001b[0mself\u001b[0m\u001b[0;34m.\u001b[0m\u001b[0mleft_join_keys\u001b[0m\u001b[0;34m,\u001b[0m\u001b[0;34m\u001b[0m\u001b[0;34m\u001b[0m\u001b[0m\n\u001b[1;32m    735\u001b[0m             \u001b[0mself\u001b[0m\u001b[0;34m.\u001b[0m\u001b[0mright_join_keys\u001b[0m\u001b[0;34m,\u001b[0m\u001b[0;34m\u001b[0m\u001b[0;34m\u001b[0m\u001b[0m\n\u001b[1;32m    736\u001b[0m             \u001b[0mself\u001b[0m\u001b[0;34m.\u001b[0m\u001b[0mjoin_names\u001b[0m\u001b[0;34m,\u001b[0m\u001b[0;34m\u001b[0m\u001b[0;34m\u001b[0m\u001b[0m\n\u001b[0;32m--> 737\u001b[0;31m         ) = self._get_merge_keys()\n\u001b[0m\u001b[1;32m    738\u001b[0m \u001b[0;34m\u001b[0m\u001b[0m\n\u001b[1;32m    739\u001b[0m         \u001b[0;31m# validate the merge keys dtypes. We may need to coerce\u001b[0m\u001b[0;34m\u001b[0m\u001b[0;34m\u001b[0m\u001b[0m\n\u001b[1;32m    740\u001b[0m         \u001b[0;31m# to avoid incompatible dtypes\u001b[0m\u001b[0;34m\u001b[0m\u001b[0;34m\u001b[0m\u001b[0m\n",
      "\u001b[0;32m~/anaconda3/envs/recoenv/lib/python3.11/site-packages/pandas/core/reshape/merge.py\u001b[0m in \u001b[0;36m?\u001b[0;34m(self)\u001b[0m\n\u001b[1;32m   1199\u001b[0m                         \u001b[0;31m# Then we're either Hashable or a wrong-length arraylike,\u001b[0m\u001b[0;34m\u001b[0m\u001b[0;34m\u001b[0m\u001b[0m\n\u001b[1;32m   1200\u001b[0m                         \u001b[0;31m#  the latter of which will raise\u001b[0m\u001b[0;34m\u001b[0m\u001b[0;34m\u001b[0m\u001b[0m\n\u001b[1;32m   1201\u001b[0m                         \u001b[0mrk\u001b[0m \u001b[0;34m=\u001b[0m \u001b[0mcast\u001b[0m\u001b[0;34m(\u001b[0m\u001b[0mHashable\u001b[0m\u001b[0;34m,\u001b[0m \u001b[0mrk\u001b[0m\u001b[0;34m)\u001b[0m\u001b[0;34m\u001b[0m\u001b[0;34m\u001b[0m\u001b[0m\n\u001b[1;32m   1202\u001b[0m                         \u001b[0;32mif\u001b[0m \u001b[0mrk\u001b[0m \u001b[0;32mis\u001b[0m \u001b[0;32mnot\u001b[0m \u001b[0;32mNone\u001b[0m\u001b[0;34m:\u001b[0m\u001b[0;34m\u001b[0m\u001b[0;34m\u001b[0m\u001b[0m\n\u001b[0;32m-> 1203\u001b[0;31m                             \u001b[0mright_keys\u001b[0m\u001b[0;34m.\u001b[0m\u001b[0mappend\u001b[0m\u001b[0;34m(\u001b[0m\u001b[0mright\u001b[0m\u001b[0;34m.\u001b[0m\u001b[0m_get_label_or_level_values\u001b[0m\u001b[0;34m(\u001b[0m\u001b[0mrk\u001b[0m\u001b[0;34m)\u001b[0m\u001b[0;34m)\u001b[0m\u001b[0;34m\u001b[0m\u001b[0;34m\u001b[0m\u001b[0m\n\u001b[0m\u001b[1;32m   1204\u001b[0m                         \u001b[0;32melse\u001b[0m\u001b[0;34m:\u001b[0m\u001b[0;34m\u001b[0m\u001b[0;34m\u001b[0m\u001b[0m\n\u001b[1;32m   1205\u001b[0m                             \u001b[0;31m# work-around for merge_asof(right_index=True)\u001b[0m\u001b[0;34m\u001b[0m\u001b[0;34m\u001b[0m\u001b[0m\n\u001b[1;32m   1206\u001b[0m                             \u001b[0mright_keys\u001b[0m\u001b[0;34m.\u001b[0m\u001b[0mappend\u001b[0m\u001b[0;34m(\u001b[0m\u001b[0mright\u001b[0m\u001b[0;34m.\u001b[0m\u001b[0mindex\u001b[0m\u001b[0;34m)\u001b[0m\u001b[0;34m\u001b[0m\u001b[0;34m\u001b[0m\u001b[0m\n",
      "\u001b[0;32m~/anaconda3/envs/recoenv/lib/python3.11/site-packages/pandas/core/generic.py\u001b[0m in \u001b[0;36m?\u001b[0;34m(self, key, axis)\u001b[0m\n\u001b[1;32m   1774\u001b[0m             \u001b[0mvalues\u001b[0m \u001b[0;34m=\u001b[0m \u001b[0mself\u001b[0m\u001b[0;34m.\u001b[0m\u001b[0mxs\u001b[0m\u001b[0;34m(\u001b[0m\u001b[0mkey\u001b[0m\u001b[0;34m,\u001b[0m \u001b[0maxis\u001b[0m\u001b[0;34m=\u001b[0m\u001b[0mother_axes\u001b[0m\u001b[0;34m[\u001b[0m\u001b[0;36m0\u001b[0m\u001b[0;34m]\u001b[0m\u001b[0;34m)\u001b[0m\u001b[0;34m.\u001b[0m\u001b[0m_values\u001b[0m\u001b[0;34m\u001b[0m\u001b[0;34m\u001b[0m\u001b[0m\n\u001b[1;32m   1775\u001b[0m         \u001b[0;32melif\u001b[0m \u001b[0mself\u001b[0m\u001b[0;34m.\u001b[0m\u001b[0m_is_level_reference\u001b[0m\u001b[0;34m(\u001b[0m\u001b[0mkey\u001b[0m\u001b[0;34m,\u001b[0m \u001b[0maxis\u001b[0m\u001b[0;34m=\u001b[0m\u001b[0maxis\u001b[0m\u001b[0;34m)\u001b[0m\u001b[0;34m:\u001b[0m\u001b[0;34m\u001b[0m\u001b[0;34m\u001b[0m\u001b[0m\n\u001b[1;32m   1776\u001b[0m             \u001b[0mvalues\u001b[0m \u001b[0;34m=\u001b[0m \u001b[0mself\u001b[0m\u001b[0;34m.\u001b[0m\u001b[0maxes\u001b[0m\u001b[0;34m[\u001b[0m\u001b[0maxis\u001b[0m\u001b[0;34m]\u001b[0m\u001b[0;34m.\u001b[0m\u001b[0mget_level_values\u001b[0m\u001b[0;34m(\u001b[0m\u001b[0mkey\u001b[0m\u001b[0;34m)\u001b[0m\u001b[0;34m.\u001b[0m\u001b[0m_values\u001b[0m\u001b[0;34m\u001b[0m\u001b[0;34m\u001b[0m\u001b[0m\n\u001b[1;32m   1777\u001b[0m         \u001b[0;32melse\u001b[0m\u001b[0;34m:\u001b[0m\u001b[0;34m\u001b[0m\u001b[0;34m\u001b[0m\u001b[0m\n\u001b[0;32m-> 1778\u001b[0;31m             \u001b[0;32mraise\u001b[0m \u001b[0mKeyError\u001b[0m\u001b[0;34m(\u001b[0m\u001b[0mkey\u001b[0m\u001b[0;34m)\u001b[0m\u001b[0;34m\u001b[0m\u001b[0;34m\u001b[0m\u001b[0m\n\u001b[0m\u001b[1;32m   1779\u001b[0m \u001b[0;34m\u001b[0m\u001b[0m\n\u001b[1;32m   1780\u001b[0m         \u001b[0;31m# Check for duplicates\u001b[0m\u001b[0;34m\u001b[0m\u001b[0;34m\u001b[0m\u001b[0m\n\u001b[1;32m   1781\u001b[0m         \u001b[0;32mif\u001b[0m \u001b[0mvalues\u001b[0m\u001b[0;34m.\u001b[0m\u001b[0mndim\u001b[0m \u001b[0;34m>\u001b[0m \u001b[0;36m1\u001b[0m\u001b[0;34m:\u001b[0m\u001b[0;34m\u001b[0m\u001b[0;34m\u001b[0m\u001b[0m\n",
      "\u001b[0;31mKeyError\u001b[0m: 'article_id'"
     ]
    }
   ],
   "source": [
    "cdf = pd.merge(cdf, df1, how = 'left', on = 'article_id')"
   ]
  },
  {
   "cell_type": "code",
   "execution_count": 18,
   "id": "bbc3d8ea-3eeb-4e3a-8bd9-fe6813fc999c",
   "metadata": {
    "tags": []
   },
   "outputs": [],
   "source": [
    "cdf['a'] = cdf['a'] + cdf['ah']"
   ]
  },
  {
   "cell_type": "code",
   "execution_count": 19,
   "id": "e051a99e-c6b9-4a4a-8b1b-8f94e5b9f450",
   "metadata": {
    "tags": []
   },
   "outputs": [
    {
     "data": {
      "text/html": [
       "<div>\n",
       "<style scoped>\n",
       "    .dataframe tbody tr th:only-of-type {\n",
       "        vertical-align: middle;\n",
       "    }\n",
       "\n",
       "    .dataframe tbody tr th {\n",
       "        vertical-align: top;\n",
       "    }\n",
       "\n",
       "    .dataframe thead th {\n",
       "        text-align: right;\n",
       "    }\n",
       "</style>\n",
       "<table border=\"1\" class=\"dataframe\">\n",
       "  <thead>\n",
       "    <tr style=\"text-align: right;\">\n",
       "      <th></th>\n",
       "      <th>article_id</th>\n",
       "      <th>cluster_id</th>\n",
       "      <th>a</th>\n",
       "      <th>b</th>\n",
       "      <th>a_all</th>\n",
       "      <th>b_all</th>\n",
       "      <th>ah</th>\n",
       "      <th>bh</th>\n",
       "    </tr>\n",
       "  </thead>\n",
       "  <tbody>\n",
       "    <tr>\n",
       "      <th>0</th>\n",
       "      <td>651e1e70a662d76276b89434</td>\n",
       "      <td>201</td>\n",
       "      <td>NaN</td>\n",
       "      <td>8</td>\n",
       "      <td>NaN</td>\n",
       "      <td>NaN</td>\n",
       "      <td>NaN</td>\n",
       "      <td>NaN</td>\n",
       "    </tr>\n",
       "    <tr>\n",
       "      <th>1</th>\n",
       "      <td>651ddbd5a662d76276b7eff5</td>\n",
       "      <td>191</td>\n",
       "      <td>NaN</td>\n",
       "      <td>8</td>\n",
       "      <td>NaN</td>\n",
       "      <td>NaN</td>\n",
       "      <td>NaN</td>\n",
       "      <td>NaN</td>\n",
       "    </tr>\n",
       "    <tr>\n",
       "      <th>2</th>\n",
       "      <td>651e0c7ba662d76276b86a27</td>\n",
       "      <td>191</td>\n",
       "      <td>NaN</td>\n",
       "      <td>8</td>\n",
       "      <td>NaN</td>\n",
       "      <td>NaN</td>\n",
       "      <td>NaN</td>\n",
       "      <td>NaN</td>\n",
       "    </tr>\n",
       "    <tr>\n",
       "      <th>3</th>\n",
       "      <td>651de906a662d76276b81302</td>\n",
       "      <td>203</td>\n",
       "      <td>NaN</td>\n",
       "      <td>8</td>\n",
       "      <td>NaN</td>\n",
       "      <td>NaN</td>\n",
       "      <td>NaN</td>\n",
       "      <td>NaN</td>\n",
       "    </tr>\n",
       "    <tr>\n",
       "      <th>4</th>\n",
       "      <td>651e0751a662d76276b85e52</td>\n",
       "      <td>201</td>\n",
       "      <td>NaN</td>\n",
       "      <td>8</td>\n",
       "      <td>NaN</td>\n",
       "      <td>NaN</td>\n",
       "      <td>NaN</td>\n",
       "      <td>NaN</td>\n",
       "    </tr>\n",
       "    <tr>\n",
       "      <th>...</th>\n",
       "      <td>...</td>\n",
       "      <td>...</td>\n",
       "      <td>...</td>\n",
       "      <td>...</td>\n",
       "      <td>...</td>\n",
       "      <td>...</td>\n",
       "      <td>...</td>\n",
       "      <td>...</td>\n",
       "    </tr>\n",
       "    <tr>\n",
       "      <th>22821</th>\n",
       "      <td>651df9aba662d76276b83c50</td>\n",
       "      <td>185</td>\n",
       "      <td>NaN</td>\n",
       "      <td>8</td>\n",
       "      <td>NaN</td>\n",
       "      <td>NaN</td>\n",
       "      <td>NaN</td>\n",
       "      <td>NaN</td>\n",
       "    </tr>\n",
       "    <tr>\n",
       "      <th>22822</th>\n",
       "      <td>651df3eaa662d76276b82f88</td>\n",
       "      <td>201</td>\n",
       "      <td>NaN</td>\n",
       "      <td>8</td>\n",
       "      <td>NaN</td>\n",
       "      <td>NaN</td>\n",
       "      <td>NaN</td>\n",
       "      <td>NaN</td>\n",
       "    </tr>\n",
       "    <tr>\n",
       "      <th>22823</th>\n",
       "      <td>651dd2fda662d76276b7d9a3</td>\n",
       "      <td>205</td>\n",
       "      <td>NaN</td>\n",
       "      <td>8</td>\n",
       "      <td>NaN</td>\n",
       "      <td>NaN</td>\n",
       "      <td>NaN</td>\n",
       "      <td>NaN</td>\n",
       "    </tr>\n",
       "    <tr>\n",
       "      <th>22824</th>\n",
       "      <td>651e03c8a662d76276b855a7</td>\n",
       "      <td>201</td>\n",
       "      <td>NaN</td>\n",
       "      <td>8</td>\n",
       "      <td>NaN</td>\n",
       "      <td>NaN</td>\n",
       "      <td>NaN</td>\n",
       "      <td>NaN</td>\n",
       "    </tr>\n",
       "    <tr>\n",
       "      <th>22825</th>\n",
       "      <td>651e0444a662d76276b856df</td>\n",
       "      <td>188</td>\n",
       "      <td>NaN</td>\n",
       "      <td>8</td>\n",
       "      <td>NaN</td>\n",
       "      <td>NaN</td>\n",
       "      <td>NaN</td>\n",
       "      <td>NaN</td>\n",
       "    </tr>\n",
       "  </tbody>\n",
       "</table>\n",
       "<p>22826 rows × 8 columns</p>\n",
       "</div>"
      ],
      "text/plain": [
       "                     article_id  cluster_id   a  b  a_all  b_all  ah  bh\n",
       "0      651e1e70a662d76276b89434         201 NaN  8    NaN    NaN NaN NaN\n",
       "1      651ddbd5a662d76276b7eff5         191 NaN  8    NaN    NaN NaN NaN\n",
       "2      651e0c7ba662d76276b86a27         191 NaN  8    NaN    NaN NaN NaN\n",
       "3      651de906a662d76276b81302         203 NaN  8    NaN    NaN NaN NaN\n",
       "4      651e0751a662d76276b85e52         201 NaN  8    NaN    NaN NaN NaN\n",
       "...                         ...         ...  .. ..    ...    ...  ..  ..\n",
       "22821  651df9aba662d76276b83c50         185 NaN  8    NaN    NaN NaN NaN\n",
       "22822  651df3eaa662d76276b82f88         201 NaN  8    NaN    NaN NaN NaN\n",
       "22823  651dd2fda662d76276b7d9a3         205 NaN  8    NaN    NaN NaN NaN\n",
       "22824  651e03c8a662d76276b855a7         201 NaN  8    NaN    NaN NaN NaN\n",
       "22825  651e0444a662d76276b856df         188 NaN  8    NaN    NaN NaN NaN\n",
       "\n",
       "[22826 rows x 8 columns]"
      ]
     },
     "execution_count": 19,
     "metadata": {},
     "output_type": "execute_result"
    }
   ],
   "source": [
    "cdf"
   ]
  },
  {
   "cell_type": "code",
   "execution_count": null,
   "id": "cdc88662-c79a-47fb-a288-f2267d81790a",
   "metadata": {},
   "outputs": [],
   "source": []
  }
 ],
 "metadata": {
  "kernelspec": {
   "display_name": "recoenv",
   "language": "python",
   "name": "recoenv"
  },
  "language_info": {
   "codemirror_mode": {
    "name": "ipython",
    "version": 3
   },
   "file_extension": ".py",
   "mimetype": "text/x-python",
   "name": "python",
   "nbconvert_exporter": "python",
   "pygments_lexer": "ipython3",
   "version": "3.11.5"
  }
 },
 "nbformat": 4,
 "nbformat_minor": 5
}
