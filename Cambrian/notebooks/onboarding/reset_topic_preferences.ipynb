{
 "cells": [
  {
   "cell_type": "code",
   "execution_count": 1,
   "id": "3a13be9f-9fa9-46b5-8c66-e88f66169d32",
   "metadata": {
    "tags": []
   },
   "outputs": [
    {
     "name": "stderr",
     "output_type": "stream",
     "text": [
      "/var/folders/d4/cgyr_gnj7nn2wy_hq40gkq8c0000gq/T/ipykernel_35915/4032682437.py:4: UserWarning: \n",
      "The version_base parameter is not specified.\n",
      "Please specify a compatability version level, or None.\n",
      "Will assume defaults for version 1.1\n",
      "  with initialize(config_path=\"../../conf\"):\n"
     ]
    }
   ],
   "source": [
    "parent_folder = '/Users/ravi.tej/Desktop/ML/Recommendations/cambrian/'\n",
    "data_folder = parent_folder + 'data/'\n",
    "from hydra import compose, initialize\n",
    "with initialize(config_path=\"../../conf\"):\n",
    "    # Compose the configuration\n",
    "    cfg = compose(config_name=\"TopicClusterMapping.yaml\")\n",
    "\n",
    "import os\n",
    "\n",
    "import xml.etree.ElementTree as ET\n",
    "\n",
    "tree = ET.parse('../../conf/application.run.xml')\n",
    "root = tree.getroot()\n",
    "\n",
    "envs_element = root.find('./configuration/envs')\n",
    "for variable in envs_element.findall('env'):\n",
    "    name = variable.get('name')\n",
    "    value = variable.get('value')\n",
    "    os.environ[name] = value"
   ]
  },
  {
   "cell_type": "code",
   "execution_count": 2,
   "id": "471faacc-9eed-4845-8a7d-b16ea5540ecf",
   "metadata": {
    "tags": []
   },
   "outputs": [
    {
     "name": "stderr",
     "output_type": "stream",
     "text": [
      "/Users/ravi.tej/anaconda3/envs/recoenv/lib/python3.11/site-packages/umap/distances.py:1063: NumbaDeprecationWarning: The 'nopython' keyword argument was not supplied to the 'numba.jit' decorator. The implicit default value for this argument is currently False, but it will be changed to True in Numba 0.59.0. See https://numba.readthedocs.io/en/stable/reference/deprecation.html#deprecation-of-object-mode-fall-back-behaviour-when-using-jit for details.\n",
      "  @numba.jit()\n",
      "/Users/ravi.tej/anaconda3/envs/recoenv/lib/python3.11/site-packages/umap/distances.py:1071: NumbaDeprecationWarning: The 'nopython' keyword argument was not supplied to the 'numba.jit' decorator. The implicit default value for this argument is currently False, but it will be changed to True in Numba 0.59.0. See https://numba.readthedocs.io/en/stable/reference/deprecation.html#deprecation-of-object-mode-fall-back-behaviour-when-using-jit for details.\n",
      "  @numba.jit()\n",
      "/Users/ravi.tej/anaconda3/envs/recoenv/lib/python3.11/site-packages/umap/distances.py:1086: NumbaDeprecationWarning: The 'nopython' keyword argument was not supplied to the 'numba.jit' decorator. The implicit default value for this argument is currently False, but it will be changed to True in Numba 0.59.0. See https://numba.readthedocs.io/en/stable/reference/deprecation.html#deprecation-of-object-mode-fall-back-behaviour-when-using-jit for details.\n",
      "  @numba.jit()\n",
      "/Users/ravi.tej/anaconda3/envs/recoenv/lib/python3.11/site-packages/umap/umap_.py:660: NumbaDeprecationWarning: The 'nopython' keyword argument was not supplied to the 'numba.jit' decorator. The implicit default value for this argument is currently False, but it will be changed to True in Numba 0.59.0. See https://numba.readthedocs.io/en/stable/reference/deprecation.html#deprecation-of-object-mode-fall-back-behaviour-when-using-jit for details.\n",
      "  @numba.jit()\n"
     ]
    }
   ],
   "source": [
    "import requests\n",
    "\n",
    "import sys\n",
    "sys.path.append('/Users/ravi.tej/Desktop/ML/Recommendations/cambrian/')\n",
    "from src.onboarding.TopicClusterMapping import TopicClusterMapping"
   ]
  },
  {
   "cell_type": "code",
   "execution_count": 3,
   "id": "02a8b648-817b-4f5b-a3b3-724b35ccf4ab",
   "metadata": {
    "tags": []
   },
   "outputs": [],
   "source": [
    "import json"
   ]
  },
  {
   "cell_type": "code",
   "execution_count": 4,
   "id": "c578dac4-7bc5-4dc7-9867-0da5be75a67b",
   "metadata": {
    "tags": []
   },
   "outputs": [],
   "source": [
    "# topic_url = 'http://insight-user-app-beta-env.eba-rnrpvmin.ap-south-1.elasticbeanstalk.com/articles/topics'\n",
    "\n",
    "# r = requests.get(topic_url)\n",
    "\n",
    "# all_topics = json.loads(r.text)"
   ]
  },
  {
   "cell_type": "code",
   "execution_count": 5,
   "id": "85b925a5-03aa-41ac-ad9f-74fad394cb13",
   "metadata": {
    "scrolled": true,
    "tags": []
   },
   "outputs": [],
   "source": [
    "# all_topics['topics']"
   ]
  },
  {
   "cell_type": "code",
   "execution_count": 4,
   "id": "0f1d4698-a37e-4629-bdfc-a3a92bea5ac2",
   "metadata": {
    "tags": []
   },
   "outputs": [
    {
     "data": {
      "application/vnd.jupyter.widget-view+json": {
       "model_id": "9f710bf1eba5418081b2606e5b2f6d4c",
       "version_major": 2,
       "version_minor": 0
      },
      "text/plain": [
       "Downloading (…)lve/main/topics.json:   0%|          | 0.00/123k [00:00<?, ?B/s]"
      ]
     },
     "metadata": {},
     "output_type": "display_data"
    },
    {
     "data": {
      "application/vnd.jupyter.widget-view+json": {
       "model_id": "8cb602fa6d7440d1a563a86f39535fb1",
       "version_major": 2,
       "version_minor": 0
      },
      "text/plain": [
       "Downloading (…)lve/main/config.json:   0%|          | 0.00/230 [00:00<?, ?B/s]"
      ]
     },
     "metadata": {},
     "output_type": "display_data"
    },
    {
     "data": {
      "application/vnd.jupyter.widget-view+json": {
       "model_id": "0a349c8530fa4542b77bdb230b57c96f",
       "version_major": 2,
       "version_minor": 0
      },
      "text/plain": [
       "Downloading (…)beddings.safetensors:   0%|          | 0.00/463k [00:00<?, ?B/s]"
      ]
     },
     "metadata": {},
     "output_type": "display_data"
    },
    {
     "data": {
      "application/vnd.jupyter.widget-view+json": {
       "model_id": "5ff7c50f55a647f387765e679085023b",
       "version_major": 2,
       "version_minor": 0
      },
      "text/plain": [
       "Downloading (…)n/ctfidf_config.json:   0%|          | 0.00/1.19M [00:00<?, ?B/s]"
      ]
     },
     "metadata": {},
     "output_type": "display_data"
    },
    {
     "data": {
      "application/vnd.jupyter.widget-view+json": {
       "model_id": "236089c22df8412fb5549ee9c3c41d67",
       "version_major": 2,
       "version_minor": 0
      },
      "text/plain": [
       "Downloading ctfidf.safetensors:   0%|          | 0.00/1.04M [00:00<?, ?B/s]"
      ]
     },
     "metadata": {},
     "output_type": "display_data"
    }
   ],
   "source": [
    "tc = TopicClusterMapping(cfg=cfg)"
   ]
  },
  {
   "cell_type": "code",
   "execution_count": 5,
   "id": "4da75fcc-acc0-4974-8dc6-2fe306b6be3c",
   "metadata": {
    "tags": []
   },
   "outputs": [
    {
     "data": {
      "text/plain": [
       "'ArmadilloUmbrellaOlive'"
      ]
     },
     "execution_count": 5,
     "metadata": {},
     "output_type": "execute_result"
    }
   ],
   "source": [
    "tc.clustering_run_id"
   ]
  },
  {
   "cell_type": "code",
   "execution_count": 6,
   "id": "53219124-a432-4e86-985a-8bb6050e09d5",
   "metadata": {
    "tags": []
   },
   "outputs": [],
   "source": [
    "tc.recompute_preferences_for_all_topics()"
   ]
  },
  {
   "cell_type": "code",
   "execution_count": null,
   "id": "b1336032-8dc8-4bc6-9083-77b5dd01d33f",
   "metadata": {},
   "outputs": [],
   "source": []
  }
 ],
 "metadata": {
  "kernelspec": {
   "display_name": "recoenv",
   "language": "python",
   "name": "recoenv"
  },
  "language_info": {
   "codemirror_mode": {
    "name": "ipython",
    "version": 3
   },
   "file_extension": ".py",
   "mimetype": "text/x-python",
   "name": "python",
   "nbconvert_exporter": "python",
   "pygments_lexer": "ipython3",
   "version": "3.11.5"
  }
 },
 "nbformat": 4,
 "nbformat_minor": 5
}
