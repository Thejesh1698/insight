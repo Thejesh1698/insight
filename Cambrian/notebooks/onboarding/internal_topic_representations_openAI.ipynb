{
 "cells": [
  {
   "cell_type": "code",
   "execution_count": 1,
   "id": "39ed49e6-6720-43a6-8896-2fa3fe885fb2",
   "metadata": {
    "tags": []
   },
   "outputs": [
    {
     "name": "stderr",
     "output_type": "stream",
     "text": [
      "/var/folders/d4/cgyr_gnj7nn2wy_hq40gkq8c0000gq/T/ipykernel_91784/4032682437.py:4: UserWarning: \n",
      "The version_base parameter is not specified.\n",
      "Please specify a compatability version level, or None.\n",
      "Will assume defaults for version 1.1\n",
      "  with initialize(config_path=\"../../conf\"):\n"
     ]
    }
   ],
   "source": [
    "parent_folder = '/Users/ravi.tej/Desktop/ML/Recommendations/cambrian/'\n",
    "data_folder = parent_folder + 'data/'\n",
    "from hydra import compose, initialize\n",
    "with initialize(config_path=\"../../conf\"):\n",
    "    # Compose the configuration\n",
    "    cfg = compose(config_name=\"TopicClusterMapping.yaml\")\n",
    "\n",
    "import os\n",
    "\n",
    "import xml.etree.ElementTree as ET\n",
    "\n",
    "tree = ET.parse('../../conf/application.run.xml')\n",
    "root = tree.getroot()\n",
    "\n",
    "envs_element = root.find('./configuration/envs')\n",
    "for variable in envs_element.findall('env'):\n",
    "    name = variable.get('name')\n",
    "    value = variable.get('value')\n",
    "    os.environ[name] = value"
   ]
  },
  {
   "cell_type": "code",
   "execution_count": 2,
   "id": "5021ee58-a9d9-4eb7-bb7f-cb42773e3c9c",
   "metadata": {
    "tags": []
   },
   "outputs": [
    {
     "name": "stderr",
     "output_type": "stream",
     "text": [
      "/Users/ravi.tej/anaconda3/envs/recoenv/lib/python3.11/site-packages/umap/distances.py:1063: NumbaDeprecationWarning: The 'nopython' keyword argument was not supplied to the 'numba.jit' decorator. The implicit default value for this argument is currently False, but it will be changed to True in Numba 0.59.0. See https://numba.readthedocs.io/en/stable/reference/deprecation.html#deprecation-of-object-mode-fall-back-behaviour-when-using-jit for details.\n",
      "  @numba.jit()\n",
      "/Users/ravi.tej/anaconda3/envs/recoenv/lib/python3.11/site-packages/umap/distances.py:1071: NumbaDeprecationWarning: The 'nopython' keyword argument was not supplied to the 'numba.jit' decorator. The implicit default value for this argument is currently False, but it will be changed to True in Numba 0.59.0. See https://numba.readthedocs.io/en/stable/reference/deprecation.html#deprecation-of-object-mode-fall-back-behaviour-when-using-jit for details.\n",
      "  @numba.jit()\n",
      "/Users/ravi.tej/anaconda3/envs/recoenv/lib/python3.11/site-packages/umap/distances.py:1086: NumbaDeprecationWarning: The 'nopython' keyword argument was not supplied to the 'numba.jit' decorator. The implicit default value for this argument is currently False, but it will be changed to True in Numba 0.59.0. See https://numba.readthedocs.io/en/stable/reference/deprecation.html#deprecation-of-object-mode-fall-back-behaviour-when-using-jit for details.\n",
      "  @numba.jit()\n",
      "/Users/ravi.tej/anaconda3/envs/recoenv/lib/python3.11/site-packages/umap/umap_.py:660: NumbaDeprecationWarning: The 'nopython' keyword argument was not supplied to the 'numba.jit' decorator. The implicit default value for this argument is currently False, but it will be changed to True in Numba 0.59.0. See https://numba.readthedocs.io/en/stable/reference/deprecation.html#deprecation-of-object-mode-fall-back-behaviour-when-using-jit for details.\n",
      "  @numba.jit()\n"
     ]
    }
   ],
   "source": [
    "import requests\n",
    "\n",
    "import sys\n",
    "sys.path.append('/Users/ravi.tej/Desktop/ML/Recommendations/cambrian/')\n",
    "from src.onboarding.TopicClusterMapping import TopicClusterMapping"
   ]
  },
  {
   "cell_type": "code",
   "execution_count": 3,
   "id": "d49b7fa3-eb29-46f6-b077-ac0ada745c8c",
   "metadata": {
    "tags": []
   },
   "outputs": [],
   "source": [
    "from sql.PostgresDatabaseOperation import PostgresDatabaseOperation"
   ]
  },
  {
   "cell_type": "code",
   "execution_count": 4,
   "id": "bc61d7d3-1e1a-4cc1-bc91-a0aaa71797d1",
   "metadata": {
    "tags": []
   },
   "outputs": [],
   "source": [
    "with PostgresDatabaseOperation() as cursor:\n",
    "    sql = 'select * from topic_cluster_preference_mapping'\n",
    "    cursor.execute(sql)\n",
    "    results = cursor.fetchall()"
   ]
  },
  {
   "cell_type": "code",
   "execution_count": 6,
   "id": "cbc44bc0-caab-44f9-985f-7f4534052cd9",
   "metadata": {
    "tags": []
   },
   "outputs": [],
   "source": [
    "import pandas as pd\n",
    "import numpy as np"
   ]
  },
  {
   "cell_type": "code",
   "execution_count": 7,
   "id": "c1f6c17c-2df6-46c1-802c-161c22df31a9",
   "metadata": {
    "tags": []
   },
   "outputs": [],
   "source": [
    "df = pd.DataFrame(results, columns = ['id','topic_id', 'topic_name', 'cluster_id', 'a', 'b', 'run_id', 'created_at'])"
   ]
  },
  {
   "cell_type": "code",
   "execution_count": 4,
   "id": "f1543192-e992-4f26-ba3e-178aaf7ee281",
   "metadata": {
    "tags": []
   },
   "outputs": [],
   "source": [
    "from src.onboarding.TopicClusterMapping import TopicClusterMapping"
   ]
  },
  {
   "cell_type": "code",
   "execution_count": 5,
   "id": "c11fbbb5-f73a-4ee5-b1ec-4aa28a24ac7f",
   "metadata": {
    "tags": []
   },
   "outputs": [],
   "source": [
    "tcm = TopicClusterMapping(cfg=cfg)"
   ]
  },
  {
   "cell_type": "code",
   "execution_count": 6,
   "id": "cca657a4-9d7c-46a6-87fd-e1901af51fb7",
   "metadata": {
    "tags": []
   },
   "outputs": [],
   "source": [
    "topics = tcm._get_all_topics()"
   ]
  },
  {
   "cell_type": "code",
   "execution_count": 21,
   "id": "64d0c03b-c5ed-43a2-a301-3d97c67255fe",
   "metadata": {
    "tags": []
   },
   "outputs": [],
   "source": [
    "import openai"
   ]
  },
  {
   "cell_type": "code",
   "execution_count": 22,
   "id": "7ea3bc2d-a0ba-4369-9069-e9e215c056b6",
   "metadata": {
    "tags": []
   },
   "outputs": [],
   "source": [
    "openai.api_key = ''"
   ]
  },
  {
   "cell_type": "code",
   "execution_count": 142,
   "id": "4a2f90aa-01b5-44b9-b10f-2df2889f5b88",
   "metadata": {
    "tags": []
   },
   "outputs": [],
   "source": [
    "def get_representations(topics, method = 'category: name'):\n",
    "    representations = []\n",
    "    if method == 'category: name':\n",
    "        representations = [{'topicId': x['topicId'], 'description': f\"{x['category']}: {x['topicName']}\", 'approach_name': method} for x in topics]\n",
    "        return representations\n",
    "    elif method == 'gpt3-article':\n",
    "        for x in tqdm(topics):\n",
    "            representations.append({'topicId': x['topicId'], 'description': get_gpt3_article_on_topic(category = x['category'], topic = x['topicName']), 'approach_name': method})\n",
    "        return representations"
   ]
  },
  {
   "cell_type": "code",
   "execution_count": 23,
   "id": "45be3de2-56a3-453d-bc62-62a3d0661b43",
   "metadata": {
    "tags": []
   },
   "outputs": [],
   "source": [
    "def get_gpt3_article_on_topic(category, topic):\n",
    "    prompt = f\"\"\"\n",
    "    I am looking to read information and content related to the topic of {topic} under the category of {category}. Recommend what are the kind of articles and content that i should looking at. what kind of information and concepts would be present in these content. some of these will be news about latest events, some will be opinion pieces and some will be learning modules. structure your answer like you're written an article on the best way to identifying these articles. Your answer should have the following sections:\n",
    "1. give a brief introduction about the topic and category. be brief about not more than 2-3 lines on this\n",
    "2. technical aspects and background which i should be aware of to get a good handle on the topic. be extensive here. for example advanced financial concepts would include a wide range from black scholes models, F&Os to how to value a company.  \n",
    "3. what are some of the common examples of these topics. for example crypocurrency has a wide range from bitcoin, ethereum etc. \n",
    "4. then for each of these 3 types of content, mention 10 common article titles that i should expect. I am indian financial content reader, so tailor your recommendations accordingly. make sure introduce diversity in the titles so that they reflect the diversity of articles i would to expect to find\n",
    "\n",
    "use an article kind of structure with title and body and not a bullet point approach. no preamble. be concise.\n",
    "    \"\"\"\n",
    "    # return prompt\n",
    "    res = openai.ChatCompletion.create(model = \"gpt-3.5-turbo\", messages = [{'role': 'system', 'content': ''}, {'role': 'user', 'content': prompt}])\n",
    "    return res['choices'][0]['message']['content']"
   ]
  },
  {
   "cell_type": "code",
   "execution_count": 26,
   "id": "3592cb66-cf40-40b9-b2fd-d1b12fae3ff2",
   "metadata": {
    "tags": []
   },
   "outputs": [],
   "source": [
    "def get_gpt4_article_on_topic(category, topic):\n",
    "    prompt = f\"\"\"\n",
    "    I am looking to read information and content related to the topic of {topic} under the category of {category}. Recommend what are the kind of articles and content that i should looking at. what kind of information and concepts would be present in these content. some of these will be news about latest events, some will be opinion pieces and some will be learning modules. structure your answer like you're written an article on the best way to identifying these articles. Your answer should have the following sections:\n",
    "1. give a brief introduction about the topic and category. be brief about not more than 2-3 lines on this\n",
    "2. technical aspects and background which i should be aware of to get a good handle on the topic. be extensive here. for example advanced financial concepts would include a wide range from black scholes models, F&Os to how to value a company.  \n",
    "3. what are some of the common examples of these topics. for example crypocurrency has a wide range from bitcoin, ethereum etc. \n",
    "4. then for each of these 3 types of content, mention 10 common article titles that i should expect. I am indian financial content reader, so tailor your recommendations accordingly. make sure introduce diversity in the titles so that they reflect the diversity of articles i would to expect to find\n",
    "\n",
    "use an article kind of structure with title and body and not a bullet point approach. no preamble. be concise.\n",
    "    \"\"\"\n",
    "    # return prompt\n",
    "    res = openai.ChatCompletion.create(model = \"gpt-4\", messages = [{'role': 'system', 'content': ''}, {'role': 'user', 'content': prompt}])\n",
    "    return res['choices'][0]['message']['content']"
   ]
  },
  {
   "cell_type": "code",
   "execution_count": 48,
   "id": "58abe102-1b5e-4752-b3ff-d2ab7086bb6a",
   "metadata": {
    "tags": []
   },
   "outputs": [
    {
     "data": {
      "text/plain": [
       "{'topicId': 41,\n",
       " 'topicName': 'GST & Other Tax Regulations',\n",
       " 'category': 'Regulatory & Compliance',\n",
       " 'createdAt': '2023-10-06T06:51:44.276+00:00'}"
      ]
     },
     "execution_count": 48,
     "metadata": {},
     "output_type": "execute_result"
    }
   ],
   "source": [
    "topics[40]"
   ]
  },
  {
   "cell_type": "code",
   "execution_count": 171,
   "id": "0b7eedd2-5ba7-4db9-9b3a-71a5fe2a2733",
   "metadata": {
    "tags": []
   },
   "outputs": [],
   "source": [
    "r = get_gpt3_article_on_topic(topics[29]['category'],topics[29]['topicName'])"
   ]
  },
  {
   "cell_type": "code",
   "execution_count": 174,
   "id": "9316f982-5532-488e-a834-44d04bb9dce0",
   "metadata": {
    "tags": []
   },
   "outputs": [],
   "source": [
    "r4 = get_gpt4_article_on_topic(topics[29]['category'],topics[29]['topicName'])"
   ]
  },
  {
   "cell_type": "code",
   "execution_count": 179,
   "id": "406f27f3-ccb5-4760-8ef8-66cbd008d99e",
   "metadata": {
    "tags": []
   },
   "outputs": [],
   "source": [
    "r41 = get_gpt4_article_on_topic(topics[29]['category'],topics[29]['topicName'])"
   ]
  },
  {
   "cell_type": "code",
   "execution_count": 155,
   "id": "120efb1b-5f29-4893-927c-f866db9bcadf",
   "metadata": {
    "tags": []
   },
   "outputs": [],
   "source": [
    "from src.embeddings._utils import __clean_article_content"
   ]
  },
  {
   "cell_type": "code",
   "execution_count": 60,
   "id": "f0637c7a-7f22-4339-bc42-9ab620f5c1ac",
   "metadata": {
    "tags": []
   },
   "outputs": [],
   "source": [
    "import re"
   ]
  },
  {
   "cell_type": "code",
   "execution_count": 75,
   "id": "6c9a366f-241d-4298-9134-d806850f93af",
   "metadata": {
    "tags": []
   },
   "outputs": [],
   "source": [
    "def __clean_article_content(article_content: str, article_id: str):\n",
    "    # removing new line symbol\n",
    "    article_content = article_content.replace('\\n', ' ')\n",
    "    article_content = article_content.replace('\\t', ' ')\n",
    "    # removing characters which are not part of alphabets, numbers, currencies, percent, dot, dash, brackets, space, slash\n",
    "    article_content = re.sub(r\"[^a-zA-Z$€₹%\\-:/()\\[\\]{} .]\", \"\", article_content)\n",
    "    return article_content"
   ]
  },
  {
   "cell_type": "code",
   "execution_count": 50,
   "id": "474022ec-275d-48d9-b1fe-3d18451bf9f3",
   "metadata": {
    "tags": []
   },
   "outputs": [],
   "source": [
    "from tqdm.notebook import tqdm"
   ]
  },
  {
   "cell_type": "code",
   "execution_count": 54,
   "id": "0ed056e2-5b6b-474f-8cf6-0d9841cc450f",
   "metadata": {
    "tags": []
   },
   "outputs": [
    {
     "data": {
      "application/vnd.jupyter.widget-view+json": {
       "model_id": "520945bbc85e4e1a9ba62e3f438d8c85",
       "version_major": 2,
       "version_minor": 0
      },
      "text/plain": [
       "  0%|          | 0/45 [00:00<?, ?it/s]"
      ]
     },
     "metadata": {},
     "output_type": "display_data"
    }
   ],
   "source": [
    "representations = []\n",
    "for x in tqdm(topics):\n",
    "    representations.append({'topicId': x['topicId'], 'description': get_gpt3_article_on_topic(category = x['category'], topic = x['topicName']), 'approach_name': 'gpt3-article'})"
   ]
  },
  {
   "cell_type": "code",
   "execution_count": 76,
   "id": "5cec9724-4cea-4ce2-a80a-29c6e77ae37a",
   "metadata": {
    "tags": []
   },
   "outputs": [],
   "source": [
    "cleaned_representations = []\n",
    "for x in representations:\n",
    "    cleaned_representations.append({'topicId': x['topicId'], 'description': __clean_article_content(x['description'],'1'), 'approach_name': x['approach_name']})"
   ]
  },
  {
   "cell_type": "code",
   "execution_count": 128,
   "id": "e94cf141-a602-4b55-83d8-6e45603880fb",
   "metadata": {
    "tags": []
   },
   "outputs": [],
   "source": [
    "# res = openai.ChatCompletion.create(model = 'gpt-3.5-turbo', messages = [{'role': 'system', 'content': ''}, {'role': 'user', 'content': text}])"
   ]
  },
  {
   "cell_type": "code",
   "execution_count": 73,
   "id": "96eeb136-64dc-4a0b-bf1a-173adf49cf24",
   "metadata": {
    "tags": []
   },
   "outputs": [],
   "source": [
    "def write_representations_to_db(topic_representations):\n",
    "    with PostgresDatabaseOperation() as cursor:\n",
    "        insert_sql = \"\"\"\n",
    "        INSERT INTO topic_internal_representations (topic_id, description, approach_name)\n",
    "            VALUES (%s, %s, %s)\n",
    "            ON CONFLICT (topic_id, approach_name)\n",
    "            DO UPDATE SET \n",
    "                topic_id = EXCLUDED.topic_id,\n",
    "                description = EXCLUDED.description,\n",
    "                approach_name = EXCLUDED.approach_name;\n",
    "        \"\"\"\n",
    "        for topic in topic_representations:\n",
    "            cursor.execute(insert_sql, (topic['topicId'], topic['description'], topic['approach_name']))"
   ]
  },
  {
   "cell_type": "code",
   "execution_count": 78,
   "id": "c0b04bb3-889d-46fd-bd53-23e9283f5647",
   "metadata": {
    "tags": []
   },
   "outputs": [],
   "source": [
    "write_representations_to_db(topic_representations=cleaned_representations)"
   ]
  },
  {
   "cell_type": "markdown",
   "id": "98412ba1-5399-4120-a8da-dbac471472f1",
   "metadata": {},
   "source": [
    "### Embeddings"
   ]
  },
  {
   "cell_type": "code",
   "execution_count": 82,
   "id": "f886b2a2-144f-4d21-9fb3-6029562560d7",
   "metadata": {
    "tags": []
   },
   "outputs": [],
   "source": [
    "import pandas as pd\n",
    "from sklearn.metrics.pairwise import cosine_similarity\n",
    "from concurrent.futures import ThreadPoolExecutor, as_completed\n",
    "from src.embeddings._utils import parallel_get_article_metadata_from_api"
   ]
  },
  {
   "cell_type": "code",
   "execution_count": 41,
   "id": "b57b221e-1d98-4d8b-87ea-bc2c3c17a7b7",
   "metadata": {
    "tags": []
   },
   "outputs": [],
   "source": [
    "with PostgresDatabaseOperation() as cursor:\n",
    "    sql = 'SELECT article_id, embedding FROM embeddings'\n",
    "    cursor.execute(sql)\n",
    "    results = cursor.fetchall()\n",
    "    converted_results = [(x[0], [float(y) for y in x[1]]) for x in results]\n",
    "\n",
    "emb_df = pd.DataFrame(converted_results, columns = ['article_id', 'embedding'])\n",
    "all_articles = list(emb_df['article_id'].unique())\n",
    "metadata = parallel_get_article_metadata_from_api(all_articles)\n",
    "emb_df['title'] = emb_df['article_id'].apply(lambda x: metadata[x]['title'])"
   ]
  },
  {
   "cell_type": "code",
   "execution_count": 44,
   "id": "24a4325d-cda2-4c88-8f6a-95906d0707a2",
   "metadata": {
    "tags": []
   },
   "outputs": [],
   "source": [
    "import numpy as np"
   ]
  },
  {
   "cell_type": "markdown",
   "id": "f0653373-b9c5-41f4-a59c-83ba63f4b10f",
   "metadata": {},
   "source": [
    "### Closest articles"
   ]
  },
  {
   "cell_type": "code",
   "execution_count": 45,
   "id": "f0128f10-b14b-4bb1-8419-d1533c2ccd8f",
   "metadata": {
    "tags": []
   },
   "outputs": [],
   "source": [
    "def get_top_closest_articles(search_term, n = 10):\n",
    "    emb = tcm.bertopic_model.embedding_model.embed_words(search_term)\n",
    "    sim_arr = np.array([cosine_similarity(np.array(emb_df.iloc[n]['embedding']).reshape(-1,1).T, np.array(emb).reshape(-1,1).T)[0][0] for n in range(len(emb_df))])\n",
    "    top_articles = sim_arr.argsort()[-n:][::-1]\n",
    "    return [emb_df.iloc[i]['title'] for i in top_articles], [sim_arr[i] for i in top_articles]"
   ]
  },
  {
   "cell_type": "code",
   "execution_count": 81,
   "id": "f35f1d86-a6c5-43f8-8df6-5a9d566191d5",
   "metadata": {
    "tags": []
   },
   "outputs": [
    {
     "data": {
      "text/plain": [
       "(['Peer-to-Peer Lending: Advantages & Disadvantages & How it Works?',\n",
       "  'P2P Lending 101 – Ultimate Beginner’s Guide',\n",
       "  'What Happens If a Borrower Defaults on a P2P Loan?',\n",
       "  'Gold Loan - Everything You Need to Know',\n",
       "  'Investing vs Loan Repayment - Which One to Prioritise?',\n",
       "  'Rs. 100 SIPs per Month: Minimum Investment Plans for Mutual Funds',\n",
       "  'Project lender Ethos aims to deploy USD 1 billion for lending in India over 5 years',\n",
       "  'RD vs SIP: A Comparative Analysis',\n",
       "  'Investing in Initial Public Offerings (IPOs) - Good or Bad?￼',\n",
       "  'Best Investment Options in India in 2023'],\n",
       " [0.7743737287368375,\n",
       "  0.7457288965849806,\n",
       "  0.7311486087527139,\n",
       "  0.6439314734592184,\n",
       "  0.6409045857196916,\n",
       "  0.6368065217255401,\n",
       "  0.63232730331419,\n",
       "  0.6317944443800791,\n",
       "  0.6294705632068782,\n",
       "  0.629385694476484])"
      ]
     },
     "execution_count": 81,
     "metadata": {},
     "output_type": "execute_result"
    }
   ],
   "source": [
    "get_top_closest_articles('Investment: P2P Lending')"
   ]
  },
  {
   "cell_type": "code",
   "execution_count": 47,
   "id": "079ea373-8eca-43e3-bc7a-88093906ad28",
   "metadata": {
    "tags": []
   },
   "outputs": [
    {
     "data": {
      "text/plain": [
       "(['Peer-to-Peer Lending: Advantages & Disadvantages & How it Works?',\n",
       "  'P2P Lending 101 – Ultimate Beginner’s Guide',\n",
       "  'What Happens If a Borrower Defaults on a P2P Loan?',\n",
       "  'How Can You Avail a Startup Business Loan?',\n",
       "  'Best Investment Options in India in 2023',\n",
       "  'What Are Alternate Investment Funds (AIFs)- All You Need Know',\n",
       "  'How to Choose Mutual Funds in India?',\n",
       "  'What is Private Equity Investment',\n",
       "  'RBI’s Public Tech Platform for Frictionless Credit',\n",
       "  'Mutual Funds Vs Bonds: Learn the key differences'],\n",
       " [0.861496868938388,\n",
       "  0.8333886014398606,\n",
       "  0.7743011924454906,\n",
       "  0.7142748989874288,\n",
       "  0.6939185757146832,\n",
       "  0.6826027181712353,\n",
       "  0.6824112232779447,\n",
       "  0.68053892088434,\n",
       "  0.6745454970499052,\n",
       "  0.6733137134997268])"
      ]
     },
     "execution_count": 47,
     "metadata": {},
     "output_type": "execute_result"
    }
   ],
   "source": [
    "get_top_closest_articles(r)"
   ]
  },
  {
   "cell_type": "markdown",
   "id": "53d8229d-82df-42a5-8e01-213fc8ccf569",
   "metadata": {},
   "source": [
    "### Similar clusters"
   ]
  },
  {
   "cell_type": "code",
   "execution_count": 8,
   "id": "27b0c0c2-8898-4706-8fdf-1867df39f68b",
   "metadata": {
    "tags": []
   },
   "outputs": [],
   "source": [
    "with PostgresDatabaseOperation() as cursor:\n",
    "    cursor.execute('SELECT parent_id, parent_name FROM cluster_hierarchy')\n",
    "    results = cursor.fetchall()"
   ]
  },
  {
   "cell_type": "code",
   "execution_count": 10,
   "id": "d028fcc6-2ca6-4b5a-b417-cb72108bc5f8",
   "metadata": {
    "tags": []
   },
   "outputs": [],
   "source": [
    "cluster_names = {}\n",
    "for tup in results:\n",
    "    cluster_names[tup[0]] = tup[1]"
   ]
  },
  {
   "cell_type": "code",
   "execution_count": 55,
   "id": "1ac9c71d-5cc0-4bbe-9f39-c2e0583cda1e",
   "metadata": {
    "tags": []
   },
   "outputs": [],
   "source": [
    "def format_cluster_priors(priors_dict):\n",
    "    formatted_priors = {}\n",
    "    for cluster in priors_dict.keys():\n",
    "        if priors_dict[cluster]['a'] > 1:\n",
    "            formatted_priors[cluster_names[cluster]] = round(priors_dict[cluster]['a'], 2)\n",
    "    return {k: v for k, v in sorted(formatted_priors.items(), key=lambda item: item[1])[::-1]}"
   ]
  },
  {
   "cell_type": "code",
   "execution_count": 79,
   "id": "39d5e6de-c5c7-40af-b3ab-c758e5190125",
   "metadata": {
    "tags": []
   },
   "outputs": [
    {
     "data": {
      "text/plain": [
       "{'bank_rbi_loan_credit_banks': 3.72,\n",
       " 'crypto_target price_price rs_bitcoin_buy': 2.31,\n",
       " 'projects_cr_fpis_rs_equities': 1.65,\n",
       " 'ipo_adani_papers_papers sebi_power': 1.46}"
      ]
     },
     "execution_count": 79,
     "metadata": {},
     "output_type": "execute_result"
    }
   ],
   "source": [
    "format_cluster_priors(tcm._compute_cluster_priors_for_keyword(word = 'Investment: P2P Lending'))"
   ]
  },
  {
   "cell_type": "code",
   "execution_count": 80,
   "id": "37cb167b-56ca-475d-a6b8-2769cb637d4e",
   "metadata": {
    "tags": []
   },
   "outputs": [
    {
     "data": {
      "text/plain": [
       "{'bank_rbi_loan_credit_banks': 4.01,\n",
       " 'crypto_target price_price rs_bitcoin_buy': 2.2,\n",
       " 'ipo_adani_papers_papers sebi_power': 1.48,\n",
       " 'air_flight_airport_air india_india': 1.45}"
      ]
     },
     "execution_count": 80,
     "metadata": {},
     "output_type": "execute_result"
    }
   ],
   "source": [
    "format_cluster_priors(tcm._compute_cluster_priors_for_keyword(word = r))"
   ]
  },
  {
   "cell_type": "markdown",
   "id": "9c4b00bc-524f-422a-88b4-877dc53f9273",
   "metadata": {},
   "source": [
    "### Get representations from DB"
   ]
  },
  {
   "cell_type": "code",
   "execution_count": 86,
   "id": "235ce8c9-4424-4445-b315-deb32d0cf14d",
   "metadata": {
    "tags": []
   },
   "outputs": [],
   "source": [
    "from sql.PostgresDatabaseOperation import PostgresDatabaseOperation"
   ]
  },
  {
   "cell_type": "code",
   "execution_count": 87,
   "id": "6cafcefc-ae2f-4f78-b8fb-f14dd8944686",
   "metadata": {
    "tags": []
   },
   "outputs": [],
   "source": [
    "with PostgresDatabaseOperation() as cursor:\n",
    "    sql = 'SELECT * FROM topic_internal_representations'\n",
    "    cursor.execute(sql)\n",
    "    results = cursor.fetchall()\n",
    "representations_df = pd.DataFrame(results, columns = ['id', 'topic_id', 'description', 'approach_name', 'created_at'])"
   ]
  },
  {
   "cell_type": "code",
   "execution_count": 96,
   "id": "e8f9db8b-218e-416c-abfe-ea82d19e9a27",
   "metadata": {
    "tags": []
   },
   "outputs": [],
   "source": [
    "def get_topic_name_and_description(topic_id, approach_name):\n",
    "    if topic_id not in list(representations_df.topic_id.unique()):\n",
    "        return None, None\n",
    "    topic_name = representations_df[(representations_df.topic_id == topic_id) & (representations_df.approach_name == 'category: name')].iloc[0]['description']\n",
    "    df = representations_df[(representations_df.topic_id == topic_id) & (representations_df.approach_name == approach_name)]\n",
    "    if df.empty:\n",
    "        return topic_name, None\n",
    "    else:\n",
    "        description = df.iloc[0]['description']\n",
    "        return topic_name, description"
   ]
  },
  {
   "cell_type": "code",
   "execution_count": 104,
   "id": "e44ee1c3-265c-4e9e-8491-37d4349e2712",
   "metadata": {
    "tags": []
   },
   "outputs": [],
   "source": [
    "def get_top_articles_for_topic(topic_id, approach_name, n = 20):\n",
    "    topic_name, description = get_topic_name_and_description(topic_id=topic_id, approach_name=approach_name)\n",
    "    if description and topic_name:\n",
    "        articles, sim = get_top_closest_articles(search_term=description, n = n)\n",
    "        return topic_name, articles, sim\n",
    "    else:\n",
    "        return None"
   ]
  },
  {
   "cell_type": "code",
   "execution_count": 101,
   "id": "328f1d50-9eec-4dbf-960f-d89250febb28",
   "metadata": {
    "tags": []
   },
   "outputs": [],
   "source": [
    "def get_cluster_priors_for_topic(topic_id, approach_name):\n",
    "    topic_name, description = get_topic_name_and_description(topic_id=topic_id, approach_name=approach_name)\n",
    "    if description and topic_name:\n",
    "        priors = format_cluster_priors(tcm._compute_cluster_priors_for_keyword(word = description))\n",
    "        return priors"
   ]
  },
  {
   "cell_type": "code",
   "execution_count": 124,
   "id": "e9c38c91-abda-41ac-af4e-54f0c9884d2f",
   "metadata": {
    "tags": []
   },
   "outputs": [],
   "source": [
    "from tqdm.notebook import tqdm"
   ]
  },
  {
   "cell_type": "code",
   "execution_count": 129,
   "id": "36717416-8321-4dec-bd9f-b47a04b40aff",
   "metadata": {
    "tags": []
   },
   "outputs": [],
   "source": [
    "lst = []\n",
    "for i in range(1,10):\n",
    "    dct = {}\n",
    "    dct['a'] = i\n",
    "    dct['b'] = 1/i\n",
    "    lst.append(dct)"
   ]
  },
  {
   "cell_type": "code",
   "execution_count": 131,
   "id": "b46b4847-e894-4986-907a-8458880177b7",
   "metadata": {
    "tags": []
   },
   "outputs": [
    {
     "data": {
      "application/vnd.jupyter.widget-view+json": {
       "model_id": "4eb88f9c038f45ec88769580c8076e52",
       "version_major": 2,
       "version_minor": 0
      },
      "text/plain": [
       "  0%|          | 0/45 [00:00<?, ?it/s]"
      ]
     },
     "metadata": {},
     "output_type": "display_data"
    }
   ],
   "source": [
    "topic_maps = []\n",
    "for topic_id in tqdm(range(1,46)):\n",
    "    cur_topic_dict = {}\n",
    "    cur_topic_dict['topic_id'] = topic_id\n",
    "    for approach in ['gpt3-article', 'category: name']:\n",
    "        cur_topic_dict[f'cluster_priors_{approach}'] = get_cluster_priors_for_topic(topic_id=topic_id, approach_name=approach)\n",
    "        _, cur_topic_dict[f'top_articles_{approach}'], _  = get_top_articles_for_topic(topic_id = topic_id, approach_name=approach)\n",
    "    topic_maps.append(cur_topic_dict)"
   ]
  },
  {
   "cell_type": "code",
   "execution_count": 134,
   "id": "af3ca676-141d-4bb7-b368-7298d9ac3ce2",
   "metadata": {
    "tags": []
   },
   "outputs": [],
   "source": [
    "topic_comparison_df = pd.DataFrame(topic_maps)"
   ]
  },
  {
   "cell_type": "code",
   "execution_count": 183,
   "id": "27a600db-6cf3-4ff2-bba9-4e9e01fea14a",
   "metadata": {
    "scrolled": true,
    "tags": []
   },
   "outputs": [],
   "source": [
    "topic_comparison_df['random_number'] = [np.random.randint(1000, 2000) for i in range(len(topic_comparison_df))]"
   ]
  },
  {
   "cell_type": "code",
   "execution_count": 186,
   "id": "863ce52a-ff0a-4e3e-a614-add14f304ff6",
   "metadata": {
    "scrolled": true,
    "tags": []
   },
   "outputs": [],
   "source": [
    "topic_comparison_df['number_gpt3-article'] = topic_comparison_df['random_number'].apply(lambda x: prime(x * 2))\n",
    "topic_comparison_df['number_category: name'] = topic_comparison_df['random_number'].apply(lambda x: prime(x * 2 + 1))"
   ]
  },
  {
   "cell_type": "code",
   "execution_count": 187,
   "id": "1ab35f63-3ce8-4b13-8735-862d8ffa6340",
   "metadata": {
    "scrolled": true,
    "tags": []
   },
   "outputs": [
    {
     "data": {
      "text/html": [
       "<div>\n",
       "<style scoped>\n",
       "    .dataframe tbody tr th:only-of-type {\n",
       "        vertical-align: middle;\n",
       "    }\n",
       "\n",
       "    .dataframe tbody tr th {\n",
       "        vertical-align: top;\n",
       "    }\n",
       "\n",
       "    .dataframe thead th {\n",
       "        text-align: right;\n",
       "    }\n",
       "</style>\n",
       "<table border=\"1\" class=\"dataframe\">\n",
       "  <thead>\n",
       "    <tr style=\"text-align: right;\">\n",
       "      <th></th>\n",
       "      <th>topic_id</th>\n",
       "      <th>cluster_priors_gpt3-article</th>\n",
       "      <th>top_articles_gpt3-article</th>\n",
       "      <th>cluster_priors_category: name</th>\n",
       "      <th>top_articles_category: name</th>\n",
       "      <th>random_number</th>\n",
       "      <th>number_gpt3-article</th>\n",
       "      <th>number_category: name</th>\n",
       "    </tr>\n",
       "  </thead>\n",
       "  <tbody>\n",
       "    <tr>\n",
       "      <th>0</th>\n",
       "      <td>1</td>\n",
       "      <td>{'bank_rbi_loan_credit_banks': 3.39, 'crypto_t...</td>\n",
       "      <td>[Best Investment Options in India in 2023, 10 ...</td>\n",
       "      <td>{'bank_rbi_loan_credit_banks': 2.67, 'inflatio...</td>\n",
       "      <td>[10 Smart Money-Saving Tips to achieve your fi...</td>\n",
       "      <td>1823</td>\n",
       "      <td>34127</td>\n",
       "      <td>34129</td>\n",
       "    </tr>\n",
       "    <tr>\n",
       "      <th>1</th>\n",
       "      <td>2</td>\n",
       "      <td>{'bank_rbi_loan_credit_banks': 4.03, 'air_flig...</td>\n",
       "      <td>[How to Handle Credit Card Debt Responsibly?, ...</td>\n",
       "      <td>{'bank_rbi_loan_credit_banks': 3.42, 'ipo_adan...</td>\n",
       "      <td>[How to Handle Credit Card Debt Responsibly?, ...</td>\n",
       "      <td>1489</td>\n",
       "      <td>27191</td>\n",
       "      <td>27197</td>\n",
       "    </tr>\n",
       "    <tr>\n",
       "      <th>2</th>\n",
       "      <td>3</td>\n",
       "      <td>{'pension_epfo_higher_eps_eps pension': 2.22, ...</td>\n",
       "      <td>[Features &amp; Benefits of Pension Plans in India...</td>\n",
       "      <td>{'pension_epfo_higher_eps_eps pension': 2.16, ...</td>\n",
       "      <td>[Step-By-Step Guide to Efficient Retirement Pl...</td>\n",
       "      <td>1338</td>\n",
       "      <td>24061</td>\n",
       "      <td>24071</td>\n",
       "    </tr>\n",
       "    <tr>\n",
       "      <th>3</th>\n",
       "      <td>4</td>\n",
       "      <td>{'bank_rbi_loan_credit_banks': 2.43, 'gst_tax_...</td>\n",
       "      <td>[6 Tax Planning Strategies for New Businesses,...</td>\n",
       "      <td>{'gst_tax_pli_gst council_dpiit': 1.95, 'pensi...</td>\n",
       "      <td>[6 Tax Planning Strategies for New Businesses,...</td>\n",
       "      <td>1324</td>\n",
       "      <td>23813</td>\n",
       "      <td>23819</td>\n",
       "    </tr>\n",
       "    <tr>\n",
       "      <th>4</th>\n",
       "      <td>5</td>\n",
       "      <td>{'irdai_life_insurance_insurers_lic': 2.37, 'd...</td>\n",
       "      <td>[All You Need to Know about Term Insurance , T...</td>\n",
       "      <td>{'irdai_life_insurance_insurers_lic': 2.24, 'b...</td>\n",
       "      <td>[Things to Check before You Buy Life Insurance...</td>\n",
       "      <td>1078</td>\n",
       "      <td>18959</td>\n",
       "      <td>18973</td>\n",
       "    </tr>\n",
       "    <tr>\n",
       "      <th>5</th>\n",
       "      <td>6</td>\n",
       "      <td>{'bank_rbi_loan_credit_banks': 3.1, 'irdai_lif...</td>\n",
       "      <td>[Details of Rental Income Taxation in India (2...</td>\n",
       "      <td>{'bank_rbi_loan_credit_banks': 2.6, 'projects_...</td>\n",
       "      <td>[Real Estate vs Mutual Funds - Which Is the Be...</td>\n",
       "      <td>1830</td>\n",
       "      <td>34261</td>\n",
       "      <td>34267</td>\n",
       "    </tr>\n",
       "    <tr>\n",
       "      <th>6</th>\n",
       "      <td>7</td>\n",
       "      <td>{'stocks_52 week_52_week_nifty': 3.13, 'crypto...</td>\n",
       "      <td>[Stock Market Indices: Meaning, Types, and Oth...</td>\n",
       "      <td>{'stocks_52 week_52_week_nifty': 2.83, 'crypto...</td>\n",
       "      <td>[Beginners Stock Market Guide - Start Investin...</td>\n",
       "      <td>1096</td>\n",
       "      <td>19373</td>\n",
       "      <td>19379</td>\n",
       "    </tr>\n",
       "    <tr>\n",
       "      <th>7</th>\n",
       "      <td>8</td>\n",
       "      <td>{'stocks_52 week_52_week_nifty': 2.97, 'ipo_ad...</td>\n",
       "      <td>[Beginners Stock Market Guide - Start Investin...</td>\n",
       "      <td>{'stocks_52 week_52_week_nifty': 2.86, 'projec...</td>\n",
       "      <td>[Why You Should Choose Equity Over FDs, Gold &amp;...</td>\n",
       "      <td>1020</td>\n",
       "      <td>17783</td>\n",
       "      <td>17789</td>\n",
       "    </tr>\n",
       "    <tr>\n",
       "      <th>8</th>\n",
       "      <td>9</td>\n",
       "      <td>{'stocks_52 week_52_week_nifty': 2.88, 'bank_r...</td>\n",
       "      <td>[How to Choose Mutual Funds in India?, Mutual ...</td>\n",
       "      <td>{'stocks_52 week_52_week_nifty': 2.66, 'crypto...</td>\n",
       "      <td>[How to Invest in Mutual Funds Online - A Comp...</td>\n",
       "      <td>1168</td>\n",
       "      <td>20747</td>\n",
       "      <td>20749</td>\n",
       "    </tr>\n",
       "    <tr>\n",
       "      <th>9</th>\n",
       "      <td>10</td>\n",
       "      <td>{'crypto_target price_price rs_bitcoin_buy': 2...</td>\n",
       "      <td>[Index Fund vs ETFs: What Are the Differences?...</td>\n",
       "      <td>{'crypto_target price_price rs_bitcoin_buy': 2...</td>\n",
       "      <td>[All You Need to Know about Silver ETFs, Mutua...</td>\n",
       "      <td>1534</td>\n",
       "      <td>28111</td>\n",
       "      <td>28123</td>\n",
       "    </tr>\n",
       "    <tr>\n",
       "      <th>10</th>\n",
       "      <td>11</td>\n",
       "      <td>{'projects_cr_fpis_rs_equities': 2.16, 'ipo_ad...</td>\n",
       "      <td>[Beginners Guide To Real Estate Investment In ...</td>\n",
       "      <td>{'projects_cr_fpis_rs_equities': 2.18, 'ipo_ad...</td>\n",
       "      <td>[Beginners Guide To Real Estate Investment In ...</td>\n",
       "      <td>1386</td>\n",
       "      <td>25117</td>\n",
       "      <td>25121</td>\n",
       "    </tr>\n",
       "    <tr>\n",
       "      <th>11</th>\n",
       "      <td>12</td>\n",
       "      <td>{'bank_rbi_loan_credit_banks': 3.34, 'ipo_adan...</td>\n",
       "      <td>[Classification of Fixed Income Securities bas...</td>\n",
       "      <td>{'projects_cr_fpis_rs_equities': 2.28, 'bank_r...</td>\n",
       "      <td>[Bonds vs Fixed Deposits (FD) - Which is Bette...</td>\n",
       "      <td>1030</td>\n",
       "      <td>17971</td>\n",
       "      <td>17977</td>\n",
       "    </tr>\n",
       "    <tr>\n",
       "      <th>12</th>\n",
       "      <td>13</td>\n",
       "      <td>{'stocks_52 week_52_week_nifty': 2.54, 'crypto...</td>\n",
       "      <td>[5 Reasons to Trade in Commodities, Understand...</td>\n",
       "      <td>{'gold_silver_rs_results_profit': 2.34, 'crypt...</td>\n",
       "      <td>[How to Invest In Silver: Top Ways of Buying a...</td>\n",
       "      <td>1081</td>\n",
       "      <td>19031</td>\n",
       "      <td>19037</td>\n",
       "    </tr>\n",
       "    <tr>\n",
       "      <th>13</th>\n",
       "      <td>14</td>\n",
       "      <td>{'crypto_target price_price rs_bitcoin_buy': 2...</td>\n",
       "      <td>[SEC's Crypto Crackdown: What it means for inv...</td>\n",
       "      <td>{'crypto_target price_price rs_bitcoin_buy': 2...</td>\n",
       "      <td>[SEC's Crypto Crackdown: What it means for inv...</td>\n",
       "      <td>1019</td>\n",
       "      <td>17749</td>\n",
       "      <td>17761</td>\n",
       "    </tr>\n",
       "    <tr>\n",
       "      <th>14</th>\n",
       "      <td>15</td>\n",
       "      <td>{'bank_rbi_loan_credit_banks': 4.2, 'crypto_ta...</td>\n",
       "      <td>[Peer-to-Peer Lending: Advantages &amp; Disadvanta...</td>\n",
       "      <td>{'bank_rbi_loan_credit_banks': 3.72, 'crypto_t...</td>\n",
       "      <td>[Peer-to-Peer Lending: Advantages &amp; Disadvanta...</td>\n",
       "      <td>1784</td>\n",
       "      <td>33329</td>\n",
       "      <td>33331</td>\n",
       "    </tr>\n",
       "    <tr>\n",
       "      <th>15</th>\n",
       "      <td>16</td>\n",
       "      <td>{'bank_rbi_loan_credit_banks': 4.65, 'crypto_t...</td>\n",
       "      <td>[This savings account gives you higher-interes...</td>\n",
       "      <td>{'bank_rbi_loan_credit_banks': 5.0, 'inflation...</td>\n",
       "      <td>[7% Interest on a savings account? Here’s what...</td>\n",
       "      <td>1280</td>\n",
       "      <td>22943</td>\n",
       "      <td>22961</td>\n",
       "    </tr>\n",
       "    <tr>\n",
       "      <th>16</th>\n",
       "      <td>17</td>\n",
       "      <td>{'bank_rbi_loan_credit_banks': 5.0, 'air_fligh...</td>\n",
       "      <td>[What Types of Benefits Do Credit Cards Provid...</td>\n",
       "      <td>{'bank_rbi_loan_credit_banks': 5.0, 'inflation...</td>\n",
       "      <td>[Things to Keep in Mind Before Choosing a Cred...</td>\n",
       "      <td>1578</td>\n",
       "      <td>29021</td>\n",
       "      <td>29023</td>\n",
       "    </tr>\n",
       "    <tr>\n",
       "      <th>17</th>\n",
       "      <td>18</td>\n",
       "      <td>{'bank_rbi_loan_credit_banks': 5.0, 'air_fligh...</td>\n",
       "      <td>[Types of Business Loans in India You Should B...</td>\n",
       "      <td>{'bank_rbi_loan_credit_banks': 5.0, 'inflation...</td>\n",
       "      <td>[Personal Loan: 5 Things to Check While Applyi...</td>\n",
       "      <td>1343</td>\n",
       "      <td>24121</td>\n",
       "      <td>24133</td>\n",
       "    </tr>\n",
       "    <tr>\n",
       "      <th>18</th>\n",
       "      <td>19</td>\n",
       "      <td>{'bank_rbi_loan_credit_banks': 5.0, 'gst_tax_p...</td>\n",
       "      <td>[What is UPI? How Does UPI Work? The Complete ...</td>\n",
       "      <td>{'bank_rbi_loan_credit_banks': 5.0, 'gst_tax_p...</td>\n",
       "      <td>[What is UPI? How Does UPI Work? The Complete ...</td>\n",
       "      <td>1590</td>\n",
       "      <td>29251</td>\n",
       "      <td>29269</td>\n",
       "    </tr>\n",
       "    <tr>\n",
       "      <th>19</th>\n",
       "      <td>20</td>\n",
       "      <td>{'bank_rbi_loan_credit_banks': 4.02, 'crypto_t...</td>\n",
       "      <td>[Samsung Pay and Apple Pay: Explaining Contact...</td>\n",
       "      <td>{'bank_rbi_loan_credit_banks': 5.0, 'crypto_ta...</td>\n",
       "      <td>[Samsung Pay and Apple Pay: Explaining Contact...</td>\n",
       "      <td>1037</td>\n",
       "      <td>18097</td>\n",
       "      <td>18119</td>\n",
       "    </tr>\n",
       "    <tr>\n",
       "      <th>20</th>\n",
       "      <td>21</td>\n",
       "      <td>{'bank_rbi_loan_credit_banks': 3.37, 'ipo_adan...</td>\n",
       "      <td>[Ways to get Funding for Your Business Idea, H...</td>\n",
       "      <td>{'bank_rbi_loan_credit_banks': 3.58, 'ipo_adan...</td>\n",
       "      <td>[Ways to get Funding for Your Business Idea, S...</td>\n",
       "      <td>1105</td>\n",
       "      <td>19477</td>\n",
       "      <td>19483</td>\n",
       "    </tr>\n",
       "    <tr>\n",
       "      <th>21</th>\n",
       "      <td>22</td>\n",
       "      <td>{'bank_rbi_loan_credit_banks': 3.79, 'crypto_t...</td>\n",
       "      <td>[Risk Management - Meaning, Importance &amp; Ways ...</td>\n",
       "      <td>{'bank_rbi_loan_credit_banks': 4.09, 'crypto_t...</td>\n",
       "      <td>[Top 6 Financing Options That Can Take Your Bu...</td>\n",
       "      <td>1970</td>\n",
       "      <td>37189</td>\n",
       "      <td>37199</td>\n",
       "    </tr>\n",
       "    <tr>\n",
       "      <th>22</th>\n",
       "      <td>23</td>\n",
       "      <td>{'bank_rbi_loan_credit_banks': 2.66, 'ipo_adan...</td>\n",
       "      <td>[M&amp;A value nosedives 75 pc to USD 32.6 billion...</td>\n",
       "      <td>{'bank_rbi_loan_credit_banks': 3.06, 'ipo_adan...</td>\n",
       "      <td>[UBS completes takeover of Credit Suisse, How ...</td>\n",
       "      <td>1419</td>\n",
       "      <td>25771</td>\n",
       "      <td>25793</td>\n",
       "    </tr>\n",
       "    <tr>\n",
       "      <th>23</th>\n",
       "      <td>24</td>\n",
       "      <td>{'gst_tax_pli_gst council_dpiit': 2.89, 'bank_...</td>\n",
       "      <td>[Section 92 of the Income Tax Act, Direct Tax ...</td>\n",
       "      <td>{'bank_rbi_loan_credit_banks': 3.05, 'gst_tax_...</td>\n",
       "      <td>[Section 92 of the Income Tax Act, A Guide for...</td>\n",
       "      <td>1478</td>\n",
       "      <td>26951</td>\n",
       "      <td>26953</td>\n",
       "    </tr>\n",
       "    <tr>\n",
       "      <th>24</th>\n",
       "      <td>25</td>\n",
       "      <td>{'bank_rbi_loan_credit_banks': 3.36, 'crypto_t...</td>\n",
       "      <td>[Supply Chain Finance in India: Meaning, Benef...</td>\n",
       "      <td>{'bank_rbi_loan_credit_banks': 4.28, 'ipo_adan...</td>\n",
       "      <td>[5 Must-Know Reasons to Avail a Working Capita...</td>\n",
       "      <td>1571</td>\n",
       "      <td>28859</td>\n",
       "      <td>28867</td>\n",
       "    </tr>\n",
       "    <tr>\n",
       "      <th>25</th>\n",
       "      <td>26</td>\n",
       "      <td>{'trade_exports_uk_fta_india': 2.62, 'inflatio...</td>\n",
       "      <td>[RBI Annual Report (2022-23): 5 Key Takeaways,...</td>\n",
       "      <td>{'inflation_growth_rate_fed_fy24': 3.03, 'bank...</td>\n",
       "      <td>[RBI Annual Report (2022-23): 5 Key Takeaways,...</td>\n",
       "      <td>1529</td>\n",
       "      <td>28027</td>\n",
       "      <td>28031</td>\n",
       "    </tr>\n",
       "    <tr>\n",
       "      <th>26</th>\n",
       "      <td>27</td>\n",
       "      <td>{'inflation_growth_rate_fed_fy24': 2.9, 'bank_...</td>\n",
       "      <td>[RBI Annual Report (2022-23): 5 Key Takeaways,...</td>\n",
       "      <td>{'inflation_growth_rate_fed_fy24': 2.83, 'bank...</td>\n",
       "      <td>[RBI Annual Report (2022-23): 5 Key Takeaways,...</td>\n",
       "      <td>1396</td>\n",
       "      <td>25309</td>\n",
       "      <td>25321</td>\n",
       "    </tr>\n",
       "    <tr>\n",
       "      <th>27</th>\n",
       "      <td>28</td>\n",
       "      <td>{'inflation_growth_rate_fed_fy24': 3.46, 'bank...</td>\n",
       "      <td>[Role of Monetary Policy in Debt Markets, RBI ...</td>\n",
       "      <td>{'inflation_growth_rate_fed_fy24': 3.39, 'bank...</td>\n",
       "      <td>[RBI expected to hold policy rate again at nex...</td>\n",
       "      <td>1976</td>\n",
       "      <td>37321</td>\n",
       "      <td>37337</td>\n",
       "    </tr>\n",
       "    <tr>\n",
       "      <th>28</th>\n",
       "      <td>29</td>\n",
       "      <td>{'trade_exports_uk_fta_india': 3.45, 'inflatio...</td>\n",
       "      <td>[A Beginner’s Guide to Forex Trading in India,...</td>\n",
       "      <td>{'trade_exports_uk_fta_india': 3.33, 'inflatio...</td>\n",
       "      <td>[A Beginner’s Guide to Forex Trading in India,...</td>\n",
       "      <td>1845</td>\n",
       "      <td>34537</td>\n",
       "      <td>34543</td>\n",
       "    </tr>\n",
       "    <tr>\n",
       "      <th>29</th>\n",
       "      <td>30</td>\n",
       "      <td>{'bank_rbi_loan_credit_banks': 3.49, 'air_flig...</td>\n",
       "      <td>[Financial Planning for Beginners, How to Mana...</td>\n",
       "      <td>{'bank_rbi_loan_credit_banks': 3.76, 'crypto_t...</td>\n",
       "      <td>[Financial Planning for Beginners, 10 Simple M...</td>\n",
       "      <td>1655</td>\n",
       "      <td>30689</td>\n",
       "      <td>30697</td>\n",
       "    </tr>\n",
       "    <tr>\n",
       "      <th>30</th>\n",
       "      <td>31</td>\n",
       "      <td>{'bank_rbi_loan_credit_banks': 2.77, 'stocks_5...</td>\n",
       "      <td>[The Behavioral Science of Investing: Explorin...</td>\n",
       "      <td>{'bank_rbi_loan_credit_banks': 3.47, 'crypto_t...</td>\n",
       "      <td>[The Intelligent Investor by Benjamin Graham, ...</td>\n",
       "      <td>1325</td>\n",
       "      <td>23827</td>\n",
       "      <td>23831</td>\n",
       "    </tr>\n",
       "    <tr>\n",
       "      <th>31</th>\n",
       "      <td>32</td>\n",
       "      <td>{'stocks_52 week_52_week_nifty': 2.72, 'crypto...</td>\n",
       "      <td>[8 steps to build your own rule-based investme...</td>\n",
       "      <td>{'bank_rbi_loan_credit_banks': 2.47, 'crypto_t...</td>\n",
       "      <td>[Investment Strategies: Asset Allocation by Ag...</td>\n",
       "      <td>1312</td>\n",
       "      <td>23593</td>\n",
       "      <td>23599</td>\n",
       "    </tr>\n",
       "    <tr>\n",
       "      <th>32</th>\n",
       "      <td>33</td>\n",
       "      <td>{'bank_rbi_loan_credit_banks': 3.22, 'air_flig...</td>\n",
       "      <td>[Risk Management - Meaning, Importance &amp; Ways ...</td>\n",
       "      <td>{'bank_rbi_loan_credit_banks': 2.94, 'crypto_t...</td>\n",
       "      <td>[Risk Management - Meaning, Importance &amp; Ways ...</td>\n",
       "      <td>1795</td>\n",
       "      <td>33533</td>\n",
       "      <td>33547</td>\n",
       "    </tr>\n",
       "    <tr>\n",
       "      <th>33</th>\n",
       "      <td>34</td>\n",
       "      <td>{'bank_rbi_loan_credit_banks': 3.83, 'air_flig...</td>\n",
       "      <td>[Samsung Pay and Apple Pay: Explaining Contact...</td>\n",
       "      <td>{'bank_rbi_loan_credit_banks': 3.88, 'crypto_t...</td>\n",
       "      <td>[Samsung Pay and Apple Pay: Explaining Contact...</td>\n",
       "      <td>1327</td>\n",
       "      <td>23869</td>\n",
       "      <td>23873</td>\n",
       "    </tr>\n",
       "    <tr>\n",
       "      <th>34</th>\n",
       "      <td>35</td>\n",
       "      <td>{'bank_rbi_loan_credit_banks': 2.66, 'stocks_5...</td>\n",
       "      <td>[Best Technology Mutual Funds to Invest in 202...</td>\n",
       "      <td>{'bank_rbi_loan_credit_banks': 2.63, 'crypto_t...</td>\n",
       "      <td>[India's Think360 make top AI Fintech Companie...</td>\n",
       "      <td>1601</td>\n",
       "      <td>29473</td>\n",
       "      <td>29483</td>\n",
       "    </tr>\n",
       "    <tr>\n",
       "      <th>35</th>\n",
       "      <td>36</td>\n",
       "      <td>{'bank_rbi_loan_credit_banks': 2.86, 'crypto_t...</td>\n",
       "      <td>[RBI’s Public Tech Platform for Frictionless C...</td>\n",
       "      <td>{'bank_rbi_loan_credit_banks': 3.09, 'crypto_t...</td>\n",
       "      <td>[Fintech City will make Tamil Nadu an unparall...</td>\n",
       "      <td>1137</td>\n",
       "      <td>20113</td>\n",
       "      <td>20117</td>\n",
       "    </tr>\n",
       "    <tr>\n",
       "      <th>36</th>\n",
       "      <td>37</td>\n",
       "      <td>{'irdai_life_insurance_insurers_lic': 2.36, 'c...</td>\n",
       "      <td>[Irdai to hold open house for insurtech, finte...</td>\n",
       "      <td>{'bank_rbi_loan_credit_banks': 2.64, 'crypto_t...</td>\n",
       "      <td>[Irdai to hold open house for insurtech, finte...</td>\n",
       "      <td>1679</td>\n",
       "      <td>31177</td>\n",
       "      <td>31181</td>\n",
       "    </tr>\n",
       "    <tr>\n",
       "      <th>37</th>\n",
       "      <td>38</td>\n",
       "      <td>{'sebi_case_case sebi_entities_disclosure': 3....</td>\n",
       "      <td>[Understanding the mechanism of how the stock ...</td>\n",
       "      <td>{'sebi_case_case sebi_entities_disclosure': 3....</td>\n",
       "      <td>[Anti-money laundering: Sebi releases fresh se...</td>\n",
       "      <td>1957</td>\n",
       "      <td>36913</td>\n",
       "      <td>36919</td>\n",
       "    </tr>\n",
       "    <tr>\n",
       "      <th>38</th>\n",
       "      <td>39</td>\n",
       "      <td>{'bank_rbi_loan_credit_banks': 3.47, 'sebi_cas...</td>\n",
       "      <td>[Non Banking Financial Company (NBFC) - Everyt...</td>\n",
       "      <td>{'bank_rbi_loan_credit_banks': 3.98, 'sebi_cas...</td>\n",
       "      <td>[RBI imposes Rs 2.2-crore penalty on Indian Ov...</td>\n",
       "      <td>1353</td>\n",
       "      <td>24373</td>\n",
       "      <td>24379</td>\n",
       "    </tr>\n",
       "    <tr>\n",
       "      <th>39</th>\n",
       "      <td>40</td>\n",
       "      <td>{'bank_rbi_loan_credit_banks': 2.55, 'sebi_cas...</td>\n",
       "      <td>[Insights on Credit Report, Credit Score, and ...</td>\n",
       "      <td>{'sebi_case_case sebi_entities_disclosure': 2....</td>\n",
       "      <td>[Sebi comes out with disclosure formats for co...</td>\n",
       "      <td>1025</td>\n",
       "      <td>17891</td>\n",
       "      <td>17903</td>\n",
       "    </tr>\n",
       "    <tr>\n",
       "      <th>40</th>\n",
       "      <td>41</td>\n",
       "      <td>{'gst_tax_pli_gst council_dpiit': 2.99, 'sebi_...</td>\n",
       "      <td>[GST (Sales Tax in India): Meaning, Types, Cal...</td>\n",
       "      <td>{'gst_tax_pli_gst council_dpiit': 2.86, 'bank_...</td>\n",
       "      <td>[Foreign giants on notice: Govt expects ₹2,000...</td>\n",
       "      <td>1543</td>\n",
       "      <td>28349</td>\n",
       "      <td>28351</td>\n",
       "    </tr>\n",
       "    <tr>\n",
       "      <th>41</th>\n",
       "      <td>42</td>\n",
       "      <td>{'bank_rbi_loan_credit_banks': 3.92, 'trade_ex...</td>\n",
       "      <td>[Supply Chain Finance in India: Meaning, Benef...</td>\n",
       "      <td>{'bank_rbi_loan_credit_banks': 4.07, 'trade_ex...</td>\n",
       "      <td>[Growing for the future! Discussing the untapp...</td>\n",
       "      <td>1462</td>\n",
       "      <td>26681</td>\n",
       "      <td>26683</td>\n",
       "    </tr>\n",
       "    <tr>\n",
       "      <th>42</th>\n",
       "      <td>43</td>\n",
       "      <td>{'bank_rbi_loan_credit_banks': 4.25, 'air_flig...</td>\n",
       "      <td>[Supply Chain Finance in India: Meaning, Benef...</td>\n",
       "      <td>{'bank_rbi_loan_credit_banks': 4.67, 'crypto_t...</td>\n",
       "      <td>[Microfinance institutions' profitability to r...</td>\n",
       "      <td>1937</td>\n",
       "      <td>36541</td>\n",
       "      <td>36551</td>\n",
       "    </tr>\n",
       "    <tr>\n",
       "      <th>43</th>\n",
       "      <td>44</td>\n",
       "      <td>{'bank_rbi_loan_credit_banks': 2.8, 'oil_gas_o...</td>\n",
       "      <td>[Finmin explores options to allow firms to dep...</td>\n",
       "      <td>{'bank_rbi_loan_credit_banks': 3.34, 'oil_gas_...</td>\n",
       "      <td>[Finmin explores options to allow firms to dep...</td>\n",
       "      <td>1190</td>\n",
       "      <td>21169</td>\n",
       "      <td>21179</td>\n",
       "    </tr>\n",
       "    <tr>\n",
       "      <th>44</th>\n",
       "      <td>45</td>\n",
       "      <td>{'bank_rbi_loan_credit_banks': 3.08, 'crypto_t...</td>\n",
       "      <td>[The Behavioral Science of Investing: Explorin...</td>\n",
       "      <td>{'crypto_target price_price rs_bitcoin_buy': 2...</td>\n",
       "      <td>[The Behavioral Science of Investing: Explorin...</td>\n",
       "      <td>1098</td>\n",
       "      <td>19391</td>\n",
       "      <td>19403</td>\n",
       "    </tr>\n",
       "  </tbody>\n",
       "</table>\n",
       "</div>"
      ],
      "text/plain": [
       "    topic_id                        cluster_priors_gpt3-article  \\\n",
       "0          1  {'bank_rbi_loan_credit_banks': 3.39, 'crypto_t...   \n",
       "1          2  {'bank_rbi_loan_credit_banks': 4.03, 'air_flig...   \n",
       "2          3  {'pension_epfo_higher_eps_eps pension': 2.22, ...   \n",
       "3          4  {'bank_rbi_loan_credit_banks': 2.43, 'gst_tax_...   \n",
       "4          5  {'irdai_life_insurance_insurers_lic': 2.37, 'd...   \n",
       "5          6  {'bank_rbi_loan_credit_banks': 3.1, 'irdai_lif...   \n",
       "6          7  {'stocks_52 week_52_week_nifty': 3.13, 'crypto...   \n",
       "7          8  {'stocks_52 week_52_week_nifty': 2.97, 'ipo_ad...   \n",
       "8          9  {'stocks_52 week_52_week_nifty': 2.88, 'bank_r...   \n",
       "9         10  {'crypto_target price_price rs_bitcoin_buy': 2...   \n",
       "10        11  {'projects_cr_fpis_rs_equities': 2.16, 'ipo_ad...   \n",
       "11        12  {'bank_rbi_loan_credit_banks': 3.34, 'ipo_adan...   \n",
       "12        13  {'stocks_52 week_52_week_nifty': 2.54, 'crypto...   \n",
       "13        14  {'crypto_target price_price rs_bitcoin_buy': 2...   \n",
       "14        15  {'bank_rbi_loan_credit_banks': 4.2, 'crypto_ta...   \n",
       "15        16  {'bank_rbi_loan_credit_banks': 4.65, 'crypto_t...   \n",
       "16        17  {'bank_rbi_loan_credit_banks': 5.0, 'air_fligh...   \n",
       "17        18  {'bank_rbi_loan_credit_banks': 5.0, 'air_fligh...   \n",
       "18        19  {'bank_rbi_loan_credit_banks': 5.0, 'gst_tax_p...   \n",
       "19        20  {'bank_rbi_loan_credit_banks': 4.02, 'crypto_t...   \n",
       "20        21  {'bank_rbi_loan_credit_banks': 3.37, 'ipo_adan...   \n",
       "21        22  {'bank_rbi_loan_credit_banks': 3.79, 'crypto_t...   \n",
       "22        23  {'bank_rbi_loan_credit_banks': 2.66, 'ipo_adan...   \n",
       "23        24  {'gst_tax_pli_gst council_dpiit': 2.89, 'bank_...   \n",
       "24        25  {'bank_rbi_loan_credit_banks': 3.36, 'crypto_t...   \n",
       "25        26  {'trade_exports_uk_fta_india': 2.62, 'inflatio...   \n",
       "26        27  {'inflation_growth_rate_fed_fy24': 2.9, 'bank_...   \n",
       "27        28  {'inflation_growth_rate_fed_fy24': 3.46, 'bank...   \n",
       "28        29  {'trade_exports_uk_fta_india': 3.45, 'inflatio...   \n",
       "29        30  {'bank_rbi_loan_credit_banks': 3.49, 'air_flig...   \n",
       "30        31  {'bank_rbi_loan_credit_banks': 2.77, 'stocks_5...   \n",
       "31        32  {'stocks_52 week_52_week_nifty': 2.72, 'crypto...   \n",
       "32        33  {'bank_rbi_loan_credit_banks': 3.22, 'air_flig...   \n",
       "33        34  {'bank_rbi_loan_credit_banks': 3.83, 'air_flig...   \n",
       "34        35  {'bank_rbi_loan_credit_banks': 2.66, 'stocks_5...   \n",
       "35        36  {'bank_rbi_loan_credit_banks': 2.86, 'crypto_t...   \n",
       "36        37  {'irdai_life_insurance_insurers_lic': 2.36, 'c...   \n",
       "37        38  {'sebi_case_case sebi_entities_disclosure': 3....   \n",
       "38        39  {'bank_rbi_loan_credit_banks': 3.47, 'sebi_cas...   \n",
       "39        40  {'bank_rbi_loan_credit_banks': 2.55, 'sebi_cas...   \n",
       "40        41  {'gst_tax_pli_gst council_dpiit': 2.99, 'sebi_...   \n",
       "41        42  {'bank_rbi_loan_credit_banks': 3.92, 'trade_ex...   \n",
       "42        43  {'bank_rbi_loan_credit_banks': 4.25, 'air_flig...   \n",
       "43        44  {'bank_rbi_loan_credit_banks': 2.8, 'oil_gas_o...   \n",
       "44        45  {'bank_rbi_loan_credit_banks': 3.08, 'crypto_t...   \n",
       "\n",
       "                            top_articles_gpt3-article  \\\n",
       "0   [Best Investment Options in India in 2023, 10 ...   \n",
       "1   [How to Handle Credit Card Debt Responsibly?, ...   \n",
       "2   [Features & Benefits of Pension Plans in India...   \n",
       "3   [6 Tax Planning Strategies for New Businesses,...   \n",
       "4   [All You Need to Know about Term Insurance , T...   \n",
       "5   [Details of Rental Income Taxation in India (2...   \n",
       "6   [Stock Market Indices: Meaning, Types, and Oth...   \n",
       "7   [Beginners Stock Market Guide - Start Investin...   \n",
       "8   [How to Choose Mutual Funds in India?, Mutual ...   \n",
       "9   [Index Fund vs ETFs: What Are the Differences?...   \n",
       "10  [Beginners Guide To Real Estate Investment In ...   \n",
       "11  [Classification of Fixed Income Securities bas...   \n",
       "12  [5 Reasons to Trade in Commodities, Understand...   \n",
       "13  [SEC's Crypto Crackdown: What it means for inv...   \n",
       "14  [Peer-to-Peer Lending: Advantages & Disadvanta...   \n",
       "15  [This savings account gives you higher-interes...   \n",
       "16  [What Types of Benefits Do Credit Cards Provid...   \n",
       "17  [Types of Business Loans in India You Should B...   \n",
       "18  [What is UPI? How Does UPI Work? The Complete ...   \n",
       "19  [Samsung Pay and Apple Pay: Explaining Contact...   \n",
       "20  [Ways to get Funding for Your Business Idea, H...   \n",
       "21  [Risk Management - Meaning, Importance & Ways ...   \n",
       "22  [M&A value nosedives 75 pc to USD 32.6 billion...   \n",
       "23  [Section 92 of the Income Tax Act, Direct Tax ...   \n",
       "24  [Supply Chain Finance in India: Meaning, Benef...   \n",
       "25  [RBI Annual Report (2022-23): 5 Key Takeaways,...   \n",
       "26  [RBI Annual Report (2022-23): 5 Key Takeaways,...   \n",
       "27  [Role of Monetary Policy in Debt Markets, RBI ...   \n",
       "28  [A Beginner’s Guide to Forex Trading in India,...   \n",
       "29  [Financial Planning for Beginners, How to Mana...   \n",
       "30  [The Behavioral Science of Investing: Explorin...   \n",
       "31  [8 steps to build your own rule-based investme...   \n",
       "32  [Risk Management - Meaning, Importance & Ways ...   \n",
       "33  [Samsung Pay and Apple Pay: Explaining Contact...   \n",
       "34  [Best Technology Mutual Funds to Invest in 202...   \n",
       "35  [RBI’s Public Tech Platform for Frictionless C...   \n",
       "36  [Irdai to hold open house for insurtech, finte...   \n",
       "37  [Understanding the mechanism of how the stock ...   \n",
       "38  [Non Banking Financial Company (NBFC) - Everyt...   \n",
       "39  [Insights on Credit Report, Credit Score, and ...   \n",
       "40  [GST (Sales Tax in India): Meaning, Types, Cal...   \n",
       "41  [Supply Chain Finance in India: Meaning, Benef...   \n",
       "42  [Supply Chain Finance in India: Meaning, Benef...   \n",
       "43  [Finmin explores options to allow firms to dep...   \n",
       "44  [The Behavioral Science of Investing: Explorin...   \n",
       "\n",
       "                        cluster_priors_category: name  \\\n",
       "0   {'bank_rbi_loan_credit_banks': 2.67, 'inflatio...   \n",
       "1   {'bank_rbi_loan_credit_banks': 3.42, 'ipo_adan...   \n",
       "2   {'pension_epfo_higher_eps_eps pension': 2.16, ...   \n",
       "3   {'gst_tax_pli_gst council_dpiit': 1.95, 'pensi...   \n",
       "4   {'irdai_life_insurance_insurers_lic': 2.24, 'b...   \n",
       "5   {'bank_rbi_loan_credit_banks': 2.6, 'projects_...   \n",
       "6   {'stocks_52 week_52_week_nifty': 2.83, 'crypto...   \n",
       "7   {'stocks_52 week_52_week_nifty': 2.86, 'projec...   \n",
       "8   {'stocks_52 week_52_week_nifty': 2.66, 'crypto...   \n",
       "9   {'crypto_target price_price rs_bitcoin_buy': 2...   \n",
       "10  {'projects_cr_fpis_rs_equities': 2.18, 'ipo_ad...   \n",
       "11  {'projects_cr_fpis_rs_equities': 2.28, 'bank_r...   \n",
       "12  {'gold_silver_rs_results_profit': 2.34, 'crypt...   \n",
       "13  {'crypto_target price_price rs_bitcoin_buy': 2...   \n",
       "14  {'bank_rbi_loan_credit_banks': 3.72, 'crypto_t...   \n",
       "15  {'bank_rbi_loan_credit_banks': 5.0, 'inflation...   \n",
       "16  {'bank_rbi_loan_credit_banks': 5.0, 'inflation...   \n",
       "17  {'bank_rbi_loan_credit_banks': 5.0, 'inflation...   \n",
       "18  {'bank_rbi_loan_credit_banks': 5.0, 'gst_tax_p...   \n",
       "19  {'bank_rbi_loan_credit_banks': 5.0, 'crypto_ta...   \n",
       "20  {'bank_rbi_loan_credit_banks': 3.58, 'ipo_adan...   \n",
       "21  {'bank_rbi_loan_credit_banks': 4.09, 'crypto_t...   \n",
       "22  {'bank_rbi_loan_credit_banks': 3.06, 'ipo_adan...   \n",
       "23  {'bank_rbi_loan_credit_banks': 3.05, 'gst_tax_...   \n",
       "24  {'bank_rbi_loan_credit_banks': 4.28, 'ipo_adan...   \n",
       "25  {'inflation_growth_rate_fed_fy24': 3.03, 'bank...   \n",
       "26  {'inflation_growth_rate_fed_fy24': 2.83, 'bank...   \n",
       "27  {'inflation_growth_rate_fed_fy24': 3.39, 'bank...   \n",
       "28  {'trade_exports_uk_fta_india': 3.33, 'inflatio...   \n",
       "29  {'bank_rbi_loan_credit_banks': 3.76, 'crypto_t...   \n",
       "30  {'bank_rbi_loan_credit_banks': 3.47, 'crypto_t...   \n",
       "31  {'bank_rbi_loan_credit_banks': 2.47, 'crypto_t...   \n",
       "32  {'bank_rbi_loan_credit_banks': 2.94, 'crypto_t...   \n",
       "33  {'bank_rbi_loan_credit_banks': 3.88, 'crypto_t...   \n",
       "34  {'bank_rbi_loan_credit_banks': 2.63, 'crypto_t...   \n",
       "35  {'bank_rbi_loan_credit_banks': 3.09, 'crypto_t...   \n",
       "36  {'bank_rbi_loan_credit_banks': 2.64, 'crypto_t...   \n",
       "37  {'sebi_case_case sebi_entities_disclosure': 3....   \n",
       "38  {'bank_rbi_loan_credit_banks': 3.98, 'sebi_cas...   \n",
       "39  {'sebi_case_case sebi_entities_disclosure': 2....   \n",
       "40  {'gst_tax_pli_gst council_dpiit': 2.86, 'bank_...   \n",
       "41  {'bank_rbi_loan_credit_banks': 4.07, 'trade_ex...   \n",
       "42  {'bank_rbi_loan_credit_banks': 4.67, 'crypto_t...   \n",
       "43  {'bank_rbi_loan_credit_banks': 3.34, 'oil_gas_...   \n",
       "44  {'crypto_target price_price rs_bitcoin_buy': 2...   \n",
       "\n",
       "                          top_articles_category: name  random_number  \\\n",
       "0   [10 Smart Money-Saving Tips to achieve your fi...           1823   \n",
       "1   [How to Handle Credit Card Debt Responsibly?, ...           1489   \n",
       "2   [Step-By-Step Guide to Efficient Retirement Pl...           1338   \n",
       "3   [6 Tax Planning Strategies for New Businesses,...           1324   \n",
       "4   [Things to Check before You Buy Life Insurance...           1078   \n",
       "5   [Real Estate vs Mutual Funds - Which Is the Be...           1830   \n",
       "6   [Beginners Stock Market Guide - Start Investin...           1096   \n",
       "7   [Why You Should Choose Equity Over FDs, Gold &...           1020   \n",
       "8   [How to Invest in Mutual Funds Online - A Comp...           1168   \n",
       "9   [All You Need to Know about Silver ETFs, Mutua...           1534   \n",
       "10  [Beginners Guide To Real Estate Investment In ...           1386   \n",
       "11  [Bonds vs Fixed Deposits (FD) - Which is Bette...           1030   \n",
       "12  [How to Invest In Silver: Top Ways of Buying a...           1081   \n",
       "13  [SEC's Crypto Crackdown: What it means for inv...           1019   \n",
       "14  [Peer-to-Peer Lending: Advantages & Disadvanta...           1784   \n",
       "15  [7% Interest on a savings account? Here’s what...           1280   \n",
       "16  [Things to Keep in Mind Before Choosing a Cred...           1578   \n",
       "17  [Personal Loan: 5 Things to Check While Applyi...           1343   \n",
       "18  [What is UPI? How Does UPI Work? The Complete ...           1590   \n",
       "19  [Samsung Pay and Apple Pay: Explaining Contact...           1037   \n",
       "20  [Ways to get Funding for Your Business Idea, S...           1105   \n",
       "21  [Top 6 Financing Options That Can Take Your Bu...           1970   \n",
       "22  [UBS completes takeover of Credit Suisse, How ...           1419   \n",
       "23  [Section 92 of the Income Tax Act, A Guide for...           1478   \n",
       "24  [5 Must-Know Reasons to Avail a Working Capita...           1571   \n",
       "25  [RBI Annual Report (2022-23): 5 Key Takeaways,...           1529   \n",
       "26  [RBI Annual Report (2022-23): 5 Key Takeaways,...           1396   \n",
       "27  [RBI expected to hold policy rate again at nex...           1976   \n",
       "28  [A Beginner’s Guide to Forex Trading in India,...           1845   \n",
       "29  [Financial Planning for Beginners, 10 Simple M...           1655   \n",
       "30  [The Intelligent Investor by Benjamin Graham, ...           1325   \n",
       "31  [Investment Strategies: Asset Allocation by Ag...           1312   \n",
       "32  [Risk Management - Meaning, Importance & Ways ...           1795   \n",
       "33  [Samsung Pay and Apple Pay: Explaining Contact...           1327   \n",
       "34  [India's Think360 make top AI Fintech Companie...           1601   \n",
       "35  [Fintech City will make Tamil Nadu an unparall...           1137   \n",
       "36  [Irdai to hold open house for insurtech, finte...           1679   \n",
       "37  [Anti-money laundering: Sebi releases fresh se...           1957   \n",
       "38  [RBI imposes Rs 2.2-crore penalty on Indian Ov...           1353   \n",
       "39  [Sebi comes out with disclosure formats for co...           1025   \n",
       "40  [Foreign giants on notice: Govt expects ₹2,000...           1543   \n",
       "41  [Growing for the future! Discussing the untapp...           1462   \n",
       "42  [Microfinance institutions' profitability to r...           1937   \n",
       "43  [Finmin explores options to allow firms to dep...           1190   \n",
       "44  [The Behavioral Science of Investing: Explorin...           1098   \n",
       "\n",
       "    number_gpt3-article  number_category: name  \n",
       "0                 34127                  34129  \n",
       "1                 27191                  27197  \n",
       "2                 24061                  24071  \n",
       "3                 23813                  23819  \n",
       "4                 18959                  18973  \n",
       "5                 34261                  34267  \n",
       "6                 19373                  19379  \n",
       "7                 17783                  17789  \n",
       "8                 20747                  20749  \n",
       "9                 28111                  28123  \n",
       "10                25117                  25121  \n",
       "11                17971                  17977  \n",
       "12                19031                  19037  \n",
       "13                17749                  17761  \n",
       "14                33329                  33331  \n",
       "15                22943                  22961  \n",
       "16                29021                  29023  \n",
       "17                24121                  24133  \n",
       "18                29251                  29269  \n",
       "19                18097                  18119  \n",
       "20                19477                  19483  \n",
       "21                37189                  37199  \n",
       "22                25771                  25793  \n",
       "23                26951                  26953  \n",
       "24                28859                  28867  \n",
       "25                28027                  28031  \n",
       "26                25309                  25321  \n",
       "27                37321                  37337  \n",
       "28                34537                  34543  \n",
       "29                30689                  30697  \n",
       "30                23827                  23831  \n",
       "31                23593                  23599  \n",
       "32                33533                  33547  \n",
       "33                23869                  23873  \n",
       "34                29473                  29483  \n",
       "35                20113                  20117  \n",
       "36                31177                  31181  \n",
       "37                36913                  36919  \n",
       "38                24373                  24379  \n",
       "39                17891                  17903  \n",
       "40                28349                  28351  \n",
       "41                26681                  26683  \n",
       "42                36541                  36551  \n",
       "43                21169                  21179  \n",
       "44                19391                  19403  "
      ]
     },
     "execution_count": 187,
     "metadata": {},
     "output_type": "execute_result"
    }
   ],
   "source": [
    "topic_comparison_df"
   ]
  },
  {
   "cell_type": "code",
   "execution_count": 207,
   "id": "bcc40fa8-b609-4a8b-8d40-a9e45f568228",
   "metadata": {
    "tags": []
   },
   "outputs": [],
   "source": [
    "from sql.PostgresDatabaseOperation import PostgresDatabaseOperation"
   ]
  },
  {
   "cell_type": "code",
   "execution_count": 209,
   "id": "bba03632-e68e-48c7-a76c-98b124b50df2",
   "metadata": {
    "tags": []
   },
   "outputs": [],
   "source": [
    "with PostgresDatabaseOperation() as cursor:\n",
    "    sql = \"\"\"SELECT source_name, COUNT(is_cleaned_completely) total, SUM(CAST(is_cleaned_completely AS INT)) clean \n",
    "    FROM article_qc_table\n",
    "    GROUP BY source_name\n",
    "    \"\"\"\n",
    "    cursor.execute(sql)\n",
    "    results = cursor.fetchall()\n",
    "    source_count_df = pd.DataFrame(results, columns = ['source_name', 'total', 'clean'])"
   ]
  },
  {
   "cell_type": "code",
   "execution_count": 210,
   "id": "1ce9b20e-db99-41cb-bdf0-81b6085193a1",
   "metadata": {
    "tags": []
   },
   "outputs": [
    {
     "data": {
      "text/html": [
       "<div>\n",
       "<style scoped>\n",
       "    .dataframe tbody tr th:only-of-type {\n",
       "        vertical-align: middle;\n",
       "    }\n",
       "\n",
       "    .dataframe tbody tr th {\n",
       "        vertical-align: top;\n",
       "    }\n",
       "\n",
       "    .dataframe thead th {\n",
       "        text-align: right;\n",
       "    }\n",
       "</style>\n",
       "<table border=\"1\" class=\"dataframe\">\n",
       "  <thead>\n",
       "    <tr style=\"text-align: right;\">\n",
       "      <th></th>\n",
       "      <th>source_name</th>\n",
       "      <th>total</th>\n",
       "      <th>clean</th>\n",
       "    </tr>\n",
       "  </thead>\n",
       "  <tbody>\n",
       "    <tr>\n",
       "      <th>0</th>\n",
       "      <td>economic-times</td>\n",
       "      <td>4</td>\n",
       "      <td>4</td>\n",
       "    </tr>\n",
       "    <tr>\n",
       "      <th>1</th>\n",
       "      <td>wint-wealth</td>\n",
       "      <td>1</td>\n",
       "      <td>0</td>\n",
       "    </tr>\n",
       "    <tr>\n",
       "      <th>2</th>\n",
       "      <td>live-mint</td>\n",
       "      <td>3</td>\n",
       "      <td>0</td>\n",
       "    </tr>\n",
       "  </tbody>\n",
       "</table>\n",
       "</div>"
      ],
      "text/plain": [
       "      source_name  total  clean\n",
       "0  economic-times      4      4\n",
       "1     wint-wealth      1      0\n",
       "2       live-mint      3      0"
      ]
     },
     "execution_count": 210,
     "metadata": {},
     "output_type": "execute_result"
    }
   ],
   "source": [
    "source_count_df"
   ]
  },
  {
   "cell_type": "code",
   "execution_count": 217,
   "id": "d74053e2-4fbe-44ef-85ca-12ad2c6c9bf4",
   "metadata": {
    "tags": []
   },
   "outputs": [
    {
     "data": {
      "text/plain": [
       "{'economic-times': 4, 'wint-wealth': 1, 'live-mint': 3}"
      ]
     },
     "execution_count": 217,
     "metadata": {},
     "output_type": "execute_result"
    }
   ],
   "source": [
    "source_count_df[['source_name','total']].set_index('source_name').to_dict()['total']"
   ]
  },
  {
   "cell_type": "code",
   "execution_count": 156,
   "id": "8044c883-fa03-4720-8ef3-6b4d56536f0f",
   "metadata": {
    "tags": []
   },
   "outputs": [
    {
     "name": "stdout",
     "output_type": "stream",
     "text": [
      "Requirement already satisfied: sympy in /Users/ravi.tej/anaconda3/envs/recoenv/lib/python3.11/site-packages (1.11.1)\n",
      "Requirement already satisfied: mpmath>=0.19 in /Users/ravi.tej/anaconda3/envs/recoenv/lib/python3.11/site-packages (from sympy) (1.3.0)\n"
     ]
    }
   ],
   "source": [
    "!pip install sympy"
   ]
  },
  {
   "cell_type": "code",
   "execution_count": 162,
   "id": "6dc31b06-500e-42eb-a551-8b8fec787e60",
   "metadata": {
    "tags": []
   },
   "outputs": [
    {
     "name": "stdout",
     "output_type": "stream",
     "text": [
      "The number 29 is the 10th prime.\n"
     ]
    }
   ],
   "source": [
    "from sympy import primepi, isprime\n",
    "\n",
    "def find_prime_position(number):\n",
    "    # First, check if the number is prime, as primepi function counts the primes less than or equal to the number\n",
    "    # and doesn't directly give the position of a specific prime.\n",
    "    if isprime(number):\n",
    "        # If the number is prime, find its position among primes.\n",
    "        position = primepi(number)\n",
    "        return position\n",
    "    else:\n",
    "        return None  # or raise an exception, or any other way you'd like to handle non-prime numbers\n",
    "\n",
    "# Test with a prime number\n",
    "prime_number = 29\n",
    "position = find_prime_position(prime_number)\n",
    "\n",
    "if position:\n",
    "    print(f\"The number {prime_number} is the {position}th prime.\")\n",
    "else:\n",
    "    print(f\"The number {prime_number} is not a prime.\")"
   ]
  },
  {
   "cell_type": "code",
   "execution_count": 157,
   "id": "e3c51474-c573-464c-a8db-d24467796d39",
   "metadata": {
    "tags": []
   },
   "outputs": [],
   "source": [
    "from sympy import prime"
   ]
  },
  {
   "cell_type": "code",
   "execution_count": 200,
   "id": "cb6becd3-a523-4372-8563-7ce67f35c2f1",
   "metadata": {
    "tags": []
   },
   "outputs": [],
   "source": [
    "def format_text(x):\n",
    "    x = x.replace(\"{\",'')\n",
    "    x = x.replace(\"}\",'')\n",
    "    x = x.replace(\"[\",'')\n",
    "    x = x.replace(\"]\",'')\n",
    "    x = x.replace(\"'\",'')\n",
    "    x = x.replace(':', ' -> ')\n",
    "    x = x.replace(',', ' \\n ')\n",
    "    return x"
   ]
  },
  {
   "cell_type": "code",
   "execution_count": 197,
   "id": "c3e71efb-f047-4309-b0c8-16265144db56",
   "metadata": {
    "tags": []
   },
   "outputs": [],
   "source": [
    "format_text(str(topic_comparison_df.iloc[0]['cluster_priors_gpt3-article']))"
   ]
  },
  {
   "cell_type": "code",
   "execution_count": 201,
   "id": "f8221ff2-420f-4a94-884a-bce4208d1ec4",
   "metadata": {
    "tags": []
   },
   "outputs": [
    {
     "data": {
      "text/plain": [
       "0     bank_rbi_loan_credit_banks ->  3.39 \\n  crypto...\n",
       "1     bank_rbi_loan_credit_banks ->  4.03 \\n  air_fl...\n",
       "2     pension_epfo_higher_eps_eps pension ->  2.22 \\...\n",
       "3     bank_rbi_loan_credit_banks ->  2.43 \\n  gst_ta...\n",
       "4     irdai_life_insurance_insurers_lic ->  2.37 \\n ...\n",
       "5     bank_rbi_loan_credit_banks ->  3.1 \\n  irdai_l...\n",
       "6     stocks_52 week_52_week_nifty ->  3.13 \\n  cryp...\n",
       "7     stocks_52 week_52_week_nifty ->  2.97 \\n  ipo_...\n",
       "8     stocks_52 week_52_week_nifty ->  2.88 \\n  bank...\n",
       "9     crypto_target price_price rs_bitcoin_buy ->  2...\n",
       "10    projects_cr_fpis_rs_equities ->  2.16 \\n  ipo_...\n",
       "11    bank_rbi_loan_credit_banks ->  3.34 \\n  ipo_ad...\n",
       "12    stocks_52 week_52_week_nifty ->  2.54 \\n  cryp...\n",
       "13    crypto_target price_price rs_bitcoin_buy ->  2...\n",
       "14    bank_rbi_loan_credit_banks ->  4.2 \\n  crypto_...\n",
       "15    bank_rbi_loan_credit_banks ->  4.65 \\n  crypto...\n",
       "16    bank_rbi_loan_credit_banks ->  5.0 \\n  air_fli...\n",
       "17    bank_rbi_loan_credit_banks ->  5.0 \\n  air_fli...\n",
       "18    bank_rbi_loan_credit_banks ->  5.0 \\n  gst_tax...\n",
       "19    bank_rbi_loan_credit_banks ->  4.02 \\n  crypto...\n",
       "20    bank_rbi_loan_credit_banks ->  3.37 \\n  ipo_ad...\n",
       "21    bank_rbi_loan_credit_banks ->  3.79 \\n  crypto...\n",
       "22    bank_rbi_loan_credit_banks ->  2.66 \\n  ipo_ad...\n",
       "23    gst_tax_pli_gst council_dpiit ->  2.89 \\n  ban...\n",
       "24    bank_rbi_loan_credit_banks ->  3.36 \\n  crypto...\n",
       "25    trade_exports_uk_fta_india ->  2.62 \\n  inflat...\n",
       "26    inflation_growth_rate_fed_fy24 ->  2.9 \\n  ban...\n",
       "27    inflation_growth_rate_fed_fy24 ->  3.46 \\n  ba...\n",
       "28    trade_exports_uk_fta_india ->  3.45 \\n  inflat...\n",
       "29    bank_rbi_loan_credit_banks ->  3.49 \\n  air_fl...\n",
       "30    bank_rbi_loan_credit_banks ->  2.77 \\n  stocks...\n",
       "31    stocks_52 week_52_week_nifty ->  2.72 \\n  cryp...\n",
       "32    bank_rbi_loan_credit_banks ->  3.22 \\n  air_fl...\n",
       "33    bank_rbi_loan_credit_banks ->  3.83 \\n  air_fl...\n",
       "34    bank_rbi_loan_credit_banks ->  2.66 \\n  stocks...\n",
       "35    bank_rbi_loan_credit_banks ->  2.86 \\n  crypto...\n",
       "36    irdai_life_insurance_insurers_lic ->  2.36 \\n ...\n",
       "37    sebi_case_case sebi_entities_disclosure ->  3....\n",
       "38    bank_rbi_loan_credit_banks ->  3.47 \\n  sebi_c...\n",
       "39    bank_rbi_loan_credit_banks ->  2.55 \\n  sebi_c...\n",
       "40    gst_tax_pli_gst council_dpiit ->  2.99 \\n  seb...\n",
       "41    bank_rbi_loan_credit_banks ->  3.92 \\n  trade_...\n",
       "42    bank_rbi_loan_credit_banks ->  4.25 \\n  air_fl...\n",
       "43    bank_rbi_loan_credit_banks ->  2.8 \\n  oil_gas...\n",
       "44    bank_rbi_loan_credit_banks ->  3.08 \\n  crypto...\n",
       "Name: cluster_priors_gpt3-article, dtype: object"
      ]
     },
     "execution_count": 201,
     "metadata": {},
     "output_type": "execute_result"
    }
   ],
   "source": [
    "topic_comparison_df['cluster_priors_gpt3-article'].apply(lambda x: format_text(str(x)))"
   ]
  },
  {
   "cell_type": "code",
   "execution_count": 189,
   "id": "b4635648-90fc-467a-ba1d-cf7d332580c4",
   "metadata": {},
   "outputs": [],
   "source": [
    "import requests\n",
    "import random\n",
    "\n",
    "# Set up your headers with your Typeform API key\n",
    "headers = {\n",
    "    'Authorization': 'Bearer ',\n",
    "    'Content-Type': 'application/json',\n",
    "}\n",
    "\n",
    "base_url = 'https://api.typeform.com/forms'\n",
    "\n",
    "def create_form(df, num_sample = 10):\n",
    "    form_data = {\n",
    "        'title': 'Survey',\n",
    "        'type': 'quiz',\n",
    "        'fields': [],\n",
    "        'show_progress_bar': True,\n",
    "        'show_question_number': True\n",
    "    }\n",
    "\n",
    "    # Construct fields based on dataframe rows\n",
    "    for _, row in df.sample(num_sample).iterrows():\n",
    "        # Prepare choices, shuffling to ensure randomness\n",
    "        choices_labels = [row['Cluster1'], row['Cluster2']]\n",
    "        random.shuffle(choices_labels)  # Randomize or shuffle the choices\n",
    "        choices = [{'label': label} for label in choices_labels]\n",
    "\n",
    "        # Building the question field\n",
    "        field = {\n",
    "            'type': 'multiple_choice',\n",
    "            'title': 'some title',\n",
    "            'properties': {'description': row['Topic'], 'choices': choices, 'allow_multiple_selection': False, 'vertical_alignment': False, 'button_text': 'Next'}\n",
    "        }\n",
    "\n",
    "        # Append the constructed field to the form fields\n",
    "        form_data['fields'].append(field)\n",
    "\n",
    "\n",
    "    # Post the form data to Typeform's API to create a new form\n",
    "    response = requests.post(base_url, headers=headers, json=form_data)\n",
    "\n",
    "    if response.status_code == 201:  # A '201 Created' status indicates that the form was successfully created.\n",
    "        print(\"Form created successfully!\")\n",
    "\n",
    "        # The response body (JSON) from Typeform once the form is created contains the URL among other data.\n",
    "        form_response = response.json()\n",
    "\n",
    "        # Extract the URL of the newly created form. Usually, it can be found under the '_links' section in the key named 'display'.\n",
    "        form_url = form_response.get('_links', {}).get('display', '')\n",
    "\n",
    "        print(f\"Your new form is live at: {form_url}\")\n",
    "\n",
    "        return form_url  # You might want to return this URL for use in other parts of your application.\n",
    "    else:\n",
    "        print(f\"Failed to create form. Status code: {response.status_code}, Message: {response.text}\")\n",
    "        return None "
   ]
  },
  {
   "cell_type": "code",
   "execution_count": 120,
   "id": "cfbb6be0-f2c1-4c64-86ca-8fe4adc434b6",
   "metadata": {
    "tags": []
   },
   "outputs": [
    {
     "data": {
      "text/plain": [
       "{'stocks_52 week_52_week_nifty': 2.97,\n",
       " 'ipo_adani_papers_papers sebi_power': 2.2,\n",
       " 'crypto_target price_price rs_bitcoin_buy': 1.76,\n",
       " 'sebi_case_case sebi_entities_disclosure': 1.72,\n",
       " 'projects_cr_fpis_rs_equities': 1.54,\n",
       " 'air_flight_airport_air india_india': 1.47}"
      ]
     },
     "execution_count": 120,
     "metadata": {},
     "output_type": "execute_result"
    }
   ],
   "source": [
    "get_cluster_priors_for_topic(topic_id=8, approach_name='gpt3-article')"
   ]
  },
  {
   "cell_type": "code",
   "execution_count": 121,
   "id": "1f077988-51a7-4068-a38d-353674803c27",
   "metadata": {
    "tags": []
   },
   "outputs": [
    {
     "data": {
      "text/plain": [
       "{'stocks_52 week_52_week_nifty': 2.86,\n",
       " 'projects_cr_fpis_rs_equities': 2.15,\n",
       " 'ipo_adani_papers_papers sebi_power': 2.13,\n",
       " 'crypto_target price_price rs_bitcoin_buy': 1.71,\n",
       " 'inflation_growth_rate_fed_fy24': 1.56}"
      ]
     },
     "execution_count": 121,
     "metadata": {},
     "output_type": "execute_result"
    }
   ],
   "source": []
  },
  {
   "cell_type": "code",
   "execution_count": 126,
   "id": "c9b607fb-3e9e-4fd3-af03-dc5856ceec98",
   "metadata": {
    "tags": []
   },
   "outputs": [],
   "source": [
    "_, top_articles, _  = get_top_articles_for_topic(topic_id = 8, approach_name='gpt3-article')"
   ]
  },
  {
   "cell_type": "code",
   "execution_count": 123,
   "id": "5c698f18-681d-495d-aeab-2986e02acfa8",
   "metadata": {
    "tags": []
   },
   "outputs": [
    {
     "data": {
      "text/plain": [
       "('Investment: Equities',\n",
       " ['Why You Should Choose Equity Over FDs, Gold & Real Estate',\n",
       "  'Mutual funds invest Rs 1.82 lakh cr in equities in FY23 on strong push from retail investors',\n",
       "  \"A Beginner's Guide to Equity Investment\",\n",
       "  'Retail investors’ ever-lasting love for equity mutual funds continues to blossom | Mint',\n",
       "  'Retail investors’ ever-lasting love for equity mutual funds continues to blossom | Mint',\n",
       "  'Better to play real estate through related sectors: KR Senthilnathan, NAFA',\n",
       "  '5 Rules of Equity Investment',\n",
       "  'Best Investment Options in India in 2023',\n",
       "  'Investing in mutual funds in India: Why 2023 is the year to take action',\n",
       "  'How to Invest in Mutual Funds Online - A Complete Guide',\n",
       "  'FPIs buying spree continues; invest Rs 9,800 cr in equities this month',\n",
       "  '7 Debt Investment Options Which Give Decent Returns in India - 2023',\n",
       "  'Long Term Capital Gain on Mutual Funds - Tax Exemptions and Calculations',\n",
       "  'Short-Term vs Long-Term Investments - Which Is Better?',\n",
       "  'Short-Term capital gains on Mutual Funds: Tax Implications',\n",
       "  '13 Benefits of Equity Shares Investment',\n",
       "  'Beginners Stock Market Guide - Start Investing in Stocks',\n",
       "  'ETMarkets Fund Manager Talk: Don’t see any reversal in FII inflows into equities in the near term: Bharti ',\n",
       "  'Investing in Initial Public Offerings (IPOs) - Good or Bad?￼',\n",
       "  'What are the Types Of Fixed Income Securities in India'],\n",
       " [0.729655309409255,\n",
       "  0.7077575481969602,\n",
       "  0.7053595774640345,\n",
       "  0.6928817577840765,\n",
       "  0.6928817577840765,\n",
       "  0.6916505394693309,\n",
       "  0.6900975825961835,\n",
       "  0.6875967010455517,\n",
       "  0.6839106560307093,\n",
       "  0.6794254162315767,\n",
       "  0.677140340926111,\n",
       "  0.6766338425477153,\n",
       "  0.676121783917708,\n",
       "  0.6757998705316921,\n",
       "  0.6753712886752598,\n",
       "  0.6717814835366518,\n",
       "  0.6713388473927089,\n",
       "  0.6708897323509677,\n",
       "  0.6706773539962698,\n",
       "  0.6698444915839008])"
      ]
     },
     "execution_count": 123,
     "metadata": {},
     "output_type": "execute_result"
    }
   ],
   "source": [
    "get_top_articles_for_topic(topic_id = 8, approach_name='category: name')"
   ]
  },
  {
   "cell_type": "code",
   "execution_count": 117,
   "id": "8f41dc8f-3161-4d0e-a15d-7d70f8b0894c",
   "metadata": {
    "tags": []
   },
   "outputs": [],
   "source": [
    "from src.embeddings._utils import get_article_metadata_from_api\n",
    "def get_metadata_for_title(title):\n",
    "    df = emb_df[emb_df.title == title]\n",
    "    if not df.empty:\n",
    "        article_id = df.iloc[0].article_id\n",
    "        return get_article_metadata_from_api(article_id)"
   ]
  },
  {
   "cell_type": "code",
   "execution_count": 88,
   "id": "bcaed2bf-81de-4c82-ad87-705c642a7126",
   "metadata": {
    "tags": []
   },
   "outputs": [
    {
     "data": {
      "text/html": [
       "<div>\n",
       "<style scoped>\n",
       "    .dataframe tbody tr th:only-of-type {\n",
       "        vertical-align: middle;\n",
       "    }\n",
       "\n",
       "    .dataframe tbody tr th {\n",
       "        vertical-align: top;\n",
       "    }\n",
       "\n",
       "    .dataframe thead th {\n",
       "        text-align: right;\n",
       "    }\n",
       "</style>\n",
       "<table border=\"1\" class=\"dataframe\">\n",
       "  <thead>\n",
       "    <tr style=\"text-align: right;\">\n",
       "      <th></th>\n",
       "      <th>id</th>\n",
       "      <th>topic_id</th>\n",
       "      <th>description</th>\n",
       "      <th>approach_name</th>\n",
       "      <th>created_at</th>\n",
       "    </tr>\n",
       "  </thead>\n",
       "  <tbody>\n",
       "    <tr>\n",
       "      <th>0</th>\n",
       "      <td>1</td>\n",
       "      <td>1</td>\n",
       "      <td>Personal Finance: Budgeting &amp; Saving</td>\n",
       "      <td>category: name</td>\n",
       "      <td>2023-10-19 06:44:48.089906+00:00</td>\n",
       "    </tr>\n",
       "    <tr>\n",
       "      <th>1</th>\n",
       "      <td>2</td>\n",
       "      <td>2</td>\n",
       "      <td>Personal Finance: Debt Management</td>\n",
       "      <td>category: name</td>\n",
       "      <td>2023-10-19 06:44:48.089906+00:00</td>\n",
       "    </tr>\n",
       "    <tr>\n",
       "      <th>2</th>\n",
       "      <td>3</td>\n",
       "      <td>3</td>\n",
       "      <td>Personal Finance: Retirement Planning</td>\n",
       "      <td>category: name</td>\n",
       "      <td>2023-10-19 06:44:48.089906+00:00</td>\n",
       "    </tr>\n",
       "    <tr>\n",
       "      <th>3</th>\n",
       "      <td>4</td>\n",
       "      <td>4</td>\n",
       "      <td>Personal Finance: Tax Planning</td>\n",
       "      <td>category: name</td>\n",
       "      <td>2023-10-19 06:44:48.089906+00:00</td>\n",
       "    </tr>\n",
       "    <tr>\n",
       "      <th>4</th>\n",
       "      <td>5</td>\n",
       "      <td>5</td>\n",
       "      <td>Personal Finance: Insurance (Life, Health, Aut...</td>\n",
       "      <td>category: name</td>\n",
       "      <td>2023-10-19 06:44:48.089906+00:00</td>\n",
       "    </tr>\n",
       "    <tr>\n",
       "      <th>...</th>\n",
       "      <td>...</td>\n",
       "      <td>...</td>\n",
       "      <td>...</td>\n",
       "      <td>...</td>\n",
       "      <td>...</td>\n",
       "    </tr>\n",
       "    <tr>\n",
       "      <th>85</th>\n",
       "      <td>92</td>\n",
       "      <td>39</td>\n",
       "      <td>. Introduction: RBI regulations refer to the g...</td>\n",
       "      <td>gpt3-article</td>\n",
       "      <td>2023-10-19 10:50:42.207429+00:00</td>\n",
       "    </tr>\n",
       "    <tr>\n",
       "      <th>86</th>\n",
       "      <td>93</td>\n",
       "      <td>40</td>\n",
       "      <td>. Introduction: Financial Audits  Reporting is...</td>\n",
       "      <td>gpt3-article</td>\n",
       "      <td>2023-10-19 10:50:42.207429+00:00</td>\n",
       "    </tr>\n",
       "    <tr>\n",
       "      <th>87</th>\n",
       "      <td>95</td>\n",
       "      <td>42</td>\n",
       "      <td>. Introduction  Agricultural Finance is a spec...</td>\n",
       "      <td>gpt3-article</td>\n",
       "      <td>2023-10-19 10:50:42.207429+00:00</td>\n",
       "    </tr>\n",
       "    <tr>\n",
       "      <th>88</th>\n",
       "      <td>97</td>\n",
       "      <td>44</td>\n",
       "      <td>. Introduction: Sustainable  Green Finance is ...</td>\n",
       "      <td>gpt3-article</td>\n",
       "      <td>2023-10-19 10:50:42.207429+00:00</td>\n",
       "    </tr>\n",
       "    <tr>\n",
       "      <th>89</th>\n",
       "      <td>98</td>\n",
       "      <td>45</td>\n",
       "      <td>. Introduction: Behavioral Finance is a specia...</td>\n",
       "      <td>gpt3-article</td>\n",
       "      <td>2023-10-19 10:50:42.207429+00:00</td>\n",
       "    </tr>\n",
       "  </tbody>\n",
       "</table>\n",
       "<p>90 rows × 5 columns</p>\n",
       "</div>"
      ],
      "text/plain": [
       "    id  topic_id                                        description  \\\n",
       "0    1         1               Personal Finance: Budgeting & Saving   \n",
       "1    2         2                  Personal Finance: Debt Management   \n",
       "2    3         3              Personal Finance: Retirement Planning   \n",
       "3    4         4                     Personal Finance: Tax Planning   \n",
       "4    5         5  Personal Finance: Insurance (Life, Health, Aut...   \n",
       "..  ..       ...                                                ...   \n",
       "85  92        39  . Introduction: RBI regulations refer to the g...   \n",
       "86  93        40  . Introduction: Financial Audits  Reporting is...   \n",
       "87  95        42  . Introduction  Agricultural Finance is a spec...   \n",
       "88  97        44  . Introduction: Sustainable  Green Finance is ...   \n",
       "89  98        45  . Introduction: Behavioral Finance is a specia...   \n",
       "\n",
       "     approach_name                       created_at  \n",
       "0   category: name 2023-10-19 06:44:48.089906+00:00  \n",
       "1   category: name 2023-10-19 06:44:48.089906+00:00  \n",
       "2   category: name 2023-10-19 06:44:48.089906+00:00  \n",
       "3   category: name 2023-10-19 06:44:48.089906+00:00  \n",
       "4   category: name 2023-10-19 06:44:48.089906+00:00  \n",
       "..             ...                              ...  \n",
       "85    gpt3-article 2023-10-19 10:50:42.207429+00:00  \n",
       "86    gpt3-article 2023-10-19 10:50:42.207429+00:00  \n",
       "87    gpt3-article 2023-10-19 10:50:42.207429+00:00  \n",
       "88    gpt3-article 2023-10-19 10:50:42.207429+00:00  \n",
       "89    gpt3-article 2023-10-19 10:50:42.207429+00:00  \n",
       "\n",
       "[90 rows x 5 columns]"
      ]
     },
     "execution_count": 88,
     "metadata": {},
     "output_type": "execute_result"
    }
   ],
   "source": [
    "representations_df"
   ]
  },
  {
   "cell_type": "code",
   "execution_count": null,
   "id": "be7a2420-a146-49f7-80dd-2873abf67105",
   "metadata": {},
   "outputs": [],
   "source": []
  }
 ],
 "metadata": {
  "kernelspec": {
   "display_name": "recoenv",
   "language": "python",
   "name": "recoenv"
  },
  "language_info": {
   "codemirror_mode": {
    "name": "ipython",
    "version": 3
   },
   "file_extension": ".py",
   "mimetype": "text/x-python",
   "name": "python",
   "nbconvert_exporter": "python",
   "pygments_lexer": "ipython3",
   "version": "3.11.5"
  }
 },
 "nbformat": 4,
 "nbformat_minor": 5
}
