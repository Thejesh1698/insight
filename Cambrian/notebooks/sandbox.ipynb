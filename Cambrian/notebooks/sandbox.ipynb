{
 "cells": [
  {
   "cell_type": "code",
   "execution_count": 1,
   "id": "525eb1d0-a869-479e-80bc-6e379d64c8ce",
   "metadata": {
    "tags": []
   },
   "outputs": [],
   "source": [
    "import enum\n",
    "\n",
    "\n",
    "class ContentType(enum.Enum):\n",
    "    article = 'ARTICLE'\n",
    "    podcast_episode = 'PODCAST_EPISODE'"
   ]
  },
  {
   "cell_type": "code",
   "execution_count": 4,
   "id": "4a6d5ebe-eb60-4872-af0c-63905ab4a4bc",
   "metadata": {
    "tags": []
   },
   "outputs": [
    {
     "data": {
      "text/plain": [
       "'ARTICLE'"
      ]
     },
     "execution_count": 4,
     "metadata": {},
     "output_type": "execute_result"
    }
   ],
   "source": [
    "ContentType.article.value"
   ]
  },
  {
   "cell_type": "code",
   "execution_count": null,
   "id": "2d3390d7-4294-4e3a-b47f-1d5f9b43d19a",
   "metadata": {},
   "outputs": [],
   "source": []
  }
 ],
 "metadata": {
  "kernelspec": {
   "display_name": "recoenv",
   "language": "python",
   "name": "recoenv"
  },
  "language_info": {
   "codemirror_mode": {
    "name": "ipython",
    "version": 3
   },
   "file_extension": ".py",
   "mimetype": "text/x-python",
   "name": "python",
   "nbconvert_exporter": "python",
   "pygments_lexer": "ipython3",
   "version": "3.11.5"
  }
 },
 "nbformat": 4,
 "nbformat_minor": 5
}
