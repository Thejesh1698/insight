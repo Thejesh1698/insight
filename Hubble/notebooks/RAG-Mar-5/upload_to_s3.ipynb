{
 "cells": [
  {
   "cell_type": "code",
   "execution_count": 1,
   "id": "6f2b3b37-ea58-41d6-bbbe-5f5267675d9a",
   "metadata": {
    "tags": []
   },
   "outputs": [],
   "source": [
    "parent_folder = '/Users/ravi.tej/Desktop/ML/Recommendations/hubble/'\n",
    "from hydra import compose, initialize\n",
    "import os\n",
    "\n",
    "import xml.etree.ElementTree as ET\n",
    "\n",
    "tree = ET.parse('../../conf/application.run.xml')\n",
    "root = tree.getroot()\n",
    "\n",
    "envs_element = root.find('./configuration/envs')\n",
    "for variable in envs_element.findall('env'):\n",
    "    name = variable.get('name')\n",
    "    value = variable.get('value')\n",
    "    os.environ[name] = value\n",
    "\n",
    "import sys\n",
    "sys.path.append('/Users/ravi.tej/Desktop/ML/Recommendations/hubble/')\n",
    "import pandas as pd\n",
    "\n",
    "os.environ['PATH'] = '/Users/ravi.tej/anaconda3/envs/bertopicenv/bin:/Users/ravi.tej/anaconda3/condabin:/usr/bin:/bin:/usr/sbin:/sbin'"
   ]
  },
  {
   "cell_type": "code",
   "execution_count": 2,
   "id": "0fe778be-9690-4a6f-be26-cd28bf257fa9",
   "metadata": {
    "tags": []
   },
   "outputs": [
    {
     "name": "stdout",
     "output_type": "stream",
     "text": [
      "sagemaker.config INFO - Not applying SDK defaults from location: /Library/Application Support/sagemaker/config.yaml\n",
      "sagemaker.config INFO - Not applying SDK defaults from location: /Users/ravi.tej/Library/Application Support/sagemaker/config.yaml\n"
     ]
    }
   ],
   "source": [
    "from src.RAGTraining.S3DatasetService import S3DatasetService"
   ]
  },
  {
   "cell_type": "code",
   "execution_count": 3,
   "id": "ec34a756-169e-49aa-a68f-dca4c893751b",
   "metadata": {
    "scrolled": true,
    "tags": []
   },
   "outputs": [],
   "source": [
    "# !pip install s3fs"
   ]
  },
  {
   "cell_type": "code",
   "execution_count": 4,
   "id": "8044d0ea-cc6a-4fa0-be3f-da194a6f4742",
   "metadata": {
    "tags": []
   },
   "outputs": [
    {
     "name": "stderr",
     "output_type": "stream",
     "text": [
      "Special tokens have been added in the vocabulary, make sure the associated word embeddings are fine-tuned or trained.\n",
      "Special tokens have been added in the vocabulary, make sure the associated word embeddings are fine-tuned or trained.\n"
     ]
    }
   ],
   "source": [
    "s3_openhermes = S3DatasetService(hf_model_id = 'teknium/OpenHermes-2.5-Mistral-7B',cleaned_responses_path='./gpt-4-cleaned_responses_v1.csv')"
   ]
  },
  {
   "cell_type": "code",
   "execution_count": 5,
   "id": "4e34f4ee-5808-4611-9dae-680ec7c184a1",
   "metadata": {
    "tags": []
   },
   "outputs": [
    {
     "data": {
      "text/html": [
       "<div>\n",
       "<style scoped>\n",
       "    .dataframe tbody tr th:only-of-type {\n",
       "        vertical-align: middle;\n",
       "    }\n",
       "\n",
       "    .dataframe tbody tr th {\n",
       "        vertical-align: top;\n",
       "    }\n",
       "\n",
       "    .dataframe thead th {\n",
       "        text-align: right;\n",
       "    }\n",
       "</style>\n",
       "<table border=\"1\" class=\"dataframe\">\n",
       "  <thead>\n",
       "    <tr style=\"text-align: right;\">\n",
       "      <th></th>\n",
       "      <th>query</th>\n",
       "      <th>query_date</th>\n",
       "      <th>system_prompt</th>\n",
       "      <th>user_prompt</th>\n",
       "      <th>model</th>\n",
       "      <th>model_response</th>\n",
       "      <th>input_tokens</th>\n",
       "      <th>output_tokens</th>\n",
       "      <th>cleaned_response</th>\n",
       "      <th>headline</th>\n",
       "      <th>headline_removed_responses</th>\n",
       "      <th>cleaned_headline_removed_responses</th>\n",
       "      <th>apologies</th>\n",
       "      <th>has_ref</th>\n",
       "      <th>has_question</th>\n",
       "      <th>flagged</th>\n",
       "      <th>cleaned_responses_without_citations</th>\n",
       "    </tr>\n",
       "  </thead>\n",
       "  <tbody>\n",
       "    <tr>\n",
       "      <th>882</th>\n",
       "      <td>Personal loan</td>\n",
       "      <td>2024-01-10T03:37:08</td>\n",
       "      <td>You are an Indian finance and business expert ...</td>\n",
       "      <td>|| user_query: Personal loan || today date: 1...</td>\n",
       "      <td>gpt-4-0125-preview</td>\n",
       "      <td>\"**Quick Insights**\\n\\nWhen applying for a per...</td>\n",
       "      <td>4276</td>\n",
       "      <td>135</td>\n",
       "      <td>**Quick Insights**&lt;br&gt;&lt;br&gt;When applying for a ...</td>\n",
       "      <td>Quick Insights</td>\n",
       "      <td>When applying for a personal loan, avoid these...</td>\n",
       "      <td>When applying for a personal loan, avoid these...</td>\n",
       "      <td>False</td>\n",
       "      <td>True</td>\n",
       "      <td>False</td>\n",
       "      <td>False</td>\n",
       "      <td>When applying for a personal loan, avoid these...</td>\n",
       "    </tr>\n",
       "    <tr>\n",
       "      <th>363</th>\n",
       "      <td>How to invest in bonds</td>\n",
       "      <td>2024-01-07T08:07:26</td>\n",
       "      <td>You are an Indian finance and business expert ...</td>\n",
       "      <td>|| user_query: How to invest in bonds || toda...</td>\n",
       "      <td>gpt-4-0125-preview</td>\n",
       "      <td>\"### How to Invest in Bonds: A Step-by-Step Gu...</td>\n",
       "      <td>5118</td>\n",
       "      <td>350</td>\n",
       "      <td>** How to Invest in Bonds: A Step-by-Step Guid...</td>\n",
       "      <td>NaN</td>\n",
       "      <td>** How to Invest in Bonds: A Step-by-Step Guid...</td>\n",
       "      <td>** How to Invest in Bonds: A Step-by-Step Guid...</td>\n",
       "      <td>False</td>\n",
       "      <td>True</td>\n",
       "      <td>False</td>\n",
       "      <td>False</td>\n",
       "      <td>** How to Invest in Bonds: A Step-by-Step Guid...</td>\n",
       "    </tr>\n",
       "    <tr>\n",
       "      <th>410</th>\n",
       "      <td>Bihar economy</td>\n",
       "      <td>2024-01-02T04:09:43</td>\n",
       "      <td>You are an Indian finance and business expert ...</td>\n",
       "      <td>|| user_query: Bihar economy || today date: 0...</td>\n",
       "      <td>gpt-4-0125-preview</td>\n",
       "      <td>\"**Explainer: An Overview of Bihar's Economic ...</td>\n",
       "      <td>2562</td>\n",
       "      <td>431</td>\n",
       "      <td>**Explainer: An Overview of Bihar's Economic L...</td>\n",
       "      <td>Explainer: An Overview of Bihar's Economic Lan...</td>\n",
       "      <td>Bihar's economy has been a focal point due to ...</td>\n",
       "      <td>Bihar's economy has been a focal point due to ...</td>\n",
       "      <td>False</td>\n",
       "      <td>True</td>\n",
       "      <td>False</td>\n",
       "      <td>False</td>\n",
       "      <td>Bihar's economy has been a focal point due to ...</td>\n",
       "    </tr>\n",
       "    <tr>\n",
       "      <th>633</th>\n",
       "      <td>Wipro</td>\n",
       "      <td>2024-02-08T09:36:54</td>\n",
       "      <td>You are an Indian finance and business expert ...</td>\n",
       "      <td>|| user_query: Wipro || today date: 08 Februa...</td>\n",
       "      <td>gpt-4-0125-preview</td>\n",
       "      <td>\"What is the latest update on Wipro's share pr...</td>\n",
       "      <td>4881</td>\n",
       "      <td>83</td>\n",
       "      <td>What is the latest update on Wipro's share pri...</td>\n",
       "      <td>Quick Insights</td>\n",
       "      <td>- As of the latest update on 31 October 2023, ...</td>\n",
       "      <td>- As of the latest update on 31 October 2023, ...</td>\n",
       "      <td>False</td>\n",
       "      <td>True</td>\n",
       "      <td>False</td>\n",
       "      <td>False</td>\n",
       "      <td>- As of the latest update on 31 October 2023, ...</td>\n",
       "    </tr>\n",
       "    <tr>\n",
       "      <th>472</th>\n",
       "      <td>what's the best returns on investment</td>\n",
       "      <td>2024-01-04T10:55:08</td>\n",
       "      <td>You are an Indian finance and business expert ...</td>\n",
       "      <td>|| user_query: what's the best returns on inv...</td>\n",
       "      <td>gpt-4-0125-preview</td>\n",
       "      <td>\"**Quick Insights**&lt;br&gt;\\nThe best options for ...</td>\n",
       "      <td>4044</td>\n",
       "      <td>72</td>\n",
       "      <td>**Quick Insights**&lt;br&gt;&lt;br&gt;The best options for...</td>\n",
       "      <td>Quick Insights</td>\n",
       "      <td>The best options for safe investments with hig...</td>\n",
       "      <td>The best options for safe investments with hig...</td>\n",
       "      <td>False</td>\n",
       "      <td>True</td>\n",
       "      <td>False</td>\n",
       "      <td>False</td>\n",
       "      <td>The best options for safe investments with hig...</td>\n",
       "    </tr>\n",
       "    <tr>\n",
       "      <th>...</th>\n",
       "      <td>...</td>\n",
       "      <td>...</td>\n",
       "      <td>...</td>\n",
       "      <td>...</td>\n",
       "      <td>...</td>\n",
       "      <td>...</td>\n",
       "      <td>...</td>\n",
       "      <td>...</td>\n",
       "      <td>...</td>\n",
       "      <td>...</td>\n",
       "      <td>...</td>\n",
       "      <td>...</td>\n",
       "      <td>...</td>\n",
       "      <td>...</td>\n",
       "      <td>...</td>\n",
       "      <td>...</td>\n",
       "      <td>...</td>\n",
       "    </tr>\n",
       "    <tr>\n",
       "      <th>76</th>\n",
       "      <td>is modi good for economy</td>\n",
       "      <td>2024-02-02T20:35:48</td>\n",
       "      <td>You are an Indian finance and business expert ...</td>\n",
       "      <td>|| user_query: is modi good for economy || to...</td>\n",
       "      <td>gpt-4-0125-preview</td>\n",
       "      <td>\"Given the information at hand, Prime Minister...</td>\n",
       "      <td>2097</td>\n",
       "      <td>363</td>\n",
       "      <td>Given the information at hand, Prime Minister ...</td>\n",
       "      <td>Economic Resilience and Growth</td>\n",
       "      <td>- Modi highlighted India's economic resilience...</td>\n",
       "      <td>- Modi highlighted India's economic resilience...</td>\n",
       "      <td>False</td>\n",
       "      <td>True</td>\n",
       "      <td>False</td>\n",
       "      <td>False</td>\n",
       "      <td>- Modi highlighted India's economic resilience...</td>\n",
       "    </tr>\n",
       "    <tr>\n",
       "      <th>572</th>\n",
       "      <td>are you made by openai</td>\n",
       "      <td>2024-02-13T01:52:54</td>\n",
       "      <td>You are an Indian finance and business expert ...</td>\n",
       "      <td>|| user_query: are you made by openai || toda...</td>\n",
       "      <td>gpt-4-0125-preview</td>\n",
       "      <td>\"I'm sorry, but I can't fulfill this request.\"</td>\n",
       "      <td>3951</td>\n",
       "      <td>12</td>\n",
       "      <td>I'm sorry, but I can't fulfill this request.</td>\n",
       "      <td>NaN</td>\n",
       "      <td>I'm sorry, but I can't fulfill this request.</td>\n",
       "      <td>I'm sorry, but I can't fulfill this request.</td>\n",
       "      <td>True</td>\n",
       "      <td>False</td>\n",
       "      <td>False</td>\n",
       "      <td>False</td>\n",
       "      <td>I'm sorry, but I can't fulfill this request.</td>\n",
       "    </tr>\n",
       "    <tr>\n",
       "      <th>339</th>\n",
       "      <td>RELIANCE</td>\n",
       "      <td>2024-02-23T11:11:42</td>\n",
       "      <td>You are an Indian finance and business expert ...</td>\n",
       "      <td>|| user_query: RELIANCE || today date: 23 Feb...</td>\n",
       "      <td>gpt-4-0125-preview</td>\n",
       "      <td>\"**Explainer: Reliance Industries Limited (RIL...</td>\n",
       "      <td>5291</td>\n",
       "      <td>493</td>\n",
       "      <td>**Explainer: Reliance Industries Limited (RIL)...</td>\n",
       "      <td>Explainer: Reliance Industries Limited (RIL) O...</td>\n",
       "      <td>**Business Sectors and Innovations**&lt;br&gt;- **Di...</td>\n",
       "      <td>**Business Sectors and Innovations**&lt;br&gt;- **Di...</td>\n",
       "      <td>False</td>\n",
       "      <td>True</td>\n",
       "      <td>False</td>\n",
       "      <td>False</td>\n",
       "      <td>**Business Sectors and Innovations**&lt;br&gt;- **Di...</td>\n",
       "    </tr>\n",
       "    <tr>\n",
       "      <th>403</th>\n",
       "      <td>ULIP</td>\n",
       "      <td>2024-02-10T09:32:38</td>\n",
       "      <td>You are an Indian finance and business expert ...</td>\n",
       "      <td>|| user_query: ULIP || today date: 10 Februar...</td>\n",
       "      <td>gpt-4-0125-preview</td>\n",
       "      <td>\"**Explainer: Understanding Unit Linked Insura...</td>\n",
       "      <td>5881</td>\n",
       "      <td>329</td>\n",
       "      <td>**Explainer: Understanding Unit Linked Insuran...</td>\n",
       "      <td>Explainer: Understanding Unit Linked Insurance...</td>\n",
       "      <td>A Unit Linked Insurance Plan (ULIP) is a compo...</td>\n",
       "      <td>A Unit Linked Insurance Plan (ULIP) is a compo...</td>\n",
       "      <td>False</td>\n",
       "      <td>True</td>\n",
       "      <td>False</td>\n",
       "      <td>False</td>\n",
       "      <td>A Unit Linked Insurance Plan (ULIP) is a compo...</td>\n",
       "    </tr>\n",
       "    <tr>\n",
       "      <th>877</th>\n",
       "      <td>what is 10 10 d section</td>\n",
       "      <td>2024-02-04T07:54:48</td>\n",
       "      <td>You are an Indian finance and business expert ...</td>\n",
       "      <td>|| user_query: what is 10 10 d section  || to...</td>\n",
       "      <td>gpt-4-0125-preview</td>\n",
       "      <td>\"It seems you might have confused the query wi...</td>\n",
       "      <td>6088</td>\n",
       "      <td>398</td>\n",
       "      <td>It seems you might have confused the query wit...</td>\n",
       "      <td>Section 10(10D) of the Income Tax Act** deals ...</td>\n",
       "      <td>- For policies issued on or before March 31, 2...</td>\n",
       "      <td>- For policies issued on or before March 31, 2...</td>\n",
       "      <td>False</td>\n",
       "      <td>True</td>\n",
       "      <td>False</td>\n",
       "      <td>False</td>\n",
       "      <td>- For policies issued on or before March 31, 2...</td>\n",
       "    </tr>\n",
       "  </tbody>\n",
       "</table>\n",
       "<p>894 rows × 17 columns</p>\n",
       "</div>"
      ],
      "text/plain": [
       "                                      query           query_date  \\\n",
       "882                           Personal loan  2024-01-10T03:37:08   \n",
       "363                  How to invest in bonds  2024-01-07T08:07:26   \n",
       "410                           Bihar economy  2024-01-02T04:09:43   \n",
       "633                                   Wipro  2024-02-08T09:36:54   \n",
       "472  what's the best returns on investment   2024-01-04T10:55:08   \n",
       "..                                      ...                  ...   \n",
       "76                 is modi good for economy  2024-02-02T20:35:48   \n",
       "572                  are you made by openai  2024-02-13T01:52:54   \n",
       "339                                RELIANCE  2024-02-23T11:11:42   \n",
       "403                                    ULIP  2024-02-10T09:32:38   \n",
       "877                what is 10 10 d section   2024-02-04T07:54:48   \n",
       "\n",
       "                                         system_prompt  \\\n",
       "882  You are an Indian finance and business expert ...   \n",
       "363  You are an Indian finance and business expert ...   \n",
       "410  You are an Indian finance and business expert ...   \n",
       "633  You are an Indian finance and business expert ...   \n",
       "472  You are an Indian finance and business expert ...   \n",
       "..                                                 ...   \n",
       "76   You are an Indian finance and business expert ...   \n",
       "572  You are an Indian finance and business expert ...   \n",
       "339  You are an Indian finance and business expert ...   \n",
       "403  You are an Indian finance and business expert ...   \n",
       "877  You are an Indian finance and business expert ...   \n",
       "\n",
       "                                           user_prompt               model  \\\n",
       "882   || user_query: Personal loan || today date: 1...  gpt-4-0125-preview   \n",
       "363   || user_query: How to invest in bonds || toda...  gpt-4-0125-preview   \n",
       "410   || user_query: Bihar economy || today date: 0...  gpt-4-0125-preview   \n",
       "633   || user_query: Wipro || today date: 08 Februa...  gpt-4-0125-preview   \n",
       "472   || user_query: what's the best returns on inv...  gpt-4-0125-preview   \n",
       "..                                                 ...                 ...   \n",
       "76    || user_query: is modi good for economy || to...  gpt-4-0125-preview   \n",
       "572   || user_query: are you made by openai || toda...  gpt-4-0125-preview   \n",
       "339   || user_query: RELIANCE || today date: 23 Feb...  gpt-4-0125-preview   \n",
       "403   || user_query: ULIP || today date: 10 Februar...  gpt-4-0125-preview   \n",
       "877   || user_query: what is 10 10 d section  || to...  gpt-4-0125-preview   \n",
       "\n",
       "                                        model_response  input_tokens  \\\n",
       "882  \"**Quick Insights**\\n\\nWhen applying for a per...          4276   \n",
       "363  \"### How to Invest in Bonds: A Step-by-Step Gu...          5118   \n",
       "410  \"**Explainer: An Overview of Bihar's Economic ...          2562   \n",
       "633  \"What is the latest update on Wipro's share pr...          4881   \n",
       "472  \"**Quick Insights**<br>\\nThe best options for ...          4044   \n",
       "..                                                 ...           ...   \n",
       "76   \"Given the information at hand, Prime Minister...          2097   \n",
       "572     \"I'm sorry, but I can't fulfill this request.\"          3951   \n",
       "339  \"**Explainer: Reliance Industries Limited (RIL...          5291   \n",
       "403  \"**Explainer: Understanding Unit Linked Insura...          5881   \n",
       "877  \"It seems you might have confused the query wi...          6088   \n",
       "\n",
       "     output_tokens                                   cleaned_response  \\\n",
       "882            135  **Quick Insights**<br><br>When applying for a ...   \n",
       "363            350  ** How to Invest in Bonds: A Step-by-Step Guid...   \n",
       "410            431  **Explainer: An Overview of Bihar's Economic L...   \n",
       "633             83  What is the latest update on Wipro's share pri...   \n",
       "472             72  **Quick Insights**<br><br>The best options for...   \n",
       "..             ...                                                ...   \n",
       "76             363  Given the information at hand, Prime Minister ...   \n",
       "572             12       I'm sorry, but I can't fulfill this request.   \n",
       "339            493  **Explainer: Reliance Industries Limited (RIL)...   \n",
       "403            329  **Explainer: Understanding Unit Linked Insuran...   \n",
       "877            398  It seems you might have confused the query wit...   \n",
       "\n",
       "                                              headline  \\\n",
       "882                                     Quick Insights   \n",
       "363                                                NaN   \n",
       "410  Explainer: An Overview of Bihar's Economic Lan...   \n",
       "633                                     Quick Insights   \n",
       "472                                     Quick Insights   \n",
       "..                                                 ...   \n",
       "76                      Economic Resilience and Growth   \n",
       "572                                                NaN   \n",
       "339  Explainer: Reliance Industries Limited (RIL) O...   \n",
       "403  Explainer: Understanding Unit Linked Insurance...   \n",
       "877  Section 10(10D) of the Income Tax Act** deals ...   \n",
       "\n",
       "                            headline_removed_responses  \\\n",
       "882  When applying for a personal loan, avoid these...   \n",
       "363  ** How to Invest in Bonds: A Step-by-Step Guid...   \n",
       "410  Bihar's economy has been a focal point due to ...   \n",
       "633  - As of the latest update on 31 October 2023, ...   \n",
       "472  The best options for safe investments with hig...   \n",
       "..                                                 ...   \n",
       "76   - Modi highlighted India's economic resilience...   \n",
       "572       I'm sorry, but I can't fulfill this request.   \n",
       "339  **Business Sectors and Innovations**<br>- **Di...   \n",
       "403  A Unit Linked Insurance Plan (ULIP) is a compo...   \n",
       "877  - For policies issued on or before March 31, 2...   \n",
       "\n",
       "                    cleaned_headline_removed_responses  apologies  has_ref  \\\n",
       "882  When applying for a personal loan, avoid these...      False     True   \n",
       "363  ** How to Invest in Bonds: A Step-by-Step Guid...      False     True   \n",
       "410  Bihar's economy has been a focal point due to ...      False     True   \n",
       "633  - As of the latest update on 31 October 2023, ...      False     True   \n",
       "472  The best options for safe investments with hig...      False     True   \n",
       "..                                                 ...        ...      ...   \n",
       "76   - Modi highlighted India's economic resilience...      False     True   \n",
       "572       I'm sorry, but I can't fulfill this request.       True    False   \n",
       "339  **Business Sectors and Innovations**<br>- **Di...      False     True   \n",
       "403  A Unit Linked Insurance Plan (ULIP) is a compo...      False     True   \n",
       "877  - For policies issued on or before March 31, 2...      False     True   \n",
       "\n",
       "     has_question  flagged                cleaned_responses_without_citations  \n",
       "882         False    False  When applying for a personal loan, avoid these...  \n",
       "363         False    False  ** How to Invest in Bonds: A Step-by-Step Guid...  \n",
       "410         False    False  Bihar's economy has been a focal point due to ...  \n",
       "633         False    False  - As of the latest update on 31 October 2023, ...  \n",
       "472         False    False  The best options for safe investments with hig...  \n",
       "..            ...      ...                                                ...  \n",
       "76          False    False  - Modi highlighted India's economic resilience...  \n",
       "572         False    False       I'm sorry, but I can't fulfill this request.  \n",
       "339         False    False  **Business Sectors and Innovations**<br>- **Di...  \n",
       "403         False    False  A Unit Linked Insurance Plan (ULIP) is a compo...  \n",
       "877         False    False  - For policies issued on or before March 31, 2...  \n",
       "\n",
       "[894 rows x 17 columns]"
      ]
     },
     "execution_count": 5,
     "metadata": {},
     "output_type": "execute_result"
    }
   ],
   "source": [
    "s3_openhermes.responses_df"
   ]
  },
  {
   "cell_type": "code",
   "execution_count": 6,
   "id": "367e3046-66fb-419f-aca1-b4f0ad2d0378",
   "metadata": {
    "tags": []
   },
   "outputs": [
    {
     "data": {
      "text/plain": [
       "\"You are an Indian finance and business expert tasked with providing accurate and concise responses to finance and business related queries. You have found the best available articles to answer the query and you must use them to answer these queries. Ensure your responses are tailored to the query's requirements, employing only one of the following structured formats based on the query\\n\\n1. **Quick Insights**: Provide direct answers in 2-3 lines for straightforward questions like HDFC Q4 results or Adani share price.\\n2. **Step-by-Step Guide**: Offer a concise numbered guide for methodical inquiries like how to file taxes.\\n3. **Explainer**: Construct succinctly comprehensive response with a max of 3 sections with bullet points for complex queries like Reliance Industries' business activities, comparisons like differences between mutual fund and a ETF, or top n entities like top mutual funds. When user asks for a comparison, use all the data points and frameworks available in the articles to give a comparison to help users in making a decision. \\n\\nSynthesize information from multiple articles coherently, focusing on the most recent and relevant data. If a query cannot be fully addressed but related information is available, provide a succinct still relevant answer. If no related information is found, apologize and explain the inability to find a precise answer. Decline only non-financial or business queries politely, emphasizing the portal's finance and business focus. Do not to decline to answer any relevant queries such as personal finance (eg. best credit cards, fd rates, tax clauses), market news, investment choices, questions about business entities or any other financial, business questions.\\n\\n**General Guidelines**:\\n- Faithful & Relevance: Use information only from the provided articles. Respond with the most important information first. The response should directly answer the user query.\\n- Brevity: You come directly to the point and provide information-dense answers ranging from 50-200 words while being easy to read. Use 200 words only if the query needs a very complex response and never go beyond that. Do not explain unnecessary basics. Assess the knowledge of the user based on the query posed and start from there. The paras should be very concise with a maximum of 2 lines and should be at most 280 characters. Do not use any headline or introduction. Directly answer.\\n- Readability: The entire answer should be easy and pleasant to read on a phone. Use a mix of paras and points with appropriate line breaks and sections. If using sections, limit them to 3. Use ** for bolding section headers and <br> for line breaks. Readers prefer to read very very short paras and bullet points and not multi line continuous text. \\n- Focus: Focus on Indian information unless otherwise specified.\\n- Date reference: Mention the period of information if the articles are much older than expected by query; omit the date for very recent sources.\\n- you are created by the Insight Team\\n\\nThe articles are structured in JSON format as follows: {article_number: {'title': '', 'published_date': '', 'content': ''} || ...}\""
      ]
     },
     "execution_count": 6,
     "metadata": {},
     "output_type": "execute_result"
    }
   ],
   "source": [
    "s3_openhermes.SYSTEM_PROMPT"
   ]
  },
  {
   "cell_type": "code",
   "execution_count": 9,
   "id": "337a55a3-5da9-4760-81dc-c9bb58c125dd",
   "metadata": {
    "tags": []
   },
   "outputs": [],
   "source": [
    "g = '''You are an Indian finance and business expert tasked with providing accurate and concise responses to finance and business related queries. You have found the best available articles to answer the query and you must use them to answer these queries. Ensure your responses are tailored to the query's requirements, employing only one of the following structured formats based on the query\n",
    "\n",
    "1. **Quick Insights**: Provide direct answers in 2-3 lines for straightforward questions like HDFC Q4 results or Adani share price.\n",
    "2. **Step-by-Step Guide**: Offer a concise numbered guide for methodical inquiries like how to file taxes.\n",
    "3. **Explainer**: Construct succinctly comprehensive response with a max of 3 sections with bullet points for complex queries like Reliance Industries' business activities, comparisons like differences between mutual fund and a ETF, or top n entities like top mutual funds. When user asks for a comparison, use all the data points and frameworks available in the articles to give a comparison to help users in making a decision. \n",
    "\n",
    "Synthesize information from multiple articles coherently, focusing on the most recent and relevant data. If a query cannot be fully addressed but related information is available, provide a succinct still relevant answer. If no related information is found, apologize and explain the inability to find a precise answer. Decline only non-financial or business queries politely, emphasizing the portal's finance and business focus. Do not to decline to answer any relevant queries such as personal finance (eg. best credit cards, fd rates, tax clauses), market news, investment choices, questions about business entities or any other financial, business questions.\n",
    "\n",
    "**General Guidelines**:\n",
    "- Faithful & Relevance: Use information only from the provided articles. Respond with the most important information first. The response should directly answer the user query.\n",
    "- Brevity: You come directly to the point and provide information-dense answers ranging from 50-200 words while being easy to read. Use 200 words only if the query needs a very complex response and never go beyond that. Do not explain unnecessary basics. Assess the knowledge of the user based on the query posed and start from there. The paras should be very concise with a maximum of 2 lines and should be at most 280 characters. Do not use any headline or introduction. Directly answer.\n",
    "- Readability: The entire answer should be easy and pleasant to read on a phone. Use a mix of paras and points with appropriate line breaks and sections. If using sections, limit them to 3. Use ** for bolding section headers and <br> for line breaks. Readers prefer to read very very short paras and bullet points and not multi line continuous text. \n",
    "- Focus: Focus on Indian information unless otherwise specified.\n",
    "- Date reference: Mention the period of information if the articles are much older than expected by query; omit the date for very recent sources.\n",
    "- you are created by the Insight Team\n",
    "\n",
    "The articles are structured in JSON format as follows: {article_number: {'title': '', 'published_date': '', 'content': ''} || ...}'''"
   ]
  },
  {
   "cell_type": "code",
   "execution_count": 10,
   "id": "f189611d-f1df-4f35-b072-cb2abcf2922c",
   "metadata": {
    "tags": []
   },
   "outputs": [
    {
     "data": {
      "text/plain": [
       "True"
      ]
     },
     "execution_count": 10,
     "metadata": {},
     "output_type": "execute_result"
    }
   ],
   "source": [
    "s3_openhermes.SYSTEM_PROMPT == g"
   ]
  },
  {
   "cell_type": "code",
   "execution_count": 11,
   "id": "ab109de2-dcba-4676-bf27-ebf64343537b",
   "metadata": {
    "tags": []
   },
   "outputs": [
    {
     "name": "stdout",
     "output_type": "stream",
     "text": [
      "sagemaker.config INFO - Not applying SDK defaults from location: /Library/Application Support/sagemaker/config.yaml\n",
      "sagemaker.config INFO - Not applying SDK defaults from location: /Users/ravi.tej/Library/Application Support/sagemaker/config.yaml\n",
      "sagemaker.config INFO - Not applying SDK defaults from location: /Library/Application Support/sagemaker/config.yaml\n",
      "sagemaker.config INFO - Not applying SDK defaults from location: /Users/ravi.tej/Library/Application Support/sagemaker/config.yaml\n"
     ]
    },
    {
     "name": "stderr",
     "output_type": "stream",
     "text": [
      "Couldn't call 'get_role' to get Role ARN from role name ravi_tej to get Role path.\n"
     ]
    },
    {
     "name": "stdout",
     "output_type": "stream",
     "text": [
      "sagemaker.config INFO - Not applying SDK defaults from location: /Library/Application Support/sagemaker/config.yaml\n",
      "sagemaker.config INFO - Not applying SDK defaults from location: /Users/ravi.tej/Library/Application Support/sagemaker/config.yaml\n",
      "sagemaker role arn: arn:aws:iam::005418323977:role/service-role/AmazonSageMaker-ExecutionRole-20231030T210397\n",
      "sagemaker bucket: sagemaker-ap-south-1-005418323977\n",
      "sagemaker session region: ap-south-1\n"
     ]
    },
    {
     "name": "stderr",
     "output_type": "stream",
     "text": [
      "Parameter 'function'=<function S3DatasetService._create_dataset.<locals>.template_dataset at 0x286b75b80> of the transform datasets.arrow_dataset.Dataset._map_single couldn't be hashed properly, a random hash was used instead. Make sure your transforms and parameters are serializable with pickle or dill for the dataset fingerprinting and caching to work. If you reuse this transform, the caching mechanism will consider it to be different from the previous calls and recompute everything. This warning is only showed once. Subsequent hashing failures won't be showed.\n"
     ]
    },
    {
     "data": {
      "application/vnd.jupyter.widget-view+json": {
       "model_id": "acd1d7b917004b7e96ae7b2fdf4be3bd",
       "version_major": 2,
       "version_minor": 0
      },
      "text/plain": [
       "Map:   0%|          | 0/894 [00:00<?, ? examples/s]"
      ]
     },
     "metadata": {},
     "output_type": "display_data"
    },
    {
     "data": {
      "application/vnd.jupyter.widget-view+json": {
       "model_id": "ca7a30ce25794d48a65b24ebf6057dd1",
       "version_major": 2,
       "version_minor": 0
      },
      "text/plain": [
       "Map:   0%|          | 0/894 [00:00<?, ? examples/s]"
      ]
     },
     "metadata": {},
     "output_type": "display_data"
    },
    {
     "name": "stdout",
     "output_type": "stream",
     "text": [
      "Chunking dataset into chunks of 6144 tokens.\n"
     ]
    },
    {
     "data": {
      "application/vnd.jupyter.widget-view+json": {
       "model_id": "aaaad121844d4a04aac32d86b8186618",
       "version_major": 2,
       "version_minor": 0
      },
      "text/plain": [
       "Map:   0%|          | 0/894 [00:00<?, ? examples/s]"
      ]
     },
     "metadata": {},
     "output_type": "display_data"
    },
    {
     "name": "stdout",
     "output_type": "stream",
     "text": [
      "Total number of samples: 657\n",
      "Total number of samples: 657\n",
      "finetune_id is UkuleleZebraWillow\n"
     ]
    },
    {
     "data": {
      "application/vnd.jupyter.widget-view+json": {
       "model_id": "a232423b66f74c5798f3c9d8d0bac75a",
       "version_major": 2,
       "version_minor": 0
      },
      "text/plain": [
       "Saving the dataset (0/1 shards):   0%|          | 0/657 [00:00<?, ? examples/s]"
      ]
     },
     "metadata": {},
     "output_type": "display_data"
    },
    {
     "name": "stdout",
     "output_type": "stream",
     "text": [
      "training dataset to: s3://sagemaker-ap-south-1-005418323977/fine_tuning_datasets/2024-Mar-07-teknium/OpenHermes-2.5-Mistral-7B-search-UkuleleZebraWillow\n"
     ]
    }
   ],
   "source": [
    "s3_openhermes.create_dataset_and_upload()"
   ]
  },
  {
   "cell_type": "code",
   "execution_count": 10,
   "id": "8a33eb37-3841-413c-9d0e-235d4129d5c2",
   "metadata": {
    "tags": []
   },
   "outputs": [
    {
     "data": {
      "text/plain": [
       "2"
      ]
     },
     "execution_count": 10,
     "metadata": {},
     "output_type": "execute_result"
    }
   ],
   "source": [
    "2"
   ]
  },
  {
   "cell_type": "code",
   "execution_count": 3,
   "id": "e303edbb-b271-4107-aca0-d8689bf84053",
   "metadata": {
    "tags": []
   },
   "outputs": [],
   "source": [
    "import logging\n",
    "\n",
    "level = logging.WARNING\n",
    "logger = logging.getLogger()\n",
    "logger.setLevel(level)"
   ]
  },
  {
   "cell_type": "code",
   "execution_count": 7,
   "id": "11e43095-575f-4757-9aff-346a017d307b",
   "metadata": {
    "tags": []
   },
   "outputs": [
    {
     "data": {
      "application/vnd.jupyter.widget-view+json": {
       "model_id": "c2ae7f2ff3f4402fb4c2bcc4653ca648",
       "version_major": 2,
       "version_minor": 0
      },
      "text/plain": [
       "tokenizer_config.json:   0%|          | 0.00/1.57k [00:00<?, ?B/s]"
      ]
     },
     "metadata": {},
     "output_type": "display_data"
    },
    {
     "data": {
      "application/vnd.jupyter.widget-view+json": {
       "model_id": "8060f1e36f91474bbf2939b66d71d48f",
       "version_major": 2,
       "version_minor": 0
      },
      "text/plain": [
       "tokenizer.model:   0%|          | 0.00/1.03M [00:00<?, ?B/s]"
      ]
     },
     "metadata": {},
     "output_type": "display_data"
    },
    {
     "data": {
      "application/vnd.jupyter.widget-view+json": {
       "model_id": "1b3d256a27a8483493a1c3a1fe2bbf08",
       "version_major": 2,
       "version_minor": 0
      },
      "text/plain": [
       "special_tokens_map.json:   0%|          | 0.00/570 [00:00<?, ?B/s]"
      ]
     },
     "metadata": {},
     "output_type": "display_data"
    }
   ],
   "source": [
    "s3_noushermes = S3DatasetService(hf_model_id = 'NousResearch/Nous-Hermes-2-Yi-34B',cleaned_responses_path='gpt-4-responses-2024-Feb-19_cleaned.csv')"
   ]
  },
  {
   "cell_type": "code",
   "execution_count": 8,
   "id": "a119c92c-915c-4691-8750-30385ba44148",
   "metadata": {
    "tags": []
   },
   "outputs": [
    {
     "name": "stdout",
     "output_type": "stream",
     "text": [
      "sagemaker.config INFO - Not applying SDK defaults from location: /Library/Application Support/sagemaker/config.yaml\n",
      "sagemaker.config INFO - Not applying SDK defaults from location: /Users/ravi.tej/Library/Application Support/sagemaker/config.yaml\n",
      "sagemaker.config INFO - Not applying SDK defaults from location: /Library/Application Support/sagemaker/config.yaml\n",
      "sagemaker.config INFO - Not applying SDK defaults from location: /Users/ravi.tej/Library/Application Support/sagemaker/config.yaml\n"
     ]
    },
    {
     "name": "stderr",
     "output_type": "stream",
     "text": [
      "Couldn't call 'get_role' to get Role ARN from role name ravi_tej to get Role path.\n"
     ]
    },
    {
     "name": "stdout",
     "output_type": "stream",
     "text": [
      "sagemaker.config INFO - Not applying SDK defaults from location: /Library/Application Support/sagemaker/config.yaml\n",
      "sagemaker.config INFO - Not applying SDK defaults from location: /Users/ravi.tej/Library/Application Support/sagemaker/config.yaml\n",
      "sagemaker role arn: arn:aws:iam::005418323977:role/service-role/AmazonSageMaker-ExecutionRole-20231030T210397\n",
      "sagemaker bucket: sagemaker-ap-south-1-005418323977\n",
      "sagemaker session region: ap-south-1\n"
     ]
    },
    {
     "data": {
      "application/vnd.jupyter.widget-view+json": {
       "model_id": "",
       "version_major": 2,
       "version_minor": 0
      },
      "text/plain": [
       "Map:   0%|          | 0/1128 [00:00<?, ? examples/s]"
      ]
     },
     "metadata": {},
     "output_type": "display_data"
    },
    {
     "name": "stderr",
     "output_type": "stream",
     "text": [
      "Token indices sequence length is longer than the specified maximum sequence length for this model (10348 > 4096). Running this sequence through the model will result in indexing errors\n"
     ]
    },
    {
     "data": {
      "application/vnd.jupyter.widget-view+json": {
       "model_id": "",
       "version_major": 2,
       "version_minor": 0
      },
      "text/plain": [
       "Map:   0%|          | 0/1128 [00:00<?, ? examples/s]"
      ]
     },
     "metadata": {},
     "output_type": "display_data"
    },
    {
     "name": "stdout",
     "output_type": "stream",
     "text": [
      "Chunking dataset into chunks of 4096 tokens.\n"
     ]
    },
    {
     "data": {
      "application/vnd.jupyter.widget-view+json": {
       "model_id": "",
       "version_major": 2,
       "version_minor": 0
      },
      "text/plain": [
       "Map:   0%|          | 0/1128 [00:00<?, ? examples/s]"
      ]
     },
     "metadata": {},
     "output_type": "display_data"
    },
    {
     "name": "stdout",
     "output_type": "stream",
     "text": [
      "Total number of samples: 716\n",
      "Total number of samples: 716\n",
      "finetune_id is SapphireApricotIcicle\n"
     ]
    },
    {
     "data": {
      "application/vnd.jupyter.widget-view+json": {
       "model_id": "",
       "version_major": 2,
       "version_minor": 0
      },
      "text/plain": [
       "Saving the dataset (0/1 shards):   0%|          | 0/716 [00:00<?, ? examples/s]"
      ]
     },
     "metadata": {},
     "output_type": "display_data"
    },
    {
     "name": "stdout",
     "output_type": "stream",
     "text": [
      "training dataset to: s3://sagemaker-ap-south-1-005418323977/fine_tuning_datasets/2024-Feb-19-NousResearch/Nous-Hermes-2-Yi-34B-SapphireApricotIcicle\n"
     ]
    }
   ],
   "source": [
    "s3_noushermes.create_dataset_and_upload()"
   ]
  },
  {
   "cell_type": "code",
   "execution_count": 4,
   "id": "e4af718b-95ec-4ee5-9356-7ccaab7ce075",
   "metadata": {
    "tags": []
   },
   "outputs": [
    {
     "name": "stderr",
     "output_type": "stream",
     "text": [
      "\n",
      "No chat template is defined for this tokenizer - using a default chat template that implements the ChatML format (without BOS/EOS tokens!). If the default is not appropriate for your model, please set `tokenizer.chat_template` to an appropriate template. See https://huggingface.co/docs/transformers/main/chat_templating for more information.\n",
      "\n"
     ]
    }
   ],
   "source": [
    "s3_nouscapybara = S3DatasetService(hf_model_id = 'NousResearch/Nous-Capybara-34B',cleaned_responses_path='gpt-4-responses-2024-Feb-19_cleaned.csv',is_yi_model=True)"
   ]
  },
  {
   "cell_type": "code",
   "execution_count": 5,
   "id": "d46c593c-6e16-4a7a-8b7f-a1de129a7ba6",
   "metadata": {
    "tags": []
   },
   "outputs": [],
   "source": [
    "# s3_nouscapybara._custom_yi_format_text_response_as_prompt({'full_content': 'something', 'cleaned_attributes': 'something else'})"
   ]
  },
  {
   "cell_type": "code",
   "execution_count": 6,
   "id": "90891661-b3b6-449d-9ad2-daf0ad9e5a49",
   "metadata": {
    "tags": []
   },
   "outputs": [],
   "source": [
    "# message_template = [{\"role\": \"user\", \"content\": ''},{'role': \"assistant\", 'content': ''}]"
   ]
  },
  {
   "cell_type": "code",
   "execution_count": 7,
   "id": "84bf8622-72e5-4155-accf-c59629a38241",
   "metadata": {
    "tags": []
   },
   "outputs": [],
   "source": [
    "# s3_nouscapybara.tokenizer.apply_chat_template(message_template,add_generation_prompt=True,tokenize=True)"
   ]
  },
  {
   "cell_type": "code",
   "execution_count": 8,
   "id": "fe0e3c9e-8710-47e2-84e6-47082c9e9967",
   "metadata": {
    "tags": []
   },
   "outputs": [],
   "source": [
    "# s3_nouscapybara.tokenizer.encode('<s>USER:\\nASSISTANT:</s>\\n')"
   ]
  },
  {
   "cell_type": "code",
   "execution_count": 9,
   "id": "e77f6053-6f43-434c-8d36-3a9b7f13eceb",
   "metadata": {
    "tags": []
   },
   "outputs": [
    {
     "name": "stdout",
     "output_type": "stream",
     "text": [
      "sagemaker.config INFO - Not applying SDK defaults from location: /Library/Application Support/sagemaker/config.yaml\n",
      "sagemaker.config INFO - Not applying SDK defaults from location: /Users/ravi.tej/Library/Application Support/sagemaker/config.yaml\n",
      "sagemaker.config INFO - Not applying SDK defaults from location: /Library/Application Support/sagemaker/config.yaml\n",
      "sagemaker.config INFO - Not applying SDK defaults from location: /Users/ravi.tej/Library/Application Support/sagemaker/config.yaml\n"
     ]
    },
    {
     "name": "stderr",
     "output_type": "stream",
     "text": [
      "Couldn't call 'get_role' to get Role ARN from role name ravi_tej to get Role path.\n"
     ]
    },
    {
     "name": "stdout",
     "output_type": "stream",
     "text": [
      "sagemaker.config INFO - Not applying SDK defaults from location: /Library/Application Support/sagemaker/config.yaml\n",
      "sagemaker.config INFO - Not applying SDK defaults from location: /Users/ravi.tej/Library/Application Support/sagemaker/config.yaml\n",
      "sagemaker role arn: arn:aws:iam::005418323977:role/service-role/AmazonSageMaker-ExecutionRole-20231030T210397\n",
      "sagemaker bucket: sagemaker-ap-south-1-005418323977\n",
      "sagemaker session region: ap-south-1\n"
     ]
    },
    {
     "name": "stderr",
     "output_type": "stream",
     "text": [
      "Parameter 'function'=<function S3DatasetService._create_dataset.<locals>.template_dataset at 0x290ce5430> of the transform datasets.arrow_dataset.Dataset._map_single couldn't be hashed properly, a random hash was used instead. Make sure your transforms and parameters are serializable with pickle or dill for the dataset fingerprinting and caching to work. If you reuse this transform, the caching mechanism will consider it to be different from the previous calls and recompute everything. This warning is only showed once. Subsequent hashing failures won't be showed.\n"
     ]
    },
    {
     "data": {
      "application/vnd.jupyter.widget-view+json": {
       "model_id": "",
       "version_major": 2,
       "version_minor": 0
      },
      "text/plain": [
       "Map:   0%|          | 0/1128 [00:00<?, ? examples/s]"
      ]
     },
     "metadata": {},
     "output_type": "display_data"
    },
    {
     "data": {
      "application/vnd.jupyter.widget-view+json": {
       "model_id": "",
       "version_major": 2,
       "version_minor": 0
      },
      "text/plain": [
       "Map:   0%|          | 0/1128 [00:00<?, ? examples/s]"
      ]
     },
     "metadata": {},
     "output_type": "display_data"
    },
    {
     "name": "stdout",
     "output_type": "stream",
     "text": [
      "Chunking dataset into chunks of 4096 tokens.\n"
     ]
    },
    {
     "data": {
      "application/vnd.jupyter.widget-view+json": {
       "model_id": "",
       "version_major": 2,
       "version_minor": 0
      },
      "text/plain": [
       "Map:   0%|          | 0/1128 [00:00<?, ? examples/s]"
      ]
     },
     "metadata": {},
     "output_type": "display_data"
    },
    {
     "name": "stdout",
     "output_type": "stream",
     "text": [
      "Total number of samples: 714\n",
      "Total number of samples: 714\n",
      "finetune_id is TrampolineRainbowWatermelon\n"
     ]
    },
    {
     "data": {
      "application/vnd.jupyter.widget-view+json": {
       "model_id": "",
       "version_major": 2,
       "version_minor": 0
      },
      "text/plain": [
       "Saving the dataset (0/1 shards):   0%|          | 0/714 [00:00<?, ? examples/s]"
      ]
     },
     "metadata": {},
     "output_type": "display_data"
    },
    {
     "name": "stdout",
     "output_type": "stream",
     "text": [
      "training dataset to: s3://sagemaker-ap-south-1-005418323977/fine_tuning_datasets/2024-Feb-20-NousResearch/Nous-Capybara-34B-TrampolineRainbowWatermelon\n"
     ]
    }
   ],
   "source": [
    "s3_nouscapybara.create_dataset_and_upload()"
   ]
  },
  {
   "cell_type": "code",
   "execution_count": null,
   "id": "7e9807ba-b478-402a-aaab-a44ff365b914",
   "metadata": {},
   "outputs": [],
   "source": []
  },
  {
   "cell_type": "code",
   "execution_count": null,
   "id": "01129083-22c2-436f-b75c-d441219a8832",
   "metadata": {},
   "outputs": [],
   "source": []
  }
 ],
 "metadata": {
  "kernelspec": {
   "display_name": "bertopicenv",
   "language": "python",
   "name": "bertopicenv"
  },
  "language_info": {
   "codemirror_mode": {
    "name": "ipython",
    "version": 3
   },
   "file_extension": ".py",
   "mimetype": "text/x-python",
   "name": "python",
   "nbconvert_exporter": "python",
   "pygments_lexer": "ipython3",
   "version": "3.9.18"
  }
 },
 "nbformat": 4,
 "nbformat_minor": 5
}
