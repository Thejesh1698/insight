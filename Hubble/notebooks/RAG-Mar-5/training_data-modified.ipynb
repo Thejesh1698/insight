{
 "cells": [
  {
   "cell_type": "code",
   "execution_count": 1,
   "id": "6a657ed7-1c2c-46b5-a0d3-21e00d8ec8c5",
   "metadata": {
    "tags": []
   },
   "outputs": [],
   "source": [
    "parent_folder = '/Users/ravi.tej/Desktop/ML/Recommendations/hubble/'\n",
    "from hydra import compose, initialize\n",
    "import os\n",
    "\n",
    "import xml.etree.ElementTree as ET\n",
    "\n",
    "tree = ET.parse('../../conf/application.run.xml')\n",
    "root = tree.getroot()\n",
    "\n",
    "envs_element = root.find('./configuration/envs')\n",
    "for variable in envs_element.findall('env'):\n",
    "    name = variable.get('name')\n",
    "    value = variable.get('value')\n",
    "    os.environ[name] = value\n",
    "\n",
    "import sys\n",
    "sys.path.append('/Users/ravi.tej/Desktop/ML/Recommendations/hubble/')"
   ]
  },
  {
   "cell_type": "code",
   "execution_count": 2,
   "id": "151c59bc-62f9-4bd4-872d-3719d15e3ffe",
   "metadata": {
    "tags": []
   },
   "outputs": [
    {
     "name": "stderr",
     "output_type": "stream",
     "text": [
      "/Users/ravi.tej/anaconda3/envs/recoenv/lib/python3.11/site-packages/torch/_utils.py:776: UserWarning: TypedStorage is deprecated. It will be removed in the future and UntypedStorage will be the only storage class. This should only matter to you if you are using storages directly.  To access UntypedStorage directly, use tensor.untyped_storage() instead of tensor.storage()\n",
      "  return self.fget.__get__(instance, owner)()\n",
      "Special tokens have been added in the vocabulary, make sure the associated word embeddings are fine-tuned or trained.\n",
      "Special tokens have been added in the vocabulary, make sure the associated word embeddings are fine-tuned or trained.\n",
      "Special tokens have been added in the vocabulary, make sure the associated word embeddings are fine-tuned or trained.\n",
      "Special tokens have been added in the vocabulary, make sure the associated word embeddings are fine-tuned or trained.\n"
     ]
    }
   ],
   "source": [
    "from src.RAGTraining.TrainingDataGenerator import TrainingDataGenerator"
   ]
  },
  {
   "cell_type": "code",
   "execution_count": 3,
   "id": "a3a8a224-a137-4b4e-80eb-802c2dd771fe",
   "metadata": {
    "tags": []
   },
   "outputs": [],
   "source": [
    "import logging\n",
    "logger = logging.getLogger()\n",
    "logger.setLevel(logging.CRITICAL)"
   ]
  },
  {
   "cell_type": "code",
   "execution_count": 4,
   "id": "0a07aa8e-482f-4039-ad3f-2b16f16d6e0d",
   "metadata": {
    "tags": []
   },
   "outputs": [
    {
     "name": "stderr",
     "output_type": "stream",
     "text": [
      "Special tokens have been added in the vocabulary, make sure the associated word embeddings are fine-tuned or trained.\n",
      "Special tokens have been added in the vocabulary, make sure the associated word embeddings are fine-tuned or trained.\n"
     ]
    }
   ],
   "source": [
    "trainingGenerator = TrainingDataGenerator(model_id = 'teknium/OpenHermes-2.5-Mistral-7B', queries_df_path='insight_user_db_publarticles_search_audit.csv', responses_file_path='gpt-responses.csv')"
   ]
  },
  {
   "cell_type": "code",
   "execution_count": 5,
   "id": "1ef21754-02a0-48a5-968e-1d07071e173f",
   "metadata": {
    "scrolled": true,
    "tags": []
   },
   "outputs": [
    {
     "data": {
      "text/plain": [
       "3923"
      ]
     },
     "execution_count": 5,
     "metadata": {},
     "output_type": "execute_result"
    }
   ],
   "source": [
    "trainingGenerator.content_tokens"
   ]
  },
  {
   "cell_type": "code",
   "execution_count": 6,
   "id": "b93228db-02ac-4a2c-9cbd-ef3c64fcce4a",
   "metadata": {
    "tags": []
   },
   "outputs": [],
   "source": [
    "import json\n",
    "\n",
    "with open('training_article_ids_latest.json', 'r') as f:\n",
    "    best_results = json.load(f)\n",
    "trainingGenerator.best_results = best_results\n",
    "\n",
    "with open('training_user_prompts_latest.json', 'r') as f:\n",
    "    user_prompts = json.load(f)\n",
    "trainingGenerator.user_prompts = user_prompts"
   ]
  },
  {
   "cell_type": "code",
   "execution_count": 7,
   "id": "34f5dced-45ea-48d7-be7b-28f2ba655874",
   "metadata": {
    "tags": []
   },
   "outputs": [
    {
     "data": {
      "text/plain": [
       "1122"
      ]
     },
     "execution_count": 7,
     "metadata": {},
     "output_type": "execute_result"
    }
   ],
   "source": [
    "len(trainingGenerator.user_prompts)"
   ]
  },
  {
   "cell_type": "code",
   "execution_count": 8,
   "id": "af10b7b0-0cbd-4e4a-a52b-4904cdd4de99",
   "metadata": {
    "tags": []
   },
   "outputs": [],
   "source": [
    "# trainingGenerator.generate_prompts_for_queries()\n",
    "# trainingGenerator.save_results_to_json(trainingGenerator.user_prompts, 'training_user_prompts_latest.json')"
   ]
  },
  {
   "cell_type": "code",
   "execution_count": 9,
   "id": "d6a38798-2516-4544-bb38-462167672930",
   "metadata": {
    "scrolled": true,
    "tags": []
   },
   "outputs": [],
   "source": [
    "# # trainingGenerator.get_best_articles_for_queries(max_num_random_dates=3, randomize_num_dates_per_query=True)\n",
    "\n",
    "# len(trainingGenerator.best_results)\n",
    "\n",
    "# # trainingGenerator.save_results_to_json(trainingGenerator.best_results, 'training_article_ids_latest.json')\n",
    "\n",
    "# trainingGenerator.generate_prompts_for_queries()\n",
    "\n",
    "# trainingGenerator.save_results_to_json(trainingGenerator.user_prompts, 'training_user_prompts_latest.json')"
   ]
  },
  {
   "cell_type": "code",
   "execution_count": 27,
   "id": "801320e9-db7d-4ac8-8799-f31a5b24fb2b",
   "metadata": {
    "tags": []
   },
   "outputs": [
    {
     "name": "stderr",
     "output_type": "stream",
     "text": [
      "\n",
      "KeyboardInterrupt\n",
      "\n"
     ]
    }
   ],
   "source": [
    "trainingGenerator.get_gpt4_attributes_for_article_ids(fraction=1)"
   ]
  },
  {
   "cell_type": "markdown",
   "id": "19027a21-b07f-4323-8c57-26155dd18b33",
   "metadata": {},
   "source": [
    "### Cleaning"
   ]
  },
  {
   "cell_type": "code",
   "execution_count": 1,
   "id": "1760654c-0776-4041-b6cc-3f0f142a75b5",
   "metadata": {
    "tags": []
   },
   "outputs": [],
   "source": [
    "import pandas as pd"
   ]
  },
  {
   "cell_type": "code",
   "execution_count": 2,
   "id": "d96877ca-fc49-4400-b4d7-ef6d4a011354",
   "metadata": {
    "tags": []
   },
   "outputs": [],
   "source": [
    "responses_df = pd.read_csv('gpt-responses.csv',  header=None)\n",
    "responses_df = responses_df.iloc[:1121]"
   ]
  },
  {
   "cell_type": "code",
   "execution_count": 3,
   "id": "fcf417e1-a1a1-401b-bd21-78ea0c3744d7",
   "metadata": {
    "tags": []
   },
   "outputs": [],
   "source": [
    "def has_hash(x):\n",
    "    return '##' in x"
   ]
  },
  {
   "cell_type": "code",
   "execution_count": 4,
   "id": "ec6a5c70-ea46-41d3-94f1-41739f1adea2",
   "metadata": {
    "tags": []
   },
   "outputs": [],
   "source": [
    "responses_df['hash'] = responses_df[6].apply(lambda x: has_hash(x))"
   ]
  },
  {
   "cell_type": "code",
   "execution_count": 5,
   "id": "e73e24e8-8ac1-4fa4-b35c-d2f509b13e03",
   "metadata": {
    "tags": []
   },
   "outputs": [
    {
     "data": {
      "text/plain": [
       "0.012488849241748439"
      ]
     },
     "execution_count": 5,
     "metadata": {},
     "output_type": "execute_result"
    }
   ],
   "source": [
    "responses_df.hash.mean()"
   ]
  },
  {
   "cell_type": "code",
   "execution_count": 6,
   "id": "8f36b229-0136-48dc-9f0c-68b3b22aef97",
   "metadata": {
    "tags": []
   },
   "outputs": [],
   "source": [
    "import re\n",
    "\n",
    "def replace_br_tags(text):\n",
    "    # This pattern matches sequences of more than two <br> tags.\n",
    "    # The pattern looks for <br> followed by one or more repetitions of <br>, capturing as many as it finds.\n",
    "    pattern = r'(<br>\\s*){3,}'\n",
    "    # Replacement string with exactly two <br> tags.\n",
    "    replacement = r'<br><br>'\n",
    "    # Use re.sub to replace sequences of more than two <br> tags with exactly two.\n",
    "    modified_text = re.sub(pattern, replacement, text)\n",
    "    return modified_text"
   ]
  },
  {
   "cell_type": "code",
   "execution_count": 7,
   "id": "ea8671f0-d93d-4dc2-850c-72793d88bcaa",
   "metadata": {
    "tags": []
   },
   "outputs": [],
   "source": [
    "def clean_response(x):\n",
    "    x = x.replace('\\\\n','<br>')\n",
    "    x = x.replace('\\n', '<br>')\n",
    "    x = x.replace('####', '**')\n",
    "    x = x.replace('###', '**')\n",
    "    x = x.replace('##', '**')\n",
    "    x = x.replace('#', '**')\n",
    "    x = replace_br_tags(x)\n",
    "    return x"
   ]
  },
  {
   "cell_type": "code",
   "execution_count": 8,
   "id": "6b12b53b-7092-42a8-9334-1b4750173660",
   "metadata": {
    "tags": []
   },
   "outputs": [],
   "source": [
    "import json"
   ]
  },
  {
   "cell_type": "code",
   "execution_count": 9,
   "id": "49326df9-9f84-48e8-a403-c44be381e47d",
   "metadata": {
    "tags": []
   },
   "outputs": [],
   "source": [
    "responses_df['cleaned_response'] = responses_df[6].apply(lambda x: json.loads(clean_response(x)))"
   ]
  },
  {
   "cell_type": "code",
   "execution_count": 10,
   "id": "6348a3f0-b78d-4b7a-8f4a-d0e0f597dfc9",
   "metadata": {
    "tags": []
   },
   "outputs": [
    {
     "name": "stdout",
     "output_type": "stream",
     "text": [
      "Headline: This is the headline\n",
      "Rest of the text: Here is the rest of the text.\n"
     ]
    }
   ],
   "source": [
    "import re\n",
    "\n",
    "def extract_headline(text):\n",
    "    # Regular expression to match the headline pattern\n",
    "    pattern = r'\\*\\*(.*?)\\*\\*(?::)?(?:\\s*<br>\\s*){1,2}'\n",
    "    match = re.search(pattern, text, re.IGNORECASE | re.DOTALL)\n",
    "    if match:\n",
    "        headline = match.group(1).strip()\n",
    "        rest_of_text = text[match.end():].strip()\n",
    "        return headline, rest_of_text\n",
    "    return None, text\n",
    "\n",
    "# Example usage\n",
    "text = \"**This is the headline** <br><br> Here is the rest of the text.\"\n",
    "headline, rest_of_text = extract_headline(text)\n",
    "print(\"Headline:\", headline)\n",
    "print(\"Rest of the text:\", rest_of_text)\n"
   ]
  },
  {
   "cell_type": "code",
   "execution_count": 11,
   "id": "50198ccd-67c3-4ac7-96bf-046f4b849898",
   "metadata": {
    "tags": []
   },
   "outputs": [],
   "source": [
    "#if x['has_headline'] else ('', x['cleaned_response'])\n",
    "responses_df['headline'], responses_df['headline_removed_responses'] = zip(*responses_df.apply(lambda x: extract_headline(x['cleaned_response']) ,axis=1))"
   ]
  },
  {
   "cell_type": "code",
   "execution_count": 12,
   "id": "bb6965c2-59cc-4156-afc0-cb177d71eb7d",
   "metadata": {
    "tags": []
   },
   "outputs": [
    {
     "data": {
      "text/plain": [
       "0.32917038358608386"
      ]
     },
     "execution_count": 12,
     "metadata": {},
     "output_type": "execute_result"
    }
   ],
   "source": [
    "responses_df.headline.isnull().mean()"
   ]
  },
  {
   "cell_type": "code",
   "execution_count": 13,
   "id": "bace81c8-28ed-4c73-ae90-bd3c5a4bf995",
   "metadata": {
    "tags": []
   },
   "outputs": [],
   "source": [
    "def remove_hyphen_from_section_headings(text):\n",
    "    # Regular expression to match the pattern\n",
    "    pattern = r'(<br>\\s*)?-\\s*\\*\\*([^<\\n]*?)\\*\\*(\\s*:\\s*)?(?=(\\s*<br>|$))'\n",
    "    def replace_func(match):\n",
    "        return f\"{match.group(1) or ''}**{match.group(2)}{match.group(3) or ''}**{match.group(4) or ''}\"\n",
    "    updated_text = re.sub(pattern, replace_func, text, flags=re.DOTALL)\n",
    "    return updated_text"
   ]
  },
  {
   "cell_type": "code",
   "execution_count": 14,
   "id": "689af005-ae76-4e2e-a1eb-32f2c998b979",
   "metadata": {
    "tags": []
   },
   "outputs": [],
   "source": [
    "def replace_developed_by_openai(x):\n",
    "    if 'AI developed by OpenAI' in x:\n",
    "        return x.replace('AI developed by OpenAI', 'AI developed by Insight')\n",
    "    else:\n",
    "        return x"
   ]
  },
  {
   "cell_type": "code",
   "execution_count": 15,
   "id": "6ba4ecd7-4aaf-47b4-9189-2be3b9659b36",
   "metadata": {
    "tags": []
   },
   "outputs": [],
   "source": [
    "def clean_provided_articles(x):\n",
    "    if 'provided articles' in x: \n",
    "        return x.replace('provided articles', 'articles I found')\n",
    "    elif 'articles provided' in x:\n",
    "        return x.replace('articles provided', 'articles I found')\n",
    "    elif 'information provided' in x:\n",
    "        return x.replace('information provided', 'articles I found')\n",
    "    else:\n",
    "        return x"
   ]
  },
  {
   "cell_type": "code",
   "execution_count": 16,
   "id": "f9e00174-c909-44ba-94e2-c521655b34c3",
   "metadata": {
    "tags": []
   },
   "outputs": [],
   "source": [
    "def remove_citations(x):\n",
    "    x = x.replace('{{1}}', '')\n",
    "    x = x.replace('{{2}}', '')\n",
    "    x = x.replace('{{3}}', '')\n",
    "    return x"
   ]
  },
  {
   "cell_type": "code",
   "execution_count": 17,
   "id": "b4814c21-0758-4bc3-b545-40f9905fe076",
   "metadata": {
    "tags": []
   },
   "outputs": [],
   "source": [
    "def clean_responses_further(x):\n",
    "    x = remove_hyphen_from_section_headings(x)\n",
    "    x = replace_developed_by_openai(x)\n",
    "    x = clean_provided_articles(x)\n",
    "    # x = remove_citations(x)\n",
    "    return x"
   ]
  },
  {
   "cell_type": "code",
   "execution_count": 18,
   "id": "924bf0ac-8f61-4ced-8a3b-97e7752a3180",
   "metadata": {
    "tags": []
   },
   "outputs": [],
   "source": [
    "def has_references(x):\n",
    "    return '{{1}}' in x or '{{2}}' in x or '{{3}}' in x"
   ]
  },
  {
   "cell_type": "code",
   "execution_count": 19,
   "id": "c2c8cb29-1806-4a67-952f-61a9361858b7",
   "metadata": {
    "tags": []
   },
   "outputs": [],
   "source": [
    "def find_apologies_responses(x):\n",
    "    return 'I\\'m sorry' in x or 'apologize' in x or 'here to provide' in x or 'here to assist' in x"
   ]
  },
  {
   "cell_type": "code",
   "execution_count": 20,
   "id": "9105748f-6758-4489-96e4-986ea050a164",
   "metadata": {
    "scrolled": true,
    "tags": []
   },
   "outputs": [
    {
     "data": {
      "text/plain": [
       "array([\"The limits for physical gold ownership in India are not explicitly mentioned in the provided articles. However, Sovereign Gold Bonds (SGBs) have defined investment limits: Individuals and Hindu Undivided Families (HUFs) can invest in up to 4 kg of gold per fiscal year, while trusts and similar entities can invest up to 20 kg per year {{2}}. For more detailed guidelines on physical gold ownership limits, it's advisable to refer to the latest directives from the Indian government or the Reserve Bank of India (RBI).\",\n",
       "       \"I'm here to assist with finance and business-related queries, particularly those involving India, the Reserve Bank of India (RBI), Reliance, and the Federal Reserve. How may I assist you today?\",\n",
       "       \"To effectively save for retirement, consider the following strategies:<br>- **Start Early**: Begin saving as soon as you start earning to leverage the power of compound interest.<br>- **Create a Budget**: Track and manage your expenses to increase your savings for retirement.<br>- **Maximize Employer Contributions**: Utilize employer-matching schemes to boost your retirement funds.<br>- **Diversify Investments**: Invest in a mix of assets like equities, bonds, real estate, and mutual funds for potential growth and risk mitigation.<br>- **Automate Savings**: Set up automatic deductions for your retirement account to ensure consistent savings.<br>- **Consider Inflation**: Plan for the impact of inflation on your retirement funds to maintain your desired lifestyle.<br><br>Additionally, explore retirement saving options such as the Employees' Provident Fund (EPF), Public Provident Fund (PPF), National Pension System (NPS), and mutual funds, aiming to save at least 15-20% of your income for retirement {{1}}.\",\n",
       "       \"I'm sorry, but the articles provided do not offer direct insights or strategies related to saving tax specifically when buying a car in India. They focus more broadly on saving to buy a car and general tax-saving strategies in India but do not directly address tax-saving methods related to the purchase of vehicles. If you're looking for ways to save tax in general or other financial advice, I could provide information based on the articles available. Let me know if you would like information on another topic.\",\n",
       "       'For a 3-year investment horizon, consider the following mutual fund categories based on your risk appetite and financial goals:<br><br>- **Fixed Maturity Plans (FMPs)**: Suitable for those seeking fixed returns with a relatively low-risk profile. They invest in fixed-income instruments.<br>- **Arbitrage Funds**: Ideal for investors aiming for moderate returns through exploiting price differences in different markets. These are relatively low risk.<br>- **Equity Linked Savings Scheme (ELSS)**: Offers tax benefits under Section 80C, with a lock-in period of three years. It provides the dual advantage of tax deduction and potential for higher returns through equity investment.<br>- **Technology Sector Funds**: For those with a higher risk appetite, technology sector funds like ICICI Prudential Technology Fund, SBI Technology Opportunities Fund, and Franklin India Technology Fund may offer significant growth potential over 3 years, considering the booming technology sector in India.<br><br>Ensure to match the fund choice with your financial goals, risk tolerance, and liquidity needs.<br><br>{{1}}{{2}}',\n",
       "       '- **Latest Closing Price:** ₹799.5 on 11 Jan 2024. <br>- **Recent Price Movement:** Started at ₹798.85 on 9 Jan and saw a minor fluctuations with a closing at ₹789.05 on 10 Jan before rising to ₹799.5 on 11 Jan. <br>- **52-Week High/Low:** High of ₹809 and a low of ₹384.85, indicating significant yearly growth. <br>- **Market Cap:** Reached ₹309,668.82 crore by 11 Jan 2024, showing an increasing trend from ₹302,312.63 crore on 9 Jan 2024.<br>- **Trading Volume:** Varied, with 384,042 shares on 11 Jan, showing a decrease from 693,387 shares on 9 Jan 2024.<br><br>**Summary:** Tata Motors has shown a slight increase in its closing stock price over the last few days of trading, with a positive movement from ₹790.55 on 9 Jan to ₹799.5 on 11 Jan 2024. The stock has been performing well, with its price trending closer to its 52-week high, indicating strong investor confidence and potential for continued growth {{1}},{{2}},{{3}}.',\n",
       "       'Cryptocurrency, commonly referred to as crypto, is a form of digital or virtual currency that utilizes cryptography for security. It operates on a decentralized system without the need for a central authority, like a bank, to verify transactions. Instead, cryptocurrencies use blockchain technology, a distributed ledger that records transactions across multiple computers, ensuring security and transparency. The most well-known cryptocurrency is Bitcoin, followed by others like Ethereum, Ripple, and Litecoin. Cryptos can be used for a wide range of purposes, including online purchases, investments, and as a means of transferring money globally without the usual fees or currency exchange rates associated with traditional banks{{3}}.',\n",
       "       \"Oil trading involves engaging in the global marketplace where crude oil is bought and sold. This commodity's significance stems from its critical role in the economy, powering industries, transportation, and being a base for various products. Here's a brief guide on starting oil trading, focusing on the Indian context.<br><br>- **Understanding Crude Oil**: <br>  - Crude oil is a fossil fuel that's vital for producing various high-demand products like gasoline and diesel.<br>  - Two major grades traded globally are Brent and WTI (West Texas Intermediate).<br><br>- **Factors Influencing Crude Oil Prices**:<br>  - Supply and Demand: Oil prices are significantly affected by fluctuations in these parameters.<br>  - OPEC's Role: Decisions by OPEC countries can heavily influence global oil prices due to their large oil reserves.<br>  - Alternatives and Geopolitics: The availability of alternatives like shale oil and geopolitical situations can impact oil prices.<br><br>- **Trading in India**: <br>  - Futures and options on crude oil can be traded on the Multi Commodity Exchange of India (MCX).<br>  - Oil futures are popular, with contracts based on WTI grade, and trading value exceeds ₹3,000 crore daily on MCX.<br><br>Before investing, it's critical to research and understand the risks involved. High volatility and the complexity of global factors make oil trading challenging yet potentially rewarding for informed traders {{1}}.\",\n",
       "       \"To save for a big purchase effectively, consider leveraging sales events and meticulously planning your finances. Here are strategic steps to help:<br><br>1. **Identify the Purchase**: Determine the item you're saving for, be it a mattress, a stand mixer, or any other substantial investment.<br>2. **Research and Anticipate Sales**: Many retailers offer significant discounts during Black Friday and other sales events. For example, during Black Friday, savings on mattresses can reach up to $400 off for specific brands like Saatva {{1}} or $600 off for Tempur-Pedic items {{2}}. KitchenAid Stand Mixers also see reductions up to 37% off {{3}}. Timing your purchase during these events can make a big difference.<br>3. **Set a Savings Goal**: Calculate the total cost of your purchase, including potential discounts you might leverage during sales.<br>4. **Create a Budget Plan**: Break down your savings goal into manageable monthly or weekly savings. <br>5. **Open a Dedicated Savings Account**: Keeping your savings in a separate account can reduce the temptation to spend it and help you track progress towards your goal.<br>6. **Automate Transfers to Your Savings Account**: Regular automatic transfers can make saving less of a burden.<br>7. **Monitor Sales and Deals**: Stay informed about upcoming deals by following your favorite brands on social media or signing up for newsletters. This can help you snag the best offers when they go live.<br><br>Strategic planning, combined with leveraging significant sales, can significantly reduce the financial strain of big-ticket purchases.\",\n",
       "       \"Bajaj Finance's Q3 earnings for the quarter ending December 2023 reported a growth of 22% year-on-year in net profit, amounting to Rs 3,639 crore, which slightly missed Street estimates. Despite this, many brokerages remain bullish on Bajaj Finance, with buy ratings and target prices ranging from Rs 8,500 to Rs 9,400 due to strong AUM growth and an improving asset quality outlook. The company's stock faced a 4% drop after the announcement, mainly due to a higher-than-expected increase in provisions for bad loans. However, it's notable that brokerages have somewhat differing views, with HSBC, Nomura, and Jefferies maintaining a 'buy' rating, while UBS suggested a 'sell' with a target of Rs 6,800, contrasting with the positive outlook from Motilal Oswal, recommending a buy with a target price of Rs 8,500 {{1}}{{2}}{{3}}.\",\n",
       "       \"The Black-Scholes Model, developed by economists Fisher Black, Myron Scholes, and later expanded by Robert C. Merton, is a fundamental concept in modern financial theory primarily used for pricing European-style options. Below are the key aspects of the Black-Scholes Model:<br><br>- **Basics and Importance:**<br>    - **Definition:** It's a mathematical model for pricing an options contract by estimating the variation over time of financial instruments like stocks and derivatives.<br>    - **Significance:** This model revolutionized the trading of options by enabling the calculation of fair prices, thereby contributing to more efficient financial markets.<br><br>- **Components and Calculation:**<br>    - **Formula:** The Black-Scholes formula calculates the price of a call option as `C= SN(D1) – Ke^(-rt) N(D2)`, where variables represent the stock price (S), strike price (K), risk-free rate (r), and time to maturity (t), among others.<br>    - **Variables Needed:** To use the model, inputs required include the current stock price, strike price, time to maturity, dividend yield, volatility, and risk-free interest rate.<br><br>- **Assumptions and Limitations:**<br>    - **Assumptions:** Among its core assumptions are constant volatility and interest rates, and that no dividends are paid out during the life of the option.<br>    - **Limitations:** It assumes markets are efficient and excludes the costs of transactions. While highly influential, the model is primarily applicable to European options and may not account for real-world variables like changing interest rates or dividends.<br><br>**Utilization and Impact:**<br>- Despite its assumptions, the Black-Scholes Model remains a cornerstone in financial theory, used widely for pricing options and managing financial risk. Its introduction contributed significantly to the expansion of options trading by providing a systematic method to price options.<br><br>**Remember:** While the Black-Scholes Model offers a mathematical approach to option pricing, investors and traders must consider its assumptions and limitations in the context of real-world markets {{1}} {{2}}.\",\n",
       "       'I\\'m sorry, but there doesn\\'t seem to be an article or information directly related to \"Unitec\" among the provided articles. If you have any other finance or business-related queries, I\\'d be happy to assist with those using the information available.',\n",
       "       \"I'm sorry, but your query seems to be unclear or not related to finance and business topics that I'm specialized in. If you have any questions about finance, business, or related areas, feel free to ask!\",\n",
       "       \"I'm sorry, but I can only assist with finance and business-related queries. If you have any questions regarding finance, business strategies, investments, or anything related to these areas, feel free to ask!\",\n",
       "       \"I apologize, but the information provided does not contain any relevant details regarding day trading. The available articles focus on running habits and a movie's box office collection, which do not pertain to financial or business aspects of day trading. If you need assistance with other finance or business-related queries, please don't hesitate to ask.\",\n",
       "       '- **IIFL Finance**: The latest update indicates a stock price of ₹648.6, marking a net increase of ₹9.05 with a 1.42% upward movement {{1}}.<br>- **360 One Wam**: The current stock price is reported at ₹648.9, with a net change of ₹3.7, reflecting a 0.57% gain {{2}}.<br>- **Poonawalla Fincorp**: The most recent data shows the stock price at ₹476, experiencing a decrease of ₹7.7 or -1.59% {{3}}.',\n",
       "       \"Uttar Pradesh is gearing up to establish India's first AI city in Lucknow, aiming to be an innovation hub incorporating cutting-edge technology with a focus on AI, as initiated by the UP Electronics Corporation {{1}}. To support this venture and augment AI capabilities, the India AI programme, designed for a Public-Private Partnership model, is set to enhance computer infrastructure with a proposed budget exceeding Rs 10,000 crore, pending cabinet approval {{2}}. This reflects a high-priority national move toward embracing AI across sectors, including significant investments, as exemplified by Coforge planning to allocate 40% of its FY25 technology investments to AI {{3}}.\",\n",
       "       \"I'm sorry, but I don't have access to the current share price of Google or any real-time financial market data as of February 13, 2024. My responses are based on the information provided within the articles, and none of them includes the specific share price of Google on that date. For the most up-to-date share price, I recommend checking a reliable financial news website or a stock market app.\",\n",
       "       \"Wint Wealth, an online bond platform, is expanding its offerings in the fixed income investment space, providing retail investors with diverse options for building a diversified debt portfolio. Here's a brief overview of its recent developments:<br><br>- **Expanding FD Offerings:**<br>  - Initially offering Bajaj Finance fixed deposits (FDs), Wint Wealth plans to include FDs from Fincare Small Finance Bank and eventually onboard all small finance banks within the next 12 months. This move aims to provide retail investors with a wide choice of FDs, boasting the best interest rates in the market for over a decade {{1}}.<br><br>- **Acquisition of Ambium Finserve:**<br>  - With RBI's approval, Wint Wealth acquired a majority stake in Ambium Finserve Pvt Ltd, venturing into wholesale lending operations under Wint Capital. Wint Capital is set to grow its loan book significantly, with plans to offer its listed corporate bonds to retail investors soon. This acquisition opens new avenues for innovation in fixed-income investments for Wint Wealth {{2}}.<br><br>- **Launch of Wint Basket:**<br>  - Addressing the high entry barrier for investing in corporate bonds, Wint Wealth launched the 'Wint Basket'. It offers a way for investors to diversify their fixed-income portfolio across multiple senior secured bonds with a single investment starting from Rs 1 lakh. This initiative aims to make the corporate bond market more inclusive for retail investors {{3}}.<br><br>These steps signify Wint Wealth's commitment to easing access to fixed-income investments and diversifying options for retail investors, enhancing their capability to build a comprehensive and diversified debt portfolio.\",\n",
       "       \"I'm sorry, but it seems there was a misunderstanding with your query. You asked about the value of the Amex Platinum Card, but the provided articles do not contain information directly assessing or reviewing the Amex Platinum Card's benefits, fees, or value proposition. They instead include information on the Marriott Bonvoy® American Express® Card, alongside other unrelated financial products and health warnings about herbal supplements. <br><br>Given this context, I cannot provide a targeted analysis or recommendation based on the provided sources. If you're considering the Amex Platinum Card for its travel benefits, status upgrades, and potential for earning rewards, I would suggest looking for dedicated reviews or comparisons with other premium credit cards to better understand its value specific to your financial habits and lifestyle needs. <br><br>For assessing whether any premium credit card is worth its annual fee and benefits, it's important to consider how often you'll use the offered perks, the value of the rewards you're likely to earn versus the cost of the card, and how the card fits with your spending patterns and financial goals.\",\n",
       "       \"I'm sorry, but your query appears to involve Kotlin, which is not directly related to finance or business topics covered by the provided articles. My expertise is in providing insights on finance and business-related queries, particularly involving entities like India, RBI, Reliance, and the Fed based on specific articles. Should you have any inquiries within these areas, I would be more than willing to assist.\",\n",
       "       \"I'm sorry, but I can't help with non-financial queries. My expertise lies in providing concise and accurate information related to finance and business topics, especially concerning India, RBI, Reliance, and the Fed. If you have any questions within these areas, I'd be glad to assist!\",\n",
       "       \"Bajaj Finance has experienced fluctuations in its stock performance and financial outcomes over the last few quarters. As of Q4 ending March 2022, Bajaj Finance reported its highest ever consolidated net profit at Rs. 2,420 crores, an impressive 80% year-on-year increase, with assets under management growing nearly 29% to Rs. 1.97 lakh crores {{1}}. However, in the more recent Q3 ending December 2023, the company underperformed compared to market expectations, with a reported consolidated net profit of Rs. 3,639 crores, a 22% year-on-year growth which fell short of analyst estimates. Despite this, brokerages remain optimistic, underlining stable asset quality and strong AUM growth as future earnings drivers. Major brokerage firms, including HSBC, Nomura, and Jefferies, have maintained 'buy' ratings on Bajaj Finance stock with target prices ranging from Rs. 8,800 to Rs. 9,400 despite slight concerns regarding asset quality and increased credit costs {{3}}. <br><br>As of 23 January 2024, Bajaj Finance's stock experienced a downturn, closing at ₹7212.55, a 1.22% decrease, reflecting volatile trading dynamics but also showing significant investor interest as indicated by high open interest levels {{2}}.\",\n",
       "       \"Based on the latest available information, for those considering buying shares, here are some recommendations from market analysts:<br><br>- **IT Sector**: HCL Tech, Infosys, and TCS are top picks according to Religare's Siddharth Bhamre, with a cautionary note on Wipro {{1}}.<br>- **Auto Sector**: Maruti, Eicher Motors, and Bajaj Auto are preferred, with optimism towards Eicher Motors despite recent challenges {{1}}.<br>- **Cement Sector**: Ultratech, Dalmia Bharat, Ramco, and Nuvoco Vistas are highlighted as long-term bets by Religare {{1}}.<br>- **FMCG**: HUL, Colgate, and Marico are recommended, while being less bullish on ITC {{1}}.<br>- **Banking**: The banking sector is considered safe with a focus on those with strong corporate balance sheets {{1}}.<br>- **Beauty and Fashion Retail**: Nykaa has upside potential, with brokerages suggesting up to a 50% rally post their recent earnings report {{2}}.<br>- **Specific Stock Recommendations**:<br>  - Voltas: Buy with a target of ₹1110 and a stop loss at ₹1045 {{3}}.<br>  - Tata Communications: Buy with a target of ₹1830 and a stop loss at ₹1725 {{3}}.<br>  - Shankara Building Products: Buy with a target of ₹805 and a stop loss at ₹753 {{3}}.<br><br>These stocks span across diverse sectors including IT, auto, cement, FMCG, banking, and beauty & fashion retail, providing a varied set of options for investors with different interests and risk appetites.\",\n",
       "       \"- Modi highlighted India's economic resilience and potential for growth in challenging global economic conditions, asserting that India stands as a beacon of hope with its robust growth {{1}}.<br>- India is recognized for thriving despite global adversities, retaining its stature as the 'world's fastest-growing major economy' and is on the path to becoming the third largest economy {{1}}.<br><br>**Digital Transformation and Innovation**<br>- Modi emphasized India's significant digital transformation since the launch of the Digital India initiative in 2015, which has fostered inclusive digital development {{2}}.<br>- The digital growth includes over 850 million internet users and the successful implementation of various digital programs that have revolutionized financial inclusion and governance {{2}}.<br><br>**Global Confidence and Openness**<br>- The world views India as a combination of openness, opportunities, and options, with global optimism and confidence in its economy {{3}}.<br>- Modi stressed India's efforts in expanding digitization, promoting innovation, liberalizing FDI flows, and ensuring policy stability to make India the third largest global economy soon {{3}}.<br><br>These points collectively suggest that under Prime Minister Modi’s leadership, there has been a concerted effort to not only develop India's internal economic and digital infrastructure but also to position India favorably on the global stage. However, it’s important to note that the assessment of Modi's impact on the economy would encompass a wide range of factors, including policy implementation, economic reforms, and their long-term effects on India's socioeconomic fabric.\",\n",
       "       \"When selecting an investment account in the US, it's essential to consider both the opportunities and risks associated with the US financial markets, especially for Indian investors. Here are the major factors to keep in mind:<br><br>**1. Regulatory Framework**<br>- **SEC Oversight**: The US stock market is regulated by the Securities and Exchange Commission (SEC), ensuring high standards of transparency and investor protection.<br>- **Global Exposure**: Companies listed on US stock exchanges often have a major global presence, providing a diversified investment portfolio {{2}}.<br><br>**2. Foreign Exchange Consideration**<br>- **Currency Risks**: Investment returns are subject to currency conversion rates between USD and INR, which can significantly impact gains due to volatility in exchange rates {{2}}.<br><br>**3. Tax Considerations**<br>- **DTAA Benefit**: India and the US have a Double Tax Avoidance Agreement, preventing double taxation on the same income, with specific tax treatments for Long Term and Short Term Capital Gains, and dividends taxed at 25% in the US but creditable in India {{2}}.<br><br>**4. Costs and Charges**<br>- **Transaction and Maintenance Fees**: Investing directly in US stocks involves currency conversion, account maintenance, and potentially high transaction charges, especially for frequent traders {{2}}.<br><br>**5. Investment Limit**<br>- **LRS Limit**: The RBI’s Liberalised Remittance Scheme allows Indian investors to remit up to $250,000 per year for investing in US stocks, with amounts above this requiring RBI permission {{2}}.<br><br>**Conclusion:**<br>Selecting an investment account in the US requires thorough consideration of regulatory, exchange rate, tax, cost, and investment limit factors, alongside understanding the inherent risks like currency, country-specific, interest rate, liquidity, and regulatory risks {{1}}.\",\n",
       "       'For day trading on 6th February 2024, based on recent expert recommendations, here are a few stocks to consider:<br>- **Maharashtra Gas Limited (MGL)**: Buy at ₹1443.70, target ₹1470, stop loss ₹1426 {{1}}<br>- **PNCINFRA**: Buy at ₹446, target ₹465, stop loss ₹432 {{1}}<br>- **Paytm**: Buy at ₹760, target ₹790, stop loss ₹745 {{1}}<br>- **Ashoka**: Buy at ₹177, target ₹185, stop loss ₹172 {{1}}<br>- **Himatsingka Seide Ltd**: Buy at ₹162.95, target ₹175, stop loss ₹158 {{1}}<br><br>These recommendations are based on technical analysis and are aimed at day traders looking for potential opportunities. Always ensure to do your own research and consider your risk tolerance before trading.',\n",
       "       \"---<br><br>When considering the best investment account for your needs, understanding the fundamental differences between Unit Linked Insurance Plans (ULIPs) and Mutual Funds (MFs) is crucial. Here's a comparison to assist in your decision-making process:<br><br>**Investment Objective and Features:**<br>- **ULIPs** combine insurance coverage with investment opportunities. They are suitable for individuals seeking dual benefits of market-linked returns and life coverage. ULIPs offer flexibility in fund allocation based on risk appetite and come with tax benefits under Section 80C of the Income Tax Act, 1961. They are considered long-term investment vehicles with a minimum lock-in period of 5 years.<br>- **Mutual Funds** are purely investment vehicles aimed at wealth creation over the long term. Managed by professional fund managers, they offer the benefits of diversification, easy liquidity, and no insurance component. Mutual funds are more about achieving financial goals through investments in various asset classes like equity, debt, or a mix of both.<br><br>**Liquidity and Lock-In Period:**<br>- ULIPs have a lock-in period of 5 years, making them less liquid compared to mutual funds, which generally do not have a lock-in period except for ELSS funds with a three-year lock-in.<br><br>**Tax Benefits:**<br>- ULIPs provide notable tax advantages, being categorized as EEE (Exempt-Exempt-Exempt) products, whereas mutual funds offer tax-saving options mainly through investments in ELSS.<br><br>**Decision-Making Factors:**<br>- **Goals and Needs**: If your primary goal is life insurance with an investment component, a ULIP might be preferable. However, for purely investment-focused objectives, mutual funds could be more beneficial.<br>- **Investment Horizon**: ULIPs require a longer investment horizon due to their lock-in period and nature as a long-term financial commitment. Mutual funds offer flexibility, allowing for both short-term and long-term investments.<br>- **Risk Appetite**: While both options allow for risk-adjusted returns, your comfort with market volatility and investment goals should guide your choice.<br><br>In summary, if you seek life coverage with your investments and are comfortable with a longer commitment, ULIPs could be suitable. Otherwise, for more flexible and potentially high-return investments without an insurance component, mutual funds may be more appealing {{1}}.\",\n",
       "       \"I'm sorry, but the articles provided do not contain information related to the salaries of rockstars or individuals in the entertainment industry. These documents primarily focus on financial tools, home loan eligibility, and the cost of data around the world, which doesn't directly address your query about rockstar salaries. If you have any other finance or business-related questions, I'd be glad to help!\",\n",
       "       \"I'm sorry, but I can only provide information related to financial and business topics. If you have any queries regarding finance or business, I would be more than happy to assist.\"],\n",
       "      dtype=object)"
      ]
     },
     "execution_count": 20,
     "metadata": {},
     "output_type": "execute_result"
    }
   ],
   "source": [
    "responses_df.headline_removed_responses.sample(30).values"
   ]
  },
  {
   "cell_type": "code",
   "execution_count": 21,
   "id": "f3f3fb45-774b-406c-bd0b-60a4fa9bf0b2",
   "metadata": {
    "tags": []
   },
   "outputs": [],
   "source": [
    "responses_df['cleaned_headline_removed_responses'] = responses_df['headline_removed_responses'].apply(lambda x: clean_responses_further(x))"
   ]
  },
  {
   "cell_type": "code",
   "execution_count": 22,
   "id": "44d653e8-a9ec-4ebc-8c9d-520f2e5a01d3",
   "metadata": {
    "tags": []
   },
   "outputs": [],
   "source": [
    "responses_df['apologies'] = responses_df['cleaned_headline_removed_responses'].apply(lambda x: find_apologies_responses(x))"
   ]
  },
  {
   "cell_type": "code",
   "execution_count": 23,
   "id": "d6aaab0f-f5ba-4ddd-a1fb-9d91e036f966",
   "metadata": {
    "tags": []
   },
   "outputs": [],
   "source": [
    "responses_df['has_ref'] = responses_df['cleaned_headline_removed_responses'].apply(lambda x: has_references(x))"
   ]
  },
  {
   "cell_type": "code",
   "execution_count": 24,
   "id": "6276c96e-7a8b-46a9-9166-1f21fa9222fd",
   "metadata": {},
   "outputs": [
    {
     "data": {
      "text/plain": [
       "0.6975914362176628"
      ]
     },
     "execution_count": 24,
     "metadata": {},
     "output_type": "execute_result"
    }
   ],
   "source": [
    "responses_df.has_ref.mean()"
   ]
  },
  {
   "cell_type": "markdown",
   "id": "92d5f61a-a5b9-4b1d-ba37-1875c73f5018",
   "metadata": {},
   "source": [
    "### Identifying errenous cases"
   ]
  },
  {
   "cell_type": "code",
   "execution_count": 25,
   "id": "34674182-5dd4-4af0-9fbf-e44fe8ac08b2",
   "metadata": {
    "tags": []
   },
   "outputs": [
    {
     "data": {
      "text/plain": [
       "0.28278322925958965"
      ]
     },
     "execution_count": 25,
     "metadata": {},
     "output_type": "execute_result"
    }
   ],
   "source": [
    "responses_df.apologies.mean()"
   ]
  },
  {
   "cell_type": "code",
   "execution_count": 26,
   "id": "9cf4d277-1bfe-424a-ae30-d331235f1949",
   "metadata": {
    "tags": []
   },
   "outputs": [
    {
     "data": {
      "text/plain": [
       "369"
      ]
     },
     "execution_count": 26,
     "metadata": {},
     "output_type": "execute_result"
    }
   ],
   "source": [
    "len(responses_df[responses_df.headline.isnull()])"
   ]
  },
  {
   "cell_type": "code",
   "execution_count": 28,
   "id": "f9c46f97-a990-4d8d-b5f7-a53810f016db",
   "metadata": {
    "tags": []
   },
   "outputs": [
    {
     "data": {
      "text/html": [
       "<div>\n",
       "<style scoped>\n",
       "    .dataframe tbody tr th:only-of-type {\n",
       "        vertical-align: middle;\n",
       "    }\n",
       "\n",
       "    .dataframe tbody tr th {\n",
       "        vertical-align: top;\n",
       "    }\n",
       "\n",
       "    .dataframe thead th {\n",
       "        text-align: right;\n",
       "    }\n",
       "</style>\n",
       "<table border=\"1\" class=\"dataframe\">\n",
       "  <thead>\n",
       "    <tr style=\"text-align: right;\">\n",
       "      <th></th>\n",
       "      <th>0</th>\n",
       "      <th>1</th>\n",
       "      <th>2</th>\n",
       "      <th>3</th>\n",
       "      <th>4</th>\n",
       "      <th>5</th>\n",
       "      <th>6</th>\n",
       "      <th>7</th>\n",
       "      <th>8</th>\n",
       "      <th>hash</th>\n",
       "      <th>cleaned_response</th>\n",
       "      <th>headline</th>\n",
       "      <th>headline_removed_responses</th>\n",
       "      <th>cleaned_headline_removed_responses</th>\n",
       "      <th>apologies</th>\n",
       "      <th>has_ref</th>\n",
       "    </tr>\n",
       "  </thead>\n",
       "  <tbody>\n",
       "    <tr>\n",
       "      <th>0</th>\n",
       "      <td>i</td>\n",
       "      <td>Unitec</td>\n",
       "      <td>2024-01-26T18:06:29</td>\n",
       "      <td>You are an Indian finance and business expert ...</td>\n",
       "      <td>|| user_query: Unitec || today date: 26 Janua...</td>\n",
       "      <td>gpt-4-0125-preview</td>\n",
       "      <td>\"I'm sorry, but there doesn't seem to be any i...</td>\n",
       "      <td>1593</td>\n",
       "      <td>67</td>\n",
       "      <td>False</td>\n",
       "      <td>I'm sorry, but there doesn't seem to be any in...</td>\n",
       "      <td>None</td>\n",
       "      <td>I'm sorry, but there doesn't seem to be any in...</td>\n",
       "      <td>I'm sorry, but there doesn't seem to be any in...</td>\n",
       "      <td>True</td>\n",
       "      <td>False</td>\n",
       "    </tr>\n",
       "    <tr>\n",
       "      <th>1</th>\n",
       "      <td>i</td>\n",
       "      <td>Sjadkjhfjkdshfkjsdhjkfhdsjkfdshfkdshjkfdshkjfsd</td>\n",
       "      <td>2024-01-19T23:57:34</td>\n",
       "      <td>You are an Indian finance and business expert ...</td>\n",
       "      <td>|| user_query: Sjadkjhfjkdshfkjsdhjkfhdsjkfds...</td>\n",
       "      <td>gpt-4-0125-preview</td>\n",
       "      <td>\"I'm sorry, but it seems like your query didn'...</td>\n",
       "      <td>1403</td>\n",
       "      <td>48</td>\n",
       "      <td>False</td>\n",
       "      <td>I'm sorry, but it seems like your query didn't...</td>\n",
       "      <td>None</td>\n",
       "      <td>I'm sorry, but it seems like your query didn't...</td>\n",
       "      <td>I'm sorry, but it seems like your query didn't...</td>\n",
       "      <td>True</td>\n",
       "      <td>False</td>\n",
       "    </tr>\n",
       "    <tr>\n",
       "      <th>2</th>\n",
       "      <td>i</td>\n",
       "      <td>Sensex</td>\n",
       "      <td>2024-01-17T00:15:05</td>\n",
       "      <td>You are an Indian finance and business expert ...</td>\n",
       "      <td>|| user_query: Sensex || today date: 17 Janua...</td>\n",
       "      <td>gpt-4-0125-preview</td>\n",
       "      <td>\"**Quick Insights**\\n\\nAs of the latest update...</td>\n",
       "      <td>3363</td>\n",
       "      <td>92</td>\n",
       "      <td>False</td>\n",
       "      <td>**Quick Insights**&lt;br&gt;&lt;br&gt;As of the latest upd...</td>\n",
       "      <td>Quick Insights</td>\n",
       "      <td>As of the latest update on December 18, 2023, ...</td>\n",
       "      <td>As of the latest update on December 18, 2023, ...</td>\n",
       "      <td>False</td>\n",
       "      <td>True</td>\n",
       "    </tr>\n",
       "  </tbody>\n",
       "</table>\n",
       "</div>"
      ],
      "text/plain": [
       "   0                                                1                    2  \\\n",
       "0  i                                           Unitec  2024-01-26T18:06:29   \n",
       "1  i  Sjadkjhfjkdshfkjsdhjkfhdsjkfdshfkdshjkfdshkjfsd  2024-01-19T23:57:34   \n",
       "2  i                                           Sensex  2024-01-17T00:15:05   \n",
       "\n",
       "                                                   3  \\\n",
       "0  You are an Indian finance and business expert ...   \n",
       "1  You are an Indian finance and business expert ...   \n",
       "2  You are an Indian finance and business expert ...   \n",
       "\n",
       "                                                   4                   5  \\\n",
       "0   || user_query: Unitec || today date: 26 Janua...  gpt-4-0125-preview   \n",
       "1   || user_query: Sjadkjhfjkdshfkjsdhjkfhdsjkfds...  gpt-4-0125-preview   \n",
       "2   || user_query: Sensex || today date: 17 Janua...  gpt-4-0125-preview   \n",
       "\n",
       "                                                   6     7   8   hash  \\\n",
       "0  \"I'm sorry, but there doesn't seem to be any i...  1593  67  False   \n",
       "1  \"I'm sorry, but it seems like your query didn'...  1403  48  False   \n",
       "2  \"**Quick Insights**\\n\\nAs of the latest update...  3363  92  False   \n",
       "\n",
       "                                    cleaned_response        headline  \\\n",
       "0  I'm sorry, but there doesn't seem to be any in...            None   \n",
       "1  I'm sorry, but it seems like your query didn't...            None   \n",
       "2  **Quick Insights**<br><br>As of the latest upd...  Quick Insights   \n",
       "\n",
       "                          headline_removed_responses  \\\n",
       "0  I'm sorry, but there doesn't seem to be any in...   \n",
       "1  I'm sorry, but it seems like your query didn't...   \n",
       "2  As of the latest update on December 18, 2023, ...   \n",
       "\n",
       "                  cleaned_headline_removed_responses  apologies  has_ref  \n",
       "0  I'm sorry, but there doesn't seem to be any in...       True    False  \n",
       "1  I'm sorry, but it seems like your query didn't...       True    False  \n",
       "2  As of the latest update on December 18, 2023, ...      False     True  "
      ]
     },
     "execution_count": 28,
     "metadata": {},
     "output_type": "execute_result"
    }
   ],
   "source": [
    "responses_df.head(3)"
   ]
  },
  {
   "cell_type": "code",
   "execution_count": 29,
   "id": "633676ca-7db3-420c-99c5-30f748c9cefa",
   "metadata": {
    "scrolled": true,
    "tags": []
   },
   "outputs": [
    {
     "data": {
      "text/plain": [
       "array([['what is sensex today ',\n",
       "        \"I'm sorry, but the most recent articles I found on the Sensex's performance is dated January 31, 2024, which indicates the Sensex was at 71,140 after experiencing a drop of 802 points or 1.11%. There isn't direct information available for the Sensex value on February 2, 2024, within the given articles. For the most current Sensex value as of today, February 2, 2024, it's recommended to check a reliable financial news source or market updates platform.\"],\n",
       "       ['Dmr engineering stock price',\n",
       "        'I apologize, but I couldn\\'t find any information directly related to \"Dmr engineering stock price\" in the articles I found. If you have any other queries related to finance or business, especially regarding Bhansali Engineering Polymers, Ace Men Engineering, or Texmaco Rail & Engineering, I\\'d be happy to help with that information.'],\n",
       "       ['100cc bike rides',\n",
       "        \"I'm sorry, but the information provided does not include details on 100cc bike rides specifically, such as ride experiences, tips, or associated events. The articles focus on different areas related to bikes, such as the launch and warranty period of the Honda Shine 100, the electric bike taxi policy in Karnataka, and updates on Bajaj Auto's Pulsar models. If you have queries related to these subjects, I'd be happy to help with the information from the articles I found.\"],\n",
       "       ['Dmr engineering stock price',\n",
       "        'I\\'m sorry, but it seems there was a misunderstanding in your query regarding \"Dmr engineering stock price.\" The articles I found do not contain any specific information on a company named \"Dmr engineering.\" They instead focus on Texmaco Rail & Engineering and Azad Engineering, providing detailed updates on their stock prices, trading volumes, and percent changes in the stock market. If you meant to inquire about either of these companies or have another question related to finance or business, please let me know, and I\\'d be happy to assist!'],\n",
       "       ['100cc bike rides',\n",
       "        'I\\'m sorry, but the articles I found doesn\\'t directly address specific details about 100cc bike rides or their performance. However, I can share related insights on the trends and products in the two-wheeler segment that might be of interest:<br><br>- **Kabira Mobility is focusing on advanced electric bikes** like the KM5000, boasting a 344 km range on a single charge, highlighting a shift towards electric vehicles (EVs) in the two-wheeler market {{1}}.<br>  <br>- **The electric two-wheeler market in Karnataka has challenges**, with policies for e-bike taxis struggling to take off due to execution issues and the slow adoption of electric vehicles, contrasting with the conventional bike taxi services offered by companies like Rapido and Uber {{2}}.<br>  <br>- **Bajaj Auto is innovating in the mid-segment** rather than focusing on the 100cc bikes, with plans to introduce the \"biggest ever Pulsar\" and six upgrades to the Pulsar models this year. This suggests a strategic shift towards higher cc engines and possibly away from the traditional 100cc segment, which is experiencing a downturn due to the increasing interest in electric two-wheelers {{3}}.<br><br>These insights reflect the evolving dynamics in the two-wheeler industry, with a notable shift towards electric bikes and higher cc models, indicating that the demand and focus might be moving away from the traditional 100cc bikes.'],\n",
       "       ['physical gold ownership limit in India ',\n",
       "        \"I'm sorry, but the articles I found do not specify the exact ownership limits for physical gold in India. However, they do provide extensive information on the different ways to invest in gold, including physical gold and the advantages and disadvantages of each investment method. For exact limits on physical gold ownership without attracting scrutiny under Indian law, it's advisable to consult with a legal or financial expert or refer to the most recent guidelines issued by the Indian government or the Income Tax Department.\"],\n",
       "       ['is rahul gandhi as pm good for economy',\n",
       "        \"I'm sorry, but I cannot provide a viewpoint or analysis on whether Rahul Gandhi as Prime Minister would be good for the economy. My responses are focused on financial and business topics based on specific data or articles, and I do not have the capacity to offer opinions or speculate on political figures or hypothetical scenarios without concrete financial data or analysis related to the query.\"],\n",
       "       ['How is cupid stock looking',\n",
       "        \"I apologize, but there doesn't appear to be any specific information on Cupid Ltd's stock performance in the articles I found. My responses are based on articles related to other companies and market insights that do not include data on Cupid Ltd. If you need insights or updates on another topic or company that might be covered in the articles I found, feel free to ask!\"],\n",
       "       ['Sjadkjhfjkdshfkjsdhjkfhdsjkfdshfkdshjkfdshkjfsd',\n",
       "        \"I'm sorry, but it appears your query didn't contain a clear request or question related to finance and business. Could you please provide more details or clarify your inquiry? I'm here to help with questions about finance, business, and related subjects.\"],\n",
       "       ['Best shawarma in India',\n",
       "        \"I'm sorry, but I don't have any information on the best shawarma places in India. My expertise is in providing insights and answers related to finance and business topics. If you have any questions in those areas, feel free to ask!\"]],\n",
       "      dtype=object)"
      ]
     },
     "execution_count": 29,
     "metadata": {},
     "output_type": "execute_result"
    }
   ],
   "source": [
    "responses_df[responses_df.headline.isnull()].sample(10)[[1,'cleaned_headline_removed_responses']].values"
   ]
  },
  {
   "cell_type": "code",
   "execution_count": 30,
   "id": "807354b8-adc4-4365-b450-ee793b67459e",
   "metadata": {
    "tags": []
   },
   "outputs": [
    {
     "data": {
      "text/plain": [
       "41"
      ]
     },
     "execution_count": 30,
     "metadata": {},
     "output_type": "execute_result"
    }
   ],
   "source": [
    "len(responses_df[(responses_df.has_ref == False) & (responses_df.apologies == False)])"
   ]
  },
  {
   "cell_type": "code",
   "execution_count": 31,
   "id": "24358c79-9310-4abe-97ad-e0be7b00e61f",
   "metadata": {
    "tags": []
   },
   "outputs": [],
   "source": [
    "def has_question(x):\n",
    "    return '?' in x and '**' not in x"
   ]
  },
  {
   "cell_type": "code",
   "execution_count": 32,
   "id": "e1f4fbc6-c981-4766-b154-1bd04310f029",
   "metadata": {
    "tags": []
   },
   "outputs": [],
   "source": [
    "responses_df['has_question'] = responses_df['cleaned_headline_removed_responses'].apply(lambda x: has_question(x))"
   ]
  },
  {
   "cell_type": "code",
   "execution_count": 33,
   "id": "af47b72e-d8ad-46b1-8044-a371f05983a3",
   "metadata": {
    "tags": []
   },
   "outputs": [
    {
     "data": {
      "text/plain": [
       "0.058876003568242644"
      ]
     },
     "execution_count": 33,
     "metadata": {},
     "output_type": "execute_result"
    }
   ],
   "source": [
    "responses_df.has_question.mean()"
   ]
  },
  {
   "cell_type": "code",
   "execution_count": 34,
   "id": "a73b4e6d-7f55-4311-98d5-0ae4b790cd65",
   "metadata": {
    "scrolled": true,
    "tags": []
   },
   "outputs": [
    {
     "data": {
      "text/plain": [
       "array([\"I'm sorry, but it seems there was an error with your request as it does not contain a specific query. Could you please provide more details or specify the financial information you are seeking? This will allow me to assist you more effectively.\",\n",
       "       'It seems you are interested in the sharp movements or events related to the US affecting markets or specific stocks. Could you please specify if you are asking about the US stock market corrections, the impact on Indian Rupee, or the performance of a company named \"Sharp Chucks and Machines\"? Your clarification will help in providing a more precise answer.',\n",
       "       'I\\'m sorry, but it seems like there\\'s been a misunderstanding or an error in the query you\\'ve provided. You mentioned \"Unitec,\" but none of the articles I found contain information about a company or entity by that name. The articles discuss PTC Industries\\' deal with Safran Aircraft Engines, Transline Technologies\\' collaboration with the Cooperative Bank of West Bengal, and NBCC\\'s new orders from the National Institute of Fashion Technology and other entities. Could you please clarify your query or request information on a topic covered in the articles I found?',\n",
       "       'I\\'m sorry, but it seems like there was a misunderstanding in the query input. You mentioned \"smart koney,\" which might have been a typographical error. Could you clarify or correct your query if you meant to inquire about \"smart money,\" or if it relates to finance and business topics such as investments, economic strategies, or specific companies\\' financial initiatives? This would help in providing a more focused and accurate response.',\n",
       "       \"I'm sorry, but it seems there was a misunderstanding in the request. Could you please provide me with a specific query or question related to the articles? This will allow me to offer a precise and useful response.\",\n",
       "       \"It seems there was an error in understanding your query. You asked 'how to pan my taxes,' which may have been a typographical error, making it unclear whether you meant 'plan my taxes,' 'pay my taxes,' or inquiries related to your Permanent Account Number (PAN). I can assist with detailed guides on planning or paying your taxes or provide information on how to manage or retrieve your PAN details. Could you please clarify your request for accurate assistance?\",\n",
       "       \"I'm sorry, but it seems like your query didn't contain any clear question or topic related to finance or business. Could you please provide more details or ask a specific question? I'm here to help with finance and business-related queries.\",\n",
       "       \"I'm sorry, but it seems your query is related to Google in a general context and does not specify a finance or business angle that I can address with the information from the articles I found. Could you please provide more details or ask another question related to finance or business?\",\n",
       "       'I\\'m sorry, but your query seems to be too broad and does not point towards a specific question or topic related to finance and business. Could you please provide more details or specify what exactly you need information on regarding \"Goods\"? This would help me to offer you a more accurate and helpful answer.',\n",
       "       'I\\'m sorry, but it seems you\\'re asking for the meaning of \"things\" without specifying the context or the area in which you\\'re interested. From the articles I found, I gather information related to \"Stranger Things,\" a popular Netflix series, and Bond ETFs, which are financial instruments. Both topics are vastly different, each with distinct meanings and implications in their respective fields. <br><br>Are you interested in understanding a concept related to finance, such as Bond ETFs, or something in the entertainment sector like \"Stranger Things\"? Please provide a bit more detail, and I\\'d be happy to help.',\n",
       "       \"I'm here to assist with finance and business-related queries, particularly those involving India, the Reserve Bank of India (RBI), Reliance, and the Federal Reserve. How may I assist you today?\",\n",
       "       \"I'm sorry, but it appears your query didn't contain a clear request or question related to finance and business. Could you please provide more details or clarify your inquiry? I'm here to help with questions about finance, business, and related subjects.\",\n",
       "       'It seems your query about \"apple\" is quite open-ended and might relate to various aspects such as products, company news, or other updates related to Apple Inc. Could you please provide more specificity or context to your inquiry? This will help in providing a precise and helpful answer tailored to your needs.',\n",
       "       \"I'm here to assist with finance and business queries. It appears you're seeking information related to Apple but haven't specified a particular question. Could you provide more detail on what information or assistance you need regarding Apple? This could be related to their stock performance, product deals, or any recent legal issues they are facing.\",\n",
       "       \"I'm sorry, but your query seems to be a mistake or it's not clear what information you're seeking regarding finance and business. Could you please provide more detail or clarify your question so I can assist you effectively?\",\n",
       "       'I\\'m sorry, but it seems like you\\'re asking about the \"Mint\" financial publication or related services based on the context provided, but the articles you\\'ve referenced include two distinct topics: one about health insurance plans in India published by Mint in 2016, and others about the budgeting app Mint and Mint Mobile\\'s Cyber Monday deals from 2023. Could you please clarify your query or specify which Mint service or aspect you are inquiring about? This will help in providing a more accurate and relevant response.',\n",
       "       'I\\'m sorry, but it seems there might have been a misunderstanding with the format of your query. Could you please clarify or specify your question regarding \"Sharp US\"? This will help me provide you with the most relevant and accurate information based on the articles I found.',\n",
       "       \"I'm sorry, but it seems like there might have been a typo or misunderstanding in your query. I'm here to provide insights and answers related to finance and business, specifically focusing on India, RBI, Reliance, the Fed, and related topics. Could you please provide more details or clarify your query?\",\n",
       "       'I\\'m sorry, but it seems there might have been a misunderstanding or a typographical error in your query. When you mentioned \"Is fd a destroyer?\" it appears you might be referring to financial deposits (FDs) or something else entirely, but your query was matched with articles related to military naval destroyers. Could you please provide more details or clarify your question? If you\\'re asking about financial products or India\\'s financial environment, I\\'d be more than happy to assist with the correct information.',\n",
       "       \"I'm sorry, but it seems you didn't specify a particular query related to the provided news articles. Could you please provide more details or ask a specific question regarding the news on the Madras HC ruling on online rummy and poker, the Red Sea conflict affecting exporters, or the Delhi HC ruling on PepsiCo's potato chips variety patent? This will help me give you a precise and informative response.\"],\n",
       "      dtype=object)"
      ]
     },
     "execution_count": 34,
     "metadata": {},
     "output_type": "execute_result"
    }
   ],
   "source": [
    "responses_df[responses_df.has_question == True]['cleaned_headline_removed_responses'].sample(20).values"
   ]
  },
  {
   "cell_type": "code",
   "execution_count": 35,
   "id": "5824f4ff-3ccf-4c93-9b3e-aaf2c26e842a",
   "metadata": {
    "scrolled": true,
    "tags": []
   },
   "outputs": [
    {
     "data": {
      "text/plain": [
       "array([\"I'm unable to use the given articles to generate responses as they do not contain any user-provided information to reference directly.\",\n",
       "       \"I'm unable to find a direct statement or analysis by Sanjiv Bhasin regarding RBI’s directive on Paytm being a big blow or his recommendations on three dark horse picks for investors. My resources primarily discuss the financial penalties imposed on Paytm by the RBI for KYC non-compliance, the subsequent market reaction, Paytm's share performance, and strategic shifts within the company. For investment advice or specific analysts' picks not covered in these articles, I recommend consulting the latest financial news or directly accessing expert analyses from reputable financial advisory services.\",\n",
       "       \"The regular trading hours for the Indian stock market, which includes the Bombay Stock Exchange (BSE) and the National Stock Exchange (NSE), are from 9:15 AM to 3:30 PM Indian Standard Time (IST) from Monday to Friday. Additionally, there's a pre-open session from 9:00 AM to 9:15 AM IST that helps in determining the opening price of stocks. The market remains closed on weekends and on public holidays as declared by the exchange in advance.\",\n",
       "       \"Given the ongoing legal troubles and investigations into money laundering allegations involving Unitech group and its promoters, including the attachment of assets worth over Rs 125 crore and the arrests of key individuals in the group, it would be prudent to exercise caution before investing in Unitech. The ED's actions indicate significant regulatory scrutiny and potential financial instability within the company.\",\n",
       "       '\"Capital Work in Progress\" (CWIP) refers to the costs incurred for the construction of fixed assets that are not yet ready for use. It is a balance sheet account that records ongoing investments in significant projects, such as buildings or machinery, which are under construction or in development. Once these assets are completed and ready for operational use, the value recorded under CWIP is transferred to the relevant fixed asset account. This transition signifies the asset\\'s shift from an unfinished project to a functional asset, capable of contributing to an organization\\'s operational capabilities.',\n",
       "       \"It seems there was an error in understanding your query. You asked 'how to pan my taxes,' which may have been a typographical error, making it unclear whether you meant 'plan my taxes,' 'pay my taxes,' or inquiries related to your Permanent Account Number (PAN). I can assist with detailed guides on planning or paying your taxes or provide information on how to manage or retrieve your PAN details. Could you please clarify your request for accurate assistance?\",\n",
       "       \"- **Conflicting Signals**: Record highs suggest optimism, especially in the tech sector, but subsequent losses point to caution and mixed investor sentiment.<br>- **Economic and Policy Context**: Federal Reserve policies and economic data significantly impact market perceptions and valuations.<br>- **Investor Behavior**: High expectations for tech giants and the broader market dynamics play a critical role in the Nasdaq's valuation.<br><br>The market's current valuation, especially for the tech-dominated Nasdaq, hinges on continuous assessment of corporate performance, economic indicators, and Fed actions. As such, whether the Nasdaq is overvalued is subject to ongoing evaluation amid these factors.\",\n",
       "       \"There's no recent data from 2024 in the articles I found to accurately gauge today's oil prices or the specific current trends. The latest relevant information points to various factors impacting oil prices historically, including geopolitical tensions, supply-demand shifts, and economic downturns, which have led to significant fluctuations. <br><br>For accurate and up-to-date details on today's oil prices, I recommend checking a reliable financial news source or commodities trading platform.\",\n",
       "       \"As of January 11 and 12, 2024, the Nifty 50 Index experienced significant movements:<br>- On January 11, Nifty 50 was expected to open flat but ended the day higher at 21,618.70, indicating a positive trend following a bounce back from the 20-day SMA support.<br>- By January 12, Nifty 50 hit an all-time high, opening at 21,773.55 and peaking at 21,848.20 during the morning trade. This rise was partly fueled by robust gains in IT stocks following the Q3 earnings release of Infosys and TCS. The index's strength was evident as it aimed to retest upper levels around 21,750-21,850 in the near term, influenced by positive global market cues, bullish market sentiment, optimistic Q3 earnings expectations, and technical factors.<br>- Further, on the same day, the Nifty 50 index recorded another record high of 21,897 points, with Infosys and TCS contributing significantly to this rise by accounting for 61% of the index rally. This showcases a bullish investor sentiment driven by strong corporate earnings growth and liquidity flows.<br><br>*Sources: Articles 1, 2, and 3*\",\n",
       "       \"Based on the information provided, there appears to be no direct link between the recent event where investors lost 3 lakh crore in a day and the specific articles I found. The given articles discuss individual stocks' performance and market phenomena such as rapid price fluctuations in options trading (referred to as 'injections') that can wipe out significant capital rapidly, but do not specifically address or quantify a collective loss of 3 lakh crore by investors on a particular day. <br><br>While the articles highlight the volatility in the stock market and the risks associated with certain trading activities, they do not provide a summary or analysis of an event leading to such a substantial market-wide loss. Investments in high-return penny stocks, such as those mentioned, carry significant risks and can contribute to volatility in individual portfolios, but the provided content does not correlate this directly to the query about a broader market loss involving 3 lakh crore.<br><br>It's crucial for investors to be cautious and conduct thorough research before making any investment decisions, especially in volatile sectors or through speculative trading practices like those discussed in the context of 'injections'. Market-wide fluctuations can result from a variety of factors, including macroeconomic changes, policy announcements, or mass trading behaviors, none of which are detailed in the content provided.<br><br>For accurate and detailed information on what caused a specific large-scale market loss, it would be necessary to consult comprehensive market analyses or reports from the date in question, which are not included in the articles available for reference.\",\n",
       "       \"I couldn't find any direct information on VISA and Mastercard being asked by the RBI to stop bill payments. The articles I found focus primarily on the regulatory actions taken by the RBI against Paytm Payments Bank, including restrictions on deposit and credit transactions and the directives concerning the Paytm Payments Bank's non-compliance issues. There was no mention of VISA and Mastercard in the context of halting bill payments in the given sources. My apologies for not being able to provide a specific answer to your query based on the available articles.<br><br>If you have any other finance or business-related questions, feel free to ask!\",\n",
       "       \"I'm here to help with finance and business-related inquiries. If you have questions about investments, economic policies, or company performances, feel free to ask!\",\n",
       "       \"Charlie Munger, celebrated for his influential role alongside Warren Buffett in shaping Berkshire Hathaway, passed away at 99 years old on November 28, 2023, in a California hospital. A renowned lawyer, Munger was pivotal in refocusing Berkshire's investment strategy towards acquiring high-quality, undervalued companies, significantly contributing to its success. His partnership with Buffett was marked by a mutual respect and a shared investment philosophy, leading to substantial wealth and a legacy of wisdom within the financial world. Munger's blunt, insightful commentary and critique on corporate and financial issues, alongside his philanthropic efforts, left a lasting impact on business and society.\",\n",
       "       'It seems like you\\'re inquiring about Malabar but haven\\'t specified the context. There are different contexts related to \"Malabar\" based on the articles I found:<br><br>1. **Malabar Naval Exercise** (Article 1): A multinational naval exercise involving India, the US, Japan, and Australia aimed at enhancing interoperability and sharing best practices in maritime security operations. In 2023, it\\'s hosted by the Royal Australian Navy.<br>   <br>2. **Malabar Gold Scheme** (Article 2): A gold investment scheme by Malabar Gold & Diamonds offering customers an opportunity to purchase gold jewelry in installments or order custom-made pieces at discounted prices.<br><br>3. **Birla Estates Residential Project at Malabar Hill** (Article 3): Birla Estates\\' acquisition of a premium land parcel in Malabar Hill, South Mumbai, for a luxury residential project with a revenue potential of over Rs 600 crore.<br><br>Please specify which context you\\'re interested in, so I can provide a more detailed response.',\n",
       "       \"The microfinance sector in India has witnessed significant growth in FY23, with an overall increase in the microfinance portfolio by 21%. This growth reflects the sector's recovery from the impacts of the COVID-19 pandemic and the progress towards a positive growth trajectory. Below are the key highlights from the latest reports:<br><br>**Growth Across Microfinance Players: **<br><br>  - Non-banking financial companies (NBFCs) saw the highest growth at 49%.<br>  - NBFC MFIs experienced a growth of 37%.<br>  - In contrast, banks (excluding small finance banks) recorded a modest growth of 3%.<br>  - The number of loan accounts in the microfinance industry grew by 10% year-on-year, reaching 136.3 million in FY23.<br><br>**Market Share: **<br><br>  - NBFC-MFIs held the largest market share at 39.72%, followed by banks at 34.14%. <br>  - Small Finance Banks (SFBs), NBFCs, and non-for-profits (NFPs) held 16.62%, 8.44%, and 1.07% of the market share, respectively.<br><br>**Empowering Women Entrepreneurs:**<br><br>  - The microfinance sector has been pivotal in empowering women entrepreneurs, with 98% of the total clientele of MFIs being women borrowers.<br>  - MFIs like Fusion Microfinance have adopted the Joint Liability Model (JLG), dispensing collateral-free loans to groups of women, fostering female entrepreneurship and financial independence.<br><br>**Challenges and Regulatory Intervention:**<br><br>  - Despite successes, the sector has faced challenges, including harassment of borrowers, high interest rates, and debt traps.<br>  - The RBI's interventions and new regulations have aimed to address these concerns, promoting a healthier microfinance environment.<br><br>**Future Potential:**<br><br>  - The Microfinance Industry Network (MFIN) reports immense growth potential for the sector, with an estimated market size of Rs 13 lakh crore in FY23-24.<br>  - Efforts toward strengthening governance and incorporating digital interventions are vital for future growth and efficiency.<br><br>The microfinance sector's role in financial inclusion, especially among women and rural populations, remains crucial. The recent growth signifies positive momentum but underscores the need for continuous improvement in practices and policies to address existing challenges effectively.<br><br>*Sources: Mint (Article 1 & 2), Microfinance Industry Network Report (Article 3).*\",\n",
       "       \"It appears the query is seeking information regarding the limits on gold ownership in India. However, the articles provided do not directly address or mention any specific limits on how much gold an individual can own in India. They cover different aspects related to gold, such as the increase in gold loan limits for urban cooperative banks, factors influencing gold rates in various cities in India, and details on the Sovereign Gold Bond scheme. <br><br>Since the direct query on gold ownership limits is not addressed in the articles I found, I'm unable to provide a specific answer based on the information available. In India, there aren't publicly known statutory limits on the amount of gold an individual can own, but it's advisable to keep receipts or proof of purchase for significant amounts, especially for tax and legal purposes. For accurate and current regulations, consulting with a legal expert or referring to the official guidelines from the Indian government or the Reserve Bank of India would be recommended.\",\n",
       "       \"I'm here to help with finance and business-related inquiries. If you have any questions within those areas, feel free to ask!\",\n",
       "       \"It seems you may have inadvertently omitted specific details or questions about Hyundai in your request. If you have any specific inquiries regarding Hyundai's recent safety features, their investment in Tamil Nadu, or any other aspect related to their operations in India, please provide more details. This will enable me to offer you a more precise and tailored response.\",\n",
       "       \"I'm here to help with finance and business-related queries. Unfortunately, it seems like your query might be more suitable for a different type of information. If you have any questions related to finance, business, the RBI, Reliance, the Fed, or similar topics, feel free to ask!\",\n",
       "       '- **Bitcoin (BTC):** INR 25,29,989, marking a +1.6% change over the last 24 hours.<br>- **Ethereum (ETH):** INR 1,64,020, showing a slight increase of +0.09% over the last 24 hours.<br>- **Ripple (XRP):** INR 39,7119, with a +0.34% change.<br>- **Dogecoin (DOGE):** INR 6.9999, increasing by +0.99%.<br>- **WazirX Token (WRX):** INR 13.81, experiencing a -1.49% change.<br><br>Please note, these rates reflect the cryptocurrency market status as of May 4, 2023, and are subject to volatile changes.',\n",
       "       \"Understanding the distinction between short and long put options is crucial for investors looking to navigate the options market effectively. Here's a simplified breakdown:<br><br>**Long Put Option:**<br><br>  - **Definition**: Buying a put option, which gives the holder the right but not the obligation to sell an underlying asset at a specified strike price before the option expires.<br>  - **Investor Outlook**: Bearish. The investor anticipates that the asset's price will decline.<br>  - **Risk and Reward**: Limited risk (the premium paid for the option) and potentially unlimited reward if the underlying asset's price plummets.<br><br>- **Short Put Option** (Not directly discussed but inferred from context):<br>  - **Definition**: Selling or writing a put option, obligating the seller to buy the underlying asset at the strike price if the option is exercised by the buyer.<br>  - **Investor Outlook**: Bullish or expects minimal decline in the underlying asset’s price.<br>  - **Risk and Reward**: Potentially high risk if the asset's price falls significantly (limited to the strike price minus the option premium received) and limited reward (the premium received for selling the option).<br><br>In summary, the key difference lies in the position the investor takes (buying vs. selling) and their market outlook (bearish vs. bullish or neutral). Choosing between these strategies depends on the investor's risk tolerance, market prediction, and investment objectives.\",\n",
       "       \"The information regarding the limitation on the amount of physical gold you can own in India is not explicitly addressed in the articles I found. These articles focus more on the benefits of investing in gold, the introduction of Sovereign Gold Bonds (SGBs) by the Reserve Bank of India (RBI) as an alternative to owning physical gold, and the comparison between owning physical gold and digital gold investment options like Gold ETFs, Gold Mutual Funds, and SGBs. Unfortunately, without specific guidelines or regulations mentioned in these articles related to the physical gold ownership limit, I'm unable to provide a direct answer to your query. For accurate and updated information on physical gold ownership limits, it would be best to consult official sources or guidelines provided by the Indian government or relevant regulatory bodies.\",\n",
       "       \"- **Eligibility Criteria:** Typically involves age (between 21 and 65 years), nationality (Indian residents or NRIs), income thresholds, and a good credit score, typically 750 or above. Work experience of at least 2 years is often required.<br>- **Interest Rates:** Home loan interest rates can start from 8.74% per annum, but the rates can vary based on the lender, your creditworthiness, and other factors. It's essential to compare rates from different lenders.<br>- **Documentation Needed:** For salaried individuals, this includes PAN, identity, address proof, salary slips, Form 16, and IT returns. Self-employed individuals need to provide similar identity and address proofs, along with financial statements attested by a CA, business license, and other business-related documents.<br>- **How to Apply:** You can apply online through lender’s websites or apps, providing personal and financial details, and getting pre-approval based on your eligibility.<br><br>**Instant Cash Loans in Bangalore:**<br>- **Features and Benefits:** No collateral needed, quick disbursement, flexible loan amounts (up to a certain limit), and repayment options. Interest rates can vary significantly.<br>- **Eligibility:** Age 18 to 65, with a minimum credit score of 650. Income requirements can vary by lender.<br>- **Application Process via Navi:** Download the app, register, apply by filling in personal details, choose your loan amount and EMI, and submit. The process is quick, taking around 10-20 minutes for approval and fund transfer.<br><br>Please verify these details and the current rates, terms, and conditions with the respective financial institutions or lenders directly, as the information can change over time.\",\n",
       "       \"I couldn't find information specifically addressing the ownership limit of gold an individual can have in India without documentation or taxation concerns. The articles I found focus on gold loan limits by the RBI, factors influencing gold rates in different Indian cities, and the Sovereign Gold Bond (SGB) scheme rather than direct ownership limitations. <br><br>For concerns related to the legal limit of gold ownership in India, I recommend consulting official government resources like the Income Tax Department or official notifications from the Ministry of Finance for the most accurate and updated regulations.\",\n",
       "       \"I'm an AI developed by Insight for providing finance and business-related information and assistance. My version number is not relevant to the tasks I perform, and I don't have a version number in the typical sense of software releases. My capabilities are updated regularly to provide the most accurate and up-to-date information based on the data and queries provided to me. How can I assist you with finance or business-related questions today?\",\n",
       "       'What information do you need on Wipro?',\n",
       "       'It seems you are interested in the sharp movements or events related to the US affecting markets or specific stocks. Could you please specify if you are asking about the US stock market corrections, the impact on Indian Rupee, or the performance of a company named \"Sharp Chucks and Machines\"? Your clarification will help in providing a more precise answer.',\n",
       "       \"- **15th January 2024**: Closed at ₹815.85 with a high of ₹818.95 and a low of ₹809.5. Market Cap: ₹312,733.9 crore. BSE Volume: 1,029,657 shares.<br>- **16th January 2024**: Closed at ₹816.25 after opening at ₹821.95. Market Cap: ₹311,239.67 crore. BSE Volume: 276,367 shares.<br>- **17th January 2024**: Ended the day at ₹812.35, hitting a high of ₹827. Market Cap: ₹313,749.21 crore. BSE Volume: 392,615 shares.<br><br>**Key Takeaways**:<br>- Stock prices fluctuated slightly across these dates, with the highest closing price on 16th Jan at ₹816.25.<br>- The highest trading activity was on 15th Jan with over 1 million shares traded.<br>- The stock hit its 52-week high on 16th Jan at ₹821.95.<br><br>These insights can help in gauging Tata Motors' stock performance over these specific dates.\",\n",
       "       'The term \"Smart Money\" generally refers to the capital invested by individuals with extensive knowledge and experience in financial markets. These investors often identify and invest in opportunities before others catch on, leading to potential profits. The concept implies that following the investment patterns of \"smart money\" can be a wise strategy for other investors. However, educational content from articles 1, 2, and 3 does not directly address \"smart money\" itself but offers relevant guidance and principles that could be considered strategic approaches aligning with smart money investments:<br><br>- Educating yourself on financial investments and market trends.<br>- Understanding and implementing concepts like compound interest and credit utilization.<br>- Following the investment strategies recommended by experienced investors like Seth Klarman, including value investing and seeking undervalued assets with a margin of safety.<br><br>These insights suggest a thorough understanding of the market, disciplined investment strategies, and consistent financial education are key components that align with the smart money approach.',\n",
       "       \"The articles I found do not specifically address the query of saving tax while buying a car in India. They offer broader insights into saving money for a car purchase and general tax-saving strategies in India but don't directly link tax savings to car purchases. Therefore, I cannot provide a precise answer based on these articles. For specific tax-saving advice related to car purchases, including potential deductibles or exemptions, it would be best to consult a tax professional or reference current government policies and tax laws directly related to automotive purchases in India.\",\n",
       "       \"I understand you're looking for a lighter moment, but as a dedicated finance and business expert, my capabilities are centered on providing insights related to finance and business topics. I'm here to help with any questions or information you might need in those areas!\",\n",
       "       \"I'm unable to provide real-time data or access live updates, including Google's current share price as of 29 January 2024. For the most up-to-date share price of Google or any other financial instruments, please consult a real-time financial news platform or stock market monitoring tool.\",\n",
       "       \"In options trading, understanding the distinction between short and long put options is crucial for strategy execution. Both involve put options but differ fundamentally in their operation, risk, and potential reward.<br><br>**Long Put Options:**<br><br>  - **Definition**: Buying a put option gives the holder the right, not the obligation, to sell an asset at a predetermined price (strike price) before the contract expires. It is a bearish bet, expecting the asset price to fall.<br>  - **Risk and Reward**: The maximum loss is limited to the premium paid for the put option. Potential profit is substantial if the asset price falls significantly.<br>  - **Example**: No specific example is provided in the articles, but generally, if the stock price drops significantly below the strike price, the value of the put option increases, leading to potential profit.<br><br>**Short Put Options:**<br><br>  - **Definition**: Selling (or writing) a put option means selling the right to another party to sell an asset at a predetermined price before the contract expires. This strategy is generally used when one expects the asset price to remain stable or increase.<br>  - **Risk and Reward**: The profit is limited to the premium received for selling the put. However, the risk is much higher as losses can accumulate if the asset price falls sharply.<br>  - **Example from Article 1**: In a Bull Put Spread strategy (a form of short put options), by selling an in-the-money (ITM) put option and buying an out-of-the-money (OTM) put option, a net credit is received. The maximum profit is capped at the net credit received, and loss is limited to the difference between the spread and net credit.<br><br>Comparatively, **long put options** are straightforward, designed for capitalizing on bearish market sentiments with limited risk and high potential profit. In contrast, **short put options** (as seen in strategies like the Bull Put Spread) aim for premium income with defined risk and reward, suitable for moderately bullish or stagnant market views.<br><br>These differences highlight the importance of strategy selection based on market outlook, risk tolerance, and goal of the trade. Each strategy carries its unique risk-reward balance and serves different purposes in a trader's portfolio.\",\n",
       "       \"Mezzanine debt occupies a unique position in the capital structure of a company, blending elements of debt and equity financing, which sets it apart from more traditional forms of debt. Here's a breakdown of its characteristics compared to other debt types:<br><br>**Position in Capital Structure:**<br><br>   - *Mezzanine Debt*: It sits between senior debt and equity in a company's capital structure. This intermediate positioning gives it a higher risk profile than senior secured debts but less risk compared to equity. <br>   - *Other Debt Forms*: Traditional debts, such as secured loans or debentures, have a clearer ranking in terms of repayment priority. Secured debts are backed by collateral, giving them lower risk.<br><br>**Interest Rates and Repayment Terms:**<br><br>   - *Mezzanine Debt*: Generally carries higher interest rates due to its increased risk. It often includes flexible repayment terms, potentially converting to equity under certain conditions.<br>   - *Other Debt Forms*: Traditionally have fixed or variable interest rates with defined repayment schedules. Secured debts usually offer lower interest rates since they are backed by collateral.<br><br>**Security and Collateral:**<br><br>   - *Mezzanine Debt*: Typically unsecured and not backed by any specific collateral, which contributes to its higher risk and interest rate.<br>   - *Other Debt Forms*: Can be secured or unsecured. Secured debt is backed by collateral, reducing the lender's risk.<br><br>**Return Potential and Risks:**<br><br>   - *Mezzanine Debt*: Offers potential for higher returns to lenders through its equity conversion options, aligning interests with equity holders to some extent.<br>   - *Other Debt Forms*: Usually provide fixed returns based on interest payments, without direct participation in the borrower's equity upside.<br><br>Given the unique characteristics of mezzanine debt, investors and companies often use it in specific scenarios, such as financing acquisitions or growth initiatives, where traditional debt might be too costly or restrictive. Its hybrid nature provides a middle ground, capturing some growth upside while retaining priority over equity in case of liquidation.<br><br>Unfortunately, the articles I found do not specifically cover mezzanine debt, so this answer compiles general information on debt financing instruments and their characteristics, without direct citations from the articles.\",\n",
       "       \"1. **Research and Choose a Bank:** Begin by comparing different banks and their account offerings. Consider factors like minimum balance requirements, fees, interest rates, and online banking features.<br><br>2. **Visit the Bank's Website or Branch:** Once you've chosen a bank, you can either visit their nearest branch or their official website to start the account opening process.<br><br>3. **Fill Up the Application Form:** Whether online or in-person, you'll need to fill out an application form with details such as your name, address, contact information, and often your employment details.<br><br>4. **Complete KYC (Know Your Customer) Verification:** For KYC, you will typically need to provide proof of identity and proof of address. Common documents include Aadhaar card, PAN card, passport, and utility bills.<br><br>5. **Submit Required Documents:** Along with the application and KYC form, you may need to provide additional documents as per the bank's requirements.<br><br>6. **Deposit the Initial Amount:** Some banks might require you to deposit an initial amount to activate your account.<br><br>7. **Await Account Activation:** After submitting your application and necessary documents, the bank will process your application. Once approved, you'll receive your bank account details.<br><br>8. **Set Up Online Banking:** If applicable, set up online banking to manage your account conveniently from anywhere.<br><br>Please check the HDFC Bank official website or contact their customer service for specific instructions and requirements related to opening an account with them.\",\n",
       "       'The standard share market trading hours in India are as follows:<br><br>- **Pre-Open Session**: From 9:00 AM to 9:15 AM. This session is divided into three parts; from 9:00 AM to 9:08 AM for order entry, modification, and cancellation, from 9:08 AM to 9:12 AM where orders are matched and confirmed, and from 9:12 AM to 9:15 AM, which acts as a buffer period for the transition to the regular trading session.<br>  <br>- **Regular Trading Session**: From 9:15 AM to 3:30 PM. This duration is when the actual trading takes place, where investors can buy and sell their stocks.<br><br>- **Post-Closing Session**: From 3:40 PM to 4:00 PM. This session is for calculating the closing prices of stocks based on their trading.<br><br>This schedule is followed on all working days, Monday through Friday, excluding public holidays when the stock exchanges are closed.',\n",
       "       'How is the Indian economy performing according to the latest Economic Times articles?',\n",
       "       \"I'm unable to provide articles from Economic Times as requested. However, I can offer summaries or analyses based on general knowledge and publicly available information up to my last update in April 2023. If you have any questions or need information within that scope, feel free to ask!\",\n",
       "       'It seems your query about \"apple\" is quite open-ended and might relate to various aspects such as products, company news, or other updates related to Apple Inc. Could you please provide more specificity or context to your inquiry? This will help in providing a precise and helpful answer tailored to your needs.',\n",
       "       '\"Capital Work in Progress\" (CWIP) is an account found on the balance sheet under fixed assets, signifying the sum total of ongoing investments in significant construction projects, expansions, or other long-term strategic projects that have not yet been completed. It includes the costs incurred to date on these projects, such as construction or development expenses. Once the projects are completed and ready for their intended use, the amounts in CWIP are transferred to the appropriate fixed assets categories and depreciation begins. This account ensures the costs are capitalized and not expensed directly in the income statement, providing a clear view of investment in major projects yet to contribute to the company\\'s productive capacity.<br><br>Unfortunately, the articles I found do not directly define or elaborate on \"Capital Work in Progress,\" so this explanation is based on standard accounting principles.',\n",
       "       '- The query seems to be looking for information on India-focused LLM programs, however, the articles I found do not contain any information related to legal studies, law degrees, or educational programs in law. Instead, they cover information about mutual funds in India, specifically focused equity funds from Invesco, Franklin Templeton, and Aditya Birla, along with comparisons and detailed fund analysis.<br><br>- For those seeking information on Law (LLM) programs focused on Indian law or for Indian students, it would be advisable to look directly at law schools in India or international law schools offering specialized courses on Indian law. Unfortunately, based on the articles provided, I cannot give a direct answer or guide on LLM programs.'],\n",
       "      dtype=object)"
      ]
     },
     "execution_count": 35,
     "metadata": {},
     "output_type": "execute_result"
    }
   ],
   "source": [
    "responses_df[(responses_df.has_ref == False) & (responses_df.apologies == False)].cleaned_headline_removed_responses.values"
   ]
  },
  {
   "cell_type": "code",
   "execution_count": 36,
   "id": "c1786991-a6eb-4c1f-9767-efe3493edbf7",
   "metadata": {
    "tags": []
   },
   "outputs": [],
   "source": [
    "def flag_responses(row):\n",
    "    if (row['has_ref'] == False) and (row['apologies'] == False):\n",
    "        return True\n",
    "    elif row['has_question']:\n",
    "        return True\n",
    "    return False"
   ]
  },
  {
   "cell_type": "code",
   "execution_count": 57,
   "id": "c4b4791e-2dd0-4387-9224-c428c86557c2",
   "metadata": {
    "tags": []
   },
   "outputs": [],
   "source": [
    "responses_df['flagged'] = responses_df.apply(lambda x: flag_responses(x),axis=1)"
   ]
  },
  {
   "cell_type": "code",
   "execution_count": 58,
   "id": "0bc94e8f-1f73-432d-925f-f2da6f31ace2",
   "metadata": {
    "tags": []
   },
   "outputs": [
    {
     "data": {
      "text/plain": [
       "flagged\n",
       "False    1020\n",
       "True      101\n",
       "Name: flagged, dtype: int64"
      ]
     },
     "execution_count": 58,
     "metadata": {},
     "output_type": "execute_result"
    }
   ],
   "source": [
    "responses_df.groupby('flagged')['flagged'].count()"
   ]
  },
  {
   "cell_type": "code",
   "execution_count": 59,
   "id": "4c2425a0-5be9-4905-85bd-afe49f39e7d2",
   "metadata": {
    "tags": []
   },
   "outputs": [
    {
     "data": {
      "text/plain": [
       "257"
      ]
     },
     "execution_count": 59,
     "metadata": {},
     "output_type": "execute_result"
    }
   ],
   "source": [
    "len(responses_df[(responses_df['flagged'] == False) & (responses_df['apologies'] == True)])"
   ]
  },
  {
   "cell_type": "code",
   "execution_count": 60,
   "id": "0da557d1-8fd9-465c-857a-6afd1085b2c5",
   "metadata": {
    "tags": []
   },
   "outputs": [],
   "source": [
    "import numpy as np"
   ]
  },
  {
   "cell_type": "code",
   "execution_count": 61,
   "id": "49c0159c-7964-4d98-a5b5-eb6e17fd82db",
   "metadata": {
    "tags": []
   },
   "outputs": [],
   "source": [
    "# down sample rejections by 50%\n",
    "responses_df['flagged'] = responses_df.apply(lambda x: x['flagged'] if x['flagged'] else True if (x['apologies'] and (np.random.rand() < 0.5)) else False,axis=1)"
   ]
  },
  {
   "cell_type": "code",
   "execution_count": 63,
   "id": "d29f4b5e-0a75-4ff8-a8c9-43fbfaf29c90",
   "metadata": {
    "tags": []
   },
   "outputs": [
    {
     "data": {
      "text/plain": [
       "131"
      ]
     },
     "execution_count": 63,
     "metadata": {},
     "output_type": "execute_result"
    }
   ],
   "source": [
    "len(responses_df[(responses_df['flagged'] == False) & (responses_df['apologies'] == True)])"
   ]
  },
  {
   "cell_type": "code",
   "execution_count": 64,
   "id": "db5bf3b3-efc2-4337-99d7-2639d49ff0f3",
   "metadata": {
    "scrolled": true,
    "tags": []
   },
   "outputs": [
    {
     "data": {
      "text/plain": [
       "array([['somebody that you used to know ',\n",
       "        \"I'm sorry, but it appears your query does not pertain to finance and business topics, which are the focus of my expertise. If you have any questions regarding finance, business, investments, or similar areas, feel free to ask!\"],\n",
       "       ['How is cupid stock looking',\n",
       "        \"I apologize, but there doesn't appear to be any specific information on Cupid Ltd's stock performance in the articles I found. My responses are based on articles related to other companies and market insights that do not include data on Cupid Ltd. If you need insights or updates on another topic or company that might be covered in the articles I found, feel free to ask!\"],\n",
       "       ['Dmr engineering stock price',\n",
       "        'I\\'m sorry, but there seems to be a misunderstanding in your question about \"Dmr engineering stock price.\" Unfortunately, the information provided does not include data or updates on a company explicitly named \"Dmr engineering.\" The articles I found offer updates on \"Texmaco Rail & Engineering\" and \"AZAD ENGINEERING,\" but there are no details concerning \"Dmr engineering.\" If you\\'re looking for information on either Texmaco Rail & Engineering or AZAD ENGINEERING, please let me know, and I would be happy to assist with that information.'],\n",
       "       ['somebody that you used to know ',\n",
       "        \"I'm here to assist with finance and business inquiries. If you have any questions within that domain, please feel free to ask!\"],\n",
       "       ['future is uncertain ',\n",
       "        'I\\'m here to assist with finance and business-related inquiries. Unfortunately, I can\\'t provide realtime sports or entertainment updates, including information about Kylian Mbappe\\'s career moves or updates on TV series like \"Yellowstone\" or \"Shadow and Bone.\" If there are any questions related to finance, business trends, or market updates, especially involving entities like the RBI, Reliance, or mutual funds, I\\'d be more than happy to help. Please feel free to ask anything related to those topics!'],\n",
       "       ['100cc bike',\n",
       "        \"I'm sorry, but I cannot directly answer your query about 100cc bikes using the articles I found in the articles. However, I can share some related insights:<br><br>- **Bajaj Auto** is considering an **entry-level CNG bike** as a cost-effective alternative to petrol bikes, addressing the needs of entry-level buyers affected by the pandemic and rising fuel prices. The company has noticed that the **100cc motorcycle segment is under pressure**, indicating a potential shift in consumer preferences {{1}}.<br>  <br>- **Honda Shine 100** has been introduced with an **extended 10-year warranty** and a special pricing offer in specific Indian states, aimed at making the bike more accessible and competitive in the 100cc commuter motorcycle market. This bike features a newly designed 100cc engine with eSP technology to enhance fuel efficiency {{2}}.<br><br>These insights point to developments in the 100cc bike segment concerning consumer preferences and market competition.\"],\n",
       "       ['Ram mandir',\n",
       "        \"I'm sorry, but I can't provide assistance on non-financial or non-business related queries. My expertise is focused on finance and business topics, particularly involving key entities like India, RBI, Reliance, and the Fed. If you have any questions related to these areas, I'd be more than happy to help.\"],\n",
       "       ['Whats up',\n",
       "        \"I'm here to assist with finance and business-related queries. If you have any questions in those areas, feel free to ask!\"],\n",
       "       ['Haryana',\n",
       "        \"I'm sorry, but I'm unable to provide current finance or business-related updates or information on Haryana as the queries submitted do not pertain to financial or business topics directly. My expertise is focused on providing insights into finance, business, RBI, Reliance, the Fed, and related areas. If you have any queries within those domains, I'd be glad to assist.\"],\n",
       "       ['Live ',\n",
       "        \"I'm sorry, but I can only provide information related to finance and business queries. If you have any questions regarding those areas, feel free to ask!\"],\n",
       "       ['jokes ',\n",
       "        \"I'm here to provide information on financial and business-related topics. If you have any questions on those subjects, feel free to ask!\"],\n",
       "       ['How much salary does rockstars usually have?',\n",
       "        \"I'm sorry, but the articles I found do not contain information related to the salaries of rockstars or individuals in the entertainment industry. These documents primarily focus on financial tools, home loan eligibility, and the cost of data around the world, which doesn't directly address your query about rockstar salaries. If you have any other finance or business-related questions, I'd be glad to help!\"],\n",
       "       ['bojack horseman',\n",
       "        'I\\'m sorry, but it seems there was a misunderstanding. Based on the articles I found, I am unable to find specific finance or business-related content related to \"Bojack Horseman.\" My expertise is in delivering insights on finance and business topics. If you have any questions related to those areas, please feel free to ask!'],\n",
       "       ['Live\\\\',\n",
       "        \"I'm sorry, but I can't provide real-time or live information such as current dates or events happening right now. My capabilities are designed to answer queries based on the information available up to my last update. If you have questions about finance, business, or any related topic within that scope, I'd be more than happy to assist.\"],\n",
       "       ['Live Mint',\n",
       "        \"I apologize, but the articles I found do not contain the specific information needed to effectively respond to your query regarding Live Mint. They only contain a disclaimer about the nature of the live blogs and an offer for Mint Premium access. If there's anything else related to finance and business that you need assistance with, please feel free to ask.\"],\n",
       "       ['nasher miles',\n",
       "        'I\\'m sorry, but it appears there\\'s been a misunderstanding. The articles I found in the articles does not mention or relate to \"Nasher Miles,\" which seems to be the central aspect of your query. The articles instead cover a range of topics, including Miles Kane\\'s music tour, Gina Miles\\' victory on The Voice Season 23, and the fall of 8K Miles Software aka SecureKloud. If you have questions related to these topics or any other finance and business-related inquiries, please feel free to ask!'],\n",
       "       ['What is cwip',\n",
       "        'I\\'m sorry, but the articles I found do not contain information related to \"cwip.\" Therefore, I\\'m unable to provide an explanation based on the sources given. If you have any other finance or business-related queries, please feel free to ask.'],\n",
       "       ['Sam',\n",
       "        \"I'm sorry, but it seems like you're asking for information or assistance that doesn't relate to business or finance questions specifically regarding entities like India, RBI, Reliance, and the Fed, based on the guidelines provided to me. My capabilities are focused on providing insights into finance and business-related queries. If you have any questions within those realms, I would be more than happy to assist!\"],\n",
       "       ['Char',\n",
       "        \"I'm sorry, but I can't provide real-time or future updates as my last update was in January 2024. For the most accurate and up-to-date information, please consult a reliable financial news source.\"],\n",
       "       ['Yygggggggggg',\n",
       "        \"I'm here to assist with finance and business-related inquiries. Unfortunately, I can't help with the query you've provided. If you have any questions regarding finance or business, particularly involving entities like India, RBI, Reliance, or the Fed, feel free to ask!\"],\n",
       "       ['supreme court financial news ',\n",
       "        \"I'm sorry, but it appears there are no specific articles in the provided set directly related to recent Supreme Court financial news. The articles shared focus on Supreme Industries' stock evaluation, SEBI's proposal on simplifying financial asset nominations, and details of Capital Small Finance Bank IPO subscription. If you're interested in any of these topics, I'd be happy to provide more detailed information.\"],\n",
       "       ['Niyo credit card',\n",
       "        \"I'm sorry, but I can't find specific information about a Niyo credit card in the articles I found. The articles focus on Niyo's shift towards becoming a travel tech platform, general tips on choosing travel credit cards, and effective usage of credit cards. They do not mention a specific Niyo credit card offering. If you're looking for details on Niyo's banking services or their travel tech platform, I can provide information on those topics. For specific credit card offerings by Niyo, I recommend checking their official website or contacting their customer service for the most accurate and up-to-date information.\"],\n",
       "       ['fuck',\n",
       "        \"I'm here to provide assistance with finance and business-related queries. If you have any questions in those areas, feel free to ask!\"],\n",
       "       ['Unitec',\n",
       "        'I\\'m sorry, but it seems there might have been a misunderstanding or typo in your query regarding \"Unitec.\" Based on the information provided, I don\\'t have any specific details or articles related to \"Unitec.\" If you have questions about PTC Industries, TCS, or any other finance and business-related topics based on the articles I found, I would be happy to assist. Please feel free to clarify or adjust your query.'],\n",
       "       ['jokes ',\n",
       "        \"I'm here to provide assistance with finance and business-related queries. It seems like you're looking for information on jokes. While I strive to offer support in a wide range of topics, my expertise is focused on finance and business. If you have any questions in those areas, I'd be more than happy to help.\"],\n",
       "       ['what is sensex today ',\n",
       "        \"I'm sorry, but I can't provide the current Sensex value for today, February 2, 2024, as the latest data I have access to is from January 31, 2024. On that date, the Sensex closed at 71,140, after shedding 802 points or 1.11% {{3}}. For the most current Sensex value, I recommend checking a reliable financial news website or stock market app.\"],\n",
       "       ['supreme court ',\n",
       "        \"I'm sorry, but I am unable to provide recent or specific information about the Supreme Court's activities, updates, or related news as of today's date, February 5, 2024, based on the articles provided. My responses are limited to the content of the given articles, which do not cover any direct information or updates relevant to the Supreme Court for your specified date. If you have any other questions related to finance and business or any other topic that might be covered within the scope of the articles I found, I would be happy to help.\"],\n",
       "       ['Stock market',\n",
       "        \"I'm sorry, but without specific articles related to the current date (10 January 2024) or more recent developments in the stock market, I'm unable to provide the latest information on stock market trends or performances as of today. The articles I found span from June to December 2023, and while they offer insights into past stock market activities and broader market trends, they may not accurately reflect the current state of financial markets or specific stocks as of January 2024. If you have questions on specific aspects of stock market analysis or historical trends based on the provided dates, I'd be happy to help with that.\"],\n",
       "       ['nasher miles',\n",
       "        'I\\'m sorry, but it seems there\\'s been a misunderstanding. None of the articles I found offer information specifically about \"Nasher Miles\" or relate to financial business details concerning such an entity. The articles focus on different subjects including Miles Kane\\'s music tour, Gina Miles\\' victory on The Voice, and the rise and fall of a company named 8K Miles Software, now SecureKloud. If Nasher Miles pertains to a different context or you have another query related to finance and business in India or the topics covered in the articles, please let me know, and I would be happy to assist.'],\n",
       "       ['Tighten',\n",
       "        \"I'm sorry, but I can't provide real-time updates or answer queries unrelated to finance and business topics. My function is designed to support finance and business-related inquiries, especially regarding key entities like India, RBI, Reliance, and the Fed, based on the articles I found to me. If you have any questions within these parameters, feel free to ask!\"]],\n",
       "      dtype=object)"
      ]
     },
     "execution_count": 64,
     "metadata": {},
     "output_type": "execute_result"
    }
   ],
   "source": [
    "responses_df[(responses_df['flagged'] == False) & (responses_df['apologies'] == True)][[1,'cleaned_headline_removed_responses']].sample(30).values"
   ]
  },
  {
   "cell_type": "code",
   "execution_count": 66,
   "id": "7395259b-2ef4-41fb-b65e-b2a6e60d0e74",
   "metadata": {
    "scrolled": true,
    "tags": []
   },
   "outputs": [
    {
     "data": {
      "text/plain": [
       "array([['whats happening with bajaj finance ',\n",
       "        \"Bajaj Finance's stock has seen a decrease in its price, dropping by 1.22% to ₹7212.55 on the last day of trading reported. Despite a fall of nearly 5% after announcing a Q3FY24 revenue increase of 31.3% YoY to ₹14,161.09 crore and a profit after tax increase of 22.4% YoY to ₹3,638.95 crore, brokerages remain bullish. They highlight strong AUM growth and stable asset quality as key drivers. Key brokerages have set target prices ranging from ₹8,500 to ₹10,000, citing digital ecosystem expansion, strong customer acquisition, and the company's ability to navigate NIM compression through operational efficiencies {{1}}{{2}}{{3}}.\"],\n",
       "       ['loans',\n",
       "        \"No credit check loans, often seen as a recourse for individuals with low credit scores requiring immediate financial assistance, bypass the conventional credit history examination. However, these loans come with their unique set of features, benefits, drawbacks, and alternatives in the Indian financial landscape.<br><br>**Features and Benefits:**<br>- **Instant Accessibility**: These loans offer quick approval and access to funds, making them suitable for urgent financial needs.<br>- **Eligibility Beyond Credit Scores**: Despite lacking a high credit score, individuals can still secure loans based on income, employment status, and collateral if necessary.<br>- **Flexibility and Convenience**: With minimal documentation and the possibility of high loan amounts, these loans provide a flexible and convenient option for borrowers.<br><br>**Drawbacks:**<br>- **Higher Interest Rates**: To mitigate the risk of lending without a credit check, these loans often carry significantly higher interest rates compared to conventional loans.<br>- **Favorable Terms for Lenders**: The loan terms are typically set in favor of the lender, potentially increasing the borrower's financial burden due to unfavorable conditions.<br><br>**Alternatives in India:**<br>- **Secured Loans**: Indian banks and financial institutions usually don’t offer no credit check loans, but individuals can opt for secured loans by pledging collateral. Secured loans like those against property, gold, or fixed deposits feature lower interest rates and more favorable terms.<br><br>**Conclusion:**<br>While no credit check loans provide a quick financial solution, particularly for those with poor credit histories, they come with higher costs and risks. Exploring secured loan options might offer a more financially prudent path for many borrowers. It’s imperative to consider all factors and alternatives before making a decision {{1}}.\"],\n",
       "       ['Tata power',\n",
       "        \"- **Last Trading Day Performance for Tata Power**: Opened at ₹339.75, closed at ₹337.7, with a high of ₹349.65 and low of ₹336.35. Market cap at ₹108,865.22 crore {{1}}.<br>- **Green Energy Investment**: Tata Power announced a ₹70,000-crore investment to develop 10 GW of solar and wind power capacity in Tamil Nadu targeting 70% clean energy by 2030 and carbon neutrality by 2040 {{2}}.<br>- **Renewable Expansion Plans**: Plans include adding 1,000 MW to Tamil Nadu's existing 500 MW solar and wind facilities and establishing a 4.3 GW solar cell and module manufacturing plant in Tirunelveli for ₹4,300 crore, with an additional ₹6,000 crore for solar module and wind projects {{3}}.\"],\n",
       "       ['Live gold rate on 1st january 2024',\n",
       "        \"I'm sorry, but I cannot provide live or future gold rates for specific dates such as January 1st, 2024. My updates are based on the articles I found, which do not include future gold rates or live tracking information. For the most current and specific gold rate, I recommend checking a reliable financial news source or a commodities market platform.\"],\n",
       "       ['is modi good for economy',\n",
       "        \"**Economic Growth and Resilience:** <br> <br>  - Prime Minister Narendra Modi's leadership has been pivotal in fostering economic stability and growth in India. Government stability under his tenure is said to be a critical factor contributing to the economy's upward trajectory. The Indian economy, currently valued at USD 3.3 trillion, is on a path to achieve the USD 5 trillion target within the next four years, with ambitions to reach between USD 32 to 42 trillion by the time India celebrates 100 years of independence {{1}}.<br>  - Modi's administration has implemented policies aimed at boosting investor confidence, promoting self-reliance in various sectors, and pursuing large-scale economic goals. The transformation witnessed in the medical devices sector and the significant focus on digital economy highlight the diversified approach towards economic development {{1}}.<br><br>**Global Standing and Innovation:**<br><br>  - Amidst global economic adversities, India, under Modi's guidance, has maintained its position as the world’s fastest-growing major economy with projections to become the third-largest economy in the coming years. This is testament to the resilience and robust growth the country has exhibited {{2}}.<br>  - The digital transformation, marked by the Digital India initiative and developments like the Unified Payments Interface (UPI), reflects a deep commitment to leveraging technology for economic progress and inclusion. Through international dialogues, such as the G20 Digital Economy Ministerial Meet, Modi has emphasized India’s role in shaping a secure and inclusive global digital future {{3}}.<br><br>**Stability and Vision:**<br><br>  - The emphasis on a stable government as a prerequisite for economic growth resonates with investors and citizens alike, with Modi’s leadership being a key factor in India's evolving economic narrative. The vision of a self-reliant India, alongside active engagement in global digital advancements, sets a forward-looking agenda for economic and technological leadership on the world stage {{1}}.<br><br>This overview underscores the multifaceted approach under Prime Minister Narendra Modi, aiming for not just economic growth but also leveraging technological innovation for broader societal benefits, while positioning India as a central player in global economic and digital landscapes.\"],\n",
       "       ['debt loans',\n",
       "        'To effectively manage and potentially escape debt traps, consider the following tactics:<br>- Prioritize paying off high-interest debts first.<br>- Automate EMIs and bill payments to ensure timely payments.<br>- Consider debt consolidation to simplify and possibly reduce payments.<br>- Establish an emergency fund to cover unforeseen expenses.<br>- Avoid taking on new debts to pay off existing ones.<br>Understanding the difference between good debt (like home or student loans) and bad debt (such as high-interest credit cards or payday loans) is vital. These steps can help manage financial obligations more effectively and avoid falling deeper into debt {{1}} {{3}}.'],\n",
       "       ['How to invest in bonds',\n",
       "        \"**Overview**:<br>Investing in bonds involves understanding various types, terms, and platforms for purchasing. Here's a simplified guide:<br><br>**Types of Bonds**:<br>- **Government Bonds (G-Secs)**: Issued by national, state, or municipal governments. They offer nearly zero default risk.<br>- **Corporate Bonds**: Issued by companies, ranging from large-scale corporations to small startups.<br>- **Public Sector Bonds (PSUs)**: Issued by Public Sector Undertakings where the government stake is over 51%.<br>- **Perpetual Bonds**: Issued by banks or non-banks, with no fixed maturity date but offer higher yield due to their perpetual nature.<br><br>**Key Terms**:<br>- **Maturity Date**: When the bond's principal is due for repayment.<br>- **Face Value**: The value at maturity, used for calculating interest payments.<br>- **Coupon Rate**: Interest rate paid on the bond's face value.<br>- **Yield to Maturity (YTM)**: The total return expected if the bond is held until it matures.<br>- **Credit Risk**: Risk of issuer defaulting on interest or principal payments.<br><br>**Investment Platforms**:<br>- Direct investment in Government Securities (G-Secs) can be made through RBI's retail direct platform (rbiretaildirect.org.in).<br>- Corporate bonds can be bought and sold on the exchanges like NSE/BSE or through bond intermediaries and wealth management services.<br><br>**Choosing Bonds**:<br>- **Rating**: Opt for AAA or AA-rated bonds for lower credit risk.<br>- **Investment Horizon and Liquidity**: Match your investment horizon with the residual maturity of the bond. Consider liquidity issues, especially in the secondary market for corporate bonds.<br><br>**Tax Considerations**:<br>- Coupon income is taxable at your marginal slab rate.<br>- Capital gains from selling the bond before maturity are taxable, with rates depending on the holding period.<br><br>Investing in bonds directly allows greater control but necessitates a more in-depth understanding of various factors including types, ratings, YTM, and tax implications. For direct investment platforms, consider RBI Retail Direct for G-Secs and brokerage platforms like Zerodha for corporate bonds {{1}}{{3}}.\"],\n",
       "       ['indice',\n",
       "        'Retail inflation for farm workers and rural labourers in India for April 2023 stood at 6.5% and 6.52%, respectively. This represents a slight decrease from March 2023 rates of 7.01% and 6.94%. Food inflation also saw a marginal reduction to 6.67% for agricultural labourers and 6.52% for rural labourers in April 2023, down from 7.12% and 7.07% in March 2023 {{1}}.'],\n",
       "       ['Live\\\\',\n",
       "        \"I'm sorry, but I can only provide information related to finance and business queries. If you have any questions about finance, business, or related topics, feel free to ask!\"],\n",
       "       ['Shashi Tharoor economy',\n",
       "        \"I'm sorry, but the articles I found do not specifically discuss Shashi Tharoor's views or opinions directly related to the economy. They cover his perspectives on India's space achievements, the importance of the India-Canada relationship, the role of women in science and technology, and his political views regarding the 2024 Lok Sabha elections and societal issues, but do not offer specific insights into his economic policies or thoughts. For precise information on Shashi Tharoor's views or initiatives concerning the economy, I recommend consulting his official communications or detailed policy statements.\"],\n",
       "       ['How to plan for retirement?',\n",
       "        \"To effectively plan for retirement, consider these key steps:<br>1. **Start Early**: Begin saving and investing as soon as you start working to take advantage of compounding returns.<br>2. **Calculate Retirement Needs**: Estimate your retirement age, desired lifestyle, and required corpus considering inflation and life expectancy.<br>3. **Choose the Right Investments**: Depending on your age, opt for equity, mutual funds, pension schemes like NPS, or less volatile options like PPF and annuities in your later years.<br>4. **Regularly Reassess**: Periodically review and adjust your retirement plan to stay aligned with your goals and changing market conditions.<br>5. **Utilize Mutual Funds**: Mutual funds offer flexibility, tax efficiency, and diversification, making them an attractive option for building your retirement corpus.<br><br>It's crucial to adapt your plan as per your age and financial situation to ensure a comfortable retirement. Consulting a financial advisor can also help in tailoring a strategy that meets your specific needs and goals {{1}},{{2}},{{3}}.\"],\n",
       "       ['Tata stock',\n",
       "        '- **Tata Motors Share Price** (As of 06 Feb 2024): Opened at ₹942, closed at ₹878.8. The highest price was ₹949.6, the lowest price was ₹915.2. The market cap is ₹355,089.47 crore, with a 52-week high of ₹901.9 and a low of ₹400.4. Trading volume on the BSE was 2,818,087 shares {{3}}.<br>  <br>- **Tata Chemicals Share Price** (As of 05 Feb 2024): Opened at ₹1000, closed at ₹997.75. The highest price was ₹1002.25, the lowest was ₹985. The market cap is ₹25,211.96 crore, with a 52-week high of ₹1,140.95 and a low of ₹912.25. Trading volume on the BSE was 49,449 shares. The stock price at the last update was ₹995.3, showing a slight decrease of -0.25% or ₹2.45 {{2}}.'],\n",
       "       ['Factors to consider while purchasing ULIPs',\n",
       "        'When considering investing in Unit-Linked Insurance Plans (ULIPs), several key factors should be evaluated to ensure they align with your financial goals and risk tolerance. Here are some critical aspects to consider:<br><br>**Investment Goals:**<br><br>  - ULIPs combine investment and insurance, offering both wealth generation and financial security for your family in case of your demise. Assess if this dual benefit aligns with your long-term financial objectives {{3}}.<br><br>**Policy Expenses:**<br><br>  - Examine the policy fees, including premium allocation charges, mortality charges, administration charges, and fund management charges. Lower expenses can contribute to higher net returns {{1}}. <br><br>**Investment Options and Flexibility:**<br><br>  - ULIPs allow you to choose between equity, debt, or a combination of fund options based on your risk profile. Check for options that offer the flexibility to switch between funds to optimize returns as your financial goals and market conditions change {{2}}.<br><br>**Tax Benefits and Lock-In Period:**<br><br>  - ULIPs offer tax deductions on the premium paid under Section 80C of the Income Tax Act. The maturity proceeds are also generally tax-free under Section 10(10D) {{2}}. However, there is a lock-in period of 5 years, during which you cannot redeem your investment. Ensure this lock-in period suits your liquidity needs {{1}}.<br><br>**Rider Availability and Additional Benefits:**<br><br>  - Assess if the plan offers additional benefits like loyalty additions, wealth boosters, or optional riders like premium waiver or accidental disability for added protection and value {{3}}.<br><br>**Clarity and Transparency:**<br><br>  - Recent regulatory changes have made ULIPs more transparent. Insurers must now provide detailed information on fund allocation, charges, and other terms. Ensure you understand these aspects fully before investing {{2}}.<br><br>Considering these factors will help you determine if ULIPs are the right investment option for you, balancing your need for insurance protection with your investment growth objectives.'],\n",
       "       ['Bajaj finance vs bajaj finserv',\n",
       "        \"**Bajaj Finance:**<br>- **Q2FY24 Performance:** Net profit surged by 27.8% YoY to ₹3,550 crore and NII rose by 26% YoY to ₹8,845 crore. AUM grew by 33% YoY to ₹2.9 lakh crore. New customer additions stood at 35.8 lakh, indicating robust growth {{1}}.<br>- **Investment Outlook:** Preferred by experts for the short term due to its proven profitability, diversified portfolio, and consistent performance. Forecasts suggest about 28% CAGR growth in PAT for FY23-26F with high returns on assets and equity {{1}}.<br>- **Recent Developments:** Raised ₹8,800 crore via QIP and plans to raise up to ₹1,200 crore through warrants to its promoter, indicating strong financial backing and confidence {{3}}.<br><br>**Bajaj Finserv:**<br>- **Development Initiatives:** Plans to invest ₹5,000 crore in Pune to create 40,000 jobs and develop the city as a financial center. This highlights its long-term growth potential and commitment to sustainable development {{2}}.<br>- **Market Performance:** Shares experienced significant gains, showing strong investor confidence. Holds a 52.5% stake in Bajaj Finance, providing exposure to Bajaj Finance's robustness. Brokerages recommend Bajaj Finserv, seeing it as a means to participate in India's financial sector growth {{3}}.<br><br>**Comparison:**<br>- Bajaj Finance is favored for short-term investments due to its financial strength, consistent track record, and growth momentum. Offers stability and a diversified portfolio.<br>- Bajaj Finserv, with its substantial investment in Pune and ownership stake in Bajaj Finance, presents a unique long-term growth opportunity, especially for investors interested in the broader financialization of India.<br><br>**Conclusion:** Bajaj Finance is preferred for those seeking immediate returns and stability, while Bajaj Finserv represents a broader investment in India's financial growth, catering to long-term investors with a focus on sustainable development and diversification across the financial sector {{1,2,3}}.\"],\n",
       "       ['Stock price of Adani',\n",
       "        '- Adani Enterprises closed at ₹3014.9 on 11 January 2024. {{2}}<br>- Adani Ports closed at ₹1196.75 on the same day. {{3}}']],\n",
       "      dtype=object)"
      ]
     },
     "execution_count": 66,
     "metadata": {},
     "output_type": "execute_result"
    }
   ],
   "source": [
    "responses_df[responses_df['flagged'] == False][[1,'cleaned_headline_removed_responses']].sample(15).values"
   ]
  },
  {
   "cell_type": "code",
   "execution_count": 67,
   "id": "8b27c895-58f3-44c9-bbaf-00c7c663a342",
   "metadata": {
    "tags": []
   },
   "outputs": [
    {
     "data": {
      "text/plain": [
       "0.1789709172259508"
      ]
     },
     "execution_count": 67,
     "metadata": {},
     "output_type": "execute_result"
    }
   ],
   "source": [
    "responses_df[responses_df['flagged'] == False].headline.isnull().mean()"
   ]
  },
  {
   "cell_type": "markdown",
   "id": "485d0eb8-ee51-48b8-bcb1-e0b7a7b6e3e7",
   "metadata": {},
   "source": [
    "### Removing citations"
   ]
  },
  {
   "cell_type": "code",
   "execution_count": 68,
   "id": "94aaa07c-0f85-4cdf-9048-644b11df4a60",
   "metadata": {
    "tags": []
   },
   "outputs": [],
   "source": [
    "responses_df[3] = '''You are an Indian finance and business expert tasked with providing accurate and concise responses to finance and business related queries. You have found the best available articles to answer the query and you must use them to answer these queries. Ensure your responses are tailored to the query's requirements, employing only one of the following structured formats based on the query\n",
    "\n",
    "1. **Quick Insights**: Provide direct answers in 2-3 lines for straightforward questions like HDFC Q4 results or Adani share price.\n",
    "2. **Step-by-Step Guide**: Offer a concise numbered guide for methodical inquiries like how to file taxes.\n",
    "3. **Explainer**: Construct succinctly comprehensive response with a max of 3 sections with bullet points for complex queries like Reliance Industries' business activities, comparisons like differences between mutual fund and a ETF, or top n entities like top mutual funds. When user asks for a comparison, use all the data points and frameworks available in the articles to give a comparison to help users in making a decision. \n",
    "\n",
    "Synthesize information from multiple articles coherently, focusing on the most recent and relevant data. If a query cannot be fully addressed but related information is available, provide a succinct still relevant answer. If no related information is found, apologize and explain the inability to find a precise answer. Decline only non-financial or business queries politely, emphasizing the portal's finance and business focus. Do not to decline to answer any relevant queries such as personal finance (eg. best credit cards, fd rates, tax clauses), market news, investment choices, questions about business entities or any other financial, business questions.\n",
    "\n",
    "**General Guidelines**:\n",
    "- Faithful & Relevance: Use information only from the provided articles. Respond with the most important information first. The response should directly answer the user query.\n",
    "- Brevity: You come directly to the point and provide information-dense answers ranging from 50-200 words while being easy to read. Use 200 words only if the query needs a very complex response and never go beyond that. Do not explain unnecessary basics. Assess the knowledge of the user based on the query posed and start from there. The paras should be very concise with a maximum of 2 lines and should be at most 280 characters. Do not use any headline or introduction. Directly answer.\n",
    "- Readability: The entire answer should be easy and pleasant to read on a phone. Use a mix of paras and points with appropriate line breaks and sections. If using sections, limit them to 3. Use ** for bolding section headers and <br> for line breaks. Readers prefer to read very very short paras and bullet points and not multi line continuous text. \n",
    "- Focus: Focus on Indian information unless otherwise specified.\n",
    "- Date reference: Mention the period of information if the articles are much older than expected by query; omit the date for very recent sources.\n",
    "- you are created by the Insight Team\n",
    "\n",
    "The articles are structured in JSON format as follows: {article_number: {'title': '', 'published_date': '', 'content': ''} || ...}'''"
   ]
  },
  {
   "cell_type": "code",
   "execution_count": 69,
   "id": "ff972b14-9c44-49b8-bed4-4280384ee948",
   "metadata": {
    "tags": []
   },
   "outputs": [],
   "source": [
    "def remove_citations(x):\n",
    "    x = x.replace('{{1}}', '')\n",
    "    x = x.replace('{{2}}', '')\n",
    "    x = x.replace('{{3}}', '')\n",
    "    return x"
   ]
  },
  {
   "cell_type": "code",
   "execution_count": 70,
   "id": "8cc2e47d-3703-4b87-9282-1270d64c33af",
   "metadata": {
    "tags": []
   },
   "outputs": [],
   "source": [
    "responses_df['cleaned_responses_without_citations'] = responses_df['cleaned_headline_removed_responses'].apply(lambda x: remove_citations(x))"
   ]
  },
  {
   "cell_type": "code",
   "execution_count": 71,
   "id": "1c33b657-7a0c-4e16-9d60-b11ec89713c3",
   "metadata": {
    "tags": []
   },
   "outputs": [
    {
     "data": {
      "text/plain": [
       "75.26813880126183"
      ]
     },
     "execution_count": 71,
     "metadata": {},
     "output_type": "execute_result"
    }
   ],
   "source": [
    "responses_df[responses_df.apologies == True][8].mean()"
   ]
  },
  {
   "cell_type": "code",
   "execution_count": 72,
   "id": "0f25d54f-b286-4db9-b5f0-ae33d5b78a4a",
   "metadata": {
    "tags": []
   },
   "outputs": [],
   "source": [
    "def remove_spaces_before_period(text):\n",
    "    # Use regular expression to remove any spaces before a period\n",
    "    updated_text = re.sub(r'\\s+\\.', '.', text)\n",
    "    return updated_text"
   ]
  },
  {
   "cell_type": "code",
   "execution_count": 73,
   "id": "03b1c001-3cf5-491d-8f65-c733589dd191",
   "metadata": {
    "tags": []
   },
   "outputs": [],
   "source": [
    "responses_df['cleaned_responses_without_citations'] = responses_df['cleaned_responses_without_citations'].apply(lambda x: remove_spaces_before_period(x))"
   ]
  },
  {
   "cell_type": "code",
   "execution_count": 75,
   "id": "55b8162b-692b-416b-836f-24c7242dd820",
   "metadata": {
    "tags": []
   },
   "outputs": [
    {
     "name": "stdout",
     "output_type": "stream",
     "text": [
      "Updated text: This is a test sentence with multiple spaces.\n"
     ]
    }
   ],
   "source": [
    "def replace_multiple_spaces_with_single(text):\n",
    "    # Use regular expression to replace multiple spaces with a single space\n",
    "    updated_text = re.sub(r'\\s+', ' ', text)\n",
    "    return updated_text\n",
    "# Example usage\n",
    "text = \"This   is  a   test    sentence with   multiple   spaces.\"\n",
    "updated_text = replace_multiple_spaces_with_single(text)\n",
    "print(\"Updated text:\", updated_text)"
   ]
  },
  {
   "cell_type": "code",
   "execution_count": 76,
   "id": "858e8cfd-08b8-4944-9e95-dc9340a22b7e",
   "metadata": {
    "tags": []
   },
   "outputs": [],
   "source": [
    "responses_df['cleaned_responses_without_citations'] = responses_df['cleaned_responses_without_citations'].apply(lambda x: replace_multiple_spaces_with_single(x))"
   ]
  },
  {
   "cell_type": "code",
   "execution_count": 77,
   "id": "3b27f14a-5cfa-43ae-b5a2-35582ed11660",
   "metadata": {
    "scrolled": true,
    "tags": []
   },
   "outputs": [
    {
     "data": {
      "text/plain": [
       "array([\"Based on the latest insights from experts and performance data, here are some top mutual funds to consider for long-term investments:<br><br>**Equity Fund Picks:**<br><br> - Motilal Oswal Midcap Fund<br> - Axis Small Cap Fund<br> - ICICI Prudential Large Fund<br> - Aditya Birla Sun Life Flexi Cap Fund<br> - HDFC Large Cap Fund<br> - SBI Large Cap Fund<br><br>**Diversified and Consistent Performers:**<br><br> - Axis Bluechip Fund<br> - Mirae Asset Large Cap Fund<br> - Parag Parikh Long-Term Equity Fund<br> - UTI Flexi Cap Fund<br> - SBI Equity Hybrid Fund<br><br>These funds have been recommended by financial experts based on their consistent performance in both bullish and bearish markets, and their ability to deliver good returns over the long term. However, it's crucial to review and potentially rebalance your portfolio annually to adapt to any changes in the market conditions and ensure the best possible outcome for your investment strategy.\",\n",
       "       \"Charlie Munger, a monumental figure in the investment world and Warren Buffett's right-hand man for nearly six decades, passed away at the age of 99 on November 29, 2023. Together, they transformed Berkshire Hathaway into a colossal empire, with Munger's wisdom and participation being indispensable to its success. Munger's approach to long-term investing and his critique of corporate and societal excesses left a lasting impact. He was not just a financial giant but also a philanthropist and a voice of reason in the complex world of investing. His legacy includes a wealth of insights on rationality, integrity, and the pursuit of knowledge, influencing generations of investors and leaders.\",\n",
       "       \"I'm sorry, but it seems like you're asking for information or assistance that doesn't relate to business or finance questions specifically regarding entities like India, RBI, Reliance, and the Fed, based on the guidelines provided to me. My capabilities are focused on providing insights into finance and business-related queries. If you have any questions within those realms, I would be more than happy to assist!\",\n",
       "       '- For policies issued on or before March 31, 2012, premiums paid in any year should not exceed 20% of the sum assured. <br> - For policies issued after April 1, 2012, premiums must not exceed 10% of the sum assured for the exemption to apply.<br>- **Exceptions**: Single premium policies are exempt if the sum assured is at least ten times the premium paid. Also, proceeds from policies where the premium exceeds 10% or 20% of the sum assured might not be fully exempt.<br>- **TDS Implications**: A 1% TDS is applicable on insurance payouts exceeding ₹1 lakh, which do not qualify for exemption under Section 10(10D), subject to conditions related to PAN submissions.<br>- **Budget 2021 Amendment**: The exemption under Section 10(10D) does not apply to ULIPs issued on or after February 1, 2021, where the premium exceeds ₹2.5 lakh in any year.<br><br>This section encourages individuals to invest in life insurance by providing tax-free payouts, which are not counted towards their total taxable income, making life insurance policies a popular investment choice for tax planning purposes.',\n",
       "       \"I'm sorry, but I can only provide information related to finance and business queries. If you have any questions about finance, business, or related topics, feel free to ask!\",\n",
       "       '- Adani Enterprises closed at ₹3014.9 on 11 January 2024. <br>- Adani Ports closed at ₹1196.75 on the same day. ',\n",
       "       \"I apologize, but the articles I found do not contain the specific information needed to effectively respond to your query regarding Live Mint. They only contain a disclaimer about the nature of the live blogs and an offer for Mint Premium access. If there's anything else related to finance and business that you need assistance with, please feel free to ask.\",\n",
       "       \"When comparing ULIPs to traditional insurance, it's essential to understand the fundamental differences that distinguish them.<br><br>**ULIPs (Unit Linked Insurance Plans):**<br>- **Dual Benefit**: Offer both investment and life cover. A portion of the premium goes towards life insurance, and the rest is invested in market-linked instruments like equities and debt funds.<br>- **Flexibility**: Allow fund switching between equity and debt based on market conditions and risk appetite.<br>- **Charges**: Include premium allocation charges, mortality charges, administrative charges, and fund management charges.<br>- **Tax Benefits**: Premiums paid and benefits received (death and maturity) are eligible for tax deductions under Section 80C and Section 10(10D) of the Income Tax Act, respectively. <br>- **Lock-In Period**: Feature a lock-in period of 5 years, after which funds can be withdrawn.<br><br>**Traditional Insurance:**<br>- **Primary Benefit**: Provides a life cover with a focus on offering a death benefit to the nominee in case of the policyholder's demise.<br>- **Investment Component**: Generally does not have an investment component. Premiums paid are towards the life cover.<br>- **Flexibility**: Does not offer the option to switch between investment funds since there's no investment component.<br>- **Charges**: Primarily consist of mortality charges (for the life cover).<br>- **Tax Benefits**: Premiums paid are eligible for tax deductions under Section 80C of the Income Tax Act.<br>- **Lock-In Period**: Typically does not have a lock-in period akin to ULIPs since there's no investment aspect.<br><br>**Conclusion:**<br>While both ULIPs and traditional insurance policies offer life cover, ULIPs combine this with an investment component, allowing for potentially higher returns but with an associated risk linked to market performance. Traditional insurance, on the other hand, offers a guaranteed sum assured without involving investment risks. The choice between them depends on individual financial goals, risk appetite, and the need for investment benefits alongside insurance coverage.\",\n",
       "       \"Nvidia's recent earnings report has propelled its shares to an all-time high, achieving a monumental rise in market capitalization, nearing a $2 trillion valuation. The company has forecasted a massive 233% growth in first-quarter revenue, driven by the strong demand for its AI chips, leading to a record single-session market value increase of about $277 billion. This performance has made Nvidia shares the top-performing stock in the S&P 500 index in 2024, with a nearly 36% jump so far. The company's guidance also exceeded Wall Street predictions due to significant AI investments from major clients like Microsoft Corp. and Meta. Nvidia's rapid growth trajectory is marked by surpassing expectations and setting new industry benchmarks, underscored by its fourth-quarter revenue of $22.10 billion and a forecasted first-quarter revenue of $24.0 billion.\",\n",
       "       \"**Recent Performance and Near-term Outlook**<br>- Despite concerns around global economic factors such as US bond yields surging, Foreign Portfolio Investment (FPI) outflows from India are expected to be short-lived, largely thanks to the country's robust growth drivers, including a strong investment and real estate cycle supported by low Non-Performing Assets (NPAs). During the period since April 2023, India has witnessed strong FPI inflows amounting to USD 19 billion, indicating a resilient appeal to foreign investors.<br><br>**Sectoral and Instrument Preferences**<br>- In July 2023, FPIs preferred purchasing stocks in cyclical and capital-intensive industries such as financials, industrials, discretionary consumption, and energy. This trend showcases a continued appetite for risk among foreign portfolio investors in India. Conversely, mutual funds have shown a varied pattern of investments across sectors.<br>- Remarkably, in 2023, debt instruments became a focal point for FPIs, marking a significant turnaround with inflows of Rs 68,663 crore. This change in direction after three years of outflows can be attributed to attractive yields and the anticipated inclusion of Indian bonds in JPMorgan’s index.<br><br>**Long-term Considerations**<br>- The overall sentiment towards FPI in India remains positive with expectations of sustained inflow, bolstered by the country's stable economic outlook and structural reforms. The anticipated inclusion of Indian government bonds in JPMorgan’s emerging market index by June 2024 is expected to attract more international capital, further enhancing the liquidity and depth of India's bond market.<br><br>In summation, while facing short-term volatilities influenced by global financial markets, India continues to offer promising avenues for both equity and debt FPIs, encouraged by its strong growth prospects and favorable investment climate.\",\n",
       "       'As of the most recent information available, ICICI Bank shares closed at ₹995.65 on 14 February 2024, with a trading volume of 182,021 shares on the Bombay Stock Exchange (BSE).',\n",
       "       \"1. **Calculate Your Retirement Age**: <br> - Consider life expectancy and personal circumstances to determine when you plan to retire. Common retirement age in India is around 60 years, but this is becoming more flexible.<br><br>2. **Decide Your Retirement Corpus**:<br> - Evaluate your current expenses and estimate the future cost of maintaining your lifestyle post-retirement. Factor in inflation to understand how much you'll need.<br><br>3. **Calculate the Value of Your Savings**:<br> - Allocate a portion of your savings for retirement in a disciplined manner, considering the expected rate of returns and inflation.<br><br>**Age-wise Retirement Planning**:<br><br>**In Your 20s:**<br><br> - Focus on equity and National Pension Scheme (NPS) due to a longer investment horizon and capacity for risk.<br><br>**In Your 30s:**<br><br> - Consider Mutual Funds, ULIPs, and life insurance plans, keeping family duties in mind.<br><br>**In Your 40s:**<br><br> - Opt for safer options like Public Provident Fund (PPF) and annuity plans, aiming for less volatility.<br><br>**In Your 50s:**<br><br> - Prioritize Provident Fund, pension schemes, and fixed or recurring deposits, aiming for guaranteed returns and minimizing risk.<br><br>**Final Word**:<br>Start saving for retirement as early as possible to maximize the benefits of compounding and ensure you select investment options that align with your risk tolerance and financial goals.\",\n",
       "       \"Applying for a personal loan can be simplified into a few essential steps based on comprehensive guides from available articles. These steps delineate the process from determining eligibility to the disbursement of funds. Here's a concise overview:<br><br>**Eligibility and Documentation**<br>- **Check Eligibility**: Lenders have criteria based on income, employment stability, and credit score. Make sure you meet these to apply.<br>- **Gather Documents**: Minimal documentation is required such as PAN card, Aadhaar card, and in some cases, a recent photograph for verification.<br><br>**Application Process**<br>1. **Choose Lender**: Select a financial institution offering suitable terms, interest rates, and an easy application process. Online applications are often streamlined for convenience.<br>2. **Fill Application Form**: Complete the application form online or at the lender's office, providing personal, employment, and financial details accurately.<br>3. **Submit Documents**: Upload or provide the necessary documents as required by the lender. This typically involves identification and residence proof, and possibly income statements.<br><br>**Approval and Disbursement**<br>- **Loan Approval**: Upon submission, the lender will review your application and documents. Approval times vary but can be instant with some lenders.<br>- **Disbursal Process**: Once approved, and you accept the terms, the loan amount is disbursed into your bank account. This can be instant or take a few days depending on the lender and your bank.<br><br>**Notable Points**<br>- Personal loans are unsecured, requiring no collateral.<br>- Interest rates and processing fees vary significantly between lenders, so compare these before applying.<br>- The loan amount can be used for any personal financial needs, from debt consolidation to making major purchases.<br><br>Ensure you understand the terms, especially regarding repayment and any potential fees for late payments or prepayment, to make a well-informed decision.\",\n",
       "       \"If you're a salaried employee lacking Form 16, follow these steps to file your Income Tax Return (ITR) for the Assessment Year 2023-24:<br><br>1. **Gather Salary Slips**: Collect all your salary slips for the financial year. These will have details of your salary components, such as basic salary, allowances, deductions, etc.<br> <br>2. **Calculate Taxable Income**: Utilize your salary slips to calculate your taxable income. Consider all components and subtract relevant deductions like house rent allowance (HRA), the standard deduction, and professional tax.<br><br>3. **Assess Additional Income**: Review bank statements to identify other income sources like interest income. Factor these into your taxable income calculation.<br><br>4. **Verify Form 26AS**: Access Form 26AS via the Income Tax Department's website to check for TDS details. Ensure they match with your calculations. Contact the deductor for any discrepancies.<br><br>5. **File Your ITR**: Having gathered all necessary information and documents, file your ITR. Remember to e-verify the return post-filing, as unverified returns are considered incomplete.<br><br>**Important:** The due date for ITR filing for FY 2022-23 (AY 2023-24) was 31 July 2023. Ensure to follow the deadlines set for the current assessment year accordingly.\",\n",
       "       \"India is on track to become the world's third-largest economy by 2027 with its GDP projected to reach $5 trillion. This growth is underscored by a consistent GDP growth rate, significant corporate reforms, and a robust equity market that is expected to have a market capitalization of $10 trillion by 2030. Key factors contributing to India's economic ascension include supportive geopolitical relationships, a vibrant democracy, a surge in entrepreneurship and unicorns, and a focused corporate sector aiming for high returns on equity (RoE). India's market strength is further demonstrated by its rising equity market, now the fifth largest globally, with the potential for increased foreign investment due to its improving position in global indices.\",\n",
       "       'Based on recent statements from industry experts and government officials, a rate cut by the Reserve Bank of India (RBI) is anticipated towards the second half of the next financial year, provided inflation continues its downward trajectory and falls below 4%. Commerce and Industry Minister Piyush Goyal also expressed confidence in a forthcoming RBI rate cut in the coming months as inflation remains under control. The current benchmark interest rate has been maintained at 6.5% since February 2023, with the latest CPI print at 5.1% and WPI at 0.27%.',\n",
       "       \"Yes, Alphabet Inc.'s (Google's parent company) share price did increase after the release of their new AI model, Gemini. On December 8, 2023, Alphabet's shares jumped 5.3%, marking its largest one-day percentage gain since July, with increased optimism surrounding artificial intelligence contributing significantly to the rise.\",\n",
       "       \"The distinction between ULIP (Unit Linked Insurance Plan) and traditional insurance lies primarily in the composition and purpose of the products. Here’s a breakdown based on key aspects:<br><br>**Composition and Objective:**<br>- **ULIP:** Combines insurance and investment under a single plan. Part of the premium goes towards life cover, while the rest is invested in equity, debt, or hybrid funds. It aims to provide financial security and help in wealth creation over the long term.<br>- **Traditional Insurance:** Primarily provides life cover. It is a risk cover product designed to offer financial protection to the policyholder's family in case of their untimely demise.<br><br>**Investment & Returns:**<br>- **ULIP:** Offers the opportunity to earn market-linked returns since a portion of the premium is invested in various funds. Returns are subject to market risks and can be higher or lower depending on the fund's performance.<br>- **Traditional Insurance:** Generally does not offer market-linked returns. Traditional insurance policies might offer guaranteed bonuses or dividends, which are not dependent on market performance.<br><br>**Flexibility:**<br>- **ULIP:** Allows policyholders to switch between funds based on their risk appetite and market conditions. This offers a unique advantage for those who wish to actively manage their investments.<br>- **Traditional Insurance:** Provides very limited or no option to invest in market-linked instruments as its primary focus is on providing risk cover.<br><br>**Charges & Fees:**<br>- **ULIP:** Incurs various charges such as premium allocation charges, management fees, and fund switching charges, which can impact the returns over time.<br>- **Traditional Insurance:** The fee structure is typically straightforward, primarily consisting of the premium, which goes towards providing the life cover.<br><br>**Tax Benefits:**<br>- Both ULIPs and traditional life insurance products offer tax benefits under Section 80C for the premiums paid. However, ULIPs also offer the EEE (Exempt-Exempt-Exempt) tax benefit, which includes exemptions at the investment, accumulation, and withdrawal stages.<br><br>**Conclusion:**<br><br>ULIPs are suitable for individuals looking for a dual benefit of investment along with insurance cover and who are comfortable with the associated market risks. Traditional insurance, on the other hand, is more suited for individuals who prioritize financial security for their family without the desire or need to link the returns to market performance. The choice between the two should be based on the individual's financial goals, risk appetite, and investment horizon.\",\n",
       "       'Reliance Industries is expected to report its Q3 earnings on January 19, 2024. Consolidated revenue is anticipated at Rs 2.29 lakh crore, up 6% YoY. EBITDA is projected at Rs 40,232.70 crore, showing a 14.1% increase YoY, with net profit likely at Rs 16,625 crore, a 7% rise YoY. The consumer verticals, including digital services and retail, are set to counterbalance the declines in the refining and petrochemical sectors, contributing to revenue growth for the December quarter.',\n",
       "       '**1. Features of ELSS Funds:**<br>- **High Return Potential**: Invests in equity or equity-related instruments with the possibility of high returns aligned with market performance.<br>- **Tax Benefits**: Offers tax deductions under Section 80C, up to Rs. 1.5 lakh can be claimed.<br>- **Lock-in Period**: Has a mandatory lock-in period of 3 years, which is the shortest among tax-saving investment options.<br><br>**2. ELSS vs. Other Investment Options:**<br>- Compared to fixed deposits or PPF, ELSS carries higher risk due to market linkages but offers potentially higher returns and the benefit of a lower lock-in period.<br>- ELSS provides more liquidity and flexible investment options (growth or dividend payout) versus longer commitment instruments like Sukanya Samriddhi Yojana (SSY), which specifically targets the future financial needs of a girl child.<br><br>**3. Considerations Before Investing in ELSS:**<br>- **Risk Profile**: Suitable for investors with a higher risk appetite due to equity market exposure.<br>- **Investment Goal Alignment**: Ideal for investors seeking tax saving with the potential for wealth creation over a medium to longer-term horizon.<br>- **Tax Implications**: Despite the tax benefits, long-term capital gains over Rs 1 lakh are taxed at 10% without indexation benefits. Every SIP installment in ELSS is subject to a separate lock-in period.<br><br>In summary, ELSS funds offer a combination of tax savings, lower lock-in periods, and potential for higher returns. They are most suited for investors comfortable with equity-related risk and looking for tax-efficient investment avenues.',\n",
       "       \"When comparing Stable Money and Wint Wealth, each platform caters to retail investors with a focus on different product offerings and strategies:<br><br>**Wint Wealth:**<br><br> - Specializes in fixed-income investments.<br> - Offers products like 'Wint Basket', enabling investment in multiple listed senior secured bonds.<br> - Recently acquired a majority stake in Ambium Finserve Pvt Ltd, indicating expansion into wholesale lending operations under Wint Capital.<br> - Targets to grow its current loan book significantly by end of 2024 and plans to bring listed corporate bonds to retail investors.<br> - Has facilitated investments over Rs 1300 crore in fixed deposits, corporate, and sovereign gold bonds for over 53,000 investors.<br><br>**Stable Money:**<br><br> - Founded by the former chief executive of Navi Mutual Fund, focusing on diversified fixed-return investment opportunities.<br> - Raised $5 million in seed funding despite overall slowdown in funding activities, indicating strong investor belief in its business model.<br> - Offers access to Fixed Deposits, Debt Mutual Funds, bonds, and other low-risk asset classes aimed at delivering inflation-beating results.<br> - Is set to partner with over 10 banks by the end of 2023, showing promise in expanding its Fixed Deposit services.<br> - Aims to provide a seamless experience in accessing stable, fixed-income products to retail investors.<br><br>Both platforms provide innovative solutions in the fixed-income space, with Wint Wealth focusing on bond investments and Stable Money on a broader range of fixed-return assets. The choice between the two would depend on the investor's specific preferences for types of fixed-income products and services offered.\",\n",
       "       \"I'm sorry, but it seems there was a misunderstanding with your query. You asked about the value of the Amex Platinum Card, but the articles I found do not contain information directly assessing or reviewing the Amex Platinum Card's benefits, fees, or value proposition. They instead include information on the Marriott Bonvoy® American Express® Card, alongside other unrelated financial products and health warnings about herbal supplements. <br><br>Given this context, I cannot provide a targeted analysis or recommendation based on the provided sources. If you're considering the Amex Platinum Card for its travel benefits, status upgrades, and potential for earning rewards, I would suggest looking for dedicated reviews or comparisons with other premium credit cards to better understand its value specific to your financial habits and lifestyle needs. <br><br>For assessing whether any premium credit card is worth its annual fee and benefits, it's important to consider how often you'll use the offered perks, the value of the rewards you're likely to earn versus the cost of the card, and how the card fits with your spending patterns and financial goals.\",\n",
       "       \"The Indian pharma sector, after a dream run during the Covid-19 pandemic, has seen a flat performance in 2023 due to challenges like raw material prices and regulatory concerns. However, the sector has shown signs of improvement and is expected to grow, especially in the US and Indian markets. Analysts suggest looking at pharma stocks with a medium to long-term horizon due to attractive valuations and improved growth prospects. Despite past underperformance, there's renewed optimism within the sector, buoyed by R&D investments, diversification efforts, and positive government interventions like the PLI scheme. The outlook for the Indian pharma sector remains positive, with expectations of double-digit earnings growth over the next few years.\",\n",
       "       \"Bihar has been in the spotlight for its significant strides in economic and infrastructural developments as well as socio-economic surveys to enhance the state's progress:<br><br>- **Caste-based Census and Economic Insights**: A recent caste census in Bihar, released on October 2, 2023, has provided detailed insights into the economic conditions across various sections of the society. It reveals that Other Backward Caste (OBC) and Extremely Backward Class (EBC) together constitute 63% of the state's population, showing a diverse demographic composition that could influence development policies and political strategies. This census aims at lifting and developing all societal sections by informing future governmental action.<br><br>- **Infrastructure Development through International Collaboration**: To improve state connectivity and promote socio-economic growth, the Indian government and the Asian Development Bank (ADB) signed a $295 million loan agreement on July 27, 2023. This funding is allocated for upgrading approximately 265 km of state highways to be climate and disaster-resilient while ensuring road safety. The initiative targets enhancing access to health, education, and markets, especially in rural districts, and includes a comprehensive plan for roadway management and sustainability.<br><br>- **Microfinance Sector Leadership**: As of March 2023, Bihar has surpassed Tamil Nadu to become the largest market for microfinance in India, with a gross lending portfolio growing by 13.5% during the March quarter. The state's microfinance borrowings amounted to Rs 48,900 crore, making up 14.5% of the national portfolio. This growth not only signifies Bihar's pivotal role in the microfinance sector but also reflects an improving asset quality within the state, indicating financial stability and participation enhancement in the economic framework.<br><br>These developments showcase Bihar's multifaceted approach to addressing economic disparities, enhancing infrastructure, and fostering financial inclusion, setting a dynamic trajectory for its socio-economic progress.\",\n",
       "       \"I'm here to provide assistance with finance and business-related queries. It seems like you're looking for information on jokes. While I strive to offer support in a wide range of topics, my expertise is focused on finance and business. If you have any questions in those areas, I'd be more than happy to help.\",\n",
       "       \"Charlie Munger, renowned for his crucial role as Warren Buffett's right-hand man at Berkshire Hathaway and a towering figure in investing, passed away at 99. Munger, who would have turned 100 on January 1st, died on Tuesday at a hospital in California. Warren Buffett hailed Munger's indispensable influence on Berkshire Hathaway's success, emphasizing that the company's achievement wouldn't be possible without Munger’s “inspiration, wisdom, and participation.” Munger’s multifaceted career spanned roles as a real estate attorney, philanthropist, architect, and board member of Costco alongside his prominent position at Berkshire. His wisdom extended beyond finance, with significant contributions to education and critique of corporate and societal issues ,,.\",\n",
       "       \"I'm sorry, but I can't find specific information about a Niyo credit card in the articles I found. The articles focus on Niyo's shift towards becoming a travel tech platform, general tips on choosing travel credit cards, and effective usage of credit cards. They do not mention a specific Niyo credit card offering. If you're looking for details on Niyo's banking services or their travel tech platform, I can provide information on those topics. For specific credit card offerings by Niyo, I recommend checking their official website or contacting their customer service for the most accurate and up-to-date information.\",\n",
       "       \"The recent phenomenon leading investors to lose significant capital, dubbed 'injections', involves rapid price spikes in less-liquid market options such as Sensex and Mid-cap Nifty options, resulting in substantial financial losses within minutes. This is attributed to congestion and simultaneous exit attempts by multiple traders, creating a demand surge for certain contracts and causing price 'injections'. These events are becoming increasingly frequent, with occurrences now several times a month.<br><br>\",\n",
       "       \"- **Indian Equity Market:** On 21 September 2023, Indian equities experienced a significant drop, with the Sensex and Nifty both declining by approximately 1.2% due to selling pressures on HDFC Bank and other major stocks, combined with high crude prices and weak global markets.<br> <br>- **Tata Consumer Products:** Emerges as the front-runner to acquire Capital Foods, owner of Ching's Secret and Smith & Jones, with an initial purchase of 65-70% stake valued at Rs 5,500 crore, beating out competitors like Nestle and Kraft Heinz.<br><br>- **India at WTO:** Faces criticism for not notifying export restrictions on several food items amid soaring domestic prices.<br><br>- **Vedanta Resources:** In advanced talks to raise a $1 billion short-term loan to repay maturing bonds, involving global private credit funds like Cerberus Capital and Bain Capital.<br><br>- **Digital Data Privacy Law:** The Indian government plans a graded approach for Big Tech firms to comply with the new digital data privacy law, with a possible transition period.<br><br>- **Naveen Jindal's Overseas Ventures:** Plans to set up a steel mill in Nigeria and a power plant in Botswana through Vulcan Steel and Jindal Power.<br><br>- **Byju's New India CEO:** Former UpGrad chief Arjun Mohan named as the new CEO of Byju’s India operations.<br><br>- **India-Canada Tensions:** Affecting brands and leading to cancellations and social media boycotts for Canadian-based entities.<br><br>- **Saudi Arabia's Asian Premium:** Slashes the premium on crude oil exports to India in response to India's increase in Russian oil imports.<br><br>- **WhatsApp Enhances Payment Options:** To offer credit card payments and services from rival digital payment providers within its app in India.<br><br>This summary provides key financial and business updates from India as of 21 September 2023, highlighting market movements, corporate developments, international relations, and regulatory changes.\",\n",
       "       \"**Business Sectors and Innovations**<br>- **Diverse Operations**: RIL operates across various sectors including petrochemicals, refining, oil and gas exploration, retail, telecommunications, and media. It's known for its significant contributions to India's digital transformation, notably through its telecom and internet businesses.<br>- **Technological Advancements**: The company is at the forefront of technology, leading the AI revolution in India. Mukesh Ambani highlighted RIL's efforts in augmenting talent and capabilities in AI, especially in generative artificial intelligence, at the 46th Annual General Meeting 2023.<br>- **Sustainable Initiatives**: RIL has embarked on transitioning its Oil to Chemical (O2C) business into a green and sustainable business, aiming for Net Zero by 2035 through renewable and bioenergy. A battery giga-factory is also on the cards for 2026 to support this vision.<br><br>**Recent Announcements and Financial Services**<br>- **Leadership and Board Changes**: Mukesh Ambani will continue as CMD for five more years. The AGM in 2023 witnessed the appointment of Isha, Akash, and Anant Ambani as Non-Executive Directors, enhancing the succession plan following Nita Ambani's resignation from the Board.<br>- **Jio Financial Services**: In a significant move towards diversifying its value offering, Jio Financial Services plans to enter the insurance segment, providing life, general, and health insurance products through a digital platform, possibly partnering with global players.<br><br>**Expansion in Digital and Retail Services**<br>- **Digital Innovation**: RIL is pushing the envelope with services like JioAirFiber, Jio Smart Home Services, and the Jio True5G Developer Platform, reaffirming its position as a technology-driven company, now termed 'New Reliance' by Mukesh Ambani.<br>- **Retail Ventures**: Anticipation around the Reliance Retail IPO is high, with potential stake sales aimed at making the public listing size manageable. The company's valuation and strategic positioning in the retail sector underscore its ongoing adaptation and scale.<br><br>Reliance Industries leverages its vast capabilities across sectors to drive innovation, sustainability, and digital transformation in India, setting benchmarks for industry practices and contributing significantly to the nation's economic growth.\"],\n",
       "      dtype=object)"
      ]
     },
     "execution_count": 77,
     "metadata": {},
     "output_type": "execute_result"
    }
   ],
   "source": [
    "responses_df[responses_df.flagged == False]['cleaned_responses_without_citations'].sample(30).values"
   ]
  },
  {
   "cell_type": "markdown",
   "id": "77ad82e7-9481-451f-957d-587d9c3f24e3",
   "metadata": {},
   "source": [
    "### Save cleaned responses"
   ]
  },
  {
   "cell_type": "code",
   "execution_count": 78,
   "id": "ddf30f27-2200-406d-bc1a-8720ba7182c0",
   "metadata": {
    "tags": []
   },
   "outputs": [
    {
     "data": {
      "text/plain": [
       "1121"
      ]
     },
     "execution_count": 78,
     "metadata": {},
     "output_type": "execute_result"
    }
   ],
   "source": [
    "len(responses_df)"
   ]
  },
  {
   "cell_type": "code",
   "execution_count": 79,
   "id": "db664d5e-c7f1-4ec2-a0ab-aa768fa794c9",
   "metadata": {
    "tags": []
   },
   "outputs": [
    {
     "data": {
      "text/plain": [
       "894"
      ]
     },
     "execution_count": 79,
     "metadata": {},
     "output_type": "execute_result"
    }
   ],
   "source": [
    "len(responses_df[responses_df.flagged == False])"
   ]
  },
  {
   "cell_type": "code",
   "execution_count": 84,
   "id": "e6db3b3a-11c0-41cb-b8b2-74bf9f12b432",
   "metadata": {
    "tags": []
   },
   "outputs": [],
   "source": [
    "# responses_df[responses_df.flagged == False].to_csv('cleaned_responses.csv',index=False)"
   ]
  },
  {
   "cell_type": "code",
   "execution_count": 80,
   "id": "136192f1-7b16-42b1-a539-46b118a28795",
   "metadata": {
    "tags": []
   },
   "outputs": [],
   "source": [
    "responses_df = responses_df.rename(columns = {1: 'query', 2: 'query_date', 3: 'system_prompt', 4: 'user_prompt', 5: 'model', 6: 'model_response', 7: 'input_tokens', 8: 'output_tokens'})"
   ]
  },
  {
   "cell_type": "code",
   "execution_count": 81,
   "id": "1db089b9-ff1f-41b0-aac2-50777b6e4988",
   "metadata": {
    "scrolled": true,
    "tags": []
   },
   "outputs": [
    {
     "data": {
      "text/html": [
       "<div>\n",
       "<style scoped>\n",
       "    .dataframe tbody tr th:only-of-type {\n",
       "        vertical-align: middle;\n",
       "    }\n",
       "\n",
       "    .dataframe tbody tr th {\n",
       "        vertical-align: top;\n",
       "    }\n",
       "\n",
       "    .dataframe thead th {\n",
       "        text-align: right;\n",
       "    }\n",
       "</style>\n",
       "<table border=\"1\" class=\"dataframe\">\n",
       "  <thead>\n",
       "    <tr style=\"text-align: right;\">\n",
       "      <th></th>\n",
       "      <th>0</th>\n",
       "      <th>query</th>\n",
       "      <th>query_date</th>\n",
       "      <th>system_prompt</th>\n",
       "      <th>user_prompt</th>\n",
       "      <th>model</th>\n",
       "      <th>model_response</th>\n",
       "      <th>input_tokens</th>\n",
       "      <th>output_tokens</th>\n",
       "      <th>hash</th>\n",
       "      <th>cleaned_response</th>\n",
       "      <th>headline</th>\n",
       "      <th>headline_removed_responses</th>\n",
       "      <th>cleaned_headline_removed_responses</th>\n",
       "      <th>apologies</th>\n",
       "      <th>has_ref</th>\n",
       "      <th>has_question</th>\n",
       "      <th>flagged</th>\n",
       "      <th>cleaned_responses_without_citations</th>\n",
       "    </tr>\n",
       "  </thead>\n",
       "  <tbody>\n",
       "    <tr>\n",
       "      <th>0</th>\n",
       "      <td>i</td>\n",
       "      <td>Unitec</td>\n",
       "      <td>2024-01-26T18:06:29</td>\n",
       "      <td>You are an Indian finance and business expert ...</td>\n",
       "      <td>|| user_query: Unitec || today date: 26 Janua...</td>\n",
       "      <td>gpt-4-0125-preview</td>\n",
       "      <td>\"I'm sorry, but there doesn't seem to be any i...</td>\n",
       "      <td>1593</td>\n",
       "      <td>67</td>\n",
       "      <td>False</td>\n",
       "      <td>I'm sorry, but there doesn't seem to be any in...</td>\n",
       "      <td>None</td>\n",
       "      <td>I'm sorry, but there doesn't seem to be any in...</td>\n",
       "      <td>I'm sorry, but there doesn't seem to be any in...</td>\n",
       "      <td>True</td>\n",
       "      <td>False</td>\n",
       "      <td>False</td>\n",
       "      <td>True</td>\n",
       "      <td>I'm sorry, but there doesn't seem to be any in...</td>\n",
       "    </tr>\n",
       "    <tr>\n",
       "      <th>1</th>\n",
       "      <td>i</td>\n",
       "      <td>Sjadkjhfjkdshfkjsdhjkfhdsjkfdshfkdshjkfdshkjfsd</td>\n",
       "      <td>2024-01-19T23:57:34</td>\n",
       "      <td>You are an Indian finance and business expert ...</td>\n",
       "      <td>|| user_query: Sjadkjhfjkdshfkjsdhjkfhdsjkfds...</td>\n",
       "      <td>gpt-4-0125-preview</td>\n",
       "      <td>\"I'm sorry, but it seems like your query didn'...</td>\n",
       "      <td>1403</td>\n",
       "      <td>48</td>\n",
       "      <td>False</td>\n",
       "      <td>I'm sorry, but it seems like your query didn't...</td>\n",
       "      <td>None</td>\n",
       "      <td>I'm sorry, but it seems like your query didn't...</td>\n",
       "      <td>I'm sorry, but it seems like your query didn't...</td>\n",
       "      <td>True</td>\n",
       "      <td>False</td>\n",
       "      <td>True</td>\n",
       "      <td>True</td>\n",
       "      <td>I'm sorry, but it seems like your query didn't...</td>\n",
       "    </tr>\n",
       "    <tr>\n",
       "      <th>2</th>\n",
       "      <td>i</td>\n",
       "      <td>Sensex</td>\n",
       "      <td>2024-01-17T00:15:05</td>\n",
       "      <td>You are an Indian finance and business expert ...</td>\n",
       "      <td>|| user_query: Sensex || today date: 17 Janua...</td>\n",
       "      <td>gpt-4-0125-preview</td>\n",
       "      <td>\"**Quick Insights**\\n\\nAs of the latest update...</td>\n",
       "      <td>3363</td>\n",
       "      <td>92</td>\n",
       "      <td>False</td>\n",
       "      <td>**Quick Insights**&lt;br&gt;&lt;br&gt;As of the latest upd...</td>\n",
       "      <td>Quick Insights</td>\n",
       "      <td>As of the latest update on December 18, 2023, ...</td>\n",
       "      <td>As of the latest update on December 18, 2023, ...</td>\n",
       "      <td>False</td>\n",
       "      <td>True</td>\n",
       "      <td>False</td>\n",
       "      <td>False</td>\n",
       "      <td>As of the latest update on December 18, 2023, ...</td>\n",
       "    </tr>\n",
       "    <tr>\n",
       "      <th>3</th>\n",
       "      <td>i</td>\n",
       "      <td>Best shawarma in India</td>\n",
       "      <td>2024-01-03T22:10:44</td>\n",
       "      <td>You are an Indian finance and business expert ...</td>\n",
       "      <td>|| user_query: Best shawarma in India || toda...</td>\n",
       "      <td>gpt-4-0125-preview</td>\n",
       "      <td>\"I'm sorry, but I'm unable to fulfill this req...</td>\n",
       "      <td>5423</td>\n",
       "      <td>13</td>\n",
       "      <td>False</td>\n",
       "      <td>I'm sorry, but I'm unable to fulfill this requ...</td>\n",
       "      <td>None</td>\n",
       "      <td>I'm sorry, but I'm unable to fulfill this requ...</td>\n",
       "      <td>I'm sorry, but I'm unable to fulfill this requ...</td>\n",
       "      <td>True</td>\n",
       "      <td>False</td>\n",
       "      <td>False</td>\n",
       "      <td>True</td>\n",
       "      <td>I'm sorry, but I'm unable to fulfill this requ...</td>\n",
       "    </tr>\n",
       "    <tr>\n",
       "      <th>4</th>\n",
       "      <td>i</td>\n",
       "      <td>Best shawarma in India</td>\n",
       "      <td>2024-01-03T22:10:44</td>\n",
       "      <td>You are an Indian finance and business expert ...</td>\n",
       "      <td>|| user_query: Best shawarma in India || toda...</td>\n",
       "      <td>gpt-4-0125-preview</td>\n",
       "      <td>\"I'm sorry, but I don't have any information o...</td>\n",
       "      <td>5423</td>\n",
       "      <td>50</td>\n",
       "      <td>False</td>\n",
       "      <td>I'm sorry, but I don't have any information on...</td>\n",
       "      <td>None</td>\n",
       "      <td>I'm sorry, but I don't have any information on...</td>\n",
       "      <td>I'm sorry, but I don't have any information on...</td>\n",
       "      <td>True</td>\n",
       "      <td>False</td>\n",
       "      <td>False</td>\n",
       "      <td>True</td>\n",
       "      <td>I'm sorry, but I don't have any information on...</td>\n",
       "    </tr>\n",
       "    <tr>\n",
       "      <th>...</th>\n",
       "      <td>...</td>\n",
       "      <td>...</td>\n",
       "      <td>...</td>\n",
       "      <td>...</td>\n",
       "      <td>...</td>\n",
       "      <td>...</td>\n",
       "      <td>...</td>\n",
       "      <td>...</td>\n",
       "      <td>...</td>\n",
       "      <td>...</td>\n",
       "      <td>...</td>\n",
       "      <td>...</td>\n",
       "      <td>...</td>\n",
       "      <td>...</td>\n",
       "      <td>...</td>\n",
       "      <td>...</td>\n",
       "      <td>...</td>\n",
       "      <td>...</td>\n",
       "      <td>...</td>\n",
       "    </tr>\n",
       "    <tr>\n",
       "      <th>1116</th>\n",
       "      <td>i</td>\n",
       "      <td>what is 10 10 d section</td>\n",
       "      <td>2024-01-07T10:44:19</td>\n",
       "      <td>You are an Indian finance and business expert ...</td>\n",
       "      <td>|| user_query: what is 10 10 d section  || to...</td>\n",
       "      <td>gpt-4-0125-preview</td>\n",
       "      <td>\"**Quick Insights**\\n\\nSection 10 (10D) of the...</td>\n",
       "      <td>6088</td>\n",
       "      <td>126</td>\n",
       "      <td>False</td>\n",
       "      <td>**Quick Insights**&lt;br&gt;&lt;br&gt;Section 10 (10D) of ...</td>\n",
       "      <td>Quick Insights</td>\n",
       "      <td>Section 10 (10D) of the Income Tax Act exempts...</td>\n",
       "      <td>Section 10 (10D) of the Income Tax Act exempts...</td>\n",
       "      <td>False</td>\n",
       "      <td>True</td>\n",
       "      <td>False</td>\n",
       "      <td>False</td>\n",
       "      <td>Section 10 (10D) of the Income Tax Act exempts...</td>\n",
       "    </tr>\n",
       "    <tr>\n",
       "      <th>1117</th>\n",
       "      <td>i</td>\n",
       "      <td>Help me select a tax regime in 2024</td>\n",
       "      <td>2024-01-04T04:08:36</td>\n",
       "      <td>You are an Indian finance and business expert ...</td>\n",
       "      <td>|| user_query: Help me select a tax regime in...</td>\n",
       "      <td>gpt-4-0125-preview</td>\n",
       "      <td>\"Choosing between the old and new income tax r...</td>\n",
       "      <td>2381</td>\n",
       "      <td>309</td>\n",
       "      <td>False</td>\n",
       "      <td>Choosing between the old and new income tax re...</td>\n",
       "      <td>Quick Insights</td>\n",
       "      <td>- **New Tax Regime (From FY 2023-24 onwards)**...</td>\n",
       "      <td>- **New Tax Regime (From FY 2023-24 onwards)**...</td>\n",
       "      <td>False</td>\n",
       "      <td>True</td>\n",
       "      <td>False</td>\n",
       "      <td>False</td>\n",
       "      <td>- **New Tax Regime (From FY 2023-24 onwards)**...</td>\n",
       "    </tr>\n",
       "    <tr>\n",
       "      <th>1118</th>\n",
       "      <td>i</td>\n",
       "      <td>Wint blogs</td>\n",
       "      <td>2024-01-10T22:59:23</td>\n",
       "      <td>You are an Indian finance and business expert ...</td>\n",
       "      <td>|| user_query: Wint blogs || today date: 10 J...</td>\n",
       "      <td>gpt-4-0125-preview</td>\n",
       "      <td>\"**Quick Insights**\\n\\nWint Wealth, an online ...</td>\n",
       "      <td>2468</td>\n",
       "      <td>153</td>\n",
       "      <td>False</td>\n",
       "      <td>**Quick Insights**&lt;br&gt;&lt;br&gt;Wint Wealth, an onli...</td>\n",
       "      <td>Quick Insights</td>\n",
       "      <td>Wint Wealth, an online bond platform, is expan...</td>\n",
       "      <td>Wint Wealth, an online bond platform, is expan...</td>\n",
       "      <td>False</td>\n",
       "      <td>True</td>\n",
       "      <td>False</td>\n",
       "      <td>False</td>\n",
       "      <td>Wint Wealth, an online bond platform, is expan...</td>\n",
       "    </tr>\n",
       "    <tr>\n",
       "      <th>1119</th>\n",
       "      <td>i</td>\n",
       "      <td>Zee news</td>\n",
       "      <td>2023-12-31T21:41:31</td>\n",
       "      <td>You are an Indian finance and business expert ...</td>\n",
       "      <td>|| user_query: Zee news || today date: 31 Dec...</td>\n",
       "      <td>gpt-4-0125-preview</td>\n",
       "      <td>\"**Quick Insights:**&lt;br&gt;\\nZee Entertainment En...</td>\n",
       "      <td>2733</td>\n",
       "      <td>135</td>\n",
       "      <td>False</td>\n",
       "      <td>**Quick Insights:**&lt;br&gt;&lt;br&gt;Zee Entertainment E...</td>\n",
       "      <td>Quick Insights:</td>\n",
       "      <td>Zee Entertainment Enterprises Ltd (ZEEL) annou...</td>\n",
       "      <td>Zee Entertainment Enterprises Ltd (ZEEL) annou...</td>\n",
       "      <td>False</td>\n",
       "      <td>True</td>\n",
       "      <td>False</td>\n",
       "      <td>False</td>\n",
       "      <td>Zee Entertainment Enterprises Ltd (ZEEL) annou...</td>\n",
       "    </tr>\n",
       "    <tr>\n",
       "      <th>1120</th>\n",
       "      <td>i</td>\n",
       "      <td>what is personal investment declaration</td>\n",
       "      <td>2024-01-13T05:19:48</td>\n",
       "      <td>You are an Indian finance and business expert ...</td>\n",
       "      <td>|| user_query: what is personal investment de...</td>\n",
       "      <td>gpt-4-0125-preview</td>\n",
       "      <td>\"**Personal Investment Declaration Explainer**...</td>\n",
       "      <td>4052</td>\n",
       "      <td>222</td>\n",
       "      <td>False</td>\n",
       "      <td>**Personal Investment Declaration Explainer**&lt;...</td>\n",
       "      <td>Personal Investment Declaration Explainer</td>\n",
       "      <td>Personal investment declaration is crucial for...</td>\n",
       "      <td>Personal investment declaration is crucial for...</td>\n",
       "      <td>False</td>\n",
       "      <td>True</td>\n",
       "      <td>False</td>\n",
       "      <td>False</td>\n",
       "      <td>Personal investment declaration is crucial for...</td>\n",
       "    </tr>\n",
       "  </tbody>\n",
       "</table>\n",
       "<p>1121 rows × 19 columns</p>\n",
       "</div>"
      ],
      "text/plain": [
       "      0                                            query           query_date  \\\n",
       "0     i                                           Unitec  2024-01-26T18:06:29   \n",
       "1     i  Sjadkjhfjkdshfkjsdhjkfhdsjkfdshfkdshjkfdshkjfsd  2024-01-19T23:57:34   \n",
       "2     i                                           Sensex  2024-01-17T00:15:05   \n",
       "3     i                           Best shawarma in India  2024-01-03T22:10:44   \n",
       "4     i                           Best shawarma in India  2024-01-03T22:10:44   \n",
       "...  ..                                              ...                  ...   \n",
       "1116  i                         what is 10 10 d section   2024-01-07T10:44:19   \n",
       "1117  i              Help me select a tax regime in 2024  2024-01-04T04:08:36   \n",
       "1118  i                                       Wint blogs  2024-01-10T22:59:23   \n",
       "1119  i                                         Zee news  2023-12-31T21:41:31   \n",
       "1120  i         what is personal investment declaration   2024-01-13T05:19:48   \n",
       "\n",
       "                                          system_prompt  \\\n",
       "0     You are an Indian finance and business expert ...   \n",
       "1     You are an Indian finance and business expert ...   \n",
       "2     You are an Indian finance and business expert ...   \n",
       "3     You are an Indian finance and business expert ...   \n",
       "4     You are an Indian finance and business expert ...   \n",
       "...                                                 ...   \n",
       "1116  You are an Indian finance and business expert ...   \n",
       "1117  You are an Indian finance and business expert ...   \n",
       "1118  You are an Indian finance and business expert ...   \n",
       "1119  You are an Indian finance and business expert ...   \n",
       "1120  You are an Indian finance and business expert ...   \n",
       "\n",
       "                                            user_prompt               model  \\\n",
       "0      || user_query: Unitec || today date: 26 Janua...  gpt-4-0125-preview   \n",
       "1      || user_query: Sjadkjhfjkdshfkjsdhjkfhdsjkfds...  gpt-4-0125-preview   \n",
       "2      || user_query: Sensex || today date: 17 Janua...  gpt-4-0125-preview   \n",
       "3      || user_query: Best shawarma in India || toda...  gpt-4-0125-preview   \n",
       "4      || user_query: Best shawarma in India || toda...  gpt-4-0125-preview   \n",
       "...                                                 ...                 ...   \n",
       "1116   || user_query: what is 10 10 d section  || to...  gpt-4-0125-preview   \n",
       "1117   || user_query: Help me select a tax regime in...  gpt-4-0125-preview   \n",
       "1118   || user_query: Wint blogs || today date: 10 J...  gpt-4-0125-preview   \n",
       "1119   || user_query: Zee news || today date: 31 Dec...  gpt-4-0125-preview   \n",
       "1120   || user_query: what is personal investment de...  gpt-4-0125-preview   \n",
       "\n",
       "                                         model_response  input_tokens  \\\n",
       "0     \"I'm sorry, but there doesn't seem to be any i...          1593   \n",
       "1     \"I'm sorry, but it seems like your query didn'...          1403   \n",
       "2     \"**Quick Insights**\\n\\nAs of the latest update...          3363   \n",
       "3     \"I'm sorry, but I'm unable to fulfill this req...          5423   \n",
       "4     \"I'm sorry, but I don't have any information o...          5423   \n",
       "...                                                 ...           ...   \n",
       "1116  \"**Quick Insights**\\n\\nSection 10 (10D) of the...          6088   \n",
       "1117  \"Choosing between the old and new income tax r...          2381   \n",
       "1118  \"**Quick Insights**\\n\\nWint Wealth, an online ...          2468   \n",
       "1119  \"**Quick Insights:**<br>\\nZee Entertainment En...          2733   \n",
       "1120  \"**Personal Investment Declaration Explainer**...          4052   \n",
       "\n",
       "      output_tokens   hash                                   cleaned_response  \\\n",
       "0                67  False  I'm sorry, but there doesn't seem to be any in...   \n",
       "1                48  False  I'm sorry, but it seems like your query didn't...   \n",
       "2                92  False  **Quick Insights**<br><br>As of the latest upd...   \n",
       "3                13  False  I'm sorry, but I'm unable to fulfill this requ...   \n",
       "4                50  False  I'm sorry, but I don't have any information on...   \n",
       "...             ...    ...                                                ...   \n",
       "1116            126  False  **Quick Insights**<br><br>Section 10 (10D) of ...   \n",
       "1117            309  False  Choosing between the old and new income tax re...   \n",
       "1118            153  False  **Quick Insights**<br><br>Wint Wealth, an onli...   \n",
       "1119            135  False  **Quick Insights:**<br><br>Zee Entertainment E...   \n",
       "1120            222  False  **Personal Investment Declaration Explainer**<...   \n",
       "\n",
       "                                       headline  \\\n",
       "0                                          None   \n",
       "1                                          None   \n",
       "2                                Quick Insights   \n",
       "3                                          None   \n",
       "4                                          None   \n",
       "...                                         ...   \n",
       "1116                             Quick Insights   \n",
       "1117                             Quick Insights   \n",
       "1118                             Quick Insights   \n",
       "1119                            Quick Insights:   \n",
       "1120  Personal Investment Declaration Explainer   \n",
       "\n",
       "                             headline_removed_responses  \\\n",
       "0     I'm sorry, but there doesn't seem to be any in...   \n",
       "1     I'm sorry, but it seems like your query didn't...   \n",
       "2     As of the latest update on December 18, 2023, ...   \n",
       "3     I'm sorry, but I'm unable to fulfill this requ...   \n",
       "4     I'm sorry, but I don't have any information on...   \n",
       "...                                                 ...   \n",
       "1116  Section 10 (10D) of the Income Tax Act exempts...   \n",
       "1117  - **New Tax Regime (From FY 2023-24 onwards)**...   \n",
       "1118  Wint Wealth, an online bond platform, is expan...   \n",
       "1119  Zee Entertainment Enterprises Ltd (ZEEL) annou...   \n",
       "1120  Personal investment declaration is crucial for...   \n",
       "\n",
       "                     cleaned_headline_removed_responses  apologies  has_ref  \\\n",
       "0     I'm sorry, but there doesn't seem to be any in...       True    False   \n",
       "1     I'm sorry, but it seems like your query didn't...       True    False   \n",
       "2     As of the latest update on December 18, 2023, ...      False     True   \n",
       "3     I'm sorry, but I'm unable to fulfill this requ...       True    False   \n",
       "4     I'm sorry, but I don't have any information on...       True    False   \n",
       "...                                                 ...        ...      ...   \n",
       "1116  Section 10 (10D) of the Income Tax Act exempts...      False     True   \n",
       "1117  - **New Tax Regime (From FY 2023-24 onwards)**...      False     True   \n",
       "1118  Wint Wealth, an online bond platform, is expan...      False     True   \n",
       "1119  Zee Entertainment Enterprises Ltd (ZEEL) annou...      False     True   \n",
       "1120  Personal investment declaration is crucial for...      False     True   \n",
       "\n",
       "      has_question  flagged                cleaned_responses_without_citations  \n",
       "0            False     True  I'm sorry, but there doesn't seem to be any in...  \n",
       "1             True     True  I'm sorry, but it seems like your query didn't...  \n",
       "2            False    False  As of the latest update on December 18, 2023, ...  \n",
       "3            False     True  I'm sorry, but I'm unable to fulfill this requ...  \n",
       "4            False     True  I'm sorry, but I don't have any information on...  \n",
       "...            ...      ...                                                ...  \n",
       "1116         False    False  Section 10 (10D) of the Income Tax Act exempts...  \n",
       "1117         False    False  - **New Tax Regime (From FY 2023-24 onwards)**...  \n",
       "1118         False    False  Wint Wealth, an online bond platform, is expan...  \n",
       "1119         False    False  Zee Entertainment Enterprises Ltd (ZEEL) annou...  \n",
       "1120         False    False  Personal investment declaration is crucial for...  \n",
       "\n",
       "[1121 rows x 19 columns]"
      ]
     },
     "execution_count": 81,
     "metadata": {},
     "output_type": "execute_result"
    }
   ],
   "source": [
    "responses_df"
   ]
  },
  {
   "cell_type": "code",
   "execution_count": 82,
   "id": "63254b6b-6c64-427a-97a9-378efbe5fcd6",
   "metadata": {
    "tags": []
   },
   "outputs": [],
   "source": [
    "responses_df = responses_df.drop(columns = [0, 'hash'])"
   ]
  },
  {
   "cell_type": "code",
   "execution_count": 83,
   "id": "be0b8043-1dfe-41e9-b5b5-a091d32ba544",
   "metadata": {
    "tags": []
   },
   "outputs": [],
   "source": [
    "responses_df[responses_df.flagged == False].to_csv('gpt-4-cleaned_responses_v1.csv',index=False)"
   ]
  },
  {
   "cell_type": "code",
   "execution_count": 54,
   "id": "73434c46-96db-4213-9ca2-fcacf3e73d53",
   "metadata": {
    "tags": []
   },
   "outputs": [],
   "source": [
    "import re\n",
    "\n",
    "def add_space_after_unicode_representation(text):\n",
    "    # Pattern to find any Unicode representation (e.g., \\u20b9 or \\U000020b9) followed directly by digits.\n",
    "    # This pattern matches both short (\\uxxxx) and long (\\Uxxxxxxxx) Unicode representations.\n",
    "    pattern = r'(\\\\u[0-9a-fA-F]{4}|\\\\U[0-9a-fA-F]{8})(\\d)'\n",
    "\n",
    "    # Replacement pattern with a space between the Unicode representation and the number.\n",
    "    replacement = r'\\1 \\2'\n",
    "\n",
    "    # Use re.sub to replace the pattern with our desired format.\n",
    "    modified_text = re.sub(pattern, replacement, text)\n",
    "\n",
    "    return modified_text"
   ]
  },
  {
   "cell_type": "code",
   "execution_count": 47,
   "id": "87519acb-3256-4775-90a0-49966e003949",
   "metadata": {
    "tags": []
   },
   "outputs": [],
   "source": [
    "import json"
   ]
  },
  {
   "cell_type": "code",
   "execution_count": 75,
   "id": "076cd309-81b0-4ef8-9541-e3ef302bc537",
   "metadata": {
    "tags": []
   },
   "outputs": [
    {
     "data": {
      "text/plain": [
       "47.66874"
      ]
     },
     "execution_count": 75,
     "metadata": {},
     "output_type": "execute_result"
    }
   ],
   "source": [
    "(responses_df['input_tokens'].sum() * 0.01)/1000 + (responses_df['output_tokens'].sum() * 0.03)/1000"
   ]
  },
  {
   "cell_type": "code",
   "execution_count": 76,
   "id": "41482604-0b26-4fd1-9b65-092bced538fc",
   "metadata": {
    "tags": []
   },
   "outputs": [
    {
     "data": {
      "text/plain": [
       "count    1121.000000\n",
       "mean      198.030330\n",
       "std       131.018691\n",
       "min         9.000000\n",
       "25%        92.000000\n",
       "50%       157.000000\n",
       "75%       299.000000\n",
       "max       641.000000\n",
       "Name: output_tokens, dtype: float64"
      ]
     },
     "execution_count": 76,
     "metadata": {},
     "output_type": "execute_result"
    }
   ],
   "source": [
    "responses_df['output_tokens'].describe()"
   ]
  },
  {
   "cell_type": "code",
   "execution_count": null,
   "id": "f4233f9a-249d-4d67-80cf-21c883e4ecc5",
   "metadata": {},
   "outputs": [],
   "source": []
  }
 ],
 "metadata": {
  "kernelspec": {
   "display_name": "recoenv",
   "language": "python",
   "name": "recoenv"
  },
  "language_info": {
   "codemirror_mode": {
    "name": "ipython",
    "version": 3
   },
   "file_extension": ".py",
   "mimetype": "text/x-python",
   "name": "python",
   "nbconvert_exporter": "python",
   "pygments_lexer": "ipython3",
   "version": "3.11.5"
  }
 },
 "nbformat": 4,
 "nbformat_minor": 5
}
