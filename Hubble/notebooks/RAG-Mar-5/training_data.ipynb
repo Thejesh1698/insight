{
 "cells": [
  {
   "cell_type": "code",
   "execution_count": 1,
   "id": "6a657ed7-1c2c-46b5-a0d3-21e00d8ec8c5",
   "metadata": {
    "tags": []
   },
   "outputs": [],
   "source": [
    "parent_folder = '/Users/ravi.tej/Desktop/ML/Recommendations/hubble/'\n",
    "from hydra import compose, initialize\n",
    "import os\n",
    "\n",
    "import xml.etree.ElementTree as ET\n",
    "\n",
    "tree = ET.parse('../../conf/application.run.xml')\n",
    "root = tree.getroot()\n",
    "\n",
    "envs_element = root.find('./configuration/envs')\n",
    "for variable in envs_element.findall('env'):\n",
    "    name = variable.get('name')\n",
    "    value = variable.get('value')\n",
    "    os.environ[name] = value\n",
    "\n",
    "import sys\n",
    "sys.path.append('/Users/ravi.tej/Desktop/ML/Recommendations/hubble/')"
   ]
  },
  {
   "cell_type": "code",
   "execution_count": 2,
   "id": "151c59bc-62f9-4bd4-872d-3719d15e3ffe",
   "metadata": {
    "tags": []
   },
   "outputs": [
    {
     "name": "stderr",
     "output_type": "stream",
     "text": [
      "/Users/ravi.tej/anaconda3/envs/recoenv/lib/python3.11/site-packages/torch/_utils.py:776: UserWarning: TypedStorage is deprecated. It will be removed in the future and UntypedStorage will be the only storage class. This should only matter to you if you are using storages directly.  To access UntypedStorage directly, use tensor.untyped_storage() instead of tensor.storage()\n",
      "  return self.fget.__get__(instance, owner)()\n",
      "Special tokens have been added in the vocabulary, make sure the associated word embeddings are fine-tuned or trained.\n",
      "Special tokens have been added in the vocabulary, make sure the associated word embeddings are fine-tuned or trained.\n",
      "Special tokens have been added in the vocabulary, make sure the associated word embeddings are fine-tuned or trained.\n",
      "Special tokens have been added in the vocabulary, make sure the associated word embeddings are fine-tuned or trained.\n"
     ]
    }
   ],
   "source": [
    "from src.RAGTraining.TrainingDataGenerator import TrainingDataGenerator"
   ]
  },
  {
   "cell_type": "code",
   "execution_count": 3,
   "id": "a3a8a224-a137-4b4e-80eb-802c2dd771fe",
   "metadata": {
    "tags": []
   },
   "outputs": [],
   "source": [
    "import logging\n",
    "logger = logging.getLogger()\n",
    "logger.setLevel(logging.CRITICAL)"
   ]
  },
  {
   "cell_type": "code",
   "execution_count": 4,
   "id": "0a07aa8e-482f-4039-ad3f-2b16f16d6e0d",
   "metadata": {
    "tags": []
   },
   "outputs": [
    {
     "name": "stderr",
     "output_type": "stream",
     "text": [
      "Special tokens have been added in the vocabulary, make sure the associated word embeddings are fine-tuned or trained.\n",
      "Special tokens have been added in the vocabulary, make sure the associated word embeddings are fine-tuned or trained.\n"
     ]
    }
   ],
   "source": [
    "trainingGenerator = TrainingDataGenerator(model_id = 'teknium/OpenHermes-2.5-Mistral-7B', queries_df_path='insight_user_db_publarticles_search_audit.csv', responses_file_path='gpt-responses.csv')"
   ]
  },
  {
   "cell_type": "code",
   "execution_count": 5,
   "id": "1ef21754-02a0-48a5-968e-1d07071e173f",
   "metadata": {
    "scrolled": true,
    "tags": []
   },
   "outputs": [
    {
     "data": {
      "text/plain": [
       "3923"
      ]
     },
     "execution_count": 5,
     "metadata": {},
     "output_type": "execute_result"
    }
   ],
   "source": [
    "trainingGenerator.content_tokens"
   ]
  },
  {
   "cell_type": "code",
   "execution_count": 6,
   "id": "b93228db-02ac-4a2c-9cbd-ef3c64fcce4a",
   "metadata": {
    "tags": []
   },
   "outputs": [],
   "source": [
    "import json\n",
    "\n",
    "with open('training_article_ids_latest.json', 'r') as f:\n",
    "    best_results = json.load(f)\n",
    "trainingGenerator.best_results = best_results\n",
    "\n",
    "with open('training_user_prompts_latest.json', 'r') as f:\n",
    "    user_prompts = json.load(f)\n",
    "trainingGenerator.user_prompts = user_prompts"
   ]
  },
  {
   "cell_type": "code",
   "execution_count": 7,
   "id": "34f5dced-45ea-48d7-be7b-28f2ba655874",
   "metadata": {
    "tags": []
   },
   "outputs": [
    {
     "data": {
      "text/plain": [
       "1122"
      ]
     },
     "execution_count": 7,
     "metadata": {},
     "output_type": "execute_result"
    }
   ],
   "source": [
    "len(trainingGenerator.user_prompts)"
   ]
  },
  {
   "cell_type": "code",
   "execution_count": 8,
   "id": "af10b7b0-0cbd-4e4a-a52b-4904cdd4de99",
   "metadata": {
    "tags": []
   },
   "outputs": [],
   "source": [
    "# trainingGenerator.generate_prompts_for_queries()\n",
    "# trainingGenerator.save_results_to_json(trainingGenerator.user_prompts, 'training_user_prompts_latest.json')"
   ]
  },
  {
   "cell_type": "code",
   "execution_count": 9,
   "id": "d6a38798-2516-4544-bb38-462167672930",
   "metadata": {
    "scrolled": true,
    "tags": []
   },
   "outputs": [],
   "source": [
    "# # trainingGenerator.get_best_articles_for_queries(max_num_random_dates=3, randomize_num_dates_per_query=True)\n",
    "\n",
    "# len(trainingGenerator.best_results)\n",
    "\n",
    "# # trainingGenerator.save_results_to_json(trainingGenerator.best_results, 'training_article_ids_latest.json')\n",
    "\n",
    "# trainingGenerator.generate_prompts_for_queries()\n",
    "\n",
    "# trainingGenerator.save_results_to_json(trainingGenerator.user_prompts, 'training_user_prompts_latest.json')"
   ]
  },
  {
   "cell_type": "code",
   "execution_count": 27,
   "id": "801320e9-db7d-4ac8-8799-f31a5b24fb2b",
   "metadata": {
    "tags": []
   },
   "outputs": [
    {
     "name": "stderr",
     "output_type": "stream",
     "text": [
      "\n",
      "KeyboardInterrupt\n",
      "\n"
     ]
    }
   ],
   "source": [
    "trainingGenerator.get_gpt4_attributes_for_article_ids(fraction=1)"
   ]
  },
  {
   "cell_type": "markdown",
   "id": "19027a21-b07f-4323-8c57-26155dd18b33",
   "metadata": {},
   "source": [
    "### Cleaning"
   ]
  },
  {
   "cell_type": "code",
   "execution_count": 89,
   "id": "1760654c-0776-4041-b6cc-3f0f142a75b5",
   "metadata": {
    "tags": []
   },
   "outputs": [],
   "source": [
    "import pandas as pd"
   ]
  },
  {
   "cell_type": "code",
   "execution_count": 90,
   "id": "d96877ca-fc49-4400-b4d7-ef6d4a011354",
   "metadata": {
    "tags": []
   },
   "outputs": [],
   "source": [
    "responses_df = pd.read_csv('gpt-responses.csv',  header=None)\n",
    "responses_df = responses_df.iloc[:1121]"
   ]
  },
  {
   "cell_type": "code",
   "execution_count": 3,
   "id": "fcf417e1-a1a1-401b-bd21-78ea0c3744d7",
   "metadata": {
    "tags": []
   },
   "outputs": [],
   "source": [
    "def has_hash(x):\n",
    "    return '##' in x"
   ]
  },
  {
   "cell_type": "code",
   "execution_count": 4,
   "id": "ec6a5c70-ea46-41d3-94f1-41739f1adea2",
   "metadata": {
    "tags": []
   },
   "outputs": [],
   "source": [
    "responses_df['hash'] = responses_df[6].apply(lambda x: has_hash(x))"
   ]
  },
  {
   "cell_type": "code",
   "execution_count": 5,
   "id": "e73e24e8-8ac1-4fa4-b35c-d2f509b13e03",
   "metadata": {
    "tags": []
   },
   "outputs": [
    {
     "data": {
      "text/plain": [
       "0.012488849241748439"
      ]
     },
     "execution_count": 5,
     "metadata": {},
     "output_type": "execute_result"
    }
   ],
   "source": [
    "responses_df.hash.mean()"
   ]
  },
  {
   "cell_type": "code",
   "execution_count": 6,
   "id": "8f36b229-0136-48dc-9f0c-68b3b22aef97",
   "metadata": {
    "tags": []
   },
   "outputs": [],
   "source": [
    "import re\n",
    "\n",
    "def replace_br_tags(text):\n",
    "    # This pattern matches sequences of more than two <br> tags.\n",
    "    # The pattern looks for <br> followed by one or more repetitions of <br>, capturing as many as it finds.\n",
    "    pattern = r'(<br>\\s*){3,}'\n",
    "    # Replacement string with exactly two <br> tags.\n",
    "    replacement = r'<br><br>'\n",
    "    # Use re.sub to replace sequences of more than two <br> tags with exactly two.\n",
    "    modified_text = re.sub(pattern, replacement, text)\n",
    "    return modified_text"
   ]
  },
  {
   "cell_type": "code",
   "execution_count": 7,
   "id": "ea8671f0-d93d-4dc2-850c-72793d88bcaa",
   "metadata": {
    "tags": []
   },
   "outputs": [],
   "source": [
    "def clean_response(x):\n",
    "    x = x.replace('\\\\n','<br>')\n",
    "    x = x.replace('\\n', '<br>')\n",
    "    x = x.replace('####', '**')\n",
    "    x = x.replace('###', '**')\n",
    "    x = x.replace('##', '**')\n",
    "    x = x.replace('#', '**')\n",
    "    x = replace_br_tags(x)\n",
    "    return x"
   ]
  },
  {
   "cell_type": "code",
   "execution_count": 8,
   "id": "6b12b53b-7092-42a8-9334-1b4750173660",
   "metadata": {
    "tags": []
   },
   "outputs": [],
   "source": [
    "import json"
   ]
  },
  {
   "cell_type": "code",
   "execution_count": 9,
   "id": "49326df9-9f84-48e8-a403-c44be381e47d",
   "metadata": {
    "tags": []
   },
   "outputs": [],
   "source": [
    "responses_df['cleaned_response'] = responses_df[6].apply(lambda x: json.loads(clean_response(x)))"
   ]
  },
  {
   "cell_type": "code",
   "execution_count": 10,
   "id": "6348a3f0-b78d-4b7a-8f4a-d0e0f597dfc9",
   "metadata": {
    "tags": []
   },
   "outputs": [
    {
     "name": "stdout",
     "output_type": "stream",
     "text": [
      "Headline: This is the headline\n",
      "Rest of the text: Here is the rest of the text.\n"
     ]
    }
   ],
   "source": [
    "import re\n",
    "\n",
    "def extract_headline(text):\n",
    "    # Regular expression to match the headline pattern\n",
    "    pattern = r'\\*\\*(.*?)\\*\\*(?::)?(?:\\s*<br>\\s*){1,2}'\n",
    "    match = re.search(pattern, text, re.IGNORECASE | re.DOTALL)\n",
    "    if match:\n",
    "        headline = match.group(1).strip()\n",
    "        rest_of_text = text[match.end():].strip()\n",
    "        return headline, rest_of_text\n",
    "    return None, text\n",
    "\n",
    "# Example usage\n",
    "text = \"**This is the headline** <br><br> Here is the rest of the text.\"\n",
    "headline, rest_of_text = extract_headline(text)\n",
    "print(\"Headline:\", headline)\n",
    "print(\"Rest of the text:\", rest_of_text)\n"
   ]
  },
  {
   "cell_type": "code",
   "execution_count": 12,
   "id": "50198ccd-67c3-4ac7-96bf-046f4b849898",
   "metadata": {
    "tags": []
   },
   "outputs": [],
   "source": [
    "#if x['has_headline'] else ('', x['cleaned_response'])\n",
    "responses_df['headline'], responses_df['headline_removed_responses'] = zip(*responses_df.apply(lambda x: extract_headline(x['cleaned_response']) ,axis=1))"
   ]
  },
  {
   "cell_type": "code",
   "execution_count": 13,
   "id": "bb6965c2-59cc-4156-afc0-cb177d71eb7d",
   "metadata": {
    "tags": []
   },
   "outputs": [
    {
     "data": {
      "text/plain": [
       "0.32917038358608386"
      ]
     },
     "execution_count": 13,
     "metadata": {},
     "output_type": "execute_result"
    }
   ],
   "source": [
    "responses_df.headline.isnull().mean()"
   ]
  },
  {
   "cell_type": "code",
   "execution_count": 14,
   "id": "bace81c8-28ed-4c73-ae90-bd3c5a4bf995",
   "metadata": {
    "tags": []
   },
   "outputs": [],
   "source": [
    "def remove_hyphen_from_section_headings(text):\n",
    "    # Regular expression to match the pattern\n",
    "    pattern = r'(<br>\\s*)?-\\s*\\*\\*([^<\\n]*?)\\*\\*(\\s*:\\s*)?(?=(\\s*<br>|$))'\n",
    "    def replace_func(match):\n",
    "        return f\"{match.group(1) or ''}**{match.group(2)}{match.group(3) or ''}**{match.group(4) or ''}\"\n",
    "    updated_text = re.sub(pattern, replace_func, text, flags=re.DOTALL)\n",
    "    return updated_text"
   ]
  },
  {
   "cell_type": "code",
   "execution_count": 15,
   "id": "689af005-ae76-4e2e-a1eb-32f2c998b979",
   "metadata": {
    "tags": []
   },
   "outputs": [],
   "source": [
    "def replace_developed_by_openai(x):\n",
    "    if 'AI developed by OpenAI' in x:\n",
    "        return x.replace('AI developed by OpenAI', 'AI developed by Insight')\n",
    "    else:\n",
    "        return x"
   ]
  },
  {
   "cell_type": "code",
   "execution_count": 16,
   "id": "6ba4ecd7-4aaf-47b4-9189-2be3b9659b36",
   "metadata": {
    "tags": []
   },
   "outputs": [],
   "source": [
    "def clean_provided_articles(x):\n",
    "    if 'provided articles' in x: \n",
    "        return x.replace('provided articles', 'articles I found')\n",
    "    elif 'articles provided' in x:\n",
    "        return x.replace('articles provided', 'articles I found')\n",
    "    elif 'information provided' in x:\n",
    "        return x.replace('information provided', 'articles I found')\n",
    "    else:\n",
    "        return x"
   ]
  },
  {
   "cell_type": "code",
   "execution_count": 24,
   "id": "f9e00174-c909-44ba-94e2-c521655b34c3",
   "metadata": {
    "tags": []
   },
   "outputs": [],
   "source": [
    "def remove_citations(x):\n",
    "    x = x.replace('{{1}}', '')\n",
    "    x = x.replace('{{2}}', '')\n",
    "    x = x.replace('{{3}}', '')\n",
    "    return x"
   ]
  },
  {
   "cell_type": "code",
   "execution_count": 31,
   "id": "b4814c21-0758-4bc3-b545-40f9905fe076",
   "metadata": {
    "tags": []
   },
   "outputs": [],
   "source": [
    "def clean_responses_further(x):\n",
    "    x = remove_hyphen_from_section_headings(x)\n",
    "    x = replace_developed_by_openai(x)\n",
    "    x = clean_provided_articles(x)\n",
    "    # x = remove_citations(x)\n",
    "    return x"
   ]
  },
  {
   "cell_type": "code",
   "execution_count": 32,
   "id": "924bf0ac-8f61-4ced-8a3b-97e7752a3180",
   "metadata": {
    "tags": []
   },
   "outputs": [],
   "source": [
    "def has_references(x):\n",
    "    return '{{1}}' in x or '{{2}}' in x or '{{3}}' in x"
   ]
  },
  {
   "cell_type": "code",
   "execution_count": 33,
   "id": "c2c8cb29-1806-4a67-952f-61a9361858b7",
   "metadata": {
    "tags": []
   },
   "outputs": [],
   "source": [
    "def find_apologies_responses(x):\n",
    "    return 'I\\'m sorry' in x or 'apologize' in x or 'here to provide' in x or 'here to assist' in x"
   ]
  },
  {
   "cell_type": "code",
   "execution_count": 34,
   "id": "9105748f-6758-4489-96e4-986ea050a164",
   "metadata": {
    "scrolled": true,
    "tags": []
   },
   "outputs": [
    {
     "data": {
      "text/plain": [
       "array([\"The Indian economy has shown resilience in the face of global economic headwinds, including conflicts and restrictive US monetary policies. Here are the key highlights and future outlook based on recent reviews:<br><br>- **Current Economic Climate**:<br>  - Conflicts in the Persian Gulf and the US's restrictive monetary stance pose risks, potentially affecting oil prices and borrowing costs {{1}}.<br>  - Despite these challenges, India's FY24 economic outlook remains positive, supported by strong domestic fundamentals and a decrease in retail inflation {{1}}.<br><br>- **Growth Projections**:<br>  - The Indian economy is expected to grow at a rate close to 7% in FY25, underpinned by robust domestic demand driven by private consumption and investment {{2}}.<br>  - There's potential for the growth rate to exceed 7% by 2030, backed by infrastructure development, balance sheet strengthening, and technological advancements {{2}}.<br><br>- **Strategic Reforms and Economic Aspirations**:<br>  - Future reform priorities include skilling, health, energy security, and reducing compliance burdens for MSMEs {{2}}.<br>  - Ambition to become a $7 trillion economy by 2030, with a focus on improving the quality of life for the Indian population {{2}}.<br><br>In summary, despite external vulnerabilities, India's economy is poised for sustained growth, supported by internal reforms and investments. The government remains optimistic about achieving significant economic milestones in the coming years.\",\n",
       "       \"I'm sorry, but it seems your query is related to Google in a general context and does not specify a finance or business angle that I can address with the information from the articles provided. Could you please provide more details or ask another question related to finance or business?\",\n",
       "       \"- **June 2023 Financial Highlights:** <br>  - Net Sales: Rs 162.40 crore, a decrease by 19.9% from Rs 202.76 crore in June 2022.<br>  - Net Profit: Rs 20.34 crore, surging by 251.99% from Rs 5.78 crore in June 2022.<br>  - EBITDA: Rs 27.51 crore, increasing by 236.72% from Rs 8.17 crore in June 2022.<br>  - EPS: Rose to Rs 17.82 in June 2023 from Rs 5.69 in June 2022.<br>  - Stock Performance: Shares closed at Rs 126.90 on August 9, 2023, with 27.15% returns over the last 6 months and 160.84% over the last 12 months{{1}}.<br><br>- **Significant New Orders:**<br>  - Received orders worth Rs 1,130 crore for upgrading and rehabilitating a section on NH-66 in Ratnagiri through its subsidiary, endorsed by The Ministry of Road Transport & Highways{{3}}.<br><br>These insights deliver a snapshot of Hazoor Multi Projects' recent performance and strategic moves within the infrastructure sector.\",\n",
       "       'On January 8, 2024, Indian equity benchmarks Sensex and Nifty 50 experienced significant declines, causing investors to lose nearly ₹3 lakh crore in market valuation in a single day. The losses were attributed to a number of factors including {{2}}:<br>- Weak global market cues.<br>- Caution among investors ahead of the Q3 earnings season.<br>- Diminishing hopes of an early rate cut by the US Federal Reserve.<br>- Continued focus on geopolitical tensions.<br>- Technical indicators suggesting a change in market sentiment.',\n",
       "       \"I'm sorry, but I cannot directly access or retrieve information from specific dates or locations as requested without specific text or data input from the provided articles. However, based on the information you've given, it seems you might be looking for financial or Aadhaar enrolment services in Bangalore. Please specify the kind of information or assistance you need, like applying for a home loan or finding an Aadhaar enrolment centre in Bangalore, and I can provide guidance based on the articles provided.\",\n",
       "       \"Building a robust financial foundation for your retirement involves careful planning and disciplined saving. Here's how you can approach it:<br><br>1. **Determine Your Retirement Age**: Decide when you plan to retire to understand the time you have to prepare {{1}}.<br>   <br>2. **Start Early**: Begin saving as soon as you start earning. Early investments can significantly impact due to compounding {{1}}.<br>   <br>3. **Evaluate Your Retirement Fund Needs**: Assess your current expenses and consider future costs with probable inflation to estimate how much you'll need for an uninterrupted post-retirement life {{1}}.<br>   <br>4. **Assess Future Value of Investments**: Calculate the future value of your current investments to ensure they meet your retirement needs, factoring in inflation rates {{1}}.<br>   <br>5. **Reconsider Your Expenses**: Adjust your current spending to allocate more towards your retirement savings, separating needs from wants {{1}}.<br>   <br>6. **Build an Ideal Asset Allocation Portfolio**: Diversify your investments based on your risk appetite, including equities for long-term growth and debt instruments for steady income {{1}}.<br>   <br>7. **Keep Your Portfolio in Check**: Monitor your investments and make necessary adjustments to stay on track with your retirement goals {{1}}.<br>   <br>8. **Pay Off Debts & Build Emergency Fund**: Ensure you are debt-free by retirement and have an emergency fund that covers 3-6 months of expenses {{1}}.<br><br>**Things to Consider**: Clear all debts before retirement, budget wisely for everyday expenses, and make an emergency fund a priority. Planning for retirement is not just about saving but also about intelligent investing and spending {{1}}.\",\n",
       "       \"ELSS, or Equity Linked Savings Scheme, offers a blend of tax savings and investment in the equity market. Let's break down their characteristics, benefits, and considerations:<br><br>- **Key Features:**<br>  - Invest in equity or equity-related instruments across various companies and sectors.<br>  - Comes with a lock-in period of 3 years, ensuring investors stay invested for medium to long term.<br>  - Allows deduction up to Rs. 1.5 lakh under Section 80C of the Income Tax Act, thereby providing a tax advantage {{1}}.<br><br>- **Advantages:**<br>  - **Tax Savings**: Investments up to Rs. 1.5 lakh qualify for tax deductions under Section 80C {{3}}.<br>  - **High Return Potential**: Being equity-oriented, ELSS funds can provide higher returns compared to traditional tax-saving instruments like PPF or FDs {{1}}.<br>  - **Shortest Lock-in Period**: Among tax-saving investments under Section 80C, ELSS boasts the shortest lock-in period of 3 years {{3}}.<br><br>- **Considerations Before Investing:**<br>  - **Risk Factor**: Investments are subject to market risks, as funds are primarily invested in equities {{3}}.<br>  - **Investment Objective and Horizon**: Ensure the fund’s objectives align with your financial goals and investment horizon {{1}}.<br>  - **Expense Ratio**: Look for funds with a lower expense ratio to maximize returns {{1}}.<br><br>**Final Thoughts**: ELSS offers a profitable avenue for those looking to save taxes while also aiming for substantial returns. However, investors must consider their risk appetite and consult their financial goals before investing {{1}}.\",\n",
       "       \"As of January 31, 2024, **Dr. Reddy's Laboratories** experienced a significant soar in its share price, reaching an all-time high of ₹6,108.90 on the NSE. This increase was primarily due to a better-than-expected performance in the December quarter, fueled by higher sales of the generic cancer drug, Revlimid. However, despite this achievement, multiple analysts express caution regarding the company's heavy reliance on Revlimid and other business challenges such as regulatory concerns and the need for meaningful approvals. Brokerages like Kotak Institutional Equities and Citi have issued 'Reduce' and 'Sell' ratings, respectively, citing reasons such as concentration risk and subdued growth forecasts {{1}}.<br><br>**Bajaj Finserv Asset Management** launched the **Bajaj Finserv Large and Mid Cap Fund**, focusing on 'Moat Investing' to foster wealth accumulation through investing in large-cap and mid-cap stocks. The fund aims to identify businesses with durable competitive advantages for long-term value creation. The new fund offer period commenced on February 6 and concluded on February 20, 2024. This strategy seeks to leverage the growth potential of companies with economic moats, aiming for market outperformance {{2}}.<br><br>**Paytm**, under its parent firm One97 Communications Ltd, denies any investigations by the Enforcement Directorate (ED) into the company or its CEO, Vijay Shekhar Sharma, regarding money laundering. The fintech major emphasized its compliance with Indian laws while addressing the Reserve Bank of India's (RBI) action against Paytm Payments Bank, advising stakeholders to rely on the official RBI press release instead of unofficial sources. Paytm clarifies its cooperative stance with authorities during past enquiries involving its users or merchants {{3}}.\",\n",
       "       \"The Reserve Bank of India (RBI) has approved Wint Wealth Group's acquisition of a majority stake in Ambium Finserve Pvt Ltd, a move signaling expansion for Wint Wealth into wholesale lending via its new arm, Wint Capital. With a loan book aimed to reach Rs 500 crore by the end of 2024, Wint Wealth also plans to bring its listed corporate bonds to retail investors early next year, further broadening investment avenues for its user base of over 53,000 investors {{1}}.\",\n",
       "       \"**1. Developmental Efforts:**<br>- The Bihar government has undertaken significant steps towards socio-economic development, highlighted by the caste-based survey which aims to provide a solid foundation for targeted developmental actions for all social strata, especially the OBC and EBC communities {{1}}.<br>- Additionally, Bihar's infrastructure is set for enhancement through a $295-million loan from the Asian Development Bank (ADB) for upgrading state highways. This project focuses on climate and disaster resilience, road safety, and connectivity improvements in some of Bihar's poorest rural districts, which is expected to boost access to health, education, and markets {{2}}.<br><br>**2. Microfinance Sector:**<br>- Bihar has emerged as the leading state for microfinance borrowings in India, overtaking Tamil Nadu with a total MFI borrowing of Rs 48,900 crore as of March 2023. This growth reflects Bihar's increasing prominence in the microfinance sector and contributes to the state's economic dynamics {{3}}.<br>- The microfinance sector in Bihar, characterized by a 13.5% increase in the gross lending portfolio and improvement in asset quality, plays a pivotal role in facilitating financial inclusion and supporting the livelihoods of the economically weaker sections of the society {{3}}.<br><br>**3. Economic Challenges and Opportunities:**<br>- While these developments reflect the concerted efforts towards enhancing Bihar's economic landscape, challenges persist, particularly in terms of reaching the most marginalized communities and ensuring equitable access to resources and development benefits {{1}}.<br>- The initiatives undertaken by the state government and cooperation with international financial institutions like ADB signify a positive trajectory towards addressing these challenges and enhancing the state’s economic resilience and sustainability {{2}}.\",\n",
       "       \"Paytm Payments Bank has faced significant regulatory challenges: <br>- The RBI has mandated Paytm Payments Bank to halt accepting new deposits effective from February 29, 2024, essentially impacting the bank's operations severely. The bank's stock plummeted by nearly 40% following this directive.<br>- This action stems from the RBI's findings of non-compliance and governance issues, particularly concerning the unclear separation between Paytm Payments Bank and its parent entity, One97 Communications. The regulator's concerns include the easy flow of money and data between the two, potentially risking depositor's money.<br>- While there's a buzz about an Enforcement Directorate (ED) investigation if new charges of fund siphoning emerge, no current actions are identified as of now. However, the RBI's stringent measures, including the possibility of license cancellation next month, pose a stark hurdle for Paytm's financial operations.<br>- Paytm is exploring partnerships with other banks to mitigate the impact on its merchant and customer transactions but faces a challenging transition ahead {{1}} {{2}} {{3}}.\",\n",
       "       'As of the latest available data:<br><br>- **Current Stock Price**: ₹6988.8 as per the latest closing.<br>- **Recent High and Low**: 52-week high at ₹7777 and a 52-week low at ₹5340.05.<br>- **Market Capitalization**: Approximately ₹425481.69 crore.<br>- **Recent Trend**: Slight decrease in value with recent closing price showing a decrease of 0.64% from its previous day.<br>  <br>This data suggests a mixed performance with some fluctuation in stock value but holding a strong market capitalization indicative of its significant presence in the finance sector. Investors should consider both recent trends and the broader financial health of Bajaj Finance before making investment decisions{{1}}{{2}}{{3}}.',\n",
       "       \"I'm sorry, but based on the information provided in the articles, there is no data related to Entro Health's Grey Market Premium (GMP). The articles focus on Indoco Remedies and its EU GMP certifications for manufacturing sites in Himachal Pradesh and Goa, as well as its dealings and certifications with the German Health Authority and outlooks shared by company officials. For specific inquiries about IPO-related metrics such as GMP of other companies like Entro Health, I recommend consulting financial news platforms or IPO-focused websites that track such data in real-time.\",\n",
       "       '- Hazoor Multi Projects secured orders worth Rs 1,130 crore for upgrading and rehabilitating a section of NH-66 in Ratnagiri.<br>- The stock hit a 10% upper circuit at Rs 151.70 on November 24, after the announcement.<br>- The project includes rehabilitation and upgrading from Km 241/300 to Km 281/300 to four lanes under NHDP-IV on Hybrid Annuity mode.<br>- Estimated project value is Rs 1,129.81 crore, with annuities at Rs 523 crore, interest on annuities at Rs 463 crore, and operation & maintenance costs at Rs 143 crore.<br>- Share price saw significant movement, reaching a 52-week high of Rs 164.40 and low of Rs 73.15, and reporting a 45.8% rise in September quarter net profit at Rs 13.79 crore{{1}}{{2}}{{3}}.',\n",
       "       \"I'm sorry, but the provided articles do not directly address the query about whether India failed as an economy under the National Democratic Alliance (NDA) government, so I cannot offer a precise answer to your question based on these texts. The articles focus on various financial topics such as the increase in borrowings by AA and below-rated companies, the cross-sectoral application of the Account Aggregator (AA) model, and the implementation of the Aadhaar-Based Payment System (ABPS) for MGNREGA payments without directly commenting on the broader performance of the Indian economy under the NDA government.\",\n",
       "       \"I'm sorry for the inconvenience, but it appears the articles provided lack detailed content regarding the respective share prices or financial performance of Cipla, UPL, and Suzlon as of 04 July 2023. The articles only mention that they are AI-generated live blogs and highlight a promotional offer for Mint Premium access, without offering specific information on the share prices or any financial analysis. I recommend visiting Live Mint's website or a reliable financial news platform for up-to-date and detailed information on these companies.\",\n",
       "       \"As of the latest reports around mid-January 2024, oil prices showed mixed movements. On one hand, they edged higher on 18 January with Brent crude reaching $78.16 a barrel and U.S. West Texas Intermediate (WTI) at $72.90, influenced by OPEC's forecast of strong global oil demand and disruptions in U.S. production due to cold weather {{1}}. Conversely, on 19 January, prices dipped slightly with Brent crude at $78.93 a barrel and WTI at $74.05, amid concerns over slow demand growth in China and despite some geopolitical tensions and the continuation of cold weather affecting U.S. output {{2}}.\",\n",
       "       \"I'm sorry, but based on the provided articles, there seems to be no direct comparison or explanation distinguishing Bajaj Finance and Bajaj Finserv. The available information focuses on specific aspects like Q2 results of Bajaj Finance and a fundraising event by Bajaj Finance, alongside mentioning Bajaj Finserv's stock performance and a new fund offer by its asset management. Without direct information comparing the two entities, I can't accurately detail the differences between Bajaj Finance and Bajaj Finserv based on the given articles.\",\n",
       "       \"Bajaj Finance operates as a **non-banking financial company (NBFC)** with a diverse range of financial products and services. Their business includes:<br>- **Net Interest Income (NII) Growth**: The company reported a significant year-on-year (YoY) growth of 26% in NII for Q2FY24, evidencing strong financial performance.<br>- **Asset Management**: The assets under management (AUM) experienced a 33% YoY growth, reaching ₹ 2.9 lakh crore as of Q2FY24.<br>- **Customer Base Expansion**: During Q2FY24, Bajaj Finance added 35.8 lakh new customers, expanding its customer base to 7.7 crore.<br>- **Interest Income**: They've shown a 38% growth in interest income, indicating robust revenue generation from interest-bearing assets.<br>- **Operational Adjustments**: Bajaj Finance has strategically reduced business exposure by 8-14% in certain urban and rural segments to mitigate risk from customers with multiple small ticket loans.<br>- **Equity Stake Acquisition**: To diversify and enhance its business operations, the company acquired up to a 26% equity stake in Pennant Technologies Private Limited.<br>  <br>By combining traditional lending practices with modern digital infrastructure, such as apps and full-stack payment offerings, Bajaj Finance continues to secure its position as a leading player in the financial services sector in India {{1}}.\",\n",
       "       \"When considering purchasing Unit-Linked Insurance Plans (ULIPs), several factors play a crucial role in making an informed decision. Here's a concise guide based on the insights from various articles:<br><br>- **Investment and Insurance Combo**: ULIPs offer a combination of investment and insurance. Ensure the balance between the two meets your long-term financial goals and provides adequate life cover for your family's financial security {{2}}.<br>  <br>- **Lock-In Period**: ULIPs come with a lock-in period of 5 years, which is crucial for long-term financial planning. Make sure you are comfortable with this time frame before investing {{1}}.<br>  <br>- **Charges Involved**: Be aware of the various charges associated with ULIPs, such as premium allocation charges, mortality charges, administration charges, and fund management charges. It's essential to choose a plan with minimal charges to maximize your investment returns {{1}}.<br>  <br>- **Fund Options**: ULIPs allow you to invest in equity, debt, or a combination of both. Examine the fund options available and select those that align with your risk tolerance and investment goals {{3}}.<br>  <br>- **Tax Benefits**: Premiums paid towards ULIPs are eligible for tax deductions under Section 80C of the Income Tax Act, contributing to tax savings. The maturity amount is also tax-free under Section 10(10D) {{2}}.<br>  <br>- **Flexibility and Withdrawals**: ULIPs offer the flexibility to switch between funds, enabling you to adjust your investment portfolio according to market dynamics. Understand the terms related to partial withdrawals after the lock-in period and how it affects your investment {{1}}.<br>  <br>- **Transparency and Performance**: Recent regulatory changes have enhanced the transparency of ULIPs, offering detailed information on fund allocation. Assess past performance, but keep in mind it's not indicative of future returns {{2}}.<br>  <br>- **Policy Terms**: Review the policy terms, including the entry age and minimum premium requirements. These factors influence your eligibility and commitment towards the ULIP plan you consider {{3}}.<br><br>Selecting a ULIP that aligns with your financial objectives, tolerance for risk, and insurance needs is paramount. Careful consideration of the above factors can help in choosing a ULIP that best suits your preferences and financial goals.\",\n",
       "       \"I'm sorry, but it appears there has been a misunderstanding in the query provided. The articles available do not contain information related to day trading or financial strategies, markets, or related topics. Instead, they discuss individuals' experiences with running everyday, and unrelated content regarding a movie box office collection. If you have any specific questions regarding finance, business, or related fields, feel free to ask!\",\n",
       "       \"Peer-to-Peer (P2P) lending is a financial system that allows individuals to borrow and lend money directly to each other through online platforms, bypassing traditional financial institutions. Here's a concise overview:<br><br>- **How P2P Lending Works**: <br>  - Lenders and borrowers register on a P2P platform.<br>  - Borrowers submit loan applications, which are verified for creditworthiness.<br>  - Lenders browse loan applications and fund those they choose.<br>  - Funds are transferred to borrowers minus any fees, and repayments are distributed back to the lenders.<br><br>- **Benefits of P2P Lending**: <br>  - **For Borrowers**: Access to funds for those who may not qualify for traditional bank loans, often at lower interest rates and with a faster approval process.<br>  - **For Lenders**: Opportunity to earn higher returns on investment compared to traditional savings or deposits, with the flexibility to choose whom to lend to.<br><br>- **Risks and Considerations**: <br>  - **Default Risk**: The risk of borrowers not repaying loans.<br>  - **Regulation**: While RBI regulates P2P platforms in India, the level of regulation is not as comprehensive as that for banks, which could imply fewer protections.<br>  - **Selection**: With potentially limited information on borrowers, lenders need to carefully assess the risk.<br>  <br>P2P lending platforms are monitored by the RBI in India, aiming to ensure safety and reliability within this innovative form of lending and borrowing {{1}}{{2}}{{3}}.\",\n",
       "       '- **Reliance Home Finance** saw a decrease in share price, closing at ₹5.23, down by 1.91% {{1}}.<br>  <br>- **Bajaj Finance** experienced a decline, with its share price at ₹7212.55, decreasing by 1.22% {{2}}.<br><br>- **Ganesh Housing Finance Corporation** had a drop in its stock value, ending at ₹656.25, a 2.24% decrease {{3}}.',\n",
       "       \"The RBI imposed a fine of ₹5.39 crore on Paytm Payments Bank for non-compliance with its guidelines, including KYC, cybersecurity, and securing mobile banking applications. The fine reflects issues like delayed cyber incident reporting and failure in identifying beneficial owners for some entities. Despite this, Paytm's stock showed resilience, experiencing a share price drop of 1.81% after reaching a 52-week high, but has gained 79% overall since the year's start. The RBI's actions are aimed at ensuring compliance and are not commenting on the validity of Paytm's customer agreements {{1}}{{2}}{{3}}.\",\n",
       "       '- Futures are financial agreements between two parties to buy or sell an asset at a predetermined price at a future date, regardless of the current market price.<br>- These contracts are derivative in nature, meaning their value is derived from the price of an underlying asset, like stocks, commodities, currencies, or market indices.<br>- Traders use futures contracts aiming to profit from fluctuations in the value of the underlying asset, often following a \"buy low, sell high\" policy.<br>- There are two main types of investors in futures trading: **Speculators**, who aim for profits, and **Hedgers**, such as banks and financial institutes, who use futures to protect against price fluctuations.<br><br>**Benefits of Futures Trading**:<br>- **Portfolio Diversification**: Enables adding various assets to your portfolio, managing risks effectively.<br>- **High Liquidity**: Due to a large number of daily trades, investments can be quickly sold off.<br>- **High Leverage**: Requires only a fraction of the full price of the asset to trade, called margin.<br>- **Low Trading Costs**: Benefits from lower Securities Transaction Tax (STT) and commission rates.<br>- **Hedge Against Risks**: Protects investments from market fluctuations by taking long or short positions.<br>- **No Default Risk**: The clearing corporation on the Futures & Options (F&O) exchange provides a counter-guarantee, ensuring no risk of defaulting.<br><br>**Key Considerations**:<br>- Futures trading involves certain risks and requires thorough market analysis.<br>- Investors must assess their risk tolerance and possibly practice on a simulated trading account before diving into the futures market.<br>- Trading occurs during regular exchange hours, and contracts can be exited before expiry, with profits or losses adjusted against deposited margins {{1}}{{2}}{{3}}.',\n",
       "       'Based on recent statements from industry experts and government officials, a rate cut by the Reserve Bank of India (RBI) is anticipated towards the second half of the next financial year, provided inflation continues its downward trajectory and falls below 4%. Commerce and Industry Minister Piyush Goyal also expressed confidence in a forthcoming RBI rate cut in the coming months as inflation remains under control. The current benchmark interest rate has been maintained at 6.5% since February 2023, with the latest CPI print at 5.1% and WPI at 0.27% {{1}}{{3}}.',\n",
       "       '- Mazagon Dock Shipbuilders Limited (MDL), a key defense public sector undertaking in India, experienced a 32% rise in revenue during the fiscal year 2022-23, reaching ₹7,547 crores compared to ₹5,733 crores in the previous fiscal year, surpassing its 25% growth target {{3}}.<br>- MDL has a notable history as the \"Ship Builder of the Nation\" with a capacity for shipbuilding and submarine construction of 40,000 Dead Weight Tonnage, primarily serving the Indian Navy and Indian Coast Guard by delivering destroyers, frigates, corvettes, offshore patrol vessels, and submarines {{3}}.<br>- Recently, MDL inked a Master Ship Repair Agreement (MSRA) with the US government, represented by NAVSUP Fleet Logistics Center Yokosuka, making it one of only two Indian shipyards pre-approved for US Navy vessel repairs. This agreement underscores MDL\\'s strategic importance in bolstering India’s maritime capabilities and its ability to provide crucial maintenance and repair services {{2}}.',\n",
       "       'When deciding on an investment account, two popular options are **Unit Linked Insurance Plans (ULIPs)** and **Mutual Funds (MFs)**. Understanding their key differences can aid in making an informed decision based on your needs.<br><br>- **Investment Objective & Features:**<br>  - **ULIPs**: Serve dual purposes—offering life insurance coverage alongside investment opportunities in debt or equity funds. Noteworthy for tax benefits under EEE (Exempt-Exempt-Exempt) category and allows for flexible investments based on risk tolerance. However, they come with a 5-year lock-in period.<br>  - **Mutual Funds**: Focused on generating long-term wealth through diversified portfolios managed by professionals. They offer ease of investment and redemption, diversification, SIP options, and generally have no lock-in period, except for specific fund types like ELSS.<br><br>- **Factors to Consider:**<br>  - **Risk Tolerance & Investment Horizon**: ULIPs might be more suited for those seeking insurance with their investment and are okay with longer lock-in periods. Meanwhile, mutual funds are preferable for those primarily focused on wealth creation, with flexibility in investment and withdrawal.<br>  - **Financial Goals**: If ensuring a financial safety net through insurance is crucial, ULIPs could be more aligned with your needs. If aiming for higher returns purely from market investments, mutual funds might be the better choice.<br>  - **Tax Benefits**: ULIPs offer tax benefits under Section 80C of the Income Tax Act, appealing to those looking for tax-saving investment options.<br><br>**Conclusion**: Your choice between ULIPs and mutual funds should align with your financial goals, investment horizon, risk tolerance, and the need for insurance cover. Mutual funds offer great flexibility and potential for returns, ideal for pure investment purposes. ULIPs, on the other hand, provide a combination of investment and insurance, with specific tax advantages but with a mandatory lock-in period {{1}}.',\n",
       "       \"I'm sorry, but I don't have the specific live gold rate for 1st January 2024. My sources provide information on gold-related investment options and general market trends at the start of 2024 but do not include spot gold prices for that specific date. For the most precise and real-time gold rates, I recommend checking with financial news websites or commodities trading platforms that offer live market data.\",\n",
       "       \"I'm sorry, but none of the provided articles contain specific information about Shashi Tharoor related to finance. My guidance is based solely on the information available in the articles you've supplied, which focus on topics like GIFT City's development, India's investment climate, and specific IPO details. If you have any finance or business-related queries not involving Shashi Tharoor, feel free to ask!\"],\n",
       "      dtype=object)"
      ]
     },
     "execution_count": 34,
     "metadata": {},
     "output_type": "execute_result"
    }
   ],
   "source": [
    "responses_df.headline_removed_responses.sample(30).values"
   ]
  },
  {
   "cell_type": "code",
   "execution_count": 35,
   "id": "f3f3fb45-774b-406c-bd0b-60a4fa9bf0b2",
   "metadata": {
    "tags": []
   },
   "outputs": [],
   "source": [
    "responses_df['cleaned_headline_removed_responses'] = responses_df['headline_removed_responses'].apply(lambda x: clean_responses_further(x))"
   ]
  },
  {
   "cell_type": "code",
   "execution_count": 36,
   "id": "44d653e8-a9ec-4ebc-8c9d-520f2e5a01d3",
   "metadata": {
    "tags": []
   },
   "outputs": [],
   "source": [
    "responses_df['apologies'] = responses_df['cleaned_headline_removed_responses'].apply(lambda x: find_apologies_responses(x))"
   ]
  },
  {
   "cell_type": "code",
   "execution_count": 37,
   "id": "d6aaab0f-f5ba-4ddd-a1fb-9d91e036f966",
   "metadata": {
    "tags": []
   },
   "outputs": [],
   "source": [
    "responses_df['has_ref'] = responses_df['cleaned_headline_removed_responses'].apply(lambda x: has_references(x))"
   ]
  },
  {
   "cell_type": "code",
   "execution_count": 38,
   "id": "6276c96e-7a8b-46a9-9166-1f21fa9222fd",
   "metadata": {},
   "outputs": [
    {
     "data": {
      "text/plain": [
       "0.6975914362176628"
      ]
     },
     "execution_count": 38,
     "metadata": {},
     "output_type": "execute_result"
    }
   ],
   "source": [
    "responses_df.has_ref.mean()"
   ]
  },
  {
   "cell_type": "markdown",
   "id": "92d5f61a-a5b9-4b1d-ba37-1875c73f5018",
   "metadata": {},
   "source": [
    "### Identifying errenous cases"
   ]
  },
  {
   "cell_type": "code",
   "execution_count": 39,
   "id": "34674182-5dd4-4af0-9fbf-e44fe8ac08b2",
   "metadata": {
    "tags": []
   },
   "outputs": [
    {
     "data": {
      "text/plain": [
       "0.28278322925958965"
      ]
     },
     "execution_count": 39,
     "metadata": {},
     "output_type": "execute_result"
    }
   ],
   "source": [
    "responses_df.apologies.mean()"
   ]
  },
  {
   "cell_type": "code",
   "execution_count": 40,
   "id": "9cf4d277-1bfe-424a-ae30-d331235f1949",
   "metadata": {
    "tags": []
   },
   "outputs": [
    {
     "data": {
      "text/plain": [
       "369"
      ]
     },
     "execution_count": 40,
     "metadata": {},
     "output_type": "execute_result"
    }
   ],
   "source": [
    "len(responses_df[responses_df.headline.isnull()])"
   ]
  },
  {
   "cell_type": "code",
   "execution_count": 45,
   "id": "633676ca-7db3-420c-99c5-30f748c9cefa",
   "metadata": {
    "scrolled": true,
    "tags": []
   },
   "outputs": [
    {
     "data": {
      "text/plain": [
       "array(['I\\'m sorry, but it appears there was a misunderstanding in your query. You mentioned \"how to pan my taxes,\" which seems unclear. If you were asking about how to obtain or manage your Permanent Account Number (PAN) details for tax-related purposes in India, the available articles provide extensive guidance on how to access, retrieve, or correct your PAN card details both online and offline.<br><br>However, if your query is specifically about planning or managing your taxes using your PAN, such direct advice on tax planning or management was not covered directly in the articles I found. <br><br>Could you clarify or provide more detail about your query? Are you looking for information on accessing PAN details, correcting PAN details, or specific guidance on tax planning and management with respect to your PAN?',\n",
       "       \"I'm sorry, but it seems I can't assist with providing jokes. My primary focus is on offering information and answers related to finance and business topics. If you have any questions in those areas, I would be more than happy to help.\",\n",
       "       \"I'm sorry, but it appears your query may not directly relate to finance or business topics, which are my areas of expertise. If you have any questions regarding finance, business strategies, market trends, or similar topics, I would be more than happy to assist. Please feel free to ask anything related to those areas.\",\n",
       "       \"I'm sorry, but I can only provide information related to finance and business queries. If you have any questions regarding those areas, feel free to ask!\",\n",
       "       \"I'm sorry, but it seems your query does not specifically pertain to finance or business related topics relevant to the knowledge available in the articles I found. The articles focus on financial services like home loans and instant cash loans in Bangalore, as well as information on Aadhaar enrolment centres in the city. If you have any queries related to these topics or any other finance and business-related questions, please feel free to ask.\",\n",
       "       \"I'm here to provide assistance with finance and business-related inquiries. It looks like your query is about jokes, which falls outside of my expertise. If you have any questions related to finance or business, feel free to ask!\",\n",
       "       \"I'm sorry, but I cannot provide real-time or future predictions about Tesla stock's current price or performance today, February 5, 2024, as the most recent information available to me is from January 2024. For the most current stock information, please check a reliable financial news source or stock market tracking service.\",\n",
       "       \"I'm here to provide information and assistance related to finance and business inquiries, especially focusing on key entities like India, RBI, Reliance, and the Fed. If you have any questions within those areas, feel free to ask!\",\n",
       "       \"I'm sorry, but I can't provide assistance on non-financial or business-related queries. My expertise is focused on finance and business topics, particularly those involving key entities like India, RBI, Reliance, and the Fed. If you have any questions related to these areas, I'd be more than happy to help.\",\n",
       "       \"I'm sorry, but it seems there was an error in your query. Could you please provide more details or clarify your question so I can assist you accordingly? My expertise is in finance and business-related topics, especially concerning India and key entities like the RBI, Reliance, and the Fed.\"],\n",
       "      dtype=object)"
      ]
     },
     "execution_count": 45,
     "metadata": {},
     "output_type": "execute_result"
    }
   ],
   "source": [
    "responses_df[responses_df.headline.isnull()].sample(10)['cleaned_headline_removed_responses'].values"
   ]
  },
  {
   "cell_type": "code",
   "execution_count": 46,
   "id": "807354b8-adc4-4365-b450-ee793b67459e",
   "metadata": {
    "tags": []
   },
   "outputs": [
    {
     "data": {
      "text/plain": [
       "41"
      ]
     },
     "execution_count": 46,
     "metadata": {},
     "output_type": "execute_result"
    }
   ],
   "source": [
    "len(responses_df[(responses_df.has_ref == False) & (responses_df.apologies == False)])"
   ]
  },
  {
   "cell_type": "code",
   "execution_count": 59,
   "id": "24358c79-9310-4abe-97ad-e0be7b00e61f",
   "metadata": {
    "tags": []
   },
   "outputs": [],
   "source": [
    "def has_question(x):\n",
    "    return '?' in x and '**' not in x"
   ]
  },
  {
   "cell_type": "code",
   "execution_count": 60,
   "id": "e1f4fbc6-c981-4766-b154-1bd04310f029",
   "metadata": {
    "tags": []
   },
   "outputs": [],
   "source": [
    "responses_df['has_question'] = responses_df['cleaned_headline_removed_responses'].apply(lambda x: has_question(x))"
   ]
  },
  {
   "cell_type": "code",
   "execution_count": 61,
   "id": "af47b72e-d8ad-46b1-8044-a371f05983a3",
   "metadata": {
    "tags": []
   },
   "outputs": [
    {
     "data": {
      "text/plain": [
       "0.058876003568242644"
      ]
     },
     "execution_count": 61,
     "metadata": {},
     "output_type": "execute_result"
    }
   ],
   "source": [
    "responses_df.has_question.mean()"
   ]
  },
  {
   "cell_type": "code",
   "execution_count": 62,
   "id": "a73b4e6d-7f55-4311-98d5-0ae4b790cd65",
   "metadata": {
    "scrolled": true,
    "tags": []
   },
   "outputs": [
    {
     "data": {
      "text/plain": [
       "array([\"I'm sorry, but it seems your query is missing or unclear. Could you please provide more details or specify your question? I'm here to help with finance and business-related inquiries.\",\n",
       "       'I\\'m sorry, but it seems there might have been a misunderstanding or a typographical error in your query. When you mentioned \"Is fd a destroyer?\" it appears you might be referring to financial deposits (FDs) or something else entirely, but your query was matched with articles related to military naval destroyers. Could you please provide more details or clarify your question? If you\\'re asking about financial products or India\\'s financial environment, I\\'d be more than happy to assist with the correct information.',\n",
       "       'I\\'m sorry, but it seems like there was a misunderstanding in the query input. You mentioned \"smart koney,\" which might have been a typographical error. Could you clarify or correct your query if you meant to inquire about \"smart money,\" or if it relates to finance and business topics such as investments, economic strategies, or specific companies\\' financial initiatives? This would help in providing a more focused and accurate response.',\n",
       "       \"I'm sorry, but your query seems to be a mistake or it's not clear what information you're seeking regarding finance and business. Could you please provide more detail or clarify your question so I can assist you effectively?\",\n",
       "       \"I'm sorry, but it seems like your query didn't contain any clear question or topic related to finance or business. Could you please provide more details or ask a specific question? I'm here to help with finance and business-related queries.\",\n",
       "       \"I'm sorry, but I couldn't understand your query. Could you please provide more details or ask a specific question related to finance or business? I'm here to help with queries involving key entities like India, RBI, Reliance, the Fed, or similar topics.\",\n",
       "       \"I'm sorry, but your query appears to be unclear or incomplete. Could you please provide more specific details regarding your finance or business-related question? This will help me provide you with the most accurate and helpful answer.\",\n",
       "       'I\\'m sorry, but it seems your query is about \"apple\" without specifying the context. Could you please provide more details? Are you referring to Apple Inc.\\'s financial performance, product details, stock information, or any legal matters involving Apple? Providing more context will help me give you the accurate information you are looking for.',\n",
       "       \"I'm sorry, but it seems your query is related to Google in a general context and does not specify a finance or business angle that I can address with the information from the articles I found. Could you please provide more details or ask another question related to finance or business?\",\n",
       "       'I\\'m sorry, but it seems like you\\'re asking about the \"Mint\" financial publication or related services based on the context provided, but the articles you\\'ve referenced include two distinct topics: one about health insurance plans in India published by Mint in 2016, and others about the budgeting app Mint and Mint Mobile\\'s Cyber Monday deals from 2023. Could you please clarify your query or specify which Mint service or aspect you are inquiring about? This will help in providing a more accurate and relevant response.',\n",
       "       'It seems you are interested in the sharp movements or events related to the US affecting markets or specific stocks. Could you please specify if you are asking about the US stock market corrections, the impact on Indian Rupee, or the performance of a company named \"Sharp Chucks and Machines\"? Your clarification will help in providing a more precise answer.',\n",
       "       'I\\'m sorry, but it seems you\\'re asking for the meaning of \"things\" without specifying the context or the area in which you\\'re interested. From the articles I found, I gather information related to \"Stranger Things,\" a popular Netflix series, and Bond ETFs, which are financial instruments. Both topics are vastly different, each with distinct meanings and implications in their respective fields. <br><br>Are you interested in understanding a concept related to finance, such as Bond ETFs, or something in the entertainment sector like \"Stranger Things\"? Please provide a bit more detail, and I\\'d be happy to help.',\n",
       "       \"It seems there was an error in understanding your query. You asked 'how to pan my taxes,' which may have been a typographical error, making it unclear whether you meant 'plan my taxes,' 'pay my taxes,' or inquiries related to your Permanent Account Number (PAN). I can assist with detailed guides on planning or paying your taxes or provide information on how to manage or retrieve your PAN details. Could you please clarify your request for accurate assistance?\",\n",
       "       \"I'm sorry, but it seems you haven't provided a specific question related to finance or business about Bangalore. Could you please specify your query so I can assist you accurately? Whether you're seeking information on home loans in Bangalore, instant cash loans, or any other financial services within the city, I'm here to help.\",\n",
       "       \"I'm here to assist with finance and business-related inquiries. Could you please specify your question regarding the PAN (Permanent Account Number)?\",\n",
       "       \"I'm sorry, but it seems like there might have been a typo or misunderstanding in your query. I'm here to provide insights and answers related to finance and business, specifically focusing on India, RBI, Reliance, the Fed, and related topics. Could you please provide more details or clarify your query?\",\n",
       "       'I\\'m sorry, but it seems there might have been an issue with your query as it does not specify the exact information you\\'re seeking with regards to \"indice.\" Could you provide more details or clarify your question? This will help in providing a precise and relevant response to your inquiry related to financial indices or any related topic.',\n",
       "       \"I'm sorry, but it seems your query might have been mistakenly entered. Could you please provide more details or clarify your finance or business-related question? I'm here to help with accurate information on those topics.\",\n",
       "       \"I'm here to provide information based on your financial and business queries. However, it seems you didn't include a specific question. Could you please provide more details or ask a specific question related to finance or business? This way, I can offer you the most accurate and helpful information.\",\n",
       "       \"I'm sorry, but it seems there was a misunderstanding in the request. Could you please provide me with a specific query or question related to the articles? This will allow me to offer a precise and useful response.\"],\n",
       "      dtype=object)"
      ]
     },
     "execution_count": 62,
     "metadata": {},
     "output_type": "execute_result"
    }
   ],
   "source": [
    "responses_df[responses_df.has_question == True]['cleaned_headline_removed_responses'].sample(20).values"
   ]
  },
  {
   "cell_type": "code",
   "execution_count": 47,
   "id": "5824f4ff-3ccf-4c93-9b3e-aaf2c26e842a",
   "metadata": {
    "scrolled": true,
    "tags": []
   },
   "outputs": [
    {
     "data": {
      "text/plain": [
       "array([\"I'm unable to use the given articles to generate responses as they do not contain any user-provided information to reference directly.\",\n",
       "       \"I'm unable to find a direct statement or analysis by Sanjiv Bhasin regarding RBI’s directive on Paytm being a big blow or his recommendations on three dark horse picks for investors. My resources primarily discuss the financial penalties imposed on Paytm by the RBI for KYC non-compliance, the subsequent market reaction, Paytm's share performance, and strategic shifts within the company. For investment advice or specific analysts' picks not covered in these articles, I recommend consulting the latest financial news or directly accessing expert analyses from reputable financial advisory services.\",\n",
       "       \"The regular trading hours for the Indian stock market, which includes the Bombay Stock Exchange (BSE) and the National Stock Exchange (NSE), are from 9:15 AM to 3:30 PM Indian Standard Time (IST) from Monday to Friday. Additionally, there's a pre-open session from 9:00 AM to 9:15 AM IST that helps in determining the opening price of stocks. The market remains closed on weekends and on public holidays as declared by the exchange in advance.\",\n",
       "       \"Given the ongoing legal troubles and investigations into money laundering allegations involving Unitech group and its promoters, including the attachment of assets worth over Rs 125 crore and the arrests of key individuals in the group, it would be prudent to exercise caution before investing in Unitech. The ED's actions indicate significant regulatory scrutiny and potential financial instability within the company.\",\n",
       "       '\"Capital Work in Progress\" (CWIP) refers to the costs incurred for the construction of fixed assets that are not yet ready for use. It is a balance sheet account that records ongoing investments in significant projects, such as buildings or machinery, which are under construction or in development. Once these assets are completed and ready for operational use, the value recorded under CWIP is transferred to the relevant fixed asset account. This transition signifies the asset\\'s shift from an unfinished project to a functional asset, capable of contributing to an organization\\'s operational capabilities.',\n",
       "       \"It seems there was an error in understanding your query. You asked 'how to pan my taxes,' which may have been a typographical error, making it unclear whether you meant 'plan my taxes,' 'pay my taxes,' or inquiries related to your Permanent Account Number (PAN). I can assist with detailed guides on planning or paying your taxes or provide information on how to manage or retrieve your PAN details. Could you please clarify your request for accurate assistance?\",\n",
       "       \"- **Conflicting Signals**: Record highs suggest optimism, especially in the tech sector, but subsequent losses point to caution and mixed investor sentiment.<br>- **Economic and Policy Context**: Federal Reserve policies and economic data significantly impact market perceptions and valuations.<br>- **Investor Behavior**: High expectations for tech giants and the broader market dynamics play a critical role in the Nasdaq's valuation.<br><br>The market's current valuation, especially for the tech-dominated Nasdaq, hinges on continuous assessment of corporate performance, economic indicators, and Fed actions. As such, whether the Nasdaq is overvalued is subject to ongoing evaluation amid these factors.\",\n",
       "       \"There's no recent data from 2024 in the articles I found to accurately gauge today's oil prices or the specific current trends. The latest relevant information points to various factors impacting oil prices historically, including geopolitical tensions, supply-demand shifts, and economic downturns, which have led to significant fluctuations. <br><br>For accurate and up-to-date details on today's oil prices, I recommend checking a reliable financial news source or commodities trading platform.\",\n",
       "       \"As of January 11 and 12, 2024, the Nifty 50 Index experienced significant movements:<br>- On January 11, Nifty 50 was expected to open flat but ended the day higher at 21,618.70, indicating a positive trend following a bounce back from the 20-day SMA support.<br>- By January 12, Nifty 50 hit an all-time high, opening at 21,773.55 and peaking at 21,848.20 during the morning trade. This rise was partly fueled by robust gains in IT stocks following the Q3 earnings release of Infosys and TCS. The index's strength was evident as it aimed to retest upper levels around 21,750-21,850 in the near term, influenced by positive global market cues, bullish market sentiment, optimistic Q3 earnings expectations, and technical factors.<br>- Further, on the same day, the Nifty 50 index recorded another record high of 21,897 points, with Infosys and TCS contributing significantly to this rise by accounting for 61% of the index rally. This showcases a bullish investor sentiment driven by strong corporate earnings growth and liquidity flows.<br><br>*Sources: Articles 1, 2, and 3*\",\n",
       "       \"Based on the information provided, there appears to be no direct link between the recent event where investors lost 3 lakh crore in a day and the specific articles I found. The given articles discuss individual stocks' performance and market phenomena such as rapid price fluctuations in options trading (referred to as 'injections') that can wipe out significant capital rapidly, but do not specifically address or quantify a collective loss of 3 lakh crore by investors on a particular day. <br><br>While the articles highlight the volatility in the stock market and the risks associated with certain trading activities, they do not provide a summary or analysis of an event leading to such a substantial market-wide loss. Investments in high-return penny stocks, such as those mentioned, carry significant risks and can contribute to volatility in individual portfolios, but the provided content does not correlate this directly to the query about a broader market loss involving 3 lakh crore.<br><br>It's crucial for investors to be cautious and conduct thorough research before making any investment decisions, especially in volatile sectors or through speculative trading practices like those discussed in the context of 'injections'. Market-wide fluctuations can result from a variety of factors, including macroeconomic changes, policy announcements, or mass trading behaviors, none of which are detailed in the content provided.<br><br>For accurate and detailed information on what caused a specific large-scale market loss, it would be necessary to consult comprehensive market analyses or reports from the date in question, which are not included in the articles available for reference.\",\n",
       "       \"I couldn't find any direct information on VISA and Mastercard being asked by the RBI to stop bill payments. The articles I found focus primarily on the regulatory actions taken by the RBI against Paytm Payments Bank, including restrictions on deposit and credit transactions and the directives concerning the Paytm Payments Bank's non-compliance issues. There was no mention of VISA and Mastercard in the context of halting bill payments in the given sources. My apologies for not being able to provide a specific answer to your query based on the available articles.<br><br>If you have any other finance or business-related questions, feel free to ask!\",\n",
       "       \"I'm here to help with finance and business-related inquiries. If you have questions about investments, economic policies, or company performances, feel free to ask!\",\n",
       "       \"Charlie Munger, celebrated for his influential role alongside Warren Buffett in shaping Berkshire Hathaway, passed away at 99 years old on November 28, 2023, in a California hospital. A renowned lawyer, Munger was pivotal in refocusing Berkshire's investment strategy towards acquiring high-quality, undervalued companies, significantly contributing to its success. His partnership with Buffett was marked by a mutual respect and a shared investment philosophy, leading to substantial wealth and a legacy of wisdom within the financial world. Munger's blunt, insightful commentary and critique on corporate and financial issues, alongside his philanthropic efforts, left a lasting impact on business and society.\",\n",
       "       'It seems like you\\'re inquiring about Malabar but haven\\'t specified the context. There are different contexts related to \"Malabar\" based on the articles I found:<br><br>1. **Malabar Naval Exercise** (Article 1): A multinational naval exercise involving India, the US, Japan, and Australia aimed at enhancing interoperability and sharing best practices in maritime security operations. In 2023, it\\'s hosted by the Royal Australian Navy.<br>   <br>2. **Malabar Gold Scheme** (Article 2): A gold investment scheme by Malabar Gold & Diamonds offering customers an opportunity to purchase gold jewelry in installments or order custom-made pieces at discounted prices.<br><br>3. **Birla Estates Residential Project at Malabar Hill** (Article 3): Birla Estates\\' acquisition of a premium land parcel in Malabar Hill, South Mumbai, for a luxury residential project with a revenue potential of over Rs 600 crore.<br><br>Please specify which context you\\'re interested in, so I can provide a more detailed response.',\n",
       "       \"The microfinance sector in India has witnessed significant growth in FY23, with an overall increase in the microfinance portfolio by 21%. This growth reflects the sector's recovery from the impacts of the COVID-19 pandemic and the progress towards a positive growth trajectory. Below are the key highlights from the latest reports:<br><br>**Growth Across Microfinance Players: **<br><br>  - Non-banking financial companies (NBFCs) saw the highest growth at 49%.<br>  - NBFC MFIs experienced a growth of 37%.<br>  - In contrast, banks (excluding small finance banks) recorded a modest growth of 3%.<br>  - The number of loan accounts in the microfinance industry grew by 10% year-on-year, reaching 136.3 million in FY23.<br><br>**Market Share: **<br><br>  - NBFC-MFIs held the largest market share at 39.72%, followed by banks at 34.14%. <br>  - Small Finance Banks (SFBs), NBFCs, and non-for-profits (NFPs) held 16.62%, 8.44%, and 1.07% of the market share, respectively.<br><br>**Empowering Women Entrepreneurs:**<br><br>  - The microfinance sector has been pivotal in empowering women entrepreneurs, with 98% of the total clientele of MFIs being women borrowers.<br>  - MFIs like Fusion Microfinance have adopted the Joint Liability Model (JLG), dispensing collateral-free loans to groups of women, fostering female entrepreneurship and financial independence.<br><br>**Challenges and Regulatory Intervention:**<br><br>  - Despite successes, the sector has faced challenges, including harassment of borrowers, high interest rates, and debt traps.<br>  - The RBI's interventions and new regulations have aimed to address these concerns, promoting a healthier microfinance environment.<br><br>**Future Potential:**<br><br>  - The Microfinance Industry Network (MFIN) reports immense growth potential for the sector, with an estimated market size of Rs 13 lakh crore in FY23-24.<br>  - Efforts toward strengthening governance and incorporating digital interventions are vital for future growth and efficiency.<br><br>The microfinance sector's role in financial inclusion, especially among women and rural populations, remains crucial. The recent growth signifies positive momentum but underscores the need for continuous improvement in practices and policies to address existing challenges effectively.<br><br>*Sources: Mint (Article 1 & 2), Microfinance Industry Network Report (Article 3).*\",\n",
       "       \"It appears the query is seeking information regarding the limits on gold ownership in India. However, the articles provided do not directly address or mention any specific limits on how much gold an individual can own in India. They cover different aspects related to gold, such as the increase in gold loan limits for urban cooperative banks, factors influencing gold rates in various cities in India, and details on the Sovereign Gold Bond scheme. <br><br>Since the direct query on gold ownership limits is not addressed in the articles I found, I'm unable to provide a specific answer based on the information available. In India, there aren't publicly known statutory limits on the amount of gold an individual can own, but it's advisable to keep receipts or proof of purchase for significant amounts, especially for tax and legal purposes. For accurate and current regulations, consulting with a legal expert or referring to the official guidelines from the Indian government or the Reserve Bank of India would be recommended.\",\n",
       "       \"I'm here to help with finance and business-related inquiries. If you have any questions within those areas, feel free to ask!\",\n",
       "       \"It seems you may have inadvertently omitted specific details or questions about Hyundai in your request. If you have any specific inquiries regarding Hyundai's recent safety features, their investment in Tamil Nadu, or any other aspect related to their operations in India, please provide more details. This will enable me to offer you a more precise and tailored response.\",\n",
       "       \"I'm here to help with finance and business-related queries. Unfortunately, it seems like your query might be more suitable for a different type of information. If you have any questions related to finance, business, the RBI, Reliance, the Fed, or similar topics, feel free to ask!\",\n",
       "       '- **Bitcoin (BTC):** INR 25,29,989, marking a +1.6% change over the last 24 hours.<br>- **Ethereum (ETH):** INR 1,64,020, showing a slight increase of +0.09% over the last 24 hours.<br>- **Ripple (XRP):** INR 39,7119, with a +0.34% change.<br>- **Dogecoin (DOGE):** INR 6.9999, increasing by +0.99%.<br>- **WazirX Token (WRX):** INR 13.81, experiencing a -1.49% change.<br><br>Please note, these rates reflect the cryptocurrency market status as of May 4, 2023, and are subject to volatile changes.',\n",
       "       \"Understanding the distinction between short and long put options is crucial for investors looking to navigate the options market effectively. Here's a simplified breakdown:<br><br>**Long Put Option:**<br><br>  - **Definition**: Buying a put option, which gives the holder the right but not the obligation to sell an underlying asset at a specified strike price before the option expires.<br>  - **Investor Outlook**: Bearish. The investor anticipates that the asset's price will decline.<br>  - **Risk and Reward**: Limited risk (the premium paid for the option) and potentially unlimited reward if the underlying asset's price plummets.<br><br>- **Short Put Option** (Not directly discussed but inferred from context):<br>  - **Definition**: Selling or writing a put option, obligating the seller to buy the underlying asset at the strike price if the option is exercised by the buyer.<br>  - **Investor Outlook**: Bullish or expects minimal decline in the underlying asset’s price.<br>  - **Risk and Reward**: Potentially high risk if the asset's price falls significantly (limited to the strike price minus the option premium received) and limited reward (the premium received for selling the option).<br><br>In summary, the key difference lies in the position the investor takes (buying vs. selling) and their market outlook (bearish vs. bullish or neutral). Choosing between these strategies depends on the investor's risk tolerance, market prediction, and investment objectives.\",\n",
       "       \"The information regarding the limitation on the amount of physical gold you can own in India is not explicitly addressed in the articles I found. These articles focus more on the benefits of investing in gold, the introduction of Sovereign Gold Bonds (SGBs) by the Reserve Bank of India (RBI) as an alternative to owning physical gold, and the comparison between owning physical gold and digital gold investment options like Gold ETFs, Gold Mutual Funds, and SGBs. Unfortunately, without specific guidelines or regulations mentioned in these articles related to the physical gold ownership limit, I'm unable to provide a direct answer to your query. For accurate and updated information on physical gold ownership limits, it would be best to consult official sources or guidelines provided by the Indian government or relevant regulatory bodies.\",\n",
       "       \"- **Eligibility Criteria:** Typically involves age (between 21 and 65 years), nationality (Indian residents or NRIs), income thresholds, and a good credit score, typically 750 or above. Work experience of at least 2 years is often required.<br>- **Interest Rates:** Home loan interest rates can start from 8.74% per annum, but the rates can vary based on the lender, your creditworthiness, and other factors. It's essential to compare rates from different lenders.<br>- **Documentation Needed:** For salaried individuals, this includes PAN, identity, address proof, salary slips, Form 16, and IT returns. Self-employed individuals need to provide similar identity and address proofs, along with financial statements attested by a CA, business license, and other business-related documents.<br>- **How to Apply:** You can apply online through lender’s websites or apps, providing personal and financial details, and getting pre-approval based on your eligibility.<br><br>**Instant Cash Loans in Bangalore:**<br>- **Features and Benefits:** No collateral needed, quick disbursement, flexible loan amounts (up to a certain limit), and repayment options. Interest rates can vary significantly.<br>- **Eligibility:** Age 18 to 65, with a minimum credit score of 650. Income requirements can vary by lender.<br>- **Application Process via Navi:** Download the app, register, apply by filling in personal details, choose your loan amount and EMI, and submit. The process is quick, taking around 10-20 minutes for approval and fund transfer.<br><br>Please verify these details and the current rates, terms, and conditions with the respective financial institutions or lenders directly, as the information can change over time.\",\n",
       "       \"I couldn't find information specifically addressing the ownership limit of gold an individual can have in India without documentation or taxation concerns. The articles I found focus on gold loan limits by the RBI, factors influencing gold rates in different Indian cities, and the Sovereign Gold Bond (SGB) scheme rather than direct ownership limitations. <br><br>For concerns related to the legal limit of gold ownership in India, I recommend consulting official government resources like the Income Tax Department or official notifications from the Ministry of Finance for the most accurate and updated regulations.\",\n",
       "       \"I'm an AI developed by Insight for providing finance and business-related information and assistance. My version number is not relevant to the tasks I perform, and I don't have a version number in the typical sense of software releases. My capabilities are updated regularly to provide the most accurate and up-to-date information based on the data and queries provided to me. How can I assist you with finance or business-related questions today?\",\n",
       "       'What information do you need on Wipro?',\n",
       "       'It seems you are interested in the sharp movements or events related to the US affecting markets or specific stocks. Could you please specify if you are asking about the US stock market corrections, the impact on Indian Rupee, or the performance of a company named \"Sharp Chucks and Machines\"? Your clarification will help in providing a more precise answer.',\n",
       "       \"- **15th January 2024**: Closed at ₹815.85 with a high of ₹818.95 and a low of ₹809.5. Market Cap: ₹312,733.9 crore. BSE Volume: 1,029,657 shares.<br>- **16th January 2024**: Closed at ₹816.25 after opening at ₹821.95. Market Cap: ₹311,239.67 crore. BSE Volume: 276,367 shares.<br>- **17th January 2024**: Ended the day at ₹812.35, hitting a high of ₹827. Market Cap: ₹313,749.21 crore. BSE Volume: 392,615 shares.<br><br>**Key Takeaways**:<br>- Stock prices fluctuated slightly across these dates, with the highest closing price on 16th Jan at ₹816.25.<br>- The highest trading activity was on 15th Jan with over 1 million shares traded.<br>- The stock hit its 52-week high on 16th Jan at ₹821.95.<br><br>These insights can help in gauging Tata Motors' stock performance over these specific dates.\",\n",
       "       'The term \"Smart Money\" generally refers to the capital invested by individuals with extensive knowledge and experience in financial markets. These investors often identify and invest in opportunities before others catch on, leading to potential profits. The concept implies that following the investment patterns of \"smart money\" can be a wise strategy for other investors. However, educational content from articles 1, 2, and 3 does not directly address \"smart money\" itself but offers relevant guidance and principles that could be considered strategic approaches aligning with smart money investments:<br><br>- Educating yourself on financial investments and market trends.<br>- Understanding and implementing concepts like compound interest and credit utilization.<br>- Following the investment strategies recommended by experienced investors like Seth Klarman, including value investing and seeking undervalued assets with a margin of safety.<br><br>These insights suggest a thorough understanding of the market, disciplined investment strategies, and consistent financial education are key components that align with the smart money approach.',\n",
       "       \"The articles I found do not specifically address the query of saving tax while buying a car in India. They offer broader insights into saving money for a car purchase and general tax-saving strategies in India but don't directly link tax savings to car purchases. Therefore, I cannot provide a precise answer based on these articles. For specific tax-saving advice related to car purchases, including potential deductibles or exemptions, it would be best to consult a tax professional or reference current government policies and tax laws directly related to automotive purchases in India.\",\n",
       "       \"I understand you're looking for a lighter moment, but as a dedicated finance and business expert, my capabilities are centered on providing insights related to finance and business topics. I'm here to help with any questions or information you might need in those areas!\",\n",
       "       \"I'm unable to provide real-time data or access live updates, including Google's current share price as of 29 January 2024. For the most up-to-date share price of Google or any other financial instruments, please consult a real-time financial news platform or stock market monitoring tool.\",\n",
       "       \"In options trading, understanding the distinction between short and long put options is crucial for strategy execution. Both involve put options but differ fundamentally in their operation, risk, and potential reward.<br><br>**Long Put Options:**<br><br>  - **Definition**: Buying a put option gives the holder the right, not the obligation, to sell an asset at a predetermined price (strike price) before the contract expires. It is a bearish bet, expecting the asset price to fall.<br>  - **Risk and Reward**: The maximum loss is limited to the premium paid for the put option. Potential profit is substantial if the asset price falls significantly.<br>  - **Example**: No specific example is provided in the articles, but generally, if the stock price drops significantly below the strike price, the value of the put option increases, leading to potential profit.<br><br>**Short Put Options:**<br><br>  - **Definition**: Selling (or writing) a put option means selling the right to another party to sell an asset at a predetermined price before the contract expires. This strategy is generally used when one expects the asset price to remain stable or increase.<br>  - **Risk and Reward**: The profit is limited to the premium received for selling the put. However, the risk is much higher as losses can accumulate if the asset price falls sharply.<br>  - **Example from Article 1**: In a Bull Put Spread strategy (a form of short put options), by selling an in-the-money (ITM) put option and buying an out-of-the-money (OTM) put option, a net credit is received. The maximum profit is capped at the net credit received, and loss is limited to the difference between the spread and net credit.<br><br>Comparatively, **long put options** are straightforward, designed for capitalizing on bearish market sentiments with limited risk and high potential profit. In contrast, **short put options** (as seen in strategies like the Bull Put Spread) aim for premium income with defined risk and reward, suitable for moderately bullish or stagnant market views.<br><br>These differences highlight the importance of strategy selection based on market outlook, risk tolerance, and goal of the trade. Each strategy carries its unique risk-reward balance and serves different purposes in a trader's portfolio.\",\n",
       "       \"Mezzanine debt occupies a unique position in the capital structure of a company, blending elements of debt and equity financing, which sets it apart from more traditional forms of debt. Here's a breakdown of its characteristics compared to other debt types:<br><br>**Position in Capital Structure:**<br><br>   - *Mezzanine Debt*: It sits between senior debt and equity in a company's capital structure. This intermediate positioning gives it a higher risk profile than senior secured debts but less risk compared to equity. <br>   - *Other Debt Forms*: Traditional debts, such as secured loans or debentures, have a clearer ranking in terms of repayment priority. Secured debts are backed by collateral, giving them lower risk.<br><br>**Interest Rates and Repayment Terms:**<br><br>   - *Mezzanine Debt*: Generally carries higher interest rates due to its increased risk. It often includes flexible repayment terms, potentially converting to equity under certain conditions.<br>   - *Other Debt Forms*: Traditionally have fixed or variable interest rates with defined repayment schedules. Secured debts usually offer lower interest rates since they are backed by collateral.<br><br>**Security and Collateral:**<br><br>   - *Mezzanine Debt*: Typically unsecured and not backed by any specific collateral, which contributes to its higher risk and interest rate.<br>   - *Other Debt Forms*: Can be secured or unsecured. Secured debt is backed by collateral, reducing the lender's risk.<br><br>**Return Potential and Risks:**<br><br>   - *Mezzanine Debt*: Offers potential for higher returns to lenders through its equity conversion options, aligning interests with equity holders to some extent.<br>   - *Other Debt Forms*: Usually provide fixed returns based on interest payments, without direct participation in the borrower's equity upside.<br><br>Given the unique characteristics of mezzanine debt, investors and companies often use it in specific scenarios, such as financing acquisitions or growth initiatives, where traditional debt might be too costly or restrictive. Its hybrid nature provides a middle ground, capturing some growth upside while retaining priority over equity in case of liquidation.<br><br>Unfortunately, the articles I found do not specifically cover mezzanine debt, so this answer compiles general information on debt financing instruments and their characteristics, without direct citations from the articles.\",\n",
       "       \"1. **Research and Choose a Bank:** Begin by comparing different banks and their account offerings. Consider factors like minimum balance requirements, fees, interest rates, and online banking features.<br><br>2. **Visit the Bank's Website or Branch:** Once you've chosen a bank, you can either visit their nearest branch or their official website to start the account opening process.<br><br>3. **Fill Up the Application Form:** Whether online or in-person, you'll need to fill out an application form with details such as your name, address, contact information, and often your employment details.<br><br>4. **Complete KYC (Know Your Customer) Verification:** For KYC, you will typically need to provide proof of identity and proof of address. Common documents include Aadhaar card, PAN card, passport, and utility bills.<br><br>5. **Submit Required Documents:** Along with the application and KYC form, you may need to provide additional documents as per the bank's requirements.<br><br>6. **Deposit the Initial Amount:** Some banks might require you to deposit an initial amount to activate your account.<br><br>7. **Await Account Activation:** After submitting your application and necessary documents, the bank will process your application. Once approved, you'll receive your bank account details.<br><br>8. **Set Up Online Banking:** If applicable, set up online banking to manage your account conveniently from anywhere.<br><br>Please check the HDFC Bank official website or contact their customer service for specific instructions and requirements related to opening an account with them.\",\n",
       "       'The standard share market trading hours in India are as follows:<br><br>- **Pre-Open Session**: From 9:00 AM to 9:15 AM. This session is divided into three parts; from 9:00 AM to 9:08 AM for order entry, modification, and cancellation, from 9:08 AM to 9:12 AM where orders are matched and confirmed, and from 9:12 AM to 9:15 AM, which acts as a buffer period for the transition to the regular trading session.<br>  <br>- **Regular Trading Session**: From 9:15 AM to 3:30 PM. This duration is when the actual trading takes place, where investors can buy and sell their stocks.<br><br>- **Post-Closing Session**: From 3:40 PM to 4:00 PM. This session is for calculating the closing prices of stocks based on their trading.<br><br>This schedule is followed on all working days, Monday through Friday, excluding public holidays when the stock exchanges are closed.',\n",
       "       'How is the Indian economy performing according to the latest Economic Times articles?',\n",
       "       \"I'm unable to provide articles from Economic Times as requested. However, I can offer summaries or analyses based on general knowledge and publicly available information up to my last update in April 2023. If you have any questions or need information within that scope, feel free to ask!\",\n",
       "       'It seems your query about \"apple\" is quite open-ended and might relate to various aspects such as products, company news, or other updates related to Apple Inc. Could you please provide more specificity or context to your inquiry? This will help in providing a precise and helpful answer tailored to your needs.',\n",
       "       '\"Capital Work in Progress\" (CWIP) is an account found on the balance sheet under fixed assets, signifying the sum total of ongoing investments in significant construction projects, expansions, or other long-term strategic projects that have not yet been completed. It includes the costs incurred to date on these projects, such as construction or development expenses. Once the projects are completed and ready for their intended use, the amounts in CWIP are transferred to the appropriate fixed assets categories and depreciation begins. This account ensures the costs are capitalized and not expensed directly in the income statement, providing a clear view of investment in major projects yet to contribute to the company\\'s productive capacity.<br><br>Unfortunately, the articles I found do not directly define or elaborate on \"Capital Work in Progress,\" so this explanation is based on standard accounting principles.',\n",
       "       '- The query seems to be looking for information on India-focused LLM programs, however, the articles I found do not contain any information related to legal studies, law degrees, or educational programs in law. Instead, they cover information about mutual funds in India, specifically focused equity funds from Invesco, Franklin Templeton, and Aditya Birla, along with comparisons and detailed fund analysis.<br><br>- For those seeking information on Law (LLM) programs focused on Indian law or for Indian students, it would be advisable to look directly at law schools in India or international law schools offering specialized courses on Indian law. Unfortunately, based on the articles provided, I cannot give a direct answer or guide on LLM programs.'],\n",
       "      dtype=object)"
      ]
     },
     "execution_count": 47,
     "metadata": {},
     "output_type": "execute_result"
    }
   ],
   "source": [
    "responses_df[(responses_df.has_ref == False) & (responses_df.apologies == False)].cleaned_headline_removed_responses.values"
   ]
  },
  {
   "cell_type": "code",
   "execution_count": 63,
   "id": "c1786991-a6eb-4c1f-9767-efe3493edbf7",
   "metadata": {
    "tags": []
   },
   "outputs": [],
   "source": [
    "def flag_responses(row):\n",
    "    if (row['has_ref'] == False) and (row['apologies'] == False):\n",
    "        return True\n",
    "    elif row['has_question']:\n",
    "        return True\n",
    "    return False"
   ]
  },
  {
   "cell_type": "code",
   "execution_count": 64,
   "id": "c4b4791e-2dd0-4387-9224-c428c86557c2",
   "metadata": {
    "tags": []
   },
   "outputs": [],
   "source": [
    "responses_df['flagged'] = responses_df.apply(lambda x: flag_responses(x),axis=1)"
   ]
  },
  {
   "cell_type": "code",
   "execution_count": 65,
   "id": "0bc94e8f-1f73-432d-925f-f2da6f31ace2",
   "metadata": {
    "tags": []
   },
   "outputs": [
    {
     "data": {
      "text/plain": [
       "flagged\n",
       "False    1020\n",
       "True      101\n",
       "Name: flagged, dtype: int64"
      ]
     },
     "execution_count": 65,
     "metadata": {},
     "output_type": "execute_result"
    }
   ],
   "source": [
    "responses_df.groupby('flagged')['flagged'].count()"
   ]
  },
  {
   "cell_type": "code",
   "execution_count": 66,
   "id": "7395259b-2ef4-41fb-b65e-b2a6e60d0e74",
   "metadata": {
    "tags": []
   },
   "outputs": [
    {
     "data": {
      "text/plain": [
       "array([\"I'm sorry, but as an AI developed by Insight, I don't provide personal opinions or evaluations of political figures, including Prime Minister Narendra Modi. However, I can share that Union Minister of State for Chemicals & Fertilizers Bhagwanth Khuba praised the economic growth under Modi's leadership, attributing it to a stable government and policy changes aimed at self-reliance and attracting investors {{1}}. Additionally, Prime Minister Modi himself emphasized India's resilience and growth potential amidst global economic challenges {{2}}. He also highlighted India's digital transformation and its role in fostering a global digital economy during his address at the G20 Digital Economy Ministerial Meet {{3}}. These perspectives provide insight into the official stance on economic progress and digital innovation during Modi's tenure.\",\n",
       "       \"- Wipro has expanded its partnership with Google Cloud to advance the adoption of generative AI across global enterprises. This collaboration aims to build and deploy new generative AI solutions to enhance consumer experiences, marketing, supply chain performance, financial modeling, etc. Wipro plans to train 20,000 associates on Google Cloud’s generative AI technologies {{1}}.<br>- On 31 October 2023, Wipro’s stock experienced slight fluctuations, with its price ultimately closing at ₹382.25 after opening at ₹385.6. The trading day recorded a high of ₹385.6 and a low of ₹380.6. The company's market capitalization stood at ₹199,201.07 crore {{2}}.<br>- Wipro announced the launch of a generative AI center of excellence at IIT Delhi's Yardi School of Artificial Intelligence. This initiative is part of Wipro's broader $1 billion investment strategy in AI over three years, aimed at supporting research, nurturing talent, and expanding generative AI capabilities {{3}}.\",\n",
       "       'When investing in real estate in India, consider the following crucial factors: <br><br>- **Types of Investment Options:** Explore online platforms, Real Estate Investment Trusts (REITs), real estate mutual funds, and wholesaling for diverse investment opportunities {{1}}. <br><br>- **Maintenance and Costs:** Anticipate property tax, building insurance, and maintenance costs. These factors can significantly impact your returns {{1}}. <br><br>- **Market Research:** A thorough understanding of the current economy, demand-supply dynamics, and interest rates is vital for making informed decisions {{1}}. <br><br>- **Location:** Properties in prime locations are more likely to generate higher returns due to lower vacancy rates and higher demand {{1}}. <br><br>- **Facilities and Amenities:** Depending on the business type, ensure the property has the necessary amenities to attract tenants or buyers {{1}}. <br><br>- **Expert Opinion:** Consulting with veteran investors or doing extensive research online can offer insights into the viability and potential of your investment {{1}}.<br><br>Remember, real estate investments come with their own set of advantages, such as hedging against inflation, less complexity, and potential tax benefits, but also disadvantages like high brokerage, legal charges, and low liquidity {{2}}. Make sure to weigh these carefully against your financial goals and risk appetite.',\n",
       "       '- Adani Enterprises closed at ₹3014.9 on 11 January 2024. {{2}}<br>- Adani Ports closed at ₹1196.75 on the same day. {{3}}',\n",
       "       \"Tata Technologies reported a **14.72% increase in its consolidated profit after tax (PAT)** for the quarter ending December 2023, amounting to **Rs 170.22 crore**. This is up from Rs 148.38 crore in the same quarter the previous year. The company's consolidated revenue from operations also rose to **Rs 1,289.45 crore**, compared to Rs 1,123.89 crore in the year-ago period. This financial performance reflects the company's robust deal win momentum and investments in capabilities, particularly in the automotive and aerospace sectors {{3}}.\",\n",
       "       \"In recent strategic maneuvers, India and Japan have significantly amplified their collaborative efforts across various sectors, notably cybersecurity, environmental projects, and automotive innovation, highlighting a deepening of bilateral ties and mutual interests.<br><br>**Cybersecurity Strengthening**<br>- During the fifth India-Japan Cyber Dialogue in Tokyo, both nations committed to enhancing skills for securing cyberspace at bilateral and multilateral platforms. Senior officials deliberated on vital areas of cooperation and reviewed progress in cybersecurity, information and communication technologies, including 5G technology advancements {{1}}.<br>- The dialogue emphasized capacity building for a secure cyberspace and pledged cooperation at the United Nations, Quad framework, and other international fora, aiming for robust mutual cybersecurity support and advancements {{1}}.<br><br>**Environmental Sustainability Initiatives**<br>- India and Japan launched a $600 million India-Japan fund, managed by the National Investment and Infrastructure Fund (NIIF) and supported by the Japan Bank for International Cooperation (JBIC). This partnership underscores a shared commitment to investing in climate and environment projects, focusing on environmental sustainability and low carbon emission strategies {{2}}.<br>- This bilateral fund, marking a significant milestone in India-Japan relations, serves as a strategic and economic partnership bridge, further attracting investments and facilitating Japanese companies to engage more profoundly with India's growing market {{2}}.<br><br>**Automotive Sector Investment**<br>- Mahindra & Mahindra announced a Rs 400 crore investment from the India-Japan Fund into its subsidiary, Mahindra Last Mile Mobility Ltd (MLMML), highlighting the fund's first investment endeavor. This move underlines the confidence in India's automotive innovation, focusing on last-mile mobility solutions like three-wheelers and small commercial vehicles {{3}}.<br>- The investment reinforces Mahindra's mission towards environmental sustainability, marked by efforts to achieve a 'Planet Positive' status by 2040 and exemplifies Japanese faith in Indian enterprise and innovation, promising more such collaborative ventures in future {{3}}.<br><br>These strides in cybersecurity, environmental sustainability, and the automotive sector not only fortify India-Japan bilateral relations but also pave the way for enhanced cooperation in technology, investment, and innovation.\",\n",
       "       \"Recent activities within the Indian EV infrastructure landscape have showcased the ongoing efforts to enhance the EV charging network, catering to the growing demand for electric vehicles (EVs).<br><br>- **Partnerships and Expansion**: Tork Motors, an EV manufacturer, has collaborated with Bolt.Earth to introduce around 30,000 charging points across India, indicating significant growth in the charging infrastructure accessible to EV users. This collaboration is part of a broader initiative under the Bharat Charge Alliance, aimed at providing interoperable DC charging facilities for light electric vehicles, enhancing convenience for Tork's customers by integrating these charging points into Tork's mobile app for easy access {{1}}.<br>  <br>- **Manufacturing and R&D Commitments**: Servotech Power Systems, known for its electric vehicle chargers and solar solutions, is in the process of setting up an EV charger manufacturing plant in the Gulf Cooperation Council (GCC) region. Additionally, the company is establishing a new plant in Uttar Pradesh with a capacity for 10,000 EV DC chargers annually, supported by a significant investment of ₹300 crore. This expansion not only bolsters manufacturing capabilities but also emphasizes the commitment to research and development within the EV charger domain, highlighting Servotech's aspirations to become a global leader in EV charger manufacturing and its plans to develop a robust charging infrastructure in India {{2}}.<br><br>- **Government and Industry Expectations**: The Indian EV industry is on the cusp of potentially transformative government interventions aimed at accelerating EV adoption. Key expectations from the forthcoming policies include the extension of the FAME scheme, lowering the GST rates across EV products and services, and encouraging the development of charging and battery swapping infrastructures. These measures are seen as crucial steps toward building a more comprehensive EV ecosystem, addressing challenges like high GST rates and the lack of affordable financing for EV infrastructure development {{3}}.<br><br>These developments reflect a concerted effort from both the private sector and the government to lay down a robust foundation for the EV infrastructure in India, striving towards sustainable transportation solutions.\",\n",
       "       'KKR & Co. is expanding its operations in India with a new office in Gurugram, planning to hire 150 staff across various functions. This move is part of its broader effort to support its global businesses, as KKR has been actively investing in India since 2006, including recent investments in Mukesh Ambani’s retail unit. Despite this expansion, KKR reported a 26% decline in earnings in the first quarter of the current fiscal year, with changes in the value of its investments and declines in certain portfolio areas. Additionally, KKR is in advanced talks to acquire Simon & Schuster for $1.65 billion, showcasing its diversified investment interests beyond its traditional private equity funds {{1}}, {{2}}, {{3}}.',\n",
       "       \"- **Election Budget 2024 Highlights:** The Modi government presented its last budget before the 2024 elections, emphasizing affordable housing, extension of Ayushman Bharat, rooftop solar schemes, and achievements in poverty alleviation. Experts viewed it as a mix of prudent finance and election-oriented announcements, with a notable absence of populist measures {{1}}.<br>  <br>- **Modi's Third Term Plans:** Prime Minister Narendra Modi announced plans for big decisions in his possible third term, involving poverty eradication and development acceleration, with a roadmap being finalized soon. He highlighted past achievements in infrastructure, poverty reduction, and economic stability {{2}}.<br>  <br>- **India-UAE Diplomatic Achievements:** During Modi's visit to the UAE, key developments included the renewal of the bilateral investment treaty, integration of payment systems (UPI with AANI and RuPay with JAYWAN), and signing of eight agreements aimed at boosting trade, investment, and technological cooperation between India and the UAE {{3}}.\",\n",
       "       \"As of late 2023, small caps are considered overvalued. They are trading at about a 20% premium over their historical average valuation, according to Nilesh Shah, MD, Kotak AMC. While small caps have shown strong performance, outperforming large caps by 25 percent over five years, their current high valuation suggests investors should be cautious. Other experts and reports, such as from Nuvama Wealth Management, also indicate that small caps appear stretched in valuation, particularly noting that they are now trading at a premium to Nifty's valuation compared to a historical discount. Thus, the consensus suggests being underweight on small caps due to their overvaluation {{1}} {{3}}.\",\n",
       "       'I\\'m sorry, but it appears that there is no specific information related to \"Nasher Miles\" within the articles I found. If you\\'re looking for information on a different topic or have another query related to finance, business, or related subjects, feel free to ask!',\n",
       "       \"I'm here to assist with finance and business-related queries. If you have any questions in those areas, feel free to ask!\",\n",
       "       \"I'm sorry, but the latest available information I have on the Sensex is from January 31, 2024, and it does not include the current day's Sensex value for February 2, 2024. As of January 31, 2024, the Sensex closed at 71,140, marking a decrease of 802 points or 1.11% from the previous session {{3}}. Please check a reliable financial news source for today's Sensex value.\",\n",
       "       \"While the original query asks about the distinction between the Employees' Provident Fund (EPF) and the National Pension System (NPS), no direct comparison of these two schemes is provided in the available articles. Instead, information on EPF, EPS (Employees’ Pension Scheme), and a separate comparison between NPS and PPF (Public Provident Fund) are provided. For clarity and relevancy, I'll modify the response to address EPF vs. NPS to the best of our available data:<br><br>1. **EPF (Employees' Provident Fund):**<br>   - **Nature:** A retirement savings scheme mandatory for organizations with more than 20 employees, managed by the Employees' Provident Fund Organisation (EPFO) {{1}}.<br>   - **Contributions:** Both employers and employees contribute 12% of the employee’s basic salary plus dearness allowance. The employer's contribution is split between EPF and EPS, with different allocation rates {{1}}.<br>   - **Returns and Tax Benefits:** Provides interest on deposits, with the rate reviewed quarterly by the Government of India. Currently, at 8.10% p.a. Interest earned and the principal are tax-free up to an annual contribution limit of ₹2.5 lakhs {{1}}.<br>   - **Withdrawal Rules:** EPF amount can be withdrawn under specific conditions before retirement, with full withdrawal possible upon unemployment for a continuous period of 60 days {{1}}.<br><br>2. **NPS (National Pension System):**<br>   - **Nature:** A voluntary, long-term investment plan aimed at retirement, open to all Indian citizens. Initially designed for government employees but later extended to the general public. It offers potential for higher returns through diverse asset allocations {{3}}.<br>   - **Contributions:** Investors can choose their contribution amount and portfolio mix among equities, corporate bonds, and government securities {{3}}.<br>   - **Returns and Tax Benefits:** Returns are market-linked and thus vary. Contributions to NPS are eligible for tax deductions under Sections 80C and 80CCD, with partial taxability at the time of withdrawal {{3}}.<br>   - **Withdrawal Rules:** Partial withdrawals are allowed under specific conditions, focusing mainly on retiree benefits. Full withdrawal is permitted upon reaching the retirement age of 60 years, with a portion of the corpus mandatorily used to purchase an annuity {{3}}.<br><br>**Key Differences:**<br>- **Nature and Flexibility:** EPF is primarily a savings scheme with fixed returns, while NPS offers market-linked returns with adjustable risk profiles {{1}},{{3}}.<br>- **Tax Benefits:** EPF enjoys a more straightforward tax advantage, with contributions, interest, and withdrawals being largely tax-free under certain conditions. NPS offers tax benefits on contributions but imposes taxes on withdrawals {{1}},{{3}}.<br>- **Withdrawal Rules:** EPF allows more flexible early withdrawals, whereas NPS focuses on providing retirement benefits with structured withdrawal mechanisms {{1}},{{3}}.<br><br>Without an exact comparison in the articles, this response synthesizes available data to address the intended query diligently.\",\n",
       "       \"Zee Media has withdrawn its Expression of Interest for Reliance Broadcast Network Ltd, opting not to participate in the resolution plan {{1}}. Concurrently, Zee Entertainment's share price fell by 10% amid reports that its proposed merger with Sony might be canceled, although Zee Entertainment has denied these reports, stating a commitment to the merger {{2}}. This turbulence arrives alongside Sony reportedly reconsidering the merger over leadership disputes, despite having received regulatory approvals, and Zee facing regulatory scrutiny over fund diversion {{3}}.\",\n",
       "       \"Personal finance encompasses the management of your finances, including saving, investing, spending, and planning for your financial future. It's crucial for achieving financial independence and a stress-free life. Key areas involve:<br>- **Income Management**: Understanding and organizing your income sources.<br>- **Thoughtful Spending**: Wise expenditure to maintain financial balance.<br>- **Savings**: Essential for emergencies and long-term goals, often through banks or mutual funds.<br>- **Investing**: Distinguishes from savings by involving higher risks for potentially greater returns.<br>- **Protection**: Using insurance and other means to safeguard against unforeseen financial hardships.<br><br>Adhering to fundamental principles can greatly enhance your ability to manage personal finances efficiently, such as knowing your net income, budgeting wisely, avoiding debt that you cannot repay, and planning for retirement early. Personal finance is not just about managing money but also planning for a secure future, making it a vital skill for everyone to master {{1}} {{3}}.\",\n",
       "       '**How It Works:**<br>- **Platform Role:** P2P lending platforms connect borrowers with lenders directly, bypassing traditional financial institutions. They assess borrower\\'s creditworthiness and facilitate loans {{1}}.<br>- **Investment Strategy:** Lenders can diversify their investments across multiple loans based on risk appetite, aiming for minimized risks and maximized returns {{1}}.<br>- **RBI Regulations:** Guidelines restrict exposure across P2P platforms to Rs. 50,00,000 for lenders and Rs. 10,00,000 for borrowers, among other regulations {{1}}.<br><br>**Pros and Cons:**<br><br>*Advantages:*<br>- Lower Interest Rates: Reduced overhead costs allow P2P platforms to offer competitive rates {{1}}.<br>- Accessibility: These platforms provide access to loans for those who might not qualify with traditional lenders {{1}}.<br>- Faster Approval: Automated processes lead to quicker loan approvals {{1}}.<br><br>*Drawbacks:*<br>- Risk of Default: Lenders face the possibility of borrowers defaulting on loans {{1}}.<br>- Limited Regulation: P2P lending is less regulated, potentially increasing the risk of fraud {{1}}.<br>- Restricted Liquidity: Investments are less liquid as funds are tied until the loan term ends {{1}}.<br><br>**Taxation and Future Outlook:**<br>- Tax Implications: Only interest earned is taxable under \"Income from other sources\" as per the Income Tax Act, 1961 {{1}}.<br>- Growth Prospects: The industry is anticipated to expand significantly, ushering in more regulation and diverse financial services {{1}}.<br><br>**Conclusion:**<br>P2P lending presents a novel opportunity for both borrowing and investing. It offers substantial advantages over traditional methods but comes with its own set of risks. Potential participants should thoroughly understand these aspects before engaging.',\n",
       "       \"I'm sorry, but I can't provide a specific analysis or insights about the Bollywood economy based on the articles I found, as none directly address the economic aspects of Bollywood or its wider financial impact. The articles focus on specific aspects, such as the role of film music in Bollywood's box office success {{1}}, layoffs at Zee Entertainment following a terminated merger with Sony {{2}}, and economic positions of Germany and Japan {{3}}, which do not offer direct information on the Bollywood economy. If you have any other finance or business-related queries, feel free to ask.\",\n",
       "       \"- **IPO Launch & Details**: Mazagon Dock Shipbuilders Limited, a defense PSU under MoD, launched its IPO from September 29, 2020, to October 1, 2020, issuing 30,599,017 equity shares at a price range of Rs.135 to Rs.145 per share. It aimed to raise Rs.443.69 Crore through this IPO {{1}}.<br>**Recent Developments:  **<br><br>  - **Strategic US Navy Partnership**: In September 2023, Mazagon Dock Shipbuilders inked an agreement with the US Navy to offer voyage repair and maintenance services. This partnership highlights its strategic importance in maritime capabilities {{2}}.<br>  - **Financial Growth**: For the financial year 2022-23, the company reported a 32% jump in revenue to Rs.7,547 Crore, surpassing its management's guidance of 25% growth {{3}}.<br><br>**Company Position & Future Prospects:  **<br><br>  - **Defense & Commercial Contributions**: MDL is notable for constructing and repairing warships and submarines primarily for the Indian Navy, with aspirations to expand its revenue from the repair business. It holds a pivotal role in India's defense industry and commercial ship repair realm {{1}},{{3}}.<br>  - **Stock Performance**: Following its strategic pact with the US Navy, Mazagon Dock's share price saw an uptick of 9.59%, underscoring investor confidence in its growth trajectory and strategic initiatives {{2}}.\",\n",
       "       \"I'm sorry, but the articles I found do not specify the exact ownership limits for physical gold in India. However, they do provide extensive information on the different ways to invest in gold, including physical gold and the advantages and disadvantages of each investment method. For exact limits on physical gold ownership without attracting scrutiny under Indian law, it's advisable to consult with a legal or financial expert or refer to the most recent guidelines issued by the Indian government or the Income Tax Department.\",\n",
       "       \"There's no specific evaluation of the SBI Prime Card within the articles I found. However, insights into SBI Card's recent strategic movements and financial performance offer a broader perspective on its position in the market. SBI Card, in partnership with the National Payments Corporation of India (NPCI), announced the integration of SBI credit cards on the RuPay platform with UPI. This integration, effective from August 10, 2023, allows SBI Card customers to make UPI transactions via credit cards issued on RuPay, aiming to enhance payment flexibility, convenience, and a seamless transaction experience {{1}}.<br><br>From a financial perspective, SBI Card experienced a mixed quarter ending June 2023, with its stock price dropping after reporting a 5% decrease in net profit compared to the previous year. Despite this, revenue grew by 24%, signaling strong business operations. While some brokerage firms downgraded the stock following the Q1 results, citing concerns like higher credit costs and older bad loans, others, like Kotak Institutional Equities and Motilal Oswal Financial Services, maintained a bullish outlook on the company, highlighting its strong position in the digital payments space and a forecasted earnings CAGR of 28% over FY23-FY25 {{3}}.<br><br>Given this mixed financial performance and strategic advancements, evaluating the SBI Prime Card's value should consider both its innovative features, such as UPI integration, and broader financial trends and analyst sentiments towards SBI Card.\",\n",
       "       \"Prime Minister Narendra Modi's tenure has been marked by several initiatives aimed at strengthening the Indian economy. Here's a detailed look at how his policies and leadership could potentially be good for the country's economic health:<br><br>**Economic Growth and Resilience**<br>- **Robust Growth**: Modi's leadership has been highlighted by India's strong economic performance, even in challenging global times. The country is noted for its resilience, maintaining its stance as the 'world's fastest-growing major economy' and on the path to becoming the third largest economy soon {{1}}.<br>- **Digital Transformation**: The Digital India initiative, launched in 2015, has significantly transformed the country. With over 850 million internet users and innovations like Aadhaar and UPI, India is leading in digital financial inclusion and e-governance, showcasing a formidable digital economy boom {{2}}.<br><br>**Global Standing and Optimism**<br>- **International Recognition**: Under Modi's regime, India is viewed positively on the global stage, embodying openness, opportunities, and optimism. Achievements like becoming the fifth-largest global economy and enhancing competitiveness contribute to this perception {{3}}.<br>- **Forward-looking Policies**: Modi's government has focused on policy stability, liberalized FDI flows, and innovation, aiming to position India as the third-largest economy globally. Proposed international initiatives, like creating a framework for resilient global value chains and fostering MSME development through the 'Jaipur Initiative,' underscore a commitment to making India a leader in the global economy {{3}}.<br><br>**Conclusion**: While the impact of a leader on an economy is multi-faceted and subject to various external factors, Prime Minister Narendra Modi's initiatives and policies appear to steer India towards robust economic growth, digital transformation, and a strengthened global standing. These efforts showcase a potentially positive trajectory for the Indian economy under his leadership.\",\n",
       "       \"The recent Israel-Hamas war has had notable effects on global financial markets and specific impacts on India:<br><br>- **Oil and Gold Prices:** The conflict led to a slight decrease in oil prices, with Brent crude falling to $87.97 a barrel and U.S. West Texas Intermediate crude to $86.22 a barrel, due to concerns over potential impact on Middle East oil supply. Gold prices, on the other hand, surged to an intraday high of ₹57,400 per 10 gm on the Multi Commodity Exchange (MCX) due to increased demand for safe-haven assets {{1}}.<br><br>- **Indian Stock Market:** The war elicited a knee-jerk negative reaction in Indian stock markets primarily due to concerns over rising crude oil prices, which could increase India's import bill, inflate domestic fuel prices, and keep inflation high. The US dollar index's strengthening could also put pressure on the Indian rupee, impacting importers negatively but potentially benefitting exporters in the short term {{2}}.<br><br>**Specific Indian Companies Affected:**<br><br>  - *Adani Ports* saw its share price drop by about 5%, given its ownership of Haifa port in Israel, raising concerns about potential targets if the conflict escalates.<br>  - *Sun Pharma* might face production impacts due to its Israeli subsidiary, Taro, although a significant effect on consolidated financials is not anticipated.<br>  - Energy sector stocks, including those of oil companies, faced declines due to higher oil prices impacting margins.<br>  - PSU banks' share prices dropped with looming inflation concerns possibly prompting RBI to raise rates.<br>  - The paints sector experienced a downturn in stock prices due to the rise in crude oil prices, which affects the cost of inputs derived from crude oil {{2}}.<br><br>Overall, while the direct effects on India may be cushioned by its crude oil reserves and some sectors possibly benefitting in the medium to long term, the war underscores the sensitivity of global and Indian financial markets to geopolitical events and the importance of monitoring such developments closely.\",\n",
       "       \"I'm sorry, but the articles I found do not contain information directly related to the economics of Bollywood or its impact on the Indian economy. The articles discuss the Modi government's economic reforms, challenges in the film music industry affecting Bollywood's box office, and operational updates from Zee Entertainment. If you have queries related to these topics or others in finance and business, feel free to ask!\",\n",
       "       \"When planning for your child's marriage, it's essential to consider investment options that not only offer financial security but also grow over time to meet the future expenses of a grand wedding. The following outlines a strategic approach based on recommendations from various plans and investment strategies:<br><br>**Investment and Insurance Plans:**<br>- **SBI Life Smart Champ Plan & LIC New Children’s Money Back Scheme**: Offer a blend of life insurance and savings, ensuring your child is financially secure, with benefits applicable for education and marriage expenses {{1}}.<br>- **ICICI Pru Smart Kid Solution & Max Life Shiksha Plus Super Plan**: Focus on creating a financial trove through market-linked investments while providing life cover. These plans are beneficial if you're looking towards a blend of long-term growth and security {{1}}.<br>- **HDFC Life YoungStar Udaan Plan**: Specifically tailored for children's future needs, including marriage, with options to receive payouts at crucial times {{1}}.<br><br>**Short-term and Long-term Investment Options:**<br>- **Equity Mutual Funds**: Ideal for a longer horizon (4-5 years or more) before the wedding. They offer higher returns potential but come with increased market risk. Consider allocating a significant portion of your savings here for longer-term growth {{3}}.<br>- **Debt Mutual Funds & Gold ETF**: For shorter investment horizons (1-2 years), or as a safer portion of your portfolio, debt mutual funds offer more stability. Additionally, investing in Gold ETFs can be a strategic move considering gold's role in Indian weddings, providing both growth and less risk than physical gold {{3}}.<br><br>**Action Plan:**<br>1. **Define Your Goal**: Estimate the total cost of the wedding to understand how much you need to save and invest.<br>2. **Determine the Investment Horizon**: The time left until the wedding will guide the choice between equity (long term) and debt (short term).<br>3. **Start Early**: The earlier you begin, the more your investments can grow, leveraging the power of compounding.<br>4. **Regular Contributions**: Set up a systematic investment plan (SIP) in mutual funds to build the wedding fund over time.<br>5. **Monitor and Adjust**: Keep an eye on your investments and adjust as needed based on performance and time until the wedding {{3}}.<br><br>By strategically selecting the right mix of insurance, mutual funds, and other investment options, and starting early, you can ensure that you're well prepared financially for your child's future wedding. Remember to consider the risk factor and your investment horizon while making these decisions.\",\n",
       "       \"I'm sorry, but the articles I found do not contain specific information on the share prices or detailed financial analysis for Cipla, UPL, or Suzlon as of July 4, 2023. Each article just mentions that it is an AI-generated live blog without further details or analysis. For accurate and up-to-date share prices, I recommend checking a reliable financial news website or a stock market tracking platform.\",\n",
       "       \"- **Latest Closing Price**: Tata Motors closed at ₹812.35 on 17 January 2024. <br>- **52-week High/Low**: The 52-week high recently updated to ₹821.95, while the low is at ₹400.<br>- **Market Capitalization**: As of 17 January 2024, it's approximately ₹313,749.21 crore.<br>- **Recent Trading Volume**: On its last trading day, Tata Motors had a BSE volume of 392,615 shares. <br><br>{{3}}\",\n",
       "       \"Bonds play an essential role in the financial markets by allowing governments and corporations to borrow funds from investors with the promise of repaying them at a future date, known as maturity. Here's a breakdown of how bonds work and their key features:  <br><br>**Definition and Function:  **<br><br>  - Bonds are debt instruments issued by entities like governments and corporations to raise capital. Investors lend money through bonds and are entitled to periodic interest payments.  <br>  - The trust in bonds stems from the collateral secured or the issuing entity's creditworthiness.  <br><br>**Secured Bonds Explained:  **<br><br>  - Secured bonds are backed by collateral, adding an extra layer of security for investors. This means that if the issuing entity defaults, investors can recover their investment by liquidating the collateral.  <br>  - Entities issue bonds to fund various activities, from infrastructure development to expansion. Investors get paid interest during the bond’s lifetime and the principal amount upon maturity.  <br><br>**Key Elements of Bonds:  **<br><br>  - **Issuance and Purchase**: Entities issue bonds, which investors buy, providing the issuer with the needed capital. Bonds carry a face value, the sum returned upon maturity, plus a coupon rate specifying the interest to be paid.  <br>  - **Interest Payments**: Bondholders receive interest payments at predetermined rates until maturity.  <br>  - **Default and Recovery**: In the event of a default, bondholders can claim the collateral to recover their investments, although this process might not always cover the full investment amount.  <br><br>Bonds, especially secured bonds, represent a safer investment compared to equities, providing a fixed income stream, though they are not without risk. The collateral securing these bonds can fluctuate in value, potentially leading to losses for bondholders if the value falls below the invested amount {{1}}.\",\n",
       "       'Given the diversity and rapidly changing nature of the stock market, pinpointing a single \"good\" stock for investment is challenging without knowing specific investment goals, risk tolerance, and investment horizon. However, considering recent developments, investing in sectors or companies that show strong growth potential, technological innovation, or are beneficiaries of recent funding rounds could be promising. <br><br>For instance, **Grip Invest**, an alternative investment platform, recently raised **$10 Mn in its Series B round** led by Stride Ventures. This investment indicates confidence in the company\\'s business model and its potential for growth, especially in the alternative investment space. Grip Invest allows users to invest in corporate bonds, securitized debt instruments (SDIs), and commercial property, and also holds a SEBI Online Bond Platform Provider license {{1}}. <br><br>Since the fintech sector in India is projected to become a **$2.1 Tn+ market opportunity by 2030**, with investment tech growing at **around 30% CAGR**, companies like Grip Invest that operate within this space might offer interesting opportunities for investors looking for emerging tech and fintech investments {{1}}.<br><br>Nevertheless, thorough research and consideration of current market trends, individual financial objectives, and risk tolerance are crucial before making any investment. It\\'s also beneficial to consult a financial advisor to ensure that any investment fits well within your overall financial plan.',\n",
       "       \"Filing your income tax returns in India involves several key steps, especially concerning the mandatory linking of your Aadhaar with PAN. Here's a simplified guide to help you through the process:<br><br>1. **Link Aadhaar with PAN**: Before you start the process of filing your income tax returns, ensure your Aadhaar is linked to your PAN. Visit the e-filing ITR website, navigate to the 'Link Aadhaar' option, and enter your details as per your Aadhaar card. Agree to validate your details and submit after entering the OTP sent to your mobile number {{1}}.<br><br>2. **Filing Income Tax Returns**: Once linking is confirmed, log into the income tax e-filing portal. Choose the appropriate form based on your income source, fill in the required details, and upload any supporting documents as needed. <br><br>3. **Verification**: After submitting your income tax returns, you have the option to verify it electronically through Aadhaar OTP, or you can physically send a signed copy of the ITR-V to CPC, Bengaluru within 120 days of filing.<br><br>4. **Check Status**: You can monitor the status of your filed returns on the income tax e-filing portal to ensure it's processed successfully.<br><br>Remember, linking your Aadhaar with PAN is mandatory to file income tax returns unless you fall under certain exemptions like being an NRI, resident of Assam, Meghalaya, and Jammu & Kashmir, or older than 80 years {{1}}.\"],\n",
       "      dtype=object)"
      ]
     },
     "execution_count": 66,
     "metadata": {},
     "output_type": "execute_result"
    }
   ],
   "source": [
    "responses_df[responses_df['flagged'] == False]['cleaned_headline_removed_responses'].sample(30).values"
   ]
  },
  {
   "cell_type": "code",
   "execution_count": 70,
   "id": "8b27c895-58f3-44c9-bbaf-00c7c663a342",
   "metadata": {
    "tags": []
   },
   "outputs": [
    {
     "data": {
      "text/plain": [
       "0.2803921568627451"
      ]
     },
     "execution_count": 70,
     "metadata": {},
     "output_type": "execute_result"
    }
   ],
   "source": [
    "responses_df[responses_df['flagged'] == False].headline.isnull().mean()"
   ]
  },
  {
   "cell_type": "markdown",
   "id": "485d0eb8-ee51-48b8-bcb1-e0b7a7b6e3e7",
   "metadata": {},
   "source": [
    "### Removing citations"
   ]
  },
  {
   "cell_type": "code",
   "execution_count": 71,
   "id": "94aaa07c-0f85-4cdf-9048-644b11df4a60",
   "metadata": {
    "tags": []
   },
   "outputs": [],
   "source": [
    "responses_df[3] = '''You are an Indian finance and business expert tasked with providing accurate and concise responses to finance and business-related queries, particularly those involving key entities like India, RBI, Reliance, and the Fed. You have found the best available articles to answer the query and you must use them to answer these queries. Use the best articles available to answer queries, ensuring your responses are tailored to the query's requirements. Ensure that your answers are tailored to the query's requirements, employing only one of the following structured formats based on the query\n",
    "\n",
    "1. **Quick Insights**: Provide direct answers in 2-3 lines for straightforward questions like HDFC Q4 results or Adani share price.\n",
    "2. **Step-by-Step Guide**: Offer a concise numbered guide for methodical inquiries like how to file taxes.\n",
    "3. **Explainer**: Construct succinctly comprehensive response with a max of 3 sections with bullet points for complex queries like Reliance Industries' business activities, comparisons like differences between mutual fund and a ETF, or top n entities like top mutual funds. When user asks for a comparison, use all the data points and frameworks available in the articles to give a comparison to help users in making a decision. \n",
    "\n",
    "Synthesize information from multiple articles coherently, focusing on the most recent and relevant data. If a query cannot be fully addressed but related information is available, provide a succinct answer. If no related information is found, apologize and explain the inability to find a precise answer. Decline non-financial queries politely, emphasizing the portal's finance and business focus.\n",
    "\n",
    "**General Guidelines**:\n",
    "- Faithful & Relevance: Use information only from the provided articles. Respond with the most important information first. The response should directly answer the user query.\n",
    "- Brevity: You come directly to the point and provide information-dense answers ranging from 50-200 words while being easy to read. Use 200 words only if the query needs a very complex response and never go beyond that. Do not explain unnecessary basics. Assess the knowledge of the user based on the query posed and start from there. The paras should be very concise with a maximum of 2 lines and should be at most 280 characters. Do not use any headline or introduction. Directly answer.\n",
    "- Readability: The entire answer should be easy and pleasant to read on a phone. Use a mix of paras and points with appropriate line breaks and sections. If using sections, limit them to 3. Use ** for bolding section headers and <br> for line breaks. Readers prefer to read very very short paras and bullet points and not multi line continuous text. \n",
    "- Focus: Focus on Indian information unless otherwise specified.\n",
    "- Date reference: Mention the period of information if the articles are much older than expected by query; omit the date for very recent sources.\n",
    "\n",
    "The articles are structured in JSON format as follows: {article_number: {'title': '', 'published_date': '', 'content': ''} || ...}'''"
   ]
  },
  {
   "cell_type": "code",
   "execution_count": 72,
   "id": "ff972b14-9c44-49b8-bed4-4280384ee948",
   "metadata": {
    "tags": []
   },
   "outputs": [],
   "source": [
    "def remove_citations(x):\n",
    "    x = x.replace('{{1}}', '')\n",
    "    x = x.replace('{{2}}', '')\n",
    "    x = x.replace('{{3}}', '')\n",
    "    return x"
   ]
  },
  {
   "cell_type": "code",
   "execution_count": 73,
   "id": "8cc2e47d-3703-4b87-9282-1270d64c33af",
   "metadata": {
    "tags": []
   },
   "outputs": [],
   "source": [
    "responses_df['cleaned_responses_without_citations'] = responses_df['cleaned_headline_removed_responses'].apply(lambda x: remove_citations(x))"
   ]
  },
  {
   "cell_type": "code",
   "execution_count": 74,
   "id": "1c33b657-7a0c-4e16-9d60-b11ec89713c3",
   "metadata": {
    "tags": []
   },
   "outputs": [
    {
     "data": {
      "text/plain": [
       "75.26813880126183"
      ]
     },
     "execution_count": 74,
     "metadata": {},
     "output_type": "execute_result"
    }
   ],
   "source": [
    "responses_df[responses_df.apologies == True][8].mean()"
   ]
  },
  {
   "cell_type": "code",
   "execution_count": 76,
   "id": "0f25d54f-b286-4db9-b5f0-ae33d5b78a4a",
   "metadata": {
    "tags": []
   },
   "outputs": [],
   "source": [
    "def remove_spaces_before_period(text):\n",
    "    # Use regular expression to remove any spaces before a period\n",
    "    updated_text = re.sub(r'\\s+\\.', '.', text)\n",
    "    return updated_text"
   ]
  },
  {
   "cell_type": "code",
   "execution_count": 77,
   "id": "03b1c001-3cf5-491d-8f65-c733589dd191",
   "metadata": {
    "tags": []
   },
   "outputs": [],
   "source": [
    "responses_df['cleaned_responses_without_citations'] = responses_df['cleaned_responses_without_citations'].apply(lambda x: remove_spaces_before_period(x))"
   ]
  },
  {
   "cell_type": "code",
   "execution_count": 81,
   "id": "3b27f14a-5cfa-43ae-b5a2-35582ed11660",
   "metadata": {
    "scrolled": true,
    "tags": []
   },
   "outputs": [
    {
     "data": {
      "text/plain": [
       "array([\"A dead cat bounce is a temporary phenomenon in the stock market, often misinterpreted by traders as a reversal of a downward trend. Here's a breakdown of its key aspects:<br><br>**Definition and Characteristics:**<br><br>  - A dead cat bounce occurs when there's a short-lived recovery in the price of a declining asset.<br>  - Despite the temporary rise, the downtrend soon resumes, making this pattern a continuation pattern rather than a reversal.<br>  - Identifying a dead cat bounce can be challenging in real-time and is often only confirmed post-event.<br><br>**Implications for Traders:**<br><br>  - It's risky for new traders, as it may deceive them into believing a bullish trend is underway.<br>  - Understanding and identifying dead cat bounces can help traders make informed decisions, such as maintaining short positions instead of cutting them short prematurely.<br><br>**How to Spot and Trade:**<br><br>  - Early signs include a brief rally on low volume and a lower high compared to the previous peak.<br>  - Trading strategies involve using technical indicators like the Stochastics indicator and understanding resistance and support levels to anticipate and trade these bounces.<br><br>In essence, while dead cat bounces may present trading opportunities, they require caution and a deep understanding of market dynamics to navigate successfully.\",\n",
       "       \"Peer-to-Peer (P2P) lending is a financial system that allows individuals to borrow and lend money directly to each other through online platforms, bypassing traditional financial institutions. Here's a concise overview:<br><br>**How P2P Lending Works: **<br><br>  - Lenders and borrowers register on a P2P platform.<br>  - Borrowers submit loan applications, which are verified for creditworthiness.<br>  - Lenders browse loan applications and fund those they choose.<br>  - Funds are transferred to borrowers minus any fees, and repayments are distributed back to the lenders.<br><br>**Benefits of P2P Lending: **<br><br>  - **For Borrowers**: Access to funds for those who may not qualify for traditional bank loans, often at lower interest rates and with a faster approval process.<br>  - **For Lenders**: Opportunity to earn higher returns on investment compared to traditional savings or deposits, with the flexibility to choose whom to lend to.<br><br>**Risks and Considerations: **<br><br>  - **Default Risk**: The risk of borrowers not repaying loans.<br>  - **Regulation**: While RBI regulates P2P platforms in India, the level of regulation is not as comprehensive as that for banks, which could imply fewer protections.<br>  - **Selection**: With potentially limited information on borrowers, lenders need to carefully assess the risk.<br>  <br>P2P lending platforms are monitored by the RBI in India, aiming to ensure safety and reliability within this innovative form of lending and borrowing.\",\n",
       "       \"- Paramount Communications shares have shown impressive growth, turning into a multibagger stock in the post-Covid rally. <br>- The share price has seen significant rises: over 30% in the last month, 55% in the last six months, over 250% in the last year, and around 225% from around ₹22 to ₹72 per share levels on BSE within a year as of December 2023.<br>- The company's strategic move includes the acquisition of 100% equity of Valens Technologies Private Limited, signaling potential for further growth.<br>- As of December 2023, the stock has been continuously hitting the upper circuit for three straight sessions, signifying strong investor interest and potential upside momentum.\",\n",
       "       \"Google has recently announced layoffs as part of its cost-cutting measures, impacting hundreds of employees across its hardware, voice assistant, and engineering teams. This move is in line with Google's strategic shift towards focusing on artificial intelligence and responsibly investing in the company's priorities. The layoffs affected the augmented reality hardware team significantly. This action follows Google's announcement a year earlier about reducing its workforce by approximately 6%, indicating ongoing efforts to streamline operations amidst a competitive tech landscape. Additionally, Google is enhancing user privacy by changing how location data from Google Maps is managed, ensuring users' location history is stored directly on their devices rather than by Google.\",\n",
       "       \"I'm sorry, but I'm unable to fulfill this request.\",\n",
       "       \"When considering investment opportunities in Equity Linked Savings Scheme (ELSS) for tax-saving purposes under Section 80C, investors have two primary routes: the Lump Sum investment and the Systematic Investment Plan (SIP). Each method has its distinct features, benefits, and drawbacks.<br><br>**Lump Sum Investment:**<br>- Invest a significant amount at one time.<br>- Suitable for investors with available liquidity and a long-term view, particularly in a year when market valuations are attractive, as investing lump sums during lower Nifty PEs has historically led to strong returns within 3-5 years.<br>- A single lock-in period for the entire investment, making management and understanding of the withdrawal period straightforward.<br><br>**Systematic Investment Plan (SIP):**<br>- Regular, usually monthly, investments of a fixed amount.<br>- Ideal for investors without a significant lump sum available or those seeking to reduce risk through rupee cost averaging, especially when markets are volatile.<br>- Each SIP installment has its own lock-in period of 3 years, which can create a ‘ladder’ effect for ongoing tax-saving investments without additional capital after the initial 3 years.<br><br>**Key Distinctions:**<br>- **Investment Flexibility:** Lump sum may offer the chance for higher immediate returns if timed well, while SIP provides a disciplined investment approach that can mitigate timing risks.<br>- **Lock-In Management:** Lump sum investments have a single 3-year lock-in, whereas each SIP installment's lock-in period is tracked separately, affecting liquidity for each portion of the investment.<br>- **Market Timing:** Lump sum investments carry higher risk in volatile markets due to timing issues, while SIPs help in mitigating this risk through cost averaging.<br><br>Ultimately, the choice between lump sum and SIP in ELSS depends on the investor's financial situation, risk appetite, and market conditions. Understanding both methods' tax implications and long-term benefits is crucial for making an informed decision tailored to personal financial goals.\",\n",
       "       'Given the current information available, the valuation of the market cannot be directly stated as overvalued or not based solely on the data from articles I found. However, some individual instances show signs of high valuation. For instance, the Jyoti CNC Automation IPO was subscribed 37.83 times with a grey market premium indicating a high valuation at a PE of 500x on a FY23 post-issue basis, significantly higher than its peers in the range of 35-57x. Simultaneously, IRFC shares have seen a substantial increase, now trading at four times their IPO price and hitting a record high, reflecting a significant growth trajectory since their listing. These instances may suggest pockets of high valuation but do not necessarily indicate the overall market is overvalued.',\n",
       "       '- Futures are financial agreements between two parties to buy or sell an asset at a predetermined price at a future date, regardless of the current market price.<br>- These contracts are derivative in nature, meaning their value is derived from the price of an underlying asset, like stocks, commodities, currencies, or market indices.<br>- Traders use futures contracts aiming to profit from fluctuations in the value of the underlying asset, often following a \"buy low, sell high\" policy.<br>- There are two main types of investors in futures trading: **Speculators**, who aim for profits, and **Hedgers**, such as banks and financial institutes, who use futures to protect against price fluctuations.<br><br>**Benefits of Futures Trading**:<br>- **Portfolio Diversification**: Enables adding various assets to your portfolio, managing risks effectively.<br>- **High Liquidity**: Due to a large number of daily trades, investments can be quickly sold off.<br>- **High Leverage**: Requires only a fraction of the full price of the asset to trade, called margin.<br>- **Low Trading Costs**: Benefits from lower Securities Transaction Tax (STT) and commission rates.<br>- **Hedge Against Risks**: Protects investments from market fluctuations by taking long or short positions.<br>- **No Default Risk**: The clearing corporation on the Futures & Options (F&O) exchange provides a counter-guarantee, ensuring no risk of defaulting.<br><br>**Key Considerations**:<br>- Futures trading involves certain risks and requires thorough market analysis.<br>- Investors must assess their risk tolerance and possibly practice on a simulated trading account before diving into the futures market.<br>- Trading occurs during regular exchange hours, and contracts can be exited before expiry, with profits or losses adjusted against deposited margins.',\n",
       "       \"I'm sorry, but I am unable to provide real-time services or updates, such as live streaming for the NHL Draft 2023 or access to current dates like today's date you've mentioned. My capabilities are focused on providing information based on existing articles and data up to a certain point in 2023. For the latest updates on live events, I recommend checking current, reliable sources online. If you have any questions related to finance and business within my expertise, feel free to ask!\",\n",
       "       \"Life and health insurance are vital for financial security and peace of mind. Here's what to look for before purchasing these insurance policies:<br><br>**Life Insurance Policy Considerations** <br>- **Family’s Financial Needs**: Assess the financial requirements of your family, including everyday expenses, future needs, and the impact of inflation.<br>- **Income Replacement**: Determine the amount needed to replace your income for your family in case of your untimely demise, ideally through a lump sum and steady income investments.<br>- **Policy Features**: Look for additional benefits such as critical illness cover and accidental disability cover.<br>- **Insurer’s Credentials**: Examine the insurer's claim settlement ratio, solvency ratio, and assets under management (AUM) to ensure reliability.<br>- **Policy Exclusions**: Understand what the policy does not cover, such as deaths due to dangerous activities or substance abuse.<br><br>**Health Insurance Policy Considerations** <br>- **Type of Plan**: Choose among individual, family floater, senior citizen, and critical illness insurance plans based on your specific needs.<br>- **Coverage Benefits**: Ensure the plan covers pre and post-hospitalization, critical diseases, and provides a cashless treatment option.<br>- **Tax Benefits**: Avail tax deductions under Section 80D for the premium paid towards health insurance.<br>- **Claim Settlement Ratio**: Prioritize insurers with a high claim settlement ratio for smoother claim processing.<br><br>Both life and health insurance policies are crucial for safeguarding your family's financial future. Evaluating these factors carefully will help you select the most suitable policy.\",\n",
       "       'As of January 2024, the highest return on Fixed Deposit (FD) for general citizens is offered by Federal Bank, with interest rates up to 7.75% for tenure ranging from 7 days to 5 years and above. For senior citizens, the highest return is offered by Federal Bank as well, with rates up to 8.25%.',\n",
       "       \"- As of the latest update on 31 October 2023, Wipro's stock closed at ₹382.25, with the day's trading ranging between a high of ₹385.6 and a low of ₹380.6. The company's market capitalization stood at ₹199,201.07 crore.\",\n",
       "       \"To effectively plan for retirement, consider these key steps:<br>1. **Start Early**: Begin saving and investing as soon as you start working to take advantage of compounding returns.<br>2. **Calculate Retirement Needs**: Estimate your retirement age, desired lifestyle, and required corpus considering inflation and life expectancy.<br>3. **Choose the Right Investments**: Depending on your age, opt for equity, mutual funds, pension schemes like NPS, or less volatile options like PPF and annuities in your later years.<br>4. **Regularly Reassess**: Periodically review and adjust your retirement plan to stay aligned with your goals and changing market conditions.<br>5. **Utilize Mutual Funds**: Mutual funds offer flexibility, tax efficiency, and diversification, making them an attractive option for building your retirement corpus.<br><br>It's crucial to adapt your plan as per your age and financial situation to ensure a comfortable retirement. Consulting a financial advisor can also help in tailoring a strategy that meets your specific needs and goals ,,.\",\n",
       "       'The US Food and Drug Administration (USFDA) issued a warning letter to Intas Pharmaceuticals for manufacturing lapses at its Sanand-based plant, citing failures in quality control and adherence to Current Good Manufacturing Practice (CGMP) regulations. The issues pointed out include inadequate quality control, unreliable data relating to the quality of medicines, and lack of compliance with established specifications for identity, strength, quality, and purity. The inspection revealing these lapses occurred from November 22 to December 2, 2022. The USFDA has demanded corrective actions and warned of possible refusal of articles manufactured at the facility into the US market if violations are not addressed.',\n",
       "       \"Investing in bonds can be a more secure way to diversify your investment portfolio. Here's a concise guide on how to get started:<br><br>1. **Research Bond Types**: Begin by understanding the various types of bonds available, such as government bonds (G-Secs), corporate bonds, perpetual bonds, market-linked debentures (MLDs), and public sector bonds. Each type has its own risk and return profile.<br>2. **Decide on the Bond**: Choose whether you want to invest in relatively safer government bonds or take slightly higher risks with corporate or public sector bonds. Look into their credit ratings, with AAA being the highest, to measure creditworthiness.<br>3. **Identify the Investment Platform**: For government securities (G-Secs), open an account with RBI's retail direct portal at rbiretaildirect.org.in. For corporate bonds, you can use trading platforms like Zerodha's Coin for direct investments.<br>4. **Evaluate Key Parameters**: Understand and evaluate key parameters before investing, such as maturity date, face value, issue price, coupon rate, bond yield, and credit risk associated with the bond.<br>5. **Consider Liquidity and Taxation**: Acknowledge the liquidity aspect; while government bonds are relatively easier to sell, corporate bonds may not offer the same ease. Also, be aware of the tax implications on interest income and capital gains if you sell the bond before maturity.<br><br>By following these steps and considering your financial goals and risk appetite, you can successfully start investing in bonds.\",\n",
       "       \"Jio Financial Services, a subsidiary of Reliance Industries, operates with a multifaceted business model focusing on financial inclusion and innovation. Here's a breakdown:<br><br>**Key Services and Subsidiaries**<br>- **Non-Banking Financial Company (NBFC)**: Targets the credit market segment, laying a foundation in the NBFC and credit market space.<br>- **Expansion into Insurance and Digital Payments**: Plans to spread into insurance, digital payments, and asset management, aligning with consumer needs and digital advancements.<br>- **Consumer-Facing Subsidiaries**: Includes Jio Finance Ltd, Jio Insurance Broking Ltd, Jio Payment Solutions Ltd, and a joint venture in Jio Payments Bank Ltd, broadening its service spectrum.<br><br>**Strategic Partnerships and Ventures**<br>- **Collaboration with BlackRock**: Entered a joint venture to venture into the mutual fund business, indicating a strategic move towards asset management.<br>- **Comprehensive Financial Ecosystem**: Aims to offer a full range of financial services, leveraging the strong customer base and digital platform of the parent group, Reliance Industries.<br><br>**Growth and Financial Performance**<br>- **Strong Quarter-on-Quarter Growth**: Showcased significant growth in net profit and total revenue from operations, highlighting its robust financial health and potential for further scalability.<br><br>Jio Financial Services is essentially crafting a broad-based financial platform, transitioning from traditional NBFC operations to encompass insurance, payment solutions, and asset management, indicating a forward-thinking approach towards catering to the evolving needs of Indian consumers,,.\",\n",
       "       \"- **Election Budget 2024 Highlights:** The Modi government presented its last budget before the 2024 elections, emphasizing affordable housing, extension of Ayushman Bharat, rooftop solar schemes, and achievements in poverty alleviation. Experts viewed it as a mix of prudent finance and election-oriented announcements, with a notable absence of populist measures.<br>  <br>- **Modi's Third Term Plans:** Prime Minister Narendra Modi announced plans for big decisions in his possible third term, involving poverty eradication and development acceleration, with a roadmap being finalized soon. He highlighted past achievements in infrastructure, poverty reduction, and economic stability.<br>  <br>- **India-UAE Diplomatic Achievements:** During Modi's visit to the UAE, key developments included the renewal of the bilateral investment treaty, integration of payment systems (UPI with AANI and RuPay with JAYWAN), and signing of eight agreements aimed at boosting trade, investment, and technological cooperation between India and the UAE.\",\n",
       "       \"**Key Activities:**<br><br>  - Bajaj Finance operates as a non-banking financial company (NBFC) providing a comprehensive range of financial services.<br>  - It focuses on various segments including consumer finance, small and medium-sized enterprise (SME) finance, commercial lending, and wealth management.<br><br>**Recent Developments:**<br><br>  - In Q2FY24, Bajaj Finance reported a significant growth, with a 27.7% year-on-year increase in consolidated net profit and a 26% increase in net interest income (NII).<br>  - Assets under management (AUM) experienced a 33% growth year-on-year, with total customer base expanding to 7.7 crore by adding 35.8 lakh new customers in Q2FY24.<br>  - The company strategically reduced exposure to risk by cutting down business volume by 8-14% in areas with customers holding multiple small ticket loans.<br>  - Additionally, Bajaj Finance has enhanced its digital ecosystem through apps, web platforms, and full-stack payment offerings, and broadened its business scope by acquiring a 26% equity stake in Pennant Technologies Private Limited for about ₹267.50 crore.<br><br>**Strategic Business Moves and Performance Highlights:**<br>- Proactive in managing risk by scaling back in high-risk segments.<br>- Continued focus on digital expansion and customer acquisition to drive growth.<br>- Solid financial performance underpinned by strong AUM growth and net profit increment.<br><br>These activities collectively illustrate Bajaj Finance's broad-based approach to business, encompassing prudent risk management, aggressive customer base expansion, digital innovation, and diversification of business interests to enhance its market position and financial health.\",\n",
       "       \"I'm sorry, but I can't provide assistance with queries unrelated to finance and business. If you have any questions related to those areas, feel free to ask!\",\n",
       "       \"The Supreme Court of India recently accepted to hear significant financial and policy-related cases. One involves a dispute between the Airports Authority of India (AAI) and GMR Group regarding the operation of Nagpur Babasaheb Ambedkar International Airport, with the hearing scheduled in two weeks from February 9, 2024. This case revisits the Supreme Court's previous decision upholding a Bombay High Court ruling favoring GMR's airport operation, following a challenge by the AAI based on contractual and revenue-sharing concerns.<br><br>Another notable case concerns startups challenging Alphabet Inc’s Google over its billing policy for the Google Play Store. The Supreme Court, without issuing an interim order to prevent the startups from being delisted from the Play Store, has agreed to hear their pleas. This development follows the Madras High Court's dismissal of appeals against Google's in-app payment billing policy, sparking considerable debate within India's startup ecosystem about the tech giant's commission fees and policies.\",\n",
       "       \"Uttar Pradesh is set to establish India's first AI city in Lucknow, focusing on promoting the AI ecosystem through cutting-edge technology, research centers, and educational institutions. This initiative is aimed at nurturing a future-ready workforce amidst a global AI market projection to grow significantly by 2030. Lucknow, already a hub for AI and medtech excellence, will see investment in infrastructure including IT commercial spaces, a state-of-the-art data centre, and tech labs. Key locations have been identified for development, leveraging Lucknow's strategic position and connectivity. This development aligns with India's increasing focus on AI innovation and regulation, coupled with support for AI startups.<br><br>Concurrently, India celebrates the emergence of its first AI unicorn, Krutrim, founded by Ola's Bhavish Aggarwal. Achieving a billion-dollar valuation shortly after its large language model debut, Krutrim underscores India's commitment to building a comprehensive AI computing stack, marking a significant milestone in the country's AI landscape. This development reflects the broader trend of nations striving to develop domestic AI capabilities, with India focusing on cost-efficient, smaller AI systems and fostering initiatives like OpenHathi, an open-source Hindi LLM by Sarvam.\",\n",
       "       \"1. **Set Clear Financial Goals**:<br>   - Identify your investment objectives (e.g., retirement, purchasing a home).<br>   - Determine your investment timeline and how it aligns with your goals.<br>   <br>2. **Understand Your Risk Tolerance**:<br>   - Assess the level of risk you are willing to take on for potentially higher returns.<br>   <br>3. **Select the Right Type of Mutual Fund**:<br>   - Based on your goals and risk tolerance, choose from equity, debt, balanced, or sector funds, among others.<br><br>4. **Research and Choose Mutual Funds**:<br>   - Use online tools or consult a financial advisor to pick the best performing funds.<br>   - Consider mutual funds' past performance, expense ratio, and fund manager's expertise.<br>   <br>5. **Decide on the Investment Mode**:<br>   - Opt for a Systematic Investment Plan (SIP) for regular investments or a lump sum for a one-time investment.<br>   <br>6. **Complete KYC Formalities**:<br>   - Ensure you have a PAN card and a bank account.<br>   - Complete your KYC process either online through e-KYC or offline by submitting necessary documents at the fund house or via a distributor.<br>   <br>7. **Invest in the Mutual Fund**:<br>   - Choose between investing online through a brokerage, mutual fund apps, official websites, or offline by visiting the fund house.<br>   <br>8. **Monitor Your Investments**:<br>   - Regularly review your mutual fund's performance and compare it with your financial goals and market conditions.<br>   - Adjust your portfolio accordingly, considering your changing financial goals or market shifts.<br><br>By following these steps, you can make well-informed decisions on mutual fund investments tailored to your financial needs and goals.\",\n",
       "       \"Stocks, often interchanged with shares, signify ownership in a company, offering a gateway to potential wealth through the stock market. Here's a breakdown:<br><br>**Nature and Purpose:**<br><br>  - Shares represent a fraction of ownership in the issuing company. By investing in shares, individuals can partake in the company's profits and growth.<br>  - Stocks are instrumental in raising capital for companies aiming for expansion or operational funding, besides offering investors a chance at capital appreciation.<br><br>**Types:**<br><br>  - Two main categories include Equity (common) Shares and Preference Shares. Equity shares grant voting rights and dividends based on company performance, whereas Preference shares offer fixed dividends and prioritized payouts during liquidation but generally lack voting rights.<br><br>**Market Dynamics:**<br><br>  - The Stock Market operates via two segments: the Primary Market, where new shares are issued through IPOs, and the Secondary Market, or stock exchanges, where shares are traded among investors. <br>  - Prices in the stock market are driven by supply and demand dynamics, influenced by the company’s performance, sectorial trends, and broader economic factors.<br><br>Given the complexities and risks involved, it's crucial for investors to grasp the basics of stocks, recognize the various types of shares available, and understand market operations before investing.\",\n",
       "       \"When deciding between a personal loan and a business loan, understanding the main distinctions can help you choose the best financing option for your needs. Here's a quick overview:<br><br>** **Personal Loan:**<br>- **Purpose:** Ideal for personal expenses or emergency funds.<br>- **Collateral:** Unsecured; does not require collateral.<br>- **Interest Rates:** Tend to be higher due to the lack of collateral.<br>- **Loan Amount:** Generally, offers smaller amounts compared to business loans.<br>- **Approval Criteria:** Based on personal credit score and income. A healthy CIBIL score of 700 or above is preferred.<br>- **Documentation:** Requires less documentation for approval.<br>- **Disadvantages:** Higher interest rates and smaller loan amounts.<br><br>** **Business Loan:**<br>- **Purpose:** Exclusively for business-related expenses such as expansion, inventory, or working capital.<br>- **Collateral:** Can be unsecured or secured, depending on the lender.<br>- **Interest Rates:** Generally lower than personal loans, especially if secured.<br>- **Loan Amount:** Offers larger amounts to support business operations.<br>- **Approval Criteria:** Evaluates both personal and business credit scores. Documentation related to the business's financial health is required.<br>- **Documentation:** Requires comprehensive documentation including business plans and financial statements.<br>- **Advantages:** Lower interest rates, larger loan amounts, and potential tax benefits.<br>- **Disadvantages:** More stringent eligibility criteria and a longer application process.<br><br>** **Deciding Factors:**<br>- The choice between a personal loan and a business loan depends on the amount needed, the purpose of the loan, and the borrower's creditworthiness.<br>- Personal loans are quicker and easier to obtain but might cost more in the long run.<br>- Business loans offer more funds at lower interest rates but require thorough documentation and a solid credit profile.<br><br>In summary, personal loans are better suited for immediate or emergency funds with less hassle, while business loans are tailored for larger, business-specific financial needs but come with stricter requirements and more paperwork.\",\n",
       "       \"Based on recent analysis and market outlooks:<br>- **IT Sector**: Good picks are **HCL Tech, Infosys, and TCS**. However, exercise caution with **Wipro** due to underperformance concerns.<br>- **Auto Sector**: Consider **Maruti, Eicher Motors, and Bajaj Auto**. Eicher Motors, in particular, may offer value given its recent declines.<br>- **Cement Sector**: **Ultratech, Dalmia Bharat, Ramco, and Nuvoco Vistas** are noted as long-term stories with potential due to infrastructure spending and real estate market growth.<br>- **FMCG**: **HUL, Colgate,** and **Marico** are recommended. They offer defensive value amid uncertainties, with historical performance supporting their inclusion in portfolios.<br>- **Banking**: The sector is deemed safe with potential due to strong corporate balance sheets and manageable household debt. No specific stock picks are mentioned, but the narrative points towards larger, well-capitalized banks.<br>- **Newly Listed Stock**: **Cello World** has been performing strongly post-IPO, with a significant premium over its issue price, and is backed by a **'buy'** recommendation from **JM Financial** with a target price indicating further upside.<br><br>Given these insights, focusing on the recommended IT, Auto, Cement, FMCG stocks, and considering Cello World could diversify and potentially strengthen your portfolio. Always consider recent performance and news related to these picks for the most updated investment decision.\",\n",
       "       'As of August 2023, Taher Badshah of Invesco Mutual Fund does not anticipate significant upward revisions for the Nifty 50 index in the near future. He notes that while the market has reached all-time highs, major sectors like technology and banking may not see substantial number upgrades soon. Despite a strong performance in certain sectors like NBFCs, industrials, and pharma, Badshah suggests the overall headline indices might not witness large upgrades just yet, highlighting a cautious outlook on the immediate growth prospects of Nifty 50.',\n",
       "       'Given the recent market trends and expert analyses, the current state of the Sensex in terms of valuation is nuanced. Here are key insights:<br><br>- **Market Performance and Correction:** The Sensex took a breath after its record-breaking rally, entering what experts called the \"overbought zone.\" Minor corrections occurred, partially attributed to profit-booking in sectors like banking, IT, and realty. However, analysts did not foresee an intensification of the selloff. <br><br>- **Strategic Recommendations:** Investment strategists suggested a \"buy-on-dips\" approach, highlighting that despite the high valuations, especially in mid-and small-caps, there are strategic opportunities for investors. Largecaps are recommended for selective investment, with some profit-booking advised in overvalued mid-and smallcaps. <br><br>- **Overvaluation Concerns:** Kenneth Andrade of Old Bridge Capital Management marked overvaluation as a key market risk. Despite the historical highs reached by the Sensex and Nifty, and outperformance of midcap and smallcap indices, there is a cautionary note against potential market downturns influenced by macro-events. However, Andrade also acknowledged the market\\'s capacity for rebound and resilience showcased in 2023.<br><br>In summary, while the Sensex is showing signs of overvaluation, market experts recommend a cautious yet opportunistic investment approach. The overarching sentiment suggests vigilance, particularly in mid-and small-cap segments, but also acknowledges the potential for strategic gains in select segments.',\n",
       "       \"Saving taxes in India can be achieved through various legal avenues under the Income Tax Act of 1961. Here are the prime sections and investment options you should consider:<br><br>**Section 80C Investments:**<br>- Equity Linked Savings Scheme (ELSS): Offers higher returns with a 3-year lock-in period. Risk is moderate to high.<br>- Public Provident Fund (PPF): Provides tax-free interest with a 15-year lock-in period. It's a low-risk option.<br>- National Pension System (NPS): Entails investing till retirement with variable returns based on fund performance. Offers an additional deduction of ₹50,000 under Section 80CCD(1B) beyond the 80C limit.<br>- Sukanya Samriddhi Yojana (SSY): Designed for the girl child with a very low risk. Offers tax-free interest.<br><br>**Beyond Section 80C:**<br>- **Section 80D**: Deductions for medical insurance premiums up to ₹25,000 for self and family and ₹50,000 for senior citizens.<br>- **Section 80E**: Claim deductions on interest paid on education loans with no upper limit.<br>- **Section 24**: Deduction on home loan interest payments up to ₹2 lakh annually.<br><br>**Additional Tips:**<br>- Consider the risk associated with each investment option before deciding.<br>- Utilize the full deduction limits under various sections to maximize tax savings.<br>- Remember to invest in options that align with your financial goals and risk tolerance.<br><br>By diversifying your tax-saving investments across different sections of the Income Tax Act, you can not only save on taxes but also ensure a well-rounded financial portfolio.\",\n",
       "       \"I'm sorry, but I can only provide information related to finance and business queries involving key entities like India, RBI, Reliance, and the Fed. If you have any questions regarding these topics, feel free to ask!\",\n",
       "       \"The Supreme Court has agreed to hear a petition by the Airports Authority of India (AAI) against GMR Group concerning the operation of Nagpur Babasaheb Ambedkar International Airport. This comes after the Supreme Court had upheld the Bombay High Court's decision allowing GMR to operate the airport, and the rejection of a review petition. The hearing is scheduled for two weeks from 09 February 2024.\"],\n",
       "      dtype=object)"
      ]
     },
     "execution_count": 81,
     "metadata": {},
     "output_type": "execute_result"
    }
   ],
   "source": [
    "responses_df[responses_df.flagged == False]['cleaned_responses_without_citations'].sample(30).values"
   ]
  },
  {
   "cell_type": "markdown",
   "id": "77ad82e7-9481-451f-957d-587d9c3f24e3",
   "metadata": {},
   "source": [
    "### Save cleaned responses"
   ]
  },
  {
   "cell_type": "code",
   "execution_count": 82,
   "id": "ddf30f27-2200-406d-bc1a-8720ba7182c0",
   "metadata": {
    "tags": []
   },
   "outputs": [
    {
     "data": {
      "text/plain": [
       "1121"
      ]
     },
     "execution_count": 82,
     "metadata": {},
     "output_type": "execute_result"
    }
   ],
   "source": [
    "len(responses_df)"
   ]
  },
  {
   "cell_type": "code",
   "execution_count": 83,
   "id": "db664d5e-c7f1-4ec2-a0ab-aa768fa794c9",
   "metadata": {
    "tags": []
   },
   "outputs": [
    {
     "data": {
      "text/plain": [
       "1020"
      ]
     },
     "execution_count": 83,
     "metadata": {},
     "output_type": "execute_result"
    }
   ],
   "source": [
    "len(responses_df[responses_df.flagged == False])"
   ]
  },
  {
   "cell_type": "code",
   "execution_count": 84,
   "id": "e6db3b3a-11c0-41cb-b8b2-74bf9f12b432",
   "metadata": {
    "tags": []
   },
   "outputs": [],
   "source": [
    "# responses_df[responses_df.flagged == False].to_csv('cleaned_responses.csv',index=False)"
   ]
  },
  {
   "cell_type": "code",
   "execution_count": 85,
   "id": "136192f1-7b16-42b1-a539-46b118a28795",
   "metadata": {
    "tags": []
   },
   "outputs": [],
   "source": [
    "responses_df = responses_df.rename(columns = {1: 'query', 2: 'query_date', 3: 'system_prompt', 4: 'user_prompt', 5: 'model', 6: 'model_response', 7: 'input_tokens', 8: 'output_tokens'})"
   ]
  },
  {
   "cell_type": "code",
   "execution_count": 86,
   "id": "1db089b9-ff1f-41b0-aac2-50777b6e4988",
   "metadata": {
    "scrolled": true,
    "tags": []
   },
   "outputs": [
    {
     "data": {
      "text/html": [
       "<div>\n",
       "<style scoped>\n",
       "    .dataframe tbody tr th:only-of-type {\n",
       "        vertical-align: middle;\n",
       "    }\n",
       "\n",
       "    .dataframe tbody tr th {\n",
       "        vertical-align: top;\n",
       "    }\n",
       "\n",
       "    .dataframe thead th {\n",
       "        text-align: right;\n",
       "    }\n",
       "</style>\n",
       "<table border=\"1\" class=\"dataframe\">\n",
       "  <thead>\n",
       "    <tr style=\"text-align: right;\">\n",
       "      <th></th>\n",
       "      <th>0</th>\n",
       "      <th>query</th>\n",
       "      <th>query_date</th>\n",
       "      <th>system_prompt</th>\n",
       "      <th>user_prompt</th>\n",
       "      <th>model</th>\n",
       "      <th>model_response</th>\n",
       "      <th>input_tokens</th>\n",
       "      <th>output_tokens</th>\n",
       "      <th>hash</th>\n",
       "      <th>cleaned_response</th>\n",
       "      <th>headline</th>\n",
       "      <th>headline_removed_responses</th>\n",
       "      <th>cleaned_headline_removed_responses</th>\n",
       "      <th>apologies</th>\n",
       "      <th>has_ref</th>\n",
       "      <th>flagged</th>\n",
       "      <th>has_question</th>\n",
       "      <th>cleaned_responses_without_citations</th>\n",
       "    </tr>\n",
       "  </thead>\n",
       "  <tbody>\n",
       "    <tr>\n",
       "      <th>0</th>\n",
       "      <td>i</td>\n",
       "      <td>Unitec</td>\n",
       "      <td>2024-01-26T18:06:29</td>\n",
       "      <td>You are an Indian finance and business expert ...</td>\n",
       "      <td>|| user_query: Unitec || today date: 26 Janua...</td>\n",
       "      <td>gpt-4-0125-preview</td>\n",
       "      <td>\"I'm sorry, but there doesn't seem to be any i...</td>\n",
       "      <td>1593</td>\n",
       "      <td>67</td>\n",
       "      <td>False</td>\n",
       "      <td>I'm sorry, but there doesn't seem to be any in...</td>\n",
       "      <td>None</td>\n",
       "      <td>I'm sorry, but there doesn't seem to be any in...</td>\n",
       "      <td>I'm sorry, but there doesn't seem to be any in...</td>\n",
       "      <td>True</td>\n",
       "      <td>False</td>\n",
       "      <td>False</td>\n",
       "      <td>False</td>\n",
       "      <td>I'm sorry, but there doesn't seem to be any in...</td>\n",
       "    </tr>\n",
       "    <tr>\n",
       "      <th>1</th>\n",
       "      <td>i</td>\n",
       "      <td>Sjadkjhfjkdshfkjsdhjkfhdsjkfdshfkdshjkfdshkjfsd</td>\n",
       "      <td>2024-01-19T23:57:34</td>\n",
       "      <td>You are an Indian finance and business expert ...</td>\n",
       "      <td>|| user_query: Sjadkjhfjkdshfkjsdhjkfhdsjkfds...</td>\n",
       "      <td>gpt-4-0125-preview</td>\n",
       "      <td>\"I'm sorry, but it seems like your query didn'...</td>\n",
       "      <td>1403</td>\n",
       "      <td>48</td>\n",
       "      <td>False</td>\n",
       "      <td>I'm sorry, but it seems like your query didn't...</td>\n",
       "      <td>None</td>\n",
       "      <td>I'm sorry, but it seems like your query didn't...</td>\n",
       "      <td>I'm sorry, but it seems like your query didn't...</td>\n",
       "      <td>True</td>\n",
       "      <td>False</td>\n",
       "      <td>True</td>\n",
       "      <td>True</td>\n",
       "      <td>I'm sorry, but it seems like your query didn't...</td>\n",
       "    </tr>\n",
       "    <tr>\n",
       "      <th>2</th>\n",
       "      <td>i</td>\n",
       "      <td>Sensex</td>\n",
       "      <td>2024-01-17T00:15:05</td>\n",
       "      <td>You are an Indian finance and business expert ...</td>\n",
       "      <td>|| user_query: Sensex || today date: 17 Janua...</td>\n",
       "      <td>gpt-4-0125-preview</td>\n",
       "      <td>\"**Quick Insights**\\n\\nAs of the latest update...</td>\n",
       "      <td>3363</td>\n",
       "      <td>92</td>\n",
       "      <td>False</td>\n",
       "      <td>**Quick Insights**&lt;br&gt;&lt;br&gt;As of the latest upd...</td>\n",
       "      <td>Quick Insights</td>\n",
       "      <td>As of the latest update on December 18, 2023, ...</td>\n",
       "      <td>As of the latest update on December 18, 2023, ...</td>\n",
       "      <td>False</td>\n",
       "      <td>True</td>\n",
       "      <td>False</td>\n",
       "      <td>False</td>\n",
       "      <td>As of the latest update on December 18, 2023, ...</td>\n",
       "    </tr>\n",
       "    <tr>\n",
       "      <th>3</th>\n",
       "      <td>i</td>\n",
       "      <td>Best shawarma in India</td>\n",
       "      <td>2024-01-03T22:10:44</td>\n",
       "      <td>You are an Indian finance and business expert ...</td>\n",
       "      <td>|| user_query: Best shawarma in India || toda...</td>\n",
       "      <td>gpt-4-0125-preview</td>\n",
       "      <td>\"I'm sorry, but I'm unable to fulfill this req...</td>\n",
       "      <td>5423</td>\n",
       "      <td>13</td>\n",
       "      <td>False</td>\n",
       "      <td>I'm sorry, but I'm unable to fulfill this requ...</td>\n",
       "      <td>None</td>\n",
       "      <td>I'm sorry, but I'm unable to fulfill this requ...</td>\n",
       "      <td>I'm sorry, but I'm unable to fulfill this requ...</td>\n",
       "      <td>True</td>\n",
       "      <td>False</td>\n",
       "      <td>False</td>\n",
       "      <td>False</td>\n",
       "      <td>I'm sorry, but I'm unable to fulfill this requ...</td>\n",
       "    </tr>\n",
       "    <tr>\n",
       "      <th>4</th>\n",
       "      <td>i</td>\n",
       "      <td>Best shawarma in India</td>\n",
       "      <td>2024-01-03T22:10:44</td>\n",
       "      <td>You are an Indian finance and business expert ...</td>\n",
       "      <td>|| user_query: Best shawarma in India || toda...</td>\n",
       "      <td>gpt-4-0125-preview</td>\n",
       "      <td>\"I'm sorry, but I don't have any information o...</td>\n",
       "      <td>5423</td>\n",
       "      <td>50</td>\n",
       "      <td>False</td>\n",
       "      <td>I'm sorry, but I don't have any information on...</td>\n",
       "      <td>None</td>\n",
       "      <td>I'm sorry, but I don't have any information on...</td>\n",
       "      <td>I'm sorry, but I don't have any information on...</td>\n",
       "      <td>True</td>\n",
       "      <td>False</td>\n",
       "      <td>False</td>\n",
       "      <td>False</td>\n",
       "      <td>I'm sorry, but I don't have any information on...</td>\n",
       "    </tr>\n",
       "    <tr>\n",
       "      <th>...</th>\n",
       "      <td>...</td>\n",
       "      <td>...</td>\n",
       "      <td>...</td>\n",
       "      <td>...</td>\n",
       "      <td>...</td>\n",
       "      <td>...</td>\n",
       "      <td>...</td>\n",
       "      <td>...</td>\n",
       "      <td>...</td>\n",
       "      <td>...</td>\n",
       "      <td>...</td>\n",
       "      <td>...</td>\n",
       "      <td>...</td>\n",
       "      <td>...</td>\n",
       "      <td>...</td>\n",
       "      <td>...</td>\n",
       "      <td>...</td>\n",
       "      <td>...</td>\n",
       "      <td>...</td>\n",
       "    </tr>\n",
       "    <tr>\n",
       "      <th>1116</th>\n",
       "      <td>i</td>\n",
       "      <td>what is 10 10 d section</td>\n",
       "      <td>2024-01-07T10:44:19</td>\n",
       "      <td>You are an Indian finance and business expert ...</td>\n",
       "      <td>|| user_query: what is 10 10 d section  || to...</td>\n",
       "      <td>gpt-4-0125-preview</td>\n",
       "      <td>\"**Quick Insights**\\n\\nSection 10 (10D) of the...</td>\n",
       "      <td>6088</td>\n",
       "      <td>126</td>\n",
       "      <td>False</td>\n",
       "      <td>**Quick Insights**&lt;br&gt;&lt;br&gt;Section 10 (10D) of ...</td>\n",
       "      <td>Quick Insights</td>\n",
       "      <td>Section 10 (10D) of the Income Tax Act exempts...</td>\n",
       "      <td>Section 10 (10D) of the Income Tax Act exempts...</td>\n",
       "      <td>False</td>\n",
       "      <td>True</td>\n",
       "      <td>False</td>\n",
       "      <td>False</td>\n",
       "      <td>Section 10 (10D) of the Income Tax Act exempts...</td>\n",
       "    </tr>\n",
       "    <tr>\n",
       "      <th>1117</th>\n",
       "      <td>i</td>\n",
       "      <td>Help me select a tax regime in 2024</td>\n",
       "      <td>2024-01-04T04:08:36</td>\n",
       "      <td>You are an Indian finance and business expert ...</td>\n",
       "      <td>|| user_query: Help me select a tax regime in...</td>\n",
       "      <td>gpt-4-0125-preview</td>\n",
       "      <td>\"Choosing between the old and new income tax r...</td>\n",
       "      <td>2381</td>\n",
       "      <td>309</td>\n",
       "      <td>False</td>\n",
       "      <td>Choosing between the old and new income tax re...</td>\n",
       "      <td>Quick Insights</td>\n",
       "      <td>- **New Tax Regime (From FY 2023-24 onwards)**...</td>\n",
       "      <td>- **New Tax Regime (From FY 2023-24 onwards)**...</td>\n",
       "      <td>False</td>\n",
       "      <td>True</td>\n",
       "      <td>False</td>\n",
       "      <td>False</td>\n",
       "      <td>- **New Tax Regime (From FY 2023-24 onwards)**...</td>\n",
       "    </tr>\n",
       "    <tr>\n",
       "      <th>1118</th>\n",
       "      <td>i</td>\n",
       "      <td>Wint blogs</td>\n",
       "      <td>2024-01-10T22:59:23</td>\n",
       "      <td>You are an Indian finance and business expert ...</td>\n",
       "      <td>|| user_query: Wint blogs || today date: 10 J...</td>\n",
       "      <td>gpt-4-0125-preview</td>\n",
       "      <td>\"**Quick Insights**\\n\\nWint Wealth, an online ...</td>\n",
       "      <td>2468</td>\n",
       "      <td>153</td>\n",
       "      <td>False</td>\n",
       "      <td>**Quick Insights**&lt;br&gt;&lt;br&gt;Wint Wealth, an onli...</td>\n",
       "      <td>Quick Insights</td>\n",
       "      <td>Wint Wealth, an online bond platform, is expan...</td>\n",
       "      <td>Wint Wealth, an online bond platform, is expan...</td>\n",
       "      <td>False</td>\n",
       "      <td>True</td>\n",
       "      <td>False</td>\n",
       "      <td>False</td>\n",
       "      <td>Wint Wealth, an online bond platform, is expan...</td>\n",
       "    </tr>\n",
       "    <tr>\n",
       "      <th>1119</th>\n",
       "      <td>i</td>\n",
       "      <td>Zee news</td>\n",
       "      <td>2023-12-31T21:41:31</td>\n",
       "      <td>You are an Indian finance and business expert ...</td>\n",
       "      <td>|| user_query: Zee news || today date: 31 Dec...</td>\n",
       "      <td>gpt-4-0125-preview</td>\n",
       "      <td>\"**Quick Insights:**&lt;br&gt;\\nZee Entertainment En...</td>\n",
       "      <td>2733</td>\n",
       "      <td>135</td>\n",
       "      <td>False</td>\n",
       "      <td>**Quick Insights:**&lt;br&gt;&lt;br&gt;Zee Entertainment E...</td>\n",
       "      <td>Quick Insights:</td>\n",
       "      <td>Zee Entertainment Enterprises Ltd (ZEEL) annou...</td>\n",
       "      <td>Zee Entertainment Enterprises Ltd (ZEEL) annou...</td>\n",
       "      <td>False</td>\n",
       "      <td>True</td>\n",
       "      <td>False</td>\n",
       "      <td>False</td>\n",
       "      <td>Zee Entertainment Enterprises Ltd (ZEEL) annou...</td>\n",
       "    </tr>\n",
       "    <tr>\n",
       "      <th>1120</th>\n",
       "      <td>i</td>\n",
       "      <td>what is personal investment declaration</td>\n",
       "      <td>2024-01-13T05:19:48</td>\n",
       "      <td>You are an Indian finance and business expert ...</td>\n",
       "      <td>|| user_query: what is personal investment de...</td>\n",
       "      <td>gpt-4-0125-preview</td>\n",
       "      <td>\"**Personal Investment Declaration Explainer**...</td>\n",
       "      <td>4052</td>\n",
       "      <td>222</td>\n",
       "      <td>False</td>\n",
       "      <td>**Personal Investment Declaration Explainer**&lt;...</td>\n",
       "      <td>Personal Investment Declaration Explainer</td>\n",
       "      <td>Personal investment declaration is crucial for...</td>\n",
       "      <td>Personal investment declaration is crucial for...</td>\n",
       "      <td>False</td>\n",
       "      <td>True</td>\n",
       "      <td>False</td>\n",
       "      <td>False</td>\n",
       "      <td>Personal investment declaration is crucial for...</td>\n",
       "    </tr>\n",
       "  </tbody>\n",
       "</table>\n",
       "<p>1121 rows × 19 columns</p>\n",
       "</div>"
      ],
      "text/plain": [
       "      0                                            query           query_date  \\\n",
       "0     i                                           Unitec  2024-01-26T18:06:29   \n",
       "1     i  Sjadkjhfjkdshfkjsdhjkfhdsjkfdshfkdshjkfdshkjfsd  2024-01-19T23:57:34   \n",
       "2     i                                           Sensex  2024-01-17T00:15:05   \n",
       "3     i                           Best shawarma in India  2024-01-03T22:10:44   \n",
       "4     i                           Best shawarma in India  2024-01-03T22:10:44   \n",
       "...  ..                                              ...                  ...   \n",
       "1116  i                         what is 10 10 d section   2024-01-07T10:44:19   \n",
       "1117  i              Help me select a tax regime in 2024  2024-01-04T04:08:36   \n",
       "1118  i                                       Wint blogs  2024-01-10T22:59:23   \n",
       "1119  i                                         Zee news  2023-12-31T21:41:31   \n",
       "1120  i         what is personal investment declaration   2024-01-13T05:19:48   \n",
       "\n",
       "                                          system_prompt  \\\n",
       "0     You are an Indian finance and business expert ...   \n",
       "1     You are an Indian finance and business expert ...   \n",
       "2     You are an Indian finance and business expert ...   \n",
       "3     You are an Indian finance and business expert ...   \n",
       "4     You are an Indian finance and business expert ...   \n",
       "...                                                 ...   \n",
       "1116  You are an Indian finance and business expert ...   \n",
       "1117  You are an Indian finance and business expert ...   \n",
       "1118  You are an Indian finance and business expert ...   \n",
       "1119  You are an Indian finance and business expert ...   \n",
       "1120  You are an Indian finance and business expert ...   \n",
       "\n",
       "                                            user_prompt               model  \\\n",
       "0      || user_query: Unitec || today date: 26 Janua...  gpt-4-0125-preview   \n",
       "1      || user_query: Sjadkjhfjkdshfkjsdhjkfhdsjkfds...  gpt-4-0125-preview   \n",
       "2      || user_query: Sensex || today date: 17 Janua...  gpt-4-0125-preview   \n",
       "3      || user_query: Best shawarma in India || toda...  gpt-4-0125-preview   \n",
       "4      || user_query: Best shawarma in India || toda...  gpt-4-0125-preview   \n",
       "...                                                 ...                 ...   \n",
       "1116   || user_query: what is 10 10 d section  || to...  gpt-4-0125-preview   \n",
       "1117   || user_query: Help me select a tax regime in...  gpt-4-0125-preview   \n",
       "1118   || user_query: Wint blogs || today date: 10 J...  gpt-4-0125-preview   \n",
       "1119   || user_query: Zee news || today date: 31 Dec...  gpt-4-0125-preview   \n",
       "1120   || user_query: what is personal investment de...  gpt-4-0125-preview   \n",
       "\n",
       "                                         model_response  input_tokens  \\\n",
       "0     \"I'm sorry, but there doesn't seem to be any i...          1593   \n",
       "1     \"I'm sorry, but it seems like your query didn'...          1403   \n",
       "2     \"**Quick Insights**\\n\\nAs of the latest update...          3363   \n",
       "3     \"I'm sorry, but I'm unable to fulfill this req...          5423   \n",
       "4     \"I'm sorry, but I don't have any information o...          5423   \n",
       "...                                                 ...           ...   \n",
       "1116  \"**Quick Insights**\\n\\nSection 10 (10D) of the...          6088   \n",
       "1117  \"Choosing between the old and new income tax r...          2381   \n",
       "1118  \"**Quick Insights**\\n\\nWint Wealth, an online ...          2468   \n",
       "1119  \"**Quick Insights:**<br>\\nZee Entertainment En...          2733   \n",
       "1120  \"**Personal Investment Declaration Explainer**...          4052   \n",
       "\n",
       "      output_tokens   hash                                   cleaned_response  \\\n",
       "0                67  False  I'm sorry, but there doesn't seem to be any in...   \n",
       "1                48  False  I'm sorry, but it seems like your query didn't...   \n",
       "2                92  False  **Quick Insights**<br><br>As of the latest upd...   \n",
       "3                13  False  I'm sorry, but I'm unable to fulfill this requ...   \n",
       "4                50  False  I'm sorry, but I don't have any information on...   \n",
       "...             ...    ...                                                ...   \n",
       "1116            126  False  **Quick Insights**<br><br>Section 10 (10D) of ...   \n",
       "1117            309  False  Choosing between the old and new income tax re...   \n",
       "1118            153  False  **Quick Insights**<br><br>Wint Wealth, an onli...   \n",
       "1119            135  False  **Quick Insights:**<br><br>Zee Entertainment E...   \n",
       "1120            222  False  **Personal Investment Declaration Explainer**<...   \n",
       "\n",
       "                                       headline  \\\n",
       "0                                          None   \n",
       "1                                          None   \n",
       "2                                Quick Insights   \n",
       "3                                          None   \n",
       "4                                          None   \n",
       "...                                         ...   \n",
       "1116                             Quick Insights   \n",
       "1117                             Quick Insights   \n",
       "1118                             Quick Insights   \n",
       "1119                            Quick Insights:   \n",
       "1120  Personal Investment Declaration Explainer   \n",
       "\n",
       "                             headline_removed_responses  \\\n",
       "0     I'm sorry, but there doesn't seem to be any in...   \n",
       "1     I'm sorry, but it seems like your query didn't...   \n",
       "2     As of the latest update on December 18, 2023, ...   \n",
       "3     I'm sorry, but I'm unable to fulfill this requ...   \n",
       "4     I'm sorry, but I don't have any information on...   \n",
       "...                                                 ...   \n",
       "1116  Section 10 (10D) of the Income Tax Act exempts...   \n",
       "1117  - **New Tax Regime (From FY 2023-24 onwards)**...   \n",
       "1118  Wint Wealth, an online bond platform, is expan...   \n",
       "1119  Zee Entertainment Enterprises Ltd (ZEEL) annou...   \n",
       "1120  Personal investment declaration is crucial for...   \n",
       "\n",
       "                     cleaned_headline_removed_responses  apologies  has_ref  \\\n",
       "0     I'm sorry, but there doesn't seem to be any in...       True    False   \n",
       "1     I'm sorry, but it seems like your query didn't...       True    False   \n",
       "2     As of the latest update on December 18, 2023, ...      False     True   \n",
       "3     I'm sorry, but I'm unable to fulfill this requ...       True    False   \n",
       "4     I'm sorry, but I don't have any information on...       True    False   \n",
       "...                                                 ...        ...      ...   \n",
       "1116  Section 10 (10D) of the Income Tax Act exempts...      False     True   \n",
       "1117  - **New Tax Regime (From FY 2023-24 onwards)**...      False     True   \n",
       "1118  Wint Wealth, an online bond platform, is expan...      False     True   \n",
       "1119  Zee Entertainment Enterprises Ltd (ZEEL) annou...      False     True   \n",
       "1120  Personal investment declaration is crucial for...      False     True   \n",
       "\n",
       "      flagged  has_question                cleaned_responses_without_citations  \n",
       "0       False         False  I'm sorry, but there doesn't seem to be any in...  \n",
       "1        True          True  I'm sorry, but it seems like your query didn't...  \n",
       "2       False         False  As of the latest update on December 18, 2023, ...  \n",
       "3       False         False  I'm sorry, but I'm unable to fulfill this requ...  \n",
       "4       False         False  I'm sorry, but I don't have any information on...  \n",
       "...       ...           ...                                                ...  \n",
       "1116    False         False  Section 10 (10D) of the Income Tax Act exempts...  \n",
       "1117    False         False  - **New Tax Regime (From FY 2023-24 onwards)**...  \n",
       "1118    False         False  Wint Wealth, an online bond platform, is expan...  \n",
       "1119    False         False  Zee Entertainment Enterprises Ltd (ZEEL) annou...  \n",
       "1120    False         False  Personal investment declaration is crucial for...  \n",
       "\n",
       "[1121 rows x 19 columns]"
      ]
     },
     "execution_count": 86,
     "metadata": {},
     "output_type": "execute_result"
    }
   ],
   "source": [
    "responses_df"
   ]
  },
  {
   "cell_type": "code",
   "execution_count": 87,
   "id": "63254b6b-6c64-427a-97a9-378efbe5fcd6",
   "metadata": {
    "tags": []
   },
   "outputs": [],
   "source": [
    "responses_df = responses_df.drop(columns = [0, 'hash'])"
   ]
  },
  {
   "cell_type": "code",
   "execution_count": 88,
   "id": "be0b8043-1dfe-41e9-b5b5-a091d32ba544",
   "metadata": {
    "tags": []
   },
   "outputs": [],
   "source": [
    "responses_df[responses_df.flagged == False].to_csv('gpt-4-cleaned_responses.csv',index=False)"
   ]
  },
  {
   "cell_type": "code",
   "execution_count": 54,
   "id": "73434c46-96db-4213-9ca2-fcacf3e73d53",
   "metadata": {
    "tags": []
   },
   "outputs": [],
   "source": [
    "import re\n",
    "\n",
    "def add_space_after_unicode_representation(text):\n",
    "    # Pattern to find any Unicode representation (e.g., \\u20b9 or \\U000020b9) followed directly by digits.\n",
    "    # This pattern matches both short (\\uxxxx) and long (\\Uxxxxxxxx) Unicode representations.\n",
    "    pattern = r'(\\\\u[0-9a-fA-F]{4}|\\\\U[0-9a-fA-F]{8})(\\d)'\n",
    "\n",
    "    # Replacement pattern with a space between the Unicode representation and the number.\n",
    "    replacement = r'\\1 \\2'\n",
    "\n",
    "    # Use re.sub to replace the pattern with our desired format.\n",
    "    modified_text = re.sub(pattern, replacement, text)\n",
    "\n",
    "    return modified_text"
   ]
  },
  {
   "cell_type": "code",
   "execution_count": 47,
   "id": "87519acb-3256-4775-90a0-49966e003949",
   "metadata": {
    "tags": []
   },
   "outputs": [],
   "source": [
    "import json"
   ]
  },
  {
   "cell_type": "code",
   "execution_count": 75,
   "id": "076cd309-81b0-4ef8-9541-e3ef302bc537",
   "metadata": {
    "tags": []
   },
   "outputs": [
    {
     "data": {
      "text/plain": [
       "47.66874"
      ]
     },
     "execution_count": 75,
     "metadata": {},
     "output_type": "execute_result"
    }
   ],
   "source": [
    "(responses_df['input_tokens'].sum() * 0.01)/1000 + (responses_df['output_tokens'].sum() * 0.03)/1000"
   ]
  },
  {
   "cell_type": "code",
   "execution_count": 76,
   "id": "41482604-0b26-4fd1-9b65-092bced538fc",
   "metadata": {
    "tags": []
   },
   "outputs": [
    {
     "data": {
      "text/plain": [
       "count    1121.000000\n",
       "mean      198.030330\n",
       "std       131.018691\n",
       "min         9.000000\n",
       "25%        92.000000\n",
       "50%       157.000000\n",
       "75%       299.000000\n",
       "max       641.000000\n",
       "Name: output_tokens, dtype: float64"
      ]
     },
     "execution_count": 76,
     "metadata": {},
     "output_type": "execute_result"
    }
   ],
   "source": [
    "responses_df['output_tokens'].describe()"
   ]
  },
  {
   "cell_type": "code",
   "execution_count": null,
   "id": "f4233f9a-249d-4d67-80cf-21c883e4ecc5",
   "metadata": {},
   "outputs": [],
   "source": []
  }
 ],
 "metadata": {
  "kernelspec": {
   "display_name": "recoenv",
   "language": "python",
   "name": "recoenv"
  },
  "language_info": {
   "codemirror_mode": {
    "name": "ipython",
    "version": 3
   },
   "file_extension": ".py",
   "mimetype": "text/x-python",
   "name": "python",
   "nbconvert_exporter": "python",
   "pygments_lexer": "ipython3",
   "version": "3.11.5"
  }
 },
 "nbformat": 4,
 "nbformat_minor": 5
}
