{
 "cells": [
  {
   "cell_type": "code",
   "execution_count": 1,
   "id": "ec9a4601-e8df-4d82-9308-b0ed341f70c7",
   "metadata": {
    "tags": []
   },
   "outputs": [],
   "source": [
    "import requests"
   ]
  },
  {
   "cell_type": "code",
   "execution_count": 6,
   "id": "72617d56-0385-47b3-ab09-c46cb4b60646",
   "metadata": {
    "tags": []
   },
   "outputs": [],
   "source": [
    "import json"
   ]
  },
  {
   "cell_type": "code",
   "execution_count": 29,
   "id": "09a3d65c-fc9f-499d-a224-9b6bbd3f7365",
   "metadata": {
    "tags": []
   },
   "outputs": [],
   "source": [
    "r = requests.post('http://127.0.0.1:8000/search_query', json={'query_text': 'best credit cards'})"
   ]
  },
  {
   "cell_type": "code",
   "execution_count": 30,
   "id": "7ad99e96-6007-4fea-9149-4c393560ed31",
   "metadata": {
    "tags": []
   },
   "outputs": [],
   "source": [
    "top_articles = [x['article_id'] for x in json.loads(r.text)['searchArticleIds'][:3]]"
   ]
  },
  {
   "cell_type": "code",
   "execution_count": 31,
   "id": "1f902b65-2be7-4df2-b80a-219b8b05bb1c",
   "metadata": {
    "scrolled": true,
    "tags": []
   },
   "outputs": [
    {
     "data": {
      "text/plain": [
       "[{'article_id': '65a7b5001c9bc64bb8adfe1d'},\n",
       " {'article_id': '6555b4af4b13023f9348b72e'},\n",
       " {'article_id': '6555b4c14b13023f9348b78a'},\n",
       " {'article_id': '6555cc6d4b13023f934a8db8'},\n",
       " {'article_id': '653680151e5cc42b1b143fa5'},\n",
       " {'article_id': '65ae4ac16391ac19baa8726d'},\n",
       " {'article_id': '6555b5b34b13023f9348bea5'},\n",
       " {'article_id': '656e02a39994965ac4b4b562'},\n",
       " {'article_id': '65b4aa031b79671c6b70d12b'},\n",
       " {'article_id': '6555b55a4b13023f9348bafa'},\n",
       " {'article_id': '6555b5894b13023f9348bcd8'},\n",
       " {'article_id': '6555b4bc4b13023f9348b771'},\n",
       " {'article_id': '6555b4ad4b13023f9348b720'},\n",
       " {'article_id': '6571c30925cc9a343f03d537'},\n",
       " {'article_id': '6555b5c84b13023f9348bfe1'},\n",
       " {'article_id': '652fd1d21e5cc42b1b13a466'},\n",
       " {'article_id': '65c32b22c119ff6e57a442a3'},\n",
       " {'article_id': '65a7b7c51c9bc64bb8ae2235'},\n",
       " {'article_id': '655829204b13023f934af09c'},\n",
       " {'article_id': '6555b56c4b13023f9348bbb4'},\n",
       " {'article_id': '6555b5954b13023f9348bd58'},\n",
       " {'article_id': '6555cc8e4b13023f934aa39e'},\n",
       " {'article_id': '65a7be221c9bc64bb8ae3d51'},\n",
       " {'article_id': '6571c36725cc9a343f040406'},\n",
       " {'article_id': '65a896761c9bc64bb8ae4e41'},\n",
       " {'article_id': '65a8969c1c9bc64bb8ae51cf'},\n",
       " {'article_id': '652fd21f1e5cc42b1b13a48d'},\n",
       " {'article_id': '65a7b6bd1c9bc64bb8ae1497'},\n",
       " {'article_id': '6555b53f4b13023f9348ba22'},\n",
       " {'article_id': '6555ccbe4b13023f934ac864'},\n",
       " {'article_id': '65a7b4731c9bc64bb8adf6e2'},\n",
       " {'article_id': '657d13288f821120f67a0833'},\n",
       " {'article_id': '651dea66a662d76276b816a9'},\n",
       " {'article_id': '65b390c31b79671c6b70cf8f'},\n",
       " {'article_id': '655d6f13e1d8342798a44a02'},\n",
       " {'article_id': '6555ccd54b13023f934adbe3'},\n",
       " {'article_id': '65a7b7b01c9bc64bb8ae2129'},\n",
       " {'article_id': '652f829b1e5cc42b1b139dfc'},\n",
       " {'article_id': '652fd1e71e5cc42b1b13a470'},\n",
       " {'article_id': '6555ccbd4b13023f934ac70e'},\n",
       " {'article_id': '6576ecd2b8b4d445277ab918'},\n",
       " {'article_id': '6555caef4b13023f93498538'},\n",
       " {'article_id': '652fd1e01e5cc42b1b13a46d'},\n",
       " {'article_id': '6571c24125cc9a343f03799d'},\n",
       " {'article_id': '65a7b45f1c9bc64bb8adf5dd'},\n",
       " {'article_id': '65813f90683f430d81565eb7'},\n",
       " {'article_id': '652fd10b1e5cc42b1b13a403'},\n",
       " {'article_id': '65b5c34f1b79671c6b70d214'},\n",
       " {'article_id': '6571c29b25cc9a343f039d8c'},\n",
       " {'article_id': '65a7ba071c9bc64bb8ae30ee'},\n",
       " {'article_id': '65a7b7301c9bc64bb8ae1a74'},\n",
       " {'article_id': '6555cc1f4b13023f934a5441'},\n",
       " {'article_id': '6571c25325cc9a343f037fbc'},\n",
       " {'article_id': '65cc2d5206df7536a8f68a1e'},\n",
       " {'article_id': '6531690c1e5cc42b1b13cbdc'},\n",
       " {'article_id': '65b2070c6391ac19baa87c8c'},\n",
       " {'article_id': '6571c2bc25cc9a343f03ad95'},\n",
       " {'article_id': '6571c34325cc9a343f03f1e6'},\n",
       " {'article_id': '65a7b6721c9bc64bb8ae10a8'},\n",
       " {'article_id': '6555b4fd4b13023f9348b8c1'},\n",
       " {'article_id': '652fd1961e5cc42b1b13a449'},\n",
       " {'article_id': '652fd2021e5cc42b1b13a47e'},\n",
       " {'article_id': '6571c2bb25cc9a343f03ad6f'},\n",
       " {'article_id': '652fd2191e5cc42b1b13a48a'},\n",
       " {'article_id': '6555b4bb4b13023f9348b768'},\n",
       " {'article_id': '6555b5364b13023f9348b9ec'},\n",
       " {'article_id': '65a7b76a1c9bc64bb8ae1d70'},\n",
       " {'article_id': '6571c30e25cc9a343f03d7fe'},\n",
       " {'article_id': '6571c28e25cc9a343f039832'},\n",
       " {'article_id': '6571c32525cc9a343f03e29b'},\n",
       " {'article_id': '65a7b7311c9bc64bb8ae1a87'},\n",
       " {'article_id': '6555b5a44b13023f9348bdf1'},\n",
       " {'article_id': '6555cc6c4b13023f934a8cc1'},\n",
       " {'article_id': '652fd25a1e5cc42b1b13a4ab'},\n",
       " {'article_id': '6555b4bd4b13023f9348b77a'},\n",
       " {'article_id': '652fd2411e5cc42b1b13a49e'},\n",
       " {'article_id': '653680271e5cc42b1b14415d'},\n",
       " {'article_id': '653168621e5cc42b1b13aab5'},\n",
       " {'article_id': '65756205b8b4d445277ab6e1'},\n",
       " {'article_id': '656ad609207bb033b910effe'},\n",
       " {'article_id': '65a7b76a1c9bc64bb8ae1d7d'},\n",
       " {'article_id': '65a7b50e1c9bc64bb8adfed8'},\n",
       " {'article_id': '65a7b4cf1c9bc64bb8adfbaa'},\n",
       " {'article_id': '65a7b5c51c9bc64bb8ae07cf'},\n",
       " {'article_id': '6584fbd0683f430d815664b2'},\n",
       " {'article_id': '6555cca54b13023f934ab425'},\n",
       " {'article_id': '65367fd61e5cc42b1b143c15'},\n",
       " {'article_id': '6571c32825cc9a343f03e43f'},\n",
       " {'article_id': '65367fd71e5cc42b1b143c16'},\n",
       " {'article_id': '6564772896c80a0efa90ff1e'},\n",
       " {'article_id': '6571c27625cc9a343f038dce'},\n",
       " {'article_id': '657bc243857ad32209160190'},\n",
       " {'article_id': '652fd0d21e5cc42b1b13a3e7'},\n",
       " {'article_id': '653169091e5cc42b1b13cabe'},\n",
       " {'article_id': '656476f496c80a0efa90fb0c'},\n",
       " {'article_id': '652fd27e1e5cc42b1b13a4bb'},\n",
       " {'article_id': '65a7b7461c9bc64bb8ae1ba6'},\n",
       " {'article_id': '6571c2d425cc9a343f03b9ea'},\n",
       " {'article_id': '651e0201a662d76276b8511e'},\n",
       " {'article_id': '653680171e5cc42b1b143fb8'}]"
      ]
     },
     "execution_count": 31,
     "metadata": {},
     "output_type": "execute_result"
    }
   ],
   "source": [
    "json.loads(r.text)['searchArticleIds']"
   ]
  },
  {
   "cell_type": "code",
   "execution_count": 35,
   "id": "dcd0780e-d398-45d9-b57b-dd55932a8e17",
   "metadata": {
    "tags": []
   },
   "outputs": [
    {
     "name": "stdout",
     "output_type": "stream",
     "text": [
      "I'm sorry, but it appears there was a misunderstanding regarding your query. The articles I found do not contain specific recommendations for the best credit cards. They focus on student credit cards, offering insights into their features, benefits, and eligibility criteria. If you're looking for general credit card recommendations, it's recommended to consult with a financial advisor or explore current credit card offerings from various financial institutions based on your spending habits, financial goals, and other relevant factors.<|im_end|>"
     ]
    }
   ],
   "source": [
    "response = requests.get('http://127.0.0.1:8000/summarize_search_v1', params={'query_text': 'best credit cards', 'ids': ','.join(top_articles), 'userId': 99}, stream=True)\n",
    "\n",
    "# Iterate over the response and print each chunk of data\n",
    "for chunk in response.iter_content(chunk_size=1024):\n",
    "    if chunk:\n",
    "        print(chunk.decode('utf-8'), end=\"\")"
   ]
  },
  {
   "cell_type": "code",
   "execution_count": null,
   "id": "fd774624-6868-40be-b5b8-26fa0aac31c1",
   "metadata": {},
   "outputs": [],
   "source": []
  }
 ],
 "metadata": {
  "kernelspec": {
   "display_name": "bertopicenv",
   "language": "python",
   "name": "bertopicenv"
  },
  "language_info": {
   "codemirror_mode": {
    "name": "ipython",
    "version": 3
   },
   "file_extension": ".py",
   "mimetype": "text/x-python",
   "name": "python",
   "nbconvert_exporter": "python",
   "pygments_lexer": "ipython3",
   "version": "3.9.18"
  }
 },
 "nbformat": 4,
 "nbformat_minor": 5
}
