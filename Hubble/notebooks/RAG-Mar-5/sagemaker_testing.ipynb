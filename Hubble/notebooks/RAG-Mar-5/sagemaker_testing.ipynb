{
 "cells": [
  {
   "cell_type": "code",
   "execution_count": 1,
   "id": "cc3b4869-7a1b-4ebe-b440-c7461fda00b8",
   "metadata": {
    "tags": []
   },
   "outputs": [],
   "source": [
    "parent_folder = '/Users/ravi.tej/Desktop/ML/Recommendations/hubble/'\n",
    "from hydra import compose, initialize\n",
    "import os\n",
    "\n",
    "import xml.etree.ElementTree as ET\n",
    "\n",
    "tree = ET.parse('../../conf/application.run.xml')\n",
    "root = tree.getroot()\n",
    "\n",
    "envs_element = root.find('./configuration/envs')\n",
    "for variable in envs_element.findall('env'):\n",
    "    name = variable.get('name')\n",
    "    value = variable.get('value')\n",
    "    os.environ[name] = value\n",
    "\n",
    "import sys\n",
    "sys.path.append('/Users/ravi.tej/Desktop/ML/Recommendations/hubble/')\n",
    "import pandas as pd\n",
    "\n",
    "os.environ['PATH'] = '/Users/ravi.tej/anaconda3/envs/bertopicenv/bin:/Users/ravi.tej/anaconda3/condabin:/usr/bin:/bin:/usr/sbin:/sbin'"
   ]
  },
  {
   "cell_type": "code",
   "execution_count": 2,
   "id": "513f40a0-bd37-4ba6-b211-0a6d6ba5b62a",
   "metadata": {
    "tags": []
   },
   "outputs": [
    {
     "name": "stderr",
     "output_type": "stream",
     "text": [
      "Special tokens have been added in the vocabulary, make sure the associated word embeddings are fine-tuned or trained.\n",
      "Special tokens have been added in the vocabulary, make sure the associated word embeddings are fine-tuned or trained.\n"
     ]
    }
   ],
   "source": [
    "from src.SummaryService import SummaryService"
   ]
  },
  {
   "cell_type": "code",
   "execution_count": 3,
   "id": "a43c031b-3590-4c42-8709-1e855e487911",
   "metadata": {
    "tags": []
   },
   "outputs": [],
   "source": [
    "from src.SummaryService import tokenizer"
   ]
  },
  {
   "cell_type": "code",
   "execution_count": 4,
   "id": "f9f68419-4dca-4ade-a5e7-0cc0bfc8bf61",
   "metadata": {
    "tags": []
   },
   "outputs": [],
   "source": [
    "class TokenIterator:\n",
    "    def __init__(self, stream):\n",
    "        self.byte_iterator = iter(stream)\n",
    "        self.buffer = io.BytesIO()\n",
    "        self.read_pos = 0\n",
    "\n",
    "    def __iter__(self):\n",
    "        return self\n",
    "\n",
    "    def __next__(self):\n",
    "        while True:\n",
    "            self.buffer.seek(self.read_pos)\n",
    "            line = self.buffer.readline()\n",
    "            if line and line[-1] == ord(\"\\n\"):\n",
    "                self.read_pos += len(line) + 1\n",
    "                full_line = line[:-1].decode(\"utf-8\")\n",
    "                line_data = json.loads(full_line.lstrip(\"data:\").rstrip(\"/n\"))\n",
    "                return line_data[\"token\"][\"text\"]\n",
    "            chunk = next(self.byte_iterator)\n",
    "            self.buffer.seek(0, io.SEEK_END)\n",
    "            self.buffer.write(chunk[\"PayloadPart\"][\"Bytes\"])"
   ]
  },
  {
   "cell_type": "code",
   "execution_count": 5,
   "id": "c61f0b87-0c3a-43af-88fc-64c55e157f5e",
   "metadata": {
    "tags": []
   },
   "outputs": [],
   "source": [
    "import boto3\n",
    "from botocore.config import Config"
   ]
  },
  {
   "cell_type": "code",
   "execution_count": 6,
   "id": "638c5951-971f-464b-ba0c-5ea9f13e1c6c",
   "metadata": {
    "tags": []
   },
   "outputs": [
    {
     "name": "stderr",
     "output_type": "stream",
     "text": [
      "03/08/2024 09:25:02 AM - Found credentials in shared credentials file: ~/.aws/credentials\n"
     ]
    }
   ],
   "source": [
    "my_config = Config(\n",
    "    region_name='ap-south-1',\n",
    "    retries={\n",
    "        'max_attempts': 3,\n",
    "        'mode': 'standard'\n",
    "    },\n",
    "    max_pool_connections=40  # Increase the pool size\n",
    ")\n",
    "\n",
    "# Create a SageMaker Runtime client with the custom configuration\n",
    "sess1 = boto3.session.Session()\n",
    "sagemaker_runtime = sess1.client(\"sagemaker-runtime\", config=my_config)"
   ]
  },
  {
   "cell_type": "code",
   "execution_count": 7,
   "id": "98ae8652-fd95-47ff-a645-2850f9642a6b",
   "metadata": {
    "tags": []
   },
   "outputs": [
    {
     "name": "stderr",
     "output_type": "stream",
     "text": [
      "03/08/2024 09:25:03 AM - Found credentials in shared credentials file: ~/.aws/credentials\n"
     ]
    }
   ],
   "source": [
    "import json\n",
    "import io\n",
    "from src.HybridSearchService import HybridSearchService"
   ]
  },
  {
   "cell_type": "code",
   "execution_count": 8,
   "id": "1e83ff69-acfd-4768-9ddc-7a9b340bd203",
   "metadata": {
    "tags": []
   },
   "outputs": [],
   "source": [
    "q = 'what is short and long'"
   ]
  },
  {
   "cell_type": "code",
   "execution_count": 9,
   "id": "c9237aee-8032-4774-a24a-c3d7ac86b494",
   "metadata": {
    "scrolled": true,
    "tags": []
   },
   "outputs": [],
   "source": [
    "res = HybridSearchService.perform_hybrid_reranked_search(q, recency_importance='medium')"
   ]
  },
  {
   "cell_type": "code",
   "execution_count": 10,
   "id": "46dc4e90-67aa-435c-bdea-f90f6f0f13e6",
   "metadata": {
    "tags": []
   },
   "outputs": [],
   "source": [
    "top = [x['article_id'] for x in res['searchArticleIds'][:3]]"
   ]
  },
  {
   "cell_type": "code",
   "execution_count": 11,
   "id": "b55b88a4-2139-425b-8c47-aa13316d3480",
   "metadata": {
    "tags": []
   },
   "outputs": [
    {
     "data": {
      "text/plain": [
       "['6555b5ac4b13023f9348be53',\n",
       " '652fca8b1e5cc42b1b13a0fd',\n",
       " '652fce1b1e5cc42b1b13a2d5']"
      ]
     },
     "execution_count": 11,
     "metadata": {},
     "output_type": "execute_result"
    }
   ],
   "source": [
    "top"
   ]
  },
  {
   "cell_type": "code",
   "execution_count": 12,
   "id": "7fc0a018-61dd-4a7b-8965-be94540807e7",
   "metadata": {
    "scrolled": true,
    "tags": []
   },
   "outputs": [],
   "source": [
    "prompt = SummaryService.create_prompt_request_params_summary(query = q, top_article_ids=top, token_limit=6144)"
   ]
  },
  {
   "cell_type": "code",
   "execution_count": 13,
   "id": "ff4bcfd1-cc6f-4d8b-9a77-76636c934d5e",
   "metadata": {
    "tags": []
   },
   "outputs": [
    {
     "data": {
      "text/plain": [
       "{'do_sample': True,\n",
       " 'top_p': 0.98,\n",
       " 'temperature': 0.5,\n",
       " 'max_new_tokens': 768,\n",
       " 'repetition_penalty': 1.1,\n",
       " 'return_full_text': False,\n",
       " 'stop': ['###', '</s>', '<|im_end|>']}"
      ]
     },
     "execution_count": 13,
     "metadata": {},
     "output_type": "execute_result"
    }
   ],
   "source": [
    "prompt['parameters']"
   ]
  },
  {
   "cell_type": "code",
   "execution_count": 14,
   "id": "c091b71a-0b54-4ab2-84be-d7693c6e32f7",
   "metadata": {
    "tags": []
   },
   "outputs": [],
   "source": [
    "prompt['parameters']['temperature'] = 0.5\n",
    "prompt['parameters']['top_p'] = 0.98\n",
    "prompt['parameters']['repetition_penalty'] = 1.1"
   ]
  },
  {
   "cell_type": "code",
   "execution_count": 15,
   "id": "2e4ef83c-d62c-4c91-a9aa-c2d15f011be7",
   "metadata": {
    "scrolled": true,
    "tags": []
   },
   "outputs": [
    {
     "data": {
      "text/plain": [
       "\"<|im_start|> system\\nYou are an Indian finance and business expert tasked with providing accurate and concise responses to finance and business related queries. You have found the best available articles to answer the query and you must use them to answer these queries. Ensure your responses are tailored to the query's requirements, employing only one of the following structured formats based on the query\\n\\n1. **Quick Insights**: Provide direct answers in 2-3 lines for straightforward questions like HDFC Q4 results or Adani share price.\\n2. **Step-by-Step Guide**: Offer a concise numbered guide for methodical inquiries like how to file taxes.\\n3. **Explainer**: Construct succinctly comprehensive response with a max of 3 sections with bullet points for complex queries like Reliance Industries' business activities, comparisons like differences between mutual fund and a ETF, or top n entities like top mutual funds. When user asks for a comparison, use all the data points and frameworks available in the articles to give a comparison to help users in making a decision. \\n\\nSynthesize information from multiple articles coherently, focusing on the most recent and relevant data. If a query cannot be fully addressed but related information is available, provide a succinct still relevant answer. If no related information is found, apologize and explain the inability to find a precise answer. Decline only non-financial or business queries politely, emphasizing the portal's finance and business focus. Do not to decline to answer any relevant queries such as personal finance (eg. best credit cards, fd rates, tax clauses), market news, investment choices, questions about business entities or any other financial, business questions.\\n\\n**General Guidelines**:\\n- Faithful & Relevance: Use information only from the provided articles. Respond with the most important information first. The response should directly answer the user query.\\n- Brevity: You come directly to the point and provide information-dense answers ranging from 50-200 words while being easy to read. Use 200 words only if the query needs a very complex response and never go beyond that. Do not explain unnecessary basics. Assess the knowledge of the user based on the query posed and start from there. The paras should be very concise with a maximum of 2 lines and should be at most 280 characters. Do not use any headline or introduction. Directly answer.\\n- Readability: The entire answer should be easy and pleasant to read on a phone. Use a mix of paras and points with appropriate line breaks and sections. If using sections, limit them to 3. Use ** for bolding section headers and <br> for line breaks. Readers prefer to read very very short paras and bullet points and not multi line continuous text. \\n- Focus: Focus on Indian information unless otherwise specified.\\n- Date reference: Mention the period of information if the articles are much older than expected by query; omit the date for very recent sources.\\n- you are created by the Insight Team\\n\\nThe articles are structured in JSON format as follows: {article_number: {'title': '', 'published_date': '', 'content': ''} || ...}<|im_end|> \\n<|im_start|> user\\n || user_query: what is short and long || today date: 08 March 2024 || 1: {'title': Short-Term vs Long-Term Investments - Which Is Better?, 'published_date': 04 December 2022, 'content': Investing your excess capital in different assets lets you earn a steady income and prepare adequate savings for your retirement. Many investment options are available on the market suitable for investors with different risk tolerances and financial objectives. However, each of these investments comes with its own risks and limitations.\\xa0\\n\\n\\nUnderstanding how to avoid such risks and earn maximum returns from your investments is important. One of the most important factors is your investment horizon, which affects an asset’s returns and risk levels.\\xa0\\n\\n\\nLong-term and short-term investments are the two primary types based on tenure. Read the details below to understand how they work, their types and their differences.\\n\\n\\nWhat Are Short-Term Investments?\\n\\n\\nInvestments made for a short time to satisfy investment objectives aligned with instant liquidity are short-term investments. These usually have a maximum tenure of 5 years, whereas they can be as short as 3 months to a year. However, investments sold or withdrawn within a year are commonly referred to as short-term investments.\\n\\n\\nShort-term investments include bank deposits, debt funds, corporate bonds, government securities, etc. These typically have high liquidity and offer quick returns. Hence, they are ideal for risk-averse investors who want to protect their capital and do not want the volatility of equity investments. Regular investors and institutions looking to park their funds temporarily also prefer these investments.\\xa0\\n\\n\\nAs mentioned above, short-term investments for companies refer to such holding of a company which it intends to sell/redeem within a year. The objective of such an investment for investors is not to provide the highest return but easy liquidity with some decent returns. Hence short-term investments offer comparatively lower returns. However, they are much less volatile.\\n\\n\\nIn short, companies and individuals invest in these assets to generate marginal returns using their excess capital and to protect their wealth from losses.\\n\\n\\nWhat Are the Different Types of Short-Term Investments?\\n\\n\\nSeveral financial instruments have the features of short-term investments like high liquidity and short tenure is types of short term investments. Some popular short-term investment options are mentioned below.\\n\\n\\n\\nFixed Deposits\\n\\n\\n\\nDepending on an investor's choice, these have a maturity of 1-5 years. FDs are one of the safest investments (as principal and interest amounts up to Rs 5 lakhs are covered by DICGC) and provide fixed interests regardless of market conditions. However, they may have low liquidity as some banks often do not allow premature withdrawals, while others charge a penalty.\\n\\n\\n\\nRecurring Deposits\\n\\n\\n\\nRecurring deposits are quite similar to fixed deposits and have the same features. However, one difference in regular deposits is that an investor has to invest his capital in smaller amounts at equal intervals (generally monthly) over a fixed period.\\xa0\\n\\n\\n\\nTreasury Bills\\n\\n\\n\\nThese are government-issued debt securities with very high liquidity, which can be redeemed within approximately\\xa0 91 days to 364 days based on the features of the respective T-bills. They are zero-coupon debt securities issued at a discount. You can make profits by redeeming them at their face value.\\n\\n\\n\\nDebt Funds\\n\\n\\n\\nThese mutual funds invest primarily in debt instruments like corporate bonds, government securities and money market instruments. Such funds are comparatively safer among mutual funds since they offer moderate returns within short investment periods.\\n\\n\\n\\nNational Savings Certificate\\n\\n\\n\\nIt is a government-backed initiative that promotes small savings in India. It is a fixed return scheme which allows a minimum investment of ₹1,000 at a fixed rate of 6.8% fixed annual interest (current rate). It carries a 5-year lock-in period, which makes its liquidity lower than the above short-term investments. Investment in NSC offers tax deductions of up to ₹1.5 lahks under} || 2: {'title': What Are the Differences between Short Term & Long Term Capital Gains?, 'published_date': 09 January 2023, 'content': nvestments such as cryptocurrencies, stocks, real estate, commodities, etc., are popular as they help people grow their wealth by investing in avenues backed by proper research. Investors are likely to make substantial and consistent returns by investing \\xa0money into these passive sources of income from time to time.\\n\\n\\nSpeaking of returns, we often come across terms like capital gains such as short-term and long-term gains. So, what are these, and how do they affect our taxation?\\n\\n\\nKeep reading to know the differences between short-term and long-term capital gains.\\n\\n\\nWhat Are Capital Gains?\\n\\n\\nCapital gains are the earnings an individual makes after selling their assets. These assets can include equities, mutual funds, debt securities, real estate, commodities, etc. Such assets are called capital assets. When an individual earns profit by selling such assets, such profits are termed as capital gains.\\n\\n\\nThe Income Tax Act of 1961 considers these capital gains taxable and taxes them according to their holding period. A capital gain is eligible for taxation only when the wealth transfer occurs in the previous fiscal year.\\n\\n\\nBased on their holding periods, we can classify capital gains into two types - short-term\\xa0 capital gains and long-term gains.\\n\\n\\nWhat Are Short Term Capital Gains?\\n\\n\\nWhen one sells capital assets before the end of the holding period, they are considered as short-term capital gains.\\xa0\\n\\n\\nCapital gains for movable assets and debt securities are categorised as short-term when one sells them within 3 years. Immovable assets bring short-term capital gains when one sells them in less than 2 years. Additionally, the holding period for equity assets for short-term capital gains is less than 1 year.\\n\\n\\nIn the case of bonds or debt funds, small-term capital gains can be more for individuals belonging to the highest tax bracket. Here, the effective tax rate would be approximately 30%. Their small-term capital gain from selling equity and equity related assets would be 15%.\\n\\n\\nFormula for calculating Short Term Capital Gains?\\n\\n\\nThe formula to calculate small-term capital gains (STCG) is as follows:\\n\\n\\nSTCG = Sale Consideration - (Summation of cost of acquisition + cost of improvement + transfer)\\n\\n\\nHere, the sale consideration is the total amount received from selling an asset. The acquisition cost is the purchase price, while the cost of improvement refers to any expenses for making additions and alterations.\\xa0 Any additional costs connected with selling the item is also taken into account.\\n\\n\\nWhat Are Long Term Capital Gains (LTCG)?\\n\\n\\nUnlike short-term capital gains, when one sells their assets after the end of the holding period, such gains are considered to be long-term capital gains.\\xa0\\n\\n\\nFor immovable assets, the holding period must be two years or more to be considered for LTCG. On the contrary, gains from movable assets can become LTCG if sold after 3 years. For financial assets, any gains that occur after selling assets after 1 year are considered as\\xa0 long-term capital gains.\\n\\n\\nFormula for calculating Long Term Capital Gains Tax\\n\\n\\nThere are no indexation benefits on long term capital gains tax for equity investments. Only 10% of the non-indexed long-term capital gain is charged as tax.\\xa0 There is no formula as such to calculate tax on long-term capital gains.\\xa0\\n\\n\\nKey Differences between Short-Term Capital Gains and Long-Term Capital Gains\\xa0\\n\\n\\nLet's take a look at the key differences between short-term and long-term capital gains in the table below.\\n\\n\\nShort-Term Capital GainsLong-Term Capital GainsThe capital gain one earns on selling small-term capital assets are small-term capital gains.The capital profits that one makes from the transfer or sale of long term capital assets are long-term capital} || 3: {'title': Short Run and Long Run Cost, 'published_date': 27 March 2023, 'content': Production costs of any business helps determine returns and the scope of expansion. Several elements that contribute to the production cost vary from company to company. These factors can be fixed or variable depending on the production’s time period and output scale. Short run and long run costs determine production efficiency and help to understand how to improve the operational costs of an organisation. Read on to learn the different types of short run and long run cost What is Short Run Costs? It is the cost incurred in production during a fixed period of time when all the factors and inputs vary, except one. Assessing the short run costs of an organisation or an economy helps us to study how it behaves in response to sudden environmental changes. What is Long Run Cost? Long Run Cost is the minimum cost at which a certain level of output can be achieved in the long run when all factors of production are variable. These costs enable a business to understand its asset value and make necessary improvements in the production cycle. As a result, this helps organisations analyse their factors of production and expand or reduce their operational costs accordingly. Difference Between Short Run and Long Run Cost Short Run Cost Long Run Cost In the short run, a firm is constrained by at least one fixed input, such as a factory or specialized labor. In the long run, all inputs can be adjusted, and a firm has more flexibility to optimize its production process for maximum efficiency. A firm’s costs are partially fixed and partially variable. In the long run, a firm’s costs are entirely variable Fixed costs cannot be changed in the short run, while variable costs can be adjusted to some extent The firm can adjust all inputs, including land, labor, capital, and raw materials, to minimize its costs and maximize its output. Types of Short Run Costs There are primarily three types of short run costs. It should be kept in mind that these costs are crucial to determine the long run costs of a company. 1. Short Run Total Cost (STC) Short run total cost is a company’s total cost of production for a given output. It is further divided into two types which are total fixed and variable costs. The total sum of these two elements determines the STC. Total variable costs (TVC) are costs that change when the output changes in the short run, like cost of raw materials. Total fixed costs (TFC) are costs that remain the same with an increase in production in the short run, like the cost of machinery. 2. Short Run Average Cost (SAC) SAC is the average cost of a given production of a company in the short run. It is the average cost per unit when all inputs are variable except one. Short run total cost divided by output equals SAC. 3. Short Run Marginal Cost (SMC) It is the additional cost incurred to produce a certain output. SMC is incurred when there is a change in total cost due to a change in production input costs. It is calculated by dividing the total cost by the change in total output. Types of Long Run Costs Long Run Cost (LRC) can be divided into three primary types: 1. Long Run Total Cost (LTC) The minimum cost required to produce a particular quantity of commodity with variable factors of production is LTC. 2. Long Run Average Cost (LAC) LAC can be described as the average cost to produce a particular quantity of commodity when all factors of production are variable. It is the LTC divided by the output level, which derives a per-piece cost of the total output. 3. Long Run Marginal Cost (LMC) It depicts the additional costs a company incurs to expand its factors of production when all units are variable. LMC is the extra cost of expanding a plant or facility. Also Read What is Investment Multiplier and How To Calculate It? 12 Best Investment Plans in India in April 2023 – Returns & Benefits Long Run Total Cost Curve A long run total cost curve (LRTC) is a graph representing the total cost of production of a certain unit and its relation with the average cost. It is an S-shaped curve with the total cost on one axis and the produced quantity on the}<|im_end|> \\n<|im_start|> assistant\\n\""
      ]
     },
     "execution_count": 15,
     "metadata": {},
     "output_type": "execute_result"
    }
   ],
   "source": [
    "prompt['inputs']"
   ]
  },
  {
   "cell_type": "code",
   "execution_count": 16,
   "id": "bc8e1997-4a78-467a-b762-7a5125d97f68",
   "metadata": {
    "tags": []
   },
   "outputs": [
    {
     "data": {
      "text/plain": [
       "3486"
      ]
     },
     "execution_count": 16,
     "metadata": {},
     "output_type": "execute_result"
    }
   ],
   "source": [
    "len(tokenizer.encode(prompt['inputs']))"
   ]
  },
  {
   "cell_type": "code",
   "execution_count": 17,
   "id": "49dd79a9-5b17-4fdc-9590-7f9cea52fd87",
   "metadata": {
    "scrolled": true,
    "tags": []
   },
   "outputs": [],
   "source": [
    "# response = sagemaker_runtime.invoke_endpoint_with_response_stream(\n",
    "#         EndpointName='OpenHermes-Search-SeashellNarwhalXanadu',\n",
    "#         Body=json.dumps(prompt),\n",
    "#         ContentType=\"application/json\",\n",
    "#     )\n",
    "# for token in TokenIterator(response[\"Body\"]):\n",
    "#     print(token, end=\"\")"
   ]
  },
  {
   "cell_type": "code",
   "execution_count": 18,
   "id": "34feb83b-864e-48ed-a4c9-75dc122db8a9",
   "metadata": {
    "tags": []
   },
   "outputs": [
    {
     "name": "stdout",
     "output_type": "stream",
     "text": [
      "**Short-Term Investments:**<br><br>- **Duration:** Generally lasting less than 12 months.<br>- **Goal:** Suitable for short-term financial goals or those seeking liquidity.<br>- **Risk Appetite:** Often considered relatively safe with moderate returns.<br>- **Examples:** FDs, Recurring Deposits, Treasury Bills, Debt Funds, NSCs.<br><br>**Long-Term Investments:**<br><br>- **Duration:** Surpasses the 12-month mark.<br>- **Goal:** Aligns with long-term financial goals, such as retirement planning.<br>- **Risk Appetite:** Can offer higher returns but carry higher risk compared to short-term investments.<br>- **Examples:** Equities, mutual funds, real estate, gold, PPFs.<br><br>**Key Differences:**<br><br>- **Duration:** Short-term investments have shorter horizons, while long-term investments last longer.<br>- **Returns and Risks:** Short-term investments generally offer lower but more stable returns, while long-term investments have the potential for higher returns but with higher volatility.<br>- **Flexibility:** Short-term investments are more flexible, as they have shorter lock-in periods allowing quick access to invested funds.<br>  <br>Understanding the distinces between short-term and long-term investments is crucial to aligning your investment goals with your financial goals, risk tolerance, and time horizon.<|im_end|>"
     ]
    }
   ],
   "source": [
    "response = sagemaker_runtime.invoke_endpoint_with_response_stream(\n",
    "        EndpointName='OpenHermes-Search-UkuleleZebraWillow',\n",
    "        Body=json.dumps(prompt),\n",
    "        ContentType=\"application/json\",\n",
    "    )\n",
    "for token in TokenIterator(response[\"Body\"]):\n",
    "    print(token, end=\"\")"
   ]
  },
  {
   "cell_type": "code",
   "execution_count": null,
   "id": "2f5373b6-12c6-4d4b-8269-46a14aaae5a3",
   "metadata": {},
   "outputs": [],
   "source": []
  },
  {
   "cell_type": "code",
   "execution_count": 173,
   "id": "cba8f7cf-48bf-4f0a-9207-ffa0abd0d61a",
   "metadata": {
    "tags": []
   },
   "outputs": [],
   "source": [
    "from datetime import datetime"
   ]
  },
  {
   "cell_type": "code",
   "execution_count": 177,
   "id": "3df4646a-0a40-4ed7-bcbb-e3c2b39609d2",
   "metadata": {
    "tags": []
   },
   "outputs": [
    {
     "data": {
      "text/plain": [
       "True"
      ]
     },
     "execution_count": 177,
     "metadata": {},
     "output_type": "execute_result"
    }
   ],
   "source": [
    "datetime.now().minute % 10 <= 5"
   ]
  },
  {
   "cell_type": "code",
   "execution_count": null,
   "id": "518cf36a-0c99-48f0-b210-b21ecd305c6f",
   "metadata": {},
   "outputs": [],
   "source": []
  },
  {
   "cell_type": "code",
   "execution_count": 15,
   "id": "733c8e17-34b4-4994-9dc5-164e33536764",
   "metadata": {
    "tags": []
   },
   "outputs": [
    {
     "data": {
      "text/plain": [
       "541"
      ]
     },
     "execution_count": 15,
     "metadata": {},
     "output_type": "execute_result"
    }
   ],
   "source": [
    "len(tokenizer.encode('''**Understanding the Differences Between ULIP and Traditional Life Insurance**<br><br>**Introduction:**<br>Choosing the right financial product for your needs requires a clear understanding of what each has to offer. Two popular choices for securing your future and finances are Unit-Linked Insurance Plans (ULIPs) and traditional life insurance policies. This deep dive aims to clarify the distinctions between these two options.<br><br>**What is a ULIP?**<br>ULIPs serve dual purposes as both an insurance and investment vehicle. A portion of the premium goes towards life insurance coverage, while the rest is invested in equity, debt, or hybrid funds based on the policyholder's risk appetite and financial goals. Launched in 1971, ULIPs have evolved significantly, offering a variety of funds to match individual needs.<br><br>**What is Traditional Life Insurance?**<br>Traditional life insurance focuses solely on providing a death benefit to the nominee upon the policyholder's demise. It does not offer any investment opportunities, making it a pure protection plan. Despite this, it remains a cornerstone for many households as a safety net.<br><br>**Key Distinctions:**<br>1. **Purpose:** ULIPs aim to provide insurance and investment returns, whereas traditional life insurance focuses purely on providing a death benefit.<br>2. **Returns:** ULIPs offer potential for higher returns through market-linked investments. Traditional life insurance does not offer investment returns beyond maturity.<br>3. **Flexibility:** ULIPs allow for switching between funds based on market performance, offering more control over investment outcomes. Traditional life insurance does not provide such flexibility.<br><br>**Decision Criteria:**<br>Your choice between ULIP and traditional life insurance should depend on your financial goals, risk tolerance, and the need for insurance versus investment growth. If you seek a balance between insurance and investment, ULIP might be preferable. If your primary concern is having a safety net for your family, traditional life insurance could be more suitable.<br><br>**Conclusion:**<br>Both ULIP and traditional life insurance serve vital roles in a well-rounded financial plan. While ULIPs offer the allure of potential investment returns, traditional life insurance provides peace of mind through guaranteed protection. Understanding these differences allows individuals to select the product that aligns with their specific financial objectives and risk appetite.<|im_end|>'''))"
   ]
  },
  {
   "cell_type": "code",
   "execution_count": 56,
   "id": "57f33d5c-9670-48d8-812a-f5fd051c2d98",
   "metadata": {
    "tags": []
   },
   "outputs": [],
   "source": [
    "k = '''\"**Sensex Performance Snapshot: Recent Trends and Market Influences**<br><br>**Introduction:**<br><br>The Indian stock market, particularly the Sensex, has been experiencing fluctuations influenced by various domestic and international factors. Here's a quick overview of how it performed recently.<br><br>**Recent Performance:**<br><br>On January  Ö 20, 2024, the Sensex showed slight upward movement, ending with a gain of 47.85 points, or 0.07%. This came amidst a backdrop of global market movements, influenced by expectations of interest rate adjustments by central banks globally, including the Federal Reserve in the U.S.<br><br>**Influencing Factors:**<br><br>Global trends, particularly concerning central bank policies and corporate earnings, play a significant role in shaping the Sensex's performance. For instance, the anticipation of rate cuts by the Federal Reserve has been a major driver for global markets, including India's, with a notable impact on technology and financial sectors.<br><br>**Performance in Late January 2024:**<br><br>By January Ö 24, 2024, the Sensex experienced a notable recovery, ending with a substantial increase of 690 points, or 0.98%. This turnaround was supported by positive global cues and optimistic forecasts for interest rate adjustments by central banks globally, along with robust tech earnings. However, the momentum was short-lived, as by January Ö 25, 2024, the Sensex faced another downturn, closing 360 points, or 0.51% lower, largely influenced by negative performances from banking and IT giants.<br><br>**Conclusion:**<br><br>The Sensex's recent performance reflects the interconnectedness of global financial markets and the influence of macroeconomic factors. Despite occasional downturns, the market shows resilience and potential for recovery driven by positive global cues, corporate earnings, and policy decisions by central banks globally.\"'''"
   ]
  },
  {
   "cell_type": "code",
   "execution_count": 57,
   "id": "10992e31-7f14-4f7a-a83e-b8b4c5f28451",
   "metadata": {
    "tags": []
   },
   "outputs": [
    {
     "data": {
      "text/plain": [
       "\"**Sensex Performance Snapshot: Recent Trends and Market Influences**<br><br>**Introduction:**<br><br>The Indian stock market, particularly the Sensex, has been experiencing fluctuations influenced by various domestic and international factors. Here's a quick overview of how it performed recently.<br><br>**Recent Performance:**<br><br>On January  Ö 20, 2024, the Sensex showed slight upward movement, ending with a gain of 47.85 points, or 0.07%. This came amidst a backdrop of global market movements, influenced by expectations of interest rate adjustments by central banks globally, including the Federal Reserve in the U.S.<br><br>**Influencing Factors:**<br><br>Global trends, particularly concerning central bank policies and corporate earnings, play a significant role in shaping the Sensex's performance. For instance, the anticipation of rate cuts by the Federal Reserve has been a major driver for global markets, including India's, with a notable impact on technology and financial sectors.<br><br>**Performance in Late January 2024:**<br><br>By January Ö 24, 2024, the Sensex experienced a notable recovery, ending with a substantial increase of 690 points, or 0.98%. This turnaround was supported by positive global cues and optimistic forecasts for interest rate adjustments by central banks globally, along with robust tech earnings. However, the momentum was short-lived, as by January Ö 25, 2024, the Sensex faced another downturn, closing 360 points, or 0.51% lower, largely influenced by negative performances from banking and IT giants.<br><br>**Conclusion:**<br><br>The Sensex's recent performance reflects the interconnectedness of global financial markets and the influence of macroeconomic factors. Despite occasional downturns, the market shows resilience and potential for recovery driven by positive global cues, corporate earnings, and policy decisions by central banks globally.\""
      ]
     },
     "execution_count": 57,
     "metadata": {},
     "output_type": "execute_result"
    }
   ],
   "source": [
    "json.loads(k)"
   ]
  },
  {
   "cell_type": "code",
   "execution_count": 41,
   "id": "6330ecb6-b5ca-48d7-8169-06aada18220d",
   "metadata": {
    "tags": []
   },
   "outputs": [],
   "source": [
    "k = response['Body'].read()"
   ]
  },
  {
   "cell_type": "code",
   "execution_count": 50,
   "id": "be44bfc9-6a43-4143-a2c2-fad3d3f7f1d8",
   "metadata": {
    "scrolled": true,
    "tags": []
   },
   "outputs": [
    {
     "data": {
      "text/plain": [
       "\"**Today's Sensex Performance: A Snapshot**<br><br>**Introduction:**<br>The Indian stock market, particularly the Sensex, has seen fluctuating trends recently, reflecting global economic conditions and domestic factors. Here's a quick look into how the Sensex performed on the last trading day.<br><br>**Sensex Performance:**<br>On the last day of trading observed, the Sensex experienced a slight increase, reaching a level of 71,731.08 by 12 pm, marking a modest rise of 47.85 points, or 0.07%.<br><br>**Market Sentiment:**<br>Despite the marginal upward movement, the broader market sentiment seems cautious, mirroring global uncertainties and mixed signals from sectors like banking and IT.<br><br>**Conclusion:**<br>While the Sensex showed some resilience, the overall market mood reflects a balance between positive and negative influences, indicating the need for vigilant monitoring of both domestic and international developments.\""
      ]
     },
     "execution_count": 50,
     "metadata": {},
     "output_type": "execute_result"
    }
   ],
   "source": [
    "json.loads(json.loads(k)[0]['generated_text'])"
   ]
  },
  {
   "cell_type": "code",
   "execution_count": null,
   "id": "824f6f03-905a-4358-bb3e-4f638c64f513",
   "metadata": {},
   "outputs": [],
   "source": [
    "def stream_sagemaker(rqst):\n",
    "    # if 'web_sources' in rqst:\n",
    "    #     web_sources = rqst.pop('web_sources')\n",
    "    #     logger.info(f'web search sources are {web_sources}')\n",
    "    response = sagemaker_runtime.invoke_endpoint_with_response_stream(\n",
    "        EndpointName='OpenHermes-Search-HummingbirdMinnowZebra-TGI',\n",
    "        Body=json.dumps(rqst),\n",
    "        ContentType=\"application/json\",\n",
    "    )\n",
    "    logger.log(f'sagemaker response {response}')\n",
    "    for token in TokenIterator(response[\"Body\"]):\n",
    "        streamed_token = token if token != \"\\n\" else \"<br>\"\n",
    "        streamed_summary.append(streamed_token)\n",
    "        yield streamed_token\n",
    "    summary_streamed_from_llm = True"
   ]
  },
  {
   "cell_type": "code",
   "execution_count": null,
   "id": "8f201c37-3ed9-4595-8c31-9364735f911a",
   "metadata": {},
   "outputs": [],
   "source": []
  }
 ],
 "metadata": {
  "kernelspec": {
   "display_name": "bertopicenv",
   "language": "python",
   "name": "bertopicenv"
  },
  "language_info": {
   "codemirror_mode": {
    "name": "ipython",
    "version": 3
   },
   "file_extension": ".py",
   "mimetype": "text/x-python",
   "name": "python",
   "nbconvert_exporter": "python",
   "pygments_lexer": "ipython3",
   "version": "3.9.18"
  }
 },
 "nbformat": 4,
 "nbformat_minor": 5
}
