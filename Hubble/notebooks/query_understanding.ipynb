{
 "cells": [
  {
   "cell_type": "code",
   "execution_count": 1,
   "id": "7af89f85-e8e1-4157-b1c1-01d0c6aaf201",
   "metadata": {
    "tags": []
   },
   "outputs": [],
   "source": [
    "parent_folder = '/Users/ravi.tej/Desktop/ML/Recommendations/hubble/'\n",
    "from hydra import compose, initialize\n",
    "import os\n",
    "\n",
    "import xml.etree.ElementTree as ET\n",
    "\n",
    "tree = ET.parse('../conf/application.run.xml')\n",
    "root = tree.getroot()\n",
    "\n",
    "envs_element = root.find('./configuration/envs')\n",
    "for variable in envs_element.findall('env'):\n",
    "    name = variable.get('name')\n",
    "    value = variable.get('value')\n",
    "    os.environ[name] = value\n",
    "\n",
    "import sys\n",
    "sys.path.append('/Users/ravi.tej/Desktop/ML/Recommendations/hubble/')\n",
    "import pandas as pd\n",
    "\n",
    "os.environ['PATH'] = '/Users/ravi.tej/anaconda3/envs/bertopicenv/bin:/Users/ravi.tej/anaconda3/condabin:/usr/bin:/bin:/usr/sbin:/sbin'"
   ]
  },
  {
   "cell_type": "code",
   "execution_count": 2,
   "id": "c580ae06-083b-4480-b350-9df1c3e523d0",
   "metadata": {
    "tags": []
   },
   "outputs": [
    {
     "name": "stderr",
     "output_type": "stream",
     "text": [
      "Special tokens have been added in the vocabulary, make sure the associated word embeddings are fine-tuned or trained.\n",
      "Special tokens have been added in the vocabulary, make sure the associated word embeddings are fine-tuned or trained.\n"
     ]
    }
   ],
   "source": [
    "from src.QueryService import QueryService"
   ]
  },
  {
   "cell_type": "code",
   "execution_count": 3,
   "id": "5b1aa355-bc75-43fe-be3a-44db8816e8c1",
   "metadata": {
    "tags": []
   },
   "outputs": [],
   "source": [
    "k = '''Yes, Low, No, \"how to plan taxes guide\"'''"
   ]
  },
  {
   "cell_type": "code",
   "execution_count": 4,
   "id": "71a2f6b5-8792-4f62-afb3-358ed6e001b7",
   "metadata": {
    "tags": []
   },
   "outputs": [
    {
     "data": {
      "text/plain": [
       "['Yes', ' Low', ' No', ' \"how to plan taxes guide\"']"
      ]
     },
     "execution_count": 4,
     "metadata": {},
     "output_type": "execute_result"
    }
   ],
   "source": [
    "k.split(',')"
   ]
  },
  {
   "cell_type": "code",
   "execution_count": 5,
   "id": "f56d04da-1c11-4e53-a42a-c4b5949444f9",
   "metadata": {
    "tags": []
   },
   "outputs": [
    {
     "name": "stdout",
     "output_type": "stream",
     "text": [
      "True,Medium,False,how to plan taxes 2024 guide\n"
     ]
    },
    {
     "data": {
      "text/plain": [
       "(True, 'medium', 'how to plan taxes 2024 guide')"
      ]
     },
     "execution_count": 5,
     "metadata": {},
     "output_type": "execute_result"
    }
   ],
   "source": [
    "QueryService.understand_query_using_openai('how to plan taxes')"
   ]
  },
  {
   "cell_type": "code",
   "execution_count": null,
   "id": "e6425d39-bfc7-4701-94eb-50c50c813297",
   "metadata": {},
   "outputs": [],
   "source": [
    "'''\n",
    "You are an expert in taking user queries on an indian financial and business website and extracting important attributes separated by comma. The final attribute of web search query is extremely important, and should directly result in relevant results when the query has any financial or business connection. If the entity or query is too vague to get only financial or business results, then append it with ‘financial and business news’. Today is {query_date}. When using in web query, then use %d/%m/%y\n",
    "- is_fin_business_query, recency_importance (High for very volatile, medium for slowly changing stuff like regulations or industry related, and low for very less changing like educational and guides), vague, web_search_query\n",
    "example query: best credit cards. example output: 'Yes, Medium, No, \"best credit cards 2023 reviews\"'. Generate the responses for the below user query. No preamble or postamble.\n",
    "'''"
   ]
  },
  {
   "cell_type": "code",
   "execution_count": null,
   "id": "7de6accd-6e8e-458b-b22a-47b7fee13f3a",
   "metadata": {},
   "outputs": [],
   "source": []
  }
 ],
 "metadata": {
  "kernelspec": {
   "display_name": "bertopicenv",
   "language": "python",
   "name": "bertopicenv"
  },
  "language_info": {
   "codemirror_mode": {
    "name": "ipython",
    "version": 3
   },
   "file_extension": ".py",
   "mimetype": "text/x-python",
   "name": "python",
   "nbconvert_exporter": "python",
   "pygments_lexer": "ipython3",
   "version": "3.9.18"
  }
 },
 "nbformat": 4,
 "nbformat_minor": 5
}
