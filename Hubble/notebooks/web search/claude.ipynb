{
 "cells": [
  {
   "cell_type": "code",
   "execution_count": 1,
   "id": "1c78befe-0efd-4d45-a5a0-582db8eeab6f",
   "metadata": {
    "tags": []
   },
   "outputs": [],
   "source": [
    "parent_folder = '/Users/ravi.tej/Desktop/ML/Recommendations/hubble/'\n",
    "from hydra import compose, initialize\n",
    "import os\n",
    "\n",
    "import xml.etree.ElementTree as ET\n",
    "\n",
    "tree = ET.parse('../../conf/application.run.xml')\n",
    "root = tree.getroot()\n",
    "\n",
    "envs_element = root.find('./configuration/envs')\n",
    "for variable in envs_element.findall('env'):\n",
    "    name = variable.get('name')\n",
    "    value = variable.get('value')\n",
    "    os.environ[name] = value\n",
    "\n",
    "import sys\n",
    "sys.path.append('/Users/ravi.tej/Desktop/ML/Recommendations/hubble/')\n",
    "import pandas as pd\n",
    "\n",
    "os.environ['PATH'] = '/Users/ravi.tej/anaconda3/envs/bertopicenv/bin:/Users/ravi.tej/anaconda3/condabin:/usr/bin:/bin:/usr/sbin:/sbin'"
   ]
  },
  {
   "cell_type": "code",
   "execution_count": 2,
   "id": "9f5757d5-4ccb-4807-a78f-5c021cc29a12",
   "metadata": {
    "tags": []
   },
   "outputs": [
    {
     "name": "stderr",
     "output_type": "stream",
     "text": [
      "Special tokens have been added in the vocabulary, make sure the associated word embeddings are fine-tuned or trained.\n",
      "Special tokens have been added in the vocabulary, make sure the associated word embeddings are fine-tuned or trained.\n"
     ]
    }
   ],
   "source": [
    "from src.QueryService import QueryService"
   ]
  },
  {
   "cell_type": "code",
   "execution_count": 3,
   "id": "6b68173c-1ccb-4296-a66b-2c367b5d33f5",
   "metadata": {
    "tags": []
   },
   "outputs": [
    {
     "data": {
      "text/plain": [
       "(True,\n",
       " 'high',\n",
       " 'best insurance policy for me 27 March 2024',\n",
       " {'model': 'claude-3-haiku-20240307',\n",
       "  'prompt_tokens': 221,\n",
       "  'completion_tokens': 20,\n",
       "  'system_prompt': \"You are an expert in taking user queries on an indian financial and business website and extracting important attributes separated by comma. The final attribute of web search query is extremely important, and should directly result in relevant results when the query has any financial or business connection. If the entity or query is too vague to get only financial or business results, then append it with ‘financial and business news’. Today is 27/03/24. When using in web query, then use %d/%m/%y\\n- is_fin_business_query(True/False), recency_importance (High for very volatile, medium for slowly changing stuff like regulations or industry related, and low for very less changing like educational and guides), vague(True/False), web_search_query\\nexample query: best credit cards. example output: 'True,Medium,False,best credit cards 2024 reviews'. Generate the responses for the below user query. No preamble or postamble.\",\n",
       "  'user_prompt': 'best insurance policy for me',\n",
       "  'evaluation': 'True,High,False,best insurance policy for me 27/03/24'})"
      ]
     },
     "execution_count": 3,
     "metadata": {},
     "output_type": "execute_result"
    }
   ],
   "source": [
    "QueryService.understand_query_using_openai('best insurance policy for me')"
   ]
  },
  {
   "cell_type": "code",
   "execution_count": null,
   "id": "1a030880-3648-4f17-8455-6f93f7b06c2d",
   "metadata": {},
   "outputs": [],
   "source": []
  }
 ],
 "metadata": {
  "kernelspec": {
   "display_name": "bertopicenv",
   "language": "python",
   "name": "bertopicenv"
  },
  "language_info": {
   "codemirror_mode": {
    "name": "ipython",
    "version": 3
   },
   "file_extension": ".py",
   "mimetype": "text/x-python",
   "name": "python",
   "nbconvert_exporter": "python",
   "pygments_lexer": "ipython3",
   "version": "3.9.18"
  }
 },
 "nbformat": 4,
 "nbformat_minor": 5
}
