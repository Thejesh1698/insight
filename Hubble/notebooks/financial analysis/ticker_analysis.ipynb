{
 "cells": [
  {
   "cell_type": "code",
   "execution_count": 1,
   "id": "f3fa4fc9-5ae4-4e06-b0d6-4f74fa39bef6",
   "metadata": {
    "tags": []
   },
   "outputs": [],
   "source": [
    "parent_folder = '/Users/ravi.tej/Desktop/ML/Recommendations/hubble/'\n",
    "from hydra import compose, initialize\n",
    "import os\n",
    "\n",
    "import xml.etree.ElementTree as ET\n",
    "\n",
    "tree = ET.parse('../../conf/application.run.xml')\n",
    "root = tree.getroot()\n",
    "\n",
    "envs_element = root.find('./configuration/envs')\n",
    "for variable in envs_element.findall('env'):\n",
    "    name = variable.get('name')\n",
    "    value = variable.get('value')\n",
    "    os.environ[name] = value\n",
    "\n",
    "import sys\n",
    "sys.path.append('/Users/ravi.tej/Desktop/ML/Recommendations/hubble/')\n",
    "import os\n",
    "os.environ['PATH'] = '/Users/ravi.tej/anaconda3/envs/bertopicenv/bin:/Users/ravi.tej/anaconda3/condabin:/usr/bin:/bin:/usr/sbin:/sbin'"
   ]
  },
  {
   "cell_type": "code",
   "execution_count": 2,
   "id": "116c159e-1843-4d38-bed5-73b442e196c7",
   "metadata": {
    "tags": []
   },
   "outputs": [],
   "source": [
    "from sql.PostgresDatabaseOperation import PostgresDatabaseOperation"
   ]
  },
  {
   "cell_type": "code",
   "execution_count": 17,
   "id": "36c3d10e-256c-4b07-9132-a921ed218abb",
   "metadata": {
    "tags": []
   },
   "outputs": [
    {
     "name": "stdout",
     "output_type": "stream",
     "text": [
      "Collecting fuzzywuzzy\n",
      "  Downloading fuzzywuzzy-0.18.0-py2.py3-none-any.whl.metadata (4.9 kB)\n",
      "Downloading fuzzywuzzy-0.18.0-py2.py3-none-any.whl (18 kB)\n",
      "Installing collected packages: fuzzywuzzy\n",
      "Successfully installed fuzzywuzzy-0.18.0\n",
      "\n",
      "\u001b[1m[\u001b[0m\u001b[34;49mnotice\u001b[0m\u001b[1;39;49m]\u001b[0m\u001b[39;49m A new release of pip is available: \u001b[0m\u001b[31;49m23.2.1\u001b[0m\u001b[39;49m -> \u001b[0m\u001b[32;49m24.0\u001b[0m\n",
      "\u001b[1m[\u001b[0m\u001b[34;49mnotice\u001b[0m\u001b[1;39;49m]\u001b[0m\u001b[39;49m To update, run: \u001b[0m\u001b[32;49mpip install --upgrade pip\u001b[0m\n"
     ]
    }
   ],
   "source": [
    "!pip install fuzzywuzzy"
   ]
  },
  {
   "cell_type": "code",
   "execution_count": 54,
   "id": "13d2208e-e476-419e-93e5-0f8445d472f8",
   "metadata": {
    "tags": []
   },
   "outputs": [
    {
     "name": "stdout",
     "output_type": "stream",
     "text": [
      "Requirement already satisfied: fuzzywuzzy[speedup] in /Users/ravi.tej/anaconda3/envs/bertopicenv/lib/python3.9/site-packages (0.18.0)\n",
      "Collecting python-levenshtein>=0.12 (from fuzzywuzzy[speedup])\n",
      "  Downloading python_Levenshtein-0.25.0-py3-none-any.whl.metadata (3.7 kB)\n",
      "Collecting Levenshtein==0.25.0 (from python-levenshtein>=0.12->fuzzywuzzy[speedup])\n",
      "  Downloading Levenshtein-0.25.0-cp39-cp39-macosx_11_0_arm64.whl.metadata (3.3 kB)\n",
      "Collecting rapidfuzz<4.0.0,>=3.1.0 (from Levenshtein==0.25.0->python-levenshtein>=0.12->fuzzywuzzy[speedup])\n",
      "  Downloading rapidfuzz-3.6.2-cp39-cp39-macosx_11_0_arm64.whl.metadata (11 kB)\n",
      "Downloading python_Levenshtein-0.25.0-py3-none-any.whl (9.4 kB)\n",
      "Downloading Levenshtein-0.25.0-cp39-cp39-macosx_11_0_arm64.whl (103 kB)\n",
      "\u001b[2K   \u001b[90m━━━━━━━━━━━━━━━━━━━━━━━━━━━━━━━━━━━━━━━━\u001b[0m \u001b[32m103.9/103.9 kB\u001b[0m \u001b[31m1.2 MB/s\u001b[0m eta \u001b[36m0:00:00\u001b[0m00:01\u001b[0m0:01\u001b[0m\n",
      "\u001b[?25hDownloading rapidfuzz-3.6.2-cp39-cp39-macosx_11_0_arm64.whl (1.2 MB)\n",
      "\u001b[2K   \u001b[90m━━━━━━━━━━━━━━━━━━━━━━━━━━━━━━━━━━━━━━━━\u001b[0m \u001b[32m1.2/1.2 MB\u001b[0m \u001b[31m6.4 MB/s\u001b[0m eta \u001b[36m0:00:00\u001b[0ma \u001b[36m0:00:01\u001b[0m\n",
      "\u001b[?25hInstalling collected packages: rapidfuzz, Levenshtein, python-levenshtein\n",
      "Successfully installed Levenshtein-0.25.0 python-levenshtein-0.25.0 rapidfuzz-3.6.2\n",
      "\n",
      "\u001b[1m[\u001b[0m\u001b[34;49mnotice\u001b[0m\u001b[1;39;49m]\u001b[0m\u001b[39;49m A new release of pip is available: \u001b[0m\u001b[31;49m23.2.1\u001b[0m\u001b[39;49m -> \u001b[0m\u001b[32;49m24.0\u001b[0m\n",
      "\u001b[1m[\u001b[0m\u001b[34;49mnotice\u001b[0m\u001b[1;39;49m]\u001b[0m\u001b[39;49m To update, run: \u001b[0m\u001b[32;49mpip install --upgrade pip\u001b[0m\n"
     ]
    }
   ],
   "source": [
    "!pip install 'fuzzywuzzy[speedup]'"
   ]
  },
  {
   "cell_type": "code",
   "execution_count": 56,
   "id": "4f98f58e-28e1-4615-8cd1-a6845e05bd63",
   "metadata": {
    "tags": []
   },
   "outputs": [],
   "source": [
    "def get_all_symbol_names():\n",
    "    with PostgresDatabaseOperation() as cursor:\n",
    "        sql = 'SELECT DISTINCT symbol, name FROM stock_ticker_info'\n",
    "        cursor.execute(sql)\n",
    "        results = cursor.fetchall()\n",
    "    \n",
    "    return results"
   ]
  },
  {
   "cell_type": "code",
   "execution_count": 157,
   "id": "844828b9-4d68-486b-8ad1-87de2a8b8880",
   "metadata": {
    "tags": []
   },
   "outputs": [],
   "source": [
    "def get_all_company_wise_volume():\n",
    "    with PostgresDatabaseOperation() as cursor:\n",
    "        sql = \"SELECT symbol, AVG(volume * close) FROM stock_history WHERE symbol LIKE '%.NS' AND date > '2024-01-01' GROUP BY symbol\"\n",
    "        cursor.execute(sql)\n",
    "        results = cursor.fetchall()\n",
    "    return results"
   ]
  },
  {
   "cell_type": "code",
   "execution_count": 158,
   "id": "b8e5bceb-34ef-40a1-bc4d-a72fc62ad8bf",
   "metadata": {
    "tags": []
   },
   "outputs": [],
   "source": [
    "avg_volume_details = get_all_company_wise_volume()"
   ]
  },
  {
   "cell_type": "code",
   "execution_count": 129,
   "id": "37fc4cc3-4656-4029-a1c6-b103213ca9c8",
   "metadata": {
    "tags": []
   },
   "outputs": [],
   "source": [
    "import numpy as np"
   ]
  },
  {
   "cell_type": "code",
   "execution_count": 159,
   "id": "4b16a69b-5529-4de4-8587-8a119abc1a74",
   "metadata": {
    "tags": []
   },
   "outputs": [
    {
     "name": "stderr",
     "output_type": "stream",
     "text": [
      "/var/folders/d4/cgyr_gnj7nn2wy_hq40gkq8c0000gq/T/ipykernel_96454/1270495777.py:1: RuntimeWarning: divide by zero encountered in log2\n",
      "  volume_dict = {x[0]: {'abs': float(x[1]), 'log': np.log2(float(x[1]))} for x in avg_volume_details}\n"
     ]
    }
   ],
   "source": [
    "volume_dict = {x[0]: {'abs': float(x[1]), 'log': np.log2(float(x[1]))} for x in avg_volume_details}"
   ]
  },
  {
   "cell_type": "code",
   "execution_count": 116,
   "id": "3928384f-5e03-4a7f-802e-af565f410f40",
   "metadata": {
    "tags": []
   },
   "outputs": [],
   "source": [
    "import pandas as pd"
   ]
  },
  {
   "cell_type": "code",
   "execution_count": 160,
   "id": "d8269ca3-c235-4433-8dfb-9279a87a1c21",
   "metadata": {
    "scrolled": true,
    "tags": []
   },
   "outputs": [],
   "source": [
    "volume_df = pd.DataFrame(avg_volume_details, columns = ['symbol', 'avg_volume']).set_index('symbol').reset_index()"
   ]
  },
  {
   "cell_type": "code",
   "execution_count": 167,
   "id": "c1f4b1db-26ad-4ced-a373-97cda8dc91d2",
   "metadata": {
    "tags": []
   },
   "outputs": [],
   "source": [
    "volume_df['log_volume'] = volume_df['avg_volume'].apply(lambda x: np.log2(float(x))/np.log2(1.5) if float(x) > 1 else 1)"
   ]
  },
  {
   "cell_type": "code",
   "execution_count": 168,
   "id": "822d0d92-7709-4c22-b456-41e76a7307b4",
   "metadata": {
    "tags": []
   },
   "outputs": [
    {
     "data": {
      "text/html": [
       "<div>\n",
       "<style scoped>\n",
       "    .dataframe tbody tr th:only-of-type {\n",
       "        vertical-align: middle;\n",
       "    }\n",
       "\n",
       "    .dataframe tbody tr th {\n",
       "        vertical-align: top;\n",
       "    }\n",
       "\n",
       "    .dataframe thead th {\n",
       "        text-align: right;\n",
       "    }\n",
       "</style>\n",
       "<table border=\"1\" class=\"dataframe\">\n",
       "  <thead>\n",
       "    <tr style=\"text-align: right;\">\n",
       "      <th></th>\n",
       "      <th>symbol</th>\n",
       "      <th>avg_volume</th>\n",
       "      <th>log_volume</th>\n",
       "    </tr>\n",
       "  </thead>\n",
       "  <tbody>\n",
       "    <tr>\n",
       "      <th>0</th>\n",
       "      <td>20MICRONS.NS</td>\n",
       "      <td>30719768.17615295508091</td>\n",
       "      <td>42.520100</td>\n",
       "    </tr>\n",
       "    <tr>\n",
       "      <th>1</th>\n",
       "      <td>21STCENMGM.NS</td>\n",
       "      <td>301008.914794998170304</td>\n",
       "      <td>31.112160</td>\n",
       "    </tr>\n",
       "    <tr>\n",
       "      <th>2</th>\n",
       "      <td>3IINFOLTD.NS</td>\n",
       "      <td>161305952.576985397372464</td>\n",
       "      <td>46.610209</td>\n",
       "    </tr>\n",
       "    <tr>\n",
       "      <th>3</th>\n",
       "      <td>3MINDIA.NS</td>\n",
       "      <td>160494037.199101563</td>\n",
       "      <td>46.597764</td>\n",
       "    </tr>\n",
       "    <tr>\n",
       "      <th>4</th>\n",
       "      <td>3PLAND.NS</td>\n",
       "      <td>2059614.987348632803598</td>\n",
       "      <td>35.855193</td>\n",
       "    </tr>\n",
       "    <tr>\n",
       "      <th>...</th>\n",
       "      <td>...</td>\n",
       "      <td>...</td>\n",
       "      <td>...</td>\n",
       "    </tr>\n",
       "    <tr>\n",
       "      <th>1799</th>\n",
       "      <td>ZODIAC.NS</td>\n",
       "      <td>5687203.40596631106407</td>\n",
       "      <td>38.360216</td>\n",
       "    </tr>\n",
       "    <tr>\n",
       "      <th>1800</th>\n",
       "      <td>ZOMATO.NS</td>\n",
       "      <td>9866556384.38835288761918</td>\n",
       "      <td>56.755603</td>\n",
       "    </tr>\n",
       "    <tr>\n",
       "      <th>1801</th>\n",
       "      <td>ZOTA.NS</td>\n",
       "      <td>18296907.87303894009319</td>\n",
       "      <td>41.242125</td>\n",
       "    </tr>\n",
       "    <tr>\n",
       "      <th>1802</th>\n",
       "      <td>ZUARI.NS</td>\n",
       "      <td>153157835.41733276448707</td>\n",
       "      <td>46.482371</td>\n",
       "    </tr>\n",
       "    <tr>\n",
       "      <th>1803</th>\n",
       "      <td>ZYDUSWELL.NS</td>\n",
       "      <td>68383610.1598266601563</td>\n",
       "      <td>44.493702</td>\n",
       "    </tr>\n",
       "  </tbody>\n",
       "</table>\n",
       "<p>1804 rows × 3 columns</p>\n",
       "</div>"
      ],
      "text/plain": [
       "             symbol                 avg_volume  log_volume\n",
       "0      20MICRONS.NS    30719768.17615295508091   42.520100\n",
       "1     21STCENMGM.NS     301008.914794998170304   31.112160\n",
       "2      3IINFOLTD.NS  161305952.576985397372464   46.610209\n",
       "3        3MINDIA.NS        160494037.199101563   46.597764\n",
       "4         3PLAND.NS    2059614.987348632803598   35.855193\n",
       "...             ...                        ...         ...\n",
       "1799      ZODIAC.NS     5687203.40596631106407   38.360216\n",
       "1800      ZOMATO.NS  9866556384.38835288761918   56.755603\n",
       "1801        ZOTA.NS    18296907.87303894009319   41.242125\n",
       "1802       ZUARI.NS   153157835.41733276448707   46.482371\n",
       "1803   ZYDUSWELL.NS     68383610.1598266601563   44.493702\n",
       "\n",
       "[1804 rows x 3 columns]"
      ]
     },
     "execution_count": 168,
     "metadata": {},
     "output_type": "execute_result"
    }
   ],
   "source": [
    "volume_df"
   ]
  },
  {
   "cell_type": "code",
   "execution_count": 23,
   "id": "486bc938-388a-4934-b36b-c44d8293388d",
   "metadata": {
    "tags": []
   },
   "outputs": [],
   "source": [
    "symbol_names = get_all_symbol_names()"
   ]
  },
  {
   "cell_type": "code",
   "execution_count": 322,
   "id": "ccadc9df-dd33-4d11-811f-d03f43113354",
   "metadata": {
    "tags": []
   },
   "outputs": [],
   "source": [
    "symbol_name_mapping = {x[0]: x[1] for x in symbol_names}"
   ]
  },
  {
   "cell_type": "code",
   "execution_count": 323,
   "id": "b0c2533c-2117-4962-9a71-4cf0778575bf",
   "metadata": {
    "tags": []
   },
   "outputs": [
    {
     "data": {
      "text/plain": [
       "5422"
      ]
     },
     "execution_count": 323,
     "metadata": {},
     "output_type": "execute_result"
    }
   ],
   "source": [
    "len(symbol_name_mapping)"
   ]
  },
  {
   "cell_type": "code",
   "execution_count": 55,
   "id": "1c869997-35f2-48aa-bd62-a82cbdca3e45",
   "metadata": {
    "tags": []
   },
   "outputs": [],
   "source": [
    "from fuzzywuzzy import process, fuzz"
   ]
  },
  {
   "cell_type": "code",
   "execution_count": 80,
   "id": "40a5735a-2b9f-4e64-a8d8-57aecaba61df",
   "metadata": {
    "tags": []
   },
   "outputs": [],
   "source": [
    "name_to_symbol = {}"
   ]
  },
  {
   "cell_type": "code",
   "execution_count": 81,
   "id": "4fa7b50c-b89f-422b-94e5-390236372872",
   "metadata": {
    "tags": []
   },
   "outputs": [],
   "source": [
    "for sym, name in symbol_names:\n",
    "    if sym.split('.')[1] == 'NS':\n",
    "        if name in symbol_names:\n",
    "            name_to_symbol[name].append(sym)\n",
    "        else:\n",
    "            name_to_symbol[name] = [sym]"
   ]
  },
  {
   "cell_type": "code",
   "execution_count": 90,
   "id": "46cd7a61-bd09-4898-bd46-8fc711441aa5",
   "metadata": {
    "tags": []
   },
   "outputs": [
    {
     "data": {
      "text/plain": [
       "1931"
      ]
     },
     "execution_count": 90,
     "metadata": {},
     "output_type": "execute_result"
    }
   ],
   "source": [
    "len(name_to_symbol)"
   ]
  },
  {
   "cell_type": "code",
   "execution_count": 82,
   "id": "e70a8437-23d6-45b1-b043-25b50942e7a9",
   "metadata": {
    "tags": []
   },
   "outputs": [],
   "source": [
    "distinct_names = list(name_to_symbol.keys())"
   ]
  },
  {
   "cell_type": "code",
   "execution_count": 106,
   "id": "07f01df1-b4ca-44a8-aaaf-8bec707f44a6",
   "metadata": {
    "tags": []
   },
   "outputs": [],
   "source": [
    "distinct_symbols = [x[0] for x in symbol_names if '.NS' in x[0]]"
   ]
  },
  {
   "cell_type": "code",
   "execution_count": null,
   "id": "93353ac1-731a-4bc1-ad67-a0a16649c508",
   "metadata": {},
   "outputs": [],
   "source": []
  },
  {
   "cell_type": "code",
   "execution_count": 326,
   "id": "3c9e5643-6207-467b-a40a-8f9563b6db26",
   "metadata": {
    "tags": []
   },
   "outputs": [],
   "source": [
    "symbol_name_combo = []\n",
    "for sym in distinct_symbols:\n",
    "    symbol_name_combo.append(sym.strip('.NS') + ': ' + symbol_name_mapping[sym])"
   ]
  },
  {
   "cell_type": "code",
   "execution_count": 330,
   "id": "9f01ecf8-c68f-439d-843b-c44b9e53f29a",
   "metadata": {
    "tags": []
   },
   "outputs": [],
   "source": [
    "name_symbol_combo_mapping = {x: x.split(':')[0] for x in symbol_name_combo}"
   ]
  },
  {
   "cell_type": "code",
   "execution_count": 332,
   "id": "0bb6adaa-9aea-46b7-b576-1d3e904a9fb2",
   "metadata": {
    "tags": []
   },
   "outputs": [],
   "source": [
    "def get_symbol_for_name(name):\n",
    "    k = process.extract(name, distinct_names)\n",
    "    p = process.extract(name, distinct_symbols)\n",
    "    symbols_matched = []\n",
    "    for name_match, score in k:\n",
    "        symbols_matched.extend([(cur_symbol,score) for cur_symbol in name_to_symbol[name_match]])\n",
    "    # sym = name_to_symbol[matching_name][0]\n",
    "    matches = pd.DataFrame(symbols_matched + p, columns = ['symbol', 'matching_score'])\n",
    "    matches = pd.merge(matches, volume_df, how = 'left', on = 'symbol')\n",
    "    matches['score'] = matches['matching_score'] * matches['log_volume']\n",
    "    return matches[matches['matching_score'] > 75].nlargest(5, 'score')"
   ]
  },
  {
   "cell_type": "code",
   "execution_count": 333,
   "id": "6a10abd1-f272-4178-80be-b63acc953541",
   "metadata": {
    "tags": []
   },
   "outputs": [],
   "source": [
    "import time"
   ]
  },
  {
   "cell_type": "code",
   "execution_count": 340,
   "id": "82b3430f-e1e9-41de-a4ab-0ad81dd3c9f5",
   "metadata": {
    "tags": []
   },
   "outputs": [
    {
     "data": {
      "text/plain": [
       "[('SBIETFQLTY.NS', 90),\n",
       " ('SBILIFE.NS', 90),\n",
       " ('SBIN.NS', 90),\n",
       " ('KREBSBIO.NS', 90),\n",
       " ('SBIETFPB.NS', 90)]"
      ]
     },
     "execution_count": 340,
     "metadata": {},
     "output_type": "execute_result"
    }
   ],
   "source": [
    "process.extract('SBI', distinct_symbols)"
   ]
  },
  {
   "cell_type": "code",
   "execution_count": 334,
   "id": "401882e7-de91-4656-8e27-cd77cb1652bc",
   "metadata": {
    "tags": []
   },
   "outputs": [],
   "source": [
    "s = time.time()\n",
    "k = get_symbol_for_name('SBI')\n",
    "e = time.time()"
   ]
  },
  {
   "cell_type": "code",
   "execution_count": 335,
   "id": "f948bf66-bc75-4715-b67c-98078e3378c3",
   "metadata": {
    "tags": []
   },
   "outputs": [
    {
     "data": {
      "text/html": [
       "<div>\n",
       "<style scoped>\n",
       "    .dataframe tbody tr th:only-of-type {\n",
       "        vertical-align: middle;\n",
       "    }\n",
       "\n",
       "    .dataframe tbody tr th {\n",
       "        vertical-align: top;\n",
       "    }\n",
       "\n",
       "    .dataframe thead th {\n",
       "        text-align: right;\n",
       "    }\n",
       "</style>\n",
       "<table border=\"1\" class=\"dataframe\">\n",
       "  <thead>\n",
       "    <tr style=\"text-align: right;\">\n",
       "      <th></th>\n",
       "      <th>symbol</th>\n",
       "      <th>matching_score</th>\n",
       "      <th>avg_volume</th>\n",
       "      <th>log_volume</th>\n",
       "      <th>score</th>\n",
       "    </tr>\n",
       "  </thead>\n",
       "  <tbody>\n",
       "  </tbody>\n",
       "</table>\n",
       "</div>"
      ],
      "text/plain": [
       "Empty DataFrame\n",
       "Columns: [symbol, matching_score, avg_volume, log_volume, score]\n",
       "Index: []"
      ]
     },
     "execution_count": 335,
     "metadata": {},
     "output_type": "execute_result"
    }
   ],
   "source": [
    "k"
   ]
  },
  {
   "cell_type": "code",
   "execution_count": 336,
   "id": "4ed6db21-d9de-45ca-b06d-0e9d07e060af",
   "metadata": {
    "tags": []
   },
   "outputs": [
    {
     "data": {
      "text/plain": [
       "0.18636512756347656"
      ]
     },
     "execution_count": 336,
     "metadata": {},
     "output_type": "execute_result"
    }
   ],
   "source": [
    "e - s"
   ]
  },
  {
   "cell_type": "code",
   "execution_count": 295,
   "id": "dc161daa-6504-4fa6-8a2e-98f0f0cb1c34",
   "metadata": {
    "tags": []
   },
   "outputs": [],
   "source": [
    "def get_stock_prices_between_dates(symbol, time_period='3 month'):\n",
    "    with PostgresDatabaseOperation() as cursor:\n",
    "        sql = f\"SELECT date, symbol, close FROM stock_history_latest WHERE symbol in ('{symbol}', '^NSEI') AND date >= CURRENT_DATE - INTERVAL '{time_period}'\"\n",
    "        cursor.execute(sql)\n",
    "        results = cursor.fetchall()\n",
    "    return results\n",
    "\n",
    "def get_avg_stock_prices_between_dates(symbols, time_period='3 month'):\n",
    "    with PostgresDatabaseOperation() as cursor:\n",
    "        sql = f\"SELECT symbol, avg(close) FROM stock_history_latest WHERE symbol in ('{symbol}', '^NSEI') AND date >= CURRENT_DATE - INTERVAL '{time_period}' GROUP BY symbol\"\n",
    "        cursor.execute(sql)\n",
    "        results = cursor.fetchall()\n",
    "    return results\n",
    "\n",
    "def beta_calculation_query(symbols, time_period='1 year'):\n",
    "    market_symbol = '^NSEI'  # NSE Index symbol\n",
    "    symbol_string = ','.join(f\"'{sym}'\" for sym in symbols)\n",
    "\n",
    "    stock_returns_subquery = f\"\"\"\n",
    "    SELECT symbol, \n",
    "           date, \n",
    "           (close - LAG(close, 1) OVER (PARTITION BY symbol ORDER BY date)) / LAG(close, 1) OVER (PARTITION BY symbol ORDER BY date) AS daily_return\n",
    "    FROM stock_history\n",
    "    WHERE symbol IN ({symbol_string}) AND date >= CURRENT_DATE - INTERVAL '{time_period}'\n",
    "    \"\"\"\n",
    "\n",
    "    market_returns_subquery = f\"\"\"\n",
    "    SELECT date, \n",
    "           (close - LAG(close, 1) OVER (ORDER BY date)) / LAG(close, 1) OVER (ORDER BY date) AS daily_return\n",
    "    FROM stock_history\n",
    "    WHERE symbol = '{market_symbol}' AND date >= CURRENT_DATE - INTERVAL '{time_period}'\n",
    "    \"\"\"\n",
    "\n",
    "    # Assuming you want to calculate beta for each stock symbol against the market index\n",
    "    beta_query = f\"\"\"\n",
    "    SELECT s.symbol, \n",
    "           (COVAR_SAMP(s.daily_return, m.daily_return) / VAR_SAMP(m.daily_return)) AS beta\n",
    "    FROM ({stock_returns_subquery}) s\n",
    "    INNER JOIN ({market_returns_subquery}) m ON s.date = m.date\n",
    "    GROUP BY s.symbol\n",
    "    \"\"\"\n",
    "    \n",
    "    with PostgresDatabaseOperation() as cursor:\n",
    "        cursor.execute(beta_query)\n",
    "        results = cursor.fetchall()\n",
    "    return results"
   ]
  },
  {
   "cell_type": "code",
   "execution_count": 306,
   "id": "da1021f8-af9e-49ab-bbd9-e5768a58fba2",
   "metadata": {
    "tags": []
   },
   "outputs": [
    {
     "data": {
      "text/plain": [
       "[('RELIANCE.NS', 1.4161375296355334), ('TCS.NS', 0.5823065152971731)]"
      ]
     },
     "execution_count": 306,
     "metadata": {},
     "output_type": "execute_result"
    }
   ],
   "source": [
    "beta_calculation_query(['TCS.NS', 'RELIANCE.NS'],time_period='10 week')"
   ]
  },
  {
   "cell_type": "code",
   "execution_count": 290,
   "id": "c4aba3e4-a59c-4197-b218-6cdf35650a97",
   "metadata": {
    "tags": []
   },
   "outputs": [],
   "source": [
    "def get_volatility(symbols, time_period='3 month', sort_order='ASC'):\n",
    "    with PostgresDatabaseOperation() as cursor:\n",
    "        symbols = symbols[:5]\n",
    "        if symbols:\n",
    "            symbol_string = ''\n",
    "            for sym in symbols:\n",
    "                symbol_string = symbol_string + f\"'{sym}',\"\n",
    "            symbol_string = symbol_string.strip(',')\n",
    "            sql = f\"\"\"\n",
    "            SELECT symbol, STDDEV(close) AS volatility\n",
    "            FROM stock_history\n",
    "            WHERE date >= CURRENT_DATE - INTERVAL '{time_period}'\n",
    "                  AND symbol in ({symbol_string})\n",
    "            GROUP BY symbol\n",
    "            ORDER BY volatility {sort_order};\n",
    "            \"\"\"\n",
    "        else:\n",
    "            sql = f\"\"\"\n",
    "            SELECT symbol, STDDEV(close) AS volatility\n",
    "            FROM stock_history\n",
    "            WHERE date >= CURRENT_DATE - INTERVAL '{time_period}'\n",
    "            GROUP BY symbol\n",
    "            ORDER BY volatility {sort_order};\n",
    "            \"\"\"\n",
    "        cursor.execute(sql)\n",
    "        results = cursor.fetchall()\n",
    "    return results"
   ]
  },
  {
   "cell_type": "code",
   "execution_count": 285,
   "id": "7966e895-a493-43ad-a046-48e21699b316",
   "metadata": {
    "tags": []
   },
   "outputs": [],
   "source": [
    "def get_stocks_price_between_dates(symbols, time_period='3 month'):\n",
    "    symbol_string = ''\n",
    "    for sym in symbols:\n",
    "        symbol_string = symbol_string + f\"'{sym}',\"\n",
    "    symbol_string = symbol_string.strip(',')\n",
    "    with PostgresDatabaseOperation() as cursor:\n",
    "        sql = f\"SELECT date, symbol, close FROM stock_history_latest WHERE symbol in ({symbol_string}) AND date >= '{start_date}' AND date <= '{end_date}'\"\n",
    "        cursor.execute(sql)\n",
    "        results = cursor.fetchall()\n",
    "    return results"
   ]
  },
  {
   "cell_type": "code",
   "execution_count": 277,
   "id": "5671187c-b6bb-4305-9efe-7f95cad6cdd9",
   "metadata": {
    "tags": []
   },
   "outputs": [],
   "source": [
    "s = time.time()\n",
    "k = get_stocks_price_between_dates(['TCS.NS'], \"2024-01-01\", \"2024-03-05\")\n",
    "e = time.time()"
   ]
  },
  {
   "cell_type": "code",
   "execution_count": 238,
   "id": "efaaf418-673f-49c7-9870-3b1bbffb3e66",
   "metadata": {
    "tags": []
   },
   "outputs": [],
   "source": [
    "s = time.time()\n",
    "k = get_stock_NSE_details_between_dates('TCS.NS', \"2024-01-01\", \"2024-03-05\")\n",
    "e = time.time()"
   ]
  },
  {
   "cell_type": "code",
   "execution_count": 291,
   "id": "fdd6ea00-332f-426a-8253-b48a587623c8",
   "metadata": {
    "tags": []
   },
   "outputs": [],
   "source": [
    "k = get_volatility(['TCS.NS', '^NSEI'])"
   ]
  },
  {
   "cell_type": "code",
   "execution_count": 292,
   "id": "703cd173-4c5f-437b-9959-869b91eeb16c",
   "metadata": {
    "tags": []
   },
   "outputs": [
    {
     "data": {
      "text/plain": [
       "[('TCS.NS', Decimal('157.603957401251119946394018')),\n",
       " ('^NSEI', Decimal('331.969166741157182522'))]"
      ]
     },
     "execution_count": 292,
     "metadata": {},
     "output_type": "execute_result"
    }
   ],
   "source": [
    "k"
   ]
  },
  {
   "cell_type": "code",
   "execution_count": 231,
   "id": "21788b23-f051-4640-bff2-01e43ab7f6fe",
   "metadata": {
    "tags": []
   },
   "outputs": [
    {
     "data": {
      "text/plain": [
       "'2024-01-01'"
      ]
     },
     "execution_count": 231,
     "metadata": {},
     "output_type": "execute_result"
    }
   ],
   "source": [
    "k[0][0].strftime('%Y-%m-%d')"
   ]
  },
  {
   "cell_type": "code",
   "execution_count": 241,
   "id": "702bb429-9f42-4da9-8e41-a455d6bd8ec4",
   "metadata": {
    "tags": []
   },
   "outputs": [],
   "source": [
    "kdf = pd.DataFrame(k, columns = ['date', 'symbol', 'price'])"
   ]
  },
  {
   "cell_type": "code",
   "execution_count": 261,
   "id": "fcea1fd5-cf63-4c1c-8529-739dc521e59b",
   "metadata": {
    "tags": []
   },
   "outputs": [],
   "source": [
    "kdf_pivot = pd.pivot_table(kdf, index = 'date', columns = 'symbol', values='price',aggfunc='max').reset_index()"
   ]
  },
  {
   "cell_type": "code",
   "execution_count": 262,
   "id": "b3747453-0099-4cd6-83d5-e4e4b0e9636d",
   "metadata": {
    "tags": []
   },
   "outputs": [],
   "source": [
    "kdf_pivot['TCS.NS'] = kdf_pivot['TCS.NS'].astype('float')\n",
    "kdf_pivot['^NSEI'] = kdf_pivot['^NSEI'].astype('float')"
   ]
  },
  {
   "cell_type": "code",
   "execution_count": 260,
   "id": "8007f777-04d6-4323-b5b2-346fa47c4e93",
   "metadata": {
    "tags": []
   },
   "outputs": [
    {
     "name": "stdout",
     "output_type": "stream",
     "text": [
      "2024-01-02\n"
     ]
    }
   ],
   "source": [
    "from datetime import datetime, timedelta\n",
    "\n",
    "def add_time_to_datetime(dt_input):\n",
    "    # Add 5 hours and 30 minutes to the input datetime\n",
    "    new_dt = dt_input + timedelta(hours=5, minutes=30)\n",
    "\n",
    "    # Convert the resulting datetime back to a string\n",
    "    new_date_str = new_dt.strftime('%Y-%m-%d')\n",
    "\n",
    "    return new_date_str\n",
    "\n",
    "# Example usage\n",
    "date_str = \"2024-01-01 18:30:00+00:00\"\n",
    "dt_input = datetime.fromisoformat(date_str)\n",
    "new_date_str = add_time_to_datetime(dt_input)\n",
    "print(new_date_str)"
   ]
  },
  {
   "cell_type": "code",
   "execution_count": 263,
   "id": "e8737568-be29-4566-847f-4ef2e0f5ef3b",
   "metadata": {
    "tags": []
   },
   "outputs": [],
   "source": [
    "kdf_pivot['date'] = kdf_pivot['date'].apply(lambda x: add_time_to_datetime(x))"
   ]
  },
  {
   "cell_type": "code",
   "execution_count": 264,
   "id": "89f33c9a-da8e-4c7d-aa3d-5c7cb01a053c",
   "metadata": {
    "scrolled": true,
    "tags": []
   },
   "outputs": [
    {
     "data": {
      "text/plain": [
       "{'date': ['2024-01-02',\n",
       "  '2024-01-03',\n",
       "  '2024-01-04',\n",
       "  '2024-01-05',\n",
       "  '2024-01-08',\n",
       "  '2024-01-09',\n",
       "  '2024-01-10',\n",
       "  '2024-01-11',\n",
       "  '2024-01-12',\n",
       "  '2024-01-15',\n",
       "  '2024-01-16',\n",
       "  '2024-01-17',\n",
       "  '2024-01-18',\n",
       "  '2024-01-19',\n",
       "  '2024-01-23',\n",
       "  '2024-01-24',\n",
       "  '2024-01-25',\n",
       "  '2024-01-29',\n",
       "  '2024-01-30',\n",
       "  '2024-01-31',\n",
       "  '2024-02-01',\n",
       "  '2024-02-02',\n",
       "  '2024-02-05',\n",
       "  '2024-02-06',\n",
       "  '2024-02-07',\n",
       "  '2024-02-08',\n",
       "  '2024-02-09',\n",
       "  '2024-02-12',\n",
       "  '2024-02-13',\n",
       "  '2024-02-14',\n",
       "  '2024-02-15',\n",
       "  '2024-02-16',\n",
       "  '2024-02-19',\n",
       "  '2024-02-20',\n",
       "  '2024-02-21',\n",
       "  '2024-02-22',\n",
       "  '2024-02-23',\n",
       "  '2024-02-26',\n",
       "  '2024-02-27',\n",
       "  '2024-02-28',\n",
       "  '2024-02-29',\n",
       "  '2024-03-01',\n",
       "  '2024-03-04',\n",
       "  '2024-03-05'],\n",
       " 'TCS.NS': [3783.199951171875,\n",
       "  3691.75,\n",
       "  3666.800048828125,\n",
       "  3737.89990234375,\n",
       "  3678.300048828125,\n",
       "  3689.89990234375,\n",
       "  3713.050048828125,\n",
       "  3735.550048828125,\n",
       "  3882.800048828125,\n",
       "  3903.800048828125,\n",
       "  3861.300048828125,\n",
       "  3884.60009765625,\n",
       "  3902.60009765625,\n",
       "  3943.050048828125,\n",
       "  3858.25,\n",
       "  3841.800048828125,\n",
       "  3810.300048828125,\n",
       "  3801.0,\n",
       "  3800.550048828125,\n",
       "  3815.949951171875,\n",
       "  3854.14990234375,\n",
       "  3966.300048828125,\n",
       "  3973.300048828125,\n",
       "  4136.0,\n",
       "  4083.39990234375,\n",
       "  4134.10009765625,\n",
       "  4133.7001953125,\n",
       "  4120.7001953125,\n",
       "  4149.5,\n",
       "  4100.10009765625,\n",
       "  4103.2001953125,\n",
       "  4128.2998046875,\n",
       "  4103.7998046875,\n",
       "  4030.64990234375,\n",
       "  3991.5,\n",
       "  4087.10009765625,\n",
       "  4052.10009765625,\n",
       "  4001.050048828125,\n",
       "  4104.39990234375,\n",
       "  4118.9501953125,\n",
       "  4095.10009765625,\n",
       "  4094.35009765625,\n",
       "  4080.699951171875,\n",
       "  4012.10009765625],\n",
       " '^NSEI': [21665.80078125,\n",
       "  21517.349609375,\n",
       "  21658.599609375,\n",
       "  21710.80078125,\n",
       "  21513.0,\n",
       "  21544.849609375,\n",
       "  21618.69921875,\n",
       "  21647.19921875,\n",
       "  21894.55078125,\n",
       "  22097.44921875,\n",
       "  22032.30078125,\n",
       "  21571.94921875,\n",
       "  21462.25,\n",
       "  21622.400390625,\n",
       "  21238.80078125,\n",
       "  21453.94921875,\n",
       "  21352.599609375,\n",
       "  21737.599609375,\n",
       "  21522.099609375,\n",
       "  21725.69921875,\n",
       "  21697.44921875,\n",
       "  21853.80078125,\n",
       "  21771.69921875,\n",
       "  21929.400390625,\n",
       "  21930.5,\n",
       "  21717.94921875,\n",
       "  21782.5,\n",
       "  21616.05078125,\n",
       "  21743.25,\n",
       "  21840.05078125,\n",
       "  21910.75,\n",
       "  22040.69921875,\n",
       "  22122.25,\n",
       "  22196.94921875,\n",
       "  22055.05078125,\n",
       "  22217.44921875,\n",
       "  22212.69921875,\n",
       "  22122.05078125,\n",
       "  22198.349609375,\n",
       "  21951.150390625,\n",
       "  21982.80078125,\n",
       "  22338.75,\n",
       "  22405.599609375,\n",
       "  22356.30078125]}"
      ]
     },
     "execution_count": 264,
     "metadata": {},
     "output_type": "execute_result"
    }
   ],
   "source": [
    "kdf_pivot.to_dict('list')"
   ]
  },
  {
   "cell_type": "code",
   "execution_count": 268,
   "id": "f04f9ee0-e7e6-4626-ba4f-ee8254e2c59e",
   "metadata": {
    "tags": []
   },
   "outputs": [
    {
     "data": {
      "text/plain": [
       "{'TCS.NS': 3946.7500277432528, '^NSEI': 21831.396528764206}"
      ]
     },
     "execution_count": 268,
     "metadata": {},
     "output_type": "execute_result"
    }
   ],
   "source": [
    "kdf_pivot[['TCS.NS', '^NSEI']].mean().to_dict()"
   ]
  },
  {
   "cell_type": "code",
   "execution_count": 251,
   "id": "5eb9e60e-a953-4246-b77d-4914e793fd65",
   "metadata": {
    "tags": []
   },
   "outputs": [
    {
     "data": {
      "text/plain": [
       "0.3376281261444092"
      ]
     },
     "execution_count": 251,
     "metadata": {},
     "output_type": "execute_result"
    }
   ],
   "source": [
    "e - s"
   ]
  },
  {
   "cell_type": "code",
   "execution_count": null,
   "id": "52635789-9bbd-44f3-9ab1-99c4c1334991",
   "metadata": {},
   "outputs": [],
   "source": []
  }
 ],
 "metadata": {
  "kernelspec": {
   "display_name": "bertopicenv",
   "language": "python",
   "name": "bertopicenv"
  },
  "language_info": {
   "codemirror_mode": {
    "name": "ipython",
    "version": 3
   },
   "file_extension": ".py",
   "mimetype": "text/x-python",
   "name": "python",
   "nbconvert_exporter": "python",
   "pygments_lexer": "ipython3",
   "version": "3.9.18"
  }
 },
 "nbformat": 4,
 "nbformat_minor": 5
}
