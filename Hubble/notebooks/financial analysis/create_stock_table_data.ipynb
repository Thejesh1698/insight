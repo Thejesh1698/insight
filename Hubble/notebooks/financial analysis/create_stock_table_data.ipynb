{
 "cells": [
  {
   "cell_type": "code",
   "execution_count": 214,
   "id": "c7b33d67-ff8c-4da1-9e83-255fb498f443",
   "metadata": {
    "tags": []
   },
   "outputs": [],
   "source": [
    "parent_folder = '/Users/ravi.tej/Desktop/ML/Recommendations/hubble/'\n",
    "from hydra import compose, initialize\n",
    "import os\n",
    "\n",
    "import xml.etree.ElementTree as ET\n",
    "\n",
    "tree = ET.parse('../../conf/application.run.xml')\n",
    "root = tree.getroot()\n",
    "\n",
    "envs_element = root.find('./configuration/envs')\n",
    "for variable in envs_element.findall('env'):\n",
    "    name = variable.get('name')\n",
    "    value = variable.get('value')\n",
    "    os.environ[name] = value\n",
    "\n",
    "import sys\n",
    "sys.path.append('/Users/ravi.tej/Desktop/ML/Recommendations/hubble/')\n",
    "import os\n",
    "os.environ['PATH'] = '/Users/ravi.tej/anaconda3/envs/bertopicenv/bin:/Users/ravi.tej/anaconda3/condabin:/usr/bin:/bin:/usr/sbin:/sbin'"
   ]
  },
  {
   "cell_type": "markdown",
   "id": "6aabb0d7-ab18-4cff-b6fc-c5e30f379527",
   "metadata": {},
   "source": [
    "### Fetching all stock symbols"
   ]
  },
  {
   "cell_type": "code",
   "execution_count": 10,
   "id": "20afc61e-a32e-403e-90e1-7de946b2fc5a",
   "metadata": {
    "tags": []
   },
   "outputs": [
    {
     "name": "stdout",
     "output_type": "stream",
     "text": [
      "Collecting stocksymbol\n",
      "  Downloading stocksymbol-0.0.5-py3-none-any.whl.metadata (1.8 kB)\n",
      "Downloading stocksymbol-0.0.5-py3-none-any.whl (3.6 kB)\n",
      "Installing collected packages: stocksymbol\n",
      "Successfully installed stocksymbol-0.0.5\n",
      "\n",
      "\u001b[1m[\u001b[0m\u001b[34;49mnotice\u001b[0m\u001b[1;39;49m]\u001b[0m\u001b[39;49m A new release of pip is available: \u001b[0m\u001b[31;49m23.2.1\u001b[0m\u001b[39;49m -> \u001b[0m\u001b[32;49m24.0\u001b[0m\n",
      "\u001b[1m[\u001b[0m\u001b[34;49mnotice\u001b[0m\u001b[1;39;49m]\u001b[0m\u001b[39;49m To update, run: \u001b[0m\u001b[32;49mpip install --upgrade pip\u001b[0m\n"
     ]
    }
   ],
   "source": [
    "!pip install stocksymbol"
   ]
  },
  {
   "cell_type": "code",
   "execution_count": 10,
   "id": "3e45a578-5233-482b-9765-1f4b52e6f628",
   "metadata": {
    "tags": []
   },
   "outputs": [],
   "source": [
    "from stocksymbol import StockSymbol\n",
    "\n",
    "api_key = '40699df2-f439-46e6-beab-5d9bca1c434c'\n",
    "ss = StockSymbol(api_key)"
   ]
  },
  {
   "cell_type": "code",
   "execution_count": 11,
   "id": "fc2e3f50-c75b-4dc6-b9c1-56c24360b794",
   "metadata": {
    "tags": []
   },
   "outputs": [],
   "source": [
    "symbol_list_us = ss.get_symbol_list(market=\"india\") # \"us\" or \"america\" will also work"
   ]
  },
  {
   "cell_type": "code",
   "execution_count": 12,
   "id": "a54d56d0-b632-4f66-a61b-e45b08d1a5f6",
   "metadata": {
    "tags": []
   },
   "outputs": [
    {
     "data": {
      "text/plain": [
       "5910"
      ]
     },
     "execution_count": 12,
     "metadata": {},
     "output_type": "execute_result"
    }
   ],
   "source": [
    "len(symbol_list_us)"
   ]
  },
  {
   "cell_type": "code",
   "execution_count": 13,
   "id": "3f7aaffc-9c91-4579-8b14-55eda67fcdaa",
   "metadata": {
    "tags": []
   },
   "outputs": [],
   "source": [
    "import pandas as pd"
   ]
  },
  {
   "cell_type": "code",
   "execution_count": 14,
   "id": "29b57898-3c05-408a-b189-c6d587586b2c",
   "metadata": {
    "tags": []
   },
   "outputs": [],
   "source": [
    "df = pd.DataFrame(symbol_list_us)"
   ]
  },
  {
   "cell_type": "code",
   "execution_count": 16,
   "id": "39e8d119-e974-49ff-abe5-09f1ebd61d9e",
   "metadata": {
    "tags": []
   },
   "outputs": [
    {
     "data": {
      "text/plain": [
       "exchange\n",
       "BSE    3843\n",
       "NSI    2067\n",
       "Name: symbol, dtype: int64"
      ]
     },
     "execution_count": 16,
     "metadata": {},
     "output_type": "execute_result"
    }
   ],
   "source": [
    "df.groupby('exchange')['symbol'].count()"
   ]
  },
  {
   "cell_type": "code",
   "execution_count": 90,
   "id": "0691aa5b-ffab-44c7-aa55-6366d621fbc2",
   "metadata": {
    "tags": []
   },
   "outputs": [
    {
     "data": {
      "text/plain": [
       "symbol        0\n",
       "shortName    59\n",
       "longName      0\n",
       "exchange      0\n",
       "market        0\n",
       "quoteType     0\n",
       "dtype: int64"
      ]
     },
     "execution_count": 90,
     "metadata": {},
     "output_type": "execute_result"
    }
   ],
   "source": [
    "df.isnull().sum()"
   ]
  },
  {
   "cell_type": "code",
   "execution_count": 93,
   "id": "9639b635-1da9-49c5-a794-1075547907f6",
   "metadata": {
    "tags": []
   },
   "outputs": [],
   "source": [
    "df['sym'] = df['symbol'].apply(lambda x: x.split('.')[0])"
   ]
  },
  {
   "cell_type": "code",
   "execution_count": 100,
   "id": "ca63a2c0-bfeb-4421-a3a1-1f5e550bee6d",
   "metadata": {
    "tags": []
   },
   "outputs": [
    {
     "data": {
      "text/plain": [
       "5910"
      ]
     },
     "execution_count": 100,
     "metadata": {},
     "output_type": "execute_result"
    }
   ],
   "source": [
    "len(df)"
   ]
  },
  {
   "cell_type": "code",
   "execution_count": 101,
   "id": "dcfaef33-fe5c-4cfb-b4d9-86baf5a1b717",
   "metadata": {
    "tags": []
   },
   "outputs": [],
   "source": [
    "df = df.drop_duplicates()"
   ]
  },
  {
   "cell_type": "code",
   "execution_count": 102,
   "id": "3642706b-00e2-4bbe-a32a-9540cf0b9103",
   "metadata": {
    "tags": []
   },
   "outputs": [
    {
     "data": {
      "text/html": [
       "<div>\n",
       "<style scoped>\n",
       "    .dataframe tbody tr th:only-of-type {\n",
       "        vertical-align: middle;\n",
       "    }\n",
       "\n",
       "    .dataframe tbody tr th {\n",
       "        vertical-align: top;\n",
       "    }\n",
       "\n",
       "    .dataframe thead th {\n",
       "        text-align: right;\n",
       "    }\n",
       "</style>\n",
       "<table border=\"1\" class=\"dataframe\">\n",
       "  <thead>\n",
       "    <tr style=\"text-align: right;\">\n",
       "      <th></th>\n",
       "      <th>symbol</th>\n",
       "      <th>shortName</th>\n",
       "      <th>longName</th>\n",
       "      <th>exchange</th>\n",
       "      <th>market</th>\n",
       "      <th>quoteType</th>\n",
       "      <th>sym</th>\n",
       "    </tr>\n",
       "  </thead>\n",
       "  <tbody>\n",
       "    <tr>\n",
       "      <th>1529</th>\n",
       "      <td>ANUP.NS</td>\n",
       "      <td>THE ANUP ENGINEERI</td>\n",
       "      <td>The Anup Engineering Limited</td>\n",
       "      <td>NSI</td>\n",
       "      <td>in_market</td>\n",
       "      <td>EQUITY</td>\n",
       "      <td>ANUP</td>\n",
       "    </tr>\n",
       "    <tr>\n",
       "      <th>5479</th>\n",
       "      <td>ANUP.BO</td>\n",
       "      <td>The Anup Engineering Ltd</td>\n",
       "      <td></td>\n",
       "      <td>BSE</td>\n",
       "      <td>in_market</td>\n",
       "      <td>EQUITY</td>\n",
       "      <td>ANUP</td>\n",
       "    </tr>\n",
       "  </tbody>\n",
       "</table>\n",
       "</div>"
      ],
      "text/plain": [
       "       symbol                 shortName                      longName  \\\n",
       "1529  ANUP.NS        THE ANUP ENGINEERI  The Anup Engineering Limited   \n",
       "5479  ANUP.BO  The Anup Engineering Ltd                                 \n",
       "\n",
       "     exchange     market quoteType   sym  \n",
       "1529      NSI  in_market    EQUITY  ANUP  \n",
       "5479      BSE  in_market    EQUITY  ANUP  "
      ]
     },
     "execution_count": 102,
     "metadata": {},
     "output_type": "execute_result"
    }
   ],
   "source": [
    "df[df.sym == 'ANUP']"
   ]
  },
  {
   "cell_type": "code",
   "execution_count": 105,
   "id": "2b48ea1f-63e8-4b05-9889-0f233d9a401e",
   "metadata": {
    "tags": []
   },
   "outputs": [
    {
     "data": {
      "text/html": [
       "<div>\n",
       "<style scoped>\n",
       "    .dataframe tbody tr th:only-of-type {\n",
       "        vertical-align: middle;\n",
       "    }\n",
       "\n",
       "    .dataframe tbody tr th {\n",
       "        vertical-align: top;\n",
       "    }\n",
       "\n",
       "    .dataframe thead th {\n",
       "        text-align: right;\n",
       "    }\n",
       "</style>\n",
       "<table border=\"1\" class=\"dataframe\">\n",
       "  <thead>\n",
       "    <tr style=\"text-align: right;\">\n",
       "      <th></th>\n",
       "      <th>symbol</th>\n",
       "      <th>shortName</th>\n",
       "      <th>longName</th>\n",
       "      <th>exchange</th>\n",
       "      <th>market</th>\n",
       "      <th>quoteType</th>\n",
       "      <th>sym</th>\n",
       "    </tr>\n",
       "  </thead>\n",
       "  <tbody>\n",
       "    <tr>\n",
       "      <th>5694</th>\n",
       "      <td>MISQUITA.BO</td>\n",
       "      <td>Misquita Engineering Limited</td>\n",
       "      <td></td>\n",
       "      <td>BSE</td>\n",
       "      <td>in_market</td>\n",
       "      <td>EQUITY</td>\n",
       "      <td>MISQUITA</td>\n",
       "    </tr>\n",
       "    <tr>\n",
       "      <th>2995</th>\n",
       "      <td>UNIABEXAL.BO</td>\n",
       "      <td>UNI ABEX ALLOY PRODUCTS LTD.</td>\n",
       "      <td>Uni Abex Alloy Products Limited</td>\n",
       "      <td>BSE</td>\n",
       "      <td>in_market</td>\n",
       "      <td>EQUITY</td>\n",
       "      <td>UNIABEXAL</td>\n",
       "    </tr>\n",
       "    <tr>\n",
       "      <th>3476</th>\n",
       "      <td>PALRED.BO</td>\n",
       "      <td>PALRED TECHNOLOGIES LIMITED</td>\n",
       "      <td>Palred Technologies Limited</td>\n",
       "      <td>BSE</td>\n",
       "      <td>in_market</td>\n",
       "      <td>EQUITY</td>\n",
       "      <td>PALRED</td>\n",
       "    </tr>\n",
       "    <tr>\n",
       "      <th>4825</th>\n",
       "      <td>CHITRTX.BO</td>\n",
       "      <td>CHITRADURGA SPINTEX LTD.</td>\n",
       "      <td>Chitradurga Spintex Limited</td>\n",
       "      <td>BSE</td>\n",
       "      <td>in_market</td>\n",
       "      <td>EQUITY</td>\n",
       "      <td>CHITRTX</td>\n",
       "    </tr>\n",
       "    <tr>\n",
       "      <th>2265</th>\n",
       "      <td>DENORA.NS</td>\n",
       "      <td>DE NORA INDIA</td>\n",
       "      <td>De Nora India Limited</td>\n",
       "      <td>NSI</td>\n",
       "      <td>in_market</td>\n",
       "      <td>EQUITY</td>\n",
       "      <td>DENORA</td>\n",
       "    </tr>\n",
       "    <tr>\n",
       "      <th>2583</th>\n",
       "      <td>PRAENG.NS</td>\n",
       "      <td>PRAJAY ENGINEERS S</td>\n",
       "      <td>Prajay Engineers Syndicate Limited</td>\n",
       "      <td>NSI</td>\n",
       "      <td>in_market</td>\n",
       "      <td>EQUITY</td>\n",
       "      <td>PRAENG</td>\n",
       "    </tr>\n",
       "    <tr>\n",
       "      <th>4388</th>\n",
       "      <td>CITIPOR.BO</td>\n",
       "      <td>CITIPORT FINANCIAL SERVICES LT</td>\n",
       "      <td>Citiport Financial Services Limited</td>\n",
       "      <td>BSE</td>\n",
       "      <td>in_market</td>\n",
       "      <td>EQUITY</td>\n",
       "      <td>CITIPOR</td>\n",
       "    </tr>\n",
       "    <tr>\n",
       "      <th>2402</th>\n",
       "      <td>SUPERHOUSE.NS</td>\n",
       "      <td>SUPERHOUSE LTD</td>\n",
       "      <td>Superhouse Limited</td>\n",
       "      <td>NSI</td>\n",
       "      <td>in_market</td>\n",
       "      <td>EQUITY</td>\n",
       "      <td>SUPERHOUSE</td>\n",
       "    </tr>\n",
       "    <tr>\n",
       "      <th>994</th>\n",
       "      <td>INDIAGLYCO.NS</td>\n",
       "      <td>INDIA GLYCOL</td>\n",
       "      <td>India Glycols Limited</td>\n",
       "      <td>NSI</td>\n",
       "      <td>in_market</td>\n",
       "      <td>EQUITY</td>\n",
       "      <td>INDIAGLYCO</td>\n",
       "    </tr>\n",
       "    <tr>\n",
       "      <th>5430</th>\n",
       "      <td>NRL-SM.NS</td>\n",
       "      <td>NaN</td>\n",
       "      <td></td>\n",
       "      <td>NSI</td>\n",
       "      <td>in_market</td>\n",
       "      <td>EQUITY</td>\n",
       "      <td>NRL-SM</td>\n",
       "    </tr>\n",
       "    <tr>\n",
       "      <th>2777</th>\n",
       "      <td>SANWARIA.BO</td>\n",
       "      <td>SANWARIA CONSUMER LIMITED</td>\n",
       "      <td>Sanwaria Consumer Limited</td>\n",
       "      <td>BSE</td>\n",
       "      <td>in_market</td>\n",
       "      <td>EQUITY</td>\n",
       "      <td>SANWARIA</td>\n",
       "    </tr>\n",
       "    <tr>\n",
       "      <th>5026</th>\n",
       "      <td>GLS.BO</td>\n",
       "      <td>Glenmark Life Sciences Limited</td>\n",
       "      <td></td>\n",
       "      <td>BSE</td>\n",
       "      <td>in_market</td>\n",
       "      <td>EQUITY</td>\n",
       "      <td>GLS</td>\n",
       "    </tr>\n",
       "    <tr>\n",
       "      <th>732</th>\n",
       "      <td>BAJAJELEC.BO</td>\n",
       "      <td>BAJAJ ELECTRICALS LTD.</td>\n",
       "      <td>Bajaj Electricals Limited</td>\n",
       "      <td>BSE</td>\n",
       "      <td>in_market</td>\n",
       "      <td>EQUITY</td>\n",
       "      <td>BAJAJELEC</td>\n",
       "    </tr>\n",
       "    <tr>\n",
       "      <th>1878</th>\n",
       "      <td>FILATEX.BO</td>\n",
       "      <td>FILATEX INDIA LTD.</td>\n",
       "      <td>Filatex India Limited</td>\n",
       "      <td>BSE</td>\n",
       "      <td>in_market</td>\n",
       "      <td>EQUITY</td>\n",
       "      <td>FILATEX</td>\n",
       "    </tr>\n",
       "    <tr>\n",
       "      <th>3186</th>\n",
       "      <td>TNTELE.NS</td>\n",
       "      <td>TAMILNADU TELECOMM</td>\n",
       "      <td>Tamilnadu Telecommunications Limited</td>\n",
       "      <td>NSI</td>\n",
       "      <td>in_market</td>\n",
       "      <td>EQUITY</td>\n",
       "      <td>TNTELE</td>\n",
       "    </tr>\n",
       "    <tr>\n",
       "      <th>310</th>\n",
       "      <td>RAJESHEXPO.NS</td>\n",
       "      <td>RAJESH EXPORTS</td>\n",
       "      <td>Rajesh Exports Limited</td>\n",
       "      <td>NSI</td>\n",
       "      <td>in_market</td>\n",
       "      <td>EQUITY</td>\n",
       "      <td>RAJESHEXPO</td>\n",
       "    </tr>\n",
       "    <tr>\n",
       "      <th>4258</th>\n",
       "      <td>FRONTCORP.BO</td>\n",
       "      <td>FRONTLINE CORPORATION LTD.</td>\n",
       "      <td>Frontline Corporation Limited</td>\n",
       "      <td>BSE</td>\n",
       "      <td>in_market</td>\n",
       "      <td>EQUITY</td>\n",
       "      <td>FRONTCORP</td>\n",
       "    </tr>\n",
       "    <tr>\n",
       "      <th>2497</th>\n",
       "      <td>NDTV.BO</td>\n",
       "      <td>NEW DELHI TELEVISION LTD.</td>\n",
       "      <td>New Delhi Television Limited</td>\n",
       "      <td>BSE</td>\n",
       "      <td>in_market</td>\n",
       "      <td>EQUITY</td>\n",
       "      <td>NDTV</td>\n",
       "    </tr>\n",
       "    <tr>\n",
       "      <th>303</th>\n",
       "      <td>BAJAJHLDNG.BO</td>\n",
       "      <td>BAJAJ HOLDINGS &amp; INVESTMENT LT</td>\n",
       "      <td>Bajaj Holdings &amp; Investment Limited</td>\n",
       "      <td>BSE</td>\n",
       "      <td>in_market</td>\n",
       "      <td>EQUITY</td>\n",
       "      <td>BAJAJHLDNG</td>\n",
       "    </tr>\n",
       "    <tr>\n",
       "      <th>489</th>\n",
       "      <td>MEDPLUS.NS</td>\n",
       "      <td>NaN</td>\n",
       "      <td>MedPlus Health Services Limited</td>\n",
       "      <td>NSI</td>\n",
       "      <td>in_market</td>\n",
       "      <td>EQUITY</td>\n",
       "      <td>MEDPLUS</td>\n",
       "    </tr>\n",
       "    <tr>\n",
       "      <th>1972</th>\n",
       "      <td>REPL.NS</td>\n",
       "      <td>Rudrabhishek Enterp Ltd</td>\n",
       "      <td>Rudrabhishek Enterprises Limited</td>\n",
       "      <td>NSI</td>\n",
       "      <td>in_market</td>\n",
       "      <td>EQUITY</td>\n",
       "      <td>REPL</td>\n",
       "    </tr>\n",
       "    <tr>\n",
       "      <th>3974</th>\n",
       "      <td>LAMBODHARA.NS</td>\n",
       "      <td>LAMBODHARA TEXTILE</td>\n",
       "      <td>Lambodhara Textiles Limited</td>\n",
       "      <td>NSI</td>\n",
       "      <td>in_market</td>\n",
       "      <td>EQUITY</td>\n",
       "      <td>LAMBODHARA</td>\n",
       "    </tr>\n",
       "    <tr>\n",
       "      <th>1115</th>\n",
       "      <td>FAIRCHEMOR.NS</td>\n",
       "      <td>Fairchem Organics Limited</td>\n",
       "      <td>Fairchem Organics Limited</td>\n",
       "      <td>NSI</td>\n",
       "      <td>in_market</td>\n",
       "      <td>EQUITY</td>\n",
       "      <td>FAIRCHEMOR</td>\n",
       "    </tr>\n",
       "    <tr>\n",
       "      <th>196</th>\n",
       "      <td>JINDALSTEL.NS</td>\n",
       "      <td>JINDAL STEEL &amp; PWR</td>\n",
       "      <td>Jindal Steel &amp; Power Limited</td>\n",
       "      <td>NSI</td>\n",
       "      <td>in_market</td>\n",
       "      <td>EQUITY</td>\n",
       "      <td>JINDALSTEL</td>\n",
       "    </tr>\n",
       "    <tr>\n",
       "      <th>2274</th>\n",
       "      <td>ELECON.BO</td>\n",
       "      <td>ELECON ENGINEERING CO.LTD.</td>\n",
       "      <td>Elecon Engineering Company Limited</td>\n",
       "      <td>BSE</td>\n",
       "      <td>in_market</td>\n",
       "      <td>EQUITY</td>\n",
       "      <td>ELECON</td>\n",
       "    </tr>\n",
       "    <tr>\n",
       "      <th>5880</th>\n",
       "      <td>DKEGL-SM.NS</td>\n",
       "      <td>DK ENTERPRISES GLO</td>\n",
       "      <td></td>\n",
       "      <td>NSI</td>\n",
       "      <td>in_market</td>\n",
       "      <td>EQUITY</td>\n",
       "      <td>DKEGL-SM</td>\n",
       "    </tr>\n",
       "    <tr>\n",
       "      <th>4063</th>\n",
       "      <td>TYROON.BO</td>\n",
       "      <td>TYROON TEA CO.LTD.</td>\n",
       "      <td>Tyroon Tea Company Limited</td>\n",
       "      <td>BSE</td>\n",
       "      <td>in_market</td>\n",
       "      <td>EQUITY</td>\n",
       "      <td>TYROON</td>\n",
       "    </tr>\n",
       "    <tr>\n",
       "      <th>5422</th>\n",
       "      <td>HLEGLAS.BO</td>\n",
       "      <td>HLE GLASCOAT LIMITED</td>\n",
       "      <td></td>\n",
       "      <td>BSE</td>\n",
       "      <td>in_market</td>\n",
       "      <td>EQUITY</td>\n",
       "      <td>HLEGLAS</td>\n",
       "    </tr>\n",
       "    <tr>\n",
       "      <th>1890</th>\n",
       "      <td>SHARDA.BO</td>\n",
       "      <td>SHARDA MOTOR INDUSTRIES LTD</td>\n",
       "      <td>Sharda Motor Industries Limited</td>\n",
       "      <td>BSE</td>\n",
       "      <td>in_market</td>\n",
       "      <td>EQUITY</td>\n",
       "      <td>SHARDA</td>\n",
       "    </tr>\n",
       "    <tr>\n",
       "      <th>542</th>\n",
       "      <td>KEI.NS</td>\n",
       "      <td>KEI INDUSTRIES</td>\n",
       "      <td>KEI Industries Limited</td>\n",
       "      <td>NSI</td>\n",
       "      <td>in_market</td>\n",
       "      <td>EQUITY</td>\n",
       "      <td>KEI</td>\n",
       "    </tr>\n",
       "  </tbody>\n",
       "</table>\n",
       "</div>"
      ],
      "text/plain": [
       "             symbol                       shortName  \\\n",
       "5694    MISQUITA.BO    Misquita Engineering Limited   \n",
       "2995   UNIABEXAL.BO    UNI ABEX ALLOY PRODUCTS LTD.   \n",
       "3476      PALRED.BO     PALRED TECHNOLOGIES LIMITED   \n",
       "4825     CHITRTX.BO        CHITRADURGA SPINTEX LTD.   \n",
       "2265      DENORA.NS                   DE NORA INDIA   \n",
       "2583      PRAENG.NS              PRAJAY ENGINEERS S   \n",
       "4388     CITIPOR.BO  CITIPORT FINANCIAL SERVICES LT   \n",
       "2402  SUPERHOUSE.NS                  SUPERHOUSE LTD   \n",
       "994   INDIAGLYCO.NS                    INDIA GLYCOL   \n",
       "5430      NRL-SM.NS                             NaN   \n",
       "2777    SANWARIA.BO       SANWARIA CONSUMER LIMITED   \n",
       "5026         GLS.BO  Glenmark Life Sciences Limited   \n",
       "732    BAJAJELEC.BO          BAJAJ ELECTRICALS LTD.   \n",
       "1878     FILATEX.BO              FILATEX INDIA LTD.   \n",
       "3186      TNTELE.NS              TAMILNADU TELECOMM   \n",
       "310   RAJESHEXPO.NS                  RAJESH EXPORTS   \n",
       "4258   FRONTCORP.BO      FRONTLINE CORPORATION LTD.   \n",
       "2497        NDTV.BO       NEW DELHI TELEVISION LTD.   \n",
       "303   BAJAJHLDNG.BO  BAJAJ HOLDINGS & INVESTMENT LT   \n",
       "489      MEDPLUS.NS                             NaN   \n",
       "1972        REPL.NS         Rudrabhishek Enterp Ltd   \n",
       "3974  LAMBODHARA.NS              LAMBODHARA TEXTILE   \n",
       "1115  FAIRCHEMOR.NS       Fairchem Organics Limited   \n",
       "196   JINDALSTEL.NS              JINDAL STEEL & PWR   \n",
       "2274      ELECON.BO      ELECON ENGINEERING CO.LTD.   \n",
       "5880    DKEGL-SM.NS              DK ENTERPRISES GLO   \n",
       "4063      TYROON.BO              TYROON TEA CO.LTD.   \n",
       "5422     HLEGLAS.BO            HLE GLASCOAT LIMITED   \n",
       "1890      SHARDA.BO     SHARDA MOTOR INDUSTRIES LTD   \n",
       "542          KEI.NS                  KEI INDUSTRIES   \n",
       "\n",
       "                                  longName exchange     market quoteType  \\\n",
       "5694                                            BSE  in_market    EQUITY   \n",
       "2995       Uni Abex Alloy Products Limited      BSE  in_market    EQUITY   \n",
       "3476           Palred Technologies Limited      BSE  in_market    EQUITY   \n",
       "4825           Chitradurga Spintex Limited      BSE  in_market    EQUITY   \n",
       "2265                 De Nora India Limited      NSI  in_market    EQUITY   \n",
       "2583    Prajay Engineers Syndicate Limited      NSI  in_market    EQUITY   \n",
       "4388   Citiport Financial Services Limited      BSE  in_market    EQUITY   \n",
       "2402                    Superhouse Limited      NSI  in_market    EQUITY   \n",
       "994                  India Glycols Limited      NSI  in_market    EQUITY   \n",
       "5430                                            NSI  in_market    EQUITY   \n",
       "2777             Sanwaria Consumer Limited      BSE  in_market    EQUITY   \n",
       "5026                                            BSE  in_market    EQUITY   \n",
       "732              Bajaj Electricals Limited      BSE  in_market    EQUITY   \n",
       "1878                 Filatex India Limited      BSE  in_market    EQUITY   \n",
       "3186  Tamilnadu Telecommunications Limited      NSI  in_market    EQUITY   \n",
       "310                 Rajesh Exports Limited      NSI  in_market    EQUITY   \n",
       "4258         Frontline Corporation Limited      BSE  in_market    EQUITY   \n",
       "2497          New Delhi Television Limited      BSE  in_market    EQUITY   \n",
       "303    Bajaj Holdings & Investment Limited      BSE  in_market    EQUITY   \n",
       "489        MedPlus Health Services Limited      NSI  in_market    EQUITY   \n",
       "1972      Rudrabhishek Enterprises Limited      NSI  in_market    EQUITY   \n",
       "3974           Lambodhara Textiles Limited      NSI  in_market    EQUITY   \n",
       "1115             Fairchem Organics Limited      NSI  in_market    EQUITY   \n",
       "196           Jindal Steel & Power Limited      NSI  in_market    EQUITY   \n",
       "2274    Elecon Engineering Company Limited      BSE  in_market    EQUITY   \n",
       "5880                                            NSI  in_market    EQUITY   \n",
       "4063            Tyroon Tea Company Limited      BSE  in_market    EQUITY   \n",
       "5422                                            BSE  in_market    EQUITY   \n",
       "1890       Sharda Motor Industries Limited      BSE  in_market    EQUITY   \n",
       "542                 KEI Industries Limited      NSI  in_market    EQUITY   \n",
       "\n",
       "             sym  \n",
       "5694    MISQUITA  \n",
       "2995   UNIABEXAL  \n",
       "3476      PALRED  \n",
       "4825     CHITRTX  \n",
       "2265      DENORA  \n",
       "2583      PRAENG  \n",
       "4388     CITIPOR  \n",
       "2402  SUPERHOUSE  \n",
       "994   INDIAGLYCO  \n",
       "5430      NRL-SM  \n",
       "2777    SANWARIA  \n",
       "5026         GLS  \n",
       "732    BAJAJELEC  \n",
       "1878     FILATEX  \n",
       "3186      TNTELE  \n",
       "310   RAJESHEXPO  \n",
       "4258   FRONTCORP  \n",
       "2497        NDTV  \n",
       "303   BAJAJHLDNG  \n",
       "489      MEDPLUS  \n",
       "1972        REPL  \n",
       "3974  LAMBODHARA  \n",
       "1115  FAIRCHEMOR  \n",
       "196   JINDALSTEL  \n",
       "2274      ELECON  \n",
       "5880    DKEGL-SM  \n",
       "4063      TYROON  \n",
       "5422     HLEGLAS  \n",
       "1890      SHARDA  \n",
       "542          KEI  "
      ]
     },
     "execution_count": 105,
     "metadata": {},
     "output_type": "execute_result"
    }
   ],
   "source": [
    "df.sample(30)"
   ]
  },
  {
   "cell_type": "markdown",
   "id": "6bbb4245-dc80-4a78-a042-cf00d26fb9e0",
   "metadata": {},
   "source": [
    "1. standardize names\n",
    "2. create 1 row per company or 1 row by symbol?"
   ]
  },
  {
   "cell_type": "code",
   "execution_count": 103,
   "id": "959e10e5-41c4-4105-bc64-df87186a7080",
   "metadata": {
    "tags": []
   },
   "outputs": [
    {
     "data": {
      "text/plain": [
       "'The anup engineering ltd'"
      ]
     },
     "execution_count": 103,
     "metadata": {},
     "output_type": "execute_result"
    }
   ],
   "source": [
    "'The Anup Engineering Ltd'.capitalize()"
   ]
  },
  {
   "cell_type": "code",
   "execution_count": 95,
   "id": "e3056f01-528b-4e4c-8ff0-c4c3e0e69f17",
   "metadata": {
    "scrolled": true,
    "tags": []
   },
   "outputs": [
    {
     "data": {
      "text/plain": [
       "sym\n",
       "63MOONS       2\n",
       "AARTISURF     2\n",
       "ABSLAMC       2\n",
       "ABSLBANETF    2\n",
       "ABSLNN50ET    2\n",
       "ADANIGREEN    2\n",
       "ADROITINFO    2\n",
       "AFFLE         2\n",
       "AMBICAAGAR    2\n",
       "AMIORG        2\n",
       "ANANDRATHI    2\n",
       "ANDHRAPAP     2\n",
       "ANGELONE      2\n",
       "ANMOL         2\n",
       "ANUP          2\n",
       "ANURAS        2\n",
       "ARTEMISMED    2\n",
       "ARVINDFASN    2\n",
       "ASIANENE      2\n",
       "ASTRAL        2\n",
       "ATGL          2\n",
       "ATNINTER      2\n",
       "AURUM         2\n",
       "AWHCL         2\n",
       "AXISCADES     2\n",
       "AXISGOLD      2\n",
       "BAJAJCON      2\n",
       "BAJAJFINSV    2\n",
       "BANDHANBNK    2\n",
       "BANKBEES      2\n",
       "Name: longName, dtype: int64"
      ]
     },
     "execution_count": 95,
     "metadata": {},
     "output_type": "execute_result"
    }
   ],
   "source": [
    "df.groupby('sym')['longName'].nunique().nlargest(30)"
   ]
  },
  {
   "cell_type": "code",
   "execution_count": 92,
   "id": "99bd2671-f4da-427a-a553-3d3c7c95c9bc",
   "metadata": {
    "tags": []
   },
   "outputs": [
    {
     "data": {
      "text/html": [
       "<div>\n",
       "<style scoped>\n",
       "    .dataframe tbody tr th:only-of-type {\n",
       "        vertical-align: middle;\n",
       "    }\n",
       "\n",
       "    .dataframe tbody tr th {\n",
       "        vertical-align: top;\n",
       "    }\n",
       "\n",
       "    .dataframe thead th {\n",
       "        text-align: right;\n",
       "    }\n",
       "</style>\n",
       "<table border=\"1\" class=\"dataframe\">\n",
       "  <thead>\n",
       "    <tr style=\"text-align: right;\">\n",
       "      <th></th>\n",
       "      <th>symbol</th>\n",
       "      <th>shortName</th>\n",
       "      <th>longName</th>\n",
       "      <th>exchange</th>\n",
       "      <th>market</th>\n",
       "      <th>quoteType</th>\n",
       "    </tr>\n",
       "  </thead>\n",
       "  <tbody>\n",
       "    <tr>\n",
       "      <th>5624</th>\n",
       "      <td>08GPG.BO</td>\n",
       "      <td>Nippon India Mutual Fund</td>\n",
       "      <td></td>\n",
       "      <td>BSE</td>\n",
       "      <td>in_market</td>\n",
       "      <td>EQUITY</td>\n",
       "    </tr>\n",
       "    <tr>\n",
       "      <th>5791</th>\n",
       "      <td>08MPD.BO</td>\n",
       "      <td>Nippon India Mutual Fund</td>\n",
       "      <td></td>\n",
       "      <td>BSE</td>\n",
       "      <td>in_market</td>\n",
       "      <td>EQUITY</td>\n",
       "    </tr>\n",
       "    <tr>\n",
       "      <th>5804</th>\n",
       "      <td>11AGG.BO</td>\n",
       "      <td>Nippon India Mutual Fund</td>\n",
       "      <td></td>\n",
       "      <td>BSE</td>\n",
       "      <td>in_market</td>\n",
       "      <td>EQUITY</td>\n",
       "    </tr>\n",
       "    <tr>\n",
       "      <th>5431</th>\n",
       "      <td>11AMD.BO</td>\n",
       "      <td>Nippon India Mutual Fund</td>\n",
       "      <td></td>\n",
       "      <td>BSE</td>\n",
       "      <td>in_market</td>\n",
       "      <td>EQUITY</td>\n",
       "    </tr>\n",
       "    <tr>\n",
       "      <th>5375</th>\n",
       "      <td>11DPD.BO</td>\n",
       "      <td>Nippon India Mutual Fund</td>\n",
       "      <td></td>\n",
       "      <td>BSE</td>\n",
       "      <td>in_market</td>\n",
       "      <td>EQUITY</td>\n",
       "    </tr>\n",
       "    <tr>\n",
       "      <th>...</th>\n",
       "      <td>...</td>\n",
       "      <td>...</td>\n",
       "      <td>...</td>\n",
       "      <td>...</td>\n",
       "      <td>...</td>\n",
       "      <td>...</td>\n",
       "    </tr>\n",
       "    <tr>\n",
       "      <th>2607</th>\n",
       "      <td>ZUARIGLOB.BO</td>\n",
       "      <td>ZUARI GLOBAL LTD.</td>\n",
       "      <td>Zuari Global Limited</td>\n",
       "      <td>BSE</td>\n",
       "      <td>in_market</td>\n",
       "      <td>EQUITY</td>\n",
       "    </tr>\n",
       "    <tr>\n",
       "      <th>1973</th>\n",
       "      <td>ZUARIGLOB.NS</td>\n",
       "      <td>ZUARI GLOBAL LTD</td>\n",
       "      <td>Zuari Global Limited</td>\n",
       "      <td>NSI</td>\n",
       "      <td>in_market</td>\n",
       "      <td>EQUITY</td>\n",
       "    </tr>\n",
       "    <tr>\n",
       "      <th>3581</th>\n",
       "      <td>ZWELCAST.BO</td>\n",
       "      <td>WELCAST STEELS LTD.</td>\n",
       "      <td>Welcast Steels Limited</td>\n",
       "      <td>BSE</td>\n",
       "      <td>in_market</td>\n",
       "      <td>EQUITY</td>\n",
       "    </tr>\n",
       "    <tr>\n",
       "      <th>499</th>\n",
       "      <td>ZYDUSWELL.BO</td>\n",
       "      <td>ZYDUS WELLNESS LTD.</td>\n",
       "      <td>Zydus Wellness Limited</td>\n",
       "      <td>BSE</td>\n",
       "      <td>in_market</td>\n",
       "      <td>EQUITY</td>\n",
       "    </tr>\n",
       "    <tr>\n",
       "      <th>494</th>\n",
       "      <td>ZYDUSWELL.NS</td>\n",
       "      <td>ZYDUS WELLNESS LTD</td>\n",
       "      <td>Zydus Wellness Limited</td>\n",
       "      <td>NSI</td>\n",
       "      <td>in_market</td>\n",
       "      <td>EQUITY</td>\n",
       "    </tr>\n",
       "  </tbody>\n",
       "</table>\n",
       "<p>5910 rows × 6 columns</p>\n",
       "</div>"
      ],
      "text/plain": [
       "            symbol                 shortName                longName exchange  \\\n",
       "5624      08GPG.BO  Nippon India Mutual Fund                              BSE   \n",
       "5791      08MPD.BO  Nippon India Mutual Fund                              BSE   \n",
       "5804      11AGG.BO  Nippon India Mutual Fund                              BSE   \n",
       "5431      11AMD.BO  Nippon India Mutual Fund                              BSE   \n",
       "5375      11DPD.BO  Nippon India Mutual Fund                              BSE   \n",
       "...            ...                       ...                     ...      ...   \n",
       "2607  ZUARIGLOB.BO         ZUARI GLOBAL LTD.    Zuari Global Limited      BSE   \n",
       "1973  ZUARIGLOB.NS          ZUARI GLOBAL LTD    Zuari Global Limited      NSI   \n",
       "3581   ZWELCAST.BO       WELCAST STEELS LTD.  Welcast Steels Limited      BSE   \n",
       "499   ZYDUSWELL.BO       ZYDUS WELLNESS LTD.  Zydus Wellness Limited      BSE   \n",
       "494   ZYDUSWELL.NS        ZYDUS WELLNESS LTD  Zydus Wellness Limited      NSI   \n",
       "\n",
       "         market quoteType  \n",
       "5624  in_market    EQUITY  \n",
       "5791  in_market    EQUITY  \n",
       "5804  in_market    EQUITY  \n",
       "5431  in_market    EQUITY  \n",
       "5375  in_market    EQUITY  \n",
       "...         ...       ...  \n",
       "2607  in_market    EQUITY  \n",
       "1973  in_market    EQUITY  \n",
       "3581  in_market    EQUITY  \n",
       "499   in_market    EQUITY  \n",
       "494   in_market    EQUITY  \n",
       "\n",
       "[5910 rows x 6 columns]"
      ]
     },
     "execution_count": 92,
     "metadata": {},
     "output_type": "execute_result"
    }
   ],
   "source": [
    "df.sort_values('symbol')"
   ]
  },
  {
   "cell_type": "code",
   "execution_count": 17,
   "id": "3caa2815-2dee-485f-9f30-eb92a741f836",
   "metadata": {
    "tags": []
   },
   "outputs": [
    {
     "data": {
      "text/html": [
       "<div>\n",
       "<style scoped>\n",
       "    .dataframe tbody tr th:only-of-type {\n",
       "        vertical-align: middle;\n",
       "    }\n",
       "\n",
       "    .dataframe tbody tr th {\n",
       "        vertical-align: top;\n",
       "    }\n",
       "\n",
       "    .dataframe thead th {\n",
       "        text-align: right;\n",
       "    }\n",
       "</style>\n",
       "<table border=\"1\" class=\"dataframe\">\n",
       "  <thead>\n",
       "    <tr style=\"text-align: right;\">\n",
       "      <th></th>\n",
       "      <th>symbol</th>\n",
       "      <th>shortName</th>\n",
       "      <th>longName</th>\n",
       "      <th>exchange</th>\n",
       "      <th>market</th>\n",
       "      <th>quoteType</th>\n",
       "    </tr>\n",
       "  </thead>\n",
       "  <tbody>\n",
       "    <tr>\n",
       "      <th>73</th>\n",
       "      <td>ZOMATO.NS</td>\n",
       "      <td>Zomato Limited</td>\n",
       "      <td>Zomato Limited</td>\n",
       "      <td>NSI</td>\n",
       "      <td>in_market</td>\n",
       "      <td>EQUITY</td>\n",
       "    </tr>\n",
       "  </tbody>\n",
       "</table>\n",
       "</div>"
      ],
      "text/plain": [
       "       symbol       shortName        longName exchange     market quoteType\n",
       "73  ZOMATO.NS  Zomato Limited  Zomato Limited      NSI  in_market    EQUITY"
      ]
     },
     "execution_count": 17,
     "metadata": {},
     "output_type": "execute_result"
    }
   ],
   "source": [
    "df[df.symbol == 'ZOMATO.NS']"
   ]
  },
  {
   "cell_type": "code",
   "execution_count": 18,
   "id": "ce27867a-b0e9-477c-a7b1-2b58f0fb5421",
   "metadata": {
    "tags": []
   },
   "outputs": [],
   "source": [
    "import yfinance as yf"
   ]
  },
  {
   "cell_type": "code",
   "execution_count": 19,
   "id": "85db0dfc-f51c-47b9-8c51-3522a95b166a",
   "metadata": {
    "scrolled": true,
    "tags": []
   },
   "outputs": [
    {
     "data": {
      "text/html": [
       "<div>\n",
       "<style scoped>\n",
       "    .dataframe tbody tr th:only-of-type {\n",
       "        vertical-align: middle;\n",
       "    }\n",
       "\n",
       "    .dataframe tbody tr th {\n",
       "        vertical-align: top;\n",
       "    }\n",
       "\n",
       "    .dataframe thead th {\n",
       "        text-align: right;\n",
       "    }\n",
       "</style>\n",
       "<table border=\"1\" class=\"dataframe\">\n",
       "  <thead>\n",
       "    <tr style=\"text-align: right;\">\n",
       "      <th></th>\n",
       "      <th>symbol</th>\n",
       "      <th>shortName</th>\n",
       "      <th>longName</th>\n",
       "      <th>exchange</th>\n",
       "      <th>market</th>\n",
       "      <th>quoteType</th>\n",
       "    </tr>\n",
       "  </thead>\n",
       "  <tbody>\n",
       "    <tr>\n",
       "      <th>4959</th>\n",
       "      <td>LGHL-SM.NS</td>\n",
       "      <td>NaN</td>\n",
       "      <td></td>\n",
       "      <td>NSI</td>\n",
       "      <td>in_market</td>\n",
       "      <td>EQUITY</td>\n",
       "    </tr>\n",
       "    <tr>\n",
       "      <th>4965</th>\n",
       "      <td>UHZAVERI.BO</td>\n",
       "      <td>NaN</td>\n",
       "      <td></td>\n",
       "      <td>BSE</td>\n",
       "      <td>in_market</td>\n",
       "      <td>EQUITY</td>\n",
       "    </tr>\n",
       "    <tr>\n",
       "      <th>4978</th>\n",
       "      <td>SJCORP.BO</td>\n",
       "      <td>NaN</td>\n",
       "      <td></td>\n",
       "      <td>BSE</td>\n",
       "      <td>in_market</td>\n",
       "      <td>EQUITY</td>\n",
       "    </tr>\n",
       "    <tr>\n",
       "      <th>5004</th>\n",
       "      <td>JTLINFRA.NS</td>\n",
       "      <td>NaN</td>\n",
       "      <td></td>\n",
       "      <td>NSI</td>\n",
       "      <td>in_market</td>\n",
       "      <td>EQUITY</td>\n",
       "    </tr>\n",
       "    <tr>\n",
       "      <th>5013</th>\n",
       "      <td>NRL-ST.NS</td>\n",
       "      <td>NaN</td>\n",
       "      <td></td>\n",
       "      <td>NSI</td>\n",
       "      <td>in_market</td>\n",
       "      <td>EQUITY</td>\n",
       "    </tr>\n",
       "    <tr>\n",
       "      <th>5037</th>\n",
       "      <td>MAPMYINDIA.NS</td>\n",
       "      <td>NaN</td>\n",
       "      <td>CE Info Systems Ltd.</td>\n",
       "      <td>NSI</td>\n",
       "      <td>in_market</td>\n",
       "      <td>EQUITY</td>\n",
       "    </tr>\n",
       "    <tr>\n",
       "      <th>5057</th>\n",
       "      <td>IMFA-BL.NS</td>\n",
       "      <td>NaN</td>\n",
       "      <td></td>\n",
       "      <td>NSI</td>\n",
       "      <td>in_market</td>\n",
       "      <td>EQUITY</td>\n",
       "    </tr>\n",
       "    <tr>\n",
       "      <th>5092</th>\n",
       "      <td>SICL.BO</td>\n",
       "      <td>NaN</td>\n",
       "      <td></td>\n",
       "      <td>BSE</td>\n",
       "      <td>in_market</td>\n",
       "      <td>EQUITY</td>\n",
       "    </tr>\n",
       "    <tr>\n",
       "      <th>5135</th>\n",
       "      <td>DCMSRIND.NS</td>\n",
       "      <td>NaN</td>\n",
       "      <td></td>\n",
       "      <td>NSI</td>\n",
       "      <td>in_market</td>\n",
       "      <td>EQUITY</td>\n",
       "    </tr>\n",
       "    <tr>\n",
       "      <th>5140</th>\n",
       "      <td>HARDWYN.BO</td>\n",
       "      <td>NaN</td>\n",
       "      <td></td>\n",
       "      <td>BSE</td>\n",
       "      <td>in_market</td>\n",
       "      <td>EQUITY</td>\n",
       "    </tr>\n",
       "    <tr>\n",
       "      <th>5198</th>\n",
       "      <td>EUROBOND-ST.NS</td>\n",
       "      <td>NaN</td>\n",
       "      <td></td>\n",
       "      <td>NSI</td>\n",
       "      <td>in_market</td>\n",
       "      <td>EQUITY</td>\n",
       "    </tr>\n",
       "    <tr>\n",
       "      <th>5229</th>\n",
       "      <td>MONARCH.NS</td>\n",
       "      <td>NaN</td>\n",
       "      <td></td>\n",
       "      <td>NSI</td>\n",
       "      <td>in_market</td>\n",
       "      <td>EQUITY</td>\n",
       "    </tr>\n",
       "    <tr>\n",
       "      <th>5246</th>\n",
       "      <td>JAYTEX.BO</td>\n",
       "      <td>NaN</td>\n",
       "      <td></td>\n",
       "      <td>BSE</td>\n",
       "      <td>in_market</td>\n",
       "      <td>EQUITY</td>\n",
       "    </tr>\n",
       "    <tr>\n",
       "      <th>5254</th>\n",
       "      <td>ARMAN.BO</td>\n",
       "      <td>NaN</td>\n",
       "      <td></td>\n",
       "      <td>BSE</td>\n",
       "      <td>in_market</td>\n",
       "      <td>EQUITY</td>\n",
       "    </tr>\n",
       "    <tr>\n",
       "      <th>5275</th>\n",
       "      <td>FOCE-ST.NS</td>\n",
       "      <td>NaN</td>\n",
       "      <td></td>\n",
       "      <td>NSI</td>\n",
       "      <td>in_market</td>\n",
       "      <td>EQUITY</td>\n",
       "    </tr>\n",
       "    <tr>\n",
       "      <th>5310</th>\n",
       "      <td>NATCAPSPP.BO</td>\n",
       "      <td>NaN</td>\n",
       "      <td></td>\n",
       "      <td>BSE</td>\n",
       "      <td>in_market</td>\n",
       "      <td>EQUITY</td>\n",
       "    </tr>\n",
       "    <tr>\n",
       "      <th>5328</th>\n",
       "      <td>ARMAN.BO</td>\n",
       "      <td>NaN</td>\n",
       "      <td></td>\n",
       "      <td>BSE</td>\n",
       "      <td>in_market</td>\n",
       "      <td>EQUITY</td>\n",
       "    </tr>\n",
       "    <tr>\n",
       "      <th>5386</th>\n",
       "      <td>VLIFEPP-E1.NS</td>\n",
       "      <td>NaN</td>\n",
       "      <td></td>\n",
       "      <td>NSI</td>\n",
       "      <td>in_market</td>\n",
       "      <td>EQUITY</td>\n",
       "    </tr>\n",
       "    <tr>\n",
       "      <th>5390</th>\n",
       "      <td>KOTAKALPHA.NS</td>\n",
       "      <td>NaN</td>\n",
       "      <td>Kotak Mahindra Mutual Fund - Nifty Alpha 50 Etf</td>\n",
       "      <td>NSI</td>\n",
       "      <td>in_market</td>\n",
       "      <td>EQUITY</td>\n",
       "    </tr>\n",
       "    <tr>\n",
       "      <th>5430</th>\n",
       "      <td>NRL-SM.NS</td>\n",
       "      <td>NaN</td>\n",
       "      <td></td>\n",
       "      <td>NSI</td>\n",
       "      <td>in_market</td>\n",
       "      <td>EQUITY</td>\n",
       "    </tr>\n",
       "    <tr>\n",
       "      <th>5439</th>\n",
       "      <td>BEARD-RE.NS</td>\n",
       "      <td>NaN</td>\n",
       "      <td></td>\n",
       "      <td>NSI</td>\n",
       "      <td>in_market</td>\n",
       "      <td>EQUITY</td>\n",
       "    </tr>\n",
       "    <tr>\n",
       "      <th>5464</th>\n",
       "      <td>RAJATH.BO</td>\n",
       "      <td>NaN</td>\n",
       "      <td></td>\n",
       "      <td>BSE</td>\n",
       "      <td>in_market</td>\n",
       "      <td>EQUITY</td>\n",
       "    </tr>\n",
       "    <tr>\n",
       "      <th>5533</th>\n",
       "      <td>PITHP.BO</td>\n",
       "      <td>NaN</td>\n",
       "      <td></td>\n",
       "      <td>BSE</td>\n",
       "      <td>in_market</td>\n",
       "      <td>EQUITY</td>\n",
       "    </tr>\n",
       "    <tr>\n",
       "      <th>5634</th>\n",
       "      <td>SHIVAM-RE.NS</td>\n",
       "      <td>NaN</td>\n",
       "      <td></td>\n",
       "      <td>NSI</td>\n",
       "      <td>in_market</td>\n",
       "      <td>EQUITY</td>\n",
       "    </tr>\n",
       "    <tr>\n",
       "      <th>5683</th>\n",
       "      <td>CONCRETE.BO</td>\n",
       "      <td>NaN</td>\n",
       "      <td></td>\n",
       "      <td>BSE</td>\n",
       "      <td>in_market</td>\n",
       "      <td>EQUITY</td>\n",
       "    </tr>\n",
       "    <tr>\n",
       "      <th>5687</th>\n",
       "      <td>RITHWIKFMS.BO</td>\n",
       "      <td>NaN</td>\n",
       "      <td></td>\n",
       "      <td>BSE</td>\n",
       "      <td>in_market</td>\n",
       "      <td>EQUITY</td>\n",
       "    </tr>\n",
       "    <tr>\n",
       "      <th>5717</th>\n",
       "      <td>RAJKOTINV.BO</td>\n",
       "      <td>NaN</td>\n",
       "      <td></td>\n",
       "      <td>BSE</td>\n",
       "      <td>in_market</td>\n",
       "      <td>EQUITY</td>\n",
       "    </tr>\n",
       "    <tr>\n",
       "      <th>5750</th>\n",
       "      <td>DSPN50ETF.NS</td>\n",
       "      <td>NaN</td>\n",
       "      <td>DSP Blackrock Mutual Fund - DSP BlackRock Nift...</td>\n",
       "      <td>NSI</td>\n",
       "      <td>in_market</td>\n",
       "      <td>EQUITY</td>\n",
       "    </tr>\n",
       "    <tr>\n",
       "      <th>5778</th>\n",
       "      <td>BBETF0432.NS</td>\n",
       "      <td>NaN</td>\n",
       "      <td></td>\n",
       "      <td>NSI</td>\n",
       "      <td>in_market</td>\n",
       "      <td>EQUITY</td>\n",
       "    </tr>\n",
       "    <tr>\n",
       "      <th>5812</th>\n",
       "      <td>MONQ50.NS</td>\n",
       "      <td>NaN</td>\n",
       "      <td>Motilal Oswal AMC Ltd. - Motilal Oswal Mutual ...</td>\n",
       "      <td>NSI</td>\n",
       "      <td>in_market</td>\n",
       "      <td>EQUITY</td>\n",
       "    </tr>\n",
       "  </tbody>\n",
       "</table>\n",
       "</div>"
      ],
      "text/plain": [
       "              symbol shortName  \\\n",
       "4959      LGHL-SM.NS       NaN   \n",
       "4965     UHZAVERI.BO       NaN   \n",
       "4978       SJCORP.BO       NaN   \n",
       "5004     JTLINFRA.NS       NaN   \n",
       "5013       NRL-ST.NS       NaN   \n",
       "5037   MAPMYINDIA.NS       NaN   \n",
       "5057      IMFA-BL.NS       NaN   \n",
       "5092         SICL.BO       NaN   \n",
       "5135     DCMSRIND.NS       NaN   \n",
       "5140      HARDWYN.BO       NaN   \n",
       "5198  EUROBOND-ST.NS       NaN   \n",
       "5229      MONARCH.NS       NaN   \n",
       "5246       JAYTEX.BO       NaN   \n",
       "5254        ARMAN.BO       NaN   \n",
       "5275      FOCE-ST.NS       NaN   \n",
       "5310    NATCAPSPP.BO       NaN   \n",
       "5328        ARMAN.BO       NaN   \n",
       "5386   VLIFEPP-E1.NS       NaN   \n",
       "5390   KOTAKALPHA.NS       NaN   \n",
       "5430       NRL-SM.NS       NaN   \n",
       "5439     BEARD-RE.NS       NaN   \n",
       "5464       RAJATH.BO       NaN   \n",
       "5533        PITHP.BO       NaN   \n",
       "5634    SHIVAM-RE.NS       NaN   \n",
       "5683     CONCRETE.BO       NaN   \n",
       "5687   RITHWIKFMS.BO       NaN   \n",
       "5717    RAJKOTINV.BO       NaN   \n",
       "5750    DSPN50ETF.NS       NaN   \n",
       "5778    BBETF0432.NS       NaN   \n",
       "5812       MONQ50.NS       NaN   \n",
       "\n",
       "                                               longName exchange     market  \\\n",
       "4959                                                         NSI  in_market   \n",
       "4965                                                         BSE  in_market   \n",
       "4978                                                         BSE  in_market   \n",
       "5004                                                         NSI  in_market   \n",
       "5013                                                         NSI  in_market   \n",
       "5037                               CE Info Systems Ltd.      NSI  in_market   \n",
       "5057                                                         NSI  in_market   \n",
       "5092                                                         BSE  in_market   \n",
       "5135                                                         NSI  in_market   \n",
       "5140                                                         BSE  in_market   \n",
       "5198                                                         NSI  in_market   \n",
       "5229                                                         NSI  in_market   \n",
       "5246                                                         BSE  in_market   \n",
       "5254                                                         BSE  in_market   \n",
       "5275                                                         NSI  in_market   \n",
       "5310                                                         BSE  in_market   \n",
       "5328                                                         BSE  in_market   \n",
       "5386                                                         NSI  in_market   \n",
       "5390    Kotak Mahindra Mutual Fund - Nifty Alpha 50 Etf      NSI  in_market   \n",
       "5430                                                         NSI  in_market   \n",
       "5439                                                         NSI  in_market   \n",
       "5464                                                         BSE  in_market   \n",
       "5533                                                         BSE  in_market   \n",
       "5634                                                         NSI  in_market   \n",
       "5683                                                         BSE  in_market   \n",
       "5687                                                         BSE  in_market   \n",
       "5717                                                         BSE  in_market   \n",
       "5750  DSP Blackrock Mutual Fund - DSP BlackRock Nift...      NSI  in_market   \n",
       "5778                                                         NSI  in_market   \n",
       "5812  Motilal Oswal AMC Ltd. - Motilal Oswal Mutual ...      NSI  in_market   \n",
       "\n",
       "     quoteType  \n",
       "4959    EQUITY  \n",
       "4965    EQUITY  \n",
       "4978    EQUITY  \n",
       "5004    EQUITY  \n",
       "5013    EQUITY  \n",
       "5037    EQUITY  \n",
       "5057    EQUITY  \n",
       "5092    EQUITY  \n",
       "5135    EQUITY  \n",
       "5140    EQUITY  \n",
       "5198    EQUITY  \n",
       "5229    EQUITY  \n",
       "5246    EQUITY  \n",
       "5254    EQUITY  \n",
       "5275    EQUITY  \n",
       "5310    EQUITY  \n",
       "5328    EQUITY  \n",
       "5386    EQUITY  \n",
       "5390    EQUITY  \n",
       "5430    EQUITY  \n",
       "5439    EQUITY  \n",
       "5464    EQUITY  \n",
       "5533    EQUITY  \n",
       "5634    EQUITY  \n",
       "5683    EQUITY  \n",
       "5687    EQUITY  \n",
       "5717    EQUITY  \n",
       "5750    EQUITY  \n",
       "5778    EQUITY  \n",
       "5812    EQUITY  "
      ]
     },
     "execution_count": 19,
     "metadata": {},
     "output_type": "execute_result"
    }
   ],
   "source": [
    "df.sort_values('shortName').tail(30)"
   ]
  },
  {
   "cell_type": "code",
   "execution_count": 20,
   "id": "6af2ed39-95f0-4803-a6a9-ac02fb31b1b4",
   "metadata": {
    "tags": []
   },
   "outputs": [],
   "source": [
    "all_tickers = list(df['symbol'].unique())"
   ]
  },
  {
   "cell_type": "markdown",
   "id": "7348635b-3537-4ccb-82a8-b71d016cb5eb",
   "metadata": {},
   "source": [
    "### Verifying valid tickers from yfin"
   ]
  },
  {
   "cell_type": "code",
   "execution_count": 125,
   "id": "eb56145a-eee6-4162-91e9-238132e63d56",
   "metadata": {
    "tags": []
   },
   "outputs": [],
   "source": [
    "import time\n",
    "import yfinance as yf\n",
    "ticker_info = {}"
   ]
  },
  {
   "cell_type": "code",
   "execution_count": 33,
   "id": "0be01385-cece-453a-8508-872ec9e9ab0b",
   "metadata": {
    "scrolled": true,
    "tags": []
   },
   "outputs": [
    {
     "name": "stderr",
     "output_type": "stream",
     "text": [
      "404 Client Error: Not Found for url: https://query2.finance.yahoo.com/v10/finance/quoteSummary/ADANITRANS.NS?modules=financialData%2CquoteType%2CdefaultKeyStatistics%2CassetProfile%2CsummaryDetail&corsDomain=finance.yahoo.com&formatted=false&symbol=ADANITRANS.NS&crumb=Mk2.ekFLtPm\n"
     ]
    },
    {
     "name": "stdout",
     "output_type": "stream",
     "text": [
      "done with 100 tickers in 20.149966955184937 seconds\n"
     ]
    },
    {
     "name": "stderr",
     "output_type": "stream",
     "text": [
      "404 Client Error: Not Found for url: https://query2.finance.yahoo.com/v10/finance/quoteSummary/LTI.BO?modules=financialData%2CquoteType%2CdefaultKeyStatistics%2CassetProfile%2CsummaryDetail&corsDomain=finance.yahoo.com&formatted=false&symbol=LTI.BO&crumb=Mk2.ekFLtPm\n"
     ]
    },
    {
     "name": "stdout",
     "output_type": "stream",
     "text": [
      "done with 200 tickers in 36.58690595626831 seconds\n"
     ]
    },
    {
     "name": "stderr",
     "output_type": "stream",
     "text": [
      "404 Client Error: Not Found for url: https://query2.finance.yahoo.com/v10/finance/quoteSummary/MOTHERSUMI.BO?modules=financialData%2CquoteType%2CdefaultKeyStatistics%2CassetProfile%2CsummaryDetail&corsDomain=finance.yahoo.com&formatted=false&symbol=MOTHERSUMI.BO&crumb=Mk2.ekFLtPm\n",
      "404 Client Error: Not Found for url: https://query2.finance.yahoo.com/v10/finance/quoteSummary/ADANITRANS.BO?modules=financialData%2CquoteType%2CdefaultKeyStatistics%2CassetProfile%2CsummaryDetail&corsDomain=finance.yahoo.com&formatted=false&symbol=ADANITRANS.BO&crumb=Mk2.ekFLtPm\n"
     ]
    },
    {
     "name": "stdout",
     "output_type": "stream",
     "text": [
      "done with 300 tickers in 54.887046098709106 seconds\n"
     ]
    },
    {
     "name": "stderr",
     "output_type": "stream",
     "text": [
      "404 Client Error: Not Found for url: https://query2.finance.yahoo.com/v10/finance/quoteSummary/GUJGAS.BO?modules=financialData%2CquoteType%2CdefaultKeyStatistics%2CassetProfile%2CsummaryDetail&corsDomain=finance.yahoo.com&formatted=false&symbol=GUJGAS.BO&crumb=Mk2.ekFLtPm\n"
     ]
    },
    {
     "name": "stdout",
     "output_type": "stream",
     "text": [
      "done with 400 tickers in 71.39961504936218 seconds\n"
     ]
    },
    {
     "name": "stderr",
     "output_type": "stream",
     "text": [
      "404 Client Error: Not Found for url: https://query2.finance.yahoo.com/v10/finance/quoteSummary/RUCHISOYA.BO?modules=financialData%2CquoteType%2CdefaultKeyStatistics%2CassetProfile%2CsummaryDetail&corsDomain=finance.yahoo.com&formatted=false&symbol=RUCHISOYA.BO&crumb=Mk2.ekFLtPm\n",
      "404 Client Error: Not Found for url: https://query2.finance.yahoo.com/v10/finance/quoteSummary/WELSPUNIND.NS?modules=financialData%2CquoteType%2CdefaultKeyStatistics%2CassetProfile%2CsummaryDetail&corsDomain=finance.yahoo.com&formatted=false&symbol=WELSPUNIND.NS&crumb=Mk2.ekFLtPm\n",
      "404 Client Error: Not Found for url: https://query2.finance.yahoo.com/v10/finance/quoteSummary/AMARAJABAT.BO?modules=financialData%2CquoteType%2CdefaultKeyStatistics%2CassetProfile%2CsummaryDetail&corsDomain=finance.yahoo.com&formatted=false&symbol=AMARAJABAT.BO&crumb=Mk2.ekFLtPm\n"
     ]
    },
    {
     "name": "stdout",
     "output_type": "stream",
     "text": [
      "done with 500 tickers in 89.8354799747467 seconds\n"
     ]
    },
    {
     "name": "stderr",
     "output_type": "stream",
     "text": [
      "404 Client Error: Not Found for url: https://query2.finance.yahoo.com/v10/finance/quoteSummary/ALOKTEXT.BO?modules=financialData%2CquoteType%2CdefaultKeyStatistics%2CassetProfile%2CsummaryDetail&corsDomain=finance.yahoo.com&formatted=false&symbol=ALOKTEXT.BO&crumb=Mk2.ekFLtPm\n",
      "404 Client Error: Not Found for url: https://query2.finance.yahoo.com/v10/finance/quoteSummary/AMARAJABAT.NS?modules=financialData%2CquoteType%2CdefaultKeyStatistics%2CassetProfile%2CsummaryDetail&corsDomain=finance.yahoo.com&formatted=false&symbol=AMARAJABAT.NS&crumb=Mk2.ekFLtPm\n",
      "404 Client Error: Not Found for url: https://query2.finance.yahoo.com/v10/finance/quoteSummary/DEEPAKNI.BO?modules=financialData%2CquoteType%2CdefaultKeyStatistics%2CassetProfile%2CsummaryDetail&corsDomain=finance.yahoo.com&formatted=false&symbol=DEEPAKNI.BO&crumb=Mk2.ekFLtPm\n"
     ]
    },
    {
     "name": "stdout",
     "output_type": "stream",
     "text": [
      "done with 600 tickers in 109.30232119560242 seconds\n"
     ]
    },
    {
     "name": "stderr",
     "output_type": "stream",
     "text": [
      "404 Client Error: Not Found for url: https://query2.finance.yahoo.com/v10/finance/quoteSummary/SUNCLAYLTD.NS?modules=financialData%2CquoteType%2CdefaultKeyStatistics%2CassetProfile%2CsummaryDetail&corsDomain=finance.yahoo.com&formatted=false&symbol=SUNCLAYLTD.NS&crumb=Mk2.ekFLtPm\n",
      "404 Client Error: Not Found for url: https://query2.finance.yahoo.com/v10/finance/quoteSummary/WELSPUNIND.BO?modules=financialData%2CquoteType%2CdefaultKeyStatistics%2CassetProfile%2CsummaryDetail&corsDomain=finance.yahoo.com&formatted=false&symbol=WELSPUNIND.BO&crumb=Mk2.ekFLtPm\n",
      "404 Client Error: Not Found for url: https://query2.finance.yahoo.com/v10/finance/quoteSummary/AVANTI.BO?modules=financialData%2CquoteType%2CdefaultKeyStatistics%2CassetProfile%2CsummaryDetail&corsDomain=finance.yahoo.com&formatted=false&symbol=AVANTI.BO&crumb=Mk2.ekFLtPm\n",
      "404 Client Error: Not Found for url: https://query2.finance.yahoo.com/v10/finance/quoteSummary/FINOLEXIND.BO?modules=financialData%2CquoteType%2CdefaultKeyStatistics%2CassetProfile%2CsummaryDetail&corsDomain=finance.yahoo.com&formatted=false&symbol=FINOLEXIND.BO&crumb=Mk2.ekFLtPm\n"
     ]
    },
    {
     "name": "stdout",
     "output_type": "stream",
     "text": [
      "done with 700 tickers in 132.7776300907135 seconds\n"
     ]
    },
    {
     "name": "stderr",
     "output_type": "stream",
     "text": [
      "404 Client Error: Not Found for url: https://query2.finance.yahoo.com/v10/finance/quoteSummary/GMM.BO?modules=financialData%2CquoteType%2CdefaultKeyStatistics%2CassetProfile%2CsummaryDetail&corsDomain=finance.yahoo.com&formatted=false&symbol=GMM.BO&crumb=Mk2.ekFLtPm\n"
     ]
    },
    {
     "name": "stdout",
     "output_type": "stream",
     "text": [
      "done with 800 tickers in 150.1723849773407 seconds\n"
     ]
    },
    {
     "name": "stderr",
     "output_type": "stream",
     "text": [
      "404 Client Error: Not Found for url: https://query2.finance.yahoo.com/v10/finance/quoteSummary/CAPPL.BO?modules=financialData%2CquoteType%2CdefaultKeyStatistics%2CassetProfile%2CsummaryDetail&corsDomain=finance.yahoo.com&formatted=false&symbol=CAPPL.BO&crumb=Mk2.ekFLtPm\n",
      "404 Client Error: Not Found for url: https://query2.finance.yahoo.com/v10/finance/quoteSummary/TATASTLLP.NS?modules=financialData%2CquoteType%2CdefaultKeyStatistics%2CassetProfile%2CsummaryDetail&corsDomain=finance.yahoo.com&formatted=false&symbol=TATASTLLP.NS&crumb=Mk2.ekFLtPm\n"
     ]
    },
    {
     "name": "stdout",
     "output_type": "stream",
     "text": [
      "done with 900 tickers in 168.45795392990112 seconds\n"
     ]
    },
    {
     "name": "stderr",
     "output_type": "stream",
     "text": [
      "404 Client Error: Not Found for url: https://query2.finance.yahoo.com/v10/finance/quoteSummary/SUNCLAYLTD.BO?modules=financialData%2CquoteType%2CdefaultKeyStatistics%2CassetProfile%2CsummaryDetail&corsDomain=finance.yahoo.com&formatted=false&symbol=SUNCLAYLTD.BO&crumb=Mk2.ekFLtPm\n",
      "404 Client Error: Not Found for url: https://query2.finance.yahoo.com/v10/finance/quoteSummary/MFL.NS?modules=financialData%2CquoteType%2CdefaultKeyStatistics%2CassetProfile%2CsummaryDetail&corsDomain=finance.yahoo.com&formatted=false&symbol=MFL.NS&crumb=Mk2.ekFLtPm\n"
     ]
    },
    {
     "name": "stdout",
     "output_type": "stream",
     "text": [
      "done with 1000 tickers in 186.9610731601715 seconds\n"
     ]
    },
    {
     "name": "stderr",
     "output_type": "stream",
     "text": [
      "404 Client Error: Not Found for url: https://query2.finance.yahoo.com/v10/finance/quoteSummary/TASTYBIT.BO?modules=financialData%2CquoteType%2CdefaultKeyStatistics%2CassetProfile%2CsummaryDetail&corsDomain=finance.yahoo.com&formatted=false&symbol=TASTYBIT.BO&crumb=Mk2.ekFLtPm\n",
      "404 Client Error: Not Found for url: https://query2.finance.yahoo.com/v10/finance/quoteSummary/SUPPETRO.BO?modules=financialData%2CquoteType%2CdefaultKeyStatistics%2CassetProfile%2CsummaryDetail&corsDomain=finance.yahoo.com&formatted=false&symbol=SUPPETRO.BO&crumb=Mk2.ekFLtPm\n",
      "404 Client Error: Not Found for url: https://query2.finance.yahoo.com/v10/finance/quoteSummary/DAAWAT.NS?modules=financialData%2CquoteType%2CdefaultKeyStatistics%2CassetProfile%2CsummaryDetail&corsDomain=finance.yahoo.com&formatted=false&symbol=DAAWAT.NS&crumb=Mk2.ekFLtPm\n",
      "404 Client Error: Not Found for url: https://query2.finance.yahoo.com/v10/finance/quoteSummary/GATI.NS?modules=financialData%2CquoteType%2CdefaultKeyStatistics%2CassetProfile%2CsummaryDetail&corsDomain=finance.yahoo.com&formatted=false&symbol=GATI.NS&crumb=Mk2.ekFLtPm\n"
     ]
    },
    {
     "name": "stdout",
     "output_type": "stream",
     "text": [
      "done with 1100 tickers in 210.57237601280212 seconds\n"
     ]
    },
    {
     "name": "stderr",
     "output_type": "stream",
     "text": [
      "404 Client Error: Not Found for url: https://query2.finance.yahoo.com/v10/finance/quoteSummary/LSIL.NS?modules=financialData%2CquoteType%2CdefaultKeyStatistics%2CassetProfile%2CsummaryDetail&corsDomain=finance.yahoo.com&formatted=false&symbol=LSIL.NS&crumb=Mk2.ekFLtPm\n",
      "404 Client Error: Not Found for url: https://query2.finance.yahoo.com/v10/finance/quoteSummary/VENKYS.BO?modules=financialData%2CquoteType%2CdefaultKeyStatistics%2CassetProfile%2CsummaryDetail&corsDomain=finance.yahoo.com&formatted=false&symbol=VENKYS.BO&crumb=Mk2.ekFLtPm\n"
     ]
    },
    {
     "name": "stdout",
     "output_type": "stream",
     "text": [
      "done with 1200 tickers in 229.56077194213867 seconds\n"
     ]
    },
    {
     "name": "stderr",
     "output_type": "stream",
     "text": [
      "404 Client Error: Not Found for url: https://query2.finance.yahoo.com/v10/finance/quoteSummary/MAXINDIA.BO?modules=financialData%2CquoteType%2CdefaultKeyStatistics%2CassetProfile%2CsummaryDetail&corsDomain=finance.yahoo.com&formatted=false&symbol=MAXINDIA.BO&crumb=Mk2.ekFLtPm\n",
      "404 Client Error: Not Found for url: https://query2.finance.yahoo.com/v10/finance/quoteSummary/GRNLAMIND.BO?modules=financialData%2CquoteType%2CdefaultKeyStatistics%2CassetProfile%2CsummaryDetail&corsDomain=finance.yahoo.com&formatted=false&symbol=GRNLAMIND.BO&crumb=Mk2.ekFLtPm\n",
      "404 Client Error: Not Found for url: https://query2.finance.yahoo.com/v10/finance/quoteSummary/DAAWAT.BO?modules=financialData%2CquoteType%2CdefaultKeyStatistics%2CassetProfile%2CsummaryDetail&corsDomain=finance.yahoo.com&formatted=false&symbol=DAAWAT.BO&crumb=Mk2.ekFLtPm\n",
      "404 Client Error: Not Found for url: https://query2.finance.yahoo.com/v10/finance/quoteSummary/DFM.BO?modules=financialData%2CquoteType%2CdefaultKeyStatistics%2CassetProfile%2CsummaryDetail&corsDomain=finance.yahoo.com&formatted=false&symbol=DFM.BO&crumb=Mk2.ekFLtPm\n"
     ]
    },
    {
     "name": "stdout",
     "output_type": "stream",
     "text": [
      "done with 1300 tickers in 249.52755498886108 seconds\n"
     ]
    },
    {
     "name": "stderr",
     "output_type": "stream",
     "text": [
      "404 Client Error: Not Found for url: https://query2.finance.yahoo.com/v10/finance/quoteSummary/RSYSTEMINT.BO?modules=financialData%2CquoteType%2CdefaultKeyStatistics%2CassetProfile%2CsummaryDetail&corsDomain=finance.yahoo.com&formatted=false&symbol=RSYSTEMINT.BO&crumb=Mk2.ekFLtPm\n"
     ]
    },
    {
     "name": "stdout",
     "output_type": "stream",
     "text": [
      "done with 1400 tickers in 265.20368099212646 seconds\n"
     ]
    },
    {
     "name": "stderr",
     "output_type": "stream",
     "text": [
      "404 Client Error: Not Found for url: https://query2.finance.yahoo.com/v10/finance/quoteSummary/CIGNITI.BO?modules=financialData%2CquoteType%2CdefaultKeyStatistics%2CassetProfile%2CsummaryDetail&corsDomain=finance.yahoo.com&formatted=false&symbol=CIGNITI.BO&crumb=Mk2.ekFLtPm\n"
     ]
    },
    {
     "name": "stdout",
     "output_type": "stream",
     "text": [
      "done with 1500 tickers in 281.3120610713959 seconds\n"
     ]
    },
    {
     "name": "stderr",
     "output_type": "stream",
     "text": [
      "404 Client Error: Not Found for url: https://query2.finance.yahoo.com/v10/finance/quoteSummary/NBVENTURES.BO?modules=financialData%2CquoteType%2CdefaultKeyStatistics%2CassetProfile%2CsummaryDetail&corsDomain=finance.yahoo.com&formatted=false&symbol=NBVENTURES.BO&crumb=Mk2.ekFLtPm\n",
      "404 Client Error: Not Found for url: https://query2.finance.yahoo.com/v10/finance/quoteSummary/SAFARIND.BO?modules=financialData%2CquoteType%2CdefaultKeyStatistics%2CassetProfile%2CsummaryDetail&corsDomain=finance.yahoo.com&formatted=false&symbol=SAFARIND.BO&crumb=Mk2.ekFLtPm\n",
      "404 Client Error: Not Found for url: https://query2.finance.yahoo.com/v10/finance/quoteSummary/SUBEX.BO?modules=financialData%2CquoteType%2CdefaultKeyStatistics%2CassetProfile%2CsummaryDetail&corsDomain=finance.yahoo.com&formatted=false&symbol=SUBEX.BO&crumb=Mk2.ekFLtPm\n",
      "404 Client Error: Not Found for url: https://query2.finance.yahoo.com/v10/finance/quoteSummary/COSMOFILMS.BO?modules=financialData%2CquoteType%2CdefaultKeyStatistics%2CassetProfile%2CsummaryDetail&corsDomain=finance.yahoo.com&formatted=false&symbol=COSMOFILMS.BO&crumb=Mk2.ekFLtPm\n"
     ]
    },
    {
     "name": "stdout",
     "output_type": "stream",
     "text": [
      "done with 1600 tickers in 304.02288007736206 seconds\n"
     ]
    },
    {
     "name": "stderr",
     "output_type": "stream",
     "text": [
      "404 Client Error: Not Found for url: https://query2.finance.yahoo.com/v10/finance/quoteSummary/ORIENTCQ.BO?modules=financialData%2CquoteType%2CdefaultKeyStatistics%2CassetProfile%2CsummaryDetail&corsDomain=finance.yahoo.com&formatted=false&symbol=ORIENTCQ.BO&crumb=Mk2.ekFLtPm\n"
     ]
    },
    {
     "name": "stdout",
     "output_type": "stream",
     "text": [
      "done with 1700 tickers in 320.1653470993042 seconds\n"
     ]
    },
    {
     "name": "stderr",
     "output_type": "stream",
     "text": [
      "404 Client Error: Not Found for url: https://query2.finance.yahoo.com/v10/finance/quoteSummary/GATI.BO?modules=financialData%2CquoteType%2CdefaultKeyStatistics%2CassetProfile%2CsummaryDetail&corsDomain=finance.yahoo.com&formatted=false&symbol=GATI.BO&crumb=Mk2.ekFLtPm\n",
      "404 Client Error: Not Found for url: https://query2.finance.yahoo.com/v10/finance/quoteSummary/TTKHEALTH.BO?modules=financialData%2CquoteType%2CdefaultKeyStatistics%2CassetProfile%2CsummaryDetail&corsDomain=finance.yahoo.com&formatted=false&symbol=TTKHEALTH.BO&crumb=Mk2.ekFLtPm\n"
     ]
    },
    {
     "name": "stdout",
     "output_type": "stream",
     "text": [
      "done with 1800 tickers in 337.8949890136719 seconds\n"
     ]
    },
    {
     "name": "stderr",
     "output_type": "stream",
     "text": [
      "404 Client Error: Not Found for url: https://query2.finance.yahoo.com/v10/finance/quoteSummary/MUTHTFN.BO?modules=financialData%2CquoteType%2CdefaultKeyStatistics%2CassetProfile%2CsummaryDetail&corsDomain=finance.yahoo.com&formatted=false&symbol=MUTHTFN.BO&crumb=Mk2.ekFLtPm\n",
      "404 Client Error: Not Found for url: https://query2.finance.yahoo.com/v10/finance/quoteSummary/SHARDA.BO?modules=financialData%2CquoteType%2CdefaultKeyStatistics%2CassetProfile%2CsummaryDetail&corsDomain=finance.yahoo.com&formatted=false&symbol=SHARDA.BO&crumb=Mk2.ekFLtPm\n",
      "404 Client Error: Not Found for url: https://query2.finance.yahoo.com/v10/finance/quoteSummary/APOLLOPIPES.BO?modules=financialData%2CquoteType%2CdefaultKeyStatistics%2CassetProfile%2CsummaryDetail&corsDomain=finance.yahoo.com&formatted=false&symbol=APOLLOPIPES.BO&crumb=Mk2.ekFLtPm\n"
     ]
    },
    {
     "name": "stdout",
     "output_type": "stream",
     "text": [
      "done with 1900 tickers in 358.77833700180054 seconds\n"
     ]
    },
    {
     "name": "stderr",
     "output_type": "stream",
     "text": [
      "404 Client Error: Not Found for url: https://query2.finance.yahoo.com/v10/finance/quoteSummary/PROZONINTU.NS?modules=financialData%2CquoteType%2CdefaultKeyStatistics%2CassetProfile%2CsummaryDetail&corsDomain=finance.yahoo.com&formatted=false&symbol=PROZONINTU.NS&crumb=Mk2.ekFLtPm\n",
      "404 Client Error: Not Found for url: https://query2.finance.yahoo.com/v10/finance/quoteSummary/3IINFOTECH.BO?modules=financialData%2CquoteType%2CdefaultKeyStatistics%2CassetProfile%2CsummaryDetail&corsDomain=finance.yahoo.com&formatted=false&symbol=3IINFOTECH.BO&crumb=Mk2.ekFLtPm\n",
      "404 Client Error: Not Found for url: https://query2.finance.yahoo.com/v10/finance/quoteSummary/AJIL.BO?modules=financialData%2CquoteType%2CdefaultKeyStatistics%2CassetProfile%2CsummaryDetail&corsDomain=finance.yahoo.com&formatted=false&symbol=AJIL.BO&crumb=Mk2.ekFLtPm\n",
      "404 Client Error: Not Found for url: https://query2.finance.yahoo.com/v10/finance/quoteSummary/CHAMANSEQ.BO?modules=financialData%2CquoteType%2CdefaultKeyStatistics%2CassetProfile%2CsummaryDetail&corsDomain=finance.yahoo.com&formatted=false&symbol=CHAMANSEQ.BO&crumb=Mk2.ekFLtPm\n",
      "404 Client Error: Not Found for url: https://query2.finance.yahoo.com/v10/finance/quoteSummary/LINCOPH.BO?modules=financialData%2CquoteType%2CdefaultKeyStatistics%2CassetProfile%2CsummaryDetail&corsDomain=finance.yahoo.com&formatted=false&symbol=LINCOPH.BO&crumb=Mk2.ekFLtPm\n"
     ]
    },
    {
     "name": "stdout",
     "output_type": "stream",
     "text": [
      "done with 2000 tickers in 382.81494212150574 seconds\n"
     ]
    },
    {
     "name": "stderr",
     "output_type": "stream",
     "text": [
      "404 Client Error: Not Found for url: https://query2.finance.yahoo.com/v10/finance/quoteSummary/UNIPHOS.BO?modules=financialData%2CquoteType%2CdefaultKeyStatistics%2CassetProfile%2CsummaryDetail&corsDomain=finance.yahoo.com&formatted=false&symbol=UNIPHOS.BO&crumb=Mk2.ekFLtPm\n",
      "404 Client Error: Not Found for url: https://query2.finance.yahoo.com/v10/finance/quoteSummary/RAJGLOWIR.BO?modules=financialData%2CquoteType%2CdefaultKeyStatistics%2CassetProfile%2CsummaryDetail&corsDomain=finance.yahoo.com&formatted=false&symbol=RAJGLOWIR.BO&crumb=Mk2.ekFLtPm\n",
      "404 Client Error: Not Found for url: https://query2.finance.yahoo.com/v10/finance/quoteSummary/ORIENTABRA.NS?modules=financialData%2CquoteType%2CdefaultKeyStatistics%2CassetProfile%2CsummaryDetail&corsDomain=finance.yahoo.com&formatted=false&symbol=ORIENTABRA.NS&crumb=Mk2.ekFLtPm\n"
     ]
    },
    {
     "name": "stdout",
     "output_type": "stream",
     "text": [
      "done with 2100 tickers in 401.81010699272156 seconds\n"
     ]
    },
    {
     "name": "stderr",
     "output_type": "stream",
     "text": [
      "404 Client Error: Not Found for url: https://query2.finance.yahoo.com/v10/finance/quoteSummary/DHARAMSI.BO?modules=financialData%2CquoteType%2CdefaultKeyStatistics%2CassetProfile%2CsummaryDetail&corsDomain=finance.yahoo.com&formatted=false&symbol=DHARAMSI.BO&crumb=Mk2.ekFLtPm\n",
      "404 Client Error: Not Found for url: https://query2.finance.yahoo.com/v10/finance/quoteSummary/UCALFUEL.NS?modules=financialData%2CquoteType%2CdefaultKeyStatistics%2CassetProfile%2CsummaryDetail&corsDomain=finance.yahoo.com&formatted=false&symbol=UCALFUEL.NS&crumb=Mk2.ekFLtPm\n",
      "404 Client Error: Not Found for url: https://query2.finance.yahoo.com/v10/finance/quoteSummary/SREINFRA.BO?modules=financialData%2CquoteType%2CdefaultKeyStatistics%2CassetProfile%2CsummaryDetail&corsDomain=finance.yahoo.com&formatted=false&symbol=SREINFRA.BO&crumb=Mk2.ekFLtPm\n",
      "404 Client Error: Not Found for url: https://query2.finance.yahoo.com/v10/finance/quoteSummary/SREINFRA.NS?modules=financialData%2CquoteType%2CdefaultKeyStatistics%2CassetProfile%2CsummaryDetail&corsDomain=finance.yahoo.com&formatted=false&symbol=SREINFRA.NS&crumb=Mk2.ekFLtPm\n",
      "404 Client Error: Not Found for url: https://query2.finance.yahoo.com/v10/finance/quoteSummary/NRAGRINDQ.BO?modules=financialData%2CquoteType%2CdefaultKeyStatistics%2CassetProfile%2CsummaryDetail&corsDomain=finance.yahoo.com&formatted=false&symbol=NRAGRINDQ.BO&crumb=Mk2.ekFLtPm\n"
     ]
    },
    {
     "name": "stdout",
     "output_type": "stream",
     "text": [
      "done with 2200 tickers in 426.7039330005646 seconds\n"
     ]
    },
    {
     "name": "stderr",
     "output_type": "stream",
     "text": [
      "404 Client Error: Not Found for url: https://query2.finance.yahoo.com/v10/finance/quoteSummary/KILPEST.BO?modules=financialData%2CquoteType%2CdefaultKeyStatistics%2CassetProfile%2CsummaryDetail&corsDomain=finance.yahoo.com&formatted=false&symbol=KILPEST.BO&crumb=Mk2.ekFLtPm\n",
      "404 Client Error: Not Found for url: https://query2.finance.yahoo.com/v10/finance/quoteSummary/DCMSRMIND.BO?modules=financialData%2CquoteType%2CdefaultKeyStatistics%2CassetProfile%2CsummaryDetail&corsDomain=finance.yahoo.com&formatted=false&symbol=DCMSRMIND.BO&crumb=Mk2.ekFLtPm\n",
      "404 Client Error: Not Found for url: https://query2.finance.yahoo.com/v10/finance/quoteSummary/ORICON.BO?modules=financialData%2CquoteType%2CdefaultKeyStatistics%2CassetProfile%2CsummaryDetail&corsDomain=finance.yahoo.com&formatted=false&symbol=ORICON.BO&crumb=Mk2.ekFLtPm\n",
      "404 Client Error: Not Found for url: https://query2.finance.yahoo.com/v10/finance/quoteSummary/BHAGIL.BO?modules=financialData%2CquoteType%2CdefaultKeyStatistics%2CassetProfile%2CsummaryDetail&corsDomain=finance.yahoo.com&formatted=false&symbol=BHAGIL.BO&crumb=Mk2.ekFLtPm\n"
     ]
    },
    {
     "name": "stdout",
     "output_type": "stream",
     "text": [
      "done with 2300 tickers in 449.99137902259827 seconds\n"
     ]
    },
    {
     "name": "stderr",
     "output_type": "stream",
     "text": [
      "404 Client Error: Not Found for url: https://query2.finance.yahoo.com/v10/finance/quoteSummary/PROZONINTU.BO?modules=financialData%2CquoteType%2CdefaultKeyStatistics%2CassetProfile%2CsummaryDetail&corsDomain=finance.yahoo.com&formatted=false&symbol=PROZONINTU.BO&crumb=Mk2.ekFLtPm\n",
      "404 Client Error: Not Found for url: https://query2.finance.yahoo.com/v10/finance/quoteSummary/UCALFUEL.BO?modules=financialData%2CquoteType%2CdefaultKeyStatistics%2CassetProfile%2CsummaryDetail&corsDomain=finance.yahoo.com&formatted=false&symbol=UCALFUEL.BO&crumb=Mk2.ekFLtPm\n",
      "404 Client Error: Not Found for url: https://query2.finance.yahoo.com/v10/finance/quoteSummary/REVATHI.NS?modules=financialData%2CquoteType%2CdefaultKeyStatistics%2CassetProfile%2CsummaryDetail&corsDomain=finance.yahoo.com&formatted=false&symbol=REVATHI.NS&crumb=Mk2.ekFLtPm\n",
      "404 Client Error: Not Found for url: https://query2.finance.yahoo.com/v10/finance/quoteSummary/NAGARFERT.BO?modules=financialData%2CquoteType%2CdefaultKeyStatistics%2CassetProfile%2CsummaryDetail&corsDomain=finance.yahoo.com&formatted=false&symbol=NAGARFERT.BO&crumb=Mk2.ekFLtPm\n",
      "404 Client Error: Not Found for url: https://query2.finance.yahoo.com/v10/finance/quoteSummary/ALBERTDA.BO?modules=financialData%2CquoteType%2CdefaultKeyStatistics%2CassetProfile%2CsummaryDetail&corsDomain=finance.yahoo.com&formatted=false&symbol=ALBERTDA.BO&crumb=Mk2.ekFLtPm\n",
      "404 Client Error: Not Found for url: https://query2.finance.yahoo.com/v10/finance/quoteSummary/ORIENTABRA.BO?modules=financialData%2CquoteType%2CdefaultKeyStatistics%2CassetProfile%2CsummaryDetail&corsDomain=finance.yahoo.com&formatted=false&symbol=ORIENTABRA.BO&crumb=Mk2.ekFLtPm\n",
      "404 Client Error: Not Found for url: https://query2.finance.yahoo.com/v10/finance/quoteSummary/MAZDALTD.BO?modules=financialData%2CquoteType%2CdefaultKeyStatistics%2CassetProfile%2CsummaryDetail&corsDomain=finance.yahoo.com&formatted=false&symbol=MAZDALTD.BO&crumb=Mk2.ekFLtPm\n",
      "404 Client Error: Not Found for url: https://query2.finance.yahoo.com/v10/finance/quoteSummary/SEPOWER.NS?modules=financialData%2CquoteType%2CdefaultKeyStatistics%2CassetProfile%2CsummaryDetail&corsDomain=finance.yahoo.com&formatted=false&symbol=SEPOWER.NS&crumb=Mk2.ekFLtPm\n",
      "404 Client Error: Not Found for url: https://query2.finance.yahoo.com/v10/finance/quoteSummary/AMRITCORP.BO?modules=financialData%2CquoteType%2CdefaultKeyStatistics%2CassetProfile%2CsummaryDetail&corsDomain=finance.yahoo.com&formatted=false&symbol=AMRITCORP.BO&crumb=Mk2.ekFLtPm\n"
     ]
    },
    {
     "name": "stdout",
     "output_type": "stream",
     "text": [
      "done with 2400 tickers in 482.16217589378357 seconds\n"
     ]
    },
    {
     "name": "stderr",
     "output_type": "stream",
     "text": [
      "404 Client Error: Not Found for url: https://query2.finance.yahoo.com/v10/finance/quoteSummary/SHBCLQ.BO?modules=financialData%2CquoteType%2CdefaultKeyStatistics%2CassetProfile%2CsummaryDetail&corsDomain=finance.yahoo.com&formatted=false&symbol=SHBCLQ.BO&crumb=Mk2.ekFLtPm\n",
      "404 Client Error: Not Found for url: https://query2.finance.yahoo.com/v10/finance/quoteSummary/PODARPIGQ.BO?modules=financialData%2CquoteType%2CdefaultKeyStatistics%2CassetProfile%2CsummaryDetail&corsDomain=finance.yahoo.com&formatted=false&symbol=PODARPIGQ.BO&crumb=Mk2.ekFLtPm\n"
     ]
    },
    {
     "name": "stdout",
     "output_type": "stream",
     "text": [
      "done with 2500 tickers in 500.1871268749237 seconds\n"
     ]
    },
    {
     "name": "stderr",
     "output_type": "stream",
     "text": [
      "404 Client Error: Not Found for url: https://query2.finance.yahoo.com/v10/finance/quoteSummary/DHUNTEAIND.BO?modules=financialData%2CquoteType%2CdefaultKeyStatistics%2CassetProfile%2CsummaryDetail&corsDomain=finance.yahoo.com&formatted=false&symbol=DHUNTEAIND.BO&crumb=Mk2.ekFLtPm\n",
      "404 Client Error: Not Found for url: https://query2.finance.yahoo.com/v10/finance/quoteSummary/AKSCHEM.BO?modules=financialData%2CquoteType%2CdefaultKeyStatistics%2CassetProfile%2CsummaryDetail&corsDomain=finance.yahoo.com&formatted=false&symbol=AKSCHEM.BO&crumb=Mk2.ekFLtPm\n",
      "404 Client Error: Not Found for url: https://query2.finance.yahoo.com/v10/finance/quoteSummary/JAYSHREETEA.BO?modules=financialData%2CquoteType%2CdefaultKeyStatistics%2CassetProfile%2CsummaryDetail&corsDomain=finance.yahoo.com&formatted=false&symbol=JAYSHREETEA.BO&crumb=Mk2.ekFLtPm\n",
      "404 Client Error: Not Found for url: https://query2.finance.yahoo.com/v10/finance/quoteSummary/VIPUL.BO?modules=financialData%2CquoteType%2CdefaultKeyStatistics%2CassetProfile%2CsummaryDetail&corsDomain=finance.yahoo.com&formatted=false&symbol=VIPUL.BO&crumb=Mk2.ekFLtPm\n",
      "404 Client Error: Not Found for url: https://query2.finance.yahoo.com/v10/finance/quoteSummary/SINTEXPLAST.BO?modules=financialData%2CquoteType%2CdefaultKeyStatistics%2CassetProfile%2CsummaryDetail&corsDomain=finance.yahoo.com&formatted=false&symbol=SINTEXPLAST.BO&crumb=Mk2.ekFLtPm\n",
      "404 Client Error: Not Found for url: https://query2.finance.yahoo.com/v10/finance/quoteSummary/NILA.BO?modules=financialData%2CquoteType%2CdefaultKeyStatistics%2CassetProfile%2CsummaryDetail&corsDomain=finance.yahoo.com&formatted=false&symbol=NILA.BO&crumb=Mk2.ekFLtPm\n",
      "404 Client Error: Not Found for url: https://query2.finance.yahoo.com/v10/finance/quoteSummary/MAGADHSUGAR.BO?modules=financialData%2CquoteType%2CdefaultKeyStatistics%2CassetProfile%2CsummaryDetail&corsDomain=finance.yahoo.com&formatted=false&symbol=MAGADHSUGAR.BO&crumb=Mk2.ekFLtPm\n",
      "404 Client Error: Not Found for url: https://query2.finance.yahoo.com/v10/finance/quoteSummary/URJAGLOBA.BO?modules=financialData%2CquoteType%2CdefaultKeyStatistics%2CassetProfile%2CsummaryDetail&corsDomain=finance.yahoo.com&formatted=false&symbol=URJAGLOBA.BO&crumb=Mk2.ekFLtPm\n",
      "404 Client Error: Not Found for url: https://query2.finance.yahoo.com/v10/finance/quoteSummary/JMTAUTOLTD.NS?modules=financialData%2CquoteType%2CdefaultKeyStatistics%2CassetProfile%2CsummaryDetail&corsDomain=finance.yahoo.com&formatted=false&symbol=JMTAUTOLTD.NS&crumb=Mk2.ekFLtPm\n",
      "404 Client Error: Not Found for url: https://query2.finance.yahoo.com/v10/finance/quoteSummary/SALZER.BO?modules=financialData%2CquoteType%2CdefaultKeyStatistics%2CassetProfile%2CsummaryDetail&corsDomain=finance.yahoo.com&formatted=false&symbol=SALZER.BO&crumb=Mk2.ekFLtPm\n"
     ]
    },
    {
     "name": "stdout",
     "output_type": "stream",
     "text": [
      "done with 2600 tickers in 533.6241660118103 seconds\n"
     ]
    },
    {
     "name": "stderr",
     "output_type": "stream",
     "text": [
      "404 Client Error: Not Found for url: https://query2.finance.yahoo.com/v10/finance/quoteSummary/ATLANTA.NS?modules=financialData%2CquoteType%2CdefaultKeyStatistics%2CassetProfile%2CsummaryDetail&corsDomain=finance.yahoo.com&formatted=false&symbol=ATLANTA.NS&crumb=Mk2.ekFLtPm\n",
      "404 Client Error: Not Found for url: https://query2.finance.yahoo.com/v10/finance/quoteSummary/ZUARIGLOB.BO?modules=financialData%2CquoteType%2CdefaultKeyStatistics%2CassetProfile%2CsummaryDetail&corsDomain=finance.yahoo.com&formatted=false&symbol=ZUARIGLOB.BO&crumb=Mk2.ekFLtPm\n",
      "404 Client Error: Not Found for url: https://query2.finance.yahoo.com/v10/finance/quoteSummary/ANDHRACEMT.BO?modules=financialData%2CquoteType%2CdefaultKeyStatistics%2CassetProfile%2CsummaryDetail&corsDomain=finance.yahoo.com&formatted=false&symbol=ANDHRACEMT.BO&crumb=Mk2.ekFLtPm\n",
      "404 Client Error: Not Found for url: https://query2.finance.yahoo.com/v10/finance/quoteSummary/KRITIIND.BO?modules=financialData%2CquoteType%2CdefaultKeyStatistics%2CassetProfile%2CsummaryDetail&corsDomain=finance.yahoo.com&formatted=false&symbol=KRITIIND.BO&crumb=Mk2.ekFLtPm\n",
      "404 Client Error: Not Found for url: https://query2.finance.yahoo.com/v10/finance/quoteSummary/JMTAUTOLTD.BO?modules=financialData%2CquoteType%2CdefaultKeyStatistics%2CassetProfile%2CsummaryDetail&corsDomain=finance.yahoo.com&formatted=false&symbol=JMTAUTOLTD.BO&crumb=Mk2.ekFLtPm\n",
      "404 Client Error: Not Found for url: https://query2.finance.yahoo.com/v10/finance/quoteSummary/REVATHI.BO?modules=financialData%2CquoteType%2CdefaultKeyStatistics%2CassetProfile%2CsummaryDetail&corsDomain=finance.yahoo.com&formatted=false&symbol=REVATHI.BO&crumb=Mk2.ekFLtPm\n",
      "404 Client Error: Not Found for url: https://query2.finance.yahoo.com/v10/finance/quoteSummary/CEBBCO.BO?modules=financialData%2CquoteType%2CdefaultKeyStatistics%2CassetProfile%2CsummaryDetail&corsDomain=finance.yahoo.com&formatted=false&symbol=CEBBCO.BO&crumb=Mk2.ekFLtPm\n",
      "404 Client Error: Not Found for url: https://query2.finance.yahoo.com/v10/finance/quoteSummary/KHODAY.BO?modules=financialData%2CquoteType%2CdefaultKeyStatistics%2CassetProfile%2CsummaryDetail&corsDomain=finance.yahoo.com&formatted=false&symbol=KHODAY.BO&crumb=Mk2.ekFLtPm\n",
      "404 Client Error: Not Found for url: https://query2.finance.yahoo.com/v10/finance/quoteSummary/MOLDTEK.BO?modules=financialData%2CquoteType%2CdefaultKeyStatistics%2CassetProfile%2CsummaryDetail&corsDomain=finance.yahoo.com&formatted=false&symbol=MOLDTEK.BO&crumb=Mk2.ekFLtPm\n"
     ]
    },
    {
     "name": "stdout",
     "output_type": "stream",
     "text": [
      "done with 2700 tickers in 565.94380402565 seconds\n"
     ]
    },
    {
     "name": "stderr",
     "output_type": "stream",
     "text": [
      "404 Client Error: Not Found for url: https://query2.finance.yahoo.com/v10/finance/quoteSummary/PREMEXPLQ.BO?modules=financialData%2CquoteType%2CdefaultKeyStatistics%2CassetProfile%2CsummaryDetail&corsDomain=finance.yahoo.com&formatted=false&symbol=PREMEXPLQ.BO&crumb=Mk2.ekFLtPm\n",
      "404 Client Error: Not Found for url: https://query2.finance.yahoo.com/v10/finance/quoteSummary/ARIHCAPM.BO?modules=financialData%2CquoteType%2CdefaultKeyStatistics%2CassetProfile%2CsummaryDetail&corsDomain=finance.yahoo.com&formatted=false&symbol=ARIHCAPM.BO&crumb=Mk2.ekFLtPm\n",
      "404 Client Error: Not Found for url: https://query2.finance.yahoo.com/v10/finance/quoteSummary/GAL.NS?modules=financialData%2CquoteType%2CdefaultKeyStatistics%2CassetProfile%2CsummaryDetail&corsDomain=finance.yahoo.com&formatted=false&symbol=GAL.NS&crumb=Mk2.ekFLtPm\n"
     ]
    },
    {
     "name": "stdout",
     "output_type": "stream",
     "text": [
      "done with 2800 tickers in 587.0247719287872 seconds\n"
     ]
    },
    {
     "name": "stderr",
     "output_type": "stream",
     "text": [
      "404 Client Error: Not Found for url: https://query2.finance.yahoo.com/v10/finance/quoteSummary/SHIVTEX.BO?modules=financialData%2CquoteType%2CdefaultKeyStatistics%2CassetProfile%2CsummaryDetail&corsDomain=finance.yahoo.com&formatted=false&symbol=SHIVTEX.BO&crumb=Mk2.ekFLtPm\n",
      "404 Client Error: Not Found for url: https://query2.finance.yahoo.com/v10/finance/quoteSummary/UMANGDAIR.BO?modules=financialData%2CquoteType%2CdefaultKeyStatistics%2CassetProfile%2CsummaryDetail&corsDomain=finance.yahoo.com&formatted=false&symbol=UMANGDAIR.BO&crumb=Mk2.ekFLtPm\n",
      "404 Client Error: Not Found for url: https://query2.finance.yahoo.com/v10/finance/quoteSummary/PODDAR.BO?modules=financialData%2CquoteType%2CdefaultKeyStatistics%2CassetProfile%2CsummaryDetail&corsDomain=finance.yahoo.com&formatted=false&symbol=PODDAR.BO&crumb=Mk2.ekFLtPm\n",
      "404 Client Error: Not Found for url: https://query2.finance.yahoo.com/v10/finance/quoteSummary/RELHOME.BO?modules=financialData%2CquoteType%2CdefaultKeyStatistics%2CassetProfile%2CsummaryDetail&corsDomain=finance.yahoo.com&formatted=false&symbol=RELHOME.BO&crumb=Mk2.ekFLtPm\n",
      "404 Client Error: Not Found for url: https://query2.finance.yahoo.com/v10/finance/quoteSummary/CAPITALT.BO?modules=financialData%2CquoteType%2CdefaultKeyStatistics%2CassetProfile%2CsummaryDetail&corsDomain=finance.yahoo.com&formatted=false&symbol=CAPITALT.BO&crumb=Mk2.ekFLtPm\n",
      "404 Client Error: Not Found for url: https://query2.finance.yahoo.com/v10/finance/quoteSummary/SHRGLTR.BO?modules=financialData%2CquoteType%2CdefaultKeyStatistics%2CassetProfile%2CsummaryDetail&corsDomain=finance.yahoo.com&formatted=false&symbol=SHRGLTR.BO&crumb=Mk2.ekFLtPm\n"
     ]
    },
    {
     "name": "stdout",
     "output_type": "stream",
     "text": [
      "done with 2900 tickers in 613.774482011795 seconds\n"
     ]
    },
    {
     "name": "stderr",
     "output_type": "stream",
     "text": [
      "404 Client Error: Not Found for url: https://query2.finance.yahoo.com/v10/finance/quoteSummary/SCAPDVR.NS?modules=financialData%2CquoteType%2CdefaultKeyStatistics%2CassetProfile%2CsummaryDetail&corsDomain=finance.yahoo.com&formatted=false&symbol=SCAPDVR.NS&crumb=Mk2.ekFLtPm\n",
      "404 Client Error: Not Found for url: https://query2.finance.yahoo.com/v10/finance/quoteSummary/SICAL.NS?modules=financialData%2CquoteType%2CdefaultKeyStatistics%2CassetProfile%2CsummaryDetail&corsDomain=finance.yahoo.com&formatted=false&symbol=SICAL.NS&crumb=Mk2.ekFLtPm\n",
      "404 Client Error: Not Found for url: https://query2.finance.yahoo.com/v10/finance/quoteSummary/STAMPEDE.NS?modules=financialData%2CquoteType%2CdefaultKeyStatistics%2CassetProfile%2CsummaryDetail&corsDomain=finance.yahoo.com&formatted=false&symbol=STAMPEDE.NS&crumb=Mk2.ekFLtPm\n",
      "404 Client Error: Not Found for url: https://query2.finance.yahoo.com/v10/finance/quoteSummary/SCFL.BO?modules=financialData%2CquoteType%2CdefaultKeyStatistics%2CassetProfile%2CsummaryDetail&corsDomain=finance.yahoo.com&formatted=false&symbol=SCFL.BO&crumb=Mk2.ekFLtPm\n",
      "404 Client Error: Not Found for url: https://query2.finance.yahoo.com/v10/finance/quoteSummary/ASL.BO?modules=financialData%2CquoteType%2CdefaultKeyStatistics%2CassetProfile%2CsummaryDetail&corsDomain=finance.yahoo.com&formatted=false&symbol=ASL.BO&crumb=Mk2.ekFLtPm\n",
      "404 Client Error: Not Found for url: https://query2.finance.yahoo.com/v10/finance/quoteSummary/TPLPLAST.BO?modules=financialData%2CquoteType%2CdefaultKeyStatistics%2CassetProfile%2CsummaryDetail&corsDomain=finance.yahoo.com&formatted=false&symbol=TPLPLAST.BO&crumb=Mk2.ekFLtPm\n",
      "404 Client Error: Not Found for url: https://query2.finance.yahoo.com/v10/finance/quoteSummary/COMPUAGE.BO?modules=financialData%2CquoteType%2CdefaultKeyStatistics%2CassetProfile%2CsummaryDetail&corsDomain=finance.yahoo.com&formatted=false&symbol=COMPUAGE.BO&crumb=Mk2.ekFLtPm\n"
     ]
    },
    {
     "name": "stdout",
     "output_type": "stream",
     "text": [
      "done with 3000 tickers in 642.9654030799866 seconds\n"
     ]
    },
    {
     "name": "stderr",
     "output_type": "stream",
     "text": [
      "404 Client Error: Not Found for url: https://query2.finance.yahoo.com/v10/finance/quoteSummary/AREYDRG.BO?modules=financialData%2CquoteType%2CdefaultKeyStatistics%2CassetProfile%2CsummaryDetail&corsDomain=finance.yahoo.com&formatted=false&symbol=AREYDRG.BO&crumb=Mk2.ekFLtPm\n",
      "404 Client Error: Not Found for url: https://query2.finance.yahoo.com/v10/finance/quoteSummary/MANAKSTELTD.BO?modules=financialData%2CquoteType%2CdefaultKeyStatistics%2CassetProfile%2CsummaryDetail&corsDomain=finance.yahoo.com&formatted=false&symbol=MANAKSTELTD.BO&crumb=Mk2.ekFLtPm\n",
      "404 Client Error: Not Found for url: https://query2.finance.yahoo.com/v10/finance/quoteSummary/MESCON.BO?modules=financialData%2CquoteType%2CdefaultKeyStatistics%2CassetProfile%2CsummaryDetail&corsDomain=finance.yahoo.com&formatted=false&symbol=MESCON.BO&crumb=Mk2.ekFLtPm\n",
      "404 Client Error: Not Found for url: https://query2.finance.yahoo.com/v10/finance/quoteSummary/LLOYDSTEEL.BO?modules=financialData%2CquoteType%2CdefaultKeyStatistics%2CassetProfile%2CsummaryDetail&corsDomain=finance.yahoo.com&formatted=false&symbol=LLOYDSTEEL.BO&crumb=Mk2.ekFLtPm\n"
     ]
    },
    {
     "name": "stdout",
     "output_type": "stream",
     "text": [
      "done with 3100 tickers in 664.979474067688 seconds\n"
     ]
    },
    {
     "name": "stderr",
     "output_type": "stream",
     "text": [
      "404 Client Error: Not Found for url: https://query2.finance.yahoo.com/v10/finance/quoteSummary/LEHIL.BO?modules=financialData%2CquoteType%2CdefaultKeyStatistics%2CassetProfile%2CsummaryDetail&corsDomain=finance.yahoo.com&formatted=false&symbol=LEHIL.BO&crumb=Mk2.ekFLtPm\n",
      "404 Client Error: Not Found for url: https://query2.finance.yahoo.com/v10/finance/quoteSummary/TANTIACONS.NS?modules=financialData%2CquoteType%2CdefaultKeyStatistics%2CassetProfile%2CsummaryDetail&corsDomain=finance.yahoo.com&formatted=false&symbol=TANTIACONS.NS&crumb=Mk2.ekFLtPm\n",
      "404 Client Error: Not Found for url: https://query2.finance.yahoo.com/v10/finance/quoteSummary/SICAL.BO?modules=financialData%2CquoteType%2CdefaultKeyStatistics%2CassetProfile%2CsummaryDetail&corsDomain=finance.yahoo.com&formatted=false&symbol=SICAL.BO&crumb=Mk2.ekFLtPm\n",
      "404 Client Error: Not Found for url: https://query2.finance.yahoo.com/v10/finance/quoteSummary/DYNAMIC.BO?modules=financialData%2CquoteType%2CdefaultKeyStatistics%2CassetProfile%2CsummaryDetail&corsDomain=finance.yahoo.com&formatted=false&symbol=DYNAMIC.BO&crumb=Mk2.ekFLtPm\n",
      "404 Client Error: Not Found for url: https://query2.finance.yahoo.com/v10/finance/quoteSummary/ATLANTA.BO?modules=financialData%2CquoteType%2CdefaultKeyStatistics%2CassetProfile%2CsummaryDetail&corsDomain=finance.yahoo.com&formatted=false&symbol=ATLANTA.BO&crumb=Mk2.ekFLtPm\n",
      "404 Client Error: Not Found for url: https://query2.finance.yahoo.com/v10/finance/quoteSummary/SURATEX.BO?modules=financialData%2CquoteType%2CdefaultKeyStatistics%2CassetProfile%2CsummaryDetail&corsDomain=finance.yahoo.com&formatted=false&symbol=SURATEX.BO&crumb=Mk2.ekFLtPm\n",
      "404 Client Error: Not Found for url: https://query2.finance.yahoo.com/v10/finance/quoteSummary/SIGNETIND.BO?modules=financialData%2CquoteType%2CdefaultKeyStatistics%2CassetProfile%2CsummaryDetail&corsDomain=finance.yahoo.com&formatted=false&symbol=SIGNETIND.BO&crumb=Mk2.ekFLtPm\n",
      "404 Client Error: Not Found for url: https://query2.finance.yahoo.com/v10/finance/quoteSummary/BHAGYNAGAR.BO?modules=financialData%2CquoteType%2CdefaultKeyStatistics%2CassetProfile%2CsummaryDetail&corsDomain=finance.yahoo.com&formatted=false&symbol=BHAGYNAGAR.BO&crumb=Mk2.ekFLtPm\n",
      "404 Client Error: Not Found for url: https://query2.finance.yahoo.com/v10/finance/quoteSummary/DAMOINDUS.BO?modules=financialData%2CquoteType%2CdefaultKeyStatistics%2CassetProfile%2CsummaryDetail&corsDomain=finance.yahoo.com&formatted=false&symbol=DAMOINDUS.BO&crumb=Mk2.ekFLtPm\n",
      "404 Client Error: Not Found for url: https://query2.finance.yahoo.com/v10/finance/quoteSummary/INSILCO.BO?modules=financialData%2CquoteType%2CdefaultKeyStatistics%2CassetProfile%2CsummaryDetail&corsDomain=finance.yahoo.com&formatted=false&symbol=INSILCO.BO&crumb=Mk2.ekFLtPm\n",
      "404 Client Error: Not Found for url: https://query2.finance.yahoo.com/v10/finance/quoteSummary/THEBYKE.BO?modules=financialData%2CquoteType%2CdefaultKeyStatistics%2CassetProfile%2CsummaryDetail&corsDomain=finance.yahoo.com&formatted=false&symbol=THEBYKE.BO&crumb=Mk2.ekFLtPm\n",
      "404 Client Error: Not Found for url: https://query2.finance.yahoo.com/v10/finance/quoteSummary/CMI.BO?modules=financialData%2CquoteType%2CdefaultKeyStatistics%2CassetProfile%2CsummaryDetail&corsDomain=finance.yahoo.com&formatted=false&symbol=CMI.BO&crumb=Mk2.ekFLtPm\n"
     ]
    },
    {
     "name": "stdout",
     "output_type": "stream",
     "text": [
      "done with 3200 tickers in 703.8967242240906 seconds\n"
     ]
    },
    {
     "name": "stderr",
     "output_type": "stream",
     "text": [
      "404 Client Error: Not Found for url: https://query2.finance.yahoo.com/v10/finance/quoteSummary/DIAPOWER.NS?modules=financialData%2CquoteType%2CdefaultKeyStatistics%2CassetProfile%2CsummaryDetail&corsDomain=finance.yahoo.com&formatted=false&symbol=DIAPOWER.NS&crumb=Mk2.ekFLtPm\n",
      "404 Client Error: Not Found for url: https://query2.finance.yahoo.com/v10/finance/quoteSummary/MNKALCOLTD.BO?modules=financialData%2CquoteType%2CdefaultKeyStatistics%2CassetProfile%2CsummaryDetail&corsDomain=finance.yahoo.com&formatted=false&symbol=MNKALCOLTD.BO&crumb=Mk2.ekFLtPm\n",
      "404 Client Error: Not Found for url: https://query2.finance.yahoo.com/v10/finance/quoteSummary/ORCHIDPHAR.BO?modules=financialData%2CquoteType%2CdefaultKeyStatistics%2CassetProfile%2CsummaryDetail&corsDomain=finance.yahoo.com&formatted=false&symbol=ORCHIDPHAR.BO&crumb=Mk2.ekFLtPm\n",
      "404 Client Error: Not Found for url: https://query2.finance.yahoo.com/v10/finance/quoteSummary/GAL.BO?modules=financialData%2CquoteType%2CdefaultKeyStatistics%2CassetProfile%2CsummaryDetail&corsDomain=finance.yahoo.com&formatted=false&symbol=GAL.BO&crumb=Mk2.ekFLtPm\n",
      "404 Client Error: Not Found for url: https://query2.finance.yahoo.com/v10/finance/quoteSummary/HISARMET.BO?modules=financialData%2CquoteType%2CdefaultKeyStatistics%2CassetProfile%2CsummaryDetail&corsDomain=finance.yahoo.com&formatted=false&symbol=HISARMET.BO&crumb=Mk2.ekFLtPm\n",
      "404 Client Error: Not Found for url: https://query2.finance.yahoo.com/v10/finance/quoteSummary/GANGESSEC.BO?modules=financialData%2CquoteType%2CdefaultKeyStatistics%2CassetProfile%2CsummaryDetail&corsDomain=finance.yahoo.com&formatted=false&symbol=GANGESSEC.BO&crumb=Mk2.ekFLtPm\n",
      "404 Client Error: Not Found for url: https://query2.finance.yahoo.com/v10/finance/quoteSummary/OCEANIC.BO?modules=financialData%2CquoteType%2CdefaultKeyStatistics%2CassetProfile%2CsummaryDetail&corsDomain=finance.yahoo.com&formatted=false&symbol=OCEANIC.BO&crumb=Mk2.ekFLtPm\n",
      "404 Client Error: Not Found for url: https://query2.finance.yahoo.com/v10/finance/quoteSummary/KUSHAL.BO?modules=financialData%2CquoteType%2CdefaultKeyStatistics%2CassetProfile%2CsummaryDetail&corsDomain=finance.yahoo.com&formatted=false&symbol=KUSHAL.BO&crumb=Mk2.ekFLtPm\n"
     ]
    },
    {
     "name": "stdout",
     "output_type": "stream",
     "text": [
      "done with 3300 tickers in 735.5116291046143 seconds\n"
     ]
    },
    {
     "name": "stderr",
     "output_type": "stream",
     "text": [
      "404 Client Error: Not Found for url: https://query2.finance.yahoo.com/v10/finance/quoteSummary/SAHARA.BO?modules=financialData%2CquoteType%2CdefaultKeyStatistics%2CassetProfile%2CsummaryDetail&corsDomain=finance.yahoo.com&formatted=false&symbol=SAHARA.BO&crumb=Mk2.ekFLtPm\n",
      "404 Client Error: Not Found for url: https://query2.finance.yahoo.com/v10/finance/quoteSummary/BALFC.BO?modules=financialData%2CquoteType%2CdefaultKeyStatistics%2CassetProfile%2CsummaryDetail&corsDomain=finance.yahoo.com&formatted=false&symbol=BALFC.BO&crumb=Mk2.ekFLtPm\n"
     ]
    },
    {
     "name": "stdout",
     "output_type": "stream",
     "text": [
      "done with 3400 tickers in 753.3475539684296 seconds\n"
     ]
    },
    {
     "name": "stderr",
     "output_type": "stream",
     "text": [
      "404 Client Error: Not Found for url: https://query2.finance.yahoo.com/v10/finance/quoteSummary/PALASHSEC.BO?modules=financialData%2CquoteType%2CdefaultKeyStatistics%2CassetProfile%2CsummaryDetail&corsDomain=finance.yahoo.com&formatted=false&symbol=PALASHSEC.BO&crumb=Mk2.ekFLtPm\n",
      "404 Client Error: Not Found for url: https://query2.finance.yahoo.com/v10/finance/quoteSummary/TAMBOLI.BO?modules=financialData%2CquoteType%2CdefaultKeyStatistics%2CassetProfile%2CsummaryDetail&corsDomain=finance.yahoo.com&formatted=false&symbol=TAMBOLI.BO&crumb=Mk2.ekFLtPm\n",
      "404 Client Error: Not Found for url: https://query2.finance.yahoo.com/v10/finance/quoteSummary/PALRED.BO?modules=financialData%2CquoteType%2CdefaultKeyStatistics%2CassetProfile%2CsummaryDetail&corsDomain=finance.yahoo.com&formatted=false&symbol=PALRED.BO&crumb=Mk2.ekFLtPm\n",
      "404 Client Error: Not Found for url: https://query2.finance.yahoo.com/v10/finance/quoteSummary/SALONACOT.BO?modules=financialData%2CquoteType%2CdefaultKeyStatistics%2CassetProfile%2CsummaryDetail&corsDomain=finance.yahoo.com&formatted=false&symbol=SALONACOT.BO&crumb=Mk2.ekFLtPm\n"
     ]
    },
    {
     "name": "stdout",
     "output_type": "stream",
     "text": [
      "done with 3500 tickers in 775.1750800609589 seconds\n"
     ]
    },
    {
     "name": "stderr",
     "output_type": "stream",
     "text": [
      "404 Client Error: Not Found for url: https://query2.finance.yahoo.com/v10/finance/quoteSummary/RJKMRFR.BO?modules=financialData%2CquoteType%2CdefaultKeyStatistics%2CassetProfile%2CsummaryDetail&corsDomain=finance.yahoo.com&formatted=false&symbol=RJKMRFR.BO&crumb=Mk2.ekFLtPm\n",
      "404 Client Error: Not Found for url: https://query2.finance.yahoo.com/v10/finance/quoteSummary/KRIINFRA.BO?modules=financialData%2CquoteType%2CdefaultKeyStatistics%2CassetProfile%2CsummaryDetail&corsDomain=finance.yahoo.com&formatted=false&symbol=KRIINFRA.BO&crumb=Mk2.ekFLtPm\n",
      "404 Client Error: Not Found for url: https://query2.finance.yahoo.com/v10/finance/quoteSummary/MNKCMILTD.BO?modules=financialData%2CquoteType%2CdefaultKeyStatistics%2CassetProfile%2CsummaryDetail&corsDomain=finance.yahoo.com&formatted=false&symbol=MNKCMILTD.BO&crumb=Mk2.ekFLtPm\n",
      "404 Client Error: Not Found for url: https://query2.finance.yahoo.com/v10/finance/quoteSummary/SOMICONV.BO?modules=financialData%2CquoteType%2CdefaultKeyStatistics%2CassetProfile%2CsummaryDetail&corsDomain=finance.yahoo.com&formatted=false&symbol=SOMICONV.BO&crumb=Mk2.ekFLtPm\n",
      "404 Client Error: Not Found for url: https://query2.finance.yahoo.com/v10/finance/quoteSummary/SCAPDVR.BO?modules=financialData%2CquoteType%2CdefaultKeyStatistics%2CassetProfile%2CsummaryDetail&corsDomain=finance.yahoo.com&formatted=false&symbol=SCAPDVR.BO&crumb=Mk2.ekFLtPm\n",
      "404 Client Error: Not Found for url: https://query2.finance.yahoo.com/v10/finance/quoteSummary/DEVHARI.BO?modules=financialData%2CquoteType%2CdefaultKeyStatistics%2CassetProfile%2CsummaryDetail&corsDomain=finance.yahoo.com&formatted=false&symbol=DEVHARI.BO&crumb=Mk2.ekFLtPm\n",
      "404 Client Error: Not Found for url: https://query2.finance.yahoo.com/v10/finance/quoteSummary/JIYAECO.BO?modules=financialData%2CquoteType%2CdefaultKeyStatistics%2CassetProfile%2CsummaryDetail&corsDomain=finance.yahoo.com&formatted=false&symbol=JIYAECO.BO&crumb=Mk2.ekFLtPm\n",
      "404 Client Error: Not Found for url: https://query2.finance.yahoo.com/v10/finance/quoteSummary/RPIL.BO?modules=financialData%2CquoteType%2CdefaultKeyStatistics%2CassetProfile%2CsummaryDetail&corsDomain=finance.yahoo.com&formatted=false&symbol=RPIL.BO&crumb=Mk2.ekFLtPm\n"
     ]
    },
    {
     "name": "stdout",
     "output_type": "stream",
     "text": [
      "done with 3600 tickers in 805.4671959877014 seconds\n"
     ]
    },
    {
     "name": "stderr",
     "output_type": "stream",
     "text": [
      "404 Client Error: Not Found for url: https://query2.finance.yahoo.com/v10/finance/quoteSummary/STAMPEDE.BO?modules=financialData%2CquoteType%2CdefaultKeyStatistics%2CassetProfile%2CsummaryDetail&corsDomain=finance.yahoo.com&formatted=false&symbol=STAMPEDE.BO&crumb=Mk2.ekFLtPm\n",
      "404 Client Error: Not Found for url: https://query2.finance.yahoo.com/v10/finance/quoteSummary/INTCAPM.BO?modules=financialData%2CquoteType%2CdefaultKeyStatistics%2CassetProfile%2CsummaryDetail&corsDomain=finance.yahoo.com&formatted=false&symbol=INTCAPM.BO&crumb=Mk2.ekFLtPm\n",
      "404 Client Error: Not Found for url: https://query2.finance.yahoo.com/v10/finance/quoteSummary/GGDANDE.BO?modules=financialData%2CquoteType%2CdefaultKeyStatistics%2CassetProfile%2CsummaryDetail&corsDomain=finance.yahoo.com&formatted=false&symbol=GGDANDE.BO&crumb=Mk2.ekFLtPm\n",
      "404 Client Error: Not Found for url: https://query2.finance.yahoo.com/v10/finance/quoteSummary/KEERTI.NS?modules=financialData%2CquoteType%2CdefaultKeyStatistics%2CassetProfile%2CsummaryDetail&corsDomain=finance.yahoo.com&formatted=false&symbol=KEERTI.NS&crumb=Mk2.ekFLtPm\n",
      "404 Client Error: Not Found for url: https://query2.finance.yahoo.com/v10/finance/quoteSummary/TMRVL.BO?modules=financialData%2CquoteType%2CdefaultKeyStatistics%2CassetProfile%2CsummaryDetail&corsDomain=finance.yahoo.com&formatted=false&symbol=TMRVL.BO&crumb=Mk2.ekFLtPm\n"
     ]
    },
    {
     "name": "stdout",
     "output_type": "stream",
     "text": [
      "done with 3700 tickers in 828.7745430469513 seconds\n"
     ]
    },
    {
     "name": "stderr",
     "output_type": "stream",
     "text": [
      "404 Client Error: Not Found for url: https://query2.finance.yahoo.com/v10/finance/quoteSummary/BHANDHOS.BO?modules=financialData%2CquoteType%2CdefaultKeyStatistics%2CassetProfile%2CsummaryDetail&corsDomain=finance.yahoo.com&formatted=false&symbol=BHANDHOS.BO&crumb=Mk2.ekFLtPm\n",
      "404 Client Error: Not Found for url: https://query2.finance.yahoo.com/v10/finance/quoteSummary/ESCORTSFIN.BO?modules=financialData%2CquoteType%2CdefaultKeyStatistics%2CassetProfile%2CsummaryDetail&corsDomain=finance.yahoo.com&formatted=false&symbol=ESCORTSFIN.BO&crumb=Mk2.ekFLtPm\n",
      "404 Client Error: Not Found for url: https://query2.finance.yahoo.com/v10/finance/quoteSummary/LOHIASEC.BO?modules=financialData%2CquoteType%2CdefaultKeyStatistics%2CassetProfile%2CsummaryDetail&corsDomain=finance.yahoo.com&formatted=false&symbol=LOHIASEC.BO&crumb=Mk2.ekFLtPm\n",
      "404 Client Error: Not Found for url: https://query2.finance.yahoo.com/v10/finance/quoteSummary/WSFIN.BO?modules=financialData%2CquoteType%2CdefaultKeyStatistics%2CassetProfile%2CsummaryDetail&corsDomain=finance.yahoo.com&formatted=false&symbol=WSFIN.BO&crumb=Mk2.ekFLtPm\n",
      "404 Client Error: Not Found for url: https://query2.finance.yahoo.com/v10/finance/quoteSummary/KAPASHI.BO?modules=financialData%2CquoteType%2CdefaultKeyStatistics%2CassetProfile%2CsummaryDetail&corsDomain=finance.yahoo.com&formatted=false&symbol=KAPASHI.BO&crumb=Mk2.ekFLtPm\n"
     ]
    },
    {
     "name": "stdout",
     "output_type": "stream",
     "text": [
      "done with 3800 tickers in 853.1719100475311 seconds\n"
     ]
    },
    {
     "name": "stderr",
     "output_type": "stream",
     "text": [
      "404 Client Error: Not Found for url: https://query2.finance.yahoo.com/v10/finance/quoteSummary/PACT.BO?modules=financialData%2CquoteType%2CdefaultKeyStatistics%2CassetProfile%2CsummaryDetail&corsDomain=finance.yahoo.com&formatted=false&symbol=PACT.BO&crumb=Mk2.ekFLtPm\n"
     ]
    },
    {
     "name": "stdout",
     "output_type": "stream",
     "text": [
      "done with 3900 tickers in 868.444482088089 seconds\n"
     ]
    },
    {
     "name": "stderr",
     "output_type": "stream",
     "text": [
      "404 Client Error: Not Found for url: https://query2.finance.yahoo.com/v10/finance/quoteSummary/OBIL.BO?modules=financialData%2CquoteType%2CdefaultKeyStatistics%2CassetProfile%2CsummaryDetail&corsDomain=finance.yahoo.com&formatted=false&symbol=OBIL.BO&crumb=Mk2.ekFLtPm\n",
      "404 Client Error: Not Found for url: https://query2.finance.yahoo.com/v10/finance/quoteSummary/MIDINFRA.BO?modules=financialData%2CquoteType%2CdefaultKeyStatistics%2CassetProfile%2CsummaryDetail&corsDomain=finance.yahoo.com&formatted=false&symbol=MIDINFRA.BO&crumb=Mk2.ekFLtPm\n"
     ]
    },
    {
     "name": "stdout",
     "output_type": "stream",
     "text": [
      "done with 4000 tickers in 886.7458391189575 seconds\n"
     ]
    },
    {
     "name": "stderr",
     "output_type": "stream",
     "text": [
      "404 Client Error: Not Found for url: https://query2.finance.yahoo.com/v10/finance/quoteSummary/WSIND.BO?modules=financialData%2CquoteType%2CdefaultKeyStatistics%2CassetProfile%2CsummaryDetail&corsDomain=finance.yahoo.com&formatted=false&symbol=WSIND.BO&crumb=Mk2.ekFLtPm\n",
      "404 Client Error: Not Found for url: https://query2.finance.yahoo.com/v10/finance/quoteSummary/RAJOIL.BO?modules=financialData%2CquoteType%2CdefaultKeyStatistics%2CassetProfile%2CsummaryDetail&corsDomain=finance.yahoo.com&formatted=false&symbol=RAJOIL.BO&crumb=Mk2.ekFLtPm\n",
      "404 Client Error: Not Found for url: https://query2.finance.yahoo.com/v10/finance/quoteSummary/KRL.BO?modules=financialData%2CquoteType%2CdefaultKeyStatistics%2CassetProfile%2CsummaryDetail&corsDomain=finance.yahoo.com&formatted=false&symbol=KRL.BO&crumb=Mk2.ekFLtPm\n",
      "404 Client Error: Not Found for url: https://query2.finance.yahoo.com/v10/finance/quoteSummary/ALKA.BO?modules=financialData%2CquoteType%2CdefaultKeyStatistics%2CassetProfile%2CsummaryDetail&corsDomain=finance.yahoo.com&formatted=false&symbol=ALKA.BO&crumb=Mk2.ekFLtPm\n",
      "404 Client Error: Not Found for url: https://query2.finance.yahoo.com/v10/finance/quoteSummary/BSELINFRA.BO?modules=financialData%2CquoteType%2CdefaultKeyStatistics%2CassetProfile%2CsummaryDetail&corsDomain=finance.yahoo.com&formatted=false&symbol=BSELINFRA.BO&crumb=Mk2.ekFLtPm\n"
     ]
    },
    {
     "name": "stdout",
     "output_type": "stream",
     "text": [
      "done with 4100 tickers in 910.2023479938507 seconds\n"
     ]
    },
    {
     "name": "stderr",
     "output_type": "stream",
     "text": [
      "404 Client Error: Not Found for url: https://query2.finance.yahoo.com/v10/finance/quoteSummary/SEPOWER.BO?modules=financialData%2CquoteType%2CdefaultKeyStatistics%2CassetProfile%2CsummaryDetail&corsDomain=finance.yahoo.com&formatted=false&symbol=SEPOWER.BO&crumb=Mk2.ekFLtPm\n",
      "404 Client Error: Not Found for url: https://query2.finance.yahoo.com/v10/finance/quoteSummary/GUJRAFIA.BO?modules=financialData%2CquoteType%2CdefaultKeyStatistics%2CassetProfile%2CsummaryDetail&corsDomain=finance.yahoo.com&formatted=false&symbol=GUJRAFIA.BO&crumb=Mk2.ekFLtPm\n",
      "404 Client Error: Not Found for url: https://query2.finance.yahoo.com/v10/finance/quoteSummary/VAPIPPR.BO?modules=financialData%2CquoteType%2CdefaultKeyStatistics%2CassetProfile%2CsummaryDetail&corsDomain=finance.yahoo.com&formatted=false&symbol=VAPIPPR.BO&crumb=Mk2.ekFLtPm\n",
      "404 Client Error: Not Found for url: https://query2.finance.yahoo.com/v10/finance/quoteSummary/SVPHOUSING.BO?modules=financialData%2CquoteType%2CdefaultKeyStatistics%2CassetProfile%2CsummaryDetail&corsDomain=finance.yahoo.com&formatted=false&symbol=SVPHOUSING.BO&crumb=Mk2.ekFLtPm\n",
      "404 Client Error: Not Found for url: https://query2.finance.yahoo.com/v10/finance/quoteSummary/PARENTLD.BO?modules=financialData%2CquoteType%2CdefaultKeyStatistics%2CassetProfile%2CsummaryDetail&corsDomain=finance.yahoo.com&formatted=false&symbol=PARENTLD.BO&crumb=Mk2.ekFLtPm\n",
      "404 Client Error: Not Found for url: https://query2.finance.yahoo.com/v10/finance/quoteSummary/SSORGS.BO?modules=financialData%2CquoteType%2CdefaultKeyStatistics%2CassetProfile%2CsummaryDetail&corsDomain=finance.yahoo.com&formatted=false&symbol=SSORGS.BO&crumb=Mk2.ekFLtPm\n",
      "404 Client Error: Not Found for url: https://query2.finance.yahoo.com/v10/finance/quoteSummary/REFNOL.BO?modules=financialData%2CquoteType%2CdefaultKeyStatistics%2CassetProfile%2CsummaryDetail&corsDomain=finance.yahoo.com&formatted=false&symbol=REFNOL.BO&crumb=Mk2.ekFLtPm\n",
      "404 Client Error: Not Found for url: https://query2.finance.yahoo.com/v10/finance/quoteSummary/GRANDFONRY.BO?modules=financialData%2CquoteType%2CdefaultKeyStatistics%2CassetProfile%2CsummaryDetail&corsDomain=finance.yahoo.com&formatted=false&symbol=GRANDFONRY.BO&crumb=Mk2.ekFLtPm\n",
      "404 Client Error: Not Found for url: https://query2.finance.yahoo.com/v10/finance/quoteSummary/ANUBHAV.BO?modules=financialData%2CquoteType%2CdefaultKeyStatistics%2CassetProfile%2CsummaryDetail&corsDomain=finance.yahoo.com&formatted=false&symbol=ANUBHAV.BO&crumb=Mk2.ekFLtPm\n",
      "404 Client Error: Not Found for url: https://query2.finance.yahoo.com/v10/finance/quoteSummary/BAFNAPHARM.BO?modules=financialData%2CquoteType%2CdefaultKeyStatistics%2CassetProfile%2CsummaryDetail&corsDomain=finance.yahoo.com&formatted=false&symbol=BAFNAPHARM.BO&crumb=Mk2.ekFLtPm\n"
     ]
    },
    {
     "name": "stdout",
     "output_type": "stream",
     "text": [
      "done with 4200 tickers in 942.3947072029114 seconds\n"
     ]
    },
    {
     "name": "stderr",
     "output_type": "stream",
     "text": [
      "404 Client Error: Not Found for url: https://query2.finance.yahoo.com/v10/finance/quoteSummary/RIGASUG.BO?modules=financialData%2CquoteType%2CdefaultKeyStatistics%2CassetProfile%2CsummaryDetail&corsDomain=finance.yahoo.com&formatted=false&symbol=RIGASUG.BO&crumb=Mk2.ekFLtPm\n",
      "404 Client Error: Not Found for url: https://query2.finance.yahoo.com/v10/finance/quoteSummary/MRSS.BO?modules=financialData%2CquoteType%2CdefaultKeyStatistics%2CassetProfile%2CsummaryDetail&corsDomain=finance.yahoo.com&formatted=false&symbol=MRSS.BO&crumb=Mk2.ekFLtPm\n",
      "404 Client Error: Not Found for url: https://query2.finance.yahoo.com/v10/finance/quoteSummary/ASYAINFO.BO?modules=financialData%2CquoteType%2CdefaultKeyStatistics%2CassetProfile%2CsummaryDetail&corsDomain=finance.yahoo.com&formatted=false&symbol=ASYAINFO.BO&crumb=Mk2.ekFLtPm\n",
      "404 Client Error: Not Found for url: https://query2.finance.yahoo.com/v10/finance/quoteSummary/SICLTD.BO?modules=financialData%2CquoteType%2CdefaultKeyStatistics%2CassetProfile%2CsummaryDetail&corsDomain=finance.yahoo.com&formatted=false&symbol=SICLTD.BO&crumb=Mk2.ekFLtPm\n",
      "404 Client Error: Not Found for url: https://query2.finance.yahoo.com/v10/finance/quoteSummary/IOSYSTEM.BO?modules=financialData%2CquoteType%2CdefaultKeyStatistics%2CassetProfile%2CsummaryDetail&corsDomain=finance.yahoo.com&formatted=false&symbol=IOSYSTEM.BO&crumb=Mk2.ekFLtPm\n",
      "404 Client Error: Not Found for url: https://query2.finance.yahoo.com/v10/finance/quoteSummary/EVERLON.BO?modules=financialData%2CquoteType%2CdefaultKeyStatistics%2CassetProfile%2CsummaryDetail&corsDomain=finance.yahoo.com&formatted=false&symbol=EVERLON.BO&crumb=Mk2.ekFLtPm\n"
     ]
    },
    {
     "name": "stdout",
     "output_type": "stream",
     "text": [
      "done with 4300 tickers in 970.4351661205292 seconds\n"
     ]
    },
    {
     "name": "stderr",
     "output_type": "stream",
     "text": [
      "404 Client Error: Not Found for url: https://query2.finance.yahoo.com/v10/finance/quoteSummary/SANKHYAIN.BO?modules=financialData%2CquoteType%2CdefaultKeyStatistics%2CassetProfile%2CsummaryDetail&corsDomain=finance.yahoo.com&formatted=false&symbol=SANKHYAIN.BO&crumb=Mk2.ekFLtPm\n",
      "404 Client Error: Not Found for url: https://query2.finance.yahoo.com/v10/finance/quoteSummary/VFL.BO?modules=financialData%2CquoteType%2CdefaultKeyStatistics%2CassetProfile%2CsummaryDetail&corsDomain=finance.yahoo.com&formatted=false&symbol=VFL.BO&crumb=Mk2.ekFLtPm\n",
      "404 Client Error: Not Found for url: https://query2.finance.yahoo.com/v10/finance/quoteSummary/SKC.BO?modules=financialData%2CquoteType%2CdefaultKeyStatistics%2CassetProfile%2CsummaryDetail&corsDomain=finance.yahoo.com&formatted=false&symbol=SKC.BO&crumb=Mk2.ekFLtPm\n",
      "404 Client Error: Not Found for url: https://query2.finance.yahoo.com/v10/finance/quoteSummary/AISHWARYA.BO?modules=financialData%2CquoteType%2CdefaultKeyStatistics%2CassetProfile%2CsummaryDetail&corsDomain=finance.yahoo.com&formatted=false&symbol=AISHWARYA.BO&crumb=Mk2.ekFLtPm\n",
      "404 Client Error: Not Found for url: https://query2.finance.yahoo.com/v10/finance/quoteSummary/GISOLUTION.NS?modules=financialData%2CquoteType%2CdefaultKeyStatistics%2CassetProfile%2CsummaryDetail&corsDomain=finance.yahoo.com&formatted=false&symbol=GISOLUTION.NS&crumb=Mk2.ekFLtPm\n"
     ]
    },
    {
     "name": "stdout",
     "output_type": "stream",
     "text": [
      "done with 4400 tickers in 996.8758351802826 seconds\n"
     ]
    },
    {
     "name": "stderr",
     "output_type": "stream",
     "text": [
      "404 Client Error: Not Found for url: https://query2.finance.yahoo.com/v10/finance/quoteSummary/ALPSMOTOR.BO?modules=financialData%2CquoteType%2CdefaultKeyStatistics%2CassetProfile%2CsummaryDetail&corsDomain=finance.yahoo.com&formatted=false&symbol=ALPSMOTOR.BO&crumb=Mk2.ekFLtPm\n",
      "404 Client Error: Not Found for url: https://query2.finance.yahoo.com/v10/finance/quoteSummary/HBSTOCK.BO?modules=financialData%2CquoteType%2CdefaultKeyStatistics%2CassetProfile%2CsummaryDetail&corsDomain=finance.yahoo.com&formatted=false&symbol=HBSTOCK.BO&crumb=Mk2.ekFLtPm\n",
      "404 Client Error: Not Found for url: https://query2.finance.yahoo.com/v10/finance/quoteSummary/INFRAIND.BO?modules=financialData%2CquoteType%2CdefaultKeyStatistics%2CassetProfile%2CsummaryDetail&corsDomain=finance.yahoo.com&formatted=false&symbol=INFRAIND.BO&crumb=Mk2.ekFLtPm\n",
      "404 Client Error: Not Found for url: https://query2.finance.yahoo.com/v10/finance/quoteSummary/TANTIACONS.BO?modules=financialData%2CquoteType%2CdefaultKeyStatistics%2CassetProfile%2CsummaryDetail&corsDomain=finance.yahoo.com&formatted=false&symbol=TANTIACONS.BO&crumb=Mk2.ekFLtPm\n"
     ]
    },
    {
     "name": "stdout",
     "output_type": "stream",
     "text": [
      "done with 4500 tickers in 1020.8764410018921 seconds\n"
     ]
    },
    {
     "name": "stderr",
     "output_type": "stream",
     "text": [
      "404 Client Error: Not Found for url: https://query2.finance.yahoo.com/v10/finance/quoteSummary/SRPML.BO?modules=financialData%2CquoteType%2CdefaultKeyStatistics%2CassetProfile%2CsummaryDetail&corsDomain=finance.yahoo.com&formatted=false&symbol=SRPML.BO&crumb=Mk2.ekFLtPm\n",
      "404 Client Error: Not Found for url: https://query2.finance.yahoo.com/v10/finance/quoteSummary/JRFOODS.BO?modules=financialData%2CquoteType%2CdefaultKeyStatistics%2CassetProfile%2CsummaryDetail&corsDomain=finance.yahoo.com&formatted=false&symbol=JRFOODS.BO&crumb=Mk2.ekFLtPm\n",
      "404 Client Error: Not Found for url: https://query2.finance.yahoo.com/v10/finance/quoteSummary/ARAMBHAN.BO?modules=financialData%2CquoteType%2CdefaultKeyStatistics%2CassetProfile%2CsummaryDetail&corsDomain=finance.yahoo.com&formatted=false&symbol=ARAMBHAN.BO&crumb=Mk2.ekFLtPm\n",
      "404 Client Error: Not Found for url: https://query2.finance.yahoo.com/v10/finance/quoteSummary/MAYUR.BO?modules=financialData%2CquoteType%2CdefaultKeyStatistics%2CassetProfile%2CsummaryDetail&corsDomain=finance.yahoo.com&formatted=false&symbol=MAYUR.BO&crumb=Mk2.ekFLtPm\n",
      "404 Client Error: Not Found for url: https://query2.finance.yahoo.com/v10/finance/quoteSummary/ADVENT.BO?modules=financialData%2CquoteType%2CdefaultKeyStatistics%2CassetProfile%2CsummaryDetail&corsDomain=finance.yahoo.com&formatted=false&symbol=ADVENT.BO&crumb=Mk2.ekFLtPm\n",
      "404 Client Error: Not Found for url: https://query2.finance.yahoo.com/v10/finance/quoteSummary/QFSL.BO?modules=financialData%2CquoteType%2CdefaultKeyStatistics%2CassetProfile%2CsummaryDetail&corsDomain=finance.yahoo.com&formatted=false&symbol=QFSL.BO&crumb=Mk2.ekFLtPm\n",
      "404 Client Error: Not Found for url: https://query2.finance.yahoo.com/v10/finance/quoteSummary/ALKASEC.BO?modules=financialData%2CquoteType%2CdefaultKeyStatistics%2CassetProfile%2CsummaryDetail&corsDomain=finance.yahoo.com&formatted=false&symbol=ALKASEC.BO&crumb=Mk2.ekFLtPm\n"
     ]
    },
    {
     "name": "stdout",
     "output_type": "stream",
     "text": [
      "done with 4600 tickers in 1048.5766241550446 seconds\n"
     ]
    },
    {
     "name": "stderr",
     "output_type": "stream",
     "text": [
      "404 Client Error: Not Found for url: https://query2.finance.yahoo.com/v10/finance/quoteSummary/GAGANPO.BO?modules=financialData%2CquoteType%2CdefaultKeyStatistics%2CassetProfile%2CsummaryDetail&corsDomain=finance.yahoo.com&formatted=false&symbol=GAGANPO.BO&crumb=Mk2.ekFLtPm\n",
      "404 Client Error: Not Found for url: https://query2.finance.yahoo.com/v10/finance/quoteSummary/AML.BO?modules=financialData%2CquoteType%2CdefaultKeyStatistics%2CassetProfile%2CsummaryDetail&corsDomain=finance.yahoo.com&formatted=false&symbol=AML.BO&crumb=Mk2.ekFLtPm\n",
      "404 Client Error: Not Found for url: https://query2.finance.yahoo.com/v10/finance/quoteSummary/RAINBOWDQ.BO?modules=financialData%2CquoteType%2CdefaultKeyStatistics%2CassetProfile%2CsummaryDetail&corsDomain=finance.yahoo.com&formatted=false&symbol=RAINBOWDQ.BO&crumb=Mk2.ekFLtPm\n",
      "404 Client Error: Not Found for url: https://query2.finance.yahoo.com/v10/finance/quoteSummary/MEGLON.BO?modules=financialData%2CquoteType%2CdefaultKeyStatistics%2CassetProfile%2CsummaryDetail&corsDomain=finance.yahoo.com&formatted=false&symbol=MEGLON.BO&crumb=Mk2.ekFLtPm\n",
      "404 Client Error: Not Found for url: https://query2.finance.yahoo.com/v10/finance/quoteSummary/OSCARGLO.BO?modules=financialData%2CquoteType%2CdefaultKeyStatistics%2CassetProfile%2CsummaryDetail&corsDomain=finance.yahoo.com&formatted=false&symbol=OSCARGLO.BO&crumb=Mk2.ekFLtPm\n",
      "404 Client Error: Not Found for url: https://query2.finance.yahoo.com/v10/finance/quoteSummary/AMFL.BO?modules=financialData%2CquoteType%2CdefaultKeyStatistics%2CassetProfile%2CsummaryDetail&corsDomain=finance.yahoo.com&formatted=false&symbol=AMFL.BO&crumb=Mk2.ekFLtPm\n",
      "404 Client Error: Not Found for url: https://query2.finance.yahoo.com/v10/finance/quoteSummary/PARSHINV.BO?modules=financialData%2CquoteType%2CdefaultKeyStatistics%2CassetProfile%2CsummaryDetail&corsDomain=finance.yahoo.com&formatted=false&symbol=PARSHINV.BO&crumb=Mk2.ekFLtPm\n",
      "404 Client Error: Not Found for url: https://query2.finance.yahoo.com/v10/finance/quoteSummary/HOTELRUGBY.BO?modules=financialData%2CquoteType%2CdefaultKeyStatistics%2CassetProfile%2CsummaryDetail&corsDomain=finance.yahoo.com&formatted=false&symbol=HOTELRUGBY.BO&crumb=Mk2.ekFLtPm\n",
      "404 Client Error: Not Found for url: https://query2.finance.yahoo.com/v10/finance/quoteSummary/GOVNOW.BO?modules=financialData%2CquoteType%2CdefaultKeyStatistics%2CassetProfile%2CsummaryDetail&corsDomain=finance.yahoo.com&formatted=false&symbol=GOVNOW.BO&crumb=Mk2.ekFLtPm\n",
      "404 Client Error: Not Found for url: https://query2.finance.yahoo.com/v10/finance/quoteSummary/SRIVAJRA.BO?modules=financialData%2CquoteType%2CdefaultKeyStatistics%2CassetProfile%2CsummaryDetail&corsDomain=finance.yahoo.com&formatted=false&symbol=SRIVAJRA.BO&crumb=Mk2.ekFLtPm\n",
      "404 Client Error: Not Found for url: https://query2.finance.yahoo.com/v10/finance/quoteSummary/GALADA.BO?modules=financialData%2CquoteType%2CdefaultKeyStatistics%2CassetProfile%2CsummaryDetail&corsDomain=finance.yahoo.com&formatted=false&symbol=GALADA.BO&crumb=Mk2.ekFLtPm\n",
      "404 Client Error: Not Found for url: https://query2.finance.yahoo.com/v10/finance/quoteSummary/BHRKALM.BO?modules=financialData%2CquoteType%2CdefaultKeyStatistics%2CassetProfile%2CsummaryDetail&corsDomain=finance.yahoo.com&formatted=false&symbol=BHRKALM.BO&crumb=Mk2.ekFLtPm\n",
      "404 Client Error: Not Found for url: https://query2.finance.yahoo.com/v10/finance/quoteSummary/CENTERAC.BO?modules=financialData%2CquoteType%2CdefaultKeyStatistics%2CassetProfile%2CsummaryDetail&corsDomain=finance.yahoo.com&formatted=false&symbol=CENTERAC.BO&crumb=Mk2.ekFLtPm\n"
     ]
    },
    {
     "name": "stdout",
     "output_type": "stream",
     "text": [
      "done with 4700 tickers in 1091.0317740440369 seconds\n"
     ]
    },
    {
     "name": "stderr",
     "output_type": "stream",
     "text": [
      "404 Client Error: Not Found for url: https://query2.finance.yahoo.com/v10/finance/quoteSummary/PALSOFT.BO?modules=financialData%2CquoteType%2CdefaultKeyStatistics%2CassetProfile%2CsummaryDetail&corsDomain=finance.yahoo.com&formatted=false&symbol=PALSOFT.BO&crumb=Mk2.ekFLtPm\n",
      "404 Client Error: Not Found for url: https://query2.finance.yahoo.com/v10/finance/quoteSummary/MAHAVIRIND.BO?modules=financialData%2CquoteType%2CdefaultKeyStatistics%2CassetProfile%2CsummaryDetail&corsDomain=finance.yahoo.com&formatted=false&symbol=MAHAVIRIND.BO&crumb=Mk2.ekFLtPm\n",
      "404 Client Error: Not Found for url: https://query2.finance.yahoo.com/v10/finance/quoteSummary/FIVEXTRADE.BO?modules=financialData%2CquoteType%2CdefaultKeyStatistics%2CassetProfile%2CsummaryDetail&corsDomain=finance.yahoo.com&formatted=false&symbol=FIVEXTRADE.BO&crumb=Mk2.ekFLtPm\n",
      "404 Client Error: Not Found for url: https://query2.finance.yahoo.com/v10/finance/quoteSummary/SEASONF.BO?modules=financialData%2CquoteType%2CdefaultKeyStatistics%2CassetProfile%2CsummaryDetail&corsDomain=finance.yahoo.com&formatted=false&symbol=SEASONF.BO&crumb=Mk2.ekFLtPm\n",
      "404 Client Error: Not Found for url: https://query2.finance.yahoo.com/v10/finance/quoteSummary/PRESOFI.BO?modules=financialData%2CquoteType%2CdefaultKeyStatistics%2CassetProfile%2CsummaryDetail&corsDomain=finance.yahoo.com&formatted=false&symbol=PRESOFI.BO&crumb=Mk2.ekFLtPm\n",
      "404 Client Error: Not Found for url: https://query2.finance.yahoo.com/v10/finance/quoteSummary/GBLIL.BO?modules=financialData%2CquoteType%2CdefaultKeyStatistics%2CassetProfile%2CsummaryDetail&corsDomain=finance.yahoo.com&formatted=false&symbol=GBLIL.BO&crumb=Mk2.ekFLtPm\n"
     ]
    },
    {
     "name": "stdout",
     "output_type": "stream",
     "text": [
      "done with 4800 tickers in 1117.092887878418 seconds\n"
     ]
    },
    {
     "name": "stderr",
     "output_type": "stream",
     "text": [
      "404 Client Error: Not Found for url: https://query2.finance.yahoo.com/v10/finance/quoteSummary/SOLISMAR.BO?modules=financialData%2CquoteType%2CdefaultKeyStatistics%2CassetProfile%2CsummaryDetail&corsDomain=finance.yahoo.com&formatted=false&symbol=SOLISMAR.BO&crumb=Mk2.ekFLtPm\n",
      "404 Client Error: Not Found for url: https://query2.finance.yahoo.com/v10/finance/quoteSummary/INDINFRA.BO?modules=financialData%2CquoteType%2CdefaultKeyStatistics%2CassetProfile%2CsummaryDetail&corsDomain=finance.yahoo.com&formatted=false&symbol=INDINFRA.BO&crumb=Mk2.ekFLtPm\n",
      "404 Client Error: Not Found for url: https://query2.finance.yahoo.com/v10/finance/quoteSummary/SKSTEXTILE-SM.NS?modules=financialData%2CquoteType%2CdefaultKeyStatistics%2CassetProfile%2CsummaryDetail&corsDomain=finance.yahoo.com&formatted=false&symbol=SKSTEXTILE-SM.NS&crumb=Mk2.ekFLtPm\n",
      "404 Client Error: Not Found for url: https://query2.finance.yahoo.com/v10/finance/quoteSummary/MC1RG-MF.NS?modules=financialData%2CquoteType%2CdefaultKeyStatistics%2CassetProfile%2CsummaryDetail&corsDomain=finance.yahoo.com&formatted=false&symbol=MC1RG-MF.NS&crumb=Mk2.ekFLtPm\n",
      "404 Client Error: Not Found for url: https://query2.finance.yahoo.com/v10/finance/quoteSummary/SRTRANSFIN-ZJ.NS?modules=financialData%2CquoteType%2CdefaultKeyStatistics%2CassetProfile%2CsummaryDetail&corsDomain=finance.yahoo.com&formatted=false&symbol=SRTRANSFIN-ZJ.NS&crumb=Mk2.ekFLtPm\n",
      "404 Client Error: Not Found for url: https://query2.finance.yahoo.com/v10/finance/quoteSummary/SETFGOLD-BL.NS?modules=financialData%2CquoteType%2CdefaultKeyStatistics%2CassetProfile%2CsummaryDetail&corsDomain=finance.yahoo.com&formatted=false&symbol=SETFGOLD-BL.NS&crumb=Mk2.ekFLtPm\n",
      "404 Client Error: Not Found for url: https://query2.finance.yahoo.com/v10/finance/quoteSummary/COVENTRY.BO?modules=financialData%2CquoteType%2CdefaultKeyStatistics%2CassetProfile%2CsummaryDetail&corsDomain=finance.yahoo.com&formatted=false&symbol=COVENTRY.BO&crumb=Mk2.ekFLtPm\n",
      "404 Client Error: Not Found for url: https://query2.finance.yahoo.com/v10/finance/quoteSummary/NICCOUCO.BO?modules=financialData%2CquoteType%2CdefaultKeyStatistics%2CassetProfile%2CsummaryDetail&corsDomain=finance.yahoo.com&formatted=false&symbol=NICCOUCO.BO&crumb=Mk2.ekFLtPm\n",
      "404 Client Error: Not Found for url: https://query2.finance.yahoo.com/v10/finance/quoteSummary/INDOVATION.BO?modules=financialData%2CquoteType%2CdefaultKeyStatistics%2CassetProfile%2CsummaryDetail&corsDomain=finance.yahoo.com&formatted=false&symbol=INDOVATION.BO&crumb=Mk2.ekFLtPm\n",
      "404 Client Error: Not Found for url: https://query2.finance.yahoo.com/v10/finance/quoteSummary/GLOBUSCOR.BO?modules=financialData%2CquoteType%2CdefaultKeyStatistics%2CassetProfile%2CsummaryDetail&corsDomain=finance.yahoo.com&formatted=false&symbol=GLOBUSCOR.BO&crumb=Mk2.ekFLtPm\n",
      "404 Client Error: Not Found for url: https://query2.finance.yahoo.com/v10/finance/quoteSummary/SRTRANSFIN-ZF.NS?modules=financialData%2CquoteType%2CdefaultKeyStatistics%2CassetProfile%2CsummaryDetail&corsDomain=finance.yahoo.com&formatted=false&symbol=SRTRANSFIN-ZF.NS&crumb=Mk2.ekFLtPm\n",
      "404 Client Error: Not Found for url: https://query2.finance.yahoo.com/v10/finance/quoteSummary/ICICISENSX.BO?modules=financialData%2CquoteType%2CdefaultKeyStatistics%2CassetProfile%2CsummaryDetail&corsDomain=finance.yahoo.com&formatted=false&symbol=ICICISENSX.BO&crumb=Mk2.ekFLtPm\n",
      "404 Client Error: Not Found for url: https://query2.finance.yahoo.com/v10/finance/quoteSummary/HEOFRG1126-MF.NS?modules=financialData%2CquoteType%2CdefaultKeyStatistics%2CassetProfile%2CsummaryDetail&corsDomain=finance.yahoo.com&formatted=false&symbol=HEOFRG1126-MF.NS&crumb=Mk2.ekFLtPm\n",
      "404 Client Error: Not Found for url: https://query2.finance.yahoo.com/v10/finance/quoteSummary/ICICIMCAP.BO?modules=financialData%2CquoteType%2CdefaultKeyStatistics%2CassetProfile%2CsummaryDetail&corsDomain=finance.yahoo.com&formatted=false&symbol=ICICIMCAP.BO&crumb=Mk2.ekFLtPm\n",
      "404 Client Error: Not Found for url: https://query2.finance.yahoo.com/v10/finance/quoteSummary/AAATECH-SM.NS?modules=financialData%2CquoteType%2CdefaultKeyStatistics%2CassetProfile%2CsummaryDetail&corsDomain=finance.yahoo.com&formatted=false&symbol=AAATECH-SM.NS&crumb=Mk2.ekFLtPm\n",
      "404 Client Error: Not Found for url: https://query2.finance.yahoo.com/v10/finance/quoteSummary/ICICIM150.BO?modules=financialData%2CquoteType%2CdefaultKeyStatistics%2CassetProfile%2CsummaryDetail&corsDomain=finance.yahoo.com&formatted=false&symbol=ICICIM150.BO&crumb=Mk2.ekFLtPm\n",
      "404 Client Error: Not Found for url: https://query2.finance.yahoo.com/v10/finance/quoteSummary/ICICIPHARM.BO?modules=financialData%2CquoteType%2CdefaultKeyStatistics%2CassetProfile%2CsummaryDetail&corsDomain=finance.yahoo.com&formatted=false&symbol=ICICIPHARM.BO&crumb=Mk2.ekFLtPm\n",
      "404 Client Error: Not Found for url: https://query2.finance.yahoo.com/v10/finance/quoteSummary/ICICIBANKP.BO?modules=financialData%2CquoteType%2CdefaultKeyStatistics%2CassetProfile%2CsummaryDetail&corsDomain=finance.yahoo.com&formatted=false&symbol=ICICIBANKP.BO&crumb=Mk2.ekFLtPm\n",
      "404 Client Error: Not Found for url: https://query2.finance.yahoo.com/v10/finance/quoteSummary/MAN50ETF.BO?modules=financialData%2CquoteType%2CdefaultKeyStatistics%2CassetProfile%2CsummaryDetail&corsDomain=finance.yahoo.com&formatted=false&symbol=MAN50ETF.BO&crumb=Mk2.ekFLtPm\n",
      "404 Client Error: Not Found for url: https://query2.finance.yahoo.com/v10/finance/quoteSummary/ICICI500.BO?modules=financialData%2CquoteType%2CdefaultKeyStatistics%2CassetProfile%2CsummaryDetail&corsDomain=finance.yahoo.com&formatted=false&symbol=ICICI500.BO&crumb=Mk2.ekFLtPm\n"
     ]
    },
    {
     "name": "stdout",
     "output_type": "stream",
     "text": [
      "done with 4900 tickers in 1173.3276031017303 seconds\n"
     ]
    },
    {
     "name": "stderr",
     "output_type": "stream",
     "text": [
      "404 Client Error: Not Found for url: https://query2.finance.yahoo.com/v10/finance/quoteSummary/ICICIBANKN.NS?modules=financialData%2CquoteType%2CdefaultKeyStatistics%2CassetProfile%2CsummaryDetail&corsDomain=finance.yahoo.com&formatted=false&symbol=ICICIBANKN.NS&crumb=Mk2.ekFLtPm\n",
      "404 Client Error: Not Found for url: https://query2.finance.yahoo.com/v10/finance/quoteSummary/IDBIGOLD.NS?modules=financialData%2CquoteType%2CdefaultKeyStatistics%2CassetProfile%2CsummaryDetail&corsDomain=finance.yahoo.com&formatted=false&symbol=IDBIGOLD.NS&crumb=Mk2.ekFLtPm\n",
      "404 Client Error: Not Found for url: https://query2.finance.yahoo.com/v10/finance/quoteSummary/VIVO-ST.NS?modules=financialData%2CquoteType%2CdefaultKeyStatistics%2CassetProfile%2CsummaryDetail&corsDomain=finance.yahoo.com&formatted=false&symbol=VIVO-ST.NS&crumb=Mk2.ekFLtPm\n",
      "404 Client Error: Not Found for url: https://query2.finance.yahoo.com/v10/finance/quoteSummary/VCL-SM.NS?modules=financialData%2CquoteType%2CdefaultKeyStatistics%2CassetProfile%2CsummaryDetail&corsDomain=finance.yahoo.com&formatted=false&symbol=VCL-SM.NS&crumb=Mk2.ekFLtPm\n",
      "404 Client Error: Not Found for url: https://query2.finance.yahoo.com/v10/finance/quoteSummary/OSIAHYPER-SM.NS?modules=financialData%2CquoteType%2CdefaultKeyStatistics%2CassetProfile%2CsummaryDetail&corsDomain=finance.yahoo.com&formatted=false&symbol=OSIAHYPER-SM.NS&crumb=Mk2.ekFLtPm\n",
      "404 Client Error: Not Found for url: https://query2.finance.yahoo.com/v10/finance/quoteSummary/SEAGOLD.BO?modules=financialData%2CquoteType%2CdefaultKeyStatistics%2CassetProfile%2CsummaryDetail&corsDomain=finance.yahoo.com&formatted=false&symbol=SEAGOLD.BO&crumb=Mk2.ekFLtPm\n",
      "404 Client Error: Not Found for url: https://query2.finance.yahoo.com/v10/finance/quoteSummary/GISOLUTION.BO?modules=financialData%2CquoteType%2CdefaultKeyStatistics%2CassetProfile%2CsummaryDetail&corsDomain=finance.yahoo.com&formatted=false&symbol=GISOLUTION.BO&crumb=Mk2.ekFLtPm\n",
      "404 Client Error: Not Found for url: https://query2.finance.yahoo.com/v10/finance/quoteSummary/LGHL-SM.NS?modules=financialData%2CquoteType%2CdefaultKeyStatistics%2CassetProfile%2CsummaryDetail&corsDomain=finance.yahoo.com&formatted=false&symbol=LGHL-SM.NS&crumb=Mk2.ekFLtPm\n",
      "404 Client Error: Not Found for url: https://query2.finance.yahoo.com/v10/finance/quoteSummary/SRTRANSFIN-ZE.NS?modules=financialData%2CquoteType%2CdefaultKeyStatistics%2CassetProfile%2CsummaryDetail&corsDomain=finance.yahoo.com&formatted=false&symbol=SRTRANSFIN-ZE.NS&crumb=Mk2.ekFLtPm\n",
      "404 Client Error: Not Found for url: https://query2.finance.yahoo.com/v10/finance/quoteSummary/DSML-SM.NS?modules=financialData%2CquoteType%2CdefaultKeyStatistics%2CassetProfile%2CsummaryDetail&corsDomain=finance.yahoo.com&formatted=false&symbol=DSML-SM.NS&crumb=Mk2.ekFLtPm\n",
      "404 Client Error: Not Found for url: https://query2.finance.yahoo.com/v10/finance/quoteSummary/KSHITIJPOL-SM.NS?modules=financialData%2CquoteType%2CdefaultKeyStatistics%2CassetProfile%2CsummaryDetail&corsDomain=finance.yahoo.com&formatted=false&symbol=KSHITIJPOL-SM.NS&crumb=Mk2.ekFLtPm\n",
      "404 Client Error: Not Found for url: https://query2.finance.yahoo.com/v10/finance/quoteSummary/AMJUMBO-SM.NS?modules=financialData%2CquoteType%2CdefaultKeyStatistics%2CassetProfile%2CsummaryDetail&corsDomain=finance.yahoo.com&formatted=false&symbol=AMJUMBO-SM.NS&crumb=Mk2.ekFLtPm\n",
      "404 Client Error: Not Found for url: https://query2.finance.yahoo.com/v10/finance/quoteSummary/SUPRAP.BO?modules=financialData%2CquoteType%2CdefaultKeyStatistics%2CassetProfile%2CsummaryDetail&corsDomain=finance.yahoo.com&formatted=false&symbol=SUPRAP.BO&crumb=Mk2.ekFLtPm\n"
     ]
    },
    {
     "name": "stdout",
     "output_type": "stream",
     "text": [
      "done with 5000 tickers in 1214.1895861625671 seconds\n"
     ]
    },
    {
     "name": "stderr",
     "output_type": "stream",
     "text": [
      "404 Client Error: Not Found for url: https://query2.finance.yahoo.com/v10/finance/quoteSummary/JTLINFRA.NS?modules=financialData%2CquoteType%2CdefaultKeyStatistics%2CassetProfile%2CsummaryDetail&corsDomain=finance.yahoo.com&formatted=false&symbol=JTLINFRA.NS&crumb=Mk2.ekFLtPm\n",
      "404 Client Error: Not Found for url: https://query2.finance.yahoo.com/v10/finance/quoteSummary/FAZE3AUTO.BO?modules=financialData%2CquoteType%2CdefaultKeyStatistics%2CassetProfile%2CsummaryDetail&corsDomain=finance.yahoo.com&formatted=false&symbol=FAZE3AUTO.BO&crumb=Mk2.ekFLtPm\n",
      "404 Client Error: Not Found for url: https://query2.finance.yahoo.com/v10/finance/quoteSummary/AVG-SM.NS?modules=financialData%2CquoteType%2CdefaultKeyStatistics%2CassetProfile%2CsummaryDetail&corsDomain=finance.yahoo.com&formatted=false&symbol=AVG-SM.NS&crumb=Mk2.ekFLtPm\n",
      "404 Client Error: Not Found for url: https://query2.finance.yahoo.com/v10/finance/quoteSummary/NRL-ST.NS?modules=financialData%2CquoteType%2CdefaultKeyStatistics%2CassetProfile%2CsummaryDetail&corsDomain=finance.yahoo.com&formatted=false&symbol=NRL-ST.NS&crumb=Mk2.ekFLtPm\n",
      "404 Client Error: Not Found for url: https://query2.finance.yahoo.com/v10/finance/quoteSummary/ACEWIN.BO?modules=financialData%2CquoteType%2CdefaultKeyStatistics%2CassetProfile%2CsummaryDetail&corsDomain=finance.yahoo.com&formatted=false&symbol=ACEWIN.BO&crumb=Mk2.ekFLtPm\n",
      "404 Client Error: Not Found for url: https://query2.finance.yahoo.com/v10/finance/quoteSummary/MKPL-SM.NS?modules=financialData%2CquoteType%2CdefaultKeyStatistics%2CassetProfile%2CsummaryDetail&corsDomain=finance.yahoo.com&formatted=false&symbol=MKPL-SM.NS&crumb=Mk2.ekFLtPm\n",
      "404 Client Error: Not Found for url: https://query2.finance.yahoo.com/v10/finance/quoteSummary/NETFIT.NS?modules=financialData%2CquoteType%2CdefaultKeyStatistics%2CassetProfile%2CsummaryDetail&corsDomain=finance.yahoo.com&formatted=false&symbol=NETFIT.NS&crumb=Mk2.ekFLtPm\n",
      "404 Client Error: Not Found for url: https://query2.finance.yahoo.com/v10/finance/quoteSummary/MIC.BO?modules=financialData%2CquoteType%2CdefaultKeyStatistics%2CassetProfile%2CsummaryDetail&corsDomain=finance.yahoo.com&formatted=false&symbol=MIC.BO&crumb=Mk2.ekFLtPm\n",
      "404 Client Error: Not Found for url: https://query2.finance.yahoo.com/v10/finance/quoteSummary/TATASTLLP.BO?modules=financialData%2CquoteType%2CdefaultKeyStatistics%2CassetProfile%2CsummaryDetail&corsDomain=finance.yahoo.com&formatted=false&symbol=TATASTLLP.BO&crumb=Mk2.ekFLtPm\n",
      "404 Client Error: Not Found for url: https://query2.finance.yahoo.com/v10/finance/quoteSummary/HEOFRG1100-MF.NS?modules=financialData%2CquoteType%2CdefaultKeyStatistics%2CassetProfile%2CsummaryDetail&corsDomain=finance.yahoo.com&formatted=false&symbol=HEOFRG1100-MF.NS&crumb=Mk2.ekFLtPm\n",
      "404 Client Error: Not Found for url: https://query2.finance.yahoo.com/v10/finance/quoteSummary/IGRL.BO?modules=financialData%2CquoteType%2CdefaultKeyStatistics%2CassetProfile%2CsummaryDetail&corsDomain=finance.yahoo.com&formatted=false&symbol=IGRL.BO&crumb=Mk2.ekFLtPm\n",
      "404 Client Error: Not Found for url: https://query2.finance.yahoo.com/v10/finance/quoteSummary/JINAAM.BO?modules=financialData%2CquoteType%2CdefaultKeyStatistics%2CassetProfile%2CsummaryDetail&corsDomain=finance.yahoo.com&formatted=false&symbol=JINAAM.BO&crumb=Mk2.ekFLtPm\n",
      "404 Client Error: Not Found for url: https://query2.finance.yahoo.com/v10/finance/quoteSummary/PAVNAIND-SM.NS?modules=financialData%2CquoteType%2CdefaultKeyStatistics%2CassetProfile%2CsummaryDetail&corsDomain=finance.yahoo.com&formatted=false&symbol=PAVNAIND-SM.NS&crumb=Mk2.ekFLtPm\n",
      "404 Client Error: Not Found for url: https://query2.finance.yahoo.com/v10/finance/quoteSummary/AVROIND-SM.NS?modules=financialData%2CquoteType%2CdefaultKeyStatistics%2CassetProfile%2CsummaryDetail&corsDomain=finance.yahoo.com&formatted=false&symbol=AVROIND-SM.NS&crumb=Mk2.ekFLtPm\n",
      "404 Client Error: Not Found for url: https://query2.finance.yahoo.com/v10/finance/quoteSummary/IMFA-BL.NS?modules=financialData%2CquoteType%2CdefaultKeyStatistics%2CassetProfile%2CsummaryDetail&corsDomain=finance.yahoo.com&formatted=false&symbol=IMFA-BL.NS&crumb=Mk2.ekFLtPm\n",
      "404 Client Error: Not Found for url: https://query2.finance.yahoo.com/v10/finance/quoteSummary/GENERAAGRI.BO?modules=financialData%2CquoteType%2CdefaultKeyStatistics%2CassetProfile%2CsummaryDetail&corsDomain=finance.yahoo.com&formatted=false&symbol=GENERAAGRI.BO&crumb=Mk2.ekFLtPm\n",
      "404 Client Error: Not Found for url: https://query2.finance.yahoo.com/v10/finance/quoteSummary/ICICIALPLV.BO?modules=financialData%2CquoteType%2CdefaultKeyStatistics%2CassetProfile%2CsummaryDetail&corsDomain=finance.yahoo.com&formatted=false&symbol=ICICIALPLV.BO&crumb=Mk2.ekFLtPm\n",
      "404 Client Error: Not Found for url: https://query2.finance.yahoo.com/v10/finance/quoteSummary/AXISCBGPG.BO?modules=financialData%2CquoteType%2CdefaultKeyStatistics%2CassetProfile%2CsummaryDetail&corsDomain=finance.yahoo.com&formatted=false&symbol=AXISCBGPG.BO&crumb=Mk2.ekFLtPm\n",
      "404 Client Error: Not Found for url: https://query2.finance.yahoo.com/v10/finance/quoteSummary/ICICINXT50.BO?modules=financialData%2CquoteType%2CdefaultKeyStatistics%2CassetProfile%2CsummaryDetail&corsDomain=finance.yahoo.com&formatted=false&symbol=ICICINXT50.BO&crumb=Mk2.ekFLtPm\n",
      "404 Client Error: Not Found for url: https://query2.finance.yahoo.com/v10/finance/quoteSummary/ICICICONSU.BO?modules=financialData%2CquoteType%2CdefaultKeyStatistics%2CassetProfile%2CsummaryDetail&corsDomain=finance.yahoo.com&formatted=false&symbol=ICICICONSU.BO&crumb=Mk2.ekFLtPm\n",
      "404 Client Error: Not Found for url: https://query2.finance.yahoo.com/v10/finance/quoteSummary/ICICINV20.BO?modules=financialData%2CquoteType%2CdefaultKeyStatistics%2CassetProfile%2CsummaryDetail&corsDomain=finance.yahoo.com&formatted=false&symbol=ICICINV20.BO&crumb=Mk2.ekFLtPm\n",
      "404 Client Error: Not Found for url: https://query2.finance.yahoo.com/v10/finance/quoteSummary/AXISCBDPD.BO?modules=financialData%2CquoteType%2CdefaultKeyStatistics%2CassetProfile%2CsummaryDetail&corsDomain=finance.yahoo.com&formatted=false&symbol=AXISCBDPD.BO&crumb=Mk2.ekFLtPm\n",
      "404 Client Error: Not Found for url: https://query2.finance.yahoo.com/v10/finance/quoteSummary/NETFNIF100.BO?modules=financialData%2CquoteType%2CdefaultKeyStatistics%2CassetProfile%2CsummaryDetail&corsDomain=finance.yahoo.com&formatted=false&symbol=NETFNIF100.BO&crumb=Mk2.ekFLtPm\n",
      "404 Client Error: Not Found for url: https://query2.finance.yahoo.com/v10/finance/quoteSummary/BEARD-RE.BO?modules=financialData%2CquoteType%2CdefaultKeyStatistics%2CassetProfile%2CsummaryDetail&corsDomain=finance.yahoo.com&formatted=false&symbol=BEARD-RE.BO&crumb=Mk2.ekFLtPm\n",
      "404 Client Error: Not Found for url: https://query2.finance.yahoo.com/v10/finance/quoteSummary/SRTRANSFIN-ZH.NS?modules=financialData%2CquoteType%2CdefaultKeyStatistics%2CassetProfile%2CsummaryDetail&corsDomain=finance.yahoo.com&formatted=false&symbol=SRTRANSFIN-ZH.NS&crumb=Mk2.ekFLtPm\n",
      "404 Client Error: Not Found for url: https://query2.finance.yahoo.com/v10/finance/quoteSummary/HBANKETF.BO?modules=financialData%2CquoteType%2CdefaultKeyStatistics%2CassetProfile%2CsummaryDetail&corsDomain=finance.yahoo.com&formatted=false&symbol=HBANKETF.BO&crumb=Mk2.ekFLtPm\n",
      "404 Client Error: Not Found for url: https://query2.finance.yahoo.com/v10/finance/quoteSummary/BCONCEPTS-SM.NS?modules=financialData%2CquoteType%2CdefaultKeyStatistics%2CassetProfile%2CsummaryDetail&corsDomain=finance.yahoo.com&formatted=false&symbol=BCONCEPTS-SM.NS&crumb=Mk2.ekFLtPm\n",
      "404 Client Error: Not Found for url: https://query2.finance.yahoo.com/v10/finance/quoteSummary/WEWIN-SM.NS?modules=financialData%2CquoteType%2CdefaultKeyStatistics%2CassetProfile%2CsummaryDetail&corsDomain=finance.yahoo.com&formatted=false&symbol=WEWIN-SM.NS&crumb=Mk2.ekFLtPm\n",
      "404 Client Error: Not Found for url: https://query2.finance.yahoo.com/v10/finance/quoteSummary/SSINFRA-SM.NS?modules=financialData%2CquoteType%2CdefaultKeyStatistics%2CassetProfile%2CsummaryDetail&corsDomain=finance.yahoo.com&formatted=false&symbol=SSINFRA-SM.NS&crumb=Mk2.ekFLtPm\n",
      "404 Client Error: Not Found for url: https://query2.finance.yahoo.com/v10/finance/quoteSummary/GIRIRAJ-SM.NS?modules=financialData%2CquoteType%2CdefaultKeyStatistics%2CassetProfile%2CsummaryDetail&corsDomain=finance.yahoo.com&formatted=false&symbol=GIRIRAJ-SM.NS&crumb=Mk2.ekFLtPm\n"
     ]
    },
    {
     "name": "stdout",
     "output_type": "stream",
     "text": [
      "done with 5100 tickers in 1290.2636721134186 seconds\n"
     ]
    },
    {
     "name": "stderr",
     "output_type": "stream",
     "text": [
      "404 Client Error: Not Found for url: https://query2.finance.yahoo.com/v10/finance/quoteSummary/KDLL.BO?modules=financialData%2CquoteType%2CdefaultKeyStatistics%2CassetProfile%2CsummaryDetail&corsDomain=finance.yahoo.com&formatted=false&symbol=KDLL.BO&crumb=Mk2.ekFLtPm\n",
      "404 Client Error: Not Found for url: https://query2.finance.yahoo.com/v10/finance/quoteSummary/SRTRANSFIN-Z5.NS?modules=financialData%2CquoteType%2CdefaultKeyStatistics%2CassetProfile%2CsummaryDetail&corsDomain=finance.yahoo.com&formatted=false&symbol=SRTRANSFIN-Z5.NS&crumb=Mk2.ekFLtPm\n",
      "404 Client Error: Not Found for url: https://query2.finance.yahoo.com/v10/finance/quoteSummary/SUNEDISON.BO?modules=financialData%2CquoteType%2CdefaultKeyStatistics%2CassetProfile%2CsummaryDetail&corsDomain=finance.yahoo.com&formatted=false&symbol=SUNEDISON.BO&crumb=Mk2.ekFLtPm\n",
      "404 Client Error: Not Found for url: https://query2.finance.yahoo.com/v10/finance/quoteSummary/CHEMIESYNT.BO?modules=financialData%2CquoteType%2CdefaultKeyStatistics%2CassetProfile%2CsummaryDetail&corsDomain=finance.yahoo.com&formatted=false&symbol=CHEMIESYNT.BO&crumb=Mk2.ekFLtPm\n",
      "404 Client Error: Not Found for url: https://query2.finance.yahoo.com/v10/finance/quoteSummary/BBTCL-SM.NS?modules=financialData%2CquoteType%2CdefaultKeyStatistics%2CassetProfile%2CsummaryDetail&corsDomain=finance.yahoo.com&formatted=false&symbol=BBTCL-SM.NS&crumb=Mk2.ekFLtPm\n",
      "404 Client Error: Not Found for url: https://query2.finance.yahoo.com/v10/finance/quoteSummary/DEVIT-SM.NS?modules=financialData%2CquoteType%2CdefaultKeyStatistics%2CassetProfile%2CsummaryDetail&corsDomain=finance.yahoo.com&formatted=false&symbol=DEVIT-SM.NS&crumb=Mk2.ekFLtPm\n",
      "404 Client Error: Not Found for url: https://query2.finance.yahoo.com/v10/finance/quoteSummary/MSTC.BO?modules=financialData%2CquoteType%2CdefaultKeyStatistics%2CassetProfile%2CsummaryDetail&corsDomain=finance.yahoo.com&formatted=false&symbol=MSTC.BO&crumb=Mk2.ekFLtPm\n",
      "404 Client Error: Not Found for url: https://query2.finance.yahoo.com/v10/finance/quoteSummary/SHBHAWPA.BO?modules=financialData%2CquoteType%2CdefaultKeyStatistics%2CassetProfile%2CsummaryDetail&corsDomain=finance.yahoo.com&formatted=false&symbol=SHBHAWPA.BO&crumb=Mk2.ekFLtPm\n",
      "404 Client Error: Not Found for url: https://query2.finance.yahoo.com/v10/finance/quoteSummary/FICRF3GP-MF.NS?modules=financialData%2CquoteType%2CdefaultKeyStatistics%2CassetProfile%2CsummaryDetail&corsDomain=finance.yahoo.com&formatted=false&symbol=FICRF3GP-MF.NS&crumb=Mk2.ekFLtPm\n",
      "404 Client Error: Not Found for url: https://query2.finance.yahoo.com/v10/finance/quoteSummary/SECURCRED-SM.NS?modules=financialData%2CquoteType%2CdefaultKeyStatistics%2CassetProfile%2CsummaryDetail&corsDomain=finance.yahoo.com&formatted=false&symbol=SECURCRED-SM.NS&crumb=Mk2.ekFLtPm\n",
      "404 Client Error: Not Found for url: https://query2.finance.yahoo.com/v10/finance/quoteSummary/VLIFEPP.BO?modules=financialData%2CquoteType%2CdefaultKeyStatistics%2CassetProfile%2CsummaryDetail&corsDomain=finance.yahoo.com&formatted=false&symbol=VLIFEPP.BO&crumb=Mk2.ekFLtPm\n",
      "404 Client Error: Not Found for url: https://query2.finance.yahoo.com/v10/finance/quoteSummary/NEH.BO?modules=financialData%2CquoteType%2CdefaultKeyStatistics%2CassetProfile%2CsummaryDetail&corsDomain=finance.yahoo.com&formatted=false&symbol=NEH.BO&crumb=Mk2.ekFLtPm\n",
      "404 Client Error: Not Found for url: https://query2.finance.yahoo.com/v10/finance/quoteSummary/PATINTPP-E1.NS?modules=financialData%2CquoteType%2CdefaultKeyStatistics%2CassetProfile%2CsummaryDetail&corsDomain=finance.yahoo.com&formatted=false&symbol=PATINTPP-E1.NS&crumb=Mk2.ekFLtPm\n",
      "404 Client Error: Not Found for url: https://query2.finance.yahoo.com/v10/finance/quoteSummary/BURGERKING.BO?modules=financialData%2CquoteType%2CdefaultKeyStatistics%2CassetProfile%2CsummaryDetail&corsDomain=finance.yahoo.com&formatted=false&symbol=BURGERKING.BO&crumb=Mk2.ekFLtPm\n",
      "404 Client Error: Not Found for url: https://query2.finance.yahoo.com/v10/finance/quoteSummary/EUROBOND-ST.NS?modules=financialData%2CquoteType%2CdefaultKeyStatistics%2CassetProfile%2CsummaryDetail&corsDomain=finance.yahoo.com&formatted=false&symbol=EUROBOND-ST.NS&crumb=Mk2.ekFLtPm\n"
     ]
    },
    {
     "name": "stdout",
     "output_type": "stream",
     "text": [
      "done with 5200 tickers in 1334.9672150611877 seconds\n"
     ]
    },
    {
     "name": "stderr",
     "output_type": "stream",
     "text": [
      "404 Client Error: Not Found for url: https://query2.finance.yahoo.com/v10/finance/quoteSummary/DEEPIND.BO?modules=financialData%2CquoteType%2CdefaultKeyStatistics%2CassetProfile%2CsummaryDetail&corsDomain=finance.yahoo.com&formatted=false&symbol=DEEPIND.BO&crumb=Mk2.ekFLtPm\n",
      "404 Client Error: Not Found for url: https://query2.finance.yahoo.com/v10/finance/quoteSummary/SHIVAM-RE.BO?modules=financialData%2CquoteType%2CdefaultKeyStatistics%2CassetProfile%2CsummaryDetail&corsDomain=finance.yahoo.com&formatted=false&symbol=SHIVAM-RE.BO&crumb=Mk2.ekFLtPm\n",
      "404 Client Error: Not Found for url: https://query2.finance.yahoo.com/v10/finance/quoteSummary/NIOSAD.BO?modules=financialData%2CquoteType%2CdefaultKeyStatistics%2CassetProfile%2CsummaryDetail&corsDomain=finance.yahoo.com&formatted=false&symbol=NIOSAD.BO&crumb=Mk2.ekFLtPm\n",
      "404 Client Error: Not Found for url: https://query2.finance.yahoo.com/v10/finance/quoteSummary/NEGOTIUM.BO?modules=financialData%2CquoteType%2CdefaultKeyStatistics%2CassetProfile%2CsummaryDetail&corsDomain=finance.yahoo.com&formatted=false&symbol=NEGOTIUM.BO&crumb=Mk2.ekFLtPm\n",
      "404 Client Error: Not Found for url: https://query2.finance.yahoo.com/v10/finance/quoteSummary/M17RD-MF.NS?modules=financialData%2CquoteType%2CdefaultKeyStatistics%2CassetProfile%2CsummaryDetail&corsDomain=finance.yahoo.com&formatted=false&symbol=M17RD-MF.NS&crumb=Mk2.ekFLtPm\n",
      "404 Client Error: Not Found for url: https://query2.finance.yahoo.com/v10/finance/quoteSummary/M17RG-MF.NS?modules=financialData%2CquoteType%2CdefaultKeyStatistics%2CassetProfile%2CsummaryDetail&corsDomain=finance.yahoo.com&formatted=false&symbol=M17RG-MF.NS&crumb=Mk2.ekFLtPm\n",
      "404 Client Error: Not Found for url: https://query2.finance.yahoo.com/v10/finance/quoteSummary/M14RG-MF.NS?modules=financialData%2CquoteType%2CdefaultKeyStatistics%2CassetProfile%2CsummaryDetail&corsDomain=finance.yahoo.com&formatted=false&symbol=M14RG-MF.NS&crumb=Mk2.ekFLtPm\n",
      "404 Client Error: Not Found for url: https://query2.finance.yahoo.com/v10/finance/quoteSummary/FOCE-ST.NS?modules=financialData%2CquoteType%2CdefaultKeyStatistics%2CassetProfile%2CsummaryDetail&corsDomain=finance.yahoo.com&formatted=false&symbol=FOCE-ST.NS&crumb=Mk2.ekFLtPm\n",
      "404 Client Error: Not Found for url: https://query2.finance.yahoo.com/v10/finance/quoteSummary/EC5RG-MF.NS?modules=financialData%2CquoteType%2CdefaultKeyStatistics%2CassetProfile%2CsummaryDetail&corsDomain=finance.yahoo.com&formatted=false&symbol=EC5RG-MF.NS&crumb=Mk2.ekFLtPm\n",
      "404 Client Error: Not Found for url: https://query2.finance.yahoo.com/v10/finance/quoteSummary/ELLORATRAD.BO?modules=financialData%2CquoteType%2CdefaultKeyStatistics%2CassetProfile%2CsummaryDetail&corsDomain=finance.yahoo.com&formatted=false&symbol=ELLORATRAD.BO&crumb=Mk2.ekFLtPm\n",
      "404 Client Error: Not Found for url: https://query2.finance.yahoo.com/v10/finance/quoteSummary/AXISCCGPG.BO?modules=financialData%2CquoteType%2CdefaultKeyStatistics%2CassetProfile%2CsummaryDetail&corsDomain=finance.yahoo.com&formatted=false&symbol=AXISCCGPG.BO&crumb=Mk2.ekFLtPm\n",
      "404 Client Error: Not Found for url: https://query2.finance.yahoo.com/v10/finance/quoteSummary/ASLIND-SM.NS?modules=financialData%2CquoteType%2CdefaultKeyStatistics%2CassetProfile%2CsummaryDetail&corsDomain=finance.yahoo.com&formatted=false&symbol=ASLIND-SM.NS&crumb=Mk2.ekFLtPm\n",
      "404 Client Error: Not Found for url: https://query2.finance.yahoo.com/v10/finance/quoteSummary/ICICITECH.BO?modules=financialData%2CquoteType%2CdefaultKeyStatistics%2CassetProfile%2CsummaryDetail&corsDomain=finance.yahoo.com&formatted=false&symbol=ICICITECH.BO&crumb=Mk2.ekFLtPm\n",
      "404 Client Error: Not Found for url: https://query2.finance.yahoo.com/v10/finance/quoteSummary/ASAHIIND.BO?modules=financialData%2CquoteType%2CdefaultKeyStatistics%2CassetProfile%2CsummaryDetail&corsDomain=finance.yahoo.com&formatted=false&symbol=ASAHIIND.BO&crumb=Mk2.ekFLtPm\n",
      "404 Client Error: Not Found for url: https://query2.finance.yahoo.com/v10/finance/quoteSummary/NXTDIGITAL.BO?modules=financialData%2CquoteType%2CdefaultKeyStatistics%2CassetProfile%2CsummaryDetail&corsDomain=finance.yahoo.com&formatted=false&symbol=NXTDIGITAL.BO&crumb=Mk2.ekFLtPm\n",
      "404 Client Error: Not Found for url: https://query2.finance.yahoo.com/v10/finance/quoteSummary/NATCAPSPP.BO?modules=financialData%2CquoteType%2CdefaultKeyStatistics%2CassetProfile%2CsummaryDetail&corsDomain=finance.yahoo.com&formatted=false&symbol=NATCAPSPP.BO&crumb=Mk2.ekFLtPm\n"
     ]
    },
    {
     "name": "stdout",
     "output_type": "stream",
     "text": [
      "done with 5300 tickers in 1381.0141999721527 seconds\n"
     ]
    },
    {
     "name": "stderr",
     "output_type": "stream",
     "text": [
      "404 Client Error: Not Found for url: https://query2.finance.yahoo.com/v10/finance/quoteSummary/VISVENL-RE.BO?modules=financialData%2CquoteType%2CdefaultKeyStatistics%2CassetProfile%2CsummaryDetail&corsDomain=finance.yahoo.com&formatted=false&symbol=VISVENL-RE.BO&crumb=Mk2.ekFLtPm\n",
      "404 Client Error: Not Found for url: https://query2.finance.yahoo.com/v10/finance/quoteSummary/BTML-SM.NS?modules=financialData%2CquoteType%2CdefaultKeyStatistics%2CassetProfile%2CsummaryDetail&corsDomain=finance.yahoo.com&formatted=false&symbol=BTML-SM.NS&crumb=Mk2.ekFLtPm\n",
      "404 Client Error: Not Found for url: https://query2.finance.yahoo.com/v10/finance/quoteSummary/PIGL-SM.NS?modules=financialData%2CquoteType%2CdefaultKeyStatistics%2CassetProfile%2CsummaryDetail&corsDomain=finance.yahoo.com&formatted=false&symbol=PIGL-SM.NS&crumb=Mk2.ekFLtPm\n",
      "404 Client Error: Not Found for url: https://query2.finance.yahoo.com/v10/finance/quoteSummary/AGRIMONY.BO?modules=financialData%2CquoteType%2CdefaultKeyStatistics%2CassetProfile%2CsummaryDetail&corsDomain=finance.yahoo.com&formatted=false&symbol=AGRIMONY.BO&crumb=Mk2.ekFLtPm\n",
      "404 Client Error: Not Found for url: https://query2.finance.yahoo.com/v10/finance/quoteSummary/VLIFEPP-E1.NS?modules=financialData%2CquoteType%2CdefaultKeyStatistics%2CassetProfile%2CsummaryDetail&corsDomain=finance.yahoo.com&formatted=false&symbol=VLIFEPP-E1.NS&crumb=Mk2.ekFLtPm\n",
      "404 Client Error: Not Found for url: https://query2.finance.yahoo.com/v10/finance/quoteSummary/CMMIPL-SM.NS?modules=financialData%2CquoteType%2CdefaultKeyStatistics%2CassetProfile%2CsummaryDetail&corsDomain=finance.yahoo.com&formatted=false&symbol=CMMIPL-SM.NS&crumb=Mk2.ekFLtPm\n",
      "404 Client Error: Not Found for url: https://query2.finance.yahoo.com/v10/finance/quoteSummary/YASHPAKKA.BO?modules=financialData%2CquoteType%2CdefaultKeyStatistics%2CassetProfile%2CsummaryDetail&corsDomain=finance.yahoo.com&formatted=false&symbol=YASHPAKKA.BO&crumb=Mk2.ekFLtPm\n",
      "404 Client Error: Not Found for url: https://query2.finance.yahoo.com/v10/finance/quoteSummary/NRL-SM.NS?modules=financialData%2CquoteType%2CdefaultKeyStatistics%2CassetProfile%2CsummaryDetail&corsDomain=finance.yahoo.com&formatted=false&symbol=NRL-SM.NS&crumb=Mk2.ekFLtPm\n",
      "404 Client Error: Not Found for url: https://query2.finance.yahoo.com/v10/finance/quoteSummary/MFL.BO?modules=financialData%2CquoteType%2CdefaultKeyStatistics%2CassetProfile%2CsummaryDetail&corsDomain=finance.yahoo.com&formatted=false&symbol=MFL.BO&crumb=Mk2.ekFLtPm\n",
      "404 Client Error: Not Found for url: https://query2.finance.yahoo.com/v10/finance/quoteSummary/LEXUS-SM.NS?modules=financialData%2CquoteType%2CdefaultKeyStatistics%2CassetProfile%2CsummaryDetail&corsDomain=finance.yahoo.com&formatted=false&symbol=LEXUS-SM.NS&crumb=Mk2.ekFLtPm\n",
      "404 Client Error: Not Found for url: https://query2.finance.yahoo.com/v10/finance/quoteSummary/BEARD-RE.NS?modules=financialData%2CquoteType%2CdefaultKeyStatistics%2CassetProfile%2CsummaryDetail&corsDomain=finance.yahoo.com&formatted=false&symbol=BEARD-RE.NS&crumb=Mk2.ekFLtPm\n",
      "404 Client Error: Not Found for url: https://query2.finance.yahoo.com/v10/finance/quoteSummary/PAZEL.BO?modules=financialData%2CquoteType%2CdefaultKeyStatistics%2CassetProfile%2CsummaryDetail&corsDomain=finance.yahoo.com&formatted=false&symbol=PAZEL.BO&crumb=Mk2.ekFLtPm\n"
     ]
    },
    {
     "name": "stdout",
     "output_type": "stream",
     "text": [
      "done with 5400 tickers in 1418.392077922821 seconds\n"
     ]
    },
    {
     "name": "stderr",
     "output_type": "stream",
     "text": [
      "404 Client Error: Not Found for url: https://query2.finance.yahoo.com/v10/finance/quoteSummary/DCI-SM.NS?modules=financialData%2CquoteType%2CdefaultKeyStatistics%2CassetProfile%2CsummaryDetail&corsDomain=finance.yahoo.com&formatted=false&symbol=DCI-SM.NS&crumb=Mk2.ekFLtPm\n",
      "404 Client Error: Not Found for url: https://query2.finance.yahoo.com/v10/finance/quoteSummary/THEJO-SM.NS?modules=financialData%2CquoteType%2CdefaultKeyStatistics%2CassetProfile%2CsummaryDetail&corsDomain=finance.yahoo.com&formatted=false&symbol=THEJO-SM.NS&crumb=Mk2.ekFLtPm\n",
      "404 Client Error: Not Found for url: https://query2.finance.yahoo.com/v10/finance/quoteSummary/SRTRANSFIN-ZA.NS?modules=financialData%2CquoteType%2CdefaultKeyStatistics%2CassetProfile%2CsummaryDetail&corsDomain=finance.yahoo.com&formatted=false&symbol=SRTRANSFIN-ZA.NS&crumb=Mk2.ekFLtPm\n",
      "404 Client Error: Not Found for url: https://query2.finance.yahoo.com/v10/finance/quoteSummary/SARVESHWAR-SM.NS?modules=financialData%2CquoteType%2CdefaultKeyStatistics%2CassetProfile%2CsummaryDetail&corsDomain=finance.yahoo.com&formatted=false&symbol=SARVESHWAR-SM.NS&crumb=Mk2.ekFLtPm\n",
      "404 Client Error: Not Found for url: https://query2.finance.yahoo.com/v10/finance/quoteSummary/IDBIGOLD.BO?modules=financialData%2CquoteType%2CdefaultKeyStatistics%2CassetProfile%2CsummaryDetail&corsDomain=finance.yahoo.com&formatted=false&symbol=IDBIGOLD.BO&crumb=Mk2.ekFLtPm\n",
      "404 Client Error: Not Found for url: https://query2.finance.yahoo.com/v10/finance/quoteSummary/ICICIBANKN.BO?modules=financialData%2CquoteType%2CdefaultKeyStatistics%2CassetProfile%2CsummaryDetail&corsDomain=finance.yahoo.com&formatted=false&symbol=ICICIBANKN.BO&crumb=Mk2.ekFLtPm\n",
      "404 Client Error: Not Found for url: https://query2.finance.yahoo.com/v10/finance/quoteSummary/ORTINLAABS.BO?modules=financialData%2CquoteType%2CdefaultKeyStatistics%2CassetProfile%2CsummaryDetail&corsDomain=finance.yahoo.com&formatted=false&symbol=ORTINLAABS.BO&crumb=Mk2.ekFLtPm\n",
      "404 Client Error: Not Found for url: https://query2.finance.yahoo.com/v10/finance/quoteSummary/ICICILOVOL.BO?modules=financialData%2CquoteType%2CdefaultKeyStatistics%2CassetProfile%2CsummaryDetail&corsDomain=finance.yahoo.com&formatted=false&symbol=ICICILOVOL.BO&crumb=Mk2.ekFLtPm\n",
      "404 Client Error: Not Found for url: https://query2.finance.yahoo.com/v10/finance/quoteSummary/MANXT50ETF.BO?modules=financialData%2CquoteType%2CdefaultKeyStatistics%2CassetProfile%2CsummaryDetail&corsDomain=finance.yahoo.com&formatted=false&symbol=MANXT50ETF.BO&crumb=Mk2.ekFLtPm\n",
      "404 Client Error: Not Found for url: https://query2.finance.yahoo.com/v10/finance/quoteSummary/SHWL.BO?modules=financialData%2CquoteType%2CdefaultKeyStatistics%2CassetProfile%2CsummaryDetail&corsDomain=finance.yahoo.com&formatted=false&symbol=SHWL.BO&crumb=Mk2.ekFLtPm\n",
      "404 Client Error: Not Found for url: https://query2.finance.yahoo.com/v10/finance/quoteSummary/PARAMONE.BO?modules=financialData%2CquoteType%2CdefaultKeyStatistics%2CassetProfile%2CsummaryDetail&corsDomain=finance.yahoo.com&formatted=false&symbol=PARAMONE.BO&crumb=Mk2.ekFLtPm\n",
      "404 Client Error: Not Found for url: https://query2.finance.yahoo.com/v10/finance/quoteSummary/IIFLWAM.BO?modules=financialData%2CquoteType%2CdefaultKeyStatistics%2CassetProfile%2CsummaryDetail&corsDomain=finance.yahoo.com&formatted=false&symbol=IIFLWAM.BO&crumb=Mk2.ekFLtPm\n",
      "404 Client Error: Not Found for url: https://query2.finance.yahoo.com/v10/finance/quoteSummary/SONAMCLOCK-SM.NS?modules=financialData%2CquoteType%2CdefaultKeyStatistics%2CassetProfile%2CsummaryDetail&corsDomain=finance.yahoo.com&formatted=false&symbol=SONAMCLOCK-SM.NS&crumb=Mk2.ekFLtPm\n",
      "404 Client Error: Not Found for url: https://query2.finance.yahoo.com/v10/finance/quoteSummary/NIOSAG.BO?modules=financialData%2CquoteType%2CdefaultKeyStatistics%2CassetProfile%2CsummaryDetail&corsDomain=finance.yahoo.com&formatted=false&symbol=NIOSAG.BO&crumb=Mk2.ekFLtPm\n",
      "404 Client Error: Not Found for url: https://query2.finance.yahoo.com/v10/finance/quoteSummary/NARMADA-SM.NS?modules=financialData%2CquoteType%2CdefaultKeyStatistics%2CassetProfile%2CsummaryDetail&corsDomain=finance.yahoo.com&formatted=false&symbol=NARMADA-SM.NS&crumb=Mk2.ekFLtPm\n",
      "404 Client Error: Not Found for url: https://query2.finance.yahoo.com/v10/finance/quoteSummary/SRTRANSFIN-Z6.NS?modules=financialData%2CquoteType%2CdefaultKeyStatistics%2CassetProfile%2CsummaryDetail&corsDomain=finance.yahoo.com&formatted=false&symbol=SRTRANSFIN-Z6.NS&crumb=Mk2.ekFLtPm\n",
      "404 Client Error: Not Found for url: https://query2.finance.yahoo.com/v10/finance/quoteSummary/SRTRANSFIN-ZC.NS?modules=financialData%2CquoteType%2CdefaultKeyStatistics%2CassetProfile%2CsummaryDetail&corsDomain=finance.yahoo.com&formatted=false&symbol=SRTRANSFIN-ZC.NS&crumb=Mk2.ekFLtPm\n",
      "404 Client Error: Not Found for url: https://query2.finance.yahoo.com/v10/finance/quoteSummary/SRTRANSFIN-Z9.NS?modules=financialData%2CquoteType%2CdefaultKeyStatistics%2CassetProfile%2CsummaryDetail&corsDomain=finance.yahoo.com&formatted=false&symbol=SRTRANSFIN-Z9.NS&crumb=Mk2.ekFLtPm\n",
      "404 Client Error: Not Found for url: https://query2.finance.yahoo.com/v10/finance/quoteSummary/SRTRANSFIN-Z4.NS?modules=financialData%2CquoteType%2CdefaultKeyStatistics%2CassetProfile%2CsummaryDetail&corsDomain=finance.yahoo.com&formatted=false&symbol=SRTRANSFIN-Z4.NS&crumb=Mk2.ekFLtPm\n",
      "404 Client Error: Not Found for url: https://query2.finance.yahoo.com/v10/finance/quoteSummary/SRTRANSFIN-ZG.NS?modules=financialData%2CquoteType%2CdefaultKeyStatistics%2CassetProfile%2CsummaryDetail&corsDomain=finance.yahoo.com&formatted=false&symbol=SRTRANSFIN-ZG.NS&crumb=Mk2.ekFLtPm\n",
      "404 Client Error: Not Found for url: https://query2.finance.yahoo.com/v10/finance/quoteSummary/SOLIDCO.BO?modules=financialData%2CquoteType%2CdefaultKeyStatistics%2CassetProfile%2CsummaryDetail&corsDomain=finance.yahoo.com&formatted=false&symbol=SOLIDCO.BO&crumb=Mk2.ekFLtPm\n",
      "404 Client Error: Not Found for url: https://query2.finance.yahoo.com/v10/finance/quoteSummary/HGIND.BO?modules=financialData%2CquoteType%2CdefaultKeyStatistics%2CassetProfile%2CsummaryDetail&corsDomain=finance.yahoo.com&formatted=false&symbol=HGIND.BO&crumb=Mk2.ekFLtPm\n",
      "404 Client Error: Not Found for url: https://query2.finance.yahoo.com/v10/finance/quoteSummary/OSWALSEEDS-SM.NS?modules=financialData%2CquoteType%2CdefaultKeyStatistics%2CassetProfile%2CsummaryDetail&corsDomain=finance.yahoo.com&formatted=false&symbol=OSWALSEEDS-SM.NS&crumb=Mk2.ekFLtPm\n",
      "404 Client Error: Not Found for url: https://query2.finance.yahoo.com/v10/finance/quoteSummary/JATALIA.BO?modules=financialData%2CquoteType%2CdefaultKeyStatistics%2CassetProfile%2CsummaryDetail&corsDomain=finance.yahoo.com&formatted=false&symbol=JATALIA.BO&crumb=Mk2.ekFLtPm\n"
     ]
    },
    {
     "name": "stdout",
     "output_type": "stream",
     "text": [
      "done with 5500 tickers in 1474.5859732627869 seconds\n"
     ]
    },
    {
     "name": "stderr",
     "output_type": "stream",
     "text": [
      "404 Client Error: Not Found for url: https://query2.finance.yahoo.com/v10/finance/quoteSummary/SILVERTUC-SM.NS?modules=financialData%2CquoteType%2CdefaultKeyStatistics%2CassetProfile%2CsummaryDetail&corsDomain=finance.yahoo.com&formatted=false&symbol=SILVERTUC-SM.NS&crumb=Mk2.ekFLtPm\n",
      "404 Client Error: Not Found for url: https://query2.finance.yahoo.com/v10/finance/quoteSummary/E2E-SM.NS?modules=financialData%2CquoteType%2CdefaultKeyStatistics%2CassetProfile%2CsummaryDetail&corsDomain=finance.yahoo.com&formatted=false&symbol=E2E-SM.NS&crumb=Mk2.ekFLtPm\n",
      "404 Client Error: Not Found for url: https://query2.finance.yahoo.com/v10/finance/quoteSummary/TERRASCOPE.BO?modules=financialData%2CquoteType%2CdefaultKeyStatistics%2CassetProfile%2CsummaryDetail&corsDomain=finance.yahoo.com&formatted=false&symbol=TERRASCOPE.BO&crumb=Mk2.ekFLtPm\n",
      "404 Client Error: Not Found for url: https://query2.finance.yahoo.com/v10/finance/quoteSummary/SRTRANSFIN-Z8.NS?modules=financialData%2CquoteType%2CdefaultKeyStatistics%2CassetProfile%2CsummaryDetail&corsDomain=finance.yahoo.com&formatted=false&symbol=SRTRANSFIN-Z8.NS&crumb=Mk2.ekFLtPm\n",
      "404 Client Error: Not Found for url: https://query2.finance.yahoo.com/v10/finance/quoteSummary/NETRIPPLES.BO?modules=financialData%2CquoteType%2CdefaultKeyStatistics%2CassetProfile%2CsummaryDetail&corsDomain=finance.yahoo.com&formatted=false&symbol=NETRIPPLES.BO&crumb=Mk2.ekFLtPm\n",
      "404 Client Error: Not Found for url: https://query2.finance.yahoo.com/v10/finance/quoteSummary/DUDIGITAL-SM.NS?modules=financialData%2CquoteType%2CdefaultKeyStatistics%2CassetProfile%2CsummaryDetail&corsDomain=finance.yahoo.com&formatted=false&symbol=DUDIGITAL-SM.NS&crumb=Mk2.ekFLtPm\n",
      "404 Client Error: Not Found for url: https://query2.finance.yahoo.com/v10/finance/quoteSummary/SOFTTECH-SM.NS?modules=financialData%2CquoteType%2CdefaultKeyStatistics%2CassetProfile%2CsummaryDetail&corsDomain=finance.yahoo.com&formatted=false&symbol=SOFTTECH-SM.NS&crumb=Mk2.ekFLtPm\n",
      "404 Client Error: Not Found for url: https://query2.finance.yahoo.com/v10/finance/quoteSummary/SHIVAM-RE.NS?modules=financialData%2CquoteType%2CdefaultKeyStatistics%2CassetProfile%2CsummaryDetail&corsDomain=finance.yahoo.com&formatted=false&symbol=SHIVAM-RE.NS&crumb=Mk2.ekFLtPm\n",
      "404 Client Error: Not Found for url: https://query2.finance.yahoo.com/v10/finance/quoteSummary/KSOLVES-SM.NS?modules=financialData%2CquoteType%2CdefaultKeyStatistics%2CassetProfile%2CsummaryDetail&corsDomain=finance.yahoo.com&formatted=false&symbol=KSOLVES-SM.NS&crumb=Mk2.ekFLtPm\n",
      "404 Client Error: Not Found for url: https://query2.finance.yahoo.com/v10/finance/quoteSummary/SIGMA-SM.NS?modules=financialData%2CquoteType%2CdefaultKeyStatistics%2CassetProfile%2CsummaryDetail&corsDomain=finance.yahoo.com&formatted=false&symbol=SIGMA-SM.NS&crumb=Mk2.ekFLtPm\n",
      "404 Client Error: Not Found for url: https://query2.finance.yahoo.com/v10/finance/quoteSummary/MITCON-SM.NS?modules=financialData%2CquoteType%2CdefaultKeyStatistics%2CassetProfile%2CsummaryDetail&corsDomain=finance.yahoo.com&formatted=false&symbol=MITCON-SM.NS&crumb=Mk2.ekFLtPm\n",
      "404 Client Error: Not Found for url: https://query2.finance.yahoo.com/v10/finance/quoteSummary/INDOASIAF.BO?modules=financialData%2CquoteType%2CdefaultKeyStatistics%2CassetProfile%2CsummaryDetail&corsDomain=finance.yahoo.com&formatted=false&symbol=INDOASIAF.BO&crumb=Mk2.ekFLtPm\n",
      "404 Client Error: Not Found for url: https://query2.finance.yahoo.com/v10/finance/quoteSummary/HKG.BO?modules=financialData%2CquoteType%2CdefaultKeyStatistics%2CassetProfile%2CsummaryDetail&corsDomain=finance.yahoo.com&formatted=false&symbol=HKG.BO&crumb=Mk2.ekFLtPm\n"
     ]
    },
    {
     "name": "stdout",
     "output_type": "stream",
     "text": [
      "done with 5600 tickers in 1515.0818490982056 seconds\n"
     ]
    },
    {
     "name": "stderr",
     "output_type": "stream",
     "text": [
      "404 Client Error: Not Found for url: https://query2.finance.yahoo.com/v10/finance/quoteSummary/SRTRANSFIN-Z2.NS?modules=financialData%2CquoteType%2CdefaultKeyStatistics%2CassetProfile%2CsummaryDetail&corsDomain=finance.yahoo.com&formatted=false&symbol=SRTRANSFIN-Z2.NS&crumb=Mk2.ekFLtPm\n",
      "404 Client Error: Not Found for url: https://query2.finance.yahoo.com/v10/finance/quoteSummary/SRTRANSFIN-Z7.NS?modules=financialData%2CquoteType%2CdefaultKeyStatistics%2CassetProfile%2CsummaryDetail&corsDomain=finance.yahoo.com&formatted=false&symbol=SRTRANSFIN-Z7.NS&crumb=Mk2.ekFLtPm\n",
      "404 Client Error: Not Found for url: https://query2.finance.yahoo.com/v10/finance/quoteSummary/IPRU3169.BO?modules=financialData%2CquoteType%2CdefaultKeyStatistics%2CassetProfile%2CsummaryDetail&corsDomain=finance.yahoo.com&formatted=false&symbol=IPRU3169.BO&crumb=Mk2.ekFLtPm\n",
      "404 Client Error: Not Found for url: https://query2.finance.yahoo.com/v10/finance/quoteSummary/SRTRANSFIN-ZD.NS?modules=financialData%2CquoteType%2CdefaultKeyStatistics%2CassetProfile%2CsummaryDetail&corsDomain=finance.yahoo.com&formatted=false&symbol=SRTRANSFIN-ZD.NS&crumb=Mk2.ekFLtPm\n",
      "404 Client Error: Not Found for url: https://query2.finance.yahoo.com/v10/finance/quoteSummary/KPIGLOBAL.BO?modules=financialData%2CquoteType%2CdefaultKeyStatistics%2CassetProfile%2CsummaryDetail&corsDomain=finance.yahoo.com&formatted=false&symbol=KPIGLOBAL.BO&crumb=Mk2.ekFLtPm\n",
      "404 Client Error: Not Found for url: https://query2.finance.yahoo.com/v10/finance/quoteSummary/SEJAL.BO?modules=financialData%2CquoteType%2CdefaultKeyStatistics%2CassetProfile%2CsummaryDetail&corsDomain=finance.yahoo.com&formatted=false&symbol=SEJAL.BO&crumb=Mk2.ekFLtPm\n",
      "404 Client Error: Not Found for url: https://query2.finance.yahoo.com/v10/finance/quoteSummary/SRTRANSFIN-Z3.NS?modules=financialData%2CquoteType%2CdefaultKeyStatistics%2CassetProfile%2CsummaryDetail&corsDomain=finance.yahoo.com&formatted=false&symbol=SRTRANSFIN-Z3.NS&crumb=Mk2.ekFLtPm\n",
      "404 Client Error: Not Found for url: https://query2.finance.yahoo.com/v10/finance/quoteSummary/M14RD-MF.NS?modules=financialData%2CquoteType%2CdefaultKeyStatistics%2CassetProfile%2CsummaryDetail&corsDomain=finance.yahoo.com&formatted=false&symbol=M14RD-MF.NS&crumb=Mk2.ekFLtPm\n",
      "404 Client Error: Not Found for url: https://query2.finance.yahoo.com/v10/finance/quoteSummary/ICICIFMCG.BO?modules=financialData%2CquoteType%2CdefaultKeyStatistics%2CassetProfile%2CsummaryDetail&corsDomain=finance.yahoo.com&formatted=false&symbol=ICICIFMCG.BO&crumb=Mk2.ekFLtPm\n",
      "404 Client Error: Not Found for url: https://query2.finance.yahoo.com/v10/finance/quoteSummary/M15RG-MF.NS?modules=financialData%2CquoteType%2CdefaultKeyStatistics%2CassetProfile%2CsummaryDetail&corsDomain=finance.yahoo.com&formatted=false&symbol=M15RG-MF.NS&crumb=Mk2.ekFLtPm\n",
      "404 Client Error: Not Found for url: https://query2.finance.yahoo.com/v10/finance/quoteSummary/PENTAGOLD-SM.NS?modules=financialData%2CquoteType%2CdefaultKeyStatistics%2CassetProfile%2CsummaryDetail&corsDomain=finance.yahoo.com&formatted=false&symbol=PENTAGOLD-SM.NS&crumb=Mk2.ekFLtPm\n",
      "404 Client Error: Not Found for url: https://query2.finance.yahoo.com/v10/finance/quoteSummary/FILDF2GP-MF.NS?modules=financialData%2CquoteType%2CdefaultKeyStatistics%2CassetProfile%2CsummaryDetail&corsDomain=finance.yahoo.com&formatted=false&symbol=FILDF2GP-MF.NS&crumb=Mk2.ekFLtPm\n",
      "404 Client Error: Not Found for url: https://query2.finance.yahoo.com/v10/finance/quoteSummary/SPICY.BO?modules=financialData%2CquoteType%2CdefaultKeyStatistics%2CassetProfile%2CsummaryDetail&corsDomain=finance.yahoo.com&formatted=false&symbol=SPICY.BO&crumb=Mk2.ekFLtPm\n",
      "404 Client Error: Not Found for url: https://query2.finance.yahoo.com/v10/finance/quoteSummary/HPIL-SM.NS?modules=financialData%2CquoteType%2CdefaultKeyStatistics%2CassetProfile%2CsummaryDetail&corsDomain=finance.yahoo.com&formatted=false&symbol=HPIL-SM.NS&crumb=Mk2.ekFLtPm\n",
      "404 Client Error: Not Found for url: https://query2.finance.yahoo.com/v10/finance/quoteSummary/ICICICONSU.NS?modules=financialData%2CquoteType%2CdefaultKeyStatistics%2CassetProfile%2CsummaryDetail&corsDomain=finance.yahoo.com&formatted=false&symbol=ICICICONSU.NS&crumb=Mk2.ekFLtPm\n",
      "404 Client Error: Not Found for url: https://query2.finance.yahoo.com/v10/finance/quoteSummary/ICICIGOLD.BO?modules=financialData%2CquoteType%2CdefaultKeyStatistics%2CassetProfile%2CsummaryDetail&corsDomain=finance.yahoo.com&formatted=false&symbol=ICICIGOLD.BO&crumb=Mk2.ekFLtPm\n",
      "404 Client Error: Not Found for url: https://query2.finance.yahoo.com/v10/finance/quoteSummary/EC2RG-MF.NS?modules=financialData%2CquoteType%2CdefaultKeyStatistics%2CassetProfile%2CsummaryDetail&corsDomain=finance.yahoo.com&formatted=false&symbol=EC2RG-MF.NS&crumb=Mk2.ekFLtPm\n",
      "404 Client Error: Not Found for url: https://query2.finance.yahoo.com/v10/finance/quoteSummary/IPRU3168.BO?modules=financialData%2CquoteType%2CdefaultKeyStatistics%2CassetProfile%2CsummaryDetail&corsDomain=finance.yahoo.com&formatted=false&symbol=IPRU3168.BO&crumb=Mk2.ekFLtPm\n",
      "404 Client Error: Not Found for url: https://query2.finance.yahoo.com/v10/finance/quoteSummary/MAESGETF.BO?modules=financialData%2CquoteType%2CdefaultKeyStatistics%2CassetProfile%2CsummaryDetail&corsDomain=finance.yahoo.com&formatted=false&symbol=MAESGETF.BO&crumb=Mk2.ekFLtPm\n",
      "404 Client Error: Not Found for url: https://query2.finance.yahoo.com/v10/finance/quoteSummary/PATINTPP.BO?modules=financialData%2CquoteType%2CdefaultKeyStatistics%2CassetProfile%2CsummaryDetail&corsDomain=finance.yahoo.com&formatted=false&symbol=PATINTPP.BO&crumb=Mk2.ekFLtPm\n",
      "404 Client Error: Not Found for url: https://query2.finance.yahoo.com/v10/finance/quoteSummary/CHEMFABALKA.BO?modules=financialData%2CquoteType%2CdefaultKeyStatistics%2CassetProfile%2CsummaryDetail&corsDomain=finance.yahoo.com&formatted=false&symbol=CHEMFABALKA.BO&crumb=Mk2.ekFLtPm\n"
     ]
    },
    {
     "name": "stdout",
     "output_type": "stream",
     "text": [
      "done with 5700 tickers in 1571.0994799137115 seconds\n"
     ]
    },
    {
     "name": "stderr",
     "output_type": "stream",
     "text": [
      "404 Client Error: Not Found for url: https://query2.finance.yahoo.com/v10/finance/quoteSummary/BIRLATYRES.BO?modules=financialData%2CquoteType%2CdefaultKeyStatistics%2CassetProfile%2CsummaryDetail&corsDomain=finance.yahoo.com&formatted=false&symbol=BIRLATYRES.BO&crumb=Mk2.ekFLtPm\n",
      "404 Client Error: Not Found for url: https://query2.finance.yahoo.com/v10/finance/quoteSummary/UNIINFO-SM.NS?modules=financialData%2CquoteType%2CdefaultKeyStatistics%2CassetProfile%2CsummaryDetail&corsDomain=finance.yahoo.com&formatted=false&symbol=UNIINFO-SM.NS&crumb=Mk2.ekFLtPm\n",
      "404 Client Error: Not Found for url: https://query2.finance.yahoo.com/v10/finance/quoteSummary/SRTRANSFIN-Z1.NS?modules=financialData%2CquoteType%2CdefaultKeyStatistics%2CassetProfile%2CsummaryDetail&corsDomain=finance.yahoo.com&formatted=false&symbol=SRTRANSFIN-Z1.NS&crumb=Mk2.ekFLtPm\n",
      "404 Client Error: Not Found for url: https://query2.finance.yahoo.com/v10/finance/quoteSummary/SPENCER.BO?modules=financialData%2CquoteType%2CdefaultKeyStatistics%2CassetProfile%2CsummaryDetail&corsDomain=finance.yahoo.com&formatted=false&symbol=SPENCER.BO&crumb=Mk2.ekFLtPm\n",
      "404 Client Error: Not Found for url: https://query2.finance.yahoo.com/v10/finance/quoteSummary/ASCOM-SM.NS?modules=financialData%2CquoteType%2CdefaultKeyStatistics%2CassetProfile%2CsummaryDetail&corsDomain=finance.yahoo.com&formatted=false&symbol=ASCOM-SM.NS&crumb=Mk2.ekFLtPm\n",
      "404 Client Error: Not Found for url: https://query2.finance.yahoo.com/v10/finance/quoteSummary/MAFSETF.BO?modules=financialData%2CquoteType%2CdefaultKeyStatistics%2CassetProfile%2CsummaryDetail&corsDomain=finance.yahoo.com&formatted=false&symbol=MAFSETF.BO&crumb=Mk2.ekFLtPm\n",
      "404 Client Error: Not Found for url: https://query2.finance.yahoo.com/v10/finance/quoteSummary/PRITI-SM.NS?modules=financialData%2CquoteType%2CdefaultKeyStatistics%2CassetProfile%2CsummaryDetail&corsDomain=finance.yahoo.com&formatted=false&symbol=PRITI-SM.NS&crumb=Mk2.ekFLtPm\n",
      "404 Client Error: Not Found for url: https://query2.finance.yahoo.com/v10/finance/quoteSummary/BCLIL.BO?modules=financialData%2CquoteType%2CdefaultKeyStatistics%2CassetProfile%2CsummaryDetail&corsDomain=finance.yahoo.com&formatted=false&symbol=BCLIL.BO&crumb=Mk2.ekFLtPm\n",
      "404 Client Error: Not Found for url: https://query2.finance.yahoo.com/v10/finance/quoteSummary/VAL.BO?modules=financialData%2CquoteType%2CdefaultKeyStatistics%2CassetProfile%2CsummaryDetail&corsDomain=finance.yahoo.com&formatted=false&symbol=VAL.BO&crumb=Mk2.ekFLtPm\n",
      "404 Client Error: Not Found for url: https://query2.finance.yahoo.com/v10/finance/quoteSummary/NETFSNX150.BO?modules=financialData%2CquoteType%2CdefaultKeyStatistics%2CassetProfile%2CsummaryDetail&corsDomain=finance.yahoo.com&formatted=false&symbol=NETFSNX150.BO&crumb=Mk2.ekFLtPm\n",
      "404 Client Error: Not Found for url: https://query2.finance.yahoo.com/v10/finance/quoteSummary/ATALREAL-SM.NS?modules=financialData%2CquoteType%2CdefaultKeyStatistics%2CassetProfile%2CsummaryDetail&corsDomain=finance.yahoo.com&formatted=false&symbol=ATALREAL-SM.NS&crumb=Mk2.ekFLtPm\n",
      "404 Client Error: Not Found for url: https://query2.finance.yahoo.com/v10/finance/quoteSummary/SELMCL.BO?modules=financialData%2CquoteType%2CdefaultKeyStatistics%2CassetProfile%2CsummaryDetail&corsDomain=finance.yahoo.com&formatted=false&symbol=SELMCL.BO&crumb=Mk2.ekFLtPm\n",
      "404 Client Error: Not Found for url: https://query2.finance.yahoo.com/v10/finance/quoteSummary/NETFSENSEX.BO?modules=financialData%2CquoteType%2CdefaultKeyStatistics%2CassetProfile%2CsummaryDetail&corsDomain=finance.yahoo.com&formatted=false&symbol=NETFSENSEX.BO&crumb=Mk2.ekFLtPm\n",
      "404 Client Error: Not Found for url: https://query2.finance.yahoo.com/v10/finance/quoteSummary/ZEEL-P2.NS?modules=financialData%2CquoteType%2CdefaultKeyStatistics%2CassetProfile%2CsummaryDetail&corsDomain=finance.yahoo.com&formatted=false&symbol=ZEEL-P2.NS&crumb=Mk2.ekFLtPm\n",
      "404 Client Error: Not Found for url: https://query2.finance.yahoo.com/v10/finance/quoteSummary/SVLL-SM.NS?modules=financialData%2CquoteType%2CdefaultKeyStatistics%2CassetProfile%2CsummaryDetail&corsDomain=finance.yahoo.com&formatted=false&symbol=SVLL-SM.NS&crumb=Mk2.ekFLtPm\n"
     ]
    },
    {
     "name": "stdout",
     "output_type": "stream",
     "text": [
      "done with 5800 tickers in 1614.5574188232422 seconds\n"
     ]
    },
    {
     "name": "stderr",
     "output_type": "stream",
     "text": [
      "404 Client Error: Not Found for url: https://query2.finance.yahoo.com/v10/finance/quoteSummary/APMFINVEST.BO?modules=financialData%2CquoteType%2CdefaultKeyStatistics%2CassetProfile%2CsummaryDetail&corsDomain=finance.yahoo.com&formatted=false&symbol=APMFINVEST.BO&crumb=Mk2.ekFLtPm\n",
      "404 Client Error: Not Found for url: https://query2.finance.yahoo.com/v10/finance/quoteSummary/APOLLOTRI.BO?modules=financialData%2CquoteType%2CdefaultKeyStatistics%2CassetProfile%2CsummaryDetail&corsDomain=finance.yahoo.com&formatted=false&symbol=APOLLOTRI.BO&crumb=Mk2.ekFLtPm\n"
     ]
    }
   ],
   "source": [
    "s = time.time()\n",
    "cnt = 0\n",
    "for ticker in all_tickers:\n",
    "    yf_tick = yf.Ticker(ticker)\n",
    "    ticker_info[ticker] = yf_tick.info\n",
    "    cnt += 1 \n",
    "    if cnt % 100 == 0:\n",
    "        print(f'done with {cnt} tickers in {time.time() - s} seconds')"
   ]
  },
  {
   "cell_type": "code",
   "execution_count": 120,
   "id": "a249530f-a9d4-47da-bb1f-093ad7e772f0",
   "metadata": {
    "tags": []
   },
   "outputs": [],
   "source": [
    "for k, v in ticker_info.items():\n",
    "    v.pop('sym')"
   ]
  },
  {
   "cell_type": "code",
   "execution_count": 122,
   "id": "deca204f-9c54-48aa-a85a-5314e6e0d41b",
   "metadata": {
    "tags": []
   },
   "outputs": [],
   "source": [
    "ticker_df = pd.DataFrame(list(ticker_info.values()))"
   ]
  },
  {
   "cell_type": "code",
   "execution_count": 123,
   "id": "d0ae9a99-2619-4a2d-9e02-f6f3ee97ce4e",
   "metadata": {
    "tags": []
   },
   "outputs": [],
   "source": [
    "ticker_df = ticker_df.dropna(how='all')"
   ]
  },
  {
   "cell_type": "code",
   "execution_count": 198,
   "id": "fb8d2f50-8139-4549-82fe-f308471fb265",
   "metadata": {
    "tags": []
   },
   "outputs": [
    {
     "data": {
      "text/html": [
       "<div>\n",
       "<style scoped>\n",
       "    .dataframe tbody tr th:only-of-type {\n",
       "        vertical-align: middle;\n",
       "    }\n",
       "\n",
       "    .dataframe tbody tr th {\n",
       "        vertical-align: top;\n",
       "    }\n",
       "\n",
       "    .dataframe thead th {\n",
       "        text-align: right;\n",
       "    }\n",
       "</style>\n",
       "<table border=\"1\" class=\"dataframe\">\n",
       "  <thead>\n",
       "    <tr style=\"text-align: right;\">\n",
       "      <th></th>\n",
       "      <th>industry</th>\n",
       "      <th>sector</th>\n",
       "      <th>symbol</th>\n",
       "    </tr>\n",
       "  </thead>\n",
       "  <tbody>\n",
       "    <tr>\n",
       "      <th>0</th>\n",
       "      <td>Oil &amp; Gas Refining &amp; Marketing</td>\n",
       "      <td>Energy</td>\n",
       "      <td>RELIANCE.NS</td>\n",
       "    </tr>\n",
       "    <tr>\n",
       "      <th>1</th>\n",
       "      <td>Oil &amp; Gas Refining &amp; Marketing</td>\n",
       "      <td>Energy</td>\n",
       "      <td>RELIANCE.BO</td>\n",
       "    </tr>\n",
       "    <tr>\n",
       "      <th>2</th>\n",
       "      <td>Information Technology Services</td>\n",
       "      <td>Technology</td>\n",
       "      <td>TCS.NS</td>\n",
       "    </tr>\n",
       "    <tr>\n",
       "      <th>3</th>\n",
       "      <td>Information Technology Services</td>\n",
       "      <td>Technology</td>\n",
       "      <td>TCS.BO</td>\n",
       "    </tr>\n",
       "    <tr>\n",
       "      <th>4</th>\n",
       "      <td>Banks - Regional</td>\n",
       "      <td>Financial Services</td>\n",
       "      <td>HDFCBANK.NS</td>\n",
       "    </tr>\n",
       "    <tr>\n",
       "      <th>...</th>\n",
       "      <td>...</td>\n",
       "      <td>...</td>\n",
       "      <td>...</td>\n",
       "    </tr>\n",
       "    <tr>\n",
       "      <th>5824</th>\n",
       "      <td>NaN</td>\n",
       "      <td>NaN</td>\n",
       "      <td>NIESSPM.BO</td>\n",
       "    </tr>\n",
       "    <tr>\n",
       "      <th>5825</th>\n",
       "      <td>NaN</td>\n",
       "      <td>NaN</td>\n",
       "      <td>QGOLDHALF.NS</td>\n",
       "    </tr>\n",
       "    <tr>\n",
       "      <th>5826</th>\n",
       "      <td>NaN</td>\n",
       "      <td>NaN</td>\n",
       "      <td>KOTAKGOLD.NS</td>\n",
       "    </tr>\n",
       "    <tr>\n",
       "      <th>5827</th>\n",
       "      <td>NaN</td>\n",
       "      <td>NaN</td>\n",
       "      <td>HDFCMFGETF.NS</td>\n",
       "    </tr>\n",
       "    <tr>\n",
       "      <th>5828</th>\n",
       "      <td>NaN</td>\n",
       "      <td>NaN</td>\n",
       "      <td>UTIBANKETF.NS</td>\n",
       "    </tr>\n",
       "  </tbody>\n",
       "</table>\n",
       "<p>5436 rows × 3 columns</p>\n",
       "</div>"
      ],
      "text/plain": [
       "                             industry              sector         symbol\n",
       "0      Oil & Gas Refining & Marketing              Energy    RELIANCE.NS\n",
       "1      Oil & Gas Refining & Marketing              Energy    RELIANCE.BO\n",
       "2     Information Technology Services          Technology         TCS.NS\n",
       "3     Information Technology Services          Technology         TCS.BO\n",
       "4                    Banks - Regional  Financial Services    HDFCBANK.NS\n",
       "...                               ...                 ...            ...\n",
       "5824                              NaN                 NaN     NIESSPM.BO\n",
       "5825                              NaN                 NaN   QGOLDHALF.NS\n",
       "5826                              NaN                 NaN   KOTAKGOLD.NS\n",
       "5827                              NaN                 NaN  HDFCMFGETF.NS\n",
       "5828                              NaN                 NaN  UTIBANKETF.NS\n",
       "\n",
       "[5436 rows x 3 columns]"
      ]
     },
     "execution_count": 198,
     "metadata": {},
     "output_type": "execute_result"
    }
   ],
   "source": [
    "ticker_df[['industry','sector', 'symbol']]"
   ]
  },
  {
   "cell_type": "code",
   "execution_count": 124,
   "id": "d62271b2-6db0-444c-a03b-09459d90679d",
   "metadata": {
    "tags": []
   },
   "outputs": [],
   "source": [
    "valid_symbols = list(ticker_df['symbol'].unique())"
   ]
  },
  {
   "cell_type": "code",
   "execution_count": 130,
   "id": "ade84096-8a1e-47d8-bc64-4fbb3ac135b1",
   "metadata": {
    "tags": []
   },
   "outputs": [],
   "source": [
    "valid_df = df[df.symbol.isin(valid_symbols)]"
   ]
  },
  {
   "cell_type": "code",
   "execution_count": 132,
   "id": "cd69448d-b009-4ca8-ac38-d3dc8f7a06f6",
   "metadata": {
    "tags": []
   },
   "outputs": [
    {
     "data": {
      "text/plain": [
       "symbol        0\n",
       "shortName    43\n",
       "longName      0\n",
       "exchange      0\n",
       "market        0\n",
       "quoteType     0\n",
       "sym           0\n",
       "dtype: int64"
      ]
     },
     "execution_count": 132,
     "metadata": {},
     "output_type": "execute_result"
    }
   ],
   "source": [
    "valid_df.isnull().sum()"
   ]
  },
  {
   "cell_type": "code",
   "execution_count": 147,
   "id": "49ea8899-b068-4e1c-a64d-e6dc9b8473ec",
   "metadata": {
    "tags": []
   },
   "outputs": [],
   "source": [
    "lst = valid_df.groupby('sym')['longName'].nunique()"
   ]
  },
  {
   "cell_type": "code",
   "execution_count": 157,
   "id": "f30c633c-0a6b-440f-b0c6-05ee529ea064",
   "metadata": {
    "tags": []
   },
   "outputs": [],
   "source": [
    "import string"
   ]
  },
  {
   "cell_type": "code",
   "execution_count": 179,
   "id": "362c8bb0-1ec0-4acd-8448-246dc0791490",
   "metadata": {
    "tags": []
   },
   "outputs": [
    {
     "data": {
      "text/plain": [
       "'This Is The Final Value'"
      ]
     },
     "execution_count": 179,
     "metadata": {},
     "output_type": "execute_result"
    }
   ],
   "source": [
    "string.capwords('THIS IS THE FINAL VALUE')"
   ]
  },
  {
   "cell_type": "code",
   "execution_count": 166,
   "id": "fb64e927-0b3b-4ba4-95df-32bc74f97fd7",
   "metadata": {
    "tags": []
   },
   "outputs": [],
   "source": [
    "def get_all_names(symbol):\n",
    "    names = list(valid_df[valid_df.sym == symbol]['longName'].values)\n",
    "    names = list(set([string.capwords(x) for x in names if x]))\n",
    "    return names"
   ]
  },
  {
   "cell_type": "markdown",
   "id": "3e9015a4-69b5-4e0f-a86f-da768fca28f3",
   "metadata": {},
   "source": [
    "#### Checking if there are any symbols which have different names for NSE and BSE\n",
    "\n",
    "spoiler: There are not"
   ]
  },
  {
   "cell_type": "code",
   "execution_count": 167,
   "id": "f597b2a4-49a0-439d-a07d-df2996817e39",
   "metadata": {
    "tags": []
   },
   "outputs": [],
   "source": [
    "multiple_names = []"
   ]
  },
  {
   "cell_type": "code",
   "execution_count": 168,
   "id": "adcc3189-4fdb-4f22-9a02-86a11d47a3c0",
   "metadata": {
    "tags": []
   },
   "outputs": [],
   "source": [
    "for sym in valid_symbols:\n",
    "    if len(get_all_names(sym)) > 1:\n",
    "        multiple_names.append(sym)"
   ]
  },
  {
   "cell_type": "code",
   "execution_count": 169,
   "id": "f06f21a4-ddb8-4096-bf87-56849f2421b9",
   "metadata": {
    "tags": []
   },
   "outputs": [
    {
     "data": {
      "text/plain": [
       "0"
      ]
     },
     "execution_count": 169,
     "metadata": {},
     "output_type": "execute_result"
    }
   ],
   "source": [
    "len(multiple_names)"
   ]
  },
  {
   "cell_type": "markdown",
   "id": "d82dd0b0-caf9-4da8-bf57-1418f8fc6270",
   "metadata": {},
   "source": [
    "#### Filling in the right name"
   ]
  },
  {
   "cell_type": "code",
   "execution_count": 183,
   "id": "3403237b-7284-459e-9610-73230a64edf7",
   "metadata": {
    "tags": []
   },
   "outputs": [],
   "source": [
    "def get_name(symbol):\n",
    "    rows = valid_df[valid_df.sym == symbol]\n",
    "    long_names = list(rows['longName'].values)\n",
    "    long_names = list(set([string.capwords(x) for x in long_names if x]))\n",
    "    if len(long_names) >= 1:\n",
    "        return long_names[0]\n",
    "    else:\n",
    "        short_names = list(rows['shortName'].values)\n",
    "        short_names = list(set([string.capwords(x) for x in short_names if isinstance(x,str)]))\n",
    "        if len(short_names) >= 1:\n",
    "            return short_names[0]\n",
    "        else:\n",
    "            return ''"
   ]
  },
  {
   "cell_type": "code",
   "execution_count": 184,
   "id": "1d6fcc96-f22a-459d-9891-c587a6055cb7",
   "metadata": {
    "tags": []
   },
   "outputs": [
    {
     "name": "stderr",
     "output_type": "stream",
     "text": [
      "/var/folders/d4/cgyr_gnj7nn2wy_hq40gkq8c0000gq/T/ipykernel_95234/2035074012.py:1: SettingWithCopyWarning: \n",
      "A value is trying to be set on a copy of a slice from a DataFrame.\n",
      "Try using .loc[row_indexer,col_indexer] = value instead\n",
      "\n",
      "See the caveats in the documentation: https://pandas.pydata.org/pandas-docs/stable/user_guide/indexing.html#returning-a-view-versus-a-copy\n",
      "  valid_df['name'] = valid_df['sym'].apply(lambda x: get_name(x))\n"
     ]
    }
   ],
   "source": [
    "valid_df['name'] = valid_df['sym'].apply(lambda x: get_name(x))"
   ]
  },
  {
   "cell_type": "code",
   "execution_count": 185,
   "id": "2bc6fe4b-69ac-41cb-b2ef-b30416fbede9",
   "metadata": {
    "tags": []
   },
   "outputs": [
    {
     "data": {
      "text/html": [
       "<div>\n",
       "<style scoped>\n",
       "    .dataframe tbody tr th:only-of-type {\n",
       "        vertical-align: middle;\n",
       "    }\n",
       "\n",
       "    .dataframe tbody tr th {\n",
       "        vertical-align: top;\n",
       "    }\n",
       "\n",
       "    .dataframe thead th {\n",
       "        text-align: right;\n",
       "    }\n",
       "</style>\n",
       "<table border=\"1\" class=\"dataframe\">\n",
       "  <thead>\n",
       "    <tr style=\"text-align: right;\">\n",
       "      <th></th>\n",
       "      <th>symbol</th>\n",
       "      <th>shortName</th>\n",
       "      <th>longName</th>\n",
       "      <th>exchange</th>\n",
       "      <th>market</th>\n",
       "      <th>quoteType</th>\n",
       "      <th>sym</th>\n",
       "      <th>name</th>\n",
       "    </tr>\n",
       "  </thead>\n",
       "  <tbody>\n",
       "    <tr>\n",
       "      <th>5254</th>\n",
       "      <td>ARMAN.BO</td>\n",
       "      <td>NaN</td>\n",
       "      <td></td>\n",
       "      <td>BSE</td>\n",
       "      <td>in_market</td>\n",
       "      <td>EQUITY</td>\n",
       "      <td>ARMAN</td>\n",
       "      <td></td>\n",
       "    </tr>\n",
       "    <tr>\n",
       "      <th>5778</th>\n",
       "      <td>BBETF0432.NS</td>\n",
       "      <td>NaN</td>\n",
       "      <td></td>\n",
       "      <td>NSI</td>\n",
       "      <td>in_market</td>\n",
       "      <td>EQUITY</td>\n",
       "      <td>BBETF0432</td>\n",
       "      <td></td>\n",
       "    </tr>\n",
       "    <tr>\n",
       "      <th>5683</th>\n",
       "      <td>CONCRETE.BO</td>\n",
       "      <td>NaN</td>\n",
       "      <td></td>\n",
       "      <td>BSE</td>\n",
       "      <td>in_market</td>\n",
       "      <td>EQUITY</td>\n",
       "      <td>CONCRETE</td>\n",
       "      <td></td>\n",
       "    </tr>\n",
       "    <tr>\n",
       "      <th>5135</th>\n",
       "      <td>DCMSRIND.NS</td>\n",
       "      <td>NaN</td>\n",
       "      <td></td>\n",
       "      <td>NSI</td>\n",
       "      <td>in_market</td>\n",
       "      <td>EQUITY</td>\n",
       "      <td>DCMSRIND</td>\n",
       "      <td></td>\n",
       "    </tr>\n",
       "    <tr>\n",
       "      <th>5140</th>\n",
       "      <td>HARDWYN.BO</td>\n",
       "      <td>NaN</td>\n",
       "      <td></td>\n",
       "      <td>BSE</td>\n",
       "      <td>in_market</td>\n",
       "      <td>EQUITY</td>\n",
       "      <td>HARDWYN</td>\n",
       "      <td></td>\n",
       "    </tr>\n",
       "    <tr>\n",
       "      <th>4830</th>\n",
       "      <td>INRADIA.BO</td>\n",
       "      <td>NaN</td>\n",
       "      <td></td>\n",
       "      <td>BSE</td>\n",
       "      <td>in_market</td>\n",
       "      <td>EQUITY</td>\n",
       "      <td>INRADIA</td>\n",
       "      <td></td>\n",
       "    </tr>\n",
       "    <tr>\n",
       "      <th>5246</th>\n",
       "      <td>JAYTEX.BO</td>\n",
       "      <td>NaN</td>\n",
       "      <td></td>\n",
       "      <td>BSE</td>\n",
       "      <td>in_market</td>\n",
       "      <td>EQUITY</td>\n",
       "      <td>JAYTEX</td>\n",
       "      <td></td>\n",
       "    </tr>\n",
       "    <tr>\n",
       "      <th>5533</th>\n",
       "      <td>PITHP.BO</td>\n",
       "      <td>NaN</td>\n",
       "      <td></td>\n",
       "      <td>BSE</td>\n",
       "      <td>in_market</td>\n",
       "      <td>EQUITY</td>\n",
       "      <td>PITHP</td>\n",
       "      <td></td>\n",
       "    </tr>\n",
       "    <tr>\n",
       "      <th>5464</th>\n",
       "      <td>RAJATH.BO</td>\n",
       "      <td>NaN</td>\n",
       "      <td></td>\n",
       "      <td>BSE</td>\n",
       "      <td>in_market</td>\n",
       "      <td>EQUITY</td>\n",
       "      <td>RAJATH</td>\n",
       "      <td></td>\n",
       "    </tr>\n",
       "    <tr>\n",
       "      <th>5717</th>\n",
       "      <td>RAJKOTINV.BO</td>\n",
       "      <td>NaN</td>\n",
       "      <td></td>\n",
       "      <td>BSE</td>\n",
       "      <td>in_market</td>\n",
       "      <td>EQUITY</td>\n",
       "      <td>RAJKOTINV</td>\n",
       "      <td></td>\n",
       "    </tr>\n",
       "    <tr>\n",
       "      <th>5687</th>\n",
       "      <td>RITHWIKFMS.BO</td>\n",
       "      <td>NaN</td>\n",
       "      <td></td>\n",
       "      <td>BSE</td>\n",
       "      <td>in_market</td>\n",
       "      <td>EQUITY</td>\n",
       "      <td>RITHWIKFMS</td>\n",
       "      <td></td>\n",
       "    </tr>\n",
       "    <tr>\n",
       "      <th>5092</th>\n",
       "      <td>SICL.BO</td>\n",
       "      <td>NaN</td>\n",
       "      <td></td>\n",
       "      <td>BSE</td>\n",
       "      <td>in_market</td>\n",
       "      <td>EQUITY</td>\n",
       "      <td>SICL</td>\n",
       "      <td></td>\n",
       "    </tr>\n",
       "    <tr>\n",
       "      <th>4978</th>\n",
       "      <td>SJCORP.BO</td>\n",
       "      <td>NaN</td>\n",
       "      <td></td>\n",
       "      <td>BSE</td>\n",
       "      <td>in_market</td>\n",
       "      <td>EQUITY</td>\n",
       "      <td>SJCORP</td>\n",
       "      <td></td>\n",
       "    </tr>\n",
       "    <tr>\n",
       "      <th>4965</th>\n",
       "      <td>UHZAVERI.BO</td>\n",
       "      <td>NaN</td>\n",
       "      <td></td>\n",
       "      <td>BSE</td>\n",
       "      <td>in_market</td>\n",
       "      <td>EQUITY</td>\n",
       "      <td>UHZAVERI</td>\n",
       "      <td></td>\n",
       "    </tr>\n",
       "  </tbody>\n",
       "</table>\n",
       "</div>"
      ],
      "text/plain": [
       "             symbol shortName longName exchange     market quoteType  \\\n",
       "5254       ARMAN.BO       NaN               BSE  in_market    EQUITY   \n",
       "5778   BBETF0432.NS       NaN               NSI  in_market    EQUITY   \n",
       "5683    CONCRETE.BO       NaN               BSE  in_market    EQUITY   \n",
       "5135    DCMSRIND.NS       NaN               NSI  in_market    EQUITY   \n",
       "5140     HARDWYN.BO       NaN               BSE  in_market    EQUITY   \n",
       "4830     INRADIA.BO       NaN               BSE  in_market    EQUITY   \n",
       "5246      JAYTEX.BO       NaN               BSE  in_market    EQUITY   \n",
       "5533       PITHP.BO       NaN               BSE  in_market    EQUITY   \n",
       "5464      RAJATH.BO       NaN               BSE  in_market    EQUITY   \n",
       "5717   RAJKOTINV.BO       NaN               BSE  in_market    EQUITY   \n",
       "5687  RITHWIKFMS.BO       NaN               BSE  in_market    EQUITY   \n",
       "5092        SICL.BO       NaN               BSE  in_market    EQUITY   \n",
       "4978      SJCORP.BO       NaN               BSE  in_market    EQUITY   \n",
       "4965    UHZAVERI.BO       NaN               BSE  in_market    EQUITY   \n",
       "\n",
       "             sym name  \n",
       "5254       ARMAN       \n",
       "5778   BBETF0432       \n",
       "5683    CONCRETE       \n",
       "5135    DCMSRIND       \n",
       "5140     HARDWYN       \n",
       "4830     INRADIA       \n",
       "5246      JAYTEX       \n",
       "5533       PITHP       \n",
       "5464      RAJATH       \n",
       "5717   RAJKOTINV       \n",
       "5687  RITHWIKFMS       \n",
       "5092        SICL       \n",
       "4978      SJCORP       \n",
       "4965    UHZAVERI       "
      ]
     },
     "execution_count": 185,
     "metadata": {},
     "output_type": "execute_result"
    }
   ],
   "source": [
    "valid_df[valid_df.name == ''].sort_values('sym')"
   ]
  },
  {
   "cell_type": "code",
   "execution_count": 186,
   "id": "8fbfb532-ffc6-4ac1-9347-d2755902614c",
   "metadata": {
    "tags": []
   },
   "outputs": [],
   "source": [
    "valid_df = valid_df[valid_df.name != '']"
   ]
  },
  {
   "cell_type": "code",
   "execution_count": 188,
   "id": "f2b00b10-4a7d-4826-8d76-54435fc75dcf",
   "metadata": {
    "tags": []
   },
   "outputs": [
    {
     "name": "stderr",
     "output_type": "stream",
     "text": [
      "/var/folders/d4/cgyr_gnj7nn2wy_hq40gkq8c0000gq/T/ipykernel_95234/3689937314.py:1: SettingWithCopyWarning: \n",
      "A value is trying to be set on a copy of a slice from a DataFrame.\n",
      "Try using .loc[row_indexer,col_indexer] = value instead\n",
      "\n",
      "See the caveats in the documentation: https://pandas.pydata.org/pandas-docs/stable/user_guide/indexing.html#returning-a-view-versus-a-copy\n",
      "  valid_df['is_etf'] = valid_df['name'].apply(lambda x: 'Exchange Traded Fund' in x)\n"
     ]
    }
   ],
   "source": [
    "valid_df['is_etf'] = valid_df['name'].apply(lambda x: 'Exchange Traded Fund' in x)"
   ]
  },
  {
   "cell_type": "code",
   "execution_count": 191,
   "id": "54b89761-5029-4adb-9499-404bb67bfcc1",
   "metadata": {
    "tags": []
   },
   "outputs": [
    {
     "data": {
      "text/plain": [
       "24"
      ]
     },
     "execution_count": 191,
     "metadata": {},
     "output_type": "execute_result"
    }
   ],
   "source": [
    "len(valid_df[valid_df.is_etf == True])"
   ]
  },
  {
   "cell_type": "code",
   "execution_count": 194,
   "id": "69baf312-01ab-4e81-87c3-d67d419eedd4",
   "metadata": {
    "scrolled": true,
    "tags": []
   },
   "outputs": [
    {
     "data": {
      "text/html": [
       "<div>\n",
       "<style scoped>\n",
       "    .dataframe tbody tr th:only-of-type {\n",
       "        vertical-align: middle;\n",
       "    }\n",
       "\n",
       "    .dataframe tbody tr th {\n",
       "        vertical-align: top;\n",
       "    }\n",
       "\n",
       "    .dataframe thead th {\n",
       "        text-align: right;\n",
       "    }\n",
       "</style>\n",
       "<table border=\"1\" class=\"dataframe\">\n",
       "  <thead>\n",
       "    <tr style=\"text-align: right;\">\n",
       "      <th></th>\n",
       "      <th>symbol</th>\n",
       "      <th>shortName</th>\n",
       "      <th>longName</th>\n",
       "      <th>exchange</th>\n",
       "      <th>market</th>\n",
       "      <th>quoteType</th>\n",
       "      <th>sym</th>\n",
       "      <th>name</th>\n",
       "      <th>is_etf</th>\n",
       "    </tr>\n",
       "  </thead>\n",
       "  <tbody>\n",
       "    <tr>\n",
       "      <th>466</th>\n",
       "      <td>SUNTECK.NS</td>\n",
       "      <td>SUNTECK REALTY LTD</td>\n",
       "      <td>Sunteck Realty Limited</td>\n",
       "      <td>NSI</td>\n",
       "      <td>in_market</td>\n",
       "      <td>EQUITY</td>\n",
       "      <td>SUNTECK</td>\n",
       "      <td>Sunteck Realty Limited</td>\n",
       "      <td>False</td>\n",
       "    </tr>\n",
       "    <tr>\n",
       "      <th>4309</th>\n",
       "      <td>USHDI.BO</td>\n",
       "      <td>USHDEV INTERNATIONAL LTD.</td>\n",
       "      <td>Ushdev International Limited</td>\n",
       "      <td>BSE</td>\n",
       "      <td>in_market</td>\n",
       "      <td>EQUITY</td>\n",
       "      <td>USHDI</td>\n",
       "      <td>Ushdev International Limited</td>\n",
       "      <td>False</td>\n",
       "    </tr>\n",
       "    <tr>\n",
       "      <th>3673</th>\n",
       "      <td>SATRAPROP.BO</td>\n",
       "      <td>SATRA PROPERTIES (INDIA) LTD.</td>\n",
       "      <td>Satra Properties (India) Limited</td>\n",
       "      <td>BSE</td>\n",
       "      <td>in_market</td>\n",
       "      <td>EQUITY</td>\n",
       "      <td>SATRAPROP</td>\n",
       "      <td>Satra Properties (india) Limited</td>\n",
       "      <td>False</td>\n",
       "    </tr>\n",
       "    <tr>\n",
       "      <th>1599</th>\n",
       "      <td>KCP.BO</td>\n",
       "      <td>K.C.P.LTD.</td>\n",
       "      <td>The KCP Limited</td>\n",
       "      <td>BSE</td>\n",
       "      <td>in_market</td>\n",
       "      <td>EQUITY</td>\n",
       "      <td>KCP</td>\n",
       "      <td>The Kcp Limited</td>\n",
       "      <td>False</td>\n",
       "    </tr>\n",
       "    <tr>\n",
       "      <th>4057</th>\n",
       "      <td>BNL.BO</td>\n",
       "      <td>Beekay Niryat Limited</td>\n",
       "      <td>Beekay Niryat Limited</td>\n",
       "      <td>BSE</td>\n",
       "      <td>in_market</td>\n",
       "      <td>EQUITY</td>\n",
       "      <td>BNL</td>\n",
       "      <td>Beekay Niryat Limited</td>\n",
       "      <td>False</td>\n",
       "    </tr>\n",
       "    <tr>\n",
       "      <th>4414</th>\n",
       "      <td>TRANSFD.BO</td>\n",
       "      <td>TRANSGLOBE FOODS LTD.</td>\n",
       "      <td>Transglobe Foods Limited</td>\n",
       "      <td>BSE</td>\n",
       "      <td>in_market</td>\n",
       "      <td>EQUITY</td>\n",
       "      <td>TRANSFD</td>\n",
       "      <td>Transglobe Foods Limited</td>\n",
       "      <td>False</td>\n",
       "    </tr>\n",
       "    <tr>\n",
       "      <th>3820</th>\n",
       "      <td>SUMEDHA.BO</td>\n",
       "      <td>SUMEDHA FISCAL SERVICES LTD.</td>\n",
       "      <td>Sumedha Fiscal Services Limited</td>\n",
       "      <td>BSE</td>\n",
       "      <td>in_market</td>\n",
       "      <td>EQUITY</td>\n",
       "      <td>SUMEDHA</td>\n",
       "      <td>Sumedha Fiscal Services Limited</td>\n",
       "      <td>False</td>\n",
       "    </tr>\n",
       "    <tr>\n",
       "      <th>5334</th>\n",
       "      <td>SOLARA.BO</td>\n",
       "      <td>SOLARA ACTIVE PHARMA SCIENCES</td>\n",
       "      <td></td>\n",
       "      <td>BSE</td>\n",
       "      <td>in_market</td>\n",
       "      <td>EQUITY</td>\n",
       "      <td>SOLARA</td>\n",
       "      <td>Solara Active Pharma Sciences Limited</td>\n",
       "      <td>False</td>\n",
       "    </tr>\n",
       "    <tr>\n",
       "      <th>312</th>\n",
       "      <td>BAYERCROP.BO</td>\n",
       "      <td>BAYER CROPSCIENCE LTD.</td>\n",
       "      <td>Bayer CropScience Limited</td>\n",
       "      <td>BSE</td>\n",
       "      <td>in_market</td>\n",
       "      <td>EQUITY</td>\n",
       "      <td>BAYERCROP</td>\n",
       "      <td>Bayer Cropscience Limited</td>\n",
       "      <td>False</td>\n",
       "    </tr>\n",
       "    <tr>\n",
       "      <th>5144</th>\n",
       "      <td>3PLAND.BO</td>\n",
       "      <td>3P LAND HOLDINGS LTD.</td>\n",
       "      <td></td>\n",
       "      <td>BSE</td>\n",
       "      <td>in_market</td>\n",
       "      <td>EQUITY</td>\n",
       "      <td>3PLAND</td>\n",
       "      <td>3p Land Holdings L</td>\n",
       "      <td>False</td>\n",
       "    </tr>\n",
       "    <tr>\n",
       "      <th>2516</th>\n",
       "      <td>RAJTV.BO</td>\n",
       "      <td>RAJ TELEVISION NETWORK LTD.</td>\n",
       "      <td>Raj Television Network Limited</td>\n",
       "      <td>BSE</td>\n",
       "      <td>in_market</td>\n",
       "      <td>EQUITY</td>\n",
       "      <td>RAJTV</td>\n",
       "      <td>Raj Television Network Limited</td>\n",
       "      <td>False</td>\n",
       "    </tr>\n",
       "    <tr>\n",
       "      <th>2429</th>\n",
       "      <td>LPDC.NS</td>\n",
       "      <td>LANDMARK PROP DEV</td>\n",
       "      <td>Landmark Property Development Company Limited</td>\n",
       "      <td>NSI</td>\n",
       "      <td>in_market</td>\n",
       "      <td>EQUITY</td>\n",
       "      <td>LPDC</td>\n",
       "      <td>Landmark Property Development Company Limited</td>\n",
       "      <td>False</td>\n",
       "    </tr>\n",
       "    <tr>\n",
       "      <th>953</th>\n",
       "      <td>IFCI.NS</td>\n",
       "      <td>IFCI LTD</td>\n",
       "      <td>IFCI Limited</td>\n",
       "      <td>NSI</td>\n",
       "      <td>in_market</td>\n",
       "      <td>EQUITY</td>\n",
       "      <td>IFCI</td>\n",
       "      <td>Ifci Limited</td>\n",
       "      <td>False</td>\n",
       "    </tr>\n",
       "    <tr>\n",
       "      <th>1512</th>\n",
       "      <td>SAKSOFT.NS</td>\n",
       "      <td>SAKSOFT LTD</td>\n",
       "      <td>Saksoft Limited</td>\n",
       "      <td>NSI</td>\n",
       "      <td>in_market</td>\n",
       "      <td>EQUITY</td>\n",
       "      <td>SAKSOFT</td>\n",
       "      <td>Saksoft Limited</td>\n",
       "      <td>False</td>\n",
       "    </tr>\n",
       "    <tr>\n",
       "      <th>2611</th>\n",
       "      <td>INCREDIBLE.NS</td>\n",
       "      <td>INCREDIBLE INDUSTRIES LTD</td>\n",
       "      <td>Incredible Industries Limited</td>\n",
       "      <td>NSI</td>\n",
       "      <td>in_market</td>\n",
       "      <td>EQUITY</td>\n",
       "      <td>INCREDIBLE</td>\n",
       "      <td>Incredible Industries Limited</td>\n",
       "      <td>False</td>\n",
       "    </tr>\n",
       "    <tr>\n",
       "      <th>5547</th>\n",
       "      <td>ANUROOP.BO</td>\n",
       "      <td>Anuroop Packaging Limited</td>\n",
       "      <td></td>\n",
       "      <td>BSE</td>\n",
       "      <td>in_market</td>\n",
       "      <td>EQUITY</td>\n",
       "      <td>ANUROOP</td>\n",
       "      <td>Anuroop Packaging Limited</td>\n",
       "      <td>False</td>\n",
       "    </tr>\n",
       "    <tr>\n",
       "      <th>1384</th>\n",
       "      <td>ORIENTCEM.BO</td>\n",
       "      <td>ORIENT CEMENT LTD</td>\n",
       "      <td>Orient Cement Limited</td>\n",
       "      <td>BSE</td>\n",
       "      <td>in_market</td>\n",
       "      <td>EQUITY</td>\n",
       "      <td>ORIENTCEM</td>\n",
       "      <td>Orient Cement Limited</td>\n",
       "      <td>False</td>\n",
       "    </tr>\n",
       "    <tr>\n",
       "      <th>1717</th>\n",
       "      <td>SALASAR.NS</td>\n",
       "      <td>SALASAR TECHNO ENG</td>\n",
       "      <td>Salasar Techno Engineering Limited</td>\n",
       "      <td>NSI</td>\n",
       "      <td>in_market</td>\n",
       "      <td>EQUITY</td>\n",
       "      <td>SALASAR</td>\n",
       "      <td>Salasar Techno Engineering Limited</td>\n",
       "      <td>False</td>\n",
       "    </tr>\n",
       "    <tr>\n",
       "      <th>5750</th>\n",
       "      <td>DSPN50ETF.NS</td>\n",
       "      <td>NaN</td>\n",
       "      <td>DSP Blackrock Mutual Fund - DSP BlackRock Nift...</td>\n",
       "      <td>NSI</td>\n",
       "      <td>in_market</td>\n",
       "      <td>EQUITY</td>\n",
       "      <td>DSPN50ETF</td>\n",
       "      <td>Dsp Blackrock Mutual Fund - Dsp Blackrock Nift...</td>\n",
       "      <td>False</td>\n",
       "    </tr>\n",
       "    <tr>\n",
       "      <th>284</th>\n",
       "      <td>CGPOWER.NS</td>\n",
       "      <td>CG POWER AND INDUS</td>\n",
       "      <td>CG Power and Industrial Solutions Limited</td>\n",
       "      <td>NSI</td>\n",
       "      <td>in_market</td>\n",
       "      <td>EQUITY</td>\n",
       "      <td>CGPOWER</td>\n",
       "      <td>Cg Power And Industrial Solutions Limited</td>\n",
       "      <td>False</td>\n",
       "    </tr>\n",
       "    <tr>\n",
       "      <th>4273</th>\n",
       "      <td>SANJIVIN.BO</td>\n",
       "      <td>SANJIVANI PARANTERAL LTD.</td>\n",
       "      <td>Sanjivani Paranteral Limited.</td>\n",
       "      <td>BSE</td>\n",
       "      <td>in_market</td>\n",
       "      <td>EQUITY</td>\n",
       "      <td>SANJIVIN</td>\n",
       "      <td>Sanjivani Paranteral Limited.</td>\n",
       "      <td>False</td>\n",
       "    </tr>\n",
       "    <tr>\n",
       "      <th>1506</th>\n",
       "      <td>TTML.BO</td>\n",
       "      <td>TATA TELESERVICES (MAHARASHTRA</td>\n",
       "      <td>Tata Teleservices (Maharashtra) Limited</td>\n",
       "      <td>BSE</td>\n",
       "      <td>in_market</td>\n",
       "      <td>EQUITY</td>\n",
       "      <td>TTML</td>\n",
       "      <td>Tata Teleservices (maharashtra) Limited</td>\n",
       "      <td>False</td>\n",
       "    </tr>\n",
       "    <tr>\n",
       "      <th>1466</th>\n",
       "      <td>SURYAROSNI.BO</td>\n",
       "      <td>SURYA ROSHNI LTD.</td>\n",
       "      <td>Surya Roshni Limited</td>\n",
       "      <td>BSE</td>\n",
       "      <td>in_market</td>\n",
       "      <td>EQUITY</td>\n",
       "      <td>SURYAROSNI</td>\n",
       "      <td>Surya Roshni Limited</td>\n",
       "      <td>False</td>\n",
       "    </tr>\n",
       "    <tr>\n",
       "      <th>2164</th>\n",
       "      <td>IVC.NS</td>\n",
       "      <td>IL &amp; FS INVESTMENT</td>\n",
       "      <td>IL&amp;FS Investment Managers Limited</td>\n",
       "      <td>NSI</td>\n",
       "      <td>in_market</td>\n",
       "      <td>EQUITY</td>\n",
       "      <td>IVC</td>\n",
       "      <td>Il&amp;fs Investment Managers Limited</td>\n",
       "      <td>False</td>\n",
       "    </tr>\n",
       "    <tr>\n",
       "      <th>1226</th>\n",
       "      <td>JSWISPL.NS</td>\n",
       "      <td>JSW ISPAT SPE PRO LTD</td>\n",
       "      <td>JSW Ispat Special Products Limited</td>\n",
       "      <td>NSI</td>\n",
       "      <td>in_market</td>\n",
       "      <td>EQUITY</td>\n",
       "      <td>JSWISPL</td>\n",
       "      <td>Jsw Ispat Special Products Limited</td>\n",
       "      <td>False</td>\n",
       "    </tr>\n",
       "    <tr>\n",
       "      <th>1473</th>\n",
       "      <td>INFOBEAN.NS</td>\n",
       "      <td>InfoBeans Techno. Ltd.</td>\n",
       "      <td>InfoBeans Technologies Limited</td>\n",
       "      <td>NSI</td>\n",
       "      <td>in_market</td>\n",
       "      <td>EQUITY</td>\n",
       "      <td>INFOBEAN</td>\n",
       "      <td>Infobeans Technologies Limited</td>\n",
       "      <td>False</td>\n",
       "    </tr>\n",
       "    <tr>\n",
       "      <th>824</th>\n",
       "      <td>JAMNAAUTO.NS</td>\n",
       "      <td>JAMNA AUTO IND</td>\n",
       "      <td>Jamna Auto Industries Limited</td>\n",
       "      <td>NSI</td>\n",
       "      <td>in_market</td>\n",
       "      <td>EQUITY</td>\n",
       "      <td>JAMNAAUTO</td>\n",
       "      <td>Jamna Auto Industries Limited</td>\n",
       "      <td>False</td>\n",
       "    </tr>\n",
       "    <tr>\n",
       "      <th>4134</th>\n",
       "      <td>GROVY.BO</td>\n",
       "      <td>Grovy India Limited</td>\n",
       "      <td>Grovy India Limited</td>\n",
       "      <td>BSE</td>\n",
       "      <td>in_market</td>\n",
       "      <td>EQUITY</td>\n",
       "      <td>GROVY</td>\n",
       "      <td>Grovy India Limited</td>\n",
       "      <td>False</td>\n",
       "    </tr>\n",
       "    <tr>\n",
       "      <th>3322</th>\n",
       "      <td>SHREYASI.BO</td>\n",
       "      <td>SHREYAS INTERMEDIATES LTD.</td>\n",
       "      <td>Shreyas Intermediates Limited</td>\n",
       "      <td>BSE</td>\n",
       "      <td>in_market</td>\n",
       "      <td>EQUITY</td>\n",
       "      <td>SHREYASI</td>\n",
       "      <td>Shreyas Intermediates Limited</td>\n",
       "      <td>False</td>\n",
       "    </tr>\n",
       "    <tr>\n",
       "      <th>2721</th>\n",
       "      <td>ELECTHERM.BO</td>\n",
       "      <td>ELECTROTHERM (INDIA) LTD.</td>\n",
       "      <td>Electrotherm (India) Limited</td>\n",
       "      <td>BSE</td>\n",
       "      <td>in_market</td>\n",
       "      <td>EQUITY</td>\n",
       "      <td>ELECTHERM</td>\n",
       "      <td>Electrotherm (india) Limited</td>\n",
       "      <td>False</td>\n",
       "    </tr>\n",
       "    <tr>\n",
       "      <th>4428</th>\n",
       "      <td>DECOMIC.BO</td>\n",
       "      <td>DECO-MICA LTD.</td>\n",
       "      <td>Deco-Mica Limited</td>\n",
       "      <td>BSE</td>\n",
       "      <td>in_market</td>\n",
       "      <td>EQUITY</td>\n",
       "      <td>DECOMIC</td>\n",
       "      <td>Deco-mica Limited</td>\n",
       "      <td>False</td>\n",
       "    </tr>\n",
       "    <tr>\n",
       "      <th>1049</th>\n",
       "      <td>INOXWIND.NS</td>\n",
       "      <td>INOX WIND LTD</td>\n",
       "      <td>Inox Wind Limited</td>\n",
       "      <td>NSI</td>\n",
       "      <td>in_market</td>\n",
       "      <td>EQUITY</td>\n",
       "      <td>INOXWIND</td>\n",
       "      <td>Inox Wind Limited</td>\n",
       "      <td>False</td>\n",
       "    </tr>\n",
       "    <tr>\n",
       "      <th>2057</th>\n",
       "      <td>RELCAPITAL.NS</td>\n",
       "      <td>RELIANCE CAPITAL</td>\n",
       "      <td>Reliance Capital Limited</td>\n",
       "      <td>NSI</td>\n",
       "      <td>in_market</td>\n",
       "      <td>EQUITY</td>\n",
       "      <td>RELCAPITAL</td>\n",
       "      <td>Reliance Capital Limited</td>\n",
       "      <td>False</td>\n",
       "    </tr>\n",
       "    <tr>\n",
       "      <th>1986</th>\n",
       "      <td>SECURKLOUD.NS</td>\n",
       "      <td>SECUREKLOUD TECH LIMITED</td>\n",
       "      <td>SecureKloud Technologies Limited</td>\n",
       "      <td>NSI</td>\n",
       "      <td>in_market</td>\n",
       "      <td>EQUITY</td>\n",
       "      <td>SECURKLOUD</td>\n",
       "      <td>Securekloud Technologies Limited</td>\n",
       "      <td>False</td>\n",
       "    </tr>\n",
       "    <tr>\n",
       "      <th>987</th>\n",
       "      <td>WELCORP.BO</td>\n",
       "      <td>WELSPUN CORP LIMITED</td>\n",
       "      <td>Welspun Corp Limited</td>\n",
       "      <td>BSE</td>\n",
       "      <td>in_market</td>\n",
       "      <td>EQUITY</td>\n",
       "      <td>WELCORP</td>\n",
       "      <td>Welspun Corp Limited</td>\n",
       "      <td>False</td>\n",
       "    </tr>\n",
       "    <tr>\n",
       "      <th>5132</th>\n",
       "      <td>FOODSIN.NS</td>\n",
       "      <td>Foods &amp; Inns Limited</td>\n",
       "      <td></td>\n",
       "      <td>NSI</td>\n",
       "      <td>in_market</td>\n",
       "      <td>EQUITY</td>\n",
       "      <td>FOODSIN</td>\n",
       "      <td>Foods And Inns Limited</td>\n",
       "      <td>False</td>\n",
       "    </tr>\n",
       "    <tr>\n",
       "      <th>1636</th>\n",
       "      <td>PDSMFL.BO</td>\n",
       "      <td>PDS MULTINATIONAL FASHIONS LIM</td>\n",
       "      <td>PDS Multinational Fashions Limited</td>\n",
       "      <td>BSE</td>\n",
       "      <td>in_market</td>\n",
       "      <td>EQUITY</td>\n",
       "      <td>PDSMFL</td>\n",
       "      <td>Pds Multinational Fashions Limited</td>\n",
       "      <td>False</td>\n",
       "    </tr>\n",
       "    <tr>\n",
       "      <th>1126</th>\n",
       "      <td>MTNL.NS</td>\n",
       "      <td>MAHANAGAR TELEP NI</td>\n",
       "      <td>Mahanagar Telephone Nigam Limited</td>\n",
       "      <td>NSI</td>\n",
       "      <td>in_market</td>\n",
       "      <td>EQUITY</td>\n",
       "      <td>MTNL</td>\n",
       "      <td>Mahanagar Telephone Nigam Limited</td>\n",
       "      <td>False</td>\n",
       "    </tr>\n",
       "    <tr>\n",
       "      <th>4949</th>\n",
       "      <td>SETF10GILT.NS</td>\n",
       "      <td>SBI MUTUAL FUND</td>\n",
       "      <td>SBI Mutual Fund - SBI-ETF 10 Year Gilt</td>\n",
       "      <td>NSI</td>\n",
       "      <td>in_market</td>\n",
       "      <td>EQUITY</td>\n",
       "      <td>SETF10GILT</td>\n",
       "      <td>Sbi Mutual Fund - Sbi-etf 10 Year Gilt</td>\n",
       "      <td>False</td>\n",
       "    </tr>\n",
       "    <tr>\n",
       "      <th>1218</th>\n",
       "      <td>ZENTEC.NS</td>\n",
       "      <td>ZEN TECHNOLOGIES</td>\n",
       "      <td>Zen Technologies Limited</td>\n",
       "      <td>NSI</td>\n",
       "      <td>in_market</td>\n",
       "      <td>EQUITY</td>\n",
       "      <td>ZENTEC</td>\n",
       "      <td>Zen Technologies Limited</td>\n",
       "      <td>False</td>\n",
       "    </tr>\n",
       "  </tbody>\n",
       "</table>\n",
       "</div>"
      ],
      "text/plain": [
       "             symbol                       shortName  \\\n",
       "466      SUNTECK.NS              SUNTECK REALTY LTD   \n",
       "4309       USHDI.BO       USHDEV INTERNATIONAL LTD.   \n",
       "3673   SATRAPROP.BO   SATRA PROPERTIES (INDIA) LTD.   \n",
       "1599         KCP.BO                      K.C.P.LTD.   \n",
       "4057         BNL.BO           Beekay Niryat Limited   \n",
       "4414     TRANSFD.BO           TRANSGLOBE FOODS LTD.   \n",
       "3820     SUMEDHA.BO    SUMEDHA FISCAL SERVICES LTD.   \n",
       "5334      SOLARA.BO   SOLARA ACTIVE PHARMA SCIENCES   \n",
       "312    BAYERCROP.BO          BAYER CROPSCIENCE LTD.   \n",
       "5144      3PLAND.BO           3P LAND HOLDINGS LTD.   \n",
       "2516       RAJTV.BO     RAJ TELEVISION NETWORK LTD.   \n",
       "2429        LPDC.NS               LANDMARK PROP DEV   \n",
       "953         IFCI.NS                        IFCI LTD   \n",
       "1512     SAKSOFT.NS                     SAKSOFT LTD   \n",
       "2611  INCREDIBLE.NS       INCREDIBLE INDUSTRIES LTD   \n",
       "5547     ANUROOP.BO       Anuroop Packaging Limited   \n",
       "1384   ORIENTCEM.BO               ORIENT CEMENT LTD   \n",
       "1717     SALASAR.NS              SALASAR TECHNO ENG   \n",
       "5750   DSPN50ETF.NS                             NaN   \n",
       "284      CGPOWER.NS              CG POWER AND INDUS   \n",
       "4273    SANJIVIN.BO       SANJIVANI PARANTERAL LTD.   \n",
       "1506        TTML.BO  TATA TELESERVICES (MAHARASHTRA   \n",
       "1466  SURYAROSNI.BO               SURYA ROSHNI LTD.   \n",
       "2164         IVC.NS              IL & FS INVESTMENT   \n",
       "1226     JSWISPL.NS           JSW ISPAT SPE PRO LTD   \n",
       "1473    INFOBEAN.NS          InfoBeans Techno. Ltd.   \n",
       "824    JAMNAAUTO.NS                  JAMNA AUTO IND   \n",
       "4134       GROVY.BO             Grovy India Limited   \n",
       "3322    SHREYASI.BO      SHREYAS INTERMEDIATES LTD.   \n",
       "2721   ELECTHERM.BO       ELECTROTHERM (INDIA) LTD.   \n",
       "4428     DECOMIC.BO                  DECO-MICA LTD.   \n",
       "1049    INOXWIND.NS                   INOX WIND LTD   \n",
       "2057  RELCAPITAL.NS                RELIANCE CAPITAL   \n",
       "1986  SECURKLOUD.NS        SECUREKLOUD TECH LIMITED   \n",
       "987      WELCORP.BO            WELSPUN CORP LIMITED   \n",
       "5132     FOODSIN.NS            Foods & Inns Limited   \n",
       "1636      PDSMFL.BO  PDS MULTINATIONAL FASHIONS LIM   \n",
       "1126        MTNL.NS              MAHANAGAR TELEP NI   \n",
       "4949  SETF10GILT.NS                 SBI MUTUAL FUND   \n",
       "1218      ZENTEC.NS                ZEN TECHNOLOGIES   \n",
       "\n",
       "                                               longName exchange     market  \\\n",
       "466                              Sunteck Realty Limited      NSI  in_market   \n",
       "4309                       Ushdev International Limited      BSE  in_market   \n",
       "3673                   Satra Properties (India) Limited      BSE  in_market   \n",
       "1599                                    The KCP Limited      BSE  in_market   \n",
       "4057                              Beekay Niryat Limited      BSE  in_market   \n",
       "4414                           Transglobe Foods Limited      BSE  in_market   \n",
       "3820                    Sumedha Fiscal Services Limited      BSE  in_market   \n",
       "5334                                                         BSE  in_market   \n",
       "312                           Bayer CropScience Limited      BSE  in_market   \n",
       "5144                                                         BSE  in_market   \n",
       "2516                     Raj Television Network Limited      BSE  in_market   \n",
       "2429      Landmark Property Development Company Limited      NSI  in_market   \n",
       "953                                        IFCI Limited      NSI  in_market   \n",
       "1512                                    Saksoft Limited      NSI  in_market   \n",
       "2611                      Incredible Industries Limited      NSI  in_market   \n",
       "5547                                                         BSE  in_market   \n",
       "1384                              Orient Cement Limited      BSE  in_market   \n",
       "1717                 Salasar Techno Engineering Limited      NSI  in_market   \n",
       "5750  DSP Blackrock Mutual Fund - DSP BlackRock Nift...      NSI  in_market   \n",
       "284           CG Power and Industrial Solutions Limited      NSI  in_market   \n",
       "4273                      Sanjivani Paranteral Limited.      BSE  in_market   \n",
       "1506            Tata Teleservices (Maharashtra) Limited      BSE  in_market   \n",
       "1466                               Surya Roshni Limited      BSE  in_market   \n",
       "2164                  IL&FS Investment Managers Limited      NSI  in_market   \n",
       "1226                 JSW Ispat Special Products Limited      NSI  in_market   \n",
       "1473                     InfoBeans Technologies Limited      NSI  in_market   \n",
       "824                       Jamna Auto Industries Limited      NSI  in_market   \n",
       "4134                                Grovy India Limited      BSE  in_market   \n",
       "3322                      Shreyas Intermediates Limited      BSE  in_market   \n",
       "2721                       Electrotherm (India) Limited      BSE  in_market   \n",
       "4428                                  Deco-Mica Limited      BSE  in_market   \n",
       "1049                                  Inox Wind Limited      NSI  in_market   \n",
       "2057                           Reliance Capital Limited      NSI  in_market   \n",
       "1986                   SecureKloud Technologies Limited      NSI  in_market   \n",
       "987                                Welspun Corp Limited      BSE  in_market   \n",
       "5132                                                         NSI  in_market   \n",
       "1636                 PDS Multinational Fashions Limited      BSE  in_market   \n",
       "1126                  Mahanagar Telephone Nigam Limited      NSI  in_market   \n",
       "4949             SBI Mutual Fund - SBI-ETF 10 Year Gilt      NSI  in_market   \n",
       "1218                           Zen Technologies Limited      NSI  in_market   \n",
       "\n",
       "     quoteType         sym                                               name  \\\n",
       "466     EQUITY     SUNTECK                             Sunteck Realty Limited   \n",
       "4309    EQUITY       USHDI                       Ushdev International Limited   \n",
       "3673    EQUITY   SATRAPROP                   Satra Properties (india) Limited   \n",
       "1599    EQUITY         KCP                                    The Kcp Limited   \n",
       "4057    EQUITY         BNL                              Beekay Niryat Limited   \n",
       "4414    EQUITY     TRANSFD                           Transglobe Foods Limited   \n",
       "3820    EQUITY     SUMEDHA                    Sumedha Fiscal Services Limited   \n",
       "5334    EQUITY      SOLARA              Solara Active Pharma Sciences Limited   \n",
       "312     EQUITY   BAYERCROP                          Bayer Cropscience Limited   \n",
       "5144    EQUITY      3PLAND                                 3p Land Holdings L   \n",
       "2516    EQUITY       RAJTV                     Raj Television Network Limited   \n",
       "2429    EQUITY        LPDC      Landmark Property Development Company Limited   \n",
       "953     EQUITY        IFCI                                       Ifci Limited   \n",
       "1512    EQUITY     SAKSOFT                                    Saksoft Limited   \n",
       "2611    EQUITY  INCREDIBLE                      Incredible Industries Limited   \n",
       "5547    EQUITY     ANUROOP                          Anuroop Packaging Limited   \n",
       "1384    EQUITY   ORIENTCEM                              Orient Cement Limited   \n",
       "1717    EQUITY     SALASAR                 Salasar Techno Engineering Limited   \n",
       "5750    EQUITY   DSPN50ETF  Dsp Blackrock Mutual Fund - Dsp Blackrock Nift...   \n",
       "284     EQUITY     CGPOWER          Cg Power And Industrial Solutions Limited   \n",
       "4273    EQUITY    SANJIVIN                      Sanjivani Paranteral Limited.   \n",
       "1506    EQUITY        TTML            Tata Teleservices (maharashtra) Limited   \n",
       "1466    EQUITY  SURYAROSNI                               Surya Roshni Limited   \n",
       "2164    EQUITY         IVC                  Il&fs Investment Managers Limited   \n",
       "1226    EQUITY     JSWISPL                 Jsw Ispat Special Products Limited   \n",
       "1473    EQUITY    INFOBEAN                     Infobeans Technologies Limited   \n",
       "824     EQUITY   JAMNAAUTO                      Jamna Auto Industries Limited   \n",
       "4134    EQUITY       GROVY                                Grovy India Limited   \n",
       "3322    EQUITY    SHREYASI                      Shreyas Intermediates Limited   \n",
       "2721    EQUITY   ELECTHERM                       Electrotherm (india) Limited   \n",
       "4428    EQUITY     DECOMIC                                  Deco-mica Limited   \n",
       "1049    EQUITY    INOXWIND                                  Inox Wind Limited   \n",
       "2057    EQUITY  RELCAPITAL                           Reliance Capital Limited   \n",
       "1986    EQUITY  SECURKLOUD                   Securekloud Technologies Limited   \n",
       "987     EQUITY     WELCORP                               Welspun Corp Limited   \n",
       "5132    EQUITY     FOODSIN                             Foods And Inns Limited   \n",
       "1636    EQUITY      PDSMFL                 Pds Multinational Fashions Limited   \n",
       "1126    EQUITY        MTNL                  Mahanagar Telephone Nigam Limited   \n",
       "4949    EQUITY  SETF10GILT             Sbi Mutual Fund - Sbi-etf 10 Year Gilt   \n",
       "1218    EQUITY      ZENTEC                           Zen Technologies Limited   \n",
       "\n",
       "      is_etf  \n",
       "466    False  \n",
       "4309   False  \n",
       "3673   False  \n",
       "1599   False  \n",
       "4057   False  \n",
       "4414   False  \n",
       "3820   False  \n",
       "5334   False  \n",
       "312    False  \n",
       "5144   False  \n",
       "2516   False  \n",
       "2429   False  \n",
       "953    False  \n",
       "1512   False  \n",
       "2611   False  \n",
       "5547   False  \n",
       "1384   False  \n",
       "1717   False  \n",
       "5750   False  \n",
       "284    False  \n",
       "4273   False  \n",
       "1506   False  \n",
       "1466   False  \n",
       "2164   False  \n",
       "1226   False  \n",
       "1473   False  \n",
       "824    False  \n",
       "4134   False  \n",
       "3322   False  \n",
       "2721   False  \n",
       "4428   False  \n",
       "1049   False  \n",
       "2057   False  \n",
       "1986   False  \n",
       "987    False  \n",
       "5132   False  \n",
       "1636   False  \n",
       "1126   False  \n",
       "4949   False  \n",
       "1218   False  "
      ]
     },
     "execution_count": 194,
     "metadata": {},
     "output_type": "execute_result"
    }
   ],
   "source": [
    "valid_df.sample(40)"
   ]
  },
  {
   "cell_type": "code",
   "execution_count": null,
   "id": "f7e82dae-7504-4e7e-90a9-de9a546aa11c",
   "metadata": {},
   "outputs": [],
   "source": []
  },
  {
   "cell_type": "code",
   "execution_count": 200,
   "id": "d3d04906-0b41-4ec4-9ace-8e18cbeb2116",
   "metadata": {
    "tags": []
   },
   "outputs": [
    {
     "data": {
      "text/plain": [
       "5422"
      ]
     },
     "execution_count": 200,
     "metadata": {},
     "output_type": "execute_result"
    }
   ],
   "source": [
    "len(valid_df)"
   ]
  },
  {
   "cell_type": "code",
   "execution_count": 201,
   "id": "de3b8715-d67b-4dcc-8b3f-b3bf8e510c83",
   "metadata": {
    "tags": []
   },
   "outputs": [],
   "source": [
    "valid_df = pd.merge(valid_df, ticker_df[['symbol', 'industry', 'sector']], how = 'left', on = 'symbol')"
   ]
  },
  {
   "cell_type": "code",
   "execution_count": 202,
   "id": "62db11f7-dd81-436a-a60f-0430663102c1",
   "metadata": {
    "tags": []
   },
   "outputs": [
    {
     "data": {
      "text/plain": [
       "5422"
      ]
     },
     "execution_count": 202,
     "metadata": {},
     "output_type": "execute_result"
    }
   ],
   "source": [
    "len(valid_df)"
   ]
  },
  {
   "cell_type": "code",
   "execution_count": 204,
   "id": "e6adcac2-09bf-4fa6-a403-fe1a307c6d1c",
   "metadata": {
    "tags": []
   },
   "outputs": [
    {
     "data": {
      "text/plain": [
       "symbol          0\n",
       "shortName      29\n",
       "longName        0\n",
       "exchange        0\n",
       "market          0\n",
       "quoteType       0\n",
       "sym             0\n",
       "name            0\n",
       "is_etf          0\n",
       "industry     2219\n",
       "sector       2219\n",
       "dtype: int64"
      ]
     },
     "execution_count": 204,
     "metadata": {},
     "output_type": "execute_result"
    }
   ],
   "source": [
    "valid_df.isnull().sum()"
   ]
  },
  {
   "cell_type": "code",
   "execution_count": 205,
   "id": "72dc0069-a610-4f70-94df-765a300260ed",
   "metadata": {
    "tags": []
   },
   "outputs": [
    {
     "data": {
      "text/plain": [
       "sector\n",
       "Basic Materials           565\n",
       "Communication Services    133\n",
       "Consumer Cyclical         621\n",
       "Consumer Defensive        220\n",
       "Consumer Goods              2\n",
       "Energy                     62\n",
       "Financial Services        340\n",
       "Healthcare                221\n",
       "Industrials               637\n",
       "Real Estate               114\n",
       "Technology                228\n",
       "Utilities                  60\n",
       "Name: symbol, dtype: int64"
      ]
     },
     "execution_count": 205,
     "metadata": {},
     "output_type": "execute_result"
    }
   ],
   "source": [
    "valid_df.groupby('sector')['symbol'].count()"
   ]
  },
  {
   "cell_type": "code",
   "execution_count": 208,
   "id": "aa45710e-e23a-4e8d-8007-6d0e5130fba9",
   "metadata": {
    "tags": []
   },
   "outputs": [
    {
     "data": {
      "text/plain": [
       "quoteType\n",
       "EQUITY    5422\n",
       "Name: quoteType, dtype: int64"
      ]
     },
     "execution_count": 208,
     "metadata": {},
     "output_type": "execute_result"
    }
   ],
   "source": [
    "valid_df.groupby('quoteType')['quoteType'].count()"
   ]
  },
  {
   "cell_type": "code",
   "execution_count": 207,
   "id": "31412e3b-64c2-475d-9eb8-4b24b5cd3b05",
   "metadata": {
    "scrolled": true,
    "tags": []
   },
   "outputs": [
    {
     "data": {
      "text/html": [
       "<div>\n",
       "<style scoped>\n",
       "    .dataframe tbody tr th:only-of-type {\n",
       "        vertical-align: middle;\n",
       "    }\n",
       "\n",
       "    .dataframe tbody tr th {\n",
       "        vertical-align: top;\n",
       "    }\n",
       "\n",
       "    .dataframe thead th {\n",
       "        text-align: right;\n",
       "    }\n",
       "</style>\n",
       "<table border=\"1\" class=\"dataframe\">\n",
       "  <thead>\n",
       "    <tr style=\"text-align: right;\">\n",
       "      <th></th>\n",
       "      <th>symbol</th>\n",
       "      <th>shortName</th>\n",
       "      <th>longName</th>\n",
       "      <th>exchange</th>\n",
       "      <th>market</th>\n",
       "      <th>quoteType</th>\n",
       "      <th>sym</th>\n",
       "      <th>name</th>\n",
       "      <th>is_etf</th>\n",
       "      <th>industry</th>\n",
       "      <th>sector</th>\n",
       "    </tr>\n",
       "  </thead>\n",
       "  <tbody>\n",
       "    <tr>\n",
       "      <th>640</th>\n",
       "      <td>DHANI.NS</td>\n",
       "      <td>DHANI SERVICES LIMITED</td>\n",
       "      <td>Dhani Services Limited</td>\n",
       "      <td>NSI</td>\n",
       "      <td>in_market</td>\n",
       "      <td>EQUITY</td>\n",
       "      <td>DHANI</td>\n",
       "      <td>Dhani Services Limited</td>\n",
       "      <td>False</td>\n",
       "      <td>Credit Services</td>\n",
       "      <td>Financial Services</td>\n",
       "    </tr>\n",
       "    <tr>\n",
       "      <th>4372</th>\n",
       "      <td>PAEL.BO</td>\n",
       "      <td>PAE LTD.</td>\n",
       "      <td>PAE Limited</td>\n",
       "      <td>BSE</td>\n",
       "      <td>in_market</td>\n",
       "      <td>EQUITY</td>\n",
       "      <td>PAEL</td>\n",
       "      <td>Pae Limited</td>\n",
       "      <td>False</td>\n",
       "      <td>NaN</td>\n",
       "      <td>NaN</td>\n",
       "    </tr>\n",
       "    <tr>\n",
       "      <th>3866</th>\n",
       "      <td>ROSELABS.BO</td>\n",
       "      <td>ROSELABS FINANCE LTD.</td>\n",
       "      <td>Roselabs Finance Limited</td>\n",
       "      <td>BSE</td>\n",
       "      <td>in_market</td>\n",
       "      <td>EQUITY</td>\n",
       "      <td>ROSELABS</td>\n",
       "      <td>Roselabs Finance Limited</td>\n",
       "      <td>False</td>\n",
       "      <td>NaN</td>\n",
       "      <td>NaN</td>\n",
       "    </tr>\n",
       "    <tr>\n",
       "      <th>2292</th>\n",
       "      <td>ZEEMEDIA.BO</td>\n",
       "      <td>ZEE MEDIA CORPORATION LIMITED</td>\n",
       "      <td>Zee Media Corporation Limited</td>\n",
       "      <td>BSE</td>\n",
       "      <td>in_market</td>\n",
       "      <td>EQUITY</td>\n",
       "      <td>ZEEMEDIA</td>\n",
       "      <td>Zee Media Corporation Limited</td>\n",
       "      <td>False</td>\n",
       "      <td>Broadcasting</td>\n",
       "      <td>Communication Services</td>\n",
       "    </tr>\n",
       "    <tr>\n",
       "      <th>3642</th>\n",
       "      <td>SUDTIND-B.BO</td>\n",
       "      <td>SUDITI INDUSTRIES LTD.</td>\n",
       "      <td>Suditi Industries Limited</td>\n",
       "      <td>BSE</td>\n",
       "      <td>in_market</td>\n",
       "      <td>EQUITY</td>\n",
       "      <td>SUDTIND-B</td>\n",
       "      <td>Suditi Industries Limited</td>\n",
       "      <td>False</td>\n",
       "      <td>NaN</td>\n",
       "      <td>NaN</td>\n",
       "    </tr>\n",
       "    <tr>\n",
       "      <th>455</th>\n",
       "      <td>UTIAMC.NS</td>\n",
       "      <td>UTI Asset Mngmt Co Ltd</td>\n",
       "      <td>UTI Asset Management Company Limited</td>\n",
       "      <td>NSI</td>\n",
       "      <td>in_market</td>\n",
       "      <td>EQUITY</td>\n",
       "      <td>UTIAMC</td>\n",
       "      <td>Uti Asset Management Company Limited</td>\n",
       "      <td>False</td>\n",
       "      <td>Asset Management</td>\n",
       "      <td>Financial Services</td>\n",
       "    </tr>\n",
       "    <tr>\n",
       "      <th>2676</th>\n",
       "      <td>SAPL.BO</td>\n",
       "      <td>Sar  Auto Products Limited</td>\n",
       "      <td>SAR Auto Products Limited</td>\n",
       "      <td>BSE</td>\n",
       "      <td>in_market</td>\n",
       "      <td>EQUITY</td>\n",
       "      <td>SAPL</td>\n",
       "      <td>Sar Auto Products Limited</td>\n",
       "      <td>False</td>\n",
       "      <td>NaN</td>\n",
       "      <td>NaN</td>\n",
       "    </tr>\n",
       "    <tr>\n",
       "      <th>2765</th>\n",
       "      <td>CLEDUCATE.BO</td>\n",
       "      <td>CL Educate Limited</td>\n",
       "      <td>CL Educate Limited</td>\n",
       "      <td>BSE</td>\n",
       "      <td>in_market</td>\n",
       "      <td>EQUITY</td>\n",
       "      <td>CLEDUCATE</td>\n",
       "      <td>Cl Educate Limited</td>\n",
       "      <td>False</td>\n",
       "      <td>Education &amp; Training Services</td>\n",
       "      <td>Consumer Defensive</td>\n",
       "    </tr>\n",
       "    <tr>\n",
       "      <th>3336</th>\n",
       "      <td>NEXTMEDIA.BO</td>\n",
       "      <td>NEXT MEDIAWORKS LTD.</td>\n",
       "      <td>Next Mediaworks Limited</td>\n",
       "      <td>BSE</td>\n",
       "      <td>in_market</td>\n",
       "      <td>EQUITY</td>\n",
       "      <td>NEXTMEDIA</td>\n",
       "      <td>Next Mediaworks Limited</td>\n",
       "      <td>False</td>\n",
       "      <td>Broadcasting</td>\n",
       "      <td>Communication Services</td>\n",
       "    </tr>\n",
       "    <tr>\n",
       "      <th>1026</th>\n",
       "      <td>SHARDAMOTR.NS</td>\n",
       "      <td>SHARDA MOTOR INDUS</td>\n",
       "      <td>Sharda Motor Industries Limited</td>\n",
       "      <td>NSI</td>\n",
       "      <td>in_market</td>\n",
       "      <td>EQUITY</td>\n",
       "      <td>SHARDAMOTR</td>\n",
       "      <td>Sharda Motor Industries Limited</td>\n",
       "      <td>False</td>\n",
       "      <td>Auto Parts</td>\n",
       "      <td>Consumer Cyclical</td>\n",
       "    </tr>\n",
       "    <tr>\n",
       "      <th>2591</th>\n",
       "      <td>SHREERAMA.NS</td>\n",
       "      <td>SHREE RAMA MULTI</td>\n",
       "      <td>Shree Rama Multi-Tech Limited</td>\n",
       "      <td>NSI</td>\n",
       "      <td>in_market</td>\n",
       "      <td>EQUITY</td>\n",
       "      <td>SHREERAMA</td>\n",
       "      <td>Shree Rama Multi-tech Limited</td>\n",
       "      <td>False</td>\n",
       "      <td>Packaging &amp; Containers</td>\n",
       "      <td>Consumer Cyclical</td>\n",
       "    </tr>\n",
       "    <tr>\n",
       "      <th>4110</th>\n",
       "      <td>POLOHOT.BO</td>\n",
       "      <td>POLO HOTELS LTD.</td>\n",
       "      <td>Polo Hotels Limited</td>\n",
       "      <td>BSE</td>\n",
       "      <td>in_market</td>\n",
       "      <td>EQUITY</td>\n",
       "      <td>POLOHOT</td>\n",
       "      <td>Polo Hotels Limited</td>\n",
       "      <td>False</td>\n",
       "      <td>NaN</td>\n",
       "      <td>NaN</td>\n",
       "    </tr>\n",
       "    <tr>\n",
       "      <th>1152</th>\n",
       "      <td>LGBBROSLTD.NS</td>\n",
       "      <td>LG BALAKRISHNA &amp; B</td>\n",
       "      <td>L.G. Balakrishnan &amp; Bros Limited</td>\n",
       "      <td>NSI</td>\n",
       "      <td>in_market</td>\n",
       "      <td>EQUITY</td>\n",
       "      <td>LGBBROSLTD</td>\n",
       "      <td>L.g. Balakrishnan &amp; Bros Limited</td>\n",
       "      <td>False</td>\n",
       "      <td>Auto Parts</td>\n",
       "      <td>Consumer Cyclical</td>\n",
       "    </tr>\n",
       "    <tr>\n",
       "      <th>3595</th>\n",
       "      <td>NARBADA.BO</td>\n",
       "      <td>NARBADA GEMS AND JEWELLERY LTD</td>\n",
       "      <td>Narbada Gems and Jewellery Limited</td>\n",
       "      <td>BSE</td>\n",
       "      <td>in_market</td>\n",
       "      <td>EQUITY</td>\n",
       "      <td>NARBADA</td>\n",
       "      <td>Narbada Gems And Jewellery Limited</td>\n",
       "      <td>False</td>\n",
       "      <td>NaN</td>\n",
       "      <td>NaN</td>\n",
       "    </tr>\n",
       "    <tr>\n",
       "      <th>1731</th>\n",
       "      <td>SADBHAV.NS</td>\n",
       "      <td>SADBHAV ENGINEERIN</td>\n",
       "      <td>Sadbhav Engineering Limited</td>\n",
       "      <td>NSI</td>\n",
       "      <td>in_market</td>\n",
       "      <td>EQUITY</td>\n",
       "      <td>SADBHAV</td>\n",
       "      <td>Sadbhav Engineering Limited</td>\n",
       "      <td>False</td>\n",
       "      <td>Engineering &amp; Construction</td>\n",
       "      <td>Industrials</td>\n",
       "    </tr>\n",
       "    <tr>\n",
       "      <th>1452</th>\n",
       "      <td>LUMAXIND.NS</td>\n",
       "      <td>LUMAX INDUSTRIES</td>\n",
       "      <td>Lumax Industries Limited</td>\n",
       "      <td>NSI</td>\n",
       "      <td>in_market</td>\n",
       "      <td>EQUITY</td>\n",
       "      <td>LUMAXIND</td>\n",
       "      <td>Lumax Industries Limited</td>\n",
       "      <td>False</td>\n",
       "      <td>Auto Parts</td>\n",
       "      <td>Consumer Cyclical</td>\n",
       "    </tr>\n",
       "    <tr>\n",
       "      <th>577</th>\n",
       "      <td>SPARC.NS</td>\n",
       "      <td>SUN PHARMA ADV</td>\n",
       "      <td>Sun Pharma Advanced Research Company Limited</td>\n",
       "      <td>NSI</td>\n",
       "      <td>in_market</td>\n",
       "      <td>EQUITY</td>\n",
       "      <td>SPARC</td>\n",
       "      <td>Sun Pharma Advanced Research Company Limited</td>\n",
       "      <td>False</td>\n",
       "      <td>Drug Manufacturers - Specialty &amp; Generic</td>\n",
       "      <td>Healthcare</td>\n",
       "    </tr>\n",
       "    <tr>\n",
       "      <th>5420</th>\n",
       "      <td>HDFCMFGETF.NS</td>\n",
       "      <td>HDFC ASSET MANAGEM</td>\n",
       "      <td>HDFC Mutual Fund - HDFC Gold Exchange Traded Fund</td>\n",
       "      <td>NSI</td>\n",
       "      <td>in_market</td>\n",
       "      <td>EQUITY</td>\n",
       "      <td>HDFCMFGETF</td>\n",
       "      <td>Hdfc Gold Exchange Traded Fund</td>\n",
       "      <td>True</td>\n",
       "      <td>NaN</td>\n",
       "      <td>NaN</td>\n",
       "    </tr>\n",
       "    <tr>\n",
       "      <th>1444</th>\n",
       "      <td>BHAGERIA.NS</td>\n",
       "      <td>BHAGERIA INDUSTRIE</td>\n",
       "      <td>Bhageria Industries Limited</td>\n",
       "      <td>NSI</td>\n",
       "      <td>in_market</td>\n",
       "      <td>EQUITY</td>\n",
       "      <td>BHAGERIA</td>\n",
       "      <td>Bhageria Industries Limited</td>\n",
       "      <td>False</td>\n",
       "      <td>Specialty Chemicals</td>\n",
       "      <td>Basic Materials</td>\n",
       "    </tr>\n",
       "    <tr>\n",
       "      <th>246</th>\n",
       "      <td>DIXON.NS</td>\n",
       "      <td>DIXON TECHNOLOGIES</td>\n",
       "      <td>Dixon Technologies (India) Limited</td>\n",
       "      <td>NSI</td>\n",
       "      <td>in_market</td>\n",
       "      <td>EQUITY</td>\n",
       "      <td>DIXON</td>\n",
       "      <td>Dixon Technologies (india) Limited</td>\n",
       "      <td>False</td>\n",
       "      <td>Consumer Electronics</td>\n",
       "      <td>Technology</td>\n",
       "    </tr>\n",
       "    <tr>\n",
       "      <th>921</th>\n",
       "      <td>LUXIND.BO</td>\n",
       "      <td>LUX Industries Limited</td>\n",
       "      <td>Lux Industries Limited</td>\n",
       "      <td>BSE</td>\n",
       "      <td>in_market</td>\n",
       "      <td>EQUITY</td>\n",
       "      <td>LUXIND</td>\n",
       "      <td>Lux Industries Limited</td>\n",
       "      <td>False</td>\n",
       "      <td>Apparel Manufacturing</td>\n",
       "      <td>Consumer Cyclical</td>\n",
       "    </tr>\n",
       "    <tr>\n",
       "      <th>429</th>\n",
       "      <td>DCMSHRIRAM.NS</td>\n",
       "      <td>DCM SHRIRAM LTD</td>\n",
       "      <td>DCM Shriram Limited</td>\n",
       "      <td>NSI</td>\n",
       "      <td>in_market</td>\n",
       "      <td>EQUITY</td>\n",
       "      <td>DCMSHRIRAM</td>\n",
       "      <td>Dcm Shriram Limited</td>\n",
       "      <td>False</td>\n",
       "      <td>Specialty Chemicals</td>\n",
       "      <td>Basic Materials</td>\n",
       "    </tr>\n",
       "    <tr>\n",
       "      <th>4341</th>\n",
       "      <td>COLINZ.BO</td>\n",
       "      <td>COLINZ LABORATORIES LTD.</td>\n",
       "      <td>Colinz Laboratories Limited</td>\n",
       "      <td>BSE</td>\n",
       "      <td>in_market</td>\n",
       "      <td>EQUITY</td>\n",
       "      <td>COLINZ</td>\n",
       "      <td>Colinz Laboratories Limited</td>\n",
       "      <td>False</td>\n",
       "      <td>NaN</td>\n",
       "      <td>NaN</td>\n",
       "    </tr>\n",
       "    <tr>\n",
       "      <th>2808</th>\n",
       "      <td>FORTISMLR.BO</td>\n",
       "      <td>FORTIS MALAR HOSPITALS LIMITED</td>\n",
       "      <td>Fortis Malar Hospitals Limited</td>\n",
       "      <td>BSE</td>\n",
       "      <td>in_market</td>\n",
       "      <td>EQUITY</td>\n",
       "      <td>FORTISMLR</td>\n",
       "      <td>Fortis Malar Hospitals Limited</td>\n",
       "      <td>False</td>\n",
       "      <td>NaN</td>\n",
       "      <td>NaN</td>\n",
       "    </tr>\n",
       "    <tr>\n",
       "      <th>5274</th>\n",
       "      <td>PAOS.BO</td>\n",
       "      <td>PAOS INDUSTRIES LIMITED</td>\n",
       "      <td></td>\n",
       "      <td>BSE</td>\n",
       "      <td>in_market</td>\n",
       "      <td>EQUITY</td>\n",
       "      <td>PAOS</td>\n",
       "      <td>Paos Industries Limited</td>\n",
       "      <td>False</td>\n",
       "      <td>NaN</td>\n",
       "      <td>NaN</td>\n",
       "    </tr>\n",
       "    <tr>\n",
       "      <th>3900</th>\n",
       "      <td>MELSTAR.NS</td>\n",
       "      <td>MELSTAR INFORMATIO</td>\n",
       "      <td>Melstar Information Technologies Limited</td>\n",
       "      <td>NSI</td>\n",
       "      <td>in_market</td>\n",
       "      <td>EQUITY</td>\n",
       "      <td>MELSTAR</td>\n",
       "      <td>Melstar Information Technologies Limited</td>\n",
       "      <td>False</td>\n",
       "      <td>Software—Application</td>\n",
       "      <td>Technology</td>\n",
       "    </tr>\n",
       "    <tr>\n",
       "      <th>2901</th>\n",
       "      <td>SUPERSPIN.NS</td>\n",
       "      <td>SUPER SPINNING</td>\n",
       "      <td>Super Spinning Mills Limited</td>\n",
       "      <td>NSI</td>\n",
       "      <td>in_market</td>\n",
       "      <td>EQUITY</td>\n",
       "      <td>SUPERSPIN</td>\n",
       "      <td>Super Spinning Mills Limited</td>\n",
       "      <td>False</td>\n",
       "      <td>Textile Manufacturing</td>\n",
       "      <td>Consumer Cyclical</td>\n",
       "    </tr>\n",
       "    <tr>\n",
       "      <th>4089</th>\n",
       "      <td>POLYMAC.BO</td>\n",
       "      <td>POLYMAC THERMOFORMERS LTD</td>\n",
       "      <td></td>\n",
       "      <td>BSE</td>\n",
       "      <td>in_market</td>\n",
       "      <td>EQUITY</td>\n",
       "      <td>POLYMAC</td>\n",
       "      <td>Polymac Thermoformers Ltd</td>\n",
       "      <td>False</td>\n",
       "      <td>NaN</td>\n",
       "      <td>NaN</td>\n",
       "    </tr>\n",
       "    <tr>\n",
       "      <th>2992</th>\n",
       "      <td>GEE.BO</td>\n",
       "      <td>GEE LTD.</td>\n",
       "      <td>GEE Limited</td>\n",
       "      <td>BSE</td>\n",
       "      <td>in_market</td>\n",
       "      <td>EQUITY</td>\n",
       "      <td>GEE</td>\n",
       "      <td>Gee Limited</td>\n",
       "      <td>False</td>\n",
       "      <td>NaN</td>\n",
       "      <td>NaN</td>\n",
       "    </tr>\n",
       "    <tr>\n",
       "      <th>4673</th>\n",
       "      <td>PULZ-SM.NS</td>\n",
       "      <td>PULZ ELECTRONICS</td>\n",
       "      <td></td>\n",
       "      <td>NSI</td>\n",
       "      <td>in_market</td>\n",
       "      <td>EQUITY</td>\n",
       "      <td>PULZ-SM</td>\n",
       "      <td>Pulz Electronics</td>\n",
       "      <td>False</td>\n",
       "      <td>NaN</td>\n",
       "      <td>NaN</td>\n",
       "    </tr>\n",
       "    <tr>\n",
       "      <th>3185</th>\n",
       "      <td>FLUIDOM.BO</td>\n",
       "      <td>FLUIDOMAT LTD.</td>\n",
       "      <td>Fluidomat Limited</td>\n",
       "      <td>BSE</td>\n",
       "      <td>in_market</td>\n",
       "      <td>EQUITY</td>\n",
       "      <td>FLUIDOM</td>\n",
       "      <td>Fluidomat Limited</td>\n",
       "      <td>False</td>\n",
       "      <td>NaN</td>\n",
       "      <td>NaN</td>\n",
       "    </tr>\n",
       "    <tr>\n",
       "      <th>3859</th>\n",
       "      <td>AMCOIND.BO</td>\n",
       "      <td>AMCO INDIA LTD.</td>\n",
       "      <td>Amco India Limited</td>\n",
       "      <td>BSE</td>\n",
       "      <td>in_market</td>\n",
       "      <td>EQUITY</td>\n",
       "      <td>AMCOIND</td>\n",
       "      <td>Amco India Limited</td>\n",
       "      <td>False</td>\n",
       "      <td>NaN</td>\n",
       "      <td>NaN</td>\n",
       "    </tr>\n",
       "    <tr>\n",
       "      <th>3650</th>\n",
       "      <td>PROFINC.BO</td>\n",
       "      <td>PRO FIN CAPITAL SERVICES LTD.</td>\n",
       "      <td>Pro Fin Capital Services Ltd.</td>\n",
       "      <td>BSE</td>\n",
       "      <td>in_market</td>\n",
       "      <td>EQUITY</td>\n",
       "      <td>PROFINC</td>\n",
       "      <td>Pro Fin Capital Services Ltd.</td>\n",
       "      <td>False</td>\n",
       "      <td>NaN</td>\n",
       "      <td>NaN</td>\n",
       "    </tr>\n",
       "    <tr>\n",
       "      <th>839</th>\n",
       "      <td>IRB.BO</td>\n",
       "      <td>IRB INFRASTRUCTURE DEVELOPERS</td>\n",
       "      <td>IRB Infrastructure Developers Limited</td>\n",
       "      <td>BSE</td>\n",
       "      <td>in_market</td>\n",
       "      <td>EQUITY</td>\n",
       "      <td>IRB</td>\n",
       "      <td>Irb Infrastructure Developers Limited</td>\n",
       "      <td>False</td>\n",
       "      <td>Infrastructure Operations</td>\n",
       "      <td>Industrials</td>\n",
       "    </tr>\n",
       "    <tr>\n",
       "      <th>3105</th>\n",
       "      <td>SANGINITA.NS</td>\n",
       "      <td>Sanginita Chemicals Limit</td>\n",
       "      <td>Sanginita Chemicals Limited</td>\n",
       "      <td>NSI</td>\n",
       "      <td>in_market</td>\n",
       "      <td>EQUITY</td>\n",
       "      <td>SANGINITA</td>\n",
       "      <td>Sanginita Chemicals Limited</td>\n",
       "      <td>False</td>\n",
       "      <td>Chemicals</td>\n",
       "      <td>Basic Materials</td>\n",
       "    </tr>\n",
       "    <tr>\n",
       "      <th>1207</th>\n",
       "      <td>PSPPROJECT.NS</td>\n",
       "      <td>PSP PROJECTS LIMIT</td>\n",
       "      <td>PSP Projects Limited</td>\n",
       "      <td>NSI</td>\n",
       "      <td>in_market</td>\n",
       "      <td>EQUITY</td>\n",
       "      <td>PSPPROJECT</td>\n",
       "      <td>Psp Projects Limited</td>\n",
       "      <td>False</td>\n",
       "      <td>Engineering &amp; Construction</td>\n",
       "      <td>Industrials</td>\n",
       "    </tr>\n",
       "    <tr>\n",
       "      <th>1808</th>\n",
       "      <td>FINKURVE.BO</td>\n",
       "      <td>FINKURVE FINANCIAL SERVICES LT</td>\n",
       "      <td>Finkurve Financial Services Limited</td>\n",
       "      <td>BSE</td>\n",
       "      <td>in_market</td>\n",
       "      <td>EQUITY</td>\n",
       "      <td>FINKURVE</td>\n",
       "      <td>Finkurve Financial Services Limited</td>\n",
       "      <td>False</td>\n",
       "      <td>NaN</td>\n",
       "      <td>NaN</td>\n",
       "    </tr>\n",
       "    <tr>\n",
       "      <th>814</th>\n",
       "      <td>LAXMIMACH.BO</td>\n",
       "      <td>LAKSHMI MACHINE WORKS LTD.</td>\n",
       "      <td>Lakshmi Machine Works Limited</td>\n",
       "      <td>BSE</td>\n",
       "      <td>in_market</td>\n",
       "      <td>EQUITY</td>\n",
       "      <td>LAXMIMACH</td>\n",
       "      <td>Lakshmi Machine Works Limited</td>\n",
       "      <td>False</td>\n",
       "      <td>Specialty Industrial Machinery</td>\n",
       "      <td>Industrials</td>\n",
       "    </tr>\n",
       "    <tr>\n",
       "      <th>3884</th>\n",
       "      <td>STARLOG.BO</td>\n",
       "      <td>Starlog Enterprises Limited</td>\n",
       "      <td>Starlog Enterprises Limited</td>\n",
       "      <td>BSE</td>\n",
       "      <td>in_market</td>\n",
       "      <td>EQUITY</td>\n",
       "      <td>STARLOG</td>\n",
       "      <td>Starlog Enterprises Limited</td>\n",
       "      <td>False</td>\n",
       "      <td>NaN</td>\n",
       "      <td>NaN</td>\n",
       "    </tr>\n",
       "    <tr>\n",
       "      <th>1098</th>\n",
       "      <td>ANANTRAJ.NS</td>\n",
       "      <td>ANANT RAJ LTD</td>\n",
       "      <td>Anant Raj Limited</td>\n",
       "      <td>NSI</td>\n",
       "      <td>in_market</td>\n",
       "      <td>EQUITY</td>\n",
       "      <td>ANANTRAJ</td>\n",
       "      <td>Anant Raj Limited</td>\n",
       "      <td>False</td>\n",
       "      <td>Real Estate—Development</td>\n",
       "      <td>Real Estate</td>\n",
       "    </tr>\n",
       "  </tbody>\n",
       "</table>\n",
       "</div>"
      ],
      "text/plain": [
       "             symbol                       shortName  \\\n",
       "640        DHANI.NS          DHANI SERVICES LIMITED   \n",
       "4372        PAEL.BO                        PAE LTD.   \n",
       "3866    ROSELABS.BO           ROSELABS FINANCE LTD.   \n",
       "2292    ZEEMEDIA.BO   ZEE MEDIA CORPORATION LIMITED   \n",
       "3642   SUDTIND-B.BO          SUDITI INDUSTRIES LTD.   \n",
       "455       UTIAMC.NS          UTI Asset Mngmt Co Ltd   \n",
       "2676        SAPL.BO      Sar  Auto Products Limited   \n",
       "2765   CLEDUCATE.BO              CL Educate Limited   \n",
       "3336   NEXTMEDIA.BO            NEXT MEDIAWORKS LTD.   \n",
       "1026  SHARDAMOTR.NS              SHARDA MOTOR INDUS   \n",
       "2591   SHREERAMA.NS                SHREE RAMA MULTI   \n",
       "4110     POLOHOT.BO                POLO HOTELS LTD.   \n",
       "1152  LGBBROSLTD.NS              LG BALAKRISHNA & B   \n",
       "3595     NARBADA.BO  NARBADA GEMS AND JEWELLERY LTD   \n",
       "1731     SADBHAV.NS              SADBHAV ENGINEERIN   \n",
       "1452    LUMAXIND.NS                LUMAX INDUSTRIES   \n",
       "577        SPARC.NS                  SUN PHARMA ADV   \n",
       "5420  HDFCMFGETF.NS              HDFC ASSET MANAGEM   \n",
       "1444    BHAGERIA.NS              BHAGERIA INDUSTRIE   \n",
       "246        DIXON.NS              DIXON TECHNOLOGIES   \n",
       "921       LUXIND.BO          LUX Industries Limited   \n",
       "429   DCMSHRIRAM.NS                 DCM SHRIRAM LTD   \n",
       "4341      COLINZ.BO        COLINZ LABORATORIES LTD.   \n",
       "2808   FORTISMLR.BO  FORTIS MALAR HOSPITALS LIMITED   \n",
       "5274        PAOS.BO         PAOS INDUSTRIES LIMITED   \n",
       "3900     MELSTAR.NS              MELSTAR INFORMATIO   \n",
       "2901   SUPERSPIN.NS                  SUPER SPINNING   \n",
       "4089     POLYMAC.BO       POLYMAC THERMOFORMERS LTD   \n",
       "2992         GEE.BO                        GEE LTD.   \n",
       "4673     PULZ-SM.NS                PULZ ELECTRONICS   \n",
       "3185     FLUIDOM.BO                  FLUIDOMAT LTD.   \n",
       "3859     AMCOIND.BO                 AMCO INDIA LTD.   \n",
       "3650     PROFINC.BO   PRO FIN CAPITAL SERVICES LTD.   \n",
       "839          IRB.BO   IRB INFRASTRUCTURE DEVELOPERS   \n",
       "3105   SANGINITA.NS       Sanginita Chemicals Limit   \n",
       "1207  PSPPROJECT.NS              PSP PROJECTS LIMIT   \n",
       "1808    FINKURVE.BO  FINKURVE FINANCIAL SERVICES LT   \n",
       "814    LAXMIMACH.BO      LAKSHMI MACHINE WORKS LTD.   \n",
       "3884     STARLOG.BO     Starlog Enterprises Limited   \n",
       "1098    ANANTRAJ.NS                   ANANT RAJ LTD   \n",
       "\n",
       "                                               longName exchange     market  \\\n",
       "640                              Dhani Services Limited      NSI  in_market   \n",
       "4372                                        PAE Limited      BSE  in_market   \n",
       "3866                           Roselabs Finance Limited      BSE  in_market   \n",
       "2292                      Zee Media Corporation Limited      BSE  in_market   \n",
       "3642                          Suditi Industries Limited      BSE  in_market   \n",
       "455                UTI Asset Management Company Limited      NSI  in_market   \n",
       "2676                          SAR Auto Products Limited      BSE  in_market   \n",
       "2765                                 CL Educate Limited      BSE  in_market   \n",
       "3336                            Next Mediaworks Limited      BSE  in_market   \n",
       "1026                    Sharda Motor Industries Limited      NSI  in_market   \n",
       "2591                      Shree Rama Multi-Tech Limited      NSI  in_market   \n",
       "4110                                Polo Hotels Limited      BSE  in_market   \n",
       "1152                   L.G. Balakrishnan & Bros Limited      NSI  in_market   \n",
       "3595                 Narbada Gems and Jewellery Limited      BSE  in_market   \n",
       "1731                        Sadbhav Engineering Limited      NSI  in_market   \n",
       "1452                           Lumax Industries Limited      NSI  in_market   \n",
       "577        Sun Pharma Advanced Research Company Limited      NSI  in_market   \n",
       "5420  HDFC Mutual Fund - HDFC Gold Exchange Traded Fund      NSI  in_market   \n",
       "1444                        Bhageria Industries Limited      NSI  in_market   \n",
       "246                  Dixon Technologies (India) Limited      NSI  in_market   \n",
       "921                              Lux Industries Limited      BSE  in_market   \n",
       "429                                 DCM Shriram Limited      NSI  in_market   \n",
       "4341                        Colinz Laboratories Limited      BSE  in_market   \n",
       "2808                     Fortis Malar Hospitals Limited      BSE  in_market   \n",
       "5274                                                         BSE  in_market   \n",
       "3900           Melstar Information Technologies Limited      NSI  in_market   \n",
       "2901                       Super Spinning Mills Limited      NSI  in_market   \n",
       "4089                                                         BSE  in_market   \n",
       "2992                                        GEE Limited      BSE  in_market   \n",
       "4673                                                         NSI  in_market   \n",
       "3185                                  Fluidomat Limited      BSE  in_market   \n",
       "3859                                 Amco India Limited      BSE  in_market   \n",
       "3650                      Pro Fin Capital Services Ltd.      BSE  in_market   \n",
       "839               IRB Infrastructure Developers Limited      BSE  in_market   \n",
       "3105                        Sanginita Chemicals Limited      NSI  in_market   \n",
       "1207                               PSP Projects Limited      NSI  in_market   \n",
       "1808                Finkurve Financial Services Limited      BSE  in_market   \n",
       "814                       Lakshmi Machine Works Limited      BSE  in_market   \n",
       "3884                        Starlog Enterprises Limited      BSE  in_market   \n",
       "1098                                  Anant Raj Limited      NSI  in_market   \n",
       "\n",
       "     quoteType         sym                                          name  \\\n",
       "640     EQUITY       DHANI                        Dhani Services Limited   \n",
       "4372    EQUITY        PAEL                                   Pae Limited   \n",
       "3866    EQUITY    ROSELABS                      Roselabs Finance Limited   \n",
       "2292    EQUITY    ZEEMEDIA                 Zee Media Corporation Limited   \n",
       "3642    EQUITY   SUDTIND-B                     Suditi Industries Limited   \n",
       "455     EQUITY      UTIAMC          Uti Asset Management Company Limited   \n",
       "2676    EQUITY        SAPL                     Sar Auto Products Limited   \n",
       "2765    EQUITY   CLEDUCATE                            Cl Educate Limited   \n",
       "3336    EQUITY   NEXTMEDIA                       Next Mediaworks Limited   \n",
       "1026    EQUITY  SHARDAMOTR               Sharda Motor Industries Limited   \n",
       "2591    EQUITY   SHREERAMA                 Shree Rama Multi-tech Limited   \n",
       "4110    EQUITY     POLOHOT                           Polo Hotels Limited   \n",
       "1152    EQUITY  LGBBROSLTD              L.g. Balakrishnan & Bros Limited   \n",
       "3595    EQUITY     NARBADA            Narbada Gems And Jewellery Limited   \n",
       "1731    EQUITY     SADBHAV                   Sadbhav Engineering Limited   \n",
       "1452    EQUITY    LUMAXIND                      Lumax Industries Limited   \n",
       "577     EQUITY       SPARC  Sun Pharma Advanced Research Company Limited   \n",
       "5420    EQUITY  HDFCMFGETF                Hdfc Gold Exchange Traded Fund   \n",
       "1444    EQUITY    BHAGERIA                   Bhageria Industries Limited   \n",
       "246     EQUITY       DIXON            Dixon Technologies (india) Limited   \n",
       "921     EQUITY      LUXIND                        Lux Industries Limited   \n",
       "429     EQUITY  DCMSHRIRAM                           Dcm Shriram Limited   \n",
       "4341    EQUITY      COLINZ                   Colinz Laboratories Limited   \n",
       "2808    EQUITY   FORTISMLR                Fortis Malar Hospitals Limited   \n",
       "5274    EQUITY        PAOS                       Paos Industries Limited   \n",
       "3900    EQUITY     MELSTAR      Melstar Information Technologies Limited   \n",
       "2901    EQUITY   SUPERSPIN                  Super Spinning Mills Limited   \n",
       "4089    EQUITY     POLYMAC                     Polymac Thermoformers Ltd   \n",
       "2992    EQUITY         GEE                                   Gee Limited   \n",
       "4673    EQUITY     PULZ-SM                              Pulz Electronics   \n",
       "3185    EQUITY     FLUIDOM                             Fluidomat Limited   \n",
       "3859    EQUITY     AMCOIND                            Amco India Limited   \n",
       "3650    EQUITY     PROFINC                 Pro Fin Capital Services Ltd.   \n",
       "839     EQUITY         IRB         Irb Infrastructure Developers Limited   \n",
       "3105    EQUITY   SANGINITA                   Sanginita Chemicals Limited   \n",
       "1207    EQUITY  PSPPROJECT                          Psp Projects Limited   \n",
       "1808    EQUITY    FINKURVE           Finkurve Financial Services Limited   \n",
       "814     EQUITY   LAXMIMACH                 Lakshmi Machine Works Limited   \n",
       "3884    EQUITY     STARLOG                   Starlog Enterprises Limited   \n",
       "1098    EQUITY    ANANTRAJ                             Anant Raj Limited   \n",
       "\n",
       "      is_etf                                  industry                  sector  \n",
       "640    False                           Credit Services      Financial Services  \n",
       "4372   False                                       NaN                     NaN  \n",
       "3866   False                                       NaN                     NaN  \n",
       "2292   False                              Broadcasting  Communication Services  \n",
       "3642   False                                       NaN                     NaN  \n",
       "455    False                          Asset Management      Financial Services  \n",
       "2676   False                                       NaN                     NaN  \n",
       "2765   False             Education & Training Services      Consumer Defensive  \n",
       "3336   False                              Broadcasting  Communication Services  \n",
       "1026   False                                Auto Parts       Consumer Cyclical  \n",
       "2591   False                    Packaging & Containers       Consumer Cyclical  \n",
       "4110   False                                       NaN                     NaN  \n",
       "1152   False                                Auto Parts       Consumer Cyclical  \n",
       "3595   False                                       NaN                     NaN  \n",
       "1731   False                Engineering & Construction             Industrials  \n",
       "1452   False                                Auto Parts       Consumer Cyclical  \n",
       "577    False  Drug Manufacturers - Specialty & Generic              Healthcare  \n",
       "5420    True                                       NaN                     NaN  \n",
       "1444   False                       Specialty Chemicals         Basic Materials  \n",
       "246    False                      Consumer Electronics              Technology  \n",
       "921    False                     Apparel Manufacturing       Consumer Cyclical  \n",
       "429    False                       Specialty Chemicals         Basic Materials  \n",
       "4341   False                                       NaN                     NaN  \n",
       "2808   False                                       NaN                     NaN  \n",
       "5274   False                                       NaN                     NaN  \n",
       "3900   False                      Software—Application              Technology  \n",
       "2901   False                     Textile Manufacturing       Consumer Cyclical  \n",
       "4089   False                                       NaN                     NaN  \n",
       "2992   False                                       NaN                     NaN  \n",
       "4673   False                                       NaN                     NaN  \n",
       "3185   False                                       NaN                     NaN  \n",
       "3859   False                                       NaN                     NaN  \n",
       "3650   False                                       NaN                     NaN  \n",
       "839    False                 Infrastructure Operations             Industrials  \n",
       "3105   False                                 Chemicals         Basic Materials  \n",
       "1207   False                Engineering & Construction             Industrials  \n",
       "1808   False                                       NaN                     NaN  \n",
       "814    False            Specialty Industrial Machinery             Industrials  \n",
       "3884   False                                       NaN                     NaN  \n",
       "1098   False                   Real Estate—Development             Real Estate  "
      ]
     },
     "execution_count": 207,
     "metadata": {},
     "output_type": "execute_result"
    }
   ],
   "source": [
    "valid_df.sample(40)"
   ]
  },
  {
   "cell_type": "code",
   "execution_count": 209,
   "id": "4aa6f1af-38f1-4a3b-9e35-eb89c7aa8381",
   "metadata": {
    "tags": []
   },
   "outputs": [],
   "source": [
    "formatted_df = valid_df[['symbol', 'exchange', 'name', 'industry', 'sector']]"
   ]
  },
  {
   "cell_type": "code",
   "execution_count": 210,
   "id": "29981633-c1b9-4340-918e-8238db3f7192",
   "metadata": {
    "scrolled": true,
    "tags": []
   },
   "outputs": [
    {
     "data": {
      "text/html": [
       "<div>\n",
       "<style scoped>\n",
       "    .dataframe tbody tr th:only-of-type {\n",
       "        vertical-align: middle;\n",
       "    }\n",
       "\n",
       "    .dataframe tbody tr th {\n",
       "        vertical-align: top;\n",
       "    }\n",
       "\n",
       "    .dataframe thead th {\n",
       "        text-align: right;\n",
       "    }\n",
       "</style>\n",
       "<table border=\"1\" class=\"dataframe\">\n",
       "  <thead>\n",
       "    <tr style=\"text-align: right;\">\n",
       "      <th></th>\n",
       "      <th>symbol</th>\n",
       "      <th>exchange</th>\n",
       "      <th>name</th>\n",
       "      <th>industry</th>\n",
       "      <th>sector</th>\n",
       "    </tr>\n",
       "  </thead>\n",
       "  <tbody>\n",
       "    <tr>\n",
       "      <th>0</th>\n",
       "      <td>RELIANCE.NS</td>\n",
       "      <td>NSI</td>\n",
       "      <td>Reliance Industries Limited</td>\n",
       "      <td>Oil &amp; Gas Refining &amp; Marketing</td>\n",
       "      <td>Energy</td>\n",
       "    </tr>\n",
       "    <tr>\n",
       "      <th>1</th>\n",
       "      <td>RELIANCE.BO</td>\n",
       "      <td>BSE</td>\n",
       "      <td>Reliance Industries Limited</td>\n",
       "      <td>Oil &amp; Gas Refining &amp; Marketing</td>\n",
       "      <td>Energy</td>\n",
       "    </tr>\n",
       "    <tr>\n",
       "      <th>2</th>\n",
       "      <td>TCS.NS</td>\n",
       "      <td>NSI</td>\n",
       "      <td>Tata Consultancy Services Limited</td>\n",
       "      <td>Information Technology Services</td>\n",
       "      <td>Technology</td>\n",
       "    </tr>\n",
       "    <tr>\n",
       "      <th>3</th>\n",
       "      <td>TCS.BO</td>\n",
       "      <td>BSE</td>\n",
       "      <td>Tata Consultancy Services Limited</td>\n",
       "      <td>Information Technology Services</td>\n",
       "      <td>Technology</td>\n",
       "    </tr>\n",
       "    <tr>\n",
       "      <th>4</th>\n",
       "      <td>HDFCBANK.NS</td>\n",
       "      <td>NSI</td>\n",
       "      <td>Hdfc Bank Limited</td>\n",
       "      <td>Banks - Regional</td>\n",
       "      <td>Financial Services</td>\n",
       "    </tr>\n",
       "    <tr>\n",
       "      <th>...</th>\n",
       "      <td>...</td>\n",
       "      <td>...</td>\n",
       "      <td>...</td>\n",
       "      <td>...</td>\n",
       "      <td>...</td>\n",
       "    </tr>\n",
       "    <tr>\n",
       "      <th>5417</th>\n",
       "      <td>NIESSPM.BO</td>\n",
       "      <td>BSE</td>\n",
       "      <td>Nippon India Mutual Fund</td>\n",
       "      <td>NaN</td>\n",
       "      <td>NaN</td>\n",
       "    </tr>\n",
       "    <tr>\n",
       "      <th>5418</th>\n",
       "      <td>QGOLDHALF.NS</td>\n",
       "      <td>NSI</td>\n",
       "      <td>Quantum Mutual Fund - Quantum Gold Fund</td>\n",
       "      <td>NaN</td>\n",
       "      <td>NaN</td>\n",
       "    </tr>\n",
       "    <tr>\n",
       "      <th>5419</th>\n",
       "      <td>KOTAKGOLD.NS</td>\n",
       "      <td>NSI</td>\n",
       "      <td>Kotak Gold Exchange Traded Scheme</td>\n",
       "      <td>NaN</td>\n",
       "      <td>NaN</td>\n",
       "    </tr>\n",
       "    <tr>\n",
       "      <th>5420</th>\n",
       "      <td>HDFCMFGETF.NS</td>\n",
       "      <td>NSI</td>\n",
       "      <td>Hdfc Gold Exchange Traded Fund</td>\n",
       "      <td>NaN</td>\n",
       "      <td>NaN</td>\n",
       "    </tr>\n",
       "    <tr>\n",
       "      <th>5421</th>\n",
       "      <td>UTIBANKETF.NS</td>\n",
       "      <td>NSI</td>\n",
       "      <td>Uti Mutual Fund - Uti Bank Exchange Traded Fund</td>\n",
       "      <td>NaN</td>\n",
       "      <td>NaN</td>\n",
       "    </tr>\n",
       "  </tbody>\n",
       "</table>\n",
       "<p>5422 rows × 5 columns</p>\n",
       "</div>"
      ],
      "text/plain": [
       "             symbol exchange                                             name  \\\n",
       "0       RELIANCE.NS      NSI                      Reliance Industries Limited   \n",
       "1       RELIANCE.BO      BSE                      Reliance Industries Limited   \n",
       "2            TCS.NS      NSI                Tata Consultancy Services Limited   \n",
       "3            TCS.BO      BSE                Tata Consultancy Services Limited   \n",
       "4       HDFCBANK.NS      NSI                                Hdfc Bank Limited   \n",
       "...             ...      ...                                              ...   \n",
       "5417     NIESSPM.BO      BSE                         Nippon India Mutual Fund   \n",
       "5418   QGOLDHALF.NS      NSI          Quantum Mutual Fund - Quantum Gold Fund   \n",
       "5419   KOTAKGOLD.NS      NSI                Kotak Gold Exchange Traded Scheme   \n",
       "5420  HDFCMFGETF.NS      NSI                   Hdfc Gold Exchange Traded Fund   \n",
       "5421  UTIBANKETF.NS      NSI  Uti Mutual Fund - Uti Bank Exchange Traded Fund   \n",
       "\n",
       "                             industry              sector  \n",
       "0      Oil & Gas Refining & Marketing              Energy  \n",
       "1      Oil & Gas Refining & Marketing              Energy  \n",
       "2     Information Technology Services          Technology  \n",
       "3     Information Technology Services          Technology  \n",
       "4                    Banks - Regional  Financial Services  \n",
       "...                               ...                 ...  \n",
       "5417                              NaN                 NaN  \n",
       "5418                              NaN                 NaN  \n",
       "5419                              NaN                 NaN  \n",
       "5420                              NaN                 NaN  \n",
       "5421                              NaN                 NaN  \n",
       "\n",
       "[5422 rows x 5 columns]"
      ]
     },
     "execution_count": 210,
     "metadata": {},
     "output_type": "execute_result"
    }
   ],
   "source": [
    "formatted_df"
   ]
  },
  {
   "cell_type": "markdown",
   "id": "3b0f34f9-6e04-4181-9bd9-6c33c3cf1c1f",
   "metadata": {},
   "source": [
    "### Save to postgres"
   ]
  },
  {
   "cell_type": "code",
   "execution_count": 211,
   "id": "017e2e74-37ce-4456-818b-0b086192b1b1",
   "metadata": {
    "scrolled": true,
    "tags": []
   },
   "outputs": [
    {
     "data": {
      "text/plain": [
       "\u001b[0;31mSignature:\u001b[0m\n",
       "\u001b[0mformatted_df\u001b[0m\u001b[0;34m.\u001b[0m\u001b[0mitertuples\u001b[0m\u001b[0;34m(\u001b[0m\u001b[0;34m\u001b[0m\n",
       "\u001b[0;34m\u001b[0m    \u001b[0mindex\u001b[0m\u001b[0;34m:\u001b[0m \u001b[0;34m'bool'\u001b[0m \u001b[0;34m=\u001b[0m \u001b[0;32mTrue\u001b[0m\u001b[0;34m,\u001b[0m\u001b[0;34m\u001b[0m\n",
       "\u001b[0;34m\u001b[0m    \u001b[0mname\u001b[0m\u001b[0;34m:\u001b[0m \u001b[0;34m'str | None'\u001b[0m \u001b[0;34m=\u001b[0m \u001b[0;34m'Pandas'\u001b[0m\u001b[0;34m,\u001b[0m\u001b[0;34m\u001b[0m\n",
       "\u001b[0;34m\u001b[0m\u001b[0;34m)\u001b[0m \u001b[0;34m->\u001b[0m \u001b[0;34m'Iterable[tuple[Any, ...]]'\u001b[0m\u001b[0;34m\u001b[0m\u001b[0;34m\u001b[0m\u001b[0m\n",
       "\u001b[0;31mDocstring:\u001b[0m\n",
       "Iterate over DataFrame rows as namedtuples.\n",
       "\n",
       "Parameters\n",
       "----------\n",
       "index : bool, default True\n",
       "    If True, return the index as the first element of the tuple.\n",
       "name : str or None, default \"Pandas\"\n",
       "    The name of the returned namedtuples or None to return regular\n",
       "    tuples.\n",
       "\n",
       "Returns\n",
       "-------\n",
       "iterator\n",
       "    An object to iterate over namedtuples for each row in the\n",
       "    DataFrame with the first field possibly being the index and\n",
       "    following fields being the column values.\n",
       "\n",
       "See Also\n",
       "--------\n",
       "DataFrame.iterrows : Iterate over DataFrame rows as (index, Series)\n",
       "    pairs.\n",
       "DataFrame.items : Iterate over (column name, Series) pairs.\n",
       "\n",
       "Notes\n",
       "-----\n",
       "The column names will be renamed to positional names if they are\n",
       "invalid Python identifiers, repeated, or start with an underscore.\n",
       "\n",
       "Examples\n",
       "--------\n",
       ">>> df = pd.DataFrame({'num_legs': [4, 2], 'num_wings': [0, 2]},\n",
       "...                   index=['dog', 'hawk'])\n",
       ">>> df\n",
       "      num_legs  num_wings\n",
       "dog          4          0\n",
       "hawk         2          2\n",
       ">>> for row in df.itertuples():\n",
       "...     print(row)\n",
       "...\n",
       "Pandas(Index='dog', num_legs=4, num_wings=0)\n",
       "Pandas(Index='hawk', num_legs=2, num_wings=2)\n",
       "\n",
       "By setting the `index` parameter to False we can remove the index\n",
       "as the first element of the tuple:\n",
       "\n",
       ">>> for row in df.itertuples(index=False):\n",
       "...     print(row)\n",
       "...\n",
       "Pandas(num_legs=4, num_wings=0)\n",
       "Pandas(num_legs=2, num_wings=2)\n",
       "\n",
       "With the `name` parameter set we set a custom name for the yielded\n",
       "namedtuples:\n",
       "\n",
       ">>> for row in df.itertuples(name='Animal'):\n",
       "...     print(row)\n",
       "...\n",
       "Animal(Index='dog', num_legs=4, num_wings=0)\n",
       "Animal(Index='hawk', num_legs=2, num_wings=2)\n",
       "\u001b[0;31mFile:\u001b[0m      ~/anaconda3/envs/bertopicenv/lib/python3.9/site-packages/pandas/core/frame.py\n",
       "\u001b[0;31mType:\u001b[0m      method"
      ]
     },
     "metadata": {},
     "output_type": "display_data"
    }
   ],
   "source": [
    "formatted_df.itertuples?"
   ]
  },
  {
   "cell_type": "code",
   "execution_count": 215,
   "id": "c5d7a415-9380-4f66-8fb1-a756cff2a939",
   "metadata": {
    "tags": []
   },
   "outputs": [],
   "source": [
    "from sql.PostgresDatabaseOperation import PostgresDatabaseOperation"
   ]
  },
  {
   "cell_type": "code",
   "execution_count": 212,
   "id": "5005129a-7e78-4f51-a291-da86fe1c1de3",
   "metadata": {
    "tags": []
   },
   "outputs": [],
   "source": [
    "def insert_ticker_info(df):\n",
    "    with PostgresDatabaseOperation() as cursor:\n",
    "        insert_sql = f\"\"\"INSERT INTO stock_ticker_info (symbol, exchange, name, industry, sector)\n",
    "                        VALUES (%s, %s, %s, %s, %s)\n",
    "                        \"\"\"\n",
    "        for row in df.itertuples():\n",
    "            cursor.execute(insert_sql, (row.symbol, row.exchange, row.name, row.industry, row.sector))"
   ]
  },
  {
   "cell_type": "code",
   "execution_count": 216,
   "id": "55a9fa4a-db45-41d9-8440-2ab96e46fc20",
   "metadata": {
    "tags": []
   },
   "outputs": [],
   "source": [
    "insert_ticker_info(formatted_df)"
   ]
  },
  {
   "cell_type": "code",
   "execution_count": null,
   "id": "15c322c4-db95-4e1f-a596-195b1c9938cd",
   "metadata": {},
   "outputs": [],
   "source": []
  }
 ],
 "metadata": {
  "kernelspec": {
   "display_name": "bertopicenv",
   "language": "python",
   "name": "bertopicenv"
  },
  "language_info": {
   "codemirror_mode": {
    "name": "ipython",
    "version": 3
   },
   "file_extension": ".py",
   "mimetype": "text/x-python",
   "name": "python",
   "nbconvert_exporter": "python",
   "pygments_lexer": "ipython3",
   "version": "3.9.18"
  }
 },
 "nbformat": 4,
 "nbformat_minor": 5
}
