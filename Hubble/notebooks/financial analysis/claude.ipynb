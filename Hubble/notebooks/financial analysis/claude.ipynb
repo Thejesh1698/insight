{
 "cells": [
  {
   "cell_type": "code",
   "execution_count": 3,
   "id": "fcd961d5-1ff9-43c8-9351-54ffb87d7685",
   "metadata": {
    "scrolled": true,
    "tags": []
   },
   "outputs": [
    {
     "name": "stdout",
     "output_type": "stream",
     "text": [
      "Collecting anthropic\n",
      "  Downloading anthropic-0.21.3-py3-none-any.whl.metadata (17 kB)\n",
      "Requirement already satisfied: anyio<5,>=3.5.0 in /Users/ravi.tej/anaconda3/envs/bertopicenv/lib/python3.9/site-packages (from anthropic) (3.5.0)\n",
      "Requirement already satisfied: distro<2,>=1.7.0 in /Users/ravi.tej/anaconda3/envs/bertopicenv/lib/python3.9/site-packages (from anthropic) (1.8.0)\n",
      "Requirement already satisfied: httpx<1,>=0.23.0 in /Users/ravi.tej/anaconda3/envs/bertopicenv/lib/python3.9/site-packages (from anthropic) (0.26.0)\n",
      "Requirement already satisfied: pydantic<3,>=1.9.0 in /Users/ravi.tej/anaconda3/envs/bertopicenv/lib/python3.9/site-packages (from anthropic) (1.10.12)\n",
      "Requirement already satisfied: sniffio in /Users/ravi.tej/anaconda3/envs/bertopicenv/lib/python3.9/site-packages (from anthropic) (1.2.0)\n",
      "Requirement already satisfied: tokenizers>=0.13.0 in /Users/ravi.tej/anaconda3/envs/bertopicenv/lib/python3.9/site-packages (from anthropic) (0.15.0)\n",
      "Requirement already satisfied: typing-extensions<5,>=4.7 in /Users/ravi.tej/anaconda3/envs/bertopicenv/lib/python3.9/site-packages (from anthropic) (4.9.0)\n",
      "Requirement already satisfied: idna>=2.8 in /Users/ravi.tej/anaconda3/envs/bertopicenv/lib/python3.9/site-packages (from anyio<5,>=3.5.0->anthropic) (3.4)\n",
      "Requirement already satisfied: certifi in /Users/ravi.tej/anaconda3/envs/bertopicenv/lib/python3.9/site-packages (from httpx<1,>=0.23.0->anthropic) (2024.2.2)\n",
      "Requirement already satisfied: httpcore==1.* in /Users/ravi.tej/anaconda3/envs/bertopicenv/lib/python3.9/site-packages (from httpx<1,>=0.23.0->anthropic) (1.0.2)\n",
      "Requirement already satisfied: h11<0.15,>=0.13 in /Users/ravi.tej/anaconda3/envs/bertopicenv/lib/python3.9/site-packages (from httpcore==1.*->httpx<1,>=0.23.0->anthropic) (0.14.0)\n",
      "Requirement already satisfied: huggingface_hub<1.0,>=0.16.4 in /Users/ravi.tej/anaconda3/envs/bertopicenv/lib/python3.9/site-packages (from tokenizers>=0.13.0->anthropic) (0.19.3)\n",
      "Requirement already satisfied: filelock in /Users/ravi.tej/anaconda3/envs/bertopicenv/lib/python3.9/site-packages (from huggingface_hub<1.0,>=0.16.4->tokenizers>=0.13.0->anthropic) (3.13.1)\n",
      "Requirement already satisfied: fsspec>=2023.5.0 in /Users/ravi.tej/anaconda3/envs/bertopicenv/lib/python3.9/site-packages (from huggingface_hub<1.0,>=0.16.4->tokenizers>=0.13.0->anthropic) (2024.2.0)\n",
      "Requirement already satisfied: requests in /Users/ravi.tej/anaconda3/envs/bertopicenv/lib/python3.9/site-packages (from huggingface_hub<1.0,>=0.16.4->tokenizers>=0.13.0->anthropic) (2.31.0)\n",
      "Requirement already satisfied: tqdm>=4.42.1 in /Users/ravi.tej/anaconda3/envs/bertopicenv/lib/python3.9/site-packages (from huggingface_hub<1.0,>=0.16.4->tokenizers>=0.13.0->anthropic) (4.65.0)\n",
      "Requirement already satisfied: pyyaml>=5.1 in /Users/ravi.tej/anaconda3/envs/bertopicenv/lib/python3.9/site-packages (from huggingface_hub<1.0,>=0.16.4->tokenizers>=0.13.0->anthropic) (6.0.1)\n",
      "Requirement already satisfied: packaging>=20.9 in /Users/ravi.tej/anaconda3/envs/bertopicenv/lib/python3.9/site-packages (from huggingface_hub<1.0,>=0.16.4->tokenizers>=0.13.0->anthropic) (23.1)\n",
      "Requirement already satisfied: charset-normalizer<4,>=2 in /Users/ravi.tej/anaconda3/envs/bertopicenv/lib/python3.9/site-packages (from requests->huggingface_hub<1.0,>=0.16.4->tokenizers>=0.13.0->anthropic) (2.0.4)\n",
      "Requirement already satisfied: urllib3<3,>=1.21.1 in /Users/ravi.tej/anaconda3/envs/bertopicenv/lib/python3.9/site-packages (from requests->huggingface_hub<1.0,>=0.16.4->tokenizers>=0.13.0->anthropic) (1.26.18)\n",
      "Downloading anthropic-0.21.3-py3-none-any.whl (851 kB)\n",
      "\u001b[2K   \u001b[90m━━━━━━━━━━━━━━━━━━━━━━━━━━━━━━━━━━━━━━━━\u001b[0m \u001b[32m851.6/851.6 kB\u001b[0m \u001b[31m4.3 MB/s\u001b[0m eta \u001b[36m0:00:00\u001b[0ma \u001b[36m0:00:01\u001b[0m\n",
      "\u001b[?25hInstalling collected packages: anthropic\n",
      "Successfully installed anthropic-0.21.3\n",
      "\n",
      "\u001b[1m[\u001b[0m\u001b[34;49mnotice\u001b[0m\u001b[1;39;49m]\u001b[0m\u001b[39;49m A new release of pip is available: \u001b[0m\u001b[31;49m23.2.1\u001b[0m\u001b[39;49m -> \u001b[0m\u001b[32;49m24.0\u001b[0m\n",
      "\u001b[1m[\u001b[0m\u001b[34;49mnotice\u001b[0m\u001b[1;39;49m]\u001b[0m\u001b[39;49m To update, run: \u001b[0m\u001b[32;49mpip install --upgrade pip\u001b[0m\n"
     ]
    }
   ],
   "source": [
    "!pip install anthropic"
   ]
  },
  {
   "cell_type": "code",
   "execution_count": 1,
   "id": "e07ff964-d844-479b-863e-e0c3b6adef0a",
   "metadata": {
    "tags": []
   },
   "outputs": [],
   "source": [
    "parent_folder = '/Users/ravi.tej/Desktop/ML/Recommendations/hubble/'\n",
    "from hydra import compose, initialize\n",
    "import os\n",
    "\n",
    "import xml.etree.ElementTree as ET\n",
    "\n",
    "tree = ET.parse('../../conf/application.run.xml')\n",
    "root = tree.getroot()\n",
    "\n",
    "envs_element = root.find('./configuration/envs')\n",
    "for variable in envs_element.findall('env'):\n",
    "    name = variable.get('name')\n",
    "    value = variable.get('value')\n",
    "    os.environ[name] = value\n",
    "\n",
    "import sys\n",
    "sys.path.append('/Users/ravi.tej/Desktop/ML/Recommendations/hubble/')\n",
    "import os\n",
    "os.environ['PATH'] = '/Users/ravi.tej/anaconda3/envs/bertopicenv/bin:/Users/ravi.tej/anaconda3/condabin:/usr/bin:/bin:/usr/sbin:/sbin'"
   ]
  },
  {
   "cell_type": "code",
   "execution_count": 2,
   "id": "a8adc2a0-5af7-4810-9838-7221f8f06164",
   "metadata": {},
   "outputs": [],
   "source": [
    "import anthropic"
   ]
  },
  {
   "cell_type": "code",
   "execution_count": 3,
   "id": "4dbaa3bd-93ae-42c5-ab98-35645f869641",
   "metadata": {
    "tags": []
   },
   "outputs": [],
   "source": [
    "client = anthropic.Anthropic(\n",
    "    # defaults to os.environ.get(\"ANTHROPIC_API_KEY\")\n",
    "    api_key=os.environ.get('ANTHROPIC_KEY'),\n",
    ")"
   ]
  },
  {
   "cell_type": "code",
   "execution_count": 47,
   "id": "3ef28226-f2fd-4b14-a346-725016f4d515",
   "metadata": {
    "tags": []
   },
   "outputs": [],
   "source": [
    "portfolio_system_prompt = '''You are an expert personal financial manager. You answer user queries related to their portfolio succinctly using data of the portfolio that you have extracted. If the extracted data has any additional relevant insights, share top insights from there as well.  Remember that you have extracted the data yourself. If the data does not answer the query then apologize and share what you were able to find instead. Be short, direct and avoid repetition. Use a maximum of 1 decimal place everywhere'''"
   ]
  },
  {
   "cell_type": "code",
   "execution_count": 58,
   "id": "7681391e-f41c-4b06-a24b-c32e5b6333a9",
   "metadata": {
    "tags": []
   },
   "outputs": [],
   "source": [
    "u_query = 'what is the XIRR of my portfolio'"
   ]
  },
  {
   "cell_type": "code",
   "execution_count": 43,
   "id": "f664d88b-9ee0-426b-be4f-0bad86ba2a97",
   "metadata": {
    "tags": []
   },
   "outputs": [],
   "source": [
    "k = [{'text_box': {'data': [{'Total Profit': 90228.63013599999}],\n",
    "   'value_type': 'rupees',\n",
    "   'chart_title': 'Total Profit'}},\n",
    " {'bar_chart': {'value_type': 'rupees',\n",
    "   'chart_title': 'Top Holdings by Total Profit',\n",
    "   'data': [{'BSE Ltd': 24440.699999999997},\n",
    "    {'Multi Commodity Exchange of India Ltd': 18851.199999999997},\n",
    "    {'Tata Motors Ltd': 10460.25},\n",
    "    {'Tata Power Company Ltd': 6023.7},\n",
    "    {'Oil and Natural Gas Corporation Ltd': 5898.75},\n",
    "    {'Central Depository Services (India) Ltd': 5788.4},\n",
    "    {'Colgate-Palmolive (India) Ltd': 4411.400000000001},\n",
    "    {'Titan Company Ltd': 4379.700000000001},\n",
    "    {'Indian Railway Catering and Tourism Corporation Ltd': 3577.2000000000007},\n",
    "    {'others': 6397.330136000002}]}}]"
   ]
  },
  {
   "cell_type": "code",
   "execution_count": 13,
   "id": "a3286ceb-fa43-4b4c-a80e-8dedf48ea636",
   "metadata": {
    "tags": []
   },
   "outputs": [],
   "source": [
    "import json"
   ]
  },
  {
   "cell_type": "code",
   "execution_count": 24,
   "id": "617e2222-527a-4c56-b149-06a6908f2f24",
   "metadata": {
    "tags": []
   },
   "outputs": [
    {
     "ename": "TypeError",
     "evalue": "'dict_values' object is not subscriptable",
     "output_type": "error",
     "traceback": [
      "\u001b[0;31m---------------------------------------------------------------------------\u001b[0m",
      "\u001b[0;31mTypeError\u001b[0m                                 Traceback (most recent call last)",
      "Cell \u001b[0;32mIn[24], line 1\u001b[0m\n\u001b[0;32m----> 1\u001b[0m \u001b[43mk\u001b[49m\u001b[43m[\u001b[49m\u001b[38;5;241;43m0\u001b[39;49m\u001b[43m]\u001b[49m\u001b[38;5;241;43m.\u001b[39;49m\u001b[43mvalues\u001b[49m\u001b[43m(\u001b[49m\u001b[43m)\u001b[49m\u001b[43m[\u001b[49m\u001b[38;5;241;43m0\u001b[39;49m\u001b[43m]\u001b[49m\n",
      "\u001b[0;31mTypeError\u001b[0m: 'dict_values' object is not subscriptable"
     ]
    }
   ],
   "source": [
    "k[0].values()[0]"
   ]
  },
  {
   "cell_type": "code",
   "execution_count": 31,
   "id": "0d4fc3ec-e91d-40a1-b0c0-cdc404d2f5f4",
   "metadata": {
    "tags": []
   },
   "outputs": [],
   "source": [
    "# d = json.dumps([list(x.values())[0]['data'] for x in k])\n",
    "d = json.dumps(k)"
   ]
  },
  {
   "cell_type": "code",
   "execution_count": 15,
   "id": "5422c92b-a699-4558-b1c4-c6db7c86447e",
   "metadata": {
    "tags": []
   },
   "outputs": [
    {
     "ename": "AttributeError",
     "evalue": "'list' object has no attribute 'items'",
     "output_type": "error",
     "traceback": [
      "\u001b[0;31m---------------------------------------------------------------------------\u001b[0m",
      "\u001b[0;31mAttributeError\u001b[0m                            Traceback (most recent call last)",
      "Cell \u001b[0;32mIn[15], line 1\u001b[0m\n\u001b[0;32m----> 1\u001b[0m json\u001b[38;5;241m.\u001b[39mdumps([x[\u001b[38;5;124m'\u001b[39m\u001b[38;5;124mdata\u001b[39m\u001b[38;5;124m'\u001b[39m] \u001b[38;5;28;01mfor\u001b[39;00m key, x \u001b[38;5;129;01min\u001b[39;00m \u001b[43mk\u001b[49m\u001b[38;5;241;43m.\u001b[39;49m\u001b[43mitems\u001b[49m()])\n",
      "\u001b[0;31mAttributeError\u001b[0m: 'list' object has no attribute 'items'"
     ]
    }
   ],
   "source": [
    "json.dumps([x['data'] for key, x in k.items()])"
   ]
  },
  {
   "cell_type": "code",
   "execution_count": 59,
   "id": "eefebbc1-f519-46e9-85bc-2eca96b36620",
   "metadata": {
    "tags": []
   },
   "outputs": [
    {
     "name": "stdout",
     "output_type": "stream",
     "text": [
      "[ContentBlock(text='Based on the data provided, the XIRR (Extended Internal Rate of Return) of your portfolio is not directly available. The data shows the total profit of your portfolio as ₹90,228.63, but does not include information about the investment timeline or cash flows required to calculate the XIRR.\\n\\nWithout the additional data needed to calculate the XIRR, I am unable to provide a precise figure for the XIRR of your portfolio. However, the data does provide insights into the top holdings in your portfolio by total profit, which can be useful information for understanding the performance of your investments', type='text')]\n"
     ]
    }
   ],
   "source": [
    "message = client.messages.create(\n",
    "    model=\"claude-3-haiku-20240307\",\n",
    "    max_tokens=128,\n",
    "    messages=[\n",
    "        {\"role\": \"user\", \"content\": f'{portfolio_system_prompt}. user_query: {u_query}. data: {d}'}\n",
    "    ]\n",
    ")\n",
    "print(message.content)"
   ]
  },
  {
   "cell_type": "code",
   "execution_count": 83,
   "id": "ca9eba0d-d236-49ac-9459-244b5d1b979d",
   "metadata": {
    "tags": []
   },
   "outputs": [
    {
     "data": {
      "text/plain": [
       "'Based on the data provided, the XIRR (Extended Internal Rate of Return) of your portfolio is not directly available. The data shows the total profit of your portfolio as ₹90,228.63, but does not include information about the investment timeline or cash flows required to calculate the XIRR.\\n\\nWithout the additional data needed to calculate the XIRR, I am unable to provide a precise figure for the XIRR of your portfolio. However, the data does provide insights into the top holdings in your portfolio by total profit, which can be useful information for understanding the performance of your investments'"
      ]
     },
     "execution_count": 83,
     "metadata": {},
     "output_type": "execute_result"
    }
   ],
   "source": [
    "message.content[0].text"
   ]
  },
  {
   "cell_type": "code",
   "execution_count": 60,
   "id": "2e815fa5-0201-44f0-badd-67b04d56fd5e",
   "metadata": {
    "tags": []
   },
   "outputs": [],
   "source": [
    "import json"
   ]
  },
  {
   "cell_type": "code",
   "execution_count": 61,
   "id": "3f00e695-1a4b-4490-93b5-58d1fdf2e1f2",
   "metadata": {
    "tags": []
   },
   "outputs": [
    {
     "ename": "JSONDecodeError",
     "evalue": "Expecting value: line 1 column 1 (char 0)",
     "output_type": "error",
     "traceback": [
      "\u001b[0;31m---------------------------------------------------------------------------\u001b[0m",
      "\u001b[0;31mJSONDecodeError\u001b[0m                           Traceback (most recent call last)",
      "Cell \u001b[0;32mIn[61], line 1\u001b[0m\n\u001b[0;32m----> 1\u001b[0m \u001b[43mjson\u001b[49m\u001b[38;5;241;43m.\u001b[39;49m\u001b[43mloads\u001b[49m\u001b[43m(\u001b[49m\u001b[38;5;124;43m'\u001b[39;49m\u001b[38;5;124;43m'\u001b[39;49m\u001b[43m)\u001b[49m\n",
      "File \u001b[0;32m~/anaconda3/envs/bertopicenv/lib/python3.9/json/__init__.py:346\u001b[0m, in \u001b[0;36mloads\u001b[0;34m(s, cls, object_hook, parse_float, parse_int, parse_constant, object_pairs_hook, **kw)\u001b[0m\n\u001b[1;32m    341\u001b[0m     s \u001b[38;5;241m=\u001b[39m s\u001b[38;5;241m.\u001b[39mdecode(detect_encoding(s), \u001b[38;5;124m'\u001b[39m\u001b[38;5;124msurrogatepass\u001b[39m\u001b[38;5;124m'\u001b[39m)\n\u001b[1;32m    343\u001b[0m \u001b[38;5;28;01mif\u001b[39;00m (\u001b[38;5;28mcls\u001b[39m \u001b[38;5;129;01mis\u001b[39;00m \u001b[38;5;28;01mNone\u001b[39;00m \u001b[38;5;129;01mand\u001b[39;00m object_hook \u001b[38;5;129;01mis\u001b[39;00m \u001b[38;5;28;01mNone\u001b[39;00m \u001b[38;5;129;01mand\u001b[39;00m\n\u001b[1;32m    344\u001b[0m         parse_int \u001b[38;5;129;01mis\u001b[39;00m \u001b[38;5;28;01mNone\u001b[39;00m \u001b[38;5;129;01mand\u001b[39;00m parse_float \u001b[38;5;129;01mis\u001b[39;00m \u001b[38;5;28;01mNone\u001b[39;00m \u001b[38;5;129;01mand\u001b[39;00m\n\u001b[1;32m    345\u001b[0m         parse_constant \u001b[38;5;129;01mis\u001b[39;00m \u001b[38;5;28;01mNone\u001b[39;00m \u001b[38;5;129;01mand\u001b[39;00m object_pairs_hook \u001b[38;5;129;01mis\u001b[39;00m \u001b[38;5;28;01mNone\u001b[39;00m \u001b[38;5;129;01mand\u001b[39;00m \u001b[38;5;129;01mnot\u001b[39;00m kw):\n\u001b[0;32m--> 346\u001b[0m     \u001b[38;5;28;01mreturn\u001b[39;00m \u001b[43m_default_decoder\u001b[49m\u001b[38;5;241;43m.\u001b[39;49m\u001b[43mdecode\u001b[49m\u001b[43m(\u001b[49m\u001b[43ms\u001b[49m\u001b[43m)\u001b[49m\n\u001b[1;32m    347\u001b[0m \u001b[38;5;28;01mif\u001b[39;00m \u001b[38;5;28mcls\u001b[39m \u001b[38;5;129;01mis\u001b[39;00m \u001b[38;5;28;01mNone\u001b[39;00m:\n\u001b[1;32m    348\u001b[0m     \u001b[38;5;28mcls\u001b[39m \u001b[38;5;241m=\u001b[39m JSONDecoder\n",
      "File \u001b[0;32m~/anaconda3/envs/bertopicenv/lib/python3.9/json/decoder.py:337\u001b[0m, in \u001b[0;36mJSONDecoder.decode\u001b[0;34m(self, s, _w)\u001b[0m\n\u001b[1;32m    332\u001b[0m \u001b[38;5;28;01mdef\u001b[39;00m \u001b[38;5;21mdecode\u001b[39m(\u001b[38;5;28mself\u001b[39m, s, _w\u001b[38;5;241m=\u001b[39mWHITESPACE\u001b[38;5;241m.\u001b[39mmatch):\n\u001b[1;32m    333\u001b[0m \u001b[38;5;250m    \u001b[39m\u001b[38;5;124;03m\"\"\"Return the Python representation of ``s`` (a ``str`` instance\u001b[39;00m\n\u001b[1;32m    334\u001b[0m \u001b[38;5;124;03m    containing a JSON document).\u001b[39;00m\n\u001b[1;32m    335\u001b[0m \n\u001b[1;32m    336\u001b[0m \u001b[38;5;124;03m    \"\"\"\u001b[39;00m\n\u001b[0;32m--> 337\u001b[0m     obj, end \u001b[38;5;241m=\u001b[39m \u001b[38;5;28;43mself\u001b[39;49m\u001b[38;5;241;43m.\u001b[39;49m\u001b[43mraw_decode\u001b[49m\u001b[43m(\u001b[49m\u001b[43ms\u001b[49m\u001b[43m,\u001b[49m\u001b[43m \u001b[49m\u001b[43midx\u001b[49m\u001b[38;5;241;43m=\u001b[39;49m\u001b[43m_w\u001b[49m\u001b[43m(\u001b[49m\u001b[43ms\u001b[49m\u001b[43m,\u001b[49m\u001b[43m \u001b[49m\u001b[38;5;241;43m0\u001b[39;49m\u001b[43m)\u001b[49m\u001b[38;5;241;43m.\u001b[39;49m\u001b[43mend\u001b[49m\u001b[43m(\u001b[49m\u001b[43m)\u001b[49m\u001b[43m)\u001b[49m\n\u001b[1;32m    338\u001b[0m     end \u001b[38;5;241m=\u001b[39m _w(s, end)\u001b[38;5;241m.\u001b[39mend()\n\u001b[1;32m    339\u001b[0m     \u001b[38;5;28;01mif\u001b[39;00m end \u001b[38;5;241m!=\u001b[39m \u001b[38;5;28mlen\u001b[39m(s):\n",
      "File \u001b[0;32m~/anaconda3/envs/bertopicenv/lib/python3.9/json/decoder.py:355\u001b[0m, in \u001b[0;36mJSONDecoder.raw_decode\u001b[0;34m(self, s, idx)\u001b[0m\n\u001b[1;32m    353\u001b[0m     obj, end \u001b[38;5;241m=\u001b[39m \u001b[38;5;28mself\u001b[39m\u001b[38;5;241m.\u001b[39mscan_once(s, idx)\n\u001b[1;32m    354\u001b[0m \u001b[38;5;28;01mexcept\u001b[39;00m \u001b[38;5;167;01mStopIteration\u001b[39;00m \u001b[38;5;28;01mas\u001b[39;00m err:\n\u001b[0;32m--> 355\u001b[0m     \u001b[38;5;28;01mraise\u001b[39;00m JSONDecodeError(\u001b[38;5;124m\"\u001b[39m\u001b[38;5;124mExpecting value\u001b[39m\u001b[38;5;124m\"\u001b[39m, s, err\u001b[38;5;241m.\u001b[39mvalue) \u001b[38;5;28;01mfrom\u001b[39;00m \u001b[38;5;28;01mNone\u001b[39;00m\n\u001b[1;32m    356\u001b[0m \u001b[38;5;28;01mreturn\u001b[39;00m obj, end\n",
      "\u001b[0;31mJSONDecodeError\u001b[0m: Expecting value: line 1 column 1 (char 0)"
     ]
    }
   ],
   "source": [
    "json.loads('')"
   ]
  },
  {
   "cell_type": "code",
   "execution_count": 55,
   "id": "a7e82b85-0b7d-4dd9-9032-725cec809a60",
   "metadata": {
    "tags": []
   },
   "outputs": [
    {
     "data": {
      "text/plain": [
       "Message(id='msg_01DGq3YnrWdCoNjHsMiDzHFs', content=[ContentBlock(text='Based on the extracted data, here are the shares that have beaten the index (assuming a benchmark index return is implied):\\n\\n1. BSE Ltd\\n2. Multi Commodity Exchange of India Ltd\\n3. Tata Motors Ltd\\n4. Tata Power Company Ltd\\n5. Oil and Natural Gas Corporation Ltd\\n6. Central Depository Services (India) Ltd\\n7. Colgate-Palmolive (India) Ltd\\n8. Titan Company Ltd\\n9. Indian Railway Catering and Tourism Corporation Ltd\\n\\nThe top insight is that the portfolio has generated a total profit of Rs.', type='text')], model='claude-3-sonnet-20240229', role='assistant', stop_reason='max_tokens', stop_sequence=None, type='message', usage=Usage(input_tokens=359, output_tokens=128))"
      ]
     },
     "execution_count": 55,
     "metadata": {},
     "output_type": "execute_result"
    }
   ],
   "source": [
    "message"
   ]
  },
  {
   "cell_type": "code",
   "execution_count": 6,
   "id": "a462c98a-5b73-43b8-8c5f-2e9c4814d6d4",
   "metadata": {
    "tags": []
   },
   "outputs": [],
   "source": [
    "def cal_price(inp, out):\n",
    "    in_price = 0.25 * inp/1000000\n",
    "    out_price = 1.25 * out/1000000\n",
    "    return in_price + out_price"
   ]
  },
  {
   "cell_type": "code",
   "execution_count": 57,
   "id": "0894aa0d-b7d2-45a2-a0e5-d8fb22b11dcb",
   "metadata": {
    "tags": []
   },
   "outputs": [
    {
     "data": {
      "text/plain": [
       "0.26973"
      ]
     },
     "execution_count": 57,
     "metadata": {},
     "output_type": "execute_result"
    }
   ],
   "source": [
    "cal_price(359, 128) * 90 * 12"
   ]
  },
  {
   "cell_type": "code",
   "execution_count": 9,
   "id": "e0cae226-4ddf-4c45-85a9-66a3950117cb",
   "metadata": {
    "tags": []
   },
   "outputs": [
    {
     "data": {
      "text/plain": [
       "400"
      ]
     },
     "execution_count": 9,
     "metadata": {},
     "output_type": "execute_result"
    }
   ],
   "source": [
    "5 * 80"
   ]
  },
  {
   "cell_type": "code",
   "execution_count": 62,
   "id": "66daf235-f6e4-4f29-90d1-f1a2f9ac9188",
   "metadata": {
    "tags": []
   },
   "outputs": [],
   "source": [
    "import requests"
   ]
  },
  {
   "cell_type": "code",
   "execution_count": 70,
   "id": "27713427-d7b7-41e9-9a38-44e50363fcb7",
   "metadata": {
    "tags": []
   },
   "outputs": [],
   "source": [
    "q = 'what is my most profitable stock'"
   ]
  },
  {
   "cell_type": "code",
   "execution_count": 66,
   "id": "03f46406-7c7e-4245-9910-1e46919e3963",
   "metadata": {
    "tags": []
   },
   "outputs": [],
   "source": [
    "r = requests.post('http://127.0.0.1:8000/search_query_portfolio', json = {'query_text': 'what is my most profitable stock', 'userId': 1})"
   ]
  },
  {
   "cell_type": "code",
   "execution_count": 68,
   "id": "36ea7a01-43c5-479d-a5c7-b96734b61af7",
   "metadata": {
    "tags": []
   },
   "outputs": [],
   "source": [
    "import json"
   ]
  },
  {
   "cell_type": "code",
   "execution_count": 73,
   "id": "68edd56e-8cd9-48cf-aa69-da510720dc19",
   "metadata": {
    "tags": []
   },
   "outputs": [],
   "source": [
    "s = json.dumps(json.loads(r.text)['graphData'])"
   ]
  },
  {
   "cell_type": "code",
   "execution_count": 74,
   "id": "6e084599-a9ee-4f74-a25b-3b6bc082cfcb",
   "metadata": {
    "tags": []
   },
   "outputs": [
    {
     "data": {
      "text/plain": [
       "'[{\"bar_chart\": {\"chart_title\": \"Top Holdings by Total Profit\", \"data\": [{\"BSE Ltd\": 23761.199999999997}, {\"Multi Commodity Exchange of India Ltd\": 19424.199999999997}, {\"Tata Motors Ltd\": 10758.25}, {\"Central Depository Services (India) Ltd\": 6000.9}, {\"Tata Power Company Ltd\": 5971.499999999999}, {\"Oil and Natural Gas Corporation Ltd\": 5914.35}, {\"Titan Company Ltd\": 4696.299999999999}, {\"Colgate-Palmolive (India) Ltd\": 4527.000000000001}, {\"Indian Railway Catering and Tourism Corporation Ltd\": 3486.4500000000007}, {\"others\": 7209.4201360000025}], \"value_type\": \"rupees\"}}]'"
      ]
     },
     "execution_count": 74,
     "metadata": {},
     "output_type": "execute_result"
    }
   ],
   "source": [
    "s"
   ]
  },
  {
   "cell_type": "code",
   "execution_count": 78,
   "id": "25028b45-704b-4bc4-b952-bf2038d35f6b",
   "metadata": {
    "tags": []
   },
   "outputs": [],
   "source": [
    "r1 = requests.get('http://127.0.0.1:8000/summarize_search_v2', params = {'query_text': q, 'userId': 1, 'portfolio_data': s})"
   ]
  },
  {
   "cell_type": "code",
   "execution_count": 79,
   "id": "beef91be-6aa2-424f-ac58-df25ce613ef4",
   "metadata": {
    "tags": []
   },
   "outputs": [
    {
     "data": {
      "text/plain": [
       "'Based on the extracted portfolio data, the most profitable stock is BSE Ltd, with a total profit of ₹23,761.2.'"
      ]
     },
     "execution_count": 79,
     "metadata": {},
     "output_type": "execute_result"
    }
   ],
   "source": [
    "r1.text"
   ]
  },
  {
   "cell_type": "code",
   "execution_count": null,
   "id": "8f932cc4-e5f2-4f2e-b675-c2fa76d09aff",
   "metadata": {},
   "outputs": [],
   "source": []
  }
 ],
 "metadata": {
  "kernelspec": {
   "display_name": "bertopicenv",
   "language": "python",
   "name": "bertopicenv"
  },
  "language_info": {
   "codemirror_mode": {
    "name": "ipython",
    "version": 3
   },
   "file_extension": ".py",
   "mimetype": "text/x-python",
   "name": "python",
   "nbconvert_exporter": "python",
   "pygments_lexer": "ipython3",
   "version": "3.9.18"
  }
 },
 "nbformat": 4,
 "nbformat_minor": 5
}
