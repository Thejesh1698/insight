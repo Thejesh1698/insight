{
 "cells": [
  {
   "cell_type": "code",
   "execution_count": 2,
   "id": "37911f90-e4f6-4184-b2a1-4964375f777d",
   "metadata": {
    "tags": []
   },
   "outputs": [],
   "source": [
    "parent_folder = '/Users/ravi.tej/Desktop/ML/Recommendations/hubble/'\n",
    "from hydra import compose, initialize\n",
    "import os\n",
    "\n",
    "import xml.etree.ElementTree as ET\n",
    "\n",
    "tree = ET.parse('../../conf/application.run.xml')\n",
    "root = tree.getroot()\n",
    "\n",
    "envs_element = root.find('./configuration/envs')\n",
    "for variable in envs_element.findall('env'):\n",
    "    name = variable.get('name')\n",
    "    value = variable.get('value')\n",
    "    os.environ[name] = value\n",
    "\n",
    "import sys\n",
    "sys.path.append('/Users/ravi.tej/Desktop/ML/Recommendations/hubble/')\n",
    "import os\n",
    "os.environ['PATH'] = '/Users/ravi.tej/anaconda3/envs/bertopicenv/bin:/Users/ravi.tej/anaconda3/condabin:/usr/bin:/bin:/usr/sbin:/sbin'"
   ]
  },
  {
   "cell_type": "code",
   "execution_count": 2,
   "id": "8b32ea47-96b5-4823-aed8-d2701a6e8fae",
   "metadata": {
    "scrolled": true,
    "tags": []
   },
   "outputs": [
    {
     "name": "stdout",
     "output_type": "stream",
     "text": [
      "Collecting PyMuPDF\n",
      "  Downloading PyMuPDF-1.24.0-cp39-none-macosx_11_0_arm64.whl.metadata (3.4 kB)\n",
      "Collecting PyMuPDFb==1.24.0 (from PyMuPDF)\n",
      "  Downloading PyMuPDFb-1.24.0-py3-none-macosx_11_0_arm64.whl.metadata (1.4 kB)\n",
      "Downloading PyMuPDF-1.24.0-cp39-none-macosx_11_0_arm64.whl (3.3 MB)\n",
      "\u001b[2K   \u001b[90m━━━━━━━━━━━━━━━━━━━━━━━━━━━━━━━━━━━━━━━━\u001b[0m \u001b[32m3.3/3.3 MB\u001b[0m \u001b[31m1.5 MB/s\u001b[0m eta \u001b[36m0:00:00\u001b[0m00:01\u001b[0m00:01\u001b[0m\n",
      "\u001b[?25hDownloading PyMuPDFb-1.24.0-py3-none-macosx_11_0_arm64.whl (29.5 MB)\n",
      "\u001b[2K   \u001b[90m━━━━━━━━━━━━━━━━━━━━━━━━━━━━━━━━━━━━━━━━\u001b[0m \u001b[32m29.5/29.5 MB\u001b[0m \u001b[31m2.2 MB/s\u001b[0m eta \u001b[36m0:00:00\u001b[0m00:01\u001b[0m00:01\u001b[0m\n",
      "\u001b[?25hInstalling collected packages: PyMuPDFb, PyMuPDF\n",
      "Successfully installed PyMuPDF-1.24.0 PyMuPDFb-1.24.0\n",
      "\n",
      "\u001b[1m[\u001b[0m\u001b[34;49mnotice\u001b[0m\u001b[1;39;49m]\u001b[0m\u001b[39;49m A new release of pip is available: \u001b[0m\u001b[31;49m23.2.1\u001b[0m\u001b[39;49m -> \u001b[0m\u001b[32;49m24.0\u001b[0m\n",
      "\u001b[1m[\u001b[0m\u001b[34;49mnotice\u001b[0m\u001b[1;39;49m]\u001b[0m\u001b[39;49m To update, run: \u001b[0m\u001b[32;49mpip install --upgrade pip\u001b[0m\n"
     ]
    }
   ],
   "source": [
    "!pip install PyMuPDF"
   ]
  },
  {
   "cell_type": "code",
   "execution_count": 3,
   "id": "a230630d-363a-4a7d-9c08-1da59b565126",
   "metadata": {
    "tags": []
   },
   "outputs": [],
   "source": [
    "import fitz # imports the pymupdf library\n",
    "doc = fitz.open(\"Zomato Annual Report 2022-23.pdf\") # open a document"
   ]
  },
  {
   "cell_type": "code",
   "execution_count": 4,
   "id": "5a4fbca7-2e28-4707-8a93-bd444130d7a5",
   "metadata": {
    "tags": []
   },
   "outputs": [],
   "source": [
    "txt = []"
   ]
  },
  {
   "cell_type": "code",
   "execution_count": 5,
   "id": "7decad59-981a-40bc-bb1a-ad6efc8f0848",
   "metadata": {
    "tags": []
   },
   "outputs": [
    {
     "data": {
      "text/plain": [
       "Document('Zomato Annual Report 2022-23.pdf')"
      ]
     },
     "execution_count": 5,
     "metadata": {},
     "output_type": "execute_result"
    }
   ],
   "source": [
    "doc"
   ]
  },
  {
   "cell_type": "code",
   "execution_count": 6,
   "id": "9d8d7984-8e5e-46f2-b0c2-d4753c2a2c10",
   "metadata": {
    "tags": []
   },
   "outputs": [],
   "source": [
    "for page in doc: # iterate the document pages\n",
    "    txt.append(page.get_text()) # get plain text encoded as UTF-8"
   ]
  },
  {
   "cell_type": "code",
   "execution_count": 7,
   "id": "0a06e641-4ccf-4da3-ac97-9caa3e7c88f1",
   "metadata": {
    "tags": []
   },
   "outputs": [
    {
     "data": {
      "text/plain": [
       "369"
      ]
     },
     "execution_count": 7,
     "metadata": {},
     "output_type": "execute_result"
    }
   ],
   "source": [
    "len(txt)"
   ]
  },
  {
   "cell_type": "code",
   "execution_count": 8,
   "id": "5f7e25ef-7e41-4784-9baa-5a3ec1a59e24",
   "metadata": {
    "tags": []
   },
   "outputs": [],
   "source": [
    "full_text = ' '.join(txt)"
   ]
  },
  {
   "cell_type": "code",
   "execution_count": 9,
   "id": "5214c425-5d83-43a7-b7e9-e0cc5ae3beef",
   "metadata": {
    "tags": []
   },
   "outputs": [
    {
     "data": {
      "text/plain": [
       "134838"
      ]
     },
     "execution_count": 9,
     "metadata": {},
     "output_type": "execute_result"
    }
   ],
   "source": [
    "len(full_text.split(' '))"
   ]
  },
  {
   "cell_type": "code",
   "execution_count": 10,
   "id": "1e10ecc8-5ebb-4ce5-99db-bf93eb15e53e",
   "metadata": {
    "tags": []
   },
   "outputs": [],
   "source": [
    "import tiktoken"
   ]
  },
  {
   "cell_type": "code",
   "execution_count": 11,
   "id": "3622040e-abae-4dca-95a9-c51855e969d9",
   "metadata": {
    "tags": []
   },
   "outputs": [],
   "source": [
    "import anthropic"
   ]
  },
  {
   "cell_type": "code",
   "execution_count": 12,
   "id": "840d5be8-02e6-4968-8e27-795a8bbce53d",
   "metadata": {
    "tags": []
   },
   "outputs": [],
   "source": [
    "client = anthropic.Anthropic(\n",
    "    # defaults to os.environ.get(\"ANTHROPIC_API_KEY\")\n",
    "    api_key=os.environ.get('ANTHROPIC_KEY'),\n",
    ")"
   ]
  },
  {
   "cell_type": "code",
   "execution_count": 13,
   "id": "75e43a65-21f8-401b-be9e-f01305616cbb",
   "metadata": {
    "tags": []
   },
   "outputs": [],
   "source": [
    "c = anthropic.Anthropic()"
   ]
  },
  {
   "cell_type": "code",
   "execution_count": 14,
   "id": "d9f7e340-1841-4473-804b-d648789930d9",
   "metadata": {
    "tags": []
   },
   "outputs": [
    {
     "data": {
      "text/plain": [
       "254848"
      ]
     },
     "execution_count": 14,
     "metadata": {},
     "output_type": "execute_result"
    }
   ],
   "source": [
    "c.count_tokens(full_text) "
   ]
  },
  {
   "cell_type": "code",
   "execution_count": 24,
   "id": "0b57fa28-5385-43b6-b77f-d63120d29738",
   "metadata": {
    "tags": []
   },
   "outputs": [],
   "source": [
    "infosys = fitz.open('Reliance Annual-Report-2022-23.pdf')"
   ]
  },
  {
   "cell_type": "code",
   "execution_count": 25,
   "id": "a5575ddb-052c-4536-90fc-3a86a9107b46",
   "metadata": {
    "tags": []
   },
   "outputs": [],
   "source": [
    "infosys_txt_list = []"
   ]
  },
  {
   "cell_type": "code",
   "execution_count": 26,
   "id": "eae93d52-24a0-4d41-96c0-7ccb2a81eb10",
   "metadata": {
    "tags": []
   },
   "outputs": [],
   "source": [
    "for page in infosys: # iterate the document pages\n",
    "    infosys_txt_list.append(page.get_text()) # get plain text encoded as UTF-8"
   ]
  },
  {
   "cell_type": "code",
   "execution_count": 18,
   "id": "909cdb55-7001-4c6b-a697-1bb04d11d489",
   "metadata": {
    "tags": []
   },
   "outputs": [],
   "source": [
    "infosys_full_text = ' '.join(infosys_txt_list)"
   ]
  },
  {
   "cell_type": "code",
   "execution_count": 19,
   "id": "f73ffb6c-7e92-46ca-b741-41f7fb9e2d17",
   "metadata": {
    "tags": []
   },
   "outputs": [],
   "source": [
    "import json"
   ]
  },
  {
   "cell_type": "code",
   "execution_count": 27,
   "id": "2ab64a0e-50c9-4ee0-a3b8-c7bd07b203f8",
   "metadata": {
    "scrolled": true,
    "tags": []
   },
   "outputs": [
    {
     "data": {
      "text/plain": [
       "29244"
      ]
     },
     "execution_count": 27,
     "metadata": {},
     "output_type": "execute_result"
    }
   ],
   "source": [
    "c.count_tokens(''.join(infosys_txt_list[0:30]))"
   ]
  },
  {
   "cell_type": "code",
   "execution_count": 1,
   "id": "a93d3a60-437b-4e01-9288-50c79833a505",
   "metadata": {
    "tags": []
   },
   "outputs": [
    {
     "ename": "NameError",
     "evalue": "name 'infosys_txt_list' is not defined",
     "output_type": "error",
     "traceback": [
      "\u001b[0;31m---------------------------------------------------------------------------\u001b[0m",
      "\u001b[0;31mNameError\u001b[0m                                 Traceback (most recent call last)",
      "Cell \u001b[0;32mIn[1], line 1\u001b[0m\n\u001b[0;32m----> 1\u001b[0m \u001b[38;5;124m'\u001b[39m\u001b[38;5;124m'\u001b[39m\u001b[38;5;241m.\u001b[39mjoin(\u001b[43minfosys_txt_list\u001b[49m[\u001b[38;5;241m20\u001b[39m:\u001b[38;5;241m40\u001b[39m])\n",
      "\u001b[0;31mNameError\u001b[0m: name 'infosys_txt_list' is not defined"
     ]
    }
   ],
   "source": [
    "''.join(infosys_txt_list[20:40])"
   ]
  },
  {
   "cell_type": "code",
   "execution_count": 39,
   "id": "de425b0b-3f4f-482d-8c48-172ba71c8b9e",
   "metadata": {
    "scrolled": true,
    "tags": []
   },
   "outputs": [
    {
     "data": {
      "text/plain": [
       "182019"
      ]
     },
     "execution_count": 39,
     "metadata": {},
     "output_type": "execute_result"
    }
   ],
   "source": [
    "c.count_tokens(infosys_full_text[:700000])"
   ]
  },
  {
   "cell_type": "code",
   "execution_count": 31,
   "id": "faa6411a-c158-40a1-ba0b-7fa4d6c97eb0",
   "metadata": {
    "tags": []
   },
   "outputs": [
    {
     "data": {
      "text/plain": [
       "314259"
      ]
     },
     "execution_count": 31,
     "metadata": {},
     "output_type": "execute_result"
    }
   ],
   "source": [
    "c.count_tokens(infosys_full_text)"
   ]
  },
  {
   "cell_type": "code",
   "execution_count": 32,
   "id": "5b00a673-b5a8-4948-b97a-11d614cc62b7",
   "metadata": {
    "tags": []
   },
   "outputs": [],
   "source": [
    "def count_tokens(pdf):\n",
    "    com = fitz.open(pdf)\n",
    "    com_txt_list = []\n",
    "    for page in com: # iterate the document pages\n",
    "        com_txt_list.append(page.get_text()) # get plain text encoded as UTF-8\n",
    "    com_full_text = ' '.join(com_txt_list)\n",
    "    return c.count_tokens(com_full_text)"
   ]
  },
  {
   "cell_type": "code",
   "execution_count": 33,
   "id": "37365532-2462-4604-8071-1704395634b2",
   "metadata": {
    "tags": []
   },
   "outputs": [
    {
     "data": {
      "text/plain": [
       "458765"
      ]
     },
     "execution_count": 33,
     "metadata": {},
     "output_type": "execute_result"
    }
   ],
   "source": [
    "count_tokens('RIL-Integrated-Annual-Report-2022-23.pdf')"
   ]
  },
  {
   "cell_type": "code",
   "execution_count": 40,
   "id": "c71329a4-0e0c-495e-b895-8d29d72299e9",
   "metadata": {
    "tags": []
   },
   "outputs": [],
   "source": [
    "client = anthropic.Anthropic(\n",
    "    # defaults to os.environ.get(\"ANTHROPIC_API_KEY\")\n",
    "    api_key=os.environ.get('ANTHROPIC_KEY'),\n",
    ")"
   ]
  },
  {
   "cell_type": "code",
   "execution_count": 52,
   "id": "7d191585-5901-4deb-b303-dfe99cc5bad5",
   "metadata": {
    "tags": []
   },
   "outputs": [],
   "source": [
    "query = 'how did the PAT, expenses, EPS change for infosys this year as compared to last year'"
   ]
  },
  {
   "cell_type": "code",
   "execution_count": 42,
   "id": "5d98e3c0-69e8-4109-a966-cd75779208f7",
   "metadata": {
    "tags": []
   },
   "outputs": [],
   "source": [
    "report = infosys_full_text[:700000]"
   ]
  },
  {
   "cell_type": "code",
   "execution_count": 53,
   "id": "d99e26e2-de15-43e6-9a68-60861b2a7243",
   "metadata": {
    "tags": []
   },
   "outputs": [],
   "source": [
    "system_prompt = f'You are an expert financial analyst which specializes in analysing financial reports and answering user queries. You refer to the below annual report and answer only using the information provided. Reproduce the statements in the earnings report verbatim first before you answer. If you are not able to find the answer, then simply say that you are not able to find the answer. query: {query}. report: {report}'"
   ]
  },
  {
   "cell_type": "code",
   "execution_count": 54,
   "id": "c6a90acc-1c56-4d15-9be8-60064b1b1043",
   "metadata": {
    "tags": []
   },
   "outputs": [
    {
     "data": {
      "text/plain": [
       "182114"
      ]
     },
     "execution_count": 54,
     "metadata": {},
     "output_type": "execute_result"
    }
   ],
   "source": [
    "c.count_tokens(system_prompt)"
   ]
  },
  {
   "cell_type": "code",
   "execution_count": 64,
   "id": "72002604-bd32-490d-841c-840c0d810101",
   "metadata": {
    "tags": []
   },
   "outputs": [
    {
     "data": {
      "text/plain": [
       "40.0"
      ]
     },
     "execution_count": 64,
     "metadata": {},
     "output_type": "execute_result"
    }
   ],
   "source": [
    "(100 * 400000)/1000000"
   ]
  },
  {
   "cell_type": "code",
   "execution_count": 28,
   "id": "83008831-2120-4031-8af2-1f0ea7720d56",
   "metadata": {
    "tags": []
   },
   "outputs": [
    {
     "data": {
      "text/plain": [
       "[{'text_box': {'data': [{'value': 1373.9}],\n",
       "   'value_type': 'rupees',\n",
       "   'chart_title': 'Current Value'}},\n",
       " {'bar_chart': {'value_type': 'rupees',\n",
       "   'data': [{'TATA STEEL': 654.6},\n",
       "    {'IDFC FIRST BANK': 392},\n",
       "    {'TATA STEEL': 327.3}],\n",
       "   'chart_title': 'Top Holdings by Current Value'}}]"
      ]
     },
     "execution_count": 28,
     "metadata": {},
     "output_type": "execute_result"
    }
   ],
   "source": [
    "json.loads(\"[{\\\"text_box\\\":{\\\"data\\\":[{\\\"value\\\":1373.9}],\\\"value_type\\\":\\\"rupees\\\",\\\"chart_title\\\":\\\"Current Value\\\"}},{\\\"bar_chart\\\":{\\\"value_type\\\":\\\"rupees\\\",\\\"data\\\":[{\\\"TATA STEEL\\\":654.6},{\\\"IDFC FIRST BANK\\\":392},{\\\"TATA STEEL\\\":327.3}],\\\"chart_title\\\":\\\"Top Holdings by Current Value\\\"}}]\")"
   ]
  },
  {
   "cell_type": "code",
   "execution_count": 66,
   "id": "c0b871e7-decd-4914-8262-c321ee73f959",
   "metadata": {
    "tags": []
   },
   "outputs": [
    {
     "data": {
      "text/plain": [
       "120"
      ]
     },
     "execution_count": 66,
     "metadata": {},
     "output_type": "execute_result"
    }
   ],
   "source": [
    "40 * 3 * "
   ]
  },
  {
   "cell_type": "code",
   "execution_count": 55,
   "id": "e46148e8-0580-4dc9-a889-eee3ef7e05f8",
   "metadata": {
    "tags": []
   },
   "outputs": [],
   "source": [
    "import time"
   ]
  },
  {
   "cell_type": "code",
   "execution_count": 57,
   "id": "ec5bd30b-45f5-4caa-a5b6-1b84d01d09b7",
   "metadata": {
    "tags": []
   },
   "outputs": [
    {
     "name": "stdout",
     "output_type": "stream",
     "text": [
      "[ContentBlock(text='Based on the information provided in the annual report, the key changes in PAT, expenses, and EPS for Infosys in fiscal year 2023 compared to fiscal year 2022 are as follows:\\n\\nProfit After Tax (PAT):\\n- The standalone PAT increased by 9.6% from ₹21,235 crore in fiscal 2022 to ₹23,268 crore in fiscal 2023. \\n- The consolidated PAT increased by 8.9% from ₹22,110 crore in fiscal 2022 to ₹24,095 crore in fiscal 2023.\\n\\nExpenses:\\n- The standalone total expenses increased by 22.3% from ₹78,541 crore in fiscal 2022 to ₹96,073 crore in fiscal 2023. \\n- The consolidated total expenses increased by 23.7% from ₹93,626 crore in fiscal 2022 to ₹115,862 crore in fiscal 2023.\\n\\nEarnings Per Share (EPS):\\n- The standalone basic EPS increased by 10.4% from ₹50.27 in fiscal 2022 to ₹55.48 in fiscal 2023. \\n- The consolidated basic EPS increased by 9.7% from ₹52.52 in fiscal 2022 to ₹57.63 in fiscal 2023.\\n\\nIn summary, Infosys reported strong growth in PAT, higher expenses, and improved EPS in fiscal 2023 compared to the previous fiscal year.', type='text')]\n"
     ]
    }
   ],
   "source": [
    "s = time.time()\n",
    "message = client.messages.create(\n",
    "    model=\"claude-3-haiku-20240307\",\n",
    "    max_tokens=1024,\n",
    "    messages=[\n",
    "        {\"role\": \"user\", \"content\": system_prompt}\n",
    "    ]\n",
    ")\n",
    "e = time.time()\n",
    "print(message.content)"
   ]
  },
  {
   "cell_type": "code",
   "execution_count": 61,
   "id": "a2d453e6-18b4-4f22-a1a2-db3d7c31402b",
   "metadata": {
    "tags": []
   },
   "outputs": [
    {
     "data": {
      "text/plain": [
       "27.72482705116272"
      ]
     },
     "execution_count": 61,
     "metadata": {},
     "output_type": "execute_result"
    }
   ],
   "source": [
    "e-s"
   ]
  },
  {
   "cell_type": "code",
   "execution_count": 58,
   "id": "820cd682-7a2e-4e9b-91d2-16db4c40efd3",
   "metadata": {
    "tags": []
   },
   "outputs": [
    {
     "data": {
      "text/plain": [
       "Message(id='msg_011FrWNdYtemhfQnSGPSx2Q4', content=[ContentBlock(text='Based on the information provided in the annual report, the key changes in PAT, expenses, and EPS for Infosys in fiscal year 2023 compared to fiscal year 2022 are as follows:\\n\\nProfit After Tax (PAT):\\n- The standalone PAT increased by 9.6% from ₹21,235 crore in fiscal 2022 to ₹23,268 crore in fiscal 2023. \\n- The consolidated PAT increased by 8.9% from ₹22,110 crore in fiscal 2022 to ₹24,095 crore in fiscal 2023.\\n\\nExpenses:\\n- The standalone total expenses increased by 22.3% from ₹78,541 crore in fiscal 2022 to ₹96,073 crore in fiscal 2023. \\n- The consolidated total expenses increased by 23.7% from ₹93,626 crore in fiscal 2022 to ₹115,862 crore in fiscal 2023.\\n\\nEarnings Per Share (EPS):\\n- The standalone basic EPS increased by 10.4% from ₹50.27 in fiscal 2022 to ₹55.48 in fiscal 2023. \\n- The consolidated basic EPS increased by 9.7% from ₹52.52 in fiscal 2022 to ₹57.63 in fiscal 2023.\\n\\nIn summary, Infosys reported strong growth in PAT, higher expenses, and improved EPS in fiscal 2023 compared to the previous fiscal year.', type='text')], model='claude-3-haiku-20240307', role='assistant', stop_reason='end_turn', stop_sequence=None, type='message', usage=Usage(input_tokens=195947, output_tokens=373))"
      ]
     },
     "execution_count": 58,
     "metadata": {},
     "output_type": "execute_result"
    }
   ],
   "source": [
    "message"
   ]
  },
  {
   "cell_type": "code",
   "execution_count": 51,
   "id": "0cbeec01-4af3-4537-834f-44641a404ff4",
   "metadata": {
    "tags": []
   },
   "outputs": [
    {
     "data": {
      "text/plain": [
       "0.0489865"
      ]
     },
     "execution_count": 51,
     "metadata": {},
     "output_type": "execute_result"
    }
   ],
   "source": [
    "0.195946 * 0.25"
   ]
  },
  {
   "cell_type": "code",
   "execution_count": 59,
   "id": "c3714a7d-572a-47c4-b8af-367a45ce8ee2",
   "metadata": {
    "tags": []
   },
   "outputs": [
    {
     "data": {
      "text/plain": [
       "'Based on the information provided in the annual report, the key changes in PAT, expenses, and EPS for Infosys in fiscal year 2023 compared to fiscal year 2022 are as follows:\\n\\nProfit After Tax (PAT):\\n- The standalone PAT increased by 9.6% from ₹21,235 crore in fiscal 2022 to ₹23,268 crore in fiscal 2023. \\n- The consolidated PAT increased by 8.9% from ₹22,110 crore in fiscal 2022 to ₹24,095 crore in fiscal 2023.\\n\\nExpenses:\\n- The standalone total expenses increased by 22.3% from ₹78,541 crore in fiscal 2022 to ₹96,073 crore in fiscal 2023. \\n- The consolidated total expenses increased by 23.7% from ₹93,626 crore in fiscal 2022 to ₹115,862 crore in fiscal 2023.\\n\\nEarnings Per Share (EPS):\\n- The standalone basic EPS increased by 10.4% from ₹50.27 in fiscal 2022 to ₹55.48 in fiscal 2023. \\n- The consolidated basic EPS increased by 9.7% from ₹52.52 in fiscal 2022 to ₹57.63 in fiscal 2023.\\n\\nIn summary, Infosys reported strong growth in PAT, higher expenses, and improved EPS in fiscal 2023 compared to the previous fiscal year.'"
      ]
     },
     "execution_count": 59,
     "metadata": {},
     "output_type": "execute_result"
    }
   ],
   "source": [
    "message.content[0].text"
   ]
  },
  {
   "cell_type": "code",
   "execution_count": null,
   "id": "6eb539f3-1a8c-45f6-86b5-1b6a603d0ddc",
   "metadata": {},
   "outputs": [],
   "source": []
  }
 ],
 "metadata": {
  "kernelspec": {
   "display_name": "bertopicenv",
   "language": "python",
   "name": "bertopicenv"
  },
  "language_info": {
   "codemirror_mode": {
    "name": "ipython",
    "version": 3
   },
   "file_extension": ".py",
   "mimetype": "text/x-python",
   "name": "python",
   "nbconvert_exporter": "python",
   "pygments_lexer": "ipython3",
   "version": "3.9.18"
  }
 },
 "nbformat": 4,
 "nbformat_minor": 5
}
