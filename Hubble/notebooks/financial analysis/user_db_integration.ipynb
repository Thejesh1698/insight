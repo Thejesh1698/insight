{
 "cells": [
  {
   "cell_type": "code",
   "execution_count": 1,
   "id": "43d53b61-e18c-4eae-a5ea-fd896b6f6d7e",
   "metadata": {
    "tags": []
   },
   "outputs": [],
   "source": [
    "parent_folder = '/Users/ravi.tej/Desktop/ML/Recommendations/hubble/'\n",
    "from hydra import compose, initialize\n",
    "import os\n",
    "\n",
    "import xml.etree.ElementTree as ET\n",
    "\n",
    "tree = ET.parse('../../conf/application.run.xml')\n",
    "root = tree.getroot()\n",
    "\n",
    "envs_element = root.find('./configuration/envs')\n",
    "for variable in envs_element.findall('env'):\n",
    "    name = variable.get('name')\n",
    "    value = variable.get('value')\n",
    "    os.environ[name] = value\n",
    "\n",
    "import sys\n",
    "sys.path.append('/Users/ravi.tej/Desktop/ML/Recommendations/hubble/')\n",
    "import os\n",
    "os.environ['PATH'] = '/Users/ravi.tej/anaconda3/envs/bertopicenv/bin:/Users/ravi.tej/anaconda3/condabin:/usr/bin:/bin:/usr/sbin:/sbin'\n",
    "import pandas as pd\n",
    "import numpy as np"
   ]
  },
  {
   "cell_type": "code",
   "execution_count": 18,
   "id": "b6844992-118d-4238-97c9-ab872bf0e1a6",
   "metadata": {
    "tags": []
   },
   "outputs": [],
   "source": [
    "import requests\n",
    "\n",
    "r = requests.post('http://127.0.0.1:8000/search_query_portfolio', json={'query_text': 'how did zomato and reliance perform over last 6 months', 'userId': 1})"
   ]
  },
  {
   "cell_type": "code",
   "execution_count": 20,
   "id": "782c9da1-9bfe-4c4a-b4d3-a33dcdbcaae4",
   "metadata": {
    "tags": []
   },
   "outputs": [
    {
     "data": {
      "text/plain": [
       "'{\"additionalInfo\":{\"query_understanding\":{\"completion_tokens\":27,\"evaluation\":{\"function\":{\"arguments\":{\"companies_mentioned\":[\"zomato\",\"reliance\"]},\"name\":\"get_share_price_history_for_companies\"}},\"model\":\"gpt-4-0125-preview\",\"prompt_tokens\":771,\"system_prompt\":\"You are an expert financial analyst working for a leading indian fintech platform. User queries are either related to their own portfolio (eg. what is the total value of my portfolio or what are my most profitable holdings) or about general financial and business news (eg. how to save taxes or what is the performance of reliance over last 5 years). You extract the following attributes from a given user query. Today is \\\\u201c2024-03-15\\\\u201d. The platform has a database with the following data for user\\'s own portfolio.\\\\n    user_portfolio: name, nseticker, holding_quantity, avg_buy_price, current_price\\\\n    Based on user\\'s query we\\'ll either run the function search_web_for_query, extract_portfolio_details, calc_growth_rate_for_user_portfolio_companies or get_share_price_history_for_companies\\\\n    If user asks for performance of specific companies, then use get_share_price_history_for_companies.\\\\n    respond only with the json with the above keys. don\\'t answer the user query directly, but only extract the attributes\",\"user_prompt\":{\"query\":\"user_query: how did zomato and reliance perform over last 6 months\",\"tools\":[{\"function\":{\"description\":\"Search web for the user query. To be called when query is not related to analysis of user\\'s own portfolio\",\"name\":\"search_web_for_query\",\"parameters\":{\"properties\":{\"financial_or_business_query\":{\"description\":\"If the query is relevant for personal finance, markets of business related queries\",\"type\":\"boolean\"},\"recency_importance\":{\"description\":\"How important is that only most recent articles are fetched. high for very volatile like latest stock prices, medium for slowly changing stuff like regulations or educational and guides\",\"enum\":[\"high\",\"medium\"],\"type\":\"string\"}},\"required\":[\"financial_or_business_query\",\"recency_importance\"],\"type\":\"object\"}},\"type\":\"function\"},{\"function\":{\"description\":\"Extract details related to user portfolio snapshot - either current or invested\",\"name\":\"extract_portfolio_snapshot_details\",\"parameters\":{\"properties\":{\"aggregation_level\":{\"description\":\"If the user is looking for overall stats or breaking down by company\",\"enum\":[\"overall\",\"company\"],\"type\":\"string\"},\"aggregation_metric\":{\"description\":\"Metric user is requesting for\",\"enum\":[\"current_value\",\"invested_value\",\"profit\",\"profit_percent\"],\"type\":\"string\"},\"companies_mentioned\":{\"description\":\"Array of company names mentioned in the user query\",\"items\":{\"type\":\"string\"},\"maxItems\":5,\"minItems\":0,\"type\":\"array\"},\"sorting_order\":{\"description\":\"sorting order requested based on the aggregation_metric. For example user asks for least profitable or most loss making, then sorting order is ascending\",\"enum\":[\"ascending\",\"descending\"],\"type\":\"string\"}},\"required\":[\"aggregation_metric\",\"aggregation_level\",\"companies_mentioned\",\"sorting_order\"],\"type\":\"object\"}},\"type\":\"function\"},{\"function\":{\"description\":\"Extract details related to growth rate of user portfolio over a period\",\"name\":\"extract_portfolio_growth_details\",\"parameters\":{\"properties\":{\"aggregation_level\":{\"description\":\"If the user is looking for overall stats or breaking down by company\",\"enum\":[\"overall\",\"company\"],\"type\":\"string\"},\"aggregation_metric\":{\"description\":\"Metric user is requesting for. If user wants comparison with index, then its growth_over_index else its growth\",\"enum\":[\"growth\",\"growth_over_index\"],\"type\":\"string\"},\"companies_mentioned\":{\"description\":\"Array of company names mentioned in the user query\",\"items\":{\"type\":\"string\"},\"maxItems\":5,\"minItems\":0,\"type\":\"array\"},\"num_days\":{\"description\":\"number of days for calculating growth. if nothing is provided, then default is 365 days\",\"type\":\"number\"},\"sorting_order\":{\"description\":\"sorting order requested based on the aggregation_metric. For example user asks for least profitable or most loss making, then sorting order is ascending\",\"enum\":[\"ascending\",\"descending\"],\"type\":\"string\"}},\"required\":[\"aggregation_metric\",\"aggregation_level\",\"companies_mentioned\",\"sorting_order\",\"num_days\"],\"type\":\"object\"}},\"type\":\"function\"},{\"function\":{\"description\":\"Get the latest and historic share prices for companies. If user does not mention company or asks for sensex or NSE, index or general market - then use NIFTY 50\",\"name\":\"get_share_price_history_for_companies\",\"parameters\":{\"properties\":{\"companies_mentioned\":{\"description\":\"Array of company names mentioned in the user query\",\"items\":{\"type\":\"string\"},\"maxItems\":5,\"minItems\":1,\"type\":\"array\"}},\"required\":[\"companies_mentioned\"],\"type\":\"object\"}},\"type\":\"function\"}]}}},\"portfolio_data\":[{\"line_chart\":{\"chart_title\":\"Share price history of zomato, reliance\",\"data\":[{\"ZOMATO\":{\"2023-10-19\":0.0,\"2023-10-20\":0.0152,\"2023-10-23\":-0.0246,\"2023-10-25\":-0.0305,\"2023-10-26\":-0.0466,\"2023-10-27\":-0.0537,\"2023-10-30\":-0.0354,\"2023-10-31\":-0.0587,\"2023-11-01\":-0.0712,\"2023-11-02\":-0.0367,\"2023-11-03\":0.0434,\"2023-11-06\":0.1043,\"2023-11-07\":0.0864,\"2023-11-08\":0.1209,\"2023-11-09\":0.0914,\"2023-11-10\":0.0864,\"2023-11-12\":0.1039,\"2023-11-13\":0.0945,\"2023-11-15\":0.077,\"2023-11-16\":0.0914,\"2023-11-17\":0.0945,\"2023-11-20\":0.0582,\"2023-11-21\":0.0434,\"2023-11-22\":0.0327,\"2023-11-23\":0.0116,\"2023-11-24\":0.0143,\"2023-11-28\":0.0193,\"2023-11-29\":0.0443,\"2023-11-30\":0.0618,\"2023-12-01\":0.0416,\"2023-12-04\":0.0515,\"2023-12-05\":0.0457,\"2023-12-06\":0.0649,\"2023-12-07\":0.09,\"2023-12-08\":0.0743,\"2023-12-11\":0.0609,\"2023-12-12\":0.0457,\"2023-12-13\":0.0748,\"2023-12-14\":0.112,\"2023-12-15\":0.107,\"2023-12-18\":0.1514,\"2023-12-19\":0.1666,\"2023-12-20\":0.1173,\"2023-12-21\":0.1406,\"2023-12-22\":0.1509,\"2023-12-26\":0.1196,\"2023-12-27\":0.1379,\"2023-12-28\":0.1034,\"2023-12-29\":0.1079,\"2024-01-01\":0.1151,\"2024-01-02\":0.1527,\"2024-01-03\":0.1424,\"2024-01-04\":0.1621,\"2024-01-05\":0.1939,\"2024-01-08\":0.1899,\"2024-01-09\":0.2029,\"2024-01-10\":0.206,\"2024-01-11\":0.2391,\"2024-01-12\":0.2499,\"2024-01-15\":0.1948,\"2024-01-16\":0.1961,\"2024-01-17\":0.1411,\"2024-01-18\":0.1594,\"2024-01-19\":0.2096,\"2024-01-20\":0.1921,\"2024-01-23\":0.1652,\"2024-01-24\":0.2199,\"2024-01-25\":0.2194,\"2024-01-29\":0.2141,\"2024-01-30\":0.2288,\"2024-01-31\":0.2499,\"2024-02-01\":0.2588,\"2024-02-02\":0.288,\"2024-02-05\":0.2562,\"2024-02-06\":0.2535,\"2024-02-07\":0.2575,\"2024-02-08\":0.2906,\"2024-02-09\":0.3386,\"2024-02-12\":0.3775,\"2024-02-13\":0.386,\"2024-02-14\":0.3636,\"2024-02-15\":0.3869,\"2024-02-16\":0.4035,\"2024-02-19\":0.4107,\"2024-02-20\":0.4425,\"2024-02-21\":0.421,\"2024-02-22\":0.4519,\"2024-02-23\":0.4693,\"2024-02-26\":0.4707,\"2024-02-27\":0.4447,\"2024-02-28\":0.4272,\"2024-02-29\":0.4819,\"2024-03-01\":0.4913,\"2024-03-02\":0.5016,\"2024-03-04\":0.5208,\"2024-03-05\":0.4854,\"2024-03-06\":0.4469,\"2024-03-07\":0.433,\"2024-03-11\":0.3869,\"2024-03-12\":0.4053,\"2024-03-13\":0.3314,\"2024-03-14\":0.3681,\"2024-03-15\":0.4335,\"2024-03-18\":0.4174,\"2024-03-19\":0.4147,\"2024-03-20\":0.4832,\"2024-03-21\":0.5195,\"2024-03-22\":0.5602,\"2024-03-26\":0.6355,\"2024-03-27\":0.6073,\"2024-03-28\":0.631,\"2024-04-01\":0.6525,\"2024-04-02\":0.6399,\"2024-04-03\":0.597,\"2024-04-04\":0.6749,\"2024-04-05\":0.7062,\"2024-04-08\":0.7179,\"2024-04-09\":0.7349,\"2024-04-10\":0.7537,\"2024-04-12\":0.7206,\"2024-04-15\":0.6856}},{\"RELIANCE\":{\"2023-10-19\":0.0,\"2023-10-20\":-0.0031,\"2023-10-23\":-0.0186,\"2023-10-25\":-0.0209,\"2023-10-26\":-0.0345,\"2023-10-27\":-0.0175,\"2023-10-30\":0.0028,\"2023-10-31\":-0.0079,\"2023-11-01\":-0.0038,\"2023-11-02\":0.0061,\"2023-11-03\":0.0059,\"2023-11-06\":0.0142,\"2023-11-07\":0.0077,\"2023-11-08\":0.0129,\"2023-11-09\":0.0019,\"2023-11-10\":0.0038,\"2023-11-12\":0.0106,\"2023-11-13\":0.0037,\"2023-11-15\":0.0218,\"2023-11-16\":0.0237,\"2023-11-17\":0.0214,\"2023-11-20\":0.0187,\"2023-11-21\":0.0315,\"2023-11-22\":0.0356,\"2023-11-23\":0.0387,\"2023-11-24\":0.0381,\"2023-11-28\":0.0383,\"2023-11-29\":0.041,\"2023-11-30\":0.0309,\"2023-12-01\":0.0382,\"2023-12-04\":0.0495,\"2023-12-05\":0.0571,\"2023-12-06\":0.0672,\"2023-12-07\":0.0654,\"2023-12-08\":0.0649,\"2023-12-11\":0.0664,\"2023-12-12\":0.0511,\"2023-12-13\":0.0554,\"2023-12-14\":0.0685,\"2023-12-15\":0.0821,\"2023-12-18\":0.0932,\"2023-12-19\":0.1093,\"2023-12-20\":0.0958,\"2023-12-21\":0.1112,\"2023-12-22\":0.1123,\"2023-12-26\":0.1179,\"2023-12-27\":0.1217,\"2023-12-28\":0.1298,\"2023-12-29\":0.1209,\"2024-01-01\":0.1232,\"2024-01-02\":0.1325,\"2024-01-03\":0.1202,\"2024-01-04\":0.126,\"2024-01-05\":0.1308,\"2024-01-08\":0.1219,\"2024-01-09\":0.119,\"2024-01-10\":0.1491,\"2024-01-11\":0.1794,\"2024-01-12\":0.1888,\"2024-01-15\":0.209,\"2024-01-16\":0.1921,\"2024-01-17\":0.1808,\"2024-01-18\":0.1863,\"2024-01-19\":0.1859,\"2024-01-20\":0.1765,\"2024-01-23\":0.1522,\"2024-01-24\":0.1655,\"2024-01-25\":0.1734,\"2024-01-29\":0.2558,\"2024-01-30\":0.2208,\"2024-01-31\":0.2372,\"2024-02-01\":0.2373,\"2024-02-02\":0.2642,\"2024-02-05\":0.248,\"2024-02-06\":0.2383,\"2024-02-07\":0.2507,\"2024-02-08\":0.2576,\"2024-02-09\":0.2668,\"2024-02-12\":0.2595,\"2024-02-13\":0.2706,\"2024-02-14\":0.2847,\"2024-02-15\":0.2754,\"2024-02-16\":0.2667,\"2024-02-19\":0.2783,\"2024-02-20\":0.2757,\"2024-02-21\":0.2729,\"2024-02-22\":0.285,\"2024-02-23\":0.2953,\"2024-02-26\":0.2899,\"2024-02-27\":0.2884,\"2024-02-28\":0.2624,\"2024-02-29\":0.2669,\"2024-03-01\":0.294,\"2024-03-02\":0.2931,\"2024-03-04\":0.3073,\"2024-03-05\":0.301,\"2024-03-06\":0.3035,\"2024-03-07\":0.2826,\"2024-03-11\":0.2719,\"2024-03-12\":0.2796,\"2024-03-13\":0.242,\"2024-03-14\":0.2414,\"2024-03-15\":0.23,\"2024-03-18\":0.2484,\"2024-03-19\":0.236,\"2024-03-20\":0.2521,\"2024-03-21\":0.2584,\"2024-03-22\":0.2619,\"2024-03-26\":0.2502,\"2024-03-27\":0.2947,\"2024-03-28\":0.2886,\"2024-04-01\":0.2877,\"2024-04-02\":0.2896,\"2024-04-03\":0.2762,\"2024-04-04\":0.2687,\"2024-04-05\":0.2663,\"2024-04-08\":0.2887,\"2024-04-09\":0.2693,\"2024-04-11\":0.2832,\"2024-04-15\":0.271}}],\"value_type\":\"percent\"}}],\"searchArticleIds\":[],\"user_portfolio_data\":false}\\n'"
      ]
     },
     "execution_count": 20,
     "metadata": {},
     "output_type": "execute_result"
    }
   ],
   "source": [
    "r.text"
   ]
  },
  {
   "cell_type": "code",
   "execution_count": 21,
   "id": "14874d8a-f0a1-489d-bc62-e21fac40bc12",
   "metadata": {
    "tags": []
   },
   "outputs": [
    {
     "data": {
      "text/plain": [
       "\u001b[0;31mSignature:\u001b[0m \u001b[0mrequests\u001b[0m\u001b[0;34m.\u001b[0m\u001b[0mget\u001b[0m\u001b[0;34m(\u001b[0m\u001b[0murl\u001b[0m\u001b[0;34m,\u001b[0m \u001b[0mparams\u001b[0m\u001b[0;34m=\u001b[0m\u001b[0;32mNone\u001b[0m\u001b[0;34m,\u001b[0m \u001b[0;34m**\u001b[0m\u001b[0mkwargs\u001b[0m\u001b[0;34m)\u001b[0m\u001b[0;34m\u001b[0m\u001b[0;34m\u001b[0m\u001b[0m\n",
       "\u001b[0;31mDocstring:\u001b[0m\n",
       "Sends a GET request.\n",
       "\n",
       ":param url: URL for the new :class:`Request` object.\n",
       ":param params: (optional) Dictionary, list of tuples or bytes to send\n",
       "    in the query string for the :class:`Request`.\n",
       ":param \\*\\*kwargs: Optional arguments that ``request`` takes.\n",
       ":return: :class:`Response <Response>` object\n",
       ":rtype: requests.Response\n",
       "\u001b[0;31mFile:\u001b[0m      ~/anaconda3/envs/bertopicenv/lib/python3.9/site-packages/requests/api.py\n",
       "\u001b[0;31mType:\u001b[0m      function"
      ]
     },
     "metadata": {},
     "output_type": "display_data"
    }
   ],
   "source": [
    "requests.get?"
   ]
  },
  {
   "cell_type": "code",
   "execution_count": 29,
   "id": "98e37d2b-3e2d-426a-a4ea-66de1b0c5c32",
   "metadata": {
    "tags": []
   },
   "outputs": [],
   "source": [
    "import json\n",
    "import pandas as pd"
   ]
  },
  {
   "cell_type": "code",
   "execution_count": 27,
   "id": "0216eb2f-df4b-44db-869e-61f6c966ae19",
   "metadata": {
    "tags": []
   },
   "outputs": [],
   "source": [
    "port_d = json.dumps(json.loads(r.text)['portfolio_data'])"
   ]
  },
  {
   "cell_type": "code",
   "execution_count": 28,
   "id": "56702465-1aa5-4b78-8106-6a01d08d4502",
   "metadata": {
    "tags": []
   },
   "outputs": [
    {
     "data": {
      "text/plain": [
       "'[{\"line_chart\": {\"chart_title\": \"Share price history of zomato, reliance\", \"data\": [{\"ZOMATO\": {\"2023-10-19\": 0.0, \"2023-10-20\": 0.0152, \"2023-10-23\": -0.0246, \"2023-10-25\": -0.0305, \"2023-10-26\": -0.0466, \"2023-10-27\": -0.0537, \"2023-10-30\": -0.0354, \"2023-10-31\": -0.0587, \"2023-11-01\": -0.0712, \"2023-11-02\": -0.0367, \"2023-11-03\": 0.0434, \"2023-11-06\": 0.1043, \"2023-11-07\": 0.0864, \"2023-11-08\": 0.1209, \"2023-11-09\": 0.0914, \"2023-11-10\": 0.0864, \"2023-11-12\": 0.1039, \"2023-11-13\": 0.0945, \"2023-11-15\": 0.077, \"2023-11-16\": 0.0914, \"2023-11-17\": 0.0945, \"2023-11-20\": 0.0582, \"2023-11-21\": 0.0434, \"2023-11-22\": 0.0327, \"2023-11-23\": 0.0116, \"2023-11-24\": 0.0143, \"2023-11-28\": 0.0193, \"2023-11-29\": 0.0443, \"2023-11-30\": 0.0618, \"2023-12-01\": 0.0416, \"2023-12-04\": 0.0515, \"2023-12-05\": 0.0457, \"2023-12-06\": 0.0649, \"2023-12-07\": 0.09, \"2023-12-08\": 0.0743, \"2023-12-11\": 0.0609, \"2023-12-12\": 0.0457, \"2023-12-13\": 0.0748, \"2023-12-14\": 0.112, \"2023-12-15\": 0.107, \"2023-12-18\": 0.1514, \"2023-12-19\": 0.1666, \"2023-12-20\": 0.1173, \"2023-12-21\": 0.1406, \"2023-12-22\": 0.1509, \"2023-12-26\": 0.1196, \"2023-12-27\": 0.1379, \"2023-12-28\": 0.1034, \"2023-12-29\": 0.1079, \"2024-01-01\": 0.1151, \"2024-01-02\": 0.1527, \"2024-01-03\": 0.1424, \"2024-01-04\": 0.1621, \"2024-01-05\": 0.1939, \"2024-01-08\": 0.1899, \"2024-01-09\": 0.2029, \"2024-01-10\": 0.206, \"2024-01-11\": 0.2391, \"2024-01-12\": 0.2499, \"2024-01-15\": 0.1948, \"2024-01-16\": 0.1961, \"2024-01-17\": 0.1411, \"2024-01-18\": 0.1594, \"2024-01-19\": 0.2096, \"2024-01-20\": 0.1921, \"2024-01-23\": 0.1652, \"2024-01-24\": 0.2199, \"2024-01-25\": 0.2194, \"2024-01-29\": 0.2141, \"2024-01-30\": 0.2288, \"2024-01-31\": 0.2499, \"2024-02-01\": 0.2588, \"2024-02-02\": 0.288, \"2024-02-05\": 0.2562, \"2024-02-06\": 0.2535, \"2024-02-07\": 0.2575, \"2024-02-08\": 0.2906, \"2024-02-09\": 0.3386, \"2024-02-12\": 0.3775, \"2024-02-13\": 0.386, \"2024-02-14\": 0.3636, \"2024-02-15\": 0.3869, \"2024-02-16\": 0.4035, \"2024-02-19\": 0.4107, \"2024-02-20\": 0.4425, \"2024-02-21\": 0.421, \"2024-02-22\": 0.4519, \"2024-02-23\": 0.4693, \"2024-02-26\": 0.4707, \"2024-02-27\": 0.4447, \"2024-02-28\": 0.4272, \"2024-02-29\": 0.4819, \"2024-03-01\": 0.4913, \"2024-03-02\": 0.5016, \"2024-03-04\": 0.5208, \"2024-03-05\": 0.4854, \"2024-03-06\": 0.4469, \"2024-03-07\": 0.433, \"2024-03-11\": 0.3869, \"2024-03-12\": 0.4053, \"2024-03-13\": 0.3314, \"2024-03-14\": 0.3681, \"2024-03-15\": 0.4335, \"2024-03-18\": 0.4174, \"2024-03-19\": 0.4147, \"2024-03-20\": 0.4832, \"2024-03-21\": 0.5195, \"2024-03-22\": 0.5602, \"2024-03-26\": 0.6355, \"2024-03-27\": 0.6073, \"2024-03-28\": 0.631, \"2024-04-01\": 0.6525, \"2024-04-02\": 0.6399, \"2024-04-03\": 0.597, \"2024-04-04\": 0.6749, \"2024-04-05\": 0.7062, \"2024-04-08\": 0.7179, \"2024-04-09\": 0.7349, \"2024-04-10\": 0.7537, \"2024-04-12\": 0.7206, \"2024-04-15\": 0.6856}}, {\"RELIANCE\": {\"2023-10-19\": 0.0, \"2023-10-20\": -0.0031, \"2023-10-23\": -0.0186, \"2023-10-25\": -0.0209, \"2023-10-26\": -0.0345, \"2023-10-27\": -0.0175, \"2023-10-30\": 0.0028, \"2023-10-31\": -0.0079, \"2023-11-01\": -0.0038, \"2023-11-02\": 0.0061, \"2023-11-03\": 0.0059, \"2023-11-06\": 0.0142, \"2023-11-07\": 0.0077, \"2023-11-08\": 0.0129, \"2023-11-09\": 0.0019, \"2023-11-10\": 0.0038, \"2023-11-12\": 0.0106, \"2023-11-13\": 0.0037, \"2023-11-15\": 0.0218, \"2023-11-16\": 0.0237, \"2023-11-17\": 0.0214, \"2023-11-20\": 0.0187, \"2023-11-21\": 0.0315, \"2023-11-22\": 0.0356, \"2023-11-23\": 0.0387, \"2023-11-24\": 0.0381, \"2023-11-28\": 0.0383, \"2023-11-29\": 0.041, \"2023-11-30\": 0.0309, \"2023-12-01\": 0.0382, \"2023-12-04\": 0.0495, \"2023-12-05\": 0.0571, \"2023-12-06\": 0.0672, \"2023-12-07\": 0.0654, \"2023-12-08\": 0.0649, \"2023-12-11\": 0.0664, \"2023-12-12\": 0.0511, \"2023-12-13\": 0.0554, \"2023-12-14\": 0.0685, \"2023-12-15\": 0.0821, \"2023-12-18\": 0.0932, \"2023-12-19\": 0.1093, \"2023-12-20\": 0.0958, \"2023-12-21\": 0.1112, \"2023-12-22\": 0.1123, \"2023-12-26\": 0.1179, \"2023-12-27\": 0.1217, \"2023-12-28\": 0.1298, \"2023-12-29\": 0.1209, \"2024-01-01\": 0.1232, \"2024-01-02\": 0.1325, \"2024-01-03\": 0.1202, \"2024-01-04\": 0.126, \"2024-01-05\": 0.1308, \"2024-01-08\": 0.1219, \"2024-01-09\": 0.119, \"2024-01-10\": 0.1491, \"2024-01-11\": 0.1794, \"2024-01-12\": 0.1888, \"2024-01-15\": 0.209, \"2024-01-16\": 0.1921, \"2024-01-17\": 0.1808, \"2024-01-18\": 0.1863, \"2024-01-19\": 0.1859, \"2024-01-20\": 0.1765, \"2024-01-23\": 0.1522, \"2024-01-24\": 0.1655, \"2024-01-25\": 0.1734, \"2024-01-29\": 0.2558, \"2024-01-30\": 0.2208, \"2024-01-31\": 0.2372, \"2024-02-01\": 0.2373, \"2024-02-02\": 0.2642, \"2024-02-05\": 0.248, \"2024-02-06\": 0.2383, \"2024-02-07\": 0.2507, \"2024-02-08\": 0.2576, \"2024-02-09\": 0.2668, \"2024-02-12\": 0.2595, \"2024-02-13\": 0.2706, \"2024-02-14\": 0.2847, \"2024-02-15\": 0.2754, \"2024-02-16\": 0.2667, \"2024-02-19\": 0.2783, \"2024-02-20\": 0.2757, \"2024-02-21\": 0.2729, \"2024-02-22\": 0.285, \"2024-02-23\": 0.2953, \"2024-02-26\": 0.2899, \"2024-02-27\": 0.2884, \"2024-02-28\": 0.2624, \"2024-02-29\": 0.2669, \"2024-03-01\": 0.294, \"2024-03-02\": 0.2931, \"2024-03-04\": 0.3073, \"2024-03-05\": 0.301, \"2024-03-06\": 0.3035, \"2024-03-07\": 0.2826, \"2024-03-11\": 0.2719, \"2024-03-12\": 0.2796, \"2024-03-13\": 0.242, \"2024-03-14\": 0.2414, \"2024-03-15\": 0.23, \"2024-03-18\": 0.2484, \"2024-03-19\": 0.236, \"2024-03-20\": 0.2521, \"2024-03-21\": 0.2584, \"2024-03-22\": 0.2619, \"2024-03-26\": 0.2502, \"2024-03-27\": 0.2947, \"2024-03-28\": 0.2886, \"2024-04-01\": 0.2877, \"2024-04-02\": 0.2896, \"2024-04-03\": 0.2762, \"2024-04-04\": 0.2687, \"2024-04-05\": 0.2663, \"2024-04-08\": 0.2887, \"2024-04-09\": 0.2693, \"2024-04-11\": 0.2832, \"2024-04-15\": 0.271}}], \"value_type\": \"percent\"}}]'"
      ]
     },
     "execution_count": 28,
     "metadata": {},
     "output_type": "execute_result"
    }
   ],
   "source": [
    "port_d"
   ]
  },
  {
   "cell_type": "code",
   "execution_count": 30,
   "id": "962b9ad5-79b8-48f9-b35d-4c54c5011f48",
   "metadata": {
    "tags": []
   },
   "outputs": [],
   "source": [
    "p = requests.get('http://127.0.0.1:8000/summarize_portfolio_search',params={'query_text': 'how did zomato and reliance perform over last 6 months',\n",
    "                                                                       'user_portfolio_data': 'false', 'portfolio_data': port_d})"
   ]
  },
  {
   "cell_type": "code",
   "execution_count": 32,
   "id": "6a3b25a6-f4c7-4157-b4ae-63897bd6c20c",
   "metadata": {
    "tags": []
   },
   "outputs": [
    {
     "data": {
      "text/plain": [
       "\"Over the last 6 months, both Zomato and Reliance have shown positive growth from their starting points.\\n\\n- **Zomato** increased by approximately **68.6%**, demonstrating significant growth.\\n- **Reliance** grew by about **27.1%**, indicating solid performance.\\n\\n**Insight:** Zomato's performance vastly exceeded that of Reliance in terms of percentage growth over the same period.\""
      ]
     },
     "execution_count": 32,
     "metadata": {},
     "output_type": "execute_result"
    }
   ],
   "source": [
    "p.text"
   ]
  },
  {
   "cell_type": "code",
   "execution_count": 16,
   "id": "4889d649-e214-42c0-845a-e40cccc3bdf8",
   "metadata": {
    "tags": []
   },
   "outputs": [],
   "source": [
    "a = PortfolioSQL.get_investment_option_price_long_history([2741], num_days=180)"
   ]
  },
  {
   "cell_type": "code",
   "execution_count": 17,
   "id": "4b2c538b-9d13-4c73-b327-b6636ac4a0e5",
   "metadata": {
    "tags": []
   },
   "outputs": [
    {
     "data": {
      "text/html": [
       "<div>\n",
       "<style scoped>\n",
       "    .dataframe tbody tr th:only-of-type {\n",
       "        vertical-align: middle;\n",
       "    }\n",
       "\n",
       "    .dataframe tbody tr th {\n",
       "        vertical-align: top;\n",
       "    }\n",
       "\n",
       "    .dataframe thead th {\n",
       "        text-align: right;\n",
       "    }\n",
       "</style>\n",
       "<table border=\"1\" class=\"dataframe\">\n",
       "  <thead>\n",
       "    <tr style=\"text-align: right;\">\n",
       "      <th></th>\n",
       "      <th>investment_option_id</th>\n",
       "      <th>dt</th>\n",
       "      <th>price</th>\n",
       "    </tr>\n",
       "  </thead>\n",
       "  <tbody>\n",
       "  </tbody>\n",
       "</table>\n",
       "</div>"
      ],
      "text/plain": [
       "Empty DataFrame\n",
       "Columns: [investment_option_id, dt, price]\n",
       "Index: []"
      ]
     },
     "execution_count": 17,
     "metadata": {},
     "output_type": "execute_result"
    }
   ],
   "source": [
    "a"
   ]
  },
  {
   "cell_type": "code",
   "execution_count": null,
   "id": "82cee5ff-c6e1-4de7-8ef1-113565526e55",
   "metadata": {},
   "outputs": [],
   "source": []
  },
  {
   "cell_type": "code",
   "execution_count": 13,
   "id": "f93afc92-8c2f-4c78-8cc4-1859384e6b9b",
   "metadata": {
    "tags": []
   },
   "outputs": [],
   "source": [
    "k = PortfolioSQL.get_instrument_token_for_nse_ticker('NIFTY 50')"
   ]
  },
  {
   "cell_type": "code",
   "execution_count": 14,
   "id": "2680d9c9-eeb5-45ee-828f-2bf9aed0ea4f",
   "metadata": {
    "tags": []
   },
   "outputs": [
    {
     "data": {
      "text/plain": [
       "2741"
      ]
     },
     "execution_count": 14,
     "metadata": {},
     "output_type": "execute_result"
    }
   ],
   "source": [
    "k"
   ]
  },
  {
   "cell_type": "code",
   "execution_count": 12,
   "id": "c43f89f7-7065-4d8c-a108-907a595ab73a",
   "metadata": {
    "tags": []
   },
   "outputs": [
    {
     "data": {
      "text/plain": [
       "'{\"additionalInfo\":{\"query_understanding\":{\"completion_tokens\":39,\"evaluation\":{\"function\":{\"arguments\":{\"aggregation_level\":\"company\",\"aggregation_metric\":\"growth\",\"companies_mentioned\":[],\"num_days\":365,\"sorting_order\":\"ascending\"},\"name\":\"extract_portfolio_growth_details\"}},\"model\":\"gpt-4-0125-preview\",\"prompt_tokens\":766,\"system_prompt\":\"You are an expert financial analyst working for a leading indian fintech platform. User queries are either related to their own portfolio (eg. what is the total value of my portfolio or what are my most profitable holdings) or about general financial and business news (eg. how to save taxes or what is the performance of reliance over last 5 years). You extract the following attributes from a given user query. Today is \\\\u201c2024-03-15\\\\u201d. The platform has a database with the following data for user\\'s own portfolio.\\\\n    user_portfolio: name, nseticker, holding_quantity, avg_buy_price, current_price\\\\n    Based on user\\'s query we\\'ll either run the function search_web_for_query, extract_portfolio_details, calc_growth_rate_for_user_portfolio_companies or get_share_price_history_for_companies\\\\n    If user asks for performance of specific companies, then use get_share_price_history_for_companies.\\\\n    respond only with the json with the above keys. don\\'t answer the user query directly, but only extract the attributes\",\"user_prompt\":{\"query\":\"user_query: which of my holdings have grown the least\",\"tools\":[{\"function\":{\"description\":\"Search web for the user query. To be called when query is not related to analysis of user\\'s own portfolio\",\"name\":\"search_web_for_query\",\"parameters\":{\"properties\":{\"financial_or_business_query\":{\"description\":\"If the query is relevant for personal finance, markets of business related queries\",\"type\":\"boolean\"},\"recency_importance\":{\"description\":\"How important is that only most recent articles are fetched. high for very volatile like latest stock prices, medium for slowly changing stuff like regulations or educational and guides\",\"enum\":[\"high\",\"medium\"],\"type\":\"string\"}},\"required\":[\"financial_or_business_query\",\"recency_importance\"],\"type\":\"object\"}},\"type\":\"function\"},{\"function\":{\"description\":\"Extract details related to user portfolio snapshot - either current or invested\",\"name\":\"extract_portfolio_snapshot_details\",\"parameters\":{\"properties\":{\"aggregation_level\":{\"description\":\"If the user is looking for overall stats or breaking down by company\",\"enum\":[\"overall\",\"company\"],\"type\":\"string\"},\"aggregation_metric\":{\"description\":\"Metric user is requesting for\",\"enum\":[\"current_value\",\"invested_value\",\"profit\",\"profit_percent\"],\"type\":\"string\"},\"companies_mentioned\":{\"description\":\"Array of company names mentioned in the user query\",\"items\":{\"type\":\"string\"},\"maxItems\":5,\"minItems\":0,\"type\":\"array\"},\"sorting_order\":{\"description\":\"sorting order requested based on the aggregation_metric. For example user asks for least profitable or most loss making, then sorting order is ascending\",\"enum\":[\"ascending\",\"descending\"],\"type\":\"string\"}},\"required\":[\"aggregation_metric\",\"aggregation_level\",\"companies_mentioned\",\"sorting_order\"],\"type\":\"object\"}},\"type\":\"function\"},{\"function\":{\"description\":\"Extract details related to growth rate of user portfolio over a period\",\"name\":\"extract_portfolio_growth_details\",\"parameters\":{\"properties\":{\"aggregation_level\":{\"description\":\"If the user is looking for overall stats or breaking down by company\",\"enum\":[\"overall\",\"company\"],\"type\":\"string\"},\"aggregation_metric\":{\"description\":\"Metric user is requesting for. If user wants comparison with index, then its growth_over_index else its growth\",\"enum\":[\"growth\",\"growth_over_index\"],\"type\":\"string\"},\"companies_mentioned\":{\"description\":\"Array of company names mentioned in the user query\",\"items\":{\"type\":\"string\"},\"maxItems\":5,\"minItems\":0,\"type\":\"array\"},\"num_days\":{\"description\":\"number of days for calculating growth. if nothing is provided, then default is 365 days\",\"type\":\"number\"},\"sorting_order\":{\"description\":\"sorting order requested based on the aggregation_metric. For example user asks for least profitable or most loss making, then sorting order is ascending\",\"enum\":[\"ascending\",\"descending\"],\"type\":\"string\"}},\"required\":[\"aggregation_metric\",\"aggregation_level\",\"companies_mentioned\",\"sorting_order\",\"num_days\"],\"type\":\"object\"}},\"type\":\"function\"},{\"function\":{\"description\":\"Get the latest and historic share prices for companies. If user does not mention company or asks for sensex or NSE, index or general market - then use NIFTY 50\",\"name\":\"get_share_price_history_for_companies\",\"parameters\":{\"properties\":{\"companies_mentioned\":{\"description\":\"Array of company names mentioned in the user query\",\"items\":{\"type\":\"string\"},\"maxItems\":5,\"minItems\":1,\"type\":\"array\"}},\"required\":[\"companies_mentioned\"],\"type\":\"object\"}},\"type\":\"function\"}]}}},\"portfolio_data\":null,\"searchArticleIds\":[],\"user_portfolio_data\":true}\\n'"
      ]
     },
     "execution_count": 12,
     "metadata": {},
     "output_type": "execute_result"
    }
   ],
   "source": [
    "r.text"
   ]
  },
  {
   "cell_type": "code",
   "execution_count": 7,
   "id": "70468285-2aea-4066-b209-2bd07648cc14",
   "metadata": {
    "tags": []
   },
   "outputs": [],
   "source": [
    "import json"
   ]
  },
  {
   "cell_type": "code",
   "execution_count": 10,
   "id": "3ef744cc-57bb-417c-9ae3-6c38f6b5cd64",
   "metadata": {
    "tags": []
   },
   "outputs": [],
   "source": [
    "with open('icici_data.json') as f:\n",
    "    k = json.load(f)"
   ]
  },
  {
   "cell_type": "code",
   "execution_count": 17,
   "id": "298fd206-9cd5-4a46-bf5c-9941b0546a46",
   "metadata": {
    "tags": []
   },
   "outputs": [
    {
     "data": {
      "text/plain": [
       "{'columns': [0], 'index': [0, 1], 'data': [['38%'], ['62%']]}"
      ]
     },
     "execution_count": 17,
     "metadata": {},
     "output_type": "execute_result"
    }
   ],
   "source": []
  },
  {
   "cell_type": "code",
   "execution_count": 28,
   "id": "a490148a-512a-4a9a-86a5-0533cacf7ed3",
   "metadata": {
    "tags": []
   },
   "outputs": [],
   "source": [
    "data_dict = json.loads(k['Quantitative information of Collateral - Credit impaired assets\\nThe following table sets forth, for the periods indicated, quantitative information of collaterals of\\ncredit impaired assets.\\n₹ in million'])"
   ]
  },
  {
   "cell_type": "code",
   "execution_count": 29,
   "id": "eed0abd3-538d-4f6a-b508-c7c59e68cd75",
   "metadata": {
    "tags": []
   },
   "outputs": [
    {
     "data": {
      "text/plain": [
       "{'columns': [0, 1, 2],\n",
       " 'index': [0, 1, 2, 3, 4, 5, 6, 7],\n",
       " 'data': [['Loan to value (LTV) range',\n",
       "   'Gross value of loan',\n",
       "   'Gross value of loan'],\n",
       "  ['Loan to value (LTV) range', 'At\\nMarch 31, 2023', 'At\\nMarch 31, 2022'],\n",
       "  ['Less than 50%', '1,779.4', '3,472.4'],\n",
       "  ['51 to 70%', '1,681.1', '2,830.2'],\n",
       "  ['71 to 90%', '1,951.7', '2,154.8'],\n",
       "  ['91 to 100%', '197.4', '123.7'],\n",
       "  ['More than 100%', '2.0', '15.9'],\n",
       "  ['Total', '5,611.6', '8,597.0']]}"
      ]
     },
     "execution_count": 29,
     "metadata": {},
     "output_type": "execute_result"
    }
   ],
   "source": [
    "data_dict"
   ]
  },
  {
   "cell_type": "code",
   "execution_count": 24,
   "id": "7b6ffdd7-3f01-4e6b-a483-f2c751ba2b3f",
   "metadata": {
    "tags": []
   },
   "outputs": [],
   "source": [
    "df = pd.DataFrame(data=data_dict['data'], index=data_dict['index'], columns=data_dict['columns'])"
   ]
  },
  {
   "cell_type": "code",
   "execution_count": 36,
   "id": "1fb89c78-65dd-4087-a2f5-060226163320",
   "metadata": {
    "tags": []
   },
   "outputs": [
    {
     "data": {
      "text/plain": [
       "{'Particulars': {1: 'At\\nMarch 31, 2023', 2: 'At\\nMarch 31, 2022'},\n",
       " 'Deferred tax assets:': {1: None, 2: None},\n",
       " 'Allowance for loan losses': {1: '880.3', 2: '979.3'},\n",
       " 'Cash flow hedge reserve': {1: '-', 2: '62.1'},\n",
       " 'Provisions (other than ECL provisions)': {1: '133.4', 2: '107.0'},\n",
       " 'Deferred loan origination expenses (net) and borrowing cost (EIR\\nmethod of accounting) and interest on stage 3 loans': {1: '110.2',\n",
       "  2: '6.0'},\n",
       " 'Total deferred tax asset': {1: '1,123.9', 2: '1,154.4'},\n",
       " 'Deferred tax liabilities:': {1: None, 2: None},\n",
       " 'Depreciation on property, plant and equipment': {1: '90.3', 2: '96.7'},\n",
       " 'Fair value changes in investments and derivatives': {1: '14.1', 2: '21.7'},\n",
       " 'Unrealised gains chargeable to tax on realisation basis': {1: '481.8',\n",
       "  2: '411.6'},\n",
       " 'Fair value changes on financial assets (loans)': {1: '1,103.0', 2: '608.6'},\n",
       " 'Total deferred tax liability': {1: '1,689.2', 2: '1,138.6'},\n",
       " 'Net deferred tax asset/(liability)': {1: '(565.3)', 2: '15.8'}}"
      ]
     },
     "execution_count": 36,
     "metadata": {},
     "output_type": "execute_result"
    }
   ],
   "source": [
    "df.drop_duplicates(0).set_index(0).to_dict('index')"
   ]
  },
  {
   "cell_type": "code",
   "execution_count": 2,
   "id": "d74e7598-4c9c-4745-996a-fec1fbb374d8",
   "metadata": {
    "tags": []
   },
   "outputs": [
    {
     "name": "stderr",
     "output_type": "stream",
     "text": [
      "/Users/ravi.tej/anaconda3/envs/bertopicenv/lib/python3.9/site-packages/torch/_utils.py:776: UserWarning: TypedStorage is deprecated. It will be removed in the future and UntypedStorage will be the only storage class. This should only matter to you if you are using storages directly.  To access UntypedStorage directly, use tensor.untyped_storage() instead of tensor.storage()\n",
      "  return self.fget.__get__(instance, owner)()\n"
     ]
    }
   ],
   "source": [
    "from src.FunctionCallingService import FunctionCallingService\n",
    "from src.PortfolioService import PortfolioService\n",
    "from sql.PostgresDatabaseOperation import PostgresDatabaseOperation\n",
    "from sql.PortfolioSQL import PortfolioSQL"
   ]
  },
  {
   "cell_type": "code",
   "execution_count": 5,
   "id": "52080f2b-3cc1-4005-94e0-48439fde0383",
   "metadata": {
    "tags": []
   },
   "outputs": [],
   "source": [
    "k = PortfolioService.get_current_portfolio_value(user_id=1)"
   ]
  },
  {
   "cell_type": "code",
   "execution_count": 6,
   "id": "58359fc8-bf6c-4579-b9f9-7cc76f2e785d",
   "metadata": {
    "tags": []
   },
   "outputs": [
    {
     "data": {
      "text/plain": [
       "[{'text_box': {'data': [{'value': 356400.65}],\n",
       "   'value_type': 'rupees',\n",
       "   'chart_title': 'Current Value'}},\n",
       " {'bar_chart': {'value_type': 'rupees',\n",
       "   'chart_title': 'Top Holdings by Current Value',\n",
       "   'data': [{'CUPID': 63875.0},\n",
       "    {'BSE': 42434.25},\n",
       "    {'MULTI COMMODITY EXCHANGE': 38182.5},\n",
       "    {'TATA MOTORS': 20370.0},\n",
       "    {'CENTRAL DEPO SER (I)': 20081.0},\n",
       "    {'ITC': 17204.0},\n",
       "    {'INDIAN RAIL TOUR CORP': 15864.75},\n",
       "    {'TATA POWER CO': 15730.2},\n",
       "    {'PIDILITE INDUSTRIES': 14929.25},\n",
       "    {'others': 107729.7}]}}]"
      ]
     },
     "execution_count": 6,
     "metadata": {},
     "output_type": "execute_result"
    }
   ],
   "source": [
    "k"
   ]
  },
  {
   "cell_type": "code",
   "execution_count": 5,
   "id": "a5b36c6e-9adc-43f8-9ff2-1b251e6ca882",
   "metadata": {
    "tags": []
   },
   "outputs": [
    {
     "data": {
      "text/plain": [
       "{'NSE:INFY': 1484.75}"
      ]
     },
     "execution_count": 5,
     "metadata": {},
     "output_type": "execute_result"
    }
   ],
   "source": [
    "PortfolioService.get_latest_prices_from_sql(['NSE:INFY'])"
   ]
  },
  {
   "cell_type": "code",
   "execution_count": 3,
   "id": "3ae49a97-86dc-443d-aee7-d6865a900866",
   "metadata": {
    "tags": []
   },
   "outputs": [],
   "source": [
    "import numpy as np"
   ]
  },
  {
   "cell_type": "code",
   "execution_count": 3,
   "id": "89c25e9f-0e82-4b47-9e75-72541ac599c6",
   "metadata": {
    "tags": []
   },
   "outputs": [
    {
     "name": "stdout",
     "output_type": "stream",
     "text": [
      "fetched the urls ['https://www.topstockresearch.com/rt/Stock/TCS/FundamentalAnalysis', 'https://www.researchgate.net/publication/344306045_Tata_Consultancy_Services_Ltd_Company_Analysis', 'https://www.moneycontrol.com/financials/tataconsultancyservices/ratiosVI/TCS', 'https://insider.finology.in/business/comparison-infosys-tcs', 'https://simplywall.st/stocks/in/software/nse-tcs/tata-consultancy-services-shares', 'https://www.alphaspread.com/security/nse/tcs/summary', 'https://www.icicidirect.com/research/equity/tata-consultancy-services-ltd/4661', 'https://www.marketscreener.com/quote/stock/TATA-CONSULTANCY-SERVICES-9743454/ratings/', 'https://investyadnya.in/stock-o-meter/tata-consultancy-services', 'https://chartink.com/fundamentals/TCS.html'] for the query do fundamental analysis for TCS\n",
      " Skipped Timeout URL https://www.researchgate.net/publication/344306045_Tata_Consultancy_Services_Ltd_Company_Analysis\n",
      "URL: https://chartink.com/fundamentals/TCS.html\n",
      "Time taken to parse an Article: 0.70034 seconds\n",
      "URL: https://www.icicidirect.com/research/equity/tata-consultancy-services-ltd/4661\n",
      "Time taken to parse an Article: 0.900629 seconds\n",
      "URL: https://www.topstockresearch.com/rt/Stock/TCS/FundamentalAnalysis\n",
      "Time taken to parse an Article: 0.934374 seconds\n",
      "URL: https://insider.finology.in/business/comparison-infosys-tcs\n",
      "Time taken to parse an Article: 1.098962 seconds\n",
      "URL: https://simplywall.st/stocks/in/software/nse-tcs/tata-consultancy-services-shares\n",
      "Time taken to parse an Article: 1.176644 seconds\n",
      "URL: https://investyadnya.in/stock-o-meter/tata-consultancy-services\n",
      "Time taken to parse an Article: 1.252572 seconds\n",
      "URL: https://www.moneycontrol.com/financials/tataconsultancyservices/ratiosVI/TCS\n",
      "Time taken to parse an Article: 1.280845 seconds\n",
      "URL: https://www.marketscreener.com/quote/stock/TATA-CONSULTANCY-SERVICES-9743454/ratings/\n",
      "Time taken to parse an Article: 1.623243 seconds\n",
      "URL: https://www.alphaspread.com/security/nse/tcs/summary\n",
      "Time taken to parse an Article: 1.895707 seconds\n",
      "Time taken to Complete Parsing all Articles Excluding Bing Search: 1.906061 seconds\n",
      "articles fetched from bing and cleaned for do fundamental analysis for TCS in 2.737135171890259 secs\n",
      "articles created in the backend for do fundamental analysis for TCS in 0.3568739891052246 secs\n"
     ]
    },
    {
     "data": {
      "text/plain": [
       "{'searchArticleIds': [{'article_id': '661e1b520abc8f1dad39ec1f'},\n",
       "  {'article_id': '661e1d5c0abc8f1dad39ec26'},\n",
       "  {'article_id': '661e1d5c0abc8f1dad39ec27'},\n",
       "  {'article_id': '661e1b520abc8f1dad39ec21'},\n",
       "  {'article_id': '661e1b520abc8f1dad39ec20'},\n",
       "  {'article_id': '661e1d5c0abc8f1dad39ec2a'},\n",
       "  {'article_id': '661e1b520abc8f1dad39ec24'},\n",
       "  {'article_id': '661e1d5c0abc8f1dad39ec2c'}],\n",
       " 'additionalInfo': {'query_understanding': {'model': 'gpt-4-0125-preview',\n",
       "   'prompt_tokens': 809,\n",
       "   'completion_tokens': 26,\n",
       "   'system_prompt': \"You are an expert financial analyst working for a leading indian fintech platform. User queries are either related to their own portfolio (eg. what is the total value of my portfolio or what are my most profitable holdings) or about general financial and business news (eg. how to save taxes or what is the performance of reliance over last 5 years). You extract the following attributes from a given user query. Today is “2024-03-15”. The platform has a database with the following data for user's own portfolio.\\n    user_portfolio: name, nseticker, holding_quantity, avg_buy_price, current_price\\n    Based on user's query we'll either run the function search_web_for_query, extract_portfolio_details, calc_growth_rate_for_user_portfolio_companies or get_share_price_history_for_companies\\n    If user asks for performance of specific companies, then use get_share_price_history_for_companies. However, if the user asks for anything which is more than share price of the company - like fundamental analysis, strengths, weaknesses, earning call results or any other complex queries which need other inputs then use search_web_for_query   \\n    respond only with the json with the above keys. don't answer the user query directly, but only extract the attributes\",\n",
       "   'user_prompt': {'query': 'user_query: do fundamental analysis for TCS',\n",
       "    'tools': [{'type': 'function',\n",
       "      'function': {'name': 'search_web_for_query',\n",
       "       'description': \"Search web for the user query. To be called when query is not related to analysis of user's own portfolio\",\n",
       "       'parameters': {'type': 'object',\n",
       "        'properties': {'financial_or_business_query': {'type': 'boolean',\n",
       "          'description': 'If the query is relevant for personal finance, markets of business related queries'},\n",
       "         'recency_importance': {'type': 'string',\n",
       "          'enum': ['high', 'medium'],\n",
       "          'description': 'How important is that only most recent articles are fetched. high for very volatile like latest stock prices, medium for slowly changing stuff like regulations or educational and guides'}},\n",
       "        'required': ['financial_or_business_query', 'recency_importance']}}},\n",
       "     {'type': 'function',\n",
       "      'function': {'name': 'extract_portfolio_snapshot_details',\n",
       "       'description': 'Extract details related to user portfolio snapshot - either current or invested',\n",
       "       'parameters': {'type': 'object',\n",
       "        'properties': {'aggregation_metric': {'type': 'string',\n",
       "          'enum': ['current_value',\n",
       "           'invested_value',\n",
       "           'profit',\n",
       "           'profit_percent'],\n",
       "          'description': 'Metric user is requesting for'},\n",
       "         'aggregation_level': {'type': 'string',\n",
       "          'enum': ['overall', 'company'],\n",
       "          'description': 'If the user is looking for overall stats or breaking down by company'},\n",
       "         'companies_mentioned': {'type': 'array',\n",
       "          'items': {'type': 'string'},\n",
       "          'minItems': 0,\n",
       "          'maxItems': 5,\n",
       "          'description': 'Array of company names mentioned in the user query'},\n",
       "         'sorting_order': {'type': 'string',\n",
       "          'enum': ['ascending', 'descending'],\n",
       "          'description': 'sorting order requested based on the aggregation_metric. For example user asks for least profitable or most loss making, then sorting order is ascending'}},\n",
       "        'required': ['aggregation_metric',\n",
       "         'aggregation_level',\n",
       "         'companies_mentioned',\n",
       "         'sorting_order']}}},\n",
       "     {'type': 'function',\n",
       "      'function': {'name': 'extract_portfolio_growth_details',\n",
       "       'description': 'Extract details related to growth rate of user portfolio over a period',\n",
       "       'parameters': {'type': 'object',\n",
       "        'properties': {'aggregation_metric': {'type': 'string',\n",
       "          'enum': ['growth', 'growth_over_index'],\n",
       "          'description': 'Metric user is requesting for. If user wants comparison with index, then its growth_over_index else its growth'},\n",
       "         'aggregation_level': {'type': 'string',\n",
       "          'enum': ['overall', 'company'],\n",
       "          'description': 'If the user is looking for overall stats or breaking down by company'},\n",
       "         'companies_mentioned': {'type': 'array',\n",
       "          'items': {'type': 'string'},\n",
       "          'minItems': 0,\n",
       "          'maxItems': 5,\n",
       "          'description': 'Array of company names mentioned in the user query'},\n",
       "         'sorting_order': {'type': 'string',\n",
       "          'enum': ['ascending', 'descending'],\n",
       "          'description': 'sorting order requested based on the aggregation_metric. For example user asks for least profitable or most loss making, then sorting order is ascending'},\n",
       "         'num_days': {'type': 'number',\n",
       "          'description': 'number of days for calculating growth. if nothing is provided, then default is 365 days'}},\n",
       "        'required': ['aggregation_metric',\n",
       "         'aggregation_level',\n",
       "         'companies_mentioned',\n",
       "         'sorting_order',\n",
       "         'num_days']}}},\n",
       "     {'type': 'function',\n",
       "      'function': {'name': 'get_share_price_history_for_companies',\n",
       "       'description': 'Get the latest and historic share prices for companies. If user does not mention company or asks for sensex or NSE, index or general market - then use NIFTY 50',\n",
       "       'parameters': {'type': 'object',\n",
       "        'properties': {'companies_mentioned': {'type': 'array',\n",
       "          'items': {'type': 'string'},\n",
       "          'minItems': 1,\n",
       "          'maxItems': 5,\n",
       "          'description': 'Array of company names mentioned in the user query'}},\n",
       "        'required': ['companies_mentioned']}}}]},\n",
       "   'evaluation': {'function': {'name': 'search_web_for_query',\n",
       "     'arguments': {'financial_or_business_query': True,\n",
       "      'recency_importance': 'medium'}}}}}}"
      ]
     },
     "execution_count": 3,
     "metadata": {},
     "output_type": "execute_result"
    }
   ],
   "source": [
    "FunctionCallingService.parse_details_from_gpt(query = 'do fundamental analysis for TCS', user_id=99)"
   ]
  },
  {
   "cell_type": "code",
   "execution_count": 6,
   "id": "cca276e9-0641-40d6-b972-03d77592ef30",
   "metadata": {
    "tags": []
   },
   "outputs": [],
   "source": [
    "index_investment_option = PortfolioSQL.get_instrument_token_for_nse_ticker('NIFTY 50')\n",
    "index_history = PortfolioSQL.get_investment_option_price_long_history([index_investment_option], num_days=180)"
   ]
  },
  {
   "cell_type": "code",
   "execution_count": 7,
   "id": "3ffa053c-9f45-44b9-9aa9-2907be7b2e99",
   "metadata": {
    "tags": []
   },
   "outputs": [
    {
     "data": {
      "text/html": [
       "<div>\n",
       "<style scoped>\n",
       "    .dataframe tbody tr th:only-of-type {\n",
       "        vertical-align: middle;\n",
       "    }\n",
       "\n",
       "    .dataframe tbody tr th {\n",
       "        vertical-align: top;\n",
       "    }\n",
       "\n",
       "    .dataframe thead th {\n",
       "        text-align: right;\n",
       "    }\n",
       "</style>\n",
       "<table border=\"1\" class=\"dataframe\">\n",
       "  <thead>\n",
       "    <tr style=\"text-align: right;\">\n",
       "      <th></th>\n",
       "      <th>investment_option_id</th>\n",
       "      <th>dt</th>\n",
       "      <th>price</th>\n",
       "    </tr>\n",
       "  </thead>\n",
       "  <tbody>\n",
       "  </tbody>\n",
       "</table>\n",
       "</div>"
      ],
      "text/plain": [
       "Empty DataFrame\n",
       "Columns: [investment_option_id, dt, price]\n",
       "Index: []"
      ]
     },
     "execution_count": 7,
     "metadata": {},
     "output_type": "execute_result"
    }
   ],
   "source": [
    "index_history"
   ]
  },
  {
   "cell_type": "code",
   "execution_count": 3,
   "id": "c3c57b31-c40a-482d-92b0-a499fa05f64f",
   "metadata": {
    "tags": []
   },
   "outputs": [],
   "source": [
    "a = PortfolioService.calc_growth_rate_for_user_portfolio_companies(user_id = 1, companies_list=[])"
   ]
  },
  {
   "cell_type": "code",
   "execution_count": 4,
   "id": "5979f3a4-1a55-416e-9fb9-37bd8aabd7a2",
   "metadata": {
    "tags": []
   },
   "outputs": [
    {
     "data": {
      "text/plain": [
       "[{'bar_chart': {'value_type': 'percent',\n",
       "   'chart_title': 'Top Holdings by Growth',\n",
       "   'data': [{'SAMVRDHNA MTHRSN INTL': -0.0124},\n",
       "    {'MTAR TECHNOLOGIES': 0.0},\n",
       "    {'NIP IND ETF GOLD BEES': 0.0},\n",
       "    {'ITC': 0.0},\n",
       "    {'MULTI COMMODITY EXCHANGE': 0.0},\n",
       "    {'TITAN COMPANY': 0.0},\n",
       "    {'PIDILITE INDUSTRIES': 0.0},\n",
       "    {'MOTHERSON SUMI WRNG IND L': 0.0},\n",
       "    {'ADANI WILMAR': 0.0},\n",
       "    {'NIP IND ETF LIQUID BEES': 0.0},\n",
       "    {'RESTAURANT BRAND ASIA': 0.0},\n",
       "    {'INDIAN ENERGY EXC': 0.0},\n",
       "    {'NIP IND ETF NIFTY BEES': 0.003},\n",
       "    {'CENTRAL DEPO SER (I)': 0.0041},\n",
       "    {'OIL AND NATURAL GAS CORP.': 0.007},\n",
       "    {'INDIAN RAIL TOUR CORP': 0.0084},\n",
       "    {'ZOMATO': 0.0185},\n",
       "    {'BSE': 0.0246},\n",
       "    {'VL E GOV AND IT SOL': 0.034},\n",
       "    {'VL E GOV AND IT SOL': 0.034},\n",
       "    {'CUPID': 0.0416},\n",
       "    {'CUPID': 0.0416}]}}]"
      ]
     },
     "execution_count": 4,
     "metadata": {},
     "output_type": "execute_result"
    }
   ],
   "source": [
    "a"
   ]
  },
  {
   "cell_type": "code",
   "execution_count": null,
   "id": "687e6199-9ea7-4e02-8e39-6fdfb209cbab",
   "metadata": {},
   "outputs": [],
   "source": []
  },
  {
   "cell_type": "code",
   "execution_count": 4,
   "id": "4c55581a-2fbc-49e6-b2c4-02a17262912e",
   "metadata": {
    "tags": []
   },
   "outputs": [
    {
     "data": {
      "text/html": [
       "<div>\n",
       "<style scoped>\n",
       "    .dataframe tbody tr th:only-of-type {\n",
       "        vertical-align: middle;\n",
       "    }\n",
       "\n",
       "    .dataframe tbody tr th {\n",
       "        vertical-align: top;\n",
       "    }\n",
       "\n",
       "    .dataframe thead th {\n",
       "        text-align: right;\n",
       "    }\n",
       "</style>\n",
       "<table border=\"1\" class=\"dataframe\">\n",
       "  <thead>\n",
       "    <tr style=\"text-align: right;\">\n",
       "      <th></th>\n",
       "      <th>investment_option_id</th>\n",
       "      <th>dt</th>\n",
       "      <th>price</th>\n",
       "      <th>user_id</th>\n",
       "      <th>name</th>\n",
       "      <th>ticker</th>\n",
       "      <th>kite_quotes_symbol</th>\n",
       "      <th>quantity</th>\n",
       "      <th>average_price</th>\n",
       "    </tr>\n",
       "  </thead>\n",
       "  <tbody>\n",
       "    <tr>\n",
       "      <th>0</th>\n",
       "      <td>362</td>\n",
       "      <td>2024-04-10</td>\n",
       "      <td>2869.00</td>\n",
       "      <td>1</td>\n",
       "      <td>BSE</td>\n",
       "      <td>BSE</td>\n",
       "      <td>NSE:BSE</td>\n",
       "      <td>15.0</td>\n",
       "      <td>613.7200</td>\n",
       "    </tr>\n",
       "    <tr>\n",
       "      <th>1</th>\n",
       "      <td>362</td>\n",
       "      <td>2024-04-08</td>\n",
       "      <td>2800.00</td>\n",
       "      <td>1</td>\n",
       "      <td>BSE</td>\n",
       "      <td>BSE</td>\n",
       "      <td>NSE:BSE</td>\n",
       "      <td>15.0</td>\n",
       "      <td>613.7200</td>\n",
       "    </tr>\n",
       "    <tr>\n",
       "      <th>2</th>\n",
       "      <td>694</td>\n",
       "      <td>2024-04-10</td>\n",
       "      <td>1022.95</td>\n",
       "      <td>1</td>\n",
       "      <td>INDIAN RAIL TOUR CORP</td>\n",
       "      <td>IRCTC</td>\n",
       "      <td>NSE:IRCTC</td>\n",
       "      <td>15.0</td>\n",
       "      <td>696.2700</td>\n",
       "    </tr>\n",
       "    <tr>\n",
       "      <th>3</th>\n",
       "      <td>694</td>\n",
       "      <td>2024-04-08</td>\n",
       "      <td>1014.45</td>\n",
       "      <td>1</td>\n",
       "      <td>INDIAN RAIL TOUR CORP</td>\n",
       "      <td>IRCTC</td>\n",
       "      <td>NSE:IRCTC</td>\n",
       "      <td>15.0</td>\n",
       "      <td>696.2700</td>\n",
       "    </tr>\n",
       "    <tr>\n",
       "      <th>4</th>\n",
       "      <td>1204</td>\n",
       "      <td>2024-04-10</td>\n",
       "      <td>70.00</td>\n",
       "      <td>1</td>\n",
       "      <td>VL E GOV AND IT SOL</td>\n",
       "      <td>VLEGOV</td>\n",
       "      <td>BSE:VLEGOV</td>\n",
       "      <td>11.0</td>\n",
       "      <td>413.1550</td>\n",
       "    </tr>\n",
       "    <tr>\n",
       "      <th>5</th>\n",
       "      <td>1204</td>\n",
       "      <td>2024-04-10</td>\n",
       "      <td>70.00</td>\n",
       "      <td>1</td>\n",
       "      <td>VL E GOV AND IT SOL</td>\n",
       "      <td>VLEGOV-BE</td>\n",
       "      <td>NSE:VLEGOV-BE</td>\n",
       "      <td>11.0</td>\n",
       "      <td>413.1550</td>\n",
       "    </tr>\n",
       "    <tr>\n",
       "      <th>6</th>\n",
       "      <td>1204</td>\n",
       "      <td>2024-04-08</td>\n",
       "      <td>67.70</td>\n",
       "      <td>1</td>\n",
       "      <td>VL E GOV AND IT SOL</td>\n",
       "      <td>VLEGOV</td>\n",
       "      <td>BSE:VLEGOV</td>\n",
       "      <td>11.0</td>\n",
       "      <td>413.1550</td>\n",
       "    </tr>\n",
       "    <tr>\n",
       "      <th>7</th>\n",
       "      <td>1204</td>\n",
       "      <td>2024-04-08</td>\n",
       "      <td>67.70</td>\n",
       "      <td>1</td>\n",
       "      <td>VL E GOV AND IT SOL</td>\n",
       "      <td>VLEGOV-BE</td>\n",
       "      <td>NSE:VLEGOV-BE</td>\n",
       "      <td>11.0</td>\n",
       "      <td>413.1550</td>\n",
       "    </tr>\n",
       "    <tr>\n",
       "      <th>8</th>\n",
       "      <td>1694</td>\n",
       "      <td>2024-04-10</td>\n",
       "      <td>3891.45</td>\n",
       "      <td>1</td>\n",
       "      <td>MULTI COMMODITY EXCHANGE</td>\n",
       "      <td>MCX</td>\n",
       "      <td>NSE:MCX</td>\n",
       "      <td>10.0</td>\n",
       "      <td>1394.4300</td>\n",
       "    </tr>\n",
       "    <tr>\n",
       "      <th>9</th>\n",
       "      <td>1853</td>\n",
       "      <td>2024-04-10</td>\n",
       "      <td>251.56</td>\n",
       "      <td>1</td>\n",
       "      <td>NIP IND ETF NIFTY BEES</td>\n",
       "      <td>NIFTYBEES</td>\n",
       "      <td>NSE:NIFTYBEES</td>\n",
       "      <td>24.0</td>\n",
       "      <td>194.6900</td>\n",
       "    </tr>\n",
       "    <tr>\n",
       "      <th>10</th>\n",
       "      <td>1853</td>\n",
       "      <td>2024-04-08</td>\n",
       "      <td>250.81</td>\n",
       "      <td>1</td>\n",
       "      <td>NIP IND ETF NIFTY BEES</td>\n",
       "      <td>NIFTYBEES</td>\n",
       "      <td>NSE:NIFTYBEES</td>\n",
       "      <td>24.0</td>\n",
       "      <td>194.6900</td>\n",
       "    </tr>\n",
       "    <tr>\n",
       "      <th>11</th>\n",
       "      <td>2151</td>\n",
       "      <td>2024-04-08</td>\n",
       "      <td>3748.00</td>\n",
       "      <td>1</td>\n",
       "      <td>TITAN COMPANY</td>\n",
       "      <td>TITAN</td>\n",
       "      <td>NSE:TITAN</td>\n",
       "      <td>4.0</td>\n",
       "      <td>2532.6200</td>\n",
       "    </tr>\n",
       "    <tr>\n",
       "      <th>12</th>\n",
       "      <td>2553</td>\n",
       "      <td>2024-04-08</td>\n",
       "      <td>3040.35</td>\n",
       "      <td>1</td>\n",
       "      <td>PIDILITE INDUSTRIES</td>\n",
       "      <td>PIDILITIND</td>\n",
       "      <td>NSE:PIDILITIND</td>\n",
       "      <td>5.0</td>\n",
       "      <td>2539.4700</td>\n",
       "    </tr>\n",
       "    <tr>\n",
       "      <th>13</th>\n",
       "      <td>3056</td>\n",
       "      <td>2024-04-08</td>\n",
       "      <td>69.95</td>\n",
       "      <td>1</td>\n",
       "      <td>MOTHERSON SUMI WRNG IND L</td>\n",
       "      <td>MSUMI</td>\n",
       "      <td>NSE:MSUMI</td>\n",
       "      <td>14.0</td>\n",
       "      <td>16.3008</td>\n",
       "    </tr>\n",
       "    <tr>\n",
       "      <th>14</th>\n",
       "      <td>3955</td>\n",
       "      <td>2024-04-10</td>\n",
       "      <td>119.15</td>\n",
       "      <td>1</td>\n",
       "      <td>SAMVRDHNA MTHRSN INTL</td>\n",
       "      <td>MOTHERSON</td>\n",
       "      <td>NSE:MOTHERSON</td>\n",
       "      <td>15.0</td>\n",
       "      <td>129.2690</td>\n",
       "    </tr>\n",
       "    <tr>\n",
       "      <th>15</th>\n",
       "      <td>3955</td>\n",
       "      <td>2024-04-08</td>\n",
       "      <td>120.65</td>\n",
       "      <td>1</td>\n",
       "      <td>SAMVRDHNA MTHRSN INTL</td>\n",
       "      <td>MOTHERSON</td>\n",
       "      <td>NSE:MOTHERSON</td>\n",
       "      <td>15.0</td>\n",
       "      <td>129.2690</td>\n",
       "    </tr>\n",
       "    <tr>\n",
       "      <th>16</th>\n",
       "      <td>4005</td>\n",
       "      <td>2024-04-10</td>\n",
       "      <td>272.10</td>\n",
       "      <td>1</td>\n",
       "      <td>OIL AND NATURAL GAS CORP.</td>\n",
       "      <td>ONGC</td>\n",
       "      <td>NSE:ONGC</td>\n",
       "      <td>52.0</td>\n",
       "      <td>149.5120</td>\n",
       "    </tr>\n",
       "    <tr>\n",
       "      <th>17</th>\n",
       "      <td>4005</td>\n",
       "      <td>2024-04-08</td>\n",
       "      <td>270.20</td>\n",
       "      <td>1</td>\n",
       "      <td>OIL AND NATURAL GAS CORP.</td>\n",
       "      <td>ONGC</td>\n",
       "      <td>NSE:ONGC</td>\n",
       "      <td>52.0</td>\n",
       "      <td>149.5120</td>\n",
       "    </tr>\n",
       "    <tr>\n",
       "      <th>18</th>\n",
       "      <td>4051</td>\n",
       "      <td>2024-04-10</td>\n",
       "      <td>999.99</td>\n",
       "      <td>1</td>\n",
       "      <td>NIP IND ETF LIQUID BEES</td>\n",
       "      <td>LIQUIDBEES</td>\n",
       "      <td>NSE:LIQUIDBEES</td>\n",
       "      <td>8.0</td>\n",
       "      <td>1000.0100</td>\n",
       "    </tr>\n",
       "    <tr>\n",
       "      <th>19</th>\n",
       "      <td>4051</td>\n",
       "      <td>2024-04-08</td>\n",
       "      <td>999.99</td>\n",
       "      <td>1</td>\n",
       "      <td>NIP IND ETF LIQUID BEES</td>\n",
       "      <td>LIQUIDBEES</td>\n",
       "      <td>NSE:LIQUIDBEES</td>\n",
       "      <td>8.0</td>\n",
       "      <td>1000.0100</td>\n",
       "    </tr>\n",
       "    <tr>\n",
       "      <th>20</th>\n",
       "      <td>4537</td>\n",
       "      <td>2024-04-10</td>\n",
       "      <td>195.80</td>\n",
       "      <td>1</td>\n",
       "      <td>ZOMATO</td>\n",
       "      <td>ZOMATO</td>\n",
       "      <td>NSE:ZOMATO</td>\n",
       "      <td>44.0</td>\n",
       "      <td>128.1680</td>\n",
       "    </tr>\n",
       "    <tr>\n",
       "      <th>21</th>\n",
       "      <td>4537</td>\n",
       "      <td>2024-04-08</td>\n",
       "      <td>192.25</td>\n",
       "      <td>1</td>\n",
       "      <td>ZOMATO</td>\n",
       "      <td>ZOMATO</td>\n",
       "      <td>NSE:ZOMATO</td>\n",
       "      <td>44.0</td>\n",
       "      <td>128.1680</td>\n",
       "    </tr>\n",
       "    <tr>\n",
       "      <th>22</th>\n",
       "      <td>4694</td>\n",
       "      <td>2024-04-10</td>\n",
       "      <td>150.45</td>\n",
       "      <td>1</td>\n",
       "      <td>INDIAN ENERGY EXC</td>\n",
       "      <td>IEX</td>\n",
       "      <td>NSE:IEX</td>\n",
       "      <td>60.0</td>\n",
       "      <td>157.8800</td>\n",
       "    </tr>\n",
       "    <tr>\n",
       "      <th>23</th>\n",
       "      <td>4904</td>\n",
       "      <td>2024-04-10</td>\n",
       "      <td>100.00</td>\n",
       "      <td>1</td>\n",
       "      <td>RESTAURANT BRAND ASIA</td>\n",
       "      <td>RBA</td>\n",
       "      <td>NSE:RBA</td>\n",
       "      <td>13.0</td>\n",
       "      <td>145.8000</td>\n",
       "    </tr>\n",
       "    <tr>\n",
       "      <th>24</th>\n",
       "      <td>4989</td>\n",
       "      <td>2024-04-08</td>\n",
       "      <td>429.35</td>\n",
       "      <td>1</td>\n",
       "      <td>ITC</td>\n",
       "      <td>ITC</td>\n",
       "      <td>NSE:ITC</td>\n",
       "      <td>40.0</td>\n",
       "      <td>348.5600</td>\n",
       "    </tr>\n",
       "    <tr>\n",
       "      <th>25</th>\n",
       "      <td>5019</td>\n",
       "      <td>2024-04-10</td>\n",
       "      <td>60.62</td>\n",
       "      <td>1</td>\n",
       "      <td>NIP IND ETF GOLD BEES</td>\n",
       "      <td>GOLDBEES</td>\n",
       "      <td>NSE:GOLDBEES</td>\n",
       "      <td>204.0</td>\n",
       "      <td>46.1866</td>\n",
       "    </tr>\n",
       "    <tr>\n",
       "      <th>26</th>\n",
       "      <td>5365</td>\n",
       "      <td>2024-04-10</td>\n",
       "      <td>1882.70</td>\n",
       "      <td>1</td>\n",
       "      <td>CENTRAL DEPO SER (I)</td>\n",
       "      <td>CDSL</td>\n",
       "      <td>NSE:CDSL</td>\n",
       "      <td>10.0</td>\n",
       "      <td>1187.2600</td>\n",
       "    </tr>\n",
       "    <tr>\n",
       "      <th>27</th>\n",
       "      <td>5365</td>\n",
       "      <td>2024-04-08</td>\n",
       "      <td>1875.10</td>\n",
       "      <td>1</td>\n",
       "      <td>CENTRAL DEPO SER (I)</td>\n",
       "      <td>CDSL</td>\n",
       "      <td>NSE:CDSL</td>\n",
       "      <td>10.0</td>\n",
       "      <td>1187.2600</td>\n",
       "    </tr>\n",
       "    <tr>\n",
       "      <th>28</th>\n",
       "      <td>5429</td>\n",
       "      <td>2024-04-10</td>\n",
       "      <td>350.50</td>\n",
       "      <td>1</td>\n",
       "      <td>ADANI WILMAR</td>\n",
       "      <td>AWL</td>\n",
       "      <td>NSE:AWL</td>\n",
       "      <td>12.0</td>\n",
       "      <td>598.3750</td>\n",
       "    </tr>\n",
       "    <tr>\n",
       "      <th>29</th>\n",
       "      <td>5552</td>\n",
       "      <td>2024-04-10</td>\n",
       "      <td>1882.00</td>\n",
       "      <td>1</td>\n",
       "      <td>MTAR TECHNOLOGIES</td>\n",
       "      <td>MTARTECH</td>\n",
       "      <td>NSE:MTARTECH</td>\n",
       "      <td>5.0</td>\n",
       "      <td>1626.6000</td>\n",
       "    </tr>\n",
       "    <tr>\n",
       "      <th>30</th>\n",
       "      <td>4980</td>\n",
       "      <td>2024-04-10</td>\n",
       "      <td>133.95</td>\n",
       "      <td>1</td>\n",
       "      <td>CUPID</td>\n",
       "      <td>CUPID</td>\n",
       "      <td>BSE:CUPID</td>\n",
       "      <td>500.0</td>\n",
       "      <td>23.9270</td>\n",
       "    </tr>\n",
       "    <tr>\n",
       "      <th>31</th>\n",
       "      <td>4980</td>\n",
       "      <td>2024-04-10</td>\n",
       "      <td>133.95</td>\n",
       "      <td>1</td>\n",
       "      <td>CUPID</td>\n",
       "      <td>CUPID-BE</td>\n",
       "      <td>NSE:CUPID-BE</td>\n",
       "      <td>500.0</td>\n",
       "      <td>23.9270</td>\n",
       "    </tr>\n",
       "    <tr>\n",
       "      <th>32</th>\n",
       "      <td>4980</td>\n",
       "      <td>2024-04-08</td>\n",
       "      <td>128.60</td>\n",
       "      <td>1</td>\n",
       "      <td>CUPID</td>\n",
       "      <td>CUPID</td>\n",
       "      <td>BSE:CUPID</td>\n",
       "      <td>500.0</td>\n",
       "      <td>23.9270</td>\n",
       "    </tr>\n",
       "    <tr>\n",
       "      <th>33</th>\n",
       "      <td>4980</td>\n",
       "      <td>2024-04-08</td>\n",
       "      <td>128.60</td>\n",
       "      <td>1</td>\n",
       "      <td>CUPID</td>\n",
       "      <td>CUPID-BE</td>\n",
       "      <td>NSE:CUPID-BE</td>\n",
       "      <td>500.0</td>\n",
       "      <td>23.9270</td>\n",
       "    </tr>\n",
       "  </tbody>\n",
       "</table>\n",
       "</div>"
      ],
      "text/plain": [
       "    investment_option_id          dt    price  user_id  \\\n",
       "0                    362  2024-04-10  2869.00        1   \n",
       "1                    362  2024-04-08  2800.00        1   \n",
       "2                    694  2024-04-10  1022.95        1   \n",
       "3                    694  2024-04-08  1014.45        1   \n",
       "4                   1204  2024-04-10    70.00        1   \n",
       "5                   1204  2024-04-10    70.00        1   \n",
       "6                   1204  2024-04-08    67.70        1   \n",
       "7                   1204  2024-04-08    67.70        1   \n",
       "8                   1694  2024-04-10  3891.45        1   \n",
       "9                   1853  2024-04-10   251.56        1   \n",
       "10                  1853  2024-04-08   250.81        1   \n",
       "11                  2151  2024-04-08  3748.00        1   \n",
       "12                  2553  2024-04-08  3040.35        1   \n",
       "13                  3056  2024-04-08    69.95        1   \n",
       "14                  3955  2024-04-10   119.15        1   \n",
       "15                  3955  2024-04-08   120.65        1   \n",
       "16                  4005  2024-04-10   272.10        1   \n",
       "17                  4005  2024-04-08   270.20        1   \n",
       "18                  4051  2024-04-10   999.99        1   \n",
       "19                  4051  2024-04-08   999.99        1   \n",
       "20                  4537  2024-04-10   195.80        1   \n",
       "21                  4537  2024-04-08   192.25        1   \n",
       "22                  4694  2024-04-10   150.45        1   \n",
       "23                  4904  2024-04-10   100.00        1   \n",
       "24                  4989  2024-04-08   429.35        1   \n",
       "25                  5019  2024-04-10    60.62        1   \n",
       "26                  5365  2024-04-10  1882.70        1   \n",
       "27                  5365  2024-04-08  1875.10        1   \n",
       "28                  5429  2024-04-10   350.50        1   \n",
       "29                  5552  2024-04-10  1882.00        1   \n",
       "30                  4980  2024-04-10   133.95        1   \n",
       "31                  4980  2024-04-10   133.95        1   \n",
       "32                  4980  2024-04-08   128.60        1   \n",
       "33                  4980  2024-04-08   128.60        1   \n",
       "\n",
       "                         name      ticker kite_quotes_symbol  quantity  \\\n",
       "0                         BSE         BSE            NSE:BSE      15.0   \n",
       "1                         BSE         BSE            NSE:BSE      15.0   \n",
       "2       INDIAN RAIL TOUR CORP       IRCTC          NSE:IRCTC      15.0   \n",
       "3       INDIAN RAIL TOUR CORP       IRCTC          NSE:IRCTC      15.0   \n",
       "4         VL E GOV AND IT SOL      VLEGOV         BSE:VLEGOV      11.0   \n",
       "5         VL E GOV AND IT SOL   VLEGOV-BE      NSE:VLEGOV-BE      11.0   \n",
       "6         VL E GOV AND IT SOL      VLEGOV         BSE:VLEGOV      11.0   \n",
       "7         VL E GOV AND IT SOL   VLEGOV-BE      NSE:VLEGOV-BE      11.0   \n",
       "8    MULTI COMMODITY EXCHANGE         MCX            NSE:MCX      10.0   \n",
       "9      NIP IND ETF NIFTY BEES   NIFTYBEES      NSE:NIFTYBEES      24.0   \n",
       "10     NIP IND ETF NIFTY BEES   NIFTYBEES      NSE:NIFTYBEES      24.0   \n",
       "11              TITAN COMPANY       TITAN          NSE:TITAN       4.0   \n",
       "12        PIDILITE INDUSTRIES  PIDILITIND     NSE:PIDILITIND       5.0   \n",
       "13  MOTHERSON SUMI WRNG IND L       MSUMI          NSE:MSUMI      14.0   \n",
       "14      SAMVRDHNA MTHRSN INTL   MOTHERSON      NSE:MOTHERSON      15.0   \n",
       "15      SAMVRDHNA MTHRSN INTL   MOTHERSON      NSE:MOTHERSON      15.0   \n",
       "16  OIL AND NATURAL GAS CORP.        ONGC           NSE:ONGC      52.0   \n",
       "17  OIL AND NATURAL GAS CORP.        ONGC           NSE:ONGC      52.0   \n",
       "18    NIP IND ETF LIQUID BEES  LIQUIDBEES     NSE:LIQUIDBEES       8.0   \n",
       "19    NIP IND ETF LIQUID BEES  LIQUIDBEES     NSE:LIQUIDBEES       8.0   \n",
       "20                     ZOMATO      ZOMATO         NSE:ZOMATO      44.0   \n",
       "21                     ZOMATO      ZOMATO         NSE:ZOMATO      44.0   \n",
       "22          INDIAN ENERGY EXC         IEX            NSE:IEX      60.0   \n",
       "23      RESTAURANT BRAND ASIA         RBA            NSE:RBA      13.0   \n",
       "24                        ITC         ITC            NSE:ITC      40.0   \n",
       "25      NIP IND ETF GOLD BEES    GOLDBEES       NSE:GOLDBEES     204.0   \n",
       "26       CENTRAL DEPO SER (I)        CDSL           NSE:CDSL      10.0   \n",
       "27       CENTRAL DEPO SER (I)        CDSL           NSE:CDSL      10.0   \n",
       "28               ADANI WILMAR         AWL            NSE:AWL      12.0   \n",
       "29          MTAR TECHNOLOGIES    MTARTECH       NSE:MTARTECH       5.0   \n",
       "30                      CUPID       CUPID          BSE:CUPID     500.0   \n",
       "31                      CUPID    CUPID-BE       NSE:CUPID-BE     500.0   \n",
       "32                      CUPID       CUPID          BSE:CUPID     500.0   \n",
       "33                      CUPID    CUPID-BE       NSE:CUPID-BE     500.0   \n",
       "\n",
       "    average_price  \n",
       "0        613.7200  \n",
       "1        613.7200  \n",
       "2        696.2700  \n",
       "3        696.2700  \n",
       "4        413.1550  \n",
       "5        413.1550  \n",
       "6        413.1550  \n",
       "7        413.1550  \n",
       "8       1394.4300  \n",
       "9        194.6900  \n",
       "10       194.6900  \n",
       "11      2532.6200  \n",
       "12      2539.4700  \n",
       "13        16.3008  \n",
       "14       129.2690  \n",
       "15       129.2690  \n",
       "16       149.5120  \n",
       "17       149.5120  \n",
       "18      1000.0100  \n",
       "19      1000.0100  \n",
       "20       128.1680  \n",
       "21       128.1680  \n",
       "22       157.8800  \n",
       "23       145.8000  \n",
       "24       348.5600  \n",
       "25        46.1866  \n",
       "26      1187.2600  \n",
       "27      1187.2600  \n",
       "28       598.3750  \n",
       "29      1626.6000  \n",
       "30        23.9270  \n",
       "31        23.9270  \n",
       "32        23.9270  \n",
       "33        23.9270  "
      ]
     },
     "execution_count": 4,
     "metadata": {},
     "output_type": "execute_result"
    }
   ],
   "source": [
    "a['starting_value'] = a['']"
   ]
  },
  {
   "cell_type": "code",
   "execution_count": 7,
   "id": "47f6974e-f41d-4ab5-9d4f-28a51b49de7e",
   "metadata": {
    "tags": []
   },
   "outputs": [
    {
     "data": {
      "text/plain": [
       "0.1379"
      ]
     },
     "execution_count": 7,
     "metadata": {},
     "output_type": "execute_result"
    }
   ],
   "source": [
    "b.iloc[0]['growth']"
   ]
  },
  {
   "cell_type": "code",
   "execution_count": 11,
   "id": "ee2776f5-f3b0-4b62-99ac-3ecb392c7ab5",
   "metadata": {
    "tags": []
   },
   "outputs": [],
   "source": [
    "a = PortfolioSQL.get_user_current_holdings(1)"
   ]
  },
  {
   "cell_type": "code",
   "execution_count": null,
   "id": "cb3eccd0-ee86-490d-af49-d216235a5ae8",
   "metadata": {},
   "outputs": [],
   "source": [
    "d = portfolio_df[['name', 'ticker']].set_index('name').to_dict('index')"
   ]
  },
  {
   "cell_type": "code",
   "execution_count": 3,
   "id": "953442d9-fd93-49e3-abcf-8d960f368814",
   "metadata": {
    "tags": []
   },
   "outputs": [
    {
     "ename": "NameError",
     "evalue": "name 'a' is not defined",
     "output_type": "error",
     "traceback": [
      "\u001b[0;31m---------------------------------------------------------------------------\u001b[0m",
      "\u001b[0;31mNameError\u001b[0m                                 Traceback (most recent call last)",
      "Cell \u001b[0;32mIn[3], line 1\u001b[0m\n\u001b[0;32m----> 1\u001b[0m PortfolioService\u001b[38;5;241m.\u001b[39mfilter_portfolio_by_names_list(companies_list\u001b[38;5;241m=\u001b[39m[\u001b[38;5;124m'\u001b[39m\u001b[38;5;124mtata\u001b[39m\u001b[38;5;124m'\u001b[39m], portfolio_df\u001b[38;5;241m=\u001b[39m\u001b[43ma\u001b[49m)\n",
      "\u001b[0;31mNameError\u001b[0m: name 'a' is not defined"
     ]
    }
   ],
   "source": [
    "PortfolioService.filter_portfolio_by_names_list(companies_list=['tata'], portfolio_df=a)"
   ]
  },
  {
   "cell_type": "code",
   "execution_count": null,
   "id": "8f93a1b5-0485-4b03-bdaa-be1160463e06",
   "metadata": {},
   "outputs": [],
   "source": [
    "PortfolioService.get_u"
   ]
  },
  {
   "cell_type": "code",
   "execution_count": 3,
   "id": "070de340-f7f7-4482-b92d-923d82f2648b",
   "metadata": {
    "tags": []
   },
   "outputs": [],
   "source": [
    "k = PortfolioService.calc_growth_rate_for_user_portfolio_companies(user_id = 1, companies_list=[])"
   ]
  },
  {
   "cell_type": "code",
   "execution_count": 4,
   "id": "9f3dfd0a-ee32-4ba9-9801-1c13ba4ce489",
   "metadata": {
    "tags": []
   },
   "outputs": [
    {
     "data": {
      "text/html": [
       "<div>\n",
       "<style scoped>\n",
       "    .dataframe tbody tr th:only-of-type {\n",
       "        vertical-align: middle;\n",
       "    }\n",
       "\n",
       "    .dataframe tbody tr th {\n",
       "        vertical-align: top;\n",
       "    }\n",
       "\n",
       "    .dataframe thead th {\n",
       "        text-align: right;\n",
       "    }\n",
       "</style>\n",
       "<table border=\"1\" class=\"dataframe\">\n",
       "  <thead>\n",
       "    <tr style=\"text-align: right;\">\n",
       "      <th></th>\n",
       "      <th>investment_option_id</th>\n",
       "      <th>min_date_price</th>\n",
       "      <th>max_date_price</th>\n",
       "      <th>growth</th>\n",
       "      <th>annualized_growth</th>\n",
       "      <th>user_id</th>\n",
       "      <th>name</th>\n",
       "      <th>ticker</th>\n",
       "      <th>kite_quotes_symbol</th>\n",
       "      <th>quantity</th>\n",
       "      <th>average_price</th>\n",
       "    </tr>\n",
       "  </thead>\n",
       "  <tbody>\n",
       "    <tr>\n",
       "      <th>0</th>\n",
       "      <td>362</td>\n",
       "      <td>1481.00</td>\n",
       "      <td>2800.00</td>\n",
       "      <td>0.8906</td>\n",
       "      <td>2.638167</td>\n",
       "      <td>1</td>\n",
       "      <td>BSE</td>\n",
       "      <td>BSE</td>\n",
       "      <td>NSE:BSE</td>\n",
       "      <td>15.0</td>\n",
       "      <td>613.7200</td>\n",
       "    </tr>\n",
       "    <tr>\n",
       "      <th>1</th>\n",
       "      <td>694</td>\n",
       "      <td>703.35</td>\n",
       "      <td>1014.45</td>\n",
       "      <td>0.4423</td>\n",
       "      <td>1.101500</td>\n",
       "      <td>1</td>\n",
       "      <td>INDIAN RAIL TOUR CORP</td>\n",
       "      <td>IRCTC</td>\n",
       "      <td>NSE:IRCTC</td>\n",
       "      <td>15.0</td>\n",
       "      <td>696.2700</td>\n",
       "    </tr>\n",
       "    <tr>\n",
       "      <th>2</th>\n",
       "      <td>880</td>\n",
       "      <td>666.20</td>\n",
       "      <td>1013.35</td>\n",
       "      <td>0.5211</td>\n",
       "      <td>1.340860</td>\n",
       "      <td>1</td>\n",
       "      <td>TATA MOTORS</td>\n",
       "      <td>TATAMOTORS</td>\n",
       "      <td>NSE:TATAMOTORS</td>\n",
       "      <td>20.0</td>\n",
       "      <td>441.8880</td>\n",
       "    </tr>\n",
       "    <tr>\n",
       "      <th>3</th>\n",
       "      <td>1032</td>\n",
       "      <td>2074.20</td>\n",
       "      <td>2782.60</td>\n",
       "      <td>0.3415</td>\n",
       "      <td>0.814369</td>\n",
       "      <td>1</td>\n",
       "      <td>COLGATE PALMOLIVE.</td>\n",
       "      <td>COLPAL</td>\n",
       "      <td>NSE:COLPAL</td>\n",
       "      <td>4.0</td>\n",
       "      <td>1576.3000</td>\n",
       "    </tr>\n",
       "    <tr>\n",
       "      <th>4</th>\n",
       "      <td>1104</td>\n",
       "      <td>254.80</td>\n",
       "      <td>408.80</td>\n",
       "      <td>0.6044</td>\n",
       "      <td>1.608125</td>\n",
       "      <td>1</td>\n",
       "      <td>TATA POWER CO</td>\n",
       "      <td>TATAPOWER</td>\n",
       "      <td>NSE:TATAPOWER</td>\n",
       "      <td>36.0</td>\n",
       "      <td>224.8250</td>\n",
       "    </tr>\n",
       "    <tr>\n",
       "      <th>5</th>\n",
       "      <td>1204</td>\n",
       "      <td>33.20</td>\n",
       "      <td>67.70</td>\n",
       "      <td>1.0392</td>\n",
       "      <td>3.241464</td>\n",
       "      <td>1</td>\n",
       "      <td>VL E GOV AND IT SOL</td>\n",
       "      <td>VLEGOV</td>\n",
       "      <td>BSE:VLEGOV</td>\n",
       "      <td>11.0</td>\n",
       "      <td>413.1550</td>\n",
       "    </tr>\n",
       "    <tr>\n",
       "      <th>6</th>\n",
       "      <td>1204</td>\n",
       "      <td>33.20</td>\n",
       "      <td>67.70</td>\n",
       "      <td>1.0392</td>\n",
       "      <td>3.241464</td>\n",
       "      <td>1</td>\n",
       "      <td>VL E GOV AND IT SOL</td>\n",
       "      <td>VLEGOV-BE</td>\n",
       "      <td>NSE:VLEGOV-BE</td>\n",
       "      <td>11.0</td>\n",
       "      <td>413.1550</td>\n",
       "    </tr>\n",
       "    <tr>\n",
       "      <th>7</th>\n",
       "      <td>1694</td>\n",
       "      <td>2197.15</td>\n",
       "      <td>3575.90</td>\n",
       "      <td>0.6275</td>\n",
       "      <td>1.684835</td>\n",
       "      <td>1</td>\n",
       "      <td>MULTI COMMODITY EXCHANGE</td>\n",
       "      <td>MCX</td>\n",
       "      <td>NSE:MCX</td>\n",
       "      <td>10.0</td>\n",
       "      <td>1394.4300</td>\n",
       "    </tr>\n",
       "    <tr>\n",
       "      <th>8</th>\n",
       "      <td>1853</td>\n",
       "      <td>217.90</td>\n",
       "      <td>250.81</td>\n",
       "      <td>0.1510</td>\n",
       "      <td>0.329986</td>\n",
       "      <td>1</td>\n",
       "      <td>NIP IND ETF NIFTY BEES</td>\n",
       "      <td>NIFTYBEES</td>\n",
       "      <td>NSE:NIFTYBEES</td>\n",
       "      <td>24.0</td>\n",
       "      <td>194.6900</td>\n",
       "    </tr>\n",
       "    <tr>\n",
       "      <th>9</th>\n",
       "      <td>2151</td>\n",
       "      <td>3301.40</td>\n",
       "      <td>3755.95</td>\n",
       "      <td>0.1377</td>\n",
       "      <td>0.299008</td>\n",
       "      <td>1</td>\n",
       "      <td>TITAN COMPANY</td>\n",
       "      <td>TITAN</td>\n",
       "      <td>NSE:TITAN</td>\n",
       "      <td>4.0</td>\n",
       "      <td>2532.6200</td>\n",
       "    </tr>\n",
       "    <tr>\n",
       "      <th>10</th>\n",
       "      <td>2553</td>\n",
       "      <td>2434.60</td>\n",
       "      <td>2999.75</td>\n",
       "      <td>0.2321</td>\n",
       "      <td>0.526897</td>\n",
       "      <td>1</td>\n",
       "      <td>PIDILITE INDUSTRIES</td>\n",
       "      <td>PIDILITIND</td>\n",
       "      <td>NSE:PIDILITIND</td>\n",
       "      <td>5.0</td>\n",
       "      <td>2539.4700</td>\n",
       "    </tr>\n",
       "    <tr>\n",
       "      <th>11</th>\n",
       "      <td>3056</td>\n",
       "      <td>62.75</td>\n",
       "      <td>68.55</td>\n",
       "      <td>0.0924</td>\n",
       "      <td>0.196271</td>\n",
       "      <td>1</td>\n",
       "      <td>MOTHERSON SUMI WRNG IND L</td>\n",
       "      <td>MSUMI</td>\n",
       "      <td>NSE:MSUMI</td>\n",
       "      <td>14.0</td>\n",
       "      <td>16.3008</td>\n",
       "    </tr>\n",
       "    <tr>\n",
       "      <th>12</th>\n",
       "      <td>3519</td>\n",
       "      <td>480.92</td>\n",
       "      <td>669.70</td>\n",
       "      <td>0.3925</td>\n",
       "      <td>0.956972</td>\n",
       "      <td>1</td>\n",
       "      <td>NIP IND ETF JUNIOR BEES</td>\n",
       "      <td>JUNIORBEES</td>\n",
       "      <td>NSE:JUNIORBEES</td>\n",
       "      <td>7.0</td>\n",
       "      <td>433.9470</td>\n",
       "    </tr>\n",
       "    <tr>\n",
       "      <th>13</th>\n",
       "      <td>4005</td>\n",
       "      <td>180.80</td>\n",
       "      <td>270.20</td>\n",
       "      <td>0.4945</td>\n",
       "      <td>1.258598</td>\n",
       "      <td>1</td>\n",
       "      <td>OIL AND NATURAL GAS CORP.</td>\n",
       "      <td>ONGC</td>\n",
       "      <td>NSE:ONGC</td>\n",
       "      <td>52.0</td>\n",
       "      <td>149.5120</td>\n",
       "    </tr>\n",
       "    <tr>\n",
       "      <th>14</th>\n",
       "      <td>4051</td>\n",
       "      <td>1000.00</td>\n",
       "      <td>1000.00</td>\n",
       "      <td>0.0000</td>\n",
       "      <td>0.000000</td>\n",
       "      <td>1</td>\n",
       "      <td>NIP IND ETF LIQUID BEES</td>\n",
       "      <td>LIQUIDBEES</td>\n",
       "      <td>NSE:LIQUIDBEES</td>\n",
       "      <td>8.0</td>\n",
       "      <td>1000.0100</td>\n",
       "    </tr>\n",
       "    <tr>\n",
       "      <th>15</th>\n",
       "      <td>4447</td>\n",
       "      <td>374.30</td>\n",
       "      <td>328.05</td>\n",
       "      <td>-0.1236</td>\n",
       "      <td>-0.234733</td>\n",
       "      <td>1</td>\n",
       "      <td>GREENPANEL INDUSTRIES</td>\n",
       "      <td>GREENPANEL</td>\n",
       "      <td>NSE:GREENPANEL</td>\n",
       "      <td>5.0</td>\n",
       "      <td>429.5000</td>\n",
       "    </tr>\n",
       "    <tr>\n",
       "      <th>16</th>\n",
       "      <td>4537</td>\n",
       "      <td>111.50</td>\n",
       "      <td>192.25</td>\n",
       "      <td>0.7242</td>\n",
       "      <td>2.018194</td>\n",
       "      <td>1</td>\n",
       "      <td>ZOMATO</td>\n",
       "      <td>ZOMATO</td>\n",
       "      <td>NSE:ZOMATO</td>\n",
       "      <td>44.0</td>\n",
       "      <td>128.1680</td>\n",
       "    </tr>\n",
       "    <tr>\n",
       "      <th>17</th>\n",
       "      <td>4694</td>\n",
       "      <td>135.10</td>\n",
       "      <td>142.40</td>\n",
       "      <td>0.0540</td>\n",
       "      <td>0.112540</td>\n",
       "      <td>1</td>\n",
       "      <td>INDIAN ENERGY EXC</td>\n",
       "      <td>IEX</td>\n",
       "      <td>NSE:IEX</td>\n",
       "      <td>60.0</td>\n",
       "      <td>157.8800</td>\n",
       "    </tr>\n",
       "    <tr>\n",
       "      <th>18</th>\n",
       "      <td>4904</td>\n",
       "      <td>122.50</td>\n",
       "      <td>103.15</td>\n",
       "      <td>-0.1580</td>\n",
       "      <td>-0.294415</td>\n",
       "      <td>1</td>\n",
       "      <td>RESTAURANT BRAND ASIA</td>\n",
       "      <td>RBA</td>\n",
       "      <td>NSE:RBA</td>\n",
       "      <td>13.0</td>\n",
       "      <td>145.8000</td>\n",
       "    </tr>\n",
       "    <tr>\n",
       "      <th>19</th>\n",
       "      <td>4980</td>\n",
       "      <td>23.30</td>\n",
       "      <td>128.60</td>\n",
       "      <td>4.5193</td>\n",
       "      <td>30.943014</td>\n",
       "      <td>1</td>\n",
       "      <td>CUPID</td>\n",
       "      <td>CUPID</td>\n",
       "      <td>BSE:CUPID</td>\n",
       "      <td>500.0</td>\n",
       "      <td>23.9270</td>\n",
       "    </tr>\n",
       "    <tr>\n",
       "      <th>20</th>\n",
       "      <td>4980</td>\n",
       "      <td>23.30</td>\n",
       "      <td>128.60</td>\n",
       "      <td>4.5193</td>\n",
       "      <td>30.943014</td>\n",
       "      <td>1</td>\n",
       "      <td>CUPID</td>\n",
       "      <td>CUPID-BE</td>\n",
       "      <td>NSE:CUPID-BE</td>\n",
       "      <td>500.0</td>\n",
       "      <td>23.9270</td>\n",
       "    </tr>\n",
       "    <tr>\n",
       "      <th>21</th>\n",
       "      <td>4989</td>\n",
       "      <td>448.95</td>\n",
       "      <td>429.35</td>\n",
       "      <td>-0.0437</td>\n",
       "      <td>-0.086625</td>\n",
       "      <td>1</td>\n",
       "      <td>ITC</td>\n",
       "      <td>ITC</td>\n",
       "      <td>NSE:ITC</td>\n",
       "      <td>40.0</td>\n",
       "      <td>348.5600</td>\n",
       "    </tr>\n",
       "    <tr>\n",
       "      <th>22</th>\n",
       "      <td>5019</td>\n",
       "      <td>50.25</td>\n",
       "      <td>58.64</td>\n",
       "      <td>0.1670</td>\n",
       "      <td>0.367744</td>\n",
       "      <td>1</td>\n",
       "      <td>NIP IND ETF GOLD BEES</td>\n",
       "      <td>GOLDBEES</td>\n",
       "      <td>NSE:GOLDBEES</td>\n",
       "      <td>204.0</td>\n",
       "      <td>46.1866</td>\n",
       "    </tr>\n",
       "    <tr>\n",
       "      <th>23</th>\n",
       "      <td>5365</td>\n",
       "      <td>1369.80</td>\n",
       "      <td>1875.10</td>\n",
       "      <td>0.3689</td>\n",
       "      <td>0.890304</td>\n",
       "      <td>1</td>\n",
       "      <td>CENTRAL DEPO SER (I)</td>\n",
       "      <td>CDSL</td>\n",
       "      <td>NSE:CDSL</td>\n",
       "      <td>10.0</td>\n",
       "      <td>1187.2600</td>\n",
       "    </tr>\n",
       "    <tr>\n",
       "      <th>24</th>\n",
       "      <td>5429</td>\n",
       "      <td>341.75</td>\n",
       "      <td>354.50</td>\n",
       "      <td>0.0373</td>\n",
       "      <td>0.077086</td>\n",
       "      <td>1</td>\n",
       "      <td>ADANI WILMAR</td>\n",
       "      <td>AWL</td>\n",
       "      <td>NSE:AWL</td>\n",
       "      <td>12.0</td>\n",
       "      <td>598.3750</td>\n",
       "    </tr>\n",
       "    <tr>\n",
       "      <th>25</th>\n",
       "      <td>5552</td>\n",
       "      <td>2588.50</td>\n",
       "      <td>1953.60</td>\n",
       "      <td>-0.2453</td>\n",
       "      <td>-0.434863</td>\n",
       "      <td>1</td>\n",
       "      <td>MTAR TECHNOLOGIES</td>\n",
       "      <td>MTARTECH</td>\n",
       "      <td>NSE:MTARTECH</td>\n",
       "      <td>5.0</td>\n",
       "      <td>1626.6000</td>\n",
       "    </tr>\n",
       "  </tbody>\n",
       "</table>\n",
       "</div>"
      ],
      "text/plain": [
       "    investment_option_id  min_date_price  max_date_price  growth  \\\n",
       "0                    362         1481.00         2800.00  0.8906   \n",
       "1                    694          703.35         1014.45  0.4423   \n",
       "2                    880          666.20         1013.35  0.5211   \n",
       "3                   1032         2074.20         2782.60  0.3415   \n",
       "4                   1104          254.80          408.80  0.6044   \n",
       "5                   1204           33.20           67.70  1.0392   \n",
       "6                   1204           33.20           67.70  1.0392   \n",
       "7                   1694         2197.15         3575.90  0.6275   \n",
       "8                   1853          217.90          250.81  0.1510   \n",
       "9                   2151         3301.40         3755.95  0.1377   \n",
       "10                  2553         2434.60         2999.75  0.2321   \n",
       "11                  3056           62.75           68.55  0.0924   \n",
       "12                  3519          480.92          669.70  0.3925   \n",
       "13                  4005          180.80          270.20  0.4945   \n",
       "14                  4051         1000.00         1000.00  0.0000   \n",
       "15                  4447          374.30          328.05 -0.1236   \n",
       "16                  4537          111.50          192.25  0.7242   \n",
       "17                  4694          135.10          142.40  0.0540   \n",
       "18                  4904          122.50          103.15 -0.1580   \n",
       "19                  4980           23.30          128.60  4.5193   \n",
       "20                  4980           23.30          128.60  4.5193   \n",
       "21                  4989          448.95          429.35 -0.0437   \n",
       "22                  5019           50.25           58.64  0.1670   \n",
       "23                  5365         1369.80         1875.10  0.3689   \n",
       "24                  5429          341.75          354.50  0.0373   \n",
       "25                  5552         2588.50         1953.60 -0.2453   \n",
       "\n",
       "    annualized_growth  user_id                       name      ticker  \\\n",
       "0            2.638167        1                        BSE         BSE   \n",
       "1            1.101500        1      INDIAN RAIL TOUR CORP       IRCTC   \n",
       "2            1.340860        1                TATA MOTORS  TATAMOTORS   \n",
       "3            0.814369        1         COLGATE PALMOLIVE.      COLPAL   \n",
       "4            1.608125        1              TATA POWER CO   TATAPOWER   \n",
       "5            3.241464        1        VL E GOV AND IT SOL      VLEGOV   \n",
       "6            3.241464        1        VL E GOV AND IT SOL   VLEGOV-BE   \n",
       "7            1.684835        1   MULTI COMMODITY EXCHANGE         MCX   \n",
       "8            0.329986        1     NIP IND ETF NIFTY BEES   NIFTYBEES   \n",
       "9            0.299008        1              TITAN COMPANY       TITAN   \n",
       "10           0.526897        1        PIDILITE INDUSTRIES  PIDILITIND   \n",
       "11           0.196271        1  MOTHERSON SUMI WRNG IND L       MSUMI   \n",
       "12           0.956972        1    NIP IND ETF JUNIOR BEES  JUNIORBEES   \n",
       "13           1.258598        1  OIL AND NATURAL GAS CORP.        ONGC   \n",
       "14           0.000000        1    NIP IND ETF LIQUID BEES  LIQUIDBEES   \n",
       "15          -0.234733        1      GREENPANEL INDUSTRIES  GREENPANEL   \n",
       "16           2.018194        1                     ZOMATO      ZOMATO   \n",
       "17           0.112540        1          INDIAN ENERGY EXC         IEX   \n",
       "18          -0.294415        1      RESTAURANT BRAND ASIA         RBA   \n",
       "19          30.943014        1                      CUPID       CUPID   \n",
       "20          30.943014        1                      CUPID    CUPID-BE   \n",
       "21          -0.086625        1                        ITC         ITC   \n",
       "22           0.367744        1      NIP IND ETF GOLD BEES    GOLDBEES   \n",
       "23           0.890304        1       CENTRAL DEPO SER (I)        CDSL   \n",
       "24           0.077086        1               ADANI WILMAR         AWL   \n",
       "25          -0.434863        1          MTAR TECHNOLOGIES    MTARTECH   \n",
       "\n",
       "   kite_quotes_symbol  quantity  average_price  \n",
       "0             NSE:BSE      15.0       613.7200  \n",
       "1           NSE:IRCTC      15.0       696.2700  \n",
       "2      NSE:TATAMOTORS      20.0       441.8880  \n",
       "3          NSE:COLPAL       4.0      1576.3000  \n",
       "4       NSE:TATAPOWER      36.0       224.8250  \n",
       "5          BSE:VLEGOV      11.0       413.1550  \n",
       "6       NSE:VLEGOV-BE      11.0       413.1550  \n",
       "7             NSE:MCX      10.0      1394.4300  \n",
       "8       NSE:NIFTYBEES      24.0       194.6900  \n",
       "9           NSE:TITAN       4.0      2532.6200  \n",
       "10     NSE:PIDILITIND       5.0      2539.4700  \n",
       "11          NSE:MSUMI      14.0        16.3008  \n",
       "12     NSE:JUNIORBEES       7.0       433.9470  \n",
       "13           NSE:ONGC      52.0       149.5120  \n",
       "14     NSE:LIQUIDBEES       8.0      1000.0100  \n",
       "15     NSE:GREENPANEL       5.0       429.5000  \n",
       "16         NSE:ZOMATO      44.0       128.1680  \n",
       "17            NSE:IEX      60.0       157.8800  \n",
       "18            NSE:RBA      13.0       145.8000  \n",
       "19          BSE:CUPID     500.0        23.9270  \n",
       "20       NSE:CUPID-BE     500.0        23.9270  \n",
       "21            NSE:ITC      40.0       348.5600  \n",
       "22       NSE:GOLDBEES     204.0        46.1866  \n",
       "23           NSE:CDSL      10.0      1187.2600  \n",
       "24            NSE:AWL      12.0       598.3750  \n",
       "25       NSE:MTARTECH       5.0      1626.6000  "
      ]
     },
     "execution_count": 4,
     "metadata": {},
     "output_type": "execute_result"
    }
   ],
   "source": [
    "k"
   ]
  },
  {
   "cell_type": "code",
   "execution_count": 8,
   "id": "412f7c41-1ad4-49ef-a499-3846649dc5c9",
   "metadata": {
    "tags": []
   },
   "outputs": [
    {
     "data": {
      "text/plain": [
       "1.8905999988140194"
      ]
     },
     "execution_count": 8,
     "metadata": {},
     "output_type": "execute_result"
    }
   ],
   "source": [
    "(1 + 2.638167)**(180/365)"
   ]
  },
  {
   "cell_type": "code",
   "execution_count": 5,
   "id": "e6198a27-4667-426a-973c-f8e524ed446a",
   "metadata": {
    "tags": []
   },
   "outputs": [
    {
     "data": {
      "text/html": [
       "<div>\n",
       "<style scoped>\n",
       "    .dataframe tbody tr th:only-of-type {\n",
       "        vertical-align: middle;\n",
       "    }\n",
       "\n",
       "    .dataframe tbody tr th {\n",
       "        vertical-align: top;\n",
       "    }\n",
       "\n",
       "    .dataframe thead th {\n",
       "        text-align: right;\n",
       "    }\n",
       "</style>\n",
       "<table border=\"1\" class=\"dataframe\">\n",
       "  <thead>\n",
       "    <tr style=\"text-align: right;\">\n",
       "      <th></th>\n",
       "      <th>investment_option_id</th>\n",
       "      <th>min_date_price</th>\n",
       "      <th>max_date_price</th>\n",
       "      <th>growth</th>\n",
       "      <th>annualized_growth</th>\n",
       "      <th>user_id</th>\n",
       "      <th>name</th>\n",
       "      <th>ticker</th>\n",
       "      <th>kite_quotes_symbol</th>\n",
       "      <th>quantity</th>\n",
       "      <th>average_price</th>\n",
       "    </tr>\n",
       "  </thead>\n",
       "  <tbody>\n",
       "    <tr>\n",
       "      <th>0</th>\n",
       "      <td>4537</td>\n",
       "      <td>111.5</td>\n",
       "      <td>183.1</td>\n",
       "      <td>0.6422</td>\n",
       "      <td>1.734237</td>\n",
       "      <td>1</td>\n",
       "      <td>ZOMATO</td>\n",
       "      <td>ZOMATO</td>\n",
       "      <td>NSE:ZOMATO</td>\n",
       "      <td>44.0</td>\n",
       "      <td>128.168</td>\n",
       "    </tr>\n",
       "  </tbody>\n",
       "</table>\n",
       "</div>"
      ],
      "text/plain": [
       "   investment_option_id  min_date_price  max_date_price  growth  \\\n",
       "0                  4537           111.5           183.1  0.6422   \n",
       "\n",
       "   annualized_growth  user_id    name  ticker kite_quotes_symbol  quantity  \\\n",
       "0           1.734237        1  ZOMATO  ZOMATO         NSE:ZOMATO      44.0   \n",
       "\n",
       "   average_price  \n",
       "0        128.168  "
      ]
     },
     "execution_count": 5,
     "metadata": {},
     "output_type": "execute_result"
    }
   ],
   "source": [
    "k"
   ]
  },
  {
   "cell_type": "code",
   "execution_count": 3,
   "id": "7496c84b-9115-4dae-a37c-5a131f4dc40d",
   "metadata": {
    "tags": []
   },
   "outputs": [
    {
     "data": {
      "text/plain": [
       "{'NSE:INFY': 1506.8}"
      ]
     },
     "execution_count": 3,
     "metadata": {},
     "output_type": "execute_result"
    }
   ],
   "source": [
    "PortfolioService.get_latest_prices_for_tickers(['NSE:INFY'])"
   ]
  },
  {
   "cell_type": "code",
   "execution_count": 5,
   "id": "175ba10f-5105-4a76-bc12-42c6e4e2778e",
   "metadata": {
    "tags": []
   },
   "outputs": [],
   "source": [
    "import time"
   ]
  },
  {
   "cell_type": "code",
   "execution_count": 8,
   "id": "76477704-f80f-4d47-9bd5-c04990709364",
   "metadata": {
    "tags": []
   },
   "outputs": [],
   "source": [
    "s = time.time()\n",
    "a = PortfolioSQL.get_user_current_holdings(1)\n",
    "e = time.time()"
   ]
  },
  {
   "cell_type": "code",
   "execution_count": 9,
   "id": "a94b6770-64b9-4da7-a162-8271a7044471",
   "metadata": {
    "tags": []
   },
   "outputs": [
    {
     "data": {
      "text/plain": [
       "0.5211870670318604"
      ]
     },
     "execution_count": 9,
     "metadata": {},
     "output_type": "execute_result"
    }
   ],
   "source": [
    "e-s"
   ]
  },
  {
   "cell_type": "code",
   "execution_count": 4,
   "id": "fb4f6279-b6e2-4f49-adce-b8eec5589ea2",
   "metadata": {
    "tags": []
   },
   "outputs": [],
   "source": [
    "a = PortfolioService.filter_all_companies_by_name(companies_list=['adani'])"
   ]
  },
  {
   "cell_type": "code",
   "execution_count": 5,
   "id": "53933750-d4b8-4e28-8c84-df3840485e4c",
   "metadata": {
    "tags": []
   },
   "outputs": [],
   "source": [
    "s = a['kite_quotes_symbol']"
   ]
  },
  {
   "cell_type": "code",
   "execution_count": 6,
   "id": "61b30eb2-09c4-4fbd-bfb2-b12e4f980e4e",
   "metadata": {
    "tags": []
   },
   "outputs": [],
   "source": [
    "import requests"
   ]
  },
  {
   "cell_type": "code",
   "execution_count": 7,
   "id": "cf0e9716-c19a-4d8c-8f47-3e1a49013a7b",
   "metadata": {
    "tags": []
   },
   "outputs": [],
   "source": [
    "symbols = s[:500]\n",
    "url = \"https://api.kite.trade/quote/ohlc\"\n",
    "api_key = os.environ.get('KITE_API_KEY')\n",
    "access_token = os.environ.get('KITE_ACCESS_TOKEN')\n",
    "headers = {\n",
    "    \"X-Kite-Version\": \"3\",\n",
    "    \"Authorization\": f\"token {api_key}:{access_token}\"\n",
    "}\n",
    "params = {\n",
    "    \"i\": symbols\n",
    "}\n",
    "response = requests.get(url, headers=headers, params=params)\n",
    "data = response.json()\n",
    "last_prices = {}"
   ]
  },
  {
   "cell_type": "code",
   "execution_count": 8,
   "id": "26a4c08c-13bf-4940-b248-ab3108c590c6",
   "metadata": {
    "tags": []
   },
   "outputs": [
    {
     "data": {
      "text/plain": [
       "'{\"status\":\"success\",\"data\":{\"NSE:ADANIENSOL\":{\"instrument_token\":2615553,\"last_price\":1065.1,\"ohlc\":{\"open\":1075.8,\"high\":1076,\"low\":1056,\"close\":1071.25}},\"NSE:ADANIENT\":{\"instrument_token\":6401,\"last_price\":3238.05,\"ohlc\":{\"open\":3200,\"high\":3254.6,\"low\":3192.5,\"close\":3198.45}},\"NSE:ADANIGREEN\":{\"instrument_token\":912129,\"last_price\":1905.65,\"ohlc\":{\"open\":1920.05,\"high\":1924.15,\"low\":1895,\"close\":1916.2}},\"NSE:ADANIPORTS\":{\"instrument_token\":3861249,\"last_price\":1353.35,\"ohlc\":{\"open\":1359,\"high\":1359.9,\"low\":1348.2,\"close\":1356.5}},\"NSE:ADANIPOWER\":{\"instrument_token\":4451329,\"last_price\":614,\"ohlc\":{\"open\":621.4,\"high\":621.4,\"low\":610,\"close\":616.35}},\"NSE:ATGL\":{\"instrument_token\":1552897,\"last_price\":962.35,\"ohlc\":{\"open\":965,\"high\":967.3,\"low\":956.5,\"close\":962.15}},\"NSE:AWL\":{\"instrument_token\":2076161,\"last_price\":351.8,\"ohlc\":{\"open\":352.9,\"high\":354.4,\"low\":348.65,\"close\":352.2}}}}'"
      ]
     },
     "execution_count": 8,
     "metadata": {},
     "output_type": "execute_result"
    }
   ],
   "source": [
    "response.text"
   ]
  },
  {
   "cell_type": "code",
   "execution_count": 19,
   "id": "32546c61-0059-4f71-a8fc-ee58d667e139",
   "metadata": {
    "tags": []
   },
   "outputs": [
    {
     "data": {
      "text/plain": [
       "'0xQTMQQlxCXDQ8TMRmOL6qwIIXbmK7nY'"
      ]
     },
     "execution_count": 19,
     "metadata": {},
     "output_type": "execute_result"
    }
   ],
   "source": [
    "access_token"
   ]
  },
  {
   "cell_type": "code",
   "execution_count": 16,
   "id": "0eb83d01-a8dc-4acd-aea1-a99a265cc77c",
   "metadata": {
    "tags": []
   },
   "outputs": [
    {
     "data": {
      "text/plain": [
       "{'status': 'error',\n",
       " 'message': 'Incorrect `api_key` or `access_token`.',\n",
       " 'data': None,\n",
       " 'error_type': 'TokenException'}"
      ]
     },
     "execution_count": 16,
     "metadata": {},
     "output_type": "execute_result"
    }
   ],
   "source": [
    "data"
   ]
  },
  {
   "cell_type": "code",
   "execution_count": 15,
   "id": "88521b82-2e47-4c15-a3dd-e7c0103b3555",
   "metadata": {
    "tags": []
   },
   "outputs": [
    {
     "ename": "AttributeError",
     "evalue": "'NoneType' object has no attribute 'items'",
     "output_type": "error",
     "traceback": [
      "\u001b[0;31m---------------------------------------------------------------------------\u001b[0m",
      "\u001b[0;31mAttributeError\u001b[0m                            Traceback (most recent call last)",
      "Cell \u001b[0;32mIn[15], line 1\u001b[0m\n\u001b[0;32m----> 1\u001b[0m \u001b[43mdata\u001b[49m\u001b[43m[\u001b[49m\u001b[38;5;124;43m'\u001b[39;49m\u001b[38;5;124;43mdata\u001b[39;49m\u001b[38;5;124;43m'\u001b[39;49m\u001b[43m]\u001b[49m\u001b[38;5;241;43m.\u001b[39;49m\u001b[43mitems\u001b[49m()\n",
      "\u001b[0;31mAttributeError\u001b[0m: 'NoneType' object has no attribute 'items'"
     ]
    }
   ],
   "source": [
    "data['data'].items()"
   ]
  },
  {
   "cell_type": "code",
   "execution_count": 10,
   "id": "eddc8fe4-831c-4e4e-8891-97eb1f4f82e8",
   "metadata": {
    "tags": []
   },
   "outputs": [
    {
     "ename": "AttributeError",
     "evalue": "'NoneType' object has no attribute 'items'",
     "output_type": "error",
     "traceback": [
      "\u001b[0;31m---------------------------------------------------------------------------\u001b[0m",
      "\u001b[0;31mAttributeError\u001b[0m                            Traceback (most recent call last)",
      "Cell \u001b[0;32mIn[10], line 1\u001b[0m\n\u001b[0;32m----> 1\u001b[0m \u001b[43mPortfolioService\u001b[49m\u001b[38;5;241;43m.\u001b[39;49m\u001b[43mget_latest_prices_for_tickers\u001b[49m\u001b[43m(\u001b[49m\u001b[43mkite_quote_symbols\u001b[49m\u001b[38;5;241;43m=\u001b[39;49m\u001b[43ms\u001b[49m\u001b[43m)\u001b[49m\n",
      "File \u001b[0;32m~/Desktop/ML/Recommendations/hubble/src/PortfolioService.py:82\u001b[0m, in \u001b[0;36mPortfolioService.get_latest_prices_for_tickers\u001b[0;34m(kite_quote_symbols)\u001b[0m\n\u001b[1;32m     80\u001b[0m \u001b[38;5;28;01mif\u001b[39;00m \u001b[38;5;129;01mnot\u001b[39;00m data:\n\u001b[1;32m     81\u001b[0m     \u001b[38;5;28;01mreturn\u001b[39;00m last_prices\n\u001b[0;32m---> 82\u001b[0m \u001b[38;5;28;01mfor\u001b[39;00m k, v \u001b[38;5;129;01min\u001b[39;00m \u001b[43mdata\u001b[49m\u001b[43m[\u001b[49m\u001b[38;5;124;43m'\u001b[39;49m\u001b[38;5;124;43mdata\u001b[39;49m\u001b[38;5;124;43m'\u001b[39;49m\u001b[43m]\u001b[49m\u001b[38;5;241;43m.\u001b[39;49m\u001b[43mitems\u001b[49m():\n\u001b[1;32m     83\u001b[0m     last_prices[k] \u001b[38;5;241m=\u001b[39m v[\u001b[38;5;124m'\u001b[39m\u001b[38;5;124mlast_price\u001b[39m\u001b[38;5;124m'\u001b[39m]\n\u001b[1;32m     84\u001b[0m \u001b[38;5;28;01mreturn\u001b[39;00m last_prices\n",
      "\u001b[0;31mAttributeError\u001b[0m: 'NoneType' object has no attribute 'items'"
     ]
    }
   ],
   "source": [
    "PortfolioService.get_latest_prices_for_tickers(kite_quote_symbols=s)"
   ]
  },
  {
   "cell_type": "code",
   "execution_count": null,
   "id": "f6628fca-b1d5-49c5-93f0-5dfcc8bec94a",
   "metadata": {},
   "outputs": [],
   "source": []
  },
  {
   "cell_type": "code",
   "execution_count": 9,
   "id": "12ba6333-b039-4b24-a33d-4a79d673ae91",
   "metadata": {
    "tags": []
   },
   "outputs": [],
   "source": [
    "s = list(set(a['kite_quotes_symbol']))"
   ]
  },
  {
   "cell_type": "code",
   "execution_count": 3,
   "id": "222052d3-91b4-428a-8885-b1dfa125a298",
   "metadata": {
    "tags": []
   },
   "outputs": [
    {
     "name": "stdout",
     "output_type": "stream",
     "text": [
      "['NSE:ADANIPOWER', 'NSE:ADANIENSOL', 'NSE:AWL', 'NSE:ADANIENT', 'NSE:ADANIGREEN', 'NSE:ATGL', 'NSE:ADANIPORTS']\n"
     ]
    }
   ],
   "source": [
    "a = PortfolioService.get_latest_share_price_trend_for_companies(['adani'])"
   ]
  },
  {
   "cell_type": "code",
   "execution_count": 5,
   "id": "a613700e-0c4e-4c64-b96d-9778bb2f050b",
   "metadata": {
    "tags": []
   },
   "outputs": [],
   "source": [
    "import boto3\n",
    "import base64"
   ]
  },
  {
   "cell_type": "code",
   "execution_count": 8,
   "id": "94f121d4-b091-4ca2-8832-b9e6cecd6077",
   "metadata": {
    "tags": []
   },
   "outputs": [],
   "source": [
    "import json"
   ]
  },
  {
   "cell_type": "code",
   "execution_count": 9,
   "id": "fdc57833-602a-4ccb-8296-a024079167b7",
   "metadata": {
    "tags": []
   },
   "outputs": [],
   "source": [
    "def get_aws_secret():\n",
    "    secret_name = \"ArticleDbMasterCreds\"\n",
    "    region_name = \"ap-south-1\"\n",
    "\n",
    "    session = boto3.session.Session()\n",
    "    client = session.client(\n",
    "        service_name='secretsmanager',\n",
    "        region_name=region_name,\n",
    "    )\n",
    "    try:\n",
    "        get_secret_value_response = client.get_secret_value(\n",
    "            SecretId=secret_name\n",
    "        )\n",
    "    except Exception as e:\n",
    "        raise e\n",
    "    else:\n",
    "        # Decrypts secret using the associated KMS CMK.\n",
    "        # Depending on whether the secret is a string or binary, one of these fields will be populated.\n",
    "        if 'SecretString' in get_secret_value_response:\n",
    "            secret = get_secret_value_response['SecretString']\n",
    "        else:\n",
    "            secret = base64.b64decode(get_secret_value_response['SecretBinary'])\n",
    "\n",
    "        return json.loads(secret)"
   ]
  },
  {
   "cell_type": "code",
   "execution_count": 11,
   "id": "cc8a7dc9-6a34-4f64-bac6-a985bcbd0b4a",
   "metadata": {
    "tags": []
   },
   "outputs": [],
   "source": [
    "import boto3\n",
    "\n",
    "# Create a client\n",
    "ssm = boto3.client('ssm')\n",
    "\n",
    "# Specify the name of the parameter you want to get\n",
    "parameter_name = 'kite-tokens'\n",
    "\n",
    "# Get the parameter\n",
    "parameter = ssm.get_parameter(Name=parameter_name, WithDecryption=True)\n",
    "\n",
    "# The parameter value is stored in the 'Parameter' key, then 'Value'\n",
    "value = parameter['Parameter']['Value']"
   ]
  },
  {
   "cell_type": "code",
   "execution_count": 14,
   "id": "f43943f4-f7f3-4c30-b450-1460168f5a2b",
   "metadata": {
    "tags": []
   },
   "outputs": [
    {
     "data": {
      "text/plain": [
       "'7VFNVTxmNbjvYz0thI8NDwTNYeLlK6yq'"
      ]
     },
     "execution_count": 14,
     "metadata": {},
     "output_type": "execute_result"
    }
   ],
   "source": [
    "json.loads(value)['accessToken']"
   ]
  },
  {
   "cell_type": "code",
   "execution_count": 10,
   "id": "c57138f8-1c4a-4bc8-b3de-08278e736126",
   "metadata": {
    "tags": []
   },
   "outputs": [
    {
     "data": {
      "text/plain": [
       "{'username': 'mongodb',\n",
       " 'password': 'insightBETA-11_09',\n",
       " 'engine': 'mongo',\n",
       " 'host': 'insight-beta-article-db.cluster-chmaiagjipqy.ap-south-1.docdb.amazonaws.com',\n",
       " 'port': 27017,\n",
       " 'ssl': False,\n",
       " 'dbClusterIdentifier': 'insight-beta-article-db'}"
      ]
     },
     "execution_count": 10,
     "metadata": {},
     "output_type": "execute_result"
    }
   ],
   "source": [
    "get_aws_secret()"
   ]
  },
  {
   "cell_type": "code",
   "execution_count": 4,
   "id": "7bc38e83-18ae-4b47-ba63-d82c2c27da24",
   "metadata": {
    "tags": []
   },
   "outputs": [
    {
     "data": {
      "text/plain": [
       "[{'text_box': {'value_type': 'rupees',\n",
       "   'chart_title': 'Latest share price of Value',\n",
       "   'data': [{'value': 3224.55}]}},\n",
       " {'line_chart': {'value_type': 'rupees',\n",
       "   'chart_title': 'Share price history of Value',\n",
       "   'data': [{'ADANIENT': {'2023-10-12': 2506.35,\n",
       "      '2023-10-13': 2454.55,\n",
       "      '2023-10-16': 2429.35,\n",
       "      '2023-10-17': 2428.4,\n",
       "      '2023-10-18': 2406.35,\n",
       "      '2023-10-19': 2402.2,\n",
       "      '2023-10-20': 2393.75,\n",
       "      '2023-10-23': 2308.65,\n",
       "      '2023-10-25': 2257.0,\n",
       "      '2023-10-26': 2203.2,\n",
       "      '2023-10-27': 2261.7,\n",
       "      '2023-10-30': 2299.1,\n",
       "      '2023-10-31': 2294.65,\n",
       "      '2023-11-01': 2217.3,\n",
       "      '2023-11-02': 2215.3,\n",
       "      '2023-11-03': 2229.85,\n",
       "      '2023-11-06': 2246.0,\n",
       "      '2023-11-07': 2233.35,\n",
       "      '2023-11-08': 2259.95,\n",
       "      '2023-11-09': 2214.65,\n",
       "      '2023-11-10': 2205.1,\n",
       "      '2023-11-12': 2211.35,\n",
       "      '2023-11-13': 2213.65,\n",
       "      '2023-11-15': 2225.4,\n",
       "      '2023-11-16': 2205.9,\n",
       "      '2023-11-17': 2208.8,\n",
       "      '2023-11-20': 2149.85,\n",
       "      '2023-11-21': 2196.65,\n",
       "      '2023-11-22': 2172.65,\n",
       "      '2023-11-23': 2175.25,\n",
       "      '2023-11-24': 2225.45,\n",
       "      '2023-11-28': 2423.5,\n",
       "      '2023-11-29': 2396.6,\n",
       "      '2023-11-30': 2358.55,\n",
       "      '2023-12-01': 2362.7,\n",
       "      '2023-12-04': 2531.2,\n",
       "      '2023-12-05': 2959.35,\n",
       "      '2023-12-06': 2883.95,\n",
       "      '2023-12-07': 2887.15,\n",
       "      '2023-12-08': 2822.15,\n",
       "      '2023-12-11': 2855.8,\n",
       "      '2023-12-12': 2857.65,\n",
       "      '2023-12-13': 2875.05,\n",
       "      '2023-12-14': 2894.05,\n",
       "      '2023-12-15': 2991.8,\n",
       "      '2023-12-18': 2980.6,\n",
       "      '2023-12-19': 2941.25,\n",
       "      '2023-12-20': 2783.85,\n",
       "      '2023-12-21': 2799.75,\n",
       "      '2023-12-22': 2808.35,\n",
       "      '2023-12-26': 2865.45,\n",
       "      '2023-12-27': 2843.35,\n",
       "      '2023-12-28': 2809.9,\n",
       "      '2023-12-29': 2848.95,\n",
       "      '2024-01-01': 2917.2,\n",
       "      '2024-01-02': 2932.4,\n",
       "      '2024-01-03': 3003.0,\n",
       "      '2024-01-04': 2998.3,\n",
       "      '2024-01-05': 3006.6,\n",
       "      '2024-01-08': 2963.5,\n",
       "      '2024-01-09': 3014.6,\n",
       "      '2024-01-10': 3098.2,\n",
       "      '2024-01-11': 3080.9,\n",
       "      '2024-01-12': 3104.1,\n",
       "      '2024-01-15': 3089.5,\n",
       "      '2024-01-16': 3056.5,\n",
       "      '2024-01-17': 2971.05,\n",
       "      '2024-01-18': 2918.9,\n",
       "      '2024-01-19': 2915.65,\n",
       "      '2024-01-20': 2987.9,\n",
       "      '2024-01-23': 2896.55,\n",
       "      '2024-01-24': 2903.45,\n",
       "      '2024-01-25': 2893.6,\n",
       "      '2024-01-29': 3064.65,\n",
       "      '2024-01-30': 3091.1,\n",
       "      '2024-01-31': 3142.0,\n",
       "      '2024-02-01': 3153.5,\n",
       "      '2024-02-02': 3157.45,\n",
       "      '2024-02-05': 3173.45,\n",
       "      '2024-02-06': 3203.75,\n",
       "      '2024-02-07': 3229.85,\n",
       "      '2024-02-08': 3168.6,\n",
       "      '2024-02-09': 3215.2,\n",
       "      '2024-02-12': 3169.75,\n",
       "      '2024-02-13': 3178.45,\n",
       "      '2024-02-14': 3207.2,\n",
       "      '2024-02-15': 3193.8,\n",
       "      '2024-02-16': 3223.6,\n",
       "      '2024-02-19': 3258.8,\n",
       "      '2024-02-20': 3228.6,\n",
       "      '2024-02-21': 3223.2,\n",
       "      '2024-02-22': 3263.05,\n",
       "      '2024-02-23': 3273.3,\n",
       "      '2024-02-26': 3327.75,\n",
       "      '2024-02-27': 3302.3,\n",
       "      '2024-02-28': 3219.0,\n",
       "      '2024-02-29': 3285.4,\n",
       "      '2024-03-01': 3318.75,\n",
       "      '2024-03-02': 3333.25,\n",
       "      '2024-03-04': 3317.15,\n",
       "      '2024-03-05': 3310.2,\n",
       "      '2024-03-06': 3233.95,\n",
       "      '2024-03-07': 3226.55,\n",
       "      '2024-03-11': 3207.35,\n",
       "      '2024-03-12': 3122.5,\n",
       "      '2024-03-13': 2906.2,\n",
       "      '2024-03-14': 3087.45,\n",
       "      '2024-03-15': 3132.2,\n",
       "      '2024-03-18': 3111.75,\n",
       "      '2024-03-19': 3052.7,\n",
       "      '2024-03-20': 3051.45,\n",
       "      '2024-03-21': 3066.5,\n",
       "      '2024-03-22': 3107.7,\n",
       "      '2024-03-26': 3109.95,\n",
       "      '2024-03-27': 3122.1,\n",
       "      '2024-03-28': 3197.1,\n",
       "      '2024-04-01': 3252.1,\n",
       "      '2024-04-02': 3268.75,\n",
       "      '2024-04-08': 3224.55}}]}}]"
      ]
     },
     "execution_count": 4,
     "metadata": {},
     "output_type": "execute_result"
    }
   ],
   "source": [
    "a"
   ]
  },
  {
   "cell_type": "code",
   "execution_count": 14,
   "id": "240782ba-a770-47e5-980f-69a3c92d9f2a",
   "metadata": {
    "tags": []
   },
   "outputs": [
    {
     "data": {
      "text/plain": [
       "3224.55"
      ]
     },
     "execution_count": 14,
     "metadata": {},
     "output_type": "execute_result"
    }
   ],
   "source": [
    "a[1]['line_chart']['data'][0]['ADANIENT']['2024-04-08']"
   ]
  },
  {
   "cell_type": "code",
   "execution_count": 4,
   "id": "3a0a7ed9-d79d-416d-9429-d31e77d71edf",
   "metadata": {
    "tags": []
   },
   "outputs": [],
   "source": [
    "# a = PortfolioService.get_portfolio_performance_over_period(1)"
   ]
  },
  {
   "cell_type": "code",
   "execution_count": 4,
   "id": "65fa4e9d-2652-44c9-953c-823ce2778a88",
   "metadata": {
    "tags": []
   },
   "outputs": [],
   "source": [
    "b = PortfolioService.get_current_portfolio_value(user_id=1)"
   ]
  },
  {
   "cell_type": "code",
   "execution_count": 5,
   "id": "4c1dcb5f-21d9-40fe-8eb9-ba7e50625a8c",
   "metadata": {
    "tags": []
   },
   "outputs": [
    {
     "data": {
      "text/plain": [
       "[{'text_box': {'data': [{'value': 288438.02}],\n",
       "   'value_type': 'rupees',\n",
       "   'chart_title': 'Current Value'}},\n",
       " {'bar_chart': {'value_type': 'rupees',\n",
       "   'chart_title': 'Top Holdings by Current Value',\n",
       "   'data': [{'BSE': 43234.5},\n",
       "    {'MULTI COMMODITY EXCHANGE': 35540.5},\n",
       "    {'TATA MOTORS': 20142.0},\n",
       "    {'CENTRAL DEPO SER (I)': 18709.5},\n",
       "    {'ITC': 17098.0},\n",
       "    {'PIDILITE INDUSTRIES': 15030.0},\n",
       "    {'TITAN COMPANY': 15022.8},\n",
       "    {'INDIAN RAIL TOUR CORP': 14988.0},\n",
       "    {'TATA POWER CO': 14859.0},\n",
       "    {'others': 93813.72}]}}]"
      ]
     },
     "execution_count": 5,
     "metadata": {},
     "output_type": "execute_result"
    }
   ],
   "source": [
    "b"
   ]
  },
  {
   "cell_type": "code",
   "execution_count": 7,
   "id": "f0ed7e8b-ee29-48f1-ab1b-6034e22c4771",
   "metadata": {
    "tags": []
   },
   "outputs": [
    {
     "data": {
      "text/plain": [
       "{'text_box': {'value_type': 'rupees',\n",
       "  'chart_title': 'Latest share price of Adani enterprises',\n",
       "  'data': {'ADANI ENTERPRISES': 3218.6, 'INFOSYS': 1479.7}}}"
      ]
     },
     "execution_count": 7,
     "metadata": {},
     "output_type": "execute_result"
    }
   ],
   "source": [
    "PortfolioService.get_latest_share_price_trend_for_companies(['infosys', 'adani'])"
   ]
  },
  {
   "cell_type": "code",
   "execution_count": 5,
   "id": "4f0c7d78-d749-4f81-9483-4ac3fc92d514",
   "metadata": {
    "tags": []
   },
   "outputs": [
    {
     "data": {
      "text/html": [
       "<div>\n",
       "<style scoped>\n",
       "    .dataframe tbody tr th:only-of-type {\n",
       "        vertical-align: middle;\n",
       "    }\n",
       "\n",
       "    .dataframe tbody tr th {\n",
       "        vertical-align: top;\n",
       "    }\n",
       "\n",
       "    .dataframe thead th {\n",
       "        text-align: right;\n",
       "    }\n",
       "</style>\n",
       "<table border=\"1\" class=\"dataframe\">\n",
       "  <thead>\n",
       "    <tr style=\"text-align: right;\">\n",
       "      <th></th>\n",
       "      <th>investment_option_id</th>\n",
       "      <th>dt</th>\n",
       "      <th>price</th>\n",
       "      <th>kite_quotes_symbol</th>\n",
       "      <th>ticker</th>\n",
       "      <th>quantity</th>\n",
       "      <th>average_price</th>\n",
       "      <th>value</th>\n",
       "    </tr>\n",
       "  </thead>\n",
       "  <tbody>\n",
       "    <tr>\n",
       "      <th>2541</th>\n",
       "      <td>5429</td>\n",
       "      <td>2024-04-05</td>\n",
       "      <td>352.1</td>\n",
       "      <td>NSE:AWL</td>\n",
       "      <td>AWL</td>\n",
       "      <td>12.0</td>\n",
       "      <td>598.375</td>\n",
       "      <td>4225.2</td>\n",
       "    </tr>\n",
       "  </tbody>\n",
       "</table>\n",
       "</div>"
      ],
      "text/plain": [
       "      investment_option_id         dt  price kite_quotes_symbol ticker  \\\n",
       "2541                  5429 2024-04-05  352.1            NSE:AWL    AWL   \n",
       "\n",
       "      quantity  average_price   value  \n",
       "2541      12.0        598.375  4225.2  "
      ]
     },
     "execution_count": 5,
     "metadata": {},
     "output_type": "execute_result"
    }
   ],
   "source": [
    "b[b.ticker == 'AWL']"
   ]
  },
  {
   "cell_type": "code",
   "execution_count": 8,
   "id": "aa163ada-1a18-44f0-9bcb-d6974d51a40d",
   "metadata": {
    "tags": []
   },
   "outputs": [
    {
     "data": {
      "text/plain": [
       "211448.30000000002"
      ]
     },
     "execution_count": 8,
     "metadata": {},
     "output_type": "execute_result"
    }
   ],
   "source": [
    "a['starting_value'].sum()"
   ]
  },
  {
   "cell_type": "code",
   "execution_count": 9,
   "id": "85cb6666-6550-4193-a1ce-420d614e9337",
   "metadata": {
    "tags": []
   },
   "outputs": [
    {
     "data": {
      "text/plain": [
       "287768.64999999997"
      ]
     },
     "execution_count": 9,
     "metadata": {},
     "output_type": "execute_result"
    }
   ],
   "source": [
    "a['current_value'].sum()"
   ]
  },
  {
   "cell_type": "code",
   "execution_count": null,
   "id": "92b1c101-58e3-4e03-833c-8d1f3a69d32b",
   "metadata": {},
   "outputs": [],
   "source": []
  },
  {
   "cell_type": "code",
   "execution_count": 10,
   "id": "9f8fd38b-de64-45f3-8186-06432d407ff9",
   "metadata": {
    "tags": []
   },
   "outputs": [
    {
     "data": {
      "text/html": [
       "<div>\n",
       "<style scoped>\n",
       "    .dataframe tbody tr th:only-of-type {\n",
       "        vertical-align: middle;\n",
       "    }\n",
       "\n",
       "    .dataframe tbody tr th {\n",
       "        vertical-align: top;\n",
       "    }\n",
       "\n",
       "    .dataframe thead th {\n",
       "        text-align: right;\n",
       "    }\n",
       "</style>\n",
       "<table border=\"1\" class=\"dataframe\">\n",
       "  <thead>\n",
       "    <tr style=\"text-align: right;\">\n",
       "      <th></th>\n",
       "      <th>ticker</th>\n",
       "      <th>min_date_price</th>\n",
       "      <th>max_date_price</th>\n",
       "      <th>starting_value</th>\n",
       "      <th>current_value</th>\n",
       "      <th>growth</th>\n",
       "    </tr>\n",
       "  </thead>\n",
       "  <tbody>\n",
       "    <tr>\n",
       "      <th>0</th>\n",
       "      <td>AWL</td>\n",
       "      <td>352.00</td>\n",
       "      <td>352.00</td>\n",
       "      <td>4224.00</td>\n",
       "      <td>4224.00</td>\n",
       "      <td>0.0000</td>\n",
       "    </tr>\n",
       "    <tr>\n",
       "      <th>1</th>\n",
       "      <td>BSE</td>\n",
       "      <td>1383.95</td>\n",
       "      <td>2880.00</td>\n",
       "      <td>20759.25</td>\n",
       "      <td>43200.00</td>\n",
       "      <td>1.0810</td>\n",
       "    </tr>\n",
       "    <tr>\n",
       "      <th>2</th>\n",
       "      <td>CDSL</td>\n",
       "      <td>1872.00</td>\n",
       "      <td>1872.00</td>\n",
       "      <td>18720.00</td>\n",
       "      <td>18720.00</td>\n",
       "      <td>0.0000</td>\n",
       "    </tr>\n",
       "    <tr>\n",
       "      <th>3</th>\n",
       "      <td>COLPAL</td>\n",
       "      <td>2000.45</td>\n",
       "      <td>2722.90</td>\n",
       "      <td>8001.80</td>\n",
       "      <td>10891.60</td>\n",
       "      <td>0.3611</td>\n",
       "    </tr>\n",
       "    <tr>\n",
       "      <th>4</th>\n",
       "      <td>GOLDBEES</td>\n",
       "      <td>48.88</td>\n",
       "      <td>58.97</td>\n",
       "      <td>9971.52</td>\n",
       "      <td>12029.88</td>\n",
       "      <td>0.2064</td>\n",
       "    </tr>\n",
       "    <tr>\n",
       "      <th>5</th>\n",
       "      <td>GREENPANEL</td>\n",
       "      <td>366.85</td>\n",
       "      <td>329.25</td>\n",
       "      <td>1834.25</td>\n",
       "      <td>1646.25</td>\n",
       "      <td>-0.1025</td>\n",
       "    </tr>\n",
       "    <tr>\n",
       "      <th>6</th>\n",
       "      <td>IEX</td>\n",
       "      <td>131.50</td>\n",
       "      <td>145.60</td>\n",
       "      <td>7890.00</td>\n",
       "      <td>8736.00</td>\n",
       "      <td>0.1072</td>\n",
       "    </tr>\n",
       "    <tr>\n",
       "      <th>7</th>\n",
       "      <td>IRCTC</td>\n",
       "      <td>702.85</td>\n",
       "      <td>999.50</td>\n",
       "      <td>10542.75</td>\n",
       "      <td>14992.50</td>\n",
       "      <td>0.4221</td>\n",
       "    </tr>\n",
       "    <tr>\n",
       "      <th>8</th>\n",
       "      <td>ITC</td>\n",
       "      <td>440.45</td>\n",
       "      <td>426.90</td>\n",
       "      <td>17618.00</td>\n",
       "      <td>17076.00</td>\n",
       "      <td>-0.0308</td>\n",
       "    </tr>\n",
       "    <tr>\n",
       "      <th>9</th>\n",
       "      <td>JUNIORBEES</td>\n",
       "      <td>470.57</td>\n",
       "      <td>664.89</td>\n",
       "      <td>3293.99</td>\n",
       "      <td>4654.23</td>\n",
       "      <td>0.4129</td>\n",
       "    </tr>\n",
       "    <tr>\n",
       "      <th>10</th>\n",
       "      <td>LIQUIDBEES</td>\n",
       "      <td>999.99</td>\n",
       "      <td>1000.01</td>\n",
       "      <td>7999.92</td>\n",
       "      <td>8000.08</td>\n",
       "      <td>0.0000</td>\n",
       "    </tr>\n",
       "    <tr>\n",
       "      <th>11</th>\n",
       "      <td>MCX</td>\n",
       "      <td>2078.95</td>\n",
       "      <td>3554.40</td>\n",
       "      <td>20789.50</td>\n",
       "      <td>35544.00</td>\n",
       "      <td>0.7097</td>\n",
       "    </tr>\n",
       "    <tr>\n",
       "      <th>12</th>\n",
       "      <td>MOTHERSON</td>\n",
       "      <td>119.30</td>\n",
       "      <td>119.30</td>\n",
       "      <td>1789.50</td>\n",
       "      <td>1789.50</td>\n",
       "      <td>0.0000</td>\n",
       "    </tr>\n",
       "    <tr>\n",
       "      <th>13</th>\n",
       "      <td>MSUMI</td>\n",
       "      <td>61.50</td>\n",
       "      <td>71.10</td>\n",
       "      <td>861.00</td>\n",
       "      <td>995.40</td>\n",
       "      <td>0.1561</td>\n",
       "    </tr>\n",
       "    <tr>\n",
       "      <th>14</th>\n",
       "      <td>MTARTECH</td>\n",
       "      <td>1953.10</td>\n",
       "      <td>1953.10</td>\n",
       "      <td>9765.50</td>\n",
       "      <td>9765.50</td>\n",
       "      <td>0.0000</td>\n",
       "    </tr>\n",
       "    <tr>\n",
       "      <th>15</th>\n",
       "      <td>NIFTYBEES</td>\n",
       "      <td>215.48</td>\n",
       "      <td>249.29</td>\n",
       "      <td>5171.52</td>\n",
       "      <td>5982.96</td>\n",
       "      <td>0.1569</td>\n",
       "    </tr>\n",
       "    <tr>\n",
       "      <th>16</th>\n",
       "      <td>ONGC</td>\n",
       "      <td>175.95</td>\n",
       "      <td>268.55</td>\n",
       "      <td>9149.40</td>\n",
       "      <td>13964.60</td>\n",
       "      <td>0.5263</td>\n",
       "    </tr>\n",
       "    <tr>\n",
       "      <th>17</th>\n",
       "      <td>PIDILITIND</td>\n",
       "      <td>2425.00</td>\n",
       "      <td>3005.60</td>\n",
       "      <td>12125.00</td>\n",
       "      <td>15028.00</td>\n",
       "      <td>0.2394</td>\n",
       "    </tr>\n",
       "    <tr>\n",
       "      <th>18</th>\n",
       "      <td>RBA</td>\n",
       "      <td>122.80</td>\n",
       "      <td>105.20</td>\n",
       "      <td>1596.40</td>\n",
       "      <td>1367.60</td>\n",
       "      <td>-0.1433</td>\n",
       "    </tr>\n",
       "    <tr>\n",
       "      <th>19</th>\n",
       "      <td>TATAMOTORS</td>\n",
       "      <td>617.35</td>\n",
       "      <td>1007.80</td>\n",
       "      <td>12347.00</td>\n",
       "      <td>20156.00</td>\n",
       "      <td>0.6325</td>\n",
       "    </tr>\n",
       "    <tr>\n",
       "      <th>20</th>\n",
       "      <td>TATAPOWER</td>\n",
       "      <td>250.00</td>\n",
       "      <td>413.30</td>\n",
       "      <td>9000.00</td>\n",
       "      <td>14878.80</td>\n",
       "      <td>0.6532</td>\n",
       "    </tr>\n",
       "    <tr>\n",
       "      <th>21</th>\n",
       "      <td>TITAN</td>\n",
       "      <td>3267.50</td>\n",
       "      <td>3760.35</td>\n",
       "      <td>13070.00</td>\n",
       "      <td>15041.40</td>\n",
       "      <td>0.1508</td>\n",
       "    </tr>\n",
       "    <tr>\n",
       "      <th>22</th>\n",
       "      <td>VLEGOV-BE</td>\n",
       "      <td>32.40</td>\n",
       "      <td>64.45</td>\n",
       "      <td>356.40</td>\n",
       "      <td>708.95</td>\n",
       "      <td>0.9892</td>\n",
       "    </tr>\n",
       "    <tr>\n",
       "      <th>23</th>\n",
       "      <td>ZOMATO</td>\n",
       "      <td>103.90</td>\n",
       "      <td>190.35</td>\n",
       "      <td>4571.60</td>\n",
       "      <td>8375.40</td>\n",
       "      <td>0.8321</td>\n",
       "    </tr>\n",
       "  </tbody>\n",
       "</table>\n",
       "</div>"
      ],
      "text/plain": [
       "        ticker  min_date_price  max_date_price  starting_value  current_value  \\\n",
       "0          AWL          352.00          352.00         4224.00        4224.00   \n",
       "1          BSE         1383.95         2880.00        20759.25       43200.00   \n",
       "2         CDSL         1872.00         1872.00        18720.00       18720.00   \n",
       "3       COLPAL         2000.45         2722.90         8001.80       10891.60   \n",
       "4     GOLDBEES           48.88           58.97         9971.52       12029.88   \n",
       "5   GREENPANEL          366.85          329.25         1834.25        1646.25   \n",
       "6          IEX          131.50          145.60         7890.00        8736.00   \n",
       "7        IRCTC          702.85          999.50        10542.75       14992.50   \n",
       "8          ITC          440.45          426.90        17618.00       17076.00   \n",
       "9   JUNIORBEES          470.57          664.89         3293.99        4654.23   \n",
       "10  LIQUIDBEES          999.99         1000.01         7999.92        8000.08   \n",
       "11         MCX         2078.95         3554.40        20789.50       35544.00   \n",
       "12   MOTHERSON          119.30          119.30         1789.50        1789.50   \n",
       "13       MSUMI           61.50           71.10          861.00         995.40   \n",
       "14    MTARTECH         1953.10         1953.10         9765.50        9765.50   \n",
       "15   NIFTYBEES          215.48          249.29         5171.52        5982.96   \n",
       "16        ONGC          175.95          268.55         9149.40       13964.60   \n",
       "17  PIDILITIND         2425.00         3005.60        12125.00       15028.00   \n",
       "18         RBA          122.80          105.20         1596.40        1367.60   \n",
       "19  TATAMOTORS          617.35         1007.80        12347.00       20156.00   \n",
       "20   TATAPOWER          250.00          413.30         9000.00       14878.80   \n",
       "21       TITAN         3267.50         3760.35        13070.00       15041.40   \n",
       "22   VLEGOV-BE           32.40           64.45          356.40         708.95   \n",
       "23      ZOMATO          103.90          190.35         4571.60        8375.40   \n",
       "\n",
       "    growth  \n",
       "0   0.0000  \n",
       "1   1.0810  \n",
       "2   0.0000  \n",
       "3   0.3611  \n",
       "4   0.2064  \n",
       "5  -0.1025  \n",
       "6   0.1072  \n",
       "7   0.4221  \n",
       "8  -0.0308  \n",
       "9   0.4129  \n",
       "10  0.0000  \n",
       "11  0.7097  \n",
       "12  0.0000  \n",
       "13  0.1561  \n",
       "14  0.0000  \n",
       "15  0.1569  \n",
       "16  0.5263  \n",
       "17  0.2394  \n",
       "18 -0.1433  \n",
       "19  0.6325  \n",
       "20  0.6532  \n",
       "21  0.1508  \n",
       "22  0.9892  \n",
       "23  0.8321  "
      ]
     },
     "execution_count": 10,
     "metadata": {},
     "output_type": "execute_result"
    }
   ],
   "source": [
    "a"
   ]
  },
  {
   "cell_type": "code",
   "execution_count": 6,
   "id": "9044eabd-f6cd-4d0d-ab3d-6b4bd4ec90b3",
   "metadata": {
    "tags": []
   },
   "outputs": [
    {
     "data": {
      "text/html": [
       "<div>\n",
       "<style scoped>\n",
       "    .dataframe tbody tr th:only-of-type {\n",
       "        vertical-align: middle;\n",
       "    }\n",
       "\n",
       "    .dataframe tbody tr th {\n",
       "        vertical-align: top;\n",
       "    }\n",
       "\n",
       "    .dataframe thead th {\n",
       "        text-align: right;\n",
       "    }\n",
       "</style>\n",
       "<table border=\"1\" class=\"dataframe\">\n",
       "  <thead>\n",
       "    <tr style=\"text-align: right;\">\n",
       "      <th></th>\n",
       "      <th>ticker</th>\n",
       "      <th>matching_score</th>\n",
       "      <th>user_query</th>\n",
       "      <th>investment_option_id</th>\n",
       "      <th>kite_quotes_symbol</th>\n",
       "      <th>name</th>\n",
       "      <th>price</th>\n",
       "      <th>dt</th>\n",
       "      <th>close</th>\n",
       "    </tr>\n",
       "  </thead>\n",
       "  <tbody>\n",
       "    <tr>\n",
       "      <th>8</th>\n",
       "      <td>ADANIENT</td>\n",
       "      <td>90.0</td>\n",
       "      <td>adani</td>\n",
       "      <td>1403</td>\n",
       "      <td>NSE:ADANIENT</td>\n",
       "      <td>ADANI ENTERPRISES</td>\n",
       "      <td>3218.05</td>\n",
       "      <td>NaN</td>\n",
       "      <td>NaN</td>\n",
       "    </tr>\n",
       "    <tr>\n",
       "      <th>0</th>\n",
       "      <td>INFY</td>\n",
       "      <td>100.0</td>\n",
       "      <td>infosys</td>\n",
       "      <td>5018</td>\n",
       "      <td>NSE:INFY</td>\n",
       "      <td>INFOSYS</td>\n",
       "      <td>1479.95</td>\n",
       "      <td>NaN</td>\n",
       "      <td>NaN</td>\n",
       "    </tr>\n",
       "    <tr>\n",
       "      <th>0</th>\n",
       "      <td>ADANIENT</td>\n",
       "      <td>NaN</td>\n",
       "      <td>NaN</td>\n",
       "      <td>1403</td>\n",
       "      <td>NaN</td>\n",
       "      <td>ADANI ENTERPRISES</td>\n",
       "      <td>NaN</td>\n",
       "      <td>2023-10-09</td>\n",
       "      <td>2442.6</td>\n",
       "    </tr>\n",
       "    <tr>\n",
       "      <th>1</th>\n",
       "      <td>ADANIENT</td>\n",
       "      <td>NaN</td>\n",
       "      <td>NaN</td>\n",
       "      <td>1403</td>\n",
       "      <td>NaN</td>\n",
       "      <td>ADANI ENTERPRISES</td>\n",
       "      <td>NaN</td>\n",
       "      <td>2023-10-10</td>\n",
       "      <td>2498.3</td>\n",
       "    </tr>\n",
       "    <tr>\n",
       "      <th>2</th>\n",
       "      <td>ADANIENT</td>\n",
       "      <td>NaN</td>\n",
       "      <td>NaN</td>\n",
       "      <td>1403</td>\n",
       "      <td>NaN</td>\n",
       "      <td>ADANI ENTERPRISES</td>\n",
       "      <td>NaN</td>\n",
       "      <td>2023-10-11</td>\n",
       "      <td>2488.6</td>\n",
       "    </tr>\n",
       "    <tr>\n",
       "      <th>...</th>\n",
       "      <td>...</td>\n",
       "      <td>...</td>\n",
       "      <td>...</td>\n",
       "      <td>...</td>\n",
       "      <td>...</td>\n",
       "      <td>...</td>\n",
       "      <td>...</td>\n",
       "      <td>...</td>\n",
       "      <td>...</td>\n",
       "    </tr>\n",
       "    <tr>\n",
       "      <th>237</th>\n",
       "      <td>INFY</td>\n",
       "      <td>NaN</td>\n",
       "      <td>NaN</td>\n",
       "      <td>5018</td>\n",
       "      <td>NaN</td>\n",
       "      <td>INFOSYS</td>\n",
       "      <td>NaN</td>\n",
       "      <td>2024-03-26</td>\n",
       "      <td>1492.65</td>\n",
       "    </tr>\n",
       "    <tr>\n",
       "      <th>238</th>\n",
       "      <td>INFY</td>\n",
       "      <td>NaN</td>\n",
       "      <td>NaN</td>\n",
       "      <td>5018</td>\n",
       "      <td>NaN</td>\n",
       "      <td>INFOSYS</td>\n",
       "      <td>NaN</td>\n",
       "      <td>2024-03-27</td>\n",
       "      <td>1483.85</td>\n",
       "    </tr>\n",
       "    <tr>\n",
       "      <th>239</th>\n",
       "      <td>INFY</td>\n",
       "      <td>NaN</td>\n",
       "      <td>NaN</td>\n",
       "      <td>5018</td>\n",
       "      <td>NaN</td>\n",
       "      <td>INFOSYS</td>\n",
       "      <td>NaN</td>\n",
       "      <td>2024-03-28</td>\n",
       "      <td>1498.05</td>\n",
       "    </tr>\n",
       "    <tr>\n",
       "      <th>240</th>\n",
       "      <td>INFY</td>\n",
       "      <td>NaN</td>\n",
       "      <td>NaN</td>\n",
       "      <td>5018</td>\n",
       "      <td>NaN</td>\n",
       "      <td>INFOSYS</td>\n",
       "      <td>NaN</td>\n",
       "      <td>2024-04-01</td>\n",
       "      <td>1495.45</td>\n",
       "    </tr>\n",
       "    <tr>\n",
       "      <th>241</th>\n",
       "      <td>INFY</td>\n",
       "      <td>NaN</td>\n",
       "      <td>NaN</td>\n",
       "      <td>5018</td>\n",
       "      <td>NaN</td>\n",
       "      <td>INFOSYS</td>\n",
       "      <td>NaN</td>\n",
       "      <td>2024-04-02</td>\n",
       "      <td>1482.85</td>\n",
       "    </tr>\n",
       "  </tbody>\n",
       "</table>\n",
       "<p>244 rows × 9 columns</p>\n",
       "</div>"
      ],
      "text/plain": [
       "       ticker  matching_score user_query  investment_option_id  \\\n",
       "8    ADANIENT            90.0      adani                  1403   \n",
       "0        INFY           100.0    infosys                  5018   \n",
       "0    ADANIENT             NaN        NaN                  1403   \n",
       "1    ADANIENT             NaN        NaN                  1403   \n",
       "2    ADANIENT             NaN        NaN                  1403   \n",
       "..        ...             ...        ...                   ...   \n",
       "237      INFY             NaN        NaN                  5018   \n",
       "238      INFY             NaN        NaN                  5018   \n",
       "239      INFY             NaN        NaN                  5018   \n",
       "240      INFY             NaN        NaN                  5018   \n",
       "241      INFY             NaN        NaN                  5018   \n",
       "\n",
       "    kite_quotes_symbol               name    price          dt    close  \n",
       "8         NSE:ADANIENT  ADANI ENTERPRISES  3218.05         NaN      NaN  \n",
       "0             NSE:INFY            INFOSYS  1479.95         NaN      NaN  \n",
       "0                  NaN  ADANI ENTERPRISES      NaN  2023-10-09   2442.6  \n",
       "1                  NaN  ADANI ENTERPRISES      NaN  2023-10-10   2498.3  \n",
       "2                  NaN  ADANI ENTERPRISES      NaN  2023-10-11   2488.6  \n",
       "..                 ...                ...      ...         ...      ...  \n",
       "237                NaN            INFOSYS      NaN  2024-03-26  1492.65  \n",
       "238                NaN            INFOSYS      NaN  2024-03-27  1483.85  \n",
       "239                NaN            INFOSYS      NaN  2024-03-28  1498.05  \n",
       "240                NaN            INFOSYS      NaN  2024-04-01  1495.45  \n",
       "241                NaN            INFOSYS      NaN  2024-04-02  1482.85  \n",
       "\n",
       "[244 rows x 9 columns]"
      ]
     },
     "execution_count": 6,
     "metadata": {},
     "output_type": "execute_result"
    }
   ],
   "source": [
    "pd.concat([a,b])"
   ]
  },
  {
   "cell_type": "code",
   "execution_count": 8,
   "id": "9fdd6bf9-a415-4c5f-bfca-00441b8752d6",
   "metadata": {
    "tags": []
   },
   "outputs": [
    {
     "data": {
      "text/html": [
       "<div>\n",
       "<style scoped>\n",
       "    .dataframe tbody tr th:only-of-type {\n",
       "        vertical-align: middle;\n",
       "    }\n",
       "\n",
       "    .dataframe tbody tr th {\n",
       "        vertical-align: top;\n",
       "    }\n",
       "\n",
       "    .dataframe thead th {\n",
       "        text-align: right;\n",
       "    }\n",
       "</style>\n",
       "<table border=\"1\" class=\"dataframe\">\n",
       "  <thead>\n",
       "    <tr style=\"text-align: right;\">\n",
       "      <th></th>\n",
       "      <th>investment_option_id</th>\n",
       "      <th>dt</th>\n",
       "      <th>close</th>\n",
       "      <th>ticker</th>\n",
       "      <th>name</th>\n",
       "    </tr>\n",
       "  </thead>\n",
       "  <tbody>\n",
       "    <tr>\n",
       "      <th>0</th>\n",
       "      <td>1403</td>\n",
       "      <td>2023-10-09</td>\n",
       "      <td>2442.6</td>\n",
       "      <td>ADANIENT</td>\n",
       "      <td>ADANI ENTERPRISES</td>\n",
       "    </tr>\n",
       "    <tr>\n",
       "      <th>1</th>\n",
       "      <td>1403</td>\n",
       "      <td>2023-10-10</td>\n",
       "      <td>2498.3</td>\n",
       "      <td>ADANIENT</td>\n",
       "      <td>ADANI ENTERPRISES</td>\n",
       "    </tr>\n",
       "    <tr>\n",
       "      <th>2</th>\n",
       "      <td>1403</td>\n",
       "      <td>2023-10-11</td>\n",
       "      <td>2488.6</td>\n",
       "      <td>ADANIENT</td>\n",
       "      <td>ADANI ENTERPRISES</td>\n",
       "    </tr>\n",
       "    <tr>\n",
       "      <th>3</th>\n",
       "      <td>1403</td>\n",
       "      <td>2023-10-12</td>\n",
       "      <td>2506.35</td>\n",
       "      <td>ADANIENT</td>\n",
       "      <td>ADANI ENTERPRISES</td>\n",
       "    </tr>\n",
       "    <tr>\n",
       "      <th>4</th>\n",
       "      <td>1403</td>\n",
       "      <td>2023-10-13</td>\n",
       "      <td>2454.55</td>\n",
       "      <td>ADANIENT</td>\n",
       "      <td>ADANI ENTERPRISES</td>\n",
       "    </tr>\n",
       "    <tr>\n",
       "      <th>...</th>\n",
       "      <td>...</td>\n",
       "      <td>...</td>\n",
       "      <td>...</td>\n",
       "      <td>...</td>\n",
       "      <td>...</td>\n",
       "    </tr>\n",
       "    <tr>\n",
       "      <th>237</th>\n",
       "      <td>5018</td>\n",
       "      <td>2024-03-26</td>\n",
       "      <td>1492.65</td>\n",
       "      <td>INFY</td>\n",
       "      <td>INFOSYS</td>\n",
       "    </tr>\n",
       "    <tr>\n",
       "      <th>238</th>\n",
       "      <td>5018</td>\n",
       "      <td>2024-03-27</td>\n",
       "      <td>1483.85</td>\n",
       "      <td>INFY</td>\n",
       "      <td>INFOSYS</td>\n",
       "    </tr>\n",
       "    <tr>\n",
       "      <th>239</th>\n",
       "      <td>5018</td>\n",
       "      <td>2024-03-28</td>\n",
       "      <td>1498.05</td>\n",
       "      <td>INFY</td>\n",
       "      <td>INFOSYS</td>\n",
       "    </tr>\n",
       "    <tr>\n",
       "      <th>240</th>\n",
       "      <td>5018</td>\n",
       "      <td>2024-04-01</td>\n",
       "      <td>1495.45</td>\n",
       "      <td>INFY</td>\n",
       "      <td>INFOSYS</td>\n",
       "    </tr>\n",
       "    <tr>\n",
       "      <th>241</th>\n",
       "      <td>5018</td>\n",
       "      <td>2024-04-02</td>\n",
       "      <td>1482.85</td>\n",
       "      <td>INFY</td>\n",
       "      <td>INFOSYS</td>\n",
       "    </tr>\n",
       "  </tbody>\n",
       "</table>\n",
       "<p>242 rows × 5 columns</p>\n",
       "</div>"
      ],
      "text/plain": [
       "     investment_option_id          dt    close    ticker               name\n",
       "0                    1403  2023-10-09   2442.6  ADANIENT  ADANI ENTERPRISES\n",
       "1                    1403  2023-10-10   2498.3  ADANIENT  ADANI ENTERPRISES\n",
       "2                    1403  2023-10-11   2488.6  ADANIENT  ADANI ENTERPRISES\n",
       "3                    1403  2023-10-12  2506.35  ADANIENT  ADANI ENTERPRISES\n",
       "4                    1403  2023-10-13  2454.55  ADANIENT  ADANI ENTERPRISES\n",
       "..                    ...         ...      ...       ...                ...\n",
       "237                  5018  2024-03-26  1492.65      INFY            INFOSYS\n",
       "238                  5018  2024-03-27  1483.85      INFY            INFOSYS\n",
       "239                  5018  2024-03-28  1498.05      INFY            INFOSYS\n",
       "240                  5018  2024-04-01  1495.45      INFY            INFOSYS\n",
       "241                  5018  2024-04-02  1482.85      INFY            INFOSYS\n",
       "\n",
       "[242 rows x 5 columns]"
      ]
     },
     "execution_count": 8,
     "metadata": {},
     "output_type": "execute_result"
    }
   ],
   "source": [
    "b"
   ]
  },
  {
   "cell_type": "code",
   "execution_count": 4,
   "id": "9b5a5db8-3d3d-4861-a390-75ed603ea722",
   "metadata": {
    "tags": []
   },
   "outputs": [
    {
     "data": {
      "text/plain": [
       "{'NSE:INFY': 1480.9}"
      ]
     },
     "execution_count": 4,
     "metadata": {},
     "output_type": "execute_result"
    }
   ],
   "source": [
    "PortfolioService.get_latest_prices_for_tickers(['NSE:INFY'])"
   ]
  },
  {
   "cell_type": "code",
   "execution_count": 5,
   "id": "539c2edf-a62c-4293-a54f-6723bbddb944",
   "metadata": {
    "tags": []
   },
   "outputs": [],
   "source": [
    "k = PortfolioService.get_price_history_user_holdings(99)"
   ]
  },
  {
   "cell_type": "code",
   "execution_count": 6,
   "id": "92d7c2aa-8ee7-4ebe-9d4a-f45cc8b368d1",
   "metadata": {
    "tags": []
   },
   "outputs": [
    {
     "data": {
      "text/plain": [
       "ticker\n",
       "ADANIPORTS    122\n",
       "HDFCBANK      122\n",
       "IDEA          122\n",
       "NHPC          122\n",
       "RELIANCE      122\n",
       "SBIN          122\n",
       "TATASTEEL     122\n",
       "ZOMATO        122\n",
       "Name: ticker, dtype: int64"
      ]
     },
     "execution_count": 6,
     "metadata": {},
     "output_type": "execute_result"
    }
   ],
   "source": [
    "k.groupby('ticker')['ticker'].count()"
   ]
  },
  {
   "cell_type": "code",
   "execution_count": 9,
   "id": "ef49af47-6c5b-40e3-92b1-a8c540b85f26",
   "metadata": {
    "tags": []
   },
   "outputs": [
    {
     "data": {
      "text/plain": [
       "122"
      ]
     },
     "execution_count": 9,
     "metadata": {},
     "output_type": "execute_result"
    }
   ],
   "source": [
    "k['dt'].nunique()"
   ]
  },
  {
   "cell_type": "code",
   "execution_count": 12,
   "id": "15ed2d89-710e-45e8-a80b-b9a2a713f2b5",
   "metadata": {
    "tags": []
   },
   "outputs": [
    {
     "data": {
      "text/html": [
       "<div>\n",
       "<style scoped>\n",
       "    .dataframe tbody tr th:only-of-type {\n",
       "        vertical-align: middle;\n",
       "    }\n",
       "\n",
       "    .dataframe tbody tr th {\n",
       "        vertical-align: top;\n",
       "    }\n",
       "\n",
       "    .dataframe thead th {\n",
       "        text-align: right;\n",
       "    }\n",
       "</style>\n",
       "<table border=\"1\" class=\"dataframe\">\n",
       "  <thead>\n",
       "    <tr style=\"text-align: right;\">\n",
       "      <th></th>\n",
       "      <th>ticker</th>\n",
       "      <th>matching_score</th>\n",
       "      <th>kite_quotes_symbol</th>\n",
       "      <th>name</th>\n",
       "    </tr>\n",
       "  </thead>\n",
       "  <tbody>\n",
       "    <tr>\n",
       "      <th>0</th>\n",
       "      <td>INFY</td>\n",
       "      <td>100</td>\n",
       "      <td>NSE:INFY</td>\n",
       "      <td>INFOSYS</td>\n",
       "    </tr>\n",
       "    <tr>\n",
       "      <th>1</th>\n",
       "      <td>SOUTHERNIN</td>\n",
       "      <td>90</td>\n",
       "      <td>BSE:SOUTHERNIN</td>\n",
       "      <td>SOUTHERN INFOSYS</td>\n",
       "    </tr>\n",
       "    <tr>\n",
       "      <th>2</th>\n",
       "      <td>HCL-INSYS</td>\n",
       "      <td>90</td>\n",
       "      <td>NSE:HCL-INSYS</td>\n",
       "      <td>HCL INFOSYSTEMS</td>\n",
       "    </tr>\n",
       "  </tbody>\n",
       "</table>\n",
       "</div>"
      ],
      "text/plain": [
       "       ticker  matching_score kite_quotes_symbol               name\n",
       "0        INFY             100           NSE:INFY            INFOSYS\n",
       "1  SOUTHERNIN              90     BSE:SOUTHERNIN  SOUTHERN INFOSYS \n",
       "2   HCL-INSYS              90      NSE:HCL-INSYS    HCL INFOSYSTEMS"
      ]
     },
     "execution_count": 12,
     "metadata": {},
     "output_type": "execute_result"
    }
   ],
   "source": [
    "PortfolioService.filter_all_companies_by_name(['infosys'])"
   ]
  },
  {
   "cell_type": "code",
   "execution_count": 13,
   "id": "967bf6aa-20bf-454e-8f71-4f603ee6ac27",
   "metadata": {
    "tags": []
   },
   "outputs": [
    {
     "data": {
      "text/plain": [
       "{'text_box': {'value_type': 'rupees',\n",
       "  'chart_title': 'Latest share price of Infosys',\n",
       "  'data': {'INFOSYS': 1486.7}}}"
      ]
     },
     "execution_count": 13,
     "metadata": {},
     "output_type": "execute_result"
    }
   ],
   "source": [
    "PortfolioService.get_latest_share_price_trend_for_companies(['infosys'])"
   ]
  },
  {
   "cell_type": "code",
   "execution_count": 11,
   "id": "dbc671f6-e8b0-4556-ae0a-26dc29c48da5",
   "metadata": {
    "tags": []
   },
   "outputs": [
    {
     "data": {
      "text/plain": [
       "investment_option_id             int64\n",
       "dt                      datetime64[ns]\n",
       "close                          float64\n",
       "kite_quotes_symbol              object\n",
       "ticker                          object\n",
       "quantity                       float64\n",
       "average_price                  float64\n",
       "value                          float64\n",
       "dtype: object"
      ]
     },
     "execution_count": 11,
     "metadata": {},
     "output_type": "execute_result"
    }
   ],
   "source": [
    "k.dtypes"
   ]
  },
  {
   "cell_type": "code",
   "execution_count": 10,
   "id": "2548dcf1-9d38-4ff0-a135-12174b4101e0",
   "metadata": {
    "scrolled": true,
    "tags": []
   },
   "outputs": [
    {
     "data": {
      "text/plain": [
       "{Timestamp('2023-10-09 00:00:00'),\n",
       " Timestamp('2023-10-10 00:00:00'),\n",
       " Timestamp('2023-10-11 00:00:00'),\n",
       " Timestamp('2023-10-12 00:00:00'),\n",
       " Timestamp('2023-10-13 00:00:00'),\n",
       " Timestamp('2023-10-16 00:00:00'),\n",
       " Timestamp('2023-10-17 00:00:00'),\n",
       " Timestamp('2023-10-18 00:00:00'),\n",
       " Timestamp('2023-10-19 00:00:00'),\n",
       " Timestamp('2023-10-20 00:00:00'),\n",
       " Timestamp('2023-10-23 00:00:00'),\n",
       " Timestamp('2023-10-25 00:00:00'),\n",
       " Timestamp('2023-10-26 00:00:00'),\n",
       " Timestamp('2023-10-27 00:00:00'),\n",
       " Timestamp('2023-10-30 00:00:00'),\n",
       " Timestamp('2023-10-31 00:00:00'),\n",
       " Timestamp('2023-11-01 00:00:00'),\n",
       " Timestamp('2023-11-02 00:00:00'),\n",
       " Timestamp('2023-11-03 00:00:00'),\n",
       " Timestamp('2023-11-06 00:00:00'),\n",
       " Timestamp('2023-11-07 00:00:00'),\n",
       " Timestamp('2023-11-08 00:00:00'),\n",
       " Timestamp('2023-11-09 00:00:00'),\n",
       " Timestamp('2023-11-10 00:00:00'),\n",
       " Timestamp('2023-11-12 00:00:00'),\n",
       " Timestamp('2023-11-13 00:00:00'),\n",
       " Timestamp('2023-11-15 00:00:00'),\n",
       " Timestamp('2023-11-16 00:00:00'),\n",
       " Timestamp('2023-11-17 00:00:00'),\n",
       " Timestamp('2023-11-20 00:00:00'),\n",
       " Timestamp('2023-11-21 00:00:00'),\n",
       " Timestamp('2023-11-22 00:00:00'),\n",
       " Timestamp('2023-11-23 00:00:00'),\n",
       " Timestamp('2023-11-24 00:00:00'),\n",
       " Timestamp('2023-11-28 00:00:00'),\n",
       " Timestamp('2023-11-29 00:00:00'),\n",
       " Timestamp('2023-11-30 00:00:00'),\n",
       " Timestamp('2023-12-01 00:00:00'),\n",
       " Timestamp('2023-12-04 00:00:00'),\n",
       " Timestamp('2023-12-05 00:00:00'),\n",
       " Timestamp('2023-12-06 00:00:00'),\n",
       " Timestamp('2023-12-07 00:00:00'),\n",
       " Timestamp('2023-12-08 00:00:00'),\n",
       " Timestamp('2023-12-11 00:00:00'),\n",
       " Timestamp('2023-12-12 00:00:00'),\n",
       " Timestamp('2023-12-13 00:00:00'),\n",
       " Timestamp('2023-12-14 00:00:00'),\n",
       " Timestamp('2023-12-15 00:00:00'),\n",
       " Timestamp('2023-12-18 00:00:00'),\n",
       " Timestamp('2023-12-19 00:00:00'),\n",
       " Timestamp('2023-12-20 00:00:00'),\n",
       " Timestamp('2023-12-21 00:00:00'),\n",
       " Timestamp('2023-12-22 00:00:00'),\n",
       " Timestamp('2023-12-26 00:00:00'),\n",
       " Timestamp('2023-12-27 00:00:00'),\n",
       " Timestamp('2023-12-28 00:00:00'),\n",
       " Timestamp('2023-12-29 00:00:00'),\n",
       " Timestamp('2024-01-01 00:00:00'),\n",
       " Timestamp('2024-01-02 00:00:00'),\n",
       " Timestamp('2024-01-03 00:00:00'),\n",
       " Timestamp('2024-01-04 00:00:00'),\n",
       " Timestamp('2024-01-05 00:00:00'),\n",
       " Timestamp('2024-01-08 00:00:00'),\n",
       " Timestamp('2024-01-09 00:00:00'),\n",
       " Timestamp('2024-01-10 00:00:00'),\n",
       " Timestamp('2024-01-11 00:00:00'),\n",
       " Timestamp('2024-01-12 00:00:00'),\n",
       " Timestamp('2024-01-15 00:00:00'),\n",
       " Timestamp('2024-01-16 00:00:00'),\n",
       " Timestamp('2024-01-17 00:00:00'),\n",
       " Timestamp('2024-01-18 00:00:00'),\n",
       " Timestamp('2024-01-19 00:00:00'),\n",
       " Timestamp('2024-01-20 00:00:00'),\n",
       " Timestamp('2024-01-23 00:00:00'),\n",
       " Timestamp('2024-01-24 00:00:00'),\n",
       " Timestamp('2024-01-25 00:00:00'),\n",
       " Timestamp('2024-01-29 00:00:00'),\n",
       " Timestamp('2024-01-30 00:00:00'),\n",
       " Timestamp('2024-01-31 00:00:00'),\n",
       " Timestamp('2024-02-01 00:00:00'),\n",
       " Timestamp('2024-02-02 00:00:00'),\n",
       " Timestamp('2024-02-05 00:00:00'),\n",
       " Timestamp('2024-02-06 00:00:00'),\n",
       " Timestamp('2024-02-07 00:00:00'),\n",
       " Timestamp('2024-02-08 00:00:00'),\n",
       " Timestamp('2024-02-09 00:00:00'),\n",
       " Timestamp('2024-02-12 00:00:00'),\n",
       " Timestamp('2024-02-13 00:00:00'),\n",
       " Timestamp('2024-02-14 00:00:00'),\n",
       " Timestamp('2024-02-15 00:00:00'),\n",
       " Timestamp('2024-02-16 00:00:00'),\n",
       " Timestamp('2024-02-19 00:00:00'),\n",
       " Timestamp('2024-02-20 00:00:00'),\n",
       " Timestamp('2024-02-21 00:00:00'),\n",
       " Timestamp('2024-02-22 00:00:00'),\n",
       " Timestamp('2024-02-23 00:00:00'),\n",
       " Timestamp('2024-02-26 00:00:00'),\n",
       " Timestamp('2024-02-27 00:00:00'),\n",
       " Timestamp('2024-02-28 00:00:00'),\n",
       " Timestamp('2024-02-29 00:00:00'),\n",
       " Timestamp('2024-03-01 00:00:00'),\n",
       " Timestamp('2024-03-02 00:00:00'),\n",
       " Timestamp('2024-03-04 00:00:00'),\n",
       " Timestamp('2024-03-05 00:00:00'),\n",
       " Timestamp('2024-03-06 00:00:00'),\n",
       " Timestamp('2024-03-07 00:00:00'),\n",
       " Timestamp('2024-03-11 00:00:00'),\n",
       " Timestamp('2024-03-12 00:00:00'),\n",
       " Timestamp('2024-03-13 00:00:00'),\n",
       " Timestamp('2024-03-14 00:00:00'),\n",
       " Timestamp('2024-03-15 00:00:00'),\n",
       " Timestamp('2024-03-18 00:00:00'),\n",
       " Timestamp('2024-03-19 00:00:00'),\n",
       " Timestamp('2024-03-20 00:00:00'),\n",
       " Timestamp('2024-03-21 00:00:00'),\n",
       " Timestamp('2024-03-22 00:00:00'),\n",
       " Timestamp('2024-03-26 00:00:00'),\n",
       " Timestamp('2024-03-27 00:00:00'),\n",
       " Timestamp('2024-03-28 00:00:00'),\n",
       " Timestamp('2024-04-01 00:00:00'),\n",
       " Timestamp('2024-04-02 00:00:00'),\n",
       " Timestamp('2024-04-05 00:00:00')}"
      ]
     },
     "execution_count": 10,
     "metadata": {},
     "output_type": "execute_result"
    }
   ],
   "source": [
    "set(k['dt'])"
   ]
  },
  {
   "cell_type": "code",
   "execution_count": 3,
   "id": "3d246223-1b57-4e4a-9690-25f08be28524",
   "metadata": {
    "tags": []
   },
   "outputs": [],
   "source": [
    "k = PortfolioSQL.get_nse_ticker_list_history([1,2,3])"
   ]
  },
  {
   "cell_type": "code",
   "execution_count": 9,
   "id": "8f91d457-9122-46a8-8b72-050b9d6647df",
   "metadata": {
    "tags": []
   },
   "outputs": [],
   "source": [
    "import time"
   ]
  },
  {
   "cell_type": "code",
   "execution_count": 10,
   "id": "1389c1da-3cd3-4edb-859e-3462603aecc8",
   "metadata": {
    "tags": []
   },
   "outputs": [],
   "source": [
    "s = time.time()\n",
    "a = PortfolioSQL.get_all_nse_symbols()\n",
    "e = time.time()"
   ]
  },
  {
   "cell_type": "code",
   "execution_count": 11,
   "id": "2010de93-672e-462c-8875-1894757b26f2",
   "metadata": {
    "tags": []
   },
   "outputs": [
    {
     "data": {
      "text/plain": [
       "7.424973964691162"
      ]
     },
     "execution_count": 11,
     "metadata": {},
     "output_type": "execute_result"
    }
   ],
   "source": [
    "e-s"
   ]
  },
  {
   "cell_type": "code",
   "execution_count": 6,
   "id": "a6fbfd7c-0ceb-401c-b47f-82b04398af55",
   "metadata": {
    "tags": []
   },
   "outputs": [],
   "source": [
    "import time"
   ]
  },
  {
   "cell_type": "code",
   "execution_count": 7,
   "id": "e1ce7b26-a19e-494a-9450-c2a804bc2414",
   "metadata": {
    "tags": []
   },
   "outputs": [],
   "source": [
    "s = time.time()\n",
    "PortfolioService.get_latest_share_price_trend_for_companies(['infosys'])\n",
    "e = time.time()"
   ]
  },
  {
   "cell_type": "code",
   "execution_count": 8,
   "id": "011ae9aa-da26-4a7e-97fb-f297bdf715fe",
   "metadata": {
    "tags": []
   },
   "outputs": [
    {
     "data": {
      "text/plain": [
       "2.1446940898895264"
      ]
     },
     "execution_count": 8,
     "metadata": {},
     "output_type": "execute_result"
    }
   ],
   "source": [
    "e-s"
   ]
  },
  {
   "cell_type": "code",
   "execution_count": 4,
   "id": "4f7e0141-85a1-421e-b2cf-d232a6dda667",
   "metadata": {
    "tags": []
   },
   "outputs": [
    {
     "data": {
      "text/html": [
       "<div>\n",
       "<style scoped>\n",
       "    .dataframe tbody tr th:only-of-type {\n",
       "        vertical-align: middle;\n",
       "    }\n",
       "\n",
       "    .dataframe tbody tr th {\n",
       "        vertical-align: top;\n",
       "    }\n",
       "\n",
       "    .dataframe thead th {\n",
       "        text-align: right;\n",
       "    }\n",
       "</style>\n",
       "<table border=\"1\" class=\"dataframe\">\n",
       "  <thead>\n",
       "    <tr style=\"text-align: right;\">\n",
       "      <th></th>\n",
       "      <th>ticker</th>\n",
       "      <th>matching_score</th>\n",
       "      <th>kite_quotes_symbol</th>\n",
       "      <th>name</th>\n",
       "    </tr>\n",
       "  </thead>\n",
       "  <tbody>\n",
       "    <tr>\n",
       "      <th>0</th>\n",
       "      <td>INFY</td>\n",
       "      <td>100</td>\n",
       "      <td>NSE:INFY</td>\n",
       "      <td>INFOSYS</td>\n",
       "    </tr>\n",
       "    <tr>\n",
       "      <th>1</th>\n",
       "      <td>SOUTHERNIN</td>\n",
       "      <td>90</td>\n",
       "      <td>BSE:SOUTHERNIN</td>\n",
       "      <td>SOUTHERN INFOSYS</td>\n",
       "    </tr>\n",
       "    <tr>\n",
       "      <th>2</th>\n",
       "      <td>HCL-INSYS</td>\n",
       "      <td>90</td>\n",
       "      <td>NSE:HCL-INSYS</td>\n",
       "      <td>HCL INFOSYSTEMS</td>\n",
       "    </tr>\n",
       "  </tbody>\n",
       "</table>\n",
       "</div>"
      ],
      "text/plain": [
       "       ticker  matching_score kite_quotes_symbol               name\n",
       "0        INFY             100           NSE:INFY            INFOSYS\n",
       "1  SOUTHERNIN              90     BSE:SOUTHERNIN  SOUTHERN INFOSYS \n",
       "2   HCL-INSYS              90      NSE:HCL-INSYS    HCL INFOSYSTEMS"
      ]
     },
     "execution_count": 4,
     "metadata": {},
     "output_type": "execute_result"
    }
   ],
   "source": [
    "PortfolioService.filter_nse_companies_by_name(['infosys'])"
   ]
  },
  {
   "cell_type": "code",
   "execution_count": 8,
   "id": "3c6caa25-3fbd-499e-b257-084d8ed84a55",
   "metadata": {
    "tags": []
   },
   "outputs": [],
   "source": [
    "k = '[Insight.PortfolioDatum(textBox: Optional(Insight.TextBox(totalProfit: nil, graphType: nil, valueType: Optional(\"rupees\"), chartTitle: Optional(\"Current Value\"))), barChart: nil), Insight.PortfolioDatum(textBox: nil, barChart: Optional(Insight.BarChart(chartTitle: Optional(\"Top Holdings by Current Value\"), data: Optional([[\"RELIANCE INDUSTRIES\": 2943.2], [\"HDFC BANK\": 1482.3], [\"ADANI PORT & SEZ\": 1397.2], [\"STATE BANK OF INDIA\": 771.05], [\"ZOMATO\": 178.3], [\"TATA STEEL\": 163.65], [\"NHPC\": 93.2], [\"VODAFONE IDEA\": 13.55]]), valueType: Optional(\"rupees\"))))]'"
   ]
  },
  {
   "cell_type": "code",
   "execution_count": 11,
   "id": "335407cd-cf56-40bd-bfe4-c76fcaa219e9",
   "metadata": {
    "tags": []
   },
   "outputs": [],
   "source": [
    "k = [{'a': 'b'}]"
   ]
  },
  {
   "cell_type": "code",
   "execution_count": 13,
   "id": "4e9cdb9a-f770-4527-bbf9-7e10aeedb247",
   "metadata": {
    "tags": []
   },
   "outputs": [],
   "source": [
    "k = []"
   ]
  },
  {
   "cell_type": "code",
   "execution_count": 14,
   "id": "121097d9-d02f-4206-8f42-030fd6b023b7",
   "metadata": {
    "tags": []
   },
   "outputs": [],
   "source": [
    "if k:\n",
    "    print(1)"
   ]
  },
  {
   "cell_type": "code",
   "execution_count": 9,
   "id": "b304619f-93ee-45c6-9209-67cbbbc1f14b",
   "metadata": {
    "tags": []
   },
   "outputs": [],
   "source": [
    "import json"
   ]
  },
  {
   "cell_type": "code",
   "execution_count": 5,
   "id": "abbe2104-0410-4071-aac8-7f41297cdb21",
   "metadata": {
    "tags": []
   },
   "outputs": [
    {
     "data": {
      "text/plain": [
       "[{'text_box': {'data': [{'value': 5857.5}],\n",
       "   'value_type': 'rupees',\n",
       "   'chart_title': 'Current Value'}},\n",
       " {'bar_chart': {'value_type': 'rupees',\n",
       "   'chart_title': 'Top Holdings by Current Value',\n",
       "   'data': [{'CUPID': 5857.5}]}}]"
      ]
     },
     "execution_count": 5,
     "metadata": {},
     "output_type": "execute_result"
    }
   ],
   "source": [
    "PortfolioService.get_current_portfolio_value(1, companies_list=['cupid'])"
   ]
  },
  {
   "cell_type": "code",
   "execution_count": 4,
   "id": "c2692a2e-30dd-4d98-8595-49cbc2cb6362",
   "metadata": {
    "tags": []
   },
   "outputs": [],
   "source": [
    "s = PortfolioService.get_price_history_user_holdings(user_id=1)"
   ]
  },
  {
   "cell_type": "code",
   "execution_count": 5,
   "id": "3f920a2b-ec38-4641-a618-143491d3b27a",
   "metadata": {
    "tags": []
   },
   "outputs": [
    {
     "data": {
      "text/plain": [
       "nse_ticker                     object\n",
       "dt                     datetime64[ns]\n",
       "close                         float64\n",
       "user_id                         int64\n",
       "name                           object\n",
       "kite_trading_symbol            object\n",
       "instrument_token               object\n",
       "quantity                      float64\n",
       "average_price                 float64\n",
       "value                         float64\n",
       "dtype: object"
      ]
     },
     "execution_count": 5,
     "metadata": {},
     "output_type": "execute_result"
    }
   ],
   "source": [
    "s.dtypes"
   ]
  },
  {
   "cell_type": "code",
   "execution_count": 8,
   "id": "2f7fd916-70db-405c-ad23-acce78d65395",
   "metadata": {
    "tags": []
   },
   "outputs": [],
   "source": [
    "k = PortfolioService.get_portfolio_performance_over_period(user_id = 1)"
   ]
  },
  {
   "cell_type": "code",
   "execution_count": 19,
   "id": "9c1d2e72-904e-471b-a576-c15ff720b028",
   "metadata": {
    "tags": []
   },
   "outputs": [],
   "source": [
    "s1 = PortfolioSQL.get_nse_ticker_list_history(nse_ticker_list=['HDIL', 'L&TFH'], num_days=180)"
   ]
  },
  {
   "cell_type": "code",
   "execution_count": 20,
   "id": "8aa8affd-623d-4a41-b2a4-3524fe851a9b",
   "metadata": {
    "tags": []
   },
   "outputs": [],
   "source": [
    "s1 = s1.rename(columns = {'dt': 'date', 'close': 'price'})"
   ]
  },
  {
   "cell_type": "code",
   "execution_count": 27,
   "id": "27bf37ce-8067-46a8-96b1-e6ac192210f4",
   "metadata": {
    "tags": []
   },
   "outputs": [],
   "source": [
    "data = {}"
   ]
  },
  {
   "cell_type": "code",
   "execution_count": 25,
   "id": "cea29e43-70b2-40ec-96c7-90e6f2bc68a4",
   "metadata": {
    "tags": []
   },
   "outputs": [],
   "source": [
    "resp = []"
   ]
  },
  {
   "cell_type": "code",
   "execution_count": 28,
   "id": "65f99054-d45e-4997-9333-ef530941916b",
   "metadata": {
    "tags": []
   },
   "outputs": [],
   "source": [
    "for tick in set(s1['nse_ticker']):\n",
    "    cur_ticker_data = s1[s1.nse_ticker == tick]\n",
    "    data[f'{tick}'] = [{x['date'].strftime('%Y-%m-%d'): float(x['price'])} for i, x in cur_ticker_data.iterrows()]\n",
    "    # data.append(cur_data)"
   ]
  },
  {
   "cell_type": "code",
   "execution_count": 29,
   "id": "84f93454-5435-4aa0-9869-5930ca6a6985",
   "metadata": {
    "tags": []
   },
   "outputs": [],
   "source": [
    "resp = [{'line_chart': {'data': data, 'value_type': 'rupees', 'chart_title': f'HIUL share price history'}}]"
   ]
  },
  {
   "cell_type": "code",
   "execution_count": 30,
   "id": "3362d4e5-bb8a-47c3-a16a-6ac62bbe0fb0",
   "metadata": {
    "tags": []
   },
   "outputs": [
    {
     "data": {
      "text/plain": [
       "[{'line_chart': {'data': {'HDIL': [{'2023-10-09': 3.15},\n",
       "     {'2023-10-10': 3.3},\n",
       "     {'2023-10-11': 3.45},\n",
       "     {'2023-10-16': 3.3},\n",
       "     {'2023-10-23': 3.15},\n",
       "     {'2023-10-30': 3.0},\n",
       "     {'2023-11-06': 3.1},\n",
       "     {'2023-11-13': 3.25},\n",
       "     {'2023-11-20': 3.4},\n",
       "     {'2023-11-28': 3.5},\n",
       "     {'2023-12-01': 3.65},\n",
       "     {'2023-12-04': 3.8},\n",
       "     {'2023-12-05': 3.95},\n",
       "     {'2023-12-06': 4.1},\n",
       "     {'2023-12-07': 4.3},\n",
       "     {'2023-12-08': 4.5},\n",
       "     {'2023-12-11': 4.7},\n",
       "     {'2023-12-18': 4.5},\n",
       "     {'2023-12-26': 4.3},\n",
       "     {'2024-01-01': 4.1},\n",
       "     {'2024-01-08': 3.9},\n",
       "     {'2024-01-15': 3.9},\n",
       "     {'2024-01-23': 4.05},\n",
       "     {'2024-01-29': 4.25},\n",
       "     {'2024-02-01': 4.45},\n",
       "     {'2024-02-02': 4.65},\n",
       "     {'2024-02-05': 4.85},\n",
       "     {'2024-02-06': 5.05},\n",
       "     {'2024-02-07': 5.3},\n",
       "     {'2024-02-08': 5.55},\n",
       "     {'2024-02-09': 5.8},\n",
       "     {'2024-02-19': 5.55},\n",
       "     {'2024-02-26': 5.3},\n",
       "     {'2024-03-04': 5.05},\n",
       "     {'2024-03-11': 4.8},\n",
       "     {'2024-03-18': 4.6},\n",
       "     {'2024-03-26': 4.4},\n",
       "     {'2024-04-01': 4.2},\n",
       "     {'2024-04-02': 4.4}],\n",
       "    'L&TFH': [{'2023-10-09': 131.0},\n",
       "     {'2023-10-10': 133.7},\n",
       "     {'2023-10-11': 132.85},\n",
       "     {'2023-10-12': 133.85},\n",
       "     {'2023-10-13': 133.6},\n",
       "     {'2023-10-16': 134.9},\n",
       "     {'2023-10-17': 139.1},\n",
       "     {'2023-10-18': 137.05},\n",
       "     {'2023-10-19': 138.15},\n",
       "     {'2023-10-20': 137.85},\n",
       "     {'2023-10-23': 132.5},\n",
       "     {'2023-10-25': 132.4},\n",
       "     {'2023-10-26': 131.4},\n",
       "     {'2023-10-27': 137.0},\n",
       "     {'2023-10-30': 132.45},\n",
       "     {'2023-10-31': 133.0},\n",
       "     {'2023-11-01': 131.85},\n",
       "     {'2023-11-02': 134.3},\n",
       "     {'2023-11-03': 140.85},\n",
       "     {'2023-11-06': 142.45},\n",
       "     {'2023-11-07': 141.85},\n",
       "     {'2023-11-08': 140.95},\n",
       "     {'2023-11-09': 140.95},\n",
       "     {'2023-11-10': 140.8},\n",
       "     {'2023-11-12': 141.95},\n",
       "     {'2023-11-13': 144.4},\n",
       "     {'2023-11-15': 150.45},\n",
       "     {'2023-11-16': 149.7},\n",
       "     {'2023-11-17': 141.15},\n",
       "     {'2023-11-20': 139.45},\n",
       "     {'2023-11-21': 141.65},\n",
       "     {'2023-11-22': 141.45},\n",
       "     {'2023-11-23': 141.85},\n",
       "     {'2023-11-24': 139.9},\n",
       "     {'2023-11-28': 144.75},\n",
       "     {'2023-11-29': 145.15},\n",
       "     {'2023-11-30': 148.25},\n",
       "     {'2023-12-01': 151.0},\n",
       "     {'2023-12-04': 153.85},\n",
       "     {'2023-12-05': 154.55},\n",
       "     {'2023-12-06': 155.9},\n",
       "     {'2023-12-07': 154.8},\n",
       "     {'2023-12-08': 153.8},\n",
       "     {'2023-12-11': 153.3},\n",
       "     {'2023-12-12': 152.45},\n",
       "     {'2023-12-13': 155.25},\n",
       "     {'2023-12-14': 159.35},\n",
       "     {'2023-12-15': 161.25},\n",
       "     {'2023-12-18': 159.6},\n",
       "     {'2023-12-19': 159.5},\n",
       "     {'2023-12-20': 150.1},\n",
       "     {'2023-12-21': 151.55},\n",
       "     {'2023-12-22': 152.8},\n",
       "     {'2023-12-26': 153.0},\n",
       "     {'2023-12-27': 156.05},\n",
       "     {'2023-12-28': 162.15},\n",
       "     {'2023-12-29': 165.05},\n",
       "     {'2024-01-01': 163.45},\n",
       "     {'2024-01-02': 162.35},\n",
       "     {'2024-01-03': 166.15},\n",
       "     {'2024-01-04': 171.6},\n",
       "     {'2024-01-05': 170.9},\n",
       "     {'2024-01-08': 168.35},\n",
       "     {'2024-01-09': 166.45},\n",
       "     {'2024-01-10': 165.75},\n",
       "     {'2024-01-11': 168.5},\n",
       "     {'2024-01-12': 167.15},\n",
       "     {'2024-01-15': 169.75},\n",
       "     {'2024-01-16': 167.5},\n",
       "     {'2024-01-17': 169.7},\n",
       "     {'2024-01-18': 166.45},\n",
       "     {'2024-01-19': 168.3},\n",
       "     {'2024-01-20': 166.9},\n",
       "     {'2024-01-23': 159.55},\n",
       "     {'2024-01-24': 161.25},\n",
       "     {'2024-01-25': 166.9},\n",
       "     {'2024-01-29': 167.6},\n",
       "     {'2024-01-30': 167.8},\n",
       "     {'2024-01-31': 173.2},\n",
       "     {'2024-02-01': 172.25},\n",
       "     {'2024-02-02': 174.7},\n",
       "     {'2024-02-05': 173.15},\n",
       "     {'2024-02-06': 170.3},\n",
       "     {'2024-02-07': 176.25},\n",
       "     {'2024-02-08': 172.9},\n",
       "     {'2024-02-09': 171.5},\n",
       "     {'2024-02-12': 166.75},\n",
       "     {'2024-02-13': 170.6},\n",
       "     {'2024-02-14': 172.1},\n",
       "     {'2024-02-15': 171.6},\n",
       "     {'2024-02-16': 173.8},\n",
       "     {'2024-02-19': 175.25},\n",
       "     {'2024-02-20': 174.45},\n",
       "     {'2024-02-21': 170.45},\n",
       "     {'2024-02-22': 171.6},\n",
       "     {'2024-02-23': 171.6},\n",
       "     {'2024-02-26': 171.05},\n",
       "     {'2024-02-27': 169.05},\n",
       "     {'2024-02-28': 165.1},\n",
       "     {'2024-02-29': 167.15},\n",
       "     {'2024-03-01': 170.65},\n",
       "     {'2024-03-02': 171.4},\n",
       "     {'2024-03-04': 174.3},\n",
       "     {'2024-03-05': 171.75},\n",
       "     {'2024-03-06': 159.2},\n",
       "     {'2024-03-07': 161.8},\n",
       "     {'2024-03-11': 157.55},\n",
       "     {'2024-03-12': 155.55},\n",
       "     {'2024-03-13': 147.6},\n",
       "     {'2024-03-14': 149.2},\n",
       "     {'2024-03-15': 150.9},\n",
       "     {'2024-03-18': 148.0},\n",
       "     {'2024-03-19': 147.1},\n",
       "     {'2024-03-20': 149.0},\n",
       "     {'2024-03-21': 156.0},\n",
       "     {'2024-03-22': 155.0},\n",
       "     {'2024-03-26': 156.5},\n",
       "     {'2024-03-27': 159.0},\n",
       "     {'2024-03-28': 158.25},\n",
       "     {'2024-04-01': 162.75},\n",
       "     {'2024-04-02': 166.85}]},\n",
       "   'value_type': 'rupees',\n",
       "   'chart_title': 'HIUL share price history'}}]"
      ]
     },
     "execution_count": 30,
     "metadata": {},
     "output_type": "execute_result"
    }
   ],
   "source": [
    "resp"
   ]
  },
  {
   "cell_type": "code",
   "execution_count": null,
   "id": "74f88193-bb3d-40b7-b9bd-ca9e66e71873",
   "metadata": {},
   "outputs": [],
   "source": []
  },
  {
   "cell_type": "code",
   "execution_count": 21,
   "id": "b5c4c9ed-3636-41d3-aab7-4686542ea8f6",
   "metadata": {
    "tags": []
   },
   "outputs": [
    {
     "data": {
      "text/html": [
       "<div>\n",
       "<style scoped>\n",
       "    .dataframe tbody tr th:only-of-type {\n",
       "        vertical-align: middle;\n",
       "    }\n",
       "\n",
       "    .dataframe tbody tr th {\n",
       "        vertical-align: top;\n",
       "    }\n",
       "\n",
       "    .dataframe thead th {\n",
       "        text-align: right;\n",
       "    }\n",
       "</style>\n",
       "<table border=\"1\" class=\"dataframe\">\n",
       "  <thead>\n",
       "    <tr style=\"text-align: right;\">\n",
       "      <th></th>\n",
       "      <th>nse_ticker</th>\n",
       "      <th>date</th>\n",
       "      <th>price</th>\n",
       "    </tr>\n",
       "  </thead>\n",
       "  <tbody>\n",
       "    <tr>\n",
       "      <th>0</th>\n",
       "      <td>L&amp;TFH</td>\n",
       "      <td>2023-10-09</td>\n",
       "      <td>131</td>\n",
       "    </tr>\n",
       "    <tr>\n",
       "      <th>1</th>\n",
       "      <td>L&amp;TFH</td>\n",
       "      <td>2023-10-10</td>\n",
       "      <td>133.7</td>\n",
       "    </tr>\n",
       "    <tr>\n",
       "      <th>2</th>\n",
       "      <td>L&amp;TFH</td>\n",
       "      <td>2023-10-11</td>\n",
       "      <td>132.85</td>\n",
       "    </tr>\n",
       "    <tr>\n",
       "      <th>3</th>\n",
       "      <td>L&amp;TFH</td>\n",
       "      <td>2023-10-12</td>\n",
       "      <td>133.85</td>\n",
       "    </tr>\n",
       "    <tr>\n",
       "      <th>4</th>\n",
       "      <td>L&amp;TFH</td>\n",
       "      <td>2023-10-13</td>\n",
       "      <td>133.6</td>\n",
       "    </tr>\n",
       "    <tr>\n",
       "      <th>...</th>\n",
       "      <td>...</td>\n",
       "      <td>...</td>\n",
       "      <td>...</td>\n",
       "    </tr>\n",
       "    <tr>\n",
       "      <th>155</th>\n",
       "      <td>HDIL</td>\n",
       "      <td>2024-03-11</td>\n",
       "      <td>4.8</td>\n",
       "    </tr>\n",
       "    <tr>\n",
       "      <th>156</th>\n",
       "      <td>HDIL</td>\n",
       "      <td>2024-03-18</td>\n",
       "      <td>4.6</td>\n",
       "    </tr>\n",
       "    <tr>\n",
       "      <th>157</th>\n",
       "      <td>HDIL</td>\n",
       "      <td>2024-03-26</td>\n",
       "      <td>4.4</td>\n",
       "    </tr>\n",
       "    <tr>\n",
       "      <th>158</th>\n",
       "      <td>HDIL</td>\n",
       "      <td>2024-04-01</td>\n",
       "      <td>4.2</td>\n",
       "    </tr>\n",
       "    <tr>\n",
       "      <th>159</th>\n",
       "      <td>HDIL</td>\n",
       "      <td>2024-04-02</td>\n",
       "      <td>4.4</td>\n",
       "    </tr>\n",
       "  </tbody>\n",
       "</table>\n",
       "<p>160 rows × 3 columns</p>\n",
       "</div>"
      ],
      "text/plain": [
       "    nse_ticker        date   price\n",
       "0        L&TFH  2023-10-09     131\n",
       "1        L&TFH  2023-10-10   133.7\n",
       "2        L&TFH  2023-10-11  132.85\n",
       "3        L&TFH  2023-10-12  133.85\n",
       "4        L&TFH  2023-10-13   133.6\n",
       "..         ...         ...     ...\n",
       "155       HDIL  2024-03-11     4.8\n",
       "156       HDIL  2024-03-18     4.6\n",
       "157       HDIL  2024-03-26     4.4\n",
       "158       HDIL  2024-04-01     4.2\n",
       "159       HDIL  2024-04-02     4.4\n",
       "\n",
       "[160 rows x 3 columns]"
      ]
     },
     "execution_count": 21,
     "metadata": {},
     "output_type": "execute_result"
    }
   ],
   "source": [
    "s1"
   ]
  },
  {
   "cell_type": "code",
   "execution_count": 18,
   "id": "560c8805-f8f0-4b2e-a99c-a20d55d8e4ed",
   "metadata": {
    "tags": []
   },
   "outputs": [
    {
     "data": {
      "text/plain": [
       "[{'line_chart': {'data': {'HIUL': [{'2023-10-09': 3.15},\n",
       "     {'2023-10-10': 3.3},\n",
       "     {'2023-10-11': 3.45},\n",
       "     {'2023-10-16': 3.3},\n",
       "     {'2023-10-23': 3.15},\n",
       "     {'2023-10-30': 3.0},\n",
       "     {'2023-11-06': 3.1},\n",
       "     {'2023-11-13': 3.25},\n",
       "     {'2023-11-20': 3.4},\n",
       "     {'2023-11-28': 3.5},\n",
       "     {'2023-12-01': 3.65},\n",
       "     {'2023-12-04': 3.8},\n",
       "     {'2023-12-05': 3.95},\n",
       "     {'2023-12-06': 4.1},\n",
       "     {'2023-12-07': 4.3},\n",
       "     {'2023-12-08': 4.5},\n",
       "     {'2023-12-11': 4.7},\n",
       "     {'2023-12-18': 4.5},\n",
       "     {'2023-12-26': 4.3},\n",
       "     {'2024-01-01': 4.1},\n",
       "     {'2024-01-08': 3.9},\n",
       "     {'2024-01-15': 3.9},\n",
       "     {'2024-01-23': 4.05},\n",
       "     {'2024-01-29': 4.25},\n",
       "     {'2024-02-01': 4.45},\n",
       "     {'2024-02-02': 4.65},\n",
       "     {'2024-02-05': 4.85},\n",
       "     {'2024-02-06': 5.05},\n",
       "     {'2024-02-07': 5.3},\n",
       "     {'2024-02-08': 5.55},\n",
       "     {'2024-02-09': 5.8},\n",
       "     {'2024-02-19': 5.55},\n",
       "     {'2024-02-26': 5.3},\n",
       "     {'2024-03-04': 5.05},\n",
       "     {'2024-03-11': 4.8},\n",
       "     {'2024-03-18': 4.6},\n",
       "     {'2024-03-26': 4.4},\n",
       "     {'2024-04-01': 4.2},\n",
       "     {'2024-04-02': 4.4}]},\n",
       "   'value_type': 'rupees',\n",
       "   'chart_title': 'HIUL share price history'}}]"
      ]
     },
     "execution_count": 18,
     "metadata": {},
     "output_type": "execute_result"
    }
   ],
   "source": [
    "[{'line_chart': {'data': {'HIUL': [{x['date'].strftime('%Y-%m-%d'): float(x['price'])} for i, x in s1.iterrows()]}, 'value_type': 'rupees', 'chart_title': 'HIUL share price history'}}]"
   ]
  },
  {
   "cell_type": "code",
   "execution_count": 13,
   "id": "e2a72ab1-1249-4e9b-84dd-5e6764dadb4b",
   "metadata": {
    "tags": []
   },
   "outputs": [
    {
     "data": {
      "text/html": [
       "<div>\n",
       "<style scoped>\n",
       "    .dataframe tbody tr th:only-of-type {\n",
       "        vertical-align: middle;\n",
       "    }\n",
       "\n",
       "    .dataframe tbody tr th {\n",
       "        vertical-align: top;\n",
       "    }\n",
       "\n",
       "    .dataframe thead th {\n",
       "        text-align: right;\n",
       "    }\n",
       "</style>\n",
       "<table border=\"1\" class=\"dataframe\">\n",
       "  <thead>\n",
       "    <tr style=\"text-align: right;\">\n",
       "      <th></th>\n",
       "      <th>nse_ticker</th>\n",
       "      <th>dt</th>\n",
       "      <th>close</th>\n",
       "    </tr>\n",
       "  </thead>\n",
       "  <tbody>\n",
       "    <tr>\n",
       "      <th>0</th>\n",
       "      <td>HDIL</td>\n",
       "      <td>2023-10-09</td>\n",
       "      <td>3.15</td>\n",
       "    </tr>\n",
       "    <tr>\n",
       "      <th>1</th>\n",
       "      <td>HDIL</td>\n",
       "      <td>2023-10-10</td>\n",
       "      <td>3.3</td>\n",
       "    </tr>\n",
       "    <tr>\n",
       "      <th>2</th>\n",
       "      <td>HDIL</td>\n",
       "      <td>2023-10-11</td>\n",
       "      <td>3.45</td>\n",
       "    </tr>\n",
       "    <tr>\n",
       "      <th>3</th>\n",
       "      <td>HDIL</td>\n",
       "      <td>2023-10-16</td>\n",
       "      <td>3.3</td>\n",
       "    </tr>\n",
       "    <tr>\n",
       "      <th>4</th>\n",
       "      <td>HDIL</td>\n",
       "      <td>2023-10-23</td>\n",
       "      <td>3.15</td>\n",
       "    </tr>\n",
       "    <tr>\n",
       "      <th>5</th>\n",
       "      <td>HDIL</td>\n",
       "      <td>2023-10-30</td>\n",
       "      <td>3</td>\n",
       "    </tr>\n",
       "    <tr>\n",
       "      <th>6</th>\n",
       "      <td>HDIL</td>\n",
       "      <td>2023-11-06</td>\n",
       "      <td>3.1</td>\n",
       "    </tr>\n",
       "    <tr>\n",
       "      <th>7</th>\n",
       "      <td>HDIL</td>\n",
       "      <td>2023-11-13</td>\n",
       "      <td>3.25</td>\n",
       "    </tr>\n",
       "    <tr>\n",
       "      <th>8</th>\n",
       "      <td>HDIL</td>\n",
       "      <td>2023-11-20</td>\n",
       "      <td>3.4</td>\n",
       "    </tr>\n",
       "    <tr>\n",
       "      <th>9</th>\n",
       "      <td>HDIL</td>\n",
       "      <td>2023-11-28</td>\n",
       "      <td>3.5</td>\n",
       "    </tr>\n",
       "    <tr>\n",
       "      <th>10</th>\n",
       "      <td>HDIL</td>\n",
       "      <td>2023-12-01</td>\n",
       "      <td>3.65</td>\n",
       "    </tr>\n",
       "    <tr>\n",
       "      <th>11</th>\n",
       "      <td>HDIL</td>\n",
       "      <td>2023-12-04</td>\n",
       "      <td>3.8</td>\n",
       "    </tr>\n",
       "    <tr>\n",
       "      <th>12</th>\n",
       "      <td>HDIL</td>\n",
       "      <td>2023-12-05</td>\n",
       "      <td>3.95</td>\n",
       "    </tr>\n",
       "    <tr>\n",
       "      <th>13</th>\n",
       "      <td>HDIL</td>\n",
       "      <td>2023-12-06</td>\n",
       "      <td>4.1</td>\n",
       "    </tr>\n",
       "    <tr>\n",
       "      <th>14</th>\n",
       "      <td>HDIL</td>\n",
       "      <td>2023-12-07</td>\n",
       "      <td>4.3</td>\n",
       "    </tr>\n",
       "    <tr>\n",
       "      <th>15</th>\n",
       "      <td>HDIL</td>\n",
       "      <td>2023-12-08</td>\n",
       "      <td>4.5</td>\n",
       "    </tr>\n",
       "    <tr>\n",
       "      <th>16</th>\n",
       "      <td>HDIL</td>\n",
       "      <td>2023-12-11</td>\n",
       "      <td>4.7</td>\n",
       "    </tr>\n",
       "    <tr>\n",
       "      <th>17</th>\n",
       "      <td>HDIL</td>\n",
       "      <td>2023-12-18</td>\n",
       "      <td>4.5</td>\n",
       "    </tr>\n",
       "    <tr>\n",
       "      <th>18</th>\n",
       "      <td>HDIL</td>\n",
       "      <td>2023-12-26</td>\n",
       "      <td>4.3</td>\n",
       "    </tr>\n",
       "    <tr>\n",
       "      <th>19</th>\n",
       "      <td>HDIL</td>\n",
       "      <td>2024-01-01</td>\n",
       "      <td>4.1</td>\n",
       "    </tr>\n",
       "    <tr>\n",
       "      <th>20</th>\n",
       "      <td>HDIL</td>\n",
       "      <td>2024-01-08</td>\n",
       "      <td>3.9</td>\n",
       "    </tr>\n",
       "    <tr>\n",
       "      <th>21</th>\n",
       "      <td>HDIL</td>\n",
       "      <td>2024-01-15</td>\n",
       "      <td>3.9</td>\n",
       "    </tr>\n",
       "    <tr>\n",
       "      <th>22</th>\n",
       "      <td>HDIL</td>\n",
       "      <td>2024-01-23</td>\n",
       "      <td>4.05</td>\n",
       "    </tr>\n",
       "    <tr>\n",
       "      <th>23</th>\n",
       "      <td>HDIL</td>\n",
       "      <td>2024-01-29</td>\n",
       "      <td>4.25</td>\n",
       "    </tr>\n",
       "    <tr>\n",
       "      <th>24</th>\n",
       "      <td>HDIL</td>\n",
       "      <td>2024-02-01</td>\n",
       "      <td>4.45</td>\n",
       "    </tr>\n",
       "    <tr>\n",
       "      <th>25</th>\n",
       "      <td>HDIL</td>\n",
       "      <td>2024-02-02</td>\n",
       "      <td>4.65</td>\n",
       "    </tr>\n",
       "    <tr>\n",
       "      <th>26</th>\n",
       "      <td>HDIL</td>\n",
       "      <td>2024-02-05</td>\n",
       "      <td>4.85</td>\n",
       "    </tr>\n",
       "    <tr>\n",
       "      <th>27</th>\n",
       "      <td>HDIL</td>\n",
       "      <td>2024-02-06</td>\n",
       "      <td>5.05</td>\n",
       "    </tr>\n",
       "    <tr>\n",
       "      <th>28</th>\n",
       "      <td>HDIL</td>\n",
       "      <td>2024-02-07</td>\n",
       "      <td>5.3</td>\n",
       "    </tr>\n",
       "    <tr>\n",
       "      <th>29</th>\n",
       "      <td>HDIL</td>\n",
       "      <td>2024-02-08</td>\n",
       "      <td>5.55</td>\n",
       "    </tr>\n",
       "    <tr>\n",
       "      <th>30</th>\n",
       "      <td>HDIL</td>\n",
       "      <td>2024-02-09</td>\n",
       "      <td>5.8</td>\n",
       "    </tr>\n",
       "    <tr>\n",
       "      <th>31</th>\n",
       "      <td>HDIL</td>\n",
       "      <td>2024-02-19</td>\n",
       "      <td>5.55</td>\n",
       "    </tr>\n",
       "    <tr>\n",
       "      <th>32</th>\n",
       "      <td>HDIL</td>\n",
       "      <td>2024-02-26</td>\n",
       "      <td>5.3</td>\n",
       "    </tr>\n",
       "    <tr>\n",
       "      <th>33</th>\n",
       "      <td>HDIL</td>\n",
       "      <td>2024-03-04</td>\n",
       "      <td>5.05</td>\n",
       "    </tr>\n",
       "    <tr>\n",
       "      <th>34</th>\n",
       "      <td>HDIL</td>\n",
       "      <td>2024-03-11</td>\n",
       "      <td>4.8</td>\n",
       "    </tr>\n",
       "    <tr>\n",
       "      <th>35</th>\n",
       "      <td>HDIL</td>\n",
       "      <td>2024-03-18</td>\n",
       "      <td>4.6</td>\n",
       "    </tr>\n",
       "    <tr>\n",
       "      <th>36</th>\n",
       "      <td>HDIL</td>\n",
       "      <td>2024-03-26</td>\n",
       "      <td>4.4</td>\n",
       "    </tr>\n",
       "    <tr>\n",
       "      <th>37</th>\n",
       "      <td>HDIL</td>\n",
       "      <td>2024-04-01</td>\n",
       "      <td>4.2</td>\n",
       "    </tr>\n",
       "    <tr>\n",
       "      <th>38</th>\n",
       "      <td>HDIL</td>\n",
       "      <td>2024-04-02</td>\n",
       "      <td>4.4</td>\n",
       "    </tr>\n",
       "  </tbody>\n",
       "</table>\n",
       "</div>"
      ],
      "text/plain": [
       "   nse_ticker          dt close\n",
       "0        HDIL  2023-10-09  3.15\n",
       "1        HDIL  2023-10-10   3.3\n",
       "2        HDIL  2023-10-11  3.45\n",
       "3        HDIL  2023-10-16   3.3\n",
       "4        HDIL  2023-10-23  3.15\n",
       "5        HDIL  2023-10-30     3\n",
       "6        HDIL  2023-11-06   3.1\n",
       "7        HDIL  2023-11-13  3.25\n",
       "8        HDIL  2023-11-20   3.4\n",
       "9        HDIL  2023-11-28   3.5\n",
       "10       HDIL  2023-12-01  3.65\n",
       "11       HDIL  2023-12-04   3.8\n",
       "12       HDIL  2023-12-05  3.95\n",
       "13       HDIL  2023-12-06   4.1\n",
       "14       HDIL  2023-12-07   4.3\n",
       "15       HDIL  2023-12-08   4.5\n",
       "16       HDIL  2023-12-11   4.7\n",
       "17       HDIL  2023-12-18   4.5\n",
       "18       HDIL  2023-12-26   4.3\n",
       "19       HDIL  2024-01-01   4.1\n",
       "20       HDIL  2024-01-08   3.9\n",
       "21       HDIL  2024-01-15   3.9\n",
       "22       HDIL  2024-01-23  4.05\n",
       "23       HDIL  2024-01-29  4.25\n",
       "24       HDIL  2024-02-01  4.45\n",
       "25       HDIL  2024-02-02  4.65\n",
       "26       HDIL  2024-02-05  4.85\n",
       "27       HDIL  2024-02-06  5.05\n",
       "28       HDIL  2024-02-07   5.3\n",
       "29       HDIL  2024-02-08  5.55\n",
       "30       HDIL  2024-02-09   5.8\n",
       "31       HDIL  2024-02-19  5.55\n",
       "32       HDIL  2024-02-26   5.3\n",
       "33       HDIL  2024-03-04  5.05\n",
       "34       HDIL  2024-03-11   4.8\n",
       "35       HDIL  2024-03-18   4.6\n",
       "36       HDIL  2024-03-26   4.4\n",
       "37       HDIL  2024-04-01   4.2\n",
       "38       HDIL  2024-04-02   4.4"
      ]
     },
     "execution_count": 13,
     "metadata": {},
     "output_type": "execute_result"
    }
   ],
   "source": [
    "s1[['date', 'price']].to_dict()"
   ]
  },
  {
   "cell_type": "code",
   "execution_count": 9,
   "id": "59947ce2-7bf2-4a42-a4b9-984292c68f87",
   "metadata": {
    "tags": []
   },
   "outputs": [
    {
     "data": {
      "text/plain": [
       "dt\n",
       "2024-03-27    386506.84\n",
       "2024-03-28    394159.60\n",
       "2024-04-04    286632.68\n",
       "Name: value, dtype: float64"
      ]
     },
     "execution_count": 9,
     "metadata": {},
     "output_type": "execute_result"
    }
   ],
   "source": [
    "k"
   ]
  },
  {
   "cell_type": "code",
   "execution_count": 4,
   "id": "2c377052-9f43-4d63-98d0-be8be52d3f5d",
   "metadata": {
    "tags": []
   },
   "outputs": [],
   "source": [
    "k = PortfolioService.get_price_history_user_holdings(99)"
   ]
  },
  {
   "cell_type": "code",
   "execution_count": 3,
   "id": "a667e914-5f2f-4a97-9d41-920e4c493d16",
   "metadata": {
    "tags": []
   },
   "outputs": [],
   "source": [
    "s = PortfolioSQL.get_nse_ticker_list_history(['INFY'])"
   ]
  },
  {
   "cell_type": "code",
   "execution_count": 6,
   "id": "aece8494-6ed7-43c5-8be5-f5978f2b7630",
   "metadata": {
    "tags": []
   },
   "outputs": [],
   "source": [
    "def get_nse_ticker_list_history(nse_ticker_list, num_days=180):\n",
    "    ticker_string = \", \".join(f\"'{item}'\" for item in nse_ticker_list)\n",
    "    with PostgresDatabaseOperation(db='user') as cursor:\n",
    "        sql = f'''SELECT nse_ticker, price_date, close FROM investment_option_historic_price iohp\n",
    "        LEFT JOIN user_investment_options uio ON iohp.investment_option_id = uio.investment_option_id\n",
    "        WHERE nse_ticker IN ({ticker_string}) AND price_date > CURRENT_DATE - INTERVAL '{num_days} DAYS'\n",
    "        '''\n",
    "        cursor.execute(sql)\n",
    "        results = cursor.fetchall()\n",
    "    df = pd.DataFrame(results, columns=['nse_ticker', 'dt', 'close'])\n",
    "    return df"
   ]
  },
  {
   "cell_type": "code",
   "execution_count": 23,
   "id": "15ba0249-8f3e-45f8-a09c-a5483dcf3a20",
   "metadata": {
    "tags": []
   },
   "outputs": [
    {
     "data": {
      "text/html": [
       "<div>\n",
       "<style scoped>\n",
       "    .dataframe tbody tr th:only-of-type {\n",
       "        vertical-align: middle;\n",
       "    }\n",
       "\n",
       "    .dataframe tbody tr th {\n",
       "        vertical-align: top;\n",
       "    }\n",
       "\n",
       "    .dataframe thead th {\n",
       "        text-align: right;\n",
       "    }\n",
       "</style>\n",
       "<table border=\"1\" class=\"dataframe\">\n",
       "  <thead>\n",
       "    <tr style=\"text-align: right;\">\n",
       "      <th></th>\n",
       "      <th>nse_ticker</th>\n",
       "      <th>dt</th>\n",
       "      <th>close</th>\n",
       "    </tr>\n",
       "  </thead>\n",
       "  <tbody>\n",
       "    <tr>\n",
       "      <th>0</th>\n",
       "      <td>TATACOMM</td>\n",
       "      <td>2024-03-05</td>\n",
       "      <td>1994.35</td>\n",
       "    </tr>\n",
       "    <tr>\n",
       "      <th>1</th>\n",
       "      <td>TATACOMM</td>\n",
       "      <td>2024-03-06</td>\n",
       "      <td>1991.9</td>\n",
       "    </tr>\n",
       "    <tr>\n",
       "      <th>2</th>\n",
       "      <td>TATACOMM</td>\n",
       "      <td>2024-03-07</td>\n",
       "      <td>2011.5</td>\n",
       "    </tr>\n",
       "    <tr>\n",
       "      <th>3</th>\n",
       "      <td>TATACOMM</td>\n",
       "      <td>2024-03-11</td>\n",
       "      <td>1954.55</td>\n",
       "    </tr>\n",
       "    <tr>\n",
       "      <th>4</th>\n",
       "      <td>TATACOMM</td>\n",
       "      <td>2024-03-12</td>\n",
       "      <td>1987.65</td>\n",
       "    </tr>\n",
       "    <tr>\n",
       "      <th>5</th>\n",
       "      <td>TATACOMM</td>\n",
       "      <td>2024-03-13</td>\n",
       "      <td>1885.6</td>\n",
       "    </tr>\n",
       "    <tr>\n",
       "      <th>6</th>\n",
       "      <td>TATACOMM</td>\n",
       "      <td>2024-03-14</td>\n",
       "      <td>1930.05</td>\n",
       "    </tr>\n",
       "    <tr>\n",
       "      <th>7</th>\n",
       "      <td>TATACOMM</td>\n",
       "      <td>2024-03-15</td>\n",
       "      <td>1934.85</td>\n",
       "    </tr>\n",
       "    <tr>\n",
       "      <th>8</th>\n",
       "      <td>TATACOMM</td>\n",
       "      <td>2024-03-18</td>\n",
       "      <td>1962.65</td>\n",
       "    </tr>\n",
       "    <tr>\n",
       "      <th>9</th>\n",
       "      <td>TATACOMM</td>\n",
       "      <td>2024-03-19</td>\n",
       "      <td>1910.25</td>\n",
       "    </tr>\n",
       "    <tr>\n",
       "      <th>10</th>\n",
       "      <td>TATACOMM</td>\n",
       "      <td>2024-03-20</td>\n",
       "      <td>1888.3</td>\n",
       "    </tr>\n",
       "    <tr>\n",
       "      <th>11</th>\n",
       "      <td>TATACOMM</td>\n",
       "      <td>2024-03-21</td>\n",
       "      <td>1908.2</td>\n",
       "    </tr>\n",
       "    <tr>\n",
       "      <th>12</th>\n",
       "      <td>TATACOMM</td>\n",
       "      <td>2024-03-22</td>\n",
       "      <td>1922.65</td>\n",
       "    </tr>\n",
       "    <tr>\n",
       "      <th>13</th>\n",
       "      <td>TATACOMM</td>\n",
       "      <td>2024-03-26</td>\n",
       "      <td>1947.6</td>\n",
       "    </tr>\n",
       "    <tr>\n",
       "      <th>14</th>\n",
       "      <td>TATACOMM</td>\n",
       "      <td>2024-03-27</td>\n",
       "      <td>1973.15</td>\n",
       "    </tr>\n",
       "    <tr>\n",
       "      <th>15</th>\n",
       "      <td>TATACOMM</td>\n",
       "      <td>2024-03-28</td>\n",
       "      <td>2010.4</td>\n",
       "    </tr>\n",
       "    <tr>\n",
       "      <th>16</th>\n",
       "      <td>TATACOMM</td>\n",
       "      <td>2024-04-01</td>\n",
       "      <td>2036.55</td>\n",
       "    </tr>\n",
       "    <tr>\n",
       "      <th>17</th>\n",
       "      <td>TATACOMM</td>\n",
       "      <td>2024-04-02</td>\n",
       "      <td>2073.85</td>\n",
       "    </tr>\n",
       "  </tbody>\n",
       "</table>\n",
       "</div>"
      ],
      "text/plain": [
       "   nse_ticker          dt    close\n",
       "0    TATACOMM  2024-03-05  1994.35\n",
       "1    TATACOMM  2024-03-06   1991.9\n",
       "2    TATACOMM  2024-03-07   2011.5\n",
       "3    TATACOMM  2024-03-11  1954.55\n",
       "4    TATACOMM  2024-03-12  1987.65\n",
       "5    TATACOMM  2024-03-13   1885.6\n",
       "6    TATACOMM  2024-03-14  1930.05\n",
       "7    TATACOMM  2024-03-15  1934.85\n",
       "8    TATACOMM  2024-03-18  1962.65\n",
       "9    TATACOMM  2024-03-19  1910.25\n",
       "10   TATACOMM  2024-03-20   1888.3\n",
       "11   TATACOMM  2024-03-21   1908.2\n",
       "12   TATACOMM  2024-03-22  1922.65\n",
       "13   TATACOMM  2024-03-26   1947.6\n",
       "14   TATACOMM  2024-03-27  1973.15\n",
       "15   TATACOMM  2024-03-28   2010.4\n",
       "16   TATACOMM  2024-04-01  2036.55\n",
       "17   TATACOMM  2024-04-02  2073.85"
      ]
     },
     "execution_count": 23,
     "metadata": {},
     "output_type": "execute_result"
    }
   ],
   "source": [
    "get_nse_ticker_list_history(['TATACOMM'], num_days=30)"
   ]
  },
  {
   "cell_type": "code",
   "execution_count": 4,
   "id": "0230c6f5-90f3-422e-831f-a86c08ebef31",
   "metadata": {
    "tags": []
   },
   "outputs": [
    {
     "data": {
      "text/html": [
       "<div>\n",
       "<style scoped>\n",
       "    .dataframe tbody tr th:only-of-type {\n",
       "        vertical-align: middle;\n",
       "    }\n",
       "\n",
       "    .dataframe tbody tr th {\n",
       "        vertical-align: top;\n",
       "    }\n",
       "\n",
       "    .dataframe thead th {\n",
       "        text-align: right;\n",
       "    }\n",
       "</style>\n",
       "<table border=\"1\" class=\"dataframe\">\n",
       "  <thead>\n",
       "    <tr style=\"text-align: right;\">\n",
       "      <th></th>\n",
       "      <th>nse_ticker</th>\n",
       "      <th>dt</th>\n",
       "      <th>close</th>\n",
       "    </tr>\n",
       "  </thead>\n",
       "  <tbody>\n",
       "    <tr>\n",
       "      <th>0</th>\n",
       "      <td>INFY</td>\n",
       "      <td>2024-03-27</td>\n",
       "      <td>1483.85</td>\n",
       "    </tr>\n",
       "    <tr>\n",
       "      <th>1</th>\n",
       "      <td>INFY</td>\n",
       "      <td>2024-03-28</td>\n",
       "      <td>1498.05</td>\n",
       "    </tr>\n",
       "  </tbody>\n",
       "</table>\n",
       "</div>"
      ],
      "text/plain": [
       "  nse_ticker          dt    close\n",
       "0       INFY  2024-03-27  1483.85\n",
       "1       INFY  2024-03-28  1498.05"
      ]
     },
     "execution_count": 4,
     "metadata": {},
     "output_type": "execute_result"
    }
   ],
   "source": [
    "s"
   ]
  },
  {
   "cell_type": "code",
   "execution_count": 5,
   "id": "5c9c6ae3-12ff-4502-9f97-0fd55fffd37e",
   "metadata": {
    "tags": []
   },
   "outputs": [
    {
     "data": {
      "text/html": [
       "<div>\n",
       "<style scoped>\n",
       "    .dataframe tbody tr th:only-of-type {\n",
       "        vertical-align: middle;\n",
       "    }\n",
       "\n",
       "    .dataframe tbody tr th {\n",
       "        vertical-align: top;\n",
       "    }\n",
       "\n",
       "    .dataframe thead th {\n",
       "        text-align: right;\n",
       "    }\n",
       "</style>\n",
       "<table border=\"1\" class=\"dataframe\">\n",
       "  <thead>\n",
       "    <tr style=\"text-align: right;\">\n",
       "      <th></th>\n",
       "      <th>nse_ticker</th>\n",
       "      <th>dt</th>\n",
       "      <th>close</th>\n",
       "      <th>user_id</th>\n",
       "      <th>name</th>\n",
       "      <th>kite_trading_symbol</th>\n",
       "      <th>instrument_token</th>\n",
       "      <th>quantity</th>\n",
       "      <th>average_price</th>\n",
       "      <th>value</th>\n",
       "    </tr>\n",
       "  </thead>\n",
       "  <tbody>\n",
       "    <tr>\n",
       "      <th>0</th>\n",
       "      <td>HDFCBANK</td>\n",
       "      <td>2024-03-27</td>\n",
       "      <td>1440.70</td>\n",
       "      <td>99</td>\n",
       "      <td>HDFC BANK</td>\n",
       "      <td>HDFCBANK</td>\n",
       "      <td>341249</td>\n",
       "      <td>1.0</td>\n",
       "      <td>1427.20</td>\n",
       "      <td>1440.70</td>\n",
       "    </tr>\n",
       "    <tr>\n",
       "      <th>1</th>\n",
       "      <td>HDFCBANK</td>\n",
       "      <td>2024-03-28</td>\n",
       "      <td>1447.90</td>\n",
       "      <td>99</td>\n",
       "      <td>HDFC BANK</td>\n",
       "      <td>HDFCBANK</td>\n",
       "      <td>341249</td>\n",
       "      <td>1.0</td>\n",
       "      <td>1427.20</td>\n",
       "      <td>1447.90</td>\n",
       "    </tr>\n",
       "    <tr>\n",
       "      <th>2</th>\n",
       "      <td>HDFCBANK</td>\n",
       "      <td>2024-04-03</td>\n",
       "      <td>1480.15</td>\n",
       "      <td>99</td>\n",
       "      <td>HDFC BANK</td>\n",
       "      <td>HDFCBANK</td>\n",
       "      <td>341249</td>\n",
       "      <td>1.0</td>\n",
       "      <td>1427.20</td>\n",
       "      <td>1480.15</td>\n",
       "    </tr>\n",
       "    <tr>\n",
       "      <th>3</th>\n",
       "      <td>ADANIPORTS</td>\n",
       "      <td>2024-03-27</td>\n",
       "      <td>1322.80</td>\n",
       "      <td>99</td>\n",
       "      <td>ADANI PORT &amp; SEZ</td>\n",
       "      <td>ADANIPORTS</td>\n",
       "      <td>3861249</td>\n",
       "      <td>1.0</td>\n",
       "      <td>1281.60</td>\n",
       "      <td>1322.80</td>\n",
       "    </tr>\n",
       "    <tr>\n",
       "      <th>4</th>\n",
       "      <td>ADANIPORTS</td>\n",
       "      <td>2024-03-28</td>\n",
       "      <td>1341.85</td>\n",
       "      <td>99</td>\n",
       "      <td>ADANI PORT &amp; SEZ</td>\n",
       "      <td>ADANIPORTS</td>\n",
       "      <td>3861249</td>\n",
       "      <td>1.0</td>\n",
       "      <td>1281.60</td>\n",
       "      <td>1341.85</td>\n",
       "    </tr>\n",
       "    <tr>\n",
       "      <th>5</th>\n",
       "      <td>ADANIPORTS</td>\n",
       "      <td>2024-04-03</td>\n",
       "      <td>1404.15</td>\n",
       "      <td>99</td>\n",
       "      <td>ADANI PORT &amp; SEZ</td>\n",
       "      <td>ADANIPORTS</td>\n",
       "      <td>3861249</td>\n",
       "      <td>1.0</td>\n",
       "      <td>1281.60</td>\n",
       "      <td>1404.15</td>\n",
       "    </tr>\n",
       "    <tr>\n",
       "      <th>6</th>\n",
       "      <td>TATASTEEL</td>\n",
       "      <td>2024-03-27</td>\n",
       "      <td>152.70</td>\n",
       "      <td>99</td>\n",
       "      <td>TATA STEEL</td>\n",
       "      <td>TATASTEEL</td>\n",
       "      <td>895745</td>\n",
       "      <td>1.0</td>\n",
       "      <td>151.15</td>\n",
       "      <td>152.70</td>\n",
       "    </tr>\n",
       "    <tr>\n",
       "      <th>7</th>\n",
       "      <td>TATASTEEL</td>\n",
       "      <td>2024-03-28</td>\n",
       "      <td>155.85</td>\n",
       "      <td>99</td>\n",
       "      <td>TATA STEEL</td>\n",
       "      <td>TATASTEEL</td>\n",
       "      <td>895745</td>\n",
       "      <td>1.0</td>\n",
       "      <td>151.15</td>\n",
       "      <td>155.85</td>\n",
       "    </tr>\n",
       "    <tr>\n",
       "      <th>8</th>\n",
       "      <td>TATASTEEL</td>\n",
       "      <td>2024-04-03</td>\n",
       "      <td>164.65</td>\n",
       "      <td>99</td>\n",
       "      <td>TATA STEEL</td>\n",
       "      <td>TATASTEEL</td>\n",
       "      <td>895745</td>\n",
       "      <td>1.0</td>\n",
       "      <td>151.15</td>\n",
       "      <td>164.65</td>\n",
       "    </tr>\n",
       "    <tr>\n",
       "      <th>9</th>\n",
       "      <td>NHPC</td>\n",
       "      <td>2024-03-27</td>\n",
       "      <td>88.85</td>\n",
       "      <td>99</td>\n",
       "      <td>NHPC</td>\n",
       "      <td>NHPC</td>\n",
       "      <td>4454401</td>\n",
       "      <td>1.0</td>\n",
       "      <td>85.50</td>\n",
       "      <td>88.85</td>\n",
       "    </tr>\n",
       "    <tr>\n",
       "      <th>10</th>\n",
       "      <td>NHPC</td>\n",
       "      <td>2024-03-28</td>\n",
       "      <td>89.70</td>\n",
       "      <td>99</td>\n",
       "      <td>NHPC</td>\n",
       "      <td>NHPC</td>\n",
       "      <td>4454401</td>\n",
       "      <td>1.0</td>\n",
       "      <td>85.50</td>\n",
       "      <td>89.70</td>\n",
       "    </tr>\n",
       "    <tr>\n",
       "      <th>11</th>\n",
       "      <td>NHPC</td>\n",
       "      <td>2024-04-03</td>\n",
       "      <td>92.20</td>\n",
       "      <td>99</td>\n",
       "      <td>NHPC</td>\n",
       "      <td>NHPC</td>\n",
       "      <td>4454401</td>\n",
       "      <td>1.0</td>\n",
       "      <td>85.50</td>\n",
       "      <td>92.20</td>\n",
       "    </tr>\n",
       "    <tr>\n",
       "      <th>12</th>\n",
       "      <td>IDEA</td>\n",
       "      <td>2024-03-27</td>\n",
       "      <td>13.30</td>\n",
       "      <td>99</td>\n",
       "      <td>VODAFONE IDEA</td>\n",
       "      <td>IDEA</td>\n",
       "      <td>3677697</td>\n",
       "      <td>1.0</td>\n",
       "      <td>13.40</td>\n",
       "      <td>13.30</td>\n",
       "    </tr>\n",
       "    <tr>\n",
       "      <th>13</th>\n",
       "      <td>IDEA</td>\n",
       "      <td>2024-03-28</td>\n",
       "      <td>13.25</td>\n",
       "      <td>99</td>\n",
       "      <td>VODAFONE IDEA</td>\n",
       "      <td>IDEA</td>\n",
       "      <td>3677697</td>\n",
       "      <td>1.0</td>\n",
       "      <td>13.40</td>\n",
       "      <td>13.25</td>\n",
       "    </tr>\n",
       "    <tr>\n",
       "      <th>14</th>\n",
       "      <td>IDEA</td>\n",
       "      <td>2024-04-03</td>\n",
       "      <td>13.45</td>\n",
       "      <td>99</td>\n",
       "      <td>VODAFONE IDEA</td>\n",
       "      <td>IDEA</td>\n",
       "      <td>3677697</td>\n",
       "      <td>1.0</td>\n",
       "      <td>13.40</td>\n",
       "      <td>13.45</td>\n",
       "    </tr>\n",
       "    <tr>\n",
       "      <th>15</th>\n",
       "      <td>ZOMATO</td>\n",
       "      <td>2024-03-27</td>\n",
       "      <td>179.45</td>\n",
       "      <td>99</td>\n",
       "      <td>ZOMATO</td>\n",
       "      <td>ZOMATO</td>\n",
       "      <td>1304833</td>\n",
       "      <td>1.0</td>\n",
       "      <td>173.40</td>\n",
       "      <td>179.45</td>\n",
       "    </tr>\n",
       "    <tr>\n",
       "      <th>16</th>\n",
       "      <td>ZOMATO</td>\n",
       "      <td>2024-03-28</td>\n",
       "      <td>182.10</td>\n",
       "      <td>99</td>\n",
       "      <td>ZOMATO</td>\n",
       "      <td>ZOMATO</td>\n",
       "      <td>1304833</td>\n",
       "      <td>1.0</td>\n",
       "      <td>173.40</td>\n",
       "      <td>182.10</td>\n",
       "    </tr>\n",
       "    <tr>\n",
       "      <th>17</th>\n",
       "      <td>ZOMATO</td>\n",
       "      <td>2024-04-03</td>\n",
       "      <td>183.10</td>\n",
       "      <td>99</td>\n",
       "      <td>ZOMATO</td>\n",
       "      <td>ZOMATO</td>\n",
       "      <td>1304833</td>\n",
       "      <td>1.0</td>\n",
       "      <td>173.40</td>\n",
       "      <td>183.10</td>\n",
       "    </tr>\n",
       "    <tr>\n",
       "      <th>18</th>\n",
       "      <td>RELIANCE</td>\n",
       "      <td>2024-03-27</td>\n",
       "      <td>2985.70</td>\n",
       "      <td>99</td>\n",
       "      <td>RELIANCE INDUSTRIES</td>\n",
       "      <td>RELIANCE</td>\n",
       "      <td>738561</td>\n",
       "      <td>1.0</td>\n",
       "      <td>2890.00</td>\n",
       "      <td>2985.70</td>\n",
       "    </tr>\n",
       "    <tr>\n",
       "      <th>19</th>\n",
       "      <td>RELIANCE</td>\n",
       "      <td>2024-03-28</td>\n",
       "      <td>2971.70</td>\n",
       "      <td>99</td>\n",
       "      <td>RELIANCE INDUSTRIES</td>\n",
       "      <td>RELIANCE</td>\n",
       "      <td>738561</td>\n",
       "      <td>1.0</td>\n",
       "      <td>2890.00</td>\n",
       "      <td>2971.70</td>\n",
       "    </tr>\n",
       "    <tr>\n",
       "      <th>20</th>\n",
       "      <td>RELIANCE</td>\n",
       "      <td>2024-04-03</td>\n",
       "      <td>2973.90</td>\n",
       "      <td>99</td>\n",
       "      <td>RELIANCE INDUSTRIES</td>\n",
       "      <td>RELIANCE</td>\n",
       "      <td>738561</td>\n",
       "      <td>1.0</td>\n",
       "      <td>2890.00</td>\n",
       "      <td>2973.90</td>\n",
       "    </tr>\n",
       "    <tr>\n",
       "      <th>21</th>\n",
       "      <td>SBIN</td>\n",
       "      <td>2024-03-27</td>\n",
       "      <td>733.30</td>\n",
       "      <td>99</td>\n",
       "      <td>STATE BANK OF INDIA</td>\n",
       "      <td>SBIN</td>\n",
       "      <td>779521</td>\n",
       "      <td>1.0</td>\n",
       "      <td>743.05</td>\n",
       "      <td>733.30</td>\n",
       "    </tr>\n",
       "    <tr>\n",
       "      <th>22</th>\n",
       "      <td>SBIN</td>\n",
       "      <td>2024-03-28</td>\n",
       "      <td>752.35</td>\n",
       "      <td>99</td>\n",
       "      <td>STATE BANK OF INDIA</td>\n",
       "      <td>SBIN</td>\n",
       "      <td>779521</td>\n",
       "      <td>1.0</td>\n",
       "      <td>743.05</td>\n",
       "      <td>752.35</td>\n",
       "    </tr>\n",
       "    <tr>\n",
       "      <th>23</th>\n",
       "      <td>SBIN</td>\n",
       "      <td>2024-04-03</td>\n",
       "      <td>766.40</td>\n",
       "      <td>99</td>\n",
       "      <td>STATE BANK OF INDIA</td>\n",
       "      <td>SBIN</td>\n",
       "      <td>779521</td>\n",
       "      <td>1.0</td>\n",
       "      <td>743.05</td>\n",
       "      <td>766.40</td>\n",
       "    </tr>\n",
       "  </tbody>\n",
       "</table>\n",
       "</div>"
      ],
      "text/plain": [
       "    nse_ticker          dt    close  user_id                 name  \\\n",
       "0     HDFCBANK  2024-03-27  1440.70       99            HDFC BANK   \n",
       "1     HDFCBANK  2024-03-28  1447.90       99            HDFC BANK   \n",
       "2     HDFCBANK  2024-04-03  1480.15       99            HDFC BANK   \n",
       "3   ADANIPORTS  2024-03-27  1322.80       99     ADANI PORT & SEZ   \n",
       "4   ADANIPORTS  2024-03-28  1341.85       99     ADANI PORT & SEZ   \n",
       "5   ADANIPORTS  2024-04-03  1404.15       99     ADANI PORT & SEZ   \n",
       "6    TATASTEEL  2024-03-27   152.70       99           TATA STEEL   \n",
       "7    TATASTEEL  2024-03-28   155.85       99           TATA STEEL   \n",
       "8    TATASTEEL  2024-04-03   164.65       99           TATA STEEL   \n",
       "9         NHPC  2024-03-27    88.85       99                 NHPC   \n",
       "10        NHPC  2024-03-28    89.70       99                 NHPC   \n",
       "11        NHPC  2024-04-03    92.20       99                 NHPC   \n",
       "12        IDEA  2024-03-27    13.30       99        VODAFONE IDEA   \n",
       "13        IDEA  2024-03-28    13.25       99        VODAFONE IDEA   \n",
       "14        IDEA  2024-04-03    13.45       99        VODAFONE IDEA   \n",
       "15      ZOMATO  2024-03-27   179.45       99               ZOMATO   \n",
       "16      ZOMATO  2024-03-28   182.10       99               ZOMATO   \n",
       "17      ZOMATO  2024-04-03   183.10       99               ZOMATO   \n",
       "18    RELIANCE  2024-03-27  2985.70       99  RELIANCE INDUSTRIES   \n",
       "19    RELIANCE  2024-03-28  2971.70       99  RELIANCE INDUSTRIES   \n",
       "20    RELIANCE  2024-04-03  2973.90       99  RELIANCE INDUSTRIES   \n",
       "21        SBIN  2024-03-27   733.30       99  STATE BANK OF INDIA   \n",
       "22        SBIN  2024-03-28   752.35       99  STATE BANK OF INDIA   \n",
       "23        SBIN  2024-04-03   766.40       99  STATE BANK OF INDIA   \n",
       "\n",
       "   kite_trading_symbol instrument_token  quantity  average_price    value  \n",
       "0             HDFCBANK           341249       1.0        1427.20  1440.70  \n",
       "1             HDFCBANK           341249       1.0        1427.20  1447.90  \n",
       "2             HDFCBANK           341249       1.0        1427.20  1480.15  \n",
       "3           ADANIPORTS          3861249       1.0        1281.60  1322.80  \n",
       "4           ADANIPORTS          3861249       1.0        1281.60  1341.85  \n",
       "5           ADANIPORTS          3861249       1.0        1281.60  1404.15  \n",
       "6            TATASTEEL           895745       1.0         151.15   152.70  \n",
       "7            TATASTEEL           895745       1.0         151.15   155.85  \n",
       "8            TATASTEEL           895745       1.0         151.15   164.65  \n",
       "9                 NHPC          4454401       1.0          85.50    88.85  \n",
       "10                NHPC          4454401       1.0          85.50    89.70  \n",
       "11                NHPC          4454401       1.0          85.50    92.20  \n",
       "12                IDEA          3677697       1.0          13.40    13.30  \n",
       "13                IDEA          3677697       1.0          13.40    13.25  \n",
       "14                IDEA          3677697       1.0          13.40    13.45  \n",
       "15              ZOMATO          1304833       1.0         173.40   179.45  \n",
       "16              ZOMATO          1304833       1.0         173.40   182.10  \n",
       "17              ZOMATO          1304833       1.0         173.40   183.10  \n",
       "18            RELIANCE           738561       1.0        2890.00  2985.70  \n",
       "19            RELIANCE           738561       1.0        2890.00  2971.70  \n",
       "20            RELIANCE           738561       1.0        2890.00  2973.90  \n",
       "21                SBIN           779521       1.0         743.05   733.30  \n",
       "22                SBIN           779521       1.0         743.05   752.35  \n",
       "23                SBIN           779521       1.0         743.05   766.40  "
      ]
     },
     "execution_count": 5,
     "metadata": {},
     "output_type": "execute_result"
    }
   ],
   "source": [
    "k.sort_values()"
   ]
  },
  {
   "cell_type": "code",
   "execution_count": 12,
   "id": "5b3cc9ae-cd4c-40e0-b256-05d84eb725b1",
   "metadata": {
    "tags": []
   },
   "outputs": [
    {
     "data": {
      "text/plain": [
       "\u001b[0;31mSignature:\u001b[0m\n",
       "\u001b[0mpd\u001b[0m\u001b[0;34m.\u001b[0m\u001b[0mDataFrame\u001b[0m\u001b[0;34m.\u001b[0m\u001b[0mfrom_dict\u001b[0m\u001b[0;34m(\u001b[0m\u001b[0;34m\u001b[0m\n",
       "\u001b[0;34m\u001b[0m    \u001b[0mdata\u001b[0m\u001b[0;34m:\u001b[0m \u001b[0;34m'dict'\u001b[0m\u001b[0;34m,\u001b[0m\u001b[0;34m\u001b[0m\n",
       "\u001b[0;34m\u001b[0m    \u001b[0morient\u001b[0m\u001b[0;34m:\u001b[0m \u001b[0;34m'FromDictOrient'\u001b[0m \u001b[0;34m=\u001b[0m \u001b[0;34m'columns'\u001b[0m\u001b[0;34m,\u001b[0m\u001b[0;34m\u001b[0m\n",
       "\u001b[0;34m\u001b[0m    \u001b[0mdtype\u001b[0m\u001b[0;34m:\u001b[0m \u001b[0;34m'Dtype | None'\u001b[0m \u001b[0;34m=\u001b[0m \u001b[0;32mNone\u001b[0m\u001b[0;34m,\u001b[0m\u001b[0;34m\u001b[0m\n",
       "\u001b[0;34m\u001b[0m    \u001b[0mcolumns\u001b[0m\u001b[0;34m:\u001b[0m \u001b[0;34m'Axes | None'\u001b[0m \u001b[0;34m=\u001b[0m \u001b[0;32mNone\u001b[0m\u001b[0;34m,\u001b[0m\u001b[0;34m\u001b[0m\n",
       "\u001b[0;34m\u001b[0m\u001b[0;34m)\u001b[0m \u001b[0;34m->\u001b[0m \u001b[0;34m'DataFrame'\u001b[0m\u001b[0;34m\u001b[0m\u001b[0;34m\u001b[0m\u001b[0m\n",
       "\u001b[0;31mDocstring:\u001b[0m\n",
       "Construct DataFrame from dict of array-like or dicts.\n",
       "\n",
       "Creates DataFrame object from dictionary by columns or by index\n",
       "allowing dtype specification.\n",
       "\n",
       "Parameters\n",
       "----------\n",
       "data : dict\n",
       "    Of the form {field : array-like} or {field : dict}.\n",
       "orient : {'columns', 'index', 'tight'}, default 'columns'\n",
       "    The \"orientation\" of the data. If the keys of the passed dict\n",
       "    should be the columns of the resulting DataFrame, pass 'columns'\n",
       "    (default). Otherwise if the keys should be rows, pass 'index'.\n",
       "    If 'tight', assume a dict with keys ['index', 'columns', 'data',\n",
       "    'index_names', 'column_names'].\n",
       "\n",
       "    .. versionadded:: 1.4.0\n",
       "       'tight' as an allowed value for the ``orient`` argument\n",
       "\n",
       "dtype : dtype, default None\n",
       "    Data type to force after DataFrame construction, otherwise infer.\n",
       "columns : list, default None\n",
       "    Column labels to use when ``orient='index'``. Raises a ValueError\n",
       "    if used with ``orient='columns'`` or ``orient='tight'``.\n",
       "\n",
       "Returns\n",
       "-------\n",
       "DataFrame\n",
       "\n",
       "See Also\n",
       "--------\n",
       "DataFrame.from_records : DataFrame from structured ndarray, sequence\n",
       "    of tuples or dicts, or DataFrame.\n",
       "DataFrame : DataFrame object creation using constructor.\n",
       "DataFrame.to_dict : Convert the DataFrame to a dictionary.\n",
       "\n",
       "Examples\n",
       "--------\n",
       "By default the keys of the dict become the DataFrame columns:\n",
       "\n",
       ">>> data = {'col_1': [3, 2, 1, 0], 'col_2': ['a', 'b', 'c', 'd']}\n",
       ">>> pd.DataFrame.from_dict(data)\n",
       "   col_1 col_2\n",
       "0      3     a\n",
       "1      2     b\n",
       "2      1     c\n",
       "3      0     d\n",
       "\n",
       "Specify ``orient='index'`` to create the DataFrame using dictionary\n",
       "keys as rows:\n",
       "\n",
       ">>> data = {'row_1': [3, 2, 1, 0], 'row_2': ['a', 'b', 'c', 'd']}\n",
       ">>> pd.DataFrame.from_dict(data, orient='index')\n",
       "       0  1  2  3\n",
       "row_1  3  2  1  0\n",
       "row_2  a  b  c  d\n",
       "\n",
       "When using the 'index' orientation, the column names can be\n",
       "specified manually:\n",
       "\n",
       ">>> pd.DataFrame.from_dict(data, orient='index',\n",
       "...                        columns=['A', 'B', 'C', 'D'])\n",
       "       A  B  C  D\n",
       "row_1  3  2  1  0\n",
       "row_2  a  b  c  d\n",
       "\n",
       "Specify ``orient='tight'`` to create the DataFrame using a 'tight'\n",
       "format:\n",
       "\n",
       ">>> data = {'index': [('a', 'b'), ('a', 'c')],\n",
       "...         'columns': [('x', 1), ('y', 2)],\n",
       "...         'data': [[1, 3], [2, 4]],\n",
       "...         'index_names': ['n1', 'n2'],\n",
       "...         'column_names': ['z1', 'z2']}\n",
       ">>> pd.DataFrame.from_dict(data, orient='tight')\n",
       "z1     x  y\n",
       "z2     1  2\n",
       "n1 n2\n",
       "a  b   1  3\n",
       "   c   2  4\n",
       "\u001b[0;31mFile:\u001b[0m      ~/anaconda3/envs/bertopicenv/lib/python3.9/site-packages/pandas/core/frame.py\n",
       "\u001b[0;31mType:\u001b[0m      method"
      ]
     },
     "metadata": {},
     "output_type": "display_data"
    }
   ],
   "source": [
    "pd.DataFrame.from_dict?"
   ]
  },
  {
   "cell_type": "code",
   "execution_count": 15,
   "id": "ffe2371c-dd27-40d9-9f58-07ffa08bbbd0",
   "metadata": {
    "tags": []
   },
   "outputs": [
    {
     "data": {
      "text/html": [
       "<div>\n",
       "<style scoped>\n",
       "    .dataframe tbody tr th:only-of-type {\n",
       "        vertical-align: middle;\n",
       "    }\n",
       "\n",
       "    .dataframe tbody tr th {\n",
       "        vertical-align: top;\n",
       "    }\n",
       "\n",
       "    .dataframe thead th {\n",
       "        text-align: right;\n",
       "    }\n",
       "</style>\n",
       "<table border=\"1\" class=\"dataframe\">\n",
       "  <thead>\n",
       "    <tr style=\"text-align: right;\">\n",
       "      <th></th>\n",
       "      <th>index</th>\n",
       "      <th>close</th>\n",
       "    </tr>\n",
       "  </thead>\n",
       "  <tbody>\n",
       "    <tr>\n",
       "      <th>0</th>\n",
       "      <td>INFY</td>\n",
       "      <td>1482.85</td>\n",
       "    </tr>\n",
       "    <tr>\n",
       "      <th>1</th>\n",
       "      <td>RELIANCE</td>\n",
       "      <td>2973.90</td>\n",
       "    </tr>\n",
       "  </tbody>\n",
       "</table>\n",
       "</div>"
      ],
      "text/plain": [
       "      index    close\n",
       "0      INFY  1482.85\n",
       "1  RELIANCE  2973.90"
      ]
     },
     "execution_count": 15,
     "metadata": {},
     "output_type": "execute_result"
    }
   ],
   "source": [
    "pd.DataFrame.from_dict(k, orient = 'index', columns = ['close']).reset_index().rename(columns = {'index': 'nse_ticker'})"
   ]
  },
  {
   "cell_type": "code",
   "execution_count": 5,
   "id": "ab36c38d-3fba-4de4-a89c-cae1b5865c83",
   "metadata": {
    "tags": []
   },
   "outputs": [],
   "source": [
    "k['quantity'] = k['starting_value']/k['min_date_price']"
   ]
  },
  {
   "cell_type": "code",
   "execution_count": 7,
   "id": "cd351fd1-6b81-41f4-89d4-52f800ad15df",
   "metadata": {
    "tags": []
   },
   "outputs": [
    {
     "data": {
      "text/html": [
       "<div>\n",
       "<style scoped>\n",
       "    .dataframe tbody tr th:only-of-type {\n",
       "        vertical-align: middle;\n",
       "    }\n",
       "\n",
       "    .dataframe tbody tr th {\n",
       "        vertical-align: top;\n",
       "    }\n",
       "\n",
       "    .dataframe thead th {\n",
       "        text-align: right;\n",
       "    }\n",
       "</style>\n",
       "<table border=\"1\" class=\"dataframe\">\n",
       "  <thead>\n",
       "    <tr style=\"text-align: right;\">\n",
       "      <th></th>\n",
       "      <th>nse_ticker</th>\n",
       "      <th>min_date_price</th>\n",
       "      <th>max_date_price</th>\n",
       "      <th>starting_value</th>\n",
       "      <th>current_value</th>\n",
       "      <th>quantity</th>\n",
       "      <th>growth</th>\n",
       "    </tr>\n",
       "  </thead>\n",
       "  <tbody>\n",
       "    <tr>\n",
       "      <th>4</th>\n",
       "      <td>CUPID</td>\n",
       "      <td>2323.05</td>\n",
       "      <td>2423.15</td>\n",
       "      <td>116152.50</td>\n",
       "      <td>2423.15</td>\n",
       "      <td>50.0</td>\n",
       "      <td>0.0431</td>\n",
       "    </tr>\n",
       "    <tr>\n",
       "      <th>17</th>\n",
       "      <td>ONGC</td>\n",
       "      <td>261.75</td>\n",
       "      <td>268.05</td>\n",
       "      <td>13611.00</td>\n",
       "      <td>268.05</td>\n",
       "      <td>52.0</td>\n",
       "      <td>0.0241</td>\n",
       "    </tr>\n",
       "    <tr>\n",
       "      <th>1</th>\n",
       "      <td>BSE</td>\n",
       "      <td>2463.60</td>\n",
       "      <td>2515.90</td>\n",
       "      <td>36954.00</td>\n",
       "      <td>2515.90</td>\n",
       "      <td>15.0</td>\n",
       "      <td>0.0212</td>\n",
       "    </tr>\n",
       "    <tr>\n",
       "      <th>3</th>\n",
       "      <td>COLPAL</td>\n",
       "      <td>2658.80</td>\n",
       "      <td>2710.35</td>\n",
       "      <td>10635.20</td>\n",
       "      <td>2710.35</td>\n",
       "      <td>4.0</td>\n",
       "      <td>0.0194</td>\n",
       "    </tr>\n",
       "    <tr>\n",
       "      <th>2</th>\n",
       "      <td>CDSL</td>\n",
       "      <td>1686.05</td>\n",
       "      <td>1711.95</td>\n",
       "      <td>16860.50</td>\n",
       "      <td>1711.95</td>\n",
       "      <td>10.0</td>\n",
       "      <td>0.0154</td>\n",
       "    </tr>\n",
       "    <tr>\n",
       "      <th>21</th>\n",
       "      <td>TATAPOWER</td>\n",
       "      <td>388.40</td>\n",
       "      <td>394.20</td>\n",
       "      <td>13982.40</td>\n",
       "      <td>394.20</td>\n",
       "      <td>36.0</td>\n",
       "      <td>0.0149</td>\n",
       "    </tr>\n",
       "    <tr>\n",
       "      <th>24</th>\n",
       "      <td>ZOMATO</td>\n",
       "      <td>179.45</td>\n",
       "      <td>182.10</td>\n",
       "      <td>7895.80</td>\n",
       "      <td>182.10</td>\n",
       "      <td>44.0</td>\n",
       "      <td>0.0148</td>\n",
       "    </tr>\n",
       "    <tr>\n",
       "      <th>20</th>\n",
       "      <td>TATAMOTORS</td>\n",
       "      <td>978.65</td>\n",
       "      <td>992.80</td>\n",
       "      <td>19573.00</td>\n",
       "      <td>992.80</td>\n",
       "      <td>20.0</td>\n",
       "      <td>0.0145</td>\n",
       "    </tr>\n",
       "    <tr>\n",
       "      <th>14</th>\n",
       "      <td>MSUMI</td>\n",
       "      <td>65.30</td>\n",
       "      <td>66.10</td>\n",
       "      <td>914.20</td>\n",
       "      <td>66.10</td>\n",
       "      <td>14.0</td>\n",
       "      <td>0.0123</td>\n",
       "    </tr>\n",
       "    <tr>\n",
       "      <th>22</th>\n",
       "      <td>TITAN</td>\n",
       "      <td>3759.40</td>\n",
       "      <td>3801.80</td>\n",
       "      <td>15037.60</td>\n",
       "      <td>3801.80</td>\n",
       "      <td>4.0</td>\n",
       "      <td>0.0113</td>\n",
       "    </tr>\n",
       "    <tr>\n",
       "      <th>10</th>\n",
       "      <td>JUNIORBEES</td>\n",
       "      <td>637.15</td>\n",
       "      <td>643.81</td>\n",
       "      <td>4460.05</td>\n",
       "      <td>643.81</td>\n",
       "      <td>7.0</td>\n",
       "      <td>0.0105</td>\n",
       "    </tr>\n",
       "    <tr>\n",
       "      <th>16</th>\n",
       "      <td>NIFTYBEES</td>\n",
       "      <td>244.96</td>\n",
       "      <td>246.96</td>\n",
       "      <td>5879.04</td>\n",
       "      <td>246.96</td>\n",
       "      <td>24.0</td>\n",
       "      <td>0.0082</td>\n",
       "    </tr>\n",
       "    <tr>\n",
       "      <th>18</th>\n",
       "      <td>PIDILITIND</td>\n",
       "      <td>2992.30</td>\n",
       "      <td>3014.70</td>\n",
       "      <td>14961.50</td>\n",
       "      <td>3014.70</td>\n",
       "      <td>5.0</td>\n",
       "      <td>0.0075</td>\n",
       "    </tr>\n",
       "    <tr>\n",
       "      <th>5</th>\n",
       "      <td>GOLDBEES</td>\n",
       "      <td>56.22</td>\n",
       "      <td>56.61</td>\n",
       "      <td>11468.88</td>\n",
       "      <td>56.61</td>\n",
       "      <td>204.0</td>\n",
       "      <td>0.0069</td>\n",
       "    </tr>\n",
       "    <tr>\n",
       "      <th>15</th>\n",
       "      <td>MTARTECH</td>\n",
       "      <td>1672.80</td>\n",
       "      <td>1683.75</td>\n",
       "      <td>8364.00</td>\n",
       "      <td>1683.75</td>\n",
       "      <td>5.0</td>\n",
       "      <td>0.0065</td>\n",
       "    </tr>\n",
       "    <tr>\n",
       "      <th>7</th>\n",
       "      <td>IEX</td>\n",
       "      <td>133.55</td>\n",
       "      <td>134.35</td>\n",
       "      <td>8013.00</td>\n",
       "      <td>134.35</td>\n",
       "      <td>60.0</td>\n",
       "      <td>0.0060</td>\n",
       "    </tr>\n",
       "    <tr>\n",
       "      <th>6</th>\n",
       "      <td>GREENPANEL</td>\n",
       "      <td>313.40</td>\n",
       "      <td>314.75</td>\n",
       "      <td>1567.00</td>\n",
       "      <td>314.75</td>\n",
       "      <td>5.0</td>\n",
       "      <td>0.0043</td>\n",
       "    </tr>\n",
       "    <tr>\n",
       "      <th>9</th>\n",
       "      <td>ITC</td>\n",
       "      <td>428.00</td>\n",
       "      <td>428.35</td>\n",
       "      <td>17120.00</td>\n",
       "      <td>428.35</td>\n",
       "      <td>40.0</td>\n",
       "      <td>0.0008</td>\n",
       "    </tr>\n",
       "    <tr>\n",
       "      <th>11</th>\n",
       "      <td>LIQUIDBEES</td>\n",
       "      <td>999.99</td>\n",
       "      <td>1000.00</td>\n",
       "      <td>7999.92</td>\n",
       "      <td>1000.00</td>\n",
       "      <td>8.0</td>\n",
       "      <td>0.0000</td>\n",
       "    </tr>\n",
       "    <tr>\n",
       "      <th>8</th>\n",
       "      <td>IRCTC</td>\n",
       "      <td>929.95</td>\n",
       "      <td>929.70</td>\n",
       "      <td>13949.25</td>\n",
       "      <td>929.70</td>\n",
       "      <td>15.0</td>\n",
       "      <td>-0.0003</td>\n",
       "    </tr>\n",
       "    <tr>\n",
       "      <th>13</th>\n",
       "      <td>MOTHERSON</td>\n",
       "      <td>117.30</td>\n",
       "      <td>117.10</td>\n",
       "      <td>1759.50</td>\n",
       "      <td>117.10</td>\n",
       "      <td>15.0</td>\n",
       "      <td>-0.0017</td>\n",
       "    </tr>\n",
       "    <tr>\n",
       "      <th>12</th>\n",
       "      <td>MCX</td>\n",
       "      <td>3356.80</td>\n",
       "      <td>3349.60</td>\n",
       "      <td>33568.00</td>\n",
       "      <td>3349.60</td>\n",
       "      <td>10.0</td>\n",
       "      <td>-0.0021</td>\n",
       "    </tr>\n",
       "    <tr>\n",
       "      <th>19</th>\n",
       "      <td>RBA</td>\n",
       "      <td>101.70</td>\n",
       "      <td>101.25</td>\n",
       "      <td>1322.10</td>\n",
       "      <td>101.25</td>\n",
       "      <td>13.0</td>\n",
       "      <td>-0.0044</td>\n",
       "    </tr>\n",
       "    <tr>\n",
       "      <th>0</th>\n",
       "      <td>AWL</td>\n",
       "      <td>323.50</td>\n",
       "      <td>321.40</td>\n",
       "      <td>3882.00</td>\n",
       "      <td>321.40</td>\n",
       "      <td>12.0</td>\n",
       "      <td>-0.0065</td>\n",
       "    </tr>\n",
       "    <tr>\n",
       "      <th>23</th>\n",
       "      <td>VLEGOV</td>\n",
       "      <td>52.40</td>\n",
       "      <td>50.70</td>\n",
       "      <td>576.40</td>\n",
       "      <td>50.70</td>\n",
       "      <td>11.0</td>\n",
       "      <td>-0.0324</td>\n",
       "    </tr>\n",
       "  </tbody>\n",
       "</table>\n",
       "</div>"
      ],
      "text/plain": [
       "    nse_ticker  min_date_price  max_date_price  starting_value  current_value  \\\n",
       "4        CUPID         2323.05         2423.15       116152.50        2423.15   \n",
       "17        ONGC          261.75          268.05        13611.00         268.05   \n",
       "1          BSE         2463.60         2515.90        36954.00        2515.90   \n",
       "3       COLPAL         2658.80         2710.35        10635.20        2710.35   \n",
       "2         CDSL         1686.05         1711.95        16860.50        1711.95   \n",
       "21   TATAPOWER          388.40          394.20        13982.40         394.20   \n",
       "24      ZOMATO          179.45          182.10         7895.80         182.10   \n",
       "20  TATAMOTORS          978.65          992.80        19573.00         992.80   \n",
       "14       MSUMI           65.30           66.10          914.20          66.10   \n",
       "22       TITAN         3759.40         3801.80        15037.60        3801.80   \n",
       "10  JUNIORBEES          637.15          643.81         4460.05         643.81   \n",
       "16   NIFTYBEES          244.96          246.96         5879.04         246.96   \n",
       "18  PIDILITIND         2992.30         3014.70        14961.50        3014.70   \n",
       "5     GOLDBEES           56.22           56.61        11468.88          56.61   \n",
       "15    MTARTECH         1672.80         1683.75         8364.00        1683.75   \n",
       "7          IEX          133.55          134.35         8013.00         134.35   \n",
       "6   GREENPANEL          313.40          314.75         1567.00         314.75   \n",
       "9          ITC          428.00          428.35        17120.00         428.35   \n",
       "11  LIQUIDBEES          999.99         1000.00         7999.92        1000.00   \n",
       "8        IRCTC          929.95          929.70        13949.25         929.70   \n",
       "13   MOTHERSON          117.30          117.10         1759.50         117.10   \n",
       "12         MCX         3356.80         3349.60        33568.00        3349.60   \n",
       "19         RBA          101.70          101.25         1322.10         101.25   \n",
       "0          AWL          323.50          321.40         3882.00         321.40   \n",
       "23      VLEGOV           52.40           50.70          576.40          50.70   \n",
       "\n",
       "    quantity  growth  \n",
       "4       50.0  0.0431  \n",
       "17      52.0  0.0241  \n",
       "1       15.0  0.0212  \n",
       "3        4.0  0.0194  \n",
       "2       10.0  0.0154  \n",
       "21      36.0  0.0149  \n",
       "24      44.0  0.0148  \n",
       "20      20.0  0.0145  \n",
       "14      14.0  0.0123  \n",
       "22       4.0  0.0113  \n",
       "10       7.0  0.0105  \n",
       "16      24.0  0.0082  \n",
       "18       5.0  0.0075  \n",
       "5      204.0  0.0069  \n",
       "15       5.0  0.0065  \n",
       "7       60.0  0.0060  \n",
       "6        5.0  0.0043  \n",
       "9       40.0  0.0008  \n",
       "11       8.0  0.0000  \n",
       "8       15.0 -0.0003  \n",
       "13      15.0 -0.0017  \n",
       "12      10.0 -0.0021  \n",
       "19      13.0 -0.0044  \n",
       "0       12.0 -0.0065  \n",
       "23      11.0 -0.0324  "
      ]
     },
     "execution_count": 7,
     "metadata": {},
     "output_type": "execute_result"
    }
   ],
   "source": [
    "k.nlargest(100, 'growth')"
   ]
  },
  {
   "cell_type": "code",
   "execution_count": 8,
   "id": "cd3b0533-0b4b-465b-a168-b057256fee74",
   "metadata": {
    "tags": []
   },
   "outputs": [],
   "source": [
    "holdings_df = PortfolioSQL.get_user_current_holdings(user_id=1)"
   ]
  },
  {
   "cell_type": "code",
   "execution_count": 11,
   "id": "55e5c89a-3f0c-479f-bdb2-7b0372286267",
   "metadata": {
    "tags": []
   },
   "outputs": [],
   "source": [
    "import pandas as pd"
   ]
  },
  {
   "cell_type": "code",
   "execution_count": 13,
   "id": "ef13546d-4090-421b-b9a1-92ffdbe303d1",
   "metadata": {
    "scrolled": true,
    "tags": []
   },
   "outputs": [],
   "source": [
    "df = pd.merge(k, holdings_df, how = 'inner', on = 'nse_ticker')"
   ]
  },
  {
   "cell_type": "code",
   "execution_count": 15,
   "id": "f569f275-594e-4718-97be-eca2ce1fd905",
   "metadata": {
    "tags": []
   },
   "outputs": [],
   "source": [
    "df['starting_value'] = df['min_date_price'] * df['quantity']\n",
    "df['current_value'] = df['max_date_price'] * df['quantity']"
   ]
  },
  {
   "cell_type": "code",
   "execution_count": 17,
   "id": "83227ba5-9230-407b-b1e2-a665f94a56eb",
   "metadata": {
    "tags": []
   },
   "outputs": [
    {
     "data": {
      "text/plain": [
       "7652.7600000000675"
      ]
     },
     "execution_count": 17,
     "metadata": {},
     "output_type": "execute_result"
    }
   ],
   "source": [
    "df['current_value'].sum() - df['starting_value'].sum()"
   ]
  },
  {
   "cell_type": "code",
   "execution_count": 4,
   "id": "0c58cdbe-62fa-42da-b4e2-36d32d2eb02e",
   "metadata": {
    "tags": []
   },
   "outputs": [
    {
     "data": {
      "text/html": [
       "<div>\n",
       "<style scoped>\n",
       "    .dataframe tbody tr th:only-of-type {\n",
       "        vertical-align: middle;\n",
       "    }\n",
       "\n",
       "    .dataframe tbody tr th {\n",
       "        vertical-align: top;\n",
       "    }\n",
       "\n",
       "    .dataframe thead th {\n",
       "        text-align: right;\n",
       "    }\n",
       "</style>\n",
       "<table border=\"1\" class=\"dataframe\">\n",
       "  <thead>\n",
       "    <tr style=\"text-align: right;\">\n",
       "      <th></th>\n",
       "      <th>nse_ticker</th>\n",
       "      <th>min_date_price</th>\n",
       "      <th>max_date_price</th>\n",
       "      <th>growth</th>\n",
       "    </tr>\n",
       "  </thead>\n",
       "  <tbody>\n",
       "    <tr>\n",
       "      <th>0</th>\n",
       "      <td>AWL</td>\n",
       "      <td>323.50</td>\n",
       "      <td>321.40</td>\n",
       "      <td>-0.0065</td>\n",
       "    </tr>\n",
       "    <tr>\n",
       "      <th>1</th>\n",
       "      <td>BSE</td>\n",
       "      <td>2463.60</td>\n",
       "      <td>2515.90</td>\n",
       "      <td>0.0212</td>\n",
       "    </tr>\n",
       "    <tr>\n",
       "      <th>2</th>\n",
       "      <td>CDSL</td>\n",
       "      <td>1686.05</td>\n",
       "      <td>1711.95</td>\n",
       "      <td>0.0154</td>\n",
       "    </tr>\n",
       "    <tr>\n",
       "      <th>3</th>\n",
       "      <td>COLPAL</td>\n",
       "      <td>2658.80</td>\n",
       "      <td>2710.35</td>\n",
       "      <td>0.0194</td>\n",
       "    </tr>\n",
       "    <tr>\n",
       "      <th>4</th>\n",
       "      <td>CUPID</td>\n",
       "      <td>2323.05</td>\n",
       "      <td>2423.15</td>\n",
       "      <td>0.0431</td>\n",
       "    </tr>\n",
       "    <tr>\n",
       "      <th>5</th>\n",
       "      <td>GOLDBEES</td>\n",
       "      <td>56.22</td>\n",
       "      <td>56.61</td>\n",
       "      <td>0.0069</td>\n",
       "    </tr>\n",
       "    <tr>\n",
       "      <th>6</th>\n",
       "      <td>GREENPANEL</td>\n",
       "      <td>313.40</td>\n",
       "      <td>314.75</td>\n",
       "      <td>0.0043</td>\n",
       "    </tr>\n",
       "    <tr>\n",
       "      <th>7</th>\n",
       "      <td>IEX</td>\n",
       "      <td>133.55</td>\n",
       "      <td>134.35</td>\n",
       "      <td>0.0060</td>\n",
       "    </tr>\n",
       "    <tr>\n",
       "      <th>8</th>\n",
       "      <td>IRCTC</td>\n",
       "      <td>929.95</td>\n",
       "      <td>929.70</td>\n",
       "      <td>-0.0003</td>\n",
       "    </tr>\n",
       "    <tr>\n",
       "      <th>9</th>\n",
       "      <td>ITC</td>\n",
       "      <td>428.00</td>\n",
       "      <td>428.35</td>\n",
       "      <td>0.0008</td>\n",
       "    </tr>\n",
       "    <tr>\n",
       "      <th>10</th>\n",
       "      <td>JUNIORBEES</td>\n",
       "      <td>637.15</td>\n",
       "      <td>643.81</td>\n",
       "      <td>0.0105</td>\n",
       "    </tr>\n",
       "    <tr>\n",
       "      <th>11</th>\n",
       "      <td>LIQUIDBEES</td>\n",
       "      <td>999.99</td>\n",
       "      <td>1000.00</td>\n",
       "      <td>0.0000</td>\n",
       "    </tr>\n",
       "    <tr>\n",
       "      <th>12</th>\n",
       "      <td>MCX</td>\n",
       "      <td>3356.80</td>\n",
       "      <td>3349.60</td>\n",
       "      <td>-0.0021</td>\n",
       "    </tr>\n",
       "    <tr>\n",
       "      <th>13</th>\n",
       "      <td>MOTHERSON</td>\n",
       "      <td>117.30</td>\n",
       "      <td>117.10</td>\n",
       "      <td>-0.0017</td>\n",
       "    </tr>\n",
       "    <tr>\n",
       "      <th>14</th>\n",
       "      <td>MSUMI</td>\n",
       "      <td>65.30</td>\n",
       "      <td>66.10</td>\n",
       "      <td>0.0123</td>\n",
       "    </tr>\n",
       "    <tr>\n",
       "      <th>15</th>\n",
       "      <td>MTARTECH</td>\n",
       "      <td>1672.80</td>\n",
       "      <td>1683.75</td>\n",
       "      <td>0.0065</td>\n",
       "    </tr>\n",
       "    <tr>\n",
       "      <th>16</th>\n",
       "      <td>NIFTYBEES</td>\n",
       "      <td>244.96</td>\n",
       "      <td>246.96</td>\n",
       "      <td>0.0082</td>\n",
       "    </tr>\n",
       "    <tr>\n",
       "      <th>17</th>\n",
       "      <td>ONGC</td>\n",
       "      <td>261.75</td>\n",
       "      <td>268.05</td>\n",
       "      <td>0.0241</td>\n",
       "    </tr>\n",
       "    <tr>\n",
       "      <th>18</th>\n",
       "      <td>PIDILITIND</td>\n",
       "      <td>2992.30</td>\n",
       "      <td>3014.70</td>\n",
       "      <td>0.0075</td>\n",
       "    </tr>\n",
       "    <tr>\n",
       "      <th>19</th>\n",
       "      <td>RBA</td>\n",
       "      <td>101.70</td>\n",
       "      <td>101.25</td>\n",
       "      <td>-0.0044</td>\n",
       "    </tr>\n",
       "    <tr>\n",
       "      <th>20</th>\n",
       "      <td>TATAMOTORS</td>\n",
       "      <td>978.65</td>\n",
       "      <td>992.80</td>\n",
       "      <td>0.0145</td>\n",
       "    </tr>\n",
       "    <tr>\n",
       "      <th>21</th>\n",
       "      <td>TATAPOWER</td>\n",
       "      <td>388.40</td>\n",
       "      <td>394.20</td>\n",
       "      <td>0.0149</td>\n",
       "    </tr>\n",
       "    <tr>\n",
       "      <th>22</th>\n",
       "      <td>TITAN</td>\n",
       "      <td>3759.40</td>\n",
       "      <td>3801.80</td>\n",
       "      <td>0.0113</td>\n",
       "    </tr>\n",
       "    <tr>\n",
       "      <th>23</th>\n",
       "      <td>VLEGOV</td>\n",
       "      <td>52.40</td>\n",
       "      <td>50.70</td>\n",
       "      <td>-0.0324</td>\n",
       "    </tr>\n",
       "    <tr>\n",
       "      <th>24</th>\n",
       "      <td>ZOMATO</td>\n",
       "      <td>179.45</td>\n",
       "      <td>182.10</td>\n",
       "      <td>0.0148</td>\n",
       "    </tr>\n",
       "  </tbody>\n",
       "</table>\n",
       "</div>"
      ],
      "text/plain": [
       "    nse_ticker  min_date_price  max_date_price  growth\n",
       "0          AWL          323.50          321.40 -0.0065\n",
       "1          BSE         2463.60         2515.90  0.0212\n",
       "2         CDSL         1686.05         1711.95  0.0154\n",
       "3       COLPAL         2658.80         2710.35  0.0194\n",
       "4        CUPID         2323.05         2423.15  0.0431\n",
       "5     GOLDBEES           56.22           56.61  0.0069\n",
       "6   GREENPANEL          313.40          314.75  0.0043\n",
       "7          IEX          133.55          134.35  0.0060\n",
       "8        IRCTC          929.95          929.70 -0.0003\n",
       "9          ITC          428.00          428.35  0.0008\n",
       "10  JUNIORBEES          637.15          643.81  0.0105\n",
       "11  LIQUIDBEES          999.99         1000.00  0.0000\n",
       "12         MCX         3356.80         3349.60 -0.0021\n",
       "13   MOTHERSON          117.30          117.10 -0.0017\n",
       "14       MSUMI           65.30           66.10  0.0123\n",
       "15    MTARTECH         1672.80         1683.75  0.0065\n",
       "16   NIFTYBEES          244.96          246.96  0.0082\n",
       "17        ONGC          261.75          268.05  0.0241\n",
       "18  PIDILITIND         2992.30         3014.70  0.0075\n",
       "19         RBA          101.70          101.25 -0.0044\n",
       "20  TATAMOTORS          978.65          992.80  0.0145\n",
       "21   TATAPOWER          388.40          394.20  0.0149\n",
       "22       TITAN         3759.40         3801.80  0.0113\n",
       "23      VLEGOV           52.40           50.70 -0.0324\n",
       "24      ZOMATO          179.45          182.10  0.0148"
      ]
     },
     "execution_count": 4,
     "metadata": {},
     "output_type": "execute_result"
    }
   ],
   "source": [
    "k"
   ]
  },
  {
   "cell_type": "code",
   "execution_count": 6,
   "id": "e37bdc03-2ff5-4724-8eed-1c79823a29c9",
   "metadata": {
    "tags": []
   },
   "outputs": [],
   "source": [
    "k = PortfolioSQL.get_nse_ticker_list_history(['RELIANCE', 'ADANIENT'])"
   ]
  },
  {
   "cell_type": "code",
   "execution_count": 8,
   "id": "e6878360-1ebe-4266-8fcf-ab695c501dcd",
   "metadata": {
    "tags": []
   },
   "outputs": [],
   "source": [
    "k = PortfolioSQL.get_user_current_holdings(1)"
   ]
  },
  {
   "cell_type": "code",
   "execution_count": 9,
   "id": "bd1a825b-d4dc-4b6d-9393-9ba04ffa1d0b",
   "metadata": {
    "tags": []
   },
   "outputs": [
    {
     "data": {
      "text/html": [
       "<div>\n",
       "<style scoped>\n",
       "    .dataframe tbody tr th:only-of-type {\n",
       "        vertical-align: middle;\n",
       "    }\n",
       "\n",
       "    .dataframe tbody tr th {\n",
       "        vertical-align: top;\n",
       "    }\n",
       "\n",
       "    .dataframe thead th {\n",
       "        text-align: right;\n",
       "    }\n",
       "</style>\n",
       "<table border=\"1\" class=\"dataframe\">\n",
       "  <thead>\n",
       "    <tr style=\"text-align: right;\">\n",
       "      <th></th>\n",
       "      <th>user_id</th>\n",
       "      <th>name</th>\n",
       "      <th>nse_ticker</th>\n",
       "      <th>kite_trading_symbol</th>\n",
       "      <th>instrument_token</th>\n",
       "      <th>quantity</th>\n",
       "      <th>average_price</th>\n",
       "    </tr>\n",
       "  </thead>\n",
       "  <tbody>\n",
       "    <tr>\n",
       "      <th>0</th>\n",
       "      <td>1</td>\n",
       "      <td>ADANI WILMAR</td>\n",
       "      <td>AWL</td>\n",
       "      <td>AWL</td>\n",
       "      <td>2076161</td>\n",
       "      <td>12.0</td>\n",
       "      <td>598.375000</td>\n",
       "    </tr>\n",
       "    <tr>\n",
       "      <th>1</th>\n",
       "      <td>1</td>\n",
       "      <td>BSE</td>\n",
       "      <td>BSE</td>\n",
       "      <td>BSE</td>\n",
       "      <td>5013761</td>\n",
       "      <td>15.0</td>\n",
       "      <td>613.720000</td>\n",
       "    </tr>\n",
       "    <tr>\n",
       "      <th>2</th>\n",
       "      <td>1</td>\n",
       "      <td>CENTRAL DEPO SER (I)</td>\n",
       "      <td>CDSL</td>\n",
       "      <td>CDSL</td>\n",
       "      <td>5420545</td>\n",
       "      <td>10.0</td>\n",
       "      <td>1187.260000</td>\n",
       "    </tr>\n",
       "    <tr>\n",
       "      <th>3</th>\n",
       "      <td>1</td>\n",
       "      <td>COLGATE PALMOLIVE.</td>\n",
       "      <td>COLPAL</td>\n",
       "      <td>COLPAL</td>\n",
       "      <td>3876097</td>\n",
       "      <td>4.0</td>\n",
       "      <td>1576.300000</td>\n",
       "    </tr>\n",
       "    <tr>\n",
       "      <th>4</th>\n",
       "      <td>1</td>\n",
       "      <td>CUPID</td>\n",
       "      <td>CUPID</td>\n",
       "      <td>CUPID-BE</td>\n",
       "      <td>4742145</td>\n",
       "      <td>50.0</td>\n",
       "      <td>239.270000</td>\n",
       "    </tr>\n",
       "    <tr>\n",
       "      <th>5</th>\n",
       "      <td>1</td>\n",
       "      <td>NIP IND ETF GOLD BEES</td>\n",
       "      <td>GOLDBEES</td>\n",
       "      <td>GOLDBEES</td>\n",
       "      <td>3693569</td>\n",
       "      <td>204.0</td>\n",
       "      <td>46.186617</td>\n",
       "    </tr>\n",
       "    <tr>\n",
       "      <th>6</th>\n",
       "      <td>1</td>\n",
       "      <td>GREENPANEL INDUSTRIES</td>\n",
       "      <td>GREENPANEL</td>\n",
       "      <td>GREENPANEL</td>\n",
       "      <td>3535361</td>\n",
       "      <td>5.0</td>\n",
       "      <td>429.500000</td>\n",
       "    </tr>\n",
       "    <tr>\n",
       "      <th>7</th>\n",
       "      <td>1</td>\n",
       "      <td>INDIAN ENERGY EXC</td>\n",
       "      <td>IEX</td>\n",
       "      <td>IEX</td>\n",
       "      <td>56321</td>\n",
       "      <td>60.0</td>\n",
       "      <td>157.880000</td>\n",
       "    </tr>\n",
       "    <tr>\n",
       "      <th>8</th>\n",
       "      <td>1</td>\n",
       "      <td>INDIAN RAIL TOUR CORP</td>\n",
       "      <td>IRCTC</td>\n",
       "      <td>IRCTC</td>\n",
       "      <td>3484417</td>\n",
       "      <td>15.0</td>\n",
       "      <td>696.270000</td>\n",
       "    </tr>\n",
       "    <tr>\n",
       "      <th>9</th>\n",
       "      <td>1</td>\n",
       "      <td>ITC</td>\n",
       "      <td>ITC</td>\n",
       "      <td>ITC</td>\n",
       "      <td>424961</td>\n",
       "      <td>40.0</td>\n",
       "      <td>348.560000</td>\n",
       "    </tr>\n",
       "    <tr>\n",
       "      <th>10</th>\n",
       "      <td>1</td>\n",
       "      <td>NIP IND ETF JUNIOR BEES</td>\n",
       "      <td>JUNIORBEES</td>\n",
       "      <td>JUNIORBEES</td>\n",
       "      <td>2800385</td>\n",
       "      <td>7.0</td>\n",
       "      <td>433.947142</td>\n",
       "    </tr>\n",
       "    <tr>\n",
       "      <th>11</th>\n",
       "      <td>1</td>\n",
       "      <td>NIP IND ETF LIQUID BEES</td>\n",
       "      <td>LIQUIDBEES</td>\n",
       "      <td>LIQUIDBEES</td>\n",
       "      <td>2817537</td>\n",
       "      <td>8.0</td>\n",
       "      <td>1000.010000</td>\n",
       "    </tr>\n",
       "    <tr>\n",
       "      <th>12</th>\n",
       "      <td>1</td>\n",
       "      <td>MULTI COMMODITY EXCHANGE</td>\n",
       "      <td>MCX</td>\n",
       "      <td>MCX</td>\n",
       "      <td>7982337</td>\n",
       "      <td>10.0</td>\n",
       "      <td>1394.430000</td>\n",
       "    </tr>\n",
       "    <tr>\n",
       "      <th>13</th>\n",
       "      <td>1</td>\n",
       "      <td>SAMVRDHNA MTHRSN INTL</td>\n",
       "      <td>MOTHERSON</td>\n",
       "      <td>MOTHERSON</td>\n",
       "      <td>1076225</td>\n",
       "      <td>15.0</td>\n",
       "      <td>129.269238</td>\n",
       "    </tr>\n",
       "    <tr>\n",
       "      <th>14</th>\n",
       "      <td>1</td>\n",
       "      <td>MOTHERSON SUMI WRNG IND L</td>\n",
       "      <td>MSUMI</td>\n",
       "      <td>MSUMI</td>\n",
       "      <td>2200577</td>\n",
       "      <td>14.0</td>\n",
       "      <td>16.300816</td>\n",
       "    </tr>\n",
       "    <tr>\n",
       "      <th>15</th>\n",
       "      <td>1</td>\n",
       "      <td>MTAR TECHNOLOGIES</td>\n",
       "      <td>MTARTECH</td>\n",
       "      <td>MTARTECH</td>\n",
       "      <td>693505</td>\n",
       "      <td>5.0</td>\n",
       "      <td>1626.600000</td>\n",
       "    </tr>\n",
       "    <tr>\n",
       "      <th>16</th>\n",
       "      <td>1</td>\n",
       "      <td>NIP IND ETF NIFTY BEES</td>\n",
       "      <td>NIFTYBEES</td>\n",
       "      <td>NIFTYBEES</td>\n",
       "      <td>2707457</td>\n",
       "      <td>24.0</td>\n",
       "      <td>194.690000</td>\n",
       "    </tr>\n",
       "    <tr>\n",
       "      <th>17</th>\n",
       "      <td>1</td>\n",
       "      <td>OIL AND NATURAL GAS CORP.</td>\n",
       "      <td>ONGC</td>\n",
       "      <td>ONGC</td>\n",
       "      <td>633601</td>\n",
       "      <td>52.0</td>\n",
       "      <td>149.512500</td>\n",
       "    </tr>\n",
       "    <tr>\n",
       "      <th>18</th>\n",
       "      <td>1</td>\n",
       "      <td>PIDILITE INDUSTRIES</td>\n",
       "      <td>PIDILITIND</td>\n",
       "      <td>PIDILITIND</td>\n",
       "      <td>681985</td>\n",
       "      <td>5.0</td>\n",
       "      <td>2539.470000</td>\n",
       "    </tr>\n",
       "    <tr>\n",
       "      <th>19</th>\n",
       "      <td>1</td>\n",
       "      <td>RESTAURANT BRAND ASIA</td>\n",
       "      <td>RBA</td>\n",
       "      <td>RBA</td>\n",
       "      <td>382465</td>\n",
       "      <td>13.0</td>\n",
       "      <td>145.800000</td>\n",
       "    </tr>\n",
       "    <tr>\n",
       "      <th>20</th>\n",
       "      <td>1</td>\n",
       "      <td>TATA MOTORS</td>\n",
       "      <td>TATAMOTORS</td>\n",
       "      <td>TATAMOTORS</td>\n",
       "      <td>884737</td>\n",
       "      <td>20.0</td>\n",
       "      <td>441.887500</td>\n",
       "    </tr>\n",
       "    <tr>\n",
       "      <th>21</th>\n",
       "      <td>1</td>\n",
       "      <td>TATA POWER CO</td>\n",
       "      <td>TATAPOWER</td>\n",
       "      <td>TATAPOWER</td>\n",
       "      <td>877057</td>\n",
       "      <td>36.0</td>\n",
       "      <td>224.825000</td>\n",
       "    </tr>\n",
       "    <tr>\n",
       "      <th>22</th>\n",
       "      <td>1</td>\n",
       "      <td>TITAN COMPANY</td>\n",
       "      <td>TITAN</td>\n",
       "      <td>TITAN</td>\n",
       "      <td>897537</td>\n",
       "      <td>4.0</td>\n",
       "      <td>2532.625000</td>\n",
       "    </tr>\n",
       "    <tr>\n",
       "      <th>23</th>\n",
       "      <td>1</td>\n",
       "      <td>VL E GOV AND IT SOL</td>\n",
       "      <td>VLEGOV</td>\n",
       "      <td>VLEGOV-BE</td>\n",
       "      <td>4613377</td>\n",
       "      <td>11.0</td>\n",
       "      <td>413.154756</td>\n",
       "    </tr>\n",
       "    <tr>\n",
       "      <th>24</th>\n",
       "      <td>1</td>\n",
       "      <td>ZOMATO</td>\n",
       "      <td>ZOMATO</td>\n",
       "      <td>ZOMATO</td>\n",
       "      <td>1304833</td>\n",
       "      <td>44.0</td>\n",
       "      <td>128.168182</td>\n",
       "    </tr>\n",
       "  </tbody>\n",
       "</table>\n",
       "</div>"
      ],
      "text/plain": [
       "    user_id                       name  nse_ticker kite_trading_symbol  \\\n",
       "0         1               ADANI WILMAR         AWL                 AWL   \n",
       "1         1                        BSE         BSE                 BSE   \n",
       "2         1       CENTRAL DEPO SER (I)        CDSL                CDSL   \n",
       "3         1         COLGATE PALMOLIVE.      COLPAL              COLPAL   \n",
       "4         1                      CUPID       CUPID            CUPID-BE   \n",
       "5         1      NIP IND ETF GOLD BEES    GOLDBEES            GOLDBEES   \n",
       "6         1      GREENPANEL INDUSTRIES  GREENPANEL          GREENPANEL   \n",
       "7         1          INDIAN ENERGY EXC         IEX                 IEX   \n",
       "8         1      INDIAN RAIL TOUR CORP       IRCTC               IRCTC   \n",
       "9         1                        ITC         ITC                 ITC   \n",
       "10        1    NIP IND ETF JUNIOR BEES  JUNIORBEES          JUNIORBEES   \n",
       "11        1    NIP IND ETF LIQUID BEES  LIQUIDBEES          LIQUIDBEES   \n",
       "12        1   MULTI COMMODITY EXCHANGE         MCX                 MCX   \n",
       "13        1      SAMVRDHNA MTHRSN INTL   MOTHERSON           MOTHERSON   \n",
       "14        1  MOTHERSON SUMI WRNG IND L       MSUMI               MSUMI   \n",
       "15        1          MTAR TECHNOLOGIES    MTARTECH            MTARTECH   \n",
       "16        1     NIP IND ETF NIFTY BEES   NIFTYBEES           NIFTYBEES   \n",
       "17        1  OIL AND NATURAL GAS CORP.        ONGC                ONGC   \n",
       "18        1        PIDILITE INDUSTRIES  PIDILITIND          PIDILITIND   \n",
       "19        1      RESTAURANT BRAND ASIA         RBA                 RBA   \n",
       "20        1                TATA MOTORS  TATAMOTORS          TATAMOTORS   \n",
       "21        1              TATA POWER CO   TATAPOWER           TATAPOWER   \n",
       "22        1              TITAN COMPANY       TITAN               TITAN   \n",
       "23        1        VL E GOV AND IT SOL      VLEGOV           VLEGOV-BE   \n",
       "24        1                     ZOMATO      ZOMATO              ZOMATO   \n",
       "\n",
       "   instrument_token  quantity  average_price  \n",
       "0           2076161      12.0     598.375000  \n",
       "1           5013761      15.0     613.720000  \n",
       "2           5420545      10.0    1187.260000  \n",
       "3           3876097       4.0    1576.300000  \n",
       "4           4742145      50.0     239.270000  \n",
       "5           3693569     204.0      46.186617  \n",
       "6           3535361       5.0     429.500000  \n",
       "7             56321      60.0     157.880000  \n",
       "8           3484417      15.0     696.270000  \n",
       "9            424961      40.0     348.560000  \n",
       "10          2800385       7.0     433.947142  \n",
       "11          2817537       8.0    1000.010000  \n",
       "12          7982337      10.0    1394.430000  \n",
       "13          1076225      15.0     129.269238  \n",
       "14          2200577      14.0      16.300816  \n",
       "15           693505       5.0    1626.600000  \n",
       "16          2707457      24.0     194.690000  \n",
       "17           633601      52.0     149.512500  \n",
       "18           681985       5.0    2539.470000  \n",
       "19           382465      13.0     145.800000  \n",
       "20           884737      20.0     441.887500  \n",
       "21           877057      36.0     224.825000  \n",
       "22           897537       4.0    2532.625000  \n",
       "23          4613377      11.0     413.154756  \n",
       "24          1304833      44.0     128.168182  "
      ]
     },
     "execution_count": 9,
     "metadata": {},
     "output_type": "execute_result"
    }
   ],
   "source": [
    "k"
   ]
  },
  {
   "cell_type": "code",
   "execution_count": 7,
   "id": "49e4f108-f85a-4686-a0b8-64bef99d2258",
   "metadata": {
    "tags": []
   },
   "outputs": [
    {
     "data": {
      "text/html": [
       "<div>\n",
       "<style scoped>\n",
       "    .dataframe tbody tr th:only-of-type {\n",
       "        vertical-align: middle;\n",
       "    }\n",
       "\n",
       "    .dataframe tbody tr th {\n",
       "        vertical-align: top;\n",
       "    }\n",
       "\n",
       "    .dataframe thead th {\n",
       "        text-align: right;\n",
       "    }\n",
       "</style>\n",
       "<table border=\"1\" class=\"dataframe\">\n",
       "  <thead>\n",
       "    <tr style=\"text-align: right;\">\n",
       "      <th></th>\n",
       "      <th>nse_ticker</th>\n",
       "      <th>price_date</th>\n",
       "      <th>price</th>\n",
       "    </tr>\n",
       "  </thead>\n",
       "  <tbody>\n",
       "    <tr>\n",
       "      <th>0</th>\n",
       "      <td>ADANIENT</td>\n",
       "      <td>2024-03-27</td>\n",
       "      <td>3122.1</td>\n",
       "    </tr>\n",
       "    <tr>\n",
       "      <th>1</th>\n",
       "      <td>ADANIENT</td>\n",
       "      <td>2024-03-28</td>\n",
       "      <td>3197.1</td>\n",
       "    </tr>\n",
       "    <tr>\n",
       "      <th>2</th>\n",
       "      <td>RELIANCE</td>\n",
       "      <td>2024-03-27</td>\n",
       "      <td>2985.7</td>\n",
       "    </tr>\n",
       "    <tr>\n",
       "      <th>3</th>\n",
       "      <td>RELIANCE</td>\n",
       "      <td>2024-03-28</td>\n",
       "      <td>2971.7</td>\n",
       "    </tr>\n",
       "  </tbody>\n",
       "</table>\n",
       "</div>"
      ],
      "text/plain": [
       "  nse_ticker  price_date   price\n",
       "0   ADANIENT  2024-03-27  3122.1\n",
       "1   ADANIENT  2024-03-28  3197.1\n",
       "2   RELIANCE  2024-03-27  2985.7\n",
       "3   RELIANCE  2024-03-28  2971.7"
      ]
     },
     "execution_count": 7,
     "metadata": {},
     "output_type": "execute_result"
    }
   ],
   "source": [
    "k"
   ]
  },
  {
   "cell_type": "code",
   "execution_count": 4,
   "id": "c42b77a4-1887-44f5-ad07-49fa8857e7c3",
   "metadata": {
    "tags": []
   },
   "outputs": [],
   "source": [
    "companies_df = PortfolioService.filter_nse_companies_by_name(companies_list=['lsdkjf'])"
   ]
  },
  {
   "cell_type": "code",
   "execution_count": 6,
   "id": "26d44818-5817-4e8f-a12b-78d1a79f1618",
   "metadata": {
    "tags": []
   },
   "outputs": [],
   "source": [
    "company_kite_symbols = list(set(companies_df['kite_trading_symbol']))"
   ]
  },
  {
   "cell_type": "code",
   "execution_count": 8,
   "id": "086bd9b1-3b05-4079-921e-a477a5b7afbf",
   "metadata": {
    "tags": []
   },
   "outputs": [
    {
     "data": {
      "text/plain": [
       "[]"
      ]
     },
     "execution_count": 8,
     "metadata": {},
     "output_type": "execute_result"
    }
   ],
   "source": [
    "company_kite_symbols"
   ]
  },
  {
   "cell_type": "code",
   "execution_count": 7,
   "id": "371ddbf4-23b8-4bab-a6c7-870c6cc0ccc1",
   "metadata": {
    "tags": []
   },
   "outputs": [],
   "source": [
    "company_kite_symbols = list(set(companies_df['kite_trading_symbol']))"
   ]
  },
  {
   "cell_type": "code",
   "execution_count": 5,
   "id": "3d6b3b94-d07c-4a75-bfa2-a2a70c8ace52",
   "metadata": {
    "tags": []
   },
   "outputs": [
    {
     "data": {
      "text/html": [
       "<div>\n",
       "<style scoped>\n",
       "    .dataframe tbody tr th:only-of-type {\n",
       "        vertical-align: middle;\n",
       "    }\n",
       "\n",
       "    .dataframe tbody tr th {\n",
       "        vertical-align: top;\n",
       "    }\n",
       "\n",
       "    .dataframe thead th {\n",
       "        text-align: right;\n",
       "    }\n",
       "</style>\n",
       "<table border=\"1\" class=\"dataframe\">\n",
       "  <thead>\n",
       "    <tr style=\"text-align: right;\">\n",
       "      <th></th>\n",
       "      <th>matching_score</th>\n",
       "      <th>instrument_token</th>\n",
       "      <th>nse_ticker</th>\n",
       "      <th>kite_trading_symbol</th>\n",
       "      <th>name</th>\n",
       "    </tr>\n",
       "  </thead>\n",
       "  <tbody>\n",
       "  </tbody>\n",
       "</table>\n",
       "</div>"
      ],
      "text/plain": [
       "Empty DataFrame\n",
       "Columns: [matching_score, instrument_token, nse_ticker, kite_trading_symbol, name]\n",
       "Index: []"
      ]
     },
     "execution_count": 5,
     "metadata": {},
     "output_type": "execute_result"
    }
   ],
   "source": [
    "companies_df"
   ]
  },
  {
   "cell_type": "code",
   "execution_count": 4,
   "id": "de8f4dac-0267-4af8-9f92-65135a2735d9",
   "metadata": {
    "tags": []
   },
   "outputs": [
    {
     "data": {
      "text/plain": [
       "{'text_box': {'value_type': 'rupees',\n",
       "  'chart_title': 'Latest share price of Infosys',\n",
       "  'data': {'INFOSYS': 1495.45}}}"
      ]
     },
     "execution_count": 4,
     "metadata": {},
     "output_type": "execute_result"
    }
   ],
   "source": [
    "PortfolioService.get_latest_share_price_trend_for_companies(['infosys'])"
   ]
  },
  {
   "cell_type": "code",
   "execution_count": 5,
   "id": "3827b4b3-7c87-4936-ac98-dc9ef243abce",
   "metadata": {
    "tags": []
   },
   "outputs": [],
   "source": [
    "k = FunctionCallingService.parse_details_from_gpt(query = 'my total holdings in adani', user_id = 1)"
   ]
  },
  {
   "cell_type": "code",
   "execution_count": 6,
   "id": "17ef28e8-de04-4c1c-9606-5e517c73f03d",
   "metadata": {
    "tags": []
   },
   "outputs": [
    {
     "data": {
      "text/plain": [
       "{'searchArticleIds': [],\n",
       " 'additionalInfo': {'query_understanding': {'model': 'gpt-3.5-turbo-0125',\n",
       "   'prompt_tokens': 542,\n",
       "   'completion_tokens': 36,\n",
       "   'system_prompt': \"You are an expert financial analyst working for a leading indian fintech platform. User queries are either related to their own portfolio (eg. what is the total value of my portfolio or what are my most profitable holdings) or about general financial and business news (eg. how to save taxes or what is the performance of reliance over last 5 years). You extract the following attributes from a given user query. Today is “2024-03-15”. The platform has a database with the following data for user's own portfolio.\\n    user_portfolio: name, nseticker, holding_quantity, avg_buy_price, current_price\\n    Based on user's query we'll either run the function search_web_for_query, extract_portfolio_details or get_share_price_for_companies\\n    respond only with the json with the above keys. don't answer the user query directly, but only extract the attributes\",\n",
       "   'user_prompt': {'query': 'user_query: my total holdings in adani',\n",
       "    'tools': [{'type': 'function',\n",
       "      'function': {'name': 'search_web_for_query',\n",
       "       'description': \"Search web for the user query. To be called when query is not related to analysis of user's own portfolio\",\n",
       "       'parameters': {'type': 'object',\n",
       "        'properties': {'financial_or_business_query': {'type': 'boolean',\n",
       "          'description': 'If the query is relevant for personal finance, markets of business related queries'},\n",
       "         'recency_importance': {'type': 'string',\n",
       "          'enum': ['high', 'medium'],\n",
       "          'description': 'How important is that only most recent articles are fetched. high for very volatile like latest stock prices, medium for slowly changing stuff like regulations or educational and guides'}},\n",
       "        'required': ['financial_or_business_query', 'recency_importance']}}},\n",
       "     {'type': 'function',\n",
       "      'function': {'name': 'extract_portfolio_details',\n",
       "       'description': 'Extract details related to user portfolio',\n",
       "       'parameters': {'type': 'object',\n",
       "        'properties': {'aggregation_metric': {'type': 'string',\n",
       "          'enum': ['current_value',\n",
       "           'invested_value',\n",
       "           'profit',\n",
       "           'profit_percent'],\n",
       "          'description': 'Metric user is requesting for'},\n",
       "         'aggregation_level': {'type': 'string',\n",
       "          'enum': ['overall', 'company'],\n",
       "          'description': 'If the user is looking for overall stats or breaking down by company'},\n",
       "         'companies_mentioned': {'type': 'array',\n",
       "          'items': {'type': 'string'},\n",
       "          'minItems': 0,\n",
       "          'maxItems': 5,\n",
       "          'description': 'Array of company names mentioned in the user query'},\n",
       "         'sorting_order': {'type': 'string',\n",
       "          'enum': ['ascending', 'descending'],\n",
       "          'description': 'sorting order requested based on the aggregation_metric. For example user asks for least profitable or most loss making, then sorting order is ascending'}},\n",
       "        'required': ['aggregation_metric',\n",
       "         'aggregation_level',\n",
       "         'companies_mentioned',\n",
       "         'sorting_order']}}},\n",
       "     {'type': 'function',\n",
       "      'function': {'name': 'get_share_price_for_companies',\n",
       "       'description': 'Get the latest share prices for companies. If user does not mention company or asks for sensex or NSE, index or general market - then use NIFTY 50',\n",
       "       'parameters': {'type': 'object',\n",
       "        'properties': {'companies_mentioned': {'type': 'array',\n",
       "          'items': {'type': 'string'},\n",
       "          'minItems': 1,\n",
       "          'maxItems': 5,\n",
       "          'description': 'Array of company names mentioned in the user query'}},\n",
       "        'required': ['companies_mentioned']}}}]},\n",
       "   'evaluation': {'function': {'name': 'extract_portfolio_details',\n",
       "     'arguments': {'aggregation_metric': 'current_value',\n",
       "      'aggregation_level': 'company',\n",
       "      'companies_mentioned': ['adani'],\n",
       "      'sorting_order': 'descending'}}}}},\n",
       " 'user_portfolio_data': True,\n",
       " 'portfolio_data': [{'bar_chart': {'value_type': 'rupees',\n",
       "    'chart_title': 'Top Holdings by Current Value',\n",
       "    'data': [{'ADANI WILMAR': 4082.3999999999996}]}}]}"
      ]
     },
     "execution_count": 6,
     "metadata": {},
     "output_type": "execute_result"
    }
   ],
   "source": [
    "k"
   ]
  },
  {
   "cell_type": "code",
   "execution_count": 11,
   "id": "c8387914-1d6c-499d-92aa-622792ac2fa4",
   "metadata": {
    "tags": []
   },
   "outputs": [],
   "source": [
    "k = '{}'"
   ]
  },
  {
   "cell_type": "code",
   "execution_count": 12,
   "id": "5620a146-d325-43e3-aace-3be2f4b8a7b3",
   "metadata": {
    "tags": []
   },
   "outputs": [],
   "source": [
    "if not k:\n",
    "    print('s')"
   ]
  },
  {
   "cell_type": "code",
   "execution_count": null,
   "id": "e28e23fc-23f2-4314-b719-14d515119348",
   "metadata": {},
   "outputs": [],
   "source": []
  },
  {
   "cell_type": "code",
   "execution_count": null,
   "id": "1e83760e-0352-4590-82d8-4ddb6523a395",
   "metadata": {},
   "outputs": [],
   "source": []
  },
  {
   "cell_type": "code",
   "execution_count": 13,
   "id": "a2321522-80e4-48f4-881d-36ad8e41ab88",
   "metadata": {
    "tags": []
   },
   "outputs": [],
   "source": [
    "from sql.PortfolioSQL import PortfolioSQL"
   ]
  },
  {
   "cell_type": "code",
   "execution_count": 14,
   "id": "171684cd-a1d4-4c8f-9346-988c04500a8d",
   "metadata": {
    "tags": []
   },
   "outputs": [],
   "source": [
    "d = PortfolioSQL.get_all_nse_symbols()"
   ]
  },
  {
   "cell_type": "code",
   "execution_count": 12,
   "id": "56d05521-3e20-4e9e-9e69-0366d68d05ba",
   "metadata": {
    "tags": []
   },
   "outputs": [
    {
     "data": {
      "text/plain": [
       "name\n",
       "1018GS2026    1\n",
       "182D010824    1\n",
       "182D020524    1\n",
       "182D040424    1\n",
       "182D040724    1\n",
       "Name: nse_ticker, dtype: int64"
      ]
     },
     "execution_count": 12,
     "metadata": {},
     "output_type": "execute_result"
    }
   ],
   "source": [
    "d.groupby('name')['nse_ticker'].count().nlargest()"
   ]
  },
  {
   "cell_type": "code",
   "execution_count": 11,
   "id": "c7c89ce9-8f8c-4df8-bbb7-3bf0813ade32",
   "metadata": {
    "tags": []
   },
   "outputs": [],
   "source": [
    "d = d.drop_duplicates('name')"
   ]
  },
  {
   "cell_type": "code",
   "execution_count": 9,
   "id": "d24484e7-95dd-4fce-ae92-fdda0ecc7869",
   "metadata": {
    "tags": []
   },
   "outputs": [
    {
     "data": {
      "text/html": [
       "<div>\n",
       "<style scoped>\n",
       "    .dataframe tbody tr th:only-of-type {\n",
       "        vertical-align: middle;\n",
       "    }\n",
       "\n",
       "    .dataframe tbody tr th {\n",
       "        vertical-align: top;\n",
       "    }\n",
       "\n",
       "    .dataframe thead th {\n",
       "        text-align: right;\n",
       "    }\n",
       "</style>\n",
       "<table border=\"1\" class=\"dataframe\">\n",
       "  <thead>\n",
       "    <tr style=\"text-align: right;\">\n",
       "      <th></th>\n",
       "      <th>nse_ticker</th>\n",
       "      <th>instrument_token</th>\n",
       "      <th>name</th>\n",
       "    </tr>\n",
       "  </thead>\n",
       "  <tbody>\n",
       "    <tr>\n",
       "      <th>968</th>\n",
       "      <td>GATECH</td>\n",
       "      <td>4612609</td>\n",
       "      <td>GACM TECHNOLOGIES</td>\n",
       "    </tr>\n",
       "    <tr>\n",
       "      <th>4573</th>\n",
       "      <td>GATECHDVR</td>\n",
       "      <td>6913</td>\n",
       "      <td>GACM TECHNOLOGIES</td>\n",
       "    </tr>\n",
       "  </tbody>\n",
       "</table>\n",
       "</div>"
      ],
      "text/plain": [
       "     nse_ticker instrument_token               name\n",
       "968      GATECH          4612609  GACM TECHNOLOGIES\n",
       "4573  GATECHDVR             6913  GACM TECHNOLOGIES"
      ]
     },
     "execution_count": 9,
     "metadata": {},
     "output_type": "execute_result"
    }
   ],
   "source": [
    "d[d.name == 'GACM TECHNOLOGIES']"
   ]
  },
  {
   "cell_type": "code",
   "execution_count": 9,
   "id": "8349f8bc-0bd0-4b4c-a7d4-0fda87ea98ee",
   "metadata": {
    "tags": []
   },
   "outputs": [],
   "source": [
    "k = PortfolioService.filter_companies_in_nse(['infosys'])"
   ]
  },
  {
   "cell_type": "code",
   "execution_count": 10,
   "id": "2fbee810-cf25-4730-8666-bcf8b98df10a",
   "metadata": {
    "tags": []
   },
   "outputs": [
    {
     "data": {
      "text/html": [
       "<div>\n",
       "<style scoped>\n",
       "    .dataframe tbody tr th:only-of-type {\n",
       "        vertical-align: middle;\n",
       "    }\n",
       "\n",
       "    .dataframe tbody tr th {\n",
       "        vertical-align: top;\n",
       "    }\n",
       "\n",
       "    .dataframe thead th {\n",
       "        text-align: right;\n",
       "    }\n",
       "</style>\n",
       "<table border=\"1\" class=\"dataframe\">\n",
       "  <thead>\n",
       "    <tr style=\"text-align: right;\">\n",
       "      <th></th>\n",
       "      <th>nse_ticker</th>\n",
       "      <th>matching_score</th>\n",
       "      <th>instrument_token</th>\n",
       "    </tr>\n",
       "  </thead>\n",
       "  <tbody>\n",
       "    <tr>\n",
       "      <th>0</th>\n",
       "      <td>INFY</td>\n",
       "      <td>100</td>\n",
       "      <td>408065</td>\n",
       "    </tr>\n",
       "    <tr>\n",
       "      <th>1</th>\n",
       "      <td>HCL</td>\n",
       "      <td>90</td>\n",
       "      <td>339713</td>\n",
       "    </tr>\n",
       "  </tbody>\n",
       "</table>\n",
       "</div>"
      ],
      "text/plain": [
       "  nse_ticker  matching_score instrument_token\n",
       "0       INFY             100           408065\n",
       "1        HCL              90           339713"
      ]
     },
     "execution_count": 10,
     "metadata": {},
     "output_type": "execute_result"
    }
   ],
   "source": [
    "k"
   ]
  },
  {
   "cell_type": "code",
   "execution_count": 7,
   "id": "ac5a7d8b-711a-41d7-90fa-a41ffbf69523",
   "metadata": {
    "tags": []
   },
   "outputs": [],
   "source": [
    "k = PortfolioService.calculate_companies_growth_rate(['infosys'])"
   ]
  },
  {
   "cell_type": "code",
   "execution_count": 8,
   "id": "af2dd124-4535-4c2f-a7f0-6203d1c810a7",
   "metadata": {
    "tags": []
   },
   "outputs": [
    {
     "data": {
      "text/html": [
       "<div>\n",
       "<style scoped>\n",
       "    .dataframe tbody tr th:only-of-type {\n",
       "        vertical-align: middle;\n",
       "    }\n",
       "\n",
       "    .dataframe tbody tr th {\n",
       "        vertical-align: top;\n",
       "    }\n",
       "\n",
       "    .dataframe thead th {\n",
       "        text-align: right;\n",
       "    }\n",
       "</style>\n",
       "<table border=\"1\" class=\"dataframe\">\n",
       "  <thead>\n",
       "    <tr style=\"text-align: right;\">\n",
       "      <th></th>\n",
       "      <th>nse_ticker</th>\n",
       "      <th>min_date_price</th>\n",
       "      <th>max_date_price</th>\n",
       "      <th>growth</th>\n",
       "    </tr>\n",
       "  </thead>\n",
       "  <tbody>\n",
       "    <tr>\n",
       "      <th>0</th>\n",
       "      <td>HCL</td>\n",
       "      <td>16.80</td>\n",
       "      <td>17.50</td>\n",
       "      <td>4.17</td>\n",
       "    </tr>\n",
       "    <tr>\n",
       "      <th>1</th>\n",
       "      <td>INFY</td>\n",
       "      <td>1435.45</td>\n",
       "      <td>1483.85</td>\n",
       "      <td>3.37</td>\n",
       "    </tr>\n",
       "  </tbody>\n",
       "</table>\n",
       "</div>"
      ],
      "text/plain": [
       "  nse_ticker  min_date_price  max_date_price  growth\n",
       "0        HCL           16.80           17.50    4.17\n",
       "1       INFY         1435.45         1483.85    3.37"
      ]
     },
     "execution_count": 8,
     "metadata": {},
     "output_type": "execute_result"
    }
   ],
   "source": [
    "k"
   ]
  },
  {
   "cell_type": "code",
   "execution_count": 4,
   "id": "f9ec1324-6d48-4af6-a954-ac84309028c5",
   "metadata": {
    "tags": []
   },
   "outputs": [
    {
     "ename": "TypeError",
     "evalue": "'NoneType' object is not subscriptable",
     "output_type": "error",
     "traceback": [
      "\u001b[0;31m---------------------------------------------------------------------------\u001b[0m",
      "\u001b[0;31mTypeError\u001b[0m                                 Traceback (most recent call last)",
      "Cell \u001b[0;32mIn[4], line 1\u001b[0m\n\u001b[0;32m----> 1\u001b[0m \u001b[43mPortfolioService\u001b[49m\u001b[38;5;241;43m.\u001b[39;49m\u001b[43mget_price_history_for_instrument_tokens\u001b[49m\u001b[43m(\u001b[49m\u001b[43m[\u001b[49m\u001b[38;5;124;43m'\u001b[39;49m\u001b[38;5;124;43m5944833\u001b[39;49m\u001b[38;5;124;43m'\u001b[39;49m\u001b[43m]\u001b[49m\u001b[43m)\u001b[49m\n",
      "File \u001b[0;32m~/Desktop/ML/Recommendations/hubble/src/PortfolioService.py:133\u001b[0m, in \u001b[0;36mPortfolioService.get_price_history_for_instrument_tokens\u001b[0;34m(instrument_token_list, num_days)\u001b[0m\n\u001b[1;32m    128\u001b[0m params \u001b[38;5;241m=\u001b[39m {\n\u001b[1;32m    129\u001b[0m     \u001b[38;5;124m\"\u001b[39m\u001b[38;5;124mfrom\u001b[39m\u001b[38;5;124m\"\u001b[39m: from_date,\n\u001b[1;32m    130\u001b[0m     \u001b[38;5;124m\"\u001b[39m\u001b[38;5;124mto\u001b[39m\u001b[38;5;124m\"\u001b[39m: to_date\n\u001b[1;32m    131\u001b[0m }\n\u001b[1;32m    132\u001b[0m response \u001b[38;5;241m=\u001b[39m requests\u001b[38;5;241m.\u001b[39mget(url, headers\u001b[38;5;241m=\u001b[39mheaders, params\u001b[38;5;241m=\u001b[39mparams)\n\u001b[0;32m--> 133\u001b[0m cur_df \u001b[38;5;241m=\u001b[39m pd\u001b[38;5;241m.\u001b[39mDataFrame(\u001b[43mjson\u001b[49m\u001b[38;5;241;43m.\u001b[39;49m\u001b[43mloads\u001b[49m\u001b[43m(\u001b[49m\u001b[43mresponse\u001b[49m\u001b[38;5;241;43m.\u001b[39;49m\u001b[43mtext\u001b[49m\u001b[43m)\u001b[49m\u001b[43m[\u001b[49m\u001b[38;5;124;43m'\u001b[39;49m\u001b[38;5;124;43mdata\u001b[39;49m\u001b[38;5;124;43m'\u001b[39;49m\u001b[43m]\u001b[49m\u001b[43m[\u001b[49m\u001b[38;5;124;43m'\u001b[39;49m\u001b[38;5;124;43mcandles\u001b[39;49m\u001b[38;5;124;43m'\u001b[39;49m\u001b[43m]\u001b[49m, columns\u001b[38;5;241m=\u001b[39m[\u001b[38;5;124m'\u001b[39m\u001b[38;5;124mdt\u001b[39m\u001b[38;5;124m'\u001b[39m, \u001b[38;5;124m'\u001b[39m\u001b[38;5;124mopen\u001b[39m\u001b[38;5;124m'\u001b[39m, \u001b[38;5;124m'\u001b[39m\u001b[38;5;124mhigh\u001b[39m\u001b[38;5;124m'\u001b[39m, \u001b[38;5;124m'\u001b[39m\u001b[38;5;124mlow\u001b[39m\u001b[38;5;124m'\u001b[39m, \u001b[38;5;124m'\u001b[39m\u001b[38;5;124mclose\u001b[39m\u001b[38;5;124m'\u001b[39m, \u001b[38;5;124m'\u001b[39m\u001b[38;5;124mvolume\u001b[39m\u001b[38;5;124m'\u001b[39m])\n\u001b[1;32m    134\u001b[0m cur_df[\u001b[38;5;124m'\u001b[39m\u001b[38;5;124minstrument_token\u001b[39m\u001b[38;5;124m'\u001b[39m] \u001b[38;5;241m=\u001b[39m cur_instrument_token\n\u001b[1;32m    135\u001b[0m history_df_list\u001b[38;5;241m.\u001b[39mappend(cur_df)\n",
      "\u001b[0;31mTypeError\u001b[0m: 'NoneType' object is not subscriptable"
     ]
    }
   ],
   "source": [
    "PortfolioService.get_price_history_for_instrument_tokens(['5944833'])"
   ]
  },
  {
   "cell_type": "code",
   "execution_count": 25,
   "id": "8f5d8d8f-5ce2-439e-962b-9b8aaba74d7f",
   "metadata": {
    "tags": []
   },
   "outputs": [],
   "source": [
    "cur_instrument_token = '341249'"
   ]
  },
  {
   "cell_type": "code",
   "execution_count": 7,
   "id": "c737ddfd-23a4-4e78-a66d-21924cc0f912",
   "metadata": {
    "tags": []
   },
   "outputs": [],
   "source": [
    "from datetime import datetime, timedelta"
   ]
  },
  {
   "cell_type": "code",
   "execution_count": 10,
   "id": "ea9a8ff4-1c9b-4ed0-9b1f-85383ea43481",
   "metadata": {
    "tags": []
   },
   "outputs": [],
   "source": [
    "import requests"
   ]
  },
  {
   "cell_type": "code",
   "execution_count": 19,
   "id": "2e7d1950-4046-47ed-8697-168af70b1add",
   "metadata": {
    "tags": []
   },
   "outputs": [],
   "source": [
    "import time"
   ]
  },
  {
   "cell_type": "code",
   "execution_count": 30,
   "id": "c5c641b6-ac9f-4a87-90da-be898dcaf047",
   "metadata": {
    "tags": []
   },
   "outputs": [],
   "source": [
    "import requests\n",
    "\n",
    "url = \"https://api.kite.trade/instruments/historical/5944833/day\"\n",
    "headers = {\n",
    "    \"X-Kite-Version\": \"3\",\n",
    "    \"Authorization\": f\"token ocmjwtavdeyktu6a:{access_token}\"\n",
    "}\n",
    "params = {\n",
    "    \"from\": '2023-09-01 00:00:00',\n",
    "    \"to\": \"2024-03-27 00:00:00\"\n",
    "}\n",
    "s = time.time()\n",
    "response = requests.get(url, headers=headers, params=params)\n",
    "e = time.time()\n",
    "data = response.json()"
   ]
  },
  {
   "cell_type": "code",
   "execution_count": 31,
   "id": "f7074e03-149b-4706-a541-2dd0233ce54d",
   "metadata": {
    "tags": []
   },
   "outputs": [
    {
     "data": {
      "text/plain": [
       "{'status': 'success', 'data': {'candles': []}}"
      ]
     },
     "execution_count": 31,
     "metadata": {},
     "output_type": "execute_result"
    }
   ],
   "source": [
    "data"
   ]
  },
  {
   "cell_type": "code",
   "execution_count": 35,
   "id": "d9884172-5c41-42ff-9926-9f4c0add2fe9",
   "metadata": {
    "tags": []
   },
   "outputs": [],
   "source": [
    "cur_instrument_token = '1304833'"
   ]
  },
  {
   "cell_type": "code",
   "execution_count": 27,
   "id": "9b315200-e512-4b9f-ad39-3ecdc511b952",
   "metadata": {
    "tags": []
   },
   "outputs": [],
   "source": [
    "from datetime import datetime, timedelta\n",
    "import requests"
   ]
  },
  {
   "cell_type": "code",
   "execution_count": 36,
   "id": "73af75ec-a368-494e-9466-81a21443cca8",
   "metadata": {
    "tags": []
   },
   "outputs": [],
   "source": [
    "api_key = os.environ.get('KITE_API_KEY')\n",
    "access_token = os.environ.get('KITE_ACCESS_TOKEN')\n",
    "url = f\"https://api.kite.trade/instruments/historical/{cur_instrument_token}/day\"\n",
    "headers = {\n",
    "    \"X-Kite-Version\": \"3\",\n",
    "    \"Authorization\": f\"token {api_key}:{access_token}\"\n",
    "}\n",
    "to_date = (datetime.now()).strftime('%Y-%m-%d %H:%M:00')\n",
    "from_date = (datetime.now() - timedelta(days=2000)).strftime('%Y-%m-%d 00:00:00')\n",
    "params = {\n",
    "    \"from\": from_date,\n",
    "    \"to\": to_date\n",
    "}\n",
    "response = requests.get(url, headers=headers, params=params)\n",
    "# cur_df = pd.DataFrame(json.loads(response.text)['data']['candles'], columns=['dt', 'open', 'high', 'low', 'close', 'volume'])"
   ]
  },
  {
   "cell_type": "code",
   "execution_count": 32,
   "id": "2fec773e-936b-4a05-9469-5a4c6c674885",
   "metadata": {
    "tags": []
   },
   "outputs": [
    {
     "data": {
      "text/plain": [
       "5.47945205479452"
      ]
     },
     "execution_count": 32,
     "metadata": {},
     "output_type": "execute_result"
    }
   ],
   "source": [
    "2000/365"
   ]
  },
  {
   "cell_type": "code",
   "execution_count": 28,
   "id": "b2b84976-277b-4fcb-bd4c-963a1a812a16",
   "metadata": {
    "tags": []
   },
   "outputs": [
    {
     "data": {
      "text/plain": [
       "{'from': '2024-03-17 00:00:00', 'to': '2024-03-27 14:21:00'}"
      ]
     },
     "execution_count": 28,
     "metadata": {},
     "output_type": "execute_result"
    }
   ],
   "source": [
    "params"
   ]
  },
  {
   "cell_type": "code",
   "execution_count": 14,
   "id": "4f3880ec-2f04-4f91-bce7-f97437d27360",
   "metadata": {
    "tags": []
   },
   "outputs": [
    {
     "data": {
      "text/plain": [
       "'2023-09-29 00:00:00'"
      ]
     },
     "execution_count": 14,
     "metadata": {},
     "output_type": "execute_result"
    }
   ],
   "source": [
    "from_date"
   ]
  },
  {
   "cell_type": "code",
   "execution_count": 15,
   "id": "fdcd7df2-abfa-46da-914e-14f4360306f8",
   "metadata": {
    "tags": []
   },
   "outputs": [
    {
     "data": {
      "text/plain": [
       "'2024-03-27 14:15'"
      ]
     },
     "execution_count": 15,
     "metadata": {},
     "output_type": "execute_result"
    }
   ],
   "source": [
    "to_date"
   ]
  },
  {
   "cell_type": "code",
   "execution_count": 17,
   "id": "3048dfea-bf53-480f-8fa7-c25c7b0dddf7",
   "metadata": {
    "tags": []
   },
   "outputs": [
    {
     "data": {
      "text/plain": [
       "'{\"status\":\"error\",\"message\":\"invalid from date\",\"data\":null,\"error_type\":\"InputException\"}'"
      ]
     },
     "execution_count": 17,
     "metadata": {},
     "output_type": "execute_result"
    }
   ],
   "source": [
    "response.text"
   ]
  },
  {
   "cell_type": "code",
   "execution_count": 49,
   "id": "27deacb0-155c-4719-b0de-6c067e01b928",
   "metadata": {
    "tags": []
   },
   "outputs": [],
   "source": [
    "s = PortfolioService.get_companies_history(['adani'])"
   ]
  },
  {
   "cell_type": "code",
   "execution_count": 50,
   "id": "509076eb-0896-4c0f-865c-f5ada28b28d2",
   "metadata": {
    "tags": []
   },
   "outputs": [
    {
     "data": {
      "text/plain": [
       "6"
      ]
     },
     "execution_count": 50,
     "metadata": {},
     "output_type": "execute_result"
    }
   ],
   "source": [
    "s.nse_ticker.nunique()"
   ]
  },
  {
   "cell_type": "code",
   "execution_count": 9,
   "id": "c01994dd-8c21-41ec-8161-d7e89ceb28ec",
   "metadata": {
    "tags": []
   },
   "outputs": [],
   "source": [
    "import numpy as np"
   ]
  },
  {
   "cell_type": "code",
   "execution_count": 39,
   "id": "8a6a36d4-0fa4-4d4c-b312-3bc09b1694a7",
   "metadata": {
    "tags": []
   },
   "outputs": [
    {
     "data": {
      "text/html": [
       "<div>\n",
       "<style scoped>\n",
       "    .dataframe tbody tr th:only-of-type {\n",
       "        vertical-align: middle;\n",
       "    }\n",
       "\n",
       "    .dataframe tbody tr th {\n",
       "        vertical-align: top;\n",
       "    }\n",
       "\n",
       "    .dataframe thead th {\n",
       "        text-align: right;\n",
       "    }\n",
       "</style>\n",
       "<table border=\"1\" class=\"dataframe\">\n",
       "  <thead>\n",
       "    <tr style=\"text-align: right;\">\n",
       "      <th></th>\n",
       "      <th>max</th>\n",
       "      <th>min</th>\n",
       "    </tr>\n",
       "    <tr>\n",
       "      <th>nse_ticker</th>\n",
       "      <th></th>\n",
       "      <th></th>\n",
       "    </tr>\n",
       "  </thead>\n",
       "  <tbody>\n",
       "    <tr>\n",
       "      <th>ADANIENSOL</th>\n",
       "      <td>2024-03-27T00:00:00+0530</td>\n",
       "      <td>2023-09-29T00:00:00+0530</td>\n",
       "    </tr>\n",
       "    <tr>\n",
       "      <th>ADANIENT</th>\n",
       "      <td>2024-03-27T00:00:00+0530</td>\n",
       "      <td>2023-09-29T00:00:00+0530</td>\n",
       "    </tr>\n",
       "    <tr>\n",
       "      <th>ADANIGREEN</th>\n",
       "      <td>2024-03-27T00:00:00+0530</td>\n",
       "      <td>2023-09-29T00:00:00+0530</td>\n",
       "    </tr>\n",
       "    <tr>\n",
       "      <th>ADANIPORTS</th>\n",
       "      <td>2024-03-27T00:00:00+0530</td>\n",
       "      <td>2023-09-29T00:00:00+0530</td>\n",
       "    </tr>\n",
       "    <tr>\n",
       "      <th>ADANIPOWER</th>\n",
       "      <td>2024-03-27T00:00:00+0530</td>\n",
       "      <td>2023-09-29T00:00:00+0530</td>\n",
       "    </tr>\n",
       "    <tr>\n",
       "      <th>ATGL</th>\n",
       "      <td>2024-03-27T00:00:00+0530</td>\n",
       "      <td>2023-09-29T00:00:00+0530</td>\n",
       "    </tr>\n",
       "  </tbody>\n",
       "</table>\n",
       "</div>"
      ],
      "text/plain": [
       "                                 max                       min\n",
       "nse_ticker                                                    \n",
       "ADANIENSOL  2024-03-27T00:00:00+0530  2023-09-29T00:00:00+0530\n",
       "ADANIENT    2024-03-27T00:00:00+0530  2023-09-29T00:00:00+0530\n",
       "ADANIGREEN  2024-03-27T00:00:00+0530  2023-09-29T00:00:00+0530\n",
       "ADANIPORTS  2024-03-27T00:00:00+0530  2023-09-29T00:00:00+0530\n",
       "ADANIPOWER  2024-03-27T00:00:00+0530  2023-09-29T00:00:00+0530\n",
       "ATGL        2024-03-27T00:00:00+0530  2023-09-29T00:00:00+0530"
      ]
     },
     "execution_count": 39,
     "metadata": {},
     "output_type": "execute_result"
    }
   ],
   "source": [
    "s.groupby('nse_ticker')['dt'].agg({'min', 'max'})"
   ]
  },
  {
   "cell_type": "code",
   "execution_count": 48,
   "id": "016a70bd-9224-4f5e-9dd2-20e09d8baa56",
   "metadata": {
    "tags": []
   },
   "outputs": [
    {
     "data": {
      "text/plain": [
       "1711531046.9324212"
      ]
     },
     "execution_count": 48,
     "metadata": {},
     "output_type": "execute_result"
    }
   ],
   "source": [
    "s"
   ]
  },
  {
   "cell_type": "code",
   "execution_count": 41,
   "id": "63093f41-701b-469c-90f9-51deafe2c95b",
   "metadata": {
    "tags": []
   },
   "outputs": [],
   "source": [
    "import pandas as pd"
   ]
  },
  {
   "cell_type": "code",
   "execution_count": 45,
   "id": "261463d4-4d90-435c-aa5d-34af1740be30",
   "metadata": {
    "tags": []
   },
   "outputs": [],
   "source": [
    "import time"
   ]
  },
  {
   "cell_type": "code",
   "execution_count": 54,
   "id": "b7932924-258b-485a-b0cf-454e3cb31649",
   "metadata": {
    "tags": []
   },
   "outputs": [],
   "source": [
    "df = s"
   ]
  },
  {
   "cell_type": "code",
   "execution_count": 55,
   "id": "92e65c5d-2bd8-4c18-8705-23d75bbc5401",
   "metadata": {
    "tags": []
   },
   "outputs": [
    {
     "name": "stdout",
     "output_type": "stream",
     "text": [
      "dt          2023-09-29 00:00:00+05:30  2024-03-27 00:00:00+05:30\n",
      "nse_ticker                                                      \n",
      "ADANIENSOL                     810.25                    1044.45\n",
      "ADANIENT                      2413.90                    3134.05\n",
      "ADANIGREEN                     987.15                    1866.50\n",
      "ADANIPORTS                     825.15                    1337.25\n",
      "ADANIPOWER                     377.45                     540.05\n",
      "ATGL                           613.25                     951.20\n"
     ]
    }
   ],
   "source": [
    "import pandas as pd\n",
    "\n",
    "# Assuming df is your original DataFrame with 'symbol', 'date', and 'share_price' columns\n",
    "\n",
    "# Convert 'date' column to datetime if it's not already\n",
    "df['dt'] = pd.to_datetime(df['dt'])\n",
    "\n",
    "# Step 1: Group by 'symbol' and calculate the min and max dates per symbol\n",
    "grouped = df.groupby('nse_ticker')['dt']\n",
    "min_dates = grouped.min()\n",
    "max_dates = grouped.max()\n",
    "\n",
    "# Step 2: Find the overall max of min dates and min of max dates\n",
    "max_min_date = min_dates.max()\n",
    "min_max_date = max_dates.min()\n",
    "\n",
    "# Step 3: Filter the original DataFrame for these dates\n",
    "filtered = df[(df['dt'] == max_min_date) | (df['dt'] == min_max_date)]\n",
    "\n",
    "# Step 4: Pivot the table to get the desired format\n",
    "# Assuming you want 'symbol' as index and prices for the two dates as separate columns\n",
    "result = filtered.pivot(index='nse_ticker', columns='dt', values='close')\n",
    "\n",
    "print(result)\n"
   ]
  },
  {
   "cell_type": "code",
   "execution_count": 51,
   "id": "1274732b-d081-42af-a27e-2996633b177a",
   "metadata": {
    "tags": []
   },
   "outputs": [],
   "source": [
    "start = time.time()\n",
    "result = s.groupby('nse_ticker').apply(lambda x: pd.Series({\n",
    "    'min_date_price': x.loc[x['dt'].idxmin(), 'close'],\n",
    "    'max_date_price': x.loc[x['dt'].idxmax(), 'close']\n",
    "})).reset_index()\n",
    "end = time.time()"
   ]
  },
  {
   "cell_type": "code",
   "execution_count": 53,
   "id": "5655b67f-c213-4381-8058-70033cee64f9",
   "metadata": {
    "tags": []
   },
   "outputs": [
    {
     "data": {
      "text/html": [
       "<div>\n",
       "<style scoped>\n",
       "    .dataframe tbody tr th:only-of-type {\n",
       "        vertical-align: middle;\n",
       "    }\n",
       "\n",
       "    .dataframe tbody tr th {\n",
       "        vertical-align: top;\n",
       "    }\n",
       "\n",
       "    .dataframe thead th {\n",
       "        text-align: right;\n",
       "    }\n",
       "</style>\n",
       "<table border=\"1\" class=\"dataframe\">\n",
       "  <thead>\n",
       "    <tr style=\"text-align: right;\">\n",
       "      <th></th>\n",
       "      <th>nse_ticker</th>\n",
       "      <th>min_date_price</th>\n",
       "      <th>max_date_price</th>\n",
       "    </tr>\n",
       "  </thead>\n",
       "  <tbody>\n",
       "    <tr>\n",
       "      <th>0</th>\n",
       "      <td>ADANIENSOL</td>\n",
       "      <td>810.25</td>\n",
       "      <td>1044.45</td>\n",
       "    </tr>\n",
       "    <tr>\n",
       "      <th>1</th>\n",
       "      <td>ADANIENT</td>\n",
       "      <td>2413.90</td>\n",
       "      <td>3134.05</td>\n",
       "    </tr>\n",
       "    <tr>\n",
       "      <th>2</th>\n",
       "      <td>ADANIGREEN</td>\n",
       "      <td>987.15</td>\n",
       "      <td>1866.50</td>\n",
       "    </tr>\n",
       "    <tr>\n",
       "      <th>3</th>\n",
       "      <td>ADANIPORTS</td>\n",
       "      <td>825.15</td>\n",
       "      <td>1337.25</td>\n",
       "    </tr>\n",
       "    <tr>\n",
       "      <th>4</th>\n",
       "      <td>ADANIPOWER</td>\n",
       "      <td>377.45</td>\n",
       "      <td>540.05</td>\n",
       "    </tr>\n",
       "    <tr>\n",
       "      <th>5</th>\n",
       "      <td>ATGL</td>\n",
       "      <td>613.25</td>\n",
       "      <td>951.20</td>\n",
       "    </tr>\n",
       "  </tbody>\n",
       "</table>\n",
       "</div>"
      ],
      "text/plain": [
       "   nse_ticker  min_date_price  max_date_price\n",
       "0  ADANIENSOL          810.25         1044.45\n",
       "1    ADANIENT         2413.90         3134.05\n",
       "2  ADANIGREEN          987.15         1866.50\n",
       "3  ADANIPORTS          825.15         1337.25\n",
       "4  ADANIPOWER          377.45          540.05\n",
       "5        ATGL          613.25          951.20"
      ]
     },
     "execution_count": 53,
     "metadata": {},
     "output_type": "execute_result"
    }
   ],
   "source": [
    "result"
   ]
  },
  {
   "cell_type": "code",
   "execution_count": 52,
   "id": "b12ef434-7adf-4dfc-b116-a796391f8f13",
   "metadata": {
    "tags": []
   },
   "outputs": [
    {
     "data": {
      "text/plain": [
       "0.008831024169921875"
      ]
     },
     "execution_count": 52,
     "metadata": {},
     "output_type": "execute_result"
    }
   ],
   "source": [
    "end-start"
   ]
  },
  {
   "cell_type": "code",
   "execution_count": null,
   "id": "a1c77c5c-9d47-4372-820f-5b326de9ea47",
   "metadata": {},
   "outputs": [],
   "source": []
  },
  {
   "cell_type": "code",
   "execution_count": 43,
   "id": "6b4b94e0-04b5-4bc7-a004-51d86c3b31ec",
   "metadata": {
    "tags": []
   },
   "outputs": [
    {
     "data": {
      "text/html": [
       "<div>\n",
       "<style scoped>\n",
       "    .dataframe tbody tr th:only-of-type {\n",
       "        vertical-align: middle;\n",
       "    }\n",
       "\n",
       "    .dataframe tbody tr th {\n",
       "        vertical-align: top;\n",
       "    }\n",
       "\n",
       "    .dataframe thead th {\n",
       "        text-align: right;\n",
       "    }\n",
       "</style>\n",
       "<table border=\"1\" class=\"dataframe\">\n",
       "  <thead>\n",
       "    <tr style=\"text-align: right;\">\n",
       "      <th></th>\n",
       "      <th>nse_ticker</th>\n",
       "      <th>min_date_price</th>\n",
       "      <th>max_date_price</th>\n",
       "    </tr>\n",
       "  </thead>\n",
       "  <tbody>\n",
       "    <tr>\n",
       "      <th>0</th>\n",
       "      <td>ADANIENSOL</td>\n",
       "      <td>810.25</td>\n",
       "      <td>1044.70</td>\n",
       "    </tr>\n",
       "    <tr>\n",
       "      <th>1</th>\n",
       "      <td>ADANIENT</td>\n",
       "      <td>2413.90</td>\n",
       "      <td>3128.30</td>\n",
       "    </tr>\n",
       "    <tr>\n",
       "      <th>2</th>\n",
       "      <td>ADANIGREEN</td>\n",
       "      <td>987.15</td>\n",
       "      <td>1873.60</td>\n",
       "    </tr>\n",
       "    <tr>\n",
       "      <th>3</th>\n",
       "      <td>ADANIPORTS</td>\n",
       "      <td>825.15</td>\n",
       "      <td>1335.00</td>\n",
       "    </tr>\n",
       "    <tr>\n",
       "      <th>4</th>\n",
       "      <td>ADANIPOWER</td>\n",
       "      <td>377.45</td>\n",
       "      <td>547.80</td>\n",
       "    </tr>\n",
       "    <tr>\n",
       "      <th>5</th>\n",
       "      <td>ATGL</td>\n",
       "      <td>613.25</td>\n",
       "      <td>949.95</td>\n",
       "    </tr>\n",
       "  </tbody>\n",
       "</table>\n",
       "</div>"
      ],
      "text/plain": [
       "   nse_ticker  min_date_price  max_date_price\n",
       "0  ADANIENSOL          810.25         1044.70\n",
       "1    ADANIENT         2413.90         3128.30\n",
       "2  ADANIGREEN          987.15         1873.60\n",
       "3  ADANIPORTS          825.15         1335.00\n",
       "4  ADANIPOWER          377.45          547.80\n",
       "5        ATGL          613.25          949.95"
      ]
     },
     "execution_count": 43,
     "metadata": {},
     "output_type": "execute_result"
    }
   ],
   "source": [
    "result"
   ]
  },
  {
   "cell_type": "code",
   "execution_count": null,
   "id": "bec2c6c3-53d0-4680-8c41-10d2e545e6ef",
   "metadata": {},
   "outputs": [],
   "source": []
  },
  {
   "cell_type": "code",
   "execution_count": 22,
   "id": "601ed604-cda9-4003-a8ed-caee26f62215",
   "metadata": {
    "tags": []
   },
   "outputs": [],
   "source": [
    "s['ruppee_volume'] = s['close'] * s['volume']"
   ]
  },
  {
   "cell_type": "code",
   "execution_count": 23,
   "id": "2d0c0c52-aeab-4aa4-b1d9-979e07fa1c05",
   "metadata": {
    "tags": []
   },
   "outputs": [
    {
     "data": {
      "text/plain": [
       "nse_ticker\n",
       "ADANIENSOL     97.551829\n",
       "ADANIENT      101.805055\n",
       "ADANIGREEN     97.570642\n",
       "ADANIPORTS    100.726839\n",
       "ADANIPOWER     98.012216\n",
       "ATGL           97.990062\n",
       "Name: ruppee_volume, dtype: float64"
      ]
     },
     "execution_count": 23,
     "metadata": {},
     "output_type": "execute_result"
    }
   ],
   "source": [
    "np.log2(s.groupby('nse_ticker')['ruppee_volume'].mean())/np.log2(1.25)"
   ]
  },
  {
   "cell_type": "code",
   "execution_count": 8,
   "id": "cf476978-7b14-4d2b-b100-88ea45acd503",
   "metadata": {
    "tags": []
   },
   "outputs": [
    {
     "data": {
      "text/html": [
       "<div>\n",
       "<style scoped>\n",
       "    .dataframe tbody tr th:only-of-type {\n",
       "        vertical-align: middle;\n",
       "    }\n",
       "\n",
       "    .dataframe tbody tr th {\n",
       "        vertical-align: top;\n",
       "    }\n",
       "\n",
       "    .dataframe thead th {\n",
       "        text-align: right;\n",
       "    }\n",
       "</style>\n",
       "<table border=\"1\" class=\"dataframe\">\n",
       "  <thead>\n",
       "    <tr style=\"text-align: right;\">\n",
       "      <th></th>\n",
       "      <th>nse_ticker</th>\n",
       "      <th>matching_score</th>\n",
       "      <th>instrument_token</th>\n",
       "    </tr>\n",
       "  </thead>\n",
       "  <tbody>\n",
       "    <tr>\n",
       "      <th>0</th>\n",
       "      <td>HDFCLOWVOL</td>\n",
       "      <td>90</td>\n",
       "      <td>2956033</td>\n",
       "    </tr>\n",
       "    <tr>\n",
       "      <th>1</th>\n",
       "      <td>HDFCNIFBAN</td>\n",
       "      <td>90</td>\n",
       "      <td>5742849</td>\n",
       "    </tr>\n",
       "    <tr>\n",
       "      <th>2</th>\n",
       "      <td>HDFCBANK</td>\n",
       "      <td>90</td>\n",
       "      <td>5944833</td>\n",
       "    </tr>\n",
       "    <tr>\n",
       "      <th>3</th>\n",
       "      <td>HDFCSML250</td>\n",
       "      <td>90</td>\n",
       "      <td>3643649</td>\n",
       "    </tr>\n",
       "    <tr>\n",
       "      <th>4</th>\n",
       "      <td>HDFCNIF100</td>\n",
       "      <td>90</td>\n",
       "      <td>2722049</td>\n",
       "    </tr>\n",
       "  </tbody>\n",
       "</table>\n",
       "</div>"
      ],
      "text/plain": [
       "   nse_ticker  matching_score instrument_token\n",
       "0  HDFCLOWVOL              90          2956033\n",
       "1  HDFCNIFBAN              90          5742849\n",
       "2    HDFCBANK              90          5944833\n",
       "3  HDFCSML250              90          3643649\n",
       "4  HDFCNIF100              90          2722049"
      ]
     },
     "execution_count": 8,
     "metadata": {},
     "output_type": "execute_result"
    }
   ],
   "source": [
    "k"
   ]
  },
  {
   "cell_type": "code",
   "execution_count": 7,
   "id": "5cc6f1ad-e16c-4fd8-b16f-8f5a692611c0",
   "metadata": {
    "tags": []
   },
   "outputs": [
    {
     "data": {
      "text/plain": [
       "['2956033', '5742849', '5944833', '3643649', '2722049']"
      ]
     },
     "execution_count": 7,
     "metadata": {},
     "output_type": "execute_result"
    }
   ],
   "source": [
    "list(k['instrument_token'])"
   ]
  },
  {
   "cell_type": "code",
   "execution_count": 2,
   "id": "94d6c6a6-e692-4e74-a13f-521d6bec1076",
   "metadata": {
    "tags": []
   },
   "outputs": [],
   "source": [
    "from src.PortfolioService import PortfolioService"
   ]
  },
  {
   "cell_type": "code",
   "execution_count": 3,
   "id": "be370e8b-94ee-4142-b53d-fb3b335151cd",
   "metadata": {
    "tags": []
   },
   "outputs": [],
   "source": [
    "k = PortfolioService.get_current_portfolio_value(1, 'profit',aggregation_level='overall', sorting_order = 'descending')"
   ]
  },
  {
   "cell_type": "code",
   "execution_count": null,
   "id": "912fe254-c15d-4df2-9d8f-e3d75a459111",
   "metadata": {},
   "outputs": [],
   "source": [
    "{'searchArticleIds': [],\n",
    " 'additionalInfo': {'query_understanding': {'model': 'gpt-3.5-turbo-0125',\n",
    "   'prompt_tokens': 450,\n",
    "   'completion_tokens': 73,\n",
    "   'system_prompt': \"You are an expert financial analyst working for a leading indian fintech platform. User queries are either related to their own portfolio (eg. what is the total value of my portfolio or what are my most profitable holdings) or about general financial and business news (eg. how to save taxes or what is the performance of reliance over last 5 years). You extract the following attributes from a given user query. Today is \"2024-03-15\". The platform has a database with the following data for user's own portfolio.\\n    user_portfolio: name, nseticker, holding_quantity, avg_buy_price, current_price\\n    Based on user's query we'll either run the function search_web_for_query or extract_portfolio_details\\n    respond only with the json with the above keys. don't answer the user query directly, but only extract the attributes\",\n",
    "   'user_prompt': {'query': 'user_query: total invested amount',\n",
    "    'tools': [{'type': 'function',\n",
    "      'function': {'name': 'search_web_for_query',\n",
    "       'description': \"Search web for the user query. To be called when query is not related to analysis of user's own portfolio\",\n",
    "       'parameters': {'type': 'object',\n",
    "        'properties': {'financial_or_business_query': {'type': 'boolean',\n",
    "          'description': 'If the query is relevant for personal finance, markets of business related queries'},\n",
    "         'recency_importance': {'type': 'string',\n",
    "          'enum': ['high', 'medium'],\n",
    "          'description': 'How important is that only most recent articles are fetched. high for very volatile like latest stock prices, medium for slowly changing stuff like regulations or educational and guides'}},\n",
    "        'required': ['financial_or_business_query', 'recency_importance']}}},\n",
    "     {'type': 'function',\n",
    "      'function': {'name': 'extract_portfolio_details',\n",
    "       'description': 'Extract details related to user portfolio',\n",
    "       'parameters': {'type': 'object',\n",
    "        'properties': {'aggregation_metric': {'type': 'string',\n",
    "          'enum': ['current_value',\n",
    "           'invested_value',\n",
    "           'profit',\n",
    "           'profit_percent'],\n",
    "          'description': 'Metric user is requesting for'},\n",
    "         'aggregation_level': {'type': 'string',\n",
    "          'enum': ['overall', 'company'],\n",
    "          'description': 'If the user is looking for overall stats or breaking down by company'},\n",
    "         'companies_mentioned': {'type': 'array',\n",
    "          'items': {'type': 'string'},\n",
    "          'minItems': 0,\n",
    "          'maxItems': 5,\n",
    "          'description': 'Array of company names mentioned in the user query'},\n",
    "         'sorting_order': {'type': 'string',\n",
    "          'enum': ['ascending', 'descending'],\n",
    "          'description': 'sorting order requested based on the aggregation_metric. For example user asks for least profitable or most loss making, then sorting order is ascending'}},\n",
    "        'required': ['aggregation_metric',\n",
    "         'aggregation_level',\n",
    "         'companies_mentioned',\n",
    "         'sorting_order']}}}]},\n",
    "   'evaluation': {'function': {'name': 'extract_portfolio_details',\n",
    "     'arguments': {'aggregation_metric': 'invested_value',\n",
    "      'aggregation_level': 'overall',\n",
    "      'companies_mentioned': [],\n",
    "      'sorting_order': 'descending'}}}}},\n",
    " 'user_portfolio_data': True,\n",
    " 'portfolio_data': [{'text_box': {'Total Profit': 90228.63013599999,\n",
    "   'graph_type': 'text_box',\n",
    "   'value_type': 'rupees',\n",
    "   'chart_title': 'Total Profit'}},\n",
    " {'bar_chart': {'BSE Ltd': {'Total Profit': 24440.699999999997},\n",
    "   'Multi Commodity Exchange of India Ltd': {'Total Profit': 18851.199999999997},\n",
    "   'Tata Motors Ltd': {'Total Profit': 10460.25},\n",
    "   'Tata Power Company Ltd': {'Total Profit': 6023.7},\n",
    "   'Oil and Natural Gas Corporation Ltd': {'Total Profit': 5898.75},\n",
    "   'Central Depository Services (India) Ltd': {'Total Profit': 5788.4},\n",
    "   'Colgate-Palmolive (India) Ltd': {'Total Profit': 4411.400000000001},\n",
    "   'Titan Company Ltd': {'Total Profit': 4379.700000000001},\n",
    "   'Indian Railway Catering and Tourism Corporation Ltd': {'Total Profit': 3577.2000000000007},\n",
    "   'others': {'Total Profit': 6397.330136000002},\n",
    "   'graph_type': 'bar_chart',\n",
    "   'value_type': 'rupees',\n",
    "   'chart_title': 'Top Holdings by Total Profit'}}]}"
   ]
  },
  {
   "cell_type": "code",
   "execution_count": 28,
   "id": "0911632a-cb73-46cf-ac36-d64aa1ae9c33",
   "metadata": {
    "tags": []
   },
   "outputs": [
    {
     "data": {
      "text/plain": [
       "[{'text_box': {'data': [{'Total Profit': 90228.63013599999}],\n",
       "   'value_type': 'rupees',\n",
       "   'chart_title': 'Total Profit'}},\n",
       " {'bar_chart': {'value_type': 'rupees',\n",
       "   'chart_title': 'Top Holdings by Total Profit',\n",
       "   'data': [{'BSE Ltd': 24440.699999999997},\n",
       "    {'Multi Commodity Exchange of India Ltd': 18851.199999999997},\n",
       "    {'Tata Motors Ltd': 10460.25},\n",
       "    {'Tata Power Company Ltd': 6023.7},\n",
       "    {'Oil and Natural Gas Corporation Ltd': 5898.75},\n",
       "    {'Central Depository Services (India) Ltd': 5788.4},\n",
       "    {'Colgate-Palmolive (India) Ltd': 4411.400000000001},\n",
       "    {'Titan Company Ltd': 4379.700000000001},\n",
       "    {'Indian Railway Catering and Tourism Corporation Ltd': 3577.2000000000007},\n",
       "    {'others': 6397.330136000002}]}}]"
      ]
     },
     "execution_count": 28,
     "metadata": {},
     "output_type": "execute_result"
    }
   ],
   "source": [
    "k"
   ]
  },
  {
   "cell_type": "code",
   "execution_count": 4,
   "id": "508359f6-fdfe-465f-87f3-6ad1f609d130",
   "metadata": {
    "tags": []
   },
   "outputs": [
    {
     "ename": "AttributeError",
     "evalue": "'list' object has no attribute 'iterrows'",
     "output_type": "error",
     "traceback": [
      "\u001b[0;31m---------------------------------------------------------------------------\u001b[0m",
      "\u001b[0;31mAttributeError\u001b[0m                            Traceback (most recent call last)",
      "Cell \u001b[0;32mIn[4], line 1\u001b[0m\n\u001b[0;32m----> 1\u001b[0m \u001b[38;5;28;01mfor\u001b[39;00m i \u001b[38;5;129;01min\u001b[39;00m \u001b[43mk\u001b[49m\u001b[38;5;241;43m.\u001b[39;49m\u001b[43miterrows\u001b[49m():\n\u001b[1;32m      2\u001b[0m     \u001b[38;5;28mprint\u001b[39m(i\u001b[38;5;241m.\u001b[39mindex())\n",
      "\u001b[0;31mAttributeError\u001b[0m: 'list' object has no attribute 'iterrows'"
     ]
    }
   ],
   "source": [
    "for i in k.iterrows():\n",
    "    print(i.index())"
   ]
  },
  {
   "cell_type": "code",
   "execution_count": 6,
   "id": "adc7ba90-0e73-434a-a083-318788a28a24",
   "metadata": {
    "tags": []
   },
   "outputs": [],
   "source": [
    "y = []"
   ]
  },
  {
   "cell_type": "code",
   "execution_count": 7,
   "id": "aa25f697-f666-4325-9453-6bda86f896b7",
   "metadata": {
    "tags": []
   },
   "outputs": [],
   "source": [
    "y.append({'text_box': k[0]})\n",
    "y.append({'bar_chart': k[1]})"
   ]
  },
  {
   "cell_type": "code",
   "execution_count": 8,
   "id": "76a4ee22-8117-4db3-8417-e8ecc8e799ba",
   "metadata": {
    "tags": []
   },
   "outputs": [
    {
     "data": {
      "text/plain": [
       "[{'text_box': {'Total Profit': 90228.63013599999,\n",
       "   'graph_type': 'text_box',\n",
       "   'value_type': 'rupees',\n",
       "   'chart_title': 'Total Profit'}},\n",
       " {'bar_chart': {'BSE Ltd': {'Total Profit': 24440.699999999997},\n",
       "   'Multi Commodity Exchange of India Ltd': {'Total Profit': 18851.199999999997},\n",
       "   'Tata Motors Ltd': {'Total Profit': 10460.25},\n",
       "   'Tata Power Company Ltd': {'Total Profit': 6023.7},\n",
       "   'Oil and Natural Gas Corporation Ltd': {'Total Profit': 5898.75},\n",
       "   'Central Depository Services (India) Ltd': {'Total Profit': 5788.4},\n",
       "   'Colgate-Palmolive (India) Ltd': {'Total Profit': 4411.400000000001},\n",
       "   'Titan Company Ltd': {'Total Profit': 4379.700000000001},\n",
       "   'Indian Railway Catering and Tourism Corporation Ltd': {'Total Profit': 3577.2000000000007},\n",
       "   'others': {'Total Profit': 6397.330136000002},\n",
       "   'graph_type': 'bar_chart',\n",
       "   'value_type': 'rupees',\n",
       "   'chart_title': 'Top Holdings by Total Profit'}}]"
      ]
     },
     "execution_count": 8,
     "metadata": {},
     "output_type": "execute_result"
    }
   ],
   "source": [
    "y"
   ]
  },
  {
   "cell_type": "code",
   "execution_count": 5,
   "id": "29617c9d-1f21-4964-bd5e-5a41c1ce34a0",
   "metadata": {
    "tags": []
   },
   "outputs": [
    {
     "data": {
      "text/plain": [
       "{'Total Profit': 90228.63013599999,\n",
       " 'graph_type': 'text_box',\n",
       " 'value_type': 'rupees',\n",
       " 'chart_title': 'Total Profit'}"
      ]
     },
     "execution_count": 5,
     "metadata": {},
     "output_type": "execute_result"
    }
   ],
   "source": [
    "k[0]['text_b']"
   ]
  },
  {
   "cell_type": "code",
   "execution_count": null,
   "id": "80de456b-ba75-4e73-a871-65890a031099",
   "metadata": {},
   "outputs": [],
   "source": []
  },
  {
   "cell_type": "code",
   "execution_count": 2,
   "id": "4d53ed96-9abd-4765-8eba-005db6ec67ee",
   "metadata": {
    "tags": []
   },
   "outputs": [],
   "source": [
    "from sql.PortfolioSQL import PortfolioSQL"
   ]
  },
  {
   "cell_type": "code",
   "execution_count": 4,
   "id": "e687e958-5883-475b-838d-c936ff22e7c0",
   "metadata": {
    "tags": []
   },
   "outputs": [],
   "source": [
    "# k = PortfolioSQL.get_user_current_holdings(1)"
   ]
  },
  {
   "cell_type": "code",
   "execution_count": 5,
   "id": "44c25429-a1ee-4b9d-a456-35e3c6e74b03",
   "metadata": {
    "tags": []
   },
   "outputs": [],
   "source": [
    "import pandas as pd"
   ]
  },
  {
   "cell_type": "code",
   "execution_count": 43,
   "id": "2eb2f7c0-3fef-414c-baaa-3a04116019a3",
   "metadata": {
    "scrolled": true,
    "tags": []
   },
   "outputs": [],
   "source": [
    "k = PortfolioService.get_current_portfolio_value(1, 'profit',requested_agg_level='company', companies_list=['sbi'], requested_sorting_order = 'descending')"
   ]
  },
  {
   "cell_type": "code",
   "execution_count": 44,
   "id": "1217f53d-bceb-4fb2-bc71-da450bc38745",
   "metadata": {
    "tags": []
   },
   "outputs": [
    {
     "data": {
      "text/plain": [
       "{}"
      ]
     },
     "execution_count": 44,
     "metadata": {},
     "output_type": "execute_result"
    }
   ],
   "source": [
    "k"
   ]
  },
  {
   "cell_type": "code",
   "execution_count": 7,
   "id": "a36bf13f-ec37-4a9e-8e58-372ea2f35b48",
   "metadata": {
    "tags": []
   },
   "outputs": [],
   "source": [
    "user_portfolio_df = PortfolioSQL.get_user_current_holdings(user_id=1)"
   ]
  },
  {
   "cell_type": "code",
   "execution_count": 8,
   "id": "7d163467-2fd9-4d3a-8680-d63df0063db6",
   "metadata": {
    "scrolled": true,
    "tags": []
   },
   "outputs": [],
   "source": [
    "user_nse_tickers = list(user_portfolio_df['nseticker'])"
   ]
  },
  {
   "cell_type": "code",
   "execution_count": 20,
   "id": "9be60f58-8641-4a6e-b285-5b35b4aead21",
   "metadata": {
    "scrolled": true,
    "tags": []
   },
   "outputs": [
    {
     "data": {
      "text/plain": [
       "['AWL',\n",
       " 'BSE',\n",
       " 'CDSL',\n",
       " 'COLPAL',\n",
       " 'CUPID',\n",
       " 'GOLDBEES',\n",
       " 'GREENPANEL',\n",
       " 'IEX',\n",
       " 'IRCTC',\n",
       " 'ITC',\n",
       " 'JUNIORBEES',\n",
       " 'LIQUIDBEES',\n",
       " 'MCX',\n",
       " 'MOTHERSON',\n",
       " 'MSUMI',\n",
       " 'MTARTECH',\n",
       " 'NIFTYBEES',\n",
       " 'ONGC',\n",
       " 'PIDILITIND',\n",
       " 'RBA',\n",
       " 'TATAMOTORS',\n",
       " 'TATAPOWER',\n",
       " 'TITAN',\n",
       " 'VLEGOV',\n",
       " 'ZOMATO']"
      ]
     },
     "execution_count": 20,
     "metadata": {},
     "output_type": "execute_result"
    }
   ],
   "source": [
    "user_nse_tickers"
   ]
  },
  {
   "cell_type": "code",
   "execution_count": 21,
   "id": "2f399004-7878-4f8c-a5a0-0453e3a46a44",
   "metadata": {
    "tags": []
   },
   "outputs": [],
   "source": [
    "close_prices = PortfolioService.get_close_price_for_tickers(ticker_list=user_nse_tickers)"
   ]
  },
  {
   "cell_type": "code",
   "execution_count": 23,
   "id": "2d0ecfb5-e195-48bd-9cb0-7f2d9522aeb4",
   "metadata": {
    "tags": []
   },
   "outputs": [
    {
     "data": {
      "text/plain": [
       "['CUPID', 'VLEGOV']"
      ]
     },
     "execution_count": 23,
     "metadata": {},
     "output_type": "execute_result"
    }
   ],
   "source": [
    "[x for x in user_nse_tickers if x not in close_prices]"
   ]
  },
  {
   "cell_type": "code",
   "execution_count": 22,
   "id": "8b71fb74-d788-4907-b879-1d7236987137",
   "metadata": {
    "tags": []
   },
   "outputs": [
    {
     "data": {
      "text/plain": [
       "{'AWL': 330.95,\n",
       " 'BSE': 2033.15,\n",
       " 'CDSL': 1657.6,\n",
       " 'COLPAL': 2664.6,\n",
       " 'GOLDBEES': 55.72,\n",
       " 'GREENPANEL': 307.3,\n",
       " 'IEX': 133.75,\n",
       " 'IRCTC': 901.9,\n",
       " 'ITC': 415.7,\n",
       " 'JUNIORBEES': 612.8,\n",
       " 'LIQUIDBEES': 999.99,\n",
       " 'MCX': 3205.15,\n",
       " 'MOTHERSON': 112.1,\n",
       " 'MSUMI': 61.5,\n",
       " 'MTARTECH': 1687.7,\n",
       " 'NIFTYBEES': 241.58,\n",
       " 'ONGC': 263.85,\n",
       " 'PIDILITIND': 2871.8,\n",
       " 'RBA': 105.5,\n",
       " 'TATAMOTORS': 940.45,\n",
       " 'TATAPOWER': 379.9,\n",
       " 'TITAN': 3590.5,\n",
       " 'ZOMATO': 165.6}"
      ]
     },
     "execution_count": 22,
     "metadata": {},
     "output_type": "execute_result"
    }
   ],
   "source": [
    "close_prices"
   ]
  },
  {
   "cell_type": "code",
   "execution_count": 22,
   "id": "56b0d97f-b2ff-4727-b5b8-51e47e4fac3f",
   "metadata": {
    "tags": []
   },
   "outputs": [],
   "source": [
    "unique_ticker_list = list(set([x.split('-')[0] for x in ticker_list]))"
   ]
  },
  {
   "cell_type": "code",
   "execution_count": 5,
   "id": "ac7205d6-7e7f-4ec5-9426-69f7100a1f06",
   "metadata": {
    "tags": []
   },
   "outputs": [],
   "source": [
    "ticker_list = ['AAFS-N0', 'AAFS-N1', 'AAFS-N2', 'ABFL-N0', 'ABFL-N1', 'ABFL-N2',\n",
    "       'ABFL-N3', 'ABFL-N4', 'ABFL-N5', 'ABFL-N6', 'ABFL-N7', 'ABFL-N8',\n",
    "       'ABFL-N9', 'ABFL-NA', 'ABFL-NB', 'ABFL-NC', 'ABFL-ND', 'ABFL-NE',\n",
    "       'ABHFL-N0', 'ABHFL-N1', 'ABHFL-N2', 'ABHFL-N3', 'ABHFL-N4',\n",
    "       'ABHFL-N5', 'BCIPL-N0', 'BCIPL-N1', 'BCIPL-N2', 'CCSP-N0',\n",
    "       'CCSP-N1', 'DHANILOANS-NF', 'DHANILOANS-NG', 'DHANILOANS-NH',\n",
    "       'DHANILOANS-NO', 'DHANILOANS-NP', 'DHANILOANS-NQ', 'DHANILOANS-NV',\n",
    "       'DHANILOANS-NW', 'DHANILOANS-NX', 'DHANILOANS-NZ', 'DHANILOANS-Y1',\n",
    "       'DHANILOANS-Y2', 'DHANILOANS-Y3', 'DHANILOANS-Y4', 'DHANILOANS-Y5',\n",
    "       'ECLFINANCE-NJ', 'ECLFINANCE-NK', 'ECLFINANCE-NR', 'ECLFINANCE-NS',\n",
    "       'ERFLNCDI-N5', 'ERFLNCDI-N6', 'EXIM-N0', 'EXIM-N1', 'GODREJFIN-N0',\n",
    "       'GODREJFIN-N1', 'HEFC-N0', 'HEFC-N1', 'IBUCCREDIT-NA',\n",
    "       'IBUCCREDIT-NB', 'IBUCCREDIT-NC', 'IBUCCREDIT-ND', 'IBUCCREDIT-NE',\n",
    "       'IBUCCREDIT-NF', 'IBUCCREDIT-NG', 'IBUCCREDIT-NH', 'IBUCCREDIT-NI',\n",
    "       'IBUCCREDIT-NJ', 'IBUCCREDIT-NK', 'IBUCCREDIT-NL', 'IBUCCREDIT-NM',\n",
    "       'IBUCCREDIT-NN', 'IBUCCREDIT-NO', 'IBUCCREDIT-NP', 'IBUCCREDIT-NQ',\n",
    "       'IBUCCREDIT-NR', 'IBUCCREDIT-NS', 'IBUCCREDIT-NT', 'IBUCCREDIT-NU',\n",
    "       'IBUCCREDIT-NV', 'IBUCCREDIT-NW', 'IBUCCREDIT-NX', 'IBUCCREDIT-NY',\n",
    "       'IBUCCREDIT-NZ', 'IBULHSG-N1', 'IBULHSG-N2', 'IBULHSG-N3',\n",
    "       'IBULHSG-N4', 'IBULHSG-N5', 'IBULHSG-N6', 'IBULHSG-N7',\n",
    "       'IBULHSG-N8', 'IBULHSG-N9', 'IBULHSG-NA', 'IBULHSG-NB',\n",
    "       'IBULHSG-NC', 'IBULHSG-ND', 'IBULHSG-NE', 'IBULHSG-NF',\n",
    "       'IBULHSG-NG', 'IBULHSG-NH', 'IBULHSG-NI', 'IBULHSG-NJ',\n",
    "       'IBULHSG-NK', 'IBULHSG-NL', 'IBULHSG-NM', 'IBULHSG-NN',\n",
    "       'IBULHSG-NO', 'IBULHSG-NP', 'IBULHSG-NQ', 'IBULHSG-NR',\n",
    "       'IBULHSG-NS', 'IBULHSG-NT', 'IBULHSG-NU', 'IBULHSG-NV',\n",
    "       'IBULHSG-NW', 'IBULHSG-NX', 'IBULHSG-NY', 'IBULHSG-NZ',\n",
    "       'IBULHSG-Y0', 'IBULHSG-Y1', 'IBULHSG-Y2', 'IBULHSG-Y3',\n",
    "       'IBULHSG-Y4', 'IBULHSG-Y5', 'IBULHSG-Y6', 'IBULHSG-Y7',\n",
    "       'IBULHSG-Y8', 'IBULHSG-Y9', 'IBULHSG-YA', 'IBULHSG-YB',\n",
    "       'IBULHSG-YC', 'IBULHSG-YD', 'IBULHSG-YG', 'IBULHSG-YH',\n",
    "       'IBULHSG-YI', 'IBULHSG-YJ', 'IBULHSG-YK', 'IBULHSG-YL',\n",
    "       'IBULHSG-YM', 'IIFCL-N1', 'IIFCL-N3', 'IIFCL-N4', 'IIFLSAMFIN-N0',\n",
    "       'IIFLSAMFIN-N1', 'IIFLSAMFIN-N2', 'IIFLSAMFIN-N3', 'IIFLSAMFIN-N4',\n",
    "       'IIFLSAMFIN-N5', 'IIFLSAMFIN-N6', 'IIFLSAMFIN-N7', 'IIHFL-N4',\n",
    "       'IIHFL-N5', 'IIHFL-N6', 'IIHFL-N7', 'IIHFL-N8', 'IIHFL-N9',\n",
    "       'IIHFL-NA', 'IIHFL-NB', 'IIHFL-NC', 'IIHFL-ND', 'IIHFL-NE',\n",
    "       'IMC1-N0', 'IMC1-N1', 'IMC1-N2', 'IMC1-N3', 'INCREDFIN-N4',\n",
    "       'INCREDFIN-N5', 'INCREDFIN-N6', 'INCREDFIN-N7', 'INDIGRID-IV',\n",
    "       'INDIGRID-NA', 'INDIGRID-NB', 'INDIGRID-NC', 'INDIGRID-ND',\n",
    "       'INDIGRID-NE', 'INDIGRID-NF', 'INDIGRID-NG', 'INDIGRID-NH',\n",
    "       'INDIGRID-NI', 'INDIGRID-NJ', 'INDIGRID-NK', 'INDIGRID-NL',\n",
    "       'KISETSU-N0', 'KISETSU-N1', 'L&TFIN-N4', 'L&TFIN-N5', 'L&TFIN-N6',\n",
    "       'L&TFIN-N7', 'L&TFIN-N8', 'L&TFIN-N9', 'L&TFIN-NA', 'L&TFIN-NB',\n",
    "       'L&TFIN-NC', 'L&TFIN-ND', 'L&TFIN-NE', 'L&TFIN-NF', 'L&TFIN-NG',\n",
    "       'L&TFIN-NH', 'L&TFIN-NI', 'L&TFIN-NJ', 'L&TFIN-NK', 'L&TFIN-NL',\n",
    "       'L&TFIN-NM', 'L&TFIN-NN', 'L&TFIN-NO', 'L&TFIN-NP', 'L&TFIN-NQ',\n",
    "       'NABARD-N0', 'NABARD-N1', 'NABARD-N2', 'NAVIFIN-N0', 'NAVIFIN-N3',\n",
    "       'NAVIFIN-N4', 'NAVIFIN-N5', 'NAVIFIN-N6', 'NAVIFIN-N7',\n",
    "       'NAVIFIN-N8', 'NAVIFIN-N9', 'NAVIFIN-NA', 'NAVIFIN-NB',\n",
    "       'NAVIFIN-NC', 'NAVIFIN-ND', 'NHAI-N2', 'NHAI-N5', 'NHAI-N6',\n",
    "       'NHAI-N7', 'NHAI-N8', 'NHAI-N9', 'NHAI-NA', 'NHAI-NB', 'NHAI-NC',\n",
    "       'NHAI-ND', 'NHAI-NE', 'NHB-N8', 'NHB-N9', 'NHB-NA', 'NHBTF2014-N2',\n",
    "       'NHBTF2014-N3', 'NHBTF2014-N5', 'NHBTF2014-N6', 'NHBTF2023-N3',\n",
    "       'NHBTF2023-N4', 'NHBTF2023-N6', 'NHBTF2023-N7', 'NHIT-IV',\n",
    "       'NHIT-N1', 'NHIT-N2', 'NHIT-N3', 'NIDO-N5', 'NIDO-N6', 'NIDO-N7',\n",
    "       'NIIF-N0', 'NIIF-N1', 'NIIF-N2', 'NIRMA-N0', 'NIRMA-N6',\n",
    "       'NIRMA-N7', 'NOMURA-N0', 'NOMURA-N1', 'PCHFL-N5', 'PCHFL-N6',\n",
    "       'PCHFL-N7', 'PCHFL-N8', 'PCHFL-N9', 'PCHFL-NA', 'PCHFL-NB',\n",
    "       'PCHFL-NC', 'SIDBI-N0', 'SIDBI-N1', 'SIDBI-N2', 'SMFG-N0',\n",
    "       'SMFG-N1', 'SMFG-N2', 'SMFG-N3', 'TATACAP-N5', 'TATACAP-N6',\n",
    "       'TATACAP-N7', 'TATACAP-N8', 'TATACAP-N9', 'TATACAP-NA',\n",
    "       'TATACAP-NB', 'TATACAP-NC', 'TATACAP-ND', 'TATACAP-NE',\n",
    "       'TATACAP-NF', 'TATACAPHSG-N3', 'TATACAPHSG-N4', 'TATACAPHSG-N5',\n",
    "       'TATACAPHSG-N6', 'TATACAPHSG-N7', 'TATACAPHSG-N8', 'TATACAPHSG-N9',\n",
    "       'TATACAPHSG-NA', 'TATACAPHSG-NB', 'TATACAPHSG-NC', 'TATACAPHSG-ND',\n",
    "       'TFSI-N0', 'TFSI-N1', 'TFSI-N2', 'TPL-N0', 'TPL-N1', 'TPL-N2',\n",
    "       'TPL-N3', 'TPL-N4', 'TPL-N5']"
   ]
  },
  {
   "cell_type": "code",
   "execution_count": 6,
   "id": "58a81a71-9f31-4302-8573-c69802fc83d8",
   "metadata": {
    "tags": []
   },
   "outputs": [],
   "source": [
    "import requests"
   ]
  },
  {
   "cell_type": "code",
   "execution_count": 24,
   "id": "428daca5-e2b5-48ab-8f1d-746387be3b85",
   "metadata": {
    "tags": []
   },
   "outputs": [],
   "source": [
    "nse_tickers = [f'NSE:{x}' for x in unique_ticker_list][:500]\n",
    "url = \"https://api.kite.trade/quote/ohlc\"\n",
    "api_key = os.environ.get('KITE_API_KEY')\n",
    "access_token = os.environ.get('KITE_ACCESS_TOKEN')\n",
    "headers = {\n",
    "    \"X-Kite-Version\": \"3\",\n",
    "    \"Authorization\": f\"token {api_key}:{access_token}\"\n",
    "}\n",
    "params = {\n",
    "    \"i\": nse_tickers\n",
    "}\n",
    "response_unique = requests.get(url, headers=headers, params=params)"
   ]
  },
  {
   "cell_type": "code",
   "execution_count": 26,
   "id": "a5994f19-5682-4093-8ec1-fee1c586c225",
   "metadata": {
    "tags": []
   },
   "outputs": [
    {
     "data": {
      "text/plain": [
       "'{\"status\":\"success\",\"data\":{}}'"
      ]
     },
     "execution_count": 26,
     "metadata": {},
     "output_type": "execute_result"
    }
   ],
   "source": [
    "response_unique.text"
   ]
  },
  {
   "cell_type": "code",
   "execution_count": 10,
   "id": "89afbad9-1118-4c7b-bee3-6543b2fa4736",
   "metadata": {
    "tags": []
   },
   "outputs": [],
   "source": [
    "import json"
   ]
  },
  {
   "cell_type": "code",
   "execution_count": 14,
   "id": "e36f93e4-3216-4696-8952-18a7b0725d20",
   "metadata": {
    "tags": []
   },
   "outputs": [],
   "source": [
    "import pandas as pd"
   ]
  },
  {
   "cell_type": "code",
   "execution_count": 17,
   "id": "76057909-fabc-4085-95a8-ed2103e475dc",
   "metadata": {
    "tags": []
   },
   "outputs": [],
   "source": [
    "pd.options.display.max_rows = 500"
   ]
  },
  {
   "cell_type": "code",
   "execution_count": 27,
   "id": "001de212-f892-4392-9e17-0b5622912880",
   "metadata": {
    "tags": []
   },
   "outputs": [],
   "source": [
    "pd.DataFrame.from_dict(json.loads(response.text)['data']).T.reset_index().rename(columns = {'index': 'tradingsymbol'}).to_csv('symbols_without_prefix_only_multiple_suffixes.csv',index = False)"
   ]
  },
  {
   "cell_type": "code",
   "execution_count": 8,
   "id": "a204be09-3a09-4e2b-9ab2-389de56bbbc9",
   "metadata": {
    "tags": []
   },
   "outputs": [],
   "source": [
    "from openai import OpenAI\n",
    "import json\n",
    "\n",
    "client = OpenAI(api_key=os.environ.get('OPENAI_KEY'))"
   ]
  },
  {
   "cell_type": "code",
   "execution_count": 9,
   "id": "ad6c4e5e-1ca1-4c2b-95f3-560f18dc313e",
   "metadata": {
    "tags": []
   },
   "outputs": [],
   "source": [
    "sys = '''\n",
    "You are an expert financial analyst working for a leading indian fintech platform. User queries are either related to their own portfolio (eg. what is the total value of my portfolio or what are my most profitable holdings) or about general financial and business news (eg. how to save taxes or what is the performance of reliance over last 5 years). You extract the following attributes from a given user query. Today is “2024-03-15”. The platform has a database with the following data for user's own portfolio.\n",
    "user_portfolio: name, nseticker, holding_quantity, avg_buy_price, current_price\n",
    "Based on user's query we'll either run the function search_web_for_query or extract_portfolio_details\n",
    "respond only with the json with the above keys. don't answer the user query directly, but only extract the attributes\n",
    "'''"
   ]
  },
  {
   "cell_type": "code",
   "execution_count": 10,
   "id": "424cbf84-5a56-4e47-9dfb-2eae63eb3ba5",
   "metadata": {
    "tags": []
   },
   "outputs": [],
   "source": [
    "def parse_details_from_gpt(query):\n",
    "    messages = [{\"role\": \"system\", \"content\": sys}, \n",
    "            {\"role\": \"user\", \"content\": f\"user_query: {query}\"}]\n",
    "    tools = [\n",
    "        {\n",
    "            \"type\": \"function\",\n",
    "            \"function\": {\n",
    "                \"name\": \"search_web_for_query\",\n",
    "                \"description\": \"Search web for the user query. To be called when query is not related to analysis of user's own portfolio\",\n",
    "                \"parameters\": {\n",
    "                    \"type\": \"object\",\n",
    "                    \"properties\": {\n",
    "                        \"financial_or_business_query\": {\"type\": \"boolean\",\"description\": \"If the query is relevant for personal finance, markets of business related queries\"},\n",
    "                    },\n",
    "                    \"required\": [\"financial_or_business_query\"],\n",
    "                },\n",
    "            },\n",
    "        },\n",
    "        {\n",
    "            \"type\": \"function\",\n",
    "            \"function\": {\n",
    "                \"name\": \"extract_portfolio_details\",\n",
    "                \"description\": \"Extract details related to user portfolio\",\n",
    "                \"parameters\": {\n",
    "                    \"type\": \"object\",\n",
    "                    \"properties\": {\n",
    "                        \"aggregation_metric\": {\"type\": \"string\",\"enum\": [\"current_value\", \"invested_value\", \"profit\", \"profit_percent\"], \"description\": \"Metric user is requesting for\"},\n",
    "                        \"aggreation_level\": {\"type\": \"string\", \"enum\": [\"overall\", \"company\"],\"description\": \"If the user is looking for overall stats or breaking down by company\"},\n",
    "                        \"companies_mentioned\": {\"type\": \"array\", \"items\": {\"type\": \"string\"}, \"minItems\": 0, \"maxItems\": 5, \"description\": \"Array of company names mentioned in the user query\"},\n",
    "                        \"sorted_order\": {\"type\": \"string\", \"enum\": [\"ascending\", \"descending\"], \"description\": \"sorting order requested based on the aggregation_metric. For example user asks for least profitable or most loss making, then sorting order is ascending\"}\n",
    "                    },\n",
    "                    \"required\": [\"aggregation_metric\", \"aggreation_level\", \"companies_mentioned\", \"sorted_order\"],\n",
    "                },\n",
    "            },\n",
    "        }\n",
    "    ]\n",
    "    # \n",
    "    # gpt-4-0125-preview\n",
    "    response = client.chat.completions.create(\n",
    "        model=\"gpt-3.5-turbo-0125\",\n",
    "        messages=messages,\n",
    "        tools=tools,\n",
    "        tool_choice=\"auto\",  # auto is default, but we'll be explicit\n",
    "        temperature=0.05\n",
    "    )\n",
    "    # return json.loads(response.choices[0].message.tool_calls[0].function.arguments)\n",
    "    return response"
   ]
  },
  {
   "cell_type": "code",
   "execution_count": 11,
   "id": "52607a72-2c42-48af-9764-0a2bae8bd375",
   "metadata": {
    "tags": []
   },
   "outputs": [],
   "source": [
    "import time"
   ]
  },
  {
   "cell_type": "code",
   "execution_count": 33,
   "id": "b26db322-b994-4e30-8cda-2fecef15e11f",
   "metadata": {
    "tags": []
   },
   "outputs": [],
   "source": [
    "s = time.time()\n",
    "r = parse_details_from_gpt('what is my total profit from BSE')\n",
    "e = time.time()"
   ]
  },
  {
   "cell_type": "code",
   "execution_count": 34,
   "id": "b4a093b9-0084-46c0-ab71-b32719e5ac5d",
   "metadata": {
    "tags": []
   },
   "outputs": [
    {
     "data": {
      "text/plain": [
       "ChatCompletion(id='chatcmpl-95BWHhH8UQaZEmS4p1b7igrGqK60I', choices=[Choice(finish_reason='tool_calls', index=0, logprobs=None, message=ChatCompletionMessage(content=None, role='assistant', function_call=None, tool_calls=[ChatCompletionMessageToolCall(id='call_TxmcSmAWgf3kEVAcXIZAdPyL', function=Function(arguments='{\"aggregation_metric\":\"profit\",\"aggreation_level\":\"overall\",\"companies_mentioned\":[\"BSE\"],\"sorted_order\":\"descending\"}', name='extract_portfolio_details'), type='function')]))], created=1711022949, model='gpt-3.5-turbo-0125', object='chat.completion', system_fingerprint='fp_4f0b692a78', usage=CompletionUsage(completion_tokens=36, prompt_tokens=409, total_tokens=445))"
      ]
     },
     "execution_count": 34,
     "metadata": {},
     "output_type": "execute_result"
    }
   ],
   "source": [
    "r"
   ]
  },
  {
   "cell_type": "code",
   "execution_count": 40,
   "id": "c8cd82a5-3e7c-49f2-acf0-9a45b6ace530",
   "metadata": {
    "tags": []
   },
   "outputs": [
    {
     "data": {
      "text/plain": [
       "1.3980531692504883"
      ]
     },
     "execution_count": 40,
     "metadata": {},
     "output_type": "execute_result"
    }
   ],
   "source": [
    "e - s"
   ]
  },
  {
   "cell_type": "code",
   "execution_count": 26,
   "id": "4b247d6f-7e93-4ada-99e8-c1813524553e",
   "metadata": {
    "tags": []
   },
   "outputs": [],
   "source": [
    "import json"
   ]
  },
  {
   "cell_type": "code",
   "execution_count": 24,
   "id": "70c3f603-b2d2-4b69-8597-fde0037e2750",
   "metadata": {
    "tags": []
   },
   "outputs": [
    {
     "data": {
      "text/plain": [
       "ChatCompletionMessage(content=None, role='assistant', function_call=None, tool_calls=[ChatCompletionMessageToolCall(id='call_QPvHriHc0GC8sfPTJfN9rXP5', function=Function(arguments='{\"aggregation_metric\":\"profit\",\"aggreation_level\":\"company\",\"companies_mentioned\":[],\"sorted_order\":\"descending\"}', name='extract_portfolio_details'), type='function')])"
      ]
     },
     "execution_count": 24,
     "metadata": {},
     "output_type": "execute_result"
    }
   ],
   "source": [
    "r.choices[0].message"
   ]
  },
  {
   "cell_type": "code",
   "execution_count": 35,
   "id": "77b10873-1869-4dca-920d-4b32790f9021",
   "metadata": {
    "tags": []
   },
   "outputs": [
    {
     "data": {
      "text/plain": [
       "'extract_portfolio_details'"
      ]
     },
     "execution_count": 35,
     "metadata": {},
     "output_type": "execute_result"
    }
   ],
   "source": [
    "r.choices[0].message.tool_calls[0].function.name"
   ]
  },
  {
   "cell_type": "code",
   "execution_count": 36,
   "id": "646f4e8c-5f49-4886-8dd0-853cf15436fd",
   "metadata": {
    "tags": []
   },
   "outputs": [
    {
     "data": {
      "text/plain": [
       "{'aggregation_metric': 'profit',\n",
       " 'aggreation_level': 'overall',\n",
       " 'companies_mentioned': ['BSE'],\n",
       " 'sorted_order': 'descending'}"
      ]
     },
     "execution_count": 36,
     "metadata": {},
     "output_type": "execute_result"
    }
   ],
   "source": [
    "json.loads(r.choices[0].message.tool_calls[0].function.arguments)"
   ]
  },
  {
   "cell_type": "code",
   "execution_count": null,
   "id": "2f7c87ae-86e2-4c52-9a02-6fdb68497b70",
   "metadata": {},
   "outputs": [],
   "source": [
    "def orchestrate(query):\n",
    "    query_details = parse_details_from_gpt(query)\n",
    "    # print(query_details)\n",
    "    if not query_details['financial_or_business_query']:\n",
    "        print('not a financial query')\n",
    "        return\n",
    "    if not query_details['sql_db_has_data']:\n",
    "        r = requests.post('http://127.0.0.1:8000/search_query_web', json={'query_text': query})\n",
    "        return r\n",
    "    for mandatory_key in ['companies_mentioned', 'time_period_type', 'time_period_duration', 'query_type']:\n",
    "        if mandatory_key not in query_details:\n",
    "            print('ill formed arguments. calling web instead')\n",
    "            r = requests.post('http://127.0.0.1:8000/search_query_web', json={'query_text': query})\n",
    "            return r\n",
    "    symbols = []\n",
    "    for name in query_details['companies_mentioned']:\n",
    "        symbols.append(get_symbol_for_name(name))\n",
    "    time_period = f\"{query_details['time_period_duration']} {query_details['time_period_type']}\"\n",
    "    function_mapping = {'get_stocks_price_between_dates': get_stocks_price_between_dates, 'get_avg_stock_prices_between_dates': get_avg_stock_prices_between_dates, 'beta_calculation_query': beta_calculation_query}\n",
    "    function_to_call = function_mapping[query_details['query_type']]\n",
    "    results = function_to_call(symbols, time_period)\n",
    "    return results"
   ]
  },
  {
   "cell_type": "code",
   "execution_count": null,
   "id": "b3d0075d-706f-41b9-926c-cc062172eac2",
   "metadata": {},
   "outputs": [],
   "source": [
    "a ={'company': ['A', 'B'], 'profit': [100, -100]}\n",
    "b ={'A': 100, 'B': -100}"
   ]
  },
  {
   "cell_type": "code",
   "execution_count": 10,
   "id": "17380370-e2c8-41cb-9495-a33487dac9ff",
   "metadata": {
    "tags": []
   },
   "outputs": [
    {
     "data": {
      "text/html": [
       "<div>\n",
       "<style scoped>\n",
       "    .dataframe tbody tr th:only-of-type {\n",
       "        vertical-align: middle;\n",
       "    }\n",
       "\n",
       "    .dataframe tbody tr th {\n",
       "        vertical-align: top;\n",
       "    }\n",
       "\n",
       "    .dataframe thead th {\n",
       "        text-align: right;\n",
       "    }\n",
       "</style>\n",
       "<table border=\"1\" class=\"dataframe\">\n",
       "  <thead>\n",
       "    <tr style=\"text-align: right;\">\n",
       "      <th></th>\n",
       "      <th>symbol</th>\n",
       "      <th>matching_score</th>\n",
       "    </tr>\n",
       "  </thead>\n",
       "  <tbody>\n",
       "    <tr>\n",
       "      <th>0</th>\n",
       "      <td>CUPID</td>\n",
       "      <td>100</td>\n",
       "    </tr>\n",
       "  </tbody>\n",
       "</table>\n",
       "</div>"
      ],
      "text/plain": [
       "  symbol  matching_score\n",
       "0  CUPID             100"
      ]
     },
     "execution_count": 10,
     "metadata": {},
     "output_type": "execute_result"
    }
   ],
   "source": [
    "PortfolioService.filter_portfolio_by_name('CUPID', k)"
   ]
  },
  {
   "cell_type": "code",
   "execution_count": 7,
   "id": "0e6ede2a-218c-4b2f-baf7-b95ef97afdd6",
   "metadata": {
    "tags": []
   },
   "outputs": [],
   "source": [
    "from src.BingWebSearch import BingWebSearch"
   ]
  },
  {
   "cell_type": "code",
   "execution_count": 9,
   "id": "cf452fed-9275-4f4f-8da9-fd8733349182",
   "metadata": {
    "tags": []
   },
   "outputs": [
    {
     "name": "stdout",
     "output_type": "stream",
     "text": [
      "fetched the urls [] for the query what is the gift taxation policy in india\n",
      "No URLs found in the search results.\n",
      "articles fetched from bing and cleaned for what is the gift taxation policy in india in 0.3926539421081543 secs\n",
      "articles created in the backend for what is the gift taxation policy in india in 0.18715810775756836 secs\n"
     ]
    },
    {
     "data": {
      "text/plain": [
       "{'searchArticleIds': [], 'additionalInfo': {}}"
      ]
     },
     "execution_count": 9,
     "metadata": {},
     "output_type": "execute_result"
    }
   ],
   "source": [
    "BingWebSearch.perform_bing_web_search('what is the gift taxation policy in india', recency_importance='low')"
   ]
  },
  {
   "cell_type": "code",
   "execution_count": 19,
   "id": "699622bd-f34c-4d79-ba8e-a6ce306601ee",
   "metadata": {
    "tags": []
   },
   "outputs": [],
   "source": [
    "k = os.environ.get('BING_API_KEY')"
   ]
  },
  {
   "cell_type": "code",
   "execution_count": 20,
   "id": "0016bbbd-6690-4eec-8730-d7e88a851b87",
   "metadata": {
    "tags": []
   },
   "outputs": [
    {
     "data": {
      "text/plain": [
       "'9a35838986e248a0be2a80f582dfcf61'"
      ]
     },
     "execution_count": 20,
     "metadata": {},
     "output_type": "execute_result"
    }
   ],
   "source": [
    "k"
   ]
  },
  {
   "cell_type": "code",
   "execution_count": 31,
   "id": "64dccbb5-1c95-4559-8bb2-ce4e0d262c4e",
   "metadata": {
    "tags": []
   },
   "outputs": [],
   "source": [
    "k = '2499214119f8465ea9ead7331a161029'"
   ]
  },
  {
   "cell_type": "code",
   "execution_count": 32,
   "id": "d5d58803-29c0-4ef6-bed0-329538dd45f9",
   "metadata": {
    "tags": []
   },
   "outputs": [],
   "source": [
    "def _get_urls(user_query, recency_importance='medium'):\n",
    "    headers = {\n",
    "        'Ocp-Apim-Subscription-Key': k,\n",
    "        'Location': 'India'\n",
    "    }\n",
    "\n",
    "    response_filter = [\"Webpages\", \"News\"]\n",
    "    params = {\n",
    "        \"mkt\": \"en-IN\",\n",
    "        \"responseFilter\": response_filter,\n",
    "        \"count\": BingWebSearch.COUNT\n",
    "    }\n",
    "    if recency_importance == 'high':\n",
    "        params[\"freshness\"] = BingWebSearch.FRESHNESS\n",
    "    url = \"https://api.bing.microsoft.com/v7.0/search\"\n",
    "    params[\"q\"] = user_query + \" \" + \" \".join(BingWebSearch.LINKS_TO_EXCLUDE)\n",
    "    response = requests.get(url, params=params, headers=headers)\n",
    "    return response"
   ]
  },
  {
   "cell_type": "code",
   "execution_count": 33,
   "id": "8907b619-5af4-46d6-a8c3-473e9f43ccf7",
   "metadata": {
    "tags": []
   },
   "outputs": [],
   "source": [
    "import requests"
   ]
  },
  {
   "cell_type": "code",
   "execution_count": 34,
   "id": "2bcf3bc8-8c6e-4a4f-ba69-724bc7dc3759",
   "metadata": {
    "tags": []
   },
   "outputs": [],
   "source": [
    "s = _get_urls('finance news')"
   ]
  },
  {
   "cell_type": "code",
   "execution_count": 35,
   "id": "0f1d109f-37b7-43bd-8b7a-26b542ff3d0f",
   "metadata": {
    "tags": []
   },
   "outputs": [
    {
     "data": {
      "text/plain": [
       "'{\"_type\": \"SearchResponse\", \"queryContext\": {\"originalQuery\": \"finance news -site:youtube.com -site:amazon.com -site:hotstar.com -site:netflix.com -site:primevideo.com -site:sonyliv.com -site:zee5.com -site:voot.com -site:spotify.com -site:bing.com\\\\/videos\"}, \"webPages\": {\"webSearchUrl\": \"https:\\\\/\\\\/www.bing.com\\\\/search?q=finance+news+-site%3ayoutube.com+-site%3aamazon.com+-site%3ahotstar.com+-site%3anetflix.com+-site%3aprimevideo.com+-site%3asonyliv.com+-site%3azee5.com+-site%3avoot.com+-site%3aspotify.com+-site%3abing.com%2fvideos\", \"totalEstimatedMatches\": 162000000, \"value\": [{\"id\": \"https:\\\\/\\\\/api.bing.microsoft.com\\\\/api\\\\/v7\\\\/#WebPages.0\", \"name\": \"Finance News: latest Financial News, Finance News today in India\", \"url\": \"https:\\\\/\\\\/economictimes.indiatimes.com\\\\/news\\\\/economy\\\\/articlelist\\\\/1286551815.cms\", \"isFamilyFriendly\": true, \"displayUrl\": \"https:\\\\/\\\\/economictimes.indiatimes.com\\\\/news\\\\/economy\\\\/articlelist\\\\/1286551815.cms\", \"snippet\": \"Mar 5, 2024. Punjab Budget 2024 Highlights: Punjab Finance Minister Harpal Cheema unveiled a state budget exceeding Rs 2 lakh crore for FY25 in the Assembly. Notably, Rs 13,784 crore is allocated for agriculture, with a focus on health and education. Under AAP leadership, over 40,000 jobs were created.\", \"dateLastCrawled\": \"2024-03-20T04:08:00.0000000Z\", \"cachedPageUrl\": \"http:\\\\/\\\\/cc.bingj.com\\\\/cache.aspx?q=finance+news+-site%3ayoutube.com+-site%3aamazon.com+-site%3ahotstar.com+-site%3anetflix.com+-site%3aprimevideo.com+-site%3asonyliv.com+-site%3azee5.com+-site%3avoot.com+-site%3aspotify.com+-site%3abing.com%2fvideos&d=4575987388409768&mkt=en-IN&setlang=en-US&w=1p-gUOcHMzkg63i3bPX-3gdsxpX6xKh_\", \"language\": \"en\", \"isNavigational\": false, \"noCache\": false}, {\"id\": \"https:\\\\/\\\\/api.bing.microsoft.com\\\\/api\\\\/v7\\\\/#WebPages.1\", \"name\": \"Business News Today: Stock and Share Market News, Economy and Finance ...\", \"url\": \"https:\\\\/\\\\/www.moneycontrol.com\\\\/\", \"isFamilyFriendly\": true, \"displayUrl\": \"https:\\\\/\\\\/www.moneycontrol.com\", \"snippet\": \"Business News Today: Read the latest business news on the Indian economy, global market, upcoming IPOs and more. Get Live Stock Price, Stock and Share market news, Finance News, Sensex, Nifty Live ...\", \"deepLinks\": [{\"name\": \"Markets\", \"url\": \"https:\\\\/\\\\/www.moneycontrol.com\\\\/stocksmarketsindia\\\\/\"}, {\"name\": \"Portfolio\", \"url\": \"https:\\\\/\\\\/www.moneycontrol.com\\\\/india\\\\/bestportfoliomanager\\\\/investment-tool\"}, {\"name\": \"Mutual Funds\", \"url\": \"https:\\\\/\\\\/www.moneycontrol.com\\\\/mutualfundindia\\\\/\"}, {\"name\": \"Yes Bank\", \"url\": \"https:\\\\/\\\\/www.moneycontrol.com\\\\/india\\\\/stockpricequote\\\\/banks-private-sector\\\\/yesbank\\\\/YB\"}, {\"name\": \"Latest News\", \"url\": \"https:\\\\/\\\\/www.moneycontrol.com\\\\/news\\\\/\"}, {\"name\": \"Tata Steel Share Price, Tata Steel Stock Price, Tata Steel Ltd. Stock Price, Share Price, Live Bse\\\\/Nse, Tata Steel Ltd. Bids Offers. Buy\\\\/Sell Tata Steel Ltd. News & Tips, & F&O Quotes, Nse\\\\/Bse Forecast News and Live Quotes\", \"url\": \"https:\\\\/\\\\/www.moneycontrol.com\\\\/india\\\\/stockpricequote\\\\/ironsteel\\\\/tatasteel\\\\/TIS\"}], \"dateLastCrawled\": \"2024-03-20T01:55:00.0000000Z\", \"cachedPageUrl\": \"http:\\\\/\\\\/cc.bingj.com\\\\/cache.aspx?q=finance+news+-site%3ayoutube.com+-site%3aamazon.com+-site%3ahotstar.com+-site%3anetflix.com+-site%3aprimevideo.com+-site%3asonyliv.com+-site%3azee5.com+-site%3avoot.com+-site%3aspotify.com+-site%3abing.com%2fvideos&d=4555676485382789&mkt=en-IN&setlang=en-US&w=1Si6BooW3R4Xrs3OW1bLcMOoL7hzI5Ye\", \"language\": \"en\", \"isNavigational\": false, \"noCache\": false}, {\"id\": \"https:\\\\/\\\\/api.bing.microsoft.com\\\\/api\\\\/v7\\\\/#WebPages.2\", \"name\": \"Business News: Business News India, Business News Today, Latest Finance ...\", \"url\": \"https:\\\\/\\\\/www.financialexpress.com\\\\/\", \"isFamilyFriendly\": true, \"displayUrl\": \"https:\\\\/\\\\/www.financialexpress.com\", \"snippet\": \"Business News Live: Find here latest business news and finance news, share market updates, live stock market news, IPO update, banking and insurance sector updates. Check out for business news ...\", \"dateLastCrawled\": \"2024-03-20T02:29:00.0000000Z\", \"cachedPageUrl\": \"http:\\\\/\\\\/cc.bingj.com\\\\/cache.aspx?q=finance+news+-site%3ayoutube.com+-site%3aamazon.com+-site%3ahotstar.com+-site%3anetflix.com+-site%3aprimevideo.com+-site%3asonyliv.com+-site%3azee5.com+-site%3avoot.com+-site%3aspotify.com+-site%3abing.com%2fvideos&d=4647395509732516&mkt=en-IN&setlang=en-US&w=jvTS5Orq6GpBZC1am1brCEKzJo36tjLK\", \"language\": \"en\", \"isNavigational\": false, \"noCache\": false}, {\"id\": \"https:\\\\/\\\\/api.bing.microsoft.com\\\\/api\\\\/v7\\\\/#WebPages.3\", \"name\": \"Finance News: Banking News, Insurance News, RBI News, Money Market News ...\", \"url\": \"https:\\\\/\\\\/www.business-standard.com\\\\/finance\", \"isFamilyFriendly\": true, \"displayUrl\": \"https:\\\\/\\\\/www.business-standard.com\\\\/finance\", \"snippet\": \"Finance News: Get latest Banking news, Reserve Bank of India news, FIIs, NBFC, Insurance news, SEBI news, Public and Private sector bank news, NBFCs and gold lending news at Business Standard.\", \"dateLastCrawled\": \"2024-03-18T17:37:00.0000000Z\", \"cachedPageUrl\": \"http:\\\\/\\\\/cc.bingj.com\\\\/cache.aspx?q=finance+news+-site%3ayoutube.com+-site%3aamazon.com+-site%3ahotstar.com+-site%3anetflix.com+-site%3aprimevideo.com+-site%3asonyliv.com+-site%3azee5.com+-site%3avoot.com+-site%3aspotify.com+-site%3abing.com%2fvideos&d=4708534367437706&mkt=en-IN&setlang=en-US&w=TziXvWikkutdMcjn76CXptnAHCSfH2rr\", \"language\": \"en\", \"isNavigational\": false, \"noCache\": false}, {\"id\": \"https:\\\\/\\\\/api.bing.microsoft.com\\\\/api\\\\/v7\\\\/#WebPages.4\", \"name\": \"Latest Finance News | Today\\'s Top Headlines | Reuters\", \"url\": \"https:\\\\/\\\\/www.reuters.com\\\\/business\\\\/finance\\\\/\", \"datePublished\": \"2024-03-18T00:00:00.0000000\", \"datePublishedFreshnessText\": \"2 days ago\", \"isFamilyFriendly\": true, \"displayUrl\": \"https:\\\\/\\\\/www.reuters.com\\\\/business\\\\/finance\", \"snippet\": \"Find latest finance news from every corner of the globe at Reuters.com, your online source for breaking international news coverage.\", \"dateLastCrawled\": \"2024-03-19T13:25:00.0000000Z\", \"language\": \"en\", \"isNavigational\": false, \"noCache\": true}, {\"id\": \"https:\\\\/\\\\/api.bing.microsoft.com\\\\/api\\\\/v7\\\\/#WebPages.5\", \"name\": \"Business News Today: Read Latest Business news, India Business News ...\", \"url\": \"https:\\\\/\\\\/economictimes.indiatimes.com\\\\/\", \"isFamilyFriendly\": true, \"displayUrl\": \"https:\\\\/\\\\/economictimes.indiatimes.com\", \"snippet\": \"Business news today: Read India Business news Live. Latest Business news and updates on Finance, share market, IPO, economy. Discover Business News Headlines, Top Financial News and more on The Economic Times. Benchmarks . Nifty 21,817.45-238.25.\", \"dateLastCrawled\": \"2024-03-20T01:32:00.0000000Z\", \"cachedPageUrl\": \"http:\\\\/\\\\/cc.bingj.com\\\\/cache.aspx?q=finance+news+-site%3ayoutube.com+-site%3aamazon.com+-site%3ahotstar.com+-site%3anetflix.com+-site%3aprimevideo.com+-site%3asonyliv.com+-site%3azee5.com+-site%3avoot.com+-site%3aspotify.com+-site%3abing.com%2fvideos&d=4829184302074910&mkt=en-IN&setlang=en-US&w=KuFqKFeNu_iUD0YBKpko5WnFy8kqpaAi\", \"language\": \"en\", \"isNavigational\": false, \"noCache\": false}, {\"id\": \"https:\\\\/\\\\/api.bing.microsoft.com\\\\/api\\\\/v7\\\\/#WebPages.6\", \"name\": \"Bloomberg - Business News, Stock Markets, Finance, Breaking & World News\", \"url\": \"https:\\\\/\\\\/www.bloomberg.com\\\\/\", \"isFamilyFriendly\": true, \"displayUrl\": \"https:\\\\/\\\\/www.bloomberg.com\", \"snippet\": \"Bloomberg delivers business and markets news, data, analysis, and video to the world, featuring stories from Businessweek and Bloomberg News\", \"dateLastCrawled\": \"2024-03-20T01:28:00.0000000Z\", \"cachedPageUrl\": \"http:\\\\/\\\\/cc.bingj.com\\\\/cache.aspx?q=finance+news+-site%3ayoutube.com+-site%3aamazon.com+-site%3ahotstar.com+-site%3anetflix.com+-site%3aprimevideo.com+-site%3asonyliv.com+-site%3azee5.com+-site%3avoot.com+-site%3aspotify.com+-site%3abing.com%2fvideos&d=4619650020108267&mkt=en-IN&setlang=en-US&w=BY3foM0fA040xlchen2Iynabkxlb2BW8\", \"language\": \"en\", \"isNavigational\": false, \"noCache\": false}, {\"id\": \"https:\\\\/\\\\/api.bing.microsoft.com\\\\/api\\\\/v7\\\\/#WebPages.7\", \"name\": \"Google Finance - Stock Market Prices, Real-time Quotes & Business News\", \"url\": \"https:\\\\/\\\\/www.google.com\\\\/finance\\\\/\", \"isFamilyFriendly\": true, \"displayUrl\": \"https:\\\\/\\\\/www.google.com\\\\/finance\", \"snippet\": \"Google Finance provides real-time market quotes, international exchanges, up-to-date financial news, and analytics to help you make more informed trading and investment decisions.\", \"dateLastCrawled\": \"2024-03-17T23:20:00.0000000Z\", \"cachedPageUrl\": \"http:\\\\/\\\\/cc.bingj.com\\\\/cache.aspx?q=finance+news+-site%3ayoutube.com+-site%3aamazon.com+-site%3ahotstar.com+-site%3anetflix.com+-site%3aprimevideo.com+-site%3asonyliv.com+-site%3azee5.com+-site%3avoot.com+-site%3aspotify.com+-site%3abing.com%2fvideos&d=4797422678573530&mkt=en-IN&setlang=en-US&w=lXL8z_42xFCFncjPIkyYy85m75GQd-gp\", \"language\": \"en\", \"isNavigational\": false, \"noCache\": false}, {\"id\": \"https:\\\\/\\\\/api.bing.microsoft.com\\\\/api\\\\/v7\\\\/#WebPages.8\", \"name\": \"Finance News - CNBC\", \"url\": \"https:\\\\/\\\\/www.cnbc.com\\\\/finance\\\\/\", \"isFamilyFriendly\": true, \"displayUrl\": \"https:\\\\/\\\\/www.cnbc.com\\\\/finance\", \"snippet\": \"Alex Harring Tue, Mar 12th 2024. Xiaomi is set to launch its electric car on March 28. Evelyn Cheng Tue, Mar 12th 2024. Jefferies analyst disputes Trump’s claim that Facebook is ‘enemy of the ...\", \"dateLastCrawled\": \"2024-03-19T22:06:00.0000000Z\", \"cachedPageUrl\": \"http:\\\\/\\\\/cc.bingj.com\\\\/cache.aspx?q=finance+news+-site%3ayoutube.com+-site%3aamazon.com+-site%3ahotstar.com+-site%3anetflix.com+-site%3aprimevideo.com+-site%3asonyliv.com+-site%3azee5.com+-site%3avoot.com+-site%3aspotify.com+-site%3abing.com%2fvideos&d=4796735824674622&mkt=en-IN&setlang=en-US&w=kHuTa-KzxFKFTZeSW0C5scqwFyCHcsxU\", \"language\": \"en\", \"isNavigational\": false, \"noCache\": false}, {\"id\": \"https:\\\\/\\\\/api.bing.microsoft.com\\\\/api\\\\/v7\\\\/#WebPages.9\", \"name\": \"Latest Financial and Business News - Yahoo Finance\", \"url\": \"https:\\\\/\\\\/finance.yahoo.com\\\\/news\", \"isFamilyFriendly\": true, \"displayUrl\": \"https:\\\\/\\\\/finance.yahoo.com\\\\/news\", \"snippet\": \"Today’s business and financial news, plus the latest updates that may affect your money, investments, savings, and financial health\", \"dateLastCrawled\": \"2024-03-19T07:37:00.0000000Z\", \"cachedPageUrl\": \"http:\\\\/\\\\/cc.bingj.com\\\\/cache.aspx?q=finance+news+-site%3ayoutube.com+-site%3aamazon.com+-site%3ahotstar.com+-site%3anetflix.com+-site%3aprimevideo.com+-site%3asonyliv.com+-site%3azee5.com+-site%3avoot.com+-site%3aspotify.com+-site%3abing.com%2fvideos&d=4849469428731335&mkt=en-IN&setlang=en-US&w=bFp-bz-2oSadSJ4-RGGSqXBlXoV4BvHP\", \"language\": \"en\", \"isNavigational\": false, \"noCache\": false}]}, \"rankingResponse\": {\"mainline\": {\"items\": [{\"answerType\": \"WebPages\", \"resultIndex\": 0, \"value\": {\"id\": \"https:\\\\/\\\\/api.bing.microsoft.com\\\\/api\\\\/v7\\\\/#WebPages.0\"}}, {\"answerType\": \"WebPages\", \"resultIndex\": 1, \"value\": {\"id\": \"https:\\\\/\\\\/api.bing.microsoft.com\\\\/api\\\\/v7\\\\/#WebPages.1\"}}, {\"answerType\": \"WebPages\", \"resultIndex\": 2, \"value\": {\"id\": \"https:\\\\/\\\\/api.bing.microsoft.com\\\\/api\\\\/v7\\\\/#WebPages.2\"}}, {\"answerType\": \"WebPages\", \"resultIndex\": 3, \"value\": {\"id\": \"https:\\\\/\\\\/api.bing.microsoft.com\\\\/api\\\\/v7\\\\/#WebPages.3\"}}, {\"answerType\": \"WebPages\", \"resultIndex\": 4, \"value\": {\"id\": \"https:\\\\/\\\\/api.bing.microsoft.com\\\\/api\\\\/v7\\\\/#WebPages.4\"}}, {\"answerType\": \"WebPages\", \"resultIndex\": 5, \"value\": {\"id\": \"https:\\\\/\\\\/api.bing.microsoft.com\\\\/api\\\\/v7\\\\/#WebPages.5\"}}, {\"answerType\": \"WebPages\", \"resultIndex\": 6, \"value\": {\"id\": \"https:\\\\/\\\\/api.bing.microsoft.com\\\\/api\\\\/v7\\\\/#WebPages.6\"}}, {\"answerType\": \"WebPages\", \"resultIndex\": 7, \"value\": {\"id\": \"https:\\\\/\\\\/api.bing.microsoft.com\\\\/api\\\\/v7\\\\/#WebPages.7\"}}, {\"answerType\": \"WebPages\", \"resultIndex\": 8, \"value\": {\"id\": \"https:\\\\/\\\\/api.bing.microsoft.com\\\\/api\\\\/v7\\\\/#WebPages.8\"}}, {\"answerType\": \"WebPages\", \"resultIndex\": 9, \"value\": {\"id\": \"https:\\\\/\\\\/api.bing.microsoft.com\\\\/api\\\\/v7\\\\/#WebPages.9\"}}]}}}'"
      ]
     },
     "execution_count": 35,
     "metadata": {},
     "output_type": "execute_result"
    }
   ],
   "source": [
    "s.text"
   ]
  },
  {
   "cell_type": "code",
   "execution_count": null,
   "id": "b6244c19-1316-4de7-9deb-00de78762388",
   "metadata": {},
   "outputs": [],
   "source": []
  }
 ],
 "metadata": {
  "kernelspec": {
   "display_name": "bertopicenv",
   "language": "python",
   "name": "bertopicenv"
  },
  "language_info": {
   "codemirror_mode": {
    "name": "ipython",
    "version": 3
   },
   "file_extension": ".py",
   "mimetype": "text/x-python",
   "name": "python",
   "nbconvert_exporter": "python",
   "pygments_lexer": "ipython3",
   "version": "3.9.18"
  }
 },
 "nbformat": 4,
 "nbformat_minor": 5
}
