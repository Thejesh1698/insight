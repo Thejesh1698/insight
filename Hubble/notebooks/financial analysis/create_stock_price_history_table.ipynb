{
 "cells": [
  {
   "cell_type": "code",
   "execution_count": 1,
   "id": "9d251914-c11c-4c01-a3c7-ee9abbfa8bf3",
   "metadata": {
    "tags": []
   },
   "outputs": [],
   "source": [
    "parent_folder = '/Users/ravi.tej/Desktop/ML/Recommendations/hubble/'\n",
    "from hydra import compose, initialize\n",
    "import os\n",
    "\n",
    "import xml.etree.ElementTree as ET\n",
    "\n",
    "tree = ET.parse('../../conf/application.run.xml')\n",
    "root = tree.getroot()\n",
    "\n",
    "envs_element = root.find('./configuration/envs')\n",
    "for variable in envs_element.findall('env'):\n",
    "    name = variable.get('name')\n",
    "    value = variable.get('value')\n",
    "    os.environ[name] = value\n",
    "\n",
    "import sys\n",
    "sys.path.append('/Users/ravi.tej/Desktop/ML/Recommendations/hubble/')\n",
    "import os\n",
    "os.environ['PATH'] = '/Users/ravi.tej/anaconda3/envs/bertopicenv/bin:/Users/ravi.tej/anaconda3/condabin:/usr/bin:/bin:/usr/sbin:/sbin'"
   ]
  },
  {
   "cell_type": "code",
   "execution_count": 2,
   "id": "2b8c8fb3-83f7-4f2a-9a8d-f6d5a9133118",
   "metadata": {
    "tags": []
   },
   "outputs": [],
   "source": [
    "import yfinance as yf"
   ]
  },
  {
   "cell_type": "code",
   "execution_count": 3,
   "id": "64d81c5d-7cc2-44c5-a403-b7557f1cabaa",
   "metadata": {
    "tags": []
   },
   "outputs": [],
   "source": [
    "from sql.PostgresDatabaseOperation import PostgresDatabaseOperation"
   ]
  },
  {
   "cell_type": "code",
   "execution_count": 4,
   "id": "cd9f0115-afe5-485a-bc97-79185c338c6a",
   "metadata": {
    "tags": []
   },
   "outputs": [],
   "source": [
    "with PostgresDatabaseOperation() as cursor:\n",
    "    sql = 'SELECT DISTINCT symbol FROM stock_ticker_info'\n",
    "    cursor.execute(sql)\n",
    "    results = cursor.fetchall()"
   ]
  },
  {
   "cell_type": "code",
   "execution_count": 6,
   "id": "2a000a58-7bc8-4ef1-abfb-4145af373fdf",
   "metadata": {
    "tags": []
   },
   "outputs": [],
   "source": [
    "symbols = [x[0] for x in results]"
   ]
  },
  {
   "cell_type": "code",
   "execution_count": 7,
   "id": "4587e8b2-9247-440e-a446-c7f5f88be2bb",
   "metadata": {
    "tags": []
   },
   "outputs": [
    {
     "data": {
      "text/plain": [
       "['PERMAGN.BO',\n",
       " 'BKV.BO',\n",
       " 'HOWARHO.BO',\n",
       " 'TIRUSTA.BO',\n",
       " 'MCLEODRUSS.NS',\n",
       " 'COCHMAL.BO',\n",
       " 'BHEL.BO',\n",
       " 'BAMPSL.BO',\n",
       " 'HINDNATGLS.BO',\n",
       " 'ZYDUSWELL.NS']"
      ]
     },
     "execution_count": 7,
     "metadata": {},
     "output_type": "execute_result"
    }
   ],
   "source": [
    "symbols[:10]"
   ]
  },
  {
   "cell_type": "code",
   "execution_count": 8,
   "id": "a213a4fb-9393-494f-85ad-df82fcadba97",
   "metadata": {
    "tags": []
   },
   "outputs": [],
   "source": [
    "cur_ticker = yf.Ticker(symbols[0])"
   ]
  },
  {
   "cell_type": "code",
   "execution_count": 10,
   "id": "9f8e8c94-9656-4029-a05e-661bb22a44c5",
   "metadata": {
    "tags": []
   },
   "outputs": [
    {
     "data": {
      "text/html": [
       "<div>\n",
       "<style scoped>\n",
       "    .dataframe tbody tr th:only-of-type {\n",
       "        vertical-align: middle;\n",
       "    }\n",
       "\n",
       "    .dataframe tbody tr th {\n",
       "        vertical-align: top;\n",
       "    }\n",
       "\n",
       "    .dataframe thead th {\n",
       "        text-align: right;\n",
       "    }\n",
       "</style>\n",
       "<table border=\"1\" class=\"dataframe\">\n",
       "  <thead>\n",
       "    <tr style=\"text-align: right;\">\n",
       "      <th></th>\n",
       "      <th>Date</th>\n",
       "      <th>Open</th>\n",
       "      <th>High</th>\n",
       "      <th>Low</th>\n",
       "      <th>Close</th>\n",
       "      <th>Volume</th>\n",
       "      <th>Dividends</th>\n",
       "      <th>Stock Splits</th>\n",
       "    </tr>\n",
       "  </thead>\n",
       "  <tbody>\n",
       "    <tr>\n",
       "      <th>0</th>\n",
       "      <td>2002-04-11 00:00:00+05:30</td>\n",
       "      <td>1.192162</td>\n",
       "      <td>1.192162</td>\n",
       "      <td>1.192162</td>\n",
       "      <td>1.192162</td>\n",
       "      <td>20</td>\n",
       "      <td>0.0</td>\n",
       "      <td>0.0</td>\n",
       "    </tr>\n",
       "    <tr>\n",
       "      <th>1</th>\n",
       "      <td>2002-04-12 00:00:00+05:30</td>\n",
       "      <td>1.192162</td>\n",
       "      <td>1.192162</td>\n",
       "      <td>1.192162</td>\n",
       "      <td>1.192162</td>\n",
       "      <td>0</td>\n",
       "      <td>0.0</td>\n",
       "      <td>0.0</td>\n",
       "    </tr>\n",
       "    <tr>\n",
       "      <th>2</th>\n",
       "      <td>2002-04-15 00:00:00+05:30</td>\n",
       "      <td>1.192162</td>\n",
       "      <td>1.192162</td>\n",
       "      <td>1.192162</td>\n",
       "      <td>1.192162</td>\n",
       "      <td>0</td>\n",
       "      <td>0.0</td>\n",
       "      <td>0.0</td>\n",
       "    </tr>\n",
       "    <tr>\n",
       "      <th>3</th>\n",
       "      <td>2002-04-16 00:00:00+05:30</td>\n",
       "      <td>1.192162</td>\n",
       "      <td>1.192162</td>\n",
       "      <td>1.192162</td>\n",
       "      <td>1.192162</td>\n",
       "      <td>0</td>\n",
       "      <td>0.0</td>\n",
       "      <td>0.0</td>\n",
       "    </tr>\n",
       "    <tr>\n",
       "      <th>4</th>\n",
       "      <td>2002-04-17 00:00:00+05:30</td>\n",
       "      <td>1.390856</td>\n",
       "      <td>1.390856</td>\n",
       "      <td>1.390856</td>\n",
       "      <td>1.390856</td>\n",
       "      <td>200</td>\n",
       "      <td>0.0</td>\n",
       "      <td>0.0</td>\n",
       "    </tr>\n",
       "    <tr>\n",
       "      <th>...</th>\n",
       "      <td>...</td>\n",
       "      <td>...</td>\n",
       "      <td>...</td>\n",
       "      <td>...</td>\n",
       "      <td>...</td>\n",
       "      <td>...</td>\n",
       "      <td>...</td>\n",
       "      <td>...</td>\n",
       "    </tr>\n",
       "    <tr>\n",
       "      <th>5446</th>\n",
       "      <td>2024-03-07 00:00:00+05:30</td>\n",
       "      <td>992.549988</td>\n",
       "      <td>1024.000000</td>\n",
       "      <td>992.549988</td>\n",
       "      <td>1003.450012</td>\n",
       "      <td>5611</td>\n",
       "      <td>0.0</td>\n",
       "      <td>0.0</td>\n",
       "    </tr>\n",
       "    <tr>\n",
       "      <th>5447</th>\n",
       "      <td>2024-03-11 00:00:00+05:30</td>\n",
       "      <td>1000.500000</td>\n",
       "      <td>1013.849976</td>\n",
       "      <td>950.000000</td>\n",
       "      <td>962.049988</td>\n",
       "      <td>11415</td>\n",
       "      <td>0.0</td>\n",
       "      <td>0.0</td>\n",
       "    </tr>\n",
       "    <tr>\n",
       "      <th>5448</th>\n",
       "      <td>2024-03-12 00:00:00+05:30</td>\n",
       "      <td>958.000000</td>\n",
       "      <td>977.450012</td>\n",
       "      <td>927.950012</td>\n",
       "      <td>971.549988</td>\n",
       "      <td>10859</td>\n",
       "      <td>0.0</td>\n",
       "      <td>0.0</td>\n",
       "    </tr>\n",
       "    <tr>\n",
       "      <th>5449</th>\n",
       "      <td>2024-03-13 00:00:00+05:30</td>\n",
       "      <td>955.000000</td>\n",
       "      <td>974.450012</td>\n",
       "      <td>901.700012</td>\n",
       "      <td>907.599976</td>\n",
       "      <td>14243</td>\n",
       "      <td>0.0</td>\n",
       "      <td>0.0</td>\n",
       "    </tr>\n",
       "    <tr>\n",
       "      <th>5450</th>\n",
       "      <td>2024-03-14 00:00:00+05:30</td>\n",
       "      <td>920.000000</td>\n",
       "      <td>991.000000</td>\n",
       "      <td>908.000000</td>\n",
       "      <td>989.950012</td>\n",
       "      <td>10189</td>\n",
       "      <td>0.0</td>\n",
       "      <td>0.0</td>\n",
       "    </tr>\n",
       "  </tbody>\n",
       "</table>\n",
       "<p>5451 rows × 8 columns</p>\n",
       "</div>"
      ],
      "text/plain": [
       "                          Date         Open         High         Low  \\\n",
       "0    2002-04-11 00:00:00+05:30     1.192162     1.192162    1.192162   \n",
       "1    2002-04-12 00:00:00+05:30     1.192162     1.192162    1.192162   \n",
       "2    2002-04-15 00:00:00+05:30     1.192162     1.192162    1.192162   \n",
       "3    2002-04-16 00:00:00+05:30     1.192162     1.192162    1.192162   \n",
       "4    2002-04-17 00:00:00+05:30     1.390856     1.390856    1.390856   \n",
       "...                        ...          ...          ...         ...   \n",
       "5446 2024-03-07 00:00:00+05:30   992.549988  1024.000000  992.549988   \n",
       "5447 2024-03-11 00:00:00+05:30  1000.500000  1013.849976  950.000000   \n",
       "5448 2024-03-12 00:00:00+05:30   958.000000   977.450012  927.950012   \n",
       "5449 2024-03-13 00:00:00+05:30   955.000000   974.450012  901.700012   \n",
       "5450 2024-03-14 00:00:00+05:30   920.000000   991.000000  908.000000   \n",
       "\n",
       "            Close  Volume  Dividends  Stock Splits  \n",
       "0        1.192162      20        0.0           0.0  \n",
       "1        1.192162       0        0.0           0.0  \n",
       "2        1.192162       0        0.0           0.0  \n",
       "3        1.192162       0        0.0           0.0  \n",
       "4        1.390856     200        0.0           0.0  \n",
       "...           ...     ...        ...           ...  \n",
       "5446  1003.450012    5611        0.0           0.0  \n",
       "5447   962.049988   11415        0.0           0.0  \n",
       "5448   971.549988   10859        0.0           0.0  \n",
       "5449   907.599976   14243        0.0           0.0  \n",
       "5450   989.950012   10189        0.0           0.0  \n",
       "\n",
       "[5451 rows x 8 columns]"
      ]
     },
     "execution_count": 10,
     "metadata": {},
     "output_type": "execute_result"
    }
   ],
   "source": [
    "cur_ticker.history(period='30y').reset_index()"
   ]
  },
  {
   "cell_type": "code",
   "execution_count": 27,
   "id": "c1e01c57-d5cf-4c22-9b31-3543b1aae7e6",
   "metadata": {
    "scrolled": true,
    "tags": []
   },
   "outputs": [
    {
     "name": "stderr",
     "output_type": "stream",
     "text": [
      "INEOSSTYRO.NS: No timezone found, symbol may be delisted\n"
     ]
    },
    {
     "name": "stdout",
     "output_type": "stream",
     "text": [
      "completed 100 in 18.688721895217896 secs\n"
     ]
    },
    {
     "name": "stderr",
     "output_type": "stream",
     "text": [
      "PGINDST.BO: No timezone found, symbol may be delisted\n",
      "MRCEXIM.BO: No timezone found, symbol may be delisted\n"
     ]
    },
    {
     "name": "stdout",
     "output_type": "stream",
     "text": [
      "completed 200 in 38.05068278312683 secs\n"
     ]
    },
    {
     "name": "stderr",
     "output_type": "stream",
     "text": [
      "IKAB.BO: No timezone found, symbol may be delisted\n",
      "HBANKETF.NS: No timezone found, symbol may be delisted\n"
     ]
    },
    {
     "name": "stdout",
     "output_type": "stream",
     "text": [
      "completed 300 in 65.01697206497192 secs\n"
     ]
    },
    {
     "name": "stderr",
     "output_type": "stream",
     "text": [
      "COSMOFILMS.NS: No timezone found, symbol may be delisted\n",
      "PONDYOXIDE.BO: No timezone found, symbol may be delisted\n"
     ]
    },
    {
     "name": "stdout",
     "output_type": "stream",
     "text": [
      "completed 400 in 85.92927289009094 secs\n",
      "completed 500 in 102.98094582557678 secs\n"
     ]
    },
    {
     "name": "stderr",
     "output_type": "stream",
     "text": [
      "PVR.BO: No timezone found, symbol may be delisted\n",
      "RCRL.BO: No timezone found, symbol may be delisted\n",
      "MAHINDCIE.BO: No timezone found, symbol may be delisted\n",
      "DHANVARSHA.BO: No timezone found, symbol may be delisted\n"
     ]
    },
    {
     "name": "stdout",
     "output_type": "stream",
     "text": [
      "completed 600 in 127.68566298484802 secs\n",
      "completed 700 in 143.2470588684082 secs\n"
     ]
    },
    {
     "name": "stderr",
     "output_type": "stream",
     "text": [
      "BLFL.BO: No timezone found, symbol may be delisted\n",
      "SXETF.BO: No timezone found, symbol may be delisted\n",
      "OZONEWORLD.BO: No timezone found, symbol may be delisted\n"
     ]
    },
    {
     "name": "stdout",
     "output_type": "stream",
     "text": [
      "completed 800 in 162.80927276611328 secs\n"
     ]
    },
    {
     "name": "stderr",
     "output_type": "stream",
     "text": [
      "TRIJAL.BO: No timezone found, symbol may be delisted\n",
      "AINFRA.BO: No timezone found, symbol may be delisted\n"
     ]
    },
    {
     "name": "stdout",
     "output_type": "stream",
     "text": [
      "completed 900 in 186.38254070281982 secs\n"
     ]
    },
    {
     "name": "stderr",
     "output_type": "stream",
     "text": [
      "ASHIKACR.BO: No timezone found, symbol may be delisted\n",
      "TMRVL.NS: No timezone found, symbol may be delisted\n",
      "PIONDIST.BO: No timezone found, symbol may be delisted\n",
      "UTTAMSTL.BO: No timezone found, symbol may be delisted\n",
      "BHAGYAPROP.BO: No timezone found, symbol may be delisted\n"
     ]
    },
    {
     "name": "stdout",
     "output_type": "stream",
     "text": [
      "completed 1000 in 208.78891801834106 secs\n"
     ]
    },
    {
     "name": "stderr",
     "output_type": "stream",
     "text": [
      "HDFCNIFETF.BO: No timezone found, symbol may be delisted\n",
      "KAMRLAB.BO: No timezone found, symbol may be delisted\n",
      "GDL.NS: No timezone found, symbol may be delisted\n"
     ]
    },
    {
     "name": "stdout",
     "output_type": "stream",
     "text": [
      "completed 1100 in 228.5404109954834 secs\n"
     ]
    },
    {
     "name": "stderr",
     "output_type": "stream",
     "text": [
      "SNTCL.BO: No timezone found, symbol may be delisted\n"
     ]
    },
    {
     "name": "stdout",
     "output_type": "stream",
     "text": [
      "completed 1200 in 246.7148847579956 secs\n"
     ]
    },
    {
     "name": "stderr",
     "output_type": "stream",
     "text": [
      "PRESSMN.BO: No timezone found, symbol may be delisted\n",
      "REDEXPR.BO: No timezone found, symbol may be delisted\n"
     ]
    },
    {
     "name": "stdout",
     "output_type": "stream",
     "text": [
      "completed 1300 in 265.9117660522461 secs\n"
     ]
    },
    {
     "name": "stderr",
     "output_type": "stream",
     "text": [
      "BARTRONICS.BO: No timezone found, symbol may be delisted\n",
      "TWL.BO: No timezone found, symbol may be delisted\n",
      "SUPREMEX.BO: No timezone found, symbol may be delisted\n",
      "GDL.BO: No timezone found, symbol may be delisted\n"
     ]
    },
    {
     "name": "stdout",
     "output_type": "stream",
     "text": [
      "completed 1400 in 292.7962827682495 secs\n"
     ]
    },
    {
     "name": "stderr",
     "output_type": "stream",
     "text": [
      "BNKCAP.BO: No timezone found, symbol may be delisted\n",
      "DIAPOWER.BO: No timezone found, symbol may be delisted\n",
      "INTEGRA.NS: No timezone found, symbol may be delisted\n",
      "WABCOINDIA.BO: No timezone found, symbol may be delisted\n",
      "PHILIPCARB.BO: No timezone found, symbol may be delisted\n"
     ]
    },
    {
     "name": "stdout",
     "output_type": "stream",
     "text": [
      "completed 1500 in 322.162593126297 secs\n"
     ]
    },
    {
     "name": "stderr",
     "output_type": "stream",
     "text": [
      "BRANDREAL.BO: No timezone found, symbol may be delisted\n",
      "VSL.BO: Period 'max' is invalid, must be one of ['1d', '5d']\n"
     ]
    },
    {
     "name": "stdout",
     "output_type": "stream",
     "text": [
      "completed 1600 in 348.5220379829407 secs\n"
     ]
    },
    {
     "name": "stderr",
     "output_type": "stream",
     "text": [
      "VIRTUALS.BO: Period 'max' is invalid, must be one of ['1d', '5d']\n",
      "JOONKTOLL.BO: No timezone found, symbol may be delisted\n",
      "AXISHETF.BO: Period 'max' is invalid, must be one of ['1d', '5d']\n",
      "BRANDBUCKT.BO: Period 'max' is invalid, must be one of ['1d', '5d']\n",
      "MFSINTRCRP.BO: Period 'max' is invalid, must be one of ['1d', '5d']\n",
      "MODRNSH.BO: No price data found, symbol may be delisted (1d 1925-04-08 -> 2024-03-14)\n",
      "INDUSFINL.BO: Period 'max' is invalid, must be one of ['1d', '5d']\n",
      "SHRIRAMCIT.NS: No timezone found, symbol may be delisted\n",
      "KMEW.BO: Period 'max' is invalid, must be one of ['1d', '5d']\n",
      "PFLINFOTC.BO: No price data found, symbol may be delisted (1d 1925-04-08 -> 2024-03-14)\n",
      "INDOCRED.BO: Period 'max' is invalid, must be one of ['1d', '5d']\n",
      "LEX.BO: Period 'max' is invalid, must be one of ['1d', '5d']\n",
      "CROISSANCE.BO: Period 'max' is invalid, must be one of ['1d', '5d']\n",
      "EVANS.BO: Period 'max' is invalid, must be one of ['1d', '5d']\n",
      "YSL.BO: Period 'max' is invalid, must be one of ['1d', '5d']\n",
      "GKP.BO: Period 'max' is invalid, must be one of ['1d', '5d']\n"
     ]
    },
    {
     "name": "stdout",
     "output_type": "stream",
     "text": [
      "completed 1700 in 375.9254570007324 secs\n"
     ]
    },
    {
     "name": "stderr",
     "output_type": "stream",
     "text": [
      "SOLEX-SM.NS: Period 'max' is invalid, must be one of ['1d', '5d']\n",
      "NIESSPC.BO: Period 'max' is invalid, must be one of ['1d', '5d']\n",
      "EVEXIA.BO: Period 'max' is invalid, must be one of ['1d', '5d']\n",
      "ADVAIT.BO: Period 'max' is invalid, must be one of ['1d', '5d']\n",
      "GLOSTERLTD.BO: Period 'max' is invalid, must be one of ['1d', '5d']\n",
      "EASUN.BO: Period 'max' is invalid, must be one of ['1d', '5d']\n",
      "SENINFO.BO: Period 'max' is invalid, must be one of ['1d', '5d']\n",
      "UPASAFN.BO: No timezone found, symbol may be delisted\n",
      "INEOSSTYRO.BO: No timezone found, symbol may be delisted\n",
      "GIANLIFE.BO: Period 'max' is invalid, must be one of ['1d', '5d']\n",
      "JAYATMA.BO: Period 'max' is invalid, must be one of ['1d', '5d']\n",
      "TAVERNIER.BO: No price data found, symbol may be delisted (1d 1925-04-08 -> 2024-03-14)\n"
     ]
    },
    {
     "name": "stdout",
     "output_type": "stream",
     "text": [
      "completed 1800 in 406.51997590065 secs\n"
     ]
    },
    {
     "name": "stderr",
     "output_type": "stream",
     "text": [
      "BHATEXT.BO: Period 'max' is invalid, must be one of ['1d', '5d']\n",
      "KPIGLOBAL.NS: No timezone found, symbol may be delisted\n",
      "SERVOTEACH.BO: Period 'max' is invalid, must be one of ['1d', '5d']\n",
      "GICL-SM.NS: Period 'max' is invalid, must be one of ['1d', '5d']\n",
      "VSCL-SM.NS: Period 'max' is invalid, must be one of ['1d', '5d']\n",
      "SPRAYKING.BO: Period 'max' is invalid, must be one of ['1d', '5d']\n",
      "DECANBRG.BO: Period 'max' is invalid, must be one of ['1d', '5d']\n",
      "SPARCSYS.BO: No timezone found, symbol may be delisted\n",
      "RAWEDGE.BO: Period 'max' is invalid, must be one of ['1d', '5d']\n",
      "KALPATPOWR.BO: No timezone found, symbol may be delisted\n",
      "SETFSN50.BO: Period 'max' is invalid, must be one of ['1d', '5d']\n"
     ]
    },
    {
     "name": "stdout",
     "output_type": "stream",
     "text": [
      "completed 1900 in 435.5326957702637 secs\n"
     ]
    },
    {
     "name": "stderr",
     "output_type": "stream",
     "text": [
      "COLORCHIPS.BO: Period 'max' is invalid, must be one of ['1d', '5d']\n",
      "EQUITAS.BO: No timezone found, symbol may be delisted\n",
      "ASRL.BO: Period 'max' is invalid, must be one of ['1d', '5d']\n",
      "SBLI.BO: Period 'max' is invalid, must be one of ['1d', '5d']\n",
      "INNOVATORS.BO: Period 'max' is invalid, must be one of ['1d', '5d']\n",
      "TCIDEVELOP.BO: No timezone found, symbol may be delisted\n",
      "JALAN-SM.NS: Period 'max' is invalid, must be one of ['1d', '5d']\n",
      "BINDALAGRO.BO: No timezone found, symbol may be delisted\n",
      "VAGHANI.BO: No price data found, symbol may be delisted (1d 1925-04-08 -> 2024-03-14)\n",
      "TULASEEBIOE.BO: Period 'max' is invalid, must be one of ['1d', '5d']\n",
      "VIKASPROP.BO: Period 'max' is invalid, must be one of ['1d', '5d']\n",
      "PVR.NS: No timezone found, symbol may be delisted\n",
      "UTIBANKETF.BO: Period 'max' is invalid, must be one of ['1d', '5d']\n",
      "AARNAV.BO: Period 'max' is invalid, must be one of ['1d', '5d']\n",
      "ACEEDU.BO: No price data found, symbol may be delisted (1d 1925-04-08 -> 2024-03-14)\n",
      "KONNDOR.BO: Period 'max' is invalid, must be one of ['1d', '5d']\n"
     ]
    },
    {
     "name": "stdout",
     "output_type": "stream",
     "text": [
      "completed 2000 in 465.54296708106995 secs\n"
     ]
    },
    {
     "name": "stderr",
     "output_type": "stream",
     "text": [
      "KACL.BO: No price data found, symbol may be delisted (1d 1925-04-08 -> 2024-03-14)\n",
      "MHHL-SM.NS: Period 'max' is invalid, must be one of ['1d', '5d']\n",
      "EPSOMPRO.BO: Period 'max' is invalid, must be one of ['1d', '5d']\n",
      "GCMCOMM.BO: Period 'max' is invalid, must be one of ['1d', '5d']\n",
      "JAINMARMO.BO: Period 'max' is invalid, must be one of ['1d', '5d']\n",
      "KDML.BO: Period 'max' is invalid, must be one of ['1d', '5d']\n",
      "GEMSPIN.BO: Period 'max' is invalid, must be one of ['1d', '5d']\n",
      "MANGTIMBER.NS: No timezone found, symbol may be delisted\n",
      "SW1.BO: No price data found, symbol may be delisted (1d 1925-04-08 -> 2024-03-14)\n",
      "SHRADDHA.BO: Period 'max' is invalid, must be one of ['1d', '5d']\n",
      "SINTEX.BO: No timezone found, symbol may be delisted\n"
     ]
    },
    {
     "name": "stdout",
     "output_type": "stream",
     "text": [
      "completed 2100 in 492.0872359275818 secs\n"
     ]
    },
    {
     "name": "stderr",
     "output_type": "stream",
     "text": [
      "SHARDFI.BO: No timezone found, symbol may be delisted\n",
      "AEPL.BO: Period 'max' is invalid, must be one of ['1d', '5d']\n",
      "DEEP.BO: Period 'max' is invalid, must be one of ['1d', '5d']\n",
      "MPFSL.BO: Period 'max' is invalid, must be one of ['1d', '5d']\n",
      "HANSUGAR.BO: No price data found, symbol may be delisted (1d 1925-04-08 -> 2024-03-14)\n",
      "MAFANG.BO: Period 'max' is invalid, must be one of ['1d', '5d']\n",
      "VARIMAN.BO: Period 'max' is invalid, must be one of ['1d', '5d']\n",
      "ZMILGFIN.BO: No price data found, symbol may be delisted (1d 1925-04-08 -> 2024-03-14)\n",
      "VXLINSTR.BO: Period 'max' is invalid, must be one of ['1d', '5d']\n",
      "DFMFOODS.NS: No timezone found, symbol may be delisted\n"
     ]
    },
    {
     "name": "stdout",
     "output_type": "stream",
     "text": [
      "completed 2200 in 518.7928650379181 secs\n"
     ]
    },
    {
     "name": "stderr",
     "output_type": "stream",
     "text": [
      "SUBCAPCITY.NS: No timezone found, symbol may be delisted\n",
      "GETALONG.BO: Period 'max' is invalid, must be one of ['1d', '5d']\n",
      "KPT.BO: Period 'max' is invalid, must be one of ['1d', '5d']\n",
      "SHRINIWAS.BO: Period 'max' is invalid, must be one of ['1d', '5d']\n",
      "CONTI-SM.NS: Period 'max' is invalid, must be one of ['1d', '5d']\n",
      "KOTAKBKETF.BO: Period 'max' is invalid, must be one of ['1d', '5d']\n",
      "HANMAN.BO: Period 'max' is invalid, must be one of ['1d', '5d']\n",
      "DHARAMSI.NS: No timezone found, symbol may be delisted\n",
      "HARISH.BO: Period 'max' is invalid, must be one of ['1d', '5d']\n",
      "UTIQUE.BO: Period 'max' is invalid, must be one of ['1d', '5d']\n",
      "WAAREERTL.BO: Period 'max' is invalid, must be one of ['1d', '5d']\n",
      "PANORAMA.BO: Period 'max' is invalid, must be one of ['1d', '5d']\n",
      "VIVANZA.BO: Period 'max' is invalid, must be one of ['1d', '5d']\n",
      "NIESSPJ.BO: Period 'max' is invalid, must be one of ['1d', '5d']\n",
      "AREALTY.BO: No timezone found, symbol may be delisted\n",
      "VMARCIND-SM.NS: Period 'max' is invalid, must be one of ['1d', '5d']\n"
     ]
    },
    {
     "name": "stdout",
     "output_type": "stream",
     "text": [
      "completed 2300 in 547.2641749382019 secs\n"
     ]
    },
    {
     "name": "stderr",
     "output_type": "stream",
     "text": [
      "MCLOUD.BO: Period 'max' is invalid, must be one of ['1d', '5d']\n",
      "JANUSCORP.BO: Period 'max' is invalid, must be one of ['1d', '5d']\n",
      "SOFCOM.BO: Period 'max' is invalid, must be one of ['1d', '5d']\n",
      "BESTAGRO.BO: Period 'max' is invalid, must be one of ['1d', '5d']\n",
      "NETFGILT5Y.NS: No timezone found, symbol may be delisted\n",
      "RRMETAL.BO: Period 'max' is invalid, must be one of ['1d', '5d']\n",
      "MERMETL.BO: No timezone found, symbol may be delisted\n",
      "AIML.BO: Period 'max' is invalid, must be one of ['1d', '5d']\n",
      "ABVL.BO: Period 'max' is invalid, must be one of ['1d', '5d']\n",
      "KDL.BO: Period 'max' is invalid, must be one of ['1d', '5d']\n",
      "SRDAPRT.BO: No price data found, symbol may be delisted (1d 1925-04-08 -> 2024-03-14)\n",
      "RAHME.BO: Period 'max' is invalid, must be one of ['1d', '5d']\n"
     ]
    },
    {
     "name": "stdout",
     "output_type": "stream",
     "text": [
      "completed 2400 in 575.0076289176941 secs\n"
     ]
    },
    {
     "name": "stderr",
     "output_type": "stream",
     "text": [
      "ALANSCOTT.BO: No price data found, symbol may be delisted (1d 1925-04-08 -> 2024-03-14)\n",
      "UCL-SM.NS: Period 'max' is invalid, must be one of ['1d', '5d']\n",
      "VBIND.BO: No price data found, symbol may be delisted (1d 1925-04-08 -> 2024-03-14)\n",
      "WINPRO.BO: Period 'max' is invalid, must be one of ['1d', '5d']\n",
      "DALALSTCOM.NS: No timezone found, symbol may be delisted\n",
      "KLRFM.BO: Period 'max' is invalid, must be one of ['1d', '5d']\n",
      "BAZELINTER.BO: No price data found, symbol may be delisted (1d 1925-04-08 -> 2024-03-14)\n",
      "MONIND.BO: Period 'max' is invalid, must be one of ['1d', '5d']\n",
      "TRCFIN.BO: No timezone found, symbol may be delisted\n",
      "EDSL.BO: No price data found, symbol may be delisted (1d 1925-04-08 -> 2024-03-14)\n",
      "JMCPROJECT.BO: No timezone found, symbol may be delisted\n",
      "DWL.BO: No price data found, symbol may be delisted (1d 1925-04-08 -> 2024-03-14)\n",
      "BINDALAGRO.NS: No timezone found, symbol may be delisted\n",
      "ADESHWAR.BO: Period 'max' is invalid, must be one of ['1d', '5d']\n",
      "ECOM.BO: No timezone found, symbol may be delisted\n",
      "ABSLNN50ET.BO: Period 'max' is invalid, must be one of ['1d', '5d']\n"
     ]
    },
    {
     "name": "stdout",
     "output_type": "stream",
     "text": [
      "completed 2500 in 606.9388649463654 secs\n"
     ]
    },
    {
     "name": "stderr",
     "output_type": "stream",
     "text": [
      "NAVIGANT.BO: Period 'max' is invalid, must be one of ['1d', '5d']\n",
      "VIVANTA.BO: Period 'max' is invalid, must be one of ['1d', '5d']\n",
      "AIRTELPP-E1.NS: Period 'max' is invalid, must be one of ['1d', '5d']\n",
      "AAPLUSTRAD.BO: Period 'max' is invalid, must be one of ['1d', '5d']\n",
      "POLOHOT.BO: No price data found, symbol may be delisted (1d 1925-04-08 -> 2024-03-14)\n",
      "SUNRETAIL.BO: Period 'max' is invalid, must be one of ['1d', '5d']\n",
      "ABINFRA-SM.NS: Period 'max' is invalid, must be one of ['1d', '5d']\n",
      "SARTHAKGL.BO: Period 'max' is invalid, must be one of ['1d', '5d']\n",
      "GEETANJ.BO: No price data found, symbol may be delisted (1d 1925-04-08 -> 2024-03-14)\n",
      "AVI.BO: No price data found, symbol may be delisted (1d 1925-04-08 -> 2024-03-14)\n",
      "ADJIA.BO: Period 'max' is invalid, must be one of ['1d', '5d']\n"
     ]
    },
    {
     "name": "stdout",
     "output_type": "stream",
     "text": [
      "completed 2600 in 631.4142959117889 secs\n"
     ]
    },
    {
     "name": "stderr",
     "output_type": "stream",
     "text": [
      "BLSINFOTE.BO: No price data found, symbol may be delisted (1d 1925-04-08 -> 2024-03-14)\n",
      "SHRIRAMCIT.BO: No timezone found, symbol may be delisted\n",
      "VARDHMAN.BO: Period 'max' is invalid, must be one of ['1d', '5d']\n",
      "SAMRATFORG.BO: Period 'max' is invalid, must be one of ['1d', '5d']\n",
      "DHANCOT.BO: Period 'max' is invalid, must be one of ['1d', '5d']\n",
      "NSL.BO: Period 'max' is invalid, must be one of ['1d', '5d']\n",
      "PHILIPCARB.NS: No timezone found, symbol may be delisted\n",
      "NBL.BO: Period 'max' is invalid, must be one of ['1d', '5d']\n",
      "FLOMIC.BO: Period 'max' is invalid, must be one of ['1d', '5d']\n",
      "08GPG.BO: Period 'max' is invalid, must be one of ['1d', '5d']\n",
      "SHRIRAMEPC.NS: No timezone found, symbol may be delisted\n"
     ]
    },
    {
     "name": "stdout",
     "output_type": "stream",
     "text": [
      "completed 2700 in 659.9548828601837 secs\n"
     ]
    },
    {
     "name": "stderr",
     "output_type": "stream",
     "text": [
      "IRBINVIT-IV.NS: Period 'max' is invalid, must be one of ['1d', '5d']\n",
      "AMINTAN.BO: Period 'max' is invalid, must be one of ['1d', '5d']\n",
      "SPS.BO: No price data found, symbol may be delisted (1d 1925-04-08 -> 2024-03-14)\n",
      "JAINEX.BO: No price data found, symbol may be delisted (1d 1925-04-08 -> 2024-03-14)\n",
      "JLMORI.BO: No timezone found, symbol may be delisted\n",
      "PHOSPHATE.BO: Period 'max' is invalid, must be one of ['1d', '5d']\n",
      "NPST-SM.NS: Period 'max' is invalid, must be one of ['1d', '5d']\n",
      "CEBBCO.NS: No timezone found, symbol may be delisted\n"
     ]
    },
    {
     "name": "stdout",
     "output_type": "stream",
     "text": [
      "completed 2800 in 686.8039948940277 secs\n"
     ]
    },
    {
     "name": "stderr",
     "output_type": "stream",
     "text": [
      "MOM100.BO: Period 'max' is invalid, must be one of ['1d', '5d']\n",
      "SIFL.BO: No timezone found, symbol may be delisted\n",
      "SCANDENT.BO: No timezone found, symbol may be delisted\n",
      "STRATMONT.BO: Period 'max' is invalid, must be one of ['1d', '5d']\n",
      "BLOIN.BO: No price data found, symbol may be delisted (1d 1925-04-08 -> 2024-03-14)\n",
      "DECIPHER.BO: Period 'max' is invalid, must be one of ['1d', '5d']\n",
      "STARLENT.BO: Period 'max' is invalid, must be one of ['1d', '5d']\n",
      "DITCO.BO: No price data found, symbol may be delisted (1d 1925-04-08 -> 2024-03-14)\n"
     ]
    },
    {
     "name": "stdout",
     "output_type": "stream",
     "text": [
      "completed 2900 in 714.2349917888641 secs\n"
     ]
    },
    {
     "name": "stderr",
     "output_type": "stream",
     "text": [
      "MINDTREE.BO: No timezone found, symbol may be delisted\n",
      "ORACLECR.BO: No timezone found, symbol may be delisted\n",
      "PARVATI.BO: Period 'max' is invalid, must be one of ['1d', '5d']\n",
      "MDL-SM.NS: Period 'max' is invalid, must be one of ['1d', '5d']\n",
      "PROMAX.BO: Period 'max' is invalid, must be one of ['1d', '5d']\n",
      "SFPIL.BO: No price data found, symbol may be delisted (1d 1925-04-08 -> 2024-03-14)\n",
      "RMDRIP-SM.NS: Period 'max' is invalid, must be one of ['1d', '5d']\n",
      "08MPD.BO: Period 'max' is invalid, must be one of ['1d', '5d']\n",
      "DALALSTCOM.BO: No timezone found, symbol may be delisted\n",
      "TRITON.BO: No price data found, symbol may be delisted (1d 1925-04-08 -> 2024-03-14)\n",
      "REALSTR.BO: No timezone found, symbol may be delisted\n",
      "OMNIPOTENT.BO: Period 'max' is invalid, must be one of ['1d', '5d']\n",
      "RAPIDIN.BO: Period 'max' is invalid, must be one of ['1d', '5d']\n",
      "NETFNV20.NS: No timezone found, symbol may be delisted\n",
      "SORILINFRA.BO: No timezone found, symbol may be delisted\n"
     ]
    },
    {
     "name": "stdout",
     "output_type": "stream",
     "text": [
      "completed 3000 in 744.9146440029144 secs\n"
     ]
    },
    {
     "name": "stderr",
     "output_type": "stream",
     "text": [
      "NARAYANI.BO: No timezone found, symbol may be delisted\n",
      "DRL.BO: No price data found, symbol may be delisted (1d 1925-04-08 -> 2024-03-14)\n",
      "ACCORD-SM.NS: Period 'max' is invalid, must be one of ['1d', '5d']\n",
      "SUPPETRO.NS: No timezone found, symbol may be delisted\n",
      "SAVFI.BO: Period 'max' is invalid, must be one of ['1d', '5d']\n",
      "AANANDALAK.BO: No price data found, symbol may be delisted (1d 1925-04-08 -> 2024-03-14)\n",
      "AUTOPINS.BO: No price data found, symbol may be delisted (1d 1925-04-08 -> 2024-03-14)\n",
      "HIMTEK.BO: Period 'max' is invalid, must be one of ['1d', '5d']\n",
      "DATASOFT.BO: Period 'max' is invalid, must be one of ['1d', '5d']\n",
      "NIDHGRN.BO: Period 'max' is invalid, must be one of ['1d', '5d']\n",
      "11AGG.BO: Period 'max' is invalid, must be one of ['1d', '5d']\n",
      "KRIFILIND.BO: Period 'max' is invalid, must be one of ['1d', '5d']\n",
      "GCMSECU.BO: No price data found, symbol may be delisted (1d 1925-04-08 -> 2024-03-14)\n",
      "GYANDEV.BO: Period 'max' is invalid, must be one of ['1d', '5d']\n",
      "LELAVOIR.BO: Period 'max' is invalid, must be one of ['1d', '5d']\n"
     ]
    },
    {
     "name": "stdout",
     "output_type": "stream",
     "text": [
      "completed 3100 in 771.2568418979645 secs\n"
     ]
    },
    {
     "name": "stderr",
     "output_type": "stream",
     "text": [
      "NOVATEOR.BO: Period 'max' is invalid, must be one of ['1d', '5d']\n",
      "TRL.BO: Period 'max' is invalid, must be one of ['1d', '5d']\n",
      "GARMNTMNTR.BO: Period 'max' is invalid, must be one of ['1d', '5d']\n",
      "QUINT.BO: Period 'max' is invalid, must be one of ['1d', '5d']\n",
      "SEACOAST.BO: Period 'max' is invalid, must be one of ['1d', '5d']\n",
      "MONEYBOXX.BO: Period 'max' is invalid, must be one of ['1d', '5d']\n",
      "SHUBHAM.BO: Period 'max' is invalid, must be one of ['1d', '5d']\n",
      "GALADAFIN.BO: No price data found, symbol may be delisted (1d 1925-04-08 -> 2024-03-14)\n",
      "SKL.BO: Period 'max' is invalid, must be one of ['1d', '5d']\n",
      "GARODCH.BO: Period 'max' is invalid, must be one of ['1d', '5d']\n",
      "NAVKAR.BO: Period 'max' is invalid, must be one of ['1d', '5d']\n",
      "JTLINFRA.BO: No timezone found, symbol may be delisted\n",
      "EARUM.BO: Period 'max' is invalid, must be one of ['1d', '5d']\n",
      "GROWINGTON.BO: Period 'max' is invalid, must be one of ['1d', '5d']\n",
      "HPBL.BO: Period 'max' is invalid, must be one of ['1d', '5d']\n",
      "PANACHE.BO: No timezone found, symbol may be delisted\n"
     ]
    },
    {
     "name": "stdout",
     "output_type": "stream",
     "text": [
      "completed 3200 in 802.9978039264679 secs\n"
     ]
    },
    {
     "name": "stderr",
     "output_type": "stream",
     "text": [
      "GCKL.BO: Period 'max' is invalid, must be one of ['1d', '5d']\n",
      "APOORVA.BO: Period 'max' is invalid, must be one of ['1d', '5d']\n",
      "HARIAAPL.BO: Period 'max' is invalid, must be one of ['1d', '5d']\n",
      "EASTBUILD.BO: Period 'max' is invalid, must be one of ['1d', '5d']\n",
      "DRHABEEB.BO: No timezone found, symbol may be delisted\n",
      "SINTEX.NS: No timezone found, symbol may be delisted\n",
      "PALMJEWELS.BO: Period 'max' is invalid, must be one of ['1d', '5d']\n",
      "LTI.NS: No timezone found, symbol may be delisted\n",
      "NIEHSPJ.BO: Period 'max' is invalid, must be one of ['1d', '5d']\n",
      "POLYMAC.BO: No price data found, symbol may be delisted (1d 1925-04-08 -> 2024-03-14)\n",
      "UNICK.BO: Period 'max' is invalid, must be one of ['1d', '5d']\n",
      "WAAREE.BO: Period 'max' is invalid, must be one of ['1d', '5d']\n",
      "WELLNESS.BO: Period 'max' is invalid, must be one of ['1d', '5d']\n",
      "CINDRELL.BO: No price data found, symbol may be delisted (1d 1925-04-08 -> 2024-03-14)\n",
      "MOM50.BO: Period 'max' is invalid, must be one of ['1d', '5d']\n"
     ]
    },
    {
     "name": "stdout",
     "output_type": "stream",
     "text": [
      "completed 3300 in 828.9833378791809 secs\n"
     ]
    },
    {
     "name": "stderr",
     "output_type": "stream",
     "text": [
      "SRIPIPES.BO: No timezone found, symbol may be delisted\n",
      "TRANSWIND-SM.NS: Period 'max' is invalid, must be one of ['1d', '5d']\n",
      "MPCOSEMB.BO: No price data found, symbol may be delisted (1d 1925-04-08 -> 2024-03-14)\n",
      "KOTYARK-SM.NS: Period 'max' is invalid, must be one of ['1d', '5d']\n",
      "MAHICKRA-SM.NS: Period 'max' is invalid, must be one of ['1d', '5d']\n",
      "CLNINDIA.BO: No timezone found, symbol may be delisted\n",
      "MIL.BO: Period 'max' is invalid, must be one of ['1d', '5d']\n",
      "CELLA.BO: Period 'max' is invalid, must be one of ['1d', '5d']\n",
      "CAPFIN.BO: Period 'max' is invalid, must be one of ['1d', '5d']\n"
     ]
    },
    {
     "name": "stdout",
     "output_type": "stream",
     "text": [
      "completed 3400 in 856.3573939800262 secs\n"
     ]
    },
    {
     "name": "stderr",
     "output_type": "stream",
     "text": [
      "WESTLEIRES.BO: No price data found, symbol may be delisted (1d 1925-04-08 -> 2024-03-14)\n",
      "CPML.BO: Period 'max' is invalid, must be one of ['1d', '5d']\n",
      "AMBARPIL.BO: No price data found, symbol may be delisted (1d 1925-04-08 -> 2024-03-14)\n",
      "SARUPINDUS.BO: Period 'max' is invalid, must be one of ['1d', '5d']\n",
      "INDOUS.BO: Period 'max' is invalid, must be one of ['1d', '5d']\n",
      "RELIABLE-SM.NS: Period 'max' is invalid, must be one of ['1d', '5d']\n",
      "TOYAMIND.BO: No timezone found, symbol may be delisted\n",
      "MANGTIMBER.BO: No timezone found, symbol may be delisted\n",
      "SNIM.BO: Period 'max' is invalid, must be one of ['1d', '5d']\n",
      "MEL.BO: No timezone found, symbol may be delisted\n",
      "BPLPHARMA.BO: Period 'max' is invalid, must be one of ['1d', '5d']\n",
      "SUCHITRA.BO: No timezone found, symbol may be delisted\n",
      "SHRIRAMEPC.BO: No timezone found, symbol may be delisted\n",
      "IIFLWAM.NS: No timezone found, symbol may be delisted\n",
      "NATNLSTEEL.BO: No timezone found, symbol may be delisted\n",
      "ACTIVE.BO: Period 'max' is invalid, must be one of ['1d', '5d']\n"
     ]
    },
    {
     "name": "stdout",
     "output_type": "stream",
     "text": [
      "completed 3500 in 886.4416329860687 secs\n"
     ]
    },
    {
     "name": "stderr",
     "output_type": "stream",
     "text": [
      "MONOT.BO: No price data found, symbol may be delisted (1d 1925-04-08 -> 2024-03-14)\n",
      "SUUMAYA.BO: Period 'max' is invalid, must be one of ['1d', '5d']\n",
      "GCSL.BO: Period 'max' is invalid, must be one of ['1d', '5d']\n",
      "BFLAFL.BO: No price data found, symbol may be delisted (1d 1925-04-08 -> 2024-03-14)\n",
      "SALEM.BO: No price data found, symbol may be delisted (1d 1925-04-08 -> 2024-03-14)\n",
      "MINDTREE.NS: No timezone found, symbol may be delisted\n",
      "INTEGRA.BO: No timezone found, symbol may be delisted\n",
      "11MPR.BO: Period 'max' is invalid, must be one of ['1d', '5d']\n",
      "MUKANDENGG.BO: No timezone found, symbol may be delisted\n",
      "WAA.BO: Period 'max' is invalid, must be one of ['1d', '5d']\n",
      "LANDMARC.BO: No price data found, symbol may be delisted (1d 1925-04-08 -> 2024-03-14)\n"
     ]
    },
    {
     "name": "stdout",
     "output_type": "stream",
     "text": [
      "completed 3600 in 913.8611419200897 secs\n"
     ]
    },
    {
     "name": "stderr",
     "output_type": "stream",
     "text": [
      "INOXLEISUR.BO: No timezone found, symbol may be delisted\n",
      "NIESSPL.BO: Period 'max' is invalid, must be one of ['1d', '5d']\n",
      "ACRYSIL.NS: No timezone found, symbol may be delisted\n",
      "RAMSONS.BO: Period 'max' is invalid, must be one of ['1d', '5d']\n",
      "BALUFORGE.BO: Period 'max' is invalid, must be one of ['1d', '5d']\n",
      "VAXHS.BO: No price data found, symbol may be delisted (1d 1925-04-08 -> 2024-03-14)\n",
      "ASIIL.BO: Period 'max' is invalid, must be one of ['1d', '5d']\n",
      "COCKERILL.BO: Period 'max' is invalid, must be one of ['1d', '5d']\n",
      "ARUNIS.BO: Period 'max' is invalid, must be one of ['1d', '5d']\n"
     ]
    },
    {
     "name": "stdout",
     "output_type": "stream",
     "text": [
      "completed 3700 in 940.7557787895203 secs\n"
     ]
    },
    {
     "name": "stderr",
     "output_type": "stream",
     "text": [
      "PANTH.BO: Period 'max' is invalid, must be one of ['1d', '5d']\n",
      "CLNINDIA.NS: No timezone found, symbol may be delisted\n",
      "OSWALEA.BO: Period 'max' is invalid, must be one of ['1d', '5d']\n",
      "11AMD.BO: Period 'max' is invalid, must be one of ['1d', '5d']\n",
      "HFIL.BO: Period 'max' is invalid, must be one of ['1d', '5d']\n",
      "SICAPIT.BO: Period 'max' is invalid, must be one of ['1d', '5d']\n",
      "TCIDEVELOP.NS: No timezone found, symbol may be delisted\n",
      "VEGETABLE.BO: No timezone found, symbol may be delisted\n",
      "BLUECLOUDS.BO: No price data found, symbol may be delisted (1d 1925-04-08 -> 2024-03-14)\n"
     ]
    },
    {
     "name": "stdout",
     "output_type": "stream",
     "text": [
      "completed 3800 in 969.4503870010376 secs\n"
     ]
    },
    {
     "name": "stderr",
     "output_type": "stream",
     "text": [
      "GALLISPAT.BO: No timezone found, symbol may be delisted\n",
      "UTTAMSTL.NS: No timezone found, symbol may be delisted\n",
      "NATGENI.BO: No price data found, symbol may be delisted (1d 1925-04-08 -> 2024-03-14)\n",
      "ORCHASP.BO: Period 'max' is invalid, must be one of ['1d', '5d']\n",
      "CLARA.BO: Period 'max' is invalid, must be one of ['1d', '5d']\n",
      "NUWAY.BO: Period 'max' is invalid, must be one of ['1d', '5d']\n",
      "BHAGYAPROP.NS: No timezone found, symbol may be delisted\n",
      "RJSHAH.BO: Period 'max' is invalid, must be one of ['1d', '5d']\n",
      "AUROCOK.BO: No timezone found, symbol may be delisted\n",
      "11MPD.BO: Period 'max' is invalid, must be one of ['1d', '5d']\n"
     ]
    },
    {
     "name": "stdout",
     "output_type": "stream",
     "text": [
      "completed 3900 in 997.2861788272858 secs\n"
     ]
    },
    {
     "name": "stderr",
     "output_type": "stream",
     "text": [
      "ROHITFERRO.NS: No timezone found, symbol may be delisted\n",
      "DKEGL-SM.NS: Period 'max' is invalid, must be one of ['1d', '5d']\n",
      "NATNLSTEEL.NS: No timezone found, symbol may be delisted\n",
      "AMBANIORG-SM.NS: Period 'max' is invalid, must be one of ['1d', '5d']\n",
      "RAYLA.BO: No price data found, symbol may be delisted (1d 1925-04-08 -> 2024-03-14)\n",
      "KOBO.BO: Period 'max' is invalid, must be one of ['1d', '5d']\n",
      "KAYPOWR.BO: No price data found, symbol may be delisted (1d 1925-04-08 -> 2024-03-14)\n",
      "GALLISPAT.NS: No timezone found, symbol may be delisted\n",
      "SIPTL.BO: No price data found, symbol may be delisted (1d 1925-04-08 -> 2024-03-14)\n",
      "PASUSPG.BO: No price data found, symbol may be delisted (1d 1925-04-08 -> 2024-03-14)\n"
     ]
    },
    {
     "name": "stdout",
     "output_type": "stream",
     "text": [
      "completed 4000 in 1026.8681349754333 secs\n"
     ]
    },
    {
     "name": "stderr",
     "output_type": "stream",
     "text": [
      "WABCOINDIA.NS: No timezone found, symbol may be delisted\n",
      "NBVENTURES.NS: No timezone found, symbol may be delisted\n",
      "RISAINTL.BO: No price data found, symbol may be delisted (1d 1925-04-08 -> 2024-03-14)\n",
      "DEVKI.BO: No timezone found, symbol may be delisted\n",
      "SRTRANSFIN.BO: No timezone found, symbol may be delisted\n",
      "ZUARIGLOB.NS: No timezone found, symbol may be delisted\n",
      "THINKINK.BO: Period 'max' is invalid, must be one of ['1d', '5d']\n",
      "MINDAIND.NS: No timezone found, symbol may be delisted\n",
      "RAJGASES.BO: No price data found, symbol may be delisted (1d 1925-04-08 -> 2024-03-14)\n",
      "NIKKIGL.BO: No price data found, symbol may be delisted (1d 1925-04-08 -> 2024-03-14)\n",
      "TWL.NS: No timezone found, symbol may be delisted\n",
      "MADHURIND.BO: Period 'max' is invalid, must be one of ['1d', '5d']\n",
      "ARYAVAN.BO: Period 'max' is invalid, must be one of ['1d', '5d']\n"
     ]
    },
    {
     "name": "stdout",
     "output_type": "stream",
     "text": [
      "completed 4100 in 1060.2885949611664 secs\n"
     ]
    },
    {
     "name": "stderr",
     "output_type": "stream",
     "text": [
      "AQFINTECH.BO: Period 'max' is invalid, must be one of ['1d', '5d']\n",
      "SALAUTO.BO: Period 'max' is invalid, must be one of ['1d', '5d']\n",
      "RJBIOTECH.BO: Period 'max' is invalid, must be one of ['1d', '5d']\n",
      "MASPTOP50.BO: Period 'max' is invalid, must be one of ['1d', '5d']\n",
      "ASINPET.BO: No price data found, symbol may be delisted (1d 1925-04-08 -> 2024-03-14)\n",
      "RRIL.BO: Period 'max' is invalid, must be one of ['1d', '5d']\n",
      "TINNATFL.BO: Period 'max' is invalid, must be one of ['1d', '5d']\n",
      "PIONAGR.BO: No timezone found, symbol may be delisted\n",
      "BMW.BO: Period 'max' is invalid, must be one of ['1d', '5d']\n",
      "MRP.BO: Period 'max' is invalid, must be one of ['1d', '5d']\n",
      "OMKAR.BO: Period 'max' is invalid, must be one of ['1d', '5d']\n",
      "SUNCITYSY.BO: No price data found, symbol may be delisted (1d 1925-04-08 -> 2024-03-14)\n",
      "CIL.BO: Period 'max' is invalid, must be one of ['1d', '5d']\n",
      "RUCHI.NS: No timezone found, symbol may be delisted\n",
      "MPTODAY-SM.NS: Period 'max' is invalid, must be one of ['1d', '5d']\n",
      "WALPAR-SM.NS: Period 'max' is invalid, must be one of ['1d', '5d']\n",
      "GUJHYSPIN.BO: Period 'max' is invalid, must be one of ['1d', '5d']\n"
     ]
    },
    {
     "name": "stdout",
     "output_type": "stream",
     "text": [
      "completed 4200 in 1092.4641728401184 secs\n"
     ]
    },
    {
     "name": "stderr",
     "output_type": "stream",
     "text": [
      "SPACEINCUBA.BO: Period 'max' is invalid, must be one of ['1d', '5d']\n",
      "NAVKETAN.BO: No timezone found, symbol may be delisted\n",
      "DDIL.BO: No price data found, symbol may be delisted (1d 1925-04-08 -> 2024-03-14)\n",
      "MODISNME.BO: No timezone found, symbol may be delisted\n",
      "NLFL.BO: Period 'max' is invalid, must be one of ['1d', '5d']\n",
      "NIESSPM.BO: Period 'max' is invalid, must be one of ['1d', '5d']\n",
      "INTELLADV.BO: No timezone found, symbol may be delisted\n",
      "GENESIS.BO: Period 'max' is invalid, must be one of ['1d', '5d']\n",
      "MODULEX.BO: Period 'max' is invalid, must be one of ['1d', '5d']\n",
      "NOVAPUB.BO: No timezone found, symbol may be delisted\n",
      "PGINVIT-IV.NS: Period 'max' is invalid, must be one of ['1d', '5d']\n",
      "SRTRANSFIN.NS: No timezone found, symbol may be delisted\n"
     ]
    },
    {
     "name": "stdout",
     "output_type": "stream",
     "text": [
      "completed 4300 in 1122.9816539287567 secs\n"
     ]
    },
    {
     "name": "stderr",
     "output_type": "stream",
     "text": [
      "BALGOPAL.BO: Period 'max' is invalid, must be one of ['1d', '5d']\n",
      "MAHINDCIE.NS: No timezone found, symbol may be delisted\n",
      "CITIPOR.BO: Period 'max' is invalid, must be one of ['1d', '5d']\n",
      "NORRIS.BO: Period 'max' is invalid, must be one of ['1d', '5d']\n",
      "NXTDIGITAL.NS: No timezone found, symbol may be delisted\n",
      "MINDAIND.BO: No timezone found, symbol may be delisted\n",
      "IGCIL.BO: Period 'max' is invalid, must be one of ['1d', '5d']\n",
      "FLORATX.BO: Period 'max' is invalid, must be one of ['1d', '5d']\n",
      "GOLDCORP.BO: No timezone found, symbol may be delisted\n",
      "DECCAN.BO: Period 'max' is invalid, must be one of ['1d', '5d']\n",
      "OCTAL.BO: Period 'max' is invalid, must be one of ['1d', '5d']\n",
      "PDSMFL.BO: No timezone found, symbol may be delisted\n",
      "VISVEN.BO: Period 'max' is invalid, must be one of ['1d', '5d']\n"
     ]
    },
    {
     "name": "stdout",
     "output_type": "stream",
     "text": [
      "completed 4400 in 1153.81618475914 secs\n"
     ]
    },
    {
     "name": "stderr",
     "output_type": "stream",
     "text": [
      "SECL-SM.NS: Period 'max' is invalid, must be one of ['1d', '5d']\n",
      "AXISCETF.BO: Period 'max' is invalid, must be one of ['1d', '5d']\n",
      "SKIEL.BO: Period 'max' is invalid, must be one of ['1d', '5d']\n",
      "HITECHWIND.BO: Period 'max' is invalid, must be one of ['1d', '5d']\n",
      "OCTAVIUSPL.BO: Period 'max' is invalid, must be one of ['1d', '5d']\n",
      "AMANITRA.BO: No timezone found, symbol may be delisted\n",
      "ARTEMISMED.BO: Period 'max' is invalid, must be one of ['1d', '5d']\n",
      "HDFCMFGETF.BO: No timezone found, symbol may be delisted\n",
      "UTISXN50.BO: Period 'max' is invalid, must be one of ['1d', '5d']\n",
      "WITS.BO: Period 'max' is invalid, must be one of ['1d', '5d']\n",
      "DMR.BO: Period 'max' is invalid, must be one of ['1d', '5d']\n",
      "IRONWOOD.BO: Period 'max' is invalid, must be one of ['1d', '5d']\n",
      "ICICIB22.BO: No price data found, symbol may be delisted (1d 1925-04-08 -> 2024-03-14)\n",
      "ADISHAKTI.BO: Period 'max' is invalid, must be one of ['1d', '5d']\n"
     ]
    },
    {
     "name": "stdout",
     "output_type": "stream",
     "text": [
      "completed 4500 in 1181.1149399280548 secs\n"
     ]
    },
    {
     "name": "stderr",
     "output_type": "stream",
     "text": [
      "JAGJANANI.BO: Period 'max' is invalid, must be one of ['1d', '5d']\n",
      "TIAANC.BO: Period 'max' is invalid, must be one of ['1d', '5d']\n",
      "JAINAM-SM.NS: Period 'max' is invalid, must be one of ['1d', '5d']\n",
      "FUNDVISER.BO: Period 'max' is invalid, must be one of ['1d', '5d']\n",
      "CDG.BO: Period 'max' is invalid, must be one of ['1d', '5d']\n",
      "APLAYA.BO: No timezone found, symbol may be delisted\n",
      "STEPHANOTIS.BO: Period 'max' is invalid, must be one of ['1d', '5d']\n",
      "BINDALEXPO.BO: Period 'max' is invalid, must be one of ['1d', '5d']\n",
      "AMARDEE.BO: No timezone found, symbol may be delisted\n",
      "NETFMID150.NS: No timezone found, symbol may be delisted\n",
      "SHUBHLAXMI-SM.NS: Period 'max' is invalid, must be one of ['1d', '5d']\n"
     ]
    },
    {
     "name": "stdout",
     "output_type": "stream",
     "text": [
      "completed 4600 in 1210.8785710334778 secs\n"
     ]
    },
    {
     "name": "stderr",
     "output_type": "stream",
     "text": [
      "PRANAVSP.BO: No timezone found, symbol may be delisted\n",
      "CFL.BO: Period 'max' is invalid, must be one of ['1d', '5d']\n",
      "VISCO.BO: No price data found, symbol may be delisted (1d 1925-04-08 -> 2024-03-14)\n",
      "NIEHSPI.BO: Period 'max' is invalid, must be one of ['1d', '5d']\n",
      "EIKO.BO: Period 'max' is invalid, must be one of ['1d', '5d']\n",
      "ATHCON.BO: Period 'max' is invalid, must be one of ['1d', '5d']\n",
      "ASHOKRE.BO: Period 'max' is invalid, must be one of ['1d', '5d']\n",
      "SHUKJEW.BO: No price data found, symbol may be delisted (1d 1925-04-08 -> 2024-03-14)\n",
      "GSCLCEMENT.BO: No timezone found, symbol may be delisted\n",
      "AKASHDEEP.BO: No timezone found, symbol may be delisted\n",
      "PREVEST.BO: Period 'max' is invalid, must be one of ['1d', '5d']\n",
      "TARACHAND-SM.NS: Period 'max' is invalid, must be one of ['1d', '5d']\n",
      "SRD.BO: Period 'max' is invalid, must be one of ['1d', '5d']\n"
     ]
    },
    {
     "name": "stdout",
     "output_type": "stream",
     "text": [
      "completed 4700 in 1238.8212809562683 secs\n"
     ]
    },
    {
     "name": "stderr",
     "output_type": "stream",
     "text": [
      "JETMALL.BO: Period 'max' is invalid, must be one of ['1d', '5d']\n",
      "BURGERKING.NS: No timezone found, symbol may be delisted\n",
      "CHARMS.BO: Period 'max' is invalid, must be one of ['1d', '5d']\n",
      "MISQUITA.BO: Period 'max' is invalid, must be one of ['1d', '5d']\n",
      "BARTRONICS.NS: No timezone found, symbol may be delisted\n",
      "COX&KINGS.BO: No timezone found, symbol may be delisted\n",
      "NIEHSPD.BO: Period 'max' is invalid, must be one of ['1d', '5d']\n",
      "MOTHERSUMI.NS: No timezone found, symbol may be delisted\n",
      "KIMIABL.BO: Period 'max' is invalid, must be one of ['1d', '5d']\n",
      "CADILAHC.BO: No timezone found, symbol may be delisted\n",
      "KABRADG.BO: No price data found, symbol may be delisted (1d 1925-04-08 -> 2024-03-14)\n",
      "GOLDENCREST.BO: Period 'max' is invalid, must be one of ['1d', '5d']\n"
     ]
    },
    {
     "name": "stdout",
     "output_type": "stream",
     "text": [
      "completed 4800 in 1268.8767838478088 secs\n"
     ]
    },
    {
     "name": "stderr",
     "output_type": "stream",
     "text": [
      "STELLANT.BO: Period 'max' is invalid, must be one of ['1d', '5d']\n",
      "ADVIKLA.BO: No price data found, symbol may be delisted (1d 1925-04-08 -> 2024-03-14)\n",
      "HOTELRUGBY.NS: No timezone found, symbol may be delisted\n",
      "WORL.BO: Period 'max' is invalid, must be one of ['1d', '5d']\n",
      "SHIL.NS: No timezone found, symbol may be delisted\n",
      "SYLPH.BO: Period 'max' is invalid, must be one of ['1d', '5d']\n",
      "HAZOOR.BO: No price data found, symbol may be delisted (1d 1925-04-08 -> 2024-03-14)\n",
      "INNOVANA-SM.NS: Period 'max' is invalid, must be one of ['1d', '5d']\n",
      "HSIL.NS: No timezone found, symbol may be delisted\n",
      "NEXUSSURGL.BO: Period 'max' is invalid, must be one of ['1d', '5d']\n",
      "OASISEC.BO: No price data found, symbol may be delisted (1d 1925-04-08 -> 2024-03-14)\n",
      "JAIMATAG.BO: No price data found, symbol may be delisted (1d 1925-04-08 -> 2024-03-14)\n",
      "DOLFIN.BO: Period 'max' is invalid, must be one of ['1d', '5d']\n",
      "MODISNME.NS: No timezone found, symbol may be delisted\n"
     ]
    },
    {
     "name": "stdout",
     "output_type": "stream",
     "text": [
      "completed 4900 in 1297.6327979564667 secs\n"
     ]
    },
    {
     "name": "stderr",
     "output_type": "stream",
     "text": [
      "STARHFL.BO: Period 'max' is invalid, must be one of ['1d', '5d']\n",
      "TIRUPATI-SM.NS: Period 'max' is invalid, must be one of ['1d', '5d']\n",
      "SWADEIN.BO: Period 'max' is invalid, must be one of ['1d', '5d']\n",
      "TANVI.BO: Period 'max' is invalid, must be one of ['1d', '5d']\n",
      "KAPILCO.BO: No price data found, symbol may be delisted (1d 1925-04-08 -> 2024-03-14)\n",
      "CHANDNIMACH.BO: Period 'max' is invalid, must be one of ['1d', '5d']\n",
      "SRIPIPES.NS: No timezone found, symbol may be delisted\n"
     ]
    },
    {
     "name": "stdout",
     "output_type": "stream",
     "text": [
      "completed 5000 in 1323.8546979427338 secs\n"
     ]
    },
    {
     "name": "stderr",
     "output_type": "stream",
     "text": [
      "ISTRNETWK.BO: No price data found, symbol may be delisted (1d 1925-04-08 -> 2024-03-14)\n",
      "FIRSTFIN.BO: Period 'max' is invalid, must be one of ['1d', '5d']\n",
      "WELSPLSOL.BO: Period 'max' is invalid, must be one of ['1d', '5d']\n",
      "GMPL.BO: Period 'max' is invalid, must be one of ['1d', '5d']\n",
      "INNOVATIVE-SM.NS: No timezone found, symbol may be delisted\n",
      "CHCL.BO: Period 'max' is invalid, must be one of ['1d', '5d']\n",
      "NBFOOT.BO: No price data found, symbol may be delisted (1d 1925-04-08 -> 2024-03-14)\n",
      "SAMOR.BO: Period 'max' is invalid, must be one of ['1d', '5d']\n",
      "BANSTEA.BO: Period 'max' is invalid, must be one of ['1d', '5d']\n",
      "JETKNIT-SM.NS: Period 'max' is invalid, must be one of ['1d', '5d']\n"
     ]
    },
    {
     "name": "stdout",
     "output_type": "stream",
     "text": [
      "completed 5100 in 1348.756196975708 secs\n"
     ]
    },
    {
     "name": "stderr",
     "output_type": "stream",
     "text": [
      "ACRYSIL.BO: No timezone found, symbol may be delisted\n",
      "SGFRL.BO: Period 'max' is invalid, must be one of ['1d', '5d']\n",
      "QUADPRO-SM.NS: Period 'max' is invalid, must be one of ['1d', '5d']\n",
      "DEL.BO: Period 'max' is invalid, must be one of ['1d', '5d']\n",
      "PDSMFL.NS: No timezone found, symbol may be delisted\n",
      "DUROPLY.BO: Period 'max' is invalid, must be one of ['1d', '5d']\n",
      "TRANSFIN.BO: No timezone found, symbol may be delisted\n",
      "ROHITFERRO.BO: No timezone found, symbol may be delisted\n",
      "ONEGLOBAL.BO: Period 'max' is invalid, must be one of ['1d', '5d']\n",
      "KLIFESTYL.BO: No price data found, symbol may be delisted (1d 1925-04-08 -> 2024-03-14)\n",
      "WORTH.BO: No price data found, symbol may be delisted (1d 1925-04-08 -> 2024-03-14)\n",
      "SUPRBPA.BO: No timezone found, symbol may be delisted\n"
     ]
    },
    {
     "name": "stdout",
     "output_type": "stream",
     "text": [
      "completed 5200 in 1379.1340539455414 secs\n"
     ]
    },
    {
     "name": "stderr",
     "output_type": "stream",
     "text": [
      "CHANDNI.BO: No timezone found, symbol may be delisted\n",
      "QGO.BO: Period 'max' is invalid, must be one of ['1d', '5d']\n",
      "SMARTFIN.BO: Period 'max' is invalid, must be one of ['1d', '5d']\n",
      "CADILAHC.NS: No timezone found, symbol may be delisted\n",
      "PERFECT-SM.NS: Period 'max' is invalid, must be one of ['1d', '5d']\n",
      "ANUROOP.BO: Period 'max' is invalid, must be one of ['1d', '5d']\n"
     ]
    },
    {
     "name": "stdout",
     "output_type": "stream",
     "text": [
      "completed 5300 in 1407.106508731842 secs\n"
     ]
    },
    {
     "name": "stderr",
     "output_type": "stream",
     "text": [
      "BEWLTD-SM.NS: Period 'max' is invalid, must be one of ['1d', '5d']\n",
      "MILTON-SM.NS: Period 'max' is invalid, must be one of ['1d', '5d']\n",
      "PATSPINLTD.NS: No timezone found, symbol may be delisted\n",
      "KREONFIN.BO: Period 'max' is invalid, must be one of ['1d', '5d']\n",
      "NATHIND.BO: Period 'max' is invalid, must be one of ['1d', '5d']\n",
      "SARDAPPR.BO: No timezone found, symbol may be delisted\n",
      "KRRAIL.BO: Period 'max' is invalid, must be one of ['1d', '5d']\n",
      "PASHUPATI-SM.NS: Period 'max' is invalid, must be one of ['1d', '5d']\n",
      "KALPATPOWR.NS: No timezone found, symbol may be delisted\n",
      "WARDINMOBI.BO: Period 'max' is invalid, must be one of ['1d', '5d']\n",
      "VASA-ST.NS: Period 'max' is invalid, must be one of ['1d', '5d']\n",
      "SHIVAEXPO.BO: Period 'max' is invalid, must be one of ['1d', '5d']\n"
     ]
    },
    {
     "name": "stdout",
     "output_type": "stream",
     "text": [
      "completed 5400 in 1437.3684878349304 secs\n"
     ]
    },
    {
     "name": "stderr",
     "output_type": "stream",
     "text": [
      "LEDOTEA.BO: No timezone found, symbol may be delisted\n",
      "ABHIFIN.BO: Period 'max' is invalid, must be one of ['1d', '5d']\n",
      "PACL.BO: No timezone found, symbol may be delisted\n"
     ]
    }
   ],
   "source": [
    "histories = []\n",
    "import time\n",
    "invalid_symbols = []\n",
    "s = time.time()\n",
    "completed = 0\n",
    "for sym in symbols:\n",
    "    cur_ticker = yf.Ticker(sym)\n",
    "    cur_history_df = cur_ticker.history(period='max').reset_index()\n",
    "    if cur_history_df.empty:\n",
    "        invalid_symbols.append(sym)\n",
    "    else:\n",
    "        cur_history_df['symbol'] = sym\n",
    "        histories.append(cur_history_df)\n",
    "    completed += 1\n",
    "    if completed % 100 == 0:\n",
    "        print(f'completed {completed} in {time.time() - s} secs')\n",
    "e = time.time()"
   ]
  },
  {
   "cell_type": "code",
   "execution_count": 28,
   "id": "6f59fafd-eee1-4c63-9893-4ef817fe309c",
   "metadata": {
    "tags": []
   },
   "outputs": [
    {
     "data": {
      "text/plain": [
       "500"
      ]
     },
     "execution_count": 28,
     "metadata": {},
     "output_type": "execute_result"
    }
   ],
   "source": [
    "len(invalid_symbols)"
   ]
  },
  {
   "cell_type": "code",
   "execution_count": 29,
   "id": "10447c01-3b4c-4c42-b34d-d7879b18eacd",
   "metadata": {
    "tags": []
   },
   "outputs": [
    {
     "data": {
      "text/plain": [
       "4922"
      ]
     },
     "execution_count": 29,
     "metadata": {},
     "output_type": "execute_result"
    }
   ],
   "source": [
    "len(histories)"
   ]
  },
  {
   "cell_type": "code",
   "execution_count": 31,
   "id": "219d10dc-109d-4b2f-adb2-211f5444b430",
   "metadata": {
    "tags": []
   },
   "outputs": [],
   "source": [
    "import pandas as pd"
   ]
  },
  {
   "cell_type": "code",
   "execution_count": 32,
   "id": "ef67a990-f50f-43bf-80af-41f4d6d186ed",
   "metadata": {
    "tags": []
   },
   "outputs": [],
   "source": [
    "valid_ticker_histories = pd.concat(histories)"
   ]
  },
  {
   "cell_type": "code",
   "execution_count": 33,
   "id": "bc825132-1588-4fe6-a2e8-ed399e7863d7",
   "metadata": {
    "tags": []
   },
   "outputs": [
    {
     "data": {
      "text/plain": [
       "19039056"
      ]
     },
     "execution_count": 33,
     "metadata": {},
     "output_type": "execute_result"
    }
   ],
   "source": [
    "len(valid_ticker_histories)"
   ]
  },
  {
   "cell_type": "code",
   "execution_count": 35,
   "id": "452ff8da-3738-4b6f-8c5c-c902557bd432",
   "metadata": {
    "tags": []
   },
   "outputs": [
    {
     "data": {
      "text/plain": [
       "Date            datetime64[ns, Asia/Kolkata]\n",
       "Open                                 float64\n",
       "High                                 float64\n",
       "Low                                  float64\n",
       "Close                                float64\n",
       "Volume                                 int64\n",
       "Dividends                            float64\n",
       "Stock Splits                         float64\n",
       "symbol                                object\n",
       "dtype: object"
      ]
     },
     "execution_count": 35,
     "metadata": {},
     "output_type": "execute_result"
    }
   ],
   "source": [
    "valid_ticker_histories.dtypes"
   ]
  },
  {
   "cell_type": "code",
   "execution_count": 36,
   "id": "d044f5d1-ef08-4e04-a554-5ef647cc4d6d",
   "metadata": {
    "tags": []
   },
   "outputs": [
    {
     "data": {
      "text/plain": [
       "Date              0\n",
       "Open            258\n",
       "High            258\n",
       "Low             258\n",
       "Close           257\n",
       "Volume            0\n",
       "Dividends         0\n",
       "Stock Splits      0\n",
       "symbol            0\n",
       "dtype: int64"
      ]
     },
     "execution_count": 36,
     "metadata": {},
     "output_type": "execute_result"
    }
   ],
   "source": [
    "valid_ticker_histories.isnull().sum()"
   ]
  },
  {
   "cell_type": "code",
   "execution_count": 37,
   "id": "dcbf2edb-c11e-4435-a8f2-b1de1f21f5c2",
   "metadata": {
    "tags": []
   },
   "outputs": [
    {
     "data": {
      "text/html": [
       "<div>\n",
       "<style scoped>\n",
       "    .dataframe tbody tr th:only-of-type {\n",
       "        vertical-align: middle;\n",
       "    }\n",
       "\n",
       "    .dataframe tbody tr th {\n",
       "        vertical-align: top;\n",
       "    }\n",
       "\n",
       "    .dataframe thead th {\n",
       "        text-align: right;\n",
       "    }\n",
       "</style>\n",
       "<table border=\"1\" class=\"dataframe\">\n",
       "  <thead>\n",
       "    <tr style=\"text-align: right;\">\n",
       "      <th></th>\n",
       "      <th>Date</th>\n",
       "      <th>Open</th>\n",
       "      <th>High</th>\n",
       "      <th>Low</th>\n",
       "      <th>Close</th>\n",
       "      <th>Volume</th>\n",
       "      <th>Dividends</th>\n",
       "      <th>Stock Splits</th>\n",
       "      <th>symbol</th>\n",
       "    </tr>\n",
       "  </thead>\n",
       "  <tbody>\n",
       "    <tr>\n",
       "      <th>1532</th>\n",
       "      <td>2013-09-18 00:00:00+05:30</td>\n",
       "      <td>NaN</td>\n",
       "      <td>NaN</td>\n",
       "      <td>NaN</td>\n",
       "      <td>NaN</td>\n",
       "      <td>0</td>\n",
       "      <td>0.10000</td>\n",
       "      <td>0.0</td>\n",
       "      <td>HINDNATGLS.BO</td>\n",
       "    </tr>\n",
       "    <tr>\n",
       "      <th>1449</th>\n",
       "      <td>2005-07-28 00:00:00+05:30</td>\n",
       "      <td>NaN</td>\n",
       "      <td>NaN</td>\n",
       "      <td>NaN</td>\n",
       "      <td>NaN</td>\n",
       "      <td>0</td>\n",
       "      <td>1.20000</td>\n",
       "      <td>0.0</td>\n",
       "      <td>RELINFRA.BO</td>\n",
       "    </tr>\n",
       "    <tr>\n",
       "      <th>3966</th>\n",
       "      <td>2023-07-27 00:00:00+05:30</td>\n",
       "      <td>NaN</td>\n",
       "      <td>NaN</td>\n",
       "      <td>NaN</td>\n",
       "      <td>NaN</td>\n",
       "      <td>0</td>\n",
       "      <td>3.00000</td>\n",
       "      <td>0.0</td>\n",
       "      <td>PUNJABCHEM.NS</td>\n",
       "    </tr>\n",
       "    <tr>\n",
       "      <th>3549</th>\n",
       "      <td>2023-07-11 00:00:00+05:30</td>\n",
       "      <td>NaN</td>\n",
       "      <td>NaN</td>\n",
       "      <td>NaN</td>\n",
       "      <td>NaN</td>\n",
       "      <td>0</td>\n",
       "      <td>0.10000</td>\n",
       "      <td>0.0</td>\n",
       "      <td>SATINDLTD.BO</td>\n",
       "    </tr>\n",
       "    <tr>\n",
       "      <th>1083</th>\n",
       "      <td>2005-04-20 00:00:00+05:30</td>\n",
       "      <td>NaN</td>\n",
       "      <td>NaN</td>\n",
       "      <td>NaN</td>\n",
       "      <td>NaN</td>\n",
       "      <td>0</td>\n",
       "      <td>0.00000</td>\n",
       "      <td>0.7</td>\n",
       "      <td>WELCORP.BO</td>\n",
       "    </tr>\n",
       "    <tr>\n",
       "      <th>...</th>\n",
       "      <td>...</td>\n",
       "      <td>...</td>\n",
       "      <td>...</td>\n",
       "      <td>...</td>\n",
       "      <td>...</td>\n",
       "      <td>...</td>\n",
       "      <td>...</td>\n",
       "      <td>...</td>\n",
       "      <td>...</td>\n",
       "    </tr>\n",
       "    <tr>\n",
       "      <th>2135</th>\n",
       "      <td>2016-03-17 00:00:00+05:30</td>\n",
       "      <td>NaN</td>\n",
       "      <td>NaN</td>\n",
       "      <td>NaN</td>\n",
       "      <td>NaN</td>\n",
       "      <td>0</td>\n",
       "      <td>4.33333</td>\n",
       "      <td>0.0</td>\n",
       "      <td>IMPAL.BO</td>\n",
       "    </tr>\n",
       "    <tr>\n",
       "      <th>409</th>\n",
       "      <td>2005-07-28 00:00:00+05:30</td>\n",
       "      <td>NaN</td>\n",
       "      <td>NaN</td>\n",
       "      <td>NaN</td>\n",
       "      <td>NaN</td>\n",
       "      <td>0</td>\n",
       "      <td>0.90000</td>\n",
       "      <td>0.0</td>\n",
       "      <td>TVSELECT.BO</td>\n",
       "    </tr>\n",
       "    <tr>\n",
       "      <th>1379</th>\n",
       "      <td>2005-07-08 00:00:00+05:30</td>\n",
       "      <td>NaN</td>\n",
       "      <td>NaN</td>\n",
       "      <td>NaN</td>\n",
       "      <td>NaN</td>\n",
       "      <td>0</td>\n",
       "      <td>0.00000</td>\n",
       "      <td>5.0</td>\n",
       "      <td>HCL-INSYS.BO</td>\n",
       "    </tr>\n",
       "    <tr>\n",
       "      <th>3</th>\n",
       "      <td>2011-10-10 00:00:00+05:30</td>\n",
       "      <td>NaN</td>\n",
       "      <td>NaN</td>\n",
       "      <td>NaN</td>\n",
       "      <td>NaN</td>\n",
       "      <td>0</td>\n",
       "      <td>0.00000</td>\n",
       "      <td>5.0</td>\n",
       "      <td>ALANKIT.BO</td>\n",
       "    </tr>\n",
       "    <tr>\n",
       "      <th>1021</th>\n",
       "      <td>2005-07-28 00:00:00+05:30</td>\n",
       "      <td>NaN</td>\n",
       "      <td>NaN</td>\n",
       "      <td>NaN</td>\n",
       "      <td>NaN</td>\n",
       "      <td>0</td>\n",
       "      <td>3.00000</td>\n",
       "      <td>0.0</td>\n",
       "      <td>GODREJCP.BO</td>\n",
       "    </tr>\n",
       "  </tbody>\n",
       "</table>\n",
       "<p>258 rows × 9 columns</p>\n",
       "</div>"
      ],
      "text/plain": [
       "                          Date  Open  High  Low  Close  Volume  Dividends  \\\n",
       "1532 2013-09-18 00:00:00+05:30   NaN   NaN  NaN    NaN       0    0.10000   \n",
       "1449 2005-07-28 00:00:00+05:30   NaN   NaN  NaN    NaN       0    1.20000   \n",
       "3966 2023-07-27 00:00:00+05:30   NaN   NaN  NaN    NaN       0    3.00000   \n",
       "3549 2023-07-11 00:00:00+05:30   NaN   NaN  NaN    NaN       0    0.10000   \n",
       "1083 2005-04-20 00:00:00+05:30   NaN   NaN  NaN    NaN       0    0.00000   \n",
       "...                        ...   ...   ...  ...    ...     ...        ...   \n",
       "2135 2016-03-17 00:00:00+05:30   NaN   NaN  NaN    NaN       0    4.33333   \n",
       "409  2005-07-28 00:00:00+05:30   NaN   NaN  NaN    NaN       0    0.90000   \n",
       "1379 2005-07-08 00:00:00+05:30   NaN   NaN  NaN    NaN       0    0.00000   \n",
       "3    2011-10-10 00:00:00+05:30   NaN   NaN  NaN    NaN       0    0.00000   \n",
       "1021 2005-07-28 00:00:00+05:30   NaN   NaN  NaN    NaN       0    3.00000   \n",
       "\n",
       "      Stock Splits         symbol  \n",
       "1532           0.0  HINDNATGLS.BO  \n",
       "1449           0.0    RELINFRA.BO  \n",
       "3966           0.0  PUNJABCHEM.NS  \n",
       "3549           0.0   SATINDLTD.BO  \n",
       "1083           0.7     WELCORP.BO  \n",
       "...            ...            ...  \n",
       "2135           0.0       IMPAL.BO  \n",
       "409            0.0    TVSELECT.BO  \n",
       "1379           5.0   HCL-INSYS.BO  \n",
       "3              5.0     ALANKIT.BO  \n",
       "1021           0.0    GODREJCP.BO  \n",
       "\n",
       "[258 rows x 9 columns]"
      ]
     },
     "execution_count": 37,
     "metadata": {},
     "output_type": "execute_result"
    }
   ],
   "source": [
    "valid_ticker_histories[valid_ticker_histories.Open.isnull()]"
   ]
  },
  {
   "cell_type": "code",
   "execution_count": 41,
   "id": "86d32280-09b3-4736-8fe3-55cd50f907d9",
   "metadata": {
    "tags": []
   },
   "outputs": [],
   "source": [
    "valid_ticker_histories = valid_ticker_histories.dropna(how='any')"
   ]
  },
  {
   "cell_type": "code",
   "execution_count": 42,
   "id": "a1256174-fcb8-485a-82e3-27bad2ecb20e",
   "metadata": {
    "tags": []
   },
   "outputs": [],
   "source": [
    "valid_ticker_histories = valid_ticker_histories[['symbol', 'Date', 'Open', 'Close', 'High', 'Low', 'Volume', 'Dividends', 'Stock Splits']]"
   ]
  },
  {
   "cell_type": "markdown",
   "id": "cc3bc039-4b1a-46ef-bb10-443df2ec9282",
   "metadata": {},
   "source": [
    "#### Write to PG"
   ]
  },
  {
   "cell_type": "code",
   "execution_count": 55,
   "id": "191d7d9c-d24f-4f88-a935-93182f5f8ab7",
   "metadata": {
    "tags": []
   },
   "outputs": [],
   "source": [
    "def save_ticker_histories(df):\n",
    "    def chunked_data(data, size):\n",
    "        \"\"\"Yield successive chunk_size-sized chunks from data.\"\"\"\n",
    "        for i in range(0, len(data), size):\n",
    "            yield data[i:i + size]\n",
    "\n",
    "    with PostgresDatabaseOperation() as cursor:\n",
    "        # Prepare data for bulk insert\n",
    "        bulk_data = []\n",
    "        for idx, row in df.iterrows():\n",
    "            bulk_data.append((\n",
    "                row['symbol'],\n",
    "                row['Date'],\n",
    "                row['Open'],\n",
    "                row['Close'],\n",
    "                row['High'],\n",
    "                row['Low'],\n",
    "                row['Volume'],\n",
    "                row['Dividends'],\n",
    "                row['Stock Splits']\n",
    "            ))\n",
    "\n",
    "        # Bulk insert in chunks\n",
    "        insert_sql = f\"\"\"INSERT INTO stock_history \n",
    "                         (symbol, date, open, close, high, low, volume, dividends, stock_splits)\n",
    "                         VALUES (%s, %s, %s, %s, %s, %s, %s, %s, %s)\n",
    "                      \"\"\"\n",
    "        chunk_size = 10000\n",
    "        completed = 0\n",
    "        for chunk in chunked_data(bulk_data, chunk_size):\n",
    "            cursor.executemany(insert_sql, chunk)\n",
    "            completed += 1\n",
    "            print(f'inserted {completed}')\n",
    "        # cursor.execute(\"BEGIN\")\n",
    "        # # Rename tables\n",
    "        # cursor.execute(\"ALTER TABLE article_to_cluster_mapping RENAME TO article_to_cluster_mapping_old\")\n",
    "        # cursor.execute(\"COMMIT\")\n",
    "        # # cursor.execute(\"CREATE TABLE article_to_cluster_mapping AS TABLE temp_article_to_cluster_mapping\")\n",
    "        # cursor.execute(\"ALTER TABLE temp_article_to_cluster_mapping RENAME TO article_to_cluster_mapping\")\n",
    "        # cursor.execute(\"DROP TABLE article_to_cluster_mapping_old CASCADE\")"
   ]
  },
  {
   "cell_type": "code",
   "execution_count": 53,
   "id": "acc1d925-52da-4a09-af1b-652b346e1ea7",
   "metadata": {
    "tags": []
   },
   "outputs": [],
   "source": [
    "import time"
   ]
  },
  {
   "cell_type": "code",
   "execution_count": 76,
   "id": "f9a75cd8-f1fa-416c-bb23-68be6fa5995b",
   "metadata": {
    "tags": []
   },
   "outputs": [],
   "source": [
    "from datetime import datetime"
   ]
  },
  {
   "cell_type": "code",
   "execution_count": 79,
   "id": "a4a645b5-dfd6-4d81-9d5f-3de14e97f517",
   "metadata": {
    "tags": []
   },
   "outputs": [
    {
     "name": "stdout",
     "output_type": "stream",
     "text": [
      "2024-03-14 17:55:24.351082+05:30\n"
     ]
    }
   ],
   "source": [
    "from datetime import datetime\n",
    "import pytz\n",
    "\n",
    "# Specify your timezone\n",
    "timezone = pytz.timezone('Asia/Kolkata')\n",
    "\n",
    "# Get the current date and time with timezone\n",
    "current_time_with_timezone = datetime.now(timezone)\n",
    "\n",
    "print(current_time_with_timezone)"
   ]
  },
  {
   "cell_type": "code",
   "execution_count": 80,
   "id": "260f44e3-2ef2-4b36-bd0b-cd47eba304a5",
   "metadata": {
    "tags": []
   },
   "outputs": [],
   "source": [
    "valid_ticker_histories['created_at'] = datetime.now(timezone)"
   ]
  },
  {
   "cell_type": "code",
   "execution_count": 74,
   "id": "9267cf3e-228c-4a34-b438-53a9e1884359",
   "metadata": {
    "tags": []
   },
   "outputs": [],
   "source": [
    "valid_ticker_histories['Open'] = valid_ticker_histories['Open'].astype('float')\n",
    "valid_ticker_histories['Close'] = valid_ticker_histories['Close'].astype('float')\n",
    "valid_ticker_histories['High'] = valid_ticker_histories['High'].astype('float')\n",
    "valid_ticker_histories['Low'] = valid_ticker_histories['Low'].astype('float')"
   ]
  },
  {
   "cell_type": "code",
   "execution_count": 82,
   "id": "50f80374-da3a-4d57-bc8f-897e2a7b916e",
   "metadata": {
    "tags": []
   },
   "outputs": [],
   "source": [
    "from io import StringIO\n",
    "output = StringIO()"
   ]
  },
  {
   "cell_type": "code",
   "execution_count": 83,
   "id": "4ff2d2b1-31d3-4d5e-85e2-98600b592981",
   "metadata": {
    "tags": []
   },
   "outputs": [],
   "source": [
    "valid_ticker_histories.to_csv(output, sep='\\t', header=False, index=False)"
   ]
  },
  {
   "cell_type": "code",
   "execution_count": 84,
   "id": "4f8c6f2e-f24a-4e9a-a4fe-c75d72a56f12",
   "metadata": {
    "tags": []
   },
   "outputs": [
    {
     "data": {
      "text/plain": [
       "0"
      ]
     },
     "execution_count": 84,
     "metadata": {},
     "output_type": "execute_result"
    }
   ],
   "source": [
    "output.seek(0)"
   ]
  },
  {
   "cell_type": "code",
   "execution_count": 86,
   "id": "6b00e948-b89e-4b29-ad1e-7ab549a4f412",
   "metadata": {
    "tags": []
   },
   "outputs": [],
   "source": [
    "from sql.PostgresDatabaseOperation import PostgresDatabaseOperation"
   ]
  },
  {
   "cell_type": "code",
   "execution_count": 87,
   "id": "107cda6a-f4c1-4c2e-980e-063508fdb746",
   "metadata": {
    "tags": []
   },
   "outputs": [],
   "source": [
    "s = time.time()\n",
    "with PostgresDatabaseOperation() as cursor:\n",
    "    cursor.copy_from(output, 'stock_history', null='')\n",
    "e = time.time()"
   ]
  },
  {
   "cell_type": "code",
   "execution_count": 88,
   "id": "84ee93cc-c59e-45d6-b306-cfc4ff1969d0",
   "metadata": {
    "tags": []
   },
   "outputs": [
    {
     "data": {
      "text/plain": [
       "526.2206599712372"
      ]
     },
     "execution_count": 88,
     "metadata": {},
     "output_type": "execute_result"
    }
   ],
   "source": [
    "e-s"
   ]
  },
  {
   "cell_type": "markdown",
   "id": "419bee65-55f7-405f-8365-73368b525184",
   "metadata": {},
   "source": [
    "### NSE History"
   ]
  },
  {
   "cell_type": "code",
   "execution_count": 90,
   "id": "053532ca-221e-48a3-a45a-b908f3562fed",
   "metadata": {
    "tags": []
   },
   "outputs": [],
   "source": [
    "nse_ticker = yf.Ticker('^NSEI')\n",
    "nse_history_df = nse_ticker.history(period='max').reset_index()"
   ]
  },
  {
   "cell_type": "code",
   "execution_count": 91,
   "id": "5485c679-81d6-463f-9dfa-8d4e1d7ba611",
   "metadata": {
    "tags": []
   },
   "outputs": [
    {
     "data": {
      "text/plain": [
       "4043"
      ]
     },
     "execution_count": 91,
     "metadata": {},
     "output_type": "execute_result"
    }
   ],
   "source": [
    "len(nse_history_df)"
   ]
  },
  {
   "cell_type": "code",
   "execution_count": 93,
   "id": "6072919a-be48-4bba-a27f-0f4b3362b472",
   "metadata": {
    "tags": []
   },
   "outputs": [
    {
     "data": {
      "text/html": [
       "<div>\n",
       "<style scoped>\n",
       "    .dataframe tbody tr th:only-of-type {\n",
       "        vertical-align: middle;\n",
       "    }\n",
       "\n",
       "    .dataframe tbody tr th {\n",
       "        vertical-align: top;\n",
       "    }\n",
       "\n",
       "    .dataframe thead th {\n",
       "        text-align: right;\n",
       "    }\n",
       "</style>\n",
       "<table border=\"1\" class=\"dataframe\">\n",
       "  <thead>\n",
       "    <tr style=\"text-align: right;\">\n",
       "      <th></th>\n",
       "      <th>Date</th>\n",
       "      <th>Open</th>\n",
       "      <th>High</th>\n",
       "      <th>Low</th>\n",
       "      <th>Close</th>\n",
       "      <th>Volume</th>\n",
       "      <th>Dividends</th>\n",
       "      <th>Stock Splits</th>\n",
       "    </tr>\n",
       "  </thead>\n",
       "  <tbody>\n",
       "    <tr>\n",
       "      <th>0</th>\n",
       "      <td>2007-09-17 00:00:00+05:30</td>\n",
       "      <td>4518.450195</td>\n",
       "      <td>4549.049805</td>\n",
       "      <td>4482.850098</td>\n",
       "      <td>4494.649902</td>\n",
       "      <td>0</td>\n",
       "      <td>0.0</td>\n",
       "      <td>0.0</td>\n",
       "    </tr>\n",
       "    <tr>\n",
       "      <th>1</th>\n",
       "      <td>2007-09-18 00:00:00+05:30</td>\n",
       "      <td>4494.100098</td>\n",
       "      <td>4551.799805</td>\n",
       "      <td>4481.549805</td>\n",
       "      <td>4546.200195</td>\n",
       "      <td>0</td>\n",
       "      <td>0.0</td>\n",
       "      <td>0.0</td>\n",
       "    </tr>\n",
       "    <tr>\n",
       "      <th>2</th>\n",
       "      <td>2007-09-19 00:00:00+05:30</td>\n",
       "      <td>4550.250000</td>\n",
       "      <td>4739.000000</td>\n",
       "      <td>4550.250000</td>\n",
       "      <td>4732.350098</td>\n",
       "      <td>0</td>\n",
       "      <td>0.0</td>\n",
       "      <td>0.0</td>\n",
       "    </tr>\n",
       "    <tr>\n",
       "      <th>3</th>\n",
       "      <td>2007-09-20 00:00:00+05:30</td>\n",
       "      <td>4734.850098</td>\n",
       "      <td>4760.850098</td>\n",
       "      <td>4721.149902</td>\n",
       "      <td>4747.549805</td>\n",
       "      <td>0</td>\n",
       "      <td>0.0</td>\n",
       "      <td>0.0</td>\n",
       "    </tr>\n",
       "    <tr>\n",
       "      <th>4</th>\n",
       "      <td>2007-09-21 00:00:00+05:30</td>\n",
       "      <td>4752.950195</td>\n",
       "      <td>4855.700195</td>\n",
       "      <td>4733.700195</td>\n",
       "      <td>4837.549805</td>\n",
       "      <td>0</td>\n",
       "      <td>0.0</td>\n",
       "      <td>0.0</td>\n",
       "    </tr>\n",
       "    <tr>\n",
       "      <th>...</th>\n",
       "      <td>...</td>\n",
       "      <td>...</td>\n",
       "      <td>...</td>\n",
       "      <td>...</td>\n",
       "      <td>...</td>\n",
       "      <td>...</td>\n",
       "      <td>...</td>\n",
       "      <td>...</td>\n",
       "    </tr>\n",
       "    <tr>\n",
       "      <th>4038</th>\n",
       "      <td>2024-03-07 00:00:00+05:30</td>\n",
       "      <td>22505.300781</td>\n",
       "      <td>22525.650391</td>\n",
       "      <td>22430.000000</td>\n",
       "      <td>22493.550781</td>\n",
       "      <td>379900</td>\n",
       "      <td>0.0</td>\n",
       "      <td>0.0</td>\n",
       "    </tr>\n",
       "    <tr>\n",
       "      <th>4039</th>\n",
       "      <td>2024-03-11 00:00:00+05:30</td>\n",
       "      <td>22517.500000</td>\n",
       "      <td>22526.599609</td>\n",
       "      <td>22307.250000</td>\n",
       "      <td>22332.650391</td>\n",
       "      <td>277900</td>\n",
       "      <td>0.0</td>\n",
       "      <td>0.0</td>\n",
       "    </tr>\n",
       "    <tr>\n",
       "      <th>4040</th>\n",
       "      <td>2024-03-12 00:00:00+05:30</td>\n",
       "      <td>22334.449219</td>\n",
       "      <td>22452.550781</td>\n",
       "      <td>22256.000000</td>\n",
       "      <td>22335.699219</td>\n",
       "      <td>299200</td>\n",
       "      <td>0.0</td>\n",
       "      <td>0.0</td>\n",
       "    </tr>\n",
       "    <tr>\n",
       "      <th>4041</th>\n",
       "      <td>2024-03-13 00:00:00+05:30</td>\n",
       "      <td>22432.199219</td>\n",
       "      <td>22446.750000</td>\n",
       "      <td>21905.650391</td>\n",
       "      <td>21997.699219</td>\n",
       "      <td>493300</td>\n",
       "      <td>0.0</td>\n",
       "      <td>0.0</td>\n",
       "    </tr>\n",
       "    <tr>\n",
       "      <th>4042</th>\n",
       "      <td>2024-03-14 00:00:00+05:30</td>\n",
       "      <td>21982.550781</td>\n",
       "      <td>22204.599609</td>\n",
       "      <td>21917.500000</td>\n",
       "      <td>22146.650391</td>\n",
       "      <td>426700</td>\n",
       "      <td>0.0</td>\n",
       "      <td>0.0</td>\n",
       "    </tr>\n",
       "  </tbody>\n",
       "</table>\n",
       "<p>4043 rows × 8 columns</p>\n",
       "</div>"
      ],
      "text/plain": [
       "                          Date          Open          High           Low  \\\n",
       "0    2007-09-17 00:00:00+05:30   4518.450195   4549.049805   4482.850098   \n",
       "1    2007-09-18 00:00:00+05:30   4494.100098   4551.799805   4481.549805   \n",
       "2    2007-09-19 00:00:00+05:30   4550.250000   4739.000000   4550.250000   \n",
       "3    2007-09-20 00:00:00+05:30   4734.850098   4760.850098   4721.149902   \n",
       "4    2007-09-21 00:00:00+05:30   4752.950195   4855.700195   4733.700195   \n",
       "...                        ...           ...           ...           ...   \n",
       "4038 2024-03-07 00:00:00+05:30  22505.300781  22525.650391  22430.000000   \n",
       "4039 2024-03-11 00:00:00+05:30  22517.500000  22526.599609  22307.250000   \n",
       "4040 2024-03-12 00:00:00+05:30  22334.449219  22452.550781  22256.000000   \n",
       "4041 2024-03-13 00:00:00+05:30  22432.199219  22446.750000  21905.650391   \n",
       "4042 2024-03-14 00:00:00+05:30  21982.550781  22204.599609  21917.500000   \n",
       "\n",
       "             Close  Volume  Dividends  Stock Splits  \n",
       "0      4494.649902       0        0.0           0.0  \n",
       "1      4546.200195       0        0.0           0.0  \n",
       "2      4732.350098       0        0.0           0.0  \n",
       "3      4747.549805       0        0.0           0.0  \n",
       "4      4837.549805       0        0.0           0.0  \n",
       "...            ...     ...        ...           ...  \n",
       "4038  22493.550781  379900        0.0           0.0  \n",
       "4039  22332.650391  277900        0.0           0.0  \n",
       "4040  22335.699219  299200        0.0           0.0  \n",
       "4041  21997.699219  493300        0.0           0.0  \n",
       "4042  22146.650391  426700        0.0           0.0  \n",
       "\n",
       "[4043 rows x 8 columns]"
      ]
     },
     "execution_count": 93,
     "metadata": {},
     "output_type": "execute_result"
    }
   ],
   "source": [
    "nse_history_df"
   ]
  },
  {
   "cell_type": "code",
   "execution_count": 96,
   "id": "582a39a0-0aaa-40ad-93fc-3a945943e67f",
   "metadata": {
    "tags": []
   },
   "outputs": [],
   "source": [
    "nse_history_df['symbol'] = '^NSEI'"
   ]
  },
  {
   "cell_type": "code",
   "execution_count": 97,
   "id": "5922a77b-c1d2-4aad-a6c4-7ce269b7fd0d",
   "metadata": {
    "tags": []
   },
   "outputs": [],
   "source": [
    "nse_history_df = nse_history_df[['symbol', 'Date', 'Open', 'Close', 'High', 'Low', 'Volume', 'Dividends', 'Stock Splits']]"
   ]
  },
  {
   "cell_type": "code",
   "execution_count": 101,
   "id": "f201625f-8313-4336-9a58-898e1e1fc7e9",
   "metadata": {
    "tags": []
   },
   "outputs": [],
   "source": [
    "nse_history_df['created_at'] = datetime.now(timezone)"
   ]
  },
  {
   "cell_type": "code",
   "execution_count": 100,
   "id": "af3ac503-a6bf-4b6f-a435-c5892e93e101",
   "metadata": {
    "tags": []
   },
   "outputs": [],
   "source": [
    "nse_history_df['Open'] = nse_history_df['Open'].astype('float')\n",
    "nse_history_df['Close'] = nse_history_df['Close'].astype('float')\n",
    "nse_history_df['High'] = nse_history_df['High'].astype('float')\n",
    "nse_history_df['Low'] = nse_history_df['Low'].astype('float')"
   ]
  },
  {
   "cell_type": "code",
   "execution_count": 102,
   "id": "147ab074-5648-4a9a-a57f-adf308022365",
   "metadata": {
    "tags": []
   },
   "outputs": [],
   "source": [
    "from io import StringIO\n",
    "output = StringIO()"
   ]
  },
  {
   "cell_type": "code",
   "execution_count": 103,
   "id": "ac99827f-403b-473a-864d-4827b026837a",
   "metadata": {
    "tags": []
   },
   "outputs": [],
   "source": [
    "nse_history_df.to_csv(output, sep='\\t', header=False, index=False)"
   ]
  },
  {
   "cell_type": "code",
   "execution_count": 104,
   "id": "e0481c09-d22e-43be-8eaf-a2e1d9c299e6",
   "metadata": {
    "tags": []
   },
   "outputs": [
    {
     "data": {
      "text/plain": [
       "0"
      ]
     },
     "execution_count": 104,
     "metadata": {},
     "output_type": "execute_result"
    }
   ],
   "source": [
    "output.seek(0)"
   ]
  },
  {
   "cell_type": "code",
   "execution_count": 107,
   "id": "e46ad591-0432-4dee-800d-b528900113b5",
   "metadata": {
    "tags": []
   },
   "outputs": [],
   "source": [
    "from sql.PostgresDatabaseOperation import PostgresDatabaseOperation"
   ]
  },
  {
   "cell_type": "code",
   "execution_count": 108,
   "id": "45304eae-dd75-4852-85ac-bd7d00a8693c",
   "metadata": {
    "tags": []
   },
   "outputs": [],
   "source": [
    "s = time.time()\n",
    "with PostgresDatabaseOperation() as cursor:\n",
    "    cursor.copy_from(output, 'stock_history', null='')\n",
    "e = time.time()"
   ]
  },
  {
   "cell_type": "code",
   "execution_count": null,
   "id": "c932a8e4-8100-4e64-8bef-569d20ef2941",
   "metadata": {},
   "outputs": [],
   "source": []
  }
 ],
 "metadata": {
  "kernelspec": {
   "display_name": "bertopicenv",
   "language": "python",
   "name": "bertopicenv"
  },
  "language_info": {
   "codemirror_mode": {
    "name": "ipython",
    "version": 3
   },
   "file_extension": ".py",
   "mimetype": "text/x-python",
   "name": "python",
   "nbconvert_exporter": "python",
   "pygments_lexer": "ipython3",
   "version": "3.9.18"
  }
 },
 "nbformat": 4,
 "nbformat_minor": 5
}
