{
 "cells": [
  {
   "cell_type": "code",
   "execution_count": 2,
   "id": "d90fed16-4cf0-4bc5-a5c2-886c5c046c7b",
   "metadata": {
    "tags": []
   },
   "outputs": [],
   "source": [
    "parent_folder = '/Users/ravi.tej/Desktop/ML/Recommendations/hubble/'\n",
    "from hydra import compose, initialize\n",
    "import os\n",
    "\n",
    "import xml.etree.ElementTree as ET\n",
    "\n",
    "tree = ET.parse('../../conf/application.run.xml')\n",
    "root = tree.getroot()\n",
    "\n",
    "envs_element = root.find('./configuration/envs')\n",
    "for variable in envs_element.findall('env'):\n",
    "    name = variable.get('name')\n",
    "    value = variable.get('value')\n",
    "    os.environ[name] = value\n",
    "\n",
    "import sys\n",
    "sys.path.append('/Users/ravi.tej/Desktop/ML/Recommendations/hubble/')\n",
    "import os\n",
    "os.environ['PATH'] = '/Users/ravi.tej/anaconda3/envs/bertopicenv/bin:/Users/ravi.tej/anaconda3/condabin:/usr/bin:/bin:/usr/sbin:/sbin'"
   ]
  },
  {
   "cell_type": "code",
   "execution_count": 3,
   "id": "fcbfaf45-7675-4861-ab02-dc2c5c4f93de",
   "metadata": {
    "tags": []
   },
   "outputs": [],
   "source": [
    "import anthropic"
   ]
  },
  {
   "cell_type": "code",
   "execution_count": 4,
   "id": "53c0f0d1-0b0f-4937-9245-cd99a2227172",
   "metadata": {
    "tags": []
   },
   "outputs": [],
   "source": [
    "client = anthropic.Anthropic(\n",
    "    # defaults to os.environ.get(\"ANTHROPIC_API_KEY\")\n",
    "    api_key=os.environ.get('ANTHROPIC_KEY'),\n",
    ")"
   ]
  },
  {
   "cell_type": "code",
   "execution_count": 1,
   "id": "5ae90a65-e893-4c7a-8acf-694690965088",
   "metadata": {
    "tags": []
   },
   "outputs": [],
   "source": [
    "prompt = '''As a financial analyst, your role is to iteratively summarize the annual reports of Indian companies. You will receive the report in 20-page increments and need to distill this into a comprehensive summary, aiming for a final length of 20-30 pages. At each step, you will know how many pages you have already summarized and have access to the existing summary.\n",
    "\n",
    "**Objective**: Extract essential information from each 20-page section to develop a concise yet thorough summary of the company's financial and strategic status.\n",
    "\n",
    "**Process and Instructions**:\n",
    "\n",
    "1. **Review Incrementally**: With each 20-page increment, assess the content for critical information relevant to the following categories. Update the summary progressively, ensuring you maintain a cohesive narrative throughout the document.\n",
    "\n",
    "2. **Executive Summary (1-2 pages in final summary)**: Extract key points from the CEO/Chairman’s message, focusing on the company’s strategic direction, major achievements, and future priorities.\n",
    "\n",
    "3. **Financial Highlights (2-3 pages)**: Identify crucial financial metrics, trends, and year-over-year changes. Maintain a running tally of these metrics to easily integrate into the summary.\n",
    "\n",
    "4. **Business Overview (3-4 pages)**: Summarize core business activities, market presence, and significant corporate actions, such as mergers or acquisitions.\n",
    "\n",
    "5. **Market Analysis (3-4 pages)**: Capture insights on market trends, competitive landscape, and external factors impacting the business.\n",
    "\n",
    "6. **Financial Performance Analysis (4-5 pages)**: Provide a detailed review of the financial statements, noting significant items and variances from projections or benchmarks.\n",
    "\n",
    "7. **Risk Management and Corporate Governance (2-3 pages)**: Outline the company’s risk landscape and governance practices, emphasizing major changes or developments.\n",
    "\n",
    "8. **Sustainability and CSR (2 pages)**: Document the company's ESG efforts, including any quantitative metrics or achievements.\n",
    "\n",
    "9. **Future Outlook (2 pages)**: Note forward-looking statements regarding the company’s strategic plans, investment initiatives, and potential market or operational challenges.\n",
    "\n",
    "10. **Page Count Management**: After summarizing each segment, check the accumulated page count. This awareness will guide you to appropriately pace the remaining sections and ensure that critical areas are covered without breaching the 30-page limit.\n",
    "\n",
    "11. **Iterative Refinement**: After completing each section summary, revisit the overall narrative to ensure consistency and coherence. Adjust as necessary to maintain a focused and integrated summary.\n",
    "\n",
    "12. **Prioritization and Conciseness**: Given the iterative nature of the task, prioritize information that adds significant insight or value to the summary. Aim for brevity and clarity, avoiding redundancy or less critical details.\n",
    "\n",
    "**Effective Strategies**:\n",
    "\n",
    "- Maintain flexibility in the summary process, allowing for adjustments based on the content's significance and the evolving narrative.\n",
    "- Use the ongoing access to the summarized content to ensure that the information flows logically and maintains thematic consistency.\n",
    "- Regularly cross-check the developing summary against the total page count to manage space effectively and ensure that all critical areas are comprehensively covered.\n",
    "\n",
    "By following these guidelines, you can produce a detailed and coherent summary that captures the essential aspects of the company's annual performance and strategic direction, staying within the desired page limit.'''"
   ]
  },
  {
   "cell_type": "code",
   "execution_count": 8,
   "id": "c19dc8e4-e285-4bdc-8354-f21a3405c6b5",
   "metadata": {
    "tags": []
   },
   "outputs": [],
   "source": [
    "summary_so_far = ''"
   ]
  },
  {
   "cell_type": "code",
   "execution_count": 12,
   "id": "eb8f767f-98e9-4839-999f-136d9e5ff3a1",
   "metadata": {
    "tags": []
   },
   "outputs": [],
   "source": [
    "file = 'Zomato Annual Report 2022-23.pdf'"
   ]
  },
  {
   "cell_type": "code",
   "execution_count": 6,
   "id": "559b8b65-0cb4-4e60-b201-f8127f55b687",
   "metadata": {
    "tags": []
   },
   "outputs": [],
   "source": [
    "import fitz # imports the pymupdf library\n",
    "doc = fitz.open(\"Zomato Annual Report 2022-23.pdf\") # open a document"
   ]
  },
  {
   "cell_type": "code",
   "execution_count": 7,
   "id": "2151c4e3-c9fb-4d5b-9462-918c3413a352",
   "metadata": {
    "tags": []
   },
   "outputs": [],
   "source": [
    "txt = []\n",
    "for page in doc: # iterate the document pages\n",
    "    txt.append(page.get_text()) # get plain text encoded as UTF-8"
   ]
  },
  {
   "cell_type": "code",
   "execution_count": 10,
   "id": "99426fb2-4862-417d-955d-c374e4079bf1",
   "metadata": {
    "tags": []
   },
   "outputs": [],
   "source": [
    "cur_text = ''.join(txt[:30])"
   ]
  },
  {
   "cell_type": "code",
   "execution_count": 27,
   "id": "f555e863-67e1-4f86-a996-0ab4abb52c3a",
   "metadata": {
    "tags": []
   },
   "outputs": [],
   "source": [
    "import numpy as np"
   ]
  },
  {
   "cell_type": "code",
   "execution_count": 31,
   "id": "e381d5ec-d475-4026-ac15-777ea6f8e846",
   "metadata": {
    "tags": []
   },
   "outputs": [
    {
     "data": {
      "text/plain": [
       "13.0"
      ]
     },
     "execution_count": 31,
     "metadata": {},
     "output_type": "execute_result"
    }
   ],
   "source": []
  },
  {
   "cell_type": "code",
   "execution_count": 14,
   "id": "8bf5d3ed-bb76-4ffd-9ccb-08367be8be59",
   "metadata": {
    "tags": []
   },
   "outputs": [
    {
     "data": {
      "text/plain": [
       "369"
      ]
     },
     "execution_count": 14,
     "metadata": {},
     "output_type": "execute_result"
    }
   ],
   "source": [
    "len(txt)"
   ]
  },
  {
   "cell_type": "code",
   "execution_count": 15,
   "id": "4b8fa202-54d2-43f7-a7a1-b2987c2e31c3",
   "metadata": {
    "tags": []
   },
   "outputs": [],
   "source": [
    "input_prompt = f'<instructions>: {prompt}. <annual_report_title>: {file}. <total_pages>: {len(txt)}. <current_provided_pages>: {0} to {30}. <summary_so_far>: {summary_so_far}. <current_pages_report>: {cur_text}'"
   ]
  },
  {
   "cell_type": "code",
   "execution_count": 18,
   "id": "8338a828-0e75-4756-9f67-04e812ed4423",
   "metadata": {
    "tags": []
   },
   "outputs": [],
   "source": [
    "message = client.messages.create(\n",
    "    model=\"claude-3-sonnet-20240229\",\n",
    "    max_tokens=4096,\n",
    "    messages=[\n",
    "        {\"role\": \"user\", \"content\": input_prompt}\n",
    "    ]\n",
    ")"
   ]
  },
  {
   "cell_type": "code",
   "execution_count": 47,
   "id": "2900dddf-72ee-4cc0-930b-a1df350edd4f",
   "metadata": {
    "tags": []
   },
   "outputs": [],
   "source": [
    "num_pages = len(txt)\n",
    "page_batch = 30\n",
    "num_loops = int(np.ceil(num_pages/page_batch))"
   ]
  },
  {
   "cell_type": "code",
   "execution_count": 36,
   "id": "21300fa0-33bc-4dad-94c9-24214d6d184a",
   "metadata": {
    "tags": []
   },
   "outputs": [],
   "source": [
    "responses = []\n",
    "summary_so_far = ''"
   ]
  },
  {
   "cell_type": "code",
   "execution_count": 40,
   "id": "5a615d57-7514-4bf1-b623-a0e53690df10",
   "metadata": {
    "tags": []
   },
   "outputs": [],
   "source": [
    "from tqdm.notebook import tqdm"
   ]
  },
  {
   "cell_type": "code",
   "execution_count": 43,
   "id": "544ccbb7-18d0-40f2-8f23-5466943432bd",
   "metadata": {
    "tags": []
   },
   "outputs": [],
   "source": [
    "from time import sleep"
   ]
  },
  {
   "cell_type": "code",
   "execution_count": 44,
   "id": "76b9122b-0f82-4cd8-92b8-31621977be57",
   "metadata": {
    "tags": []
   },
   "outputs": [
    {
     "data": {
      "text/plain": [
       "4"
      ]
     },
     "execution_count": 44,
     "metadata": {},
     "output_type": "execute_result"
    }
   ],
   "source": [
    "loop_num"
   ]
  },
  {
   "cell_type": "code",
   "execution_count": 46,
   "id": "7632bd44-414b-4991-989f-2b0b87913cd6",
   "metadata": {
    "tags": []
   },
   "outputs": [
    {
     "data": {
      "text/plain": [
       "[Message(id='msg_01HRszQUSZPzXiu1ySNVwFzd', content=[ContentBlock(text=\"Here are the key points summarizing Zomato's progress on ESG initiatives in FY23:\\n\\nClimate Conscious Deliveries:\\n- Committed to achieving net zero emissions across food delivery value chain by 2033\\n- Set targets to reduce last-mile delivery emissions per km by 70% by FY30 and maintain net zero Scope 1 & 2 emissions\\n- Took actions like purchasing carbon offsets, exploring renewable energy solutions, and partnering to onboard 100,000 EV delivery partners by 2025\\n\\nWaste Free World: \\n- Announced 100% plastic neutral deliveries, recycled over 20,000 MT plastic waste in FY23 (2x the plastic used)\\n- Launched re-usable packaging pilot, committed to 100+ million eco-friendly deliveries by 2025\\n- Blinkit moved completely to paper-based packaging\\n\\nZero Hunger:\\n- Hosted Zomato Feeding India Concert to raise awareness on hunger/malnutrition\\n- Feeding India initiative provided meals to underprivileged groups  \\n\\nSustainable Livelihoods:\\n- Provided earning opportunities to 326k average monthly active delivery partners in FY23\\n- Enabled access to 210k average monthly active restaurant partners  \\n\\nOther Initiatives:\\n- On health, safety, diversity & inclusion, and customer centricity\\n\\nThe summary highlights Zomato's focus on emissions reduction, sustainable packaging, addressing hunger/malnutrition, and providing livelihood opportunities through its core businesses.\", type='text')], model='claude-3-sonnet-20240229', role='assistant', stop_reason='end_turn', stop_sequence=None, type='message', usage=Usage(input_tokens=15309, output_tokens=344)),\n",
       " Message(id='msg_012SBDizM17QxeLctyppcuz6', content=[ContentBlock(text=\"Here are the key points from the first 30 pages of Zomato's Annual Report 2022-23:\\n\\nExecutive Summary\\n- Vision is to make India malnutrition free through Feeding India initiative, provide better food for more people, and enable instant commerce.\\n- Key business offerings are food delivery, Hyperpure (B2B supplies), quick commerce (Blinkit), dining out, and events like Zomaland.\\n\\nFinancial & Operational Highlights\\n- Consolidated Adjusted Revenue grew 57% YoY to ₹86.9 billion in FY23, driven by food delivery, Hyperpure and consolidation of Blinkit. \\n- Food delivery business turned Adjusted EBITDA positive in Q2FY23. FY23 Adj. EBITDA margin improved to 0% from -3.6% in FY22.\\n- Hyperpure revenue grew 180% YoY to ₹15.1 bn, Adj. EBITDA margin improved to -13% from -26%.\\n- Blinkit (consolidated from Aug'22) had Q4 GOV of ₹20.5 bn, Contribution margin of -2.7%, Adj. EBITDA margin of -9.9%.\\n\\nFood Delivery \\n- 647 million orders delivered to 58 million annual transacting customers in FY23\\n- Contribution margin improved to 4.5% from 1.7% in FY22 driven by higher AOV, commissions and ad revenue.\\n- Launched Zomato Gold membership program and Intercity Legends, Everyday initiatives.\\n\\nSustainability & ESG\\n- Committed to net zero emissions in food delivery value chain by 2033.\\n- Achieved 100% plastic neutral deliveries by recycling >2x plastic used in FY23.\\n- Feeding India initiative to address hunger and malnutrition.\\n- Provided earning opportunities to 326k delivery partners and 210k restaurant partners in FY23.\\n\\nThe summary captures the key business segments, financial metrics, operational highlights and sustainability initiatives covered in the first 30 pages. Let me know if you need any clarification or have additional requirements.\", type='text')], model='claude-3-sonnet-20240229', role='assistant', stop_reason='end_turn', stop_sequence=None, type='message', usage=Usage(input_tokens=15309, output_tokens=504)),\n",
       " Message(id='msg_013GsE5gAcJUxMM71kahKezF', content=[ContentBlock(text=\"Here are the key points from the summary of Zomato's Annual Report 2022-23 so far:\\n\\nBusiness Overview\\n- Zomato operates a food delivery platform connecting customers with restaurants and delivery partners in India. Key metrics for food delivery business in FY23:\\n    - 647 million orders delivered \\n    - 17 million average monthly transacting customers\\n    - 210k average monthly active restaurant partners\\n    - 326k average monthly active delivery partners\\n\\n- Hyperpure is Zomato's B2B supplies business for restaurants. In FY23, it served 72k restaurant outlets and saw 180% revenue growth.\\n\\n- Blinkit is Zomato's quick commerce business acquired in August 2022. In Q4 FY23, it had 3.9 million average monthly transacting customers and 39.2 million orders.\\n\\nFinancial Highlights \\n- Consolidated Adjusted Revenue grew 57% YoY to Rs 86.9 billion in FY23\\n- Adjusted EBITDA margin improved to -9% from -18% in FY22 \\n- Food delivery business turned Adjusted EBITDA positive in Q2 FY23\\n\\nESG Update\\n- Committed to achieving net zero emissions across food delivery value chain by 2033\\n- Recycled over 2x the plastic used for deliveries in FY23 under 100% plastic neutral deliveries initiative\\n- Zomato Feeding India aims to address hunger/malnutrition, hosted a fundraising concert in FY23\\n- Provided earning opportunities to 326k delivery partners and 210k restaurant partners in FY23\\n\\nLet me know if you need any clarification or have additional requirements!\", type='text')], model='claude-3-sonnet-20240229', role='assistant', stop_reason='end_turn', stop_sequence=None, type='message', usage=Usage(input_tokens=15309, output_tokens=389)),\n",
       " Message(id='msg_01Dhe3Fb89Wbf41aSx3K3aHx', content=[ContentBlock(text=\"Here are the key points from the summary of Zomato's annual report for FY 2022-23:\\n\\nCompany Overview\\n- Zomato operates a food delivery platform connecting customers with restaurants and delivery partners in India. Key offerings are food delivery, B2B supplies (Hyperpure), quick commerce (Blinkit) and others like dining out.\\n\\nOperational Highlights\\n- Food Delivery: 647 million orders delivered to 58 million annual transacting customers. Gross Order Value (GOV) grew 24% YoY to ₹263.1 billion. \\n- Hyperpure (B2B supplies): Revenue grew 180% YoY to ₹15.1 billion by adding new restaurant partners.  \\n- Quick Commerce (Blinkit): Consolidated from Aug 2022. 119.1 million orders with GOV of ₹64.5 billion in FY23.\\n\\nFinancial Highlights  \\n- Consolidated Adjusted Revenue grew 57% YoY to ₹86.9 billion driven by food delivery, Hyperpure and Blinkit consolidation.\\n- Adjusted EBITDA margin improved to -9% from -18% in FY22 led by improving food delivery profitability.\\n- Food delivery business turned Adjusted EBITDA positive in Q2 FY23.\\n\\nESG Update\\n- Committed to achieve Net Zero emissions across food delivery value chain by 2033.\\n- Recycled over 2x the plastic used in food packaging in FY23 under '100% plastic neutral' deliveries initiative.\\n- Feeding India program worked towards solving hunger and malnutrition.\\n- Provided earning opportunities to 326,000 average monthly active delivery partners in FY23.\", type='text')], model='claude-3-sonnet-20240229', role='assistant', stop_reason='end_turn', stop_sequence=None, type='message', usage=Usage(input_tokens=15309, output_tokens=403))]"
      ]
     },
     "execution_count": 46,
     "metadata": {},
     "output_type": "execute_result"
    }
   ],
   "source": [
    "responses"
   ]
  },
  {
   "cell_type": "code",
   "execution_count": 48,
   "id": "909ccaae-a3c9-438c-ac62-34d777606771",
   "metadata": {
    "scrolled": true,
    "tags": []
   },
   "outputs": [
    {
     "data": {
      "application/vnd.jupyter.widget-view+json": {
       "model_id": "6a2caec16b7b4b8695fc6d430391f9a7",
       "version_major": 2,
       "version_minor": 0
      },
      "text/plain": [
       "  0%|          | 0/9 [00:00<?, ?it/s]"
      ]
     },
     "metadata": {},
     "output_type": "display_data"
    }
   ],
   "source": [
    "for loop_num in tqdm(range(4, num_loops)):\n",
    "    page_start = loop_num * page_batch\n",
    "    page_end = min(num_pages, (loop_num + 1) * page_batch)\n",
    "    cur_text = ''.join(txt[page_start:page_end])\n",
    "    cur_input_prompt = f'''<instructions>: {prompt}. \n",
    "                            <annual_report_title>: {file}. \n",
    "                            <total_pages>: {len(txt)}. \n",
    "                            <current_provided_pages>: {page_start} to {page_end}. \n",
    "                            <summary_so_far>: {summary_so_far}. \n",
    "                            <current_pages_report>: {cur_text}'''\n",
    "    message = client.messages.create(\n",
    "    model=\"claude-3-sonnet-20240229\",\n",
    "    max_tokens=4096,\n",
    "    messages=[\n",
    "        {\"role\": \"user\", \"content\": input_prompt}\n",
    "    ]\n",
    "    )\n",
    "    responses.append(message)\n",
    "    summary_so_far += message.content[0].text\n",
    "    sleep(60)"
   ]
  },
  {
   "cell_type": "code",
   "execution_count": 49,
   "id": "fefa878d-e665-4985-885c-099deaefd6fc",
   "metadata": {
    "tags": []
   },
   "outputs": [
    {
     "data": {
      "text/plain": [
       "\"Here are the key points summarizing Zomato's progress on ESG initiatives in FY23:\\n\\nClimate Conscious Deliveries:\\n- Committed to achieving net zero emissions across food delivery value chain by 2033\\n- Set targets to reduce last-mile delivery emissions per km by 70% by FY30 and maintain net zero Scope 1 & 2 emissions\\n- Took actions like purchasing carbon offsets, exploring renewable energy solutions, and partnering to onboard 100,000 EV delivery partners by 2025\\n\\nWaste Free World: \\n- Announced 100% plastic neutral deliveries, recycled over 20,000 MT plastic waste in FY23 (2x the plastic used)\\n- Launched re-usable packaging pilot, committed to 100+ million eco-friendly deliveries by 2025\\n- Blinkit moved completely to paper-based packaging\\n\\nZero Hunger:\\n- Hosted Zomato Feeding India Concert to raise awareness on hunger/malnutrition\\n- Feeding India initiative provided meals to underprivileged groups  \\n\\nSustainable Livelihoods:\\n- Provided earning opportunities to 326k average monthly active delivery partners in FY23\\n- Enabled access to 210k average monthly active restaurant partners  \\n\\nOther Initiatives:\\n- On health, safety, diversity & inclusion, and customer centricity\\n\\nThe summary highlights Zomato's focus on emissions reduction, sustainable packaging, addressing hunger/malnutrition, and providing livelihood opportunities through its core businesses.Here are the key points from the first 30 pages of Zomato's Annual Report 2022-23:\\n\\nExecutive Summary\\n- Vision is to make India malnutrition free through Feeding India initiative, provide better food for more people, and enable instant commerce.\\n- Key business offerings are food delivery, Hyperpure (B2B supplies), quick commerce (Blinkit), dining out, and events like Zomaland.\\n\\nFinancial & Operational Highlights\\n- Consolidated Adjusted Revenue grew 57% YoY to ₹86.9 billion in FY23, driven by food delivery, Hyperpure and consolidation of Blinkit. \\n- Food delivery business turned Adjusted EBITDA positive in Q2FY23. FY23 Adj. EBITDA margin improved to 0% from -3.6% in FY22.\\n- Hyperpure revenue grew 180% YoY to ₹15.1 bn, Adj. EBITDA margin improved to -13% from -26%.\\n- Blinkit (consolidated from Aug'22) had Q4 GOV of ₹20.5 bn, Contribution margin of -2.7%, Adj. EBITDA margin of -9.9%.\\n\\nFood Delivery \\n- 647 million orders delivered to 58 million annual transacting customers in FY23\\n- Contribution margin improved to 4.5% from 1.7% in FY22 driven by higher AOV, commissions and ad revenue.\\n- Launched Zomato Gold membership program and Intercity Legends, Everyday initiatives.\\n\\nSustainability & ESG\\n- Committed to net zero emissions in food delivery value chain by 2033.\\n- Achieved 100% plastic neutral deliveries by recycling >2x plastic used in FY23.\\n- Feeding India initiative to address hunger and malnutrition.\\n- Provided earning opportunities to 326k delivery partners and 210k restaurant partners in FY23.\\n\\nThe summary captures the key business segments, financial metrics, operational highlights and sustainability initiatives covered in the first 30 pages. Let me know if you need any clarification or have additional requirements.Here are the key points from the summary of Zomato's Annual Report 2022-23 so far:\\n\\nBusiness Overview\\n- Zomato operates a food delivery platform connecting customers with restaurants and delivery partners in India. Key metrics for food delivery business in FY23:\\n    - 647 million orders delivered \\n    - 17 million average monthly transacting customers\\n    - 210k average monthly active restaurant partners\\n    - 326k average monthly active delivery partners\\n\\n- Hyperpure is Zomato's B2B supplies business for restaurants. In FY23, it served 72k restaurant outlets and saw 180% revenue growth.\\n\\n- Blinkit is Zomato's quick commerce business acquired in August 2022. In Q4 FY23, it had 3.9 million average monthly transacting customers and 39.2 million orders.\\n\\nFinancial Highlights \\n- Consolidated Adjusted Revenue grew 57% YoY to Rs 86.9 billion in FY23\\n- Adjusted EBITDA margin improved to -9% from -18% in FY22 \\n- Food delivery business turned Adjusted EBITDA positive in Q2 FY23\\n\\nESG Update\\n- Committed to achieving net zero emissions across food delivery value chain by 2033\\n- Recycled over 2x the plastic used for deliveries in FY23 under 100% plastic neutral deliveries initiative\\n- Zomato Feeding India aims to address hunger/malnutrition, hosted a fundraising concert in FY23\\n- Provided earning opportunities to 326k delivery partners and 210k restaurant partners in FY23\\n\\nLet me know if you need any clarification or have additional requirements!Here are the key points from the summary of Zomato's annual report for FY 2022-23:\\n\\nCompany Overview\\n- Zomato operates a food delivery platform connecting customers with restaurants and delivery partners in India. Key offerings are food delivery, B2B supplies (Hyperpure), quick commerce (Blinkit) and others like dining out.\\n\\nOperational Highlights\\n- Food Delivery: 647 million orders delivered to 58 million annual transacting customers. Gross Order Value (GOV) grew 24% YoY to ₹263.1 billion. \\n- Hyperpure (B2B supplies): Revenue grew 180% YoY to ₹15.1 billion by adding new restaurant partners.  \\n- Quick Commerce (Blinkit): Consolidated from Aug 2022. 119.1 million orders with GOV of ₹64.5 billion in FY23.\\n\\nFinancial Highlights  \\n- Consolidated Adjusted Revenue grew 57% YoY to ₹86.9 billion driven by food delivery, Hyperpure and Blinkit consolidation.\\n- Adjusted EBITDA margin improved to -9% from -18% in FY22 led by improving food delivery profitability.\\n- Food delivery business turned Adjusted EBITDA positive in Q2 FY23.\\n\\nESG Update\\n- Committed to achieve Net Zero emissions across food delivery value chain by 2033.\\n- Recycled over 2x the plastic used in food packaging in FY23 under '100% plastic neutral' deliveries initiative.\\n- Feeding India program worked towards solving hunger and malnutrition.\\n- Provided earning opportunities to 326,000 average monthly active delivery partners in FY23.Here are the key points summarizing Zomato's FY23 annual report for the first 20 pages:\\n\\nExecutive Summary\\n- Zomato operates a food delivery platform connecting customers with restaurants and delivery partners across India. \\n- In FY23, it delivered 647 million orders to 58 million annual transacting customers.\\n\\nKey Business Offerings:\\n\\nFood Delivery:\\n- Core offering connecting customers with 210k monthly active restaurant partners fulfilled by 326k monthly active delivery partners.\\n- Key metrics: 647 million orders, $3.8 billion gross order value (GOV), $924 million adjusted revenue, 17 million monthly transacting customers.\\n- Achieved adjusted EBITDA profitability of $11 million in Q4 FY23.\\n\\nHyperpure (B2B Supplies): \\n- Sourcing and supplying ingredients/supplies to 72k restaurant partners.\\n- $227 million revenue, 180% YoY growth. Adjusted EBITDA margin improved to -13%.\\n\\nBlinkit (Quick Commerce):\\n- Acquired in August 2022, offers delivery of everyday products in minutes via dark stores.\\n- $964 million GOV, $54 million revenue in FY23 post acquisition. Improvement in adjusted EBITDA margin to -9.9% in Q4.\\n\\nOther Initiatives:\\n- Dining out, events like Zomaland, Zomato Gold membership program launched.\\n\\nThe summary covers Zomato's core food delivery business showing strong growth metrics and path to profitability, the scaling up of Hyperpure supplies business, the new quick commerce foray via Blinkit acquisition, and other supplementary offerings. Key financial and operational metrics are provided for each business line.Thank you for providing the detailed annual report. I will carefully review the information and provide a comprehensive summary focused on the key areas you outlined - executive summary, financial highlights, business overview, market analysis, financial performance analysis, risk management and corporate governance, sustainability and CSR, and future outlook. I will aim to distill the essential information into a concise yet thorough 20-30 page summary while maintaining a cohesive narrative flow. Please allow me some time to analyze the 30 pages provided and integrate it with the existing summary content.Thank you for providing the detailed annual report. Here is a summary focusing on the key points from each section:\\n\\nExecutive Summary:\\n- Zomato operates a food delivery platform connecting customers with restaurants and delivery partners\\n- Key metrics in FY23: 647 million orders delivered, 58 million annual transacting customers, 326k average monthly active delivery partners\\n\\nFinancial Highlights:  \\n- Consolidated Adjusted Revenue grew 57% YoY to ₹86.9 billion in FY23\\n- Adjusted EBITDA margin improved to -9% in FY23 from -18% in FY22\\n- Food delivery business turned Adjusted EBITDA positive in Q2 FY23  \\n\\nBusiness Overview:\\n- Core segments are food delivery, Hyperpure (B2B supplies), quick commerce (Blinkit), and others (dining out, events)\\n- Launched new initiatives like Intercity Legends, Zomato Everyday, Zomato Gold membership\\n\\nMarket Analysis:  \\n- Expanding delivery partner network to 326k average monthly active partners in FY23\\n- Growing restaurant partner base to 210k average monthly active in FY23\\n\\nFinancial Performance:\\n- Food delivery GOV grew 24% to ₹263.1 billion, contribution margin improved to 4.5%  \\n- Hyperpure revenue up 180% to ₹15.1 billion with improving margins\\n- Quick commerce (Blinkit) GOV of ₹64.5 billion with margin improvement to -9.9% in Q4\\n\\nSustainability Efforts:\\n- Committed to net zero emissions in food delivery value chain by 2033  \\n- Recycled 2x plastic used in deliveries; launched reusable packaging pilot\\n- Hosted Zomato Feeding India concert to support malnutrition initiatives\\n- Provided earning opportunities to 326k monthly active delivery partners\\n\\nThe summary covers the key operational and financial metrics, business segments, strategic initiatives, efforts towards sustainability goals, and the improving trajectory of profitability across core verticals. Let me know if you need any clarification or have additional requirements.Here are the key points summarizing Zomato's ESG update and initiatives in FY2023:\\n\\nClimate Conscious Deliveries:\\n- Committed to achieving net zero emissions across food delivery value chain by 2033\\n- Purchased carbon offsets for Scope 1 & 2 emissions in FY23\\n- Committed to 100% EV-based food deliveries by 2030 as part of EV100 initiative\\n- Partnered with over 50 EV companies, had ~13,500 active EV delivery partners in Mar 2023\\n\\nWaste Free World: \\n- Announced 100% plastic neutral deliveries initiative in Apr 2022\\n- Recycled 20,000 MT plastic waste in FY23, 2x the amount used for deliveries\\n- Launched re-usable packaging pilot with select restaurants\\n- Target of 100+ million eco-friendly (no plastic) deliveries by 2025\\n\\nZero Hunger:\\n- Feeding India initiative aims to solve chronic hunger & malnutrition \\n- Hosted Zomato Feeding India Concert with Post Malone in Dec 2022\\n- Launched campaign with Unacademy to support children impacted by COVID-19\\n\\nSustainable Livelihoods:\\n- Provided access & growth opportunities to 210k restaurant partners in FY23\\n- Provided flexible earning to 326k delivery partners in FY23 \\n- Total of 2.4 million delivery partners onboarded since inception\\n\\nThe summary covers Zomato's key ESG goals, initiatives and progress across the themes of climate action, waste reduction, hunger elimination, and supporting livelihoods of stakeholders like restaurants and delivery partners.Here are the key points from the summary so far:\\n\\nCompany Overview\\n\\n- Zomato operates a food delivery platform connecting customers with restaurants and delivery partners. In FY23, it delivered 647 million orders to 58 million transacting customers.\\n\\n- Key business segments are Food Delivery, Hyperpure (B2B supplies for restaurants), Quick Commerce through Blinkit acquisition, and Others (dining out, events etc.)\\n\\nOperational Highlights \\n\\n- Food Delivery: Gross Order Value grew 24% to INR 263.1 billion, orders grew 21% to 647 million, driven by 16% growth in monthly transacting customers to 17 million. Contribution margin improved to 4.5%.\\n\\n- Hyperpure: Revenue grew 180% to INR 15.1 billion driven by adding new restaurant partners and higher spends from existing partners. Adjusted EBITDA margin improved to -13%.  \\n\\n- Quick Commerce (Blinkit): Gained scale rapidly post acquisition with GOV of INR 20.5 billion and 39.2 million orders in Q4FY23. Contribution margin improved to -2.7% in Q4.\\n\\nFinancial Highlights\\n\\n- Consolidated Adjusted Revenue grew 57% to INR 86.9 billion. Adjusted EBITDA margin improved to -9% despite consolidating losses from Quick Commerce business.  \\n\\n- Food Delivery business turned Adjusted EBITDA positive in Q2FY23 and reported profit of INR 0.78 billion in Q4FY23.\\n\\nThe summary covers Zomato's key business segments, operational and financial metrics for FY23 and progress on their path to profitability.Here are the key points summarizing Zomato's annual report for FY2022-23 based on the first 30 pages provided:\\n\\nExecutive Summary:\\n\\n- Zomato operates a food delivery platform in India, connecting customers with restaurant partners and delivery partners. Key business segments are food delivery, Hyperpure (B2B food supplies), and quick commerce business Blinkit.\\n\\n- In FY23, Zomato delivered 647 million orders to 58 million annual transacting customers across its platform. \\n\\nFinancial Highlights:\\n\\n- Consolidated Adjusted Revenue grew 57% YoY to ₹86.9 billion driven by food delivery, Hyperpure and consolidation of Blinkit.\\n\\n- Food delivery business turned Adjusted EBITDA positive in Q2FY23, with ₹0.78 billion Adjusted EBITDA in Q4. \\n\\n- Hyperpure revenues grew 180% YoY to ₹15.1 billion with improving margins.\\n\\n- Blinkit's gross order value (GOV) grew 74% from Q1 to Q4 with improving unit economics.\\n\\nBusiness Overview:\\n\\n- Food delivery saw 21% YoY order volume growth to 647 million, with improved take rates and lower discounts aiding profitability.  \\n\\n- Hyperpure is solving supply chain issues for restaurant partners with 180% revenue growth.\\n\\n- Blinkit acquisition enabled entry into quick commerce, reaching 19 cities by end of FY23.\\n\\nI can provide more details on the market analysis, financial performance, risk management, sustainability efforts and future outlook as more pages of the annual report are made available.Here are the key points from the summary of Zomato's Annual Report 2022-23 for the first 20 pages:\\n\\nExecutive Summary:\\n- Zomato operates a food delivery platform connecting customers, restaurants and delivery partners in India.\\n- Key offerings include food delivery, B2B restaurant supplies (Hyperpure), quick commerce (Blinkit) and others like dining out. \\n\\nFinancial Highlights:\\n- Consolidated Adjusted Revenue grew 57% YoY to ₹86.9 billion in FY23, driven by food delivery, Hyperpure and consolidation of Blinkit.\\n- Adjusted EBITDA margin improved to -9% from -18% in FY22, despite Blinkit consolidation.  \\n- Food delivery business turned Adjusted EBITDA positive in Q2FY23.\\n- Hyperpure revenue grew 180% YoY to ₹15.1 billion with Adjusted EBITDA margin improving to -13%.\\n\\nBusiness Overview:\\n- Food delivery orders grew 21% to 647 million, with 17 million average monthly transacting customers.\\n- Hyperpure supplied to 72k restaurant outlets, 180% revenue increase.  \\n- Acquired Blinkit in Q2 for quick commerce, 39.2 million orders in Q4 with improving unit economics.\\n\\nThe summary covers Zomato's core business segments - food delivery, Hyperpure supplies, quick commerce with Blinkit acquisition, and other initiatives like dining out. It highlights the strong revenue growth and improving profitability across businesses in FY23.Here are the key points summarizing Zomato's annual report for FY2023:\\n\\nExecutive Summary:\\n- Zomato aims to make India malnutrition-free through initiatives like Feeding India\\n- It is expanding its offerings like Intercity Legends (iconic dishes delivered across cities) and Zomato Everyday (affordable home-style meals)\\n- Launched a new membership program Zomato Gold with benefits like free delivery, discounts etc.\\n\\nFinancial Highlights:\\n- Consolidated Adjusted Revenue grew 57% YoY to INR 86.9 billion in FY23\\n- Adjusted EBITDA margin improved to -9% from -18% in FY22\\n- Food delivery business turned Adjusted EBITDA positive in Q2FY23 \\n- Hyperpure revenues grew 180% YoY to INR 15.1 billion\\n\\nBusiness Overview:\\n- Food delivery orders grew 21% YoY to 647 million, with 58 million annual transacting customers\\n- Hyperpure expanded to serving 72,000 restaurant partners, up 41%\\n- Acquired Blinkit to enter quick commerce segment; Blinkit's Q4 GOV at INR 20.5 billion\\n\\nMarket Analysis:\\n- Focused on rebuilding dining-out business impacted by Covid-19\\n- Relaunched food festival Zomaland across 7 cities\\n- Blinkit scaled to 19 cities, 377 dark stores by end of FY23\\n\\nSustainability Efforts:\\n- Committed to achieving Net Zero emissions by 2033 across food delivery value chain\\n- Recycled over 2x the plastic used for food deliveries in FY23\\n- Feeding India initiative to address hunger and malnutrition\\n\\nThe summary covers the key aspects of Zomato's business performance, strategic initiatives, acquisitions, sustainability goals and financial metrics for FY2023 based on the annual report.Here are the key points from the summary of Zomato's annual report for FY 2022-23:\\n\\nExecutive Summary\\n- Zomato operates a food ordering and delivery platform connecting customers to restaurants and delivery partners\\n- Key offerings are food delivery, Hyperpure (B2B supplies for restaurants), quick commerce through Blinkit, and dining out services\\n\\nFinancial Highlights\\n- Consolidated adjusted revenue grew 57% YoY to ₹86.9 billion \\n- Adjusted EBITDA margin improved to -9% from -18% in FY22\\n- Food delivery business turned adjusted EBITDA positive in Q2 FY23\\n\\nBusiness Overview\\n- Food delivery: 647 million orders, 17 million average monthly transacting customers \\n- Hyperpure revenue grew 180% YoY to ₹15.1 billion\\n- Acquired Blinkit for quick commerce in August 2022\\n- Others include dining out, Zomato Live events\\n\\nKey Operating Metrics\\n- Food delivery: GOV grew 24% to ₹263.1 billion, contribution margin up at 4.5%\\n- Hyperpure adjusted EBITDA margin improved to -13%  \\n- Quick commerce (Blinkit): GOV of ₹64.5 billion, 119 million orders in FY23\\n\\nESG Highlights  \\n- Committed to net zero emissions by 2033 for food delivery value chain\\n- Recycled 2x plastic used for food packaging in FY23\\n- Feeding India initiative to address hunger and malnutrition\\n- Provided earning opportunities to 326,000 delivery partners in FY23\\n\\nThe report highlights Zomato's growth across verticals like food delivery, supplies and quick commerce, with improving unit economics and a path to profitability in the core business. It also outlines the company's ESG goals and initiatives.\""
      ]
     },
     "execution_count": 49,
     "metadata": {},
     "output_type": "execute_result"
    }
   ],
   "source": [
    "summary_so_far"
   ]
  },
  {
   "cell_type": "code",
   "execution_count": 21,
   "id": "27a95b0a-adc2-44d4-9c3d-54e369038fbb",
   "metadata": {
    "tags": []
   },
   "outputs": [
    {
     "data": {
      "text/plain": [
       "\"Here are the key points summarizing the progress on Zomato's sustainability initiatives in FY23:\\n\\nClimate Conscious Deliveries:\\n- Committed to achieving net zero emissions across food delivery value chain by 2033\\n- Purchased carbon offsets for Scope 1 & 2 emissions in FY23\\n- Committed to 100% EV-based food deliveries by 2030 as part of EV100 initiative\\n- Partnered with over 50 EV companies, onboarded ~13,500 EV delivery partners in FY23\\n\\nWaste Free World:  \\n- Recycled over 20,000 MT of plastic waste in FY23, more than 2x the plastic used in deliveries\\n- Launched reusable packaging pilot in Bengaluru \\n- Goal of 100+ million eco-friendly (plastic-free) deliveries by 2025\\n\\nZero Hunger:\\n- Feeding India initiative provided meals to underprivileged, hosted Zomato Feeding India Concert\\n- Launched campaign with Unacademy to support children who lost parents in pandemic\\n\\nSustainable Livelihoods:\\n- Provided earning opportunities to 326k average monthly active delivery partners in FY23\\n- ~2.4 million delivery partners leveraged Zomato platform since inception\\n- Provided growth opportunities to 210k average monthly restaurant partners\\n\\nThe summary covers Zomato's progress and commitments across the key sustainability themes of climate action, waste reduction, hunger elimination, and providing sustainable livelihoods to delivery partners and restaurants.\""
      ]
     },
     "execution_count": 21,
     "metadata": {},
     "output_type": "execute_result"
    }
   ],
   "source": [
    "message.content[0].text"
   ]
  },
  {
   "cell_type": "code",
   "execution_count": null,
   "id": "6de61443-3ab5-4722-a8e1-aa42c66a4000",
   "metadata": {},
   "outputs": [],
   "source": []
  }
 ],
 "metadata": {
  "kernelspec": {
   "display_name": "bertopicenv",
   "language": "python",
   "name": "bertopicenv"
  },
  "language_info": {
   "codemirror_mode": {
    "name": "ipython",
    "version": 3
   },
   "file_extension": ".py",
   "mimetype": "text/x-python",
   "name": "python",
   "nbconvert_exporter": "python",
   "pygments_lexer": "ipython3",
   "version": "3.9.18"
  }
 },
 "nbformat": 4,
 "nbformat_minor": 5
}
