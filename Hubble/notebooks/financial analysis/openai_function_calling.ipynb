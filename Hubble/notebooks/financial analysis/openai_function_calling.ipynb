{
 "cells": [
  {
   "cell_type": "code",
   "execution_count": 1,
   "id": "9407c496-0728-42f9-a329-a208a0743653",
   "metadata": {
    "tags": []
   },
   "outputs": [],
   "source": [
    "parent_folder = '/Users/ravi.tej/Desktop/ML/Recommendations/hubble/'\n",
    "from hydra import compose, initialize\n",
    "import os\n",
    "\n",
    "import xml.etree.ElementTree as ET\n",
    "\n",
    "tree = ET.parse('../../conf/application.run.xml')\n",
    "root = tree.getroot()\n",
    "\n",
    "envs_element = root.find('./configuration/envs')\n",
    "for variable in envs_element.findall('env'):\n",
    "    name = variable.get('name')\n",
    "    value = variable.get('value')\n",
    "    os.environ[name] = value\n",
    "\n",
    "import sys\n",
    "sys.path.append('/Users/ravi.tej/Desktop/ML/Recommendations/hubble/')\n",
    "import os\n",
    "os.environ['PATH'] = '/Users/ravi.tej/anaconda3/envs/bertopicenv/bin:/Users/ravi.tej/anaconda3/condabin:/usr/bin:/bin:/usr/sbin:/sbin'"
   ]
  },
  {
   "cell_type": "code",
   "execution_count": 5,
   "id": "d5cc33db-4e0d-4b9a-94b6-7a3f9e5c7426",
   "metadata": {
    "tags": []
   },
   "outputs": [],
   "source": [
    "from openai import OpenAI\n",
    "import json\n",
    "\n",
    "client = OpenAI(api_key=os.environ.get('OPENAI_KEY'))"
   ]
  },
  {
   "cell_type": "code",
   "execution_count": 124,
   "id": "85b1df81-d689-4c06-8438-eda082f2f110",
   "metadata": {
    "tags": []
   },
   "outputs": [],
   "source": [
    "sys = '''\n",
    "You are an expert financial analyst working for a leading indian fintech platform. You extract the following attributes from a given user query. Today is “2024-03-15”. The platform has a database with the following data for indian NSE stocks.\n",
    "stock_history: symbol, date, open, close\n",
    "Using the companies names, the following query_types are available:\n",
    "1. get_stocks_price_between_dates(symbol_list, time_period=‘3 months’): to get the day wise close prices of a list of stock names. \n",
    "2. get_avg_stock_prices_between_dates(symbol_list, time_period=‘3 months’): to get the average close prices of a list of stock names between two dates. \n",
    "3. beta_calculation_query(symbols, time_period=‘3 months’): beta of a list of symbols\n",
    "is_financial_query (True/False), sql_db_has_data(True/False), companies_mentioned (list of strings), time_period_type (sql compatible), time_period_duration(1-3), query_groups(one of get_stocks_price_between_dates, get_avg_stock_prices_between_dates, beta_calculation_query)\n",
    "\n",
    "companies_mentioned, time_period_type, time_period_duration, query_groups are all related to the sql search. so if sql_db_has_data is True, then all of them must be present\n",
    "respond only with the json with the above keys. don't answer the user query directly, but only extract the attributes\n",
    "'''"
   ]
  },
  {
   "cell_type": "code",
   "execution_count": 45,
   "id": "f01268fe-52d8-4771-8e8a-d9c1c9abd98a",
   "metadata": {
    "tags": []
   },
   "outputs": [
    {
     "data": {
      "text/plain": [
       "'\\nexamples query and response:\\n\\nHow to cook biryani: False,,,,,\\nLatest budget updates: True, web,,,,\\nCurrent bitcoin price: True, web,,,,\\nAdani stock price: True, sql,[‘Adani’],month,3,get_stock_prices_between_dates\\nCompare TCS, reliance and Paytm performance for the last year: True, sql,[‘TCS’, ‘reliance’, ‘Paytm’],year, 1,get_stock_prices_between_dates\\nWhat is the volatility of zomoto and ITC last week: True, sql,[‘zomato’, ‘ITC’],week, 1,beta_calculation_query\\n'"
      ]
     },
     "execution_count": 45,
     "metadata": {},
     "output_type": "execute_result"
    }
   ],
   "source": [
    "'''\n",
    "examples query and response:\n",
    "\n",
    "How to cook biryani: False,,,,,\n",
    "Latest budget updates: True, web,,,,\n",
    "Current bitcoin price: True, web,,,,\n",
    "Adani stock price: True, sql,[‘Adani’],month,3,get_stock_prices_between_dates\n",
    "Compare TCS, reliance and Paytm performance for the last year: True, sql,[‘TCS’, ‘reliance’, ‘Paytm’],year, 1,get_stock_prices_between_dates\n",
    "What is the volatility of zomoto and ITC last week: True, sql,[‘zomato’, ‘ITC’],week, 1,beta_calculation_query\n",
    "'''"
   ]
  },
  {
   "cell_type": "code",
   "execution_count": 46,
   "id": "2f3bc4ac-46d2-4e24-9a45-66839e3d4584",
   "metadata": {
    "tags": []
   },
   "outputs": [],
   "source": [
    "# def get_query_details(financial_or_business_query, sql_db_has_data,companies_mentioned,time_period, function_name):\n",
    "    "
   ]
  },
  {
   "cell_type": "code",
   "execution_count": 134,
   "id": "72a50a5f-e173-40bb-8979-c78ce52baf8e",
   "metadata": {
    "tags": []
   },
   "outputs": [],
   "source": [
    "messages = [{\"role\": \"system\", \"content\": sys}, \n",
    "            {\"role\": \"user\", \"content\": \"user_query: what is the ideal XIRR for a mutual fund portfolio\"}]\n",
    "tools = [\n",
    "    {\n",
    "        \"type\": \"function\",\n",
    "        \"function\": {\n",
    "            \"name\": \"get_query_details\",\n",
    "            \"description\": \"Get details of user query\",\n",
    "            \"parameters\": {\n",
    "                \"type\": \"object\",\n",
    "                \"properties\": {\n",
    "                    \"financial_or_business_query\": {\"type\": \"boolean\",\"description\": \"If the query is relevant for personal finance, markets of business related queries\"},\n",
    "                    \"sql_db_has_data\": {\"type\": \"boolean\", \"description\": \"If running a sql query over stock_history table will answer user query\"},\n",
    "                    \"companies_mentioned\": {\"type\": \"array\", \"items\": {\"type\": \"string\"}, \"minItems\": 1, \"maxItems\": 5, \"description\": \"Array of company names mentioned in the user query\"},\n",
    "                    \"time_period_type\": {\"type\": \"string\", \"enum\": [\"year\", \"month\", \"week\", \"day\"]},\n",
    "                    \"time_period_duration\": {\"type\": \"integer\", \"minimum\": 1, \"maximum\": 11},\n",
    "                    \"query_type\": {\"type\": \"string\", \"enum\": [\"get_stock_prices_between_dates\", \"get_avg_stock_prices_between_dates\", \"beta_calculation_query\"]}\n",
    "                },\n",
    "                \"required\": [\"financial_or_business_query\", \"sql_db_has_data\"],\n",
    "            },\n",
    "        },\n",
    "    }\n",
    "]\n",
    "# \n",
    "# gpt-4-0125-preview\n",
    "response = client.chat.completions.create(\n",
    "    model=\"gpt-3.5-turbo-0125\",\n",
    "    messages=messages,\n",
    "    tools=tools,\n",
    "    tool_choice={'type': 'function', 'function': {'name': 'get_query_details'}},  # auto is default, but we'll be explicit\n",
    ")"
   ]
  },
  {
   "cell_type": "code",
   "execution_count": 25,
   "id": "20d378ce-1d4f-4929-b10a-6b3ff18945a8",
   "metadata": {
    "tags": []
   },
   "outputs": [],
   "source": [
    "# r = []"
   ]
  },
  {
   "cell_type": "code",
   "execution_count": 60,
   "id": "989950af-c5a0-42bd-b08e-ec60a6f53a32",
   "metadata": {
    "tags": []
   },
   "outputs": [],
   "source": [
    "r.append(response)"
   ]
  },
  {
   "cell_type": "code",
   "execution_count": 61,
   "id": "0b2e9e3d-6878-4959-89d2-375e95127ece",
   "metadata": {
    "tags": []
   },
   "outputs": [
    {
     "data": {
      "text/plain": [
       "ChatCompletionMessage(content=None, role='assistant', function_call=None, tool_calls=[ChatCompletionMessageToolCall(id='call_9k77KbApMzAbjLddQPvYEDWT', function=Function(arguments='{\"financial_or_business_query\":true,\"sql_db_has_data\":false}', name='get_query_details'), type='function')])"
      ]
     },
     "execution_count": 61,
     "metadata": {},
     "output_type": "execute_result"
    }
   ],
   "source": [
    "response.choices[0].message"
   ]
  },
  {
   "cell_type": "code",
   "execution_count": 93,
   "id": "f008b675-e8e3-4c70-aca4-5cacf545801d",
   "metadata": {
    "tags": []
   },
   "outputs": [
    {
     "data": {
      "text/plain": [
       "{'financial_or_business_query': True, 'sql_db_has_data': False}"
      ]
     },
     "execution_count": 93,
     "metadata": {},
     "output_type": "execute_result"
    }
   ],
   "source": [
    "json.loads(response.choices[0].message.tool_calls[0].function.arguments)"
   ]
  },
  {
   "cell_type": "code",
   "execution_count": 65,
   "id": "0fb39d3a-f7a5-41fd-be45-28eaad5fe824",
   "metadata": {
    "tags": []
   },
   "outputs": [],
   "source": [
    "from sql.PostgresDatabaseOperation import PostgresDatabaseOperation"
   ]
  },
  {
   "cell_type": "code",
   "execution_count": 67,
   "id": "9c4b67f2-db43-4202-b321-6b465a5a2f68",
   "metadata": {
    "tags": []
   },
   "outputs": [],
   "source": [
    "def get_all_symbol_names():\n",
    "    with PostgresDatabaseOperation() as cursor:\n",
    "        sql = 'SELECT DISTINCT symbol, name FROM stock_ticker_info'\n",
    "        cursor.execute(sql)\n",
    "        results = cursor.fetchall()\n",
    "    \n",
    "    return results"
   ]
  },
  {
   "cell_type": "code",
   "execution_count": 68,
   "id": "d6a1bfd9-95f1-4c13-b607-7501813fcf47",
   "metadata": {
    "tags": []
   },
   "outputs": [],
   "source": [
    "def get_all_company_wise_volume():\n",
    "    with PostgresDatabaseOperation() as cursor:\n",
    "        sql = \"SELECT symbol, AVG(volume * close) FROM stock_history WHERE symbol LIKE '%.NS' AND date > '2024-01-01' GROUP BY symbol\"\n",
    "        cursor.execute(sql)\n",
    "        results = cursor.fetchall()\n",
    "    return results"
   ]
  },
  {
   "cell_type": "code",
   "execution_count": 69,
   "id": "95ce8480-6eca-486d-947c-1d0004b17168",
   "metadata": {
    "tags": []
   },
   "outputs": [],
   "source": [
    "avg_volume_details = get_all_company_wise_volume()"
   ]
  },
  {
   "cell_type": "code",
   "execution_count": 70,
   "id": "be84d619-cc89-4047-92f3-585d3dd36a89",
   "metadata": {
    "tags": []
   },
   "outputs": [],
   "source": [
    "import numpy as np"
   ]
  },
  {
   "cell_type": "code",
   "execution_count": 71,
   "id": "17a49001-e653-4f73-a987-761ea9710ef3",
   "metadata": {
    "tags": []
   },
   "outputs": [
    {
     "name": "stderr",
     "output_type": "stream",
     "text": [
      "/var/folders/d4/cgyr_gnj7nn2wy_hq40gkq8c0000gq/T/ipykernel_35623/1270495777.py:1: RuntimeWarning: divide by zero encountered in log2\n",
      "  volume_dict = {x[0]: {'abs': float(x[1]), 'log': np.log2(float(x[1]))} for x in avg_volume_details}\n"
     ]
    }
   ],
   "source": [
    "volume_dict = {x[0]: {'abs': float(x[1]), 'log': np.log2(float(x[1]))} for x in avg_volume_details}"
   ]
  },
  {
   "cell_type": "code",
   "execution_count": 72,
   "id": "30fe9eb0-bb27-4af5-a4bb-017688497d6d",
   "metadata": {
    "tags": []
   },
   "outputs": [],
   "source": [
    "import pandas as pd"
   ]
  },
  {
   "cell_type": "code",
   "execution_count": 73,
   "id": "3f946950-4e64-425c-b38d-1c331c9c75c3",
   "metadata": {
    "scrolled": true,
    "tags": []
   },
   "outputs": [],
   "source": [
    "volume_df = pd.DataFrame(avg_volume_details, columns = ['symbol', 'avg_volume']).set_index('symbol').reset_index()"
   ]
  },
  {
   "cell_type": "code",
   "execution_count": 74,
   "id": "ca4c1ac3-2ffc-477e-b7b4-03cdaadf8d9e",
   "metadata": {
    "tags": []
   },
   "outputs": [],
   "source": [
    "volume_df['log_volume'] = volume_df['avg_volume'].apply(lambda x: np.log2(float(x))/np.log2(1.5) if float(x) > 1 else 1)"
   ]
  },
  {
   "cell_type": "code",
   "execution_count": 75,
   "id": "406dc7fe-0311-466f-889e-2bebdf4b66dc",
   "metadata": {
    "tags": []
   },
   "outputs": [
    {
     "data": {
      "text/html": [
       "<div>\n",
       "<style scoped>\n",
       "    .dataframe tbody tr th:only-of-type {\n",
       "        vertical-align: middle;\n",
       "    }\n",
       "\n",
       "    .dataframe tbody tr th {\n",
       "        vertical-align: top;\n",
       "    }\n",
       "\n",
       "    .dataframe thead th {\n",
       "        text-align: right;\n",
       "    }\n",
       "</style>\n",
       "<table border=\"1\" class=\"dataframe\">\n",
       "  <thead>\n",
       "    <tr style=\"text-align: right;\">\n",
       "      <th></th>\n",
       "      <th>symbol</th>\n",
       "      <th>avg_volume</th>\n",
       "      <th>log_volume</th>\n",
       "    </tr>\n",
       "  </thead>\n",
       "  <tbody>\n",
       "    <tr>\n",
       "      <th>0</th>\n",
       "      <td>20MICRONS.NS</td>\n",
       "      <td>30719768.17615295508091</td>\n",
       "      <td>42.520100</td>\n",
       "    </tr>\n",
       "    <tr>\n",
       "      <th>1</th>\n",
       "      <td>21STCENMGM.NS</td>\n",
       "      <td>301008.914794998170304</td>\n",
       "      <td>31.112160</td>\n",
       "    </tr>\n",
       "    <tr>\n",
       "      <th>2</th>\n",
       "      <td>3IINFOLTD.NS</td>\n",
       "      <td>161305952.576985397372464</td>\n",
       "      <td>46.610209</td>\n",
       "    </tr>\n",
       "    <tr>\n",
       "      <th>3</th>\n",
       "      <td>3MINDIA.NS</td>\n",
       "      <td>160494037.199101563</td>\n",
       "      <td>46.597764</td>\n",
       "    </tr>\n",
       "    <tr>\n",
       "      <th>4</th>\n",
       "      <td>3PLAND.NS</td>\n",
       "      <td>2059614.987348632803598</td>\n",
       "      <td>35.855193</td>\n",
       "    </tr>\n",
       "    <tr>\n",
       "      <th>...</th>\n",
       "      <td>...</td>\n",
       "      <td>...</td>\n",
       "      <td>...</td>\n",
       "    </tr>\n",
       "    <tr>\n",
       "      <th>1799</th>\n",
       "      <td>ZODIAC.NS</td>\n",
       "      <td>5687203.40596631106407</td>\n",
       "      <td>38.360216</td>\n",
       "    </tr>\n",
       "    <tr>\n",
       "      <th>1800</th>\n",
       "      <td>ZOMATO.NS</td>\n",
       "      <td>9866556384.38835288761918</td>\n",
       "      <td>56.755603</td>\n",
       "    </tr>\n",
       "    <tr>\n",
       "      <th>1801</th>\n",
       "      <td>ZOTA.NS</td>\n",
       "      <td>18296907.87303894009319</td>\n",
       "      <td>41.242125</td>\n",
       "    </tr>\n",
       "    <tr>\n",
       "      <th>1802</th>\n",
       "      <td>ZUARI.NS</td>\n",
       "      <td>153157835.41733276448707</td>\n",
       "      <td>46.482371</td>\n",
       "    </tr>\n",
       "    <tr>\n",
       "      <th>1803</th>\n",
       "      <td>ZYDUSWELL.NS</td>\n",
       "      <td>68383610.1598266601563</td>\n",
       "      <td>44.493702</td>\n",
       "    </tr>\n",
       "  </tbody>\n",
       "</table>\n",
       "<p>1804 rows × 3 columns</p>\n",
       "</div>"
      ],
      "text/plain": [
       "             symbol                 avg_volume  log_volume\n",
       "0      20MICRONS.NS    30719768.17615295508091   42.520100\n",
       "1     21STCENMGM.NS     301008.914794998170304   31.112160\n",
       "2      3IINFOLTD.NS  161305952.576985397372464   46.610209\n",
       "3        3MINDIA.NS        160494037.199101563   46.597764\n",
       "4         3PLAND.NS    2059614.987348632803598   35.855193\n",
       "...             ...                        ...         ...\n",
       "1799      ZODIAC.NS     5687203.40596631106407   38.360216\n",
       "1800      ZOMATO.NS  9866556384.38835288761918   56.755603\n",
       "1801        ZOTA.NS    18296907.87303894009319   41.242125\n",
       "1802       ZUARI.NS   153157835.41733276448707   46.482371\n",
       "1803   ZYDUSWELL.NS     68383610.1598266601563   44.493702\n",
       "\n",
       "[1804 rows x 3 columns]"
      ]
     },
     "execution_count": 75,
     "metadata": {},
     "output_type": "execute_result"
    }
   ],
   "source": [
    "volume_df"
   ]
  },
  {
   "cell_type": "code",
   "execution_count": 76,
   "id": "6a8d3974-f128-42a6-9f75-46d855fbe2bb",
   "metadata": {
    "tags": []
   },
   "outputs": [],
   "source": [
    "symbol_names = get_all_symbol_names()"
   ]
  },
  {
   "cell_type": "code",
   "execution_count": 77,
   "id": "b97422b4-be49-4562-9c18-1ca696a1b090",
   "metadata": {
    "tags": []
   },
   "outputs": [],
   "source": [
    "from fuzzywuzzy import process, fuzz"
   ]
  },
  {
   "cell_type": "code",
   "execution_count": 78,
   "id": "a5cdbf28-c4e3-4e0f-a7ab-4b78baf0541d",
   "metadata": {
    "tags": []
   },
   "outputs": [],
   "source": [
    "name_to_symbol = {}"
   ]
  },
  {
   "cell_type": "code",
   "execution_count": 79,
   "id": "0939e628-806d-434c-996c-4b276ba4069e",
   "metadata": {
    "tags": []
   },
   "outputs": [],
   "source": [
    "for sym, name in symbol_names:\n",
    "    if sym.split('.')[1] == 'NS':\n",
    "        if name in symbol_names:\n",
    "            name_to_symbol[name].append(sym)\n",
    "        else:\n",
    "            name_to_symbol[name] = [sym]"
   ]
  },
  {
   "cell_type": "code",
   "execution_count": 80,
   "id": "6b5c7852-2059-4224-81d0-8f9815429401",
   "metadata": {
    "tags": []
   },
   "outputs": [
    {
     "data": {
      "text/plain": [
       "1931"
      ]
     },
     "execution_count": 80,
     "metadata": {},
     "output_type": "execute_result"
    }
   ],
   "source": [
    "len(name_to_symbol)"
   ]
  },
  {
   "cell_type": "code",
   "execution_count": 85,
   "id": "eca2804c-54c2-4c33-8393-34a5c47a30fe",
   "metadata": {
    "tags": []
   },
   "outputs": [],
   "source": [
    "distinct_names = list(name_to_symbol.keys())"
   ]
  },
  {
   "cell_type": "code",
   "execution_count": 86,
   "id": "4ac845f8-5b0d-4be0-a71d-008354fa5925",
   "metadata": {
    "tags": []
   },
   "outputs": [],
   "source": [
    "distinct_symbols = [x[0] for x in symbol_names if '.NS' in x[0]]"
   ]
  },
  {
   "cell_type": "code",
   "execution_count": 104,
   "id": "72d704a8-7373-4880-ab69-2ded32f0e464",
   "metadata": {
    "tags": []
   },
   "outputs": [],
   "source": [
    "import requests"
   ]
  },
  {
   "cell_type": "code",
   "execution_count": 153,
   "id": "83b897c6-64ee-406d-8aab-fe1870027345",
   "metadata": {
    "tags": []
   },
   "outputs": [],
   "source": [
    "def orchestrate(query):\n",
    "    query_details = parse_details_from_gpt(query)\n",
    "    # print(query_details)\n",
    "    if not query_details['financial_or_business_query']:\n",
    "        print('not a financial query')\n",
    "        return\n",
    "    if not query_details['sql_db_has_data']:\n",
    "        r = requests.post('http://127.0.0.1:8000/search_query_web', json={'query_text': query})\n",
    "        return r\n",
    "    for mandatory_key in ['companies_mentioned', 'time_period_type', 'time_period_duration', 'query_type']:\n",
    "        if mandatory_key not in query_details:\n",
    "            print('ill formed arguments. calling web instead')\n",
    "            r = requests.post('http://127.0.0.1:8000/search_query_web', json={'query_text': query})\n",
    "            return r\n",
    "    symbols = []\n",
    "    for name in query_details['companies_mentioned']:\n",
    "        symbols.append(get_symbol_for_name(name))\n",
    "    time_period = f\"{query_details['time_period_duration']} {query_details['time_period_type']}\"\n",
    "    function_mapping = {'get_stocks_price_between_dates': get_stocks_price_between_dates, 'get_avg_stock_prices_between_dates': get_avg_stock_prices_between_dates, 'beta_calculation_query': beta_calculation_query}\n",
    "    function_to_call = function_mapping[query_details['query_type']]\n",
    "    results = function_to_call(symbols, time_period)\n",
    "    return results"
   ]
  },
  {
   "cell_type": "code",
   "execution_count": 154,
   "id": "e3f6b138-c9aa-4bb6-9e51-022090af1c44",
   "metadata": {
    "tags": []
   },
   "outputs": [],
   "source": [
    "r = orchestrate('which among airtel adani reliance and apollo stocks had the best performance')"
   ]
  },
  {
   "cell_type": "code",
   "execution_count": 155,
   "id": "fcc16c6e-33e4-43de-89b7-d86be92cc9bf",
   "metadata": {
    "scrolled": true,
    "tags": []
   },
   "outputs": [
    {
     "data": {
      "text/plain": [
       "[('ADANIENT.NS', Decimal('3086.9669541181144068')),\n",
       " ('APLAPOLLO.NS', Decimal('1499.1050797801906780')),\n",
       " ('BHARTIARTL.NS', Decimal('1106.6203344312764831')),\n",
       " ('RELIANCE.NS', Decimal('2799.7644084348516949'))]"
      ]
     },
     "execution_count": 155,
     "metadata": {},
     "output_type": "execute_result"
    }
   ],
   "source": [
    "r"
   ]
  },
  {
   "cell_type": "code",
   "execution_count": 145,
   "id": "0a320cbd-a1c1-432c-a122-12dec4b298b1",
   "metadata": {
    "tags": []
   },
   "outputs": [
    {
     "data": {
      "text/plain": [
       "'{\"additionalInfo\":{\"query_understanding\":{\"completion_tokens\":17,\"evaluation\":\"True,High,False,is gold a good investment right now 24/03/23\",\"model\":\"gpt-4-0125-preview\",\"prompt_tokens\":208,\"system_prompt\":\"You are an expert in taking user queries on an indian financial and business website and extracting important attributes separated by comma. The final attribute of web search query is extremely important, and should directly result in relevant results when the query has any financial or business connection. If the entity or query is too vague to get only financial or business results, then append it with \\\\u2018financial and business news\\\\u2019. Today is 18/03/24. When using in web query, then use %d/%m/%y\\\\n- is_fin_business_query(True/False), recency_importance (High for very volatile, medium for slowly changing stuff like regulations or industry related, and low for very less changing like educational and guides), vague(True/False), web_search_query\\\\nexample query: best credit cards. example output: \\'True,Medium,False,best credit cards 2024 reviews\\'. Generate the responses for the below user query. No preamble or postamble.\",\"user_prompt\":\"is gold a good investment right now\"}},\"searchArticleIds\":[{\"article_id\":\"6555caac4b13023f934956f4\"},{\"article_id\":\"65f803fd86b67773a7ed7281\"},{\"article_id\":\"65f694fb86b67773a7ed6c7f\"},{\"article_id\":\"65f694fb86b67773a7ed6c84\"},{\"article_id\":\"65f694fb86b67773a7ed6c83\"},{\"article_id\":\"65f694fb86b67773a7ed6c81\"},{\"article_id\":\"65f803fd86b67773a7ed7283\"},{\"article_id\":\"65f694fb86b67773a7ed6c80\"},{\"article_id\":\"65f8042386b67773a7ed7292\"}]}\\n'"
      ]
     },
     "execution_count": 145,
     "metadata": {},
     "output_type": "execute_result"
    }
   ],
   "source": [
    "r.text"
   ]
  },
  {
   "cell_type": "code",
   "execution_count": 152,
   "id": "ec8f0bbf-f741-474c-a9a9-007fca39fa87",
   "metadata": {
    "tags": []
   },
   "outputs": [],
   "source": [
    "def parse_details_from_gpt(query):\n",
    "    messages = [{\"role\": \"system\", \"content\": sys}, \n",
    "            {\"role\": \"user\", \"content\": f\"user_query: {query}\"}]\n",
    "    tools = [\n",
    "        {\n",
    "            \"type\": \"function\",\n",
    "            \"function\": {\n",
    "                \"name\": \"get_query_details\",\n",
    "                \"description\": \"Get details of user query\",\n",
    "                \"parameters\": {\n",
    "                    \"type\": \"object\",\n",
    "                    \"properties\": {\n",
    "                        \"financial_or_business_query\": {\"type\": \"boolean\",\"description\": \"If the query is relevant for personal finance, markets of business related queries\"},\n",
    "                        \"sql_db_has_data\": {\"type\": \"boolean\", \"description\": \"If running a sql query over stock_history table will answer user query\"},\n",
    "                        \"companies_mentioned\": {\"type\": \"array\", \"items\": {\"type\": \"string\"}, \"minItems\": 0, \"maxItems\": 5, \"description\": \"Array of company names mentioned in the user query\"},\n",
    "                        \"time_period_type\": {\"type\": \"string\", \"enum\": [\"year\", \"month\", \"week\", \"day\"]},\n",
    "                        \"time_period_duration\": {\"type\": \"integer\", \"minimum\": 1, \"maximum\": 3},\n",
    "                        \"query_type\": {\"type\": \"string\", \"enum\": [\"get_stocks_price_between_dates\", \"get_avg_stock_prices_between_dates\", \"beta_calculation_query\"]}\n",
    "                    },\n",
    "                    \"required\": [\"financial_or_business_query\", \"sql_db_has_data\", \"companies_mentioned\", \"time_period_type\", \"time_period_duration\", \"query_type\"],\n",
    "                },\n",
    "            },\n",
    "        }\n",
    "    ]\n",
    "    # \n",
    "    # gpt-4-0125-preview\n",
    "    response = client.chat.completions.create(\n",
    "        model=\"gpt-4-0125-preview\",\n",
    "        messages=messages,\n",
    "        tools=tools,\n",
    "        tool_choice={'type': 'function', 'function': {'name': 'get_query_details'}},  # auto is default, but we'll be explicit\n",
    "    )\n",
    "    return json.loads(response.choices[0].message.tool_calls[0].function.arguments)"
   ]
  },
  {
   "cell_type": "code",
   "execution_count": 102,
   "id": "e8c06954-ad52-48b8-a2c4-6cc437949845",
   "metadata": {
    "tags": []
   },
   "outputs": [],
   "source": [
    "def get_symbol_for_name(name):\n",
    "    k = process.extract(name, distinct_names)\n",
    "    symbols_matched = []\n",
    "    for name_match, score in k:\n",
    "        symbols_matched.extend([(cur_symbol,score) for cur_symbol in name_to_symbol[name_match]])\n",
    "    p = process.extract(name, distinct_symbols)\n",
    "    # sym = name_to_symbol[matching_name][0]\n",
    "    matches = pd.DataFrame(symbols_matched + p, columns = ['symbol', 'matching_score'])\n",
    "    matches = pd.merge(matches, volume_df, how = 'left', on = 'symbol')\n",
    "    matches['score'] = matches['matching_score'] * matches['log_volume']\n",
    "    return matches[matches['matching_score'] > 75].nlargest(1, 'score')['symbol'].values[0]"
   ]
  },
  {
   "cell_type": "code",
   "execution_count": 103,
   "id": "eafd4ada-0d5a-4b96-a681-5444a767d40c",
   "metadata": {
    "tags": []
   },
   "outputs": [
    {
     "data": {
      "text/plain": [
       "'PAYTM.NS'"
      ]
     },
     "execution_count": 103,
     "metadata": {},
     "output_type": "execute_result"
    }
   ],
   "source": [
    "get_symbol_for_name('paytm')"
   ]
  },
  {
   "cell_type": "code",
   "execution_count": 133,
   "id": "dd0a5cbd-c252-47a0-9277-5939a51edeff",
   "metadata": {
    "tags": []
   },
   "outputs": [],
   "source": [
    "def get_stocks_price_between_dates(symbols, time_period='3 month'):\n",
    "    symbol_string = ''\n",
    "    for sym in symbols:\n",
    "        symbol_string = symbol_string + f\"'{sym}',\"\n",
    "    symbol_string = symbol_string.strip(',')\n",
    "    with PostgresDatabaseOperation() as cursor:\n",
    "        sql = f\"SELECT date, symbol, close FROM stock_history_latest WHERE symbol in ({symbol_string}) AND date >= CURRENT_DATE - INTERVAL '{time_period}'\"\n",
    "        cursor.execute(sql)\n",
    "        results = cursor.fetchall()\n",
    "    return results\n",
    "\n",
    "def get_avg_stock_prices_between_dates(symbols, time_period='3 month'):\n",
    "    symbol_string = ''\n",
    "    for sym in symbols:\n",
    "        symbol_string = symbol_string + f\"'{sym}',\"\n",
    "    symbol_string = symbol_string.strip(',')\n",
    "    with PostgresDatabaseOperation() as cursor:\n",
    "        sql = f\"SELECT symbol, avg(close) FROM stock_history_latest WHERE symbol in ({symbol_string}) AND date >= CURRENT_DATE - INTERVAL '{time_period}' GROUP BY symbol\"\n",
    "        cursor.execute(sql)\n",
    "        results = cursor.fetchall()\n",
    "    return results\n",
    "\n",
    "def beta_calculation_query(symbols, time_period='1 year'):\n",
    "    market_symbol = '^NSEI'  # NSE Index symbol\n",
    "    symbol_string = ','.join(f\"'{sym}'\" for sym in symbols)\n",
    "\n",
    "    stock_returns_subquery = f\"\"\"\n",
    "    SELECT symbol, \n",
    "           date, \n",
    "           (close - LAG(close, 1) OVER (PARTITION BY symbol ORDER BY date)) / LAG(close, 1) OVER (PARTITION BY symbol ORDER BY date) AS daily_return\n",
    "    FROM stock_history\n",
    "    WHERE symbol IN ({symbol_string}) AND date >= CURRENT_DATE - INTERVAL '{time_period}'\n",
    "    \"\"\"\n",
    "\n",
    "    market_returns_subquery = f\"\"\"\n",
    "    SELECT date, \n",
    "           (close - LAG(close, 1) OVER (ORDER BY date)) / LAG(close, 1) OVER (ORDER BY date) AS daily_return\n",
    "    FROM stock_history\n",
    "    WHERE symbol = '{market_symbol}' AND date >= CURRENT_DATE - INTERVAL '{time_period}'\n",
    "    \"\"\"\n",
    "\n",
    "    # Assuming you want to calculate beta for each stock symbol against the market index\n",
    "    beta_query = f\"\"\"\n",
    "    SELECT s.symbol, \n",
    "           (COVAR_SAMP(s.daily_return, m.daily_return) / VAR_SAMP(m.daily_return)) AS beta\n",
    "    FROM ({stock_returns_subquery}) s\n",
    "    INNER JOIN ({market_returns_subquery}) m ON s.date = m.date\n",
    "    GROUP BY s.symbol\n",
    "    \"\"\"\n",
    "    \n",
    "    with PostgresDatabaseOperation() as cursor:\n",
    "        cursor.execute(beta_query)\n",
    "        results = cursor.fetchall()\n",
    "    return results"
   ]
  },
  {
   "cell_type": "markdown",
   "id": "610a51cc-a199-450d-a09d-528e00cd6782",
   "metadata": {},
   "source": [
    "### User investments"
   ]
  },
  {
   "cell_type": "code",
   "execution_count": 156,
   "id": "07fe8ef6-6da9-4b69-a618-847eb7091166",
   "metadata": {
    "tags": []
   },
   "outputs": [],
   "source": [
    "import pandas as pd"
   ]
  },
  {
   "cell_type": "code",
   "execution_count": 157,
   "id": "feff3edb-bbf4-4bf6-bf7a-45c36f52b614",
   "metadata": {
    "tags": []
   },
   "outputs": [],
   "source": [
    "df = pd.read_csv('user_investments.csv')"
   ]
  },
  {
   "cell_type": "code",
   "execution_count": 161,
   "id": "a5ca8c09-3de8-4e50-8064-26aa1df76465",
   "metadata": {
    "tags": []
   },
   "outputs": [],
   "source": [
    "df = df[['user_id', 'investment_option_id', 'quantity', 'average_price', 'isin', 'name', 'nseticker', 'bseticker']]"
   ]
  },
  {
   "cell_type": "code",
   "execution_count": 173,
   "id": "f6f736ad-249f-4f96-81ec-7d2a63fbb45d",
   "metadata": {
    "tags": []
   },
   "outputs": [
    {
     "name": "stderr",
     "output_type": "stream",
     "text": [
      "/var/folders/d4/cgyr_gnj7nn2wy_hq40gkq8c0000gq/T/ipykernel_35623/850385422.py:1: SettingWithCopyWarning: \n",
      "A value is trying to be set on a copy of a slice from a DataFrame.\n",
      "Try using .loc[row_indexer,col_indexer] = value instead\n",
      "\n",
      "See the caveats in the documentation: https://pandas.pydata.org/pandas-docs/stable/user_guide/indexing.html#returning-a-view-versus-a-copy\n",
      "  df['nseticker'] = df['nseticker'].apply(lambda x: x + '.NS' if '.NS' not in x else x)\n",
      "/var/folders/d4/cgyr_gnj7nn2wy_hq40gkq8c0000gq/T/ipykernel_35623/850385422.py:2: SettingWithCopyWarning: \n",
      "A value is trying to be set on a copy of a slice from a DataFrame.\n",
      "Try using .loc[row_indexer,col_indexer] = value instead\n",
      "\n",
      "See the caveats in the documentation: https://pandas.pydata.org/pandas-docs/stable/user_guide/indexing.html#returning-a-view-versus-a-copy\n",
      "  df['bseticker'] = df['bseticker'].apply(lambda x: x + '.BO' if pd.notnull(x) and '.BO' not in x else x)\n"
     ]
    }
   ],
   "source": [
    "df['nseticker'] = df['nseticker'].apply(lambda x: x + '.NS' if '.NS' not in x else x)\n",
    "df['bseticker'] = df['bseticker'].apply(lambda x: x + '.BO' if pd.notnull(x) and '.BO' not in x else x)"
   ]
  },
  {
   "cell_type": "code",
   "execution_count": 174,
   "id": "4abbe3ee-4198-4581-a3a2-8756e32867f8",
   "metadata": {
    "tags": []
   },
   "outputs": [
    {
     "data": {
      "text/html": [
       "<div>\n",
       "<style scoped>\n",
       "    .dataframe tbody tr th:only-of-type {\n",
       "        vertical-align: middle;\n",
       "    }\n",
       "\n",
       "    .dataframe tbody tr th {\n",
       "        vertical-align: top;\n",
       "    }\n",
       "\n",
       "    .dataframe thead th {\n",
       "        text-align: right;\n",
       "    }\n",
       "</style>\n",
       "<table border=\"1\" class=\"dataframe\">\n",
       "  <thead>\n",
       "    <tr style=\"text-align: right;\">\n",
       "      <th></th>\n",
       "      <th>user_id</th>\n",
       "      <th>investment_option_id</th>\n",
       "      <th>quantity</th>\n",
       "      <th>average_price</th>\n",
       "      <th>isin</th>\n",
       "      <th>name</th>\n",
       "      <th>nseticker</th>\n",
       "      <th>bseticker</th>\n",
       "    </tr>\n",
       "  </thead>\n",
       "  <tbody>\n",
       "    <tr>\n",
       "      <th>0</th>\n",
       "      <td>1</td>\n",
       "      <td>1</td>\n",
       "      <td>12</td>\n",
       "      <td>598.375000</td>\n",
       "      <td>INE699H01024</td>\n",
       "      <td>Adani Wilmar Ltd</td>\n",
       "      <td>AWL.NS</td>\n",
       "      <td>AWL.BO</td>\n",
       "    </tr>\n",
       "    <tr>\n",
       "      <th>1</th>\n",
       "      <td>1</td>\n",
       "      <td>2</td>\n",
       "      <td>15</td>\n",
       "      <td>613.720000</td>\n",
       "      <td>INE118H01025</td>\n",
       "      <td>BSE Ltd</td>\n",
       "      <td>BSE.NS</td>\n",
       "      <td>NaN</td>\n",
       "    </tr>\n",
       "    <tr>\n",
       "      <th>2</th>\n",
       "      <td>1</td>\n",
       "      <td>3</td>\n",
       "      <td>10</td>\n",
       "      <td>1187.260000</td>\n",
       "      <td>INE736A01011</td>\n",
       "      <td>Central Depository Services (India) Ltd</td>\n",
       "      <td>CDSL.NS</td>\n",
       "      <td>NaN</td>\n",
       "    </tr>\n",
       "    <tr>\n",
       "      <th>3</th>\n",
       "      <td>1</td>\n",
       "      <td>4</td>\n",
       "      <td>4</td>\n",
       "      <td>1576.300000</td>\n",
       "      <td>INE259A01022</td>\n",
       "      <td>Colgate-Palmolive (India) Ltd</td>\n",
       "      <td>COLPAL.NS</td>\n",
       "      <td>COLPAL.BO</td>\n",
       "    </tr>\n",
       "    <tr>\n",
       "      <th>4</th>\n",
       "      <td>1</td>\n",
       "      <td>5</td>\n",
       "      <td>50</td>\n",
       "      <td>239.270000</td>\n",
       "      <td>INE509F01011</td>\n",
       "      <td>Cupid Ltd</td>\n",
       "      <td>CUPID.NS</td>\n",
       "      <td>CUPID.BO</td>\n",
       "    </tr>\n",
       "    <tr>\n",
       "      <th>5</th>\n",
       "      <td>1</td>\n",
       "      <td>6</td>\n",
       "      <td>204</td>\n",
       "      <td>46.186617</td>\n",
       "      <td>INF204KB17I5</td>\n",
       "      <td>Nippon India ETF Gold BeES</td>\n",
       "      <td>GOLDBEES.NS</td>\n",
       "      <td>GOLDBEES.BO</td>\n",
       "    </tr>\n",
       "    <tr>\n",
       "      <th>6</th>\n",
       "      <td>1</td>\n",
       "      <td>7</td>\n",
       "      <td>5</td>\n",
       "      <td>429.500000</td>\n",
       "      <td>INE08ZM01014</td>\n",
       "      <td>Greenpanel Industries Ltd</td>\n",
       "      <td>GREENPANEL.NS</td>\n",
       "      <td>GREENPANEL.BO</td>\n",
       "    </tr>\n",
       "    <tr>\n",
       "      <th>7</th>\n",
       "      <td>1</td>\n",
       "      <td>8</td>\n",
       "      <td>60</td>\n",
       "      <td>157.880000</td>\n",
       "      <td>INE022Q01020</td>\n",
       "      <td>Indian Energy Exchange Ltd</td>\n",
       "      <td>IEX.NS</td>\n",
       "      <td>IEX.BO</td>\n",
       "    </tr>\n",
       "    <tr>\n",
       "      <th>8</th>\n",
       "      <td>1</td>\n",
       "      <td>9</td>\n",
       "      <td>15</td>\n",
       "      <td>696.270000</td>\n",
       "      <td>INE335Y01020</td>\n",
       "      <td>Indian Railway Catering and Tourism Corporatio...</td>\n",
       "      <td>IRCTC.NS</td>\n",
       "      <td>IRCTC.BO</td>\n",
       "    </tr>\n",
       "    <tr>\n",
       "      <th>9</th>\n",
       "      <td>1</td>\n",
       "      <td>10</td>\n",
       "      <td>40</td>\n",
       "      <td>348.560000</td>\n",
       "      <td>INE154A01025</td>\n",
       "      <td>Itc Ltd</td>\n",
       "      <td>ITC.NS</td>\n",
       "      <td>ITC.BO</td>\n",
       "    </tr>\n",
       "    <tr>\n",
       "      <th>10</th>\n",
       "      <td>1</td>\n",
       "      <td>11</td>\n",
       "      <td>7</td>\n",
       "      <td>433.947142</td>\n",
       "      <td>INF732E01045</td>\n",
       "      <td>Nippon India ETF Nifty Next 50 Junior BeES</td>\n",
       "      <td>JUNIORBEES.NS</td>\n",
       "      <td>JUNIORBEES.BO</td>\n",
       "    </tr>\n",
       "    <tr>\n",
       "      <th>11</th>\n",
       "      <td>1</td>\n",
       "      <td>12</td>\n",
       "      <td>8</td>\n",
       "      <td>1000.010000</td>\n",
       "      <td>INF732E01037</td>\n",
       "      <td>Nippon India ETF Nifty 1D Rate Liquid BeES</td>\n",
       "      <td>LIQUIDBEES.NS</td>\n",
       "      <td>LIQUIDBEES.BO</td>\n",
       "    </tr>\n",
       "    <tr>\n",
       "      <th>12</th>\n",
       "      <td>1</td>\n",
       "      <td>13</td>\n",
       "      <td>10</td>\n",
       "      <td>1394.430000</td>\n",
       "      <td>INE745G01035</td>\n",
       "      <td>Multi Commodity Exchange of India Ltd</td>\n",
       "      <td>MCX.NS</td>\n",
       "      <td>MCX.BO</td>\n",
       "    </tr>\n",
       "    <tr>\n",
       "      <th>13</th>\n",
       "      <td>1</td>\n",
       "      <td>14</td>\n",
       "      <td>15</td>\n",
       "      <td>129.269238</td>\n",
       "      <td>INE775A01035</td>\n",
       "      <td>Samvardhana Motherson International Ltd</td>\n",
       "      <td>MOTHERSON.NS</td>\n",
       "      <td>MOTHERSON.BO</td>\n",
       "    </tr>\n",
       "    <tr>\n",
       "      <th>14</th>\n",
       "      <td>1</td>\n",
       "      <td>15</td>\n",
       "      <td>14</td>\n",
       "      <td>16.300816</td>\n",
       "      <td>INE0FS801015</td>\n",
       "      <td>Motherson Sumi Wiring India Ltd</td>\n",
       "      <td>MSUMI.NS</td>\n",
       "      <td>MSUMI.BO</td>\n",
       "    </tr>\n",
       "    <tr>\n",
       "      <th>15</th>\n",
       "      <td>1</td>\n",
       "      <td>16</td>\n",
       "      <td>5</td>\n",
       "      <td>1626.600000</td>\n",
       "      <td>INE864I01014</td>\n",
       "      <td>MTAR Technologies Ltd</td>\n",
       "      <td>MTARTECH.NS</td>\n",
       "      <td>MTARTECH.BO</td>\n",
       "    </tr>\n",
       "    <tr>\n",
       "      <th>16</th>\n",
       "      <td>1</td>\n",
       "      <td>17</td>\n",
       "      <td>24</td>\n",
       "      <td>194.690000</td>\n",
       "      <td>INF204KB14I2</td>\n",
       "      <td>Nippon India ETF Nifty 50 BeES</td>\n",
       "      <td>NIFTYBEES.NS</td>\n",
       "      <td>NIFTYBEES.BO</td>\n",
       "    </tr>\n",
       "    <tr>\n",
       "      <th>17</th>\n",
       "      <td>1</td>\n",
       "      <td>18</td>\n",
       "      <td>52</td>\n",
       "      <td>149.512500</td>\n",
       "      <td>INE213A01029</td>\n",
       "      <td>Oil and Natural Gas Corporation Ltd</td>\n",
       "      <td>ONGC.NS</td>\n",
       "      <td>ONGC.BO</td>\n",
       "    </tr>\n",
       "    <tr>\n",
       "      <th>18</th>\n",
       "      <td>1</td>\n",
       "      <td>19</td>\n",
       "      <td>5</td>\n",
       "      <td>2539.470000</td>\n",
       "      <td>INE318A01026</td>\n",
       "      <td>Pidilite Industries Ltd</td>\n",
       "      <td>PIDILITIND.NS</td>\n",
       "      <td>PIDILITIND.BO</td>\n",
       "    </tr>\n",
       "    <tr>\n",
       "      <th>19</th>\n",
       "      <td>1</td>\n",
       "      <td>20</td>\n",
       "      <td>13</td>\n",
       "      <td>145.800000</td>\n",
       "      <td>INE07T201019</td>\n",
       "      <td>Restaurant Brands Asia Ltd</td>\n",
       "      <td>RBA.NS</td>\n",
       "      <td>RBA.BO</td>\n",
       "    </tr>\n",
       "    <tr>\n",
       "      <th>20</th>\n",
       "      <td>1</td>\n",
       "      <td>21</td>\n",
       "      <td>20</td>\n",
       "      <td>441.887500</td>\n",
       "      <td>INE155A01022</td>\n",
       "      <td>Tata Motors Ltd</td>\n",
       "      <td>TATAMOTORS.NS</td>\n",
       "      <td>TATAMOTORS.BO</td>\n",
       "    </tr>\n",
       "    <tr>\n",
       "      <th>21</th>\n",
       "      <td>1</td>\n",
       "      <td>22</td>\n",
       "      <td>36</td>\n",
       "      <td>224.825000</td>\n",
       "      <td>INE245A01021</td>\n",
       "      <td>Tata Power Company Ltd</td>\n",
       "      <td>TATAPOWER.NS</td>\n",
       "      <td>TATAPOWER.BO</td>\n",
       "    </tr>\n",
       "    <tr>\n",
       "      <th>22</th>\n",
       "      <td>1</td>\n",
       "      <td>23</td>\n",
       "      <td>4</td>\n",
       "      <td>2532.625000</td>\n",
       "      <td>INE280A01028</td>\n",
       "      <td>Titan Company Ltd</td>\n",
       "      <td>TITAN.NS</td>\n",
       "      <td>TITAN.BO</td>\n",
       "    </tr>\n",
       "    <tr>\n",
       "      <th>23</th>\n",
       "      <td>1</td>\n",
       "      <td>24</td>\n",
       "      <td>11</td>\n",
       "      <td>413.154756</td>\n",
       "      <td>INE03HW01020</td>\n",
       "      <td>VL E-Governance &amp; IT Solutions Ltd</td>\n",
       "      <td>VLEGOV.NS</td>\n",
       "      <td>VLEGOV.BO</td>\n",
       "    </tr>\n",
       "    <tr>\n",
       "      <th>24</th>\n",
       "      <td>1</td>\n",
       "      <td>25</td>\n",
       "      <td>44</td>\n",
       "      <td>128.168182</td>\n",
       "      <td>INE758T01015</td>\n",
       "      <td>Zomato Ltd</td>\n",
       "      <td>ZOMATO.NS</td>\n",
       "      <td>ZOMATO.BO</td>\n",
       "    </tr>\n",
       "  </tbody>\n",
       "</table>\n",
       "</div>"
      ],
      "text/plain": [
       "    user_id  investment_option_id  quantity  average_price          isin  \\\n",
       "0         1                     1        12     598.375000  INE699H01024   \n",
       "1         1                     2        15     613.720000  INE118H01025   \n",
       "2         1                     3        10    1187.260000  INE736A01011   \n",
       "3         1                     4         4    1576.300000  INE259A01022   \n",
       "4         1                     5        50     239.270000  INE509F01011   \n",
       "5         1                     6       204      46.186617  INF204KB17I5   \n",
       "6         1                     7         5     429.500000  INE08ZM01014   \n",
       "7         1                     8        60     157.880000  INE022Q01020   \n",
       "8         1                     9        15     696.270000  INE335Y01020   \n",
       "9         1                    10        40     348.560000  INE154A01025   \n",
       "10        1                    11         7     433.947142  INF732E01045   \n",
       "11        1                    12         8    1000.010000  INF732E01037   \n",
       "12        1                    13        10    1394.430000  INE745G01035   \n",
       "13        1                    14        15     129.269238  INE775A01035   \n",
       "14        1                    15        14      16.300816  INE0FS801015   \n",
       "15        1                    16         5    1626.600000  INE864I01014   \n",
       "16        1                    17        24     194.690000  INF204KB14I2   \n",
       "17        1                    18        52     149.512500  INE213A01029   \n",
       "18        1                    19         5    2539.470000  INE318A01026   \n",
       "19        1                    20        13     145.800000  INE07T201019   \n",
       "20        1                    21        20     441.887500  INE155A01022   \n",
       "21        1                    22        36     224.825000  INE245A01021   \n",
       "22        1                    23         4    2532.625000  INE280A01028   \n",
       "23        1                    24        11     413.154756  INE03HW01020   \n",
       "24        1                    25        44     128.168182  INE758T01015   \n",
       "\n",
       "                                                 name      nseticker  \\\n",
       "0                                    Adani Wilmar Ltd         AWL.NS   \n",
       "1                                             BSE Ltd         BSE.NS   \n",
       "2             Central Depository Services (India) Ltd        CDSL.NS   \n",
       "3                       Colgate-Palmolive (India) Ltd      COLPAL.NS   \n",
       "4                                           Cupid Ltd       CUPID.NS   \n",
       "5                          Nippon India ETF Gold BeES    GOLDBEES.NS   \n",
       "6                           Greenpanel Industries Ltd  GREENPANEL.NS   \n",
       "7                          Indian Energy Exchange Ltd         IEX.NS   \n",
       "8   Indian Railway Catering and Tourism Corporatio...       IRCTC.NS   \n",
       "9                                             Itc Ltd         ITC.NS   \n",
       "10         Nippon India ETF Nifty Next 50 Junior BeES  JUNIORBEES.NS   \n",
       "11         Nippon India ETF Nifty 1D Rate Liquid BeES  LIQUIDBEES.NS   \n",
       "12              Multi Commodity Exchange of India Ltd         MCX.NS   \n",
       "13            Samvardhana Motherson International Ltd   MOTHERSON.NS   \n",
       "14                    Motherson Sumi Wiring India Ltd       MSUMI.NS   \n",
       "15                              MTAR Technologies Ltd    MTARTECH.NS   \n",
       "16                     Nippon India ETF Nifty 50 BeES   NIFTYBEES.NS   \n",
       "17                Oil and Natural Gas Corporation Ltd        ONGC.NS   \n",
       "18                            Pidilite Industries Ltd  PIDILITIND.NS   \n",
       "19                         Restaurant Brands Asia Ltd         RBA.NS   \n",
       "20                                    Tata Motors Ltd  TATAMOTORS.NS   \n",
       "21                             Tata Power Company Ltd   TATAPOWER.NS   \n",
       "22                                  Titan Company Ltd       TITAN.NS   \n",
       "23                 VL E-Governance & IT Solutions Ltd      VLEGOV.NS   \n",
       "24                                         Zomato Ltd      ZOMATO.NS   \n",
       "\n",
       "        bseticker  \n",
       "0          AWL.BO  \n",
       "1             NaN  \n",
       "2             NaN  \n",
       "3       COLPAL.BO  \n",
       "4        CUPID.BO  \n",
       "5     GOLDBEES.BO  \n",
       "6   GREENPANEL.BO  \n",
       "7          IEX.BO  \n",
       "8        IRCTC.BO  \n",
       "9          ITC.BO  \n",
       "10  JUNIORBEES.BO  \n",
       "11  LIQUIDBEES.BO  \n",
       "12         MCX.BO  \n",
       "13   MOTHERSON.BO  \n",
       "14       MSUMI.BO  \n",
       "15    MTARTECH.BO  \n",
       "16   NIFTYBEES.BO  \n",
       "17        ONGC.BO  \n",
       "18  PIDILITIND.BO  \n",
       "19         RBA.BO  \n",
       "20  TATAMOTORS.BO  \n",
       "21   TATAPOWER.BO  \n",
       "22       TITAN.BO  \n",
       "23      VLEGOV.BO  \n",
       "24      ZOMATO.BO  "
      ]
     },
     "execution_count": 174,
     "metadata": {},
     "output_type": "execute_result"
    }
   ],
   "source": [
    "df"
   ]
  },
  {
   "cell_type": "code",
   "execution_count": 175,
   "id": "aaef5ef4-9ae3-48a3-ac32-86b851962267",
   "metadata": {
    "tags": []
   },
   "outputs": [],
   "source": [
    "from io import StringIO\n",
    "output = StringIO()"
   ]
  },
  {
   "cell_type": "code",
   "execution_count": 176,
   "id": "e8d1f9f9-1abc-4d51-8df3-e6ca2e5f4d7e",
   "metadata": {
    "tags": []
   },
   "outputs": [],
   "source": [
    "df.to_csv(output, sep='\\t', header=False, index=False)"
   ]
  },
  {
   "cell_type": "code",
   "execution_count": 177,
   "id": "2b242e9b-ca64-4808-88e8-8a61930fe4ea",
   "metadata": {
    "tags": []
   },
   "outputs": [
    {
     "data": {
      "text/plain": [
       "0"
      ]
     },
     "execution_count": 177,
     "metadata": {},
     "output_type": "execute_result"
    }
   ],
   "source": [
    "output.seek(0)"
   ]
  },
  {
   "cell_type": "code",
   "execution_count": 178,
   "id": "0be9493f-6806-4cfb-a864-438cf25431f9",
   "metadata": {
    "tags": []
   },
   "outputs": [],
   "source": [
    "from sql.PostgresDatabaseOperation import PostgresDatabaseOperation"
   ]
  },
  {
   "cell_type": "code",
   "execution_count": 179,
   "id": "972a1e0f-0352-4e60-b73d-88516605493f",
   "metadata": {
    "tags": []
   },
   "outputs": [],
   "source": [
    "import time"
   ]
  },
  {
   "cell_type": "code",
   "execution_count": 180,
   "id": "f86990e2-88d0-4cc0-a708-f771a2941ee2",
   "metadata": {
    "tags": []
   },
   "outputs": [],
   "source": [
    "s = time.time()\n",
    "with PostgresDatabaseOperation() as cursor:\n",
    "    cursor.copy_from(output, 'user_investments_temp', null='')\n",
    "e = time.time()"
   ]
  },
  {
   "cell_type": "markdown",
   "id": "eab465b5-369c-49fd-8729-0e874b76b662",
   "metadata": {},
   "source": [
    "### Portfolio Queries"
   ]
  },
  {
   "cell_type": "code",
   "execution_count": 195,
   "id": "1c85f2fe-43fb-4b07-ba49-65a53f88d330",
   "metadata": {
    "tags": []
   },
   "outputs": [],
   "source": [
    "def current_portfolio_value():\n",
    "    sql = '''SELECT name, SUM(quantity * close) FROM user_investments_temp uit LEFT JOIN stock_history_latest sh\n",
    "            ON uit.nseticker = sh.symbol\n",
    "            WHERE date = '2024-03-10 18:30:00'\n",
    "            GROUP BY name\n",
    "    '''\n",
    "    with PostgresDatabaseOperation() as cursor:\n",
    "        cursor.execute(sql)\n",
    "        r = cursor.fetchall()\n",
    "    df = pd.DataFrame([(x[0], float(x[1])) for x in r], columns = ['stock', 'current_value'])\n",
    "    total_value = df['current_value'].sum()\n",
    "    df['percent'] = 100 * df['current_value'] / total_value\n",
    "    df = df.sort_values('percent',ascending = False)\n",
    "    return df, total_value"
   ]
  },
  {
   "cell_type": "code",
   "execution_count": 220,
   "id": "118d1297-b566-4cec-9f99-fab6c66e481e",
   "metadata": {
    "tags": []
   },
   "outputs": [],
   "source": [
    "def compare_portfolio_performance_with_index():\n",
    "    sql = '''\n",
    "    WITH initial_values AS (\n",
    "    SELECT\n",
    "        'portfolio' AS type,\n",
    "        SUM(ui.quantity * sh.close) AS initial_value\n",
    "    FROM\n",
    "        user_investments_temp ui\n",
    "    JOIN\n",
    "        stock_history_latest sh ON ui.nseticker = sh.symbol\n",
    "    WHERE\n",
    "        sh.date = (SELECT MIN(date) FROM stock_history_latest WHERE date >= CURRENT_DATE - INTERVAL '6 months')\n",
    "    UNION ALL\n",
    "    SELECT\n",
    "        'index' AS type,\n",
    "        sh.close AS initial_value\n",
    "    FROM\n",
    "        stock_history_latest sh\n",
    "    WHERE\n",
    "        sh.symbol = '^NSEI' AND\n",
    "        sh.date = (SELECT MIN(date) FROM stock_history_latest WHERE date >= CURRENT_DATE - INTERVAL '6 months')\n",
    "),\n",
    "daily_values AS (\n",
    "    SELECT\n",
    "        sh.date,\n",
    "        'portfolio' AS type,\n",
    "        SUM(ui.quantity * sh.close) AS current_value\n",
    "    FROM\n",
    "        user_investments_temp ui\n",
    "    JOIN\n",
    "        stock_history_latest sh ON ui.nseticker = sh.symbol\n",
    "    WHERE\n",
    "        sh.date >= CURRENT_DATE - INTERVAL '6 months'\n",
    "    GROUP BY\n",
    "        sh.date\n",
    "    UNION ALL\n",
    "    SELECT\n",
    "        sh.date,\n",
    "        'index' AS type,\n",
    "        sh.close AS current_value\n",
    "    FROM\n",
    "        stock_history_latest sh\n",
    "    WHERE\n",
    "        sh.symbol = '^NSEI' AND\n",
    "        sh.date >= CURRENT_DATE - INTERVAL '6 months'\n",
    "),\n",
    "growth AS (\n",
    "    SELECT\n",
    "        dv.date,\n",
    "        dv.type,\n",
    "        dv.current_value,\n",
    "        iv.initial_value,\n",
    "        (dv.current_value - iv.initial_value) / iv.initial_value * 100 AS growth_percentage\n",
    "    FROM\n",
    "        daily_values dv\n",
    "    JOIN\n",
    "        initial_values iv ON dv.type = iv.type\n",
    ")\n",
    "SELECT\n",
    "    date,\n",
    "    MAX(CASE WHEN type = 'portfolio' THEN growth_percentage ELSE NULL END) AS portfolio_growth_percentage,\n",
    "    MAX(CASE WHEN type = 'index' THEN growth_percentage ELSE NULL END) AS index_growth_percentage\n",
    "FROM\n",
    "    growth\n",
    "GROUP BY\n",
    "    date\n",
    "ORDER BY\n",
    "    date;\n",
    "    '''\n",
    "    with PostgresDatabaseOperation() as cursor:\n",
    "        cursor.execute(sql)\n",
    "        r = cursor.fetchall()\n",
    "    df = pd.DataFrame([(x[0], float(x[1]), float(x[2])) if x[1] and x[2] else (x[0], None, None) for x in r], columns = ['stock', 'portfolio', 'nse_index'])\n",
    "    # total_value = df['current_value'].sum()\n",
    "    # df['percent'] = 100 * df['current_value'] / total_value\n",
    "    # df = df.sort_values('percent',ascending = False)\n",
    "    return df"
   ]
  },
  {
   "cell_type": "code",
   "execution_count": 221,
   "id": "5e14d1d9-b0ee-4939-9edc-f4a5f3e571ff",
   "metadata": {
    "tags": []
   },
   "outputs": [],
   "source": [
    "k3 = compare_portfolio_performance_with_index()"
   ]
  },
  {
   "cell_type": "code",
   "execution_count": 222,
   "id": "14a9789b-3086-432c-b725-f7b67aa15dd9",
   "metadata": {
    "tags": []
   },
   "outputs": [
    {
     "data": {
      "text/html": [
       "<div>\n",
       "<style scoped>\n",
       "    .dataframe tbody tr th:only-of-type {\n",
       "        vertical-align: middle;\n",
       "    }\n",
       "\n",
       "    .dataframe tbody tr th {\n",
       "        vertical-align: top;\n",
       "    }\n",
       "\n",
       "    .dataframe thead th {\n",
       "        text-align: right;\n",
       "    }\n",
       "</style>\n",
       "<table border=\"1\" class=\"dataframe\">\n",
       "  <thead>\n",
       "    <tr style=\"text-align: right;\">\n",
       "      <th></th>\n",
       "      <th>stock</th>\n",
       "      <th>portfolio</th>\n",
       "      <th>nse_index</th>\n",
       "    </tr>\n",
       "  </thead>\n",
       "  <tbody>\n",
       "    <tr>\n",
       "      <th>0</th>\n",
       "      <td>2023-09-19 18:30:00+00:00</td>\n",
       "      <td>NaN</td>\n",
       "      <td>NaN</td>\n",
       "    </tr>\n",
       "    <tr>\n",
       "      <th>1</th>\n",
       "      <td>2023-09-20 18:30:00+00:00</td>\n",
       "      <td>-0.599073</td>\n",
       "      <td>-0.799194</td>\n",
       "    </tr>\n",
       "    <tr>\n",
       "      <th>2</th>\n",
       "      <td>2023-09-21 18:30:00+00:00</td>\n",
       "      <td>-0.715371</td>\n",
       "      <td>-1.141379</td>\n",
       "    </tr>\n",
       "    <tr>\n",
       "      <th>3</th>\n",
       "      <td>2023-09-24 18:30:00+00:00</td>\n",
       "      <td>-0.273710</td>\n",
       "      <td>-1.139868</td>\n",
       "    </tr>\n",
       "    <tr>\n",
       "      <th>4</th>\n",
       "      <td>2023-09-25 18:30:00+00:00</td>\n",
       "      <td>0.797870</td>\n",
       "      <td>-1.189369</td>\n",
       "    </tr>\n",
       "    <tr>\n",
       "      <th>...</th>\n",
       "      <td>...</td>\n",
       "      <td>...</td>\n",
       "      <td>...</td>\n",
       "    </tr>\n",
       "    <tr>\n",
       "      <th>114</th>\n",
       "      <td>2024-03-06 18:30:00+00:00</td>\n",
       "      <td>80.421672</td>\n",
       "      <td>13.024965</td>\n",
       "    </tr>\n",
       "    <tr>\n",
       "      <th>115</th>\n",
       "      <td>2024-03-10 18:30:00+00:00</td>\n",
       "      <td>76.142144</td>\n",
       "      <td>12.216477</td>\n",
       "    </tr>\n",
       "    <tr>\n",
       "      <th>116</th>\n",
       "      <td>2024-03-11 18:30:00+00:00</td>\n",
       "      <td>77.008872</td>\n",
       "      <td>12.231797</td>\n",
       "    </tr>\n",
       "    <tr>\n",
       "      <th>117</th>\n",
       "      <td>2024-03-12 18:30:00+00:00</td>\n",
       "      <td>69.446743</td>\n",
       "      <td>10.533424</td>\n",
       "    </tr>\n",
       "    <tr>\n",
       "      <th>118</th>\n",
       "      <td>2024-03-13 18:30:00+00:00</td>\n",
       "      <td>46.803637</td>\n",
       "      <td>11.281869</td>\n",
       "    </tr>\n",
       "  </tbody>\n",
       "</table>\n",
       "<p>119 rows × 3 columns</p>\n",
       "</div>"
      ],
      "text/plain": [
       "                        stock  portfolio  nse_index\n",
       "0   2023-09-19 18:30:00+00:00        NaN        NaN\n",
       "1   2023-09-20 18:30:00+00:00  -0.599073  -0.799194\n",
       "2   2023-09-21 18:30:00+00:00  -0.715371  -1.141379\n",
       "3   2023-09-24 18:30:00+00:00  -0.273710  -1.139868\n",
       "4   2023-09-25 18:30:00+00:00   0.797870  -1.189369\n",
       "..                        ...        ...        ...\n",
       "114 2024-03-06 18:30:00+00:00  80.421672  13.024965\n",
       "115 2024-03-10 18:30:00+00:00  76.142144  12.216477\n",
       "116 2024-03-11 18:30:00+00:00  77.008872  12.231797\n",
       "117 2024-03-12 18:30:00+00:00  69.446743  10.533424\n",
       "118 2024-03-13 18:30:00+00:00  46.803637  11.281869\n",
       "\n",
       "[119 rows x 3 columns]"
      ]
     },
     "execution_count": 222,
     "metadata": {},
     "output_type": "execute_result"
    }
   ],
   "source": [
    "k3"
   ]
  },
  {
   "cell_type": "code",
   "execution_count": 237,
   "id": "4ef56678-9cb5-4144-8756-d3df670553cb",
   "metadata": {
    "tags": []
   },
   "outputs": [],
   "source": [
    "def calculate_portfolio_growth_for_period(time_period = '4 week'):\n",
    "    sql = f'''\n",
    "    WITH initial_value AS (\n",
    "    SELECT\n",
    "        SUM(ui.quantity * sh.close) AS initial_value\n",
    "    FROM\n",
    "        user_investments_temp ui\n",
    "    JOIN\n",
    "        stock_history_latest sh ON ui.nseticker = sh.symbol\n",
    "    WHERE\n",
    "        sh.date = (SELECT MIN(date) FROM stock_history_latest WHERE date >= CURRENT_DATE - INTERVAL '{time_period}')\n",
    "),\n",
    "daily_value AS (\n",
    "    SELECT\n",
    "        sh.date,\n",
    "        SUM(ui.quantity * sh.close) AS current_value\n",
    "    FROM\n",
    "        user_investments_temp ui\n",
    "    JOIN\n",
    "        stock_history_latest sh ON ui.nseticker = sh.symbol\n",
    "    WHERE\n",
    "        sh.date >= CURRENT_DATE - INTERVAL '{time_period}'\n",
    "    GROUP BY\n",
    "        sh.date\n",
    "),\n",
    "growth AS (\n",
    "    SELECT\n",
    "        dv.date,\n",
    "        iv.initial_value,\n",
    "        dv.current_value,\n",
    "        (dv.current_value - iv.initial_value) / iv.initial_value * 100 AS growth_percentage\n",
    "    FROM\n",
    "        daily_value dv\n",
    "    CROSS JOIN\n",
    "        initial_value iv\n",
    ")\n",
    "SELECT\n",
    "    date,\n",
    "    current_value,\n",
    "    growth_percentage\n",
    "FROM\n",
    "    growth\n",
    "ORDER BY\n",
    "    date;\n",
    "    '''\n",
    "    with PostgresDatabaseOperation() as cursor:\n",
    "        cursor.execute(sql)\n",
    "        r = cursor.fetchall()\n",
    "    df = pd.DataFrame([(x[0], float(x[1]), float(x[2])) if x[2] else (x[0], x[1], x[2]) for x in r], columns = ['date', 'value', 'growth_percent'])\n",
    "    # total_value = df['current_value'].sum()\n",
    "    # df['percent'] = 100 * df['current_value'] / total_value\n",
    "    # df = df.sort_values('percent',ascending = False)\n",
    "    return df"
   ]
  },
  {
   "cell_type": "code",
   "execution_count": 238,
   "id": "7060f107-1eec-49d2-b73d-b649d8b78d90",
   "metadata": {
    "tags": []
   },
   "outputs": [],
   "source": [
    "k4 = calculate_portfolio_growth_for_period()"
   ]
  },
  {
   "cell_type": "code",
   "execution_count": 239,
   "id": "1360db62-d832-442f-bbe6-7579eee78f54",
   "metadata": {
    "scrolled": true,
    "tags": []
   },
   "outputs": [
    {
     "data": {
      "text/html": [
       "<div>\n",
       "<style scoped>\n",
       "    .dataframe tbody tr th:only-of-type {\n",
       "        vertical-align: middle;\n",
       "    }\n",
       "\n",
       "    .dataframe tbody tr th {\n",
       "        vertical-align: top;\n",
       "    }\n",
       "\n",
       "    .dataframe thead th {\n",
       "        text-align: right;\n",
       "    }\n",
       "</style>\n",
       "<table border=\"1\" class=\"dataframe\">\n",
       "  <thead>\n",
       "    <tr style=\"text-align: right;\">\n",
       "      <th></th>\n",
       "      <th>date</th>\n",
       "      <th>value</th>\n",
       "      <th>growth_percent</th>\n",
       "    </tr>\n",
       "  </thead>\n",
       "  <tbody>\n",
       "    <tr>\n",
       "      <th>0</th>\n",
       "      <td>2024-02-20 18:30:00+00:00</td>\n",
       "      <td>371249.57403564453088</td>\n",
       "      <td>0E-24</td>\n",
       "    </tr>\n",
       "    <tr>\n",
       "      <th>1</th>\n",
       "      <td>2024-02-21 18:30:00+00:00</td>\n",
       "      <td>372818.047028</td>\n",
       "      <td>0.422485</td>\n",
       "    </tr>\n",
       "    <tr>\n",
       "      <th>2</th>\n",
       "      <td>2024-02-22 18:30:00+00:00</td>\n",
       "      <td>379581.00441</td>\n",
       "      <td>2.244159</td>\n",
       "    </tr>\n",
       "    <tr>\n",
       "      <th>3</th>\n",
       "      <td>2024-02-25 18:30:00+00:00</td>\n",
       "      <td>384930.777985</td>\n",
       "      <td>3.685177</td>\n",
       "    </tr>\n",
       "    <tr>\n",
       "      <th>4</th>\n",
       "      <td>2024-02-26 18:30:00+00:00</td>\n",
       "      <td>393620.29599</td>\n",
       "      <td>6.025791</td>\n",
       "    </tr>\n",
       "    <tr>\n",
       "      <th>5</th>\n",
       "      <td>2024-02-27 18:30:00+00:00</td>\n",
       "      <td>396161.648804</td>\n",
       "      <td>6.710331</td>\n",
       "    </tr>\n",
       "    <tr>\n",
       "      <th>6</th>\n",
       "      <td>2024-02-28 18:30:00+00:00</td>\n",
       "      <td>398284.291412</td>\n",
       "      <td>7.282087</td>\n",
       "    </tr>\n",
       "    <tr>\n",
       "      <th>7</th>\n",
       "      <td>2024-02-29 18:30:00+00:00</td>\n",
       "      <td>402119.906464</td>\n",
       "      <td>8.315251</td>\n",
       "    </tr>\n",
       "    <tr>\n",
       "      <th>8</th>\n",
       "      <td>2024-03-03 18:30:00+00:00</td>\n",
       "      <td>393994.025787</td>\n",
       "      <td>6.126459</td>\n",
       "    </tr>\n",
       "    <tr>\n",
       "      <th>9</th>\n",
       "      <td>2024-03-04 18:30:00+00:00</td>\n",
       "      <td>390030.573441</td>\n",
       "      <td>5.058861</td>\n",
       "    </tr>\n",
       "    <tr>\n",
       "      <th>10</th>\n",
       "      <td>2024-03-05 18:30:00+00:00</td>\n",
       "      <td>383069.347168</td>\n",
       "      <td>3.183781</td>\n",
       "    </tr>\n",
       "    <tr>\n",
       "      <th>11</th>\n",
       "      <td>2024-03-06 18:30:00+00:00</td>\n",
       "      <td>388899.351578</td>\n",
       "      <td>4.754154</td>\n",
       "    </tr>\n",
       "    <tr>\n",
       "      <th>12</th>\n",
       "      <td>2024-03-10 18:30:00+00:00</td>\n",
       "      <td>379674.819931</td>\n",
       "      <td>2.269429</td>\n",
       "    </tr>\n",
       "    <tr>\n",
       "      <th>13</th>\n",
       "      <td>2024-03-11 18:30:00+00:00</td>\n",
       "      <td>381543.053238</td>\n",
       "      <td>2.772658</td>\n",
       "    </tr>\n",
       "    <tr>\n",
       "      <th>14</th>\n",
       "      <td>2024-03-12 18:30:00+00:00</td>\n",
       "      <td>365242.867188</td>\n",
       "      <td>-1.61797</td>\n",
       "    </tr>\n",
       "    <tr>\n",
       "      <th>15</th>\n",
       "      <td>2024-03-13 18:30:00+00:00</td>\n",
       "      <td>316435.596344</td>\n",
       "      <td>-14.764725</td>\n",
       "    </tr>\n",
       "  </tbody>\n",
       "</table>\n",
       "</div>"
      ],
      "text/plain": [
       "                        date                  value growth_percent\n",
       "0  2024-02-20 18:30:00+00:00  371249.57403564453088          0E-24\n",
       "1  2024-02-21 18:30:00+00:00          372818.047028       0.422485\n",
       "2  2024-02-22 18:30:00+00:00           379581.00441       2.244159\n",
       "3  2024-02-25 18:30:00+00:00          384930.777985       3.685177\n",
       "4  2024-02-26 18:30:00+00:00           393620.29599       6.025791\n",
       "5  2024-02-27 18:30:00+00:00          396161.648804       6.710331\n",
       "6  2024-02-28 18:30:00+00:00          398284.291412       7.282087\n",
       "7  2024-02-29 18:30:00+00:00          402119.906464       8.315251\n",
       "8  2024-03-03 18:30:00+00:00          393994.025787       6.126459\n",
       "9  2024-03-04 18:30:00+00:00          390030.573441       5.058861\n",
       "10 2024-03-05 18:30:00+00:00          383069.347168       3.183781\n",
       "11 2024-03-06 18:30:00+00:00          388899.351578       4.754154\n",
       "12 2024-03-10 18:30:00+00:00          379674.819931       2.269429\n",
       "13 2024-03-11 18:30:00+00:00          381543.053238       2.772658\n",
       "14 2024-03-12 18:30:00+00:00          365242.867188       -1.61797\n",
       "15 2024-03-13 18:30:00+00:00          316435.596344     -14.764725"
      ]
     },
     "execution_count": 239,
     "metadata": {},
     "output_type": "execute_result"
    }
   ],
   "source": [
    "k4"
   ]
  },
  {
   "cell_type": "code",
   "execution_count": 249,
   "id": "4363817e-bdbd-409e-81ad-fb1b1577cd89",
   "metadata": {
    "tags": []
   },
   "outputs": [],
   "source": [
    "def top_gainers():\n",
    "    sql = '''\n",
    "    WITH initial_prices AS (\n",
    "    SELECT\n",
    "        sh.symbol AS nseticker,\n",
    "        sh.close AS initial_price\n",
    "    FROM\n",
    "        stock_history_latest sh\n",
    "    WHERE\n",
    "        sh.date = (SELECT MIN(date) FROM stock_history_latest WHERE EXTRACT(YEAR FROM date) = EXTRACT(YEAR FROM CURRENT_DATE))\n",
    "),\n",
    "current_prices AS (\n",
    "    SELECT\n",
    "        sh.symbol AS nseticker,\n",
    "        sh.close AS current_price\n",
    "    FROM\n",
    "        stock_history_latest sh\n",
    "    WHERE\n",
    "        sh.date = (SELECT MAX(date) FROM stock_history_latest WHERE EXTRACT(YEAR FROM date) = EXTRACT(YEAR FROM CURRENT_DATE))\n",
    "),\n",
    "investment_values AS (\n",
    "    SELECT\n",
    "        ui.nseticker,\n",
    "        ui.quantity * ip.initial_price AS initial_value,\n",
    "        ui.quantity * cp.current_price AS current_value\n",
    "    FROM\n",
    "        user_investments_temp ui\n",
    "    JOIN\n",
    "        initial_prices ip ON ui.nseticker = ip.nseticker\n",
    "    JOIN\n",
    "        current_prices cp ON ui.nseticker = cp.nseticker\n",
    "),\n",
    "value_change AS (\n",
    "    SELECT\n",
    "        iv.nseticker,\n",
    "        iv.current_value - iv.initial_value AS absolute_change,\n",
    "        ((cp.current_price - ip.initial_price) / ip.initial_price * 100) AS percentage_change\n",
    "    FROM\n",
    "        investment_values iv\n",
    "    JOIN\n",
    "        initial_prices ip ON iv.nseticker = ip.nseticker\n",
    "    JOIN\n",
    "        current_prices cp ON iv.nseticker = cp.nseticker\n",
    ")\n",
    "SELECT\n",
    "    nseticker,\n",
    "    absolute_change,\n",
    "    percentage_change\n",
    "FROM\n",
    "    value_change\n",
    "ORDER BY\n",
    "    absolute_change DESC;\n",
    "    '''\n",
    "    with PostgresDatabaseOperation() as cursor:\n",
    "        cursor.execute(sql)\n",
    "        r = cursor.fetchall()\n",
    "    df = pd.DataFrame([(x[0], float(x[1]),float(x[2])) for x in r], columns = ['date', 'absolute', 'price_percent'])\n",
    "    # total_value = df['current_value'].sum()\n",
    "    # df['percent'] = 100 * df['current_value'] / total_value\n",
    "    # df = df.sort_values('percent',ascending = False)\n",
    "    return df"
   ]
  },
  {
   "cell_type": "code",
   "execution_count": 250,
   "id": "7a08a420-3242-4b62-a20f-c45172e2b7da",
   "metadata": {
    "tags": []
   },
   "outputs": [],
   "source": [
    "k5 = top_gainers()"
   ]
  },
  {
   "cell_type": "code",
   "execution_count": 253,
   "id": "c0ce0c8e-6830-4f44-a829-4d0437d8d62a",
   "metadata": {
    "tags": []
   },
   "outputs": [
    {
     "data": {
      "text/html": [
       "<div>\n",
       "<style scoped>\n",
       "    .dataframe tbody tr th:only-of-type {\n",
       "        vertical-align: middle;\n",
       "    }\n",
       "\n",
       "    .dataframe tbody tr th {\n",
       "        vertical-align: top;\n",
       "    }\n",
       "\n",
       "    .dataframe thead th {\n",
       "        text-align: right;\n",
       "    }\n",
       "</style>\n",
       "<table border=\"1\" class=\"dataframe\">\n",
       "  <thead>\n",
       "    <tr style=\"text-align: right;\">\n",
       "      <th></th>\n",
       "      <th>date</th>\n",
       "      <th>absolute</th>\n",
       "      <th>price_percent</th>\n",
       "    </tr>\n",
       "  </thead>\n",
       "  <tbody>\n",
       "    <tr>\n",
       "      <th>0</th>\n",
       "      <td>CUPID.NS</td>\n",
       "      <td>54137.506104</td>\n",
       "      <td>95.283156</td>\n",
       "    </tr>\n",
       "    <tr>\n",
       "      <th>1</th>\n",
       "      <td>ONGC.NS</td>\n",
       "      <td>2830.705566</td>\n",
       "      <td>26.676346</td>\n",
       "    </tr>\n",
       "    <tr>\n",
       "      <th>2</th>\n",
       "      <td>TATAPOWER.NS</td>\n",
       "      <td>1920.600220</td>\n",
       "      <td>16.174020</td>\n",
       "    </tr>\n",
       "    <tr>\n",
       "      <th>3</th>\n",
       "      <td>ZOMATO.NS</td>\n",
       "      <td>1062.600403</td>\n",
       "      <td>18.764576</td>\n",
       "    </tr>\n",
       "    <tr>\n",
       "      <th>4</th>\n",
       "      <td>COLPAL.NS</td>\n",
       "      <td>629.199219</td>\n",
       "      <td>6.285455</td>\n",
       "    </tr>\n",
       "    <tr>\n",
       "      <th>5</th>\n",
       "      <td>PIDILITIND.NS</td>\n",
       "      <td>529.749756</td>\n",
       "      <td>3.870035</td>\n",
       "    </tr>\n",
       "    <tr>\n",
       "      <th>6</th>\n",
       "      <td>JUNIORBEES.NS</td>\n",
       "      <td>359.939880</td>\n",
       "      <td>9.073901</td>\n",
       "    </tr>\n",
       "    <tr>\n",
       "      <th>7</th>\n",
       "      <td>MCX.NS</td>\n",
       "      <td>323.000488</td>\n",
       "      <td>1.016348</td>\n",
       "    </tr>\n",
       "    <tr>\n",
       "      <th>8</th>\n",
       "      <td>NIFTYBEES.NS</td>\n",
       "      <td>136.319824</td>\n",
       "      <td>2.374480</td>\n",
       "    </tr>\n",
       "    <tr>\n",
       "      <th>9</th>\n",
       "      <td>IRCTC.NS</td>\n",
       "      <td>101.999817</td>\n",
       "      <td>0.767320</td>\n",
       "    </tr>\n",
       "    <tr>\n",
       "      <th>10</th>\n",
       "      <td>LIQUIDBEES.NS</td>\n",
       "      <td>0.080078</td>\n",
       "      <td>0.001001</td>\n",
       "    </tr>\n",
       "    <tr>\n",
       "      <th>11</th>\n",
       "      <td>GREENPANEL.NS</td>\n",
       "      <td>-502.242889</td>\n",
       "      <td>-23.800240</td>\n",
       "    </tr>\n",
       "    <tr>\n",
       "      <th>12</th>\n",
       "      <td>CDSL.NS</td>\n",
       "      <td>-1150.000000</td>\n",
       "      <td>-6.321808</td>\n",
       "    </tr>\n",
       "    <tr>\n",
       "      <th>13</th>\n",
       "      <td>IEX.NS</td>\n",
       "      <td>-1760.999451</td>\n",
       "      <td>-17.686045</td>\n",
       "    </tr>\n",
       "    <tr>\n",
       "      <th>14</th>\n",
       "      <td>ITC.NS</td>\n",
       "      <td>-1938.000488</td>\n",
       "      <td>-10.300842</td>\n",
       "    </tr>\n",
       "    <tr>\n",
       "      <th>15</th>\n",
       "      <td>MTARTECH.NS</td>\n",
       "      <td>-2309.750366</td>\n",
       "      <td>-21.189397</td>\n",
       "    </tr>\n",
       "    <tr>\n",
       "      <th>16</th>\n",
       "      <td>BSE.NS</td>\n",
       "      <td>-2893.498535</td>\n",
       "      <td>-8.627201</td>\n",
       "    </tr>\n",
       "  </tbody>\n",
       "</table>\n",
       "</div>"
      ],
      "text/plain": [
       "             date      absolute  price_percent\n",
       "0        CUPID.NS  54137.506104      95.283156\n",
       "1         ONGC.NS   2830.705566      26.676346\n",
       "2    TATAPOWER.NS   1920.600220      16.174020\n",
       "3       ZOMATO.NS   1062.600403      18.764576\n",
       "4       COLPAL.NS    629.199219       6.285455\n",
       "5   PIDILITIND.NS    529.749756       3.870035\n",
       "6   JUNIORBEES.NS    359.939880       9.073901\n",
       "7          MCX.NS    323.000488       1.016348\n",
       "8    NIFTYBEES.NS    136.319824       2.374480\n",
       "9        IRCTC.NS    101.999817       0.767320\n",
       "10  LIQUIDBEES.NS      0.080078       0.001001\n",
       "11  GREENPANEL.NS   -502.242889     -23.800240\n",
       "12        CDSL.NS  -1150.000000      -6.321808\n",
       "13         IEX.NS  -1760.999451     -17.686045\n",
       "14         ITC.NS  -1938.000488     -10.300842\n",
       "15    MTARTECH.NS  -2309.750366     -21.189397\n",
       "16         BSE.NS  -2893.498535      -8.627201"
      ]
     },
     "execution_count": 253,
     "metadata": {},
     "output_type": "execute_result"
    }
   ],
   "source": [
    "k5"
   ]
  },
  {
   "cell_type": "code",
   "execution_count": 252,
   "id": "88bb5445-25a1-4ac6-bcfa-988c3dbe41c9",
   "metadata": {
    "tags": []
   },
   "outputs": [
    {
     "data": {
      "text/plain": [
       "51477.20962524414"
      ]
     },
     "execution_count": 252,
     "metadata": {},
     "output_type": "execute_result"
    }
   ],
   "source": [
    "k5['absolute'].sum()"
   ]
  },
  {
   "cell_type": "code",
   "execution_count": 212,
   "id": "8db89a36-81ab-45e0-bc69-a1edaafa61e1",
   "metadata": {
    "tags": []
   },
   "outputs": [
    {
     "data": {
      "text/plain": [
       "0              NaN\n",
       "1        -0.599073\n",
       "2        -1.314444\n",
       "3        -1.588153\n",
       "4        -0.790283\n",
       "          ...     \n",
       "114    4337.851133\n",
       "115    4413.993277\n",
       "116    4491.002149\n",
       "117    4560.448892\n",
       "118    4607.252529\n",
       "Name: portfolio, Length: 119, dtype: float64"
      ]
     },
     "execution_count": 212,
     "metadata": {},
     "output_type": "execute_result"
    }
   ],
   "source": [
    "k3.portfolio.cumsum()"
   ]
  },
  {
   "cell_type": "code",
   "execution_count": 213,
   "id": "b167063c-6bcc-4663-b4c5-eea3de03ccfc",
   "metadata": {
    "tags": []
   },
   "outputs": [
    {
     "data": {
      "text/plain": [
       "0             NaN\n",
       "1       -0.799194\n",
       "2       -1.940573\n",
       "3       -3.080440\n",
       "4       -4.269810\n",
       "          ...    \n",
       "114    508.384087\n",
       "115    520.600564\n",
       "116    532.832361\n",
       "117    543.365785\n",
       "118    554.647654\n",
       "Name: nse_index, Length: 119, dtype: float64"
      ]
     },
     "execution_count": 213,
     "metadata": {},
     "output_type": "execute_result"
    }
   ],
   "source": [
    "k3.nse_index.cumsum()"
   ]
  },
  {
   "cell_type": "code",
   "execution_count": 191,
   "id": "99be3ccd-6cc3-44e4-abe8-4bd1b80972b6",
   "metadata": {
    "tags": []
   },
   "outputs": [],
   "source": [
    "k1, k2 = current_value()"
   ]
  },
  {
   "cell_type": "code",
   "execution_count": 194,
   "id": "94c76057-9b1f-4289-88fe-8438f29969df",
   "metadata": {
    "tags": []
   },
   "outputs": [
    {
     "data": {
      "text/plain": [
       "{'stock': ['Cupid Ltd',\n",
       "  'Multi Commodity Exchange of India Ltd',\n",
       "  'BSE Ltd',\n",
       "  'Tata Motors Ltd',\n",
       "  'Central Depository Services (India) Ltd',\n",
       "  'Itc Ltd',\n",
       "  'Titan Company Ltd',\n",
       "  'Tata Power Company Ltd',\n",
       "  'Pidilite Industries Ltd',\n",
       "  'Oil and Natural Gas Corporation Ltd',\n",
       "  'Indian Railway Catering and Tourism Corporation Ltd',\n",
       "  'Nippon India ETF Gold BeES',\n",
       "  'Colgate-Palmolive (India) Ltd',\n",
       "  'MTAR Technologies Ltd',\n",
       "  'Indian Energy Exchange Ltd',\n",
       "  'Nippon India ETF Nifty 1D Rate Liquid BeES',\n",
       "  'Zomato Ltd',\n",
       "  'Nippon India ETF Nifty 50 BeES',\n",
       "  'Nippon India ETF Nifty Next 50 Junior BeES',\n",
       "  'Greenpanel Industries Ltd'],\n",
       " 'current_value': [117087.5,\n",
       "  35327.5,\n",
       "  33061.50146484375,\n",
       "  20560.0,\n",
       "  18105.999755859375,\n",
       "  16375.999755859377,\n",
       "  15000.599609375,\n",
       "  14873.399780273438,\n",
       "  14531.99951171875,\n",
       "  14248.0,\n",
       "  14078.999633789062,\n",
       "  11426.039657592773,\n",
       "  10427.400390625,\n",
       "  8966.749877929688,\n",
       "  8616.000366210938,\n",
       "  8000.0,\n",
       "  6813.4002685546875,\n",
       "  5938.7999267578125,\n",
       "  4497.429931640625,\n",
       "  1737.5],\n",
       " 'percent': [30.838889979922687,\n",
       "  9.304672879391214,\n",
       "  8.707846749186455,\n",
       "  5.415160268920341,\n",
       "  4.768817631663963,\n",
       "  4.313164554561231,\n",
       "  3.950907150518944,\n",
       "  3.917404842116014,\n",
       "  3.8274857190578393,\n",
       "  3.7526849956992714,\n",
       "  3.7081731246614087,\n",
       "  3.0094278202774594,\n",
       "  2.7464029330465443,\n",
       "  2.3616920077972354,\n",
       "  2.269310450394386,\n",
       "  2.1070662524981874,\n",
       "  1.7945357213292086,\n",
       "  1.5641806132512617,\n",
       "  1.1845478539918988,\n",
       "  0.45762845171445005]}"
      ]
     },
     "execution_count": 194,
     "metadata": {},
     "output_type": "execute_result"
    }
   ],
   "source": [
    "k1.to_dict('list')"
   ]
  },
  {
   "cell_type": "code",
   "execution_count": null,
   "id": "bbfd6f81-21f1-4087-b4d2-539c34415112",
   "metadata": {},
   "outputs": [],
   "source": []
  }
 ],
 "metadata": {
  "kernelspec": {
   "display_name": "bertopicenv",
   "language": "python",
   "name": "bertopicenv"
  },
  "language_info": {
   "codemirror_mode": {
    "name": "ipython",
    "version": 3
   },
   "file_extension": ".py",
   "mimetype": "text/x-python",
   "name": "python",
   "nbconvert_exporter": "python",
   "pygments_lexer": "ipython3",
   "version": "3.9.18"
  }
 },
 "nbformat": 4,
 "nbformat_minor": 5
}
