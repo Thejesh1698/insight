{
 "cells": [
  {
   "cell_type": "code",
   "execution_count": 3,
   "id": "68d2ae72-d1b8-419a-9f0e-0ed95cbc0a1c",
   "metadata": {
    "tags": []
   },
   "outputs": [],
   "source": [
    "parent_folder = '/Users/ravi.tej/Desktop/ML/Recommendations/hubble/'\n",
    "from hydra import compose, initialize\n",
    "import os\n",
    "\n",
    "import xml.etree.ElementTree as ET\n",
    "\n",
    "tree = ET.parse('../conf/application.run.xml')\n",
    "root = tree.getroot()\n",
    "\n",
    "envs_element = root.find('./configuration/envs')\n",
    "for variable in envs_element.findall('env'):\n",
    "    name = variable.get('name')\n",
    "    value = variable.get('value')\n",
    "    os.environ[name] = value\n",
    "\n",
    "import sys\n",
    "sys.path.append('/Users/ravi.tej/Desktop/ML/Recommendations/hubble/')"
   ]
  },
  {
   "cell_type": "code",
   "execution_count": 4,
   "id": "4830eef1-4907-4082-b544-5d466bc51b0d",
   "metadata": {
    "tags": []
   },
   "outputs": [],
   "source": [
    "import pandas as pd\n",
    "import numpy as np"
   ]
  },
  {
   "cell_type": "code",
   "execution_count": 5,
   "id": "0bde8643-65ae-4ad6-8b3f-db2e5d522683",
   "metadata": {
    "tags": []
   },
   "outputs": [],
   "source": [
    "from sql.PostgresDatabaseOperation import PostgresDatabaseOperation"
   ]
  },
  {
   "cell_type": "code",
   "execution_count": 6,
   "id": "73aea2e9-f9c5-4f5a-91d3-c297e726743b",
   "metadata": {
    "tags": []
   },
   "outputs": [],
   "source": [
    "search_queries = [\n",
    "    \"latest SEBI regulations 2023\",\n",
    "    \"top mutual funds in India\",\n",
    "    \"RBI monetary policy updates\",\n",
    "    \"GST changes in India\",\n",
    "    \"best Indian stocks to buy\",\n",
    "    \"how to invest in Indian real estate\",\n",
    "    \"Nifty 50 market analysis\",\n",
    "    \"Sensex daily performance\",\n",
    "    \"impact of US Fed rates on Indian economy\",\n",
    "    \"FDI trends in India\",\n",
    "    \"best tax-saving options in India\",\n",
    "    \"NPS benefits and drawbacks\",\n",
    "    \"gold investment guide India\",\n",
    "    \"cryptocurrency regulations in India\",\n",
    "    \"start-up funding opportunities in India\",\n",
    "    \"IPO calendar India\",\n",
    "    \"best digital payment apps in India\",\n",
    "    \"financial planning for retirement in India\",\n",
    "    \"health insurance comparison India\",\n",
    "    \"home loan interest rates forecast India\",\n",
    "    \"impact of Brexit on Indian economy\",\n",
    "    \"Indian budget highlights\",\n",
    "    \"agricultural sector growth in India\",\n",
    "    \"forex reserves of India latest\",\n",
    "    \"Indian banking sector analysis\",\n",
    "    \"e-commerce growth in India\",\n",
    "    \"renewable energy investments in India\",\n",
    "    \"education loan options in India\",\n",
    "    \"automobile industry trends India\",\n",
    "    \"MSME financing in India\",\n",
    "    \"start-up tax benefits India\",\n",
    "    \"best dividend-paying stocks India\",\n",
    "    \"real estate market forecast India\",\n",
    "    \"IT sector growth in India\",\n",
    "    \"impact of COVID-19 on Indian economy\",\n",
    "    \"fintech innovations in India\",\n",
    "    \"ULIP vs mutual fund comparison\",\n",
    "    \"online trading platforms in India\",\n",
    "    \"peer-to-peer lending in India\",\n",
    "    \"RBI's digital currency plans\",\n",
    "    \"demat account opening guide\",\n",
    "    \"commodity trading in India\",\n",
    "    \"Angel investing in Indian startups\",\n",
    "    \"ESG investing in India\",\n",
    "    \"top business news India today\",\n",
    "    \"venture capital in India\",\n",
    "    \"government bonds investment in India\",\n",
    "    \"insurance sector reforms India\",\n",
    "    \"small-cap stocks in India\",\n",
    "    \"portfolio diversification strategies India\",\n",
    "    \"M&A trends in Indian market\",\n",
    "    \"SIP investment guide\",\n",
    "    \"recent changes in Indian tax laws\",\n",
    "    \"Indian economic growth forecast\",\n",
    "    \"start-up ecosystem in India\",\n",
    "    \"private equity in India\",\n",
    "    \"corporate governance in Indian companies\",\n",
    "    \"inflation rate in India\",\n",
    "    \"online business loans in India\",\n",
    "    \"SME stock exchange India\",\n",
    "    \"pharmaceutical industry in India\",\n",
    "    \"tourism industry growth in India\",\n",
    "    \"consumer behavior trends India\",\n",
    "    \"Indian stock market for beginners\",\n",
    "    \"latest FDI policy India\",\n",
    "    \"start-up India scheme benefits\",\n",
    "    \"public sector banks in India\",\n",
    "    \"women entrepreneurs in India\",\n",
    "    \"mobile banking trends in India\",\n",
    "    \"industrial production index India\",\n",
    "    \"balance of trade India\",\n",
    "    \"urban infrastructure development India\",\n",
    "    \"inward remittances to India\",\n",
    "    \"digital marketing for financial services in India\",\n",
    "    \"e-wallets market share India\",\n",
    "    \"green bonds in India\",\n",
    "    \"financial literacy programs in India\",\n",
    "    \"Indian rupee exchange rate forecast\",\n",
    "    \"personal finance tips for Indians\",\n",
    "    \"how to save on taxes in India\",\n",
    "    \"latest amendments in Indian Companies Act\",\n",
    "    \"mutual fund SIP calculator\",\n",
    "    \"credit card usage trends in India\",\n",
    "    \"NBFCs in Indian financial market\",\n",
    "    \"blockchain technology in Indian banking\",\n",
    "    \"RBI guidelines for digital lending\",\n",
    "    \"Indian insurance market overview\",\n",
    "    \"financial frauds in India\",\n",
    "    \"impact of AI on Indian banking\",\n",
    "    \"Indian economic policy changes\",\n",
    "    \"rural banking in India\",\n",
    "    \"stock market trading strategies for Indians\",\n",
    "    \"loan against property in India\",\n",
    "    \"youth entrepreneurship in India\",\n",
    "    \"electronic commerce policy of India\",\n",
    "    \"how to invest in Indian bonds\",\n",
    "    \"wealth management services in India\",\n",
    "    \"cashless transactions in India\",\n",
    "    \"start-up valuation methods in India\",\n",
    "    \"cybersecurity in Indian banks\",\n",
    "    \"forex trading in India\"\n",
    "]"
   ]
  },
  {
   "cell_type": "code",
   "execution_count": 7,
   "id": "8de35113-8b07-43a8-b640-7912f512c6d2",
   "metadata": {
    "tags": []
   },
   "outputs": [],
   "source": [
    "import boto3"
   ]
  },
  {
   "cell_type": "code",
   "execution_count": 8,
   "id": "3acdb00f-924f-4cc3-a6b6-cbe43eaf67d9",
   "metadata": {
    "tags": []
   },
   "outputs": [],
   "source": [
    "sagemaker = boto3.client(\"sagemaker-runtime\", region_name='ap-south-1')"
   ]
  },
  {
   "cell_type": "code",
   "execution_count": 10,
   "id": "73ea6764-c9b9-4ac0-bd1f-7a5014650354",
   "metadata": {
    "tags": []
   },
   "outputs": [],
   "source": [
    "top_tags_file = '../data/top_100_article_tags.json'"
   ]
  },
  {
   "cell_type": "code",
   "execution_count": 11,
   "id": "6ac30cbf-7eaf-4b3a-bd6b-8273331fed66",
   "metadata": {
    "tags": []
   },
   "outputs": [],
   "source": [
    "import json"
   ]
  },
  {
   "cell_type": "code",
   "execution_count": 15,
   "id": "93aa08c7-34ee-4a9f-87f7-f1c78714ee34",
   "metadata": {
    "tags": []
   },
   "outputs": [],
   "source": [
    "with open(top_tags_file,'rb') as f:\n",
    "    k = json.load(f)"
   ]
  },
  {
   "cell_type": "code",
   "execution_count": 20,
   "id": "0efe55cd-c0c6-4710-9419-63cb51673ca3",
   "metadata": {
    "tags": []
   },
   "outputs": [],
   "source": [
    "from src._utils import clean_search_query"
   ]
  },
  {
   "cell_type": "code",
   "execution_count": 21,
   "id": "f3f1868f-7390-466f-aa0e-e43618d16a22",
   "metadata": {
    "tags": []
   },
   "outputs": [],
   "source": [
    "top_tags = [clean_search_query(x['_id']) for x in k]"
   ]
  },
  {
   "cell_type": "code",
   "execution_count": 25,
   "id": "70da6e2d-5aa1-40ac-a82f-b3fb5aa09825",
   "metadata": {
    "tags": []
   },
   "outputs": [],
   "source": [
    "top_tags = list(set(top_tags))"
   ]
  },
  {
   "cell_type": "code",
   "execution_count": 29,
   "id": "ce4147f3-a922-4b10-bcfe-7fca3e8083c4",
   "metadata": {
    "tags": []
   },
   "outputs": [],
   "source": [
    "gpt_queries = [clean_search_query(x) for x in search_queries]"
   ]
  },
  {
   "cell_type": "code",
   "execution_count": 33,
   "id": "08526396-deb1-4290-a1d4-f26262dd775d",
   "metadata": {
    "tags": []
   },
   "outputs": [],
   "source": [
    "search_terms = top_tags + gpt_queries"
   ]
  },
  {
   "cell_type": "code",
   "execution_count": 9,
   "id": "f22373a8-4188-40ce-ab13-7bfcf1de56a1",
   "metadata": {
    "tags": []
   },
   "outputs": [],
   "source": [
    "endpoint = 'huggingface-pytorch-inference-2023-10-30-13-16-43-720'"
   ]
  },
  {
   "cell_type": "code",
   "execution_count": 28,
   "id": "e73efe3f-8b03-483d-a353-3559478a32c9",
   "metadata": {
    "tags": []
   },
   "outputs": [],
   "source": [
    "def extract_embeddings_for_text(content: str):\n",
    "    # embeddings = self.sentence_transformer.encode(content, convert_to_numpy=True)\n",
    "    # embeddings = list(embeddings)\n",
    "    # embeddings = [float(x) for x in embeddings]\n",
    "    # # TODO: - add validation here\n",
    "    # return embeddings\n",
    "\n",
    "    input_dct = {\"inputs\": f\"{content}\"}\n",
    "    response = sagemaker.invoke_endpoint(\n",
    "        EndpointName=endpoint,\n",
    "        Body=bytes(f'{input_dct}'.replace(\"'\", '\"'), 'utf-8'),\n",
    "        ContentType='application/json'\n",
    "    )\n",
    "    vec = response['Body']\n",
    "    vec = json.loads(vec.read())\n",
    "    embeddings = vec['vectors'][0]\n",
    "    # TODO: - add validation here\n",
    "    return embeddings"
   ]
  },
  {
   "cell_type": "code",
   "execution_count": 34,
   "id": "5b368399-3c51-4d19-bf2c-c337d51d3d5a",
   "metadata": {
    "tags": []
   },
   "outputs": [],
   "source": [
    "embeddings = {}"
   ]
  },
  {
   "cell_type": "code",
   "execution_count": 35,
   "id": "0a525c9d-359d-49a8-b2ae-35a71f9263ea",
   "metadata": {
    "tags": []
   },
   "outputs": [],
   "source": [
    "from tqdm.notebook import tqdm"
   ]
  },
  {
   "cell_type": "code",
   "execution_count": 36,
   "id": "27c0a6c8-535f-457f-9207-0ebcee294888",
   "metadata": {
    "tags": []
   },
   "outputs": [
    {
     "data": {
      "application/vnd.jupyter.widget-view+json": {
       "model_id": "f66bf61ba32a402db3d3e575614a5281",
       "version_major": 2,
       "version_minor": 0
      },
      "text/plain": [
       "  0%|          | 0/194 [00:00<?, ?it/s]"
      ]
     },
     "metadata": {},
     "output_type": "display_data"
    }
   ],
   "source": [
    "for txt in tqdm(search_terms):\n",
    "    embeddings[txt] = extract_embeddings_for_text(content=txt)"
   ]
  },
  {
   "cell_type": "code",
   "execution_count": 38,
   "id": "87a2a4ef-d5cb-4860-bd92-342da53ee1c0",
   "metadata": {
    "tags": []
   },
   "outputs": [],
   "source": [
    "from datetime import datetime"
   ]
  },
  {
   "cell_type": "code",
   "execution_count": 39,
   "id": "3c0c388e-c670-40df-b6ab-3bcc2db4ba53",
   "metadata": {
    "tags": []
   },
   "outputs": [],
   "source": [
    "with PostgresDatabaseOperation() as cursor:\n",
    "    sql = 'INSERT INTO search_query_embeddings (query_text, embedding, model_name, created_at) VALUES (%s, %s, %s, %s)'\n",
    "    ctime = datetime.now()\n",
    "    for k in embeddings.keys():\n",
    "        cursor.execute(sql, (k, embeddings[k], 'BAAI/bge-large-v1.5', ctime))"
   ]
  },
  {
   "cell_type": "code",
   "execution_count": 43,
   "id": "ea6dc7ec-91f3-422a-a67d-be1c9f98060f",
   "metadata": {
    "tags": []
   },
   "outputs": [],
   "source": [
    "with PostgresDatabaseOperation() as cursor:\n",
    "    sql = 'SELECT * FROM search_query_embeddings WHERE query_text = %s'\n",
    "    cursor.execute(sql, (\"sensexsss\",))\n",
    "    results = cursor.fetchall()"
   ]
  },
  {
   "cell_type": "code",
   "execution_count": 46,
   "id": "88b61fca-8f8f-4fef-9468-51adbea13998",
   "metadata": {
    "tags": []
   },
   "outputs": [],
   "source": [
    "from sql.PostgresDatabaseOperation import PostgresDatabaseOperation"
   ]
  },
  {
   "cell_type": "code",
   "execution_count": 73,
   "id": "921c0c82-be71-45b2-b939-858816effa5a",
   "metadata": {
    "tags": []
   },
   "outputs": [],
   "source": [
    "def get_query_text_embeddings(query: str):\n",
    "    with PostgresDatabaseOperation() as cursor:\n",
    "        sql = 'SELECT embedding FROM search_query_embeddings WHERE query_text = %s LIMIT 1'\n",
    "        cursor.execute(sql, (query,))\n",
    "        results = cursor.fetchall()\n",
    "    if results:\n",
    "        return json.loads(results[0][0])\n",
    "    else:\n",
    "        return None"
   ]
  },
  {
   "cell_type": "code",
   "execution_count": 80,
   "id": "7b90197a-15d4-4c1f-950e-48515a8aca73",
   "metadata": {
    "tags": []
   },
   "outputs": [],
   "source": [
    "k = get_query_text_embeddings('sensex')"
   ]
  },
  {
   "cell_type": "code",
   "execution_count": 89,
   "id": "15a588f0-8505-4a96-bb66-1caf5ebe28eb",
   "metadata": {
    "tags": []
   },
   "outputs": [],
   "source": [
    "if '':\n",
    "    print('a')"
   ]
  },
  {
   "cell_type": "code",
   "execution_count": 90,
   "id": "7737f8ff-8bd5-4e92-ad82-da30d162aeae",
   "metadata": {
    "tags": []
   },
   "outputs": [],
   "source": [
    "a = 'alksjdflksjdlkfj'"
   ]
  },
  {
   "cell_type": "code",
   "execution_count": 92,
   "id": "99368e00-ccc0-4f10-87e8-d6b89c913ca4",
   "metadata": {
    "tags": []
   },
   "outputs": [
    {
     "data": {
      "text/plain": [
       "'a'"
      ]
     },
     "execution_count": 92,
     "metadata": {},
     "output_type": "execute_result"
    }
   ],
   "source": [
    "a[:1]"
   ]
  },
  {
   "cell_type": "code",
   "execution_count": 87,
   "id": "50f2beca-6fc0-428a-b9eb-0164d4e6e953",
   "metadata": {
    "tags": []
   },
   "outputs": [],
   "source": [
    "def get_top_1000_articles(emb, k):\n",
    "    with PostgresDatabaseOperation() as cursor:\n",
    "        sql = \"\"\"\n",
    "        SELECT article_id, \n",
    "                   1- (embedding <=> %s) AS distance\n",
    "            FROM article_embeddings\n",
    "            ORDER BY distance DESC\n",
    "            LIMIT %s\n",
    "        \"\"\"\n",
    "        cursor.execute(sql, (str(emb),k))\n",
    "        results = cursor.fetchall()\n",
    "    return pd.DataFrame(results, columns = ['article_id', 'dist'])"
   ]
  },
  {
   "cell_type": "markdown",
   "id": "29007a84-6fd9-4fc9-978f-1e4131389733",
   "metadata": {},
   "source": [
    "1 - 1\n",
    "3 - 0.9\n",
    "7 - 0.8\n",
    "14 - 0.7\n",
    "30 - 0.6\n",
    "45 - 0.5"
   ]
  },
  {
   "cell_type": "code",
   "execution_count": 102,
   "id": "81d94ac1-ef09-43b8-803f-66a42e91055f",
   "metadata": {
    "tags": []
   },
   "outputs": [],
   "source": [
    "def decay_sigmoid_function(n):\n",
    "    return 0.5 + (0.5/(1 + np.exp((3 * np.log10(n)) - 3)))"
   ]
  },
  {
   "cell_type": "code",
   "execution_count": 97,
   "id": "b0d8de18-6408-48f0-b00f-edebaf2c5738",
   "metadata": {
    "tags": []
   },
   "outputs": [],
   "source": [
    "def some_exp_fn(n):\n",
    "    return 1 + np.exp((3 * np.log(n)) - 3)"
   ]
  },
  {
   "cell_type": "code",
   "execution_count": 101,
   "id": "315eb93b-353f-4288-830a-a267070846f9",
   "metadata": {
    "tags": []
   },
   "outputs": [
    {
     "data": {
      "text/plain": [
       "2.0"
      ]
     },
     "execution_count": 101,
     "metadata": {},
     "output_type": "execute_result"
    }
   ],
   "source": [
    "some_exp_fn(np.e)"
   ]
  },
  {
   "cell_type": "code",
   "execution_count": 103,
   "id": "af337f56-b92e-4a17-99dc-5de1ae1218be",
   "metadata": {
    "tags": []
   },
   "outputs": [
    {
     "data": {
      "text/plain": [
       "0.9137945529934792"
      ]
     },
     "execution_count": 103,
     "metadata": {},
     "output_type": "execute_result"
    }
   ],
   "source": [
    "decay_sigmoid_function(3)"
   ]
  },
  {
   "cell_type": "code",
   "execution_count": 104,
   "id": "2fbb479f-ccc7-40ee-9dea-d162193eb6c5",
   "metadata": {
    "tags": []
   },
   "outputs": [],
   "source": [
    "from datetime import datetime"
   ]
  },
  {
   "cell_type": "code",
   "execution_count": 285,
   "id": "37f53723-2dc4-43ef-aa40-a0c666aacf92",
   "metadata": {
    "tags": []
   },
   "outputs": [],
   "source": [
    "df = pd.DataFrame([\"2023-05-16T11:29:58+05:30\", \"2023-10-17T15:11:23+05:30\", \"2023-11-16T17:09:23+05:30\", \"2023-10-04T06:30:32+0000\"], columns = ['date'])"
   ]
  },
  {
   "cell_type": "code",
   "execution_count": 289,
   "id": "718be426-d8d0-43a1-9c3c-ff34baf53a3e",
   "metadata": {
    "tags": []
   },
   "outputs": [],
   "source": [
    "df['date'] = pd.to_datetime(df['date'],utc=True)"
   ]
  },
  {
   "cell_type": "code",
   "execution_count": 290,
   "id": "20d87dad-2de0-47c8-a3be-966774242269",
   "metadata": {
    "tags": []
   },
   "outputs": [
    {
     "data": {
      "text/plain": [
       "0   2023-05-16 05:59:58+00:00\n",
       "1   2023-10-17 09:41:23+00:00\n",
       "2   2023-11-16 11:39:23+00:00\n",
       "3   2023-10-04 06:30:32+00:00\n",
       "Name: date, dtype: datetime64[ns, UTC]"
      ]
     },
     "execution_count": 290,
     "metadata": {},
     "output_type": "execute_result"
    }
   ],
   "source": [
    "df['date']"
   ]
  },
  {
   "cell_type": "code",
   "execution_count": 291,
   "id": "cd771d6b-e693-44cf-b881-039b38c0fe18",
   "metadata": {
    "tags": []
   },
   "outputs": [
    {
     "data": {
      "text/plain": [
       "0   -185 days +17:54:46.771790\n",
       "1    -31 days +21:36:11.771790\n",
       "2     -1 days +23:34:11.771790\n",
       "3    -44 days +18:25:20.771790\n",
       "Name: date, dtype: timedelta64[ns]"
      ]
     },
     "execution_count": 291,
     "metadata": {},
     "output_type": "execute_result"
    }
   ],
   "source": [
    "df['date'] - datetime.today().replace(tzinfo=tzlocal)"
   ]
  },
  {
   "cell_type": "code",
   "execution_count": 161,
   "id": "d3d37852-f267-44fd-a7c0-395f6cb01f63",
   "metadata": {
    "tags": []
   },
   "outputs": [],
   "source": [
    "from datetime import datetime, timedelta"
   ]
  },
  {
   "cell_type": "code",
   "execution_count": 159,
   "id": "ad56419b-8043-4ba9-b662-a3e91653ebbf",
   "metadata": {
    "tags": []
   },
   "outputs": [],
   "source": [
    "def get_date_string(n_days_ago: int, n_hours_ago: int):\n",
    "    # Get the current time in UTC and convert it to the desired timezone\n",
    "    timezone = pytz.timezone('Asia/Kolkata')  # For India Standard Time (UTC+5:30)\n",
    "    current_time = datetime.now(tz=pytz.utc).astimezone(timezone)\n",
    "    new_time = current_time - timedelta(days=n_days_ago, hours=n_hours_ago)\n",
    "    return new_time"
   ]
  },
  {
   "cell_type": "code",
   "execution_count": 166,
   "id": "701f2421-912e-4f6f-bc38-7423b1043134",
   "metadata": {
    "tags": []
   },
   "outputs": [],
   "source": [
    "pt = {'1': 0.596, '2': 0.807, '3': 1}\n",
    "cs = {'1': 1, '2': 0.9375, '3': 0.625}"
   ]
  },
  {
   "cell_type": "code",
   "execution_count": 6,
   "id": "c546579e-bdf2-4428-8698-3cb1fdbf7866",
   "metadata": {
    "tags": []
   },
   "outputs": [],
   "source": [
    "import requests\n",
    "import json"
   ]
  },
  {
   "cell_type": "code",
   "execution_count": 19,
   "id": "40cf96cc-000b-43dd-b26d-d46c77358106",
   "metadata": {
    "tags": []
   },
   "outputs": [],
   "source": [
    "gst_topic_article = '''\n",
    "Decoding GST and Other Tax Regulations: A Comprehensive Guide for Indian Financial Enthusiasts\n",
    "\n",
    "Introduction\n",
    "Understanding GST and other tax regulations is pivotal for anyone engaged in the Indian financial sector. This article provides insights into the technical nuances and a selection of relevant content to keep you informed and ahead in the field of taxation.\n",
    "\n",
    "Technical Aspects and Background\n",
    "To effectively comprehend GST and other tax regulations in India, it's essential to delve into several key areas. Firstly, the Goods and Services Tax (GST), introduced in 2017, revolutionized the indirect taxation system by consolidating multiple taxes into one. Understanding its components—CGST, SGST, IGST—and their applicability across various transactions is crucial.\n",
    "\n",
    "In addition to GST, being conversant with direct taxes like the Income Tax Act is vital. This encompasses knowledge of corporate taxes, individual income taxes, and various exemptions and deductions. Furthermore, advanced concepts like transfer pricing, international taxation, and Double Taxation Avoidance Agreements (DTAAs) are critical in today's globalized business environment.\n",
    "\n",
    "Other advanced financial concepts, such as financial derivatives (F&Os), Black-Scholes models for option pricing, and comprehensive strategies for company valuation, also intersect with tax planning and compliance.\n",
    "\n",
    "Common Examples of Topics\n",
    "In this field, one would frequently encounter topics such as:\n",
    "\n",
    "GST Compliance and Return Filing: Navigating through the complexities of GST filing procedures and deadlines.\n",
    "Input Tax Credit in GST: Understanding how to optimize tax credits against GST liabilities.\n",
    "Corporate Taxation and Planning: Strategies for minimizing tax liabilities within legal frameworks.\n",
    "International Taxation and DTAA: The impact of international tax laws and agreements on Indian entities.\n",
    "Transfer Pricing Regulations: Managing cross-border transactions within related entities.\n",
    "Types of Content and Article Titles\n",
    "News and Updates\n",
    "\n",
    "\"GST Council's Latest Amendments: A Closer Look\"\n",
    "\"New Direct Tax Code: Implications for Corporate India\"\n",
    "\"India's Stance in the Global Taxation Debate: Recent Developments\"\n",
    "\"Transfer Pricing: RBI's Latest Guidelines\"\n",
    "\"E-invoicing Under GST: A Game Changer for Tax Compliance?\"\n",
    "Opinion and Analysis\n",
    "\n",
    "\"Is GST Fulfilling Its Promise of a Unified Tax System?\"\n",
    "\"Decoding India's Tax Structure: Are We Competitive Enough?\"\n",
    "\"Evaluating the Impact of International Tax Laws on Indian Economy\"\n",
    "\"Corporate Tax Cuts: Boon or Bane for Economic Growth?\"\n",
    "\"Navigating Transfer Pricing: Balancing Compliance and Efficiency\"\n",
    "Educational and How-To Guides\n",
    "\n",
    "\"A Step-by-Step Guide to Filing Your GST Returns\"\n",
    "\"Understanding Your Rights Around Input Tax Credit\"\n",
    "\"Demystifying Corporate Tax Planning for Indian Businesses\"\n",
    "\"International Taxation: How It Affects You and Your Business\"\n",
    "\"Mastering Transfer Pricing: Strategies and Compliance\"\n",
    "This comprehensive overview provides the foundational knowledge and resources necessary for anyone keen on understanding and keeping abreast of GST and other tax regulations in India. With these insights, readers can navigate the complex landscape of Indian taxation with greater ease and proficiency.\n",
    "'''"
   ]
  },
  {
   "cell_type": "code",
   "execution_count": 26,
   "id": "6f24abbb-1c01-43e1-9741-e5e592349fad",
   "metadata": {
    "tags": []
   },
   "outputs": [],
   "source": [
    "gst_2 = '''\n",
    "GST Compliance, Tax Legislation, VAT Regulations, Excise Duty Policy, Corporate Tax Rules, Tax Evasion Penalties, Customs Duty Guidelines, Service Tax Framework, GST Returns Filing, Tax Audit Procedures, International Taxation Laws, E-Invoicing Standards, Indirect Tax Strategies, Taxation of Digital Goods, GST Rate Structure, Tax Incentives, Tax Exemption Criteria, Fiscal Policy, Tax Rebate Schemes, Transfer Pricing Regulations, Tax Dispute Resolution, Taxation of E-Commerce, Cross-Border Taxation, Input Tax Credit, Sales Tax Norms, GST Registration, Tax Deductions, Tax Havens, Wealth Tax, Tax Planning Strategies, Environmental Taxation, Value-Added Tax (VAT) Compliance, Taxation of Cryptocurrencies, Property Tax Laws, Tax Accounting Standards, Consumption Taxes, Taxation of Non-Profits, Tax Treaty Agreements, Payroll Tax Obligations, Taxation of Dividends, Inheritance Tax Regulations, Indirect Tax Compliance, Tax Collection Methods, Taxation of Investments, Tax Reporting Requirements, GST Audit Framework, Tax Evasion Laws, Income Tax Slabs, Taxation of Freelancers.\n",
    "'''"
   ]
  },
  {
   "cell_type": "code",
   "execution_count": 4,
   "id": "5bb045d6-27a2-4043-bdfe-7561070baeaf",
   "metadata": {
    "tags": []
   },
   "outputs": [],
   "source": [
    "gst_3 = '''\n",
    "GST Compliance, Tax Reforms, GST Returns, Input Tax Credit, GST Slabs, E-way Bills, GST Council, Direct Tax, GST Rate Changes, Tax Evasion, GSTN Portal, Tax Policy, Indirect Taxes, GST Registration, VAT Integration, GST Amendments, Tax Deductions, Corporate Tax, GST Legislation, HSN Code, Tax Audits, GST Exemptions, Digital Tax, GST Collection, Customs Duty, Tax Litigation, GST Implementation, Income Tax, Tax Incentives, Fiscal Policy, GST Transition, Tax Compliance, Service Tax, Tax Planning, Excise Duty, GST Framework, GST Invoice, Tax Penalties, Sales Tax, GST Challenges, Tax Avoidance, GST Impact, Tax Governance, Financial Regulations, GST Education, Tax Transparency, Capital Gains Tax, Business Taxation, Tax Administration.\n",
    "'''"
   ]
  },
  {
   "cell_type": "code",
   "execution_count": 2,
   "id": "014a8323-eaa6-4379-906d-ea71611b1f14",
   "metadata": {
    "tags": []
   },
   "outputs": [],
   "source": [
    "import requests, json"
   ]
  },
  {
   "cell_type": "code",
   "execution_count": 5,
   "id": "abc49549-1e34-4cf8-a727-504b4565a947",
   "metadata": {
    "tags": []
   },
   "outputs": [],
   "source": [
    "r1 = requests.post('http://Hubble-env.eba-pguqm8s4.ap-south-1.elasticbeanstalk.com/search_query', json = {'query_text': gst_3})"
   ]
  },
  {
   "cell_type": "code",
   "execution_count": 40,
   "id": "c2eb7481-6142-4df5-af13-b5c0e27c680e",
   "metadata": {
    "scrolled": true,
    "tags": []
   },
   "outputs": [
    {
     "data": {
      "text/plain": [
       "{'actual_similarity': 0.6087753956887371,\n",
       " 'avg_score': 0.8677048909487683,\n",
       " 'num_days_ago': 3,\n",
       " 'recency_score': 0.914,\n",
       " 'scaled_similarity': 0.8445573364231526}"
      ]
     },
     "execution_count": 40,
     "metadata": {},
     "output_type": "execute_result"
    }
   ],
   "source": [
    "json.loads(r.text)['additionalInfo']['6551c9904b13023f9348b421']"
   ]
  },
  {
   "cell_type": "code",
   "execution_count": 8,
   "id": "bb7526e3-b81c-44cd-915c-5b30239ba550",
   "metadata": {
    "tags": []
   },
   "outputs": [],
   "source": [
    "k = {'meta_data': {'is_premium_article': False, 'title': 'US Secy Blinken highlights civilian suffering, security concerns amid Israel-Hamas war', 'short_description': \"US Secretary of State Antony Blinken's visit to Israel during the ongoing Israel-Hamas conflict has shed light on the horrific realities faced by civilians in the region. Blinken expressed anguish at the barbarity of the Hamas attack and emphasized that civilians are not the target of Israel's operations. He discussed efforts to address the humanitarian needs of the people in Gaza while safeguarding them from harm and reaffirmed the US's unwavering support for Israel's right to defend its people.\", 'published_time': '2023-10-13T07:17:00+05:30', 'last_updated_time': '2023-10-13T07:20:00+05:30', 'tags': ['israel', 'Tel Aviv', 'Hamas attack', 'Israel support', 'Antony Blinken', 'US Secretary', 'joe biden', 'Benjamin Netanyahu'], 'image_url': 'https://economictimes.indiatimes.com/thumb/msid-104385094,width-600,height-450,imgsize-11566,overlay-economictimes/photo.jpg', 'authors': ['ANI']}, 'cleaned_text': \"US Secretary of State Antony Blinken's visit to Israel amid the ongoing Israel-Hamas war has brought to light the harrowing realities faced by civilians in the region, as well as the security concerns that continue to escalate.  I've seen a baby, an infant riddled with bullets. Soldiers beheaded. Young people burned alive in their cars or in their highway rooms. It almost defies comprehension,  Secretary Blinken expressed anguish at the barbarity of the Hamas attack on October 7 in southern Israel. So, we did see, photographs and videos that, the Israeli government shared with us... It's hard to find the right words. It's beyond what anyone would ever wanna imagine much less actually see and god forbid experience,  said Blinken on horrific photographs of the Hamas attack.He also shed light on the challenges posed by Hamas' use of civilians as human shields, which has been a recurring and deeply troubling tactic. Blinken emphasised that civilians are not the target of Israel's operations in Gaza. On the Mediterranean situation in Gaza, I think it's first important to remember a fundamental issue that makes this complicated. Hamas continues to use civilians as human shields. Something that's not new, something that they've always done intentionally putting, civilians in harm's way to protect them to try to protect themselves or protect their structure or protect their weapons... Civilians should not be used in any way as the targets of military operations. They are not the target of Israel's operations,  added the US Secretary.Furthermore, Secretary Blinken discussed efforts to address the humanitarian needs of the people living in Gaza while safeguarding them from harm during Israel's legitimate security operations aimed at defending itself from terrorism. He also explored the possibilities of providing safe passage for civilians who wish to leave Gaza, acknowledging the importance of protecting innocent lives. We did discuss ways to address the humanitarian needs of people living in, Gaza to protect them from harm while Israel conducts its legitimate security operations to defend itself from terrorism and to try to ensure that this never happens again. We also talked about, possibilities for safe passage for civilians who want to leave or get out of the way, in Gaza, and that's, a conversation to the discussion that we will pursue, in the coming days, including some of the countries that we'll be visiting...,  he said.In his discussions with Israeli leadership, Secretary Blinken reaffirmed the United States' unwavering support for Israel's right to defend its people and its determination to prevent a recurrence of the tragic events that unfolded recently. Secretary Blinken, on behalf of President Biden, also emphasized the importance of preventing any further fronts in the ongoing conflict and warned against any attempts by state or non-state actors to exploit the situation. It's our determination and, that of Israel as well, that not be a second front or a third front. And we are working, as hard as we can, working with other partners in the region, to try, to ensure that the case. President Biden has also been very clear that no one, state or non-state actor should try to take advantage of this moment...,  Blinken said.The US is actively assisting Israel at its request and is committed to providing the necessary support for the nation's security efforts. President's been very clear we stand with Israel. We stand with Israel in its determination to defend its people, defend its country. We stand with Israel in its determination to do everything possible to ensure that what happened on Saturday never happens again,  he added.Earlier in the day, Israeli President Isaac Herzog thanked Blinken and the US for their continuous support and added that the security and defence of the Israeli people is the highest priority at the moment. One thing is clear. Because of that day - it's the highest number of Jews ever killed since the Holocaust - I think we must be clear that this is not only unacceptable, which the president said, but the sense of security and defence that the people of Israel deserve is something which is of highest priority so that these pictures will never occur,  Herzog said.Blinken also met Prime Minister Benjamin Netanyahu and affirmed US' commitment to support Israel. The message that I bring to Israel is this -- you may be strong enough on your own to defend yourself, but as long as America exists, you will never, ever have to. We will always be there by your side,  The Times of Israel quoted Blinken as saying.He added,  That's the message that President Joe Biden delivered to the prime minister from the moment that this crisis began .Notably, the death toll in Israel since the Hamas attack on October 7 has jumped to 1,300 and some 3300 have been injured, including 28 in critical condition and 350 in serious condition, The Times of Israel reported citing Hebrew media reports.The fate of an estimated 150 people abducted and taken to the Gaza Strip during the attack by Hamas is still unclear, the report said.\", 'article_images': [{'image_url': 'https://img.etimg.com/thumb/msid-104385094,width-300,height-225,imgsize-11566,,resizemode-75/us-secy-blinken-highlights-civilian-suffering-security-concerns-amid-israel-hamas-war.jpg', 'image_caption': 'US Secy Blinken highlights civilian suffering, security concerns amid Israel-Hamas war'}]}"
   ]
  },
  {
   "cell_type": "code",
   "execution_count": 10,
   "id": "76c4139a-7d7b-4c76-8b57-8f310985ac7a",
   "metadata": {
    "tags": []
   },
   "outputs": [],
   "source": [
    "k1 = {'url': 'https://economictimes.indiatimes.com/news/international/world-news/us-secy-blinken-highlights-civilian-suffering-security-concerns-amid-israel-hamas-war/articleshow/104385083.cms', 'published_time': '2023-10-13T07:17:00+05:30', 'source_id': '6512cdcad01a9c8e86263e05', 'title': 'US Secy Blinken highlights civilian suffering, security concerns amid Israel-Hamas war', 'article_id': '6528b2d850af0e25a9122f54', 'cleaned_text': '', 'is_premium_article': False}"
   ]
  },
  {
   "cell_type": "code",
   "execution_count": 11,
   "id": "b0e5a2ff-9945-494c-b580-5944ef3b603b",
   "metadata": {
    "tags": []
   },
   "outputs": [],
   "source": [
    "k.update(k1)"
   ]
  },
  {
   "cell_type": "code",
   "execution_count": 12,
   "id": "ca428299-aa7f-4cf4-b9dd-abd11d65a339",
   "metadata": {
    "tags": []
   },
   "outputs": [
    {
     "data": {
      "text/plain": [
       "{'meta_data': {'is_premium_article': False,\n",
       "  'title': 'US Secy Blinken highlights civilian suffering, security concerns amid Israel-Hamas war',\n",
       "  'short_description': \"US Secretary of State Antony Blinken's visit to Israel during the ongoing Israel-Hamas conflict has shed light on the horrific realities faced by civilians in the region. Blinken expressed anguish at the barbarity of the Hamas attack and emphasized that civilians are not the target of Israel's operations. He discussed efforts to address the humanitarian needs of the people in Gaza while safeguarding them from harm and reaffirmed the US's unwavering support for Israel's right to defend its people.\",\n",
       "  'published_time': '2023-10-13T07:17:00+05:30',\n",
       "  'last_updated_time': '2023-10-13T07:20:00+05:30',\n",
       "  'tags': ['israel',\n",
       "   'Tel Aviv',\n",
       "   'Hamas attack',\n",
       "   'Israel support',\n",
       "   'Antony Blinken',\n",
       "   'US Secretary',\n",
       "   'joe biden',\n",
       "   'Benjamin Netanyahu'],\n",
       "  'image_url': 'https://economictimes.indiatimes.com/thumb/msid-104385094,width-600,height-450,imgsize-11566,overlay-economictimes/photo.jpg',\n",
       "  'authors': ['ANI']},\n",
       " 'cleaned_text': '',\n",
       " 'article_images': [{'image_url': 'https://img.etimg.com/thumb/msid-104385094,width-300,height-225,imgsize-11566,,resizemode-75/us-secy-blinken-highlights-civilian-suffering-security-concerns-amid-israel-hamas-war.jpg',\n",
       "   'image_caption': 'US Secy Blinken highlights civilian suffering, security concerns amid Israel-Hamas war'}],\n",
       " 'url': 'https://economictimes.indiatimes.com/news/international/world-news/us-secy-blinken-highlights-civilian-suffering-security-concerns-amid-israel-hamas-war/articleshow/104385083.cms',\n",
       " 'published_time': '2023-10-13T07:17:00+05:30',\n",
       " 'source_id': '6512cdcad01a9c8e86263e05',\n",
       " 'title': 'US Secy Blinken highlights civilian suffering, security concerns amid Israel-Hamas war',\n",
       " 'article_id': '6528b2d850af0e25a9122f54',\n",
       " 'is_premium_article': False}"
      ]
     },
     "execution_count": 12,
     "metadata": {},
     "output_type": "execute_result"
    }
   ],
   "source": [
    "k"
   ]
  },
  {
   "cell_type": "code",
   "execution_count": 9,
   "id": "2f947c25-fe7b-46f8-810a-ec6839984ebd",
   "metadata": {
    "tags": []
   },
   "outputs": [
    {
     "data": {
      "text/plain": [
       "{'meta_data': {'is_premium_article': False,\n",
       "  'title': 'US Secy Blinken highlights civilian suffering, security concerns amid Israel-Hamas war',\n",
       "  'short_description': \"US Secretary of State Antony Blinken's visit to Israel during the ongoing Israel-Hamas conflict has shed light on the horrific realities faced by civilians in the region. Blinken expressed anguish at the barbarity of the Hamas attack and emphasized that civilians are not the target of Israel's operations. He discussed efforts to address the humanitarian needs of the people in Gaza while safeguarding them from harm and reaffirmed the US's unwavering support for Israel's right to defend its people.\",\n",
       "  'published_time': '2023-10-13T07:17:00+05:30',\n",
       "  'last_updated_time': '2023-10-13T07:20:00+05:30',\n",
       "  'tags': ['israel',\n",
       "   'Tel Aviv',\n",
       "   'Hamas attack',\n",
       "   'Israel support',\n",
       "   'Antony Blinken',\n",
       "   'US Secretary',\n",
       "   'joe biden',\n",
       "   'Benjamin Netanyahu'],\n",
       "  'image_url': 'https://economictimes.indiatimes.com/thumb/msid-104385094,width-600,height-450,imgsize-11566,overlay-economictimes/photo.jpg',\n",
       "  'authors': ['ANI']},\n",
       " 'cleaned_text': \"US Secretary of State Antony Blinken's visit to Israel amid the ongoing Israel-Hamas war has brought to light the harrowing realities faced by civilians in the region, as well as the security concerns that continue to escalate.  I've seen a baby, an infant riddled with bullets. Soldiers beheaded. Young people burned alive in their cars or in their highway rooms. It almost defies comprehension,  Secretary Blinken expressed anguish at the barbarity of the Hamas attack on October 7 in southern Israel. So, we did see, photographs and videos that, the Israeli government shared with us... It's hard to find the right words. It's beyond what anyone would ever wanna imagine much less actually see and god forbid experience,  said Blinken on horrific photographs of the Hamas attack.He also shed light on the challenges posed by Hamas' use of civilians as human shields, which has been a recurring and deeply troubling tactic. Blinken emphasised that civilians are not the target of Israel's operations in Gaza. On the Mediterranean situation in Gaza, I think it's first important to remember a fundamental issue that makes this complicated. Hamas continues to use civilians as human shields. Something that's not new, something that they've always done intentionally putting, civilians in harm's way to protect them to try to protect themselves or protect their structure or protect their weapons... Civilians should not be used in any way as the targets of military operations. They are not the target of Israel's operations,  added the US Secretary.Furthermore, Secretary Blinken discussed efforts to address the humanitarian needs of the people living in Gaza while safeguarding them from harm during Israel's legitimate security operations aimed at defending itself from terrorism. He also explored the possibilities of providing safe passage for civilians who wish to leave Gaza, acknowledging the importance of protecting innocent lives. We did discuss ways to address the humanitarian needs of people living in, Gaza to protect them from harm while Israel conducts its legitimate security operations to defend itself from terrorism and to try to ensure that this never happens again. We also talked about, possibilities for safe passage for civilians who want to leave or get out of the way, in Gaza, and that's, a conversation to the discussion that we will pursue, in the coming days, including some of the countries that we'll be visiting...,  he said.In his discussions with Israeli leadership, Secretary Blinken reaffirmed the United States' unwavering support for Israel's right to defend its people and its determination to prevent a recurrence of the tragic events that unfolded recently. Secretary Blinken, on behalf of President Biden, also emphasized the importance of preventing any further fronts in the ongoing conflict and warned against any attempts by state or non-state actors to exploit the situation. It's our determination and, that of Israel as well, that not be a second front or a third front. And we are working, as hard as we can, working with other partners in the region, to try, to ensure that the case. President Biden has also been very clear that no one, state or non-state actor should try to take advantage of this moment...,  Blinken said.The US is actively assisting Israel at its request and is committed to providing the necessary support for the nation's security efforts. President's been very clear we stand with Israel. We stand with Israel in its determination to defend its people, defend its country. We stand with Israel in its determination to do everything possible to ensure that what happened on Saturday never happens again,  he added.Earlier in the day, Israeli President Isaac Herzog thanked Blinken and the US for their continuous support and added that the security and defence of the Israeli people is the highest priority at the moment. One thing is clear. Because of that day - it's the highest number of Jews ever killed since the Holocaust - I think we must be clear that this is not only unacceptable, which the president said, but the sense of security and defence that the people of Israel deserve is something which is of highest priority so that these pictures will never occur,  Herzog said.Blinken also met Prime Minister Benjamin Netanyahu and affirmed US' commitment to support Israel. The message that I bring to Israel is this -- you may be strong enough on your own to defend yourself, but as long as America exists, you will never, ever have to. We will always be there by your side,  The Times of Israel quoted Blinken as saying.He added,  That's the message that President Joe Biden delivered to the prime minister from the moment that this crisis began .Notably, the death toll in Israel since the Hamas attack on October 7 has jumped to 1,300 and some 3300 have been injured, including 28 in critical condition and 350 in serious condition, The Times of Israel reported citing Hebrew media reports.The fate of an estimated 150 people abducted and taken to the Gaza Strip during the attack by Hamas is still unclear, the report said.\",\n",
       " 'article_images': [{'image_url': 'https://img.etimg.com/thumb/msid-104385094,width-300,height-225,imgsize-11566,,resizemode-75/us-secy-blinken-highlights-civilian-suffering-security-concerns-amid-israel-hamas-war.jpg',\n",
       "   'image_caption': 'US Secy Blinken highlights civilian suffering, security concerns amid Israel-Hamas war'}]}"
      ]
     },
     "execution_count": 9,
     "metadata": {},
     "output_type": "execute_result"
    }
   ],
   "source": [
    "k"
   ]
  },
  {
   "cell_type": "code",
   "execution_count": 7,
   "id": "95615f7d-641b-4786-8ebd-9f5971fbb59e",
   "metadata": {
    "tags": []
   },
   "outputs": [
    {
     "data": {
      "text/plain": [
       "[{'article_id': '65367fe21e5cc42b1b143c76'},\n",
       " {'article_id': '65316e121e5cc42b1b13e420'},\n",
       " {'article_id': '651dd02ca662d76276b7d165'},\n",
       " {'article_id': '653169051e5cc42b1b13c998'},\n",
       " {'article_id': '653169151e5cc42b1b13ce74'},\n",
       " {'article_id': '6531690d1e5cc42b1b13cbfe'},\n",
       " {'article_id': '653169141e5cc42b1b13ce10'},\n",
       " {'article_id': '65316fed1e5cc42b1b1428c9'},\n",
       " {'article_id': '65438140dc4fa72a6c403871'},\n",
       " {'article_id': '6525a763598c6618f0608c4a'},\n",
       " {'article_id': '651e016da662d76276b84fa0'},\n",
       " {'article_id': '651ddb0aa662d76276b7edea'},\n",
       " {'article_id': '651e0b37a662d76276b86742'},\n",
       " {'article_id': '653170071e5cc42b1b143383'},\n",
       " {'article_id': '65325dd61e5cc42b1b1438a9'},\n",
       " {'article_id': '65325de31e5cc42b1b1438c0'},\n",
       " {'article_id': '65316efc1e5cc42b1b13eb75'},\n",
       " {'article_id': '653170011e5cc42b1b14312e'},\n",
       " {'article_id': '651e99e6a662d76276b8a7aa'},\n",
       " {'article_id': '6541f78edc4fa72a6c40373c'},\n",
       " {'article_id': '651e1f44a662d76276b8962e'},\n",
       " {'article_id': '6531700c1e5cc42b1b14359a'},\n",
       " {'article_id': '654c8391dc4fa72a6c403dfb'},\n",
       " {'article_id': '65316ff81e5cc42b1b142d4a'},\n",
       " {'article_id': '6531700d1e5cc42b1b1435c6'},\n",
       " {'article_id': '654c838fdc4fa72a6c403dec'},\n",
       " {'article_id': '653170091e5cc42b1b143492'},\n",
       " {'article_id': '6538bd021e5cc42b1b14446c'},\n",
       " {'article_id': '6525a743598c6618f06089b1'},\n",
       " {'article_id': '652fd09f1e5cc42b1b13a3cd'},\n",
       " {'article_id': '651de614a662d76276b80b4f'},\n",
       " {'article_id': '65316d5a1e5cc42b1b13e253'},\n",
       " {'article_id': '653169681e5cc42b1b13d9c6'},\n",
       " {'article_id': '6531691a1e5cc42b1b13d01c'},\n",
       " {'article_id': '65316e7b1e5cc42b1b13e548'},\n",
       " {'article_id': '651e03eea662d76276b85601'},\n",
       " {'article_id': '651dfc8ea662d76276b84358'},\n",
       " {'article_id': '651e2280a662d76276b89dd4'},\n",
       " {'article_id': '651df313a662d76276b82d6d'},\n",
       " {'article_id': '653168281e5cc42b1b13a79c'},\n",
       " {'article_id': '6525a755598c6618f0608b33'},\n",
       " {'article_id': '653170081e5cc42b1b143434'},\n",
       " {'article_id': '654a18cadc4fa72a6c403c0c'},\n",
       " {'article_id': '653170051e5cc42b1b1432c5'},\n",
       " {'article_id': '65316e871e5cc42b1b13e56f'},\n",
       " {'article_id': '65316dd11e5cc42b1b13e39d'},\n",
       " {'article_id': '651e091aa662d76276b86263'},\n",
       " {'article_id': '65316e341e5cc42b1b13e46d'},\n",
       " {'article_id': '65316ef81e5cc42b1b13eaec'},\n",
       " {'article_id': '6543814adc4fa72a6c403886'},\n",
       " {'article_id': '65316dfc1e5cc42b1b13e3f6'},\n",
       " {'article_id': '653170031e5cc42b1b1431c0'},\n",
       " {'article_id': '6531690d1e5cc42b1b13cbea'},\n",
       " {'article_id': '653169151e5cc42b1b13ce6d'},\n",
       " {'article_id': '652d17ce50af0e25a9123150'},\n",
       " {'article_id': '6531700c1e5cc42b1b143572'},\n",
       " {'article_id': '651e211da662d76276b89a97'},\n",
       " {'article_id': '65422fc4dc4fa72a6c403757'},\n",
       " {'article_id': '65316fec1e5cc42b1b14285d'},\n",
       " {'article_id': '65316ffb1e5cc42b1b142ebe'},\n",
       " {'article_id': '6536800b1e5cc42b1b143eca'},\n",
       " {'article_id': '6540c73e2936d70acf71e127'},\n",
       " {'article_id': '6540c73b2936d70acf71e07b'},\n",
       " {'article_id': '6540c73c2936d70acf71e099'},\n",
       " {'article_id': '6540c7392936d70acf71dffb'},\n",
       " {'article_id': '6540c7532936d70acf71e843'},\n",
       " {'article_id': '6540c7542936d70acf71e88c'},\n",
       " {'article_id': '6540c74f2936d70acf71e67a'},\n",
       " {'article_id': '6540c7522936d70acf71e7a8'},\n",
       " {'article_id': '6540c7422936d70acf71e22b'},\n",
       " {'article_id': '6540c7342936d70acf71df02'},\n",
       " {'article_id': '6536802e1e5cc42b1b144215'},\n",
       " {'article_id': '65316ff31e5cc42b1b142b28'},\n",
       " {'article_id': '653169121e5cc42b1b13cd77'},\n",
       " {'article_id': '653169181e5cc42b1b13cf61'},\n",
       " {'article_id': '6531691d1e5cc42b1b13d0f7'},\n",
       " {'article_id': '65316a301e5cc42b1b13db8e'},\n",
       " {'article_id': '652fc2ab1e5cc42b1b139e6f'},\n",
       " {'article_id': '653169031e5cc42b1b13c925'},\n",
       " {'article_id': '6531691e1e5cc42b1b13d157'},\n",
       " {'article_id': '653169041e5cc42b1b13c987'},\n",
       " {'article_id': '653169001e5cc42b1b13c841'},\n",
       " {'article_id': '6531690c1e5cc42b1b13cbd1'},\n",
       " {'article_id': '65316ff71e5cc42b1b142ce6'},\n",
       " {'article_id': '653680191e5cc42b1b143ff9'},\n",
       " {'article_id': '653170041e5cc42b1b14328c'},\n",
       " {'article_id': '6531700f1e5cc42b1b143662'},\n",
       " {'article_id': '653169071e5cc42b1b13ca28'},\n",
       " {'article_id': '653169171e5cc42b1b13cf24'},\n",
       " {'article_id': '651ddacfa662d76276b7ed4d'},\n",
       " {'article_id': '652fd36c1e5cc42b1b13a530'},\n",
       " {'article_id': '651e17c1a662d76276b88496'},\n",
       " {'article_id': '6525a75b598c6618f0608ba3'},\n",
       " {'article_id': '653170061e5cc42b1b143368'},\n",
       " {'article_id': '651de364a662d76276b80444'},\n",
       " {'article_id': '651de3bba662d76276b80541'},\n",
       " {'article_id': '653170051e5cc42b1b1432f6'},\n",
       " {'article_id': '6525a741598c6618f060898c'},\n",
       " {'article_id': '651de4a8a662d76276b807a4'},\n",
       " {'article_id': '65316d241e5cc42b1b13e1f2'}]"
      ]
     },
     "execution_count": 7,
     "metadata": {},
     "output_type": "execute_result"
    }
   ],
   "source": [
    "json.loads(r1.text)['searchArticleIds']"
   ]
  },
  {
   "cell_type": "code",
   "execution_count": 201,
   "id": "ae4ada88-5dc8-4a30-a7de-fa09e51df119",
   "metadata": {
    "tags": []
   },
   "outputs": [],
   "source": [
    "a = [1,2,3]"
   ]
  },
  {
   "cell_type": "code",
   "execution_count": 202,
   "id": "75bbc789-a4ca-4f9d-9ce7-c3013b1308ae",
   "metadata": {
    "tags": []
   },
   "outputs": [
    {
     "data": {
      "text/plain": [
       "[1, 2, 3]"
      ]
     },
     "execution_count": 202,
     "metadata": {},
     "output_type": "execute_result"
    }
   ],
   "source": [
    "a[:100]"
   ]
  },
  {
   "cell_type": "code",
   "execution_count": 247,
   "id": "45e8e7e8-73ce-4358-b9a9-e6153f2ea63b",
   "metadata": {
    "tags": []
   },
   "outputs": [],
   "source": [
    "df['date'] = pd.to_datetime(df['date'])"
   ]
  },
  {
   "cell_type": "code",
   "execution_count": 123,
   "id": "2d867c2e-0e5d-4eb3-86a9-af4d3b2cf8af",
   "metadata": {
    "tags": []
   },
   "outputs": [],
   "source": [
    "import pytz"
   ]
  },
  {
   "cell_type": "code",
   "execution_count": 151,
   "id": "d085880f-fa28-49c6-9e16-956f53434cc6",
   "metadata": {
    "tags": []
   },
   "outputs": [],
   "source": [
    "from dateutil import tz"
   ]
  },
  {
   "cell_type": "code",
   "execution_count": 152,
   "id": "75bfaadb-2844-42eb-b46d-683b55144c85",
   "metadata": {
    "tags": []
   },
   "outputs": [
    {
     "data": {
      "text/plain": [
       "5.5"
      ]
     },
     "execution_count": 152,
     "metadata": {},
     "output_type": "execute_result"
    }
   ],
   "source": [
    "19800/3600"
   ]
  },
  {
   "cell_type": "code",
   "execution_count": 221,
   "id": "98c4d40c-3c81-4ac2-bf2e-2ee7ead8d287",
   "metadata": {
    "tags": []
   },
   "outputs": [],
   "source": [
    "tzlocal = tz.tzoffset('IST', 19800)"
   ]
  },
  {
   "cell_type": "code",
   "execution_count": 222,
   "id": "f5641a5b-5f81-44e2-9923-05fd0d8df834",
   "metadata": {
    "tags": []
   },
   "outputs": [],
   "source": [
    "#timezone = pytz.timezone('Asia/Kolkata')"
   ]
  },
  {
   "cell_type": "code",
   "execution_count": 223,
   "id": "a101c86a-b471-41c8-9c3a-6a0960126efb",
   "metadata": {
    "tags": []
   },
   "outputs": [
    {
     "data": {
      "text/plain": [
       "datetime.datetime(2023, 11, 16, 13, 55, 45, 399941, tzinfo=tzoffset('IST', 19800))"
      ]
     },
     "execution_count": 223,
     "metadata": {},
     "output_type": "execute_result"
    }
   ],
   "source": [
    "datetime.today().replace(tzinfo=tzlocal)"
   ]
  },
  {
   "cell_type": "code",
   "execution_count": 243,
   "id": "afe7828b-6178-405b-aed3-4eb8bc9d9358",
   "metadata": {
    "tags": []
   },
   "outputs": [
    {
     "data": {
      "text/plain": [
       "0   2023-05-16 11:29:58+05:30\n",
       "1   2023-10-17 15:11:23+05:30\n",
       "2   2023-11-15 13:11:23+05:30\n",
       "Name: date, dtype: datetime64[ns, UTC+05:30]"
      ]
     },
     "execution_count": 243,
     "metadata": {},
     "output_type": "execute_result"
    }
   ],
   "source": [
    "df['date']"
   ]
  },
  {
   "cell_type": "code",
   "execution_count": 253,
   "id": "017698ef-6165-48a8-8975-db2b115206a7",
   "metadata": {
    "tags": []
   },
   "outputs": [
    {
     "data": {
      "text/plain": [
       "datetime.datetime(2023, 11, 16, 17, 10, 12, 444691, tzinfo=tzoffset('IST', 19800))"
      ]
     },
     "execution_count": 253,
     "metadata": {},
     "output_type": "execute_result"
    }
   ],
   "source": [
    "datetime.today().replace(tzinfo=tzlocal)"
   ]
  },
  {
   "cell_type": "code",
   "execution_count": 256,
   "id": "5da2e8e4-afdd-444f-877c-81a8216cf771",
   "metadata": {
    "tags": []
   },
   "outputs": [
    {
     "data": {
      "text/plain": [
       "0    184\n",
       "1     30\n",
       "2      0\n",
       "Name: date, dtype: int64"
      ]
     },
     "execution_count": 256,
     "metadata": {},
     "output_type": "execute_result"
    }
   ],
   "source": [
    "(datetime.today().replace(tzinfo=tzlocal) - df['date']).dt.days"
   ]
  },
  {
   "cell_type": "code",
   "execution_count": 257,
   "id": "d1b552a0-9f1b-40f7-bdc4-faa8cedc383d",
   "metadata": {
    "tags": []
   },
   "outputs": [],
   "source": [
    "df['n'] = ( df['date']).dt.days"
   ]
  },
  {
   "cell_type": "code",
   "execution_count": 261,
   "id": "41abf986-c8e3-4abc-9a51-abb91e041721",
   "metadata": {
    "tags": []
   },
   "outputs": [
    {
     "data": {
      "text/plain": [
       "[184, 30, 0]"
      ]
     },
     "execution_count": 261,
     "metadata": {},
     "output_type": "execute_result"
    }
   ],
   "source": [
    "[(datetime.today().replace(tzinfo=tzlocal) - x).days for x in df['date']]"
   ]
  },
  {
   "cell_type": "code",
   "execution_count": 258,
   "id": "b8557cd9-b798-4894-bc6b-df7b9e7afefa",
   "metadata": {
    "tags": []
   },
   "outputs": [
    {
     "data": {
      "text/html": [
       "<div>\n",
       "<style scoped>\n",
       "    .dataframe tbody tr th:only-of-type {\n",
       "        vertical-align: middle;\n",
       "    }\n",
       "\n",
       "    .dataframe tbody tr th {\n",
       "        vertical-align: top;\n",
       "    }\n",
       "\n",
       "    .dataframe thead th {\n",
       "        text-align: right;\n",
       "    }\n",
       "</style>\n",
       "<table border=\"1\" class=\"dataframe\">\n",
       "  <thead>\n",
       "    <tr style=\"text-align: right;\">\n",
       "      <th></th>\n",
       "      <th>date</th>\n",
       "      <th>n</th>\n",
       "    </tr>\n",
       "  </thead>\n",
       "  <tbody>\n",
       "    <tr>\n",
       "      <th>0</th>\n",
       "      <td>2023-05-16 11:29:58+05:30</td>\n",
       "      <td>184</td>\n",
       "    </tr>\n",
       "    <tr>\n",
       "      <th>1</th>\n",
       "      <td>2023-10-17 15:11:23+05:30</td>\n",
       "      <td>30</td>\n",
       "    </tr>\n",
       "    <tr>\n",
       "      <th>2</th>\n",
       "      <td>2023-11-16 17:09:23+05:30</td>\n",
       "      <td>0</td>\n",
       "    </tr>\n",
       "  </tbody>\n",
       "</table>\n",
       "</div>"
      ],
      "text/plain": [
       "                       date    n\n",
       "0 2023-05-16 11:29:58+05:30  184\n",
       "1 2023-10-17 15:11:23+05:30   30\n",
       "2 2023-11-16 17:09:23+05:30    0"
      ]
     },
     "execution_count": 258,
     "metadata": {},
     "output_type": "execute_result"
    }
   ],
   "source": [
    "df"
   ]
  },
  {
   "cell_type": "code",
   "execution_count": 180,
   "id": "cc7a16f0-9171-40e2-9b54-c83c1a1cf934",
   "metadata": {
    "tags": []
   },
   "outputs": [],
   "source": [
    "def decay_sigmoid_function(n):\n",
    "    return 0.5 + (0.5/(1 + np.exp((3 * np.log10(n)) - 3)))"
   ]
  },
  {
   "cell_type": "code",
   "execution_count": 185,
   "id": "173333d4-2f65-4bd2-984c-c071c696f417",
   "metadata": {
    "tags": []
   },
   "outputs": [
    {
     "data": {
      "text/plain": [
       "0.8302525868073324"
      ]
     },
     "execution_count": 185,
     "metadata": {},
     "output_type": "execute_result"
    }
   ],
   "source": [
    "decay_sigmoid_function(6)"
   ]
  },
  {
   "cell_type": "code",
   "execution_count": 220,
   "id": "5d8cb142-e4c8-4892-9bb6-dbac2c41bf21",
   "metadata": {
    "tags": []
   },
   "outputs": [
    {
     "data": {
      "text/plain": [
       "<DstTzInfo 'Asia/Kolkata' LMT+5:53:00 STD>"
      ]
     },
     "execution_count": 220,
     "metadata": {},
     "output_type": "execute_result"
    }
   ],
   "source": [
    "timezone"
   ]
  },
  {
   "cell_type": "code",
   "execution_count": 229,
   "id": "01fd9c0b-858e-41e3-8f47-9f424b6d09e3",
   "metadata": {
    "tags": []
   },
   "outputs": [],
   "source": [
    "def get_date_string(n_days_ago: int, n_hours_ago: int = 0):\n",
    "    # Get the current time in UTC and convert it to the desired timezone\n",
    "    current_time = datetime.today().replace(tzinfo=tzlocal)\n",
    "    new_time = current_time - timedelta(days=n_days_ago, hours=n_hours_ago)\n",
    "    date_string = new_time.strftime('%Y-%m-%dT%H:%M:%S%z')\n",
    "    return date_string"
   ]
  },
  {
   "cell_type": "code",
   "execution_count": 233,
   "id": "7bd68fc7-33a0-46b5-b4dc-4e0ae8504fb5",
   "metadata": {
    "tags": []
   },
   "outputs": [],
   "source": [
    "published_time_df = pd.DataFrame([('1', get_date_string(n_days_ago=30)),\n",
    "                                          ('2', get_date_string(n_days_ago=7)),\n",
    "                                          ('3', get_date_string(n_days_ago=0, n_hours_ago=12))], columns=['article_id', 'published_time'])"
   ]
  },
  {
   "cell_type": "code",
   "execution_count": 234,
   "id": "233d076e-147a-4f47-8a70-828270f8f96c",
   "metadata": {
    "tags": []
   },
   "outputs": [
    {
     "data": {
      "text/html": [
       "<div>\n",
       "<style scoped>\n",
       "    .dataframe tbody tr th:only-of-type {\n",
       "        vertical-align: middle;\n",
       "    }\n",
       "\n",
       "    .dataframe tbody tr th {\n",
       "        vertical-align: top;\n",
       "    }\n",
       "\n",
       "    .dataframe thead th {\n",
       "        text-align: right;\n",
       "    }\n",
       "</style>\n",
       "<table border=\"1\" class=\"dataframe\">\n",
       "  <thead>\n",
       "    <tr style=\"text-align: right;\">\n",
       "      <th></th>\n",
       "      <th>article_id</th>\n",
       "      <th>published_time</th>\n",
       "    </tr>\n",
       "  </thead>\n",
       "  <tbody>\n",
       "    <tr>\n",
       "      <th>0</th>\n",
       "      <td>1</td>\n",
       "      <td>2023-10-17T13:56:22+0530</td>\n",
       "    </tr>\n",
       "    <tr>\n",
       "      <th>1</th>\n",
       "      <td>2</td>\n",
       "      <td>2023-11-09T13:56:22+0530</td>\n",
       "    </tr>\n",
       "    <tr>\n",
       "      <th>2</th>\n",
       "      <td>3</td>\n",
       "      <td>2023-11-16T01:56:22+0530</td>\n",
       "    </tr>\n",
       "  </tbody>\n",
       "</table>\n",
       "</div>"
      ],
      "text/plain": [
       "  article_id            published_time\n",
       "0          1  2023-10-17T13:56:22+0530\n",
       "1          2  2023-11-09T13:56:22+0530\n",
       "2          3  2023-11-16T01:56:22+0530"
      ]
     },
     "execution_count": 234,
     "metadata": {},
     "output_type": "execute_result"
    }
   ],
   "source": [
    "published_time_df"
   ]
  },
  {
   "cell_type": "code",
   "execution_count": 235,
   "id": "d1490e28-0e00-4387-8200-cdcfc19e1a43",
   "metadata": {
    "tags": []
   },
   "outputs": [
    {
     "data": {
      "text/plain": [
       "article_id        object\n",
       "published_time    object\n",
       "dtype: object"
      ]
     },
     "execution_count": 235,
     "metadata": {},
     "output_type": "execute_result"
    }
   ],
   "source": [
    "published_time_df.dtypes"
   ]
  },
  {
   "cell_type": "code",
   "execution_count": 236,
   "id": "dede3a71-f115-48e5-919a-06893feb7b71",
   "metadata": {
    "tags": []
   },
   "outputs": [],
   "source": [
    "def get_published_time_scores(published_time_df):\n",
    "    published_time_df['published_time'] = pd.to_datetime(published_time_df['published_time'])\n",
    "    today_reference = datetime.today().replace(tzinfo=timezone)\n",
    "    published_time_df['num_days_ago'] = (today_reference - published_time_df['published_time']).dt.days\n",
    "    published_time_df['recency_score'] = [compute_publication_decay_time(n) for n in published_time_df['num_days_ago']]\n",
    "    return published_time_df"
   ]
  },
  {
   "cell_type": "code",
   "execution_count": 191,
   "id": "d6a924bb-6940-4caf-b396-c87c2732db16",
   "metadata": {
    "tags": []
   },
   "outputs": [],
   "source": [
    "def compute_publication_decay_time(num_days_ago: int):\n",
    "    assert num_days_ago >= 0 and isinstance(num_days_ago, int), f\"num_days_ago should be an int > 1 and not {num_days_ago}\"\n",
    "    if not decay_values:\n",
    "        for i in range(0, 61):\n",
    "            decay_values[i] = decay_sigmoid_function(n=i)\n",
    "    if num_days_ago >= 61:\n",
    "        return 0.5\n",
    "    else:\n",
    "        return decay_values[num_days_ago]"
   ]
  },
  {
   "cell_type": "code",
   "execution_count": 192,
   "id": "c5362e0e-0baa-45ab-aacc-45878f7a4956",
   "metadata": {
    "tags": []
   },
   "outputs": [
    {
     "name": "stderr",
     "output_type": "stream",
     "text": [
      "/var/folders/d4/cgyr_gnj7nn2wy_hq40gkq8c0000gq/T/ipykernel_96853/1403354633.py:2: RuntimeWarning: divide by zero encountered in log10\n",
      "  return 0.5 + (0.5/(1 + np.exp((3 * np.log10(n)) - 3)))\n"
     ]
    }
   ],
   "source": [
    "def decay_sigmoid_function(n):\n",
    "    return 0.5 + (0.5/(1 + np.exp((3 * np.log10(n)) - 3)))\n",
    "\n",
    "\n",
    "decay_values = {}\n",
    "for i in range(0, 61):\n",
    "    decay_values[i] = np.round(decay_sigmoid_function(n=i), 3)"
   ]
  },
  {
   "cell_type": "code",
   "execution_count": 238,
   "id": "3f6a760c-3e89-4f58-bbe1-49cf12c8009f",
   "metadata": {
    "tags": []
   },
   "outputs": [
    {
     "data": {
      "text/html": [
       "<div>\n",
       "<style scoped>\n",
       "    .dataframe tbody tr th:only-of-type {\n",
       "        vertical-align: middle;\n",
       "    }\n",
       "\n",
       "    .dataframe tbody tr th {\n",
       "        vertical-align: top;\n",
       "    }\n",
       "\n",
       "    .dataframe thead th {\n",
       "        text-align: right;\n",
       "    }\n",
       "</style>\n",
       "<table border=\"1\" class=\"dataframe\">\n",
       "  <thead>\n",
       "    <tr style=\"text-align: right;\">\n",
       "      <th></th>\n",
       "      <th>article_id</th>\n",
       "      <th>published_time</th>\n",
       "      <th>num_days_ago</th>\n",
       "      <th>recency_score</th>\n",
       "    </tr>\n",
       "  </thead>\n",
       "  <tbody>\n",
       "    <tr>\n",
       "      <th>0</th>\n",
       "      <td>1</td>\n",
       "      <td>2023-10-17 13:56:22+05:30</td>\n",
       "      <td>29</td>\n",
       "      <td>0.60</td>\n",
       "    </tr>\n",
       "    <tr>\n",
       "      <th>1</th>\n",
       "      <td>2</td>\n",
       "      <td>2023-11-09 13:56:22+05:30</td>\n",
       "      <td>6</td>\n",
       "      <td>0.83</td>\n",
       "    </tr>\n",
       "    <tr>\n",
       "      <th>2</th>\n",
       "      <td>3</td>\n",
       "      <td>2023-11-16 01:56:22+05:30</td>\n",
       "      <td>0</td>\n",
       "      <td>1.00</td>\n",
       "    </tr>\n",
       "  </tbody>\n",
       "</table>\n",
       "</div>"
      ],
      "text/plain": [
       "  article_id            published_time  num_days_ago  recency_score\n",
       "0          1 2023-10-17 13:56:22+05:30            29           0.60\n",
       "1          2 2023-11-09 13:56:22+05:30             6           0.83\n",
       "2          3 2023-11-16 01:56:22+05:30             0           1.00"
      ]
     },
     "execution_count": 238,
     "metadata": {},
     "output_type": "execute_result"
    }
   ],
   "source": [
    "get_published_time_scores(published_time_df)"
   ]
  },
  {
   "cell_type": "code",
   "execution_count": 177,
   "id": "3f3fcb25-332a-445e-888e-7f3ad90a23a5",
   "metadata": {
    "tags": []
   },
   "outputs": [],
   "source": [
    "def compute_decay(n):\n",
    "    if n <= 7:\n",
    "        return 1\n",
    "    elif n <= 45:\n",
    "        return 0.7\n",
    "    else:\n",
    "        return 0.5"
   ]
  },
  {
   "cell_type": "code",
   "execution_count": 178,
   "id": "ef5a918a-c330-4c44-a2f9-e13b5216a0ad",
   "metadata": {
    "tags": []
   },
   "outputs": [],
   "source": [
    "df['decay'] = [compute_decay(k) for k in df['n']]"
   ]
  },
  {
   "cell_type": "code",
   "execution_count": null,
   "id": "21735999-e9c3-4e26-8d89-709c6e8015c9",
   "metadata": {},
   "outputs": [],
   "source": []
  },
  {
   "cell_type": "code",
   "execution_count": 179,
   "id": "15dbcb82-83e7-4eee-a24d-6f962a42133b",
   "metadata": {
    "tags": []
   },
   "outputs": [
    {
     "data": {
      "text/html": [
       "<div>\n",
       "<style scoped>\n",
       "    .dataframe tbody tr th:only-of-type {\n",
       "        vertical-align: middle;\n",
       "    }\n",
       "\n",
       "    .dataframe tbody tr th {\n",
       "        vertical-align: top;\n",
       "    }\n",
       "\n",
       "    .dataframe thead th {\n",
       "        text-align: right;\n",
       "    }\n",
       "</style>\n",
       "<table border=\"1\" class=\"dataframe\">\n",
       "  <thead>\n",
       "    <tr style=\"text-align: right;\">\n",
       "      <th></th>\n",
       "      <th>date</th>\n",
       "      <th>n</th>\n",
       "      <th>decay</th>\n",
       "    </tr>\n",
       "  </thead>\n",
       "  <tbody>\n",
       "    <tr>\n",
       "      <th>0</th>\n",
       "      <td>2023-05-16 11:29:58+05:30</td>\n",
       "      <td>184</td>\n",
       "      <td>0.5</td>\n",
       "    </tr>\n",
       "    <tr>\n",
       "      <th>1</th>\n",
       "      <td>2023-10-17 15:11:23+05:30</td>\n",
       "      <td>30</td>\n",
       "      <td>0.7</td>\n",
       "    </tr>\n",
       "    <tr>\n",
       "      <th>2</th>\n",
       "      <td>2023-11-15 13:11:23+05:30</td>\n",
       "      <td>1</td>\n",
       "      <td>1.0</td>\n",
       "    </tr>\n",
       "  </tbody>\n",
       "</table>\n",
       "</div>"
      ],
      "text/plain": [
       "                       date    n  decay\n",
       "0 2023-05-16 11:29:58+05:30  184    0.5\n",
       "1 2023-10-17 15:11:23+05:30   30    0.7\n",
       "2 2023-11-15 13:11:23+05:30    1    1.0"
      ]
     },
     "execution_count": 179,
     "metadata": {},
     "output_type": "execute_result"
    }
   ],
   "source": [
    "df"
   ]
  },
  {
   "cell_type": "code",
   "execution_count": null,
   "id": "84ce4a32-b60f-4899-905a-c2c6cc18253d",
   "metadata": {},
   "outputs": [],
   "source": []
  },
  {
   "cell_type": "code",
   "execution_count": 105,
   "id": "08dc24e8-6826-4336-aad0-58fe26453a15",
   "metadata": {
    "tags": []
   },
   "outputs": [
    {
     "data": {
      "text/plain": [
       "datetime.datetime(2023, 11, 15, 18, 10, 6, 112437)"
      ]
     },
     "execution_count": 105,
     "metadata": {},
     "output_type": "execute_result"
    }
   ],
   "source": [
    "datetime.today()"
   ]
  },
  {
   "cell_type": "code",
   "execution_count": 88,
   "id": "8fd0da65-8ec3-4e32-a029-401d82301e11",
   "metadata": {
    "tags": []
   },
   "outputs": [
    {
     "data": {
      "text/html": [
       "<div>\n",
       "<style scoped>\n",
       "    .dataframe tbody tr th:only-of-type {\n",
       "        vertical-align: middle;\n",
       "    }\n",
       "\n",
       "    .dataframe tbody tr th {\n",
       "        vertical-align: top;\n",
       "    }\n",
       "\n",
       "    .dataframe thead th {\n",
       "        text-align: right;\n",
       "    }\n",
       "</style>\n",
       "<table border=\"1\" class=\"dataframe\">\n",
       "  <thead>\n",
       "    <tr style=\"text-align: right;\">\n",
       "      <th></th>\n",
       "      <th>article_id</th>\n",
       "      <th>dist</th>\n",
       "    </tr>\n",
       "  </thead>\n",
       "  <tbody>\n",
       "    <tr>\n",
       "      <th>0</th>\n",
       "      <td>6540c74c2936d70acf71e563</td>\n",
       "      <td>0.748928</td>\n",
       "    </tr>\n",
       "    <tr>\n",
       "      <th>1</th>\n",
       "      <td>6540c7502936d70acf71e728</td>\n",
       "      <td>0.748928</td>\n",
       "    </tr>\n",
       "    <tr>\n",
       "      <th>2</th>\n",
       "      <td>6540c7512936d70acf71e74a</td>\n",
       "      <td>0.748928</td>\n",
       "    </tr>\n",
       "    <tr>\n",
       "      <th>3</th>\n",
       "      <td>6540c74f2936d70acf71e664</td>\n",
       "      <td>0.748928</td>\n",
       "    </tr>\n",
       "    <tr>\n",
       "      <th>4</th>\n",
       "      <td>6540c74d2936d70acf71e5b3</td>\n",
       "      <td>0.748928</td>\n",
       "    </tr>\n",
       "    <tr>\n",
       "      <th>5</th>\n",
       "      <td>6540c7512936d70acf71e740</td>\n",
       "      <td>0.748928</td>\n",
       "    </tr>\n",
       "    <tr>\n",
       "      <th>6</th>\n",
       "      <td>6540c7572936d70acf71ea03</td>\n",
       "      <td>0.748928</td>\n",
       "    </tr>\n",
       "    <tr>\n",
       "      <th>7</th>\n",
       "      <td>6540c75b2936d70acf71eb96</td>\n",
       "      <td>0.748928</td>\n",
       "    </tr>\n",
       "    <tr>\n",
       "      <th>8</th>\n",
       "      <td>6540c75a2936d70acf71eb49</td>\n",
       "      <td>0.748928</td>\n",
       "    </tr>\n",
       "    <tr>\n",
       "      <th>9</th>\n",
       "      <td>6540c75a2936d70acf71eb6a</td>\n",
       "      <td>0.748928</td>\n",
       "    </tr>\n",
       "    <tr>\n",
       "      <th>10</th>\n",
       "      <td>65316fdd1e5cc42b1b142266</td>\n",
       "      <td>0.746016</td>\n",
       "    </tr>\n",
       "    <tr>\n",
       "      <th>11</th>\n",
       "      <td>65316f6e1e5cc42b1b13ff93</td>\n",
       "      <td>0.746016</td>\n",
       "    </tr>\n",
       "    <tr>\n",
       "      <th>12</th>\n",
       "      <td>652cacf550af0e25a9123109</td>\n",
       "      <td>0.744159</td>\n",
       "    </tr>\n",
       "    <tr>\n",
       "      <th>13</th>\n",
       "      <td>65316f8d1e5cc42b1b14078f</td>\n",
       "      <td>0.743222</td>\n",
       "    </tr>\n",
       "    <tr>\n",
       "      <th>14</th>\n",
       "      <td>65316fd61e5cc42b1b141fc8</td>\n",
       "      <td>0.743222</td>\n",
       "    </tr>\n",
       "    <tr>\n",
       "      <th>15</th>\n",
       "      <td>65316fea1e5cc42b1b142781</td>\n",
       "      <td>0.742938</td>\n",
       "    </tr>\n",
       "    <tr>\n",
       "      <th>16</th>\n",
       "      <td>65316fa11e5cc42b1b140d55</td>\n",
       "      <td>0.742938</td>\n",
       "    </tr>\n",
       "    <tr>\n",
       "      <th>17</th>\n",
       "      <td>65316fd11e5cc42b1b141dcd</td>\n",
       "      <td>0.741922</td>\n",
       "    </tr>\n",
       "    <tr>\n",
       "      <th>18</th>\n",
       "      <td>65316f7a1e5cc42b1b1402a4</td>\n",
       "      <td>0.741922</td>\n",
       "    </tr>\n",
       "    <tr>\n",
       "      <th>19</th>\n",
       "      <td>65316fdd1e5cc42b1b1422a2</td>\n",
       "      <td>0.741493</td>\n",
       "    </tr>\n",
       "  </tbody>\n",
       "</table>\n",
       "</div>"
      ],
      "text/plain": [
       "                  article_id      dist\n",
       "0   6540c74c2936d70acf71e563  0.748928\n",
       "1   6540c7502936d70acf71e728  0.748928\n",
       "2   6540c7512936d70acf71e74a  0.748928\n",
       "3   6540c74f2936d70acf71e664  0.748928\n",
       "4   6540c74d2936d70acf71e5b3  0.748928\n",
       "5   6540c7512936d70acf71e740  0.748928\n",
       "6   6540c7572936d70acf71ea03  0.748928\n",
       "7   6540c75b2936d70acf71eb96  0.748928\n",
       "8   6540c75a2936d70acf71eb49  0.748928\n",
       "9   6540c75a2936d70acf71eb6a  0.748928\n",
       "10  65316fdd1e5cc42b1b142266  0.746016\n",
       "11  65316f6e1e5cc42b1b13ff93  0.746016\n",
       "12  652cacf550af0e25a9123109  0.744159\n",
       "13  65316f8d1e5cc42b1b14078f  0.743222\n",
       "14  65316fd61e5cc42b1b141fc8  0.743222\n",
       "15  65316fea1e5cc42b1b142781  0.742938\n",
       "16  65316fa11e5cc42b1b140d55  0.742938\n",
       "17  65316fd11e5cc42b1b141dcd  0.741922\n",
       "18  65316f7a1e5cc42b1b1402a4  0.741922\n",
       "19  65316fdd1e5cc42b1b1422a2  0.741493"
      ]
     },
     "execution_count": 88,
     "metadata": {},
     "output_type": "execute_result"
    }
   ],
   "source": [
    "get_top_1000_articles(k, 20)"
   ]
  },
  {
   "cell_type": "code",
   "execution_count": 71,
   "id": "2b5d4595-1d9e-42e0-a00d-f9de321a5aba",
   "metadata": {
    "tags": []
   },
   "outputs": [
    {
     "name": "stdout",
     "output_type": "stream",
     "text": [
      "61.9 µs ± 837 ns per loop (mean ± std. dev. of 7 runs, 10,000 loops each)\n"
     ]
    }
   ],
   "source": [
    "%timeit json.loads(k[0][0])"
   ]
  },
  {
   "cell_type": "code",
   "execution_count": 72,
   "id": "103a055a-2bb9-41e5-a6a3-1f8e99631f6c",
   "metadata": {
    "tags": []
   },
   "outputs": [
    {
     "name": "stdout",
     "output_type": "stream",
     "text": [
      "1.19 ms ± 15.1 µs per loop (mean ± std. dev. of 7 runs, 1,000 loops each)\n"
     ]
    }
   ],
   "source": [
    "%timeit ast.literal_eval(k[0][0])"
   ]
  },
  {
   "cell_type": "code",
   "execution_count": 65,
   "id": "6325e6f4-dc01-472a-92b7-f19bcb9b535a",
   "metadata": {
    "tags": []
   },
   "outputs": [],
   "source": [
    "import ast"
   ]
  },
  {
   "cell_type": "code",
   "execution_count": 67,
   "id": "beac5f3d-4cac-42d6-9c22-6eb35ec38dd2",
   "metadata": {
    "tags": []
   },
   "outputs": [],
   "source": [
    "ss = ast.literal_eval(k[0][0])"
   ]
  },
  {
   "cell_type": "code",
   "execution_count": 68,
   "id": "58877443-0ef7-4b07-8a43-eac36ddc721d",
   "metadata": {
    "tags": []
   },
   "outputs": [
    {
     "data": {
      "text/plain": [
       "-0.1486416"
      ]
     },
     "execution_count": 68,
     "metadata": {},
     "output_type": "execute_result"
    }
   ],
   "source": [
    "ss[0]"
   ]
  },
  {
   "cell_type": "code",
   "execution_count": 61,
   "id": "6dcb769d-3e86-40d9-bd7a-3e7e3084914d",
   "metadata": {
    "tags": []
   },
   "outputs": [
    {
     "ename": "ValueError",
     "evalue": "could not convert string to float: '['",
     "output_type": "error",
     "traceback": [
      "\u001b[0;31m---------------------------------------------------------------------------\u001b[0m",
      "\u001b[0;31mValueError\u001b[0m                                Traceback (most recent call last)",
      "Cell \u001b[0;32mIn[61], line 1\u001b[0m\n\u001b[0;32m----> 1\u001b[0m [\u001b[38;5;28mfloat\u001b[39m(x) \u001b[38;5;28;01mfor\u001b[39;00m x \u001b[38;5;129;01min\u001b[39;00m k[\u001b[38;5;241m0\u001b[39m][\u001b[38;5;241m0\u001b[39m]]\n",
      "Cell \u001b[0;32mIn[61], line 1\u001b[0m, in \u001b[0;36m<listcomp>\u001b[0;34m(.0)\u001b[0m\n\u001b[0;32m----> 1\u001b[0m [\u001b[38;5;28;43mfloat\u001b[39;49m\u001b[43m(\u001b[49m\u001b[43mx\u001b[49m\u001b[43m)\u001b[49m \u001b[38;5;28;01mfor\u001b[39;00m x \u001b[38;5;129;01min\u001b[39;00m k[\u001b[38;5;241m0\u001b[39m][\u001b[38;5;241m0\u001b[39m]]\n",
      "\u001b[0;31mValueError\u001b[0m: could not convert string to float: '['"
     ]
    }
   ],
   "source": [
    "[float(x) for x in k[0][0]]"
   ]
  },
  {
   "cell_type": "code",
   "execution_count": 53,
   "id": "42f9af58-0a00-4e63-a26c-93ee6621ff7e",
   "metadata": {
    "tags": []
   },
   "outputs": [
    {
     "ename": "TypeError",
     "evalue": "'NoneType' object is not subscriptable",
     "output_type": "error",
     "traceback": [
      "\u001b[0;31m---------------------------------------------------------------------------\u001b[0m",
      "\u001b[0;31mTypeError\u001b[0m                                 Traceback (most recent call last)",
      "Cell \u001b[0;32mIn[53], line 1\u001b[0m\n\u001b[0;32m----> 1\u001b[0m \u001b[43mk\u001b[49m\u001b[43m[\u001b[49m\u001b[38;5;241;43m0\u001b[39;49m\u001b[43m]\u001b[49m\n",
      "\u001b[0;31mTypeError\u001b[0m: 'NoneType' object is not subscriptable"
     ]
    }
   ],
   "source": [
    "k[0]"
   ]
  },
  {
   "cell_type": "code",
   "execution_count": null,
   "id": "955ccb44-0ae5-42d6-9be0-0c76280d418b",
   "metadata": {},
   "outputs": [],
   "source": [
    "with PostgresDatabaseOperation() as cursor:\n",
    "    sql = 'SELECT embedding FROM search_query_embeddings WHERE query_text = %s LIMIT 1'\n",
    "    cursor.execute(sql, (query,))\n",
    "    results = cursor.fetchall()\n",
    "if results:\n",
    "    return results[0]\n",
    "else:\n",
    "    return None"
   ]
  },
  {
   "cell_type": "code",
   "execution_count": 44,
   "id": "a8d942f6-cef7-4954-8a11-5f867a2df2aa",
   "metadata": {
    "tags": []
   },
   "outputs": [
    {
     "data": {
      "text/plain": [
       "[]"
      ]
     },
     "execution_count": 44,
     "metadata": {},
     "output_type": "execute_result"
    }
   ],
   "source": [
    "results"
   ]
  },
  {
   "cell_type": "code",
   "execution_count": null,
   "id": "72098835-0ac7-409e-81c7-4fc32b729f9f",
   "metadata": {},
   "outputs": [],
   "source": []
  }
 ],
 "metadata": {
  "kernelspec": {
   "display_name": "bertopicenv",
   "language": "python",
   "name": "bertopicenv"
  },
  "language_info": {
   "codemirror_mode": {
    "name": "ipython",
    "version": 3
   },
   "file_extension": ".py",
   "mimetype": "text/x-python",
   "name": "python",
   "nbconvert_exporter": "python",
   "pygments_lexer": "ipython3",
   "version": "3.9.18"
  }
 },
 "nbformat": 4,
 "nbformat_minor": 5
}
