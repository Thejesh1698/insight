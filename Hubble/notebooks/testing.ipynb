{
 "cells": [
  {
   "cell_type": "code",
   "execution_count": 1,
   "id": "3dab250b-5277-458a-b3b6-ba90630bad37",
   "metadata": {
    "tags": []
   },
   "outputs": [],
   "source": [
    "parent_folder = '/Users/ravi.tej/Desktop/ML/Recommendations/hubble/'\n",
    "from hydra import compose, initialize\n",
    "import os\n",
    "\n",
    "import xml.etree.ElementTree as ET\n",
    "\n",
    "tree = ET.parse('../conf/application.run.xml')\n",
    "root = tree.getroot()\n",
    "\n",
    "envs_element = root.find('./configuration/envs')\n",
    "for variable in envs_element.findall('env'):\n",
    "    name = variable.get('name')\n",
    "    value = variable.get('value')\n",
    "    os.environ[name] = value\n",
    "\n",
    "import sys\n",
    "sys.path.append('/Users/ravi.tej/Desktop/ML/Recommendations/hubble/')"
   ]
  },
  {
   "cell_type": "code",
   "execution_count": 2,
   "id": "ef057c4f-eece-4cc4-ac22-1426e063b3ca",
   "metadata": {
    "tags": []
   },
   "outputs": [],
   "source": [
    "# from sql.MongoDBArticle import MongoDBArticle"
   ]
  },
  {
   "cell_type": "code",
   "execution_count": 3,
   "id": "e5fb0bad-27c7-4bf3-bed1-b968d47c1578",
   "metadata": {
    "tags": []
   },
   "outputs": [],
   "source": [
    "# MongoDBArticle.get_collection()"
   ]
  },
  {
   "cell_type": "code",
   "execution_count": 4,
   "id": "a7f7e776-7ec6-4248-bfc2-ff677818c975",
   "metadata": {
    "tags": []
   },
   "outputs": [],
   "source": [
    "# a = MongoDBArticle.fetch_all_document_ids()"
   ]
  },
  {
   "cell_type": "code",
   "execution_count": 5,
   "id": "2ca56a16-79f5-4f52-9d9b-8b90c692e0ae",
   "metadata": {
    "tags": []
   },
   "outputs": [],
   "source": [
    "# SSH tunnel configuration\n",
    "SSH_HOST=''\n",
    "SSH_USER='ec2-user'\n",
    "SSH_KEY_PATH=''\n",
    "LOCAL_BIND_PORT=3000\n",
    "\n",
    "# MongoDB server configuration\n",
    "MONGO_HOST='insight-beta-article-db2.chmaiagjipqy.ap-south-1.docdb.amazonaws.com'\n",
    "MONGO_PORT=27017\n",
    "MONGO_USERNAME=''\n",
    "MONGO_PASSWORD=''\n",
    "\n",
    "\n",
    "MONGO_DB_NAME='insight_db'\n",
    "MONGO_COLLECTION_NAME='articles'\n",
    "\n",
    "# test environment\n",
    "ENVIRONMENT='local'"
   ]
  },
  {
   "cell_type": "code",
   "execution_count": 6,
   "id": "38e81952-11e2-4748-986f-ee47dd80c795",
   "metadata": {
    "tags": []
   },
   "outputs": [],
   "source": [
    "DB_USERNAME = MONGO_USERNAME\n",
    "DB_PASSWORD=MONGO_PASSWORD"
   ]
  },
  {
   "cell_type": "code",
   "execution_count": 7,
   "id": "a767ae9f-6b0e-4617-a912-e103fe57b866",
   "metadata": {
    "tags": []
   },
   "outputs": [],
   "source": [
    "import os"
   ]
  },
  {
   "cell_type": "code",
   "execution_count": 8,
   "id": "8eca11e4-cb14-41a6-827a-ae6a12e7c8bf",
   "metadata": {
    "tags": []
   },
   "outputs": [],
   "source": [
    "\n",
    "import os\n",
    "from pymongo import MongoClient\n",
    "from sshtunnel import SSHTunnelForwarder\n",
    "\n",
    "# # SSH tunnel configuration\n",
    "# SSH_HOST = os.environ.get('SSH_HOST')\n",
    "# SSH_USER = os.environ.get('SSH_USER')\n",
    "# SSH_KEY_PATH = os.environ.get('SSH_KEY_PATH')\n",
    "# LOCAL_BIND_PORT = int(os.environ.get('LOCAL_BIND_PORT', 3010))\n",
    "\n",
    "\n",
    "# # MongoDB server configuration\n",
    "# MONGO_HOST = os.environ.get('MONGO_HOST')\n",
    "# MONGO_PORT = int(os.environ.get('MONGO_PORT', 27017))\n",
    "# DB_USERNAME = os.environ.get('MONGO_USERNAME')\n",
    "# DB_PASSWORD = os.environ.get('MONGO_PASSWORD')\n",
    "\n",
    "# db parameters dict\n",
    "DB_PARAMS = {\n",
    "    \"host\": '127.0.0.1',\n",
    "    \"port\": LOCAL_BIND_PORT,\n",
    "    \"username\": DB_USERNAME,\n",
    "    \"password\": DB_PASSWORD,\n",
    "}\n",
    "\n",
    "\n",
    "class MongoDatabaseConnection:\n",
    "    _instance = None\n",
    "    _client = None\n",
    "    _tunnel = None\n",
    "\n",
    "    def __new__(cls):\n",
    "        if cls._instance is None:\n",
    "            try:\n",
    "                cls._instance = super(MongoDatabaseConnection, cls).__new__(cls)\n",
    "\n",
    "                if os.environ.get('ENVIRONMENT') == 'local':\n",
    "                    # initiate mongo client via ssh tunneling\n",
    "                    cls._instance._client = cls._connect_to_mongodb_using_ssh()\n",
    "                else:\n",
    "                    # initiate mongo client\n",
    "                    cls._instance._client = cls._connect_to_mongodb()\n",
    "            except Exception as e:\n",
    "                raise Exception(f\"Failed to connect to MongoDB: {e}\")\n",
    "\n",
    "        return cls._instance\n",
    "\n",
    "    @classmethod\n",
    "    def get_client(cls):\n",
    "        return cls._instance._client\n",
    "\n",
    "    @classmethod\n",
    "    def close_connection(cls):\n",
    "        if cls._instance._client:\n",
    "            cls._instance._client.close()\n",
    "            cls._instance._client = None\n",
    "\n",
    "        if cls._tunnel:\n",
    "            cls._tunnel.stop()\n",
    "            cls._tunnel = None\n",
    "\n",
    "    @classmethod\n",
    "    def _establish_tunnel(cls):\n",
    "        try:\n",
    "            tunnel = SSHTunnelForwarder(\n",
    "                (SSH_HOST, 22),\n",
    "                ssh_username=SSH_USER,\n",
    "                ssh_pkey=SSH_KEY_PATH,\n",
    "                remote_bind_address=(MONGO_HOST, MONGO_PORT),\n",
    "                local_bind_address=('127.0.0.1', LOCAL_BIND_PORT)\n",
    "            )\n",
    "\n",
    "            return tunnel\n",
    "        except Exception as e:\n",
    "            raise Exception(f\"Failed to establish SSH tunnel: {e}\")\n",
    "\n",
    "    @classmethod\n",
    "    def _connect_to_mongodb(cls):\n",
    "        try:\n",
    "            return MongoClient(**DB_PARAMS)\n",
    "        except ConnectionError as mongo_error:\n",
    "            raise Exception(f\"Failed to connect to MongoDB Connection: {mongo_error}\")\n",
    "\n",
    "    @classmethod\n",
    "    def _connect_to_mongodb_using_ssh(cls):\n",
    "        try:\n",
    "            # start the tunnel\n",
    "            cls._tunnel = cls._establish_tunnel()\n",
    "            cls._tunnel.start()\n",
    "\n",
    "            return MongoClient(\n",
    "                directConnection=True,\n",
    "                **DB_PARAMS\n",
    "            )\n",
    "        except ConnectionError as mongo_error:\n",
    "            raise Exception(f\"Failed to connect to MongoDB Connection: {mongo_error}\")"
   ]
  },
  {
   "cell_type": "code",
   "execution_count": 9,
   "id": "53bb11c9-a5c4-4fc9-832c-bcf86fb9b571",
   "metadata": {
    "tags": []
   },
   "outputs": [],
   "source": [
    "from bson import ObjectId"
   ]
  },
  {
   "cell_type": "code",
   "execution_count": 10,
   "id": "1cb66bfe-1a5e-4691-946f-bdd8117ca5a2",
   "metadata": {
    "tags": []
   },
   "outputs": [],
   "source": [
    "class MongoDBArticle:\n",
    "\n",
    "    @staticmethod\n",
    "    def get_db():\n",
    "        mongo_conn = None\n",
    "        try:\n",
    "            # setup mongo connection\n",
    "            mongo_conn = MongoDatabaseConnection()\n",
    "            mongo_client = mongo_conn.get_client()\n",
    "            db = mongo_client[MONGO_DB_NAME]\n",
    "            return db\n",
    "        except Exception as e:\n",
    "            if mongo_conn:\n",
    "                mongo_conn.close_connection()\n",
    "            raise Exception(f\"Error in connecting to db: {e}\")\n",
    "\n",
    "    @staticmethod\n",
    "    def get_collection(collection_name=None):\n",
    "        try:\n",
    "            db = MongoDBArticle.get_db()\n",
    "            if collection_name is None:\n",
    "                return db[MONGO_COLLECTION_NAME]\n",
    "            else:\n",
    "                return db[collection_name]\n",
    "        except Exception as e:\n",
    "            raise Exception(f\"Error in _get_collection: {e}\")\n",
    "\n",
    "    @staticmethod\n",
    "    def fetch_documents_by_ids(string_ids):\n",
    "        try:\n",
    "            object_ids = [ObjectId(string_id) for string_id in string_ids]\n",
    "        except Exception as e:\n",
    "            return f\"Invalid ID format: {e}\"\n",
    "\n",
    "        collection = MongoDBArticle.get_collection()\n",
    "        documents = list(collection.find({\"_id\": {\"$in\": object_ids}}))\n",
    "        doc_dict = {}\n",
    "        for doc in documents:\n",
    "            article_id = str(doc.pop('_id'))\n",
    "            doc_dict[article_id] = doc\n",
    "            doc_dict[article_id]['article_id'] = article_id\n",
    "            doc_dict[article_id]['source_id'] = str(doc['source_id'])\n",
    "            doc_dict[article_id]['is_premium_article'] = False\n",
    "        return doc_dict\n",
    "    \n",
    "    @staticmethod\n",
    "    def fetch_all_document_ids():\n",
    "        query = {\"is_premium_article\": False}\n",
    "        projection = {\"_id\": 1}\n",
    "\n",
    "        collection = MongoDBArticle.get_collection()\n",
    "        documents = list(collection.find(query, projection).limit(100))\n",
    "        return [str(doc['_id']) for doc in documents]"
   ]
  },
  {
   "cell_type": "code",
   "execution_count": 11,
   "id": "00179be1-489c-4240-a468-2842a1946449",
   "metadata": {
    "tags": []
   },
   "outputs": [],
   "source": [
    "from requests_aws4auth import AWS4Auth\n",
    "import os\n",
    "import requests\n",
    "import json\n",
    "import pandas as pd"
   ]
  },
  {
   "cell_type": "code",
   "execution_count": 12,
   "id": "fd95120b-7287-43bd-a3e0-883c186beb51",
   "metadata": {
    "tags": []
   },
   "outputs": [],
   "source": [
    "ES_SERVICE = 'aoss'\n",
    "ES_AUTH = AWS4Auth(os.environ.get('ES_ACCESS_KEY'), os.environ.get('ES_SECRET_KEY'), 'ap-southeast-1', ES_SERVICE)\n",
    "ES_URL = f'https://{os.environ.get(\"ES_HOST\")}/finance-contents/_search'"
   ]
  },
  {
   "cell_type": "code",
   "execution_count": 13,
   "id": "8693cd68-df01-4ff8-bf1c-ae3290302917",
   "metadata": {
    "tags": []
   },
   "outputs": [],
   "source": [
    "def perform_exact_search(query_text, n=100):\n",
    "    headers = {\"Content-Type\": \"application/json\"}\n",
    "    query = {\n",
    "        \"query\": {\n",
    "            \"match\": {\n",
    "                \"cleaned_text\": {\n",
    "                    \"query\": query_text\n",
    "                }\n",
    "            }\n",
    "        }\n",
    "    }\n",
    "    response = requests.get(ES_URL, auth=ES_AUTH, headers=headers, json=query)\n",
    "    results = json.loads(response.text)['hits']['hits'][:n]\n",
    "    return pd.DataFrame([(x['_id'], x['_score']) for x in results], columns=['article_id', 'score'])"
   ]
  },
  {
   "cell_type": "code",
   "execution_count": 14,
   "id": "f9719b5a-b7ff-4039-88dc-4085b6a891c3",
   "metadata": {
    "tags": []
   },
   "outputs": [],
   "source": [
    "# df = perform_exact_search('india')"
   ]
  },
  {
   "cell_type": "code",
   "execution_count": 15,
   "id": "b7cfb2a2-b04b-4fa8-bda9-9d5951485b10",
   "metadata": {
    "tags": []
   },
   "outputs": [],
   "source": [
    "# df"
   ]
  },
  {
   "cell_type": "code",
   "execution_count": 16,
   "id": "42477899-bdff-4d72-8863-1e8b4b4fbffd",
   "metadata": {
    "tags": []
   },
   "outputs": [],
   "source": [
    "article_ids = MongoDBArticle.fetch_all_document_ids()"
   ]
  },
  {
   "cell_type": "code",
   "execution_count": 17,
   "id": "a963cfa1-f75d-4e5c-b4d9-790ecb97e117",
   "metadata": {
    "tags": []
   },
   "outputs": [],
   "source": [
    "ids = ['659bd5c24b25ce4814fb5159',\n",
    "'659bd5c24b25ce4814fb5155',\n",
    "'659bd5c24b25ce4814fb5154',\n",
    "'659bd5c44b25ce4814fb515d',\n",
    "'659bd5c24b25ce4814fb5158',\n",
    "'659bd5c14b25ce4814fb5151',\n",
    "'659b9d874b25ce4814fb50ff',\n",
    "'659bd5c54b25ce4814fb515e',\n",
    "'659bd5c34b25ce4814fb515c',\n",
    "'656ddb3b9994965ac4b450ca']"
   ]
  },
  {
   "cell_type": "code",
   "execution_count": 18,
   "id": "0c92a927-b992-4847-b335-12e9fff97cd2",
   "metadata": {
    "tags": []
   },
   "outputs": [],
   "source": [
    "article_docs = MongoDBArticle.fetch_documents_by_ids(ids)"
   ]
  },
  {
   "cell_type": "code",
   "execution_count": 19,
   "id": "8b860141-38ee-4b47-afea-c327424df02f",
   "metadata": {
    "scrolled": true,
    "tags": []
   },
   "outputs": [
    {
     "data": {
      "text/plain": [
       "{'656ddb3b9994965ac4b450ca': {'url': 'https://www.cnbc.com/2023/11/30/lyft-ceo-touts-success-of-airport-on-time-pickup-promise-for-riders.html',\n",
       "  'source_id': '6555995596fb32eef21a562e',\n",
       "  '_class': 'com.wintWealth.insight.common.models.entities.Article',\n",
       "  'image_url': 'https://image.cnbcfm.com/api/v1/image/105770193-1551467099728preview.jpg?v=1701371905&w=1920&h=1080',\n",
       "  'is_premium_article': False,\n",
       "  'last_updated_time': '2023-12-01T00:11:54+00:00',\n",
       "  'published_time': '2023-12-01T00:10:55+00:00',\n",
       "  'short_description': 'Lyft CEO David Risher told CNBC\\'s Jim Cramer about the success of his company\\'s new \"on-time pickup promise\" launched ahead of the holiday travel season.',\n",
       "  'tags': ['Uber Technologies Inc,Lyft Inc,Markets,Business,Investment strategy,Stock markets,Jim Cramer,business news'],\n",
       "  'title': \"Lyft CEO touts success of airport 'on-time pickup promise' for riders\",\n",
       "  'authors': ['Julie Coleman'],\n",
       "  'ai_generated_info': {'summary': {'OpenHermes_WatermelonSapphireZipline': {'generated_at': datetime.datetime(2023, 12, 7, 10, 34, 9, 32000),\n",
       "     'value': 'Lyfts on-time pickup program introduced before holiday travel guarantees rides on time and reimburses passengers in case of delay CEO David Risher stated. The company claims this initiative has resulted in successful and profitable rides to airports despite competition from Uber. They reported that they have compensated only 72 riders out of 2.5 million rides transported resulting in high customer satisfaction.'}},\n",
       "   'title': {'OpenHermes_WatermelonSapphireZipline': {'generated_at': datetime.datetime(2023, 12, 7, 10, 34, 9, 32000),\n",
       "     'value': 'Lyft CEO hails success of on-time pickup program amid holiday season'}}},\n",
       "  'reactions': {},\n",
       "  'content_type': 'ARTICLE',\n",
       "  'cleaned_text': 'watch now VIDEO 1:12 01:12 Lyft CEO David Risher talks the company\\'s on-time pickup promise Mad Money with Jim Cramer Lyft CEO David Risher told CNBC\\'s Jim Cramer on Thursday said he\\'s bullish on the company\\'s \" on-time pickup promise \" program, which was launched before the busy holiday travel season. \"Everyone is stressed during holidays, and the holidays should be so great — they\\'re a time of getting together with your family — but man, what time am I getting to the airport? Is a car going to pick me up?\" Risher said. \"We guarantee we\\'re going to pick you up. If we are more than ten minutes late, we will pay you up to $100 in Lyft cash.\" Risher said over the past few weeks, Lyft has given 2.5 million rides to the airport and only had to reimburse 72 rides for late pick-ups. Lyft has struggled in the ride-share space since its 2019 initial public offering, with competitor Uber pulling ahead in terms of market share and market capitalization. Risher reported steady improvement at the company since he took the reigns in April, with ride growth up 20% in the most recent quarter. Risher also said employee satisfaction levels at the company are the highest in four years after hitting a historic low when he began his tenure. \"We just saw the results, just yesterday, of our most recent [employee satisfaction survey],\" he said. \"What that tells you is that the thousands and thousands – 3000 plus team members who work for Lyft – are starting to believe. They believe in our purpose, they believe in our execution.\" watch now VIDEO 7:35 07:35 Lyft CEO David Risher goes one-on-one with Jim Cramer Mad Money with Jim Cramer Jim Cramer\\'s Guide to Investing Click here to download Jim Cramer\\'s Guide to Investing at no cost to help you build long-term wealth and invest smarter. Sign up now for the CNBC Investing Club to follow Jim Cramer\\'s every move in the market. Disclaimer Questions for Cramer? Call Cramer: 1-800-743-CNBC Want to take a deep dive into Cramer\\'s world? Hit him up! Mad Money Twitter - Jim Cramer Twitter - Facebook - Instagram Questions, comments, suggestions for the \"Mad Money\" website? madcap@cnbc.com',\n",
       "  'article_id': '656ddb3b9994965ac4b450ca'},\n",
       " '659b9d874b25ce4814fb50ff': {'url': 'https://www.moneycontrol.com/news/business/stocks/ntpc-opens-flat-after-getting-rs-41-8-crore-gst-demand-notice-12013351.html',\n",
       "  'source_id': '6560af039952a16bbc397224',\n",
       "  'authors': ['Anishaa Kumar'],\n",
       "  'reactions': {},\n",
       "  '_class': 'com.wintWealth.insight.common.models.entities.Article',\n",
       "  'image_url': 'https://images.moneycontrol.com/static-mcnews/2023/08/NTPC.jpg',\n",
       "  'is_premium_article': False,\n",
       "  'last_updated_time': '2024-01-08T04:08:26+0000',\n",
       "  'published_time': '2024-01-08T04:08:14+0000',\n",
       "  'short_description': \"The company plans to challenged the order and said there 'is no material impact on financials or operations from the order'\",\n",
       "  'tags': ['NTPC, Bihar, GST'],\n",
       "  'title': 'NTPC opens flat after getting Rs 41.8- crore GST demand notice',\n",
       "  'ai_generated_info': {'summary': {'OpenHermes_WatermelonSapphireZipline': {'additional_info': {},\n",
       "     'generated_at': datetime.datetime(2024, 1, 8, 7, 7, 29, 372000),\n",
       "     'value': 'NTPC has received a Rs 41.8 crore notice from Patna Commissioner CGST for April 2013-March 2017 for interest and penalty. The notice poses no financial or operational impact and the company plans to file an appeal before the tribunal. NTPCs stock currently trades flat on the National Stock Exchange.'}},\n",
       "   'title': {'OpenHermes_WatermelonSapphireZipline': {'additional_info': {},\n",
       "     'generated_at': datetime.datetime(2024, 1, 8, 7, 7, 29, 372000),\n",
       "     'value': 'NTPC Receives GST Notice, Trading Flat on NSE'}}},\n",
       "  'content_type': 'ARTICLE',\n",
       "  'cleaned_text': 'On January 7, in a separate filing, the company had reported that it had received demand orders from authorities of seven states for GST, interest, and penalty worth a total of Rs 100.80 crore. The NTPC stock was trading flat on the National Stock Exchange on January 8 morning after the state-owned power company received a Rs 41.8 crore service tax notice, which it plans to challenge. At 9.20 am, the stock was trading at Rs 314.60, down 0.11 percent from the previous close. Story continues below Advertisement Remove Ad Follow our market blog for live updates NTPC received a notice for collection of service tax, interest and penalty from Patna Commissioner, CGST for the April 2013-March 2017 period, the company said in a regulatory filing. The order would have no material impact on financials or operations of the firm and it will \"file an appeal before the tribunal of the applicable jurisdiction against the said orders within the prescribed timeline\". Also read: Narrative on NTPC stock keeps changing on market’s whims, says Kotak Institutional Equities On January 7, the company reported receiving demand orders for GST, interest, and penalty worth a total of Rs 100.80 crore from Delhi, Uttar Pradesh, Andhra Pradesh, Bihar, Chhattisgarh, Maharastra and Gujarat governments. Disclaimer: The views and investment tips expressed by investment experts on Moneycontrol.com are their own and not those of the website or its management. Moneycontrol.com advises users to check with certified experts before taking any investment decisions. Story continues below Advertisement Remove Ad',\n",
       "  'article_id': '659b9d874b25ce4814fb50ff'},\n",
       " '659bd5c14b25ce4814fb5151': {'url': 'https://www.livemint.com/economy/thali-costs-fall-in-december-11704705597446.html',\n",
       "  'published_time': '2024-01-08T15:38:55+05:30',\n",
       "  'last_updated_time': '2024-01-08T15:39:11+05:30',\n",
       "  'source_id': '650046bd005149c49201269f',\n",
       "  'image_url': 'https://www.livemint.com/lm-img/img/2024/01/08/1600x900/Thali_1704707679505_1704707679873.jpg',\n",
       "  'authors': ['Puja Das'],\n",
       "  'reactions': {},\n",
       "  '_class': 'com.wintWealth.insight.common.models.entities.Article',\n",
       "  'is_premium_article': False,\n",
       "  'short_description': 'Year-on-year, however, the cost of a vegetarian meal increased, whereas non-vegetarian thali became cheaper',\n",
       "  'tags': [''],\n",
       "  'title': 'Thali costs fall in December | Mint',\n",
       "  'ai_generated_info': {'summary': {'OpenHermes_WatermelonSapphireZipline': {'additional_info': {},\n",
       "     'generated_at': datetime.datetime(2024, 1, 8, 11, 1, 17, 649000),\n",
       "     'value': 'Home-cooked meal costs in India fell in December as festival season subsided. Significant declines in onion and tomato prices and chicken costs resulted in a drop in vegetarian thali costs by 3% and non-vegetarian thali costs by 5%. Nevertheless vegetarian thali costs increased on an annual basis due to surges in onion and tomato prices. Commodity costs continue to be a concern potentially driving inflation up later.'}},\n",
       "   'title': {'OpenHermes_WatermelonSapphireZipline': {'additional_info': {},\n",
       "     'generated_at': datetime.datetime(2024, 1, 8, 11, 1, 17, 649000),\n",
       "     'value': 'Decrease in Cost of Home-Cooked Meals in India Post Festival Season'}}},\n",
       "  'content_type': 'ARTICLE',\n",
       "  'cleaned_text': \" New Delhi: The cost of home-cooked vegetarian and non-vegetarian meals, or thali, fell sequentially in December, following the end of the festival season. The price of a vegetarian thali fell 3% to ₹ 29.7 last month, while non-vegetarian thali saw a 5% decline to ₹ 57.6, according to rating agency Crisil. Year-on-year, the cost of a vegetarian thali increased, whereas non-vegetarian thali became cheaper. A typical vegetarian thali includes roti, vegetables (onion, tomato, potato), rice, dal, curd, and salad. The non-vegetarian version replaces dal with chicken (broiler). Despite fluctuating commodity prices, the share of ingredients used for arriving at the prices remains constant. Crisil attributed the drop in the vegetarian thali's cost to a 14% and 3% decrease in onion and tomato prices, respectively, as festive demand waned. The more significant decline in the non-vegetarian thali's cost was driven by a 5-7% reduction in broiler prices, which constitute half of the thali's cost. However, on a yearly basis, onion and tomato prices increased, leading to a 12% rise in the cost of the vegetarian thali. This increase was primarily due to an 82% jump in onion prices and a 42% surge in tomato prices. Pulse prices, contributing 9% to the vegetarian thali cost, also rose 24%. Conversely, the non-vegetarian thali's cost fell 4% due to a 15% yearly decline in broiler prices amid higher production. Nishant Lakkar, founder and CEO of AAA Rating Consultants and Advisors (AAARCA), noted that the poultry sector has been facing losses since December and will likely continue this trend. This is due to factors like rising bird weights, due to weather conditions, a slight increase in maize prices, and lower realizations. Lakkar mentioned a marginal improvement in realizations around Christmas and New Year, but anticipates the sector to have barely broken even in Q3, despite a strong performance in October. Prices of rice, wheat, pulses, and vegetables are expected to remain high for the rest of the fiscal year. Wheat and rice prices are seen firm due to lower stocks in the central pool, Pushan Sharma, director, research, CRISIL Market Intelligence and Analytics, had told Mint earlier. Prices of pulses are expected to rise due to a tight supply situation amid a likely fall in Kharif output and lower acreage in the ongoing Rabi season. Vegetables prices, especially those of tomatoes and onions, will also remain high until new crop arrivals begin. The Reserve Bank of India during its rate-setting meeting last month warned of a about a possible resurgence in food inflation. The government has been taking several measures recently to rein in food prices as the Consumer Food Price Index, which accounts for nearly half of the overall consumer price basket, rose to 8.70% in November from 6.61% in October. Milestone Alert Livemint tops charts as the fastest growing news website in the world 🌏  to know more. Unlock a world of Benefits From insightful newsletters to real-time stock tracking, breaking news and a personalized newsfeed – it's all here, just a click away Login Now \",\n",
       "  'article_id': '659bd5c14b25ce4814fb5151'},\n",
       " '659bd5c24b25ce4814fb5154': {'url': 'https://www.livemint.com/market/stock-market-news/multibagger-stock-sadhana-nitro-chem-share-price-delivered-over-550-returns-in-3-years-should-you-invest-11704702801427.html',\n",
       "  'published_time': '2024-01-08T16:00:11+05:30',\n",
       "  'last_updated_time': '2024-01-08T16:00:11+05:30',\n",
       "  'source_id': '650046bd005149c49201269f',\n",
       "  'image_url': 'https://www.livemint.com/lm-img/img/2024/01/08/1600x900/g3ca2a946c3fe4140b2d4251df89c4ea97be8b0b51962cc3d5_1704702835380_1704702835562.jpg',\n",
       "  'authors': ['A Ksheerasagar'],\n",
       "  'reactions': {},\n",
       "  '_class': 'com.wintWealth.insight.common.models.entities.Article',\n",
       "  'is_premium_article': False,\n",
       "  'short_description': 'Sadhana Nitro Chem, a leading producer of nitrobenzene, has delivered remarkable returns to its shareholders, with shares surging from  ₹14.20 apiece to  ₹93.70 apiece in the past three years alone, resulting in a 560% gain.',\n",
       "  'tags': ['Sadhana Nitro Chem stock',\n",
       "   'Sadhana Nitro Chem share price',\n",
       "   'Markets',\n",
       "   'Stock Picks',\n",
       "   'Investing',\n",
       "   'Multibagger stocks',\n",
       "   'Stocks to buy',\n",
       "   'Small cap stocks to buy',\n",
       "   \"Small cap stocks under  <span class='webrupee'>₹</span>100\",\n",
       "   'Sadhana Nitro Chem shares'],\n",
       "  'title': 'Multibagger stock: Sadhana Nitro Chem shares delivered over 550% returns in 3 years; should you invest? | Mint',\n",
       "  'ai_generated_info': {'summary': {'OpenHermes_WatermelonSapphireZipline': {'additional_info': {},\n",
       "     'generated_at': datetime.datetime(2024, 1, 8, 11, 1, 43, 778000),\n",
       "     'value': 'Sadhana Nitro Chem has delivered 560% returns over the last three years with a projected 57.46% growth up until 2024. The Indian chemical companys optimistic future is attributed to reductions in Chinese production favorable pricing environment and an anticipated surge in production of PAP using nitrobenzene. However the companys poor performance in the past few years has improved and it is forecasted to record a CAGR of 73.8% from FY23 to FY26. The company recently announced a fundraise of ₹49.95 crore for the manufacture of green hydrogen.'}},\n",
       "   'title': {'OpenHermes_WatermelonSapphireZipline': {'additional_info': {},\n",
       "     'generated_at': datetime.datetime(2024, 1, 8, 11, 1, 43, 778000),\n",
       "     'value': 'Sadhana Nitro Chem Delivers 560% Returns: Future Forecasts'}}},\n",
       "  'content_type': 'ARTICLE',\n",
       "  'cleaned_text': ' Sadhana Nitro Chem , one of the country\\'s leading producers of nitrobenzene, has provided remarkable returns to its shareholders within a brief span. Over the past three years alone, the shares have surged from ₹ 14.20 per share to ₹ 93.70 apiece, resulting in a massive return of 560%. According to projections made by domestic brokerage firm Ventura Securities, the bullish momentum of the stock is poised to persist. The brokerage firm in its January 06 research note has initiated coverage on the stock with a \\'buy\\' rating and set a 24-month target price of ₹ 148 apiece, reflecting an upside of 57.46%. Also Read : Mid and small-cap indices hit new highs in 2024; is it time to move to largecaps? Established in 1973, Sadhana Nitro Chem is a leading manufacturer specialising in intermediate specialty chemicals. It operates from its state-of-the-art 22-acre facility in Roha and holds the esteemed status of a 2-Star Golden Export House, with a notable 80% of its sales dedicated to exports. In 2021, the company was recognised under the Production-Linked Incentive (PLI) scheme for manufacturing 36,000 TPA of PAP, and its current production run rate stands at 3,000 TPA. This, according to the brokerage, heralds a significant opportunity for the company, positioning it as the second global manufacturer of PAP (following Mallinckrodt Pharmaceuticals) through the nitrobenzene route. PAP manufactured from nitrobenzene has negligible impurities compared to other manufacturing processes and hence commands a significant pricing premium in international markets, it added. Also Read : Ashish Kacholia buys stake in this SME stock during Q3. Share hits lifetime high Despite having a promising product portfolio, the financial performance of the company was not reflecting its true potential, the brokerage noted. Even three years after the onset of the COVID-19 pandemic, the company posted a revenue of ₹ 143 crore in FY23, 46% lower than the ₹ 267 crore clocked in FY2019. Looking forward, the brokerage holds a bullish outlook on the company\\'s growth prospects, citing a notable improvement in the overall business environment. It said that the reduction in Chinese manufacturers\\' production, coupled with decreased demand for Chinese products, will create a more favorable pricing environment. In FY24, the company\\'s introduction of the in-house MMDPA facility will stabilise ODB2 production and margins. Additionally, the brokerage anticipates that the scale-up in PAP production will contribute to increased revenues. Also Read : Stocks to buy this week: Zomato, CAMS, REC among 12 technical picks In light of these developments, the brokerage forecasts a CAGR of 73.8% in revenue, 102.3% in EBITDA, and 214.1% in PAT from FY23 to FY26. Furthermore, margins (EBITDA/PAT) are projected to improve by 730/850 basis points to 23.1/12.4% during the forecast period. Consequently, return ratios ROE and ROIC are poised to expand to 22.2% and 26.7%, respectively. Moreover, the brokerage expects the company\\'s working capital cycle to shrink substantially to 215 days in FY26 from the prior 377 days (FY23). Also Read : Forbes EMF, Minerva to AG Dynamics Fund: FIIs pump money in this small-cap stock Meanwhile, the company has recently announced a fundraise program of ₹ 49.95 crore via rights issue for the manufacture of green hydrogen, contributing to self-sufficiency in green energy and paving the way for the export of \"Green PAP\" to regulated markets, securing significant pricing premiums compared to domestic sales, said the brokerage. Disclaimer: The views and recommendations given in this article are those of individual analysts. These do not represent the views of Mint. We advise investors to check with certified experts before making any investment decisions. Milestone Alert Livemint tops charts as the fastest growing news website in the world 🌏  to know more. Unlock a world of Benefits From insightful newsletters to real-time stock tracking, breaking news and a personalized newsfeed – it\\'s all here, just a click away Login Now ',\n",
       "  'article_id': '659bd5c24b25ce4814fb5154'},\n",
       " '659bd5c24b25ce4814fb5155': {'url': 'https://www.livemint.com/market/stock-market-news/top-gainers-and-losers-today-on-8-january-2024-adani-ports-special-economic-zone-hcl-technologies-upl-state-bank-of-india-among-most-active-stocks-check-full-list-here-11704709997966.html',\n",
       "  'published_time': '2024-01-08T16:03:17+05:30',\n",
       "  'last_updated_time': '2024-01-08T16:03:17+05:30',\n",
       "  'source_id': '650046bd005149c49201269f',\n",
       "  'image_url': 'https://www.livemint.com/lm-img/img/2023/09/20/1600x900/Top_Gainer_Loser_1695188517120_1695188522963.webp',\n",
       "  'authors': ['Livemint'],\n",
       "  'reactions': {},\n",
       "  '_class': 'com.wintWealth.insight.common.models.entities.Article',\n",
       "  'is_premium_article': False,\n",
       "  'short_description': 'Top Gainers and Losers Today : The Sensex lost 670.93 points, or -0.93, to settle at 72026.15, while the Nifty lost 197.8 points, or -0.91, to close at 21710.8.',\n",
       "  'tags': ['Top Gainers and Losers Today',\n",
       "   'Top Gainers and Losers Live Updates',\n",
       "   'Top Gainers and Losers News',\n",
       "   'Top Gainers Live Updates',\n",
       "   'Top Losers Live Updates',\n",
       "   'top gainers today',\n",
       "   'top losers today',\n",
       "   'nse gainers today'],\n",
       "  'title': 'Top Gainers and Losers today on 8 January, 2024: Adani Ports & Special Economic Zone, HCL Technologies, UPL, State Bank Of India among most active stocks; Check full list here | Mint',\n",
       "  'ai_generated_info': {'summary': {'OpenHermes_WatermelonSapphireZipline': {'additional_info': {},\n",
       "     'generated_at': datetime.datetime(2024, 1, 8, 11, 1, 16, 585000),\n",
       "     'value': 'The Nifty closed at a 0.91% dip marking a downturn in performance. Among the top gainers were Adani Ports HCL Tech Oil  Natural Gas while UPL State Bank of India were the biggest losers. The overall trend in the market exhibited downturns and lackluster performance.'}},\n",
       "   'title': {'OpenHermes_WatermelonSapphireZipline': {'additional_info': {},\n",
       "     'generated_at': datetime.datetime(2024, 1, 8, 11, 1, 16, 585000),\n",
       "     'value': 'Nifty Gains and Losses: Adani Ports Shines Amidst Downturns'}}},\n",
       "  'content_type': 'ARTICLE',\n",
       "  'cleaned_text': \" The Nifty index closed at 21710.8, down by 0.91%, with a day high of 21763.95 and a low of 21492.9. The Sensex traded between 72181.77 and 71301.04, closing 0.93% down at 72026.15, which was 670.93 points below the opening price. The Nifty Midcap 50 underperformed the Nifty 50, closing 1.27% down. However, the Nifty small cap 100 outperformed the Nifty 50, ending at 15438.85 down by 96.3 points and 0.62% lower. The Nifty 50 has shown the following returns: - In the last 1 Week: -1.08% - In the last 1 Month: 2.57% - In the last 3 Months: 10.22% - In the last 6 Months: 11.11% - In the last 1 Year: 18.82% The top gainers in the Nifty index were Adani Ports & Special Economic Zone (up 1.26%), HCL Technologies (up 1.05%), Oil & Natural Gas Corporation (up 0.69%), Sun Pharmaceutical Industries (up 0.52%), and NTPC (up 0.48%). On the other hand, the top losers in the Nifty index were UPL (down 3.50%), State Bank Of India (down 2.33%), SBI Life Insurance Company (down 2.28%), Divis Laboratories (down 2.01%), and Britannia Industries (down 1.80%). The Bank Nifty ended at 48159.0, with an intraday high of 48154.5 and a low of 47387.35. The Bank Nifty performance in the last periods is as follows: - In the last 1 Week: -1.61% - In the last 1 Month: 0.41% - In the last 3 Months: 8.13% - In the last 6 Months: 5.79% - In the last 1 Year: 11.44% Here is the list of top gainers and losers in different indices during the trading session on 08 Jan, 2024: - Sensex: - Top Gainers: HCL Technologies (up 1.02%), Sun Pharmaceutical Industries (up 0.44%), NTPC (up 0.43%), Power Grid Corporation Of India (up 0.39%), and Bajaj Finance (up 0.38%) - Top Losers: State Bank Of India (down 2.31%), ITC (down 1.80%), NESTLE INDIA ORD (down 1.79%), Asian Paints (down 1.76%), and Tech Mahindra (down 1.76%) - Nifty: - Top Gainers: Adani Ports & Special Economic Zone (up 1.26%), HCL Technologies (up 1.05%), Oil & Natural Gas Corporation (up 0.69%), Sun Pharmaceutical Industries (up 0.52%), and NTPC (up 0.48%) - Top Losers: UPL (down 3.50%), State Bank Of India (down 2.33%), SBI Life Insurance Company (down 2.28%), Divis Laboratories (down 2.01%), and Britannia Industries (down 1.80%) - Nifty MidCap 50: - Top Gainers: Hindustan Petroleum Corporation, Escorts Kubota, HDFC Asset Management Company, Power Finance Corp, and Gujarat Gas Company - Top Losers: Bandhan Bank, Indus Towers, Max Financial Services, Jubilant Foodworks, and Godrej Properties - Nifty Small Cap 100: - Top Gainers: Alok Industries, Century Textiles & Industries, TV18 Broadcast, M M T C, and Suzlon Energy - Top Losers: Hindustan Copper, Sun Pharma Advanced Research Com, PVR Inox, Jubilant Ingrevia, and Chemplast Sanmar - BSE: - Top Gainers: Alok Industries (up 9.99%), Garware Technical Fibres (up 9.60%), Gillette India (up 8.40%), Network 18 Media & Investments (up 7.79%), and Century Textiles & Industries (up 6.23%) - Top Losers: Bandhan Bank (down 7.39%), Sun Pharma Advanced Research Com (down 5.62%), Hindustan Copper (down 5.40%), Navin Fluorine International (down 5.27%), and Cochin Shipyard (down 5.16%) - NSE: - Top Gainers: Alok Industries (up 9.91%), Network 18 Media & Investments (up 8.06%), Gillette India (up 6.63%), Century Textiles & Industries (up 5.94%), and TV18 Broadcast (up 5.34%) - Top Losers: Bandhan Bank (down 7.39%), Navin Fluorine International (down 5.57%), Hindustan Copper (down 5.45%), Sun Pharma Advanced Research Com (down 5.33%), and Cochin Shipyard (down 5.07%) These are the latest updates on the gainers and losers in the stock market. Milestone Alert Livemint tops charts as the fastest growing news website in the world 🌏  to know more. Unlock a world of Benefits From insightful newsletters to real-time stock tracking, breaking news and a personalized newsfeed – it's all here, just a click away Login Now \",\n",
       "  'article_id': '659bd5c24b25ce4814fb5155'},\n",
       " '659bd5c24b25ce4814fb5158': {'url': 'https://www.livemint.com/companies/news/tata-power-unveils-rs-70-000-crore-green-energy-push-in-tamil-nadu-11704703389711.html',\n",
       "  'published_time': '2024-01-08T15:47:08+05:30',\n",
       "  'last_updated_time': '2024-01-08T15:47:08+05:30',\n",
       "  'source_id': '650046bd005149c49201269f',\n",
       "  'image_url': 'https://www.livemint.com/lm-img/img/2024/01/08/1600x900/334706092_0-20_1551184515861_1704704818091.jpg',\n",
       "  'authors': ['Livemint'],\n",
       "  'reactions': {},\n",
       "  '_class': 'com.wintWealth.insight.common.models.entities.Article',\n",
       "  'is_premium_article': False,\n",
       "  'short_description': 'Tata Power plans to invest  ₹70,000 crore to develop 10 GW of solar and wind power capacity in Tamil Nadu over the next 5-7 years, aligning with its goal of achieving 70 per cent clean energy production by 2030.',\n",
       "  'tags': ['tamil nadu',\n",
       "   'tata power green energy',\n",
       "   'tata power renewable energy',\n",
       "   'Praveer Sinha',\n",
       "   'tata power',\n",
       "   'tata power in tamil nadu'],\n",
       "  'title': 'Tata Power unveils ₹70,000-crore green energy push in Tamil Nadu | Mint',\n",
       "  'ai_generated_info': {'summary': {'OpenHermes_WatermelonSapphireZipline': {'additional_info': {},\n",
       "     'generated_at': datetime.datetime(2024, 1, 8, 11, 1, 22, 141000),\n",
       "     'value': 'Tata Power unveiled a ₹ 70000 crore green energy project in Tamil Nadu. This would boost Tata Powers planned 10 GW capacity in the state over the next 5-7 years. Tata Power has a portfolio of 982 MW wind power generation and 11.5 GW of ground-mount utility-scale solar power. Additionally the firms share price has witnessed a significant rise in recent times.'}},\n",
       "   'title': {'OpenHermes_WatermelonSapphireZipline': {'additional_info': {},\n",
       "     'generated_at': datetime.datetime(2024, 1, 8, 11, 1, 22, 141000),\n",
       "     'value': 'Tata Power Announces ₹ 70,000 Cr Green Energy Initiative in Tamil Nadu'}}},\n",
       "  'content_type': 'ARTICLE',\n",
       "  'cleaned_text': \" In a major commitment to clean energy, Tata Power announced a ₹ 70,000-crore investment to develop 10 gigawatts (GW) of solar and wind power capacity in Tamil Nadu over the next five to seven years. This ambitious project aligns with the power giant's vision of achieving 70 per cent clean and green energy production by 2030 and complete carbon neutrality by 2040, according to a report by Economic Times. Also Read | Why Tata Power share price is skyrocketing in FY24 — explained with five crucial reasons Tata Power CEO and MD Praveer Sinha unveiled the plan at the Tamil Nadu Global Investors Meet (GIM) in Chennai on January 8. Sinha emphasised the crucial role of renewable energy in mitigating climate change and securing a sustainable future for India. Tata Power's Renewable Energy Portfolio Tata Power has an installed capacity of 982 MW wind power generation with plants spread across seven states of Maharashtra, Gujarat, Tamil Nadu, Karnataka, Rajasthan, Andhra Pradesh, and Madhya Pradesh, leading in promoting wind power generation in India, according to the company's website. Additionally, Tata Power Solar has a portfolio of more than 11.5 GWp of ground-mount utility-scale, over 1.7 GW of rooftop and distributed ground-mounted systems, and over 1 lakh solar water pumps in India. Also Read | Green energy stocks shine bright as India becomes global renewables leader; experts remain bullish The stocks of Tata Power were trading in the green, up 0.13 per cent at ₹ 341.15, on BSE at 2:18 pm on January 8. Tata Power's share price bottomed out at around ₹ 185 apiece level on the NSE at the end of March 2023, and since then, it has remained an ideal 'buy on dips' stock for investors. In the last two months, Tata Power's share price has been touching new highs regularly, and the share has delivered over 80 per cent return to its long-term investors in the current fiscal, as reported by Livemint earlier. Meanwhile, India's renewable energy capacity crossed the 179.5 GW mark, making the country the 4th largest player globally in wind and solar power. This rapid green surge isn't just powering homes and industries; it's electrifying stock markets and driving India's ambitious climate goals, according to the REN21 Renewables 2022 Global Status Report. Milestone Alert Livemint tops charts as the fastest growing news website in the world 🌏  to know more. Unlock a world of Benefits From insightful newsletters to real-time stock tracking, breaking news and a personalized newsfeed – it's all here, just a click away Login Now \",\n",
       "  'article_id': '659bd5c24b25ce4814fb5158'},\n",
       " '659bd5c24b25ce4814fb5159': {'url': 'https://www.livemint.com/market/stock-market-news/stock-market-today-sensex-nifty-50-end-with-significant-losses-investors-lose-about-3-lakh-crore-in-a-day-11704707701757.html',\n",
       "  'published_time': '2024-01-08T15:31:25+05:30',\n",
       "  'last_updated_time': '2024-01-08T16:29:36+05:30',\n",
       "  'source_id': '650046bd005149c49201269f',\n",
       "  'image_url': 'https://www.livemint.com/lm-img/img/2024/01/08/1600x900/3-0-103769130-iStock-1182812188-0_1679850006643_1704709384160.jpg',\n",
       "  'authors': ['Nishant Kumar'],\n",
       "  'reactions': {},\n",
       "  '_class': 'com.wintWealth.insight.common.models.entities.Article',\n",
       "  'is_premium_article': False,\n",
       "  'short_description': 'Stock market today: Sensex closed with a loss of 671 points, or 0.93 per cent, at 71,355.22 while the Nify 50 ended the day at 21,513, down 198 points, or 0.91 per cent.',\n",
       "  'tags': ['Sensex',\n",
       "   'Sensex today',\n",
       "   'Nifty 50',\n",
       "   'Nifty 50 today',\n",
       "   'stock market today',\n",
       "   'Indian stock market',\n",
       "   'markets',\n",
       "   'markets news'],\n",
       "  'title': 'Stock market today: Investors lose ₹3 lakh crore in a day: 5 main reasons why Nifty 50, Sensex fell | Mint',\n",
       "  'ai_generated_info': {'summary': {'OpenHermes_WatermelonSapphireZipline': {'additional_info': {},\n",
       "     'generated_at': datetime.datetime(2024, 1, 8, 11, 1, 12, 929000),\n",
       "     'value': 'This article sheds light on the factors behind the decline in Indian market indices due to weak global cues potential of a negative surprise from the upcoming earnings season decreasing rate cut chances and geopolitical tensions. While the IT sector is forecasted to underperform due to a weak demand the overall market expectations for earnings growth remain strong.'}},\n",
       "   'title': {'OpenHermes_WatermelonSapphireZipline': {'additional_info': {},\n",
       "     'generated_at': datetime.datetime(2024, 1, 8, 11, 1, 12, 929000),\n",
       "     'value': 'Stock Market Drop due to Weak Global Cues: Details'}}},\n",
       "  'content_type': 'ARTICLE',\n",
       "  'cleaned_text': ' Stock market today: Domestic equity benchmarks the Sensex and the Nifty 50 ended with significant losses on Monday, January 8, amid weak global cues. The market indices halted their upward trend of two days as investors opted to book profits ahead of the release of inflation data and crucial earnings reports scheduled for this week. Now, attention in the market turns towards the upcoming inflation reports from the US and India, slated for Thursday and Friday, respectively. Additionally, with the earnings season underway and market valuations sitting at elevated levels, the significance of robust earnings becomes paramount in preventing a potential market correction. Sensex closed with a loss of 671 points, or 0.93 per cent, at 71,355.22 while the Nify 50 ended the day at 21,513, down 198 points, or 0.91 per cent. Mid and smallcap indices also ended with losses but their decline was smaller in magnitude compared to the benchmarks. The BSE Midcap index lost 0.87 per cent while the Smallcap index ended 0.36 per cent lower. The overall market capitalisation of the firms listed on the BSE dropped to nearly ₹ 366.5 lakh crore from nearly ₹ 369.3 lakh crore in the previous session, making investors poorer by about ₹ 2.8 lakh crore in a single session. (Exciting news Mint is now on WhatsApp Channels. Subscribe today and stay updated with the latest financial insights  ) Here are five main reasons why the Sensex and the Nifty 50 fell on Monday: 1. Weak global cues Major Asian peers, including the Shanghai Composite Index, Hang Seng and KOSPI closed in the red weighing on domestic market sentiment. Among the European peers, FTSE, CAC and DAX traded lower when the domestic market ended. \"Asian shares slipped into the red on Monday as Chinese stocks extended their recent retreat, and investors braced for US inflation data and a corporate reporting season where robust results are needed to justify high valuations,\" reported Reuters. 2. Caution ahead of Q3 earnings Domestic market sentiment is cautious ahead of the December quarter earnings of India Inc. IT majors Infosys and TCS will report their Q3 scorecard on Thursday, January 11. IT firms are expected to post muted revenue and subdued profit for Q3 amid weak demand. Also Read: Q3 result preview: IT firms expected to post muted revenue, subdued profit amid weak demand Overall, the December quarter earnings of Indian corporates are unlikely to throw a negative surprise. However, experts believe there could be some sequential moderation in some sectors due to high base and sectoral headwinds. Also Read: Q3 Result: India Inc. may deliver moderate profit, negative surprises unlikely; here\\'s what experts say \"In the near term, investors’ trade positions will be more inclined towards the upcoming result season. While the outset may be tempered by lower expectations in the IT sector, the overall forecast for earnings growth remains optimistic, projecting double-digit figures,\" said Vinod Nair, Head of Research, Geojit Financial Services. 3. Rate cut hopes weaken The hopes of an early rate cut by the US Federal Reserve are slowly diminishing. The recent data showed the US labour market is still resilient. The focus is now on the US inflation data expected on Thursday which could influence market expectations on the Fed\\'s move on interest rates. According to Reuters, quoting the CME FedWatch Tool, market pricing now shows a roughly 64 per cent chance that the Fed could begin easing rates as early as March, compared to a nearly 90 per cent chance a week ago. \"The concern in the US now is that the market expectation of a rate cut in March may not materialise since the labour market continues to be tight and the unemployment data is lower than expected,\" V K Vijayakumar, Chief Investment Strategist, Geojit Financial Services, observed. 4. Geopolitical tensions remain in focus Investors are closely watching geopolitical events. Houthi rebels are targeting commercial ships in the Red Sea amid the escalating Israel-Hamas conflict. The Red Sea is the entry point for ships using the Suez Canal and is important for the movement of goods between Asia and Europe. Meanwhile, Reuters reported that \"US Secretary of State Antony Blinken was holding more talks with Arab leaders on Monday as part of a diplomatic push to stop the war in Gaza from spreading further.\" 5. Technical factors Technical indicators are showing a change in market sentiment. As Kunal Shah, Senior Technical & Derivative Analyst at LKP Securities observed, Nifty ended the day close to its support at 21,500 and the short-term 14-day moving average, accompanied by a bearish engulfing candlestick pattern. \"This indicates a change in market sentiment. If 21,500 is breached in closing figures, Nifty may move towards the next support level at 21,200. The support of 21,500, if held, can see recovery towards 21,650 which is the immediate hurdle zone,\" said Shah. Read all market-related news here Disclaimer: The views and recommendations above are those of individual analysts, experts and broking companies, not of Mint. We advise investors to check with certified experts before making any investment decisions. Milestone Alert Livemint tops charts as the fastest growing news website in the world 🌏  to know more. Unlock a world of Benefits From insightful newsletters to real-time stock tracking, breaking news and a personalized newsfeed – it\\'s all here, just a click away Login Now ',\n",
       "  'article_id': '659bd5c24b25ce4814fb5159'},\n",
       " '659bd5c34b25ce4814fb515c': {'url': 'https://www.livemint.com/technology/ai-set-to-drive-vcs-to-cybersecurity-investments-11704707087487.html',\n",
       "  'published_time': '2024-01-08T15:19:37+05:30',\n",
       "  'last_updated_time': '2024-01-08T15:19:37+05:30',\n",
       "  'source_id': '650046bd005149c49201269f',\n",
       "  'image_url': 'https://www.livemint.com/lm-img/img/2024/01/08/1600x900/im-860448_1696263590307_1704707145965.jpg',\n",
       "  'authors': ['Priyamvada C'],\n",
       "  'reactions': {},\n",
       "  '_class': 'com.wintWealth.insight.common.models.entities.Article',\n",
       "  'is_premium_article': False,\n",
       "  'short_description': 'Indian cybersecurity startups in the last two years amassed fund inflows of about $130.7 million, nearly a 63% jump from two years prior',\n",
       "  'tags': ['AI',\n",
       "   'Cybersecurity',\n",
       "   'Indian cybersecurity market',\n",
       "   'cyberattacks'],\n",
       "  'title': 'AI set to drive VCs to cybersecurity investments | Mint',\n",
       "  'ai_generated_info': {'summary': {'OpenHermes_WatermelonSapphireZipline': {'additional_info': {},\n",
       "     'generated_at': datetime.datetime(2024, 1, 8, 11, 4, 56, 691000),\n",
       "     'value': 'Advanced AI and growing cybersecurity concerns in India are driving VC investments into the field. With increased funds and cybersecurity technologies the cybersecurity industry is expected to thrive in 2024. Indias digital transformation has also increased its vulnerability to data breaches and other cyber threats. The digital transformation and cybersecurity market is predicted to grow despite the structural advantage India holds.'}},\n",
       "   'title': {'OpenHermes_WatermelonSapphireZipline': {'additional_info': {},\n",
       "     'generated_at': datetime.datetime(2024, 1, 8, 11, 4, 56, 691000),\n",
       "     'value': 'Advancements in AI Driving Venture Capital Investments in Cybersecurity in India'}}},\n",
       "  'content_type': 'ARTICLE',\n",
       "  'cleaned_text': ' Venture capital investors are scaling their cyber security investments on the back of advancements in artificial intelligence (AI) and rising instances of data security breaches. Indian cybersecurity startups in the last two years amassed fund inflows of about $130.7 million, nearly a 63% jump from two years prior, according to data collected by Tracxn. With a boom in technological enhancements incorporated across multiple sectors in India and worldwide, data and security breaches continue to be a cause of concern for companies and individuals which has encouraged investors to invest more proactively. VC firm Accel is currently investing out of its seventh fund, sized at $650 million, and has invested from this fund in five companies in the cybersecurity space, said Prayank Swaroop, partner at Accel. “Cybersecurity is an important area of investment for us globally, and in India we have significantly increased our number of investments in the last two years. This will continue to be a priority sector for 2024 as well.\" While the government has also brought in more initiatives to promote rapid digitization, this further exposes entities to malicious activities through ransomware attacks, credential thefts, supply chain attacks, among many others. These security breaches could lead to substantial losses for organizations and may have severe repercussions, thus making it even more crucial to allocate funds to tackle these concerns. With the current rate of growth, damage from cyberattacks will amount to about $10.5 trillion annually by 2025, a 2022 McKinsey report said. “New ways to secure customer-specific information are expected to emerge, enabling organizations to implement substantial measures swiftly at a considerable pace and magnitude,\" Google-backed cybersecurity firm Mandiant\\'s CTO for JAPAC and Google Cloud, Steve Ledzian,\\xa0told Mint . About 97% of Indian organizations have begun investing in AI/ML while 84% have also put in money for infrastructure around cloud technology, according to the Data Security Council of India. “The intersection of AI with cybersecurity is poised to drive a significant increase in investments in the sector this year. The recent adoption of Generative AI is also opening various cybersecurity risks. We expect a few investment opportunities coming to us in AI governance and cyber security governance areas.\" said Shyam Penumaka, partner at Dallas Venture Capital (DVC) adding that AI technologies, such as machine learning and behavioural analytics, are proving to be game changers in the cybersecurity space. However, about 90% of Indian business leaders see a significant cyber threat to their business, according to data collected by consulting firm PwC. The report also said cyber security continues to have a share of 10%-15% of IT budgets within Indian enterprises as cyber-attacks are posing an increasing threat to business operations. Nearly all the organizations will increase their cyber budgets, out of which 50% envisaged an increase between 6% and 15% in the next 12 months, as per the report. As a result, fund-backers have become more optimistic about investing in this sector. “We have been bullish for a while on the cybersecurity ecosystem out of India and have hence backed a few companies in this space,\" head of venture capital firm RPG Ventures, Kunjan Chikhlikar said. It has invested in companies such as Shieldsquare, a bot mitigation business and cybersecurity firm BluSapphire. Several industry experts and executives also said India gains from a structural advantage in security as it houses a large number of security engineers, making it a more attractive market for investors. “We\\'re seeing a lot of cybersecurity services companies in India transition to product companies. We\\'ve also seen a lot of security engineers in the US coming back to India and building security products for the world, and these trends are only on the rise,\" said Accel’s Swaroop. Still, cybersecurity firms continue to face challenges in keeping pace with the rapidly evolving technological advancements due to factors that include complex regulatory landscapes, balancing security measures with user experience and addressing global threat variations. Additionally, the frequency of cyberattacks globally and in India has also challenged the readiness of Indian companies. Experts at DVC have said navigating through this complicated landscape involves continuous innovation, interoperability solutions, advanced threat intelligence, talent development, and targeted user awareness programmes. “This multi-vector environment is challenging to traverse for budding cybersecurity companies which must not only build cutting edge technology solutions but also find the product market fit with their target customers,\" DVC’s Penumaka added. DVC, which expects an increase in global spending, estimates about 14% jump specifically in the Indian cybersecurity market. The firm forecast 95% of Indian organizations to increase their cybersecurity budget by at least 10% over the next 12 months, compared to 86% globally. Despite increased VC investment in this burgeoning market, experts believe that the market has not reached its full potential. “Cybersecurity landscape is definitely coming up…I would say this is the very early stage of the cybersecurity ecosystem when it comes to manpower and product development. The expertise exists but I think it would take another 5-10 years before the market matures,\" Peak XV Partners-backed cybersecurity startup SquareX’s founder Vivek Ramachandran told Mint in an interview. Milestone Alert Livemint tops charts as the fastest growing news website in the world 🌏  to know more. Unlock a world of Benefits From insightful newsletters to real-time stock tracking, breaking news and a personalized newsfeed – it\\'s all here, just a click away Login Now ',\n",
       "  'article_id': '659bd5c34b25ce4814fb515c'},\n",
       " '659bd5c44b25ce4814fb515d': {'url': 'https://www.livemint.com/market/stock-market-news/tata-steel-announces-date-to-allot-shares-to-tcil-shareholders-11704706795269.html',\n",
       "  'published_time': '2024-01-08T15:15:50+05:30',\n",
       "  'last_updated_time': '2024-01-08T15:52:33+05:30',\n",
       "  'source_id': '650046bd005149c49201269f',\n",
       "  'image_url': 'https://www.livemint.com/lm-img/img/2024/01/08/1600x900/Tata_Steel_1704707111203_1704707111413.jpg',\n",
       "  'authors': ['Vaamanaa Sethi'],\n",
       "  'reactions': {},\n",
       "  '_class': 'com.wintWealth.insight.common.models.entities.Article',\n",
       "  'is_premium_article': False,\n",
       "  'short_description': 'Tata Steel announces date to allot shares to TCIL shareholders',\n",
       "  'tags': ['Tata Steel', 'TCIL'],\n",
       "  'title': 'Tata Steel announces Jan 19 as record date to allot shares to TCIL shareholders under scheme of amalgamation | Mint',\n",
       "  'ai_generated_info': {'summary': {'OpenHermes_WatermelonSapphireZipline': {'additional_info': {},\n",
       "     'generated_at': datetime.datetime(2024, 1, 8, 11, 8, 23, 998000),\n",
       "     'value': 'Tata Steel has scheduled January 19th as the record date to allocate shares to shareholders of Tinplate Company of India Limited as part of its consolidation process. The company also reported a 6% increase in Q3 QoQ and YoY in crude steel production at its India unit a YoY rise of 4% for the first nine months of fiscal 2024 and received the prestigious GreenPro Ecolabel certification for automotive flat steel products. Shares of Tata Steel were down 1.01% on Monday.'}},\n",
       "   'title': {'OpenHermes_WatermelonSapphireZipline': {'additional_info': {},\n",
       "     'generated_at': datetime.datetime(2024, 1, 8, 11, 8, 23, 998000),\n",
       "     'value': 'Tata Steel Announces Record Date for TCIL Share Allocation'}}},\n",
       "  'content_type': 'ARTICLE',\n",
       "  'cleaned_text': ' Tata Steel, on January 8, announced that it has fixed January 19 as the record date to determine shareholders of TCIL who will receive the company\\'s shares in accordance with the amalgamation scheme. Tata Steel is currently undergoing a consolidation process, incorporating multiple subsidiary entities, such as Tinplate Company of India Limited (TCIL), into its organizational structure. Also read: Q3 Result: India Inc. may deliver moderate profit, negative surprises unlikely; here\\'s what experts say \"The Board has approved Friday, January 19, 2024, as the record date for the purpose of determining the shareholders of TCIL who shall be entitled to receive fully paid-up ordinary equity shares of the company in the share exchange ratio as per the scheme of amalgamation,\" the company said in a regulatory filing on Monday. The company intends to issue and allocate fully paid-up equity shares to TCIL shareholders whose names are listed in the register of members on the record date. This allocation will be in the proportion of 33 fully paid-up equity shares with a face value of Re 1 each for every 10 fully paid-up shares with a face value of ₹ 10 each held by those members in TCIL. Also read: Stock market today: Investors lose ₹ 3 lakh crore in a day: 5 main reasons why Nifty 50, Sensex fell “ The Board of Directors of the Company, have approved the issuance of 8,64,92,993 fully paid-up ordinary equity shares of ₹ 1/- each, in the ratio of 33 fully paid-up ordinary equity shares of Tata Steel Limited of face value ₹ 1/- each for every 10 fully paid-up ordinary equity shares of TCIL of face value ₹ 10/- each, to the eligible shareholders of TCIL as on the Record Date as mentioned above,\" the company added. On January 5, Tata Steel announced its third quarterly results for FY24. It reported a quarterly increase of 6 percent in crude steel production at its India unit, standing at 5.32 million tonnes. This growth is observed both quarter-on-quarter (QoQ) and year-on-year (YoY). Also read: Tata Steel Q3 update: Crude steel production stood at 5.32 million tons, up 6% Additionally, for the first nine months of fiscal year 2024, Tata Steel noted a YoY rise of 4 percent in its overall crude steel production. Additionally, Tata Steel attained the prestigious \"GreenPro Ecolabel\" certification for its automotive flat steel products. Shares of Tata Steel were down 1.01% on Monday, closed at ₹ 132.30 per share against previous close at ₹ 133.65 on Friday. Milestone Alert Livemint tops charts as the fastest growing news website in the world 🌏  to know more. Unlock a world of Benefits From insightful newsletters to real-time stock tracking, breaking news and a personalized newsfeed – it\\'s all here, just a click away Login Now ',\n",
       "  'article_id': '659bd5c44b25ce4814fb515d'},\n",
       " '659bd5c54b25ce4814fb515e': {'url': 'https://www.livemint.com/market/ipo/jyoti-cnc-automation-ipo-opens-tomorrow-gmp-issue-details-10-key-things-to-know-11704705775708.html',\n",
       "  'published_time': '2024-01-08T15:20:06+05:30',\n",
       "  'last_updated_time': '2024-01-08T15:20:06+05:30',\n",
       "  'source_id': '650046bd005149c49201269f',\n",
       "  'image_url': 'https://www.livemint.com/lm-img/img/2024/01/08/1600x900/jyoti_cnc_1704304158657_1704707175094.png',\n",
       "  'authors': ['Dhanya Nagasundaram'],\n",
       "  'reactions': {},\n",
       "  '_class': 'com.wintWealth.insight.common.models.entities.Article',\n",
       "  'is_premium_article': False,\n",
       "  'short_description': 'Jyoti CNC Automation IPO, the first mainboard IPO of 2024, will open for subscription tomorrow. The company is a CNC machine manufacturer and supplier headquartered in India.',\n",
       "  'tags': ['Jyoti CNC Automation IPO',\n",
       "   'Jyoti CNC IPO',\n",
       "   'Jyoti CNC IPO date',\n",
       "   'Jyoti CNC IPO price band',\n",
       "   'Jyoti CNC Automation IPO lot size',\n",
       "   'Jyoti CNC IPO anchor investors',\n",
       "   'Jyoti CNC Automation IPO details',\n",
       "   'Jyoti CNC Automation IPO objective',\n",
       "   'Jyoti CNC Automation IPO listing date',\n",
       "   'Jyoti CNC IPO reservation',\n",
       "   'Jyoti CNC Automation IPO GMP today',\n",
       "   'Jyoti CNC IPO GMP',\n",
       "   'Jyoti CNC Automation share price'],\n",
       "  'title': 'Jyoti CNC Automation IPO opens tomorrow: GMP, issue details, 10 key things to know | Mint',\n",
       "  'ai_generated_info': {'summary': {'OpenHermes_WatermelonSapphireZipline': {'additional_info': {},\n",
       "     'generated_at': datetime.datetime(2024, 1, 8, 11, 3, 24, 310000),\n",
       "     'value': 'Jyoti CNC Automation Ltd is gearing up for a tech-heavy IPO worth ₹ 1000 crore with a price band of ₹ 315-331 per share. With its focus on CNC machine manufacturing the company boasts a strong order book of ₹ 3315 crore. Notably the company operates simultaneously in both domestic and international markets. The IPO has a reserved offering for QIB NII and retail investors.'}},\n",
       "   'title': {'OpenHermes_WatermelonSapphireZipline': {'additional_info': {},\n",
       "     'generated_at': datetime.datetime(2024, 1, 8, 11, 3, 24, 310000),\n",
       "     'value': 'Jyoti CNC Automation Ltd IPO is About to Start: Here is What You Need to Know'}}},\n",
       "  'content_type': 'ARTICLE',\n",
       "  'cleaned_text': ' The first mainboard initial public offering (IPO) of 2024, Jyoti CNC Automation IPO, will open for subscription tomorrow, resuming the IPO season. Jyoti CNC Automation Limited is a CNC machine manufacturer and supplier. The business is headquartered in India and focuses on producing and distributing CNC machinery. The product line consists of multitasking machines, simultaneous 3-axis and simultaneous 5-axis CNC machining centres, CNC turning centres, CNC turning-milling centres, CNC vertical machining centres (VMCs), and CNC horizontal machining centres (HMCs). The company\\'s promoters are Vikramsinh Raghuvirsinh Rana, Parakramsinh Ghanshyamsinh Jadeja, Sahdevsinh Lalubha Jadeja, and Jyoti International LLP. With the capacity to design, develop, and produce a wide range of products, Jyoti CNC has three manufacturing facilities: two are located in Rajkot, Gujarat, in India, and one is located in Strasbourg, France. At the end of September 2023, the company\\'s order book totaled ₹ 3,315 crore from various end-user industries, with an order of ₹ 305 crore coming from an electronics manufacturing services (EMS) company. Between the fiscal year ending on March 31, 2023, and March 31, 2022, Jyoti CNC Automation witnessed a 27% increase in revenue and a 131.18% increase in profit after tax (PAT). The company\\'s listed peers are Elgi Equipments Ltd (with a P/E of 44.30), Lakshmi Machine Works Ltd (with a P/E of 37.69), Triveni Turbine Ltd (with a P/E of 67.76), TD Power Systems Ltd (with a P/E of 46.66), and Macpower CNC Machines Ltd (with a P/E of 51.31), as per Red Herring Prospectus (RHP). Here are the 10 key things to know about Jyoti CNC Automation IPO: Jyoti CNC IPO date: Jyoti CNC Automation IPO date of subscription is scheduled for Tuesday, January 9, and will close on Thursday, January 11. Jyoti CNC IPO price band: Jyoti CNC Automation IPO price band has been fixed in the range of ₹ 315 to ₹ 331 per equity share of the face value of ₹ 2. Jyoti CNC Automation IPO lot size: Jyoti CNC Automation IPO lot size is 45 equity shares and in multiples of 45 equity shares thereafter. Jyoti CNC IPO anchor investors: The allocation to anchor investors for the Jyoti CNC Automation IPO is scheduled to take place today in the evening (Monday, January 8). Jyoti CNC Automation IPO details: Jyoti CNC IPO, which is worth ₹ 1,000 crore, is completely a fresh issue; there is no offer for sale (OFS) component, according to RHP. Jyoti CNC Automation IPO objective: The company plans to use the net proceeds from the fresh offering for the following purposes: to finance the company\\'s long-term working capital needs; to pay back and/or prepay, in full or in part, some of the borrowings that the company has taken out; and for general corporate purposes. “In addition, our company expects to receive the benefits of listing of equity shares on the stock exchanges including enhancing our company’s visibility and brand image among our existing and potential customers and creating a public market for our company’s equity shares in India,\" said Jyoti CNC Automation in its RHP. Jyoti CNC Automation IPO listing date and allotment details: Tentatively, Jyoti CNC Automation IPO basis of allotment of shares will be finalised on Friday, January 12, and the company will initiate refunds on Monday, January 15, while the shares will be credited to the demat account of allottees on the same day following refund. Jyoti CNC share price is likely to be listed on BSE and NSE on Tuesday, January 16. Lead Manager and Registrar of Jyoti CNC IPO: The Jyoti CNC Automation IPO\\'s book running lead managers are Equirus Capital Private Limited, ICICI Securities Limited, and SBI Capital Markets Limited, and the registrar is Link Intime India Private Ltd. Jyoti CNC IPO reservation: Jyoti CNC Automation IPO has reserved not less than 75% of the shares in the public issue for qualified institutional buyers (QIB), not more than 15% for non-institutional Institutional Investors (NII), and not more than 10% of the offer is reserved for retail investors. A discount of ₹ 15 per equity share is being offered to eligible employees bidding in the employee reservation portion. Jyoti CNC Automation IPO GMP today: Jyoti CNC IPO GMP or grey market premium is +85. This indicates Jyoti CNC Automation share price were trading at a premium of ₹ 85 in the grey market, according to investorgain.com. Considering the upper end of the IPO price band and the current premium in the grey market, the estimated listing price of Jyoti CNC Automation share price was indicated at ₹ 416 apiece, which is 25.68% higher than the IPO price of ₹ 331. \\'Grey market premium\\' indicates investors\\' readiness to pay more than the issue price. Disclaimer: The views and recommendations above are those of individual analysts, experts and broking companies, not of Mint. We advise investors to check with certified experts before making any investment decision. Milestone Alert Livemint tops charts as the fastest growing news website in the world 🌏  to know more. Unlock a world of Benefits From insightful newsletters to real-time stock tracking, breaking news and a personalized newsfeed – it\\'s all here, just a click away Login Now ',\n",
       "  'article_id': '659bd5c54b25ce4814fb515e'}}"
      ]
     },
     "execution_count": 19,
     "metadata": {},
     "output_type": "execute_result"
    }
   ],
   "source": [
    "article_docs"
   ]
  },
  {
   "cell_type": "code",
   "execution_count": 20,
   "id": "682dbc7e-de8c-4768-b82e-3de413acce5b",
   "metadata": {
    "tags": []
   },
   "outputs": [],
   "source": [
    "from src.Article import Article"
   ]
  },
  {
   "cell_type": "code",
   "execution_count": 21,
   "id": "e93a4081-8ec1-412b-914c-35d534c02e4f",
   "metadata": {
    "tags": []
   },
   "outputs": [],
   "source": [
    "articles = {}\n",
    "for id, article in article_docs.items():\n",
    "    articles[id] = Article.from_dict(article)"
   ]
  },
  {
   "cell_type": "code",
   "execution_count": 22,
   "id": "fb5956ae-5f27-4da3-9827-0516d7d04ca8",
   "metadata": {
    "scrolled": true,
    "tags": []
   },
   "outputs": [
    {
     "data": {
      "text/plain": [
       "'watch now VIDEO 1:12 01:12 Lyft CEO David Risher talks the company\\'s on-time pickup promise Mad Money with Jim Cramer Lyft CEO David Risher told CNBC\\'s Jim Cramer on Thursday said he\\'s bullish on the company\\'s \" on-time pickup promise \" program, which was launched before the busy holiday travel season. \"Everyone is stressed during holidays, and the holidays should be so great — they\\'re a time of getting together with your family — but man, what time am I getting to the airport? Is a car going to pick me up?\" Risher said. \"We guarantee we\\'re going to pick you up. If we are more than ten minutes late, we will pay you up to $100 in Lyft cash.\" Risher said over the past few weeks, Lyft has given 2.5 million rides to the airport and only had to reimburse 72 rides for late pick-ups. Lyft has struggled in the ride-share space since its 2019 initial public offering, with competitor Uber pulling ahead in terms of market share and market capitalization. Risher reported steady improvement at the company since he took the reigns in April, with ride growth up 20% in the most recent quarter. Risher also said employee satisfaction levels at the company are the highest in four years after hitting a historic low when he began his tenure. \"We just saw the results, just yesterday, of our most recent [employee satisfaction survey],\" he said. \"What that tells you is that the thousands and thousands – 3000 plus team members who work for Lyft – are starting to believe. They believe in our purpose, they believe in our execution.\" watch now VIDEO 7:35 07:35 Lyft CEO David Risher goes one-on-one with Jim Cramer Mad Money with Jim Cramer Jim Cramer\\'s Guide to Investing Click here to download Jim Cramer\\'s Guide to Investing at no cost to help you build long-term wealth and invest smarter. Sign up now for the CNBC Investing Club to follow Jim Cramer\\'s every move in the market. Disclaimer Questions for Cramer? Call Cramer: 1-800-743-CNBC Want to take a deep dive into Cramer\\'s world? Hit him up! Mad Money Twitter - Jim Cramer Twitter - Facebook - Instagram Questions, comments, suggestions for the \"Mad Money\" website? madcap@cnbc.com'"
      ]
     },
     "execution_count": 22,
     "metadata": {},
     "output_type": "execute_result"
    }
   ],
   "source": [
    "articles['656ddb3b9994965ac4b450ca'].cleaned_text"
   ]
  },
  {
   "cell_type": "code",
   "execution_count": 23,
   "id": "8122a8f5-e315-408c-99eb-04b43b1af91d",
   "metadata": {
    "scrolled": true,
    "tags": []
   },
   "outputs": [
    {
     "data": {
      "text/plain": [
       "'headline: Lyft CEO touts success of airport on-time pickup promise for riders.  content: watch now VIDEO 1:12 01:12 Lyft CEO David Risher talks the companys on-time pickup promise Mad Money with Jim Cramer Lyft CEO David Risher told CNBCs Jim Cramer on Thursday said hes bullish on the companys  on-time pickup promise  program which was launched before the busy holiday travel season. Everyone is stressed during holidays and the holidays should be so great  theyre a time of getting together with your family  but man what time am I getting to the airport Is a car going to pick me up Risher said. We guarantee were going to pick you up. If we are more than ten minutes late we will pay you up to $100 in Lyft cash. Risher said over the past few weeks Lyft has given 2.5 million rides to the airport and only had to reimburse 72 rides for late pick-ups. Lyft has struggled in the ride-share space since its 2019 initial public offering with competitor Uber pulling ahead in terms of market share and market capitalization. Risher reported steady improvement at the company since he took the reigns in April with ride growth up 20% in the most recent quarter. Risher also said employee satisfaction levels at the company are the highest in four years after hitting a historic low when he began his tenure. We just saw the results just yesterday of our most recent [employee satisfaction survey] he said. What that tells you is that the thousands and thousands  3000 plus team members who work for Lyft  are starting to believe. They believe in our purpose they believe in our execution. watch now VIDEO 7:35 07:35 Lyft CEO David Risher goes one-on-one with Jim Cramer Mad Money with Jim Cramer Jim Cramers Guide to Investing Click here to download Jim Cramers Guide to Investing at no cost to help you build long-term wealth and invest smarter. Sign up now for the CNBC Investing Club to follow Jim Cramers every move in the market. Disclaimer Questions for Cramer Call Cramer: 1-800-743-CNBC Want to take a deep dive into Cramers world Hit him up Mad Money Twitter - Jim Cramer Twitter - Facebook - Instagram Questions comments suggestions for the Mad Money website madcapcnbc.com'"
      ]
     },
     "execution_count": 23,
     "metadata": {},
     "output_type": "execute_result"
    }
   ],
   "source": [
    "articles['656ddb3b9994965ac4b450ca'].full_content"
   ]
  },
  {
   "cell_type": "code",
   "execution_count": 24,
   "id": "0695641b-732d-4151-8076-e394d790ce14",
   "metadata": {
    "tags": []
   },
   "outputs": [],
   "source": [
    "from src.RankingService import RankingService"
   ]
  },
  {
   "cell_type": "code",
   "execution_count": 27,
   "id": "0a3fd177-7762-4915-b2e5-77ad95e1d586",
   "metadata": {
    "tags": []
   },
   "outputs": [
    {
     "name": "stdout",
     "output_type": "stream",
     "text": [
      "fetched results from cohere in 0:00:00.683846 second\n"
     ]
    }
   ],
   "source": [
    "a = RankingService.get_reranked_search_results(query_text='india', articles=list(articles.values()), num_results=100)"
   ]
  },
  {
   "cell_type": "code",
   "execution_count": 30,
   "id": "5b7465d2-1f4e-46dd-9417-6fab96813ded",
   "metadata": {
    "tags": []
   },
   "outputs": [
    {
     "data": {
      "text/plain": [
       "'headline: Thali costs fall in December  Mint.  content:  New Delhi: The cost of home-cooked vegetarian and non-vegetarian meals or thali fell sequentially in December following the end of the festival season. The price of a vegetarian thali fell 3% to ₹ 29.7 last month while non-vegetarian thali saw a 5% decline to ₹ 57.6 according to rating agency Crisil. Year-on-year the cost of a vegetarian thali increased whereas non-vegetarian thali became cheaper. A typical vegetarian thali includes roti vegetables (onion tomato potato) rice dal curd and salad. The non-vegetarian version replaces dal with chicken (broiler). Despite fluctuating commodity prices the share of ingredients used for arriving at the prices remains constant. Crisil attributed the drop in the vegetarian thalis cost to a 14% and 3% decrease in onion and tomato prices respectively as festive demand waned. The more significant decline in the non-vegetarian thalis cost was driven by a 5-7% reduction in broiler prices which constitute half of the thalis cost. However on a yearly basis onion and tomato prices increased leading to a 12% rise in the cost of the vegetarian thali. This increase was primarily due to an 82% jump in onion prices and a 42% surge in tomato prices. Pulse prices contributing 9% to the vegetarian thali cost also rose 24%. Conversely the non-vegetarian thalis cost fell 4% due to a 15% yearly decline in broiler prices amid higher production. Nishant Lakkar founder and CEO of AAA Rating Consultants and Advisors (AAARCA) noted that the poultry sector has been facing losses since December and will likely continue this trend. This is due to factors like rising bird weights due to weather conditions a slight increase in maize prices and lower realizations. Lakkar mentioned a marginal improvement in realizations around Christmas and New Year but anticipates the sector to have barely broken even in Q3 despite a strong performance in October. Prices of rice wheat pulses and vegetables are expected to remain high for the rest of the fiscal year. Wheat and rice prices are seen firm due to lower stocks in the central pool Pushan Sharma director research CRISIL Market Intelligence and Analytics had told Mint earlier. Prices of pulses are expected to rise due to a tight supply situation amid a likely fall in Kharif output and lower acreage in the ongoing Rabi season. Vegetables prices especially those of tomatoes and onions will also remain high until new crop arrivals begin. The Reserve Bank of India during its rate-setting meeting last month warned of a about a possible resurgence in food inflation. The government has been taking several measures recently to rein in food prices as the Consumer Food Price Index which accounts for nearly half of the overall consumer price basket rose to 8.70% in November from 6.61% in October. Milestone Alert Livemint tops charts as the fastest growing news website in the world   to know more. Unlock a world of Benefits From insightful newsletters to real-time stock tracking breaking news and a personalized newsfeed  its all here just a click away Login Now '"
      ]
     },
     "execution_count": 30,
     "metadata": {},
     "output_type": "execute_result"
    }
   ],
   "source": [
    "articles['659bd5c14b25ce4814fb5151'].full_content"
   ]
  },
  {
   "cell_type": "code",
   "execution_count": 28,
   "id": "9ff47487-38ac-4e24-9818-bf02e92cedef",
   "metadata": {
    "tags": []
   },
   "outputs": [
    {
     "data": {
      "text/plain": [
       "{'searchArticleIds': [{'article_id': '659bd5c54b25ce4814fb515e'},\n",
       "  {'article_id': '659bd5c14b25ce4814fb5151'},\n",
       "  {'article_id': '659bd5c24b25ce4814fb5154'},\n",
       "  {'article_id': '659bd5c34b25ce4814fb515c'},\n",
       "  {'article_id': '659bd5c24b25ce4814fb5155'},\n",
       "  {'article_id': '659bd5c24b25ce4814fb5159'},\n",
       "  {'article_id': '659b9d874b25ce4814fb50ff'},\n",
       "  {'article_id': '659bd5c24b25ce4814fb5158'},\n",
       "  {'article_id': '659bd5c44b25ce4814fb515d'},\n",
       "  {'article_id': '656ddb3b9994965ac4b450ca'}],\n",
       " 'additionalInfo': {'659bd5c54b25ce4814fb515e': {'published_time': Timestamp('2024-01-08 09:50:06+0000', tz='UTC'),\n",
       "   'num_days_ago': 13,\n",
       "   'recency_score': 0.708,\n",
       "   'relevance_score': 0.8912444,\n",
       "   'weighted_score': 0.8454333},\n",
       "  '659bd5c14b25ce4814fb5151': {'published_time': Timestamp('2024-01-08 10:08:55+0000', tz='UTC'),\n",
       "   'num_days_ago': 13,\n",
       "   'recency_score': 0.708,\n",
       "   'relevance_score': 0.88759494,\n",
       "   'weighted_score': 0.842696205},\n",
       "  '659bd5c24b25ce4814fb5154': {'published_time': Timestamp('2024-01-08 10:30:11+0000', tz='UTC'),\n",
       "   'num_days_ago': 13,\n",
       "   'recency_score': 0.708,\n",
       "   'relevance_score': 0.8598992,\n",
       "   'weighted_score': 0.8219243999999999},\n",
       "  '659bd5c34b25ce4814fb515c': {'published_time': Timestamp('2024-01-08 09:49:37+0000', tz='UTC'),\n",
       "   'num_days_ago': 13,\n",
       "   'recency_score': 0.708,\n",
       "   'relevance_score': 0.81227237,\n",
       "   'weighted_score': 0.7862042775},\n",
       "  '659bd5c24b25ce4814fb5155': {'published_time': Timestamp('2024-01-08 10:33:17+0000', tz='UTC'),\n",
       "   'num_days_ago': 13,\n",
       "   'recency_score': 0.708,\n",
       "   'relevance_score': 0.7498207,\n",
       "   'weighted_score': 0.739365525},\n",
       "  '659bd5c24b25ce4814fb5159': {'published_time': Timestamp('2024-01-08 10:01:25+0000', tz='UTC'),\n",
       "   'num_days_ago': 13,\n",
       "   'recency_score': 0.708,\n",
       "   'relevance_score': 0.6658453,\n",
       "   'weighted_score': 0.676383975},\n",
       "  '659b9d874b25ce4814fb50ff': {'published_time': Timestamp('2024-01-08 04:08:14+0000', tz='UTC'),\n",
       "   'num_days_ago': 14,\n",
       "   'recency_score': 0.696,\n",
       "   'relevance_score': 0.6586371,\n",
       "   'weighted_score': 0.6679778249999999},\n",
       "  '659bd5c24b25ce4814fb5158': {'published_time': Timestamp('2024-01-08 10:17:08+0000', tz='UTC'),\n",
       "   'num_days_ago': 13,\n",
       "   'recency_score': 0.708,\n",
       "   'relevance_score': 0.5971969,\n",
       "   'weighted_score': 0.6248976749999999},\n",
       "  '659bd5c44b25ce4814fb515d': {'published_time': Timestamp('2024-01-08 09:45:50+0000', tz='UTC'),\n",
       "   'num_days_ago': 13,\n",
       "   'recency_score': 0.708,\n",
       "   'relevance_score': 0.46013728,\n",
       "   'weighted_score': 0.52210296},\n",
       "  '656ddb3b9994965ac4b450ca': {'published_time': Timestamp('2023-12-01 00:10:55+0000', tz='UTC'),\n",
       "   'num_days_ago': 52,\n",
       "   'recency_score': 0.552,\n",
       "   'relevance_score': 0.01711089,\n",
       "   'weighted_score': 0.1508331675}}}"
      ]
     },
     "execution_count": 28,
     "metadata": {},
     "output_type": "execute_result"
    }
   ],
   "source": [
    "a"
   ]
  },
  {
   "cell_type": "code",
   "execution_count": null,
   "id": "499718a2-4d0c-4151-bb6d-de3a1e0a69e6",
   "metadata": {},
   "outputs": [],
   "source": []
  }
 ],
 "metadata": {
  "kernelspec": {
   "display_name": "recoenv",
   "language": "python",
   "name": "recoenv"
  },
  "language_info": {
   "codemirror_mode": {
    "name": "ipython",
    "version": 3
   },
   "file_extension": ".py",
   "mimetype": "text/x-python",
   "name": "python",
   "nbconvert_exporter": "python",
   "pygments_lexer": "ipython3",
   "version": "3.11.5"
  }
 },
 "nbformat": 4,
 "nbformat_minor": 5
}
