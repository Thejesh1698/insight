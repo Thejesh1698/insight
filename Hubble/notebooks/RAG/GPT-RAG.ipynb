{
 "cells": [
  {
   "cell_type": "code",
   "execution_count": 1,
   "id": "8e7bdb01-85cd-4027-9c22-7f0754163444",
   "metadata": {
    "tags": []
   },
   "outputs": [],
   "source": [
    "parent_folder = '/Users/ravi.tej/Desktop/ML/Recommendations/hubble/'\n",
    "from hydra import compose, initialize\n",
    "import os\n",
    "\n",
    "import xml.etree.ElementTree as ET\n",
    "\n",
    "tree = ET.parse('../../conf/application.run.xml')\n",
    "root = tree.getroot()\n",
    "\n",
    "envs_element = root.find('./configuration/envs')\n",
    "for variable in envs_element.findall('env'):\n",
    "    name = variable.get('name')\n",
    "    value = variable.get('value')\n",
    "    os.environ[name] = value\n",
    "\n",
    "import sys\n",
    "sys.path.append('/Users/ravi.tej/Desktop/ML/Recommendations/hubble/')"
   ]
  },
  {
   "cell_type": "code",
   "execution_count": 212,
   "id": "ea0845fb-e80e-42ea-a646-819e8e350fbf",
   "metadata": {
    "tags": []
   },
   "outputs": [],
   "source": [
    "# SSH tunnel configuration\n",
    "SSH_HOST='ec2-65-1-131-4.ap-south-1.compute.amazonaws.com'\n",
    "SSH_USER='ec2-user'\n",
    "SSH_KEY_PATH='/Users/ravi.tej/Downloads/bastion-host-key-pair-bkp.pem'\n",
    "LOCAL_BIND_PORT=3001\n",
    "\n",
    "# MongoDB server configuration\n",
    "MONGO_HOST=''\n",
    "MONGO_PORT=27017\n",
    "MONGO_USERNAME=''\n",
    "MONGO_PASSWORD=''\n",
    "\n",
    "\n",
    "MONGO_DB_NAME='insight_db'\n",
    "MONGO_COLLECTION_NAME='llm_responses'\n",
    "\n",
    "# test environment\n",
    "ENVIRONMENT='local'"
   ]
  },
  {
   "cell_type": "code",
   "execution_count": 213,
   "id": "9478b790-ca3f-4109-9654-a3a2a3cbe4e6",
   "metadata": {
    "tags": []
   },
   "outputs": [],
   "source": [
    "DB_USERNAME = MONGO_USERNAME\n",
    "DB_PASSWORD=MONGO_PASSWORD"
   ]
  },
  {
   "cell_type": "code",
   "execution_count": 214,
   "id": "5aa6f6e8-52b0-4659-81e4-e7f558e2e47d",
   "metadata": {
    "tags": []
   },
   "outputs": [],
   "source": [
    "import os"
   ]
  },
  {
   "cell_type": "code",
   "execution_count": 215,
   "id": "3bee8716-e6c7-4259-9e1c-5a3c866fae9b",
   "metadata": {
    "tags": []
   },
   "outputs": [],
   "source": [
    "\n",
    "import os\n",
    "from pymongo import MongoClient\n",
    "from sshtunnel import SSHTunnelForwarder\n",
    "\n",
    "# # SSH tunnel configuration\n",
    "# SSH_HOST = os.environ.get('SSH_HOST')\n",
    "# SSH_USER = os.environ.get('SSH_USER')\n",
    "# SSH_KEY_PATH = os.environ.get('SSH_KEY_PATH')\n",
    "# LOCAL_BIND_PORT = int(os.environ.get('LOCAL_BIND_PORT', 3010))\n",
    "\n",
    "\n",
    "# # MongoDB server configuration\n",
    "# MONGO_HOST = os.environ.get('MONGO_HOST')\n",
    "# MONGO_PORT = int(os.environ.get('MONGO_PORT', 27017))\n",
    "# DB_USERNAME = os.environ.get('MONGO_USERNAME')\n",
    "# DB_PASSWORD = os.environ.get('MONGO_PASSWORD')\n",
    "\n",
    "# db parameters dict\n",
    "DB_PARAMS = {\n",
    "    \"host\": '127.0.0.1',\n",
    "    \"port\": LOCAL_BIND_PORT,\n",
    "    \"username\": DB_USERNAME,\n",
    "    \"password\": DB_PASSWORD,\n",
    "}\n",
    "\n",
    "\n",
    "class MongoDatabaseConnection:\n",
    "    _instance = None\n",
    "    _client = None\n",
    "    _tunnel = None\n",
    "\n",
    "    def __new__(cls):\n",
    "        if cls._instance is None:\n",
    "            try:\n",
    "                cls._instance = super(MongoDatabaseConnection, cls).__new__(cls)\n",
    "\n",
    "                if os.environ.get('ENVIRONMENT') == 'local':\n",
    "                    # initiate mongo client via ssh tunneling\n",
    "                    cls._instance._client = cls._connect_to_mongodb_using_ssh()\n",
    "                else:\n",
    "                    # initiate mongo client\n",
    "                    cls._instance._client = cls._connect_to_mongodb()\n",
    "            except Exception as e:\n",
    "                raise Exception(f\"Failed to connect to MongoDB: {e}\")\n",
    "\n",
    "        return cls._instance\n",
    "\n",
    "    @classmethod\n",
    "    def get_client(cls):\n",
    "        return cls._instance._client\n",
    "\n",
    "    @classmethod\n",
    "    def close_connection(cls):\n",
    "        if cls._instance._client:\n",
    "            cls._instance._client.close()\n",
    "            cls._instance._client = None\n",
    "\n",
    "        if cls._tunnel:\n",
    "            cls._tunnel.stop()\n",
    "            cls._tunnel = None\n",
    "\n",
    "    @classmethod\n",
    "    def _establish_tunnel(cls):\n",
    "        try:\n",
    "            tunnel = SSHTunnelForwarder(\n",
    "                (SSH_HOST, 22),\n",
    "                ssh_username=SSH_USER,\n",
    "                ssh_pkey=SSH_KEY_PATH,\n",
    "                remote_bind_address=(MONGO_HOST, MONGO_PORT),\n",
    "                local_bind_address=('127.0.0.1', LOCAL_BIND_PORT)\n",
    "            )\n",
    "\n",
    "            return tunnel\n",
    "        except Exception as e:\n",
    "            raise Exception(f\"Failed to establish SSH tunnel: {e}\")\n",
    "\n",
    "    @classmethod\n",
    "    def _connect_to_mongodb(cls):\n",
    "        try:\n",
    "            return MongoClient(**DB_PARAMS)\n",
    "        except ConnectionError as mongo_error:\n",
    "            raise Exception(f\"Failed to connect to MongoDB Connection: {mongo_error}\")\n",
    "\n",
    "    @classmethod\n",
    "    def _connect_to_mongodb_using_ssh(cls):\n",
    "        try:\n",
    "            # start the tunnel\n",
    "            cls._tunnel = cls._establish_tunnel()\n",
    "            cls._tunnel.start()\n",
    "\n",
    "            return MongoClient(\n",
    "                directConnection=True,\n",
    "                **DB_PARAMS\n",
    "            )\n",
    "        except ConnectionError as mongo_error:\n",
    "            raise Exception(f\"Failed to connect to MongoDB Connection: {mongo_error}\")"
   ]
  },
  {
   "cell_type": "code",
   "execution_count": 216,
   "id": "c481725b-4653-4727-b620-88e622df7483",
   "metadata": {
    "tags": []
   },
   "outputs": [],
   "source": [
    "from bson import ObjectId"
   ]
  },
  {
   "cell_type": "code",
   "execution_count": 231,
   "id": "1cb4a7e9-8d45-40e8-94e1-c00f08c7e01a",
   "metadata": {
    "tags": []
   },
   "outputs": [],
   "source": [
    "class MongoDBArticle:\n",
    "\n",
    "    @staticmethod\n",
    "    def get_db():\n",
    "        mongo_conn = None\n",
    "        try:\n",
    "            # setup mongo connection\n",
    "            mongo_conn = MongoDatabaseConnection()\n",
    "            mongo_client = mongo_conn.get_client()\n",
    "            db = mongo_client[MONGO_DB_NAME]\n",
    "            return db\n",
    "        except Exception as e:\n",
    "            if mongo_conn:\n",
    "                mongo_conn.close_connection()\n",
    "            raise Exception(f\"Error in connecting to db: {e}\")\n",
    "\n",
    "    @staticmethod\n",
    "    def get_collection(collection_name=None):\n",
    "        try:\n",
    "            db = MongoDBArticle.get_db()\n",
    "            if collection_name is None:\n",
    "                return db[MONGO_COLLECTION_NAME]\n",
    "            else:\n",
    "                return db[collection_name]\n",
    "        except Exception as e:\n",
    "            raise Exception(f\"Error in _get_collection: {e}\")\n",
    "\n",
    "    @staticmethod\n",
    "    def fetch_documents_by_ids(string_ids):\n",
    "        try:\n",
    "            object_ids = [ObjectId(string_id) for string_id in string_ids]\n",
    "        except Exception as e:\n",
    "            return f\"Invalid ID format: {e}\"\n",
    "\n",
    "        collection = MongoDBArticle.get_collection()\n",
    "        documents = list(collection.find({\"_id\": {\"$in\": object_ids}}))\n",
    "        doc_dict = {}\n",
    "        for doc in documents:\n",
    "            article_id = str(doc.pop('_id'))\n",
    "            doc_dict[article_id] = doc\n",
    "            doc_dict[article_id]['article_id'] = article_id\n",
    "            doc_dict[article_id]['source_id'] = str(doc['source_id'])\n",
    "            doc_dict[article_id]['is_premium_article'] = False\n",
    "        return doc_dict\n",
    "    \n",
    "    @staticmethod\n",
    "    def fetch_all_documents():\n",
    "        query = {\"is_premium_article\": False}\n",
    "        # projection = {\"_id\": 1}; , projection\n",
    "\n",
    "        collection = MongoDBArticle.get_collection()\n",
    "        documents = list(collection.find(query))\n",
    "        doc_dict = {}\n",
    "        for doc in documents:\n",
    "            article_id = str(doc.pop('_id'))\n",
    "            doc_dict[article_id] = doc\n",
    "            doc_dict[article_id]['article_id'] = article_id\n",
    "        return doc_dict\n",
    "    \n",
    "    @staticmethod\n",
    "    def fetch_all_llm_responses():\n",
    "        query = {\"response\": {\"$exists\": True}}\n",
    "        # projection = {\"_id\": 1}; , projection\n",
    "\n",
    "        collection = MongoDBArticle.get_collection()\n",
    "        documents = list(collection.find(query))\n",
    "        doc_dict = {}\n",
    "        for doc in documents:\n",
    "            _id = str(doc.pop('_id'))\n",
    "            doc_dict[article_id] = doc['article_id']\n",
    "            doc_dict[article_id] = doc\n",
    "            doc_dict[article_id]['_id'] = _id\n",
    "            try:\n",
    "                binary_data = base64.b64decode(doc['response'])\n",
    "                parsed_response = json.loads(json.loads(binary_data)[0]['generated_text'])\n",
    "            except:\n",
    "                parsed_response = {}\n",
    "                parsed_response['top_categories'] = ''\n",
    "            doc_dict['parsed_response'] = parsed_response\n",
    "        return doc_dict"
   ]
  },
  {
   "cell_type": "markdown",
   "id": "43a1cc2c-bf4e-4c40-abdd-f26cabf238fa",
   "metadata": {},
   "source": [
    "### Extracting tags"
   ]
  },
  {
   "cell_type": "code",
   "execution_count": 129,
   "id": "7f783da3-8086-4beb-88dd-e5b3c42e3443",
   "metadata": {
    "tags": []
   },
   "outputs": [],
   "source": [
    "docs = MongoDBArticle.fetch_all_documents()"
   ]
  },
  {
   "cell_type": "code",
   "execution_count": 125,
   "id": "2cab941f-ff85-4d62-92ca-6ae95fad8898",
   "metadata": {
    "tags": []
   },
   "outputs": [
    {
     "data": {
      "text/plain": [
       "'651dd3a8a662d76276b7db6a'"
      ]
     },
     "execution_count": 125,
     "metadata": {},
     "output_type": "execute_result"
    }
   ],
   "source": [
    "list(docs.keys())[0]"
   ]
  },
  {
   "cell_type": "code",
   "execution_count": 145,
   "id": "91248a1a-0e86-4e68-88d0-0cd334cf4437",
   "metadata": {
    "tags": []
   },
   "outputs": [
    {
     "data": {
      "text/plain": [
       "['michael mosley',\n",
       " 'india',\n",
       " 'rajeev chandrasekar',\n",
       " 'digital india',\n",
       " 'government backing',\n",
       " 'industry development',\n",
       " 'cutting-edge technology',\n",
       " 'ministry of electronics and information technology',\n",
       " 'indian isa',\n",
       " 'iit madras research park']"
      ]
     },
     "execution_count": 145,
     "metadata": {},
     "output_type": "execute_result"
    }
   ],
   "source": [
    "docs['651dd3a8a662d76276b7db6a']['tags']"
   ]
  },
  {
   "cell_type": "code",
   "execution_count": 147,
   "id": "5eb1fb3e-53a5-44fe-ac86-260c2075bf65",
   "metadata": {
    "tags": []
   },
   "outputs": [],
   "source": [
    "from tqdm import tqdm"
   ]
  },
  {
   "cell_type": "code",
   "execution_count": 184,
   "id": "1d64caa9-4c0e-4611-8b44-50f8e43df757",
   "metadata": {
    "tags": []
   },
   "outputs": [
    {
     "name": "stderr",
     "output_type": "stream",
     "text": [
      "100%|██████████| 230113/230113 [00:00<00:00, 589080.29it/s]\n"
     ]
    }
   ],
   "source": [
    "tags_dict = {}\n",
    "\n",
    "for doc in tqdm(list(docs.values())):\n",
    "    cur_tags = doc.get('tags',[])\n",
    "    if not cur_tags:\n",
    "        continue\n",
    "    for cur_tag in cur_tags:\n",
    "        cur_tag = str(cur_tag).lower()\n",
    "        all_cur_tags = cur_tag.split(',')\n",
    "        for tag in all_cur_tags:\n",
    "            tag = tag.strip()\n",
    "            tags_dict[tag] = tags_dict.get(tag,0) + 1"
   ]
  },
  {
   "cell_type": "code",
   "execution_count": 185,
   "id": "730719c2-36bb-455d-9d73-79e418185ac2",
   "metadata": {
    "tags": []
   },
   "outputs": [
    {
     "data": {
      "text/plain": [
       "267613"
      ]
     },
     "execution_count": 185,
     "metadata": {},
     "output_type": "execute_result"
    }
   ],
   "source": [
    "len(tags_dict)"
   ]
  },
  {
   "cell_type": "code",
   "execution_count": 186,
   "id": "75f40390-cab1-4b74-8081-a44192e93c23",
   "metadata": {
    "tags": []
   },
   "outputs": [],
   "source": [
    "# Sorting the dictionary by values in descending order\n",
    "sorted_tags = dict(sorted(tags_dict.items(), key=lambda item: item[1], reverse=True))"
   ]
  },
  {
   "cell_type": "code",
   "execution_count": 187,
   "id": "bd305bb7-43e8-4d88-af4e-beed9c430971",
   "metadata": {
    "scrolled": true,
    "tags": []
   },
   "outputs": [
    {
     "data": {
      "text/plain": [
       "['',\n",
       " 'results',\n",
       " 'earnings first-cut',\n",
       " 'news',\n",
       " 'business news',\n",
       " 'business',\n",
       " 'personal finance',\n",
       " 'entertainment',\n",
       " 'markets',\n",
       " 'economy',\n",
       " 'india',\n",
       " 'travel',\n",
       " 'health',\n",
       " 'investing',\n",
       " 'stock market today',\n",
       " 'markets news',\n",
       " 'politics',\n",
       " 'stock market',\n",
       " 'technology',\n",
       " 'recommendations',\n",
       " 'china',\n",
       " 'real estate',\n",
       " 'sensex',\n",
       " 'nifty',\n",
       " 'united states',\n",
       " 'breaking news: politics',\n",
       " 'reviews',\n",
       " 'company news',\n",
       " 'inflation',\n",
       " 'stock market news',\n",
       " 'breaking news: business',\n",
       " 'trading',\n",
       " 'breaking news: markets',\n",
       " 'rbi',\n",
       " 'zacks rank',\n",
       " 'breaking news: technology',\n",
       " 'cmpny',\n",
       " 'buy',\n",
       " 'congress',\n",
       " 'us',\n",
       " 'investment strategy',\n",
       " 'publ',\n",
       " 'insurance',\n",
       " 'stock markets',\n",
       " 'food',\n",
       " 'earnings',\n",
       " 'joe biden',\n",
       " 'buzzing stocks',\n",
       " 'fin',\n",
       " 'parenting',\n",
       " 'bjp',\n",
       " 'narendra modi',\n",
       " 'bse',\n",
       " 'amers',\n",
       " 'interest rates',\n",
       " 'nifty50',\n",
       " 'namer',\n",
       " 'nifty 50',\n",
       " 'government and politics',\n",
       " 'stocks',\n",
       " 'donald trump',\n",
       " 'companies',\n",
       " 'culture',\n",
       " 'gen',\n",
       " 'asia',\n",
       " 'sebi',\n",
       " 'europ',\n",
       " 's&p 500',\n",
       " 'nse',\n",
       " 'topnws',\n",
       " 'lifestyle',\n",
       " 'sports',\n",
       " 'emea',\n",
       " 'weu',\n",
       " 'personal finance news',\n",
       " 'bact',\n",
       " 'biz',\n",
       " 'transportation',\n",
       " 'russia',\n",
       " 'cryptocurrency',\n",
       " 'the company',\n",
       " 'elon musk',\n",
       " 'emrg',\n",
       " 'retirement planning',\n",
       " 'bse sensex',\n",
       " 'miscellaneous',\n",
       " 'sensex today',\n",
       " 'asxpac',\n",
       " 'energy',\n",
       " 'bank nifty',\n",
       " 'company',\n",
       " 'banks',\n",
       " 'essay',\n",
       " 'bqfree',\n",
       " 'labor economy',\n",
       " 'ipo',\n",
       " 'tiktok',\n",
       " 'u.s. economy',\n",
       " 'supreme court',\n",
       " 'indian stock market',\n",
       " 'pharmaceuticals',\n",
       " 'artificial intelligence',\n",
       " 'tech',\n",
       " 'economics',\n",
       " 'nse nifty',\n",
       " 'inc.',\n",
       " 'fins',\n",
       " 'fins08',\n",
       " 'prices',\n",
       " 'wall street',\n",
       " 'personnel',\n",
       " 'reserve bank of india',\n",
       " 'corporate finance',\n",
       " 'motilal oswal',\n",
       " 'netflix',\n",
       " 'mtpix',\n",
       " 'digital culture',\n",
       " 'social media',\n",
       " 'economic events',\n",
       " 'topcmb',\n",
       " 'share market',\n",
       " 'bisv',\n",
       " 'bisv08',\n",
       " 'share price',\n",
       " 'mutual funds',\n",
       " 'finance - investments',\n",
       " 'careers',\n",
       " 'ukraine',\n",
       " 'science',\n",
       " 'pol',\n",
       " 'apple inc',\n",
       " 'eco',\n",
       " 'mce',\n",
       " 'banking',\n",
       " 'stock market india',\n",
       " 'bonds',\n",
       " 'nifty today',\n",
       " 'asia economy',\n",
       " 'ezc',\n",
       " 'bloomberg',\n",
       " 'share market news',\n",
       " 'hdfc bank',\n",
       " 'com',\n",
       " 'federal reserve',\n",
       " 'stock market live',\n",
       " 'internet',\n",
       " 'asian markets',\n",
       " 'social issues',\n",
       " 'retail industry',\n",
       " 'bengaluru',\n",
       " 'loans',\n",
       " 'alphabet inc',\n",
       " 'bse/nse share price',\n",
       " 'sensex share market',\n",
       " 'microsoft corp',\n",
       " 'elections',\n",
       " 'taxes',\n",
       " 'pti',\n",
       " 'tcs',\n",
       " 'environment',\n",
       " 'economic news',\n",
       " 'market live',\n",
       " 'law',\n",
       " 'amazon.com inc',\n",
       " 'mortgage',\n",
       " 'breaking news: economy',\n",
       " 'sensex share price',\n",
       " 'gold',\n",
       " 'israel',\n",
       " 'nifty share price',\n",
       " 'delhi',\n",
       " 'commodities',\n",
       " 'mumbai',\n",
       " 'breaking news: investing',\n",
       " 'news1',\n",
       " 'pxp',\n",
       " 'inds',\n",
       " 'inds08',\n",
       " 'monetary policy',\n",
       " 'pm modi',\n",
       " 'climate',\n",
       " 'new york',\n",
       " 'income tax',\n",
       " 'celebrity',\n",
       " 'crude oil',\n",
       " 'cycs',\n",
       " 'cycs08',\n",
       " 'housing',\n",
       " 'tesla inc',\n",
       " 'tata motors',\n",
       " 'movies',\n",
       " 'media',\n",
       " 'autos',\n",
       " 'jerome powell',\n",
       " 'health care industry',\n",
       " 'japan',\n",
       " 'foreign policy',\n",
       " 'infosys',\n",
       " 'easia',\n",
       " 'central banking',\n",
       " 'tech insider',\n",
       " 'apple',\n",
       " 'wealth',\n",
       " 'ceeu',\n",
       " 'earnings reports and news',\n",
       " 'invbis',\n",
       " 'oil prices',\n",
       " 'share market live',\n",
       " 'invs08',\n",
       " 'gift nifty',\n",
       " 'share market today',\n",
       " 'strategy & education',\n",
       " 'cen',\n",
       " 'sharekhan',\n",
       " 'stocks to buy',\n",
       " 'opec',\n",
       " 'electric vehicles',\n",
       " 'nasdaq',\n",
       " 'chemicals',\n",
       " 'celebrities',\n",
       " 'market today',\n",
       " 'share tips',\n",
       " 'music',\n",
       " 'breaking news',\n",
       " 'econ',\n",
       " 'meta platforms inc',\n",
       " 'rupee',\n",
       " 'bitcoin',\n",
       " 'ai',\n",
       " 'jim cramer',\n",
       " 'ener',\n",
       " 'eng',\n",
       " 'prabhudas lilladher',\n",
       " 'investors',\n",
       " 'enff',\n",
       " 'us federal reserve',\n",
       " 'education',\n",
       " 'tv',\n",
       " 'nrg',\n",
       " 'enr',\n",
       " 'world markets',\n",
       " 'karnataka',\n",
       " 'oil',\n",
       " 'sbi',\n",
       " 'reliance industries',\n",
       " 'homebuyers',\n",
       " 'lok sabha',\n",
       " 'equity markets',\n",
       " 'crime',\n",
       " 'parliament',\n",
       " 'mortgage rates',\n",
       " 'tech (reviews)',\n",
       " 'jobs',\n",
       " 'life',\n",
       " 'renewable energy',\n",
       " 'stock tips',\n",
       " 'business wire',\n",
       " 'life insurance',\n",
       " 'gb',\n",
       " 'us dollar',\n",
       " 'airlines',\n",
       " 'generative ai',\n",
       " 'premier',\n",
       " 'maharashtra',\n",
       " 'new delhi',\n",
       " 'gst',\n",
       " 'privt',\n",
       " 'computers - software medium & small',\n",
       " 'int',\n",
       " 'style',\n",
       " 'saudi arabia',\n",
       " 'retail',\n",
       " 'gdp',\n",
       " 'personal loans',\n",
       " 'nasdaq composite',\n",
       " 'investment',\n",
       " 'oil and gas',\n",
       " 'uttar pradesh',\n",
       " 'personal saving',\n",
       " 'amazon',\n",
       " 'eu',\n",
       " 'invm',\n",
       " 'laws',\n",
       " 'federal reserve system',\n",
       " 'eci',\n",
       " 'policy',\n",
       " 'bnk',\n",
       " 'bsvc',\n",
       " 'canada',\n",
       " 'market news',\n",
       " 'health insurance',\n",
       " 'stocks to watch',\n",
       " 'icici bank',\n",
       " 'auto',\n",
       " 'earnings growth',\n",
       " 'stx',\n",
       " 'dbt',\n",
       " 'market insider',\n",
       " 'blr',\n",
       " 'fintech',\n",
       " 'indian economy',\n",
       " 'taylor swift',\n",
       " 'sustainable-business',\n",
       " 'stocks to buy today',\n",
       " 'fashion',\n",
       " 'ipo news',\n",
       " 'dollar',\n",
       " 'nvidia corp',\n",
       " 'intag',\n",
       " 'earnings per share',\n",
       " 'pakistan',\n",
       " 's&p 500 index',\n",
       " 'bnks',\n",
       " 'macroeconomics',\n",
       " 'tesla',\n",
       " 'small business',\n",
       " 'google',\n",
       " 'credit cards',\n",
       " 'nirmala sitharaman',\n",
       " 'adani group',\n",
       " 'biotech and pharmaceuticals',\n",
       " 'tmt',\n",
       " 'nifty bank',\n",
       " 'stock market stock',\n",
       " 'consensus estimate',\n",
       " 'cn',\n",
       " 'reliance',\n",
       " 'sgx nifty',\n",
       " 'vedanta',\n",
       " 'government & policy',\n",
       " 'commodity market',\n",
       " 'europe',\n",
       " 'dow jones',\n",
       " 'cryptocurrency news',\n",
       " 'top stocks to buy',\n",
       " 'australia',\n",
       " 'top stock picks',\n",
       " 'indian stock market today',\n",
       " 'plcy',\n",
       " 'disney',\n",
       " 'res',\n",
       " 'white house',\n",
       " 'itc',\n",
       " 'g20',\n",
       " 'deals (reviews)',\n",
       " 'us stocks',\n",
       " 'zomato',\n",
       " 'top stock tips',\n",
       " 'climate change',\n",
       " 'walt disney co',\n",
       " 'trade setup',\n",
       " 'tamil nadu',\n",
       " 'top stock recommendations',\n",
       " 'morgan stanley',\n",
       " 'top stocks to sell',\n",
       " 'auto ancillaries',\n",
       " 'stocks to sell',\n",
       " 'share market tips',\n",
       " 'dow jones industrial average',\n",
       " 'brent crude',\n",
       " 'vladimir putin',\n",
       " 'enterprise',\n",
       " 'global markets',\n",
       " 'biotechnology',\n",
       " 'oilg',\n",
       " 'modi',\n",
       " 'wipro',\n",
       " 'rahul gandhi',\n",
       " 'finance - general',\n",
       " 'tech08',\n",
       " 'trading skills',\n",
       " 'warren buffett',\n",
       " 'gold rate today',\n",
       " 'maruti suzuki',\n",
       " 'fundamental analysis',\n",
       " 'arvind',\n",
       " 'finance - leasing & hire purchase',\n",
       " 'trade',\n",
       " 'defense',\n",
       " 'deal1',\n",
       " 'free cash flow',\n",
       " 'tran',\n",
       " 'tpt',\n",
       " 'budget 2024',\n",
       " 'stock ideas',\n",
       " 'manipur',\n",
       " 'icici securities',\n",
       " 'state bank of india',\n",
       " 'us fed',\n",
       " 'securities and exchange board of india',\n",
       " 'washington',\n",
       " 'finance',\n",
       " 'regs',\n",
       " 'legal',\n",
       " 'career advice',\n",
       " 'general motors co',\n",
       " 'microsoft',\n",
       " 'zacks investment research',\n",
       " 'indigo',\n",
       " 'buy or sell stock',\n",
       " 'de',\n",
       " 'financial planning',\n",
       " 'company profiles',\n",
       " 'florida',\n",
       " 'world economy',\n",
       " 'dxy us dollar currency index',\n",
       " 'home insurance',\n",
       " 'new york city',\n",
       " 'movie',\n",
       " 'stellantis nv',\n",
       " 'gaza',\n",
       " 'investing basics',\n",
       " 'hdfc',\n",
       " 'axis bank',\n",
       " 'shareholders',\n",
       " 'reuters-legal',\n",
       " 'coal india',\n",
       " 'aviation',\n",
       " 'cd news',\n",
       " 'california',\n",
       " 'tata steel',\n",
       " 'student loans',\n",
       " 'rupee vs dollar',\n",
       " 'technical analysis',\n",
       " 'review',\n",
       " 'air india',\n",
       " 'shares',\n",
       " 'relationships',\n",
       " 'madhya pradesh',\n",
       " 'credit & debt',\n",
       " 'alternative investments',\n",
       " 'tech sector news',\n",
       " 'mobile',\n",
       " 'economic outlook',\n",
       " 'crude oil price',\n",
       " 'paytm',\n",
       " 'ntpc',\n",
       " 'neutral',\n",
       " 'startups',\n",
       " 'mental health',\n",
       " 'covid',\n",
       " 'us market',\n",
       " 'hold',\n",
       " 'instagram',\n",
       " 'twitter',\n",
       " 'government news',\n",
       " 'sensex live today',\n",
       " 'strong buy',\n",
       " 'social security',\n",
       " 'env',\n",
       " 'jpmorgan drn',\n",
       " 'spicejet',\n",
       " 'nifty 50 today',\n",
       " 'france',\n",
       " 'germany',\n",
       " 'crude oil prices',\n",
       " 'nclt',\n",
       " 'gold price today',\n",
       " 'bank of baroda',\n",
       " 'international markets',\n",
       " 'media & entertainment',\n",
       " 'sensex live',\n",
       " 'bnks1',\n",
       " 'aut',\n",
       " 'singapore',\n",
       " 'collusion',\n",
       " 'gold prices',\n",
       " 'hotels',\n",
       " 'nifty live',\n",
       " 'rep',\n",
       " 'meast',\n",
       " 'market',\n",
       " 'chief executive officer',\n",
       " 'military & defense',\n",
       " 'style (reviews)',\n",
       " 'ongc',\n",
       " 'etfs',\n",
       " 'economic growth',\n",
       " 'ford motor co',\n",
       " 'business leaders',\n",
       " 'options and derivatives',\n",
       " 'xi jinping',\n",
       " 'lic',\n",
       " 'chatgpt',\n",
       " 'fed',\n",
       " 'federal reserve bank',\n",
       " 'world stock market',\n",
       " 'adani',\n",
       " 'computers - software',\n",
       " 'home (reviews)',\n",
       " 'hero motocorp',\n",
       " 'dividend stocks',\n",
       " 'aerospace and defense industry',\n",
       " 'finance ministry',\n",
       " 'bank',\n",
       " 'indg',\n",
       " 'indg08',\n",
       " 'voices of color',\n",
       " 'kotak mahindra bank',\n",
       " 'weather',\n",
       " 'revenue',\n",
       " 'mngiss',\n",
       " 'adani enterprises',\n",
       " 'currency markets',\n",
       " 'gold price',\n",
       " 'it',\n",
       " 'bajaj auto',\n",
       " 'intrinsic value',\n",
       " 'carm',\n",
       " 'resf',\n",
       " 'openai',\n",
       " 'anlins',\n",
       " 'rajya sabha',\n",
       " 'shaktikanta das',\n",
       " 'go first',\n",
       " 'cybersecurity',\n",
       " 'financial news',\n",
       " 'revenue growth',\n",
       " 'financial advisor',\n",
       " 'tax',\n",
       " 'estimate revisions',\n",
       " 'growth rate',\n",
       " 'fr',\n",
       " 'finance news',\n",
       " 'top bets',\n",
       " 'fund',\n",
       " 'hamas',\n",
       " 'crude',\n",
       " 'bajaj finance',\n",
       " 'job',\n",
       " 'mutual fund',\n",
       " 'laws & regulations',\n",
       " 'bharti airtel',\n",
       " 'real estate investing',\n",
       " 'share market news india',\n",
       " 'live stock markets',\n",
       " 'brent',\n",
       " 'top buy ideas',\n",
       " 'swasia',\n",
       " 'sasia',\n",
       " 'growth',\n",
       " 'institutional investors',\n",
       " 'guide to forex trading',\n",
       " 'geojit',\n",
       " 'sugar',\n",
       " 'investments',\n",
       " 'earnings estimates',\n",
       " 'exports',\n",
       " 'global market',\n",
       " 'boeing',\n",
       " 'south korea',\n",
       " 'mps',\n",
       " 'texas',\n",
       " 'viral',\n",
       " 'g20 summit',\n",
       " 'goldman sachs group inc',\n",
       " 'roe',\n",
       " 'technical analysis basic education',\n",
       " 'forward-looking statements',\n",
       " 'ev',\n",
       " 'united nations',\n",
       " 'stocks & bond news',\n",
       " 'sci',\n",
       " 'plastics',\n",
       " 'jp',\n",
       " 'business insurance',\n",
       " 'stock trading',\n",
       " 'alibaba group holding ltd',\n",
       " 'cbi',\n",
       " 'oil prices today',\n",
       " 'in',\n",
       " 'ril',\n",
       " 'covid-19',\n",
       " 'mrg',\n",
       " 'enforcement directorate',\n",
       " 'corruption',\n",
       " 'amit shah',\n",
       " 'barbie',\n",
       " 'u.s. 10 year treasury',\n",
       " 'dgca',\n",
       " 'gujarat',\n",
       " 'indian markets',\n",
       " 'stocks in focus',\n",
       " 'piyush goyal',\n",
       " 'adani ports',\n",
       " 'q1 results',\n",
       " 'future cash flows',\n",
       " 'accounting',\n",
       " 'infrastructure',\n",
       " 'restaurants',\n",
       " 'gift nifty today',\n",
       " 'indian rupee',\n",
       " 'nvidia',\n",
       " 'construction & contracting - civil',\n",
       " 'rsbi:climate-change',\n",
       " 'trading strategies',\n",
       " 'result poll',\n",
       " 'repi:grid-infrastructure',\n",
       " 'construction & contracting - real estate',\n",
       " 'reality tv',\n",
       " \"wti crude (mar'23)\",\n",
       " 'tech mahindra',\n",
       " 'l&t',\n",
       " 'rsbi:regulatory-oversight',\n",
       " 'gautam adani',\n",
       " 'venture capital',\n",
       " 'cdm',\n",
       " 'upi',\n",
       " 'electric vehicle',\n",
       " 'food processing',\n",
       " 'discounted cash flow',\n",
       " \"ice brent crude (apr'23)\",\n",
       " 'beijing',\n",
       " 'tata consultancy services',\n",
       " 'business essentials',\n",
       " 'manufacturing',\n",
       " 'day trading stocks',\n",
       " 'u.s. dollar',\n",
       " 'nutrition',\n",
       " 'indusind bank',\n",
       " 'bmat',\n",
       " 'bmat08',\n",
       " 'sec',\n",
       " 'agriculture',\n",
       " 'usd/jpy',\n",
       " 'earnings estimate',\n",
       " 'util',\n",
       " 'brokerage results estimates',\n",
       " 'repi:exploration-production',\n",
       " 'cdty',\n",
       " 'interest rate',\n",
       " 'forex markets',\n",
       " 'heca',\n",
       " 'uk',\n",
       " 'shopal',\n",
       " 'products and services',\n",
       " 'goldman sachs',\n",
       " 'inr vs usd',\n",
       " 'roce',\n",
       " 'frx',\n",
       " 'hdfc securities',\n",
       " 'cipla',\n",
       " 'nyse',\n",
       " 'futures and commodities trading',\n",
       " 'delhi ncr news',\n",
       " 'pve',\n",
       " 'mukesh ambani',\n",
       " 'lupin',\n",
       " 'money',\n",
       " 'streaming (reviews)',\n",
       " 'engineering',\n",
       " 'packaging',\n",
       " 'stocks in news',\n",
       " 'iras',\n",
       " 'ipo market',\n",
       " 'kitchen (reviews)',\n",
       " 'brokers',\n",
       " 'coal',\n",
       " 'home ownership',\n",
       " 'psychology',\n",
       " 'government debt',\n",
       " 'imf',\n",
       " 'us dollar rate',\n",
       " 'walmart inc',\n",
       " 'iphone',\n",
       " 'mumbai real estate',\n",
       " 'wordle',\n",
       " 'initial public offering',\n",
       " 'cpi inflation',\n",
       " 'mortgages',\n",
       " 'us stock market',\n",
       " 'ncp',\n",
       " 'taiwan',\n",
       " 'fiscal policy',\n",
       " 'hot',\n",
       " 'isro',\n",
       " 'middle east',\n",
       " 'mktrep',\n",
       " 'ncyc',\n",
       " 'black friday & cyber monday (reviews)',\n",
       " 'rbi policy',\n",
       " 'stock market live updates',\n",
       " 'min',\n",
       " 'nord',\n",
       " 'bank of japan',\n",
       " 'titan',\n",
       " 'food and drink',\n",
       " 'stock market news today',\n",
       " 'world bank',\n",
       " 'arvind kejriwal',\n",
       " 'fmcg',\n",
       " 'european union',\n",
       " 'stock trading strategy & education',\n",
       " 'emkay global financial',\n",
       " 'silver',\n",
       " 'jsw steel',\n",
       " 'exclude from automated curation',\n",
       " 'lgbtq',\n",
       " 'imd',\n",
       " 'london',\n",
       " 'fixed income',\n",
       " 'eur/usd',\n",
       " 'textiles - spinning - cotton blended',\n",
       " 'cru',\n",
       " 'currency',\n",
       " 'budget',\n",
       " 'european central bank',\n",
       " 'ashok leyland',\n",
       " 'natural disasters',\n",
       " 'ceo',\n",
       " 'personal debt',\n",
       " 'trade spotlight',\n",
       " 'multibagger stock',\n",
       " 'mpc',\n",
       " 'diet',\n",
       " 'tglf',\n",
       " 'voting',\n",
       " 'bpcl',\n",
       " 'weekly',\n",
       " 'ccos',\n",
       " 'gold / us dollar spot',\n",
       " 'hea',\n",
       " 'chennai',\n",
       " 'air',\n",
       " 'shop',\n",
       " 'tata group',\n",
       " 'hot stocks',\n",
       " 'emerging markets',\n",
       " 'nbfc',\n",
       " 'insider ownership',\n",
       " 'warner bros discovery inc',\n",
       " 'leadership',\n",
       " 'scandv',\n",
       " 'nfl',\n",
       " 'lawsuits',\n",
       " \"gold comex (apr'23)\",\n",
       " 'sharad pawar',\n",
       " 'coronavirus',\n",
       " 'national security',\n",
       " 'layoffs',\n",
       " 'q2 results',\n",
       " 'latam',\n",
       " 'dip',\n",
       " 'commercial',\n",
       " 'u.s. 2 year treasury',\n",
       " 'markets today',\n",
       " 'ethereum',\n",
       " 'swit',\n",
       " 'pssngr',\n",
       " 'ret',\n",
       " 'government taxation and revenue',\n",
       " 'treasury bills',\n",
       " 'taking stock',\n",
       " 'airs08',\n",
       " 'australian dollar/us dollar fx spot rate',\n",
       " 'buying a home',\n",
       " 'ca',\n",
       " 'tata power',\n",
       " 'top stocks',\n",
       " 'brent oil',\n",
       " 'gvd',\n",
       " 'intraday stocks for today',\n",
       " 'mark zuckerberg',\n",
       " 'breaking news: earnings',\n",
       " 'gen z',\n",
       " 'trd',\n",
       " 'royal family',\n",
       " 'tourism',\n",
       " 'q4 results',\n",
       " 'it sector',\n",
       " 'pune',\n",
       " 'meta',\n",
       " 'car insurance',\n",
       " 'entrepreneurship',\n",
       " 'diversified',\n",
       " 'asean',\n",
       " 'silver rate today',\n",
       " 'beauty',\n",
       " 'moneycontrol selects',\n",
       " 'bank nifty today',\n",
       " 'clc',\n",
       " 'usd',\n",
       " 'government',\n",
       " 'army',\n",
       " 'kerala',\n",
       " 'u.s. treasury bonds',\n",
       " 'short call',\n",
       " 'infographic',\n",
       " 'haryana',\n",
       " 'janet yellen',\n",
       " 'nse stock market',\n",
       " 'bse stock market',\n",
       " 'stock market sensex',\n",
       " 'buy or sell',\n",
       " 'blux',\n",
       " 'gurugram',\n",
       " 'itr filing',\n",
       " 'bitcoin price',\n",
       " 'hindustan unilever',\n",
       " 'holidays',\n",
       " 'brokerage recos - commodities',\n",
       " 'rati:adas-av-safety',\n",
       " 'hyderabad',\n",
       " 'netflix inc',\n",
       " 'war',\n",
       " 'berkshire hathaway inc',\n",
       " 'shipping',\n",
       " 'agri picks',\n",
       " 'fitness',\n",
       " 'union budget 2024',\n",
       " 'cprod',\n",
       " 'rati:sustainable-ev-supply-chain',\n",
       " 'eleav',\n",
       " 'debt',\n",
       " 'retirement',\n",
       " 'international',\n",
       " 'police',\n",
       " 'target corp',\n",
       " 'power - generation & distribution',\n",
       " \"byju's\",\n",
       " 'mine',\n",
       " 'airl',\n",
       " 'warner',\n",
       " 'dating',\n",
       " 'rbi mpc',\n",
       " 'rbi monetary policy',\n",
       " 'cruise',\n",
       " 'repo rate',\n",
       " 'stock picks',\n",
       " 'dividend payments',\n",
       " 'day trading guide',\n",
       " 'silver / us dollar spot',\n",
       " 'treasury notes',\n",
       " 'brent crude oil',\n",
       " 'family finances',\n",
       " 'mc selects',\n",
       " 'rules:results',\n",
       " 'mine08',\n",
       " 'iran',\n",
       " 'it stocks',\n",
       " 'gbp/usd',\n",
       " 'healthcare',\n",
       " 'sun pharma',\n",
       " 'hul',\n",
       " 'electric equipment',\n",
       " 'us fed rate hike',\n",
       " 'institutional ownership',\n",
       " 'uae',\n",
       " 'los angeles',\n",
       " 'green hydrogen',\n",
       " '401(k)',\n",
       " 'san francisco',\n",
       " 'stock market triggers',\n",
       " 'disney world',\n",
       " 'asian games',\n",
       " 'biden',\n",
       " 'royals',\n",
       " 'commodity markets',\n",
       " 'consumer prices',\n",
       " 'tcs share price',\n",
       " 'accumulate',\n",
       " 'metal commodities',\n",
       " 'aap',\n",
       " 'noida',\n",
       " 'dlf',\n",
       " 'federal bank',\n",
       " 'acquisition',\n",
       " 'dividends',\n",
       " 'hdfc bank share price',\n",
       " 'kashmir',\n",
       " 'hollywood',\n",
       " 'gdp growth',\n",
       " 'sme',\n",
       " 'exchange-traded funds',\n",
       " 'savings',\n",
       " 'jio financial services',\n",
       " 'tata motors share',\n",
       " 'ipo listing',\n",
       " 'trending',\n",
       " 'repi:gas',\n",
       " 'ngs',\n",
       " 'platinum / us dollar spot',\n",
       " 'defence',\n",
       " 'vodafone idea',\n",
       " 'itr',\n",
       " 'west bengal',\n",
       " 'rupee rate today',\n",
       " 'jefferies',\n",
       " 'titanic',\n",
       " 'indian market',\n",
       " 'us markets',\n",
       " 'nfo',\n",
       " 'global stock markets',\n",
       " 'financial ratios',\n",
       " 'brokerage calls',\n",
       " 'paper',\n",
       " 'bhel',\n",
       " 'opinion',\n",
       " 'palladium / us dollar spot',\n",
       " 'phmr',\n",
       " 'north america',\n",
       " 'finance minister',\n",
       " 'brazil',\n",
       " 'alphabet class c',\n",
       " 'marketbuzz podcast',\n",
       " 'e-commerce',\n",
       " 'italy',\n",
       " 'aero',\n",
       " 'clj',\n",
       " 'tmc',\n",
       " 'himachal pradesh',\n",
       " 'marvel',\n",
       " 'us economy',\n",
       " 'guide to mutual funds',\n",
       " 'sectors & industries',\n",
       " 'asian paints',\n",
       " 'funding',\n",
       " 'aer',\n",
       " 'precious metals industry',\n",
       " 'precious metal markets',\n",
       " 'mtal',\n",
       " 'mtal08',\n",
       " 'pfizer inc',\n",
       " 'prod',\n",
       " 'zee entertainment',\n",
       " 'weight loss',\n",
       " 'breaking news: asia',\n",
       " 'ultratech cement',\n",
       " 'infrastructure - general',\n",
       " 'brent crude oil prices',\n",
       " 'steel - medium & small',\n",
       " 'market growth',\n",
       " 'odisha',\n",
       " 'make it contributors',\n",
       " 'iser',\n",
       " 'iser08',\n",
       " 'opposition',\n",
       " 'guide to microeconomics',\n",
       " 'oil market today',\n",
       " 'q4 earnings',\n",
       " 'bitcoin etf',\n",
       " 'erep',\n",
       " 'world cup',\n",
       " 'atlanta',\n",
       " 'reliance jio',\n",
       " 'demand',\n",
       " 'iifl securities',\n",
       " 'space industry',\n",
       " 'block deal',\n",
       " 'crude oil markets',\n",
       " 'opening bell',\n",
       " 'nasa',\n",
       " 'bharatiya janata party',\n",
       " 'us inflation',\n",
       " 'crypto',\n",
       " 'financial analysis',\n",
       " 'oil prices early trade',\n",
       " 'share market setup',\n",
       " 'asian market opening',\n",
       " 'global market wrap',\n",
       " 'market outlook',\n",
       " 'rajasthan',\n",
       " 'recession',\n",
       " 'moneycontrol daily',\n",
       " 'weddings',\n",
       " 'ch',\n",
       " 'skipper',\n",
       " 'nba',\n",
       " 'natural gas',\n",
       " 'securities fraud',\n",
       " 'infl',\n",
       " 'new zealand dollar/us dollar fx spot rate',\n",
       " 'credit card',\n",
       " 'ron desantis',\n",
       " 'youtube',\n",
       " 'pharma',\n",
       " 'luxury',\n",
       " 'degrees & certifications',\n",
       " 'usd vs inr',\n",
       " 'carm1',\n",
       " 'tim cook',\n",
       " 'budgeting & savings',\n",
       " 'swiggy',\n",
       " 'wedding',\n",
       " 'portfolio management',\n",
       " 'exercise',\n",
       " 'morning scan',\n",
       " 'silver price today',\n",
       " 'vaishali parekh recommendations',\n",
       " 'acc',\n",
       " 'infosys share',\n",
       " 'larsen & toubro',\n",
       " 'children',\n",
       " 'asian markets this week',\n",
       " 'nl',\n",
       " 'oili',\n",
       " 'oili08',\n",
       " 'cycp',\n",
       " 'cycp08',\n",
       " 'paris']"
      ]
     },
     "execution_count": 187,
     "metadata": {},
     "output_type": "execute_result"
    }
   ],
   "source": [
    "list(sorted_tags.keys())[:1000]"
   ]
  },
  {
   "cell_type": "code",
   "execution_count": 190,
   "id": "cebdf994-099b-4f02-b128-024b0cfcb259",
   "metadata": {
    "tags": []
   },
   "outputs": [],
   "source": [
    "import base64"
   ]
  },
  {
   "cell_type": "code",
   "execution_count": 192,
   "id": "17d10154-d7d4-4177-bfcd-60ae41b23235",
   "metadata": {
    "tags": []
   },
   "outputs": [],
   "source": [
    "# a = {\n",
    "#   \"_id\": {\n",
    "#     \"$oid\": \"656dc4d9ff8e8d9bd0983b41\"\n",
    "#   },\n",
    "#   \"request_id\": \"393c3916-7734-40b5-ac7b-69123367882f\",\n",
    "#   \"article_id\": \"6555c7e34b13023f9348ea91\",\n",
    "#   \"params\": {\n",
    "#     \"do_sample\": true,\n",
    "#     \"top_p\": 0.9,\n",
    "#     \"temperature\": 1,\n",
    "#     \"max_new_tokens\": 1024,\n",
    "#     \"repetition_penalty\": 1.03,\n",
    "#     \"stop\": [\n",
    "#       \"###\",\n",
    "#       \"</s>\",\n",
    "#       \"<|im_end|>\"\n",
    "#     ],\n",
    "#     \"article_id\": \"6555c7e34b13023f9348ea91\"\n",
    "#   },\n",
    "#   \"endpoint\": \"OpenHermes-Finetune-WatermelonSapphireZipline\",\n",
    "#   \"model_finetune_id\": \"OpenHermes_WatermelonSapphireZipline\",\n",
    "#   \"prompt\": \"<|im_start|>system\\nYou are the chief editor for a leading Indian financial and business news website. You evaluate critical attributes of articles to gate keep content quality. For many attributes, you will first provide a brief analysis of 15 to 30 words, followed by assessment.\\n1. analysis_of_financial_or_business_news (short text) : <analyse if article pertains to finance/business or not. government policies directly impacting indian corporations or investors are ok, but not if aren't>\\n2. financial_or_business_news (True or False) : <True or False based on previous attribute>\\n3. analysis_of_relevant_for_india (short text) : <analyse if article is relevant for indians. for example international articles about 401k or small foreign companies won't be relevant for india. however changes to fed interest rates or nasdaq or important news of large multinational corporations will be relevant>\\n4. relevant_for_india (True or False) : <True or False based on previous attribute>\\n5. analysis_of_article_validity_duration (short text) : <analyse relevance duration. Be stingy: Stock fluctuations, 1 day; significant policy changes - few days or a week; educational content with references to any regulations is 30 unless there are none - in which case is timeless. International news in India has shorter lifespan. breaking news are usually not timeless; quarterly analysis or results are usually valid for a 3 days, yearly analysis or results for a weeks and a much longer one for a month.>\\n6. article_validity_duration (one of 1, 3, 7, 14, 30, -1) : <calculate number of days based on previous attribute. -1: timeless. 1: article is relevant only for that day. 3: for a couple of days. 7: for a week. 14: for a couple of weeks. 30: for a month>\\n7. analysis_of_popularity (short text) : <analyse likely popularity of article - if its for niche audience, moderate_popularity or should be part of breaking_news section, depending on number of people who will be impacted by the news and the scale of the event. foreign entities known in india but not very popular will be mostly niche or rarely moderately popular. articles targeted to very specific business or pratices will be niche. infotainment business and financial articles with some drama are likely to be more popular. articles with a list of rules without compelling story-telling will be for niche audience>\\n8. popularity (one of niche, moderately_popular, breaking_news) : <based on previous attribute>\\n9. analysis_of_article_type (short text) : <analyse if the article is majorly factual, is an opinion piece, analysis, educational or likely sponsored. factual articles pass on information on events. opinion pieces have inferences or predictions either from the author or from statements without data. analysis pieces have substantial data to justify their inferences or predictions. if an article is overly zealous on certain stock and seems like an ad, then it is sponsored>\\n10. article_type (one of fact, opinion, analysis, educational, sponsored) : <based on previous attribute>\\n11. analysis_of_article_sentiment (short_text): <analyse if the sentiment of the article is bullish, bearish or NA. balanced is NA>\\n12. article_sentiment (one of bull, bear, na): <based on previous attribute>\\n13. headline_suggestion (short text) : <Write a headline based on the content of the article>\\n14. first_attempt_summary (text of 60 words) : <Generate concise, entity-dense summary. The summary should become highly dense but easily understood without the Article. Don't keep the summary too short, but limit it to no more than 60 words>\\n15. improved_summary (text of 60 words): <Identify contents of the article which are missing from the previous summary but are important part of the article>\\n16. final_summary (text of 60 words): <The finalised summary which is a mixture of first_attempt_summary and improved_summary. This summary should be very dense and also all the important information of the article and yet concise. By reading this in most cases the users need not read the article>\\n17. top_categories (5 semi colon seperated categories): <Hierarchy of 5 categories or keywords. Start with a generic category and make it progressively specific. Select only 5 and seperate them by (;). Don't use either single or double quotes at any cost to avoid json.loads() failure>\\nyour response should be a json structure with all the 17 above keys without missing any key. It is very important that the response is directly readable with json.loads(). no preamble or postamble. respond in the exact following structure:\\n{\\n\\\"analysis_of_financial_or_business_news\\\": \\\"\\\",\\n\\\"financial_or_business_news\\\": \\\"\\\",\\n\\\"analysis_of_relevant_for_india\\\": \\\"\\\",\\n\\\"relevant_for_india\\\": \\\"\\\",\\n\\\"analysis_of_article_validity_duration\\\": \\\"\\\",\\n\\\"article_validity_duration\\\": \\\"\\\",\\n\\\"analysis_of_popularity\\\": \\\"\\\",\\n\\\"popularity\\\": \\\"\\\",\\n\\\"analysis_of_article_type\\\": \\\"\\\",\\n\\\"article_type\\\": \\\"\\\",\\n\\\"analysis_of_article_sentiment\\\": \\\"\\\",\\n\\\"article_sentiment\\\": \\\"\\\",\\n\\\"headline_suggestion\\\": \\\"\\\",\\n\\\"first_attempt_summary\\\": \\\"\\\",\\n\\\"improved_summary\\\": \\\"\\\",\\n\\\"final_summary\\\": \\\"\\\",\\n\\\"top_categories\\\": \\\"\\\"\\n}\\n<|im_end|>\\n<|im_start|>user\\n|article_start|\\n How Buyers Are Financing Holiday Purchases This Year: Despite high inflation trends and concerns about a potential recession shoppers spent at record levels online on Cyber Monday and Black Friday amid a flurry of steep discounts thanks in part to buy now pay later (BNPL) apps. BNPL apps partner with retailers to make it easier for consumers to buy products online then pay for them over time. BNPL orders were up 78% from Nov. 19 to Nov. 25 compared to the week prior according to Adobe Analytics. The firm tracks more than 85% of the top 100 internet retailers in the U.S. About 40% of consumers said they will finance one or more of their holiday purchases this year including with credit cards personal loans and BNPL apps according to a study by LendingTree and PYMTS. And the likelihood that consumers will finance their purchases increases with their financial strain. About 52% of people who reported they live paycheck-to-paycheck or who struggle to pay their bills plan to finance holiday spending. Thanksgiving Holidays Record-Breaking Sales Consumers making purchases online spent a record $11.3 billion on Cyber Monday up from 5.8% from spending on the same day last year according to Adobe Analytics which tracks more than 85% of the top 100 internet retailers in the U.S. Spending on Black Friday hit $9.12 billion up 2.3% from Black Friday last year. Meanwhile shoppers also flocked back to stores in record numbers over the holiday weekend. From Thanksgiving Day to Cyber Monday 19.7 million shoppers returned to in-person shopping according to the National Retail Federation. Overall with both online and in-person shopping a record 196.7 shoppers made purchases over that five-day period up 9% from the same period last year. The NRF had expected 166.3 million shoppers. As inflationary pressures persist consumers have responded by stretching their dollars in any way possible Matthew Shay NRF president and CEO said in a statement. Retailers have responded accordingly offering shoppers a season of buying convenience matching sales and promotions across online and in-store channels.\\n|article_end|\\n<|im_end|>\\n<|im_start|>assistant\\n\",\n",
    "#   \"response\": {\n",
    "#     \"$binary\": {\n",
    "#       \"base64\": ,\n",
    "#       \"subType\": \"00\"\n",
    "#     }\n",
    "#   }\n",
    "# }"
   ]
  },
  {
   "cell_type": "code",
   "execution_count": 193,
   "id": "aa148676-7dc9-499a-bd96-f20423d15347",
   "metadata": {
    "tags": []
   },
   "outputs": [],
   "source": [
    "a = \"W3siZ2VuZXJhdGVkX3RleHQiOiJ7XCJhbmFseXNpc19vZl9hcnRpY2xlX3NlbnRpbWVudFwiOiBcIlRoZSBhcnRpY2xlIHJlcG9ydHMgYSBwb3NpdGl2ZSB0cmVuZCBpbiBvbmxpbmUgc2hvcHBpbmcsIGluZGljYXRpbmcgYSBwb3NpdGl2ZSBtYXJrZXQgb3V0bG9vay5cIiwgXCJhbmFseXNpc19vZl9hcnRpY2xlX3R5cGVcIjogXCJUaGUgYXJ0aWNsZSBpcyBmYWN0LWJhc2VkLCByZXBvcnRpbmcgb24gY29uc3VtZXIgYmVoYXZpb3IgYW5kIHJldGFpbCB0cmVuZHMgZHVyaW5nIGhvbGlkYXkgc2hvcHBpbmcuXCIsIFwiYW5hbHlzaXNfb2ZfYXJ0aWNsZV92YWxpZGl0eV9kdXJhdGlvblwiOiBcIlRoZSBhcnRpY2xlIGRpc2N1c3NlcyBhIHNwZWNpZmljIGV2ZW50IChDeWJlciBNb25kYXkgYW5kIEJsYWNrIEZyaWRheSkgYW5kIHRodXMgaG9sZHMgcmVsZXZhbmNlIGZvciBhIGZldyBkYXlzLlwiLCBcImFuYWx5c2lzX29mX2ZpbmFuY2lhbF9vcl9idXNpbmVzc19uZXdzXCI6IFwiVGhlIGFydGljbGUgZGlzY3Vzc2VzIHRoZSByaXNlIGluIHVzZSBvZiAnQnV5IE5vdyBQYXkgTGF0ZXInIHNjaGVtZXMgaW4gaG9saWRheSBzaG9wcGluZ1wiLCBcImFuYWx5c2lzX29mX3BvcHVsYXJpdHlcIjogXCJUaGlzIGFydGljbGUgY292ZXJzIGhvbGlkYXkgc2hvcHBpbmcgYW5kIHBvcHVsYXIgJ0J1eSBOb3cgUGF5IExhdGVyJyBzY2hlbWVzLCBhIHBvcHVsYXIgdG9waWMgYW1vbmcgSW5kaWFuIGNvbnN1bWVyc1wiLCBcImFuYWx5c2lzX29mX3JlbGV2YW50X2Zvcl9pbmRpYVwiOiBcIkRlc3BpdGUgYmVpbmcgZm9jdXNlZCBvbiBVUywgdGhlIHJpc2Ugb2YgJ0J1eSBOb3cgUGF5IExhdGVyJyBzY2hlbWVzIGNhbiBiZSByZWxldmFudCBmb3IgSW5kaWFuIGNvbnN1bWVycyBhcyB0aGV5IGZpbmQgdGhlbXNlbHZlcyBmaW5hbmNpYWxseSBzdHJhaW5lZCBhbWlkIGluZmxhdGlvbi5cIiwgXCJhcnRpY2xlX3NlbnRpbWVudFwiOiBcImJ1bGxcIiwgXCJhcnRpY2xlX3R5cGVcIjogXCJmYWN0XCIsIFwiYXJ0aWNsZV92YWxpZGl0eV9kdXJhdGlvblwiOiA3LCBcImZpbmFsX3N1bW1hcnlcIjogXCJJbiBhIHJlbWFya2FibGUgaG9saWRheSBzaG9wcGluZyBzZWFzb24sIHRoZSB1c2Ugb2YgJ0J1eSBOb3cgUGF5IExhdGVyJyAoQk5QTCkgc2NoZW1lcyByb3NlLCBkcml2ZW4gYnkgcmVjb3JkLWJyZWFraW5nIEN5YmVyIE1vbmRheSBhbmQgQmxhY2sgRnJpZGF5IHNhbGVzLiBUaGlzIHRyZW5kIHdhcyBtb3N0IHNpZ25pZmljYW50IGFtb25nIHRob3NlIGZpbmFuY2lhbGx5IHN0cmFwcGVkLCB3aXRoIDUyJSBwbGFubmluZyB0byB1c2Ugc3VjaCBtZXRob2RzIHRvIGZ1bmQgdGhlaXIgaG9saWRheSBzaG9wcGluZy4gU2hvcHBlcnMgZW1icmFjZWQgaW4tcGVyc29uIHNob3BwaW5nIGFzIHdlbGwsIHdpdGggMTkuNyBtaWxsaW9uIGN1c3RvbWVycyB2aXNpdGluZyBzdG9yZXMgZHVyaW5nIFRoYW5rc2dpdmluZyB3ZWVrZW5kLlwiLCBcImZpbmFuY2lhbF9vcl9idXNpbmVzc19uZXdzXCI6IHRydWUsIFwiZmlyc3RfYXR0ZW1wdF9zdW1tYXJ5XCI6IFwiSG9saWRheSBzaG9wcGVycyB3ZXJlIGFibGUgdG8gYnV5IG9ubGluZSBvbiBCbGFjayBGcmlkYXkgYW5kIEN5YmVyIE1vbmRheSB0aGFua3MgdG8gdGhlIHJpc2Ugb2YgJ0J1eSBOb3cgUGF5IExhdGVyJyAoQk5QTCkgc2NoZW1lcy4gQWNjb3JkaW5nIHRvIEFkb2JlIEFuYWx5dGljcywgQk5QTCBvcmRlcnMgcm9zZSA3OCUgYmV0d2VlbiBOb3YuIDE5LTI1IGZyb20gdGhlIHByZXZpb3VzIHdlZWsuIExlbmRpbmdUcmVlIGFuZCBQWU1UUyByZXBvcnRlZCB0aGF0IDQwJSBvZiBjb25zdW1lcnMgd291bGQgYmUgdXNpbmcgY3JlZGl0IGNhcmRzLCBwZXJzb25hbCBsb2Fucywgb3IgQk5QTCBzY2hlbWVzIHRvIGZ1bmQgdGhlaXIgaG9saWRheSBzaG9wcGluZywgZXNwZWNpYWxseSB0aG9zZSBmaW5hbmNpYWxseSBzdHJhaW5lZC4gU2hvcHBpbmcgYWxzbyBwaWNrZWQgdXAgaW4gc3RvcmVzLCB3aXRoIDE5LjcgbWlsbGlvbiBzaG9wcGVycyB2aXNpdGluZyBwaHlzaWNhbCBzdG9yZXMuXCIsIFwiaGVhZGxpbmVfc3VnZ2VzdGlvblwiOiBcIkhvbGlkYXkgU2hvcHBpbmcgQm9vbSBXaXRoIFJpc2UgaW4gQnV5IE5vdyBQYXkgTGF0ZXIgU2NoZW1lc1wiLCBcImltcHJvdmVkX3N1bW1hcnlcIjogXCJUaGUgYm9vbSBpbiBvbmxpbmUgc2hvcHBpbmcgZHVlIHRvIGhvbGlkYXkgc2FsZXMgd2FzIGFzc2lzdGVkIGJ5IEJOUEwgc2NoZW1lcy4gT2YgdGhlIDUyJSBvZiBjb25zdW1lcnMgcGxhbm5pbmcgdG8gZnVuZCB0aGVpciBob2xpZGF5IHNob3BwaW5nIHRocm91Z2ggQk5QTCBzY2hlbWVzLCA0MCUgc2FpZCB0aGV5IGRpZCBzbyBiZWNhdXNlIG9mIHRoZWlyIGZpbmFuY2lhbCBzdHJlc3MuIFNob3BwZXJzIGFsc28gcmV0dXJuZWQgdG8gaW4tcGVyc29uIHNob3BwaW5nIG92ZXIgdGhlIGhvbGlkYXkgd2Vla2VuZCB3aXRoIDE5LjcgbWlsbGlvbiBzaG9wcGVycyB2aXNpdGluZyBzdG9yZXMuXCIsIFwicG9wdWxhcml0eVwiOiBcIm1vZGVyYXRlbHlfcG9wdWxhclwiLCBcInJlbGV2YW50X2Zvcl9pbmRpYVwiOiB0cnVlLCBcInRvcF9jYXRlZ29yaWVzXCI6IFwiRmluYW5jZTtSZXRhaWw7T25saW5lIFNob3BwaW5nO0J1eSBOb3cgUGF5IExhdGVyO0NvbnN1bWVyIEJlaGF2aW9yXCJ9In1d\""
   ]
  },
  {
   "cell_type": "code",
   "execution_count": 194,
   "id": "9b8bc3fd-c3d7-4d74-b87c-8e3d46e9174e",
   "metadata": {
    "tags": []
   },
   "outputs": [],
   "source": [
    "binary_data = base64.b64decode(a)"
   ]
  },
  {
   "cell_type": "code",
   "execution_count": 199,
   "id": "5446c604-4967-45b3-91b5-e8c2dc3966e5",
   "metadata": {
    "scrolled": true,
    "tags": []
   },
   "outputs": [
    {
     "data": {
      "text/plain": [
       "{'analysis_of_article_sentiment': 'The article reports a positive trend in online shopping, indicating a positive market outlook.',\n",
       " 'analysis_of_article_type': 'The article is fact-based, reporting on consumer behavior and retail trends during holiday shopping.',\n",
       " 'analysis_of_article_validity_duration': 'The article discusses a specific event (Cyber Monday and Black Friday) and thus holds relevance for a few days.',\n",
       " 'analysis_of_financial_or_business_news': \"The article discusses the rise in use of 'Buy Now Pay Later' schemes in holiday shopping\",\n",
       " 'analysis_of_popularity': \"This article covers holiday shopping and popular 'Buy Now Pay Later' schemes, a popular topic among Indian consumers\",\n",
       " 'analysis_of_relevant_for_india': \"Despite being focused on US, the rise of 'Buy Now Pay Later' schemes can be relevant for Indian consumers as they find themselves financially strained amid inflation.\",\n",
       " 'article_sentiment': 'bull',\n",
       " 'article_type': 'fact',\n",
       " 'article_validity_duration': 7,\n",
       " 'final_summary': \"In a remarkable holiday shopping season, the use of 'Buy Now Pay Later' (BNPL) schemes rose, driven by record-breaking Cyber Monday and Black Friday sales. This trend was most significant among those financially strapped, with 52% planning to use such methods to fund their holiday shopping. Shoppers embraced in-person shopping as well, with 19.7 million customers visiting stores during Thanksgiving weekend.\",\n",
       " 'financial_or_business_news': True,\n",
       " 'first_attempt_summary': \"Holiday shoppers were able to buy online on Black Friday and Cyber Monday thanks to the rise of 'Buy Now Pay Later' (BNPL) schemes. According to Adobe Analytics, BNPL orders rose 78% between Nov. 19-25 from the previous week. LendingTree and PYMTS reported that 40% of consumers would be using credit cards, personal loans, or BNPL schemes to fund their holiday shopping, especially those financially strained. Shopping also picked up in stores, with 19.7 million shoppers visiting physical stores.\",\n",
       " 'headline_suggestion': 'Holiday Shopping Boom With Rise in Buy Now Pay Later Schemes',\n",
       " 'improved_summary': 'The boom in online shopping due to holiday sales was assisted by BNPL schemes. Of the 52% of consumers planning to fund their holiday shopping through BNPL schemes, 40% said they did so because of their financial stress. Shoppers also returned to in-person shopping over the holiday weekend with 19.7 million shoppers visiting stores.',\n",
       " 'popularity': 'moderately_popular',\n",
       " 'relevant_for_india': True,\n",
       " 'top_categories': 'Finance;Retail;Online Shopping;Buy Now Pay Later;Consumer Behavior'}"
      ]
     },
     "execution_count": 199,
     "metadata": {},
     "output_type": "execute_result"
    }
   ],
   "source": [
    "json.loads(json.loads(binary_data)[0]['generated_text'])"
   ]
  },
  {
   "cell_type": "code",
   "execution_count": 189,
   "id": "ea2d19b6-91aa-4864-bf64-2c0425c56bc5",
   "metadata": {
    "tags": []
   },
   "outputs": [
    {
     "data": {
      "text/plain": [
       "10615"
      ]
     },
     "execution_count": 189,
     "metadata": {},
     "output_type": "execute_result"
    }
   ],
   "source": [
    "sorted_tags['business']"
   ]
  },
  {
   "cell_type": "markdown",
   "id": "5b418102-8b03-48ed-bc99-b5b36bb0d797",
   "metadata": {},
   "source": [
    "### Getting llm attributes"
   ]
  },
  {
   "cell_type": "code",
   "execution_count": 160,
   "id": "9ab12638-78c5-4356-aa83-ba39dbc6b2c3",
   "metadata": {
    "tags": []
   },
   "outputs": [],
   "source": [
    "from sql.PostgresDatabaseOperation import PostgresDatabaseOperation"
   ]
  },
  {
   "cell_type": "code",
   "execution_count": 161,
   "id": "0bd67754-0bd8-4bd4-a9f5-02e9e31ba8c6",
   "metadata": {
    "tags": []
   },
   "outputs": [],
   "source": [
    "with PostgresDatabaseOperation() as cursor:\n",
    "    sql = 'SELECT * FROM llm_article_attributes'\n",
    "    cursor.execute(sql)\n",
    "    results = cursor.fetchall()"
   ]
  },
  {
   "cell_type": "code",
   "execution_count": 177,
   "id": "7221bdbc-36c6-4289-8c41-46f796eaf144",
   "metadata": {
    "tags": []
   },
   "outputs": [],
   "source": [
    "cols = '''\"id\",\"article_id\"\t\"financial_news\"\t\"relevant_for_india\"\t\"validity_duration\"\t\"expected_popularity\"\t\"article_type\"\t\"sentiment\"\t\"model_finetune_id\"\t\"created_at\"\t\"updated_at\"\t\"interest_score\"\t\"headline_score\"\t\"novelty_score\"\t\"emotional_score\"\t\"india_flag\"'''\n",
    "\n",
    "cols = cols.replace('\\t',',')\n",
    "\n",
    "cols = [str(x).replace('\"','') for x in cols.split(',')]\n",
    "\n",
    "import pandas as pd\n",
    "\n",
    "article_attributes = pd.DataFrame(results,columns=cols)\n",
    "\n",
    "valid_fin_articles = article_attributes[(article_attributes['financial_news'] == True) & (article_attributes['relevant_for_india']==True)]"
   ]
  },
  {
   "cell_type": "code",
   "execution_count": 178,
   "id": "153d3a57-370c-4b95-8d5e-f7c7f07f2ddf",
   "metadata": {
    "tags": []
   },
   "outputs": [
    {
     "data": {
      "text/plain": [
       "167765"
      ]
     },
     "execution_count": 178,
     "metadata": {},
     "output_type": "execute_result"
    }
   ],
   "source": [
    "len(valid_fin_articles)"
   ]
  },
  {
   "cell_type": "code",
   "execution_count": 232,
   "id": "5b72e99a-0722-4b16-af72-0aab68a07dda",
   "metadata": {
    "tags": []
   },
   "outputs": [],
   "source": [
    "llm_responses = MongoDBArticle.fetch_all_llm_responses()"
   ]
  },
  {
   "cell_type": "code",
   "execution_count": 16,
   "id": "c3c056de-ba89-446e-9528-efe1f5c51500",
   "metadata": {
    "scrolled": true,
    "tags": []
   },
   "outputs": [
    {
     "data": {
      "text/plain": [
       "'title: XIRR vs CAGR: Which is the right way to calculate mutual fund returns? | Mint. published_date: 2023-10-19T11:42:31+05:30. content:  Before you start investing in the mutual funds, you should ideally examine the past returns of all the schemes that you want to invest into. And since there are a number of ways to calculate the past returns, you should opt for the one that suits you the most. For instance, XIRR and CAGR are among the two most preferred parameters that are used to calculate the returns on various investment products including mutual fund returns. Most investors get confused as to which parameter should one go for. Why should one measure the return on investment on their mutual fund investment in the first place? To find this out we have to\\xa0explore XIRR and CAGR in detail to understand which method is the right way to calculate mutual fund returns. What is XIRR? XIRR\\xa0stands for extended internal rate of return. It is a method that is used to calculate the annualised return on investment when cash flows happen at irregular intervals. It takes into account all cash inflows and outflows, along with the dates on which they occur, to calculate the annual rate of return. XIRR considers the timing and amount of each cash flow, making it a more accurate method for investments with irregular cash flows. What is CAGR? CAGR\\xa0stands for\\xa0Compound Annual Growth Rate and is a method that is used to calculate the annualised return on investment when cash flows occur at regular intervals. It assumes a constant rate of growth over a specific period and calculates the average rate of return during that period. CAGR is useful for understanding the growth rate of an investment over time and is commonly used for long-term investments like mutual funds. XIRR vs CAGR XIRR is commonly used when evaluating mutual funds with irregular cash flows. This could be the case when an investor makes additional investments or withdrawals at different points in time. XIRR takes into account the timing and amount of each cash flow, providing a more accurate measure of the annualised return. It accounts for the compounding effect of investing or withdrawing funds at different periods, making it useful for comparing returns of funds with different investment patterns. CAGR, on the other hand, is commonly used when evaluating mutual funds with regular cash flows. It assumes a constant rate of growth over a specific period, making it ideal for comparing funds that have a consistent investment pattern. CAGR provides a simplified measure of the average annual return over a specified time period, making it useful for long-term investment analysis. Dev Ashish, a SEBI registered investment advisor, and Founder, StableInvestor , says, “ While CAGR can be used to calculate returns from lumpsum investment in mutual funds, it is advisable to use XIRR for calculating returns from periodic (non lump sum) investments like SIP. Suppose you invest ₹ 1 lakh lump sum in 2017. After 5 years, the value of this becomes ₹ 2 lakh in 2022. In this case we use CAGR to calculate returns from lumpsum investments. This comes to 14.87% CAGR.\" Mukesh Vijayvergia, Founder of Nishkaera Financial Advisory and Wealth Management, echoes the same sentiments. “While CAGR measures the annualised compounded return on investment for a certain period, assuming reinvestment of profits; XIRR measures the average return earned by the investor after factoring in periodic cash flows separately during the stipulated period,\" Vijayvergia says. Which one to choose? When it comes to calculating mutual fund returns, it is important to choose the method that suits the investment pattern and cash flow behaviour of the fund. If the fund has irregular cash flows, such as additional investments or withdrawals at different points in time, XIRR is the preferred method. It provides a more accurate measure of the annualised return, accounting for the timing and amount of each cash flow. On the other hand, if the fund has regular cash flows and a constant growth rate, CAGR is the preferred method. It gives a simplified measure of the average annual return over a specified time period, making it suitable for long-term investment analysis. In conclusion, XIRR and CAGR are both important tools for calculating returns on mutual funds, but they serve different purposes. XIRR is useful for investments with irregular cash flows, while CAGR is suitable for investments with regular cash flows. By understanding the strengths and limitations of each method, investors can make better-informed decisions and accurately calculate returns on their mutual funds. '"
      ]
     },
     "execution_count": 16,
     "metadata": {},
     "output_type": "execute_result"
    }
   ],
   "source": [
    "text[2]"
   ]
  },
  {
   "cell_type": "code",
   "execution_count": 124,
   "id": "fc043afb-d57f-4bfd-88f9-aeaba845bb77",
   "metadata": {
    "tags": []
   },
   "outputs": [
    {
     "data": {
      "text/plain": [
       "230113"
      ]
     },
     "execution_count": 124,
     "metadata": {},
     "output_type": "execute_result"
    }
   ],
   "source": [
    "len(docs)"
   ]
  },
  {
   "cell_type": "code",
   "execution_count": 8,
   "id": "967c4d32-05f2-44a5-ab5f-007670f958db",
   "metadata": {
    "tags": []
   },
   "outputs": [],
   "source": [
    "article_ids = MongoDBArticle.fetch_all_document_ids()"
   ]
  },
  {
   "cell_type": "code",
   "execution_count": 10,
   "id": "09371eae-eb5f-4c13-adfe-fadc6fb4e40b",
   "metadata": {
    "tags": []
   },
   "outputs": [],
   "source": [
    "article_docs = MongoDBArticle.fetch_documents_by_ids(article_ids)"
   ]
  },
  {
   "cell_type": "code",
   "execution_count": 11,
   "id": "3c560bf4-e2fd-4cfc-9673-637fd97f0398",
   "metadata": {
    "tags": []
   },
   "outputs": [],
   "source": [
    "from src.Article import Article"
   ]
  },
  {
   "cell_type": "code",
   "execution_count": 12,
   "id": "46c74dc6-1862-4787-a993-bb6cb18500f5",
   "metadata": {
    "tags": []
   },
   "outputs": [],
   "source": [
    "articles = {}\n",
    "for id, article in article_docs.items():\n",
    "    articles[id] = Article.from_dict(article)"
   ]
  },
  {
   "cell_type": "markdown",
   "id": "9b9de8ff-736e-42fa-84f1-a115d418921b",
   "metadata": {},
   "source": [
    "### Calling server for results"
   ]
  },
  {
   "cell_type": "code",
   "execution_count": 6,
   "id": "55e4202a-6028-486b-ad18-7d026d0d984c",
   "metadata": {
    "tags": []
   },
   "outputs": [],
   "source": [
    "import requests\n",
    "import json"
   ]
  },
  {
   "cell_type": "code",
   "execution_count": 7,
   "id": "e5a7cb75-25c5-4c88-9456-880012088b78",
   "metadata": {
    "tags": []
   },
   "outputs": [],
   "source": [
    "r = requests.post('http://hubble-env.eba-pguqm8s4.ap-south-1.elasticbeanstalk.com/search_query', json={'query_text': 'what is xirr'})"
   ]
  },
  {
   "cell_type": "code",
   "execution_count": 5,
   "id": "c98f5662-6cfb-4922-ac62-984f29c89e75",
   "metadata": {
    "tags": []
   },
   "outputs": [],
   "source": [
    "from datetime import datetime"
   ]
  },
  {
   "cell_type": "code",
   "execution_count": 6,
   "id": "c4ded145-3ba6-4fca-9781-8253a8928062",
   "metadata": {
    "tags": []
   },
   "outputs": [],
   "source": [
    "def get_max_published_date(max_date):\n",
    "    if not max_date:\n",
    "        # Get the current date and time\n",
    "        now = datetime.now()\n",
    "        # Replace the time part with 23:59:59\n",
    "        end_of_day = now.replace(hour=23, minute=59, second=59, microsecond=0)\n",
    "        # Convert to a string (e.g., 'YYYY-MM-DD 23:59:59')\n",
    "        date_string = end_of_day.strftime('%Y-%m-%d %H:%M:%S')\n",
    "        return date_string\n",
    "    else:\n",
    "        return max_date + ' 23:59:59'"
   ]
  },
  {
   "cell_type": "code",
   "execution_count": 7,
   "id": "24b82ba9-3e59-4c21-9f77-c059b6a7212c",
   "metadata": {
    "tags": []
   },
   "outputs": [
    {
     "data": {
      "text/plain": [
       "'2024-01-06 23:59:59'"
      ]
     },
     "execution_count": 7,
     "metadata": {},
     "output_type": "execute_result"
    }
   ],
   "source": [
    "get_max_published_date('2024-01-06')"
   ]
  },
  {
   "cell_type": "code",
   "execution_count": 8,
   "id": "806e5657-7cb3-4823-a1fc-d620e5cae408",
   "metadata": {
    "tags": []
   },
   "outputs": [
    {
     "data": {
      "text/plain": [
       "'2024-01-25 23:59:59'"
      ]
     },
     "execution_count": 8,
     "metadata": {},
     "output_type": "execute_result"
    }
   ],
   "source": [
    "get_max_published_date(None)"
   ]
  },
  {
   "cell_type": "code",
   "execution_count": 39,
   "id": "0ecfa6cc-50fe-4870-95d4-c6e0dbb89c13",
   "metadata": {
    "tags": []
   },
   "outputs": [
    {
     "data": {
      "text/plain": [
       "False"
      ]
     },
     "execution_count": 39,
     "metadata": {},
     "output_type": "execute_result"
    }
   ],
   "source": [
    "'2024-01-08T15:31:25+05:30' > get_max_published_date('2024-01-12')"
   ]
  },
  {
   "cell_type": "code",
   "execution_count": 11,
   "id": "3b424fb0-1fd0-43c6-97d7-6b8812677d3d",
   "metadata": {
    "scrolled": true,
    "tags": []
   },
   "outputs": [],
   "source": [
    "best_results = [x['article_id'] for x in json.loads(r.text)['searchArticleIds'][:5]]"
   ]
  },
  {
   "cell_type": "markdown",
   "id": "35817c46-bc19-426b-b577-e09fdabd3ec2",
   "metadata": {},
   "source": [
    "### Getting articles from s3"
   ]
  },
  {
   "cell_type": "code",
   "execution_count": 2,
   "id": "341b900b-100f-48c8-a119-3f5bd9308d40",
   "metadata": {
    "tags": []
   },
   "outputs": [],
   "source": [
    "from src.ArticleService import ArticleService"
   ]
  },
  {
   "cell_type": "code",
   "execution_count": 24,
   "id": "bc9e5aa5-1896-43c3-bcbd-1355b6a6d5f5",
   "metadata": {
    "tags": []
   },
   "outputs": [],
   "source": [
    "text = []\n",
    "for article_id in best_results:\n",
    "    cur_text = ArticleService.get_article_content_from_s3(article_id)\n",
    "    cur_words = cur_text.split(' ')[:384]\n",
    "    cur_text = ' '.join(cur_words)\n",
    "    text.append(cur_text)"
   ]
  },
  {
   "cell_type": "code",
   "execution_count": 95,
   "id": "51e6c770-10e4-494c-8927-77bb2f2c22db",
   "metadata": {
    "tags": []
   },
   "outputs": [
    {
     "data": {
      "text/plain": [
       "'title: What is XIRR in Mutual Funds: Calculation & Formula in Excel. published_date: 2023-02-13T11:50:00+00:00. content: XIRR or Extended Internal Rate of Return helps calculate the return on mutual fund investments made through SIP (Systematic Investment Plan). CEO of Navi Mutual Fund, Hari Shyamsunder says, “Your investments should always be compared against a possible alternative. But to make that comparison, you must understand the basic concept of XIRR.” This article is a beginner’s guide to understanding the XIRR meaning in mutual funds, its importance and the calculation of your SIP returns. Read on! What is XIRR in Mutual Funds? XIRR Meaning – XIRR (Extended Internal Rate of Return) can be defined as a computation method for calculating returns of mutual fund investments at irregular intervals. It can also be defined as a single rate of return which can be applicable for every instalment and redemption. You can use it to have an understanding of the current value of all your investments. When you invest in a scheme via SIP (Systematic Investment Plan) , you need to pay multiple instalments. You can easily calculate the returns of these investments with the help of IRR (Internal Rate of Return), but, you need to make sure that the time frame between the consecutive cash flows remains the same.The XIRR method simplifies the entire process of calculating returns even in the case of irregular investments. You can simply use an excel sheet to calculate your investment returns. Here, the XIRR formula will modify the IRR and enable you to allocate separate dates to individual cash flows. XIRR Formula and Calculation To calculate XIRR in mutual funds, you have to insert the transactions (additional purchases, SIP/SWP instalments, redemption) and the corresponding dates in the designated place in an MS Excel sheet. These transaction details will be available in the statement of account sent by the AMC (Asset Management Company) . To calculate a mutual fund’s XIRR, you can use the XIRR formula in MS Excel: “= XIRR (values, dates, guess)” Here, you have to insert cash outflows (lump-sum purchases and SIP instalments) as negative values (i.e. put a minus sign before the amount) and cash inflows (dividends, SWP, redemptions) as positive values. ‘Guess’ is an optional input. It is considered to be 0.1 by default. If you have not redeemed your mutual fund units, then, to calculate XIRR, you have to enter the current investment value with the NAV (Net Asset Value) of your mutual fund investment. Do not include transactions like dividend reinvestment because they do not involve actual cash flows. Moreover, if you are calculating the XIRR at the level of schemes, then switches should be treated as redemption. But, if you are calculating XIRR in mutual funds as portfolio level, then switches are not relevant in the calculation. Also Read How to Use SIP CAGR Calculator to Estimate Returns on Mutual Fund Investments? Best Low-Risk Mutual Funds Example of XIRR Calculation in Excel Here is an example of a six-month SIP to calculate XIRR in mutual funds: SIP amount = Rs.5,000 SIP investment dates: Start on 01-01-2017, End on 01-06-2017 Date of redemption: 01-07-2017 Maturity sum = Rs.31,000 Let’s assume cash flows as mentioned in the table below: 01/01/2017 -5000 03/02/2017 -5000 01/03/2017 -5000 11/04/2017 -5000 01/05/2017 -5000 25/06/2017 -5000 01-07-2017 31000 XIRR 11.92429 Let’s take a look at the calculation part below: In the left column, all the dates are mentioned. The right column includes your SIP instalments of Rs.5,000. It is marked as negative owing to the outflow of cash. In the left column, you can find the redemption date. Just beside that, there is a redemption amount of Rs.31,000. Use the XIRR formula: Insert the range of cells that represent the transaction values. After that, enter the series of payment dates with respect to the value of the cash flows. You will have your XIRR value of 11.92 %, as mentioned in the table. Why is XIRR Accurate for Mutual Funds? Let us assume that you had started investing in a scheme via a monthly SIP of Rs.15,000 and then continued the investment for 5 years. Supposed, after 5 years, the value of the investment grew to Rs.12 lakh. Here, the annual return of the first month’s instalment will be different from the rest as it had remained invested for the maximum number of months. In simpler words, the CAGR of each instalment will differ as their investment period will be different. Analysing the performance of a mutual fund will become complicated when you look at the CAGRs of these instalments. To make the task easier, all the CAGRs are adjusted together to a common CAGR which is then considered as a mutual fund’s XIRR. XIRR vs CAGR – Can we use CAGR Instead of XIRR? This is a common misconception that CAGR and XIRR are the same. CAGR is the accurate calculation of returns on every instalment, which doesn’t take inflows and outflows into consideration. In contrast, XIRR means the overall average of the CAGRs and takes into account every inflow & outflow of cash. Here are some simplified pointers to make their differences obvious: XIRR CAGR XIRR meaning is an average annualised return. CAGR is the absolute annualised return. XIRR takes into account every cash inflow and outflow. CAGR is calculated only considering the initial value, absolute value and investment tenure. XIRR is calculated when there are multiple cash flows; hence, it can be good for SIP investments. CAGR is ideal for lump-sum investments . XIRR means an average of every return earned by each cash flow during tenure. CAGR is the compounded growth rate. Final Word XIRR is the most comprehensive way of determining your returns in case of multiple transactions, especially when your investment time is irregular. In other words, allocating your money to mutual funds via an SIP will lead to cash outflows and cash inflows. In such cases, the time of investment also plays a significant role in the calculation of the returns. To that end, the role of Extended Internal Rate of Return (XIRR) in SIP becomes essential. If you’re looking to explore diverse low-cost funds, check out Navi Mutual Fund . Download the Navi app to start SIP at just Rs.10 per month. Disclaimer: Mutual Fund investments are subject to market risks, read all scheme related documents carefully. FAQs What is the formula of XIRR? If you wish to calculate XIRR in mutual funds, you need to enter all transactions and dates in corresponding columns in an MS Excel sheet. Then, you have to enter the following formula: “= XIRR (values, dates, guess). Cash outflows have to be entered as negative outflows and cash inflows as positive. What is the formula of CAGR? The formula for CAGR is as follows: CAGR ={(Ending balance/beginning balance)^1/n} – 1 Where, beginning balance = Investment value at the beginning of the investment period Ending balance = Investment value at the end of your investment N = Total number of years you have invested in a mutual fund What is IRR? IRR (Internal Rate of Return) is described as a discounting cash flow technique which provides the rate of return that a mutual fund has earned. Here, both the discounted cash inflow and the total initial cash outlay are equal to zero. Is XIRR better than IRR? IRR is used to determine returns against investments made at fixed intervals. But investments and redemptions are never regular. In that case, XIRR is the right choice. What is SIP in mutual funds? A SIP or Systematic Invest Plan is a tool to invest in mutual funds. It is a systematic way to invest a fixed sum of money in a periodical manner. It is also a very safe way to invest. What is XIRR in NPS or National Pension Scheme? Return on Investments for National Pension Scheme gives the annualised effective compounded return rate in the PRAN account and is calculated using the formula of XIRR. The calculation is done considering all the contribution/redemptions processed in the PRAN account since inception and the latest valuation of the investments. What is XIRR Return? XIRR Return is the returns on your mutual fund investments made at irregular intervals, like SIP investments. XIRR calculates the CAGR of every SIP investment made. These are then added together to give you the overall CAGR. Which is better – CAGR or XIRR? CAGR gives you the value of your annual return over a period of time longer than one year. But in the case of calculating returns on frequent investments or cash flows during different time periods, such a method is not apt as it does not consider multiple cash flows. In such cases, XIRR is an ideal option. Does the XIRR function work monthly in Excel? The XIRR function in MS Excel always computes an annualised IRR even if an individual calculates returns on weekly/monthly cash flows. What is XIRR Full Form? XIRR stands for Extended Internal Rate of Return. Before you go… Want to put your savings into action and kick-start your investment journey 💸 But don’t have time to do research? Invest now with Navi Nifty 50 Index Fund , sit back, and earn from the top 50 companies. Disclaimer: Mutual Fund investments are subject to market risks, read all scheme-related documents carefully. This article has been prepared on the basis of internal data, publicly available information and other sources believed to be reliable. The information contained in this article is for general purposes only and not a complete disclosure of every material fact. It should not be construed as investment advice to any party. The article does not warrant the completeness or accuracy of the information and disclaims all liabilities, losses and damages arising out of the use of this information. Readers shall be fully liable/responsible for any decision taken on the basis of this article. Latest Webstories Update your Aadhaar card details online for free before June 14, 2023 30 March 2023 6 Investment Tips From Raamdeo Agarwal You Cannot Ignore! 7 Creative Home Decor Ideas to Transform Your Space Finance Bill 2023 Highlights A Tribute to Stock Market Expert: Ashwani Gujral Ram Navami 2023: 6 Life Lessons to Learn From Lord Rama 23 March 2023 11 Facts You Didn’t Know About the Man Behind Chaptgpt: Sam Altman 1 March 2023 6 Best Nifty Next 50 Funds to Invest in 2023 27 February 2023 7 Best Investment Apps in India 2023 A HERtorical Investment: The Mahila Samman Savings Certificate'"
      ]
     },
     "execution_count": 95,
     "metadata": {},
     "output_type": "execute_result"
    }
   ],
   "source": [
    "ArticleService.get_article_content_from_s3('6555b4c34b13023f9348b7a5')"
   ]
  },
  {
   "cell_type": "code",
   "execution_count": 16,
   "id": "f840eb47",
   "metadata": {
    "scrolled": true,
    "tags": []
   },
   "outputs": [
    {
     "data": {
      "text/plain": [
       "'title: XIRR vs CAGR: Which is the right way to calculate mutual fund returns? | Mint. published_date: 2023-10-19T11:42:31+05:30. content:  Before you start investing in the mutual funds, you should ideally examine the past returns of all the schemes that you want to invest into. And since there are a number of ways to calculate the past returns, you should opt for the one that suits you the most. For instance, XIRR and CAGR are among the two most preferred parameters that are used to calculate the returns on various investment products including mutual fund returns. Most investors get confused as to which parameter should one go for. Why should one measure the return on investment on their mutual fund investment in the first place? To find this out we have to\\xa0explore XIRR and CAGR in detail to understand which method is the right way to calculate mutual fund returns. What is XIRR? XIRR\\xa0stands for extended internal rate of return. It is a method that is used to calculate the annualised return on investment when cash flows happen at irregular intervals. It takes into account all cash inflows and outflows, along with the dates on which they occur, to calculate the annual rate of return. XIRR considers the timing and amount of each cash flow, making it a more accurate method for investments with irregular cash flows. What is CAGR? CAGR\\xa0stands for\\xa0Compound Annual Growth Rate and is a method that is used to calculate the annualised return on investment when cash flows occur at regular intervals. It assumes a constant rate of growth over a specific period and calculates the average rate of return during that period. CAGR is useful for understanding the growth rate of an investment over time and is commonly used for long-term investments like mutual funds. XIRR vs CAGR XIRR is commonly used when evaluating mutual funds with irregular cash flows. This could be the case when an investor makes additional investments or withdrawals at different points in time. XIRR takes into account the timing and amount of each cash flow, providing a more accurate measure of the annualised return. It accounts for the compounding effect of investing or withdrawing funds at different periods, making it useful for comparing returns of funds with different investment patterns. CAGR, on the other hand, is commonly used when evaluating mutual funds with regular cash flows. It assumes a constant rate of growth over a specific period, making it ideal for comparing funds that have a consistent investment pattern. CAGR provides a simplified measure of the average annual return over a specified time period, making it useful for long-term investment analysis. Dev Ashish, a SEBI registered investment advisor, and Founder, StableInvestor , says, “ While CAGR can be used to calculate returns from lumpsum investment in mutual funds, it is advisable to use XIRR for calculating returns from periodic (non lump sum) investments like SIP. Suppose you invest ₹ 1 lakh lump sum in 2017. After 5 years, the value of this becomes ₹ 2 lakh in 2022. In this case we use CAGR to calculate returns from lumpsum investments. This comes to 14.87% CAGR.\" Mukesh Vijayvergia, Founder of Nishkaera Financial Advisory and Wealth Management, echoes the same sentiments. “While CAGR measures the annualised compounded return on investment for a certain period, assuming reinvestment of profits; XIRR measures the average return earned by the investor after factoring in periodic cash flows separately during the stipulated period,\" Vijayvergia says. Which one to choose? When it comes to calculating mutual fund returns, it is important to choose the method that suits the investment pattern and cash flow behaviour of the fund. If the fund has irregular cash flows, such as additional investments or withdrawals at different points in time, XIRR is the preferred method. It provides a more accurate measure of the annualised return, accounting for the timing and amount of each cash flow. On the other hand, if the fund has regular cash flows and a constant growth rate, CAGR is the preferred method. It gives a simplified measure of the average annual return over a specified time period, making it suitable for long-term investment analysis. In conclusion, XIRR and CAGR are both important tools for calculating returns on mutual funds, but they serve different purposes. XIRR is useful for investments with irregular cash flows, while CAGR is suitable for investments with regular cash flows. By understanding the strengths and limitations of each method, investors can make better-informed decisions and accurately calculate returns on their mutual funds. '"
      ]
     },
     "execution_count": 16,
     "metadata": {},
     "output_type": "execute_result"
    }
   ],
   "source": [
    "text[2]"
   ]
  },
  {
   "cell_type": "code",
   "execution_count": 3,
   "id": "d3c8dab7-9630-4c73-a401-8b790fe9c70c",
   "metadata": {
    "tags": []
   },
   "outputs": [],
   "source": [
    "a = ArticleService.get_article_content_from_s3('659bd5c24b25ce4814fb5155')"
   ]
  },
  {
   "cell_type": "code",
   "execution_count": 21,
   "id": "66cb3ab7-0c54-418a-9147-d9fd2b50b30f",
   "metadata": {
    "tags": []
   },
   "outputs": [],
   "source": [
    "from datetime import datetime"
   ]
  },
  {
   "cell_type": "code",
   "execution_count": 4,
   "id": "269f0e95-e3b5-4fb8-aa94-25a474b41d76",
   "metadata": {
    "scrolled": true,
    "tags": []
   },
   "outputs": [
    {
     "data": {
      "text/plain": [
       "\"title: Top Gainers and Losers today on 8 January, 2024: Adani Ports & Special Economic Zone, HCL Technologies, UPL, State Bank Of India among most active stocks; Check full list here | Mint. published_date: 2024-01-08T16:03:17+05:30. content:  The Nifty index closed at 21710.8, down by 0.91%, with a day high of 21763.95 and a low of 21492.9. The Sensex traded between 72181.77 and 71301.04, closing 0.93% down at 72026.15, which was 670.93 points below the opening price. The Nifty Midcap 50 underperformed the Nifty 50, closing 1.27% down. However, the Nifty small cap 100 outperformed the Nifty 50, ending at 15438.85 down by 96.3 points and 0.62% lower. The Nifty 50 has shown the following returns: - In the last 1 Week: -1.08% - In the last 1 Month: 2.57% - In the last 3 Months: 10.22% - In the last 6 Months: 11.11% - In the last 1 Year: 18.82% The top gainers in the Nifty index were Adani Ports & Special Economic Zone (up 1.26%), HCL Technologies (up 1.05%), Oil & Natural Gas Corporation (up 0.69%), Sun Pharmaceutical Industries (up 0.52%), and NTPC (up 0.48%). On the other hand, the top losers in the Nifty index were UPL (down 3.50%), State Bank Of India (down 2.33%), SBI Life Insurance Company (down 2.28%), Divis Laboratories (down 2.01%), and Britannia Industries (down 1.80%). The Bank Nifty ended at 48159.0, with an intraday high of 48154.5 and a low of 47387.35. The Bank Nifty performance in the last periods is as follows: - In the last 1 Week: -1.61% - In the last 1 Month: 0.41% - In the last 3 Months: 8.13% - In the last 6 Months: 5.79% - In the last 1 Year: 11.44% Here is the list of top gainers and losers in different indices during the trading session on 08 Jan, 2024: - Sensex: - Top Gainers: HCL Technologies (up 1.02%), Sun Pharmaceutical Industries (up 0.44%), NTPC (up 0.43%), Power Grid Corporation Of India (up 0.39%), and Bajaj Finance (up 0.38%) - Top Losers: State Bank Of India (down 2.31%), ITC (down 1.80%), NESTLE INDIA ORD (down 1.79%), Asian Paints (down 1.76%), and Tech Mahindra (down 1.76%) - Nifty: - Top Gainers: Adani Ports & Special Economic Zone (up 1.26%), HCL Technologies (up 1.05%), Oil & Natural Gas Corporation (up 0.69%), Sun Pharmaceutical Industries (up 0.52%), and NTPC (up 0.48%) - Top Losers: UPL (down 3.50%), State Bank Of India (down 2.33%), SBI Life Insurance Company (down 2.28%), Divis Laboratories (down 2.01%), and Britannia Industries (down 1.80%) - Nifty MidCap 50: - Top Gainers: Hindustan Petroleum Corporation, Escorts Kubota, HDFC Asset Management Company, Power Finance Corp, and Gujarat Gas Company - Top Losers: Bandhan Bank, Indus Towers, Max Financial Services, Jubilant Foodworks, and Godrej Properties - Nifty Small Cap 100: - Top Gainers: Alok Industries, Century Textiles & Industries, TV18 Broadcast, M M T C, and Suzlon Energy - Top Losers: Hindustan Copper, Sun Pharma Advanced Research Com, PVR Inox, Jubilant Ingrevia, and Chemplast Sanmar - BSE: - Top Gainers: Alok Industries (up 9.99%), Garware Technical Fibres (up 9.60%), Gillette India (up 8.40%), Network 18 Media & Investments (up 7.79%), and Century Textiles & Industries (up 6.23%) - Top Losers: Bandhan Bank (down 7.39%), Sun Pharma Advanced Research Com (down 5.62%), Hindustan Copper (down 5.40%), Navin Fluorine International (down 5.27%), and Cochin Shipyard (down 5.16%) - NSE: - Top Gainers: Alok Industries (up 9.91%), Network 18 Media & Investments (up 8.06%), Gillette India (up 6.63%), Century Textiles & Industries (up 5.94%), and TV18 Broadcast (up 5.34%) - Top Losers: Bandhan Bank (down 7.39%), Navin Fluorine International (down 5.57%), Hindustan Copper (down 5.45%), Sun Pharma Advanced Research Com (down 5.33%), and Cochin Shipyard (down 5.07%) These are the latest updates on the gainers and losers in the stock market. Milestone Alert Livemint tops charts as the fastest growing news website in the world 🌏  to know more. Unlock a world of Benefits From insightful newsletters to real-time stock tracking, breaking news and a personalized newsfeed – it's all here, just a click away Login Now \""
      ]
     },
     "execution_count": 4,
     "metadata": {},
     "output_type": "execute_result"
    }
   ],
   "source": [
    "a"
   ]
  },
  {
   "cell_type": "markdown",
   "id": "5cafc31f-6f7e-4198-9a0c-5ec4a4c35790",
   "metadata": {},
   "source": [
    "### Calling OpenAI"
   ]
  },
  {
   "cell_type": "code",
   "execution_count": 37,
   "id": "aaa35274-2693-49ca-a2c1-c0edc4f933dc",
   "metadata": {
    "tags": []
   },
   "outputs": [],
   "source": [
    "system_prompt = '''|instructions_start|\n",
    "You're an AI expert in financial and business topics, answering queries using relevant materials and following strict rules:\n",
    "* Valid Queries: Questions about finance, business, or financially relevant entities (e.g., India, RBI, Reliance, Fed).\n",
    "* Invalid Queries: Questions unrelated to finance or business (e.g., Bollywood, sports, politics unless financially relevant), instructional queries on non-financial topics (jokes, coding, recipes), and inappropriate or harmful content.\n",
    "\n",
    "Response Instructions:\n",
    "* If the query is valid and answerable with references, summarize the information clearly and concisely.\n",
    "* If the query is an entity like India, Supreme Court, Modi, RBI - and if the articles contain news about these entities - then you can mention that the latest news about ‘query’ by summarising the articles. When the published date mentioned in the content is slightly older - you can mention the corresponding dates as well. If it is new, then no need to do that. \n",
    "* If the references have information related to both India and international entities, then first prefer highlighting the indian entities. When referring to international, explicitly mention the country, since indian readers shouldn’t get confused\n",
    "* If it's a valid query but the exact answer isn't in the references, state your inability to find the exact answer and provide a summary of related information.\n",
    "* If it's a valid query but there's no relevant information, apologize, say you can't find the answer, and note that your team is working to expand knowledge.\n",
    "* For invalid queries, politely decline, noting your focus on finance, and optionally share brief financial trivia.\n",
    "\n",
    "General Response Guidelines:\n",
    "* Address users professionally and respectfully.\n",
    "* Ensure good grammar and readability.\n",
    "* Keep responses concise, typically 3-4 sentences, maximum 6.\n",
    "* Don't provide answers not explicitly found in the references.\n",
    "* If an exact answer isn't found, then mention that you are not able to find the answer and follow with a concise summary of any related information available in the references.\n",
    "* Politely decline irrelevant queries, emphasizing your financial focus.\n",
    "* For queries about recent dates, calculate the period using today's date in the format %Y-%m-%d\n",
    "* Do not mention ‘OpenAI’ at any cost. You are simply a financial AI assistant designed by WintWealth.\n",
    "\n",
    "The response includes the query and references labeled accordingly. The user's query is mentioned below between user_query and |query_end|\n",
    "'''"
   ]
  },
  {
   "cell_type": "code",
   "execution_count": 38,
   "id": "c2cdd752-3110-4c88-ad22-187f1e1b8f37",
   "metadata": {
    "tags": []
   },
   "outputs": [],
   "source": [
    "def create_prompt_for_query_references(search_query, references):\n",
    "    today_date_string = f\"today's date: {datetime.now().strftime('%Y-%m-%d')}\"\n",
    "    query_string = f\"user_query: {search_query} |query_end| \"\n",
    "    references_string = ''\n",
    "    for i in range(len(references)):\n",
    "        references_string += f'reference {i}: {references[i]} \\n\\n'\n",
    "    return system_prompt + today_date_string + '|instructions_end| ' + query_string + references_string"
   ]
  },
  {
   "cell_type": "code",
   "execution_count": 70,
   "id": "5d3ad979-d35a-40d2-abe9-f9797a6dfe8a",
   "metadata": {
    "scrolled": true,
    "tags": []
   },
   "outputs": [],
   "source": [
    "ins = create_prompt_for_query_references('what is today sensex', text)"
   ]
  },
  {
   "cell_type": "code",
   "execution_count": 43,
   "id": "1a610f1b-1a71-40ad-be9e-be4c8e0a5569",
   "metadata": {
    "tags": []
   },
   "outputs": [],
   "source": [
    "from openai import OpenAI\n",
    "\n",
    "client = OpenAI(api_key='')"
   ]
  },
  {
   "cell_type": "code",
   "execution_count": 143,
   "id": "e2a1d92f-e1ef-410d-9101-64b3142614ee",
   "metadata": {
    "tags": []
   },
   "outputs": [],
   "source": [
    "model = 'gpt-4-0125-preview'\n",
    "# model = 'gpt-3.5-turbo-1106'"
   ]
  },
  {
   "cell_type": "code",
   "execution_count": 73,
   "id": "ceede8a9-7709-4649-b70f-0011093034eb",
   "metadata": {
    "tags": []
   },
   "outputs": [],
   "source": [
    "# class TokenIterator:\n",
    "#     def __init__(self, stream):\n",
    "#         self.byte_iterator = iter(stream)\n",
    "#         self.buffer = io.BytesIO()\n",
    "#         self.read_pos = 0\n",
    "\n",
    "#     def __iter__(self):\n",
    "#         return self\n",
    "\n",
    "#     def __next__(self):\n",
    "#         while True:\n",
    "#             self.buffer.seek(self.read_pos)\n",
    "#             line = self.buffer.readline()\n",
    "#             if line and line[-1] == ord(\"\\n\"):\n",
    "#                 self.read_pos += len(line) + 1\n",
    "#                 full_line = line[:-1].decode(\"utf-8\")\n",
    "#                 line_data = json.loads(full_line.lstrip(\"data:\").rstrip(\"/n\"))\n",
    "#                 return line_data[\"token\"][\"text\"]\n",
    "#             chunk = next(self.byte_iterator)\n",
    "#             self.buffer.seek(0, io.SEEK_END)\n",
    "#             self.buffer.write(chunk[\"PayloadPart\"][\"Bytes\"])\n",
    "import io\n",
    "import json\n",
    "\n",
    "class TokenIterator:\n",
    "    def __init__(self, stream):\n",
    "        self.byte_iterator = iter(stream)\n",
    "        self.buffer = io.BytesIO()\n",
    "        self.read_pos = 0\n",
    "\n",
    "    def __iter__(self):\n",
    "        return self\n",
    "\n",
    "    def __next__(self):\n",
    "        while True:\n",
    "            self.buffer.seek(self.read_pos)\n",
    "            line = self.buffer.readline()\n",
    "            if line and line[-1] == ord(\"\\n\"):\n",
    "                self.read_pos += len(line)\n",
    "                # Decode and parse the JSON line, removing the expected prefix and suffix\n",
    "                full_line = line[:-1].decode(\"utf-8\")\n",
    "                line_data = json.loads(full_line.lstrip(\"data:\").rstrip(\"\\n\"))\n",
    "                return line_data[\"token\"][\"text\"]\n",
    "\n",
    "            # Retrieve the next chunk and write its bytes to the buffer\n",
    "            chunk = next(self.byte_iterator)\n",
    "\n",
    "            # Extracting the specific bytes from the chunk\n",
    "            bytes_to_write = chunk.choices[0].delta.content\n",
    "\n",
    "            self.buffer.seek(0, io.SEEK_END)\n",
    "            self.buffer.write(bytes_to_write)"
   ]
  },
  {
   "cell_type": "code",
   "execution_count": 141,
   "id": "c61c7e13-01bb-42ca-807a-2476a172f565",
   "metadata": {
    "scrolled": true,
    "tags": []
   },
   "outputs": [],
   "source": [
    "res = client.chat.completions.create(model = model, messages = [{'role': 'system', 'content': ''}, {'role': 'user', 'content': ins}], stream=False)\n",
    "# for chunk in res:\n",
    "#     current_content = chunk.choices[0].delta.content\n",
    "#     if current_content:\n",
    "#         print(current_content)\n",
    "    # cur_str = chunk.choices[0].delta.content\n",
    "    # if cur_str:\n",
    "    #     print(cur_str)"
   ]
  },
  {
   "cell_type": "code",
   "execution_count": 142,
   "id": "796af8fe-8210-401c-8f12-329a38a2496a",
   "metadata": {
    "tags": []
   },
   "outputs": [
    {
     "data": {
      "text/plain": [
       "\"I'm sorry, but I cannot provide the latest sensex value as the information is not available in the provided references. However, I can share that the calculation of XIRR (Extended Internal Rate of Return) helps in understanding the returns on mutual fund investments, especially when transactions occur at irregular intervals. It accounts for individual cash flows on different dates, providing a more accurate method of calculating returns. If you have any more financial queries, feel free to ask!\""
      ]
     },
     "execution_count": 142,
     "metadata": {},
     "output_type": "execute_result"
    }
   ],
   "source": [
    "res.choices[0].message.content"
   ]
  },
  {
   "cell_type": "code",
   "execution_count": 136,
   "id": "1df61d6e-942c-4781-9eec-1a401a69e42e",
   "metadata": {
    "tags": []
   },
   "outputs": [
    {
     "data": {
      "text/plain": [
       "ChatCompletion(id='chatcmpl-8l5Tbmfs9KUerX2svJmaanAK72T5w', choices=[Choice(finish_reason='stop', index=0, logprobs=None, message=ChatCompletionMessage(content=\"I'm unable to find the specific information on today's Sensex movements or values within the references provided. For real-time updates or today's numbers, I would recommend checking a reliable financial news website or a stock market tracking platform. My resources are limited to the information provided in the references, which do not include current stock market updates.\", role='assistant', function_call=None, tool_calls=None))], created=1706233159, model='gpt-4-1106-preview', object='chat.completion', system_fingerprint='fp_376b7f78b9', usage=CompletionUsage(completion_tokens=67, prompt_tokens=3059, total_tokens=3126))"
      ]
     },
     "execution_count": 136,
     "metadata": {},
     "output_type": "execute_result"
    }
   ],
   "source": [
    "res"
   ]
  },
  {
   "cell_type": "code",
   "execution_count": 139,
   "id": "f7c2b942-0edf-4922-b546-318c1aadaebd",
   "metadata": {
    "tags": []
   },
   "outputs": [
    {
     "data": {
      "text/plain": [
       "0.09378"
      ]
     },
     "execution_count": 139,
     "metadata": {},
     "output_type": "execute_result"
    }
   ],
   "source": [
    "3126 * 0.03/1000"
   ]
  },
  {
   "cell_type": "code",
   "execution_count": 138,
   "id": "e43a6dbb-d35f-4924-8cdd-08e07744e77c",
   "metadata": {
    "tags": []
   },
   "outputs": [
    {
     "data": {
      "text/plain": [
       "300.0"
      ]
     },
     "execution_count": 138,
     "metadata": {},
     "output_type": "execute_result"
    }
   ],
   "source": [
    "0.03 * 10000"
   ]
  },
  {
   "cell_type": "code",
   "execution_count": 54,
   "id": "a41184f0-aba7-4cc7-ab95-96741878aad0",
   "metadata": {
    "tags": []
   },
   "outputs": [],
   "source": [
    "res = client.chat.completions.create(model = model, messages = [{'role': 'system', 'content': ''}, {'role': 'user', 'content': ins}])"
   ]
  },
  {
   "cell_type": "code",
   "execution_count": 55,
   "id": "79e97891-6542-4a16-9eb5-f847586ff69c",
   "metadata": {
    "tags": []
   },
   "outputs": [
    {
     "data": {
      "text/plain": [
       "\"The XIRR or Extended Internal Rate of Return is a method for calculating the return on mutual fund investments, especially those that involve irregular transactions, such as investments via a Systematic Investment Plan (SIP). It serves as a way to understand the actual rate of return on investments that have varying cash flow timings, allowing you to compare your existing investments with potential alternatives. XIRR considers the timing of each cash outflow (like purchases and SIP instalments) and cash inflow (like dividends and redemptions), providing a more precise measurement of the annualized return than methods suited for regular intervals, such as CAGR.\\n\\nTo calculate XIRR, financial transactions and their corresponding dates are input into a formula in Microsoft Excel: `=XIRR(values, dates, [guess])`. In this formula, 'values' refer to the cash flows (negative for outflows, positive for inflows), 'dates' correspond to when the cash flows take place, and 'guess' is an optional estimate of the return rate, with a default of 10% if omitted.\\n\\nThis method is particularly useful for mutual fund investments made at different times and amounts, as it accurately reflects the complexities associated with such investments.\""
      ]
     },
     "execution_count": 55,
     "metadata": {},
     "output_type": "execute_result"
    }
   ],
   "source": [
    "res.choices[0].message.content"
   ]
  },
  {
   "cell_type": "code",
   "execution_count": null,
   "id": "c26612f4-32e5-497e-ad8d-42f73157f717",
   "metadata": {},
   "outputs": [],
   "source": []
  },
  {
   "cell_type": "code",
   "execution_count": 106,
   "id": "6b4cf531-bc7d-491c-bc4b-af4d3994f721",
   "metadata": {
    "tags": []
   },
   "outputs": [],
   "source": [
    "r = requests.post('http://hubble-env.eba-pguqm8s4.ap-south-1.elasticbeanstalk.com/search_query', json={'query_text': 'top stocks to invest in india right now'})"
   ]
  },
  {
   "cell_type": "code",
   "execution_count": 107,
   "id": "1e57b261-38f9-4da2-8459-710d8b53254f",
   "metadata": {
    "scrolled": true,
    "tags": []
   },
   "outputs": [
    {
     "data": {
      "text/plain": [
       "[{'article_id': '65a62a493c864051fa47ec19'},\n",
       " {'article_id': '65683383207bb033b910ee35'},\n",
       " {'article_id': '6565c8b039bfc8784efe5b49'},\n",
       " {'article_id': '657aa8833a7a250d32265356'},\n",
       " {'article_id': '6555cc8f4b13023f934aa448'},\n",
       " {'article_id': '656e02799994965ac4b4b4e6'},\n",
       " {'article_id': '6555cbcc4b13023f934a1901'},\n",
       " {'article_id': '65316f821e5cc42b1b1404ab'},\n",
       " {'article_id': '656e925a9994965ac4b4d683'},\n",
       " {'article_id': '65a4d8b7ea435f28caee4ed7'},\n",
       " {'article_id': '65316f791e5cc42b1b140252'},\n",
       " {'article_id': '6555cbfb4b13023f934a3ad5'},\n",
       " {'article_id': '65316fae1e5cc42b1b141184'},\n",
       " {'article_id': '6555cc1f4b13023f934a53fa'},\n",
       " {'article_id': '65316fd11e5cc42b1b141db1'},\n",
       " {'article_id': '6555cc634b13023f934a8628'},\n",
       " {'article_id': '65316efc1e5cc42b1b13eb65'},\n",
       " {'article_id': '657fb5d58f821120f67a0986'},\n",
       " {'article_id': '6531688a1e5cc42b1b13af29'},\n",
       " {'article_id': '65316f021e5cc42b1b13ec1e'},\n",
       " {'article_id': '65316f911e5cc42b1b1408a9'},\n",
       " {'article_id': '65a91ec26391ac19baa842e5'},\n",
       " {'article_id': '65316ed91e5cc42b1b13e825'},\n",
       " {'article_id': '65a91e706391ac19baa83e7c'},\n",
       " {'article_id': '65a91da76391ac19baa833b6'},\n",
       " {'article_id': '653680311e5cc42b1b14425d'},\n",
       " {'article_id': '65316ff21e5cc42b1b142aec'},\n",
       " {'article_id': '659f920816132c1a4274852c'},\n",
       " {'article_id': '6536802e1e5cc42b1b144217'},\n",
       " {'article_id': '6555cbe64b13023f934a2ba5'},\n",
       " {'article_id': '6572f749cbb3242a0060e841'},\n",
       " {'article_id': '653680241e5cc42b1b144104'},\n",
       " {'article_id': '65a91b896391ac19baa816d9'},\n",
       " {'article_id': '6536800a1e5cc42b1b143eaf'},\n",
       " {'article_id': '653680271e5cc42b1b144167'},\n",
       " {'article_id': '65a91d136391ac19baa82bad'},\n",
       " {'article_id': '65a921116391ac19baa862ee'},\n",
       " {'article_id': '65a9209f6391ac19baa85cb9'},\n",
       " {'article_id': '6571c35525cc9a343f03fad5'},\n",
       " {'article_id': '6555b5104b13023f9348b917'},\n",
       " {'article_id': '65a91d126391ac19baa82ba3'},\n",
       " {'article_id': '656e925c9994965ac4b4d6a8'},\n",
       " {'article_id': '65316f5a1e5cc42b1b13fafb'},\n",
       " {'article_id': '6536800f1e5cc42b1b143f23'},\n",
       " {'article_id': '653680111e5cc42b1b143f5a'},\n",
       " {'article_id': '6555cb654b13023f9349d299'},\n",
       " {'article_id': '65316fdb1e5cc42b1b1421b7'},\n",
       " {'article_id': '6555b4d64b13023f9348b803'},\n",
       " {'article_id': '6555b4a54b13023f9348b6f8'},\n",
       " {'article_id': '65a91da96391ac19baa833ca'},\n",
       " {'article_id': '6555b55e4b13023f9348bb16'},\n",
       " {'article_id': '65a904d46391ac19baa815d8'},\n",
       " {'article_id': '6555c7e64b13023f9348eb8a'},\n",
       " {'article_id': '65367fea1e5cc42b1b143ccf'},\n",
       " {'article_id': '6555b5a14b13023f9348bdd4'},\n",
       " {'article_id': '6555b5d24b13023f9348c10e'},\n",
       " {'article_id': '6555ca914b13023f934947d4'},\n",
       " {'article_id': '6536802d1e5cc42b1b1441f9'},\n",
       " {'article_id': '653169191e5cc42b1b13cfa6'},\n",
       " {'article_id': '6536801b1e5cc42b1b14401b'},\n",
       " {'article_id': '6536802a1e5cc42b1b1441a7'},\n",
       " {'article_id': '6555b51f4b13023f9348b979'},\n",
       " {'article_id': '6536802f1e5cc42b1b144236'},\n",
       " {'article_id': '653680161e5cc42b1b143fac'},\n",
       " {'article_id': '6536800f1e5cc42b1b143f1c'},\n",
       " {'article_id': '6536800c1e5cc42b1b143edc'},\n",
       " {'article_id': '6555b5714b13023f9348bbe0'},\n",
       " {'article_id': '653680131e5cc42b1b143f74'},\n",
       " {'article_id': '6555b4b54b13023f9348b759'},\n",
       " {'article_id': '6536802b1e5cc42b1b1441cc'},\n",
       " {'article_id': '6536802f1e5cc42b1b144240'},\n",
       " {'article_id': '6536802b1e5cc42b1b1441ca'},\n",
       " {'article_id': '6555b4c64b13023f9348b7b3'},\n",
       " {'article_id': '653680301e5cc42b1b144254'},\n",
       " {'article_id': '65367fce1e5cc42b1b143be1'},\n",
       " {'article_id': '653680221e5cc42b1b1440cb'},\n",
       " {'article_id': '6555b52d4b13023f9348b9bf'},\n",
       " {'article_id': '653680051e5cc42b1b143e64'},\n",
       " {'article_id': '6555b5464b13023f9348ba50'},\n",
       " {'article_id': '6555b5644b13023f9348bb57'},\n",
       " {'article_id': '6536802e1e5cc42b1b14421e'},\n",
       " {'article_id': '653680301e5cc42b1b144251'},\n",
       " {'article_id': '6555b54a4b13023f9348ba7a'},\n",
       " {'article_id': '653680131e5cc42b1b143f81'},\n",
       " {'article_id': '653680101e5cc42b1b143f3c'},\n",
       " {'article_id': '6536802d1e5cc42b1b1441f7'},\n",
       " {'article_id': '653680311e5cc42b1b144265'},\n",
       " {'article_id': '6555b5ce4b13023f9348c083'},\n",
       " {'article_id': '653680171e5cc42b1b143fbc'},\n",
       " {'article_id': '653680311e5cc42b1b144263'},\n",
       " {'article_id': '65367fd41e5cc42b1b143c00'},\n",
       " {'article_id': '6555cc124b13023f934a4ac7'},\n",
       " {'article_id': '653680311e5cc42b1b144270'},\n",
       " {'article_id': '653680081e5cc42b1b143e92'},\n",
       " {'article_id': '6555cccc4b13023f934ad40c'},\n",
       " {'article_id': '653680281e5cc42b1b14416e'},\n",
       " {'article_id': '6536802c1e5cc42b1b1441eb'},\n",
       " {'article_id': '6536802a1e5cc42b1b1441a5'},\n",
       " {'article_id': '6536801d1e5cc42b1b144050'},\n",
       " {'article_id': '6571c28425cc9a343f0393fb'}]"
      ]
     },
     "execution_count": 107,
     "metadata": {},
     "output_type": "execute_result"
    }
   ],
   "source": [
    "json.loads(r.text)['searchArticleIds']"
   ]
  },
  {
   "cell_type": "code",
   "execution_count": 96,
   "id": "c77980ef-3dcd-4472-af2a-9f04b45fff3c",
   "metadata": {
    "tags": []
   },
   "outputs": [],
   "source": [
    "r1 = requests.get('http://hubble-env.eba-pguqm8s4.ap-south-1.elasticbeanstalk.com/summarize_search', params={'query': 'what is xirr','ids': '6555b4c34b13023f9348b7a5,652fcb091e5cc42b1b13a13e,6530d40c1e5cc42b1b13a6cf'})"
   ]
  },
  {
   "cell_type": "code",
   "execution_count": 97,
   "id": "150a09d9-07f1-498a-a8ca-c978149997ef",
   "metadata": {
    "tags": []
   },
   "outputs": [
    {
     "data": {
      "text/plain": [
       "\"XIRR, which stands for Extended Internal Rate of Return, is a method for calculating the return on investment for transactions that do not occur at regular intervals, such as those in mutual funds through a Systematic Investment Plan (SIP). It allows for the consideration of each individual cash flow along with the specific dates they occur, which gives a more accurate annualized rate of return for investments with irregular cash flows. The XIRR function is available in Microsoft Excel and can accommodate cash flows (both inflows and outflows) of varying amounts and at different times. It is particularly useful when comparing returns of investments that have different patterns of cash flows, such as additional investments or withdrawals made at various points in time. The formula provided in Microsoft Excel for XIRR is “= XIRR (values, dates, [guess])”, where 'values' refer to an array of cash flows, 'dates' correspond to the series of dates when the cash flows occurred, and 'guess' is an optional argument for an initial estimate of the return rate. \\n\\nThis financial measure is deemed more accurate than CAGR (Compound Annual Growth Rate) for scenarios with irregular investments or withdrawals because it accounts for the timing of each transaction.\""
      ]
     },
     "execution_count": 97,
     "metadata": {},
     "output_type": "execute_result"
    }
   ],
   "source": [
    "r1.text"
   ]
  },
  {
   "cell_type": "code",
   "execution_count": 89,
   "id": "0d0fc4d9-102b-442e-b79c-876d73d3c5c9",
   "metadata": {
    "tags": []
   },
   "outputs": [
    {
     "data": {
      "text/plain": [
       "['6555b4c34b13023f9348b7a5',\n",
       " '652fcb091e5cc42b1b13a13e',\n",
       " '6530d40c1e5cc42b1b13a6cf']"
      ]
     },
     "execution_count": 89,
     "metadata": {},
     "output_type": "execute_result"
    }
   ],
   "source": [
    "'6555b4c34b13023f9348b7a5,652fcb091e5cc42b1b13a13e,6530d40c1e5cc42b1b13a6cf'.split(',')"
   ]
  },
  {
   "cell_type": "code",
   "execution_count": 88,
   "id": "c118a516-0867-43b9-ad08-7f49f8c138a1",
   "metadata": {
    "tags": []
   },
   "outputs": [
    {
     "data": {
      "text/plain": [
       "''"
      ]
     },
     "execution_count": 88,
     "metadata": {},
     "output_type": "execute_result"
    }
   ],
   "source": [
    "r1.text"
   ]
  },
  {
   "cell_type": "code",
   "execution_count": 86,
   "id": "e052adbe-2fba-4118-aff9-04fc3af2481d",
   "metadata": {
    "tags": []
   },
   "outputs": [],
   "source": [
    "r2 = requests.get('http://streaming-sample-app-env.eba-5panndpt.ap-south-1.elasticbeanstalk.com/completion')"
   ]
  },
  {
   "cell_type": "code",
   "execution_count": 87,
   "id": "e91298c3-e81b-4009-a0d5-14672b6771c4",
   "metadata": {
    "tags": []
   },
   "outputs": [
    {
     "data": {
      "text/plain": [
       "'   The concept of reversing entropy is a part of the field of thermodynamics and is connected to the second law of thermodynamics. The second law of thermodynamis founds on the concept that the entropy or the total energy of a system tends to increase over time. It is also linked with the concept of the flow of heat from a hot body to a cooler one. When heat flows from a hot body to a cooler one it is termed as heat transfer and it is a process that is naturally initiated and follows the path of the natural gradient of temperature. Heating and cooling are natural processes that happen naturally and entropy tends to increase naturally. However there are certain instances where entropy can be reversed. These are the cases when the natural flow of heat is interrupted or reversed through a suitable device. These devices are called Heat pumps. These are devices that can reverse the direction of the flow of heat. They can remove heat from a low-temperature body and transfer it to a higher-temperature body. These devices can also work in reverse and can pull heat from a cold body and transfer it to a hot body. The working of these devices is based on the concept of compressing and expanding of the working fluid. The working fluid is compressed and the work done during the compression is transferred to the working fluid. The work done on the working fluid results in raising the temperature of the working fluid. The heat is transferred to the working fluid from the external body. The heat transfer is happening from a low-temperature body to a higher-temperature body. The heat transfer is reversed if the working fluid is expanded and the work done during the expansion is transferred back to the working fluid. The working fluid then loses its energy and the transfer of energy occurs in the opposite direction from a low-temperature body to a higher-temperature body. The working fluid has to be compressed and expanded for the reversing of the flow of heat. Reversing the flow of heat is possible only through a suitable device like a Heat pump. There are certain conditions in which the flow of heat cannot be reversed. In such cases the concept of Entropy cannot be reversed. Entropy can only be reversed in the case of a Heat pump. \\n<|im_end|>'"
      ]
     },
     "execution_count": 87,
     "metadata": {},
     "output_type": "execute_result"
    }
   ],
   "source": [
    "r2.text"
   ]
  },
  {
   "cell_type": "code",
   "execution_count": null,
   "id": "dd9d3af3-010e-4cb7-a59e-041198d81a1f",
   "metadata": {},
   "outputs": [],
   "source": []
  }
 ],
 "metadata": {
  "kernelspec": {
   "display_name": "recoenv",
   "language": "python",
   "name": "recoenv"
  },
  "language_info": {
   "codemirror_mode": {
    "name": "ipython",
    "version": 3
   },
   "file_extension": ".py",
   "mimetype": "text/x-python",
   "name": "python",
   "nbconvert_exporter": "python",
   "pygments_lexer": "ipython3",
   "version": "3.11.5"
  }
 },
 "nbformat": 4,
 "nbformat_minor": 5
}
