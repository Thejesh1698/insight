{
 "cells": [
  {
   "cell_type": "markdown",
   "id": "f97a0798-a605-451a-b34c-437efa8d9cce",
   "metadata": {},
   "source": [
    "### To try the Openhermes GPTQ + qlora adapter for RAG"
   ]
  }
 ],
 "metadata": {
  "kernelspec": {
   "display_name": "llms",
   "language": "python",
   "name": "llms"
  },
  "language_info": {
   "codemirror_mode": {
    "name": "ipython",
    "version": 3
   },
   "file_extension": ".py",
   "mimetype": "text/x-python",
   "name": "python",
   "nbconvert_exporter": "python",
   "pygments_lexer": "ipython3",
   "version": "3.11.4"
  }
 },
 "nbformat": 4,
 "nbformat_minor": 5
}
