{
 "cells": [
  {
   "cell_type": "code",
   "execution_count": 1,
   "id": "5a6dac16-1634-4d3c-9098-e49c9288f7f6",
   "metadata": {
    "tags": []
   },
   "outputs": [
    {
     "data": {
      "text/plain": [
       "'AmazonSageMaker-ExecutionRole-20231030T210397'"
      ]
     },
     "execution_count": 1,
     "metadata": {},
     "output_type": "execute_result"
    }
   ],
   "source": [
    "import boto3\n",
    "iam = boto3.client('iam')\n",
    "response = iam.list_roles()\n",
    "sagemaker_roles = [role for role in response['Roles'] if 'SageMaker' in role['RoleName']]\n",
    "sagemaker_roles[0]['RoleName']"
   ]
  },
  {
   "cell_type": "code",
   "execution_count": 2,
   "id": "95c76f25-fab3-4ab7-aaf8-baefdc1a02e1",
   "metadata": {
    "tags": []
   },
   "outputs": [
    {
     "name": "stdout",
     "output_type": "stream",
     "text": [
      "sagemaker.config INFO - Not applying SDK defaults from location: /Library/Application Support/sagemaker/config.yaml\n",
      "sagemaker.config INFO - Not applying SDK defaults from location: /Users/ravi.tej/Library/Application Support/sagemaker/config.yaml\n"
     ]
    },
    {
     "name": "stderr",
     "output_type": "stream",
     "text": [
      "Couldn't call 'get_role' to get Role ARN from role name ravi_tej to get Role path.\n"
     ]
    },
    {
     "name": "stdout",
     "output_type": "stream",
     "text": [
      "sagemaker role arn: arn:aws:iam::005418323977:role/service-role/AmazonSageMaker-ExecutionRole-20231030T210397\n",
      "sagemaker bucket: sagemaker-ap-south-1-005418323977\n",
      "sagemaker session region: ap-south-1\n"
     ]
    }
   ],
   "source": [
    "import sagemaker\n",
    "import boto3\n",
    "sess = sagemaker.Session()\n",
    "sagemaker_session_bucket=None\n",
    "if sagemaker_session_bucket is None and sess is not None:\n",
    "    sagemaker_session_bucket = sess.default_bucket()\n",
    "try:\n",
    "    role = sagemaker.get_execution_role()\n",
    "except ValueError:\n",
    "    iam = boto3.client('iam')\n",
    "    role = iam.get_role(RoleName='AmazonSageMaker-ExecutionRole-20231030T210397')['Role']['Arn']\n",
    "sess = sagemaker.Session(default_bucket=sagemaker_session_bucket)\n",
    "print(f\"sagemaker role arn: {role}\")\n",
    "print(f\"sagemaker bucket: {sess.default_bucket()}\")\n",
    "print(f\"sagemaker session region: {sess.boto_region_name}\")"
   ]
  },
  {
   "cell_type": "code",
   "execution_count": 3,
   "id": "828cf10e-8a00-496f-9ba4-74502640b7d9",
   "metadata": {
    "tags": []
   },
   "outputs": [],
   "source": [
    "import pandas as pd\n",
    "import numpy as np\n",
    "import json\n",
    "\n",
    "import re\n",
    "from transformers import AutoTokenizer\n",
    "from random import randint\n",
    "import sys\n",
    "sys.path.append(\"../utils\")\n",
    "from pack_dataset import pack_dataset\n",
    "from datasets import Dataset\n",
    "\n",
    "import requests"
   ]
  },
  {
   "cell_type": "code",
   "execution_count": 4,
   "id": "70d611bf-d4dc-4c24-96a4-79f30628374f",
   "metadata": {
    "tags": []
   },
   "outputs": [],
   "source": [
    "tokenizer_model_id = 'teknium/OpenHermes-2.5-Mistral-7B'"
   ]
  },
  {
   "cell_type": "code",
   "execution_count": 5,
   "id": "4720285c-8974-449e-9f87-087c8f0b4d13",
   "metadata": {
    "tags": []
   },
   "outputs": [
    {
     "name": "stderr",
     "output_type": "stream",
     "text": [
      "Special tokens have been added in the vocabulary, make sure the associated word embeddings are fine-tuned or trained.\n",
      "Special tokens have been added in the vocabulary, make sure the associated word embeddings are fine-tuned or trained.\n"
     ]
    }
   ],
   "source": [
    "# model_id = \"TheBloke/OpenHermes-2.5-Mistral-7B-AWQ\"\n",
    "tokenizer = AutoTokenizer.from_pretrained(tokenizer_model_id, trust_remote_code=True)"
   ]
  },
  {
   "cell_type": "code",
   "execution_count": 6,
   "id": "3a8a96a6-fad9-47c6-8fc3-1ba0d2309ba7",
   "metadata": {
    "tags": []
   },
   "outputs": [],
   "source": [
    "cleaned_responses = pd.read_csv('cleaned_gpt_responses-6-feb.csv')"
   ]
  },
  {
   "cell_type": "code",
   "execution_count": 8,
   "id": "8ec25648-86f6-419c-b16c-e7c0b388af9c",
   "metadata": {
    "tags": []
   },
   "outputs": [],
   "source": [
    "new_system_prompt = '''You are the chief editor for an indian finance and business portal. You answer valid inquiries using relevant articles you've found for the query. Valid queries pertain to finance, business, or entities like India, RBI, Reliance, Fed, etc. All other queries are invalid. You encounter 3 scenarios with specific response guidelines:\n",
    "Case 1: The query is valid and answerable with available articles.\n",
    "Response instructions:\n",
    "* Provide answers with a headline, then 3 to 6 points, each starting with an emoji and a bolded label, followed by the point.\n",
    "* Format: <Headline \\n\\n emoji1 label1: point1 \\n\\n emoji2 label2: point2 \\n\\n…>. Begin with a headline, then list points. Separate points with \\n\\n.\n",
    "* Each point must be brief, answer a unique aspect of the query, and highly relevant.\n",
    "* Begin with the most important point. Points collectively should fully address the query.\n",
    "* Numbers and dates in points must match those in the articles.\n",
    "* The Emoji and the label should be highly relevant to the point and the query. Use only professional emojis. No underscores or programming symbols in labels.\n",
    "* Headlines should be 5 to 15 words, tailored to the query.\n",
    "Case 2: The query is valid, but no exact answer is found in the articles.\n",
    "Response instructions: Apologize and state that you are not able to find the exact answer\n",
    "Case 3: The query is invalid.\n",
    "Response instructions: Politely decline, noting the focus on finance and business.\n",
    "General Guidelines:\n",
    "*Only use information from the articles.\n",
    "*If the article is dated, mention the period; if very recent or from today, no need to specify.\n",
    "*Be concise and direct in responses, following the instructions based on the query's case and the articles. Relevant articles to answer the query are in JSON format: {article_0: {‘title’: ‘’, ‘published_date’: ‘’, ‘content’: ‘’} || ...}'''"
   ]
  },
  {
   "cell_type": "code",
   "execution_count": 9,
   "id": "c9e30a1c-c214-42ce-b765-c826bbfe95c4",
   "metadata": {
    "tags": []
   },
   "outputs": [
    {
     "data": {
      "text/plain": [
       "458"
      ]
     },
     "execution_count": 9,
     "metadata": {},
     "output_type": "execute_result"
    }
   ],
   "source": [
    "len(tokenizer.encode(new_system_prompt))"
   ]
  },
  {
   "cell_type": "code",
   "execution_count": 10,
   "id": "e83fabc4-5043-412d-9b38-96c0107f7566",
   "metadata": {
    "tags": []
   },
   "outputs": [
    {
     "data": {
      "text/plain": [
       "[1, 28705, 13]"
      ]
     },
     "execution_count": 10,
     "metadata": {},
     "output_type": "execute_result"
    }
   ],
   "source": [
    "tokenizer.encode('\\n')"
   ]
  },
  {
   "cell_type": "code",
   "execution_count": 11,
   "id": "5ca4bdc9-21c7-4d29-8903-daface7ec9de",
   "metadata": {
    "tags": []
   },
   "outputs": [
    {
     "data": {
      "text/plain": [
       "[1, 523, 1473, 28767]"
      ]
     },
     "execution_count": 11,
     "metadata": {},
     "output_type": "execute_result"
    }
   ],
   "source": [
    "tokenizer.encode('<br>')"
   ]
  },
  {
   "cell_type": "markdown",
   "id": "90a539c5-e26a-4d65-b39a-59d7f87801ec",
   "metadata": {},
   "source": [
    "### Formatting the responses to \\n from <br>"
   ]
  },
  {
   "cell_type": "code",
   "execution_count": 12,
   "id": "4fce49da-e228-47f0-99d7-7d84f1726ffd",
   "metadata": {
    "tags": []
   },
   "outputs": [],
   "source": [
    "cleaned_responses['new_response'] = cleaned_responses['modified_response'].apply(lambda x: x.replace('<br>','\\n'))"
   ]
  },
  {
   "cell_type": "code",
   "execution_count": 16,
   "id": "54cb8e02-c4af-4efa-99e6-97968d49bd3c",
   "metadata": {
    "tags": []
   },
   "outputs": [],
   "source": [
    "cleaned_responses['last_line'] = cleaned_responses['new_response'].apply(lambda x: x.split('\\n')[-1])"
   ]
  },
  {
   "cell_type": "code",
   "execution_count": 21,
   "id": "0f87e7b4-bf0c-4de5-b4c7-7038bc426662",
   "metadata": {
    "tags": []
   },
   "outputs": [
    {
     "data": {
      "text/plain": [
       "['a', 'b']"
      ]
     },
     "execution_count": 21,
     "metadata": {},
     "output_type": "execute_result"
    }
   ],
   "source": [
    "'a b c'.split(' ')[:-1]"
   ]
  },
  {
   "cell_type": "markdown",
   "id": "e4fc06d8-68c1-4a19-bebc-dd88032c200f",
   "metadata": {},
   "source": [
    "### Removing disclaimers and lines without emoji and label\n",
    "\n",
    "We remove disclaimer lines at the end"
   ]
  },
  {
   "cell_type": "code",
   "execution_count": 79,
   "id": "2a660d2f-d7b6-4f7b-ba9e-e773038acd8b",
   "metadata": {
    "tags": []
   },
   "outputs": [],
   "source": [
    "def extract_content_disclaimer(response):\n",
    "    response = response.strip('\\n\\n')\n",
    "    first_part = '\\n\\n'.join(response.split('\\n\\n')[:-1])\n",
    "    last_line = response.split('\\n\\n')[-1].lower()\n",
    "    if 'please' in last_line or 'investment' in last_line or 'research' in last_line:\n",
    "        return first_part, last_line, 'disclaimer'\n",
    "    if '**' in last_line:\n",
    "        return response, None, 'point'\n",
    "    if 'sorry' in last_line or 'apologize':\n",
    "        if '**' in response:\n",
    "            return first_part, last_line, 'partly_point'\n",
    "        else:\n",
    "            return response, None, 'sorry'\n",
    "    else:\n",
    "        return response, 'what?', 'unk'"
   ]
  },
  {
   "cell_type": "code",
   "execution_count": 80,
   "id": "7faf9bd0-99eb-41ca-8689-9d4983f7c566",
   "metadata": {
    "tags": []
   },
   "outputs": [],
   "source": [
    "cleaned_responses['truncated_response'], cleaned_responses['disclaimer'], cleaned_responses['last_line_type'] = zip(*cleaned_responses['new_response'].apply(lambda x: extract_content_disclaimer(x)))"
   ]
  },
  {
   "cell_type": "code",
   "execution_count": 81,
   "id": "8162c3be-ef80-4c52-b1d1-1f4dcb0311de",
   "metadata": {
    "tags": []
   },
   "outputs": [
    {
     "data": {
      "text/plain": [
       "last_line_type\n",
       "disclaimer      1893\n",
       "partly_point      64\n",
       "point            348\n",
       "sorry            175\n",
       "Name: last_line_type, dtype: int64"
      ]
     },
     "execution_count": 81,
     "metadata": {},
     "output_type": "execute_result"
    }
   ],
   "source": [
    "cleaned_responses.groupby('last_line_type')['last_line_type'].count()"
   ]
  },
  {
   "cell_type": "code",
   "execution_count": 77,
   "id": "5691da6f-24b6-4b89-9871-9ebbdd670ded",
   "metadata": {
    "tags": []
   },
   "outputs": [
    {
     "data": {
      "text/plain": [
       "array([\"While the articles provide a comprehensive outlook on the vaccination campaigns and health initiatives announced in India's Union Budget 2024, users should do additional thorough research and consult a healthcare expert for personal medical advice.\",\n",
       "       'Note: As investment decisions should be made carefully, please ensure to do additional thorough research and consult an expert.',\n",
       "       'Users interested in ACC shares or the cement industry should conduct further research and consult an expert for investment advice.',\n",
       "       'Make sure to do additional thorough research and consult an expert before making investment decisions.',\n",
       "       '⚠️ **Investment Caution**: Consider additional research and consult an expert before investing.',\n",
       "       \"Please note, it's critical to do further research and consult a financial expert before making investment decisions.\",\n",
       "       'Please do additional thorough research and consult an expert for investment-related advice.',\n",
       "       'I\\'m sorry, but it seems there was an error in the query provided. You asked about \"Ranveer Singh performances,\" which does not relate to finance or business topics. As the lead editor for a financial and business platform, I can assist you with topics around finance, business, the economy, market trends, and related entities. If you have any such questions, please feel free to ask, and I would be happy to help.',\n",
       "       'Investors should conduct further research and consult a financial expert before making investment decisions.',\n",
       "       '',\n",
       "       'Please conduct additional thorough research and consult an expert for any investment decisions based on this information.',\n",
       "       \"Please note that it's always advisable to do thorough research and consider consulting with a financial expert before making any decisions related to credit card debt management.\",\n",
       "       \"It's important to note that while these articles provide a clear understanding of regulatory expectations and the anticipated impact on the finance industry, actual outcomes may differ. Therefore, it's advisable for users to conduct their own thorough research and to consult a financial expert before making any decisions based on these developments.\",\n",
       "       'Please do additional research and consult an expert for investment advice.',\n",
       "       '⚠️ Please do additional thorough research and consult an expert for investment advice.',\n",
       "       'Given the information covers the realm of monetary policy and the relationship with fiscal decisions, it is prudent to do further research and consider consulting an expert for investment advice.',\n",
       "       'For investment decisions, it is crucial to perform thorough research and consider consulting with an expert.',\n",
       "       'Please remember to conduct further research and consult a professional for investment advice.',\n",
       "       '💡 **Investment note**: Investors should perform additional research and consult an expert before making decisions.',\n",
       "       \"Please note that investment involves risks, and it's important to do thorough research and consult an investment advisor before making financial decisions.\"],\n",
       "      dtype=object)"
      ]
     },
     "execution_count": 77,
     "metadata": {},
     "output_type": "execute_result"
    }
   ],
   "source": [
    "cleaned_responses[cleaned_responses.last_line_type == 'disclaimer'].sample(20).last_line.values"
   ]
  },
  {
   "cell_type": "code",
   "execution_count": 82,
   "id": "1652c4a0-58cf-44f4-824b-7d6243ac1d1e",
   "metadata": {
    "scrolled": true,
    "tags": []
   },
   "outputs": [
    {
     "data": {
      "text/plain": [
       "array([\"**Decline in Automotive Sales Amidst Market Fluctuations**\\n\\n📉 **Sales Drop**: Automotive Axle net sales down 17.45% YoY in Dec 2023.\\n\\n🚗 **M&M Sales Dip**: M&M auto sales see a 4% decline in January '24 from last year.\\n\\n📊 **Industry High**: Indian auto registers highest monthly PV wholesales in Jan '24.\\n\\n📈 **SUV Demand**: SUV sales now over 50% of total auto sales, a significant increase.\\n\\n🚀 **Hyundai Peak**: Hyundai domestic sales up by 14% YoY, marking record monthly sales.\\n\\n💹 **Supply Recovery**: Supply constraints easing, semiconductor chip issues resolved for India.\",\n",
       "       '**Understanding the Business of Artisan Bread: The Baker’s Dozen Expansion**\\n\\n**💰 Funding Milestone**: Raised $4M for expansion.\\n\\n**🏙️ Urban Spread**: Plans to reach beyond metro cities.\\n\\n**📈 Business Growth**: Aiming for an INR 500 Cr company in five years.\\n\\n**🍞 Product Enhancement**: Enhancing mass-premium segment.\\n\\n**📊 Previous Growth**: Secured $3M in 2022, doubled ARR since.\\n\\n**🌍 Market Reach**: Entry into the Middle Eastern market considered.',\n",
       "       '**HBT Financial Announces Q4 2023 Earnings Release Date**\\n\\n📅 **Release Date**: January 24, 2024\\n\\n💼 **Company Info**: HBT Financial is the holding company for Heartland Bank and Trust Company.\\n\\n🏦 **Banking Presence**: Operates 67 full-service branches in Illinois and Eastern Iowa.\\n\\n💰 **Financials**: As of September 30, 2023, assets totaled $5.0 billion and deposits $4.2 billion.\\n\\n📈 **Growth Timeline**: Rooted in history since 1920 with consistent expansion.\\n\\n📞 **Contact**: Investor relations can be reached for additional queries.',\n",
       "       \"**Understanding Indian Government's Budget 2024 for Youth and Startups**\\n\\n✨ **Youth Empowerment**: FM announces programs merging youth and technology.\\n\\n🚀 **Startup Funding**: ₹1 lakh crore fund established for long-term startup support.\\n\\n💸 **Tax Benefit Extensions**: Expiration of startup tax benefits moved to March 2025.\\n\\n🌟 **Sunrise Sector Support**: Interest-free loans for tech and innovation.\\n\\n🎓 **Educational Opportunities**: Mentorship and scholarships for young entrepreneurs.\\n\\n🏆 **Competitions**: Skill Tank to engage and reward student entrepreneurship.\",\n",
       "       \"**Real Estate Market Forecast for India**\\n\\n♟️ **Current outlook**: 2023 saw record-high sales.\\n\\n💼 **Growth prediction**: GDP may rise to 8% by end of 2024.\\n\\n🏗️ **Infrastructure impact**: Mumbai's development spurs realty demand.\\n\\n🏡 **Sector insights**: Mid-range housing expected to drive sales.\\n\\n🏦 **Possible incentives**: Anticipation of lower home loan interest rates.\\n\\n📈 **Affordable housing focus**: Budget 2024 expected to offer support.\",\n",
       "       '**Procter & Gamble Hygiene Q2 Performance Overview**\\n\\n📈 **Profit Increase**: Net profit rose 10% to Rs 228.9 cr in December quarter.\\n\\n💵 **Stable Sales**: Sales remained at par year-over-year at Rs 1131 cr.\\n\\n💰 **Interim Dividend**: ₹160 per share declared, including special dividend of ₹60.\\n\\n🛒 **Challenging Markets**: Sales dipped slightly by 0.3% due to tough operating conditions.\\n\\n📉 **Cost Reduction**: Total expenses fell nearly 3%, aided by lower material and finance costs.\\n\\n🎯 **Strategy for Growth**: Emphasis on integrated growth strategy and product superiority.',\n",
       "       \"I'm sorry, but I am unable to locate information specifically related to urban planning in the articles provided. However, I found related information concerning the real estate sector's growth and government initiatives such as 'Housing for All' that could be indirectly linked to urban development.\\n\\n**Related Information on Real Estate Growth and Government Housing Initiatives**\\n\\n🔍 **Urban growth**: India's urban population surge boosts demand for real estate.\\n\\n🏗️ **Infrastructure focus**: Budget 2024 likely to continue emphasis on infrastructure, including urban areas.\\n\\n🏘️ **'Housing for All' vision**: Initiative expected to stimulate supply and demand for housing.\\n\\n🏢 **Rental demand**: Post-pandemic, significant increase in housing rents in major cities.\\n\\n📈 **Property price rise**: Metros witnessing notable property price growth since 2019.\\n\\n📊 **Price-to-rent ratio**: India’s rental yields compared with global cities, useful for evaluating affordability.\",\n",
       "       \"**Understanding Jerome Powell's Position on Rate Cuts in 2024**\\n\\n🏦 **Role clarity**: Jerome Powell is the Chairman of the Federal Reserve.\\n\\n📅 **Recent remarks**: Powell indicated potential interest rate cuts in 2024 as inflation cools.\\n\\n🔍 **Policy stance**: Recent meetings saw unchanged rates but a general favorability towards 2024 cuts.\\n\\n🚫 **March expectations**: A rate cut in March 2024 is unlikely as per Powell's comments.\\n\\n📉 **Economic forecast**: Powell suggests that if the economy performs as expected, cuts could be introduced later in 2024.\\n\\n🔮 **Market impact**: Communication on rate cuts is crafted to avoid undue market exuberance.\",\n",
       "       \"**Today's Gold Price Overview**\\n\\n💰 **Current Price**: 24 carat gold is Rs. 6397 per gm\\n\\n🗓️ **Recent Stability**: No change in 24 carat gold price over the last week\\n\\n📉 **One Month Trend**: Slight decrease of 0.0% in the last month\\n\\n🏙️ **City Specific Rates**: 24 carat - Rs. 64530/10g in Chennai, Rs.63970/10g in Delhi\\n\\n🌐 **Global Influence**: Prices affected by international demand, currency fluctuations, interest rates\",\n",
       "       '**Kotak Bank Share Price Updates as of 29th January 2024**\\n\\n📈 **Opening Price**: ₹1787.75\\n\\n📉 **Closing Price**: ₹1789\\n\\n🔝 **52-Week High**: ₹2063\\n\\n🔻 **52-Week Low**: ₹1644.2\\n\\n📊 **Market Cap**: ₹351,277.79 crore\\n\\n📉 **Volume**: 323,299 shares traded on BSE',\n",
       "       \"**Daily Financial Snapshot: Reliance Shares and Zee F&O Update**\\n\\n📈 **Reliance Infra closing**: ₹208.45 on BSE\\n\\n📊 **Reliance Industrial Infra closing**: ₹1335.9 on BSE\\n\\n🚫 **Zee Entertainment F&O Ban**: On NSE's ban list due to MWPL breach\\n\\n📉 **Zee Share Recovery**: Climbs nearly 7% after recent merger fallout\\n\\n💹 **Overall Market Uplift**: Sensex and Nifty see significant gains\",\n",
       "       \"**Exploring Sustainable Banking's Prospects in 2024**\\n\\n🌱 **Growth in Green Finance**: Major banks saw increased revenues from green debt, leading the way in sustainable finance.\\n\\n🌳 **European Leaders**: European banks, notably BNP Paribas, at the forefront, earning significant from green projects.\\n\\n📈 **Profitable Trends**: The shift represented greater profit in green finance compared to fossil-fuel transactions.\\n\\n💼 **US Challenges**: Complex regulatory environment in the US with some opposition to green finance.\\n\\n🔄 **Industry Shortfall**: Global banks lag behind Paris climate agreement targets, requiring more investment in green projects.\\n\\n**Note**: I couldn't find an exact match for sustainable banking in my resources, but the information on green finance trends relates to the query.\",\n",
       "       \"**Exploring Literacy and Education Reforms in India's Budget 2024**\\n\\n📚 **National Education Policy**: NEP shifts focus towards holistic development and skilling.\\n\\n👩\\u200d🏫 **Teacher Training**: Establishment of SME committees to enhance academic performance.\\n\\n📈 **Budget Enhancement**: Increased allocation to Department of School Education and Literacy.\\n\\n📘 **Cultural and Pedagogical Shift**: NEP suggests significant curriculum changes.\\n\\n💻 **Digital Advancements**: Increased funds likely for the National Digital Library Mission.\\n\\n🏫 **Resource Allocation**: Schools expect budget support for NEP implementation.\",\n",
       "       \"**Evaluating Current Market Scenarios in Light of Recent Developments**\\n\\n💼 **Market Impact**: Interim budget 2024 deemed non-eventful for markets.\\n\\n📈 **Small & Mid-Cap Caution**: Expert warns of bubble in 70% of these sectors.\\n\\n🏛️ **Banking Sector**: PSU banks show strength; select private banks appear undervalued.\\n\\n🌐 **Global Perspective**: Possible US recession may impact markets; India shows resilience.\\n\\n🛣️ **Sector Spotlight**: Infrastructure, manufacturing expected to gain from budget focus.\\n\\n🗳️ **Election Effect**: BJP's anticipated re-election seen as favorable for market stability.\",\n",
       "       \"**Hospitality Sector Outlook: Recovery Journey and Changing Dynamics**\\n\\n🏨 **Global Recovery**: UN predicts full international tourism recovery in 2024.\\n\\n📉 **UK Rebooking Rates**: Only 27% of UK travelers rebook same hotel amidst cost-of-living crisis.\\n\\n🛠️ **Hotel Enhancements**: Marina Bay Sands invests US$750M in hotel transformation.\\n\\n🛎️ **Service Standards**: Exceptional end-to-end experiences key for guest loyalty.\\n\\n🌍 **Regional Trends**: Europe and Africa near pre-pandemic travel levels; North America and Asia are optimistic.\\n\\n📈 **Economic Impact**: Tourism's global economic contribution was $3.3 trillion in 2023.\",\n",
       "       \"**RBI Greenlights Wint Wealth's Ambium Finserve Acquisition**\\n\\n💼 **Approval Granted**: RBI approved Wint Wealth's majority stake purchase.\\n\\n🚀 **Growth Prospects**: Loan book expected to hit Rs 500 crore by end of 2024.\\n\\n🛠️ **Expansion Plans**: Wint Capital to focus on wholesale lending with Rs 71 crore funding.\\n\\n🏦 **Retail Bonds**: Plans to offer corporate bonds to retail investors in the coming year.\\n\\n🌟 **Investor Impact**: Over 53,000 investors and Rs 1300 crore in various bonds facilitated.\\n\\n💡 **Product Innovation**: Acquisition to aid in new financial products creation.\",\n",
       "       \"**Rising Housing Rents in India's Major Cities Post-Pandemic**\\n\\n📈 **Rent Increase**: Rents up by 25-30% since 2019\\n\\n🏠 **Trending Markets**: Spikes exceed 30% in key localities\\n\\n🔍 **Online Searches**: Rental searches surpass buying\\n\\n🌍 **Global Gap**: Still trailing rent yields of cities like New York, London\\n\\n🔮 **Outlook**: Sustained rental demand expected\\n\\n💹 **Price-to-Rent Ratio**: Indicator of rental affordability and yield\",\n",
       "       '**New Board Member at Brown & Brown, Inc.**\\n\\n📅 **Date**: Information from January 18, 2024\\n\\n📌 **Leadership**: Kathleen A. Savio appointed to the board\\n\\n🔍 **Experience**: Savio served in various roles at Zurich Insurance Group\\n\\n🌱 **CSR Involvement**: Awarded 2020 Trailblazer of the Year by IICF\\n\\n🚀 **Corporate Growth**: Has a history of growing businesses\\n\\n📈 **Shareholder Value**: Aims to create long-term value for shareholders',\n",
       "       '**First Bancshares Announces Securities Portfolio Repositioning and Q4 Earnings Call**\\n\\n🗓️ **Date**: Repositioning in December 2023, earnings call on January 25, 2024\\n\\n💸 **Portfolio Changes**: Sold securities for $123M, reinvested in bonds yielding 5.33%\\n\\n🏦 **Financial Impact**: Expected to increase net interest margin and net interest income\\n\\n📈 **Earnings Per Share**: Forecasted rise by $0.11\\n\\n🔁 **Earn Back Period**: Estimated at 2.1 years\\n\\n🔗 **Webcast Link**: Details provided for attending earnings call online',\n",
       "       \"**Relaxo Footwears' Financial Performance in December 2023**\\n\\n📈 **Sales growth**: Net Sales increased by 4.65% year-on-year.\\n\\n💰 **Profit surge**: Net Profit rose by 28.14% compared to December 2022.\\n\\n📊 **EBITDA improvement**: EBITDA saw a 21.51% uptick.\\n\\n📉 **Stock performance**: Shares gave 6.58% returns over the last 12 months.\\n\\n👟 **Continued strength**: Relaxo maintains positive sales and profitability trends.\"],\n",
       "      dtype=object)"
      ]
     },
     "execution_count": 82,
     "metadata": {},
     "output_type": "execute_result"
    }
   ],
   "source": [
    "cleaned_responses[cleaned_responses.last_line_type == 'point'].sample(20).truncated_response.values"
   ]
  },
  {
   "cell_type": "code",
   "execution_count": 86,
   "id": "e2836170-2371-46a5-8472-fcd96ac07c47",
   "metadata": {
    "scrolled": true,
    "tags": []
   },
   "outputs": [
    {
     "data": {
      "text/plain": [
       "array(['I\\'m sorry, but it seems like the user query about \"paragliding safety\" doesn\\'t align with the financial and business scope of our platform. Our focus is on providing insights and answers related to finance, business, and their relevant entities. If you have any questions on those topics, feel free to ask!',\n",
       "       \"I'm sorry, but your query does not fall within the scope of finance and business that our platform covers. If you have any questions related to these areas, feel free to ask, and I would be happy to help.\",\n",
       "       \"I'm sorry, but your query about digital detox strategies is not related to finance or business topics that we cover on our platform. We focus on providing expert content in fields like finance, business and economics. If you have any questions within those realms, feel free to ask!\",\n",
       "       \"I'm sorry, but your query about environmental conservation talks doesn't pertain to the financial and business content covered on our platform. We focus exclusively on topics related to finance, business, and associated entities. If you have any questions within this scope, feel free to ask, and we'd be happy to assist you.\",\n",
       "       \"I'm sorry, but the user query you've provided is non-financial and non-business related. My focus is on providing information and advice related to finance, business, and entities like India, RBI, Reliance, Fed, etc. If you have any queries related to these topics, feel free to ask, and I'll be happy to help!\",\n",
       "       \"I'm sorry, but I am unable to provide a response as the query 'civic engagement' does not pertain to finance or business topics. My focus is strictly on those areas, so if you have any questions that fall under finance or business, I'd be happy to help.\",\n",
       "       \"I apologize, but I can't find the answer to your query about Wint Wealth in the articles provided. The articles are focused on financial results for WNS and Wendt, without any specific mention of Wint Wealth. If you have any other finance or business-related questions, feel free to ask!\",\n",
       "       \"I'm sorry, but it seems your query is about badminton smash technique, which isn't related to finance or business topics. Our focus is on providing financial and business news, insights, and updates. If you have any questions related to these areas, feel free to ask, and I'd be glad to help!\",\n",
       "       \"I'm sorry, but I can't provide an answer about Deepika Padukone movies as it's not related to finance or business-related topics. If you have any questions pertaining to those areas, feel free to ask!\",\n",
       "       \"I'm sorry, but it appears you are asking about fashion hacks, which is not related to finance or business. My expertise is strictly in providing financial and business support and information. If you have any questions on those topics, feel free to ask!\",\n",
       "       \"I'm sorry, but it appears your query is not related to finance or business topics. Our focus is strictly on those areas. If you have a question pertaining to finance or business, feel free to ask, and I would be glad to assist you.\",\n",
       "       'I\\'m sorry, but it seems like your query about a \"ratatouille recipe\" is not related to finance, business, or any relevant entity that falls under my expertise. As the lead editor of a financial and business platform, I\\'m here to help with queries related to those areas. If you have any questions concerning finance or business, feel free to ask!',\n",
       "       \"I'm sorry, but your query about Bollywood trivia quizzes falls outside of the scope of finance and business-related topics that we focus on. If you have any questions on those subjects, I would be happy to help!\",\n",
       "       \"I apologize, but based on the articles provided, there is no specific information regarding Hindalco Industries' aluminum market strategies. The articles only cover recent stock price movements and trading data.\",\n",
       "       \"I'm sorry, but it appears you've made a query about a recipe for 'besan ladoo,' which isn't related to finance or business topics that I can provide information on. If you have any other finance or business-related queries, feel free to ask and I'd be happy to assist.\",\n",
       "       \"I'm sorry, but it seems like you're looking for a peach cobbler recipe, which isn't related to finance or business topics that we cover. Our focus is strictly on financial and business news and information. If you have any related queries, feel free to ask!\",\n",
       "       \"I'm sorry, but I can't find the answer to your question about philanthropy and charity galas. If you have any questions related to finance or business, feel free to ask!\",\n",
       "       \"I'm sorry, but your query about detox water recipes does not fall within the scope of finance and business-related topics that our platform covers. We focus on providing information and answering queries related specifically to finance, business, and related entities. If you have any questions within these areas, feel free to ask, and we'd be happy to help.\",\n",
       "       'I\\'m sorry, but it appears your query about \"rahul gandhi interview\" is not related to finance or business, so it falls outside the scope of our platform\\'s focus on financial and business matters. If you have any questions that align with these topics, feel free to ask, and I\\'d be happy to help!',\n",
       "       \"I'm sorry, but it appears that your query is about kabaddi defensive tactics, which is not within the scope of finance or business-related topics that we cover. Our focus is strictly on financial and business matters. If you have any questions related to those areas, feel free to ask!\"],\n",
       "      dtype=object)"
      ]
     },
     "execution_count": 86,
     "metadata": {},
     "output_type": "execute_result"
    }
   ],
   "source": [
    "cleaned_responses[cleaned_responses.last_line_type == 'sorry'].sample(20).truncated_response.values"
   ]
  },
  {
   "cell_type": "code",
   "execution_count": 89,
   "id": "6756ab39-12ff-4bce-8e90-b169d8fd21cc",
   "metadata": {
    "scrolled": true,
    "tags": []
   },
   "outputs": [
    {
     "data": {
      "text/plain": [
       "array([\"I'm not able to find the exact answer for this, but found the related information.\",\n",
       "       \"I'm sorry, but it seems your question is related to public health, which falls outside the scope of financial and business topics that we cover. We focus on finance and business-related questions and would be unable to provide an analysis or summary of public health information. If you have any finance or business-related questions, feel free to ask!\",\n",
       "       \"I'm sorry but we don't have the latest unemployment data. However, the related information indicates significant changes in the job market and economic growth which might impact employment figures.\",\n",
       "       \"I'm not able to find the exact answer for this, but found the related information from the IEEE Computer Society's 2024 technology predictions that may interest you.\",\n",
       "       \"Unfortunately, the articles available don't cover details regarding Kidambi Srikanth's matches. My resources are limited to financial and business content, and it appears that your query is outside of those areas. If you have any other questions related to finance or business topics, feel free to ask!\",\n",
       "       'Note: No exact details on legislative changes, but related information on Budget 2024 points to impactful policy proposals and tax benefit extensions.',\n",
       "       \"I apologize, but as the lead editor for a financial and business website, I'm not able to provide recipes or non-financial content, which includes culinary topics. If you have any finance or business-related inquiries, I'd be happy to assist.\",\n",
       "       \"Apologies, but I am unable to locate the exact information on long-term capital gains on equity within the available articles. The articles relate to the broader equity and financial market trends, corporate buybacks, and Federal Reserve's potential rate cuts, but not to LTCG specifically.\",\n",
       "       '*Note: Consult a financial advisor for tailored advice and conduct due diligence before investing.*',\n",
       "       \"I wasn't able to find the exact answer to what a proxy fight entails, but the articles present a related overview of proxy advisory firms' roles and regulations in corporate governance.\",\n",
       "       \"I'm sorry, but I am not able to find the exact answer for Bajaj Consumer Care's consumer goods. However, the provided information is related to the FMCG sector and might be of interest.\",\n",
       "       'I apologize, but while there is information related to in-car wireless charging and general ride-sharing market growth, there is no direct answer related to carsharing queries in the articles provided.',\n",
       "       \"While I couldn't find articles that provide an exact ranking or assessment of university collaborations, the initiatives detailed above highlight significant moves towards enhancing educational quality and fostering innovation in India through international cooperation.\",\n",
       "       '*Note: The details above are limited to the aspects highlighted in the budget expectations and aspirations. For specific webinars and online courses, the current articles do not offer direct information.*',\n",
       "       '*Information dates back to January 2024, and no recent articles on updated remote work policies were found.*',\n",
       "       \"I'm sorry, but I can't find the answer to your query about personal development as it's not within the financial or business domains covered by our platform.\",\n",
       "       '',\n",
       "       'Apologies, but no specific updates on the wealth tax are available in the current articles.',\n",
       "       \"I apologize as we don't have the exact answer concerning WABCO India's automotive components, but the related sector information may provide context on the company's operational environment.\",\n",
       "       \"Although I've provided the latest insights on the shipping industry and its projected importance in India's economy from the recent Budget 2024 expectations, I'm not able to find the exact current status of the shipping industry today. However, the information points to efforts for bolstering shipping to support export growth and addressing challenges due to international conflicts impacting trade routes.\"],\n",
       "      dtype=object)"
      ]
     },
     "execution_count": 89,
     "metadata": {},
     "output_type": "execute_result"
    }
   ],
   "source": [
    "cleaned_responses[cleaned_responses.last_line_type == 'partly_point'].sample(20).last_line.values"
   ]
  },
  {
   "cell_type": "code",
   "execution_count": 95,
   "id": "45fda25d-e793-423f-b0a0-092f7df442ab",
   "metadata": {
    "tags": []
   },
   "outputs": [
    {
     "data": {
      "text/plain": [
       "array(['please ensure to do additional thorough research and to consult an expert before making any investment decisions.',\n",
       "       None,\n",
       "       'for investment advice, remember to do additional thorough research and to consult an expert.',\n",
       "       'investment advice should be sought from experts, as it requires additional thorough research.',\n",
       "       'please do further research or consult with an insurance expert for a detailed comparison tailored to individual needs.',\n",
       "       \"please note that while this information provides a snapshot of the current investment atmosphere, it's important to conduct thorough research and consult a financial expert before making any investment decisions.\",\n",
       "       \"it's important to do additional thorough research and consult an expert when considering investment decisions.\",\n",
       "       None,\n",
       "       'always remember to perform thorough research and consider consulting a financial expert before making any investment decisions.',\n",
       "       \"investment advice can be influenced by a variety of factors and is subject to change. it's advisable to conduct thorough research and consult with a financial expert before making investment decisions.\",\n",
       "       '⚠️ please do additional thorough research and consult an expert for investment advice.',\n",
       "       None,\n",
       "       'please note the necessity for additional thorough research and to consult a financial expert when considering investments.',\n",
       "       'please note that while this information provides a good overview of current financial situations and projections, you should always conduct additional thorough research and consider consulting an expert before making any investment decisions.',\n",
       "       'please note, it is crucial to conduct further research and consult a financial expert before making any investment decisions.',\n",
       "       'while i haven\\'t found articles that specifically answer your query about \"water systems,\" the related information indicates a trend towards investing in in-home water filtration systems, driven by concerns over water safety and the desire to improve home value. the utilities sector is evolving with a push for renewable energy and ai adoption. however, for financial decisions like home improvements or investments in the utilities sector, please conduct additional research and consider consulting an expert.',\n",
       "       None,\n",
       "       '🧠 **advice**: users should conduct further research and consult an expert before making investment decisions.',\n",
       "       'please note that investment in stock markets involves risks; consider additional research and consult an expert for personal advice.',\n",
       "       'investment decisions should incorporate extensive research and possibly a consultation with a financial expert.'],\n",
       "      dtype=object)"
      ]
     },
     "execution_count": 95,
     "metadata": {},
     "output_type": "execute_result"
    }
   ],
   "source": [
    "cleaned_responses.sample(20).disclaimer.values"
   ]
  },
  {
   "cell_type": "code",
   "execution_count": 96,
   "id": "692cf51d-506c-476e-a3b5-9729c0daca80",
   "metadata": {
    "scrolled": true,
    "tags": []
   },
   "outputs": [
    {
     "data": {
      "text/plain": [
       "array(['**Optimism Abounds for MSMEs and Startup Growth in 2024**\\n\\n💼 **MSME Confidence**: 90% confident in India\\'s economic resilience, expecting profit boost in 2024.\\n\\n💵 **Profit Forecast**: Bengaluru, Pune MSMEs predict over 30% profits; Mumbai less optimistic with predictions under 30%.\\n\\n📈 **Expansion Plans**: 60% of small businesses plan new stores and products/services in 2024.\\n\\n🚀 **Hiring Trends**: 44% of MSMEs to increase hiring; emphasis on diversity and opportunities for people with disabilities.\\n\\n🌏 **Sustainable Practices**: 81% of MSMEs aim for eco-friendly initiatives in 2024, continuing the plastic-free trend.\\n\\n📊 **Credit Growth**: Approximately 60% foresee a need for credit, with the highest demand in Bangalore, Pune, and Delhi.\\n\\nWhile the information provided does not directly outline specific \"small business growth strategies today,\" it indicates the overarching optimism and strategic planning of Indian MSMEs that could be essential practices for growth. Note that the data and strategies cited are from January 2024, reflecting recent trends and featuring related insights.',\n",
       "       \"**L&T Technology Services' Positive Q3 Performance & Growth Initiatives**\\n\\n📈 **Net Profit Increase**: 13% YoY rise to Rs 336 crore.\\n\\n📊 **Revenue Growth**: 12% YoY increase, total Rs 2,422 crore.\\n\\n💹 **EBIT Margin**: Stands at 17.2%.\\n\\n🚀 **Technology Advancements**: Progress in AI, SDV, cybersecurity.\\n\\n🤝 **New Deals**: Secured a significant deal with a US OEM and a $10M+ cybersecurity deal.\\n\\n📅 **Date**: Information based on data ending December 2023.\",\n",
       "       \"**Key Points for Starting a Tech Startup in India in 2024**\\n\\n🗓️ **Recent trends**: Decline in unicorn creation, but potential resurgence in 2024.\\n\\n🚀 **High-performance sectors**: AI, VR, AR, fintech, and SaaS among top performing domains.\\n\\n🔍 **Investor approach**: Focus on startups with robust fundamentals and path to profitability.\\n\\n💼 **New policies**: ₹1 lakh cr fund announced for long-term startup investment.\\n\\n🧑\\u200d💼 **Current unicorn landscape**: India houses 113 unicorns with an optimistic future outlook.\\n\\n📈 **Economic backdrop**: India's GDP growth supports a favorable environment for startups. \",\n",
       "       \"**Trends in Cost-Cutting and Workplace Efficiency in 2024**\\n\\n🏢 **Work dynamics**: Employers focus on productivity, might imply harder work.\\n\\n🛍️ **Everyday savings**: Reuse items like bread bags and glass bottles for frugality.\\n\\n👩\\u200d💼 **Staff reductions**: Lockheed Martin to cut 1% of jobs for cost efficiency.\\n\\n💻 **Tech adjustments**: CEOs like Meta's Zuckerberg prioritize frugality and long-term growth.\\n\\n🔄 **Recycling materials**: Old rags, tea bags, and paper tubes offer savings opportunities.\",\n",
       "       '**Glenmark Life Sciences Reports Growth Amid Nirma Takeover**\\n\\n📈 **Quarterly profit**: 13% increase in third-quarter profit.\\n\\n💹 **API business boost**: Revenue for API up by 6.4%.\\n\\n🌎 **Global operations**: Performance growth in the U.S., LATAM, and India.\\n\\n🔬 **CDMO rise**: 27.2% revenue increase in CDMO segment.\\n\\n📊 **Orderbook confidence**: Strong orderbook signals steady future growth.\\n\\n💰 **Stock performance**: Shares closed 1% lower prior to the results announcement. ',\n",
       "       \"**CoinDCX Ventures Invests in KoinX for Crypto Tax Solutions**\\n\\n🤝 **Strategic partnership**: CoinDCX partners and invests in KoinX for better crypto tax compliance.\\n\\n🚀 **Community outreach**: The collaboration taps into 1.4 Cr CoinDCX users to enhance KoinX visibility.\\n\\n📱 **Delistings influence**: Apple's delisting of foreign crypto exchanges like Binance in India sets context for local solutions.\\n\\n💼 **Business advancement**: CoinDCX aims to facilitate secure trading with this partnership.\\n\\n🔒 **User security**: Focus on compliant and seamless crypto trading and taxation in India.\\n\\n📈 **Industry impact**: Move follows industry concerns over heavy taxation and RBI's stance on crypto.\",\n",
       "       '**Personal Loans Lead Credit Operations Surge in India**\\n\\n📈 **Growth spike**: Personal loans climbed by 32% year-over-year, 10% quarter-over-quarter.\\n\\n🏦 **Leading loan type**: Personal loans at ₹ 64,778.27 crores outperformed other categories like auto, gold, education loans.\\n\\n🛒 **High consumer demand**: Despite higher interest rates, demand for credit including personal and vehicle loans remains strong.\\n\\n🏠 **Continued housing loans growth**: Robust increases in housing loans, supported by competitive rates and government incentives.\\n\\n💳 **Credit card use up**: Increase in credit card spending, with India now having 94 million cards in active use.\\n\\n📚 **Education loans in focus**: Significant rise in educational loans, indicating a growing investment in academic pursuits.',\n",
       "       '**Poultry Industry in India Regains Momentum, Prices Climb**\\n\\n📈 **Rising prices**: Poultry prices rising, anticipated increase ahead of festivals and wedding season.\\n\\n🌾 **Feed cost impact**: Costlier soya feed expected to pressure chicken and egg prices post-harvest.\\n\\n📊 **Consumer demand**: Strong demand return, especially with Sri Lanka boosting egg imports from India.\\n\\n🌦️ **Climate concerns**: Erratic rainfall affecting soybean quality and quantity, potentially raising input costs.\\n\\n🛒 **Market rates**: Farm gate chicken rates at ₹ 92-122/kg, retail prices at ₹ 250-260/kg; egg prices edged up in wholesale and retail.\\n\\n💹 **Food inflation**: Despite high poultry prices, overall food inflation expected to decline due to other factors like lower tomato prices.',\n",
       "       \"**Insights on India's Upcoming Infrastructure Projects Based on Budget 2024-25**\\n\\n📈 **CapEx Increase**: Capital expenditure raised to about Rs 11.1 lakh crore for FY 2024-25, an 11.1% hike.\\n\\n🚄 **Railway Focus**: Implementation of three major railway economic corridors announced.\\n\\n🔗 **Multi-modal Connectivity**: Projects identified under PM Gati Shakti to boost logistics efficiency.\\n\\n🌐 **Global Supply Chains**: Infrastructure development aimed at integrating India with global chains.\\n\\n🍃 **Sustainable Vision**: Emphasized 'Viksit Bharat' - a prosperous nation with modern infrastructure.\\n\\n⚒️ **Heavy Industry Allocations**: Government to maintain high capital expenditure for infrastructure.\",\n",
       "       \"I apologize for the misunderstanding, but given the focus of our website, I'm unable to address queries related to iconic cricket matches as they fall outside the parameters of finance and business topics. If you have any questions related to those areas, I would be more than happy to assist.\",\n",
       "       \"**Union Budget 2024's Impact on India's Agricultural Sector**\\n\\n🌱 **Growth Projection**: Agricultural sector expected to grow at 3.6%.\\n\\n💰 **Budget Allocation**: ₹1.27 lakh crore designated for Agriculture and Allied sectors.\\n\\n🚜 **Focus Areas**: Crop insurance, nano fertilisers, and oilseed self-sufficiency emphasized.\\n\\n🐟 **Aquaculture Boost**: Plans for 5 integrated aquaparks to enhance fisheries.\\n\\n🥛 **Dairy Development**: Comprehensive program to support dairy farmers introduced.\\n\\n👨\\u200d🌾 **Supporting Farmers**: Continued investment in PM-KISAN and allied welfare schemes.\",\n",
       "       \"**DOMS IPO Success: Shares Enjoy Strong Debut**\\n\\n📈 **Opening Price**: Listed at ₹1281.65\\n\\n🏅 **Market Performance**: Closed slightly lower at ₹1277.10\\n\\n🔝 **Day's Range**: Traded between ₹1262.6 and ₹1294.1\\n\\n💹 **Trading Volume**: 53,170 shares on BSE\\n\\n📊 **Market Cap**: Information not provided\\n\\n⏳ **52-Week Metrics**: High of ₹1434.25, low of ₹1224.4\",\n",
       "       \"**Vinati Organics Faces Decline in Profit and Revenue**\\n\\n📉 **Profit drop**: 27.4% decline in net profit in July-September 2024 quarter.\\n\\n📊 **Revenue fall**: 20.9% decrease in revenue compared to the previous year.\\n\\n🛠 **Capacity target**: Aiming for 50% capacity utilisation by FY25.\\n\\n📈 **Margin stability**: EBITDA margin is expected to remain around the current levels.\\n\\n🔍 **Inventory adjustment**: Decline attributed to customers' destocking expected to continue until December.\",\n",
       "       '**Vedanta Q3 Results: Profit Declines Amid High Costs, Restructuring**\\n\\n📉 **Profit drop**: Q3 net profit fell 18% to Rs 2,013 crore.\\n\\n📈 **Revenue growth**: Revenues rose 3.8% to Rs 34,968 crore.\\n\\n💸 **Debt moves**: Restructured $3.2 billion debt; Secured $1.25 billion for refinancing.\\n\\n🏭 **Production up**: Mined metal output up 7% YoY; Highest-ever in first nine months.\\n\\n🌐 **Economic impact**: Weak global demand influenced sales; leveraged domestic demand.\\n\\n💼 **Other income decline**: Other income fell 51.9% YoY in Q3FY24.',\n",
       "       '**Exploring the Best Investment Options for 2024**\\n\\n📊 **Stable Selection**: Merck & Co. up by 7% YTD, good track record.\\n\\n📈 **AI Acceleration**: Broadcom benefitted from AI demand, robust returns expected.\\n\\n🔋 **EV Potential**: Li Auto had impressive delivery numbers, growth anticipated.\\n\\n🚗 **Competitive Edge**: BYD broke sales records, directly competing with Tesla.\\n\\n💰 **Fintech Promise**: SoFi gathered millions of users, profit potential in sight.\\n\\n🛒 **Retail Giant**: Amazon leads in e-commerce, growth fueled by AWS.\\n\\n🍃 **Renewable Bet**: Brookfield Renewable eyes 12-15% yearly returns, strong history.\\n\\n💉 **Biotech Leader**: Vertex Pharmaceuticals enjoys CF treatment monopoly, promising pipeline.',\n",
       "       '**Finance Minister Sitharaman Attends Pre-Budget Halwa Ceremony**\\n\\n🏛️ **Location**: Ceremony held at North Block\\n\\n🗓️ **Event Date**: Took place on 25 January 2024\\n\\n🍲 **Tradition**: Marks Budget document printing commencement\\n\\n🛑 **Lock-in Period**: Begins for officials post-ceremony\\n\\n📝 **Budget 2024**: To be presented on 1 February, paperless form emphasized\\n\\n🎯 **Focus Areas**: Anticipated boost for farmers, women, and MSMEs',\n",
       "       \"**US Financial Firms Job Cuts Amid Tighter Monetary Policy**\\n\\n💼 **Job Reductions**: Major financial companies cutting staff in 2024.\\n\\n📅 **Recent Strategy Shifts**: Job cuts result from overhiring during low-interest rates.\\n\\n🏦 **Industry Leaders**: PayPal, Citigroup, Nasdaq, BlackRock among firms reducing headcount.\\n\\n📉 **Tightening Effects**: Response to challenges from tighter monetary policy.\\n\\n🔄 **Restructuring**: Some firms undergoing significant restructuring.\\n\\n⏳ **Multiple Years**: Citigroup's job cuts span the next two years.\",\n",
       "       \"**Expectations and Implications of Tax Reforms in India's Interim Budget 2024**\\n\\n📈 **Income tax slabs**: Speculation on tax slab adjustments to ease burdens due to inflation.\\n\\n🌐 **Digital compliance**: Boosting tax compliance through technology enhancements such as AI.\\n\\n🌿 **Eco-incentives**: Potential tax incentives for sustainable practices and green energy investments.\\n\\n🚀 **Startup support**: Anticipated tax incentives for innovation and growth in the startup ecosystem.\\n\\n📜 **Tax parity**: Discussions about uniform tax rates for unlisted shares to stimulate private market growth.\\n\\n🛠️ **Easing compliance**: Possible simplification of tax filing procedures to reduce taxpayer burden.\",\n",
       "       '**Selecting The Right Starter Credit Card for Beginners**\\n\\n🎉 **RuPay Offer**: Exclusive cashback for UPI transactions \\n\\n🛍️ **Shopping Rewards**: HDFC, ICICI, and Axis bank cards offer various discounts\\n\\n⛽ **Fuel Cards**: BPCL SBI, Indian Oil Kotak, and IDFC HPCL cards top choices\\n\\n🌐 **Travel Perks**: Cards from various banks provide travel discounts\\n\\n🏅 **HDFC Milestone**: First lender with 2 crore credit cards in force',\n",
       "       \"**Jubilant FoodWorks Financial Overview and Market Position**\\n\\n📈 **Sales Increase**: 3.48% rise in net sales from December 2022.\\n\\n📉 **Profit Dip**: Quarterly net profit fell 18.24% year-over-year.\\n\\n💼 **Operating Challenges**: Analysts highlight near-term demand issues and profit margins pressure.\\n\\n🏪 **Expansion**: Added 40 new Domino's stores; now in 407 cities.\\n\\n📊 **Market Share**: Holds 69.7% revenue and 46.8% store share among pizza chains.\\n\\n🔍 **Stock Adjustment**: Downgraded by Motilal Oswal to 'neutral' from 'buy'.\"],\n",
       "      dtype=object)"
      ]
     },
     "execution_count": 96,
     "metadata": {},
     "output_type": "execute_result"
    }
   ],
   "source": [
    "cleaned_responses.truncated_response.sample(20).values"
   ]
  },
  {
   "cell_type": "markdown",
   "id": "67173618-9af1-402c-b802-c45672b8faa7",
   "metadata": {},
   "source": [
    "### Generating new data"
   ]
  },
  {
   "cell_type": "code",
   "execution_count": 102,
   "id": "58e2f229-18c0-4d64-ae3f-60affbccb4a2",
   "metadata": {
    "tags": []
   },
   "outputs": [],
   "source": [
    "cleaned_responses.to_csv('cleaned_gpt_responses-9-feb-no-disclaimer.csv',index=False)"
   ]
  },
  {
   "cell_type": "code",
   "execution_count": 98,
   "id": "e764fb5c-8aa7-42a8-bd40-ec7971060214",
   "metadata": {
    "scrolled": true,
    "tags": []
   },
   "outputs": [
    {
     "data": {
      "text/html": [
       "<div>\n",
       "<style scoped>\n",
       "    .dataframe tbody tr th:only-of-type {\n",
       "        vertical-align: middle;\n",
       "    }\n",
       "\n",
       "    .dataframe tbody tr th {\n",
       "        vertical-align: top;\n",
       "    }\n",
       "\n",
       "    .dataframe thead th {\n",
       "        text-align: right;\n",
       "    }\n",
       "</style>\n",
       "<table border=\"1\" class=\"dataframe\">\n",
       "  <thead>\n",
       "    <tr style=\"text-align: right;\">\n",
       "      <th></th>\n",
       "      <th>0</th>\n",
       "      <th>index</th>\n",
       "      <th>query</th>\n",
       "      <th>query_date</th>\n",
       "      <th>article_ids</th>\n",
       "      <th>gpt_prompt</th>\n",
       "      <th>response</th>\n",
       "      <th>system_prompt</th>\n",
       "      <th>user_prompt</th>\n",
       "      <th>modified_response</th>\n",
       "      <th>has_our_site</th>\n",
       "      <th>is_sorry</th>\n",
       "      <th>new_response</th>\n",
       "      <th>last_line</th>\n",
       "      <th>truncated_response</th>\n",
       "      <th>disclaimer</th>\n",
       "      <th>last_line_type</th>\n",
       "    </tr>\n",
       "  </thead>\n",
       "  <tbody>\n",
       "    <tr>\n",
       "      <th>0</th>\n",
       "      <td>0</td>\n",
       "      <td>4</td>\n",
       "      <td>social media influencers</td>\n",
       "      <td>16/02/24</td>\n",
       "      <td>['65a7c2a01c9bc64bb8ae4a12', '65a7b6f11c9bc64b...</td>\n",
       "      <td>You're the lead editor for a financial and bus...</td>\n",
       "      <td>I'm sorry, but the queries you've provided rel...</td>\n",
       "      <td>You're the lead editor for a financial and bus...</td>\n",
       "      <td>|| user_query: social media influencers || tod...</td>\n",
       "      <td>I'm sorry, but the queries you've provided rel...</td>\n",
       "      <td>True</td>\n",
       "      <td>True</td>\n",
       "      <td>I'm sorry, but the queries you've provided rel...</td>\n",
       "      <td>I'm sorry, but the queries you've provided rel...</td>\n",
       "      <td>I'm sorry, but the queries you've provided rel...</td>\n",
       "      <td>None</td>\n",
       "      <td>sorry</td>\n",
       "    </tr>\n",
       "    <tr>\n",
       "      <th>1</th>\n",
       "      <td>0</td>\n",
       "      <td>5</td>\n",
       "      <td>kotak mahindra bank's banking and financial se...</td>\n",
       "      <td>23/12/23</td>\n",
       "      <td>['65a662593c864051fa47ec9e', '65a9e5d56391ac19...</td>\n",
       "      <td>You're the lead editor for a financial and bus...</td>\n",
       "      <td>**Kotak Mahindra Bank Navigates Funding and Gr...</td>\n",
       "      <td>You're the lead editor for a financial and bus...</td>\n",
       "      <td>|| user_query: kotak mahindra bank's banking a...</td>\n",
       "      <td>**Kotak Mahindra Bank Navigates Funding and Gr...</td>\n",
       "      <td>False</td>\n",
       "      <td>False</td>\n",
       "      <td>**Kotak Mahindra Bank Navigates Funding and Gr...</td>\n",
       "      <td>**Investment Note**: For investment decisions,...</td>\n",
       "      <td>**Kotak Mahindra Bank Navigates Funding and Gr...</td>\n",
       "      <td>**investment note**: for investment decisions,...</td>\n",
       "      <td>disclaimer</td>\n",
       "    </tr>\n",
       "    <tr>\n",
       "      <th>2</th>\n",
       "      <td>0</td>\n",
       "      <td>1</td>\n",
       "      <td>security token offerings news</td>\n",
       "      <td>05/02/24</td>\n",
       "      <td>['65b320421b79671c6b70cca2', '65a91cba6391ac19...</td>\n",
       "      <td>You're the lead editor for a financial and bus...</td>\n",
       "      <td>**Exploring Recent Security Token Offerings an...</td>\n",
       "      <td>You're the lead editor for a financial and bus...</td>\n",
       "      <td>|| user_query: security token offerings news |...</td>\n",
       "      <td>**Exploring Recent Security Token Offerings an...</td>\n",
       "      <td>False</td>\n",
       "      <td>False</td>\n",
       "      <td>**Exploring Recent Security Token Offerings an...</td>\n",
       "      <td>Please remember to do additional thorough rese...</td>\n",
       "      <td>**Exploring Recent Security Token Offerings an...</td>\n",
       "      <td>please remember to do additional thorough rese...</td>\n",
       "      <td>disclaimer</td>\n",
       "    </tr>\n",
       "    <tr>\n",
       "      <th>3</th>\n",
       "      <td>0</td>\n",
       "      <td>7</td>\n",
       "      <td>rock climbing basics</td>\n",
       "      <td>28/12/23</td>\n",
       "      <td>['65bb79c3f3aa2a77a58bfe62', '65bb79cef3aa2a77...</td>\n",
       "      <td>You're the lead editor for a financial and bus...</td>\n",
       "      <td>**Understanding the Impact of Budget 2024 on I...</td>\n",
       "      <td>You're the lead editor for a financial and bus...</td>\n",
       "      <td>|| user_query: rock climbing basics || today d...</td>\n",
       "      <td>**Understanding the Impact of Budget 2024 on I...</td>\n",
       "      <td>False</td>\n",
       "      <td>False</td>\n",
       "      <td>**Understanding the Impact of Budget 2024 on I...</td>\n",
       "      <td>*Articles from early 2024 highlight expectatio...</td>\n",
       "      <td>**Understanding the Impact of Budget 2024 on I...</td>\n",
       "      <td>*articles from early 2024 highlight expectatio...</td>\n",
       "      <td>disclaimer</td>\n",
       "    </tr>\n",
       "    <tr>\n",
       "      <th>4</th>\n",
       "      <td>0</td>\n",
       "      <td>2</td>\n",
       "      <td>gold investment</td>\n",
       "      <td>01/01/24</td>\n",
       "      <td>['65bb096df3aa2a77a58bfb1a', '65a896681c9bc64b...</td>\n",
       "      <td>You're the lead editor for a financial and bus...</td>\n",
       "      <td>**Gold Investment Outlook for 2024 Shows Promi...</td>\n",
       "      <td>You're the lead editor for a financial and bus...</td>\n",
       "      <td>|| user_query: gold investment || today date: ...</td>\n",
       "      <td>**Gold Investment Outlook for 2024 Shows Promi...</td>\n",
       "      <td>False</td>\n",
       "      <td>False</td>\n",
       "      <td>**Gold Investment Outlook for 2024 Shows Promi...</td>\n",
       "      <td>It is important to do thorough research and co...</td>\n",
       "      <td>**Gold Investment Outlook for 2024 Shows Promi...</td>\n",
       "      <td>it is important to do thorough research and co...</td>\n",
       "      <td>disclaimer</td>\n",
       "    </tr>\n",
       "    <tr>\n",
       "      <th>5</th>\n",
       "      <td>0</td>\n",
       "      <td>0</td>\n",
       "      <td>regulatory frameworks</td>\n",
       "      <td>27/01/24</td>\n",
       "      <td>['65b9b7d4f3aa2a77a58bf57f', '65b4aa001b79671c...</td>\n",
       "      <td>You're the lead editor for a financial and bus...</td>\n",
       "      <td>**Decoding Regulatory Frameworks: Data Protect...</td>\n",
       "      <td>You're the lead editor for a financial and bus...</td>\n",
       "      <td>|| user_query: regulatory frameworks || today ...</td>\n",
       "      <td>**Decoding Regulatory Frameworks: Data Protect...</td>\n",
       "      <td>False</td>\n",
       "      <td>False</td>\n",
       "      <td>**Decoding Regulatory Frameworks: Data Protect...</td>\n",
       "      <td>Please note that investing in digital lending ...</td>\n",
       "      <td>**Decoding Regulatory Frameworks: Data Protect...</td>\n",
       "      <td>please note that investing in digital lending ...</td>\n",
       "      <td>disclaimer</td>\n",
       "    </tr>\n",
       "    <tr>\n",
       "      <th>6</th>\n",
       "      <td>0</td>\n",
       "      <td>9</td>\n",
       "      <td>bcci</td>\n",
       "      <td>18/01/24</td>\n",
       "      <td>['65a894451c9bc64bb8ae4ac6', '659e08404b25ce48...</td>\n",
       "      <td>You're the lead editor for a financial and bus...</td>\n",
       "      <td>**BCCI Secures New Partnerships Amid Continued...</td>\n",
       "      <td>You're the lead editor for a financial and bus...</td>\n",
       "      <td>|| user_query: bcci || today date: 18 January ...</td>\n",
       "      <td>**BCCI Secures New Partnerships Amid Continued...</td>\n",
       "      <td>False</td>\n",
       "      <td>False</td>\n",
       "      <td>**BCCI Secures New Partnerships Amid Continued...</td>\n",
       "      <td>Please note that financial decisions should be...</td>\n",
       "      <td>**BCCI Secures New Partnerships Amid Continued...</td>\n",
       "      <td>please note that financial decisions should be...</td>\n",
       "      <td>disclaimer</td>\n",
       "    </tr>\n",
       "    <tr>\n",
       "      <th>7</th>\n",
       "      <td>0</td>\n",
       "      <td>8</td>\n",
       "      <td>securities lending news today</td>\n",
       "      <td>25/01/24</td>\n",
       "      <td>['65b23f561b79671c6b70cc68', '65b320421b79671c...</td>\n",
       "      <td>You're the lead editor for a financial and bus...</td>\n",
       "      <td>**Today's Update: Securities Lending News and ...</td>\n",
       "      <td>You're the lead editor for a financial and bus...</td>\n",
       "      <td>|| user_query: securities lending news today |...</td>\n",
       "      <td>**Today's Update: Securities Lending News and ...</td>\n",
       "      <td>False</td>\n",
       "      <td>False</td>\n",
       "      <td>**Today's Update: Securities Lending News and ...</td>\n",
       "      <td>**Please note**: The specific details of secur...</td>\n",
       "      <td>**Today's Update: Securities Lending News and ...</td>\n",
       "      <td>**please note**: the specific details of secur...</td>\n",
       "      <td>disclaimer</td>\n",
       "    </tr>\n",
       "    <tr>\n",
       "      <th>8</th>\n",
       "      <td>0</td>\n",
       "      <td>6</td>\n",
       "      <td>sbi life insurance stock analysis</td>\n",
       "      <td>25/01/24</td>\n",
       "      <td>['65b866521b79671c6b70d663', '65b9f00cf3aa2a77...</td>\n",
       "      <td>You're the lead editor for a financial and bus...</td>\n",
       "      <td>**Consistent Buy Ratings for SBI Life Insuranc...</td>\n",
       "      <td>You're the lead editor for a financial and bus...</td>\n",
       "      <td>|| user_query: sbi life insurance stock analys...</td>\n",
       "      <td>**Consistent Buy Ratings for SBI Life Insuranc...</td>\n",
       "      <td>False</td>\n",
       "      <td>False</td>\n",
       "      <td>**Consistent Buy Ratings for SBI Life Insuranc...</td>\n",
       "      <td>Investment decisions should not be based solel...</td>\n",
       "      <td>**Consistent Buy Ratings for SBI Life Insuranc...</td>\n",
       "      <td>investment decisions should not be based solel...</td>\n",
       "      <td>disclaimer</td>\n",
       "    </tr>\n",
       "    <tr>\n",
       "      <th>9</th>\n",
       "      <td>0</td>\n",
       "      <td>3</td>\n",
       "      <td>pension fund returns today</td>\n",
       "      <td>14/02/24</td>\n",
       "      <td>['65adda576391ac19baa871d6', '65bc5b59f3aa2a77...</td>\n",
       "      <td>You're the lead editor for a financial and bus...</td>\n",
       "      <td>**National Pension System Corpus Growth and Ta...</td>\n",
       "      <td>You're the lead editor for a financial and bus...</td>\n",
       "      <td>|| user_query: pension fund returns today || t...</td>\n",
       "      <td>**National Pension System Corpus Growth and Ta...</td>\n",
       "      <td>False</td>\n",
       "      <td>False</td>\n",
       "      <td>**National Pension System Corpus Growth and Ta...</td>\n",
       "      <td>Please ensure to perform further research and ...</td>\n",
       "      <td>**National Pension System Corpus Growth and Ta...</td>\n",
       "      <td>please ensure to perform further research and ...</td>\n",
       "      <td>disclaimer</td>\n",
       "    </tr>\n",
       "    <tr>\n",
       "      <th>10</th>\n",
       "      <td>0</td>\n",
       "      <td>11</td>\n",
       "      <td>tata consumer share price live</td>\n",
       "      <td>10/02/24</td>\n",
       "      <td>['65c04f51c119ff6e57a3eed6', '65c04f56c119ff6e...</td>\n",
       "      <td>You're the lead editor for a financial and bus...</td>\n",
       "      <td>**Live Tata Consumer Products Share Price Unav...</td>\n",
       "      <td>You're the lead editor for a financial and bus...</td>\n",
       "      <td>|| user_query: tata consumer share price live ...</td>\n",
       "      <td>**Live Tata Consumer Products Share Price Unav...</td>\n",
       "      <td>False</td>\n",
       "      <td>False</td>\n",
       "      <td>**Live Tata Consumer Products Share Price Unav...</td>\n",
       "      <td>For investment decisions, do thorough research...</td>\n",
       "      <td>**Live Tata Consumer Products Share Price Unav...</td>\n",
       "      <td>for investment decisions, do thorough research...</td>\n",
       "      <td>disclaimer</td>\n",
       "    </tr>\n",
       "    <tr>\n",
       "      <th>11</th>\n",
       "      <td>0</td>\n",
       "      <td>12</td>\n",
       "      <td>ujjivan small finance bank's banking and finan...</td>\n",
       "      <td>24/01/24</td>\n",
       "      <td>['65b5c34c1b79671c6b70d1dc', '65b74dca1b79671c...</td>\n",
       "      <td>You're the lead editor for a financial and bus...</td>\n",
       "      <td>**AU Small Finance Bank's Financial Performanc...</td>\n",
       "      <td>You're the lead editor for a financial and bus...</td>\n",
       "      <td>|| user_query: ujjivan small finance bank's ba...</td>\n",
       "      <td>**AU Small Finance Bank's Financial Performanc...</td>\n",
       "      <td>False</td>\n",
       "      <td>False</td>\n",
       "      <td>**AU Small Finance Bank's Financial Performanc...</td>\n",
       "      <td>Investment advice: Readers should do thorough ...</td>\n",
       "      <td>**AU Small Finance Bank's Financial Performanc...</td>\n",
       "      <td>investment advice: readers should do thorough ...</td>\n",
       "      <td>disclaimer</td>\n",
       "    </tr>\n",
       "    <tr>\n",
       "      <th>12</th>\n",
       "      <td>0</td>\n",
       "      <td>13</td>\n",
       "      <td>the new india assurance company's insurance se...</td>\n",
       "      <td>06/01/24</td>\n",
       "      <td>['65b866cf1b79671c6b70d80a', '659cb73b4b25ce48...</td>\n",
       "      <td>You're the lead editor for a financial and bus...</td>\n",
       "      <td>**Decoding New India Assurance's Insurance Per...</td>\n",
       "      <td>You're the lead editor for a financial and bus...</td>\n",
       "      <td>|| user_query: the new india assurance company...</td>\n",
       "      <td>**Decoding New India Assurance's Insurance Per...</td>\n",
       "      <td>False</td>\n",
       "      <td>False</td>\n",
       "      <td>**Decoding New India Assurance's Insurance Per...</td>\n",
       "      <td>📝 **Market Context**: General insurance sector...</td>\n",
       "      <td>**Decoding New India Assurance's Insurance Per...</td>\n",
       "      <td>None</td>\n",
       "      <td>point</td>\n",
       "    </tr>\n",
       "    <tr>\n",
       "      <th>13</th>\n",
       "      <td>0</td>\n",
       "      <td>14</td>\n",
       "      <td>irctc's rail ticketing and catering services</td>\n",
       "      <td>30/12/23</td>\n",
       "      <td>['65a5f14a3c864051fa47ea0e', '65bc5ac6f3aa2a77...</td>\n",
       "      <td>You're the lead editor for a financial and bus...</td>\n",
       "      <td>**IRCTC Stock Performance Analysis - January t...</td>\n",
       "      <td>You're the lead editor for a financial and bus...</td>\n",
       "      <td>|| user_query: irctc's rail ticketing and cate...</td>\n",
       "      <td>**IRCTC Stock Performance Analysis - January t...</td>\n",
       "      <td>False</td>\n",
       "      <td>False</td>\n",
       "      <td>**IRCTC Stock Performance Analysis - January t...</td>\n",
       "      <td>🗓️ **Data Period**: This information ranges fr...</td>\n",
       "      <td>**IRCTC Stock Performance Analysis - January t...</td>\n",
       "      <td>None</td>\n",
       "      <td>point</td>\n",
       "    </tr>\n",
       "    <tr>\n",
       "      <th>14</th>\n",
       "      <td>0</td>\n",
       "      <td>19</td>\n",
       "      <td>disaster recovery</td>\n",
       "      <td>18/02/24</td>\n",
       "      <td>['65aa564e6391ac19baa86cce', '658fc0024b25ce48...</td>\n",
       "      <td>You're the lead editor for a financial and bus...</td>\n",
       "      <td>**Understanding NSE's Special Live Trading Ses...</td>\n",
       "      <td>You're the lead editor for a financial and bus...</td>\n",
       "      <td>|| user_query: disaster recovery || today date...</td>\n",
       "      <td>**Understanding NSE's Special Live Trading Ses...</td>\n",
       "      <td>False</td>\n",
       "      <td>False</td>\n",
       "      <td>**Understanding NSE's Special Live Trading Ses...</td>\n",
       "      <td>Additional research and consultation with a fi...</td>\n",
       "      <td>**Understanding NSE's Special Live Trading Ses...</td>\n",
       "      <td>additional research and consultation with a fi...</td>\n",
       "      <td>disclaimer</td>\n",
       "    </tr>\n",
       "    <tr>\n",
       "      <th>15</th>\n",
       "      <td>0</td>\n",
       "      <td>10</td>\n",
       "      <td>sensex daily performance</td>\n",
       "      <td>07/02/24</td>\n",
       "      <td>['65c0bfc1c119ff6e57a3f0f3', '65bccb50f3aa2a77...</td>\n",
       "      <td>You're the lead editor for a financial and bus...</td>\n",
       "      <td>**Daily Sensex and Nifty Performance Recap: 5t...</td>\n",
       "      <td>You're the lead editor for a financial and bus...</td>\n",
       "      <td>|| user_query: sensex daily performance || tod...</td>\n",
       "      <td>**Daily Sensex and Nifty Performance Recap: 5t...</td>\n",
       "      <td>False</td>\n",
       "      <td>False</td>\n",
       "      <td>**Daily Sensex and Nifty Performance Recap: 5t...</td>\n",
       "      <td>Please note that investing in the stock market...</td>\n",
       "      <td>**Daily Sensex and Nifty Performance Recap: 5t...</td>\n",
       "      <td>please note that investing in the stock market...</td>\n",
       "      <td>disclaimer</td>\n",
       "    </tr>\n",
       "    <tr>\n",
       "      <th>16</th>\n",
       "      <td>0</td>\n",
       "      <td>18</td>\n",
       "      <td>dividend stocks</td>\n",
       "      <td>09/01/24</td>\n",
       "      <td>['65a91c6d6391ac19baa822db', '65a91f5b6391ac19...</td>\n",
       "      <td>You're the lead editor for a financial and bus...</td>\n",
       "      <td>**Two Dividend Stocks to Buy and Hold Forever*...</td>\n",
       "      <td>You're the lead editor for a financial and bus...</td>\n",
       "      <td>|| user_query: dividend stocks || today date: ...</td>\n",
       "      <td>**Two Dividend Stocks to Buy and Hold Forever*...</td>\n",
       "      <td>False</td>\n",
       "      <td>False</td>\n",
       "      <td>**Two Dividend Stocks to Buy and Hold Forever*...</td>\n",
       "      <td>Please note, while these stocks present opport...</td>\n",
       "      <td>**Two Dividend Stocks to Buy and Hold Forever*...</td>\n",
       "      <td>please note, while these stocks present opport...</td>\n",
       "      <td>disclaimer</td>\n",
       "    </tr>\n",
       "    <tr>\n",
       "      <th>17</th>\n",
       "      <td>0</td>\n",
       "      <td>17</td>\n",
       "      <td>brand strategies</td>\n",
       "      <td>13/01/24</td>\n",
       "      <td>['65b714dc1b79671c6b70d3ad', '65a0e425e362d630...</td>\n",
       "      <td>You're the lead editor for a financial and bus...</td>\n",
       "      <td>**Exploring 2024's Top Trends in the FMCG Indu...</td>\n",
       "      <td>You're the lead editor for a financial and bus...</td>\n",
       "      <td>|| user_query: brand strategies || today date:...</td>\n",
       "      <td>**Exploring 2024's Top Trends in the FMCG Indu...</td>\n",
       "      <td>False</td>\n",
       "      <td>False</td>\n",
       "      <td>**Exploring 2024's Top Trends in the FMCG Indu...</td>\n",
       "      <td>🤖 **Artificial Intelligence**: AI-powered solu...</td>\n",
       "      <td>**Exploring 2024's Top Trends in the FMCG Indu...</td>\n",
       "      <td>None</td>\n",
       "      <td>point</td>\n",
       "    </tr>\n",
       "    <tr>\n",
       "      <th>18</th>\n",
       "      <td>0</td>\n",
       "      <td>16</td>\n",
       "      <td>loans</td>\n",
       "      <td>20/02/24</td>\n",
       "      <td>['65befdccf3aa2a77a58c06e6', '65bb79c8f3aa2a77...</td>\n",
       "      <td>You're the lead editor for a financial and bus...</td>\n",
       "      <td>**Union Budget 2024 Boosts Microfinance and Bo...</td>\n",
       "      <td>You're the lead editor for a financial and bus...</td>\n",
       "      <td>|| user_query: loans || today date: 20 Februar...</td>\n",
       "      <td>**Union Budget 2024 Boosts Microfinance and Bo...</td>\n",
       "      <td>False</td>\n",
       "      <td>False</td>\n",
       "      <td>**Union Budget 2024 Boosts Microfinance and Bo...</td>\n",
       "      <td>Please note that while this information provid...</td>\n",
       "      <td>**Union Budget 2024 Boosts Microfinance and Bo...</td>\n",
       "      <td>please note that while this information provid...</td>\n",
       "      <td>disclaimer</td>\n",
       "    </tr>\n",
       "    <tr>\n",
       "      <th>19</th>\n",
       "      <td>0</td>\n",
       "      <td>26</td>\n",
       "      <td>taapsee pannu thriller movies</td>\n",
       "      <td>05/02/24</td>\n",
       "      <td>['65aa56516391ac19baa86cf0', '65b4aa081b79671c...</td>\n",
       "      <td>You're the lead editor for a financial and bus...</td>\n",
       "      <td>I'm sorry, but your query about Taapsee Pannu ...</td>\n",
       "      <td>You're the lead editor for a financial and bus...</td>\n",
       "      <td>|| user_query: taapsee pannu thriller movies |...</td>\n",
       "      <td>I'm sorry, but your query about Taapsee Pannu ...</td>\n",
       "      <td>True</td>\n",
       "      <td>True</td>\n",
       "      <td>I'm sorry, but your query about Taapsee Pannu ...</td>\n",
       "      <td>I'm sorry, but your query about Taapsee Pannu ...</td>\n",
       "      <td>I'm sorry, but your query about Taapsee Pannu ...</td>\n",
       "      <td>None</td>\n",
       "      <td>sorry</td>\n",
       "    </tr>\n",
       "    <tr>\n",
       "      <th>20</th>\n",
       "      <td>0</td>\n",
       "      <td>22</td>\n",
       "      <td>best savings account interest rates in india</td>\n",
       "      <td>26/12/23</td>\n",
       "      <td>['658d3c174b25ce4814fb30d8', '658f87ca4b25ce48...</td>\n",
       "      <td>You're the lead editor for a financial and bus...</td>\n",
       "      <td>**Interest Rates on Savings Schemes and Bank F...</td>\n",
       "      <td>You're the lead editor for a financial and bus...</td>\n",
       "      <td>|| user_query: best savings account interest r...</td>\n",
       "      <td>**Interest Rates on Savings Schemes and Bank F...</td>\n",
       "      <td>False</td>\n",
       "      <td>False</td>\n",
       "      <td>**Interest Rates on Savings Schemes and Bank F...</td>\n",
       "      <td>Please do additional thorough research and con...</td>\n",
       "      <td>**Interest Rates on Savings Schemes and Bank F...</td>\n",
       "      <td>please do additional thorough research and con...</td>\n",
       "      <td>disclaimer</td>\n",
       "    </tr>\n",
       "    <tr>\n",
       "      <th>21</th>\n",
       "      <td>0</td>\n",
       "      <td>24</td>\n",
       "      <td>sunpharma share price live</td>\n",
       "      <td>20/01/24</td>\n",
       "      <td>['65b74dca1b79671c6b70d502', '65adda5b6391ac19...</td>\n",
       "      <td>You're the lead editor for a financial and bus...</td>\n",
       "      <td>**Sunpharma Recent Share Price Movements and E...</td>\n",
       "      <td>You're the lead editor for a financial and bus...</td>\n",
       "      <td>|| user_query: sunpharma share price live || t...</td>\n",
       "      <td>**Sunpharma Recent Share Price Movements and E...</td>\n",
       "      <td>False</td>\n",
       "      <td>False</td>\n",
       "      <td>**Sunpharma Recent Share Price Movements and E...</td>\n",
       "      <td>Please note, it's critical to do further resea...</td>\n",
       "      <td>**Sunpharma Recent Share Price Movements and E...</td>\n",
       "      <td>please note, it's critical to do further resea...</td>\n",
       "      <td>disclaimer</td>\n",
       "    </tr>\n",
       "    <tr>\n",
       "      <th>22</th>\n",
       "      <td>0</td>\n",
       "      <td>25</td>\n",
       "      <td>bharat heavy electricals' heavy electrical equ...</td>\n",
       "      <td>19/02/24</td>\n",
       "      <td>['65c04f55c119ff6e57a3ef04', '65bc5ac8f3aa2a77...</td>\n",
       "      <td>You're the lead editor for a financial and bus...</td>\n",
       "      <td>**BHEL Share Price Movement in Early February ...</td>\n",
       "      <td>You're the lead editor for a financial and bus...</td>\n",
       "      <td>|| user_query: bharat heavy electricals' heavy...</td>\n",
       "      <td>**BHEL Share Price Movement in Early February ...</td>\n",
       "      <td>False</td>\n",
       "      <td>False</td>\n",
       "      <td>**BHEL Share Price Movement in Early February ...</td>\n",
       "      <td>Always do additional thorough research and con...</td>\n",
       "      <td>**BHEL Share Price Movement in Early February ...</td>\n",
       "      <td>always do additional thorough research and con...</td>\n",
       "      <td>disclaimer</td>\n",
       "    </tr>\n",
       "    <tr>\n",
       "      <th>23</th>\n",
       "      <td>0</td>\n",
       "      <td>28</td>\n",
       "      <td>today's top losers in stock market</td>\n",
       "      <td>05/01/24</td>\n",
       "      <td>['6597e14b4b25ce4814fb4e46', '65a91f0b6391ac19...</td>\n",
       "      <td>You're the lead editor for a financial and bus...</td>\n",
       "      <td>**Today's Stock Market Losers: Key Insights on...</td>\n",
       "      <td>You're the lead editor for a financial and bus...</td>\n",
       "      <td>|| user_query: today's top losers in stock mar...</td>\n",
       "      <td>**Today's Stock Market Losers: Key Insights on...</td>\n",
       "      <td>False</td>\n",
       "      <td>False</td>\n",
       "      <td>**Today's Stock Market Losers: Key Insights on...</td>\n",
       "      <td>Please conduct additional thorough research an...</td>\n",
       "      <td>**Today's Stock Market Losers: Key Insights on...</td>\n",
       "      <td>please conduct additional thorough research an...</td>\n",
       "      <td>disclaimer</td>\n",
       "    </tr>\n",
       "    <tr>\n",
       "      <th>24</th>\n",
       "      <td>0</td>\n",
       "      <td>29</td>\n",
       "      <td>online trading</td>\n",
       "      <td>01/01/24</td>\n",
       "      <td>['65a91bf56391ac19baa81c89', '65a8d1de6391ac19...</td>\n",
       "      <td>You're the lead editor for a financial and bus...</td>\n",
       "      <td>**Best Online Trading Platforms and Brokers, J...</td>\n",
       "      <td>You're the lead editor for a financial and bus...</td>\n",
       "      <td>|| user_query: online trading || today date: 0...</td>\n",
       "      <td>**Best Online Trading Platforms and Brokers, J...</td>\n",
       "      <td>False</td>\n",
       "      <td>False</td>\n",
       "      <td>**Best Online Trading Platforms and Brokers, J...</td>\n",
       "      <td>Given the importance of thorough research and ...</td>\n",
       "      <td>**Best Online Trading Platforms and Brokers, J...</td>\n",
       "      <td>given the importance of thorough research and ...</td>\n",
       "      <td>disclaimer</td>\n",
       "    </tr>\n",
       "    <tr>\n",
       "      <th>25</th>\n",
       "      <td>0</td>\n",
       "      <td>20</td>\n",
       "      <td>economic stimulus news today</td>\n",
       "      <td>06/02/24</td>\n",
       "      <td>['65bb094df3aa2a77a58bf8c7', '65bb4182f3aa2a77...</td>\n",
       "      <td>You're the lead editor for a financial and bus...</td>\n",
       "      <td>**India Budget 2024: Economic Stimulus Through...</td>\n",
       "      <td>You're the lead editor for a financial and bus...</td>\n",
       "      <td>|| user_query: economic stimulus news today ||...</td>\n",
       "      <td>**India Budget 2024: Economic Stimulus Through...</td>\n",
       "      <td>False</td>\n",
       "      <td>False</td>\n",
       "      <td>**India Budget 2024: Economic Stimulus Through...</td>\n",
       "      <td>Please do your own thorough research and consu...</td>\n",
       "      <td>**India Budget 2024: Economic Stimulus Through...</td>\n",
       "      <td>please do your own thorough research and consu...</td>\n",
       "      <td>disclaimer</td>\n",
       "    </tr>\n",
       "    <tr>\n",
       "      <th>26</th>\n",
       "      <td>0</td>\n",
       "      <td>21</td>\n",
       "      <td>latest fdi policy india</td>\n",
       "      <td>08/02/24</td>\n",
       "      <td>['65be1ccef3aa2a77a58c0606', '65b9b7d3f3aa2a77...</td>\n",
       "      <td>You're the lead editor for a financial and bus...</td>\n",
       "      <td>**Latest FDI Policy Updates in India Post-Budg...</td>\n",
       "      <td>You're the lead editor for a financial and bus...</td>\n",
       "      <td>|| user_query: latest fdi policy india || toda...</td>\n",
       "      <td>**Latest FDI Policy Updates in India Post-Budg...</td>\n",
       "      <td>False</td>\n",
       "      <td>False</td>\n",
       "      <td>**Latest FDI Policy Updates in India Post-Budg...</td>\n",
       "      <td>Please do your own thorough research and consi...</td>\n",
       "      <td>**Latest FDI Policy Updates in India Post-Budg...</td>\n",
       "      <td>please do your own thorough research and consi...</td>\n",
       "      <td>disclaimer</td>\n",
       "    </tr>\n",
       "    <tr>\n",
       "      <th>27</th>\n",
       "      <td>0</td>\n",
       "      <td>23</td>\n",
       "      <td>the ramco cements' cement manufacturing</td>\n",
       "      <td>12/02/24</td>\n",
       "      <td>['6571c31325cc9a343f03da40', '6571c32c25cc9a34...</td>\n",
       "      <td>You're the lead editor for a financial and bus...</td>\n",
       "      <td>**Investment Assessments for The Ramco Cements...</td>\n",
       "      <td>You're the lead editor for a financial and bus...</td>\n",
       "      <td>|| user_query: the ramco cements' cement manuf...</td>\n",
       "      <td>**Investment Assessments for The Ramco Cements...</td>\n",
       "      <td>False</td>\n",
       "      <td>False</td>\n",
       "      <td>**Investment Assessments for The Ramco Cements...</td>\n",
       "      <td>Please note that investment decisions should b...</td>\n",
       "      <td>**Investment Assessments for The Ramco Cements...</td>\n",
       "      <td>please note that investment decisions should b...</td>\n",
       "      <td>disclaimer</td>\n",
       "    </tr>\n",
       "    <tr>\n",
       "      <th>28</th>\n",
       "      <td>0</td>\n",
       "      <td>39</td>\n",
       "      <td>bank of baroda's banking services</td>\n",
       "      <td>18/02/24</td>\n",
       "      <td>['65bb0963f3aa2a77a58bfa0d', '65bb0965f3aa2a77...</td>\n",
       "      <td>You're the lead editor for a financial and bus...</td>\n",
       "      <td>**Exploring Bank of Baroda's Q3 Performance an...</td>\n",
       "      <td>You're the lead editor for a financial and bus...</td>\n",
       "      <td>|| user_query: bank of baroda's banking servic...</td>\n",
       "      <td>**Exploring Bank of Baroda's Q3 Performance an...</td>\n",
       "      <td>False</td>\n",
       "      <td>False</td>\n",
       "      <td>**Exploring Bank of Baroda's Q3 Performance an...</td>\n",
       "      <td>**Note**: Users are encouraged to conduct addi...</td>\n",
       "      <td>**Exploring Bank of Baroda's Q3 Performance an...</td>\n",
       "      <td>**note**: users are encouraged to conduct addi...</td>\n",
       "      <td>disclaimer</td>\n",
       "    </tr>\n",
       "    <tr>\n",
       "      <th>29</th>\n",
       "      <td>0</td>\n",
       "      <td>37</td>\n",
       "      <td>manappuram finance's gold loan services</td>\n",
       "      <td>23/01/24</td>\n",
       "      <td>['65b358831b79671c6b70cf3c', '65b866d01b79671c...</td>\n",
       "      <td>You're the lead editor for a financial and bus...</td>\n",
       "      <td>**Manappuram Finance's Gold Loan Initiatives a...</td>\n",
       "      <td>You're the lead editor for a financial and bus...</td>\n",
       "      <td>|| user_query: manappuram finance's gold loan ...</td>\n",
       "      <td>**Manappuram Finance's Gold Loan Initiatives a...</td>\n",
       "      <td>False</td>\n",
       "      <td>False</td>\n",
       "      <td>**Manappuram Finance's Gold Loan Initiatives a...</td>\n",
       "      <td>Please note that I did not find specific infor...</td>\n",
       "      <td>**Manappuram Finance's Gold Loan Initiatives a...</td>\n",
       "      <td>please note that i did not find specific infor...</td>\n",
       "      <td>disclaimer</td>\n",
       "    </tr>\n",
       "  </tbody>\n",
       "</table>\n",
       "</div>"
      ],
      "text/plain": [
       "    0  index                                              query query_date  \\\n",
       "0   0      4                           social media influencers   16/02/24   \n",
       "1   0      5  kotak mahindra bank's banking and financial se...   23/12/23   \n",
       "2   0      1                      security token offerings news   05/02/24   \n",
       "3   0      7                               rock climbing basics   28/12/23   \n",
       "4   0      2                                    gold investment   01/01/24   \n",
       "5   0      0                              regulatory frameworks   27/01/24   \n",
       "6   0      9                                               bcci   18/01/24   \n",
       "7   0      8                      securities lending news today   25/01/24   \n",
       "8   0      6                  sbi life insurance stock analysis   25/01/24   \n",
       "9   0      3                         pension fund returns today   14/02/24   \n",
       "10  0     11                     tata consumer share price live   10/02/24   \n",
       "11  0     12  ujjivan small finance bank's banking and finan...   24/01/24   \n",
       "12  0     13  the new india assurance company's insurance se...   06/01/24   \n",
       "13  0     14       irctc's rail ticketing and catering services   30/12/23   \n",
       "14  0     19                                  disaster recovery   18/02/24   \n",
       "15  0     10                           sensex daily performance   07/02/24   \n",
       "16  0     18                                    dividend stocks   09/01/24   \n",
       "17  0     17                                   brand strategies   13/01/24   \n",
       "18  0     16                                              loans   20/02/24   \n",
       "19  0     26                      taapsee pannu thriller movies   05/02/24   \n",
       "20  0     22       best savings account interest rates in india   26/12/23   \n",
       "21  0     24                         sunpharma share price live   20/01/24   \n",
       "22  0     25  bharat heavy electricals' heavy electrical equ...   19/02/24   \n",
       "23  0     28                 today's top losers in stock market   05/01/24   \n",
       "24  0     29                                     online trading   01/01/24   \n",
       "25  0     20                       economic stimulus news today   06/02/24   \n",
       "26  0     21                            latest fdi policy india   08/02/24   \n",
       "27  0     23            the ramco cements' cement manufacturing   12/02/24   \n",
       "28  0     39                  bank of baroda's banking services   18/02/24   \n",
       "29  0     37            manappuram finance's gold loan services   23/01/24   \n",
       "\n",
       "                                          article_ids  \\\n",
       "0   ['65a7c2a01c9bc64bb8ae4a12', '65a7b6f11c9bc64b...   \n",
       "1   ['65a662593c864051fa47ec9e', '65a9e5d56391ac19...   \n",
       "2   ['65b320421b79671c6b70cca2', '65a91cba6391ac19...   \n",
       "3   ['65bb79c3f3aa2a77a58bfe62', '65bb79cef3aa2a77...   \n",
       "4   ['65bb096df3aa2a77a58bfb1a', '65a896681c9bc64b...   \n",
       "5   ['65b9b7d4f3aa2a77a58bf57f', '65b4aa001b79671c...   \n",
       "6   ['65a894451c9bc64bb8ae4ac6', '659e08404b25ce48...   \n",
       "7   ['65b23f561b79671c6b70cc68', '65b320421b79671c...   \n",
       "8   ['65b866521b79671c6b70d663', '65b9f00cf3aa2a77...   \n",
       "9   ['65adda576391ac19baa871d6', '65bc5b59f3aa2a77...   \n",
       "10  ['65c04f51c119ff6e57a3eed6', '65c04f56c119ff6e...   \n",
       "11  ['65b5c34c1b79671c6b70d1dc', '65b74dca1b79671c...   \n",
       "12  ['65b866cf1b79671c6b70d80a', '659cb73b4b25ce48...   \n",
       "13  ['65a5f14a3c864051fa47ea0e', '65bc5ac6f3aa2a77...   \n",
       "14  ['65aa564e6391ac19baa86cce', '658fc0024b25ce48...   \n",
       "15  ['65c0bfc1c119ff6e57a3f0f3', '65bccb50f3aa2a77...   \n",
       "16  ['65a91c6d6391ac19baa822db', '65a91f5b6391ac19...   \n",
       "17  ['65b714dc1b79671c6b70d3ad', '65a0e425e362d630...   \n",
       "18  ['65befdccf3aa2a77a58c06e6', '65bb79c8f3aa2a77...   \n",
       "19  ['65aa56516391ac19baa86cf0', '65b4aa081b79671c...   \n",
       "20  ['658d3c174b25ce4814fb30d8', '658f87ca4b25ce48...   \n",
       "21  ['65b74dca1b79671c6b70d502', '65adda5b6391ac19...   \n",
       "22  ['65c04f55c119ff6e57a3ef04', '65bc5ac8f3aa2a77...   \n",
       "23  ['6597e14b4b25ce4814fb4e46', '65a91f0b6391ac19...   \n",
       "24  ['65a91bf56391ac19baa81c89', '65a8d1de6391ac19...   \n",
       "25  ['65bb094df3aa2a77a58bf8c7', '65bb4182f3aa2a77...   \n",
       "26  ['65be1ccef3aa2a77a58c0606', '65b9b7d3f3aa2a77...   \n",
       "27  ['6571c31325cc9a343f03da40', '6571c32c25cc9a34...   \n",
       "28  ['65bb0963f3aa2a77a58bfa0d', '65bb0965f3aa2a77...   \n",
       "29  ['65b358831b79671c6b70cf3c', '65b866d01b79671c...   \n",
       "\n",
       "                                           gpt_prompt  \\\n",
       "0   You're the lead editor for a financial and bus...   \n",
       "1   You're the lead editor for a financial and bus...   \n",
       "2   You're the lead editor for a financial and bus...   \n",
       "3   You're the lead editor for a financial and bus...   \n",
       "4   You're the lead editor for a financial and bus...   \n",
       "5   You're the lead editor for a financial and bus...   \n",
       "6   You're the lead editor for a financial and bus...   \n",
       "7   You're the lead editor for a financial and bus...   \n",
       "8   You're the lead editor for a financial and bus...   \n",
       "9   You're the lead editor for a financial and bus...   \n",
       "10  You're the lead editor for a financial and bus...   \n",
       "11  You're the lead editor for a financial and bus...   \n",
       "12  You're the lead editor for a financial and bus...   \n",
       "13  You're the lead editor for a financial and bus...   \n",
       "14  You're the lead editor for a financial and bus...   \n",
       "15  You're the lead editor for a financial and bus...   \n",
       "16  You're the lead editor for a financial and bus...   \n",
       "17  You're the lead editor for a financial and bus...   \n",
       "18  You're the lead editor for a financial and bus...   \n",
       "19  You're the lead editor for a financial and bus...   \n",
       "20  You're the lead editor for a financial and bus...   \n",
       "21  You're the lead editor for a financial and bus...   \n",
       "22  You're the lead editor for a financial and bus...   \n",
       "23  You're the lead editor for a financial and bus...   \n",
       "24  You're the lead editor for a financial and bus...   \n",
       "25  You're the lead editor for a financial and bus...   \n",
       "26  You're the lead editor for a financial and bus...   \n",
       "27  You're the lead editor for a financial and bus...   \n",
       "28  You're the lead editor for a financial and bus...   \n",
       "29  You're the lead editor for a financial and bus...   \n",
       "\n",
       "                                             response  \\\n",
       "0   I'm sorry, but the queries you've provided rel...   \n",
       "1   **Kotak Mahindra Bank Navigates Funding and Gr...   \n",
       "2   **Exploring Recent Security Token Offerings an...   \n",
       "3   **Understanding the Impact of Budget 2024 on I...   \n",
       "4   **Gold Investment Outlook for 2024 Shows Promi...   \n",
       "5   **Decoding Regulatory Frameworks: Data Protect...   \n",
       "6   **BCCI Secures New Partnerships Amid Continued...   \n",
       "7   **Today's Update: Securities Lending News and ...   \n",
       "8   **Consistent Buy Ratings for SBI Life Insuranc...   \n",
       "9   **National Pension System Corpus Growth and Ta...   \n",
       "10  **Live Tata Consumer Products Share Price Unav...   \n",
       "11  **AU Small Finance Bank's Financial Performanc...   \n",
       "12  **Decoding New India Assurance's Insurance Per...   \n",
       "13  **IRCTC Stock Performance Analysis - January t...   \n",
       "14  **Understanding NSE's Special Live Trading Ses...   \n",
       "15  **Daily Sensex and Nifty Performance Recap: 5t...   \n",
       "16  **Two Dividend Stocks to Buy and Hold Forever*...   \n",
       "17  **Exploring 2024's Top Trends in the FMCG Indu...   \n",
       "18  **Union Budget 2024 Boosts Microfinance and Bo...   \n",
       "19  I'm sorry, but your query about Taapsee Pannu ...   \n",
       "20  **Interest Rates on Savings Schemes and Bank F...   \n",
       "21  **Sunpharma Recent Share Price Movements and E...   \n",
       "22  **BHEL Share Price Movement in Early February ...   \n",
       "23  **Today's Stock Market Losers: Key Insights on...   \n",
       "24  **Best Online Trading Platforms and Brokers, J...   \n",
       "25  **India Budget 2024: Economic Stimulus Through...   \n",
       "26  **Latest FDI Policy Updates in India Post-Budg...   \n",
       "27  **Investment Assessments for The Ramco Cements...   \n",
       "28  **Exploring Bank of Baroda's Q3 Performance an...   \n",
       "29  **Manappuram Finance's Gold Loan Initiatives a...   \n",
       "\n",
       "                                        system_prompt  \\\n",
       "0   You're the lead editor for a financial and bus...   \n",
       "1   You're the lead editor for a financial and bus...   \n",
       "2   You're the lead editor for a financial and bus...   \n",
       "3   You're the lead editor for a financial and bus...   \n",
       "4   You're the lead editor for a financial and bus...   \n",
       "5   You're the lead editor for a financial and bus...   \n",
       "6   You're the lead editor for a financial and bus...   \n",
       "7   You're the lead editor for a financial and bus...   \n",
       "8   You're the lead editor for a financial and bus...   \n",
       "9   You're the lead editor for a financial and bus...   \n",
       "10  You're the lead editor for a financial and bus...   \n",
       "11  You're the lead editor for a financial and bus...   \n",
       "12  You're the lead editor for a financial and bus...   \n",
       "13  You're the lead editor for a financial and bus...   \n",
       "14  You're the lead editor for a financial and bus...   \n",
       "15  You're the lead editor for a financial and bus...   \n",
       "16  You're the lead editor for a financial and bus...   \n",
       "17  You're the lead editor for a financial and bus...   \n",
       "18  You're the lead editor for a financial and bus...   \n",
       "19  You're the lead editor for a financial and bus...   \n",
       "20  You're the lead editor for a financial and bus...   \n",
       "21  You're the lead editor for a financial and bus...   \n",
       "22  You're the lead editor for a financial and bus...   \n",
       "23  You're the lead editor for a financial and bus...   \n",
       "24  You're the lead editor for a financial and bus...   \n",
       "25  You're the lead editor for a financial and bus...   \n",
       "26  You're the lead editor for a financial and bus...   \n",
       "27  You're the lead editor for a financial and bus...   \n",
       "28  You're the lead editor for a financial and bus...   \n",
       "29  You're the lead editor for a financial and bus...   \n",
       "\n",
       "                                          user_prompt  \\\n",
       "0   || user_query: social media influencers || tod...   \n",
       "1   || user_query: kotak mahindra bank's banking a...   \n",
       "2   || user_query: security token offerings news |...   \n",
       "3   || user_query: rock climbing basics || today d...   \n",
       "4   || user_query: gold investment || today date: ...   \n",
       "5   || user_query: regulatory frameworks || today ...   \n",
       "6   || user_query: bcci || today date: 18 January ...   \n",
       "7   || user_query: securities lending news today |...   \n",
       "8   || user_query: sbi life insurance stock analys...   \n",
       "9   || user_query: pension fund returns today || t...   \n",
       "10  || user_query: tata consumer share price live ...   \n",
       "11  || user_query: ujjivan small finance bank's ba...   \n",
       "12  || user_query: the new india assurance company...   \n",
       "13  || user_query: irctc's rail ticketing and cate...   \n",
       "14  || user_query: disaster recovery || today date...   \n",
       "15  || user_query: sensex daily performance || tod...   \n",
       "16  || user_query: dividend stocks || today date: ...   \n",
       "17  || user_query: brand strategies || today date:...   \n",
       "18  || user_query: loans || today date: 20 Februar...   \n",
       "19  || user_query: taapsee pannu thriller movies |...   \n",
       "20  || user_query: best savings account interest r...   \n",
       "21  || user_query: sunpharma share price live || t...   \n",
       "22  || user_query: bharat heavy electricals' heavy...   \n",
       "23  || user_query: today's top losers in stock mar...   \n",
       "24  || user_query: online trading || today date: 0...   \n",
       "25  || user_query: economic stimulus news today ||...   \n",
       "26  || user_query: latest fdi policy india || toda...   \n",
       "27  || user_query: the ramco cements' cement manuf...   \n",
       "28  || user_query: bank of baroda's banking servic...   \n",
       "29  || user_query: manappuram finance's gold loan ...   \n",
       "\n",
       "                                    modified_response  has_our_site  is_sorry  \\\n",
       "0   I'm sorry, but the queries you've provided rel...          True      True   \n",
       "1   **Kotak Mahindra Bank Navigates Funding and Gr...         False     False   \n",
       "2   **Exploring Recent Security Token Offerings an...         False     False   \n",
       "3   **Understanding the Impact of Budget 2024 on I...         False     False   \n",
       "4   **Gold Investment Outlook for 2024 Shows Promi...         False     False   \n",
       "5   **Decoding Regulatory Frameworks: Data Protect...         False     False   \n",
       "6   **BCCI Secures New Partnerships Amid Continued...         False     False   \n",
       "7   **Today's Update: Securities Lending News and ...         False     False   \n",
       "8   **Consistent Buy Ratings for SBI Life Insuranc...         False     False   \n",
       "9   **National Pension System Corpus Growth and Ta...         False     False   \n",
       "10  **Live Tata Consumer Products Share Price Unav...         False     False   \n",
       "11  **AU Small Finance Bank's Financial Performanc...         False     False   \n",
       "12  **Decoding New India Assurance's Insurance Per...         False     False   \n",
       "13  **IRCTC Stock Performance Analysis - January t...         False     False   \n",
       "14  **Understanding NSE's Special Live Trading Ses...         False     False   \n",
       "15  **Daily Sensex and Nifty Performance Recap: 5t...         False     False   \n",
       "16  **Two Dividend Stocks to Buy and Hold Forever*...         False     False   \n",
       "17  **Exploring 2024's Top Trends in the FMCG Indu...         False     False   \n",
       "18  **Union Budget 2024 Boosts Microfinance and Bo...         False     False   \n",
       "19  I'm sorry, but your query about Taapsee Pannu ...          True      True   \n",
       "20  **Interest Rates on Savings Schemes and Bank F...         False     False   \n",
       "21  **Sunpharma Recent Share Price Movements and E...         False     False   \n",
       "22  **BHEL Share Price Movement in Early February ...         False     False   \n",
       "23  **Today's Stock Market Losers: Key Insights on...         False     False   \n",
       "24  **Best Online Trading Platforms and Brokers, J...         False     False   \n",
       "25  **India Budget 2024: Economic Stimulus Through...         False     False   \n",
       "26  **Latest FDI Policy Updates in India Post-Budg...         False     False   \n",
       "27  **Investment Assessments for The Ramco Cements...         False     False   \n",
       "28  **Exploring Bank of Baroda's Q3 Performance an...         False     False   \n",
       "29  **Manappuram Finance's Gold Loan Initiatives a...         False     False   \n",
       "\n",
       "                                         new_response  \\\n",
       "0   I'm sorry, but the queries you've provided rel...   \n",
       "1   **Kotak Mahindra Bank Navigates Funding and Gr...   \n",
       "2   **Exploring Recent Security Token Offerings an...   \n",
       "3   **Understanding the Impact of Budget 2024 on I...   \n",
       "4   **Gold Investment Outlook for 2024 Shows Promi...   \n",
       "5   **Decoding Regulatory Frameworks: Data Protect...   \n",
       "6   **BCCI Secures New Partnerships Amid Continued...   \n",
       "7   **Today's Update: Securities Lending News and ...   \n",
       "8   **Consistent Buy Ratings for SBI Life Insuranc...   \n",
       "9   **National Pension System Corpus Growth and Ta...   \n",
       "10  **Live Tata Consumer Products Share Price Unav...   \n",
       "11  **AU Small Finance Bank's Financial Performanc...   \n",
       "12  **Decoding New India Assurance's Insurance Per...   \n",
       "13  **IRCTC Stock Performance Analysis - January t...   \n",
       "14  **Understanding NSE's Special Live Trading Ses...   \n",
       "15  **Daily Sensex and Nifty Performance Recap: 5t...   \n",
       "16  **Two Dividend Stocks to Buy and Hold Forever*...   \n",
       "17  **Exploring 2024's Top Trends in the FMCG Indu...   \n",
       "18  **Union Budget 2024 Boosts Microfinance and Bo...   \n",
       "19  I'm sorry, but your query about Taapsee Pannu ...   \n",
       "20  **Interest Rates on Savings Schemes and Bank F...   \n",
       "21  **Sunpharma Recent Share Price Movements and E...   \n",
       "22  **BHEL Share Price Movement in Early February ...   \n",
       "23  **Today's Stock Market Losers: Key Insights on...   \n",
       "24  **Best Online Trading Platforms and Brokers, J...   \n",
       "25  **India Budget 2024: Economic Stimulus Through...   \n",
       "26  **Latest FDI Policy Updates in India Post-Budg...   \n",
       "27  **Investment Assessments for The Ramco Cements...   \n",
       "28  **Exploring Bank of Baroda's Q3 Performance an...   \n",
       "29  **Manappuram Finance's Gold Loan Initiatives a...   \n",
       "\n",
       "                                            last_line  \\\n",
       "0   I'm sorry, but the queries you've provided rel...   \n",
       "1   **Investment Note**: For investment decisions,...   \n",
       "2   Please remember to do additional thorough rese...   \n",
       "3   *Articles from early 2024 highlight expectatio...   \n",
       "4   It is important to do thorough research and co...   \n",
       "5   Please note that investing in digital lending ...   \n",
       "6   Please note that financial decisions should be...   \n",
       "7   **Please note**: The specific details of secur...   \n",
       "8   Investment decisions should not be based solel...   \n",
       "9   Please ensure to perform further research and ...   \n",
       "10  For investment decisions, do thorough research...   \n",
       "11  Investment advice: Readers should do thorough ...   \n",
       "12  📝 **Market Context**: General insurance sector...   \n",
       "13  🗓️ **Data Period**: This information ranges fr...   \n",
       "14  Additional research and consultation with a fi...   \n",
       "15  Please note that investing in the stock market...   \n",
       "16  Please note, while these stocks present opport...   \n",
       "17  🤖 **Artificial Intelligence**: AI-powered solu...   \n",
       "18  Please note that while this information provid...   \n",
       "19  I'm sorry, but your query about Taapsee Pannu ...   \n",
       "20  Please do additional thorough research and con...   \n",
       "21  Please note, it's critical to do further resea...   \n",
       "22  Always do additional thorough research and con...   \n",
       "23  Please conduct additional thorough research an...   \n",
       "24  Given the importance of thorough research and ...   \n",
       "25  Please do your own thorough research and consu...   \n",
       "26  Please do your own thorough research and consi...   \n",
       "27  Please note that investment decisions should b...   \n",
       "28  **Note**: Users are encouraged to conduct addi...   \n",
       "29  Please note that I did not find specific infor...   \n",
       "\n",
       "                                   truncated_response  \\\n",
       "0   I'm sorry, but the queries you've provided rel...   \n",
       "1   **Kotak Mahindra Bank Navigates Funding and Gr...   \n",
       "2   **Exploring Recent Security Token Offerings an...   \n",
       "3   **Understanding the Impact of Budget 2024 on I...   \n",
       "4   **Gold Investment Outlook for 2024 Shows Promi...   \n",
       "5   **Decoding Regulatory Frameworks: Data Protect...   \n",
       "6   **BCCI Secures New Partnerships Amid Continued...   \n",
       "7   **Today's Update: Securities Lending News and ...   \n",
       "8   **Consistent Buy Ratings for SBI Life Insuranc...   \n",
       "9   **National Pension System Corpus Growth and Ta...   \n",
       "10  **Live Tata Consumer Products Share Price Unav...   \n",
       "11  **AU Small Finance Bank's Financial Performanc...   \n",
       "12  **Decoding New India Assurance's Insurance Per...   \n",
       "13  **IRCTC Stock Performance Analysis - January t...   \n",
       "14  **Understanding NSE's Special Live Trading Ses...   \n",
       "15  **Daily Sensex and Nifty Performance Recap: 5t...   \n",
       "16  **Two Dividend Stocks to Buy and Hold Forever*...   \n",
       "17  **Exploring 2024's Top Trends in the FMCG Indu...   \n",
       "18  **Union Budget 2024 Boosts Microfinance and Bo...   \n",
       "19  I'm sorry, but your query about Taapsee Pannu ...   \n",
       "20  **Interest Rates on Savings Schemes and Bank F...   \n",
       "21  **Sunpharma Recent Share Price Movements and E...   \n",
       "22  **BHEL Share Price Movement in Early February ...   \n",
       "23  **Today's Stock Market Losers: Key Insights on...   \n",
       "24  **Best Online Trading Platforms and Brokers, J...   \n",
       "25  **India Budget 2024: Economic Stimulus Through...   \n",
       "26  **Latest FDI Policy Updates in India Post-Budg...   \n",
       "27  **Investment Assessments for The Ramco Cements...   \n",
       "28  **Exploring Bank of Baroda's Q3 Performance an...   \n",
       "29  **Manappuram Finance's Gold Loan Initiatives a...   \n",
       "\n",
       "                                           disclaimer last_line_type  \n",
       "0                                                None          sorry  \n",
       "1   **investment note**: for investment decisions,...     disclaimer  \n",
       "2   please remember to do additional thorough rese...     disclaimer  \n",
       "3   *articles from early 2024 highlight expectatio...     disclaimer  \n",
       "4   it is important to do thorough research and co...     disclaimer  \n",
       "5   please note that investing in digital lending ...     disclaimer  \n",
       "6   please note that financial decisions should be...     disclaimer  \n",
       "7   **please note**: the specific details of secur...     disclaimer  \n",
       "8   investment decisions should not be based solel...     disclaimer  \n",
       "9   please ensure to perform further research and ...     disclaimer  \n",
       "10  for investment decisions, do thorough research...     disclaimer  \n",
       "11  investment advice: readers should do thorough ...     disclaimer  \n",
       "12                                               None          point  \n",
       "13                                               None          point  \n",
       "14  additional research and consultation with a fi...     disclaimer  \n",
       "15  please note that investing in the stock market...     disclaimer  \n",
       "16  please note, while these stocks present opport...     disclaimer  \n",
       "17                                               None          point  \n",
       "18  please note that while this information provid...     disclaimer  \n",
       "19                                               None          sorry  \n",
       "20  please do additional thorough research and con...     disclaimer  \n",
       "21  please note, it's critical to do further resea...     disclaimer  \n",
       "22  always do additional thorough research and con...     disclaimer  \n",
       "23  please conduct additional thorough research an...     disclaimer  \n",
       "24  given the importance of thorough research and ...     disclaimer  \n",
       "25  please do your own thorough research and consu...     disclaimer  \n",
       "26  please do your own thorough research and consi...     disclaimer  \n",
       "27  please note that investment decisions should b...     disclaimer  \n",
       "28  **note**: users are encouraged to conduct addi...     disclaimer  \n",
       "29  please note that i did not find specific infor...     disclaimer  "
      ]
     },
     "execution_count": 98,
     "metadata": {},
     "output_type": "execute_result"
    }
   ],
   "source": [
    "cleaned_responses.head(30)"
   ]
  },
  {
   "cell_type": "code",
   "execution_count": 97,
   "id": "dfa08895-be70-4a7b-8fd3-01d180c3d838",
   "metadata": {
    "tags": []
   },
   "outputs": [],
   "source": [
    "def format_as_prompt_response(response_row):\n",
    "    messages = [{\"role\": \"system\", \"content\": new_system_prompt},\n",
    "                {\"role\": \"user\", \"content\": response_row['user_prompt']}]\n",
    "    context_prompt = tokenizer.decode(tokenizer.apply_chat_template(messages, add_generation_prompt=True))\n",
    "    prompt = context_prompt + response_row['truncated_response']\n",
    "    prompt = re.sub(r'\\n+','\\n',prompt)\n",
    "    return prompt"
   ]
  },
  {
   "cell_type": "code",
   "execution_count": 101,
   "id": "312d1a36-98d5-4ccc-ace5-882826abda4f",
   "metadata": {
    "tags": []
   },
   "outputs": [
    {
     "data": {
      "text/plain": [
       "2719"
      ]
     },
     "execution_count": 101,
     "metadata": {},
     "output_type": "execute_result"
    }
   ],
   "source": [
    "len(tokenizer.encode(format_as_prompt_response(cleaned_responses.iloc[1])))"
   ]
  },
  {
   "cell_type": "code",
   "execution_count": 103,
   "id": "c2111a63-9118-4e25-9a8d-3e251b8a4530",
   "metadata": {
    "tags": []
   },
   "outputs": [],
   "source": [
    "from datasets import Dataset\n",
    "sys.path.append(\"../utils\")\n",
    "from pack_dataset import pack_dataset\n",
    "finetune_id = 'PinkSparrowOnTV'"
   ]
  },
  {
   "cell_type": "code",
   "execution_count": 108,
   "id": "522bf3c8-f345-4e7e-9029-5f7146bd9e0a",
   "metadata": {
    "tags": []
   },
   "outputs": [],
   "source": [
    "train_df = cleaned_responses[['user_prompt','truncated_response']]\n",
    "dataset = Dataset.from_pandas(train_df)"
   ]
  },
  {
   "cell_type": "code",
   "execution_count": 107,
   "id": "67d3efa6-bb2f-4811-89dc-9555b43a266d",
   "metadata": {
    "tags": []
   },
   "outputs": [],
   "source": [
    "import os\n",
    "os.environ['TOKENIZERS_PARALLELISM'] = 'False'"
   ]
  },
  {
   "cell_type": "code",
   "execution_count": 109,
   "id": "cb782180-1442-433b-a48e-c46ef9eeade3",
   "metadata": {
    "tags": []
   },
   "outputs": [
    {
     "data": {
      "application/vnd.jupyter.widget-view+json": {
       "model_id": "8fcea506700348e686b0097ae4b0197d",
       "version_major": 2,
       "version_minor": 0
      },
      "text/plain": [
       "Map:   0%|          | 0/2480 [00:00<?, ? examples/s]"
      ]
     },
     "metadata": {},
     "output_type": "display_data"
    },
    {
     "data": {
      "application/vnd.jupyter.widget-view+json": {
       "model_id": "4de0a927b4194ab594313bf3d3c76acb",
       "version_major": 2,
       "version_minor": 0
      },
      "text/plain": [
       "Map:   0%|          | 0/2480 [00:00<?, ? examples/s]"
      ]
     },
     "metadata": {},
     "output_type": "display_data"
    },
    {
     "name": "stdout",
     "output_type": "stream",
     "text": [
      "Chunking dataset into chunks of 4096 tokens.\n"
     ]
    },
    {
     "data": {
      "application/vnd.jupyter.widget-view+json": {
       "model_id": "b45571a2f5df4341a62905b178d80e12",
       "version_major": 2,
       "version_minor": 0
      },
      "text/plain": [
       "Map:   0%|          | 0/2480 [00:00<?, ? examples/s]"
      ]
     },
     "metadata": {},
     "output_type": "display_data"
    },
    {
     "name": "stdout",
     "output_type": "stream",
     "text": [
      "Total number of samples: 1818\n",
      "Total number of samples: 1818\n"
     ]
    }
   ],
   "source": [
    "# template dataset to add prompt to each sample\n",
    "def template_dataset(sample):\n",
    "    sample[\"text\"] = f\"{format_as_prompt_response(sample)}{tokenizer.eos_token}\"\n",
    "    return sample\n",
    "\n",
    "dataset = dataset.map(template_dataset)\n",
    "# tokenize dataset\n",
    "dataset = dataset.map(\n",
    "    lambda sample: tokenizer(sample[\"text\"]), batched=True, remove_columns=list(dataset.features)\n",
    ")\n",
    "# chunk dataset\n",
    "lm_dataset = pack_dataset(dataset, chunk_length=4096) # We use 4096 as the maximum length for packing\n",
    "print(f\"Total number of samples: {len(lm_dataset)}\")"
   ]
  },
  {
   "cell_type": "code",
   "execution_count": 110,
   "id": "37bed5e0-acef-46a5-9405-95bfd198f64a",
   "metadata": {
    "tags": []
   },
   "outputs": [
    {
     "name": "stderr",
     "output_type": "stream",
     "text": [
      "Couldn't call 'get_role' to get Role ARN from role name ravi_tej to get Role path.\n"
     ]
    },
    {
     "name": "stdout",
     "output_type": "stream",
     "text": [
      "sagemaker role arn: arn:aws:iam::005418323977:role/service-role/AmazonSageMaker-ExecutionRole-20231030T210397\n",
      "sagemaker bucket: sagemaker-ap-south-1-005418323977\n",
      "sagemaker session region: ap-south-1\n"
     ]
    }
   ],
   "source": [
    "import sagemaker\n",
    "import boto3\n",
    "sess = sagemaker.Session()\n",
    "sagemaker_session_bucket=None\n",
    "if sagemaker_session_bucket is None and sess is not None:\n",
    "    sagemaker_session_bucket = sess.default_bucket()\n",
    "try:\n",
    "    role = sagemaker.get_execution_role()\n",
    "except ValueError:\n",
    "    iam = boto3.client('iam')\n",
    "    role = iam.get_role(RoleName='AmazonSageMaker-ExecutionRole-20231030T210397')['Role']['Arn']\n",
    "sess = sagemaker.Session(default_bucket=sagemaker_session_bucket)\n",
    "print(f\"sagemaker role arn: {role}\")\n",
    "print(f\"sagemaker bucket: {sess.default_bucket()}\")\n",
    "print(f\"sagemaker session region: {sess.boto_region_name}\")"
   ]
  },
  {
   "cell_type": "code",
   "execution_count": 111,
   "id": "c7d1c8bb-b4eb-4059-a751-99293021d019",
   "metadata": {
    "tags": []
   },
   "outputs": [],
   "source": [
    "from datetime import datetime"
   ]
  },
  {
   "cell_type": "code",
   "execution_count": 112,
   "id": "8ec27c80-f374-4896-b33c-a69187a84707",
   "metadata": {
    "tags": []
   },
   "outputs": [
    {
     "data": {
      "text/plain": [
       "2480"
      ]
     },
     "execution_count": 112,
     "metadata": {},
     "output_type": "execute_result"
    }
   ],
   "source": [
    "len(train_df)"
   ]
  },
  {
   "cell_type": "code",
   "execution_count": 113,
   "id": "19b11ef8-71d9-46c8-be58-0f19b732c955",
   "metadata": {
    "tags": []
   },
   "outputs": [],
   "source": [
    "finetune_dataset_config = {'finetune_id': 'search_openhermes_fp16_' + finetune_id,\n",
    "                          'date': datetime.strftime(datetime.today(),'%Y-%m-%d'),\n",
    "                          'num_datapoints': len(train_df),\n",
    "                            'data_source': 'gpt4'}"
   ]
  },
  {
   "cell_type": "code",
   "execution_count": 114,
   "id": "7e21ac61-d939-4511-aec6-f51c22644fb2",
   "metadata": {
    "tags": []
   },
   "outputs": [
    {
     "data": {
      "application/vnd.jupyter.widget-view+json": {
       "model_id": "4b321a2483a24429a4617a53532cb72a",
       "version_major": 2,
       "version_minor": 0
      },
      "text/plain": [
       "Saving the dataset (0/1 shards):   0%|          | 0/1818 [00:00<?, ? examples/s]"
      ]
     },
     "metadata": {},
     "output_type": "display_data"
    },
    {
     "name": "stdout",
     "output_type": "stream",
     "text": [
      "uploaded data to:\n",
      "training dataset to: s3://sagemaker-ap-south-1-005418323977/fine_tuning_datasets/2024-02-09-search_openhermes_fp16_PinkSparrowOnTV\n"
     ]
    }
   ],
   "source": [
    "# save train_dataset to s3\n",
    "training_input_path = f's3://{sess.default_bucket()}/fine_tuning_datasets/{finetune_dataset_config[\"date\"]}-{finetune_dataset_config[\"finetune_id\"]}'\n",
    "lm_dataset.save_to_disk(training_input_path)\n",
    "\n",
    "print(\"uploaded data to:\")\n",
    "print(f\"training dataset to: {training_input_path}\")"
   ]
  },
  {
   "cell_type": "code",
   "execution_count": null,
   "id": "038c6638-45bc-453b-8053-7f40aaee492a",
   "metadata": {},
   "outputs": [],
   "source": []
  }
 ],
 "metadata": {
  "kernelspec": {
   "display_name": "recoenv",
   "language": "python",
   "name": "recoenv"
  },
  "language_info": {
   "codemirror_mode": {
    "name": "ipython",
    "version": 3
   },
   "file_extension": ".py",
   "mimetype": "text/x-python",
   "name": "python",
   "nbconvert_exporter": "python",
   "pygments_lexer": "ipython3",
   "version": "3.11.5"
  }
 },
 "nbformat": 4,
 "nbformat_minor": 5
}
