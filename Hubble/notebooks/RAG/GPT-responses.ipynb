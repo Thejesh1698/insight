{
 "cells": [
  {
   "cell_type": "code",
   "execution_count": 1,
   "id": "c8418aeb-020c-433a-b8fe-9595c97642fe",
   "metadata": {
    "tags": []
   },
   "outputs": [],
   "source": [
    "parent_folder = '/Users/ravi.tej/Desktop/ML/Recommendations/hubble/'\n",
    "from hydra import compose, initialize\n",
    "import os\n",
    "\n",
    "import xml.etree.ElementTree as ET\n",
    "\n",
    "tree = ET.parse('../../conf/application.run.xml')\n",
    "root = tree.getroot()\n",
    "\n",
    "envs_element = root.find('./configuration/envs')\n",
    "for variable in envs_element.findall('env'):\n",
    "    name = variable.get('name')\n",
    "    value = variable.get('value')\n",
    "    os.environ[name] = value\n",
    "\n",
    "import sys\n",
    "sys.path.append('/Users/ravi.tej/Desktop/ML/Recommendations/hubble/')"
   ]
  },
  {
   "cell_type": "code",
   "execution_count": 2,
   "id": "732101aa-f5d3-4d3f-ad6c-20902eb2a855",
   "metadata": {
    "tags": []
   },
   "outputs": [
    {
     "name": "stderr",
     "output_type": "stream",
     "text": [
      "/Users/ravi.tej/anaconda3/envs/recoenv/lib/python3.11/site-packages/transformers/models/auto/tokenization_auto.py:671: FutureWarning: The `use_auth_token` argument is deprecated and will be removed in v5 of Transformers. Please use `token` instead.\n",
      "  warnings.warn(\n",
      "Special tokens have been added in the vocabulary, make sure the associated word embeddings are fine-tuned or trained.\n",
      "Special tokens have been added in the vocabulary, make sure the associated word embeddings are fine-tuned or trained.\n"
     ]
    }
   ],
   "source": [
    "from src.HybridSearchService import HybridSearchService\n",
    "from src.QueryService import QueryService\n",
    "from sql.PostgresDatabaseOperation import PostgresDatabaseOperation\n",
    "from datetime import datetime"
   ]
  },
  {
   "cell_type": "code",
   "execution_count": 3,
   "id": "0e30b233-6601-4e0c-a1d0-b8a638eaf0da",
   "metadata": {
    "tags": []
   },
   "outputs": [
    {
     "name": "stderr",
     "output_type": "stream",
     "text": [
      "Special tokens have been added in the vocabulary, make sure the associated word embeddings are fine-tuned or trained.\n",
      "Special tokens have been added in the vocabulary, make sure the associated word embeddings are fine-tuned or trained.\n"
     ]
    }
   ],
   "source": [
    "from src.SummaryService import SummaryService"
   ]
  },
  {
   "cell_type": "code",
   "execution_count": 4,
   "id": "8433700c-909f-492a-a561-21e6481e5e16",
   "metadata": {
    "tags": []
   },
   "outputs": [],
   "source": [
    "import pandas as pd"
   ]
  },
  {
   "cell_type": "code",
   "execution_count": 5,
   "id": "7c3ffaaa-c5ec-4285-a9be-bbda1b581669",
   "metadata": {
    "tags": []
   },
   "outputs": [],
   "source": [
    "import json"
   ]
  },
  {
   "cell_type": "code",
   "execution_count": 6,
   "id": "f7bce172-5a3d-4804-b0b3-c0e80d456047",
   "metadata": {
    "tags": []
   },
   "outputs": [],
   "source": [
    "# with open('query_understanding.json', 'r') as f:\n",
    "#     query_understanding = json.load(f)\n",
    "\n",
    "# queries_df = pd.DataFrame.from_dict(query_understanding).T.reset_index().rename(columns = {'index': 'query'})"
   ]
  },
  {
   "cell_type": "code",
   "execution_count": 6,
   "id": "11406e5f-af98-45d0-89e9-8f184fcb4c56",
   "metadata": {
    "tags": []
   },
   "outputs": [],
   "source": [
    "df = pd.read_csv('search_results_5_feb.csv')"
   ]
  },
  {
   "cell_type": "code",
   "execution_count": 7,
   "id": "75380043-cd20-4e3a-bb2f-6478d11cb760",
   "metadata": {
    "tags": []
   },
   "outputs": [],
   "source": [
    "import json"
   ]
  },
  {
   "cell_type": "code",
   "execution_count": 8,
   "id": "d839e73f-e0cf-4e76-99fe-c5ed5d2a441a",
   "metadata": {
    "tags": []
   },
   "outputs": [],
   "source": [
    "df['3'] = df['3'].apply(lambda x: json.loads(x))"
   ]
  },
  {
   "cell_type": "code",
   "execution_count": 9,
   "id": "38a20593-5565-4fe1-8338-fe871845a35b",
   "metadata": {
    "tags": []
   },
   "outputs": [],
   "source": [
    "from datetime import datetime, timedelta"
   ]
  },
  {
   "cell_type": "code",
   "execution_count": 10,
   "id": "a92a2170-51b0-4e78-9c34-f7d82934f4b0",
   "metadata": {
    "tags": []
   },
   "outputs": [],
   "source": [
    "def get_top_hits_for_query_row(query_row):\n",
    "    if query_row.finance_query:\n",
    "        query_date = datetime.strptime(query_row.query_date,'%d/%m/%y') + timedelta(days=1,seconds=-1)\n",
    "        formatted_date = query_date.strftime('%Y-%m-%dT%H:%M:%S')\n",
    "        print(query_date, formatted_date)\n",
    "        if query_row.improved_query:\n",
    "            # If the date is a future date, then change importance to medium to get articles from ES\n",
    "            if query_row.recency_importance == 'high' and query_date >= datetime.now():\n",
    "                results_object = HybridSearchService.perform_hybrid_reranked_search(query_text = query_row.improved_query, recency_importance='medium',max_published_date=formatted_date)\n",
    "            else:\n",
    "                results_object = HybridSearchService.perform_hybrid_reranked_search(query_text = query_row.improved_query, recency_importance=query_row.recency_importance,max_published_date=formatted_date)\n",
    "        else:\n",
    "            results_object = HybridSearchService.perform_hybrid_reranked_search(query_text = query_row.query, recency_importance='medium', max_published_date=formatted_date)\n",
    "        top_hits = [x['article_id'] for x in results_object['searchArticleIds']][:10]\n",
    "        return query_row.name, query_row.query, query_row.query_date, json.dumps(top_hits)\n",
    "    else:\n",
    "        return query_row.name, query_row.query, query_row.query_date, json.dumps([])"
   ]
  },
  {
   "cell_type": "code",
   "execution_count": 11,
   "id": "8dc96563-4dc5-486d-abe5-041daa67454b",
   "metadata": {
    "tags": []
   },
   "outputs": [],
   "source": [
    "# a,b,c,d = get_top_hits_for_query_row(queries_df.iloc[5])"
   ]
  },
  {
   "cell_type": "code",
   "execution_count": 12,
   "id": "5e5fa10b-6858-4f9b-aece-74222715dde5",
   "metadata": {
    "tags": []
   },
   "outputs": [],
   "source": [
    "def gen_prompt_from_row(row):\n",
    "    if row['3']:\n",
    "        dt = (datetime.strptime(row['2'],'%d/%m/%y') + timedelta(days=1,seconds=-1)).strftime('%Y-%m-%dT%H:%M:%S') + '+05:30'\n",
    "        return SummaryService.create_prompt_for_query_references(search_query=row['1'],references_article_ids=row['3'][:3], today_date=dt)\n",
    "    else:\n",
    "        return ''"
   ]
  },
  {
   "cell_type": "code",
   "execution_count": 13,
   "id": "da45203f-c933-474f-bd2e-6db995be38dc",
   "metadata": {
    "tags": []
   },
   "outputs": [],
   "source": [
    "from openai import OpenAI\n",
    "client = OpenAI(api_key='')"
   ]
  },
  {
   "cell_type": "code",
   "execution_count": 14,
   "id": "80425289-a9d8-437f-95d3-8795b0fcd5d6",
   "metadata": {
    "tags": []
   },
   "outputs": [],
   "source": [
    "model = 'gpt-4-1106-preview'"
   ]
  },
  {
   "cell_type": "code",
   "execution_count": 15,
   "id": "16887f5c-6e6e-443b-8e05-ba56da076e6c",
   "metadata": {
    "tags": []
   },
   "outputs": [],
   "source": [
    "from time import sleep"
   ]
  },
  {
   "cell_type": "code",
   "execution_count": 16,
   "id": "fdbee941-3366-42cf-9df4-e022560be87b",
   "metadata": {
    "tags": []
   },
   "outputs": [],
   "source": [
    "def fetch_save_responses(query_row):\n",
    "    try:\n",
    "        if query_row['3']:\n",
    "            dt = (datetime.strptime(query_row['2'],'%d/%m/%y') + timedelta(days=1,seconds=-1)).strftime('%Y-%m-%dT%H:%M:%S') + '+05:30'\n",
    "            try:\n",
    "                full_prompt = SummaryService.create_prompt_for_query_references(search_query=query_row['1'],references_article_ids=query_row['3'][:3], today_date=dt)\n",
    "            except:\n",
    "                print(query_row['3'][:3])\n",
    "                return False\n",
    "            res_gpt = client.chat.completions.create(model = model, messages = [{'role': 'system', 'content': ''}, {'role': 'user', 'content': full_prompt}])\n",
    "            full_response = res_gpt.choices[0].message.content\n",
    "            cur_df = pd.DataFrame([(query_row['0'],query_row['1'], query_row['2'],query_row['3'], full_prompt, full_response,)])\n",
    "            cur_df.to_csv('gpt-4-search-responses-5-feb.csv',header=None, mode='a')\n",
    "            sleep(2)\n",
    "            return True\n",
    "    except Exception as e:\n",
    "        print(f'error {e} for {query_row.query}')\n",
    "        return False"
   ]
  },
  {
   "cell_type": "code",
   "execution_count": 17,
   "id": "4beb1793-2d83-4f76-a043-c4c379fd0cd6",
   "metadata": {
    "tags": []
   },
   "outputs": [],
   "source": [
    "chunk_size = 10\n",
    "num_chunks = len(df)//chunk_size + 1"
   ]
  },
  {
   "cell_type": "code",
   "execution_count": 18,
   "id": "f53a515a-e260-427c-8fcb-0771301f78a5",
   "metadata": {
    "tags": []
   },
   "outputs": [],
   "source": [
    "import time"
   ]
  },
  {
   "cell_type": "code",
   "execution_count": 19,
   "id": "6da0a1b6-58bf-4f94-b5be-09dde1e71475",
   "metadata": {
    "tags": []
   },
   "outputs": [],
   "source": [
    "from concurrent.futures import ThreadPoolExecutor, as_completed"
   ]
  },
  {
   "cell_type": "code",
   "execution_count": 20,
   "id": "10781189-1134-4d61-8359-84e538d24815",
   "metadata": {
    "tags": []
   },
   "outputs": [],
   "source": [
    "old_i = 252"
   ]
  },
  {
   "cell_type": "code",
   "execution_count": 21,
   "id": "d0a914df-fc02-40f8-8c2b-36e488c34f64",
   "metadata": {
    "tags": []
   },
   "outputs": [
    {
     "data": {
      "text/plain": [
       "252"
      ]
     },
     "execution_count": 21,
     "metadata": {},
     "output_type": "execute_result"
    }
   ],
   "source": [
    "old_i"
   ]
  },
  {
   "cell_type": "code",
   "execution_count": 22,
   "id": "d0c33dd9-70a9-43ed-b9e9-efe656873bd7",
   "metadata": {
    "scrolled": true,
    "tags": []
   },
   "outputs": [
    {
     "name": "stdout",
     "output_type": "stream",
     "text": [
      "['65aa564e6391ac19baa86cca', '65b9f00ef3aa2a77a58bf6fc', '65b9f00ef3aa2a77a58bf6f8']['65a91d8b6391ac19baa8322f', '65b4aa001b79671c6b70d118', '65b866c91b79671c6b70d7f2']\n",
      "\n",
      "['65bb094ff3aa2a77a58bf8d5', '65a3bec2ea435f28caee4cfb', '65adda586391ac19baa871ec']\n",
      "['65b866621b79671c6b70d749', '65a91c1e6391ac19baa81eaa', '65a91d986391ac19baa832d8']\n",
      "['65bb0963f3aa2a77a58bfa04', '65bb0977f3aa2a77a58bfbb4', '65ba2847f3aa2a77a58bf7d0']\n",
      "['65a91d416391ac19baa82e1d', '65a91e756391ac19baa83ec1', '65a91ca06391ac19baa8258c']\n",
      "['65b633c21b79671c6b70d25a', '658ff8404b25ce4814fb4113', '65b390c61b79671c6b70cf94']\n",
      "['65a91cb36391ac19baa82699', '65a91e636391ac19baa83dd0', '65a91cb36391ac19baa82692']\n",
      "completed chunk 2530 queries at Feb 06, 2024 16:42 in 0.23333333333333334 minutes\n",
      "completed chunk 2540 queries at Feb 06, 2024 16:42 in 0.43333333333333335 minutes\n",
      "completed chunk 2550 queries at Feb 06, 2024 16:43 in 0.3333333333333333 minutes\n",
      "completed chunk 2560 queries at Feb 06, 2024 16:43 in 0.48333333333333334 minutes\n",
      "completed chunk 2570 queries at Feb 06, 2024 16:43 in 0.36666666666666664 minutes\n",
      "completed chunk 2580 queries at Feb 06, 2024 16:44 in 0.2833333333333333 minutes\n",
      "completed chunk 2590 queries at Feb 06, 2024 16:44 in 0.38333333333333336 minutes\n",
      "completed chunk 2600 queries at Feb 06, 2024 16:44 in 0.3 minutes\n",
      "['65c0878fc119ff6e57a3f04f', '65bf6e4ec119ff6e57a3ee3a', '6593b5114b25ce4814fb4509']\n",
      "completed chunk 2610 queries at Feb 06, 2024 16:45 in 0.31666666666666665 minutes\n",
      "completed chunk 2620 queries at Feb 06, 2024 16:45 in 0.3333333333333333 minutes\n",
      "completed chunk 2630 queries at Feb 06, 2024 16:46 in 0.36666666666666664 minutes\n",
      "completed chunk 2640 queries at Feb 06, 2024 16:46 in 0.5166666666666667 minutes\n",
      "completed chunk 2650 queries at Feb 06, 2024 16:46 in 0.0 minutes\n"
     ]
    }
   ],
   "source": [
    "for i in range(old_i, num_chunks):\n",
    "    query_chunk = df.iloc[i*chunk_size:(i+1)*chunk_size]\n",
    "    start_time = time.time()\n",
    "    with ThreadPoolExecutor(max_workers=10) as executor:\n",
    "        futures = [executor.submit(fetch_save_responses, row) for index, row in query_chunk.iterrows()]\n",
    "        for future in as_completed(futures):\n",
    "            response = future.result()\n",
    "    print(f'completed chunk {(i + 1) * chunk_size} queries at {\"{:%b %d, %Y %H:%M}\".format(datetime.now())} in {int(time.time() - start_time)/60} minutes')"
   ]
  },
  {
   "cell_type": "code",
   "execution_count": null,
   "id": "dfefd5c8-7ab7-4c90-b074-7245f8c435ae",
   "metadata": {
    "tags": []
   },
   "outputs": [],
   "source": [
    "from datasets import Dataset\n",
    "sys.path.append(\"../utils\")\n",
    "from pack_dataset import pack_dataset\n",
    "finetune_id = 'MangoPurpleValley'"
   ]
  },
  {
   "cell_type": "code",
   "execution_count": null,
   "id": "88f6ee1b-8d6f-46ba-80d5-85b68b59713b",
   "metadata": {},
   "outputs": [],
   "source": []
  },
  {
   "cell_type": "code",
   "execution_count": null,
   "id": "0f27e73a-2477-4044-824d-da0efc2f3a74",
   "metadata": {},
   "outputs": [],
   "source": []
  }
 ],
 "metadata": {
  "kernelspec": {
   "display_name": "recoenv",
   "language": "python",
   "name": "recoenv"
  },
  "language_info": {
   "codemirror_mode": {
    "name": "ipython",
    "version": 3
   },
   "file_extension": ".py",
   "mimetype": "text/x-python",
   "name": "python",
   "nbconvert_exporter": "python",
   "pygments_lexer": "ipython3",
   "version": "3.11.5"
  }
 },
 "nbformat": 4,
 "nbformat_minor": 5
}
