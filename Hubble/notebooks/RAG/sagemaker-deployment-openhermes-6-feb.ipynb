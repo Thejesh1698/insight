{
 "cells": [
  {
   "cell_type": "code",
   "execution_count": 2,
   "id": "3ea77836-5fc0-4568-93d5-6551aa2f855c",
   "metadata": {
    "tags": []
   },
   "outputs": [
    {
     "name": "stderr",
     "output_type": "stream",
     "text": [
      "Couldn't call 'get_role' to get Role ARN from role name ravi_tej to get Role path.\n"
     ]
    },
    {
     "name": "stdout",
     "output_type": "stream",
     "text": [
      "sagemaker role arn: arn:aws:iam::005418323977:role/service-role/AmazonSageMaker-ExecutionRole-20231030T210397\n",
      "sagemaker bucket: sagemaker-ap-south-1-005418323977\n",
      "sagemaker session region: ap-south-1\n"
     ]
    }
   ],
   "source": [
    "import sagemaker\n",
    "import boto3\n",
    "sess = sagemaker.Session()\n",
    "sagemaker_session_bucket=None\n",
    "if sagemaker_session_bucket is None and sess is not None:\n",
    "    sagemaker_session_bucket = sess.default_bucket()\n",
    "try:\n",
    "    role = sagemaker.get_execution_role()\n",
    "except ValueError:\n",
    "    iam = boto3.client('iam')\n",
    "    role = iam.get_role(RoleName='AmazonSageMaker-ExecutionRole-20231030T210397')['Role']['Arn']\n",
    "sess = sagemaker.Session(default_bucket=sagemaker_session_bucket)\n",
    "print(f\"sagemaker role arn: {role}\")\n",
    "print(f\"sagemaker bucket: {sess.default_bucket()}\")\n",
    "print(f\"sagemaker session region: {sess.boto_region_name}\")"
   ]
  },
  {
   "cell_type": "code",
   "execution_count": 25,
   "id": "064e8ca0-20d0-4bd5-9774-53f98eab749a",
   "metadata": {
    "tags": []
   },
   "outputs": [
    {
     "name": "stderr",
     "output_type": "stream",
     "text": [
      "Special tokens have been added in the vocabulary, make sure the associated word embeddings are fine-tuned or trained.\n",
      "Special tokens have been added in the vocabulary, make sure the associated word embeddings are fine-tuned or trained.\n"
     ]
    }
   ],
   "source": [
    "from transformers import AutoTokenizer\n",
    "tokenizer_model_id = 'teknium/OpenHermes-2.5-Mistral-7B'\n",
    "tokenizer = AutoTokenizer.from_pretrained(tokenizer_model_id, trust_remote_code=True)"
   ]
  },
  {
   "cell_type": "code",
   "execution_count": 3,
   "id": "d1f5e8c6-8d6c-4f25-89b0-0992cd7df622",
   "metadata": {
    "tags": []
   },
   "outputs": [
    {
     "name": "stdout",
     "output_type": "stream",
     "text": [
      "llm image uri: 763104351884.dkr.ecr.ap-south-1.amazonaws.com/huggingface-pytorch-tgi-inference:2.0.1-tgi1.1.0-gpu-py39-cu118-ubuntu20.04\n"
     ]
    }
   ],
   "source": [
    "from sagemaker.huggingface import get_huggingface_llm_image_uri\n",
    "\n",
    "# retrieve the llm image uri\n",
    "llm_image = get_huggingface_llm_image_uri(\n",
    "  \"huggingface\",\n",
    "  version=\"1.1.0\",\n",
    "  session=sess,\n",
    ")\n",
    "\n",
    "# print ecr image uri\n",
    "print(f\"llm image uri: {llm_image}\")"
   ]
  },
  {
   "cell_type": "code",
   "execution_count": 4,
   "id": "062d505e-2ff2-406c-a383-f346f0060bc3",
   "metadata": {
    "tags": []
   },
   "outputs": [],
   "source": [
    "import boto3\n",
    "import os\n",
    "\n",
    "# Initialize a boto3 S3 client\n",
    "s3 = boto3.client('s3')"
   ]
  },
  {
   "cell_type": "code",
   "execution_count": 5,
   "id": "7ee75d4b-81c4-4ece-a272-782ed911d259",
   "metadata": {
    "tags": []
   },
   "outputs": [],
   "source": [
    "model_s3_path = 's3://sagemaker-ap-south-1-005418323977/huggingface-qlora-teknium-OpenHermes-2--2024-02-06-11-57-39-842/output/model/'"
   ]
  },
  {
   "cell_type": "code",
   "execution_count": 7,
   "id": "937c54e9-0328-4fe7-8ebf-28bc4cd6cd28",
   "metadata": {
    "tags": []
   },
   "outputs": [],
   "source": [
    "import json\n",
    "from sagemaker.huggingface import HuggingFaceModel\n",
    "# sagemaker config\n",
    "instance_type = \"ml.g5.xlarge\"\n",
    "number_of_gpu = 1\n",
    "health_check_timeout = 300\n",
    "\n",
    "# Define Model and Endpoint configuration parameter\n",
    "config = {\n",
    "  'HF_MODEL_ID': \"/opt/ml/model\", # path to where sagemaker stores the model\n",
    "  'SM_NUM_GPUS': json.dumps(number_of_gpu), # Number of GPU used per replica\n",
    "  'MAX_INPUT_LENGTH': json.dumps(3584), # Max length of input text\n",
    "  'MAX_TOTAL_TOKENS': json.dumps(4096), # Max length of the generation (including input text)\n",
    "}\n",
    "\n",
    "# create HuggingFaceModel with the image uri\n",
    "llm_model = HuggingFaceModel(\n",
    "  role=role,\n",
    "  image_uri=llm_image,\n",
    "  model_data={'S3DataSource':{'S3Uri': model_s3_path,'S3DataType': 'S3Prefix','CompressionType': 'None'}},\n",
    "  env=config\n",
    ")"
   ]
  },
  {
   "cell_type": "code",
   "execution_count": 8,
   "id": "41182030-281b-4828-afeb-71bcae7aef88",
   "metadata": {
    "tags": []
   },
   "outputs": [],
   "source": [
    "finetune_id= 'MangoPurpleValley'"
   ]
  },
  {
   "cell_type": "code",
   "execution_count": 9,
   "id": "e69125db-7997-4298-87e5-d652bd389934",
   "metadata": {
    "tags": []
   },
   "outputs": [
    {
     "name": "stdout",
     "output_type": "stream",
     "text": [
      "----------!"
     ]
    }
   ],
   "source": [
    "# Deploy model to an endpoint\n",
    "# https://sagemaker.readthedocs.io/en/stable/api/inference/model.html#sagemaker.model.Model.deploy\n",
    "llm = llm_model.deploy(\n",
    "    endpoint_name = f\"OpenHermes-Search-{finetune_id.replace('_','-')}\",\n",
    "  initial_instance_count=1,\n",
    "  instance_type=instance_type,\n",
    "  container_startup_health_check_timeout=health_check_timeout, # 10 minutes to be able to load the model\n",
    ")"
   ]
  },
  {
   "cell_type": "code",
   "execution_count": 10,
   "id": "7d92f152-1eab-4253-be08-9a3af6594155",
   "metadata": {
    "tags": []
   },
   "outputs": [],
   "source": [
    "parent_folder = '/Users/ravi.tej/Desktop/ML/Recommendations/hubble/'\n",
    "from hydra import compose, initialize\n",
    "import os\n",
    "\n",
    "import xml.etree.ElementTree as ET\n",
    "\n",
    "tree = ET.parse('../../conf/application.run.xml')\n",
    "root = tree.getroot()\n",
    "\n",
    "envs_element = root.find('./configuration/envs')\n",
    "for variable in envs_element.findall('env'):\n",
    "    name = variable.get('name')\n",
    "    value = variable.get('value')\n",
    "    os.environ[name] = value\n",
    "\n",
    "import sys\n",
    "sys.path.append('/Users/ravi.tej/Desktop/ML/Recommendations/hubble/')"
   ]
  },
  {
   "cell_type": "code",
   "execution_count": 11,
   "id": "0bcb7497-f61d-4384-b637-f0b20f1fb070",
   "metadata": {
    "tags": []
   },
   "outputs": [
    {
     "name": "stderr",
     "output_type": "stream",
     "text": [
      "/Users/ravi.tej/anaconda3/envs/recoenv/lib/python3.11/site-packages/transformers/models/auto/tokenization_auto.py:671: FutureWarning: The `use_auth_token` argument is deprecated and will be removed in v5 of Transformers. Please use `token` instead.\n",
      "  warnings.warn(\n",
      "Special tokens have been added in the vocabulary, make sure the associated word embeddings are fine-tuned or trained.\n",
      "Special tokens have been added in the vocabulary, make sure the associated word embeddings are fine-tuned or trained.\n"
     ]
    }
   ],
   "source": [
    "from src.HybridSearchService import HybridSearchService\n",
    "from src.QueryService import QueryService\n",
    "from sql.PostgresDatabaseOperation import PostgresDatabaseOperation\n",
    "from datetime import datetime"
   ]
  },
  {
   "cell_type": "code",
   "execution_count": 28,
   "id": "1f482507-2420-40e9-8722-c6b3ba72f7c2",
   "metadata": {
    "tags": []
   },
   "outputs": [],
   "source": [
    "smr = sess.boto_session.client(\"sagemaker-runtime\")"
   ]
  },
  {
   "cell_type": "code",
   "execution_count": 336,
   "id": "ec6b80dc-79bf-4e81-bb61-3af86c20ba3b",
   "metadata": {
    "tags": []
   },
   "outputs": [],
   "source": [
    "query = \"Adani Gas's natural gas distribution plans for 2024\""
   ]
  },
  {
   "cell_type": "code",
   "execution_count": 433,
   "id": "eec94b42-9622-4933-b197-67e7ab20efe5",
   "metadata": {
    "tags": []
   },
   "outputs": [
    {
     "name": "stderr",
     "output_type": "stream",
     "text": [
      "query understanding llm in 1.0022270679473877 seconds\n"
     ]
    },
    {
     "data": {
      "text/plain": [
       "(True, 'high', 'Sensex value on 08 February 2024')"
      ]
     },
     "execution_count": 433,
     "metadata": {},
     "output_type": "execute_result"
    }
   ],
   "source": [
    "QueryService.understand_query_using_llm('sensex today')"
   ]
  },
  {
   "cell_type": "code",
   "execution_count": 337,
   "id": "bd026c3a-db07-4a27-9983-05a21fad1aaf",
   "metadata": {
    "tags": []
   },
   "outputs": [
    {
     "name": "stderr",
     "output_type": "stream",
     "text": [
      "took 0.151 seconds to try and retrieve embeddings for search query Adani Gas's natural gas distribution plans for 2024\n",
      "took 1.533 seconds to retrieve nearest 250 sematic items for search query Adani Gas's natural gas distribution plans for 2024\n",
      "took 2.391 seconds to retrieve nearest 250 exact items for search query Adani Gas's natural gas distribution plans for 2024\n",
      "took 3.301 seconds to fetch the metadata from mongo for search query Adani Gas's natural gas distribution plans for 2024\n",
      "took 3.342 seconds to calculate recency weighted items Adani Gas's natural gas distribution plans for 2024\n",
      "took 5.11 seconds to rerank the results for search query Adani Gas's natural gas distribution plans for 2024\n"
     ]
    }
   ],
   "source": [
    "results_object = HybridSearchService.perform_hybrid_reranked_search(query_text =query, recency_importance='medium')\n",
    "top_hits = [x['article_id'] for x in results_object['searchArticleIds']][:3]"
   ]
  },
  {
   "cell_type": "code",
   "execution_count": 338,
   "id": "77e58012-262e-4477-b9ef-839d90ac029e",
   "metadata": {
    "tags": []
   },
   "outputs": [
    {
     "data": {
      "text/plain": [
       "['65c1a0d9c119ff6e57a3f2a7',\n",
       " '65c04f53c119ff6e57a3eeec',\n",
       " '65bb0960f3aa2a77a58bf9bc']"
      ]
     },
     "execution_count": 338,
     "metadata": {},
     "output_type": "execute_result"
    }
   ],
   "source": [
    "top_hits"
   ]
  },
  {
   "cell_type": "code",
   "execution_count": 339,
   "id": "24934be3-485d-4d01-b45a-ab98a1c594fb",
   "metadata": {
    "tags": []
   },
   "outputs": [],
   "source": [
    "unformatted_full_prompt = SummaryService.create_prompt_for_query_references(search_query=query,references_article_ids=top_hits, today_date=None)"
   ]
  },
  {
   "cell_type": "code",
   "execution_count": 403,
   "id": "db4cb7ad-a0fd-46ce-8542-619d7fb5ffe1",
   "metadata": {
    "tags": []
   },
   "outputs": [],
   "source": [
    "parameters = {\n",
    "    \"do_sample\": True,\n",
    "    \"top_p\": 0.99,\n",
    "    \"temperature\": 0.2,\n",
    "    \"max_new_tokens\": 512,\n",
    "    \"repetition_penalty\": 1.1,\n",
    "    \"stop\": [\"###\", \"</s>\", tokenizer.eos_token],\n",
    "    'seed': 86\n",
    "}"
   ]
  },
  {
   "cell_type": "code",
   "execution_count": 404,
   "id": "07b7e920-6fe7-42f0-adba-9075b83c4e33",
   "metadata": {
    "tags": []
   },
   "outputs": [],
   "source": [
    "def split_prompt(input_prompt):\n",
    "    x, y = input_prompt.split('|| user_query')\n",
    "    y = '|| user_query' + y\n",
    "    return x, y"
   ]
  },
  {
   "cell_type": "code",
   "execution_count": 405,
   "id": "b09ae827-df03-4b2e-8f3d-db529017bb81",
   "metadata": {
    "tags": []
   },
   "outputs": [],
   "source": [
    "sys_prompt, user_content = split_prompt(unformatted_full_prompt)"
   ]
  },
  {
   "cell_type": "code",
   "execution_count": 426,
   "id": "86799c64-7f2d-41d0-9162-3e622b96b3e9",
   "metadata": {
    "tags": []
   },
   "outputs": [],
   "source": [
    "from datetime import datetime\n",
    "import pytz\n",
    "from zoneinfo import ZoneInfo"
   ]
  },
  {
   "cell_type": "code",
   "execution_count": 427,
   "id": "4741a83e-db66-4fc0-8426-83955c2ddbdb",
   "metadata": {
    "tags": []
   },
   "outputs": [],
   "source": [
    "k = datetime.now(tz=ZoneInfo('Asia/Kolkata')).strftime('%Y-%m-%dT%H:%M:%S%z')"
   ]
  },
  {
   "cell_type": "code",
   "execution_count": 428,
   "id": "7abf7bf8-8a65-4511-8388-75510c9ed926",
   "metadata": {
    "tags": []
   },
   "outputs": [
    {
     "data": {
      "text/plain": [
       "'2024-02-08T08:30:48+0530'"
      ]
     },
     "execution_count": 428,
     "metadata": {},
     "output_type": "execute_result"
    }
   ],
   "source": [
    "k"
   ]
  },
  {
   "cell_type": "code",
   "execution_count": 429,
   "id": "0a2e6bfe-c996-447d-9710-7895fcf3b9d0",
   "metadata": {
    "tags": []
   },
   "outputs": [],
   "source": [
    "datetime_obj = datetime.strptime(k, '%Y-%m-%dT%H:%M:%S%z')"
   ]
  },
  {
   "cell_type": "code",
   "execution_count": 431,
   "id": "264ae582-caab-4a95-b322-2ddab42798cf",
   "metadata": {
    "tags": []
   },
   "outputs": [
    {
     "data": {
      "text/plain": [
       "'08 February 2024'"
      ]
     },
     "execution_count": 431,
     "metadata": {},
     "output_type": "execute_result"
    }
   ],
   "source": [
    "datetime_obj.strftime('%d %B %Y')"
   ]
  },
  {
   "cell_type": "code",
   "execution_count": null,
   "id": "b2001bb7-c449-4763-981b-130eda73f572",
   "metadata": {},
   "outputs": [],
   "source": []
  },
  {
   "cell_type": "code",
   "execution_count": 406,
   "id": "9bdfc393-12ba-4f03-acc1-ca674b1cba52",
   "metadata": {
    "tags": []
   },
   "outputs": [],
   "source": [
    "messages = [{\"role\": \"system\", \"content\": sys_prompt},\n",
    "            {\"role\": \"user\", \"content\": user_content}]\n",
    "context_prompt = tokenizer.decode(tokenizer.apply_chat_template(messages, add_generation_prompt=True))"
   ]
  },
  {
   "cell_type": "code",
   "execution_count": 407,
   "id": "2b59f43c-931b-4013-9a44-b418339acc6f",
   "metadata": {
    "tags": []
   },
   "outputs": [],
   "source": [
    "request = {\"inputs\": context_prompt, \"parameters\": parameters, \"stream\": True}"
   ]
  },
  {
   "cell_type": "code",
   "execution_count": 408,
   "id": "3281c4f1-9b82-46e2-b3f7-a17c02634c27",
   "metadata": {
    "tags": []
   },
   "outputs": [],
   "source": [
    "import time"
   ]
  },
  {
   "cell_type": "code",
   "execution_count": 434,
   "id": "38f2f35a-5565-48f3-b4a6-22f24d58f232",
   "metadata": {
    "tags": []
   },
   "outputs": [],
   "source": [
    "import tiktoken"
   ]
  },
  {
   "cell_type": "code",
   "execution_count": 441,
   "id": "778b9c77-9cc9-422e-bb5b-4cfe4886b3ea",
   "metadata": {
    "tags": []
   },
   "outputs": [
    {
     "name": "stderr",
     "output_type": "stream",
     "text": [
      "2024-02-08 10:54:50,317| ERROR   | Could not establish connection from local ('127.0.0.1', 3793) to remote ('insight-beta-article-db2.chmaiagjipqy.ap-south-1.docdb.amazonaws.com', 27017) side of the tunnel: open new channel ssh error: SSH session not active\n"
     ]
    }
   ],
   "source": [
    "import requests"
   ]
  },
  {
   "cell_type": "code",
   "execution_count": null,
   "id": "20cedb98-d55e-4dce-ad12-68da539b0ed0",
   "metadata": {},
   "outputs": [],
   "source": [
    "re"
   ]
  },
  {
   "cell_type": "code",
   "execution_count": 410,
   "id": "61d1bc58-1db8-4b46-9792-f42dc45c1731",
   "metadata": {
    "tags": []
   },
   "outputs": [
    {
     "data": {
      "text/plain": [
       "\"<|im_start|> system\\nYou're the lead editor for a financial and business website. You answer user queries by using relevant articles that you've found by strictly following the below rules:\\n*valid_queries: questions about finance, business, or relevant entities like India, RBI, Reliance, Fed etc\\n*invalid_queries: non financial or business questions or inappropriate content\\nresponse_instructions:\\n1.query is valid and answerable with the articles you found - summarize the information clearly and concisely with a headline and followed by 3 to 6 points with following guidelines: \\nPrefix the point with a relevant label one emoji for that point. The points should overall capture the essence of a good response for the user query, but at the same time as brief as possible - a few words to a maximum of 1 sentence per point. Start with the most important point for the query. The labels should be human readable avoid use of _ or programming symbols. Headline should be between 5 to 15 words and tailored to the query and the points you are going to generate\\nUse the below markdown format called ‘response_markdown_format’: “**Headline** <br> <br> emoji1 **label1**: point1 <br><br> **emoji2 label2**: point2 <br><br>…”\\n2.query is valid but the exact answer isn't in the articles - mention that you are not able to find the exact answer for this, but found the related information. Respond the related information using response_markdown_format\\n3.query is valid but there's no relevant information - apologize and say you can't find the answer\\n4.query is invalid - politely decline noting your focus on finance and business\\nGeneral Response Guidelines:\\n*Don't provide information not explicitly found in the articles\\n*If the article is older than what the user expects from query, highlight the period of the information. If articles are very recent or of today, then no need to specify it\\n*The website is visited by people all age groups. Avoid content or emojis which are unprofessional\\n*If the answers provide investment advice, at the end advice without the emoji and label to the users have to do additional though research and to consult an expert. Do not follow the format of response_markdown_format for this\\n*Be brief. no preamble or postamble. directly generate the responses according to response_instructions\\n*Do not provide any urls as part of the points. \\nThe most relevant articles are extracted in the following json format: {article_0: {‘title’: ‘’, ‘published_date’: ‘’, ‘content’: ‘’} || ...} <|im_end|> \\n<|im_start|> user\\n|| user_query: Adani Gas's natural gas distribution plans for 2024 || today date: 07 February 2024 || article_0: {'title': Adani Total Gas Q3FY24 results: Net profit rises 18% to Rs 176.64 crore, 'published_date': 30 January 2024, 'content': Adani Total Gas (ATGL) reported an 18 per cent rise in its consolidated profit for the December 2023 ended quarter (Q3FY24) at Rs 176.64 crore on the back of increased volumes. However, revenue witnessed modest growth owing to lower gas prices, the company said. Revenue from operations stood at Rs 1,244 crore, up 5 per cent on a year-on-year (Y-o-Y) basis. Sequentially, profit for the company rose 2 per cent and revenue from operations grew 6 per cent on a year-on-year basis. Gas sale volume for Q3 FY24, the company said, was up 21 per cent Y-o-Y to 224 million metric standard cubic meters (MMSCM), while the cost of natural gas dipped 4 per cent Y-o-Y. Earnings before interest, taxation, depreciation, and amortisation (Ebitda) for the quarter under review, the company noted, was at Rs 301 crore, up 26 per cent from a year ago. In an update on its ongoing projects, the company said the first phase (225 tonnes per day) of its planned 600 TPD biomass plant in Barsana is expected to be commissioned by March this year. In the LNG for Transport & Mining (LTM) segment, the company plans to commission its first LNG Retail Outlet in Dahej, Gujarat, by July this year. In its press statement for the nine-month period ending December 2023, the company said, although the overall volume has increased by 13 per cent Y-o-Y, revenue from operations has increased by 2 per cent due to a reduction in gas cost, especially Administered Pricing Mechanism (APM) gas, as ATGL passed on the benefit of APM gas price reduction to consumers, resulting in a lower sales price. Similarly, the company said the rise in Ebitda was on account of higher volume and a balanced price strategy.} || article_1: {'title': Adani Total Gas Share Price Live blog for 05 Feb 2024 | Mint, 'published_date': 05 February 2024, 'content': Adani Total Gas Share Price Today : On the last day, the opening price for Adani Total Gas was₹1009.75, and the closing price was₹1004.5. The stock reached a high of₹1014.25 and a low of₹996.25. The market capitalization is₹109,882.03 crore. The 52-week high for the stock is₹2601.25, while the 52-week low is₹521.95. The BSE volume for the day was 214,228 shares.  On the last day of trading, Adani Total Gas had a total trading volume of 214,228 shares on the BSE. The closing price for the stock was₹1004.5. On the last day of trading, Adani Total Gas had a total trading volume of 214,228 shares on the BSE. The closing price for the stock was₹1004.5.} || article_2: {'title': Adani Total Gas Share Price Live blog for 06 Feb 2024 | Mint, 'published_date': 06 February 2024, 'content': Adani Total Gas Share Price Today : On the last day of trading, Adani Total Gas opened at₹1001.1 and closed at₹999.1. The stock had a high of₹1004.95 and a low of₹985.35. The market capitalization of Adani Total Gas is₹108,853.7 crore. The 52-week high for the stock is₹2601.25, while the 52-week low is₹521.95. There were 81,388 shares traded on the BSE.  On the last day, the BSE volume for Adani Total Gas was 81,388 shares and the closing price was₹999.1. On the last day, the BSE volume for Adani Total Gas was 81,388 shares and the closing price was₹999.1.}<|im_end|> \\n<|im_start|> assistant\\n\""
      ]
     },
     "execution_count": 410,
     "metadata": {},
     "output_type": "execute_result"
    }
   ],
   "source": [
    "context_prompt"
   ]
  },
  {
   "cell_type": "code",
   "execution_count": 409,
   "id": "c49583ba-84cb-47de-a65d-0d79b6e5023a",
   "metadata": {
    "tags": []
   },
   "outputs": [
    {
     "name": "stdout",
     "output_type": "stream",
     "text": [
      "**Adani Total Gas's Natural Gas Distribution Plans for 2024**<br><br>📈 **Profit Growth**: 18% increase in Q3FY24 net profit to ₹176.64 cr.<br><br>💡 **Market Expansion**: 21% increase in gas sales volume to 224 MMSCM.<br><br>🛢️ **EBITDA Boost**: EBITDA up 26% to ₹301 cr., driven by volume and price strategies.<br><br>⚙️ **Project Progress**: First phase of 600 TPD biomass plant to be commissioned by March 2024.<br><br>🚚 **LNG for Transports**: First LNG retail outlet to be operational by July 2024.<br><br>🔍 **Financial Health**: EBITDA margin remains healthy, with a 20.2% margin in Q3FY24. <br><br>Please note, while the above points give a glimpse of the company's current and future plans, it's important to conduct further research and consult an expert before making any investment decisions.<|im_end|>"
     ]
    }
   ],
   "source": [
    "t = time.time()\n",
    "resp = smr.invoke_endpoint_with_response_stream(\n",
    "    EndpointName=f\"OpenHermes-Search-MangoPurpleValley\",\n",
    "    Body=json.dumps(request),\n",
    "    ContentType=\"application/json\",\n",
    ")\n",
    "# print(f'done in {time.time() - t} seconds')\n",
    "# k = resp['Body'].read()\n",
    "for token in TokenIterator(resp[\"Body\"]):\n",
    "    print(token, end=\"\")"
   ]
  },
  {
   "cell_type": "code",
   "execution_count": 217,
   "id": "dd5370dc-ad4a-4040-a38c-9b8c4f6247b6",
   "metadata": {
    "tags": []
   },
   "outputs": [],
   "source": [
    "a = '''�'''"
   ]
  },
  {
   "cell_type": "code",
   "execution_count": 166,
   "id": "b525f7ee-c07c-4e0b-b136-b87467fee8f7",
   "metadata": {
    "tags": []
   },
   "outputs": [
    {
     "data": {
      "text/plain": [
       "[1, 28705, 29137]"
      ]
     },
     "execution_count": 166,
     "metadata": {},
     "output_type": "execute_result"
    }
   ],
   "source": [
    "tokenizer.encode(a)"
   ]
  },
  {
   "cell_type": "code",
   "execution_count": 191,
   "id": "674b02a5-5b9a-442d-9cd9-e4da29477b69",
   "metadata": {
    "tags": []
   },
   "outputs": [
    {
     "data": {
      "text/plain": [
       "'�'"
      ]
     },
     "execution_count": 191,
     "metadata": {},
     "output_type": "execute_result"
    }
   ],
   "source": [
    "tokenizer.decode([29137])"
   ]
  },
  {
   "cell_type": "code",
   "execution_count": 198,
   "id": "1153087c-a410-4b51-8368-d8b961c5b237",
   "metadata": {
    "tags": []
   },
   "outputs": [],
   "source": [
    "valid = '💡💼🏦📈🔍📊'"
   ]
  },
  {
   "cell_type": "code",
   "execution_count": 202,
   "id": "db2da498-1c15-4a5f-9ebe-a5f90dac9773",
   "metadata": {
    "tags": []
   },
   "outputs": [
    {
     "data": {
      "text/plain": [
       "'�'"
      ]
     },
     "execution_count": 202,
     "metadata": {},
     "output_type": "execute_result"
    }
   ],
   "source": [
    "tokenizer.decode([164])"
   ]
  },
  {
   "cell_type": "code",
   "execution_count": 195,
   "id": "dd297629-b77b-4507-955d-be4219310fc3",
   "metadata": {
    "tags": []
   },
   "outputs": [
    {
     "data": {
      "text/plain": [
       "[1,\n",
       " 28705,\n",
       " 243,\n",
       " 162,\n",
       " 149,\n",
       " 164,\n",
       " 243,\n",
       " 162,\n",
       " 149,\n",
       " 191,\n",
       " 243,\n",
       " 162,\n",
       " 146,\n",
       " 169,\n",
       " 243,\n",
       " 162,\n",
       " 150,\n",
       " 139,\n",
       " 243,\n",
       " 162,\n",
       " 151,\n",
       " 144,\n",
       " 243,\n",
       " 162,\n",
       " 150,\n",
       " 141]"
      ]
     },
     "execution_count": 195,
     "metadata": {},
     "output_type": "execute_result"
    }
   ],
   "source": [
    "tokenizer.encode(valid)"
   ]
  },
  {
   "cell_type": "code",
   "execution_count": 163,
   "id": "53d10342-4466-424b-ad7f-44a92d5bd582",
   "metadata": {
    "tags": []
   },
   "outputs": [],
   "source": [
    "b = 'article'"
   ]
  },
  {
   "cell_type": "code",
   "execution_count": 164,
   "id": "1e839e90-59e4-4785-b710-ea117d4c7d7a",
   "metadata": {
    "tags": []
   },
   "outputs": [
    {
     "data": {
      "text/plain": [
       "[1, 5447]"
      ]
     },
     "execution_count": 164,
     "metadata": {},
     "output_type": "execute_result"
    }
   ],
   "source": [
    "tokenizer.encode(b)"
   ]
  },
  {
   "cell_type": "code",
   "execution_count": 443,
   "id": "21f98524-74e5-4808-b5fc-dd9a592277be",
   "metadata": {
    "tags": []
   },
   "outputs": [],
   "source": [
    "import numpy as np"
   ]
  },
  {
   "cell_type": "code",
   "execution_count": 446,
   "id": "0233c851-a46f-457d-a685-0fc9bfc8a810",
   "metadata": {
    "tags": []
   },
   "outputs": [],
   "source": [
    "k = [(1,'a'),(-1,'b')]"
   ]
  },
  {
   "cell_type": "code",
   "execution_count": 447,
   "id": "e915b3e1-9ace-4df9-bc59-59ca7cc3518f",
   "metadata": {
    "tags": []
   },
   "outputs": [
    {
     "name": "stderr",
     "output_type": "stream",
     "text": [
      "2024-02-08 14:42:05,092| ERROR   | Could not establish connection from local ('127.0.0.1', 3793) to remote ('insight-beta-article-db2.chmaiagjipqy.ap-south-1.docdb.amazonaws.com', 27017) side of the tunnel: open new channel ssh error: SSH session not active\n"
     ]
    }
   ],
   "source": [
    "k.sort()"
   ]
  },
  {
   "cell_type": "code",
   "execution_count": 454,
   "id": "c80761aa-669a-41a2-baa4-8ba665a0b3a7",
   "metadata": {
    "tags": []
   },
   "outputs": [
    {
     "ename": "ValueError",
     "evalue": "The truth value of an array with more than one element is ambiguous. Use a.any() or a.all()",
     "output_type": "error",
     "traceback": [
      "\u001b[0;31m---------------------------------------------------------------------------\u001b[0m",
      "\u001b[0;31mValueError\u001b[0m                                Traceback (most recent call last)",
      "Cell \u001b[0;32mIn[454], line 1\u001b[0m\n\u001b[0;32m----> 1\u001b[0m \u001b[38;5;28;01mif\u001b[39;00m np\u001b[38;5;241m.\u001b[39marray([\u001b[38;5;241m1\u001b[39m,\u001b[38;5;241m3\u001b[39m,\u001b[38;5;241m5\u001b[39m])\u001b[38;5;241m<\u001b[39m \u001b[38;5;241m10\u001b[39m:\n\u001b[1;32m      2\u001b[0m     \u001b[38;5;28mprint\u001b[39m(\u001b[38;5;124m'\u001b[39m\u001b[38;5;124ma\u001b[39m\u001b[38;5;124m'\u001b[39m)\n",
      "\u001b[0;31mValueError\u001b[0m: The truth value of an array with more than one element is ambiguous. Use a.any() or a.all()"
     ]
    },
    {
     "name": "stderr",
     "output_type": "stream",
     "text": [
      "2024-02-08 14:45:06,425| ERROR   | Could not establish connection from local ('127.0.0.1', 3793) to remote ('insight-beta-article-db2.chmaiagjipqy.ap-south-1.docdb.amazonaws.com', 27017) side of the tunnel: open new channel ssh error: SSH session not active\n",
      "2024-02-08 14:45:16,493| ERROR   | Could not establish connection from local ('127.0.0.1', 3793) to remote ('insight-beta-article-db2.chmaiagjipqy.ap-south-1.docdb.amazonaws.com', 27017) side of the tunnel: open new channel ssh error: SSH session not active\n",
      "2024-02-08 14:45:26,556| ERROR   | Could not establish connection from local ('127.0.0.1', 3793) to remote ('insight-beta-article-db2.chmaiagjipqy.ap-south-1.docdb.amazonaws.com', 27017) side of the tunnel: open new channel ssh error: SSH session not active\n",
      "2024-02-08 14:45:36,625| ERROR   | Could not establish connection from local ('127.0.0.1', 3793) to remote ('insight-beta-article-db2.chmaiagjipqy.ap-south-1.docdb.amazonaws.com', 27017) side of the tunnel: open new channel ssh error: SSH session not active\n",
      "2024-02-08 14:45:46,699| ERROR   | Could not establish connection from local ('127.0.0.1', 3793) to remote ('insight-beta-article-db2.chmaiagjipqy.ap-south-1.docdb.amazonaws.com', 27017) side of the tunnel: open new channel ssh error: SSH session not active\n",
      "2024-02-08 14:45:56,759| ERROR   | Could not establish connection from local ('127.0.0.1', 3793) to remote ('insight-beta-article-db2.chmaiagjipqy.ap-south-1.docdb.amazonaws.com', 27017) side of the tunnel: open new channel ssh error: SSH session not active\n",
      "2024-02-08 14:46:06,830| ERROR   | Could not establish connection from local ('127.0.0.1', 3793) to remote ('insight-beta-article-db2.chmaiagjipqy.ap-south-1.docdb.amazonaws.com', 27017) side of the tunnel: open new channel ssh error: SSH session not active\n",
      "2024-02-08 14:46:16,905| ERROR   | Could not establish connection from local ('127.0.0.1', 3793) to remote ('insight-beta-article-db2.chmaiagjipqy.ap-south-1.docdb.amazonaws.com', 27017) side of the tunnel: open new channel ssh error: SSH session not active\n",
      "2024-02-08 14:46:26,985| ERROR   | Could not establish connection from local ('127.0.0.1', 3793) to remote ('insight-beta-article-db2.chmaiagjipqy.ap-south-1.docdb.amazonaws.com', 27017) side of the tunnel: open new channel ssh error: SSH session not active\n",
      "2024-02-08 14:46:37,051| ERROR   | Could not establish connection from local ('127.0.0.1', 3793) to remote ('insight-beta-article-db2.chmaiagjipqy.ap-south-1.docdb.amazonaws.com', 27017) side of the tunnel: open new channel ssh error: SSH session not active\n",
      "2024-02-08 14:46:47,144| ERROR   | Could not establish connection from local ('127.0.0.1', 3793) to remote ('insight-beta-article-db2.chmaiagjipqy.ap-south-1.docdb.amazonaws.com', 27017) side of the tunnel: open new channel ssh error: SSH session not active\n",
      "2024-02-08 14:46:57,202| ERROR   | Could not establish connection from local ('127.0.0.1', 3793) to remote ('insight-beta-article-db2.chmaiagjipqy.ap-south-1.docdb.amazonaws.com', 27017) side of the tunnel: open new channel ssh error: SSH session not active\n",
      "2024-02-08 14:47:07,264| ERROR   | Could not establish connection from local ('127.0.0.1', 3793) to remote ('insight-beta-article-db2.chmaiagjipqy.ap-south-1.docdb.amazonaws.com', 27017) side of the tunnel: open new channel ssh error: SSH session not active\n",
      "2024-02-08 14:47:17,335| ERROR   | Could not establish connection from local ('127.0.0.1', 3793) to remote ('insight-beta-article-db2.chmaiagjipqy.ap-south-1.docdb.amazonaws.com', 27017) side of the tunnel: open new channel ssh error: SSH session not active\n",
      "2024-02-08 14:47:27,408| ERROR   | Could not establish connection from local ('127.0.0.1', 3793) to remote ('insight-beta-article-db2.chmaiagjipqy.ap-south-1.docdb.amazonaws.com', 27017) side of the tunnel: open new channel ssh error: SSH session not active\n",
      "2024-02-08 14:47:37,481| ERROR   | Could not establish connection from local ('127.0.0.1', 3793) to remote ('insight-beta-article-db2.chmaiagjipqy.ap-south-1.docdb.amazonaws.com', 27017) side of the tunnel: open new channel ssh error: SSH session not active\n",
      "2024-02-08 14:47:47,548| ERROR   | Could not establish connection from local ('127.0.0.1', 3793) to remote ('insight-beta-article-db2.chmaiagjipqy.ap-south-1.docdb.amazonaws.com', 27017) side of the tunnel: open new channel ssh error: SSH session not active\n",
      "2024-02-08 14:47:57,610| ERROR   | Could not establish connection from local ('127.0.0.1', 3793) to remote ('insight-beta-article-db2.chmaiagjipqy.ap-south-1.docdb.amazonaws.com', 27017) side of the tunnel: open new channel ssh error: SSH session not active\n",
      "2024-02-08 14:48:07,674| ERROR   | Could not establish connection from local ('127.0.0.1', 3793) to remote ('insight-beta-article-db2.chmaiagjipqy.ap-south-1.docdb.amazonaws.com', 27017) side of the tunnel: open new channel ssh error: SSH session not active\n",
      "2024-02-08 14:48:17,742| ERROR   | Could not establish connection from local ('127.0.0.1', 3793) to remote ('insight-beta-article-db2.chmaiagjipqy.ap-south-1.docdb.amazonaws.com', 27017) side of the tunnel: open new channel ssh error: SSH session not active\n",
      "2024-02-08 14:48:27,814| ERROR   | Could not establish connection from local ('127.0.0.1', 3793) to remote ('insight-beta-article-db2.chmaiagjipqy.ap-south-1.docdb.amazonaws.com', 27017) side of the tunnel: open new channel ssh error: SSH session not active\n",
      "2024-02-08 14:48:37,882| ERROR   | Could not establish connection from local ('127.0.0.1', 3793) to remote ('insight-beta-article-db2.chmaiagjipqy.ap-south-1.docdb.amazonaws.com', 27017) side of the tunnel: open new channel ssh error: SSH session not active\n",
      "2024-02-08 14:48:47,957| ERROR   | Could not establish connection from local ('127.0.0.1', 3793) to remote ('insight-beta-article-db2.chmaiagjipqy.ap-south-1.docdb.amazonaws.com', 27017) side of the tunnel: open new channel ssh error: SSH session not active\n",
      "2024-02-08 14:48:58,030| ERROR   | Could not establish connection from local ('127.0.0.1', 3793) to remote ('insight-beta-article-db2.chmaiagjipqy.ap-south-1.docdb.amazonaws.com', 27017) side of the tunnel: open new channel ssh error: SSH session not active\n",
      "2024-02-08 14:49:08,090| ERROR   | Could not establish connection from local ('127.0.0.1', 3793) to remote ('insight-beta-article-db2.chmaiagjipqy.ap-south-1.docdb.amazonaws.com', 27017) side of the tunnel: open new channel ssh error: SSH session not active\n",
      "2024-02-08 14:49:18,163| ERROR   | Could not establish connection from local ('127.0.0.1', 3793) to remote ('insight-beta-article-db2.chmaiagjipqy.ap-south-1.docdb.amazonaws.com', 27017) side of the tunnel: open new channel ssh error: SSH session not active\n",
      "2024-02-08 14:49:28,221| ERROR   | Could not establish connection from local ('127.0.0.1', 3793) to remote ('insight-beta-article-db2.chmaiagjipqy.ap-south-1.docdb.amazonaws.com', 27017) side of the tunnel: open new channel ssh error: SSH session not active\n",
      "2024-02-08 14:49:38,283| ERROR   | Could not establish connection from local ('127.0.0.1', 3793) to remote ('insight-beta-article-db2.chmaiagjipqy.ap-south-1.docdb.amazonaws.com', 27017) side of the tunnel: open new channel ssh error: SSH session not active\n",
      "2024-02-08 14:49:48,347| ERROR   | Could not establish connection from local ('127.0.0.1', 3793) to remote ('insight-beta-article-db2.chmaiagjipqy.ap-south-1.docdb.amazonaws.com', 27017) side of the tunnel: open new channel ssh error: SSH session not active\n",
      "2024-02-08 14:49:58,404| ERROR   | Could not establish connection from local ('127.0.0.1', 3793) to remote ('insight-beta-article-db2.chmaiagjipqy.ap-south-1.docdb.amazonaws.com', 27017) side of the tunnel: open new channel ssh error: SSH session not active\n",
      "2024-02-08 14:50:08,471| ERROR   | Could not establish connection from local ('127.0.0.1', 3793) to remote ('insight-beta-article-db2.chmaiagjipqy.ap-south-1.docdb.amazonaws.com', 27017) side of the tunnel: open new channel ssh error: SSH session not active\n",
      "2024-02-08 14:50:18,534| ERROR   | Could not establish connection from local ('127.0.0.1', 3793) to remote ('insight-beta-article-db2.chmaiagjipqy.ap-south-1.docdb.amazonaws.com', 27017) side of the tunnel: open new channel ssh error: SSH session not active\n",
      "2024-02-08 14:50:28,586| ERROR   | Could not establish connection from local ('127.0.0.1', 3793) to remote ('insight-beta-article-db2.chmaiagjipqy.ap-south-1.docdb.amazonaws.com', 27017) side of the tunnel: open new channel ssh error: SSH session not active\n",
      "2024-02-08 14:50:38,642| ERROR   | Could not establish connection from local ('127.0.0.1', 3793) to remote ('insight-beta-article-db2.chmaiagjipqy.ap-south-1.docdb.amazonaws.com', 27017) side of the tunnel: open new channel ssh error: SSH session not active\n",
      "2024-02-08 14:50:48,706| ERROR   | Could not establish connection from local ('127.0.0.1', 3793) to remote ('insight-beta-article-db2.chmaiagjipqy.ap-south-1.docdb.amazonaws.com', 27017) side of the tunnel: open new channel ssh error: SSH session not active\n",
      "2024-02-08 14:50:58,765| ERROR   | Could not establish connection from local ('127.0.0.1', 3793) to remote ('insight-beta-article-db2.chmaiagjipqy.ap-south-1.docdb.amazonaws.com', 27017) side of the tunnel: open new channel ssh error: SSH session not active\n",
      "2024-02-08 14:51:08,823| ERROR   | Could not establish connection from local ('127.0.0.1', 3793) to remote ('insight-beta-article-db2.chmaiagjipqy.ap-south-1.docdb.amazonaws.com', 27017) side of the tunnel: open new channel ssh error: SSH session not active\n",
      "2024-02-08 14:51:18,887| ERROR   | Could not establish connection from local ('127.0.0.1', 3793) to remote ('insight-beta-article-db2.chmaiagjipqy.ap-south-1.docdb.amazonaws.com', 27017) side of the tunnel: open new channel ssh error: SSH session not active\n",
      "2024-02-08 14:51:28,946| ERROR   | Could not establish connection from local ('127.0.0.1', 3793) to remote ('insight-beta-article-db2.chmaiagjipqy.ap-south-1.docdb.amazonaws.com', 27017) side of the tunnel: open new channel ssh error: SSH session not active\n",
      "2024-02-08 14:51:39,017| ERROR   | Could not establish connection from local ('127.0.0.1', 3793) to remote ('insight-beta-article-db2.chmaiagjipqy.ap-south-1.docdb.amazonaws.com', 27017) side of the tunnel: open new channel ssh error: SSH session not active\n",
      "2024-02-08 14:51:49,110| ERROR   | Could not establish connection from local ('127.0.0.1', 3793) to remote ('insight-beta-article-db2.chmaiagjipqy.ap-south-1.docdb.amazonaws.com', 27017) side of the tunnel: open new channel ssh error: SSH session not active\n",
      "2024-02-08 14:51:59,210| ERROR   | Could not establish connection from local ('127.0.0.1', 3793) to remote ('insight-beta-article-db2.chmaiagjipqy.ap-south-1.docdb.amazonaws.com', 27017) side of the tunnel: open new channel ssh error: SSH session not active\n",
      "2024-02-08 14:52:09,335| ERROR   | Could not establish connection from local ('127.0.0.1', 3793) to remote ('insight-beta-article-db2.chmaiagjipqy.ap-south-1.docdb.amazonaws.com', 27017) side of the tunnel: open new channel ssh error: SSH session not active\n",
      "2024-02-08 14:52:19,471| ERROR   | Could not establish connection from local ('127.0.0.1', 3793) to remote ('insight-beta-article-db2.chmaiagjipqy.ap-south-1.docdb.amazonaws.com', 27017) side of the tunnel: open new channel ssh error: SSH session not active\n",
      "2024-02-08 14:52:29,590| ERROR   | Could not establish connection from local ('127.0.0.1', 3793) to remote ('insight-beta-article-db2.chmaiagjipqy.ap-south-1.docdb.amazonaws.com', 27017) side of the tunnel: open new channel ssh error: SSH session not active\n",
      "2024-02-08 14:52:39,720| ERROR   | Could not establish connection from local ('127.0.0.1', 3793) to remote ('insight-beta-article-db2.chmaiagjipqy.ap-south-1.docdb.amazonaws.com', 27017) side of the tunnel: open new channel ssh error: SSH session not active\n",
      "2024-02-08 14:52:49,863| ERROR   | Could not establish connection from local ('127.0.0.1', 3793) to remote ('insight-beta-article-db2.chmaiagjipqy.ap-south-1.docdb.amazonaws.com', 27017) side of the tunnel: open new channel ssh error: SSH session not active\n",
      "2024-02-08 14:52:59,957| ERROR   | Could not establish connection from local ('127.0.0.1', 3793) to remote ('insight-beta-article-db2.chmaiagjipqy.ap-south-1.docdb.amazonaws.com', 27017) side of the tunnel: open new channel ssh error: SSH session not active\n",
      "2024-02-08 14:53:10,025| ERROR   | Could not establish connection from local ('127.0.0.1', 3793) to remote ('insight-beta-article-db2.chmaiagjipqy.ap-south-1.docdb.amazonaws.com', 27017) side of the tunnel: open new channel ssh error: SSH session not active\n",
      "2024-02-08 14:53:20,112| ERROR   | Could not establish connection from local ('127.0.0.1', 3793) to remote ('insight-beta-article-db2.chmaiagjipqy.ap-south-1.docdb.amazonaws.com', 27017) side of the tunnel: open new channel ssh error: SSH session not active\n",
      "2024-02-08 14:53:30,181| ERROR   | Could not establish connection from local ('127.0.0.1', 3793) to remote ('insight-beta-article-db2.chmaiagjipqy.ap-south-1.docdb.amazonaws.com', 27017) side of the tunnel: open new channel ssh error: SSH session not active\n",
      "2024-02-08 14:53:40,267| ERROR   | Could not establish connection from local ('127.0.0.1', 3793) to remote ('insight-beta-article-db2.chmaiagjipqy.ap-south-1.docdb.amazonaws.com', 27017) side of the tunnel: open new channel ssh error: SSH session not active\n",
      "2024-02-08 14:53:50,348| ERROR   | Could not establish connection from local ('127.0.0.1', 3793) to remote ('insight-beta-article-db2.chmaiagjipqy.ap-south-1.docdb.amazonaws.com', 27017) side of the tunnel: open new channel ssh error: SSH session not active\n",
      "2024-02-08 14:54:00,415| ERROR   | Could not establish connection from local ('127.0.0.1', 3793) to remote ('insight-beta-article-db2.chmaiagjipqy.ap-south-1.docdb.amazonaws.com', 27017) side of the tunnel: open new channel ssh error: SSH session not active\n",
      "2024-02-08 14:54:10,488| ERROR   | Could not establish connection from local ('127.0.0.1', 3793) to remote ('insight-beta-article-db2.chmaiagjipqy.ap-south-1.docdb.amazonaws.com', 27017) side of the tunnel: open new channel ssh error: SSH session not active\n",
      "2024-02-08 14:54:20,566| ERROR   | Could not establish connection from local ('127.0.0.1', 3793) to remote ('insight-beta-article-db2.chmaiagjipqy.ap-south-1.docdb.amazonaws.com', 27017) side of the tunnel: open new channel ssh error: SSH session not active\n",
      "2024-02-08 14:54:30,636| ERROR   | Could not establish connection from local ('127.0.0.1', 3793) to remote ('insight-beta-article-db2.chmaiagjipqy.ap-south-1.docdb.amazonaws.com', 27017) side of the tunnel: open new channel ssh error: SSH session not active\n",
      "2024-02-08 14:54:40,709| ERROR   | Could not establish connection from local ('127.0.0.1', 3793) to remote ('insight-beta-article-db2.chmaiagjipqy.ap-south-1.docdb.amazonaws.com', 27017) side of the tunnel: open new channel ssh error: SSH session not active\n",
      "2024-02-08 14:54:50,781| ERROR   | Could not establish connection from local ('127.0.0.1', 3793) to remote ('insight-beta-article-db2.chmaiagjipqy.ap-south-1.docdb.amazonaws.com', 27017) side of the tunnel: open new channel ssh error: SSH session not active\n",
      "2024-02-08 14:55:00,849| ERROR   | Could not establish connection from local ('127.0.0.1', 3793) to remote ('insight-beta-article-db2.chmaiagjipqy.ap-south-1.docdb.amazonaws.com', 27017) side of the tunnel: open new channel ssh error: SSH session not active\n",
      "2024-02-08 14:55:10,924| ERROR   | Could not establish connection from local ('127.0.0.1', 3793) to remote ('insight-beta-article-db2.chmaiagjipqy.ap-south-1.docdb.amazonaws.com', 27017) side of the tunnel: open new channel ssh error: SSH session not active\n",
      "2024-02-08 14:55:21,003| ERROR   | Could not establish connection from local ('127.0.0.1', 3793) to remote ('insight-beta-article-db2.chmaiagjipqy.ap-south-1.docdb.amazonaws.com', 27017) side of the tunnel: open new channel ssh error: SSH session not active\n",
      "2024-02-08 14:55:31,065| ERROR   | Could not establish connection from local ('127.0.0.1', 3793) to remote ('insight-beta-article-db2.chmaiagjipqy.ap-south-1.docdb.amazonaws.com', 27017) side of the tunnel: open new channel ssh error: SSH session not active\n",
      "2024-02-08 14:55:41,130| ERROR   | Could not establish connection from local ('127.0.0.1', 3793) to remote ('insight-beta-article-db2.chmaiagjipqy.ap-south-1.docdb.amazonaws.com', 27017) side of the tunnel: open new channel ssh error: SSH session not active\n",
      "2024-02-08 14:55:51,215| ERROR   | Could not establish connection from local ('127.0.0.1', 3793) to remote ('insight-beta-article-db2.chmaiagjipqy.ap-south-1.docdb.amazonaws.com', 27017) side of the tunnel: open new channel ssh error: SSH session not active\n",
      "2024-02-08 14:56:01,300| ERROR   | Could not establish connection from local ('127.0.0.1', 3793) to remote ('insight-beta-article-db2.chmaiagjipqy.ap-south-1.docdb.amazonaws.com', 27017) side of the tunnel: open new channel ssh error: SSH session not active\n",
      "2024-02-08 14:56:11,368| ERROR   | Could not establish connection from local ('127.0.0.1', 3793) to remote ('insight-beta-article-db2.chmaiagjipqy.ap-south-1.docdb.amazonaws.com', 27017) side of the tunnel: open new channel ssh error: SSH session not active\n",
      "2024-02-08 14:56:21,446| ERROR   | Could not establish connection from local ('127.0.0.1', 3793) to remote ('insight-beta-article-db2.chmaiagjipqy.ap-south-1.docdb.amazonaws.com', 27017) side of the tunnel: open new channel ssh error: SSH session not active\n",
      "2024-02-08 14:56:31,518| ERROR   | Could not establish connection from local ('127.0.0.1', 3793) to remote ('insight-beta-article-db2.chmaiagjipqy.ap-south-1.docdb.amazonaws.com', 27017) side of the tunnel: open new channel ssh error: SSH session not active\n",
      "2024-02-08 14:56:41,594| ERROR   | Could not establish connection from local ('127.0.0.1', 3793) to remote ('insight-beta-article-db2.chmaiagjipqy.ap-south-1.docdb.amazonaws.com', 27017) side of the tunnel: open new channel ssh error: SSH session not active\n",
      "2024-02-08 14:56:51,677| ERROR   | Could not establish connection from local ('127.0.0.1', 3793) to remote ('insight-beta-article-db2.chmaiagjipqy.ap-south-1.docdb.amazonaws.com', 27017) side of the tunnel: open new channel ssh error: SSH session not active\n",
      "2024-02-08 14:57:01,748| ERROR   | Could not establish connection from local ('127.0.0.1', 3793) to remote ('insight-beta-article-db2.chmaiagjipqy.ap-south-1.docdb.amazonaws.com', 27017) side of the tunnel: open new channel ssh error: SSH session not active\n",
      "2024-02-08 14:57:11,830| ERROR   | Could not establish connection from local ('127.0.0.1', 3793) to remote ('insight-beta-article-db2.chmaiagjipqy.ap-south-1.docdb.amazonaws.com', 27017) side of the tunnel: open new channel ssh error: SSH session not active\n",
      "2024-02-08 14:57:21,909| ERROR   | Could not establish connection from local ('127.0.0.1', 3793) to remote ('insight-beta-article-db2.chmaiagjipqy.ap-south-1.docdb.amazonaws.com', 27017) side of the tunnel: open new channel ssh error: SSH session not active\n",
      "2024-02-08 14:57:31,989| ERROR   | Could not establish connection from local ('127.0.0.1', 3793) to remote ('insight-beta-article-db2.chmaiagjipqy.ap-south-1.docdb.amazonaws.com', 27017) side of the tunnel: open new channel ssh error: SSH session not active\n",
      "2024-02-08 14:57:42,045| ERROR   | Could not establish connection from local ('127.0.0.1', 3793) to remote ('insight-beta-article-db2.chmaiagjipqy.ap-south-1.docdb.amazonaws.com', 27017) side of the tunnel: open new channel ssh error: SSH session not active\n",
      "2024-02-08 14:57:52,116| ERROR   | Could not establish connection from local ('127.0.0.1', 3793) to remote ('insight-beta-article-db2.chmaiagjipqy.ap-south-1.docdb.amazonaws.com', 27017) side of the tunnel: open new channel ssh error: SSH session not active\n",
      "2024-02-08 14:58:02,193| ERROR   | Could not establish connection from local ('127.0.0.1', 3793) to remote ('insight-beta-article-db2.chmaiagjipqy.ap-south-1.docdb.amazonaws.com', 27017) side of the tunnel: open new channel ssh error: SSH session not active\n",
      "2024-02-08 14:58:12,267| ERROR   | Could not establish connection from local ('127.0.0.1', 3793) to remote ('insight-beta-article-db2.chmaiagjipqy.ap-south-1.docdb.amazonaws.com', 27017) side of the tunnel: open new channel ssh error: SSH session not active\n",
      "2024-02-08 14:58:22,348| ERROR   | Could not establish connection from local ('127.0.0.1', 3793) to remote ('insight-beta-article-db2.chmaiagjipqy.ap-south-1.docdb.amazonaws.com', 27017) side of the tunnel: open new channel ssh error: SSH session not active\n",
      "2024-02-08 14:58:32,420| ERROR   | Could not establish connection from local ('127.0.0.1', 3793) to remote ('insight-beta-article-db2.chmaiagjipqy.ap-south-1.docdb.amazonaws.com', 27017) side of the tunnel: open new channel ssh error: SSH session not active\n",
      "2024-02-08 14:58:42,495| ERROR   | Could not establish connection from local ('127.0.0.1', 3793) to remote ('insight-beta-article-db2.chmaiagjipqy.ap-south-1.docdb.amazonaws.com', 27017) side of the tunnel: open new channel ssh error: SSH session not active\n",
      "2024-02-08 14:58:52,571| ERROR   | Could not establish connection from local ('127.0.0.1', 3793) to remote ('insight-beta-article-db2.chmaiagjipqy.ap-south-1.docdb.amazonaws.com', 27017) side of the tunnel: open new channel ssh error: SSH session not active\n",
      "2024-02-08 14:59:02,652| ERROR   | Could not establish connection from local ('127.0.0.1', 3793) to remote ('insight-beta-article-db2.chmaiagjipqy.ap-south-1.docdb.amazonaws.com', 27017) side of the tunnel: open new channel ssh error: SSH session not active\n",
      "2024-02-08 14:59:12,734| ERROR   | Could not establish connection from local ('127.0.0.1', 3793) to remote ('insight-beta-article-db2.chmaiagjipqy.ap-south-1.docdb.amazonaws.com', 27017) side of the tunnel: open new channel ssh error: SSH session not active\n",
      "2024-02-08 14:59:22,886| ERROR   | Could not establish connection from local ('127.0.0.1', 3793) to remote ('insight-beta-article-db2.chmaiagjipqy.ap-south-1.docdb.amazonaws.com', 27017) side of the tunnel: open new channel ssh error: SSH session not active\n",
      "2024-02-08 14:59:33,008| ERROR   | Could not establish connection from local ('127.0.0.1', 3793) to remote ('insight-beta-article-db2.chmaiagjipqy.ap-south-1.docdb.amazonaws.com', 27017) side of the tunnel: open new channel ssh error: SSH session not active\n",
      "2024-02-08 14:59:43,153| ERROR   | Could not establish connection from local ('127.0.0.1', 3793) to remote ('insight-beta-article-db2.chmaiagjipqy.ap-south-1.docdb.amazonaws.com', 27017) side of the tunnel: open new channel ssh error: SSH session not active\n",
      "2024-02-08 14:59:53,259| ERROR   | Could not establish connection from local ('127.0.0.1', 3793) to remote ('insight-beta-article-db2.chmaiagjipqy.ap-south-1.docdb.amazonaws.com', 27017) side of the tunnel: open new channel ssh error: SSH session not active\n",
      "2024-02-08 15:00:03,392| ERROR   | Could not establish connection from local ('127.0.0.1', 3793) to remote ('insight-beta-article-db2.chmaiagjipqy.ap-south-1.docdb.amazonaws.com', 27017) side of the tunnel: open new channel ssh error: SSH session not active\n",
      "2024-02-08 15:00:13,535| ERROR   | Could not establish connection from local ('127.0.0.1', 3793) to remote ('insight-beta-article-db2.chmaiagjipqy.ap-south-1.docdb.amazonaws.com', 27017) side of the tunnel: open new channel ssh error: SSH session not active\n",
      "2024-02-08 15:00:23,670| ERROR   | Could not establish connection from local ('127.0.0.1', 3793) to remote ('insight-beta-article-db2.chmaiagjipqy.ap-south-1.docdb.amazonaws.com', 27017) side of the tunnel: open new channel ssh error: SSH session not active\n",
      "2024-02-08 15:00:33,811| ERROR   | Could not establish connection from local ('127.0.0.1', 3793) to remote ('insight-beta-article-db2.chmaiagjipqy.ap-south-1.docdb.amazonaws.com', 27017) side of the tunnel: open new channel ssh error: SSH session not active\n",
      "2024-02-08 15:00:43,931| ERROR   | Could not establish connection from local ('127.0.0.1', 3793) to remote ('insight-beta-article-db2.chmaiagjipqy.ap-south-1.docdb.amazonaws.com', 27017) side of the tunnel: open new channel ssh error: SSH session not active\n",
      "2024-02-08 15:00:54,054| ERROR   | Could not establish connection from local ('127.0.0.1', 3793) to remote ('insight-beta-article-db2.chmaiagjipqy.ap-south-1.docdb.amazonaws.com', 27017) side of the tunnel: open new channel ssh error: SSH session not active\n",
      "2024-02-08 15:01:04,191| ERROR   | Could not establish connection from local ('127.0.0.1', 3793) to remote ('insight-beta-article-db2.chmaiagjipqy.ap-south-1.docdb.amazonaws.com', 27017) side of the tunnel: open new channel ssh error: SSH session not active\n",
      "2024-02-08 15:01:14,400| ERROR   | Could not establish connection from local ('127.0.0.1', 3793) to remote ('insight-beta-article-db2.chmaiagjipqy.ap-south-1.docdb.amazonaws.com', 27017) side of the tunnel: open new channel ssh error: SSH session not active\n",
      "2024-02-08 15:01:24,478| ERROR   | Could not establish connection from local ('127.0.0.1', 3793) to remote ('insight-beta-article-db2.chmaiagjipqy.ap-south-1.docdb.amazonaws.com', 27017) side of the tunnel: open new channel ssh error: SSH session not active\n",
      "2024-02-08 15:01:34,557| ERROR   | Could not establish connection from local ('127.0.0.1', 3793) to remote ('insight-beta-article-db2.chmaiagjipqy.ap-south-1.docdb.amazonaws.com', 27017) side of the tunnel: open new channel ssh error: SSH session not active\n",
      "2024-02-08 15:01:44,631| ERROR   | Could not establish connection from local ('127.0.0.1', 3793) to remote ('insight-beta-article-db2.chmaiagjipqy.ap-south-1.docdb.amazonaws.com', 27017) side of the tunnel: open new channel ssh error: SSH session not active\n",
      "2024-02-08 15:01:54,708| ERROR   | Could not establish connection from local ('127.0.0.1', 3793) to remote ('insight-beta-article-db2.chmaiagjipqy.ap-south-1.docdb.amazonaws.com', 27017) side of the tunnel: open new channel ssh error: SSH session not active\n",
      "2024-02-08 15:02:04,783| ERROR   | Could not establish connection from local ('127.0.0.1', 3793) to remote ('insight-beta-article-db2.chmaiagjipqy.ap-south-1.docdb.amazonaws.com', 27017) side of the tunnel: open new channel ssh error: SSH session not active\n",
      "2024-02-08 15:02:14,863| ERROR   | Could not establish connection from local ('127.0.0.1', 3793) to remote ('insight-beta-article-db2.chmaiagjipqy.ap-south-1.docdb.amazonaws.com', 27017) side of the tunnel: open new channel ssh error: SSH session not active\n",
      "2024-02-08 15:02:24,920| ERROR   | Could not establish connection from local ('127.0.0.1', 3793) to remote ('insight-beta-article-db2.chmaiagjipqy.ap-south-1.docdb.amazonaws.com', 27017) side of the tunnel: open new channel ssh error: SSH session not active\n",
      "2024-02-08 15:02:34,984| ERROR   | Could not establish connection from local ('127.0.0.1', 3793) to remote ('insight-beta-article-db2.chmaiagjipqy.ap-south-1.docdb.amazonaws.com', 27017) side of the tunnel: open new channel ssh error: SSH session not active\n",
      "2024-02-08 15:02:44,977| ERROR   | Could not establish connection from local ('127.0.0.1', 3793) to remote ('insight-beta-article-db2.chmaiagjipqy.ap-south-1.docdb.amazonaws.com', 27017) side of the tunnel: open new channel ssh error: SSH session not active\n",
      "2024-02-08 15:02:55,048| ERROR   | Could not establish connection from local ('127.0.0.1', 3793) to remote ('insight-beta-article-db2.chmaiagjipqy.ap-south-1.docdb.amazonaws.com', 27017) side of the tunnel: open new channel ssh error: SSH session not active\n",
      "2024-02-08 15:03:05,099| ERROR   | Could not establish connection from local ('127.0.0.1', 3793) to remote ('insight-beta-article-db2.chmaiagjipqy.ap-south-1.docdb.amazonaws.com', 27017) side of the tunnel: open new channel ssh error: SSH session not active\n",
      "2024-02-08 15:03:15,169| ERROR   | Could not establish connection from local ('127.0.0.1', 3793) to remote ('insight-beta-article-db2.chmaiagjipqy.ap-south-1.docdb.amazonaws.com', 27017) side of the tunnel: open new channel ssh error: SSH session not active\n",
      "2024-02-08 15:03:25,241| ERROR   | Could not establish connection from local ('127.0.0.1', 3793) to remote ('insight-beta-article-db2.chmaiagjipqy.ap-south-1.docdb.amazonaws.com', 27017) side of the tunnel: open new channel ssh error: SSH session not active\n",
      "2024-02-08 15:03:35,321| ERROR   | Could not establish connection from local ('127.0.0.1', 3793) to remote ('insight-beta-article-db2.chmaiagjipqy.ap-south-1.docdb.amazonaws.com', 27017) side of the tunnel: open new channel ssh error: SSH session not active\n",
      "2024-02-08 15:03:45,388| ERROR   | Could not establish connection from local ('127.0.0.1', 3793) to remote ('insight-beta-article-db2.chmaiagjipqy.ap-south-1.docdb.amazonaws.com', 27017) side of the tunnel: open new channel ssh error: SSH session not active\n",
      "2024-02-08 15:03:55,457| ERROR   | Could not establish connection from local ('127.0.0.1', 3793) to remote ('insight-beta-article-db2.chmaiagjipqy.ap-south-1.docdb.amazonaws.com', 27017) side of the tunnel: open new channel ssh error: SSH session not active\n",
      "2024-02-08 15:04:05,533| ERROR   | Could not establish connection from local ('127.0.0.1', 3793) to remote ('insight-beta-article-db2.chmaiagjipqy.ap-south-1.docdb.amazonaws.com', 27017) side of the tunnel: open new channel ssh error: SSH session not active\n",
      "2024-02-08 15:04:15,603| ERROR   | Could not establish connection from local ('127.0.0.1', 3793) to remote ('insight-beta-article-db2.chmaiagjipqy.ap-south-1.docdb.amazonaws.com', 27017) side of the tunnel: open new channel ssh error: SSH session not active\n",
      "2024-02-08 15:04:25,665| ERROR   | Could not establish connection from local ('127.0.0.1', 3793) to remote ('insight-beta-article-db2.chmaiagjipqy.ap-south-1.docdb.amazonaws.com', 27017) side of the tunnel: open new channel ssh error: SSH session not active\n",
      "2024-02-08 15:04:35,753| ERROR   | Could not establish connection from local ('127.0.0.1', 3793) to remote ('insight-beta-article-db2.chmaiagjipqy.ap-south-1.docdb.amazonaws.com', 27017) side of the tunnel: open new channel ssh error: SSH session not active\n",
      "2024-02-08 15:04:45,831| ERROR   | Could not establish connection from local ('127.0.0.1', 3793) to remote ('insight-beta-article-db2.chmaiagjipqy.ap-south-1.docdb.amazonaws.com', 27017) side of the tunnel: open new channel ssh error: SSH session not active\n",
      "2024-02-08 15:04:55,904| ERROR   | Could not establish connection from local ('127.0.0.1', 3793) to remote ('insight-beta-article-db2.chmaiagjipqy.ap-south-1.docdb.amazonaws.com', 27017) side of the tunnel: open new channel ssh error: SSH session not active\n",
      "2024-02-08 15:05:05,976| ERROR   | Could not establish connection from local ('127.0.0.1', 3793) to remote ('insight-beta-article-db2.chmaiagjipqy.ap-south-1.docdb.amazonaws.com', 27017) side of the tunnel: open new channel ssh error: SSH session not active\n",
      "2024-02-08 15:05:16,060| ERROR   | Could not establish connection from local ('127.0.0.1', 3793) to remote ('insight-beta-article-db2.chmaiagjipqy.ap-south-1.docdb.amazonaws.com', 27017) side of the tunnel: open new channel ssh error: SSH session not active\n",
      "2024-02-08 15:05:26,138| ERROR   | Could not establish connection from local ('127.0.0.1', 3793) to remote ('insight-beta-article-db2.chmaiagjipqy.ap-south-1.docdb.amazonaws.com', 27017) side of the tunnel: open new channel ssh error: SSH session not active\n",
      "2024-02-08 15:05:36,204| ERROR   | Could not establish connection from local ('127.0.0.1', 3793) to remote ('insight-beta-article-db2.chmaiagjipqy.ap-south-1.docdb.amazonaws.com', 27017) side of the tunnel: open new channel ssh error: SSH session not active\n",
      "2024-02-08 15:05:46,270| ERROR   | Could not establish connection from local ('127.0.0.1', 3793) to remote ('insight-beta-article-db2.chmaiagjipqy.ap-south-1.docdb.amazonaws.com', 27017) side of the tunnel: open new channel ssh error: SSH session not active\n",
      "2024-02-08 15:05:56,347| ERROR   | Could not establish connection from local ('127.0.0.1', 3793) to remote ('insight-beta-article-db2.chmaiagjipqy.ap-south-1.docdb.amazonaws.com', 27017) side of the tunnel: open new channel ssh error: SSH session not active\n",
      "2024-02-08 15:06:06,430| ERROR   | Could not establish connection from local ('127.0.0.1', 3793) to remote ('insight-beta-article-db2.chmaiagjipqy.ap-south-1.docdb.amazonaws.com', 27017) side of the tunnel: open new channel ssh error: SSH session not active\n",
      "2024-02-08 15:06:16,502| ERROR   | Could not establish connection from local ('127.0.0.1', 3793) to remote ('insight-beta-article-db2.chmaiagjipqy.ap-south-1.docdb.amazonaws.com', 27017) side of the tunnel: open new channel ssh error: SSH session not active\n",
      "2024-02-08 15:06:26,555| ERROR   | Could not establish connection from local ('127.0.0.1', 3793) to remote ('insight-beta-article-db2.chmaiagjipqy.ap-south-1.docdb.amazonaws.com', 27017) side of the tunnel: open new channel ssh error: SSH session not active\n",
      "2024-02-08 15:06:36,628| ERROR   | Could not establish connection from local ('127.0.0.1', 3793) to remote ('insight-beta-article-db2.chmaiagjipqy.ap-south-1.docdb.amazonaws.com', 27017) side of the tunnel: open new channel ssh error: SSH session not active\n",
      "2024-02-08 15:06:46,689| ERROR   | Could not establish connection from local ('127.0.0.1', 3793) to remote ('insight-beta-article-db2.chmaiagjipqy.ap-south-1.docdb.amazonaws.com', 27017) side of the tunnel: open new channel ssh error: SSH session not active\n",
      "2024-02-08 15:06:56,762| ERROR   | Could not establish connection from local ('127.0.0.1', 3793) to remote ('insight-beta-article-db2.chmaiagjipqy.ap-south-1.docdb.amazonaws.com', 27017) side of the tunnel: open new channel ssh error: SSH session not active\n",
      "2024-02-08 15:07:06,839| ERROR   | Could not establish connection from local ('127.0.0.1', 3793) to remote ('insight-beta-article-db2.chmaiagjipqy.ap-south-1.docdb.amazonaws.com', 27017) side of the tunnel: open new channel ssh error: SSH session not active\n",
      "2024-02-08 15:07:16,914| ERROR   | Could not establish connection from local ('127.0.0.1', 3793) to remote ('insight-beta-article-db2.chmaiagjipqy.ap-south-1.docdb.amazonaws.com', 27017) side of the tunnel: open new channel ssh error: SSH session not active\n",
      "2024-02-08 15:07:26,995| ERROR   | Could not establish connection from local ('127.0.0.1', 3793) to remote ('insight-beta-article-db2.chmaiagjipqy.ap-south-1.docdb.amazonaws.com', 27017) side of the tunnel: open new channel ssh error: SSH session not active\n",
      "2024-02-08 15:07:37,067| ERROR   | Could not establish connection from local ('127.0.0.1', 3793) to remote ('insight-beta-article-db2.chmaiagjipqy.ap-south-1.docdb.amazonaws.com', 27017) side of the tunnel: open new channel ssh error: SSH session not active\n",
      "2024-02-08 15:07:47,134| ERROR   | Could not establish connection from local ('127.0.0.1', 3793) to remote ('insight-beta-article-db2.chmaiagjipqy.ap-south-1.docdb.amazonaws.com', 27017) side of the tunnel: open new channel ssh error: SSH session not active\n",
      "2024-02-08 15:07:57,206| ERROR   | Could not establish connection from local ('127.0.0.1', 3793) to remote ('insight-beta-article-db2.chmaiagjipqy.ap-south-1.docdb.amazonaws.com', 27017) side of the tunnel: open new channel ssh error: SSH session not active\n",
      "2024-02-08 15:08:07,283| ERROR   | Could not establish connection from local ('127.0.0.1', 3793) to remote ('insight-beta-article-db2.chmaiagjipqy.ap-south-1.docdb.amazonaws.com', 27017) side of the tunnel: open new channel ssh error: SSH session not active\n",
      "2024-02-08 15:08:17,347| ERROR   | Could not establish connection from local ('127.0.0.1', 3793) to remote ('insight-beta-article-db2.chmaiagjipqy.ap-south-1.docdb.amazonaws.com', 27017) side of the tunnel: open new channel ssh error: SSH session not active\n",
      "2024-02-08 15:08:27,407| ERROR   | Could not establish connection from local ('127.0.0.1', 3793) to remote ('insight-beta-article-db2.chmaiagjipqy.ap-south-1.docdb.amazonaws.com', 27017) side of the tunnel: open new channel ssh error: SSH session not active\n",
      "2024-02-08 15:08:37,464| ERROR   | Could not establish connection from local ('127.0.0.1', 3793) to remote ('insight-beta-article-db2.chmaiagjipqy.ap-south-1.docdb.amazonaws.com', 27017) side of the tunnel: open new channel ssh error: SSH session not active\n",
      "2024-02-08 15:08:47,549| ERROR   | Could not establish connection from local ('127.0.0.1', 3793) to remote ('insight-beta-article-db2.chmaiagjipqy.ap-south-1.docdb.amazonaws.com', 27017) side of the tunnel: open new channel ssh error: SSH session not active\n",
      "2024-02-08 15:08:57,620| ERROR   | Could not establish connection from local ('127.0.0.1', 3793) to remote ('insight-beta-article-db2.chmaiagjipqy.ap-south-1.docdb.amazonaws.com', 27017) side of the tunnel: open new channel ssh error: SSH session not active\n",
      "2024-02-08 15:09:07,685| ERROR   | Could not establish connection from local ('127.0.0.1', 3793) to remote ('insight-beta-article-db2.chmaiagjipqy.ap-south-1.docdb.amazonaws.com', 27017) side of the tunnel: open new channel ssh error: SSH session not active\n",
      "2024-02-08 15:09:17,761| ERROR   | Could not establish connection from local ('127.0.0.1', 3793) to remote ('insight-beta-article-db2.chmaiagjipqy.ap-south-1.docdb.amazonaws.com', 27017) side of the tunnel: open new channel ssh error: SSH session not active\n",
      "2024-02-08 15:09:27,838| ERROR   | Could not establish connection from local ('127.0.0.1', 3793) to remote ('insight-beta-article-db2.chmaiagjipqy.ap-south-1.docdb.amazonaws.com', 27017) side of the tunnel: open new channel ssh error: SSH session not active\n",
      "2024-02-08 15:09:37,915| ERROR   | Could not establish connection from local ('127.0.0.1', 3793) to remote ('insight-beta-article-db2.chmaiagjipqy.ap-south-1.docdb.amazonaws.com', 27017) side of the tunnel: open new channel ssh error: SSH session not active\n",
      "2024-02-08 15:09:48,001| ERROR   | Could not establish connection from local ('127.0.0.1', 3793) to remote ('insight-beta-article-db2.chmaiagjipqy.ap-south-1.docdb.amazonaws.com', 27017) side of the tunnel: open new channel ssh error: SSH session not active\n",
      "2024-02-08 15:09:58,073| ERROR   | Could not establish connection from local ('127.0.0.1', 3793) to remote ('insight-beta-article-db2.chmaiagjipqy.ap-south-1.docdb.amazonaws.com', 27017) side of the tunnel: open new channel ssh error: SSH session not active\n",
      "2024-02-08 15:10:08,157| ERROR   | Could not establish connection from local ('127.0.0.1', 3793) to remote ('insight-beta-article-db2.chmaiagjipqy.ap-south-1.docdb.amazonaws.com', 27017) side of the tunnel: open new channel ssh error: SSH session not active\n",
      "2024-02-08 15:10:18,226| ERROR   | Could not establish connection from local ('127.0.0.1', 3793) to remote ('insight-beta-article-db2.chmaiagjipqy.ap-south-1.docdb.amazonaws.com', 27017) side of the tunnel: open new channel ssh error: SSH session not active\n",
      "2024-02-08 15:10:28,294| ERROR   | Could not establish connection from local ('127.0.0.1', 3793) to remote ('insight-beta-article-db2.chmaiagjipqy.ap-south-1.docdb.amazonaws.com', 27017) side of the tunnel: open new channel ssh error: SSH session not active\n",
      "2024-02-08 15:10:38,360| ERROR   | Could not establish connection from local ('127.0.0.1', 3793) to remote ('insight-beta-article-db2.chmaiagjipqy.ap-south-1.docdb.amazonaws.com', 27017) side of the tunnel: open new channel ssh error: SSH session not active\n",
      "2024-02-08 15:10:48,448| ERROR   | Could not establish connection from local ('127.0.0.1', 3793) to remote ('insight-beta-article-db2.chmaiagjipqy.ap-south-1.docdb.amazonaws.com', 27017) side of the tunnel: open new channel ssh error: SSH session not active\n",
      "2024-02-08 15:10:58,532| ERROR   | Could not establish connection from local ('127.0.0.1', 3793) to remote ('insight-beta-article-db2.chmaiagjipqy.ap-south-1.docdb.amazonaws.com', 27017) side of the tunnel: open new channel ssh error: SSH session not active\n",
      "2024-02-08 15:11:08,598| ERROR   | Could not establish connection from local ('127.0.0.1', 3793) to remote ('insight-beta-article-db2.chmaiagjipqy.ap-south-1.docdb.amazonaws.com', 27017) side of the tunnel: open new channel ssh error: SSH session not active\n",
      "2024-02-08 15:11:18,659| ERROR   | Could not establish connection from local ('127.0.0.1', 3793) to remote ('insight-beta-article-db2.chmaiagjipqy.ap-south-1.docdb.amazonaws.com', 27017) side of the tunnel: open new channel ssh error: SSH session not active\n",
      "2024-02-08 15:11:28,735| ERROR   | Could not establish connection from local ('127.0.0.1', 3793) to remote ('insight-beta-article-db2.chmaiagjipqy.ap-south-1.docdb.amazonaws.com', 27017) side of the tunnel: open new channel ssh error: SSH session not active\n",
      "2024-02-08 15:11:38,802| ERROR   | Could not establish connection from local ('127.0.0.1', 3793) to remote ('insight-beta-article-db2.chmaiagjipqy.ap-south-1.docdb.amazonaws.com', 27017) side of the tunnel: open new channel ssh error: SSH session not active\n",
      "2024-02-08 15:11:48,874| ERROR   | Could not establish connection from local ('127.0.0.1', 3793) to remote ('insight-beta-article-db2.chmaiagjipqy.ap-south-1.docdb.amazonaws.com', 27017) side of the tunnel: open new channel ssh error: SSH session not active\n",
      "2024-02-08 15:11:58,958| ERROR   | Could not establish connection from local ('127.0.0.1', 3793) to remote ('insight-beta-article-db2.chmaiagjipqy.ap-south-1.docdb.amazonaws.com', 27017) side of the tunnel: open new channel ssh error: SSH session not active\n",
      "2024-02-08 15:12:09,034| ERROR   | Could not establish connection from local ('127.0.0.1', 3793) to remote ('insight-beta-article-db2.chmaiagjipqy.ap-south-1.docdb.amazonaws.com', 27017) side of the tunnel: open new channel ssh error: SSH session not active\n",
      "2024-02-08 15:12:19,102| ERROR   | Could not establish connection from local ('127.0.0.1', 3793) to remote ('insight-beta-article-db2.chmaiagjipqy.ap-south-1.docdb.amazonaws.com', 27017) side of the tunnel: open new channel ssh error: SSH session not active\n",
      "2024-02-08 15:12:29,166| ERROR   | Could not establish connection from local ('127.0.0.1', 3793) to remote ('insight-beta-article-db2.chmaiagjipqy.ap-south-1.docdb.amazonaws.com', 27017) side of the tunnel: open new channel ssh error: SSH session not active\n",
      "2024-02-08 15:12:39,233| ERROR   | Could not establish connection from local ('127.0.0.1', 3793) to remote ('insight-beta-article-db2.chmaiagjipqy.ap-south-1.docdb.amazonaws.com', 27017) side of the tunnel: open new channel ssh error: SSH session not active\n",
      "2024-02-08 15:12:49,293| ERROR   | Could not establish connection from local ('127.0.0.1', 3793) to remote ('insight-beta-article-db2.chmaiagjipqy.ap-south-1.docdb.amazonaws.com', 27017) side of the tunnel: open new channel ssh error: SSH session not active\n",
      "2024-02-08 15:12:59,376| ERROR   | Could not establish connection from local ('127.0.0.1', 3793) to remote ('insight-beta-article-db2.chmaiagjipqy.ap-south-1.docdb.amazonaws.com', 27017) side of the tunnel: open new channel ssh error: SSH session not active\n",
      "2024-02-08 15:13:09,445| ERROR   | Could not establish connection from local ('127.0.0.1', 3793) to remote ('insight-beta-article-db2.chmaiagjipqy.ap-south-1.docdb.amazonaws.com', 27017) side of the tunnel: open new channel ssh error: SSH session not active\n",
      "2024-02-08 15:13:19,513| ERROR   | Could not establish connection from local ('127.0.0.1', 3793) to remote ('insight-beta-article-db2.chmaiagjipqy.ap-south-1.docdb.amazonaws.com', 27017) side of the tunnel: open new channel ssh error: SSH session not active\n",
      "2024-02-08 15:13:29,597| ERROR   | Could not establish connection from local ('127.0.0.1', 3793) to remote ('insight-beta-article-db2.chmaiagjipqy.ap-south-1.docdb.amazonaws.com', 27017) side of the tunnel: open new channel ssh error: SSH session not active\n",
      "2024-02-08 15:13:39,667| ERROR   | Could not establish connection from local ('127.0.0.1', 3793) to remote ('insight-beta-article-db2.chmaiagjipqy.ap-south-1.docdb.amazonaws.com', 27017) side of the tunnel: open new channel ssh error: SSH session not active\n",
      "2024-02-08 15:13:49,750| ERROR   | Could not establish connection from local ('127.0.0.1', 3793) to remote ('insight-beta-article-db2.chmaiagjipqy.ap-south-1.docdb.amazonaws.com', 27017) side of the tunnel: open new channel ssh error: SSH session not active\n",
      "2024-02-08 15:13:59,822| ERROR   | Could not establish connection from local ('127.0.0.1', 3793) to remote ('insight-beta-article-db2.chmaiagjipqy.ap-south-1.docdb.amazonaws.com', 27017) side of the tunnel: open new channel ssh error: SSH session not active\n",
      "2024-02-08 15:14:09,903| ERROR   | Could not establish connection from local ('127.0.0.1', 3793) to remote ('insight-beta-article-db2.chmaiagjipqy.ap-south-1.docdb.amazonaws.com', 27017) side of the tunnel: open new channel ssh error: SSH session not active\n",
      "2024-02-08 15:14:19,990| ERROR   | Could not establish connection from local ('127.0.0.1', 3793) to remote ('insight-beta-article-db2.chmaiagjipqy.ap-south-1.docdb.amazonaws.com', 27017) side of the tunnel: open new channel ssh error: SSH session not active\n",
      "2024-02-08 15:14:30,055| ERROR   | Could not establish connection from local ('127.0.0.1', 3793) to remote ('insight-beta-article-db2.chmaiagjipqy.ap-south-1.docdb.amazonaws.com', 27017) side of the tunnel: open new channel ssh error: SSH session not active\n",
      "2024-02-08 15:14:40,127| ERROR   | Could not establish connection from local ('127.0.0.1', 3793) to remote ('insight-beta-article-db2.chmaiagjipqy.ap-south-1.docdb.amazonaws.com', 27017) side of the tunnel: open new channel ssh error: SSH session not active\n",
      "2024-02-08 15:14:50,202| ERROR   | Could not establish connection from local ('127.0.0.1', 3793) to remote ('insight-beta-article-db2.chmaiagjipqy.ap-south-1.docdb.amazonaws.com', 27017) side of the tunnel: open new channel ssh error: SSH session not active\n",
      "2024-02-08 15:15:00,272| ERROR   | Could not establish connection from local ('127.0.0.1', 3793) to remote ('insight-beta-article-db2.chmaiagjipqy.ap-south-1.docdb.amazonaws.com', 27017) side of the tunnel: open new channel ssh error: SSH session not active\n",
      "2024-02-08 15:15:10,348| ERROR   | Could not establish connection from local ('127.0.0.1', 3793) to remote ('insight-beta-article-db2.chmaiagjipqy.ap-south-1.docdb.amazonaws.com', 27017) side of the tunnel: open new channel ssh error: SSH session not active\n",
      "2024-02-08 15:15:20,425| ERROR   | Could not establish connection from local ('127.0.0.1', 3793) to remote ('insight-beta-article-db2.chmaiagjipqy.ap-south-1.docdb.amazonaws.com', 27017) side of the tunnel: open new channel ssh error: SSH session not active\n",
      "2024-02-08 15:15:30,489| ERROR   | Could not establish connection from local ('127.0.0.1', 3793) to remote ('insight-beta-article-db2.chmaiagjipqy.ap-south-1.docdb.amazonaws.com', 27017) side of the tunnel: open new channel ssh error: SSH session not active\n",
      "2024-02-08 15:15:40,601| ERROR   | Could not establish connection from local ('127.0.0.1', 3793) to remote ('insight-beta-article-db2.chmaiagjipqy.ap-south-1.docdb.amazonaws.com', 27017) side of the tunnel: open new channel ssh error: SSH session not active\n",
      "2024-02-08 15:15:50,740| ERROR   | Could not establish connection from local ('127.0.0.1', 3793) to remote ('insight-beta-article-db2.chmaiagjipqy.ap-south-1.docdb.amazonaws.com', 27017) side of the tunnel: open new channel ssh error: SSH session not active\n",
      "2024-02-08 15:16:00,853| ERROR   | Could not establish connection from local ('127.0.0.1', 3793) to remote ('insight-beta-article-db2.chmaiagjipqy.ap-south-1.docdb.amazonaws.com', 27017) side of the tunnel: open new channel ssh error: SSH session not active\n",
      "2024-02-08 15:16:10,984| ERROR   | Could not establish connection from local ('127.0.0.1', 3793) to remote ('insight-beta-article-db2.chmaiagjipqy.ap-south-1.docdb.amazonaws.com', 27017) side of the tunnel: open new channel ssh error: SSH session not active\n",
      "2024-02-08 15:16:21,137| ERROR   | Could not establish connection from local ('127.0.0.1', 3793) to remote ('insight-beta-article-db2.chmaiagjipqy.ap-south-1.docdb.amazonaws.com', 27017) side of the tunnel: open new channel ssh error: SSH session not active\n",
      "2024-02-08 15:16:31,257| ERROR   | Could not establish connection from local ('127.0.0.1', 3793) to remote ('insight-beta-article-db2.chmaiagjipqy.ap-south-1.docdb.amazonaws.com', 27017) side of the tunnel: open new channel ssh error: SSH session not active\n",
      "2024-02-08 15:16:41,393| ERROR   | Could not establish connection from local ('127.0.0.1', 3793) to remote ('insight-beta-article-db2.chmaiagjipqy.ap-south-1.docdb.amazonaws.com', 27017) side of the tunnel: open new channel ssh error: SSH session not active\n",
      "2024-02-08 15:16:51,497| ERROR   | Could not establish connection from local ('127.0.0.1', 3793) to remote ('insight-beta-article-db2.chmaiagjipqy.ap-south-1.docdb.amazonaws.com', 27017) side of the tunnel: open new channel ssh error: SSH session not active\n",
      "2024-02-08 15:17:01,639| ERROR   | Could not establish connection from local ('127.0.0.1', 3793) to remote ('insight-beta-article-db2.chmaiagjipqy.ap-south-1.docdb.amazonaws.com', 27017) side of the tunnel: open new channel ssh error: SSH session not active\n",
      "2024-02-08 15:17:11,763| ERROR   | Could not establish connection from local ('127.0.0.1', 3793) to remote ('insight-beta-article-db2.chmaiagjipqy.ap-south-1.docdb.amazonaws.com', 27017) side of the tunnel: open new channel ssh error: SSH session not active\n",
      "2024-02-08 15:17:21,923| ERROR   | Could not establish connection from local ('127.0.0.1', 3793) to remote ('insight-beta-article-db2.chmaiagjipqy.ap-south-1.docdb.amazonaws.com', 27017) side of the tunnel: open new channel ssh error: SSH session not active\n",
      "2024-02-08 15:17:32,057| ERROR   | Could not establish connection from local ('127.0.0.1', 3793) to remote ('insight-beta-article-db2.chmaiagjipqy.ap-south-1.docdb.amazonaws.com', 27017) side of the tunnel: open new channel ssh error: SSH session not active\n",
      "2024-02-08 15:17:42,170| ERROR   | Could not establish connection from local ('127.0.0.1', 3793) to remote ('insight-beta-article-db2.chmaiagjipqy.ap-south-1.docdb.amazonaws.com', 27017) side of the tunnel: open new channel ssh error: SSH session not active\n",
      "2024-02-08 15:17:52,305| ERROR   | Could not establish connection from local ('127.0.0.1', 3793) to remote ('insight-beta-article-db2.chmaiagjipqy.ap-south-1.docdb.amazonaws.com', 27017) side of the tunnel: open new channel ssh error: SSH session not active\n",
      "2024-02-08 15:18:02,435| ERROR   | Could not establish connection from local ('127.0.0.1', 3793) to remote ('insight-beta-article-db2.chmaiagjipqy.ap-south-1.docdb.amazonaws.com', 27017) side of the tunnel: open new channel ssh error: SSH session not active\n",
      "2024-02-08 15:18:12,564| ERROR   | Could not establish connection from local ('127.0.0.1', 3793) to remote ('insight-beta-article-db2.chmaiagjipqy.ap-south-1.docdb.amazonaws.com', 27017) side of the tunnel: open new channel ssh error: SSH session not active\n",
      "2024-02-08 15:18:22,694| ERROR   | Could not establish connection from local ('127.0.0.1', 3793) to remote ('insight-beta-article-db2.chmaiagjipqy.ap-south-1.docdb.amazonaws.com', 27017) side of the tunnel: open new channel ssh error: SSH session not active\n",
      "2024-02-08 15:18:32,829| ERROR   | Could not establish connection from local ('127.0.0.1', 3793) to remote ('insight-beta-article-db2.chmaiagjipqy.ap-south-1.docdb.amazonaws.com', 27017) side of the tunnel: open new channel ssh error: SSH session not active\n",
      "2024-02-08 15:18:42,971| ERROR   | Could not establish connection from local ('127.0.0.1', 3793) to remote ('insight-beta-article-db2.chmaiagjipqy.ap-south-1.docdb.amazonaws.com', 27017) side of the tunnel: open new channel ssh error: SSH session not active\n",
      "2024-02-08 15:18:53,106| ERROR   | Could not establish connection from local ('127.0.0.1', 3793) to remote ('insight-beta-article-db2.chmaiagjipqy.ap-south-1.docdb.amazonaws.com', 27017) side of the tunnel: open new channel ssh error: SSH session not active\n",
      "2024-02-08 15:19:03,225| ERROR   | Could not establish connection from local ('127.0.0.1', 3793) to remote ('insight-beta-article-db2.chmaiagjipqy.ap-south-1.docdb.amazonaws.com', 27017) side of the tunnel: open new channel ssh error: SSH session not active\n",
      "2024-02-08 15:19:13,347| ERROR   | Could not establish connection from local ('127.0.0.1', 3793) to remote ('insight-beta-article-db2.chmaiagjipqy.ap-south-1.docdb.amazonaws.com', 27017) side of the tunnel: open new channel ssh error: SSH session not active\n",
      "2024-02-08 15:19:23,460| ERROR   | Could not establish connection from local ('127.0.0.1', 3793) to remote ('insight-beta-article-db2.chmaiagjipqy.ap-south-1.docdb.amazonaws.com', 27017) side of the tunnel: open new channel ssh error: SSH session not active\n",
      "2024-02-08 15:19:33,620| ERROR   | Could not establish connection from local ('127.0.0.1', 3793) to remote ('insight-beta-article-db2.chmaiagjipqy.ap-south-1.docdb.amazonaws.com', 27017) side of the tunnel: open new channel ssh error: SSH session not active\n",
      "2024-02-08 15:19:43,792| ERROR   | Could not establish connection from local ('127.0.0.1', 3793) to remote ('insight-beta-article-db2.chmaiagjipqy.ap-south-1.docdb.amazonaws.com', 27017) side of the tunnel: open new channel ssh error: SSH session not active\n",
      "2024-02-08 15:19:53,907| ERROR   | Could not establish connection from local ('127.0.0.1', 3793) to remote ('insight-beta-article-db2.chmaiagjipqy.ap-south-1.docdb.amazonaws.com', 27017) side of the tunnel: open new channel ssh error: SSH session not active\n",
      "2024-02-08 15:20:04,021| ERROR   | Could not establish connection from local ('127.0.0.1', 3793) to remote ('insight-beta-article-db2.chmaiagjipqy.ap-south-1.docdb.amazonaws.com', 27017) side of the tunnel: open new channel ssh error: SSH session not active\n",
      "2024-02-08 15:20:14,149| ERROR   | Could not establish connection from local ('127.0.0.1', 3793) to remote ('insight-beta-article-db2.chmaiagjipqy.ap-south-1.docdb.amazonaws.com', 27017) side of the tunnel: open new channel ssh error: SSH session not active\n",
      "2024-02-08 15:20:24,281| ERROR   | Could not establish connection from local ('127.0.0.1', 3793) to remote ('insight-beta-article-db2.chmaiagjipqy.ap-south-1.docdb.amazonaws.com', 27017) side of the tunnel: open new channel ssh error: SSH session not active\n",
      "2024-02-08 15:20:34,423| ERROR   | Could not establish connection from local ('127.0.0.1', 3793) to remote ('insight-beta-article-db2.chmaiagjipqy.ap-south-1.docdb.amazonaws.com', 27017) side of the tunnel: open new channel ssh error: SSH session not active\n",
      "2024-02-08 15:20:44,573| ERROR   | Could not establish connection from local ('127.0.0.1', 3793) to remote ('insight-beta-article-db2.chmaiagjipqy.ap-south-1.docdb.amazonaws.com', 27017) side of the tunnel: open new channel ssh error: SSH session not active\n",
      "2024-02-08 15:20:54,732| ERROR   | Could not establish connection from local ('127.0.0.1', 3793) to remote ('insight-beta-article-db2.chmaiagjipqy.ap-south-1.docdb.amazonaws.com', 27017) side of the tunnel: open new channel ssh error: SSH session not active\n",
      "2024-02-08 15:21:04,838| ERROR   | Could not establish connection from local ('127.0.0.1', 3793) to remote ('insight-beta-article-db2.chmaiagjipqy.ap-south-1.docdb.amazonaws.com', 27017) side of the tunnel: open new channel ssh error: SSH session not active\n",
      "2024-02-08 15:21:14,979| ERROR   | Could not establish connection from local ('127.0.0.1', 3793) to remote ('insight-beta-article-db2.chmaiagjipqy.ap-south-1.docdb.amazonaws.com', 27017) side of the tunnel: open new channel ssh error: SSH session not active\n",
      "2024-02-08 15:21:25,114| ERROR   | Could not establish connection from local ('127.0.0.1', 3793) to remote ('insight-beta-article-db2.chmaiagjipqy.ap-south-1.docdb.amazonaws.com', 27017) side of the tunnel: open new channel ssh error: SSH session not active\n",
      "2024-02-08 15:21:35,218| ERROR   | Could not establish connection from local ('127.0.0.1', 3793) to remote ('insight-beta-article-db2.chmaiagjipqy.ap-south-1.docdb.amazonaws.com', 27017) side of the tunnel: open new channel ssh error: SSH session not active\n",
      "2024-02-08 15:21:45,360| ERROR   | Could not establish connection from local ('127.0.0.1', 3793) to remote ('insight-beta-article-db2.chmaiagjipqy.ap-south-1.docdb.amazonaws.com', 27017) side of the tunnel: open new channel ssh error: SSH session not active\n",
      "2024-02-08 15:21:55,495| ERROR   | Could not establish connection from local ('127.0.0.1', 3793) to remote ('insight-beta-article-db2.chmaiagjipqy.ap-south-1.docdb.amazonaws.com', 27017) side of the tunnel: open new channel ssh error: SSH session not active\n",
      "2024-02-08 15:22:05,615| ERROR   | Could not establish connection from local ('127.0.0.1', 3793) to remote ('insight-beta-article-db2.chmaiagjipqy.ap-south-1.docdb.amazonaws.com', 27017) side of the tunnel: open new channel ssh error: SSH session not active\n",
      "2024-02-08 15:22:15,761| ERROR   | Could not establish connection from local ('127.0.0.1', 3793) to remote ('insight-beta-article-db2.chmaiagjipqy.ap-south-1.docdb.amazonaws.com', 27017) side of the tunnel: open new channel ssh error: SSH session not active\n",
      "2024-02-08 15:22:25,901| ERROR   | Could not establish connection from local ('127.0.0.1', 3793) to remote ('insight-beta-article-db2.chmaiagjipqy.ap-south-1.docdb.amazonaws.com', 27017) side of the tunnel: open new channel ssh error: SSH session not active\n",
      "2024-02-08 15:22:36,046| ERROR   | Could not establish connection from local ('127.0.0.1', 3793) to remote ('insight-beta-article-db2.chmaiagjipqy.ap-south-1.docdb.amazonaws.com', 27017) side of the tunnel: open new channel ssh error: SSH session not active\n",
      "2024-02-08 15:22:46,151| ERROR   | Could not establish connection from local ('127.0.0.1', 3793) to remote ('insight-beta-article-db2.chmaiagjipqy.ap-south-1.docdb.amazonaws.com', 27017) side of the tunnel: open new channel ssh error: SSH session not active\n",
      "2024-02-08 15:22:56,290| ERROR   | Could not establish connection from local ('127.0.0.1', 3793) to remote ('insight-beta-article-db2.chmaiagjipqy.ap-south-1.docdb.amazonaws.com', 27017) side of the tunnel: open new channel ssh error: SSH session not active\n",
      "2024-02-08 15:23:06,419| ERROR   | Could not establish connection from local ('127.0.0.1', 3793) to remote ('insight-beta-article-db2.chmaiagjipqy.ap-south-1.docdb.amazonaws.com', 27017) side of the tunnel: open new channel ssh error: SSH session not active\n",
      "2024-02-08 15:23:16,545| ERROR   | Could not establish connection from local ('127.0.0.1', 3793) to remote ('insight-beta-article-db2.chmaiagjipqy.ap-south-1.docdb.amazonaws.com', 27017) side of the tunnel: open new channel ssh error: SSH session not active\n",
      "2024-02-08 15:23:26,642| ERROR   | Could not establish connection from local ('127.0.0.1', 3793) to remote ('insight-beta-article-db2.chmaiagjipqy.ap-south-1.docdb.amazonaws.com', 27017) side of the tunnel: open new channel ssh error: SSH session not active\n",
      "2024-02-08 15:23:36,780| ERROR   | Could not establish connection from local ('127.0.0.1', 3793) to remote ('insight-beta-article-db2.chmaiagjipqy.ap-south-1.docdb.amazonaws.com', 27017) side of the tunnel: open new channel ssh error: SSH session not active\n",
      "2024-02-08 15:23:46,928| ERROR   | Could not establish connection from local ('127.0.0.1', 3793) to remote ('insight-beta-article-db2.chmaiagjipqy.ap-south-1.docdb.amazonaws.com', 27017) side of the tunnel: open new channel ssh error: SSH session not active\n",
      "2024-02-08 15:23:57,051| ERROR   | Could not establish connection from local ('127.0.0.1', 3793) to remote ('insight-beta-article-db2.chmaiagjipqy.ap-south-1.docdb.amazonaws.com', 27017) side of the tunnel: open new channel ssh error: SSH session not active\n",
      "2024-02-08 15:24:07,182| ERROR   | Could not establish connection from local ('127.0.0.1', 3793) to remote ('insight-beta-article-db2.chmaiagjipqy.ap-south-1.docdb.amazonaws.com', 27017) side of the tunnel: open new channel ssh error: SSH session not active\n",
      "2024-02-08 15:24:17,312| ERROR   | Could not establish connection from local ('127.0.0.1', 3793) to remote ('insight-beta-article-db2.chmaiagjipqy.ap-south-1.docdb.amazonaws.com', 27017) side of the tunnel: open new channel ssh error: SSH session not active\n",
      "2024-02-08 15:24:27,446| ERROR   | Could not establish connection from local ('127.0.0.1', 3793) to remote ('insight-beta-article-db2.chmaiagjipqy.ap-south-1.docdb.amazonaws.com', 27017) side of the tunnel: open new channel ssh error: SSH session not active\n",
      "2024-02-08 15:24:37,588| ERROR   | Could not establish connection from local ('127.0.0.1', 3793) to remote ('insight-beta-article-db2.chmaiagjipqy.ap-south-1.docdb.amazonaws.com', 27017) side of the tunnel: open new channel ssh error: SSH session not active\n",
      "2024-02-08 15:24:47,716| ERROR   | Could not establish connection from local ('127.0.0.1', 3793) to remote ('insight-beta-article-db2.chmaiagjipqy.ap-south-1.docdb.amazonaws.com', 27017) side of the tunnel: open new channel ssh error: SSH session not active\n",
      "2024-02-08 15:24:57,883| ERROR   | Could not establish connection from local ('127.0.0.1', 3793) to remote ('insight-beta-article-db2.chmaiagjipqy.ap-south-1.docdb.amazonaws.com', 27017) side of the tunnel: open new channel ssh error: SSH session not active\n",
      "2024-02-08 15:25:08,013| ERROR   | Could not establish connection from local ('127.0.0.1', 3793) to remote ('insight-beta-article-db2.chmaiagjipqy.ap-south-1.docdb.amazonaws.com', 27017) side of the tunnel: open new channel ssh error: SSH session not active\n",
      "2024-02-08 15:25:18,137| ERROR   | Could not establish connection from local ('127.0.0.1', 3793) to remote ('insight-beta-article-db2.chmaiagjipqy.ap-south-1.docdb.amazonaws.com', 27017) side of the tunnel: open new channel ssh error: SSH session not active\n",
      "2024-02-08 15:25:28,262| ERROR   | Could not establish connection from local ('127.0.0.1', 3793) to remote ('insight-beta-article-db2.chmaiagjipqy.ap-south-1.docdb.amazonaws.com', 27017) side of the tunnel: open new channel ssh error: SSH session not active\n",
      "2024-02-08 15:25:38,392| ERROR   | Could not establish connection from local ('127.0.0.1', 3793) to remote ('insight-beta-article-db2.chmaiagjipqy.ap-south-1.docdb.amazonaws.com', 27017) side of the tunnel: open new channel ssh error: SSH session not active\n",
      "2024-02-08 15:25:48,537| ERROR   | Could not establish connection from local ('127.0.0.1', 3793) to remote ('insight-beta-article-db2.chmaiagjipqy.ap-south-1.docdb.amazonaws.com', 27017) side of the tunnel: open new channel ssh error: SSH session not active\n",
      "2024-02-08 15:25:58,640| ERROR   | Could not establish connection from local ('127.0.0.1', 3793) to remote ('insight-beta-article-db2.chmaiagjipqy.ap-south-1.docdb.amazonaws.com', 27017) side of the tunnel: open new channel ssh error: SSH session not active\n",
      "2024-02-08 15:26:08,777| ERROR   | Could not establish connection from local ('127.0.0.1', 3793) to remote ('insight-beta-article-db2.chmaiagjipqy.ap-south-1.docdb.amazonaws.com', 27017) side of the tunnel: open new channel ssh error: SSH session not active\n",
      "2024-02-08 15:26:18,929| ERROR   | Could not establish connection from local ('127.0.0.1', 3793) to remote ('insight-beta-article-db2.chmaiagjipqy.ap-south-1.docdb.amazonaws.com', 27017) side of the tunnel: open new channel ssh error: SSH session not active\n",
      "2024-02-08 15:26:29,075| ERROR   | Could not establish connection from local ('127.0.0.1', 3793) to remote ('insight-beta-article-db2.chmaiagjipqy.ap-south-1.docdb.amazonaws.com', 27017) side of the tunnel: open new channel ssh error: SSH session not active\n",
      "2024-02-08 15:26:39,202| ERROR   | Could not establish connection from local ('127.0.0.1', 3793) to remote ('insight-beta-article-db2.chmaiagjipqy.ap-south-1.docdb.amazonaws.com', 27017) side of the tunnel: open new channel ssh error: SSH session not active\n",
      "2024-02-08 15:26:49,319| ERROR   | Could not establish connection from local ('127.0.0.1', 3793) to remote ('insight-beta-article-db2.chmaiagjipqy.ap-south-1.docdb.amazonaws.com', 27017) side of the tunnel: open new channel ssh error: SSH session not active\n",
      "2024-02-08 15:26:59,465| ERROR   | Could not establish connection from local ('127.0.0.1', 3793) to remote ('insight-beta-article-db2.chmaiagjipqy.ap-south-1.docdb.amazonaws.com', 27017) side of the tunnel: open new channel ssh error: SSH session not active\n",
      "2024-02-08 15:27:09,583| ERROR   | Could not establish connection from local ('127.0.0.1', 3793) to remote ('insight-beta-article-db2.chmaiagjipqy.ap-south-1.docdb.amazonaws.com', 27017) side of the tunnel: open new channel ssh error: SSH session not active\n",
      "2024-02-08 15:27:19,719| ERROR   | Could not establish connection from local ('127.0.0.1', 3793) to remote ('insight-beta-article-db2.chmaiagjipqy.ap-south-1.docdb.amazonaws.com', 27017) side of the tunnel: open new channel ssh error: SSH session not active\n",
      "2024-02-08 15:27:29,855| ERROR   | Could not establish connection from local ('127.0.0.1', 3793) to remote ('insight-beta-article-db2.chmaiagjipqy.ap-south-1.docdb.amazonaws.com', 27017) side of the tunnel: open new channel ssh error: SSH session not active\n",
      "2024-02-08 15:27:40,015| ERROR   | Could not establish connection from local ('127.0.0.1', 3793) to remote ('insight-beta-article-db2.chmaiagjipqy.ap-south-1.docdb.amazonaws.com', 27017) side of the tunnel: open new channel ssh error: SSH session not active\n",
      "2024-02-08 15:27:50,166| ERROR   | Could not establish connection from local ('127.0.0.1', 3793) to remote ('insight-beta-article-db2.chmaiagjipqy.ap-south-1.docdb.amazonaws.com', 27017) side of the tunnel: open new channel ssh error: SSH session not active\n",
      "2024-02-08 15:28:00,314| ERROR   | Could not establish connection from local ('127.0.0.1', 3793) to remote ('insight-beta-article-db2.chmaiagjipqy.ap-south-1.docdb.amazonaws.com', 27017) side of the tunnel: open new channel ssh error: SSH session not active\n",
      "2024-02-08 15:28:10,430| ERROR   | Could not establish connection from local ('127.0.0.1', 3793) to remote ('insight-beta-article-db2.chmaiagjipqy.ap-south-1.docdb.amazonaws.com', 27017) side of the tunnel: open new channel ssh error: SSH session not active\n",
      "2024-02-08 15:28:20,583| ERROR   | Could not establish connection from local ('127.0.0.1', 3793) to remote ('insight-beta-article-db2.chmaiagjipqy.ap-south-1.docdb.amazonaws.com', 27017) side of the tunnel: open new channel ssh error: SSH session not active\n",
      "2024-02-08 15:28:30,714| ERROR   | Could not establish connection from local ('127.0.0.1', 3793) to remote ('insight-beta-article-db2.chmaiagjipqy.ap-south-1.docdb.amazonaws.com', 27017) side of the tunnel: open new channel ssh error: SSH session not active\n",
      "2024-02-08 15:28:40,860| ERROR   | Could not establish connection from local ('127.0.0.1', 3793) to remote ('insight-beta-article-db2.chmaiagjipqy.ap-south-1.docdb.amazonaws.com', 27017) side of the tunnel: open new channel ssh error: SSH session not active\n",
      "2024-02-08 15:28:51,004| ERROR   | Could not establish connection from local ('127.0.0.1', 3793) to remote ('insight-beta-article-db2.chmaiagjipqy.ap-south-1.docdb.amazonaws.com', 27017) side of the tunnel: open new channel ssh error: SSH session not active\n",
      "2024-02-08 15:29:01,131| ERROR   | Could not establish connection from local ('127.0.0.1', 3793) to remote ('insight-beta-article-db2.chmaiagjipqy.ap-south-1.docdb.amazonaws.com', 27017) side of the tunnel: open new channel ssh error: SSH session not active\n",
      "2024-02-08 15:29:11,258| ERROR   | Could not establish connection from local ('127.0.0.1', 3793) to remote ('insight-beta-article-db2.chmaiagjipqy.ap-south-1.docdb.amazonaws.com', 27017) side of the tunnel: open new channel ssh error: SSH session not active\n",
      "2024-02-08 15:29:21,394| ERROR   | Could not establish connection from local ('127.0.0.1', 3793) to remote ('insight-beta-article-db2.chmaiagjipqy.ap-south-1.docdb.amazonaws.com', 27017) side of the tunnel: open new channel ssh error: SSH session not active\n",
      "2024-02-08 15:29:31,537| ERROR   | Could not establish connection from local ('127.0.0.1', 3793) to remote ('insight-beta-article-db2.chmaiagjipqy.ap-south-1.docdb.amazonaws.com', 27017) side of the tunnel: open new channel ssh error: SSH session not active\n",
      "2024-02-08 15:29:41,674| ERROR   | Could not establish connection from local ('127.0.0.1', 3793) to remote ('insight-beta-article-db2.chmaiagjipqy.ap-south-1.docdb.amazonaws.com', 27017) side of the tunnel: open new channel ssh error: SSH session not active\n",
      "2024-02-08 15:29:51,787| ERROR   | Could not establish connection from local ('127.0.0.1', 3793) to remote ('insight-beta-article-db2.chmaiagjipqy.ap-south-1.docdb.amazonaws.com', 27017) side of the tunnel: open new channel ssh error: SSH session not active\n",
      "2024-02-08 15:30:01,946| ERROR   | Could not establish connection from local ('127.0.0.1', 3793) to remote ('insight-beta-article-db2.chmaiagjipqy.ap-south-1.docdb.amazonaws.com', 27017) side of the tunnel: open new channel ssh error: SSH session not active\n",
      "2024-02-08 15:30:12,067| ERROR   | Could not establish connection from local ('127.0.0.1', 3793) to remote ('insight-beta-article-db2.chmaiagjipqy.ap-south-1.docdb.amazonaws.com', 27017) side of the tunnel: open new channel ssh error: SSH session not active\n",
      "2024-02-08 15:30:22,202| ERROR   | Could not establish connection from local ('127.0.0.1', 3793) to remote ('insight-beta-article-db2.chmaiagjipqy.ap-south-1.docdb.amazonaws.com', 27017) side of the tunnel: open new channel ssh error: SSH session not active\n",
      "2024-02-08 15:30:32,372| ERROR   | Could not establish connection from local ('127.0.0.1', 3793) to remote ('insight-beta-article-db2.chmaiagjipqy.ap-south-1.docdb.amazonaws.com', 27017) side of the tunnel: open new channel ssh error: SSH session not active\n",
      "2024-02-08 15:30:42,512| ERROR   | Could not establish connection from local ('127.0.0.1', 3793) to remote ('insight-beta-article-db2.chmaiagjipqy.ap-south-1.docdb.amazonaws.com', 27017) side of the tunnel: open new channel ssh error: SSH session not active\n",
      "2024-02-08 15:30:52,644| ERROR   | Could not establish connection from local ('127.0.0.1', 3793) to remote ('insight-beta-article-db2.chmaiagjipqy.ap-south-1.docdb.amazonaws.com', 27017) side of the tunnel: open new channel ssh error: SSH session not active\n",
      "2024-02-08 15:31:02,784| ERROR   | Could not establish connection from local ('127.0.0.1', 3793) to remote ('insight-beta-article-db2.chmaiagjipqy.ap-south-1.docdb.amazonaws.com', 27017) side of the tunnel: open new channel ssh error: SSH session not active\n",
      "2024-02-08 15:31:12,935| ERROR   | Could not establish connection from local ('127.0.0.1', 3793) to remote ('insight-beta-article-db2.chmaiagjipqy.ap-south-1.docdb.amazonaws.com', 27017) side of the tunnel: open new channel ssh error: SSH session not active\n",
      "2024-02-08 15:31:23,081| ERROR   | Could not establish connection from local ('127.0.0.1', 3793) to remote ('insight-beta-article-db2.chmaiagjipqy.ap-south-1.docdb.amazonaws.com', 27017) side of the tunnel: open new channel ssh error: SSH session not active\n",
      "2024-02-08 15:31:33,201| ERROR   | Could not establish connection from local ('127.0.0.1', 3793) to remote ('insight-beta-article-db2.chmaiagjipqy.ap-south-1.docdb.amazonaws.com', 27017) side of the tunnel: open new channel ssh error: SSH session not active\n",
      "2024-02-08 15:31:43,348| ERROR   | Could not establish connection from local ('127.0.0.1', 3793) to remote ('insight-beta-article-db2.chmaiagjipqy.ap-south-1.docdb.amazonaws.com', 27017) side of the tunnel: open new channel ssh error: SSH session not active\n",
      "2024-02-08 15:31:53,469| ERROR   | Could not establish connection from local ('127.0.0.1', 3793) to remote ('insight-beta-article-db2.chmaiagjipqy.ap-south-1.docdb.amazonaws.com', 27017) side of the tunnel: open new channel ssh error: SSH session not active\n",
      "2024-02-08 15:32:03,570| ERROR   | Could not establish connection from local ('127.0.0.1', 3793) to remote ('insight-beta-article-db2.chmaiagjipqy.ap-south-1.docdb.amazonaws.com', 27017) side of the tunnel: open new channel ssh error: SSH session not active\n",
      "2024-02-08 15:32:13,709| ERROR   | Could not establish connection from local ('127.0.0.1', 3793) to remote ('insight-beta-article-db2.chmaiagjipqy.ap-south-1.docdb.amazonaws.com', 27017) side of the tunnel: open new channel ssh error: SSH session not active\n",
      "2024-02-08 15:32:23,853| ERROR   | Could not establish connection from local ('127.0.0.1', 3793) to remote ('insight-beta-article-db2.chmaiagjipqy.ap-south-1.docdb.amazonaws.com', 27017) side of the tunnel: open new channel ssh error: SSH session not active\n",
      "2024-02-08 15:32:33,992| ERROR   | Could not establish connection from local ('127.0.0.1', 3793) to remote ('insight-beta-article-db2.chmaiagjipqy.ap-south-1.docdb.amazonaws.com', 27017) side of the tunnel: open new channel ssh error: SSH session not active\n",
      "2024-02-08 15:32:44,137| ERROR   | Could not establish connection from local ('127.0.0.1', 3793) to remote ('insight-beta-article-db2.chmaiagjipqy.ap-south-1.docdb.amazonaws.com', 27017) side of the tunnel: open new channel ssh error: SSH session not active\n",
      "2024-02-08 15:32:54,256| ERROR   | Could not establish connection from local ('127.0.0.1', 3793) to remote ('insight-beta-article-db2.chmaiagjipqy.ap-south-1.docdb.amazonaws.com', 27017) side of the tunnel: open new channel ssh error: SSH session not active\n",
      "2024-02-08 15:33:04,406| ERROR   | Could not establish connection from local ('127.0.0.1', 3793) to remote ('insight-beta-article-db2.chmaiagjipqy.ap-south-1.docdb.amazonaws.com', 27017) side of the tunnel: open new channel ssh error: SSH session not active\n",
      "2024-02-08 15:33:14,558| ERROR   | Could not establish connection from local ('127.0.0.1', 3793) to remote ('insight-beta-article-db2.chmaiagjipqy.ap-south-1.docdb.amazonaws.com', 27017) side of the tunnel: open new channel ssh error: SSH session not active\n",
      "2024-02-08 15:33:24,685| ERROR   | Could not establish connection from local ('127.0.0.1', 3793) to remote ('insight-beta-article-db2.chmaiagjipqy.ap-south-1.docdb.amazonaws.com', 27017) side of the tunnel: open new channel ssh error: SSH session not active\n",
      "2024-02-08 15:33:34,823| ERROR   | Could not establish connection from local ('127.0.0.1', 3793) to remote ('insight-beta-article-db2.chmaiagjipqy.ap-south-1.docdb.amazonaws.com', 27017) side of the tunnel: open new channel ssh error: SSH session not active\n",
      "2024-02-08 15:33:44,955| ERROR   | Could not establish connection from local ('127.0.0.1', 3793) to remote ('insight-beta-article-db2.chmaiagjipqy.ap-south-1.docdb.amazonaws.com', 27017) side of the tunnel: open new channel ssh error: SSH session not active\n",
      "2024-02-08 15:33:55,110| ERROR   | Could not establish connection from local ('127.0.0.1', 3793) to remote ('insight-beta-article-db2.chmaiagjipqy.ap-south-1.docdb.amazonaws.com', 27017) side of the tunnel: open new channel ssh error: SSH session not active\n",
      "2024-02-08 15:34:05,235| ERROR   | Could not establish connection from local ('127.0.0.1', 3793) to remote ('insight-beta-article-db2.chmaiagjipqy.ap-south-1.docdb.amazonaws.com', 27017) side of the tunnel: open new channel ssh error: SSH session not active\n",
      "2024-02-08 15:34:15,362| ERROR   | Could not establish connection from local ('127.0.0.1', 3793) to remote ('insight-beta-article-db2.chmaiagjipqy.ap-south-1.docdb.amazonaws.com', 27017) side of the tunnel: open new channel ssh error: SSH session not active\n",
      "2024-02-08 15:34:25,514| ERROR   | Could not establish connection from local ('127.0.0.1', 3793) to remote ('insight-beta-article-db2.chmaiagjipqy.ap-south-1.docdb.amazonaws.com', 27017) side of the tunnel: open new channel ssh error: SSH session not active\n",
      "2024-02-08 15:34:35,654| ERROR   | Could not establish connection from local ('127.0.0.1', 3793) to remote ('insight-beta-article-db2.chmaiagjipqy.ap-south-1.docdb.amazonaws.com', 27017) side of the tunnel: open new channel ssh error: SSH session not active\n",
      "2024-02-08 15:34:45,767| ERROR   | Could not establish connection from local ('127.0.0.1', 3793) to remote ('insight-beta-article-db2.chmaiagjipqy.ap-south-1.docdb.amazonaws.com', 27017) side of the tunnel: open new channel ssh error: SSH session not active\n",
      "2024-02-08 15:34:55,917| ERROR   | Could not establish connection from local ('127.0.0.1', 3793) to remote ('insight-beta-article-db2.chmaiagjipqy.ap-south-1.docdb.amazonaws.com', 27017) side of the tunnel: open new channel ssh error: SSH session not active\n",
      "2024-02-08 15:35:06,048| ERROR   | Could not establish connection from local ('127.0.0.1', 3793) to remote ('insight-beta-article-db2.chmaiagjipqy.ap-south-1.docdb.amazonaws.com', 27017) side of the tunnel: open new channel ssh error: SSH session not active\n",
      "2024-02-08 15:35:16,165| ERROR   | Could not establish connection from local ('127.0.0.1', 3793) to remote ('insight-beta-article-db2.chmaiagjipqy.ap-south-1.docdb.amazonaws.com', 27017) side of the tunnel: open new channel ssh error: SSH session not active\n",
      "2024-02-08 15:35:26,296| ERROR   | Could not establish connection from local ('127.0.0.1', 3793) to remote ('insight-beta-article-db2.chmaiagjipqy.ap-south-1.docdb.amazonaws.com', 27017) side of the tunnel: open new channel ssh error: SSH session not active\n",
      "2024-02-08 15:35:36,410| ERROR   | Could not establish connection from local ('127.0.0.1', 3793) to remote ('insight-beta-article-db2.chmaiagjipqy.ap-south-1.docdb.amazonaws.com', 27017) side of the tunnel: open new channel ssh error: SSH session not active\n",
      "2024-02-08 15:35:46,539| ERROR   | Could not establish connection from local ('127.0.0.1', 3793) to remote ('insight-beta-article-db2.chmaiagjipqy.ap-south-1.docdb.amazonaws.com', 27017) side of the tunnel: open new channel ssh error: SSH session not active\n",
      "2024-02-08 15:35:56,686| ERROR   | Could not establish connection from local ('127.0.0.1', 3793) to remote ('insight-beta-article-db2.chmaiagjipqy.ap-south-1.docdb.amazonaws.com', 27017) side of the tunnel: open new channel ssh error: SSH session not active\n",
      "2024-02-08 15:36:06,825| ERROR   | Could not establish connection from local ('127.0.0.1', 3793) to remote ('insight-beta-article-db2.chmaiagjipqy.ap-south-1.docdb.amazonaws.com', 27017) side of the tunnel: open new channel ssh error: SSH session not active\n",
      "2024-02-08 15:36:16,957| ERROR   | Could not establish connection from local ('127.0.0.1', 3793) to remote ('insight-beta-article-db2.chmaiagjipqy.ap-south-1.docdb.amazonaws.com', 27017) side of the tunnel: open new channel ssh error: SSH session not active\n",
      "2024-02-08 15:36:27,092| ERROR   | Could not establish connection from local ('127.0.0.1', 3793) to remote ('insight-beta-article-db2.chmaiagjipqy.ap-south-1.docdb.amazonaws.com', 27017) side of the tunnel: open new channel ssh error: SSH session not active\n",
      "2024-02-08 15:36:37,189| ERROR   | Could not establish connection from local ('127.0.0.1', 3793) to remote ('insight-beta-article-db2.chmaiagjipqy.ap-south-1.docdb.amazonaws.com', 27017) side of the tunnel: open new channel ssh error: SSH session not active\n",
      "2024-02-08 15:36:47,337| ERROR   | Could not establish connection from local ('127.0.0.1', 3793) to remote ('insight-beta-article-db2.chmaiagjipqy.ap-south-1.docdb.amazonaws.com', 27017) side of the tunnel: open new channel ssh error: SSH session not active\n",
      "2024-02-08 15:36:57,483| ERROR   | Could not establish connection from local ('127.0.0.1', 3793) to remote ('insight-beta-article-db2.chmaiagjipqy.ap-south-1.docdb.amazonaws.com', 27017) side of the tunnel: open new channel ssh error: SSH session not active\n",
      "2024-02-08 15:37:07,625| ERROR   | Could not establish connection from local ('127.0.0.1', 3793) to remote ('insight-beta-article-db2.chmaiagjipqy.ap-south-1.docdb.amazonaws.com', 27017) side of the tunnel: open new channel ssh error: SSH session not active\n",
      "2024-02-08 15:37:17,743| ERROR   | Could not establish connection from local ('127.0.0.1', 3793) to remote ('insight-beta-article-db2.chmaiagjipqy.ap-south-1.docdb.amazonaws.com', 27017) side of the tunnel: open new channel ssh error: SSH session not active\n",
      "2024-02-08 15:37:27,878| ERROR   | Could not establish connection from local ('127.0.0.1', 3793) to remote ('insight-beta-article-db2.chmaiagjipqy.ap-south-1.docdb.amazonaws.com', 27017) side of the tunnel: open new channel ssh error: SSH session not active\n",
      "2024-02-08 15:37:38,035| ERROR   | Could not establish connection from local ('127.0.0.1', 3793) to remote ('insight-beta-article-db2.chmaiagjipqy.ap-south-1.docdb.amazonaws.com', 27017) side of the tunnel: open new channel ssh error: SSH session not active\n",
      "2024-02-08 15:37:48,169| ERROR   | Could not establish connection from local ('127.0.0.1', 3793) to remote ('insight-beta-article-db2.chmaiagjipqy.ap-south-1.docdb.amazonaws.com', 27017) side of the tunnel: open new channel ssh error: SSH session not active\n",
      "2024-02-08 15:37:58,301| ERROR   | Could not establish connection from local ('127.0.0.1', 3793) to remote ('insight-beta-article-db2.chmaiagjipqy.ap-south-1.docdb.amazonaws.com', 27017) side of the tunnel: open new channel ssh error: SSH session not active\n",
      "2024-02-08 15:38:08,445| ERROR   | Could not establish connection from local ('127.0.0.1', 3793) to remote ('insight-beta-article-db2.chmaiagjipqy.ap-south-1.docdb.amazonaws.com', 27017) side of the tunnel: open new channel ssh error: SSH session not active\n",
      "2024-02-08 15:38:18,568| ERROR   | Could not establish connection from local ('127.0.0.1', 3793) to remote ('insight-beta-article-db2.chmaiagjipqy.ap-south-1.docdb.amazonaws.com', 27017) side of the tunnel: open new channel ssh error: SSH session not active\n",
      "2024-02-08 15:38:28,718| ERROR   | Could not establish connection from local ('127.0.0.1', 3793) to remote ('insight-beta-article-db2.chmaiagjipqy.ap-south-1.docdb.amazonaws.com', 27017) side of the tunnel: open new channel ssh error: SSH session not active\n",
      "2024-02-08 15:38:38,832| ERROR   | Could not establish connection from local ('127.0.0.1', 3793) to remote ('insight-beta-article-db2.chmaiagjipqy.ap-south-1.docdb.amazonaws.com', 27017) side of the tunnel: open new channel ssh error: SSH session not active\n",
      "2024-02-08 15:38:48,957| ERROR   | Could not establish connection from local ('127.0.0.1', 3793) to remote ('insight-beta-article-db2.chmaiagjipqy.ap-south-1.docdb.amazonaws.com', 27017) side of the tunnel: open new channel ssh error: SSH session not active\n",
      "2024-02-08 15:38:59,106| ERROR   | Could not establish connection from local ('127.0.0.1', 3793) to remote ('insight-beta-article-db2.chmaiagjipqy.ap-south-1.docdb.amazonaws.com', 27017) side of the tunnel: open new channel ssh error: SSH session not active\n",
      "2024-02-08 15:39:09,252| ERROR   | Could not establish connection from local ('127.0.0.1', 3793) to remote ('insight-beta-article-db2.chmaiagjipqy.ap-south-1.docdb.amazonaws.com', 27017) side of the tunnel: open new channel ssh error: SSH session not active\n",
      "2024-02-08 15:39:19,390| ERROR   | Could not establish connection from local ('127.0.0.1', 3793) to remote ('insight-beta-article-db2.chmaiagjipqy.ap-south-1.docdb.amazonaws.com', 27017) side of the tunnel: open new channel ssh error: SSH session not active\n",
      "2024-02-08 15:39:29,544| ERROR   | Could not establish connection from local ('127.0.0.1', 3793) to remote ('insight-beta-article-db2.chmaiagjipqy.ap-south-1.docdb.amazonaws.com', 27017) side of the tunnel: open new channel ssh error: SSH session not active\n",
      "2024-02-08 15:39:39,693| ERROR   | Could not establish connection from local ('127.0.0.1', 3793) to remote ('insight-beta-article-db2.chmaiagjipqy.ap-south-1.docdb.amazonaws.com', 27017) side of the tunnel: open new channel ssh error: SSH session not active\n",
      "2024-02-08 15:39:49,832| ERROR   | Could not establish connection from local ('127.0.0.1', 3793) to remote ('insight-beta-article-db2.chmaiagjipqy.ap-south-1.docdb.amazonaws.com', 27017) side of the tunnel: open new channel ssh error: SSH session not active\n",
      "2024-02-08 15:39:59,955| ERROR   | Could not establish connection from local ('127.0.0.1', 3793) to remote ('insight-beta-article-db2.chmaiagjipqy.ap-south-1.docdb.amazonaws.com', 27017) side of the tunnel: open new channel ssh error: SSH session not active\n",
      "2024-02-08 15:40:10,051| ERROR   | Could not establish connection from local ('127.0.0.1', 3793) to remote ('insight-beta-article-db2.chmaiagjipqy.ap-south-1.docdb.amazonaws.com', 27017) side of the tunnel: open new channel ssh error: SSH session not active\n",
      "2024-02-08 15:40:20,171| ERROR   | Could not establish connection from local ('127.0.0.1', 3793) to remote ('insight-beta-article-db2.chmaiagjipqy.ap-south-1.docdb.amazonaws.com', 27017) side of the tunnel: open new channel ssh error: SSH session not active\n",
      "2024-02-08 15:40:30,282| ERROR   | Could not establish connection from local ('127.0.0.1', 3793) to remote ('insight-beta-article-db2.chmaiagjipqy.ap-south-1.docdb.amazonaws.com', 27017) side of the tunnel: open new channel ssh error: SSH session not active\n",
      "2024-02-08 15:40:40,413| ERROR   | Could not establish connection from local ('127.0.0.1', 3793) to remote ('insight-beta-article-db2.chmaiagjipqy.ap-south-1.docdb.amazonaws.com', 27017) side of the tunnel: open new channel ssh error: SSH session not active\n",
      "2024-02-08 15:40:50,540| ERROR   | Could not establish connection from local ('127.0.0.1', 3793) to remote ('insight-beta-article-db2.chmaiagjipqy.ap-south-1.docdb.amazonaws.com', 27017) side of the tunnel: open new channel ssh error: SSH session not active\n",
      "2024-02-08 15:41:00,682| ERROR   | Could not establish connection from local ('127.0.0.1', 3793) to remote ('insight-beta-article-db2.chmaiagjipqy.ap-south-1.docdb.amazonaws.com', 27017) side of the tunnel: open new channel ssh error: SSH session not active\n",
      "2024-02-08 15:41:10,796| ERROR   | Could not establish connection from local ('127.0.0.1', 3793) to remote ('insight-beta-article-db2.chmaiagjipqy.ap-south-1.docdb.amazonaws.com', 27017) side of the tunnel: open new channel ssh error: SSH session not active\n",
      "2024-02-08 15:41:20,916| ERROR   | Could not establish connection from local ('127.0.0.1', 3793) to remote ('insight-beta-article-db2.chmaiagjipqy.ap-south-1.docdb.amazonaws.com', 27017) side of the tunnel: open new channel ssh error: SSH session not active\n",
      "2024-02-08 15:41:31,070| ERROR   | Could not establish connection from local ('127.0.0.1', 3793) to remote ('insight-beta-article-db2.chmaiagjipqy.ap-south-1.docdb.amazonaws.com', 27017) side of the tunnel: open new channel ssh error: SSH session not active\n",
      "2024-02-08 15:41:41,193| ERROR   | Could not establish connection from local ('127.0.0.1', 3793) to remote ('insight-beta-article-db2.chmaiagjipqy.ap-south-1.docdb.amazonaws.com', 27017) side of the tunnel: open new channel ssh error: SSH session not active\n",
      "2024-02-08 15:41:51,317| ERROR   | Could not establish connection from local ('127.0.0.1', 3793) to remote ('insight-beta-article-db2.chmaiagjipqy.ap-south-1.docdb.amazonaws.com', 27017) side of the tunnel: open new channel ssh error: SSH session not active\n",
      "2024-02-08 15:42:01,471| ERROR   | Could not establish connection from local ('127.0.0.1', 3793) to remote ('insight-beta-article-db2.chmaiagjipqy.ap-south-1.docdb.amazonaws.com', 27017) side of the tunnel: open new channel ssh error: SSH session not active\n",
      "2024-02-08 15:42:11,605| ERROR   | Could not establish connection from local ('127.0.0.1', 3793) to remote ('insight-beta-article-db2.chmaiagjipqy.ap-south-1.docdb.amazonaws.com', 27017) side of the tunnel: open new channel ssh error: SSH session not active\n",
      "2024-02-08 15:42:21,728| ERROR   | Could not establish connection from local ('127.0.0.1', 3793) to remote ('insight-beta-article-db2.chmaiagjipqy.ap-south-1.docdb.amazonaws.com', 27017) side of the tunnel: open new channel ssh error: SSH session not active\n",
      "2024-02-08 15:42:31,872| ERROR   | Could not establish connection from local ('127.0.0.1', 3793) to remote ('insight-beta-article-db2.chmaiagjipqy.ap-south-1.docdb.amazonaws.com', 27017) side of the tunnel: open new channel ssh error: SSH session not active\n",
      "2024-02-08 15:42:42,023| ERROR   | Could not establish connection from local ('127.0.0.1', 3793) to remote ('insight-beta-article-db2.chmaiagjipqy.ap-south-1.docdb.amazonaws.com', 27017) side of the tunnel: open new channel ssh error: SSH session not active\n",
      "2024-02-08 15:42:52,145| ERROR   | Could not establish connection from local ('127.0.0.1', 3793) to remote ('insight-beta-article-db2.chmaiagjipqy.ap-south-1.docdb.amazonaws.com', 27017) side of the tunnel: open new channel ssh error: SSH session not active\n",
      "2024-02-08 15:43:02,280| ERROR   | Could not establish connection from local ('127.0.0.1', 3793) to remote ('insight-beta-article-db2.chmaiagjipqy.ap-south-1.docdb.amazonaws.com', 27017) side of the tunnel: open new channel ssh error: SSH session not active\n",
      "2024-02-08 15:43:12,401| ERROR   | Could not establish connection from local ('127.0.0.1', 3793) to remote ('insight-beta-article-db2.chmaiagjipqy.ap-south-1.docdb.amazonaws.com', 27017) side of the tunnel: open new channel ssh error: SSH session not active\n",
      "2024-02-08 15:43:22,557| ERROR   | Could not establish connection from local ('127.0.0.1', 3793) to remote ('insight-beta-article-db2.chmaiagjipqy.ap-south-1.docdb.amazonaws.com', 27017) side of the tunnel: open new channel ssh error: SSH session not active\n",
      "2024-02-08 15:43:32,689| ERROR   | Could not establish connection from local ('127.0.0.1', 3793) to remote ('insight-beta-article-db2.chmaiagjipqy.ap-south-1.docdb.amazonaws.com', 27017) side of the tunnel: open new channel ssh error: SSH session not active\n",
      "2024-02-08 15:43:42,812| ERROR   | Could not establish connection from local ('127.0.0.1', 3793) to remote ('insight-beta-article-db2.chmaiagjipqy.ap-south-1.docdb.amazonaws.com', 27017) side of the tunnel: open new channel ssh error: SSH session not active\n",
      "2024-02-08 15:43:52,958| ERROR   | Could not establish connection from local ('127.0.0.1', 3793) to remote ('insight-beta-article-db2.chmaiagjipqy.ap-south-1.docdb.amazonaws.com', 27017) side of the tunnel: open new channel ssh error: SSH session not active\n",
      "2024-02-08 15:44:03,125| ERROR   | Could not establish connection from local ('127.0.0.1', 3793) to remote ('insight-beta-article-db2.chmaiagjipqy.ap-south-1.docdb.amazonaws.com', 27017) side of the tunnel: open new channel ssh error: SSH session not active\n",
      "2024-02-08 15:44:13,265| ERROR   | Could not establish connection from local ('127.0.0.1', 3793) to remote ('insight-beta-article-db2.chmaiagjipqy.ap-south-1.docdb.amazonaws.com', 27017) side of the tunnel: open new channel ssh error: SSH session not active\n",
      "2024-02-08 15:44:23,400| ERROR   | Could not establish connection from local ('127.0.0.1', 3793) to remote ('insight-beta-article-db2.chmaiagjipqy.ap-south-1.docdb.amazonaws.com', 27017) side of the tunnel: open new channel ssh error: SSH session not active\n",
      "2024-02-08 15:44:33,550| ERROR   | Could not establish connection from local ('127.0.0.1', 3793) to remote ('insight-beta-article-db2.chmaiagjipqy.ap-south-1.docdb.amazonaws.com', 27017) side of the tunnel: open new channel ssh error: SSH session not active\n",
      "2024-02-08 15:44:43,682| ERROR   | Could not establish connection from local ('127.0.0.1', 3793) to remote ('insight-beta-article-db2.chmaiagjipqy.ap-south-1.docdb.amazonaws.com', 27017) side of the tunnel: open new channel ssh error: SSH session not active\n",
      "2024-02-08 15:44:53,824| ERROR   | Could not establish connection from local ('127.0.0.1', 3793) to remote ('insight-beta-article-db2.chmaiagjipqy.ap-south-1.docdb.amazonaws.com', 27017) side of the tunnel: open new channel ssh error: SSH session not active\n",
      "2024-02-08 15:45:03,941| ERROR   | Could not establish connection from local ('127.0.0.1', 3793) to remote ('insight-beta-article-db2.chmaiagjipqy.ap-south-1.docdb.amazonaws.com', 27017) side of the tunnel: open new channel ssh error: SSH session not active\n",
      "2024-02-08 15:45:14,106| ERROR   | Could not establish connection from local ('127.0.0.1', 3793) to remote ('insight-beta-article-db2.chmaiagjipqy.ap-south-1.docdb.amazonaws.com', 27017) side of the tunnel: open new channel ssh error: SSH session not active\n",
      "2024-02-08 15:45:24,239| ERROR   | Could not establish connection from local ('127.0.0.1', 3793) to remote ('insight-beta-article-db2.chmaiagjipqy.ap-south-1.docdb.amazonaws.com', 27017) side of the tunnel: open new channel ssh error: SSH session not active\n",
      "2024-02-08 15:45:34,402| ERROR   | Could not establish connection from local ('127.0.0.1', 3793) to remote ('insight-beta-article-db2.chmaiagjipqy.ap-south-1.docdb.amazonaws.com', 27017) side of the tunnel: open new channel ssh error: SSH session not active\n",
      "2024-02-08 15:45:44,533| ERROR   | Could not establish connection from local ('127.0.0.1', 3793) to remote ('insight-beta-article-db2.chmaiagjipqy.ap-south-1.docdb.amazonaws.com', 27017) side of the tunnel: open new channel ssh error: SSH session not active\n",
      "2024-02-08 15:45:54,665| ERROR   | Could not establish connection from local ('127.0.0.1', 3793) to remote ('insight-beta-article-db2.chmaiagjipqy.ap-south-1.docdb.amazonaws.com', 27017) side of the tunnel: open new channel ssh error: SSH session not active\n",
      "2024-02-08 15:46:04,815| ERROR   | Could not establish connection from local ('127.0.0.1', 3793) to remote ('insight-beta-article-db2.chmaiagjipqy.ap-south-1.docdb.amazonaws.com', 27017) side of the tunnel: open new channel ssh error: SSH session not active\n",
      "2024-02-08 15:46:14,932| ERROR   | Could not establish connection from local ('127.0.0.1', 3793) to remote ('insight-beta-article-db2.chmaiagjipqy.ap-south-1.docdb.amazonaws.com', 27017) side of the tunnel: open new channel ssh error: SSH session not active\n",
      "2024-02-08 15:46:25,078| ERROR   | Could not establish connection from local ('127.0.0.1', 3793) to remote ('insight-beta-article-db2.chmaiagjipqy.ap-south-1.docdb.amazonaws.com', 27017) side of the tunnel: open new channel ssh error: SSH session not active\n",
      "2024-02-08 15:46:35,236| ERROR   | Could not establish connection from local ('127.0.0.1', 3793) to remote ('insight-beta-article-db2.chmaiagjipqy.ap-south-1.docdb.amazonaws.com', 27017) side of the tunnel: open new channel ssh error: SSH session not active\n",
      "2024-02-08 15:46:45,361| ERROR   | Could not establish connection from local ('127.0.0.1', 3793) to remote ('insight-beta-article-db2.chmaiagjipqy.ap-south-1.docdb.amazonaws.com', 27017) side of the tunnel: open new channel ssh error: SSH session not active\n",
      "2024-02-08 15:46:55,506| ERROR   | Could not establish connection from local ('127.0.0.1', 3793) to remote ('insight-beta-article-db2.chmaiagjipqy.ap-south-1.docdb.amazonaws.com', 27017) side of the tunnel: open new channel ssh error: SSH session not active\n",
      "2024-02-08 15:47:05,675| ERROR   | Could not establish connection from local ('127.0.0.1', 3793) to remote ('insight-beta-article-db2.chmaiagjipqy.ap-south-1.docdb.amazonaws.com', 27017) side of the tunnel: open new channel ssh error: SSH session not active\n",
      "2024-02-08 15:47:15,797| ERROR   | Could not establish connection from local ('127.0.0.1', 3793) to remote ('insight-beta-article-db2.chmaiagjipqy.ap-south-1.docdb.amazonaws.com', 27017) side of the tunnel: open new channel ssh error: SSH session not active\n",
      "2024-02-08 15:47:25,928| ERROR   | Could not establish connection from local ('127.0.0.1', 3793) to remote ('insight-beta-article-db2.chmaiagjipqy.ap-south-1.docdb.amazonaws.com', 27017) side of the tunnel: open new channel ssh error: SSH session not active\n",
      "2024-02-08 15:47:36,065| ERROR   | Could not establish connection from local ('127.0.0.1', 3793) to remote ('insight-beta-article-db2.chmaiagjipqy.ap-south-1.docdb.amazonaws.com', 27017) side of the tunnel: open new channel ssh error: SSH session not active\n",
      "2024-02-08 15:47:46,234| ERROR   | Could not establish connection from local ('127.0.0.1', 3793) to remote ('insight-beta-article-db2.chmaiagjipqy.ap-south-1.docdb.amazonaws.com', 27017) side of the tunnel: open new channel ssh error: SSH session not active\n",
      "2024-02-08 15:47:56,369| ERROR   | Could not establish connection from local ('127.0.0.1', 3793) to remote ('insight-beta-article-db2.chmaiagjipqy.ap-south-1.docdb.amazonaws.com', 27017) side of the tunnel: open new channel ssh error: SSH session not active\n",
      "2024-02-08 15:48:06,512| ERROR   | Could not establish connection from local ('127.0.0.1', 3793) to remote ('insight-beta-article-db2.chmaiagjipqy.ap-south-1.docdb.amazonaws.com', 27017) side of the tunnel: open new channel ssh error: SSH session not active\n",
      "2024-02-08 15:48:16,657| ERROR   | Could not establish connection from local ('127.0.0.1', 3793) to remote ('insight-beta-article-db2.chmaiagjipqy.ap-south-1.docdb.amazonaws.com', 27017) side of the tunnel: open new channel ssh error: SSH session not active\n",
      "2024-02-08 15:48:26,789| ERROR   | Could not establish connection from local ('127.0.0.1', 3793) to remote ('insight-beta-article-db2.chmaiagjipqy.ap-south-1.docdb.amazonaws.com', 27017) side of the tunnel: open new channel ssh error: SSH session not active\n",
      "2024-02-08 15:48:36,935| ERROR   | Could not establish connection from local ('127.0.0.1', 3793) to remote ('insight-beta-article-db2.chmaiagjipqy.ap-south-1.docdb.amazonaws.com', 27017) side of the tunnel: open new channel ssh error: SSH session not active\n",
      "2024-02-08 15:48:47,080| ERROR   | Could not establish connection from local ('127.0.0.1', 3793) to remote ('insight-beta-article-db2.chmaiagjipqy.ap-south-1.docdb.amazonaws.com', 27017) side of the tunnel: open new channel ssh error: SSH session not active\n",
      "2024-02-08 15:48:57,233| ERROR   | Could not establish connection from local ('127.0.0.1', 3793) to remote ('insight-beta-article-db2.chmaiagjipqy.ap-south-1.docdb.amazonaws.com', 27017) side of the tunnel: open new channel ssh error: SSH session not active\n",
      "2024-02-08 15:49:07,359| ERROR   | Could not establish connection from local ('127.0.0.1', 3793) to remote ('insight-beta-article-db2.chmaiagjipqy.ap-south-1.docdb.amazonaws.com', 27017) side of the tunnel: open new channel ssh error: SSH session not active\n",
      "2024-02-08 15:49:17,493| ERROR   | Could not establish connection from local ('127.0.0.1', 3793) to remote ('insight-beta-article-db2.chmaiagjipqy.ap-south-1.docdb.amazonaws.com', 27017) side of the tunnel: open new channel ssh error: SSH session not active\n",
      "2024-02-08 15:49:27,624| ERROR   | Could not establish connection from local ('127.0.0.1', 3793) to remote ('insight-beta-article-db2.chmaiagjipqy.ap-south-1.docdb.amazonaws.com', 27017) side of the tunnel: open new channel ssh error: SSH session not active\n",
      "2024-02-08 15:49:37,747| ERROR   | Could not establish connection from local ('127.0.0.1', 3793) to remote ('insight-beta-article-db2.chmaiagjipqy.ap-south-1.docdb.amazonaws.com', 27017) side of the tunnel: open new channel ssh error: SSH session not active\n",
      "2024-02-08 15:49:47,837| ERROR   | Could not establish connection from local ('127.0.0.1', 3793) to remote ('insight-beta-article-db2.chmaiagjipqy.ap-south-1.docdb.amazonaws.com', 27017) side of the tunnel: open new channel ssh error: SSH session not active\n",
      "2024-02-08 15:49:57,977| ERROR   | Could not establish connection from local ('127.0.0.1', 3793) to remote ('insight-beta-article-db2.chmaiagjipqy.ap-south-1.docdb.amazonaws.com', 27017) side of the tunnel: open new channel ssh error: SSH session not active\n",
      "2024-02-08 15:50:08,120| ERROR   | Could not establish connection from local ('127.0.0.1', 3793) to remote ('insight-beta-article-db2.chmaiagjipqy.ap-south-1.docdb.amazonaws.com', 27017) side of the tunnel: open new channel ssh error: SSH session not active\n",
      "2024-02-08 15:50:18,246| ERROR   | Could not establish connection from local ('127.0.0.1', 3793) to remote ('insight-beta-article-db2.chmaiagjipqy.ap-south-1.docdb.amazonaws.com', 27017) side of the tunnel: open new channel ssh error: SSH session not active\n",
      "2024-02-08 15:50:28,387| ERROR   | Could not establish connection from local ('127.0.0.1', 3793) to remote ('insight-beta-article-db2.chmaiagjipqy.ap-south-1.docdb.amazonaws.com', 27017) side of the tunnel: open new channel ssh error: SSH session not active\n",
      "2024-02-08 15:50:38,513| ERROR   | Could not establish connection from local ('127.0.0.1', 3793) to remote ('insight-beta-article-db2.chmaiagjipqy.ap-south-1.docdb.amazonaws.com', 27017) side of the tunnel: open new channel ssh error: SSH session not active\n",
      "2024-02-08 15:50:48,647| ERROR   | Could not establish connection from local ('127.0.0.1', 3793) to remote ('insight-beta-article-db2.chmaiagjipqy.ap-south-1.docdb.amazonaws.com', 27017) side of the tunnel: open new channel ssh error: SSH session not active\n",
      "2024-02-08 15:50:58,784| ERROR   | Could not establish connection from local ('127.0.0.1', 3793) to remote ('insight-beta-article-db2.chmaiagjipqy.ap-south-1.docdb.amazonaws.com', 27017) side of the tunnel: open new channel ssh error: SSH session not active\n",
      "2024-02-08 15:51:08,937| ERROR   | Could not establish connection from local ('127.0.0.1', 3793) to remote ('insight-beta-article-db2.chmaiagjipqy.ap-south-1.docdb.amazonaws.com', 27017) side of the tunnel: open new channel ssh error: SSH session not active\n",
      "2024-02-08 15:51:19,074| ERROR   | Could not establish connection from local ('127.0.0.1', 3793) to remote ('insight-beta-article-db2.chmaiagjipqy.ap-south-1.docdb.amazonaws.com', 27017) side of the tunnel: open new channel ssh error: SSH session not active\n",
      "2024-02-08 15:51:29,203| ERROR   | Could not establish connection from local ('127.0.0.1', 3793) to remote ('insight-beta-article-db2.chmaiagjipqy.ap-south-1.docdb.amazonaws.com', 27017) side of the tunnel: open new channel ssh error: SSH session not active\n",
      "2024-02-08 15:51:39,331| ERROR   | Could not establish connection from local ('127.0.0.1', 3793) to remote ('insight-beta-article-db2.chmaiagjipqy.ap-south-1.docdb.amazonaws.com', 27017) side of the tunnel: open new channel ssh error: SSH session not active\n",
      "2024-02-08 15:51:49,474| ERROR   | Could not establish connection from local ('127.0.0.1', 3793) to remote ('insight-beta-article-db2.chmaiagjipqy.ap-south-1.docdb.amazonaws.com', 27017) side of the tunnel: open new channel ssh error: SSH session not active\n",
      "2024-02-08 15:51:59,629| ERROR   | Could not establish connection from local ('127.0.0.1', 3793) to remote ('insight-beta-article-db2.chmaiagjipqy.ap-south-1.docdb.amazonaws.com', 27017) side of the tunnel: open new channel ssh error: SSH session not active\n",
      "2024-02-08 15:52:09,769| ERROR   | Could not establish connection from local ('127.0.0.1', 3793) to remote ('insight-beta-article-db2.chmaiagjipqy.ap-south-1.docdb.amazonaws.com', 27017) side of the tunnel: open new channel ssh error: SSH session not active\n",
      "2024-02-08 15:52:19,939| ERROR   | Could not establish connection from local ('127.0.0.1', 3793) to remote ('insight-beta-article-db2.chmaiagjipqy.ap-south-1.docdb.amazonaws.com', 27017) side of the tunnel: open new channel ssh error: SSH session not active\n",
      "2024-02-08 15:52:30,092| ERROR   | Could not establish connection from local ('127.0.0.1', 3793) to remote ('insight-beta-article-db2.chmaiagjipqy.ap-south-1.docdb.amazonaws.com', 27017) side of the tunnel: open new channel ssh error: SSH session not active\n",
      "2024-02-08 15:52:40,239| ERROR   | Could not establish connection from local ('127.0.0.1', 3793) to remote ('insight-beta-article-db2.chmaiagjipqy.ap-south-1.docdb.amazonaws.com', 27017) side of the tunnel: open new channel ssh error: SSH session not active\n",
      "2024-02-08 15:52:50,385| ERROR   | Could not establish connection from local ('127.0.0.1', 3793) to remote ('insight-beta-article-db2.chmaiagjipqy.ap-south-1.docdb.amazonaws.com', 27017) side of the tunnel: open new channel ssh error: SSH session not active\n",
      "2024-02-08 15:53:00,520| ERROR   | Could not establish connection from local ('127.0.0.1', 3793) to remote ('insight-beta-article-db2.chmaiagjipqy.ap-south-1.docdb.amazonaws.com', 27017) side of the tunnel: open new channel ssh error: SSH session not active\n",
      "2024-02-08 15:53:10,654| ERROR   | Could not establish connection from local ('127.0.0.1', 3793) to remote ('insight-beta-article-db2.chmaiagjipqy.ap-south-1.docdb.amazonaws.com', 27017) side of the tunnel: open new channel ssh error: SSH session not active\n",
      "2024-02-08 15:53:20,778| ERROR   | Could not establish connection from local ('127.0.0.1', 3793) to remote ('insight-beta-article-db2.chmaiagjipqy.ap-south-1.docdb.amazonaws.com', 27017) side of the tunnel: open new channel ssh error: SSH session not active\n",
      "2024-02-08 15:53:30,909| ERROR   | Could not establish connection from local ('127.0.0.1', 3793) to remote ('insight-beta-article-db2.chmaiagjipqy.ap-south-1.docdb.amazonaws.com', 27017) side of the tunnel: open new channel ssh error: SSH session not active\n",
      "2024-02-08 15:53:41,064| ERROR   | Could not establish connection from local ('127.0.0.1', 3793) to remote ('insight-beta-article-db2.chmaiagjipqy.ap-south-1.docdb.amazonaws.com', 27017) side of the tunnel: open new channel ssh error: SSH session not active\n",
      "2024-02-08 15:53:51,201| ERROR   | Could not establish connection from local ('127.0.0.1', 3793) to remote ('insight-beta-article-db2.chmaiagjipqy.ap-south-1.docdb.amazonaws.com', 27017) side of the tunnel: open new channel ssh error: SSH session not active\n",
      "2024-02-08 15:54:01,357| ERROR   | Could not establish connection from local ('127.0.0.1', 3793) to remote ('insight-beta-article-db2.chmaiagjipqy.ap-south-1.docdb.amazonaws.com', 27017) side of the tunnel: open new channel ssh error: SSH session not active\n",
      "2024-02-08 15:54:11,489| ERROR   | Could not establish connection from local ('127.0.0.1', 3793) to remote ('insight-beta-article-db2.chmaiagjipqy.ap-south-1.docdb.amazonaws.com', 27017) side of the tunnel: open new channel ssh error: SSH session not active\n",
      "2024-02-08 15:54:21,637| ERROR   | Could not establish connection from local ('127.0.0.1', 3793) to remote ('insight-beta-article-db2.chmaiagjipqy.ap-south-1.docdb.amazonaws.com', 27017) side of the tunnel: open new channel ssh error: SSH session not active\n",
      "2024-02-08 15:54:31,803| ERROR   | Could not establish connection from local ('127.0.0.1', 3793) to remote ('insight-beta-article-db2.chmaiagjipqy.ap-south-1.docdb.amazonaws.com', 27017) side of the tunnel: open new channel ssh error: SSH session not active\n",
      "2024-02-08 15:54:41,946| ERROR   | Could not establish connection from local ('127.0.0.1', 3793) to remote ('insight-beta-article-db2.chmaiagjipqy.ap-south-1.docdb.amazonaws.com', 27017) side of the tunnel: open new channel ssh error: SSH session not active\n",
      "2024-02-08 15:54:52,089| ERROR   | Could not establish connection from local ('127.0.0.1', 3793) to remote ('insight-beta-article-db2.chmaiagjipqy.ap-south-1.docdb.amazonaws.com', 27017) side of the tunnel: open new channel ssh error: SSH session not active\n",
      "2024-02-08 15:55:02,233| ERROR   | Could not establish connection from local ('127.0.0.1', 3793) to remote ('insight-beta-article-db2.chmaiagjipqy.ap-south-1.docdb.amazonaws.com', 27017) side of the tunnel: open new channel ssh error: SSH session not active\n",
      "2024-02-08 15:55:12,363| ERROR   | Could not establish connection from local ('127.0.0.1', 3793) to remote ('insight-beta-article-db2.chmaiagjipqy.ap-south-1.docdb.amazonaws.com', 27017) side of the tunnel: open new channel ssh error: SSH session not active\n",
      "2024-02-08 15:55:22,479| ERROR   | Could not establish connection from local ('127.0.0.1', 3793) to remote ('insight-beta-article-db2.chmaiagjipqy.ap-south-1.docdb.amazonaws.com', 27017) side of the tunnel: open new channel ssh error: SSH session not active\n",
      "2024-02-08 15:55:32,607| ERROR   | Could not establish connection from local ('127.0.0.1', 3793) to remote ('insight-beta-article-db2.chmaiagjipqy.ap-south-1.docdb.amazonaws.com', 27017) side of the tunnel: open new channel ssh error: SSH session not active\n",
      "2024-02-08 15:55:42,728| ERROR   | Could not establish connection from local ('127.0.0.1', 3793) to remote ('insight-beta-article-db2.chmaiagjipqy.ap-south-1.docdb.amazonaws.com', 27017) side of the tunnel: open new channel ssh error: SSH session not active\n",
      "2024-02-08 15:55:52,871| ERROR   | Could not establish connection from local ('127.0.0.1', 3793) to remote ('insight-beta-article-db2.chmaiagjipqy.ap-south-1.docdb.amazonaws.com', 27017) side of the tunnel: open new channel ssh error: SSH session not active\n",
      "2024-02-08 15:56:03,007| ERROR   | Could not establish connection from local ('127.0.0.1', 3793) to remote ('insight-beta-article-db2.chmaiagjipqy.ap-south-1.docdb.amazonaws.com', 27017) side of the tunnel: open new channel ssh error: SSH session not active\n",
      "2024-02-08 15:56:13,126| ERROR   | Could not establish connection from local ('127.0.0.1', 3793) to remote ('insight-beta-article-db2.chmaiagjipqy.ap-south-1.docdb.amazonaws.com', 27017) side of the tunnel: open new channel ssh error: SSH session not active\n",
      "2024-02-08 15:56:23,256| ERROR   | Could not establish connection from local ('127.0.0.1', 3793) to remote ('insight-beta-article-db2.chmaiagjipqy.ap-south-1.docdb.amazonaws.com', 27017) side of the tunnel: open new channel ssh error: SSH session not active\n",
      "2024-02-08 15:56:33,392| ERROR   | Could not establish connection from local ('127.0.0.1', 3793) to remote ('insight-beta-article-db2.chmaiagjipqy.ap-south-1.docdb.amazonaws.com', 27017) side of the tunnel: open new channel ssh error: SSH session not active\n",
      "2024-02-08 15:56:43,517| ERROR   | Could not establish connection from local ('127.0.0.1', 3793) to remote ('insight-beta-article-db2.chmaiagjipqy.ap-south-1.docdb.amazonaws.com', 27017) side of the tunnel: open new channel ssh error: SSH session not active\n",
      "2024-02-08 15:56:53,657| ERROR   | Could not establish connection from local ('127.0.0.1', 3793) to remote ('insight-beta-article-db2.chmaiagjipqy.ap-south-1.docdb.amazonaws.com', 27017) side of the tunnel: open new channel ssh error: SSH session not active\n",
      "2024-02-08 15:57:03,787| ERROR   | Could not establish connection from local ('127.0.0.1', 3793) to remote ('insight-beta-article-db2.chmaiagjipqy.ap-south-1.docdb.amazonaws.com', 27017) side of the tunnel: open new channel ssh error: SSH session not active\n",
      "2024-02-08 15:57:13,930| ERROR   | Could not establish connection from local ('127.0.0.1', 3793) to remote ('insight-beta-article-db2.chmaiagjipqy.ap-south-1.docdb.amazonaws.com', 27017) side of the tunnel: open new channel ssh error: SSH session not active\n",
      "2024-02-08 15:57:24,076| ERROR   | Could not establish connection from local ('127.0.0.1', 3793) to remote ('insight-beta-article-db2.chmaiagjipqy.ap-south-1.docdb.amazonaws.com', 27017) side of the tunnel: open new channel ssh error: SSH session not active\n",
      "2024-02-08 15:57:34,233| ERROR   | Could not establish connection from local ('127.0.0.1', 3793) to remote ('insight-beta-article-db2.chmaiagjipqy.ap-south-1.docdb.amazonaws.com', 27017) side of the tunnel: open new channel ssh error: SSH session not active\n",
      "2024-02-08 15:57:44,374| ERROR   | Could not establish connection from local ('127.0.0.1', 3793) to remote ('insight-beta-article-db2.chmaiagjipqy.ap-south-1.docdb.amazonaws.com', 27017) side of the tunnel: open new channel ssh error: SSH session not active\n",
      "2024-02-08 15:57:54,505| ERROR   | Could not establish connection from local ('127.0.0.1', 3793) to remote ('insight-beta-article-db2.chmaiagjipqy.ap-south-1.docdb.amazonaws.com', 27017) side of the tunnel: open new channel ssh error: SSH session not active\n",
      "2024-02-08 15:58:04,630| ERROR   | Could not establish connection from local ('127.0.0.1', 3793) to remote ('insight-beta-article-db2.chmaiagjipqy.ap-south-1.docdb.amazonaws.com', 27017) side of the tunnel: open new channel ssh error: SSH session not active\n",
      "2024-02-08 15:58:14,777| ERROR   | Could not establish connection from local ('127.0.0.1', 3793) to remote ('insight-beta-article-db2.chmaiagjipqy.ap-south-1.docdb.amazonaws.com', 27017) side of the tunnel: open new channel ssh error: SSH session not active\n",
      "2024-02-08 15:58:24,903| ERROR   | Could not establish connection from local ('127.0.0.1', 3793) to remote ('insight-beta-article-db2.chmaiagjipqy.ap-south-1.docdb.amazonaws.com', 27017) side of the tunnel: open new channel ssh error: SSH session not active\n",
      "2024-02-08 15:58:35,054| ERROR   | Could not establish connection from local ('127.0.0.1', 3793) to remote ('insight-beta-article-db2.chmaiagjipqy.ap-south-1.docdb.amazonaws.com', 27017) side of the tunnel: open new channel ssh error: SSH session not active\n",
      "2024-02-08 15:58:45,195| ERROR   | Could not establish connection from local ('127.0.0.1', 3793) to remote ('insight-beta-article-db2.chmaiagjipqy.ap-south-1.docdb.amazonaws.com', 27017) side of the tunnel: open new channel ssh error: SSH session not active\n",
      "2024-02-08 15:58:55,331| ERROR   | Could not establish connection from local ('127.0.0.1', 3793) to remote ('insight-beta-article-db2.chmaiagjipqy.ap-south-1.docdb.amazonaws.com', 27017) side of the tunnel: open new channel ssh error: SSH session not active\n",
      "2024-02-08 15:59:05,457| ERROR   | Could not establish connection from local ('127.0.0.1', 3793) to remote ('insight-beta-article-db2.chmaiagjipqy.ap-south-1.docdb.amazonaws.com', 27017) side of the tunnel: open new channel ssh error: SSH session not active\n",
      "2024-02-08 15:59:15,604| ERROR   | Could not establish connection from local ('127.0.0.1', 3793) to remote ('insight-beta-article-db2.chmaiagjipqy.ap-south-1.docdb.amazonaws.com', 27017) side of the tunnel: open new channel ssh error: SSH session not active\n",
      "2024-02-08 15:59:25,746| ERROR   | Could not establish connection from local ('127.0.0.1', 3793) to remote ('insight-beta-article-db2.chmaiagjipqy.ap-south-1.docdb.amazonaws.com', 27017) side of the tunnel: open new channel ssh error: SSH session not active\n",
      "2024-02-08 15:59:35,911| ERROR   | Could not establish connection from local ('127.0.0.1', 3793) to remote ('insight-beta-article-db2.chmaiagjipqy.ap-south-1.docdb.amazonaws.com', 27017) side of the tunnel: open new channel ssh error: SSH session not active\n",
      "2024-02-08 15:59:46,048| ERROR   | Could not establish connection from local ('127.0.0.1', 3793) to remote ('insight-beta-article-db2.chmaiagjipqy.ap-south-1.docdb.amazonaws.com', 27017) side of the tunnel: open new channel ssh error: SSH session not active\n",
      "2024-02-08 15:59:56,167| ERROR   | Could not establish connection from local ('127.0.0.1', 3793) to remote ('insight-beta-article-db2.chmaiagjipqy.ap-south-1.docdb.amazonaws.com', 27017) side of the tunnel: open new channel ssh error: SSH session not active\n",
      "2024-02-08 16:00:06,279| ERROR   | Could not establish connection from local ('127.0.0.1', 3793) to remote ('insight-beta-article-db2.chmaiagjipqy.ap-south-1.docdb.amazonaws.com', 27017) side of the tunnel: open new channel ssh error: SSH session not active\n",
      "2024-02-08 16:00:16,409| ERROR   | Could not establish connection from local ('127.0.0.1', 3793) to remote ('insight-beta-article-db2.chmaiagjipqy.ap-south-1.docdb.amazonaws.com', 27017) side of the tunnel: open new channel ssh error: SSH session not active\n",
      "2024-02-08 16:00:26,554| ERROR   | Could not establish connection from local ('127.0.0.1', 3793) to remote ('insight-beta-article-db2.chmaiagjipqy.ap-south-1.docdb.amazonaws.com', 27017) side of the tunnel: open new channel ssh error: SSH session not active\n",
      "2024-02-08 16:00:36,695| ERROR   | Could not establish connection from local ('127.0.0.1', 3793) to remote ('insight-beta-article-db2.chmaiagjipqy.ap-south-1.docdb.amazonaws.com', 27017) side of the tunnel: open new channel ssh error: SSH session not active\n",
      "2024-02-08 16:00:46,835| ERROR   | Could not establish connection from local ('127.0.0.1', 3793) to remote ('insight-beta-article-db2.chmaiagjipqy.ap-south-1.docdb.amazonaws.com', 27017) side of the tunnel: open new channel ssh error: SSH session not active\n",
      "2024-02-08 16:00:56,978| ERROR   | Could not establish connection from local ('127.0.0.1', 3793) to remote ('insight-beta-article-db2.chmaiagjipqy.ap-south-1.docdb.amazonaws.com', 27017) side of the tunnel: open new channel ssh error: SSH session not active\n",
      "2024-02-08 16:01:07,100| ERROR   | Could not establish connection from local ('127.0.0.1', 3793) to remote ('insight-beta-article-db2.chmaiagjipqy.ap-south-1.docdb.amazonaws.com', 27017) side of the tunnel: open new channel ssh error: SSH session not active\n",
      "2024-02-08 16:01:17,238| ERROR   | Could not establish connection from local ('127.0.0.1', 3793) to remote ('insight-beta-article-db2.chmaiagjipqy.ap-south-1.docdb.amazonaws.com', 27017) side of the tunnel: open new channel ssh error: SSH session not active\n",
      "2024-02-08 16:01:27,388| ERROR   | Could not establish connection from local ('127.0.0.1', 3793) to remote ('insight-beta-article-db2.chmaiagjipqy.ap-south-1.docdb.amazonaws.com', 27017) side of the tunnel: open new channel ssh error: SSH session not active\n",
      "2024-02-08 16:01:37,521| ERROR   | Could not establish connection from local ('127.0.0.1', 3793) to remote ('insight-beta-article-db2.chmaiagjipqy.ap-south-1.docdb.amazonaws.com', 27017) side of the tunnel: open new channel ssh error: SSH session not active\n",
      "2024-02-08 16:01:47,679| ERROR   | Could not establish connection from local ('127.0.0.1', 3793) to remote ('insight-beta-article-db2.chmaiagjipqy.ap-south-1.docdb.amazonaws.com', 27017) side of the tunnel: open new channel ssh error: SSH session not active\n",
      "2024-02-08 16:01:57,794| ERROR   | Could not establish connection from local ('127.0.0.1', 3793) to remote ('insight-beta-article-db2.chmaiagjipqy.ap-south-1.docdb.amazonaws.com', 27017) side of the tunnel: open new channel ssh error: SSH session not active\n",
      "2024-02-08 16:02:07,952| ERROR   | Could not establish connection from local ('127.0.0.1', 3793) to remote ('insight-beta-article-db2.chmaiagjipqy.ap-south-1.docdb.amazonaws.com', 27017) side of the tunnel: open new channel ssh error: SSH session not active\n",
      "2024-02-08 16:02:18,078| ERROR   | Could not establish connection from local ('127.0.0.1', 3793) to remote ('insight-beta-article-db2.chmaiagjipqy.ap-south-1.docdb.amazonaws.com', 27017) side of the tunnel: open new channel ssh error: SSH session not active\n",
      "2024-02-08 16:02:28,242| ERROR   | Could not establish connection from local ('127.0.0.1', 3793) to remote ('insight-beta-article-db2.chmaiagjipqy.ap-south-1.docdb.amazonaws.com', 27017) side of the tunnel: open new channel ssh error: SSH session not active\n",
      "2024-02-08 16:02:38,389| ERROR   | Could not establish connection from local ('127.0.0.1', 3793) to remote ('insight-beta-article-db2.chmaiagjipqy.ap-south-1.docdb.amazonaws.com', 27017) side of the tunnel: open new channel ssh error: SSH session not active\n",
      "2024-02-08 16:02:48,531| ERROR   | Could not establish connection from local ('127.0.0.1', 3793) to remote ('insight-beta-article-db2.chmaiagjipqy.ap-south-1.docdb.amazonaws.com', 27017) side of the tunnel: open new channel ssh error: SSH session not active\n",
      "2024-02-08 16:02:58,661| ERROR   | Could not establish connection from local ('127.0.0.1', 3793) to remote ('insight-beta-article-db2.chmaiagjipqy.ap-south-1.docdb.amazonaws.com', 27017) side of the tunnel: open new channel ssh error: SSH session not active\n",
      "2024-02-08 16:03:08,780| ERROR   | Could not establish connection from local ('127.0.0.1', 3793) to remote ('insight-beta-article-db2.chmaiagjipqy.ap-south-1.docdb.amazonaws.com', 27017) side of the tunnel: open new channel ssh error: SSH session not active\n",
      "2024-02-08 16:03:18,882| ERROR   | Could not establish connection from local ('127.0.0.1', 3793) to remote ('insight-beta-article-db2.chmaiagjipqy.ap-south-1.docdb.amazonaws.com', 27017) side of the tunnel: open new channel ssh error: SSH session not active\n",
      "2024-02-08 16:03:29,035| ERROR   | Could not establish connection from local ('127.0.0.1', 3793) to remote ('insight-beta-article-db2.chmaiagjipqy.ap-south-1.docdb.amazonaws.com', 27017) side of the tunnel: open new channel ssh error: SSH session not active\n",
      "2024-02-08 16:03:39,154| ERROR   | Could not establish connection from local ('127.0.0.1', 3793) to remote ('insight-beta-article-db2.chmaiagjipqy.ap-south-1.docdb.amazonaws.com', 27017) side of the tunnel: open new channel ssh error: SSH session not active\n",
      "2024-02-08 16:03:49,264| ERROR   | Could not establish connection from local ('127.0.0.1', 3793) to remote ('insight-beta-article-db2.chmaiagjipqy.ap-south-1.docdb.amazonaws.com', 27017) side of the tunnel: open new channel ssh error: SSH session not active\n",
      "2024-02-08 16:03:59,417| ERROR   | Could not establish connection from local ('127.0.0.1', 3793) to remote ('insight-beta-article-db2.chmaiagjipqy.ap-south-1.docdb.amazonaws.com', 27017) side of the tunnel: open new channel ssh error: SSH session not active\n",
      "2024-02-08 16:04:09,581| ERROR   | Could not establish connection from local ('127.0.0.1', 3793) to remote ('insight-beta-article-db2.chmaiagjipqy.ap-south-1.docdb.amazonaws.com', 27017) side of the tunnel: open new channel ssh error: SSH session not active\n",
      "2024-02-08 16:04:19,719| ERROR   | Could not establish connection from local ('127.0.0.1', 3793) to remote ('insight-beta-article-db2.chmaiagjipqy.ap-south-1.docdb.amazonaws.com', 27017) side of the tunnel: open new channel ssh error: SSH session not active\n",
      "2024-02-08 16:04:29,874| ERROR   | Could not establish connection from local ('127.0.0.1', 3793) to remote ('insight-beta-article-db2.chmaiagjipqy.ap-south-1.docdb.amazonaws.com', 27017) side of the tunnel: open new channel ssh error: SSH session not active\n",
      "2024-02-08 16:04:40,013| ERROR   | Could not establish connection from local ('127.0.0.1', 3793) to remote ('insight-beta-article-db2.chmaiagjipqy.ap-south-1.docdb.amazonaws.com', 27017) side of the tunnel: open new channel ssh error: SSH session not active\n",
      "2024-02-08 16:04:50,142| ERROR   | Could not establish connection from local ('127.0.0.1', 3793) to remote ('insight-beta-article-db2.chmaiagjipqy.ap-south-1.docdb.amazonaws.com', 27017) side of the tunnel: open new channel ssh error: SSH session not active\n",
      "2024-02-08 16:05:00,269| ERROR   | Could not establish connection from local ('127.0.0.1', 3793) to remote ('insight-beta-article-db2.chmaiagjipqy.ap-south-1.docdb.amazonaws.com', 27017) side of the tunnel: open new channel ssh error: SSH session not active\n",
      "2024-02-08 16:05:10,396| ERROR   | Could not establish connection from local ('127.0.0.1', 3793) to remote ('insight-beta-article-db2.chmaiagjipqy.ap-south-1.docdb.amazonaws.com', 27017) side of the tunnel: open new channel ssh error: SSH session not active\n",
      "2024-02-08 16:05:20,524| ERROR   | Could not establish connection from local ('127.0.0.1', 3793) to remote ('insight-beta-article-db2.chmaiagjipqy.ap-south-1.docdb.amazonaws.com', 27017) side of the tunnel: open new channel ssh error: SSH session not active\n",
      "2024-02-08 16:05:30,644| ERROR   | Could not establish connection from local ('127.0.0.1', 3793) to remote ('insight-beta-article-db2.chmaiagjipqy.ap-south-1.docdb.amazonaws.com', 27017) side of the tunnel: open new channel ssh error: SSH session not active\n",
      "2024-02-08 16:05:40,780| ERROR   | Could not establish connection from local ('127.0.0.1', 3793) to remote ('insight-beta-article-db2.chmaiagjipqy.ap-south-1.docdb.amazonaws.com', 27017) side of the tunnel: open new channel ssh error: SSH session not active\n",
      "2024-02-08 16:05:50,942| ERROR   | Could not establish connection from local ('127.0.0.1', 3793) to remote ('insight-beta-article-db2.chmaiagjipqy.ap-south-1.docdb.amazonaws.com', 27017) side of the tunnel: open new channel ssh error: SSH session not active\n",
      "2024-02-08 16:06:01,085| ERROR   | Could not establish connection from local ('127.0.0.1', 3793) to remote ('insight-beta-article-db2.chmaiagjipqy.ap-south-1.docdb.amazonaws.com', 27017) side of the tunnel: open new channel ssh error: SSH session not active\n",
      "2024-02-08 16:06:11,213| ERROR   | Could not establish connection from local ('127.0.0.1', 3793) to remote ('insight-beta-article-db2.chmaiagjipqy.ap-south-1.docdb.amazonaws.com', 27017) side of the tunnel: open new channel ssh error: SSH session not active\n",
      "2024-02-08 16:06:21,370| ERROR   | Could not establish connection from local ('127.0.0.1', 3793) to remote ('insight-beta-article-db2.chmaiagjipqy.ap-south-1.docdb.amazonaws.com', 27017) side of the tunnel: open new channel ssh error: SSH session not active\n",
      "2024-02-08 16:06:31,525| ERROR   | Could not establish connection from local ('127.0.0.1', 3793) to remote ('insight-beta-article-db2.chmaiagjipqy.ap-south-1.docdb.amazonaws.com', 27017) side of the tunnel: open new channel ssh error: SSH session not active\n",
      "2024-02-08 16:06:41,632| ERROR   | Could not establish connection from local ('127.0.0.1', 3793) to remote ('insight-beta-article-db2.chmaiagjipqy.ap-south-1.docdb.amazonaws.com', 27017) side of the tunnel: open new channel ssh error: SSH session not active\n",
      "2024-02-08 16:06:51,783| ERROR   | Could not establish connection from local ('127.0.0.1', 3793) to remote ('insight-beta-article-db2.chmaiagjipqy.ap-south-1.docdb.amazonaws.com', 27017) side of the tunnel: open new channel ssh error: SSH session not active\n",
      "2024-02-08 16:07:01,908| ERROR   | Could not establish connection from local ('127.0.0.1', 3793) to remote ('insight-beta-article-db2.chmaiagjipqy.ap-south-1.docdb.amazonaws.com', 27017) side of the tunnel: open new channel ssh error: SSH session not active\n",
      "2024-02-08 16:07:12,066| ERROR   | Could not establish connection from local ('127.0.0.1', 3793) to remote ('insight-beta-article-db2.chmaiagjipqy.ap-south-1.docdb.amazonaws.com', 27017) side of the tunnel: open new channel ssh error: SSH session not active\n",
      "2024-02-08 16:07:22,195| ERROR   | Could not establish connection from local ('127.0.0.1', 3793) to remote ('insight-beta-article-db2.chmaiagjipqy.ap-south-1.docdb.amazonaws.com', 27017) side of the tunnel: open new channel ssh error: SSH session not active\n",
      "2024-02-08 16:07:32,338| ERROR   | Could not establish connection from local ('127.0.0.1', 3793) to remote ('insight-beta-article-db2.chmaiagjipqy.ap-south-1.docdb.amazonaws.com', 27017) side of the tunnel: open new channel ssh error: SSH session not active\n",
      "2024-02-08 16:07:42,468| ERROR   | Could not establish connection from local ('127.0.0.1', 3793) to remote ('insight-beta-article-db2.chmaiagjipqy.ap-south-1.docdb.amazonaws.com', 27017) side of the tunnel: open new channel ssh error: SSH session not active\n",
      "2024-02-08 16:07:52,597| ERROR   | Could not establish connection from local ('127.0.0.1', 3793) to remote ('insight-beta-article-db2.chmaiagjipqy.ap-south-1.docdb.amazonaws.com', 27017) side of the tunnel: open new channel ssh error: SSH session not active\n",
      "2024-02-08 16:08:02,734| ERROR   | Could not establish connection from local ('127.0.0.1', 3793) to remote ('insight-beta-article-db2.chmaiagjipqy.ap-south-1.docdb.amazonaws.com', 27017) side of the tunnel: open new channel ssh error: SSH session not active\n",
      "2024-02-08 16:08:12,858| ERROR   | Could not establish connection from local ('127.0.0.1', 3793) to remote ('insight-beta-article-db2.chmaiagjipqy.ap-south-1.docdb.amazonaws.com', 27017) side of the tunnel: open new channel ssh error: SSH session not active\n",
      "2024-02-08 16:08:23,014| ERROR   | Could not establish connection from local ('127.0.0.1', 3793) to remote ('insight-beta-article-db2.chmaiagjipqy.ap-south-1.docdb.amazonaws.com', 27017) side of the tunnel: open new channel ssh error: SSH session not active\n",
      "2024-02-08 16:08:33,163| ERROR   | Could not establish connection from local ('127.0.0.1', 3793) to remote ('insight-beta-article-db2.chmaiagjipqy.ap-south-1.docdb.amazonaws.com', 27017) side of the tunnel: open new channel ssh error: SSH session not active\n",
      "2024-02-08 16:08:43,327| ERROR   | Could not establish connection from local ('127.0.0.1', 3793) to remote ('insight-beta-article-db2.chmaiagjipqy.ap-south-1.docdb.amazonaws.com', 27017) side of the tunnel: open new channel ssh error: SSH session not active\n",
      "2024-02-08 16:08:53,476| ERROR   | Could not establish connection from local ('127.0.0.1', 3793) to remote ('insight-beta-article-db2.chmaiagjipqy.ap-south-1.docdb.amazonaws.com', 27017) side of the tunnel: open new channel ssh error: SSH session not active\n",
      "2024-02-08 16:09:03,643| ERROR   | Could not establish connection from local ('127.0.0.1', 3793) to remote ('insight-beta-article-db2.chmaiagjipqy.ap-south-1.docdb.amazonaws.com', 27017) side of the tunnel: open new channel ssh error: SSH session not active\n",
      "2024-02-08 16:09:13,799| ERROR   | Could not establish connection from local ('127.0.0.1', 3793) to remote ('insight-beta-article-db2.chmaiagjipqy.ap-south-1.docdb.amazonaws.com', 27017) side of the tunnel: open new channel ssh error: SSH session not active\n",
      "2024-02-08 16:09:23,945| ERROR   | Could not establish connection from local ('127.0.0.1', 3793) to remote ('insight-beta-article-db2.chmaiagjipqy.ap-south-1.docdb.amazonaws.com', 27017) side of the tunnel: open new channel ssh error: SSH session not active\n",
      "2024-02-08 16:09:34,084| ERROR   | Could not establish connection from local ('127.0.0.1', 3793) to remote ('insight-beta-article-db2.chmaiagjipqy.ap-south-1.docdb.amazonaws.com', 27017) side of the tunnel: open new channel ssh error: SSH session not active\n",
      "2024-02-08 16:09:44,207| ERROR   | Could not establish connection from local ('127.0.0.1', 3793) to remote ('insight-beta-article-db2.chmaiagjipqy.ap-south-1.docdb.amazonaws.com', 27017) side of the tunnel: open new channel ssh error: SSH session not active\n",
      "2024-02-08 16:09:54,343| ERROR   | Could not establish connection from local ('127.0.0.1', 3793) to remote ('insight-beta-article-db2.chmaiagjipqy.ap-south-1.docdb.amazonaws.com', 27017) side of the tunnel: open new channel ssh error: SSH session not active\n",
      "2024-02-08 16:10:04,484| ERROR   | Could not establish connection from local ('127.0.0.1', 3793) to remote ('insight-beta-article-db2.chmaiagjipqy.ap-south-1.docdb.amazonaws.com', 27017) side of the tunnel: open new channel ssh error: SSH session not active\n",
      "2024-02-08 16:10:14,642| ERROR   | Could not establish connection from local ('127.0.0.1', 3793) to remote ('insight-beta-article-db2.chmaiagjipqy.ap-south-1.docdb.amazonaws.com', 27017) side of the tunnel: open new channel ssh error: SSH session not active\n",
      "2024-02-08 16:10:24,780| ERROR   | Could not establish connection from local ('127.0.0.1', 3793) to remote ('insight-beta-article-db2.chmaiagjipqy.ap-south-1.docdb.amazonaws.com', 27017) side of the tunnel: open new channel ssh error: SSH session not active\n",
      "2024-02-08 16:10:34,942| ERROR   | Could not establish connection from local ('127.0.0.1', 3793) to remote ('insight-beta-article-db2.chmaiagjipqy.ap-south-1.docdb.amazonaws.com', 27017) side of the tunnel: open new channel ssh error: SSH session not active\n",
      "2024-02-08 16:10:45,097| ERROR   | Could not establish connection from local ('127.0.0.1', 3793) to remote ('insight-beta-article-db2.chmaiagjipqy.ap-south-1.docdb.amazonaws.com', 27017) side of the tunnel: open new channel ssh error: SSH session not active\n",
      "2024-02-08 16:10:55,248| ERROR   | Could not establish connection from local ('127.0.0.1', 3793) to remote ('insight-beta-article-db2.chmaiagjipqy.ap-south-1.docdb.amazonaws.com', 27017) side of the tunnel: open new channel ssh error: SSH session not active\n",
      "2024-02-08 16:11:05,357| ERROR   | Could not establish connection from local ('127.0.0.1', 3793) to remote ('insight-beta-article-db2.chmaiagjipqy.ap-south-1.docdb.amazonaws.com', 27017) side of the tunnel: open new channel ssh error: SSH session not active\n",
      "2024-02-08 16:11:15,480| ERROR   | Could not establish connection from local ('127.0.0.1', 3793) to remote ('insight-beta-article-db2.chmaiagjipqy.ap-south-1.docdb.amazonaws.com', 27017) side of the tunnel: open new channel ssh error: SSH session not active\n",
      "2024-02-08 16:11:25,654| ERROR   | Could not establish connection from local ('127.0.0.1', 3793) to remote ('insight-beta-article-db2.chmaiagjipqy.ap-south-1.docdb.amazonaws.com', 27017) side of the tunnel: open new channel ssh error: SSH session not active\n",
      "2024-02-08 16:11:35,783| ERROR   | Could not establish connection from local ('127.0.0.1', 3793) to remote ('insight-beta-article-db2.chmaiagjipqy.ap-south-1.docdb.amazonaws.com', 27017) side of the tunnel: open new channel ssh error: SSH session not active\n",
      "2024-02-08 16:11:45,924| ERROR   | Could not establish connection from local ('127.0.0.1', 3793) to remote ('insight-beta-article-db2.chmaiagjipqy.ap-south-1.docdb.amazonaws.com', 27017) side of the tunnel: open new channel ssh error: SSH session not active\n",
      "2024-02-08 16:11:56,055| ERROR   | Could not establish connection from local ('127.0.0.1', 3793) to remote ('insight-beta-article-db2.chmaiagjipqy.ap-south-1.docdb.amazonaws.com', 27017) side of the tunnel: open new channel ssh error: SSH session not active\n",
      "2024-02-08 16:12:06,186| ERROR   | Could not establish connection from local ('127.0.0.1', 3793) to remote ('insight-beta-article-db2.chmaiagjipqy.ap-south-1.docdb.amazonaws.com', 27017) side of the tunnel: open new channel ssh error: SSH session not active\n",
      "2024-02-08 16:12:16,329| ERROR   | Could not establish connection from local ('127.0.0.1', 3793) to remote ('insight-beta-article-db2.chmaiagjipqy.ap-south-1.docdb.amazonaws.com', 27017) side of the tunnel: open new channel ssh error: SSH session not active\n",
      "2024-02-08 16:12:26,464| ERROR   | Could not establish connection from local ('127.0.0.1', 3793) to remote ('insight-beta-article-db2.chmaiagjipqy.ap-south-1.docdb.amazonaws.com', 27017) side of the tunnel: open new channel ssh error: SSH session not active\n",
      "2024-02-08 16:12:36,609| ERROR   | Could not establish connection from local ('127.0.0.1', 3793) to remote ('insight-beta-article-db2.chmaiagjipqy.ap-south-1.docdb.amazonaws.com', 27017) side of the tunnel: open new channel ssh error: SSH session not active\n",
      "2024-02-08 16:12:46,763| ERROR   | Could not establish connection from local ('127.0.0.1', 3793) to remote ('insight-beta-article-db2.chmaiagjipqy.ap-south-1.docdb.amazonaws.com', 27017) side of the tunnel: open new channel ssh error: SSH session not active\n",
      "2024-02-08 16:12:56,900| ERROR   | Could not establish connection from local ('127.0.0.1', 3793) to remote ('insight-beta-article-db2.chmaiagjipqy.ap-south-1.docdb.amazonaws.com', 27017) side of the tunnel: open new channel ssh error: SSH session not active\n",
      "2024-02-08 16:13:07,022| ERROR   | Could not establish connection from local ('127.0.0.1', 3793) to remote ('insight-beta-article-db2.chmaiagjipqy.ap-south-1.docdb.amazonaws.com', 27017) side of the tunnel: open new channel ssh error: SSH session not active\n",
      "2024-02-08 16:13:17,153| ERROR   | Could not establish connection from local ('127.0.0.1', 3793) to remote ('insight-beta-article-db2.chmaiagjipqy.ap-south-1.docdb.amazonaws.com', 27017) side of the tunnel: open new channel ssh error: SSH session not active\n",
      "2024-02-08 16:13:27,280| ERROR   | Could not establish connection from local ('127.0.0.1', 3793) to remote ('insight-beta-article-db2.chmaiagjipqy.ap-south-1.docdb.amazonaws.com', 27017) side of the tunnel: open new channel ssh error: SSH session not active\n",
      "2024-02-08 16:13:37,428| ERROR   | Could not establish connection from local ('127.0.0.1', 3793) to remote ('insight-beta-article-db2.chmaiagjipqy.ap-south-1.docdb.amazonaws.com', 27017) side of the tunnel: open new channel ssh error: SSH session not active\n",
      "2024-02-08 16:13:47,563| ERROR   | Could not establish connection from local ('127.0.0.1', 3793) to remote ('insight-beta-article-db2.chmaiagjipqy.ap-south-1.docdb.amazonaws.com', 27017) side of the tunnel: open new channel ssh error: SSH session not active\n",
      "2024-02-08 16:13:57,698| ERROR   | Could not establish connection from local ('127.0.0.1', 3793) to remote ('insight-beta-article-db2.chmaiagjipqy.ap-south-1.docdb.amazonaws.com', 27017) side of the tunnel: open new channel ssh error: SSH session not active\n",
      "2024-02-08 16:14:07,847| ERROR   | Could not establish connection from local ('127.0.0.1', 3793) to remote ('insight-beta-article-db2.chmaiagjipqy.ap-south-1.docdb.amazonaws.com', 27017) side of the tunnel: open new channel ssh error: SSH session not active\n",
      "2024-02-08 16:14:17,982| ERROR   | Could not establish connection from local ('127.0.0.1', 3793) to remote ('insight-beta-article-db2.chmaiagjipqy.ap-south-1.docdb.amazonaws.com', 27017) side of the tunnel: open new channel ssh error: SSH session not active\n",
      "2024-02-08 16:14:28,110| ERROR   | Could not establish connection from local ('127.0.0.1', 3793) to remote ('insight-beta-article-db2.chmaiagjipqy.ap-south-1.docdb.amazonaws.com', 27017) side of the tunnel: open new channel ssh error: SSH session not active\n",
      "2024-02-08 16:14:38,254| ERROR   | Could not establish connection from local ('127.0.0.1', 3793) to remote ('insight-beta-article-db2.chmaiagjipqy.ap-south-1.docdb.amazonaws.com', 27017) side of the tunnel: open new channel ssh error: SSH session not active\n",
      "2024-02-08 16:14:48,367| ERROR   | Could not establish connection from local ('127.0.0.1', 3793) to remote ('insight-beta-article-db2.chmaiagjipqy.ap-south-1.docdb.amazonaws.com', 27017) side of the tunnel: open new channel ssh error: SSH session not active\n",
      "2024-02-08 16:14:58,506| ERROR   | Could not establish connection from local ('127.0.0.1', 3793) to remote ('insight-beta-article-db2.chmaiagjipqy.ap-south-1.docdb.amazonaws.com', 27017) side of the tunnel: open new channel ssh error: SSH session not active\n",
      "2024-02-08 16:15:08,664| ERROR   | Could not establish connection from local ('127.0.0.1', 3793) to remote ('insight-beta-article-db2.chmaiagjipqy.ap-south-1.docdb.amazonaws.com', 27017) side of the tunnel: open new channel ssh error: SSH session not active\n",
      "2024-02-08 16:15:18,794| ERROR   | Could not establish connection from local ('127.0.0.1', 3793) to remote ('insight-beta-article-db2.chmaiagjipqy.ap-south-1.docdb.amazonaws.com', 27017) side of the tunnel: open new channel ssh error: SSH session not active\n",
      "2024-02-08 16:15:28,951| ERROR   | Could not establish connection from local ('127.0.0.1', 3793) to remote ('insight-beta-article-db2.chmaiagjipqy.ap-south-1.docdb.amazonaws.com', 27017) side of the tunnel: open new channel ssh error: SSH session not active\n",
      "2024-02-08 16:15:39,094| ERROR   | Could not establish connection from local ('127.0.0.1', 3793) to remote ('insight-beta-article-db2.chmaiagjipqy.ap-south-1.docdb.amazonaws.com', 27017) side of the tunnel: open new channel ssh error: SSH session not active\n",
      "2024-02-08 16:15:49,226| ERROR   | Could not establish connection from local ('127.0.0.1', 3793) to remote ('insight-beta-article-db2.chmaiagjipqy.ap-south-1.docdb.amazonaws.com', 27017) side of the tunnel: open new channel ssh error: SSH session not active\n",
      "2024-02-08 16:15:59,378| ERROR   | Could not establish connection from local ('127.0.0.1', 3793) to remote ('insight-beta-article-db2.chmaiagjipqy.ap-south-1.docdb.amazonaws.com', 27017) side of the tunnel: open new channel ssh error: SSH session not active\n",
      "2024-02-08 16:16:09,517| ERROR   | Could not establish connection from local ('127.0.0.1', 3793) to remote ('insight-beta-article-db2.chmaiagjipqy.ap-south-1.docdb.amazonaws.com', 27017) side of the tunnel: open new channel ssh error: SSH session not active\n",
      "2024-02-08 16:16:19,673| ERROR   | Could not establish connection from local ('127.0.0.1', 3793) to remote ('insight-beta-article-db2.chmaiagjipqy.ap-south-1.docdb.amazonaws.com', 27017) side of the tunnel: open new channel ssh error: SSH session not active\n",
      "2024-02-08 16:16:29,803| ERROR   | Could not establish connection from local ('127.0.0.1', 3793) to remote ('insight-beta-article-db2.chmaiagjipqy.ap-south-1.docdb.amazonaws.com', 27017) side of the tunnel: open new channel ssh error: SSH session not active\n",
      "2024-02-08 16:16:39,936| ERROR   | Could not establish connection from local ('127.0.0.1', 3793) to remote ('insight-beta-article-db2.chmaiagjipqy.ap-south-1.docdb.amazonaws.com', 27017) side of the tunnel: open new channel ssh error: SSH session not active\n",
      "2024-02-08 16:16:50,056| ERROR   | Could not establish connection from local ('127.0.0.1', 3793) to remote ('insight-beta-article-db2.chmaiagjipqy.ap-south-1.docdb.amazonaws.com', 27017) side of the tunnel: open new channel ssh error: SSH session not active\n",
      "2024-02-08 16:17:00,181| ERROR   | Could not establish connection from local ('127.0.0.1', 3793) to remote ('insight-beta-article-db2.chmaiagjipqy.ap-south-1.docdb.amazonaws.com', 27017) side of the tunnel: open new channel ssh error: SSH session not active\n",
      "2024-02-08 16:17:10,303| ERROR   | Could not establish connection from local ('127.0.0.1', 3793) to remote ('insight-beta-article-db2.chmaiagjipqy.ap-south-1.docdb.amazonaws.com', 27017) side of the tunnel: open new channel ssh error: SSH session not active\n",
      "2024-02-08 16:17:20,453| ERROR   | Could not establish connection from local ('127.0.0.1', 3793) to remote ('insight-beta-article-db2.chmaiagjipqy.ap-south-1.docdb.amazonaws.com', 27017) side of the tunnel: open new channel ssh error: SSH session not active\n",
      "2024-02-08 16:17:30,586| ERROR   | Could not establish connection from local ('127.0.0.1', 3793) to remote ('insight-beta-article-db2.chmaiagjipqy.ap-south-1.docdb.amazonaws.com', 27017) side of the tunnel: open new channel ssh error: SSH session not active\n",
      "2024-02-08 16:17:40,716| ERROR   | Could not establish connection from local ('127.0.0.1', 3793) to remote ('insight-beta-article-db2.chmaiagjipqy.ap-south-1.docdb.amazonaws.com', 27017) side of the tunnel: open new channel ssh error: SSH session not active\n",
      "2024-02-08 16:17:50,860| ERROR   | Could not establish connection from local ('127.0.0.1', 3793) to remote ('insight-beta-article-db2.chmaiagjipqy.ap-south-1.docdb.amazonaws.com', 27017) side of the tunnel: open new channel ssh error: SSH session not active\n",
      "2024-02-08 16:18:01,005| ERROR   | Could not establish connection from local ('127.0.0.1', 3793) to remote ('insight-beta-article-db2.chmaiagjipqy.ap-south-1.docdb.amazonaws.com', 27017) side of the tunnel: open new channel ssh error: SSH session not active\n",
      "2024-02-08 16:18:11,164| ERROR   | Could not establish connection from local ('127.0.0.1', 3793) to remote ('insight-beta-article-db2.chmaiagjipqy.ap-south-1.docdb.amazonaws.com', 27017) side of the tunnel: open new channel ssh error: SSH session not active\n",
      "2024-02-08 16:18:21,293| ERROR   | Could not establish connection from local ('127.0.0.1', 3793) to remote ('insight-beta-article-db2.chmaiagjipqy.ap-south-1.docdb.amazonaws.com', 27017) side of the tunnel: open new channel ssh error: SSH session not active\n",
      "2024-02-08 16:18:31,435| ERROR   | Could not establish connection from local ('127.0.0.1', 3793) to remote ('insight-beta-article-db2.chmaiagjipqy.ap-south-1.docdb.amazonaws.com', 27017) side of the tunnel: open new channel ssh error: SSH session not active\n",
      "2024-02-08 16:18:41,585| ERROR   | Could not establish connection from local ('127.0.0.1', 3793) to remote ('insight-beta-article-db2.chmaiagjipqy.ap-south-1.docdb.amazonaws.com', 27017) side of the tunnel: open new channel ssh error: SSH session not active\n",
      "2024-02-08 16:18:51,716| ERROR   | Could not establish connection from local ('127.0.0.1', 3793) to remote ('insight-beta-article-db2.chmaiagjipqy.ap-south-1.docdb.amazonaws.com', 27017) side of the tunnel: open new channel ssh error: SSH session not active\n",
      "2024-02-08 16:19:01,843| ERROR   | Could not establish connection from local ('127.0.0.1', 3793) to remote ('insight-beta-article-db2.chmaiagjipqy.ap-south-1.docdb.amazonaws.com', 27017) side of the tunnel: open new channel ssh error: SSH session not active\n",
      "2024-02-08 16:19:11,984| ERROR   | Could not establish connection from local ('127.0.0.1', 3793) to remote ('insight-beta-article-db2.chmaiagjipqy.ap-south-1.docdb.amazonaws.com', 27017) side of the tunnel: open new channel ssh error: SSH session not active\n",
      "2024-02-08 16:19:22,111| ERROR   | Could not establish connection from local ('127.0.0.1', 3793) to remote ('insight-beta-article-db2.chmaiagjipqy.ap-south-1.docdb.amazonaws.com', 27017) side of the tunnel: open new channel ssh error: SSH session not active\n",
      "2024-02-08 16:19:32,246| ERROR   | Could not establish connection from local ('127.0.0.1', 3793) to remote ('insight-beta-article-db2.chmaiagjipqy.ap-south-1.docdb.amazonaws.com', 27017) side of the tunnel: open new channel ssh error: SSH session not active\n",
      "2024-02-08 16:19:42,391| ERROR   | Could not establish connection from local ('127.0.0.1', 3793) to remote ('insight-beta-article-db2.chmaiagjipqy.ap-south-1.docdb.amazonaws.com', 27017) side of the tunnel: open new channel ssh error: SSH session not active\n",
      "2024-02-08 16:19:52,537| ERROR   | Could not establish connection from local ('127.0.0.1', 3793) to remote ('insight-beta-article-db2.chmaiagjipqy.ap-south-1.docdb.amazonaws.com', 27017) side of the tunnel: open new channel ssh error: SSH session not active\n",
      "2024-02-08 16:20:02,652| ERROR   | Could not establish connection from local ('127.0.0.1', 3793) to remote ('insight-beta-article-db2.chmaiagjipqy.ap-south-1.docdb.amazonaws.com', 27017) side of the tunnel: open new channel ssh error: SSH session not active\n",
      "2024-02-08 16:20:12,787| ERROR   | Could not establish connection from local ('127.0.0.1', 3793) to remote ('insight-beta-article-db2.chmaiagjipqy.ap-south-1.docdb.amazonaws.com', 27017) side of the tunnel: open new channel ssh error: SSH session not active\n",
      "2024-02-08 16:20:22,918| ERROR   | Could not establish connection from local ('127.0.0.1', 3793) to remote ('insight-beta-article-db2.chmaiagjipqy.ap-south-1.docdb.amazonaws.com', 27017) side of the tunnel: open new channel ssh error: SSH session not active\n",
      "2024-02-08 16:20:33,043| ERROR   | Could not establish connection from local ('127.0.0.1', 3793) to remote ('insight-beta-article-db2.chmaiagjipqy.ap-south-1.docdb.amazonaws.com', 27017) side of the tunnel: open new channel ssh error: SSH session not active\n",
      "2024-02-08 16:20:43,190| ERROR   | Could not establish connection from local ('127.0.0.1', 3793) to remote ('insight-beta-article-db2.chmaiagjipqy.ap-south-1.docdb.amazonaws.com', 27017) side of the tunnel: open new channel ssh error: SSH session not active\n",
      "2024-02-08 16:20:53,334| ERROR   | Could not establish connection from local ('127.0.0.1', 3793) to remote ('insight-beta-article-db2.chmaiagjipqy.ap-south-1.docdb.amazonaws.com', 27017) side of the tunnel: open new channel ssh error: SSH session not active\n",
      "2024-02-08 16:21:03,489| ERROR   | Could not establish connection from local ('127.0.0.1', 3793) to remote ('insight-beta-article-db2.chmaiagjipqy.ap-south-1.docdb.amazonaws.com', 27017) side of the tunnel: open new channel ssh error: SSH session not active\n",
      "2024-02-08 16:21:13,669| ERROR   | Could not establish connection from local ('127.0.0.1', 3793) to remote ('insight-beta-article-db2.chmaiagjipqy.ap-south-1.docdb.amazonaws.com', 27017) side of the tunnel: open new channel ssh error: SSH session not active\n",
      "2024-02-08 16:21:23,788| ERROR   | Could not establish connection from local ('127.0.0.1', 3793) to remote ('insight-beta-article-db2.chmaiagjipqy.ap-south-1.docdb.amazonaws.com', 27017) side of the tunnel: open new channel ssh error: SSH session not active\n",
      "2024-02-08 16:21:33,955| ERROR   | Could not establish connection from local ('127.0.0.1', 3793) to remote ('insight-beta-article-db2.chmaiagjipqy.ap-south-1.docdb.amazonaws.com', 27017) side of the tunnel: open new channel ssh error: SSH session not active\n",
      "2024-02-08 16:21:44,089| ERROR   | Could not establish connection from local ('127.0.0.1', 3793) to remote ('insight-beta-article-db2.chmaiagjipqy.ap-south-1.docdb.amazonaws.com', 27017) side of the tunnel: open new channel ssh error: SSH session not active\n",
      "2024-02-08 16:21:54,228| ERROR   | Could not establish connection from local ('127.0.0.1', 3793) to remote ('insight-beta-article-db2.chmaiagjipqy.ap-south-1.docdb.amazonaws.com', 27017) side of the tunnel: open new channel ssh error: SSH session not active\n",
      "2024-02-08 16:22:04,347| ERROR   | Could not establish connection from local ('127.0.0.1', 3793) to remote ('insight-beta-article-db2.chmaiagjipqy.ap-south-1.docdb.amazonaws.com', 27017) side of the tunnel: open new channel ssh error: SSH session not active\n",
      "2024-02-08 16:22:14,462| ERROR   | Could not establish connection from local ('127.0.0.1', 3793) to remote ('insight-beta-article-db2.chmaiagjipqy.ap-south-1.docdb.amazonaws.com', 27017) side of the tunnel: open new channel ssh error: SSH session not active\n",
      "2024-02-08 16:22:24,606| ERROR   | Could not establish connection from local ('127.0.0.1', 3793) to remote ('insight-beta-article-db2.chmaiagjipqy.ap-south-1.docdb.amazonaws.com', 27017) side of the tunnel: open new channel ssh error: SSH session not active\n",
      "2024-02-08 16:22:34,738| ERROR   | Could not establish connection from local ('127.0.0.1', 3793) to remote ('insight-beta-article-db2.chmaiagjipqy.ap-south-1.docdb.amazonaws.com', 27017) side of the tunnel: open new channel ssh error: SSH session not active\n",
      "2024-02-08 16:22:44,844| ERROR   | Could not establish connection from local ('127.0.0.1', 3793) to remote ('insight-beta-article-db2.chmaiagjipqy.ap-south-1.docdb.amazonaws.com', 27017) side of the tunnel: open new channel ssh error: SSH session not active\n",
      "2024-02-08 16:22:55,014| ERROR   | Could not establish connection from local ('127.0.0.1', 3793) to remote ('insight-beta-article-db2.chmaiagjipqy.ap-south-1.docdb.amazonaws.com', 27017) side of the tunnel: open new channel ssh error: SSH session not active\n",
      "2024-02-08 16:23:05,144| ERROR   | Could not establish connection from local ('127.0.0.1', 3793) to remote ('insight-beta-article-db2.chmaiagjipqy.ap-south-1.docdb.amazonaws.com', 27017) side of the tunnel: open new channel ssh error: SSH session not active\n",
      "2024-02-08 16:23:15,293| ERROR   | Could not establish connection from local ('127.0.0.1', 3793) to remote ('insight-beta-article-db2.chmaiagjipqy.ap-south-1.docdb.amazonaws.com', 27017) side of the tunnel: open new channel ssh error: SSH session not active\n",
      "2024-02-08 16:23:25,437| ERROR   | Could not establish connection from local ('127.0.0.1', 3793) to remote ('insight-beta-article-db2.chmaiagjipqy.ap-south-1.docdb.amazonaws.com', 27017) side of the tunnel: open new channel ssh error: SSH session not active\n",
      "2024-02-08 16:23:35,579| ERROR   | Could not establish connection from local ('127.0.0.1', 3793) to remote ('insight-beta-article-db2.chmaiagjipqy.ap-south-1.docdb.amazonaws.com', 27017) side of the tunnel: open new channel ssh error: SSH session not active\n",
      "2024-02-08 16:23:45,724| ERROR   | Could not establish connection from local ('127.0.0.1', 3793) to remote ('insight-beta-article-db2.chmaiagjipqy.ap-south-1.docdb.amazonaws.com', 27017) side of the tunnel: open new channel ssh error: SSH session not active\n",
      "2024-02-08 16:23:55,858| ERROR   | Could not establish connection from local ('127.0.0.1', 3793) to remote ('insight-beta-article-db2.chmaiagjipqy.ap-south-1.docdb.amazonaws.com', 27017) side of the tunnel: open new channel ssh error: SSH session not active\n",
      "2024-02-08 16:24:05,981| ERROR   | Could not establish connection from local ('127.0.0.1', 3793) to remote ('insight-beta-article-db2.chmaiagjipqy.ap-south-1.docdb.amazonaws.com', 27017) side of the tunnel: open new channel ssh error: SSH session not active\n",
      "2024-02-08 16:24:16,117| ERROR   | Could not establish connection from local ('127.0.0.1', 3793) to remote ('insight-beta-article-db2.chmaiagjipqy.ap-south-1.docdb.amazonaws.com', 27017) side of the tunnel: open new channel ssh error: SSH session not active\n",
      "2024-02-08 16:24:26,259| ERROR   | Could not establish connection from local ('127.0.0.1', 3793) to remote ('insight-beta-article-db2.chmaiagjipqy.ap-south-1.docdb.amazonaws.com', 27017) side of the tunnel: open new channel ssh error: SSH session not active\n",
      "2024-02-08 16:24:36,385| ERROR   | Could not establish connection from local ('127.0.0.1', 3793) to remote ('insight-beta-article-db2.chmaiagjipqy.ap-south-1.docdb.amazonaws.com', 27017) side of the tunnel: open new channel ssh error: SSH session not active\n",
      "2024-02-08 16:24:46,519| ERROR   | Could not establish connection from local ('127.0.0.1', 3793) to remote ('insight-beta-article-db2.chmaiagjipqy.ap-south-1.docdb.amazonaws.com', 27017) side of the tunnel: open new channel ssh error: SSH session not active\n",
      "2024-02-08 16:24:56,685| ERROR   | Could not establish connection from local ('127.0.0.1', 3793) to remote ('insight-beta-article-db2.chmaiagjipqy.ap-south-1.docdb.amazonaws.com', 27017) side of the tunnel: open new channel ssh error: SSH session not active\n",
      "2024-02-08 16:25:06,818| ERROR   | Could not establish connection from local ('127.0.0.1', 3793) to remote ('insight-beta-article-db2.chmaiagjipqy.ap-south-1.docdb.amazonaws.com', 27017) side of the tunnel: open new channel ssh error: SSH session not active\n",
      "2024-02-08 16:25:16,967| ERROR   | Could not establish connection from local ('127.0.0.1', 3793) to remote ('insight-beta-article-db2.chmaiagjipqy.ap-south-1.docdb.amazonaws.com', 27017) side of the tunnel: open new channel ssh error: SSH session not active\n",
      "2024-02-08 16:25:27,125| ERROR   | Could not establish connection from local ('127.0.0.1', 3793) to remote ('insight-beta-article-db2.chmaiagjipqy.ap-south-1.docdb.amazonaws.com', 27017) side of the tunnel: open new channel ssh error: SSH session not active\n",
      "2024-02-08 16:25:37,285| ERROR   | Could not establish connection from local ('127.0.0.1', 3793) to remote ('insight-beta-article-db2.chmaiagjipqy.ap-south-1.docdb.amazonaws.com', 27017) side of the tunnel: open new channel ssh error: SSH session not active\n",
      "2024-02-08 16:25:47,399| ERROR   | Could not establish connection from local ('127.0.0.1', 3793) to remote ('insight-beta-article-db2.chmaiagjipqy.ap-south-1.docdb.amazonaws.com', 27017) side of the tunnel: open new channel ssh error: SSH session not active\n",
      "2024-02-08 16:25:57,550| ERROR   | Could not establish connection from local ('127.0.0.1', 3793) to remote ('insight-beta-article-db2.chmaiagjipqy.ap-south-1.docdb.amazonaws.com', 27017) side of the tunnel: open new channel ssh error: SSH session not active\n",
      "2024-02-08 16:26:07,682| ERROR   | Could not establish connection from local ('127.0.0.1', 3793) to remote ('insight-beta-article-db2.chmaiagjipqy.ap-south-1.docdb.amazonaws.com', 27017) side of the tunnel: open new channel ssh error: SSH session not active\n",
      "2024-02-08 16:26:17,822| ERROR   | Could not establish connection from local ('127.0.0.1', 3793) to remote ('insight-beta-article-db2.chmaiagjipqy.ap-south-1.docdb.amazonaws.com', 27017) side of the tunnel: open new channel ssh error: SSH session not active\n",
      "2024-02-08 16:26:27,955| ERROR   | Could not establish connection from local ('127.0.0.1', 3793) to remote ('insight-beta-article-db2.chmaiagjipqy.ap-south-1.docdb.amazonaws.com', 27017) side of the tunnel: open new channel ssh error: SSH session not active\n",
      "2024-02-08 16:26:38,061| ERROR   | Could not establish connection from local ('127.0.0.1', 3793) to remote ('insight-beta-article-db2.chmaiagjipqy.ap-south-1.docdb.amazonaws.com', 27017) side of the tunnel: open new channel ssh error: SSH session not active\n",
      "2024-02-08 16:26:48,211| ERROR   | Could not establish connection from local ('127.0.0.1', 3793) to remote ('insight-beta-article-db2.chmaiagjipqy.ap-south-1.docdb.amazonaws.com', 27017) side of the tunnel: open new channel ssh error: SSH session not active\n",
      "2024-02-08 16:26:58,342| ERROR   | Could not establish connection from local ('127.0.0.1', 3793) to remote ('insight-beta-article-db2.chmaiagjipqy.ap-south-1.docdb.amazonaws.com', 27017) side of the tunnel: open new channel ssh error: SSH session not active\n",
      "2024-02-08 16:27:08,466| ERROR   | Could not establish connection from local ('127.0.0.1', 3793) to remote ('insight-beta-article-db2.chmaiagjipqy.ap-south-1.docdb.amazonaws.com', 27017) side of the tunnel: open new channel ssh error: SSH session not active\n",
      "2024-02-08 16:27:18,596| ERROR   | Could not establish connection from local ('127.0.0.1', 3793) to remote ('insight-beta-article-db2.chmaiagjipqy.ap-south-1.docdb.amazonaws.com', 27017) side of the tunnel: open new channel ssh error: SSH session not active\n",
      "2024-02-08 16:27:28,739| ERROR   | Could not establish connection from local ('127.0.0.1', 3793) to remote ('insight-beta-article-db2.chmaiagjipqy.ap-south-1.docdb.amazonaws.com', 27017) side of the tunnel: open new channel ssh error: SSH session not active\n",
      "2024-02-08 16:27:38,874| ERROR   | Could not establish connection from local ('127.0.0.1', 3793) to remote ('insight-beta-article-db2.chmaiagjipqy.ap-south-1.docdb.amazonaws.com', 27017) side of the tunnel: open new channel ssh error: SSH session not active\n",
      "2024-02-08 16:27:48,987| ERROR   | Could not establish connection from local ('127.0.0.1', 3793) to remote ('insight-beta-article-db2.chmaiagjipqy.ap-south-1.docdb.amazonaws.com', 27017) side of the tunnel: open new channel ssh error: SSH session not active\n",
      "2024-02-08 16:27:59,112| ERROR   | Could not establish connection from local ('127.0.0.1', 3793) to remote ('insight-beta-article-db2.chmaiagjipqy.ap-south-1.docdb.amazonaws.com', 27017) side of the tunnel: open new channel ssh error: SSH session not active\n",
      "2024-02-08 16:28:09,256| ERROR   | Could not establish connection from local ('127.0.0.1', 3793) to remote ('insight-beta-article-db2.chmaiagjipqy.ap-south-1.docdb.amazonaws.com', 27017) side of the tunnel: open new channel ssh error: SSH session not active\n",
      "2024-02-08 16:28:19,403| ERROR   | Could not establish connection from local ('127.0.0.1', 3793) to remote ('insight-beta-article-db2.chmaiagjipqy.ap-south-1.docdb.amazonaws.com', 27017) side of the tunnel: open new channel ssh error: SSH session not active\n",
      "2024-02-08 16:28:29,547| ERROR   | Could not establish connection from local ('127.0.0.1', 3793) to remote ('insight-beta-article-db2.chmaiagjipqy.ap-south-1.docdb.amazonaws.com', 27017) side of the tunnel: open new channel ssh error: SSH session not active\n",
      "2024-02-08 16:28:39,662| ERROR   | Could not establish connection from local ('127.0.0.1', 3793) to remote ('insight-beta-article-db2.chmaiagjipqy.ap-south-1.docdb.amazonaws.com', 27017) side of the tunnel: open new channel ssh error: SSH session not active\n",
      "2024-02-08 16:28:49,809| ERROR   | Could not establish connection from local ('127.0.0.1', 3793) to remote ('insight-beta-article-db2.chmaiagjipqy.ap-south-1.docdb.amazonaws.com', 27017) side of the tunnel: open new channel ssh error: SSH session not active\n",
      "2024-02-08 16:28:59,949| ERROR   | Could not establish connection from local ('127.0.0.1', 3793) to remote ('insight-beta-article-db2.chmaiagjipqy.ap-south-1.docdb.amazonaws.com', 27017) side of the tunnel: open new channel ssh error: SSH session not active\n",
      "2024-02-08 16:29:10,081| ERROR   | Could not establish connection from local ('127.0.0.1', 3793) to remote ('insight-beta-article-db2.chmaiagjipqy.ap-south-1.docdb.amazonaws.com', 27017) side of the tunnel: open new channel ssh error: SSH session not active\n",
      "2024-02-08 16:29:20,217| ERROR   | Could not establish connection from local ('127.0.0.1', 3793) to remote ('insight-beta-article-db2.chmaiagjipqy.ap-south-1.docdb.amazonaws.com', 27017) side of the tunnel: open new channel ssh error: SSH session not active\n",
      "2024-02-08 16:29:30,346| ERROR   | Could not establish connection from local ('127.0.0.1', 3793) to remote ('insight-beta-article-db2.chmaiagjipqy.ap-south-1.docdb.amazonaws.com', 27017) side of the tunnel: open new channel ssh error: SSH session not active\n",
      "2024-02-08 16:29:40,490| ERROR   | Could not establish connection from local ('127.0.0.1', 3793) to remote ('insight-beta-article-db2.chmaiagjipqy.ap-south-1.docdb.amazonaws.com', 27017) side of the tunnel: open new channel ssh error: SSH session not active\n",
      "2024-02-08 16:29:50,633| ERROR   | Could not establish connection from local ('127.0.0.1', 3793) to remote ('insight-beta-article-db2.chmaiagjipqy.ap-south-1.docdb.amazonaws.com', 27017) side of the tunnel: open new channel ssh error: SSH session not active\n",
      "2024-02-08 16:30:00,788| ERROR   | Could not establish connection from local ('127.0.0.1', 3793) to remote ('insight-beta-article-db2.chmaiagjipqy.ap-south-1.docdb.amazonaws.com', 27017) side of the tunnel: open new channel ssh error: SSH session not active\n",
      "2024-02-08 16:30:10,921| ERROR   | Could not establish connection from local ('127.0.0.1', 3793) to remote ('insight-beta-article-db2.chmaiagjipqy.ap-south-1.docdb.amazonaws.com', 27017) side of the tunnel: open new channel ssh error: SSH session not active\n",
      "2024-02-08 16:30:21,072| ERROR   | Could not establish connection from local ('127.0.0.1', 3793) to remote ('insight-beta-article-db2.chmaiagjipqy.ap-south-1.docdb.amazonaws.com', 27017) side of the tunnel: open new channel ssh error: SSH session not active\n",
      "2024-02-08 16:30:31,203| ERROR   | Could not establish connection from local ('127.0.0.1', 3793) to remote ('insight-beta-article-db2.chmaiagjipqy.ap-south-1.docdb.amazonaws.com', 27017) side of the tunnel: open new channel ssh error: SSH session not active\n",
      "2024-02-08 16:30:41,316| ERROR   | Could not establish connection from local ('127.0.0.1', 3793) to remote ('insight-beta-article-db2.chmaiagjipqy.ap-south-1.docdb.amazonaws.com', 27017) side of the tunnel: open new channel ssh error: SSH session not active\n",
      "2024-02-08 16:30:51,457| ERROR   | Could not establish connection from local ('127.0.0.1', 3793) to remote ('insight-beta-article-db2.chmaiagjipqy.ap-south-1.docdb.amazonaws.com', 27017) side of the tunnel: open new channel ssh error: SSH session not active\n",
      "2024-02-08 16:31:01,612| ERROR   | Could not establish connection from local ('127.0.0.1', 3793) to remote ('insight-beta-article-db2.chmaiagjipqy.ap-south-1.docdb.amazonaws.com', 27017) side of the tunnel: open new channel ssh error: SSH session not active\n",
      "2024-02-08 16:31:11,752| ERROR   | Could not establish connection from local ('127.0.0.1', 3793) to remote ('insight-beta-article-db2.chmaiagjipqy.ap-south-1.docdb.amazonaws.com', 27017) side of the tunnel: open new channel ssh error: SSH session not active\n",
      "2024-02-08 16:31:21,903| ERROR   | Could not establish connection from local ('127.0.0.1', 3793) to remote ('insight-beta-article-db2.chmaiagjipqy.ap-south-1.docdb.amazonaws.com', 27017) side of the tunnel: open new channel ssh error: SSH session not active\n",
      "2024-02-08 16:31:32,056| ERROR   | Could not establish connection from local ('127.0.0.1', 3793) to remote ('insight-beta-article-db2.chmaiagjipqy.ap-south-1.docdb.amazonaws.com', 27017) side of the tunnel: open new channel ssh error: SSH session not active\n",
      "2024-02-08 16:31:42,203| ERROR   | Could not establish connection from local ('127.0.0.1', 3793) to remote ('insight-beta-article-db2.chmaiagjipqy.ap-south-1.docdb.amazonaws.com', 27017) side of the tunnel: open new channel ssh error: SSH session not active\n",
      "2024-02-08 16:31:52,343| ERROR   | Could not establish connection from local ('127.0.0.1', 3793) to remote ('insight-beta-article-db2.chmaiagjipqy.ap-south-1.docdb.amazonaws.com', 27017) side of the tunnel: open new channel ssh error: SSH session not active\n",
      "2024-02-08 16:32:02,478| ERROR   | Could not establish connection from local ('127.0.0.1', 3793) to remote ('insight-beta-article-db2.chmaiagjipqy.ap-south-1.docdb.amazonaws.com', 27017) side of the tunnel: open new channel ssh error: SSH session not active\n",
      "2024-02-08 16:32:12,625| ERROR   | Could not establish connection from local ('127.0.0.1', 3793) to remote ('insight-beta-article-db2.chmaiagjipqy.ap-south-1.docdb.amazonaws.com', 27017) side of the tunnel: open new channel ssh error: SSH session not active\n",
      "2024-02-08 16:32:22,730| ERROR   | Could not establish connection from local ('127.0.0.1', 3793) to remote ('insight-beta-article-db2.chmaiagjipqy.ap-south-1.docdb.amazonaws.com', 27017) side of the tunnel: open new channel ssh error: SSH session not active\n",
      "2024-02-08 16:32:32,871| ERROR   | Could not establish connection from local ('127.0.0.1', 3793) to remote ('insight-beta-article-db2.chmaiagjipqy.ap-south-1.docdb.amazonaws.com', 27017) side of the tunnel: open new channel ssh error: SSH session not active\n",
      "2024-02-08 16:32:43,013| ERROR   | Could not establish connection from local ('127.0.0.1', 3793) to remote ('insight-beta-article-db2.chmaiagjipqy.ap-south-1.docdb.amazonaws.com', 27017) side of the tunnel: open new channel ssh error: SSH session not active\n",
      "2024-02-08 16:32:53,158| ERROR   | Could not establish connection from local ('127.0.0.1', 3793) to remote ('insight-beta-article-db2.chmaiagjipqy.ap-south-1.docdb.amazonaws.com', 27017) side of the tunnel: open new channel ssh error: SSH session not active\n",
      "2024-02-08 16:33:03,306| ERROR   | Could not establish connection from local ('127.0.0.1', 3793) to remote ('insight-beta-article-db2.chmaiagjipqy.ap-south-1.docdb.amazonaws.com', 27017) side of the tunnel: open new channel ssh error: SSH session not active\n",
      "2024-02-08 16:33:13,443| ERROR   | Could not establish connection from local ('127.0.0.1', 3793) to remote ('insight-beta-article-db2.chmaiagjipqy.ap-south-1.docdb.amazonaws.com', 27017) side of the tunnel: open new channel ssh error: SSH session not active\n",
      "2024-02-08 16:33:23,568| ERROR   | Could not establish connection from local ('127.0.0.1', 3793) to remote ('insight-beta-article-db2.chmaiagjipqy.ap-south-1.docdb.amazonaws.com', 27017) side of the tunnel: open new channel ssh error: SSH session not active\n",
      "2024-02-08 16:33:33,691| ERROR   | Could not establish connection from local ('127.0.0.1', 3793) to remote ('insight-beta-article-db2.chmaiagjipqy.ap-south-1.docdb.amazonaws.com', 27017) side of the tunnel: open new channel ssh error: SSH session not active\n",
      "2024-02-08 16:33:43,806| ERROR   | Could not establish connection from local ('127.0.0.1', 3793) to remote ('insight-beta-article-db2.chmaiagjipqy.ap-south-1.docdb.amazonaws.com', 27017) side of the tunnel: open new channel ssh error: SSH session not active\n",
      "2024-02-08 16:33:53,934| ERROR   | Could not establish connection from local ('127.0.0.1', 3793) to remote ('insight-beta-article-db2.chmaiagjipqy.ap-south-1.docdb.amazonaws.com', 27017) side of the tunnel: open new channel ssh error: SSH session not active\n",
      "2024-02-08 16:34:04,072| ERROR   | Could not establish connection from local ('127.0.0.1', 3793) to remote ('insight-beta-article-db2.chmaiagjipqy.ap-south-1.docdb.amazonaws.com', 27017) side of the tunnel: open new channel ssh error: SSH session not active\n",
      "2024-02-08 16:34:14,223| ERROR   | Could not establish connection from local ('127.0.0.1', 3793) to remote ('insight-beta-article-db2.chmaiagjipqy.ap-south-1.docdb.amazonaws.com', 27017) side of the tunnel: open new channel ssh error: SSH session not active\n",
      "2024-02-08 16:34:24,353| ERROR   | Could not establish connection from local ('127.0.0.1', 3793) to remote ('insight-beta-article-db2.chmaiagjipqy.ap-south-1.docdb.amazonaws.com', 27017) side of the tunnel: open new channel ssh error: SSH session not active\n",
      "2024-02-08 16:34:34,513| ERROR   | Could not establish connection from local ('127.0.0.1', 3793) to remote ('insight-beta-article-db2.chmaiagjipqy.ap-south-1.docdb.amazonaws.com', 27017) side of the tunnel: open new channel ssh error: SSH session not active\n",
      "2024-02-08 16:34:44,620| ERROR   | Could not establish connection from local ('127.0.0.1', 3793) to remote ('insight-beta-article-db2.chmaiagjipqy.ap-south-1.docdb.amazonaws.com', 27017) side of the tunnel: open new channel ssh error: SSH session not active\n",
      "2024-02-08 16:34:54,748| ERROR   | Could not establish connection from local ('127.0.0.1', 3793) to remote ('insight-beta-article-db2.chmaiagjipqy.ap-south-1.docdb.amazonaws.com', 27017) side of the tunnel: open new channel ssh error: SSH session not active\n",
      "2024-02-08 16:35:04,901| ERROR   | Could not establish connection from local ('127.0.0.1', 3793) to remote ('insight-beta-article-db2.chmaiagjipqy.ap-south-1.docdb.amazonaws.com', 27017) side of the tunnel: open new channel ssh error: SSH session not active\n",
      "2024-02-08 16:35:15,015| ERROR   | Could not establish connection from local ('127.0.0.1', 3793) to remote ('insight-beta-article-db2.chmaiagjipqy.ap-south-1.docdb.amazonaws.com', 27017) side of the tunnel: open new channel ssh error: SSH session not active\n",
      "2024-02-08 16:35:25,159| ERROR   | Could not establish connection from local ('127.0.0.1', 3793) to remote ('insight-beta-article-db2.chmaiagjipqy.ap-south-1.docdb.amazonaws.com', 27017) side of the tunnel: open new channel ssh error: SSH session not active\n",
      "2024-02-08 16:35:35,304| ERROR   | Could not establish connection from local ('127.0.0.1', 3793) to remote ('insight-beta-article-db2.chmaiagjipqy.ap-south-1.docdb.amazonaws.com', 27017) side of the tunnel: open new channel ssh error: SSH session not active\n",
      "2024-02-08 16:35:45,451| ERROR   | Could not establish connection from local ('127.0.0.1', 3793) to remote ('insight-beta-article-db2.chmaiagjipqy.ap-south-1.docdb.amazonaws.com', 27017) side of the tunnel: open new channel ssh error: SSH session not active\n",
      "2024-02-08 16:35:55,603| ERROR   | Could not establish connection from local ('127.0.0.1', 3793) to remote ('insight-beta-article-db2.chmaiagjipqy.ap-south-1.docdb.amazonaws.com', 27017) side of the tunnel: open new channel ssh error: SSH session not active\n",
      "2024-02-08 16:36:05,729| ERROR   | Could not establish connection from local ('127.0.0.1', 3793) to remote ('insight-beta-article-db2.chmaiagjipqy.ap-south-1.docdb.amazonaws.com', 27017) side of the tunnel: open new channel ssh error: SSH session not active\n",
      "2024-02-08 16:36:15,868| ERROR   | Could not establish connection from local ('127.0.0.1', 3793) to remote ('insight-beta-article-db2.chmaiagjipqy.ap-south-1.docdb.amazonaws.com', 27017) side of the tunnel: open new channel ssh error: SSH session not active\n",
      "2024-02-08 16:36:26,010| ERROR   | Could not establish connection from local ('127.0.0.1', 3793) to remote ('insight-beta-article-db2.chmaiagjipqy.ap-south-1.docdb.amazonaws.com', 27017) side of the tunnel: open new channel ssh error: SSH session not active\n",
      "2024-02-08 16:36:36,153| ERROR   | Could not establish connection from local ('127.0.0.1', 3793) to remote ('insight-beta-article-db2.chmaiagjipqy.ap-south-1.docdb.amazonaws.com', 27017) side of the tunnel: open new channel ssh error: SSH session not active\n",
      "2024-02-08 16:36:46,288| ERROR   | Could not establish connection from local ('127.0.0.1', 3793) to remote ('insight-beta-article-db2.chmaiagjipqy.ap-south-1.docdb.amazonaws.com', 27017) side of the tunnel: open new channel ssh error: SSH session not active\n",
      "2024-02-08 16:36:56,441| ERROR   | Could not establish connection from local ('127.0.0.1', 3793) to remote ('insight-beta-article-db2.chmaiagjipqy.ap-south-1.docdb.amazonaws.com', 27017) side of the tunnel: open new channel ssh error: SSH session not active\n",
      "2024-02-08 16:37:06,565| ERROR   | Could not establish connection from local ('127.0.0.1', 3793) to remote ('insight-beta-article-db2.chmaiagjipqy.ap-south-1.docdb.amazonaws.com', 27017) side of the tunnel: open new channel ssh error: SSH session not active\n",
      "2024-02-08 16:37:16,718| ERROR   | Could not establish connection from local ('127.0.0.1', 3793) to remote ('insight-beta-article-db2.chmaiagjipqy.ap-south-1.docdb.amazonaws.com', 27017) side of the tunnel: open new channel ssh error: SSH session not active\n",
      "2024-02-08 16:37:26,836| ERROR   | Could not establish connection from local ('127.0.0.1', 3793) to remote ('insight-beta-article-db2.chmaiagjipqy.ap-south-1.docdb.amazonaws.com', 27017) side of the tunnel: open new channel ssh error: SSH session not active\n",
      "2024-02-08 16:37:37,001| ERROR   | Could not establish connection from local ('127.0.0.1', 3793) to remote ('insight-beta-article-db2.chmaiagjipqy.ap-south-1.docdb.amazonaws.com', 27017) side of the tunnel: open new channel ssh error: SSH session not active\n",
      "2024-02-08 16:37:47,130| ERROR   | Could not establish connection from local ('127.0.0.1', 3793) to remote ('insight-beta-article-db2.chmaiagjipqy.ap-south-1.docdb.amazonaws.com', 27017) side of the tunnel: open new channel ssh error: SSH session not active\n",
      "2024-02-08 16:37:57,286| ERROR   | Could not establish connection from local ('127.0.0.1', 3793) to remote ('insight-beta-article-db2.chmaiagjipqy.ap-south-1.docdb.amazonaws.com', 27017) side of the tunnel: open new channel ssh error: SSH session not active\n",
      "2024-02-08 16:38:07,427| ERROR   | Could not establish connection from local ('127.0.0.1', 3793) to remote ('insight-beta-article-db2.chmaiagjipqy.ap-south-1.docdb.amazonaws.com', 27017) side of the tunnel: open new channel ssh error: SSH session not active\n",
      "2024-02-08 16:38:17,555| ERROR   | Could not establish connection from local ('127.0.0.1', 3793) to remote ('insight-beta-article-db2.chmaiagjipqy.ap-south-1.docdb.amazonaws.com', 27017) side of the tunnel: open new channel ssh error: SSH session not active\n",
      "2024-02-08 16:38:27,689| ERROR   | Could not establish connection from local ('127.0.0.1', 3793) to remote ('insight-beta-article-db2.chmaiagjipqy.ap-south-1.docdb.amazonaws.com', 27017) side of the tunnel: open new channel ssh error: SSH session not active\n",
      "2024-02-08 16:38:37,814| ERROR   | Could not establish connection from local ('127.0.0.1', 3793) to remote ('insight-beta-article-db2.chmaiagjipqy.ap-south-1.docdb.amazonaws.com', 27017) side of the tunnel: open new channel ssh error: SSH session not active\n",
      "2024-02-08 16:38:47,911| ERROR   | Could not establish connection from local ('127.0.0.1', 3793) to remote ('insight-beta-article-db2.chmaiagjipqy.ap-south-1.docdb.amazonaws.com', 27017) side of the tunnel: open new channel ssh error: SSH session not active\n",
      "2024-02-08 16:38:57,984| ERROR   | Could not establish connection from local ('127.0.0.1', 3793) to remote ('insight-beta-article-db2.chmaiagjipqy.ap-south-1.docdb.amazonaws.com', 27017) side of the tunnel: open new channel ssh error: SSH session not active\n",
      "2024-02-08 16:39:08,065| ERROR   | Could not establish connection from local ('127.0.0.1', 3793) to remote ('insight-beta-article-db2.chmaiagjipqy.ap-south-1.docdb.amazonaws.com', 27017) side of the tunnel: open new channel ssh error: SSH session not active\n",
      "2024-02-08 16:39:18,191| ERROR   | Could not establish connection from local ('127.0.0.1', 3793) to remote ('insight-beta-article-db2.chmaiagjipqy.ap-south-1.docdb.amazonaws.com', 27017) side of the tunnel: open new channel ssh error: SSH session not active\n",
      "2024-02-08 16:39:28,328| ERROR   | Could not establish connection from local ('127.0.0.1', 3793) to remote ('insight-beta-article-db2.chmaiagjipqy.ap-south-1.docdb.amazonaws.com', 27017) side of the tunnel: open new channel ssh error: SSH session not active\n",
      "2024-02-08 16:39:38,461| ERROR   | Could not establish connection from local ('127.0.0.1', 3793) to remote ('insight-beta-article-db2.chmaiagjipqy.ap-south-1.docdb.amazonaws.com', 27017) side of the tunnel: open new channel ssh error: SSH session not active\n",
      "2024-02-08 16:39:48,576| ERROR   | Could not establish connection from local ('127.0.0.1', 3793) to remote ('insight-beta-article-db2.chmaiagjipqy.ap-south-1.docdb.amazonaws.com', 27017) side of the tunnel: open new channel ssh error: SSH session not active\n",
      "2024-02-08 16:39:58,733| ERROR   | Could not establish connection from local ('127.0.0.1', 3793) to remote ('insight-beta-article-db2.chmaiagjipqy.ap-south-1.docdb.amazonaws.com', 27017) side of the tunnel: open new channel ssh error: SSH session not active\n",
      "2024-02-08 16:40:08,855| ERROR   | Could not establish connection from local ('127.0.0.1', 3793) to remote ('insight-beta-article-db2.chmaiagjipqy.ap-south-1.docdb.amazonaws.com', 27017) side of the tunnel: open new channel ssh error: SSH session not active\n",
      "2024-02-08 16:40:18,983| ERROR   | Could not establish connection from local ('127.0.0.1', 3793) to remote ('insight-beta-article-db2.chmaiagjipqy.ap-south-1.docdb.amazonaws.com', 27017) side of the tunnel: open new channel ssh error: SSH session not active\n",
      "2024-02-08 16:40:29,136| ERROR   | Could not establish connection from local ('127.0.0.1', 3793) to remote ('insight-beta-article-db2.chmaiagjipqy.ap-south-1.docdb.amazonaws.com', 27017) side of the tunnel: open new channel ssh error: SSH session not active\n",
      "2024-02-08 16:40:39,284| ERROR   | Could not establish connection from local ('127.0.0.1', 3793) to remote ('insight-beta-article-db2.chmaiagjipqy.ap-south-1.docdb.amazonaws.com', 27017) side of the tunnel: open new channel ssh error: SSH session not active\n",
      "2024-02-08 16:40:49,393| ERROR   | Could not establish connection from local ('127.0.0.1', 3793) to remote ('insight-beta-article-db2.chmaiagjipqy.ap-south-1.docdb.amazonaws.com', 27017) side of the tunnel: open new channel ssh error: SSH session not active\n",
      "2024-02-08 16:40:59,525| ERROR   | Could not establish connection from local ('127.0.0.1', 3793) to remote ('insight-beta-article-db2.chmaiagjipqy.ap-south-1.docdb.amazonaws.com', 27017) side of the tunnel: open new channel ssh error: SSH session not active\n",
      "2024-02-08 16:41:09,675| ERROR   | Could not establish connection from local ('127.0.0.1', 3793) to remote ('insight-beta-article-db2.chmaiagjipqy.ap-south-1.docdb.amazonaws.com', 27017) side of the tunnel: open new channel ssh error: SSH session not active\n",
      "2024-02-08 16:41:19,819| ERROR   | Could not establish connection from local ('127.0.0.1', 3793) to remote ('insight-beta-article-db2.chmaiagjipqy.ap-south-1.docdb.amazonaws.com', 27017) side of the tunnel: open new channel ssh error: SSH session not active\n",
      "2024-02-08 16:41:29,931| ERROR   | Could not establish connection from local ('127.0.0.1', 3793) to remote ('insight-beta-article-db2.chmaiagjipqy.ap-south-1.docdb.amazonaws.com', 27017) side of the tunnel: open new channel ssh error: SSH session not active\n",
      "2024-02-08 16:41:40,058| ERROR   | Could not establish connection from local ('127.0.0.1', 3793) to remote ('insight-beta-article-db2.chmaiagjipqy.ap-south-1.docdb.amazonaws.com', 27017) side of the tunnel: open new channel ssh error: SSH session not active\n",
      "2024-02-08 16:41:50,210| ERROR   | Could not establish connection from local ('127.0.0.1', 3793) to remote ('insight-beta-article-db2.chmaiagjipqy.ap-south-1.docdb.amazonaws.com', 27017) side of the tunnel: open new channel ssh error: SSH session not active\n",
      "2024-02-08 16:42:00,370| ERROR   | Could not establish connection from local ('127.0.0.1', 3793) to remote ('insight-beta-article-db2.chmaiagjipqy.ap-south-1.docdb.amazonaws.com', 27017) side of the tunnel: open new channel ssh error: SSH session not active\n",
      "2024-02-08 16:42:10,494| ERROR   | Could not establish connection from local ('127.0.0.1', 3793) to remote ('insight-beta-article-db2.chmaiagjipqy.ap-south-1.docdb.amazonaws.com', 27017) side of the tunnel: open new channel ssh error: SSH session not active\n",
      "2024-02-08 16:42:20,631| ERROR   | Could not establish connection from local ('127.0.0.1', 3793) to remote ('insight-beta-article-db2.chmaiagjipqy.ap-south-1.docdb.amazonaws.com', 27017) side of the tunnel: open new channel ssh error: SSH session not active\n",
      "2024-02-08 16:42:30,759| ERROR   | Could not establish connection from local ('127.0.0.1', 3793) to remote ('insight-beta-article-db2.chmaiagjipqy.ap-south-1.docdb.amazonaws.com', 27017) side of the tunnel: open new channel ssh error: SSH session not active\n",
      "2024-02-08 16:42:40,918| ERROR   | Could not establish connection from local ('127.0.0.1', 3793) to remote ('insight-beta-article-db2.chmaiagjipqy.ap-south-1.docdb.amazonaws.com', 27017) side of the tunnel: open new channel ssh error: SSH session not active\n",
      "2024-02-08 16:42:51,071| ERROR   | Could not establish connection from local ('127.0.0.1', 3793) to remote ('insight-beta-article-db2.chmaiagjipqy.ap-south-1.docdb.amazonaws.com', 27017) side of the tunnel: open new channel ssh error: SSH session not active\n",
      "2024-02-08 16:43:01,215| ERROR   | Could not establish connection from local ('127.0.0.1', 3793) to remote ('insight-beta-article-db2.chmaiagjipqy.ap-south-1.docdb.amazonaws.com', 27017) side of the tunnel: open new channel ssh error: SSH session not active\n",
      "2024-02-08 16:43:11,339| ERROR   | Could not establish connection from local ('127.0.0.1', 3793) to remote ('insight-beta-article-db2.chmaiagjipqy.ap-south-1.docdb.amazonaws.com', 27017) side of the tunnel: open new channel ssh error: SSH session not active\n",
      "2024-02-08 16:43:21,492| ERROR   | Could not establish connection from local ('127.0.0.1', 3793) to remote ('insight-beta-article-db2.chmaiagjipqy.ap-south-1.docdb.amazonaws.com', 27017) side of the tunnel: open new channel ssh error: SSH session not active\n",
      "2024-02-08 16:43:31,626| ERROR   | Could not establish connection from local ('127.0.0.1', 3793) to remote ('insight-beta-article-db2.chmaiagjipqy.ap-south-1.docdb.amazonaws.com', 27017) side of the tunnel: open new channel ssh error: SSH session not active\n",
      "2024-02-08 16:43:41,743| ERROR   | Could not establish connection from local ('127.0.0.1', 3793) to remote ('insight-beta-article-db2.chmaiagjipqy.ap-south-1.docdb.amazonaws.com', 27017) side of the tunnel: open new channel ssh error: SSH session not active\n",
      "2024-02-08 16:43:51,861| ERROR   | Could not establish connection from local ('127.0.0.1', 3793) to remote ('insight-beta-article-db2.chmaiagjipqy.ap-south-1.docdb.amazonaws.com', 27017) side of the tunnel: open new channel ssh error: SSH session not active\n",
      "2024-02-08 16:44:01,999| ERROR   | Could not establish connection from local ('127.0.0.1', 3793) to remote ('insight-beta-article-db2.chmaiagjipqy.ap-south-1.docdb.amazonaws.com', 27017) side of the tunnel: open new channel ssh error: SSH session not active\n",
      "2024-02-08 16:44:12,167| ERROR   | Could not establish connection from local ('127.0.0.1', 3793) to remote ('insight-beta-article-db2.chmaiagjipqy.ap-south-1.docdb.amazonaws.com', 27017) side of the tunnel: open new channel ssh error: SSH session not active\n",
      "2024-02-08 16:44:22,315| ERROR   | Could not establish connection from local ('127.0.0.1', 3793) to remote ('insight-beta-article-db2.chmaiagjipqy.ap-south-1.docdb.amazonaws.com', 27017) side of the tunnel: open new channel ssh error: SSH session not active\n",
      "2024-02-08 16:44:32,448| ERROR   | Could not establish connection from local ('127.0.0.1', 3793) to remote ('insight-beta-article-db2.chmaiagjipqy.ap-south-1.docdb.amazonaws.com', 27017) side of the tunnel: open new channel ssh error: SSH session not active\n",
      "2024-02-08 16:44:42,588| ERROR   | Could not establish connection from local ('127.0.0.1', 3793) to remote ('insight-beta-article-db2.chmaiagjipqy.ap-south-1.docdb.amazonaws.com', 27017) side of the tunnel: open new channel ssh error: SSH session not active\n",
      "2024-02-08 16:44:52,731| ERROR   | Could not establish connection from local ('127.0.0.1', 3793) to remote ('insight-beta-article-db2.chmaiagjipqy.ap-south-1.docdb.amazonaws.com', 27017) side of the tunnel: open new channel ssh error: SSH session not active\n",
      "2024-02-08 16:45:02,833| ERROR   | Could not establish connection from local ('127.0.0.1', 3793) to remote ('insight-beta-article-db2.chmaiagjipqy.ap-south-1.docdb.amazonaws.com', 27017) side of the tunnel: open new channel ssh error: SSH session not active\n",
      "2024-02-08 16:45:12,981| ERROR   | Could not establish connection from local ('127.0.0.1', 3793) to remote ('insight-beta-article-db2.chmaiagjipqy.ap-south-1.docdb.amazonaws.com', 27017) side of the tunnel: open new channel ssh error: SSH session not active\n",
      "2024-02-08 16:45:23,088| ERROR   | Could not establish connection from local ('127.0.0.1', 3793) to remote ('insight-beta-article-db2.chmaiagjipqy.ap-south-1.docdb.amazonaws.com', 27017) side of the tunnel: open new channel ssh error: SSH session not active\n",
      "2024-02-08 16:45:33,219| ERROR   | Could not establish connection from local ('127.0.0.1', 3793) to remote ('insight-beta-article-db2.chmaiagjipqy.ap-south-1.docdb.amazonaws.com', 27017) side of the tunnel: open new channel ssh error: SSH session not active\n",
      "2024-02-08 16:45:43,324| ERROR   | Could not establish connection from local ('127.0.0.1', 3793) to remote ('insight-beta-article-db2.chmaiagjipqy.ap-south-1.docdb.amazonaws.com', 27017) side of the tunnel: open new channel ssh error: SSH session not active\n",
      "2024-02-08 16:45:53,462| ERROR   | Could not establish connection from local ('127.0.0.1', 3793) to remote ('insight-beta-article-db2.chmaiagjipqy.ap-south-1.docdb.amazonaws.com', 27017) side of the tunnel: open new channel ssh error: SSH session not active\n",
      "2024-02-08 16:46:03,595| ERROR   | Could not establish connection from local ('127.0.0.1', 3793) to remote ('insight-beta-article-db2.chmaiagjipqy.ap-south-1.docdb.amazonaws.com', 27017) side of the tunnel: open new channel ssh error: SSH session not active\n",
      "2024-02-08 16:46:13,742| ERROR   | Could not establish connection from local ('127.0.0.1', 3793) to remote ('insight-beta-article-db2.chmaiagjipqy.ap-south-1.docdb.amazonaws.com', 27017) side of the tunnel: open new channel ssh error: SSH session not active\n",
      "2024-02-08 16:46:23,890| ERROR   | Could not establish connection from local ('127.0.0.1', 3793) to remote ('insight-beta-article-db2.chmaiagjipqy.ap-south-1.docdb.amazonaws.com', 27017) side of the tunnel: open new channel ssh error: SSH session not active\n",
      "2024-02-08 16:46:34,031| ERROR   | Could not establish connection from local ('127.0.0.1', 3793) to remote ('insight-beta-article-db2.chmaiagjipqy.ap-south-1.docdb.amazonaws.com', 27017) side of the tunnel: open new channel ssh error: SSH session not active\n",
      "2024-02-08 16:46:44,187| ERROR   | Could not establish connection from local ('127.0.0.1', 3793) to remote ('insight-beta-article-db2.chmaiagjipqy.ap-south-1.docdb.amazonaws.com', 27017) side of the tunnel: open new channel ssh error: SSH session not active\n",
      "2024-02-08 16:46:54,320| ERROR   | Could not establish connection from local ('127.0.0.1', 3793) to remote ('insight-beta-article-db2.chmaiagjipqy.ap-south-1.docdb.amazonaws.com', 27017) side of the tunnel: open new channel ssh error: SSH session not active\n",
      "2024-02-08 16:47:04,466| ERROR   | Could not establish connection from local ('127.0.0.1', 3793) to remote ('insight-beta-article-db2.chmaiagjipqy.ap-south-1.docdb.amazonaws.com', 27017) side of the tunnel: open new channel ssh error: SSH session not active\n",
      "2024-02-08 16:47:14,608| ERROR   | Could not establish connection from local ('127.0.0.1', 3793) to remote ('insight-beta-article-db2.chmaiagjipqy.ap-south-1.docdb.amazonaws.com', 27017) side of the tunnel: open new channel ssh error: SSH session not active\n",
      "2024-02-08 16:47:24,754| ERROR   | Could not establish connection from local ('127.0.0.1', 3793) to remote ('insight-beta-article-db2.chmaiagjipqy.ap-south-1.docdb.amazonaws.com', 27017) side of the tunnel: open new channel ssh error: SSH session not active\n",
      "2024-02-08 16:47:34,890| ERROR   | Could not establish connection from local ('127.0.0.1', 3793) to remote ('insight-beta-article-db2.chmaiagjipqy.ap-south-1.docdb.amazonaws.com', 27017) side of the tunnel: open new channel ssh error: SSH session not active\n",
      "2024-02-08 16:47:45,042| ERROR   | Could not establish connection from local ('127.0.0.1', 3793) to remote ('insight-beta-article-db2.chmaiagjipqy.ap-south-1.docdb.amazonaws.com', 27017) side of the tunnel: open new channel ssh error: SSH session not active\n",
      "2024-02-08 16:47:55,192| ERROR   | Could not establish connection from local ('127.0.0.1', 3793) to remote ('insight-beta-article-db2.chmaiagjipqy.ap-south-1.docdb.amazonaws.com', 27017) side of the tunnel: open new channel ssh error: SSH session not active\n",
      "2024-02-08 16:48:05,330| ERROR   | Could not establish connection from local ('127.0.0.1', 3793) to remote ('insight-beta-article-db2.chmaiagjipqy.ap-south-1.docdb.amazonaws.com', 27017) side of the tunnel: open new channel ssh error: SSH session not active\n",
      "2024-02-08 16:48:15,457| ERROR   | Could not establish connection from local ('127.0.0.1', 3793) to remote ('insight-beta-article-db2.chmaiagjipqy.ap-south-1.docdb.amazonaws.com', 27017) side of the tunnel: open new channel ssh error: SSH session not active\n",
      "2024-02-08 16:48:25,600| ERROR   | Could not establish connection from local ('127.0.0.1', 3793) to remote ('insight-beta-article-db2.chmaiagjipqy.ap-south-1.docdb.amazonaws.com', 27017) side of the tunnel: open new channel ssh error: SSH session not active\n",
      "2024-02-08 16:48:35,721| ERROR   | Could not establish connection from local ('127.0.0.1', 3793) to remote ('insight-beta-article-db2.chmaiagjipqy.ap-south-1.docdb.amazonaws.com', 27017) side of the tunnel: open new channel ssh error: SSH session not active\n",
      "2024-02-08 16:48:45,836| ERROR   | Could not establish connection from local ('127.0.0.1', 3793) to remote ('insight-beta-article-db2.chmaiagjipqy.ap-south-1.docdb.amazonaws.com', 27017) side of the tunnel: open new channel ssh error: SSH session not active\n",
      "2024-02-08 16:48:55,972| ERROR   | Could not establish connection from local ('127.0.0.1', 3793) to remote ('insight-beta-article-db2.chmaiagjipqy.ap-south-1.docdb.amazonaws.com', 27017) side of the tunnel: open new channel ssh error: SSH session not active\n",
      "2024-02-08 16:49:06,104| ERROR   | Could not establish connection from local ('127.0.0.1', 3793) to remote ('insight-beta-article-db2.chmaiagjipqy.ap-south-1.docdb.amazonaws.com', 27017) side of the tunnel: open new channel ssh error: SSH session not active\n",
      "2024-02-08 16:49:16,241| ERROR   | Could not establish connection from local ('127.0.0.1', 3793) to remote ('insight-beta-article-db2.chmaiagjipqy.ap-south-1.docdb.amazonaws.com', 27017) side of the tunnel: open new channel ssh error: SSH session not active\n",
      "2024-02-08 16:49:26,371| ERROR   | Could not establish connection from local ('127.0.0.1', 3793) to remote ('insight-beta-article-db2.chmaiagjipqy.ap-south-1.docdb.amazonaws.com', 27017) side of the tunnel: open new channel ssh error: SSH session not active\n",
      "2024-02-08 16:49:36,523| ERROR   | Could not establish connection from local ('127.0.0.1', 3793) to remote ('insight-beta-article-db2.chmaiagjipqy.ap-south-1.docdb.amazonaws.com', 27017) side of the tunnel: open new channel ssh error: SSH session not active\n",
      "2024-02-08 16:49:46,671| ERROR   | Could not establish connection from local ('127.0.0.1', 3793) to remote ('insight-beta-article-db2.chmaiagjipqy.ap-south-1.docdb.amazonaws.com', 27017) side of the tunnel: open new channel ssh error: SSH session not active\n",
      "2024-02-08 16:49:56,793| ERROR   | Could not establish connection from local ('127.0.0.1', 3793) to remote ('insight-beta-article-db2.chmaiagjipqy.ap-south-1.docdb.amazonaws.com', 27017) side of the tunnel: open new channel ssh error: SSH session not active\n",
      "2024-02-08 16:50:06,950| ERROR   | Could not establish connection from local ('127.0.0.1', 3793) to remote ('insight-beta-article-db2.chmaiagjipqy.ap-south-1.docdb.amazonaws.com', 27017) side of the tunnel: open new channel ssh error: SSH session not active\n",
      "2024-02-08 16:50:17,099| ERROR   | Could not establish connection from local ('127.0.0.1', 3793) to remote ('insight-beta-article-db2.chmaiagjipqy.ap-south-1.docdb.amazonaws.com', 27017) side of the tunnel: open new channel ssh error: SSH session not active\n",
      "2024-02-08 16:50:27,229| ERROR   | Could not establish connection from local ('127.0.0.1', 3793) to remote ('insight-beta-article-db2.chmaiagjipqy.ap-south-1.docdb.amazonaws.com', 27017) side of the tunnel: open new channel ssh error: SSH session not active\n",
      "2024-02-08 16:50:37,369| ERROR   | Could not establish connection from local ('127.0.0.1', 3793) to remote ('insight-beta-article-db2.chmaiagjipqy.ap-south-1.docdb.amazonaws.com', 27017) side of the tunnel: open new channel ssh error: SSH session not active\n",
      "2024-02-08 16:50:47,489| ERROR   | Could not establish connection from local ('127.0.0.1', 3793) to remote ('insight-beta-article-db2.chmaiagjipqy.ap-south-1.docdb.amazonaws.com', 27017) side of the tunnel: open new channel ssh error: SSH session not active\n",
      "2024-02-08 16:50:57,625| ERROR   | Could not establish connection from local ('127.0.0.1', 3793) to remote ('insight-beta-article-db2.chmaiagjipqy.ap-south-1.docdb.amazonaws.com', 27017) side of the tunnel: open new channel ssh error: SSH session not active\n",
      "2024-02-08 16:51:07,736| ERROR   | Could not establish connection from local ('127.0.0.1', 3793) to remote ('insight-beta-article-db2.chmaiagjipqy.ap-south-1.docdb.amazonaws.com', 27017) side of the tunnel: open new channel ssh error: SSH session not active\n",
      "2024-02-08 16:51:17,885| ERROR   | Could not establish connection from local ('127.0.0.1', 3793) to remote ('insight-beta-article-db2.chmaiagjipqy.ap-south-1.docdb.amazonaws.com', 27017) side of the tunnel: open new channel ssh error: SSH session not active\n",
      "2024-02-08 16:51:28,039| ERROR   | Could not establish connection from local ('127.0.0.1', 3793) to remote ('insight-beta-article-db2.chmaiagjipqy.ap-south-1.docdb.amazonaws.com', 27017) side of the tunnel: open new channel ssh error: SSH session not active\n",
      "2024-02-08 16:51:38,157| ERROR   | Could not establish connection from local ('127.0.0.1', 3793) to remote ('insight-beta-article-db2.chmaiagjipqy.ap-south-1.docdb.amazonaws.com', 27017) side of the tunnel: open new channel ssh error: SSH session not active\n",
      "2024-02-08 16:51:48,298| ERROR   | Could not establish connection from local ('127.0.0.1', 3793) to remote ('insight-beta-article-db2.chmaiagjipqy.ap-south-1.docdb.amazonaws.com', 27017) side of the tunnel: open new channel ssh error: SSH session not active\n",
      "2024-02-08 16:51:58,435| ERROR   | Could not establish connection from local ('127.0.0.1', 3793) to remote ('insight-beta-article-db2.chmaiagjipqy.ap-south-1.docdb.amazonaws.com', 27017) side of the tunnel: open new channel ssh error: SSH session not active\n",
      "2024-02-08 16:52:08,567| ERROR   | Could not establish connection from local ('127.0.0.1', 3793) to remote ('insight-beta-article-db2.chmaiagjipqy.ap-south-1.docdb.amazonaws.com', 27017) side of the tunnel: open new channel ssh error: SSH session not active\n",
      "2024-02-08 16:52:18,715| ERROR   | Could not establish connection from local ('127.0.0.1', 3793) to remote ('insight-beta-article-db2.chmaiagjipqy.ap-south-1.docdb.amazonaws.com', 27017) side of the tunnel: open new channel ssh error: SSH session not active\n",
      "2024-02-08 16:52:28,854| ERROR   | Could not establish connection from local ('127.0.0.1', 3793) to remote ('insight-beta-article-db2.chmaiagjipqy.ap-south-1.docdb.amazonaws.com', 27017) side of the tunnel: open new channel ssh error: SSH session not active\n",
      "2024-02-08 16:52:38,984| ERROR   | Could not establish connection from local ('127.0.0.1', 3793) to remote ('insight-beta-article-db2.chmaiagjipqy.ap-south-1.docdb.amazonaws.com', 27017) side of the tunnel: open new channel ssh error: SSH session not active\n",
      "2024-02-08 16:52:49,106| ERROR   | Could not establish connection from local ('127.0.0.1', 3793) to remote ('insight-beta-article-db2.chmaiagjipqy.ap-south-1.docdb.amazonaws.com', 27017) side of the tunnel: open new channel ssh error: SSH session not active\n",
      "2024-02-08 16:52:59,241| ERROR   | Could not establish connection from local ('127.0.0.1', 3793) to remote ('insight-beta-article-db2.chmaiagjipqy.ap-south-1.docdb.amazonaws.com', 27017) side of the tunnel: open new channel ssh error: SSH session not active\n",
      "2024-02-08 16:53:09,357| ERROR   | Could not establish connection from local ('127.0.0.1', 3793) to remote ('insight-beta-article-db2.chmaiagjipqy.ap-south-1.docdb.amazonaws.com', 27017) side of the tunnel: open new channel ssh error: SSH session not active\n",
      "2024-02-08 16:53:19,498| ERROR   | Could not establish connection from local ('127.0.0.1', 3793) to remote ('insight-beta-article-db2.chmaiagjipqy.ap-south-1.docdb.amazonaws.com', 27017) side of the tunnel: open new channel ssh error: SSH session not active\n",
      "2024-02-08 16:53:29,630| ERROR   | Could not establish connection from local ('127.0.0.1', 3793) to remote ('insight-beta-article-db2.chmaiagjipqy.ap-south-1.docdb.amazonaws.com', 27017) side of the tunnel: open new channel ssh error: SSH session not active\n",
      "2024-02-08 16:53:39,786| ERROR   | Could not establish connection from local ('127.0.0.1', 3793) to remote ('insight-beta-article-db2.chmaiagjipqy.ap-south-1.docdb.amazonaws.com', 27017) side of the tunnel: open new channel ssh error: SSH session not active\n",
      "2024-02-08 16:53:49,928| ERROR   | Could not establish connection from local ('127.0.0.1', 3793) to remote ('insight-beta-article-db2.chmaiagjipqy.ap-south-1.docdb.amazonaws.com', 27017) side of the tunnel: open new channel ssh error: SSH session not active\n",
      "2024-02-08 16:54:00,036| ERROR   | Could not establish connection from local ('127.0.0.1', 3793) to remote ('insight-beta-article-db2.chmaiagjipqy.ap-south-1.docdb.amazonaws.com', 27017) side of the tunnel: open new channel ssh error: SSH session not active\n",
      "2024-02-08 16:54:10,149| ERROR   | Could not establish connection from local ('127.0.0.1', 3793) to remote ('insight-beta-article-db2.chmaiagjipqy.ap-south-1.docdb.amazonaws.com', 27017) side of the tunnel: open new channel ssh error: SSH session not active\n",
      "2024-02-08 16:54:20,308| ERROR   | Could not establish connection from local ('127.0.0.1', 3793) to remote ('insight-beta-article-db2.chmaiagjipqy.ap-south-1.docdb.amazonaws.com', 27017) side of the tunnel: open new channel ssh error: SSH session not active\n",
      "2024-02-08 16:54:30,438| ERROR   | Could not establish connection from local ('127.0.0.1', 3793) to remote ('insight-beta-article-db2.chmaiagjipqy.ap-south-1.docdb.amazonaws.com', 27017) side of the tunnel: open new channel ssh error: SSH session not active\n",
      "2024-02-08 16:54:40,557| ERROR   | Could not establish connection from local ('127.0.0.1', 3793) to remote ('insight-beta-article-db2.chmaiagjipqy.ap-south-1.docdb.amazonaws.com', 27017) side of the tunnel: open new channel ssh error: SSH session not active\n",
      "2024-02-08 16:54:50,711| ERROR   | Could not establish connection from local ('127.0.0.1', 3793) to remote ('insight-beta-article-db2.chmaiagjipqy.ap-south-1.docdb.amazonaws.com', 27017) side of the tunnel: open new channel ssh error: SSH session not active\n",
      "2024-02-08 16:55:00,823| ERROR   | Could not establish connection from local ('127.0.0.1', 3793) to remote ('insight-beta-article-db2.chmaiagjipqy.ap-south-1.docdb.amazonaws.com', 27017) side of the tunnel: open new channel ssh error: SSH session not active\n",
      "2024-02-08 16:55:10,959| ERROR   | Could not establish connection from local ('127.0.0.1', 3793) to remote ('insight-beta-article-db2.chmaiagjipqy.ap-south-1.docdb.amazonaws.com', 27017) side of the tunnel: open new channel ssh error: SSH session not active\n",
      "2024-02-08 16:55:21,106| ERROR   | Could not establish connection from local ('127.0.0.1', 3793) to remote ('insight-beta-article-db2.chmaiagjipqy.ap-south-1.docdb.amazonaws.com', 27017) side of the tunnel: open new channel ssh error: SSH session not active\n",
      "2024-02-08 16:55:31,237| ERROR   | Could not establish connection from local ('127.0.0.1', 3793) to remote ('insight-beta-article-db2.chmaiagjipqy.ap-south-1.docdb.amazonaws.com', 27017) side of the tunnel: open new channel ssh error: SSH session not active\n",
      "2024-02-08 16:55:41,393| ERROR   | Could not establish connection from local ('127.0.0.1', 3793) to remote ('insight-beta-article-db2.chmaiagjipqy.ap-south-1.docdb.amazonaws.com', 27017) side of the tunnel: open new channel ssh error: SSH session not active\n",
      "2024-02-08 16:55:51,525| ERROR   | Could not establish connection from local ('127.0.0.1', 3793) to remote ('insight-beta-article-db2.chmaiagjipqy.ap-south-1.docdb.amazonaws.com', 27017) side of the tunnel: open new channel ssh error: SSH session not active\n",
      "2024-02-08 16:56:01,653| ERROR   | Could not establish connection from local ('127.0.0.1', 3793) to remote ('insight-beta-article-db2.chmaiagjipqy.ap-south-1.docdb.amazonaws.com', 27017) side of the tunnel: open new channel ssh error: SSH session not active\n",
      "2024-02-08 16:56:11,766| ERROR   | Could not establish connection from local ('127.0.0.1', 3793) to remote ('insight-beta-article-db2.chmaiagjipqy.ap-south-1.docdb.amazonaws.com', 27017) side of the tunnel: open new channel ssh error: SSH session not active\n",
      "2024-02-08 16:56:21,888| ERROR   | Could not establish connection from local ('127.0.0.1', 3793) to remote ('insight-beta-article-db2.chmaiagjipqy.ap-south-1.docdb.amazonaws.com', 27017) side of the tunnel: open new channel ssh error: SSH session not active\n",
      "2024-02-08 16:56:32,005| ERROR   | Could not establish connection from local ('127.0.0.1', 3793) to remote ('insight-beta-article-db2.chmaiagjipqy.ap-south-1.docdb.amazonaws.com', 27017) side of the tunnel: open new channel ssh error: SSH session not active\n",
      "2024-02-08 16:56:42,132| ERROR   | Could not establish connection from local ('127.0.0.1', 3793) to remote ('insight-beta-article-db2.chmaiagjipqy.ap-south-1.docdb.amazonaws.com', 27017) side of the tunnel: open new channel ssh error: SSH session not active\n",
      "2024-02-08 16:56:52,268| ERROR   | Could not establish connection from local ('127.0.0.1', 3793) to remote ('insight-beta-article-db2.chmaiagjipqy.ap-south-1.docdb.amazonaws.com', 27017) side of the tunnel: open new channel ssh error: SSH session not active\n",
      "2024-02-08 16:57:02,410| ERROR   | Could not establish connection from local ('127.0.0.1', 3793) to remote ('insight-beta-article-db2.chmaiagjipqy.ap-south-1.docdb.amazonaws.com', 27017) side of the tunnel: open new channel ssh error: SSH session not active\n",
      "2024-02-08 16:57:12,564| ERROR   | Could not establish connection from local ('127.0.0.1', 3793) to remote ('insight-beta-article-db2.chmaiagjipqy.ap-south-1.docdb.amazonaws.com', 27017) side of the tunnel: open new channel ssh error: SSH session not active\n",
      "2024-02-08 16:57:22,730| ERROR   | Could not establish connection from local ('127.0.0.1', 3793) to remote ('insight-beta-article-db2.chmaiagjipqy.ap-south-1.docdb.amazonaws.com', 27017) side of the tunnel: open new channel ssh error: SSH session not active\n",
      "2024-02-08 16:57:32,863| ERROR   | Could not establish connection from local ('127.0.0.1', 3793) to remote ('insight-beta-article-db2.chmaiagjipqy.ap-south-1.docdb.amazonaws.com', 27017) side of the tunnel: open new channel ssh error: SSH session not active\n",
      "2024-02-08 16:57:43,006| ERROR   | Could not establish connection from local ('127.0.0.1', 3793) to remote ('insight-beta-article-db2.chmaiagjipqy.ap-south-1.docdb.amazonaws.com', 27017) side of the tunnel: open new channel ssh error: SSH session not active\n",
      "2024-02-08 16:57:53,139| ERROR   | Could not establish connection from local ('127.0.0.1', 3793) to remote ('insight-beta-article-db2.chmaiagjipqy.ap-south-1.docdb.amazonaws.com', 27017) side of the tunnel: open new channel ssh error: SSH session not active\n",
      "2024-02-08 16:58:03,300| ERROR   | Could not establish connection from local ('127.0.0.1', 3793) to remote ('insight-beta-article-db2.chmaiagjipqy.ap-south-1.docdb.amazonaws.com', 27017) side of the tunnel: open new channel ssh error: SSH session not active\n",
      "2024-02-08 16:58:13,462| ERROR   | Could not establish connection from local ('127.0.0.1', 3793) to remote ('insight-beta-article-db2.chmaiagjipqy.ap-south-1.docdb.amazonaws.com', 27017) side of the tunnel: open new channel ssh error: SSH session not active\n",
      "2024-02-08 16:58:23,584| ERROR   | Could not establish connection from local ('127.0.0.1', 3793) to remote ('insight-beta-article-db2.chmaiagjipqy.ap-south-1.docdb.amazonaws.com', 27017) side of the tunnel: open new channel ssh error: SSH session not active\n",
      "2024-02-08 16:58:33,740| ERROR   | Could not establish connection from local ('127.0.0.1', 3793) to remote ('insight-beta-article-db2.chmaiagjipqy.ap-south-1.docdb.amazonaws.com', 27017) side of the tunnel: open new channel ssh error: SSH session not active\n",
      "2024-02-08 16:58:43,878| ERROR   | Could not establish connection from local ('127.0.0.1', 3793) to remote ('insight-beta-article-db2.chmaiagjipqy.ap-south-1.docdb.amazonaws.com', 27017) side of the tunnel: open new channel ssh error: SSH session not active\n",
      "2024-02-08 16:58:54,009| ERROR   | Could not establish connection from local ('127.0.0.1', 3793) to remote ('insight-beta-article-db2.chmaiagjipqy.ap-south-1.docdb.amazonaws.com', 27017) side of the tunnel: open new channel ssh error: SSH session not active\n",
      "2024-02-08 16:59:04,139| ERROR   | Could not establish connection from local ('127.0.0.1', 3793) to remote ('insight-beta-article-db2.chmaiagjipqy.ap-south-1.docdb.amazonaws.com', 27017) side of the tunnel: open new channel ssh error: SSH session not active\n",
      "2024-02-08 16:59:14,273| ERROR   | Could not establish connection from local ('127.0.0.1', 3793) to remote ('insight-beta-article-db2.chmaiagjipqy.ap-south-1.docdb.amazonaws.com', 27017) side of the tunnel: open new channel ssh error: SSH session not active\n",
      "2024-02-08 16:59:24,413| ERROR   | Could not establish connection from local ('127.0.0.1', 3793) to remote ('insight-beta-article-db2.chmaiagjipqy.ap-south-1.docdb.amazonaws.com', 27017) side of the tunnel: open new channel ssh error: SSH session not active\n",
      "2024-02-08 16:59:34,562| ERROR   | Could not establish connection from local ('127.0.0.1', 3793) to remote ('insight-beta-article-db2.chmaiagjipqy.ap-south-1.docdb.amazonaws.com', 27017) side of the tunnel: open new channel ssh error: SSH session not active\n",
      "2024-02-08 16:59:44,701| ERROR   | Could not establish connection from local ('127.0.0.1', 3793) to remote ('insight-beta-article-db2.chmaiagjipqy.ap-south-1.docdb.amazonaws.com', 27017) side of the tunnel: open new channel ssh error: SSH session not active\n",
      "2024-02-08 16:59:54,866| ERROR   | Could not establish connection from local ('127.0.0.1', 3793) to remote ('insight-beta-article-db2.chmaiagjipqy.ap-south-1.docdb.amazonaws.com', 27017) side of the tunnel: open new channel ssh error: SSH session not active\n",
      "2024-02-08 17:00:04,983| ERROR   | Could not establish connection from local ('127.0.0.1', 3793) to remote ('insight-beta-article-db2.chmaiagjipqy.ap-south-1.docdb.amazonaws.com', 27017) side of the tunnel: open new channel ssh error: SSH session not active\n",
      "2024-02-08 17:00:15,108| ERROR   | Could not establish connection from local ('127.0.0.1', 3793) to remote ('insight-beta-article-db2.chmaiagjipqy.ap-south-1.docdb.amazonaws.com', 27017) side of the tunnel: open new channel ssh error: SSH session not active\n",
      "2024-02-08 17:00:25,235| ERROR   | Could not establish connection from local ('127.0.0.1', 3793) to remote ('insight-beta-article-db2.chmaiagjipqy.ap-south-1.docdb.amazonaws.com', 27017) side of the tunnel: open new channel ssh error: SSH session not active\n",
      "2024-02-08 17:00:35,369| ERROR   | Could not establish connection from local ('127.0.0.1', 3793) to remote ('insight-beta-article-db2.chmaiagjipqy.ap-south-1.docdb.amazonaws.com', 27017) side of the tunnel: open new channel ssh error: SSH session not active\n",
      "2024-02-08 17:00:45,538| ERROR   | Could not establish connection from local ('127.0.0.1', 3793) to remote ('insight-beta-article-db2.chmaiagjipqy.ap-south-1.docdb.amazonaws.com', 27017) side of the tunnel: open new channel ssh error: SSH session not active\n",
      "2024-02-08 17:00:55,653| ERROR   | Could not establish connection from local ('127.0.0.1', 3793) to remote ('insight-beta-article-db2.chmaiagjipqy.ap-south-1.docdb.amazonaws.com', 27017) side of the tunnel: open new channel ssh error: SSH session not active\n",
      "2024-02-08 17:01:05,773| ERROR   | Could not establish connection from local ('127.0.0.1', 3793) to remote ('insight-beta-article-db2.chmaiagjipqy.ap-south-1.docdb.amazonaws.com', 27017) side of the tunnel: open new channel ssh error: SSH session not active\n",
      "2024-02-08 17:01:15,889| ERROR   | Could not establish connection from local ('127.0.0.1', 3793) to remote ('insight-beta-article-db2.chmaiagjipqy.ap-south-1.docdb.amazonaws.com', 27017) side of the tunnel: open new channel ssh error: SSH session not active\n",
      "2024-02-08 17:01:26,006| ERROR   | Could not establish connection from local ('127.0.0.1', 3793) to remote ('insight-beta-article-db2.chmaiagjipqy.ap-south-1.docdb.amazonaws.com', 27017) side of the tunnel: open new channel ssh error: SSH session not active\n",
      "2024-02-08 17:01:36,144| ERROR   | Could not establish connection from local ('127.0.0.1', 3793) to remote ('insight-beta-article-db2.chmaiagjipqy.ap-south-1.docdb.amazonaws.com', 27017) side of the tunnel: open new channel ssh error: SSH session not active\n",
      "2024-02-08 17:01:46,297| ERROR   | Could not establish connection from local ('127.0.0.1', 3793) to remote ('insight-beta-article-db2.chmaiagjipqy.ap-south-1.docdb.amazonaws.com', 27017) side of the tunnel: open new channel ssh error: SSH session not active\n",
      "2024-02-08 17:01:56,428| ERROR   | Could not establish connection from local ('127.0.0.1', 3793) to remote ('insight-beta-article-db2.chmaiagjipqy.ap-south-1.docdb.amazonaws.com', 27017) side of the tunnel: open new channel ssh error: SSH session not active\n",
      "2024-02-08 17:02:06,567| ERROR   | Could not establish connection from local ('127.0.0.1', 3793) to remote ('insight-beta-article-db2.chmaiagjipqy.ap-south-1.docdb.amazonaws.com', 27017) side of the tunnel: open new channel ssh error: SSH session not active\n",
      "2024-02-08 17:02:16,696| ERROR   | Could not establish connection from local ('127.0.0.1', 3793) to remote ('insight-beta-article-db2.chmaiagjipqy.ap-south-1.docdb.amazonaws.com', 27017) side of the tunnel: open new channel ssh error: SSH session not active\n",
      "2024-02-08 17:02:26,825| ERROR   | Could not establish connection from local ('127.0.0.1', 3793) to remote ('insight-beta-article-db2.chmaiagjipqy.ap-south-1.docdb.amazonaws.com', 27017) side of the tunnel: open new channel ssh error: SSH session not active\n",
      "2024-02-08 17:02:36,951| ERROR   | Could not establish connection from local ('127.0.0.1', 3793) to remote ('insight-beta-article-db2.chmaiagjipqy.ap-south-1.docdb.amazonaws.com', 27017) side of the tunnel: open new channel ssh error: SSH session not active\n",
      "2024-02-08 17:02:47,112| ERROR   | Could not establish connection from local ('127.0.0.1', 3793) to remote ('insight-beta-article-db2.chmaiagjipqy.ap-south-1.docdb.amazonaws.com', 27017) side of the tunnel: open new channel ssh error: SSH session not active\n",
      "2024-02-08 17:02:57,248| ERROR   | Could not establish connection from local ('127.0.0.1', 3793) to remote ('insight-beta-article-db2.chmaiagjipqy.ap-south-1.docdb.amazonaws.com', 27017) side of the tunnel: open new channel ssh error: SSH session not active\n",
      "2024-02-08 17:03:07,370| ERROR   | Could not establish connection from local ('127.0.0.1', 3793) to remote ('insight-beta-article-db2.chmaiagjipqy.ap-south-1.docdb.amazonaws.com', 27017) side of the tunnel: open new channel ssh error: SSH session not active\n",
      "2024-02-08 17:03:17,507| ERROR   | Could not establish connection from local ('127.0.0.1', 3793) to remote ('insight-beta-article-db2.chmaiagjipqy.ap-south-1.docdb.amazonaws.com', 27017) side of the tunnel: open new channel ssh error: SSH session not active\n",
      "2024-02-08 17:03:27,657| ERROR   | Could not establish connection from local ('127.0.0.1', 3793) to remote ('insight-beta-article-db2.chmaiagjipqy.ap-south-1.docdb.amazonaws.com', 27017) side of the tunnel: open new channel ssh error: SSH session not active\n",
      "2024-02-08 17:03:37,790| ERROR   | Could not establish connection from local ('127.0.0.1', 3793) to remote ('insight-beta-article-db2.chmaiagjipqy.ap-south-1.docdb.amazonaws.com', 27017) side of the tunnel: open new channel ssh error: SSH session not active\n",
      "2024-02-08 17:03:47,941| ERROR   | Could not establish connection from local ('127.0.0.1', 3793) to remote ('insight-beta-article-db2.chmaiagjipqy.ap-south-1.docdb.amazonaws.com', 27017) side of the tunnel: open new channel ssh error: SSH session not active\n",
      "2024-02-08 17:03:58,069| ERROR   | Could not establish connection from local ('127.0.0.1', 3793) to remote ('insight-beta-article-db2.chmaiagjipqy.ap-south-1.docdb.amazonaws.com', 27017) side of the tunnel: open new channel ssh error: SSH session not active\n",
      "2024-02-08 17:04:08,185| ERROR   | Could not establish connection from local ('127.0.0.1', 3793) to remote ('insight-beta-article-db2.chmaiagjipqy.ap-south-1.docdb.amazonaws.com', 27017) side of the tunnel: open new channel ssh error: SSH session not active\n",
      "2024-02-08 17:04:18,326| ERROR   | Could not establish connection from local ('127.0.0.1', 3793) to remote ('insight-beta-article-db2.chmaiagjipqy.ap-south-1.docdb.amazonaws.com', 27017) side of the tunnel: open new channel ssh error: SSH session not active\n",
      "2024-02-08 17:04:28,468| ERROR   | Could not establish connection from local ('127.0.0.1', 3793) to remote ('insight-beta-article-db2.chmaiagjipqy.ap-south-1.docdb.amazonaws.com', 27017) side of the tunnel: open new channel ssh error: SSH session not active\n",
      "2024-02-08 17:04:38,606| ERROR   | Could not establish connection from local ('127.0.0.1', 3793) to remote ('insight-beta-article-db2.chmaiagjipqy.ap-south-1.docdb.amazonaws.com', 27017) side of the tunnel: open new channel ssh error: SSH session not active\n",
      "2024-02-08 17:04:48,747| ERROR   | Could not establish connection from local ('127.0.0.1', 3793) to remote ('insight-beta-article-db2.chmaiagjipqy.ap-south-1.docdb.amazonaws.com', 27017) side of the tunnel: open new channel ssh error: SSH session not active\n",
      "2024-02-08 17:04:58,896| ERROR   | Could not establish connection from local ('127.0.0.1', 3793) to remote ('insight-beta-article-db2.chmaiagjipqy.ap-south-1.docdb.amazonaws.com', 27017) side of the tunnel: open new channel ssh error: SSH session not active\n",
      "2024-02-08 17:05:09,033| ERROR   | Could not establish connection from local ('127.0.0.1', 3793) to remote ('insight-beta-article-db2.chmaiagjipqy.ap-south-1.docdb.amazonaws.com', 27017) side of the tunnel: open new channel ssh error: SSH session not active\n",
      "2024-02-08 17:05:19,188| ERROR   | Could not establish connection from local ('127.0.0.1', 3793) to remote ('insight-beta-article-db2.chmaiagjipqy.ap-south-1.docdb.amazonaws.com', 27017) side of the tunnel: open new channel ssh error: SSH session not active\n",
      "2024-02-08 17:05:29,330| ERROR   | Could not establish connection from local ('127.0.0.1', 3793) to remote ('insight-beta-article-db2.chmaiagjipqy.ap-south-1.docdb.amazonaws.com', 27017) side of the tunnel: open new channel ssh error: SSH session not active\n",
      "2024-02-08 17:05:39,469| ERROR   | Could not establish connection from local ('127.0.0.1', 3793) to remote ('insight-beta-article-db2.chmaiagjipqy.ap-south-1.docdb.amazonaws.com', 27017) side of the tunnel: open new channel ssh error: SSH session not active\n",
      "2024-02-08 17:05:49,606| ERROR   | Could not establish connection from local ('127.0.0.1', 3793) to remote ('insight-beta-article-db2.chmaiagjipqy.ap-south-1.docdb.amazonaws.com', 27017) side of the tunnel: open new channel ssh error: SSH session not active\n",
      "2024-02-08 17:05:59,755| ERROR   | Could not establish connection from local ('127.0.0.1', 3793) to remote ('insight-beta-article-db2.chmaiagjipqy.ap-south-1.docdb.amazonaws.com', 27017) side of the tunnel: open new channel ssh error: SSH session not active\n",
      "2024-02-08 17:06:09,905| ERROR   | Could not establish connection from local ('127.0.0.1', 3793) to remote ('insight-beta-article-db2.chmaiagjipqy.ap-south-1.docdb.amazonaws.com', 27017) side of the tunnel: open new channel ssh error: SSH session not active\n",
      "2024-02-08 17:06:20,049| ERROR   | Could not establish connection from local ('127.0.0.1', 3793) to remote ('insight-beta-article-db2.chmaiagjipqy.ap-south-1.docdb.amazonaws.com', 27017) side of the tunnel: open new channel ssh error: SSH session not active\n",
      "2024-02-08 17:06:30,172| ERROR   | Could not establish connection from local ('127.0.0.1', 3793) to remote ('insight-beta-article-db2.chmaiagjipqy.ap-south-1.docdb.amazonaws.com', 27017) side of the tunnel: open new channel ssh error: SSH session not active\n",
      "2024-02-08 17:06:40,288| ERROR   | Could not establish connection from local ('127.0.0.1', 3793) to remote ('insight-beta-article-db2.chmaiagjipqy.ap-south-1.docdb.amazonaws.com', 27017) side of the tunnel: open new channel ssh error: SSH session not active\n",
      "2024-02-08 17:06:50,434| ERROR   | Could not establish connection from local ('127.0.0.1', 3793) to remote ('insight-beta-article-db2.chmaiagjipqy.ap-south-1.docdb.amazonaws.com', 27017) side of the tunnel: open new channel ssh error: SSH session not active\n",
      "2024-02-08 17:07:00,579| ERROR   | Could not establish connection from local ('127.0.0.1', 3793) to remote ('insight-beta-article-db2.chmaiagjipqy.ap-south-1.docdb.amazonaws.com', 27017) side of the tunnel: open new channel ssh error: SSH session not active\n",
      "2024-02-08 17:07:10,718| ERROR   | Could not establish connection from local ('127.0.0.1', 3793) to remote ('insight-beta-article-db2.chmaiagjipqy.ap-south-1.docdb.amazonaws.com', 27017) side of the tunnel: open new channel ssh error: SSH session not active\n",
      "2024-02-08 17:07:20,857| ERROR   | Could not establish connection from local ('127.0.0.1', 3793) to remote ('insight-beta-article-db2.chmaiagjipqy.ap-south-1.docdb.amazonaws.com', 27017) side of the tunnel: open new channel ssh error: SSH session not active\n",
      "2024-02-08 17:07:31,004| ERROR   | Could not establish connection from local ('127.0.0.1', 3793) to remote ('insight-beta-article-db2.chmaiagjipqy.ap-south-1.docdb.amazonaws.com', 27017) side of the tunnel: open new channel ssh error: SSH session not active\n",
      "2024-02-08 17:07:41,138| ERROR   | Could not establish connection from local ('127.0.0.1', 3793) to remote ('insight-beta-article-db2.chmaiagjipqy.ap-south-1.docdb.amazonaws.com', 27017) side of the tunnel: open new channel ssh error: SSH session not active\n",
      "2024-02-08 17:07:51,269| ERROR   | Could not establish connection from local ('127.0.0.1', 3793) to remote ('insight-beta-article-db2.chmaiagjipqy.ap-south-1.docdb.amazonaws.com', 27017) side of the tunnel: open new channel ssh error: SSH session not active\n",
      "2024-02-08 17:08:01,422| ERROR   | Could not establish connection from local ('127.0.0.1', 3793) to remote ('insight-beta-article-db2.chmaiagjipqy.ap-south-1.docdb.amazonaws.com', 27017) side of the tunnel: open new channel ssh error: SSH session not active\n",
      "2024-02-08 17:08:11,551| ERROR   | Could not establish connection from local ('127.0.0.1', 3793) to remote ('insight-beta-article-db2.chmaiagjipqy.ap-south-1.docdb.amazonaws.com', 27017) side of the tunnel: open new channel ssh error: SSH session not active\n",
      "2024-02-08 17:08:21,695| ERROR   | Could not establish connection from local ('127.0.0.1', 3793) to remote ('insight-beta-article-db2.chmaiagjipqy.ap-south-1.docdb.amazonaws.com', 27017) side of the tunnel: open new channel ssh error: SSH session not active\n",
      "2024-02-08 17:08:31,847| ERROR   | Could not establish connection from local ('127.0.0.1', 3793) to remote ('insight-beta-article-db2.chmaiagjipqy.ap-south-1.docdb.amazonaws.com', 27017) side of the tunnel: open new channel ssh error: SSH session not active\n",
      "2024-02-08 17:08:41,972| ERROR   | Could not establish connection from local ('127.0.0.1', 3793) to remote ('insight-beta-article-db2.chmaiagjipqy.ap-south-1.docdb.amazonaws.com', 27017) side of the tunnel: open new channel ssh error: SSH session not active\n",
      "2024-02-08 17:08:52,123| ERROR   | Could not establish connection from local ('127.0.0.1', 3793) to remote ('insight-beta-article-db2.chmaiagjipqy.ap-south-1.docdb.amazonaws.com', 27017) side of the tunnel: open new channel ssh error: SSH session not active\n",
      "2024-02-08 17:09:02,298| ERROR   | Could not establish connection from local ('127.0.0.1', 3793) to remote ('insight-beta-article-db2.chmaiagjipqy.ap-south-1.docdb.amazonaws.com', 27017) side of the tunnel: open new channel ssh error: SSH session not active\n",
      "2024-02-08 17:09:12,416| ERROR   | Could not establish connection from local ('127.0.0.1', 3793) to remote ('insight-beta-article-db2.chmaiagjipqy.ap-south-1.docdb.amazonaws.com', 27017) side of the tunnel: open new channel ssh error: SSH session not active\n",
      "2024-02-08 17:09:22,567| ERROR   | Could not establish connection from local ('127.0.0.1', 3793) to remote ('insight-beta-article-db2.chmaiagjipqy.ap-south-1.docdb.amazonaws.com', 27017) side of the tunnel: open new channel ssh error: SSH session not active\n",
      "2024-02-08 17:09:32,704| ERROR   | Could not establish connection from local ('127.0.0.1', 3793) to remote ('insight-beta-article-db2.chmaiagjipqy.ap-south-1.docdb.amazonaws.com', 27017) side of the tunnel: open new channel ssh error: SSH session not active\n",
      "2024-02-08 17:09:42,832| ERROR   | Could not establish connection from local ('127.0.0.1', 3793) to remote ('insight-beta-article-db2.chmaiagjipqy.ap-south-1.docdb.amazonaws.com', 27017) side of the tunnel: open new channel ssh error: SSH session not active\n",
      "2024-02-08 17:09:52,989| ERROR   | Could not establish connection from local ('127.0.0.1', 3793) to remote ('insight-beta-article-db2.chmaiagjipqy.ap-south-1.docdb.amazonaws.com', 27017) side of the tunnel: open new channel ssh error: SSH session not active\n",
      "2024-02-08 17:10:03,116| ERROR   | Could not establish connection from local ('127.0.0.1', 3793) to remote ('insight-beta-article-db2.chmaiagjipqy.ap-south-1.docdb.amazonaws.com', 27017) side of the tunnel: open new channel ssh error: SSH session not active\n",
      "2024-02-08 17:10:13,235| ERROR   | Could not establish connection from local ('127.0.0.1', 3793) to remote ('insight-beta-article-db2.chmaiagjipqy.ap-south-1.docdb.amazonaws.com', 27017) side of the tunnel: open new channel ssh error: SSH session not active\n",
      "2024-02-08 17:10:23,368| ERROR   | Could not establish connection from local ('127.0.0.1', 3793) to remote ('insight-beta-article-db2.chmaiagjipqy.ap-south-1.docdb.amazonaws.com', 27017) side of the tunnel: open new channel ssh error: SSH session not active\n",
      "2024-02-08 17:10:33,493| ERROR   | Could not establish connection from local ('127.0.0.1', 3793) to remote ('insight-beta-article-db2.chmaiagjipqy.ap-south-1.docdb.amazonaws.com', 27017) side of the tunnel: open new channel ssh error: SSH session not active\n",
      "2024-02-08 17:10:43,632| ERROR   | Could not establish connection from local ('127.0.0.1', 3793) to remote ('insight-beta-article-db2.chmaiagjipqy.ap-south-1.docdb.amazonaws.com', 27017) side of the tunnel: open new channel ssh error: SSH session not active\n",
      "2024-02-08 17:10:53,771| ERROR   | Could not establish connection from local ('127.0.0.1', 3793) to remote ('insight-beta-article-db2.chmaiagjipqy.ap-south-1.docdb.amazonaws.com', 27017) side of the tunnel: open new channel ssh error: SSH session not active\n",
      "2024-02-08 17:11:03,916| ERROR   | Could not establish connection from local ('127.0.0.1', 3793) to remote ('insight-beta-article-db2.chmaiagjipqy.ap-south-1.docdb.amazonaws.com', 27017) side of the tunnel: open new channel ssh error: SSH session not active\n",
      "2024-02-08 17:11:14,056| ERROR   | Could not establish connection from local ('127.0.0.1', 3793) to remote ('insight-beta-article-db2.chmaiagjipqy.ap-south-1.docdb.amazonaws.com', 27017) side of the tunnel: open new channel ssh error: SSH session not active\n",
      "2024-02-08 17:11:24,186| ERROR   | Could not establish connection from local ('127.0.0.1', 3793) to remote ('insight-beta-article-db2.chmaiagjipqy.ap-south-1.docdb.amazonaws.com', 27017) side of the tunnel: open new channel ssh error: SSH session not active\n",
      "2024-02-08 17:11:34,324| ERROR   | Could not establish connection from local ('127.0.0.1', 3793) to remote ('insight-beta-article-db2.chmaiagjipqy.ap-south-1.docdb.amazonaws.com', 27017) side of the tunnel: open new channel ssh error: SSH session not active\n",
      "2024-02-08 17:11:44,449| ERROR   | Could not establish connection from local ('127.0.0.1', 3793) to remote ('insight-beta-article-db2.chmaiagjipqy.ap-south-1.docdb.amazonaws.com', 27017) side of the tunnel: open new channel ssh error: SSH session not active\n",
      "2024-02-08 17:11:54,571| ERROR   | Could not establish connection from local ('127.0.0.1', 3793) to remote ('insight-beta-article-db2.chmaiagjipqy.ap-south-1.docdb.amazonaws.com', 27017) side of the tunnel: open new channel ssh error: SSH session not active\n",
      "2024-02-08 17:12:04,711| ERROR   | Could not establish connection from local ('127.0.0.1', 3793) to remote ('insight-beta-article-db2.chmaiagjipqy.ap-south-1.docdb.amazonaws.com', 27017) side of the tunnel: open new channel ssh error: SSH session not active\n",
      "2024-02-08 17:12:14,825| ERROR   | Could not establish connection from local ('127.0.0.1', 3793) to remote ('insight-beta-article-db2.chmaiagjipqy.ap-south-1.docdb.amazonaws.com', 27017) side of the tunnel: open new channel ssh error: SSH session not active\n",
      "2024-02-08 17:12:24,928| ERROR   | Could not establish connection from local ('127.0.0.1', 3793) to remote ('insight-beta-article-db2.chmaiagjipqy.ap-south-1.docdb.amazonaws.com', 27017) side of the tunnel: open new channel ssh error: SSH session not active\n",
      "2024-02-08 17:12:35,065| ERROR   | Could not establish connection from local ('127.0.0.1', 3793) to remote ('insight-beta-article-db2.chmaiagjipqy.ap-south-1.docdb.amazonaws.com', 27017) side of the tunnel: open new channel ssh error: SSH session not active\n",
      "2024-02-08 17:12:45,218| ERROR   | Could not establish connection from local ('127.0.0.1', 3793) to remote ('insight-beta-article-db2.chmaiagjipqy.ap-south-1.docdb.amazonaws.com', 27017) side of the tunnel: open new channel ssh error: SSH session not active\n",
      "2024-02-08 17:12:55,337| ERROR   | Could not establish connection from local ('127.0.0.1', 3793) to remote ('insight-beta-article-db2.chmaiagjipqy.ap-south-1.docdb.amazonaws.com', 27017) side of the tunnel: open new channel ssh error: SSH session not active\n",
      "2024-02-08 17:13:05,486| ERROR   | Could not establish connection from local ('127.0.0.1', 3793) to remote ('insight-beta-article-db2.chmaiagjipqy.ap-south-1.docdb.amazonaws.com', 27017) side of the tunnel: open new channel ssh error: SSH session not active\n",
      "2024-02-08 17:13:15,614| ERROR   | Could not establish connection from local ('127.0.0.1', 3793) to remote ('insight-beta-article-db2.chmaiagjipqy.ap-south-1.docdb.amazonaws.com', 27017) side of the tunnel: open new channel ssh error: SSH session not active\n",
      "2024-02-08 17:13:25,736| ERROR   | Could not establish connection from local ('127.0.0.1', 3793) to remote ('insight-beta-article-db2.chmaiagjipqy.ap-south-1.docdb.amazonaws.com', 27017) side of the tunnel: open new channel ssh error: SSH session not active\n",
      "2024-02-08 17:13:35,863| ERROR   | Could not establish connection from local ('127.0.0.1', 3793) to remote ('insight-beta-article-db2.chmaiagjipqy.ap-south-1.docdb.amazonaws.com', 27017) side of the tunnel: open new channel ssh error: SSH session not active\n",
      "2024-02-08 17:13:45,995| ERROR   | Could not establish connection from local ('127.0.0.1', 3793) to remote ('insight-beta-article-db2.chmaiagjipqy.ap-south-1.docdb.amazonaws.com', 27017) side of the tunnel: open new channel ssh error: SSH session not active\n",
      "2024-02-08 17:13:56,139| ERROR   | Could not establish connection from local ('127.0.0.1', 3793) to remote ('insight-beta-article-db2.chmaiagjipqy.ap-south-1.docdb.amazonaws.com', 27017) side of the tunnel: open new channel ssh error: SSH session not active\n",
      "2024-02-08 17:14:06,269| ERROR   | Could not establish connection from local ('127.0.0.1', 3793) to remote ('insight-beta-article-db2.chmaiagjipqy.ap-south-1.docdb.amazonaws.com', 27017) side of the tunnel: open new channel ssh error: SSH session not active\n",
      "2024-02-08 17:14:16,402| ERROR   | Could not establish connection from local ('127.0.0.1', 3793) to remote ('insight-beta-article-db2.chmaiagjipqy.ap-south-1.docdb.amazonaws.com', 27017) side of the tunnel: open new channel ssh error: SSH session not active\n",
      "2024-02-08 17:14:26,528| ERROR   | Could not establish connection from local ('127.0.0.1', 3793) to remote ('insight-beta-article-db2.chmaiagjipqy.ap-south-1.docdb.amazonaws.com', 27017) side of the tunnel: open new channel ssh error: SSH session not active\n",
      "2024-02-08 17:14:36,694| ERROR   | Could not establish connection from local ('127.0.0.1', 3793) to remote ('insight-beta-article-db2.chmaiagjipqy.ap-south-1.docdb.amazonaws.com', 27017) side of the tunnel: open new channel ssh error: SSH session not active\n",
      "2024-02-08 17:14:46,824| ERROR   | Could not establish connection from local ('127.0.0.1', 3793) to remote ('insight-beta-article-db2.chmaiagjipqy.ap-south-1.docdb.amazonaws.com', 27017) side of the tunnel: open new channel ssh error: SSH session not active\n",
      "2024-02-08 17:14:56,923| ERROR   | Could not establish connection from local ('127.0.0.1', 3793) to remote ('insight-beta-article-db2.chmaiagjipqy.ap-south-1.docdb.amazonaws.com', 27017) side of the tunnel: open new channel ssh error: SSH session not active\n",
      "2024-02-08 17:15:06,996| ERROR   | Could not establish connection from local ('127.0.0.1', 3793) to remote ('insight-beta-article-db2.chmaiagjipqy.ap-south-1.docdb.amazonaws.com', 27017) side of the tunnel: open new channel ssh error: SSH session not active\n",
      "2024-02-08 17:15:17,066| ERROR   | Could not establish connection from local ('127.0.0.1', 3793) to remote ('insight-beta-article-db2.chmaiagjipqy.ap-south-1.docdb.amazonaws.com', 27017) side of the tunnel: open new channel ssh error: SSH session not active\n",
      "2024-02-08 17:15:27,139| ERROR   | Could not establish connection from local ('127.0.0.1', 3793) to remote ('insight-beta-article-db2.chmaiagjipqy.ap-south-1.docdb.amazonaws.com', 27017) side of the tunnel: open new channel ssh error: SSH session not active\n",
      "2024-02-08 17:15:37,210| ERROR   | Could not establish connection from local ('127.0.0.1', 3793) to remote ('insight-beta-article-db2.chmaiagjipqy.ap-south-1.docdb.amazonaws.com', 27017) side of the tunnel: open new channel ssh error: SSH session not active\n",
      "2024-02-08 17:15:47,281| ERROR   | Could not establish connection from local ('127.0.0.1', 3793) to remote ('insight-beta-article-db2.chmaiagjipqy.ap-south-1.docdb.amazonaws.com', 27017) side of the tunnel: open new channel ssh error: SSH session not active\n",
      "2024-02-08 17:15:57,360| ERROR   | Could not establish connection from local ('127.0.0.1', 3793) to remote ('insight-beta-article-db2.chmaiagjipqy.ap-south-1.docdb.amazonaws.com', 27017) side of the tunnel: open new channel ssh error: SSH session not active\n",
      "2024-02-08 17:16:07,437| ERROR   | Could not establish connection from local ('127.0.0.1', 3793) to remote ('insight-beta-article-db2.chmaiagjipqy.ap-south-1.docdb.amazonaws.com', 27017) side of the tunnel: open new channel ssh error: SSH session not active\n",
      "2024-02-08 17:16:17,512| ERROR   | Could not establish connection from local ('127.0.0.1', 3793) to remote ('insight-beta-article-db2.chmaiagjipqy.ap-south-1.docdb.amazonaws.com', 27017) side of the tunnel: open new channel ssh error: SSH session not active\n",
      "2024-02-08 17:16:27,569| ERROR   | Could not establish connection from local ('127.0.0.1', 3793) to remote ('insight-beta-article-db2.chmaiagjipqy.ap-south-1.docdb.amazonaws.com', 27017) side of the tunnel: open new channel ssh error: SSH session not active\n",
      "2024-02-08 17:16:37,633| ERROR   | Could not establish connection from local ('127.0.0.1', 3793) to remote ('insight-beta-article-db2.chmaiagjipqy.ap-south-1.docdb.amazonaws.com', 27017) side of the tunnel: open new channel ssh error: SSH session not active\n",
      "2024-02-08 17:16:47,719| ERROR   | Could not establish connection from local ('127.0.0.1', 3793) to remote ('insight-beta-article-db2.chmaiagjipqy.ap-south-1.docdb.amazonaws.com', 27017) side of the tunnel: open new channel ssh error: SSH session not active\n",
      "2024-02-08 17:16:57,784| ERROR   | Could not establish connection from local ('127.0.0.1', 3793) to remote ('insight-beta-article-db2.chmaiagjipqy.ap-south-1.docdb.amazonaws.com', 27017) side of the tunnel: open new channel ssh error: SSH session not active\n",
      "2024-02-08 17:17:07,848| ERROR   | Could not establish connection from local ('127.0.0.1', 3793) to remote ('insight-beta-article-db2.chmaiagjipqy.ap-south-1.docdb.amazonaws.com', 27017) side of the tunnel: open new channel ssh error: SSH session not active\n",
      "2024-02-08 17:17:17,924| ERROR   | Could not establish connection from local ('127.0.0.1', 3793) to remote ('insight-beta-article-db2.chmaiagjipqy.ap-south-1.docdb.amazonaws.com', 27017) side of the tunnel: open new channel ssh error: SSH session not active\n",
      "2024-02-08 17:17:27,998| ERROR   | Could not establish connection from local ('127.0.0.1', 3793) to remote ('insight-beta-article-db2.chmaiagjipqy.ap-south-1.docdb.amazonaws.com', 27017) side of the tunnel: open new channel ssh error: SSH session not active\n",
      "2024-02-08 17:17:38,061| ERROR   | Could not establish connection from local ('127.0.0.1', 3793) to remote ('insight-beta-article-db2.chmaiagjipqy.ap-south-1.docdb.amazonaws.com', 27017) side of the tunnel: open new channel ssh error: SSH session not active\n",
      "2024-02-08 17:17:48,152| ERROR   | Could not establish connection from local ('127.0.0.1', 3793) to remote ('insight-beta-article-db2.chmaiagjipqy.ap-south-1.docdb.amazonaws.com', 27017) side of the tunnel: open new channel ssh error: SSH session not active\n",
      "2024-02-08 17:17:58,231| ERROR   | Could not establish connection from local ('127.0.0.1', 3793) to remote ('insight-beta-article-db2.chmaiagjipqy.ap-south-1.docdb.amazonaws.com', 27017) side of the tunnel: open new channel ssh error: SSH session not active\n",
      "2024-02-08 17:18:08,303| ERROR   | Could not establish connection from local ('127.0.0.1', 3793) to remote ('insight-beta-article-db2.chmaiagjipqy.ap-south-1.docdb.amazonaws.com', 27017) side of the tunnel: open new channel ssh error: SSH session not active\n",
      "2024-02-08 17:18:18,379| ERROR   | Could not establish connection from local ('127.0.0.1', 3793) to remote ('insight-beta-article-db2.chmaiagjipqy.ap-south-1.docdb.amazonaws.com', 27017) side of the tunnel: open new channel ssh error: SSH session not active\n",
      "2024-02-08 17:18:28,452| ERROR   | Could not establish connection from local ('127.0.0.1', 3793) to remote ('insight-beta-article-db2.chmaiagjipqy.ap-south-1.docdb.amazonaws.com', 27017) side of the tunnel: open new channel ssh error: SSH session not active\n",
      "2024-02-08 17:18:38,526| ERROR   | Could not establish connection from local ('127.0.0.1', 3793) to remote ('insight-beta-article-db2.chmaiagjipqy.ap-south-1.docdb.amazonaws.com', 27017) side of the tunnel: open new channel ssh error: SSH session not active\n",
      "2024-02-08 17:18:48,601| ERROR   | Could not establish connection from local ('127.0.0.1', 3793) to remote ('insight-beta-article-db2.chmaiagjipqy.ap-south-1.docdb.amazonaws.com', 27017) side of the tunnel: open new channel ssh error: SSH session not active\n",
      "2024-02-08 17:18:58,657| ERROR   | Could not establish connection from local ('127.0.0.1', 3793) to remote ('insight-beta-article-db2.chmaiagjipqy.ap-south-1.docdb.amazonaws.com', 27017) side of the tunnel: open new channel ssh error: SSH session not active\n",
      "2024-02-08 17:19:08,723| ERROR   | Could not establish connection from local ('127.0.0.1', 3793) to remote ('insight-beta-article-db2.chmaiagjipqy.ap-south-1.docdb.amazonaws.com', 27017) side of the tunnel: open new channel ssh error: SSH session not active\n",
      "2024-02-08 17:19:18,800| ERROR   | Could not establish connection from local ('127.0.0.1', 3793) to remote ('insight-beta-article-db2.chmaiagjipqy.ap-south-1.docdb.amazonaws.com', 27017) side of the tunnel: open new channel ssh error: SSH session not active\n",
      "2024-02-08 17:19:28,869| ERROR   | Could not establish connection from local ('127.0.0.1', 3793) to remote ('insight-beta-article-db2.chmaiagjipqy.ap-south-1.docdb.amazonaws.com', 27017) side of the tunnel: open new channel ssh error: SSH session not active\n",
      "2024-02-08 17:19:38,941| ERROR   | Could not establish connection from local ('127.0.0.1', 3793) to remote ('insight-beta-article-db2.chmaiagjipqy.ap-south-1.docdb.amazonaws.com', 27017) side of the tunnel: open new channel ssh error: SSH session not active\n",
      "2024-02-08 17:19:49,014| ERROR   | Could not establish connection from local ('127.0.0.1', 3793) to remote ('insight-beta-article-db2.chmaiagjipqy.ap-south-1.docdb.amazonaws.com', 27017) side of the tunnel: open new channel ssh error: SSH session not active\n",
      "2024-02-08 17:19:59,083| ERROR   | Could not establish connection from local ('127.0.0.1', 3793) to remote ('insight-beta-article-db2.chmaiagjipqy.ap-south-1.docdb.amazonaws.com', 27017) side of the tunnel: open new channel ssh error: SSH session not active\n",
      "2024-02-08 17:20:09,149| ERROR   | Could not establish connection from local ('127.0.0.1', 3793) to remote ('insight-beta-article-db2.chmaiagjipqy.ap-south-1.docdb.amazonaws.com', 27017) side of the tunnel: open new channel ssh error: SSH session not active\n",
      "2024-02-08 17:20:19,212| ERROR   | Could not establish connection from local ('127.0.0.1', 3793) to remote ('insight-beta-article-db2.chmaiagjipqy.ap-south-1.docdb.amazonaws.com', 27017) side of the tunnel: open new channel ssh error: SSH session not active\n",
      "2024-02-08 17:20:29,286| ERROR   | Could not establish connection from local ('127.0.0.1', 3793) to remote ('insight-beta-article-db2.chmaiagjipqy.ap-south-1.docdb.amazonaws.com', 27017) side of the tunnel: open new channel ssh error: SSH session not active\n",
      "2024-02-08 17:20:39,356| ERROR   | Could not establish connection from local ('127.0.0.1', 3793) to remote ('insight-beta-article-db2.chmaiagjipqy.ap-south-1.docdb.amazonaws.com', 27017) side of the tunnel: open new channel ssh error: SSH session not active\n",
      "2024-02-08 17:20:49,429| ERROR   | Could not establish connection from local ('127.0.0.1', 3793) to remote ('insight-beta-article-db2.chmaiagjipqy.ap-south-1.docdb.amazonaws.com', 27017) side of the tunnel: open new channel ssh error: SSH session not active\n",
      "2024-02-08 17:20:59,505| ERROR   | Could not establish connection from local ('127.0.0.1', 3793) to remote ('insight-beta-article-db2.chmaiagjipqy.ap-south-1.docdb.amazonaws.com', 27017) side of the tunnel: open new channel ssh error: SSH session not active\n",
      "2024-02-08 17:21:09,586| ERROR   | Could not establish connection from local ('127.0.0.1', 3793) to remote ('insight-beta-article-db2.chmaiagjipqy.ap-south-1.docdb.amazonaws.com', 27017) side of the tunnel: open new channel ssh error: SSH session not active\n",
      "2024-02-08 17:21:19,668| ERROR   | Could not establish connection from local ('127.0.0.1', 3793) to remote ('insight-beta-article-db2.chmaiagjipqy.ap-south-1.docdb.amazonaws.com', 27017) side of the tunnel: open new channel ssh error: SSH session not active\n",
      "2024-02-08 17:21:29,740| ERROR   | Could not establish connection from local ('127.0.0.1', 3793) to remote ('insight-beta-article-db2.chmaiagjipqy.ap-south-1.docdb.amazonaws.com', 27017) side of the tunnel: open new channel ssh error: SSH session not active\n",
      "2024-02-08 17:21:39,812| ERROR   | Could not establish connection from local ('127.0.0.1', 3793) to remote ('insight-beta-article-db2.chmaiagjipqy.ap-south-1.docdb.amazonaws.com', 27017) side of the tunnel: open new channel ssh error: SSH session not active\n",
      "2024-02-08 17:21:49,886| ERROR   | Could not establish connection from local ('127.0.0.1', 3793) to remote ('insight-beta-article-db2.chmaiagjipqy.ap-south-1.docdb.amazonaws.com', 27017) side of the tunnel: open new channel ssh error: SSH session not active\n",
      "2024-02-08 17:21:59,960| ERROR   | Could not establish connection from local ('127.0.0.1', 3793) to remote ('insight-beta-article-db2.chmaiagjipqy.ap-south-1.docdb.amazonaws.com', 27017) side of the tunnel: open new channel ssh error: SSH session not active\n",
      "2024-02-08 17:22:10,021| ERROR   | Could not establish connection from local ('127.0.0.1', 3793) to remote ('insight-beta-article-db2.chmaiagjipqy.ap-south-1.docdb.amazonaws.com', 27017) side of the tunnel: open new channel ssh error: SSH session not active\n",
      "2024-02-08 17:22:20,101| ERROR   | Could not establish connection from local ('127.0.0.1', 3793) to remote ('insight-beta-article-db2.chmaiagjipqy.ap-south-1.docdb.amazonaws.com', 27017) side of the tunnel: open new channel ssh error: SSH session not active\n",
      "2024-02-08 17:22:30,175| ERROR   | Could not establish connection from local ('127.0.0.1', 3793) to remote ('insight-beta-article-db2.chmaiagjipqy.ap-south-1.docdb.amazonaws.com', 27017) side of the tunnel: open new channel ssh error: SSH session not active\n",
      "2024-02-08 17:22:40,254| ERROR   | Could not establish connection from local ('127.0.0.1', 3793) to remote ('insight-beta-article-db2.chmaiagjipqy.ap-south-1.docdb.amazonaws.com', 27017) side of the tunnel: open new channel ssh error: SSH session not active\n",
      "2024-02-08 17:22:50,315| ERROR   | Could not establish connection from local ('127.0.0.1', 3793) to remote ('insight-beta-article-db2.chmaiagjipqy.ap-south-1.docdb.amazonaws.com', 27017) side of the tunnel: open new channel ssh error: SSH session not active\n",
      "2024-02-08 17:23:00,390| ERROR   | Could not establish connection from local ('127.0.0.1', 3793) to remote ('insight-beta-article-db2.chmaiagjipqy.ap-south-1.docdb.amazonaws.com', 27017) side of the tunnel: open new channel ssh error: SSH session not active\n",
      "2024-02-08 17:23:10,461| ERROR   | Could not establish connection from local ('127.0.0.1', 3793) to remote ('insight-beta-article-db2.chmaiagjipqy.ap-south-1.docdb.amazonaws.com', 27017) side of the tunnel: open new channel ssh error: SSH session not active\n",
      "2024-02-08 17:23:20,521| ERROR   | Could not establish connection from local ('127.0.0.1', 3793) to remote ('insight-beta-article-db2.chmaiagjipqy.ap-south-1.docdb.amazonaws.com', 27017) side of the tunnel: open new channel ssh error: SSH session not active\n",
      "2024-02-08 17:23:30,594| ERROR   | Could not establish connection from local ('127.0.0.1', 3793) to remote ('insight-beta-article-db2.chmaiagjipqy.ap-south-1.docdb.amazonaws.com', 27017) side of the tunnel: open new channel ssh error: SSH session not active\n",
      "2024-02-08 17:23:40,691| ERROR   | Could not establish connection from local ('127.0.0.1', 3793) to remote ('insight-beta-article-db2.chmaiagjipqy.ap-south-1.docdb.amazonaws.com', 27017) side of the tunnel: open new channel ssh error: SSH session not active\n",
      "2024-02-08 17:23:50,758| ERROR   | Could not establish connection from local ('127.0.0.1', 3793) to remote ('insight-beta-article-db2.chmaiagjipqy.ap-south-1.docdb.amazonaws.com', 27017) side of the tunnel: open new channel ssh error: SSH session not active\n",
      "2024-02-08 17:24:00,833| ERROR   | Could not establish connection from local ('127.0.0.1', 3793) to remote ('insight-beta-article-db2.chmaiagjipqy.ap-south-1.docdb.amazonaws.com', 27017) side of the tunnel: open new channel ssh error: SSH session not active\n",
      "2024-02-08 17:24:10,913| ERROR   | Could not establish connection from local ('127.0.0.1', 3793) to remote ('insight-beta-article-db2.chmaiagjipqy.ap-south-1.docdb.amazonaws.com', 27017) side of the tunnel: open new channel ssh error: SSH session not active\n",
      "2024-02-08 17:24:20,992| ERROR   | Could not establish connection from local ('127.0.0.1', 3793) to remote ('insight-beta-article-db2.chmaiagjipqy.ap-south-1.docdb.amazonaws.com', 27017) side of the tunnel: open new channel ssh error: SSH session not active\n",
      "2024-02-08 17:24:31,063| ERROR   | Could not establish connection from local ('127.0.0.1', 3793) to remote ('insight-beta-article-db2.chmaiagjipqy.ap-south-1.docdb.amazonaws.com', 27017) side of the tunnel: open new channel ssh error: SSH session not active\n",
      "2024-02-08 17:24:41,136| ERROR   | Could not establish connection from local ('127.0.0.1', 3793) to remote ('insight-beta-article-db2.chmaiagjipqy.ap-south-1.docdb.amazonaws.com', 27017) side of the tunnel: open new channel ssh error: SSH session not active\n",
      "2024-02-08 17:24:51,217| ERROR   | Could not establish connection from local ('127.0.0.1', 3793) to remote ('insight-beta-article-db2.chmaiagjipqy.ap-south-1.docdb.amazonaws.com', 27017) side of the tunnel: open new channel ssh error: SSH session not active\n",
      "2024-02-08 17:25:01,290| ERROR   | Could not establish connection from local ('127.0.0.1', 3793) to remote ('insight-beta-article-db2.chmaiagjipqy.ap-south-1.docdb.amazonaws.com', 27017) side of the tunnel: open new channel ssh error: SSH session not active\n",
      "2024-02-08 17:25:11,360| ERROR   | Could not establish connection from local ('127.0.0.1', 3793) to remote ('insight-beta-article-db2.chmaiagjipqy.ap-south-1.docdb.amazonaws.com', 27017) side of the tunnel: open new channel ssh error: SSH session not active\n",
      "2024-02-08 17:25:21,443| ERROR   | Could not establish connection from local ('127.0.0.1', 3793) to remote ('insight-beta-article-db2.chmaiagjipqy.ap-south-1.docdb.amazonaws.com', 27017) side of the tunnel: open new channel ssh error: SSH session not active\n",
      "2024-02-08 17:25:31,516| ERROR   | Could not establish connection from local ('127.0.0.1', 3793) to remote ('insight-beta-article-db2.chmaiagjipqy.ap-south-1.docdb.amazonaws.com', 27017) side of the tunnel: open new channel ssh error: SSH session not active\n",
      "2024-02-08 17:25:41,586| ERROR   | Could not establish connection from local ('127.0.0.1', 3793) to remote ('insight-beta-article-db2.chmaiagjipqy.ap-south-1.docdb.amazonaws.com', 27017) side of the tunnel: open new channel ssh error: SSH session not active\n",
      "2024-02-08 17:25:51,666| ERROR   | Could not establish connection from local ('127.0.0.1', 3793) to remote ('insight-beta-article-db2.chmaiagjipqy.ap-south-1.docdb.amazonaws.com', 27017) side of the tunnel: open new channel ssh error: SSH session not active\n",
      "2024-02-08 17:26:01,735| ERROR   | Could not establish connection from local ('127.0.0.1', 3793) to remote ('insight-beta-article-db2.chmaiagjipqy.ap-south-1.docdb.amazonaws.com', 27017) side of the tunnel: open new channel ssh error: SSH session not active\n",
      "2024-02-08 17:26:11,807| ERROR   | Could not establish connection from local ('127.0.0.1', 3793) to remote ('insight-beta-article-db2.chmaiagjipqy.ap-south-1.docdb.amazonaws.com', 27017) side of the tunnel: open new channel ssh error: SSH session not active\n",
      "2024-02-08 17:26:21,877| ERROR   | Could not establish connection from local ('127.0.0.1', 3793) to remote ('insight-beta-article-db2.chmaiagjipqy.ap-south-1.docdb.amazonaws.com', 27017) side of the tunnel: open new channel ssh error: SSH session not active\n",
      "2024-02-08 17:26:31,934| ERROR   | Could not establish connection from local ('127.0.0.1', 3793) to remote ('insight-beta-article-db2.chmaiagjipqy.ap-south-1.docdb.amazonaws.com', 27017) side of the tunnel: open new channel ssh error: SSH session not active\n",
      "2024-02-08 17:26:42,001| ERROR   | Could not establish connection from local ('127.0.0.1', 3793) to remote ('insight-beta-article-db2.chmaiagjipqy.ap-south-1.docdb.amazonaws.com', 27017) side of the tunnel: open new channel ssh error: SSH session not active\n",
      "2024-02-08 17:26:52,085| ERROR   | Could not establish connection from local ('127.0.0.1', 3793) to remote ('insight-beta-article-db2.chmaiagjipqy.ap-south-1.docdb.amazonaws.com', 27017) side of the tunnel: open new channel ssh error: SSH session not active\n",
      "2024-02-08 17:27:02,160| ERROR   | Could not establish connection from local ('127.0.0.1', 3793) to remote ('insight-beta-article-db2.chmaiagjipqy.ap-south-1.docdb.amazonaws.com', 27017) side of the tunnel: open new channel ssh error: SSH session not active\n",
      "2024-02-08 17:27:12,237| ERROR   | Could not establish connection from local ('127.0.0.1', 3793) to remote ('insight-beta-article-db2.chmaiagjipqy.ap-south-1.docdb.amazonaws.com', 27017) side of the tunnel: open new channel ssh error: SSH session not active\n",
      "2024-02-08 17:27:22,302| ERROR   | Could not establish connection from local ('127.0.0.1', 3793) to remote ('insight-beta-article-db2.chmaiagjipqy.ap-south-1.docdb.amazonaws.com', 27017) side of the tunnel: open new channel ssh error: SSH session not active\n",
      "2024-02-08 17:27:32,371| ERROR   | Could not establish connection from local ('127.0.0.1', 3793) to remote ('insight-beta-article-db2.chmaiagjipqy.ap-south-1.docdb.amazonaws.com', 27017) side of the tunnel: open new channel ssh error: SSH session not active\n",
      "2024-02-08 17:27:42,449| ERROR   | Could not establish connection from local ('127.0.0.1', 3793) to remote ('insight-beta-article-db2.chmaiagjipqy.ap-south-1.docdb.amazonaws.com', 27017) side of the tunnel: open new channel ssh error: SSH session not active\n",
      "2024-02-08 17:27:52,529| ERROR   | Could not establish connection from local ('127.0.0.1', 3793) to remote ('insight-beta-article-db2.chmaiagjipqy.ap-south-1.docdb.amazonaws.com', 27017) side of the tunnel: open new channel ssh error: SSH session not active\n",
      "2024-02-08 17:28:02,594| ERROR   | Could not establish connection from local ('127.0.0.1', 3793) to remote ('insight-beta-article-db2.chmaiagjipqy.ap-south-1.docdb.amazonaws.com', 27017) side of the tunnel: open new channel ssh error: SSH session not active\n",
      "2024-02-08 17:28:12,675| ERROR   | Could not establish connection from local ('127.0.0.1', 3793) to remote ('insight-beta-article-db2.chmaiagjipqy.ap-south-1.docdb.amazonaws.com', 27017) side of the tunnel: open new channel ssh error: SSH session not active\n",
      "2024-02-08 17:28:22,752| ERROR   | Could not establish connection from local ('127.0.0.1', 3793) to remote ('insight-beta-article-db2.chmaiagjipqy.ap-south-1.docdb.amazonaws.com', 27017) side of the tunnel: open new channel ssh error: SSH session not active\n",
      "2024-02-08 17:28:32,836| ERROR   | Could not establish connection from local ('127.0.0.1', 3793) to remote ('insight-beta-article-db2.chmaiagjipqy.ap-south-1.docdb.amazonaws.com', 27017) side of the tunnel: open new channel ssh error: SSH session not active\n",
      "2024-02-08 17:28:42,911| ERROR   | Could not establish connection from local ('127.0.0.1', 3793) to remote ('insight-beta-article-db2.chmaiagjipqy.ap-south-1.docdb.amazonaws.com', 27017) side of the tunnel: open new channel ssh error: SSH session not active\n",
      "2024-02-08 17:28:52,992| ERROR   | Could not establish connection from local ('127.0.0.1', 3793) to remote ('insight-beta-article-db2.chmaiagjipqy.ap-south-1.docdb.amazonaws.com', 27017) side of the tunnel: open new channel ssh error: SSH session not active\n",
      "2024-02-08 17:29:03,078| ERROR   | Could not establish connection from local ('127.0.0.1', 3793) to remote ('insight-beta-article-db2.chmaiagjipqy.ap-south-1.docdb.amazonaws.com', 27017) side of the tunnel: open new channel ssh error: SSH session not active\n",
      "2024-02-08 17:29:13,155| ERROR   | Could not establish connection from local ('127.0.0.1', 3793) to remote ('insight-beta-article-db2.chmaiagjipqy.ap-south-1.docdb.amazonaws.com', 27017) side of the tunnel: open new channel ssh error: SSH session not active\n",
      "2024-02-08 17:29:23,228| ERROR   | Could not establish connection from local ('127.0.0.1', 3793) to remote ('insight-beta-article-db2.chmaiagjipqy.ap-south-1.docdb.amazonaws.com', 27017) side of the tunnel: open new channel ssh error: SSH session not active\n",
      "2024-02-08 17:29:33,298| ERROR   | Could not establish connection from local ('127.0.0.1', 3793) to remote ('insight-beta-article-db2.chmaiagjipqy.ap-south-1.docdb.amazonaws.com', 27017) side of the tunnel: open new channel ssh error: SSH session not active\n",
      "2024-02-08 17:29:43,359| ERROR   | Could not establish connection from local ('127.0.0.1', 3793) to remote ('insight-beta-article-db2.chmaiagjipqy.ap-south-1.docdb.amazonaws.com', 27017) side of the tunnel: open new channel ssh error: SSH session not active\n",
      "2024-02-08 17:29:53,424| ERROR   | Could not establish connection from local ('127.0.0.1', 3793) to remote ('insight-beta-article-db2.chmaiagjipqy.ap-south-1.docdb.amazonaws.com', 27017) side of the tunnel: open new channel ssh error: SSH session not active\n",
      "2024-02-08 17:30:03,509| ERROR   | Could not establish connection from local ('127.0.0.1', 3793) to remote ('insight-beta-article-db2.chmaiagjipqy.ap-south-1.docdb.amazonaws.com', 27017) side of the tunnel: open new channel ssh error: SSH session not active\n",
      "2024-02-08 17:30:13,579| ERROR   | Could not establish connection from local ('127.0.0.1', 3793) to remote ('insight-beta-article-db2.chmaiagjipqy.ap-south-1.docdb.amazonaws.com', 27017) side of the tunnel: open new channel ssh error: SSH session not active\n",
      "2024-02-08 17:30:23,651| ERROR   | Could not establish connection from local ('127.0.0.1', 3793) to remote ('insight-beta-article-db2.chmaiagjipqy.ap-south-1.docdb.amazonaws.com', 27017) side of the tunnel: open new channel ssh error: SSH session not active\n",
      "2024-02-08 17:30:33,718| ERROR   | Could not establish connection from local ('127.0.0.1', 3793) to remote ('insight-beta-article-db2.chmaiagjipqy.ap-south-1.docdb.amazonaws.com', 27017) side of the tunnel: open new channel ssh error: SSH session not active\n",
      "2024-02-08 17:30:43,796| ERROR   | Could not establish connection from local ('127.0.0.1', 3793) to remote ('insight-beta-article-db2.chmaiagjipqy.ap-south-1.docdb.amazonaws.com', 27017) side of the tunnel: open new channel ssh error: SSH session not active\n",
      "2024-02-08 17:30:53,886| ERROR   | Could not establish connection from local ('127.0.0.1', 3793) to remote ('insight-beta-article-db2.chmaiagjipqy.ap-south-1.docdb.amazonaws.com', 27017) side of the tunnel: open new channel ssh error: SSH session not active\n",
      "2024-02-08 17:31:03,961| ERROR   | Could not establish connection from local ('127.0.0.1', 3793) to remote ('insight-beta-article-db2.chmaiagjipqy.ap-south-1.docdb.amazonaws.com', 27017) side of the tunnel: open new channel ssh error: SSH session not active\n",
      "2024-02-08 17:31:14,034| ERROR   | Could not establish connection from local ('127.0.0.1', 3793) to remote ('insight-beta-article-db2.chmaiagjipqy.ap-south-1.docdb.amazonaws.com', 27017) side of the tunnel: open new channel ssh error: SSH session not active\n",
      "2024-02-08 17:31:24,111| ERROR   | Could not establish connection from local ('127.0.0.1', 3793) to remote ('insight-beta-article-db2.chmaiagjipqy.ap-south-1.docdb.amazonaws.com', 27017) side of the tunnel: open new channel ssh error: SSH session not active\n",
      "2024-02-08 17:31:34,178| ERROR   | Could not establish connection from local ('127.0.0.1', 3793) to remote ('insight-beta-article-db2.chmaiagjipqy.ap-south-1.docdb.amazonaws.com', 27017) side of the tunnel: open new channel ssh error: SSH session not active\n",
      "2024-02-08 17:31:44,252| ERROR   | Could not establish connection from local ('127.0.0.1', 3793) to remote ('insight-beta-article-db2.chmaiagjipqy.ap-south-1.docdb.amazonaws.com', 27017) side of the tunnel: open new channel ssh error: SSH session not active\n",
      "2024-02-08 17:31:54,335| ERROR   | Could not establish connection from local ('127.0.0.1', 3793) to remote ('insight-beta-article-db2.chmaiagjipqy.ap-south-1.docdb.amazonaws.com', 27017) side of the tunnel: open new channel ssh error: SSH session not active\n",
      "2024-02-08 17:32:04,413| ERROR   | Could not establish connection from local ('127.0.0.1', 3793) to remote ('insight-beta-article-db2.chmaiagjipqy.ap-south-1.docdb.amazonaws.com', 27017) side of the tunnel: open new channel ssh error: SSH session not active\n",
      "2024-02-08 17:32:14,489| ERROR   | Could not establish connection from local ('127.0.0.1', 3793) to remote ('insight-beta-article-db2.chmaiagjipqy.ap-south-1.docdb.amazonaws.com', 27017) side of the tunnel: open new channel ssh error: SSH session not active\n",
      "2024-02-08 17:32:24,563| ERROR   | Could not establish connection from local ('127.0.0.1', 3793) to remote ('insight-beta-article-db2.chmaiagjipqy.ap-south-1.docdb.amazonaws.com', 27017) side of the tunnel: open new channel ssh error: SSH session not active\n",
      "2024-02-08 17:32:34,636| ERROR   | Could not establish connection from local ('127.0.0.1', 3793) to remote ('insight-beta-article-db2.chmaiagjipqy.ap-south-1.docdb.amazonaws.com', 27017) side of the tunnel: open new channel ssh error: SSH session not active\n",
      "2024-02-08 17:32:44,722| ERROR   | Could not establish connection from local ('127.0.0.1', 3793) to remote ('insight-beta-article-db2.chmaiagjipqy.ap-south-1.docdb.amazonaws.com', 27017) side of the tunnel: open new channel ssh error: SSH session not active\n",
      "2024-02-08 17:32:54,804| ERROR   | Could not establish connection from local ('127.0.0.1', 3793) to remote ('insight-beta-article-db2.chmaiagjipqy.ap-south-1.docdb.amazonaws.com', 27017) side of the tunnel: open new channel ssh error: SSH session not active\n",
      "2024-02-08 17:33:04,870| ERROR   | Could not establish connection from local ('127.0.0.1', 3793) to remote ('insight-beta-article-db2.chmaiagjipqy.ap-south-1.docdb.amazonaws.com', 27017) side of the tunnel: open new channel ssh error: SSH session not active\n",
      "2024-02-08 17:33:14,945| ERROR   | Could not establish connection from local ('127.0.0.1', 3793) to remote ('insight-beta-article-db2.chmaiagjipqy.ap-south-1.docdb.amazonaws.com', 27017) side of the tunnel: open new channel ssh error: SSH session not active\n",
      "2024-02-08 17:33:25,017| ERROR   | Could not establish connection from local ('127.0.0.1', 3793) to remote ('insight-beta-article-db2.chmaiagjipqy.ap-south-1.docdb.amazonaws.com', 27017) side of the tunnel: open new channel ssh error: SSH session not active\n",
      "2024-02-08 17:33:35,087| ERROR   | Could not establish connection from local ('127.0.0.1', 3793) to remote ('insight-beta-article-db2.chmaiagjipqy.ap-south-1.docdb.amazonaws.com', 27017) side of the tunnel: open new channel ssh error: SSH session not active\n",
      "2024-02-08 17:33:45,166| ERROR   | Could not establish connection from local ('127.0.0.1', 3793) to remote ('insight-beta-article-db2.chmaiagjipqy.ap-south-1.docdb.amazonaws.com', 27017) side of the tunnel: open new channel ssh error: SSH session not active\n",
      "2024-02-08 17:33:55,241| ERROR   | Could not establish connection from local ('127.0.0.1', 3793) to remote ('insight-beta-article-db2.chmaiagjipqy.ap-south-1.docdb.amazonaws.com', 27017) side of the tunnel: open new channel ssh error: SSH session not active\n",
      "2024-02-08 17:34:05,331| ERROR   | Could not establish connection from local ('127.0.0.1', 3793) to remote ('insight-beta-article-db2.chmaiagjipqy.ap-south-1.docdb.amazonaws.com', 27017) side of the tunnel: open new channel ssh error: SSH session not active\n",
      "2024-02-08 17:34:15,417| ERROR   | Could not establish connection from local ('127.0.0.1', 3793) to remote ('insight-beta-article-db2.chmaiagjipqy.ap-south-1.docdb.amazonaws.com', 27017) side of the tunnel: open new channel ssh error: SSH session not active\n",
      "2024-02-08 17:34:25,484| ERROR   | Could not establish connection from local ('127.0.0.1', 3793) to remote ('insight-beta-article-db2.chmaiagjipqy.ap-south-1.docdb.amazonaws.com', 27017) side of the tunnel: open new channel ssh error: SSH session not active\n",
      "2024-02-08 17:34:35,568| ERROR   | Could not establish connection from local ('127.0.0.1', 3793) to remote ('insight-beta-article-db2.chmaiagjipqy.ap-south-1.docdb.amazonaws.com', 27017) side of the tunnel: open new channel ssh error: SSH session not active\n",
      "2024-02-08 17:34:45,653| ERROR   | Could not establish connection from local ('127.0.0.1', 3793) to remote ('insight-beta-article-db2.chmaiagjipqy.ap-south-1.docdb.amazonaws.com', 27017) side of the tunnel: open new channel ssh error: SSH session not active\n",
      "2024-02-08 17:34:55,765| ERROR   | Could not establish connection from local ('127.0.0.1', 3793) to remote ('insight-beta-article-db2.chmaiagjipqy.ap-south-1.docdb.amazonaws.com', 27017) side of the tunnel: open new channel ssh error: SSH session not active\n",
      "2024-02-08 17:35:05,917| ERROR   | Could not establish connection from local ('127.0.0.1', 3793) to remote ('insight-beta-article-db2.chmaiagjipqy.ap-south-1.docdb.amazonaws.com', 27017) side of the tunnel: open new channel ssh error: SSH session not active\n",
      "2024-02-08 17:35:16,050| ERROR   | Could not establish connection from local ('127.0.0.1', 3793) to remote ('insight-beta-article-db2.chmaiagjipqy.ap-south-1.docdb.amazonaws.com', 27017) side of the tunnel: open new channel ssh error: SSH session not active\n",
      "2024-02-08 17:35:26,201| ERROR   | Could not establish connection from local ('127.0.0.1', 3793) to remote ('insight-beta-article-db2.chmaiagjipqy.ap-south-1.docdb.amazonaws.com', 27017) side of the tunnel: open new channel ssh error: SSH session not active\n",
      "2024-02-08 17:35:36,322| ERROR   | Could not establish connection from local ('127.0.0.1', 3793) to remote ('insight-beta-article-db2.chmaiagjipqy.ap-south-1.docdb.amazonaws.com', 27017) side of the tunnel: open new channel ssh error: SSH session not active\n",
      "2024-02-08 17:35:46,435| ERROR   | Could not establish connection from local ('127.0.0.1', 3793) to remote ('insight-beta-article-db2.chmaiagjipqy.ap-south-1.docdb.amazonaws.com', 27017) side of the tunnel: open new channel ssh error: SSH session not active\n",
      "2024-02-08 17:35:56,528| ERROR   | Could not establish connection from local ('127.0.0.1', 3793) to remote ('insight-beta-article-db2.chmaiagjipqy.ap-south-1.docdb.amazonaws.com', 27017) side of the tunnel: open new channel ssh error: SSH session not active\n",
      "2024-02-08 17:36:06,609| ERROR   | Could not establish connection from local ('127.0.0.1', 3793) to remote ('insight-beta-article-db2.chmaiagjipqy.ap-south-1.docdb.amazonaws.com', 27017) side of the tunnel: open new channel ssh error: SSH session not active\n",
      "2024-02-08 17:36:16,691| ERROR   | Could not establish connection from local ('127.0.0.1', 3793) to remote ('insight-beta-article-db2.chmaiagjipqy.ap-south-1.docdb.amazonaws.com', 27017) side of the tunnel: open new channel ssh error: SSH session not active\n",
      "2024-02-08 17:36:26,758| ERROR   | Could not establish connection from local ('127.0.0.1', 3793) to remote ('insight-beta-article-db2.chmaiagjipqy.ap-south-1.docdb.amazonaws.com', 27017) side of the tunnel: open new channel ssh error: SSH session not active\n",
      "2024-02-08 17:36:36,836| ERROR   | Could not establish connection from local ('127.0.0.1', 3793) to remote ('insight-beta-article-db2.chmaiagjipqy.ap-south-1.docdb.amazonaws.com', 27017) side of the tunnel: open new channel ssh error: SSH session not active\n",
      "2024-02-08 17:36:46,902| ERROR   | Could not establish connection from local ('127.0.0.1', 3793) to remote ('insight-beta-article-db2.chmaiagjipqy.ap-south-1.docdb.amazonaws.com', 27017) side of the tunnel: open new channel ssh error: SSH session not active\n",
      "2024-02-08 17:36:56,987| ERROR   | Could not establish connection from local ('127.0.0.1', 3793) to remote ('insight-beta-article-db2.chmaiagjipqy.ap-south-1.docdb.amazonaws.com', 27017) side of the tunnel: open new channel ssh error: SSH session not active\n",
      "2024-02-08 17:37:07,045| ERROR   | Could not establish connection from local ('127.0.0.1', 3793) to remote ('insight-beta-article-db2.chmaiagjipqy.ap-south-1.docdb.amazonaws.com', 27017) side of the tunnel: open new channel ssh error: SSH session not active\n",
      "2024-02-08 17:37:17,124| ERROR   | Could not establish connection from local ('127.0.0.1', 3793) to remote ('insight-beta-article-db2.chmaiagjipqy.ap-south-1.docdb.amazonaws.com', 27017) side of the tunnel: open new channel ssh error: SSH session not active\n",
      "2024-02-08 17:37:27,196| ERROR   | Could not establish connection from local ('127.0.0.1', 3793) to remote ('insight-beta-article-db2.chmaiagjipqy.ap-south-1.docdb.amazonaws.com', 27017) side of the tunnel: open new channel ssh error: SSH session not active\n",
      "2024-02-08 17:37:37,275| ERROR   | Could not establish connection from local ('127.0.0.1', 3793) to remote ('insight-beta-article-db2.chmaiagjipqy.ap-south-1.docdb.amazonaws.com', 27017) side of the tunnel: open new channel ssh error: SSH session not active\n",
      "2024-02-08 17:37:47,356| ERROR   | Could not establish connection from local ('127.0.0.1', 3793) to remote ('insight-beta-article-db2.chmaiagjipqy.ap-south-1.docdb.amazonaws.com', 27017) side of the tunnel: open new channel ssh error: SSH session not active\n",
      "2024-02-08 17:37:57,427| ERROR   | Could not establish connection from local ('127.0.0.1', 3793) to remote ('insight-beta-article-db2.chmaiagjipqy.ap-south-1.docdb.amazonaws.com', 27017) side of the tunnel: open new channel ssh error: SSH session not active\n",
      "2024-02-08 17:38:07,520| ERROR   | Could not establish connection from local ('127.0.0.1', 3793) to remote ('insight-beta-article-db2.chmaiagjipqy.ap-south-1.docdb.amazonaws.com', 27017) side of the tunnel: open new channel ssh error: SSH session not active\n",
      "2024-02-08 17:38:17,596| ERROR   | Could not establish connection from local ('127.0.0.1', 3793) to remote ('insight-beta-article-db2.chmaiagjipqy.ap-south-1.docdb.amazonaws.com', 27017) side of the tunnel: open new channel ssh error: SSH session not active\n",
      "2024-02-08 17:38:27,667| ERROR   | Could not establish connection from local ('127.0.0.1', 3793) to remote ('insight-beta-article-db2.chmaiagjipqy.ap-south-1.docdb.amazonaws.com', 27017) side of the tunnel: open new channel ssh error: SSH session not active\n",
      "2024-02-08 17:38:37,746| ERROR   | Could not establish connection from local ('127.0.0.1', 3793) to remote ('insight-beta-article-db2.chmaiagjipqy.ap-south-1.docdb.amazonaws.com', 27017) side of the tunnel: open new channel ssh error: SSH session not active\n",
      "2024-02-08 17:38:47,830| ERROR   | Could not establish connection from local ('127.0.0.1', 3793) to remote ('insight-beta-article-db2.chmaiagjipqy.ap-south-1.docdb.amazonaws.com', 27017) side of the tunnel: open new channel ssh error: SSH session not active\n",
      "2024-02-08 17:38:57,896| ERROR   | Could not establish connection from local ('127.0.0.1', 3793) to remote ('insight-beta-article-db2.chmaiagjipqy.ap-south-1.docdb.amazonaws.com', 27017) side of the tunnel: open new channel ssh error: SSH session not active\n",
      "2024-02-08 17:39:07,952| ERROR   | Could not establish connection from local ('127.0.0.1', 3793) to remote ('insight-beta-article-db2.chmaiagjipqy.ap-south-1.docdb.amazonaws.com', 27017) side of the tunnel: open new channel ssh error: SSH session not active\n",
      "2024-02-08 17:39:18,024| ERROR   | Could not establish connection from local ('127.0.0.1', 3793) to remote ('insight-beta-article-db2.chmaiagjipqy.ap-south-1.docdb.amazonaws.com', 27017) side of the tunnel: open new channel ssh error: SSH session not active\n",
      "2024-02-08 17:39:28,083| ERROR   | Could not establish connection from local ('127.0.0.1', 3793) to remote ('insight-beta-article-db2.chmaiagjipqy.ap-south-1.docdb.amazonaws.com', 27017) side of the tunnel: open new channel ssh error: SSH session not active\n",
      "2024-02-08 17:39:38,167| ERROR   | Could not establish connection from local ('127.0.0.1', 3793) to remote ('insight-beta-article-db2.chmaiagjipqy.ap-south-1.docdb.amazonaws.com', 27017) side of the tunnel: open new channel ssh error: SSH session not active\n",
      "2024-02-08 17:39:48,246| ERROR   | Could not establish connection from local ('127.0.0.1', 3793) to remote ('insight-beta-article-db2.chmaiagjipqy.ap-south-1.docdb.amazonaws.com', 27017) side of the tunnel: open new channel ssh error: SSH session not active\n",
      "2024-02-08 17:39:58,310| ERROR   | Could not establish connection from local ('127.0.0.1', 3793) to remote ('insight-beta-article-db2.chmaiagjipqy.ap-south-1.docdb.amazonaws.com', 27017) side of the tunnel: open new channel ssh error: SSH session not active\n",
      "2024-02-08 17:40:08,386| ERROR   | Could not establish connection from local ('127.0.0.1', 3793) to remote ('insight-beta-article-db2.chmaiagjipqy.ap-south-1.docdb.amazonaws.com', 27017) side of the tunnel: open new channel ssh error: SSH session not active\n",
      "2024-02-08 17:40:18,467| ERROR   | Could not establish connection from local ('127.0.0.1', 3793) to remote ('insight-beta-article-db2.chmaiagjipqy.ap-south-1.docdb.amazonaws.com', 27017) side of the tunnel: open new channel ssh error: SSH session not active\n",
      "2024-02-08 17:40:28,549| ERROR   | Could not establish connection from local ('127.0.0.1', 3793) to remote ('insight-beta-article-db2.chmaiagjipqy.ap-south-1.docdb.amazonaws.com', 27017) side of the tunnel: open new channel ssh error: SSH session not active\n",
      "2024-02-08 17:40:38,618| ERROR   | Could not establish connection from local ('127.0.0.1', 3793) to remote ('insight-beta-article-db2.chmaiagjipqy.ap-south-1.docdb.amazonaws.com', 27017) side of the tunnel: open new channel ssh error: SSH session not active\n",
      "2024-02-08 17:40:48,692| ERROR   | Could not establish connection from local ('127.0.0.1', 3793) to remote ('insight-beta-article-db2.chmaiagjipqy.ap-south-1.docdb.amazonaws.com', 27017) side of the tunnel: open new channel ssh error: SSH session not active\n",
      "2024-02-08 17:40:58,757| ERROR   | Could not establish connection from local ('127.0.0.1', 3793) to remote ('insight-beta-article-db2.chmaiagjipqy.ap-south-1.docdb.amazonaws.com', 27017) side of the tunnel: open new channel ssh error: SSH session not active\n",
      "2024-02-08 17:41:08,829| ERROR   | Could not establish connection from local ('127.0.0.1', 3793) to remote ('insight-beta-article-db2.chmaiagjipqy.ap-south-1.docdb.amazonaws.com', 27017) side of the tunnel: open new channel ssh error: SSH session not active\n",
      "2024-02-08 17:41:18,911| ERROR   | Could not establish connection from local ('127.0.0.1', 3793) to remote ('insight-beta-article-db2.chmaiagjipqy.ap-south-1.docdb.amazonaws.com', 27017) side of the tunnel: open new channel ssh error: SSH session not active\n",
      "2024-02-08 17:41:28,997| ERROR   | Could not establish connection from local ('127.0.0.1', 3793) to remote ('insight-beta-article-db2.chmaiagjipqy.ap-south-1.docdb.amazonaws.com', 27017) side of the tunnel: open new channel ssh error: SSH session not active\n",
      "2024-02-08 17:41:39,062| ERROR   | Could not establish connection from local ('127.0.0.1', 3793) to remote ('insight-beta-article-db2.chmaiagjipqy.ap-south-1.docdb.amazonaws.com', 27017) side of the tunnel: open new channel ssh error: SSH session not active\n",
      "2024-02-08 17:41:49,143| ERROR   | Could not establish connection from local ('127.0.0.1', 3793) to remote ('insight-beta-article-db2.chmaiagjipqy.ap-south-1.docdb.amazonaws.com', 27017) side of the tunnel: open new channel ssh error: SSH session not active\n",
      "2024-02-08 17:41:59,225| ERROR   | Could not establish connection from local ('127.0.0.1', 3793) to remote ('insight-beta-article-db2.chmaiagjipqy.ap-south-1.docdb.amazonaws.com', 27017) side of the tunnel: open new channel ssh error: SSH session not active\n",
      "2024-02-08 17:42:09,308| ERROR   | Could not establish connection from local ('127.0.0.1', 3793) to remote ('insight-beta-article-db2.chmaiagjipqy.ap-south-1.docdb.amazonaws.com', 27017) side of the tunnel: open new channel ssh error: SSH session not active\n",
      "2024-02-08 17:42:19,370| ERROR   | Could not establish connection from local ('127.0.0.1', 3793) to remote ('insight-beta-article-db2.chmaiagjipqy.ap-south-1.docdb.amazonaws.com', 27017) side of the tunnel: open new channel ssh error: SSH session not active\n",
      "2024-02-08 17:42:29,418| ERROR   | Could not establish connection from local ('127.0.0.1', 3793) to remote ('insight-beta-article-db2.chmaiagjipqy.ap-south-1.docdb.amazonaws.com', 27017) side of the tunnel: open new channel ssh error: SSH session not active\n",
      "2024-02-08 17:42:39,508| ERROR   | Could not establish connection from local ('127.0.0.1', 3793) to remote ('insight-beta-article-db2.chmaiagjipqy.ap-south-1.docdb.amazonaws.com', 27017) side of the tunnel: open new channel ssh error: SSH session not active\n",
      "2024-02-08 17:42:49,588| ERROR   | Could not establish connection from local ('127.0.0.1', 3793) to remote ('insight-beta-article-db2.chmaiagjipqy.ap-south-1.docdb.amazonaws.com', 27017) side of the tunnel: open new channel ssh error: SSH session not active\n",
      "2024-02-08 17:42:59,663| ERROR   | Could not establish connection from local ('127.0.0.1', 3793) to remote ('insight-beta-article-db2.chmaiagjipqy.ap-south-1.docdb.amazonaws.com', 27017) side of the tunnel: open new channel ssh error: SSH session not active\n",
      "2024-02-08 17:43:09,732| ERROR   | Could not establish connection from local ('127.0.0.1', 3793) to remote ('insight-beta-article-db2.chmaiagjipqy.ap-south-1.docdb.amazonaws.com', 27017) side of the tunnel: open new channel ssh error: SSH session not active\n",
      "2024-02-08 17:43:19,808| ERROR   | Could not establish connection from local ('127.0.0.1', 3793) to remote ('insight-beta-article-db2.chmaiagjipqy.ap-south-1.docdb.amazonaws.com', 27017) side of the tunnel: open new channel ssh error: SSH session not active\n",
      "2024-02-08 17:43:29,882| ERROR   | Could not establish connection from local ('127.0.0.1', 3793) to remote ('insight-beta-article-db2.chmaiagjipqy.ap-south-1.docdb.amazonaws.com', 27017) side of the tunnel: open new channel ssh error: SSH session not active\n",
      "2024-02-08 17:43:39,945| ERROR   | Could not establish connection from local ('127.0.0.1', 3793) to remote ('insight-beta-article-db2.chmaiagjipqy.ap-south-1.docdb.amazonaws.com', 27017) side of the tunnel: open new channel ssh error: SSH session not active\n",
      "2024-02-08 17:43:50,020| ERROR   | Could not establish connection from local ('127.0.0.1', 3793) to remote ('insight-beta-article-db2.chmaiagjipqy.ap-south-1.docdb.amazonaws.com', 27017) side of the tunnel: open new channel ssh error: SSH session not active\n",
      "2024-02-08 17:44:00,096| ERROR   | Could not establish connection from local ('127.0.0.1', 3793) to remote ('insight-beta-article-db2.chmaiagjipqy.ap-south-1.docdb.amazonaws.com', 27017) side of the tunnel: open new channel ssh error: SSH session not active\n",
      "2024-02-08 17:44:10,164| ERROR   | Could not establish connection from local ('127.0.0.1', 3793) to remote ('insight-beta-article-db2.chmaiagjipqy.ap-south-1.docdb.amazonaws.com', 27017) side of the tunnel: open new channel ssh error: SSH session not active\n",
      "2024-02-08 17:44:20,236| ERROR   | Could not establish connection from local ('127.0.0.1', 3793) to remote ('insight-beta-article-db2.chmaiagjipqy.ap-south-1.docdb.amazonaws.com', 27017) side of the tunnel: open new channel ssh error: SSH session not active\n",
      "2024-02-08 17:44:30,323| ERROR   | Could not establish connection from local ('127.0.0.1', 3793) to remote ('insight-beta-article-db2.chmaiagjipqy.ap-south-1.docdb.amazonaws.com', 27017) side of the tunnel: open new channel ssh error: SSH session not active\n",
      "2024-02-08 17:44:40,405| ERROR   | Could not establish connection from local ('127.0.0.1', 3793) to remote ('insight-beta-article-db2.chmaiagjipqy.ap-south-1.docdb.amazonaws.com', 27017) side of the tunnel: open new channel ssh error: SSH session not active\n",
      "2024-02-08 17:44:50,480| ERROR   | Could not establish connection from local ('127.0.0.1', 3793) to remote ('insight-beta-article-db2.chmaiagjipqy.ap-south-1.docdb.amazonaws.com', 27017) side of the tunnel: open new channel ssh error: SSH session not active\n",
      "2024-02-08 17:45:00,559| ERROR   | Could not establish connection from local ('127.0.0.1', 3793) to remote ('insight-beta-article-db2.chmaiagjipqy.ap-south-1.docdb.amazonaws.com', 27017) side of the tunnel: open new channel ssh error: SSH session not active\n",
      "2024-02-08 17:45:10,630| ERROR   | Could not establish connection from local ('127.0.0.1', 3793) to remote ('insight-beta-article-db2.chmaiagjipqy.ap-south-1.docdb.amazonaws.com', 27017) side of the tunnel: open new channel ssh error: SSH session not active\n",
      "2024-02-08 17:45:20,705| ERROR   | Could not establish connection from local ('127.0.0.1', 3793) to remote ('insight-beta-article-db2.chmaiagjipqy.ap-south-1.docdb.amazonaws.com', 27017) side of the tunnel: open new channel ssh error: SSH session not active\n",
      "2024-02-08 17:45:30,781| ERROR   | Could not establish connection from local ('127.0.0.1', 3793) to remote ('insight-beta-article-db2.chmaiagjipqy.ap-south-1.docdb.amazonaws.com', 27017) side of the tunnel: open new channel ssh error: SSH session not active\n",
      "2024-02-08 17:45:40,849| ERROR   | Could not establish connection from local ('127.0.0.1', 3793) to remote ('insight-beta-article-db2.chmaiagjipqy.ap-south-1.docdb.amazonaws.com', 27017) side of the tunnel: open new channel ssh error: SSH session not active\n",
      "2024-02-08 17:45:50,935| ERROR   | Could not establish connection from local ('127.0.0.1', 3793) to remote ('insight-beta-article-db2.chmaiagjipqy.ap-south-1.docdb.amazonaws.com', 27017) side of the tunnel: open new channel ssh error: SSH session not active\n",
      "2024-02-08 17:46:01,002| ERROR   | Could not establish connection from local ('127.0.0.1', 3793) to remote ('insight-beta-article-db2.chmaiagjipqy.ap-south-1.docdb.amazonaws.com', 27017) side of the tunnel: open new channel ssh error: SSH session not active\n",
      "2024-02-08 17:46:11,077| ERROR   | Could not establish connection from local ('127.0.0.1', 3793) to remote ('insight-beta-article-db2.chmaiagjipqy.ap-south-1.docdb.amazonaws.com', 27017) side of the tunnel: open new channel ssh error: SSH session not active\n",
      "2024-02-08 17:46:21,154| ERROR   | Could not establish connection from local ('127.0.0.1', 3793) to remote ('insight-beta-article-db2.chmaiagjipqy.ap-south-1.docdb.amazonaws.com', 27017) side of the tunnel: open new channel ssh error: SSH session not active\n",
      "2024-02-08 17:46:31,227| ERROR   | Could not establish connection from local ('127.0.0.1', 3793) to remote ('insight-beta-article-db2.chmaiagjipqy.ap-south-1.docdb.amazonaws.com', 27017) side of the tunnel: open new channel ssh error: SSH session not active\n",
      "2024-02-08 17:46:41,298| ERROR   | Could not establish connection from local ('127.0.0.1', 3793) to remote ('insight-beta-article-db2.chmaiagjipqy.ap-south-1.docdb.amazonaws.com', 27017) side of the tunnel: open new channel ssh error: SSH session not active\n",
      "2024-02-08 17:46:51,377| ERROR   | Could not establish connection from local ('127.0.0.1', 3793) to remote ('insight-beta-article-db2.chmaiagjipqy.ap-south-1.docdb.amazonaws.com', 27017) side of the tunnel: open new channel ssh error: SSH session not active\n",
      "2024-02-08 17:47:01,449| ERROR   | Could not establish connection from local ('127.0.0.1', 3793) to remote ('insight-beta-article-db2.chmaiagjipqy.ap-south-1.docdb.amazonaws.com', 27017) side of the tunnel: open new channel ssh error: SSH session not active\n",
      "2024-02-08 17:47:11,519| ERROR   | Could not establish connection from local ('127.0.0.1', 3793) to remote ('insight-beta-article-db2.chmaiagjipqy.ap-south-1.docdb.amazonaws.com', 27017) side of the tunnel: open new channel ssh error: SSH session not active\n",
      "2024-02-08 17:47:21,596| ERROR   | Could not establish connection from local ('127.0.0.1', 3793) to remote ('insight-beta-article-db2.chmaiagjipqy.ap-south-1.docdb.amazonaws.com', 27017) side of the tunnel: open new channel ssh error: SSH session not active\n",
      "2024-02-08 17:47:31,680| ERROR   | Could not establish connection from local ('127.0.0.1', 3793) to remote ('insight-beta-article-db2.chmaiagjipqy.ap-south-1.docdb.amazonaws.com', 27017) side of the tunnel: open new channel ssh error: SSH session not active\n",
      "2024-02-08 17:47:41,759| ERROR   | Could not establish connection from local ('127.0.0.1', 3793) to remote ('insight-beta-article-db2.chmaiagjipqy.ap-south-1.docdb.amazonaws.com', 27017) side of the tunnel: open new channel ssh error: SSH session not active\n",
      "2024-02-08 17:47:51,834| ERROR   | Could not establish connection from local ('127.0.0.1', 3793) to remote ('insight-beta-article-db2.chmaiagjipqy.ap-south-1.docdb.amazonaws.com', 27017) side of the tunnel: open new channel ssh error: SSH session not active\n",
      "2024-02-08 17:48:01,923| ERROR   | Could not establish connection from local ('127.0.0.1', 3793) to remote ('insight-beta-article-db2.chmaiagjipqy.ap-south-1.docdb.amazonaws.com', 27017) side of the tunnel: open new channel ssh error: SSH session not active\n",
      "2024-02-08 17:48:12,002| ERROR   | Could not establish connection from local ('127.0.0.1', 3793) to remote ('insight-beta-article-db2.chmaiagjipqy.ap-south-1.docdb.amazonaws.com', 27017) side of the tunnel: open new channel ssh error: SSH session not active\n",
      "2024-02-08 17:48:22,069| ERROR   | Could not establish connection from local ('127.0.0.1', 3793) to remote ('insight-beta-article-db2.chmaiagjipqy.ap-south-1.docdb.amazonaws.com', 27017) side of the tunnel: open new channel ssh error: SSH session not active\n",
      "2024-02-08 17:48:32,144| ERROR   | Could not establish connection from local ('127.0.0.1', 3793) to remote ('insight-beta-article-db2.chmaiagjipqy.ap-south-1.docdb.amazonaws.com', 27017) side of the tunnel: open new channel ssh error: SSH session not active\n",
      "2024-02-08 17:48:42,232| ERROR   | Could not establish connection from local ('127.0.0.1', 3793) to remote ('insight-beta-article-db2.chmaiagjipqy.ap-south-1.docdb.amazonaws.com', 27017) side of the tunnel: open new channel ssh error: SSH session not active\n",
      "2024-02-08 17:48:52,308| ERROR   | Could not establish connection from local ('127.0.0.1', 3793) to remote ('insight-beta-article-db2.chmaiagjipqy.ap-south-1.docdb.amazonaws.com', 27017) side of the tunnel: open new channel ssh error: SSH session not active\n",
      "2024-02-08 17:49:02,389| ERROR   | Could not establish connection from local ('127.0.0.1', 3793) to remote ('insight-beta-article-db2.chmaiagjipqy.ap-south-1.docdb.amazonaws.com', 27017) side of the tunnel: open new channel ssh error: SSH session not active\n",
      "2024-02-08 17:49:12,466| ERROR   | Could not establish connection from local ('127.0.0.1', 3793) to remote ('insight-beta-article-db2.chmaiagjipqy.ap-south-1.docdb.amazonaws.com', 27017) side of the tunnel: open new channel ssh error: SSH session not active\n",
      "2024-02-08 17:49:22,549| ERROR   | Could not establish connection from local ('127.0.0.1', 3793) to remote ('insight-beta-article-db2.chmaiagjipqy.ap-south-1.docdb.amazonaws.com', 27017) side of the tunnel: open new channel ssh error: SSH session not active\n",
      "2024-02-08 17:49:32,628| ERROR   | Could not establish connection from local ('127.0.0.1', 3793) to remote ('insight-beta-article-db2.chmaiagjipqy.ap-south-1.docdb.amazonaws.com', 27017) side of the tunnel: open new channel ssh error: SSH session not active\n",
      "2024-02-08 17:49:42,711| ERROR   | Could not establish connection from local ('127.0.0.1', 3793) to remote ('insight-beta-article-db2.chmaiagjipqy.ap-south-1.docdb.amazonaws.com', 27017) side of the tunnel: open new channel ssh error: SSH session not active\n",
      "2024-02-08 17:49:52,779| ERROR   | Could not establish connection from local ('127.0.0.1', 3793) to remote ('insight-beta-article-db2.chmaiagjipqy.ap-south-1.docdb.amazonaws.com', 27017) side of the tunnel: open new channel ssh error: SSH session not active\n",
      "2024-02-08 17:50:02,853| ERROR   | Could not establish connection from local ('127.0.0.1', 3793) to remote ('insight-beta-article-db2.chmaiagjipqy.ap-south-1.docdb.amazonaws.com', 27017) side of the tunnel: open new channel ssh error: SSH session not active\n",
      "2024-02-08 17:50:12,921| ERROR   | Could not establish connection from local ('127.0.0.1', 3793) to remote ('insight-beta-article-db2.chmaiagjipqy.ap-south-1.docdb.amazonaws.com', 27017) side of the tunnel: open new channel ssh error: SSH session not active\n",
      "2024-02-08 17:50:23,016| ERROR   | Could not establish connection from local ('127.0.0.1', 3793) to remote ('insight-beta-article-db2.chmaiagjipqy.ap-south-1.docdb.amazonaws.com', 27017) side of the tunnel: open new channel ssh error: SSH session not active\n",
      "2024-02-08 17:50:33,082| ERROR   | Could not establish connection from local ('127.0.0.1', 3793) to remote ('insight-beta-article-db2.chmaiagjipqy.ap-south-1.docdb.amazonaws.com', 27017) side of the tunnel: open new channel ssh error: SSH session not active\n",
      "2024-02-08 17:50:43,164| ERROR   | Could not establish connection from local ('127.0.0.1', 3793) to remote ('insight-beta-article-db2.chmaiagjipqy.ap-south-1.docdb.amazonaws.com', 27017) side of the tunnel: open new channel ssh error: SSH session not active\n",
      "2024-02-08 17:50:53,239| ERROR   | Could not establish connection from local ('127.0.0.1', 3793) to remote ('insight-beta-article-db2.chmaiagjipqy.ap-south-1.docdb.amazonaws.com', 27017) side of the tunnel: open new channel ssh error: SSH session not active\n",
      "2024-02-08 17:51:03,293| ERROR   | Could not establish connection from local ('127.0.0.1', 3793) to remote ('insight-beta-article-db2.chmaiagjipqy.ap-south-1.docdb.amazonaws.com', 27017) side of the tunnel: open new channel ssh error: SSH session not active\n",
      "2024-02-08 17:51:13,363| ERROR   | Could not establish connection from local ('127.0.0.1', 3793) to remote ('insight-beta-article-db2.chmaiagjipqy.ap-south-1.docdb.amazonaws.com', 27017) side of the tunnel: open new channel ssh error: SSH session not active\n",
      "2024-02-08 17:51:23,436| ERROR   | Could not establish connection from local ('127.0.0.1', 3793) to remote ('insight-beta-article-db2.chmaiagjipqy.ap-south-1.docdb.amazonaws.com', 27017) side of the tunnel: open new channel ssh error: SSH session not active\n",
      "2024-02-08 17:51:33,511| ERROR   | Could not establish connection from local ('127.0.0.1', 3793) to remote ('insight-beta-article-db2.chmaiagjipqy.ap-south-1.docdb.amazonaws.com', 27017) side of the tunnel: open new channel ssh error: SSH session not active\n",
      "2024-02-08 17:51:43,598| ERROR   | Could not establish connection from local ('127.0.0.1', 3793) to remote ('insight-beta-article-db2.chmaiagjipqy.ap-south-1.docdb.amazonaws.com', 27017) side of the tunnel: open new channel ssh error: SSH session not active\n",
      "2024-02-08 17:51:53,679| ERROR   | Could not establish connection from local ('127.0.0.1', 3793) to remote ('insight-beta-article-db2.chmaiagjipqy.ap-south-1.docdb.amazonaws.com', 27017) side of the tunnel: open new channel ssh error: SSH session not active\n",
      "2024-02-08 17:52:03,757| ERROR   | Could not establish connection from local ('127.0.0.1', 3793) to remote ('insight-beta-article-db2.chmaiagjipqy.ap-south-1.docdb.amazonaws.com', 27017) side of the tunnel: open new channel ssh error: SSH session not active\n",
      "2024-02-08 17:52:13,826| ERROR   | Could not establish connection from local ('127.0.0.1', 3793) to remote ('insight-beta-article-db2.chmaiagjipqy.ap-south-1.docdb.amazonaws.com', 27017) side of the tunnel: open new channel ssh error: SSH session not active\n",
      "2024-02-08 17:52:23,899| ERROR   | Could not establish connection from local ('127.0.0.1', 3793) to remote ('insight-beta-article-db2.chmaiagjipqy.ap-south-1.docdb.amazonaws.com', 27017) side of the tunnel: open new channel ssh error: SSH session not active\n",
      "2024-02-08 17:52:33,976| ERROR   | Could not establish connection from local ('127.0.0.1', 3793) to remote ('insight-beta-article-db2.chmaiagjipqy.ap-south-1.docdb.amazonaws.com', 27017) side of the tunnel: open new channel ssh error: SSH session not active\n",
      "2024-02-08 17:52:44,046| ERROR   | Could not establish connection from local ('127.0.0.1', 3793) to remote ('insight-beta-article-db2.chmaiagjipqy.ap-south-1.docdb.amazonaws.com', 27017) side of the tunnel: open new channel ssh error: SSH session not active\n",
      "2024-02-08 17:52:54,113| ERROR   | Could not establish connection from local ('127.0.0.1', 3793) to remote ('insight-beta-article-db2.chmaiagjipqy.ap-south-1.docdb.amazonaws.com', 27017) side of the tunnel: open new channel ssh error: SSH session not active\n",
      "2024-02-08 17:53:04,191| ERROR   | Could not establish connection from local ('127.0.0.1', 3793) to remote ('insight-beta-article-db2.chmaiagjipqy.ap-south-1.docdb.amazonaws.com', 27017) side of the tunnel: open new channel ssh error: SSH session not active\n",
      "2024-02-08 17:53:14,267| ERROR   | Could not establish connection from local ('127.0.0.1', 3793) to remote ('insight-beta-article-db2.chmaiagjipqy.ap-south-1.docdb.amazonaws.com', 27017) side of the tunnel: open new channel ssh error: SSH session not active\n",
      "2024-02-08 17:53:24,349| ERROR   | Could not establish connection from local ('127.0.0.1', 3793) to remote ('insight-beta-article-db2.chmaiagjipqy.ap-south-1.docdb.amazonaws.com', 27017) side of the tunnel: open new channel ssh error: SSH session not active\n",
      "2024-02-08 17:53:34,423| ERROR   | Could not establish connection from local ('127.0.0.1', 3793) to remote ('insight-beta-article-db2.chmaiagjipqy.ap-south-1.docdb.amazonaws.com', 27017) side of the tunnel: open new channel ssh error: SSH session not active\n",
      "2024-02-08 17:53:44,436| ERROR   | Could not establish connection from local ('127.0.0.1', 3793) to remote ('insight-beta-article-db2.chmaiagjipqy.ap-south-1.docdb.amazonaws.com', 27017) side of the tunnel: open new channel ssh error: SSH session not active\n",
      "2024-02-08 17:53:54,483| ERROR   | Could not establish connection from local ('127.0.0.1', 3793) to remote ('insight-beta-article-db2.chmaiagjipqy.ap-south-1.docdb.amazonaws.com', 27017) side of the tunnel: open new channel ssh error: SSH session not active\n",
      "2024-02-08 17:54:04,565| ERROR   | Could not establish connection from local ('127.0.0.1', 3793) to remote ('insight-beta-article-db2.chmaiagjipqy.ap-south-1.docdb.amazonaws.com', 27017) side of the tunnel: open new channel ssh error: SSH session not active\n",
      "2024-02-08 17:54:14,620| ERROR   | Could not establish connection from local ('127.0.0.1', 3793) to remote ('insight-beta-article-db2.chmaiagjipqy.ap-south-1.docdb.amazonaws.com', 27017) side of the tunnel: open new channel ssh error: SSH session not active\n",
      "2024-02-08 17:54:24,697| ERROR   | Could not establish connection from local ('127.0.0.1', 3793) to remote ('insight-beta-article-db2.chmaiagjipqy.ap-south-1.docdb.amazonaws.com', 27017) side of the tunnel: open new channel ssh error: SSH session not active\n",
      "2024-02-08 17:54:34,769| ERROR   | Could not establish connection from local ('127.0.0.1', 3793) to remote ('insight-beta-article-db2.chmaiagjipqy.ap-south-1.docdb.amazonaws.com', 27017) side of the tunnel: open new channel ssh error: SSH session not active\n",
      "2024-02-08 17:54:44,830| ERROR   | Could not establish connection from local ('127.0.0.1', 3793) to remote ('insight-beta-article-db2.chmaiagjipqy.ap-south-1.docdb.amazonaws.com', 27017) side of the tunnel: open new channel ssh error: SSH session not active\n",
      "2024-02-08 17:54:54,910| ERROR   | Could not establish connection from local ('127.0.0.1', 3793) to remote ('insight-beta-article-db2.chmaiagjipqy.ap-south-1.docdb.amazonaws.com', 27017) side of the tunnel: open new channel ssh error: SSH session not active\n",
      "2024-02-08 17:55:04,990| ERROR   | Could not establish connection from local ('127.0.0.1', 3793) to remote ('insight-beta-article-db2.chmaiagjipqy.ap-south-1.docdb.amazonaws.com', 27017) side of the tunnel: open new channel ssh error: SSH session not active\n",
      "2024-02-08 17:55:15,072| ERROR   | Could not establish connection from local ('127.0.0.1', 3793) to remote ('insight-beta-article-db2.chmaiagjipqy.ap-south-1.docdb.amazonaws.com', 27017) side of the tunnel: open new channel ssh error: SSH session not active\n",
      "2024-02-08 17:55:25,139| ERROR   | Could not establish connection from local ('127.0.0.1', 3793) to remote ('insight-beta-article-db2.chmaiagjipqy.ap-south-1.docdb.amazonaws.com', 27017) side of the tunnel: open new channel ssh error: SSH session not active\n",
      "2024-02-08 17:55:35,220| ERROR   | Could not establish connection from local ('127.0.0.1', 3793) to remote ('insight-beta-article-db2.chmaiagjipqy.ap-south-1.docdb.amazonaws.com', 27017) side of the tunnel: open new channel ssh error: SSH session not active\n",
      "2024-02-08 17:55:45,298| ERROR   | Could not establish connection from local ('127.0.0.1', 3793) to remote ('insight-beta-article-db2.chmaiagjipqy.ap-south-1.docdb.amazonaws.com', 27017) side of the tunnel: open new channel ssh error: SSH session not active\n",
      "2024-02-08 17:55:55,377| ERROR   | Could not establish connection from local ('127.0.0.1', 3793) to remote ('insight-beta-article-db2.chmaiagjipqy.ap-south-1.docdb.amazonaws.com', 27017) side of the tunnel: open new channel ssh error: SSH session not active\n",
      "2024-02-08 17:56:05,450| ERROR   | Could not establish connection from local ('127.0.0.1', 3793) to remote ('insight-beta-article-db2.chmaiagjipqy.ap-south-1.docdb.amazonaws.com', 27017) side of the tunnel: open new channel ssh error: SSH session not active\n",
      "2024-02-08 17:56:15,529| ERROR   | Could not establish connection from local ('127.0.0.1', 3793) to remote ('insight-beta-article-db2.chmaiagjipqy.ap-south-1.docdb.amazonaws.com', 27017) side of the tunnel: open new channel ssh error: SSH session not active\n",
      "2024-02-08 17:56:25,609| ERROR   | Could not establish connection from local ('127.0.0.1', 3793) to remote ('insight-beta-article-db2.chmaiagjipqy.ap-south-1.docdb.amazonaws.com', 27017) side of the tunnel: open new channel ssh error: SSH session not active\n",
      "2024-02-08 17:56:35,686| ERROR   | Could not establish connection from local ('127.0.0.1', 3793) to remote ('insight-beta-article-db2.chmaiagjipqy.ap-south-1.docdb.amazonaws.com', 27017) side of the tunnel: open new channel ssh error: SSH session not active\n",
      "2024-02-08 17:56:45,756| ERROR   | Could not establish connection from local ('127.0.0.1', 3793) to remote ('insight-beta-article-db2.chmaiagjipqy.ap-south-1.docdb.amazonaws.com', 27017) side of the tunnel: open new channel ssh error: SSH session not active\n",
      "2024-02-08 17:56:55,834| ERROR   | Could not establish connection from local ('127.0.0.1', 3793) to remote ('insight-beta-article-db2.chmaiagjipqy.ap-south-1.docdb.amazonaws.com', 27017) side of the tunnel: open new channel ssh error: SSH session not active\n",
      "2024-02-08 17:57:05,899| ERROR   | Could not establish connection from local ('127.0.0.1', 3793) to remote ('insight-beta-article-db2.chmaiagjipqy.ap-south-1.docdb.amazonaws.com', 27017) side of the tunnel: open new channel ssh error: SSH session not active\n",
      "2024-02-08 17:57:15,978| ERROR   | Could not establish connection from local ('127.0.0.1', 3793) to remote ('insight-beta-article-db2.chmaiagjipqy.ap-south-1.docdb.amazonaws.com', 27017) side of the tunnel: open new channel ssh error: SSH session not active\n",
      "2024-02-08 17:57:26,063| ERROR   | Could not establish connection from local ('127.0.0.1', 3793) to remote ('insight-beta-article-db2.chmaiagjipqy.ap-south-1.docdb.amazonaws.com', 27017) side of the tunnel: open new channel ssh error: SSH session not active\n",
      "2024-02-08 17:57:36,138| ERROR   | Could not establish connection from local ('127.0.0.1', 3793) to remote ('insight-beta-article-db2.chmaiagjipqy.ap-south-1.docdb.amazonaws.com', 27017) side of the tunnel: open new channel ssh error: SSH session not active\n",
      "2024-02-08 17:57:46,203| ERROR   | Could not establish connection from local ('127.0.0.1', 3793) to remote ('insight-beta-article-db2.chmaiagjipqy.ap-south-1.docdb.amazonaws.com', 27017) side of the tunnel: open new channel ssh error: SSH session not active\n",
      "2024-02-08 17:57:56,283| ERROR   | Could not establish connection from local ('127.0.0.1', 3793) to remote ('insight-beta-article-db2.chmaiagjipqy.ap-south-1.docdb.amazonaws.com', 27017) side of the tunnel: open new channel ssh error: SSH session not active\n",
      "2024-02-08 17:58:06,353| ERROR   | Could not establish connection from local ('127.0.0.1', 3793) to remote ('insight-beta-article-db2.chmaiagjipqy.ap-south-1.docdb.amazonaws.com', 27017) side of the tunnel: open new channel ssh error: SSH session not active\n",
      "2024-02-08 17:58:16,420| ERROR   | Could not establish connection from local ('127.0.0.1', 3793) to remote ('insight-beta-article-db2.chmaiagjipqy.ap-south-1.docdb.amazonaws.com', 27017) side of the tunnel: open new channel ssh error: SSH session not active\n",
      "2024-02-08 17:58:26,492| ERROR   | Could not establish connection from local ('127.0.0.1', 3793) to remote ('insight-beta-article-db2.chmaiagjipqy.ap-south-1.docdb.amazonaws.com', 27017) side of the tunnel: open new channel ssh error: SSH session not active\n",
      "2024-02-08 17:58:36,566| ERROR   | Could not establish connection from local ('127.0.0.1', 3793) to remote ('insight-beta-article-db2.chmaiagjipqy.ap-south-1.docdb.amazonaws.com', 27017) side of the tunnel: open new channel ssh error: SSH session not active\n",
      "2024-02-08 17:58:46,653| ERROR   | Could not establish connection from local ('127.0.0.1', 3793) to remote ('insight-beta-article-db2.chmaiagjipqy.ap-south-1.docdb.amazonaws.com', 27017) side of the tunnel: open new channel ssh error: SSH session not active\n",
      "2024-02-08 17:58:56,718| ERROR   | Could not establish connection from local ('127.0.0.1', 3793) to remote ('insight-beta-article-db2.chmaiagjipqy.ap-south-1.docdb.amazonaws.com', 27017) side of the tunnel: open new channel ssh error: SSH session not active\n",
      "2024-02-08 17:59:06,787| ERROR   | Could not establish connection from local ('127.0.0.1', 3793) to remote ('insight-beta-article-db2.chmaiagjipqy.ap-south-1.docdb.amazonaws.com', 27017) side of the tunnel: open new channel ssh error: SSH session not active\n",
      "2024-02-08 17:59:16,866| ERROR   | Could not establish connection from local ('127.0.0.1', 3793) to remote ('insight-beta-article-db2.chmaiagjipqy.ap-south-1.docdb.amazonaws.com', 27017) side of the tunnel: open new channel ssh error: SSH session not active\n",
      "2024-02-08 17:59:26,944| ERROR   | Could not establish connection from local ('127.0.0.1', 3793) to remote ('insight-beta-article-db2.chmaiagjipqy.ap-south-1.docdb.amazonaws.com', 27017) side of the tunnel: open new channel ssh error: SSH session not active\n",
      "2024-02-08 17:59:37,017| ERROR   | Could not establish connection from local ('127.0.0.1', 3793) to remote ('insight-beta-article-db2.chmaiagjipqy.ap-south-1.docdb.amazonaws.com', 27017) side of the tunnel: open new channel ssh error: SSH session not active\n",
      "2024-02-08 17:59:47,084| ERROR   | Could not establish connection from local ('127.0.0.1', 3793) to remote ('insight-beta-article-db2.chmaiagjipqy.ap-south-1.docdb.amazonaws.com', 27017) side of the tunnel: open new channel ssh error: SSH session not active\n",
      "2024-02-08 17:59:57,157| ERROR   | Could not establish connection from local ('127.0.0.1', 3793) to remote ('insight-beta-article-db2.chmaiagjipqy.ap-south-1.docdb.amazonaws.com', 27017) side of the tunnel: open new channel ssh error: SSH session not active\n",
      "2024-02-08 18:00:07,237| ERROR   | Could not establish connection from local ('127.0.0.1', 3793) to remote ('insight-beta-article-db2.chmaiagjipqy.ap-south-1.docdb.amazonaws.com', 27017) side of the tunnel: open new channel ssh error: SSH session not active\n",
      "2024-02-08 18:00:17,298| ERROR   | Could not establish connection from local ('127.0.0.1', 3793) to remote ('insight-beta-article-db2.chmaiagjipqy.ap-south-1.docdb.amazonaws.com', 27017) side of the tunnel: open new channel ssh error: SSH session not active\n",
      "2024-02-08 18:00:27,367| ERROR   | Could not establish connection from local ('127.0.0.1', 3793) to remote ('insight-beta-article-db2.chmaiagjipqy.ap-south-1.docdb.amazonaws.com', 27017) side of the tunnel: open new channel ssh error: SSH session not active\n",
      "2024-02-08 18:00:37,448| ERROR   | Could not establish connection from local ('127.0.0.1', 3793) to remote ('insight-beta-article-db2.chmaiagjipqy.ap-south-1.docdb.amazonaws.com', 27017) side of the tunnel: open new channel ssh error: SSH session not active\n",
      "2024-02-08 18:00:47,520| ERROR   | Could not establish connection from local ('127.0.0.1', 3793) to remote ('insight-beta-article-db2.chmaiagjipqy.ap-south-1.docdb.amazonaws.com', 27017) side of the tunnel: open new channel ssh error: SSH session not active\n",
      "2024-02-08 18:00:57,596| ERROR   | Could not establish connection from local ('127.0.0.1', 3793) to remote ('insight-beta-article-db2.chmaiagjipqy.ap-south-1.docdb.amazonaws.com', 27017) side of the tunnel: open new channel ssh error: SSH session not active\n",
      "2024-02-08 18:01:07,677| ERROR   | Could not establish connection from local ('127.0.0.1', 3793) to remote ('insight-beta-article-db2.chmaiagjipqy.ap-south-1.docdb.amazonaws.com', 27017) side of the tunnel: open new channel ssh error: SSH session not active\n",
      "2024-02-08 18:01:17,758| ERROR   | Could not establish connection from local ('127.0.0.1', 3793) to remote ('insight-beta-article-db2.chmaiagjipqy.ap-south-1.docdb.amazonaws.com', 27017) side of the tunnel: open new channel ssh error: SSH session not active\n",
      "2024-02-08 18:01:27,853| ERROR   | Could not establish connection from local ('127.0.0.1', 3793) to remote ('insight-beta-article-db2.chmaiagjipqy.ap-south-1.docdb.amazonaws.com', 27017) side of the tunnel: open new channel ssh error: SSH session not active\n",
      "2024-02-08 18:01:37,925| ERROR   | Could not establish connection from local ('127.0.0.1', 3793) to remote ('insight-beta-article-db2.chmaiagjipqy.ap-south-1.docdb.amazonaws.com', 27017) side of the tunnel: open new channel ssh error: SSH session not active\n",
      "2024-02-08 18:01:48,000| ERROR   | Could not establish connection from local ('127.0.0.1', 3793) to remote ('insight-beta-article-db2.chmaiagjipqy.ap-south-1.docdb.amazonaws.com', 27017) side of the tunnel: open new channel ssh error: SSH session not active\n",
      "2024-02-08 18:01:58,087| ERROR   | Could not establish connection from local ('127.0.0.1', 3793) to remote ('insight-beta-article-db2.chmaiagjipqy.ap-south-1.docdb.amazonaws.com', 27017) side of the tunnel: open new channel ssh error: SSH session not active\n",
      "2024-02-08 18:02:08,163| ERROR   | Could not establish connection from local ('127.0.0.1', 3793) to remote ('insight-beta-article-db2.chmaiagjipqy.ap-south-1.docdb.amazonaws.com', 27017) side of the tunnel: open new channel ssh error: SSH session not active\n",
      "2024-02-08 18:02:18,268| ERROR   | Could not establish connection from local ('127.0.0.1', 3793) to remote ('insight-beta-article-db2.chmaiagjipqy.ap-south-1.docdb.amazonaws.com', 27017) side of the tunnel: open new channel ssh error: SSH session not active\n",
      "2024-02-08 18:02:28,346| ERROR   | Could not establish connection from local ('127.0.0.1', 3793) to remote ('insight-beta-article-db2.chmaiagjipqy.ap-south-1.docdb.amazonaws.com', 27017) side of the tunnel: open new channel ssh error: SSH session not active\n",
      "2024-02-08 18:02:38,411| ERROR   | Could not establish connection from local ('127.0.0.1', 3793) to remote ('insight-beta-article-db2.chmaiagjipqy.ap-south-1.docdb.amazonaws.com', 27017) side of the tunnel: open new channel ssh error: SSH session not active\n",
      "2024-02-08 18:02:48,487| ERROR   | Could not establish connection from local ('127.0.0.1', 3793) to remote ('insight-beta-article-db2.chmaiagjipqy.ap-south-1.docdb.amazonaws.com', 27017) side of the tunnel: open new channel ssh error: SSH session not active\n",
      "2024-02-08 18:02:58,559| ERROR   | Could not establish connection from local ('127.0.0.1', 3793) to remote ('insight-beta-article-db2.chmaiagjipqy.ap-south-1.docdb.amazonaws.com', 27017) side of the tunnel: open new channel ssh error: SSH session not active\n",
      "2024-02-08 18:03:08,637| ERROR   | Could not establish connection from local ('127.0.0.1', 3793) to remote ('insight-beta-article-db2.chmaiagjipqy.ap-south-1.docdb.amazonaws.com', 27017) side of the tunnel: open new channel ssh error: SSH session not active\n",
      "2024-02-08 18:03:18,717| ERROR   | Could not establish connection from local ('127.0.0.1', 3793) to remote ('insight-beta-article-db2.chmaiagjipqy.ap-south-1.docdb.amazonaws.com', 27017) side of the tunnel: open new channel ssh error: SSH session not active\n",
      "2024-02-08 18:03:28,790| ERROR   | Could not establish connection from local ('127.0.0.1', 3793) to remote ('insight-beta-article-db2.chmaiagjipqy.ap-south-1.docdb.amazonaws.com', 27017) side of the tunnel: open new channel ssh error: SSH session not active\n",
      "2024-02-08 18:03:38,859| ERROR   | Could not establish connection from local ('127.0.0.1', 3793) to remote ('insight-beta-article-db2.chmaiagjipqy.ap-south-1.docdb.amazonaws.com', 27017) side of the tunnel: open new channel ssh error: SSH session not active\n",
      "2024-02-08 18:03:48,937| ERROR   | Could not establish connection from local ('127.0.0.1', 3793) to remote ('insight-beta-article-db2.chmaiagjipqy.ap-south-1.docdb.amazonaws.com', 27017) side of the tunnel: open new channel ssh error: SSH session not active\n",
      "2024-02-08 18:03:59,027| ERROR   | Could not establish connection from local ('127.0.0.1', 3793) to remote ('insight-beta-article-db2.chmaiagjipqy.ap-south-1.docdb.amazonaws.com', 27017) side of the tunnel: open new channel ssh error: SSH session not active\n",
      "2024-02-08 18:04:09,086| ERROR   | Could not establish connection from local ('127.0.0.1', 3793) to remote ('insight-beta-article-db2.chmaiagjipqy.ap-south-1.docdb.amazonaws.com', 27017) side of the tunnel: open new channel ssh error: SSH session not active\n",
      "2024-02-08 18:04:19,162| ERROR   | Could not establish connection from local ('127.0.0.1', 3793) to remote ('insight-beta-article-db2.chmaiagjipqy.ap-south-1.docdb.amazonaws.com', 27017) side of the tunnel: open new channel ssh error: SSH session not active\n",
      "2024-02-08 18:04:29,233| ERROR   | Could not establish connection from local ('127.0.0.1', 3793) to remote ('insight-beta-article-db2.chmaiagjipqy.ap-south-1.docdb.amazonaws.com', 27017) side of the tunnel: open new channel ssh error: SSH session not active\n",
      "2024-02-08 18:04:39,306| ERROR   | Could not establish connection from local ('127.0.0.1', 3793) to remote ('insight-beta-article-db2.chmaiagjipqy.ap-south-1.docdb.amazonaws.com', 27017) side of the tunnel: open new channel ssh error: SSH session not active\n",
      "2024-02-08 18:04:49,365| ERROR   | Could not establish connection from local ('127.0.0.1', 3793) to remote ('insight-beta-article-db2.chmaiagjipqy.ap-south-1.docdb.amazonaws.com', 27017) side of the tunnel: open new channel ssh error: SSH session not active\n",
      "2024-02-08 18:04:59,451| ERROR   | Could not establish connection from local ('127.0.0.1', 3793) to remote ('insight-beta-article-db2.chmaiagjipqy.ap-south-1.docdb.amazonaws.com', 27017) side of the tunnel: open new channel ssh error: SSH session not active\n",
      "2024-02-08 18:05:09,539| ERROR   | Could not establish connection from local ('127.0.0.1', 3793) to remote ('insight-beta-article-db2.chmaiagjipqy.ap-south-1.docdb.amazonaws.com', 27017) side of the tunnel: open new channel ssh error: SSH session not active\n",
      "2024-02-08 18:05:19,621| ERROR   | Could not establish connection from local ('127.0.0.1', 3793) to remote ('insight-beta-article-db2.chmaiagjipqy.ap-south-1.docdb.amazonaws.com', 27017) side of the tunnel: open new channel ssh error: SSH session not active\n",
      "2024-02-08 18:05:29,707| ERROR   | Could not establish connection from local ('127.0.0.1', 3793) to remote ('insight-beta-article-db2.chmaiagjipqy.ap-south-1.docdb.amazonaws.com', 27017) side of the tunnel: open new channel ssh error: SSH session not active\n",
      "2024-02-08 18:05:39,784| ERROR   | Could not establish connection from local ('127.0.0.1', 3793) to remote ('insight-beta-article-db2.chmaiagjipqy.ap-south-1.docdb.amazonaws.com', 27017) side of the tunnel: open new channel ssh error: SSH session not active\n",
      "2024-02-08 18:05:49,853| ERROR   | Could not establish connection from local ('127.0.0.1', 3793) to remote ('insight-beta-article-db2.chmaiagjipqy.ap-south-1.docdb.amazonaws.com', 27017) side of the tunnel: open new channel ssh error: SSH session not active\n",
      "2024-02-08 18:05:59,931| ERROR   | Could not establish connection from local ('127.0.0.1', 3793) to remote ('insight-beta-article-db2.chmaiagjipqy.ap-south-1.docdb.amazonaws.com', 27017) side of the tunnel: open new channel ssh error: SSH session not active\n",
      "2024-02-08 18:06:09,998| ERROR   | Could not establish connection from local ('127.0.0.1', 3793) to remote ('insight-beta-article-db2.chmaiagjipqy.ap-south-1.docdb.amazonaws.com', 27017) side of the tunnel: open new channel ssh error: SSH session not active\n",
      "2024-02-08 18:06:20,073| ERROR   | Could not establish connection from local ('127.0.0.1', 3793) to remote ('insight-beta-article-db2.chmaiagjipqy.ap-south-1.docdb.amazonaws.com', 27017) side of the tunnel: open new channel ssh error: SSH session not active\n",
      "2024-02-08 18:06:30,150| ERROR   | Could not establish connection from local ('127.0.0.1', 3793) to remote ('insight-beta-article-db2.chmaiagjipqy.ap-south-1.docdb.amazonaws.com', 27017) side of the tunnel: open new channel ssh error: SSH session not active\n",
      "2024-02-08 18:06:40,225| ERROR   | Could not establish connection from local ('127.0.0.1', 3793) to remote ('insight-beta-article-db2.chmaiagjipqy.ap-south-1.docdb.amazonaws.com', 27017) side of the tunnel: open new channel ssh error: SSH session not active\n",
      "2024-02-08 18:06:50,298| ERROR   | Could not establish connection from local ('127.0.0.1', 3793) to remote ('insight-beta-article-db2.chmaiagjipqy.ap-south-1.docdb.amazonaws.com', 27017) side of the tunnel: open new channel ssh error: SSH session not active\n",
      "2024-02-08 18:07:00,369| ERROR   | Could not establish connection from local ('127.0.0.1', 3793) to remote ('insight-beta-article-db2.chmaiagjipqy.ap-south-1.docdb.amazonaws.com', 27017) side of the tunnel: open new channel ssh error: SSH session not active\n",
      "2024-02-08 18:07:10,436| ERROR   | Could not establish connection from local ('127.0.0.1', 3793) to remote ('insight-beta-article-db2.chmaiagjipqy.ap-south-1.docdb.amazonaws.com', 27017) side of the tunnel: open new channel ssh error: SSH session not active\n",
      "2024-02-08 18:07:20,519| ERROR   | Could not establish connection from local ('127.0.0.1', 3793) to remote ('insight-beta-article-db2.chmaiagjipqy.ap-south-1.docdb.amazonaws.com', 27017) side of the tunnel: open new channel ssh error: SSH session not active\n",
      "2024-02-08 18:07:30,610| ERROR   | Could not establish connection from local ('127.0.0.1', 3793) to remote ('insight-beta-article-db2.chmaiagjipqy.ap-south-1.docdb.amazonaws.com', 27017) side of the tunnel: open new channel ssh error: SSH session not active\n",
      "2024-02-08 18:07:40,683| ERROR   | Could not establish connection from local ('127.0.0.1', 3793) to remote ('insight-beta-article-db2.chmaiagjipqy.ap-south-1.docdb.amazonaws.com', 27017) side of the tunnel: open new channel ssh error: SSH session not active\n",
      "2024-02-08 18:07:50,766| ERROR   | Could not establish connection from local ('127.0.0.1', 3793) to remote ('insight-beta-article-db2.chmaiagjipqy.ap-south-1.docdb.amazonaws.com', 27017) side of the tunnel: open new channel ssh error: SSH session not active\n",
      "2024-02-08 18:08:00,838| ERROR   | Could not establish connection from local ('127.0.0.1', 3793) to remote ('insight-beta-article-db2.chmaiagjipqy.ap-south-1.docdb.amazonaws.com', 27017) side of the tunnel: open new channel ssh error: SSH session not active\n",
      "2024-02-08 18:08:10,919| ERROR   | Could not establish connection from local ('127.0.0.1', 3793) to remote ('insight-beta-article-db2.chmaiagjipqy.ap-south-1.docdb.amazonaws.com', 27017) side of the tunnel: open new channel ssh error: SSH session not active\n",
      "2024-02-08 18:08:20,985| ERROR   | Could not establish connection from local ('127.0.0.1', 3793) to remote ('insight-beta-article-db2.chmaiagjipqy.ap-south-1.docdb.amazonaws.com', 27017) side of the tunnel: open new channel ssh error: SSH session not active\n",
      "2024-02-08 18:08:31,064| ERROR   | Could not establish connection from local ('127.0.0.1', 3793) to remote ('insight-beta-article-db2.chmaiagjipqy.ap-south-1.docdb.amazonaws.com', 27017) side of the tunnel: open new channel ssh error: SSH session not active\n",
      "2024-02-08 18:08:41,140| ERROR   | Could not establish connection from local ('127.0.0.1', 3793) to remote ('insight-beta-article-db2.chmaiagjipqy.ap-south-1.docdb.amazonaws.com', 27017) side of the tunnel: open new channel ssh error: SSH session not active\n",
      "2024-02-08 18:08:51,207| ERROR   | Could not establish connection from local ('127.0.0.1', 3793) to remote ('insight-beta-article-db2.chmaiagjipqy.ap-south-1.docdb.amazonaws.com', 27017) side of the tunnel: open new channel ssh error: SSH session not active\n",
      "2024-02-08 18:09:01,288| ERROR   | Could not establish connection from local ('127.0.0.1', 3793) to remote ('insight-beta-article-db2.chmaiagjipqy.ap-south-1.docdb.amazonaws.com', 27017) side of the tunnel: open new channel ssh error: SSH session not active\n",
      "2024-02-08 18:09:11,361| ERROR   | Could not establish connection from local ('127.0.0.1', 3793) to remote ('insight-beta-article-db2.chmaiagjipqy.ap-south-1.docdb.amazonaws.com', 27017) side of the tunnel: open new channel ssh error: SSH session not active\n",
      "2024-02-08 18:09:21,430| ERROR   | Could not establish connection from local ('127.0.0.1', 3793) to remote ('insight-beta-article-db2.chmaiagjipqy.ap-south-1.docdb.amazonaws.com', 27017) side of the tunnel: open new channel ssh error: SSH session not active\n",
      "2024-02-08 18:09:31,495| ERROR   | Could not establish connection from local ('127.0.0.1', 3793) to remote ('insight-beta-article-db2.chmaiagjipqy.ap-south-1.docdb.amazonaws.com', 27017) side of the tunnel: open new channel ssh error: SSH session not active\n",
      "2024-02-08 18:09:41,564| ERROR   | Could not establish connection from local ('127.0.0.1', 3793) to remote ('insight-beta-article-db2.chmaiagjipqy.ap-south-1.docdb.amazonaws.com', 27017) side of the tunnel: open new channel ssh error: SSH session not active\n",
      "2024-02-08 18:09:51,630| ERROR   | Could not establish connection from local ('127.0.0.1', 3793) to remote ('insight-beta-article-db2.chmaiagjipqy.ap-south-1.docdb.amazonaws.com', 27017) side of the tunnel: open new channel ssh error: SSH session not active\n",
      "2024-02-08 18:10:01,722| ERROR   | Could not establish connection from local ('127.0.0.1', 3793) to remote ('insight-beta-article-db2.chmaiagjipqy.ap-south-1.docdb.amazonaws.com', 27017) side of the tunnel: open new channel ssh error: SSH session not active\n",
      "2024-02-08 18:10:11,788| ERROR   | Could not establish connection from local ('127.0.0.1', 3793) to remote ('insight-beta-article-db2.chmaiagjipqy.ap-south-1.docdb.amazonaws.com', 27017) side of the tunnel: open new channel ssh error: SSH session not active\n",
      "2024-02-08 18:10:21,877| ERROR   | Could not establish connection from local ('127.0.0.1', 3793) to remote ('insight-beta-article-db2.chmaiagjipqy.ap-south-1.docdb.amazonaws.com', 27017) side of the tunnel: open new channel ssh error: SSH session not active\n",
      "2024-02-08 18:10:31,961| ERROR   | Could not establish connection from local ('127.0.0.1', 3793) to remote ('insight-beta-article-db2.chmaiagjipqy.ap-south-1.docdb.amazonaws.com', 27017) side of the tunnel: open new channel ssh error: SSH session not active\n",
      "2024-02-08 18:10:42,044| ERROR   | Could not establish connection from local ('127.0.0.1', 3793) to remote ('insight-beta-article-db2.chmaiagjipqy.ap-south-1.docdb.amazonaws.com', 27017) side of the tunnel: open new channel ssh error: SSH session not active\n",
      "2024-02-08 18:10:52,114| ERROR   | Could not establish connection from local ('127.0.0.1', 3793) to remote ('insight-beta-article-db2.chmaiagjipqy.ap-south-1.docdb.amazonaws.com', 27017) side of the tunnel: open new channel ssh error: SSH session not active\n",
      "2024-02-08 18:11:02,186| ERROR   | Could not establish connection from local ('127.0.0.1', 3793) to remote ('insight-beta-article-db2.chmaiagjipqy.ap-south-1.docdb.amazonaws.com', 27017) side of the tunnel: open new channel ssh error: SSH session not active\n",
      "2024-02-08 18:11:12,265| ERROR   | Could not establish connection from local ('127.0.0.1', 3793) to remote ('insight-beta-article-db2.chmaiagjipqy.ap-south-1.docdb.amazonaws.com', 27017) side of the tunnel: open new channel ssh error: SSH session not active\n",
      "2024-02-08 18:11:22,351| ERROR   | Could not establish connection from local ('127.0.0.1', 3793) to remote ('insight-beta-article-db2.chmaiagjipqy.ap-south-1.docdb.amazonaws.com', 27017) side of the tunnel: open new channel ssh error: SSH session not active\n",
      "2024-02-08 18:11:32,421| ERROR   | Could not establish connection from local ('127.0.0.1', 3793) to remote ('insight-beta-article-db2.chmaiagjipqy.ap-south-1.docdb.amazonaws.com', 27017) side of the tunnel: open new channel ssh error: SSH session not active\n",
      "2024-02-08 18:11:42,498| ERROR   | Could not establish connection from local ('127.0.0.1', 3793) to remote ('insight-beta-article-db2.chmaiagjipqy.ap-south-1.docdb.amazonaws.com', 27017) side of the tunnel: open new channel ssh error: SSH session not active\n",
      "2024-02-08 18:11:52,577| ERROR   | Could not establish connection from local ('127.0.0.1', 3793) to remote ('insight-beta-article-db2.chmaiagjipqy.ap-south-1.docdb.amazonaws.com', 27017) side of the tunnel: open new channel ssh error: SSH session not active\n",
      "2024-02-08 18:12:02,649| ERROR   | Could not establish connection from local ('127.0.0.1', 3793) to remote ('insight-beta-article-db2.chmaiagjipqy.ap-south-1.docdb.amazonaws.com', 27017) side of the tunnel: open new channel ssh error: SSH session not active\n",
      "2024-02-08 18:12:12,727| ERROR   | Could not establish connection from local ('127.0.0.1', 3793) to remote ('insight-beta-article-db2.chmaiagjipqy.ap-south-1.docdb.amazonaws.com', 27017) side of the tunnel: open new channel ssh error: SSH session not active\n",
      "2024-02-08 18:12:22,810| ERROR   | Could not establish connection from local ('127.0.0.1', 3793) to remote ('insight-beta-article-db2.chmaiagjipqy.ap-south-1.docdb.amazonaws.com', 27017) side of the tunnel: open new channel ssh error: SSH session not active\n",
      "2024-02-08 18:12:32,896| ERROR   | Could not establish connection from local ('127.0.0.1', 3793) to remote ('insight-beta-article-db2.chmaiagjipqy.ap-south-1.docdb.amazonaws.com', 27017) side of the tunnel: open new channel ssh error: SSH session not active\n",
      "2024-02-08 18:12:42,976| ERROR   | Could not establish connection from local ('127.0.0.1', 3793) to remote ('insight-beta-article-db2.chmaiagjipqy.ap-south-1.docdb.amazonaws.com', 27017) side of the tunnel: open new channel ssh error: SSH session not active\n",
      "2024-02-08 18:12:53,036| ERROR   | Could not establish connection from local ('127.0.0.1', 3793) to remote ('insight-beta-article-db2.chmaiagjipqy.ap-south-1.docdb.amazonaws.com', 27017) side of the tunnel: open new channel ssh error: SSH session not active\n",
      "2024-02-08 18:13:03,111| ERROR   | Could not establish connection from local ('127.0.0.1', 3793) to remote ('insight-beta-article-db2.chmaiagjipqy.ap-south-1.docdb.amazonaws.com', 27017) side of the tunnel: open new channel ssh error: SSH session not active\n",
      "2024-02-08 18:13:13,197| ERROR   | Could not establish connection from local ('127.0.0.1', 3793) to remote ('insight-beta-article-db2.chmaiagjipqy.ap-south-1.docdb.amazonaws.com', 27017) side of the tunnel: open new channel ssh error: SSH session not active\n",
      "2024-02-08 18:13:23,266| ERROR   | Could not establish connection from local ('127.0.0.1', 3793) to remote ('insight-beta-article-db2.chmaiagjipqy.ap-south-1.docdb.amazonaws.com', 27017) side of the tunnel: open new channel ssh error: SSH session not active\n",
      "2024-02-08 18:13:33,341| ERROR   | Could not establish connection from local ('127.0.0.1', 3793) to remote ('insight-beta-article-db2.chmaiagjipqy.ap-south-1.docdb.amazonaws.com', 27017) side of the tunnel: open new channel ssh error: SSH session not active\n",
      "2024-02-08 18:13:43,432| ERROR   | Could not establish connection from local ('127.0.0.1', 3793) to remote ('insight-beta-article-db2.chmaiagjipqy.ap-south-1.docdb.amazonaws.com', 27017) side of the tunnel: open new channel ssh error: SSH session not active\n",
      "2024-02-08 18:13:53,503| ERROR   | Could not establish connection from local ('127.0.0.1', 3793) to remote ('insight-beta-article-db2.chmaiagjipqy.ap-south-1.docdb.amazonaws.com', 27017) side of the tunnel: open new channel ssh error: SSH session not active\n",
      "2024-02-08 18:14:03,577| ERROR   | Could not establish connection from local ('127.0.0.1', 3793) to remote ('insight-beta-article-db2.chmaiagjipqy.ap-south-1.docdb.amazonaws.com', 27017) side of the tunnel: open new channel ssh error: SSH session not active\n",
      "2024-02-08 18:14:13,652| ERROR   | Could not establish connection from local ('127.0.0.1', 3793) to remote ('insight-beta-article-db2.chmaiagjipqy.ap-south-1.docdb.amazonaws.com', 27017) side of the tunnel: open new channel ssh error: SSH session not active\n",
      "2024-02-08 18:14:23,734| ERROR   | Could not establish connection from local ('127.0.0.1', 3793) to remote ('insight-beta-article-db2.chmaiagjipqy.ap-south-1.docdb.amazonaws.com', 27017) side of the tunnel: open new channel ssh error: SSH session not active\n",
      "2024-02-08 18:14:33,808| ERROR   | Could not establish connection from local ('127.0.0.1', 3793) to remote ('insight-beta-article-db2.chmaiagjipqy.ap-south-1.docdb.amazonaws.com', 27017) side of the tunnel: open new channel ssh error: SSH session not active\n",
      "2024-02-08 18:14:43,886| ERROR   | Could not establish connection from local ('127.0.0.1', 3793) to remote ('insight-beta-article-db2.chmaiagjipqy.ap-south-1.docdb.amazonaws.com', 27017) side of the tunnel: open new channel ssh error: SSH session not active\n",
      "2024-02-08 18:14:53,948| ERROR   | Could not establish connection from local ('127.0.0.1', 3793) to remote ('insight-beta-article-db2.chmaiagjipqy.ap-south-1.docdb.amazonaws.com', 27017) side of the tunnel: open new channel ssh error: SSH session not active\n",
      "2024-02-08 18:15:04,016| ERROR   | Could not establish connection from local ('127.0.0.1', 3793) to remote ('insight-beta-article-db2.chmaiagjipqy.ap-south-1.docdb.amazonaws.com', 27017) side of the tunnel: open new channel ssh error: SSH session not active\n",
      "2024-02-08 18:15:14,102| ERROR   | Could not establish connection from local ('127.0.0.1', 3793) to remote ('insight-beta-article-db2.chmaiagjipqy.ap-south-1.docdb.amazonaws.com', 27017) side of the tunnel: open new channel ssh error: SSH session not active\n",
      "2024-02-08 18:15:24,172| ERROR   | Could not establish connection from local ('127.0.0.1', 3793) to remote ('insight-beta-article-db2.chmaiagjipqy.ap-south-1.docdb.amazonaws.com', 27017) side of the tunnel: open new channel ssh error: SSH session not active\n",
      "2024-02-08 18:15:34,246| ERROR   | Could not establish connection from local ('127.0.0.1', 3793) to remote ('insight-beta-article-db2.chmaiagjipqy.ap-south-1.docdb.amazonaws.com', 27017) side of the tunnel: open new channel ssh error: SSH session not active\n",
      "2024-02-08 18:15:44,317| ERROR   | Could not establish connection from local ('127.0.0.1', 3793) to remote ('insight-beta-article-db2.chmaiagjipqy.ap-south-1.docdb.amazonaws.com', 27017) side of the tunnel: open new channel ssh error: SSH session not active\n",
      "2024-02-08 18:15:54,402| ERROR   | Could not establish connection from local ('127.0.0.1', 3793) to remote ('insight-beta-article-db2.chmaiagjipqy.ap-south-1.docdb.amazonaws.com', 27017) side of the tunnel: open new channel ssh error: SSH session not active\n",
      "2024-02-08 18:16:04,478| ERROR   | Could not establish connection from local ('127.0.0.1', 3793) to remote ('insight-beta-article-db2.chmaiagjipqy.ap-south-1.docdb.amazonaws.com', 27017) side of the tunnel: open new channel ssh error: SSH session not active\n",
      "2024-02-08 18:16:14,554| ERROR   | Could not establish connection from local ('127.0.0.1', 3793) to remote ('insight-beta-article-db2.chmaiagjipqy.ap-south-1.docdb.amazonaws.com', 27017) side of the tunnel: open new channel ssh error: SSH session not active\n",
      "2024-02-08 18:16:24,632| ERROR   | Could not establish connection from local ('127.0.0.1', 3793) to remote ('insight-beta-article-db2.chmaiagjipqy.ap-south-1.docdb.amazonaws.com', 27017) side of the tunnel: open new channel ssh error: SSH session not active\n",
      "2024-02-08 18:16:34,709| ERROR   | Could not establish connection from local ('127.0.0.1', 3793) to remote ('insight-beta-article-db2.chmaiagjipqy.ap-south-1.docdb.amazonaws.com', 27017) side of the tunnel: open new channel ssh error: SSH session not active\n",
      "2024-02-08 18:16:44,806| ERROR   | Could not establish connection from local ('127.0.0.1', 3793) to remote ('insight-beta-article-db2.chmaiagjipqy.ap-south-1.docdb.amazonaws.com', 27017) side of the tunnel: open new channel ssh error: SSH session not active\n",
      "2024-02-08 18:16:54,948| ERROR   | Could not establish connection from local ('127.0.0.1', 3793) to remote ('insight-beta-article-db2.chmaiagjipqy.ap-south-1.docdb.amazonaws.com', 27017) side of the tunnel: open new channel ssh error: SSH session not active\n",
      "2024-02-08 18:17:05,122| ERROR   | Could not establish connection from local ('127.0.0.1', 3793) to remote ('insight-beta-article-db2.chmaiagjipqy.ap-south-1.docdb.amazonaws.com', 27017) side of the tunnel: open new channel ssh error: SSH session not active\n",
      "2024-02-08 18:17:15,266| ERROR   | Could not establish connection from local ('127.0.0.1', 3793) to remote ('insight-beta-article-db2.chmaiagjipqy.ap-south-1.docdb.amazonaws.com', 27017) side of the tunnel: open new channel ssh error: SSH session not active\n",
      "2024-02-08 18:17:25,411| ERROR   | Could not establish connection from local ('127.0.0.1', 3793) to remote ('insight-beta-article-db2.chmaiagjipqy.ap-south-1.docdb.amazonaws.com', 27017) side of the tunnel: open new channel ssh error: SSH session not active\n",
      "2024-02-08 18:17:35,539| ERROR   | Could not establish connection from local ('127.0.0.1', 3793) to remote ('insight-beta-article-db2.chmaiagjipqy.ap-south-1.docdb.amazonaws.com', 27017) side of the tunnel: open new channel ssh error: SSH session not active\n",
      "2024-02-08 18:17:45,666| ERROR   | Could not establish connection from local ('127.0.0.1', 3793) to remote ('insight-beta-article-db2.chmaiagjipqy.ap-south-1.docdb.amazonaws.com', 27017) side of the tunnel: open new channel ssh error: SSH session not active\n",
      "2024-02-08 18:17:55,792| ERROR   | Could not establish connection from local ('127.0.0.1', 3793) to remote ('insight-beta-article-db2.chmaiagjipqy.ap-south-1.docdb.amazonaws.com', 27017) side of the tunnel: open new channel ssh error: SSH session not active\n",
      "2024-02-08 18:18:05,933| ERROR   | Could not establish connection from local ('127.0.0.1', 3793) to remote ('insight-beta-article-db2.chmaiagjipqy.ap-south-1.docdb.amazonaws.com', 27017) side of the tunnel: open new channel ssh error: SSH session not active\n",
      "2024-02-08 18:18:16,068| ERROR   | Could not establish connection from local ('127.0.0.1', 3793) to remote ('insight-beta-article-db2.chmaiagjipqy.ap-south-1.docdb.amazonaws.com', 27017) side of the tunnel: open new channel ssh error: SSH session not active\n",
      "2024-02-08 18:18:26,219| ERROR   | Could not establish connection from local ('127.0.0.1', 3793) to remote ('insight-beta-article-db2.chmaiagjipqy.ap-south-1.docdb.amazonaws.com', 27017) side of the tunnel: open new channel ssh error: SSH session not active\n",
      "2024-02-08 18:18:36,337| ERROR   | Could not establish connection from local ('127.0.0.1', 3793) to remote ('insight-beta-article-db2.chmaiagjipqy.ap-south-1.docdb.amazonaws.com', 27017) side of the tunnel: open new channel ssh error: SSH session not active\n",
      "2024-02-08 18:18:46,474| ERROR   | Could not establish connection from local ('127.0.0.1', 3793) to remote ('insight-beta-article-db2.chmaiagjipqy.ap-south-1.docdb.amazonaws.com', 27017) side of the tunnel: open new channel ssh error: SSH session not active\n",
      "2024-02-08 18:18:56,638| ERROR   | Could not establish connection from local ('127.0.0.1', 3793) to remote ('insight-beta-article-db2.chmaiagjipqy.ap-south-1.docdb.amazonaws.com', 27017) side of the tunnel: open new channel ssh error: SSH session not active\n",
      "2024-02-08 18:19:06,771| ERROR   | Could not establish connection from local ('127.0.0.1', 3793) to remote ('insight-beta-article-db2.chmaiagjipqy.ap-south-1.docdb.amazonaws.com', 27017) side of the tunnel: open new channel ssh error: SSH session not active\n",
      "2024-02-08 18:19:16,925| ERROR   | Could not establish connection from local ('127.0.0.1', 3793) to remote ('insight-beta-article-db2.chmaiagjipqy.ap-south-1.docdb.amazonaws.com', 27017) side of the tunnel: open new channel ssh error: SSH session not active\n",
      "2024-02-08 18:19:27,085| ERROR   | Could not establish connection from local ('127.0.0.1', 3793) to remote ('insight-beta-article-db2.chmaiagjipqy.ap-south-1.docdb.amazonaws.com', 27017) side of the tunnel: open new channel ssh error: SSH session not active\n",
      "2024-02-08 18:19:37,212| ERROR   | Could not establish connection from local ('127.0.0.1', 3793) to remote ('insight-beta-article-db2.chmaiagjipqy.ap-south-1.docdb.amazonaws.com', 27017) side of the tunnel: open new channel ssh error: SSH session not active\n",
      "2024-02-08 18:19:47,342| ERROR   | Could not establish connection from local ('127.0.0.1', 3793) to remote ('insight-beta-article-db2.chmaiagjipqy.ap-south-1.docdb.amazonaws.com', 27017) side of the tunnel: open new channel ssh error: SSH session not active\n",
      "2024-02-08 18:19:57,464| ERROR   | Could not establish connection from local ('127.0.0.1', 3793) to remote ('insight-beta-article-db2.chmaiagjipqy.ap-south-1.docdb.amazonaws.com', 27017) side of the tunnel: open new channel ssh error: SSH session not active\n",
      "2024-02-08 18:20:07,606| ERROR   | Could not establish connection from local ('127.0.0.1', 3793) to remote ('insight-beta-article-db2.chmaiagjipqy.ap-south-1.docdb.amazonaws.com', 27017) side of the tunnel: open new channel ssh error: SSH session not active\n",
      "2024-02-08 18:20:17,765| ERROR   | Could not establish connection from local ('127.0.0.1', 3793) to remote ('insight-beta-article-db2.chmaiagjipqy.ap-south-1.docdb.amazonaws.com', 27017) side of the tunnel: open new channel ssh error: SSH session not active\n",
      "2024-02-08 18:20:27,911| ERROR   | Could not establish connection from local ('127.0.0.1', 3793) to remote ('insight-beta-article-db2.chmaiagjipqy.ap-south-1.docdb.amazonaws.com', 27017) side of the tunnel: open new channel ssh error: SSH session not active\n",
      "2024-02-08 18:20:38,056| ERROR   | Could not establish connection from local ('127.0.0.1', 3793) to remote ('insight-beta-article-db2.chmaiagjipqy.ap-south-1.docdb.amazonaws.com', 27017) side of the tunnel: open new channel ssh error: SSH session not active\n",
      "2024-02-08 18:20:48,168| ERROR   | Could not establish connection from local ('127.0.0.1', 3793) to remote ('insight-beta-article-db2.chmaiagjipqy.ap-south-1.docdb.amazonaws.com', 27017) side of the tunnel: open new channel ssh error: SSH session not active\n",
      "2024-02-08 18:20:58,248| ERROR   | Could not establish connection from local ('127.0.0.1', 3793) to remote ('insight-beta-article-db2.chmaiagjipqy.ap-south-1.docdb.amazonaws.com', 27017) side of the tunnel: open new channel ssh error: SSH session not active\n",
      "2024-02-08 18:21:08,326| ERROR   | Could not establish connection from local ('127.0.0.1', 3793) to remote ('insight-beta-article-db2.chmaiagjipqy.ap-south-1.docdb.amazonaws.com', 27017) side of the tunnel: open new channel ssh error: SSH session not active\n",
      "2024-02-08 18:21:18,396| ERROR   | Could not establish connection from local ('127.0.0.1', 3793) to remote ('insight-beta-article-db2.chmaiagjipqy.ap-south-1.docdb.amazonaws.com', 27017) side of the tunnel: open new channel ssh error: SSH session not active\n",
      "2024-02-08 18:21:28,471| ERROR   | Could not establish connection from local ('127.0.0.1', 3793) to remote ('insight-beta-article-db2.chmaiagjipqy.ap-south-1.docdb.amazonaws.com', 27017) side of the tunnel: open new channel ssh error: SSH session not active\n",
      "2024-02-08 18:21:38,554| ERROR   | Could not establish connection from local ('127.0.0.1', 3793) to remote ('insight-beta-article-db2.chmaiagjipqy.ap-south-1.docdb.amazonaws.com', 27017) side of the tunnel: open new channel ssh error: SSH session not active\n",
      "2024-02-08 18:21:48,635| ERROR   | Could not establish connection from local ('127.0.0.1', 3793) to remote ('insight-beta-article-db2.chmaiagjipqy.ap-south-1.docdb.amazonaws.com', 27017) side of the tunnel: open new channel ssh error: SSH session not active\n",
      "2024-02-08 18:21:58,700| ERROR   | Could not establish connection from local ('127.0.0.1', 3793) to remote ('insight-beta-article-db2.chmaiagjipqy.ap-south-1.docdb.amazonaws.com', 27017) side of the tunnel: open new channel ssh error: SSH session not active\n",
      "2024-02-08 18:22:08,769| ERROR   | Could not establish connection from local ('127.0.0.1', 3793) to remote ('insight-beta-article-db2.chmaiagjipqy.ap-south-1.docdb.amazonaws.com', 27017) side of the tunnel: open new channel ssh error: SSH session not active\n",
      "2024-02-08 18:22:18,853| ERROR   | Could not establish connection from local ('127.0.0.1', 3793) to remote ('insight-beta-article-db2.chmaiagjipqy.ap-south-1.docdb.amazonaws.com', 27017) side of the tunnel: open new channel ssh error: SSH session not active\n",
      "2024-02-08 18:22:28,929| ERROR   | Could not establish connection from local ('127.0.0.1', 3793) to remote ('insight-beta-article-db2.chmaiagjipqy.ap-south-1.docdb.amazonaws.com', 27017) side of the tunnel: open new channel ssh error: SSH session not active\n",
      "2024-02-08 18:22:39,008| ERROR   | Could not establish connection from local ('127.0.0.1', 3793) to remote ('insight-beta-article-db2.chmaiagjipqy.ap-south-1.docdb.amazonaws.com', 27017) side of the tunnel: open new channel ssh error: SSH session not active\n",
      "2024-02-08 18:22:49,081| ERROR   | Could not establish connection from local ('127.0.0.1', 3793) to remote ('insight-beta-article-db2.chmaiagjipqy.ap-south-1.docdb.amazonaws.com', 27017) side of the tunnel: open new channel ssh error: SSH session not active\n",
      "2024-02-08 18:22:59,158| ERROR   | Could not establish connection from local ('127.0.0.1', 3793) to remote ('insight-beta-article-db2.chmaiagjipqy.ap-south-1.docdb.amazonaws.com', 27017) side of the tunnel: open new channel ssh error: SSH session not active\n",
      "2024-02-08 18:23:09,221| ERROR   | Could not establish connection from local ('127.0.0.1', 3793) to remote ('insight-beta-article-db2.chmaiagjipqy.ap-south-1.docdb.amazonaws.com', 27017) side of the tunnel: open new channel ssh error: SSH session not active\n",
      "2024-02-08 18:23:19,286| ERROR   | Could not establish connection from local ('127.0.0.1', 3793) to remote ('insight-beta-article-db2.chmaiagjipqy.ap-south-1.docdb.amazonaws.com', 27017) side of the tunnel: open new channel ssh error: SSH session not active\n",
      "2024-02-08 18:23:29,373| ERROR   | Could not establish connection from local ('127.0.0.1', 3793) to remote ('insight-beta-article-db2.chmaiagjipqy.ap-south-1.docdb.amazonaws.com', 27017) side of the tunnel: open new channel ssh error: SSH session not active\n",
      "2024-02-08 18:23:39,456| ERROR   | Could not establish connection from local ('127.0.0.1', 3793) to remote ('insight-beta-article-db2.chmaiagjipqy.ap-south-1.docdb.amazonaws.com', 27017) side of the tunnel: open new channel ssh error: SSH session not active\n",
      "2024-02-08 18:23:49,546| ERROR   | Could not establish connection from local ('127.0.0.1', 3793) to remote ('insight-beta-article-db2.chmaiagjipqy.ap-south-1.docdb.amazonaws.com', 27017) side of the tunnel: open new channel ssh error: SSH session not active\n",
      "2024-02-08 18:23:59,612| ERROR   | Could not establish connection from local ('127.0.0.1', 3793) to remote ('insight-beta-article-db2.chmaiagjipqy.ap-south-1.docdb.amazonaws.com', 27017) side of the tunnel: open new channel ssh error: SSH session not active\n"
     ]
    }
   ],
   "source": [
    "if np.array([1,3,5])< 10:\n",
    "    print('a')"
   ]
  },
  {
   "cell_type": "code",
   "execution_count": 451,
   "id": "24069407-1a3f-4c5b-aa11-f007223e91ef",
   "metadata": {
    "tags": []
   },
   "outputs": [
    {
     "ename": "TypeError",
     "evalue": "'<' not supported between instances of 'list' and 'int'",
     "output_type": "error",
     "traceback": [
      "\u001b[0;31m---------------------------------------------------------------------------\u001b[0m",
      "\u001b[0;31mTypeError\u001b[0m                                 Traceback (most recent call last)",
      "Cell \u001b[0;32mIn[451], line 1\u001b[0m\n\u001b[0;32m----> 1\u001b[0m np\u001b[38;5;241m.\u001b[39mdiff([\u001b[38;5;241m2\u001b[39m,\u001b[38;5;241m3\u001b[39m],[\u001b[38;5;241m4\u001b[39m,\u001b[38;5;241m5\u001b[39m])\n",
      "File \u001b[0;32m<__array_function__ internals>:200\u001b[0m, in \u001b[0;36mdiff\u001b[0;34m(*args, **kwargs)\u001b[0m\n",
      "File \u001b[0;32m~/anaconda3/envs/recoenv/lib/python3.11/site-packages/numpy/lib/function_base.py:1407\u001b[0m, in \u001b[0;36mdiff\u001b[0;34m(a, n, axis, prepend, append)\u001b[0m\n\u001b[1;32m   1405\u001b[0m \u001b[38;5;28;01mif\u001b[39;00m n \u001b[38;5;241m==\u001b[39m \u001b[38;5;241m0\u001b[39m:\n\u001b[1;32m   1406\u001b[0m     \u001b[38;5;28;01mreturn\u001b[39;00m a\n\u001b[0;32m-> 1407\u001b[0m \u001b[38;5;28;01mif\u001b[39;00m n \u001b[38;5;241m<\u001b[39m \u001b[38;5;241m0\u001b[39m:\n\u001b[1;32m   1408\u001b[0m     \u001b[38;5;28;01mraise\u001b[39;00m \u001b[38;5;167;01mValueError\u001b[39;00m(\n\u001b[1;32m   1409\u001b[0m         \u001b[38;5;124m\"\u001b[39m\u001b[38;5;124morder must be non-negative but got \u001b[39m\u001b[38;5;124m\"\u001b[39m \u001b[38;5;241m+\u001b[39m \u001b[38;5;28mrepr\u001b[39m(n))\n\u001b[1;32m   1411\u001b[0m a \u001b[38;5;241m=\u001b[39m asanyarray(a)\n",
      "\u001b[0;31mTypeError\u001b[0m: '<' not supported between instances of 'list' and 'int'"
     ]
    },
    {
     "name": "stderr",
     "output_type": "stream",
     "text": [
      "2024-02-08 14:43:55,922| ERROR   | Could not establish connection from local ('127.0.0.1', 3793) to remote ('insight-beta-article-db2.chmaiagjipqy.ap-south-1.docdb.amazonaws.com', 27017) side of the tunnel: open new channel ssh error: SSH session not active\n",
      "2024-02-08 14:44:05,991| ERROR   | Could not establish connection from local ('127.0.0.1', 3793) to remote ('insight-beta-article-db2.chmaiagjipqy.ap-south-1.docdb.amazonaws.com', 27017) side of the tunnel: open new channel ssh error: SSH session not active\n",
      "2024-02-08 14:44:16,072| ERROR   | Could not establish connection from local ('127.0.0.1', 3793) to remote ('insight-beta-article-db2.chmaiagjipqy.ap-south-1.docdb.amazonaws.com', 27017) side of the tunnel: open new channel ssh error: SSH session not active\n",
      "2024-02-08 14:44:26,147| ERROR   | Could not establish connection from local ('127.0.0.1', 3793) to remote ('insight-beta-article-db2.chmaiagjipqy.ap-south-1.docdb.amazonaws.com', 27017) side of the tunnel: open new channel ssh error: SSH session not active\n",
      "2024-02-08 14:44:36,220| ERROR   | Could not establish connection from local ('127.0.0.1', 3793) to remote ('insight-beta-article-db2.chmaiagjipqy.ap-south-1.docdb.amazonaws.com', 27017) side of the tunnel: open new channel ssh error: SSH session not active\n"
     ]
    }
   ],
   "source": [
    "np.diff([2,3],[4,5])"
   ]
  },
  {
   "cell_type": "code",
   "execution_count": 448,
   "id": "69c7753b-6678-4c38-a8d3-3f9748a7b593",
   "metadata": {
    "tags": []
   },
   "outputs": [
    {
     "data": {
      "text/plain": [
       "[(-1, 'b'), (1, 'a')]"
      ]
     },
     "execution_count": 448,
     "metadata": {},
     "output_type": "execute_result"
    },
    {
     "name": "stderr",
     "output_type": "stream",
     "text": [
      "2024-02-08 14:42:15,175| ERROR   | Could not establish connection from local ('127.0.0.1', 3793) to remote ('insight-beta-article-db2.chmaiagjipqy.ap-south-1.docdb.amazonaws.com', 27017) side of the tunnel: open new channel ssh error: SSH session not active\n",
      "2024-02-08 14:42:25,242| ERROR   | Could not establish connection from local ('127.0.0.1', 3793) to remote ('insight-beta-article-db2.chmaiagjipqy.ap-south-1.docdb.amazonaws.com', 27017) side of the tunnel: open new channel ssh error: SSH session not active\n",
      "2024-02-08 14:42:35,322| ERROR   | Could not establish connection from local ('127.0.0.1', 3793) to remote ('insight-beta-article-db2.chmaiagjipqy.ap-south-1.docdb.amazonaws.com', 27017) side of the tunnel: open new channel ssh error: SSH session not active\n",
      "2024-02-08 14:42:45,396| ERROR   | Could not establish connection from local ('127.0.0.1', 3793) to remote ('insight-beta-article-db2.chmaiagjipqy.ap-south-1.docdb.amazonaws.com', 27017) side of the tunnel: open new channel ssh error: SSH session not active\n",
      "2024-02-08 14:42:55,463| ERROR   | Could not establish connection from local ('127.0.0.1', 3793) to remote ('insight-beta-article-db2.chmaiagjipqy.ap-south-1.docdb.amazonaws.com', 27017) side of the tunnel: open new channel ssh error: SSH session not active\n",
      "2024-02-08 14:43:05,547| ERROR   | Could not establish connection from local ('127.0.0.1', 3793) to remote ('insight-beta-article-db2.chmaiagjipqy.ap-south-1.docdb.amazonaws.com', 27017) side of the tunnel: open new channel ssh error: SSH session not active\n",
      "2024-02-08 14:43:15,629| ERROR   | Could not establish connection from local ('127.0.0.1', 3793) to remote ('insight-beta-article-db2.chmaiagjipqy.ap-south-1.docdb.amazonaws.com', 27017) side of the tunnel: open new channel ssh error: SSH session not active\n",
      "2024-02-08 14:43:25,697| ERROR   | Could not establish connection from local ('127.0.0.1', 3793) to remote ('insight-beta-article-db2.chmaiagjipqy.ap-south-1.docdb.amazonaws.com', 27017) side of the tunnel: open new channel ssh error: SSH session not active\n"
     ]
    }
   ],
   "source": [
    "k"
   ]
  },
  {
   "cell_type": "code",
   "execution_count": 444,
   "id": "4f2f2da2-c266-4f64-a37b-d0260d4d358a",
   "metadata": {
    "tags": []
   },
   "outputs": [
    {
     "data": {
      "text/plain": [
       "array([['1', 'a'],\n",
       "       ['-1', 'b']], dtype='<U21')"
      ]
     },
     "execution_count": 444,
     "metadata": {},
     "output_type": "execute_result"
    },
    {
     "name": "stderr",
     "output_type": "stream",
     "text": [
      "2024-02-08 14:39:23,874| ERROR   | Could not establish connection from local ('127.0.0.1', 3793) to remote ('insight-beta-article-db2.chmaiagjipqy.ap-south-1.docdb.amazonaws.com', 27017) side of the tunnel: open new channel ssh error: SSH session not active\n",
      "2024-02-08 14:39:33,946| ERROR   | Could not establish connection from local ('127.0.0.1', 3793) to remote ('insight-beta-article-db2.chmaiagjipqy.ap-south-1.docdb.amazonaws.com', 27017) side of the tunnel: open new channel ssh error: SSH session not active\n",
      "2024-02-08 14:39:44,014| ERROR   | Could not establish connection from local ('127.0.0.1', 3793) to remote ('insight-beta-article-db2.chmaiagjipqy.ap-south-1.docdb.amazonaws.com', 27017) side of the tunnel: open new channel ssh error: SSH session not active\n",
      "2024-02-08 14:39:54,089| ERROR   | Could not establish connection from local ('127.0.0.1', 3793) to remote ('insight-beta-article-db2.chmaiagjipqy.ap-south-1.docdb.amazonaws.com', 27017) side of the tunnel: open new channel ssh error: SSH session not active\n",
      "2024-02-08 14:40:04,164| ERROR   | Could not establish connection from local ('127.0.0.1', 3793) to remote ('insight-beta-article-db2.chmaiagjipqy.ap-south-1.docdb.amazonaws.com', 27017) side of the tunnel: open new channel ssh error: SSH session not active\n",
      "2024-02-08 14:40:14,243| ERROR   | Could not establish connection from local ('127.0.0.1', 3793) to remote ('insight-beta-article-db2.chmaiagjipqy.ap-south-1.docdb.amazonaws.com', 27017) side of the tunnel: open new channel ssh error: SSH session not active\n",
      "2024-02-08 14:40:24,332| ERROR   | Could not establish connection from local ('127.0.0.1', 3793) to remote ('insight-beta-article-db2.chmaiagjipqy.ap-south-1.docdb.amazonaws.com', 27017) side of the tunnel: open new channel ssh error: SSH session not active\n",
      "2024-02-08 14:40:34,415| ERROR   | Could not establish connection from local ('127.0.0.1', 3793) to remote ('insight-beta-article-db2.chmaiagjipqy.ap-south-1.docdb.amazonaws.com', 27017) side of the tunnel: open new channel ssh error: SSH session not active\n",
      "2024-02-08 14:40:44,497| ERROR   | Could not establish connection from local ('127.0.0.1', 3793) to remote ('insight-beta-article-db2.chmaiagjipqy.ap-south-1.docdb.amazonaws.com', 27017) side of the tunnel: open new channel ssh error: SSH session not active\n",
      "2024-02-08 14:40:54,571| ERROR   | Could not establish connection from local ('127.0.0.1', 3793) to remote ('insight-beta-article-db2.chmaiagjipqy.ap-south-1.docdb.amazonaws.com', 27017) side of the tunnel: open new channel ssh error: SSH session not active\n",
      "2024-02-08 14:41:04,629| ERROR   | Could not establish connection from local ('127.0.0.1', 3793) to remote ('insight-beta-article-db2.chmaiagjipqy.ap-south-1.docdb.amazonaws.com', 27017) side of the tunnel: open new channel ssh error: SSH session not active\n",
      "2024-02-08 14:41:14,709| ERROR   | Could not establish connection from local ('127.0.0.1', 3793) to remote ('insight-beta-article-db2.chmaiagjipqy.ap-south-1.docdb.amazonaws.com', 27017) side of the tunnel: open new channel ssh error: SSH session not active\n",
      "2024-02-08 14:41:24,779| ERROR   | Could not establish connection from local ('127.0.0.1', 3793) to remote ('insight-beta-article-db2.chmaiagjipqy.ap-south-1.docdb.amazonaws.com', 27017) side of the tunnel: open new channel ssh error: SSH session not active\n",
      "2024-02-08 14:41:34,860| ERROR   | Could not establish connection from local ('127.0.0.1', 3793) to remote ('insight-beta-article-db2.chmaiagjipqy.ap-south-1.docdb.amazonaws.com', 27017) side of the tunnel: open new channel ssh error: SSH session not active\n",
      "2024-02-08 14:41:44,937| ERROR   | Could not establish connection from local ('127.0.0.1', 3793) to remote ('insight-beta-article-db2.chmaiagjipqy.ap-south-1.docdb.amazonaws.com', 27017) side of the tunnel: open new channel ssh error: SSH session not active\n",
      "2024-02-08 14:41:55,015| ERROR   | Could not establish connection from local ('127.0.0.1', 3793) to remote ('insight-beta-article-db2.chmaiagjipqy.ap-south-1.docdb.amazonaws.com', 27017) side of the tunnel: open new channel ssh error: SSH session not active\n"
     ]
    }
   ],
   "source": [
    "np.sort([(1,'a'),(-1,'b')])"
   ]
  },
  {
   "cell_type": "code",
   "execution_count": null,
   "id": "4258bc3e-e06f-4685-b7f3-443f34d16715",
   "metadata": {},
   "outputs": [],
   "source": []
  },
  {
   "cell_type": "code",
   "execution_count": 160,
   "id": "33973173-3f14-4b90-a8f8-e1efc2002f9a",
   "metadata": {
    "tags": []
   },
   "outputs": [
    {
     "data": {
      "text/plain": [
       "'**Top 3 Dividend ETFs to Invest in 2024**<br><br>💼 **Best ETF to buy now**: VBG is the top-rated ETF, offering a 1.20% annual yield and a 0.05% annual expense ratio. <br><br>💼 **Top dividend ETF in the market**: VG is the top-rated ETF in the category, with a 1.15% annual yield and a 0.05% annual expense ratio. <br><br>�� helping to manage the market: The S&P 500 is at a record high, but the market is still a good time to invest, as the market is on a bull market and the market is going up in the long run.  <br><br>**Note**: The above information is based on the most recent data available as of the articles date, and investment advice should be sought from a financial expert before making investment decisions.'"
      ]
     },
     "execution_count": 160,
     "metadata": {},
     "output_type": "execute_result"
    }
   ],
   "source": [
    "json.loads(k)[0]['generated_text']"
   ]
  },
  {
   "cell_type": "code",
   "execution_count": 31,
   "id": "7211ea78-2430-4f37-a95f-ef42d11e4cc3",
   "metadata": {
    "tags": []
   },
   "outputs": [],
   "source": [
    "import io\n",
    "import json\n",
    "\n",
    "class TokenIterator:\n",
    "    def __init__(self, stream):\n",
    "        self.byte_iterator = iter(stream)\n",
    "        self.buffer = io.BytesIO()\n",
    "        self.read_pos = 0\n",
    "\n",
    "    def __iter__(self):\n",
    "        return self\n",
    "\n",
    "    def __next__(self):\n",
    "        while True:\n",
    "            self.buffer.seek(self.read_pos)\n",
    "            line = self.buffer.readline()\n",
    "            if line and line[-1] == ord(\"\\n\"):\n",
    "                self.read_pos += len(line) + 1\n",
    "                full_line = line[:-1].decode(\"utf-8\")\n",
    "                line_data = json.loads(full_line.lstrip(\"data:\").rstrip(\"/n\"))\n",
    "                return line_data[\"token\"][\"text\"]\n",
    "            chunk = next(self.byte_iterator)\n",
    "            self.buffer.seek(0, io.SEEK_END)\n",
    "            self.buffer.write(chunk[\"PayloadPart\"][\"Bytes\"])"
   ]
  },
  {
   "cell_type": "code",
   "execution_count": null,
   "id": "ef4ae8ce-a6a2-4121-b582-566c03876a63",
   "metadata": {},
   "outputs": [],
   "source": []
  }
 ],
 "metadata": {
  "kernelspec": {
   "display_name": "recoenv",
   "language": "python",
   "name": "recoenv"
  },
  "language_info": {
   "codemirror_mode": {
    "name": "ipython",
    "version": 3
   },
   "file_extension": ".py",
   "mimetype": "text/x-python",
   "name": "python",
   "nbconvert_exporter": "python",
   "pygments_lexer": "ipython3",
   "version": "3.11.5"
  }
 },
 "nbformat": 4,
 "nbformat_minor": 5
}
