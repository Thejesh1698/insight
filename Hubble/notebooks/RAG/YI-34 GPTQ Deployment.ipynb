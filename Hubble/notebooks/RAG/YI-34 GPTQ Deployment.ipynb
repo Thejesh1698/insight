{
 "cells": [
  {
   "cell_type": "code",
   "execution_count": 2,
   "id": "74e4efc4-7994-4ae7-a7b2-70d6e828f3f4",
   "metadata": {
    "tags": []
   },
   "outputs": [
    {
     "name": "stdout",
     "output_type": "stream",
     "text": [
      "sagemaker.config INFO - Not applying SDK defaults from location: /Library/Application Support/sagemaker/config.yaml\n",
      "sagemaker.config INFO - Not applying SDK defaults from location: /Users/ravi.tej/Library/Application Support/sagemaker/config.yaml\n"
     ]
    },
    {
     "name": "stderr",
     "output_type": "stream",
     "text": [
      "Couldn't call 'get_role' to get Role ARN from role name ravi_tej to get Role path.\n"
     ]
    },
    {
     "name": "stdout",
     "output_type": "stream",
     "text": [
      "sagemaker role arn: arn:aws:iam::005418323977:role/service-role/AmazonSageMaker-ExecutionRole-20231030T210397\n",
      "sagemaker bucket: sagemaker-ap-south-1-005418323977\n",
      "sagemaker session region: ap-south-1\n"
     ]
    }
   ],
   "source": [
    "import sagemaker\n",
    "import boto3\n",
    "# boto_session=boto3.Session(region_name='us-east-1')\n",
    "sess = sagemaker.Session()\n",
    "sagemaker_session_bucket=None\n",
    "if sagemaker_session_bucket is None and sess is not None:\n",
    "    sagemaker_session_bucket = sess.default_bucket()\n",
    "try:\n",
    "    role = sagemaker.get_execution_role()\n",
    "except ValueError:\n",
    "    iam = boto3.client('iam')\n",
    "    role = iam.get_role(RoleName='AmazonSageMaker-ExecutionRole-20231030T210397')['Role']['Arn']\n",
    "sess = sagemaker.Session(default_bucket=sagemaker_session_bucket)\n",
    "print(f\"sagemaker role arn: {role}\")\n",
    "print(f\"sagemaker bucket: {sess.default_bucket()}\")\n",
    "print(f\"sagemaker session region: {sess.boto_region_name}\")"
   ]
  },
  {
   "cell_type": "code",
   "execution_count": 3,
   "id": "2cfc94eb-3791-47fa-a0bb-f1d3d02c71a5",
   "metadata": {
    "tags": []
   },
   "outputs": [],
   "source": [
    "from sagemaker.huggingface import get_huggingface_llm_image_uri\n",
    "\n",
    "# retrieve the llm image uri\n",
    "llm_image = get_huggingface_llm_image_uri(\n",
    "  \"huggingface\",\n",
    "  version=\"1.3.3\"\n",
    ")"
   ]
  },
  {
   "cell_type": "code",
   "execution_count": 10,
   "id": "ba8283d7-fb15-488f-8bd1-d91ebfc82f4b",
   "metadata": {
    "tags": []
   },
   "outputs": [],
   "source": [
    "import json"
   ]
  },
  {
   "cell_type": "code",
   "execution_count": 11,
   "id": "20cdcd3f-c572-4395-b331-3abb5afc7319",
   "metadata": {
    "tags": []
   },
   "outputs": [],
   "source": [
    "model_id = 'NousResearch/Nous-Hermes-2-SOLAR-10.7B'"
   ]
  },
  {
   "cell_type": "code",
   "execution_count": 77,
   "id": "69ada2c1-09ec-40bc-a1ee-00b253b2b0e5",
   "metadata": {
    "tags": []
   },
   "outputs": [],
   "source": [
    "instance_type = \"ml.g5.4xlarge\"\n",
    "number_of_gpu = 1\n",
    "health_check_timeout = 600\n",
    "quantize=\"gptq\"\n",
    "num_shard=2\n",
    "bits=4\n",
    "group_size=128\n",
    "revision = 'gptq-8bit-32g-actorder_True'"
   ]
  },
  {
   "cell_type": "code",
   "execution_count": 1,
   "id": "77554b94-0f68-4bfb-8e85-dbe7d2ac020e",
   "metadata": {
    "tags": []
   },
   "outputs": [
    {
     "ename": "NameError",
     "evalue": "name 'model_id' is not defined",
     "output_type": "error",
     "traceback": [
      "\u001b[0;31m---------------------------------------------------------------------------\u001b[0m",
      "\u001b[0;31mNameError\u001b[0m                                 Traceback (most recent call last)",
      "Cell \u001b[0;32mIn[1], line 2\u001b[0m\n\u001b[1;32m      1\u001b[0m config \u001b[38;5;241m=\u001b[39m {\n\u001b[0;32m----> 2\u001b[0m     \u001b[38;5;124m'\u001b[39m\u001b[38;5;124mHF_MODEL_ID\u001b[39m\u001b[38;5;124m'\u001b[39m:model_id,\n\u001b[1;32m      3\u001b[0m     \u001b[38;5;124m'\u001b[39m\u001b[38;5;124mSM_NUM_GPUS\u001b[39m\u001b[38;5;124m'\u001b[39m: json\u001b[38;5;241m.\u001b[39mdumps(number_of_gpu),\n\u001b[1;32m      4\u001b[0m     \u001b[38;5;66;03m# 'WORLD_SIZE': 2\u001b[39;00m\n\u001b[1;32m      5\u001b[0m     \u001b[38;5;66;03m# 'QUANTIZE':  quantize,\u001b[39;00m\n\u001b[1;32m      6\u001b[0m     \u001b[38;5;124m'\u001b[39m\u001b[38;5;124mSHARDED\u001b[39m\u001b[38;5;124m'\u001b[39m: json\u001b[38;5;241m.\u001b[39mdumps(\u001b[38;5;28;01mTrue\u001b[39;00m),\n\u001b[1;32m      7\u001b[0m     \u001b[38;5;124m'\u001b[39m\u001b[38;5;124mNUM_SHARD\u001b[39m\u001b[38;5;124m'\u001b[39m: json\u001b[38;5;241m.\u001b[39mdumps(\u001b[38;5;241m2\u001b[39m),\n\u001b[1;32m      8\u001b[0m     \u001b[38;5;66;03m# 'REVISION': revision,\u001b[39;00m\n\u001b[1;32m      9\u001b[0m     \u001b[38;5;124m'\u001b[39m\u001b[38;5;124mMAX_INPUT_LENGTH\u001b[39m\u001b[38;5;124m'\u001b[39m: json\u001b[38;5;241m.\u001b[39mdumps(\u001b[38;5;241m2560\u001b[39m), \u001b[38;5;66;03m# Max length of input text\u001b[39;00m\n\u001b[1;32m     10\u001b[0m     \u001b[38;5;124m'\u001b[39m\u001b[38;5;124mMAX_TOTAL_TOKENS\u001b[39m\u001b[38;5;124m'\u001b[39m: json\u001b[38;5;241m.\u001b[39mdumps(\u001b[38;5;241m3072\u001b[39m), \u001b[38;5;66;03m# Max length of the generation (including input text)\u001b[39;00m\n\u001b[1;32m     11\u001b[0m     \u001b[38;5;124m'\u001b[39m\u001b[38;5;124mMAX_BATCH_PREFILL_TOKENS\u001b[39m\u001b[38;5;124m'\u001b[39m: json\u001b[38;5;241m.\u001b[39mdumps(\u001b[38;5;241m8144\u001b[39m), \u001b[38;5;66;03m# Max length of the generation (including input text)\u001b[39;00m\n\u001b[1;32m     12\u001b[0m     \u001b[38;5;124m'\u001b[39m\u001b[38;5;124mMAX_BATCH_TOTAL_TOKENS\u001b[39m\u001b[38;5;124m'\u001b[39m: json\u001b[38;5;241m.\u001b[39mdumps(\u001b[38;5;241m8144\u001b[39m),\n\u001b[1;32m     13\u001b[0m     \u001b[38;5;66;03m# 'GPTQ_BITS': json.dumps(bits),\u001b[39;00m\n\u001b[1;32m     14\u001b[0m     \u001b[38;5;66;03m# 'GPTQ_GROUPSIZE': json.dumps(group_size),\u001b[39;00m\n\u001b[1;32m     15\u001b[0m     \u001b[38;5;124m'\u001b[39m\u001b[38;5;124mDISABLE_CUSTOM_KERNELS\u001b[39m\u001b[38;5;124m'\u001b[39m: json\u001b[38;5;241m.\u001b[39mdumps(\u001b[38;5;28;01mTrue\u001b[39;00m)\n\u001b[1;32m     16\u001b[0m }\n",
      "\u001b[0;31mNameError\u001b[0m: name 'model_id' is not defined"
     ]
    }
   ],
   "source": [
    "config = {\n",
    "    'HF_MODEL_ID':model_id,\n",
    "    'SM_NUM_GPUS': json.dumps(number_of_gpu),\n",
    "    # 'WORLD_SIZE': 2\n",
    "    # 'QUANTIZE':  quantize,\n",
    "    'SHARDED': json.dumps(True),\n",
    "    'NUM_SHARD': json.dumps(2),\n",
    "    # 'REVISION': revision,\n",
    "    'MAX_INPUT_LENGTH': json.dumps(2560), # Max length of input text\n",
    "    'MAX_TOTAL_TOKENS': json.dumps(3072), # Max length of the generation (including input text)\n",
    "    'MAX_BATCH_PREFILL_TOKENS': json.dumps(8144), # Max length of the generation (including input text)\n",
    "    'MAX_BATCH_TOTAL_TOKENS': json.dumps(8144),\n",
    "    # 'GPTQ_BITS': json.dumps(bits),\n",
    "    # 'GPTQ_GROUPSIZE': json.dumps(group_size),\n",
    "    'DISABLE_CUSTOM_KERNELS': json.dumps(True)\n",
    "}"
   ]
  },
  {
   "cell_type": "code",
   "execution_count": 79,
   "id": "dd202e0b-c3db-47d1-b26e-3733f0debd11",
   "metadata": {
    "tags": []
   },
   "outputs": [],
   "source": [
    "from sagemaker.huggingface.model import HuggingFaceModel"
   ]
  },
  {
   "cell_type": "code",
   "execution_count": 80,
   "id": "93724ea0-0d81-4fe7-8b56-9c88247bebe0",
   "metadata": {
    "tags": []
   },
   "outputs": [],
   "source": [
    "yi_model = HuggingFaceModel(role=role, image_uri=llm_image, env=config, sagemaker_session=sess)"
   ]
  },
  {
   "cell_type": "code",
   "execution_count": 84,
   "id": "c8788a7c-0f7b-4d36-959e-6b5cae7b891c",
   "metadata": {
    "scrolled": true,
    "tags": []
   },
   "outputs": [
    {
     "name": "stdout",
     "output_type": "stream",
     "text": [
      "---------------------------*"
     ]
    },
    {
     "ename": "UnexpectedStatusException",
     "evalue": "Error hosting endpoint SOLAR-TGI-2: Failed. Reason: The primary container for production variant AllTraffic did not pass the ping health check. Please check CloudWatch logs for this endpoint.. Try changing the instance type or reference the troubleshooting page https://docs.aws.amazon.com/sagemaker/latest/dg/async-inference-troubleshooting.html",
     "output_type": "error",
     "traceback": [
      "\u001b[0;31m---------------------------------------------------------------------------\u001b[0m",
      "\u001b[0;31mUnexpectedStatusException\u001b[0m                 Traceback (most recent call last)",
      "Cell \u001b[0;32mIn[84], line 3\u001b[0m\n\u001b[1;32m      1\u001b[0m \u001b[38;5;66;03m# Deploy model to an endpoint\u001b[39;00m\n\u001b[1;32m      2\u001b[0m \u001b[38;5;66;03m# https://sagemaker.readthedocs.io/en/stable/api/inference/model.html#sagemaker.model.Model.deploy\u001b[39;00m\n\u001b[0;32m----> 3\u001b[0m llm \u001b[38;5;241m=\u001b[39m yi_model\u001b[38;5;241m.\u001b[39mdeploy(\n\u001b[1;32m      4\u001b[0m     endpoint_name \u001b[38;5;241m=\u001b[39m \u001b[38;5;124m'\u001b[39m\u001b[38;5;124mSOLAR-TGI-2\u001b[39m\u001b[38;5;124m'\u001b[39m,\n\u001b[1;32m      5\u001b[0m   initial_instance_count\u001b[38;5;241m=\u001b[39m\u001b[38;5;241m2\u001b[39m,\n\u001b[1;32m      6\u001b[0m   instance_type\u001b[38;5;241m=\u001b[39minstance_type,\n\u001b[1;32m      7\u001b[0m   container_startup_health_check_timeout\u001b[38;5;241m=\u001b[39mhealth_check_timeout, \u001b[38;5;66;03m# 10 minutes to be able to load the model\u001b[39;00m\n\u001b[1;32m      8\u001b[0m )\n",
      "File \u001b[0;32m~/anaconda3/envs/recoenv/lib/python3.11/site-packages/sagemaker/huggingface/model.py:315\u001b[0m, in \u001b[0;36mHuggingFaceModel.deploy\u001b[0;34m(self, initial_instance_count, instance_type, serializer, deserializer, accelerator_type, endpoint_name, tags, kms_key, wait, data_capture_config, async_inference_config, serverless_inference_config, volume_size, model_data_download_timeout, container_startup_health_check_timeout, inference_recommendation_id, explainer_config, **kwargs)\u001b[0m\n\u001b[1;32m    308\u001b[0m     inference_tool \u001b[38;5;241m=\u001b[39m \u001b[38;5;124m\"\u001b[39m\u001b[38;5;124mneuron\u001b[39m\u001b[38;5;124m\"\u001b[39m \u001b[38;5;28;01mif\u001b[39;00m instance_type\u001b[38;5;241m.\u001b[39mstartswith(\u001b[38;5;124m\"\u001b[39m\u001b[38;5;124mml.inf1\u001b[39m\u001b[38;5;124m\"\u001b[39m) \u001b[38;5;28;01melse\u001b[39;00m \u001b[38;5;124m\"\u001b[39m\u001b[38;5;124mneuronx\u001b[39m\u001b[38;5;124m\"\u001b[39m\n\u001b[1;32m    309\u001b[0m     \u001b[38;5;28mself\u001b[39m\u001b[38;5;241m.\u001b[39mimage_uri \u001b[38;5;241m=\u001b[39m \u001b[38;5;28mself\u001b[39m\u001b[38;5;241m.\u001b[39mserving_image_uri(\n\u001b[1;32m    310\u001b[0m         region_name\u001b[38;5;241m=\u001b[39m\u001b[38;5;28mself\u001b[39m\u001b[38;5;241m.\u001b[39msagemaker_session\u001b[38;5;241m.\u001b[39mboto_session\u001b[38;5;241m.\u001b[39mregion_name,\n\u001b[1;32m    311\u001b[0m         instance_type\u001b[38;5;241m=\u001b[39minstance_type,\n\u001b[1;32m    312\u001b[0m         inference_tool\u001b[38;5;241m=\u001b[39minference_tool,\n\u001b[1;32m    313\u001b[0m     )\n\u001b[0;32m--> 315\u001b[0m \u001b[38;5;28;01mreturn\u001b[39;00m \u001b[38;5;28msuper\u001b[39m(HuggingFaceModel, \u001b[38;5;28mself\u001b[39m)\u001b[38;5;241m.\u001b[39mdeploy(\n\u001b[1;32m    316\u001b[0m     initial_instance_count,\n\u001b[1;32m    317\u001b[0m     instance_type,\n\u001b[1;32m    318\u001b[0m     serializer,\n\u001b[1;32m    319\u001b[0m     deserializer,\n\u001b[1;32m    320\u001b[0m     accelerator_type,\n\u001b[1;32m    321\u001b[0m     endpoint_name,\n\u001b[1;32m    322\u001b[0m     format_tags(tags),\n\u001b[1;32m    323\u001b[0m     kms_key,\n\u001b[1;32m    324\u001b[0m     wait,\n\u001b[1;32m    325\u001b[0m     data_capture_config,\n\u001b[1;32m    326\u001b[0m     async_inference_config,\n\u001b[1;32m    327\u001b[0m     serverless_inference_config,\n\u001b[1;32m    328\u001b[0m     volume_size\u001b[38;5;241m=\u001b[39mvolume_size,\n\u001b[1;32m    329\u001b[0m     model_data_download_timeout\u001b[38;5;241m=\u001b[39mmodel_data_download_timeout,\n\u001b[1;32m    330\u001b[0m     container_startup_health_check_timeout\u001b[38;5;241m=\u001b[39mcontainer_startup_health_check_timeout,\n\u001b[1;32m    331\u001b[0m     inference_recommendation_id\u001b[38;5;241m=\u001b[39minference_recommendation_id,\n\u001b[1;32m    332\u001b[0m     explainer_config\u001b[38;5;241m=\u001b[39mexplainer_config,\n\u001b[1;32m    333\u001b[0m     endpoint_logging\u001b[38;5;241m=\u001b[39mkwargs\u001b[38;5;241m.\u001b[39mget(\u001b[38;5;124m\"\u001b[39m\u001b[38;5;124mendpoint_logging\u001b[39m\u001b[38;5;124m\"\u001b[39m, \u001b[38;5;28;01mFalse\u001b[39;00m),\n\u001b[1;32m    334\u001b[0m     endpoint_type\u001b[38;5;241m=\u001b[39mkwargs\u001b[38;5;241m.\u001b[39mget(\u001b[38;5;124m\"\u001b[39m\u001b[38;5;124mendpoint_type\u001b[39m\u001b[38;5;124m\"\u001b[39m, \u001b[38;5;28;01mNone\u001b[39;00m),\n\u001b[1;32m    335\u001b[0m     resources\u001b[38;5;241m=\u001b[39mkwargs\u001b[38;5;241m.\u001b[39mget(\u001b[38;5;124m\"\u001b[39m\u001b[38;5;124mresources\u001b[39m\u001b[38;5;124m\"\u001b[39m, \u001b[38;5;28;01mNone\u001b[39;00m),\n\u001b[1;32m    336\u001b[0m     managed_instance_scaling\u001b[38;5;241m=\u001b[39mkwargs\u001b[38;5;241m.\u001b[39mget(\u001b[38;5;124m\"\u001b[39m\u001b[38;5;124mmanaged_instance_scaling\u001b[39m\u001b[38;5;124m\"\u001b[39m, \u001b[38;5;28;01mNone\u001b[39;00m),\n\u001b[1;32m    337\u001b[0m )\n",
      "File \u001b[0;32m~/anaconda3/envs/recoenv/lib/python3.11/site-packages/sagemaker/model.py:1654\u001b[0m, in \u001b[0;36mModel.deploy\u001b[0;34m(self, initial_instance_count, instance_type, serializer, deserializer, accelerator_type, endpoint_name, tags, kms_key, wait, data_capture_config, async_inference_config, serverless_inference_config, volume_size, model_data_download_timeout, container_startup_health_check_timeout, inference_recommendation_id, explainer_config, accept_eula, endpoint_logging, resources, endpoint_type, managed_instance_scaling, **kwargs)\u001b[0m\n\u001b[1;32m   1651\u001b[0m \u001b[38;5;28;01mif\u001b[39;00m is_explainer_enabled:\n\u001b[1;32m   1652\u001b[0m     explainer_config_dict \u001b[38;5;241m=\u001b[39m explainer_config\u001b[38;5;241m.\u001b[39m_to_request_dict()\n\u001b[0;32m-> 1654\u001b[0m \u001b[38;5;28mself\u001b[39m\u001b[38;5;241m.\u001b[39msagemaker_session\u001b[38;5;241m.\u001b[39mendpoint_from_production_variants(\n\u001b[1;32m   1655\u001b[0m     name\u001b[38;5;241m=\u001b[39m\u001b[38;5;28mself\u001b[39m\u001b[38;5;241m.\u001b[39mendpoint_name,\n\u001b[1;32m   1656\u001b[0m     production_variants\u001b[38;5;241m=\u001b[39m[production_variant],\n\u001b[1;32m   1657\u001b[0m     tags\u001b[38;5;241m=\u001b[39mtags,\n\u001b[1;32m   1658\u001b[0m     kms_key\u001b[38;5;241m=\u001b[39mkms_key,\n\u001b[1;32m   1659\u001b[0m     wait\u001b[38;5;241m=\u001b[39mwait,\n\u001b[1;32m   1660\u001b[0m     data_capture_config_dict\u001b[38;5;241m=\u001b[39mdata_capture_config_dict,\n\u001b[1;32m   1661\u001b[0m     explainer_config_dict\u001b[38;5;241m=\u001b[39mexplainer_config_dict,\n\u001b[1;32m   1662\u001b[0m     async_inference_config_dict\u001b[38;5;241m=\u001b[39masync_inference_config_dict,\n\u001b[1;32m   1663\u001b[0m     live_logging\u001b[38;5;241m=\u001b[39mendpoint_logging,\n\u001b[1;32m   1664\u001b[0m )\n\u001b[1;32m   1666\u001b[0m \u001b[38;5;28;01mif\u001b[39;00m \u001b[38;5;28mself\u001b[39m\u001b[38;5;241m.\u001b[39mpredictor_cls:\n\u001b[1;32m   1667\u001b[0m     predictor \u001b[38;5;241m=\u001b[39m \u001b[38;5;28mself\u001b[39m\u001b[38;5;241m.\u001b[39mpredictor_cls(\u001b[38;5;28mself\u001b[39m\u001b[38;5;241m.\u001b[39mendpoint_name, \u001b[38;5;28mself\u001b[39m\u001b[38;5;241m.\u001b[39msagemaker_session)\n",
      "File \u001b[0;32m~/anaconda3/envs/recoenv/lib/python3.11/site-packages/sagemaker/session.py:5380\u001b[0m, in \u001b[0;36mSession.endpoint_from_production_variants\u001b[0;34m(self, name, production_variants, tags, kms_key, wait, data_capture_config_dict, async_inference_config_dict, explainer_config_dict, live_logging, vpc_config, enable_network_isolation, role)\u001b[0m\n\u001b[1;32m   5377\u001b[0m logger\u001b[38;5;241m.\u001b[39minfo(\u001b[38;5;124m\"\u001b[39m\u001b[38;5;124mCreating endpoint-config with name \u001b[39m\u001b[38;5;132;01m%s\u001b[39;00m\u001b[38;5;124m\"\u001b[39m, name)\n\u001b[1;32m   5378\u001b[0m \u001b[38;5;28mself\u001b[39m\u001b[38;5;241m.\u001b[39msagemaker_client\u001b[38;5;241m.\u001b[39mcreate_endpoint_config(\u001b[38;5;241m*\u001b[39m\u001b[38;5;241m*\u001b[39mconfig_options)\n\u001b[0;32m-> 5380\u001b[0m \u001b[38;5;28;01mreturn\u001b[39;00m \u001b[38;5;28mself\u001b[39m\u001b[38;5;241m.\u001b[39mcreate_endpoint(\n\u001b[1;32m   5381\u001b[0m     endpoint_name\u001b[38;5;241m=\u001b[39mname,\n\u001b[1;32m   5382\u001b[0m     config_name\u001b[38;5;241m=\u001b[39mname,\n\u001b[1;32m   5383\u001b[0m     tags\u001b[38;5;241m=\u001b[39mendpoint_tags,\n\u001b[1;32m   5384\u001b[0m     wait\u001b[38;5;241m=\u001b[39mwait,\n\u001b[1;32m   5385\u001b[0m     live_logging\u001b[38;5;241m=\u001b[39mlive_logging,\n\u001b[1;32m   5386\u001b[0m )\n",
      "File \u001b[0;32m~/anaconda3/envs/recoenv/lib/python3.11/site-packages/sagemaker/session.py:4291\u001b[0m, in \u001b[0;36mSession.create_endpoint\u001b[0;34m(self, endpoint_name, config_name, tags, wait, live_logging)\u001b[0m\n\u001b[1;32m   4287\u001b[0m \u001b[38;5;28mself\u001b[39m\u001b[38;5;241m.\u001b[39msagemaker_client\u001b[38;5;241m.\u001b[39mcreate_endpoint(\n\u001b[1;32m   4288\u001b[0m     EndpointName\u001b[38;5;241m=\u001b[39mendpoint_name, EndpointConfigName\u001b[38;5;241m=\u001b[39mconfig_name, Tags\u001b[38;5;241m=\u001b[39mtags\n\u001b[1;32m   4289\u001b[0m )\n\u001b[1;32m   4290\u001b[0m \u001b[38;5;28;01mif\u001b[39;00m wait:\n\u001b[0;32m-> 4291\u001b[0m     \u001b[38;5;28mself\u001b[39m\u001b[38;5;241m.\u001b[39mwait_for_endpoint(endpoint_name, live_logging\u001b[38;5;241m=\u001b[39mlive_logging)\n\u001b[1;32m   4292\u001b[0m \u001b[38;5;28;01mreturn\u001b[39;00m endpoint_name\n",
      "File \u001b[0;32m~/anaconda3/envs/recoenv/lib/python3.11/site-packages/sagemaker/session.py:5023\u001b[0m, in \u001b[0;36mSession.wait_for_endpoint\u001b[0;34m(self, endpoint, poll, live_logging)\u001b[0m\n\u001b[1;32m   5017\u001b[0m     \u001b[38;5;28;01mif\u001b[39;00m \u001b[38;5;124m\"\u001b[39m\u001b[38;5;124mCapacityError\u001b[39m\u001b[38;5;124m\"\u001b[39m \u001b[38;5;129;01min\u001b[39;00m \u001b[38;5;28mstr\u001b[39m(reason):\n\u001b[1;32m   5018\u001b[0m         \u001b[38;5;28;01mraise\u001b[39;00m exceptions\u001b[38;5;241m.\u001b[39mCapacityError(\n\u001b[1;32m   5019\u001b[0m             message\u001b[38;5;241m=\u001b[39mmessage,\n\u001b[1;32m   5020\u001b[0m             allowed_statuses\u001b[38;5;241m=\u001b[39m[\u001b[38;5;124m\"\u001b[39m\u001b[38;5;124mInService\u001b[39m\u001b[38;5;124m\"\u001b[39m],\n\u001b[1;32m   5021\u001b[0m             actual_status\u001b[38;5;241m=\u001b[39mstatus,\n\u001b[1;32m   5022\u001b[0m         )\n\u001b[0;32m-> 5023\u001b[0m     \u001b[38;5;28;01mraise\u001b[39;00m exceptions\u001b[38;5;241m.\u001b[39mUnexpectedStatusException(\n\u001b[1;32m   5024\u001b[0m         message\u001b[38;5;241m=\u001b[39mmessage,\n\u001b[1;32m   5025\u001b[0m         allowed_statuses\u001b[38;5;241m=\u001b[39m[\u001b[38;5;124m\"\u001b[39m\u001b[38;5;124mInService\u001b[39m\u001b[38;5;124m\"\u001b[39m],\n\u001b[1;32m   5026\u001b[0m         actual_status\u001b[38;5;241m=\u001b[39mstatus,\n\u001b[1;32m   5027\u001b[0m     )\n\u001b[1;32m   5028\u001b[0m \u001b[38;5;28;01mreturn\u001b[39;00m desc\n",
      "\u001b[0;31mUnexpectedStatusException\u001b[0m: Error hosting endpoint SOLAR-TGI-2: Failed. Reason: The primary container for production variant AllTraffic did not pass the ping health check. Please check CloudWatch logs for this endpoint.. Try changing the instance type or reference the troubleshooting page https://docs.aws.amazon.com/sagemaker/latest/dg/async-inference-troubleshooting.html"
     ]
    }
   ],
   "source": [
    "# Deploy model to an endpoint\n",
    "# https://sagemaker.readthedocs.io/en/stable/api/inference/model.html#sagemaker.model.Model.deploy\n",
    "llm = yi_model.deploy(\n",
    "    endpoint_name = 'SOLAR-TGI-2',\n",
    "  initial_instance_count=2,\n",
    "  instance_type=instance_type,\n",
    "  container_startup_health_check_timeout=health_check_timeout, # 10 minutes to be able to load the model\n",
    ")"
   ]
  },
  {
   "cell_type": "code",
   "execution_count": 22,
   "id": "30927557-cd28-4c0e-815d-9844171f6a86",
   "metadata": {
    "tags": []
   },
   "outputs": [
    {
     "data": {
      "text/plain": [
       "'SOLAR-TGI'"
      ]
     },
     "execution_count": 22,
     "metadata": {},
     "output_type": "execute_result"
    }
   ],
   "source": [
    "endpoint_name"
   ]
  },
  {
   "cell_type": "code",
   "execution_count": 44,
   "id": "e56549bd-0131-45aa-8102-8a521daa2d0f",
   "metadata": {
    "tags": []
   },
   "outputs": [],
   "source": [
    "parameters = {\n",
    "    \"do_sample\": True,\n",
    "    \"top_p\": 0.9,\n",
    "    \"temperature\": 0.8,\n",
    "    \"max_new_tokens\": 512,\n",
    "    \"repetition_penalty\": 1.2,\n",
    "    \"stop\": [\"</s>\"],\n",
    "    'return_full_text': False\n",
    "}"
   ]
  },
  {
   "cell_type": "code",
   "execution_count": 45,
   "id": "ae466fc7-dd57-4729-94b9-0bbe05fc9dbb",
   "metadata": {
    "tags": []
   },
   "outputs": [],
   "source": [
    "smr = sess.boto_session.client(\"sagemaker-runtime\")"
   ]
  },
  {
   "cell_type": "code",
   "execution_count": 127,
   "id": "5027f0fc-906f-454d-a76f-91779d817b75",
   "metadata": {
    "tags": []
   },
   "outputs": [],
   "source": [
    "# def generate_template(prompt):\n",
    "#     return f'''USER: {prompt}\n",
    "#     ASSISTANT:\n",
    "#     '''\n",
    "\n",
    "# len(prompt.split(' '))"
   ]
  },
  {
   "cell_type": "code",
   "execution_count": 46,
   "id": "483e093f-b6bd-4566-ba6f-c3aae84934f0",
   "metadata": {
    "tags": []
   },
   "outputs": [],
   "source": [
    "from datetime import datetime"
   ]
  },
  {
   "cell_type": "code",
   "execution_count": 47,
   "id": "0fe0b078-7451-4e47-a268-f80689782c01",
   "metadata": {
    "tags": []
   },
   "outputs": [],
   "source": [
    "system_prompt = '''|instructions_start|\n",
    "You're an AI expert in financial and business topics, answering queries using relevant materials and following strict rules:\n",
    "* Valid Queries: Questions about finance, business, or financially relevant entities (e.g., India, RBI, Reliance, Fed).\n",
    "* Invalid Queries: Questions unrelated to finance or business (e.g., Bollywood, sports, politics unless financially relevant), instructional queries on non-financial topics (jokes, coding, recipes), and inappropriate or harmful content.\n",
    "\n",
    "Response Instructions:\n",
    "* If the query is valid and answerable with references, summarize the information clearly and concisely.\n",
    "* If the query is an entity like India, Supreme Court, Modi, RBI - and if the articles contain news about these entities - then you can mention that the latest news about ‘query’ by summarising the articles. When the published date mentioned in the content is slightly older - you can mention the corresponding dates as well. If it is new, then no need to do that. \n",
    "* If the references have information related to both India and international entities, then first prefer highlighting the indian entities. When referring to international, explicitly mention the country, since indian readers shouldn’t get confused\n",
    "* If it's a valid query but the exact answer isn't in the references, state your inability to find the exact answer and provide a summary of related information.\n",
    "* If it's a valid query but there's no relevant information, apologize, say you can't find the answer, and note that your team is working to expand knowledge.\n",
    "* For invalid queries, politely decline, noting your focus on finance, and optionally share brief financial trivia.\n",
    "\n",
    "General Response Guidelines:\n",
    "* Address users professionally and respectfully.\n",
    "* Ensure good grammar and readability.\n",
    "* Keep responses concise, typically 3-4 sentences, maximum 6.\n",
    "* Don't provide answers not explicitly found in the references.\n",
    "* If an exact answer isn't found, then mention that you are not able to find the answer and follow with a concise summary of any related information available in the references.\n",
    "* Politely decline irrelevant queries, emphasizing your financial focus.\n",
    "* For queries about recent dates, calculate the period using today's date in the format %Y-%m-%d\n",
    "* Do not mention ‘OpenAI’ at any cost. You are simply a financial AI assistant designed by WintWealth.\n",
    "\n",
    "The response includes the query and references labeled accordingly. The user's query is mentioned below between user_query and |query_end|\n",
    "'''"
   ]
  },
  {
   "cell_type": "code",
   "execution_count": 48,
   "id": "6884eade-fca3-4ba4-abbf-03bbac3cb8c8",
   "metadata": {
    "tags": []
   },
   "outputs": [],
   "source": [
    "def create_prompt_for_query_references(search_query, references):\n",
    "    today_date_string = f\"today's date: {datetime.now().strftime('%Y-%m-%d')}\"\n",
    "    query_string = f\"user_query: {search_query} |query_end| \"\n",
    "    references_string = ''\n",
    "    for i in range(len(references)):\n",
    "        references_string += f'reference {i}: {references[i]} \\n\\n'\n",
    "    return system_prompt + today_date_string + '|instructions_end| ' + query_string + references_string"
   ]
  },
  {
   "cell_type": "code",
   "execution_count": 49,
   "id": "c7b5db57-a762-4c1a-8464-26088c080104",
   "metadata": {
    "tags": []
   },
   "outputs": [],
   "source": [
    "ref = ['''\n",
    "title: What is XIRR in Mutual Funds: Calculation & Formula in Excel. published_date: 2023-02-13T11:50:00+00:00. content: XIRR or Extended Internal Rate of Return helps calculate the return on mutual fund investments made through SIP (Systematic Investment Plan). CEO of Navi Mutual Fund, Hari Shyamsunder says, “Your investments should always be compared against a possible alternative. But to make that comparison, you must understand the basic concept of XIRR.” This article is a beginner’s guide to understanding the XIRR meaning in mutual funds, its importance and the calculation of your SIP returns. Read on! What is XIRR in Mutual Funds? XIRR Meaning – XIRR (Extended Internal Rate of Return) can be defined as a computation method for calculating returns of mutual fund investments at irregular intervals. It can also be defined as a single rate of return which can be applicable for every instalment and redemption. You can use it to have an understanding of the current value of all your investments. When you invest in a scheme via SIP (Systematic Investment Plan) , you need to pay multiple instalments. You can easily calculate the returns of these investments with the help of IRR (Internal Rate of Return), but, you need to make sure that the time frame between the consecutive cash flows remains the same.The XIRR method simplifies the entire process of calculating returns even in the case of irregular investments. You can simply use an excel sheet to calculate your investment returns. Here, the XIRR formula will modify the IRR and enable you to allocate separate dates to individual cash flows. XIRR Formula and Calculation To calculate XIRR in mutual funds, you have to insert the transactions (additional purchases, SIP/SWP instalments, redemption) and the corresponding dates in the designated place in an MS Excel sheet. These transaction details will be available in the statement of account sent by the AMC (Asset Management Company) . To calculate a mutual fund’s XIRR, you can use the XIRR formula in MS Excel: “= XIRR (values, dates, guess)” Here, you have to insert cash outflows (lump-sum purchases and SIP instalments) as negative values (i.e. put a minus sign before the amount) and cash inflows (dividends, SWP, redemptions) as positive values. ‘Guess’ is an optional input. It is considered to be 0.1 by default. If you have not redeemed your mutual fund units, then, to calculate XIRR, you have to enter the current investment value with the NAV (Net Asset Value) of your mutual fund investment. Do not include transactions like dividend reinvestment because they do not involve actual cash flows. Moreover, if you are calculating the XIRR at the level of schemes, then switches should be treated as redemption. But, if you are calculating XIRR in mutual funds as portfolio level, then switches are not relevant in the calculation. Also Read How to Use SIP CAGR Calculator to Estimate Returns on Mutual Fund Investments? Best Low-Risk Mutual Funds Example of XIRR Calculation in Excel Here is an example of a six-month SIP to calculate XIRR in mutual funds: SIP amount = Rs.5,000 SIP investment dates: Start on 01-01-2017, End on 01-06-2017 Date of redemption: 01-07-2017 Maturity sum = Rs.31,000 Let’s assume cash flows as mentioned in the table below: 01/01/2017 -5000 03/02/2017 -5000 01/03/2017 -5000 11/04/2017 -5000 01/05/2017 -5000 25/06/2017 -5000 01-07-2017 31000 XIRR 11.92429 Let’s take a look at the calculation part below: In the left column, all the dates are mentioned. The right column includes your SIP instalments of Rs.5,000. It is marked as negative owing to the outflow of cash. In the left column, you can find the redemption date. Just beside that, there is a redemption amount of Rs.31,000. Use the XIRR formula: Insert the range of cells that represent the transaction values. After that, enter the series of payment dates with respect to the value of the cash flows. You will have your XIRR value of 11.92 %, as mentioned in the table. Why is XIRR Accurate for Mutual Funds? Let us assume that you had started investing in a scheme via a monthly SIP of Rs.15,000 and then continued the investment for 5 years. Supposed, after 5 years, the value of the investment grew to Rs.12 lakh. Here, the annual return of the first month’s instalment will be different from the rest as it had remained invested for the maximum number of months. In simpler words, the CAGR of each instalment will differ as their investment period will be different. Analysing the performance of a mutual fund will become complicated when you look at the CAGRs of these instalments. To make the task easier, all the CAGRs are adjusted together to a common CAGR which is then considered as a mutual fund’s XIRR. XIRR vs CAGR – Can we use CAGR Instead of XIRR? This is a common misconception that CAGR and XIRR are the same. CAGR is the accurate calculation of returns on every instalment, which doesn’t take inflows and outflows into consideration. In contrast, XIRR means the overall average of the CAGRs and takes into account every inflow & outflow of cash. Here are some simplified pointers to make their differences obvious: XIRR CAGR XIRR meaning is an average annualised return. CAGR is the absolute annualised return. XIRR takes into account every cash inflow and outflow. CAGR is calculated only considering the initial value, absolute value and investment tenure. XIRR is calculated when there are multiple cash flows; hence, it can be good for SIP investments. CAGR is ideal for lump-sum investments . XIRR means an average of every return earned by each cash flow during tenure. CAGR is the compounded growth rate. Final Word XIRR is the most comprehensive way of determining your returns in case of multiple transactions, especially when your investment time is irregular. In other words, allocating your money to mutual funds via an SIP will lead to cash outflows and cash inflows. In such cases, the time of investment also plays a significant role in the calculation of the returns. To that end, the role of Extended Internal Rate of Return (XIRR) in SIP becomes essential. If you’re looking to explore diverse low-cost funds, check out Navi Mutual Fund . Download the Navi app to start SIP at just Rs.10 per month. Disclaimer: Mutual Fund investments are subject to market risks, read all scheme related documents carefully. FAQs What is the formula of XIRR? If you wish to calculate XIRR in mutual funds, you need to enter all transactions and dates in corresponding columns in an MS Excel sheet. Then, you have to enter the following formula: “= XIRR (values, dates, guess). Cash outflows have to be entered as negative outflows and cash inflows as positive. What is the formula of CAGR? The formula for CAGR is as follows: CAGR ={(Ending balance/beginning balance)^1/n} – 1 Where, beginning balance = Investment value at the beginning of the investment period Ending balance = Investment value at the end of your investment N = Total number of years you have invested in a mutual fund What is IRR? IRR (Internal Rate of Return) is described as a discounting cash flow technique which provides the rate of return that a mutual fund has earned. Here, both the discounted cash inflow and the total initial cash outlay are equal to zero. Is XIRR better than IRR? IRR is used to determine returns against investments made at fixed intervals. But investments and redemptions are never regular. In that case, XIRR is the right choice. What is SIP in mutual funds? A SIP or Systematic Invest Plan is a tool to invest in mutual funds. It is a systematic way to invest a fixed sum of money in a periodical manner. It is also a very safe way to invest. What is XIRR in NPS or National Pension Scheme? Return on Investments for National Pension Scheme gives the annualised effective compounded return rate in the PRAN account and is calculated using the formula of XIRR. The calculation is done considering all the contribution/redemptions processed in the PRAN account since inception and the latest valuation of the investments. What is XIRR Return? XIRR Return is the returns on your mutual fund investments made at irregular intervals, like SIP investments. XIRR calculates the CAGR of every SIP investment made. These are then added together to give you the overall CAGR. Which is better – CAGR or XIRR? CAGR gives you the value of your annual return over a period of time longer than one year. But in the case of calculating returns on frequent investments or cash flows during different time periods, such a method is not apt as it does not consider multiple cash flows. In such cases, XIRR is an ideal option. Does the XIRR function work monthly in Excel? The XIRR function in MS Excel always computes an annualised IRR even if an individual calculates returns on weekly/monthly cash flows. What is XIRR Full Form? XIRR stands for Extended Internal Rate of Return. Before you go… Want to put your savings into action and kick-start your investment journey 💸 But don’t have time to do research? Invest now with Navi Nifty 50 Index Fund , sit back, and earn from the top 50 companies. Disclaimer: Mutual Fund investments are subject to market risks, read all scheme-related documents carefully. This article has been prepared on the basis of internal data, publicly available information and other sources believed to be reliable. The information contained in this article is for general purposes only and not a complete disclosure of every material fact. It should not be construed as investment advice to any party. The article does not warrant the completeness or accuracy of the information and disclaims all liabilities, losses and damages arising out of the use of this information. Readers shall be fully liable/responsible for any decision taken on the basis of this article. Latest Webstories Update your Aadhaar card details online for free before June 14, 2023 30 March 2023 6 Investment Tips From Raamdeo Agarwal You Cannot Ignore! 7 Creative Home Decor Ideas to Transform Your Space Finance Bill 2023 Highlights A Tribute to Stock Market Expert: Ashwani Gujral Ram Navami 2023: 6 Life Lessons to Learn From Lord Rama 23 March 2023 11 Facts You Didn’t Know About the Man Behind Chaptgpt: Sam Altman 1 March 2023 6 Best Nifty Next 50 Funds to Invest in 2023 27 February 2023 7 Best Investment Apps in India 2023 A HERtorical Investment: The Mahila Samman Savings Certificate\n",
    "''']"
   ]
  },
  {
   "cell_type": "code",
   "execution_count": 56,
   "id": "d73c975d-3c6f-488e-b898-6a056e261300",
   "metadata": {
    "tags": []
   },
   "outputs": [],
   "source": [
    "request = {\"inputs\":'WHAT IS XIRR', \"parameters\": parameters, \"stream\": False}"
   ]
  },
  {
   "cell_type": "code",
   "execution_count": 57,
   "id": "cfc7a846-a18b-4528-8f35-d48eeebcb7e3",
   "metadata": {
    "tags": []
   },
   "outputs": [],
   "source": [
    "resp = smr.invoke_endpoint(\n",
    "    EndpointName=endpoint_name,\n",
    "    Body=json.dumps(request),\n",
    "    ContentType=\"application/json\",\n",
    ")"
   ]
  },
  {
   "cell_type": "code",
   "execution_count": 58,
   "id": "0a7c343b-7624-456b-ae38-d32474a04e4d",
   "metadata": {
    "tags": []
   },
   "outputs": [
    {
     "data": {
      "text/plain": [
       "b'[{\"generated_text\":\"?\\\\nXirr stands for \\\\\"Excel Internal Rate of Return\\\\\". This is a calculation used to determine the average rate of return earned on an investment. It\\'s most commonly found in Excel, but there are other programs that use it as well such as Google Sheets and OpenOffice Calc.\\\\nThe term was coined by Microsoft when they introduced their spreadsheet software called \\\\\"Microsoft Office Excel\\\\\" back in 1985. Since then, many other applications have adopted this feature under different names like IRR (Internal Rate Of Return) or NPV (Net Present Value). However, regardless of what you call it, its purpose remains unchanged: determining the expected future value given current cash flows and discount rates.\\\\nIn essence, xirr calculates how much money would be needed today to equal tomorrow\\'s expected earnings after accounting for taxes, inflation, interest payments etc. In simpler terms, if you invest $100 today at a rate of 12%, your total amount after one year will be approximately $136.47. But suppose instead you wanted to know exactly how much income per month you need now so that after three years, assuming no changes occur during those periods, you end up with roughly $500. Well, using our formula above, we could figure out that starting from scratch right now, you\\'d need around $41.63 monthly contributions just to reach your target goal. That said though, remember that these calculations only work based off historical trends and don\\'t account for any market fluctuations which might affect returns going forward...\\\\nWhy Use The XIRR Function Over Other Methods?\\\\nThere are several reasons why someone may choose to utilize the XIRR function over alternative approaches. Firstly, unlike some methods, XIRR can handle irregular payment schedules while still providing accurate results. For example, say you want to calculate the annualized yield for investments where deposits aren\\'t always made at regular intervals. You could either manually calculate each deposit individually or input them all into an excel sheet along with withdrawal dates and amounts - leaving yourself open to human error in the process. Alternatively, however, you could simply enter all relevant information directly into the cell referencing the first transaction date/amount pairing, select \\'Calculate\\', wait for the magic happen and voila! Your answer appears automatically, without even having touched a keyboard button since typing those opening brackets...how cool is\"}]'"
      ]
     },
     "execution_count": 58,
     "metadata": {},
     "output_type": "execute_result"
    }
   ],
   "source": [
    "resp['Body'].read()"
   ]
  },
  {
   "cell_type": "code",
   "execution_count": 373,
   "id": "2937149c-ead7-4d6f-bd62-14469ecd17d7",
   "metadata": {
    "tags": []
   },
   "outputs": [],
   "source": [
    "# resp = smr.invoke_endpoint(\n",
    "#     EndpointName='OpenHermes-ApricotTangerineScallop-TGI',\n",
    "#     Body=json.dumps(request),\n",
    "#     ContentType=\"application/json\",\n",
    "# )"
   ]
  },
  {
   "cell_type": "code",
   "execution_count": 381,
   "id": "2be17036-4acf-46d1-a5b2-1cd82f49bf72",
   "metadata": {
    "tags": []
   },
   "outputs": [],
   "source": [
    "a = resp['Body'].read()"
   ]
  },
  {
   "cell_type": "code",
   "execution_count": 382,
   "id": "9e0f6515-f5a8-4f89-a61e-cf131753bf98",
   "metadata": {
    "tags": []
   },
   "outputs": [
    {
     "data": {
      "text/plain": [
       "b'[{\"generated_text\":\"https://www.taxguru.co.in/articles/section-80c-understanding-deductions-under-section-80c.html</s>\"}]'"
      ]
     },
     "execution_count": 382,
     "metadata": {},
     "output_type": "execute_result"
    }
   ],
   "source": [
    "a"
   ]
  },
  {
   "cell_type": "markdown",
   "id": "f7c3c21e-88ff-4dfd-8ea5-a7601a918386",
   "metadata": {},
   "source": [
    "### Deleting the endpoint"
   ]
  },
  {
   "cell_type": "code",
   "execution_count": 59,
   "id": "10e15176-335d-4288-997b-19ca73257f2e",
   "metadata": {
    "tags": []
   },
   "outputs": [],
   "source": [
    "sm_client = boto3.client('sagemaker')"
   ]
  },
  {
   "cell_type": "code",
   "execution_count": 82,
   "id": "7902eb32-900a-4e29-96be-b3b34fce7788",
   "metadata": {
    "tags": []
   },
   "outputs": [
    {
     "ename": "ClientError",
     "evalue": "An error occurred (ValidationException) when calling the DescribeEndpoint operation: Could not find endpoint \"SOLAR-TGI-2\".",
     "output_type": "error",
     "traceback": [
      "\u001b[0;31m---------------------------------------------------------------------------\u001b[0m",
      "\u001b[0;31mClientError\u001b[0m                               Traceback (most recent call last)",
      "Cell \u001b[0;32mIn[82], line 2\u001b[0m\n\u001b[1;32m      1\u001b[0m endpoint_name \u001b[38;5;241m=\u001b[39m \u001b[38;5;124m'\u001b[39m\u001b[38;5;124mSOLAR-TGI-2\u001b[39m\u001b[38;5;124m'\u001b[39m\n\u001b[0;32m----> 2\u001b[0m endpoint \u001b[38;5;241m=\u001b[39m sm_client\u001b[38;5;241m.\u001b[39mdescribe_endpoint(EndpointName\u001b[38;5;241m=\u001b[39mendpoint_name)\n\u001b[1;32m      3\u001b[0m endpoint_config_name \u001b[38;5;241m=\u001b[39m endpoint[\u001b[38;5;124m'\u001b[39m\u001b[38;5;124mEndpointConfigName\u001b[39m\u001b[38;5;124m'\u001b[39m]\n",
      "File \u001b[0;32m~/anaconda3/envs/recoenv/lib/python3.11/site-packages/botocore/client.py:553\u001b[0m, in \u001b[0;36mClientCreator._create_api_method.<locals>._api_call\u001b[0;34m(self, *args, **kwargs)\u001b[0m\n\u001b[1;32m    549\u001b[0m     \u001b[38;5;28;01mraise\u001b[39;00m \u001b[38;5;167;01mTypeError\u001b[39;00m(\n\u001b[1;32m    550\u001b[0m         \u001b[38;5;124mf\u001b[39m\u001b[38;5;124m\"\u001b[39m\u001b[38;5;132;01m{\u001b[39;00mpy_operation_name\u001b[38;5;132;01m}\u001b[39;00m\u001b[38;5;124m() only accepts keyword arguments.\u001b[39m\u001b[38;5;124m\"\u001b[39m\n\u001b[1;32m    551\u001b[0m     )\n\u001b[1;32m    552\u001b[0m \u001b[38;5;66;03m# The \"self\" in this scope is referring to the BaseClient.\u001b[39;00m\n\u001b[0;32m--> 553\u001b[0m \u001b[38;5;28;01mreturn\u001b[39;00m \u001b[38;5;28mself\u001b[39m\u001b[38;5;241m.\u001b[39m_make_api_call(operation_name, kwargs)\n",
      "File \u001b[0;32m~/anaconda3/envs/recoenv/lib/python3.11/site-packages/botocore/client.py:1009\u001b[0m, in \u001b[0;36mBaseClient._make_api_call\u001b[0;34m(self, operation_name, api_params)\u001b[0m\n\u001b[1;32m   1005\u001b[0m     error_code \u001b[38;5;241m=\u001b[39m error_info\u001b[38;5;241m.\u001b[39mget(\u001b[38;5;124m\"\u001b[39m\u001b[38;5;124mQueryErrorCode\u001b[39m\u001b[38;5;124m\"\u001b[39m) \u001b[38;5;129;01mor\u001b[39;00m error_info\u001b[38;5;241m.\u001b[39mget(\n\u001b[1;32m   1006\u001b[0m         \u001b[38;5;124m\"\u001b[39m\u001b[38;5;124mCode\u001b[39m\u001b[38;5;124m\"\u001b[39m\n\u001b[1;32m   1007\u001b[0m     )\n\u001b[1;32m   1008\u001b[0m     error_class \u001b[38;5;241m=\u001b[39m \u001b[38;5;28mself\u001b[39m\u001b[38;5;241m.\u001b[39mexceptions\u001b[38;5;241m.\u001b[39mfrom_code(error_code)\n\u001b[0;32m-> 1009\u001b[0m     \u001b[38;5;28;01mraise\u001b[39;00m error_class(parsed_response, operation_name)\n\u001b[1;32m   1010\u001b[0m \u001b[38;5;28;01melse\u001b[39;00m:\n\u001b[1;32m   1011\u001b[0m     \u001b[38;5;28;01mreturn\u001b[39;00m parsed_response\n",
      "\u001b[0;31mClientError\u001b[0m: An error occurred (ValidationException) when calling the DescribeEndpoint operation: Could not find endpoint \"SOLAR-TGI-2\"."
     ]
    }
   ],
   "source": [
    "endpoint_name = 'SOLAR-TGI-2'\n",
    "endpoint = sm_client.describe_endpoint(EndpointName=endpoint_name)\n",
    "endpoint_config_name = endpoint['EndpointConfigName']"
   ]
  },
  {
   "cell_type": "code",
   "execution_count": 61,
   "id": "5f7c29ee-6dad-43db-988b-feda08141928",
   "metadata": {
    "tags": []
   },
   "outputs": [
    {
     "data": {
      "text/plain": [
       "{'ResponseMetadata': {'RequestId': 'c0cfcd84-d9f0-4a8a-9067-49df8e99f664',\n",
       "  'HTTPStatusCode': 200,\n",
       "  'HTTPHeaders': {'x-amzn-requestid': 'c0cfcd84-d9f0-4a8a-9067-49df8e99f664',\n",
       "   'content-type': 'application/x-amz-json-1.1',\n",
       "   'content-length': '0',\n",
       "   'date': 'Mon, 29 Jan 2024 17:04:44 GMT'},\n",
       "  'RetryAttempts': 0}}"
      ]
     },
     "execution_count": 61,
     "metadata": {},
     "output_type": "execute_result"
    }
   ],
   "source": [
    "sm_client.delete_endpoint(EndpointName=endpoint_name)"
   ]
  },
  {
   "cell_type": "code",
   "execution_count": 83,
   "id": "216b3e7b-0c07-4b51-8a42-20744777981a",
   "metadata": {
    "tags": []
   },
   "outputs": [
    {
     "data": {
      "text/plain": [
       "{'ResponseMetadata': {'RequestId': '726c1905-cb0e-4dcb-883c-62aa1fb88ca4',\n",
       "  'HTTPStatusCode': 200,\n",
       "  'HTTPHeaders': {'x-amzn-requestid': '726c1905-cb0e-4dcb-883c-62aa1fb88ca4',\n",
       "   'content-type': 'application/x-amz-json-1.1',\n",
       "   'content-length': '0',\n",
       "   'date': 'Mon, 29 Jan 2024 17:10:07 GMT'},\n",
       "  'RetryAttempts': 0}}"
      ]
     },
     "execution_count": 83,
     "metadata": {},
     "output_type": "execute_result"
    }
   ],
   "source": [
    "sm_client.delete_endpoint_config(EndpointConfigName='SOLAR-TGI-2')"
   ]
  },
  {
   "cell_type": "code",
   "execution_count": null,
   "id": "6b61e83d-da4d-418f-a676-35e05c297c69",
   "metadata": {},
   "outputs": [],
   "source": []
  }
 ],
 "metadata": {
  "kernelspec": {
   "display_name": "recoenv",
   "language": "python",
   "name": "recoenv"
  },
  "language_info": {
   "codemirror_mode": {
    "name": "ipython",
    "version": 3
   },
   "file_extension": ".py",
   "mimetype": "text/x-python",
   "name": "python",
   "nbconvert_exporter": "python",
   "pygments_lexer": "ipython3",
   "version": "3.11.5"
  }
 },
 "nbformat": 4,
 "nbformat_minor": 5
}
