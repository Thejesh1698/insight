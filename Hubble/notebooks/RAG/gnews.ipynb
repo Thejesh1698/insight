{
 "cells": [
  {
   "cell_type": "code",
   "execution_count": 1,
   "id": "5892c564-5bb8-41c7-871e-88da6321bcf3",
   "metadata": {
    "scrolled": true,
    "tags": []
   },
   "outputs": [
    {
     "name": "stdout",
     "output_type": "stream",
     "text": [
      "Collecting gnews\n",
      "  Obtaining dependency information for gnews from https://files.pythonhosted.org/packages/8c/ed/2a13ad55f3877ec88fc67d0675b62f439bb254bc9c238d8fc38b999d91fa/gnews-0.3.6-py3-none-any.whl.metadata\n",
      "  Downloading gnews-0.3.6-py3-none-any.whl.metadata (17 kB)\n",
      "Collecting feedparser~=6.0.2 (from gnews)\n",
      "  Obtaining dependency information for feedparser~=6.0.2 from https://files.pythonhosted.org/packages/7c/d4/8c31aad9cc18f451c49f7f9cfb5799dadffc88177f7917bc90a66459b1d7/feedparser-6.0.11-py3-none-any.whl.metadata\n",
      "  Downloading feedparser-6.0.11-py3-none-any.whl.metadata (2.4 kB)\n",
      "Collecting bs4~=0.0.1 (from gnews)\n",
      "  Obtaining dependency information for bs4~=0.0.1 from https://files.pythonhosted.org/packages/51/bb/bf7aab772a159614954d84aa832c129624ba6c32faa559dfb200a534e50b/bs4-0.0.2-py2.py3-none-any.whl.metadata\n",
      "  Downloading bs4-0.0.2-py2.py3-none-any.whl.metadata (411 bytes)\n",
      "Collecting beautifulsoup4~=4.9.3 (from gnews)\n",
      "  Downloading beautifulsoup4-4.9.3-py3-none-any.whl (115 kB)\n",
      "\u001b[2K     \u001b[90m━━━━━━━━━━━━━━━━━━━━━━━━━━━━━━━━━━━━━\u001b[0m \u001b[32m115.8/115.8 kB\u001b[0m \u001b[31m568.0 kB/s\u001b[0m eta \u001b[36m0:00:00\u001b[0ma \u001b[36m0:00:01\u001b[0m\n",
      "\u001b[?25hCollecting pymongo~=3.12.0 (from gnews)\n",
      "  Downloading pymongo-3.12.3.tar.gz (821 kB)\n",
      "\u001b[2K     \u001b[90m━━━━━━━━━━━━━━━━━━━━━━━━━━━━━━━━━━━━━\u001b[0m \u001b[32m821.2/821.2 kB\u001b[0m \u001b[31m919.3 kB/s\u001b[0m eta \u001b[36m0:00:00\u001b[0ma \u001b[36m0:00:01\u001b[0m\n",
      "\u001b[?25h  Preparing metadata (setup.py) ... \u001b[?25ldone\n",
      "\u001b[?25hCollecting dnspython~=1.16.0 (from gnews)\n",
      "  Downloading dnspython-1.16.0-py2.py3-none-any.whl (188 kB)\n",
      "\u001b[2K     \u001b[90m━━━━━━━━━━━━━━━━━━━━━━━━━━━━━━━━━━━━━━━\u001b[0m \u001b[32m188.4/188.4 kB\u001b[0m \u001b[31m2.5 MB/s\u001b[0m eta \u001b[36m0:00:00\u001b[0ma \u001b[36m0:00:01\u001b[0m\n",
      "\u001b[?25hCollecting python-dotenv~=0.19.0 (from gnews)\n",
      "  Downloading python_dotenv-0.19.2-py2.py3-none-any.whl (17 kB)\n",
      "Collecting requests==2.26.0 (from gnews)\n",
      "  Downloading requests-2.26.0-py2.py3-none-any.whl (62 kB)\n",
      "\u001b[2K     \u001b[90m━━━━━━━━━━━━━━━━━━━━━━━━━━━━━━━━━━━━━━━━\u001b[0m \u001b[32m62.3/62.3 kB\u001b[0m \u001b[31m2.9 MB/s\u001b[0m eta \u001b[36m0:00:00\u001b[0m\n",
      "\u001b[?25hRequirement already satisfied: urllib3<1.27,>=1.21.1 in /Users/ravi.tej/anaconda3/envs/recoenv/lib/python3.11/site-packages (from requests==2.26.0->gnews) (1.26.16)\n",
      "Requirement already satisfied: certifi>=2017.4.17 in /Users/ravi.tej/anaconda3/envs/recoenv/lib/python3.11/site-packages (from requests==2.26.0->gnews) (2023.7.22)\n",
      "Requirement already satisfied: charset-normalizer~=2.0.0 in /Users/ravi.tej/anaconda3/envs/recoenv/lib/python3.11/site-packages (from requests==2.26.0->gnews) (2.0.4)\n",
      "Requirement already satisfied: idna<4,>=2.5 in /Users/ravi.tej/anaconda3/envs/recoenv/lib/python3.11/site-packages (from requests==2.26.0->gnews) (3.4)\n",
      "Requirement already satisfied: soupsieve>1.2 in /Users/ravi.tej/anaconda3/envs/recoenv/lib/python3.11/site-packages (from beautifulsoup4~=4.9.3->gnews) (2.4)\n",
      "Collecting sgmllib3k (from feedparser~=6.0.2->gnews)\n",
      "  Downloading sgmllib3k-1.0.0.tar.gz (5.8 kB)\n",
      "  Preparing metadata (setup.py) ... \u001b[?25ldone\n",
      "\u001b[?25hDownloading gnews-0.3.6-py3-none-any.whl (16 kB)\n",
      "Downloading bs4-0.0.2-py2.py3-none-any.whl (1.2 kB)\n",
      "Downloading feedparser-6.0.11-py3-none-any.whl (81 kB)\n",
      "\u001b[2K   \u001b[90m━━━━━━━━━━━━━━━━━━━━━━━━━━━━━━━━━━━━━━━━\u001b[0m \u001b[32m81.3/81.3 kB\u001b[0m \u001b[31m3.0 MB/s\u001b[0m eta \u001b[36m0:00:00\u001b[0m\n",
      "\u001b[?25hBuilding wheels for collected packages: pymongo, sgmllib3k\n",
      "  Building wheel for pymongo (setup.py) ... \u001b[?25ldone\n",
      "\u001b[?25h  Created wheel for pymongo: filename=pymongo-3.12.3-cp311-cp311-macosx_11_0_arm64.whl size=392267 sha256=9c9327bc7b5429001d42e503469076154febae19252258dba5021336eb2a1053\n",
      "  Stored in directory: /Users/ravi.tej/Library/Caches/pip/wheels/0c/20/6b/a82a18cadf38c2b025ca024798c9ed2ee9f26190aec68153a2\n",
      "  Building wheel for sgmllib3k (setup.py) ... \u001b[?25ldone\n",
      "\u001b[?25h  Created wheel for sgmllib3k: filename=sgmllib3k-1.0.0-py3-none-any.whl size=6047 sha256=b99bd86f01c2f766b9d1045604434985b31fd6a8dfae5880369b683eaadaeba0\n",
      "  Stored in directory: /Users/ravi.tej/Library/Caches/pip/wheels/3b/25/2a/105d6a15df6914f4d15047691c6c28f9052cc1173e40285d03\n",
      "Successfully built pymongo sgmllib3k\n",
      "Installing collected packages: sgmllib3k, requests, python-dotenv, pymongo, feedparser, dnspython, beautifulsoup4, bs4, gnews\n",
      "  Attempting uninstall: requests\n",
      "    Found existing installation: requests 2.31.0\n",
      "    Uninstalling requests-2.31.0:\n",
      "      Successfully uninstalled requests-2.31.0\n",
      "  Attempting uninstall: pymongo\n",
      "    Found existing installation: pymongo 4.5.0\n",
      "    Uninstalling pymongo-4.5.0:\n",
      "      Successfully uninstalled pymongo-4.5.0\n",
      "  Attempting uninstall: dnspython\n",
      "    Found existing installation: dnspython 2.4.2\n",
      "    Uninstalling dnspython-2.4.2:\n",
      "      Successfully uninstalled dnspython-2.4.2\n",
      "  Attempting uninstall: beautifulsoup4\n",
      "    Found existing installation: beautifulsoup4 4.12.2\n",
      "    Uninstalling beautifulsoup4-4.12.2:\n",
      "      Successfully uninstalled beautifulsoup4-4.12.2\n",
      "\u001b[31mERROR: pip's dependency resolver does not currently take into account all the packages that are installed. This behaviour is the source of the following dependency conflicts.\n",
      "jupyterlab-server 2.22.0 requires requests>=2.28, but you have requests 2.26.0 which is incompatible.\n",
      "datasets 2.14.5 requires fsspec[http]<2023.9.0,>=2023.1.0, but you have fsspec 2023.10.0 which is incompatible.\u001b[0m\u001b[31m\n",
      "\u001b[0mSuccessfully installed beautifulsoup4-4.9.3 bs4-0.0.2 dnspython-1.16.0 feedparser-6.0.11 gnews-0.3.6 pymongo-3.12.3 python-dotenv-0.19.2 requests-2.26.0 sgmllib3k-1.0.0\n"
     ]
    }
   ],
   "source": [
    "!pip install gnews"
   ]
  },
  {
   "cell_type": "code",
   "execution_count": 12,
   "id": "68107da7-6227-4d97-938e-e05cc6313d1f",
   "metadata": {
    "scrolled": true,
    "tags": []
   },
   "outputs": [
    {
     "name": "stdout",
     "output_type": "stream",
     "text": [
      "Collecting newspaper3k\n",
      "  Downloading newspaper3k-0.2.8-py3-none-any.whl (211 kB)\n",
      "\u001b[2K     \u001b[90m━━━━━━━━━━━━━━━━━━━━━━━━━━━━━━━━━━━━━\u001b[0m \u001b[32m211.1/211.1 kB\u001b[0m \u001b[31m503.7 kB/s\u001b[0m eta \u001b[36m0:00:00\u001b[0ma \u001b[36m0:00:01\u001b[0m\n",
      "\u001b[?25hRequirement already satisfied: beautifulsoup4>=4.4.1 in /Users/ravi.tej/anaconda3/envs/recoenv/lib/python3.11/site-packages (from newspaper3k) (4.9.3)\n",
      "Requirement already satisfied: Pillow>=3.3.0 in /Users/ravi.tej/anaconda3/envs/recoenv/lib/python3.11/site-packages (from newspaper3k) (9.4.0)\n",
      "Requirement already satisfied: PyYAML>=3.11 in /Users/ravi.tej/anaconda3/envs/recoenv/lib/python3.11/site-packages (from newspaper3k) (6.0)\n",
      "Collecting cssselect>=0.9.2 (from newspaper3k)\n",
      "  Downloading cssselect-1.2.0-py2.py3-none-any.whl (18 kB)\n",
      "Requirement already satisfied: lxml>=3.6.0 in /Users/ravi.tej/anaconda3/envs/recoenv/lib/python3.11/site-packages (from newspaper3k) (4.9.2)\n",
      "Requirement already satisfied: nltk>=3.2.1 in /Users/ravi.tej/anaconda3/envs/recoenv/lib/python3.11/site-packages (from newspaper3k) (3.8.1)\n",
      "Requirement already satisfied: requests>=2.10.0 in /Users/ravi.tej/anaconda3/envs/recoenv/lib/python3.11/site-packages (from newspaper3k) (2.26.0)\n",
      "Requirement already satisfied: feedparser>=5.2.1 in /Users/ravi.tej/anaconda3/envs/recoenv/lib/python3.11/site-packages (from newspaper3k) (6.0.11)\n",
      "Collecting tldextract>=2.0.1 (from newspaper3k)\n",
      "  Obtaining dependency information for tldextract>=2.0.1 from https://files.pythonhosted.org/packages/d0/de/3f37b2568115c7ebeae39508dc1092f04f3dc286f22ef30171baca9c9cf2/tldextract-5.1.1-py3-none-any.whl.metadata\n",
      "  Downloading tldextract-5.1.1-py3-none-any.whl.metadata (11 kB)\n",
      "Collecting feedfinder2>=0.0.4 (from newspaper3k)\n",
      "  Downloading feedfinder2-0.0.4.tar.gz (3.3 kB)\n",
      "  Preparing metadata (setup.py) ... \u001b[?25ldone\n",
      "\u001b[?25hCollecting jieba3k>=0.35.1 (from newspaper3k)\n",
      "  Downloading jieba3k-0.35.1.zip (7.4 MB)\n",
      "\u001b[2K     \u001b[90m━━━━━━━━━━━━━━━━━━━━━━━━━━━━━━━━━━━━━━━━\u001b[0m \u001b[32m7.4/7.4 MB\u001b[0m \u001b[31m10.6 MB/s\u001b[0m eta \u001b[36m0:00:00\u001b[0m00:01\u001b[0m00:01\u001b[0m\n",
      "\u001b[?25h  Preparing metadata (setup.py) ... \u001b[?25ldone\n",
      "\u001b[?25hRequirement already satisfied: python-dateutil>=2.5.3 in /Users/ravi.tej/anaconda3/envs/recoenv/lib/python3.11/site-packages (from newspaper3k) (2.8.2)\n",
      "Collecting tinysegmenter==0.3 (from newspaper3k)\n",
      "  Downloading tinysegmenter-0.3.tar.gz (16 kB)\n",
      "  Preparing metadata (setup.py) ... \u001b[?25ldone\n",
      "\u001b[?25hRequirement already satisfied: soupsieve>1.2 in /Users/ravi.tej/anaconda3/envs/recoenv/lib/python3.11/site-packages (from beautifulsoup4>=4.4.1->newspaper3k) (2.4)\n",
      "Requirement already satisfied: six in /Users/ravi.tej/anaconda3/envs/recoenv/lib/python3.11/site-packages (from feedfinder2>=0.0.4->newspaper3k) (1.16.0)\n",
      "Requirement already satisfied: sgmllib3k in /Users/ravi.tej/anaconda3/envs/recoenv/lib/python3.11/site-packages (from feedparser>=5.2.1->newspaper3k) (1.0.0)\n",
      "Requirement already satisfied: click in /Users/ravi.tej/anaconda3/envs/recoenv/lib/python3.11/site-packages (from nltk>=3.2.1->newspaper3k) (8.0.4)\n",
      "Requirement already satisfied: joblib in /Users/ravi.tej/anaconda3/envs/recoenv/lib/python3.11/site-packages (from nltk>=3.2.1->newspaper3k) (1.3.2)\n",
      "Requirement already satisfied: regex>=2021.8.3 in /Users/ravi.tej/anaconda3/envs/recoenv/lib/python3.11/site-packages (from nltk>=3.2.1->newspaper3k) (2022.7.9)\n",
      "Requirement already satisfied: tqdm in /Users/ravi.tej/anaconda3/envs/recoenv/lib/python3.11/site-packages (from nltk>=3.2.1->newspaper3k) (4.65.0)\n",
      "Requirement already satisfied: urllib3<1.27,>=1.21.1 in /Users/ravi.tej/anaconda3/envs/recoenv/lib/python3.11/site-packages (from requests>=2.10.0->newspaper3k) (1.26.16)\n",
      "Requirement already satisfied: certifi>=2017.4.17 in /Users/ravi.tej/anaconda3/envs/recoenv/lib/python3.11/site-packages (from requests>=2.10.0->newspaper3k) (2023.7.22)\n",
      "Requirement already satisfied: charset-normalizer~=2.0.0 in /Users/ravi.tej/anaconda3/envs/recoenv/lib/python3.11/site-packages (from requests>=2.10.0->newspaper3k) (2.0.4)\n",
      "Requirement already satisfied: idna<4,>=2.5 in /Users/ravi.tej/anaconda3/envs/recoenv/lib/python3.11/site-packages (from requests>=2.10.0->newspaper3k) (3.4)\n",
      "Collecting requests-file>=1.4 (from tldextract>=2.0.1->newspaper3k)\n",
      "  Obtaining dependency information for requests-file>=1.4 from https://files.pythonhosted.org/packages/10/fd/321e33597e09cb4368d361b0b6c6573ef45d5f693acef41ba33673a55b7c/requests_file-2.0.0-py2.py3-none-any.whl.metadata\n",
      "  Downloading requests_file-2.0.0-py2.py3-none-any.whl.metadata (1.7 kB)\n",
      "Requirement already satisfied: filelock>=3.0.8 in /Users/ravi.tej/anaconda3/envs/recoenv/lib/python3.11/site-packages (from tldextract>=2.0.1->newspaper3k) (3.9.0)\n",
      "Downloading tldextract-5.1.1-py3-none-any.whl (97 kB)\n",
      "\u001b[2K   \u001b[90m━━━━━━━━━━━━━━━━━━━━━━━━━━━━━━━━━━━━━━━━\u001b[0m \u001b[32m97.7/97.7 kB\u001b[0m \u001b[31m13.8 MB/s\u001b[0m eta \u001b[36m0:00:00\u001b[0m\n",
      "\u001b[?25hDownloading requests_file-2.0.0-py2.py3-none-any.whl (4.2 kB)\n",
      "Building wheels for collected packages: tinysegmenter, feedfinder2, jieba3k\n",
      "  Building wheel for tinysegmenter (setup.py) ... \u001b[?25ldone\n",
      "\u001b[?25h  Created wheel for tinysegmenter: filename=tinysegmenter-0.3-py3-none-any.whl size=13540 sha256=1915314941026d094fd2ba20216d1fd1a4186c9201b23180d84e2bbab181c898\n",
      "  Stored in directory: /Users/ravi.tej/Library/Caches/pip/wheels/fc/ab/f8/cce3a9ae6d828bd346be695f7ff54612cd22b7cbd7208d68f3\n",
      "  Building wheel for feedfinder2 (setup.py) ... \u001b[?25ldone\n",
      "\u001b[?25h  Created wheel for feedfinder2: filename=feedfinder2-0.0.4-py3-none-any.whl size=3339 sha256=31dccf132df8942dd3da5fc2162e6dc067b3ac62278364fe9fcd6063afbe4a65\n",
      "  Stored in directory: /Users/ravi.tej/Library/Caches/pip/wheels/80/d5/72/9cd9eccc819636436c6a6e59c22a0fb1ec167beef141f56491\n",
      "  Building wheel for jieba3k (setup.py) ... \u001b[?25ldone\n",
      "\u001b[?25h  Created wheel for jieba3k: filename=jieba3k-0.35.1-py3-none-any.whl size=7398382 sha256=513bfcbd7e40fdde711e24fbf62797db20892ef0723bd682d1b014e283de51c0\n",
      "  Stored in directory: /Users/ravi.tej/Library/Caches/pip/wheels/3a/a1/46/8e68055c1713f9c4598774c15ad0541f26d5425ee7423b6493\n",
      "Successfully built tinysegmenter feedfinder2 jieba3k\n",
      "Installing collected packages: tinysegmenter, jieba3k, cssselect, requests-file, feedfinder2, tldextract, newspaper3k\n",
      "Successfully installed cssselect-1.2.0 feedfinder2-0.0.4 jieba3k-0.35.1 newspaper3k-0.2.8 requests-file-2.0.0 tinysegmenter-0.3 tldextract-5.1.1\n"
     ]
    }
   ],
   "source": [
    "!pip3 install newspaper3k"
   ]
  },
  {
   "cell_type": "code",
   "execution_count": 101,
   "id": "64daf491-2d51-4e56-a684-a839d0be68b9",
   "metadata": {
    "tags": []
   },
   "outputs": [],
   "source": [
    "from gnews import GNews\n",
    "\n",
    "google_news = GNews(language='en', country='IN',max_results=10)"
   ]
  },
  {
   "cell_type": "code",
   "execution_count": 21,
   "id": "b1e31a38-9991-4b83-8718-e838eef2f6cf",
   "metadata": {
    "tags": []
   },
   "outputs": [],
   "source": [
    "import time"
   ]
  },
  {
   "cell_type": "code",
   "execution_count": 102,
   "id": "86ac166b-9e1d-4fc7-97ab-982a3cebf009",
   "metadata": {
    "tags": []
   },
   "outputs": [
    {
     "name": "stdout",
     "output_type": "stream",
     "text": [
      "4.273298978805542 secs\n"
     ]
    }
   ],
   "source": [
    "s = time.time()\n",
    "news = google_news.get_news('what is p2p')\n",
    "print(f'{time.time() - s} secs')"
   ]
  },
  {
   "cell_type": "code",
   "execution_count": 88,
   "id": "f0e4a43f-188c-4c06-b943-b39f64507078",
   "metadata": {
    "tags": []
   },
   "outputs": [],
   "source": [
    "full_articles = []"
   ]
  },
  {
   "cell_type": "code",
   "execution_count": 89,
   "id": "7ca408ab-1e09-4553-977e-a303d1e6c79d",
   "metadata": {
    "tags": []
   },
   "outputs": [],
   "source": [
    "from concurrent.futures import as_completed, ThreadPoolExecutor"
   ]
  },
  {
   "cell_type": "code",
   "execution_count": 103,
   "id": "ccc1d9aa-aa0e-409b-af6b-97d0952d91c4",
   "metadata": {
    "tags": []
   },
   "outputs": [],
   "source": [
    "thread_articles = []"
   ]
  },
  {
   "cell_type": "code",
   "execution_count": 104,
   "id": "bf41ff1d-ddd8-49d9-9910-85815161608e",
   "metadata": {
    "tags": []
   },
   "outputs": [
    {
     "name": "stdout",
     "output_type": "stream",
     "text": [
      "An error occurred while fetching the article: Article `download()` failed with 403 Client Error: Forbidden for url: https://www.techopedia.com/definition/25777/peer-to-peer-network-p2p-network on URL https://news.google.com/rss/articles/CBMiTGh0dHBzOi8vd3d3LnRlY2hvcGVkaWEuY29tL2RlZmluaXRpb24vMjU3NzcvcGVlci10by1wZWVyLW5ldHdvcmstcDJwLW5ldHdvcmvSAQA?oc=5&hl=en-IN&gl=IN&ceid=IN:en\n",
      "0.9378716945648193 secs\n"
     ]
    }
   ],
   "source": [
    "s2 = time.time()\n",
    "with ThreadPoolExecutor(max_workers=3) as executor:\n",
    "    futures = [executor.submit(google_news.get_full_article, news[i]['url']) for i in range(3)]\n",
    "    for future in as_completed(futures):\n",
    "        if future.result():\n",
    "            response = future.result()\n",
    "            thread_articles.append(response)\n",
    "print(f'{time.time() - s2} secs')"
   ]
  },
  {
   "cell_type": "code",
   "execution_count": 109,
   "id": "6423f8ee-e77a-42e3-90f6-a155e335cbf6",
   "metadata": {
    "tags": []
   },
   "outputs": [
    {
     "data": {
      "text/plain": [
       "'The Reserve Bank of India (RBI) asked peer-to-peer (P2P) lending platforms to halt certain activities after inspections by the central bank found misleading sale practices and rule violations by such platforms.\\n\\nBetween June and September this year, the central bank conducted inspections of at least ten lenders. The RBI said some lenders failed to comply with the central bank\\'s guidelines. Following the inspection, the RBI found several violations, including improper re-lending of repaid funds and marketing of products as an alternative to bank deposits.\\n\\nThe Indian regulators have intensified their scrutiny of the growing consumer finance services, including peer-to-peer lending.\\n\\nWhat is peer-to-peer (P2P) lending?\\n\\nPeer-to-peer (P2P) lending is the practice of lending money to individuals or businesses through online services that match lenders with borrowers, cutting out the financial institution as the middleman. P2P lending, also known as \"social lending\" or \"crowd lending\", has been around since 2005.\\n\\nThe P2P lending companies often offer their services online, and attempt to operate with lower overhead and provide their services more cheaply than traditional financial institutions. This helps lenders earn higher returns compared to savings and investment products offered by banks, while borrowers can borrow money at lower interest rates, even after the P2P lending company has taken a fee for providing the match-making platform and credit checking the borrower.\\n\\nWebsites that facilitate P2P lending have increased their adoption as an alternative method of financing.\\n\\nHow does P2P lending work?\\n\\nThe P2P lending websites connect borrowers to lenders. The rates and terms are set by each website, and it enables the transaction.\\n\\nFirst, an investor opens an account with the site and deposits a sum of money to be dispersed in loans. The loan applicant posts a financial profile, which is then assigned a risk category that determines the interest rate the applicant will pay. The loan applicant can then review offers and accept one. The monthly payments and money transfers are handled through the platform. The process can be entirely automated, or lenders and borrowers can choose to haggle.\\n\\nSome sites specialise in particular types of borrowers, such as Funding Circle, which focuses on small businesses; Lending Club has a \"Patient solutions\" category that links doctors who offer financing programmes with prospective patients.\\n\\nWho regulates P2P lending in India?\\n\\nIn India, peer-to-peer lending is regulated by the Reserve Bank of India (RBI). In 2017, the RBI published a consultation paper on regulating P2P lending, and the final guidelines were released.\\n\\nIn 2016, there were around 30 peer-to-peer lending platforms in India. Even with a first-mover advantage, many sites could not gain market share and grow their user base, possibly due to the reserved nature of the Indian investors or lack of awareness of this type of debt financing. However, P2P lending platforms in India are helping a huge section of borrowers who have been rejected or have failed to qualify for a loan from banks.\\n\\nAs of August 31, 2019, as many as 19 companies have been granted licences by the RBI.\\n\\nIs P2P lending safe?\\n\\nPeer-to-peer lending is riskier than a savings account or certificate of deposit, but the interest rates are much higher. This is because those who invest in a peer-to-peer lending site assume most of the risk that banks or other financial institutions normally assume.\\n\\nHow big is the market for peer-to-peer lending?\\n\\nIn 2022, the global peer-to-peer lending market was worth $134.35 billion. This figure is projected to reach $705.81 billion by 2030.\\n\\nHow do you invest in peer-to-peer lending?\\n\\nThe easiest way to invest in P2P lending is to make an account on a P2P lending site and lend money to borrowers. The sites allow the lender to choose the profile of their borrowers, so they can choose between high-risk/high returns or more modest returns. Many P2P lending sites are public companies, so one can also invest in them by buying their stock.\\n\\nAre there any legal regulations?\\n\\nIn many countries, soliciting investments from the general public is considered illegal. Crowd-sourcing arrangements in which people contribute money in exchange for potential profits are considered to be securities.\\n\\nSecurities offered by the US peer-to-peer lenders are registered with and regulated by the Securities and Exchange Commission (SEC). In 2016, the New York state sent \"warning letters\" to 28 peer-to-peer lenders to obtain a licence to operate unless they \"immediately\" complied with responses to demands to disclose their lending practices and products available in the state.\\n\\nIn the UK, the emergence of multiple competing lending companies has resulted in demands for legislative measures that institute minimum capital standards and checks on risk controls.'"
      ]
     },
     "execution_count": 109,
     "metadata": {},
     "output_type": "execute_result"
    }
   ],
   "source": [
    "thread_articles[0].text"
   ]
  },
  {
   "cell_type": "code",
   "execution_count": 105,
   "id": "e27aee3d-f23d-4a1c-89de-4c319acdfa2a",
   "metadata": {
    "tags": []
   },
   "outputs": [
    {
     "data": {
      "text/plain": [
       "2"
      ]
     },
     "execution_count": 105,
     "metadata": {},
     "output_type": "execute_result"
    }
   ],
   "source": [
    "len(thread_articles)"
   ]
  },
  {
   "cell_type": "code",
   "execution_count": 100,
   "id": "2894f381-da27-47cc-8e16-137bd0862389",
   "metadata": {
    "tags": []
   },
   "outputs": [
    {
     "data": {
      "text/plain": [
       "\"It seems like you're already an ETPrime member with\\n\\nLogin using your ET Prime credentials to enjoy all member benefits\\n\\nLog out of your current logged-in account and log in again using your ET Prime credentials to enjoy all member benefits.\""
      ]
     },
     "execution_count": 100,
     "metadata": {},
     "output_type": "execute_result"
    }
   ],
   "source": [
    "thread_articles[0].text"
   ]
  },
  {
   "cell_type": "code",
   "execution_count": 48,
   "id": "891c2771-e571-43ec-b12f-c18438bb713e",
   "metadata": {
    "tags": []
   },
   "outputs": [
    {
     "name": "stdout",
     "output_type": "stream",
     "text": [
      "3.5562338829040527 secs\n"
     ]
    }
   ],
   "source": [
    "s1 = time.time()\n",
    "for i in range(3):\n",
    "    full_articles.append(google_news.get_full_article(news[i]['url']))\n",
    "print(f'{time.time() - s1} secs')"
   ]
  },
  {
   "cell_type": "code",
   "execution_count": 74,
   "id": "44de03d4-32d5-4075-8305-861874abc7d3",
   "metadata": {
    "tags": []
   },
   "outputs": [],
   "source": [
    "thread_articles[0].truncated_text = thread_articles[0].text[:350]"
   ]
  },
  {
   "cell_type": "code",
   "execution_count": 76,
   "id": "6a88f7e4-a06c-4d11-8c42-2b45b1e6355e",
   "metadata": {
    "tags": []
   },
   "outputs": [
    {
     "data": {
      "text/plain": [
       "'7 top investment schemes that save you taxes while yielding you decent returns'"
      ]
     },
     "execution_count": 76,
     "metadata": {},
     "output_type": "execute_result"
    }
   ],
   "source": [
    "thread_articles[0].title"
   ]
  },
  {
   "cell_type": "code",
   "execution_count": 77,
   "id": "53f28355-7ff6-4675-b73e-3ad5f779d652",
   "metadata": {
    "tags": []
   },
   "outputs": [],
   "source": [
    "def convert_dates_to_readable_format(dt):\n",
    "    # Sample datetime string in the format '%Y-%m-%dT%H:%M:%S'\n",
    "    datetime_obj = datetime.strptime(dt, '%Y-%m-%dT%H:%M:%S%z')\n",
    "    return datetime_obj.strftime('%d %B %Y')"
   ]
  },
  {
   "cell_type": "code",
   "execution_count": 79,
   "id": "e7ad52f2-cc3f-4312-90cc-14745500d5db",
   "metadata": {
    "tags": []
   },
   "outputs": [],
   "source": [
    "from datetime import datetime"
   ]
  },
  {
   "cell_type": "code",
   "execution_count": 83,
   "id": "d562f4e6-edc0-44c4-8596-348cb33ddf86",
   "metadata": {
    "tags": []
   },
   "outputs": [],
   "source": [
    "k = {'a': 2, 'b': 3}"
   ]
  },
  {
   "cell_type": "code",
   "execution_count": 84,
   "id": "2ee8a19b-b409-44c7-ab47-12508ab89ac9",
   "metadata": {
    "tags": []
   },
   "outputs": [
    {
     "data": {
      "text/plain": [
       "2"
      ]
     },
     "execution_count": 84,
     "metadata": {},
     "output_type": "execute_result"
    }
   ],
   "source": [
    "k.pop('a')"
   ]
  },
  {
   "cell_type": "code",
   "execution_count": 86,
   "id": "6ae369cb-2322-4538-b27e-a12fed159822",
   "metadata": {
    "tags": []
   },
   "outputs": [],
   "source": [
    "import dotenv"
   ]
  },
  {
   "cell_type": "code",
   "execution_count": 85,
   "id": "f4be1a09-85a7-4767-987c-8d4f75188b18",
   "metadata": {
    "tags": []
   },
   "outputs": [
    {
     "ename": "KeyError",
     "evalue": "'c'",
     "output_type": "error",
     "traceback": [
      "\u001b[0;31m---------------------------------------------------------------------------\u001b[0m",
      "\u001b[0;31mKeyError\u001b[0m                                  Traceback (most recent call last)",
      "Cell \u001b[0;32mIn[85], line 1\u001b[0m\n\u001b[0;32m----> 1\u001b[0m k\u001b[38;5;241m.\u001b[39mpop(\u001b[38;5;124m'\u001b[39m\u001b[38;5;124mc\u001b[39m\u001b[38;5;124m'\u001b[39m)\n",
      "\u001b[0;31mKeyError\u001b[0m: 'c'"
     ]
    }
   ],
   "source": [
    "k.pop('c')"
   ]
  },
  {
   "cell_type": "code",
   "execution_count": 82,
   "id": "6abfa9c6-72cf-4ed5-971b-bd4264671853",
   "metadata": {
    "tags": []
   },
   "outputs": [
    {
     "data": {
      "text/plain": [
       "'25 January 2024'"
      ]
     },
     "execution_count": 82,
     "metadata": {},
     "output_type": "execute_result"
    }
   ],
   "source": [
    "thread_articles[0].publish_date.strftime('%d %B %Y')"
   ]
  },
  {
   "cell_type": "code",
   "execution_count": 80,
   "id": "0e2d8d3c-297c-42cc-a2ba-f1369a9b7f9a",
   "metadata": {
    "tags": []
   },
   "outputs": [
    {
     "ename": "TypeError",
     "evalue": "strptime() argument 1 must be str, not datetime.datetime",
     "output_type": "error",
     "traceback": [
      "\u001b[0;31m---------------------------------------------------------------------------\u001b[0m",
      "\u001b[0;31mTypeError\u001b[0m                                 Traceback (most recent call last)",
      "Cell \u001b[0;32mIn[80], line 1\u001b[0m\n\u001b[0;32m----> 1\u001b[0m convert_dates_to_readable_format(thread_articles[\u001b[38;5;241m0\u001b[39m]\u001b[38;5;241m.\u001b[39mpublish_date)\n",
      "Cell \u001b[0;32mIn[77], line 3\u001b[0m, in \u001b[0;36mconvert_dates_to_readable_format\u001b[0;34m(dt)\u001b[0m\n\u001b[1;32m      1\u001b[0m \u001b[38;5;28;01mdef\u001b[39;00m \u001b[38;5;21mconvert_dates_to_readable_format\u001b[39m(dt):\n\u001b[1;32m      2\u001b[0m     \u001b[38;5;66;03m# Sample datetime string in the format '%Y-%m-%dT%H:%M:%S'\u001b[39;00m\n\u001b[0;32m----> 3\u001b[0m     datetime_obj \u001b[38;5;241m=\u001b[39m datetime\u001b[38;5;241m.\u001b[39mstrptime(dt, \u001b[38;5;124m'\u001b[39m\u001b[38;5;124m%\u001b[39m\u001b[38;5;124mY-\u001b[39m\u001b[38;5;124m%\u001b[39m\u001b[38;5;124mm-\u001b[39m\u001b[38;5;132;01m%d\u001b[39;00m\u001b[38;5;124mT\u001b[39m\u001b[38;5;124m%\u001b[39m\u001b[38;5;124mH:\u001b[39m\u001b[38;5;124m%\u001b[39m\u001b[38;5;124mM:\u001b[39m\u001b[38;5;124m%\u001b[39m\u001b[38;5;124mS\u001b[39m\u001b[38;5;124m%\u001b[39m\u001b[38;5;124mz\u001b[39m\u001b[38;5;124m'\u001b[39m)\n\u001b[1;32m      4\u001b[0m     \u001b[38;5;28;01mreturn\u001b[39;00m datetime_obj\u001b[38;5;241m.\u001b[39mstrftime(\u001b[38;5;124m'\u001b[39m\u001b[38;5;132;01m%d\u001b[39;00m\u001b[38;5;124m \u001b[39m\u001b[38;5;124m%\u001b[39m\u001b[38;5;124mB \u001b[39m\u001b[38;5;124m%\u001b[39m\u001b[38;5;124mY\u001b[39m\u001b[38;5;124m'\u001b[39m)\n",
      "\u001b[0;31mTypeError\u001b[0m: strptime() argument 1 must be str, not datetime.datetime"
     ]
    }
   ],
   "source": [
    "convert_dates_to_readable_format(thread_articles[0].publish_date)"
   ]
  },
  {
   "cell_type": "code",
   "execution_count": 71,
   "id": "1b7f40a6-2853-45b9-b313-05a61da194f3",
   "metadata": {
    "tags": []
   },
   "outputs": [],
   "source": [
    "article.p"
   ]
  },
  {
   "cell_type": "code",
   "execution_count": 26,
   "id": "7246249d-3c2a-492b-99a3-30292725bcd5",
   "metadata": {
    "tags": []
   },
   "outputs": [
    {
     "data": {
      "text/plain": [
       "'How to Save Income Tax for FY 2023-24'"
      ]
     },
     "execution_count": 26,
     "metadata": {},
     "output_type": "execute_result"
    }
   ],
   "source": [
    "article.title"
   ]
  },
  {
   "cell_type": "code",
   "execution_count": 53,
   "id": "5832e882-4f00-4cbe-960d-dc5721a28ddd",
   "metadata": {
    "scrolled": true,
    "tags": []
   },
   "outputs": [
    {
     "name": "stdout",
     "output_type": "stream",
     "text": [
      "Collecting inscriptis\n",
      "  Obtaining dependency information for inscriptis from https://files.pythonhosted.org/packages/de/17/6340c3d3e4aeb749531cafeee412b32fd56330ed453b01d1fa17f41a96c7/inscriptis-2.4.0.1-py3-none-any.whl.metadata\n",
      "  Downloading inscriptis-2.4.0.1-py3-none-any.whl.metadata (25 kB)\n",
      "Collecting lxml>=4.9.3 (from inscriptis)\n",
      "  Obtaining dependency information for lxml>=4.9.3 from https://files.pythonhosted.org/packages/bc/7e/4c66526e9b4f9c46afd7b2fef4482857d38752f2ee7cbb218816c5468251/lxml-5.1.0-cp311-cp311-macosx_11_0_arm64.whl.metadata\n",
      "  Downloading lxml-5.1.0-cp311-cp311-macosx_11_0_arm64.whl.metadata (3.5 kB)\n",
      "Collecting requests>=2.31.0 (from inscriptis)\n",
      "  Obtaining dependency information for requests>=2.31.0 from https://files.pythonhosted.org/packages/70/8e/0e2d847013cb52cd35b38c009bb167a1a26b2ce6cd6965bf26b47bc0bf44/requests-2.31.0-py3-none-any.whl.metadata\n",
      "  Downloading requests-2.31.0-py3-none-any.whl.metadata (4.6 kB)\n",
      "Requirement already satisfied: charset-normalizer<4,>=2 in /Users/ravi.tej/anaconda3/envs/recoenv/lib/python3.11/site-packages (from requests>=2.31.0->inscriptis) (2.0.4)\n",
      "Requirement already satisfied: idna<4,>=2.5 in /Users/ravi.tej/anaconda3/envs/recoenv/lib/python3.11/site-packages (from requests>=2.31.0->inscriptis) (3.4)\n",
      "Requirement already satisfied: urllib3<3,>=1.21.1 in /Users/ravi.tej/anaconda3/envs/recoenv/lib/python3.11/site-packages (from requests>=2.31.0->inscriptis) (1.26.16)\n",
      "Requirement already satisfied: certifi>=2017.4.17 in /Users/ravi.tej/anaconda3/envs/recoenv/lib/python3.11/site-packages (from requests>=2.31.0->inscriptis) (2023.7.22)\n",
      "Downloading inscriptis-2.4.0.1-py3-none-any.whl (41 kB)\n",
      "\u001b[2K   \u001b[90m━━━━━━━━━━━━━━━━━━━━━━━━━━━━━━━━━━━━━━━━\u001b[0m \u001b[32m41.7/41.7 kB\u001b[0m \u001b[31m1.8 MB/s\u001b[0m eta \u001b[36m0:00:00\u001b[0m\n",
      "\u001b[?25hDownloading lxml-5.1.0-cp311-cp311-macosx_11_0_arm64.whl (4.5 MB)\n",
      "\u001b[2K   \u001b[90m━━━━━━━━━━━━━━━━━━━━━━━━━━━━━━━━━━━━━━━━\u001b[0m \u001b[32m4.5/4.5 MB\u001b[0m \u001b[31m12.9 MB/s\u001b[0m eta \u001b[36m0:00:00\u001b[0m00:01\u001b[0m00:01\u001b[0m\n",
      "\u001b[?25hDownloading requests-2.31.0-py3-none-any.whl (62 kB)\n",
      "\u001b[2K   \u001b[90m━━━━━━━━━━━━━━━━━━━━━━━━━━━━━━━━━━━━━━━━\u001b[0m \u001b[32m62.6/62.6 kB\u001b[0m \u001b[31m7.4 MB/s\u001b[0m eta \u001b[36m0:00:00\u001b[0m\n",
      "\u001b[?25hInstalling collected packages: requests, lxml, inscriptis\n",
      "  Attempting uninstall: requests\n",
      "    Found existing installation: requests 2.26.0\n",
      "    Uninstalling requests-2.26.0:\n",
      "      Successfully uninstalled requests-2.26.0\n",
      "  Attempting uninstall: lxml\n",
      "    Found existing installation: lxml 4.9.2\n",
      "    Uninstalling lxml-4.9.2:\n",
      "      Successfully uninstalled lxml-4.9.2\n",
      "\u001b[31mERROR: pip's dependency resolver does not currently take into account all the packages that are installed. This behaviour is the source of the following dependency conflicts.\n",
      "gnews 0.3.6 requires requests==2.26.0, but you have requests 2.31.0 which is incompatible.\n",
      "datasets 2.14.5 requires fsspec[http]<2023.9.0,>=2023.1.0, but you have fsspec 2023.10.0 which is incompatible.\u001b[0m\u001b[31m\n",
      "\u001b[0mSuccessfully installed inscriptis-2.4.0.1 lxml-5.1.0 requests-2.31.0\n"
     ]
    }
   ],
   "source": [
    "!pip install inscriptis"
   ]
  },
  {
   "cell_type": "code",
   "execution_count": 54,
   "id": "59b6fba0-a94d-4ad5-bdb3-bc7cc7fa988f",
   "metadata": {
    "tags": []
   },
   "outputs": [
    {
     "name": "stdout",
     "output_type": "stream",
     "text": [
      "Opening https://cleartax.in/s/income-tax-savings\n"
     ]
    }
   ],
   "source": [
    "import urllib.request\n",
    "from inscriptis import get_text\n",
    "\n",
    "url = news[0]['url']\n",
    "html = urllib.request.urlopen(url).read().decode('utf-8')\n",
    "\n",
    "text = get_text(html)\n",
    "print(text)"
   ]
  },
  {
   "cell_type": "code",
   "execution_count": 59,
   "id": "b23cf36a-108b-4cfe-80be-b7d1cbd39c62",
   "metadata": {
    "tags": []
   },
   "outputs": [],
   "source": [
    "import numpy as np"
   ]
  },
  {
   "cell_type": "code",
   "execution_count": 60,
   "id": "599a2e1b-728f-4cce-be42-b58b40bc9f97",
   "metadata": {
    "tags": []
   },
   "outputs": [
    {
     "data": {
      "text/plain": [
       "0.5748615110720824"
      ]
     },
     "execution_count": 60,
     "metadata": {},
     "output_type": "execute_result"
    }
   ],
   "source": [
    "np.random.rand()"
   ]
  },
  {
   "cell_type": "code",
   "execution_count": 61,
   "id": "ccf127e7-48a3-4ae9-8dc3-2883291d8584",
   "metadata": {
    "tags": []
   },
   "outputs": [],
   "source": [
    "import requests"
   ]
  },
  {
   "cell_type": "code",
   "execution_count": 62,
   "id": "ab7597ab-8f0c-46a4-b7e2-048806a67156",
   "metadata": {
    "tags": []
   },
   "outputs": [
    {
     "data": {
      "text/plain": [
       "<Response [200]>"
      ]
     },
     "execution_count": 62,
     "metadata": {},
     "output_type": "execute_result"
    }
   ],
   "source": [
    "requests.post('http://Carbine-env.eba-tgfee4hb.ap-south-1.elasticbeanstalk.com/update_candidates')"
   ]
  },
  {
   "cell_type": "code",
   "execution_count": 55,
   "id": "17b54872-42d5-4b5d-84d1-9c62bfdbf017",
   "metadata": {
    "tags": []
   },
   "outputs": [
    {
     "data": {
      "text/plain": [
       "'Opening https://cleartax.in/s/income-tax-savings'"
      ]
     },
     "execution_count": 55,
     "metadata": {},
     "output_type": "execute_result"
    }
   ],
   "source": [
    "text"
   ]
  },
  {
   "cell_type": "code",
   "execution_count": 27,
   "id": "f31cbf25-93a9-479c-a075-efd8617624a0",
   "metadata": {
    "tags": []
   },
   "outputs": [
    {
     "data": {
      "text/plain": [
       "'As the famous saying goes ‘A penny saved is a penny earned‘. Tax planning is one of the ways which can help you save on taxes and increase your income. The income tax act provides deductions for various investments, savings and expenditures incurred by the taxpayer in a particular financial year. We will discuss some of the avenues which can help you save taxes.\\n\\nWe have a tendency to invest in various products that improve our quality of life but can also cause considerable financial distress. To significantly alleviate this burden, the government offers income tax exemptions on direct taxes charged on your whole pay.\\n\\nBuy a home loan and enjoy tax benefits under Section 80C\\n\\nNumerous government-mandated programs, such as the PMAY (Pradhan Mantri Awas Yojana) and DDR (Delhi Development Authority) Housing Scheme, aim to make housing more accessible in India, while Sections 80C and 24(b) minimize monetary liability through lower tax burdens.\\n\\nWhole annual income spent on repayment of the principal borrowed amount is eligible for Section 80C deductions of up to 1.5 lakh. Section 24(b) allows for tax exemption on the interest portion of a house loan up to Rs 2 lakh per year.\\n\\nFurthermore, if you rent out the newly purchased home, the entire interest component is exempt from annual income tax computations.\\n\\nPersons who purchase a property for the purpose of building a home can also profit from section 24(b), as long as the construction process is completed within five years.\\n\\nSection 80EEA allows you to claim an additional reduction in your annual tax liability if you are a first-time homeowner.\\n\\nBuy a health insurance policy\\n\\nPeople can claim tax deductions under Section 80D for the portion of their annual taxable income spent on premium payments. Depending on the age of the covered, different sums are exempt from such income tax computations.\\n\\nPark your money in government schemes\\n\\nNumerous government-mandated schemes offer high returns on total investments along with tax waivers. Individuals can claim up to Rs 1.5 lakh spent on such investments as tax waivers on total annual income, under Section 80C of the Income Tax Act.\\n\\nTax exemptions can be availed by investing in the following tools:\\n\\nSenior Citizen Savings Scheme (SCSS)\\n\\nSukanya Samriddhi Yojana (SSY)\\n\\nNational Pension Scheme (NPS)\\n\\nPublic Provident Fund (PPF)\\n\\nNational Pension Scheme (NPS)\\n\\nBuy life insurance plans\\n\\nSection 80C of the Income Tax Act provides for premium payments, and Section 10(10D) provides for the sum promised received at maturity or early death of the insured, whichever occurs first.\\n\\nYet, if the insurance is bought after 1st April 2012, tax benefits of up to Rs 1.5 lakh paid on annual premiums can be claimed under Section 80C, provided it is less than 10% of the entire sum assured.\\n\\nIf the policy was purchased before to April 1, 2012, claims under Section 80C can be filed as long as the total premium payments do not exceed 20% of the sum guaranteed.\\n\\nAcquisition or renewal of life insurance coverage, as well as annuity payments on such plans made through monthly salary, are also eligible for tax exemptions of up to Rs 1.5 lakh under Section 80CCC.\\n\\nOnly certain pension funds under section 23AAB are eligible for exemptions of up to Rs 1.5 lakh under section 80CCD(1).\\n\\nInvestment options under Section 80C\\n\\nThe most popular tax-saving options available to individuals and HUFs in India are under Section 80C of the Income Tax Act, Section 80C includes various investments and expenses you can claim deductions on – up to the limit of Rs. 1.5 lakh in a financial year.\\n\\nInvestment Returns Lock-in Period 5-Year Bank Fixed Deposit 6% to 7% 5 years Public Provident Fund (PPF) 7% to 8% 15 years National Savings Certificate 7% to 8% 5 years National Pension System (NPS) 12% to 14% Till Retirement ELSS Funds 15% to 18% 3 years Unit Linked Insurance Plan (ULIP) Varies with Plan Chosen 5 years Sukanya Samriddhi Yojana (SSY) 7.60% N/A Senior Citizen Saving Scheme (SCSS) 7.40% 5 years\\n\\nOther Tax Saving options beyond Section 80C\\n\\nApart from the 80C deductions, there are various deductions under Section 80 you can use to save on income tax. Tax benefits on health insurance premiums and home loan interest are a few-\\n\\nMedical insurance premium to be claimed at Rs. 50,000. (Rs 25,000 for self-spouse and children and Rs 25,000 for dependent parents below 60 years). Claim medical insurance premium paid up to a maximum of Rs 1,00,000 per annum if availed for senior citizens. If senior citizens are not covered under any health insurance, then medical expenditure incurred can be claimed under 80D up to Rs 50,000\\n\\nInterest paid on a home loan can be claimed as a deduction under section 24 up to Rs 2 lakh. Section 80EE also allows you to claim a deduction of up to Rs 50,000 on home loan interest which is over and above the limit of section 24. Eligibility of additional interest of Rs 1.5 lakh on purchase of a new house under affordable housing scheme as per section 80EEA is extended till 31st March 2022\\n\\nA home loan would also help you in reducing your taxable income as the principal portion of the home loan can be claimed under Section 80C up to Rs 1.5 lakh and the interest portion can be claimed as a deduction from income from house property\\n\\nAny charity to notified institutions or funds can be claimed as a deduction under section 80G\\n\\nInterest paid on education loan is allowed as deduction under section 80E\\n\\nHow to plan your tax-saving investments for the year?\\n\\nThe best time to start planning your tax-saving investments is at the beginning of the financial year.\\n\\n\\n\\nMost taxpayers procrastinate till the last quarter of the year, resulting in hurried decisions. Instead, if you plan at the start of the year, your investments can compound and help you achieve long-term goals. Remember, tax-saving should be an additional perk and not a goal in itself.\\n\\nUse the following pointers to plan your tax-saving for the year:\\n\\nCheck the tax-saving expenses you already have – like insurance premiums, children’s tuition fees, EPF contribution, home loan repayment etc.\\n\\nDeduct this amount from Rs 1.5 lakh to figure out how much to invest. You needn’t invest the entire amount if expenses are covering the limit.\\n\\nChoose tax-saving investments based on your goals and risk profile. ELSS funds, PPF, NPS and fixed deposits are some of the popular options.\\n\\nThis way, you can figure out how to exhaust the 80C limit. It is best to begin investing in the first quarter of the financial year so that you can spread the investments over the year. Doing this won’t burden you at the end of the year and will also allow you to make informed investment decisions.\\n\\nFor more on tax-saving investments and expenses, read our extensive Section 80C guide.'"
      ]
     },
     "execution_count": 27,
     "metadata": {},
     "output_type": "execute_result"
    }
   ],
   "source": [
    "article.text"
   ]
  },
  {
   "cell_type": "code",
   "execution_count": 19,
   "id": "be5e5981-a042-412a-830c-09026ff7e347",
   "metadata": {
    "tags": []
   },
   "outputs": [
    {
     "data": {
      "text/plain": [
       "{'title': 'Stock Market Highlights: Nifty finds support at 20-DMA. What traders should do next week - Economic Times',\n",
       " 'description': 'Stock Market Highlights: Nifty finds support at 20-DMA. What traders should do next week  Economic Times',\n",
       " 'published date': 'Fri, 09 Feb 2024 15:23:23 GMT',\n",
       " 'url': 'https://news.google.com/rss/articles/CBMilgFodHRwczovL2Vjb25vbWljdGltZXMuaW5kaWF0aW1lcy5jb20vbWFya2V0cy9zdG9ja3MvbGl2ZS1ibG9nL2JzZS1zZW5zZXgtdG9kYXktbGl2ZS1uaWZ0eS1zdG9jay1tYXJrZXQtdXBkYXRlcy0wOS1mZWJydWFyeS0yMDI0L2xpdmVibG9nLzEwNzUzOTIzNC5jbXPSAZoBaHR0cHM6Ly9lY29ub21pY3RpbWVzLmluZGlhdGltZXMuY29tL21hcmtldHMvc3RvY2tzL2xpdmUtYmxvZy9ic2Utc2Vuc2V4LXRvZGF5LWxpdmUtbmlmdHktc3RvY2stbWFya2V0LXVwZGF0ZXMtMDktZmVicnVhcnktMjAyNC9hbXBfbGl2ZWJsb2cvMTA3NTM5MjM0LmNtcw?oc=5&hl=en-IN&gl=IN&ceid=IN:en',\n",
       " 'publisher': {'href': 'https://economictimes.indiatimes.com',\n",
       "  'title': 'Economic Times'}}"
      ]
     },
     "execution_count": 19,
     "metadata": {},
     "output_type": "execute_result"
    }
   ],
   "source": [
    "news[10]"
   ]
  },
  {
   "cell_type": "code",
   "execution_count": 11,
   "id": "585afbc9-f1b6-4e6e-b92f-958d091c894b",
   "metadata": {
    "tags": []
   },
   "outputs": [
    {
     "data": {
      "text/plain": [
       "100"
      ]
     },
     "execution_count": 11,
     "metadata": {},
     "output_type": "execute_result"
    }
   ],
   "source": [
    "len(news)"
   ]
  },
  {
   "cell_type": "markdown",
   "id": "58dd4219-2468-4a55-8f7b-3febfb58dcb0",
   "metadata": {},
   "source": [
    "### Google News Library"
   ]
  },
  {
   "cell_type": "code",
   "execution_count": 28,
   "id": "66907b59-c174-4e9e-8c8a-1dd73cfdf70e",
   "metadata": {
    "scrolled": true,
    "tags": []
   },
   "outputs": [
    {
     "name": "stdout",
     "output_type": "stream",
     "text": [
      "Collecting GoogleNews\n",
      "  Obtaining dependency information for GoogleNews from https://files.pythonhosted.org/packages/4c/b8/d4de2adcbb2b3aa2ad0e76a9f68239f6f921a7c3afe09e1f0586565a4718/GoogleNews-1.6.13-py3-none-any.whl.metadata\n",
      "  Downloading GoogleNews-1.6.13-py3-none-any.whl.metadata (3.9 kB)\n",
      "Requirement already satisfied: beautifulsoup4 in /Users/ravi.tej/anaconda3/envs/recoenv/lib/python3.11/site-packages (from GoogleNews) (4.9.3)\n",
      "Collecting dateparser (from GoogleNews)\n",
      "  Obtaining dependency information for dateparser from https://files.pythonhosted.org/packages/a4/29/db12aa4dda81580be1999824a689bd52aa40061fc12c9ccdc3feab5ea718/dateparser-1.2.0-py2.py3-none-any.whl.metadata\n",
      "  Downloading dateparser-1.2.0-py2.py3-none-any.whl.metadata (28 kB)\n",
      "Requirement already satisfied: python-dateutil in /Users/ravi.tej/anaconda3/envs/recoenv/lib/python3.11/site-packages (from GoogleNews) (2.8.2)\n",
      "Requirement already satisfied: soupsieve>1.2 in /Users/ravi.tej/anaconda3/envs/recoenv/lib/python3.11/site-packages (from beautifulsoup4->GoogleNews) (2.4)\n",
      "Requirement already satisfied: pytz in /Users/ravi.tej/anaconda3/envs/recoenv/lib/python3.11/site-packages (from dateparser->GoogleNews) (2022.7)\n",
      "Requirement already satisfied: regex!=2019.02.19,!=2021.8.27 in /Users/ravi.tej/anaconda3/envs/recoenv/lib/python3.11/site-packages (from dateparser->GoogleNews) (2022.7.9)\n",
      "Collecting tzlocal (from dateparser->GoogleNews)\n",
      "  Obtaining dependency information for tzlocal from https://files.pythonhosted.org/packages/97/3f/c4c51c55ff8487f2e6d0e618dba917e3c3ee2caae6cf0fbb59c9b1876f2e/tzlocal-5.2-py3-none-any.whl.metadata\n",
      "  Downloading tzlocal-5.2-py3-none-any.whl.metadata (7.8 kB)\n",
      "Requirement already satisfied: six>=1.5 in /Users/ravi.tej/anaconda3/envs/recoenv/lib/python3.11/site-packages (from python-dateutil->GoogleNews) (1.16.0)\n",
      "Downloading GoogleNews-1.6.13-py3-none-any.whl (8.3 kB)\n",
      "Downloading dateparser-1.2.0-py2.py3-none-any.whl (294 kB)\n",
      "\u001b[2K   \u001b[90m━━━━━━━━━━━━━━━━━━━━━━━━━━━━━━━━━━━━━━━━\u001b[0m \u001b[32m295.0/295.0 kB\u001b[0m \u001b[31m2.5 MB/s\u001b[0m eta \u001b[36m0:00:00\u001b[0ma \u001b[36m0:00:01\u001b[0m\n",
      "\u001b[?25hDownloading tzlocal-5.2-py3-none-any.whl (17 kB)\n",
      "Installing collected packages: tzlocal, dateparser, GoogleNews\n",
      "Successfully installed GoogleNews-1.6.13 dateparser-1.2.0 tzlocal-5.2\n"
     ]
    }
   ],
   "source": [
    "!pip install GoogleNews"
   ]
  },
  {
   "cell_type": "code",
   "execution_count": 32,
   "id": "ecefd1f5-5900-46bc-ae09-2c2bda4d12bd",
   "metadata": {
    "tags": []
   },
   "outputs": [],
   "source": [
    "from GoogleNews import GoogleNews"
   ]
  },
  {
   "cell_type": "code",
   "execution_count": 33,
   "id": "20a5c21b-098f-4613-9751-ace786c10ae0",
   "metadata": {
    "tags": []
   },
   "outputs": [],
   "source": [
    "googlenews = GoogleNews(lang='en', region='IN')"
   ]
  },
  {
   "cell_type": "code",
   "execution_count": 43,
   "id": "03653ec5-aa13-4e5e-9766-0a2d5f5ce020",
   "metadata": {
    "tags": []
   },
   "outputs": [
    {
     "name": "stdout",
     "output_type": "stream",
     "text": [
      "3.4859368801116943 secs\n"
     ]
    }
   ],
   "source": [
    "s = time.time()\n",
    "googlenews.search('sensex today')\n",
    "print(f'{time.time() - s} secs')"
   ]
  },
  {
   "cell_type": "code",
   "execution_count": 44,
   "id": "db970b14-1b99-411f-900f-938d5c682379",
   "metadata": {
    "tags": []
   },
   "outputs": [],
   "source": [
    "result = googlenews.page_at(1)"
   ]
  },
  {
   "cell_type": "code",
   "execution_count": 37,
   "id": "8207089a-5770-4d7e-9f50-2fca15a86a05",
   "metadata": {
    "tags": []
   },
   "outputs": [],
   "source": [
    "results"
   ]
  },
  {
   "cell_type": "code",
   "execution_count": null,
   "id": "21acc62f-e731-4542-af30-3ac5ec06df81",
   "metadata": {},
   "outputs": [],
   "source": []
  }
 ],
 "metadata": {
  "kernelspec": {
   "display_name": "recoenv",
   "language": "python",
   "name": "recoenv"
  },
  "language_info": {
   "codemirror_mode": {
    "name": "ipython",
    "version": 3
   },
   "file_extension": ".py",
   "mimetype": "text/x-python",
   "name": "python",
   "nbconvert_exporter": "python",
   "pygments_lexer": "ipython3",
   "version": "3.11.5"
  }
 },
 "nbformat": 4,
 "nbformat_minor": 5
}
