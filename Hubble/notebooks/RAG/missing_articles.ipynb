{
 "cells": [
  {
   "cell_type": "code",
   "execution_count": 1,
   "id": "7a905724-aa95-4bde-b84a-62de0d76fa82",
   "metadata": {
    "tags": []
   },
   "outputs": [],
   "source": [
    "parent_folder = '/Users/ravi.tej/Desktop/ML/Recommendations/hubble/'\n",
    "from hydra import compose, initialize\n",
    "import os\n",
    "\n",
    "import xml.etree.ElementTree as ET\n",
    "\n",
    "tree = ET.parse('../../conf/application.run.xml')\n",
    "root = tree.getroot()\n",
    "\n",
    "envs_element = root.find('./configuration/envs')\n",
    "for variable in envs_element.findall('env'):\n",
    "    name = variable.get('name')\n",
    "    value = variable.get('value')\n",
    "    os.environ[name] = value\n",
    "\n",
    "import sys\n",
    "sys.path.append('/Users/ravi.tej/Desktop/ML/Recommendations/hubble/')"
   ]
  },
  {
   "cell_type": "code",
   "execution_count": 2,
   "id": "b34044e2-f132-46dd-a9bb-4970a460ebe7",
   "metadata": {
    "tags": []
   },
   "outputs": [],
   "source": [
    "from sql.MongoDBArticle import MongoDBArticle"
   ]
  },
  {
   "cell_type": "code",
   "execution_count": 3,
   "id": "0f61e020-0eda-440f-9313-fa790d70280d",
   "metadata": {
    "tags": []
   },
   "outputs": [],
   "source": [
    "# import requests\n",
    "\n",
    "# r = requests.post('http://Carbine-env.eba-tgfee4hb.ap-south-1.elasticbeanstalk.com/update_candidates')"
   ]
  },
  {
   "cell_type": "code",
   "execution_count": 3,
   "id": "22ec66e7-b78f-494d-9897-6653aee29cad",
   "metadata": {
    "tags": []
   },
   "outputs": [],
   "source": [
    "from sql.PostgresDatabaseOperation import PostgresDatabaseOperation"
   ]
  },
  {
   "cell_type": "code",
   "execution_count": 4,
   "id": "4b5c61fe-0289-490b-a00e-57f3ef819ae8",
   "metadata": {
    "tags": []
   },
   "outputs": [],
   "source": [
    "with PostgresDatabaseOperation() as cursor:\n",
    "    sql = 'SELECT article_id FROM embeddings'\n",
    "    cursor.execute(sql)\n",
    "    results = cursor.fetchall()"
   ]
  },
  {
   "cell_type": "code",
   "execution_count": 5,
   "id": "2f506016-960a-41f8-8b63-9901636c0648",
   "metadata": {
    "tags": []
   },
   "outputs": [],
   "source": [
    "embedding_articles = [x[0] for x in results]"
   ]
  },
  {
   "cell_type": "code",
   "execution_count": 6,
   "id": "2b349fc1-4d0d-4509-885b-a19a52bc562d",
   "metadata": {
    "tags": []
   },
   "outputs": [],
   "source": [
    "with PostgresDatabaseOperation() as cursor:\n",
    "    sql = 'SELECT article_id FROM llm_article_attributes'\n",
    "    cursor.execute(sql)\n",
    "    results = cursor.fetchall()    \n",
    "attribute_articles = [x[0] for x in results]"
   ]
  },
  {
   "cell_type": "code",
   "execution_count": 7,
   "id": "d88bc050-2941-4358-8573-686647f6acd8",
   "metadata": {
    "tags": []
   },
   "outputs": [],
   "source": [
    "from sql.MongoDBArticle import MongoDBArticle"
   ]
  },
  {
   "cell_type": "code",
   "execution_count": 8,
   "id": "998e5716-a5c0-4928-b638-3d81e2e7a661",
   "metadata": {
    "tags": []
   },
   "outputs": [],
   "source": [
    "def fetch_documents_after_date(min_published_date):\n",
    "    query = {\"is_premium_article\": False, \"published_time\": {\"$gt\": min_published_date}}\n",
    "    projection = {\"_id\": 1}\n",
    "    collection = MongoDBArticle.get_collection()\n",
    "    documents = list(collection.find(query, projection))\n",
    "    return [str(doc['_id']) for doc in documents]"
   ]
  },
  {
   "cell_type": "code",
   "execution_count": 9,
   "id": "c65c73b8-17a9-49a9-a29d-3b87dd4b1614",
   "metadata": {
    "tags": []
   },
   "outputs": [],
   "source": [
    "latest_mongo_articles = fetch_documents_after_date('2024-02-05')"
   ]
  },
  {
   "cell_type": "code",
   "execution_count": 10,
   "id": "9efe5af1-b115-4fa1-8ab1-2a64728622d3",
   "metadata": {
    "tags": []
   },
   "outputs": [
    {
     "data": {
      "text/plain": [
       "26330"
      ]
     },
     "execution_count": 10,
     "metadata": {},
     "output_type": "execute_result"
    }
   ],
   "source": [
    "len(latest_mongo_articles)"
   ]
  },
  {
   "cell_type": "code",
   "execution_count": 11,
   "id": "16e03aa1-78a3-475d-8f8f-4a780fc31ff1",
   "metadata": {
    "tags": []
   },
   "outputs": [],
   "source": [
    "missing_latest_embeddings = set(latest_mongo_articles) - set(embedding_articles)\n",
    "missing_latest_attributes = set(latest_mongo_articles) - set(attribute_articles)"
   ]
  },
  {
   "cell_type": "code",
   "execution_count": 12,
   "id": "a4d3049b-3da4-4e10-9861-f2495fca772a",
   "metadata": {
    "tags": []
   },
   "outputs": [
    {
     "data": {
      "text/plain": [
       "(2331, 3044)"
      ]
     },
     "execution_count": 12,
     "metadata": {},
     "output_type": "execute_result"
    }
   ],
   "source": [
    "len(missing_latest_embeddings), len(missing_latest_attributes)"
   ]
  },
  {
   "cell_type": "code",
   "execution_count": 13,
   "id": "a94cb8c5-55ff-409f-bc59-d7ed5974346b",
   "metadata": {
    "tags": []
   },
   "outputs": [],
   "source": [
    "union = list(set(missing_latest_attributes).union(set(missing_latest_embeddings)))"
   ]
  },
  {
   "cell_type": "code",
   "execution_count": 14,
   "id": "c3f05288-4b2e-478a-a6c1-b99711b68da5",
   "metadata": {
    "tags": []
   },
   "outputs": [
    {
     "data": {
      "text/plain": [
       "3046"
      ]
     },
     "execution_count": 14,
     "metadata": {},
     "output_type": "execute_result"
    }
   ],
   "source": [
    "len(union)"
   ]
  },
  {
   "cell_type": "code",
   "execution_count": 15,
   "id": "8b1ec230-dc37-4ac3-bbc9-fcaefee5b9cd",
   "metadata": {
    "tags": []
   },
   "outputs": [],
   "source": [
    "def create_missing_article_details(article_id):\n",
    "    if article_id in missing_latest_embeddings:\n",
    "        r = requests.post('http://Carbine-env.eba-tgfee4hb.ap-south-1.elasticbeanstalk.com/create_embedding', json={'articleId': article_id})\n",
    "    if article_id in missing_latest_attributes:\n",
    "        r = requests.post('http://Carbine-env.eba-tgfee4hb.ap-south-1.elasticbeanstalk.com/get_article_attributes_from_llm', json={'articleId': article_id})"
   ]
  },
  {
   "cell_type": "code",
   "execution_count": 2,
   "id": "a54e0201-d66a-4a8a-834e-dcc0a8c5eedd",
   "metadata": {
    "tags": []
   },
   "outputs": [],
   "source": [
    "import requests"
   ]
  },
  {
   "cell_type": "code",
   "execution_count": 12,
   "id": "3d3d6654-f591-400b-8bfd-b456a6b4ec3f",
   "metadata": {
    "tags": []
   },
   "outputs": [],
   "source": [
    "r = requests.post('http://Camus-env.eba-metb4xtf.ap-south-1.elasticbeanstalk.com/get_article_attributes_from_llm', json={'articleId': '65dae59d1f6d9144de7edfd5'})"
   ]
  },
  {
   "cell_type": "code",
   "execution_count": 13,
   "id": "70e9152b-afa4-477b-8a2e-ceb85b9306a2",
   "metadata": {
    "tags": []
   },
   "outputs": [
    {
     "data": {
      "text/plain": [
       "'{}'"
      ]
     },
     "execution_count": 13,
     "metadata": {},
     "output_type": "execute_result"
    }
   ],
   "source": [
    "r.text"
   ]
  },
  {
   "cell_type": "code",
   "execution_count": 16,
   "id": "01a5eb0d-3c07-4c39-94b8-1e3b003a9639",
   "metadata": {
    "tags": []
   },
   "outputs": [],
   "source": [
    "chunk_size = 32\n",
    "num_chunks = len(union)//chunk_size + 1"
   ]
  },
  {
   "cell_type": "code",
   "execution_count": 17,
   "id": "c6390b50-20d3-4754-a190-dd2816dac81c",
   "metadata": {
    "tags": []
   },
   "outputs": [],
   "source": [
    "import time\n",
    "from datetime import datetime\n",
    "from concurrent.futures import ThreadPoolExecutor, as_completed\n",
    "import requests"
   ]
  },
  {
   "cell_type": "code",
   "execution_count": 18,
   "id": "d2d70987-93de-4a2a-96f0-b959be491705",
   "metadata": {
    "scrolled": true,
    "tags": []
   },
   "outputs": [
    {
     "name": "stdout",
     "output_type": "stream",
     "text": [
      "starting creation at Feb 14, 2024 14:21\n",
      "completed chunk 32 articles at Feb 14, 2024 14:25 in 4.433333333333334 minutes\n",
      "starting creation at Feb 14, 2024 14:25\n",
      "completed chunk 64 articles at Feb 14, 2024 14:30 in 4.866666666666666 minutes\n",
      "starting creation at Feb 14, 2024 14:30\n",
      "completed chunk 96 articles at Feb 14, 2024 14:35 in 4.566666666666666 minutes\n",
      "starting creation at Feb 14, 2024 14:35\n",
      "completed chunk 128 articles at Feb 14, 2024 14:38 in 3.5166666666666666 minutes\n",
      "starting creation at Feb 14, 2024 14:38\n",
      "completed chunk 160 articles at Feb 14, 2024 14:42 in 3.5166666666666666 minutes\n",
      "starting creation at Feb 14, 2024 14:42\n",
      "completed chunk 192 articles at Feb 14, 2024 14:45 in 3.1 minutes\n",
      "starting creation at Feb 14, 2024 14:45\n",
      "completed chunk 224 articles at Feb 14, 2024 14:48 in 3.15 minutes\n",
      "starting creation at Feb 14, 2024 14:48\n",
      "completed chunk 256 articles at Feb 14, 2024 14:51 in 3.183333333333333 minutes\n",
      "starting creation at Feb 14, 2024 14:51\n",
      "completed chunk 288 articles at Feb 14, 2024 14:55 in 3.4833333333333334 minutes\n",
      "starting creation at Feb 14, 2024 14:55\n",
      "completed chunk 320 articles at Feb 14, 2024 14:58 in 3.1666666666666665 minutes\n",
      "starting creation at Feb 14, 2024 14:58\n",
      "completed chunk 352 articles at Feb 14, 2024 15:01 in 3.216666666666667 minutes\n",
      "starting creation at Feb 14, 2024 15:01\n",
      "completed chunk 384 articles at Feb 14, 2024 15:04 in 3.1 minutes\n",
      "starting creation at Feb 14, 2024 15:04\n",
      "completed chunk 416 articles at Feb 14, 2024 15:07 in 3.1333333333333333 minutes\n",
      "starting creation at Feb 14, 2024 15:07\n",
      "completed chunk 448 articles at Feb 14, 2024 15:11 in 3.1333333333333333 minutes\n",
      "starting creation at Feb 14, 2024 15:11\n",
      "completed chunk 480 articles at Feb 14, 2024 15:14 in 3.15 minutes\n",
      "starting creation at Feb 14, 2024 15:14\n",
      "completed chunk 512 articles at Feb 14, 2024 15:17 in 3.2 minutes\n",
      "starting creation at Feb 14, 2024 15:17\n",
      "completed chunk 544 articles at Feb 14, 2024 15:20 in 3.15 minutes\n",
      "starting creation at Feb 14, 2024 15:20\n",
      "completed chunk 576 articles at Feb 14, 2024 15:23 in 3.25 minutes\n",
      "starting creation at Feb 14, 2024 15:23\n",
      "completed chunk 608 articles at Feb 14, 2024 15:27 in 3.183333333333333 minutes\n",
      "starting creation at Feb 14, 2024 15:27\n",
      "completed chunk 640 articles at Feb 14, 2024 15:30 in 3.2666666666666666 minutes\n",
      "starting creation at Feb 14, 2024 15:30\n",
      "completed chunk 672 articles at Feb 14, 2024 15:33 in 3.3833333333333333 minutes\n",
      "starting creation at Feb 14, 2024 15:33\n",
      "completed chunk 704 articles at Feb 14, 2024 15:36 in 3.216666666666667 minutes\n",
      "starting creation at Feb 14, 2024 15:36\n",
      "completed chunk 736 articles at Feb 14, 2024 15:40 in 3.1333333333333333 minutes\n",
      "starting creation at Feb 14, 2024 15:40\n",
      "completed chunk 768 articles at Feb 14, 2024 15:43 in 3.15 minutes\n",
      "starting creation at Feb 14, 2024 15:43\n",
      "completed chunk 800 articles at Feb 14, 2024 15:46 in 3.216666666666667 minutes\n",
      "starting creation at Feb 14, 2024 15:46\n",
      "completed chunk 832 articles at Feb 14, 2024 15:50 in 3.6333333333333333 minutes\n",
      "starting creation at Feb 14, 2024 15:50\n",
      "completed chunk 864 articles at Feb 14, 2024 15:53 in 3.066666666666667 minutes\n",
      "starting creation at Feb 14, 2024 15:53\n",
      "completed chunk 896 articles at Feb 14, 2024 15:57 in 3.8833333333333333 minutes\n",
      "starting creation at Feb 14, 2024 15:57\n",
      "completed chunk 928 articles at Feb 14, 2024 16:00 in 3.1333333333333333 minutes\n",
      "starting creation at Feb 14, 2024 16:00\n",
      "completed chunk 960 articles at Feb 14, 2024 16:03 in 3.033333333333333 minutes\n",
      "starting creation at Feb 14, 2024 16:03\n",
      "completed chunk 992 articles at Feb 14, 2024 16:06 in 3.15 minutes\n",
      "starting creation at Feb 14, 2024 16:06\n",
      "completed chunk 1024 articles at Feb 14, 2024 16:09 in 3.1666666666666665 minutes\n",
      "starting creation at Feb 14, 2024 16:09\n",
      "completed chunk 1056 articles at Feb 14, 2024 16:12 in 3.15 minutes\n",
      "starting creation at Feb 14, 2024 16:12\n",
      "completed chunk 1088 articles at Feb 14, 2024 16:15 in 3.033333333333333 minutes\n",
      "starting creation at Feb 14, 2024 16:15\n",
      "completed chunk 1120 articles at Feb 14, 2024 16:19 in 3.216666666666667 minutes\n",
      "starting creation at Feb 14, 2024 16:19\n",
      "completed chunk 1152 articles at Feb 14, 2024 16:22 in 3.3333333333333335 minutes\n",
      "starting creation at Feb 14, 2024 16:22\n",
      "completed chunk 1184 articles at Feb 14, 2024 16:25 in 3.3666666666666667 minutes\n",
      "starting creation at Feb 14, 2024 16:25\n",
      "completed chunk 1216 articles at Feb 14, 2024 16:29 in 3.6 minutes\n",
      "starting creation at Feb 14, 2024 16:29\n",
      "completed chunk 1248 articles at Feb 14, 2024 16:34 in 5.25 minutes\n",
      "starting creation at Feb 14, 2024 16:34\n",
      "completed chunk 1280 articles at Feb 14, 2024 16:40 in 6.133333333333334 minutes\n",
      "starting creation at Feb 14, 2024 16:40\n",
      "completed chunk 1312 articles at Feb 14, 2024 16:47 in 6.766666666666667 minutes\n",
      "starting creation at Feb 14, 2024 16:47\n",
      "completed chunk 1344 articles at Feb 14, 2024 16:55 in 7.55 minutes\n",
      "starting creation at Feb 14, 2024 16:55\n",
      "completed chunk 1376 articles at Feb 14, 2024 17:02 in 7.7 minutes\n",
      "starting creation at Feb 14, 2024 17:02\n",
      "completed chunk 1408 articles at Feb 14, 2024 17:08 in 6.1 minutes\n",
      "starting creation at Feb 14, 2024 17:08\n",
      "completed chunk 1440 articles at Feb 14, 2024 17:13 in 4.116666666666666 minutes\n",
      "starting creation at Feb 14, 2024 17:13\n",
      "completed chunk 1472 articles at Feb 14, 2024 17:17 in 4.283333333333333 minutes\n",
      "starting creation at Feb 14, 2024 17:17\n",
      "completed chunk 1504 articles at Feb 14, 2024 17:21 in 3.9166666666666665 minutes\n",
      "starting creation at Feb 14, 2024 17:21\n",
      "completed chunk 1536 articles at Feb 14, 2024 17:24 in 3.7 minutes\n",
      "starting creation at Feb 14, 2024 17:24\n",
      "completed chunk 1568 articles at Feb 14, 2024 17:28 in 3.8666666666666667 minutes\n",
      "starting creation at Feb 14, 2024 17:28\n",
      "completed chunk 1600 articles at Feb 14, 2024 17:32 in 3.85 minutes\n",
      "starting creation at Feb 14, 2024 17:32\n",
      "completed chunk 1632 articles at Feb 14, 2024 17:36 in 4.0 minutes\n",
      "starting creation at Feb 14, 2024 17:36\n",
      "completed chunk 1664 articles at Feb 14, 2024 17:40 in 4.25 minutes\n",
      "starting creation at Feb 14, 2024 17:40\n",
      "completed chunk 1696 articles at Feb 14, 2024 17:44 in 3.933333333333333 minutes\n",
      "starting creation at Feb 14, 2024 17:44\n",
      "completed chunk 1728 articles at Feb 14, 2024 17:49 in 4.266666666666667 minutes\n",
      "starting creation at Feb 14, 2024 17:49\n",
      "completed chunk 1760 articles at Feb 14, 2024 17:52 in 3.216666666666667 minutes\n",
      "starting creation at Feb 14, 2024 17:52\n",
      "completed chunk 1792 articles at Feb 14, 2024 17:55 in 3.2 minutes\n",
      "starting creation at Feb 14, 2024 17:55\n",
      "completed chunk 1824 articles at Feb 14, 2024 17:58 in 3.0 minutes\n",
      "starting creation at Feb 14, 2024 17:58\n",
      "completed chunk 1856 articles at Feb 14, 2024 18:01 in 2.966666666666667 minutes\n",
      "starting creation at Feb 14, 2024 18:01\n",
      "completed chunk 1888 articles at Feb 14, 2024 18:04 in 2.966666666666667 minutes\n",
      "starting creation at Feb 14, 2024 18:04\n",
      "completed chunk 1920 articles at Feb 14, 2024 18:07 in 3.066666666666667 minutes\n",
      "starting creation at Feb 14, 2024 18:07\n",
      "completed chunk 1952 articles at Feb 14, 2024 18:10 in 3.15 minutes\n",
      "starting creation at Feb 14, 2024 18:10\n",
      "completed chunk 1984 articles at Feb 14, 2024 18:13 in 2.9166666666666665 minutes\n",
      "starting creation at Feb 14, 2024 18:13\n",
      "completed chunk 2016 articles at Feb 14, 2024 18:16 in 2.95 minutes\n",
      "starting creation at Feb 14, 2024 18:16\n",
      "completed chunk 2048 articles at Feb 14, 2024 18:19 in 2.9166666666666665 minutes\n",
      "starting creation at Feb 14, 2024 18:19\n",
      "completed chunk 2080 articles at Feb 14, 2024 18:22 in 3.15 minutes\n",
      "starting creation at Feb 14, 2024 18:22\n",
      "completed chunk 2112 articles at Feb 14, 2024 18:25 in 3.033333333333333 minutes\n",
      "starting creation at Feb 14, 2024 18:25\n",
      "completed chunk 2144 articles at Feb 14, 2024 18:28 in 2.8666666666666667 minutes\n",
      "starting creation at Feb 14, 2024 18:28\n",
      "completed chunk 2176 articles at Feb 14, 2024 18:31 in 3.1166666666666667 minutes\n",
      "starting creation at Feb 14, 2024 18:31\n",
      "completed chunk 2208 articles at Feb 14, 2024 18:34 in 3.05 minutes\n",
      "starting creation at Feb 14, 2024 18:34\n",
      "completed chunk 2240 articles at Feb 14, 2024 18:37 in 3.05 minutes\n",
      "starting creation at Feb 14, 2024 18:37\n",
      "completed chunk 2272 articles at Feb 14, 2024 18:41 in 3.1166666666666667 minutes\n",
      "starting creation at Feb 14, 2024 18:41\n",
      "completed chunk 2304 articles at Feb 14, 2024 18:44 in 3.066666666666667 minutes\n",
      "starting creation at Feb 14, 2024 18:44\n",
      "completed chunk 2336 articles at Feb 14, 2024 18:47 in 3.1 minutes\n",
      "starting creation at Feb 14, 2024 18:47\n",
      "completed chunk 2368 articles at Feb 14, 2024 18:50 in 3.55 minutes\n",
      "starting creation at Feb 14, 2024 18:50\n",
      "completed chunk 2400 articles at Feb 14, 2024 18:54 in 3.216666666666667 minutes\n",
      "starting creation at Feb 14, 2024 18:54\n",
      "completed chunk 2432 articles at Feb 14, 2024 18:57 in 3.1333333333333333 minutes\n",
      "starting creation at Feb 14, 2024 18:57\n",
      "completed chunk 2464 articles at Feb 14, 2024 19:00 in 3.216666666666667 minutes\n",
      "starting creation at Feb 14, 2024 19:00\n",
      "completed chunk 2496 articles at Feb 14, 2024 19:03 in 3.0166666666666666 minutes\n",
      "starting creation at Feb 14, 2024 19:03\n",
      "completed chunk 2528 articles at Feb 14, 2024 19:06 in 2.9166666666666665 minutes\n",
      "starting creation at Feb 14, 2024 19:06\n",
      "completed chunk 2560 articles at Feb 14, 2024 19:09 in 3.25 minutes\n",
      "starting creation at Feb 14, 2024 19:09\n",
      "completed chunk 2592 articles at Feb 14, 2024 19:12 in 3.1166666666666667 minutes\n",
      "starting creation at Feb 14, 2024 19:12\n",
      "completed chunk 2624 articles at Feb 14, 2024 19:15 in 3.1 minutes\n",
      "starting creation at Feb 14, 2024 19:15\n",
      "completed chunk 2656 articles at Feb 14, 2024 19:19 in 3.3666666666666667 minutes\n",
      "starting creation at Feb 14, 2024 19:19\n",
      "completed chunk 2688 articles at Feb 14, 2024 19:22 in 3.1333333333333333 minutes\n",
      "starting creation at Feb 14, 2024 19:22\n",
      "completed chunk 2720 articles at Feb 14, 2024 19:25 in 2.933333333333333 minutes\n",
      "starting creation at Feb 14, 2024 19:25\n",
      "completed chunk 2752 articles at Feb 14, 2024 19:28 in 3.066666666666667 minutes\n",
      "starting creation at Feb 14, 2024 19:28\n",
      "completed chunk 2784 articles at Feb 14, 2024 19:31 in 2.95 minutes\n",
      "starting creation at Feb 14, 2024 19:31\n",
      "completed chunk 2816 articles at Feb 14, 2024 19:34 in 3.15 minutes\n",
      "starting creation at Feb 14, 2024 19:34\n",
      "completed chunk 2848 articles at Feb 14, 2024 19:37 in 2.95 minutes\n",
      "starting creation at Feb 14, 2024 19:37\n",
      "completed chunk 2880 articles at Feb 14, 2024 19:40 in 3.2333333333333334 minutes\n",
      "starting creation at Feb 14, 2024 19:40\n",
      "completed chunk 2912 articles at Feb 14, 2024 19:44 in 3.4833333333333334 minutes\n",
      "starting creation at Feb 14, 2024 19:44\n",
      "completed chunk 2944 articles at Feb 14, 2024 19:47 in 3.1 minutes\n",
      "starting creation at Feb 14, 2024 19:47\n",
      "completed chunk 2976 articles at Feb 14, 2024 19:50 in 2.8333333333333335 minutes\n",
      "starting creation at Feb 14, 2024 19:50\n",
      "completed chunk 3008 articles at Feb 14, 2024 19:53 in 3.1 minutes\n",
      "starting creation at Feb 14, 2024 19:53\n",
      "completed chunk 3040 articles at Feb 14, 2024 19:56 in 3.183333333333333 minutes\n",
      "starting creation at Feb 14, 2024 19:56\n",
      "completed chunk 3072 articles at Feb 14, 2024 19:57 in 0.8666666666666667 minutes\n"
     ]
    }
   ],
   "source": [
    "for i in range(num_chunks):\n",
    "    article_chunk = union[i*chunk_size:(i+1)*chunk_size]\n",
    "    print(f'starting creation at {\"{:%b %d, %Y %H:%M}\".format(datetime.now())}')\n",
    "    start_time = time.time()\n",
    "    with ThreadPoolExecutor(max_workers=8) as executor:\n",
    "        futures = [executor.submit(create_missing_article_details, art_id) for art_id in article_chunk]\n",
    "\n",
    "        for future in as_completed(futures):\n",
    "            response = future.result()\n",
    "            if response:  # Timeout or other errors\n",
    "                completed_article_ids.append(response)\n",
    "                continue\n",
    "    print(f'completed chunk {(i + 1) * chunk_size} articles at {\"{:%b %d, %Y %H:%M}\".format(datetime.now())} in {int(time.time() - start_time)/60} minutes')"
   ]
  },
  {
   "cell_type": "code",
   "execution_count": null,
   "id": "430df604-2111-45a5-9dcf-8c3a57160b48",
   "metadata": {},
   "outputs": [],
   "source": []
  }
 ],
 "metadata": {
  "kernelspec": {
   "display_name": "recoenv",
   "language": "python",
   "name": "recoenv"
  },
  "language_info": {
   "codemirror_mode": {
    "name": "ipython",
    "version": 3
   },
   "file_extension": ".py",
   "mimetype": "text/x-python",
   "name": "python",
   "nbconvert_exporter": "python",
   "pygments_lexer": "ipython3",
   "version": "3.11.5"
  }
 },
 "nbformat": 4,
 "nbformat_minor": 5
}
