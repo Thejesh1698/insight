{
 "cells": [
  {
   "cell_type": "code",
   "execution_count": 1,
   "id": "012cfd94-561c-4ef5-8067-64d2e1f095f4",
   "metadata": {
    "tags": []
   },
   "outputs": [],
   "source": [
    "parent_folder = '/Users/ravi.tej/Desktop/ML/Recommendations/hubble/'\n",
    "from hydra import compose, initialize\n",
    "import os\n",
    "\n",
    "import xml.etree.ElementTree as ET\n",
    "\n",
    "tree = ET.parse('../../conf/application.run.xml')\n",
    "root = tree.getroot()\n",
    "\n",
    "envs_element = root.find('./configuration/envs')\n",
    "for variable in envs_element.findall('env'):\n",
    "    name = variable.get('name')\n",
    "    value = variable.get('value')\n",
    "    os.environ[name] = value\n",
    "\n",
    "import sys\n",
    "sys.path.append('/Users/ravi.tej/Desktop/ML/Recommendations/hubble/')"
   ]
  },
  {
   "cell_type": "code",
   "execution_count": 2,
   "id": "259129fe-0ce7-4748-b6fd-865ca732b51a",
   "metadata": {
    "tags": []
   },
   "outputs": [
    {
     "name": "stderr",
     "output_type": "stream",
     "text": [
      "/Users/ravi.tej/anaconda3/envs/recoenv/lib/python3.11/site-packages/transformers/models/auto/tokenization_auto.py:671: FutureWarning: The `use_auth_token` argument is deprecated and will be removed in v5 of Transformers. Please use `token` instead.\n",
      "  warnings.warn(\n",
      "Special tokens have been added in the vocabulary, make sure the associated word embeddings are fine-tuned or trained.\n",
      "Special tokens have been added in the vocabulary, make sure the associated word embeddings are fine-tuned or trained.\n"
     ]
    }
   ],
   "source": [
    "from src.HybridSearchService import HybridSearchService\n",
    "from src.QueryService import QueryService\n",
    "from sql.PostgresDatabaseOperation import PostgresDatabaseOperation\n",
    "from datetime import datetime"
   ]
  },
  {
   "cell_type": "code",
   "execution_count": 3,
   "id": "e6caa38c-6c25-4b7e-9c0a-2e8f2892c3cb",
   "metadata": {
    "tags": []
   },
   "outputs": [
    {
     "name": "stderr",
     "output_type": "stream",
     "text": [
      "Special tokens have been added in the vocabulary, make sure the associated word embeddings are fine-tuned or trained.\n",
      "Special tokens have been added in the vocabulary, make sure the associated word embeddings are fine-tuned or trained.\n"
     ]
    }
   ],
   "source": [
    "from src.SummaryService import SummaryService"
   ]
  },
  {
   "cell_type": "code",
   "execution_count": 4,
   "id": "1ebbbd07-28de-4f08-afe2-a3f45cdf5807",
   "metadata": {
    "tags": []
   },
   "outputs": [],
   "source": [
    "from src.ArticleService import ArticleService"
   ]
  },
  {
   "cell_type": "code",
   "execution_count": 5,
   "id": "9ed4f43a-2af6-47de-9b26-e53dde983558",
   "metadata": {
    "tags": []
   },
   "outputs": [],
   "source": [
    "from transformers import AutoTokenizer"
   ]
  },
  {
   "cell_type": "code",
   "execution_count": 6,
   "id": "5128c87f-aae4-4866-b771-314acbb4b550",
   "metadata": {
    "tags": []
   },
   "outputs": [
    {
     "name": "stderr",
     "output_type": "stream",
     "text": [
      "Special tokens have been added in the vocabulary, make sure the associated word embeddings are fine-tuned or trained.\n",
      "Special tokens have been added in the vocabulary, make sure the associated word embeddings are fine-tuned or trained.\n"
     ]
    }
   ],
   "source": [
    "model_id = \"teknium/OpenHermes-2.5-Mistral-7B\"\n",
    "tokenizer = AutoTokenizer.from_pretrained(model_id, use_auth_token=True, use_fast=True)"
   ]
  },
  {
   "cell_type": "code",
   "execution_count": 12,
   "id": "0b3d16d5-17ef-43dc-a270-f9524f48f719",
   "metadata": {
    "tags": []
   },
   "outputs": [],
   "source": [
    "system_prompt = '''You're the lead editor for a financial and business website. You answer user queries by using relevant articles that you've found by strictly following the below rules:\n",
    "*valid_queries: questions about finance, business, or relevant entities like India, RBI, Reliance, Fed etc\n",
    "*invalid_queries: non financial or business questions or inappropriate content\n",
    "response_instructions:\n",
    "1.query is valid and answerable with the articles you found - summarize the information clearly and concisely with a headline and followed by 3 to 6 points with following guidelines: \n",
    "Prefix the point with a relevant label one emoji for that point. The points should overall capture the essence of a good response for the user query, but at the same time as brief as possible - a few words to a maximum of 1 sentence per point. Start with the most important point for the query. The labels should be human readable avoid use of _ or programming symbols. Headline should be between 5 to 15 words and tailored to the query and the points you are going to generate\n",
    "Use the below markdown format called ‘response_markdown_format’: “**Headline** <br> <br> emoji1 **label1**: point1 <br><br> **emoji2 label2**: point2 <br><br>…”\n",
    "2.query is valid but the exact answer isn't in the articles - mention that you are not able to find the exact answer for this, but found the related information. Respond the related information using response_markdown_format\n",
    "3.query is valid but there's no relevant information - apologize and say you can't find the answer\n",
    "4.query is invalid - politely decline noting your focus on finance and business\n",
    "General Response Guidelines:\n",
    "*Don't provide information not explicitly found in the articles\n",
    "*If the article is older than what the user expects from query, highlight the period of the information. If articles are very recent or of today, then no need to specify it\n",
    "*The website is visited by people all age groups. Avoid content or emojis which are unprofessional\n",
    "*If the answers provide investment advice, at the end advice without the emoji and label to the users have to do additional though research and to consult an expert. Do not follow the format of response_markdown_format for this\n",
    "*Be brief. no preamble or postamble. directly generate the responses according to response_instructions\n",
    "The most relevant articles are extracted in the following json format: {article_0: {‘title’: ‘’, ‘published_date’: ‘’, ‘content’: ‘’} || ...}. User’s query is provided as user_query'''"
   ]
  },
  {
   "cell_type": "code",
   "execution_count": 8,
   "id": "4e0fa325-b262-4704-8d15-44a92e967c1a",
   "metadata": {
    "tags": []
   },
   "outputs": [],
   "source": [
    "import json"
   ]
  },
  {
   "cell_type": "code",
   "execution_count": 9,
   "id": "7fc4840c-dad9-4eeb-980c-19635c3d3d13",
   "metadata": {
    "tags": []
   },
   "outputs": [],
   "source": [
    "def convert_dates_to_readable_format(dt):\n",
    "    # Sample datetime string in the format '%Y-%m-%dT%H:%M:%S'\n",
    "    datetime_obj = datetime.strptime(dt, '%Y-%m-%dT%H:%M:%S%z')\n",
    "    return datetime_obj.strftime('%d %B %Y %H:%M')"
   ]
  },
  {
   "cell_type": "code",
   "execution_count": 10,
   "id": "fb3be202-bbc3-4fc2-ba29-10d27e28babb",
   "metadata": {
    "tags": []
   },
   "outputs": [],
   "source": [
    "def create_reference_articles(top_article_ids):\n",
    "    articles = ArticleService.get_Articles_from_list(top_article_ids)\n",
    "    \n",
    "    arts = []\n",
    "    for article in list(articles.values()):\n",
    "        cur_art = article\n",
    "        truncated_text = SummaryService.truncate_text_to_token_limit(article.cleaned_text, token_limit=896)\n",
    "        cur_art.truncated_text = truncated_text.strip()\n",
    "        cur_art.formatted_date = convert_dates_to_readable_format(article.published_time)\n",
    "        arts.append(cur_art)\n",
    "    return arts"
   ]
  },
  {
   "cell_type": "code",
   "execution_count": 11,
   "id": "cf96a7d3-8447-477e-93c0-70843df7e06e",
   "metadata": {
    "tags": []
   },
   "outputs": [],
   "source": [
    "def generate_formatted_reference_string(reference_articles):\n",
    "    references = ''\n",
    "    ref_count = 0\n",
    "    for ref in reference_articles:\n",
    "        cur_json = f\" ||article_{ref_count}: {{'title': {ref.title}, 'published_date': {ref.formatted_date}, 'content': {ref.truncated_text}}}\"\n",
    "        ref_count += 1\n",
    "        references += cur_json\n",
    "    return references"
   ]
  },
  {
   "cell_type": "code",
   "execution_count": null,
   "id": "1dbe142c-4277-4754-a61b-7587a21d94b9",
   "metadata": {},
   "outputs": [],
   "source": [
    "# def generate_formatted_reference_string(reference_articles):\n",
    "#     references = ''\n",
    "#     ref_count = 0\n",
    "#     for ref in reference_articles:\n",
    "#         cur_json = f\" ||article_{ref}: {{'title': '', 'published_date': '', 'content': ''}}\"\n",
    "#         ref_count += 1\n",
    "#         references += cur_json\n",
    "#     return references"
   ]
  },
  {
   "cell_type": "code",
   "execution_count": 14,
   "id": "37fe3f0d-a73e-442c-9586-148545526dd2",
   "metadata": {
    "tags": []
   },
   "outputs": [],
   "source": [
    "def create_prompt_for_query_references(search_query, top_hits, today_date=None):\n",
    "    if today_date:\n",
    "        today_date_string = f\" ||today date: {convert_dates_to_readable_format(today_date)}\"\n",
    "    else:\n",
    "        today_date_string = f\" ||today date: {datetime.now().strftime('%d %B %Y')}\"\n",
    "    query_string = f\" ||user_query: {search_query}\"\n",
    "    # reference_articles = create_reference_articles(top_hits)\n",
    "    references_string = generate_formatted_reference_string(range(3))\n",
    "    user_prompt = today_date_string + query_string + references_string\n",
    "    return system_prompt + user_prompt"
   ]
  },
  {
   "cell_type": "code",
   "execution_count": 51,
   "id": "f4fedd83-8f06-4759-bd15-aada104ec39d",
   "metadata": {},
   "outputs": [],
   "source": [
    "top_hits = [x['article_id'] for x in a['searchArticleIds']][:3]"
   ]
  },
  {
   "cell_type": "code",
   "execution_count": 56,
   "id": "abb46508-208e-4f52-ac94-6de245df2c9e",
   "metadata": {
    "tags": []
   },
   "outputs": [],
   "source": [
    "# s = create_reference_articles(top_hits)"
   ]
  },
  {
   "cell_type": "code",
   "execution_count": 61,
   "id": "6b752f70-1386-4ebb-891b-5afc1e2a1383",
   "metadata": {
    "tags": []
   },
   "outputs": [
    {
     "data": {
      "text/plain": [
       "\"You're the lead editor for financial and business website. You answer user queries by using relevant articles that you've found by strictly following the below rules:\\n*valid_queries: questions about finance, business, or relevant entities like India, RBI, Reliance, Fed etc\\n*invalid_queries: non financial or business questions or inappropriate content\\nresponse_instructions:\\n1.query is valid and answerable with the articles you found - summarize the information clearly and concisely with a headline and followed by 3 to 6 points with following guidelines: \\nPrefix the point with a relevant label one emoji for that point. The points should overall capture the essence of a good response for the user query, but at the same time as brief as possible - a few words to a maximum of 1 sentence per point. Start with the most important point for the query. The labels should be human readable avoid use of _ or programming symbols. Headline should be brief but tailored to the query and the points you are going to generate\\nUse the below markdown format called ‘response_markdown_format’: “**Headline** <br> <br> emoji1 **label1**: point1 <br><br> **emoji2 label2**: point2 <br><br>…”\\n2.query is valid but the exact answer isn't in the articles - mention that you are not able to find the exact answer for this, but found the related information. Respond the related information using response_markdown_format\\n3.query is valid but there's no relevant information - apologize and say you can't find the answer\\n4.query is invalid - politely decline noting your focus on finance and business\\nGeneral Response Guidelines:\\n*Don't provide information not explicitly found in the articles\\n*If the article is older than what the user expects from query, highlight the period of the information. If articles are very recent or of today, then no need to specify it\\n*The website is visited by people all age groups. Avoid content or emojis which are unprofessional\\n*If the answers provide investment advice, at the end advice the users have to do additional though research and to consult an expert. Do not follow the format of response_markdown_format for this\\n*Be brief. no preamble or postamble. directly generate the responses according to response_instructions\\nThe most relevant articles are extracted in the following json format: {article_0: {‘title’: ‘’, ‘published_date’: ‘’, ‘content’: ‘’} || ...}. User’s query is provided as user_query ||today: 05 February 2024 ||user_query: what is the longest value of things which happen today ||article_0: {'title': '', 'published_date': '', 'content': ''} ||article_1: {'title': '', 'published_date': '', 'content': ''} ||article_2: {'title': '', 'published_date': '', 'content': ''}\""
      ]
     },
     "execution_count": 61,
     "metadata": {},
     "output_type": "execute_result"
    }
   ],
   "source": [
    "create_prompt_for_query_references('what is the longest value of things which happen today', None)"
   ]
  },
  {
   "cell_type": "code",
   "execution_count": 15,
   "id": "ebd1092a-89b4-4a05-a97d-960cf46da89c",
   "metadata": {
    "tags": []
   },
   "outputs": [
    {
     "ename": "AttributeError",
     "evalue": "'int' object has no attribute 'title'",
     "output_type": "error",
     "traceback": [
      "\u001b[0;31m---------------------------------------------------------------------------\u001b[0m",
      "\u001b[0;31mAttributeError\u001b[0m                            Traceback (most recent call last)",
      "Cell \u001b[0;32mIn[15], line 1\u001b[0m\n\u001b[0;32m----> 1\u001b[0m total_template_tokens \u001b[38;5;241m=\u001b[39m \u001b[38;5;28mlen\u001b[39m(tokenizer\u001b[38;5;241m.\u001b[39mencode(create_prompt_for_query_references(\u001b[38;5;124m'\u001b[39m\u001b[38;5;124m'\u001b[39m, \u001b[38;5;28;01mNone\u001b[39;00m)))\n",
      "Cell \u001b[0;32mIn[14], line 8\u001b[0m, in \u001b[0;36mcreate_prompt_for_query_references\u001b[0;34m(search_query, top_hits, today_date)\u001b[0m\n\u001b[1;32m      6\u001b[0m query_string \u001b[38;5;241m=\u001b[39m \u001b[38;5;124mf\u001b[39m\u001b[38;5;124m\"\u001b[39m\u001b[38;5;124m ||user_query: \u001b[39m\u001b[38;5;132;01m{\u001b[39;00msearch_query\u001b[38;5;132;01m}\u001b[39;00m\u001b[38;5;124m\"\u001b[39m\n\u001b[1;32m      7\u001b[0m \u001b[38;5;66;03m# reference_articles = create_reference_articles(top_hits)\u001b[39;00m\n\u001b[0;32m----> 8\u001b[0m references_string \u001b[38;5;241m=\u001b[39m generate_formatted_reference_string(\u001b[38;5;28mrange\u001b[39m(\u001b[38;5;241m3\u001b[39m))\n\u001b[1;32m      9\u001b[0m user_prompt \u001b[38;5;241m=\u001b[39m today_date_string \u001b[38;5;241m+\u001b[39m query_string \u001b[38;5;241m+\u001b[39m references_string\n\u001b[1;32m     10\u001b[0m \u001b[38;5;28;01mreturn\u001b[39;00m system_prompt \u001b[38;5;241m+\u001b[39m user_prompt\n",
      "Cell \u001b[0;32mIn[11], line 5\u001b[0m, in \u001b[0;36mgenerate_formatted_reference_string\u001b[0;34m(reference_articles)\u001b[0m\n\u001b[1;32m      3\u001b[0m ref_count \u001b[38;5;241m=\u001b[39m \u001b[38;5;241m0\u001b[39m\n\u001b[1;32m      4\u001b[0m \u001b[38;5;28;01mfor\u001b[39;00m ref \u001b[38;5;129;01min\u001b[39;00m reference_articles:\n\u001b[0;32m----> 5\u001b[0m     cur_json \u001b[38;5;241m=\u001b[39m \u001b[38;5;124mf\u001b[39m\u001b[38;5;124m\"\u001b[39m\u001b[38;5;124m ||article_\u001b[39m\u001b[38;5;132;01m{\u001b[39;00mref_count\u001b[38;5;132;01m}\u001b[39;00m\u001b[38;5;124m: \u001b[39m\u001b[38;5;130;01m{{\u001b[39;00m\u001b[38;5;124m'\u001b[39m\u001b[38;5;124mtitle\u001b[39m\u001b[38;5;124m'\u001b[39m\u001b[38;5;124m: \u001b[39m\u001b[38;5;132;01m{\u001b[39;00mref\u001b[38;5;241m.\u001b[39mtitle\u001b[38;5;132;01m}\u001b[39;00m\u001b[38;5;124m, \u001b[39m\u001b[38;5;124m'\u001b[39m\u001b[38;5;124mpublished_date\u001b[39m\u001b[38;5;124m'\u001b[39m\u001b[38;5;124m: \u001b[39m\u001b[38;5;132;01m{\u001b[39;00mref\u001b[38;5;241m.\u001b[39mformatted_date\u001b[38;5;132;01m}\u001b[39;00m\u001b[38;5;124m, \u001b[39m\u001b[38;5;124m'\u001b[39m\u001b[38;5;124mcontent\u001b[39m\u001b[38;5;124m'\u001b[39m\u001b[38;5;124m: \u001b[39m\u001b[38;5;132;01m{\u001b[39;00mref\u001b[38;5;241m.\u001b[39mtruncated_text\u001b[38;5;132;01m}\u001b[39;00m\u001b[38;5;130;01m}}\u001b[39;00m\u001b[38;5;124m\"\u001b[39m\n\u001b[1;32m      6\u001b[0m     ref_count \u001b[38;5;241m+\u001b[39m\u001b[38;5;241m=\u001b[39m \u001b[38;5;241m1\u001b[39m\n\u001b[1;32m      7\u001b[0m     references \u001b[38;5;241m+\u001b[39m\u001b[38;5;241m=\u001b[39m cur_json\n",
      "\u001b[0;31mAttributeError\u001b[0m: 'int' object has no attribute 'title'"
     ]
    }
   ],
   "source": [
    "total_template_tokens = len(tokenizer.encode(create_prompt_for_query_references('', None)))"
   ]
  },
  {
   "cell_type": "code",
   "execution_count": 90,
   "id": "3e43629f-eca3-4d2a-b2f4-4a6efecd3b1e",
   "metadata": {
    "tags": []
   },
   "outputs": [
    {
     "data": {
      "text/plain": [
       "648"
      ]
     },
     "execution_count": 90,
     "metadata": {},
     "output_type": "execute_result"
    }
   ],
   "source": [
    "total_template_tokens"
   ]
  },
  {
   "cell_type": "code",
   "execution_count": 91,
   "id": "116de6b6-f319-44d1-b5ac-db5a0a54a618",
   "metadata": {
    "tags": []
   },
   "outputs": [
    {
     "data": {
      "text/plain": [
       "30"
      ]
     },
     "execution_count": 91,
     "metadata": {},
     "output_type": "execute_result"
    }
   ],
   "source": [
    "len(tokenizer.encode('OneSpan to Announce Fourth Quarter and Fiscal Year 2023 Financial Results on March 6, 2024'))"
   ]
  },
  {
   "cell_type": "markdown",
   "id": "6b65710d-7e49-435d-a046-a4914c5d19ac",
   "metadata": {},
   "source": [
    "### Calculting the token limit for title"
   ]
  },
  {
   "cell_type": "code",
   "execution_count": 92,
   "id": "5df17e7e-4c10-4ec1-80a3-4778ed271eee",
   "metadata": {
    "tags": []
   },
   "outputs": [],
   "source": [
    "total_template_tokens = 648\n",
    "date_tokens = len(tokenizer.encode('12 February 2024'))\n",
    "article_content_tokens = 896\n",
    "search_query_tokens = 48\n",
    "output_limit = 512\n",
    "total_limit = 4096\n",
    "num_articles = 3\n",
    "buffer = 24\n",
    "title_limit = (total_limit - (total_template_tokens + buffer + search_query_tokens + (date_tokens + article_content_tokens) * num_articles + output_limit))/num_articles"
   ]
  },
  {
   "cell_type": "code",
   "execution_count": 93,
   "id": "e5dd6101-6f52-4f77-8215-ebc6cd2e5d2c",
   "metadata": {
    "tags": []
   },
   "outputs": [
    {
     "data": {
      "text/plain": [
       "48.666666666666664"
      ]
     },
     "execution_count": 93,
     "metadata": {},
     "output_type": "execute_result"
    }
   ],
   "source": [
    "title_limit"
   ]
  },
  {
   "cell_type": "code",
   "execution_count": null,
   "id": "d470795b-fc8d-496a-979c-751c34558d66",
   "metadata": {},
   "outputs": [],
   "source": [
    "title_limit = "
   ]
  },
  {
   "cell_type": "code",
   "execution_count": 10,
   "id": "70e62a59-b4d0-4974-8f38-97791502d86c",
   "metadata": {
    "tags": []
   },
   "outputs": [],
   "source": [
    "# s = create_reference_articles(top_hits)\n",
    "\n",
    "# p = create_prompt_for_query_references(query, top_hits, today_date='2024-02-05T23:59:59+05:30')"
   ]
  },
  {
   "cell_type": "code",
   "execution_count": 76,
   "id": "80de8096-f5f3-49a3-899c-e5f4f396f161",
   "metadata": {
    "tags": []
   },
   "outputs": [
    {
     "data": {
      "text/plain": [
       "3728"
      ]
     },
     "execution_count": 76,
     "metadata": {},
     "output_type": "execute_result"
    }
   ],
   "source": [
    "4096-368"
   ]
  },
  {
   "cell_type": "code",
   "execution_count": 77,
   "id": "337cf92e-e75f-4cfb-a599-c5d1144e86f2",
   "metadata": {
    "tags": []
   },
   "outputs": [
    {
     "data": {
      "text/plain": [
       "3045"
      ]
     },
     "execution_count": 77,
     "metadata": {},
     "output_type": "execute_result"
    }
   ],
   "source": [
    "3728-683"
   ]
  },
  {
   "cell_type": "code",
   "execution_count": null,
   "id": "006879d0-c2cc-443f-a7b2-b22e2b124d9d",
   "metadata": {},
   "outputs": [],
   "source": []
  },
  {
   "cell_type": "code",
   "execution_count": 78,
   "id": "ce81ea20-cb80-4793-ac66-6d42fb3d21fa",
   "metadata": {
    "tags": []
   },
   "outputs": [
    {
     "data": {
      "text/plain": [
       "1015.0"
      ]
     },
     "execution_count": 78,
     "metadata": {},
     "output_type": "execute_result"
    }
   ],
   "source": [
    "3045/3"
   ]
  },
  {
   "cell_type": "code",
   "execution_count": null,
   "id": "1bf41359-4c5a-47e8-aaf7-dc2348ba5359",
   "metadata": {},
   "outputs": [],
   "source": [
    "non_prompt_tokens = 683 - 512"
   ]
  },
  {
   "cell_type": "markdown",
   "id": "f3ee4b73-9390-4472-a4d3-64ad2c56bb2b",
   "metadata": {},
   "source": [
    "#### Queries from DB"
   ]
  },
  {
   "cell_type": "code",
   "execution_count": 3,
   "id": "c8966ed4-9249-49a4-bc23-a1eaae653893",
   "metadata": {
    "tags": []
   },
   "outputs": [],
   "source": [
    "with PostgresDatabaseOperation() as cursor:\n",
    "    sql = 'SELECT DISTINCT query_text FROM search_query_embeddings'\n",
    "    cursor.execute(sql)\n",
    "    results = cursor.fetchall()"
   ]
  },
  {
   "cell_type": "code",
   "execution_count": 4,
   "id": "076079bc-d9b6-45f0-9c4f-dc967e7e6659",
   "metadata": {
    "tags": []
   },
   "outputs": [],
   "source": [
    "insight_queries = [x[0].lower() for x in results]"
   ]
  },
  {
   "cell_type": "markdown",
   "id": "77f07d13-dbd2-4789-a767-59c8a31b3b03",
   "metadata": {},
   "source": [
    "#### Queries from GPT"
   ]
  },
  {
   "cell_type": "code",
   "execution_count": 5,
   "id": "4655fcad-9866-4178-a1d2-7a1a94a80834",
   "metadata": {
    "tags": []
   },
   "outputs": [],
   "source": [
    "abstract = '''real estate investment in Mumbai;;upcoming financial technology trends;;latest fixed deposit interest rates in india;;hdfc bank quarterly earnings;;impact of monsoon on indian agriculture stocks;;cryptocurrency regulations in india;;comparative analysis of health insurance plans;;state of biotechnology stocks;;gold vs real estate investment;;tips for first-time stock investors in india;;renewable energy sector growth in india;;nifty midcap stocks to watch;;mutual funds for retirement savings;;how to start a small business in india;;indian economy post-covid recovery;;upcoming government policies on digital payments;;analysis of indian automobile sector;;benefits of robo-advisors in investing;;latest updates in indian pharmaceutical industry;;long-term impact of gst on indian economy;;sbi life insurance stock analysis;;best savings account interest rates in india;;upcoming technology ipos in india;;analysis of india's textile industry;;effects of us-china trade war on india;;artificial intelligence startups in india;;best education loan providers in india;;stock market basics for beginners;;impact of brexit on indian economy;;latest news on indian real estate market;;indian startups to watch in 2024;;advantages of national pension scheme;;how to diversify investments in india;;indian renewable energy policy updates;;best mutual funds for tax saving in india;;current gold rate trends in india;;review of the latest union budget;;tips for managing home loans effectively;;indian fintech landscape post-pandemic;;analysis of the indian hospitality industry;;ways to invest in international stock markets from india;;current trends in indian bond market;;latest news on rbi's monetary policy;;how to plan for early retirement in india;;comparison of online stock trading platforms in india;;implications of electric vehicles on indian economy;;future of blockchain in indian banking;;analysis of indian consumer electronics market;;digital marketing trends in india;;indian aviation industry outlook;;best tax-saving strategies for high-income earners in india;;start-up financing options in india;;recent trends in indian e-wallet usage;;new government schemes for small businesses in india;;analysis of indian agriculture sector;;corporate social responsibility in indian companies;;current trends in indian luxury goods market;;indian space industry investments;;best practices for financial risk management;;upcoming infrastructure projects in india;;market analysis of indian spices;;investment opportunities in indian education sector;;recent trends in indian online retail;;current state of indian healthcare industry;;latest developments in indian solar energy sector;;digital transformation in indian banking;;growth of e-commerce in india post-covid;;how to analyze stock market trends;;indian manufacturing sector outlook;;comparison of term vs whole life insurance;;indian rupee forecast against us dollar;;how to save on taxes with mutual funds in india;;latest trends in indian IT outsourcing;;impact of artificial intelligence on indian jobs;;current status of indian steel industry;;tips for investing in indian real estate;;recent changes in indian labor laws;;analysis of indian dairy industry;;how to start investing in mutual funds in india;;personal finance management for young adults in india;;latest trends in indian organic food market;;state of venture capital in india;;global economic trends affecting india;;how to build an emergency fund in india;;investment in indian electric vehicle market;;latest news on indian railways privatization;;how to secure a mortgage in india;;impact of global warming on indian economy;;latest developments in indian satellite technology;;best dividend-paying stocks in india;;upcoming regulatory changes in indian banking;;analysis of indian petrochemical industry;;how to plan for children's education in india;;growth prospects of indian IT sector;;social impact investing in india;;current trends in indian rural economy;;how to start a franchise business in india;;indian online gaming industry analysis;;long-term investment strategies in india;;recent developments in indian renewable energy policies;;how to manage debt effectively in india;;current state of indian fisheries industry;;tips for successful forex trading in india;;analysis of indian cosmetic industry;;impact of digital currency on indian economy;;current trends in indian luxury real estate;;ways to invest in indian startups;;best small-cap stocks in india;;recent trends in indian mobile payments;;how to plan a financially secure retirement in india;;analysis of the indian shipping industry;;growth of artificial intelligence in indian healthcare;;latest news on indian tax reforms;;how to invest in indian government bonds;;indian automobile sector post-covid recovery;;tips for buying gold in india;;analysis of indian food processing industry;;how to start a tech startup in india;;current trends in indian organic farming;;upcoming e-commerce trends in india;;impact of us elections on indian economy;;how to choose a financial advisor in india;;recent trends in indian solar power projects;;best practices for estate planning in india;;latest trends in indian online education;;analysis of indian textile exports;;indian stock market predictions for 2024;;how to start an import-export business in india;;impact of oil prices on indian economy;;tips for investing in indian bonds;;growth of digital banking in india;;upcoming trends in indian fintech sector;;how to manage student loans in india;;recent changes in indian foreign investment policy;;analysis of indian handicraft industry;;ways to improve credit score in india;;investment strategies for high net worth individuals in india;;current state of indian tourism industry;;how to invest in indian blue-chip stocks;;analysis of indian cold chain industry;;tips for first-time home buyers in india;;latest news on indian economic growth;;impact of climate change on indian agriculture;;how to start a food business in india;;recent trends in indian online shopping;;best long-term investments in india;;current state of indian pharmaceutical exports;;how to build a diversified investment portfolio in india;;latest trends in indian startup ecosystem;;impact of 5g technology on indian economy;;tips for saving for a home in india;;analysis of indian beverage industry;;how to start a small manufacturing business in india;;upcoming trends in indian retail sector;;how to manage a portfolio of indian stocks;;recent changes in indian banking regulations;;analysis of indian leather industry;;how to invest in indian real estate from abroad;;growth of digital payments in india post-covid;;best practices for budgeting in india;;recent trends in indian e-commerce sector;;current state of indian electric vehicle industry;;tips for investing in indian mutual funds;;analysis of indian oil and gas sector;;how to start a consulting business in india;;latest developments in indian space technology;;best small business ideas in india;;recent trends in indian digital media;;upcoming financial regulations in india;;how to build wealth in india;;analysis of indian renewable energy market;;tips for buying property in india;;recent changes in indian tax laws;;how to start a retail business in india;;current state of indian logistics industry;;how to manage personal finances during a recession in india;;latest news on indian fintech startups;;analysis of indian defense industry;;how to save for college in india;;growth of online education in india post-covid;;upcoming trends in indian healthtech sector;;how to invest in stock market for beginners in india;;recent changes in indian corporate governance;;analysis of indian food delivery industry;;ways to reduce tax liability in india;;investment opportunities in indian biotech sector;;current state of indian real estate market post-covid;;how to plan for financial emergencies in india;;latest news on indian digital currency;;analysis of indian automotive components industry;;how to start an e-commerce business in india;;recent trends in indian venture capital;;best practices for investing in indian stock market;;current state of indian aerospace industry;;tips for managing credit card debt in india;;analysis of indian gems and jewelry industry;;how to start a freelance business in india;;growth of telemedicine in india post-covid;;upcoming trends in indian edtech sector;;how to invest in mutual funds online in india;;recent changes in indian insurance regulations;;analysis of indian fast food industry;;ways to build credit history in india;;investment strategies for millennials in india;;current state of indian railway infrastructure;;how to plan a budget-friendly vacation in india;;latest news on indian e-wallet startups;;analysis of indian marine industry;;how to start a digital marketing agency in india;;recent trends in indian artificial intelligence;;best practices for saving for retirement in india;;current state of indian telecommunications industry;;tips for buying stocks in india;;analysis of indian natural gas sector;;how to start a fitness business in india;;growth of e-learning in india post-covid;;upcoming trends in indian fintech startups;;how to invest in gold in india;;recent changes in indian financial regulations;;analysis of indian organic food exports;;ways to improve financial literacy in india;;investment opportunities in indian renewable energy sector;;current state of indian coal industry;;how to manage student loan debt in india;;latest news on indian blockchain startups;;analysis of indian shipbuilding industry;;how to start an online store in india;;recent trends in indian machine learning;;best practices for managing student loans in india;;current state of indian petrochemical exports;;tips for investing in the indian stock market;;analysis of indian spices exports;;how to start a travel agency in india;;growth of fintech in india post-covid;;upcoming trends in indian agrotech sector;;how to invest in the indian stock market from abroad;;recent changes in indian startup regulations;;analysis of indian dairy exports;;ways to invest in real estate in india;;investment strategies for young professionals in india;;current state of indian infrastructure development;;how to plan a wedding on a budget in india;;latest news on indian cryptocurrency startups;;analysis of indian handicraft exports;;how to start a boutique in india;;recent trends in indian robotics;;best practices for investing in mutual funds in india;;current state of indian textile exports;;tips for managing home loan repayments in india;;analysis of indian tea exports;;how to start a food truck business in india;;growth of online retail in india post-c'''\n",
    "companies = '''TCS vs Infosys: Which is better for long-term investment?;;Reliance Industries dividend history;;HDFC Bank vs ICICI Bank: best savings account options;;Adani Enterprises growth prospects in 2024;;Biocon's latest biopharmaceutical innovations;;Tata Motors electric vehicle strategy;;Larsen & Toubro infrastructure projects update;;Axis Bank stock performance analysis;;Maruti Suzuki's market share in Indian automobile industry;;Wipro's expansion in digital services;;SBI Life Insurance vs HDFC Life Insurance;;Mahindra & Mahindra's role in agribusiness;;NTPC renewable energy initiatives;;Bajaj Finance customer satisfaction ratings;;Hindalco Industries' aluminum market strategies;;HCL Technologies global outreach;;Airtel vs Jio: best telecom services;;Sun Pharma's latest drug approvals;;ITC's diversification into FMCG;;Dr. Reddy’s Laboratories R&D investments;;Kotak Mahindra Bank's digital banking growth;;ONGC's exploration projects in 2024;;Zomato vs Swiggy: market dominance;;Ashok Leyland's innovation in commercial vehicles;;Vedanta Resources' mining operations;;Nestle India's new product launches;;Britannia Industries vs Parle Products in the biscuit market;;Piramal Enterprises' pharmaceutical developments;;DLF's role in Indian real estate;;Hero MotoCorp's motorcycle technology advancements;;UltraTech Cement's market positioning;;Cipla's healthcare contributions;;Tech Mahindra's IT solutions;;Yes Bank recovery strategies;;Apollo Hospitals' healthcare services;;Patanjali Ayurved's market impact;;LIC's insurance policy offerings;;GAIL India's natural gas projects;;Tata Steel vs JSW Steel in the steel industry;;HDFC vs SBI home loan rates;;ICICI Lombard's general insurance services;;Bharat Petroleum's fuel retail strategy;;Godrej Consumer Products' sustainability initiatives;;Eicher Motors' Royal Enfield sales in India;;IndusInd Bank's financial services;;TVS Motor's new two-wheeler launches;;Coal India's environmental initiatives;;L&T Finance Holdings' investment services;;Future Retail's growth post-pandemic;;Havells India's electronic products market;;RIL's JioMart expansion plans;;Asian Paints' decorative paints segment;;PNB's banking reforms post-scam;;Bharti Airtel's 5G rollout plans;;Muthoot Finance's gold loan services;;Aditya Birla Group's conglomerate strategies;;Indian Oil Corporation's energy diversification;;Jubilant FoodWorks' Domino's Pizza operations;;Titan Company's jewelry business;;Bajaj Auto's export strategies;;Amara Raja Batteries' automotive battery innovations;;UPL's agrochemical market share;;MRF's tire manufacturing in India;;Bandhan Bank's microfinance services;;Shree Cement's production capabilities;;Balkrishna Industries' off-highway tire market;;Avenue Supermarts' D-Mart expansion;;Dabur India's herbal products;;Motherson Sumi's automotive components;;Pidilite Industries' adhesive market;;Berger Paints' decorative paint trends;;Vodafone Idea's telecom revival plans;;Jindal Steel & Power's manufacturing capabilities;;Divi's Laboratories' API production;;Grasim Industries' textile business;;Page Industries' Jockey brand in India;;Endurance Technologies' auto components;;United Breweries' beer market share;;Tata Consumer Products' tea and coffee business;;Exide Industries' battery solutions;;Escorts' agricultural machinery innovations;;Bharat Forge's forging business;;Indian Hotels Company's Taj hotel brand;;Mindtree's digital transformation services;;PVR's cinema chain growth;;Crompton Greaves' consumer electricals;;ACC's cement manufacturing;;Fortis Healthcare's hospital network;;Hindustan Zinc's mining operations;;IDFC First Bank's retail banking services;;Marico's consumer goods market;;Cummins India's power solutions;;Aurobindo Pharma's generic drug market;;Federal Bank's banking services;;Torrent Pharmaceuticals' drug development;;Max Financial Services' insurance products;;Blue Dart Express' logistics services;;JK Cement's construction materials;;Bosch India's automotive technology;;Torrent Power's electricity generation;;Jubilant Life Sciences' pharmaceuticals and life sciences;;Glenmark Pharmaceuticals' innovation in medicine;;IRCTC's rail ticketing and catering services;;Emami's personal care products;;Radico Khaitan's liquor market;;Bharat Electronics' defense electronics;;Syngene International's contract research services;;Voltas' air conditioning market;;TV18 Broadcast's media network;;Varun Beverages' PepsiCo franchise in India;;Minda Industries' auto ancillary products;;KEC International's power transmission projects;;Bata India's footwear market;;Persistent Systems' software services;;AU Small Finance Bank's banking for the unbanked;;Dish TV's DTH services;;Apollo Tyres' global tire market;;KPIT Technologies' automotive software;;GMR Infrastructure's airport development;;JSW Energy's power generation;;Zydus Wellness' consumer health products;;Sterlite Technologies' optical fiber manufacturing;;Lupin's pharmaceutical formulations;;Bharat Electronics' defense technologies;;RBL Bank's financial performance;;V-Guard Industries' electrical appliances;;Hindustan Aeronautics' aerospace manufacturing;;Biocon Biologics' biosimilar products;;Alembic Pharmaceuticals' drug research;;Thermax's energy solutions;;Welspun India's textile manufacturing;;Hindustan Copper's copper production;;Indiabulls Housing Finance's mortgage lending;;Kajaria Ceramics' tile manufacturing;;Cholamandalam Investment's financial services;;Schaeffler India's automotive and industrial bearings;;NBCC India's real estate development;;Tata Chemicals' specialty chemicals;;L&T Technology Services' engineering solutions;;Sundaram Finance's financial services;;CESC's power supply;;Adani Green Energy's renewable energy projects;;Tata Power's energy portfolio;;Phoenix Mills' retail and commercial spaces;;Kansai Nerolac Paints' coatings business;;Prestige Estates' real estate projects;;Hindustan Petroleum's oil refining and marketing;;Bajaj Finserv's financial services;;Sunteck Realty's luxury real estate;;SAIL's steel production;;Mahindra Holidays' vacation ownership;;ABB India's electrical equipment;;DLF Cyber City's commercial real estate;;Interglobe Aviation's IndiGo airline;;Ashoka Buildcon's infrastructure projects;;Nykaa's online beauty retail;;Balrampur Chini Mills' sugar manufacturing;;Astral Poly Technik's plumbing and drainage systems;;Canara Bank's banking and financial services;;Mphasis' IT services;;Kirloskar Oil Engines' diesel engines;;Gujarat Gas' natural gas distribution;;Cochin Shipyard's shipbuilding and repair;;Nazara Technologies' gaming and sports media;;Bharat Dynamics' defense equipment;;JK Tyre & Industries' tire manufacturing;;Aavas Financiers' housing finance;;HDFC AMC's asset management services;;SpiceJet's airline operations;;ICRA's credit rating services;;Relaxo Footwears' footwear products;;Bharat Rasayan's agrochemical manufacturing;;Bajaj Electricals' consumer appliances;;CreditAccess Grameen's microfinance services;;Polycab India's wires and cables;;Apollo Micro Systems' electronic systems;;VST Tillers Tractors' agricultural machinery;;Lakshmi Machine Works' textile machinery;;Sterling and Wilson Solar's solar EPC services;;Shilpa Medicare's pharmaceutical manufacturing;;Hindustan Foods' food processing;;Greenply Industries' plywood and laminates;;Navin Fluorine International's specialty fluorochemicals;;Mahindra Logistics' supply chain solutions;;Cera Sanitaryware's bathroom fittings;;Godrej Agrovet's agribusiness;;KRBL's basmati rice products;;Kalyan Jewellers' gold and diamond jewelry;;JK Paper's paper products;;Mahanagar Gas' city gas distribution;;Indian Energy Exchange's power trading platform;;PNC Infratech's infrastructure construction;;Route Mobile's cloud communication services;;Max Healthcare's hospital network;;Suprajit Engineering's automotive cables;;JMC Projects' construction and engineering;;CSB Bank's banking services;;Crompton Greaves Consumer Electricals' electrical products;;Quess Corp's business services;;Hatsun Agro Product's dairy products;;Sobha's real estate development;;Bharat Forge's forging and machining;;Balkrishna Paper Mills' paper manufacturing;;TeamLease Services' staffing solutions;;HDFC Life's insurance products;;KNR Constructions' infrastructure projects;;ICICI Prudential Life Insurance's life insurance;;KIOCL's iron ore mining;;Havells India's electrical equipment;;Suzlon Energy's wind power solutions;;Skipper's engineering products;;KEI Industries' cable manufacturing;;Vaibhav Global's jewelry retail;;Manappuram Finance's gold loan services;;PVR's cinema chain;;HDFC Bank's banking services;;ICICI Bank's financial services;;Tata Motors' automotive manufacturing;;Reliance Industries' conglomerate business;;Infosys' IT services;;Wipro's technology solutions;;HCL Technologies' IT consulting;;Larsen & Toubro's engineering and construction;;Mahindra & Mahindra's automotive and farm equipment;;Adani Ports and Special Economic Zone's port operations;;Sun Pharmaceutical Industries' pharmaceuticals;;Asian Paints' decorative coatings;;Bharti Aeronautical's telecom services;;ITC's diversified business;;State Bank of India's banking and financial services;;Axis Bank's banking services;;Bajaj Finance's financial services;;Hindustan Unilever's consumer goods;;Kotak Mahindra Bank's banking and financial services;;Maruti Suzuki India's automotive manufacturing;;Nestle India's food and beverage products;;Power Grid Corporation of India's electric power transmission;;Titan Company's watches and jewelry;;UltraTech Cement's cement and building materials;;Zee Entertainment Enterprises' media and entertainment;;Avenue Supermarts' retail business;;Bajaj Auto's automotive manufacturing;;Coal India's coal mining;;Dr. Reddy's Laboratories' pharmaceuticals;;Eicher Motors' automotive manufacturing;;Grasim Industries' diversified business;;HDFC's financial services;;Hero MotoCorp's motorcycle manufacturing;;Hindalco Industries' metals manufacturing;;IndusInd Bank's banking services;;JSW Steel's steel manufacturing;;NTPC's power generation;;Oil and Natural Gas Corporation's oil and gas exploration;;Shree Cement's cement manufacturing;;Tech Mahindra's IT services;;UPL's agrochemicals;;Vedanta's diversified natural resources;;YES Bank's banking services;;Ambuja Cements' cement manufacturing;;Balkrishna Industries' tire manufacturing;;Bandhan Bank's banking services;;Bharat Electronics' defense electronics;;Bharat Petroleum's petroleum refining;;Bharti Infratel's telecom tower infrastructure;;Biocon's biopharmaceuticals;;Britannia Industries' food products;;Cipla's pharmaceuticals;;Divi's Laboratories' pharmaceuticals;;DLF's real estate development;;GAIL India's natural gas processing and distribution;;Havells India's electrical equipment;;Hindustan Petroleum's petroleum refining;;ICICI Lombard General Insurance's insurance services;;Indian Oil Corporation's petroleum refining;;Indraprastha Gas' natural gas distribution;;Jindal Steel & Power's steel and power;;Lupin's pharmaceuticals;;Motherson Sumi Systems' automotive components;;Pidilite Industries' adhesives and sealants;;Piramal Enterprises' diversified business;;RBL Bank's banking services;;Siemens India's technology and engineering;;Tata Chemicals' chemicals and agri-sciences;;Tata Steel's steel manufacturing;;Torrent Pharmaceuticals' pharmaceuticals;;United Spirits' alcoholic beverages;;Aditya Birla Fashion and Retail's fashion retail;;Apollo Hospitals Enterprise's healthcare services;;Apollo Tyres' tire manufacturing;;Ashok Leyland's commercial vehicle manufacturing;;Bajaj Finserv's financial services;;Berger Paints India's paint manufacturing;;Bosch India's automotive technology;;Container Corporation of India's logistics services;;Dabur India's consumer goods;;Exide Industries' battery manufacturing;;Godrej Consumer Products' consumer goods;;Godrej Properties' real estate development;;Hindustan Zinc's zinc and lead production;;ICICI Prudential Life Insurance's life insurance;;IDFC First Bank's banking services;;Indiabulls Housing Finance's housing finance;;Indian Hotels Company's hospitality services;;Jubilant FoodWorks' food service;;JSW Energy's power generation;;L&T Finance Holdings' financial services;;L&T Technology Services' engineering and research services;;MRF's tire manufacturing;;NMDC's iron ore mining;;Page Industries' apparel manufacturing;;Prestige Estates Projects' real estate development;;Rajesh Exports' gold and diamond jewelry;;REC's power finance;;Reliance Infrastructure's infrastructure development;;SBI Cards and Payment Services' credit card services;;SBI Life Insurance's life insurance;;Shriram Transport Finance's commercial vehicle finance;;SRF's chemicals and polymers;;Tata Consumer Products' food and beverage products;;Tata Power's power generation and distribution;;Tata Communications' telecommunications services;;Thermax's energy and environment solutions;;Torrent Power's power generation and distribution;;TVS Motor Company's motorcycle manufacturing;;V-Guard Industries' electrical appliances;;Vodafone Idea's telecommunications services;;Voltas' air conditioning and engineering services;;Whirlpool of India's home appliances;;Wockhardt's pharmaceuticals;;Zydus Wellness' consumer healthcare products;;Adani Transmission's power transmission;;Adani Total Gas' natural gas distribution;;Alkem Laboratories' pharmaceuticals;;Astral Poly Technik's piping and adhesives;;Atul's chemicals and dyes;;Aurobindo Pharma's pharmaceuticals;;Bajaj Holdings & Investment's investment services;;Balkrishna Paper Mills' paper manufacturing;;Bank of Baroda's banking services;;Bharat Forge's forging and machining;;Blue Dart Express' courier and logistics services;;Canara Bank's banking services;;Cholamandalam Investment and Finance's financial services;;City Union Bank's banking services;;Colgate-Palmolive India's consumer goods;;Coromandel International's fertilizers and agrochemicals;;Cummins India's engines and power generation;;Dalmia Bharat's cement manufacturing;;DCB Bank's banking services;;Deepak Nitrite's chemicals and petrochemicals;;Dixon Technologies' electronic manufacturing services;;Edelweiss Financial Services' financial services;;Emami's consumer goods;;Equitas Small Finance Bank's banking services;;Escorts' agricultural machineryand construction equipment;;Fortis Healthcare's healthcare services;;Glenmark Pharmaceuticals' pharmaceuticals;;GMM Pfaudler's process equipment;;Godrej Agrovet's agribusiness;;Godrej Industries' diversified business;;Granules India's pharmaceuticals;;Gujarat Fluorochemicals' chemicals and refrigerants;;Gujarat State Petronet's natural gas transmission;;Happiest Minds Technologies' digital services;;Hatsun Agro Product's dairy products;;HDFC Asset Management Company's asset management;;HDFC Life Insurance's life insurance;;Hero FinCorp's financial services;;Himatsingka Seide's textile manufacturing;;Hindustan Aeronautics' aerospace and defense;;Hindustan Copper's copper mining;;Hindustan Petroleum Corporation's petroleum refining;;Home First Finance Company India's housing finance;;ICICI Securities' brokerage and financial services;;IDBI Bank's banking services;;IFCI's financial services;;IndiaMART InterMESH's online marketplace;;Indian Bank's banking services;;Indian Energy Exchange's energy trading;;Indian Railway Catering and Tourism Corporation's railway services;;Indigo Paints' paint manufacturing;;Indo Count Industries' home textiles;;Indus Towers' telecom tower infrastructure;;Info Edge India's online classifieds;;Inox Leisure's cinema exhibition;;Intellect Design Arena's software solutions;;IRB Infrastructure Developers' infrastructure development;;ITC's diversified business;;J.B. Chemicals & Pharmaceuticals' pharmaceuticals;;Jamna Auto Industries' automotive components;;JK Cement's cement manufacturing;;JK Lakshmi Cement's cement manufacturing;;Jubilant Ingrevia's life science and chemicals;;Just Dial's local search services;;Kajaria Ceramics' ceramic and vitrified tiles;;Karnataka Bank's banking services;;KEC International's power transmission and distribution;;Kotak Mahindra Asset Management Company's asset management;;L&T Infotech's IT services;;LIC Housing Finance's housing finance;;Lux Industries' innerwear and casual wear;;Mahanagar Gas' city gas distribution;;Manappuram Finance's gold loan and financial services;;Max Financial Services' life insurance and financial services;;Minda Industries' automotive components;;Motilal Oswal Financial Services' financial services;;Mphasis' IT services;;Narayana Hrudayalaya's healthcare services;;National Aluminium Company's aluminum production;;Navin Fluorine International's specialty fluorochemicals;;NCC's construction and infrastructure;;Neogen Chemicals' specialty chemicals;;Nestle India's food and beverage products;;Network18 Media & Investments' media and entertainment;;NHPC's hydroelectric power generation;;NIIT Technologies' IT services and solutions;;Nippon Life India Asset Management's asset management;;Oberoi Realty's real estate development;;Oil India's oil and gas exploration and production;;Orient Electric's electrical products;;PC Jeweller's jewelry retail;;Persistent Systems' software and IT services;;Petronet LNG's liquefied natural gas import and regasification;;Pfizer India's pharmaceuticals;;PI Industries' agrochemicals and fine chemicals;;Piramal Enterprises' diversified business;;Polycab India's wires and cables;;Poonawalla Fincorp's financial services;;Power Finance Corporation's power sector financing;;Prestige Estates Projects' real estate development;;Procter & Gamble Hygiene and Health Care's consumer goods;;Quess Corp's business services;;Radico Khaitan's alcoholic beverages;;Rain Industries' carbon products and chemicals;;Rajesh Exports' gold and diamond jewelry;;Rallis India's agrochemicals and seeds;;Ratnamani Metals & Tubes' stainless steel and carbon steel tubes;;Raymond's textile and apparel products;;Relaxo Footwears' footwear products;;Reliance Power's power generation;;Rossari Biotech's specialty chemicals;;Route Mobile's cloud communication services;;Safari Industries India's luggage and travel accessories;;Sanofi India's pharmaceuticals;;Saregama India's music and entertainment;;Schaeffler India's automotive and industrial bearings;;Sharda Cropchem's agrochemicals and chemicals;;Shilpa Medicare's pharmaceutical manufacturing;;Shree Renuka Sugars' sugar manufacturing;;Siemens India's technology and engineering;;SJVN's hydroelectric power generation;;SKF India's bearings and related products;;Snowman Logistics' cold chain logistics;;Solar Industries India's industrial explosives;;Somany Ceramics' ceramic tiles and sanitaryware;;Spandana Sphoorty Financial's microfinance services;;Star Cement's cement manufacturing;;Steel Authority of India's steel production;;Sterling and Wilson Solar's solar EPC services;;Strides Pharma Science's pharmaceuticals;;Sun Pharma Advanced Research Company's pharmaceutical research;;Sundaram Finance's financial services;;Suprajit Engineering's automotive cables;;Supreme Industries' plastic products;;Suzlon Energy's wind power solutions;;Symphony's air coolers;;Syngene International'scontract research and manufacturing;;Tata Chemicals' chemicals and agri-sciences;;Tata Communications' telecommunications services;;Tata Consumer Products' food and beverage products;;Tata Elxsi's design and technology services;;Tata Investment Corporation's investment services;;Tata Metaliks' pig iron and ductile iron pipes;;Tata Motors Finance's vehicle financing;;Tata Power's power generation and distribution;;Tata Steel Long Products' steel manufacturing;;Tata Steel's steel manufacturing;;TCNS Clothing's women's apparel;;TeamLease Services' staffing and HR services;;Tech Mahindra's IT services;;The Federal Bank's banking services;;The Great Eastern Shipping Company's shipping and offshore services;;The Indian Hotels Company's hospitality services;;The Jammu & Kashmir Bank's banking services;;The Karnataka Bank's banking services;;The New India Assurance Company's insurance services;;The Ramco Cements' cement manufacturing;;The South Indian Bank's banking services;;Thermax's energy and environment solutions;;Thomas Cook India's travel and tourism services;;Thyrocare Technologies' diagnostic and preventive healthcare services;;Tide Water Oil's lubricants and greases;;Timken India's bearings and mechanical power transmission products;;Titan Company's watches and jewelry;;Torrent Pharmaceuticals' pharmaceuticals;;Torrent Power's power generation and distribution;;Trident's textile and paper products;;Triveni Turbine's steam turbines;;Tube Investments of India's engineering and metal products;;TV18 Broadcast's media and entertainment services;;TVS Electronics' electronic products and services;;TVS Motor Company's motorcycle and scooter manufacturing;;UCO Bank's banking services;;Ujjivan Small Finance Bank's banking and financial services;;UltraTech Cement's cement and building materials;;Union Bank of India's banking services;;United Breweries' beer manufacturing;;United Spirits' alcoholic beverages;;UPL's agrochemicals;;Vakrangee's technology and retail services;;Vardhman Textiles' textile manufacturing;;Varroc Engineering's automotive components;;Vedanta's diversified natural resources;;Venky's India's poultry products;;V-Guard Industries' electrical appliances;;Vijaya Bank's banking services;;Vinati Organics' specialty chemicals;;Vindhya Telelinks' telecom cables;;VIP Industries' luggage and travel accessories;;Visaka Industries' building materials;;Voltas' air conditioning and engineering services;;VST Industries' tobacco products;;Wabco India's automotive components;;Welspun Corp's pipes and plates;;Welspun India's home textiles;;Westlife Development's fast food restaurant chain;;Whirlpool of India's home appliances;;Wipro's technology solutions;;Wockhardt's pharmaceuticals;;Wonderla Holidays' amusement parks;;Yes Bank's banking services;;Zee Entertainment Enterprises' media and entertainment services;;Zensar Technologies' IT services;;Zydus Wellness' consumer healthcare products;;ZYDUSCADILA's pharmaceuticals;;3M India's diversified technology;;ABB India's power and automation technologies;;ACC's cement manufacturing;;Adani Enterprises' diversified business;;Adani Gas' natural gas distribution;;Adani Green Energy's renewable energy;;Adani Ports and Special Economic Zone's port operations;;Adani Power's power generation;;Adani Transmission's power transmission;;Aditya Birla Capital's financial services;;Aditya Birla Fashion and Retail's fashion retail;;Aditya Birla Money's broking and advisory services;;Advanced Enzyme Technologies' enzymes and probiotics;;Aegis Logistics' oil and gas logistics;;Affle India's mobile marketing and advertising;;AIA Engineering's high chrome mill internals;;Ajanta Pharma's pharmaceuticals;;Akzo Nobel India's paints and coatings;;Alembic Pharmaceuticals' pharmaceuticals;;Alkem Laboratories' pharmaceuticals;;Allcargo Logistics' logistics services;;Amara Raja Batteries' automotive and industrial batteries;;Amber Enterprises India's air conditioning and commercial refrigeration;;Amrutanjan Health Care's healthcare products;;Anant Raj's real estate development;;Angel Broking's stock broking and wealth management;;Anup Engineering's engineering products;;APL Apollo Tubes' steel pipes and tubes;;Apollo Micro Systems' electronic systems;;Apollo Pipes' piping solutions;;Apollo Tyres' tire manufacturing;;Aptech's education and training services;;Arvind's textile and apparel manufacturing;;Asahi India Glass' automotive and architectural glass;;Ashiana Housing's real estate development;;Ashok Leyland's commercial vehicle manufacturing;;Asian Granito India's tiles and marbles;;Aster DM Healthcare's healthcare services;;Astral Poly Technik's piping and adhesives;;Atul Auto's three-wheeler manufacturing;;Atul's chemicals and dyes;;AU Small Finance Bank's banking services;;Aurobindo Pharma's pharmaceuticals;;Avenue Supermarts' retail business;;Aviation industry growth in India;;Axis Bank's banking services;;Bajaj Auto's automotive manufacturing;;Bajaj Consumer Care's consumer goods;;Bajaj Electricals' consumer appliances;;Bajaj Finance's financial services;;Bajaj Finserv's financial services;;Bajaj Holdings & Investment's investment services;;Balkrishna Industries' tire manufacturing;;Balrampur Chini Mills' sugar manufacturing;;Bandhan Bank's banking services;;Bank of Baroda's banking services;;Bank of India's banking services;;BASF India's chemicals and materials;;Bata India's footwear manufacturing;;Bayer CropScience's agrochemicals;;BEML's mining and construction equipment;;Berger Paints India's paint manufacturing;;Bharat Bijlee's electrical engineering;;Bharat Dynamics' defense equipment;;Bharat Electronics' defense electronics;;Bharat Financial Inclusion's microfinance services;;Bharat Forge's forging and machining;;Bharat Heavy Electricals' heavy electrical equipment;;Bharat Petroleum's petroleum refining;;Bharti Airtel's telecommunications services;;Bharti Infratel's telecom tower infrastructure;;BHEL's engineering and manufacturing;;Biocon's biopharmaceuticals;;Birla Corporation's cement and jute manufacturing;;Birlasoft's IT services;;Blue Dart Express' courier and logistics services;;Blue Star's air conditioning and refrigeration;;Bodal Chemicals' dyestuffs and chemicals;;Bombay Burmah Trading Corporation's tea and coffee plantations;;Bombay Dyeing & Manufacturing Company's textiles and real estate;;Bosch India's automotive technology;;Brigade Enterprises' real estate development;;Britannia Industries' food products;;Butterfly Gandhimathi Appliances' kitchen appliances;;Cadila Healthcare's pharmaceuticals;;Can Fin Homes' housing finance;;Canara Bank's banking services;;Caplin Point Laboratories' pharmaceuticals;;Carborundum Universal's abrasives and ceramics;;Castrol India's lubricants;;CEAT's tire manufacturing;;Central Bank of India's banking services;;Century Enka's synthetic yarns;;Century Plyboards' plywood and laminates;;Century Textiles & Industries' textiles and cement;;Cera Sanitaryware's bathroom fittings;;Chambal Fertilisers and Chemicals' fertilizers and chemicals;;Chennai Petroleum Corporation's petroleum refining;;Cholamandalam Investment and Finance's financial services;;Cipla's pharmaceuticals;;City Union Bank's banking services;;Clariant Chemicals India's specialty chemicals;;Coal India's coal mining;;Colgate-Palmolive India's consumer goods;;Container Corporation of India's logistics services;;Coromandel International's fertilizers and agrochemicals;;Cox & Kings' travel and tourism services;;Crisil's ratings and research;;Crompton Greaves Consumer Electricals' electrical products;;Cummins India's engines and power generation;;Cyient's engineering and technology solutions;;Dabur India's consumer goods;;DCB Bank's banking services;;Deepak Fertilisers and Petrochemicals' fertilizers and chemicals;;Deepak Nitrite's chemicals and petrochemicals;;Dewan Housing Finance Corporation's housing finance;;Dhanlaxmi Bank's banking services;;Dilip Buildcon's infrastructure construction;;Dish TV's direct-to-home services;;Divi's Laboratories' pharmaceuticals;;DLF's real estate development;;Dr. Lal PathLabs' diagnostic and healthcare services;;Dr. Reddy's Laboratories' pharmaceuticals;;Eicher Motors' automotive manufacturing;;EID Parry's sugar and nutraceuticals;;Elgi Equipments' air compressors;;Emami's consumer goods;;Endurance Technologies' automotive components;;Engineers India's engineering and consultancy services;;Equitas Holdings' financial services;;Equitas Small Finance Bank's banking services;;Escorts' agricultural machinery and construction equipment;;Essel Propack's packaging solutions;;Eveready Industries India's batteries and flashlights;;Exide Industries' battery manufacturing;;Federal Bank's banking services;;Finolex Cables' electrical and communication cables;;Finolex Industries' PVC pipes and fittings;;Firstsource Solutions' business process outsourcing;;Force Motors' automotive manufacturing;;Fortis Healthcare's healthcare services;;Future Consumer's consumer goods;;Future Retail's retail business;;GAIL India's natural gas processing and distribution;;Garden Reach Shipbuilders & Engineers' shipbuilding;;Gateway Distriparks' logistics services;;Gati's express distribution and supply chain solutions;;GE Power India's power generation equipment;;General Insurance Corporation of India's reinsurance services;;Gillette India's personal care products;;Glenmark Pharmaceuticals' pharmaceuticals;;GlaxoSmithKline Pharmaceuticals' pharmaceuticals;;Godfrey Phillips India's tobacco products;;Godrej Agrovet's agribusiness;;Godrej Consumer Products' consumer goods;;Godrej Industries' diversified business;;Godrej Properties' real estate development;;Gokaldas Exports' apparel manufacturing;;Gokul Refoils and Solvent's edible oils and agro commodities;;Granules India's pharmaceuticals;;Graphite India's graphite electrodes;;Grasim Industries' diversified business'''\n",
    "macro = '''Analysis of current macroeconomic trends in India;;Impact of global economic changes on Indian markets;;Forecast of commodity market movements in India;;Evaluation of the Indian rupee's performance against major currencies;;Influence of recent RBI policies on inflation rates;;SEBI's impact on equity market regulations;;Analysis of India's trade deficit and its implications;;Effect of budget announcements on Indian financial markets;;Forecasting India's GDP growth in the current economic climate;;Evaluation of the real estate market post-budget reforms;;Implications of global oil price fluctuations on Indian economy;;GST's impact on small and medium enterprises;;Trends in foreign direct investment in India;;Analysis of India's fiscal policy and public debt;;SEBI's role in enhancing stock market transparency;;RBI's measures to stabilize the Indian banking sector;;Impact of international trade agreements on India's economy;;Assessment of India's inflation and monetary policy;;Evaluation of the Indian stock market's performance;;Analysis of India's economic recovery post-pandemic;;Implications of changing global interest rates on Indian finance;;SEBI's initiatives for investor protection;;RBI's strategies for digital banking growth in India;;Impact of commodity price volatility on Indian markets;;Analysis of India's balance of payments;;GST compliance and its impact on Indian businesses;;RBI's foreign exchange reserves and currency stability;;SEBI's approach to corporate governance in Indian companies;;Impact of taxation reforms on Indian economy;;Analysis of India's consumer spending trends;;RBI's role in financial inclusion and economic growth;;SEBI's regulatory reforms in mutual fund investments;;Assessment of India's industrial production and growth;;Impact of budgetary allocations on infrastructure development;;GST rates revision and its effect on various sectors;;RBI's credit policy and its impact on loan rates;;Analysis of India's export-import dynamics;;SEBI's guidelines on algorithmic trading;;RBI's measures to tackle non-performing assets in banks;;GST's role in streamlining indirect taxation;;SEBI's policies on market manipulation and insider trading;;Analysis of India's economic resilience in global turmoil;;Implications of recent RBI interest rate decisions;;SEBI's framework for startup funding and listings;;Assessment of India's energy sector policies;;Impact of digital payments on Indian economy;;GST's effect on the manufacturing sector;;RBI's guidelines for fintech and digital lending;;SEBI's strategies for enhancing capital market depth;;Assessment of India's agricultural sector performance;;Impact of international sanctions on India's trade;;GST impact on the service industry;;RBI's policies on managing inflation and growth;;SEBI's approach to ESG (Environmental, Social, and Governance) investing;;Analysis of India's financial market post-global recession;;RBI's initiatives for sustainable banking;;SEBI's measures against financial fraud;;Impact of climate change policies on India's economy;;GST implementation challenges and solutions;;RBI's strategies for managing public sector banks;;SEBI's role in regulating new financial products;;Assessment of India's retail sector in the current economy;;Impact of global technology trends on Indian markets;;GST's influence on consumer goods pricing;;RBI's approach to international trade finance;;SEBI's policies on enhancing market liquidity;;Analysis of India's urban development and housing market;;Impact of demographic changes on India's economic growth;;GST's role in economic formalization;;RBI's monetary policy adjustments and economic outcomes;;SEBI's initiatives in risk management for financial markets'''\n",
    "keywords = '''Inflation trends;;RBI policy;;SEBI guidelines;;GDP growth;;Rupee valuation;;Commodity prices;;Budget impacts;;Market analysis;;Oil prices;;Digital currency;;Taxation reforms;;Fiscal deficit;;Equity regulations;;FDI inflows;;Public debt;;Investor protection;;Banking stability;;Trade agreements;;Inflation control;;Stock performance;;Economic recovery;;Interest rates;;Corporate governance;;Consumer spending;;Financial inclusion;;Mutual fund investment;;Industrial growth;;Infrastructure spending;;GST rates;;Loan rates;;Export-import;;Algorithmic trading;;Non-performing assets;;Indirect taxation;;Market manipulation;;Economic resilience;;Interest rate decisions;;Startup funding;;Energy policies;;Digital payments;;Manufacturing sector;;Fintech regulation;;Capital market;;Agricultural sector;;International sanctions;;Service industry;;Inflation management;;ESG investing;;Global recession;;Sustainable banking;;Financial fraud;;Climate policies;;GST challenges;;Public sector banks;;Financial products;;Retail sector;;Technology trends;;Consumer pricing;;Trade finance;;Market liquidity;;Urban development;;Demographic changes;;Economic formalization;;Monetary adjustments;;Risk management;;Repo rate;;Crude futures;;Sensex update;;Nifty insights;;Forex trends;;Tax slabs;;GST impact;;Rural economy;;Urban inflation;;Fiscal policy;;Monetary policy;;Trading tips;;Bull market;;Bear market;;Blue chips;;Bank rates;;Loan norms;;Credit score;;PE ratio;;Market cap;;Mutual funds;;Bond yields;;Dividend stocks;;Angel investing;;Startup IPOs;;Trade deficit;;Exports data;;Imports data;;SEBI rules;;RBI update;;Venture capital;;Real estate;;Housing loans;;Auto loans;;Gold rates;;Silver rates;;Crypto prices;;Blockchain tech;;Digital wallets;;E-payment systems;;Wealth management;;Retirement planning;;Insurance plans;;Health cover;;Education loans;;Mortgage rates;;Savings accounts;;Current account;;Fixed deposits;;Liquid funds;;Fintech startups;;Economic growth;;Recession fears;;Inflation index;;Deflation risk;;Consumer markets;;Retail investors;;Market volatility;;Stock picks;;Trading platforms;;Broker reviews;;Commodity trading;;Agriculture stocks;;Energy sector;;Tech stocks;;Pharma growth;;Biotech firms;;Infrastructure bonds;;Small-cap stocks;;Mid-cap gems;;Large-cap stability;;Pension funds;;Debt markets;;Currency exchange;;Forex reserves;;Remittances;;FDI policy;;Trade tariffs;;Budget leaks;;Fiscal stimulus;;Subsidy cuts;;Tax evasion;;Black money;;Wealth tax;;Capital gains;;GST filing;;GST evasion;;Input credit;;Market rally;;Short selling;;Options trading;;Futures contracts;;Candlestick charts;;Technical analysis;;Fundamental analysis;;Market sentiment;;Investor mood;;IPO buzz;;M&A news;;Corporate earnings;;Quarterly results;;Annual reports;;Balance sheets;;Profit margins;;Revenue growth;;Cost cutting;;Debt restructuring;;Credit lines;;Leverage ratios;;Risk assessment;;Asset allocation;;Portfolio mix;;Diversification;;Investment strategy;;Market timing;;Trading signals;;Stop loss;;Profit booking;;Dividend reinvestment;;Share buyback;;Corporate governance;;CEO appointments;;Boardroom battles;;Shareholder rights;;Proxy fights;;Regulatory compliance;;Audit reports;;Insider trading;;Market manipulation;;Financial scandals;;Economic forecasts;;Global markets;;Emerging markets;;Developed markets;;Market indices;;Exchange rates;;Commodity indexes;;Oil benchmarks;;Gold standards;;Metals market;;Agricultural commodities;;Energy futures;;Technology trends;;Start-up trends;;VC deals;;PE investments;;Angel networks;;Crowdfunding;;Fintech innovation;;Blockchain applications;;Cryptocurrency regulation;;Digital currencies;;Mobile banking;;Online trading;;Robo-advisors;;Wealthtech;;Insurtech;;Regtech;;Open banking;;API banking;;Digital transformation;;Cloud computing;;Big data;;AI in finance;;Machine learning;;Algorithmic finance;;Quantitative trading;;High-frequency trading;;Dark pools;;Flash crashes;;Market bubbles;;Financial crises;;Economic downturns;;Recovery signs;;Growth sectors;;Job market;;Employment trends;;Wage growth;;Income disparity;;Poverty rates;;Social impact;;Sustainable finance;;Green bonds;;ESG funds;;Climate finance;;Renewable energy;;Solar investments;;Wind power;;Electric vehicles;;Battery tech;;Smart cities;;Urban planning;;Rural development;;Agricultural tech;;Food security;;Water resources;;Environmental policy;;Sustainable practices;;Corporate responsibility;;Community investment;;Public-private partnerships;;Government bonds;;Municipal bonds;;Treasury yields;;Central banks;;Interest rate futures;;Inflation bonds;;Credit default swaps;;Derivatives market;;Leveraged buyouts;;Management buyouts;;Private equity;;Venture capital;;Angel investors;;Startup accelerators;;Incubators;;Innovation hubs;;Tech parks;;Silicon Valley;;Wall Street;;Dalal Street;;Nasdaq;;NYSE;;LSE;;Tokyo Exchange;;Shanghai Exchange;;Hong Kong Exchange;;Singapore Exchange;;Mumbai Exchange;;BSE;;NSE;;Commodity exchanges;;Forex platforms;;Currency pairs;;Dollar index;;Euro zone;;Brexit impact;;US economy;;China growth;;Japan recession;;India GDP;;Brazil markets;;Russia sanctions;;Middle East tensions;;African opportunities;;ASEAN dynamics;;NAFTA changes;;EU regulations;;WTO negotiations;;IMF loans;;World Bank projects;;OECD reports;;UN initiatives;;Climate summits;;G20 meetings;;Davos forum;;Economic summits;;Trade conferences;;Financial forums;;Investment seminars;;Startup conferences;;Tech expos;;Fintech events;;Blockchain summits;;Crypto conferences;;AI symposiums;;Data analytics;;Cybersecurity;;Privacy laws;;Data protection;;Regulatory frameworks;;Compliance software;;Audit tools;;Fraud detection;;AML measures;;KYC processes;;Identity verification;;Biometric security;;Digital ID;;Payment gateways;;Mobile payments;;Contactless transactions;;E-wallets;;Prepaid cards;;Credit facilities;;Lending platforms;;Peer-to-peer lending;;Microfinance;;Crowdlending;;Alternative finance;;Social lending;;Impact investing;;Microcredit;;Financial inclusion;;Unbanked populations;;Underbanked communities;;Financial literacy;;Education initiatives;;Skill development;;Youth empowerment;;Women in finance;;Diversity in business;;Inclusive growth;;Equal opportunity;;Gender equality;;Minority representation;;Social justice;;Ethical practices;;Human rights;;Labor standards;;Worker rights;;Fair trade;;Sustainable supply chains;;Corporate philanthropy;;Charitable giving;;Nonprofit funding;;Social entrepreneurship;;Community projects;;Volunteering;;Civic engagement;;Public service;;Government policies;;Regulatory bodies;;Legislative changes;;Political debates;;Election impacts;;Policy decisions;;Government spending;;Public finance;;Budget deficits;;National debt;;Fiscal balance;;Economic planning;;Development goals;;Infrastructure projects;;Public works;;Transport networks;;Communication infrastructure;;Energy grids;;Water systems;;Waste management;;Recycling initiatives;;Renewable resources;;Sustainable energy;;Clean technology;;Green tech;;Eco-friendly solutions;;Sustainability goals;;Carbon footprint;;Greenhouse gases;;Climate action;;Environmental stewardship;;Conservation efforts;;Wildlife protection;;Natural habitats;;Ecosystem preservation;;Biodiversity conservation;;Marine resources;;Ocean conservation;;Freshwater conservation;;Land management;;Forest preservation;;Agricultural sustainability;;Food systems;;Nutrition security;;Hunger relief;;Poverty alleviation;;Economic empowerment;;Community development;;Rural upliftment;;Urban renewal;;Slum upgrading;;Housing affordability;;Homeownership;;Rental markets;;Real estate development;;Property investment;;Land rights;;Urban planning;;City development;;Smart growth;;Sustainable cities;;Urban resilience;;Disaster recovery;;Emergency response;;Crisis management;;Humanitarian aid;;Relief efforts;;Refugee support;;Migration challenges;;Global health;;Public health;;Healthcare access;;Medical services;;Disease prevention;;Vaccination campaigns;;Maternal health;;Child welfare;;Education access;;Schooling initiatives;;Literacy programs;;Vocational training;;Employment opportunities;;Job creation;;Workforce development;;Skill training;;Entrepreneurship support;;Business incubation;;Startup financing;;Small business development;;Microenterprise support;;Market access;;Trade facilitation;;Export promotion;;Import substitution;;Industrial policy;;Manufacturing growth;;Technology transfer;;Innovation ecosystems;;Research and development;;Science and technology;;Engineering advances;;Mathematics and statistics;;Academic research;;University collaborations;;Educational partnerships;;Scholarship programs;;Student exchanges;;Cultural exchanges;;Arts and culture;;Creative industries;;Media and entertainment;;Film and television;;Music and performing arts;;Literature and publishing;;Visual arts;;Design and fashion;;Architecture and urbanism;;Historical preservation;;Cultural heritage;;Tourism development;;Travel and leisure;;Hospitality industry;;Recreational activities;;Sports and fitness;;Wellness and lifestyle;;Health and beauty;;Personal care;;Consumer goods;;Retail markets;;Shopping trends;;E-commerce platforms;;Online shopping;;Digital marketplaces;;Mobile commerce;;Social media;;Digital marketing;;Online advertising;;Content creation;;Influencer marketing;;Brand strategies;;Marketing analytics;;Consumer insights;;Customer engagement;;Customer service;;Client relations;;Sales strategies;;Business development;;Market expansion;;Global outreach;;International business;;Cross-border trade;;Multinational corporations;;Global brands;;Corporate alliances;;Strategic partnerships;;Joint ventures;;Mergers and acquisitions;;Corporate restructuring;;Business transformations;;Organizational change;;Leadership development;;Management practices;;Human resources;;Talent acquisition;;Employee retention;;Workplace culture;;Team building;;Organizational learning;;Training and development;;Professional growth;;Career advancement;;Networking opportunities;;Mentorship programs;;Coaching and guidance;;Personal development;;Life skills;;Self-improvement;;Motivation and inspiration;;Success stories;;Achievement and recognition;;Awards and honors;;Celebrity endorsements;;Public figures;;Influential leaders;;Thought leaders;;Industry experts;;Keynote speakers;;Panel discussions;;Roundtable debates;;Workshops and trainings;;Webinars and online courses;;E-learning platforms;;Distance education;;Remote learning;;Virtual classrooms;;Online resources;;Digital tools;;Software solutions;;Technology platforms;;Mobile apps;;Gaming and entertainment;;Virtual reality;;Augmented reality;;Artificial intelligence;;Machine learning;;Robotics and automation;;Internet of Things;;Wearable technology;;Smart devices;;Connected homes;;Energy efficiency;;Sustainable transportation;;Electric vehicles;;Autonomous vehicles;;Public transit;;Cycling and walking;;Active transportation;;Shared mobility;;Ridesharing;;Carsharing;;Bikesharing;;Scootersharing;;Public bicycles;;Urban mobility;;Traffic management;;Parking solutions;;Road safety;;Transport planning;;Mobility as a Service;;Transport innovation;;Logistics and supply chain;;Freight transport;;Shipping and maritime;;Air transport;;Rail transport;;Bus transport;;Taxi services;;Delivery services;;Courier services;;Postal services;;Package handling;;Warehousing and storage;;Inventory management;;Order fulfillment;;Supply chain optimization;;Global logistics'''\n",
    "timely = '''Bitcoin price today;;Stock market today;;Fed rate decision today;;Earnings reports this week;;IPOs this week;;Crude oil prices today;;Tech stock movements today;;Gold rate today;;Currency exchange rates today;;Latest mutual fund NAVs;;Today's top gainers in stock market;;Today's top losers in stock market;;New government policy announcements;;Breaking economic news;;Latest inflation rate announcement;;Unemployment data release today;;Central bank's latest statement;;Today's forex market analysis;;Commodity market updates today;;Financial tech startup news;;Banking sector updates today;;Insurance market today;;Pension fund returns today;;Corporate earnings released today;;Trade agreement news today;;Venture capital funding news;;Private equity investment news;;Hedge fund performance today;;Global economic update today;;Market volatility alerts today;;Dividend declaration news;;Credit rating changes today;;Blockchain adoption news;;Digital payment trends today;;Artificial intelligence finance news;;Cloud computing in finance today;;Sustainable investing news;;Green bond issuances today;;Impact investing news today;;Crowdfunding campaign launches;;Peer-to-peer lending rates today;;Wealth management insights today;;Tax law changes today;;Retirement plan updates today;;Budgeting app updates;;Debt management news today;;Forex trading strategies today;;Commodity outlook today;;Precious metals market today;;Real estate investment news today;;ETF market today;;Index fund performance today;;Financial planning tips today;;Cryptocurrency mining news;;Initial coin offerings today;;Security token offerings news;;Cryptocurrency wallet updates;;Bitcoin futures market today;;Ethereum network news today;;Ripple technology updates today;;Litecoin trading today;;Blockchain startup launches;;Financial regulation updates today;;Bankruptcy news today;;Mergers and acquisitions today;;Antitrust case news today;;Corporate governance developments today;;Insider trading reports today;;Fraud detection tech news today;;Risk management tools today;;Insurance tech updates today;;Robo-advisor news today;;Mobile banking features today;;Neobanks news today;;Payment gateway developments today;;Credit card program launches today;;Fintech accelerator news today;;Digital currency exchange news today;;Smart contract developments today;;Decentralized finance (DeFi) news today;;IPO strategies today;;SPAC news today;;CSR initiatives today;;Economic stimulus news today;;Government budget news today;;Trade tariff updates today;;IMF loan news today;;World Bank project updates today;;Sovereign wealth fund activities today;;FDI trends today;;Export credit news today;;International trade stats today;;Emerging economies today;;Economic sanctions news today;;Global supply chain news today;;Outsourcing trends today;;Manufacturing data today;;Automobile sales news today;;Pharmaceutical industry news today;;Tech sector investments today;;Media industry earnings today;;Tourism industry updates today;;Hospitality recovery news today;;Agriculture market news today;;Food industry trends today;;Transportation news today;;Shipping industry today;;Aviation sector updates today;;Railway developments today;;Infrastructure financing news today;;Renewable energy projects today;;Oil and gas news today;;Mining industry updates today;;Chemical industry news today;;Steel production news today;;Textile industry today;;Consumer electronics market today;;Gaming industry revenue today;;Streaming service competition today;;Social media earnings today;;E-commerce expansions today;;Online advertising trends today;;Digital content creation news today;;Cybersecurity solutions today;;Data privacy regulation news today;;Cloud storage options today;;SaaS growth news today;;IoT applications today;;Virtual reality investments today;;Augmented reality projects today;;AI breakthroughs today;;Machine learning developments today;;Big data analytics news today;;Quantum computing research today;;Nanotechnology finance news today;;Biotechnology financing today;;Healthcare innovations today;;Medical device market today;;Pharmaceutical research funding today;;Wellness tech news today;;EdTech startup news today;;Online learning platforms today;;Remote work solutions today;;Gig economy impact today;;Unemployment insurance news today;;Minimum wage updates today;;Labor market trends today;;Workforce development news today;;Employee benefits innovation today;;Diversity and inclusion initiatives today;;Gender pay gap analysis today;;Workplace safety standards today;;Remote work policies today;;Freelancing news today;;Entrepreneurship ecosystem news today;;Small business growth strategies today;;E-commerce for small businesses today;;Social entrepreneurship news today;;Non-profit financial management today;;Microfinance institutions today;;Community development financial news today;;Impact measurement news today;;Corporate bond market today;;Government securities today;;Municipal bonds today;;Derivatives trading news today;;Options and futures today;;Leveraged and inverse ETFs today;;Currency hedging today;;Commodity hedging today;;Financial derivatives today;;Asset-backed securities today;;Mortgage-backed securities today;;Collateralized debt obligations today;;Credit default swaps today;;Interest rate swaps today;;Foreign exchange swaps today;;Structured finance products today;;Capital markets innovation today;;Electronic trading platforms today;;Algorithmic trading news today;;High-frequency trading (HFT) news today;;Dark pools of liquidity today;;Securities lending news today;;Clearing and settlement processes today;;Financial market infrastructure news today;;Stock exchange updates today;;Regulatory technology (RegTech) news today;;Compliance automation today;;Anti-money laundering (AML) solutions today;;Know your customer (KYC) technologies today;;Fraud prevention tools today;;Cyber insurance news today;;Financial crime investigations today;;Economic crime trends today;;Counterfeit currency detection today;;Intellectual property rights enforcement today;;Trade secret protection today;;Patent financing news today;;Stock market opening prices;;Dow Jones Industrial Average today;;NASDAQ composite index now;;S&P 500 latest update;;Bitcoin price movement today;;Ethereum trading volume 24h;;Crude oil price changes today;;Gold rate fluctuations today;;Latest IPO filings;;New merger announcements today;;Tech earnings reports released today;;Central bank interest rate decision;;Currency exchange rate today;;Fed's latest monetary policy;;Today's top-performing mutual funds;;Daily commodity market trends;;Real-time economic data releases;;Latest consumer spending reports;;Unemployment rate update today;;Today's inflation figures release;;Bank earnings announcements today;;Insurance companies quarterly results today;;Venture capital deals closed today;;Today's significant stock buybacks;;Corporate dividend announcements today;;Latest trade agreement impacts;;Emerging markets index today;;Today's highest volume trades;;Real estate market daily update;;Bond market movements today;;Automotive sales figures released today;;Renewable energy sector news today;;Retail industry earnings today;;Inflation rate news today;;Latest unemployment data;;Central bank's statement on inflation;;Currency strength today;;Commodity prices live update;;Financial tech startups funding today;;Banking sector regulation news today;;Latest insurance policy changes;;Pension fund current performance;;Corporate earnings highlights today;;Global trade news today;;Venture capital investment news today;;Private equity firm acquisitions today;;Hedge fund today's performance;;Global economic outlook today;;Market volatility index today;;Today's dividend yield updates;;Credit rating agency latest reports;;Blockchain in finance news today;;Digital payment trends today;;AI advancements in finance today;;Cloud computing finance applications today;;Sustainable investing news today;;Green bond market today;;Impact investing latest trends;;Crowdfunding platform launches today;;Peer-to-peer lending rates today;;Wealth management insights today;;Tax law changes announced today;;Retirement planning updates today;;Budgeting software new features;;Debt management strategies today;;Forex trading pair movements today;;Latest commodity trading strategies;;Precious metals market analysis today;;Real estate investment opportunities today;;ETF trading strategies today;;Index fund today's performance;;Financial planning advice today;;Cryptocurrency mining news today;;Security token offering updates today;;Cryptocurrency wallet new features;;Bitcoin futures market today;;Ethereum network updates today;;Ripple technology advancements today;;Litecoin market analysis today;;Blockchain startup launches today;;Regulatory updates in finance today;;Bankruptcy filings updates today;;Mergers and acquisitions news today;;Antitrust case developments today;;Corporate governance news today'''"
   ]
  },
  {
   "cell_type": "code",
   "execution_count": 6,
   "id": "4f41534d-5b2d-4d12-9f43-edc960daa8cd",
   "metadata": {
    "tags": []
   },
   "outputs": [
    {
     "name": "stdout",
     "output_type": "stream",
     "text": [
      "abstract queries: 252, companies: 697, macro related: 71, keywords: 632, timely: 284\n"
     ]
    }
   ],
   "source": [
    "print(f\"abstract queries: {len(abstract.split(';;'))}, companies: {len(companies.split(';;'))}, macro related: {len(macro.split(';;'))}, keywords: {len(keywords.split(';;'))}, timely: {len(timely.split(';;'))}\")"
   ]
  },
  {
   "cell_type": "code",
   "execution_count": 7,
   "id": "dc924ca4-a661-448b-adc4-7123f1cf2bbc",
   "metadata": {
    "tags": []
   },
   "outputs": [],
   "source": [
    "abstract_queries = [x.lower() for x in abstract.split(';;')]\n",
    "companies_queries = [x.lower() for x in companies.split(';;')]\n",
    "macro_queries = [x.lower() for x in macro.split(';;')]\n",
    "keywords_queries = [x.lower() for x in keywords.split(';;')]\n",
    "timely_queries = [x.lower() for x in timely.split(';;')]"
   ]
  },
  {
   "cell_type": "code",
   "execution_count": 8,
   "id": "b737b51e-53a3-4eae-8e64-3a67eff2db1a",
   "metadata": {
    "tags": []
   },
   "outputs": [],
   "source": [
    "non_financial='''Salman Khan latest movie;;Virat Kohli batting record;;Olympics India medals;;Narendra Modi speech;;Chicken biryani recipe;;Sachin Tendulkar records;;Yoga poses for beginners;;Shahrukh Khan new film;;MS Dhoni retirement news;;Paneer tikka masala recipe;;Indian politics debate;;Rohit Sharma century highlights;;Funny cat videos;;Rajinikanth next project;;PV Sindhu match schedule;;Amitabh Bachchan awards;;Mango lassi recipe;;Cricket World Cup updates;;Kareena Kapoor fitness secrets;;Climate change effects;;Tiger Shroff dance moves;;Badminton championship winners;;Pav bhaji recipe;;Rahul Gandhi interview;;Saina Nehwal training tips;;Alia Bhatt fashion trends;;Kabaddi league results;;Gulab jamun recipe;;IPL auction highlights;;Priyanka Chopra Hollywood news;;Chess grandmaster strategies;;Butter chicken recipe;;Lok Sabha election predictions;;Virat Kohli workout routine;;Hockey World Cup highlights;;Vegetable biryani recipe;;Sunil Chhetri goals;;Bollywood box office;;Neeraj Chopra javelin throw;;Chole bhature recipe;;Deepika Padukone movies;;T20 league updates;;Samosa recipe;;Akshay Kumar stunts;;Parliament session updates;;Anushka Sharma beauty tips;;Football transfer news;;Rasgulla recipe;;Ranveer Singh performances;;Political rally speeches;;Saina Nehwal vs PV Sindhu;;Dal makhani recipe;;Arijit Singh concerts;;Olympic qualification India;;Paneer butter masala recipe;;Lionel Messi vs Cristiano Ronaldo;;Shahid Kapoor fitness regime;;Supreme Court verdicts;;Kidambi Srikanth matches;;Tandoori chicken recipe;;Ajay Devgn upcoming films;;Wrestling championship India;;Masala dosa recipe;;Indian Idol auditions;;Tennis Grand Slam winners;;Fish curry recipe;;Ranbir Kapoor new look;;Badminton training drills;;Pani puri recipe;;Saif Ali Khan cooking show;;Marathon running tips;;Chocolate cake recipe;;Katrina Kaif dance workout;;Squash tournament schedule;;Palak paneer recipe;;John Abraham action scenes;;Cricket batting techniques;;Naan recipe;;Varun Dhawan comedy scenes;;Table tennis techniques;;Matar paneer recipe;;Hrithik Roshan diet plan;;Formula 1 race updates;;Idli sambar recipe;;Kriti Sanon acting tips;;Cycling race champions;;Carrot halwa recipe;;Bollywood celebrity weddings;;Football World Cup favorites;;Ladoo recipe;;Ayushmann Khurrana songs;;Hockey goalkeeper drills;;Jalebi recipe;;Jacqueline Fernandez workout;;Chess opening moves;;Rajma recipe;;Shraddha Kapoor singing;;Kushti traditional wrestling;;Malai kofta recipe;;Cricket sledging moments;;Bollywood dance steps;;Mushroom masala recipe;;Biography of Virat Kohli;;Tennis ace techniques;;Poha recipe;;Indian stand-up comedy;;Gymnastics Olympic trials;;Sponge cake recipe;;Taapsee Pannu thriller movies;;Athletics training regimen;;Aloo paratha recipe;;Bollywood film reviews;;Badminton smash technique;;Gajar ka halwa recipe;;Yo-Yo test in cricket;;Sportsmanship stories;;Momos recipe;;Dangal movie insights;;Motivational sports quotes;;Sarson da saag recipe;;Bollywood fashion icons;;Kabbadi defensive tactics;;Besan ladoo recipe;;Reality TV show auditions;;Cricket umpiring signals;;Rasmalai recipe;;Political satire shows;;Olympic torch history;;Shahi paneer recipe;;Adventure sports in India;;Stand-up paddleboarding tips;;Kheer recipe;;Celebrity fitness secrets;;Mountain biking trails;;Ice cream recipe;;Funny Bollywood dialogues;;Rock climbing basics;;Pizza recipe;;Bollywood vs Hollywood;;Surfing in Goa;;Biryani varieties;;Cute animal memes;;Paragliding safety;;Chocolate mousse recipe;;Top Bollywood villains;;Skateboarding tricks;;Spaghetti recipe;;Hilarious cricket moments;;Street food secrets;;Kayaking techniques;;Brownie recipe;;Indian classical music maestros;;Skiing destinations India;;Banana bread recipe;;Epic Bollywood dance-offs;;Marathon nutrition plan;;Cheesecake recipe;;Famous Bollywood playback singers;;Triathlon training schedule;;Pancake recipe;;Blockbuster Bollywood dialogues;;Chess strategy for beginners;;Strawberry shortcake recipe;;Bollywood choreography tutorials;;Boxing weight classes;;Omelette recipe;;Iconic cricket matches;;Healthy smoothie recipes;;Bollywood themed parties;;Zumba workout for beginners;;Apple pie recipe;;Cricket trivia and facts;;Homemade pasta recipe;;Stand-up comedy specials;;Yoga for stress relief;;Brownie recipe;;Celebrity talk show moments;;DIY home decor ideas;;Nutella crepes recipe;;Parody Bollywood songs;;DIY fashion hacks;;Tiramisu recipe;;Classic Indian jokes;;Sustainable living tips;;Matcha tea benefits;;Upcycling projects for home;;Falafel recipe;;Laugh out loud pranks;;Eco-friendly products;;Quinoa salad recipe;;Viral dance challenges;;Natural beauty remedies;;Lemon tart recipe;;Comedy night lineup;;Herbal tea recipes;;Street style fashion;;Pumpkin soup recipe;;Sketch comedy clips;;Detox water recipes;;Vintage Bollywood posters;;Hot chocolate recipe;;Meme culture in India;;Vegan diet basics;;Sourdough bread recipe;;Popular web series;;Gluten-free recipes;;Homemade pizza dough;;Travel vloggers in India;;Keto diet meals;;Veggie burger recipe;;Bollywood trivia quizzes;;Plant-based protein sources;;Stuffed paratha recipe;;Social media influencers;;Organic gardening tips;;Mango smoothie recipe;;Youth empowerment initiatives;;Creative writing prompts;;Mixed berry compote recipe;;Public speaking tips;;Homemade ice cream flavors;;Photography contest themes;;Cucumber sandwich recipe;;E-learning resources;;Cocktail mixing techniques;;DIY beauty treatments;;Spicy chicken wings recipe;;Podcast recommendations;;Juicing for health;;Spinach quiche recipe;;Cultural festivals in India;;Herb gardening basics;;Chocolate chip cookie recipe;;Art and craft tutorials;;Fruit tart recipe;;Binge-worthy TV shows;;Culinary workshop experiences;;Avocado toast variations;;Poetry slam events;;Breakfast smoothie bowls;;Cultural heritage sites;;Veggie stir-fry recipe;;Music festival lineups;;Homemade granola bars;;Historical landmarks tours;;Tomato soup recipe;;Contemporary dance moves;;Green smoothie recipes;;Art exhibition openings;;Banana pancake recipe;;Literary cafe readings;;Refreshing salad recipes;;Street art tours;;Caramel latte recipe;;Book club selections;;Detox salad recipes;;Open mic nights;;Custom cake designs;;Motivational workout playlists;;Baking basics class;;Summer fruit salad;;Film photography tips;;Classic margarita recipe;;DIY home workout equipment;;Roasted vegetable recipes;;Sustainable fashion brands;;Pasta primavera recipe;;Mindfulness meditation guides;;Grilled cheese variations;;Eco-tourism spots;;Chickpea curry recipe;;Creative journaling ideas;;Sweet potato fries recipe;;Thrifting and vintage shopping;;Lentil soup recipe;;Indie music artists;;Mushroom risotto recipe;;Community service projects;;Vegan chocolate cake;;Upcoming art fairs;;Tofu scramble recipe;;Freelancing tips for beginners;;Quiche Lorraine recipe;;Yoga retreats in India;;Vegetarian chili recipe;;Start-up pitch events;;Fruit popsicle recipes;;Digital detox strategies;;Vegetable lasagna recipe;;Ted Talks on innovation;;Cucumber gazpacho recipe;;Cultural exchange programs;;Black bean burger recipe;;Personal development workshops;;Apple crisp recipe;;Outdoor adventure clubs;;Vegetarian sushi rolls;;Networking events for creatives;;Homemade jam recipes;;Women's leadership forums;;Zucchini noodle recipe;;Philanthropy and charity galas;;Peanut butter cookie recipe;;Youth leadership conferences;;Stuffed bell peppers recipe;;Artisanal craft markets;;Chocolate fondue recipe;;Eco-friendly living workshops;;Basil pesto pasta recipe;;Photography exhibitions;;Oatmeal raisin cookies recipe;;Cultural appreciation societies;;Lemon meringue pie recipe;;Innovative tech meetups;;Spinach and feta pie recipe;;Social entrepreneurship forums;;Carrot cake recipe;;Creative writing workshops;;Pumpkin pie recipe;;Film screening and discussion panels;;Ratatouille recipe;;Music composition classes;;Sweet and sour tofu recipe;;Art therapy sessions;;Fluffy pancake recipe;;Entrepreneurial bootcamps;;Tomato bruschetta recipe;;Professional development seminars;;Peach cobbler recipe;;Outdoor photography walks;;Vegetable tempura recipe;;Literary magazine launches;;Strawberry cheesecake recipe;;Community gardening initiatives;;Red velvet cake recipe;;Public speaking workshops;;Mediterranean salad recipe;;Artisan bread baking;;Mint mojito recipe;;Cultural dance classes;;Spicy tofu stir-fry recipe;;Youth mentorship programs;;Homemade salsa recipe;;Environmental conservation talks;;Blueberry muffins recipe;;Career counseling sessions;;Cherry pie recipe;;Social justice panels;;Vegetable spring rolls recipe;;Mental health awareness events;;Key lime pie recipe;;Networking mixers for professionals;;Raspberry sorbet recipe;;Film appreciation clubs;;Garlic bread recipe;;Civic engagement forums;;Pineapple upside-down cake recipe;;Leadership development programs;;Mac and cheese recipe;;Innovation and design thinking workshops;;Lemon bars recipe;;Outdoor survival skills training;;Chocolate lava cake recipe;;Entrepreneurship case studies;;Banana bread recipe'''"
   ]
  },
  {
   "cell_type": "code",
   "execution_count": 9,
   "id": "18eb558c-09b6-466c-9dd5-47ca247cb317",
   "metadata": {
    "tags": []
   },
   "outputs": [
    {
     "data": {
      "text/plain": [
       "365"
      ]
     },
     "execution_count": 9,
     "metadata": {},
     "output_type": "execute_result"
    }
   ],
   "source": [
    "len(non_financial.split(';;'))"
   ]
  },
  {
   "cell_type": "code",
   "execution_count": 10,
   "id": "0cddfcd1-2328-4392-bd00-e633d36870ce",
   "metadata": {
    "tags": []
   },
   "outputs": [],
   "source": [
    "non_financial_queries = [x.lower() for x in non_financial.split(';;')]"
   ]
  },
  {
   "cell_type": "code",
   "execution_count": 11,
   "id": "5cc245ac-b9ff-48d5-a678-d4c49e530ec3",
   "metadata": {
    "tags": []
   },
   "outputs": [],
   "source": [
    "all_queries = abstract_queries + companies_queries + macro_queries + keywords_queries + timely_queries + non_financial_queries + insight_queries"
   ]
  },
  {
   "cell_type": "code",
   "execution_count": 12,
   "id": "48c2f606-dba3-4403-8764-e1170dd54c0c",
   "metadata": {
    "tags": []
   },
   "outputs": [
    {
     "data": {
      "text/plain": [
       "2863"
      ]
     },
     "execution_count": 12,
     "metadata": {},
     "output_type": "execute_result"
    }
   ],
   "source": [
    "len(all_queries)"
   ]
  },
  {
   "cell_type": "code",
   "execution_count": 13,
   "id": "7473c870-cd5f-44ca-9497-cd9a30bb19fc",
   "metadata": {
    "tags": []
   },
   "outputs": [
    {
     "data": {
      "text/plain": [
       "2727"
      ]
     },
     "execution_count": 13,
     "metadata": {},
     "output_type": "execute_result"
    }
   ],
   "source": [
    "len(set(all_queries))"
   ]
  },
  {
   "cell_type": "code",
   "execution_count": 14,
   "id": "88647266-6907-4ab5-93cd-a69ad46e8bc3",
   "metadata": {
    "tags": []
   },
   "outputs": [],
   "source": [
    "unique_queries = list(set(all_queries))"
   ]
  },
  {
   "cell_type": "markdown",
   "id": "6f69cdf3-727f-4d7b-a249-3477ac4356be",
   "metadata": {},
   "source": [
    "#### Save queries to file"
   ]
  },
  {
   "cell_type": "code",
   "execution_count": 25,
   "id": "c8c59a85-4d74-4b4d-8f2b-c51e9d50102a",
   "metadata": {
    "tags": []
   },
   "outputs": [],
   "source": [
    "# with open('queries.txt','w') as tfile:\n",
    "# \ttfile.write('\\n'.join(all_queries))"
   ]
  },
  {
   "cell_type": "code",
   "execution_count": 26,
   "id": "514ac8fa-ca6e-4dd6-b13e-d7040da22be5",
   "metadata": {
    "tags": []
   },
   "outputs": [],
   "source": [
    "from src.QueryService import QueryService"
   ]
  },
  {
   "cell_type": "markdown",
   "id": "69f02ac2-0157-4905-9544-9febdb3e8eba",
   "metadata": {},
   "source": [
    "### Getting query understanding"
   ]
  },
  {
   "cell_type": "code",
   "execution_count": 23,
   "id": "eabe171d-9fbc-4f13-829c-80f1577e158e",
   "metadata": {
    "tags": []
   },
   "outputs": [],
   "source": [
    "with open('queries.txt', 'r') as tfile:\n",
    "    all_queries = tfile.read().split('\\n')"
   ]
  },
  {
   "cell_type": "code",
   "execution_count": 27,
   "id": "ebb2878e-3163-43ff-943a-6c68e3380121",
   "metadata": {
    "tags": []
   },
   "outputs": [],
   "source": [
    "unique_queries = list(set(all_queries))"
   ]
  },
  {
   "cell_type": "code",
   "execution_count": 28,
   "id": "3fad2bdb-124c-4a70-bb83-dd0279a7c4d9",
   "metadata": {
    "tags": []
   },
   "outputs": [],
   "source": [
    "import numpy as np"
   ]
  },
  {
   "cell_type": "code",
   "execution_count": 29,
   "id": "ec51010e-bcc4-4871-bff3-a9c6328f5de2",
   "metadata": {
    "tags": []
   },
   "outputs": [],
   "source": [
    "np.random.shuffle(unique_queries)"
   ]
  },
  {
   "cell_type": "code",
   "execution_count": 30,
   "id": "581e48d7-0237-4194-813a-6e4b82966413",
   "metadata": {
    "scrolled": true,
    "tags": []
   },
   "outputs": [
    {
     "data": {
      "text/plain": [
       "['bcci',\n",
       " 'securities lending news today',\n",
       " 'social media influencers',\n",
       " \"the new india assurance company's insurance services\",\n",
       " \"ujjivan small finance bank's banking and financial services\",\n",
       " 'rock climbing basics',\n",
       " 'security token offerings news',\n",
       " 'tata consumer share price live',\n",
       " \"irctc's rail ticketing and catering services\",\n",
       " 'pension fund returns today',\n",
       " 'sbi life insurance stock analysis',\n",
       " 'gold investment',\n",
       " 'sensex daily performance',\n",
       " \"kotak mahindra bank's banking and financial services\",\n",
       " 'regulatory frameworks',\n",
       " 'loans',\n",
       " 'current status of indian steel industry',\n",
       " 'asian paints stock price',\n",
       " \"the ramco cements' cement manufacturing\",\n",
       " 'disaster recovery',\n",
       " 'best savings account interest rates in india',\n",
       " 'dividend stocks',\n",
       " 'online trading',\n",
       " 'economic stimulus news today',\n",
       " 'latest fdi policy india',\n",
       " 'shahi paneer recipe',\n",
       " 'taapsee pannu thriller movies',\n",
       " \"bharat heavy electricals' heavy electrical equipment\",\n",
       " 'brand strategies',\n",
       " 'sunpharma share price live',\n",
       " 'long-term impact of gst on indian economy',\n",
       " \"today's top losers in stock market\",\n",
       " \"sundaram finance's financial services\",\n",
       " 'vc deals',\n",
       " 'homemade pizza dough',\n",
       " \"vst tillers tractors' agricultural machinery\",\n",
       " \"manappuram finance's gold loan services\",\n",
       " 'insurtech',\n",
       " \"tata motors finance's vehicle financing\",\n",
       " \"pidilite industries' adhesives and sealants\",\n",
       " 'public bicycles',\n",
       " 'innovation hubs',\n",
       " 'emerging economies today',\n",
       " \"bank of baroda's banking services\",\n",
       " 'gst impact on the service industry',\n",
       " 'imports data',\n",
       " 'retail investors',\n",
       " 'ongc share price live',\n",
       " 'career advancement',\n",
       " \"aia engineering's high chrome mill internals\",\n",
       " 'selfmade millionaire says choosing to rent instead of buying a home is one of the best financial decisions i ever made',\n",
       " 'virtual reality investments today',\n",
       " 'current trends in indian bond market',\n",
       " \"sebi's initiatives in risk management for financial markets\",\n",
       " 'analysis of indian dairy exports',\n",
       " 'insurance sector reforms india',\n",
       " \"adani transmission's power transmission\",\n",
       " \"adani green energy's renewable energy projects\",\n",
       " 'salman khan latest movie',\n",
       " 'apple',\n",
       " 'antitrust case developments today',\n",
       " 'tech expos',\n",
       " 'women in finance',\n",
       " 'conservation efforts',\n",
       " 'dmr',\n",
       " 'what are pms',\n",
       " 'how 2 to spend wisely',\n",
       " 'student exchanges',\n",
       " 'robo-advisor news today',\n",
       " 'oecd reports',\n",
       " 'banking stability',\n",
       " \"tv18 broadcast's media and entertainment services\",\n",
       " 'fruit tart recipe',\n",
       " 'digital tools',\n",
       " 'hdfc',\n",
       " 'options and futures today',\n",
       " \"wipro's expansion in digital services\",\n",
       " \"niit technologies' it services and solutions\",\n",
       " 'interest rate futures',\n",
       " 'market liquidity',\n",
       " 'daily news',\n",
       " 'green bond issuances today',\n",
       " 'futures contracts',\n",
       " 'roasted vegetable recipes',\n",
       " 'trade agreement news today',\n",
       " 'impact of commodity price volatility on indian markets',\n",
       " \"bharti airtel's 5g rollout plans\",\n",
       " 'whatisxirr',\n",
       " 'analysis of indian spices exports',\n",
       " 'unemployment data release today',\n",
       " \"muthoot finance's gold loan services\",\n",
       " \"basf india's chemicals and materials\",\n",
       " 'bankruptcy filings updates today',\n",
       " 'chess opening moves',\n",
       " \"radico khaitan's alcoholic beverages\",\n",
       " 'irfc should i buy',\n",
       " 'unitech',\n",
       " 'national debt',\n",
       " \"dr. reddy's laboratories' pharmaceuticals\",\n",
       " 'supply chain optimization',\n",
       " 'analysis of indian leather industry',\n",
       " 'chicken biryani recipe',\n",
       " 'keynote speakers',\n",
       " 'transport planning',\n",
       " 'stand-up paddleboarding tips',\n",
       " 'squash tournament schedule',\n",
       " 'rbis digital currency plan',\n",
       " 'ipo calendar india',\n",
       " 'fraud detection',\n",
       " 'global brands',\n",
       " 'bitcoin futures market today',\n",
       " 'consumer markets',\n",
       " 'long-term investment strategies in india',\n",
       " 'best mutual funds',\n",
       " 'upcoming financial technology trends',\n",
       " 'film appreciation clubs',\n",
       " 'latest news on indian tax reforms',\n",
       " 'digital currencies',\n",
       " 'income disparity',\n",
       " \"home first finance company india's housing finance\",\n",
       " 'detox water recipes',\n",
       " \"interglobe aviation's indigo airline\",\n",
       " 'e-payment systems',\n",
       " 'self made millionaire says choosing to rent instead of buying a home is one of the best financial decisions i ever made',\n",
       " 'cocktail mixing techniques',\n",
       " \"aavas financiers' housing finance\",\n",
       " 'nifty midcap stocks to watch',\n",
       " 'financial tech startups funding today',\n",
       " 'plan for education',\n",
       " 'best practices for budgeting in india',\n",
       " 'bajaj finserv share price live',\n",
       " \"godrej agrovet's agribusiness\",\n",
       " 'russia sanctions',\n",
       " \"hindustan zinc's zinc and lead production\",\n",
       " 'audit tools',\n",
       " 'physical gold ownership limit in india',\n",
       " 'legislative changes',\n",
       " 'ultratech',\n",
       " 'why this kolaveri',\n",
       " 'vintage bollywood posters',\n",
       " 'impact of oil prices on indian economy',\n",
       " \"balkrishna paper mills' paper manufacturing\",\n",
       " 'save for big purchases',\n",
       " 'recovery signs',\n",
       " 'fundamental analysis',\n",
       " 'rohit sharma century highlights',\n",
       " 'financial crises',\n",
       " 'naan recipe',\n",
       " \"bharat bijlee's electrical engineering\",\n",
       " \"lupin's pharmaceuticals\",\n",
       " 'chemical industry news today',\n",
       " 'shipping and maritime',\n",
       " \"hindalco industries' aluminum market strategies\",\n",
       " \"nbcc india's real estate development\",\n",
       " \"l&t finance holdings' investment services\",\n",
       " 'decoding gst and other tax regulations a comprehensive guide for indian financial enthusiastsintroductionunderstanding gst and other tax reg',\n",
       " 'smart koney',\n",
       " \"bank of india's banking services\",\n",
       " 'sustainability goals',\n",
       " \"hdfc life's insurance products\",\n",
       " 'sustainable living tips',\n",
       " 'loan',\n",
       " 'latest developments in indian space technology',\n",
       " \"analysis of india's consumer spending trends\",\n",
       " 'crowdfunding campaign launches',\n",
       " 'sensex news',\n",
       " 'industrial policy',\n",
       " 'tata power stock',\n",
       " 't20 league updates',\n",
       " \"ajanta pharma's pharmaceuticals\",\n",
       " 'inox ipo',\n",
       " 'can i invest in soverign gold bonds',\n",
       " 'diy home decor ideas',\n",
       " \"dewan housing finance corporation's housing finance\",\n",
       " 'real estate investment opportunities today',\n",
       " 'mobile banking',\n",
       " \"max financial services' life insurance and financial services\",\n",
       " 'investopedia',\n",
       " 'rasgulla recipe',\n",
       " 'ways to invest in real estate in india',\n",
       " 'analysis of indian cosmetic industry',\n",
       " 'tips for investing in the indian stock market',\n",
       " 'nifty 50 market analysi',\n",
       " 'small business growth strategies today',\n",
       " \"au small finance bank's banking services\",\n",
       " 'what is xirr',\n",
       " 'climate finance',\n",
       " 'import substitution',\n",
       " 'mutual fund',\n",
       " 'risk management tools today',\n",
       " \"kansai nerolac paints' coatings business\",\n",
       " 'market indices',\n",
       " \"3m india's diversified technology\",\n",
       " 'gold',\n",
       " 'what is the latest petrol price',\n",
       " 'cultural heritage',\n",
       " 'export promotion',\n",
       " 'real-time economic data releases',\n",
       " 'regulatory technology (regtech) news today',\n",
       " 'vocational training',\n",
       " \"gst's role in economic formalization\",\n",
       " 'priyanka chopra hollywood news',\n",
       " 'analysis of indian automobile sector',\n",
       " \"idfc first bank's banking services\",\n",
       " 'tata power q3',\n",
       " 'rbi monetary policy update',\n",
       " \"coal india's coal mining\",\n",
       " \"emami's consumer goods\",\n",
       " 'non-profit financial management today',\n",
       " \"ultratech cement's cement and building materials\",\n",
       " 'online resources',\n",
       " 'latest sebi regulations 2023',\n",
       " 'women entrepreneurs in india',\n",
       " 'how to manage debt effectively in india',\n",
       " \"persistent systems' software services\",\n",
       " \"kec international's power transmission projects\",\n",
       " 'taxi services',\n",
       " 'india focused llm',\n",
       " 'freight transport',\n",
       " 'crypto price today',\n",
       " \"bajaj finance's financial services\",\n",
       " 'youth mentorship programs',\n",
       " 'mutual funds to invest for next 3 years',\n",
       " 'wint blogs',\n",
       " \"mahindra & mahindra's automotive and farm equipment\",\n",
       " 'security token offering updates today',\n",
       " 'palak paneer recipe',\n",
       " 'crypto prices',\n",
       " 'fruit popsicle recipes',\n",
       " 'solar investments',\n",
       " 'tax law changes announced today',\n",
       " 'sam',\n",
       " 'kkr',\n",
       " 'gender pay gap analysis today',\n",
       " 'stocks to buy',\n",
       " 'mushroom risotto recipe',\n",
       " 'msme financing in india',\n",
       " \"kotak mahindra asset management company's asset management\",\n",
       " \"vaibhav global's jewelry retail\",\n",
       " 't 0 settlement advantage',\n",
       " 'sweet and sour tofu recipe',\n",
       " 'indian idol auditions',\n",
       " 'street style fashion',\n",
       " 'inventory management',\n",
       " \"havells india's electrical equipment\",\n",
       " 'asset allocation',\n",
       " 'precious metals market today',\n",
       " \"aditya birla fashion and retail's fashion retail\",\n",
       " 'nps benefits and drawback',\n",
       " 'wintwealth',\n",
       " 'labor market trends today',\n",
       " 'tata stock',\n",
       " \"hindustan unilever's consumer goods\",\n",
       " 'automobile industry trends india',\n",
       " 'athletics training regimen',\n",
       " 'team building',\n",
       " 'structured finance products today',\n",
       " \"dlf's role in indian real estate\",\n",
       " 'live',\n",
       " \"varroc engineering's automotive components\",\n",
       " 'equity regulations',\n",
       " \"kalyan jewellers' gold and diamond jewelry\",\n",
       " \"godrej properties' real estate development\",\n",
       " 'agricultural sector growth in india',\n",
       " 'what is blockchain',\n",
       " 'shraddha kapoor singing',\n",
       " 'research and development',\n",
       " 'paisa waisa',\n",
       " 'diversity and inclusion initiatives today',\n",
       " \"bata india's footwear market\",\n",
       " \"indian oil corporation's petroleum refining\",\n",
       " 'public-private partnerships',\n",
       " 'how to manage student loans in india',\n",
       " 'poetry slam events',\n",
       " 'steel production news today',\n",
       " 'wealth tax',\n",
       " 'airtel vs jio: best telecom services',\n",
       " 'food systems',\n",
       " 'warren buffet',\n",
       " 'disease prevention',\n",
       " 'best shawarma in india',\n",
       " 'contemporary dance moves',\n",
       " 'inflation trends',\n",
       " 'indian economic policy change',\n",
       " \"pidilite industries' adhesive market\",\n",
       " 'capital gains',\n",
       " 'risk management',\n",
       " 'remote work policies today',\n",
       " \"marico's consumer goods market\",\n",
       " \"analysis of india's balance of payments\",\n",
       " 'best users',\n",
       " 'how to save tax while buying a car',\n",
       " 'whats different elss investment opportunities',\n",
       " 'jio financial service business model',\n",
       " 'how to get out of debt trap',\n",
       " 'ewallets market share india',\n",
       " 'microcredit',\n",
       " 'homeownership',\n",
       " 'economic growth',\n",
       " 'economic summits',\n",
       " \"bhel's engineering and manufacturing\",\n",
       " 'fire',\n",
       " \"biocon biologics' biosimilar products\",\n",
       " 'shanghai exchange',\n",
       " 'commodity exchanges',\n",
       " 'upcoming trends in indian fintech sector',\n",
       " \"abb india's power and automation technologies\",\n",
       " 'debt restructuring',\n",
       " 'how to fuck',\n",
       " 'fpi',\n",
       " 'popular web series',\n",
       " 'save for big purchase in the future',\n",
       " 'upcoming trends in indian agrotech sector',\n",
       " 'how to invest in stock market for beginners in india',\n",
       " 'saina nehwal vs pv sindhu',\n",
       " 'who made you when were you created',\n",
       " 'public sector banks in india',\n",
       " 'poverty alleviation',\n",
       " \"eicher motors' royal enfield sales in india\",\n",
       " 'should i invest in bitcoin',\n",
       " \"hindustan zinc's mining operations\",\n",
       " 'tttttttttnv',\n",
       " 'dda',\n",
       " 'pe ratio',\n",
       " 'how to save money for big purchases',\n",
       " 'social impact investing in india',\n",
       " 'gold rates',\n",
       " 'news',\n",
       " 'virat kohli workout routine',\n",
       " 'adani ent share price live',\n",
       " \"adani ports and special economic zone's port operations\",\n",
       " 'analysis of indian cold chain industry',\n",
       " 'potus',\n",
       " \"reliance industries' conglomerate business\",\n",
       " 'nifty today',\n",
       " 'budget news',\n",
       " \"the jammu & kashmir bank's banking services\",\n",
       " \"teamlease services' staffing and hr services\",\n",
       " 'cricket sledging moments',\n",
       " 'biography of virat kohli',\n",
       " 'credit rating agency latest reports',\n",
       " 'latest budget news',\n",
       " 'best practices for investing in mutual funds in india',\n",
       " 'machine learning',\n",
       " 'parody bollywood songs',\n",
       " 'food security',\n",
       " 'stocks for the day',\n",
       " 'artisan bread baking',\n",
       " 'blockchain tech',\n",
       " 'impact of monsoon on indian agriculture stocks',\n",
       " 'recent changes in indian tax law',\n",
       " 'current state of indian logistics industry',\n",
       " 'latest commodity trading strategies',\n",
       " 'state of venture capital in india',\n",
       " 'energy grids',\n",
       " 'stock market',\n",
       " 'what are some shares which are similar to facebook',\n",
       " 'trends in foreign direct investment in india',\n",
       " 'impact of global warming on indian economy',\n",
       " 'tech earnings reports released today',\n",
       " '100cc bike',\n",
       " 'today gold price',\n",
       " 'japan recession',\n",
       " 'regulatory updates in finance today',\n",
       " 'tax slabs',\n",
       " \"neogen chemicals' specialty chemicals\",\n",
       " \"pi industries' agrochemicals and fine chemicals\",\n",
       " 'recent trends in indian artificial intelligence',\n",
       " 'film screening and discussion panels',\n",
       " \"infosys' it services\",\n",
       " 'training and development',\n",
       " 'consumer insights',\n",
       " \"tata power's energy portfolio\",\n",
       " \"rain industries' carbon products and chemicals\",\n",
       " 'motivational workout playlists',\n",
       " \"thomas cook india's travel and tourism services\",\n",
       " 'what is the latest infosys share price',\n",
       " '52 week high stock',\n",
       " \"supreme industries' plastic products\",\n",
       " \"rallis india's agrochemicals and seeds\",\n",
       " 'cryptocurrency regulations in india',\n",
       " 'nafta changes',\n",
       " 'analysis of indian food processing industry',\n",
       " 'capital markets innovation today',\n",
       " 'l get gggggg',\n",
       " 'bajaj auto share price live',\n",
       " 'growth of e-learning in india post-covid',\n",
       " 'entrepreneurship case studies',\n",
       " 'nestle ind share price live',\n",
       " 'b2c firms',\n",
       " 'online business loans in india',\n",
       " \"tvs motor company's motorcycle and scooter manufacturing\",\n",
       " \"ashiana housing's real estate development\",\n",
       " 'what is the limit for 80c in income tax',\n",
       " 'small-cap stocks',\n",
       " 'ways to build credit history in india',\n",
       " \"godrej industries' diversified business\",\n",
       " 'investment opportunities in indian education sector',\n",
       " 'latest news on indian digital currency',\n",
       " 'skill development',\n",
       " 'spinach quiche recipe',\n",
       " 'climate change effects',\n",
       " 'indian budget highlight',\n",
       " 'paramount shares',\n",
       " \"sebi's policies on market manipulation and insider trading\",\n",
       " \"future consumer's consumer goods\",\n",
       " 'pan',\n",
       " 'chess strategy for beginners',\n",
       " 'government bonds investment in india',\n",
       " \"cipla's pharmaceuticals\",\n",
       " 'indian economic growth forecast',\n",
       " 'ranchod das',\n",
       " 'asian paint stock price',\n",
       " 'best way to do sql injection in spring boot project',\n",
       " 'energy policies',\n",
       " 'sajjan jindal',\n",
       " \"carborundum universal's abrasives and ceramics\",\n",
       " 'mutual funds',\n",
       " 'charlie munger',\n",
       " 'literacy programs',\n",
       " 'export credit news today',\n",
       " 'reality tv show auditions',\n",
       " 'algorithmic trading news today',\n",
       " 'pharmaceutical industry news today',\n",
       " 'trade finance',\n",
       " 'how to build a diversified investment portfolio in india',\n",
       " 'indian rupee exchange rate forecast',\n",
       " \"steel authority of india's steel production\",\n",
       " \"l&t finance holdings' financial services\",\n",
       " 'urban infrastructure development india',\n",
       " 'government spending',\n",
       " 'sustainable practices',\n",
       " 'nifty insights',\n",
       " 'gaming industry revenue today',\n",
       " 'entrepreneurship ecosystem news today',\n",
       " 'trade deficit',\n",
       " 'bollywood box office',\n",
       " 'what shares should i buy now',\n",
       " 'stock exchange updates today',\n",
       " 'icici',\n",
       " 'gst',\n",
       " \"century enka's synthetic yarns\",\n",
       " 'social justice',\n",
       " \"the great eastern shipping company's shipping and offshore services\",\n",
       " 'mutual funds for retirement savings',\n",
       " \"ambuja cements' cement manufacturing\",\n",
       " 'how to file taxes',\n",
       " \"sharda cropchem's agrochemicals and chemicals\",\n",
       " 'scootersharing',\n",
       " \"bajaj electricals' consumer appliances\",\n",
       " 'upl share price live',\n",
       " 'distance education',\n",
       " \"dlf cyber city's commercial real estate\",\n",
       " 'how to plan for retirement',\n",
       " 'recent trends in indian online retail',\n",
       " 'biryani varieties',\n",
       " 'india gdp',\n",
       " 'best mutual funds 2024',\n",
       " 'analysis of the indian hospitality industry',\n",
       " 'implications of changing global interest rates on indian finance',\n",
       " 'consumer behavior trends india',\n",
       " 'edtech startup news today',\n",
       " \"arvind's textile and apparel manufacturing\",\n",
       " 'dmr engineering stock price',\n",
       " 'narendra modi speech',\n",
       " 'latest trade agreement impacts',\n",
       " 'hero motor co share price live',\n",
       " 'yoga for stress relief',\n",
       " \"how to plan for children's education in india\",\n",
       " \"rbi's strategies for managing public sector banks\",\n",
       " 'private equity investment news',\n",
       " 'growth of online retail in india post-c',\n",
       " \"cyient's engineering and technology solutions\",\n",
       " \"zee entertainment enterprises' media and entertainment services\",\n",
       " 'capital market',\n",
       " 'data analytics',\n",
       " 'gig economy impact today',\n",
       " \"jk lakshmi cement's cement manufacturing\",\n",
       " 'debt management strategies today',\n",
       " 'government budget news today',\n",
       " 'crowdlending',\n",
       " 'growth of online education in india post-covid',\n",
       " 'fdi trends today',\n",
       " 'culinary workshop experiences',\n",
       " 'custom cake designs',\n",
       " 'save for big purchase',\n",
       " 'plan a trip to bali',\n",
       " 'worker rights',\n",
       " 'new government policy announcements',\n",
       " 'public speaking workshops',\n",
       " \"suprajit engineering's automotive cables\",\n",
       " \"gmr infrastructure's airport development\",\n",
       " 'blockchain adoption news',\n",
       " \"tata consumer products' food and beverage products\",\n",
       " 'baking basics class',\n",
       " 'film and television',\n",
       " \"index fund today's performance\",\n",
       " 'how to plan a budget-friendly vacation in india',\n",
       " 'inflation management',\n",
       " 'current state of indian coal industry',\n",
       " 'spicy tofu stir-fry recipe',\n",
       " 'kayaking techniques',\n",
       " \"asian paints' decorative coatings\",\n",
       " 'cucumber sandwich recipe',\n",
       " 'tourism development',\n",
       " 'currency exchange rates today',\n",
       " 'trade conferences',\n",
       " 'what is zerodha',\n",
       " 'technology platforms',\n",
       " 'market cap',\n",
       " \"oberoi realty's real estate development\",\n",
       " 'reliance share price',\n",
       " 'diy fashion hacks',\n",
       " 'tennis grand slam winners',\n",
       " 'derivatives trading news today',\n",
       " 'trade tariff updates today',\n",
       " 'omelette recipe',\n",
       " \"karnataka bank's banking services\",\n",
       " 'celebrity endorsements',\n",
       " 'profit booking',\n",
       " 'funny bollywood dialogues',\n",
       " \"indiamart intermesh's online marketplace\",\n",
       " 'bangalore',\n",
       " 'growth of e-commerce in india post-covid',\n",
       " 'blockchain in finance news today',\n",
       " 'recent trends in indian solar power projects',\n",
       " 'economic times article finance minister nirmala sitharaman arrives at north block ahead of budget 2024',\n",
       " 'recent developments in indian renewable energy policies',\n",
       " 'yoga poses for beginners',\n",
       " 'share market today',\n",
       " 'how to start a fitness business in india',\n",
       " 'axis bank stock performance analysis',\n",
       " 'budgeting app updates',\n",
       " 'media industry earnings today',\n",
       " 'iconic cricket matches',\n",
       " 'g20 meetings',\n",
       " 'cybersecurity solutions today',\n",
       " \"safari industries india's luggage and travel accessories\",\n",
       " 'vegan diet basics',\n",
       " 'chocolate chip cookie recipe',\n",
       " \"dilip buildcon's infrastructure construction\",\n",
       " 'cucumber gazpacho recipe',\n",
       " 'high-frequency trading (hft) news today',\n",
       " 'juicing for health',\n",
       " 'sbi',\n",
       " 'fluffy pancake recipe',\n",
       " 'oil prices today',\n",
       " \"zyduscadila's pharmaceuticals\",\n",
       " 'prepaid cards',\n",
       " \"upl's agrochemical market share\",\n",
       " 'book club selections',\n",
       " \"siemens india's technology and engineering\",\n",
       " 'neeraj chopra javelin throw',\n",
       " 'best stocks for 2024',\n",
       " 'development goals',\n",
       " 'homemade salsa recipe',\n",
       " 'homemade ice cream flavors',\n",
       " 'upcoming art fairs',\n",
       " \"shriram transport finance's commercial vehicle finance\",\n",
       " \"bodal chemicals' dyestuffs and chemicals\",\n",
       " \"united spirits' alcoholic beverages\",\n",
       " \"astral poly technik's plumbing and drainage systems\",\n",
       " 'recent trends in indian online shopping',\n",
       " 'economic downturns',\n",
       " 'how to invest in bonds',\n",
       " \"hindustan aeronautics' aerospace and defense\",\n",
       " 'active transportation',\n",
       " 'reliance',\n",
       " 'aviation sector updates today',\n",
       " 'brexit impact',\n",
       " \"dhanlaxmi bank's banking services\",\n",
       " \"equitas small finance bank's banking services\",\n",
       " 'political rally speeches',\n",
       " \"sjvn's hydroelectric power generation\",\n",
       " 'oligopoly',\n",
       " 'is ulip better thannormalinsurance ',\n",
       " \"hdfc amc's asset management services\",\n",
       " 'green bonds',\n",
       " 'live gold rate on 1st january 2024',\n",
       " 'healthcare access',\n",
       " 'fuck',\n",
       " 'lt share price live',\n",
       " 'upcoming trends in indian edtech sector',\n",
       " 'top shares in nifty next week',\n",
       " 'balance sheets',\n",
       " 'current state of indian railway infrastructure',\n",
       " 'manipur',\n",
       " 'blueberry muffins recipe',\n",
       " 'credit facilities',\n",
       " 'coaching and guidance',\n",
       " 'top shares in nifty this week',\n",
       " \"asian granito india's tiles and marbles\",\n",
       " 'economic empowerment',\n",
       " \"wipro's technology solutions\",\n",
       " 'olympic torch history',\n",
       " 'ayushmann khurrana songs',\n",
       " 'battery tech',\n",
       " 'api banking',\n",
       " 'personal finance management for young adults in india',\n",
       " 'hockey world cup highlights',\n",
       " 'congre',\n",
       " 'britannia share price live',\n",
       " 'analysis of indian organic food exports',\n",
       " 'litecoin market analysis today',\n",
       " \"titan company's watches and jewelry\",\n",
       " 'trade secret protection today',\n",
       " 'ways to invest in indian startups',\n",
       " \"jmc projects' construction and engineering\",\n",
       " 'wellness tech news today',\n",
       " 'what is the difference between epf and nps',\n",
       " 'venture capital deals closed today',\n",
       " 'recent trends in indian digital media',\n",
       " \"syngene international'scontract research and manufacturing\",\n",
       " 'haryana',\n",
       " 'workshops and trainings',\n",
       " 'government securities today',\n",
       " 'tips for buying property in india',\n",
       " 'public service',\n",
       " 'cryptocurrency mining news today',\n",
       " 'hunger relief',\n",
       " 'what is the sensex of the value computed today',\n",
       " 'augmented reality',\n",
       " 'consumer trends in india',\n",
       " 'commodity trading',\n",
       " 'online trading platforms in india',\n",
       " 'economic forecasts',\n",
       " 'e-commerce platforms',\n",
       " 'moneycontrol',\n",
       " 'impact of digital currency on indian economy',\n",
       " \"indian oil corporation's energy diversification\",\n",
       " 'indian manufacturing sector outlook',\n",
       " \"icici lombard's general insurance services\",\n",
       " \"narayana hrudayalaya's healthcare services\",\n",
       " 'virtual classrooms',\n",
       " 'is nasdaq overvalued right now',\n",
       " 'top shares across india',\n",
       " 'parliament session updates',\n",
       " 'retirement planning updates today',\n",
       " \"csb bank's banking services\",\n",
       " 'credit card usage trends in india',\n",
       " 'election impacts',\n",
       " 'infosys',\n",
       " 'leadership development programs',\n",
       " \"bajaj finserv's financial services\",\n",
       " 'eco-friendly products',\n",
       " 'air transport',\n",
       " \"lupin's pharmaceutical formulations\",\n",
       " 'blockchain technology in indian banking',\n",
       " 'technology transfer',\n",
       " 'financial inclusion',\n",
       " 'startup ipos',\n",
       " \"reliance infrastructure's infrastructure development\",\n",
       " \"crompton greaves' consumer electricals\",\n",
       " 'apple crisp recipe',\n",
       " 'mixed berry compote recipe',\n",
       " \"sebi's approach to esg (environmental, social, and governance) investing\",\n",
       " 'university collaborations',\n",
       " 'fiscal deficit',\n",
       " \"equitas holdings' financial services\",\n",
       " \"vedanta resources' mining operations\",\n",
       " 'tell me a myth in finance',\n",
       " 'jindal',\n",
       " 'chickpea curry recipe',\n",
       " \"cummins india's power solutions\",\n",
       " 'top shares',\n",
       " 'global economic update today',\n",
       " 'leadership development',\n",
       " 'community development financial news today',\n",
       " \"canara bank's banking and financial services\",\n",
       " 'infrastructure financing news today',\n",
       " \"ntpc's power generation\",\n",
       " \"endurance technologies' automotive components\",\n",
       " 'share buyback',\n",
       " 'political debates',\n",
       " 'machine learning developments today',\n",
       " \"aditya birla group's conglomerate strategies\",\n",
       " 'it sector growth in india',\n",
       " 'peer-to-peer lending rates today',\n",
       " 'itc share price live',\n",
       " \"castrol india's lubricants\",\n",
       " \"sterlite technologies' optical fiber manufacturing\",\n",
       " 'business development',\n",
       " 'cricket batting techniques',\n",
       " \"bombay burmah trading corporation's tea and coffee plantations\",\n",
       " 'startup valuation methods in india',\n",
       " \"adani enterprises' diversified business\",\n",
       " 'yes bank recovery strategies',\n",
       " 'market',\n",
       " 'civic engagement',\n",
       " 'economic recovery',\n",
       " 'life skills',\n",
       " \"hindustan petroleum's petroleum refining\",\n",
       " 'tata',\n",
       " \"bosch india's automotive technology\",\n",
       " 'organic gardening tips',\n",
       " 'unbanked populations',\n",
       " 'tech sector investments today',\n",
       " 'trade agreements',\n",
       " 'mumbai exchange',\n",
       " \"the indian hotels company's hospitality services\",\n",
       " 'remote work solutions today',\n",
       " \"rbi's policies on managing inflation and growth\",\n",
       " \"analysis of india's textile industry\",\n",
       " 'financial literacy programs in india',\n",
       " \"chennai petroleum corporation's petroleum refining\",\n",
       " 'digital transformation in indian banking',\n",
       " 'property investment',\n",
       " 'fintech innovations in india',\n",
       " 'urban development',\n",
       " 'sme stock exchange india',\n",
       " 'michael scott',\n",
       " \"icici securities' brokerage and financial services\",\n",
       " 'breaking economic news',\n",
       " 'precious metals market analysis today',\n",
       " 'algorithmic finance',\n",
       " \"blue dart express' logistics services\",\n",
       " 'bollywood choreography tutorials',\n",
       " 'ipo strategies today',\n",
       " 'future of blockchain in indian banking',\n",
       " \"thermax's energy solutions\",\n",
       " 'digital currency',\n",
       " \"rbi's measures to tackle non-performing assets in banks\",\n",
       " 'exports data',\n",
       " 'how to start a boutique in india',\n",
       " 'municipal bonds',\n",
       " 'eco-tourism spots',\n",
       " 'apple pie recipe',\n",
       " 'mobile payments',\n",
       " 'photography contest themes',\n",
       " \"quess corp's business services\",\n",
       " 'relief efforts',\n",
       " 'yo-yo test in cricket',\n",
       " \"solar industries india's industrial explosives\",\n",
       " 'kareena kapoor fitness secrets',\n",
       " 'big data',\n",
       " 'sebi bond platform',\n",
       " 'breakfast smoothie bowls',\n",
       " 'kabaddi league results',\n",
       " 'funny cat videos',\n",
       " \"elgi equipments' air compressors\",\n",
       " 'mobile commerce',\n",
       " \"gateway distriparks' logistics services\",\n",
       " 'marketing analytics',\n",
       " \"mrf's tire manufacturing\",\n",
       " \"aegis logistics' oil and gas logistics\",\n",
       " 'supreme court financial news',\n",
       " 'how to open a hdfc bank account 02 febrary 2024',\n",
       " 'halo',\n",
       " 'personal loan rate 2023',\n",
       " 'what is the sensex of the value computed todays and yesterday',\n",
       " 'agricultural tech',\n",
       " 'analysis of indian renewable energy market',\n",
       " 'growth of digital payments in india post-covid',\n",
       " 'delhi',\n",
       " 'inflation bonds',\n",
       " 'samosa recipe',\n",
       " 'gold standards',\n",
       " 'terrie',\n",
       " 'indice',\n",
       " 'digital wallets',\n",
       " 'analysis of indian fast food industry',\n",
       " 'personal finance tips for indian',\n",
       " \"bharat dynamics' defense equipment\",\n",
       " 'spinach and feta pie recipe',\n",
       " 'tofu scramble recipe',\n",
       " \"cummins india's engines and power generation\",\n",
       " 'ice cream recipe',\n",
       " 'annual reports',\n",
       " \"the south indian bank's banking services\",\n",
       " 'livemint',\n",
       " 'spac news today',\n",
       " 'urban mobility',\n",
       " 'street art tours',\n",
       " 'what is the latest petrol price 02 febrary 2024',\n",
       " 'forex trading pair movements today',\n",
       " \"ultratech cement's market positioning\",\n",
       " 'online advertising',\n",
       " 'social media',\n",
       " 'uuuu',\n",
       " 'growth sectors',\n",
       " 'wrestling championship india',\n",
       " 'analysis of indian defense industry',\n",
       " \"assessment of india's energy sector policies\",\n",
       " \"indian railway catering and tourism corporation's railway services\",\n",
       " 'ways to improve credit score in india',\n",
       " 'joint ventures',\n",
       " 'garlic bread recipe',\n",
       " 'impact of global technology trends on indian markets',\n",
       " \"canara bank's banking services\",\n",
       " 'dmr engineering',\n",
       " 'recent changes in indian labor laws',\n",
       " \"welspun corp's pipes and plates\",\n",
       " 'futures and stock',\n",
       " 'top stocks to invest in india right now',\n",
       " 'refreshing salad recipes',\n",
       " 'paneer tikka masala recipe',\n",
       " 'ripple technology advancements today',\n",
       " 'nunchuks',\n",
       " 'indian rupee forecast against us dollar',\n",
       " 'startup ecosystem in india',\n",
       " 'latest news on indian real estate market',\n",
       " \"nestle india's new product launches\",\n",
       " 'personal loan vs business loan',\n",
       " 'fdi policy',\n",
       " \"amara raja batteries' automotive battery innovations\",\n",
       " 'dark pools of liquidity today',\n",
       " 'powergrid share price live',\n",
       " 'gst impact',\n",
       " \"today's inflation figures release\",\n",
       " 'parking solutions',\n",
       " 'brownie recipe',\n",
       " 'infrastructure projects',\n",
       " 'commodity indexes',\n",
       " \"jk tyre & industries' tire manufacturing\",\n",
       " 'gst compliance tax legislation vat regulations excise duty policy corporate tax rules tax evasion penalties customs duty guidelines service ',\n",
       " 'sunil chhetri goals',\n",
       " \"bharat financial inclusion's microfinance services\",\n",
       " 'crypto conferences',\n",
       " 'renewable energy sector news today',\n",
       " 'quiche lorraine recipe',\n",
       " 'personal finance',\n",
       " 'how much do you need to retire',\n",
       " 'sensex',\n",
       " \"icra's credit rating services\",\n",
       " \"itc's diversification into fmcg\",\n",
       " 'networking opportunities',\n",
       " \"mahindra & mahindra's role in agribusiness\",\n",
       " 'latest news on indian economic growth',\n",
       " 'imf loans',\n",
       " \"somany ceramics' ceramic tiles and sanitaryware\",\n",
       " \"crisil's ratings and research\",\n",
       " 'credit default swaps',\n",
       " \"indian energy exchange's power trading platform\",\n",
       " \"federal bank's banking services\",\n",
       " \"jamna auto industries' automotive components\",\n",
       " 'bpcl share price live',\n",
       " 'analysis of indian handicraft industry',\n",
       " \"firstsource solutions' business process outsourcing\",\n",
       " 'forex trading strategies today',\n",
       " 'broker reviews',\n",
       " 'csr initiatives today',\n",
       " \"analysis of india's trade deficit and its implications\",\n",
       " 'tiger shroff dance moves',\n",
       " 'indian insurance market overview',\n",
       " \"bharat petroleum's petroleum refining\",\n",
       " 'hedge fund performance today',\n",
       " 'analysis of indian beverage industry',\n",
       " 'what are futures',\n",
       " \"knr constructions' infrastructure projects\",\n",
       " 'economic planning',\n",
       " \"indigo paints' paint manufacturing\",\n",
       " 'cultural festivals in india',\n",
       " 'courier services',\n",
       " \"today's forex market analysis\",\n",
       " \"amrutanjan health care's healthcare products\",\n",
       " 'financial products',\n",
       " 'additional info kya hota hai bhai',\n",
       " 'forex reserves of india latest',\n",
       " \"gokaldas exports' apparel manufacturing\",\n",
       " \"navin fluorine international's specialty fluorochemicals\",\n",
       " 'binge-worthy tv shows',\n",
       " 'reliance share price live',\n",
       " 'currency pairs',\n",
       " 'impact of taxation reforms on indian economy',\n",
       " 'p2p lending',\n",
       " 'silver rates',\n",
       " \"finolex cables' electrical and communication cables\",\n",
       " 'how to sip',\n",
       " 'entrepreneurial bootcamps',\n",
       " \"today's significant stock buybacks\",\n",
       " 'budget changez',\n",
       " 'tron',\n",
       " \"escorts' agricultural machineryand construction equipment\",\n",
       " 'postal services',\n",
       " 'pumpkin soup recipe',\n",
       " 'african opportunities',\n",
       " 'waste management',\n",
       " 'latest updates in indian pharmaceutical industry',\n",
       " 'pani puri recipe',\n",
       " 'tomato bruschetta recipe',\n",
       " 'electronic commerce policy of india',\n",
       " 'customer service',\n",
       " 'commodity market updates today',\n",
       " 'goods',\n",
       " 'credit rating changes today',\n",
       " 'infrastructure spending',\n",
       " 'market volatility index today',\n",
       " 'wealth management services in india',\n",
       " 'corporate dividend announcements today',\n",
       " \"advanced enzyme technologies' enzymes and probiotics\",\n",
       " 'financial planning tips today',\n",
       " 'unitec',\n",
       " 'forex platforms',\n",
       " 'electronic trading platforms today',\n",
       " 'futures and options',\n",
       " \"cadila healthcare's pharmaceuticals\",\n",
       " 'analysis of indian natural gas sector',\n",
       " 'water systems',\n",
       " 'government policies',\n",
       " 'developed markets',\n",
       " 'regulatory compliance',\n",
       " \"glenmark pharmaceuticals' pharmaceuticals\",\n",
       " 'cashless transactions in india',\n",
       " 'veggie burger recipe',\n",
       " \"motherson sumi systems' automotive components\",\n",
       " \"colgate-palmolive india's consumer goods\",\n",
       " 'do not copy this sites content',\n",
       " \"petronet lng's liquefied natural gas import and regasification\",\n",
       " 'financial market infrastructure news today',\n",
       " 'future is uncertain',\n",
       " 'budgeting software new features',\n",
       " 'ecommerce growth in india',\n",
       " 'best dividend-paying stocks in india',\n",
       " \"apollo pipes' piping solutions\",\n",
       " 'public finance',\n",
       " \"balrampur chini mills' sugar manufacturing\",\n",
       " 'whats your version number',\n",
       " 'cherry pie recipe',\n",
       " 'stand-up comedy specials',\n",
       " 'impact of global economic changes on indian markets',\n",
       " 'parliament',\n",
       " 'stocks benefitting from transition to solar energy in india',\n",
       " 'cricket umpiring signals',\n",
       " 'ai in finance',\n",
       " \"deepak nitrite's chemicals and petrochemicals\",\n",
       " \"hindustan petroleum corporation's petroleum refining\",\n",
       " 'literature and publishing',\n",
       " 'esg funds',\n",
       " 'carsharing',\n",
       " 'how to start a digital marketing agency in india',\n",
       " \"adani green energy's renewable energy\",\n",
       " 'blue chips',\n",
       " 'warehousing and storage',\n",
       " 'treasury yields',\n",
       " \"united breweries' beer manufacturing\",\n",
       " 'indian startups to watch in 2024',\n",
       " 'best tax-saving strategies for high-income earners in india',\n",
       " 'katrina kaif dance workout',\n",
       " 'emergency response',\n",
       " \"fortis healthcare's hospital network\",\n",
       " \"yes bank's banking services\",\n",
       " 'private equity firm acquisitions today',\n",
       " 'how to start a food truck business in india',\n",
       " 'trade tariffs',\n",
       " \"today's highest volume trades\",\n",
       " 'stock market opening prices',\n",
       " 'how to file taxes in india',\n",
       " \"skipper's engineering products\",\n",
       " 'i i i',\n",
       " 'crowdfunding',\n",
       " 'pension funds',\n",
       " 'real estate investment in mumbai',\n",
       " 'is ulip better than normal insurance',\n",
       " 'mushroom masala recipe',\n",
       " 'hdfc bank',\n",
       " 'mm share price live',\n",
       " 'corporate bonds',\n",
       " \"glaxosmithkline pharmaceuticals' pharmaceuticals\",\n",
       " 'rbi guidelines for digital lending',\n",
       " \"coal india's environmental initiatives\",\n",
       " 'industry experts',\n",
       " 'corporate alliances',\n",
       " \"radico khaitan's liquor market\",\n",
       " 'community gardening initiatives',\n",
       " \"biocon's latest biopharmaceutical innovations\",\n",
       " 'oil prices',\n",
       " \"rbi's credit policy and its impact on loan rates\",\n",
       " 'commodity prices live update',\n",
       " 'proxy fights',\n",
       " \"jk cement's construction materials\",\n",
       " \"indian hotels company's hospitality services\",\n",
       " \"rbi's foreign exchange reserves and currency stability\",\n",
       " 'whats your name',\n",
       " 'investment strategies for young professionals in india',\n",
       " \"minda industries' automotive components\",\n",
       " 'commodity hedging today',\n",
       " 'caramel latte recipe',\n",
       " \"exide industries' battery manufacturing\",\n",
       " 'bond yields',\n",
       " 'mango smoothie recipe',\n",
       " 'sustainable transportation',\n",
       " 'mergers and acquisitions',\n",
       " \"route mobile's cloud communication services\",\n",
       " 'social justice panels',\n",
       " \"sebi's regulatory reforms in mutual fund investments\",\n",
       " \"welspun india's textile manufacturing\",\n",
       " 'whats sensex today',\n",
       " 'enno rojulu ga unna ee samayam',\n",
       " \"cipla's healthcare contributions\",\n",
       " 'big data analytics news today',\n",
       " 'investment strategies for high net worth individuals in india',\n",
       " \"hatsun agro product's dairy products\",\n",
       " 'roundtable debates',\n",
       " \"the federal bank's banking services\",\n",
       " \"chambal fertilisers and chemicals' fertilizers and chemicals\",\n",
       " \"mphasis' it services\",\n",
       " 'leveraged and inverse etfs today',\n",
       " 'is ulip a sesnsible choice',\n",
       " 'social media earnings today',\n",
       " 'philanthropy and charity galas',\n",
       " ...]"
      ]
     },
     "execution_count": 30,
     "metadata": {},
     "output_type": "execute_result"
    }
   ],
   "source": [
    "unique_queries"
   ]
  },
  {
   "cell_type": "code",
   "execution_count": 31,
   "id": "0b036e18-68fc-4db0-aad6-0d1e96e2a167",
   "metadata": {
    "tags": []
   },
   "outputs": [],
   "source": [
    "def understand_query(query):\n",
    "    random_days_ago = np.random.randint(-15,45)\n",
    "    today = datetime.now()\n",
    "    dt = (today - timedelta(days=random_days_ago)).strftime('%d/%m/%y')\n",
    "    is_fin, recency, new_query = QueryService.understand_query_using_llm(query,query_date=dt)\n",
    "    return query, dt, is_fin, recency, new_query"
   ]
  },
  {
   "cell_type": "code",
   "execution_count": 32,
   "id": "565f91dd-1ea8-4943-8d59-496aa1eaca64",
   "metadata": {
    "tags": []
   },
   "outputs": [
    {
     "name": "stderr",
     "output_type": "stream",
     "text": [
      "query understanding llm in 0.9275338649749756 seconds\n"
     ]
    },
    {
     "data": {
      "text/plain": [
       "('which stock is good to invest',\n",
       " '17/02/24',\n",
       " True,\n",
       " 'high',\n",
       " 'Best stocks to invest in 2024')"
      ]
     },
     "execution_count": 32,
     "metadata": {},
     "output_type": "execute_result"
    }
   ],
   "source": [
    "understand_query('which stock is good to invest')"
   ]
  },
  {
   "cell_type": "code",
   "execution_count": 20,
   "id": "da51d219-cf2a-4fe4-b93a-030f17c87d1a",
   "metadata": {
    "tags": []
   },
   "outputs": [],
   "source": [
    "# understand_query('sensex today')"
   ]
  },
  {
   "cell_type": "code",
   "execution_count": 7,
   "id": "85ce2c32-2f02-4b25-8913-56c1fe5f8c09",
   "metadata": {
    "tags": []
   },
   "outputs": [],
   "source": [
    "import logging"
   ]
  },
  {
   "cell_type": "code",
   "execution_count": 8,
   "id": "5f65a623-00ad-4421-a84c-dd7eb94109ca",
   "metadata": {
    "tags": []
   },
   "outputs": [],
   "source": [
    "logger = logging.getLogger('__name__')\n",
    "level = logging.ERROR\n",
    "logger.setLevel(level)"
   ]
  },
  {
   "cell_type": "code",
   "execution_count": 9,
   "id": "80554950-a25f-43cf-956c-4ff356e21d34",
   "metadata": {
    "tags": []
   },
   "outputs": [],
   "source": [
    "import time\n",
    "from datetime import datetime\n",
    "from concurrent.futures import ThreadPoolExecutor, as_completed\n",
    "import requests"
   ]
  },
  {
   "cell_type": "code",
   "execution_count": 36,
   "id": "0f16ec15-c54e-41a5-ae8e-868b2175cfa4",
   "metadata": {
    "tags": []
   },
   "outputs": [],
   "source": [
    "query_understanding = {}"
   ]
  },
  {
   "cell_type": "code",
   "execution_count": 37,
   "id": "4ccd93a6-7b5e-4df1-b52b-3e70dfec83b3",
   "metadata": {
    "tags": []
   },
   "outputs": [],
   "source": [
    "chunk_size = 200\n",
    "num_chunks = len(unique_queries)//chunk_size + 1"
   ]
  },
  {
   "cell_type": "code",
   "execution_count": 38,
   "id": "7fee7982-9266-41e0-82a5-db75410106bb",
   "metadata": {
    "scrolled": true,
    "tags": []
   },
   "outputs": [
    {
     "name": "stdout",
     "output_type": "stream",
     "text": [
      "starting creation at Feb 05, 2024 16:17\n",
      "completed chunk 200 queries at Feb 05, 2024 16:17 in 0.55 minutes\n",
      "starting creation at Feb 05, 2024 16:17\n",
      "completed chunk 400 queries at Feb 05, 2024 16:18 in 0.5333333333333333 minutes\n",
      "starting creation at Feb 05, 2024 16:18\n",
      "completed chunk 600 queries at Feb 05, 2024 16:18 in 0.55 minutes\n",
      "starting creation at Feb 05, 2024 16:18\n",
      "completed chunk 800 queries at Feb 05, 2024 16:19 in 0.5666666666666667 minutes\n",
      "starting creation at Feb 05, 2024 16:19\n",
      "completed chunk 1000 queries at Feb 05, 2024 16:20 in 0.6833333333333333 minutes\n",
      "starting creation at Feb 05, 2024 16:20\n",
      "completed chunk 1200 queries at Feb 05, 2024 16:20 in 0.55 minutes\n",
      "starting creation at Feb 05, 2024 16:20\n",
      "completed chunk 1400 queries at Feb 05, 2024 16:21 in 0.55 minutes\n",
      "starting creation at Feb 05, 2024 16:21\n",
      "completed chunk 1600 queries at Feb 05, 2024 16:21 in 0.5333333333333333 minutes\n",
      "starting creation at Feb 05, 2024 16:21\n",
      "completed chunk 1800 queries at Feb 05, 2024 16:22 in 0.5333333333333333 minutes\n",
      "starting creation at Feb 05, 2024 16:22\n",
      "completed chunk 2000 queries at Feb 05, 2024 16:22 in 0.5333333333333333 minutes\n",
      "starting creation at Feb 05, 2024 16:22\n",
      "completed chunk 2200 queries at Feb 05, 2024 16:23 in 0.5166666666666667 minutes\n",
      "starting creation at Feb 05, 2024 16:23\n",
      "completed chunk 2400 queries at Feb 05, 2024 16:23 in 0.5166666666666667 minutes\n",
      "starting creation at Feb 05, 2024 16:23\n",
      "completed chunk 2600 queries at Feb 05, 2024 16:24 in 0.5333333333333333 minutes\n",
      "starting creation at Feb 05, 2024 16:24\n",
      "completed chunk 2800 queries at Feb 05, 2024 16:24 in 0.35 minutes\n"
     ]
    }
   ],
   "source": [
    "for i in range(num_chunks):\n",
    "    query_chunk = unique_queries[i*chunk_size:(i+1)*chunk_size]\n",
    "    print(f'starting creation at {\"{:%b %d, %Y %H:%M}\".format(datetime.now())}')\n",
    "    start_time = time.time()\n",
    "    with ThreadPoolExecutor(max_workers=15) as executor:\n",
    "        futures = [executor.submit(understand_query, query) for query in query_chunk]\n",
    "\n",
    "        for future in as_completed(futures):\n",
    "            response = future.result()\n",
    "            if response:  # Timeout or other errors\n",
    "                query_understanding[response[0]] = {'query_date': response[1], 'finance_query': response[2], 'recency_importance': response[3], 'improved_query': response[4]}\n",
    "    print(f'completed chunk {(i + 1) * chunk_size} queries at {\"{:%b %d, %Y %H:%M}\".format(datetime.now())} in {int(time.time() - start_time)/60} minutes')"
   ]
  },
  {
   "cell_type": "code",
   "execution_count": 10,
   "id": "0df56be3-4ff0-46df-a899-9c13e8193bfa",
   "metadata": {
    "tags": []
   },
   "outputs": [],
   "source": [
    "import json"
   ]
  },
  {
   "cell_type": "code",
   "execution_count": 11,
   "id": "26d07d24-bab8-4ffe-a983-eea6bc9b8aad",
   "metadata": {
    "tags": []
   },
   "outputs": [],
   "source": [
    "# with open('query_understanding.json', 'w') as f:\n",
    "#     json.dump(query_understanding,f)"
   ]
  },
  {
   "cell_type": "code",
   "execution_count": 12,
   "id": "2d1ef58d-9891-42a0-abc2-50f7a9e12f2c",
   "metadata": {
    "tags": []
   },
   "outputs": [],
   "source": [
    "with open('query_understanding.json', 'r') as f:\n",
    "    query_understanding = json.load(f)"
   ]
  },
  {
   "cell_type": "code",
   "execution_count": 13,
   "id": "fae65405-97af-4115-8fe1-61b81c23306b",
   "metadata": {
    "tags": []
   },
   "outputs": [],
   "source": [
    "import pandas as pd"
   ]
  },
  {
   "cell_type": "code",
   "execution_count": 14,
   "id": "9484ddf4-39c5-405d-9b9f-eb676e752a97",
   "metadata": {
    "tags": []
   },
   "outputs": [],
   "source": [
    "queries_df = pd.DataFrame.from_dict(query_understanding).T.reset_index().rename(columns = {'index': 'query'})"
   ]
  },
  {
   "cell_type": "code",
   "execution_count": 15,
   "id": "9d425648-d92e-4b01-9788-d67a26515552",
   "metadata": {
    "scrolled": true,
    "tags": []
   },
   "outputs": [
    {
     "data": {
      "text/html": [
       "<div>\n",
       "<style scoped>\n",
       "    .dataframe tbody tr th:only-of-type {\n",
       "        vertical-align: middle;\n",
       "    }\n",
       "\n",
       "    .dataframe tbody tr th {\n",
       "        vertical-align: top;\n",
       "    }\n",
       "\n",
       "    .dataframe thead th {\n",
       "        text-align: right;\n",
       "    }\n",
       "</style>\n",
       "<table border=\"1\" class=\"dataframe\">\n",
       "  <thead>\n",
       "    <tr style=\"text-align: right;\">\n",
       "      <th></th>\n",
       "      <th>query</th>\n",
       "      <th>query_date</th>\n",
       "      <th>finance_query</th>\n",
       "      <th>recency_importance</th>\n",
       "      <th>improved_query</th>\n",
       "    </tr>\n",
       "  </thead>\n",
       "  <tbody>\n",
       "    <tr>\n",
       "      <th>1895</th>\n",
       "      <td>tata steel share price live</td>\n",
       "      <td>26/01/24</td>\n",
       "      <td>True</td>\n",
       "      <td>high</td>\n",
       "      <td>Tata Steel share price live on 26 January 2024</td>\n",
       "    </tr>\n",
       "    <tr>\n",
       "      <th>2717</th>\n",
       "      <td>how to pan tax filings</td>\n",
       "      <td>13/02/24</td>\n",
       "      <td>True</td>\n",
       "      <td>medium</td>\n",
       "      <td>How to PAN tax filings in India 2024</td>\n",
       "    </tr>\n",
       "    <tr>\n",
       "      <th>2646</th>\n",
       "      <td>lending platforms</td>\n",
       "      <td>23/01/24</td>\n",
       "      <td>True</td>\n",
       "      <td>high</td>\n",
       "      <td>Lending platforms in India 2024</td>\n",
       "    </tr>\n",
       "    <tr>\n",
       "      <th>652</th>\n",
       "      <td>blockchain technology in indian banking</td>\n",
       "      <td>11/01/24</td>\n",
       "      <td>True</td>\n",
       "      <td>medium</td>\n",
       "      <td>Blockchain technology in Indian banking sector...</td>\n",
       "    </tr>\n",
       "    <tr>\n",
       "      <th>1481</th>\n",
       "      <td>sustainable finance</td>\n",
       "      <td>21/01/24</td>\n",
       "      <td>True</td>\n",
       "      <td>medium</td>\n",
       "      <td>Sustainable finance trends in 2024</td>\n",
       "    </tr>\n",
       "    <tr>\n",
       "      <th>1692</th>\n",
       "      <td>indian online gaming industry analysis</td>\n",
       "      <td>10/02/24</td>\n",
       "      <td>True</td>\n",
       "      <td>medium</td>\n",
       "      <td>Indian online gaming industry analysis 2024</td>\n",
       "    </tr>\n",
       "    <tr>\n",
       "      <th>422</th>\n",
       "      <td>reality tv show auditions</td>\n",
       "      <td>01/01/24</td>\n",
       "      <td>True</td>\n",
       "      <td>high</td>\n",
       "      <td>Reality TV show auditions in India 2024</td>\n",
       "    </tr>\n",
       "    <tr>\n",
       "      <th>2326</th>\n",
       "      <td>hindalco share price live</td>\n",
       "      <td>16/01/24</td>\n",
       "      <td>True</td>\n",
       "      <td>high</td>\n",
       "      <td>Hindalco share price on 16 January 2024</td>\n",
       "    </tr>\n",
       "    <tr>\n",
       "      <th>2145</th>\n",
       "      <td>tips for buying stocks in india</td>\n",
       "      <td>03/02/24</td>\n",
       "      <td>True</td>\n",
       "      <td>low</td>\n",
       "      <td>Best tips for stock investment in India 2024</td>\n",
       "    </tr>\n",
       "    <tr>\n",
       "      <th>338</th>\n",
       "      <td>reliance industries' conglomerate business</td>\n",
       "      <td>07/02/24</td>\n",
       "      <td>True</td>\n",
       "      <td>medium</td>\n",
       "      <td>Reliance Industries conglomerate business in 2024</td>\n",
       "    </tr>\n",
       "    <tr>\n",
       "      <th>292</th>\n",
       "      <td>whats different elss investment opportunities</td>\n",
       "      <td>17/02/24</td>\n",
       "      <td>True</td>\n",
       "      <td>high</td>\n",
       "      <td>Differences in ELSS investment opportunities i...</td>\n",
       "    </tr>\n",
       "    <tr>\n",
       "      <th>2460</th>\n",
       "      <td>kajaria ceramics' ceramic and vitrified tiles</td>\n",
       "      <td>14/01/24</td>\n",
       "      <td>True</td>\n",
       "      <td>medium</td>\n",
       "      <td>Kajaria Ceramics financial news</td>\n",
       "    </tr>\n",
       "    <tr>\n",
       "      <th>2157</th>\n",
       "      <td>biotech firms</td>\n",
       "      <td>14/02/24</td>\n",
       "      <td>True</td>\n",
       "      <td>medium</td>\n",
       "      <td>Top biotech firms in India 2024</td>\n",
       "    </tr>\n",
       "    <tr>\n",
       "      <th>1285</th>\n",
       "      <td>famous bollywood playback singers</td>\n",
       "      <td>31/12/23</td>\n",
       "      <td>True</td>\n",
       "      <td>medium</td>\n",
       "      <td>Famous Bollywood playback singers in 2024</td>\n",
       "    </tr>\n",
       "    <tr>\n",
       "      <th>208</th>\n",
       "      <td>emami's consumer goods</td>\n",
       "      <td>19/02/24</td>\n",
       "      <td>True</td>\n",
       "      <td>medium</td>\n",
       "      <td>Emami's consumer goods performance in 2024</td>\n",
       "    </tr>\n",
       "    <tr>\n",
       "      <th>496</th>\n",
       "      <td>suprajit engineering's automotive cables</td>\n",
       "      <td>28/12/23</td>\n",
       "      <td>True</td>\n",
       "      <td>medium</td>\n",
       "      <td>Suprajit Engineering's automotive cables marke...</td>\n",
       "    </tr>\n",
       "    <tr>\n",
       "      <th>2236</th>\n",
       "      <td>bqprime articles</td>\n",
       "      <td>05/02/24</td>\n",
       "      <td>True</td>\n",
       "      <td>high</td>\n",
       "      <td>BQ Prime articles in 2024</td>\n",
       "    </tr>\n",
       "    <tr>\n",
       "      <th>687</th>\n",
       "      <td>life skills</td>\n",
       "      <td>19/01/24</td>\n",
       "      <td>False</td>\n",
       "      <td>None</td>\n",
       "      <td>None</td>\n",
       "    </tr>\n",
       "    <tr>\n",
       "      <th>479</th>\n",
       "      <td>culinary workshop experiences</td>\n",
       "      <td>14/01/24</td>\n",
       "      <td>True</td>\n",
       "      <td>low</td>\n",
       "      <td>Culinary workshop experiences in India 2024</td>\n",
       "    </tr>\n",
       "    <tr>\n",
       "      <th>1772</th>\n",
       "      <td>health cover</td>\n",
       "      <td>05/01/24</td>\n",
       "      <td>True</td>\n",
       "      <td>medium</td>\n",
       "      <td>Health insurance trends in India 2024</td>\n",
       "    </tr>\n",
       "    <tr>\n",
       "      <th>256</th>\n",
       "      <td>what is blockchain</td>\n",
       "      <td>23/01/24</td>\n",
       "      <td>True</td>\n",
       "      <td>medium</td>\n",
       "      <td>What is blockchain in 2024</td>\n",
       "    </tr>\n",
       "    <tr>\n",
       "      <th>270</th>\n",
       "      <td>steel production news today</td>\n",
       "      <td>27/01/24</td>\n",
       "      <td>True</td>\n",
       "      <td>high</td>\n",
       "      <td>Steel production news January 27 2024</td>\n",
       "    </tr>\n",
       "    <tr>\n",
       "      <th>286</th>\n",
       "      <td>pidilite industries' adhesive market</td>\n",
       "      <td>02/02/24</td>\n",
       "      <td>True</td>\n",
       "      <td>medium</td>\n",
       "      <td>Pidilite Industries adhesive market share in I...</td>\n",
       "    </tr>\n",
       "    <tr>\n",
       "      <th>428</th>\n",
       "      <td>l&amp;t finance holdings' financial services</td>\n",
       "      <td>29/12/23</td>\n",
       "      <td>True</td>\n",
       "      <td>medium</td>\n",
       "      <td>L&amp;T Finance Holdings financial services in 2024</td>\n",
       "    </tr>\n",
       "    <tr>\n",
       "      <th>82</th>\n",
       "      <td>options and futures today</td>\n",
       "      <td>14/02/24</td>\n",
       "      <td>True</td>\n",
       "      <td>high</td>\n",
       "      <td>Options and futures market trends in India 2024</td>\n",
       "    </tr>\n",
       "    <tr>\n",
       "      <th>3</th>\n",
       "      <td>pension fund returns today</td>\n",
       "      <td>14/02/24</td>\n",
       "      <td>True</td>\n",
       "      <td>high</td>\n",
       "      <td>Pension fund returns on 14 February 2024</td>\n",
       "    </tr>\n",
       "    <tr>\n",
       "      <th>2129</th>\n",
       "      <td>historical landmarks tours</td>\n",
       "      <td>24/12/23</td>\n",
       "      <td>True</td>\n",
       "      <td>medium</td>\n",
       "      <td>Historical landmarks tours in India 2024</td>\n",
       "    </tr>\n",
       "    <tr>\n",
       "      <th>1335</th>\n",
       "      <td>dr. lal pathlabs' diagnostic and healthcare se...</td>\n",
       "      <td>14/02/24</td>\n",
       "      <td>True</td>\n",
       "      <td>medium</td>\n",
       "      <td>Lal Pathlabs financial and business news 2024</td>\n",
       "    </tr>\n",
       "    <tr>\n",
       "      <th>1413</th>\n",
       "      <td>forecast of commodity market movements in india</td>\n",
       "      <td>09/02/24</td>\n",
       "      <td>True</td>\n",
       "      <td>medium</td>\n",
       "      <td>Forecast of commodity market movements in Indi...</td>\n",
       "    </tr>\n",
       "    <tr>\n",
       "      <th>1433</th>\n",
       "      <td>olanews</td>\n",
       "      <td>07/02/24</td>\n",
       "      <td>True</td>\n",
       "      <td>high</td>\n",
       "      <td>Olanews in India 2024</td>\n",
       "    </tr>\n",
       "    <tr>\n",
       "      <th>2625</th>\n",
       "      <td>nutella crepes recipe</td>\n",
       "      <td>11/02/24</td>\n",
       "      <td>False</td>\n",
       "      <td>None</td>\n",
       "      <td>None</td>\n",
       "    </tr>\n",
       "    <tr>\n",
       "      <th>1903</th>\n",
       "      <td>banana pancake recipe</td>\n",
       "      <td>24/12/23</td>\n",
       "      <td>False</td>\n",
       "      <td>None</td>\n",
       "      <td>None</td>\n",
       "    </tr>\n",
       "    <tr>\n",
       "      <th>1786</th>\n",
       "      <td>vodafone idea's telecommunications services</td>\n",
       "      <td>15/01/24</td>\n",
       "      <td>True</td>\n",
       "      <td>medium</td>\n",
       "      <td>Vodafone Idea's telecom services in India 2024</td>\n",
       "    </tr>\n",
       "    <tr>\n",
       "      <th>403</th>\n",
       "      <td>ranchod das</td>\n",
       "      <td>02/01/24</td>\n",
       "      <td>True</td>\n",
       "      <td>high</td>\n",
       "      <td>Ranchod Das financial and business news</td>\n",
       "    </tr>\n",
       "    <tr>\n",
       "      <th>261</th>\n",
       "      <td>dlf's role in indian real estate</td>\n",
       "      <td>31/12/23</td>\n",
       "      <td>True</td>\n",
       "      <td>medium</td>\n",
       "      <td>DLF's role in Indian real estate in 2024</td>\n",
       "    </tr>\n",
       "    <tr>\n",
       "      <th>2263</th>\n",
       "      <td>upcoming financial regulations in india</td>\n",
       "      <td>07/02/24</td>\n",
       "      <td>True</td>\n",
       "      <td>medium</td>\n",
       "      <td>Upcoming financial regulations in India 2024</td>\n",
       "    </tr>\n",
       "    <tr>\n",
       "      <th>1261</th>\n",
       "      <td>quantitative trading</td>\n",
       "      <td>11/01/24</td>\n",
       "      <td>True</td>\n",
       "      <td>high</td>\n",
       "      <td>Quantitative trading strategies in 2024</td>\n",
       "    </tr>\n",
       "    <tr>\n",
       "      <th>2192</th>\n",
       "      <td>mac and cheese recipe</td>\n",
       "      <td>08/01/24</td>\n",
       "      <td>False</td>\n",
       "      <td>None</td>\n",
       "      <td>None</td>\n",
       "    </tr>\n",
       "    <tr>\n",
       "      <th>1592</th>\n",
       "      <td>historical preservation</td>\n",
       "      <td>21/01/24</td>\n",
       "      <td>True</td>\n",
       "      <td>medium</td>\n",
       "      <td>Historical preservation trends in 2024</td>\n",
       "    </tr>\n",
       "    <tr>\n",
       "      <th>1557</th>\n",
       "      <td>gst's impact on small and medium enterprises</td>\n",
       "      <td>18/01/24</td>\n",
       "      <td>True</td>\n",
       "      <td>medium</td>\n",
       "      <td>Impact of GST on small and medium enterprises ...</td>\n",
       "    </tr>\n",
       "  </tbody>\n",
       "</table>\n",
       "</div>"
      ],
      "text/plain": [
       "                                                  query query_date  \\\n",
       "1895                        tata steel share price live   26/01/24   \n",
       "2717                             how to pan tax filings   13/02/24   \n",
       "2646                                  lending platforms   23/01/24   \n",
       "652             blockchain technology in indian banking   11/01/24   \n",
       "1481                                sustainable finance   21/01/24   \n",
       "1692             indian online gaming industry analysis   10/02/24   \n",
       "422                           reality tv show auditions   01/01/24   \n",
       "2326                          hindalco share price live   16/01/24   \n",
       "2145                    tips for buying stocks in india   03/02/24   \n",
       "338          reliance industries' conglomerate business   07/02/24   \n",
       "292       whats different elss investment opportunities   17/02/24   \n",
       "2460      kajaria ceramics' ceramic and vitrified tiles   14/01/24   \n",
       "2157                                      biotech firms   14/02/24   \n",
       "1285                  famous bollywood playback singers   31/12/23   \n",
       "208                              emami's consumer goods   19/02/24   \n",
       "496            suprajit engineering's automotive cables   28/12/23   \n",
       "2236                                   bqprime articles   05/02/24   \n",
       "687                                         life skills   19/01/24   \n",
       "479                       culinary workshop experiences   14/01/24   \n",
       "1772                                       health cover   05/01/24   \n",
       "256                                  what is blockchain   23/01/24   \n",
       "270                         steel production news today   27/01/24   \n",
       "286                pidilite industries' adhesive market   02/02/24   \n",
       "428            l&t finance holdings' financial services   29/12/23   \n",
       "82                            options and futures today   14/02/24   \n",
       "3                            pension fund returns today   14/02/24   \n",
       "2129                         historical landmarks tours   24/12/23   \n",
       "1335  dr. lal pathlabs' diagnostic and healthcare se...   14/02/24   \n",
       "1413    forecast of commodity market movements in india   09/02/24   \n",
       "1433                                            olanews   07/02/24   \n",
       "2625                              nutella crepes recipe   11/02/24   \n",
       "1903                              banana pancake recipe   24/12/23   \n",
       "1786        vodafone idea's telecommunications services   15/01/24   \n",
       "403                                         ranchod das   02/01/24   \n",
       "261                    dlf's role in indian real estate   31/12/23   \n",
       "2263            upcoming financial regulations in india   07/02/24   \n",
       "1261                               quantitative trading   11/01/24   \n",
       "2192                              mac and cheese recipe   08/01/24   \n",
       "1592                            historical preservation   21/01/24   \n",
       "1557       gst's impact on small and medium enterprises   18/01/24   \n",
       "\n",
       "     finance_query recency_importance  \\\n",
       "1895          True               high   \n",
       "2717          True             medium   \n",
       "2646          True               high   \n",
       "652           True             medium   \n",
       "1481          True             medium   \n",
       "1692          True             medium   \n",
       "422           True               high   \n",
       "2326          True               high   \n",
       "2145          True                low   \n",
       "338           True             medium   \n",
       "292           True               high   \n",
       "2460          True             medium   \n",
       "2157          True             medium   \n",
       "1285          True             medium   \n",
       "208           True             medium   \n",
       "496           True             medium   \n",
       "2236          True               high   \n",
       "687          False               None   \n",
       "479           True                low   \n",
       "1772          True             medium   \n",
       "256           True             medium   \n",
       "270           True               high   \n",
       "286           True             medium   \n",
       "428           True             medium   \n",
       "82            True               high   \n",
       "3             True               high   \n",
       "2129          True             medium   \n",
       "1335          True             medium   \n",
       "1413          True             medium   \n",
       "1433          True               high   \n",
       "2625         False               None   \n",
       "1903         False               None   \n",
       "1786          True             medium   \n",
       "403           True               high   \n",
       "261           True             medium   \n",
       "2263          True             medium   \n",
       "1261          True               high   \n",
       "2192         False               None   \n",
       "1592          True             medium   \n",
       "1557          True             medium   \n",
       "\n",
       "                                         improved_query  \n",
       "1895     Tata Steel share price live on 26 January 2024  \n",
       "2717               How to PAN tax filings in India 2024  \n",
       "2646                    Lending platforms in India 2024  \n",
       "652   Blockchain technology in Indian banking sector...  \n",
       "1481                 Sustainable finance trends in 2024  \n",
       "1692        Indian online gaming industry analysis 2024  \n",
       "422             Reality TV show auditions in India 2024  \n",
       "2326            Hindalco share price on 16 January 2024  \n",
       "2145       Best tips for stock investment in India 2024  \n",
       "338   Reliance Industries conglomerate business in 2024  \n",
       "292   Differences in ELSS investment opportunities i...  \n",
       "2460                    Kajaria Ceramics financial news  \n",
       "2157                    Top biotech firms in India 2024  \n",
       "1285          Famous Bollywood playback singers in 2024  \n",
       "208          Emami's consumer goods performance in 2024  \n",
       "496   Suprajit Engineering's automotive cables marke...  \n",
       "2236                          BQ Prime articles in 2024  \n",
       "687                                                None  \n",
       "479         Culinary workshop experiences in India 2024  \n",
       "1772              Health insurance trends in India 2024  \n",
       "256                          What is blockchain in 2024  \n",
       "270               Steel production news January 27 2024  \n",
       "286   Pidilite Industries adhesive market share in I...  \n",
       "428     L&T Finance Holdings financial services in 2024  \n",
       "82      Options and futures market trends in India 2024  \n",
       "3              Pension fund returns on 14 February 2024  \n",
       "2129           Historical landmarks tours in India 2024  \n",
       "1335      Lal Pathlabs financial and business news 2024  \n",
       "1413  Forecast of commodity market movements in Indi...  \n",
       "1433                              Olanews in India 2024  \n",
       "2625                                               None  \n",
       "1903                                               None  \n",
       "1786     Vodafone Idea's telecom services in India 2024  \n",
       "403             Ranchod Das financial and business news  \n",
       "261            DLF's role in Indian real estate in 2024  \n",
       "2263       Upcoming financial regulations in India 2024  \n",
       "1261            Quantitative trading strategies in 2024  \n",
       "2192                                               None  \n",
       "1592             Historical preservation trends in 2024  \n",
       "1557  Impact of GST on small and medium enterprises ...  "
      ]
     },
     "execution_count": 15,
     "metadata": {},
     "output_type": "execute_result"
    }
   ],
   "source": [
    "queries_df.sample(40)"
   ]
  },
  {
   "cell_type": "code",
   "execution_count": 16,
   "id": "36165403-fd5d-44a2-8ee9-a38c02b7063d",
   "metadata": {
    "tags": []
   },
   "outputs": [
    {
     "data": {
      "text/plain": [
       "recency_importance\n",
       "high       634\n",
       "low        171\n",
       "medium    1718\n",
       "Name: query, dtype: int64"
      ]
     },
     "execution_count": 16,
     "metadata": {},
     "output_type": "execute_result"
    }
   ],
   "source": [
    "queries_df.groupby('recency_importance')['query'].count()"
   ]
  },
  {
   "cell_type": "code",
   "execution_count": 17,
   "id": "e3991fcf-98d5-4882-b61d-a16fd5a4d4f8",
   "metadata": {
    "tags": []
   },
   "outputs": [
    {
     "data": {
      "text/plain": [
       "finance_query\n",
       "False     198\n",
       "True     2529\n",
       "Name: query, dtype: int64"
      ]
     },
     "execution_count": 17,
     "metadata": {},
     "output_type": "execute_result"
    }
   ],
   "source": [
    "queries_df.groupby('finance_query')['query'].count()"
   ]
  },
  {
   "cell_type": "markdown",
   "id": "d38ae78d-7510-49b2-864e-27926ea819ec",
   "metadata": {},
   "source": [
    "### Generating search results"
   ]
  },
  {
   "cell_type": "code",
   "execution_count": 18,
   "id": "f04b0bc2-0bb1-47f0-978f-fe949ebd38b9",
   "metadata": {
    "tags": []
   },
   "outputs": [],
   "source": [
    "from datetime import timedelta\n",
    "\n",
    "import json"
   ]
  },
  {
   "cell_type": "code",
   "execution_count": 19,
   "id": "056a418b-a569-49c2-a3d8-2f0e20552f22",
   "metadata": {
    "tags": []
   },
   "outputs": [],
   "source": [
    "def get_top_hits_for_query_row(query_row):\n",
    "    if query_row.finance_query:\n",
    "        query_date = datetime.strptime(query_row.query_date,'%d/%m/%y') + timedelta(days=1,seconds=-1)\n",
    "        formatted_date = query_date.strftime('%Y-%m-%dT%H:%M:%S')\n",
    "        if query_row.improved_query:\n",
    "            # If the date is a future date, then change importance to medium to get articles from ES\n",
    "            if query_row.recency_importance == 'high' and query_date >= datetime.now():\n",
    "                results_object = HybridSearchService.perform_hybrid_reranked_search(query_text = query_row.improved_query, recency_importance='medium',max_published_date=formatted_date)\n",
    "            else:\n",
    "                results_object = HybridSearchService.perform_hybrid_reranked_search(query_text = query_row.improved_query, recency_importance=query_row.recency_importance,max_published_date=formatted_date)\n",
    "        else:\n",
    "            results_object = HybridSearchService.perform_hybrid_reranked_search(query_text = query_row.query, recency_importance='medium', max_published_date=formatted_date)\n",
    "        top_hits = [x['article_id'] for x in results_object['searchArticleIds']][:10]\n",
    "        return query_row.name, query_row.query, query_row.query_date, json.dumps(top_hits)\n",
    "    else:\n",
    "        return query_row.name, query_row.query, query_row.query_date, json.dumps([])"
   ]
  },
  {
   "cell_type": "code",
   "execution_count": 20,
   "id": "c7ddac01-e32c-4f89-9797-8464ae1f6dec",
   "metadata": {
    "tags": []
   },
   "outputs": [
    {
     "data": {
      "text/plain": [
       "(5,\n",
       " \"kotak mahindra bank's banking and financial services\",\n",
       " '23/12/23',\n",
       " '[\"657fb5c98f821120f67a0925\", \"65780584b8b4d445277abb85\", \"65783d471678087a992963e4\", \"657aa8113a7a250d32265347\", \"6577cd31b8b4d445277abacd\", \"6565c85739bfc8784efe5a24\", \"656e02539994965ac4b4b47c\", \"6557482a4b13023f934aef36\", \"6571c30925cc9a343f03d505\", \"6555cc274b13023f934a59fe\"]')"
      ]
     },
     "execution_count": 20,
     "metadata": {},
     "output_type": "execute_result"
    }
   ],
   "source": [
    "get_top_hits_for_query_row(queries_df.iloc[5])"
   ]
  },
  {
   "cell_type": "code",
   "execution_count": 21,
   "id": "4959e633-6d6d-4883-82d7-be1114ec00b6",
   "metadata": {
    "tags": []
   },
   "outputs": [
    {
     "data": {
      "text/html": [
       "<div>\n",
       "<style scoped>\n",
       "    .dataframe tbody tr th:only-of-type {\n",
       "        vertical-align: middle;\n",
       "    }\n",
       "\n",
       "    .dataframe tbody tr th {\n",
       "        vertical-align: top;\n",
       "    }\n",
       "\n",
       "    .dataframe thead th {\n",
       "        text-align: right;\n",
       "    }\n",
       "</style>\n",
       "<table border=\"1\" class=\"dataframe\">\n",
       "  <thead>\n",
       "    <tr style=\"text-align: right;\">\n",
       "      <th></th>\n",
       "      <th>query</th>\n",
       "      <th>query_date</th>\n",
       "      <th>finance_query</th>\n",
       "      <th>recency_importance</th>\n",
       "      <th>improved_query</th>\n",
       "    </tr>\n",
       "  </thead>\n",
       "  <tbody>\n",
       "    <tr>\n",
       "      <th>0</th>\n",
       "      <td>regulatory frameworks</td>\n",
       "      <td>27/01/24</td>\n",
       "      <td>True</td>\n",
       "      <td>medium</td>\n",
       "      <td>Regulatory frameworks in India 2024</td>\n",
       "    </tr>\n",
       "    <tr>\n",
       "      <th>1</th>\n",
       "      <td>security token offerings news</td>\n",
       "      <td>05/02/24</td>\n",
       "      <td>True</td>\n",
       "      <td>high</td>\n",
       "      <td>Security token offerings news in 2024</td>\n",
       "    </tr>\n",
       "    <tr>\n",
       "      <th>2</th>\n",
       "      <td>gold investment</td>\n",
       "      <td>01/01/24</td>\n",
       "      <td>True</td>\n",
       "      <td>medium</td>\n",
       "      <td>Gold investment trends in 2024</td>\n",
       "    </tr>\n",
       "    <tr>\n",
       "      <th>3</th>\n",
       "      <td>pension fund returns today</td>\n",
       "      <td>14/02/24</td>\n",
       "      <td>True</td>\n",
       "      <td>high</td>\n",
       "      <td>Pension fund returns on 14 February 2024</td>\n",
       "    </tr>\n",
       "    <tr>\n",
       "      <th>4</th>\n",
       "      <td>social media influencers</td>\n",
       "      <td>16/02/24</td>\n",
       "      <td>True</td>\n",
       "      <td>medium</td>\n",
       "      <td>Social media influencers trends in 2024</td>\n",
       "    </tr>\n",
       "    <tr>\n",
       "      <th>5</th>\n",
       "      <td>kotak mahindra bank's banking and financial se...</td>\n",
       "      <td>23/12/23</td>\n",
       "      <td>True</td>\n",
       "      <td>medium</td>\n",
       "      <td>Kotak Mahindra Bank's financial and business n...</td>\n",
       "    </tr>\n",
       "    <tr>\n",
       "      <th>6</th>\n",
       "      <td>sbi life insurance stock analysis</td>\n",
       "      <td>25/01/24</td>\n",
       "      <td>True</td>\n",
       "      <td>high</td>\n",
       "      <td>SBI Life Insurance stock analysis 2024</td>\n",
       "    </tr>\n",
       "    <tr>\n",
       "      <th>7</th>\n",
       "      <td>rock climbing basics</td>\n",
       "      <td>28/12/23</td>\n",
       "      <td>True</td>\n",
       "      <td>medium</td>\n",
       "      <td>Rock climbing basics in India 2024</td>\n",
       "    </tr>\n",
       "    <tr>\n",
       "      <th>8</th>\n",
       "      <td>securities lending news today</td>\n",
       "      <td>25/01/24</td>\n",
       "      <td>True</td>\n",
       "      <td>high</td>\n",
       "      <td>Securities lending news January 25 2024</td>\n",
       "    </tr>\n",
       "    <tr>\n",
       "      <th>9</th>\n",
       "      <td>bcci</td>\n",
       "      <td>18/01/24</td>\n",
       "      <td>True</td>\n",
       "      <td>medium</td>\n",
       "      <td>BCCI financial and business news 2024</td>\n",
       "    </tr>\n",
       "  </tbody>\n",
       "</table>\n",
       "</div>"
      ],
      "text/plain": [
       "                                               query query_date finance_query  \\\n",
       "0                              regulatory frameworks   27/01/24          True   \n",
       "1                      security token offerings news   05/02/24          True   \n",
       "2                                    gold investment   01/01/24          True   \n",
       "3                         pension fund returns today   14/02/24          True   \n",
       "4                           social media influencers   16/02/24          True   \n",
       "5  kotak mahindra bank's banking and financial se...   23/12/23          True   \n",
       "6                  sbi life insurance stock analysis   25/01/24          True   \n",
       "7                               rock climbing basics   28/12/23          True   \n",
       "8                      securities lending news today   25/01/24          True   \n",
       "9                                               bcci   18/01/24          True   \n",
       "\n",
       "  recency_importance                                     improved_query  \n",
       "0             medium                Regulatory frameworks in India 2024  \n",
       "1               high              Security token offerings news in 2024  \n",
       "2             medium                     Gold investment trends in 2024  \n",
       "3               high           Pension fund returns on 14 February 2024  \n",
       "4             medium            Social media influencers trends in 2024  \n",
       "5             medium  Kotak Mahindra Bank's financial and business n...  \n",
       "6               high             SBI Life Insurance stock analysis 2024  \n",
       "7             medium                 Rock climbing basics in India 2024  \n",
       "8               high            Securities lending news January 25 2024  \n",
       "9             medium              BCCI financial and business news 2024  "
      ]
     },
     "execution_count": 21,
     "metadata": {},
     "output_type": "execute_result"
    }
   ],
   "source": [
    "queries_df.head(10)"
   ]
  },
  {
   "cell_type": "code",
   "execution_count": 22,
   "id": "e177b220-c172-4e13-8f98-d3e05b685611",
   "metadata": {
    "tags": []
   },
   "outputs": [],
   "source": [
    "search_result_articles = []"
   ]
  },
  {
   "cell_type": "code",
   "execution_count": 23,
   "id": "c51ef5e6-4c9f-43fb-83df-5f909f106c80",
   "metadata": {
    "tags": []
   },
   "outputs": [],
   "source": [
    "chunk_size = 10\n",
    "num_chunks = len(queries_df)//chunk_size + 1"
   ]
  },
  {
   "cell_type": "code",
   "execution_count": 24,
   "id": "46485b0c-7e2e-4926-a763-8138e3a2bf64",
   "metadata": {
    "tags": []
   },
   "outputs": [
    {
     "data": {
      "text/plain": [
       "273"
      ]
     },
     "execution_count": 24,
     "metadata": {},
     "output_type": "execute_result"
    }
   ],
   "source": [
    "num_chunks"
   ]
  },
  {
   "cell_type": "code",
   "execution_count": 25,
   "id": "d3a15605-72f8-4c42-a354-4f26db637e9e",
   "metadata": {
    "scrolled": true,
    "tags": []
   },
   "outputs": [
    {
     "name": "stdout",
     "output_type": "stream",
     "text": [
      "completed chunk 10 queries at Feb 05, 2024 21:08 in 0.38333333333333336 minutes\n",
      "completed chunk 20 queries at Feb 05, 2024 21:08 in 0.23333333333333334 minutes\n"
     ]
    },
    {
     "name": "stderr",
     "output_type": "stream",
     "text": [
      "WARNING:root:cleaned article 656476dc96c80a0efa90f8ed - headline: Sector-wise FDI inflows into India.  content:  has less than 10 words or 30 characters\n"
     ]
    },
    {
     "name": "stdout",
     "output_type": "stream",
     "text": [
      "completed chunk 30 queries at Feb 05, 2024 21:08 in 0.2 minutes\n",
      "completed chunk 40 queries at Feb 05, 2024 21:09 in 0.23333333333333334 minutes\n",
      "completed chunk 50 queries at Feb 05, 2024 21:09 in 0.23333333333333334 minutes\n",
      "completed chunk 60 queries at Feb 05, 2024 21:09 in 0.23333333333333334 minutes\n",
      "completed chunk 70 queries at Feb 05, 2024 21:09 in 0.21666666666666667 minutes\n",
      "completed chunk 80 queries at Feb 05, 2024 21:10 in 0.23333333333333334 minutes\n",
      "completed chunk 90 queries at Feb 05, 2024 21:10 in 0.25 minutes\n",
      "completed chunk 100 queries at Feb 05, 2024 21:10 in 0.21666666666666667 minutes\n",
      "completed chunk 110 queries at Feb 05, 2024 21:10 in 0.16666666666666666 minutes\n",
      "completed chunk 120 queries at Feb 05, 2024 21:11 in 0.18333333333333332 minutes\n",
      "completed chunk 130 queries at Feb 05, 2024 21:11 in 0.25 minutes\n",
      "completed chunk 140 queries at Feb 05, 2024 21:11 in 0.2 minutes\n",
      "completed chunk 150 queries at Feb 05, 2024 21:11 in 0.21666666666666667 minutes\n",
      "completed chunk 160 queries at Feb 05, 2024 21:11 in 0.2 minutes\n",
      "completed chunk 170 queries at Feb 05, 2024 21:12 in 0.25 minutes\n",
      "completed chunk 180 queries at Feb 05, 2024 21:12 in 0.25 minutes\n",
      "completed chunk 190 queries at Feb 05, 2024 21:12 in 0.23333333333333334 minutes\n",
      "completed chunk 200 queries at Feb 05, 2024 21:12 in 0.21666666666666667 minutes\n",
      "completed chunk 210 queries at Feb 05, 2024 21:13 in 0.18333333333333332 minutes\n",
      "completed chunk 220 queries at Feb 05, 2024 21:13 in 0.2 minutes\n",
      "completed chunk 230 queries at Feb 05, 2024 21:13 in 0.18333333333333332 minutes\n",
      "completed chunk 240 queries at Feb 05, 2024 21:13 in 0.2 minutes\n",
      "completed chunk 250 queries at Feb 05, 2024 21:13 in 0.2 minutes\n",
      "completed chunk 260 queries at Feb 05, 2024 21:14 in 0.2 minutes\n",
      "completed chunk 270 queries at Feb 05, 2024 21:14 in 0.25 minutes\n",
      "completed chunk 280 queries at Feb 05, 2024 21:14 in 0.18333333333333332 minutes\n",
      "completed chunk 290 queries at Feb 05, 2024 21:14 in 0.18333333333333332 minutes\n",
      "completed chunk 300 queries at Feb 05, 2024 21:15 in 0.2833333333333333 minutes\n",
      "completed chunk 310 queries at Feb 05, 2024 21:15 in 0.18333333333333332 minutes\n",
      "completed chunk 320 queries at Feb 05, 2024 21:15 in 0.18333333333333332 minutes\n",
      "completed chunk 330 queries at Feb 05, 2024 21:15 in 0.23333333333333334 minutes\n",
      "completed chunk 340 queries at Feb 05, 2024 21:15 in 0.2 minutes\n",
      "completed chunk 350 queries at Feb 05, 2024 21:16 in 0.18333333333333332 minutes\n"
     ]
    },
    {
     "name": "stderr",
     "output_type": "stream",
     "text": [
      "WARNING:root:cleaned article 65bf6e4fc119ff6e57a3ee4c - headline: Japan Nikkei recovers 0.4%.  content: None has less than 10 words or 30 characters\n"
     ]
    },
    {
     "name": "stdout",
     "output_type": "stream",
     "text": [
      "completed chunk 360 queries at Feb 05, 2024 21:16 in 0.21666666666666667 minutes\n",
      "completed chunk 370 queries at Feb 05, 2024 21:16 in 0.21666666666666667 minutes\n",
      "completed chunk 380 queries at Feb 05, 2024 21:16 in 0.18333333333333332 minutes\n",
      "completed chunk 390 queries at Feb 05, 2024 21:16 in 0.23333333333333334 minutes\n",
      "completed chunk 400 queries at Feb 05, 2024 21:17 in 0.23333333333333334 minutes\n",
      "completed chunk 410 queries at Feb 05, 2024 21:17 in 0.11666666666666667 minutes\n",
      "completed chunk 420 queries at Feb 05, 2024 21:17 in 0.23333333333333334 minutes\n",
      "completed chunk 430 queries at Feb 05, 2024 21:17 in 0.21666666666666667 minutes\n",
      "completed chunk 440 queries at Feb 05, 2024 21:18 in 0.21666666666666667 minutes\n",
      "completed chunk 450 queries at Feb 05, 2024 21:18 in 0.21666666666666667 minutes\n",
      "completed chunk 460 queries at Feb 05, 2024 21:18 in 0.21666666666666667 minutes\n",
      "completed chunk 470 queries at Feb 05, 2024 21:18 in 0.2 minutes\n",
      "completed chunk 480 queries at Feb 05, 2024 21:18 in 0.2 minutes\n",
      "completed chunk 490 queries at Feb 05, 2024 21:19 in 0.23333333333333334 minutes\n",
      "completed chunk 500 queries at Feb 05, 2024 21:19 in 0.16666666666666666 minutes\n",
      "completed chunk 510 queries at Feb 05, 2024 21:19 in 0.21666666666666667 minutes\n",
      "completed chunk 520 queries at Feb 05, 2024 21:19 in 0.21666666666666667 minutes\n",
      "completed chunk 530 queries at Feb 05, 2024 21:19 in 0.2 minutes\n",
      "completed chunk 540 queries at Feb 05, 2024 21:20 in 0.15 minutes\n"
     ]
    },
    {
     "name": "stderr",
     "output_type": "stream",
     "text": [
      "WARNING:root:cleaned article 65bf3608c119ff6e57a3ed8f - headline: US Market rebounds 1%.  content: None has less than 10 words or 30 characters\n"
     ]
    },
    {
     "name": "stdout",
     "output_type": "stream",
     "text": [
      "completed chunk 550 queries at Feb 05, 2024 21:20 in 0.2 minutes\n",
      "completed chunk 560 queries at Feb 05, 2024 21:20 in 0.21666666666666667 minutes\n",
      "completed chunk 570 queries at Feb 05, 2024 21:20 in 0.2 minutes\n",
      "completed chunk 580 queries at Feb 05, 2024 21:20 in 0.18333333333333332 minutes\n",
      "completed chunk 590 queries at Feb 05, 2024 21:21 in 0.18333333333333332 minutes\n",
      "completed chunk 600 queries at Feb 05, 2024 21:21 in 0.2 minutes\n",
      "completed chunk 610 queries at Feb 05, 2024 21:21 in 0.23333333333333334 minutes\n",
      "completed chunk 620 queries at Feb 05, 2024 21:21 in 0.23333333333333334 minutes\n",
      "completed chunk 630 queries at Feb 05, 2024 21:22 in 0.25 minutes\n",
      "completed chunk 640 queries at Feb 05, 2024 21:22 in 0.25 minutes\n",
      "completed chunk 650 queries at Feb 05, 2024 21:22 in 0.18333333333333332 minutes\n",
      "completed chunk 660 queries at Feb 05, 2024 21:22 in 0.2 minutes\n",
      "completed chunk 670 queries at Feb 05, 2024 21:22 in 0.21666666666666667 minutes\n",
      "completed chunk 680 queries at Feb 05, 2024 21:23 in 0.2 minutes\n"
     ]
    },
    {
     "name": "stderr",
     "output_type": "stream",
     "text": [
      "WARNING:py.warnings:/Users/ravi.tej/Desktop/ML/Recommendations/hubble/src/RankingService.py:68: UserWarning: Could not infer format, so each element will be parsed individually, falling back to `dateutil`. To ensure parsing is consistent and as-expected, please specify a format.\n",
      "  published_time_df['published_time'] = pd.to_datetime(published_time_df['published_time'], utc=True)\n",
      "\n"
     ]
    },
    {
     "name": "stdout",
     "output_type": "stream",
     "text": [
      "completed chunk 690 queries at Feb 05, 2024 21:23 in 0.2 minutes\n"
     ]
    },
    {
     "name": "stderr",
     "output_type": "stream",
     "text": [
      "WARNING:root:cleaned article 656476f696c80a0efa90fb3c - headline: Tata Group's Business Empire.  content:  has less than 10 words or 30 characters\n"
     ]
    },
    {
     "name": "stdout",
     "output_type": "stream",
     "text": [
      "completed chunk 700 queries at Feb 05, 2024 21:23 in 0.16666666666666666 minutes\n",
      "completed chunk 710 queries at Feb 05, 2024 21:23 in 0.2 minutes\n",
      "completed chunk 720 queries at Feb 05, 2024 21:23 in 0.2 minutes\n",
      "completed chunk 730 queries at Feb 05, 2024 21:24 in 0.21666666666666667 minutes\n",
      "completed chunk 740 queries at Feb 05, 2024 21:24 in 0.2 minutes\n",
      "completed chunk 750 queries at Feb 05, 2024 21:24 in 0.18333333333333332 minutes\n",
      "completed chunk 760 queries at Feb 05, 2024 21:24 in 0.23333333333333334 minutes\n",
      "completed chunk 770 queries at Feb 05, 2024 21:24 in 0.11666666666666667 minutes\n",
      "completed chunk 780 queries at Feb 05, 2024 21:25 in 0.2 minutes\n",
      "completed chunk 790 queries at Feb 05, 2024 21:25 in 0.15 minutes\n",
      "completed chunk 800 queries at Feb 05, 2024 21:25 in 0.23333333333333334 minutes\n"
     ]
    },
    {
     "name": "stderr",
     "output_type": "stream",
     "text": [
      "WARNING:root:cleaned article 656476dc96c80a0efa90f8ed - headline: Sector-wise FDI inflows into India.  content:  has less than 10 words or 30 characters\n"
     ]
    },
    {
     "name": "stdout",
     "output_type": "stream",
     "text": [
      "completed chunk 810 queries at Feb 05, 2024 21:25 in 0.18333333333333332 minutes\n",
      "completed chunk 820 queries at Feb 05, 2024 21:25 in 0.18333333333333332 minutes\n",
      "completed chunk 830 queries at Feb 05, 2024 21:26 in 0.21666666666666667 minutes\n",
      "completed chunk 840 queries at Feb 05, 2024 21:26 in 0.2 minutes\n",
      "completed chunk 850 queries at Feb 05, 2024 21:26 in 0.21666666666666667 minutes\n",
      "completed chunk 860 queries at Feb 05, 2024 21:26 in 0.2 minutes\n",
      "completed chunk 870 queries at Feb 05, 2024 21:27 in 0.23333333333333334 minutes\n",
      "completed chunk 880 queries at Feb 05, 2024 21:27 in 0.2 minutes\n",
      "completed chunk 890 queries at Feb 05, 2024 21:27 in 0.23333333333333334 minutes\n",
      "completed chunk 900 queries at Feb 05, 2024 21:27 in 0.18333333333333332 minutes\n",
      "completed chunk 910 queries at Feb 05, 2024 21:27 in 0.15 minutes\n",
      "completed chunk 920 queries at Feb 05, 2024 21:28 in 0.2 minutes\n",
      "completed chunk 930 queries at Feb 05, 2024 21:28 in 0.26666666666666666 minutes\n",
      "completed chunk 940 queries at Feb 05, 2024 21:28 in 0.16666666666666666 minutes\n",
      "completed chunk 950 queries at Feb 05, 2024 21:28 in 0.18333333333333332 minutes\n",
      "completed chunk 960 queries at Feb 05, 2024 21:28 in 0.21666666666666667 minutes\n",
      "completed chunk 970 queries at Feb 05, 2024 21:29 in 0.21666666666666667 minutes\n",
      "completed chunk 980 queries at Feb 05, 2024 21:29 in 0.18333333333333332 minutes\n",
      "completed chunk 990 queries at Feb 05, 2024 21:29 in 0.2833333333333333 minutes\n",
      "completed chunk 1000 queries at Feb 05, 2024 21:29 in 0.25 minutes\n",
      "completed chunk 1010 queries at Feb 05, 2024 21:29 in 0.15 minutes\n",
      "completed chunk 1020 queries at Feb 05, 2024 21:30 in 0.2 minutes\n",
      "completed chunk 1030 queries at Feb 05, 2024 21:30 in 0.2833333333333333 minutes\n"
     ]
    },
    {
     "name": "stderr",
     "output_type": "stream",
     "text": [
      "WARNING:root:cleaned article 65bf3609c119ff6e57a3edae - headline: Energy  shares gain.  content: None has less than 10 words or 30 characters\n"
     ]
    },
    {
     "name": "stdout",
     "output_type": "stream",
     "text": [
      "completed chunk 1040 queries at Feb 05, 2024 21:30 in 0.2 minutes\n",
      "completed chunk 1050 queries at Feb 05, 2024 21:30 in 0.21666666666666667 minutes\n",
      "completed chunk 1060 queries at Feb 05, 2024 21:31 in 0.26666666666666666 minutes\n",
      "completed chunk 1070 queries at Feb 05, 2024 21:31 in 0.18333333333333332 minutes\n",
      "completed chunk 1080 queries at Feb 05, 2024 21:31 in 0.18333333333333332 minutes\n",
      "completed chunk 1090 queries at Feb 05, 2024 21:31 in 0.25 minutes\n",
      "completed chunk 1100 queries at Feb 05, 2024 21:32 in 0.2 minutes\n",
      "completed chunk 1110 queries at Feb 05, 2024 21:32 in 0.25 minutes\n",
      "completed chunk 1120 queries at Feb 05, 2024 21:32 in 0.23333333333333334 minutes\n",
      "completed chunk 1130 queries at Feb 05, 2024 21:32 in 0.21666666666666667 minutes\n",
      "completed chunk 1140 queries at Feb 05, 2024 21:32 in 0.18333333333333332 minutes\n",
      "completed chunk 1150 queries at Feb 05, 2024 21:33 in 0.23333333333333334 minutes\n",
      "completed chunk 1160 queries at Feb 05, 2024 21:33 in 0.21666666666666667 minutes\n",
      "completed chunk 1170 queries at Feb 05, 2024 21:33 in 0.21666666666666667 minutes\n",
      "completed chunk 1180 queries at Feb 05, 2024 21:33 in 0.21666666666666667 minutes\n",
      "completed chunk 1190 queries at Feb 05, 2024 21:34 in 0.26666666666666666 minutes\n",
      "completed chunk 1200 queries at Feb 05, 2024 21:34 in 0.21666666666666667 minutes\n"
     ]
    },
    {
     "name": "stderr",
     "output_type": "stream",
     "text": [
      "WARNING:root:cleaned article 656476f696c80a0efa90fb3c - headline: Tata Group's Business Empire.  content:  has less than 10 words or 30 characters\n"
     ]
    },
    {
     "name": "stdout",
     "output_type": "stream",
     "text": [
      "completed chunk 1210 queries at Feb 05, 2024 21:34 in 0.21666666666666667 minutes\n",
      "completed chunk 1220 queries at Feb 05, 2024 21:34 in 0.16666666666666666 minutes\n"
     ]
    },
    {
     "name": "stderr",
     "output_type": "stream",
     "text": [
      "WARNING:py.warnings:/Users/ravi.tej/Desktop/ML/Recommendations/hubble/src/_utils.py:36: UserWarning: Could not infer format, so each element will be parsed individually, falling back to `dateutil`. To ensure parsing is consistent and as-expected, please specify a format.\n",
      "  published_time_df['published_time'] = pd.to_datetime(published_time_df['published_time'], utc=True)\n",
      "\n",
      "WARNING:py.warnings:/Users/ravi.tej/Desktop/ML/Recommendations/hubble/src/RankingService.py:68: UserWarning: Could not infer format, so each element will be parsed individually, falling back to `dateutil`. To ensure parsing is consistent and as-expected, please specify a format.\n",
      "  published_time_df['published_time'] = pd.to_datetime(published_time_df['published_time'], utc=True)\n",
      "\n"
     ]
    },
    {
     "name": "stdout",
     "output_type": "stream",
     "text": [
      "completed chunk 1230 queries at Feb 05, 2024 21:35 in 0.23333333333333334 minutes\n"
     ]
    },
    {
     "ename": "ConnectionError",
     "evalue": "HTTPSConnectionPool(host='search-finance-content-search-53kxgsezmqf7cyna2ccm67hipi.ap-south-1.es.amazonaws.com', port=443): Max retries exceeded with url: /finance-content/_search (Caused by NewConnectionError('<urllib3.connection.HTTPSConnection object at 0x168c69710>: Failed to establish a new connection: [Errno 8] nodename nor servname provided, or not known'))",
     "output_type": "error",
     "traceback": [
      "\u001b[0;31m---------------------------------------------------------------------------\u001b[0m",
      "\u001b[0;31mgaierror\u001b[0m                                  Traceback (most recent call last)",
      "File \u001b[0;32m~/anaconda3/envs/recoenv/lib/python3.11/site-packages/urllib3/connection.py:174\u001b[0m, in \u001b[0;36mHTTPConnection._new_conn\u001b[0;34m(self)\u001b[0m\n\u001b[1;32m    173\u001b[0m \u001b[38;5;28;01mtry\u001b[39;00m:\n\u001b[0;32m--> 174\u001b[0m     conn \u001b[38;5;241m=\u001b[39m connection\u001b[38;5;241m.\u001b[39mcreate_connection(\n\u001b[1;32m    175\u001b[0m         (\u001b[38;5;28mself\u001b[39m\u001b[38;5;241m.\u001b[39m_dns_host, \u001b[38;5;28mself\u001b[39m\u001b[38;5;241m.\u001b[39mport), \u001b[38;5;28mself\u001b[39m\u001b[38;5;241m.\u001b[39mtimeout, \u001b[38;5;241m*\u001b[39m\u001b[38;5;241m*\u001b[39mextra_kw\n\u001b[1;32m    176\u001b[0m     )\n\u001b[1;32m    178\u001b[0m \u001b[38;5;28;01mexcept\u001b[39;00m SocketTimeout:\n",
      "File \u001b[0;32m~/anaconda3/envs/recoenv/lib/python3.11/site-packages/urllib3/util/connection.py:72\u001b[0m, in \u001b[0;36mcreate_connection\u001b[0;34m(address, timeout, source_address, socket_options)\u001b[0m\n\u001b[1;32m     68\u001b[0m     \u001b[38;5;28;01mreturn\u001b[39;00m six\u001b[38;5;241m.\u001b[39mraise_from(\n\u001b[1;32m     69\u001b[0m         LocationParseError(\u001b[38;5;124mu\u001b[39m\u001b[38;5;124m\"\u001b[39m\u001b[38;5;124m'\u001b[39m\u001b[38;5;132;01m%s\u001b[39;00m\u001b[38;5;124m'\u001b[39m\u001b[38;5;124m, label empty or too long\u001b[39m\u001b[38;5;124m\"\u001b[39m \u001b[38;5;241m%\u001b[39m host), \u001b[38;5;28;01mNone\u001b[39;00m\n\u001b[1;32m     70\u001b[0m     )\n\u001b[0;32m---> 72\u001b[0m \u001b[38;5;28;01mfor\u001b[39;00m res \u001b[38;5;129;01min\u001b[39;00m socket\u001b[38;5;241m.\u001b[39mgetaddrinfo(host, port, family, socket\u001b[38;5;241m.\u001b[39mSOCK_STREAM):\n\u001b[1;32m     73\u001b[0m     af, socktype, proto, canonname, sa \u001b[38;5;241m=\u001b[39m res\n",
      "File \u001b[0;32m~/anaconda3/envs/recoenv/lib/python3.11/socket.py:962\u001b[0m, in \u001b[0;36mgetaddrinfo\u001b[0;34m(host, port, family, type, proto, flags)\u001b[0m\n\u001b[1;32m    961\u001b[0m addrlist \u001b[38;5;241m=\u001b[39m []\n\u001b[0;32m--> 962\u001b[0m \u001b[38;5;28;01mfor\u001b[39;00m res \u001b[38;5;129;01min\u001b[39;00m _socket\u001b[38;5;241m.\u001b[39mgetaddrinfo(host, port, family, \u001b[38;5;28mtype\u001b[39m, proto, flags):\n\u001b[1;32m    963\u001b[0m     af, socktype, proto, canonname, sa \u001b[38;5;241m=\u001b[39m res\n",
      "\u001b[0;31mgaierror\u001b[0m: [Errno 8] nodename nor servname provided, or not known",
      "\nDuring handling of the above exception, another exception occurred:\n",
      "\u001b[0;31mNewConnectionError\u001b[0m                        Traceback (most recent call last)",
      "File \u001b[0;32m~/anaconda3/envs/recoenv/lib/python3.11/site-packages/urllib3/connectionpool.py:714\u001b[0m, in \u001b[0;36mHTTPConnectionPool.urlopen\u001b[0;34m(self, method, url, body, headers, retries, redirect, assert_same_host, timeout, pool_timeout, release_conn, chunked, body_pos, **response_kw)\u001b[0m\n\u001b[1;32m    713\u001b[0m \u001b[38;5;66;03m# Make the request on the httplib connection object.\u001b[39;00m\n\u001b[0;32m--> 714\u001b[0m httplib_response \u001b[38;5;241m=\u001b[39m \u001b[38;5;28mself\u001b[39m\u001b[38;5;241m.\u001b[39m_make_request(\n\u001b[1;32m    715\u001b[0m     conn,\n\u001b[1;32m    716\u001b[0m     method,\n\u001b[1;32m    717\u001b[0m     url,\n\u001b[1;32m    718\u001b[0m     timeout\u001b[38;5;241m=\u001b[39mtimeout_obj,\n\u001b[1;32m    719\u001b[0m     body\u001b[38;5;241m=\u001b[39mbody,\n\u001b[1;32m    720\u001b[0m     headers\u001b[38;5;241m=\u001b[39mheaders,\n\u001b[1;32m    721\u001b[0m     chunked\u001b[38;5;241m=\u001b[39mchunked,\n\u001b[1;32m    722\u001b[0m )\n\u001b[1;32m    724\u001b[0m \u001b[38;5;66;03m# If we're going to release the connection in ``finally:``, then\u001b[39;00m\n\u001b[1;32m    725\u001b[0m \u001b[38;5;66;03m# the response doesn't need to know about the connection. Otherwise\u001b[39;00m\n\u001b[1;32m    726\u001b[0m \u001b[38;5;66;03m# it will also try to release it and we'll have a double-release\u001b[39;00m\n\u001b[1;32m    727\u001b[0m \u001b[38;5;66;03m# mess.\u001b[39;00m\n",
      "File \u001b[0;32m~/anaconda3/envs/recoenv/lib/python3.11/site-packages/urllib3/connectionpool.py:403\u001b[0m, in \u001b[0;36mHTTPConnectionPool._make_request\u001b[0;34m(self, conn, method, url, timeout, chunked, **httplib_request_kw)\u001b[0m\n\u001b[1;32m    402\u001b[0m \u001b[38;5;28;01mtry\u001b[39;00m:\n\u001b[0;32m--> 403\u001b[0m     \u001b[38;5;28mself\u001b[39m\u001b[38;5;241m.\u001b[39m_validate_conn(conn)\n\u001b[1;32m    404\u001b[0m \u001b[38;5;28;01mexcept\u001b[39;00m (SocketTimeout, BaseSSLError) \u001b[38;5;28;01mas\u001b[39;00m e:\n\u001b[1;32m    405\u001b[0m     \u001b[38;5;66;03m# Py2 raises this as a BaseSSLError, Py3 raises it as socket timeout.\u001b[39;00m\n",
      "File \u001b[0;32m~/anaconda3/envs/recoenv/lib/python3.11/site-packages/urllib3/connectionpool.py:1053\u001b[0m, in \u001b[0;36mHTTPSConnectionPool._validate_conn\u001b[0;34m(self, conn)\u001b[0m\n\u001b[1;32m   1052\u001b[0m \u001b[38;5;28;01mif\u001b[39;00m \u001b[38;5;129;01mnot\u001b[39;00m \u001b[38;5;28mgetattr\u001b[39m(conn, \u001b[38;5;124m\"\u001b[39m\u001b[38;5;124msock\u001b[39m\u001b[38;5;124m\"\u001b[39m, \u001b[38;5;28;01mNone\u001b[39;00m):  \u001b[38;5;66;03m# AppEngine might not have  `.sock`\u001b[39;00m\n\u001b[0;32m-> 1053\u001b[0m     conn\u001b[38;5;241m.\u001b[39mconnect()\n\u001b[1;32m   1055\u001b[0m \u001b[38;5;28;01mif\u001b[39;00m \u001b[38;5;129;01mnot\u001b[39;00m conn\u001b[38;5;241m.\u001b[39mis_verified:\n",
      "File \u001b[0;32m~/anaconda3/envs/recoenv/lib/python3.11/site-packages/urllib3/connection.py:363\u001b[0m, in \u001b[0;36mHTTPSConnection.connect\u001b[0;34m(self)\u001b[0m\n\u001b[1;32m    361\u001b[0m \u001b[38;5;28;01mdef\u001b[39;00m \u001b[38;5;21mconnect\u001b[39m(\u001b[38;5;28mself\u001b[39m):\n\u001b[1;32m    362\u001b[0m     \u001b[38;5;66;03m# Add certificate verification\u001b[39;00m\n\u001b[0;32m--> 363\u001b[0m     \u001b[38;5;28mself\u001b[39m\u001b[38;5;241m.\u001b[39msock \u001b[38;5;241m=\u001b[39m conn \u001b[38;5;241m=\u001b[39m \u001b[38;5;28mself\u001b[39m\u001b[38;5;241m.\u001b[39m_new_conn()\n\u001b[1;32m    364\u001b[0m     hostname \u001b[38;5;241m=\u001b[39m \u001b[38;5;28mself\u001b[39m\u001b[38;5;241m.\u001b[39mhost\n",
      "File \u001b[0;32m~/anaconda3/envs/recoenv/lib/python3.11/site-packages/urllib3/connection.py:186\u001b[0m, in \u001b[0;36mHTTPConnection._new_conn\u001b[0;34m(self)\u001b[0m\n\u001b[1;32m    185\u001b[0m \u001b[38;5;28;01mexcept\u001b[39;00m SocketError \u001b[38;5;28;01mas\u001b[39;00m e:\n\u001b[0;32m--> 186\u001b[0m     \u001b[38;5;28;01mraise\u001b[39;00m NewConnectionError(\n\u001b[1;32m    187\u001b[0m         \u001b[38;5;28mself\u001b[39m, \u001b[38;5;124m\"\u001b[39m\u001b[38;5;124mFailed to establish a new connection: \u001b[39m\u001b[38;5;132;01m%s\u001b[39;00m\u001b[38;5;124m\"\u001b[39m \u001b[38;5;241m%\u001b[39m e\n\u001b[1;32m    188\u001b[0m     )\n\u001b[1;32m    190\u001b[0m \u001b[38;5;28;01mreturn\u001b[39;00m conn\n",
      "\u001b[0;31mNewConnectionError\u001b[0m: <urllib3.connection.HTTPSConnection object at 0x168c69710>: Failed to establish a new connection: [Errno 8] nodename nor servname provided, or not known",
      "\nDuring handling of the above exception, another exception occurred:\n",
      "\u001b[0;31mMaxRetryError\u001b[0m                             Traceback (most recent call last)",
      "File \u001b[0;32m~/anaconda3/envs/recoenv/lib/python3.11/site-packages/requests/adapters.py:486\u001b[0m, in \u001b[0;36mHTTPAdapter.send\u001b[0;34m(self, request, stream, timeout, verify, cert, proxies)\u001b[0m\n\u001b[1;32m    485\u001b[0m \u001b[38;5;28;01mtry\u001b[39;00m:\n\u001b[0;32m--> 486\u001b[0m     resp \u001b[38;5;241m=\u001b[39m conn\u001b[38;5;241m.\u001b[39murlopen(\n\u001b[1;32m    487\u001b[0m         method\u001b[38;5;241m=\u001b[39mrequest\u001b[38;5;241m.\u001b[39mmethod,\n\u001b[1;32m    488\u001b[0m         url\u001b[38;5;241m=\u001b[39murl,\n\u001b[1;32m    489\u001b[0m         body\u001b[38;5;241m=\u001b[39mrequest\u001b[38;5;241m.\u001b[39mbody,\n\u001b[1;32m    490\u001b[0m         headers\u001b[38;5;241m=\u001b[39mrequest\u001b[38;5;241m.\u001b[39mheaders,\n\u001b[1;32m    491\u001b[0m         redirect\u001b[38;5;241m=\u001b[39m\u001b[38;5;28;01mFalse\u001b[39;00m,\n\u001b[1;32m    492\u001b[0m         assert_same_host\u001b[38;5;241m=\u001b[39m\u001b[38;5;28;01mFalse\u001b[39;00m,\n\u001b[1;32m    493\u001b[0m         preload_content\u001b[38;5;241m=\u001b[39m\u001b[38;5;28;01mFalse\u001b[39;00m,\n\u001b[1;32m    494\u001b[0m         decode_content\u001b[38;5;241m=\u001b[39m\u001b[38;5;28;01mFalse\u001b[39;00m,\n\u001b[1;32m    495\u001b[0m         retries\u001b[38;5;241m=\u001b[39m\u001b[38;5;28mself\u001b[39m\u001b[38;5;241m.\u001b[39mmax_retries,\n\u001b[1;32m    496\u001b[0m         timeout\u001b[38;5;241m=\u001b[39mtimeout,\n\u001b[1;32m    497\u001b[0m         chunked\u001b[38;5;241m=\u001b[39mchunked,\n\u001b[1;32m    498\u001b[0m     )\n\u001b[1;32m    500\u001b[0m \u001b[38;5;28;01mexcept\u001b[39;00m (ProtocolError, \u001b[38;5;167;01mOSError\u001b[39;00m) \u001b[38;5;28;01mas\u001b[39;00m err:\n",
      "File \u001b[0;32m~/anaconda3/envs/recoenv/lib/python3.11/site-packages/urllib3/connectionpool.py:798\u001b[0m, in \u001b[0;36mHTTPConnectionPool.urlopen\u001b[0;34m(self, method, url, body, headers, retries, redirect, assert_same_host, timeout, pool_timeout, release_conn, chunked, body_pos, **response_kw)\u001b[0m\n\u001b[1;32m    796\u001b[0m     e \u001b[38;5;241m=\u001b[39m ProtocolError(\u001b[38;5;124m\"\u001b[39m\u001b[38;5;124mConnection aborted.\u001b[39m\u001b[38;5;124m\"\u001b[39m, e)\n\u001b[0;32m--> 798\u001b[0m retries \u001b[38;5;241m=\u001b[39m retries\u001b[38;5;241m.\u001b[39mincrement(\n\u001b[1;32m    799\u001b[0m     method, url, error\u001b[38;5;241m=\u001b[39me, _pool\u001b[38;5;241m=\u001b[39m\u001b[38;5;28mself\u001b[39m, _stacktrace\u001b[38;5;241m=\u001b[39msys\u001b[38;5;241m.\u001b[39mexc_info()[\u001b[38;5;241m2\u001b[39m]\n\u001b[1;32m    800\u001b[0m )\n\u001b[1;32m    801\u001b[0m retries\u001b[38;5;241m.\u001b[39msleep()\n",
      "File \u001b[0;32m~/anaconda3/envs/recoenv/lib/python3.11/site-packages/urllib3/util/retry.py:592\u001b[0m, in \u001b[0;36mRetry.increment\u001b[0;34m(self, method, url, response, error, _pool, _stacktrace)\u001b[0m\n\u001b[1;32m    591\u001b[0m \u001b[38;5;28;01mif\u001b[39;00m new_retry\u001b[38;5;241m.\u001b[39mis_exhausted():\n\u001b[0;32m--> 592\u001b[0m     \u001b[38;5;28;01mraise\u001b[39;00m MaxRetryError(_pool, url, error \u001b[38;5;129;01mor\u001b[39;00m ResponseError(cause))\n\u001b[1;32m    594\u001b[0m log\u001b[38;5;241m.\u001b[39mdebug(\u001b[38;5;124m\"\u001b[39m\u001b[38;5;124mIncremented Retry for (url=\u001b[39m\u001b[38;5;124m'\u001b[39m\u001b[38;5;132;01m%s\u001b[39;00m\u001b[38;5;124m'\u001b[39m\u001b[38;5;124m): \u001b[39m\u001b[38;5;132;01m%r\u001b[39;00m\u001b[38;5;124m\"\u001b[39m, url, new_retry)\n",
      "\u001b[0;31mMaxRetryError\u001b[0m: HTTPSConnectionPool(host='search-finance-content-search-53kxgsezmqf7cyna2ccm67hipi.ap-south-1.es.amazonaws.com', port=443): Max retries exceeded with url: /finance-content/_search (Caused by NewConnectionError('<urllib3.connection.HTTPSConnection object at 0x168c69710>: Failed to establish a new connection: [Errno 8] nodename nor servname provided, or not known'))",
      "\nDuring handling of the above exception, another exception occurred:\n",
      "\u001b[0;31mConnectionError\u001b[0m                           Traceback (most recent call last)",
      "Cell \u001b[0;32mIn[25], line 7\u001b[0m\n\u001b[1;32m      5\u001b[0m futures \u001b[38;5;241m=\u001b[39m [executor\u001b[38;5;241m.\u001b[39msubmit(get_top_hits_for_query_row, row) \u001b[38;5;28;01mfor\u001b[39;00m index, row \u001b[38;5;129;01min\u001b[39;00m query_chunk\u001b[38;5;241m.\u001b[39miterrows()]\n\u001b[1;32m      6\u001b[0m \u001b[38;5;28;01mfor\u001b[39;00m future \u001b[38;5;129;01min\u001b[39;00m as_completed(futures):\n\u001b[0;32m----> 7\u001b[0m     response \u001b[38;5;241m=\u001b[39m future\u001b[38;5;241m.\u001b[39mresult()\n\u001b[1;32m      8\u001b[0m     \u001b[38;5;28;01mif\u001b[39;00m response:  \u001b[38;5;66;03m# Timeout or other errors\u001b[39;00m\n\u001b[1;32m      9\u001b[0m         search_result_articles\u001b[38;5;241m.\u001b[39mappend(response)\n",
      "File \u001b[0;32m~/anaconda3/envs/recoenv/lib/python3.11/concurrent/futures/_base.py:449\u001b[0m, in \u001b[0;36mFuture.result\u001b[0;34m(self, timeout)\u001b[0m\n\u001b[1;32m    447\u001b[0m     \u001b[38;5;28;01mraise\u001b[39;00m CancelledError()\n\u001b[1;32m    448\u001b[0m \u001b[38;5;28;01melif\u001b[39;00m \u001b[38;5;28mself\u001b[39m\u001b[38;5;241m.\u001b[39m_state \u001b[38;5;241m==\u001b[39m FINISHED:\n\u001b[0;32m--> 449\u001b[0m     \u001b[38;5;28;01mreturn\u001b[39;00m \u001b[38;5;28mself\u001b[39m\u001b[38;5;241m.\u001b[39m__get_result()\n\u001b[1;32m    451\u001b[0m \u001b[38;5;28mself\u001b[39m\u001b[38;5;241m.\u001b[39m_condition\u001b[38;5;241m.\u001b[39mwait(timeout)\n\u001b[1;32m    453\u001b[0m \u001b[38;5;28;01mif\u001b[39;00m \u001b[38;5;28mself\u001b[39m\u001b[38;5;241m.\u001b[39m_state \u001b[38;5;129;01min\u001b[39;00m [CANCELLED, CANCELLED_AND_NOTIFIED]:\n",
      "File \u001b[0;32m~/anaconda3/envs/recoenv/lib/python3.11/concurrent/futures/_base.py:401\u001b[0m, in \u001b[0;36mFuture.__get_result\u001b[0;34m(self)\u001b[0m\n\u001b[1;32m    399\u001b[0m \u001b[38;5;28;01mif\u001b[39;00m \u001b[38;5;28mself\u001b[39m\u001b[38;5;241m.\u001b[39m_exception:\n\u001b[1;32m    400\u001b[0m     \u001b[38;5;28;01mtry\u001b[39;00m:\n\u001b[0;32m--> 401\u001b[0m         \u001b[38;5;28;01mraise\u001b[39;00m \u001b[38;5;28mself\u001b[39m\u001b[38;5;241m.\u001b[39m_exception\n\u001b[1;32m    402\u001b[0m     \u001b[38;5;28;01mfinally\u001b[39;00m:\n\u001b[1;32m    403\u001b[0m         \u001b[38;5;66;03m# Break a reference cycle with the exception in self._exception\u001b[39;00m\n\u001b[1;32m    404\u001b[0m         \u001b[38;5;28mself\u001b[39m \u001b[38;5;241m=\u001b[39m \u001b[38;5;28;01mNone\u001b[39;00m\n",
      "File \u001b[0;32m~/anaconda3/envs/recoenv/lib/python3.11/concurrent/futures/thread.py:58\u001b[0m, in \u001b[0;36m_WorkItem.run\u001b[0;34m(self)\u001b[0m\n\u001b[1;32m     55\u001b[0m     \u001b[38;5;28;01mreturn\u001b[39;00m\n\u001b[1;32m     57\u001b[0m \u001b[38;5;28;01mtry\u001b[39;00m:\n\u001b[0;32m---> 58\u001b[0m     result \u001b[38;5;241m=\u001b[39m \u001b[38;5;28mself\u001b[39m\u001b[38;5;241m.\u001b[39mfn(\u001b[38;5;241m*\u001b[39m\u001b[38;5;28mself\u001b[39m\u001b[38;5;241m.\u001b[39margs, \u001b[38;5;241m*\u001b[39m\u001b[38;5;241m*\u001b[39m\u001b[38;5;28mself\u001b[39m\u001b[38;5;241m.\u001b[39mkwargs)\n\u001b[1;32m     59\u001b[0m \u001b[38;5;28;01mexcept\u001b[39;00m \u001b[38;5;167;01mBaseException\u001b[39;00m \u001b[38;5;28;01mas\u001b[39;00m exc:\n\u001b[1;32m     60\u001b[0m     \u001b[38;5;28mself\u001b[39m\u001b[38;5;241m.\u001b[39mfuture\u001b[38;5;241m.\u001b[39mset_exception(exc)\n",
      "Cell \u001b[0;32mIn[19], line 10\u001b[0m, in \u001b[0;36mget_top_hits_for_query_row\u001b[0;34m(query_row)\u001b[0m\n\u001b[1;32m      8\u001b[0m         results_object \u001b[38;5;241m=\u001b[39m HybridSearchService\u001b[38;5;241m.\u001b[39mperform_hybrid_reranked_search(query_text \u001b[38;5;241m=\u001b[39m query_row\u001b[38;5;241m.\u001b[39mimproved_query, recency_importance\u001b[38;5;241m=\u001b[39m\u001b[38;5;124m'\u001b[39m\u001b[38;5;124mmedium\u001b[39m\u001b[38;5;124m'\u001b[39m,max_published_date\u001b[38;5;241m=\u001b[39mformatted_date)\n\u001b[1;32m      9\u001b[0m     \u001b[38;5;28;01melse\u001b[39;00m:\n\u001b[0;32m---> 10\u001b[0m         results_object \u001b[38;5;241m=\u001b[39m HybridSearchService\u001b[38;5;241m.\u001b[39mperform_hybrid_reranked_search(query_text \u001b[38;5;241m=\u001b[39m query_row\u001b[38;5;241m.\u001b[39mimproved_query, recency_importance\u001b[38;5;241m=\u001b[39mquery_row\u001b[38;5;241m.\u001b[39mrecency_importance,max_published_date\u001b[38;5;241m=\u001b[39mformatted_date)\n\u001b[1;32m     11\u001b[0m \u001b[38;5;28;01melse\u001b[39;00m:\n\u001b[1;32m     12\u001b[0m     results_object \u001b[38;5;241m=\u001b[39m HybridSearchService\u001b[38;5;241m.\u001b[39mperform_hybrid_reranked_search(query_text \u001b[38;5;241m=\u001b[39m query_row\u001b[38;5;241m.\u001b[39mquery, recency_importance\u001b[38;5;241m=\u001b[39m\u001b[38;5;124m'\u001b[39m\u001b[38;5;124mmedium\u001b[39m\u001b[38;5;124m'\u001b[39m, max_published_date\u001b[38;5;241m=\u001b[39mformatted_date)\n",
      "File \u001b[0;32m~/Desktop/ML/Recommendations/hubble/src/HybridSearchService.py:156\u001b[0m, in \u001b[0;36mHybridSearchService.perform_hybrid_reranked_search\u001b[0;34m(query_text, recency_importance, max_published_date, search_n, return_n)\u001b[0m\n\u001b[1;32m    154\u001b[0m semantic_article_df \u001b[38;5;241m=\u001b[39m HybridSearchService\u001b[38;5;241m.\u001b[39m_perform_semantic_search(query_text, n\u001b[38;5;241m=\u001b[39msearch_n)\n\u001b[1;32m    155\u001b[0m logger\u001b[38;5;241m.\u001b[39minfo(\u001b[38;5;124mf\u001b[39m\u001b[38;5;124m\"\u001b[39m\u001b[38;5;124mtook \u001b[39m\u001b[38;5;132;01m{\u001b[39;00m\u001b[38;5;28mround\u001b[39m(time\u001b[38;5;241m.\u001b[39mtime()\u001b[38;5;250m \u001b[39m\u001b[38;5;241m-\u001b[39m\u001b[38;5;250m \u001b[39mstart_time,\u001b[38;5;250m \u001b[39m\u001b[38;5;241m3\u001b[39m)\u001b[38;5;132;01m}\u001b[39;00m\u001b[38;5;124m seconds to retrieve nearest \u001b[39m\u001b[38;5;132;01m{\u001b[39;00msearch_n\u001b[38;5;132;01m}\u001b[39;00m\u001b[38;5;124m sematic items for search query \u001b[39m\u001b[38;5;132;01m{\u001b[39;00mquery_text\u001b[38;5;132;01m}\u001b[39;00m\u001b[38;5;124m\"\u001b[39m)\n\u001b[0;32m--> 156\u001b[0m exact_article_df \u001b[38;5;241m=\u001b[39m HybridSearchService\u001b[38;5;241m.\u001b[39m_perform_exact_search(query_text, recency_importance\u001b[38;5;241m=\u001b[39mrecency_importance, max_published_date\u001b[38;5;241m=\u001b[39mmax_published_date, n\u001b[38;5;241m=\u001b[39msearch_n)\n\u001b[1;32m    157\u001b[0m logger\u001b[38;5;241m.\u001b[39minfo(\u001b[38;5;124mf\u001b[39m\u001b[38;5;124m\"\u001b[39m\u001b[38;5;124mtook \u001b[39m\u001b[38;5;132;01m{\u001b[39;00m\u001b[38;5;28mround\u001b[39m(time\u001b[38;5;241m.\u001b[39mtime()\u001b[38;5;250m \u001b[39m\u001b[38;5;241m-\u001b[39m\u001b[38;5;250m \u001b[39mstart_time,\u001b[38;5;250m \u001b[39m\u001b[38;5;241m3\u001b[39m)\u001b[38;5;132;01m}\u001b[39;00m\u001b[38;5;124m seconds to retrieve nearest \u001b[39m\u001b[38;5;132;01m{\u001b[39;00msearch_n\u001b[38;5;132;01m}\u001b[39;00m\u001b[38;5;124m exact items for search query \u001b[39m\u001b[38;5;132;01m{\u001b[39;00mquery_text\u001b[38;5;132;01m}\u001b[39;00m\u001b[38;5;124m\"\u001b[39m)\n\u001b[1;32m    158\u001b[0m top_article_ids \u001b[38;5;241m=\u001b[39m \u001b[38;5;28mset\u001b[39m(\u001b[38;5;28mlist\u001b[39m(semantic_article_df[\u001b[38;5;124m'\u001b[39m\u001b[38;5;124marticle_id\u001b[39m\u001b[38;5;124m'\u001b[39m]\u001b[38;5;241m.\u001b[39munique()))\u001b[38;5;241m.\u001b[39munion(\u001b[38;5;28mset\u001b[39m(\u001b[38;5;28mlist\u001b[39m(exact_article_df[\u001b[38;5;124m'\u001b[39m\u001b[38;5;124marticle_id\u001b[39m\u001b[38;5;124m'\u001b[39m]\u001b[38;5;241m.\u001b[39munique())))\n",
      "File \u001b[0;32m~/Desktop/ML/Recommendations/hubble/src/HybridSearchService.py:132\u001b[0m, in \u001b[0;36mHybridSearchService._perform_exact_search\u001b[0;34m(query_text, recency_importance, max_published_date, n)\u001b[0m\n\u001b[1;32m     80\u001b[0m         query[\u001b[38;5;124m\"\u001b[39m\u001b[38;5;124mquery\u001b[39m\u001b[38;5;124m\"\u001b[39m][\u001b[38;5;124m\"\u001b[39m\u001b[38;5;124mbool\u001b[39m\u001b[38;5;124m\"\u001b[39m][\u001b[38;5;124m\"\u001b[39m\u001b[38;5;124mmust\u001b[39m\u001b[38;5;124m\"\u001b[39m]\u001b[38;5;241m.\u001b[39mappend({\n\u001b[1;32m     81\u001b[0m             \u001b[38;5;124m\"\u001b[39m\u001b[38;5;124mrange\u001b[39m\u001b[38;5;124m\"\u001b[39m: {\n\u001b[1;32m     82\u001b[0m                 \u001b[38;5;124m\"\u001b[39m\u001b[38;5;124mpublished_time\u001b[39m\u001b[38;5;124m\"\u001b[39m: range_filter\n\u001b[1;32m     83\u001b[0m             }\n\u001b[1;32m     84\u001b[0m         })\n\u001b[1;32m     86\u001b[0m \u001b[38;5;66;03m# query = {\u001b[39;00m\n\u001b[1;32m     87\u001b[0m \u001b[38;5;66;03m#     \"size\": n,\u001b[39;00m\n\u001b[1;32m     88\u001b[0m \u001b[38;5;66;03m#     \"query\": {\u001b[39;00m\n\u001b[0;32m   (...)\u001b[0m\n\u001b[1;32m    129\u001b[0m \u001b[38;5;66;03m#     }\u001b[39;00m\n\u001b[1;32m    130\u001b[0m \u001b[38;5;66;03m# }\u001b[39;00m\n\u001b[0;32m--> 132\u001b[0m response \u001b[38;5;241m=\u001b[39m requests\u001b[38;5;241m.\u001b[39mget(ES_URL, auth\u001b[38;5;241m=\u001b[39mHTTPBasicAuth(username\u001b[38;5;241m=\u001b[39mos\u001b[38;5;241m.\u001b[39menviron\u001b[38;5;241m.\u001b[39mget(\u001b[38;5;124m'\u001b[39m\u001b[38;5;124mES_USERNAME\u001b[39m\u001b[38;5;124m'\u001b[39m), password\u001b[38;5;241m=\u001b[39mos\u001b[38;5;241m.\u001b[39menviron\u001b[38;5;241m.\u001b[39mget(\u001b[38;5;124m'\u001b[39m\u001b[38;5;124mES_PASSWORD\u001b[39m\u001b[38;5;124m'\u001b[39m)), headers\u001b[38;5;241m=\u001b[39mheaders, json\u001b[38;5;241m=\u001b[39mquery)\n\u001b[1;32m    133\u001b[0m results \u001b[38;5;241m=\u001b[39m json\u001b[38;5;241m.\u001b[39mloads(response\u001b[38;5;241m.\u001b[39mtext)[\u001b[38;5;124m'\u001b[39m\u001b[38;5;124mhits\u001b[39m\u001b[38;5;124m'\u001b[39m][\u001b[38;5;124m'\u001b[39m\u001b[38;5;124mhits\u001b[39m\u001b[38;5;124m'\u001b[39m][:n]\n\u001b[1;32m    134\u001b[0m \u001b[38;5;28;01mreturn\u001b[39;00m pd\u001b[38;5;241m.\u001b[39mDataFrame([(x[\u001b[38;5;124m'\u001b[39m\u001b[38;5;124m_id\u001b[39m\u001b[38;5;124m'\u001b[39m], x[\u001b[38;5;124m'\u001b[39m\u001b[38;5;124m_score\u001b[39m\u001b[38;5;124m'\u001b[39m]) \u001b[38;5;28;01mfor\u001b[39;00m x \u001b[38;5;129;01min\u001b[39;00m results], columns\u001b[38;5;241m=\u001b[39m[\u001b[38;5;124m'\u001b[39m\u001b[38;5;124marticle_id\u001b[39m\u001b[38;5;124m'\u001b[39m, \u001b[38;5;124m'\u001b[39m\u001b[38;5;124mscore\u001b[39m\u001b[38;5;124m'\u001b[39m])\n",
      "File \u001b[0;32m~/anaconda3/envs/recoenv/lib/python3.11/site-packages/requests/api.py:73\u001b[0m, in \u001b[0;36mget\u001b[0;34m(url, params, **kwargs)\u001b[0m\n\u001b[1;32m     62\u001b[0m \u001b[38;5;28;01mdef\u001b[39;00m \u001b[38;5;21mget\u001b[39m(url, params\u001b[38;5;241m=\u001b[39m\u001b[38;5;28;01mNone\u001b[39;00m, \u001b[38;5;241m*\u001b[39m\u001b[38;5;241m*\u001b[39mkwargs):\n\u001b[1;32m     63\u001b[0m \u001b[38;5;250m    \u001b[39m\u001b[38;5;124mr\u001b[39m\u001b[38;5;124;03m\"\"\"Sends a GET request.\u001b[39;00m\n\u001b[1;32m     64\u001b[0m \n\u001b[1;32m     65\u001b[0m \u001b[38;5;124;03m    :param url: URL for the new :class:`Request` object.\u001b[39;00m\n\u001b[0;32m   (...)\u001b[0m\n\u001b[1;32m     70\u001b[0m \u001b[38;5;124;03m    :rtype: requests.Response\u001b[39;00m\n\u001b[1;32m     71\u001b[0m \u001b[38;5;124;03m    \"\"\"\u001b[39;00m\n\u001b[0;32m---> 73\u001b[0m     \u001b[38;5;28;01mreturn\u001b[39;00m request(\u001b[38;5;124m\"\u001b[39m\u001b[38;5;124mget\u001b[39m\u001b[38;5;124m\"\u001b[39m, url, params\u001b[38;5;241m=\u001b[39mparams, \u001b[38;5;241m*\u001b[39m\u001b[38;5;241m*\u001b[39mkwargs)\n",
      "File \u001b[0;32m~/anaconda3/envs/recoenv/lib/python3.11/site-packages/requests/api.py:59\u001b[0m, in \u001b[0;36mrequest\u001b[0;34m(method, url, **kwargs)\u001b[0m\n\u001b[1;32m     55\u001b[0m \u001b[38;5;66;03m# By using the 'with' statement we are sure the session is closed, thus we\u001b[39;00m\n\u001b[1;32m     56\u001b[0m \u001b[38;5;66;03m# avoid leaving sockets open which can trigger a ResourceWarning in some\u001b[39;00m\n\u001b[1;32m     57\u001b[0m \u001b[38;5;66;03m# cases, and look like a memory leak in others.\u001b[39;00m\n\u001b[1;32m     58\u001b[0m \u001b[38;5;28;01mwith\u001b[39;00m sessions\u001b[38;5;241m.\u001b[39mSession() \u001b[38;5;28;01mas\u001b[39;00m session:\n\u001b[0;32m---> 59\u001b[0m     \u001b[38;5;28;01mreturn\u001b[39;00m session\u001b[38;5;241m.\u001b[39mrequest(method\u001b[38;5;241m=\u001b[39mmethod, url\u001b[38;5;241m=\u001b[39murl, \u001b[38;5;241m*\u001b[39m\u001b[38;5;241m*\u001b[39mkwargs)\n",
      "File \u001b[0;32m~/anaconda3/envs/recoenv/lib/python3.11/site-packages/requests/sessions.py:589\u001b[0m, in \u001b[0;36mSession.request\u001b[0;34m(self, method, url, params, data, headers, cookies, files, auth, timeout, allow_redirects, proxies, hooks, stream, verify, cert, json)\u001b[0m\n\u001b[1;32m    584\u001b[0m send_kwargs \u001b[38;5;241m=\u001b[39m {\n\u001b[1;32m    585\u001b[0m     \u001b[38;5;124m\"\u001b[39m\u001b[38;5;124mtimeout\u001b[39m\u001b[38;5;124m\"\u001b[39m: timeout,\n\u001b[1;32m    586\u001b[0m     \u001b[38;5;124m\"\u001b[39m\u001b[38;5;124mallow_redirects\u001b[39m\u001b[38;5;124m\"\u001b[39m: allow_redirects,\n\u001b[1;32m    587\u001b[0m }\n\u001b[1;32m    588\u001b[0m send_kwargs\u001b[38;5;241m.\u001b[39mupdate(settings)\n\u001b[0;32m--> 589\u001b[0m resp \u001b[38;5;241m=\u001b[39m \u001b[38;5;28mself\u001b[39m\u001b[38;5;241m.\u001b[39msend(prep, \u001b[38;5;241m*\u001b[39m\u001b[38;5;241m*\u001b[39msend_kwargs)\n\u001b[1;32m    591\u001b[0m \u001b[38;5;28;01mreturn\u001b[39;00m resp\n",
      "File \u001b[0;32m~/anaconda3/envs/recoenv/lib/python3.11/site-packages/requests/sessions.py:703\u001b[0m, in \u001b[0;36mSession.send\u001b[0;34m(self, request, **kwargs)\u001b[0m\n\u001b[1;32m    700\u001b[0m start \u001b[38;5;241m=\u001b[39m preferred_clock()\n\u001b[1;32m    702\u001b[0m \u001b[38;5;66;03m# Send the request\u001b[39;00m\n\u001b[0;32m--> 703\u001b[0m r \u001b[38;5;241m=\u001b[39m adapter\u001b[38;5;241m.\u001b[39msend(request, \u001b[38;5;241m*\u001b[39m\u001b[38;5;241m*\u001b[39mkwargs)\n\u001b[1;32m    705\u001b[0m \u001b[38;5;66;03m# Total elapsed time of the request (approximately)\u001b[39;00m\n\u001b[1;32m    706\u001b[0m elapsed \u001b[38;5;241m=\u001b[39m preferred_clock() \u001b[38;5;241m-\u001b[39m start\n",
      "File \u001b[0;32m~/anaconda3/envs/recoenv/lib/python3.11/site-packages/requests/adapters.py:519\u001b[0m, in \u001b[0;36mHTTPAdapter.send\u001b[0;34m(self, request, stream, timeout, verify, cert, proxies)\u001b[0m\n\u001b[1;32m    515\u001b[0m     \u001b[38;5;28;01mif\u001b[39;00m \u001b[38;5;28misinstance\u001b[39m(e\u001b[38;5;241m.\u001b[39mreason, _SSLError):\n\u001b[1;32m    516\u001b[0m         \u001b[38;5;66;03m# This branch is for urllib3 v1.22 and later.\u001b[39;00m\n\u001b[1;32m    517\u001b[0m         \u001b[38;5;28;01mraise\u001b[39;00m SSLError(e, request\u001b[38;5;241m=\u001b[39mrequest)\n\u001b[0;32m--> 519\u001b[0m     \u001b[38;5;28;01mraise\u001b[39;00m \u001b[38;5;167;01mConnectionError\u001b[39;00m(e, request\u001b[38;5;241m=\u001b[39mrequest)\n\u001b[1;32m    521\u001b[0m \u001b[38;5;28;01mexcept\u001b[39;00m ClosedPoolError \u001b[38;5;28;01mas\u001b[39;00m e:\n\u001b[1;32m    522\u001b[0m     \u001b[38;5;28;01mraise\u001b[39;00m \u001b[38;5;167;01mConnectionError\u001b[39;00m(e, request\u001b[38;5;241m=\u001b[39mrequest)\n",
      "\u001b[0;31mConnectionError\u001b[0m: HTTPSConnectionPool(host='search-finance-content-search-53kxgsezmqf7cyna2ccm67hipi.ap-south-1.es.amazonaws.com', port=443): Max retries exceeded with url: /finance-content/_search (Caused by NewConnectionError('<urllib3.connection.HTTPSConnection object at 0x168c69710>: Failed to establish a new connection: [Errno 8] nodename nor servname provided, or not known'))"
     ]
    }
   ],
   "source": [
    "for i in range(num_chunks):\n",
    "    query_chunk = queries_df.iloc[i*chunk_size:(i+1)*chunk_size]\n",
    "    start_time = time.time()\n",
    "    with ThreadPoolExecutor(max_workers=30) as executor:\n",
    "        futures = [executor.submit(get_top_hits_for_query_row, row) for index, row in query_chunk.iterrows()]\n",
    "        for future in as_completed(futures):\n",
    "            response = future.result()\n",
    "            if response:  # Timeout or other errors\n",
    "                search_result_articles.append(response)\n",
    "    print(f'completed chunk {(i + 1) * chunk_size} queries at {\"{:%b %d, %Y %H:%M}\".format(datetime.now())} in {int(time.time() - start_time)/60} minutes')"
   ]
  },
  {
   "cell_type": "code",
   "execution_count": 29,
   "id": "0629b228-bcb5-4041-9657-5c0911ef3ac1",
   "metadata": {
    "tags": []
   },
   "outputs": [],
   "source": [
    "old_i = i"
   ]
  },
  {
   "cell_type": "code",
   "execution_count": 30,
   "id": "5e407cdb-543b-47df-b597-57e736bc2d87",
   "metadata": {
    "tags": []
   },
   "outputs": [
    {
     "data": {
      "text/plain": [
       "1231"
      ]
     },
     "execution_count": 30,
     "metadata": {},
     "output_type": "execute_result"
    }
   ],
   "source": [
    "len(search_result_articles)"
   ]
  },
  {
   "cell_type": "code",
   "execution_count": 31,
   "id": "f33001dd-0eb2-4395-ba26-e6941bb228dc",
   "metadata": {
    "scrolled": true,
    "tags": []
   },
   "outputs": [
    {
     "name": "stdout",
     "output_type": "stream",
     "text": [
      "completed chunk 1240 queries at Feb 05, 2024 21:42 in 0.26666666666666666 minutes\n",
      "completed chunk 1250 queries at Feb 05, 2024 21:42 in 0.18333333333333332 minutes\n"
     ]
    },
    {
     "name": "stderr",
     "output_type": "stream",
     "text": [
      "WARNING:root:cleaned article 65bf6e4ec119ff6e57a3ee3b - headline: Coal India Ltd soars 1.87%.  content: None has less than 10 words or 30 characters\n"
     ]
    },
    {
     "name": "stdout",
     "output_type": "stream",
     "text": [
      "completed chunk 1260 queries at Feb 05, 2024 21:42 in 0.2 minutes\n",
      "completed chunk 1270 queries at Feb 05, 2024 21:42 in 0.26666666666666666 minutes\n",
      "completed chunk 1280 queries at Feb 05, 2024 21:43 in 0.25 minutes\n",
      "completed chunk 1290 queries at Feb 05, 2024 21:43 in 0.3 minutes\n",
      "completed chunk 1300 queries at Feb 05, 2024 21:43 in 0.2833333333333333 minutes\n",
      "completed chunk 1310 queries at Feb 05, 2024 21:43 in 0.23333333333333334 minutes\n",
      "completed chunk 1320 queries at Feb 05, 2024 21:44 in 0.25 minutes\n",
      "completed chunk 1330 queries at Feb 05, 2024 21:44 in 0.21666666666666667 minutes\n",
      "completed chunk 1340 queries at Feb 05, 2024 21:44 in 0.23333333333333334 minutes\n",
      "completed chunk 1350 queries at Feb 05, 2024 21:44 in 0.26666666666666666 minutes\n",
      "completed chunk 1360 queries at Feb 05, 2024 21:45 in 0.2 minutes\n",
      "completed chunk 1370 queries at Feb 05, 2024 21:45 in 0.3 minutes\n",
      "completed chunk 1380 queries at Feb 05, 2024 21:45 in 0.23333333333333334 minutes\n",
      "completed chunk 1390 queries at Feb 05, 2024 21:45 in 0.18333333333333332 minutes\n",
      "completed chunk 1400 queries at Feb 05, 2024 21:46 in 0.2833333333333333 minutes\n",
      "completed chunk 1410 queries at Feb 05, 2024 21:46 in 0.2 minutes\n",
      "completed chunk 1420 queries at Feb 05, 2024 21:46 in 0.21666666666666667 minutes\n",
      "completed chunk 1430 queries at Feb 05, 2024 21:46 in 0.23333333333333334 minutes\n"
     ]
    },
    {
     "name": "stderr",
     "output_type": "stream",
     "text": [
      "WARNING:root:cleaned article 65316eaf1e5cc42b1b13e625 - headline: Unofficial alliances | Mint.  content:   has less than 10 words or 30 characters\n"
     ]
    },
    {
     "name": "stdout",
     "output_type": "stream",
     "text": [
      "completed chunk 1440 queries at Feb 05, 2024 21:47 in 0.21666666666666667 minutes\n"
     ]
    },
    {
     "name": "stderr",
     "output_type": "stream",
     "text": [
      "WARNING:root:cleaned article 65bf6e4cc119ff6e57a3ee18 - headline: Board of NIIT appoints director.  content: None has less than 10 words or 30 characters\n"
     ]
    },
    {
     "name": "stdout",
     "output_type": "stream",
     "text": [
      "completed chunk 1450 queries at Feb 05, 2024 21:47 in 0.2 minutes\n",
      "completed chunk 1460 queries at Feb 05, 2024 21:47 in 0.18333333333333332 minutes\n"
     ]
    },
    {
     "name": "stderr",
     "output_type": "stream",
     "text": [
      "WARNING:py.warnings:/Users/ravi.tej/Desktop/ML/Recommendations/hubble/src/RankingService.py:68: UserWarning: Could not infer format, so each element will be parsed individually, falling back to `dateutil`. To ensure parsing is consistent and as-expected, please specify a format.\n",
      "  published_time_df['published_time'] = pd.to_datetime(published_time_df['published_time'], utc=True)\n",
      "\n"
     ]
    },
    {
     "name": "stdout",
     "output_type": "stream",
     "text": [
      "completed chunk 1470 queries at Feb 05, 2024 21:47 in 0.18333333333333332 minutes\n",
      "completed chunk 1480 queries at Feb 05, 2024 21:47 in 0.18333333333333332 minutes\n",
      "completed chunk 1490 queries at Feb 05, 2024 21:48 in 0.18333333333333332 minutes\n",
      "completed chunk 1500 queries at Feb 05, 2024 21:48 in 0.23333333333333334 minutes\n",
      "completed chunk 1510 queries at Feb 05, 2024 21:48 in 0.21666666666666667 minutes\n",
      "completed chunk 1520 queries at Feb 05, 2024 21:48 in 0.15 minutes\n"
     ]
    },
    {
     "name": "stderr",
     "output_type": "stream",
     "text": [
      "WARNING:root:cleaned article 65bf6e4cc119ff6e57a3ee18 - headline: Board of NIIT appoints director.  content: None has less than 10 words or 30 characters\n"
     ]
    },
    {
     "name": "stdout",
     "output_type": "stream",
     "text": [
      "completed chunk 1530 queries at Feb 05, 2024 21:48 in 0.2 minutes\n",
      "completed chunk 1540 queries at Feb 05, 2024 21:49 in 0.23333333333333334 minutes\n",
      "completed chunk 1550 queries at Feb 05, 2024 21:49 in 0.2 minutes\n",
      "completed chunk 1560 queries at Feb 05, 2024 21:49 in 0.2 minutes\n",
      "completed chunk 1570 queries at Feb 05, 2024 21:49 in 0.23333333333333334 minutes\n",
      "completed chunk 1580 queries at Feb 05, 2024 21:49 in 0.2 minutes\n",
      "completed chunk 1590 queries at Feb 05, 2024 21:50 in 0.2 minutes\n",
      "completed chunk 1600 queries at Feb 05, 2024 21:50 in 0.21666666666666667 minutes\n",
      "completed chunk 1610 queries at Feb 05, 2024 21:50 in 0.23333333333333334 minutes\n",
      "completed chunk 1620 queries at Feb 05, 2024 21:50 in 0.2 minutes\n",
      "completed chunk 1630 queries at Feb 05, 2024 21:51 in 0.21666666666666667 minutes\n",
      "completed chunk 1640 queries at Feb 05, 2024 21:51 in 0.21666666666666667 minutes\n"
     ]
    },
    {
     "name": "stderr",
     "output_type": "stream",
     "text": [
      "WARNING:urllib3.connectionpool:Retrying (Retry(total=2, connect=None, read=None, redirect=None, status=None)) after connection broken by 'ProtocolError('Connection aborted.', ConnectionResetError(54, 'Connection reset by peer'))': /v1/rerank\n"
     ]
    },
    {
     "name": "stdout",
     "output_type": "stream",
     "text": [
      "completed chunk 1650 queries at Feb 05, 2024 21:51 in 0.25 minutes\n",
      "completed chunk 1660 queries at Feb 05, 2024 21:51 in 0.18333333333333332 minutes\n",
      "completed chunk 1670 queries at Feb 05, 2024 21:51 in 0.15 minutes\n"
     ]
    },
    {
     "name": "stderr",
     "output_type": "stream",
     "text": [
      "WARNING:urllib3.connectionpool:Retrying (Retry(total=2, connect=None, read=None, redirect=None, status=None)) after connection broken by 'SSLError(SSLEOFError(8, 'EOF occurred in violation of protocol (_ssl.c:2427)'))': /v1/rerank\n"
     ]
    },
    {
     "name": "stdout",
     "output_type": "stream",
     "text": [
      "completed chunk 1680 queries at Feb 05, 2024 21:52 in 0.25 minutes\n",
      "completed chunk 1690 queries at Feb 05, 2024 21:52 in 0.3 minutes\n",
      "completed chunk 1700 queries at Feb 05, 2024 21:52 in 0.23333333333333334 minutes\n",
      "completed chunk 1710 queries at Feb 05, 2024 21:52 in 0.21666666666666667 minutes\n",
      "completed chunk 1720 queries at Feb 05, 2024 21:53 in 0.16666666666666666 minutes\n",
      "completed chunk 1730 queries at Feb 05, 2024 21:53 in 0.21666666666666667 minutes\n",
      "completed chunk 1740 queries at Feb 05, 2024 21:53 in 0.18333333333333332 minutes\n",
      "completed chunk 1750 queries at Feb 05, 2024 21:53 in 0.18333333333333332 minutes\n",
      "completed chunk 1760 queries at Feb 05, 2024 21:53 in 0.18333333333333332 minutes\n",
      "completed chunk 1770 queries at Feb 05, 2024 21:54 in 0.2 minutes\n",
      "completed chunk 1780 queries at Feb 05, 2024 21:54 in 0.23333333333333334 minutes\n",
      "completed chunk 1790 queries at Feb 05, 2024 21:54 in 0.18333333333333332 minutes\n",
      "completed chunk 1800 queries at Feb 05, 2024 21:54 in 0.2 minutes\n",
      "completed chunk 1810 queries at Feb 05, 2024 21:54 in 0.2 minutes\n",
      "completed chunk 1820 queries at Feb 05, 2024 21:55 in 0.2 minutes\n",
      "completed chunk 1830 queries at Feb 05, 2024 21:55 in 0.16666666666666666 minutes\n",
      "completed chunk 1840 queries at Feb 05, 2024 21:55 in 0.21666666666666667 minutes\n"
     ]
    },
    {
     "name": "stderr",
     "output_type": "stream",
     "text": [
      "WARNING:root:cleaned article 656476dc96c80a0efa90f8ed - headline: Sector-wise FDI inflows into India.  content:  has less than 10 words or 30 characters\n"
     ]
    },
    {
     "name": "stdout",
     "output_type": "stream",
     "text": [
      "completed chunk 1850 queries at Feb 05, 2024 21:55 in 0.2 minutes\n",
      "completed chunk 1860 queries at Feb 05, 2024 21:55 in 0.23333333333333334 minutes\n",
      "completed chunk 1870 queries at Feb 05, 2024 21:56 in 0.18333333333333332 minutes\n",
      "completed chunk 1880 queries at Feb 05, 2024 21:56 in 0.18333333333333332 minutes\n",
      "completed chunk 1890 queries at Feb 05, 2024 21:56 in 0.18333333333333332 minutes\n",
      "completed chunk 1900 queries at Feb 05, 2024 21:56 in 0.2 minutes\n",
      "completed chunk 1910 queries at Feb 05, 2024 21:56 in 0.18333333333333332 minutes\n",
      "completed chunk 1920 queries at Feb 05, 2024 21:57 in 0.2 minutes\n",
      "completed chunk 1930 queries at Feb 05, 2024 21:57 in 0.18333333333333332 minutes\n"
     ]
    },
    {
     "name": "stderr",
     "output_type": "stream",
     "text": [
      "WARNING:py.warnings:/Users/ravi.tej/Desktop/ML/Recommendations/hubble/src/_utils.py:36: UserWarning: Could not infer format, so each element will be parsed individually, falling back to `dateutil`. To ensure parsing is consistent and as-expected, please specify a format.\n",
      "  published_time_df['published_time'] = pd.to_datetime(published_time_df['published_time'], utc=True)\n",
      "\n"
     ]
    },
    {
     "name": "stdout",
     "output_type": "stream",
     "text": [
      "completed chunk 1940 queries at Feb 05, 2024 21:57 in 0.15 minutes\n",
      "completed chunk 1950 queries at Feb 05, 2024 21:57 in 0.21666666666666667 minutes\n",
      "completed chunk 1960 queries at Feb 05, 2024 21:57 in 0.18333333333333332 minutes\n",
      "completed chunk 1970 queries at Feb 05, 2024 21:58 in 0.21666666666666667 minutes\n",
      "completed chunk 1980 queries at Feb 05, 2024 21:58 in 0.18333333333333332 minutes\n",
      "completed chunk 1990 queries at Feb 05, 2024 21:58 in 0.23333333333333334 minutes\n",
      "completed chunk 2000 queries at Feb 05, 2024 21:58 in 0.2 minutes\n",
      "completed chunk 2010 queries at Feb 05, 2024 21:59 in 0.21666666666666667 minutes\n",
      "completed chunk 2020 queries at Feb 05, 2024 21:59 in 0.16666666666666666 minutes\n",
      "completed chunk 2030 queries at Feb 05, 2024 21:59 in 0.23333333333333334 minutes\n",
      "completed chunk 2040 queries at Feb 05, 2024 21:59 in 0.21666666666666667 minutes\n",
      "completed chunk 2050 queries at Feb 05, 2024 21:59 in 0.25 minutes\n",
      "completed chunk 2060 queries at Feb 05, 2024 22:00 in 0.2833333333333333 minutes\n",
      "completed chunk 2070 queries at Feb 05, 2024 22:00 in 0.21666666666666667 minutes\n",
      "completed chunk 2080 queries at Feb 05, 2024 22:00 in 0.2833333333333333 minutes\n",
      "completed chunk 2090 queries at Feb 05, 2024 22:00 in 0.21666666666666667 minutes\n",
      "completed chunk 2100 queries at Feb 05, 2024 22:01 in 0.26666666666666666 minutes\n",
      "completed chunk 2110 queries at Feb 05, 2024 22:01 in 0.2 minutes\n",
      "completed chunk 2120 queries at Feb 05, 2024 22:01 in 0.25 minutes\n",
      "completed chunk 2130 queries at Feb 05, 2024 22:01 in 0.18333333333333332 minutes\n",
      "completed chunk 2140 queries at Feb 05, 2024 22:02 in 0.23333333333333334 minutes\n"
     ]
    },
    {
     "name": "stderr",
     "output_type": "stream",
     "text": [
      "WARNING:root:cleaned article 65bf3609c119ff6e57a3edaa - headline: Eicher Motors Ltd Falls 2.24%.  content: None has less than 10 words or 30 characters\n"
     ]
    },
    {
     "name": "stdout",
     "output_type": "stream",
     "text": [
      "completed chunk 2150 queries at Feb 05, 2024 22:02 in 0.2 minutes\n",
      "completed chunk 2160 queries at Feb 05, 2024 22:02 in 0.25 minutes\n",
      "completed chunk 2170 queries at Feb 05, 2024 22:02 in 0.2 minutes\n",
      "completed chunk 2180 queries at Feb 05, 2024 22:03 in 0.25 minutes\n",
      "completed chunk 2190 queries at Feb 05, 2024 22:03 in 0.18333333333333332 minutes\n",
      "completed chunk 2200 queries at Feb 05, 2024 22:03 in 0.18333333333333332 minutes\n",
      "completed chunk 2210 queries at Feb 05, 2024 22:03 in 0.3333333333333333 minutes\n",
      "completed chunk 2220 queries at Feb 05, 2024 22:03 in 0.15 minutes\n",
      "completed chunk 2230 queries at Feb 05, 2024 22:04 in 0.21666666666666667 minutes\n"
     ]
    },
    {
     "name": "stderr",
     "output_type": "stream",
     "text": [
      "WARNING:py.warnings:/Users/ravi.tej/Desktop/ML/Recommendations/hubble/src/RankingService.py:68: UserWarning: Could not infer format, so each element will be parsed individually, falling back to `dateutil`. To ensure parsing is consistent and as-expected, please specify a format.\n",
      "  published_time_df['published_time'] = pd.to_datetime(published_time_df['published_time'], utc=True)\n",
      "\n"
     ]
    },
    {
     "name": "stdout",
     "output_type": "stream",
     "text": [
      "completed chunk 2240 queries at Feb 05, 2024 22:04 in 0.25 minutes\n",
      "completed chunk 2250 queries at Feb 05, 2024 22:04 in 0.25 minutes\n",
      "completed chunk 2260 queries at Feb 05, 2024 22:04 in 0.16666666666666666 minutes\n",
      "completed chunk 2270 queries at Feb 05, 2024 22:05 in 0.23333333333333334 minutes\n",
      "completed chunk 2280 queries at Feb 05, 2024 22:05 in 0.16666666666666666 minutes\n",
      "completed chunk 2290 queries at Feb 05, 2024 22:05 in 0.2 minutes\n",
      "completed chunk 2300 queries at Feb 05, 2024 22:05 in 0.23333333333333334 minutes\n",
      "completed chunk 2310 queries at Feb 05, 2024 22:05 in 0.2 minutes\n",
      "completed chunk 2320 queries at Feb 05, 2024 22:06 in 0.15 minutes\n"
     ]
    },
    {
     "name": "stderr",
     "output_type": "stream",
     "text": [
      "WARNING:root:cleaned article 65c04f57c119ff6e57a3ef1f - headline: Singapore Market ends 1.17% up.  content: None has less than 10 words or 30 characters\n"
     ]
    },
    {
     "name": "stdout",
     "output_type": "stream",
     "text": [
      "completed chunk 2330 queries at Feb 05, 2024 22:06 in 0.18333333333333332 minutes\n"
     ]
    },
    {
     "name": "stderr",
     "output_type": "stream",
     "text": [
      "WARNING:root:cleaned article 65bf3608c119ff6e57a3ed8f - headline: US Market rebounds 1%.  content: None has less than 10 words or 30 characters\n"
     ]
    },
    {
     "name": "stdout",
     "output_type": "stream",
     "text": [
      "completed chunk 2340 queries at Feb 05, 2024 22:06 in 0.16666666666666666 minutes\n",
      "completed chunk 2350 queries at Feb 05, 2024 22:06 in 0.18333333333333332 minutes\n",
      "completed chunk 2360 queries at Feb 05, 2024 22:06 in 0.2 minutes\n",
      "completed chunk 2370 queries at Feb 05, 2024 22:07 in 0.3 minutes\n",
      "completed chunk 2380 queries at Feb 05, 2024 22:07 in 0.21666666666666667 minutes\n",
      "completed chunk 2390 queries at Feb 05, 2024 22:07 in 0.2 minutes\n",
      "completed chunk 2400 queries at Feb 05, 2024 22:07 in 0.21666666666666667 minutes\n",
      "completed chunk 2410 queries at Feb 05, 2024 22:08 in 0.23333333333333334 minutes\n",
      "completed chunk 2420 queries at Feb 05, 2024 22:08 in 0.25 minutes\n"
     ]
    },
    {
     "name": "stderr",
     "output_type": "stream",
     "text": [
      "WARNING:urllib3.connectionpool:Retrying (Retry(total=2, connect=None, read=None, redirect=None, status=None)) after connection broken by 'ProtocolError('Connection aborted.', ConnectionResetError(54, 'Connection reset by peer'))': /v1/rerank\n"
     ]
    },
    {
     "name": "stdout",
     "output_type": "stream",
     "text": [
      "completed chunk 2430 queries at Feb 05, 2024 22:08 in 0.23333333333333334 minutes\n",
      "completed chunk 2440 queries at Feb 05, 2024 22:08 in 0.23333333333333334 minutes\n",
      "completed chunk 2450 queries at Feb 05, 2024 22:08 in 0.2 minutes\n",
      "completed chunk 2460 queries at Feb 05, 2024 22:09 in 0.18333333333333332 minutes\n",
      "completed chunk 2470 queries at Feb 05, 2024 22:09 in 0.18333333333333332 minutes\n",
      "completed chunk 2480 queries at Feb 05, 2024 22:09 in 0.18333333333333332 minutes\n"
     ]
    },
    {
     "name": "stderr",
     "output_type": "stream",
     "text": [
      "WARNING:urllib3.connectionpool:Retrying (Retry(total=2, connect=None, read=None, redirect=None, status=None)) after connection broken by 'ProtocolError('Connection aborted.', OSError(22, 'Invalid argument'))': /v1/rerank\n"
     ]
    },
    {
     "name": "stdout",
     "output_type": "stream",
     "text": [
      "completed chunk 2490 queries at Feb 05, 2024 22:09 in 0.18333333333333332 minutes\n",
      "completed chunk 2500 queries at Feb 05, 2024 22:09 in 0.2 minutes\n",
      "completed chunk 2510 queries at Feb 05, 2024 22:10 in 0.2833333333333333 minutes\n",
      "completed chunk 2520 queries at Feb 05, 2024 22:10 in 0.2 minutes\n",
      "completed chunk 2530 queries at Feb 05, 2024 22:10 in 0.2 minutes\n",
      "completed chunk 2540 queries at Feb 05, 2024 22:10 in 0.2 minutes\n"
     ]
    },
    {
     "name": "stderr",
     "output_type": "stream",
     "text": [
      "WARNING:urllib3.connectionpool:Retrying (Retry(total=2, connect=None, read=None, redirect=None, status=None)) after connection broken by 'SSLError(SSLEOFError(8, 'EOF occurred in violation of protocol (_ssl.c:2427)'))': /v1/rerank\n"
     ]
    },
    {
     "name": "stdout",
     "output_type": "stream",
     "text": [
      "completed chunk 2550 queries at Feb 05, 2024 22:11 in 0.21666666666666667 minutes\n",
      "completed chunk 2560 queries at Feb 05, 2024 22:11 in 0.2 minutes\n",
      "completed chunk 2570 queries at Feb 05, 2024 22:11 in 0.18333333333333332 minutes\n",
      "completed chunk 2580 queries at Feb 05, 2024 22:11 in 0.26666666666666666 minutes\n",
      "completed chunk 2590 queries at Feb 05, 2024 22:12 in 0.21666666666666667 minutes\n",
      "completed chunk 2600 queries at Feb 05, 2024 22:12 in 0.23333333333333334 minutes\n"
     ]
    },
    {
     "name": "stderr",
     "output_type": "stream",
     "text": [
      "WARNING:root:cleaned article 656476f696c80a0efa90fb3c - headline: Tata Group's Business Empire.  content:  has less than 10 words or 30 characters\n"
     ]
    },
    {
     "name": "stdout",
     "output_type": "stream",
     "text": [
      "completed chunk 2610 queries at Feb 05, 2024 22:12 in 0.13333333333333333 minutes\n",
      "completed chunk 2620 queries at Feb 05, 2024 22:12 in 0.21666666666666667 minutes\n",
      "completed chunk 2630 queries at Feb 05, 2024 22:12 in 0.18333333333333332 minutes\n",
      "completed chunk 2640 queries at Feb 05, 2024 22:13 in 0.31666666666666665 minutes\n",
      "completed chunk 2650 queries at Feb 05, 2024 22:13 in 0.21666666666666667 minutes\n"
     ]
    },
    {
     "name": "stderr",
     "output_type": "stream",
     "text": [
      "WARNING:root:cleaned article 65bf3609c119ff6e57a3edaa - headline: Eicher Motors Ltd Falls 2.24%.  content: None has less than 10 words or 30 characters\n"
     ]
    },
    {
     "name": "stdout",
     "output_type": "stream",
     "text": [
      "completed chunk 2660 queries at Feb 05, 2024 22:13 in 0.36666666666666664 minutes\n",
      "completed chunk 2670 queries at Feb 05, 2024 22:13 in 0.21666666666666667 minutes\n",
      "completed chunk 2680 queries at Feb 05, 2024 22:14 in 0.25 minutes\n",
      "completed chunk 2690 queries at Feb 05, 2024 22:14 in 0.26666666666666666 minutes\n",
      "completed chunk 2700 queries at Feb 05, 2024 22:14 in 0.26666666666666666 minutes\n",
      "completed chunk 2710 queries at Feb 05, 2024 22:15 in 0.25 minutes\n",
      "completed chunk 2720 queries at Feb 05, 2024 22:15 in 0.25 minutes\n",
      "completed chunk 2730 queries at Feb 05, 2024 22:15 in 0.2 minutes\n"
     ]
    }
   ],
   "source": [
    "for i in range(i, num_chunks):\n",
    "    query_chunk = queries_df.iloc[i*chunk_size:(i+1)*chunk_size]\n",
    "    start_time = time.time()\n",
    "    with ThreadPoolExecutor(max_workers=30) as executor:\n",
    "        futures = [executor.submit(get_top_hits_for_query_row, row) for index, row in query_chunk.iterrows()]\n",
    "        for future in as_completed(futures):\n",
    "            response = future.result()\n",
    "            if response:  # Timeout or other errors\n",
    "                search_result_articles.append(response)\n",
    "    print(f'completed chunk {(i + 1) * chunk_size} queries at {\"{:%b %d, %Y %H:%M}\".format(datetime.now())} in {int(time.time() - start_time)/60} minutes')"
   ]
  },
  {
   "cell_type": "code",
   "execution_count": null,
   "id": "4233b7a3-8a0e-4fbb-a07e-b33aef2761b7",
   "metadata": {
    "tags": []
   },
   "outputs": [
    {
     "name": "stdout",
     "output_type": "stream",
     "text": [
      "fetched results from cohere in 0:00:02.567009 second\n",
      "fetched results from cohere in 0:00:02.714627 second\n",
      "fetched results from cohere in 0:00:02.853046 second\n",
      "fetched results from cohere in 0:00:03.279097 second\n",
      "fetched results from cohere in 0:00:05.367942 second\n"
     ]
    }
   ],
   "source": [
    "pd.DataFrame(search_result_articles).to_csv('search_results_corrected_5_feb.csv',index=False)"
   ]
  },
  {
   "cell_type": "code",
   "execution_count": 150,
   "id": "a8b056cf-bfce-4920-8f09-2a03742458dc",
   "metadata": {
    "scrolled": true,
    "tags": []
   },
   "outputs": [],
   "source": [
    "pd.DataFrame(search_result_articles).to_csv('search_results_5_feb.csv',index=False)"
   ]
  },
  {
   "cell_type": "code",
   "execution_count": 77,
   "id": "b9fef609-acf3-4a73-a545-8c72fe8c2487",
   "metadata": {
    "tags": []
   },
   "outputs": [],
   "source": [
    "from copy import deepcopy"
   ]
  },
  {
   "cell_type": "code",
   "execution_count": 86,
   "id": "81f0e919-7a27-42cf-943b-44d4973ed731",
   "metadata": {
    "tags": []
   },
   "outputs": [],
   "source": [
    "df = deepcopy(queries_df)"
   ]
  },
  {
   "cell_type": "code",
   "execution_count": 87,
   "id": "d89aba60-859a-43df-8db0-577983162c9a",
   "metadata": {
    "tags": []
   },
   "outputs": [
    {
     "ename": "KeyError",
     "evalue": "1",
     "output_type": "error",
     "traceback": [
      "\u001b[0;31m---------------------------------------------------------------------------\u001b[0m",
      "\u001b[0;31mKeyError\u001b[0m                                  Traceback (most recent call last)",
      "\u001b[0;32m/var/folders/d4/cgyr_gnj7nn2wy_hq40gkq8c0000gq/T/ipykernel_76040/1652262687.py\u001b[0m in \u001b[0;36m?\u001b[0;34m()\u001b[0m\n\u001b[0;32m----> 1\u001b[0;31m \u001b[0mpd\u001b[0m\u001b[0;34m.\u001b[0m\u001b[0mmerge\u001b[0m\u001b[0;34m(\u001b[0m\u001b[0mdf\u001b[0m\u001b[0;34m,\u001b[0m \u001b[0mpd\u001b[0m\u001b[0;34m.\u001b[0m\u001b[0mDataFrame\u001b[0m\u001b[0;34m(\u001b[0m\u001b[0msearch_result_articles\u001b[0m\u001b[0;34m)\u001b[0m\u001b[0;34m,\u001b[0m \u001b[0mhow\u001b[0m \u001b[0;34m=\u001b[0m \u001b[0;34m'left'\u001b[0m\u001b[0;34m,\u001b[0m \u001b[0mleft_on\u001b[0m \u001b[0;34m=\u001b[0m \u001b[0;34m[\u001b[0m\u001b[0;34m'query'\u001b[0m\u001b[0;34m,\u001b[0m \u001b[0;34m'query_date'\u001b[0m\u001b[0;34m]\u001b[0m\u001b[0;34m,\u001b[0m \u001b[0mright_on\u001b[0m \u001b[0;34m=\u001b[0m \u001b[0;34m[\u001b[0m\u001b[0;36m1\u001b[0m\u001b[0;34m,\u001b[0m\u001b[0;36m2\u001b[0m\u001b[0;34m]\u001b[0m\u001b[0;34m)\u001b[0m\u001b[0;34m\u001b[0m\u001b[0;34m\u001b[0m\u001b[0m\n\u001b[0m",
      "\u001b[0;32m~/anaconda3/envs/recoenv/lib/python3.11/site-packages/pandas/core/reshape/merge.py\u001b[0m in \u001b[0;36m?\u001b[0;34m(left, right, how, on, left_on, right_on, left_index, right_index, sort, suffixes, copy, indicator, validate)\u001b[0m\n\u001b[1;32m    144\u001b[0m     \u001b[0mcopy\u001b[0m\u001b[0;34m:\u001b[0m \u001b[0mbool\u001b[0m \u001b[0;34m|\u001b[0m \u001b[0;32mNone\u001b[0m \u001b[0;34m=\u001b[0m \u001b[0;32mNone\u001b[0m\u001b[0;34m,\u001b[0m\u001b[0;34m\u001b[0m\u001b[0;34m\u001b[0m\u001b[0m\n\u001b[1;32m    145\u001b[0m     \u001b[0mindicator\u001b[0m\u001b[0;34m:\u001b[0m \u001b[0mstr\u001b[0m \u001b[0;34m|\u001b[0m \u001b[0mbool\u001b[0m \u001b[0;34m=\u001b[0m \u001b[0;32mFalse\u001b[0m\u001b[0;34m,\u001b[0m\u001b[0;34m\u001b[0m\u001b[0;34m\u001b[0m\u001b[0m\n\u001b[1;32m    146\u001b[0m     \u001b[0mvalidate\u001b[0m\u001b[0;34m:\u001b[0m \u001b[0mstr\u001b[0m \u001b[0;34m|\u001b[0m \u001b[0;32mNone\u001b[0m \u001b[0;34m=\u001b[0m \u001b[0;32mNone\u001b[0m\u001b[0;34m,\u001b[0m\u001b[0;34m\u001b[0m\u001b[0;34m\u001b[0m\u001b[0m\n\u001b[1;32m    147\u001b[0m ) -> DataFrame:\n\u001b[0;32m--> 148\u001b[0;31m     op = _MergeOperation(\n\u001b[0m\u001b[1;32m    149\u001b[0m         \u001b[0mleft\u001b[0m\u001b[0;34m,\u001b[0m\u001b[0;34m\u001b[0m\u001b[0;34m\u001b[0m\u001b[0m\n\u001b[1;32m    150\u001b[0m         \u001b[0mright\u001b[0m\u001b[0;34m,\u001b[0m\u001b[0;34m\u001b[0m\u001b[0;34m\u001b[0m\u001b[0m\n\u001b[1;32m    151\u001b[0m         \u001b[0mhow\u001b[0m\u001b[0;34m=\u001b[0m\u001b[0mhow\u001b[0m\u001b[0;34m,\u001b[0m\u001b[0;34m\u001b[0m\u001b[0;34m\u001b[0m\u001b[0m\n",
      "\u001b[0;32m~/anaconda3/envs/recoenv/lib/python3.11/site-packages/pandas/core/reshape/merge.py\u001b[0m in \u001b[0;36m?\u001b[0;34m(self, left, right, how, on, left_on, right_on, axis, left_index, right_index, sort, suffixes, indicator, validate)\u001b[0m\n\u001b[1;32m    733\u001b[0m         (\n\u001b[1;32m    734\u001b[0m             \u001b[0mself\u001b[0m\u001b[0;34m.\u001b[0m\u001b[0mleft_join_keys\u001b[0m\u001b[0;34m,\u001b[0m\u001b[0;34m\u001b[0m\u001b[0;34m\u001b[0m\u001b[0m\n\u001b[1;32m    735\u001b[0m             \u001b[0mself\u001b[0m\u001b[0;34m.\u001b[0m\u001b[0mright_join_keys\u001b[0m\u001b[0;34m,\u001b[0m\u001b[0;34m\u001b[0m\u001b[0;34m\u001b[0m\u001b[0m\n\u001b[1;32m    736\u001b[0m             \u001b[0mself\u001b[0m\u001b[0;34m.\u001b[0m\u001b[0mjoin_names\u001b[0m\u001b[0;34m,\u001b[0m\u001b[0;34m\u001b[0m\u001b[0;34m\u001b[0m\u001b[0m\n\u001b[0;32m--> 737\u001b[0;31m         ) = self._get_merge_keys()\n\u001b[0m\u001b[1;32m    738\u001b[0m \u001b[0;34m\u001b[0m\u001b[0m\n\u001b[1;32m    739\u001b[0m         \u001b[0;31m# validate the merge keys dtypes. We may need to coerce\u001b[0m\u001b[0;34m\u001b[0m\u001b[0;34m\u001b[0m\u001b[0m\n\u001b[1;32m    740\u001b[0m         \u001b[0;31m# to avoid incompatible dtypes\u001b[0m\u001b[0;34m\u001b[0m\u001b[0;34m\u001b[0m\u001b[0m\n",
      "\u001b[0;32m~/anaconda3/envs/recoenv/lib/python3.11/site-packages/pandas/core/reshape/merge.py\u001b[0m in \u001b[0;36m?\u001b[0;34m(self)\u001b[0m\n\u001b[1;32m   1199\u001b[0m                         \u001b[0;31m# Then we're either Hashable or a wrong-length arraylike,\u001b[0m\u001b[0;34m\u001b[0m\u001b[0;34m\u001b[0m\u001b[0m\n\u001b[1;32m   1200\u001b[0m                         \u001b[0;31m#  the latter of which will raise\u001b[0m\u001b[0;34m\u001b[0m\u001b[0;34m\u001b[0m\u001b[0m\n\u001b[1;32m   1201\u001b[0m                         \u001b[0mrk\u001b[0m \u001b[0;34m=\u001b[0m \u001b[0mcast\u001b[0m\u001b[0;34m(\u001b[0m\u001b[0mHashable\u001b[0m\u001b[0;34m,\u001b[0m \u001b[0mrk\u001b[0m\u001b[0;34m)\u001b[0m\u001b[0;34m\u001b[0m\u001b[0;34m\u001b[0m\u001b[0m\n\u001b[1;32m   1202\u001b[0m                         \u001b[0;32mif\u001b[0m \u001b[0mrk\u001b[0m \u001b[0;32mis\u001b[0m \u001b[0;32mnot\u001b[0m \u001b[0;32mNone\u001b[0m\u001b[0;34m:\u001b[0m\u001b[0;34m\u001b[0m\u001b[0;34m\u001b[0m\u001b[0m\n\u001b[0;32m-> 1203\u001b[0;31m                             \u001b[0mright_keys\u001b[0m\u001b[0;34m.\u001b[0m\u001b[0mappend\u001b[0m\u001b[0;34m(\u001b[0m\u001b[0mright\u001b[0m\u001b[0;34m.\u001b[0m\u001b[0m_get_label_or_level_values\u001b[0m\u001b[0;34m(\u001b[0m\u001b[0mrk\u001b[0m\u001b[0;34m)\u001b[0m\u001b[0;34m)\u001b[0m\u001b[0;34m\u001b[0m\u001b[0;34m\u001b[0m\u001b[0m\n\u001b[0m\u001b[1;32m   1204\u001b[0m                         \u001b[0;32melse\u001b[0m\u001b[0;34m:\u001b[0m\u001b[0;34m\u001b[0m\u001b[0;34m\u001b[0m\u001b[0m\n\u001b[1;32m   1205\u001b[0m                             \u001b[0;31m# work-around for merge_asof(right_index=True)\u001b[0m\u001b[0;34m\u001b[0m\u001b[0;34m\u001b[0m\u001b[0m\n\u001b[1;32m   1206\u001b[0m                             \u001b[0mright_keys\u001b[0m\u001b[0;34m.\u001b[0m\u001b[0mappend\u001b[0m\u001b[0;34m(\u001b[0m\u001b[0mright\u001b[0m\u001b[0;34m.\u001b[0m\u001b[0mindex\u001b[0m\u001b[0;34m)\u001b[0m\u001b[0;34m\u001b[0m\u001b[0;34m\u001b[0m\u001b[0m\n",
      "\u001b[0;32m~/anaconda3/envs/recoenv/lib/python3.11/site-packages/pandas/core/generic.py\u001b[0m in \u001b[0;36m?\u001b[0;34m(self, key, axis)\u001b[0m\n\u001b[1;32m   1774\u001b[0m             \u001b[0mvalues\u001b[0m \u001b[0;34m=\u001b[0m \u001b[0mself\u001b[0m\u001b[0;34m.\u001b[0m\u001b[0mxs\u001b[0m\u001b[0;34m(\u001b[0m\u001b[0mkey\u001b[0m\u001b[0;34m,\u001b[0m \u001b[0maxis\u001b[0m\u001b[0;34m=\u001b[0m\u001b[0mother_axes\u001b[0m\u001b[0;34m[\u001b[0m\u001b[0;36m0\u001b[0m\u001b[0;34m]\u001b[0m\u001b[0;34m)\u001b[0m\u001b[0;34m.\u001b[0m\u001b[0m_values\u001b[0m\u001b[0;34m\u001b[0m\u001b[0;34m\u001b[0m\u001b[0m\n\u001b[1;32m   1775\u001b[0m         \u001b[0;32melif\u001b[0m \u001b[0mself\u001b[0m\u001b[0;34m.\u001b[0m\u001b[0m_is_level_reference\u001b[0m\u001b[0;34m(\u001b[0m\u001b[0mkey\u001b[0m\u001b[0;34m,\u001b[0m \u001b[0maxis\u001b[0m\u001b[0;34m=\u001b[0m\u001b[0maxis\u001b[0m\u001b[0;34m)\u001b[0m\u001b[0;34m:\u001b[0m\u001b[0;34m\u001b[0m\u001b[0;34m\u001b[0m\u001b[0m\n\u001b[1;32m   1776\u001b[0m             \u001b[0mvalues\u001b[0m \u001b[0;34m=\u001b[0m \u001b[0mself\u001b[0m\u001b[0;34m.\u001b[0m\u001b[0maxes\u001b[0m\u001b[0;34m[\u001b[0m\u001b[0maxis\u001b[0m\u001b[0;34m]\u001b[0m\u001b[0;34m.\u001b[0m\u001b[0mget_level_values\u001b[0m\u001b[0;34m(\u001b[0m\u001b[0mkey\u001b[0m\u001b[0;34m)\u001b[0m\u001b[0;34m.\u001b[0m\u001b[0m_values\u001b[0m\u001b[0;34m\u001b[0m\u001b[0;34m\u001b[0m\u001b[0m\n\u001b[1;32m   1777\u001b[0m         \u001b[0;32melse\u001b[0m\u001b[0;34m:\u001b[0m\u001b[0;34m\u001b[0m\u001b[0;34m\u001b[0m\u001b[0m\n\u001b[0;32m-> 1778\u001b[0;31m             \u001b[0;32mraise\u001b[0m \u001b[0mKeyError\u001b[0m\u001b[0;34m(\u001b[0m\u001b[0mkey\u001b[0m\u001b[0;34m)\u001b[0m\u001b[0;34m\u001b[0m\u001b[0;34m\u001b[0m\u001b[0m\n\u001b[0m\u001b[1;32m   1779\u001b[0m \u001b[0;34m\u001b[0m\u001b[0m\n\u001b[1;32m   1780\u001b[0m         \u001b[0;31m# Check for duplicates\u001b[0m\u001b[0;34m\u001b[0m\u001b[0;34m\u001b[0m\u001b[0m\n\u001b[1;32m   1781\u001b[0m         \u001b[0;32mif\u001b[0m \u001b[0mvalues\u001b[0m\u001b[0;34m.\u001b[0m\u001b[0mndim\u001b[0m \u001b[0;34m>\u001b[0m \u001b[0;36m1\u001b[0m\u001b[0;34m:\u001b[0m\u001b[0;34m\u001b[0m\u001b[0;34m\u001b[0m\u001b[0m\n",
      "\u001b[0;31mKeyError\u001b[0m: 1"
     ]
    }
   ],
   "source": [
    "pd.merge(df, pd.DataFrame(search_result_articles), how = 'left', left_on = ['query', 'query_date'], right_on = [1,2])"
   ]
  },
  {
   "cell_type": "code",
   "execution_count": 75,
   "id": "8f7da093-b538-443e-92fc-419a68466138",
   "metadata": {
    "scrolled": true,
    "tags": []
   },
   "outputs": [
    {
     "data": {
      "text/plain": [
       "[(2,\n",
       "  'gold investment',\n",
       "  '01/01/24',\n",
       "  '[\"65bb096df3aa2a77a58bfb1a\", \"65ba2849f3aa2a77a58bf7dc\", \"65ba284cf3aa2a77a58bf800\", \"65bb4189f3aa2a77a58bfc43\", \"65ba2850f3aa2a77a58bf82f\", \"65bde481f3aa2a77a58c052b\", \"65bb41a1f3aa2a77a58bfd4e\", \"65b8d6ce6f6812560effade4\", \"65b89e891b79671c6b70d86d\", \"65b8d7566f6812560effae0b\"]'),\n",
       " (1,\n",
       "  'security token offerings news',\n",
       "  '05/02/24',\n",
       "  '[\"65c0bfcbc119ff6e57a3f11a\", \"65a91cba6391ac19baa826ec\", \"65a91ec96391ac19baa84336\", \"65a91b766391ac19baa81636\", \"65a920af6391ac19baa85d92\", \"65bf3601c119ff6e57a3ed78\", \"65a91c776391ac19baa8235e\", \"656e925c9994965ac4b4d6b4\", \"65a91d4a6391ac19baa82ea0\", \"65bccb50f3aa2a77a58c035f\"]'),\n",
       " (4,\n",
       "  'social media influencers',\n",
       "  '16/02/24',\n",
       "  '[\"65a7c2a01c9bc64bb8ae4a12\", \"65a7b7a01c9bc64bb8ae2056\", \"65a7b6f11c9bc64bb8ae1731\", \"658ff8404b25ce4814fb4113\", \"65a91f2c6391ac19baa8489c\", \"65a9200e6391ac19baa854d6\", \"65a77b083c864051fa47eede\", \"65a91e176391ac19baa839ae\", \"65a91c566391ac19baa821a2\", \"6555cc0e4b13023f934a475d\"]'),\n",
       " (0,\n",
       "  'regulatory frameworks',\n",
       "  '27/01/24',\n",
       "  '[\"65b9b7d4f3aa2a77a58bf57f\", \"65b4aa001b79671c6b70d118\", \"65af64156391ac19baa87477\", \"65bb0958f3aa2a77a58bf941\", \"65bb423af3aa2a77a58bfde0\", \"65bb79cef3aa2a77a58bfea4\", \"65bb094bf3aa2a77a58bf8af\", \"6572bf0ecbb3242a0060e7c5\", \"65a1fcc1e362d630b64734b5\", \"65bc5ad2f3aa2a77a58c004c\"]'),\n",
       " (3,\n",
       "  'pension fund returns today',\n",
       "  '14/02/24',\n",
       "  '[\"65bc5b59f3aa2a77a58c0176\", \"65bb79d5f3aa2a77a58bfee6\", \"65bb79cef3aa2a77a58bfea4\", \"65b866cf1b79671c6b70d80d\", \"65bb79cbf3aa2a77a58bfe82\", \"65bb79cbf3aa2a77a58bfe84\", \"65bb79c1f3aa2a77a58bfe58\", \"65bb0964f3aa2a77a58bfa17\", \"65bc5b5df3aa2a77a58c01a5\", \"65c08783c119ff6e57a3f010\"]'),\n",
       " (5,\n",
       "  \"kotak mahindra bank's banking and financial services\",\n",
       "  '23/12/23',\n",
       "  '[\"65bb09d5f3aa2a77a58bfbf1\", \"65b8665d1b79671c6b70d6f4\", \"65b714d71b79671c6b70d358\", \"65b1cf426391ac19baa87c4c\", \"65b3205b1b79671c6b70cdcb\", \"65b1cec26391ac19baa87a15\", \"65b1cedd6391ac19baa87b39\", \"65aba7c86391ac19baa86f71\", \"65adda416391ac19baa870fb\", \"65ab6f836391ac19baa86eca\"]'),\n",
       " (7,\n",
       "  'rock climbing basics',\n",
       "  '28/12/23',\n",
       "  '[\"65bb79c3f3aa2a77a58bfe62\", \"65bb79cef3aa2a77a58bfea4\", \"65b9f012f3aa2a77a58bf729\", \"65b9b7d4f3aa2a77a58bf57d\", \"65af64136391ac19baa87455\", \"65b89e8b1b79671c6b70d881\", \"65ba284af3aa2a77a58bf7e1\", \"65af64076391ac19baa873e9\", \"65c04f4bc119ff6e57a3ee98\", \"65a742cf3c864051fa47ed14\"]'),\n",
       " (6,\n",
       "  'sbi life insurance stock analysis',\n",
       "  '25/01/24',\n",
       "  '[\"65c08781c119ff6e57a3f008\", \"65c04f54c119ff6e57a3eef4\", \"65bccb45f3aa2a77a58c0323\", \"65bb0948f3aa2a77a58bf89d\", \"65c08794c119ff6e57a3f07d\", \"65b9f00cf3aa2a77a58bf6de\", \"65b9f00bf3aa2a77a58bf6ce\", \"65b9f00af3aa2a77a58bf6ca\", \"65b9f014f3aa2a77a58bf74c\", \"65c0c05bc119ff6e57a3f1b1\"]'),\n",
       " (8,\n",
       "  'securities lending news today',\n",
       "  '25/01/24',\n",
       "  '[\"65befdd0f3aa2a77a58c073e\", \"65bb79cff3aa2a77a58bfea7\", \"65bb4186f3aa2a77a58bfc34\", \"65bb4241f3aa2a77a58bfdf7\", \"65a91fbc6391ac19baa85061\", \"65bb095bf3aa2a77a58bf960\", \"65a91c176391ac19baa81e4a\", \"65a8945f1c9bc64bb8ae4c25\", \"65a91cee6391ac19baa829be\", \"65bc930af3aa2a77a58c021a\"]'),\n",
       " (9,\n",
       "  'bcci',\n",
       "  '18/01/24',\n",
       "  '[\"659e08404b25ce4814fb540b\", \"65a894451c9bc64bb8ae4ac6\", \"651dd662a662d76276b7e212\", \"651de8ada662d76276b8121f\", \"651e1dc5a662d76276b89294\", \"65bb79cff3aa2a77a58bfead\", \"65937c534b25ce4814fb4416\", \"6571c35025cc9a343f03f85e\", \"651e1e63a662d76276b89414\", \"65ab6f876391ac19baa86ed1\"]'),\n",
       " (14,\n",
       "  \"irctc's rail ticketing and catering services\",\n",
       "  '30/12/23',\n",
       "  '[\"65c04f4fc119ff6e57a3eec3\", \"65bc5ac6f3aa2a77a58bffdf\", \"65bb0947f3aa2a77a58bf89a\", \"65b8664e1b79671c6b70d62a\", \"65b9f010f3aa2a77a58bf716\", \"65b714d11b79671c6b70d307\", \"65b3205a1b79671c6b70cdaf\", \"65b1ced16391ac19baa87a83\", \"65b07d4e6391ac19baa87635\", \"65adda526391ac19baa87181\"]'),\n",
       " (11,\n",
       "  'tata consumer share price live',\n",
       "  '10/02/24',\n",
       "  '[\"65c04f51c119ff6e57a3eed6\", \"65c04f56c119ff6e57a3ef12\", \"65c0878fc119ff6e57a3f04f\", \"65c04f54c119ff6e57a3eef7\", \"65c04f58c119ff6e57a3ef37\", \"65c04f58c119ff6e57a3ef2c\", \"65c08783c119ff6e57a3f012\", \"65c04f57c119ff6e57a3ef20\", \"65c04f52c119ff6e57a3eee8\", \"65bc5ac1f3aa2a77a58bffcf\"]'),\n",
       " (10,\n",
       "  'sensex daily performance',\n",
       "  '07/02/24',\n",
       "  '[\"65c0bfc1c119ff6e57a3f0f3\", \"65c0bfcac119ff6e57a3f117\", \"65bdac41f3aa2a77a58c03b6\", \"65bccb50f3aa2a77a58c035b\", \"65bb79c3f3aa2a77a58bfe62\", \"65bb79c0f3aa2a77a58bfe57\", \"65bccb4df3aa2a77a58c0342\", \"65bb419af3aa2a77a58bfcf1\", \"65c04fbfc119ff6e57a3f003\", \"65bdaccef3aa2a77a58c04ed\"]'),\n",
       " (12,\n",
       "  \"ujjivan small finance bank's banking and financial services\",\n",
       "  '24/01/24',\n",
       "  '[\"65c04f59c119ff6e57a3ef3e\", \"65bb0949f3aa2a77a58bf8a6\", \"65b9f009f3aa2a77a58bf6c2\", \"65b74dca1b79671c6b70d509\", \"65bc9303f3aa2a77a58c0201\", \"65b9f00cf3aa2a77a58bf6d6\", \"65b9b7d8f3aa2a77a58bf5ac\", \"65b8665d1b79671c6b70d703\", \"65b5c34d1b79671c6b70d1f5\", \"65b714d01b79671c6b70d2ef\"]'),\n",
       " (13,\n",
       "  \"the new india assurance company's insurance services\",\n",
       "  '06/01/24',\n",
       "  '[\"65bdac4cf3aa2a77a58c03fd\", \"65bb095ef3aa2a77a58bf998\", \"65b866cf1b79671c6b70d80a\", \"65b89f2a1b79671c6b70d940\", \"65a7b3dc1c9bc64bb8adf250\", \"65a9e5de6391ac19baa86a81\", \"65bb094af3aa2a77a58bf8a8\", \"659cb73b4b25ce4814fb5326\", \"658026b88dc7b10db3e7902e\", \"65a0e38ae362d630b64733ae\"]'),\n",
       " (15, 'shahi paneer recipe', '28/01/24', '[]'),\n",
       " (16,\n",
       "  'loans',\n",
       "  '20/02/24',\n",
       "  '[\"65bf368fc119ff6e57a3edb8\", \"65befdccf3aa2a77a58c06e6\", \"65bb79c8f3aa2a77a58bfe72\", \"65bb0954f3aa2a77a58bf908\", \"65bb4241f3aa2a77a58bfdf7\", \"65bb095bf3aa2a77a58bf960\", \"65bb7a5ef3aa2a77a58bff79\", \"65bdac4df3aa2a77a58c040b\", \"65bb79ccf3aa2a77a58bfe8d\", \"65bb4241f3aa2a77a58bfdfe\"]'),\n",
       " (17,\n",
       "  'brand strategies',\n",
       "  '13/01/24',\n",
       "  '[\"65b714dc1b79671c6b70d3ad\", \"65a9211a6391ac19baa86363\", \"65a921506391ac19baa8665c\", \"65a920f36391ac19baa86146\", \"65aa1e146391ac19baa86c2f\", \"65a91c7e6391ac19baa823bf\", \"65a91dae6391ac19baa83409\", \"65a0e425e362d630b64733ff\", \"65a91f046391ac19baa84672\", \"65a9216d6391ac19baa867ec\"]'),\n",
       " (18,\n",
       "  'dividend stocks',\n",
       "  '09/01/24',\n",
       "  '[\"65c0bfc1c119ff6e57a3f0f6\", \"65c04f58c119ff6e57a3ef39\", \"65bc5ac1f3aa2a77a58bffd2\", \"65c0bfc3c119ff6e57a3f0ff\", \"65c08783c119ff6e57a3f010\", \"65b9b7d2f3aa2a77a58bf561\", \"65ba28d9f3aa2a77a58bf852\", \"65bb095ff3aa2a77a58bf9b0\", \"65bde480f3aa2a77a58c0528\", \"65bc93aff3aa2a77a58c02f1\"]'),\n",
       " (19,\n",
       "  'disaster recovery',\n",
       "  '18/02/24',\n",
       "  '[\"65c08792c119ff6e57a3f067\", \"65aa564e6391ac19baa86cce\", \"65a26d47ea435f28caee4c72\", \"658fc0024b25ce4814fb4100\", \"658e6e824b25ce4814fb3f6c\", \"65ab374a6391ac19baa86d4d\", \"65968fc74b25ce4814fb4c1e\", \"65bb79cef3aa2a77a58bfea4\", \"65bb79d1f3aa2a77a58bfebe\", \"65bc5accf3aa2a77a58c0018\"]')]"
      ]
     },
     "execution_count": 75,
     "metadata": {},
     "output_type": "execute_result"
    }
   ],
   "source": [
    "search_result_articles"
   ]
  },
  {
   "cell_type": "code",
   "execution_count": null,
   "id": "f2557ee2-0c73-48c7-b761-4d7b4a2184f1",
   "metadata": {},
   "outputs": [],
   "source": []
  },
  {
   "cell_type": "code",
   "execution_count": null,
   "id": "c16d1806-731a-48a7-9718-18761b56d263",
   "metadata": {},
   "outputs": [],
   "source": []
  },
  {
   "cell_type": "code",
   "execution_count": null,
   "id": "f20547b1-66d2-4887-879a-5b0a7693941c",
   "metadata": {},
   "outputs": [],
   "source": [
    "def format_as_prompt_response(response_row):\n",
    "    response = response_row['13']\n",
    "    input_prompt = response_row['12']\n",
    "    sys_prompt, user_content = input_prompt.split('|query_json|')\n",
    "    messages = [{\"role\": \"system\", \"content\": sys_prompt},\n",
    "                {\"role\": \"user\", \"content\": user_content}]\n",
    "    context_prompt = tokenizer.decode(tokenizer.apply_chat_template(messages, add_generation_prompt=True))\n",
    "    prompt = context_prompt + response\n",
    "    prompt = re.sub(r'\\n+','\\n',prompt)\n",
    "    return prompt"
   ]
  },
  {
   "cell_type": "code",
   "execution_count": 7,
   "id": "492c5055-c611-422f-a0ea-44d61de7b663",
   "metadata": {
    "tags": []
   },
   "outputs": [
    {
     "data": {
      "text/plain": [
       "569"
      ]
     },
     "execution_count": 7,
     "metadata": {},
     "output_type": "execute_result"
    }
   ],
   "source": [
    "len(tokenizer.encode(system_prompt))"
   ]
  },
  {
   "cell_type": "code",
   "execution_count": null,
   "id": "36430607-dd2e-49ac-a776-6409f8fbedc6",
   "metadata": {},
   "outputs": [],
   "source": []
  }
 ],
 "metadata": {
  "kernelspec": {
   "display_name": "recoenv",
   "language": "python",
   "name": "recoenv"
  },
  "language_info": {
   "codemirror_mode": {
    "name": "ipython",
    "version": 3
   },
   "file_extension": ".py",
   "mimetype": "text/x-python",
   "name": "python",
   "nbconvert_exporter": "python",
   "pygments_lexer": "ipython3",
   "version": "3.11.5"
  }
 },
 "nbformat": 4,
 "nbformat_minor": 5
}
