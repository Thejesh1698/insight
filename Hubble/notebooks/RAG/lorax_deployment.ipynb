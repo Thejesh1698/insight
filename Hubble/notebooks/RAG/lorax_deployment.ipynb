{
 "cells": [
  {
   "cell_type": "code",
   "execution_count": 1,
   "id": "7e071e95-5995-4aaf-b3a7-50ec08391661",
   "metadata": {
    "tags": []
   },
   "outputs": [
    {
     "name": "stdout",
     "output_type": "stream",
     "text": [
      "sagemaker.config INFO - Not applying SDK defaults from location: /Library/Application Support/sagemaker/config.yaml\n",
      "sagemaker.config INFO - Not applying SDK defaults from location: /Users/ravi.tej/Library/Application Support/sagemaker/config.yaml\n"
     ]
    },
    {
     "name": "stderr",
     "output_type": "stream",
     "text": [
      "Couldn't call 'get_role' to get Role ARN from role name ravi_tej to get Role path.\n"
     ]
    },
    {
     "name": "stdout",
     "output_type": "stream",
     "text": [
      "sagemaker role arn: arn:aws:iam::005418323977:role/service-role/AmazonSageMaker-ExecutionRole-20231030T210397\n",
      "sagemaker bucket: sagemaker-ap-south-1-005418323977\n",
      "sagemaker session region: ap-south-1\n"
     ]
    }
   ],
   "source": [
    "import sagemaker\n",
    "import boto3\n",
    "sess = sagemaker.Session()\n",
    "sagemaker_session_bucket=None\n",
    "if sagemaker_session_bucket is None and sess is not None:\n",
    "    sagemaker_session_bucket = sess.default_bucket()\n",
    "try:\n",
    "    role = sagemaker.get_execution_role()\n",
    "except ValueError:\n",
    "    iam = boto3.client('iam')\n",
    "    role = iam.get_role(RoleName='AmazonSageMaker-ExecutionRole-20231030T210397')['Role']['Arn']\n",
    "sess = sagemaker.Session(default_bucket=sagemaker_session_bucket)\n",
    "print(f\"sagemaker role arn: {role}\")\n",
    "print(f\"sagemaker bucket: {sess.default_bucket()}\")\n",
    "print(f\"sagemaker session region: {sess.boto_region_name}\")"
   ]
  },
  {
   "cell_type": "code",
   "execution_count": 2,
   "id": "5966f04c-4d21-4707-85e2-546f647c99d2",
   "metadata": {
    "tags": []
   },
   "outputs": [
    {
     "name": "stderr",
     "output_type": "stream",
     "text": [
      "mkdir: sagemaker_lorax/: File exists\n"
     ]
    }
   ],
   "source": [
    "%%bash\n",
    "mkdir sagemaker_lorax/\n",
    "\n",
    "cat <<EOF > sagemaker_lorax/sagemaker_entrypoint.sh\n",
    "#!/bin/bash\n",
    "\n",
    "if [[ -z \"\\${HF_MODEL_ID}\" ]]; then\n",
    "  echo \"HF_MODEL_ID must be set\"\n",
    "  exit 1\n",
    "fi\n",
    "export MODEL_ID=\"\\${HF_MODEL_ID}\"\n",
    "\n",
    "if [[ -n \"\\${HF_MODEL_REVISION}\" ]]; then\n",
    "  export REVISION=\"\\${HF_MODEL_REVISION}\"\n",
    "fi\n",
    "\n",
    "if [[ -n \"\\${SM_NUM_GPUS}\" ]]; then\n",
    "  export NUM_SHARD=\"\\${SM_NUM_GPUS}\"\n",
    "fi\n",
    "\n",
    "if [[ -n \"\\${HF_MODEL_QUANTIZE}\" ]]; then\n",
    "  export QUANTIZE=\"\\${HF_MODEL_QUANTIZE}\"\n",
    "fi\n",
    "\n",
    "if [[ -n \"\\${HF_MODEL_TRUST_REMOTE_CODE}\" ]]; then\n",
    "  export TRUST_REMOTE_CODE=\"\\${HF_MODEL_TRUST_REMOTE_CODE}\"\n",
    "fi\n",
    "\n",
    "if [[ -z \"\\${ADAPTER_BUCKET}\" ]]; then\n",
    "  echo \"Warning: ADAPTER_BUCKET not set. Only able to load local or HuggingFace Hub models.\"\n",
    "else\n",
    "  export PREDIBASE_MODEL_BUCKET=\"\\${ADAPTER_BUCKET}\"\n",
    "fi\n",
    "\n",
    "lorax-launcher --port 8080\n",
    "EOF"
   ]
  },
  {
   "cell_type": "code",
   "execution_count": 3,
   "id": "dc27b2e8-0c43-428b-ada0-0f346e05bc2e",
   "metadata": {
    "tags": []
   },
   "outputs": [],
   "source": [
    "%%bash\n",
    "cat <<EOF > sagemaker_lorax/Dockerfile\n",
    "FROM ghcr.io/predibase/lorax:latest\n",
    "\n",
    "COPY sagemaker_entrypoint.sh entrypoint.sh\n",
    "RUN chmod +x entrypoint.sh\n",
    "\n",
    "ENTRYPOINT [\"./entrypoint.sh\"]\n",
    "EOF"
   ]
  },
  {
   "cell_type": "code",
   "execution_count": 10,
   "id": "1559794f-3cad-46b2-9a64-ca34567671a9",
   "metadata": {
    "tags": []
   },
   "outputs": [
    {
     "name": "stdout",
     "output_type": "stream",
     "text": [
      "/Users/ravi.tej/anaconda3/envs/recoenv/bin:/Users/ravi.tej/anaconda3/condabin:/usr/bin:/bin:/usr/sbin:/sbin\n"
     ]
    }
   ],
   "source": [
    "!echo $PATH"
   ]
  },
  {
   "cell_type": "code",
   "execution_count": 11,
   "id": "281eae2c-8bb8-43da-b161-a6bf7ea5e4b0",
   "metadata": {
    "tags": []
   },
   "outputs": [],
   "source": [
    "import os"
   ]
  },
  {
   "cell_type": "code",
   "execution_count": 15,
   "id": "f8202aca-1311-433d-811c-bce2ddf5d047",
   "metadata": {
    "tags": []
   },
   "outputs": [],
   "source": [
    "os.environ['PATH'] = '/opt/homebrew/opt/mongodb-community@5.0/bin:/opt/homebrew/bin:/opt/homebrew/sbin:/usr/local/bin:/System/Cryptexes/App/usr/bin:/usr/bin:/bin:/usr/sbin:/sbin:/var/run/com.apple.security.cryptexd/codex.system/bootstrap/usr/local/bin:/var/run/com.apple.security.cryptexd/codex.system/bootstrap/usr/bin:/var/run/com.apple.security.cryptexd/codex.system/bootstrap/usr/appleinternal/bin:/Users/ravi.tej/anaconda3/envs/recoenv/bin:/Users/ravi.tej/anaconda3/condabin'"
   ]
  },
  {
   "cell_type": "code",
   "execution_count": 16,
   "id": "d6a7c941-1345-4086-9a56-dede2c8ea7eb",
   "metadata": {
    "tags": []
   },
   "outputs": [
    {
     "name": "stdout",
     "output_type": "stream",
     "text": [
      "/opt/homebrew/opt/mongodb-community@5.0/bin:/opt/homebrew/bin:/opt/homebrew/sbin:/usr/local/bin:/System/Cryptexes/App/usr/bin:/usr/bin:/bin:/usr/sbin:/sbin:/var/run/com.apple.security.cryptexd/codex.system/bootstrap/usr/local/bin:/var/run/com.apple.security.cryptexd/codex.system/bootstrap/usr/bin:/var/run/com.apple.security.cryptexd/codex.system/bootstrap/usr/appleinternal/bin:/Users/ravi.tej/anaconda3/envs/recoenv/bin:/Users/ravi.tej/anaconda3/condabin\n"
     ]
    }
   ],
   "source": [
    "!echo $PATH"
   ]
  },
  {
   "cell_type": "code",
   "execution_count": 22,
   "id": "37b313e6-193e-4b40-9f87-dbe0b90f3b47",
   "metadata": {
    "tags": []
   },
   "outputs": [
    {
     "name": "stderr",
     "output_type": "stream",
     "text": [
      "#0 building with \"desktop-linux\" instance using docker driver\n",
      "\n",
      "#1 [internal] load .dockerignore\n",
      "#1 transferring context: 2B done\n",
      "#1 DONE 0.0s\n",
      "\n",
      "#2 [internal] load build definition from Dockerfile\n",
      "#2 transferring dockerfile: 243B done\n",
      "#2 DONE 0.0s\n",
      "\n",
      "#3 [internal] load metadata for ghcr.io/predibase/lorax:sha256-e1101f14171b056348f9e91d9975408158687d9cee84342c4b643605430a91ff\n",
      "#3 ERROR: encountered unknown type application/vnd.amazon.soci.index.v1+json; children may not be fetched\n",
      "------\n",
      " > [internal] load metadata for ghcr.io/predibase/lorax:sha256-e1101f14171b056348f9e91d9975408158687d9cee84342c4b643605430a91ff:\n",
      "------\n",
      "Dockerfile:1\n",
      "--------------------\n",
      "   1 | >>> FROM ghcr.io/predibase/lorax:sha256-e1101f14171b056348f9e91d9975408158687d9cee84342c4b643605430a91ff\n",
      "   2 |     \n",
      "   3 |     COPY sagemaker_entrypoint.sh entrypoint.sh\n",
      "--------------------\n",
      "ERROR: failed to solve: ghcr.io/predibase/lorax:sha256-e1101f14171b056348f9e91d9975408158687d9cee84342c4b643605430a91ff: encountered unknown type application/vnd.amazon.soci.index.v1+json; children may not be fetched\n"
     ]
    },
    {
     "name": "stdout",
     "output_type": "stream",
     "text": [
      "Login Succeeded\n"
     ]
    },
    {
     "name": "stderr",
     "output_type": "stream",
     "text": [
      "Error response from daemon: No such image: lorax:sagemaker\n"
     ]
    },
    {
     "name": "stdout",
     "output_type": "stream",
     "text": [
      "The push refers to repository [005418323977.dkr.ecr.ap-south-1.amazonaws.com/lorax]\n"
     ]
    },
    {
     "name": "stderr",
     "output_type": "stream",
     "text": [
      "An image does not exist locally with the tag: 005418323977.dkr.ecr.ap-south-1.amazonaws.com/lorax\n"
     ]
    }
   ],
   "source": [
    "%%bash \n",
    "algorithm_name=\"lorax\"  # name of your algorithm\n",
    "tag=\"sagemaker\"\n",
    "region=\"ap-south-1\"\n",
    "\n",
    "account=$(aws sts get-caller-identity --query Account --output text)\n",
    "\n",
    "image_uri=\"${account}.dkr.ecr.${region}.amazonaws.com/${algorithm_name}:${tag}\"\n",
    "\n",
    "# If the repository doesn't exist in ECR, create it.\n",
    "aws ecr describe-repositories --repository-names \"${algorithm_name}\" > /dev/null 2>&1\n",
    "\n",
    "if [ $? -ne 0 ]\n",
    "then\n",
    "    aws ecr create-repository --repository-name \"${algorithm_name}\" --region $region > /dev/null\n",
    "fi\n",
    "\n",
    "cd sagemaker_lorax/ && docker build -t ${algorithm_name}:${tag} .\n",
    "\n",
    "# Authenticate Docker to an Amazon ECR registry\n",
    "aws ecr get-login-password --region ${region} | docker login --username AWS --password-stdin ${account}.dkr.ecr.${region}.amazonaws.com\n",
    "\n",
    "# Tag the image\n",
    "docker tag ${algorithm_name}:${tag} ${image_uri}\n",
    "\n",
    "# Push the image to the repository\n",
    "docker push ${image_uri}\n",
    "\n",
    "# Save image name to tmp file to use when deploying endpoint\n",
    "echo $image_uri > /tmp/image_uri"
   ]
  },
  {
   "cell_type": "code",
   "execution_count": null,
   "id": "0d8986c0-4556-4700-80cf-3e617369e8df",
   "metadata": {},
   "outputs": [],
   "source": []
  }
 ],
 "metadata": {
  "kernelspec": {
   "display_name": "recoenv",
   "language": "python",
   "name": "recoenv"
  },
  "language_info": {
   "codemirror_mode": {
    "name": "ipython",
    "version": 3
   },
   "file_extension": ".py",
   "mimetype": "text/x-python",
   "name": "python",
   "nbconvert_exporter": "python",
   "pygments_lexer": "ipython3",
   "version": "3.11.5"
  }
 },
 "nbformat": 4,
 "nbformat_minor": 5
}
