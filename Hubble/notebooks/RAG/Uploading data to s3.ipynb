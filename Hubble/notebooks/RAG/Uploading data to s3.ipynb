{
 "cells": [
  {
   "cell_type": "code",
   "execution_count": 1,
   "id": "5a6dac16-1634-4d3c-9098-e49c9288f7f6",
   "metadata": {
    "tags": []
   },
   "outputs": [
    {
     "data": {
      "text/plain": [
       "'AmazonSageMaker-ExecutionRole-20231030T210397'"
      ]
     },
     "execution_count": 1,
     "metadata": {},
     "output_type": "execute_result"
    }
   ],
   "source": [
    "import boto3\n",
    "iam = boto3.client('iam')\n",
    "response = iam.list_roles()\n",
    "sagemaker_roles = [role for role in response['Roles'] if 'SageMaker' in role['RoleName']]\n",
    "sagemaker_roles[0]['RoleName']"
   ]
  },
  {
   "cell_type": "code",
   "execution_count": 2,
   "id": "95c76f25-fab3-4ab7-aaf8-baefdc1a02e1",
   "metadata": {
    "tags": []
   },
   "outputs": [
    {
     "name": "stdout",
     "output_type": "stream",
     "text": [
      "sagemaker.config INFO - Not applying SDK defaults from location: /Library/Application Support/sagemaker/config.yaml\n",
      "sagemaker.config INFO - Not applying SDK defaults from location: /Users/ravi.tej/Library/Application Support/sagemaker/config.yaml\n"
     ]
    },
    {
     "name": "stderr",
     "output_type": "stream",
     "text": [
      "Couldn't call 'get_role' to get Role ARN from role name ravi_tej to get Role path.\n"
     ]
    },
    {
     "name": "stdout",
     "output_type": "stream",
     "text": [
      "sagemaker role arn: arn:aws:iam::005418323977:role/service-role/AmazonSageMaker-ExecutionRole-20231030T210397\n",
      "sagemaker bucket: sagemaker-ap-south-1-005418323977\n",
      "sagemaker session region: ap-south-1\n"
     ]
    }
   ],
   "source": [
    "import sagemaker\n",
    "import boto3\n",
    "sess = sagemaker.Session()\n",
    "sagemaker_session_bucket=None\n",
    "if sagemaker_session_bucket is None and sess is not None:\n",
    "    sagemaker_session_bucket = sess.default_bucket()\n",
    "try:\n",
    "    role = sagemaker.get_execution_role()\n",
    "except ValueError:\n",
    "    iam = boto3.client('iam')\n",
    "    role = iam.get_role(RoleName='AmazonSageMaker-ExecutionRole-20231030T210397')['Role']['Arn']\n",
    "sess = sagemaker.Session(default_bucket=sagemaker_session_bucket)\n",
    "print(f\"sagemaker role arn: {role}\")\n",
    "print(f\"sagemaker bucket: {sess.default_bucket()}\")\n",
    "print(f\"sagemaker session region: {sess.boto_region_name}\")"
   ]
  },
  {
   "cell_type": "code",
   "execution_count": 3,
   "id": "828cf10e-8a00-496f-9ba4-74502640b7d9",
   "metadata": {
    "tags": []
   },
   "outputs": [],
   "source": [
    "import pandas as pd\n",
    "import numpy as np\n",
    "import json\n",
    "\n",
    "import re\n",
    "from transformers import AutoTokenizer\n",
    "from random import randint\n",
    "import sys\n",
    "sys.path.append(\"../utils\")\n",
    "from pack_dataset import pack_dataset\n",
    "from datasets import Dataset\n",
    "\n",
    "import requests"
   ]
  },
  {
   "cell_type": "code",
   "execution_count": 4,
   "id": "70d611bf-d4dc-4c24-96a4-79f30628374f",
   "metadata": {
    "tags": []
   },
   "outputs": [],
   "source": [
    "tokenizer_model_id = 'teknium/OpenHermes-2.5-Mistral-7B'"
   ]
  },
  {
   "cell_type": "code",
   "execution_count": 5,
   "id": "4720285c-8974-449e-9f87-087c8f0b4d13",
   "metadata": {
    "tags": []
   },
   "outputs": [
    {
     "name": "stderr",
     "output_type": "stream",
     "text": [
      "Special tokens have been added in the vocabulary, make sure the associated word embeddings are fine-tuned or trained.\n",
      "Special tokens have been added in the vocabulary, make sure the associated word embeddings are fine-tuned or trained.\n"
     ]
    }
   ],
   "source": [
    "# model_id = \"TheBloke/OpenHermes-2.5-Mistral-7B-AWQ\"\n",
    "tokenizer = AutoTokenizer.from_pretrained(tokenizer_model_id, trust_remote_code=True)"
   ]
  },
  {
   "cell_type": "code",
   "execution_count": 6,
   "id": "55c97a24-96d5-48ce-948d-c72616060672",
   "metadata": {},
   "outputs": [],
   "source": [
    "all_responses = pd.read_csv('gpt-4-search-responses-5-feb.csv',on_bad_lines='skip',header=None)"
   ]
  },
  {
   "cell_type": "code",
   "execution_count": 7,
   "id": "f42bd656-4db2-4918-bc05-5853e579a838",
   "metadata": {
    "tags": []
   },
   "outputs": [
    {
     "data": {
      "text/html": [
       "<div>\n",
       "<style scoped>\n",
       "    .dataframe tbody tr th:only-of-type {\n",
       "        vertical-align: middle;\n",
       "    }\n",
       "\n",
       "    .dataframe tbody tr th {\n",
       "        vertical-align: top;\n",
       "    }\n",
       "\n",
       "    .dataframe thead th {\n",
       "        text-align: right;\n",
       "    }\n",
       "</style>\n",
       "<table border=\"1\" class=\"dataframe\">\n",
       "  <thead>\n",
       "    <tr style=\"text-align: right;\">\n",
       "      <th></th>\n",
       "      <th>0</th>\n",
       "      <th>1</th>\n",
       "      <th>2</th>\n",
       "      <th>3</th>\n",
       "      <th>4</th>\n",
       "      <th>5</th>\n",
       "      <th>6</th>\n",
       "    </tr>\n",
       "  </thead>\n",
       "  <tbody>\n",
       "    <tr>\n",
       "      <th>0</th>\n",
       "      <td>0</td>\n",
       "      <td>4</td>\n",
       "      <td>social media influencers</td>\n",
       "      <td>16/02/24</td>\n",
       "      <td>['65a7c2a01c9bc64bb8ae4a12', '65a7b6f11c9bc64b...</td>\n",
       "      <td>You're the lead editor for a financial and bus...</td>\n",
       "      <td>I'm sorry, but the queries you've provided rel...</td>\n",
       "    </tr>\n",
       "    <tr>\n",
       "      <th>1</th>\n",
       "      <td>0</td>\n",
       "      <td>5</td>\n",
       "      <td>kotak mahindra bank's banking and financial se...</td>\n",
       "      <td>23/12/23</td>\n",
       "      <td>['65a662593c864051fa47ec9e', '65a9e5d56391ac19...</td>\n",
       "      <td>You're the lead editor for a financial and bus...</td>\n",
       "      <td>**Kotak Mahindra Bank Navigates Funding and Gr...</td>\n",
       "    </tr>\n",
       "    <tr>\n",
       "      <th>2</th>\n",
       "      <td>0</td>\n",
       "      <td>1</td>\n",
       "      <td>security token offerings news</td>\n",
       "      <td>05/02/24</td>\n",
       "      <td>['65b320421b79671c6b70cca2', '65a91cba6391ac19...</td>\n",
       "      <td>You're the lead editor for a financial and bus...</td>\n",
       "      <td>**Exploring Recent Security Token Offerings an...</td>\n",
       "    </tr>\n",
       "    <tr>\n",
       "      <th>3</th>\n",
       "      <td>0</td>\n",
       "      <td>7</td>\n",
       "      <td>rock climbing basics</td>\n",
       "      <td>28/12/23</td>\n",
       "      <td>['65bb79c3f3aa2a77a58bfe62', '65bb79cef3aa2a77...</td>\n",
       "      <td>You're the lead editor for a financial and bus...</td>\n",
       "      <td>**Understanding the Impact of Budget 2024 on I...</td>\n",
       "    </tr>\n",
       "    <tr>\n",
       "      <th>4</th>\n",
       "      <td>0</td>\n",
       "      <td>2</td>\n",
       "      <td>gold investment</td>\n",
       "      <td>01/01/24</td>\n",
       "      <td>['65bb096df3aa2a77a58bfb1a', '65a896681c9bc64b...</td>\n",
       "      <td>You're the lead editor for a financial and bus...</td>\n",
       "      <td>**Gold Investment Outlook for 2024 Shows Promi...</td>\n",
       "    </tr>\n",
       "    <tr>\n",
       "      <th>...</th>\n",
       "      <td>...</td>\n",
       "      <td>...</td>\n",
       "      <td>...</td>\n",
       "      <td>...</td>\n",
       "      <td>...</td>\n",
       "      <td>...</td>\n",
       "      <td>...</td>\n",
       "    </tr>\n",
       "    <tr>\n",
       "      <th>2475</th>\n",
       "      <td>0</td>\n",
       "      <td>2638</td>\n",
       "      <td>strides pharma science's pharmaceuticals</td>\n",
       "      <td>23/12/23</td>\n",
       "      <td>['658d3c054b25ce4814fb3002', '65be1cc3f3aa2a77...</td>\n",
       "      <td>You're the lead editor for a financial and bus...</td>\n",
       "      <td>**Strides Pharma Science Investment Outlook an...</td>\n",
       "    </tr>\n",
       "    <tr>\n",
       "      <th>2476</th>\n",
       "      <td>0</td>\n",
       "      <td>2636</td>\n",
       "      <td>united breweries' beer market share</td>\n",
       "      <td>10/02/24</td>\n",
       "      <td>['6566e18fb878114e69597686', '6571c2a625cc9a34...</td>\n",
       "      <td>You're the lead editor for a financial and bus...</td>\n",
       "      <td>**United Breweries' Market Presence and Future...</td>\n",
       "    </tr>\n",
       "    <tr>\n",
       "      <th>2477</th>\n",
       "      <td>0</td>\n",
       "      <td>2630</td>\n",
       "      <td>assessment of india's retail sector in the cur...</td>\n",
       "      <td>29/01/24</td>\n",
       "      <td>['65bb0953f3aa2a77a58bf901', '65b74d161b79671c...</td>\n",
       "      <td>You're the lead editor for a financial and bus...</td>\n",
       "      <td>**India's Retail Sector Assessment in Recent E...</td>\n",
       "    </tr>\n",
       "    <tr>\n",
       "      <th>2478</th>\n",
       "      <td>0</td>\n",
       "      <td>2633</td>\n",
       "      <td>e-learning resources</td>\n",
       "      <td>10/02/24</td>\n",
       "      <td>['65bb0955f3aa2a77a58bf924', '65b89e8b1b79671c...</td>\n",
       "      <td>You're the lead editor for a financial and bus...</td>\n",
       "      <td>**Exploring Addictive Learning's Spectacular I...</td>\n",
       "    </tr>\n",
       "    <tr>\n",
       "      <th>2479</th>\n",
       "      <td>0</td>\n",
       "      <td>2637</td>\n",
       "      <td>asset-backed securities today</td>\n",
       "      <td>04/02/24</td>\n",
       "      <td>['65bc930af3aa2a77a58c021a', '65bb79c8f3aa2a77...</td>\n",
       "      <td>You're the lead editor for a financial and bus...</td>\n",
       "      <td>**Impact of Rising U.S. Treasury Yields on Ind...</td>\n",
       "    </tr>\n",
       "  </tbody>\n",
       "</table>\n",
       "<p>2480 rows × 7 columns</p>\n",
       "</div>"
      ],
      "text/plain": [
       "      0     1                                                  2         3  \\\n",
       "0     0     4                           social media influencers  16/02/24   \n",
       "1     0     5  kotak mahindra bank's banking and financial se...  23/12/23   \n",
       "2     0     1                      security token offerings news  05/02/24   \n",
       "3     0     7                               rock climbing basics  28/12/23   \n",
       "4     0     2                                    gold investment  01/01/24   \n",
       "...  ..   ...                                                ...       ...   \n",
       "2475  0  2638           strides pharma science's pharmaceuticals  23/12/23   \n",
       "2476  0  2636                united breweries' beer market share  10/02/24   \n",
       "2477  0  2630  assessment of india's retail sector in the cur...  29/01/24   \n",
       "2478  0  2633                               e-learning resources  10/02/24   \n",
       "2479  0  2637                      asset-backed securities today  04/02/24   \n",
       "\n",
       "                                                      4  \\\n",
       "0     ['65a7c2a01c9bc64bb8ae4a12', '65a7b6f11c9bc64b...   \n",
       "1     ['65a662593c864051fa47ec9e', '65a9e5d56391ac19...   \n",
       "2     ['65b320421b79671c6b70cca2', '65a91cba6391ac19...   \n",
       "3     ['65bb79c3f3aa2a77a58bfe62', '65bb79cef3aa2a77...   \n",
       "4     ['65bb096df3aa2a77a58bfb1a', '65a896681c9bc64b...   \n",
       "...                                                 ...   \n",
       "2475  ['658d3c054b25ce4814fb3002', '65be1cc3f3aa2a77...   \n",
       "2476  ['6566e18fb878114e69597686', '6571c2a625cc9a34...   \n",
       "2477  ['65bb0953f3aa2a77a58bf901', '65b74d161b79671c...   \n",
       "2478  ['65bb0955f3aa2a77a58bf924', '65b89e8b1b79671c...   \n",
       "2479  ['65bc930af3aa2a77a58c021a', '65bb79c8f3aa2a77...   \n",
       "\n",
       "                                                      5  \\\n",
       "0     You're the lead editor for a financial and bus...   \n",
       "1     You're the lead editor for a financial and bus...   \n",
       "2     You're the lead editor for a financial and bus...   \n",
       "3     You're the lead editor for a financial and bus...   \n",
       "4     You're the lead editor for a financial and bus...   \n",
       "...                                                 ...   \n",
       "2475  You're the lead editor for a financial and bus...   \n",
       "2476  You're the lead editor for a financial and bus...   \n",
       "2477  You're the lead editor for a financial and bus...   \n",
       "2478  You're the lead editor for a financial and bus...   \n",
       "2479  You're the lead editor for a financial and bus...   \n",
       "\n",
       "                                                      6  \n",
       "0     I'm sorry, but the queries you've provided rel...  \n",
       "1     **Kotak Mahindra Bank Navigates Funding and Gr...  \n",
       "2     **Exploring Recent Security Token Offerings an...  \n",
       "3     **Understanding the Impact of Budget 2024 on I...  \n",
       "4     **Gold Investment Outlook for 2024 Shows Promi...  \n",
       "...                                                 ...  \n",
       "2475  **Strides Pharma Science Investment Outlook an...  \n",
       "2476  **United Breweries' Market Presence and Future...  \n",
       "2477  **India's Retail Sector Assessment in Recent E...  \n",
       "2478  **Exploring Addictive Learning's Spectacular I...  \n",
       "2479  **Impact of Rising U.S. Treasury Yields on Ind...  \n",
       "\n",
       "[2480 rows x 7 columns]"
      ]
     },
     "execution_count": 7,
     "metadata": {},
     "output_type": "execute_result"
    }
   ],
   "source": [
    "all_responses"
   ]
  },
  {
   "cell_type": "code",
   "execution_count": 8,
   "id": "ef25d854-d42c-49f3-8c49-20f4321bc6b1",
   "metadata": {
    "tags": []
   },
   "outputs": [],
   "source": [
    "delimiter = '|| user_query'"
   ]
  },
  {
   "cell_type": "code",
   "execution_count": 9,
   "id": "c9d1b077-2930-4933-b6fc-1ce808cc0072",
   "metadata": {
    "scrolled": true,
    "tags": []
   },
   "outputs": [
    {
     "data": {
      "text/plain": [
       "[\"You're the lead editor for a financial and business website. You answer user queries by using relevant articles that you've found by strictly following the below rules:\\n*valid_queries: questions about finance, business, or relevant entities like India, RBI, Reliance, Fed etc\\n*invalid_queries: non financial or business questions or inappropriate content\\nresponse_instructions:\\n1.query is valid and answerable with the articles you found - summarize the information clearly and concisely with a headline and followed by 3 to 6 points with following guidelines: \\nPrefix the point with a relevant label one emoji for that point. The points should overall capture the essence of a good response for the user query, but at the same time as brief as possible - a few words to a maximum of 1 sentence per point. Start with the most important point for the query. The labels should be human readable avoid use of _ or programming symbols. Headline should be between 5 to 15 words and tailored to the query and the points you are going to generate\\nUse the below markdown format called ‘response_markdown_format’: “**Headline** <br> <br> emoji1 **label1**: point1 <br><br> **emoji2 label2**: point2 <br><br>…”\\n2.query is valid but the exact answer isn't in the articles - mention that you are not able to find the exact answer for this, but found the related information. Respond the related information using response_markdown_format\\n3.query is valid but there's no relevant information - apologize and say you can't find the answer\\n4.query is invalid - politely decline noting your focus on finance and business\\nGeneral Response Guidelines:\\n*Don't provide information not explicitly found in the articles\\n*If the article is older than what the user expects from query, highlight the period of the information. If articles are very recent or of today, then no need to specify it\\n*The website is visited by people all age groups. Avoid content or emojis which are unprofessional\\n*If the answers provide investment advice, at the end advice without the emoji and label to the users have to do additional though research and to consult an expert. Do not follow the format of response_markdown_format for this\\n*Be brief. no preamble or postamble. directly generate the responses according to response_instructions\\n*Do not provide any urls as part of the points. \\nThe most relevant articles are extracted in the following json format: {article_0: {‘title’: ‘’, ‘published_date’: ‘’, ‘content’: ‘’} || ...} \",\n",
       " \": regulatory frameworks || today date: 27 January 2024 || article_0: {'title': Implementation Of Data Protection Act: Decoding The Regulatory Compliances In Digital Lending, 'published_date': 27 January 2024, 'content': SUMMARY India’s financial services market has been on an exponential growth trajectory, expected to grow to a whopping $515 Bn by 2030. With the Digital Personal Data Protection Act’s intervention, the digital lending space will witness a new regulatory framework pertaining to data privacy Although its implementation will be exhausting, in the long run, it stores the answer to building a financially inclusive and safe economy FOLLOW US FOLLOW US Added to Saved Stories in Login VIEW SAVED STORIES In an age permeated by technology, India has been cognizant of its usage, penetration and implications. While characterising every facet of technology in business operations, its potential in the digital lending arena has led RBI to launch a series of initiatives and schemes to bring more clarity on how critical information has to be handled. As India is advancing towards becoming a formidable economy, the digital transformation scenario poses serious concerns about data privacy and security, specifically in the digital lending landscape. In addition to safeguarding data, the early roots of data-centric regulatory requirements emerged in the form of RBI’s guidelines on digital lending for finance companies and banks. This clearly outlined the non-uniform data management standards that resulted in abundant inconsistencies in lending practices. These guidelines successfully ensured uniformity and onboarded a considerable portion of unregulated lenders into a regulated lending space. However, it also brought the need to add another layer of data protection and privacy to the forefront, making India introduce its first Digital Personal Data Protection Act, 2023. Understanding Digital Personal Data Protection Act 2023 Committed to establishing a robust framework associated with data protection, the Digital Personal Data Protection Act (DPDPA) marks a significant step in achieving complete data protection and privacy. Within its scope, the key areas have been safeguarding consumer data, whilst developing effective privacy governance programs for managing reputational and business risks. Delving into the digital lending landscape, it acts as a catalyst to bolster digital lenders to create transparent and future-ready organisations. Further, its stringent guidelines on the financial services sector will be instrumental in delivering greater authority to customers regarding data, paving the way for customer-centric digital lending. Recommended For You: Resources Implementation Of Data Protection Act: Decoding The Regulatory Compliances In Di... Gaurav S. 27th January, 2024 Resources The Future Of Astrotech In India: Decoding The Trends, Challenges And More Aditya K. 26th January, 2024 Resources India’s Fintech Revolution: Balancing Innovation And Governance Suresh S. 21st January, 2024 Resources Driving Towards Sustainable Future: Navigating BRSR Guidelines Through The Elect... Abhinav K. 21st January, 2024 Resources The Art Of Venture Capital – Mastering Numbers, Pitches, And Emotions Rohit K. 21st January, 2024 Resources Charting A Blueprint For Scaling Meta Ad Campaigns Ankit D. 21st January, 2024 Resources Unlocking Success: Key Trends For Asset Management In 2024 Gaurav G. 21st January, 2024 Resources 2024’s Roadmap To Startup Resilience And Growth Mona Singh 14th January, 2024 Resources Unlocking Business Potential: The Role Of No Code/Low Code In Driving Growth Malay P. 14th January, 2024 Resources Why GenAI Is A “Must-Do” For Startup Founders In 2024 Will Poole 14th January, 2024 DPDPA’s Intersection With Digital Lending Ecosystem India’s financial services market has been on an exponential growth trajectory, expected to grow to a whopping $515 Bn by 2030.} || article_1: {'title': Budget 2024: Five tax breaks that can make ‘Insurance for all’ by 2047 a reality, 'published_date': 30 January 2024, 'content': Finance Minister Nirmala Sitharaman should consider offering tax incentives to first-time health insurance buyers in Budget 2024. The Insurance Regulatory and Development Authority of India (IRDAI) has an overarching vision of ‘Insurance for all’ by 2047. This means by 2047 every citizen should have appropriate life, health and property insurance cover. Keeping this in mind, the upcoming interim Union Budget is expected to outline strategic initiatives to propel the sector towards inclusive growth. The government is anticipated to introduce key measures that will hopefully encourage and nudge people to purchase adequate insurance. Story continues below Advertisement Remove Ad Also read: Budget 2024: Tax deductions for medical purposes should be liberalised, say experts Incentivising health cover for first-time buyers With India now officially becoming the most populous country in the world, it is imperative to have basic universal health coverage for all its citizens. Further, to increase penetration, the government, in its upcoming Budget, can look to announce tax exemptions for first-time medical insurance buyers. The government can introduce an exemption under chapter VIA for such first-time insurance buyers of up to 200 percent of the premium paid, which can then be subsequently reduced to the threshold under section 80D in a phased manner over a 3-4-year period. Another way to increase penetration would be to incentivise insurance companies to build products covering out-patient treatments, which usually constitute around 50-60 percent of healthcare spending. The government can announce a lower GST on such products. Also read: Moneycontrol SecureNow Health Insurance Ratings: How to pick the most suitable policy Story continues below Advertisement Remove Ad Story continues below Advertisement Remove Ad Reducing mortality protection gap for youngsters To promote the digital purchase of insurance and also to incentivise the young working population to avail of insurance, the government should introduce a special exemption under Section VIA for such persons who are below 30 years old and for policies purchased digitally. Here, to reduce the mortality protection gap, the government can bring in a threshold-based tax exemption such that if an assessee has bought term insurance and/or an annuity product, both with a pre-defined minimum cover threshold (relative to annual taxable income), the assessee could be eligible for additional tax exemption under Chapter VIA, to the extent of the premium paid on such policies. Also read: Union Budget 2024: Life insurers want tax-free annuity income, term insurance benefit under new regime Uninsured vehicles on roads More than 50 percent of vehicles in India are still uninsured despite compulsory third-party Insurance. There could be various reasons why people don’t buy a third-party cover, including costs, negligence or simply the belief that ‘Insurance is not required’. The government could incentivise such owners of vehicles by a one-time tax exemption for renewal of their insurance policy. Protecting homes against natural catastrophes India is witnessing a rise in natural calamities like earthquakes, landslides, and floods. We witnessed roughly 765 natural catastrophe events since 1900. In fact, between 2001 and 2021, the total number of such events stood at about 354. This has resulted in huge economic losses for the masses. To address this issue, the government can provide a separate limit for deduction of up to Rs 25,000 against the premium paid for property insurance. Also, the government can consider directing the Real Estate Regulatory Authority (RERA) to make home insurance compulsory for homeowners at the time of buying the property. Exempting travel insurance under LTA Between January and December 2023, Indian domestic airlines saw 22.5 lakh passengers being affected due to flight delays and 2.84 lakh passengers due to flight cancellations. A travel insurance provides coverage against various perils, which can be extremely useful in} || article_2: {'title': PM’s Economic Advisory Council Seeks Dedicated Body To Regulate AI Space, 'published_date': 30 January 2024, 'content': SUMMARY The EAC-PM suggested a complex adaptive system (CAS) framework to regulate AI, saying the technology is akin to a CAS where components interact and evolve in unpredictable ways The council, in a working paper, suggested establishing guardrails and partitions to limit undesirable AI behaviours, mandating manual ‘overrides’, and creating a specialist regulator It said open licencing of core algorithms for external audits and continuous monitoring of AI systems is crucial for accountability, and hence sought mandatory periodic audits for transparency FOLLOW US FOLLOW US Added to Saved Stories in Login VIEW SAVED STORIES The Economic Advisory Council (EAC) to the Prime Minister, in a working paper, has suggested a complex adaptive system (CAS) framework to regulate the fast-growing space of artificial intelligence (AI) and called for a dedicated regulatory body for it. The development comes at a time when AI has started taking centre stage across the world as well as in India and the user base for AI applications and services is growing at a rapid pace. “This rapid development [of AI] has raised substantial concerns about the risks associated with uncontrolled AI propagation. The increasing capabilities of AI systems bring potential dangers, such as the prospect of “runaway AI” (under-controlled AI),” said the EAC-PM in its paper. “This and other more substantiated concerns have led to a growing demand for regulatory frameworks that ensure AI development and deployment are conducted safely, ethically, and transparently, safeguarding against risks like systemic breakdowns, loss of privacy, national security threats, and compromised critical infrastructure,” it mentioned. However, the traditional risk assessment methods fall short in today’s time due to AI’s non-linear, unpredictable nature. AI systems are akin to CAS, where components interact and evolve in unpredictable ways, the paper said. To effectively regulate AI (algorithm, training data sets, models, and applications), the paper has proposed a “novel” framework based on CAS thinking. Recommended For You: News Karnataka Launches INR 20 Cr VC Fund For AVGC Startups Akshit P. 31st January, 2024 News Key Defence Body Flags Digital Lending Apps CASHe, Toop For Potential Security R... Team Inc42 30th January, 2024 Startup Stories BrandLabs How Mittihub Is Reviving & Preserving The Dying Terracotta Craftsmanship In Indi... Inc42 B. 30th January, 2024 News Startup India: 1.14 Lakh Startups Have Created Over 12 Lakh Jobs So Far Team Inc42 29th January, 2024 News J&K Emerging As New Agritech Startups’ Hub: MoS Jitendra Singh Sudeshna M. 29th January, 2024 News Customs Duty On Electronics Transmission Will Impact India’s Chip Design Space: ... Shubhobrota D. 26th January, 2024 The suggested CAS framework includes establishing guardrails and partitions, that is, implementing clear boundary conditions to limit undesirable AI behaviours, mandating manual ‘overrides’ and ‘authorisation chokepoints’, ensuring transparency and explainability, defining clear lines of AI accountability, and creating a specialist regulator. The council is of the opinion that traditional regulatory mechanisms often lag the rapid pace of AI evolution. Hence, a dedicated expert regulatory body with a broad mandate and the ability to respond swiftly would be pivotal to ensuring that governance remains proactive and effective. Having a dedicated regulatory body would also entail having a national registry of algorithms as compliance and a repository of national algorithms for innovations in AI, the EAC-PM said. Besides, it also noted that open licencing of core algorithms for external audits, AI factsheets, and continuous monitoring of AI systems is crucial for accountability, which asks for mandatory periodic}\"]"
      ]
     },
     "execution_count": 9,
     "metadata": {},
     "output_type": "execute_result"
    }
   ],
   "source": [
    "all_responses.iloc[5][5].split('|| user_query')"
   ]
  },
  {
   "cell_type": "code",
   "execution_count": 10,
   "id": "041496f3-74a4-4b9f-b7a8-e237103ad258",
   "metadata": {
    "tags": []
   },
   "outputs": [],
   "source": [
    "def split_prompt(input_prompt):\n",
    "    x, y = input_prompt.split('|| user_query')\n",
    "    y = '|| user_query' + y\n",
    "    return x, y"
   ]
  },
  {
   "cell_type": "code",
   "execution_count": 11,
   "id": "8d0bc57a-71b4-43a7-bc0a-84ded975c12f",
   "metadata": {
    "tags": []
   },
   "outputs": [],
   "source": [
    "all_responses['system_prompt'], all_responses['user_prompt'] = zip(*all_responses[5].apply(lambda x: split_prompt(x)))"
   ]
  },
  {
   "cell_type": "code",
   "execution_count": 12,
   "id": "fb2fb2d5-af94-4f40-9835-d2e28e5561d6",
   "metadata": {
    "tags": []
   },
   "outputs": [],
   "source": [
    "all_responses = all_responses.rename(columns= {6: 'response'})"
   ]
  },
  {
   "cell_type": "code",
   "execution_count": 13,
   "id": "52996c1c-7e00-42be-b452-4c66fc1d38c4",
   "metadata": {},
   "outputs": [
    {
     "data": {
      "text/plain": [
       "\"You're the lead editor for a financial and business website. You answer user queries by using relevant articles that you've found by strictly following the below rules:\\n*valid_queries: questions about finance, business, or relevant entities like India, RBI, Reliance, Fed etc\\n*invalid_queries: non financial or business questions or inappropriate content\\nresponse_instructions:\\n1.query is valid and answerable with the articles you found - summarize the information clearly and concisely with a headline and followed by 3 to 6 points with following guidelines: \\nPrefix the point with a relevant label one emoji for that point. The points should overall capture the essence of a good response for the user query, but at the same time as brief as possible - a few words to a maximum of 1 sentence per point. Start with the most important point for the query. The labels should be human readable avoid use of _ or programming symbols. Headline should be between 5 to 15 words and tailored to the query and the points you are going to generate\\nUse the below markdown format called ‘response_markdown_format’: “**Headline** <br> <br> emoji1 **label1**: point1 <br><br> **emoji2 label2**: point2 <br><br>…”\\n2.query is valid but the exact answer isn't in the articles - mention that you are not able to find the exact answer for this, but found the related information. Respond the related information using response_markdown_format\\n3.query is valid but there's no relevant information - apologize and say you can't find the answer\\n4.query is invalid - politely decline noting your focus on finance and business\\nGeneral Response Guidelines:\\n*Don't provide information not explicitly found in the articles\\n*If the article is older than what the user expects from query, highlight the period of the information. If articles are very recent or of today, then no need to specify it\\n*The website is visited by people all age groups. Avoid content or emojis which are unprofessional\\n*If the answers provide investment advice, at the end advice without the emoji and label to the users have to do additional though research and to consult an expert. Do not follow the format of response_markdown_format for this\\n*Be brief. no preamble or postamble. directly generate the responses according to response_instructions\\n*Do not provide any urls as part of the points. \\nThe most relevant articles are extracted in the following json format: {article_0: {‘title’: ‘’, ‘published_date’: ‘’, ‘content’: ‘’} || ...} \""
      ]
     },
     "execution_count": 13,
     "metadata": {},
     "output_type": "execute_result"
    }
   ],
   "source": [
    "all_responses.iloc[5]['system_prompt']"
   ]
  },
  {
   "cell_type": "code",
   "execution_count": 14,
   "id": "e889f61b-2900-449a-9634-c6ea1e8abf9d",
   "metadata": {
    "scrolled": true,
    "tags": []
   },
   "outputs": [
    {
     "data": {
      "text/html": [
       "<div>\n",
       "<style scoped>\n",
       "    .dataframe tbody tr th:only-of-type {\n",
       "        vertical-align: middle;\n",
       "    }\n",
       "\n",
       "    .dataframe tbody tr th {\n",
       "        vertical-align: top;\n",
       "    }\n",
       "\n",
       "    .dataframe thead th {\n",
       "        text-align: right;\n",
       "    }\n",
       "</style>\n",
       "<table border=\"1\" class=\"dataframe\">\n",
       "  <thead>\n",
       "    <tr style=\"text-align: right;\">\n",
       "      <th></th>\n",
       "      <th>0</th>\n",
       "      <th>1</th>\n",
       "      <th>2</th>\n",
       "      <th>3</th>\n",
       "      <th>4</th>\n",
       "      <th>5</th>\n",
       "      <th>response</th>\n",
       "      <th>system_prompt</th>\n",
       "      <th>user_prompt</th>\n",
       "    </tr>\n",
       "  </thead>\n",
       "  <tbody>\n",
       "    <tr>\n",
       "      <th>0</th>\n",
       "      <td>0</td>\n",
       "      <td>4</td>\n",
       "      <td>social media influencers</td>\n",
       "      <td>16/02/24</td>\n",
       "      <td>['65a7c2a01c9bc64bb8ae4a12', '65a7b6f11c9bc64b...</td>\n",
       "      <td>You're the lead editor for a financial and bus...</td>\n",
       "      <td>I'm sorry, but the queries you've provided rel...</td>\n",
       "      <td>You're the lead editor for a financial and bus...</td>\n",
       "      <td>|| user_query: social media influencers || tod...</td>\n",
       "    </tr>\n",
       "    <tr>\n",
       "      <th>1</th>\n",
       "      <td>0</td>\n",
       "      <td>5</td>\n",
       "      <td>kotak mahindra bank's banking and financial se...</td>\n",
       "      <td>23/12/23</td>\n",
       "      <td>['65a662593c864051fa47ec9e', '65a9e5d56391ac19...</td>\n",
       "      <td>You're the lead editor for a financial and bus...</td>\n",
       "      <td>**Kotak Mahindra Bank Navigates Funding and Gr...</td>\n",
       "      <td>You're the lead editor for a financial and bus...</td>\n",
       "      <td>|| user_query: kotak mahindra bank's banking a...</td>\n",
       "    </tr>\n",
       "    <tr>\n",
       "      <th>2</th>\n",
       "      <td>0</td>\n",
       "      <td>1</td>\n",
       "      <td>security token offerings news</td>\n",
       "      <td>05/02/24</td>\n",
       "      <td>['65b320421b79671c6b70cca2', '65a91cba6391ac19...</td>\n",
       "      <td>You're the lead editor for a financial and bus...</td>\n",
       "      <td>**Exploring Recent Security Token Offerings an...</td>\n",
       "      <td>You're the lead editor for a financial and bus...</td>\n",
       "      <td>|| user_query: security token offerings news |...</td>\n",
       "    </tr>\n",
       "    <tr>\n",
       "      <th>3</th>\n",
       "      <td>0</td>\n",
       "      <td>7</td>\n",
       "      <td>rock climbing basics</td>\n",
       "      <td>28/12/23</td>\n",
       "      <td>['65bb79c3f3aa2a77a58bfe62', '65bb79cef3aa2a77...</td>\n",
       "      <td>You're the lead editor for a financial and bus...</td>\n",
       "      <td>**Understanding the Impact of Budget 2024 on I...</td>\n",
       "      <td>You're the lead editor for a financial and bus...</td>\n",
       "      <td>|| user_query: rock climbing basics || today d...</td>\n",
       "    </tr>\n",
       "    <tr>\n",
       "      <th>4</th>\n",
       "      <td>0</td>\n",
       "      <td>2</td>\n",
       "      <td>gold investment</td>\n",
       "      <td>01/01/24</td>\n",
       "      <td>['65bb096df3aa2a77a58bfb1a', '65a896681c9bc64b...</td>\n",
       "      <td>You're the lead editor for a financial and bus...</td>\n",
       "      <td>**Gold Investment Outlook for 2024 Shows Promi...</td>\n",
       "      <td>You're the lead editor for a financial and bus...</td>\n",
       "      <td>|| user_query: gold investment || today date: ...</td>\n",
       "    </tr>\n",
       "    <tr>\n",
       "      <th>...</th>\n",
       "      <td>...</td>\n",
       "      <td>...</td>\n",
       "      <td>...</td>\n",
       "      <td>...</td>\n",
       "      <td>...</td>\n",
       "      <td>...</td>\n",
       "      <td>...</td>\n",
       "      <td>...</td>\n",
       "      <td>...</td>\n",
       "    </tr>\n",
       "    <tr>\n",
       "      <th>2475</th>\n",
       "      <td>0</td>\n",
       "      <td>2638</td>\n",
       "      <td>strides pharma science's pharmaceuticals</td>\n",
       "      <td>23/12/23</td>\n",
       "      <td>['658d3c054b25ce4814fb3002', '65be1cc3f3aa2a77...</td>\n",
       "      <td>You're the lead editor for a financial and bus...</td>\n",
       "      <td>**Strides Pharma Science Investment Outlook an...</td>\n",
       "      <td>You're the lead editor for a financial and bus...</td>\n",
       "      <td>|| user_query: strides pharma science's pharma...</td>\n",
       "    </tr>\n",
       "    <tr>\n",
       "      <th>2476</th>\n",
       "      <td>0</td>\n",
       "      <td>2636</td>\n",
       "      <td>united breweries' beer market share</td>\n",
       "      <td>10/02/24</td>\n",
       "      <td>['6566e18fb878114e69597686', '6571c2a625cc9a34...</td>\n",
       "      <td>You're the lead editor for a financial and bus...</td>\n",
       "      <td>**United Breweries' Market Presence and Future...</td>\n",
       "      <td>You're the lead editor for a financial and bus...</td>\n",
       "      <td>|| user_query: united breweries' beer market s...</td>\n",
       "    </tr>\n",
       "    <tr>\n",
       "      <th>2477</th>\n",
       "      <td>0</td>\n",
       "      <td>2630</td>\n",
       "      <td>assessment of india's retail sector in the cur...</td>\n",
       "      <td>29/01/24</td>\n",
       "      <td>['65bb0953f3aa2a77a58bf901', '65b74d161b79671c...</td>\n",
       "      <td>You're the lead editor for a financial and bus...</td>\n",
       "      <td>**India's Retail Sector Assessment in Recent E...</td>\n",
       "      <td>You're the lead editor for a financial and bus...</td>\n",
       "      <td>|| user_query: assessment of india's retail se...</td>\n",
       "    </tr>\n",
       "    <tr>\n",
       "      <th>2478</th>\n",
       "      <td>0</td>\n",
       "      <td>2633</td>\n",
       "      <td>e-learning resources</td>\n",
       "      <td>10/02/24</td>\n",
       "      <td>['65bb0955f3aa2a77a58bf924', '65b89e8b1b79671c...</td>\n",
       "      <td>You're the lead editor for a financial and bus...</td>\n",
       "      <td>**Exploring Addictive Learning's Spectacular I...</td>\n",
       "      <td>You're the lead editor for a financial and bus...</td>\n",
       "      <td>|| user_query: e-learning resources || today d...</td>\n",
       "    </tr>\n",
       "    <tr>\n",
       "      <th>2479</th>\n",
       "      <td>0</td>\n",
       "      <td>2637</td>\n",
       "      <td>asset-backed securities today</td>\n",
       "      <td>04/02/24</td>\n",
       "      <td>['65bc930af3aa2a77a58c021a', '65bb79c8f3aa2a77...</td>\n",
       "      <td>You're the lead editor for a financial and bus...</td>\n",
       "      <td>**Impact of Rising U.S. Treasury Yields on Ind...</td>\n",
       "      <td>You're the lead editor for a financial and bus...</td>\n",
       "      <td>|| user_query: asset-backed securities today |...</td>\n",
       "    </tr>\n",
       "  </tbody>\n",
       "</table>\n",
       "<p>2480 rows × 9 columns</p>\n",
       "</div>"
      ],
      "text/plain": [
       "      0     1                                                  2         3  \\\n",
       "0     0     4                           social media influencers  16/02/24   \n",
       "1     0     5  kotak mahindra bank's banking and financial se...  23/12/23   \n",
       "2     0     1                      security token offerings news  05/02/24   \n",
       "3     0     7                               rock climbing basics  28/12/23   \n",
       "4     0     2                                    gold investment  01/01/24   \n",
       "...  ..   ...                                                ...       ...   \n",
       "2475  0  2638           strides pharma science's pharmaceuticals  23/12/23   \n",
       "2476  0  2636                united breweries' beer market share  10/02/24   \n",
       "2477  0  2630  assessment of india's retail sector in the cur...  29/01/24   \n",
       "2478  0  2633                               e-learning resources  10/02/24   \n",
       "2479  0  2637                      asset-backed securities today  04/02/24   \n",
       "\n",
       "                                                      4  \\\n",
       "0     ['65a7c2a01c9bc64bb8ae4a12', '65a7b6f11c9bc64b...   \n",
       "1     ['65a662593c864051fa47ec9e', '65a9e5d56391ac19...   \n",
       "2     ['65b320421b79671c6b70cca2', '65a91cba6391ac19...   \n",
       "3     ['65bb79c3f3aa2a77a58bfe62', '65bb79cef3aa2a77...   \n",
       "4     ['65bb096df3aa2a77a58bfb1a', '65a896681c9bc64b...   \n",
       "...                                                 ...   \n",
       "2475  ['658d3c054b25ce4814fb3002', '65be1cc3f3aa2a77...   \n",
       "2476  ['6566e18fb878114e69597686', '6571c2a625cc9a34...   \n",
       "2477  ['65bb0953f3aa2a77a58bf901', '65b74d161b79671c...   \n",
       "2478  ['65bb0955f3aa2a77a58bf924', '65b89e8b1b79671c...   \n",
       "2479  ['65bc930af3aa2a77a58c021a', '65bb79c8f3aa2a77...   \n",
       "\n",
       "                                                      5  \\\n",
       "0     You're the lead editor for a financial and bus...   \n",
       "1     You're the lead editor for a financial and bus...   \n",
       "2     You're the lead editor for a financial and bus...   \n",
       "3     You're the lead editor for a financial and bus...   \n",
       "4     You're the lead editor for a financial and bus...   \n",
       "...                                                 ...   \n",
       "2475  You're the lead editor for a financial and bus...   \n",
       "2476  You're the lead editor for a financial and bus...   \n",
       "2477  You're the lead editor for a financial and bus...   \n",
       "2478  You're the lead editor for a financial and bus...   \n",
       "2479  You're the lead editor for a financial and bus...   \n",
       "\n",
       "                                               response  \\\n",
       "0     I'm sorry, but the queries you've provided rel...   \n",
       "1     **Kotak Mahindra Bank Navigates Funding and Gr...   \n",
       "2     **Exploring Recent Security Token Offerings an...   \n",
       "3     **Understanding the Impact of Budget 2024 on I...   \n",
       "4     **Gold Investment Outlook for 2024 Shows Promi...   \n",
       "...                                                 ...   \n",
       "2475  **Strides Pharma Science Investment Outlook an...   \n",
       "2476  **United Breweries' Market Presence and Future...   \n",
       "2477  **India's Retail Sector Assessment in Recent E...   \n",
       "2478  **Exploring Addictive Learning's Spectacular I...   \n",
       "2479  **Impact of Rising U.S. Treasury Yields on Ind...   \n",
       "\n",
       "                                          system_prompt  \\\n",
       "0     You're the lead editor for a financial and bus...   \n",
       "1     You're the lead editor for a financial and bus...   \n",
       "2     You're the lead editor for a financial and bus...   \n",
       "3     You're the lead editor for a financial and bus...   \n",
       "4     You're the lead editor for a financial and bus...   \n",
       "...                                                 ...   \n",
       "2475  You're the lead editor for a financial and bus...   \n",
       "2476  You're the lead editor for a financial and bus...   \n",
       "2477  You're the lead editor for a financial and bus...   \n",
       "2478  You're the lead editor for a financial and bus...   \n",
       "2479  You're the lead editor for a financial and bus...   \n",
       "\n",
       "                                            user_prompt  \n",
       "0     || user_query: social media influencers || tod...  \n",
       "1     || user_query: kotak mahindra bank's banking a...  \n",
       "2     || user_query: security token offerings news |...  \n",
       "3     || user_query: rock climbing basics || today d...  \n",
       "4     || user_query: gold investment || today date: ...  \n",
       "...                                                 ...  \n",
       "2475  || user_query: strides pharma science's pharma...  \n",
       "2476  || user_query: united breweries' beer market s...  \n",
       "2477  || user_query: assessment of india's retail se...  \n",
       "2478  || user_query: e-learning resources || today d...  \n",
       "2479  || user_query: asset-backed securities today |...  \n",
       "\n",
       "[2480 rows x 9 columns]"
      ]
     },
     "execution_count": 14,
     "metadata": {},
     "output_type": "execute_result"
    }
   ],
   "source": [
    "all_responses"
   ]
  },
  {
   "cell_type": "markdown",
   "id": "9a3ced12-3136-43db-b043-bb5fd60fae50",
   "metadata": {},
   "source": [
    "### Fixing inconsistent number of line breaks"
   ]
  },
  {
   "cell_type": "code",
   "execution_count": 15,
   "id": "c620a6a9-3ddd-435e-aa5a-0db050ee89f4",
   "metadata": {
    "tags": []
   },
   "outputs": [],
   "source": [
    "import re\n",
    "\n",
    "def convert_newlines_and_brs(text):\n",
    "    # Define a pattern to match single or multiple \\n, <br> tags with optional spaces between them\n",
    "    # This pattern matches:\n",
    "    # - one or more newline characters (\\n+)\n",
    "    # - or one or more sequences of <br> possibly surrounded by spaces (\\s*<br>\\s*)+\n",
    "    pattern = r'(\\n+|\\s*<br>\\s*)+'\n",
    "    \n",
    "    # Replace the matched patterns with <br><br>\n",
    "    result = re.sub(pattern, '<br><br>', text)\n",
    "    \n",
    "    return result"
   ]
  },
  {
   "cell_type": "code",
   "execution_count": 16,
   "id": "48c69b64-1034-4b1c-b5f6-971980963716",
   "metadata": {
    "tags": []
   },
   "outputs": [],
   "source": [
    "all_responses['modified_response'] = all_responses['response'].apply(lambda x: convert_newlines_and_brs(x))"
   ]
  },
  {
   "cell_type": "code",
   "execution_count": 75,
   "id": "5620e1ab-def6-4c7e-8ac6-581ac46da731",
   "metadata": {
    "tags": []
   },
   "outputs": [],
   "source": [
    "# all_responses['modified_response'] = all_responses['modified_response'].apply(lambda x: x.replace('<br><br> <br>','<br><br>'))\n",
    "# all_responses['modified_response'] = all_responses['modified_response'].apply(lambda x: x.replace('<br><br><br>','<br><br>'))\n",
    "# all_responses['modified_response'] = all_responses['modified_response'].apply(lambda x: x.replace('<br> <br><br>','<br><br>'))"
   ]
  },
  {
   "cell_type": "markdown",
   "id": "d4b7bc78-e6a4-4d88-ae3d-4014206fdc76",
   "metadata": {},
   "source": [
    "### Changing our site to platform in response - changing the prompt as well"
   ]
  },
  {
   "cell_type": "code",
   "execution_count": 17,
   "id": "48f368ca-2dcb-4897-b28a-001003ec7a86",
   "metadata": {
    "tags": []
   },
   "outputs": [],
   "source": [
    "all_responses['has_our_site'] = all_responses['modified_response'].apply(lambda x: 'our site' in x.lower() or 'our website' in x.lower())"
   ]
  },
  {
   "cell_type": "code",
   "execution_count": 18,
   "id": "656657de-23cc-4f5d-9ba8-52065eb3a158",
   "metadata": {
    "tags": []
   },
   "outputs": [
    {
     "data": {
      "text/plain": [
       "has_our_site\n",
       "False    2421\n",
       "True       59\n",
       "Name: has_our_site, dtype: int64"
      ]
     },
     "execution_count": 18,
     "metadata": {},
     "output_type": "execute_result"
    }
   ],
   "source": [
    "all_responses.groupby('has_our_site')['has_our_site'].count()"
   ]
  },
  {
   "cell_type": "code",
   "execution_count": 19,
   "id": "5251a771-bc66-4cf2-907e-1cc1b0255f8c",
   "metadata": {
    "tags": []
   },
   "outputs": [],
   "source": [
    "all_responses['is_sorry'] = all_responses['modified_response'].apply(lambda x: 'sorry' in x.lower())"
   ]
  },
  {
   "cell_type": "code",
   "execution_count": 20,
   "id": "c8dee3e2-a100-4088-83e7-23e9222bd334",
   "metadata": {
    "tags": []
   },
   "outputs": [],
   "source": [
    "all_responses['modified_response'] = all_responses.apply(lambda x: x['modified_response'].replace('website','platform') if x['is_sorry'] else x['modified_response'],axis=1)\n",
    "all_responses['modified_response'] = all_responses.apply(lambda x: x['modified_response'].replace('Website','Platform') if x['is_sorry'] else x['modified_response'],axis=1)\n",
    "all_responses['modified_response'] = all_responses.apply(lambda x: x['modified_response'].replace('site','platform') if x['is_sorry'] else x['modified_response'],axis=1)\n",
    "all_responses['modified_response'] = all_responses.apply(lambda x: x['modified_response'].replace('Site','Platform') if x['is_sorry'] else x['modified_response'],axis=1)"
   ]
  },
  {
   "cell_type": "code",
   "execution_count": 45,
   "id": "2f60c91a-8212-4c04-8745-c819b707c9b4",
   "metadata": {
    "tags": []
   },
   "outputs": [],
   "source": [
    "all_responses['starts_with_headline'] = all_responses['modified_response'].apply(lambda x: x[:2]=='**')"
   ]
  },
  {
   "cell_type": "code",
   "execution_count": 46,
   "id": "f350aad8-4487-46bb-be5f-74b96631820d",
   "metadata": {
    "tags": []
   },
   "outputs": [
    {
     "data": {
      "text/plain": [
       "starts_with_headline\n",
       "False     249\n",
       "True     2231\n",
       "Name: starts_with_headline, dtype: int64"
      ]
     },
     "execution_count": 46,
     "metadata": {},
     "output_type": "execute_result"
    }
   ],
   "source": [
    "all_responses.groupby('starts_with_headline')['starts_with_headline'].count()"
   ]
  },
  {
   "cell_type": "code",
   "execution_count": 51,
   "id": "230ed9af-a902-4bcc-96ce-d10d4ede0e21",
   "metadata": {
    "tags": []
   },
   "outputs": [],
   "source": [
    "all_responses['bad_response'] = all_responses['modified_response'].apply(lambda x: 'user_query' in x) "
   ]
  },
  {
   "cell_type": "code",
   "execution_count": 53,
   "id": "180cfc1f-858b-48b1-bfd1-c400fc3bd5f0",
   "metadata": {
    "tags": []
   },
   "outputs": [
    {
     "data": {
      "text/plain": [
       "bad_response\n",
       "False    2478\n",
       "True        2\n",
       "Name: bad_response, dtype: int64"
      ]
     },
     "execution_count": 53,
     "metadata": {},
     "output_type": "execute_result"
    }
   ],
   "source": [
    "all_responses.groupby('bad_response')['bad_response'].count()"
   ]
  },
  {
   "cell_type": "code",
   "execution_count": null,
   "id": "372c7060-499c-4ac1-8a8d-cace770f4433",
   "metadata": {},
   "outputs": [],
   "source": []
  },
  {
   "cell_type": "code",
   "execution_count": 56,
   "id": "42ad045d-d38a-499b-bffb-ebfb59edbccf",
   "metadata": {
    "tags": []
   },
   "outputs": [
    {
     "data": {
      "text/plain": [
       "\"I apologize, but based on the articles provided, there is no specific information regarding Hindalco Industries' aluminum market strategies. The articles only cover recent stock price movements and trading data.\""
      ]
     },
     "execution_count": 56,
     "metadata": {},
     "output_type": "execute_result"
    }
   ],
   "source": [
    "all_responses[(all_responses.starts_with_headline==False) & (all_responses.is_sorry==False)].loc[163].modified_response"
   ]
  },
  {
   "cell_type": "code",
   "execution_count": 21,
   "id": "95607c28-8412-4c64-9c30-92d0b79ba76b",
   "metadata": {
    "scrolled": true,
    "tags": []
   },
   "outputs": [
    {
     "data": {
      "text/plain": [
       "array([\"I'm sorry, but the queries you've provided relate to social media trends and influencer impact on consumer behavior, which are not directly tied to the finance and business focus areas covered on our platform. If you have any questions related to finance or business, I'd be glad to assist with those.\",\n",
       "       \"I'm sorry, but your query about Taapsee Pannu thriller movies does not fall within the scope of finance or business topics that we cover on our platform. We focus on providing information and insights related to those areas. If you have any questions related to finance or business, feel free to ask, and I'd be happy to help!\",\n",
       "       'I\\'m sorry, but the user query you provided is about a \"fruit tart recipe,\" which is not related to finance or business topics. As the lead editor for a financial and business platform, I focus on providing information on financial and economic matters. If you have any questions about finance or business, feel free to ask, and I would be happy to help.',\n",
       "       \"I'm sorry, but as a financial and business platform, we focus on providing information regarding finance and business-related topics. Your query about Salman Khan's latest movie doesn't fall within these categories. If you have any questions related to finance, business, or economic entities, feel free to ask, and I'd be glad to assist you.\",\n",
       "       \"I'm sorry, but your query doesn't relate to finance or business topics. Our focus is on providing insights and information in these areas. If you have any questions related to finance, business entities like the RBI, Fed, or companies like Reliance, we'd be glad to help. Please feel free to ask a finance or business-related question.\",\n",
       "       'I\\'m sorry, but it seems there is no relevant financial or business information related to a \"squash tournament schedule\" in the articles provided.',\n",
       "       \"I'm sorry, but the queries you've provided do not pertain to finance or business-related topics. Our platform focuses on such subjects and the individuals or entities relevant to these fields. If you have any questions regarding finance, business, or associated entities like central banks, stock markets, or business corporations, please feel free to ask.\",\n",
       "       \"I'm sorry, but your query about film appreciation clubs doesn't fall under the category of finance or business-related content that we cover on our platform. We focus on providing information related to finance, business, and economic entities. If you have any questions in those areas, feel free to ask, and we'd be happy to help.\",\n",
       "       \"I'm sorry, but your query about detox water recipes does not fall within the scope of finance and business-related topics that our platform covers. We focus on providing information and answering queries related specifically to finance, business, and related entities. If you have any questions within these areas, feel free to ask, and we'd be happy to help.\",\n",
       "       \"I'm sorry, I can't provide an answer to your query as it seems non-financial or business-related and does not fit the topics covered by our platform. If you have any finance or business-related questions, please feel free to ask!\",\n",
       "       \"I'm sorry, it appears your query is about updates to a T20 league, which is a cricket-related topic. Our platform strictly covers financial and business topics, so we are unable to provide sports updates or information. If you have any finance or business-related questions, feel free to ask!\",\n",
       "       \"**Exploring Today's RegTech Landscape: No Current Updates Available**<br><br>I'm sorry, but I can't find the answer to your query on regulatory technology (regtech) news today. However, I found related information on upcoming financial results from relevant companies:<br><br>📅 **Upcoming earning report**: Resideo to release Q4 and Full Year 2023 results on February 13, 2024. <br><br>🗣️ **Conference call available**: OpenText to discuss Q2 Fiscal Year 2024 on February 1, 2024.<br><br>📊 **Financial results announcement**: TTM Technologies to publish Q4 and Fiscal Year 2023 data on February 7, 2024.<br><br>Please note that while the information is related to financial results, it does not specifically pertain to regulatory technology (regtech) as of today's date, February 10, 2024.\",\n",
       "       \"I'm sorry, but it seems your query does not directly relate to finance, business, or any relevant entities such as India, RBI, Reliance, or the Fed. Our platform is dedicated to financial and business topics, and we're unable to provide information on vocational training. If you have any questions within our areas of expertise, please feel free to ask, and we’d be happy to help.\",\n",
       "       \"**Exploring Non-Profit Financial Management Queries**<br><br>I'm sorry, but I can't find the answer to non-profit financial management in the articles I have. However, I found some related information about financial results from companies like Bajaj Finance and Bajaj Finserv that might be of interest.<br><br>**Bajaj Finance Q3 Performance Overview**  <br><br>💡 **Performance**: Q3 net profit rose 22% YoY.  <br><br>📊 **AUM Growth**: AUM increased, aiding earnings.  <br><br>💹 **Stock Rating**: 'Buy' calls from brokerages despite Q3 miss.  <br><br>🔄 **Asset Quality**: Slight dip but remains within guided range.  <br><br>🔍 **Provisions**: Higher loan losses led to increased provisions.  <br><br>🚀 **Outlook**: Brokerages suggest stable asset quality to drive future earnings.<br><br>**Bajaj Finserv Q3 Financial Highlights**  <br><br>💰 **Profit Uplift**: 21% YoY increase in net profit.  <br><br>📈 **Revenue Surge**: 34% YoY rise in consolidated revenue.  <br><br>🔝 **AUM Milestone**: Surpassed ₹300,000 crore in AUM.  <br><br>🔎 **NPA Levels**: Improvement in Gross and Net NPA ratios.  <br><br>⚖️ **Solvency Ratio**: Strong at 355%, above the regulatory requirement.<br><br>For investment related advice and decisions, please conduct additional thorough research and consult with a financial expert.\",\n",
       "       \"I'm sorry, but your query about fruit popsicle recipes does not fall within the scope of finance or business topics that we cover. If you have any questions related to finance, business, or related entities, feel free to ask, and I'd be glad to assist you!\",\n",
       "       \"I'm sorry, but it appears that your query is not related to finance or business, which are the core topics of our platform. If you have any questions regarding those subjects, feel free to ask, and I'll be happy to assist!\",\n",
       "       'I\\'m sorry, but your query about \"street style fashion\" does not fall within the financial or business topics that we cover. Our focus is on providing insights and information related to finance and business matters. If you have any questions in those areas, we\\'d be glad to help!',\n",
       "       \"I'm sorry, I can't find the answer to your query about team building in the articles provided. They contain information on charitable donation optimization and strategic leadership enhancements in companies but do not specifically address team building.\",\n",
       "       'I\\'m sorry, but your query about \"athletics training regimen\" does not fall within the scope of finance or business-related topics, which are the focus areas of our platform. Our content primarily addresses financial and business news, analysis, and information. If you have any questions related to these areas, please feel free to ask, and we\\'ll be happy to assist you.',\n",
       "       \"I'm sorry, but your query about Shraddha Kapoor singing does not fall within the scope of finance and business topics. Our platform focuses on providing financial and business insights and information. If you have any questions related to those areas, feel free to ask!\",\n",
       "       \"I'm sorry, but as a lead editor for a financial and business platform, I focus on finance and business-related topics. Queries about poetry slam events fall outside the scope of my expertise. If you have any questions related to finance or business, feel free to ask, and I'll be glad to assist you.\",\n",
       "       \"**Exploring Varroc Engineering's Automotive Component Space**<br><br>I'm sorry but I can't find the specific answer you're looking for about Varroc Engineering's automotive components. However, the articles do provide some insight into the automotive and electric vehicle (EV) industry which could be tangentially related.<br><br>**🚘 Electric Vehicle Market Observations**:<br><br>- **📉 Rivian Stumbles**: Rivian's stock dropped due to Q4 delivery slowdown.<br><br>- **⚖ Mixed Production News**: Rivian beat production forecasts but had delivery issues.<br><br>- **🏦 Goldman Sachs' Stance**: Neutral despite price target increase, due to growth concerns.<br><br>**🚗 Advancements in Vehicle Tech**:<br><br>- **💡 Visteon Innovations**: Showcases software-driven, cloud-enabled tech at CES 2024.<br><br>- **🖥 Cutting-Edge Displays**: Visteon highlights large, sleek display tech trend.<br><br>**🔋 EV Global Deliveries**:<br><br>- **📈 VinFast Growth**: Reports a 35% increase in EV deliveries in 4Q23.<br><br>- **🌐 Market Challenges**: Slow EV adoption in certain regions affects deliveries.<br><br>Please note these articles are very recent, from January 2024. For investment advice related to the automotive and EV industry, I recommend further research and consulting with a financial expert.\",\n",
       "       \"I'm sorry, but your question falls outside the scope of finance and business topics that I can address. If you have any questions related to these fields, feel free to ask, and I'd be happy to help.\",\n",
       "       \"I'm sorry, but you have not provided a specific user query. Please provide a valid finance or business-related question so that I may assist you accordingly.\",\n",
       "       \"I'm sorry, but your query does not pertain to finance or business. Our focus is on providing information related to those areas. If you have any questions regarding financial matters or business-related topics, feel free to ask, and I'll be glad to help!\",\n",
       "       \"I'm sorry, but your query about Virat Kohli's workout routine doesn't fall under financial or business-related topics that our platform covers. We focus on providing information and answering questions specific to finance, business, economics, and associated entities. If you have any questions in those areas, feel free to ask!\",\n",
       "       \"user_query: What are the RBI's latest measures to stabilize Indian currency?<br><br>I'm sorry, but I cannot find the exact answer regarding the latest measures by the RBI to stabilize the Indian currency. However, I found related information in the article discussing the Interim Budget 2024.<br><br>**Highlights from the Interim Budget 2024 and Its Economic Indicators**<br><br>📈 **Growth Momentum**: Continued capital expenditure, with an 11% YoY increase, aiding economic expectations for FY25.<br><br>🎯 **Fiscal Target**: Aggressive fiscal consolidation, reducing the fiscal deficit to 5.8% in revised estimates.<br><br>💼 **Government Stance**: Focus on transformation, reforms, and performance, emphasizing fiscal prudence over populist measures.<br><br>🛣️ **Investment Outlook**: Significant allocation (~Rs 11 trillion) toward infrastructural spending to sustain growth.<br><br>🌐 **Economic Targets**: Government set an even lower fiscal deficit target at 5.1% for FY25, suggesting cautious economic management.<br><br>Please note that the information is as per the Interim Budget released on February 1, 2024, and may not directly reference the Reserve Bank of India's specific actions.\",\n",
       "       \"I'm sorry, but your query about film screening and discussion panels does not fall within the scope of our financial and business focus. If you have any questions related to those areas though, feel free to ask!\",\n",
       "       'I\\'m sorry, but the query \"climate change effects\" is not related to finance or business. As the lead editor for a financial and business platform, I focus on topics within those domains. If you have any queries regarding finance, business, or related entities, feel free to ask, and I\\'d be glad to assist you.',\n",
       "       'I\\'m sorry, but it seems like your query about \"reality tv show auditions\" doesn\\'t relate to finance, business, or any relevant entities like India, RBI, Reliance, the Fed, etc. If you have any questions regarding these topics, feel free to ask and I\\'d be happy to help.',\n",
       "       \"I'm sorry, but your query falls outside the realm of finance and business, which are the core focus areas of our platform. If you have any questions regarding these topics, feel free to ask, and I'd be glad to assist you.\",\n",
       "       \"I'm sorry, but I can't find the answer to your query about social justice as it's not directly related to the finance and business topics covered on our platform. Our focus is primarily on financial news and analysis, including topics like economic policy, market updates, and business trends. If you have any questions on these subjects, feel free to ask!\",\n",
       "       \"I'm sorry, but I can't find the specific stock price for DMR Engineering. However, I found related information on similar companies that may interest you.<br><br>**Recent IPO and Performance of Engineering Stocks** <br><br>💼 **Industry Sentiment**: Gensol Engineering's stock is rising after a fundraising announcement.<br><br>  <br><br>📈 **IPO Insight**: Konstelec Engineers IPO was priced between ₹66-₹70, with strong grey market premium implying investor interest.<br><br>  <br><br>🔧 **Growth Metrics**: Gensol experienced a significant YoY revenue increase of 335% in Q3FY24.<br><br>  <br><br>💡 **Business Expansion**: Proceeds from Konstelec Engineers IPO aimed at capital requirements and growth.<br><br>   <br><br>📅 **Recent Listing**: Konstelec Engineers listed on the NSE SME platform as of late January 2024.<br><br>  <br><br>💰 **Gensol Upswing**: Gensol Engineering's share price hit an upper circuit, signaling potential upside.<br><br>Note: Investment in the stock market involves risks, and the above information is based on recent IPOs and company performances. You should conduct thorough research and consult a financial advisor before making any investments.\",\n",
       "       \"I'm sorry, but your query does not relate to finance or business topics that we can assist with on this platform. Our focus is strictly on providing information and answering questions in those areas. If you have any finance or business-related inquiries, please feel free to ask!\",\n",
       "       \"I'm sorry, but it appears your query is not related to finance or business topics. Our focus is strictly on providing information on financial matters and business entities. If you have any questions in that realm, feel free to ask!\",\n",
       "       \"I'm sorry, but your query regarding planning a budget-friendly vacation in India is not related to finance or business topics that our platform focuses on. We specialize in providing information and answering questions strictly in the realms of finance and business. If you have any such queries, feel free to ask, and we'd be happy to assist you!\",\n",
       "       \"I'm sorry, but it appears you are asking about fashion hacks, which is not related to finance or business. My expertise is strictly in providing financial and business support and information. If you have any questions on those topics, feel free to ask!\",\n",
       "       \"I'm sorry, but it appears you've asked a question about tennis, which is outside the scope of finance and business topics we cover. If you have any questions related to finance, the economy, business trends, or financial entities, feel free to ask, and I'd be glad to help!\",\n",
       "       \"I'm sorry, but as a financial and business platform, we don't cover topics related to celebrity endorsements. If you have any questions about finance, business, or related entities, feel free to ask, and I'll do my best to provide you with the information you need.\",\n",
       "       'I’m sorry, but I can’t find the answer in our articles to directly address how to start a fitness business in India. However, I’ve found some related information that might be of interest:<br><br>**CureFit Restructuring Despite Fitness Industry Growth**<br><br>📅 **Date**: Recent updates from 23 January 2024<br><br>📈 **Business strategy**: CureFit streamlines operations aiming for FY25 profitability.<br><br>💡 **Sector trend**: Restructuring reflects broader startup cost concerns.<br><br>🤼 **Employee impact**: Layoffs part of productivity measures.<br><br>📊 **Financial performance**: Improved financials in FY23, aiming for profits.<br><br>💼 **Industry moves**: Acquisitions and expansion noted, like Gold’s Gym India business.<br><br>For detailed guidance on starting a fitness business, consider exploring market research, business planning, and regulatory requirements in India. Please conduct additional thorough research and consider consulting with a business expert in the fitness industry.',\n",
       "       \"I'm sorry, but your query does not focus on finance or business-related topics. Our platform concentrates on providing insights and information in these areas. If you have any questions pertaining to finance, business, market trends, economic policies, or similar topics, feel free to ask!\",\n",
       "       \"I'm sorry, but your query about a homemade salsa recipe doesn't fall within the financial or business topics that we cover. If you have any questions related to finance or business, feel free to ask, and I'd be more than happy to help!\",\n",
       "       \"I'm sorry, but as the lead editor for a financial and business platform, I can only respond to queries related to finance and business. The question about Neeraj Chopra and javelin throw does not fall under our category of expertise. If you have any queries related to finance, business, market trends, or related entities, I'd be more than happy to help.\",\n",
       "       \"I'm sorry, but your query about active transportation does not fall under the financial or business categories that we are focused on. Our content is strictly related to finance, economics, and relevant entities like central banks, stock markets, corporations, and similar topics. If you have a question within those areas, please feel free to ask!\",\n",
       "       \"I'm sorry, but your query about healthcare access is not related to finance or business topics that I'm specialized in. My expertise is in financial and business news, updates, and information. If you have any questions in those areas, please feel free to ask.\",\n",
       "       \"I'm sorry, but I cannot provide a response as the user query is about non-financial or business-related content which falls outside the areas of finance and business that we cover. If you have any queries related to finance, business, or relevant entities, feel free to ask!\",\n",
       "       \"I'm sorry, but the query about blueberry muffins recipe doesn't fit into the valid categories of finance, business, or related entities. Our focus is strictly on these areas, so we aren't equipped to provide answers on recipes or non-financial topics. If you have any questions related to finance or business, please feel free to ask, and I’d be happy to help.\",\n",
       "       \"I'm sorry, but as a financial and business focused platform, we do not provide information on the history of the Olympic torch. If you have any queries related to finance or business, feel free to ask, and I'd be glad to assist you.\",\n",
       "       \"I'm sorry, but it seems you have a query regarding hockey world cup highlights which does not fall under finance or business domains. Our focus is strictly on financial and business matters. If you have any questions related to these areas, feel free to ask!\",\n",
       "       \"I'm sorry, but I cannot provide an answer to your query about Ayushmann Khurrana's songs as it is not related to finance or business topics. If you have any questions regarding finance or business, please feel free to ask!\",\n",
       "       \"I'm sorry, but it seems you are looking for wellness technology news, which is outside the scope of financial and business topics that we cover. If you have any questions related to finance or business, feel free to ask!\",\n",
       "       'I\\'m sorry, but the user query you provided is \"haryana,\" which does not pertain to finance, business, or any related entities like India, RBI, Reliance, Fed, etc., that can fall within the scope of our platform. Our content focuses strictly on financial and business topics, and therefore we are unable to provide an answer to this query. If you have any questions related to the domain of finance or business, feel free to ask.',\n",
       "       \"I'm sorry, but as a lead editor for a financial and business platform, I focus on topics related to finance, business, and relevant entities. Your query about 'public service' doesn't fall under these categories, and therefore, I'm unable to provide an answer. If you have any questions pertaining to finance or business, I'd be happy to assist with those.\",\n",
       "       'I\\'m sorry, but your query about \"workshops and trainings\" does not relate to a finance or business topic that I can draw information from the given articles. Our focus is strictly on those areas. If you have any questions that fall within finance or business, please feel free to ask!',\n",
       "       \"I'm sorry, but your query about virtual classrooms does not fall within the scope of financial and business topics that I am equipped to respond to. Our focus is strictly on finance, business, and related entities. If you have any questions on those subjects, feel free to ask!\",\n",
       "       'I\\'m sorry, but your query about \"political debates\" does not fall within our focus areas of finance and business topics. If you have any questions related to financial matters, business news, or economic policies, feel free to ask and I\\'d be glad to assist you.',\n",
       "       \"I'm sorry, but I am unable to provide a response as the query 'civic engagement' does not pertain to finance or business topics. My focus is strictly on those areas, so if you have any questions that fall under finance or business, I'd be happy to help.\",\n",
       "       \"I'm sorry, but I wasn't able to find the exact information on Thermax's energy solutions. However, I found some recent information on other energy-related stocks that might interest you.<br><br>**Recent Energy Sector Stock Performance**<br><br>💸 **Adani Energy (22 Jan)**: Closed at ₹1051.05 with a trading volume of 317,408 shares.<br><br>💼 **Adani Energy (24 Jan)**: Closed at ₹1128.6 with a trading volume of 149,809 shares.<br><br>🔄 **IEX (24 Jan)**: Finished at ₹142.3 with 2,033,108 shares traded.<br><br>📈 **52-week Highs**: Adani Energy - ₹2798.6, IEX - ₹173.3.<br><br>📉 **52-week Lows**: Adani Energy - ₹630, IEX - ₹116.05.<br><br>🏭 **Market Caps**: Adani Energy - ₹117,779.29 Cr, IEX - ₹12,137.95 Cr.<br><br>Please do additional thorough research and consult an expert for personalized investment advice.\",\n",
       "       \"I'm sorry, but your query about photography contest themes does not fall within the scope of finance or business topics that we cover on our platform. If you have any questions related to finance, business, economics, or related entities, feel free to ask, and we'll be happy to help.\",\n",
       "       \"I'm sorry, but the query about Kareena Kapoor's fitness secrets is not related to finance or business. As the lead editor for a financial and business platform, our focus is strictly on those areas. If you have any questions related to finance, business, or economic entities, I'd be happy to help.\",\n",
       "       \"I'm sorry, but I can't find the answer to your query about the yo-yo test in cricket. My area of expertise is strictly financial and business content. If you have any questions related to finance or business, feel free to ask!\",\n",
       "       \"I'm sorry, but your query doesn't pertain to finance, business, or any relevant entities. The focus here is exclusively on financial and business news and insights. If you have any questions within those domains, feel free to ask, and I'd be glad to help!\",\n",
       "       \"I'm sorry, but it appears that the query you've provided pertains to a recipe, which falls outside of the scope of finance and business-focused topics we cover. If you have any questions related to finance, business, economics, or other related entities, feel free to ask, and I'd be glad to assist you!\",\n",
       "       \"I'm sorry, but your query does not pertain to finance or business, which are the focused topics of our platform. If you have any questions related to those areas, please feel free to ask!\",\n",
       "       '**Understanding Your Query: Not Relevant to Finance or Business**<br><br>I\\'m sorry, but it appears your question about \"street art tours\" does not fall within the scope of finance or business topics that we cover. Our focus is on providing information and answering questions strictly related to finance and business subjects.<br><br>If you have any questions related to these areas, please feel free to ask, and I would be glad to assist you.',\n",
       "       \"I'm sorry, but I could not find the specific petrol prices for February 2, 2024. However, I do have related information on fuel prices from a recent date. Here's the latest information available up to January 16, 2024:<br><br>**Latest Fuel Prices as of January 16, 2024**<br><br>🛢️ **Chennai Petrol**: ₹102.63 per liter<br><br>🛢️ **Chennai Diesel**: ₹94.33 per liter<br><br>🚗 **Kolkata Petrol**: ₹106.03 per liter<br><br>🚗 **Kolkata Diesel**: ₹92.76 per liter<br><br>⛽ **Hyderabad Petrol**: ₹109.66 per liter<br><br>⛽ **Hyderabad Diesel**: ₹97.82 per liter<br><br>💷 **Inflation Concern**: India's retail inflation hit a 4-month high of 5.69% in December 2023<br><br>For the most current prices, please check the local petrol pumps or official resources as prices are subject to daily changes.\",\n",
       "       \"I'm sorry, but as the lead editor for a financial and business platform, my focus is on providing information related to finance and business. Your query about the wrestling championship in India does not fall within our range of topics. If you have any questions pertaining to finance, business, or related entities, feel free to ask, and I'll be happy to help.\",\n",
       "       \"I'm sorry, but it appears you have an invalid query related to parking solutions, which does not fall within the scope of the finance and business topics covered on our platform. We focus specifically on financial markets, business strategy, and related entities. If you have a question within that realm, please feel free to ask!\",\n",
       "       \"I'm sorry, but it appears your question is not related to finance or business, which is our primary focus area. If you have any questions pertaining to those topics, feel free to ask!\",\n",
       "       \"I'm sorry, but your query does not concern finance or business topics that are within our focus area. If you have any questions regarding finance, business, or related entities, feel free to ask!\",\n",
       "       \"I'm sorry, but your query about cultural festivals in India does not fall within the scope of finance and business topics that we handle. If you have any questions related to finance, business, economics, or related entities, please feel free to ask, and I'd be happy to help.\",\n",
       "       'I\\'m sorry, but your query about \"binge-worthy TV shows\" does not fall within the realm of finance or business-related topics. Our focus is strictly on financial and business content. If you have any questions that are related to these areas, please feel free to ask and I would be happy to help!',\n",
       "       \"I'm sorry, but as a financial and business platform, we focus our content strictly on topics related to finance and business. It seems like your query about waste management doesn't align with the type of content we provide. If you have any questions that pertain to the financial or business aspects of waste management, such as market growth or investment in waste management companies, feel free to ask, and we'd be glad to assist you with that information.\",\n",
       "       \"I'm sorry, but your query seems to be about literature and publishing, which does not fall within the financial and business topics typically covered by our platform. We focus on providing insights and information about finance, economy, markets, and related entities. If you have any questions about these areas, feel free to ask!\",\n",
       "       \"I'm sorry, but it appears your query on community gardening initiatives is not related to finance or business topics that our platform focuses on. If you have any questions regarding finance, business, or economic matters, feel free to ask, and I'd be glad to help!\",\n",
       "       'I\\'m sorry, but it appears that your query about \"sustainable transportation\" does not directly relate to the specific financial or business aspects that our articles cover. However, we have articles that touch on the related aspects of sustainable advancements in the transportation sector which might interest you.<br><br>**Articles related to sustainable advancements in the transportation industry**<br><br>🌱 **Environmental Focus**: Kodiak Technologies developing hybrid industrial snow blowers for sustainability.<br><br>🚀 **Industry Milestone**: Ashok Leyland delivers first fully electric Boss Electric Truck.<br><br>🔋 **EV Infrastructure**: Budget 2024 includes proposals to strengthen e-vehicle manufacturing and charging infrastructure.<br><br>🌐 **Global Expansion**: Bharat Mobility Global Expo displays Ashok Leyland\\'s commitment to green mobility.<br><br>💼 **Private Sector Engagement**: Allcargo Group CFO highlights inclusive economic growth, connects with sustainable infrastructure spends.<br><br>📈 **Economic Impact**: Increased capex outlay in transport aims to boost India\\'s economic growth and sustainability.  <br><br>Please note these points are from recent articles, the latest being from February 2024. If you\\'re looking for investment advice or more detailed financial analysis within this sector, we recommend doing additional thorough research and consulting an expert.',\n",
       "       \"I'm sorry, but I can't find the answer to your query on social justice panels within the scope of the articles provided. My focus is on finance and business-related content. If you have any questions in that realm, feel free to ask!\",\n",
       "       \"I'm sorry, but I can't find the answer to your question about philanthropy and charity galas. If you have any questions related to finance or business, feel free to ask!\",\n",
       "       \"I'm sorry, but I can't find the answer to your query about roundtable debates. However, I can provide related information on a significant roundtable event in the minerals sector.<br><br>**Ministerial Roundtable Precedes Future Minerals Forum 2024**<br><br>🌐 **International Participation**: Over 77 countries, including G20 members, to engage.<br><br>🔗 **Collaboration Goals**: Focus on sustainable, responsible mineral development.<br><br>🌱 **Sustainability Talks**: Critical themes like green mineral value chains on the agenda.<br><br>🤝 **Global Cooperation**: Representatives from governments, NGOs, and business associations involved.<br><br>📆 **Event Timing**: Occurred on 9 January 2024, Riyadh, Saudi Arabia.<br><br>💡 **Strategic Sessions**: Discussions include critical minerals supply and transparency in mineral development.\",\n",
       "       \"**Is ULIP a Sensible Choice for Investors? Related Insights Gathered**<br><br>📊 **Budget Hopefuls**: Experts anticipate 2024 budget to address ULIPs tax parity with mutual funds.<br><br>🏦 **Industry Expectations**: Mutual fund industry seeks equity Fund of Fund to be treated on par with equity mutual funds taxation.<br><br>🌟 **Market Predictions**: Past predictions have often been unreliable, caution provided for investor optimism.<br><br>💡 **Investment Tips**: Investors advised to review financial goals and consider market risks carefully.<br><br>❗ **Lack of Direct Analysis**: Sorry, the exact answer to the sensibility of ULIPs isn't directly addressed in the articles.<br><br>The articles reviewed do not provide a direct answer to whether ULIPs are a sensible investment choice, but there is related information regarding expectations for them in the upcoming budget, as well as general advice on investment planning that could be relevant. Remember, it's important to conduct thorough research and consider consulting an expert before making any investment decisions.\",\n",
       "       'I\\'m sorry, but the user query about \"hockey goalkeeper drills\" is not related to finance or business topics. As the lead editor for a financial and business platform, our focus is on providing information and answering questions strictly within those domains. If you have any queries related to finance, business, investments, markets, or related entities, feel free to ask, and I\\'ll be happy to assist you!',\n",
       "       'I\\'m sorry, but the query about \"women\\'s leadership forums\" doesn\\'t fall within the financial or business categories specified for valid queries. My focus is strictly on finance and business-related content. If you have any questions in those areas, feel free to ask, and I\\'d be happy to help.',\n",
       "       \"I'm sorry, but your query does not fall within our focus of finance and business topics. If you have any questions related to these areas, feel free to ask!\",\n",
       "       \"I'm sorry, but I can't find the answer to your query about mentorship programs. However, there are related articles about professional development and educational initiatives within the business and financial industries. Would you like me to summarize any of these articles for you instead?\",\n",
       "       \"I'm sorry, but your query about table tennis techniques doesn't align with our financial and business focus. If you have any questions related to finance, business, or related entities, feel free to ask!\",\n",
       "       \"I'm sorry, but it looks like your query isn't related to finance or business topics that we cover on our platform. If you have any questions about financial matters, business, or related entities, feel free to ask and I'll be glad to help.\",\n",
       "       \"I'm sorry, but your queries about sportsmanship stories do not fall within the finance and business topics that we cover. If you have any questions about finance, business, or related entities, I'd be happy to help.\",\n",
       "       \"I'm sorry, but your query about comparing Lionel Messi and Cristiano Ronaldo does not pertain to the financial and business topics that our platform focuses on. If you have any questions related to finance or business, feel free to ask and I'll be happy to help!\",\n",
       "       \"I'm sorry, but I am not able to provide a recipe for chole bhature. My expertise is strictly in the finance and business arenas. If you have any questions related to those subjects, please feel free to ask!\",\n",
       "       \"**Query Not Related to Finance or Business**<br><br> <br><br>I'm sorry, but I can't find the answer to your query about personal development as it's not within the financial or business domains covered by our platform.\",\n",
       "       'I\\'m sorry, but it appears that your query about a \"classic margarita recipe\" is not related to finance or business topics. Our focus is on providing information and answers about finance and business-related questions. If you have a question within that scope, feel free to ask.',\n",
       "       \"I'm sorry, I can't find the answer to your query about a red velvet cake recipe as it doesn't pertain to finance or business topics. If you have any questions related to those areas, feel free to ask!\",\n",
       "       \"I'm sorry, but your query regarding cultural exchanges doesn't align with the financial and business topics we focus on. If you have any questions related to finance or business, feel free to ask!\",\n",
       "       'I\\'m sorry, but your query about \"mathematics and statistics\" does not fall under the financial and business topics that our platform focuses on. We specialize in finance, business, and related entities such as countries and their economic policies, central banks, and specific companies within those realms. If you have any questions pertaining to these areas, please feel free to ask, and we\\'d be happy to help.',\n",
       "       'I\\'m sorry, but your query about the \"Dangal movie insights\" is not related to finance or business topics that I specialize in. If you have any questions about finance, business, the economy, investment, or related topics, feel free to ask, and I\\'ll be happy to help.',\n",
       "       \"I'm sorry, but the query about Arijit Singh concerts does not pertain to finance or business topics, and as such, it falls outside the scope of our platform's focus. If you have any questions related to finance, business, or other related entities, please feel free to ask.\",\n",
       "       \"I'm sorry, but your query does not pertain to finance or business topics. As the lead editor for a financial and business platform, I focus on providing insights and answering queries related to those areas. If you have any finance or business-related questions, feel free to ask, and I'd be happy to help!\",\n",
       "       \"I'm sorry, but it appears your query is not related to finance or business topics. Our focus is strictly on those areas. If you have a question pertaining to finance or business, feel free to ask, and I would be glad to assist you.\",\n",
       "       \"I'm sorry, but your query regarding traffic management does not fall under the financial or business topics we cover. If you have any questions related to finance, business, or relevant entities like India, RBI, Reliance, Fed, etc., feel free to ask, and I'd be glad to assist you.\",\n",
       "       \"I'm sorry, but I can't find the answer to your question about IFCI's financial services. However, I did find related information on the extensions of tax benefits for financial services sectors in the recent budget announcements. Here's a summary:<br><br>**Extension of Tax Benefits for Startups and IFSC Units to March 2025**  <br><br>🏦 **Extended deadline**: IFSC units' tax exemptions now valid till March 31, 2025.  <br><br>🚀 **Startups relief**: Startups get a one-year extension for tax holiday eligibility.  <br><br>⛵ **Aircraft & ship leasing**: Deadline for operations setup extended to avail tax advantages.  <br><br>💼 **Investment boost**: Moves aimed at fostering entrepreneurship and GIFT City growth.  <br><br>👨\\u200d💼 **Expert insights**: These measures expect to propel financial services sectors.  <br><br>🌐 **IFSC as a global hub**: GIFT City's prominence as an international financial center reinforced.  <br><br>Remember, if you're considering investment decisions based on these changes, it's advisable to do thorough research and consult an expert.\",\n",
       "       \"**Understanding Your Query: Financial and Business Focus**  <br><br>I'm sorry, but it seems your question is related to public health, which falls outside the scope of financial and business topics that we cover. We focus on finance and business-related questions and would be unable to provide an analysis or summary of public health information. If you have any finance or business-related questions, feel free to ask!\",\n",
       "       'I\\'m sorry, but it seems like your query about \"digital content creation news today\" does not directly relate to the financial or business articles that I have found. My focus is on providing financial and business news updates, and the articles I have available pertain to recent announcements from REITs and a partnership involving a digital health platform. If you have any questions on financial topics, business news, or updates about specific companies or financial entities, feel free to ask, and I would be happy to help with the information available.',\n",
       "       \"I'm sorry, but it appears that your query is about wellness and lifestyle, which falls outside the scope of finance and business topics that we specialize in. If you have any questions regarding finance, business, investments, or related entities, please feel free to ask, and I'd be happy to help.\",\n",
       "       'I\\'m sorry, but it seems the user query \"social impact\" doesn\\'t fall within the finance and business topics that I can provide information on. My focus is strictly on finance and business-related content. If you have any queries within those areas, I\\'d be more than happy to assist you.',\n",
       "       \"I'm sorry, but your query about recreational activities doesn't fall within the scope of our financial and business focus. If you have any questions related to finance, business, or relevant financial entities, I would be more than happy to assist you.\",\n",
       "       \"I'm sorry, but your query about architecture and urbanism doesn't fall within the financial and business topics that our platform focuses on. If you have any questions related to finance, business, economic entities, or related topics, feel free to ask, and I would be glad to help.\",\n",
       "       'I am sorry, but it seems like your query does not relate to finance or business topics. As the lead editor for a financial and business platform, my expertise is in providing information on these subjects. If you have any questions related to finance, business, or their related entities, feel free to ask, and I would be happy to help!',\n",
       "       'I\\'m sorry, but it seems there was an error in the query provided. You asked about \"Ranveer Singh performances,\" which does not relate to finance or business topics. As the lead editor for a financial and business platform, I can assist you with topics around finance, business, the economy, market trends, and related entities. If you have any such questions, please feel free to ask, and I would be happy to help.',\n",
       "       \"**The Importance of Financial Planning for All Age Groups**<br><br>I'm sorry, but your query about travel vloggers in India falls outside the scope of financial and business queries. Our focus is strictly on finance, economics, and business-related topics. If you have any questions within these domains, feel free to ask!\",\n",
       "       'I\\'m sorry, but it appears that your query about \"celebrity fitness secrets\" isn\\'t related to finance or business. Our focus is strictly on those topics, so I won\\'t be able to provide an answer to your question. If you have any inquiries pertaining to finance or business, feel free to ask, and I\\'d be happy to help.',\n",
       "       \"I'm sorry, but your query about Bollywood celebrity weddings doesn't fall within the scope of finance and business-related topics that we cover. If you have any questions related to finance, business, the economy, or related entities like companies and financial institutions, feel free to ask and I'd be glad to help.\",\n",
       "       \"I'm sorry, but your query does not pertain to finance or business topics. My expertise is in providing information and insights on financial matters and business-related content. If you have any questions regarding these areas, please feel free to ask, and I would be happy to help.\",\n",
       "       'I\\'m sorry, but the user query about \"sketch comedy clips\" isn\\'t related to finance or business topics. As a financial and business-focused platform, we are not equipped to provide information on that subject. If you have any questions related to finance or business, please feel free to ask!',\n",
       "       'I\\'m sorry, but it seems like the query you provided, \"saif ali khan cooking show,\" is not related to finance or business topics that we are focused on. If you have any financial or business-related questions, feel free to ask, and I\\'ll be more than happy to help you with that!',\n",
       "       \"I'm sorry, but I can't find the answer to your query about the masala dosa recipe. My focus is strictly on financial and business-related content. If you have any questions in those areas, feel free to ask!\",\n",
       "       'I\\'m sorry, but I can\\'t find the answer related to \"high-frequency trading\" in the articles provided. However, here is related information about financial markets and company strategies that may interest you:<br><br>**Recent Financial Predictions and Company Strategies Examined**<br><br>📈 **Analyst Predictions**: 2023 deemed one of best years for stocks, fueled by Fed\\'s policy changes.<br><br>🌐 **Global Expansion**: Gotion High-tech strategizes on quality, globalization, R&D, and supply chains.<br><br>💡 **R&D Focus**: Gotion to improve cell performance and align with super-charging market demand.<br><br>🌿 **Sustainable Practices**: Emphasis on building green supply chain and reducing carbon emissions.<br><br>⚖️ **Stock Viability**: Concerns over QuantumScape\\'s future as it faces production and cash flow challenges.<br><br>🚀 **Technology Cooperation**: Gotion partners with UK\\'s Pod Point for EV charging and ESS technology.<br><br>Please do additional thorough research and consider consulting a financial expert for advice on high-frequency trading.',\n",
       "       \"I'm sorry for the inconvenience, but I can only address queries related to finance, business, and relevant entities. Please feel free to ask if you have any such questions!\",\n",
       "       \"I'm sorry, but I can't find the answer to your query about biodiversity conservation. Our platform focuses on finance and business-related content, and while the articles provided do mention actions by mining leaders to support a nature positive future, it does not specifically address biodiversity conservation in the context you might be looking for. If you have any financial or business-related questions, feel free to ask!\",\n",
       "       \"I'm sorry, but as the focus is on finance and business, I cannot provide an answer to the query about global health. If you have any queries related to finance or business, I'd be happy to help!\",\n",
       "       \"I'm sorry, but it seems there has been a mix-up with the input data as the user query appears to be missing. Can you please provide the user's financial or business-related question that you'd like me to answer?\",\n",
       "       'I\\'m sorry, but the query about \"marathon nutrition plan\" does not fall within the scope of finance or business. Our focus is on providing information and insights on financial and business-related topics. If you have any questions in these areas, please feel free to ask, and we\\'d be happy to assist you.',\n",
       "       \"I'm sorry, but your query about cycling race champions does not relate to finance or business topics. Our platform focuses on financial and business content, so we are unable to address questions outside of these areas. If you have any inquiries regarding finance, business, economies, or related entities, feel free to ask, and we'll be glad to help!\",\n",
       "       \"I'm sorry, but I can't provide an answer about Deepika Padukone movies as it's not related to finance or business-related topics. If you have any questions pertaining to those areas, feel free to ask!\",\n",
       "       \"I'm sorry, but your query does not fall within the scope of finance and business that our platform covers. If you have any questions related to these areas, feel free to ask, and I would be happy to help.\",\n",
       "       \"I'm sorry, but your query about environmental conservation talks doesn't pertain to the financial and business content covered on our platform. We focus exclusively on topics related to finance, business, and associated entities. If you have any questions within this scope, feel free to ask, and we'd be happy to assist you.\",\n",
       "       \"I'm sorry, but it seems like your query is not related to finance or business. Our focus is strictly on these topics, and therefore, we are unable to provide information on literary magazines. If you have any questions within the financial or business domain, feel free to ask, and we’d be happy to help!\",\n",
       "       \"I'm sorry, but I'm not able to find the exact share price of Dr. Reddy's for the live trading session you're interested in. However, I found related information from the last trading session, which was on 22nd December 2023. Here are the summaries of share price information from that day for other companies:<br><br>**SRF Share Price Details from 22 Dec 2023**<br><br>📊 **Opening**: ₹2357.55<br><br>📈 **Closing**: ₹2369.4<br><br>💹 **Day's High**: ₹2406<br><br>🔽 **Day's Low**: ₹2345.6<br><br>💰 **Market Cap**: ₹71057.48 crore<br><br>🔄 **BSE Volume**: 10,074 shares  <br><br>**IREDA Share Price Details from 22 Dec 2023**<br><br>📊 **Opening**: ₹102.27<br><br>📈 **Closing**: ₹105.13<br><br>💹 **Day's High**: ₹111.2<br><br>🔽 **Day's Low**: ₹99.85<br><br>💰 **Market Cap**: ₹29522.41 crore<br><br>🔄 **BSE Volume**: 8,661,084 shares  <br><br>**L&T Share Price Details from 22 Dec 2023**<br><br>📊 **Opening**: ₹3386.05<br><br>📈 **Closing**: ₹3420.25<br><br>💹 **Day's High**: ₹3438.9<br><br>🔽 **Day's Low**: ₹3333<br><br>💰 **Market Cap**: ₹470803.42 crore<br><br>🔄 **BSE Volume**: 97,412 shares  <br><br>For the most accurate information regarding Dr. Reddy's share price, please refer to the latest financial news or a real-time stock market service. If you're considering investing, make sure to do thorough research and consider consulting a financial expert.\",\n",
       "       'I\\'m sorry, but your query about \"zumba workout for beginners\" doesn\\'t fall under finance or business-related topics, which are the focus areas of the platform. If you have any questions related to finance, business entities, or economic matters, feel free to ask, and I\\'d be happy to assist you.',\n",
       "       'I\\'m sorry, but your query about \"cycling and walking\" does not fall within the scope of finance or business-related topics that we cover. If you have any questions regarding financial matters, business insights, or related entities, please feel free to ask, and I\\'ll be glad to assist you.',\n",
       "       \"I'm sorry, but as a lead editor for a financial and business platform, I focus on content related to finance, business, and related entities. The query you've provided about cricket world cup updates falls outside the scope of our expertise. If you have any inquiries related to finance or business, I'd be more than happy to assist you!\",\n",
       "       \"I'm sorry, but it seems like you're looking for a peach cobbler recipe, which isn't related to finance or business topics that we cover. Our focus is strictly on financial and business news and information. If you have any related queries, feel free to ask!\",\n",
       "       'I\\'m sorry, but your query regarding \"adventure sports in India\" does not fall under finance or business queries that we cater to. Our focus is on topics related to finance, business, and relevant entities. If you have any questions in these areas, please feel free to ask!',\n",
       "       \"I'm sorry, but I can't find the answer to your query related to AIADMK as it is not related to finance or business. If you have any financial or business-related inquiries, feel free to ask!\",\n",
       "       \"I'm sorry, but it appears you've made a query about a recipe for 'besan ladoo,' which isn't related to finance or business topics that I can provide information on. If you have any other finance or business-related queries, feel free to ask and I'd be happy to assist.\",\n",
       "       \"I'm sorry, but your query about a lemon tart recipe doesn't fall within the scope of finance and business-related questions that I can assist with. If you have any questions regarding those topics, feel free to ask!\",\n",
       "       \"I'm sorry, but your query doesn't fall within the scope of finance and business. Our platform focuses on topics related to these areas, and we would be happy to help with any questions you have on those subjects.\",\n",
       "       \"I'm sorry, but I can't find the answer to your query about hilarious cricket moments. My expertise is strictly in finance and business-related topics. If you have any questions regarding those areas, feel free to ask!\",\n",
       "       \"**Current Query Does Not Concern Finance or Business** <br><br>I'm sorry, but it seems you're asking about freshwater conservation which falls outside of finance and business topics. My focus is strictly on financial and business-related content. If you have any questions related to these areas, feel free to ask!<br><br>\",\n",
       "       \"I'm sorry, but I can't find the answer to your query about Kriti Sanon's acting tips. My focus is on providing information related to finance and business. If you have any questions in those areas, feel free to ask!\",\n",
       "       \"I'm sorry, but I can't find the answer to your query about financial scandals. However, if you're looking for recent financial news, I do have information on the latest updates and expectations from India's Budget 2024 which might be of interest. <br><br>**Understanding India's Budget 2024 and Its Implications** <br><br>📅 **Date Info**: Article 0 content from 20 January 2024, Article 1 from 23 January 2024, Article 2 from 1 February 2024.<br><br>📉 **Stimulating Growth**: Budget 2024 aims to stimulate consumption and support the rural economy.<br><br>👨\\u200d🌾 **Rural and Health Focus**: Enhancing MGNREGA funds and doubling Ayushman Bharat insurance coverage.<br><br>💼 **Tax Reforms**: Speculations about income tax slab changes to alleviate taxpayer burdens.<br><br>🚀 **Sunrise Sectors**: A ₹1 lakh crore fund announced to boost long-term financing for tech innovations.<br><br>💡 **Eco-Incentives**: Potential tax benefits for investments in sustainable practices.<br><br>🌟 **Golden Era for Youth**: Emphasis on empowering youth with tech-driven programs.<br><br>For investment advice or financial decisions based on the Budget, it's essential to do your own thorough research and consider consulting a financial expert.\",\n",
       "       \"I'm sorry, but your query about classic Indian jokes does not fall within the scope of the financial and business topics we deal with. If you have any questions related to finance or business, I'd be happy to help.\",\n",
       "       \"I'm sorry, but your question on influential leaders is not related to finance or business as per the specific categories of our platform. We focus on providing information and insights into finance, business, the economy, and related entities. If you have any questions pertaining to these areas, feel free to ask!\",\n",
       "       \"I'm sorry, but I can't find the answer to your query regarding Bombay Dyeing & Manufacturing Company's textiles and real estate. Please let me know if there's any other information you'd need related to finance or business.\",\n",
       "       \"I'm sorry, but as a financial and business platform, we provide information and resources strictly related to finance, business, and related entities. Unfortunately, I won't be able to assist with non-financial queries such as a recipe for malai kofta. If you have any questions regarding finance or business, feel free to ask, and I'd be happy to help!\",\n",
       "       \"I'm sorry, but your query about artisanal craft markets does not pertain to finance or business-related topics as it would be more aligned with art and culture. Our platform focuses on financial and business news and information. If you have any questions related to finance, economy, or business sectors, please feel free to ask!\",\n",
       "       'I\\'m sorry, but the query \"cultural appreciation societies\" falls outside the scope of finance and business topics. If you have any questions on financial matters, business strategies, or related entities, please feel free to ask.',\n",
       "       \"I'm sorry, but it seems that your query about a vegetable lasagna recipe is not finance or business-related, which is the focus of our platform. If you have any questions regarding finance, business, or related entities, please feel free to ask!\",\n",
       "       \"I'm sorry, but it seems the user query is about charitable giving, which is not directly addressed in the articles provided. The articles provided focus on investment trends, budget expectations, the healthcare sector, and financial support for MSMEs. If there's anything else within the realm of finance and business that you would like advice on, feel free to ask!\",\n",
       "       'I\\'m sorry, but your query about \"tennis ace techniques\" does not fall within the financial and business topics that we cover. If you have any questions related to finance, business, or relevant entities, feel free to ask!',\n",
       "       \"I'm sorry, but I can't find the answer to your query about Jacqueline Fernandez's workout. My focus is strictly on finance and business content. If you have any questions related to those areas, feel free to ask!\",\n",
       "       \"I'm sorry, but your query about outdoor adventure clubs does not fall within the financial or business topics that our platform focuses on. If you have any questions related to finance, business, or related entities, feel free to ask, and I would be glad to assist you.\",\n",
       "       'I\\'m sorry, but it appears your query about \"rahul gandhi interview\" is not related to finance or business, so it falls outside the scope of our platform\\'s focus on financial and business matters. If you have any questions that align with these topics, feel free to ask, and I\\'d be happy to help!',\n",
       "       \"I'm sorry, but your query about boxing weight classes does not fall within the scope of finance and business topics that our platform focuses on. We specialize in financial and business-related information. If you have any questions related to those areas, feel free to ask, and I'd be glad to assist you.\",\n",
       "       \"**Exploring the Query: Is a Fixed Deposit a Wealth Destroyer?**<br><br>💡 **Recent Performance**: No recent data suggesting FDs destroy wealth<br><br>📈 **Interest rates**: Article on investments (01 Jan 2024) doesn't imply FDs are unfavorable<br><br>🏦 **Safe Investment**: FDs are generally considered low-risk with consistent returns<br><br>💼 **Diversification advice**: Investment articles advise a diversified portfolio<br><br>Sorry, but I am not able to find the exact answer to whether fixed deposits are a destroyer of wealth in the articles. The related information indicates that while fixed deposits offer lower risk and consistent returns, having a diversified investment portfolio is recommended.\",\n",
       "       'I\\'m sorry, but your query regarding \"viral dance challenges\" doesn\\'t fall within the scope of finance and business topics. If you have any questions related to finance, business, markets, or economic entities, feel free to ask, and I will be happy to assist you.',\n",
       "       \"I'm sorry, but it seems your query is about badminton smash technique, which isn't related to finance or business topics. Our focus is on providing financial and business news, insights, and updates. If you have any questions related to these areas, feel free to ask, and I'd be glad to help!\",\n",
       "       \"I'm sorry, but your query about volunteering doesn't fall within the spectrum of finance and business topics that our platform focuses on. We're dedicated to providing expertise in financial and business matters, so if you have any questions in those areas, we would be more than happy to assist you.\",\n",
       "       \"I'm sorry, but your query about wildlife protection doesn’t fall within the finance and business topics that we focus on. If you have any questions related to finance, business, or entities like India's economy, RBI policies, corporate developments in companies like Reliance, or actions by the Federal Reserve, I'd be happy to help with those!\",\n",
       "       \"I'm sorry, but your query about maternal health does not pertain to finance or business topics that our platform covers. We focus on providing information and answering questions related solely to finance and business. If you have any queries in those areas, please feel free to ask!\",\n",
       "       'I\\'m sorry, but it seems like the user query about \"paragliding safety\" doesn\\'t align with the financial and business scope of our platform. Our focus is on providing insights and answers related to finance, business, and their relevant entities. If you have any questions on those topics, feel free to ask!',\n",
       "       'I\\'m sorry, but the query about \"pav bhaji recipe\" is not related to finance or business. Our focus is strictly on these topics, and we regret that we cannot provide information or answer queries outside of these areas. If you have any questions related to finance, business, or related entities such as India, RBI, Reliance, the Fed, etc., please feel free to ask!',\n",
       "       \"I'm sorry, but your query about gluten-free recipes is not within the scope of our expertise in finance and business. Our focus is strictly on those subjects. If you have any questions related to finance or business, feel free to ask and we would be glad to help.\",\n",
       "       \"I'm sorry, but I can't find the answer to your query regarding sustainable fashion brands. However, I can provide some related information from recent articles about developments in the sustainable fashion and textile industries in India.<br><br>**Latest Advances in India's Sustainable Fashion and Textiles**<br><br>🌳 **New Initiatives**: Ministry of Textiles to set up a Centre of Sustainable Fashion Technology.<br><br>👚 **Education Expansion**: NIFT launching an integrated master's program focusing on luxury, curation, and sustainability.<br><br>🌱 **Brand Growth**: Moms Home secured funding to expand its organic baby care range and sustainable apparel.<br><br>👶 **D2C Success**: Moms Home boasts an ARR of INR 20 Cr, demonstrating consumer demand for sustainable products.<br><br>👕 **Celebrity Venture**: Shilpa Shetty launches Zip Zap Zoop, a kid's clothing line utilizing sustainable fabrics.<br><br>📈 **Market Trends**: India's kids apparel market projected to grow, reaching $24.5 Bn by 2028, with sustainability as a focus.<br><br>Please do additional thorough research or consult an expert if you seek investment decisions related to sustainable fashion brands.\",\n",
       "       \"I'm sorry, but based on the articles provided, there is no specific information regarding audit reports. Therefore, I'm unable to provide a direct answer to your query. However, I would recommend looking for articles or reports specifically focused on auditing practices, updates to auditing standards, or industry analyses of audit trends for the most relevant information.\",\n",
       "       \"I'm sorry, but your query does not pertain to finance or business topics which fall within our area of expertise and article coverage. If you have any questions related to finance or business, feel free to ask, and we would be glad to assist you.\",\n",
       "       \"I'm sorry, but the query you provided falls outside the scope of finance and business topics, and as such, I am unable to provide a response. Our focus is strictly on financial and business questions. If you have any queries related to these areas, feel free to ask!\",\n",
       "       \"**Essentials for Launching an Import-Export Business in India**<br><br>💡 **Focus on Innovation**: Tailor innovation to solve market problems.<br><br>📈 **Sustainable Growth**: Develop strategies for sustainable and profitable growth.<br><br>🔍 **Data-Driven Culture**: Base decisions on solid data.<br><br>🔄 **Adaptable Operations**: Ensure flexibility to adapt to market changes.<br><br>👥 **Invest in Talent**: Hire individuals in sync with startup dynamics.<br><br>Sorry, I wasn't able to find the exact steps for starting an import-export business in India, but these insights are crucial for any startup's success and related to setting up a business. Remember to carry out thorough research and consult an expert for specific business setup advice.\",\n",
       "       \"I'm sorry, but I can't find the answer to your query about cultural heritage platforms in the articles provided.\",\n",
       "       \"I'm sorry, but your query does not pertain to finance or business topics that our platform focuses on. We specialize in providing information and answering inquiries related to finance, business, and related entities. If you have any questions on these subjects, feel free to ask, and we'll be glad to assist you.\",\n",
       "       \"I'm sorry, but your query regarding Shahid Kapoor's fitness regime is not related to finance or business topics that we cover. If you have any questions related to finance, business, or related entities, please feel free to ask!\",\n",
       "       'I\\'m sorry, but your query about \"bollywood fashion icons\" doesn\\'t relate to finance or business. Our focus is on providing information and answering questions in those areas. If you have any finance or business-related questions, feel free to ask!',\n",
       "       \"I'm sorry, but as a financial and business platform, we do not provide information or answer queries about cricket trivia and facts. Our focus is on finance, business, and related entities. If you have any questions in that domain, feel free to ask!\",\n",
       "       \"I'm sorry, but your query about ladoo recipe is not related to finance or business topics. If you have any questions related to finance, business, or any relevant entities, I would be happy to help!\",\n",
       "       \"I'm sorry, but I can't find the answer to your query about Amitabh Bachchan's awards. My focus is on finance and business-related topics, and while I strive to provide up-to-date information in those areas, I don't have access to the comprehensive details on Bollywood award ceremonies. If you have any finance or business-related questions, feel free to ask.\",\n",
       "       \"I'm sorry, but your query about vegan chocolate cake does not match the financial and business focus of our platform. If you have any questions related to finance, business, or related entities, please feel free to ask!\",\n",
       "       \"I'm sorry, but I can't find the answer to your query about land rights within the provided articles. However, if you have any questions related to finance, business, markets, or economic policies, I'm here to provide information from our latest articles.\",\n",
       "       \"I'm sorry, but it seems like your query does not pertain to finance or business topics. Our focus at the financial and business platform is to provide answers strictly related to those areas. If you have any questions on such topics, please feel free to ask!\",\n",
       "       \"**Unrelated FMCG Update: Info on Godrej Consumer Not Bajaj**<br><br>📅 **Date**: Information on Godrej Consumer, not Bajaj Consumer Care<br><br>📈 **Growth**: Godrej Consumer expects mid-single digit volume growth in Q3<br><br>🌏 **International Performance**: Operational growth in Indonesia; challenges in Africa, US, Middle East, and LATAM<br><br>🏭 **Business Segmentation**: Broad-based growth in home care and personal care segments<br><br>💹 **Financials**: Revealed quarterly performance, might not be directly related to Bajaj Consumer Care<br><br>🤝 **Acquisition News**: Bajaj Finserv arm acquired healthcare services company, not related to consumer goods<br><br>I'm sorry, but I am not able to find the exact answer for Bajaj Consumer Care's consumer goods. However, the provided information is related to the FMCG sector and might be of interest.\",\n",
       "       \"I'm sorry, but I cannot assist with this query as it is not related to finance or business topics. If you have any questions regarding financial or business matters, feel free to ask!\",\n",
       "       \"I'm sorry, but as a financial and business platform, we focus on topics relevant to finance, business, and associated entities. We do not offer information on sports statistics or records. If you have any questions regarding finance or business, we'd be happy to assist you.\",\n",
       "       \"I'm sorry, but the articles provided do not contain specific information about Union Bank of India's banking services. However, the articles do mention insights into the share price and market analysis for Union Bank of India, which may indirectly indicate the market's perception of the bank's performance and services. If this information interests you, I can summarize those points.\",\n",
       "       \"**Query Response: Science and Technology Focus Outside Scope** <br><br>I'm sorry, but as the lead editor for a financial and business platform, my expertise is in fields pertaining to finance and business. While science and technology play a significant role in many industries, I'm only able to assist with inquiries that directly relate to financial and business aspects. If you have any questions regarding financial impacts, business strategies, or economic trends related to technological advancements, I'd be more than happy to help.\",\n",
       "       \"I'm sorry, but it seems your query falls outside the scope of our finance and business-focused content. If you have any questions pertaining to these areas, I'd be happy to assist you!\",\n",
       "       \"I'm sorry, but your query about cultural dance classes does not fall under the financial or business topics that our platform covers. If you have any questions related to finance, business, or related entities, please feel free to ask, and I'll be happy to help.\",\n",
       "       \"I'm sorry, but your query about refugee support does not fall under the categories of finance or business, which are the main focus of our platform. If you have any questions related to those areas, feel free to ask, and I'd be glad to assist you.\",\n",
       "       \"I'm sorry, but your query does not pertain to finance or business topics. If you have any questions related to these areas, feel free to ask, and I'd be happy to help!\",\n",
       "       \"I'm sorry, but as a financial and business platform editor, I don't have the expertise to address questions related to medical treatments as shown in the articles provided. My focus is strictly on finance, business, and related economic entities. If you have any questions within that scope, please feel free to ask!\",\n",
       "       \"**Comparative Analysis Not Found, But Related Insurance Insights Shared**<br><br>I'm sorry, but I couldn't find the exact comparative analysis of health insurance plans. Here's some related information that might interest you:<br><br>📈 **Growth Forecast**: India's insurance sector to grow by 7.1% annually during 2024-28. <br><br>🏥 **Health Premium Rise**: Health insurance premiums expected to increase by 9.7%.<br><br>🌐 **Global Comparison**: India's growth surpasses global insurance market average of 2.4%.<br><br>💳 **Tax Incentives Projection**: Healthcare sector anticipates tax breaks and PLI incentives in Budget 2024.<br><br>👩\\u200d🔬 **R&D Focus**: Expectations for extended tax rates to pharma R&D, alongside incentives for innovation.<br><br>With financial matters, it's crucial to conduct thorough personal research and consult a financial expert before making any decisions.\",\n",
       "       \"**Insights on Reliance Infrastructure's Performance Before February 2nd, 2024**<br><br>📈 **Closing Price on 1st Feb**: ₹231.7<br><br>📊 **Volume on 1st Feb**: 222,685 shares traded<br><br>🚀 **1st Feb High/Low**: ₹235/₹228.3<br><br>💼 **Market Capitalization**: ₹9,116.49 crore as of 1st Feb<br><br>📉 **52-Week Range**: ₹114.6 - ₹248.3<br><br>⏰ **Close Price on 29th Jan**: ₹213.3<br><br>I'm sorry, but I cannot provide the exact share price of Reliance on February 2nd, 2024, since my articles don't cover that specific date. However, the details above summarize the company's performance very close to your requested date. Please do additional thorough research and consider consulting a finance expert for the most up-to-date information.\",\n",
       "       'I\\'m sorry, but your query about \"herbal tea recipes\" does not pertain to finance or business topics. We focus on providing information on finance, business, and related entities. If you have any questions in these areas, feel free to ask!',\n",
       "       \"I'm sorry, but I can't find the answer to your question about creative writing workshops. It seems your query is not related to finance or business, which is the focus of this platform. If you have any questions on those subjects, feel free to ask, and I'd be glad to assist you.\",\n",
       "       \"I'm sorry, but as a financial and business platform, we cannot provide information on keto diet meals. Our focus is on delivering quality content related to finance, business, and associated entities. If you have any queries regarding these subjects, feel free to reach out.\",\n",
       "       'I\\'m sorry, but I can\\'t find the answer to your query about \"social entrepreneurship news today\" in the articles provided. However, I did find related information about financial policies and measures addressed in the Union Budget 2024 that may interest you.<br><br>**Union Budget 2024 and Its Impact on Various Sectors**<br><br>💼 **Women Empowerment**: Initiatives for inclusivity and skill training for women entrepreneurs. <br><br>🚀 **Startup Support**: Anticipated tax exemptions and policy support to foster startup growth.<br><br>🌱 **Fintech Growth**: Expectations for policies to facilitate Fintech ecosystem advancement.<br><br>👩\\u200d🌾 **Agriculture Inclusivity**: Emphasis on formalising and incentivising women’s labour in agriculture.<br><br>📈 **Tax Benefits**: Extension of tax benefits for startups and investments detailed in the budget.<br><br>🌟 **Youth and Innovation**: ₹1 lakh crore fund announced for long-term support of innovative startups.<br><br>Please note that for investment decisions, it\\'s recommended to conduct further research and possibly consult with a financial expert.',\n",
       "       \"I'm sorry, but your query about Sachin Tendulkar's records does not pertain to finance or business topics. If you have any questions related to these areas, feel free to ask!\",\n",
       "       \"I'm sorry, but your query seems to be about a chocolate cake recipe, which isn't related to finance or business topics that we cover. Our focus is on providing information on financial and business matters, so we aren't able to provide a response to your current question. If you have any questions related to finance or business, feel free to ask, and we'd be happy to help!\",\n",
       "       \"I'm sorry, but I'm unable to find an answer to your query about a triathlon training schedule as it doesn’t fall within the scope of finance or business-related topics. If you have any questions about financial or business matters, feel free to ask!\",\n",
       "       \"I'm sorry, but it appears that your query is about kabaddi defensive tactics, which is not within the scope of finance or business-related topics that we cover. Our focus is strictly on financial and business matters. If you have any questions related to those areas, feel free to ask!\",\n",
       "       \"I'm sorry, but your query does not pertain to finance or business. Our focus is strictly on those topics, so if you have any questions related to finance or business, feel free to ask!\",\n",
       "       \"I'm sorry, but I can't find the answer to your query about water resources.\",\n",
       "       \"I'm sorry, but it seems there was no specific user query provided in the information given. Could you please provide a financial or business-related query so that I can assist you with relevant information from the articles?\",\n",
       "       \"**Query Not Related to Finance or Business** <br><br>I'm sorry, but your query does not pertain to finance or business topics, which are the focus of our platform's content. If you have any questions within these realms, feel free to ask!\",\n",
       "       \"I'm sorry, but your query about music composition classes does not fall within the domain of finance or business topics that we cover. If you have any questions related to finance or business, feel free to ask and I'll be happy to help.\",\n",
       "       \"I'm sorry, but as a financial and business platform, we focus on providing insights and information on finance and business-related topics. We do not cover bollywood film reviews. If you have any questions related to finance, business, or relevant entities, feel free to ask, and we'd be happy to assist you.\",\n",
       "       \"I'm sorry, but as your request involves gaming and entertainment topics which are not related to finance and business, I'm unable to provide you with a response. My expertise lies strictly in financial and business content. If you have any queries related to finance or business, I would be more than happy to assist you.\",\n",
       "       \"I'm sorry, but as the lead editor for a financial and business platform, I am focused on providing content related to finance, business, and related entities. The query on cybersecurity is outside the purview of our specialized content. If you have any financial or business-related questions, feel free to ask, and I'd be glad to help.\",\n",
       "       \"I'm sorry, but it appears that your query is not related to finance or business. Our focus is on providing information and answering questions specifically in these areas. If you have a question related to finance, business, or entities like RBI, Reliance, or the Fed, feel free to ask, and I'll be happy to help.\",\n",
       "       'I\\'m sorry, but your query about \"yoga retreats in India\" doesn\\'t directly relate to the finance or business topics our platform specializes in. However, if you have any questions about finance, business, or specific entities within these domains, feel free to ask, and I would be happy to assist you!',\n",
       "       \"I'm sorry, but I'm unable to provide the information you're looking for as the query pertains to gymnastics, which is outside the scope of our finance and business-focused platform. If you have any questions related to finance or business, feel free to ask!\",\n",
       "       \"I'm sorry, but your query about digital detox strategies is not related to finance or business topics that we cover on our platform. We focus on providing expert content in fields like finance, business and economics. If you have any questions within those realms, feel free to ask!\",\n",
       "       \"I'm sorry, but your query about Saina Nehwal's training tips is not related to finance or business. Our focus is on providing information related to financial and business topics. If you have any questions within those areas, feel free to ask!\",\n",
       "       'I\\'m sorry, but your query about \"motivational sports quotes\" doesn\\'t fall within the areas of finance or business, which are the focus of our platform. If you have any questions related to these topics, please feel free to ask, and we\\'ll be happy to help!',\n",
       "       \"I'm sorry, but your query about personal development workshops doesn't fall within the scope of the finance and business topics covered by our platform. We're focused on providing information and answering questions related to finance, business, and economic entities. If you have any such queries, please feel free to ask, and we'll be glad to assist you.\",\n",
       "       'I\\'m sorry, but the query about \"badminton training drills\" falls outside the scope of finance and business topics we cover. If you have any questions regarding financial matters, businesses, or relevant entities, feel free to ask, and I\\'d be happy to assist!',\n",
       "       \"I'm sorry, but I can't find the answer to your question about skiing destinations in India. However, our articles do mention a few places known for skiing, such as Gulmarg, Auli, Manali, and Shimla. Is there something else finance or business-related that I can assist you with?\",\n",
       "       'I\\'m sorry, but it seems like your query about a \"ratatouille recipe\" is not related to finance, business, or any relevant entity that falls under my expertise. As the lead editor of a financial and business platform, I\\'m here to help with queries related to those areas. If you have any questions concerning finance or business, feel free to ask!',\n",
       "       \"I'm sorry, but as your query does not relate specifically to finance or business topics, I'm unable to provide an answer through this platform. Our focus is strictly on finance, business, and related entities. If you have any questions related to those areas, feel free to ask, and I'd be glad to help.\",\n",
       "       \"I'm sorry, but it seems your query is not related to finance or business directly. Our platform focuses on financial and business topics. If you have any questions in those areas, feel free to ask, and I'd be happy to help!\",\n",
       "       \"I'm sorry, but it seems your query about client relations doesn't match the content of the articles provided. The articles focus on beer industry trends, LiquidityBook's success and future plans, and Sedgwick's industry trends forecast, none of which address client relations directly. If you have any questions related to finance, business, or industry-specific trends as per the articles, I would be happy to assist with that information.\",\n",
       "       \"I'm sorry, but the user query you've provided is non-financial and non-business related. My focus is on providing information and advice related to finance, business, and entities like India, RBI, Reliance, Fed, etc. If you have any queries related to these topics, feel free to ask, and I'll be happy to help!\",\n",
       "       'I\\'m sorry, but it appears the query about \"digital detox strategies\" does not align with the finance and business focus of our platform. If you have any questions related to finance, business, or relevant entities, I\\'d be happy to assist you with that information. Thank you for understanding.',\n",
       "       \"I'm sorry, but it seems like you've posted a request related to travel advice, which does not fall within the scope of finance or business topics that I am equipped to handle. If you have any questions related to finance, business, or any relevant entities like India, RBI, Reliance, or the Federal Reserve, I would be more than happy to assist you. Please feel free to ask a question that aligns with these themes.\",\n",
       "       \"I'm sorry, but as the lead editor for a financial and business platform, I am unable to provide information unrelated to finance or business. If you have any questions within these fields, feel free to ask!\",\n",
       "       \"I'm sorry, but your query about a strawberry cheesecake recipe doesn't fall within the scope of finance or business topics that we cover. If you have any questions related to these areas, please feel free to ask.\",\n",
       "       'I\\'m sorry, but your query regarding \"environmental stewardship\" does not fall within the scope of finance and business topics that we handle. If you have any questions related to these areas, feel free to ask, and I\\'d be happy to assist you.',\n",
       "       'I\\'m sorry, but it looks like your query about \"diy beauty treatments\" does not relate to the finance or business topics that we specialize in. If you have any questions pertaining to financial or business matters, I would be happy to assist you!',\n",
       "       \"I'm sorry, but your query about motivation and inspiration does not fall within the scope of finance and business topics that we cover. Our focus is on providing insights and information related to finance and business entities. If you have any questions within these domains, feel free to ask!\",\n",
       "       \"**Query about arts and culture**<br><br>I'm sorry, but as the lead editor for a financial and business platform, my expertise is limited to finance and business topics. We do not cover arts and culture. If you have any questions related to finance, business, or relevant economic entities, feel free to ask!\",\n",
       "       \"I'm sorry, your query is about achievements and recognition which is not related to finance or business. Our platform is focused on financial and business content. If you have any queries within these areas, feel free to ask, and I'd be glad to assist you!\",\n",
       "       \"I'm sorry, but your query about music festival lineups does not fall within the realm of finance or business-related topics, which are the focus areas of our platform. If you have any questions related to finance, business, investments, economy, or related entities, feel free to ask, and we'd be glad to help.\",\n",
       "       \"I'm sorry, but the query you've provided is about Akshay Kumar's stunts, which falls outside the focus of our financial and business platform. We specialize in providing information related to finance, business, and economic entities. If you have any questions within these areas, feel free to ask and we'd be more than happy to assist you.\",\n",
       "       \"**Unable to Locate Exact Query Response, Providing Related Information**<br><br>I'm sorry, I can't find the exact answer to your query about academic research. However, I can share some related insights on career changes and job switch tendencies in India.<br><br>**📈 Professional trends**: 88% seek job changes in 2024.<br><br>**🔄 Industry shift**: 79% consider careers outside current fields.<br><br>**⚖️ Work-life balance**: 42% prioritize better equilibrium.<br><br>**💰 Wages**: 37% aim for higher salary prospects.<br><br>**💡 AI Assistance**: 81% view AI as a job hunt tool.<br><br>These points summarize findings from LinkedIn research discussed in article_1 from 17 January 2024. If you're looking for academic research on a specific topic, I would recommend reaching out to educational institutions or accessing academic journals for the most current and specialized data.\",\n",
       "       \"I'm sorry, but as a financial and business platform, we don't cover information about films or the entertainment industry unless it directly relates to financial investments or business analysis. If you have any questions regarding finance or business topics, please feel free to ask!\",\n",
       "       \"I'm sorry, but I cannot find the answer to your query about photography exhibitions as it does not fall within the finance and business categories that we cover. If you have any questions related to finance, business, or related entities, feel free to ask, and I'd be glad to help!\",\n",
       "       \"**Exploring the Current Unemployment Figures: A Brief Overview**<br><br>📈 **Growth Projection**: Indian economy to grow by 6.2% in 2024.<br><br>👷 **Employment Hike**: Employment situation in India has meaningfully improved.<br><br>🚀 **Robust Sectors**: Manufacturing and services sectors strongly propel economic growth.<br><br>👩\\u200d🌾 **Agricultural Concern**: Erratic rainfall could impact agricultural output.<br><br>💼 **Popular Sentiment**: 88% of Indian professionals contemplating job changes in 2024.<br><br>📉 **Tech Layoffs**: Over 23,000 tech employees laid off in early 2024.<br><br>I'm sorry but we don't have the latest unemployment data. However, the related information indicates significant changes in the job market and economic growth which might impact employment figures.\",\n",
       "       \"I'm sorry, but I can't find the specific information regarding KRBL's Basmati rice products in the articles provided. However, the articles do discuss the broader context of Basmati rice exports from Pakistan, which might be of interest considering the market dynamics of rice exports in the region. Here's a summary of the related information:<br><br>**India's Export Restrictions Boost Pakistan's Rice Trade** <br><br>🌾 **Export Increase**: Pakistan's rice exports projected to hit record high.<br><br>📈 **Production Surge**: Production could reach 9-9.5 million tons, aiding exports.<br><br>🏷️ **Price Hike**: Export prices significantly up from the previous year.<br><br>🌍 **Global Shift**: Pakistan benefits as buyers shift from India's market curbs.<br><br>💡 **Future Outlook**: Pakistan may have surplus for export next season.<br><br>💰 **Economic Impact**: Exports could fetch over $3 billion, boosting foreign reserves.<br><br>Please note that the situation could change after India reviews its export curbs post-elections in May. If you're looking for specific details about KRBL, I would recommend checking out their latest official releases or reports.\",\n",
       "       \"I'm sorry, but I can't find the answer to your query about youth leadership conferences. However, the articles provide insights into the Indian startup ecosystem and financial initiatives for youth, women, and farmers which might be relevant to your interest in leadership and growth opportunities.\",\n",
       "       \"I'm sorry, but the queries must be related to finance and business for me to provide an answer. If you have any questions within that scope, feel free to ask!\",\n",
       "       \"I'm sorry, but your question about Bollywood themed parties does not fall within the scope of finance or business-related topics that we cover. If you have any queries related to finance, business, or relevant entities like India, RBI, Reliance, Fed, etc., feel free to ask, and I'd be happy to help.\",\n",
       "       \"**Impact of Brexit on Indian Economy: Current Articles Provide No Direct Insight**<br><br>I'm sorry, I wasn't able to find the exact information on the impact of Brexit on the Indian economy in the provided articles. However, the articles did provide related information on India's upcoming budget and economic expectations:<br><br>📊 **Budget Predictions**: Interim Budget 2024 likely to focus on capex, moderate on eventfulness.<br><br>🏗️ **Infrastructure Push**: Continued emphasis on infrastructure expected.<br><br>🌾 **Agricultural Support**: Possible sops under PM Kisan for farmers anticipated.<br><br>📘 **Fiscal Strategy**: Government to adhere to fiscal consolidation path.<br><br>🌏 **Global Outlook**: Indian economy expected to remain one of the fastest-growing despite global headwinds.<br><br>💼 **Investment Advice**: While these insights are relevant, for specific advice on the impact of Brexit, further research and a consultation with an expert would be prudent.\",\n",
       "       \"I'm sorry, but your query about indie music artists falls outside the scope of our finance and business focus. If you have any questions related to finance, business, or economy, feel free to ask and I'd be happy to help!\",\n",
       "       \"I'm sorry, but your query about Bollywood trivia quizzes falls outside of the scope of finance and business-related topics that we focus on. If you have any questions on those subjects, I would be happy to help!\",\n",
       "       'I\\'m sorry, but the user query you provided is about \"technology trends,\" which does not fall within the financial or business domain specified for valid queries. As the lead editor for a financial and business platform, our focus is on addressing queries related to finance, business, or relevant entities like India, RBI, Reliance, Fed, etc. If you have any questions related to these areas, I would be glad to assist you.',\n",
       "       \"I'm sorry, but as the lead editor for a financial and business platform, I can't answer questions regarding John Abraham's action scenes or other entertainment industry content. My focus is strictly on finance, business, and related entities. If you have any questions in those areas, feel free to ask and I'd be glad to help!\",\n",
       "       \"I'm sorry, but I am unable to locate information specifically related to urban planning in the articles provided. However, I found related information concerning the real estate sector's growth and government initiatives such as 'Housing for All' that could be indirectly linked to urban development.<br><br>**Related Information on Real Estate Growth and Government Housing Initiatives**<br><br>🔍 **Urban growth**: India's urban population surge boosts demand for real estate.<br><br>🏗️ **Infrastructure focus**: Budget 2024 likely to continue emphasis on infrastructure, including urban areas.<br><br>🏘️ **'Housing for All' vision**: Initiative expected to stimulate supply and demand for housing.<br><br>🏢 **Rental demand**: Post-pandemic, significant increase in housing rents in major cities.<br><br>📈 **Property price rise**: Metros witnessing notable property price growth since 2019.<br><br>📊 **Price-to-rent ratio**: India’s rental yields compared with global cities, useful for evaluating affordability.\",\n",
       "       \"I'm sorry, but I can't find the answer to your query about a recipe for spicy chicken wings. This platform focuses on financial and business topics. If you have any questions in those areas, feel free to ask!\"],\n",
       "      dtype=object)"
      ]
     },
     "execution_count": 21,
     "metadata": {},
     "output_type": "execute_result"
    }
   ],
   "source": [
    "all_responses[all_responses.is_sorry == True].modified_response.values"
   ]
  },
  {
   "cell_type": "code",
   "execution_count": 22,
   "id": "99a04b0a-31a3-450e-a890-b0829c5645cd",
   "metadata": {
    "tags": []
   },
   "outputs": [],
   "source": [
    "all_responses['system_prompt'] = all_responses['system_prompt'].apply(lambda x: x.replace('website','platform'))"
   ]
  },
  {
   "cell_type": "code",
   "execution_count": 23,
   "id": "b7210ed7-7d70-45fc-abb9-22209a5e248a",
   "metadata": {
    "tags": []
   },
   "outputs": [],
   "source": [
    "def format_as_prompt_response(response_row):\n",
    "    messages = [{\"role\": \"system\", \"content\": response_row['system_prompt']},\n",
    "                {\"role\": \"user\", \"content\": response_row['user_prompt']}]\n",
    "    context_prompt = tokenizer.decode(tokenizer.apply_chat_template(messages, add_generation_prompt=True))\n",
    "    prompt = context_prompt + response_row['modified_response']\n",
    "    prompt = re.sub(r'\\n+','\\n',prompt)\n",
    "    return prompt"
   ]
  },
  {
   "cell_type": "code",
   "execution_count": 28,
   "id": "7a62a5c9-7fad-423c-b607-666ac04b8a3b",
   "metadata": {
    "tags": []
   },
   "outputs": [],
   "source": [
    "all_responses = all_responses.rename(columns = {1: 'index',2:'query',3:'query_date',4:'article_ids',5: 'gpt_prompt'})"
   ]
  },
  {
   "cell_type": "code",
   "execution_count": 29,
   "id": "fbb91d53-ff51-47a3-9277-9a9d7a87d2fd",
   "metadata": {
    "scrolled": true,
    "tags": []
   },
   "outputs": [
    {
     "data": {
      "text/html": [
       "<div>\n",
       "<style scoped>\n",
       "    .dataframe tbody tr th:only-of-type {\n",
       "        vertical-align: middle;\n",
       "    }\n",
       "\n",
       "    .dataframe tbody tr th {\n",
       "        vertical-align: top;\n",
       "    }\n",
       "\n",
       "    .dataframe thead th {\n",
       "        text-align: right;\n",
       "    }\n",
       "</style>\n",
       "<table border=\"1\" class=\"dataframe\">\n",
       "  <thead>\n",
       "    <tr style=\"text-align: right;\">\n",
       "      <th></th>\n",
       "      <th>0</th>\n",
       "      <th>index</th>\n",
       "      <th>query</th>\n",
       "      <th>query_date</th>\n",
       "      <th>article_ids</th>\n",
       "      <th>gpt_prompt</th>\n",
       "      <th>response</th>\n",
       "      <th>system_prompt</th>\n",
       "      <th>user_prompt</th>\n",
       "      <th>modified_response</th>\n",
       "      <th>has_our_site</th>\n",
       "      <th>is_sorry</th>\n",
       "    </tr>\n",
       "  </thead>\n",
       "  <tbody>\n",
       "    <tr>\n",
       "      <th>0</th>\n",
       "      <td>0</td>\n",
       "      <td>4</td>\n",
       "      <td>social media influencers</td>\n",
       "      <td>16/02/24</td>\n",
       "      <td>['65a7c2a01c9bc64bb8ae4a12', '65a7b6f11c9bc64b...</td>\n",
       "      <td>You're the lead editor for a financial and bus...</td>\n",
       "      <td>I'm sorry, but the queries you've provided rel...</td>\n",
       "      <td>You're the lead editor for a financial and bus...</td>\n",
       "      <td>|| user_query: social media influencers || tod...</td>\n",
       "      <td>I'm sorry, but the queries you've provided rel...</td>\n",
       "      <td>True</td>\n",
       "      <td>True</td>\n",
       "    </tr>\n",
       "    <tr>\n",
       "      <th>1</th>\n",
       "      <td>0</td>\n",
       "      <td>5</td>\n",
       "      <td>kotak mahindra bank's banking and financial se...</td>\n",
       "      <td>23/12/23</td>\n",
       "      <td>['65a662593c864051fa47ec9e', '65a9e5d56391ac19...</td>\n",
       "      <td>You're the lead editor for a financial and bus...</td>\n",
       "      <td>**Kotak Mahindra Bank Navigates Funding and Gr...</td>\n",
       "      <td>You're the lead editor for a financial and bus...</td>\n",
       "      <td>|| user_query: kotak mahindra bank's banking a...</td>\n",
       "      <td>**Kotak Mahindra Bank Navigates Funding and Gr...</td>\n",
       "      <td>False</td>\n",
       "      <td>False</td>\n",
       "    </tr>\n",
       "    <tr>\n",
       "      <th>2</th>\n",
       "      <td>0</td>\n",
       "      <td>1</td>\n",
       "      <td>security token offerings news</td>\n",
       "      <td>05/02/24</td>\n",
       "      <td>['65b320421b79671c6b70cca2', '65a91cba6391ac19...</td>\n",
       "      <td>You're the lead editor for a financial and bus...</td>\n",
       "      <td>**Exploring Recent Security Token Offerings an...</td>\n",
       "      <td>You're the lead editor for a financial and bus...</td>\n",
       "      <td>|| user_query: security token offerings news |...</td>\n",
       "      <td>**Exploring Recent Security Token Offerings an...</td>\n",
       "      <td>False</td>\n",
       "      <td>False</td>\n",
       "    </tr>\n",
       "    <tr>\n",
       "      <th>3</th>\n",
       "      <td>0</td>\n",
       "      <td>7</td>\n",
       "      <td>rock climbing basics</td>\n",
       "      <td>28/12/23</td>\n",
       "      <td>['65bb79c3f3aa2a77a58bfe62', '65bb79cef3aa2a77...</td>\n",
       "      <td>You're the lead editor for a financial and bus...</td>\n",
       "      <td>**Understanding the Impact of Budget 2024 on I...</td>\n",
       "      <td>You're the lead editor for a financial and bus...</td>\n",
       "      <td>|| user_query: rock climbing basics || today d...</td>\n",
       "      <td>**Understanding the Impact of Budget 2024 on I...</td>\n",
       "      <td>False</td>\n",
       "      <td>False</td>\n",
       "    </tr>\n",
       "    <tr>\n",
       "      <th>4</th>\n",
       "      <td>0</td>\n",
       "      <td>2</td>\n",
       "      <td>gold investment</td>\n",
       "      <td>01/01/24</td>\n",
       "      <td>['65bb096df3aa2a77a58bfb1a', '65a896681c9bc64b...</td>\n",
       "      <td>You're the lead editor for a financial and bus...</td>\n",
       "      <td>**Gold Investment Outlook for 2024 Shows Promi...</td>\n",
       "      <td>You're the lead editor for a financial and bus...</td>\n",
       "      <td>|| user_query: gold investment || today date: ...</td>\n",
       "      <td>**Gold Investment Outlook for 2024 Shows Promi...</td>\n",
       "      <td>False</td>\n",
       "      <td>False</td>\n",
       "    </tr>\n",
       "    <tr>\n",
       "      <th>5</th>\n",
       "      <td>0</td>\n",
       "      <td>0</td>\n",
       "      <td>regulatory frameworks</td>\n",
       "      <td>27/01/24</td>\n",
       "      <td>['65b9b7d4f3aa2a77a58bf57f', '65b4aa001b79671c...</td>\n",
       "      <td>You're the lead editor for a financial and bus...</td>\n",
       "      <td>**Decoding Regulatory Frameworks: Data Protect...</td>\n",
       "      <td>You're the lead editor for a financial and bus...</td>\n",
       "      <td>|| user_query: regulatory frameworks || today ...</td>\n",
       "      <td>**Decoding Regulatory Frameworks: Data Protect...</td>\n",
       "      <td>False</td>\n",
       "      <td>False</td>\n",
       "    </tr>\n",
       "    <tr>\n",
       "      <th>6</th>\n",
       "      <td>0</td>\n",
       "      <td>9</td>\n",
       "      <td>bcci</td>\n",
       "      <td>18/01/24</td>\n",
       "      <td>['65a894451c9bc64bb8ae4ac6', '659e08404b25ce48...</td>\n",
       "      <td>You're the lead editor for a financial and bus...</td>\n",
       "      <td>**BCCI Secures New Partnerships Amid Continued...</td>\n",
       "      <td>You're the lead editor for a financial and bus...</td>\n",
       "      <td>|| user_query: bcci || today date: 18 January ...</td>\n",
       "      <td>**BCCI Secures New Partnerships Amid Continued...</td>\n",
       "      <td>False</td>\n",
       "      <td>False</td>\n",
       "    </tr>\n",
       "    <tr>\n",
       "      <th>7</th>\n",
       "      <td>0</td>\n",
       "      <td>8</td>\n",
       "      <td>securities lending news today</td>\n",
       "      <td>25/01/24</td>\n",
       "      <td>['65b23f561b79671c6b70cc68', '65b320421b79671c...</td>\n",
       "      <td>You're the lead editor for a financial and bus...</td>\n",
       "      <td>**Today's Update: Securities Lending News and ...</td>\n",
       "      <td>You're the lead editor for a financial and bus...</td>\n",
       "      <td>|| user_query: securities lending news today |...</td>\n",
       "      <td>**Today's Update: Securities Lending News and ...</td>\n",
       "      <td>False</td>\n",
       "      <td>False</td>\n",
       "    </tr>\n",
       "    <tr>\n",
       "      <th>8</th>\n",
       "      <td>0</td>\n",
       "      <td>6</td>\n",
       "      <td>sbi life insurance stock analysis</td>\n",
       "      <td>25/01/24</td>\n",
       "      <td>['65b866521b79671c6b70d663', '65b9f00cf3aa2a77...</td>\n",
       "      <td>You're the lead editor for a financial and bus...</td>\n",
       "      <td>**Consistent Buy Ratings for SBI Life Insuranc...</td>\n",
       "      <td>You're the lead editor for a financial and bus...</td>\n",
       "      <td>|| user_query: sbi life insurance stock analys...</td>\n",
       "      <td>**Consistent Buy Ratings for SBI Life Insuranc...</td>\n",
       "      <td>False</td>\n",
       "      <td>False</td>\n",
       "    </tr>\n",
       "    <tr>\n",
       "      <th>9</th>\n",
       "      <td>0</td>\n",
       "      <td>3</td>\n",
       "      <td>pension fund returns today</td>\n",
       "      <td>14/02/24</td>\n",
       "      <td>['65adda576391ac19baa871d6', '65bc5b59f3aa2a77...</td>\n",
       "      <td>You're the lead editor for a financial and bus...</td>\n",
       "      <td>**National Pension System Corpus Growth and Ta...</td>\n",
       "      <td>You're the lead editor for a financial and bus...</td>\n",
       "      <td>|| user_query: pension fund returns today || t...</td>\n",
       "      <td>**National Pension System Corpus Growth and Ta...</td>\n",
       "      <td>False</td>\n",
       "      <td>False</td>\n",
       "    </tr>\n",
       "  </tbody>\n",
       "</table>\n",
       "</div>"
      ],
      "text/plain": [
       "   0  index                                              query query_date  \\\n",
       "0  0      4                           social media influencers   16/02/24   \n",
       "1  0      5  kotak mahindra bank's banking and financial se...   23/12/23   \n",
       "2  0      1                      security token offerings news   05/02/24   \n",
       "3  0      7                               rock climbing basics   28/12/23   \n",
       "4  0      2                                    gold investment   01/01/24   \n",
       "5  0      0                              regulatory frameworks   27/01/24   \n",
       "6  0      9                                               bcci   18/01/24   \n",
       "7  0      8                      securities lending news today   25/01/24   \n",
       "8  0      6                  sbi life insurance stock analysis   25/01/24   \n",
       "9  0      3                         pension fund returns today   14/02/24   \n",
       "\n",
       "                                         article_ids  \\\n",
       "0  ['65a7c2a01c9bc64bb8ae4a12', '65a7b6f11c9bc64b...   \n",
       "1  ['65a662593c864051fa47ec9e', '65a9e5d56391ac19...   \n",
       "2  ['65b320421b79671c6b70cca2', '65a91cba6391ac19...   \n",
       "3  ['65bb79c3f3aa2a77a58bfe62', '65bb79cef3aa2a77...   \n",
       "4  ['65bb096df3aa2a77a58bfb1a', '65a896681c9bc64b...   \n",
       "5  ['65b9b7d4f3aa2a77a58bf57f', '65b4aa001b79671c...   \n",
       "6  ['65a894451c9bc64bb8ae4ac6', '659e08404b25ce48...   \n",
       "7  ['65b23f561b79671c6b70cc68', '65b320421b79671c...   \n",
       "8  ['65b866521b79671c6b70d663', '65b9f00cf3aa2a77...   \n",
       "9  ['65adda576391ac19baa871d6', '65bc5b59f3aa2a77...   \n",
       "\n",
       "                                          gpt_prompt  \\\n",
       "0  You're the lead editor for a financial and bus...   \n",
       "1  You're the lead editor for a financial and bus...   \n",
       "2  You're the lead editor for a financial and bus...   \n",
       "3  You're the lead editor for a financial and bus...   \n",
       "4  You're the lead editor for a financial and bus...   \n",
       "5  You're the lead editor for a financial and bus...   \n",
       "6  You're the lead editor for a financial and bus...   \n",
       "7  You're the lead editor for a financial and bus...   \n",
       "8  You're the lead editor for a financial and bus...   \n",
       "9  You're the lead editor for a financial and bus...   \n",
       "\n",
       "                                            response  \\\n",
       "0  I'm sorry, but the queries you've provided rel...   \n",
       "1  **Kotak Mahindra Bank Navigates Funding and Gr...   \n",
       "2  **Exploring Recent Security Token Offerings an...   \n",
       "3  **Understanding the Impact of Budget 2024 on I...   \n",
       "4  **Gold Investment Outlook for 2024 Shows Promi...   \n",
       "5  **Decoding Regulatory Frameworks: Data Protect...   \n",
       "6  **BCCI Secures New Partnerships Amid Continued...   \n",
       "7  **Today's Update: Securities Lending News and ...   \n",
       "8  **Consistent Buy Ratings for SBI Life Insuranc...   \n",
       "9  **National Pension System Corpus Growth and Ta...   \n",
       "\n",
       "                                       system_prompt  \\\n",
       "0  You're the lead editor for a financial and bus...   \n",
       "1  You're the lead editor for a financial and bus...   \n",
       "2  You're the lead editor for a financial and bus...   \n",
       "3  You're the lead editor for a financial and bus...   \n",
       "4  You're the lead editor for a financial and bus...   \n",
       "5  You're the lead editor for a financial and bus...   \n",
       "6  You're the lead editor for a financial and bus...   \n",
       "7  You're the lead editor for a financial and bus...   \n",
       "8  You're the lead editor for a financial and bus...   \n",
       "9  You're the lead editor for a financial and bus...   \n",
       "\n",
       "                                         user_prompt  \\\n",
       "0  || user_query: social media influencers || tod...   \n",
       "1  || user_query: kotak mahindra bank's banking a...   \n",
       "2  || user_query: security token offerings news |...   \n",
       "3  || user_query: rock climbing basics || today d...   \n",
       "4  || user_query: gold investment || today date: ...   \n",
       "5  || user_query: regulatory frameworks || today ...   \n",
       "6  || user_query: bcci || today date: 18 January ...   \n",
       "7  || user_query: securities lending news today |...   \n",
       "8  || user_query: sbi life insurance stock analys...   \n",
       "9  || user_query: pension fund returns today || t...   \n",
       "\n",
       "                                   modified_response  has_our_site  is_sorry  \n",
       "0  I'm sorry, but the queries you've provided rel...          True      True  \n",
       "1  **Kotak Mahindra Bank Navigates Funding and Gr...         False     False  \n",
       "2  **Exploring Recent Security Token Offerings an...         False     False  \n",
       "3  **Understanding the Impact of Budget 2024 on I...         False     False  \n",
       "4  **Gold Investment Outlook for 2024 Shows Promi...         False     False  \n",
       "5  **Decoding Regulatory Frameworks: Data Protect...         False     False  \n",
       "6  **BCCI Secures New Partnerships Amid Continued...         False     False  \n",
       "7  **Today's Update: Securities Lending News and ...         False     False  \n",
       "8  **Consistent Buy Ratings for SBI Life Insuranc...         False     False  \n",
       "9  **National Pension System Corpus Growth and Ta...         False     False  "
      ]
     },
     "execution_count": 29,
     "metadata": {},
     "output_type": "execute_result"
    }
   ],
   "source": [
    "all_responses.head(10)"
   ]
  },
  {
   "cell_type": "code",
   "execution_count": 30,
   "id": "a5af69cc-e881-490b-b39a-c33d164d4f23",
   "metadata": {
    "tags": []
   },
   "outputs": [],
   "source": [
    "all_responses.to_csv('cleaned_gpt_responses-6-feb.csv',index=False)"
   ]
  },
  {
   "cell_type": "code",
   "execution_count": 31,
   "id": "5836df49-b8a8-400a-8ba4-6b2ffc95ba90",
   "metadata": {
    "scrolled": true,
    "tags": []
   },
   "outputs": [
    {
     "data": {
      "text/plain": [
       "array([\"**Understanding FPI Trends: 2023 Highlights and 2024 Outlook**<br><br>📈 **Record inflows**: FPIs bought Indian equities worth ₹1.65 lakh crore in 2023.<br><br>🔁 **Buying & Selling cycles**: Net sellers in January, February, September, and October; strong buyers between March-August and December.<br><br>🏦 **Debt market attraction**: In 2023, FPIs were net buyers in Indian debt for the first time in 4 years.<br><br>📊 **Debt vs Equity**: Notable ₹19,800 crore injected into Indian bonds in January 2024 amid equity withdrawals.<br><br>💹 **Equity market outlook**: Positive buying expected in 2024 due to anticipated rate cuts in the US.<br><br>🌐 **Global factors**: US bond yields impact and India’s inclusion in JP Morgan's index slated for mid-2024 could influence FPI trends. <br><br>Please note, it's imperative for investors to conduct their own rigorous research and consider consulting a financial expert before making investment decisions.\",\n",
       "       '**Global Concerns: Extreme Weather and Economic Challenges Loom Large**<br><br>📅 **Date**: Information from articles published on 10th and 17th January 2024.<br><br>🌐 **Global Risks Report**: Extreme weather is the top long-term concern per the World Economic Forum.<br><br>💼 **Economic Predictions**: Over 60 chief economists expect a weaker economy and heightened geopolitical tensions in 2024.<br><br>🔮 **Risk Perception**: Majority of risk experts express pessimism for the next decade, anticipating global catastrophes.<br><br>🌿 **Focus on AI**: About three-quarters of economists foresee AI spurring innovation in advanced economies.<br><br>🏦 **Central Bank Actions**: Predictions of central banks, like the Fed, lowering interest rates in 2024 due to economic conditions.<br><br>Remember, this information should not be taken as investment advice, and it is critical to conduct thorough research and consult with a financial expert before making any investment decisions.',\n",
       "       '**Reliance Trading Volume Fluctuation in January 2024**<br><br>📈 **Highest Volume**: 2,411,115 shares on January 26, 2024<br><br>📊 **Recent Volume**: 458,001 shares on January 11, 2024<br><br>🔽 **Lowest Volume**: 107,501 shares on January 4, 2024<br><br>📉 **Closing Prices**: ₹2,610.9 on Jan 4, ₹2,580.6 on Jan 11, ₹2,688.7 on Jan 26<br><br>💹 **52-Week High/Low**: ₹2,792.65 high, ₹1,987.33 low<br><br>💰 **Market Cap Range**: ₹1,747,541.85 crore to ₹1,833,737.9 crore<br><br>Please remember that investments in the stock market are subject to market risks, and it is always recommended to do thorough research and consult a financial expert before making any investment decisions.',\n",
       "       \"**Understanding the Financial Implications of AI on HR and Video Content Creation**<br><br>💼 **HR Trends**: Focus on DEI, AI integrations, and Gen Z influence in workplaces.<br><br>🎥 **Video Content Evolution**: AI is revolutionizing video content quality and affordability.<br><br>💡 **Startup Future**: India's startup environment is poised for growth with potential unicorns.<br><br>📈 **Economic Outlook**: WEF forecasts India as third-largest economy in upcoming years.<br><br>🚀 **Emerging Sectors**: AI, VR/AR, cybersecurity, fintech, and spacetech among key growth areas.<br><br>📘 **Related Information**: While not directly answering about unicorns in 2024, articles discuss key factors influencing the startup ecosystem.<br><br>Please note that while this information is helpful, further research and expert advice should be considered for investment decisions.\",\n",
       "       \"**Today's Corporate Dividend Announcements**<br><br>💼 **Company News**: Several big names to declare Q3 results on January 30.<br><br>🗓 **Recent Dividends**: Persistent Systems, Gothi Plascon, and Siemens declare dividends.<br><br>📊 **Market Movement**: Nifty50 and Sensex surge a day before results.<br><br>🔔 **Dividend Details**: Persistent Systems' interim; Siemens' final; Gothi Plascon India's interim.<br><br>🆙 **Buyback and Splits**: Rajoo Engineers' share buyback; Growington Ventures' stock split.<br><br>🚨 **Investor Advisory**: Ensure eligibility! Check record dates: Jan 30 for dividends, Jan 31 for others.<br><br>As an investor, make sure to do additional thorough research and consult a financial expert before making investment decisions.\",\n",
       "       '**Latest Share Prices for Major Indian Companies**<br><br>📈 **Titan Close Price**: ₹3697.4 on 02 Feb 2024<br><br>📊 **SBI Close Price**: ₹640.65 on 02 Feb 2024<br><br>💹 **Infosys Close Price**: ₹1662.1 on 02 Feb 2024<br><br>💰 **Market Cap Info**: Titan ₹321,911.26 Cr, SBI ₹578,180.21 Cr, Infosys ₹685,587.08 Cr<br><br>📉 **52-week High/Low**: Titan ₹3885/₹2268.9, SBI ₹660.4/₹499.35, Infosys ₹1689.9/₹1215.45<br><br>🧮 **Volume Data**: Titan 26,843 shares, SBI 1,546,194 shares, Infosys 144,315 shares<br><br>Please conduct additional thorough research and consult an expert before making any investment decisions.',\n",
       "       '**Kotak Bank Share Price Updates as of 29th January 2024**<br><br>📈 **Opening Price**: ₹1787.75<br><br>📉 **Closing Price**: ₹1789<br><br>🔝 **52-Week High**: ₹2063<br><br>🔻 **52-Week Low**: ₹1644.2<br><br>📊 **Market Cap**: ₹351,277.79 crore<br><br>📉 **Volume**: 323,299 shares traded on BSE',\n",
       "       \"**Indian AI Startup Krutrim Set to Challenge Global Giants**<br><br>🏢 **Company Spotlight**: Bhavish Aggarwal-founded Krutrim is India's highest-valued AI startup.<br><br>🌐 **Global Ambition**: Krutrim aims to challenge OpenAI, Google, and Meta in the GenAI space.<br><br>💡 **Innovative Solutions**: Krutrim's AI can process 22 Indian languages, signaling a significant tech advancement.<br><br>🛠️ **Infrastructure Goals**: Plans to develop cloud infrastructure, silicon chips, and possibly supercomputers.<br><br>🗓️ **Impending Launch**: Krutrim gearing up for its public debut next month.<br><br>📈 **Investor Confidence**: Marked by rapid development and strong investor interest.<br><br>\",\n",
       "       '**Trends Shaping Workforce Development in 2024**<br><br>🗓 **Date context**: Info based on late 2023 and Jan 2024 articles<br><br>📈 **Shorter weeks**: Surge in 4-day week interest and trials showing success<br><br>🧠 **Mental health focus**: Increased worker demand for mental health support<br><br>🤖 **AI integration**: Growing emphasis on AI skills in the workforce<br><br>🌱 **Sustainability**: Rise in eco-friendly initiatives and green skills demand<br><br>🏢 **Hybrid work persists**: LinkedIn data suggests continued hybrid work trend<br><br>🌟 **DEI prioritized**: Strong focus on diversity, equity, and inclusion in hiring practices<br><br>',\n",
       "       \"**Indian Brands Emerge as Strong Competitors in Global 500 Rankings**<br><br>🏆 **Global Standouts**: Jio and SBI rank as 17th and 24th strongest global brands.<br><br>📈 **Tata's Leap**: Tata rises 5 ranks with a 38% increase in brand value.<br><br>✨ **Infosys' Growth**: Infosys sees 9.2% brand value growth, ranks 98th globally.<br><br>🔝 **Leader in IT**: TCS positioned as the second most valuable IT services brand.<br><br>🚀 **HCL's Rise**: HCLTech becomes fastest-growing brand in top 10 IT services.<br><br>💼 **Business Impact**: Indian brands show significant impact in global markets.<br><br>If considering potential investments, thorough research and consultation with a financial expert is advised.\",\n",
       "       '**Understanding Recent Flash Crashes in the Market**<br><br>I apologize, but I cannot find specific information regarding flash crashes in the articles provided. However, I can offer some related insights based on recent market performance and factors influencing investor sentiment.<br><br>📉 **Market Movement**: Indian markets experienced sharp declines with Sensex and Nifty falling significantly.<br><br>📊 **Investor Behavior**: FPIs turned net sellers in Indian equities due to a rise in US bond yields.<br><br>🏦 **Financial Trends**: A strong 2023 for markets with high retail participation, despite high-interest rates and fears of a recession.<br><br>⚖️ **Regulatory Insights**: SEBI data suggests a high level of retail investor participation in derivatives trading, which is riskier than the cash segment.<br><br>📈 **Economic Outlook**: Indian economy expected to grow over 7%, but global factors and geopolitical tensions could bring volatility.<br><br>Please note that nuances of flash crashes involve complex market mechanisms not covered explicitly in the articles. It is advisable to conduct more thorough research and consult a financial expert for an in-depth understanding of flash crashes.',\n",
       "       \"**HCL Tech Share Price Summary for 28 December 2023**<br><br>📈 **Current Price**: ₹1478.4 with a 0.46% increase<br><br>🏦 **Market Cap**: ₹399,967.1 crore<br><br>📊 **Day's Trading**: Opened at ₹1471.7, closed at ₹1471.6<br><br>🔝 **52-week Range**: High of ₹1509.25, low of ₹1016.45<br><br>🔔 **Bid & Offer**: Bid price at ₹1479.1, offer price at ₹1479.9<br><br>📈 **Technical Analysis**: Short and long-term trends are bullish<br><br>\",\n",
       "       '**Current Status and Outlook on Bitcoin Prices**<br><br>📉 **Price Drop**: Bitcoin fell 5.1% to $42,689 on Jan 3, 2024.<br><br>📈 **Recent High**: Touched a high of $45,922 on Jan 2, 2024.<br><br>🚀 **2023 Rally**: Saw a 157% increase in 2023.<br><br>⚖️ **ETF Expectation**: Investor confidence possibly buoyed by Bitcoin ETF anticipation.<br><br>📅 **Halving Event**: Upcoming Bitcoin halving in 2024 could impact prices.<br><br>✨ **Crypto Market**: Bullish sentiment extends to other cryptocurrencies like Ethereum and Solana.<br><br>Keep in mind that markets are volatile, and past performance is not indicative of future results. Always do additional thorough research and consult a financial expert before making investment decisions.',\n",
       "       \"**Understanding Regulatory Compliance in License Management and Digital Lending**<br><br>🔍 **Key Focus**: Regulatory compliance key in license and digital lending markets<br><br>🌐 **Hybrid and AI Integration**: License Management Market evolves with AI and hybrid models<br><br>🏛 **Compliance and Optimization**: License systems aim for cost-efficiency and adherence to laws<br><br>📈 **Market Growth**: Digital lending in India set to expand significantly by 2030<br><br>🛡 **Consumer Data Protection**: India's DPDPA focuses on data security in the digital arena<br><br>💡 **Decision-Making Insight**: Comprehensive reports aid strategic initiatives in licensing and CSR<br><br>Please conduct thorough research and consult an expert when considering the implications of these insights on investments or business decisions.\",\n",
       "       '**Exploring the Shift in India’s Consumer Services and Global CCaaS Trends**<br><br>📈 **Rising Costs**: Consumer services in India expected to become costlier in 2024.<br><br>🛒 **Platform Expansion**: Quick commerce platforms eyeing expansion into new ecommerce categories.<br><br>🔋 **EV Push**: Greater emphasis on electric vehicles in mobility services.<br><br>📊 **Profit Focus**: Companies prioritizing profitability over rapid user base growth.<br><br>🚀 **Start-up Growth**: Notable revenue increase for startups like Zepto; challenges for others like Dunzo.<br><br>💡 **Tech Integration**: CCaaS market likely to witness significant growth with advancements in technology and AI.<br><br>For investment-related decisions, always ensure to perform additional thorough research and consult a financial expert.',\n",
       "       \"**Eurofins Share Buyback Details and Mon courtier énergie's Financial Calendar**<br><br>📅 **Transaction Date**: Eurofins share buyback occurred on 12th January 2024<br><br>💶 **Average Price**: Shares were purchased at an average price of around 57 EUR<br><br>🔍 **Purpose**: Transactions executed under MAR Regulation Art 5 §2<br><br>📈 **Financial Calendar**: Mon courtier énergie groupe announces key 2024 financial dates<br><br>🏢 **Company Growth**: Major player in energy brokerage, plans for continued B2B market leadership<br><br>💡 **About Article 2**: Unfortunately, no direct news on algorithmic trading found, but AI impact on tech stocks highlighted<br><br>Please note that I do not have an article that directly answers your query about algorithmic trading news today. However, recent financial and technological advancements, such as the use of AI in various sectors, may be indirectly relevant to algorithmic trading trends. Remember to conduct thorough research and consult an expert for investment advice.\",\n",
       "       \"**Innovation and Design Thinking Workshops for Indian Entrepreneurs**<br><br>🚀 **Focus on Indian Entrepreneurship**: FounderX to spark innovation and startup growth in 2024.<br><br>🛠️ **Structured Approach**: Aspiring founders learn essential startup skills from India's top talents.<br><br>🗣️ **Mentorship Availability**: Access to industry experts for guidance on building sustainable startups.<br><br>💡 **Market Validation**: Emphasis on testing and validating ideas in the -1 to 0 entrepreneurship stage.<br><br>🎓 **National Startup Day Support**: Government-backed events promoting innovation and entrepreneur skill development. <br><br>📈 **Economic Growth**: Union Budget 2024 highlights the need for innovation to progress India's economic development.<br><br>Investment in financial and business knowledge is crucial before acting on any guidance. Consulting with a financial expert is also recommended.\",\n",
       "       '**Understanding Income Disparity Trends in India**<br><br>💼 **Income bracket shifts**: Income tax returns from Rs 5-10 lakh bracket increased 295% from FY14 to FY22.<br><br>🚀 **Upward mobility**: Considerable movement observed from the lowest tax income group to higher brackets.<br><br>🙋\\u200d♀️ **Women taxpayers**: Certain states show around 15% of tax filers are women, indicating gender participation variation.<br><br>📊 **Taxpayer growth**: From AY22 to AY23, tax filers increased to 74 million and expected to reach 85 million by AY24.<br><br>🌱 **MSME progression**: A significant percentage of micro firms transitioned to small, medium, and large firms.<br><br>Please note that this data is from January 2024 and the numbers may have shifted since then. For investment decisions, it is crucial to conduct further research and consult a financial expert.',\n",
       "       \"**Understanding Anti-Money Laundering (AML) Solutions Today**<br><br>⚠️ **Apology**: I can't find information explicitly about current AML solutions.<br><br>**Related**: Orphan Drug Designation was granted to PTX-252 on Jan 16, 2024, but this is related to treatment for Acute Myeloid Leukaemia (AML), not anti-money laundering solutions.<br><br>**Market News**: Articles available discuss share prices of Cholamandalam Investment and Q3 results of companies like Yes Bank.<br><br>**Clarification**: AML in healthcare context is different from anti-money laundering.\",\n",
       "       \"**Understanding the Business and Finance Queries**<br><br>1. **Query strictly related to finance, business or entities like India, RBI, Reliance, Fed etc**: Please submit your question and any specific details you'd like me to consider.<br><br>2. **Query partially relates to the above but includes non-relevant details**: Kindly refine your question to focus on finance or business aspects so I can provide you with the most accurate information.<br><br>3. **Query doesn’t relate to finance or business at all**: It appears your question might be outside the realm of finance and business. While I'm knowledgeable in those areas, I may not be the best resource for this particular query.<br><br>4. **Query contains inappropriate content**: I strive to maintain a professional environment and cannot address this content. Let's keep our queries focused on finance and business-related topics.<br><br>Thank you for your understanding.\"],\n",
       "      dtype=object)"
      ]
     },
     "execution_count": 31,
     "metadata": {},
     "output_type": "execute_result"
    }
   ],
   "source": [
    "all_responses.sample(20).modified_response.values"
   ]
  },
  {
   "cell_type": "code",
   "execution_count": 32,
   "id": "1120da41-d60a-4163-a483-032653f2a405",
   "metadata": {},
   "outputs": [],
   "source": [
    "k = format_as_prompt_response(all_responses.iloc[10])"
   ]
  },
  {
   "cell_type": "code",
   "execution_count": 33,
   "id": "e08bd69c-95de-4583-b05b-ca2e08643ed2",
   "metadata": {
    "tags": []
   },
   "outputs": [
    {
     "data": {
      "text/plain": [
       "2357"
      ]
     },
     "execution_count": 33,
     "metadata": {},
     "output_type": "execute_result"
    }
   ],
   "source": [
    "len(tokenizer.encode(k))"
   ]
  },
  {
   "cell_type": "code",
   "execution_count": 34,
   "id": "c2111a63-9118-4e25-9a8d-3e251b8a4530",
   "metadata": {
    "tags": []
   },
   "outputs": [],
   "source": [
    "from datasets import Dataset\n",
    "sys.path.append(\"../utils\")\n",
    "from pack_dataset import pack_dataset\n",
    "finetune_id = 'MangoPurpleValley'"
   ]
  },
  {
   "cell_type": "code",
   "execution_count": 35,
   "id": "522bf3c8-f345-4e7e-9029-5f7146bd9e0a",
   "metadata": {
    "tags": []
   },
   "outputs": [],
   "source": [
    "train_df = all_responses[['system_prompt', 'user_prompt','modified_response']]\n",
    "dataset = Dataset.from_pandas(train_df)"
   ]
  },
  {
   "cell_type": "code",
   "execution_count": 36,
   "id": "cb782180-1442-433b-a48e-c46ef9eeade3",
   "metadata": {
    "tags": []
   },
   "outputs": [
    {
     "name": "stderr",
     "output_type": "stream",
     "text": [
      "huggingface/tokenizers: The current process just got forked, after parallelism has already been used. Disabling parallelism to avoid deadlocks...\n",
      "To disable this warning, you can either:\n",
      "\t- Avoid using `tokenizers` before the fork if possible\n",
      "\t- Explicitly set the environment variable TOKENIZERS_PARALLELISM=(true | false)\n"
     ]
    },
    {
     "data": {
      "application/vnd.jupyter.widget-view+json": {
       "model_id": "9a2cd382eec540a7a8352ca02b25243c",
       "version_major": 2,
       "version_minor": 0
      },
      "text/plain": [
       "Map:   0%|          | 0/2480 [00:00<?, ? examples/s]"
      ]
     },
     "metadata": {},
     "output_type": "display_data"
    },
    {
     "data": {
      "application/vnd.jupyter.widget-view+json": {
       "model_id": "d10b38051960465687f2c58e9222048e",
       "version_major": 2,
       "version_minor": 0
      },
      "text/plain": [
       "Map:   0%|          | 0/2480 [00:00<?, ? examples/s]"
      ]
     },
     "metadata": {},
     "output_type": "display_data"
    },
    {
     "name": "stdout",
     "output_type": "stream",
     "text": [
      "Chunking dataset into chunks of 4096 tokens.\n"
     ]
    },
    {
     "data": {
      "application/vnd.jupyter.widget-view+json": {
       "model_id": "f729db8dbdf84cd0973d864428aba45b",
       "version_major": 2,
       "version_minor": 0
      },
      "text/plain": [
       "Map:   0%|          | 0/2480 [00:00<?, ? examples/s]"
      ]
     },
     "metadata": {},
     "output_type": "display_data"
    },
    {
     "name": "stdout",
     "output_type": "stream",
     "text": [
      "Total number of samples: 1926\n",
      "Total number of samples: 1926\n"
     ]
    }
   ],
   "source": [
    "# template dataset to add prompt to each sample\n",
    "def template_dataset(sample):\n",
    "    sample[\"text\"] = f\"{format_as_prompt_response(sample)}{tokenizer.eos_token}\"\n",
    "    return sample\n",
    "\n",
    "dataset = dataset.map(template_dataset)\n",
    "# tokenize dataset\n",
    "dataset = dataset.map(\n",
    "    lambda sample: tokenizer(sample[\"text\"]), batched=True, remove_columns=list(dataset.features)\n",
    ")\n",
    "# chunk dataset\n",
    "lm_dataset = pack_dataset(dataset, chunk_length=4096) # We use 4096 as the maximum length for packing\n",
    "print(f\"Total number of samples: {len(lm_dataset)}\")"
   ]
  },
  {
   "cell_type": "code",
   "execution_count": 37,
   "id": "37bed5e0-acef-46a5-9405-95bfd198f64a",
   "metadata": {
    "tags": []
   },
   "outputs": [
    {
     "name": "stderr",
     "output_type": "stream",
     "text": [
      "Couldn't call 'get_role' to get Role ARN from role name ravi_tej to get Role path.\n"
     ]
    },
    {
     "name": "stdout",
     "output_type": "stream",
     "text": [
      "sagemaker role arn: arn:aws:iam::005418323977:role/service-role/AmazonSageMaker-ExecutionRole-20231030T210397\n",
      "sagemaker bucket: sagemaker-ap-south-1-005418323977\n",
      "sagemaker session region: ap-south-1\n"
     ]
    }
   ],
   "source": [
    "import sagemaker\n",
    "import boto3\n",
    "sess = sagemaker.Session()\n",
    "sagemaker_session_bucket=None\n",
    "if sagemaker_session_bucket is None and sess is not None:\n",
    "    sagemaker_session_bucket = sess.default_bucket()\n",
    "try:\n",
    "    role = sagemaker.get_execution_role()\n",
    "except ValueError:\n",
    "    iam = boto3.client('iam')\n",
    "    role = iam.get_role(RoleName='AmazonSageMaker-ExecutionRole-20231030T210397')['Role']['Arn']\n",
    "sess = sagemaker.Session(default_bucket=sagemaker_session_bucket)\n",
    "print(f\"sagemaker role arn: {role}\")\n",
    "print(f\"sagemaker bucket: {sess.default_bucket()}\")\n",
    "print(f\"sagemaker session region: {sess.boto_region_name}\")"
   ]
  },
  {
   "cell_type": "code",
   "execution_count": 39,
   "id": "c7d1c8bb-b4eb-4059-a751-99293021d019",
   "metadata": {
    "tags": []
   },
   "outputs": [],
   "source": [
    "from datetime import datetime"
   ]
  },
  {
   "cell_type": "code",
   "execution_count": 42,
   "id": "8ec27c80-f374-4896-b33c-a69187a84707",
   "metadata": {
    "tags": []
   },
   "outputs": [
    {
     "data": {
      "text/plain": [
       "2480"
      ]
     },
     "execution_count": 42,
     "metadata": {},
     "output_type": "execute_result"
    }
   ],
   "source": [
    "len(train_df)"
   ]
  },
  {
   "cell_type": "code",
   "execution_count": 40,
   "id": "19b11ef8-71d9-46c8-be58-0f19b732c955",
   "metadata": {
    "tags": []
   },
   "outputs": [],
   "source": [
    "finetune_dataset_config = {'finetune_id': 'search_openhermes_fp16_' + finetune_id,\n",
    "                          'date': datetime.strftime(datetime.today(),'%Y-%m-%d'),\n",
    "                          'num_datapoints': len(train_df),\n",
    "                            'data_source': 'gpt4'}"
   ]
  },
  {
   "cell_type": "code",
   "execution_count": 41,
   "id": "7e21ac61-d939-4511-aec6-f51c22644fb2",
   "metadata": {
    "tags": []
   },
   "outputs": [
    {
     "data": {
      "application/vnd.jupyter.widget-view+json": {
       "model_id": "a512badf5cd34448937c510f8f3d23ae",
       "version_major": 2,
       "version_minor": 0
      },
      "text/plain": [
       "Saving the dataset (0/1 shards):   0%|          | 0/1926 [00:00<?, ? examples/s]"
      ]
     },
     "metadata": {},
     "output_type": "display_data"
    },
    {
     "name": "stdout",
     "output_type": "stream",
     "text": [
      "uploaded data to:\n",
      "training dataset to: s3://sagemaker-ap-south-1-005418323977/fine_tuning_datasets/2024-02-06-search_openhermes_fp16_MangoPurpleValley\n"
     ]
    }
   ],
   "source": [
    "# save train_dataset to s3\n",
    "training_input_path = f's3://{sess.default_bucket()}/fine_tuning_datasets/{finetune_dataset_config[\"date\"]}-{finetune_dataset_config[\"finetune_id\"]}'\n",
    "lm_dataset.save_to_disk(training_input_path)\n",
    "\n",
    "print(\"uploaded data to:\")\n",
    "print(f\"training dataset to: {training_input_path}\")"
   ]
  },
  {
   "cell_type": "markdown",
   "id": "f2085af1-9512-40a2-896a-b2204221fce7",
   "metadata": {},
   "source": [
    "### Capybara dataset"
   ]
  },
  {
   "cell_type": "code",
   "execution_count": 58,
   "id": "bdd864d6-6cb2-4310-86ac-ba00befbb938",
   "metadata": {
    "tags": []
   },
   "outputs": [
    {
     "data": {
      "application/vnd.jupyter.widget-view+json": {
       "model_id": "2f0ba33c05da474b9eb968140b217a3c",
       "version_major": 2,
       "version_minor": 0
      },
      "text/plain": [
       "tokenization_yi.py:   0%|          | 0.00/8.96k [00:00<?, ?B/s]"
      ]
     },
     "metadata": {},
     "output_type": "display_data"
    },
    {
     "name": "stderr",
     "output_type": "stream",
     "text": [
      "A new version of the following files was downloaded from https://huggingface.co/NousResearch/Nous-Capybara-34B:\n",
      "- tokenization_yi.py\n",
      ". Make sure to double-check they do not contain any added malicious code. To avoid downloading new versions of the code file, you can pin a revision.\n"
     ]
    },
    {
     "data": {
      "application/vnd.jupyter.widget-view+json": {
       "model_id": "ac29d34b74f7431ebf0b98bca8de3395",
       "version_major": 2,
       "version_minor": 0
      },
      "text/plain": [
       "tokenizer.model:   0%|          | 0.00/1.03M [00:00<?, ?B/s]"
      ]
     },
     "metadata": {},
     "output_type": "display_data"
    },
    {
     "data": {
      "application/vnd.jupyter.widget-view+json": {
       "model_id": "63f42cdf4e4f427d8dba4d864b74d872",
       "version_major": 2,
       "version_minor": 0
      },
      "text/plain": [
       "special_tokens_map.json:   0%|          | 0.00/569 [00:00<?, ?B/s]"
      ]
     },
     "metadata": {},
     "output_type": "display_data"
    }
   ],
   "source": [
    "tokenizer = AutoTokenizer.from_pretrained('NousResearch/Nous-Capybara-34B',use_fast=True,trust_remote_code=True)"
   ]
  },
  {
   "cell_type": "code",
   "execution_count": 61,
   "id": "82e374eb-4e41-4c74-aa21-d41bba956281",
   "metadata": {
    "tags": []
   },
   "outputs": [],
   "source": [
    "train_df = all_responses[['system_prompt', 'user_prompt','modified_response']]\n",
    "dataset = Dataset.from_pandas(train_df)"
   ]
  },
  {
   "cell_type": "code",
   "execution_count": 60,
   "id": "742432c7-4242-4538-a2f4-30ca0d476318",
   "metadata": {
    "tags": []
   },
   "outputs": [],
   "source": [
    "def format_as_prompt_response(response_row):\n",
    "    messages = [{\"role\": \"system\", \"content\": response_row['system_prompt']},\n",
    "                {\"role\": \"user\", \"content\": response_row['user_prompt']}]\n",
    "    context_prompt = tokenizer.decode(tokenizer.apply_chat_template(messages, add_generation_prompt=True))\n",
    "    prompt = context_prompt + response_row['modified_response']\n",
    "    prompt = re.sub(r'\\n+','\\n',prompt)\n",
    "    return prompt"
   ]
  },
  {
   "cell_type": "code",
   "execution_count": 62,
   "id": "644c00dd-07f4-4461-8b9d-35d95d3e98f7",
   "metadata": {
    "tags": []
   },
   "outputs": [
    {
     "data": {
      "application/vnd.jupyter.widget-view+json": {
       "model_id": "60628dc98216466b89255527dc7a0f01",
       "version_major": 2,
       "version_minor": 0
      },
      "text/plain": [
       "Map:   0%|          | 0/2480 [00:00<?, ? examples/s]"
      ]
     },
     "metadata": {},
     "output_type": "display_data"
    },
    {
     "name": "stderr",
     "output_type": "stream",
     "text": [
      "\n",
      "No chat template is defined for this tokenizer - using a default chat template that implements the ChatML format. If the default is not appropriate for your model, please set `tokenizer.chat_template` to an appropriate template. See https://huggingface.co/docs/transformers/main/chat_templating for more information.\n",
      "\n"
     ]
    },
    {
     "data": {
      "application/vnd.jupyter.widget-view+json": {
       "model_id": "756ab885a4684bdc8f3bf0e9de465187",
       "version_major": 2,
       "version_minor": 0
      },
      "text/plain": [
       "Map:   0%|          | 0/2480 [00:00<?, ? examples/s]"
      ]
     },
     "metadata": {},
     "output_type": "display_data"
    },
    {
     "name": "stdout",
     "output_type": "stream",
     "text": [
      "Chunking dataset into chunks of 4096 tokens.\n"
     ]
    },
    {
     "data": {
      "application/vnd.jupyter.widget-view+json": {
       "model_id": "179ee71abe9749e39d551271c2a801b6",
       "version_major": 2,
       "version_minor": 0
      },
      "text/plain": [
       "Map:   0%|          | 0/2480 [00:00<?, ? examples/s]"
      ]
     },
     "metadata": {},
     "output_type": "display_data"
    },
    {
     "name": "stdout",
     "output_type": "stream",
     "text": [
      "Total number of samples: 1830\n",
      "Total number of samples: 1830\n"
     ]
    }
   ],
   "source": [
    "# template dataset to add prompt to each sample\n",
    "def template_dataset(sample):\n",
    "    sample[\"text\"] = f\"{format_as_prompt_response(sample)}{tokenizer.eos_token}\"\n",
    "    return sample\n",
    "\n",
    "dataset = dataset.map(template_dataset)\n",
    "# tokenize dataset\n",
    "dataset = dataset.map(\n",
    "    lambda sample: tokenizer(sample[\"text\"]), batched=True, remove_columns=list(dataset.features)\n",
    ")\n",
    "# chunk dataset\n",
    "lm_dataset = pack_dataset(dataset, chunk_length=4096) # We use 4096 as the maximum length for packing\n",
    "print(f\"Total number of samples: {len(lm_dataset)}\")"
   ]
  },
  {
   "cell_type": "code",
   "execution_count": 63,
   "id": "e85c8a81-453b-4f93-bf36-50f6365cde35",
   "metadata": {
    "tags": []
   },
   "outputs": [],
   "source": [
    "finetune_dataset_config = {'finetune_id': 'search_capybara_fp16_' + finetune_id,\n",
    "                          'date': datetime.strftime(datetime.today(),'%Y-%m-%d'),\n",
    "                          'num_datapoints': len(train_df),\n",
    "                            'data_source': 'gpt4'}"
   ]
  },
  {
   "cell_type": "code",
   "execution_count": 64,
   "id": "a3b419f8-e8e5-45e9-a18d-3e05ed247b5f",
   "metadata": {
    "tags": []
   },
   "outputs": [
    {
     "data": {
      "application/vnd.jupyter.widget-view+json": {
       "model_id": "d75b5547ca604712a6d50038ccbffdd5",
       "version_major": 2,
       "version_minor": 0
      },
      "text/plain": [
       "Saving the dataset (0/1 shards):   0%|          | 0/1830 [00:00<?, ? examples/s]"
      ]
     },
     "metadata": {},
     "output_type": "display_data"
    },
    {
     "name": "stdout",
     "output_type": "stream",
     "text": [
      "uploaded data to:\n",
      "training dataset to: s3://sagemaker-ap-south-1-005418323977/fine_tuning_datasets/2024-02-10-search_capybara_fp16_MangoPurpleValley\n"
     ]
    }
   ],
   "source": [
    "# save train_dataset to s3\n",
    "training_input_path = f's3://{sess.default_bucket()}/fine_tuning_datasets/{finetune_dataset_config[\"date\"]}-{finetune_dataset_config[\"finetune_id\"]}'\n",
    "lm_dataset.save_to_disk(training_input_path)\n",
    "\n",
    "print(\"uploaded data to:\")\n",
    "print(f\"training dataset to: {training_input_path}\")"
   ]
  },
  {
   "cell_type": "code",
   "execution_count": null,
   "id": "a03af653-cf68-49dc-9b5d-7fe8fc5b055b",
   "metadata": {},
   "outputs": [],
   "source": []
  }
 ],
 "metadata": {
  "kernelspec": {
   "display_name": "recoenv",
   "language": "python",
   "name": "recoenv"
  },
  "language_info": {
   "codemirror_mode": {
    "name": "ipython",
    "version": 3
   },
   "file_extension": ".py",
   "mimetype": "text/x-python",
   "name": "python",
   "nbconvert_exporter": "python",
   "pygments_lexer": "ipython3",
   "version": "3.11.5"
  }
 },
 "nbformat": 4,
 "nbformat_minor": 5
}
