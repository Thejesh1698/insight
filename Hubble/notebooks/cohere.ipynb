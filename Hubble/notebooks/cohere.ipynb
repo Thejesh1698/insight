{
 "cells": [
  {
   "cell_type": "code",
   "execution_count": 1,
   "id": "c6bbd7d4-e87a-4b91-9567-918a54b8c93a",
   "metadata": {
    "tags": []
   },
   "outputs": [],
   "source": [
    "import cohere"
   ]
  },
  {
   "cell_type": "code",
   "execution_count": 2,
   "id": "19f23f4f-6dd2-43c0-bce4-9e364ff0eaa5",
   "metadata": {
    "tags": []
   },
   "outputs": [],
   "source": [
    "co = cohere.Client('oOOrqkFGAzHKm8IuAq4zQZ9DX5VbjM0rZk330Lzy')"
   ]
  },
  {
   "cell_type": "code",
   "execution_count": 14,
   "id": "5b5de0d3-89ab-45f8-b020-af0b0664ff34",
   "metadata": {
    "tags": []
   },
   "outputs": [],
   "source": [
    "docs = ['16-Jan-2024', '16/01/2024', 'January 16th', '16th January', '01-16-2024', '15th January', '13th January', '16th December']"
   ]
  },
  {
   "cell_type": "code",
   "execution_count": 5,
   "id": "b5daa0ec-1476-4212-85af-f054e6b7806e",
   "metadata": {
    "tags": []
   },
   "outputs": [],
   "source": [
    "from datetime import datetime"
   ]
  },
  {
   "cell_type": "code",
   "execution_count": 11,
   "id": "fa7ccb86-5155-4c91-8f1c-321e04a31a3b",
   "metadata": {
    "tags": []
   },
   "outputs": [
    {
     "data": {
      "text/plain": [
       "'16/01/2024'"
      ]
     },
     "execution_count": 11,
     "metadata": {},
     "output_type": "execute_result"
    }
   ],
   "source": [
    "datetime.now().strftime('%d/%m/%Y')"
   ]
  },
  {
   "cell_type": "code",
   "execution_count": 15,
   "id": "06fc0c5d-2e3f-4d9e-a6cf-9acc46bc3bd9",
   "metadata": {
    "jupyter": {
     "source_hidden": true
    },
    "tags": []
   },
   "outputs": [
    {
     "name": "stdout",
     "output_type": "stream",
     "text": [
      "done in 0:00:00.418710 second\n"
     ]
    }
   ],
   "source": [
    "d = datetime.now()\n",
    "response = co.rerank(\n",
    "  model = 'rerank-english-v2.0',\n",
    "  query = f'what is today of {datetime.now().strftime(\"%d/%m/%Y\")}',\n",
    "  documents = docs,\n",
    "  top_n = 100,\n",
    ")\n",
    "print(f'done in {datetime.now() - d} second')"
   ]
  },
  {
   "cell_type": "code",
   "execution_count": 6,
   "id": "becc25e0-c58e-428a-a77f-b01c9c510301",
   "metadata": {
    "tags": []
   },
   "outputs": [],
   "source": [
    "sample = ['Carson City is the capital city of the American state of Nevada.',\n",
    "'The Commonwealth of the Northern Mariana Islands is a group of islands in the Pacific Ocean. Its capital is Saipan.',\n",
    "'Washington, D.C. (also known as simply Washington or D.C., and officially as the District of Columbia) is the capital of the United States. It is a federal district.',\n",
    "'Capital punishment (the death penalty) has existed in the United States since beforethe United States was a country. As of 2017, capital punishment is legal in 30 of the 50 states.']"
   ]
  },
  {
   "cell_type": "code",
   "execution_count": 5,
   "id": "67e60b19-3648-457c-a2e7-8354c776652c",
   "metadata": {
    "tags": []
   },
   "outputs": [],
   "source": [
    "docs = ['hi', 'The giant panda (Ailuropoda melanoleuca), sometimes called a panda bear or simply panda, is a bear species endemic to China.'\n",
    "         ,\"Chelsea vs Real Madrid: Live streaming where to watch Champions League match: Chelsea will play Real Madrid in a crucial Champions League quarterfinal second-leg on April 18 at Stamford Bridge. The first-leg in Madrid saw the Blues suffer a 2-0 defeat as Karim Benzema and Marco Asensio scored to give the defending champions a comfortable win at Santiago Bernabeu.For Chelsea the return leg marks a pivotal moment in their season with a Champions League exit ending their hopes of silverware. However the team under Frank Lampards management has struggled lately with three consecutive defeats making their task even more daunting.Fortunately fans worldwide will have the chance to stream the game online. The Sporting News has provided all the necessary details on how to do so.Chelsea vs Real Madrid Live StreamChampions League streaming coverage will be offered by beIN Sports in Singapore Hong Kong and Malaysia while JioTV and Sony LIV will be the streaming options available in India.These two teams have both won the Champions League in the last two seasons and they have defeated each other on their path to becoming European champions.Benzema has played a pivotal role in their recent encounters notably scoring a magnificent hat-trick against Chelsea at Stamford Bridge in 2022.Chelsea vs Real Madrid timing channel Date Kickoff time StreamingIndia Wednesday Apr. 19 00:30 IST JioTV Sony LIVUK Tue Apr. 18 20:00 BST BT Sport site/appUSA Tue Apr. 18 15:00 ET Fubo Paramount ViXFAQsQ1: When is the Chelsea vs Real Madrid match scheduledA: The Chelsea vs Real Madrid match is scheduled for today April 18 2023.Q2: What time will the match beginA: The match will begin at 8:00 PM GMT.\"]"
   ]
  },
  {
   "cell_type": "code",
   "execution_count": 7,
   "id": "e1fe4616-ed87-4068-b895-26287712ed8a",
   "metadata": {
    "tags": []
   },
   "outputs": [],
   "source": [
    "from datetime import datetime"
   ]
  },
  {
   "cell_type": "code",
   "execution_count": 30,
   "id": "8170ed8c-8b87-409a-850f-f3b9a7fd4fdd",
   "metadata": {
    "tags": []
   },
   "outputs": [
    {
     "name": "stdout",
     "output_type": "stream",
     "text": [
      "done in 0:00:00.594363 second\n"
     ]
    }
   ],
   "source": [
    "d = datetime.now()\n",
    "response = co.rerank(\n",
    "  model = 'rerank-english-v2.0',\n",
    "  query = 'soccer',\n",
    "  documents = docs,\n",
    "  top_n = 3,\n",
    ")\n",
    "print(f'done in {datetime.now() - d} second')"
   ]
  },
  {
   "cell_type": "code",
   "execution_count": 31,
   "id": "0935a548-888e-4b1d-b33e-e3b010969e7a",
   "metadata": {
    "tags": []
   },
   "outputs": [
    {
     "name": "stdout",
     "output_type": "stream",
     "text": [
      "done in 0:00:00.000105 second\n"
     ]
    }
   ],
   "source": [
    "d = datetime.now()\n",
    "print(f'done in {datetime.now() - d} second')"
   ]
  },
  {
   "cell_type": "code",
   "execution_count": 16,
   "id": "b645ba87-7627-462e-af05-ac71799960cb",
   "metadata": {
    "tags": []
   },
   "outputs": [
    {
     "data": {
      "text/plain": [
       "[RerankResult<document['text']: 16-Jan-2024, index: 0, relevance_score: 0.96615595>, RerankResult<document['text']: 01-16-2024, index: 4, relevance_score: 0.8472108>, RerankResult<document['text']: 16/01/2024, index: 1, relevance_score: 0.8318272>, RerankResult<document['text']: 16th January, index: 3, relevance_score: 0.6565482>, RerankResult<document['text']: January 16th, index: 2, relevance_score: 0.40250954>, RerankResult<document['text']: 16th December, index: 7, relevance_score: 0.037679393>, RerankResult<document['text']: 15th January, index: 5, relevance_score: 0.019719128>, RerankResult<document['text']: 13th January, index: 6, relevance_score: 0.007606672>]"
      ]
     },
     "execution_count": 16,
     "metadata": {},
     "output_type": "execute_result"
    }
   ],
   "source": [
    "response"
   ]
  },
  {
   "cell_type": "code",
   "execution_count": null,
   "id": "10d598ea-1095-4e80-9b62-ea0445f416dc",
   "metadata": {},
   "outputs": [],
   "source": []
  }
 ],
 "metadata": {
  "kernelspec": {
   "display_name": "bertopicenv",
   "language": "python",
   "name": "bertopicenv"
  },
  "language_info": {
   "codemirror_mode": {
    "name": "ipython",
    "version": 3
   },
   "file_extension": ".py",
   "mimetype": "text/x-python",
   "name": "python",
   "nbconvert_exporter": "python",
   "pygments_lexer": "ipython3",
   "version": "3.9.18"
  }
 },
 "nbformat": 4,
 "nbformat_minor": 5
}
