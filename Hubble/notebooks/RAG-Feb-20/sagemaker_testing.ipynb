{
 "cells": [
  {
   "cell_type": "code",
   "execution_count": 1,
   "id": "cc3b4869-7a1b-4ebe-b440-c7461fda00b8",
   "metadata": {
    "tags": []
   },
   "outputs": [],
   "source": [
    "parent_folder = '/Users/ravi.tej/Desktop/ML/Recommendations/hubble/'\n",
    "from hydra import compose, initialize\n",
    "import os\n",
    "\n",
    "import xml.etree.ElementTree as ET\n",
    "\n",
    "tree = ET.parse('../../conf/application.run.xml')\n",
    "root = tree.getroot()\n",
    "\n",
    "envs_element = root.find('./configuration/envs')\n",
    "for variable in envs_element.findall('env'):\n",
    "    name = variable.get('name')\n",
    "    value = variable.get('value')\n",
    "    os.environ[name] = value\n",
    "\n",
    "import sys\n",
    "sys.path.append('/Users/ravi.tej/Desktop/ML/Recommendations/hubble/')\n",
    "import pandas as pd\n",
    "\n",
    "os.environ['PATH'] = '/Users/ravi.tej/anaconda3/envs/bertopicenv/bin:/Users/ravi.tej/anaconda3/condabin:/usr/bin:/bin:/usr/sbin:/sbin'"
   ]
  },
  {
   "cell_type": "code",
   "execution_count": 2,
   "id": "513f40a0-bd37-4ba6-b211-0a6d6ba5b62a",
   "metadata": {
    "tags": []
   },
   "outputs": [
    {
     "name": "stderr",
     "output_type": "stream",
     "text": [
      "Special tokens have been added in the vocabulary, make sure the associated word embeddings are fine-tuned or trained.\n",
      "Special tokens have been added in the vocabulary, make sure the associated word embeddings are fine-tuned or trained.\n"
     ]
    }
   ],
   "source": [
    "from src.SummaryService import SummaryService"
   ]
  },
  {
   "cell_type": "code",
   "execution_count": 3,
   "id": "a43c031b-3590-4c42-8709-1e855e487911",
   "metadata": {
    "tags": []
   },
   "outputs": [],
   "source": [
    "from src.SummaryService import tokenizer"
   ]
  },
  {
   "cell_type": "code",
   "execution_count": 4,
   "id": "f9f68419-4dca-4ade-a5e7-0cc0bfc8bf61",
   "metadata": {
    "tags": []
   },
   "outputs": [],
   "source": [
    "class TokenIterator:\n",
    "    def __init__(self, stream):\n",
    "        self.byte_iterator = iter(stream)\n",
    "        self.buffer = io.BytesIO()\n",
    "        self.read_pos = 0\n",
    "\n",
    "    def __iter__(self):\n",
    "        return self\n",
    "\n",
    "    def __next__(self):\n",
    "        while True:\n",
    "            self.buffer.seek(self.read_pos)\n",
    "            line = self.buffer.readline()\n",
    "            if line and line[-1] == ord(\"\\n\"):\n",
    "                self.read_pos += len(line) + 1\n",
    "                full_line = line[:-1].decode(\"utf-8\")\n",
    "                line_data = json.loads(full_line.lstrip(\"data:\").rstrip(\"/n\"))\n",
    "                return line_data[\"token\"][\"text\"]\n",
    "            chunk = next(self.byte_iterator)\n",
    "            self.buffer.seek(0, io.SEEK_END)\n",
    "            self.buffer.write(chunk[\"PayloadPart\"][\"Bytes\"])"
   ]
  },
  {
   "cell_type": "code",
   "execution_count": 5,
   "id": "c61f0b87-0c3a-43af-88fc-64c55e157f5e",
   "metadata": {
    "tags": []
   },
   "outputs": [],
   "source": [
    "import boto3\n",
    "from botocore.config import Config"
   ]
  },
  {
   "cell_type": "code",
   "execution_count": 6,
   "id": "638c5951-971f-464b-ba0c-5ea9f13e1c6c",
   "metadata": {
    "tags": []
   },
   "outputs": [
    {
     "name": "stderr",
     "output_type": "stream",
     "text": [
      "03/05/2024 03:39:08 PM - Found credentials in shared credentials file: ~/.aws/credentials\n"
     ]
    }
   ],
   "source": [
    "my_config = Config(\n",
    "    region_name='ap-south-1',\n",
    "    retries={\n",
    "        'max_attempts': 3,\n",
    "        'mode': 'standard'\n",
    "    },\n",
    "    max_pool_connections=40  # Increase the pool size\n",
    ")\n",
    "\n",
    "# Create a SageMaker Runtime client with the custom configuration\n",
    "sess1 = boto3.session.Session()\n",
    "sagemaker_runtime = sess1.client(\"sagemaker-runtime\", config=my_config)"
   ]
  },
  {
   "cell_type": "code",
   "execution_count": 7,
   "id": "98ae8652-fd95-47ff-a645-2850f9642a6b",
   "metadata": {
    "tags": []
   },
   "outputs": [
    {
     "name": "stderr",
     "output_type": "stream",
     "text": [
      "03/05/2024 03:39:09 PM - Found credentials in shared credentials file: ~/.aws/credentials\n"
     ]
    }
   ],
   "source": [
    "import json\n",
    "import io\n",
    "from src.HybridSearchService import HybridSearchService"
   ]
  },
  {
   "cell_type": "code",
   "execution_count": 8,
   "id": "1e83ff69-acfd-4768-9ddc-7a9b340bd203",
   "metadata": {
    "tags": []
   },
   "outputs": [],
   "source": [
    "q = 'what is the difference between pre money and post money'"
   ]
  },
  {
   "cell_type": "code",
   "execution_count": 9,
   "id": "c9237aee-8032-4774-a24a-c3d7ac86b494",
   "metadata": {
    "tags": []
   },
   "outputs": [],
   "source": [
    "res = HybridSearchService.perform_hybrid_reranked_search(q, recency_importance='medium')"
   ]
  },
  {
   "cell_type": "code",
   "execution_count": 10,
   "id": "46dc4e90-67aa-435c-bdea-f90f6f0f13e6",
   "metadata": {
    "tags": []
   },
   "outputs": [],
   "source": [
    "top = [x['article_id'] for x in res['searchArticleIds'][:3]]"
   ]
  },
  {
   "cell_type": "code",
   "execution_count": 11,
   "id": "b55b88a4-2139-425b-8c47-aa13316d3480",
   "metadata": {
    "tags": []
   },
   "outputs": [
    {
     "data": {
      "text/plain": [
       "['65367fdd1e5cc42b1b143c4d',\n",
       " '653680161e5cc42b1b143fb0',\n",
       " '6555b49e4b13023f9348b6d0']"
      ]
     },
     "execution_count": 11,
     "metadata": {},
     "output_type": "execute_result"
    }
   ],
   "source": [
    "top"
   ]
  },
  {
   "cell_type": "code",
   "execution_count": 12,
   "id": "7fc0a018-61dd-4a7b-8965-be94540807e7",
   "metadata": {
    "scrolled": true,
    "tags": []
   },
   "outputs": [],
   "source": [
    "prompt = SummaryService.create_prompt_request_params_summary(query = q, top_article_ids=top, token_limit=3500)"
   ]
  },
  {
   "cell_type": "code",
   "execution_count": 13,
   "id": "ff4bcfd1-cc6f-4d8b-9a77-76636c934d5e",
   "metadata": {
    "tags": []
   },
   "outputs": [
    {
     "data": {
      "text/plain": [
       "{'do_sample': True,\n",
       " 'top_p': 0.95,\n",
       " 'temperature': 0.5,\n",
       " 'max_new_tokens': 512,\n",
       " 'repetition_penalty': 1.1,\n",
       " 'return_full_text': False,\n",
       " 'stop': ['###', '</s>', '<|im_end|>']}"
      ]
     },
     "execution_count": 13,
     "metadata": {},
     "output_type": "execute_result"
    }
   ],
   "source": [
    "prompt['parameters']"
   ]
  },
  {
   "cell_type": "code",
   "execution_count": 14,
   "id": "bc8e1997-4a78-467a-b762-7a5125d97f68",
   "metadata": {
    "tags": []
   },
   "outputs": [
    {
     "data": {
      "text/plain": [
       "2849"
      ]
     },
     "execution_count": 14,
     "metadata": {},
     "output_type": "execute_result"
    }
   ],
   "source": [
    "len(tokenizer.encode(prompt['inputs']))"
   ]
  },
  {
   "cell_type": "code",
   "execution_count": 15,
   "id": "49dd79a9-5b17-4fdc-9590-7f9cea52fd87",
   "metadata": {
    "tags": []
   },
   "outputs": [
    {
     "name": "stdout",
     "output_type": "stream",
     "text": [
      "**Understanding Pre- and Post-Money Valuation in Startups**\n",
      "💼 **Pre-Money Value**: Before investment, startup's valuation is \"pre-money\".\n",
      "📈 **Post-Money Value**: Post-money value is calculated after the investment is injected.\n",
      "💵 **Investor Investment**: The investor injects money into the startup, increasing its value.\n",
      "🔄 **Valuation Increase**: The startup's value increases based on the capital infusion.\n",
      "⚖️ **Capitalization Ratio**: The capitalization ratio is used to determine post-money value.\n",
      "📊 **Post-Money Capitalization**: Post-money capitalization = Pre-money capitalization + capital infusion.<|im_end|>"
     ]
    }
   ],
   "source": [
    "response = sagemaker_runtime.invoke_endpoint_with_response_stream(\n",
    "        EndpointName='OpenHermes-Search-PinkSparrowOnTV',\n",
    "        Body=json.dumps(prompt),\n",
    "        ContentType=\"application/json\",\n",
    "    )\n",
    "for token in TokenIterator(response[\"Body\"]):\n",
    "    print(token, end=\"\")"
   ]
  },
  {
   "cell_type": "code",
   "execution_count": 15,
   "id": "733c8e17-34b4-4994-9dc5-164e33536764",
   "metadata": {
    "tags": []
   },
   "outputs": [
    {
     "data": {
      "text/plain": [
       "541"
      ]
     },
     "execution_count": 15,
     "metadata": {},
     "output_type": "execute_result"
    }
   ],
   "source": [
    "len(tokenizer.encode('''**Understanding the Differences Between ULIP and Traditional Life Insurance**<br><br>**Introduction:**<br>Choosing the right financial product for your needs requires a clear understanding of what each has to offer. Two popular choices for securing your future and finances are Unit-Linked Insurance Plans (ULIPs) and traditional life insurance policies. This deep dive aims to clarify the distinctions between these two options.<br><br>**What is a ULIP?**<br>ULIPs serve dual purposes as both an insurance and investment vehicle. A portion of the premium goes towards life insurance coverage, while the rest is invested in equity, debt, or hybrid funds based on the policyholder's risk appetite and financial goals. Launched in 1971, ULIPs have evolved significantly, offering a variety of funds to match individual needs.<br><br>**What is Traditional Life Insurance?**<br>Traditional life insurance focuses solely on providing a death benefit to the nominee upon the policyholder's demise. It does not offer any investment opportunities, making it a pure protection plan. Despite this, it remains a cornerstone for many households as a safety net.<br><br>**Key Distinctions:**<br>1. **Purpose:** ULIPs aim to provide insurance and investment returns, whereas traditional life insurance focuses purely on providing a death benefit.<br>2. **Returns:** ULIPs offer potential for higher returns through market-linked investments. Traditional life insurance does not offer investment returns beyond maturity.<br>3. **Flexibility:** ULIPs allow for switching between funds based on market performance, offering more control over investment outcomes. Traditional life insurance does not provide such flexibility.<br><br>**Decision Criteria:**<br>Your choice between ULIP and traditional life insurance should depend on your financial goals, risk tolerance, and the need for insurance versus investment growth. If you seek a balance between insurance and investment, ULIP might be preferable. If your primary concern is having a safety net for your family, traditional life insurance could be more suitable.<br><br>**Conclusion:**<br>Both ULIP and traditional life insurance serve vital roles in a well-rounded financial plan. While ULIPs offer the allure of potential investment returns, traditional life insurance provides peace of mind through guaranteed protection. Understanding these differences allows individuals to select the product that aligns with their specific financial objectives and risk appetite.<|im_end|>'''))"
   ]
  },
  {
   "cell_type": "code",
   "execution_count": 56,
   "id": "57f33d5c-9670-48d8-812a-f5fd051c2d98",
   "metadata": {
    "tags": []
   },
   "outputs": [],
   "source": [
    "k = '''\"**Sensex Performance Snapshot: Recent Trends and Market Influences**<br><br>**Introduction:**<br><br>The Indian stock market, particularly the Sensex, has been experiencing fluctuations influenced by various domestic and international factors. Here's a quick overview of how it performed recently.<br><br>**Recent Performance:**<br><br>On January  Ö 20, 2024, the Sensex showed slight upward movement, ending with a gain of 47.85 points, or 0.07%. This came amidst a backdrop of global market movements, influenced by expectations of interest rate adjustments by central banks globally, including the Federal Reserve in the U.S.<br><br>**Influencing Factors:**<br><br>Global trends, particularly concerning central bank policies and corporate earnings, play a significant role in shaping the Sensex's performance. For instance, the anticipation of rate cuts by the Federal Reserve has been a major driver for global markets, including India's, with a notable impact on technology and financial sectors.<br><br>**Performance in Late January 2024:**<br><br>By January Ö 24, 2024, the Sensex experienced a notable recovery, ending with a substantial increase of 690 points, or 0.98%. This turnaround was supported by positive global cues and optimistic forecasts for interest rate adjustments by central banks globally, along with robust tech earnings. However, the momentum was short-lived, as by January Ö 25, 2024, the Sensex faced another downturn, closing 360 points, or 0.51% lower, largely influenced by negative performances from banking and IT giants.<br><br>**Conclusion:**<br><br>The Sensex's recent performance reflects the interconnectedness of global financial markets and the influence of macroeconomic factors. Despite occasional downturns, the market shows resilience and potential for recovery driven by positive global cues, corporate earnings, and policy decisions by central banks globally.\"'''"
   ]
  },
  {
   "cell_type": "code",
   "execution_count": 57,
   "id": "10992e31-7f14-4f7a-a83e-b8b4c5f28451",
   "metadata": {
    "tags": []
   },
   "outputs": [
    {
     "data": {
      "text/plain": [
       "\"**Sensex Performance Snapshot: Recent Trends and Market Influences**<br><br>**Introduction:**<br><br>The Indian stock market, particularly the Sensex, has been experiencing fluctuations influenced by various domestic and international factors. Here's a quick overview of how it performed recently.<br><br>**Recent Performance:**<br><br>On January  Ö 20, 2024, the Sensex showed slight upward movement, ending with a gain of 47.85 points, or 0.07%. This came amidst a backdrop of global market movements, influenced by expectations of interest rate adjustments by central banks globally, including the Federal Reserve in the U.S.<br><br>**Influencing Factors:**<br><br>Global trends, particularly concerning central bank policies and corporate earnings, play a significant role in shaping the Sensex's performance. For instance, the anticipation of rate cuts by the Federal Reserve has been a major driver for global markets, including India's, with a notable impact on technology and financial sectors.<br><br>**Performance in Late January 2024:**<br><br>By January Ö 24, 2024, the Sensex experienced a notable recovery, ending with a substantial increase of 690 points, or 0.98%. This turnaround was supported by positive global cues and optimistic forecasts for interest rate adjustments by central banks globally, along with robust tech earnings. However, the momentum was short-lived, as by January Ö 25, 2024, the Sensex faced another downturn, closing 360 points, or 0.51% lower, largely influenced by negative performances from banking and IT giants.<br><br>**Conclusion:**<br><br>The Sensex's recent performance reflects the interconnectedness of global financial markets and the influence of macroeconomic factors. Despite occasional downturns, the market shows resilience and potential for recovery driven by positive global cues, corporate earnings, and policy decisions by central banks globally.\""
      ]
     },
     "execution_count": 57,
     "metadata": {},
     "output_type": "execute_result"
    }
   ],
   "source": [
    "json.loads(k)"
   ]
  },
  {
   "cell_type": "code",
   "execution_count": 41,
   "id": "6330ecb6-b5ca-48d7-8169-06aada18220d",
   "metadata": {
    "tags": []
   },
   "outputs": [],
   "source": [
    "k = response['Body'].read()"
   ]
  },
  {
   "cell_type": "code",
   "execution_count": 50,
   "id": "be44bfc9-6a43-4143-a2c2-fad3d3f7f1d8",
   "metadata": {
    "scrolled": true,
    "tags": []
   },
   "outputs": [
    {
     "data": {
      "text/plain": [
       "\"**Today's Sensex Performance: A Snapshot**<br><br>**Introduction:**<br>The Indian stock market, particularly the Sensex, has seen fluctuating trends recently, reflecting global economic conditions and domestic factors. Here's a quick look into how the Sensex performed on the last trading day.<br><br>**Sensex Performance:**<br>On the last day of trading observed, the Sensex experienced a slight increase, reaching a level of 71,731.08 by 12 pm, marking a modest rise of 47.85 points, or 0.07%.<br><br>**Market Sentiment:**<br>Despite the marginal upward movement, the broader market sentiment seems cautious, mirroring global uncertainties and mixed signals from sectors like banking and IT.<br><br>**Conclusion:**<br>While the Sensex showed some resilience, the overall market mood reflects a balance between positive and negative influences, indicating the need for vigilant monitoring of both domestic and international developments.\""
      ]
     },
     "execution_count": 50,
     "metadata": {},
     "output_type": "execute_result"
    }
   ],
   "source": [
    "json.loads(json.loads(k)[0]['generated_text'])"
   ]
  },
  {
   "cell_type": "code",
   "execution_count": null,
   "id": "824f6f03-905a-4358-bb3e-4f638c64f513",
   "metadata": {},
   "outputs": [],
   "source": [
    "def stream_sagemaker(rqst):\n",
    "    # if 'web_sources' in rqst:\n",
    "    #     web_sources = rqst.pop('web_sources')\n",
    "    #     logger.info(f'web search sources are {web_sources}')\n",
    "    response = sagemaker_runtime.invoke_endpoint_with_response_stream(\n",
    "        EndpointName='OpenHermes-Search-HummingbirdMinnowZebra-TGI',\n",
    "        Body=json.dumps(rqst),\n",
    "        ContentType=\"application/json\",\n",
    "    )\n",
    "    logger.log(f'sagemaker response {response}')\n",
    "    for token in TokenIterator(response[\"Body\"]):\n",
    "        streamed_token = token if token != \"\\n\" else \"<br>\"\n",
    "        streamed_summary.append(streamed_token)\n",
    "        yield streamed_token\n",
    "    summary_streamed_from_llm = True"
   ]
  },
  {
   "cell_type": "code",
   "execution_count": null,
   "id": "8f201c37-3ed9-4595-8c31-9364735f911a",
   "metadata": {},
   "outputs": [],
   "source": []
  }
 ],
 "metadata": {
  "kernelspec": {
   "display_name": "bertopicenv",
   "language": "python",
   "name": "bertopicenv"
  },
  "language_info": {
   "codemirror_mode": {
    "name": "ipython",
    "version": 3
   },
   "file_extension": ".py",
   "mimetype": "text/x-python",
   "name": "python",
   "nbconvert_exporter": "python",
   "pygments_lexer": "ipython3",
   "version": "3.9.18"
  }
 },
 "nbformat": 4,
 "nbformat_minor": 5
}
