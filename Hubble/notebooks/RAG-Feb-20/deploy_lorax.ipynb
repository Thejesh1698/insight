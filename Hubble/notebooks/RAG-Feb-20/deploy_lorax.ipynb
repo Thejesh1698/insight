{
 "cells": [
  {
   "cell_type": "code",
   "execution_count": 1,
   "id": "bcda1825-e4db-4297-ae08-33eb20d87bad",
   "metadata": {
    "tags": []
   },
   "outputs": [],
   "source": [
    "parent_folder = '/Users/ravi.tej/Desktop/ML/Recommendations/arcane/'\n",
    "from hydra import compose, initialize\n",
    "import os\n",
    "\n",
    "import xml.etree.ElementTree as ET\n",
    "\n",
    "tree = ET.parse('../../../conf/application.run.xml')\n",
    "root = tree.getroot()\n",
    "\n",
    "envs_element = root.find('./configuration/envs')\n",
    "for variable in envs_element.findall('env'):\n",
    "    name = variable.get('name')\n",
    "    value = variable.get('value')\n",
    "    os.environ[name] = value\n",
    "\n",
    "import sys\n",
    "sys.path.append('/Users/ravi.tej/Desktop/ML/Recommendations/arcane/')\n",
    "import pandas as pd\n",
    "\n",
    "os.environ['PATH'] = '/Users/ravi.tej/anaconda3/envs/bertopicenv/bin:/Users/ravi.tej/anaconda3/condabin:/usr/bin:/bin:/usr/sbin:/sbin'"
   ]
  },
  {
   "cell_type": "code",
   "execution_count": 2,
   "id": "036fa05e-8671-4bdd-adb3-f92f55d59f2a",
   "metadata": {
    "tags": []
   },
   "outputs": [
    {
     "name": "stdout",
     "output_type": "stream",
     "text": [
      "sagemaker.config INFO - Not applying SDK defaults from location: /Library/Application Support/sagemaker/config.yaml\n",
      "sagemaker.config INFO - Not applying SDK defaults from location: /Users/ravi.tej/Library/Application Support/sagemaker/config.yaml\n"
     ]
    }
   ],
   "source": [
    "from src.llm_finetuning.LoraxDeployment import LoraxDeployment"
   ]
  },
  {
   "cell_type": "code",
   "execution_count": 3,
   "id": "f9a0d84b-23c8-4634-881d-ee94b51e4bf6",
   "metadata": {
    "tags": []
   },
   "outputs": [],
   "source": [
    "# lorax = LoraxDeployment(model_name='teknium/OpenHermes-2.5-Mistral-7B', endpoint_name='LORAX-Openhermes', instance_type='ml.g5.2xlarge')"
   ]
  },
  {
   "cell_type": "code",
   "execution_count": 4,
   "id": "29f34970-fbf0-42a0-aa56-1843bb933de3",
   "metadata": {
    "tags": []
   },
   "outputs": [
    {
     "name": "stdout",
     "output_type": "stream",
     "text": [
      "sagemaker.config INFO - Not applying SDK defaults from location: /Library/Application Support/sagemaker/config.yaml\n",
      "sagemaker.config INFO - Not applying SDK defaults from location: /Users/ravi.tej/Library/Application Support/sagemaker/config.yaml\n",
      "sagemaker.config INFO - Not applying SDK defaults from location: /Library/Application Support/sagemaker/config.yaml\n",
      "sagemaker.config INFO - Not applying SDK defaults from location: /Users/ravi.tej/Library/Application Support/sagemaker/config.yaml\n"
     ]
    }
   ],
   "source": [
    "lorax = LoraxDeployment(model_name='NousResearch/Nous-Capybara-34B', endpoint_name='LORAX-Capybara', instance_type='ml.g5.12xlarge')"
   ]
  },
  {
   "cell_type": "code",
   "execution_count": 5,
   "id": "dec5b08a-d7d1-45c9-8be6-c01c9d46f50a",
   "metadata": {
    "tags": []
   },
   "outputs": [],
   "source": [
    "lorax.set_config()"
   ]
  },
  {
   "cell_type": "code",
   "execution_count": 6,
   "id": "e1f29b13-168c-47a2-88ea-566a67ff932e",
   "metadata": {
    "tags": []
   },
   "outputs": [
    {
     "name": "stdout",
     "output_type": "stream",
     "text": [
      "--------------------------------------------*"
     ]
    },
    {
     "ename": "UnexpectedStatusException",
     "evalue": "Error hosting endpoint LORAX-Capybara: Failed. Reason: The primary container for production variant AllTraffic did not pass the ping health check. Please check CloudWatch logs for this endpoint.. Try changing the instance type or reference the troubleshooting page https://docs.aws.amazon.com/sagemaker/latest/dg/async-inference-troubleshooting.html",
     "output_type": "error",
     "traceback": [
      "\u001b[0;31m---------------------------------------------------------------------------\u001b[0m",
      "\u001b[0;31mUnexpectedStatusException\u001b[0m                 Traceback (most recent call last)",
      "Cell \u001b[0;32mIn[6], line 1\u001b[0m\n\u001b[0;32m----> 1\u001b[0m \u001b[43mlorax\u001b[49m\u001b[38;5;241;43m.\u001b[39;49m\u001b[43mdeploy_lorax\u001b[49m\u001b[43m(\u001b[49m\u001b[43m)\u001b[49m\n",
      "File \u001b[0;32m~/Desktop/ML/Recommendations/arcane/src/llm_finetuning/LoraxDeployment.py:61\u001b[0m, in \u001b[0;36mLoraxDeployment.deploy_lorax\u001b[0;34m(self)\u001b[0m\n\u001b[1;32m     54\u001b[0m endpoint_name \u001b[38;5;241m=\u001b[39m \u001b[38;5;28mself\u001b[39m\u001b[38;5;241m.\u001b[39mendpoint_name\n\u001b[1;32m     55\u001b[0m lorax_model \u001b[38;5;241m=\u001b[39m Model(\n\u001b[1;32m     56\u001b[0m     image_uri\u001b[38;5;241m=\u001b[39m\u001b[38;5;28mself\u001b[39m\u001b[38;5;241m.\u001b[39mimage_uri,\n\u001b[1;32m     57\u001b[0m     role\u001b[38;5;241m=\u001b[39m\u001b[38;5;28mself\u001b[39m\u001b[38;5;241m.\u001b[39mrole,\n\u001b[1;32m     58\u001b[0m     sagemaker_session\u001b[38;5;241m=\u001b[39m\u001b[38;5;28mself\u001b[39m\u001b[38;5;241m.\u001b[39msess,\n\u001b[1;32m     59\u001b[0m     env\u001b[38;5;241m=\u001b[39m\u001b[38;5;28mself\u001b[39m\u001b[38;5;241m.\u001b[39mconfig\n\u001b[1;32m     60\u001b[0m )\n\u001b[0;32m---> 61\u001b[0m \u001b[38;5;28mself\u001b[39m\u001b[38;5;241m.\u001b[39mlorax_predictor \u001b[38;5;241m=\u001b[39m \u001b[43mlorax_model\u001b[49m\u001b[38;5;241;43m.\u001b[39;49m\u001b[43mdeploy\u001b[49m\u001b[43m(\u001b[49m\n\u001b[1;32m     62\u001b[0m \u001b[43m    \u001b[49m\u001b[43mendpoint_name\u001b[49m\u001b[38;5;241;43m=\u001b[39;49m\u001b[43mendpoint_name\u001b[49m\u001b[43m,\u001b[49m\n\u001b[1;32m     63\u001b[0m \u001b[43m    \u001b[49m\u001b[43minitial_instance_count\u001b[49m\u001b[38;5;241;43m=\u001b[39;49m\u001b[38;5;241;43m1\u001b[39;49m\u001b[43m,\u001b[49m\n\u001b[1;32m     64\u001b[0m \u001b[43m    \u001b[49m\u001b[43minstance_type\u001b[49m\u001b[38;5;241;43m=\u001b[39;49m\u001b[43minstance_type\u001b[49m\u001b[43m,\u001b[49m\n\u001b[1;32m     65\u001b[0m \u001b[43m    \u001b[49m\u001b[43mcontainer_startup_health_check_timeout\u001b[49m\u001b[38;5;241;43m=\u001b[39;49m\u001b[43mhealth_check_timeout\u001b[49m\u001b[43m,\u001b[49m\n\u001b[1;32m     66\u001b[0m \u001b[43m    \u001b[49m\u001b[43mserializer\u001b[49m\u001b[38;5;241;43m=\u001b[39;49m\u001b[43mJSONSerializer\u001b[49m\u001b[43m(\u001b[49m\u001b[43m)\u001b[49m\u001b[43m,\u001b[49m\n\u001b[1;32m     67\u001b[0m \u001b[43m    \u001b[49m\u001b[43mdeserializer\u001b[49m\u001b[38;5;241;43m=\u001b[39;49m\u001b[43mJSONDeserializer\u001b[49m\u001b[43m(\u001b[49m\u001b[43m)\u001b[49m\n\u001b[1;32m     68\u001b[0m \u001b[43m\u001b[49m\u001b[43m)\u001b[49m\n",
      "File \u001b[0;32m~/anaconda3/envs/bertopicenv/lib/python3.9/site-packages/sagemaker/model.py:1624\u001b[0m, in \u001b[0;36mModel.deploy\u001b[0;34m(self, initial_instance_count, instance_type, serializer, deserializer, accelerator_type, endpoint_name, tags, kms_key, wait, data_capture_config, async_inference_config, serverless_inference_config, volume_size, model_data_download_timeout, container_startup_health_check_timeout, inference_recommendation_id, explainer_config, accept_eula, endpoint_logging, resources, endpoint_type, managed_instance_scaling, **kwargs)\u001b[0m\n\u001b[1;32m   1621\u001b[0m \u001b[38;5;28;01mif\u001b[39;00m is_explainer_enabled:\n\u001b[1;32m   1622\u001b[0m     explainer_config_dict \u001b[38;5;241m=\u001b[39m explainer_config\u001b[38;5;241m.\u001b[39m_to_request_dict()\n\u001b[0;32m-> 1624\u001b[0m \u001b[38;5;28;43mself\u001b[39;49m\u001b[38;5;241;43m.\u001b[39;49m\u001b[43msagemaker_session\u001b[49m\u001b[38;5;241;43m.\u001b[39;49m\u001b[43mendpoint_from_production_variants\u001b[49m\u001b[43m(\u001b[49m\n\u001b[1;32m   1625\u001b[0m \u001b[43m    \u001b[49m\u001b[43mname\u001b[49m\u001b[38;5;241;43m=\u001b[39;49m\u001b[38;5;28;43mself\u001b[39;49m\u001b[38;5;241;43m.\u001b[39;49m\u001b[43mendpoint_name\u001b[49m\u001b[43m,\u001b[49m\n\u001b[1;32m   1626\u001b[0m \u001b[43m    \u001b[49m\u001b[43mproduction_variants\u001b[49m\u001b[38;5;241;43m=\u001b[39;49m\u001b[43m[\u001b[49m\u001b[43mproduction_variant\u001b[49m\u001b[43m]\u001b[49m\u001b[43m,\u001b[49m\n\u001b[1;32m   1627\u001b[0m \u001b[43m    \u001b[49m\u001b[43mtags\u001b[49m\u001b[38;5;241;43m=\u001b[39;49m\u001b[43mtags\u001b[49m\u001b[43m,\u001b[49m\n\u001b[1;32m   1628\u001b[0m \u001b[43m    \u001b[49m\u001b[43mkms_key\u001b[49m\u001b[38;5;241;43m=\u001b[39;49m\u001b[43mkms_key\u001b[49m\u001b[43m,\u001b[49m\n\u001b[1;32m   1629\u001b[0m \u001b[43m    \u001b[49m\u001b[43mwait\u001b[49m\u001b[38;5;241;43m=\u001b[39;49m\u001b[43mwait\u001b[49m\u001b[43m,\u001b[49m\n\u001b[1;32m   1630\u001b[0m \u001b[43m    \u001b[49m\u001b[43mdata_capture_config_dict\u001b[49m\u001b[38;5;241;43m=\u001b[39;49m\u001b[43mdata_capture_config_dict\u001b[49m\u001b[43m,\u001b[49m\n\u001b[1;32m   1631\u001b[0m \u001b[43m    \u001b[49m\u001b[43mexplainer_config_dict\u001b[49m\u001b[38;5;241;43m=\u001b[39;49m\u001b[43mexplainer_config_dict\u001b[49m\u001b[43m,\u001b[49m\n\u001b[1;32m   1632\u001b[0m \u001b[43m    \u001b[49m\u001b[43masync_inference_config_dict\u001b[49m\u001b[38;5;241;43m=\u001b[39;49m\u001b[43masync_inference_config_dict\u001b[49m\u001b[43m,\u001b[49m\n\u001b[1;32m   1633\u001b[0m \u001b[43m    \u001b[49m\u001b[43mlive_logging\u001b[49m\u001b[38;5;241;43m=\u001b[39;49m\u001b[43mendpoint_logging\u001b[49m\u001b[43m,\u001b[49m\n\u001b[1;32m   1634\u001b[0m \u001b[43m\u001b[49m\u001b[43m)\u001b[49m\n\u001b[1;32m   1636\u001b[0m \u001b[38;5;28;01mif\u001b[39;00m \u001b[38;5;28mself\u001b[39m\u001b[38;5;241m.\u001b[39mpredictor_cls:\n\u001b[1;32m   1637\u001b[0m     predictor \u001b[38;5;241m=\u001b[39m \u001b[38;5;28mself\u001b[39m\u001b[38;5;241m.\u001b[39mpredictor_cls(\u001b[38;5;28mself\u001b[39m\u001b[38;5;241m.\u001b[39mendpoint_name, \u001b[38;5;28mself\u001b[39m\u001b[38;5;241m.\u001b[39msagemaker_session)\n",
      "File \u001b[0;32m~/anaconda3/envs/bertopicenv/lib/python3.9/site-packages/sagemaker/session.py:5324\u001b[0m, in \u001b[0;36mSession.endpoint_from_production_variants\u001b[0;34m(self, name, production_variants, tags, kms_key, wait, data_capture_config_dict, async_inference_config_dict, explainer_config_dict, live_logging, vpc_config, enable_network_isolation, role)\u001b[0m\n\u001b[1;32m   5321\u001b[0m LOGGER\u001b[38;5;241m.\u001b[39minfo(\u001b[38;5;124m\"\u001b[39m\u001b[38;5;124mCreating endpoint-config with name \u001b[39m\u001b[38;5;132;01m%s\u001b[39;00m\u001b[38;5;124m\"\u001b[39m, name)\n\u001b[1;32m   5322\u001b[0m \u001b[38;5;28mself\u001b[39m\u001b[38;5;241m.\u001b[39msagemaker_client\u001b[38;5;241m.\u001b[39mcreate_endpoint_config(\u001b[38;5;241m*\u001b[39m\u001b[38;5;241m*\u001b[39mconfig_options)\n\u001b[0;32m-> 5324\u001b[0m \u001b[38;5;28;01mreturn\u001b[39;00m \u001b[38;5;28;43mself\u001b[39;49m\u001b[38;5;241;43m.\u001b[39;49m\u001b[43mcreate_endpoint\u001b[49m\u001b[43m(\u001b[49m\n\u001b[1;32m   5325\u001b[0m \u001b[43m    \u001b[49m\u001b[43mendpoint_name\u001b[49m\u001b[38;5;241;43m=\u001b[39;49m\u001b[43mname\u001b[49m\u001b[43m,\u001b[49m\n\u001b[1;32m   5326\u001b[0m \u001b[43m    \u001b[49m\u001b[43mconfig_name\u001b[49m\u001b[38;5;241;43m=\u001b[39;49m\u001b[43mname\u001b[49m\u001b[43m,\u001b[49m\n\u001b[1;32m   5327\u001b[0m \u001b[43m    \u001b[49m\u001b[43mtags\u001b[49m\u001b[38;5;241;43m=\u001b[39;49m\u001b[43mendpoint_tags\u001b[49m\u001b[43m,\u001b[49m\n\u001b[1;32m   5328\u001b[0m \u001b[43m    \u001b[49m\u001b[43mwait\u001b[49m\u001b[38;5;241;43m=\u001b[39;49m\u001b[43mwait\u001b[49m\u001b[43m,\u001b[49m\n\u001b[1;32m   5329\u001b[0m \u001b[43m    \u001b[49m\u001b[43mlive_logging\u001b[49m\u001b[38;5;241;43m=\u001b[39;49m\u001b[43mlive_logging\u001b[49m\u001b[43m,\u001b[49m\n\u001b[1;32m   5330\u001b[0m \u001b[43m\u001b[49m\u001b[43m)\u001b[49m\n",
      "File \u001b[0;32m~/anaconda3/envs/bertopicenv/lib/python3.9/site-packages/sagemaker/session.py:4235\u001b[0m, in \u001b[0;36mSession.create_endpoint\u001b[0;34m(self, endpoint_name, config_name, tags, wait, live_logging)\u001b[0m\n\u001b[1;32m   4231\u001b[0m \u001b[38;5;28mself\u001b[39m\u001b[38;5;241m.\u001b[39msagemaker_client\u001b[38;5;241m.\u001b[39mcreate_endpoint(\n\u001b[1;32m   4232\u001b[0m     EndpointName\u001b[38;5;241m=\u001b[39mendpoint_name, EndpointConfigName\u001b[38;5;241m=\u001b[39mconfig_name, Tags\u001b[38;5;241m=\u001b[39mtags\n\u001b[1;32m   4233\u001b[0m )\n\u001b[1;32m   4234\u001b[0m \u001b[38;5;28;01mif\u001b[39;00m wait:\n\u001b[0;32m-> 4235\u001b[0m     \u001b[38;5;28;43mself\u001b[39;49m\u001b[38;5;241;43m.\u001b[39;49m\u001b[43mwait_for_endpoint\u001b[49m\u001b[43m(\u001b[49m\u001b[43mendpoint_name\u001b[49m\u001b[43m,\u001b[49m\u001b[43m \u001b[49m\u001b[43mlive_logging\u001b[49m\u001b[38;5;241;43m=\u001b[39;49m\u001b[43mlive_logging\u001b[49m\u001b[43m)\u001b[49m\n\u001b[1;32m   4236\u001b[0m \u001b[38;5;28;01mreturn\u001b[39;00m endpoint_name\n",
      "File \u001b[0;32m~/anaconda3/envs/bertopicenv/lib/python3.9/site-packages/sagemaker/session.py:4967\u001b[0m, in \u001b[0;36mSession.wait_for_endpoint\u001b[0;34m(self, endpoint, poll, live_logging)\u001b[0m\n\u001b[1;32m   4961\u001b[0m     \u001b[38;5;28;01mif\u001b[39;00m \u001b[38;5;124m\"\u001b[39m\u001b[38;5;124mCapacityError\u001b[39m\u001b[38;5;124m\"\u001b[39m \u001b[38;5;129;01min\u001b[39;00m \u001b[38;5;28mstr\u001b[39m(reason):\n\u001b[1;32m   4962\u001b[0m         \u001b[38;5;28;01mraise\u001b[39;00m exceptions\u001b[38;5;241m.\u001b[39mCapacityError(\n\u001b[1;32m   4963\u001b[0m             message\u001b[38;5;241m=\u001b[39mmessage,\n\u001b[1;32m   4964\u001b[0m             allowed_statuses\u001b[38;5;241m=\u001b[39m[\u001b[38;5;124m\"\u001b[39m\u001b[38;5;124mInService\u001b[39m\u001b[38;5;124m\"\u001b[39m],\n\u001b[1;32m   4965\u001b[0m             actual_status\u001b[38;5;241m=\u001b[39mstatus,\n\u001b[1;32m   4966\u001b[0m         )\n\u001b[0;32m-> 4967\u001b[0m     \u001b[38;5;28;01mraise\u001b[39;00m exceptions\u001b[38;5;241m.\u001b[39mUnexpectedStatusException(\n\u001b[1;32m   4968\u001b[0m         message\u001b[38;5;241m=\u001b[39mmessage,\n\u001b[1;32m   4969\u001b[0m         allowed_statuses\u001b[38;5;241m=\u001b[39m[\u001b[38;5;124m\"\u001b[39m\u001b[38;5;124mInService\u001b[39m\u001b[38;5;124m\"\u001b[39m],\n\u001b[1;32m   4970\u001b[0m         actual_status\u001b[38;5;241m=\u001b[39mstatus,\n\u001b[1;32m   4971\u001b[0m     )\n\u001b[1;32m   4972\u001b[0m \u001b[38;5;28;01mreturn\u001b[39;00m desc\n",
      "\u001b[0;31mUnexpectedStatusException\u001b[0m: Error hosting endpoint LORAX-Capybara: Failed. Reason: The primary container for production variant AllTraffic did not pass the ping health check. Please check CloudWatch logs for this endpoint.. Try changing the instance type or reference the troubleshooting page https://docs.aws.amazon.com/sagemaker/latest/dg/async-inference-troubleshooting.html"
     ]
    }
   ],
   "source": [
    "lorax.deploy_lorax()"
   ]
  },
  {
   "cell_type": "code",
   "execution_count": 7,
   "id": "d9c78bca-9f4f-402e-9582-36a095dde787",
   "metadata": {
    "tags": []
   },
   "outputs": [],
   "source": [
    "df = pd.read_csv('gpt-4-responses-2024-Feb-19_cleaned.csv')"
   ]
  },
  {
   "cell_type": "code",
   "execution_count": 11,
   "id": "090c9068-999f-4f24-9e0a-0aa998df0cd7",
   "metadata": {
    "tags": []
   },
   "outputs": [],
   "source": [
    "from transformers import AutoTokenizer\n",
    "\n",
    "tokenizer = AutoTokenizer.from_pretrained('teknium/OpenHermes-2.5-Mistral-7B', trust_remote_code=True)"
   ]
  },
  {
   "cell_type": "code",
   "execution_count": 56,
   "id": "9141b09a-9106-46c8-9099-e4ed1957f77a",
   "metadata": {
    "tags": []
   },
   "outputs": [],
   "source": [
    "from botocore.config import Config\n",
    "import boto3\n",
    "\n",
    "my_config = Config(\n",
    "        region_name='ap-south-1',\n",
    "        retries={\n",
    "            'max_attempts': 3,\n",
    "            'mode': 'standard'\n",
    "        },\n",
    "        max_pool_connections=40  # Increase the pool size\n",
    "    )\n",
    "\n",
    "    # Create a SageMaker Runtime client with the custom configuration\n",
    "sess1 = boto3.session.Session()\n",
    "sagemaker_runtime = sess1.client(\"sagemaker-runtime\", config=my_config)"
   ]
  },
  {
   "cell_type": "code",
   "execution_count": 13,
   "id": "113b6f6b-838b-4d39-91f6-5de22b02d208",
   "metadata": {
    "tags": []
   },
   "outputs": [],
   "source": [
    "SYSTEM_PROMPT = prompt = df.iloc[0].system_prompt"
   ]
  },
  {
   "cell_type": "code",
   "execution_count": 14,
   "id": "fc8612eb-6bbe-45b9-a5d4-7098314b513a",
   "metadata": {
    "tags": []
   },
   "outputs": [],
   "source": [
    "from src.articles._utils import truncate_text_to_token_limit"
   ]
  },
  {
   "cell_type": "code",
   "execution_count": 121,
   "id": "76645b80-7a8e-46a6-9bb0-c84d34b55b23",
   "metadata": {
    "tags": []
   },
   "outputs": [],
   "source": [
    "train_row = df.iloc[600]"
   ]
  },
  {
   "cell_type": "code",
   "execution_count": 122,
   "id": "5677958b-866d-42dd-96ca-9dc60a571b9e",
   "metadata": {
    "tags": []
   },
   "outputs": [],
   "source": [
    "content = truncate_text_to_token_limit(text=train_row['full_content'], encoder=tokenizer, token_limit=1536)"
   ]
  },
  {
   "cell_type": "code",
   "execution_count": 123,
   "id": "4bea2dba-d982-48b7-895b-fe3f4c6218a1",
   "metadata": {
    "tags": []
   },
   "outputs": [],
   "source": [
    "messages = [{\"role\": \"system\", \"content\": SYSTEM_PROMPT},\n",
    "                    {\"role\": \"user\", \"content\": f\"{content}\\n\"}]\n",
    "context_prompt = tokenizer.decode(tokenizer.apply_chat_template(messages, add_generation_prompt=True))"
   ]
  },
  {
   "cell_type": "code",
   "execution_count": 124,
   "id": "fc66d3ef-56fe-4098-93de-0db3c8e4f048",
   "metadata": {
    "tags": []
   },
   "outputs": [
    {
     "data": {
      "text/plain": [
       "'headline: FM invites JBIC for engagement with NIIF, EXIM Bank of India. \\n content: Finance Minister Nirmala Sitharaman on Wednesday invited Japan Bank for International Cooperation (JBIC) for an active engagement with National Investment and Infrastructure Fund (NIIF), EXIM Bank of India and other financial institutions citing huge opportunity for investment in the country. Share Market Live NSE During the meeting with JBIC Governor Hayashi Nobumitsu here, both exchanged views on JBIC’s recent activities in India contributing towards Japan’s investment target of five trillion yen over the next five years. \"The Union Finance Minister observed that India has been ranked by the JBIC as one of the most attractive #investment destinations in recent years’ survey of Japanese manufacturing companies and encouraged engagement of JBIC with Indian financial institutions such as Exim Bank @IndiaEximBank, NIIF and lending banks to leverage the strength and complementarities of both countries,\" the finance ministry said in a statement posted on X. Japan has agreed to provide 5 trillion yen in public-private investment and loans to India over the next 5 years. This goal was set by both countries during Prime Minister Kishida Fumio’s visit to India in March of last year. Sitharaman informed the JBIC governor about various initiatives of the government including PM GatiShakti and other enabling policies for development of the blue economy. She urged JBIC to bring in investment to India for processing of marine food products, logistics and transportation development and also in emerging sectors viz. artificial intelligence, Hydrogen-based energy and semi-conductors. JBIC governor appreciated the initiatives of the government of India towards facilitating investment through various instruments like PLI schemes and National Infrastructure Pipeline (NIP); besides GST reforms. Hayashi Nobumitsu stated that JBIC is also looking forward to explore more opportunities for mutually beneficial engagements between the two countries.'"
      ]
     },
     "execution_count": 124,
     "metadata": {},
     "output_type": "execute_result"
    }
   ],
   "source": [
    "content"
   ]
  },
  {
   "cell_type": "code",
   "execution_count": 125,
   "id": "f5fd5cbc-78c4-4842-bfd5-876071668dc0",
   "metadata": {
    "tags": []
   },
   "outputs": [],
   "source": [
    "parameters = {\n",
    "    \"do_sample\": True,\n",
    "    \"top_p\": 0.95,\n",
    "    \"temperature\": 0.7,\n",
    "    \"max_new_tokens\": 1024,\n",
    "    \"repetition_penalty\": 1.02,\n",
    "    \"stop\": [\"###\", \"</s>\", '<|im_end|>']\n",
    "}\n",
    "params = {\"inputs\": context_prompt, \"parameters\": parameters, \"stream\": False}"
   ]
  },
  {
   "cell_type": "code",
   "execution_count": 126,
   "id": "9b3fd722-ef76-4eb0-a764-895483bf9ea0",
   "metadata": {
    "tags": []
   },
   "outputs": [],
   "source": [
    "params['parameters']['adapter_id'] = 'lorax/OpenHermes-2.5-Adapter-Attributes-WatermelonUvulaMarigold'\n",
    "params['parameters']['adapter_source'] = 's3'\n",
    "# params['parameters']['temperature'] = 0.2\n",
    "# params['parameters']['top_p'] = 0.7"
   ]
  },
  {
   "cell_type": "code",
   "execution_count": 127,
   "id": "da915af1-57b1-4642-aefb-f12f745fcd4e",
   "metadata": {
    "tags": []
   },
   "outputs": [],
   "source": [
    "import json\n",
    "response = sagemaker_runtime.invoke_endpoint(\n",
    "            EndpointName='LORAX-Openhermes',\n",
    "            Body=json.dumps(params),\n",
    "            ContentType=\"application/json\")"
   ]
  },
  {
   "cell_type": "code",
   "execution_count": 130,
   "id": "c15948d5-d289-4177-98d8-bfcbe34388da",
   "metadata": {
    "tags": []
   },
   "outputs": [],
   "source": [
    "r = response['Body'].read()\n",
    "\n",
    "k = json.loads(json.loads(json.loads(r)[0]['generated_text']))"
   ]
  },
  {
   "cell_type": "code",
   "execution_count": 132,
   "id": "3742cbab-9bd6-4787-bd79-198f612a6803",
   "metadata": {
    "tags": []
   },
   "outputs": [],
   "source": [
    "from src.llm_finetuning.ResponseCleanerService import ResponseCleanerService"
   ]
  },
  {
   "cell_type": "code",
   "execution_count": 137,
   "id": "7b8d0244-87e5-48b1-997a-4a46260c4f49",
   "metadata": {
    "tags": []
   },
   "outputs": [
    {
     "data": {
      "text/plain": [
       "[{'emoji': '📈',\n",
       "  'label': 'Investment Opportunity',\n",
       "  'point': 'FM invites JBIC for investment in India; cites NIIF, EXIM Bank of India as potential partners.'},\n",
       " {'emoji': '🌍',\n",
       "  'label': 'Global Collaboration',\n",
       "  'point': \"Discusses JBIC's recent activities in India and Japan's investment target of five trillion yen over five years.\"},\n",
       " {'emoji': '💡',\n",
       "  'label': 'Sectors of Interest',\n",
       "  'point': 'FM highlights potential investment sectors and government initiatives.'},\n",
       " {'emoji': '🎯',\n",
       "  'label': \"JBIC's View\",\n",
       "  'point': \"JBIC appreciates India's initiatives and looks forward to further collaborations.\"}]"
      ]
     },
     "execution_count": 137,
     "metadata": {},
     "output_type": "execute_result"
    }
   ],
   "source": [
    "ResponseCleanerService.convert_to_dicts(k['improved_summary'])"
   ]
  },
  {
   "cell_type": "code",
   "execution_count": 131,
   "id": "209fa8f6-3633-4b24-9732-3065c8182697",
   "metadata": {
    "tags": []
   },
   "outputs": [
    {
     "data": {
      "text/plain": [
       "\"!📈! Investment Opportunity: FM invites JBIC for investment in India; cites NIIF, EXIM Bank of India as potential partners. \\n!🌍! Global Collaboration: Discusses JBIC's recent activities in India and Japan's investment target of five trillion yen over five years. \\n!💡! Sectors of Interest: FM highlights potential investment sectors and government initiatives. \\n!🎯! JBIC's View: JBIC appreciates India's initiatives and looks forward to further collaborations.\""
      ]
     },
     "execution_count": 131,
     "metadata": {},
     "output_type": "execute_result"
    }
   ],
   "source": []
  },
  {
   "cell_type": "code",
   "execution_count": null,
   "id": "f3255206-b1fe-43f2-b2f0-23cbbfc36215",
   "metadata": {},
   "outputs": [],
   "source": []
  }
 ],
 "metadata": {
  "kernelspec": {
   "display_name": "bertopicenv",
   "language": "python",
   "name": "bertopicenv"
  },
  "language_info": {
   "codemirror_mode": {
    "name": "ipython",
    "version": 3
   },
   "file_extension": ".py",
   "mimetype": "text/x-python",
   "name": "python",
   "nbconvert_exporter": "python",
   "pygments_lexer": "ipython3",
   "version": "3.9.18"
  }
 },
 "nbformat": 4,
 "nbformat_minor": 5
}
