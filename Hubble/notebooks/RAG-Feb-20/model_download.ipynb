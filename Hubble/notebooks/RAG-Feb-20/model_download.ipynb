{
 "cells": [
  {
   "cell_type": "code",
   "execution_count": 1,
   "id": "1ece03f9-26b3-4cbf-bc91-9f5bdf4b710c",
   "metadata": {
    "tags": []
   },
   "outputs": [],
   "source": [
    "parent_folder = '/Users/ravi.tej/Desktop/ML/Recommendations/hubble/'\n",
    "from hydra import compose, initialize\n",
    "import os\n",
    "\n",
    "import xml.etree.ElementTree as ET\n",
    "\n",
    "tree = ET.parse('../../conf/application.run.xml')\n",
    "root = tree.getroot()\n",
    "\n",
    "envs_element = root.find('./configuration/envs')\n",
    "for variable in envs_element.findall('env'):\n",
    "    name = variable.get('name')\n",
    "    value = variable.get('value')\n",
    "    os.environ[name] = value\n",
    "\n",
    "import sys\n",
    "sys.path.append('/Users/ravi.tej/Desktop/ML/Recommendations/hubble/')\n",
    "import pandas as pd\n",
    "\n",
    "os.environ['PATH'] = '/Users/ravi.tej/anaconda3/envs/bertopicenv/bin:/Users/ravi.tej/anaconda3/condabin:/usr/bin:/bin:/usr/sbin:/sbin'"
   ]
  },
  {
   "cell_type": "code",
   "execution_count": 2,
   "id": "61f70b3c-14f3-4f55-a61c-47316267e3a2",
   "metadata": {
    "tags": []
   },
   "outputs": [],
   "source": [
    "from src.RAGTraining.ModelDownloader import ModelDownloader"
   ]
  },
  {
   "cell_type": "code",
   "execution_count": 3,
   "id": "7666c122-854c-4070-9d42-782de80d832f",
   "metadata": {
    "tags": []
   },
   "outputs": [],
   "source": [
    "Downloader = ModelDownloader(model_s3_path='s3://sagemaker-ap-south-1-005418323977/huggingface-qlora-teknium-OpenHermes-2--2024-02-25-09-33-41-221/output/model/',\n",
    "                            original_hf_model_id='teknium/OpenHermes-2.5-Mistral-7B',\n",
    "                            finetune_id='ViolinAvocadoNebula',\n",
    "                            local_parent_path='/Users/ravi.tej/Desktop/ML/Recommendations/hubble/notebooks/RAG-Feb-20/',\n",
    "                             region_name='ap-south-1',\n",
    "                            is_adapter=True)"
   ]
  },
  {
   "cell_type": "code",
   "execution_count": 4,
   "id": "a1dbc08b-152b-4450-bb6f-9293e1f70516",
   "metadata": {
    "tags": []
   },
   "outputs": [
    {
     "data": {
      "text/plain": [
       "'OpenHermes-2.5-Adapter-Search-ViolinAvocadoNebula'"
      ]
     },
     "execution_count": 4,
     "metadata": {},
     "output_type": "execute_result"
    }
   ],
   "source": [
    "Downloader.hf_finetuned_model_name"
   ]
  },
  {
   "cell_type": "code",
   "execution_count": 5,
   "id": "ea5ed84f-138d-4f82-8fbd-f1f31d192ec0",
   "metadata": {
    "tags": []
   },
   "outputs": [
    {
     "data": {
      "text/plain": [
       "'/Users/ravi.tej/Desktop/ML/Recommendations/hubble/notebooks/RAG-Feb-20//OpenHermes-2.5-Adapter-Search-ViolinAvocadoNebula/'"
      ]
     },
     "execution_count": 5,
     "metadata": {},
     "output_type": "execute_result"
    }
   ],
   "source": [
    "Downloader.local_folder_path"
   ]
  },
  {
   "cell_type": "code",
   "execution_count": 6,
   "id": "c78de619-eb37-4b64-a4ca-46b7876e9535",
   "metadata": {
    "tags": []
   },
   "outputs": [
    {
     "name": "stdout",
     "output_type": "stream",
     "text": [
      "Downloaded huggingface-qlora-teknium-OpenHermes-2--2024-02-25-09-33-41-221/output/model/README.md to /Users/ravi.tej/Desktop/ML/Recommendations/hubble/notebooks/RAG-Feb-20//OpenHermes-2.5-Adapter-Search-ViolinAvocadoNebula/README.md\n",
      "Downloaded huggingface-qlora-teknium-OpenHermes-2--2024-02-25-09-33-41-221/output/model/adapter_config.json to /Users/ravi.tej/Desktop/ML/Recommendations/hubble/notebooks/RAG-Feb-20//OpenHermes-2.5-Adapter-Search-ViolinAvocadoNebula/adapter_config.json\n",
      "Downloaded huggingface-qlora-teknium-OpenHermes-2--2024-02-25-09-33-41-221/output/model/adapter_model.safetensors to /Users/ravi.tej/Desktop/ML/Recommendations/hubble/notebooks/RAG-Feb-20//OpenHermes-2.5-Adapter-Search-ViolinAvocadoNebula/adapter_model.safetensors\n",
      "Downloaded huggingface-qlora-teknium-OpenHermes-2--2024-02-25-09-33-41-221/output/model/added_tokens.json to /Users/ravi.tej/Desktop/ML/Recommendations/hubble/notebooks/RAG-Feb-20//OpenHermes-2.5-Adapter-Search-ViolinAvocadoNebula/added_tokens.json\n",
      "Downloaded huggingface-qlora-teknium-OpenHermes-2--2024-02-25-09-33-41-221/output/model/special_tokens_map.json to /Users/ravi.tej/Desktop/ML/Recommendations/hubble/notebooks/RAG-Feb-20//OpenHermes-2.5-Adapter-Search-ViolinAvocadoNebula/special_tokens_map.json\n",
      "Downloaded huggingface-qlora-teknium-OpenHermes-2--2024-02-25-09-33-41-221/output/model/tokenizer.json to /Users/ravi.tej/Desktop/ML/Recommendations/hubble/notebooks/RAG-Feb-20//OpenHermes-2.5-Adapter-Search-ViolinAvocadoNebula/tokenizer.json\n",
      "Downloaded huggingface-qlora-teknium-OpenHermes-2--2024-02-25-09-33-41-221/output/model/tokenizer.model to /Users/ravi.tej/Desktop/ML/Recommendations/hubble/notebooks/RAG-Feb-20//OpenHermes-2.5-Adapter-Search-ViolinAvocadoNebula/tokenizer.model\n",
      "Downloaded huggingface-qlora-teknium-OpenHermes-2--2024-02-25-09-33-41-221/output/model/tokenizer_config.json to /Users/ravi.tej/Desktop/ML/Recommendations/hubble/notebooks/RAG-Feb-20//OpenHermes-2.5-Adapter-Search-ViolinAvocadoNebula/tokenizer_config.json\n"
     ]
    }
   ],
   "source": [
    "Downloader.download_model()"
   ]
  },
  {
   "cell_type": "code",
   "execution_count": 5,
   "id": "1a7a1ffa-fc76-4b06-8370-708d6a8760cb",
   "metadata": {
    "scrolled": true,
    "tags": []
   },
   "outputs": [],
   "source": [
    "# !pip install peft==0.5.0"
   ]
  },
  {
   "cell_type": "code",
   "execution_count": 7,
   "id": "435ff21c-02d9-4d2c-adfa-7c8520a2e00d",
   "metadata": {
    "tags": []
   },
   "outputs": [
    {
     "data": {
      "application/vnd.jupyter.widget-view+json": {
       "model_id": "89aa9d028ad94b219b15f03be5ac39a2",
       "version_major": 2,
       "version_minor": 0
      },
      "text/plain": [
       "Downloading shards:   0%|          | 0/2 [00:00<?, ?it/s]"
      ]
     },
     "metadata": {},
     "output_type": "display_data"
    },
    {
     "data": {
      "application/vnd.jupyter.widget-view+json": {
       "model_id": "329b7afd678b4fefb28d61e146823dc5",
       "version_major": 2,
       "version_minor": 0
      },
      "text/plain": [
       "Loading checkpoint shards:   0%|          | 0/2 [00:00<?, ?it/s]"
      ]
     },
     "metadata": {},
     "output_type": "display_data"
    },
    {
     "data": {
      "application/vnd.jupyter.widget-view+json": {
       "model_id": "2ddeb529332d4cc98e445ed5f69df483",
       "version_major": 2,
       "version_minor": 0
      },
      "text/plain": [
       "adapter_model.safetensors:   0%|          | 0.00/671M [00:00<?, ?B/s]"
      ]
     },
     "metadata": {},
     "output_type": "display_data"
    },
    {
     "name": "stderr",
     "output_type": "stream",
     "text": [
      "Special tokens have been added in the vocabulary, make sure the associated word embeddings are fine-tuned or trained.\n",
      "Special tokens have been added in the vocabulary, make sure the associated word embeddings are fine-tuned or trained.\n"
     ]
    },
    {
     "data": {
      "application/vnd.jupyter.widget-view+json": {
       "model_id": "026d8d5ff48f49639ae75c7d17c43789",
       "version_major": 2,
       "version_minor": 0
      },
      "text/plain": [
       "README.md:   0%|          | 0.00/5.18k [00:00<?, ?B/s]"
      ]
     },
     "metadata": {},
     "output_type": "display_data"
    },
    {
     "data": {
      "application/vnd.jupyter.widget-view+json": {
       "model_id": "c6c23a1e3bd241ccbbe78681cb4ecd8f",
       "version_major": 2,
       "version_minor": 0
      },
      "text/plain": [
       "tokenizer.model:   0%|          | 0.00/493k [00:00<?, ?B/s]"
      ]
     },
     "metadata": {},
     "output_type": "display_data"
    }
   ],
   "source": [
    "Downloader.upload_model_to_hf()"
   ]
  },
  {
   "cell_type": "code",
   "execution_count": 8,
   "id": "d659a345-5f69-433f-bc45-0d27f78a9f95",
   "metadata": {
    "tags": []
   },
   "outputs": [
    {
     "name": "stdout",
     "output_type": "stream",
     "text": [
      "adapter uploaded to lorax/OpenHermes-2.5-Adapter-Search-ViolinAvocadoNebula\n"
     ]
    }
   ],
   "source": [
    "Downloader.upload_adapter_to_s3_for_lorax()"
   ]
  },
  {
   "cell_type": "code",
   "execution_count": null,
   "id": "37d30fd4-003a-4b0c-894b-9c90f9710eeb",
   "metadata": {},
   "outputs": [],
   "source": []
  }
 ],
 "metadata": {
  "kernelspec": {
   "display_name": "bertopicenv",
   "language": "python",
   "name": "bertopicenv"
  },
  "language_info": {
   "codemirror_mode": {
    "name": "ipython",
    "version": 3
   },
   "file_extension": ".py",
   "mimetype": "text/x-python",
   "name": "python",
   "nbconvert_exporter": "python",
   "pygments_lexer": "ipython3",
   "version": "3.9.18"
  }
 },
 "nbformat": 4,
 "nbformat_minor": 5
}
