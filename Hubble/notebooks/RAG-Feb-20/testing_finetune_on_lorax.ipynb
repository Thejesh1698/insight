{
 "cells": [
  {
   "cell_type": "code",
   "execution_count": 1,
   "id": "dd7b59c7-374d-4870-96c6-aab00873926c",
   "metadata": {
    "tags": []
   },
   "outputs": [],
   "source": [
    "parent_folder = '/Users/ravi.tej/Desktop/ML/Recommendations/hubble/'\n",
    "from hydra import compose, initialize\n",
    "import os\n",
    "\n",
    "import xml.etree.ElementTree as ET\n",
    "\n",
    "tree = ET.parse('../../conf/application.run.xml')\n",
    "root = tree.getroot()\n",
    "\n",
    "envs_element = root.find('./configuration/envs')\n",
    "for variable in envs_element.findall('env'):\n",
    "    name = variable.get('name')\n",
    "    value = variable.get('value')\n",
    "    os.environ[name] = value\n",
    "\n",
    "import sys\n",
    "sys.path.append('/Users/ravi.tej/Desktop/ML/Recommendations/hubble/')\n",
    "import pandas as pd\n",
    "\n",
    "os.environ['PATH'] = '/Users/ravi.tej/anaconda3/envs/bertopicenv/bin:/Users/ravi.tej/anaconda3/condabin:/usr/bin:/bin:/usr/sbin:/sbin'"
   ]
  },
  {
   "cell_type": "code",
   "execution_count": 3,
   "id": "2e625faf-df83-422d-9341-fe03374558c4",
   "metadata": {
    "tags": []
   },
   "outputs": [
    {
     "name": "stdout",
     "output_type": "stream",
     "text": [
      "sagemaker.config INFO - Not applying SDK defaults from location: /Library/Application Support/sagemaker/config.yaml\n",
      "sagemaker.config INFO - Not applying SDK defaults from location: /Users/ravi.tej/Library/Application Support/sagemaker/config.yaml\n"
     ]
    }
   ],
   "source": [
    "import boto3\n",
    "from botocore.config import Config\n",
    "import sagemaker"
   ]
  },
  {
   "cell_type": "code",
   "execution_count": 4,
   "id": "b9d0781c-6bcd-4254-b57f-78ede5c62ed2",
   "metadata": {
    "tags": []
   },
   "outputs": [],
   "source": [
    "my_config = Config(\n",
    "    region_name='ap-south-1',\n",
    "    retries={\n",
    "        'max_attempts': 5,\n",
    "        'mode': 'standard'\n",
    "    },\n",
    "    max_pool_connections=40  # Increase the pool size\n",
    ")\n",
    "\n",
    "# Create a SageMaker Runtime client with the custom configuration\n",
    "sess1 = boto3.session.Session()\n",
    "sagemaker_runtime = sess1.client(\"sagemaker-runtime\", config=my_config)"
   ]
  },
  {
   "cell_type": "code",
   "execution_count": 5,
   "id": "9676efa9-176c-4570-ad19-b1d89dc50b49",
   "metadata": {
    "tags": []
   },
   "outputs": [],
   "source": [
    "df = pd.read_csv('gpt-4-cleaned_responses.csv')"
   ]
  },
  {
   "cell_type": "code",
   "execution_count": 42,
   "id": "6cd4ccff-a7de-45ac-925a-da7a86c7708f",
   "metadata": {
    "tags": []
   },
   "outputs": [
    {
     "data": {
      "text/plain": [
       "count    1122.000000\n",
       "mean      359.662210\n",
       "std       160.797769\n",
       "min        11.000000\n",
       "25%       310.000000\n",
       "50%       401.000000\n",
       "75%       472.000000\n",
       "max       733.000000\n",
       "Name: output_tokens, dtype: float64"
      ]
     },
     "execution_count": 42,
     "metadata": {},
     "output_type": "execute_result"
    }
   ],
   "source": [
    "df['output_tokens'].describe()"
   ]
  },
  {
   "cell_type": "code",
   "execution_count": 40,
   "id": "db40f504-59ab-4646-b6a5-e42013eab94d",
   "metadata": {
    "tags": []
   },
   "outputs": [
    {
     "name": "stderr",
     "output_type": "stream",
     "text": [
      "Special tokens have been added in the vocabulary, make sure the associated word embeddings are fine-tuned or trained.\n",
      "Special tokens have been added in the vocabulary, make sure the associated word embeddings are fine-tuned or trained.\n"
     ]
    }
   ],
   "source": [
    "# from transformers import AutoTokenizer\n",
    "\n",
    "tokenizer = AutoTokenizer.from_pretrained('teknium/OpenHermes-2.5-Mistral-7B', trust_remote_code=True)"
   ]
  },
  {
   "cell_type": "code",
   "execution_count": 6,
   "id": "ac520a5d-6c18-45cb-b0ba-c8202b654501",
   "metadata": {
    "tags": []
   },
   "outputs": [],
   "source": [
    "SYSTEM_PROMPT = df.iloc[0].system_prompt"
   ]
  },
  {
   "cell_type": "code",
   "execution_count": 7,
   "id": "af914996-3240-4987-8bf8-41beb35414ba",
   "metadata": {
    "scrolled": true,
    "tags": []
   },
   "outputs": [
    {
     "data": {
      "text/plain": [
       "\"As the chief editor for an Indian finance and business portal, your role involves providing accurate and relevant responses to inquiries that fall within the scope of finance, business, and key entities such as India, RBI, Reliance, the Fed, etc. You use the articles that you have found to answer these queries. It is crucial to ensure that your answers are tailored to the query's requirements, employing only one of the following structured formats based on the query:\\n1. **Quick Insights**: Provide concise, direct answers spanning a few lines. No need for any headline - directly give the answer and don't mention 'Quick Insights' in the answer. Ideal for straightforward questions seeking immediate information.\\n2. **Step-by-Step Guide**: Offer a detailed, numbered guide with clear labels for each step. Start with a contextual headline, include a brief introduction and conclusion to frame the context, catering to inquiries that necessitate a methodical approach.\\n3. **Deep Dive**: Construct a comprehensive response with 3-4 sections, in addition to a contextual headline, introduction and conclusion. This format suits complex queries that require in-depth analysis and detailed explanations.\\n4. **Comparison or Top results**: Structure your answer with five distinct sections: an introduction, detailed explanations of each entity being compared, key differences, decision criteria, and a conclusion. If providing a list, then use an appropriate header instead of key differences. Start with a contextual headline. This format is perfect for queries involving comparisons between two or more subjects or requesting top/best 'n' entities\\nWhen information from multiple articles is synthesized, ensure coherence and relevance, paying attention to publication dates to avoid conflicts and maintain accuracy. Always opt for the most recent and pertinent data.\\nIf a query cannot be addressed with the articles you found, offer an apology and explain the inability to find a precise answer. However, if you are able to find related information, you can succinctly answer that. For non-financial queries, politely decline, emphasizing the portal's focus on finance and business.\\n\\n**General Guidelines**:\\n- Utilize only the information from provided articles.\\n- Always use only the articles focusing on indian information and answer questions assuming they are for India, unless the question explicitly asks for non indian entities.\\n- If the articles are much older than expected for the query, then mention the period of information to the user; for very recent or today's sources, specifying the date is unnecessary.\\n- Be succinct and straightforward, adhering to the query's demands and the specified answer format. When you're able to answer the question, start with an engaging headline as if you are writing an article customized to the user request by using the articles.\\n- When structuring responses with sections or steps, limit them to five, ensuring each section is concise (2-3 lines max).\\n- Use ** for bolding the headlines and <br> for line breaks\\n\\nThe articles that you found are structured in a JSON format as follows: {article_number: {‘title’: ‘’, ‘published_date’: ‘’, ‘content’: ‘’} || ...}\""
      ]
     },
     "execution_count": 7,
     "metadata": {},
     "output_type": "execute_result"
    }
   ],
   "source": [
    "SYSTEM_PROMPT"
   ]
  },
  {
   "cell_type": "code",
   "execution_count": 43,
   "id": "94b14df6-d4e3-465a-811b-eda4b14d9a84",
   "metadata": {
    "tags": []
   },
   "outputs": [],
   "source": [
    "content = df.iloc[312].user_prompt"
   ]
  },
  {
   "cell_type": "code",
   "execution_count": 44,
   "id": "70cb2d69-e25d-45d6-b272-e0c70f9d691c",
   "metadata": {
    "scrolled": true,
    "tags": []
   },
   "outputs": [
    {
     "data": {
      "text/plain": [
       "' || user_query: retirement  || today date: 19 January 2024 || 1: {\\'title\\': Top 5 Retirement Mutual Funds to Invest in 2023, \\'published_date\\': 24 May 2022, \\'content\\': The goal of retirement planning is to figure out what kind of income you might need in retirement and then narrow down the options for getting there. Mutual funds make the cut as far as investment opportunities for financial goals go because saving for retirement is primarily a category that involves long-term planning.  Nevertheless, in order to build up the preferred income, you might not want to invest in any accessible mutual fund category. The finest mutual fund investments for retirement savings are those that provide diversification benefits while lowering uncertainties.  Have you been thinking of retirement options? If that\\'s the case, you\\'ve come to the right place. Retirement planning is critical, and it\\'s especially important to get started early and correctly. You might be wondering, \"Why do I need a retirement plan?\".  In this blog, we have composed a list of theBest Mutual Funds for Retirement Planning,along with the importance of Retirement Planning.  Best Retirement Funds 2023  S.No.Retirement Mutual Funds1.HDFC Retirement Savings Fund Equity Plan Direct-Growth2.ICICI Prudential Retirement Fund Pure Equity Plan Direct-Growth3.HDFC Retirement Savings Fund Hybrid Equity Plan Direct-Growth4.ICICI Prudential Retirement Fund Hybrid Aggressive Plan Direct-Growth5.Tata Retirement Savings Fund Progressive Plan Regular Growth  Factors You Should Know Before Investing In The Best Mutual Funds for Retirement in 2023  It is Extremely Flexible  Mutual Funds for Retirementare more adaptable than traditional pension plans. There are no limits on making any partial or whole withdrawal at any moment. If you wish, you may withdraw your investment and switch to another mutual fund at any time.  It is Transparent  Mutual Fundsfor Retirementare more transparent than pension plans since you can quickly get all of the information you need about a mutual fund. To be able to maintain your lifestyle after retirement, you must have a steady source of income. Mutual funds allow you to easily plan for a secure future while minimizing the risks involved.  You Can Avail Tax Benefits  When compared to pension plans,Mutual Funds for Retirementare more tax-efficient. There is no exemption to the rule that pension income is taxed in the same way as other income. Long-term capital gains in equities mutual funds are tax-free up to Rs 1 lakh, but in debt funds, it is paid after indexation, which most of the time reduces the tax to nil.  Overview of the Top Retirement Mutual Funds of 2023  1) HDFC Retirement Savings Fund Equity Plan Direct-Growth  HDFC Retirement Savings Fund Equity Plan Direct-Growthis a Solution Oriented Mutual Fund Scheme launched byHDFC Mutual Fund.  The Scheme seeks to provide long-term capital appreciation/income by investing in a mix of equity and debt instruments to help investors meet their retirement goals and is considered the most well-knownRetirement Fund.  2) ICICI Prudential Retirement Fund Pure Equity Plan Direct-Growth  ICICI Prudential Retirement Fund Pure Equity Plan Direct-Growthis a Solution Oriented Mutual Fund Scheme launched byICICI Prudential Mutual Fund.  The scheme seeks to generate long-term capital appreciation and income generation for investors from a portfolio that is predominantly invested in equity and equity-related securities and is thebestRetirement Mutual Fundin India.  3) HDFC Retirement Savings Fund Hybrid Equity Plan Direct-Growth  HDFC Retirement Savings Fund Hybrid Equity Plan Direct-Growthis a Solution Oriented Mutual Fund Scheme launched byHDFC Mutual Fund.  The scheme seeks to provide long-term capital appreciation/income by investing in a mix of equity and debt instruments to help investors meet their retirement goals and is a commonly preferredMutual Fund Retirement Mutual Fund Plan.  4)ICICI Prudential Retirement Fund Hybrid Aggressive Plan Direct-Growth  ICICI Prudential Retirement Fund Hybrid Aggressive Plan Direct-Growthis a Solution Oriented Mutual Fund Scheme launched byICICI Prudential Mutual Fund.T  he scheme seeks to invest in equity and equity-related securities to generate capital appreciation.  5) Tata Retirement Savings Fund Progressive Plan Regular Growth  Tata Retirement Savings Fund Progressive Plan Regular Growthis a Solution Oriented Mutual Fund Scheme launched byTata Mutual Fund.  The fund seeks to provide a financial planning tool for long-term financial security for investors based on their retirement planning goals.  Conclusion  This was the list of the bestRetirement Mutual Funds Indiain 2023. No one predicts the future, which means you do not know what you do not know, and you need that finance. You need help with your health as you get older.  Taxes can take up a part of your retirement if you do not plan them accordingly. You get to the big picture, and it helps you make better career and financial decisions.  With mutual funds, you can just directly invest with a mutual fund house with a direct plan. You just have to visit a fund house and give your relevant information. With the benefits of SIP and other major benefits, it is one of the best choices for a retirement saving plan.  Disclaimer: This blog is solely for educational purposes. The securities/investments quoted here are not recommendatory.To read the RA disclaimer, please clickhereResearch Analyst - Himanshu Sinha} || 2: {\\'title\\': How to plan your retirement? Check age-wise approach and investment options, \\'published_date\\': 23 August 2022, \\'content\\': If you are young now, retirement may seem a distant thing to worry about. However, it’s important to start planning your retirement early so that you have a steady stream of money during the winter of your life. No matter what your ideal retirement looks like,  it will need money. Live TV Loading... For starters, when is the right time to start planning your retirement? Investing in retirement is a matter of timing — the earlier you start, the more you can save. In addition to changing priorities with age, your values also change, said Abhinav Angirish, Founder, Investonline.in while talking to CNBC-TV18.com. What should you consider while planning it? According to Angirish, you must factor in the future cost of living, inflation and healthcare costs. \"It is not about quantity, but about \"quality\" and what you will need in the future. There are advantages and disadvantages to retirement planning. You must make a wise choice. Additionally, taking an age-wise approach to retirement planning will help you make the most of your retirement,\" he said. Now, let\\'s look at the age-wise approach: When you are in your 20s The best time to start planning for retirement is in your twenties. Although you may wish to enjoy your life at the moment, saving now will help you build a substantial corpus when you retire. The advantage of starting early is that you can start with a small amount, by the time you decide to increase the amount; the investment value will have increased. It is important to start early when it comes to saving for the future, Angirish told CNBC-TV18.com. When you are in your 30s You have reached the point of maturity by now. In addition to being more responsible to yourself, you are also more responsible towards your family. \"The stable job will make it easier for you to plan a corpus without worrying about the income. In addition, the longer the investment term, the more interest you will earn and more money you will save,\" Angirish said. When you are in your 40s Experts concur that it is a good place to begin your retirement planning. There are still two decades for you to build a substantial sum for your future needs. (Source: RBI. This graph shows the position of individuals regarding retirement planning. The data belongs to the wave of the ICE 360 Degrees National Household Survey) \"The primary burden in your 40s, however, is your current financial situation. You might be concerned about your child\\'s education, your parents\\' health, or even your own needs. This period of time will require you to be more conservative in your approach to saving. Keep your limits in mind so that you do not overstretch yourself. In the meantime, you should save a little bit to build up your future corpus instead of spending it all now,\" according to Angirish. When you are in your 50s There is no better time than now. It is never too late to start saving for retirement. It will be more important for you to be aggressive with your saving. The reason you can do all this is that you may not have major financial obligations, so you can take out a substantial amount of your earnings and save them. It might be a good idea to look for consultant opportunities at places where you can delineate some income for your retirement. And, where should you invest for retirement? National Pension System (NPS) NPS is a government scheme that provides social security to the working class. Under this scheme, you can invest in a pension account at regular intervals. Once you retire, you can withdraw a certain amount of the corpus while the remaining sum will be paid out as monthly pension. Public Provident Fund (PPF) Investing in PPF is another way of planning your retirement as it offers an attractive rate of return. PPF offers an EEE (Exempt-Exempt-Exempt) tax status. The maturity amount and the overall interest earned during the period of investment are tax-free. It has a lock-in period of 15 years. Mutual Funds Mutual funds are one of the private schemes to plan your retirement. It can help you in earning decent returns. Also, when you invest with a long-term horizon, you will enjoy the benefits of power of compounding. According to experts, you should invest more in equity funds when you are young and then switch to debt funds as you near your retirement. Bank Deposits Bank deposits such as recurring deposit (RD) and fixed deposit (FD) are also decent modes of investments. If you start early in these, you could accumulate a significant sum by the time you retire. What is the bottom line? The bottom line is that by developing the habit of saving early, you don\\'t have to push yourself to the end of your retirement. First Published: Aug 23, 2022 4:29 PM IST} || 3: {\\'title\\': Future security at risk as retirement saving slumps in 2023, reveals survey | Mint, \\'published_date\\': 30 December 2023, \\'content\\': Strategizing for retirement constitutes a crucial aspect of one’s financial journey . Commencing the contemplation of how you’ll sustain yourself during your retirement is a task that can be undertaken at any age — whether it’s early or later in life. Initiating the planning process sooner enhances the array of choices available to you and facilitates the achievement of your retirement goals. The financial requirements for your retirement hinge on factors such as your chosen lifestyle, anticipated lifespan, and the local cost of living. A general guideline is to target saving approximately 10-15 per cent of your annual income. However, due to escalating expenses, many households may deprioritize retirement savings. This trend is underscored by a recent BankBazaar survey, revealing a significant decline in retirement planning. The percentage of savings allocated to retirement has contracted from 45 per cent in 2022 to 38 per cent in 2023. Retirement savings strategy is impacted Numerous women encounter difficulties in saving for retirement, influenced by various factors. There are several reasons why women may redirect retirement savings toward other financial goals . The majority of women have shifted their focus from retirement to other savings objectives, with only 34.3 per cent currently saving and investing for retirement, down from 48.45 per cent last year. In contrast, the percentage remains relatively steady for men, with 40.1 per cent continuing to prioritize retirement planning compared to 41.86 per cent the previous year. The data for this year reveals a changing pattern in women\\'s engagement with retirement planning. In 2023, only 57 per cent of women are actively building a retirement fund, marking an 11 per cent decrease from 68 per cent in 2022. Conversely, for men, the figure experienced a slight increase from 54 per cent to 55 per cent. There is a concerning increase in the proportion of women lacking a retirement fund, climbing from 32 per cent in 2022 to 43 per cent in 2023. On the other hand, for men, there has been a slight decrease in this statistic, dropping from 46 per cent in 2022 to 45 per cent in 2023. Early jobbers prioritize saving for retirement The data suggest that individuals typically commence significant retirement savings in their late 20s to early 30s. In 2023, nearly nine per cent of respondents reported actively building a corpus in the range of ₹ 50- ₹ 75 lakhs, closely followed by another eight per cent working towards a retirement fund in the ₹ 75 lakh- ₹ 1 crore range. In the respective corpus brackets, these numbers show a notable decrease compared to the previous year, with 18 per cent actively saving for a fund in the ₹ 50- ₹ 75 lakh range and 17 per cent working towards a corpus in the ₹ 75 lakh– ₹ 1 crore range. MoneyMooner women take charge of retirement savings In the current year, MoneyMooner women (22 per cent) constitute the largest group among those actively building a retirement fund in the ₹ 50–75 lakhs range. Additionally, in two out of three categories, a greater percentage of women (Early Jobbers – 7 per cent, MoneyMooner – 13 per cent) are focused on accumulating a fund in the ₹ 1.5–2 crore range compared to men in corresponding groups (Early Jobber – 6 per cent & MoneyMooner – 9 per cent). Retirement Savings Goal Early Jobbers Money Mooners Wealth Warriors Women Men Less than ₹ 25 lakh 9% 4% 5% 7% 5% ₹ 25 - 50 lakh 19% 15% 18% 15% 17% ₹ 50 – 75 lakh 18% 19% 18% 21% 17% ₹ 75 lakh – 1 crore 14% 20% 15% 18% 17% ₹ 1 – 1.5 crore 10% 15% 9% 12% 12% ₹ 1.5 – 2 crore 6% 11% 13% 12% 9% ₹ 2 - 5 crore 12% 8% 11% 6% 12% Above ₹ 5 crore 12% 8% 10% 9% 10% Discussing the favoured investment options for retirement planning , the preferences of the three age groups were consistent. A significant 67 per cent of individuals selected savings bank accounts as a primary financial instrument for retirement planning, closely followed by fixed deposits and mutual funds (57 per cent). Unfortunately, the dependence on savings bank accounts for retirement savings showed only slight variations across age groups and regions. Milestone Alert Livemint tops charts as the fastest growing news website in the world 🌏  to know more. Unlock a world of Benefits From insightful newsletters to real-time stock tracking, breaking news and a personalized newsfeed – it\\'s all here, just a click away Login Now}'"
      ]
     },
     "execution_count": 44,
     "metadata": {},
     "output_type": "execute_result"
    }
   ],
   "source": [
    "content"
   ]
  },
  {
   "cell_type": "code",
   "execution_count": 45,
   "id": "0cf56566-8428-419e-bd13-a4440eab29e5",
   "metadata": {
    "tags": []
   },
   "outputs": [],
   "source": [
    "messages = [{\"role\": \"system\", \"content\": SYSTEM_PROMPT},\n",
    "                    {\"role\": \"user\", \"content\": f\"{content}\\n\"}]\n",
    "context_prompt = tokenizer.decode(tokenizer.apply_chat_template(messages, add_generation_prompt=True))"
   ]
  },
  {
   "cell_type": "code",
   "execution_count": 46,
   "id": "2aa6e1ad-dfc9-443c-be07-4225d6ba8a16",
   "metadata": {
    "tags": []
   },
   "outputs": [],
   "source": [
    "params = {\n",
    "    \"do_sample\": True,\n",
    "    \"top_p\": 0.95,\n",
    "    \"temperature\": 0.5,\n",
    "    \"max_new_tokens\": 1024,\n",
    "    \"repetition_penalty\": 1.02,\n",
    "    \"stop\": [\"###\", \"</s>\", '<|im_end|>']\n",
    "}\n",
    "request = {\"inputs\": context_prompt, \"parameters\": params, \"stream\": False}\n",
    "request['parameters']['adapter_id'] = 'lorax/OpenHermes-2.5-Adapter-Search-ViolinAvocadoNebula'\n",
    "request['parameters']['adapter_source'] = 's3'"
   ]
  },
  {
   "cell_type": "code",
   "execution_count": 47,
   "id": "c1bc6587-9d1b-49b9-8095-98ea79434e54",
   "metadata": {
    "tags": []
   },
   "outputs": [],
   "source": [
    "import time"
   ]
  },
  {
   "cell_type": "code",
   "execution_count": 48,
   "id": "2310a316-e6e5-4f14-b222-0b1b6411d8a6",
   "metadata": {
    "tags": []
   },
   "outputs": [
    {
     "name": "stdout",
     "output_type": "stream",
     "text": [
      "done in 29.017647981643677\n"
     ]
    }
   ],
   "source": [
    "t = time.time()\n",
    "import json\n",
    "response = sagemaker_runtime.invoke_endpoint(\n",
    "            EndpointName='LORAX-Openhermes',\n",
    "            Body=json.dumps(request),\n",
    "            ContentType=\"application/json\")\n",
    "print(f'done in {time.time() - t}')"
   ]
  },
  {
   "cell_type": "code",
   "execution_count": 49,
   "id": "acb19226-ac4a-4398-b8d6-d2ccd222fcb2",
   "metadata": {
    "tags": []
   },
   "outputs": [],
   "source": [
    "k = response['Body'].read()"
   ]
  },
  {
   "cell_type": "code",
   "execution_count": 50,
   "id": "ea097282-41bc-41e8-8c19-84b5633c740a",
   "metadata": {
    "tags": []
   },
   "outputs": [
    {
     "data": {
      "text/plain": [
       "'\"**Step-by-Step Guide to Effective Retirement Planning**<br><br>Planning for retirement is crucial for ensuring financial security and peace of mind in your golden years. Here\\'s a structured approach to help you navigate the process effectively.<br><br>**Introduction:**<br>Retirement planning involves assessing your current financial situation, setting retirement goals, and choosing the right investment options to fund your post-retirement life.<br><br>**Step 1: Determine Your Retirement Age**<br>Choose the age at which you wish to retire. This will help you estimate the time you have to accumulate your retirement fund.<br><br>**Step 2: Calculate Your Retirement Corpus**<br>Consider your current expenses and project them into your retirement years, accounting for inflation. This will give you an idea of the size of the retirement fund you need to maintain your desired lifestyle.<br><br>**Step 3: Evaluate Your Current Financial Situation**<br>Analyze your income, assets, liabilities, and savings. This step is crucial for understanding how much you can afford to allocate towards retirement planning.<br><br>**Step 4: Choose the Right Investment Options**<br>Based on your risk tolerance and investment horizon, select the appropriate investment vehicles. Mutual funds, PPF, NPS, and fixed deposits are common choices for retirement planning.<br><br>**Step 5: Start Saving and Regularly Review Your Plan**<br>Begin saving towards your retirement corpus and periodically review your plan to make necessary adjustments as you move closer to retirement.<br><br>**Conclusion:**<br>Retirement planning is an ongoing process that requires careful consideration and regular review. By following these steps, you can build a solid foundation for your retirement years, ensuring financial security and peace of mind.\"'"
      ]
     },
     "execution_count": 50,
     "metadata": {},
     "output_type": "execute_result"
    }
   ],
   "source": [
    "json.loads(json.loads(k)[0]['generated_text'])"
   ]
  },
  {
   "cell_type": "code",
   "execution_count": 36,
   "id": "175aa139-0fd3-48ac-9ab6-ab8fe90a5f33",
   "metadata": {
    "tags": []
   },
   "outputs": [
    {
     "data": {
      "text/plain": [
       "417"
      ]
     },
     "execution_count": 36,
     "metadata": {},
     "output_type": "execute_result"
    }
   ],
   "source": [
    "len(tokenizer.encode(''\"**Step-by-Step Guide: Planning for a Dream Wedding**<br><br>Planning for a dream wedding involves a mix of financial planning, investment strategies, and practical considerations. Here\\'s a structured guide to help you navigate through the process:<br><br>1. **Start Early with Savings**: Begin saving for your wedding as soon as possible. The earlier you start, the more time your investments have to grow, potentially increasing your wedding fund significantly.<br><br>2. **Invest in Various Financial Products**: Consider investing in a mix of equity mutual funds, debt mutual funds, and gold ETFs. Allocate a portion of your savings to equity for higher returns over a longer period. Use debt funds for shorter-term savings goals and gold ETFs for the security and lower cost compared to physical gold.<br><br>3. **Establish a Systematic Investment Plan**: Set up a regular investment schedule where you contribute a fixed amount to your mutual fund portfolio. This disciplined approach takes advantage of cost averaging, allowing you to buy more units when prices are low and fewer units when prices are high.<br><br>4. **Evaluate and Adjust Your Investments**: Regularly review the performance of your mutual funds and assess if they are meeting your expectations. If necessary, consider adjusting your investment allocation or switching to different funds that better align with your goals. However, avoid making impulsive decisions based on short-term market fluctuations.<br><br>5. **Use Wedding Loans for Additional Funding**: If your investments fall short of covering all wedding expenses, consider applying for a marriage loan. These loans can cover the remaining costs and are designed to help you fulfill your wedding dreams without depleting your savings entirely.<br><br>By following this guide and taking a strategic approach to financing your wedding, you can ensure that your special day is everything you have dreamed of. Remember, investing in your future requires careful planning and discipline.\"''))"
   ]
  },
  {
   "cell_type": "code",
   "execution_count": null,
   "id": "ef1503f8-7e3d-436a-8706-8a8605d92431",
   "metadata": {},
   "outputs": [],
   "source": []
  }
 ],
 "metadata": {
  "kernelspec": {
   "display_name": "bertopicenv",
   "language": "python",
   "name": "bertopicenv"
  },
  "language_info": {
   "codemirror_mode": {
    "name": "ipython",
    "version": 3
   },
   "file_extension": ".py",
   "mimetype": "text/x-python",
   "name": "python",
   "nbconvert_exporter": "python",
   "pygments_lexer": "ipython3",
   "version": "3.9.18"
  }
 },
 "nbformat": 4,
 "nbformat_minor": 5
}
