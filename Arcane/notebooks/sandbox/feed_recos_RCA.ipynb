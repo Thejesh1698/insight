{
 "cells": [
  {
   "cell_type": "code",
   "execution_count": 1,
   "id": "86387580-d67c-41ed-8252-54ae53927bc0",
   "metadata": {
    "tags": []
   },
   "outputs": [
    {
     "name": "stderr",
     "output_type": "stream",
     "text": [
      "/Users/username/anaconda3/envs/recoenv/lib/python3.11/site-packages/umap/distances.py:1063: NumbaDeprecationWarning: \u001b[1mThe 'nopython' keyword argument was not supplied to the 'numba.jit' decorator. The implicit default value for this argument is currently False, but it will be changed to True in Numba 0.59.0. See https://numba.readthedocs.io/en/stable/reference/deprecation.html#deprecation-of-object-mode-fall-back-behaviour-when-using-jit for details.\u001b[0m\n",
      "  @numba.jit()\n",
      "/Users/username/anaconda3/envs/recoenv/lib/python3.11/site-packages/umap/distances.py:1071: NumbaDeprecationWarning: \u001b[1mThe 'nopython' keyword argument was not supplied to the 'numba.jit' decorator. The implicit default value for this argument is currently False, but it will be changed to True in Numba 0.59.0. See https://numba.readthedocs.io/en/stable/reference/deprecation.html#deprecation-of-object-mode-fall-back-behaviour-when-using-jit for details.\u001b[0m\n",
      "  @numba.jit()\n",
      "/Users/username/anaconda3/envs/recoenv/lib/python3.11/site-packages/umap/distances.py:1086: NumbaDeprecationWarning: \u001b[1mThe 'nopython' keyword argument was not supplied to the 'numba.jit' decorator. The implicit default value for this argument is currently False, but it will be changed to True in Numba 0.59.0. See https://numba.readthedocs.io/en/stable/reference/deprecation.html#deprecation-of-object-mode-fall-back-behaviour-when-using-jit for details.\u001b[0m\n",
      "  @numba.jit()\n",
      "/Users/username/anaconda3/envs/recoenv/lib/python3.11/site-packages/umap/umap_.py:660: NumbaDeprecationWarning: \u001b[1mThe 'nopython' keyword argument was not supplied to the 'numba.jit' decorator. The implicit default value for this argument is currently False, but it will be changed to True in Numba 0.59.0. See https://numba.readthedocs.io/en/stable/reference/deprecation.html#deprecation-of-object-mode-fall-back-behaviour-when-using-jit for details.\u001b[0m\n",
      "  @numba.jit()\n"
     ]
    }
   ],
   "source": [
    "parent_folder = '/Users/username/Desktop/ML/Recommendations/arcane/'\n",
    "from hydra import compose, initialize\n",
    "import os\n",
    "\n",
    "import xml.etree.ElementTree as ET\n",
    "\n",
    "tree = ET.parse('../../conf/application.run.xml')\n",
    "root = tree.getroot()\n",
    "\n",
    "envs_element = root.find('./configuration/envs')\n",
    "for variable in envs_element.findall('env'):\n",
    "    name = variable.get('name')\n",
    "    value = variable.get('value')\n",
    "    os.environ[name] = value\n",
    "\n",
    "import sys\n",
    "sys.path.append('/Users/username/Desktop/ML/Recommendations/arcane/')\n",
    "\n",
    "from src._utils import load_bertopic_model_from_hf"
   ]
  },
  {
   "cell_type": "code",
   "execution_count": 2,
   "id": "06af5874-54ff-4b23-b04d-8f0dcd1b2233",
   "metadata": {
    "tags": []
   },
   "outputs": [],
   "source": [
    "from sql.PostgresDatabaseOperation import PostgresDatabaseOperation"
   ]
  },
  {
   "cell_type": "code",
   "execution_count": 3,
   "id": "c4266098-fa58-48ba-b70b-5c69d9cf894c",
   "metadata": {
    "tags": []
   },
   "outputs": [],
   "source": [
    "with PostgresDatabaseOperation() as cursor:\n",
    "    sql = '''SELECT feed_id, uai.article_id, acm.cluster_id, parent_name, uai.created_at \n",
    "    FROM user_article_interactions uai \n",
    "    LEFT JOIN article_to_cluster_mapping acm ON uai.article_id = acm.article_id\n",
    "    LEFT JOIN cluster_hierarchy ch ON acm.cluster_id = ch.parent_id\n",
    "    WHERE user_id = 40 AND uai.created_at > '2023-11-07'\n",
    "    '''\n",
    "    cursor.execute(sql)\n",
    "    results = cursor.fetchall()"
   ]
  },
  {
   "cell_type": "code",
   "execution_count": 4,
   "id": "6d45ff02-7899-4cc7-8f36-7614063f2273",
   "metadata": {
    "tags": []
   },
   "outputs": [],
   "source": [
    "import pandas as pd"
   ]
  },
  {
   "cell_type": "code",
   "execution_count": 5,
   "id": "7496e9a5-66bb-45ef-9108-5a57b904c1be",
   "metadata": {
    "tags": []
   },
   "outputs": [],
   "source": [
    "df = pd.DataFrame(results, columns = ['feed_id', 'article_id', 'cluster_id', 'cluster_name', 'created_at'])"
   ]
  },
  {
   "cell_type": "code",
   "execution_count": 6,
   "id": "d3b297eb-f6cc-4ee4-bf3f-e71513ee5198",
   "metadata": {
    "tags": []
   },
   "outputs": [
    {
     "data": {
      "text/html": [
       "<div>\n",
       "<style scoped>\n",
       "    .dataframe tbody tr th:only-of-type {\n",
       "        vertical-align: middle;\n",
       "    }\n",
       "\n",
       "    .dataframe tbody tr th {\n",
       "        vertical-align: top;\n",
       "    }\n",
       "\n",
       "    .dataframe thead th {\n",
       "        text-align: right;\n",
       "    }\n",
       "</style>\n",
       "<table border=\"1\" class=\"dataframe\">\n",
       "  <thead>\n",
       "    <tr style=\"text-align: right;\">\n",
       "      <th></th>\n",
       "      <th>feed_id</th>\n",
       "      <th>article_id</th>\n",
       "      <th>cluster_id</th>\n",
       "      <th>cluster_name</th>\n",
       "      <th>created_at</th>\n",
       "    </tr>\n",
       "  </thead>\n",
       "  <tbody>\n",
       "    <tr>\n",
       "      <th>0</th>\n",
       "      <td>578</td>\n",
       "      <td>652fcfad1e5cc42b1b13a357</td>\n",
       "      <td>316</td>\n",
       "      <td>loan_card_insurance_credit card_score</td>\n",
       "      <td>2023-11-07 11:30:08.555677</td>\n",
       "    </tr>\n",
       "    <tr>\n",
       "      <th>1</th>\n",
       "      <td>577</td>\n",
       "      <td>652fd1791e5cc42b1b13a43a</td>\n",
       "      <td>310</td>\n",
       "      <td>sebi_commodity_fo_ban_contracts</td>\n",
       "      <td>2023-11-07 11:29:21.176194</td>\n",
       "    </tr>\n",
       "    <tr>\n",
       "      <th>2</th>\n",
       "      <td>577</td>\n",
       "      <td>652fd35d1e5cc42b1b13a529</td>\n",
       "      <td>294</td>\n",
       "      <td>yes bank_yes_yoy_npa_net profit</td>\n",
       "      <td>2023-11-07 11:29:05.357844</td>\n",
       "    </tr>\n",
       "    <tr>\n",
       "      <th>3</th>\n",
       "      <td>577</td>\n",
       "      <td>652cacea50af0e25a91230ca</td>\n",
       "      <td>294</td>\n",
       "      <td>yes bank_yes_yoy_npa_net profit</td>\n",
       "      <td>2023-11-07 11:30:00.050633</td>\n",
       "    </tr>\n",
       "    <tr>\n",
       "      <th>4</th>\n",
       "      <td>578</td>\n",
       "      <td>65309bf51e5cc42b1b13a5f8</td>\n",
       "      <td>175</td>\n",
       "      <td>lt_lt stock_price lt_data lt_net change</td>\n",
       "      <td>2023-11-07 11:30:13.196002</td>\n",
       "    </tr>\n",
       "    <tr>\n",
       "      <th>5</th>\n",
       "      <td>577</td>\n",
       "      <td>6531693d1e5cc42b1b13d761</td>\n",
       "      <td>316</td>\n",
       "      <td>loan_card_insurance_credit card_score</td>\n",
       "      <td>2023-11-07 11:29:05.359223</td>\n",
       "    </tr>\n",
       "    <tr>\n",
       "      <th>6</th>\n",
       "      <td>577</td>\n",
       "      <td>653168fc1e5cc42b1b13c720</td>\n",
       "      <td>264</td>\n",
       "      <td>airline_aircraft_air_aviation_airlines</td>\n",
       "      <td>2023-11-07 11:28:58.096475</td>\n",
       "    </tr>\n",
       "    <tr>\n",
       "      <th>7</th>\n",
       "      <td>578</td>\n",
       "      <td>65316d4a1e5cc42b1b13e22c</td>\n",
       "      <td>266</td>\n",
       "      <td>people_bjp_congress_party_drugs</td>\n",
       "      <td>2023-11-07 11:30:05.238066</td>\n",
       "    </tr>\n",
       "    <tr>\n",
       "      <th>8</th>\n",
       "      <td>577</td>\n",
       "      <td>65316f411e5cc42b1b13f5e4</td>\n",
       "      <td>310</td>\n",
       "      <td>sebi_commodity_fo_ban_contracts</td>\n",
       "      <td>2023-11-07 11:29:33.689144</td>\n",
       "    </tr>\n",
       "    <tr>\n",
       "      <th>9</th>\n",
       "      <td>578</td>\n",
       "      <td>65316f541e5cc42b1b13f9d1</td>\n",
       "      <td>198</td>\n",
       "      <td>live blog_blog_price live_52 week_2023 mint</td>\n",
       "      <td>2023-11-07 11:30:10.895546</td>\n",
       "    </tr>\n",
       "    <tr>\n",
       "      <th>10</th>\n",
       "      <td>577</td>\n",
       "      <td>65316f971e5cc42b1b140a1e</td>\n",
       "      <td>310</td>\n",
       "      <td>sebi_commodity_fo_ban_contracts</td>\n",
       "      <td>2023-11-07 11:29:05.356375</td>\n",
       "    </tr>\n",
       "    <tr>\n",
       "      <th>11</th>\n",
       "      <td>577</td>\n",
       "      <td>65316fb91e5cc42b1b14153a</td>\n",
       "      <td>310</td>\n",
       "      <td>sebi_commodity_fo_ban_contracts</td>\n",
       "      <td>2023-11-07 11:29:50.876178</td>\n",
       "    </tr>\n",
       "    <tr>\n",
       "      <th>12</th>\n",
       "      <td>577</td>\n",
       "      <td>65316fc11e5cc42b1b14180a</td>\n",
       "      <td>310</td>\n",
       "      <td>sebi_commodity_fo_ban_contracts</td>\n",
       "      <td>2023-11-07 11:28:57.678971</td>\n",
       "    </tr>\n",
       "    <tr>\n",
       "      <th>13</th>\n",
       "      <td>578</td>\n",
       "      <td>65316fe21e5cc42b1b142440</td>\n",
       "      <td>250</td>\n",
       "      <td>tech_mahindra_mm_hcl_hcl tech</td>\n",
       "      <td>2023-11-07 11:30:07.370669</td>\n",
       "    </tr>\n",
       "    <tr>\n",
       "      <th>14</th>\n",
       "      <td>578</td>\n",
       "      <td>65316ff11e5cc42b1b142aaf</td>\n",
       "      <td>266</td>\n",
       "      <td>people_bjp_congress_party_drugs</td>\n",
       "      <td>2023-11-07 11:30:05.236513</td>\n",
       "    </tr>\n",
       "    <tr>\n",
       "      <th>15</th>\n",
       "      <td>578</td>\n",
       "      <td>65316ffd1e5cc42b1b142f53</td>\n",
       "      <td>175</td>\n",
       "      <td>lt_lt stock_price lt_data lt_net change</td>\n",
       "      <td>2023-11-07 11:30:09.715888</td>\n",
       "    </tr>\n",
       "    <tr>\n",
       "      <th>16</th>\n",
       "      <td>578</td>\n",
       "      <td>65316ffa1e5cc42b1b142e6e</td>\n",
       "      <td>250</td>\n",
       "      <td>tech_mahindra_mm_hcl_hcl tech</td>\n",
       "      <td>2023-11-07 11:30:05.239238</td>\n",
       "    </tr>\n",
       "    <tr>\n",
       "      <th>17</th>\n",
       "      <td>577</td>\n",
       "      <td>65367fdd1e5cc42b1b143c4f</td>\n",
       "      <td>294</td>\n",
       "      <td>yes bank_yes_yoy_npa_net profit</td>\n",
       "      <td>2023-11-07 11:29:04.716233</td>\n",
       "    </tr>\n",
       "  </tbody>\n",
       "</table>\n",
       "</div>"
      ],
      "text/plain": [
       "    feed_id                article_id  cluster_id  \\\n",
       "0       578  652fcfad1e5cc42b1b13a357         316   \n",
       "1       577  652fd1791e5cc42b1b13a43a         310   \n",
       "2       577  652fd35d1e5cc42b1b13a529         294   \n",
       "3       577  652cacea50af0e25a91230ca         294   \n",
       "4       578  65309bf51e5cc42b1b13a5f8         175   \n",
       "5       577  6531693d1e5cc42b1b13d761         316   \n",
       "6       577  653168fc1e5cc42b1b13c720         264   \n",
       "7       578  65316d4a1e5cc42b1b13e22c         266   \n",
       "8       577  65316f411e5cc42b1b13f5e4         310   \n",
       "9       578  65316f541e5cc42b1b13f9d1         198   \n",
       "10      577  65316f971e5cc42b1b140a1e         310   \n",
       "11      577  65316fb91e5cc42b1b14153a         310   \n",
       "12      577  65316fc11e5cc42b1b14180a         310   \n",
       "13      578  65316fe21e5cc42b1b142440         250   \n",
       "14      578  65316ff11e5cc42b1b142aaf         266   \n",
       "15      578  65316ffd1e5cc42b1b142f53         175   \n",
       "16      578  65316ffa1e5cc42b1b142e6e         250   \n",
       "17      577  65367fdd1e5cc42b1b143c4f         294   \n",
       "\n",
       "                                   cluster_name                 created_at  \n",
       "0         loan_card_insurance_credit card_score 2023-11-07 11:30:08.555677  \n",
       "1               sebi_commodity_fo_ban_contracts 2023-11-07 11:29:21.176194  \n",
       "2               yes bank_yes_yoy_npa_net profit 2023-11-07 11:29:05.357844  \n",
       "3               yes bank_yes_yoy_npa_net profit 2023-11-07 11:30:00.050633  \n",
       "4       lt_lt stock_price lt_data lt_net change 2023-11-07 11:30:13.196002  \n",
       "5         loan_card_insurance_credit card_score 2023-11-07 11:29:05.359223  \n",
       "6        airline_aircraft_air_aviation_airlines 2023-11-07 11:28:58.096475  \n",
       "7               people_bjp_congress_party_drugs 2023-11-07 11:30:05.238066  \n",
       "8               sebi_commodity_fo_ban_contracts 2023-11-07 11:29:33.689144  \n",
       "9   live blog_blog_price live_52 week_2023 mint 2023-11-07 11:30:10.895546  \n",
       "10              sebi_commodity_fo_ban_contracts 2023-11-07 11:29:05.356375  \n",
       "11              sebi_commodity_fo_ban_contracts 2023-11-07 11:29:50.876178  \n",
       "12              sebi_commodity_fo_ban_contracts 2023-11-07 11:28:57.678971  \n",
       "13                tech_mahindra_mm_hcl_hcl tech 2023-11-07 11:30:07.370669  \n",
       "14              people_bjp_congress_party_drugs 2023-11-07 11:30:05.236513  \n",
       "15      lt_lt stock_price lt_data lt_net change 2023-11-07 11:30:09.715888  \n",
       "16                tech_mahindra_mm_hcl_hcl tech 2023-11-07 11:30:05.239238  \n",
       "17              yes bank_yes_yoy_npa_net profit 2023-11-07 11:29:04.716233  "
      ]
     },
     "execution_count": 6,
     "metadata": {},
     "output_type": "execute_result"
    }
   ],
   "source": [
    "df"
   ]
  },
  {
   "cell_type": "code",
   "execution_count": 7,
   "id": "d73509ac-415b-477d-8604-755fd94a2777",
   "metadata": {
    "tags": []
   },
   "outputs": [],
   "source": [
    "from src.articles.ArticleService import ArticleService"
   ]
  },
  {
   "cell_type": "code",
   "execution_count": 8,
   "id": "21212132-2930-43f5-8db2-f6fb31c22b2f",
   "metadata": {
    "tags": []
   },
   "outputs": [],
   "source": [
    "article_ids = df['article_id'].unique().tolist()"
   ]
  },
  {
   "cell_type": "code",
   "execution_count": 9,
   "id": "d33b9752-593b-409b-b92e-fd802d20b1cd",
   "metadata": {
    "tags": []
   },
   "outputs": [],
   "source": [
    "articles = ArticleService.parallel_get_Articles(article_ids)"
   ]
  },
  {
   "cell_type": "code",
   "execution_count": 10,
   "id": "56e83ee2-2af9-4586-be51-60fcf168dc0f",
   "metadata": {
    "tags": []
   },
   "outputs": [],
   "source": [
    "titles = pd.DataFrame([(art_id, article.title, article.url) for art_id, article in articles.items()], columns = ['article_id', 'title', 'url'])"
   ]
  },
  {
   "cell_type": "code",
   "execution_count": 11,
   "id": "0d1ee19b-e96c-4c7c-ad0a-aa79a9103596",
   "metadata": {
    "tags": []
   },
   "outputs": [],
   "source": [
    "titles['category'] = titles['url'].apply(lambda x: 'wint' if 'wint' in x else 'groww' if 'groww' in x else x.split('.com/')[1].split('/')[0] if 'livemint' in x else None)"
   ]
  },
  {
   "cell_type": "code",
   "execution_count": 12,
   "id": "14d8df27-ae14-4f60-bc57-00ce31cfc88d",
   "metadata": {
    "tags": []
   },
   "outputs": [
    {
     "data": {
      "text/plain": [
       "category\n",
       "budget        1\n",
       "companies     1\n",
       "groww         1\n",
       "industry      1\n",
       "market       10\n",
       "opinion       1\n",
       "wint          3\n",
       "Name: article_id, dtype: int64"
      ]
     },
     "execution_count": 12,
     "metadata": {},
     "output_type": "execute_result"
    }
   ],
   "source": [
    "titles.groupby('category')['article_id'].count()"
   ]
  },
  {
   "cell_type": "code",
   "execution_count": 13,
   "id": "347da059-8183-48af-a5a6-4c37c33b11bb",
   "metadata": {
    "tags": []
   },
   "outputs": [
    {
     "data": {
      "text/plain": [
       "array(['https://www.livemint', 'https://www.wintwealth',\n",
       "       'https://groww.in/blog/state-bank-of-india-quarterly-results-q3-fy22'],\n",
       "      dtype=object)"
      ]
     },
     "execution_count": 13,
     "metadata": {},
     "output_type": "execute_result"
    }
   ],
   "source": [
    "titles.url.apply(lambda x: x.split('.com')[0]).unique()"
   ]
  },
  {
   "cell_type": "code",
   "execution_count": 14,
   "id": "3b2fa69f-f05d-4c94-89bf-0947101e911e",
   "metadata": {
    "tags": []
   },
   "outputs": [],
   "source": [
    "df = pd.merge(df, titles)"
   ]
  },
  {
   "cell_type": "code",
   "execution_count": 15,
   "id": "b0c6bb3a-caad-4376-bad1-cbcc935fb32e",
   "metadata": {
    "tags": []
   },
   "outputs": [
    {
     "data": {
      "text/html": [
       "<div>\n",
       "<style scoped>\n",
       "    .dataframe tbody tr th:only-of-type {\n",
       "        vertical-align: middle;\n",
       "    }\n",
       "\n",
       "    .dataframe tbody tr th {\n",
       "        vertical-align: top;\n",
       "    }\n",
       "\n",
       "    .dataframe thead th {\n",
       "        text-align: right;\n",
       "    }\n",
       "</style>\n",
       "<table border=\"1\" class=\"dataframe\">\n",
       "  <thead>\n",
       "    <tr style=\"text-align: right;\">\n",
       "      <th></th>\n",
       "      <th>feed_id</th>\n",
       "      <th>article_id</th>\n",
       "      <th>cluster_id</th>\n",
       "      <th>cluster_name</th>\n",
       "      <th>created_at</th>\n",
       "      <th>title</th>\n",
       "      <th>url</th>\n",
       "      <th>category</th>\n",
       "    </tr>\n",
       "  </thead>\n",
       "  <tbody>\n",
       "    <tr>\n",
       "      <th>0</th>\n",
       "      <td>578</td>\n",
       "      <td>652fcfad1e5cc42b1b13a357</td>\n",
       "      <td>316</td>\n",
       "      <td>loan_card_insurance_credit card_score</td>\n",
       "      <td>2023-11-07 11:30:08.555677</td>\n",
       "      <td>How to Expand Your Operations with a Business ...</td>\n",
       "      <td>https://www.wintwealth.com/blog/how-to-expand-...</td>\n",
       "      <td>wint</td>\n",
       "    </tr>\n",
       "    <tr>\n",
       "      <th>1</th>\n",
       "      <td>577</td>\n",
       "      <td>652fd1791e5cc42b1b13a43a</td>\n",
       "      <td>310</td>\n",
       "      <td>sebi_commodity_fo_ban_contracts</td>\n",
       "      <td>2023-11-07 11:29:21.176194</td>\n",
       "      <td>Stock Market Trading: Meaning, History, Types ...</td>\n",
       "      <td>https://www.wintwealth.com/blog/stock-market-t...</td>\n",
       "      <td>wint</td>\n",
       "    </tr>\n",
       "    <tr>\n",
       "      <th>2</th>\n",
       "      <td>577</td>\n",
       "      <td>652fd35d1e5cc42b1b13a529</td>\n",
       "      <td>294</td>\n",
       "      <td>yes bank_yes_yoy_npa_net profit</td>\n",
       "      <td>2023-11-07 11:29:05.357844</td>\n",
       "      <td>Indiabulls Housing Finance September 2023 Publ...</td>\n",
       "      <td>https://www.wintwealth.com/blog/indiabulls-hou...</td>\n",
       "      <td>wint</td>\n",
       "    </tr>\n",
       "    <tr>\n",
       "      <th>3</th>\n",
       "      <td>577</td>\n",
       "      <td>652cacea50af0e25a91230ca</td>\n",
       "      <td>294</td>\n",
       "      <td>yes bank_yes_yoy_npa_net profit</td>\n",
       "      <td>2023-11-07 11:30:00.050633</td>\n",
       "      <td>Punjab National Bank Share Price Live blog for...</td>\n",
       "      <td>https://www.livemint.com/market/live-blog/punj...</td>\n",
       "      <td>market</td>\n",
       "    </tr>\n",
       "    <tr>\n",
       "      <th>4</th>\n",
       "      <td>578</td>\n",
       "      <td>65309bf51e5cc42b1b13a5f8</td>\n",
       "      <td>175</td>\n",
       "      <td>lt_lt stock_price lt_data lt_net change</td>\n",
       "      <td>2023-11-07 11:30:13.196002</td>\n",
       "      <td>L&amp;T Technology Share Price Live blog for 19 Oc...</td>\n",
       "      <td>https://www.livemint.com/market/live-blog/lt-t...</td>\n",
       "      <td>market</td>\n",
       "    </tr>\n",
       "    <tr>\n",
       "      <th>5</th>\n",
       "      <td>577</td>\n",
       "      <td>6531693d1e5cc42b1b13d761</td>\n",
       "      <td>316</td>\n",
       "      <td>loan_card_insurance_credit card_score</td>\n",
       "      <td>2023-11-07 11:29:05.359223</td>\n",
       "      <td>UPI transactions surged to 9.3 billion in June...</td>\n",
       "      <td>https://www.livemint.com/industry/banking/upi-...</td>\n",
       "      <td>industry</td>\n",
       "    </tr>\n",
       "    <tr>\n",
       "      <th>6</th>\n",
       "      <td>577</td>\n",
       "      <td>653168fc1e5cc42b1b13c720</td>\n",
       "      <td>264</td>\n",
       "      <td>airline_aircraft_air_aviation_airlines</td>\n",
       "      <td>2023-11-07 11:28:58.096475</td>\n",
       "      <td>Airlines carry record 12.9 million passengers ...</td>\n",
       "      <td>https://www.livemint.com/companies/news/airlin...</td>\n",
       "      <td>companies</td>\n",
       "    </tr>\n",
       "    <tr>\n",
       "      <th>7</th>\n",
       "      <td>578</td>\n",
       "      <td>65316d4a1e5cc42b1b13e22c</td>\n",
       "      <td>266</td>\n",
       "      <td>people_bjp_congress_party_drugs</td>\n",
       "      <td>2023-11-07 11:30:05.238066</td>\n",
       "      <td>A tragedy of commons shouldn’t need a tipping ...</td>\n",
       "      <td>https://www.livemint.com/opinion/online-views/...</td>\n",
       "      <td>opinion</td>\n",
       "    </tr>\n",
       "    <tr>\n",
       "      <th>8</th>\n",
       "      <td>577</td>\n",
       "      <td>65316f411e5cc42b1b13f5e4</td>\n",
       "      <td>310</td>\n",
       "      <td>sebi_commodity_fo_ban_contracts</td>\n",
       "      <td>2023-11-07 11:29:33.689144</td>\n",
       "      <td>GMR Infra, 6 others placed under F&amp;O ban on NS...</td>\n",
       "      <td>https://www.livemint.com/market/stock-market-n...</td>\n",
       "      <td>market</td>\n",
       "    </tr>\n",
       "    <tr>\n",
       "      <th>9</th>\n",
       "      <td>578</td>\n",
       "      <td>65316f541e5cc42b1b13f9d1</td>\n",
       "      <td>198</td>\n",
       "      <td>live blog_blog_price live_52 week_2023 mint</td>\n",
       "      <td>2023-11-07 11:30:10.895546</td>\n",
       "      <td>ICICI securities initiates buy call on KFIN Te...</td>\n",
       "      <td>https://www.livemint.com/market/stock-market-n...</td>\n",
       "      <td>market</td>\n",
       "    </tr>\n",
       "    <tr>\n",
       "      <th>10</th>\n",
       "      <td>577</td>\n",
       "      <td>65316f971e5cc42b1b140a1e</td>\n",
       "      <td>310</td>\n",
       "      <td>sebi_commodity_fo_ban_contracts</td>\n",
       "      <td>2023-11-07 11:29:05.356375</td>\n",
       "      <td>PR Sundar settles SEBI advisory case, to not d...</td>\n",
       "      <td>https://www.livemint.com/market/stock-market-n...</td>\n",
       "      <td>market</td>\n",
       "    </tr>\n",
       "    <tr>\n",
       "      <th>11</th>\n",
       "      <td>577</td>\n",
       "      <td>65316fb91e5cc42b1b14153a</td>\n",
       "      <td>310</td>\n",
       "      <td>sebi_commodity_fo_ban_contracts</td>\n",
       "      <td>2023-11-07 11:29:50.876178</td>\n",
       "      <td>Stock market holiday: NSE, BSE to remain close...</td>\n",
       "      <td>https://www.livemint.com/market/stock-market-n...</td>\n",
       "      <td>market</td>\n",
       "    </tr>\n",
       "    <tr>\n",
       "      <th>12</th>\n",
       "      <td>577</td>\n",
       "      <td>65316fc11e5cc42b1b14180a</td>\n",
       "      <td>310</td>\n",
       "      <td>sebi_commodity_fo_ban_contracts</td>\n",
       "      <td>2023-11-07 11:28:57.678971</td>\n",
       "      <td>PR Sundar settles SEBI advisory case, to not d...</td>\n",
       "      <td>https://www.livemint.com/market/stock-market-n...</td>\n",
       "      <td>market</td>\n",
       "    </tr>\n",
       "    <tr>\n",
       "      <th>13</th>\n",
       "      <td>578</td>\n",
       "      <td>65316fe21e5cc42b1b142440</td>\n",
       "      <td>250</td>\n",
       "      <td>tech_mahindra_mm_hcl_hcl tech</td>\n",
       "      <td>2023-11-07 11:30:07.370669</td>\n",
       "      <td>HCL Tech Stocks Dip in Trading Today | Mint</td>\n",
       "      <td>https://www.livemint.com/market/live-blog/hcl-...</td>\n",
       "      <td>market</td>\n",
       "    </tr>\n",
       "    <tr>\n",
       "      <th>14</th>\n",
       "      <td>578</td>\n",
       "      <td>65316ff11e5cc42b1b142aaf</td>\n",
       "      <td>266</td>\n",
       "      <td>people_bjp_congress_party_drugs</td>\n",
       "      <td>2023-11-07 11:30:05.236513</td>\n",
       "      <td>Govt may set up body for medtech research | Mint</td>\n",
       "      <td>https://www.livemint.com/budget/news/budget-ma...</td>\n",
       "      <td>budget</td>\n",
       "    </tr>\n",
       "    <tr>\n",
       "      <th>15</th>\n",
       "      <td>578</td>\n",
       "      <td>65316ffd1e5cc42b1b142f53</td>\n",
       "      <td>175</td>\n",
       "      <td>lt_lt stock_price lt_data lt_net change</td>\n",
       "      <td>2023-11-07 11:30:09.715888</td>\n",
       "      <td>L&amp;T closed today at ₹2188.65, down -1.39% from...</td>\n",
       "      <td>https://www.livemint.com/market/live-blog/lt-s...</td>\n",
       "      <td>market</td>\n",
       "    </tr>\n",
       "    <tr>\n",
       "      <th>16</th>\n",
       "      <td>578</td>\n",
       "      <td>65316ffa1e5cc42b1b142e6e</td>\n",
       "      <td>250</td>\n",
       "      <td>tech_mahindra_mm_hcl_hcl tech</td>\n",
       "      <td>2023-11-07 11:30:05.239238</td>\n",
       "      <td>Hcl Tech closed today at ₹1094.05, up 1.31% fr...</td>\n",
       "      <td>https://www.livemint.com/market/live-blog/hcl-...</td>\n",
       "      <td>market</td>\n",
       "    </tr>\n",
       "    <tr>\n",
       "      <th>17</th>\n",
       "      <td>577</td>\n",
       "      <td>65367fdd1e5cc42b1b143c4f</td>\n",
       "      <td>294</td>\n",
       "      <td>yes bank_yes_yoy_npa_net profit</td>\n",
       "      <td>2023-11-07 11:29:04.716233</td>\n",
       "      <td>SBI Q3 Results 2022 - Profit up by 82% at Rs. ...</td>\n",
       "      <td>https://groww.in/blog/state-bank-of-india-quar...</td>\n",
       "      <td>groww</td>\n",
       "    </tr>\n",
       "  </tbody>\n",
       "</table>\n",
       "</div>"
      ],
      "text/plain": [
       "    feed_id                article_id  cluster_id  \\\n",
       "0       578  652fcfad1e5cc42b1b13a357         316   \n",
       "1       577  652fd1791e5cc42b1b13a43a         310   \n",
       "2       577  652fd35d1e5cc42b1b13a529         294   \n",
       "3       577  652cacea50af0e25a91230ca         294   \n",
       "4       578  65309bf51e5cc42b1b13a5f8         175   \n",
       "5       577  6531693d1e5cc42b1b13d761         316   \n",
       "6       577  653168fc1e5cc42b1b13c720         264   \n",
       "7       578  65316d4a1e5cc42b1b13e22c         266   \n",
       "8       577  65316f411e5cc42b1b13f5e4         310   \n",
       "9       578  65316f541e5cc42b1b13f9d1         198   \n",
       "10      577  65316f971e5cc42b1b140a1e         310   \n",
       "11      577  65316fb91e5cc42b1b14153a         310   \n",
       "12      577  65316fc11e5cc42b1b14180a         310   \n",
       "13      578  65316fe21e5cc42b1b142440         250   \n",
       "14      578  65316ff11e5cc42b1b142aaf         266   \n",
       "15      578  65316ffd1e5cc42b1b142f53         175   \n",
       "16      578  65316ffa1e5cc42b1b142e6e         250   \n",
       "17      577  65367fdd1e5cc42b1b143c4f         294   \n",
       "\n",
       "                                   cluster_name                 created_at  \\\n",
       "0         loan_card_insurance_credit card_score 2023-11-07 11:30:08.555677   \n",
       "1               sebi_commodity_fo_ban_contracts 2023-11-07 11:29:21.176194   \n",
       "2               yes bank_yes_yoy_npa_net profit 2023-11-07 11:29:05.357844   \n",
       "3               yes bank_yes_yoy_npa_net profit 2023-11-07 11:30:00.050633   \n",
       "4       lt_lt stock_price lt_data lt_net change 2023-11-07 11:30:13.196002   \n",
       "5         loan_card_insurance_credit card_score 2023-11-07 11:29:05.359223   \n",
       "6        airline_aircraft_air_aviation_airlines 2023-11-07 11:28:58.096475   \n",
       "7               people_bjp_congress_party_drugs 2023-11-07 11:30:05.238066   \n",
       "8               sebi_commodity_fo_ban_contracts 2023-11-07 11:29:33.689144   \n",
       "9   live blog_blog_price live_52 week_2023 mint 2023-11-07 11:30:10.895546   \n",
       "10              sebi_commodity_fo_ban_contracts 2023-11-07 11:29:05.356375   \n",
       "11              sebi_commodity_fo_ban_contracts 2023-11-07 11:29:50.876178   \n",
       "12              sebi_commodity_fo_ban_contracts 2023-11-07 11:28:57.678971   \n",
       "13                tech_mahindra_mm_hcl_hcl tech 2023-11-07 11:30:07.370669   \n",
       "14              people_bjp_congress_party_drugs 2023-11-07 11:30:05.236513   \n",
       "15      lt_lt stock_price lt_data lt_net change 2023-11-07 11:30:09.715888   \n",
       "16                tech_mahindra_mm_hcl_hcl tech 2023-11-07 11:30:05.239238   \n",
       "17              yes bank_yes_yoy_npa_net profit 2023-11-07 11:29:04.716233   \n",
       "\n",
       "                                                title  \\\n",
       "0   How to Expand Your Operations with a Business ...   \n",
       "1   Stock Market Trading: Meaning, History, Types ...   \n",
       "2   Indiabulls Housing Finance September 2023 Publ...   \n",
       "3   Punjab National Bank Share Price Live blog for...   \n",
       "4   L&T Technology Share Price Live blog for 19 Oc...   \n",
       "5   UPI transactions surged to 9.3 billion in June...   \n",
       "6   Airlines carry record 12.9 million passengers ...   \n",
       "7   A tragedy of commons shouldn’t need a tipping ...   \n",
       "8   GMR Infra, 6 others placed under F&O ban on NS...   \n",
       "9   ICICI securities initiates buy call on KFIN Te...   \n",
       "10  PR Sundar settles SEBI advisory case, to not d...   \n",
       "11  Stock market holiday: NSE, BSE to remain close...   \n",
       "12  PR Sundar settles SEBI advisory case, to not d...   \n",
       "13        HCL Tech Stocks Dip in Trading Today | Mint   \n",
       "14   Govt may set up body for medtech research | Mint   \n",
       "15  L&T closed today at ₹2188.65, down -1.39% from...   \n",
       "16  Hcl Tech closed today at ₹1094.05, up 1.31% fr...   \n",
       "17  SBI Q3 Results 2022 - Profit up by 82% at Rs. ...   \n",
       "\n",
       "                                                  url   category  \n",
       "0   https://www.wintwealth.com/blog/how-to-expand-...       wint  \n",
       "1   https://www.wintwealth.com/blog/stock-market-t...       wint  \n",
       "2   https://www.wintwealth.com/blog/indiabulls-hou...       wint  \n",
       "3   https://www.livemint.com/market/live-blog/punj...     market  \n",
       "4   https://www.livemint.com/market/live-blog/lt-t...     market  \n",
       "5   https://www.livemint.com/industry/banking/upi-...   industry  \n",
       "6   https://www.livemint.com/companies/news/airlin...  companies  \n",
       "7   https://www.livemint.com/opinion/online-views/...    opinion  \n",
       "8   https://www.livemint.com/market/stock-market-n...     market  \n",
       "9   https://www.livemint.com/market/stock-market-n...     market  \n",
       "10  https://www.livemint.com/market/stock-market-n...     market  \n",
       "11  https://www.livemint.com/market/stock-market-n...     market  \n",
       "12  https://www.livemint.com/market/stock-market-n...     market  \n",
       "13  https://www.livemint.com/market/live-blog/hcl-...     market  \n",
       "14  https://www.livemint.com/budget/news/budget-ma...     budget  \n",
       "15  https://www.livemint.com/market/live-blog/lt-s...     market  \n",
       "16  https://www.livemint.com/market/live-blog/hcl-...     market  \n",
       "17  https://groww.in/blog/state-bank-of-india-quar...      groww  "
      ]
     },
     "execution_count": 15,
     "metadata": {},
     "output_type": "execute_result"
    }
   ],
   "source": [
    "df"
   ]
  },
  {
   "cell_type": "code",
   "execution_count": 54,
   "id": "bd5cf9a1-d59e-40e1-943d-d5ef175b68a2",
   "metadata": {
    "tags": []
   },
   "outputs": [
    {
     "data": {
      "text/plain": [
       "cluster_name\n",
       "air_flight_airport_air india_india           2\n",
       "bank_rbi_loan_credit_banks                  10\n",
       "coal_steel_mt_coal india_tata steel          2\n",
       "crypto_target price_price rs_bitcoin_buy    11\n",
       "dollar_rupee_paise_dollar rupee_82           2\n",
       "drug_usfda_gets_pharma_gets usfda            4\n",
       "firms_mcap_valued_valued firms_10 valued     2\n",
       "gold_silver_rs_results_profit                4\n",
       "gst_tax_pli_gst council_dpiit                7\n",
       "inflation_growth_rate_fed_fy24               9\n",
       "ipo_adani_papers_papers sebi_power          12\n",
       "irdai_life_insurance_insurers_lic            6\n",
       "oil_gas_ongc_energy_transition               6\n",
       "pension_epfo_higher_eps_eps pension          8\n",
       "projects_cr_fpis_rs_equities                 2\n",
       "stocks_52 week_52_week_nifty                 8\n",
       "trade_exports_uk_fta_india                   3\n",
       "vande_vande bharat_train_railway_bharat      2\n",
       "Name: article_id, dtype: int64"
      ]
     },
     "execution_count": 54,
     "metadata": {},
     "output_type": "execute_result"
    }
   ],
   "source": [
    "df.groupby('cluster_name')['article_id'].count()"
   ]
  },
  {
   "cell_type": "code",
   "execution_count": 57,
   "id": "70b52d9e-9ca3-4cc6-8753-7b25809efbe7",
   "metadata": {
    "tags": []
   },
   "outputs": [
    {
     "data": {
      "text/plain": [
       "feed_id\n",
       "565    1\n",
       "566    3\n",
       "568    4\n",
       "569    2\n",
       "570    5\n",
       "571    5\n",
       "572    1\n",
       "573    3\n",
       "574    8\n",
       "575    6\n",
       "Name: article_id, dtype: int64"
      ]
     },
     "execution_count": 57,
     "metadata": {},
     "output_type": "execute_result"
    }
   ],
   "source": [
    "df[df.category == 'market'].groupby('feed_id')['article_id'].count()"
   ]
  },
  {
   "cell_type": "code",
   "execution_count": 60,
   "id": "9fbdb8d5-ef92-4076-bf9b-21c05fd1b13b",
   "metadata": {
    "tags": []
   },
   "outputs": [
    {
     "data": {
      "text/plain": [
       "38"
      ]
     },
     "execution_count": 60,
     "metadata": {},
     "output_type": "execute_result"
    }
   ],
   "source": [
    "df[df.category == 'market'].article_id.count()"
   ]
  },
  {
   "cell_type": "code",
   "execution_count": 63,
   "id": "c4806c6b-ab88-4cf4-8eb5-6a1f4052144e",
   "metadata": {
    "tags": []
   },
   "outputs": [
    {
     "data": {
      "text/plain": [
       "20"
      ]
     },
     "execution_count": 63,
     "metadata": {},
     "output_type": "execute_result"
    }
   ],
   "source": [
    "len(df[df.feed_id.isin([574, 575])])"
   ]
  },
  {
   "cell_type": "code",
   "execution_count": 61,
   "id": "6ba1557b-216d-4f41-93d4-4dadddd759ee",
   "metadata": {
    "tags": []
   },
   "outputs": [
    {
     "data": {
      "text/plain": [
       "100"
      ]
     },
     "execution_count": 61,
     "metadata": {},
     "output_type": "execute_result"
    }
   ],
   "source": [
    "len(df)"
   ]
  },
  {
   "cell_type": "code",
   "execution_count": 59,
   "id": "bf42d61a-5afb-4c95-b5c7-7e00d8cbeb2d",
   "metadata": {
    "tags": []
   },
   "outputs": [
    {
     "data": {
      "text/plain": [
       "cluster_name\n",
       "coal_steel_mt_coal india_tata steel         1\n",
       "crypto_target price_price rs_bitcoin_buy    7\n",
       "dollar_rupee_paise_dollar rupee_82          2\n",
       "firms_mcap_valued_valued firms_10 valued    2\n",
       "gold_silver_rs_results_profit               2\n",
       "inflation_growth_rate_fed_fy24              3\n",
       "ipo_adani_papers_papers sebi_power          9\n",
       "oil_gas_ongc_energy_transition              3\n",
       "projects_cr_fpis_rs_equities                1\n",
       "stocks_52 week_52_week_nifty                8\n",
       "Name: article_id, dtype: int64"
      ]
     },
     "execution_count": 59,
     "metadata": {},
     "output_type": "execute_result"
    }
   ],
   "source": [
    "df[df.category == 'market'].groupby('cluster_name')['article_id'].count()"
   ]
  },
  {
   "cell_type": "code",
   "execution_count": 56,
   "id": "375550d8-696b-4dba-9cbe-6d241983ea42",
   "metadata": {
    "scrolled": true,
    "tags": []
   },
   "outputs": [
    {
     "data": {
      "text/html": [
       "<div>\n",
       "<style scoped>\n",
       "    .dataframe tbody tr th:only-of-type {\n",
       "        vertical-align: middle;\n",
       "    }\n",
       "\n",
       "    .dataframe tbody tr th {\n",
       "        vertical-align: top;\n",
       "    }\n",
       "\n",
       "    .dataframe thead th {\n",
       "        text-align: right;\n",
       "    }\n",
       "</style>\n",
       "<table border=\"1\" class=\"dataframe\">\n",
       "  <thead>\n",
       "    <tr style=\"text-align: right;\">\n",
       "      <th></th>\n",
       "      <th>feed_id</th>\n",
       "      <th>article_id</th>\n",
       "      <th>cluster_id</th>\n",
       "      <th>cluster_name</th>\n",
       "      <th>created_at</th>\n",
       "      <th>title</th>\n",
       "      <th>url</th>\n",
       "      <th>category</th>\n",
       "    </tr>\n",
       "  </thead>\n",
       "  <tbody>\n",
       "    <tr>\n",
       "      <th>30</th>\n",
       "      <td>570</td>\n",
       "      <td>653169111e5cc42b1b13cd32</td>\n",
       "      <td>182</td>\n",
       "      <td>drug_usfda_gets_pharma_gets usfda</td>\n",
       "      <td>2023-11-06 12:10:43.146305</td>\n",
       "      <td>HDFC AMC is launching a fresh edition of its C...</td>\n",
       "      <td>https://www.livemint.com/money/personal-financ...</td>\n",
       "      <td>money</td>\n",
       "    </tr>\n",
       "    <tr>\n",
       "      <th>49</th>\n",
       "      <td>570</td>\n",
       "      <td>65316f171e5cc42b1b13ef0a</td>\n",
       "      <td>126</td>\n",
       "      <td>irdai_life_insurance_insurers_lic</td>\n",
       "      <td>2023-11-06 12:11:01.445066</td>\n",
       "      <td>Best health insurance plans for you | Mint</td>\n",
       "      <td>https://www.livemint.com/Money/bcy1XPInx2ZTgwr...</td>\n",
       "      <td>Money</td>\n",
       "    </tr>\n",
       "    <tr>\n",
       "      <th>56</th>\n",
       "      <td>570</td>\n",
       "      <td>65316f731e5cc42b1b1400ad</td>\n",
       "      <td>191</td>\n",
       "      <td>crypto_target price_price rs_bitcoin_buy</td>\n",
       "      <td>2023-11-06 12:10:46.824794</td>\n",
       "      <td>Bajaj Finserv closed today at ₹1412.8, down -0...</td>\n",
       "      <td>https://www.livemint.com/market/live-blog/baja...</td>\n",
       "      <td>market</td>\n",
       "    </tr>\n",
       "    <tr>\n",
       "      <th>62</th>\n",
       "      <td>570</td>\n",
       "      <td>65316fb61e5cc42b1b141418</td>\n",
       "      <td>192</td>\n",
       "      <td>ipo_adani_papers_papers sebi_power</td>\n",
       "      <td>2023-11-06 12:11:06.804855</td>\n",
       "      <td>Union Bank of India announces fundraising plan...</td>\n",
       "      <td>https://www.livemint.com/market/stock-market-n...</td>\n",
       "      <td>market</td>\n",
       "    </tr>\n",
       "    <tr>\n",
       "      <th>75</th>\n",
       "      <td>570</td>\n",
       "      <td>65316fee1e5cc42b1b14292b</td>\n",
       "      <td>206</td>\n",
       "      <td>inflation_growth_rate_fed_fy24</td>\n",
       "      <td>2023-11-06 12:10:48.027676</td>\n",
       "      <td>Global markets update: US stocks mixed ahead o...</td>\n",
       "      <td>https://www.livemint.com/market/stock-market-n...</td>\n",
       "      <td>market</td>\n",
       "    </tr>\n",
       "    <tr>\n",
       "      <th>76</th>\n",
       "      <td>570</td>\n",
       "      <td>65316ff51e5cc42b1b142c4a</td>\n",
       "      <td>191</td>\n",
       "      <td>crypto_target price_price rs_bitcoin_buy</td>\n",
       "      <td>2023-11-06 12:10:58.544887</td>\n",
       "      <td>Sbi Life share price Today Live Updates : Sbi ...</td>\n",
       "      <td>https://www.livemint.com/market/live-blog/sbi-...</td>\n",
       "      <td>market</td>\n",
       "    </tr>\n",
       "    <tr>\n",
       "      <th>80</th>\n",
       "      <td>570</td>\n",
       "      <td>65367fcb1e5cc42b1b143bd7</td>\n",
       "      <td>126</td>\n",
       "      <td>irdai_life_insurance_insurers_lic</td>\n",
       "      <td>2023-11-06 12:10:46.904295</td>\n",
       "      <td>SBI Life Insurance Q4 FY22 Results - 84.6% Jum...</td>\n",
       "      <td>https://groww.in/blog/sbi-life-insurance-q4-fy...</td>\n",
       "      <td>groww</td>\n",
       "    </tr>\n",
       "    <tr>\n",
       "      <th>86</th>\n",
       "      <td>570</td>\n",
       "      <td>65367ff21e5cc42b1b143d2b</td>\n",
       "      <td>182</td>\n",
       "      <td>drug_usfda_gets_pharma_gets usfda</td>\n",
       "      <td>2023-11-06 12:10:48.024844</td>\n",
       "      <td>Analysis of the Pharma Sector in India</td>\n",
       "      <td>https://groww.in/blog/indian-pharma-sector-ana...</td>\n",
       "      <td>groww</td>\n",
       "    </tr>\n",
       "    <tr>\n",
       "      <th>95</th>\n",
       "      <td>570</td>\n",
       "      <td>65316efb1e5cc42b1b13eb4d</td>\n",
       "      <td>206</td>\n",
       "      <td>inflation_growth_rate_fed_fy24</td>\n",
       "      <td>2023-11-06 12:11:07.465208</td>\n",
       "      <td>RBI signals it’s now at cruising altitude | Mint</td>\n",
       "      <td>https://www.livemint.com/opinion/columns/rbi-s...</td>\n",
       "      <td>opinion</td>\n",
       "    </tr>\n",
       "    <tr>\n",
       "      <th>99</th>\n",
       "      <td>570</td>\n",
       "      <td>653884dc1e5cc42b1b14443d</td>\n",
       "      <td>192</td>\n",
       "      <td>ipo_adani_papers_papers sebi_power</td>\n",
       "      <td>2023-11-06 12:10:43.144520</td>\n",
       "      <td>Powergrid Share Price Live blog for 25 Oct 202...</td>\n",
       "      <td>https://www.livemint.com/market/live-blog/powe...</td>\n",
       "      <td>market</td>\n",
       "    </tr>\n",
       "  </tbody>\n",
       "</table>\n",
       "</div>"
      ],
      "text/plain": [
       "    feed_id                article_id  cluster_id  \\\n",
       "30      570  653169111e5cc42b1b13cd32         182   \n",
       "49      570  65316f171e5cc42b1b13ef0a         126   \n",
       "56      570  65316f731e5cc42b1b1400ad         191   \n",
       "62      570  65316fb61e5cc42b1b141418         192   \n",
       "75      570  65316fee1e5cc42b1b14292b         206   \n",
       "76      570  65316ff51e5cc42b1b142c4a         191   \n",
       "80      570  65367fcb1e5cc42b1b143bd7         126   \n",
       "86      570  65367ff21e5cc42b1b143d2b         182   \n",
       "95      570  65316efb1e5cc42b1b13eb4d         206   \n",
       "99      570  653884dc1e5cc42b1b14443d         192   \n",
       "\n",
       "                                cluster_name                 created_at  \\\n",
       "30         drug_usfda_gets_pharma_gets usfda 2023-11-06 12:10:43.146305   \n",
       "49         irdai_life_insurance_insurers_lic 2023-11-06 12:11:01.445066   \n",
       "56  crypto_target price_price rs_bitcoin_buy 2023-11-06 12:10:46.824794   \n",
       "62        ipo_adani_papers_papers sebi_power 2023-11-06 12:11:06.804855   \n",
       "75            inflation_growth_rate_fed_fy24 2023-11-06 12:10:48.027676   \n",
       "76  crypto_target price_price rs_bitcoin_buy 2023-11-06 12:10:58.544887   \n",
       "80         irdai_life_insurance_insurers_lic 2023-11-06 12:10:46.904295   \n",
       "86         drug_usfda_gets_pharma_gets usfda 2023-11-06 12:10:48.024844   \n",
       "95            inflation_growth_rate_fed_fy24 2023-11-06 12:11:07.465208   \n",
       "99        ipo_adani_papers_papers sebi_power 2023-11-06 12:10:43.144520   \n",
       "\n",
       "                                                title  \\\n",
       "30  HDFC AMC is launching a fresh edition of its C...   \n",
       "49         Best health insurance plans for you | Mint   \n",
       "56  Bajaj Finserv closed today at ₹1412.8, down -0...   \n",
       "62  Union Bank of India announces fundraising plan...   \n",
       "75  Global markets update: US stocks mixed ahead o...   \n",
       "76  Sbi Life share price Today Live Updates : Sbi ...   \n",
       "80  SBI Life Insurance Q4 FY22 Results - 84.6% Jum...   \n",
       "86             Analysis of the Pharma Sector in India   \n",
       "95   RBI signals it’s now at cruising altitude | Mint   \n",
       "99  Powergrid Share Price Live blog for 25 Oct 202...   \n",
       "\n",
       "                                                  url category  \n",
       "30  https://www.livemint.com/money/personal-financ...    money  \n",
       "49  https://www.livemint.com/Money/bcy1XPInx2ZTgwr...    Money  \n",
       "56  https://www.livemint.com/market/live-blog/baja...   market  \n",
       "62  https://www.livemint.com/market/stock-market-n...   market  \n",
       "75  https://www.livemint.com/market/stock-market-n...   market  \n",
       "76  https://www.livemint.com/market/live-blog/sbi-...   market  \n",
       "80  https://groww.in/blog/sbi-life-insurance-q4-fy...    groww  \n",
       "86  https://groww.in/blog/indian-pharma-sector-ana...    groww  \n",
       "95  https://www.livemint.com/opinion/columns/rbi-s...  opinion  \n",
       "99  https://www.livemint.com/market/live-blog/powe...   market  "
      ]
     },
     "execution_count": 56,
     "metadata": {},
     "output_type": "execute_result"
    }
   ],
   "source": [
    "df[df.feed_id == 570]"
   ]
  },
  {
   "cell_type": "code",
   "execution_count": null,
   "id": "54a243f0-843a-4069-b989-68c324251211",
   "metadata": {},
   "outputs": [],
   "source": []
  }
 ],
 "metadata": {
  "kernelspec": {
   "display_name": "recoenv",
   "language": "python",
   "name": "recoenv"
  },
  "language_info": {
   "codemirror_mode": {
    "name": "ipython",
    "version": 3
   },
   "file_extension": ".py",
   "mimetype": "text/x-python",
   "name": "python",
   "nbconvert_exporter": "python",
   "pygments_lexer": "ipython3",
   "version": "3.11.5"
  }
 },
 "nbformat": 4,
 "nbformat_minor": 5
}
