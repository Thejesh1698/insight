{
 "cells": [
  {
   "cell_type": "code",
   "execution_count": 1,
   "id": "e8e2fda7-22b4-43ab-a645-d9145a417feb",
   "metadata": {
    "tags": []
   },
   "outputs": [],
   "source": [
    "parent_folder = '/Users/ravi.tej/Desktop/ML/Recommendations/arcane/'\n",
    "from hydra import compose, initialize\n",
    "import os\n",
    "\n",
    "import xml.etree.ElementTree as ET\n",
    "\n",
    "tree = ET.parse('../../conf/application.run.xml')\n",
    "root = tree.getroot()\n",
    "\n",
    "envs_element = root.find('./configuration/envs')\n",
    "for variable in envs_element.findall('env'):\n",
    "    name = variable.get('name')\n",
    "    value = variable.get('value')\n",
    "    os.environ[name] = value\n",
    "\n",
    "import sys\n",
    "sys.path.append('/Users/ravi.tej/Desktop/ML/Recommendations/arcane/')"
   ]
  },
  {
   "cell_type": "code",
   "execution_count": 1,
   "id": "347f18d8-92ff-4058-b212-c93c7812dda9",
   "metadata": {
    "scrolled": true,
    "tags": []
   },
   "outputs": [
    {
     "name": "stdout",
     "output_type": "stream",
     "text": [
      "Collecting git+https://gitlab.com/shashank.19909/insights-ml.git@seagulls\n",
      "  Cloning https://gitlab.com/shashank.19909/insights-ml.git (to revision seagulls) to /private/var/folders/d4/cgyr_gnj7nn2wy_hq40gkq8c0000gq/T/pip-req-build-k88297v7\n",
      "  Running command git clone --filter=blob:none --quiet https://gitlab.com/shashank.19909/insights-ml.git /private/var/folders/d4/cgyr_gnj7nn2wy_hq40gkq8c0000gq/T/pip-req-build-k88297v7\n",
      "  Running command git checkout -b seagulls --track origin/seagulls\n",
      "  Switched to a new branch 'seagulls'\n",
      "  branch 'seagulls' set up to track 'origin/seagulls'.\n",
      "  Resolved https://gitlab.com/shashank.19909/insights-ml.git to commit 8b3f835981282288b655ab0e327020ebc03ab7ec\n",
      "  Preparing metadata (setup.py) ... \u001b[?25ldone\n",
      "\u001b[?25hRequirement already satisfied: setuptools in /Users/ravi.tej/anaconda3/lib/python3.11/site-packages (from seagulls==0.0.1) (68.0.0)\n",
      "Requirement already satisfied: wheel in /Users/ravi.tej/anaconda3/lib/python3.11/site-packages (from seagulls==0.0.1) (0.38.4)\n",
      "Collecting twine (from seagulls==0.0.1)\n",
      "  Downloading twine-4.0.2-py3-none-any.whl (36 kB)\n",
      "Collecting psycopg2-binary (from seagulls==0.0.1)\n",
      "  Obtaining dependency information for psycopg2-binary from https://files.pythonhosted.org/packages/7a/1f/a6cf0cdf944253f7c45d90fbc876cc8bed5cc9942349306245715c0d88d6/psycopg2_binary-2.9.9-cp311-cp311-macosx_11_0_arm64.whl.metadata\n",
      "  Downloading psycopg2_binary-2.9.9-cp311-cp311-macosx_11_0_arm64.whl.metadata (4.4 kB)\n",
      "Collecting bson (from seagulls==0.0.1)\n",
      "  Downloading bson-0.5.10.tar.gz (10 kB)\n",
      "  Preparing metadata (setup.py) ... \u001b[?25ldone\n",
      "\u001b[?25hRequirement already satisfied: pandas in /Users/ravi.tej/anaconda3/lib/python3.11/site-packages (from seagulls==0.0.1) (1.5.3)\n",
      "Requirement already satisfied: numpy in /Users/ravi.tej/anaconda3/lib/python3.11/site-packages (from seagulls==0.0.1) (1.24.0)\n",
      "Requirement already satisfied: pymongo in /Users/ravi.tej/anaconda3/lib/python3.11/site-packages (from seagulls==0.0.1) (4.5.0)\n",
      "Requirement already satisfied: python-dateutil>=2.4.0 in /Users/ravi.tej/anaconda3/lib/python3.11/site-packages (from bson->seagulls==0.0.1) (2.8.2)\n",
      "Requirement already satisfied: six>=1.9.0 in /Users/ravi.tej/anaconda3/lib/python3.11/site-packages (from bson->seagulls==0.0.1) (1.16.0)\n",
      "Requirement already satisfied: pytz>=2020.1 in /Users/ravi.tej/anaconda3/lib/python3.11/site-packages (from pandas->seagulls==0.0.1) (2022.7)\n",
      "Requirement already satisfied: dnspython<3.0.0,>=1.16.0 in /Users/ravi.tej/anaconda3/lib/python3.11/site-packages (from pymongo->seagulls==0.0.1) (2.4.2)\n",
      "Requirement already satisfied: pkginfo>=1.8.1 in /Users/ravi.tej/anaconda3/lib/python3.11/site-packages (from twine->seagulls==0.0.1) (1.9.6)\n",
      "Collecting readme-renderer>=35.0 (from twine->seagulls==0.0.1)\n",
      "  Obtaining dependency information for readme-renderer>=35.0 from https://files.pythonhosted.org/packages/b5/7e/992e0e21b37cadd668226f75fef0aa81bf21c2426c98bc06a55e514cb323/readme_renderer-42.0-py3-none-any.whl.metadata\n",
      "  Downloading readme_renderer-42.0-py3-none-any.whl.metadata (2.8 kB)\n",
      "Requirement already satisfied: requests>=2.20 in /Users/ravi.tej/anaconda3/lib/python3.11/site-packages (from twine->seagulls==0.0.1) (2.31.0)\n",
      "Requirement already satisfied: requests-toolbelt!=0.9.0,>=0.8.0 in /Users/ravi.tej/anaconda3/lib/python3.11/site-packages (from twine->seagulls==0.0.1) (1.0.0)\n",
      "Requirement already satisfied: urllib3>=1.26.0 in /Users/ravi.tej/anaconda3/lib/python3.11/site-packages (from twine->seagulls==0.0.1) (1.26.16)\n",
      "Requirement already satisfied: importlib-metadata>=3.6 in /Users/ravi.tej/anaconda3/lib/python3.11/site-packages (from twine->seagulls==0.0.1) (6.0.0)\n",
      "Requirement already satisfied: keyring>=15.1 in /Users/ravi.tej/anaconda3/lib/python3.11/site-packages (from twine->seagulls==0.0.1) (23.13.1)\n",
      "Collecting rfc3986>=1.4.0 (from twine->seagulls==0.0.1)\n",
      "  Downloading rfc3986-2.0.0-py2.py3-none-any.whl (31 kB)\n",
      "Collecting rich>=12.0.0 (from twine->seagulls==0.0.1)\n",
      "  Obtaining dependency information for rich>=12.0.0 from https://files.pythonhosted.org/packages/be/be/1520178fa01eabe014b16e72a952b9f900631142ccd03dc36cf93e30c1ce/rich-13.7.0-py3-none-any.whl.metadata\n",
      "  Downloading rich-13.7.0-py3-none-any.whl.metadata (18 kB)\n",
      "Requirement already satisfied: zipp>=0.5 in /Users/ravi.tej/anaconda3/lib/python3.11/site-packages (from importlib-metadata>=3.6->twine->seagulls==0.0.1) (3.11.0)\n",
      "Requirement already satisfied: jaraco.classes in /Users/ravi.tej/anaconda3/lib/python3.11/site-packages (from keyring>=15.1->twine->seagulls==0.0.1) (3.2.1)\n",
      "Collecting nh3>=0.2.14 (from readme-renderer>=35.0->twine->seagulls==0.0.1)\n",
      "  Obtaining dependency information for nh3>=0.2.14 from https://files.pythonhosted.org/packages/9e/ea/6e5b37be087f62ab8341dac0287536a98d2062e57bb80cfd684af94b7a56/nh3-0.2.15-cp37-abi3-macosx_10_12_x86_64.macosx_11_0_arm64.macosx_10_12_universal2.whl.metadata\n",
      "  Downloading nh3-0.2.15-cp37-abi3-macosx_10_12_x86_64.macosx_11_0_arm64.macosx_10_12_universal2.whl.metadata (1.7 kB)\n",
      "Requirement already satisfied: docutils>=0.13.1 in /Users/ravi.tej/anaconda3/lib/python3.11/site-packages (from readme-renderer>=35.0->twine->seagulls==0.0.1) (0.18.1)\n",
      "Requirement already satisfied: Pygments>=2.5.1 in /Users/ravi.tej/anaconda3/lib/python3.11/site-packages (from readme-renderer>=35.0->twine->seagulls==0.0.1) (2.15.1)\n",
      "Requirement already satisfied: charset-normalizer<4,>=2 in /Users/ravi.tej/anaconda3/lib/python3.11/site-packages (from requests>=2.20->twine->seagulls==0.0.1) (2.0.4)\n",
      "Requirement already satisfied: idna<4,>=2.5 in /Users/ravi.tej/anaconda3/lib/python3.11/site-packages (from requests>=2.20->twine->seagulls==0.0.1) (3.4)\n",
      "Requirement already satisfied: certifi>=2017.4.17 in /Users/ravi.tej/anaconda3/lib/python3.11/site-packages (from requests>=2.20->twine->seagulls==0.0.1) (2023.7.22)\n",
      "Requirement already satisfied: markdown-it-py>=2.2.0 in /Users/ravi.tej/anaconda3/lib/python3.11/site-packages (from rich>=12.0.0->twine->seagulls==0.0.1) (2.2.0)\n",
      "Requirement already satisfied: mdurl~=0.1 in /Users/ravi.tej/anaconda3/lib/python3.11/site-packages (from markdown-it-py>=2.2.0->rich>=12.0.0->twine->seagulls==0.0.1) (0.1.0)\n",
      "Requirement already satisfied: more-itertools in /Users/ravi.tej/anaconda3/lib/python3.11/site-packages (from jaraco.classes->keyring>=15.1->twine->seagulls==0.0.1) (8.12.0)\n",
      "Downloading psycopg2_binary-2.9.9-cp311-cp311-macosx_11_0_arm64.whl (2.6 MB)\n",
      "\u001b[2K   \u001b[90m━━━━━━━━━━━━━━━━━━━━━━━━━━━━━━━━━━━━━━━━\u001b[0m \u001b[32m2.6/2.6 MB\u001b[0m \u001b[31m10.0 MB/s\u001b[0m eta \u001b[36m0:00:00\u001b[0m \u001b[36m0:00:01\u001b[0m\n",
      "\u001b[?25hDownloading readme_renderer-42.0-py3-none-any.whl (13 kB)\n",
      "Downloading rich-13.7.0-py3-none-any.whl (240 kB)\n",
      "\u001b[2K   \u001b[90m━━━━━━━━━━━━━━━━━━━━━━━━━━━━━━━━━━━━━━━━\u001b[0m \u001b[32m240.6/240.6 kB\u001b[0m \u001b[31m22.4 MB/s\u001b[0m eta \u001b[36m0:00:00\u001b[0m\n",
      "\u001b[?25hDownloading nh3-0.2.15-cp37-abi3-macosx_10_12_x86_64.macosx_11_0_arm64.macosx_10_12_universal2.whl (1.4 MB)\n",
      "\u001b[2K   \u001b[90m━━━━━━━━━━━━━━━━━━━━━━━━━━━━━━━━━━━━━━━━\u001b[0m \u001b[32m1.4/1.4 MB\u001b[0m \u001b[31m14.7 MB/s\u001b[0m eta \u001b[36m0:00:00\u001b[0ma \u001b[36m0:00:01\u001b[0m\n",
      "\u001b[?25hBuilding wheels for collected packages: seagulls, bson\n",
      "  Building wheel for seagulls (setup.py) ... \u001b[?25ldone\n",
      "\u001b[?25h  Created wheel for seagulls: filename=seagulls-0.0.1-py3-none-any.whl size=7517 sha256=e1f91f6500f2417376030f0e1035ff1a4ae74e1df490093afc7366cecac4f210\n",
      "  Stored in directory: /private/var/folders/d4/cgyr_gnj7nn2wy_hq40gkq8c0000gq/T/pip-ephem-wheel-cache-whu0d9ny/wheels/38/2a/5d/e72a04385afe5a1b726321f1655630786c968822925cb3476b\n",
      "  Building wheel for bson (setup.py) ... \u001b[?25ldone\n",
      "\u001b[?25h  Created wheel for bson: filename=bson-0.5.10-py3-none-any.whl size=11978 sha256=0a92ce7f598415a02ede111986cd34e30667228b5a0d8e30477050c92def4706\n",
      "  Stored in directory: /Users/ravi.tej/Library/Caches/pip/wheels/cb/f3/45/c859e83339943dfe2f43e1c9aaebdc00db321191a6fe120947\n",
      "Successfully built seagulls bson\n",
      "Installing collected packages: nh3, rfc3986, readme-renderer, psycopg2-binary, rich, bson, twine, seagulls\n",
      "Successfully installed bson-0.5.10 nh3-0.2.15 psycopg2-binary-2.9.9 readme-renderer-42.0 rfc3986-2.0.0 rich-13.7.0 seagulls-0.0.1 twine-4.0.2\n"
     ]
    }
   ],
   "source": [
    "!pip install git+https://gitlab.com/shashank.19909/insights-ml.git@seagulls"
   ]
  },
  {
   "cell_type": "code",
   "execution_count": 3,
   "id": "0073b247-20ef-40d2-9998-85617e09be6a",
   "metadata": {
    "tags": []
   },
   "outputs": [],
   "source": [
    "from seagulls.db.postgres.PostgresDatabaseOperation import PostgresDatabaseOperation"
   ]
  },
  {
   "cell_type": "code",
   "execution_count": 6,
   "id": "e660c926-010d-4756-92c5-24f567fc6ba8",
   "metadata": {
    "tags": []
   },
   "outputs": [
    {
     "ename": "ImportError",
     "evalue": "cannot import name '_get_object_size' from 'bson' (/Users/ravi.tej/anaconda3/lib/python3.11/site-packages/bson/__init__.py)",
     "output_type": "error",
     "traceback": [
      "\u001b[0;31m---------------------------------------------------------------------------\u001b[0m",
      "\u001b[0;31mImportError\u001b[0m                               Traceback (most recent call last)",
      "Cell \u001b[0;32mIn[6], line 1\u001b[0m\n\u001b[0;32m----> 1\u001b[0m \u001b[38;5;28;01mfrom\u001b[39;00m \u001b[38;5;21;01mseagulls\u001b[39;00m\u001b[38;5;21;01m.\u001b[39;00m\u001b[38;5;21;01mdb\u001b[39;00m\u001b[38;5;21;01m.\u001b[39;00m\u001b[38;5;21;01mmongo\u001b[39;00m\u001b[38;5;21;01m.\u001b[39;00m\u001b[38;5;21;01mMongoDatabaseOperation\u001b[39;00m \u001b[38;5;28;01mimport\u001b[39;00m MongoDatabaseOperation\n",
      "File \u001b[0;32m~/anaconda3/lib/python3.11/site-packages/seagulls/db/mongo/MongoDatabaseOperation.py:3\u001b[0m\n\u001b[1;32m      1\u001b[0m \u001b[38;5;28;01mimport\u001b[39;00m \u001b[38;5;21;01mos\u001b[39;00m\n\u001b[1;32m      2\u001b[0m \u001b[38;5;28;01mimport\u001b[39;00m \u001b[38;5;21;01mpandas\u001b[39;00m \u001b[38;5;28;01mas\u001b[39;00m \u001b[38;5;21;01mpd\u001b[39;00m\n\u001b[0;32m----> 3\u001b[0m \u001b[38;5;28;01mfrom\u001b[39;00m \u001b[38;5;21;01mpymongo\u001b[39;00m \u001b[38;5;28;01mimport\u001b[39;00m MongoClient\n\u001b[1;32m      4\u001b[0m \u001b[38;5;28;01mfrom\u001b[39;00m \u001b[38;5;21;01mbson\u001b[39;00m \u001b[38;5;28;01mimport\u001b[39;00m ObjectId\n\u001b[1;32m      5\u001b[0m \u001b[38;5;28;01mfrom\u001b[39;00m \u001b[38;5;21;01mseagulls\u001b[39;00m\u001b[38;5;21;01m.\u001b[39;00m\u001b[38;5;21;01mdb\u001b[39;00m\u001b[38;5;21;01m.\u001b[39;00m\u001b[38;5;21;01mmongo\u001b[39;00m\u001b[38;5;21;01m.\u001b[39;00m\u001b[38;5;21;01mMongoDatabaseConnection\u001b[39;00m \u001b[38;5;28;01mimport\u001b[39;00m MongoDatabaseConnection\n",
      "File \u001b[0;32m~/anaconda3/lib/python3.11/site-packages/pymongo/__init__.py:89\u001b[0m\n\u001b[1;32m     87\u001b[0m \u001b[38;5;28;01mfrom\u001b[39;00m \u001b[38;5;21;01mpymongo\u001b[39;00m \u001b[38;5;28;01mimport\u001b[39;00m _csot\n\u001b[1;32m     88\u001b[0m \u001b[38;5;28;01mfrom\u001b[39;00m \u001b[38;5;21;01mpymongo\u001b[39;00m\u001b[38;5;21;01m.\u001b[39;00m\u001b[38;5;21;01m_version\u001b[39;00m \u001b[38;5;28;01mimport\u001b[39;00m __version__, get_version_string, version_tuple\n\u001b[0;32m---> 89\u001b[0m \u001b[38;5;28;01mfrom\u001b[39;00m \u001b[38;5;21;01mpymongo\u001b[39;00m\u001b[38;5;21;01m.\u001b[39;00m\u001b[38;5;21;01mcollection\u001b[39;00m \u001b[38;5;28;01mimport\u001b[39;00m ReturnDocument\n\u001b[1;32m     90\u001b[0m \u001b[38;5;28;01mfrom\u001b[39;00m \u001b[38;5;21;01mpymongo\u001b[39;00m\u001b[38;5;21;01m.\u001b[39;00m\u001b[38;5;21;01mcommon\u001b[39;00m \u001b[38;5;28;01mimport\u001b[39;00m MAX_SUPPORTED_WIRE_VERSION, MIN_SUPPORTED_WIRE_VERSION\n\u001b[1;32m     91\u001b[0m \u001b[38;5;28;01mfrom\u001b[39;00m \u001b[38;5;21;01mpymongo\u001b[39;00m\u001b[38;5;21;01m.\u001b[39;00m\u001b[38;5;21;01mcursor\u001b[39;00m \u001b[38;5;28;01mimport\u001b[39;00m CursorType\n",
      "File \u001b[0;32m~/anaconda3/lib/python3.11/site-packages/pymongo/collection.py:42\u001b[0m\n\u001b[1;32m     40\u001b[0m \u001b[38;5;28;01mfrom\u001b[39;00m \u001b[38;5;21;01mbson\u001b[39;00m\u001b[38;5;21;01m.\u001b[39;00m\u001b[38;5;21;01mcodec_options\u001b[39;00m \u001b[38;5;28;01mimport\u001b[39;00m DEFAULT_CODEC_OPTIONS, CodecOptions\n\u001b[1;32m     41\u001b[0m \u001b[38;5;28;01mfrom\u001b[39;00m \u001b[38;5;21;01mbson\u001b[39;00m\u001b[38;5;21;01m.\u001b[39;00m\u001b[38;5;21;01mobjectid\u001b[39;00m \u001b[38;5;28;01mimport\u001b[39;00m ObjectId\n\u001b[0;32m---> 42\u001b[0m \u001b[38;5;28;01mfrom\u001b[39;00m \u001b[38;5;21;01mbson\u001b[39;00m\u001b[38;5;21;01m.\u001b[39;00m\u001b[38;5;21;01mraw_bson\u001b[39;00m \u001b[38;5;28;01mimport\u001b[39;00m RawBSONDocument\n\u001b[1;32m     43\u001b[0m \u001b[38;5;28;01mfrom\u001b[39;00m \u001b[38;5;21;01mbson\u001b[39;00m\u001b[38;5;21;01m.\u001b[39;00m\u001b[38;5;21;01mson\u001b[39;00m \u001b[38;5;28;01mimport\u001b[39;00m SON\n\u001b[1;32m     44\u001b[0m \u001b[38;5;28;01mfrom\u001b[39;00m \u001b[38;5;21;01mbson\u001b[39;00m\u001b[38;5;21;01m.\u001b[39;00m\u001b[38;5;21;01mtimestamp\u001b[39;00m \u001b[38;5;28;01mimport\u001b[39;00m Timestamp\n",
      "File \u001b[0;32m~/anaconda3/lib/python3.11/site-packages/bson/raw_bson.py:56\u001b[0m\n\u001b[1;32m     15\u001b[0m \u001b[38;5;124;03m\"\"\"Tools for representing raw BSON documents.\u001b[39;00m\n\u001b[1;32m     16\u001b[0m \n\u001b[1;32m     17\u001b[0m \u001b[38;5;124;03mInserting and Retrieving RawBSONDocuments\u001b[39;00m\n\u001b[0;32m   (...)\u001b[0m\n\u001b[1;32m     51\u001b[0m \u001b[38;5;124;03moverhead of decoding or encoding BSON.\u001b[39;00m\n\u001b[1;32m     52\u001b[0m \u001b[38;5;124;03m\"\"\"\u001b[39;00m\n\u001b[1;32m     54\u001b[0m \u001b[38;5;28;01mfrom\u001b[39;00m \u001b[38;5;21;01mtyping\u001b[39;00m \u001b[38;5;28;01mimport\u001b[39;00m Any, Dict, ItemsView, Iterator, Mapping, Optional\n\u001b[0;32m---> 56\u001b[0m \u001b[38;5;28;01mfrom\u001b[39;00m \u001b[38;5;21;01mbson\u001b[39;00m \u001b[38;5;28;01mimport\u001b[39;00m _get_object_size, _raw_to_dict\n\u001b[1;32m     57\u001b[0m \u001b[38;5;28;01mfrom\u001b[39;00m \u001b[38;5;21;01mbson\u001b[39;00m\u001b[38;5;21;01m.\u001b[39;00m\u001b[38;5;21;01mcodec_options\u001b[39;00m \u001b[38;5;28;01mimport\u001b[39;00m _RAW_BSON_DOCUMENT_MARKER\n\u001b[1;32m     58\u001b[0m \u001b[38;5;28;01mfrom\u001b[39;00m \u001b[38;5;21;01mbson\u001b[39;00m\u001b[38;5;21;01m.\u001b[39;00m\u001b[38;5;21;01mcodec_options\u001b[39;00m \u001b[38;5;28;01mimport\u001b[39;00m DEFAULT_CODEC_OPTIONS \u001b[38;5;28;01mas\u001b[39;00m DEFAULT\n",
      "\u001b[0;31mImportError\u001b[0m: cannot import name '_get_object_size' from 'bson' (/Users/ravi.tej/anaconda3/lib/python3.11/site-packages/bson/__init__.py)"
     ]
    }
   ],
   "source": [
    "from seagulls.db.mongo.MongoDatabaseOperation import MongoDatabaseOperation"
   ]
  },
  {
   "cell_type": "code",
   "execution_count": 4,
   "id": "1758478f-3be3-4a71-b5ea-a3f9f60aefbc",
   "metadata": {
    "tags": []
   },
   "outputs": [],
   "source": [
    "with PostgresDatabaseOperation() as cursor:\n",
    "    sql = 'SELECT DISTINCT article_id FROM embeddings limit 10' \n",
    "    cursor.execute(sql)\n",
    "    results = cursor.fetchall()"
   ]
  },
  {
   "cell_type": "code",
   "execution_count": null,
   "id": "69965948-55a3-4418-8897-3fbb196913cf",
   "metadata": {},
   "outputs": [],
   "source": []
  }
 ],
 "metadata": {
  "kernelspec": {
   "display_name": "llms",
   "language": "python",
   "name": "llms"
  },
  "language_info": {
   "codemirror_mode": {
    "name": "ipython",
    "version": 3
   },
   "file_extension": ".py",
   "mimetype": "text/x-python",
   "name": "python",
   "nbconvert_exporter": "python",
   "pygments_lexer": "ipython3",
   "version": "3.11.4"
  }
 },
 "nbformat": 4,
 "nbformat_minor": 5
}
