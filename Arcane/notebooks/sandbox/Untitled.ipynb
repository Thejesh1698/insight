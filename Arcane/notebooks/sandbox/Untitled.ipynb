{
 "cells": [
  {
   "cell_type": "code",
   "execution_count": 1,
   "id": "ed3348e6-d15f-4d90-b287-4ef738820df0",
   "metadata": {
    "tags": []
   },
   "outputs": [
    {
     "name": "stderr",
     "output_type": "stream",
     "text": [
      "/Users/username/anaconda3/envs/recoenv/lib/python3.11/site-packages/umap/distances.py:1063: NumbaDeprecationWarning: \u001b[1mThe 'nopython' keyword argument was not supplied to the 'numba.jit' decorator. The implicit default value for this argument is currently False, but it will be changed to True in Numba 0.59.0. See https://numba.readthedocs.io/en/stable/reference/deprecation.html#deprecation-of-object-mode-fall-back-behaviour-when-using-jit for details.\u001b[0m\n",
      "  @numba.jit()\n",
      "/Users/username/anaconda3/envs/recoenv/lib/python3.11/site-packages/umap/distances.py:1071: NumbaDeprecationWarning: \u001b[1mThe 'nopython' keyword argument was not supplied to the 'numba.jit' decorator. The implicit default value for this argument is currently False, but it will be changed to True in Numba 0.59.0. See https://numba.readthedocs.io/en/stable/reference/deprecation.html#deprecation-of-object-mode-fall-back-behaviour-when-using-jit for details.\u001b[0m\n",
      "  @numba.jit()\n",
      "/Users/username/anaconda3/envs/recoenv/lib/python3.11/site-packages/umap/distances.py:1086: NumbaDeprecationWarning: \u001b[1mThe 'nopython' keyword argument was not supplied to the 'numba.jit' decorator. The implicit default value for this argument is currently False, but it will be changed to True in Numba 0.59.0. See https://numba.readthedocs.io/en/stable/reference/deprecation.html#deprecation-of-object-mode-fall-back-behaviour-when-using-jit for details.\u001b[0m\n",
      "  @numba.jit()\n",
      "/Users/username/anaconda3/envs/recoenv/lib/python3.11/site-packages/umap/umap_.py:660: NumbaDeprecationWarning: \u001b[1mThe 'nopython' keyword argument was not supplied to the 'numba.jit' decorator. The implicit default value for this argument is currently False, but it will be changed to True in Numba 0.59.0. See https://numba.readthedocs.io/en/stable/reference/deprecation.html#deprecation-of-object-mode-fall-back-behaviour-when-using-jit for details.\u001b[0m\n",
      "  @numba.jit()\n"
     ]
    }
   ],
   "source": [
    "import boto3\n",
    "import pandas as pd\n",
    "from bertopic import BERTopic\n",
    "\n",
    "parent_folder = '/Users/username/Desktop/ML/Recommendations/arcane/'\n",
    "from hydra import compose, initialize\n",
    "import os\n",
    "\n",
    "import xml.etree.ElementTree as ET\n",
    "\n",
    "tree = ET.parse('../../conf/application.run.xml')\n",
    "root = tree.getroot()\n",
    "\n",
    "envs_element = root.find('./configuration/envs')\n",
    "for variable in envs_element.findall('env'):\n",
    "    name = variable.get('name')\n",
    "    value = variable.get('value')\n",
    "    os.environ[name] = value\n",
    "\n",
    "import sys\n",
    "sys.path.append('/Users/username/Desktop/ML/Recommendations/arcane/')\n",
    "\n",
    "from src._utils import load_bertopic_model_from_hf\n",
    "\n",
    "import json\n",
    "from io import StringIO\n",
    "import pickle\n",
    "from smart_open import open\n",
    "from bertopic.backend._sentencetransformers import SentenceTransformerBackend"
   ]
  },
  {
   "cell_type": "code",
   "execution_count": 2,
   "id": "10d39866-4c1e-475e-9066-2641fa88a950",
   "metadata": {
    "tags": []
   },
   "outputs": [],
   "source": [
    "from sql.PostgresDatabaseOperation import PostgresDatabaseOperation"
   ]
  },
  {
   "cell_type": "code",
   "execution_count": 3,
   "id": "68000b00-3827-4b1f-bf4a-499138ced3aa",
   "metadata": {
    "tags": []
   },
   "outputs": [],
   "source": [
    "from sql._utils import remove_article_ids_from_ml_db"
   ]
  },
  {
   "cell_type": "code",
   "execution_count": 4,
   "id": "ee521c8b-445c-44bb-b035-442b4dcc5596",
   "metadata": {
    "tags": []
   },
   "outputs": [],
   "source": [
    "remove_article_ids_from_ml_db(article_ids=['652df8dc5669b40a3b5ab607','652df8f35669b40a3b5ab660'])"
   ]
  },
  {
   "cell_type": "code",
   "execution_count": 9,
   "id": "e2d870f1-f391-46bc-affc-d07fc14b14f1",
   "metadata": {
    "tags": []
   },
   "outputs": [],
   "source": [
    "new_articles = '652cdf8e50af0e25a912311a,652df8ef5669b40a3b5ab64b'"
   ]
  },
  {
   "cell_type": "code",
   "execution_count": 6,
   "id": "40f358e4-0a53-450f-8ab1-aafba351e07b",
   "metadata": {
    "tags": []
   },
   "outputs": [],
   "source": [
    "import requests"
   ]
  },
  {
   "cell_type": "code",
   "execution_count": 7,
   "id": "b2c8a259-7bca-40c5-a25e-2a82dccebd92",
   "metadata": {
    "tags": []
   },
   "outputs": [],
   "source": [
    "r = requests.get('http://Arcane-env.eba-mrsaixmg.ap-south-1.elasticbeanstalk.com/ping')"
   ]
  },
  {
   "cell_type": "code",
   "execution_count": 15,
   "id": "15e268df-2aec-4f65-a0cd-9f05d51d1314",
   "metadata": {
    "tags": []
   },
   "outputs": [
    {
     "name": "stdout",
     "output_type": "stream",
     "text": [
      "200\n",
      "200\n",
      "200\n",
      "200\n"
     ]
    }
   ],
   "source": [
    "for articleId in ['652df8dc5669b40a3b5ab607','652df8f35669b40a3b5ab660', '652cdf8e50af0e25a912311a', '652df8ef5669b40a3b5ab64b']:\n",
    "    r = requests.post('http://Arcane-env.eba-mrsaixmg.ap-south-1.elasticbeanstalk.com/create_embedding', json = {'articleId': articleId})\n",
    "    print(r.status_code)"
   ]
  },
  {
   "cell_type": "code",
   "execution_count": 8,
   "id": "243b9c9b-41bb-4a54-a322-80eee7b5c4b8",
   "metadata": {
    "tags": []
   },
   "outputs": [
    {
     "data": {
      "text/plain": [
       "'{\"status\":\"ok\"}\\n'"
      ]
     },
     "execution_count": 8,
     "metadata": {},
     "output_type": "execute_result"
    }
   ],
   "source": [
    "r.text"
   ]
  },
  {
   "cell_type": "code",
   "execution_count": 12,
   "id": "bfee6f15-23ab-48a4-9301-2243def60315",
   "metadata": {
    "tags": []
   },
   "outputs": [],
   "source": [
    "r = requests.post('http://Arcane-env.eba-mrsaixmg.ap-south-1.elasticbeanstalk.com/delete_article_ids_from_ml_db', json = {'articleIds': new_articles})"
   ]
  },
  {
   "cell_type": "code",
   "execution_count": 14,
   "id": "c070a87e-f75a-4dea-9a60-0e8793d29de7",
   "metadata": {
    "tags": []
   },
   "outputs": [
    {
     "data": {
      "text/plain": [
       "200"
      ]
     },
     "execution_count": 14,
     "metadata": {},
     "output_type": "execute_result"
    }
   ],
   "source": [
    "r.status_code"
   ]
  },
  {
   "cell_type": "code",
   "execution_count": 13,
   "id": "5cff20e5-f9a4-47de-afa8-fa1af1a3e14d",
   "metadata": {
    "tags": []
   },
   "outputs": [
    {
     "data": {
      "text/plain": [
       "'2 articles are removed from the db'"
      ]
     },
     "execution_count": 13,
     "metadata": {},
     "output_type": "execute_result"
    }
   ],
   "source": [
    "r.text"
   ]
  },
  {
   "cell_type": "code",
   "execution_count": null,
   "id": "ea5c3ac9-dd92-4e7b-801a-46f64b12109c",
   "metadata": {},
   "outputs": [],
   "source": [
    "nextval('article_to_cluster_mapping_id_seq'::regclass)"
   ]
  }
 ],
 "metadata": {
  "kernelspec": {
   "display_name": "recoenv",
   "language": "python",
   "name": "recoenv"
  },
  "language_info": {
   "codemirror_mode": {
    "name": "ipython",
    "version": 3
   },
   "file_extension": ".py",
   "mimetype": "text/x-python",
   "name": "python",
   "nbconvert_exporter": "python",
   "pygments_lexer": "ipython3",
   "version": "3.11.5"
  }
 },
 "nbformat": 4,
 "nbformat_minor": 5
}
