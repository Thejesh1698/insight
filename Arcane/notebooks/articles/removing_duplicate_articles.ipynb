{
 "cells": [
  {
   "cell_type": "code",
   "execution_count": 1,
   "id": "abde0fca-6c37-454b-ae8f-5ea80f299f88",
   "metadata": {
    "tags": []
   },
   "outputs": [],
   "source": [
    "parent_folder = '/Users/ravi.tej/Desktop/ML/Recommendations/arcane/'\n",
    "from hydra import compose, initialize\n",
    "import os\n",
    "\n",
    "import xml.etree.ElementTree as ET\n",
    "\n",
    "tree = ET.parse('../../conf/application.run.xml')\n",
    "root = tree.getroot()\n",
    "\n",
    "envs_element = root.find('./configuration/envs')\n",
    "for variable in envs_element.findall('env'):\n",
    "    name = variable.get('name')\n",
    "    value = variable.get('value')\n",
    "    os.environ[name] = value\n",
    "\n",
    "import sys\n",
    "sys.path.append('/Users/ravi.tej/Desktop/ML/Recommendations/arcane/')\n",
    "\n",
    "from src._utils import load_bertopic_model_from_hf"
   ]
  },
  {
   "cell_type": "code",
   "execution_count": 2,
   "id": "2d4e1c83-0d2a-4279-9fea-8f6214e11d95",
   "metadata": {
    "tags": []
   },
   "outputs": [],
   "source": [
    "import json"
   ]
  },
  {
   "cell_type": "code",
   "execution_count": 3,
   "id": "a19e677d-705f-4e2d-acbc-b13fb55f0845",
   "metadata": {
    "tags": []
   },
   "outputs": [],
   "source": [
    "import numpy as np\n",
    "import pandas as pd"
   ]
  },
  {
   "cell_type": "markdown",
   "id": "2ac44a5a-d9ee-47e3-9140-5ee385ff8cdf",
   "metadata": {},
   "source": [
    "#### Reading Mongo Data"
   ]
  },
  {
   "cell_type": "code",
   "execution_count": 49,
   "id": "d2b67d95-fb63-4e9f-b505-5c162e40f8f8",
   "metadata": {
    "tags": []
   },
   "outputs": [],
   "source": [
    "data_folder = \"../../data/\"\n",
    "import json\n",
    "with open(data_folder + 'insight_db_articles.json') as f:\n",
    "    insight_articles = json.load(f)"
   ]
  },
  {
   "cell_type": "code",
   "execution_count": 50,
   "id": "bb9beb4e-f887-47e9-8feb-6c4fccfa46c8",
   "metadata": {
    "tags": []
   },
   "outputs": [],
   "source": [
    "valid_articles = {}\n",
    "\n",
    "for k in insight_articles:\n",
    "    if 'is_premium_article' in k and k['is_premium_article'] == False:\n",
    "        article_id = k['_id']['$oid']\n",
    "        valid_articles[article_id] = k\n",
    "        valid_articles[article_id]['source_id'] = k['source_id']['$oid']"
   ]
  },
  {
   "cell_type": "code",
   "execution_count": 79,
   "id": "f572f1a8-4193-4c10-9eb7-275f7c6ca745",
   "metadata": {
    "tags": []
   },
   "outputs": [],
   "source": [
    "with PostgresDatabaseOperation() as cursor:\n",
    "    sql = 'SELECT DISTINCT article_id FROM llm_article_attributes'\n",
    "    cursor.execute(sql)\n",
    "    results = cursor.fetchall()"
   ]
  },
  {
   "cell_type": "code",
   "execution_count": 82,
   "id": "834a76cd-7318-48eb-97dc-c31b76c35237",
   "metadata": {
    "tags": []
   },
   "outputs": [],
   "source": [
    "random_articles = pd.DataFrame(results).sample(500)"
   ]
  },
  {
   "cell_type": "code",
   "execution_count": 86,
   "id": "70f86060-6f19-473f-b7b6-2f9d55e3095e",
   "metadata": {
    "tags": []
   },
   "outputs": [],
   "source": [
    "random_articles.to_csv('sample_articles.csv')"
   ]
  },
  {
   "cell_type": "code",
   "execution_count": 87,
   "id": "cf3f747f-5941-4f19-ad5c-f93d15c31861",
   "metadata": {
    "tags": []
   },
   "outputs": [
    {
     "name": "stdout",
     "output_type": "stream",
     "text": [
      "/Users/ravi.tej/Desktop/ML/Recommendations/arcane/notebooks/articles\n"
     ]
    }
   ],
   "source": [
    "!pwd"
   ]
  },
  {
   "cell_type": "markdown",
   "id": "ae13d057-1f49-43e8-87a4-2c222cb1abc5",
   "metadata": {},
   "source": [
    "#### Getting all article embeddings"
   ]
  },
  {
   "cell_type": "code",
   "execution_count": 130,
   "id": "9a63a0c7-10e9-445a-9eca-f96d99e40e1f",
   "metadata": {
    "tags": []
   },
   "outputs": [],
   "source": [
    "from sql.PostgresDatabaseOperation import PostgresDatabaseOperation"
   ]
  },
  {
   "cell_type": "code",
   "execution_count": 131,
   "id": "22d391cd-6bd8-4192-bd30-e0043e44dbc0",
   "metadata": {
    "tags": []
   },
   "outputs": [],
   "source": [
    "with PostgresDatabaseOperation() as cursor:\n",
    "    sql = 'SELECT DISTINCT article_id from embeddings'\n",
    "    cursor.execute(sql)\n",
    "    results = cursor.fetchall()"
   ]
  },
  {
   "cell_type": "code",
   "execution_count": 132,
   "id": "dcc67e64-0ae2-4949-a769-b0ea9b53819e",
   "metadata": {
    "tags": []
   },
   "outputs": [],
   "source": [
    "db_article_ids = [x[0] for x in results]"
   ]
  },
  {
   "cell_type": "markdown",
   "id": "cfff3997-0907-4d02-88cd-4523c3f7a651",
   "metadata": {},
   "source": [
    "#### Finding duplicate articles"
   ]
  },
  {
   "cell_type": "code",
   "execution_count": 35,
   "id": "03906d79-a720-4be8-a215-c0b436688ca8",
   "metadata": {
    "tags": []
   },
   "outputs": [],
   "source": [
    "duplicate_articles = set(db_article_ids) - set(valid_article_ids)\n",
    "\n",
    "duplicate_articles = list(duplicate_articles)"
   ]
  },
  {
   "cell_type": "code",
   "execution_count": 33,
   "id": "099969ee-b082-4e82-b0a1-927ecfbebfc2",
   "metadata": {
    "tags": []
   },
   "outputs": [
    {
     "data": {
      "text/plain": [
       "59"
      ]
     },
     "execution_count": 33,
     "metadata": {},
     "output_type": "execute_result"
    }
   ],
   "source": [
    "chunk_size = 1000\n",
    "num_chunks = int(np.ceil(len(duplicate_articles)/chunk_size))\n",
    "num_chunks"
   ]
  },
  {
   "cell_type": "markdown",
   "id": "b4e9bf29-e60f-40f2-b575-e2fbcee31213",
   "metadata": {},
   "source": [
    "#### Deleting the data"
   ]
  },
  {
   "cell_type": "code",
   "execution_count": 38,
   "id": "7073180e-5a08-4c22-af6b-c01a4fa29568",
   "metadata": {
    "tags": []
   },
   "outputs": [],
   "source": [
    "import requests"
   ]
  },
  {
   "cell_type": "code",
   "execution_count": 41,
   "id": "cd5ff424-a2ae-4262-8b4e-cdec619f1937",
   "metadata": {
    "tags": []
   },
   "outputs": [],
   "source": [
    "import time"
   ]
  },
  {
   "cell_type": "code",
   "execution_count": 43,
   "id": "989b38cd-8059-492b-b53c-866e857120f7",
   "metadata": {
    "tags": []
   },
   "outputs": [],
   "source": [
    "res = []"
   ]
  },
  {
   "cell_type": "code",
   "execution_count": 44,
   "id": "d55436c3-9ab9-46e3-a78a-9a284fa30ef5",
   "metadata": {
    "tags": []
   },
   "outputs": [
    {
     "name": "stdout",
     "output_type": "stream",
     "text": [
      "done with 5 in 9 seconds\n",
      "done with 10 in 20 seconds\n",
      "done with 15 in 32 seconds\n",
      "done with 20 in 94 seconds\n",
      "done with 25 in 128 seconds\n",
      "done with 30 in 146 seconds\n",
      "done with 35 in 162 seconds\n",
      "done with 40 in 198 seconds\n",
      "done with 45 in 219 seconds\n",
      "done with 50 in 242 seconds\n",
      "done with 55 in 259 seconds\n"
     ]
    }
   ],
   "source": [
    "start_time = time.time()\n",
    "for i in range(num_chunks):\n",
    "    cur_chunk = duplicate_articles[i*chunk_size:(i+1)*chunk_size]\n",
    "    chunk_string = ','.join(cur_chunk)\n",
    "    r = requests.post('http://Arcane-env.eba-mrsaixmg.ap-south-1.elasticbeanstalk.com/delete_article_ids_from_ml_db', json={'articleIds': chunk_string})\n",
    "    res.append(r)\n",
    "    if (i+1)%5==0:\n",
    "        print(f'done with {i+1} in {int(time.time() - start_time)} seconds')"
   ]
  },
  {
   "cell_type": "markdown",
   "id": "d3b8f5b1-0323-48f9-bbf9-ee2938dc2f97",
   "metadata": {},
   "source": [
    "#### Creating missing embeddings"
   ]
  },
  {
   "cell_type": "code",
   "execution_count": 94,
   "id": "5102637e-197f-4982-b174-f9c24f442702",
   "metadata": {
    "tags": []
   },
   "outputs": [],
   "source": [
    "missing_articles = set(valid_article_ids) - set(db_article_ids)"
   ]
  },
  {
   "cell_type": "code",
   "execution_count": 95,
   "id": "5f69e7b8-a01d-409a-aa46-26ded1562dfc",
   "metadata": {
    "tags": []
   },
   "outputs": [],
   "source": [
    "missing_articles = list(missing_articles)"
   ]
  },
  {
   "cell_type": "code",
   "execution_count": 96,
   "id": "8a3ad2bb-2f94-4477-9f8c-687eb9af17f8",
   "metadata": {
    "tags": []
   },
   "outputs": [
    {
     "data": {
      "text/plain": [
       "382"
      ]
     },
     "execution_count": 96,
     "metadata": {},
     "output_type": "execute_result"
    }
   ],
   "source": [
    "len(missing_articles)"
   ]
  },
  {
   "cell_type": "code",
   "execution_count": 68,
   "id": "d25eeeb7-c2fc-4316-935b-7c4c78d0fc47",
   "metadata": {
    "tags": []
   },
   "outputs": [],
   "source": [
    "def add_missing_article_to_db(article_id):\n",
    "    r = requests.post('http://Arcane-env.eba-mrsaixmg.ap-south-1.elasticbeanstalk.com/create_embedding', json={'articleId': article_id})\n",
    "    if r.status_code == 200:\n",
    "        return article_id"
   ]
  },
  {
   "cell_type": "code",
   "execution_count": 18,
   "id": "c1e5ff1d-5de6-40f4-bb32-c11c757b5ba4",
   "metadata": {
    "tags": []
   },
   "outputs": [],
   "source": [
    "from datetime import datetime\n",
    "\n",
    "from concurrent.futures import ThreadPoolExecutor, as_completed"
   ]
  },
  {
   "cell_type": "code",
   "execution_count": 70,
   "id": "b7c9ed26-d6b6-4847-b606-b368ec360b40",
   "metadata": {
    "tags": []
   },
   "outputs": [],
   "source": [
    "completed_article_ids = []"
   ]
  },
  {
   "cell_type": "code",
   "execution_count": 71,
   "id": "f8c8a17b-799d-4dcd-954e-da45e416216b",
   "metadata": {
    "tags": []
   },
   "outputs": [],
   "source": [
    "from tqdm.notebook import tqdm"
   ]
  },
  {
   "cell_type": "code",
   "execution_count": 98,
   "id": "413350c6-7a0c-42eb-b8b0-93a6a97faf15",
   "metadata": {
    "scrolled": true,
    "tags": []
   },
   "outputs": [
    {
     "name": "stdout",
     "output_type": "stream",
     "text": [
      "starting creation at Dec 03, 2023 10:17\n",
      "completed chunk 1000 articles at Dec 03, 2023 10:21 in 3.6666666666666665 minutes\n",
      "starting creation at Dec 03, 2023 10:21\n",
      "completed chunk 2000 articles at Dec 03, 2023 10:21 in 0.0 minutes\n",
      "starting creation at Dec 03, 2023 10:21\n",
      "completed chunk 3000 articles at Dec 03, 2023 10:21 in 0.0 minutes\n",
      "starting creation at Dec 03, 2023 10:21\n",
      "completed chunk 4000 articles at Dec 03, 2023 10:21 in 0.0 minutes\n",
      "starting creation at Dec 03, 2023 10:21\n",
      "completed chunk 5000 articles at Dec 03, 2023 10:21 in 0.0 minutes\n",
      "starting creation at Dec 03, 2023 10:21\n",
      "completed chunk 6000 articles at Dec 03, 2023 10:21 in 0.0 minutes\n",
      "starting creation at Dec 03, 2023 10:21\n",
      "completed chunk 7000 articles at Dec 03, 2023 10:21 in 0.0 minutes\n",
      "starting creation at Dec 03, 2023 10:21\n",
      "completed chunk 8000 articles at Dec 03, 2023 10:21 in 0.0 minutes\n",
      "starting creation at Dec 03, 2023 10:21\n",
      "completed chunk 9000 articles at Dec 03, 2023 10:21 in 0.0 minutes\n",
      "starting creation at Dec 03, 2023 10:21\n",
      "completed chunk 10000 articles at Dec 03, 2023 10:21 in 0.0 minutes\n",
      "starting creation at Dec 03, 2023 10:21\n",
      "completed chunk 11000 articles at Dec 03, 2023 10:21 in 0.0 minutes\n",
      "starting creation at Dec 03, 2023 10:21\n",
      "completed chunk 12000 articles at Dec 03, 2023 10:21 in 0.0 minutes\n",
      "starting creation at Dec 03, 2023 10:21\n",
      "completed chunk 13000 articles at Dec 03, 2023 10:21 in 0.0 minutes\n",
      "starting creation at Dec 03, 2023 10:21\n",
      "completed chunk 14000 articles at Dec 03, 2023 10:21 in 0.0 minutes\n",
      "starting creation at Dec 03, 2023 10:21\n",
      "completed chunk 15000 articles at Dec 03, 2023 10:21 in 0.0 minutes\n",
      "starting creation at Dec 03, 2023 10:21\n",
      "completed chunk 16000 articles at Dec 03, 2023 10:21 in 0.0 minutes\n",
      "starting creation at Dec 03, 2023 10:21\n",
      "completed chunk 17000 articles at Dec 03, 2023 10:21 in 0.0 minutes\n",
      "starting creation at Dec 03, 2023 10:21\n",
      "completed chunk 18000 articles at Dec 03, 2023 10:21 in 0.0 minutes\n",
      "starting creation at Dec 03, 2023 10:21\n",
      "completed chunk 19000 articles at Dec 03, 2023 10:21 in 0.0 minutes\n",
      "starting creation at Dec 03, 2023 10:21\n",
      "completed chunk 20000 articles at Dec 03, 2023 10:21 in 0.0 minutes\n",
      "starting creation at Dec 03, 2023 10:21\n",
      "completed chunk 21000 articles at Dec 03, 2023 10:21 in 0.0 minutes\n",
      "starting creation at Dec 03, 2023 10:21\n",
      "completed chunk 22000 articles at Dec 03, 2023 10:21 in 0.0 minutes\n",
      "starting creation at Dec 03, 2023 10:21\n",
      "completed chunk 23000 articles at Dec 03, 2023 10:21 in 0.0 minutes\n",
      "starting creation at Dec 03, 2023 10:21\n",
      "completed chunk 24000 articles at Dec 03, 2023 10:21 in 0.0 minutes\n",
      "starting creation at Dec 03, 2023 10:21\n",
      "completed chunk 25000 articles at Dec 03, 2023 10:21 in 0.0 minutes\n",
      "starting creation at Dec 03, 2023 10:21\n",
      "completed chunk 26000 articles at Dec 03, 2023 10:21 in 0.0 minutes\n",
      "starting creation at Dec 03, 2023 10:21\n",
      "completed chunk 27000 articles at Dec 03, 2023 10:21 in 0.0 minutes\n",
      "starting creation at Dec 03, 2023 10:21\n",
      "completed chunk 28000 articles at Dec 03, 2023 10:21 in 0.0 minutes\n",
      "starting creation at Dec 03, 2023 10:21\n",
      "completed chunk 29000 articles at Dec 03, 2023 10:21 in 0.0 minutes\n",
      "starting creation at Dec 03, 2023 10:21\n",
      "completed chunk 30000 articles at Dec 03, 2023 10:21 in 0.0 minutes\n",
      "starting creation at Dec 03, 2023 10:21\n",
      "completed chunk 31000 articles at Dec 03, 2023 10:21 in 0.0 minutes\n",
      "starting creation at Dec 03, 2023 10:21\n",
      "completed chunk 32000 articles at Dec 03, 2023 10:21 in 0.0 minutes\n",
      "starting creation at Dec 03, 2023 10:21\n",
      "completed chunk 33000 articles at Dec 03, 2023 10:21 in 0.0 minutes\n",
      "starting creation at Dec 03, 2023 10:21\n",
      "completed chunk 34000 articles at Dec 03, 2023 10:21 in 0.0 minutes\n",
      "starting creation at Dec 03, 2023 10:21\n",
      "completed chunk 35000 articles at Dec 03, 2023 10:21 in 0.0 minutes\n",
      "starting creation at Dec 03, 2023 10:21\n",
      "completed chunk 36000 articles at Dec 03, 2023 10:21 in 0.0 minutes\n",
      "starting creation at Dec 03, 2023 10:21\n",
      "completed chunk 37000 articles at Dec 03, 2023 10:21 in 0.0 minutes\n",
      "starting creation at Dec 03, 2023 10:21\n",
      "completed chunk 38000 articles at Dec 03, 2023 10:21 in 0.0 minutes\n",
      "starting creation at Dec 03, 2023 10:21\n",
      "completed chunk 39000 articles at Dec 03, 2023 10:21 in 0.0 minutes\n",
      "starting creation at Dec 03, 2023 10:21\n",
      "completed chunk 40000 articles at Dec 03, 2023 10:21 in 0.0 minutes\n",
      "starting creation at Dec 03, 2023 10:21\n",
      "completed chunk 41000 articles at Dec 03, 2023 10:21 in 0.0 minutes\n",
      "starting creation at Dec 03, 2023 10:21\n",
      "completed chunk 42000 articles at Dec 03, 2023 10:21 in 0.0 minutes\n",
      "starting creation at Dec 03, 2023 10:21\n",
      "completed chunk 43000 articles at Dec 03, 2023 10:21 in 0.0 minutes\n",
      "starting creation at Dec 03, 2023 10:21\n",
      "completed chunk 44000 articles at Dec 03, 2023 10:21 in 0.0 minutes\n",
      "starting creation at Dec 03, 2023 10:21\n",
      "completed chunk 45000 articles at Dec 03, 2023 10:21 in 0.0 minutes\n",
      "starting creation at Dec 03, 2023 10:21\n",
      "completed chunk 46000 articles at Dec 03, 2023 10:21 in 0.0 minutes\n",
      "starting creation at Dec 03, 2023 10:21\n",
      "completed chunk 47000 articles at Dec 03, 2023 10:21 in 0.0 minutes\n",
      "starting creation at Dec 03, 2023 10:21\n",
      "completed chunk 48000 articles at Dec 03, 2023 10:21 in 0.0 minutes\n",
      "starting creation at Dec 03, 2023 10:21\n",
      "completed chunk 49000 articles at Dec 03, 2023 10:21 in 0.0 minutes\n",
      "starting creation at Dec 03, 2023 10:21\n",
      "completed chunk 50000 articles at Dec 03, 2023 10:21 in 0.0 minutes\n",
      "starting creation at Dec 03, 2023 10:21\n",
      "completed chunk 51000 articles at Dec 03, 2023 10:21 in 0.0 minutes\n",
      "starting creation at Dec 03, 2023 10:21\n",
      "completed chunk 52000 articles at Dec 03, 2023 10:21 in 0.0 minutes\n",
      "starting creation at Dec 03, 2023 10:21\n",
      "completed chunk 53000 articles at Dec 03, 2023 10:21 in 0.0 minutes\n",
      "starting creation at Dec 03, 2023 10:21\n",
      "completed chunk 54000 articles at Dec 03, 2023 10:21 in 0.0 minutes\n",
      "starting creation at Dec 03, 2023 10:21\n",
      "completed chunk 55000 articles at Dec 03, 2023 10:21 in 0.0 minutes\n",
      "starting creation at Dec 03, 2023 10:21\n",
      "completed chunk 56000 articles at Dec 03, 2023 10:21 in 0.0 minutes\n",
      "starting creation at Dec 03, 2023 10:21\n",
      "completed chunk 57000 articles at Dec 03, 2023 10:21 in 0.0 minutes\n",
      "starting creation at Dec 03, 2023 10:21\n",
      "completed chunk 58000 articles at Dec 03, 2023 10:21 in 0.0 minutes\n",
      "starting creation at Dec 03, 2023 10:21\n",
      "completed chunk 59000 articles at Dec 03, 2023 10:21 in 0.0 minutes\n",
      "starting creation at Dec 03, 2023 10:21\n",
      "completed chunk 60000 articles at Dec 03, 2023 10:21 in 0.0 minutes\n",
      "starting creation at Dec 03, 2023 10:21\n",
      "completed chunk 61000 articles at Dec 03, 2023 10:21 in 0.0 minutes\n",
      "starting creation at Dec 03, 2023 10:21\n",
      "completed chunk 62000 articles at Dec 03, 2023 10:21 in 0.0 minutes\n",
      "starting creation at Dec 03, 2023 10:21\n",
      "completed chunk 63000 articles at Dec 03, 2023 10:21 in 0.0 minutes\n",
      "starting creation at Dec 03, 2023 10:21\n",
      "completed chunk 64000 articles at Dec 03, 2023 10:21 in 0.0 minutes\n",
      "starting creation at Dec 03, 2023 10:21\n",
      "completed chunk 65000 articles at Dec 03, 2023 10:21 in 0.0 minutes\n",
      "starting creation at Dec 03, 2023 10:21\n",
      "completed chunk 66000 articles at Dec 03, 2023 10:21 in 0.0 minutes\n",
      "starting creation at Dec 03, 2023 10:21\n",
      "completed chunk 67000 articles at Dec 03, 2023 10:21 in 0.0 minutes\n",
      "starting creation at Dec 03, 2023 10:21\n",
      "completed chunk 68000 articles at Dec 03, 2023 10:21 in 0.0 minutes\n",
      "starting creation at Dec 03, 2023 10:21\n",
      "completed chunk 69000 articles at Dec 03, 2023 10:21 in 0.0 minutes\n",
      "starting creation at Dec 03, 2023 10:21\n",
      "completed chunk 70000 articles at Dec 03, 2023 10:21 in 0.0 minutes\n",
      "starting creation at Dec 03, 2023 10:21\n",
      "completed chunk 71000 articles at Dec 03, 2023 10:21 in 0.0 minutes\n",
      "starting creation at Dec 03, 2023 10:21\n",
      "completed chunk 72000 articles at Dec 03, 2023 10:21 in 0.0 minutes\n",
      "starting creation at Dec 03, 2023 10:21\n",
      "completed chunk 73000 articles at Dec 03, 2023 10:21 in 0.0 minutes\n",
      "starting creation at Dec 03, 2023 10:21\n",
      "completed chunk 74000 articles at Dec 03, 2023 10:21 in 0.0 minutes\n",
      "starting creation at Dec 03, 2023 10:21\n",
      "completed chunk 75000 articles at Dec 03, 2023 10:21 in 0.0 minutes\n",
      "starting creation at Dec 03, 2023 10:21\n",
      "completed chunk 76000 articles at Dec 03, 2023 10:21 in 0.0 minutes\n",
      "starting creation at Dec 03, 2023 10:21\n",
      "completed chunk 77000 articles at Dec 03, 2023 10:21 in 0.0 minutes\n",
      "starting creation at Dec 03, 2023 10:21\n",
      "completed chunk 78000 articles at Dec 03, 2023 10:21 in 0.0 minutes\n",
      "starting creation at Dec 03, 2023 10:21\n",
      "completed chunk 79000 articles at Dec 03, 2023 10:21 in 0.0 minutes\n",
      "starting creation at Dec 03, 2023 10:21\n",
      "completed chunk 80000 articles at Dec 03, 2023 10:21 in 0.0 minutes\n",
      "starting creation at Dec 03, 2023 10:21\n",
      "completed chunk 81000 articles at Dec 03, 2023 10:21 in 0.0 minutes\n",
      "starting creation at Dec 03, 2023 10:21\n",
      "completed chunk 82000 articles at Dec 03, 2023 10:21 in 0.0 minutes\n",
      "starting creation at Dec 03, 2023 10:21\n",
      "completed chunk 83000 articles at Dec 03, 2023 10:21 in 0.0 minutes\n",
      "starting creation at Dec 03, 2023 10:21\n",
      "completed chunk 84000 articles at Dec 03, 2023 10:21 in 0.0 minutes\n",
      "starting creation at Dec 03, 2023 10:21\n",
      "completed chunk 85000 articles at Dec 03, 2023 10:21 in 0.0 minutes\n",
      "starting creation at Dec 03, 2023 10:21\n",
      "completed chunk 86000 articles at Dec 03, 2023 10:21 in 0.0 minutes\n",
      "starting creation at Dec 03, 2023 10:21\n",
      "completed chunk 87000 articles at Dec 03, 2023 10:21 in 0.0 minutes\n",
      "starting creation at Dec 03, 2023 10:21\n",
      "completed chunk 88000 articles at Dec 03, 2023 10:21 in 0.0 minutes\n",
      "starting creation at Dec 03, 2023 10:21\n",
      "completed chunk 89000 articles at Dec 03, 2023 10:21 in 0.0 minutes\n",
      "starting creation at Dec 03, 2023 10:21\n",
      "completed chunk 90000 articles at Dec 03, 2023 10:21 in 0.0 minutes\n",
      "starting creation at Dec 03, 2023 10:21\n",
      "completed chunk 91000 articles at Dec 03, 2023 10:21 in 0.0 minutes\n",
      "starting creation at Dec 03, 2023 10:21\n",
      "completed chunk 92000 articles at Dec 03, 2023 10:21 in 0.0 minutes\n",
      "starting creation at Dec 03, 2023 10:21\n",
      "completed chunk 93000 articles at Dec 03, 2023 10:21 in 0.0 minutes\n",
      "starting creation at Dec 03, 2023 10:21\n",
      "completed chunk 94000 articles at Dec 03, 2023 10:21 in 0.0 minutes\n",
      "starting creation at Dec 03, 2023 10:21\n",
      "completed chunk 95000 articles at Dec 03, 2023 10:21 in 0.0 minutes\n",
      "starting creation at Dec 03, 2023 10:21\n",
      "completed chunk 96000 articles at Dec 03, 2023 10:21 in 0.0 minutes\n",
      "starting creation at Dec 03, 2023 10:21\n",
      "completed chunk 97000 articles at Dec 03, 2023 10:21 in 0.0 minutes\n",
      "starting creation at Dec 03, 2023 10:21\n",
      "completed chunk 98000 articles at Dec 03, 2023 10:21 in 0.0 minutes\n",
      "starting creation at Dec 03, 2023 10:21\n",
      "completed chunk 99000 articles at Dec 03, 2023 10:21 in 0.0 minutes\n",
      "starting creation at Dec 03, 2023 10:21\n",
      "completed chunk 100000 articles at Dec 03, 2023 10:21 in 0.0 minutes\n",
      "starting creation at Dec 03, 2023 10:21\n",
      "completed chunk 101000 articles at Dec 03, 2023 10:21 in 0.0 minutes\n",
      "starting creation at Dec 03, 2023 10:21\n",
      "completed chunk 102000 articles at Dec 03, 2023 10:21 in 0.0 minutes\n",
      "starting creation at Dec 03, 2023 10:21\n",
      "completed chunk 103000 articles at Dec 03, 2023 10:21 in 0.0 minutes\n",
      "starting creation at Dec 03, 2023 10:21\n",
      "completed chunk 104000 articles at Dec 03, 2023 10:21 in 0.0 minutes\n",
      "starting creation at Dec 03, 2023 10:21\n",
      "completed chunk 105000 articles at Dec 03, 2023 10:21 in 0.0 minutes\n",
      "starting creation at Dec 03, 2023 10:21\n",
      "completed chunk 106000 articles at Dec 03, 2023 10:21 in 0.0 minutes\n",
      "starting creation at Dec 03, 2023 10:21\n",
      "completed chunk 107000 articles at Dec 03, 2023 10:21 in 0.0 minutes\n",
      "starting creation at Dec 03, 2023 10:21\n",
      "completed chunk 108000 articles at Dec 03, 2023 10:21 in 0.0 minutes\n",
      "starting creation at Dec 03, 2023 10:21\n",
      "completed chunk 109000 articles at Dec 03, 2023 10:21 in 0.0 minutes\n",
      "starting creation at Dec 03, 2023 10:21\n",
      "completed chunk 110000 articles at Dec 03, 2023 10:21 in 0.0 minutes\n",
      "starting creation at Dec 03, 2023 10:21\n",
      "completed chunk 111000 articles at Dec 03, 2023 10:21 in 0.0 minutes\n",
      "starting creation at Dec 03, 2023 10:21\n",
      "completed chunk 112000 articles at Dec 03, 2023 10:21 in 0.0 minutes\n",
      "starting creation at Dec 03, 2023 10:21\n",
      "completed chunk 113000 articles at Dec 03, 2023 10:21 in 0.0 minutes\n",
      "starting creation at Dec 03, 2023 10:21\n",
      "completed chunk 114000 articles at Dec 03, 2023 10:21 in 0.0 minutes\n",
      "starting creation at Dec 03, 2023 10:21\n",
      "completed chunk 115000 articles at Dec 03, 2023 10:21 in 0.0 minutes\n",
      "starting creation at Dec 03, 2023 10:21\n",
      "completed chunk 116000 articles at Dec 03, 2023 10:21 in 0.0 minutes\n",
      "starting creation at Dec 03, 2023 10:21\n",
      "completed chunk 117000 articles at Dec 03, 2023 10:21 in 0.0 minutes\n",
      "starting creation at Dec 03, 2023 10:21\n",
      "completed chunk 118000 articles at Dec 03, 2023 10:21 in 0.0 minutes\n",
      "starting creation at Dec 03, 2023 10:21\n",
      "completed chunk 119000 articles at Dec 03, 2023 10:21 in 0.0 minutes\n",
      "starting creation at Dec 03, 2023 10:21\n",
      "completed chunk 120000 articles at Dec 03, 2023 10:21 in 0.0 minutes\n",
      "starting creation at Dec 03, 2023 10:21\n",
      "completed chunk 121000 articles at Dec 03, 2023 10:21 in 0.0 minutes\n",
      "starting creation at Dec 03, 2023 10:21\n",
      "completed chunk 122000 articles at Dec 03, 2023 10:21 in 0.0 minutes\n",
      "starting creation at Dec 03, 2023 10:21\n",
      "completed chunk 123000 articles at Dec 03, 2023 10:21 in 0.0 minutes\n",
      "starting creation at Dec 03, 2023 10:21\n",
      "completed chunk 124000 articles at Dec 03, 2023 10:21 in 0.0 minutes\n",
      "starting creation at Dec 03, 2023 10:21\n",
      "completed chunk 125000 articles at Dec 03, 2023 10:21 in 0.0 minutes\n",
      "starting creation at Dec 03, 2023 10:21\n",
      "completed chunk 126000 articles at Dec 03, 2023 10:21 in 0.0 minutes\n",
      "starting creation at Dec 03, 2023 10:21\n",
      "completed chunk 127000 articles at Dec 03, 2023 10:21 in 0.0 minutes\n",
      "starting creation at Dec 03, 2023 10:21\n",
      "completed chunk 128000 articles at Dec 03, 2023 10:21 in 0.0 minutes\n",
      "starting creation at Dec 03, 2023 10:21\n",
      "completed chunk 129000 articles at Dec 03, 2023 10:21 in 0.0 minutes\n",
      "starting creation at Dec 03, 2023 10:21\n",
      "completed chunk 130000 articles at Dec 03, 2023 10:21 in 0.0 minutes\n",
      "starting creation at Dec 03, 2023 10:21\n",
      "completed chunk 131000 articles at Dec 03, 2023 10:21 in 0.0 minutes\n",
      "starting creation at Dec 03, 2023 10:21\n",
      "completed chunk 132000 articles at Dec 03, 2023 10:21 in 0.0 minutes\n",
      "starting creation at Dec 03, 2023 10:21\n",
      "completed chunk 133000 articles at Dec 03, 2023 10:21 in 0.0 minutes\n",
      "starting creation at Dec 03, 2023 10:21\n",
      "completed chunk 134000 articles at Dec 03, 2023 10:21 in 0.0 minutes\n",
      "starting creation at Dec 03, 2023 10:21\n",
      "completed chunk 135000 articles at Dec 03, 2023 10:21 in 0.0 minutes\n",
      "starting creation at Dec 03, 2023 10:21\n",
      "completed chunk 136000 articles at Dec 03, 2023 10:21 in 0.0 minutes\n",
      "starting creation at Dec 03, 2023 10:21\n",
      "completed chunk 137000 articles at Dec 03, 2023 10:21 in 0.0 minutes\n",
      "starting creation at Dec 03, 2023 10:21\n",
      "completed chunk 138000 articles at Dec 03, 2023 10:21 in 0.0 minutes\n",
      "starting creation at Dec 03, 2023 10:21\n",
      "completed chunk 139000 articles at Dec 03, 2023 10:21 in 0.0 minutes\n",
      "starting creation at Dec 03, 2023 10:21\n",
      "completed chunk 140000 articles at Dec 03, 2023 10:21 in 0.0 minutes\n",
      "starting creation at Dec 03, 2023 10:21\n",
      "completed chunk 141000 articles at Dec 03, 2023 10:21 in 0.0 minutes\n",
      "starting creation at Dec 03, 2023 10:21\n",
      "completed chunk 142000 articles at Dec 03, 2023 10:21 in 0.0 minutes\n",
      "starting creation at Dec 03, 2023 10:21\n",
      "completed chunk 143000 articles at Dec 03, 2023 10:21 in 0.0 minutes\n",
      "starting creation at Dec 03, 2023 10:21\n",
      "completed chunk 144000 articles at Dec 03, 2023 10:21 in 0.0 minutes\n",
      "starting creation at Dec 03, 2023 10:21\n",
      "completed chunk 145000 articles at Dec 03, 2023 10:21 in 0.0 minutes\n",
      "starting creation at Dec 03, 2023 10:21\n",
      "completed chunk 146000 articles at Dec 03, 2023 10:21 in 0.0 minutes\n",
      "starting creation at Dec 03, 2023 10:21\n",
      "completed chunk 147000 articles at Dec 03, 2023 10:21 in 0.0 minutes\n",
      "starting creation at Dec 03, 2023 10:21\n",
      "completed chunk 148000 articles at Dec 03, 2023 10:21 in 0.0 minutes\n",
      "starting creation at Dec 03, 2023 10:21\n",
      "completed chunk 149000 articles at Dec 03, 2023 10:21 in 0.0 minutes\n",
      "starting creation at Dec 03, 2023 10:21\n",
      "completed chunk 150000 articles at Dec 03, 2023 10:21 in 0.0 minutes\n",
      "starting creation at Dec 03, 2023 10:21\n",
      "completed chunk 151000 articles at Dec 03, 2023 10:21 in 0.0 minutes\n",
      "starting creation at Dec 03, 2023 10:21\n",
      "completed chunk 152000 articles at Dec 03, 2023 10:21 in 0.0 minutes\n",
      "starting creation at Dec 03, 2023 10:21\n",
      "completed chunk 153000 articles at Dec 03, 2023 10:21 in 0.0 minutes\n",
      "starting creation at Dec 03, 2023 10:21\n",
      "completed chunk 154000 articles at Dec 03, 2023 10:21 in 0.0 minutes\n",
      "starting creation at Dec 03, 2023 10:21\n",
      "completed chunk 155000 articles at Dec 03, 2023 10:21 in 0.0 minutes\n",
      "starting creation at Dec 03, 2023 10:21\n",
      "completed chunk 156000 articles at Dec 03, 2023 10:21 in 0.0 minutes\n",
      "starting creation at Dec 03, 2023 10:21\n",
      "completed chunk 157000 articles at Dec 03, 2023 10:21 in 0.0 minutes\n",
      "starting creation at Dec 03, 2023 10:21\n",
      "completed chunk 158000 articles at Dec 03, 2023 10:21 in 0.0 minutes\n",
      "starting creation at Dec 03, 2023 10:21\n",
      "completed chunk 159000 articles at Dec 03, 2023 10:21 in 0.0 minutes\n",
      "starting creation at Dec 03, 2023 10:21\n",
      "completed chunk 160000 articles at Dec 03, 2023 10:21 in 0.0 minutes\n",
      "starting creation at Dec 03, 2023 10:21\n",
      "completed chunk 161000 articles at Dec 03, 2023 10:21 in 0.0 minutes\n",
      "starting creation at Dec 03, 2023 10:21\n",
      "completed chunk 162000 articles at Dec 03, 2023 10:21 in 0.0 minutes\n",
      "starting creation at Dec 03, 2023 10:21\n",
      "completed chunk 163000 articles at Dec 03, 2023 10:21 in 0.0 minutes\n",
      "starting creation at Dec 03, 2023 10:21\n",
      "completed chunk 164000 articles at Dec 03, 2023 10:21 in 0.0 minutes\n",
      "starting creation at Dec 03, 2023 10:21\n",
      "completed chunk 165000 articles at Dec 03, 2023 10:21 in 0.0 minutes\n",
      "starting creation at Dec 03, 2023 10:21\n",
      "completed chunk 166000 articles at Dec 03, 2023 10:21 in 0.0 minutes\n",
      "starting creation at Dec 03, 2023 10:21\n",
      "completed chunk 167000 articles at Dec 03, 2023 10:21 in 0.0 minutes\n",
      "starting creation at Dec 03, 2023 10:21\n",
      "completed chunk 168000 articles at Dec 03, 2023 10:21 in 0.0 minutes\n",
      "starting creation at Dec 03, 2023 10:21\n",
      "completed chunk 169000 articles at Dec 03, 2023 10:21 in 0.0 minutes\n",
      "starting creation at Dec 03, 2023 10:21\n",
      "completed chunk 170000 articles at Dec 03, 2023 10:21 in 0.0 minutes\n",
      "starting creation at Dec 03, 2023 10:21\n",
      "completed chunk 171000 articles at Dec 03, 2023 10:21 in 0.0 minutes\n",
      "starting creation at Dec 03, 2023 10:21\n",
      "completed chunk 172000 articles at Dec 03, 2023 10:21 in 0.0 minutes\n",
      "starting creation at Dec 03, 2023 10:21\n",
      "completed chunk 173000 articles at Dec 03, 2023 10:21 in 0.0 minutes\n",
      "starting creation at Dec 03, 2023 10:21\n",
      "completed chunk 174000 articles at Dec 03, 2023 10:21 in 0.0 minutes\n",
      "starting creation at Dec 03, 2023 10:21\n",
      "completed chunk 175000 articles at Dec 03, 2023 10:21 in 0.0 minutes\n",
      "starting creation at Dec 03, 2023 10:21\n",
      "completed chunk 176000 articles at Dec 03, 2023 10:21 in 0.0 minutes\n",
      "starting creation at Dec 03, 2023 10:21\n",
      "completed chunk 177000 articles at Dec 03, 2023 10:21 in 0.0 minutes\n",
      "starting creation at Dec 03, 2023 10:21\n",
      "completed chunk 178000 articles at Dec 03, 2023 10:21 in 0.0 minutes\n",
      "starting creation at Dec 03, 2023 10:21\n",
      "completed chunk 179000 articles at Dec 03, 2023 10:21 in 0.0 minutes\n",
      "starting creation at Dec 03, 2023 10:21\n",
      "completed chunk 180000 articles at Dec 03, 2023 10:21 in 0.0 minutes\n",
      "starting creation at Dec 03, 2023 10:21\n",
      "completed chunk 181000 articles at Dec 03, 2023 10:21 in 0.0 minutes\n",
      "starting creation at Dec 03, 2023 10:21\n",
      "completed chunk 182000 articles at Dec 03, 2023 10:21 in 0.0 minutes\n",
      "starting creation at Dec 03, 2023 10:21\n",
      "completed chunk 183000 articles at Dec 03, 2023 10:21 in 0.0 minutes\n",
      "starting creation at Dec 03, 2023 10:21\n",
      "completed chunk 184000 articles at Dec 03, 2023 10:21 in 0.0 minutes\n",
      "starting creation at Dec 03, 2023 10:21\n",
      "completed chunk 185000 articles at Dec 03, 2023 10:21 in 0.0 minutes\n",
      "starting creation at Dec 03, 2023 10:21\n",
      "completed chunk 186000 articles at Dec 03, 2023 10:21 in 0.0 minutes\n",
      "starting creation at Dec 03, 2023 10:21\n",
      "completed chunk 187000 articles at Dec 03, 2023 10:21 in 0.0 minutes\n",
      "starting creation at Dec 03, 2023 10:21\n",
      "completed chunk 188000 articles at Dec 03, 2023 10:21 in 0.0 minutes\n",
      "starting creation at Dec 03, 2023 10:21\n",
      "completed chunk 189000 articles at Dec 03, 2023 10:21 in 0.0 minutes\n",
      "starting creation at Dec 03, 2023 10:21\n",
      "completed chunk 190000 articles at Dec 03, 2023 10:21 in 0.0 minutes\n",
      "starting creation at Dec 03, 2023 10:21\n",
      "completed chunk 191000 articles at Dec 03, 2023 10:21 in 0.0 minutes\n",
      "starting creation at Dec 03, 2023 10:21\n",
      "completed chunk 192000 articles at Dec 03, 2023 10:21 in 0.0 minutes\n",
      "starting creation at Dec 03, 2023 10:21\n",
      "completed chunk 193000 articles at Dec 03, 2023 10:21 in 0.0 minutes\n",
      "starting creation at Dec 03, 2023 10:21\n",
      "completed chunk 194000 articles at Dec 03, 2023 10:21 in 0.0 minutes\n",
      "starting creation at Dec 03, 2023 10:21\n",
      "completed chunk 195000 articles at Dec 03, 2023 10:21 in 0.0 minutes\n",
      "starting creation at Dec 03, 2023 10:21\n",
      "completed chunk 196000 articles at Dec 03, 2023 10:21 in 0.0 minutes\n",
      "starting creation at Dec 03, 2023 10:21\n",
      "completed chunk 197000 articles at Dec 03, 2023 10:21 in 0.0 minutes\n",
      "starting creation at Dec 03, 2023 10:21\n",
      "completed chunk 198000 articles at Dec 03, 2023 10:21 in 0.0 minutes\n",
      "starting creation at Dec 03, 2023 10:21\n",
      "completed chunk 199000 articles at Dec 03, 2023 10:21 in 0.0 minutes\n",
      "starting creation at Dec 03, 2023 10:21\n",
      "completed chunk 200000 articles at Dec 03, 2023 10:21 in 0.0 minutes\n",
      "starting creation at Dec 03, 2023 10:21\n",
      "completed chunk 201000 articles at Dec 03, 2023 10:21 in 0.0 minutes\n",
      "starting creation at Dec 03, 2023 10:21\n",
      "completed chunk 202000 articles at Dec 03, 2023 10:21 in 0.0 minutes\n",
      "starting creation at Dec 03, 2023 10:21\n",
      "completed chunk 203000 articles at Dec 03, 2023 10:21 in 0.0 minutes\n",
      "starting creation at Dec 03, 2023 10:21\n",
      "completed chunk 204000 articles at Dec 03, 2023 10:21 in 0.0 minutes\n",
      "starting creation at Dec 03, 2023 10:21\n",
      "completed chunk 205000 articles at Dec 03, 2023 10:21 in 0.0 minutes\n",
      "starting creation at Dec 03, 2023 10:21\n",
      "completed chunk 206000 articles at Dec 03, 2023 10:21 in 0.0 minutes\n",
      "starting creation at Dec 03, 2023 10:21\n",
      "completed chunk 207000 articles at Dec 03, 2023 10:21 in 0.0 minutes\n",
      "starting creation at Dec 03, 2023 10:21\n",
      "completed chunk 208000 articles at Dec 03, 2023 10:21 in 0.0 minutes\n",
      "starting creation at Dec 03, 2023 10:21\n",
      "completed chunk 209000 articles at Dec 03, 2023 10:21 in 0.0 minutes\n",
      "starting creation at Dec 03, 2023 10:21\n",
      "completed chunk 210000 articles at Dec 03, 2023 10:21 in 0.0 minutes\n",
      "starting creation at Dec 03, 2023 10:21\n",
      "completed chunk 211000 articles at Dec 03, 2023 10:21 in 0.0 minutes\n",
      "starting creation at Dec 03, 2023 10:21\n",
      "completed chunk 212000 articles at Dec 03, 2023 10:21 in 0.0 minutes\n",
      "starting creation at Dec 03, 2023 10:21\n",
      "completed chunk 213000 articles at Dec 03, 2023 10:21 in 0.0 minutes\n",
      "starting creation at Dec 03, 2023 10:21\n",
      "completed chunk 214000 articles at Dec 03, 2023 10:21 in 0.0 minutes\n",
      "starting creation at Dec 03, 2023 10:21\n",
      "completed chunk 215000 articles at Dec 03, 2023 10:21 in 0.0 minutes\n",
      "starting creation at Dec 03, 2023 10:21\n",
      "completed chunk 216000 articles at Dec 03, 2023 10:21 in 0.0 minutes\n",
      "starting creation at Dec 03, 2023 10:21\n",
      "completed chunk 217000 articles at Dec 03, 2023 10:21 in 0.0 minutes\n",
      "starting creation at Dec 03, 2023 10:21\n",
      "completed chunk 218000 articles at Dec 03, 2023 10:21 in 0.0 minutes\n",
      "starting creation at Dec 03, 2023 10:21\n",
      "completed chunk 219000 articles at Dec 03, 2023 10:21 in 0.0 minutes\n",
      "starting creation at Dec 03, 2023 10:21\n",
      "completed chunk 220000 articles at Dec 03, 2023 10:21 in 0.0 minutes\n",
      "starting creation at Dec 03, 2023 10:21\n",
      "completed chunk 221000 articles at Dec 03, 2023 10:21 in 0.0 minutes\n",
      "starting creation at Dec 03, 2023 10:21\n",
      "completed chunk 222000 articles at Dec 03, 2023 10:21 in 0.0 minutes\n",
      "starting creation at Dec 03, 2023 10:21\n",
      "completed chunk 223000 articles at Dec 03, 2023 10:21 in 0.0 minutes\n",
      "starting creation at Dec 03, 2023 10:21\n",
      "completed chunk 224000 articles at Dec 03, 2023 10:21 in 0.0 minutes\n",
      "starting creation at Dec 03, 2023 10:21\n",
      "completed chunk 225000 articles at Dec 03, 2023 10:21 in 0.0 minutes\n",
      "starting creation at Dec 03, 2023 10:21\n",
      "completed chunk 226000 articles at Dec 03, 2023 10:21 in 0.0 minutes\n",
      "starting creation at Dec 03, 2023 10:21\n",
      "completed chunk 227000 articles at Dec 03, 2023 10:21 in 0.0 minutes\n",
      "starting creation at Dec 03, 2023 10:21\n",
      "completed chunk 228000 articles at Dec 03, 2023 10:21 in 0.0 minutes\n",
      "starting creation at Dec 03, 2023 10:21\n",
      "completed chunk 229000 articles at Dec 03, 2023 10:21 in 0.0 minutes\n",
      "starting creation at Dec 03, 2023 10:21\n",
      "completed chunk 230000 articles at Dec 03, 2023 10:21 in 0.0 minutes\n",
      "starting creation at Dec 03, 2023 10:21\n",
      "completed chunk 231000 articles at Dec 03, 2023 10:21 in 0.0 minutes\n",
      "starting creation at Dec 03, 2023 10:21\n",
      "completed chunk 232000 articles at Dec 03, 2023 10:21 in 0.0 minutes\n",
      "starting creation at Dec 03, 2023 10:21\n",
      "completed chunk 233000 articles at Dec 03, 2023 10:21 in 0.0 minutes\n",
      "starting creation at Dec 03, 2023 10:21\n",
      "completed chunk 234000 articles at Dec 03, 2023 10:21 in 0.0 minutes\n",
      "starting creation at Dec 03, 2023 10:21\n",
      "completed chunk 235000 articles at Dec 03, 2023 10:21 in 0.0 minutes\n",
      "starting creation at Dec 03, 2023 10:21\n",
      "completed chunk 236000 articles at Dec 03, 2023 10:21 in 0.0 minutes\n",
      "starting creation at Dec 03, 2023 10:21\n",
      "completed chunk 237000 articles at Dec 03, 2023 10:21 in 0.0 minutes\n",
      "starting creation at Dec 03, 2023 10:21\n",
      "completed chunk 238000 articles at Dec 03, 2023 10:21 in 0.0 minutes\n",
      "starting creation at Dec 03, 2023 10:21\n",
      "completed chunk 239000 articles at Dec 03, 2023 10:21 in 0.0 minutes\n",
      "starting creation at Dec 03, 2023 10:21\n",
      "completed chunk 240000 articles at Dec 03, 2023 10:21 in 0.0 minutes\n",
      "starting creation at Dec 03, 2023 10:21\n",
      "completed chunk 241000 articles at Dec 03, 2023 10:21 in 0.0 minutes\n",
      "starting creation at Dec 03, 2023 10:21\n",
      "completed chunk 242000 articles at Dec 03, 2023 10:21 in 0.0 minutes\n",
      "starting creation at Dec 03, 2023 10:21\n",
      "completed chunk 243000 articles at Dec 03, 2023 10:21 in 0.0 minutes\n",
      "starting creation at Dec 03, 2023 10:21\n",
      "completed chunk 244000 articles at Dec 03, 2023 10:21 in 0.0 minutes\n",
      "starting creation at Dec 03, 2023 10:21\n",
      "completed chunk 245000 articles at Dec 03, 2023 10:21 in 0.0 minutes\n",
      "starting creation at Dec 03, 2023 10:21\n",
      "completed chunk 246000 articles at Dec 03, 2023 10:21 in 0.0 minutes\n",
      "starting creation at Dec 03, 2023 10:21\n",
      "completed chunk 247000 articles at Dec 03, 2023 10:21 in 0.0 minutes\n",
      "starting creation at Dec 03, 2023 10:21\n",
      "completed chunk 248000 articles at Dec 03, 2023 10:21 in 0.0 minutes\n",
      "starting creation at Dec 03, 2023 10:21\n",
      "completed chunk 249000 articles at Dec 03, 2023 10:21 in 0.0 minutes\n",
      "starting creation at Dec 03, 2023 10:21\n",
      "completed chunk 250000 articles at Dec 03, 2023 10:21 in 0.0 minutes\n",
      "starting creation at Dec 03, 2023 10:21\n",
      "completed chunk 251000 articles at Dec 03, 2023 10:21 in 0.0 minutes\n",
      "starting creation at Dec 03, 2023 10:21\n",
      "completed chunk 252000 articles at Dec 03, 2023 10:21 in 0.0 minutes\n",
      "starting creation at Dec 03, 2023 10:21\n",
      "completed chunk 253000 articles at Dec 03, 2023 10:21 in 0.0 minutes\n",
      "starting creation at Dec 03, 2023 10:21\n",
      "completed chunk 254000 articles at Dec 03, 2023 10:21 in 0.0 minutes\n",
      "starting creation at Dec 03, 2023 10:21\n",
      "completed chunk 255000 articles at Dec 03, 2023 10:21 in 0.0 minutes\n",
      "starting creation at Dec 03, 2023 10:21\n",
      "completed chunk 256000 articles at Dec 03, 2023 10:21 in 0.0 minutes\n",
      "starting creation at Dec 03, 2023 10:21\n",
      "completed chunk 257000 articles at Dec 03, 2023 10:21 in 0.0 minutes\n",
      "starting creation at Dec 03, 2023 10:21\n",
      "completed chunk 258000 articles at Dec 03, 2023 10:21 in 0.0 minutes\n",
      "starting creation at Dec 03, 2023 10:21\n",
      "completed chunk 259000 articles at Dec 03, 2023 10:21 in 0.0 minutes\n",
      "starting creation at Dec 03, 2023 10:21\n",
      "completed chunk 260000 articles at Dec 03, 2023 10:21 in 0.0 minutes\n",
      "starting creation at Dec 03, 2023 10:21\n",
      "completed chunk 261000 articles at Dec 03, 2023 10:21 in 0.0 minutes\n",
      "starting creation at Dec 03, 2023 10:21\n",
      "completed chunk 262000 articles at Dec 03, 2023 10:21 in 0.0 minutes\n",
      "starting creation at Dec 03, 2023 10:21\n",
      "completed chunk 263000 articles at Dec 03, 2023 10:21 in 0.0 minutes\n",
      "starting creation at Dec 03, 2023 10:21\n",
      "completed chunk 264000 articles at Dec 03, 2023 10:21 in 0.0 minutes\n",
      "starting creation at Dec 03, 2023 10:21\n",
      "completed chunk 265000 articles at Dec 03, 2023 10:21 in 0.0 minutes\n",
      "starting creation at Dec 03, 2023 10:21\n",
      "completed chunk 266000 articles at Dec 03, 2023 10:21 in 0.0 minutes\n",
      "starting creation at Dec 03, 2023 10:21\n",
      "completed chunk 267000 articles at Dec 03, 2023 10:21 in 0.0 minutes\n",
      "starting creation at Dec 03, 2023 10:21\n",
      "completed chunk 268000 articles at Dec 03, 2023 10:21 in 0.0 minutes\n",
      "starting creation at Dec 03, 2023 10:21\n",
      "completed chunk 269000 articles at Dec 03, 2023 10:21 in 0.0 minutes\n",
      "starting creation at Dec 03, 2023 10:21\n",
      "completed chunk 270000 articles at Dec 03, 2023 10:21 in 0.0 minutes\n",
      "starting creation at Dec 03, 2023 10:21\n",
      "completed chunk 271000 articles at Dec 03, 2023 10:21 in 0.0 minutes\n",
      "starting creation at Dec 03, 2023 10:21\n",
      "completed chunk 272000 articles at Dec 03, 2023 10:21 in 0.0 minutes\n",
      "starting creation at Dec 03, 2023 10:21\n",
      "completed chunk 273000 articles at Dec 03, 2023 10:21 in 0.0 minutes\n",
      "starting creation at Dec 03, 2023 10:21\n",
      "completed chunk 274000 articles at Dec 03, 2023 10:21 in 0.0 minutes\n",
      "starting creation at Dec 03, 2023 10:21\n",
      "completed chunk 275000 articles at Dec 03, 2023 10:21 in 0.0 minutes\n",
      "starting creation at Dec 03, 2023 10:21\n",
      "completed chunk 276000 articles at Dec 03, 2023 10:21 in 0.0 minutes\n",
      "starting creation at Dec 03, 2023 10:21\n",
      "completed chunk 277000 articles at Dec 03, 2023 10:21 in 0.0 minutes\n",
      "starting creation at Dec 03, 2023 10:21\n",
      "completed chunk 278000 articles at Dec 03, 2023 10:21 in 0.0 minutes\n",
      "starting creation at Dec 03, 2023 10:21\n",
      "completed chunk 279000 articles at Dec 03, 2023 10:21 in 0.0 minutes\n",
      "starting creation at Dec 03, 2023 10:21\n",
      "completed chunk 280000 articles at Dec 03, 2023 10:21 in 0.0 minutes\n",
      "starting creation at Dec 03, 2023 10:21\n",
      "completed chunk 281000 articles at Dec 03, 2023 10:21 in 0.0 minutes\n",
      "starting creation at Dec 03, 2023 10:21\n",
      "completed chunk 282000 articles at Dec 03, 2023 10:21 in 0.0 minutes\n",
      "starting creation at Dec 03, 2023 10:21\n",
      "completed chunk 283000 articles at Dec 03, 2023 10:21 in 0.0 minutes\n",
      "starting creation at Dec 03, 2023 10:21\n",
      "completed chunk 284000 articles at Dec 03, 2023 10:21 in 0.0 minutes\n",
      "starting creation at Dec 03, 2023 10:21\n",
      "completed chunk 285000 articles at Dec 03, 2023 10:21 in 0.0 minutes\n",
      "starting creation at Dec 03, 2023 10:21\n",
      "completed chunk 286000 articles at Dec 03, 2023 10:21 in 0.0 minutes\n",
      "starting creation at Dec 03, 2023 10:21\n",
      "completed chunk 287000 articles at Dec 03, 2023 10:21 in 0.0 minutes\n",
      "starting creation at Dec 03, 2023 10:21\n",
      "completed chunk 288000 articles at Dec 03, 2023 10:21 in 0.0 minutes\n",
      "starting creation at Dec 03, 2023 10:21\n",
      "completed chunk 289000 articles at Dec 03, 2023 10:21 in 0.0 minutes\n",
      "starting creation at Dec 03, 2023 10:21\n",
      "completed chunk 290000 articles at Dec 03, 2023 10:21 in 0.0 minutes\n",
      "starting creation at Dec 03, 2023 10:21\n",
      "completed chunk 291000 articles at Dec 03, 2023 10:21 in 0.0 minutes\n",
      "starting creation at Dec 03, 2023 10:21\n",
      "completed chunk 292000 articles at Dec 03, 2023 10:21 in 0.0 minutes\n",
      "starting creation at Dec 03, 2023 10:21\n",
      "completed chunk 293000 articles at Dec 03, 2023 10:21 in 0.0 minutes\n",
      "starting creation at Dec 03, 2023 10:21\n",
      "completed chunk 294000 articles at Dec 03, 2023 10:21 in 0.0 minutes\n",
      "starting creation at Dec 03, 2023 10:21\n",
      "completed chunk 295000 articles at Dec 03, 2023 10:21 in 0.0 minutes\n",
      "starting creation at Dec 03, 2023 10:21\n",
      "completed chunk 296000 articles at Dec 03, 2023 10:21 in 0.0 minutes\n",
      "starting creation at Dec 03, 2023 10:21\n",
      "completed chunk 297000 articles at Dec 03, 2023 10:21 in 0.0 minutes\n",
      "starting creation at Dec 03, 2023 10:21\n",
      "completed chunk 298000 articles at Dec 03, 2023 10:21 in 0.0 minutes\n",
      "starting creation at Dec 03, 2023 10:21\n",
      "completed chunk 299000 articles at Dec 03, 2023 10:21 in 0.0 minutes\n",
      "starting creation at Dec 03, 2023 10:21\n",
      "completed chunk 300000 articles at Dec 03, 2023 10:21 in 0.0 minutes\n",
      "starting creation at Dec 03, 2023 10:21\n",
      "completed chunk 301000 articles at Dec 03, 2023 10:21 in 0.0 minutes\n",
      "starting creation at Dec 03, 2023 10:21\n",
      "completed chunk 302000 articles at Dec 03, 2023 10:21 in 0.0 minutes\n",
      "starting creation at Dec 03, 2023 10:21\n",
      "completed chunk 303000 articles at Dec 03, 2023 10:21 in 0.0 minutes\n",
      "starting creation at Dec 03, 2023 10:21\n",
      "completed chunk 304000 articles at Dec 03, 2023 10:21 in 0.0 minutes\n",
      "starting creation at Dec 03, 2023 10:21\n",
      "completed chunk 305000 articles at Dec 03, 2023 10:21 in 0.0 minutes\n",
      "starting creation at Dec 03, 2023 10:21\n",
      "completed chunk 306000 articles at Dec 03, 2023 10:21 in 0.0 minutes\n",
      "starting creation at Dec 03, 2023 10:21\n",
      "completed chunk 307000 articles at Dec 03, 2023 10:21 in 0.0 minutes\n",
      "starting creation at Dec 03, 2023 10:21\n",
      "completed chunk 308000 articles at Dec 03, 2023 10:21 in 0.0 minutes\n",
      "starting creation at Dec 03, 2023 10:21\n",
      "completed chunk 309000 articles at Dec 03, 2023 10:21 in 0.0 minutes\n",
      "starting creation at Dec 03, 2023 10:21\n",
      "completed chunk 310000 articles at Dec 03, 2023 10:21 in 0.0 minutes\n",
      "starting creation at Dec 03, 2023 10:21\n",
      "completed chunk 311000 articles at Dec 03, 2023 10:21 in 0.0 minutes\n",
      "starting creation at Dec 03, 2023 10:21\n",
      "completed chunk 312000 articles at Dec 03, 2023 10:21 in 0.0 minutes\n",
      "starting creation at Dec 03, 2023 10:21\n",
      "completed chunk 313000 articles at Dec 03, 2023 10:21 in 0.0 minutes\n",
      "starting creation at Dec 03, 2023 10:21\n",
      "completed chunk 314000 articles at Dec 03, 2023 10:21 in 0.0 minutes\n",
      "starting creation at Dec 03, 2023 10:21\n",
      "completed chunk 315000 articles at Dec 03, 2023 10:21 in 0.0 minutes\n",
      "starting creation at Dec 03, 2023 10:21\n",
      "completed chunk 316000 articles at Dec 03, 2023 10:21 in 0.0 minutes\n",
      "starting creation at Dec 03, 2023 10:21\n",
      "completed chunk 317000 articles at Dec 03, 2023 10:21 in 0.0 minutes\n",
      "starting creation at Dec 03, 2023 10:21\n",
      "completed chunk 318000 articles at Dec 03, 2023 10:21 in 0.0 minutes\n",
      "starting creation at Dec 03, 2023 10:21\n",
      "completed chunk 319000 articles at Dec 03, 2023 10:21 in 0.0 minutes\n",
      "starting creation at Dec 03, 2023 10:21\n",
      "completed chunk 320000 articles at Dec 03, 2023 10:21 in 0.0 minutes\n",
      "starting creation at Dec 03, 2023 10:21\n",
      "completed chunk 321000 articles at Dec 03, 2023 10:21 in 0.0 minutes\n",
      "starting creation at Dec 03, 2023 10:21\n",
      "completed chunk 322000 articles at Dec 03, 2023 10:21 in 0.0 minutes\n",
      "starting creation at Dec 03, 2023 10:21\n",
      "completed chunk 323000 articles at Dec 03, 2023 10:21 in 0.0 minutes\n",
      "starting creation at Dec 03, 2023 10:21\n",
      "completed chunk 324000 articles at Dec 03, 2023 10:21 in 0.0 minutes\n",
      "starting creation at Dec 03, 2023 10:21\n",
      "completed chunk 325000 articles at Dec 03, 2023 10:21 in 0.0 minutes\n",
      "starting creation at Dec 03, 2023 10:21\n",
      "completed chunk 326000 articles at Dec 03, 2023 10:21 in 0.0 minutes\n",
      "starting creation at Dec 03, 2023 10:21\n",
      "completed chunk 327000 articles at Dec 03, 2023 10:21 in 0.0 minutes\n",
      "starting creation at Dec 03, 2023 10:21\n",
      "completed chunk 328000 articles at Dec 03, 2023 10:21 in 0.0 minutes\n",
      "starting creation at Dec 03, 2023 10:21\n",
      "completed chunk 329000 articles at Dec 03, 2023 10:21 in 0.0 minutes\n",
      "starting creation at Dec 03, 2023 10:21\n",
      "completed chunk 330000 articles at Dec 03, 2023 10:21 in 0.0 minutes\n",
      "starting creation at Dec 03, 2023 10:21\n",
      "completed chunk 331000 articles at Dec 03, 2023 10:21 in 0.0 minutes\n",
      "starting creation at Dec 03, 2023 10:21\n",
      "completed chunk 332000 articles at Dec 03, 2023 10:21 in 0.0 minutes\n",
      "starting creation at Dec 03, 2023 10:21\n",
      "completed chunk 333000 articles at Dec 03, 2023 10:21 in 0.0 minutes\n",
      "starting creation at Dec 03, 2023 10:21\n",
      "completed chunk 334000 articles at Dec 03, 2023 10:21 in 0.0 minutes\n",
      "starting creation at Dec 03, 2023 10:21\n",
      "completed chunk 335000 articles at Dec 03, 2023 10:21 in 0.0 minutes\n",
      "starting creation at Dec 03, 2023 10:21\n",
      "completed chunk 336000 articles at Dec 03, 2023 10:21 in 0.0 minutes\n",
      "starting creation at Dec 03, 2023 10:21\n",
      "completed chunk 337000 articles at Dec 03, 2023 10:21 in 0.0 minutes\n",
      "starting creation at Dec 03, 2023 10:21\n",
      "completed chunk 338000 articles at Dec 03, 2023 10:21 in 0.0 minutes\n",
      "starting creation at Dec 03, 2023 10:21\n",
      "completed chunk 339000 articles at Dec 03, 2023 10:21 in 0.0 minutes\n",
      "starting creation at Dec 03, 2023 10:21\n",
      "completed chunk 340000 articles at Dec 03, 2023 10:21 in 0.0 minutes\n",
      "starting creation at Dec 03, 2023 10:21\n",
      "completed chunk 341000 articles at Dec 03, 2023 10:21 in 0.0 minutes\n",
      "starting creation at Dec 03, 2023 10:21\n",
      "completed chunk 342000 articles at Dec 03, 2023 10:21 in 0.0 minutes\n",
      "starting creation at Dec 03, 2023 10:21\n",
      "completed chunk 343000 articles at Dec 03, 2023 10:21 in 0.0 minutes\n",
      "starting creation at Dec 03, 2023 10:21\n",
      "completed chunk 344000 articles at Dec 03, 2023 10:21 in 0.0 minutes\n",
      "starting creation at Dec 03, 2023 10:21\n",
      "completed chunk 345000 articles at Dec 03, 2023 10:21 in 0.0 minutes\n",
      "starting creation at Dec 03, 2023 10:21\n",
      "completed chunk 346000 articles at Dec 03, 2023 10:21 in 0.0 minutes\n",
      "starting creation at Dec 03, 2023 10:21\n",
      "completed chunk 347000 articles at Dec 03, 2023 10:21 in 0.0 minutes\n",
      "starting creation at Dec 03, 2023 10:21\n",
      "completed chunk 348000 articles at Dec 03, 2023 10:21 in 0.0 minutes\n",
      "starting creation at Dec 03, 2023 10:21\n",
      "completed chunk 349000 articles at Dec 03, 2023 10:21 in 0.0 minutes\n",
      "starting creation at Dec 03, 2023 10:21\n",
      "completed chunk 350000 articles at Dec 03, 2023 10:21 in 0.0 minutes\n",
      "starting creation at Dec 03, 2023 10:21\n",
      "completed chunk 351000 articles at Dec 03, 2023 10:21 in 0.0 minutes\n",
      "starting creation at Dec 03, 2023 10:21\n",
      "completed chunk 352000 articles at Dec 03, 2023 10:21 in 0.0 minutes\n",
      "starting creation at Dec 03, 2023 10:21\n",
      "completed chunk 353000 articles at Dec 03, 2023 10:21 in 0.0 minutes\n",
      "starting creation at Dec 03, 2023 10:21\n",
      "completed chunk 354000 articles at Dec 03, 2023 10:21 in 0.0 minutes\n",
      "starting creation at Dec 03, 2023 10:21\n",
      "completed chunk 355000 articles at Dec 03, 2023 10:21 in 0.0 minutes\n",
      "starting creation at Dec 03, 2023 10:21\n",
      "completed chunk 356000 articles at Dec 03, 2023 10:21 in 0.0 minutes\n",
      "starting creation at Dec 03, 2023 10:21\n",
      "completed chunk 357000 articles at Dec 03, 2023 10:21 in 0.0 minutes\n",
      "starting creation at Dec 03, 2023 10:21\n",
      "completed chunk 358000 articles at Dec 03, 2023 10:21 in 0.0 minutes\n",
      "starting creation at Dec 03, 2023 10:21\n",
      "completed chunk 359000 articles at Dec 03, 2023 10:21 in 0.0 minutes\n",
      "starting creation at Dec 03, 2023 10:21\n",
      "completed chunk 360000 articles at Dec 03, 2023 10:21 in 0.0 minutes\n",
      "starting creation at Dec 03, 2023 10:21\n",
      "completed chunk 361000 articles at Dec 03, 2023 10:21 in 0.0 minutes\n",
      "starting creation at Dec 03, 2023 10:21\n",
      "completed chunk 362000 articles at Dec 03, 2023 10:21 in 0.0 minutes\n",
      "starting creation at Dec 03, 2023 10:21\n",
      "completed chunk 363000 articles at Dec 03, 2023 10:21 in 0.0 minutes\n",
      "starting creation at Dec 03, 2023 10:21\n",
      "completed chunk 364000 articles at Dec 03, 2023 10:21 in 0.0 minutes\n",
      "starting creation at Dec 03, 2023 10:21\n",
      "completed chunk 365000 articles at Dec 03, 2023 10:21 in 0.0 minutes\n",
      "starting creation at Dec 03, 2023 10:21\n",
      "completed chunk 366000 articles at Dec 03, 2023 10:21 in 0.0 minutes\n",
      "starting creation at Dec 03, 2023 10:21\n",
      "completed chunk 367000 articles at Dec 03, 2023 10:21 in 0.0 minutes\n",
      "starting creation at Dec 03, 2023 10:21\n",
      "completed chunk 368000 articles at Dec 03, 2023 10:21 in 0.0 minutes\n",
      "starting creation at Dec 03, 2023 10:21\n",
      "completed chunk 369000 articles at Dec 03, 2023 10:21 in 0.0 minutes\n",
      "starting creation at Dec 03, 2023 10:21\n",
      "completed chunk 370000 articles at Dec 03, 2023 10:21 in 0.0 minutes\n",
      "starting creation at Dec 03, 2023 10:21\n",
      "completed chunk 371000 articles at Dec 03, 2023 10:21 in 0.0 minutes\n",
      "starting creation at Dec 03, 2023 10:21\n",
      "completed chunk 372000 articles at Dec 03, 2023 10:21 in 0.0 minutes\n",
      "starting creation at Dec 03, 2023 10:21\n",
      "completed chunk 373000 articles at Dec 03, 2023 10:21 in 0.0 minutes\n",
      "starting creation at Dec 03, 2023 10:21\n",
      "completed chunk 374000 articles at Dec 03, 2023 10:21 in 0.0 minutes\n",
      "starting creation at Dec 03, 2023 10:21\n",
      "completed chunk 375000 articles at Dec 03, 2023 10:21 in 0.0 minutes\n",
      "starting creation at Dec 03, 2023 10:21\n",
      "completed chunk 376000 articles at Dec 03, 2023 10:21 in 0.0 minutes\n",
      "starting creation at Dec 03, 2023 10:21\n",
      "completed chunk 377000 articles at Dec 03, 2023 10:21 in 0.0 minutes\n",
      "starting creation at Dec 03, 2023 10:21\n",
      "completed chunk 378000 articles at Dec 03, 2023 10:21 in 0.0 minutes\n",
      "starting creation at Dec 03, 2023 10:21\n",
      "completed chunk 379000 articles at Dec 03, 2023 10:21 in 0.0 minutes\n",
      "starting creation at Dec 03, 2023 10:21\n",
      "completed chunk 380000 articles at Dec 03, 2023 10:21 in 0.0 minutes\n",
      "starting creation at Dec 03, 2023 10:21\n",
      "completed chunk 381000 articles at Dec 03, 2023 10:21 in 0.0 minutes\n",
      "starting creation at Dec 03, 2023 10:21\n",
      "completed chunk 382000 articles at Dec 03, 2023 10:21 in 0.0 minutes\n"
     ]
    }
   ],
   "source": [
    "num_chunks = len(missing_articles)//1000 + 1\n",
    "for i in range(num_chunks):\n",
    "    article_chunk = missing_articles[i*1000:(i+1)*1000]\n",
    "    print(f'starting creation at {\"{:%b %d, %Y %H:%M}\".format(datetime.now())}')\n",
    "    start_time = time.time()\n",
    "    with ThreadPoolExecutor(max_workers=10) as executor:\n",
    "        futures = [executor.submit(add_missing_article_to_db, art_id) for art_id in article_chunk]\n",
    "\n",
    "        for future in as_completed(futures):\n",
    "            response = future.result()\n",
    "            if response:  # Timeout or other errors\n",
    "                completed_article_ids.append(response)\n",
    "                continue\n",
    "    print(f'completed chunk {(i + 1) * 1000} articles at {\"{:%b %d, %Y %H:%M}\".format(datetime.now())} in {int(time.time() - start_time)/60} minutes')"
   ]
  },
  {
   "cell_type": "markdown",
   "id": "fb8e1736-47d5-48cd-8f3b-7242911df149",
   "metadata": {},
   "source": [
    "#### Missing from cluster_mapping"
   ]
  },
  {
   "cell_type": "code",
   "execution_count": 105,
   "id": "613f6106-6eae-4170-9ab8-579888db50f6",
   "metadata": {
    "tags": []
   },
   "outputs": [],
   "source": [
    "from sql.PostgresDatabaseOperation import PostgresDatabaseOperation"
   ]
  },
  {
   "cell_type": "code",
   "execution_count": 106,
   "id": "d54180ec-3ca6-498e-9b30-4e37ca84c9ee",
   "metadata": {
    "tags": []
   },
   "outputs": [],
   "source": [
    "with PostgresDatabaseOperation() as cursor:\n",
    "    sql = 'SELECT DISTINCT article_id from article_to_cluster_mapping'\n",
    "    cursor.execute(sql)\n",
    "    results = cursor.fetchall()"
   ]
  },
  {
   "cell_type": "code",
   "execution_count": 107,
   "id": "79b6f0b9-c0a1-4fe3-ab57-44a9b02182e7",
   "metadata": {
    "tags": []
   },
   "outputs": [],
   "source": [
    "cluster_db_article_ids = [x[0] for x in results]"
   ]
  },
  {
   "cell_type": "code",
   "execution_count": 108,
   "id": "7017bbfd-50cb-4837-92dc-69f741892ea0",
   "metadata": {
    "tags": []
   },
   "outputs": [],
   "source": [
    "with PostgresDatabaseOperation() as cursor:\n",
    "    sql = 'SELECT DISTINCT article_id from embeddings'\n",
    "    cursor.execute(sql)\n",
    "    results = cursor.fetchall()"
   ]
  },
  {
   "cell_type": "code",
   "execution_count": 109,
   "id": "2d57bb54-8bd4-456c-99d7-c89cad2e7fc8",
   "metadata": {
    "tags": []
   },
   "outputs": [],
   "source": [
    "embeddings_db_article_ids = [x[0] for x in results]"
   ]
  },
  {
   "cell_type": "code",
   "execution_count": 110,
   "id": "30536685-86ff-43ca-85e5-dd20ee494436",
   "metadata": {
    "tags": []
   },
   "outputs": [],
   "source": [
    "missing_articles = set(embeddings_db_article_ids) - set(cluster_db_article_ids)\n",
    "missing_articles = list(missing_articles)"
   ]
  },
  {
   "cell_type": "code",
   "execution_count": 111,
   "id": "4d8a5553-30bb-41cf-851a-575de115eb50",
   "metadata": {
    "tags": []
   },
   "outputs": [
    {
     "data": {
      "text/plain": [
       "11"
      ]
     },
     "execution_count": 111,
     "metadata": {},
     "output_type": "execute_result"
    }
   ],
   "source": [
    "len(missing_articles)"
   ]
  },
  {
   "cell_type": "code",
   "execution_count": 97,
   "id": "aa116109-1a52-4b78-a2e6-d64a61d3592a",
   "metadata": {
    "tags": []
   },
   "outputs": [],
   "source": [
    "def assign_missing_article_to_cluster(article_id):\n",
    "    r = requests.post('http://Arcane-env.eba-mrsaixmg.ap-south-1.elasticbeanstalk.com/assign_cluster', json={'articleId': article_id})\n",
    "    if r.status_code == 200:\n",
    "        return article_id"
   ]
  },
  {
   "cell_type": "code",
   "execution_count": 98,
   "id": "8d436df0-8555-4704-b98d-66bd52a94ada",
   "metadata": {
    "tags": []
   },
   "outputs": [],
   "source": [
    "num_chunks = len(missing_articles)//200 + 1"
   ]
  },
  {
   "cell_type": "code",
   "execution_count": 99,
   "id": "db92bdf2-855a-45b1-8848-1086010bed3c",
   "metadata": {
    "tags": []
   },
   "outputs": [],
   "source": [
    "from datetime import datetime\n",
    "import time\n",
    "import requests"
   ]
  },
  {
   "cell_type": "code",
   "execution_count": 100,
   "id": "f65556be-9cec-4074-920b-427aea1b8e2d",
   "metadata": {
    "tags": []
   },
   "outputs": [],
   "source": [
    "completed_article_ids = []"
   ]
  },
  {
   "cell_type": "code",
   "execution_count": 101,
   "id": "6e6abaf9-f015-48b3-8daa-d99bad8e84dd",
   "metadata": {
    "tags": []
   },
   "outputs": [
    {
     "name": "stdout",
     "output_type": "stream",
     "text": [
      "starting creation at Dec 10, 2023 10:22\n",
      "completed chunk 200 articles at Dec 10, 2023 10:42 in 19.95 minutes\n",
      "starting creation at Dec 10, 2023 10:42\n",
      "completed chunk 400 articles at Dec 10, 2023 11:02 in 20.05 minutes\n",
      "starting creation at Dec 10, 2023 11:02\n",
      "completed chunk 600 articles at Dec 10, 2023 11:22 in 20.05 minutes\n",
      "starting creation at Dec 10, 2023 11:22\n",
      "completed chunk 800 articles at Dec 10, 2023 11:42 in 20.05 minutes\n",
      "starting creation at Dec 10, 2023 11:42\n",
      "completed chunk 1000 articles at Dec 10, 2023 12:02 in 20.066666666666666 minutes\n",
      "starting creation at Dec 10, 2023 12:02\n",
      "completed chunk 1200 articles at Dec 10, 2023 12:22 in 20.066666666666666 minutes\n",
      "starting creation at Dec 10, 2023 12:22\n",
      "completed chunk 1400 articles at Dec 10, 2023 12:32 in 9.966666666666667 minutes\n",
      "starting creation at Dec 10, 2023 12:32\n",
      "completed chunk 1600 articles at Dec 10, 2023 12:36 in 3.3333333333333335 minutes\n",
      "starting creation at Dec 10, 2023 12:36\n",
      "completed chunk 1800 articles at Dec 10, 2023 12:38 in 2.816666666666667 minutes\n",
      "starting creation at Dec 10, 2023 12:38\n",
      "completed chunk 2000 articles at Dec 10, 2023 12:41 in 2.816666666666667 minutes\n",
      "starting creation at Dec 10, 2023 12:41\n",
      "completed chunk 2200 articles at Dec 10, 2023 12:44 in 2.816666666666667 minutes\n",
      "starting creation at Dec 10, 2023 12:44\n",
      "completed chunk 2400 articles at Dec 10, 2023 12:47 in 2.783333333333333 minutes\n",
      "starting creation at Dec 10, 2023 12:47\n",
      "completed chunk 2600 articles at Dec 10, 2023 12:50 in 2.816666666666667 minutes\n",
      "starting creation at Dec 10, 2023 12:50\n",
      "completed chunk 2800 articles at Dec 10, 2023 12:53 in 2.816666666666667 minutes\n",
      "starting creation at Dec 10, 2023 12:53\n",
      "completed chunk 3000 articles at Dec 10, 2023 12:55 in 2.816666666666667 minutes\n",
      "starting creation at Dec 10, 2023 12:55\n",
      "completed chunk 3200 articles at Dec 10, 2023 12:58 in 2.816666666666667 minutes\n",
      "starting creation at Dec 10, 2023 12:58\n",
      "completed chunk 3400 articles at Dec 10, 2023 13:01 in 2.8 minutes\n",
      "starting creation at Dec 10, 2023 13:01\n",
      "completed chunk 3600 articles at Dec 10, 2023 13:04 in 2.8 minutes\n",
      "starting creation at Dec 10, 2023 13:04\n",
      "completed chunk 3800 articles at Dec 10, 2023 13:05 in 0.75 minutes\n"
     ]
    }
   ],
   "source": [
    "for i in range(num_chunks):\n",
    "    article_chunk = missing_articles[i*200:(i+1)*200]\n",
    "    print(f'starting creation at {\"{:%b %d, %Y %H:%M}\".format(datetime.now())}')\n",
    "    start_time = time.time()\n",
    "    with ThreadPoolExecutor(max_workers=10) as executor:\n",
    "        futures = [executor.submit(assign_missing_article_to_cluster, art_id) for art_id in article_chunk]\n",
    "        for future in as_completed(futures):\n",
    "            response = future.result()\n",
    "    print(f'completed chunk {(i + 1) * 200} articles at {\"{:%b %d, %Y %H:%M}\".format(datetime.now())} in {int(time.time() - start_time)/60} minutes')"
   ]
  },
  {
   "cell_type": "code",
   "execution_count": 102,
   "id": "4d72e617-9c7b-4c17-be2a-0237165d0763",
   "metadata": {},
   "outputs": [],
   "source": [
    "# r = requests.post('http://Arcane-env.eba-mrsaixmg.ap-south-1.elasticbeanstalk.com/update_candidates')"
   ]
  },
  {
   "cell_type": "code",
   "execution_count": null,
   "id": "f0fd1d97-b368-4945-8038-e3075b9741c0",
   "metadata": {},
   "outputs": [],
   "source": []
  }
 ],
 "metadata": {
  "kernelspec": {
   "display_name": "bertopicenv",
   "language": "python",
   "name": "bertopicenv"
  },
  "language_info": {
   "codemirror_mode": {
    "name": "ipython",
    "version": 3
   },
   "file_extension": ".py",
   "mimetype": "text/x-python",
   "name": "python",
   "nbconvert_exporter": "python",
   "pygments_lexer": "ipython3",
   "version": "3.9.18"
  }
 },
 "nbformat": 4,
 "nbformat_minor": 5
}
