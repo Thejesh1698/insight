{
 "cells": [
  {
   "cell_type": "code",
   "execution_count": 2,
   "id": "83c11d50-8298-4043-b366-f4a18be06649",
   "metadata": {
    "tags": []
   },
   "outputs": [
    {
     "name": "stdout",
     "output_type": "stream",
     "text": [
      "Requirement already satisfied: jsonformer in /Users/username/anaconda3/envs/llms/lib/python3.11/site-packages (0.12.0)\n",
      "Requirement already satisfied: termcolor<3.0.0,>=2.3.0 in /Users/username/anaconda3/envs/llms/lib/python3.11/site-packages (from jsonformer) (2.3.0)\n"
     ]
    }
   ],
   "source": [
    "!pip install jsonformer"
   ]
  },
  {
   "cell_type": "code",
   "execution_count": 1,
   "id": "b4921432-2515-48c2-8cab-acb9994d8397",
   "metadata": {
    "tags": []
   },
   "outputs": [
    {
     "name": "stderr",
     "output_type": "stream",
     "text": [
      "/Users/username/anaconda3/envs/llms/lib/python3.11/site-packages/tqdm/auto.py:21: TqdmWarning: IProgress not found. Please update jupyter and ipywidgets. See https://ipywidgets.readthedocs.io/en/stable/user_install.html\n",
      "  from .autonotebook import tqdm as notebook_tqdm\n"
     ]
    }
   ],
   "source": [
    "import jsonformer"
   ]
  },
  {
   "cell_type": "code",
   "execution_count": 8,
   "id": "b620cb4c-01a4-41fb-9e8e-6cb4d9958a26",
   "metadata": {
    "tags": []
   },
   "outputs": [
    {
     "name": "stdout",
     "output_type": "stream",
     "text": [
      "downloading https://huggingface.co/TheBloke/OpenHermes-2.5-Mistral-7B-GGUF/resolve/main/openhermes-2.5-mistral-7b.Q2_K.gguf to /Users/username/.cache/huggingface/hub/tmpu0erauaz\n",
      "Downloading (…)mistral-7b.Q2_K.gguf: 100%|█| 3.08G/3.08G [05:23<00:00, 9.52MB/s]\n",
      "Storing https://huggingface.co/TheBloke/OpenHermes-2.5-Mistral-7B-GGUF/resolve/main/openhermes-2.5-mistral-7b.Q2_K.gguf in local_dir at ./openhermes-2.5-mistral-7b.Q2_K.gguf (not cached).\n",
      "./openhermes-2.5-mistral-7b.Q2_K.gguf\n"
     ]
    }
   ],
   "source": [
    "!huggingface-cli download TheBloke/OpenHermes-2.5-Mistral-7B-GGUF openhermes-2.5-mistral-7b.Q2_K.gguf --local-dir . --local-dir-use-symlinks False"
   ]
  },
  {
   "cell_type": "code",
   "execution_count": 15,
   "id": "167281b3-4cb6-4fa7-bb80-a5a7df19729b",
   "metadata": {
    "tags": []
   },
   "outputs": [],
   "source": [
    "import torch\n",
    "from transformers import AutoModelForCausalLM, AutoTokenizer\n",
    "\n",
    "model = AutoModelForCausalLM.from_pretrained(\"gpt2\")"
   ]
  },
  {
   "cell_type": "code",
   "execution_count": 16,
   "id": "332f3158-5626-4e74-8537-99286f2a6df7",
   "metadata": {
    "tags": []
   },
   "outputs": [
    {
     "name": "stderr",
     "output_type": "stream",
     "text": [
      "Downloading vocab.json: 100%|██████████| 1.04M/1.04M [00:00<00:00, 1.22MB/s]\n",
      "Downloading merges.txt: 100%|██████████| 456k/456k [00:00<00:00, 798kB/s]\n",
      "Downloading tokenizer.json: 100%|██████████| 1.36M/1.36M [00:00<00:00, 3.13MB/s]\n"
     ]
    }
   ],
   "source": [
    "tokenizer = AutoTokenizer.from_pretrained('gpt2')"
   ]
  },
  {
   "cell_type": "code",
   "execution_count": 17,
   "id": "a0abe969-758f-4195-aeef-e1bcb412a5f3",
   "metadata": {
    "tags": []
   },
   "outputs": [],
   "source": [
    "text = \"Replace me by any text you'd like.\"\n",
    "encoded_input = tokenizer(text, return_tensors='pt')"
   ]
  },
  {
   "cell_type": "code",
   "execution_count": 18,
   "id": "ff1bede4-cf99-42db-920c-9ae3ed82115e",
   "metadata": {
    "tags": []
   },
   "outputs": [],
   "source": [
    "output = model(**encoded_input)"
   ]
  },
  {
   "cell_type": "code",
   "execution_count": 20,
   "id": "75683ce5-95ef-4b24-8462-34eb08b321d7",
   "metadata": {
    "tags": []
   },
   "outputs": [
    {
     "name": "stdout",
     "output_type": "stream",
     "text": [
      "Generating...\n",
      "{\n",
      "  car: {\n",
      "    make: \u001b[32m\"make-car\"\u001b[0m,\n",
      "    model: \u001b[32m\"make-model\"\u001b[0m,\n",
      "    year: \u001b[32m0.0\u001b[0m,\n",
      "    colors: [\n",
      "      \u001b[32m\"red\"\u001b[0m,\n",
      "      \u001b[32m\"blue\"\u001b[0m\n",
      "    ]\n",
      "  }\n",
      "}\n"
     ]
    }
   ],
   "source": [
    "from jsonformer.format import highlight_values\n",
    "from jsonformer.main import Jsonformer\n",
    "\n",
    "car = {\n",
    "  \"type\": \"object\",\n",
    "  \"properties\": {\n",
    "    \"car\": {\n",
    "      \"type\": \"object\",\n",
    "      \"properties\": {\n",
    "        \"make\": {\"type\": \"string\"},\n",
    "        \"model\": {\"type\": \"string\"},\n",
    "        \"year\": {\"type\": \"number\"},\n",
    "        \"colors\": {\n",
    "          \"type\": \"array\",\n",
    "          \"items\": {\"type\": \"string\"}\n",
    "        }\n",
    "      }\n",
    "    }\n",
    "  }\n",
    "}\n",
    "\n",
    "builder = Jsonformer(\n",
    "    model=model,\n",
    "    tokenizer=tokenizer,\n",
    "    json_schema=car,\n",
    "    prompt=\"Generate an example car\",\n",
    ")\n",
    "\n",
    "print(\"Generating...\")\n",
    "output = builder()\n",
    "\n",
    "highlight_values(output)"
   ]
  },
  {
   "cell_type": "code",
   "execution_count": null,
   "id": "58428a3a-535b-4ed0-a69f-eb2ca49f954f",
   "metadata": {},
   "outputs": [],
   "source": []
  }
 ],
 "metadata": {
  "kernelspec": {
   "display_name": "Python 3 (ipykernel)",
   "language": "python",
   "name": "python3"
  },
  "language_info": {
   "codemirror_mode": {
    "name": "ipython",
    "version": 3
   },
   "file_extension": ".py",
   "mimetype": "text/x-python",
   "name": "python",
   "nbconvert_exporter": "python",
   "pygments_lexer": "ipython3",
   "version": "3.11.5"
  }
 },
 "nbformat": 4,
 "nbformat_minor": 5
}
