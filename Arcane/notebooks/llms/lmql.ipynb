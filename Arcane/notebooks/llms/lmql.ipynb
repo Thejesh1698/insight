{
 "cells": [
  {
   "cell_type": "code",
   "execution_count": 4,
   "id": "c0e697b6-1e8b-4292-bf7b-8124ecbc3068",
   "metadata": {
    "scrolled": true,
    "tags": []
   },
   "outputs": [
    {
     "name": "stdout",
     "output_type": "stream",
     "text": [
      "Requirement already satisfied: lmql[hf] in /Users/ravi.tej/anaconda3/envs/llms/lib/python3.11/site-packages (0.7.3)\n",
      "Requirement already satisfied: aiohttp<4.0.0 in /Users/ravi.tej/anaconda3/envs/llms/lib/python3.11/site-packages (from lmql[hf]) (3.8.5)\n",
      "Requirement already satisfied: astunparse==1.6.3 in /Users/ravi.tej/anaconda3/envs/llms/lib/python3.11/site-packages (from lmql[hf]) (1.6.3)\n",
      "Requirement already satisfied: openai in /Users/ravi.tej/anaconda3/envs/llms/lib/python3.11/site-packages (from lmql[hf]) (1.3.2)\n",
      "Requirement already satisfied: termcolor in /Users/ravi.tej/anaconda3/envs/llms/lib/python3.11/site-packages (from lmql[hf]) (2.3.0)\n",
      "Requirement already satisfied: numpy in /Users/ravi.tej/anaconda3/envs/llms/lib/python3.11/site-packages (from lmql[hf]) (1.26.0)\n",
      "Requirement already satisfied: tiktoken in /Users/ravi.tej/anaconda3/envs/llms/lib/python3.11/site-packages (from lmql[hf]) (0.5.1)\n",
      "Collecting accelerate (from lmql[hf])\n",
      "  Obtaining dependency information for accelerate from https://files.pythonhosted.org/packages/13/9e/ee987874058f2d93006961f6ff49e0bcb60ab9c26709ebe06bfa8707a4d8/accelerate-0.24.1-py3-none-any.whl.metadata\n",
      "  Downloading accelerate-0.24.1-py3-none-any.whl.metadata (18 kB)\n",
      "Requirement already satisfied: transformers>=4.28.1 in /Users/ravi.tej/anaconda3/envs/llms/lib/python3.11/site-packages (from lmql[hf]) (4.33.2)\n",
      "Requirement already satisfied: wheel<1.0,>=0.23.0 in /Users/ravi.tej/anaconda3/envs/llms/lib/python3.11/site-packages (from astunparse==1.6.3->lmql[hf]) (0.38.4)\n",
      "Requirement already satisfied: six<2.0,>=1.6.1 in /Users/ravi.tej/anaconda3/envs/llms/lib/python3.11/site-packages (from astunparse==1.6.3->lmql[hf]) (1.16.0)\n",
      "Requirement already satisfied: attrs>=17.3.0 in /Users/ravi.tej/anaconda3/envs/llms/lib/python3.11/site-packages (from aiohttp<4.0.0->lmql[hf]) (22.1.0)\n",
      "Requirement already satisfied: charset-normalizer<4.0,>=2.0 in /Users/ravi.tej/anaconda3/envs/llms/lib/python3.11/site-packages (from aiohttp<4.0.0->lmql[hf]) (2.0.4)\n",
      "Requirement already satisfied: multidict<7.0,>=4.5 in /Users/ravi.tej/anaconda3/envs/llms/lib/python3.11/site-packages (from aiohttp<4.0.0->lmql[hf]) (6.0.4)\n",
      "Requirement already satisfied: async-timeout<5.0,>=4.0.0a3 in /Users/ravi.tej/anaconda3/envs/llms/lib/python3.11/site-packages (from aiohttp<4.0.0->lmql[hf]) (4.0.3)\n",
      "Requirement already satisfied: yarl<2.0,>=1.0 in /Users/ravi.tej/anaconda3/envs/llms/lib/python3.11/site-packages (from aiohttp<4.0.0->lmql[hf]) (1.9.2)\n",
      "Requirement already satisfied: frozenlist>=1.1.1 in /Users/ravi.tej/anaconda3/envs/llms/lib/python3.11/site-packages (from aiohttp<4.0.0->lmql[hf]) (1.4.0)\n",
      "Requirement already satisfied: aiosignal>=1.1.2 in /Users/ravi.tej/anaconda3/envs/llms/lib/python3.11/site-packages (from aiohttp<4.0.0->lmql[hf]) (1.3.1)\n",
      "Requirement already satisfied: filelock in /Users/ravi.tej/anaconda3/envs/llms/lib/python3.11/site-packages (from transformers>=4.28.1->lmql[hf]) (3.12.4)\n",
      "Requirement already satisfied: huggingface-hub<1.0,>=0.15.1 in /Users/ravi.tej/anaconda3/envs/llms/lib/python3.11/site-packages (from transformers>=4.28.1->lmql[hf]) (0.17.2)\n",
      "Requirement already satisfied: packaging>=20.0 in /Users/ravi.tej/anaconda3/envs/llms/lib/python3.11/site-packages (from transformers>=4.28.1->lmql[hf]) (23.1)\n",
      "Requirement already satisfied: pyyaml>=5.1 in /Users/ravi.tej/anaconda3/envs/llms/lib/python3.11/site-packages (from transformers>=4.28.1->lmql[hf]) (6.0)\n",
      "Requirement already satisfied: regex!=2019.12.17 in /Users/ravi.tej/anaconda3/envs/llms/lib/python3.11/site-packages (from transformers>=4.28.1->lmql[hf]) (2023.8.8)\n",
      "Requirement already satisfied: requests in /Users/ravi.tej/anaconda3/envs/llms/lib/python3.11/site-packages (from transformers>=4.28.1->lmql[hf]) (2.31.0)\n",
      "Requirement already satisfied: tokenizers!=0.11.3,<0.14,>=0.11.1 in /Users/ravi.tej/anaconda3/envs/llms/lib/python3.11/site-packages (from transformers>=4.28.1->lmql[hf]) (0.13.3)\n",
      "Requirement already satisfied: safetensors>=0.3.1 in /Users/ravi.tej/anaconda3/envs/llms/lib/python3.11/site-packages (from transformers>=4.28.1->lmql[hf]) (0.3.3)\n",
      "Requirement already satisfied: tqdm>=4.27 in /Users/ravi.tej/anaconda3/envs/llms/lib/python3.11/site-packages (from transformers>=4.28.1->lmql[hf]) (4.66.1)\n",
      "Requirement already satisfied: psutil in /Users/ravi.tej/anaconda3/envs/llms/lib/python3.11/site-packages (from accelerate->lmql[hf]) (5.9.0)\n",
      "Requirement already satisfied: torch>=1.10.0 in /Users/ravi.tej/anaconda3/envs/llms/lib/python3.11/site-packages (from accelerate->lmql[hf]) (2.0.1)\n",
      "Requirement already satisfied: anyio<4,>=3.5.0 in /Users/ravi.tej/anaconda3/envs/llms/lib/python3.11/site-packages (from openai->lmql[hf]) (3.5.0)\n",
      "Requirement already satisfied: distro<2,>=1.7.0 in /Users/ravi.tej/anaconda3/envs/llms/lib/python3.11/site-packages (from openai->lmql[hf]) (1.8.0)\n",
      "Requirement already satisfied: httpx<1,>=0.23.0 in /Users/ravi.tej/anaconda3/envs/llms/lib/python3.11/site-packages (from openai->lmql[hf]) (0.25.1)\n",
      "Requirement already satisfied: pydantic<3,>=1.9.0 in /Users/ravi.tej/anaconda3/envs/llms/lib/python3.11/site-packages (from openai->lmql[hf]) (2.5.1)\n",
      "Requirement already satisfied: typing-extensions<5,>=4.5 in /Users/ravi.tej/anaconda3/envs/llms/lib/python3.11/site-packages (from openai->lmql[hf]) (4.7.1)\n",
      "Requirement already satisfied: idna>=2.8 in /Users/ravi.tej/anaconda3/envs/llms/lib/python3.11/site-packages (from anyio<4,>=3.5.0->openai->lmql[hf]) (3.4)\n",
      "Requirement already satisfied: sniffio>=1.1 in /Users/ravi.tej/anaconda3/envs/llms/lib/python3.11/site-packages (from anyio<4,>=3.5.0->openai->lmql[hf]) (1.2.0)\n",
      "Requirement already satisfied: certifi in /Users/ravi.tej/anaconda3/envs/llms/lib/python3.11/site-packages (from httpx<1,>=0.23.0->openai->lmql[hf]) (2023.7.22)\n",
      "Requirement already satisfied: httpcore in /Users/ravi.tej/anaconda3/envs/llms/lib/python3.11/site-packages (from httpx<1,>=0.23.0->openai->lmql[hf]) (1.0.2)\n",
      "Requirement already satisfied: fsspec in /Users/ravi.tej/anaconda3/envs/llms/lib/python3.11/site-packages (from huggingface-hub<1.0,>=0.15.1->transformers>=4.28.1->lmql[hf]) (2023.6.0)\n",
      "Requirement already satisfied: annotated-types>=0.4.0 in /Users/ravi.tej/anaconda3/envs/llms/lib/python3.11/site-packages (from pydantic<3,>=1.9.0->openai->lmql[hf]) (0.6.0)\n",
      "Requirement already satisfied: pydantic-core==2.14.3 in /Users/ravi.tej/anaconda3/envs/llms/lib/python3.11/site-packages (from pydantic<3,>=1.9.0->openai->lmql[hf]) (2.14.3)\n",
      "Requirement already satisfied: urllib3<3,>=1.21.1 in /Users/ravi.tej/anaconda3/envs/llms/lib/python3.11/site-packages (from requests->transformers>=4.28.1->lmql[hf]) (1.26.16)\n",
      "Requirement already satisfied: sympy in /Users/ravi.tej/anaconda3/envs/llms/lib/python3.11/site-packages (from torch>=1.10.0->accelerate->lmql[hf]) (1.12)\n",
      "Requirement already satisfied: networkx in /Users/ravi.tej/anaconda3/envs/llms/lib/python3.11/site-packages (from torch>=1.10.0->accelerate->lmql[hf]) (3.1)\n",
      "Requirement already satisfied: jinja2 in /Users/ravi.tej/anaconda3/envs/llms/lib/python3.11/site-packages (from torch>=1.10.0->accelerate->lmql[hf]) (3.1.2)\n",
      "Requirement already satisfied: h11<0.15,>=0.13 in /Users/ravi.tej/anaconda3/envs/llms/lib/python3.11/site-packages (from httpcore->httpx<1,>=0.23.0->openai->lmql[hf]) (0.14.0)\n",
      "Requirement already satisfied: MarkupSafe>=2.0 in /Users/ravi.tej/anaconda3/envs/llms/lib/python3.11/site-packages (from jinja2->torch>=1.10.0->accelerate->lmql[hf]) (2.1.1)\n",
      "Requirement already satisfied: mpmath>=0.19 in /Users/ravi.tej/anaconda3/envs/llms/lib/python3.11/site-packages (from sympy->torch>=1.10.0->accelerate->lmql[hf]) (1.3.0)\n",
      "Downloading accelerate-0.24.1-py3-none-any.whl (261 kB)\n",
      "\u001b[2K   \u001b[90m━━━━━━━━━━━━━━━━━━━━━━━━━━━━━━━━━━━━━━━━\u001b[0m \u001b[32m261.4/261.4 kB\u001b[0m \u001b[31m6.8 MB/s\u001b[0m eta \u001b[36m0:00:00\u001b[0m00:01\u001b[0m\n",
      "\u001b[?25hInstalling collected packages: accelerate\n",
      "Successfully installed accelerate-0.24.1\n"
     ]
    }
   ],
   "source": [
    "# https://stackoverflow.com/questions/76552786/error-while-installing-lmqlhf-using-pip-no-matching-distribution-found-for-l\n",
    "!pip install \"lmql[hf]\""
   ]
  },
  {
   "cell_type": "code",
   "execution_count": 7,
   "id": "527698bd-a31f-4941-8edd-36843e5c3064",
   "metadata": {
    "tags": []
   },
   "outputs": [
    {
     "name": "stdout",
     "output_type": "stream",
     "text": [
      "Requirement already satisfied: transformers in /Users/ravi.tej/anaconda3/envs/llms/lib/python3.11/site-packages (4.33.2)\n",
      "Collecting transformers\n",
      "  Obtaining dependency information for transformers from https://files.pythonhosted.org/packages/12/dd/f17b11a93a9ca27728e12512d167eb1281c151c4c6881d3ab59eb58f4127/transformers-4.35.2-py3-none-any.whl.metadata\n",
      "  Downloading transformers-4.35.2-py3-none-any.whl.metadata (123 kB)\n",
      "\u001b[2K     \u001b[90m━━━━━━━━━━━━━━━━━━━━━━━━━━━━━━━━━━━━━━━\u001b[0m \u001b[32m123.5/123.5 kB\u001b[0m \u001b[31m4.7 MB/s\u001b[0m eta \u001b[36m0:00:00\u001b[0m\n",
      "\u001b[?25hRequirement already satisfied: filelock in /Users/ravi.tej/anaconda3/envs/llms/lib/python3.11/site-packages (from transformers) (3.12.4)\n",
      "Requirement already satisfied: huggingface-hub<1.0,>=0.16.4 in /Users/ravi.tej/anaconda3/envs/llms/lib/python3.11/site-packages (from transformers) (0.17.2)\n",
      "Requirement already satisfied: numpy>=1.17 in /Users/ravi.tej/anaconda3/envs/llms/lib/python3.11/site-packages (from transformers) (1.26.0)\n",
      "Requirement already satisfied: packaging>=20.0 in /Users/ravi.tej/anaconda3/envs/llms/lib/python3.11/site-packages (from transformers) (23.1)\n",
      "Requirement already satisfied: pyyaml>=5.1 in /Users/ravi.tej/anaconda3/envs/llms/lib/python3.11/site-packages (from transformers) (6.0)\n",
      "Requirement already satisfied: regex!=2019.12.17 in /Users/ravi.tej/anaconda3/envs/llms/lib/python3.11/site-packages (from transformers) (2023.8.8)\n",
      "Requirement already satisfied: requests in /Users/ravi.tej/anaconda3/envs/llms/lib/python3.11/site-packages (from transformers) (2.31.0)\n",
      "Collecting tokenizers<0.19,>=0.14 (from transformers)\n",
      "  Obtaining dependency information for tokenizers<0.19,>=0.14 from https://files.pythonhosted.org/packages/c5/0e/8961075de3aca5435fa6371088d44594cdc0e59b5b935afdaf1af028cf36/tokenizers-0.15.0-cp311-cp311-macosx_11_0_arm64.whl.metadata\n",
      "  Downloading tokenizers-0.15.0-cp311-cp311-macosx_11_0_arm64.whl.metadata (6.7 kB)\n",
      "Requirement already satisfied: safetensors>=0.3.1 in /Users/ravi.tej/anaconda3/envs/llms/lib/python3.11/site-packages (from transformers) (0.3.3)\n",
      "Requirement already satisfied: tqdm>=4.27 in /Users/ravi.tej/anaconda3/envs/llms/lib/python3.11/site-packages (from transformers) (4.66.1)\n",
      "Requirement already satisfied: fsspec in /Users/ravi.tej/anaconda3/envs/llms/lib/python3.11/site-packages (from huggingface-hub<1.0,>=0.16.4->transformers) (2023.6.0)\n",
      "Requirement already satisfied: typing-extensions>=3.7.4.3 in /Users/ravi.tej/anaconda3/envs/llms/lib/python3.11/site-packages (from huggingface-hub<1.0,>=0.16.4->transformers) (4.7.1)\n",
      "Requirement already satisfied: charset-normalizer<4,>=2 in /Users/ravi.tej/anaconda3/envs/llms/lib/python3.11/site-packages (from requests->transformers) (2.0.4)\n",
      "Requirement already satisfied: idna<4,>=2.5 in /Users/ravi.tej/anaconda3/envs/llms/lib/python3.11/site-packages (from requests->transformers) (3.4)\n",
      "Requirement already satisfied: urllib3<3,>=1.21.1 in /Users/ravi.tej/anaconda3/envs/llms/lib/python3.11/site-packages (from requests->transformers) (1.26.16)\n",
      "Requirement already satisfied: certifi>=2017.4.17 in /Users/ravi.tej/anaconda3/envs/llms/lib/python3.11/site-packages (from requests->transformers) (2023.7.22)\n",
      "Downloading transformers-4.35.2-py3-none-any.whl (7.9 MB)\n",
      "\u001b[2K   \u001b[90m━━━━━━━━━━━━━━━━━━━━━━━━━━━━━━━━━━━━━━━━\u001b[0m \u001b[32m7.9/7.9 MB\u001b[0m \u001b[31m14.6 MB/s\u001b[0m eta \u001b[36m0:00:00\u001b[0m00:01\u001b[0m00:01\u001b[0m\n",
      "\u001b[?25hDownloading tokenizers-0.15.0-cp311-cp311-macosx_11_0_arm64.whl (2.5 MB)\n",
      "\u001b[2K   \u001b[90m━━━━━━━━━━━━━━━━━━━━━━━━━━━━━━━━━━━━━━━━\u001b[0m \u001b[32m2.5/2.5 MB\u001b[0m \u001b[31m18.3 MB/s\u001b[0m eta \u001b[36m0:00:00\u001b[0m00:01\u001b[0m00:01\u001b[0m\n",
      "\u001b[?25hInstalling collected packages: tokenizers, transformers\n",
      "  Attempting uninstall: tokenizers\n",
      "    Found existing installation: tokenizers 0.13.3\n",
      "    Uninstalling tokenizers-0.13.3:\n",
      "      Successfully uninstalled tokenizers-0.13.3\n",
      "  Attempting uninstall: transformers\n",
      "    Found existing installation: transformers 4.33.2\n",
      "    Uninstalling transformers-4.33.2:\n",
      "      Successfully uninstalled transformers-4.33.2\n",
      "Successfully installed tokenizers-0.15.0 transformers-4.35.2\n"
     ]
    }
   ],
   "source": [
    "!pip install -U transformers"
   ]
  },
  {
   "cell_type": "code",
   "execution_count": null,
   "id": "a50598a6-bb12-4c0b-ba7b-6c44d73121cc",
   "metadata": {
    "tags": []
   },
   "outputs": [],
   "source": [
    "!lmql serve-model TheBloke/zephyr-7B-alpha"
   ]
  },
  {
   "cell_type": "code",
   "execution_count": 2,
   "id": "0d320e1a-0118-4cad-9ab3-684bd76d1197",
   "metadata": {
    "tags": []
   },
   "outputs": [
    {
     "ename": "ModuleNotFoundError",
     "evalue": "No module named 'lmql'",
     "output_type": "error",
     "traceback": [
      "\u001b[0;31m---------------------------------------------------------------------------\u001b[0m",
      "\u001b[0;31mModuleNotFoundError\u001b[0m                       Traceback (most recent call last)",
      "Cell \u001b[0;32mIn[2], line 1\u001b[0m\n\u001b[0;32m----> 1\u001b[0m \u001b[38;5;28;01mimport\u001b[39;00m \u001b[38;5;21;01mlmql\u001b[39;00m\n",
      "\u001b[0;31mModuleNotFoundError\u001b[0m: No module named 'lmql'"
     ]
    }
   ],
   "source": [
    "import lmql"
   ]
  },
  {
   "cell_type": "code",
   "execution_count": 2,
   "id": "3990d5b6-8061-4408-8c04-26c0c0842695",
   "metadata": {
    "tags": []
   },
   "outputs": [
    {
     "ename": "NameError",
     "evalue": "name 'lmql' is not defined",
     "output_type": "error",
     "traceback": [
      "\u001b[0;31m---------------------------------------------------------------------------\u001b[0m",
      "\u001b[0;31mNameError\u001b[0m                                 Traceback (most recent call last)",
      "Cell \u001b[0;32mIn[2], line 3\u001b[0m\n\u001b[1;32m      1\u001b[0m \u001b[38;5;28;01mimport\u001b[39;00m \u001b[38;5;21;01mpandas\u001b[39;00m \u001b[38;5;28;01mas\u001b[39;00m \u001b[38;5;21;01mpd\u001b[39;00m\n\u001b[0;32m----> 3\u001b[0m \u001b[38;5;129m@lmql\u001b[39m\u001b[38;5;241m.\u001b[39mquery\n\u001b[1;32m      4\u001b[0m \u001b[38;5;28;01masync\u001b[39;00m \u001b[38;5;28;01mdef\u001b[39;00m \u001b[38;5;21mgenerate_dogs\u001b[39m(n):\n\u001b[1;32m      5\u001b[0m \u001b[38;5;250m    \u001b[39m\u001b[38;5;124;03m'''lmql\u001b[39;00m\n\u001b[1;32m      6\u001b[0m \u001b[38;5;124;03m    sample(temperature=1.0, n=n)\u001b[39;00m\n\u001b[1;32m      7\u001b[0m \u001b[38;5;124;03m    \u001b[39;00m\n\u001b[0;32m   (...)\u001b[0m\n\u001b[1;32m     14\u001b[0m \u001b[38;5;124;03m              STOPS_BEFORE(MOVE, \"\\n\") and INT(AGE) and len(TOKENS(AGE)) < 3\u001b[39;00m\n\u001b[1;32m     15\u001b[0m \u001b[38;5;124;03m    '''\u001b[39;00m\n",
      "\u001b[0;31mNameError\u001b[0m: name 'lmql' is not defined"
     ]
    }
   ],
   "source": [
    "import pandas as pd\n",
    "\n",
    "@lmql.query\n",
    "async def generate_dogs(n):\n",
    "    '''lmql\n",
    "    sample(temperature=1.0, n=n)\n",
    "    \n",
    "    \"\"\"Generate a dog with the following characteristics:\n",
    "    Name:[NAME]\n",
    "    Age: [AGE]\n",
    "    Breed:[BREED]\n",
    "    Quirky Move:[MOVE]\n",
    "    \"\"\" where STOPS_BEFORE(NAME, \"\\n\") and STOPS_BEFORE(BREED, \"\\n\") and \\\n",
    "              STOPS_BEFORE(MOVE, \"\\n\") and INT(AGE) and len(TOKENS(AGE)) < 3\n",
    "    '''"
   ]
  },
  {
   "cell_type": "code",
   "execution_count": 5,
   "id": "a2518125-fcd2-4ef2-92b7-5b7274cd06c8",
   "metadata": {},
   "outputs": [
    {
     "ename": "AttributeError",
     "evalue": "module 'lmql' has no attribute 'model'",
     "output_type": "error",
     "traceback": [
      "\u001b[0;31m---------------------------------------------------------------------------\u001b[0m",
      "\u001b[0;31mAttributeError\u001b[0m                            Traceback (most recent call last)",
      "Cell \u001b[0;32mIn[5], line 1\u001b[0m\n\u001b[0;32m----> 1\u001b[0m \u001b[43mlmql\u001b[49m\u001b[38;5;241;43m.\u001b[39;49m\u001b[43mmodel\u001b[49m(\u001b[38;5;124m'\u001b[39m\u001b[38;5;124mgpt2\u001b[39m\u001b[38;5;124m'\u001b[39m)\n",
      "\u001b[0;31mAttributeError\u001b[0m: module 'lmql' has no attribute 'model'"
     ]
    }
   ],
   "source": [
    "lmql.model('gpt2')"
   ]
  },
  {
   "cell_type": "code",
   "execution_count": null,
   "id": "a38f6ebc-ab87-47fc-b488-3ef0076bcade",
   "metadata": {},
   "outputs": [],
   "source": []
  }
 ],
 "metadata": {
  "kernelspec": {
   "display_name": "llms",
   "language": "python",
   "name": "llms"
  },
  "language_info": {
   "codemirror_mode": {
    "name": "ipython",
    "version": 3
   },
   "file_extension": ".py",
   "mimetype": "text/x-python",
   "name": "python",
   "nbconvert_exporter": "python",
   "pygments_lexer": "ipython3",
   "version": "3.11.4"
  }
 },
 "nbformat": 4,
 "nbformat_minor": 5
}
