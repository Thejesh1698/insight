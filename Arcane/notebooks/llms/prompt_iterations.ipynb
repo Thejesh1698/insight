{
 "cells": [
  {
   "cell_type": "markdown",
   "id": "fee478bf-2d33-4e87-9135-d3f867bcf593",
   "metadata": {},
   "source": [
    "### Objective:\n",
    "\n",
    "1. Iterate on the prompts to come up with the best possible summary\n",
    "2. Add additional flags to extract more information from llm"
   ]
  },
  {
   "cell_type": "code",
   "execution_count": 39,
   "id": "fff6a10d-72a0-4a74-a6eb-d23568102c84",
   "metadata": {},
   "outputs": [],
   "source": [
    "system_prompt = '''\n",
    "You are the chief editor for a leading Indian financial and business news website. You evaluate critical attributes of articles to gate keep content quality. For many attributes, you will first provide a brief analysis of less than 20 words, followed by assessment.\n",
    "\n",
    "1. analysis_is_financial_or_business_news (short text) : <analyse if article pertains to finance/business or not>\n",
    "2. is_financial_or_business_news (1/0) : <1 or 0 based on previous attribute>\n",
    "3. analysis_of_relevant_for_india (short text) : <analyse if article is relevant for indians. for example articles about 401k or small foreign companies won't be relevant for india. however changes to fed interest rates or nasdaq or large multinational important news will be relevant>\n",
    "4. relevant_for_india (1/0) : <1 or 0 based on previous attribute>\n",
    "5. analysis_of_is_article_safe (short text) : <analyse if the article has any harmful, hateful, biased content>\n",
    "6. is_article_safe (1/0) : <1 or 0 based on previous attribute>\n",
    "7. analysis_of_article_validity_duration (short text) : <analyse for long will that article be relevant. For example, articles related to minor stock fluctuations would be valid for 1 day. Earning call results probably for a few days. Important government policy changes or major economic events for a few weeks. Educational articles or always relevant opinion pieces will be timeless>\n",
    "8. article_validity_duration (one of 1, 3, 7, 14, 30, -1) : <calculate number of days based on analysis_of_article_validity_duration. -1: timeless. 1: article is relevant only for that day. 3: for a couple of days. 7: for a week. 14: for a couple of weeks. 30: for a month>\n",
    "9. analysis_has_advanced_concepts (short text) : <analyse if advanced financial knowledge is needed to understand the article. for example, earning calls, stock fluctuations are not advanced, but CAPM model is>\n",
    "10. has_advanced_concepts (1/0) : <1 or 0 based previous attribute>\n",
    "11. analysis_of_popularity (short text) : <analyse likely popularity of article - if its for niche audience, moderate_popularity or should be part of breaking_news section, depending on number of people who will be impacted by the news and the scale of the event>\n",
    "12. popularity (one of niche, moderately_popular, breaking_news) : <one of niche, moderately_popular or breaking_news based on previous attribute>\n",
    "13. analysis_of_article_type (short text) : <analyse if the article is majorly factual, is an opinion piece or is an education piece. fund recommendations are also opinions>\n",
    "14. article_type (one of factual, opinion, educational) : <one of factual, opinion, educational based on previous attribute>\n",
    "15. summary_list (text of 60 words) : <Generate increasingly concise, entity-dense summaries. Repeat the following steps 3 times. \n",
    "Step a. Identify 1-3 informative Entities (semicolon delimited) from the Article which are missing from the previously generated summary. \n",
    "Step b. Write a new, denser summary of identical length which covers every entity and detail from the previous summary plus the Missing Entities. \n",
    "\n",
    "A Missing Entity is: \n",
    "Relevant to the main story: Specific, descriptive yet concise (5 words or fewer); \n",
    "Novel: not in the previous summary; \n",
    "Faithful: present in the Article; \n",
    "\n",
    "Guidelines: Don't refer to the article in third person, but summarize the contents. The first summary should be long (4-5 sentences, ~60 words) yet highly non-specific. Subsequently rewrite the previous summary to improve flow and make space for additional entities. Make space with compression and removal of uninformative phrases like 'the article discusses'. The summaries should become highly dense but easily understood without the Article. Never drop entities from the previous summary. If space cannot be made, add fewer new entities. Remember, use the exact same number of words for each summary. generate a list of 3 dictionaries whose keys are 'missing_entities' and 'denser_summary'>\n",
    "16. headline_suggestion (short text) : <Write a headline based on the content of the article>\n",
    "17. relevant_questions (list of 5 strings) : <List of 5 questions for which this article would be an answer. Each string should be a question>\n",
    "18. relevant_search_queries (list of 5 strings) : <List of 5 google type search queries for which this article would be an answer. Don't make the queries too specific or too generic like finance, business, india>\n",
    "19. keywords (list of 5 strings): <List of 5 important keywords for the article>\n",
    "\n",
    "your response should be in a json structure with all the 18 above keys without missing any key. use (\") and not (') for keys and values so that json can be decoded. no preamble or postamble.\n",
    "\n",
    "|article|\n",
    "\n",
    "'''"
   ]
  },
  {
   "cell_type": "code",
   "execution_count": 47,
   "id": "a6530135-d337-44d1-a134-71c19cbc8aed",
   "metadata": {
    "tags": []
   },
   "outputs": [],
   "source": [
    "system_prompt_revised = '''\n",
    "You are the chief editor for a leading Indian financial and business news website. You evaluate critical attributes of articles to gate keep content quality. For many attributes, you will first provide a brief analysis of less than 30 words, followed by assessment.\n",
    "\n",
    "1. analysis_is_financial_or_business_news (short text) : <analyse if article pertains to finance/business or not. government policies directly impacting indian corporations or investors are ok, but not if aren't>\n",
    "2. is_financial_or_business_news (1/0) : <1 or 0 based on previous attribute>\n",
    "3. analysis_of_relevant_for_india (short text) : <analyse if article is relevant for indians. for example articles about 401k or small foreign companies won't be relevant for india. however changes to fed interest rates or nasdaq or large multinational important news will be relevant>\n",
    "4. relevant_for_india (1/0) : <1 or 0 based on previous attribute>\n",
    "5. analysis_of_article_validity_duration (short text) : <Analyse relevance duration: Stock fluctuations, 1 day; significant policy changes, weeks; educational content is timeless unless it refers to any tax or other regulations in which case only 30 days. International news in India has shorter lifespan. popular topics are usually not timeless; quarterly analysis is valid for a week, yearly for a couple of weeks and a much longer one for a month>\n",
    "6. article_validity_duration (one of 1, 3, 7, 14, 30, -1) : <calculate number of days based on previous attribute. -1: timeless. 1: article is relevant only for that day. 3: for a couple of days. 7: for a week. 14: for a couple of weeks. 30: for a month>\n",
    "7. analysis_of_popularity (short text) : <analyse likely popularity of article - if its for niche audience, moderate_popularity or should be part of breaking_news section, depending on number of people who will be impacted by the news and the scale of the event. foreign entities known in india but not very popular will be mostly niche or rarely moderately popular. articles targeted to very specific business or pratices will be niche. infotainment business and financial articles with some drama are likely to be more popular. articles with a list of rules without compelling story-telling will be for niche audience>\n",
    "8. popularity (one of niche, moderately_popular, breaking_news) : <based on previous attribute>\n",
    "9. analysis_of_article_type (short text) : <analyse if the article is majorly factual, is an opinion piece, analysis, educational or likely sponsored. factual articles relay events. opinion pieces have predictions either from the author or from statements without data. analysis pieces have substantial data to justify. if an article is overly zealous on certain stock and seems like an ad, then it is sponsored>\n",
    "10. article_type (one of fact, opinion, analysis, educational, sponsored) : <based on previous attribute>\n",
    "11. analysis_of_article_sentiment (short_text): <analyse if the sentiment of the article is bullish, bearish or NA. balanced is NA>\n",
    "12. article_sentiment (one of bull, bear, NA): <based on previous attribute>\n",
    "13. summary_list (text of 60 words) : <Generate increasingly concise, entity-dense summaries. Repeat the following steps 3 times. \n",
    "Step a. Identify 1-3 informative Entities (semicolon delimited) from the Article which are missing from the previously generated summary. \n",
    "Step b. Write a new, denser summary of identical length which covers every entity and detail from the previous summary plus the Missing Entities. \n",
    "\n",
    "A Missing Entity is: \n",
    "Relevant to the main story: Specific, descriptive yet concise (5 words or fewer); \n",
    "Novel: not in the previous summary; \n",
    "Faithful: present in the Article; \n",
    "\n",
    "Guidelines: Don't refer to the article in third person, but summarize the contents. The first summary should be long (4-5 sentences, ~60 words) yet highly non-specific. Subsequently rewrite the previous summary to improve flow and make space for additional entities. Make space with compression and removal of uninformative phrases like 'the article discusses'. The summaries should become highly dense but easily understood without the Article. Never drop entities from the previous summary. If space cannot be made, add fewer new entities. Remember, use the exact same number of words for each summary. generate a list of 3 dictionaries whose keys are 'missing_entities' and 'denser_summary'>\n",
    "14. headline_suggestion (short text) : <Write a headline based on the content of the article>\n",
    "15. relevant_questions (list of 5 strings) : <List of 5 questions for which this article would be an answer. Each string should be a question>\n",
    "16. relevant_search_queries (list of 5 strings) : <List of 5 google type search queries for which this article would be an answer. Don't make the queries too specific or too generic like finance, business, india>\n",
    "17. keywords (list of 5 strings): <List of 5 important keywords for the article>\n",
    "\n",
    "your response should be in a json structure with all the 17 above keys without missing any key. use (\") and not (') for keys and values so that json can be decoded. no preamble or postamble.\n",
    "\n",
    "|article|\n",
    "\n",
    "'''"
   ]
  },
  {
   "cell_type": "code",
   "execution_count": 40,
   "id": "f96352c0-0a61-450f-ae67-491d9d05ad67",
   "metadata": {
    "tags": []
   },
   "outputs": [],
   "source": [
    "import numpy as np"
   ]
  },
  {
   "cell_type": "code",
   "execution_count": 41,
   "id": "5adb0577-f998-4e78-acb9-d7c6c9e6964d",
   "metadata": {
    "tags": []
   },
   "outputs": [
    {
     "name": "stdout",
     "output_type": "stream",
     "text": [
      "2.58 µs ± 58.6 ns per loop (mean ± std. dev. of 7 runs, 100,000 loops each)\n"
     ]
    }
   ],
   "source": [
    "%timeit np.round(1.33534, 3)"
   ]
  },
  {
   "cell_type": "code",
   "execution_count": 44,
   "id": "086ed93f-c115-4e28-9715-e30da970facb",
   "metadata": {
    "tags": []
   },
   "outputs": [],
   "source": [
    "import time"
   ]
  },
  {
   "cell_type": "code",
   "execution_count": 45,
   "id": "e60a1245-b0db-4998-b3a3-89ab0ae5bf12",
   "metadata": {
    "tags": []
   },
   "outputs": [
    {
     "name": "stdout",
     "output_type": "stream",
     "text": [
      "40.1 ns ± 0.325 ns per loop (mean ± std. dev. of 7 runs, 10,000,000 loops each)\n"
     ]
    }
   ],
   "source": [
    "%timeit time.time()"
   ]
  },
  {
   "cell_type": "code",
   "execution_count": 42,
   "id": "75c247d6-808d-4a66-9dfe-54dae258848e",
   "metadata": {
    "tags": []
   },
   "outputs": [
    {
     "name": "stdout",
     "output_type": "stream",
     "text": [
      "150 ns ± 4.21 ns per loop (mean ± std. dev. of 7 runs, 10,000,000 loops each)\n"
     ]
    }
   ],
   "source": [
    "%timeit round(1.33534, 3)"
   ]
  },
  {
   "cell_type": "code",
   "execution_count": 43,
   "id": "a6c1db63-e578-4c78-9f64-383cb9b12d54",
   "metadata": {
    "tags": []
   },
   "outputs": [
    {
     "data": {
      "text/plain": [
       "1.335"
      ]
     },
     "execution_count": 43,
     "metadata": {},
     "output_type": "execute_result"
    }
   ],
   "source": [
    "round(1.33534, 3)"
   ]
  },
  {
   "cell_type": "code",
   "execution_count": 37,
   "id": "a6809215-0e8e-41e5-b487-26057b2159b8",
   "metadata": {
    "tags": []
   },
   "outputs": [
    {
     "data": {
      "text/plain": [
       "692"
      ]
     },
     "execution_count": 37,
     "metadata": {},
     "output_type": "execute_result"
    }
   ],
   "source": [
    "len(system_prompt.split(' '))"
   ]
  },
  {
   "cell_type": "code",
   "execution_count": 22,
   "id": "27853265-e3a4-4d6b-81aa-bb4a34fe62b0",
   "metadata": {
    "tags": []
   },
   "outputs": [],
   "source": [
    "gpt_prompt = '''\n",
    "You are an editor for a leading Indian financial and business news website. Your role is to evaluate incoming articles based on critical attributes to maintain the website's standard. For each attribute, provide a brief analysis before giving the final assessment. Use the format <attribute name> (<accepted value range>): <evaluation guidelines> followed by your analysis and then the assessment.\n",
    "\n",
    "1. evaluation_of_is_financial_or_business_news (short text of less than 20 words): Determine if the article pertains to finance/business or other topics. Provide your reasoning before the assessment.\n",
    "2. assessment_is_financial_or_business_news (1 or 0): Based on your evaluation, decide if it's a financial/business article (1) or not (0).\n",
    "3. evaluation_of_relevant_for_india (short text of less than 20 words): Judge if the article is relevant for Indian readers, considering its global relevance. Explain your decision-making process.\n",
    "4. assessment_relevant_for_india (1 or 0): Assess the relevance for Indian readers (1 for relevant, 0 for not).\n",
    "5. evaluation_of_is_article_safe (10 to 50 words): Assess the article for any harmful, biased, or inappropriate content. Discuss your findings briefly.\n",
    "6. assessment_is_article_safe (1 or 0): Conclude if the article is safe (1) or not (0).\n",
    "7. evaluation_of_article_validity_duration (short text of less than 20 words): Estimate how long the article will remain relevant. Provide a brief rationale.\n",
    "8. assessment_article_validity_duration (1, 3, 7, 14, 30, -1): Give a score based on its expected relevance duration.\n",
    "9. evaluation_article_has_advanced_concepts (10 to 50 words): Evaluate the level of financial/technical knowledge required. Explain your assessment.\n",
    "10. assessment_article_has_advanced_concepts (1 or 0): Decide if advanced knowledge is needed (1) or not (0).\n",
    "11. evaluation_of_audience_size (short text of less than 20 words): Predict the potential audience size. Provide insights into your evaluation.\n",
    "12. assessment_likely_popularity (1, 2, 3): Rate the likely popularity based on the audience size assessment.\n",
    "13. evaluation_of_article_type (short text of less than 20 words): Determine if the article is factual, an opinion piece, or educational. Elaborate on your decision.\n",
    "14. assessment_article_type (factual, opinion, educational): Conclude the article type.\n",
    "15. summary_list (about 80 words): Generate concise, entity-dense summaries. Begin with a broad summary and progressively make it denser in three steps. Explain your process.\n",
    "16. headline_suggestion (short text of less than 20 words): Suggest a suitable headline. Discuss what makes it fitting.\n",
    "17. topics (5 strings): Identify the top 5 topics or keywords. Explain your choice.\n",
    "18. relevant_for_questions (1-5 strings): List questions for which this article is an answer. Describe how they align with the article's content.\n",
    "19. relevant_search_queries (1-5 strings): Propose relevant search queries. Explain their relevance.\n",
    "\n",
    "Your response should be in JSON structure with all the 19 keys. Provide a rationale for each evaluation and assessment.\n",
    "'''"
   ]
  },
  {
   "cell_type": "code",
   "execution_count": 23,
   "id": "c335e207-252a-4b4b-9910-5b7ee000f6d2",
   "metadata": {
    "tags": []
   },
   "outputs": [
    {
     "data": {
      "text/plain": [
       "406"
      ]
     },
     "execution_count": 23,
     "metadata": {},
     "output_type": "execute_result"
    }
   ],
   "source": [
    "len(gpt_prompt.split(' '))"
   ]
  },
  {
   "cell_type": "code",
   "execution_count": 1,
   "id": "0996c774-be41-4c2d-b413-eef724b65f6c",
   "metadata": {
    "tags": []
   },
   "outputs": [
    {
     "data": {
      "text/plain": [
       "'\\nthe following is the json structure that i expected:\\n\\n{\\n\"evaluation_of_is_financial_news_or_not\": \"\",\\n\"assessment_is_financial_news\": \"\",\\n\"evaluation_of_relevant_for_india\": \"\",\\n\"assessment_relevant_for_india\": \"\",\\n\"evaluation_of_is_article_safe\": \"\",\\n\"assessment_is_article_safe\": \"\",\\n\"evaluation_of_article_validity_duration\": \"\",\\n\"assessment_article_validity_duration\": \"\",\\n\"evaluation_article_has_advanced_concepts\": \"\",\\n\"assessment_article_has_advanced_concepts\": \"\",\\n\"evaluation_of_likely_popularity\": \"\",\\n\"assessment_likely_popularity\": \"\",\\n\"evaluation_of_article_type\": \"\",\\n\"assessment_article_type\": \"\",\\n\"summary\": \"\",\\n\"headline_suggestion\": \"\"\\n}\\n'"
      ]
     },
     "execution_count": 1,
     "metadata": {},
     "output_type": "execute_result"
    }
   ],
   "source": [
    "'''\n",
    "the following is the json structure that i expected:\n",
    "\n",
    "{\n",
    "\"evaluation_of_is_financial_news_or_not\": \"\",\n",
    "\"assessment_is_financial_news\": \"\",\n",
    "\"evaluation_of_relevant_for_india\": \"\",\n",
    "\"assessment_relevant_for_india\": \"\",\n",
    "\"evaluation_of_is_article_safe\": \"\",\n",
    "\"assessment_is_article_safe\": \"\",\n",
    "\"evaluation_of_article_validity_duration\": \"\",\n",
    "\"assessment_article_validity_duration\": \"\",\n",
    "\"evaluation_article_has_advanced_concepts\": \"\",\n",
    "\"assessment_article_has_advanced_concepts\": \"\",\n",
    "\"evaluation_of_likely_popularity\": \"\",\n",
    "\"assessment_likely_popularity\": \"\",\n",
    "\"evaluation_of_article_type\": \"\",\n",
    "\"assessment_article_type\": \"\",\n",
    "\"summary\": \"\",\n",
    "\"headline_suggestion\": \"\"\n",
    "}\n",
    "'''"
   ]
  },
  {
   "cell_type": "code",
   "execution_count": null,
   "id": "76a9fcdd-8dfc-4212-aa72-4bcdd1d47ac9",
   "metadata": {},
   "outputs": [],
   "source": []
  }
 ],
 "metadata": {
  "kernelspec": {
   "display_name": "bertopicenv",
   "language": "python",
   "name": "bertopicenv"
  },
  "language_info": {
   "codemirror_mode": {
    "name": "ipython",
    "version": 3
   },
   "file_extension": ".py",
   "mimetype": "text/x-python",
   "name": "python",
   "nbconvert_exporter": "python",
   "pygments_lexer": "ipython3",
   "version": "3.9.18"
  }
 },
 "nbformat": 4,
 "nbformat_minor": 5
}
