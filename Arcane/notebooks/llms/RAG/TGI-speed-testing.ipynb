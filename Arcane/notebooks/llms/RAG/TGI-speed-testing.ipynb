{
 "cells": [
  {
   "cell_type": "markdown",
   "id": "d9f027cd-2c54-4f4c-9813-104cb57c9c26",
   "metadata": {},
   "source": [
    "### Reference:\n",
    "\n",
    "https://aws.amazon.com/blogs/machine-learning/elevating-the-generative-ai-experience-introducing-streaming-support-in-amazon-sagemaker-hosting/"
   ]
  },
  {
   "cell_type": "code",
   "execution_count": 9,
   "id": "b90408ac-1bc2-4def-bce7-8f8e756d1334",
   "metadata": {
    "tags": []
   },
   "outputs": [
    {
     "name": "stderr",
     "output_type": "stream",
     "text": [
      "Couldn't call 'get_role' to get Role ARN from role name username to get Role path.\n"
     ]
    },
    {
     "name": "stdout",
     "output_type": "stream",
     "text": [
      "sagemaker role arn: arn:aws:iam::005418323977:role/service-role/AmazonSageMaker-ExecutionRole-20231030T210397\n",
      "sagemaker bucket: sagemaker-ap-south-1-005418323977\n",
      "sagemaker session region: ap-south-1\n"
     ]
    }
   ],
   "source": [
    "import sagemaker\n",
    "import boto3\n",
    "sess = sagemaker.Session()\n",
    "sagemaker_session_bucket=None\n",
    "if sagemaker_session_bucket is None and sess is not None:\n",
    "    sagemaker_session_bucket = sess.default_bucket()\n",
    "try:\n",
    "    role = sagemaker.get_execution_role()\n",
    "except ValueError:\n",
    "    iam = boto3.client('iam')\n",
    "    role = iam.get_role(RoleName='AmazonSageMaker-ExecutionRole-20231030T210397')['Role']['Arn']\n",
    "sess = sagemaker.Session(default_bucket=sagemaker_session_bucket)\n",
    "print(f\"sagemaker role arn: {role}\")\n",
    "print(f\"sagemaker bucket: {sess.default_bucket()}\")\n",
    "print(f\"sagemaker session region: {sess.boto_region_name}\")"
   ]
  },
  {
   "cell_type": "code",
   "execution_count": 10,
   "id": "879df625-5104-4618-85ed-86e25f34bf6d",
   "metadata": {
    "tags": []
   },
   "outputs": [],
   "source": [
    "from sagemaker.huggingface import get_huggingface_llm_image_uri\n",
    "\n",
    "# retrieve the llm image uri\n",
    "llm_image = get_huggingface_llm_image_uri(\n",
    "  \"huggingface\",\n",
    "  version=\"1.1.0\"\n",
    ")"
   ]
  },
  {
   "cell_type": "code",
   "execution_count": 12,
   "id": "0308b480-3e81-4697-b78c-0906d51ba7a8",
   "metadata": {
    "tags": []
   },
   "outputs": [],
   "source": [
    "import json"
   ]
  },
  {
   "cell_type": "code",
   "execution_count": 33,
   "id": "1549e64a-d9df-4462-9607-52a534a732dc",
   "metadata": {
    "tags": []
   },
   "outputs": [],
   "source": [
    "model_id = 'teknium/OpenHermes-2.5-Mistral-7B'"
   ]
  },
  {
   "cell_type": "code",
   "execution_count": 114,
   "id": "abf65d51-54a5-464c-8624-ae5f91c1a6cb",
   "metadata": {
    "tags": []
   },
   "outputs": [],
   "source": [
    "instance_type = \"ml.g5.2xlarge\"\n",
    "number_of_gpu = 1\n",
    "config = {\n",
    "    'HF_MODEL_ID': model_id, # model_id from hf.co/models\n",
    "    'SM_NUM_GPUS': json.dumps(number_of_gpu), # Number of GPU used per replica\n",
    "    'MAX_INPUT_LENGTH': json.dumps(15500),  # Max length of input text\n",
    "    'MAX_TOTAL_TOKENS': json.dumps(16384),  # Max length of the generation (including input text)\n",
    "    'MAX_BATCH_TOTAL_TOKENS': json.dumps(16384),  # Limits the number of tokens that can be processed in parallel during the generation\n",
    "}"
   ]
  },
  {
   "cell_type": "code",
   "execution_count": 115,
   "id": "157b89b9-5f49-4e5f-b517-4f2f95cad5bd",
   "metadata": {
    "tags": []
   },
   "outputs": [],
   "source": [
    "llm_model = HuggingFaceModel(\n",
    "    role=role,\n",
    "    image_uri=llm_image,\n",
    "    env=config\n",
    ")"
   ]
  },
  {
   "cell_type": "code",
   "execution_count": 18,
   "id": "d1426fd6-a1e0-454d-8ab6-8e9d85066b7e",
   "metadata": {
    "tags": []
   },
   "outputs": [],
   "source": [
    "from datetime import datetime"
   ]
  },
  {
   "cell_type": "code",
   "execution_count": 116,
   "id": "1c15034c-494e-4cdf-bbfb-3980975caab9",
   "metadata": {
    "tags": []
   },
   "outputs": [],
   "source": [
    "endpoint_name = 'TGI-testing-openhermes-mistral-12-Jan-12-30-PM'"
   ]
  },
  {
   "cell_type": "code",
   "execution_count": 117,
   "id": "3c8f7520-28f1-4048-93c6-15b791e9795c",
   "metadata": {
    "tags": []
   },
   "outputs": [
    {
     "data": {
      "text/plain": [
       "'TGI-testing-openhermes-mistral-12-Jan-12-30-PM'"
      ]
     },
     "execution_count": 117,
     "metadata": {},
     "output_type": "execute_result"
    }
   ],
   "source": [
    "endpoint_name"
   ]
  },
  {
   "cell_type": "code",
   "execution_count": 118,
   "id": "9c382ec1-e690-4e65-9161-9efe2ce8e95b",
   "metadata": {
    "tags": []
   },
   "outputs": [
    {
     "name": "stdout",
     "output_type": "stream",
     "text": [
      "------------------------------------------------*"
     ]
    },
    {
     "ename": "UnexpectedStatusException",
     "evalue": "Error hosting endpoint TGI-testing-openhermes-mistral-12-Jan-12-30-PM: Failed. Reason: The primary container for production variant AllTraffic did not pass the ping health check. Please check CloudWatch logs for this endpoint.. Try changing the instance type or reference the troubleshooting page https://docs.aws.amazon.com/sagemaker/latest/dg/async-inference-troubleshooting.html",
     "output_type": "error",
     "traceback": [
      "\u001b[0;31m---------------------------------------------------------------------------\u001b[0m",
      "\u001b[0;31mUnexpectedStatusException\u001b[0m                 Traceback (most recent call last)",
      "Cell \u001b[0;32mIn[118], line 1\u001b[0m\n\u001b[0;32m----> 1\u001b[0m llm \u001b[38;5;241m=\u001b[39m llm_model\u001b[38;5;241m.\u001b[39mdeploy(\n\u001b[1;32m      2\u001b[0m     endpoint_name\u001b[38;5;241m=\u001b[39mendpoint_name,\n\u001b[1;32m      3\u001b[0m     initial_instance_count\u001b[38;5;241m=\u001b[39m\u001b[38;5;241m1\u001b[39m,\n\u001b[1;32m      4\u001b[0m     instance_type\u001b[38;5;241m=\u001b[39minstance_type,\n\u001b[1;32m      5\u001b[0m     container_startup_health_check_timeout\u001b[38;5;241m=\u001b[39m\u001b[38;5;241m1200\u001b[39m,\n\u001b[1;32m      6\u001b[0m )\n",
      "File \u001b[0;32m~/anaconda3/envs/recoenv/lib/python3.11/site-packages/sagemaker/huggingface/model.py:315\u001b[0m, in \u001b[0;36mHuggingFaceModel.deploy\u001b[0;34m(self, initial_instance_count, instance_type, serializer, deserializer, accelerator_type, endpoint_name, tags, kms_key, wait, data_capture_config, async_inference_config, serverless_inference_config, volume_size, model_data_download_timeout, container_startup_health_check_timeout, inference_recommendation_id, explainer_config, **kwargs)\u001b[0m\n\u001b[1;32m    308\u001b[0m     inference_tool \u001b[38;5;241m=\u001b[39m \u001b[38;5;124m\"\u001b[39m\u001b[38;5;124mneuron\u001b[39m\u001b[38;5;124m\"\u001b[39m \u001b[38;5;28;01mif\u001b[39;00m instance_type\u001b[38;5;241m.\u001b[39mstartswith(\u001b[38;5;124m\"\u001b[39m\u001b[38;5;124mml.inf1\u001b[39m\u001b[38;5;124m\"\u001b[39m) \u001b[38;5;28;01melse\u001b[39;00m \u001b[38;5;124m\"\u001b[39m\u001b[38;5;124mneuronx\u001b[39m\u001b[38;5;124m\"\u001b[39m\n\u001b[1;32m    309\u001b[0m     \u001b[38;5;28mself\u001b[39m\u001b[38;5;241m.\u001b[39mimage_uri \u001b[38;5;241m=\u001b[39m \u001b[38;5;28mself\u001b[39m\u001b[38;5;241m.\u001b[39mserving_image_uri(\n\u001b[1;32m    310\u001b[0m         region_name\u001b[38;5;241m=\u001b[39m\u001b[38;5;28mself\u001b[39m\u001b[38;5;241m.\u001b[39msagemaker_session\u001b[38;5;241m.\u001b[39mboto_session\u001b[38;5;241m.\u001b[39mregion_name,\n\u001b[1;32m    311\u001b[0m         instance_type\u001b[38;5;241m=\u001b[39minstance_type,\n\u001b[1;32m    312\u001b[0m         inference_tool\u001b[38;5;241m=\u001b[39minference_tool,\n\u001b[1;32m    313\u001b[0m     )\n\u001b[0;32m--> 315\u001b[0m \u001b[38;5;28;01mreturn\u001b[39;00m \u001b[38;5;28msuper\u001b[39m(HuggingFaceModel, \u001b[38;5;28mself\u001b[39m)\u001b[38;5;241m.\u001b[39mdeploy(\n\u001b[1;32m    316\u001b[0m     initial_instance_count,\n\u001b[1;32m    317\u001b[0m     instance_type,\n\u001b[1;32m    318\u001b[0m     serializer,\n\u001b[1;32m    319\u001b[0m     deserializer,\n\u001b[1;32m    320\u001b[0m     accelerator_type,\n\u001b[1;32m    321\u001b[0m     endpoint_name,\n\u001b[1;32m    322\u001b[0m     format_tags(tags),\n\u001b[1;32m    323\u001b[0m     kms_key,\n\u001b[1;32m    324\u001b[0m     wait,\n\u001b[1;32m    325\u001b[0m     data_capture_config,\n\u001b[1;32m    326\u001b[0m     async_inference_config,\n\u001b[1;32m    327\u001b[0m     serverless_inference_config,\n\u001b[1;32m    328\u001b[0m     volume_size\u001b[38;5;241m=\u001b[39mvolume_size,\n\u001b[1;32m    329\u001b[0m     model_data_download_timeout\u001b[38;5;241m=\u001b[39mmodel_data_download_timeout,\n\u001b[1;32m    330\u001b[0m     container_startup_health_check_timeout\u001b[38;5;241m=\u001b[39mcontainer_startup_health_check_timeout,\n\u001b[1;32m    331\u001b[0m     inference_recommendation_id\u001b[38;5;241m=\u001b[39minference_recommendation_id,\n\u001b[1;32m    332\u001b[0m     explainer_config\u001b[38;5;241m=\u001b[39mexplainer_config,\n\u001b[1;32m    333\u001b[0m     endpoint_logging\u001b[38;5;241m=\u001b[39mkwargs\u001b[38;5;241m.\u001b[39mget(\u001b[38;5;124m\"\u001b[39m\u001b[38;5;124mendpoint_logging\u001b[39m\u001b[38;5;124m\"\u001b[39m, \u001b[38;5;28;01mFalse\u001b[39;00m),\n\u001b[1;32m    334\u001b[0m     endpoint_type\u001b[38;5;241m=\u001b[39mkwargs\u001b[38;5;241m.\u001b[39mget(\u001b[38;5;124m\"\u001b[39m\u001b[38;5;124mendpoint_type\u001b[39m\u001b[38;5;124m\"\u001b[39m, \u001b[38;5;28;01mNone\u001b[39;00m),\n\u001b[1;32m    335\u001b[0m     resources\u001b[38;5;241m=\u001b[39mkwargs\u001b[38;5;241m.\u001b[39mget(\u001b[38;5;124m\"\u001b[39m\u001b[38;5;124mresources\u001b[39m\u001b[38;5;124m\"\u001b[39m, \u001b[38;5;28;01mNone\u001b[39;00m),\n\u001b[1;32m    336\u001b[0m     managed_instance_scaling\u001b[38;5;241m=\u001b[39mkwargs\u001b[38;5;241m.\u001b[39mget(\u001b[38;5;124m\"\u001b[39m\u001b[38;5;124mmanaged_instance_scaling\u001b[39m\u001b[38;5;124m\"\u001b[39m, \u001b[38;5;28;01mNone\u001b[39;00m),\n\u001b[1;32m    337\u001b[0m )\n",
      "File \u001b[0;32m~/anaconda3/envs/recoenv/lib/python3.11/site-packages/sagemaker/model.py:1654\u001b[0m, in \u001b[0;36mModel.deploy\u001b[0;34m(self, initial_instance_count, instance_type, serializer, deserializer, accelerator_type, endpoint_name, tags, kms_key, wait, data_capture_config, async_inference_config, serverless_inference_config, volume_size, model_data_download_timeout, container_startup_health_check_timeout, inference_recommendation_id, explainer_config, accept_eula, endpoint_logging, resources, endpoint_type, managed_instance_scaling, **kwargs)\u001b[0m\n\u001b[1;32m   1651\u001b[0m \u001b[38;5;28;01mif\u001b[39;00m is_explainer_enabled:\n\u001b[1;32m   1652\u001b[0m     explainer_config_dict \u001b[38;5;241m=\u001b[39m explainer_config\u001b[38;5;241m.\u001b[39m_to_request_dict()\n\u001b[0;32m-> 1654\u001b[0m \u001b[38;5;28mself\u001b[39m\u001b[38;5;241m.\u001b[39msagemaker_session\u001b[38;5;241m.\u001b[39mendpoint_from_production_variants(\n\u001b[1;32m   1655\u001b[0m     name\u001b[38;5;241m=\u001b[39m\u001b[38;5;28mself\u001b[39m\u001b[38;5;241m.\u001b[39mendpoint_name,\n\u001b[1;32m   1656\u001b[0m     production_variants\u001b[38;5;241m=\u001b[39m[production_variant],\n\u001b[1;32m   1657\u001b[0m     tags\u001b[38;5;241m=\u001b[39mtags,\n\u001b[1;32m   1658\u001b[0m     kms_key\u001b[38;5;241m=\u001b[39mkms_key,\n\u001b[1;32m   1659\u001b[0m     wait\u001b[38;5;241m=\u001b[39mwait,\n\u001b[1;32m   1660\u001b[0m     data_capture_config_dict\u001b[38;5;241m=\u001b[39mdata_capture_config_dict,\n\u001b[1;32m   1661\u001b[0m     explainer_config_dict\u001b[38;5;241m=\u001b[39mexplainer_config_dict,\n\u001b[1;32m   1662\u001b[0m     async_inference_config_dict\u001b[38;5;241m=\u001b[39masync_inference_config_dict,\n\u001b[1;32m   1663\u001b[0m     live_logging\u001b[38;5;241m=\u001b[39mendpoint_logging,\n\u001b[1;32m   1664\u001b[0m )\n\u001b[1;32m   1666\u001b[0m \u001b[38;5;28;01mif\u001b[39;00m \u001b[38;5;28mself\u001b[39m\u001b[38;5;241m.\u001b[39mpredictor_cls:\n\u001b[1;32m   1667\u001b[0m     predictor \u001b[38;5;241m=\u001b[39m \u001b[38;5;28mself\u001b[39m\u001b[38;5;241m.\u001b[39mpredictor_cls(\u001b[38;5;28mself\u001b[39m\u001b[38;5;241m.\u001b[39mendpoint_name, \u001b[38;5;28mself\u001b[39m\u001b[38;5;241m.\u001b[39msagemaker_session)\n",
      "File \u001b[0;32m~/anaconda3/envs/recoenv/lib/python3.11/site-packages/sagemaker/session.py:5380\u001b[0m, in \u001b[0;36mSession.endpoint_from_production_variants\u001b[0;34m(self, name, production_variants, tags, kms_key, wait, data_capture_config_dict, async_inference_config_dict, explainer_config_dict, live_logging, vpc_config, enable_network_isolation, role)\u001b[0m\n\u001b[1;32m   5377\u001b[0m logger\u001b[38;5;241m.\u001b[39minfo(\u001b[38;5;124m\"\u001b[39m\u001b[38;5;124mCreating endpoint-config with name \u001b[39m\u001b[38;5;132;01m%s\u001b[39;00m\u001b[38;5;124m\"\u001b[39m, name)\n\u001b[1;32m   5378\u001b[0m \u001b[38;5;28mself\u001b[39m\u001b[38;5;241m.\u001b[39msagemaker_client\u001b[38;5;241m.\u001b[39mcreate_endpoint_config(\u001b[38;5;241m*\u001b[39m\u001b[38;5;241m*\u001b[39mconfig_options)\n\u001b[0;32m-> 5380\u001b[0m \u001b[38;5;28;01mreturn\u001b[39;00m \u001b[38;5;28mself\u001b[39m\u001b[38;5;241m.\u001b[39mcreate_endpoint(\n\u001b[1;32m   5381\u001b[0m     endpoint_name\u001b[38;5;241m=\u001b[39mname,\n\u001b[1;32m   5382\u001b[0m     config_name\u001b[38;5;241m=\u001b[39mname,\n\u001b[1;32m   5383\u001b[0m     tags\u001b[38;5;241m=\u001b[39mendpoint_tags,\n\u001b[1;32m   5384\u001b[0m     wait\u001b[38;5;241m=\u001b[39mwait,\n\u001b[1;32m   5385\u001b[0m     live_logging\u001b[38;5;241m=\u001b[39mlive_logging,\n\u001b[1;32m   5386\u001b[0m )\n",
      "File \u001b[0;32m~/anaconda3/envs/recoenv/lib/python3.11/site-packages/sagemaker/session.py:4291\u001b[0m, in \u001b[0;36mSession.create_endpoint\u001b[0;34m(self, endpoint_name, config_name, tags, wait, live_logging)\u001b[0m\n\u001b[1;32m   4287\u001b[0m \u001b[38;5;28mself\u001b[39m\u001b[38;5;241m.\u001b[39msagemaker_client\u001b[38;5;241m.\u001b[39mcreate_endpoint(\n\u001b[1;32m   4288\u001b[0m     EndpointName\u001b[38;5;241m=\u001b[39mendpoint_name, EndpointConfigName\u001b[38;5;241m=\u001b[39mconfig_name, Tags\u001b[38;5;241m=\u001b[39mtags\n\u001b[1;32m   4289\u001b[0m )\n\u001b[1;32m   4290\u001b[0m \u001b[38;5;28;01mif\u001b[39;00m wait:\n\u001b[0;32m-> 4291\u001b[0m     \u001b[38;5;28mself\u001b[39m\u001b[38;5;241m.\u001b[39mwait_for_endpoint(endpoint_name, live_logging\u001b[38;5;241m=\u001b[39mlive_logging)\n\u001b[1;32m   4292\u001b[0m \u001b[38;5;28;01mreturn\u001b[39;00m endpoint_name\n",
      "File \u001b[0;32m~/anaconda3/envs/recoenv/lib/python3.11/site-packages/sagemaker/session.py:5023\u001b[0m, in \u001b[0;36mSession.wait_for_endpoint\u001b[0;34m(self, endpoint, poll, live_logging)\u001b[0m\n\u001b[1;32m   5017\u001b[0m     \u001b[38;5;28;01mif\u001b[39;00m \u001b[38;5;124m\"\u001b[39m\u001b[38;5;124mCapacityError\u001b[39m\u001b[38;5;124m\"\u001b[39m \u001b[38;5;129;01min\u001b[39;00m \u001b[38;5;28mstr\u001b[39m(reason):\n\u001b[1;32m   5018\u001b[0m         \u001b[38;5;28;01mraise\u001b[39;00m exceptions\u001b[38;5;241m.\u001b[39mCapacityError(\n\u001b[1;32m   5019\u001b[0m             message\u001b[38;5;241m=\u001b[39mmessage,\n\u001b[1;32m   5020\u001b[0m             allowed_statuses\u001b[38;5;241m=\u001b[39m[\u001b[38;5;124m\"\u001b[39m\u001b[38;5;124mInService\u001b[39m\u001b[38;5;124m\"\u001b[39m],\n\u001b[1;32m   5021\u001b[0m             actual_status\u001b[38;5;241m=\u001b[39mstatus,\n\u001b[1;32m   5022\u001b[0m         )\n\u001b[0;32m-> 5023\u001b[0m     \u001b[38;5;28;01mraise\u001b[39;00m exceptions\u001b[38;5;241m.\u001b[39mUnexpectedStatusException(\n\u001b[1;32m   5024\u001b[0m         message\u001b[38;5;241m=\u001b[39mmessage,\n\u001b[1;32m   5025\u001b[0m         allowed_statuses\u001b[38;5;241m=\u001b[39m[\u001b[38;5;124m\"\u001b[39m\u001b[38;5;124mInService\u001b[39m\u001b[38;5;124m\"\u001b[39m],\n\u001b[1;32m   5026\u001b[0m         actual_status\u001b[38;5;241m=\u001b[39mstatus,\n\u001b[1;32m   5027\u001b[0m     )\n\u001b[1;32m   5028\u001b[0m \u001b[38;5;28;01mreturn\u001b[39;00m desc\n",
      "\u001b[0;31mUnexpectedStatusException\u001b[0m: Error hosting endpoint TGI-testing-openhermes-mistral-12-Jan-12-30-PM: Failed. Reason: The primary container for production variant AllTraffic did not pass the ping health check. Please check CloudWatch logs for this endpoint.. Try changing the instance type or reference the troubleshooting page https://docs.aws.amazon.com/sagemaker/latest/dg/async-inference-troubleshooting.html"
     ]
    }
   ],
   "source": [
    "llm = llm_model.deploy(\n",
    "    endpoint_name=endpoint_name,\n",
    "    initial_instance_count=1,\n",
    "    instance_type=instance_type,\n",
    "    container_startup_health_check_timeout=1200,\n",
    ")"
   ]
  },
  {
   "cell_type": "code",
   "execution_count": null,
   "id": "e779253d-2f8c-4611-a17b-6b3f1b7ac6d2",
   "metadata": {
    "tags": []
   },
   "outputs": [],
   "source": [
    "from transformers import AutoTokenizer"
   ]
  },
  {
   "cell_type": "code",
   "execution_count": null,
   "id": "4c42d1dc-9f18-45bd-b2f9-09fe11ac4dd0",
   "metadata": {
    "tags": []
   },
   "outputs": [],
   "source": [
    "tokenizer = AutoTokenizer.from_pretrained(model_id)"
   ]
  },
  {
   "cell_type": "code",
   "execution_count": 38,
   "id": "e14003ca-4258-4ec0-a91b-255f61355f18",
   "metadata": {
    "tags": []
   },
   "outputs": [],
   "source": [
    "parameters = {\n",
    "    \"do_sample\": True,\n",
    "    \"top_p\": 0.9,\n",
    "    \"temperature\": 0.8,\n",
    "    \"max_new_tokens\": 1024,\n",
    "    \"repetition_penalty\": 1.0,\n",
    "    \"stop\": [\"###\", \"</s>\", tokenizer.eos_token],\n",
    "}"
   ]
  },
  {
   "cell_type": "code",
   "execution_count": 40,
   "id": "6b9e6815-7c1f-415e-a8f6-8eb8049abd21",
   "metadata": {
    "tags": []
   },
   "outputs": [],
   "source": [
    "prompt = '''\n",
    "You are an assistant for question-answering tasks. Use the following pieces of retrieved context to answer the question. We’ll name answer_not_found_in_context with the statement of ‘I am unable to find the exact answer for this’. If the answer is not present in the context, then respond by using answer_not_found_in_context. If the context has a related piece of information but not the exact answer, then follow up the answer_not_found_in_context with a concise relevant answer found from the context. Use three sentences maximum and keep the answer concise. It is extremely critical that you do not use any information which is not explicitly present in the context provided. \n",
    "\n",
    "for all queries with a time period reference, calculate the required time period using the following provided today's date in %d-%b-%Y format:\n",
    "\n",
    "{today's date}: 11-Jan-2024\n",
    "\n",
    "{question}: Sensex today\n",
    "\n",
    "\n",
    "{context1}: Sensex Today | Stock Market LIVE Updates: Sensex off day's high, rise 100 points, Nifty above 21,600; auto index top sectoral gainer\n",
    "Stock Market LIVE Updates: Tokyo's Nikkei closes above 35,000 for first time since 1990\n",
    "\n",
    "Tokyo's Nikkei index closed above 35,000 for the first time in nearly 34 years on Thursday, buoyed by US tech rallies and hopes for an end to decades of sluggish inflation.The benchmark Nikkei 225 index rose 1.77 percent, or 608.14 points, to 35,049.86 -- the first time the index has risen above the 35,000 mark since February 1990 -- while the broader Topix index added 1.57 percent, or 38.39 points to 2,482.87.\n",
    "\n",
    "Gold prices have been on an upward trajectory during 2023 and this momentum is expected to continue in 2024. Internationally, the volatility of the yellow metal prices will continue and will be triggered by various factors including the on-going geo-political scenario, strengthening of USD against INR and a pessimistic approach towards the growth of global economy.\n",
    "\n",
    "Domestically, the demand for the yellow metal is expected to outgrow and is expected to touch the 70k mark on a domestic level. This rally will be driven by robust demand in the domestic market owing to the rising income levels and the inclination towards yellow metal. On the global level, we expect the prices to hover in the range of USD 1850-2050. Irrespective of the price movement, the consumer demand will continue to grow during the year backed by strengthened purchasing power, and the change in perspective towards gold as lifestyle statement, thus driving sales across along all ticket-sizes.\n",
    "\n",
    "{context2}: Nifty 50, Sensex on January 11: What to expect in trade today\n",
    "Ankit Gohel\n",
    "The Indian stock market indices, Sensex and Nifty 50, are expected to open flat on Thursday amid positive global market cues. \n",
    "\n",
    "The trends on Gift Nifty also indicate a flat start for the Indian benchmark index. The Gift Nifty was trading around 21,716 level as compared to the Nifty futures’ previous close of 21,723.\n",
    "\n",
    "Catch Live Market Updates here\n",
    "\n",
    "On Wednesday, the domestic equity benchmark indices ended higher with the Nifty 50 taking the support near 20-day SMA (Simple Moving Average) and bouncing back sharply.\n",
    "\n",
    "The Sensex rallied 271.50 points to close at 71,657.71, while the Nifty 50 settled 73.85 points, or 0.34%, higher at 21,618.70.\n",
    "\n",
    "Nifty 50 formed a reasonable positive candle on the daily chart with lower shadow. Technically, this pattern indicates false downside breakout of the immediate support of 21,500 levels by an emergence of renewed buying from the lows.\n",
    "\n",
    "Also Read: Indian stock market: 6 key things that changed for market overnight - Gift Nifty, US megacap stocks to bitcoin ETF nod\n",
    "\n",
    "“After closing below the immediate support of 10-day EMA at 21,550 in the last couple of sessions, Nifty failed to show any sharp follow-through weakness/decisive downside breakout and has bounced back smartly from the lower levels. This is a positive indication,\" said Nagaraj Shetti, Senior Technical Research Analyst, HDFC Securities.\n",
    "\n",
    "He believes the short-term trend of Nifty seems to have reversed up after a minor decline of the last two sessions. The Nifty is now expected to retest the upper trajectory around 21,750-21,850 levels in the next few sessions. \n",
    "\n",
    "(Exciting news! Mint is now on WhatsApp Channels Subscribe today by clicking the link and stay updated with the latest financial insights! Click here!)\n",
    "\n",
    "Here’s what to expect from Nifty and Bank Nifty today:\n",
    "\n",
    "Nifty 50 Predictions\n",
    "\n",
    "The Nifty 50 index bounced back strongly from its important support at 21,500, on January 10, indicating that the bulls are quite active at this level. \n",
    "\n",
    "“The Nifty closed at 21,623, near its resistance. If it manages to close above 21,700-21,750 levels, we might see the Nifty reaching 22,000. For those looking to buy Nifty, the recommended range is between 21,550-21,600. Set a stop loss at 21,480 and aim for a target of 21,750,\" said \n",
    "\n",
    "Kunal Shah, Senior Technical & Derivative Analyst, LKP Securities.\n",
    "\n",
    "Also Read: Buy or sell: Vaishali Parekh recommends three stocks to buy today — January 11\n",
    "\n",
    "Bank Nifty Predictions \n",
    "\n",
    "The Bank Nifty index rebounded from day’s low and closed 118 points higher at 47,361 on January 10.\n",
    "\n",
    "“The Bank Nifty index experienced a volatile trading session on the day of weekly expiry, but the bulls successfully defended the crucial support level of 47,000. Despite this, the overall market sentiment remains in “sell on rise\" mode. The immediate hurdle for the index is at 47,500, where the highest open interest is concentrated on the call side,\" Shah said.\n",
    "\n",
    "To initiate a short-covering move and potentially target the 48,000 mark, the index needs to convincingly surpass the level of 47,500 on a closing basis, he added.\n",
    "\n",
    "Disclaimer: The views and recommendations made above are those of individual analysts or broking companies, and not of Mint. We advise investors to check with certified experts before taking any investment decisions.\n",
    "\n",
    "Unlock a world of Benefits! From insightful newsletters to real-time stock tracking, breaking news and a personalized newsfeed – it's all here, just a click away! Login Now!\n",
    "\n",
    "Catch all the Business News, Market News, Breaking News Events and Latest News Updates on Live Mint. Check all the latest action on Budget 2024 here. Download The Mint News App to get Daily Market Updates.\n",
    "More\n",
    "Published: 11 Jan 2024, 07:48 AM IST\n",
    "\n",
    "Topics You May Be Interested In\n",
    "{context3}: Stock Market Live Updates: Sensex gains 100 pts; Nifty above 21,650; Infosys dips 1% ahead of Q3 results\n",
    "Updated - January 11, 2024 at 11:56 AM.\n",
    "\n",
    "Sensex, Nifty, Share Prices LIVE: Benchmark equity indices are trading flat with positive bias amid a rally in global markets. As of 11:30 am, the Sensex gained 108.12 points to 71,765.83, while the Nifty rose 35.20 points to 21,653.90. Analysts anticipate intra-day volatility with Infosys and TCS announcing Q3 results. Infosys’ stock is under pressure as the company is set to announce the financial results for Q3 FY24 post the market hours later today. Global markets show strength. SBI Capital expects CY24 to address economic aftermath, prioritising growth over inflation. Market advice includes booking profits in sectors with elevated valuations. Pharma remains attractive, and the chemical sector shows signs of recovery. Overall, markets are cautiously optimistic, closely monitoring Q3 results and potential shifts in 2024 trends.\n",
    "\n",
    "\n",
    "Stock Market today | Share Market Live Updates - Find here all the live updates related to Sensex, Nifty, BSE, NSE, share prices and Indian stock markets for 11 January 2024.\n",
    "\n",
    "January 11, 2024 11:56\n",
    "Stock Market Live Updates: India Japan Fund to invest ₹400 crore in Mahindra Last Mile Mobility at a valuation of ₹6000 crore\n",
    "\n",
    "January 11, 2024 11:41\n",
    "Stocks Market Live Updates: Centrum Group appoints Manish Jain as Head of the Fund Management businesses\n",
    "\n",
    "Centrum Group today announced the appointment of Manish Jain as Head of the Fund Management businesses. He will lead and manage Centrum’s Portfolio Management Services (PMS) and Non-discretionary Equity Advisory verticals. \n",
    "\n",
    "Manish comes with a proven track record of over 20 years in the Indian equities market, managing equity funds, driving high quality equity research and with expertise both on the buy and sell sides. He has held senior positions with leading financial institutions such as Nomura / Lehman Brothers, ICICI Securities, and most recently with Ambit Investment Advisors, where he was managing their Coffee Can Portfolio having an AUM of approx. Rs 1,150 crores. Manish is a Chartered Financial Analyst (CFA) and a MBA in Finance from Symbiosis, Pune.\n",
    "\n",
    "January 11, 2024 11:33\n",
    "Stock Market Live Updates: Discount brokers hold 65% share, MTF achieves a new high: ICRA\n",
    "\n",
    "ICRA has analysed the performance of 29 prominent brokerage companies in H1 FY2024. Supported by improved market activity, ICRA’s sample set of companies reported a sharp 20% annualised growth in the net operating income. Given the benefits of economies of scale, the aggregate profitability of this sample set also improved, with a 24% annualised increase in the net profit and a return on equity of 27% in H1 FY2024 compared to 25% in FY2023. ICRA expects the industry to report all-time high revenues and net profits with a year-on-year (YoY) expansion of 18-22% and 22-25%, respectively, in FY2024. \n",
    "\n",
    "After reporting a flattish trajectory in FY2023, the aggregate industry-wide MTF exposure grew by 98% from March 2023 to ~Rs. 51,000 crore on December 28, 2023. \n",
    "\n",
    "The participation of retail investors also remained strong in the futures & options segment, driven by the launch of new index options, miniaturisation of contracts/lot sizes, and separate weekly expiries for each index option. During FY2020 to FY2023, the number of contracts traded increased by about nine times. Moreover, the number of contracts traded expanded by 2.4 times, on a YoY basis, in H1 FY2024. \n",
    "\n",
    "Given the substantial new client additions in the past few fiscals, discount brokerage houses continue to hold a leadership position, in terms of market share of active NSE clients, at 65% in November 2023 compared to 18% in March 2019. The market share of non-bank full-service brokers and bank-based brokers stood at ~21% and 14%, respectively, in November 2023.\n",
    "\n",
    "Although the borrowings by brokerage entities were historically low, financial leverage has increased considerably in recent fiscals with the material scale-up of the MTF and increased working capital requirements due to regulatory changes for the securities broking industry. \n",
    "\n",
    "The aggregate leverage of bank brokers, which dominate the MTF segment, increased to 1.9 times as of September 30, 2023, from 0.4 times as of March 31, 2020. During this period, the aggregate gearing of non-bank full-service brokers increased to 1.1 times from 0.4 times. Discount brokers, with a limited presence in MTF, reported marginal dependence on borrowings.\n",
    "\n",
    "January 11, 2024 11:21\n",
    "Financial Market Live Updates: We deep-dive into business models of regulated entities to spot ALM mismatches, assess funding stability, and liquidity position: RBI Guv Das\n",
    "\n",
    "January 11, 2024 11:20\n",
    "Financial Market Live Updates: Indian banking system is well-placed to support India’s growth story in the years ahead: RBI Guv Das.\n",
    "\n",
    "January 11, 2024 11:19\n",
    "Stock Market Live Today: NIACL receives SCN cum demand notice from Directorate General of GST for Tax of Rs 2,379 crore.\n",
    "\n",
    "January 11, 2024 11:18\n",
    "Stock Market Live Today: Polycab: Income Tax Department detects unaccounted cash sales of about Rs 1,000 crore after it initiates search.\n",
    "\n",
    "January 11, 2024 11:18\n",
    "Stock Market Live Today: Metro Brands: Deepika Deepti has resigned as Senior Vice President- Marketing of the company with effect from March 26.\n",
    "\n",
    "January 11, 2024 11:17\n",
    "Stock Market Live Updates: Bank of Baroda hikes lending rates by 5 bps for overnight, six month & one year tenures.\n",
    "\n",
    "January 11, 2024 11:17\n",
    "Stock Market Live Updates: Mahindra & Mahindra’s stake in Sustainable Energy Infra Trust diluted to 10.5% from 15.7% earlier.\n",
    "\n",
    "January 11, 2024 11:15\n",
    "Stock Market Live Updates: ONGC incorporates wholly owned subsidiary OVL Overseas IFSC in GIFT City, Gujarat.\n",
    "\n",
    "January 11, 2024 11:15\n",
    "Stock Market Live Updates: Satin Creditcare to consider Fund Raising via NCDs on January 15.\n",
    "\n",
    "January 11, 2024 11:14\n",
    "Stock Market Live Updates: Safari Industries’ Board of directors will meet on January 15 to consider raising funds.\n",
    "\n",
    "January 11, 2024 11:12\n",
    "Stock Market Live Today: Thirumalai Chemicals has started commercial production at its subsidiary, TCL Intermediates Private Limited’s Greenfield plant in Dahej.\n",
    "\n",
    "January 11, 2024 11:11\n",
    "Stock Market Live Today: Senco Gold achieves 9% volume growth in gold and 27% in diamond jewelry.\n",
    "\n",
    "January 11, 2024 11:11\n",
    "Stock Market Live Today: KIMS has acquired an additional 5.04% equity stake in Sarvejana Healthcare Private Limited.\n",
    "\n",
    "January 11, 2024 11:10\n",
    "Stock Market Live Today: Kalyani Steels secures acquisition of Kamineni Steel & Power India Pvt Ltd assets under the Insolvency and Bankruptcy Code, 2016.\n",
    "\n",
    "January 11, 2024 11:10\n",
    "Financial Market Live Updates: RBI supervisory process made more dynamic to “smell possible distress early” in regulated entities: RBI Guv Das.\n",
    "\n",
    "January 11, 2024 11:09\n",
    "Stock Market Live Updates: Ajmera Realty & Infra reports 63% YoY increase in sales area in Q3 FY24\n",
    "\n",
    "Ajmera Realty & Infra India Ltd reported robust growth in Q3 FY24 with a significant 63% YoY increase in sales area, at 1,03,573 sq.ft, and an equivalent sales value of Rs 253 crores. Despite limited inventory, growth in sales value came on the back of sustained interest in key projects, Ajmera Manhattan and Ajmera Eden in Mumbai, as well as projects in Bengaluru.\n",
    "\n",
    "January 11, 2024 11:04\n",
    "Stock Market Live Updates: SBI Securities Daily Market Pulse 11 January 2024\n",
    "\n",
    "● From Price Action Perspective:\n",
    "\n",
    "Led by a strong move in Reliance & ICICIBANK, Nifty took support at 21450 zone & witnessed a strong rebound towards 21620 zone, gaining 0.34% while Banknifty gained 0.25 % yesterday rebounding from crucial support zone of 47000\n",
    "\n",
    "● Decoding Asset Relationships:\n",
    "\n",
    "The US Dollar Index is currently trading around 102.50 levels while US 10-year yields are quoting at 4%, signaling a probable delay in the Interest Rate Cuts by the Fed.\n",
    "\n",
    "Brent Crude remains steady between $75-78 a barrel.\n",
    "\n",
    "Below 75$, crude prices could weaken upto $70-71 a barrel, which would be a positive factor from a Macro-economic standpoint.\n",
    "\n",
    "● Quick Check on Global Markets:\n",
    "\n",
    "The S&P 500 has taken support around its 20-EMA around 4680-4700 and is now trending towards its life highs. Looking ahead, till the 20-day EMA holds, the index can continue its positive momentum towards 4840-4890.\n",
    "\n",
    "On the downside, 4680-4700 zone could act as important support.\n",
    "\n",
    "● Key Nifty levels:\n",
    "\n",
    "Going forward, support is likely to be seen at 21470-21500 level from which the index has bounced five times in the last fortnight while, on the upside, immediate resistance is at 21710-21730.\n",
    "\n",
    "On a close above 21730, Index would inch towards a fresh life high of 21900-21950.\n",
    "\n",
    "In case 21480 is breached, Index could slide towards 21370-21380 zone where 20 Day EMA is placed.\n",
    "\n",
    "Upcoming Quarterly Results by the IT Companies would act as a key trigger going forward.\n",
    "\n",
    "However, outperformance by Reliance is a big positive for the markets & would provide support to Nifty on dips.\n",
    "\n",
    "● OI data Interpretation for weekly series,\n",
    "\n",
    "Significant call Writing buildup is witnessed in 21650 and 21700 strikes, while on the puts front, 21600-21500 witnessed considerable Open Interest additions.\n",
    "\n",
    "Overall, the range for the index could be 21450 on the downside & 21750 on the upside.\n",
    "\n",
    "● Key Bank Nifty Levels:\n",
    "\n",
    "Going forward, the zone of 47000-47130 is likely to act as a support while, on the upside, resistance is seen at 47600-47700 zone.\n",
    "\n",
    "Above 47700, Bank Nifty could witness sharp short-covering upto 47950-48000.\n",
    "\n",
    "In case 47000 breaks, Index can retest its next support placed at 46800-46650.\n",
    "\n",
    "For the next weekly Expiry, significant Open Interest buildup is witnessed in 47500-47700 calls and 47000 puts, implying a near-term range of 47700 and 47000 for the Banking Index.\n",
    "\n",
    "● Sectors & stocks in Momentum:\n",
    "\n",
    "The most influential stocks whose results are to be released today are Tcs, Infosys & Hdfcamc.\n",
    "\n",
    "Railway stocks such as IRFC, IRCTC, RVNL, and Rites experienced buying with heavy volumes yesterday.\n",
    "\n",
    "From the broader market, bullish setups were observed in Reliance, Adaniports, ApolloHosp, Delhivery, Tiindia, Crompton, Maxhealth, Jswenergy, Prestige, Bhel, Voltas, Trent, Ltts, Abbotindia, Poonawalla, Persistent, Tv18brdcst, Tanla, Mazdock, Centurytex, Amber, Bsoft, Nbcc, Gnfc.\n",
    "\n",
    "January 11, 2024 11:02\n",
    "Stock Market Live Updates: Government initiates process to sell enemy shares in Peerless, Mohan Meakin and 18 others\n",
    "\n",
    "The Government has decided to sell enemy shares of 20 companies that are being held by the Custodian of Enemy Property of India (CEPI).\n",
    "\n",
    "According to a notice by the Finance Ministry, the list of companies includes, Anand Projects Limted, Bharat Nidhi Limited, Delhi Flour Mills, Mohan Meakin, Spencer & Co, the Peerless General Finance & Investment, the Bengal Dooars National Tea Limited, and Woodbriar Estate beside others. SBI Caps is the merchant banker and selling broker for the transaction.\n",
    "\n",
    "January 11, 2024 11:01\n",
    "Bank Nifty prediction today–Jan 11, 2024: Index might consolidate today\n",
    "\n",
    "Bank Nifty opened today’s session with a gap-up at 47,538.60 versus yesterday’s close of 47,360.85. The index is now at 47,500, up 0.3 per cent.\n",
    "\n",
    "The advance/decline ratio stands at 9/3. Bandhan Bank, up 2 per cent, is the top gainer whereas Federal Bank, down 0.3 per cent, is the top loser.\n",
    "\n",
    "January 11, 2024 10:59\n",
    "Nifty prediction today – Jan 11, 2023: Index remains in a range, stay out for now\n",
    "\n",
    "Nifty 50 began today’s session with a gap-up at 21,688 versus yesterday’s close of 21,618.70. The index is now at 21,660, up 0.2 per cent.\n",
    "\n",
    "Supporting the bullish bias, the advance/decline ratio of Nifty 50 stands at 33/17. However, the index remains within the range it has been trading for the past couple of weeks.\n",
    "\n",
    "January 11, 2024 10:58\n",
    "Financial Market Live Updates: Indian banking sector has emerged stronger: RBI Guv Das\n",
    "\n",
    "Reserve Bank of India Governor Shaktikanta Das has stated that all key indicators of scheduled commercial banks have demonstrated improvement over the past four years. Governor Das further noted the enhanced financial indicators of Non-Banking Financial Companies (NBFCs) during this period. \n",
    "\n",
    "Highlighting the central bank’s proactive measures, Das mentioned that since 2020, the RBI has undertaken a comprehensive overhaul of the regulatory architecture, incorporating significant changes such as the large exposure framework and scale-based regulation for NBFCs. \n",
    "\n",
    "Flow of Investments in fintech space, especially digital lending, has gone up. Regulatory architecture gives confidence to all stakeholders, including foreign investors.\n",
    "\n",
    "January 11, 2024 10:52\n",
    "Stock Market Live Today: CESC’s unit, Noida Power Company, has received an order from the Uttar Pradesh Electricity Regulatory Commission.\n",
    "\n",
    "January 11, 2024 10:52\n",
    "Stock Market Live Today: Atul Products Ltd, has received approval and started operations of a 300 tpd caustic and 50 MW power plant.\n",
    "\n",
    "January 11, 2024 10:51\n",
    "Stock Market Live Today: Welspun Enterprises pledges Rs 40,000 crore investment to set up green hydrogen, green ammonia ecosystem in Gujarat.\n",
    "\n",
    "January 11, 2024 10:50\n",
    "Stock Market Live Today: Maruti Suzuki plans to produce 10 lakh units annually at new plant.\n",
    "\n",
    "January 11, 2024 10:50\n",
    "Stock Market Live Today: NBCC bags contract worth Rs 218 crore from NIFT campus at Varanasi, Uttar Pradesh.\n",
    "\n",
    "January 11, 2024 10:48\n",
    "Stock Market Live Today: Ease My Trip ventures into insurance sector with the launch of its subsidiary.\n",
    "\n",
    "January 11, 2024 10:46\n",
    "Stock Market Live Today: Steel Strips: Directorate General Of Trade Remedies recommends anti-dumping duty on aluminum alloy road Wheel Imports from China for 5 years.\n",
    "\n",
    "January 11, 2024 10:46\n",
    "Stock Market Live Today: Sairam Prasad named as CEO of unit Suzlon Global Services effective January 16.\n",
    "\n",
    "January 11, 2024 10:45\n",
    "Stock Market Live Today: NCC: Smallcap World Fund INC bought 36.15 Lakh Shares at 185.23/share.\n",
    "\n",
    "January 11, 2024 10:43\n",
    "Stock Market Live Today: Lupin launches new product in the U.S. market designed to aid smoking cessation treatment.\n",
    "\n",
    "January 11, 2024 10:41\n",
    "Stock Market Live Today: Phoenix Mills reports a significant year-on-year increase of 30%, with gross retail collections reaching Rs 700 crore.\n",
    "\n",
    "January 11, 2024 10:23\n",
    "Commodity Market Live Updates: Crude oil gains despite surprise rise in US inventory\n",
    "\n",
    "Despite a surprise increase in crude oil inventories in the US, crude oil futures traded higher on Thursday morning as the Houthis continued their attacks on merchant vessels in the Red Sea region on Tuesday.\n",
    "\n",
    "At 9.54 am on Thursday, March Brent oil futures were at $77.09, up by 0.38 per cent, and February crude oil futures on WTI (West Texas Intermediate) were at $71.63, up by 0.36 per cent.\n",
    "\n",
    "January 11, 2024 10:13\n",
    "Stock Market Live Updates: Infosys under pressure ahead of Q3 FY24 results\n",
    "\n",
    "The stock price of Infosys declined 1.44 per cent or ₹21.95 to trade at ₹1,497.70 at 10 am on BSE. The IT major was the major laggard within the 30-stock Sensex pack in early trade.\n",
    "\n",
    "Infosys’ stock is under pressure as the company is set to announce the financial results for Q3 FY24 post the market hours later today.\n",
    "\n",
    "January 11, 2024 10:09\n",
    "Stock Market Live Updates: Markets climb in early trade on firm global trends\n",
    "\n",
    "Benchmark equity indices climbed in early trade on Thursday amid a rally in global markets and buying in Reliance Industries.\n",
    "\n",
    "The 30-share BSE Sensex jumped 341.76 points to 71,999.47 in early trade. The Nifty climbed 107.8 points to 21,726.50.\n",
    "\n",
    "January 11, 2024 10:00\n",
    "Currency Market Live Updates: Rupee gains 2 paise to 83.01 against US dollar\n",
    "\n",
    "The rupee stayed firm for the seventh consecutive session and gained 2 paise to 83.01 against the US dollar in early trade on Thursday boosted by a weak American currency and softening crude oil prices.\n",
    "\n",
    "Sustained buying in the domestic equity markets also supported the Indian currency even as investors were awaiting US inflation data to be released later in the day, forex traders said.\n",
    "\n",
    "January 11, 2024 09:24\n",
    "Stock Market Live Today: 360 One Prime NCDs offer up to 9.65% yield: Should you invest?\n",
    "\n",
    "The trend of newer companies tapping the bond market to raise funds directly from retail investors has been a prominent development over the past year. Interest rates are peaking globally, and yields have stabilised after surging to record levels. The Reserve Bank of India (RBI) and the US Federal Reserve have hit the pause button for a while now.\n",
    "\n",
    "January 11, 2024 09:22\n",
    "Stock Market Live Today: SBI raises $600 million via 5-year senior unsecured fixed rate notes\n",
    "\n",
    "SBI concludes issue of $600 million fixed rate 5-year notes at coupon of 5%. The instrument is being listed at SGX and India International Exchange\n",
    "\n",
    "January 11, 2024 09:21\n",
    "Stock Market Live Today: SpiceJet board approves issue of 31.8 crore shares at Rs 50/share on preferential basis:\n",
    "\n",
    "January 11, 2024 09:20\n",
    "Stock Market Live Today: Bulk Deal & Insider Trade Update\n",
    "\n",
    "Bulk Deals\n",
    "\n",
    "*Ncc Limited : Smallcap World Fund Inc Buy 3615365 Shares @ Rs. 185.23 \n",
    "\n",
    "*Vl E Gov And It Sol Ltd : Ag Dynamic Funds Limited Buy 600000 Shares @ Rs. 69.93\n",
    "\n",
    "*Goyal Salt Limited : Tryrock Capital Trust I Sell 192000 Shares @ Rs. \n",
    "\n",
    "Insider Trade\n",
    "\n",
    "Acquisition\n",
    "\n",
    "* Anshuman Kedia Revised Promoter & Director Acquisition 24200 shares of Associated Alcohols & Breweries Ltd. on 28-Sep-23\n",
    "\n",
    "* Vedant Kedia Revised Promoter Group Acquisition 24200 shares of Associated Alcohols & Breweries Ltd. on 28-Sep-23\n",
    "\n",
    "Pledge \n",
    "\n",
    "* PENNAR HOLDINGS PRIVATE LIMITED Revised Promoter Pledge 1500000 shares of Pennar Industries Ltd.-$ on 18-Sep-23\n",
    "\n",
    "Dividend Update\n",
    "\n",
    "--\n",
    "\n",
    "Result Today\n",
    "\n",
    "Tata Consultancy Services Ltd.\n",
    "\n",
    "Infosys Ltd.\n",
    "\n",
    "HDFC Asset Management Company Ltd.\n",
    "\n",
    "GTPL Hathway Ltd.\n",
    "\n",
    "5Paisa Capital Ltd.\n",
    "\n",
    "Rajoo Engineers Ltd.\n",
    "\n",
    "AGI Infra Ltd.\n",
    "\n",
    "Plastiblends India Ltd.\n",
    "\n",
    "January 11, 2024 09:19\n",
    "Commodities Market Live Today: Crude oil rises on renewed Red Sea tensions; Brent at $77.12, WTI at $71.64\n",
    "\n",
    "Crude oil futures traded higher on Thursday morning as the Houthis continued their attacks on merchant vessels in the Red Sea region on Wednesday. At 9.13 am on Thursday, March Brent oil futures were at $77.12, up by 0.42 per cent; and February crude oil futures on WTI (West Texas Intermediate) were at $71.64, up by 0.38 per cent. January crude oil futures were trading at ₹5962 on Multi Commodity Exchange (MCX) in the initial trading hour of Thursday morning against the previous close of ₹5931, up by 0.52 per cent; and February futures were trading at ₹5991 as against the previous close of ₹5957, up by 0.57 per cent.\n",
    "\n",
    "January 11, 2024 09:14\n",
    "Stock Market Live Today: The Baker’s Dozen bags ₹33 crore in funding round led by Wipro Consumer’s VC arm\n",
    "\n",
    "Artisanal bakery brand, the Baker’s Dozen has secured ₹33 crore in a pre-series A funding round led by Wipro Consumer Care-Ventures. Fireside Ventures, Mirabilis Investment Trust and She Capital also participated in this round.\n",
    "\n",
    "Sneh Jain, Co-Founder & Managing Director, The Baker’s Dozen told businessline, “ Nearly 70-80 per cent of our sales come from the online channel and almost 75 per cent of our sales come from the three cities of Delhi, Mumbai and Bengaluru. The funds will help us deepen our presence in other metros as well as widen our geographical expansion to tier-1 cities. We are also looking to strengthen our offline presence and will also focus on ramping up strategic marketing and brand-building initiatives.”\n",
    "\n",
    "January 11, 2024 09:13\n",
    "Stock Market Live Today: Geojit Financial Services’ V K Vijayakumar: FII and DII actions limit market, Q3 earnings awaited\n",
    "\n",
    "V K Vijayakumar, Chief Investment Strategist, Geojit Financial Services.\n",
    "\n",
    "“There is no consistency in FII and DII behaviour so far this month. They are doing alternative bouts of buying and selling which is restricting the market in a range. The market needs triggers to break out or breakdown from this range. A probable negative trigger can be a slightly hawkish statement from the Fed postponing the rate cuts which the market expects to begin by March 2023. The US CPI inflation data due tonight will provide cues regarding this.\n",
    "\n",
    "The Q3 results season starting today with the results of TCS and Infy will provide indications of the Nifty earnings for FY24. Financials, capital goods, telecom, automobiles and hotels will post good numbers. IT results will be tepid and FMCG will be a mixed bag.\n",
    "\n",
    "More than broad market action, market responses will be stock-specific in response to results and management commentary.”\n",
    "\n",
    "January 11, 2024 09:12\n",
    "Stock Market Live Today: SMC Global: Market set to open flat as investors await IT giants’ Q3 results\n",
    "\n",
    "The market is expected to open on a flat note today. Investors await the release of Q3 results from major IT companies TCS and Infosys later today, marking the beginning of the earnings season for the December quarter. Asian stock markets saw an uptick, following the trend in US stocks as investors awaited inflation data set to be released on Thursday. Bitcoin surged following the U.S. regulators’ approval of exchange-traded funds linked to the cryptocurrency. U.S. stocks closed higher on Wednesday as megacaps rallied, but gains were limited ahead of inflation reports and major bank earnings later in the week. Oil steadied on Wednesday, giving up most of its earlier gains, as Middle East supply concerns arising from the Israel-Hamas war and the shutdown of a top Libyan oilfield balanced rising U.S. output and worries about weak economic growth. As per provisional figures,\n",
    "\n",
    "Foreign Institutional Investors (FIIs)/ Foreign Portfolio Investors (FPIs) sold shares worth net Rs.1721.35 crore and Domestic institutional investors bought shares worth net Rs.2080.01 Crore on 10th January 2024.\n",
    "\n",
    "January 11, 2024 09:10\n",
    "Stock Market Live Today: Morning Outlook Quote:  Deepak Jasani, Head of Retail Research, HDFC Securities. (January 11)\n",
    "\n",
    "Indian markets could open flat, despite mildly higher Asian markets today and positive US markets on Jan 10\n",
    "\n",
    "U.S. stocks finished higher on Wednesday, a day ahead of a widely anticipated December inflation report, though the S&P 500 fell short of an all-time high after remarks from a key Federal Reserve policymaker.\n",
    "\n",
    "Inflation, along with its impact on bond markets and the Federal Reserve’s monetary policy trajectory, is the primary issue at hand this week as investors await Thursday’s consumer-price index reading for December. Economists expect annual headline CPI inflation to inch up to 3.2% last month from 3.1% in November. The core reading, which strips out more volatile items like food and energy, is expected to fall to 3.8% year-over-year, from 4% previously. In U.S. economic data, wholesale inventories declined 0.2% in November, according to the Commerce Department. The Securities and Exchange Commission greenlighted several spot bitcoin exchange-traded funds for the first time on Wednesday, according to a filing posted on the U.S. regulatory agency’s website.\n",
    "\n",
    "The move paves the way for a new class of investors to gain exposure to the virtual currency and could serve as a tailwind for the price of the world’s most popular digital asset. Bitcoin was mostly flat at around $46,742 following the SEC news, according to CoinDesk data. Asian stocks and US and European equity futures rose ahead of inflation data due later Thursday that will help clarify the path ahead for Federal Reserve policy. Nifty extended gains from Tuesday and ended higher on Jan 10 after a volatile session as Reliance Industries rose to hit its lifetime high level. At close, Nifty was up 0.34% or 73.9 points at 21618.7. The short-term trend of Nifty seems to have reversed after the recent minor decline. The Nifty is now expected to retest the upper trajectory around 21765-21834 levels in the next few sessions. Immediate support is placed at 21449 levels.\n",
    "\n",
    "January 11, 2024 09:09\n",
    "Stock Market Live Today: Kotak Securities’ Shrikant Chouhan: Nifty witnesses bullish move, support at 20-day SMA, eyes 21680-21725 levels\n",
    "\n",
    "Shrikant Chouhan, Head – Equity Research, Kotak Securities\n",
    "\n",
    "The benchmark indices witnessed a bullish move on Wednesday, with Nifty closing 74 points higher while Sensex was up 272 points. The media index rose over 3%, while intraday profit booking was seen in select PSU banks and FMCG stocks. Technically, after morning intraday correction, Nifty took support near the 20-day SMA (Simple Moving Average) and made a bullish comeback. From the day’s lowest point, the market came up by more than 190/660 points. Traders should consider the 20-day SMA or 21500/71250 as a crucial support level. Above this, the pullback formation is likely to continue. The market has prospects of reaching 21680-21725/71900-72050. However, selling pressure is likely to increase below the 20-day SMA or 21500/71250. If the market slips below that, it may fall to 21400-21355/71000-70800.\n",
    "\n",
    "Traders should take profit on long positions or reduce weak long positions between 21680/21720 levels. For the bank nifty, 47000-46900 would be the ultimate support zone and if it falls below that, it could reach 46500 levels. On the higher side, 47550 is the biggest hurdle, so traders should consider reducing positions around the same level.\n",
    "\n",
    "January 11, 2024 09:09\n",
    "Stock Market Live Today: Mehta Equities’ Prashanth Tapse analyses 2024’s volatile market: Focus on US CPI, TCS, and Infy earnings\n",
    "\n",
    "-- Prashanth Tapse, Senior VP (Research), Mehta Equities Ltd\n",
    "\n",
    "“In the current volatile market of 2024, marked by conflicting trends, uncertainties around US interest rates and India Inc.’s corporate earnings drive disagreement. Key factors today include the eagerly awaited US CPI release and the commencement of Q3 earnings by TCS and INFY. The Federal Reserve’s interest rate decisions remain central, with upcoming CPI and PPI indicators influencing their stance. INFY or TCS profit guidance could sway sentiments. Technically, Nifty finds vulnerability below 21307, confirming strength above 21836. Nifty options suggest a 21300-22000 trading range. Preferred trades for Nifty and Bank Nifty are provided. The chart of the day is bullish on select stocks, with a standout recommendation to buy ITD Cementation at an entry price of 300.75, targeting 600, with a stop loss at 189, for a holding period of 0-365 days.”\n",
    "\n",
    "January 11, 2024 09:08\n",
    "Commodities Market Live Today: Crude oil sees volatility amid U.S. inventory surge\n",
    "\n",
    "“Crude oil exhibited significant volatility, experiencing a sharp decline amid the increase in U.S. oil inventories and in anticipation of the U.S. inflation data. U.S. crude oil inventories surged by 1.3 million barrels for the week ending on January 5, contrary to expectations of a 0.7 million barrel decline. The struggle in crude oil prices is attributed to the upsurge in U.S. oil stocks and a stable dollar index. Key U.S. inflation data, set to be released later today, could provide further guidance for oil prices. We anticipate that crude oil prices will continue to be volatile in today’s trading session. Support for crude oil is expected at $70.80–70.10, with resistance at $72.20-73.00 during today’s session. In Indian Rupees (INR), crude oil has support at Rs 5,850-5,770 and resistance at Rs 6,010-6,090.” -- Rahul Kalantri, VP Commodities, Mehta Equities Ltd\n",
    "\n",
    "January 11, 2024 09:06\n",
    "Commodities Market Live Today: Gold and silver show vulnerability amidst U.S. inflation data anticipation; dollar index stability prevails\n",
    "\n",
    "“Gold and silver traded within a narrow range, displaying some vulnerability ahead of the impending U.S. inflation data. The dollar index maintains stability above the 102 marks following the release of minutes from the U.S. Federal Reserve monetary policy meeting and encouraging U.S. job data. The uncertainty surrounding the timing of potential Fed rate cuts exerted downward pressure on gold and silver prices in the global markets, reinforcing the strength of the dollar index. However, ongoing tensions in the Red Sea and the Middle East are providing some support at lower price levels. Anticipating today’s session, we forecast continued volatility in gold and silver prices. Gold finds support at $2016-2002, with resistance at $2041-2055. Meanwhile, silver’s support is identified at $22.72-22.55, and resistance is positioned at $23.20-23.38. In Indian Rupees, gold is anticipated to find support at Rs61,750-61,510, with resistance at Rs62,290 and Rs62,510. Silver’s support in INR is projected at Rs71,550-71,080, with resistance at Rs72,650 and Rs73,180.” -- Rahul Kalantri, VP Commodities, Mehta Equities Ltd\n",
    "\n",
    "January 11, 2024 09:03\n",
    "Stock Market Live Today: Pre-market views by Avdhut Bagkar of StoxBox\n",
    "\n",
    "The US market closed higher on Wednesday as megacaps rallied, but gains were limited ahead of inflation reports and significant bank earnings later in the week. The Labor Department’s reports on consumer and producer price inflation, which are due to be released on Thursday and Friday, respectively, could significantly impact the outlook for interest rates. Asian markets experienced a notable upswing on Thursday, following the positive momentum in US stocks ahead of the release of inflation data. Japan’s Nikkei extended its record-breaking rally on dovish BOJ bets. Indian market is seen opening flat to slightly higher on Thursday as investors await earnings from IT majors as well as the latest readings on industrial output and retail inflation for directional cues. Tata Consultancy Services and Infosys are set to kickstart Q3 FY2024 earnings on January 11. We expect TCS revenue to be flat sequentially as growth was tepid due to ongoing weaknesses in discretionary spending and layoffs during the quarter. At the same time, Infosys revenue marginally declined QoQ owing to a challenging quarter primarily influenced by sustained weak demand, the absence of certain one-time sales and the impact of layoffs.\n",
    "\n",
    "The 50 index witnessed a volatile opening and traded with a negative bias until the mid-trading session and marked the day’s low at 21468. However, the index saw a quick short recovery from the support zone near 21500-21450 allowing the index to close in its upper quartile of the trading range. On the derivative front, 21500PE added the highest open interest indicating a strong support zone and sustenance above this zone will bolster the price action to garner bullish strength.\n",
    "\n",
    "January 11, 2024 08:47\n",
    "Stock Market Live Today: Parag Parikh Conservative Hybrid: Ideal fund for investing at market highs\n",
    "\n",
    "While all eyes are on the stock indices scaling new lifetime highs, the bond market also offers attractive opportunities. Yields on commercial paper and bonds from highly rated corporates are ruling at near 8 per cent levels, with credit offtake picking up. Conservative Hybrid Funds make for a good investment for investors who are bullish about bonds but wary of equity risks.\n",
    "\n",
    "January 11, 2024 08:43\n",
    "Stock Market Live Today: Tembo Global exceeds Rs. 300 crore Q3 turnover\n",
    "\n",
    "Tembo Global Industries Limited has reveald its outstanding achievement of surpassing a turnover of over Rs. 300 crores in the third quarter ending on 31st December 2023, for the financial year 2023-24. \n",
    "\n",
    "They recorded a turnover of Rs. 249 crores for the year ending on 31st March 2023 and aim to achieve more than Rs. 375 crores in the current year, representing an approximate 50% increment in revenue.\n",
    "\n",
    "January 11, 2024 08:42\n",
    "Commodities Market Live Today: Thermal coal prices at 2.5-year low - Elara Securities\n",
    "\n",
    "Global crude steel production up ~3% YoY in November\n",
    "\n",
    "The World Steel Association (WSA) data shows global crude steel production sustained growth for the second consecutive month, expanding ~3% YoY to 145.5mn tonne in November. This growth primarily was propelled by ~7% YoY rise in production for the rest of the world (ROW) while China’s showed a steady trend with no significant YoY change. However, on a MoM basis, production failed to show any upward movement for another month and contracted ~3%, dragged by a MoM fall of ~4% and ~3% in China and ROW, respectively. In November, India’s crude steel production rose ~11% YoY but dropped ~4% MoM. As per provisional data, India’s crude steel production rose ~8% YoY and ~2% MoM in December.\n",
    "\n",
    "January 11, 2024 08:42\n",
    "Stock Market Live Today: Sectoral Recommendations: Power generation sustains momentum; Earnings to be resilient on robust demand - Elara Securities\n",
    "\n",
    "Power generation remained buoyant in Q3FY24, led by surging demand amidst festive season. Generation rose 13% YoY to 416BUs in Q3FY24, albeit on a high base of last fiscal (up 10% in FY23). Generation rose a substantial 25% YoY to 150BUs in October, which was characterized by high humidity. November saw an 11% YoY increase in generation to 130BUs, aided by uptick in economic activity amidst festival season. Generation moderated in December, up just 4.5% YoY to 134BU. Peak demand moderated to 222GW in Q3FY24 from a record high of 243GW in H1FY24 due to reduced cooling demand.\n",
    "\n",
    "January 11, 2024 08:41\n",
    "Stock Market Live Today: Stock Recommendations: BPCL | Unfavourable risk-reward - HDFC Securities\n",
    "\n",
    "Bharat Petroleum Corporation (BPCL) stock has rallied ~35% and has outperformed the Sensex by ~26% over the last 3M, driven by improving auto fuel marketing margins as Brent crude price declined by ~20% to USD 76/bbl over the same period and strong refining margins as diesel and jet fuel crack spreads averaged USD 23-24/bbl. We downgrade BPCL to a REDUCE from a BUY, with a target price of INR 475/sh, owing to the risk of (1) lower auto-fuel marketing margins because of either a bounce-back in crude oil price or retail price cuts ahead of general elections and (2) moderation in refining margins.\n",
    "\n",
    "January 11, 2024 08:41\n",
    "Stock Market Live Today: Stock Recommendations: V-MART Retail | An under-earning asset or a melting ice cube? - HDFC Securities\n",
    "\n",
    "After going through a challenging period marked by (1) an unfavourable rural cycle, (2) deteriorating unit economics, and (3) stumbling in assortment pricing and capital allocation, VMART’s KPIs are bottoming out. Notable improvements include (a) gradual recovery in footfall/sales densities, (b) downward recalibration of rental bills, and (c) alleviation of working capital challenges. We recently interacted with V-MART’s management to better understand the levers to normalcy. Key takeaways include (1) a healthy festive season with 4/10% SSSG/revenue growth in Q3; (2) streamlining of the buying/merchandising process that will aid sourcing margins which could be passed on to the end-consumer to earn higher sales/sq ft and improve WC efficiency; (3) successful performance of new ‘Unlimited’ stores at >INR8,000/sq. ft; and (4) a significant paring of Limeroad losses expected in FY25. Rising competitive intensity concerns seem a false positive as store overlap of major value retailers remains low. Against this backdrop, V-MART resembles a momentarily under-earning asset (awaiting a turn in the rural cycle) more than a melting ice cube. Risk-reward seems favourable @ <20x FY26 EV/EBITDA. Our base case for core VMART bakes in ample margin of safety (FY23-26 sales/sq ft CAGR: 3%; @ INR7.4k and 5.5/6.7% EBITDAM for FY25/26 vs 9.3% in FY19). We upgrade the stock to a BUY with a DCF-based TP of INR2,550/sh (earlier 1,850/sh); implying 23x FY26 EV/EBITDA (FY25/26 EBITDA changes by +21/+7% respectively).\n",
    "\n",
    "January 11, 2024 08:40\n",
    "Stock Market Live Today: Sectoral Recommendations: IT Sector | Weak quarter; focus on CY24: HDFC Securities\n",
    "\n",
    "The IT sector (coverage universe) is expected to post a weak quarter with a sequential decline. This is due to increased furloughs, Q3 seasonality, a prolonged deal conversion cycle, and compression in discretionary and renewals. Positive factors for the quarter include the ramp-up of mega deals (BSNL/Verizon for TCS/HCLT) and consistent deal activity. However, most of the supply-side indicators, such as tech job postings, remain soft and do not signal any recovery ‘yet’. Although the recent trajectory of rates can support valuation multiples (high inverse correlation), it’s unlikely that tech budgets will improve materially. This is because a ‘slowdown’ in economic growth remains a baseline scenario, leading enterprises to prioritise cost optimization over transformation initiatives. In the Indian IT landscape, we expect three developments: (1) growth divergence within the sector in the near term, (2) margin recovery with favourable supply-side factors, and (3) mid-tier IT sustaining its relative outperformance. However, the margin of safety is low on aggregate, as valuations have approached +2 SD (rerated higher by >20% in the last six months) with limited immediate upside triggers. We maintain our preference for LTIMindtree, Persistent, and Birlasoft.\n",
    "\n",
    "January 11, 2024 08:40\n",
    "Stock Market Live Today: Sectoral Recommendations: BFSI | Emerging long-tail risks in unsecured credit - HDFC Securities\n",
    "\n",
    "India’s heterogenous unsecured retail credit market (US$160bn; 3-year CAGR at ~23%) has been in the headlines ever since the RBI clamped down on select categories of consumer credit. Our discussions with experts suggest that the RBI’s note of caution is largely centred on small-ticket personal loans (STPL) (ticket size <INR100k), which account for a high incidence of systemic blind spots, dominant share of incremental disbursements, and elevated early-stage delinquencies, especially across static pools. The RBI’s risk-weight measures are likely to increase the hurdle rate for banks and NBFCs towards unsecured consumer loans, resulting in a material growth deceleration. We continue to hold our below-consensus growth forecasts (1-2 percentage points across our coverage universe) and remain conservative on incremental spreads (blended FY24 NIMs at 15-20bps below FY23 levels), considering the impact on incremental asset mix. Our top picks are ICICIBC (TP: INR1,200) and SBIN (TP: INR780) among large banks; and BAF (TP: INR8650) and SBICARD (TP: INR955) among NBFCs\n",
    "\n",
    "January 11, 2024 08:40\n",
    "Stock Market Live Today: Sectoral Recommendations: Retail by Emkay Global\n",
    "\n",
    "Larger-ticket segments lead growth; AVL, Senco, GO key outliers\n",
    "\n",
    "Discretionary trends remain mixed, with muted growth in low-ticket categories like QSR/Apparel and strong growth in high-ticket categories like Jewelry /Durables/Luxury. Within Jewelry, Senco (Buy) has delivered 24% top-line growth (vs. our expectation of 15% growth), driving 5-8% increase in our estimate/TP. For TTAN, domestic jewelry growth at 21% is 4-5% above expectations, but a likely lower studded mix limits the EPS upgrade. We expect durables retailer AVL (Buy) to log the best topline growth among our Retail universe, at ~35%, aided by strong positioning in the fast-growing Hindi-Heartland. Valuations are also supportive, at ~40x FY25 EPS. Go Fashion (Buy) will continue outperforming, with 15% topline growth vs. flattish organic growth for ABFRL/PAG. WC optimization/closure of pledge are added triggers. Within QSRs, we favor Westlife on better SSG confidence and Sapphire on potential re-rating. Compelled either by muted trends or recent run-ups, we have a Reduce or Sell on TTAN, ABFRL, PAG, JUBI, DEVYANI, VBL and ETHOS.\n",
    "\n",
    "January 11, 2024 08:39\n",
    "Stock Market Live Today: HLE Glascoat: The company plans to acquire a 70% stake in Kinam Engineering Industries, holding 35.56% shares in KEIPL.\n",
    "\n",
    "January 11, 2024 08:39\n",
    "Stock Recommendations: Fund Houses Recommendations  \n",
    "\n",
    "Jefferies on Bharti Airtel: Maintain Buy on Company, raise target price at Rs 1300/sh \n",
    "\n",
    "MS on Bank India: Maintain Overweight on Bank, target price at Rs 135/sh \n",
    "\n",
    "MS on Coforge: Initiate Overweight on Company, target price at Rs 7200/sh \n",
    "\n",
    "MS on Manappuram: Maintain Overweight on Company, target price at Rs 210/sh \n",
    "\n",
    "HSBC on Zomato: Maintain Buy on Company, raise target price at Rs 150/sh \n",
    "\n",
    "Nuvama on Vedanta: Upgrade to Buy on Company, raise target price at Rs 362/sh \n",
    "\n",
    "Emkay on Ultratech: Maintain Buy on Company, target price at Rs 11400/sh \n",
    "\n",
    "Emkay on JK Cement: Maintain Add on Company, target price at Rs 310/sh \n",
    "\n",
    "Emkay on Sagar Cement: Maintain Add on Company, target price at Rs 4260/sh \n",
    "\n",
    "MOSL on Metro Brands: Maintain Buy on Company, target price at Rs 1530/sh \n",
    "\n",
    "Jefferies on Indus Tower: Maintain Neutral on Company, raise target price at Rs 160/sh \n",
    "\n",
    "Kotak on Jubilant Food: Maintain Reduce on Company, target price at Rs 500/sh \n",
    "\n",
    "Kotak on Devyani: Maintain Add on Company, target price at Rs 110/sh \n",
    "\n",
    "Kotak on Restaurants Brand: Maintain Reduce on Company, target price at Rs 110/sh \n",
    "\n",
    "Kotak on Sapphire: Maintain Buy on Company, cut target price at Rs 1640/sh \n",
    "\n",
    "Kotak on Westlife: Maintain Reduce on Company, cut target price at Rs 800/sh \n",
    "\n",
    "Investec on HCL Tech: Initiate Sell on Company, target price at Rs 1335/sh \n",
    "\n",
    "Emkay on Shree Cement: Maintain Reduce on Company, target price at Rs 29650/sh \n",
    "\n",
    "Emkay on Ramco Cement: Maintain Reduce on Company, target price at Rs 1080/sh \n",
    "\n",
    "HSBC on Bharti Airtel: Maintain Hold on Company, target price at Rs 1125/sh \n",
    "\n",
    "Citi on Titan: Maintain Neutral on Company, target price at Rs 3900/sh \n",
    "\n",
    "January 11, 2024 08:37\n",
    "Stock Recommendations: - Expert meet takeaway: Cement sector - Emkay Global \n",
    "\n",
    "Key takeaways from the cement expert meeting include: 1) Industry demand is expected to grow 9-10% in FY24 and will likely clock in a 7-8% CAGR (200-250bps higher than the last decade) over the next few years with increased infra spends; 2) Consolidation theme is expected to be at the forefront over the next few years with two groups (UltraTech and Adani) expected to be more aggressive; 3) Organic capacity addition of more than 30mt p.a. would likely be challenging due to limited suppliers for equipment manufacturing and erection works; and 4) East and South regions should continue to see more volatility in pricing because of higher capacity additions and irrational behavior by a few players. Top picks: UltraTech and Ambuja.\n",
    "\n",
    "January 11, 2024 08:37\n",
    "Stock Recommendations: Morgan Stanley: Overweight rating for Bank of India, cites strong 4% QoQ gross loan growth\n",
    "\n",
    "BANKINDIA: Morgan Stanley gives overweight call on Bank Of India, says gross loan growth was strong at 4% QoQ mainly driven by domestic loan growth at 5% QoQ.\n",
    "\n",
    "January 11, 2024 08:36\n",
    "Stock Recommendations: ZOMATO: HSBC maintains buy call on Zomato and says after an extremely strong 2023, can expect relatively muted business\n",
    "\n",
    ".\n",
    "\n",
    "January 11, 2024 08:35\n",
    "Stock Recommendations: HSBC downgrades Bharti Airtel to hold, expects ARPU rise and market share gain\n",
    "\n",
    "BHARTIARTL: HSBC downgrades Bharti Airtel to hold, says ARPU to rise, see market share gains in mobile. Growth in non-mobile & capex intensity to decline.\n",
    "\n",
    "January 11, 2024 08:35\n",
    "Stock Recommendations: Morgan Stanley: Initiates overweight on Coforge, prefers as top midcap IT pick\n",
    "\n",
    "COFORGE: Morgan Stanley initiates overweight call on Coforge, says co is preferred Midcap IT pick. A focused & transformed Coforge has shown scalability attributes that can keep its revenue growth profile higher for longer vs peers.\n",
    "\n",
    "January 11, 2024 08:34\n",
    "Stock Market Live Today: New India Assurance confirms Rs 2379 crore GST demand, considers next steps\n",
    "\n",
    "The New India Assurance Company Ltd (NIACL) has received an Order from the Office of the Commissioner of CSGT and Central Excise, Thane, confirming an earlier GST demand of Rs 2379.13 crore along with interest and penalty of Rs 237.91 crore.\n",
    "\n",
    "“On receipt of the Order we have intimated the same to the Board in its meeting held on 10.01.2024. Based on the developments in the Industry, the company would be deciding further course of action,” the public sector general insurer said in a regulatory filing.\n",
    "\n",
    "The public sector general insurer said it has received the Order in respect of the late-September 2023 SCN (show cause notice) confirming GST demand along with the interest and penalty. \n",
    "\n",
    "NIACL said it had received a SCN cum demand notice in late September 2023 from the Directorate General of GST Intelligence, Pune Zonal Unit, under the Central Goods and Services Tax Act, 2017, alleging a tax demand of 2379.13 crore (excluding interest and penalty).\n",
    "\n",
    "The SCN cum demand notice was against: 1)non-payment of GST on the Co-insurance premium accepted as Follower in the co-insurance transaction from July 2017 to March 2022 amounting to Rs 1930.12 crore and 2) non-payment of GST on re-insurance commission booked/accepted on the reinsurance services ceded to various Indian and Foreign Re-Insurance Companies amounting to Rs 449 crore.\n",
    "\n",
    "The non-life insurer emphasised that the alleged SCN pertains to matters relating to industry wide issues.\n",
    "\n",
    "ends\n",
    "\n",
    "January 11, 2024 08:22\n",
    "Stock Recommendations: METRO BRANDS – TOP PICK 2024: Adding feet’s to the marathon: Motilal Oswal Financial \n",
    "\n",
    "(METROBRA IN, Mkt Cap USD4.1b, CMP INR1260, TP INR1530, 21% Upside, Buy)\n",
    "\n",
    "The discretionary category has seen weak demand trends in the last few quarters, but METRO has continued to post industry-leading growth, led by steady footprint expansion. Although it could face moderation in SSSG and margin rebase in the near term, we expect the company to deliver secular 20% growth over the next five years, driven by its strong execution prowess evident from superlative store economics, a huge runway of footprint addition, excellent cashflow and ROIC profile, and new brand additions.\n",
    "\n",
    "January 11, 2024 08:12\n",
    "Stock Market Live Today: Stocks that will see action today: January 11, 2024\n",
    "\n",
    "Buzzing Stocks: TCS, Infosys, HDFC Asset Management, 5Paisa, Sundram Fasteners, Bank of India, Kalyani Steel, New India Assurance, Heranba Industries, NBCC, CESC, Dhunseri Ventures, Phoenix Mills, Polycab India, Honda India Power, Metro Brands, Angel One, Safari Industries\n",
    "\n",
    "January 11, 2024 08:11\n",
    "Stock Market Live Today: Welspun Ent: Company pledges Rs 40,000 crore investment to set up green hydrogen, green ammonia ecosystem in Gujarat.\n",
    "\n",
    "January 11, 2024 07:58\n",
    "Stock Market Live Today: Ease My Trip: Company venturing into insurance sector with the launch of its subsidiary\n",
    "\n",
    "January 11, 2024 07:58\n",
    "Stock Market Live Today: KIMS: Company has acquired an additional 5.04% equity stake in Sarvejana Healthcare\n",
    "\n",
    "January 11, 2024 07:57\n",
    "Stock Market Live Today: Steel Strips: Directorate General Of Trade Remedies recommends anti-dumping duty on aluminum alloy road Wheel Imports from China for 5 years\n",
    "\n",
    "January 11, 2024 07:56\n",
    "Stock Market Live Today: NCC: Smallcap World Fund INC bought 36.15 Lakh Shares at 185.23/Share\n",
    "\n",
    "January 11, 2024 07:44\n",
    "Stock Market Live Today: Bank of Baroda hikes lending rates by 5 bps for overnight, six month & one year tenures w.e.f. January 12, 2024\n",
    "\n",
    "January 11, 2024 07:44\n",
    "Stock Market Live Today: Securities in F&O Ban For Trade Date 11-Jan-2024\n",
    "\n",
    "• BALRAMCHIN \n",
    "\n",
    "• BANDHANBNK \n",
    "\n",
    "• CHAMBLFERT \n",
    "\n",
    "• ESCORTS \n",
    "\n",
    "• HINDCOPPER \n",
    "\n",
    "• IEX \n",
    "\n",
    "• INDUSTOWER\n",
    "\n",
    "• INDIACEM \n",
    "\n",
    "• NATIONALUM \n",
    "\n",
    "• PEL\n",
    "\n",
    "• PVRINOX\n",
    "\n",
    "• SAIL\n",
    "\n",
    "• ZEEL\n",
    "\n",
    "January 11, 2024 07:20\n",
    "Commodities Market Live Today: Copper: Initiate shorts on futures\n",
    "\n",
    "Copper futures on the Multi Commodity Exchange (MCX) have been on a decline since the beginning of this month. It started to fall after facing resistance at ₹740.\n",
    "\n",
    "January 11, 2024 07:19\n",
    "Stock Market Live Today: Trading guide for January 11, 2024: Intraday supports, resistances for Nifty50 stocks\n",
    "\n",
    "Here are the intraday supports and resistances for widely traded stocks such as Reliance Industries, ITC, ONGC, Infosys, HDFC Bank, TCS, and SBI\n",
    "\n",
    "January 11, 2024 07:18\n",
    "Stock Market Live Today: Stock to buy today: PNC Infratech (₹368.35): BUY\n",
    "\n",
    "The short-term outlook is bullish for PNC Infratech surge 6 per cent on Wednesday. The stock well above the key intermediate resistance level of ₹362. The region around ₹360 will be a very strong resistance. \n",
    "\n",
    "January 11, 2024 07:11\n",
    "Stock Recommendations: Goldman Sachs upgrades Shriram Finance, Maintains neutral on MMFS with TP adjustments\n",
    "\n",
    "Goldman Sachs Upgrade Shriram Finance to Buy from Neutral; raise earnings estimates by 10%/13% for FY25E/FY26E; Increase 12-m TP by 43% to Rs2,758 (from Rs 1,926)\n",
    "\n",
    "Goldman Sachs reiterate Neutral rating on MMFS; Cut EPS estimate by 22% in FY24, and by 8% in FY25E (to also reflect 2QFY24 earnings). Consequently, lower our TP by 9% to Rs 264 (from Rs 291)\n",
    "\n",
    "January 11, 2024 07:10\n",
    "Stock Market Live Today: Fund Flow Activity: 10 January 2024 (In Cr)\n",
    "\n",
    "Turnover: (NSE + BSE)\n",
    "\n",
    "Cash Volume: 96184.51 + 8210.2 Total: 104394.71\n",
    "\n",
    "F&O Volume: 368993.72 + 292741.95 Total: 661735.67\n",
    "\n",
    "Provisional Cash Rs. In Crs.\n",
    "\n",
    "FII/FPI: NET SELL: -1721.35\n",
    "\n",
    "(9621.87 - 11343.22) \n",
    "\n",
    "DII: NET BUY: +2080.01\n",
    "\n",
    "(10461.84 - 8381.83)\n",
    "\n",
    "January 11, 2024 07:10\n",
    "Stock Market Live Today: Researchbytes Analyst App’s Recent Interview as of 18:31 p.m. Wednesday 10 January 2024\n",
    "\n",
    "https://play.google.com/store/apps/details?id=com.intelegain.rb\n",
    "\n",
    "BLS International Services : Shikhar Aggarwal, Joint Managing Director\n",
    "\n",
    "Realisations Have Increased In Q3: BLS International Svcs\n",
    "\n",
    "https://www.youtube.com/watch?v=XPGdoS9Og5g\n",
    "\n",
    "Cupid: Aditya Halwasiya, MD\n",
    "\n",
    "Cupid Limited: Fund Raise On The Anvil?\n",
    "\n",
    "https://www.youtube.com/watch?v=_-v03k_RfcU\n",
    "\n",
    "DLF: Ashok Tyagi, Whole Time Director\n",
    "\n",
    "DLF Privana South Sold Out Within 72 Hours; Ashok Tyagi In Conversation With Nikunj Dalmia\n",
    "\n",
    "https://www.youtube.com/watch?v=NFKDgXHh5fc\n",
    "\n",
    "Delta Corp: Anil Malani, CFO\n",
    "\n",
    "Slump In Revenue As Customers Had To Pay 28% GST Upfront On Chips: Delta Corp\n",
    "\n",
    "https://www.youtube.com/watch?v=gD4zjli1kco\n",
    "\n",
    "*Nuvama Wealth M: Prateek Parekh, *\n",
    "\n",
    "Expect Moderation In Returns In 2024 Versus What Was Seen In 2023: Nuvama Group\n",
    "\n",
    "https://www.youtube.com/watch?v=n9dYEM9QFBM\n",
    "\n",
    "SBI: SK Ghosh, Group Chief Economic Advisor\n",
    "\n",
    "K-shape Recovery Post-Pandemic Seems Best Flawed And Incomplete: SK Ghosh, SBI\n",
    "\n",
    "https://www.youtube.com/watch?v=K2tNd_8sfww\n",
    "\n",
    "Yatra.com: Dhruv Shringi, CEO\n",
    "\n",
    "Lakshadweep Has Seen As 30x Increase In Searches Over The Last 4 Days: Yatra Online\n",
    "\n",
    "https://www.youtube.com/watch?v=qURcS4m5QyY\n",
    "\n",
    "Bajaj Auto: Dinesh Thapar, CFO\n",
    "\n",
    "Buyback Decision Reflects Co’s Strong Business Performance: Bajaj Auto\n",
    "\n",
    "https://www.youtube.com/watch?v=DSW8RXQkcNE\n",
    "\n",
    "Brigade Ent: Pradyumna Krishna Kumar, Executive Director\n",
    "\n",
    "Will Complete New Projects In Chennai Over Next 3-4 Years: Brigade Group\n",
    "\n",
    "https://www.youtube.com/watch?v=xvP_-WFaQm4\n",
    "\n",
    "Chambal Fert: Abhay Baijal, MD\n",
    "\n",
    "If Red Sea Issue Flares Up Till March, This Will Be A Long-Term Impact: Chambal Fertilsers\n",
    "\n",
    "https://www.youtube.com/watch?v=AAmzZYikeUw\n",
    "\n",
    "Events today…\n",
    "\n",
    "https://www.researchbytes.com/Default.aspx?cc=event\n",
    "\n",
    "Results today…\n",
    "\n",
    "https://www.researchbytes.com/Default.aspx?cc=result\n",
    "\n",
    "Replays available at www.researchbytes.com\n",
    "\n",
    "January 11, 2024 07:08\n",
    "Stock Market Live Today: Major U.S. listed stocks result calendar 11.01.2024 \n",
    "\n",
    "Taiwan Semiconductor Manufacturing Company (Tentative) (Sector- Technology)\n",
    "\n",
    "January 11, 2024 07:08\n",
    "Stock Market Live Today: Economic Calendar - 11.01.2024\n",
    "\n",
    "19.00 U.S. CPI y/y (Expected: 3.2% versus Previous: 3.1%)\n",
    "\n",
    "19.00 U.S. Unemployment Claims (Expected: 211K versus Previous: 202K)\n",
    "\n",
    "January 11, 2024 07:03\n",
    "Stock Market Live Today: Asian markets rise amid upbeat US stock trends\n",
    "\n",
    "On Thursday, Asian stocks experienced an upswing, mirroring the positive momentum seen in US stocks ahead of the impending release of inflation data on Thursday. Japanese equities, particularly blue-chip stocks, opened higher on Thursday, riding on the surge in US tech shares and reaching their highest levels in over three decades. This increase in stock values can be attributed in part to the depreciation of the yen, which hit its lowest against the dollar in a month on Wednesday. \n",
    "\n",
    "In early trade, the Japanese Nikkei 225 index surged by 1.40%, or 483.27 points, reaching 34,924.99, while the broader Topix index rose by 1.47%, or 36.05 points, to 2,480.53. South Korea’s KOSPI also experienced a gain of 0.28%, or 7.15 points, reaching 2,549.13. Hong Kong’s Hang Seng index climbed by 0.35%, or 56.89 points, to 16,154.17, and Australia’s S&P/ASX 200 saw an increase of 35.80 points, or 0.48%, reaching 7,504.30.\n",
    "\n",
    "Earlier on Wednesday, the Dow Jones Industrial Average rose by 170.57 points, or 0.45%, to 37,695.73. The S&P 500 recorded a gain of 26.95 points, or 0.57%, closing at 4,783.45, while the Nasdaq Composite advanced by 111.94 points, or 0.75%, reaching 14,969.65.\n",
    "\n",
    "Published on January 11, 2024\n",
    "\n",
    "Copyright© 2024, THG PUBLISHING PVT LTD. or its affiliated companies. All rights reserved.\n",
    "'''"
   ]
  },
  {
   "cell_type": "code",
   "execution_count": 41,
   "id": "37e238a4-a942-4a3a-a7d2-7d8f3101b96c",
   "metadata": {
    "tags": []
   },
   "outputs": [],
   "source": [
    "payload = {\n",
    "    \"inputs\":  prompt,\n",
    "    \"parameters\": parameters,\n",
    "    \"stream\": True ## <-- to have response stream.\n",
    "}"
   ]
  },
  {
   "cell_type": "code",
   "execution_count": 42,
   "id": "4959bea2-c00e-4e1d-ada6-157a3d7a90fb",
   "metadata": {
    "tags": []
   },
   "outputs": [],
   "source": [
    "def get_realtime_response_stream(sagemaker_runtime, endpoint_name, payload):\n",
    "    response_stream = sagemaker_runtime.invoke_endpoint_with_response_stream(\n",
    "        EndpointName=endpoint_name,\n",
    "        Body=json.dumps(payload), \n",
    "        ContentType=\"application/json\",\n",
    "        CustomAttributes='accept_eula=false'\n",
    "    )\n",
    "    return response_stream"
   ]
  },
  {
   "cell_type": "code",
   "execution_count": 44,
   "id": "b9e324d0-04a4-4176-8cbf-9bbce86c0339",
   "metadata": {
    "tags": []
   },
   "outputs": [],
   "source": [
    "smr = sess.boto_session.client(\"sagemaker-runtime\")"
   ]
  },
  {
   "cell_type": "code",
   "execution_count": 51,
   "id": "a8447f96-8850-45ad-b630-c2144f0b45ed",
   "metadata": {
    "tags": []
   },
   "outputs": [],
   "source": [
    "import io\n",
    "import json\n",
    "\n",
    "class TokenIterator:\n",
    "    def __init__(self, stream):\n",
    "        self.byte_iterator = iter(stream)\n",
    "        self.buffer = io.BytesIO()\n",
    "        self.read_pos = 0\n",
    "\n",
    "    def __iter__(self):\n",
    "        return self\n",
    "\n",
    "    def __next__(self):\n",
    "        while True:\n",
    "            self.buffer.seek(self.read_pos)\n",
    "            line = self.buffer.readline()\n",
    "            if line and line[-1] == ord(\"\\n\"):\n",
    "                self.read_pos += len(line) + 1\n",
    "                full_line = line[:-1].decode(\"utf-8\")\n",
    "                line_data = json.loads(full_line.lstrip(\"data:\").rstrip(\"/n\"))\n",
    "                return line_data[\"token\"][\"text\"]\n",
    "            chunk = next(self.byte_iterator)\n",
    "            self.buffer.seek(0, io.SEEK_END)\n",
    "            self.buffer.write(chunk[\"PayloadPart\"][\"Bytes\"])"
   ]
  },
  {
   "cell_type": "code",
   "execution_count": 53,
   "id": "57f9da83-db89-446a-915d-d600be774c37",
   "metadata": {
    "tags": []
   },
   "outputs": [
    {
     "name": "stdout",
     "output_type": "stream",
     "text": [
      "\n",
      "Terms of Use | Privacy Policy | FAQs\n",
      "\n",
      "Powered by: Techtrend Technologies Pvt. Ltd.\n",
      "\n",
      "http://www.thehindubusinessline.com/markets/stock-market-live-today/article65340786.ece\n",
      "\n",
      "## Live Stock Prices from BSE and NSE. View Intraday Charts & Stock Quotes of BSE & NSE. Also check Share prices, Today’s Market Updates & Stock Market News of BSE & NSE.\n",
      "\n",
      "Intraday Data delayed by at least 15 minutes or per exchange requirements.\n",
      "\n",
      "Disclaimer: All efforts have been made to ensure accuracy of the data. However, we are not liable for any misbalances arising out of the data provided on this website. We advise you to independently verify the data before acting on it.\n",
      "\n",
      "Please enter a valid email address.\n",
      "\n",
      "Invalid Email Address. Please enter a valid email address.\n",
      "\n",
      "Please select at least one option.\n",
      "\n",
      "The above data is sourced from various sources and has not been verified by Moneycontrol. You can track commodity and equity prices in real-time on Moneycontrol.\n",
      "\n",
      "By using this website, you acknowledge that you have read and agree to our Terms of Use.\n",
      "\n",
      "By clicking Subscribe, you agree to our Privacy Policy.\n",
      "\n",
      "The above data is sourced from various sources and has not been verified by Moneycontrol. You can track commodity and equity prices in real-time on Moneycontrol.\n",
      "\n",
      "By using this website, you acknowledge that you have read and agree to our Terms of Use.\n",
      "\n",
      "By clicking Subscribe, you agree to our Privacy Policy.\n",
      "\n",
      "The above data is sourced from various sources and has not been verified by Moneycontrol. You can track commodity and equity prices in real-time on Moneycontrol.\n",
      "\n",
      "By using this website, you acknowledge that you have read and agree to our Terms of Use.\n",
      "\n",
      "By clicking Subscribe, you agree to our Privacy Policy.\n",
      "\n",
      "## Live Stock Prices from BSE and NSE. View Intraday Charts & Stock Quotes of BSE & NSE. Also check Share prices, Today’s Market Updates & Stock Market News of BSE & NSE.<|im_end|>"
     ]
    }
   ],
   "source": [
    "# client = boto3.client(\"runtime.sagemaker\")\n",
    "start_time = time.time()\n",
    "response = smr.invoke_endpoint_with_response_stream(\n",
    "    EndpointName=endpoint_name,\n",
    "    Body=json.dumps(payload),\n",
    "    ContentType=\"application/json\",\n",
    ")\n",
    "\n",
    "for token in TokenIterator(response[\"Body\"]):\n",
    "    print(token, end=\"\")"
   ]
  },
  {
   "cell_type": "code",
   "execution_count": 105,
   "id": "3ffc30b1-f2b7-4465-8581-20fe69d4dbab",
   "metadata": {
    "tags": []
   },
   "outputs": [],
   "source": [
    "import time\n",
    "\n",
    "def query_stream_and_measure_time(query_id, payload):\n",
    "    \"\"\"\n",
    "    Function to handle streaming and timing for a single query.\n",
    "    query_function: The function to invoke the streaming endpoint.\n",
    "    *args, **kwargs: Arguments for the query_function.\n",
    "    Returns a tuple containing query_id, time to first word, and total time.\n",
    "    \"\"\"\n",
    "    start_time = time.time()\n",
    "    first_word_time = None\n",
    "    total_time = None\n",
    "    output = []\n",
    "    response = smr.invoke_endpoint_with_response_stream(\n",
    "                    EndpointName=endpoint_name,\n",
    "                    Body=json.dumps(payload),\n",
    "                    ContentType=\"application/json\",\n",
    "                )\n",
    "\n",
    "    for line in TokenIterator(response[\"Body\"]):\n",
    "        output.append(line)\n",
    "        if not first_word_time and line.strip():\n",
    "            first_word_time = time.time()\n",
    "    \n",
    "    total_time = time.time()\n",
    "\n",
    "    time_to_first_word = first_word_time - start_time if first_word_time else None\n",
    "    total_time = total_time - start_time\n",
    "    tps = len(output)/(total_time - time_to_first_word)\n",
    "    return query_id, output, time_to_first_word, total_time, tps"
   ]
  },
  {
   "cell_type": "code",
   "execution_count": 78,
   "id": "212efb5c-b863-4572-872b-d7f07ebf8bfb",
   "metadata": {
    "tags": []
   },
   "outputs": [
    {
     "data": {
      "text/plain": [
       "8827"
      ]
     },
     "execution_count": 78,
     "metadata": {},
     "output_type": "execute_result"
    }
   ],
   "source": [
    "len(payload['inputs'].split(' '))"
   ]
  },
  {
   "cell_type": "code",
   "execution_count": 79,
   "id": "5b8e6c25-d957-4ede-b5b3-dc5adb824126",
   "metadata": {
    "tags": []
   },
   "outputs": [],
   "source": [
    "import numpy as np"
   ]
  },
  {
   "cell_type": "code",
   "execution_count": 81,
   "id": "a8c1ea42-7ade-4b0d-a75b-a1c7e04cc263",
   "metadata": {
    "tags": []
   },
   "outputs": [
    {
     "data": {
      "text/plain": [
       "1392"
      ]
     },
     "execution_count": 81,
     "metadata": {},
     "output_type": "execute_result"
    }
   ],
   "source": [
    "np.random.choice(2031)"
   ]
  },
  {
   "cell_type": "code",
   "execution_count": 85,
   "id": "5f8a7c0b-265f-435e-a384-42b4fa752f0d",
   "metadata": {
    "tags": []
   },
   "outputs": [
    {
     "data": {
      "text/plain": [
       "array([757, 588, 103, ..., 533, 877,  40])"
      ]
     },
     "execution_count": 85,
     "metadata": {},
     "output_type": "execute_result"
    }
   ],
   "source": [
    "new_len"
   ]
  },
  {
   "cell_type": "code",
   "execution_count": 102,
   "id": "385a7f38-8646-44c6-a683-44c4faed1f74",
   "metadata": {
    "tags": []
   },
   "outputs": [],
   "source": [
    "from concurrent.futures import ThreadPoolExecutor, as_completed\n",
    "import concurrent"
   ]
  },
  {
   "cell_type": "code",
   "execution_count": 103,
   "id": "b75d909b-c8cb-4686-a05f-1b5de7ba8166",
   "metadata": {
    "tags": []
   },
   "outputs": [],
   "source": [
    "from concurrent.futures import ThreadPoolExecutor\n",
    "\n",
    "def run_parallel_queries(prompt, num_queries=20):\n",
    "    \"\"\"\n",
    "    Run multiple queries in parallel and measure times.\n",
    "    query_function: The function to invoke the streaming endpoint.\n",
    "    num_queries: Number of parallel queries to run.\n",
    "    *args, **kwargs: Arguments for the query_function.\n",
    "    \"\"\"\n",
    "    results = []\n",
    "    payloads = []\n",
    "    words = prompt.split(' ')\n",
    "    for i in range(20):\n",
    "        new_len = np.random.randint(1024, 2048)\n",
    "        new_start = np.random.randint(0, len(words) - new_len)\n",
    "        new_prompt = ' '.join(words[new_start:(new_start+new_len)])\n",
    "        payloads.append(new_prompt)\n",
    "    payload = {\n",
    "        \"inputs\":  prompt,\n",
    "        \"parameters\": parameters,\n",
    "        \"stream\": True ## <-- to have response stream.\n",
    "    }\n",
    "\n",
    "    with ThreadPoolExecutor(max_workers=num_queries) as executor:\n",
    "        futures = [executor.submit(query_stream_and_measure_time, i, {\n",
    "        \"inputs\":  payloads[i],\n",
    "        \"parameters\": parameters,\n",
    "        \"stream\": True ## <-- to have response stream.\n",
    "    }) for i in range(num_queries)]\n",
    "        for future in as_completed(futures):\n",
    "            results.append(future.result())\n",
    "    \n",
    "    return results"
   ]
  },
  {
   "cell_type": "code",
   "execution_count": 106,
   "id": "3fef8a06-e7b5-4252-a1e0-2147920e62cb",
   "metadata": {
    "tags": []
   },
   "outputs": [],
   "source": [
    "res = run_parallel_queries(prompt, 5)"
   ]
  },
  {
   "cell_type": "code",
   "execution_count": 108,
   "id": "b6cad513-b2e8-47a3-9b94-28e461882fae",
   "metadata": {
    "scrolled": true,
    "tags": []
   },
   "outputs": [
    {
     "data": {
      "text/plain": [
       "[(1, 271, 1.1775479316711426, 17.07368302345276, 17.048169157804175),\n",
       " (4, 288, 1.941161870956421, 17.9459228515625, 17.99464549011302),\n",
       " (3, 318, 4.983713865280151, 21.511450052261353, 19.240384551302718),\n",
       " (0, 471, 3.3899338245391846, 28.476318836212158, 18.775124426290933),\n",
       " (2, 788, 6.656641721725464, 46.89753985404968, 19.582067910333866)]"
      ]
     },
     "execution_count": 108,
     "metadata": {},
     "output_type": "execute_result"
    }
   ],
   "source": [
    "[(x[0], len(x[1]), x[2], x[3], x[4]) for x in res]"
   ]
  },
  {
   "cell_type": "code",
   "execution_count": 110,
   "id": "43fae1e4-f7d0-47d5-8a88-0e1d0360e44a",
   "metadata": {
    "tags": []
   },
   "outputs": [],
   "source": [
    "res8 = run_parallel_queries(prompt, 8)"
   ]
  },
  {
   "cell_type": "code",
   "execution_count": 111,
   "id": "2c8f0b1c-01bd-4391-9dd4-4f263826c1c9",
   "metadata": {
    "tags": []
   },
   "outputs": [
    {
     "data": {
      "text/plain": [
       "[(6, 24, 6.823728799819946, 8.413669109344482, 15.094906303229134),\n",
       " (2, 29, 9.885974884033203, 12.025516033172607, 13.55430813362238),\n",
       " (5, 114, 8.218945980072021, 15.1265389919281, 16.50357799081855),\n",
       " (7, 174, 3.7338621616363525, 15.307170152664185, 15.034595133465118),\n",
       " (0, 185, 5.19197416305542, 16.702793836593628, 16.071835477128495),\n",
       " (4, 121, 11.666991233825684, 17.283578157424927, 21.54333256939257),\n",
       " (1, 421, 1.9467689990997314, 25.723637104034424, 17.706284870740607),\n",
       " (3, 555, 1.375389814376831, 31.633113145828247, 18.34242430999773)]"
      ]
     },
     "execution_count": 111,
     "metadata": {},
     "output_type": "execute_result"
    }
   ],
   "source": [
    "[(x[0], len(x[1]), x[2], x[3], x[4]) for x in res8]"
   ]
  },
  {
   "cell_type": "code",
   "execution_count": 74,
   "id": "39400bd0-18c1-4f84-a31a-fa89f3560716",
   "metadata": {
    "scrolled": true,
    "tags": []
   },
   "outputs": [
    {
     "data": {
      "text/plain": [
       "(1,\n",
       " ['\\n',\n",
       "  'For',\n",
       "  ' any',\n",
       "  ' query',\n",
       "  ',',\n",
       "  ' please',\n",
       "  ' contact',\n",
       "  ' us',\n",
       "  ' at',\n",
       "  ' -',\n",
       "  ' [',\n",
       "  'email',\n",
       "  ' protected',\n",
       "  ']',\n",
       "  ' or',\n",
       "  ' call',\n",
       "  ' us',\n",
       "  ' at',\n",
       "  ' ',\n",
       "  '9',\n",
       "  '3',\n",
       "  '2',\n",
       "  '3',\n",
       "  '7',\n",
       "  '7',\n",
       "  '2',\n",
       "  '8',\n",
       "  '9',\n",
       "  '7',\n",
       "  '.',\n",
       "  '\\n',\n",
       "  '\\n',\n",
       "  '©',\n",
       "  ' ',\n",
       "  '2',\n",
       "  '0',\n",
       "  '2',\n",
       "  '4',\n",
       "  ' The',\n",
       "  ' Hindu',\n",
       "  ' Business',\n",
       "  'Line',\n",
       "  '.',\n",
       "  ' All',\n",
       "  ' rights',\n",
       "  ' reserved',\n",
       "  '.',\n",
       "  ' For',\n",
       "  ' re',\n",
       "  'print',\n",
       "  ' rights',\n",
       "  ',',\n",
       "  ' contact',\n",
       "  ' [',\n",
       "  'email',\n",
       "  ' protected',\n",
       "  ']',\n",
       "  '\\n',\n",
       "  '\\n',\n",
       "  'For',\n",
       "  ' subscription',\n",
       "  ',',\n",
       "  ' contact',\n",
       "  ' [',\n",
       "  'email',\n",
       "  ' protected',\n",
       "  ']',\n",
       "  ' or',\n",
       "  ' call',\n",
       "  ' us',\n",
       "  ' at',\n",
       "  ' ',\n",
       "  '9',\n",
       "  '3',\n",
       "  '2',\n",
       "  '3',\n",
       "  '7',\n",
       "  '7',\n",
       "  '2',\n",
       "  '8',\n",
       "  '9',\n",
       "  '7',\n",
       "  '.',\n",
       "  '\\n',\n",
       "  '\\n',\n",
       "  '###'],\n",
       " 0.9410438537597656,\n",
       " 4.789793968200684,\n",
       " 22.344916516486453)"
      ]
     },
     "execution_count": 74,
     "metadata": {},
     "output_type": "execute_result"
    }
   ],
   "source": [
    "query_stream_and_measure_time(1, payload)"
   ]
  },
  {
   "cell_type": "code",
   "execution_count": 69,
   "id": "e10f338b-1738-43b5-8f7f-7ec90cf04d67",
   "metadata": {
    "tags": []
   },
   "outputs": [
    {
     "name": "stdout",
     "output_type": "stream",
     "text": [
      "\n",
      "For any feedback, complaints, or suggestions, write to the editor at [email protected]\n",
      "\n",
      "Except for the editorially provided content, this page is generated automatically from a feed of the associated press.\n",
      "\n",
      "Courtesy: Business Standard\n",
      "\n",
      "Read More: Stock Market<|im_end|>\n",
      "Time taken to receive first word: 0.9630029201507568 seconds\n",
      "Total time to receive all words: 3.5161631107330322 seconds\n"
     ]
    }
   ],
   "source": [
    "import time\n",
    "\n",
    "# Start the timer before making the request\n",
    "start_time = time.time()\n",
    "\n",
    "# Invoke the streaming endpoint\n",
    "response = smr.invoke_endpoint_with_response_stream(\n",
    "    EndpointName=endpoint_name,\n",
    "    Body=json.dumps(payload),\n",
    "    ContentType=\"application/json\",\n",
    ")\n",
    "\n",
    "first_word_time = None\n",
    "output = []\n",
    "\n",
    "# Iterate over the response stream to process the data\n",
    "for line in TokenIterator(response[\"Body\"]):\n",
    "    # Assuming each line is a text and you're collecting all lines\n",
    "    output.append(line)\n",
    "    print(line, end=\"\")  # Print each line as it's received\n",
    "\n",
    "    # Capture the time when the first word is received, if not already done\n",
    "    if not first_word_time and line.strip():\n",
    "        first_word_time = time.time()\n",
    "\n",
    "# End time after all words are received\n",
    "end_time = time.time()\n",
    "\n",
    "# Calculate time differences\n",
    "time_to_first_word = first_word_time - start_time\n",
    "total_time = end_time - start_time\n",
    "print(\"\")\n",
    "print(f\"Time taken to receive first word: {time_to_first_word} seconds\")\n",
    "print(f\"Total time to receive all words: {total_time} seconds\")\n"
   ]
  },
  {
   "cell_type": "code",
   "execution_count": 71,
   "id": "e3d8155a-93ab-4e59-b937-dafcd166ddf1",
   "metadata": {
    "tags": []
   },
   "outputs": [
    {
     "data": {
      "text/plain": [
       "59"
      ]
     },
     "execution_count": 71,
     "metadata": {},
     "output_type": "execute_result"
    }
   ],
   "source": [
    "len(output)"
   ]
  },
  {
   "cell_type": "code",
   "execution_count": 70,
   "id": "10d7d0bf-4a5e-4a97-b471-e40607bbf68e",
   "metadata": {
    "tags": []
   },
   "outputs": [],
   "source": [
    "full_output = ''.join(output)"
   ]
  },
  {
   "cell_type": "code",
   "execution_count": 59,
   "id": "eb04debe-ee5f-4d0b-85ac-5c111270bfb4",
   "metadata": {
    "tags": []
   },
   "outputs": [],
   "source": [
    "output = ''.join(output)"
   ]
  },
  {
   "cell_type": "code",
   "execution_count": 72,
   "id": "a117eef6-053d-4d9c-b6c8-f0dbf0e15b6a",
   "metadata": {
    "tags": []
   },
   "outputs": [
    {
     "data": {
      "text/plain": [
       "59"
      ]
     },
     "execution_count": 72,
     "metadata": {},
     "output_type": "execute_result"
    }
   ],
   "source": [
    "len(tokenizer(output)['input_ids'])"
   ]
  },
  {
   "cell_type": "code",
   "execution_count": 63,
   "id": "fddefaaa-2d19-4c67-a72d-b2f721c292f7",
   "metadata": {
    "tags": []
   },
   "outputs": [
    {
     "data": {
      "text/plain": [
       "22.68421052631579"
      ]
     },
     "execution_count": 63,
     "metadata": {},
     "output_type": "execute_result"
    }
   ],
   "source": [
    "431/19"
   ]
  },
  {
   "cell_type": "code",
   "execution_count": 55,
   "id": "c900b750-ec07-48d4-a043-461fbb4c86cc",
   "metadata": {
    "tags": []
   },
   "outputs": [
    {
     "data": {
      "text/plain": [
       "1.3371129035949707"
      ]
     },
     "execution_count": 55,
     "metadata": {},
     "output_type": "execute_result"
    }
   ],
   "source": [
    "time_to_first_word"
   ]
  },
  {
   "cell_type": "code",
   "execution_count": 48,
   "id": "f1735ef5-37f8-4f5c-b377-55d06094429b",
   "metadata": {
    "tags": []
   },
   "outputs": [],
   "source": [
    "resp = get_realtime_response_stream(smr, endpoint_name, payload)"
   ]
  },
  {
   "cell_type": "code",
   "execution_count": 49,
   "id": "685f693a-66d2-415b-aec1-9df08fe129e7",
   "metadata": {
    "tags": []
   },
   "outputs": [
    {
     "name": "stdout",
     "output_type": "stream",
     "text": [
      "{'ResponseMetadata': {'RequestId': 'd3a05227-802e-4409-8dfb-3578f75f73be', 'HTTPStatusCode': 200, 'HTTPHeaders': {'x-amzn-requestid': 'd3a05227-802e-4409-8dfb-3578f75f73be', 'x-amzn-invoked-production-variant': 'AllTraffic', 'x-amzn-sagemaker-content-type': 'text/event-stream', 'date': 'Thu, 11 Jan 2024 07:31:36 GMT', 'content-type': 'application/vnd.amazon.eventstream', 'transfer-encoding': 'chunked', 'connection': 'keep-alive'}, 'RetryAttempts': 0}, 'ContentType': 'text/event-stream', 'InvokedProductionVariant': 'AllTraffic', 'Body': <botocore.eventstream.EventStream object at 0x17c32bd90>}\n"
     ]
    }
   ],
   "source": [
    "print(resp)"
   ]
  },
  {
   "cell_type": "code",
   "execution_count": null,
   "id": "ff26c4b5-21de-4a9b-bb6b-d1faab0ab0d9",
   "metadata": {},
   "outputs": [],
   "source": [
    "%%writefile serving.properties\n",
    "engine=MPI \n",
    "option.model_id=teknium/OpenHermes-2.5-Mistral-7B\n",
    "option.trust_remote_code=true\n",
    "option.tensor_parallel_degree=1\n",
    "option.max_rolling_batch_size=32\n",
    "option.rolling_batch=auto\n",
    "option.output_formatter=jsonlines\n",
    "option.paged_attention=true\n",
    "option.enable_streaming=true"
   ]
  },
  {
   "cell_type": "code",
   "execution_count": 2,
   "id": "694632ae-4ea9-48c9-8834-7d753ba8d280",
   "metadata": {
    "tags": []
   },
   "outputs": [
    {
     "name": "stdout",
     "output_type": "stream",
     "text": [
      "sagemaker.config INFO - Not applying SDK defaults from location: /Library/Application Support/sagemaker/config.yaml\n",
      "sagemaker.config INFO - Not applying SDK defaults from location: /Users/username/Library/Application Support/sagemaker/config.yaml\n"
     ]
    }
   ],
   "source": [
    "from sagemaker.huggingface.model import HuggingFaceModel"
   ]
  },
  {
   "cell_type": "code",
   "execution_count": 5,
   "id": "d25be71b-e02f-4906-a77b-47aa94168e68",
   "metadata": {
    "tags": []
   },
   "outputs": [],
   "source": [
    "hub = {\n",
    "  'HF_MODEL_ID':'teknium/OpenHermes-2.5-Mistral-7B', # model_id from hf.co/models\n",
    "  'HF_TASK':'text-generation'                           # NLP task you want to use for predictions\n",
    "}\n",
    "\n",
    "# create Hugging Face Model Class\n",
    "huggingface_model = HuggingFaceModel(\n",
    "   env=hub,                                                # configuration for loading model from Hub\n",
    "   role=role,                                              # IAM role with permissions to create an endpoint\n",
    "   transformers_version=\"4.28\",                             # Transformers version used\n",
    "   pytorch_version=\"2.0\",                                  # PyTorch version used\n",
    "   py_version='py310',                                      # Python version used\n",
    ")"
   ]
  },
  {
   "cell_type": "code",
   "execution_count": 6,
   "id": "5215dcba-a10d-4744-9722-4e5ddaa6a395",
   "metadata": {
    "tags": []
   },
   "outputs": [
    {
     "name": "stdout",
     "output_type": "stream",
     "text": [
      "--------!"
     ]
    }
   ],
   "source": [
    "# deploy model to SageMaker Inference\n",
    "predictor = huggingface_model.deploy(\n",
    "   initial_instance_count=1,\n",
    "   instance_type=\"ml.g5.2xlarge\"\n",
    ")"
   ]
  },
  {
   "cell_type": "code",
   "execution_count": 7,
   "id": "f8f51aae-9c42-44f0-ac29-5a60cebc01bd",
   "metadata": {
    "tags": []
   },
   "outputs": [],
   "source": [
    "\n",
    "# example request: you always need to define \"inputs\"\n",
    "data = {\n",
    "\"inputs\": {\n",
    "\t\"question\": \"What is used for inference?\",\n",
    "\t\"context\": \"My Name is Philipp and I live in Nuremberg. This model is used with sagemaker for inference.\"\n",
    "\t}\n",
    "}"
   ]
  },
  {
   "cell_type": "code",
   "execution_count": null,
   "id": "2698fbf5-9f45-4db2-b111-957b88af4da8",
   "metadata": {},
   "outputs": [],
   "source": []
  }
 ],
 "metadata": {
  "kernelspec": {
   "display_name": "recoenv",
   "language": "python",
   "name": "recoenv"
  },
  "language_info": {
   "codemirror_mode": {
    "name": "ipython",
    "version": 3
   },
   "file_extension": ".py",
   "mimetype": "text/x-python",
   "name": "python",
   "nbconvert_exporter": "python",
   "pygments_lexer": "ipython3",
   "version": "3.11.5"
  }
 },
 "nbformat": 4,
 "nbformat_minor": 5
}
