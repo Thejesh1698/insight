{
 "cells": [
  {
   "cell_type": "code",
   "execution_count": 3,
   "id": "a9a53c8b-6272-4f2d-99b6-d9f8ebece252",
   "metadata": {
    "tags": []
   },
   "outputs": [],
   "source": [
    "import json"
   ]
  },
  {
   "cell_type": "code",
   "execution_count": 1,
   "id": "5c994085-d363-4463-aff8-a52faf351e6a",
   "metadata": {
    "tags": []
   },
   "outputs": [],
   "source": [
    "a = {\n",
    "\"analysis_of_financial_or_business_news\": \"\",\n",
    "\"financial_or_business_news\": \"\",\n",
    "\"analysis_of_relevant_for_india\": \"\",\n",
    "\"relevant_for_india\": \"\",\n",
    "\"analysis_of_article_validity_duration\": \"\",\n",
    "\"article_validity_duration\": \"\",\n",
    "\"analysis_of_popularity\": \"\",\n",
    "\"popularity\": \"\",\n",
    "\"analysis_of_article_type\": \"\",\n",
    "\"article_type\": \"\",\n",
    "\"analysis_of_article_sentiment\": \"\",\n",
    "\"article_sentiment\": \"\",\n",
    "\"headline_suggestion\": \"\",\n",
    "\"first_attempt_summary\": \"\",\n",
    "\"improved_summary\": \"\",\n",
    "\"final_summary\": \"\",\n",
    "\"top_categories\": \"\"\n",
    "}"
   ]
  },
  {
   "cell_type": "code",
   "execution_count": 4,
   "id": "81421782-4196-4fe5-b2ef-c335f06cdbd9",
   "metadata": {
    "tags": []
   },
   "outputs": [
    {
     "data": {
      "text/plain": [
       "'{\"analysis_of_financial_or_business_news\": \"\", \"financial_or_business_news\": \"\", \"analysis_of_relevant_for_india\": \"\", \"relevant_for_india\": \"\", \"analysis_of_article_validity_duration\": \"\", \"article_validity_duration\": \"\", \"analysis_of_popularity\": \"\", \"popularity\": \"\", \"analysis_of_article_type\": \"\", \"article_type\": \"\", \"analysis_of_article_sentiment\": \"\", \"article_sentiment\": \"\", \"headline_suggestion\": \"\", \"first_attempt_summary\": \"\", \"improved_summary\": \"\", \"final_summary\": \"\", \"top_categories\": \"\"}'"
      ]
     },
     "execution_count": 4,
     "metadata": {},
     "output_type": "execute_result"
    }
   ],
   "source": [
    "json.dumps(a)"
   ]
  },
  {
   "cell_type": "code",
   "execution_count": null,
   "id": "8a6be173-c409-4f40-963c-09432a7c5332",
   "metadata": {},
   "outputs": [],
   "source": []
  },
  {
   "cell_type": "code",
   "execution_count": 2,
   "id": "ce28d047-5d6d-4ad2-965a-188609ed657e",
   "metadata": {
    "tags": []
   },
   "outputs": [
    {
     "data": {
      "text/plain": [
       "dict_keys(['analysis_of_financial_or_business_news', 'financial_or_business_news', 'analysis_of_relevant_for_india', 'relevant_for_india', 'analysis_of_article_validity_duration', 'article_validity_duration', 'analysis_of_popularity', 'popularity', 'analysis_of_article_type', 'article_type', 'analysis_of_article_sentiment', 'article_sentiment', 'headline_suggestion', 'first_attempt_summary', 'improved_summary', 'final_summary', 'top_categories'])"
      ]
     },
     "execution_count": 2,
     "metadata": {},
     "output_type": "execute_result"
    }
   ],
   "source": [
    "a.keys()"
   ]
  },
  {
   "cell_type": "code",
   "execution_count": null,
   "id": "cdd010e9-2f51-465d-8a60-92fa1fd764da",
   "metadata": {},
   "outputs": [],
   "source": []
  }
 ],
 "metadata": {
  "kernelspec": {
   "display_name": "llms",
   "language": "python",
   "name": "llms"
  },
  "language_info": {
   "codemirror_mode": {
    "name": "ipython",
    "version": 3
   },
   "file_extension": ".py",
   "mimetype": "text/x-python",
   "name": "python",
   "nbconvert_exporter": "python",
   "pygments_lexer": "ipython3",
   "version": "3.11.4"
  }
 },
 "nbformat": 4,
 "nbformat_minor": 5
}
