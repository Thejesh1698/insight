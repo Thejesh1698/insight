{
 "cells": [
  {
   "cell_type": "code",
   "execution_count": 1,
   "id": "fe82d4cd-2cd6-45b5-a5fb-2acb3c3756f4",
   "metadata": {
    "tags": []
   },
   "outputs": [
    {
     "name": "stderr",
     "output_type": "stream",
     "text": [
      "/Users/ravi.tej/anaconda3/envs/recoenv/lib/python3.11/site-packages/umap/distances.py:1063: NumbaDeprecationWarning: \u001b[1mThe 'nopython' keyword argument was not supplied to the 'numba.jit' decorator. The implicit default value for this argument is currently False, but it will be changed to True in Numba 0.59.0. See https://numba.readthedocs.io/en/stable/reference/deprecation.html#deprecation-of-object-mode-fall-back-behaviour-when-using-jit for details.\u001b[0m\n",
      "  @numba.jit()\n",
      "/Users/ravi.tej/anaconda3/envs/recoenv/lib/python3.11/site-packages/umap/distances.py:1071: NumbaDeprecationWarning: \u001b[1mThe 'nopython' keyword argument was not supplied to the 'numba.jit' decorator. The implicit default value for this argument is currently False, but it will be changed to True in Numba 0.59.0. See https://numba.readthedocs.io/en/stable/reference/deprecation.html#deprecation-of-object-mode-fall-back-behaviour-when-using-jit for details.\u001b[0m\n",
      "  @numba.jit()\n",
      "/Users/ravi.tej/anaconda3/envs/recoenv/lib/python3.11/site-packages/umap/distances.py:1086: NumbaDeprecationWarning: \u001b[1mThe 'nopython' keyword argument was not supplied to the 'numba.jit' decorator. The implicit default value for this argument is currently False, but it will be changed to True in Numba 0.59.0. See https://numba.readthedocs.io/en/stable/reference/deprecation.html#deprecation-of-object-mode-fall-back-behaviour-when-using-jit for details.\u001b[0m\n",
      "  @numba.jit()\n",
      "/Users/ravi.tej/anaconda3/envs/recoenv/lib/python3.11/site-packages/umap/umap_.py:660: NumbaDeprecationWarning: \u001b[1mThe 'nopython' keyword argument was not supplied to the 'numba.jit' decorator. The implicit default value for this argument is currently False, but it will be changed to True in Numba 0.59.0. See https://numba.readthedocs.io/en/stable/reference/deprecation.html#deprecation-of-object-mode-fall-back-behaviour-when-using-jit for details.\u001b[0m\n",
      "  @numba.jit()\n"
     ]
    }
   ],
   "source": [
    "parent_folder = '/Users/ravi.tej/Desktop/ML/Recommendations/arcane/'\n",
    "from hydra import compose, initialize\n",
    "import os\n",
    "\n",
    "import xml.etree.ElementTree as ET\n",
    "\n",
    "tree = ET.parse('../../../conf/application.run.xml')\n",
    "root = tree.getroot()\n",
    "\n",
    "envs_element = root.find('./configuration/envs')\n",
    "for variable in envs_element.findall('env'):\n",
    "    name = variable.get('name')\n",
    "    value = variable.get('value')\n",
    "    os.environ[name] = value\n",
    "\n",
    "import sys\n",
    "sys.path.append('/Users/ravi.tej/Desktop/ML/Recommendations/arcane/')\n",
    "\n",
    "from src._utils import load_bertopic_model_from_hf"
   ]
  },
  {
   "cell_type": "markdown",
   "id": "0da5e753-5190-4927-9dd9-e585c1418909",
   "metadata": {},
   "source": [
    "### Loading article df"
   ]
  },
  {
   "cell_type": "code",
   "execution_count": 2,
   "id": "c84e20e4-353f-4a1b-9bd2-9a7c74e7a2af",
   "metadata": {
    "tags": []
   },
   "outputs": [],
   "source": [
    "data_folder = \"../../../data/\"\n",
    "import json\n",
    "with open(data_folder + 'insight_db.articles.json') as f:\n",
    "    insight_articles = json.load(f)"
   ]
  },
  {
   "cell_type": "code",
   "execution_count": 3,
   "id": "872e4ae4-4c94-41c7-bdfd-585e14520776",
   "metadata": {
    "tags": []
   },
   "outputs": [],
   "source": [
    "valid_articles = {}\n",
    "\n",
    "for k in insight_articles:\n",
    "    if 'is_premium_article' in k and k['is_premium_article'] == False:\n",
    "        article_id = k['_id']['$oid']\n",
    "        valid_articles[article_id] = k\n",
    "        valid_articles[article_id]['source_id'] = k['source_id']['$oid']"
   ]
  },
  {
   "cell_type": "code",
   "execution_count": 4,
   "id": "16037a87-ab2e-4812-ab7e-eaf88bd6e7d0",
   "metadata": {
    "tags": []
   },
   "outputs": [
    {
     "data": {
      "text/plain": [
       "172945"
      ]
     },
     "execution_count": 4,
     "metadata": {},
     "output_type": "execute_result"
    }
   ],
   "source": [
    "len(valid_articles)"
   ]
  },
  {
   "cell_type": "code",
   "execution_count": 5,
   "id": "6ef6f35b-907f-4ada-b988-13adb6574cfe",
   "metadata": {
    "tags": []
   },
   "outputs": [],
   "source": [
    "import numpy as np\n",
    "import pandas as pd"
   ]
  },
  {
   "cell_type": "code",
   "execution_count": 8,
   "id": "c18654f1-d219-45c7-a667-801bd745f72d",
   "metadata": {
    "tags": []
   },
   "outputs": [],
   "source": [
    "all_articles_df = pd.DataFrame(valid_articles).T.reset_index()\n",
    "all_articles_df = all_articles_df.rename(columns = {'index': 'article_id'})\n",
    "all_articles_df = all_articles_df.drop(columns = {'_id', '_class'})"
   ]
  },
  {
   "cell_type": "code",
   "execution_count": 9,
   "id": "7eb29da9-4003-4f8e-8dd4-e84ac7b416a0",
   "metadata": {
    "tags": []
   },
   "outputs": [],
   "source": [
    "all_articles_df[all_articles_df.groupby('url')['url'].transform('count') > 1].sort_values('url').to_csv('duplicate_articles_df.csv')"
   ]
  },
  {
   "cell_type": "code",
   "execution_count": 6,
   "id": "f49c46ce-75bb-469a-9574-12a5cb27952b",
   "metadata": {
    "tags": []
   },
   "outputs": [],
   "source": [
    "articles_df = pd.DataFrame(valid_articles).T.reset_index()\n",
    "articles_df = articles_df.rename(columns = {'index': 'article_id'})\n",
    "articles_df = articles_df.drop(columns = {'_id', '_class'})\n",
    "articles_df['prob'] = [np.random.rand() for i in range(len(articles_df))]"
   ]
  },
  {
   "cell_type": "code",
   "execution_count": 7,
   "id": "c697057b-20f1-4b91-86db-19085f18cc2c",
   "metadata": {
    "tags": []
   },
   "outputs": [],
   "source": [
    "from sql.PostgresDatabaseOperation import PostgresDatabaseOperation"
   ]
  },
  {
   "cell_type": "code",
   "execution_count": 8,
   "id": "0e4fcfc6-f6e1-41e7-8eb4-981626aafe01",
   "metadata": {
    "tags": []
   },
   "outputs": [],
   "source": [
    "with PostgresDatabaseOperation() as cursor:\n",
    "    sql = 'SELECT * FROM source_id_characteristics'\n",
    "    cursor.execute(sql)\n",
    "    results = cursor.fetchall()"
   ]
  },
  {
   "cell_type": "code",
   "execution_count": 9,
   "id": "dc466a9f-2540-4050-aa11-395528434d10",
   "metadata": {
    "tags": []
   },
   "outputs": [
    {
     "data": {
      "text/plain": [
       "[(4, '652d53256a2736f06f46cfcf', Decimal('1'), 'wint-wealth'),\n",
       " (3, '65291b1e9a2fbc229e5f29c9', Decimal('1'), 'zerodha-varsity'),\n",
       " (5, '6530d40d9a7559d3ec6b9871', Decimal('1.0'), 'groww'),\n",
       " (1, '6512cdcad01a9c8e86263e05', Decimal('0.9'), 'economic-times'),\n",
       " (2, '650046bd005149c49201269f', Decimal('0.9'), 'live-mint'),\n",
       " (10, '65558d1f672118037c541088', Decimal('1.0'), 'navi'),\n",
       " (11, '655597ea96fb32eef21a562a', Decimal('0.9'), 'investopedia'),\n",
       " (12, '6555987996fb32eef21a562b', Decimal('0.9'), 'business-standard'),\n",
       " (13, '655598ab96fb32eef21a562c', Decimal('0.9'), 'business-insider'),\n",
       " (14, '6555992096fb32eef21a562d', Decimal('0.9'), 'cnbc-tv-18'),\n",
       " (15, '6555995596fb32eef21a562e', Decimal('0.9'), 'cnbc'),\n",
       " (16, '65559d0c96fb32eef21a562f', Decimal('0.9'), 'business-world'),\n",
       " (17, '65559d4296fb32eef21a5630', Decimal('0.9'), 'bq-prime'),\n",
       " (18, '6560a5bddf69601d3e2ce0c1', Decimal('0.9'), 'bbc'),\n",
       " (19, '6560ac8b9952a16bbc397223', Decimal('0.9'), 'yahoo-finance'),\n",
       " (20, '6560af039952a16bbc397224', Decimal('0.9'), 'money-control'),\n",
       " (21, '6560b3a49952a16bbc397225', Decimal('1.0'), 'finshots'),\n",
       " (22, '6560b4cc9952a16bbc397226', Decimal('0.9'), 'reuters'),\n",
       " (23, '6560b6109952a16bbc397227', Decimal('0.9'), 'economist'),\n",
       " (24, '65768d2e7c73e77fdb13a9b3', Decimal('0.9'), 'inc42')]"
      ]
     },
     "execution_count": 9,
     "metadata": {},
     "output_type": "execute_result"
    }
   ],
   "source": [
    "results"
   ]
  },
  {
   "cell_type": "code",
   "execution_count": 10,
   "id": "3bcef207-1e67-4184-a94c-8187cae4ed76",
   "metadata": {
    "tags": []
   },
   "outputs": [],
   "source": [
    "source_df = pd.DataFrame(results, columns = ['id', 'source_id', 'decay', 'source_name'])"
   ]
  },
  {
   "cell_type": "code",
   "execution_count": 11,
   "id": "dc033a11-61c7-4fae-8c62-256a2b57fb22",
   "metadata": {
    "tags": []
   },
   "outputs": [],
   "source": [
    "articles_df = pd.merge(articles_df, source_df, how = 'left', on = 'source_id')"
   ]
  },
  {
   "cell_type": "markdown",
   "id": "f80fa006-e50d-4966-8b4a-cbb8b62b140e",
   "metadata": {},
   "source": [
    "### Finding any removing duplicate articles"
   ]
  },
  {
   "cell_type": "code",
   "execution_count": null,
   "id": "3323d0ea-038c-444c-b3bc-d8af93175d84",
   "metadata": {
    "scrolled": true,
    "tags": []
   },
   "outputs": [
    {
     "data": {
      "text/html": [
       "<div>\n",
       "<style scoped>\n",
       "    .dataframe tbody tr th:only-of-type {\n",
       "        vertical-align: middle;\n",
       "    }\n",
       "\n",
       "    .dataframe tbody tr th {\n",
       "        vertical-align: top;\n",
       "    }\n",
       "\n",
       "    .dataframe thead th {\n",
       "        text-align: right;\n",
       "    }\n",
       "</style>\n",
       "<table border=\"1\" class=\"dataframe\">\n",
       "  <thead>\n",
       "    <tr style=\"text-align: right;\">\n",
       "      <th></th>\n",
       "      <th>article_id</th>\n",
       "      <th>url</th>\n",
       "      <th>source_id</th>\n",
       "      <th>authors</th>\n",
       "      <th>reactions</th>\n",
       "      <th>image_url</th>\n",
       "      <th>is_premium_article</th>\n",
       "      <th>last_updated_time</th>\n",
       "      <th>published_time</th>\n",
       "      <th>short_description</th>\n",
       "      <th>tags</th>\n",
       "      <th>title</th>\n",
       "      <th>ai_generated_info</th>\n",
       "      <th>prob</th>\n",
       "      <th>id</th>\n",
       "      <th>decay</th>\n",
       "      <th>source_name</th>\n",
       "    </tr>\n",
       "  </thead>\n",
       "  <tbody>\n",
       "    <tr>\n",
       "      <th>0</th>\n",
       "      <td>658d3bf54b25ce4814fb2fc9</td>\n",
       "      <td>https://www.moneycontrol.com/news/business/eco...</td>\n",
       "      <td>6560af039952a16bbc397224</td>\n",
       "      <td>[Faizan Javed]</td>\n",
       "      <td>{}</td>\n",
       "      <td>https://images.moneycontrol.com/static-mcnews/...</td>\n",
       "      <td>False</td>\n",
       "      <td>2023-12-28T05:08:01+0000</td>\n",
       "      <td>2023-12-28T04:52:37+0000</td>\n",
       "      <td>The revised model articles of associations/bye...</td>\n",
       "      <td>[Economy,India,Commerce Ministry,EPC,FIEO]</td>\n",
       "      <td>Commerce ministry proposes new bye-laws for el...</td>\n",
       "      <td>{'summary': {'OpenHermes_WatermelonSapphireZip...</td>\n",
       "      <td>0.407601</td>\n",
       "      <td>20</td>\n",
       "      <td>0.9</td>\n",
       "      <td>money-control</td>\n",
       "    </tr>\n",
       "    <tr>\n",
       "      <th>1</th>\n",
       "      <td>658d3bf54b25ce4814fb2fca</td>\n",
       "      <td>https://www.moneycontrol.com/news/business/6-r...</td>\n",
       "      <td>6560af039952a16bbc397224</td>\n",
       "      <td>[101Reporters]</td>\n",
       "      <td>{}</td>\n",
       "      <td>https://images.moneycontrol.com/static-mcnews/...</td>\n",
       "      <td>False</td>\n",
       "      <td>2023-12-27T13:04:27+0000</td>\n",
       "      <td>2023-12-27T13:04:27+0000</td>\n",
       "      <td>Six relatives of Andhra Pradesh MLA died in a ...</td>\n",
       "      <td>[Car accident]</td>\n",
       "      <td>6 relatives of Andhra Pradesh MLA die in car a...</td>\n",
       "      <td>{'summary': {'OpenHermes_WatermelonSapphireZip...</td>\n",
       "      <td>0.590986</td>\n",
       "      <td>20</td>\n",
       "      <td>0.9</td>\n",
       "      <td>money-control</td>\n",
       "    </tr>\n",
       "    <tr>\n",
       "      <th>2</th>\n",
       "      <td>658d3bf64b25ce4814fb2fcb</td>\n",
       "      <td>https://www.moneycontrol.com/news/business/eco...</td>\n",
       "      <td>6560af039952a16bbc397224</td>\n",
       "      <td>[Faizan Javed]</td>\n",
       "      <td>{}</td>\n",
       "      <td>https://images.moneycontrol.com/static-mcnews/...</td>\n",
       "      <td>False</td>\n",
       "      <td>2023-12-28T08:08:34+0000</td>\n",
       "      <td>2023-12-28T06:37:37+0000</td>\n",
       "      <td>From floods to droughts, extreme weather event...</td>\n",
       "      <td>[Economy,India,Inflation,food]</td>\n",
       "      <td>Govt hopeful of 'bountiful harvest' amid food ...</td>\n",
       "      <td>{'summary': {'OpenHermes_WatermelonSapphireZip...</td>\n",
       "      <td>0.547820</td>\n",
       "      <td>20</td>\n",
       "      <td>0.9</td>\n",
       "      <td>money-control</td>\n",
       "    </tr>\n",
       "    <tr>\n",
       "      <th>3</th>\n",
       "      <td>658d3bf64b25ce4814fb2fcd</td>\n",
       "      <td>https://www.moneycontrol.com/news/business/mor...</td>\n",
       "      <td>6560af039952a16bbc397224</td>\n",
       "      <td>[Shantanu Bhattacharji]</td>\n",
       "      <td>{}</td>\n",
       "      <td>https://images.moneycontrol.com/static-mcnews/...</td>\n",
       "      <td>False</td>\n",
       "      <td>2023-12-28T02:19:03+0000</td>\n",
       "      <td>2023-12-28T02:19:03+0000</td>\n",
       "      <td>A round-up of top newspaper stories to keep yo...</td>\n",
       "      <td>[BSE, NSE, Go First, Sony, ZEE, Wipro, Cogniza...</td>\n",
       "      <td>Morning Scan: All the big stories to get you s...</td>\n",
       "      <td>{'summary': {'OpenHermes_WatermelonSapphireZip...</td>\n",
       "      <td>0.350942</td>\n",
       "      <td>20</td>\n",
       "      <td>0.9</td>\n",
       "      <td>money-control</td>\n",
       "    </tr>\n",
       "    <tr>\n",
       "      <th>4</th>\n",
       "      <td>658d3bf84b25ce4814fb2fce</td>\n",
       "      <td>https://www.moneycontrol.com/news/business/ive...</td>\n",
       "      <td>6560af039952a16bbc397224</td>\n",
       "      <td>[M Snehanjali]</td>\n",
       "      <td>{}</td>\n",
       "      <td>https://images.moneycontrol.com/static-mcnews/...</td>\n",
       "      <td>False</td>\n",
       "      <td>2023-12-27T15:29:32+0000</td>\n",
       "      <td>2023-12-27T15:29:32+0000</td>\n",
       "      <td>The hearing-aid tech will be licensed to any g...</td>\n",
       "      <td>[Dave Lee]</td>\n",
       "      <td>I’ve had trouble hearing, then I tried new gla...</td>\n",
       "      <td>{'summary': {'OpenHermes_WatermelonSapphireZip...</td>\n",
       "      <td>0.294836</td>\n",
       "      <td>20</td>\n",
       "      <td>0.9</td>\n",
       "      <td>money-control</td>\n",
       "    </tr>\n",
       "    <tr>\n",
       "      <th>...</th>\n",
       "      <td>...</td>\n",
       "      <td>...</td>\n",
       "      <td>...</td>\n",
       "      <td>...</td>\n",
       "      <td>...</td>\n",
       "      <td>...</td>\n",
       "      <td>...</td>\n",
       "      <td>...</td>\n",
       "      <td>...</td>\n",
       "      <td>...</td>\n",
       "      <td>...</td>\n",
       "      <td>...</td>\n",
       "      <td>...</td>\n",
       "      <td>...</td>\n",
       "      <td>...</td>\n",
       "      <td>...</td>\n",
       "      <td>...</td>\n",
       "    </tr>\n",
       "    <tr>\n",
       "      <th>172940</th>\n",
       "      <td>658ced9e4b25ce4814fb2a0d</td>\n",
       "      <td>https://www.cnbc.com/2023/06/16/south-korea-re...</td>\n",
       "      <td>6555995596fb32eef21a562e</td>\n",
       "      <td>[]</td>\n",
       "      <td>{}</td>\n",
       "      <td>https://image.cnbcfm.com/api/v1/image/10725799...</td>\n",
       "      <td>False</td>\n",
       "      <td>2023-06-16T05:23:42+0000</td>\n",
       "      <td>2023-06-16T05:23:42+0000</td>\n",
       "      <td>The debris was salvaged on Thursday, the milit...</td>\n",
       "      <td>[Defense,Government and politics,Foreign polic...</td>\n",
       "      <td>South Korea recovers part of rocket used in No...</td>\n",
       "      <td>{'summary': {'OpenHermes_WatermelonSapphireZip...</td>\n",
       "      <td>0.681903</td>\n",
       "      <td>15</td>\n",
       "      <td>0.9</td>\n",
       "      <td>cnbc</td>\n",
       "    </tr>\n",
       "    <tr>\n",
       "      <th>172941</th>\n",
       "      <td>658ceda04b25ce4814fb2a60</td>\n",
       "      <td>https://www.cnbc.com/2023/05/23/dollar-hits-6-...</td>\n",
       "      <td>6555995596fb32eef21a562e</td>\n",
       "      <td>[]</td>\n",
       "      <td>{}</td>\n",
       "      <td>https://image.cnbcfm.com/api/v1/image/10707652...</td>\n",
       "      <td>False</td>\n",
       "      <td>2023-05-23T20:09:01+0000</td>\n",
       "      <td>2023-05-23T05:21:00+0000</td>\n",
       "      <td>The U.S. dollar hit a two-month high against a...</td>\n",
       "      <td>[Breaking News: Markets,Forex markets,Economic...</td>\n",
       "      <td>Dollar higher as U.S. debt ceiling concerns ke...</td>\n",
       "      <td>{'summary': {'OpenHermes_WatermelonSapphireZip...</td>\n",
       "      <td>0.712452</td>\n",
       "      <td>15</td>\n",
       "      <td>0.9</td>\n",
       "      <td>cnbc</td>\n",
       "    </tr>\n",
       "    <tr>\n",
       "      <th>172942</th>\n",
       "      <td>658ced994b25ce4814fb295d</td>\n",
       "      <td>https://www.cnbc.com/2023/06/06/4point9-magnit...</td>\n",
       "      <td>6555995596fb32eef21a562e</td>\n",
       "      <td>[]</td>\n",
       "      <td>{}</td>\n",
       "      <td>https://image.cnbcfm.com/api/v1/image/10725191...</td>\n",
       "      <td>False</td>\n",
       "      <td>2023-06-06T17:08:30+0000</td>\n",
       "      <td>2023-06-06T17:08:30+0000</td>\n",
       "      <td>An earthquake with a preliminary magnitude of ...</td>\n",
       "      <td>[Earthquakes,Haiti,Environment,business news]</td>\n",
       "      <td>4.9 magnitude quake strikes southern Haiti; 4 ...</td>\n",
       "      <td>{'summary': {'OpenHermes_WatermelonSapphireZip...</td>\n",
       "      <td>0.133102</td>\n",
       "      <td>15</td>\n",
       "      <td>0.9</td>\n",
       "      <td>cnbc</td>\n",
       "    </tr>\n",
       "    <tr>\n",
       "      <th>172943</th>\n",
       "      <td>658ced9e4b25ce4814fb2a00</td>\n",
       "      <td>https://www.cnbc.com/2023/12/02/north-korea-sa...</td>\n",
       "      <td>6555995596fb32eef21a562e</td>\n",
       "      <td>[]</td>\n",
       "      <td>{}</td>\n",
       "      <td>https://image.cnbcfm.com/api/v1/image/10734224...</td>\n",
       "      <td>False</td>\n",
       "      <td>2023-12-02T08:27:02+0000</td>\n",
       "      <td>2023-12-02T08:27:02+0000</td>\n",
       "      <td>North Korea said it would mobilise its war det...</td>\n",
       "      <td>[Breaking News: Politics,Politics,business news]</td>\n",
       "      <td>North Korea says interference in its satellite...</td>\n",
       "      <td>{'summary': {'OpenHermes_WatermelonSapphireZip...</td>\n",
       "      <td>0.395457</td>\n",
       "      <td>15</td>\n",
       "      <td>0.9</td>\n",
       "      <td>cnbc</td>\n",
       "    </tr>\n",
       "    <tr>\n",
       "      <th>172944</th>\n",
       "      <td>658ced9a4b25ce4814fb2978</td>\n",
       "      <td>https://www.cnbc.com/2023/07/30/donald-trumps-...</td>\n",
       "      <td>6555995596fb32eef21a562e</td>\n",
       "      <td>[]</td>\n",
       "      <td>{}</td>\n",
       "      <td>https://image.cnbcfm.com/api/v1/image/10727886...</td>\n",
       "      <td>False</td>\n",
       "      <td>2023-07-30T21:49:30+0000</td>\n",
       "      <td>2023-07-30T21:49:30+0000</td>\n",
       "      <td>Trump had been seeking punitive damages of $47...</td>\n",
       "      <td>[CNN,Adolf Hitler,Voting,United States,Governm...</td>\n",
       "      <td>Donald Trump’s defamation lawsuit against CNN ...</td>\n",
       "      <td>{'summary': {'OpenHermes_WatermelonSapphireZip...</td>\n",
       "      <td>0.935789</td>\n",
       "      <td>15</td>\n",
       "      <td>0.9</td>\n",
       "      <td>cnbc</td>\n",
       "    </tr>\n",
       "  </tbody>\n",
       "</table>\n",
       "<p>172945 rows × 17 columns</p>\n",
       "</div>"
      ],
      "text/plain": [
       "                      article_id  \\\n",
       "0       658d3bf54b25ce4814fb2fc9   \n",
       "1       658d3bf54b25ce4814fb2fca   \n",
       "2       658d3bf64b25ce4814fb2fcb   \n",
       "3       658d3bf64b25ce4814fb2fcd   \n",
       "4       658d3bf84b25ce4814fb2fce   \n",
       "...                          ...   \n",
       "172940  658ced9e4b25ce4814fb2a0d   \n",
       "172941  658ceda04b25ce4814fb2a60   \n",
       "172942  658ced994b25ce4814fb295d   \n",
       "172943  658ced9e4b25ce4814fb2a00   \n",
       "172944  658ced9a4b25ce4814fb2978   \n",
       "\n",
       "                                                      url  \\\n",
       "0       https://www.moneycontrol.com/news/business/eco...   \n",
       "1       https://www.moneycontrol.com/news/business/6-r...   \n",
       "2       https://www.moneycontrol.com/news/business/eco...   \n",
       "3       https://www.moneycontrol.com/news/business/mor...   \n",
       "4       https://www.moneycontrol.com/news/business/ive...   \n",
       "...                                                   ...   \n",
       "172940  https://www.cnbc.com/2023/06/16/south-korea-re...   \n",
       "172941  https://www.cnbc.com/2023/05/23/dollar-hits-6-...   \n",
       "172942  https://www.cnbc.com/2023/06/06/4point9-magnit...   \n",
       "172943  https://www.cnbc.com/2023/12/02/north-korea-sa...   \n",
       "172944  https://www.cnbc.com/2023/07/30/donald-trumps-...   \n",
       "\n",
       "                       source_id                  authors reactions  \\\n",
       "0       6560af039952a16bbc397224           [Faizan Javed]        {}   \n",
       "1       6560af039952a16bbc397224           [101Reporters]        {}   \n",
       "2       6560af039952a16bbc397224           [Faizan Javed]        {}   \n",
       "3       6560af039952a16bbc397224  [Shantanu Bhattacharji]        {}   \n",
       "4       6560af039952a16bbc397224           [M Snehanjali]        {}   \n",
       "...                          ...                      ...       ...   \n",
       "172940  6555995596fb32eef21a562e                       []        {}   \n",
       "172941  6555995596fb32eef21a562e                       []        {}   \n",
       "172942  6555995596fb32eef21a562e                       []        {}   \n",
       "172943  6555995596fb32eef21a562e                       []        {}   \n",
       "172944  6555995596fb32eef21a562e                       []        {}   \n",
       "\n",
       "                                                image_url is_premium_article  \\\n",
       "0       https://images.moneycontrol.com/static-mcnews/...              False   \n",
       "1       https://images.moneycontrol.com/static-mcnews/...              False   \n",
       "2       https://images.moneycontrol.com/static-mcnews/...              False   \n",
       "3       https://images.moneycontrol.com/static-mcnews/...              False   \n",
       "4       https://images.moneycontrol.com/static-mcnews/...              False   \n",
       "...                                                   ...                ...   \n",
       "172940  https://image.cnbcfm.com/api/v1/image/10725799...              False   \n",
       "172941  https://image.cnbcfm.com/api/v1/image/10707652...              False   \n",
       "172942  https://image.cnbcfm.com/api/v1/image/10725191...              False   \n",
       "172943  https://image.cnbcfm.com/api/v1/image/10734224...              False   \n",
       "172944  https://image.cnbcfm.com/api/v1/image/10727886...              False   \n",
       "\n",
       "               last_updated_time            published_time  \\\n",
       "0       2023-12-28T05:08:01+0000  2023-12-28T04:52:37+0000   \n",
       "1       2023-12-27T13:04:27+0000  2023-12-27T13:04:27+0000   \n",
       "2       2023-12-28T08:08:34+0000  2023-12-28T06:37:37+0000   \n",
       "3       2023-12-28T02:19:03+0000  2023-12-28T02:19:03+0000   \n",
       "4       2023-12-27T15:29:32+0000  2023-12-27T15:29:32+0000   \n",
       "...                          ...                       ...   \n",
       "172940  2023-06-16T05:23:42+0000  2023-06-16T05:23:42+0000   \n",
       "172941  2023-05-23T20:09:01+0000  2023-05-23T05:21:00+0000   \n",
       "172942  2023-06-06T17:08:30+0000  2023-06-06T17:08:30+0000   \n",
       "172943  2023-12-02T08:27:02+0000  2023-12-02T08:27:02+0000   \n",
       "172944  2023-07-30T21:49:30+0000  2023-07-30T21:49:30+0000   \n",
       "\n",
       "                                        short_description  \\\n",
       "0       The revised model articles of associations/bye...   \n",
       "1       Six relatives of Andhra Pradesh MLA died in a ...   \n",
       "2       From floods to droughts, extreme weather event...   \n",
       "3       A round-up of top newspaper stories to keep yo...   \n",
       "4       The hearing-aid tech will be licensed to any g...   \n",
       "...                                                   ...   \n",
       "172940  The debris was salvaged on Thursday, the milit...   \n",
       "172941  The U.S. dollar hit a two-month high against a...   \n",
       "172942  An earthquake with a preliminary magnitude of ...   \n",
       "172943  North Korea said it would mobilise its war det...   \n",
       "172944  Trump had been seeking punitive damages of $47...   \n",
       "\n",
       "                                                     tags  \\\n",
       "0              [Economy,India,Commerce Ministry,EPC,FIEO]   \n",
       "1                                          [Car accident]   \n",
       "2                          [Economy,India,Inflation,food]   \n",
       "3       [BSE, NSE, Go First, Sony, ZEE, Wipro, Cogniza...   \n",
       "4                                              [Dave Lee]   \n",
       "...                                                   ...   \n",
       "172940  [Defense,Government and politics,Foreign polic...   \n",
       "172941  [Breaking News: Markets,Forex markets,Economic...   \n",
       "172942      [Earthquakes,Haiti,Environment,business news]   \n",
       "172943   [Breaking News: Politics,Politics,business news]   \n",
       "172944  [CNN,Adolf Hitler,Voting,United States,Governm...   \n",
       "\n",
       "                                                    title  \\\n",
       "0       Commerce ministry proposes new bye-laws for el...   \n",
       "1       6 relatives of Andhra Pradesh MLA die in car a...   \n",
       "2       Govt hopeful of 'bountiful harvest' amid food ...   \n",
       "3       Morning Scan: All the big stories to get you s...   \n",
       "4       I’ve had trouble hearing, then I tried new gla...   \n",
       "...                                                   ...   \n",
       "172940  South Korea recovers part of rocket used in No...   \n",
       "172941  Dollar higher as U.S. debt ceiling concerns ke...   \n",
       "172942  4.9 magnitude quake strikes southern Haiti; 4 ...   \n",
       "172943  North Korea says interference in its satellite...   \n",
       "172944  Donald Trump’s defamation lawsuit against CNN ...   \n",
       "\n",
       "                                        ai_generated_info      prob  id decay  \\\n",
       "0       {'summary': {'OpenHermes_WatermelonSapphireZip...  0.407601  20   0.9   \n",
       "1       {'summary': {'OpenHermes_WatermelonSapphireZip...  0.590986  20   0.9   \n",
       "2       {'summary': {'OpenHermes_WatermelonSapphireZip...  0.547820  20   0.9   \n",
       "3       {'summary': {'OpenHermes_WatermelonSapphireZip...  0.350942  20   0.9   \n",
       "4       {'summary': {'OpenHermes_WatermelonSapphireZip...  0.294836  20   0.9   \n",
       "...                                                   ...       ...  ..   ...   \n",
       "172940  {'summary': {'OpenHermes_WatermelonSapphireZip...  0.681903  15   0.9   \n",
       "172941  {'summary': {'OpenHermes_WatermelonSapphireZip...  0.712452  15   0.9   \n",
       "172942  {'summary': {'OpenHermes_WatermelonSapphireZip...  0.133102  15   0.9   \n",
       "172943  {'summary': {'OpenHermes_WatermelonSapphireZip...  0.395457  15   0.9   \n",
       "172944  {'summary': {'OpenHermes_WatermelonSapphireZip...  0.935789  15   0.9   \n",
       "\n",
       "          source_name  \n",
       "0       money-control  \n",
       "1       money-control  \n",
       "2       money-control  \n",
       "3       money-control  \n",
       "4       money-control  \n",
       "...               ...  \n",
       "172940           cnbc  \n",
       "172941           cnbc  \n",
       "172942           cnbc  \n",
       "172943           cnbc  \n",
       "172944           cnbc  \n",
       "\n",
       "[172945 rows x 17 columns]"
      ]
     },
     "execution_count": 13,
     "metadata": {},
     "output_type": "execute_result"
    }
   ],
   "source": [
    "articles_df"
   ]
  },
  {
   "cell_type": "code",
   "execution_count": 12,
   "id": "d319f23f-4cbd-4415-94cc-1c4f8557e40f",
   "metadata": {
    "tags": []
   },
   "outputs": [
    {
     "data": {
      "text/plain": [
       "source_name\n",
       "bbc                 0.0\n",
       "bq-prime            0.0\n",
       "business-insider    0.0\n",
       "business-world      0.0\n",
       "cnbc                0.0\n",
       "cnbc-tv-18          0.0\n",
       "economic-times      0.0\n",
       "economist           0.0\n",
       "finshots            0.0\n",
       "groww               0.0\n",
       "inc42               0.0\n",
       "investopedia        0.0\n",
       "live-mint           0.0\n",
       "money-control       0.0\n",
       "navi                0.0\n",
       "reuters             0.0\n",
       "wint-wealth         0.0\n",
       "zerodha-varsity     0.0\n",
       "Name: url, dtype: float64"
      ]
     },
     "execution_count": 12,
     "metadata": {},
     "output_type": "execute_result"
    }
   ],
   "source": [
    "round(100 * (articles_df.groupby('source_name')['url'].count() - articles_df.groupby('source_name')['url'].nunique())/articles_df.groupby('source_name')['url'].count())"
   ]
  },
  {
   "cell_type": "code",
   "execution_count": 14,
   "id": "a8589380-598d-4bf7-b50f-92f7816f2edf",
   "metadata": {
    "scrolled": true,
    "tags": []
   },
   "outputs": [
    {
     "data": {
      "text/plain": [
       "url\n",
       "https://economictimes.indiatimes.com/industry/auto/auto-components/adoption-of-electric-vehicles-expected-to-accelerate-in-coming-years-rane-brake-linings-ltd/articleshow/101434376.cms                  1\n",
       "https://economictimes.indiatimes.com/industry/auto/auto-components/assurance-intl-goodyear-unveil-new-range-of-filters-batteries-in-india/articleshow/102611689.cms                                       1\n",
       "https://economictimes.indiatimes.com/industry/auto/auto-components/auto-component-industry-reports-highest-turnover-in-fy23-aims-to-log-double-digit-growth-this-fiscal/articleshow/102501507.cms         1\n",
       "https://economictimes.indiatimes.com/industry/auto/auto-components/delphi-tvs-technologies-to-take-up-capital-expansion-at-chennai-plant/articleshow/99403761.cms                                         1\n",
       "https://economictimes.indiatimes.com/industry/auto/auto-components/eveready-industries-cuts-number-of-direct-distributors-to-1000-from-5000-earlier/articleshow/100279158.cms                             1\n",
       "https://economictimes.indiatimes.com/industry/auto/auto-components/exide-industries-expects-to-regain-pre-covid-margin-in-1-2-years/articleshow/102540672.cms                                             1\n",
       "https://economictimes.indiatimes.com/industry/auto/auto-components/exide-industries-invests-over-rs-100-crore-in-advanced-chemistry-battery-cells-making-arm/articleshow/103476804.cms                    1\n",
       "https://economictimes.indiatimes.com/industry/auto/auto-components/indias-automotive-industry-poised-to-rank-number-3-in-world-by-2030-govt/articleshow/103138939.cms                                     1\n",
       "https://economictimes.indiatimes.com/industry/auto/auto-components/jay-bharat-maruti-to-invest-upto-rs-350-crore-to-set-up-two-plants/articleshow/100166869.cms                                           1\n",
       "https://economictimes.indiatimes.com/industry/auto/auto-components/modulus-alternatives-infuses-rs-105-crore-in-shivam-autotech-commits-total-investment-of-rs-150-crore/articleshow/103816229.cms        1\n",
       "https://economictimes.indiatimes.com/industry/auto/auto-components/motherson-to-acquire-bengaluru-based-rollon-hydraulics/articleshow/101577185.cms                                                       1\n",
       "https://economictimes.indiatimes.com/industry/auto/auto-components/production-of-advanced-chemistry-cell-batteries-in-india-likely-to-start-by-jan-2024-mahindra-nath-pandey/articleshow/103609863.cms    1\n",
       "https://economictimes.indiatimes.com/industry/auto/auto-components/ramkrishna-forgings-acquires-multitech-auto-mal-metalliks-for-rs-205-crore/articleshow/102072925.cms                                   1\n",
       "https://economictimes.indiatimes.com/industry/auto/auto-components/samvardhana-motherson-international-to-acquire-assets-shares-of-dr-schneider-group-entities/articleshow/102075761.cms                  1\n",
       "https://economictimes.indiatimes.com/industry/auto/auto-components/schaeffler-india-ramps-up-capacity-at-savli-plant-in-gujarat/articleshow/101333988.cms                                                 1\n",
       "https://economictimes.indiatimes.com/industry/auto/auto-components/schaeffler-india-to-fully-acquire-auto-spare-parts-platform-koovers-for-rs-142-4-cr/articleshow/103135611.cms                          1\n",
       "https://economictimes.indiatimes.com/industry/auto/auto-components/sona-comstar-inks-licensing-pact-with-equipmake-to-produce-ev-components/articleshow/100276680.cms                                     1\n",
       "https://economictimes.indiatimes.com/industry/auto/auto-components/uno-minda-announces-senior-management-restructuring/articleshow/99963286.cms                                                           1\n",
       "https://economictimes.indiatimes.com/industry/auto/auto-components/uno-minda-to-enhance-stake-in-jv-firm-to-76-per-cent/articleshow/104039939.cms                                                         1\n",
       "https://economictimes.indiatimes.com/industry/auto/auto-news/ashok-leyland-embarks-on-manzil-ka-safar-drive/articleshow/102141497.cms                                                                     1\n",
       "https://economictimes.indiatimes.com/industry/auto/auto-news/audi-india-reports-over-two-fold-jump-in-sales-in-january-march-quarter/articleshow/99606693.cms                                             1\n",
       "https://economictimes.indiatimes.com/industry/auto/auto-news/auto-dealers-satisfaction-improves-viability-policy-concerns-remain-fada/articleshow/103809371.cms                                           1\n",
       "https://economictimes.indiatimes.com/industry/auto/auto-news/auto-dealers-should-also-open-vehicle-scrapping-facilities-nitin-gadkari/articleshow/103658725.cms                                           1\n",
       "https://economictimes.indiatimes.com/industry/auto/auto-news/automobile-dealership-industry-revenues-to-grow-by-11-13-in-fy24-icra/articleshow/100325564.cms                                              1\n",
       "https://economictimes.indiatimes.com/industry/auto/auto-news/automobile-exports-from-india-dip-28-pc-in-q1-as-several-markets-hit-by-monetary-crisis/articleshow/101796052.cms                            1\n",
       "https://economictimes.indiatimes.com/industry/auto/auto-news/automobile-retail-sales-see-double-digit-growth-in-fy23-pv-offtake-at-record-high/articleshow/99244635.cms                                   1\n",
       "https://economictimes.indiatimes.com/industry/auto/auto-news/bajaj-auto-april-total-sales-rise-7-pc-to-331278-units/articleshow/99929568.cms                                                              1\n",
       "https://economictimes.indiatimes.com/industry/auto/auto-news/bajaj-auto-may-sales-up-29-pc-at-355148-units/articleshow/100670964.cms                                                                      1\n",
       "https://economictimes.indiatimes.com/industry/auto/auto-news/bajaj-auto-total-sales-fall-15-pc-to-341648-units-in-august/articleshow/103269195.cms                                                        1\n",
       "https://economictimes.indiatimes.com/industry/auto/auto-news/bharat-ncap-to-help-elevate-vehicle-safety-standards-in-india-automakers/articleshow/102944219.cms                                           1\n",
       "Name: url, dtype: int64"
      ]
     },
     "execution_count": 14,
     "metadata": {},
     "output_type": "execute_result"
    }
   ],
   "source": [
    "articles_df.groupby('url')['url'].count().nlargest(30)"
   ]
  },
  {
   "cell_type": "code",
   "execution_count": 18,
   "id": "9289315b-5049-4d06-b94f-9a0bd891b8b0",
   "metadata": {
    "tags": []
   },
   "outputs": [],
   "source": [
    "articles_df = articles_df.drop_duplicates('url')"
   ]
  },
  {
   "cell_type": "code",
   "execution_count": 15,
   "id": "8f78d762-1f07-4a41-badb-0aa33f3377a1",
   "metadata": {
    "tags": []
   },
   "outputs": [
    {
     "data": {
      "text/plain": [
       "source_name\n",
       "bbc                  2044\n",
       "bq-prime             1117\n",
       "business-insider     2872\n",
       "business-world       7753\n",
       "cnbc                15576\n",
       "cnbc-tv-18          12635\n",
       "economic-times      24911\n",
       "economist             554\n",
       "finshots             1760\n",
       "groww                1736\n",
       "inc42                 237\n",
       "investopedia        20448\n",
       "live-mint           27469\n",
       "money-control       48339\n",
       "navi                 1714\n",
       "reuters              1163\n",
       "wint-wealth          1743\n",
       "zerodha-varsity       874\n",
       "Name: url, dtype: int64"
      ]
     },
     "execution_count": 15,
     "metadata": {},
     "output_type": "execute_result"
    }
   ],
   "source": [
    "articles_df.groupby('source_name')['url'].count()"
   ]
  },
  {
   "cell_type": "code",
   "execution_count": 20,
   "id": "93be9fef-8beb-498e-938b-f60b510c1d7e",
   "metadata": {
    "tags": []
   },
   "outputs": [
    {
     "data": {
      "text/plain": [
       "url\n",
       "https://economictimes.indiatimes.com/industry/auto/auto-components/adoption-of-electric-vehicles-expected-to-accelerate-in-coming-years-rane-brake-linings-ltd/articleshow/101434376.cms             1\n",
       "https://economictimes.indiatimes.com/industry/auto/auto-components/assurance-intl-goodyear-unveil-new-range-of-filters-batteries-in-india/articleshow/102611689.cms                                  1\n",
       "https://economictimes.indiatimes.com/industry/auto/auto-components/auto-component-industry-reports-highest-turnover-in-fy23-aims-to-log-double-digit-growth-this-fiscal/articleshow/102501507.cms    1\n",
       "https://economictimes.indiatimes.com/industry/auto/auto-components/delphi-tvs-technologies-to-take-up-capital-expansion-at-chennai-plant/articleshow/99403761.cms                                    1\n",
       "https://economictimes.indiatimes.com/industry/auto/auto-components/eveready-industries-cuts-number-of-direct-distributors-to-1000-from-5000-earlier/articleshow/100279158.cms                        1\n",
       "Name: source_name, dtype: int64"
      ]
     },
     "execution_count": 20,
     "metadata": {},
     "output_type": "execute_result"
    }
   ],
   "source": [
    "articles_df.groupby('url')['source_name'].nunique().nlargest()"
   ]
  },
  {
   "cell_type": "code",
   "execution_count": 88,
   "id": "0b775223-1144-4bfb-91f2-a9684d712f41",
   "metadata": {
    "tags": []
   },
   "outputs": [
    {
     "data": {
      "text/plain": [
       "array(['https://www.wintwealth.com/blog/a-step-by-step-guide-to-uan-generation-and-activation-process',\n",
       "       'https://www.wintwealth.com/blog/a-step-by-step-guide-to-uan-generation-and-activation-process-2',\n",
       "       'https://navi.com/blog/uan/'], dtype=object)"
      ]
     },
     "execution_count": 88,
     "metadata": {},
     "output_type": "execute_result"
    }
   ],
   "source": [
    "articles_df[articles_df.title == 'A Step-by-Step Guide to UAN Generation and Activation Process'].url.values"
   ]
  },
  {
   "cell_type": "code",
   "execution_count": 89,
   "id": "c05e32f3-4c8e-4680-9d78-c54051b5bbd0",
   "metadata": {
    "tags": []
   },
   "outputs": [
    {
     "data": {
      "text/plain": [
       "array(['https://economictimes.indiatimes.com/news/economy/foreign-trade/commerce-ministry-asks-exporters-to-focus-on-potential-sectors-key-markets-to-boost-exports/articleshow/101464696.cms',\n",
       "       'https://www.cnbctv18.com/business/commerce-ministry-asks-exporters-to-focus-on-potential-sectors-key-markets-to-boost-exports-17105661.htm'],\n",
       "      dtype=object)"
      ]
     },
     "execution_count": 89,
     "metadata": {},
     "output_type": "execute_result"
    }
   ],
   "source": [
    "articles_df[articles_df.title == 'Commerce ministry asks exporters to focus on potential sectors, key markets to boost exports'].url.values"
   ]
  },
  {
   "cell_type": "code",
   "execution_count": 96,
   "id": "403cd8dd-51a8-4ff5-b175-b6025e9aa1a4",
   "metadata": {
    "tags": []
   },
   "outputs": [
    {
     "data": {
      "text/plain": [
       "array(['https://www.cnbctv18.com/market/oil-extends-gains-as-opec-to-mull-deeper-cuts-18362691.htm',\n",
       "       'https://www.cnbc.com/2023/11/20/oil-extends-gains-as-opec-to-mull-deeper-cuts.html'],\n",
       "      dtype=object)"
      ]
     },
     "execution_count": 96,
     "metadata": {},
     "output_type": "execute_result"
    }
   ],
   "source": [
    "articles_df[articles_df.title == 'Oil extends gains as OPEC+ to mull deeper cuts'].url.values"
   ]
  },
  {
   "cell_type": "code",
   "execution_count": 94,
   "id": "4d929ab5-6b35-4d0f-b389-ad51cebe88ae",
   "metadata": {
    "tags": []
   },
   "outputs": [],
   "source": [
    "pd.options.display.max_rows = 200"
   ]
  },
  {
   "cell_type": "code",
   "execution_count": 95,
   "id": "c7afa892-d824-4003-9545-5f08a9cb0776",
   "metadata": {
    "scrolled": true,
    "tags": []
   },
   "outputs": [
    {
     "data": {
      "text/plain": [
       "title\n",
       "A Step-by-Step Guide to UAN Generation and Activation Process                                                     [wint-wealth, navi]\n",
       "Adani Ports' move to buy back USD 130-million bonds an opportunistic exchange: S&P Global Ratings        [economic-times, cnbc-tv-18]\n",
       "Adani Wilmar files police complaint against sale of counterfeit Fortune brand products                   [economic-times, cnbc-tv-18]\n",
       "Airbnb inks pact with tourism ministry to promote heritage stays, cultural tourism                       [economic-times, cnbc-tv-18]\n",
       "Amtrak train with 198 passengers derails after hitting truck on tracks in Southern California                  [cnbc, economic-times]\n",
       "B'luru, H'bad, Chennai contribute 59 pc to total office leasing across 7 cities in Apr-Jun: Report       [economic-times, cnbc-tv-18]\n",
       "BHEL logs over 17% rise in new orders in 2022-23                                                         [economic-times, cnbc-tv-18]\n",
       "Bajaj Allianz Life declares bonus worth Rs 1,201 crore in FY23                                           [economic-times, cnbc-tv-18]\n",
       "Bank of Baroda launches facility for cash withdrawals using UPI on its ATMs                              [economic-times, cnbc-tv-18]\n",
       "Boris Johnson quits as UK lawmaker after being told he will be sanctioned for misleading Parliament            [cnbc, economic-times]\n",
       "Byju's staff say morale waning amid turmoil at Indian edtech firm                                                  [cnbc, cnbc-tv-18]\n",
       "CBI arrests joint DG of foreign trade, two others in bribery case                                        [economic-times, cnbc-tv-18]\n",
       "Cairn Oil & Gas commences gas flow from Hazarigaon field in North-East                                   [economic-times, cnbc-tv-18]\n",
       "Chinese employers ordered to limit outdoor work as country struggles with heat, flooding and drought           [economic-times, cnbc]\n",
       "Coal ministry transfers Rs 704 crore upfront payment to 6 coal-bearing states                            [economic-times, cnbc-tv-18]\n",
       "Commerce ministry asks exporters to focus on potential sectors, key markets to boost exports             [economic-times, cnbc-tv-18]\n",
       "DGCA puts SpiceJet under enhanced surveillance; airline refutes                                          [economic-times, cnbc-tv-18]\n",
       "Delhi govt collects Rs 1,700 crore in excise duty, VAT in April-June quarter                             [economic-times, cnbc-tv-18]\n",
       "ED arrests two M3M promoters in money laundering case                                                    [economic-times, cnbc-tv-18]\n",
       "FPIs bring in Rs 30,945 cr in May on strong economic fundamentals                                        [economic-times, cnbc-tv-18]\n",
       "FPIs' buying spree continues; invest Rs 45,365 cr in equities in July                                    [economic-times, cnbc-tv-18]\n",
       "Factors Affecting the Performance of Mutual Funds                                                                [wint-wealth, groww]\n",
       "Finance Ministry sets up panel to review pension system for government employees                         [economic-times, cnbc-tv-18]\n",
       "GSTN looking for consultancy firm to prepare roadmap for transitioning IT systems to GST 2.0             [economic-times, cnbc-tv-18]\n",
       "GlobalFoundries sues IBM, says trade secrets were unlawfully given to Japan's Rapidus                              [cnbc, cnbc-tv-18]\n",
       "Gold set to break longest losing streak in 7 years as bond selloff cools                                           [cnbc, cnbc-tv-18]\n",
       "Green funding: SBI plans to bundle home loans with rooftop solar installations                           [economic-times, cnbc-tv-18]\n",
       "HDFC Bank starts rebranding HDFC Ltd offices, branches after merger                                      [economic-times, cnbc-tv-18]\n",
       "Have commenced dispensing CNG and PNG connections to households: IndianOil                               [economic-times, cnbc-tv-18]\n",
       "How $6 billion in Ukraine aid collapsed in a government funding bill despite big support in Congress           [cnbc, economic-times]\n",
       "How to Claim Fixed Deposit After Death?                                                                          [wint-wealth, groww]\n",
       "IMF board to meet on July 12 to review Pakistan's loan agreement                                         [economic-times, cnbc-tv-18]\n",
       "India removes additional duties on certain US products                                                   [economic-times, cnbc-tv-18]\n",
       "India to be exporter of renewables equipment, solar manufacturing to touch 100GW by 2026                 [economic-times, cnbc-tv-18]\n",
       "India to remove retaliatory customs duties on eight US products                                          [economic-times, cnbc-tv-18]\n",
       "India wins bid to host international conference on cement in 2027                                        [economic-times, cnbc-tv-18]\n",
       "India's economic narrative brighter; takes charismatic lead in global economic evolution: K M Birla      [economic-times, cnbc-tv-18]\n",
       "India, Saudi Arabia tie up for electrical interconnections, green hydrogen                               [economic-times, cnbc-tv-18]\n",
       "Inox India files draft papers with Sebi for IPO                                                          [economic-times, cnbc-tv-18]\n",
       "Manufacturing operations disrupted at Sikkim plant due to flash floods: Alembic Pharma                   [economic-times, cnbc-tv-18]\n",
       "Mcap of eight of top-10 valued firms climbs Rs 82,169 cr last week; HDFC twins sparkle                   [economic-times, cnbc-tv-18]\n",
       "Mobile retail firm Celekt launches 'Mission E-waste'                                                     [economic-times, cnbc-tv-18]\n",
       "Moderation in inflation expected to help gross margin expansion: Dabur                                   [economic-times, cnbc-tv-18]\n",
       "NARCL likely to wind up Srei group's equipment finance arm; retain SIFL for business continuity          [economic-times, cnbc-tv-18]\n",
       "NLC India board approves raising up to Rs 5,000 crore via bonds                                          [economic-times, cnbc-tv-18]\n",
       "NLC India inks pact to supply 300 MW solar power to Rajasthan                                            [economic-times, cnbc-tv-18]\n",
       "NSE to introduce WTI crude oil, natural gas futures contracts from May 15                                [economic-times, cnbc-tv-18]\n",
       "NSE warns investors against entities running dabba trading activities                                    [economic-times, cnbc-tv-18]\n",
       "Nexus Select Trust REIT IPO receives 57% subscription on Day 2 of offer                                  [economic-times, cnbc-tv-18]\n",
       "North Korean leader Kim Jong Un arrives in Russia before an expected meeting with Putin                        [economic-times, cnbc]\n",
       "Oil extends gains as OPEC+ to mull deeper cuts                                                                     [cnbc-tv-18, cnbc]\n",
       "Oil settles lower but ends quarter up 28% on tight global supply                                                   [cnbc-tv-18, cnbc]\n",
       "Oil steady as markets weigh supply cuts against weak economic data                                                 [cnbc, cnbc-tv-18]\n",
       "Oil up 1% on signs of slow US output, posts first weekly loss in 8 weeks                                           [cnbc-tv-18, cnbc]\n",
       "PNB MetLife's claim settlement ratio surpasses 99% in FY23                                               [economic-times, cnbc-tv-18]\n",
       "PSU banks set target for selling flagship government insurance schemes in FY24                           [economic-times, cnbc-tv-18]\n",
       "Paras Buildtech targets Rs 108 crore revenue from new commercial project in Gurugram                     [economic-times, cnbc-tv-18]\n",
       "PepsiCo reports 'double-digit organic revenue growth' in March quarter in India                          [economic-times, cnbc-tv-18]\n",
       "RBI approves AP Hota's appointment as Federal Bank's non-executive chairman                              [economic-times, cnbc-tv-18]\n",
       "RBI expands scope of TReDS, includes insurers as participants                                            [economic-times, cnbc-tv-18]\n",
       "RBI selects McKinsey and Company, Accenture Solutions to use AI, ML to improve regulatory supervision    [economic-times, cnbc-tv-18]\n",
       "RBI to harmonise Internal Ombudsman framework to strengthen customer grievance mechanism                 [economic-times, cnbc-tv-18]\n",
       "Reliance seeks shareholder nod to appoint Ambani as head for another 5 years at nil salary               [economic-times, cnbc-tv-18]\n",
       "Russia downs 20 drones over Crimea following a spate of attacks on Moscow                                      [cnbc, economic-times]\n",
       "Russia loses election to three UN bodies over Ukraine                                                          [cnbc, economic-times]\n",
       "SBI Funds completes liquidation of assets in Franklin Templeton MF's six debt schemes                    [economic-times, cnbc-tv-18]\n",
       "SJVN inks two pacts to supply 1,200 MW solar power to Punjab                                             [economic-times, cnbc-tv-18]\n",
       "Sai Silks fixes IPO price band at Rs 210-222/share                                                       [economic-times, cnbc-tv-18]\n",
       "Sanofi board approves demerger of its consumer healthcare business                                       [economic-times, cnbc-tv-18]\n",
       "Sebi mulls prohibiting differential rights to AIF investors                                              [economic-times, cnbc-tv-18]\n",
       "Sebi orders attachment of bank, demat, MF accounts of Videocon's Dhoot to recover dues                   [economic-times, cnbc-tv-18]\n",
       "TVS Motor expects growth momentum to continue this fiscal                                                [economic-times, cnbc-tv-18]\n",
       "TVS Supply Chain Solutions gets Sebi nod to float IPO                                                    [economic-times, cnbc-tv-18]\n",
       "Tata Power DDL inks pact with NTPC Vidyut Vyapar Nigam for hydro power supply                            [economic-times, cnbc-tv-18]\n",
       "Tata Steel offers Rs 83 lakh funding for R&D projects in low carbon segment                              [economic-times, cnbc-tv-18]\n",
       "Toyota's Japan production at standstill as system failure hits assembly plants                                 [economic-times, cnbc]\n",
       "Tupperware shares soar on agreement with lenders to restructure debt                                               [cnbc, cnbc-tv-18]\n",
       "UPS shares fall after delivery giant reports disappointing earnings                                                [cnbc, cnbc-tv-18]\n",
       "Ukraine targets a key Crimean city a day after striking Russia's Black Sea Fleet headquarters                  [economic-times, cnbc]\n",
       "Ukraine's dam collapse is both a fast-moving disaster and a slow-moving ecological catastrophe                 [cnbc, economic-times]\n",
       "Unsold homes highest in Thane at 1.07 lakh units, lowest in Chennai at 19,900 units: PropEquity          [economic-times, cnbc-tv-18]\n",
       "Urban Enviro Waste Management to launch IPO on June 12                                                   [economic-times, cnbc-tv-18]\n",
       "V Jagannathan quits from Board of Star Health and Allied Insurance Company                               [economic-times, cnbc-tv-18]\n",
       "Wipro aims to be among top three companies in lighting industry by FY25-end                              [economic-times, cnbc-tv-18]\n",
       "Name: source_name, dtype: object"
      ]
     },
     "execution_count": 95,
     "metadata": {},
     "output_type": "execute_result"
    }
   ],
   "source": [
    "articles_df[articles_df.groupby(['title'])['source_name'].transform('nunique') > 1].groupby('title')['source_name'].unique()"
   ]
  },
  {
   "cell_type": "code",
   "execution_count": 16,
   "id": "28d7cfbd-21c5-4606-8752-078b2706ac7f",
   "metadata": {
    "tags": []
   },
   "outputs": [
    {
     "data": {
      "text/plain": [
       "source_name\n",
       "bbc                 0.011819\n",
       "bq-prime            0.006459\n",
       "business-insider    0.016606\n",
       "business-world      0.044829\n",
       "cnbc                0.090063\n",
       "cnbc-tv-18          0.073058\n",
       "economic-times      0.144040\n",
       "economist           0.003203\n",
       "finshots            0.010177\n",
       "groww               0.010038\n",
       "inc42               0.001370\n",
       "investopedia        0.118234\n",
       "live-mint           0.158831\n",
       "money-control       0.279505\n",
       "navi                0.009911\n",
       "reuters             0.006725\n",
       "wint-wealth         0.010078\n",
       "zerodha-varsity     0.005054\n",
       "Name: url, dtype: float64"
      ]
     },
     "execution_count": 16,
     "metadata": {},
     "output_type": "execute_result"
    }
   ],
   "source": [
    "articles_df.groupby('source_name')['url'].count()/len(articles_df)"
   ]
  },
  {
   "cell_type": "markdown",
   "id": "8c8a03f7-a749-4322-b158-31ef45398ebb",
   "metadata": {},
   "source": [
    "### Extracting cat, subcat"
   ]
  },
  {
   "cell_type": "code",
   "execution_count": 68,
   "id": "21ec03a3-bea8-4482-92db-7f9317737fc2",
   "metadata": {
    "tags": []
   },
   "outputs": [
    {
     "data": {
      "text/plain": [
       "array(['https://www.bbc.com/news/business-65022389',\n",
       "       'https://www.bbc.com/news/business-65623561',\n",
       "       'https://www.bbc.com/news/business-67125913',\n",
       "       'https://www.bbc.com/news/business-65187441',\n",
       "       'https://www.bbc.com/news/business-65272827'], dtype=object)"
      ]
     },
     "execution_count": 68,
     "metadata": {},
     "output_type": "execute_result"
    }
   ],
   "source": [
    "articles_df[articles_df.source_name == 'bbc'].sample(5).url.values"
   ]
  },
  {
   "cell_type": "code",
   "execution_count": 57,
   "id": "de181628-01b2-48f4-9aed-75bc8e579781",
   "metadata": {
    "tags": []
   },
   "outputs": [
    {
     "data": {
      "text/plain": [
       "array(['https://www.bqprime.com/business/eight-indigo-passengers-left-stranded-in-bengaluru-airline-blames-lack-of-time',\n",
       "       'https://www.bqprime.com/business/government-cuts-windfall-tax-on-crude-diesel',\n",
       "       'https://www.bqprime.com/business/maharashtra-needs-153-trillion-investment-in-6-years-for-its-1-trillion-economy-vision',\n",
       "       'https://www.bqprime.com/business/indigo-parent-interglobe-plans-to-launch-electric-air-taxi-service-in-india-in-2026',\n",
       "       'https://www.bqprime.com/markets/fpis-stay-net-sellers-for-the-14th-straight-day-3'],\n",
       "      dtype=object)"
      ]
     },
     "execution_count": 57,
     "metadata": {},
     "output_type": "execute_result"
    }
   ],
   "source": [
    "articles_df[articles_df.source_name == 'bq-prime'].sample(5).url.values"
   ]
  },
  {
   "cell_type": "code",
   "execution_count": 66,
   "id": "6881a6d2-97ea-4558-9318-2879c998d990",
   "metadata": {
    "tags": []
   },
   "outputs": [
    {
     "data": {
      "text/plain": [
       "array(['https://www.businessinsider.com/sc/how-twilio-is-embracing-ai-to-personalize-engagement',\n",
       "       'https://www.businessinsider.com/guides/learning/princeton-university-free-online-courses',\n",
       "       'https://www.businessinsider.com/moving-to-leaving-florida-reasons-home-prices-affordability-weather-2023-11',\n",
       "       'https://www.businessinsider.com/kaiser-permanente-worker-strike-union-patient-health-risk-2023-9',\n",
       "       'https://www.businessinsider.com/why-apple-has-smarter-pricing-strategy-than-facebook-headset-2023-6'],\n",
       "      dtype=object)"
      ]
     },
     "execution_count": 66,
     "metadata": {},
     "output_type": "execute_result"
    }
   ],
   "source": [
    "# no proper structure cat in business insider\n",
    "articles_df[articles_df.source_name == 'business-insider'].sample(5).url.values"
   ]
  },
  {
   "cell_type": "code",
   "execution_count": 67,
   "id": "98196182-892e-4fe6-bb09-437fa885b05c",
   "metadata": {
    "tags": []
   },
   "outputs": [
    {
     "data": {
      "text/plain": [
       "array(['https://www.bworldonline.com/world/2023/11/16/557974/czech-government-freezes-russian-states-real-estate-assets/',\n",
       "       'https://www.bworldonline.com/infographics/2023/07/26/535964/philippines-ranks-12th-most-attractive-country-for-offshore-services/',\n",
       "       'https://www.bworldonline.com/world/2023/07/21/535324/chinese-hackers-breach-us-ambassadors-emails-wsj/',\n",
       "       'https://www.bworldonline.com/corporate/2023/04/21/518191/globe-smart-still-keen-on-longer-sim-deadline/',\n",
       "       'https://www.bworldonline.com/agribusiness/2023/10/02/549016/phl-2024-broiler-chicken-production-forecast-at-1-53-million-metric-tons/'],\n",
       "      dtype=object)"
      ]
     },
     "execution_count": 67,
     "metadata": {},
     "output_type": "execute_result"
    }
   ],
   "source": [
    "articles_df[articles_df.source_name == 'business-world'].sample(5).url.values"
   ]
  },
  {
   "cell_type": "code",
   "execution_count": 71,
   "id": "d24eb800-7aa6-45e6-8038-f3f9f2d2ce97",
   "metadata": {
    "tags": []
   },
   "outputs": [
    {
     "data": {
      "text/plain": [
       "array(['https://www.cnbc.com/2023/08/31/trump-pleads-not-guilty-to-election-charges-in-georgia-waives-arraignment.html',\n",
       "       'https://www.cnbc.com/2023/08/24/first-trial-of-trump-co-defendant-in-georgia-case-will-begin-oct-23-judge-rules.html',\n",
       "       'https://www.cnbc.com/2023/11/02/starbucks-sbux-earnings-q4-2023.html',\n",
       "       'https://www.cnbc.com/2023/09/17/russell-brands-agency-terminates-ties-following-sexual-assault-allegations.html',\n",
       "       'https://www.cnbc.com/2023/10/04/health-care-workers-strike-at-kaiser-permanente.html'],\n",
       "      dtype=object)"
      ]
     },
     "execution_count": 71,
     "metadata": {},
     "output_type": "execute_result"
    }
   ],
   "source": [
    "articles_df[articles_df.source_name == 'cnbc'].sample(5).url.values"
   ]
  },
  {
   "cell_type": "code",
   "execution_count": 75,
   "id": "d0a29465-4ee0-4f07-8d99-2516d73d4143",
   "metadata": {
    "tags": []
   },
   "outputs": [
    {
     "data": {
      "text/plain": [
       "array(['https://www.cnbctv18.com/finance/canfin-homes-ceo-exclusive-interview-suresh-srinivasan-iyer-fraud-ambala-branch-cheque-process-17333691.htm',\n",
       "       'https://www.cnbctv18.com/market/nse-signs-mou-with-maharashtra-moneybee-institute-to-create-financial-literacy-nagpur-devendra-fadnavis-16941571.htm',\n",
       "       'https://www.cnbctv18.com/market/stocks/tata-teleservices-new-ucaas-launch-microsoft-teams-integration-shares-rally-17275581.htm',\n",
       "       'https://www.cnbctv18.com/economy/indian-govt-fta-fears-eu-carbon-tariffs-will-raise-compliance-costs-impede-free-trade-17144621.htm',\n",
       "       'https://www.cnbctv18.com/market/commodities/saxo-bank-forecasts-gold-prices-to-reach-2100-dollar-per-ounce-asset-class-investment-16494651.htm'],\n",
       "      dtype=object)"
      ]
     },
     "execution_count": 75,
     "metadata": {},
     "output_type": "execute_result"
    }
   ],
   "source": [
    "articles_df[articles_df.source_name == 'cnbc-tv-18'].sample(5).url.values"
   ]
  },
  {
   "cell_type": "code",
   "execution_count": 97,
   "id": "0facab41-014e-48b5-9efc-87795ea1c0b5",
   "metadata": {
    "tags": []
   },
   "outputs": [
    {
     "data": {
      "text/plain": [
       "array(['https://economictimes.indiatimes.com/news/india/mumbai-creek-tragedy-bodies-of-2-boys-found-1-still-missing/articleshow/101815438.cms',\n",
       "       'https://economictimes.indiatimes.com/news/international/us/demon-slayer-season-4-what-you-need-to-know/articleshow/104449422.cms',\n",
       "       'https://economictimes.indiatimes.com/news/india/heavy-rain-lashes-delhi-waterlogging-causes-traffic-congestion-in-parts-of-city/articleshow/101788655.cms',\n",
       "       'https://economictimes.indiatimes.com/news/india/sc-trashes-appeal-of-former-isro-scientist-against-dismissal-from-service/articleshow/100232069.cms',\n",
       "       'https://economictimes.indiatimes.com/news/politics-and-nation/shiv-sena-ubt-leader-sanjay-raut-backs-yogi-adityanath-on-encounters-says-no-question-of-caste-religion-if-up-cm-wants-to-end-mafia-raj/articleshow/99499420.cms'],\n",
       "      dtype=object)"
      ]
     },
     "execution_count": 97,
     "metadata": {},
     "output_type": "execute_result"
    }
   ],
   "source": [
    "articles_df[articles_df.source_name == 'economic-times'].sample(5).url.values"
   ]
  },
  {
   "cell_type": "code",
   "execution_count": 26,
   "id": "53477f71-20d9-467a-9332-bdbdd2d7e615",
   "metadata": {
    "tags": []
   },
   "outputs": [
    {
     "data": {
      "text/plain": [
       "array(['https://www.economist.com/finance-and-economics/2023/08/07/elon-musks-plans-could-hinder-twitternomics',\n",
       "       'https://www.economist.com/finance-and-economics/2023/09/13/has-the-european-central-bank-become-too-powerful',\n",
       "       'https://www.economist.com/business/2023/06/29/meet-the-worlds-most-flirtatious-sovereign-wealth-fund',\n",
       "       'https://www.economist.com/finance-and-economics/2023/09/21/why-uranium-prices-are-soaring',\n",
       "       'https://www.economist.com/economic-and-financial-indicators/2023/09/14/economic-data-commodities-and-markets'],\n",
       "      dtype=object)"
      ]
     },
     "execution_count": 26,
     "metadata": {},
     "output_type": "execute_result"
    }
   ],
   "source": [
    "articles_df[articles_df.source_name == 'economist'].sample(5).url.values"
   ]
  },
  {
   "cell_type": "code",
   "execution_count": 33,
   "id": "130d7473-e6b8-4683-80ac-c8d3269cf6c1",
   "metadata": {
    "tags": []
   },
   "outputs": [
    {
     "data": {
      "text/plain": [
       "array(['https://finshots.in/markets/ideaforge-is-ready-to-fly-drones-over-dalal-street/',\n",
       "       'https://finshots.in/archive/can-we-fix-csr/',\n",
       "       'https://finshots.in/archive/can-maruti-suzuki-create-an-ev-storm-2/',\n",
       "       'https://finshots.in/archive/biodiversity-act-amendments/',\n",
       "       'https://finshots.in/archive/its-all-gas-2/'], dtype=object)"
      ]
     },
     "execution_count": 33,
     "metadata": {},
     "output_type": "execute_result"
    }
   ],
   "source": [
    "articles_df[articles_df.source_name == 'finshots'].sample(5).url.values"
   ]
  },
  {
   "cell_type": "code",
   "execution_count": 98,
   "id": "c98a9225-becf-4461-b5a1-0eb43a46bd9b",
   "metadata": {
    "tags": []
   },
   "outputs": [
    {
     "data": {
      "text/plain": [
       "array(['https://groww.in/blog/best-fund-managers-in-india',\n",
       "       'https://groww.in/blog/apollo-hospitals-q1-results-fy22-2023-pat-down-by-35-to-rs-317-crore',\n",
       "       'https://groww.in/blog/bandhan-bank-quarterly-results-q3-fy22',\n",
       "       'https://groww.in/blog/best-dividend-paying-penny-stocks-in-india',\n",
       "       'https://groww.in/blog/reasons-not-invest-small-cap-funds'],\n",
       "      dtype=object)"
      ]
     },
     "execution_count": 98,
     "metadata": {},
     "output_type": "execute_result"
    }
   ],
   "source": [
    "articles_df[articles_df.source_name == 'groww'].sample(5).url.values"
   ]
  },
  {
   "cell_type": "code",
   "execution_count": 39,
   "id": "d1276ee7-1103-476d-b20e-9b1b31cf749a",
   "metadata": {
    "tags": []
   },
   "outputs": [
    {
     "data": {
      "text/plain": [
       "array(['https://inc42.com/features/with-zero-mega-deals-in-sight-ecommerce-funding-falls-47-yoy-to-224-mn-in-q3-2023/',\n",
       "       'https://inc42.com/buzz/firstcry-drhp-heres-how-the-ecommerce-unicorn-intends-to-spend-ipo-proceeds/',\n",
       "       'https://inc42.com/buzz/paisabazaar-under-income-tax-depts-scanner-over-certain-vendors/',\n",
       "       'https://inc42.com/resources/security-as-a-lens-for-navigating-the-future-of-digital-payments/',\n",
       "       'https://inc42.com/buzz/former-unacademy-executive-vivek-sinha-nets-11-mn-for-his-new-edtech-venture/'],\n",
       "      dtype=object)"
      ]
     },
     "execution_count": 39,
     "metadata": {},
     "output_type": "execute_result"
    }
   ],
   "source": [
    "articles_df[articles_df.source_name == 'inc42'].sample(5).url.values"
   ]
  },
  {
   "cell_type": "code",
   "execution_count": 107,
   "id": "e3285a4a-b89e-4b6e-96f2-c0e24e910ac7",
   "metadata": {
    "tags": []
   },
   "outputs": [
    {
     "data": {
      "text/plain": [
       "array(['https://www.investopedia.com/terms/a/at-par.asp',\n",
       "       'https://www.investopedia.com/articles/financial-advisors/101315/are-etfs-good-fit-401k-plans.asp',\n",
       "       'https://www.investopedia.com/mortgage-rates-continue-upward-surge-7557401',\n",
       "       'https://www.investopedia.com/articles/exchangetradedfunds/11/benefits-etfs-hedging.asp',\n",
       "       'https://www.investopedia.com/articles/personal-finance/120715/what-happens-retirement-accounts-if-spouse-dies.asp'],\n",
       "      dtype=object)"
      ]
     },
     "execution_count": 107,
     "metadata": {},
     "output_type": "execute_result"
    }
   ],
   "source": [
    "articles_df[articles_df.source_name == 'investopedia'].sample(5).url.values"
   ]
  },
  {
   "cell_type": "code",
   "execution_count": 101,
   "id": "c29c01ba-15f9-4d94-8e5e-78eaf80d0577",
   "metadata": {
    "tags": []
   },
   "outputs": [
    {
     "data": {
      "text/plain": [
       "array(['https://www.livemint.com/market/live-blog/tata-chemicals-share-price-live-blog-for-16-nov-2023-11700102665178.html',\n",
       "       'https://www.livemint.com/companies/elon-musk-s-neuralink-gets-fda-approval-for-study-of-brain-implants-in-humans-11685119212072.html',\n",
       "       'https://www.livemint.com/companies/start-ups/kotak-investment-advisors-to-close-its-startup-fund-cites-falling-valuations-as-a-reason-11681394105602.html',\n",
       "       'https://www.livemint.com/market/live-blog/indian-railway-catering-tourism-corporation-share-price-live-blog-for-25-oct-2023-11698202356607.html',\n",
       "       'https://www.livemint.com/industry/media/adipurush-box-office-collection-movie-continues-to-mint-money-despite-controversy-11687157962872.html'],\n",
       "      dtype=object)"
      ]
     },
     "execution_count": 101,
     "metadata": {},
     "output_type": "execute_result"
    }
   ],
   "source": [
    "articles_df[articles_df.source_name == 'live-mint'].sample(5).url.values"
   ]
  },
  {
   "cell_type": "code",
   "execution_count": 59,
   "id": "9426c977-427f-4c70-895e-168bb1623e20",
   "metadata": {
    "tags": []
   },
   "outputs": [
    {
     "data": {
      "text/plain": [
       "array(['https://www.moneycontrol.com/news/business/earnings/mudra-financial-standalone-september-2023-net-sales-at-rs-0-23-crore-up-7-17-y-o-y-11795871.html',\n",
       "       'https://www.moneycontrol.com/news/business/stocks/phoenix-mills-gets-overweight-rating-from-morgan-stanley-stock-gains-4-11513681.html',\n",
       "       'https://www.moneycontrol.com/news/business/earnings/mayur-uniquoter-consolidated-june-2023-net-sales-at-rs-200-94-crore-up-0-25-y-o-y-11130821.html',\n",
       "       'https://www.moneycontrol.com/news/business/markets/nomura-raises-tp-for-samil-by-15-following-yachiyos-4w-business-buy-10918301.html',\n",
       "       'https://www.moneycontrol.com/news/business/real-estate/mhada-lottery-2023-close-to-1-lakh-applications-for-4000-plus-homes-in-mumbai-10893511.html'],\n",
       "      dtype=object)"
      ]
     },
     "execution_count": 59,
     "metadata": {},
     "output_type": "execute_result"
    }
   ],
   "source": [
    "articles_df[articles_df.source_name == 'money-control'].sample(5).url.values"
   ]
  },
  {
   "cell_type": "code",
   "execution_count": 102,
   "id": "76016bef-5ccc-40fd-8229-1f1ab97ac2b3",
   "metadata": {
    "tags": []
   },
   "outputs": [
    {
     "data": {
      "text/plain": [
       "array(['https://navi.com/blog/hybrid-mutual-funds/',\n",
       "       'https://navi.com/blog/tpa-third-party-administrator/',\n",
       "       'https://navi.com/blog/telangana-land-records/',\n",
       "       'https://navi.com/blog/yield-curve-inversion/',\n",
       "       'https://navi.com/blog/equity-portfoliomanagement/'], dtype=object)"
      ]
     },
     "execution_count": 102,
     "metadata": {},
     "output_type": "execute_result"
    }
   ],
   "source": [
    "articles_df[articles_df.source_name == 'navi'].sample(5).url.values"
   ]
  },
  {
   "cell_type": "code",
   "execution_count": 103,
   "id": "21304c0d-6bd9-41fe-9c52-52fb429e5e82",
   "metadata": {
    "tags": []
   },
   "outputs": [
    {
     "data": {
      "text/plain": [
       "array(['https://www.wintwealth.com/blog/munger-commercial-real-estate-investment',\n",
       "       'https://www.wintwealth.com/blog/commercial-real-estate-investment-in-muzaffarpur',\n",
       "       'https://www.wintwealth.com/blog/face-value-of-shares-meaning-working-importance',\n",
       "       'https://www.wintwealth.com/blog/know-the-features-and-benefits-of-a-trading-account',\n",
       "       'https://www.wintwealth.com/blog/get-sukanya-samriddhi-account-passbook-online'],\n",
       "      dtype=object)"
      ]
     },
     "execution_count": 103,
     "metadata": {},
     "output_type": "execute_result"
    }
   ],
   "source": [
    "articles_df[articles_df.source_name == 'wint-wealth'].sample(5).url.values"
   ]
  },
  {
   "cell_type": "code",
   "execution_count": 104,
   "id": "87f99b71-9a98-4571-a1da-0fc3a658d591",
   "metadata": {
    "tags": []
   },
   "outputs": [
    {
     "data": {
      "text/plain": [
       "array(['https://zerodha.com/varsity/the-history-of-indian-venture-capital/',\n",
       "       'https://zerodha.com/varsity/chapter/dont-deliberate-just-do-it/',\n",
       "       'https://zerodha.com/varsity/chapter/getting-ready-to-trade/',\n",
       "       'https://zerodha.com/varsity/chapter/disappointment-and-regret-the-other-trading-emotions/',\n",
       "       'https://zerodha.com/varsity/chapter/discipline-takes-practice/'],\n",
       "      dtype=object)"
      ]
     },
     "execution_count": 104,
     "metadata": {},
     "output_type": "execute_result"
    }
   ],
   "source": [
    "articles_df[articles_df.source_name == 'zerodha-varsity'].sample(5).url.values"
   ]
  },
  {
   "cell_type": "code",
   "execution_count": 40,
   "id": "ec41ca4c-56bb-4db9-84cd-e1c5a26f14ea",
   "metadata": {
    "tags": []
   },
   "outputs": [],
   "source": [
    "from src.articles.ArticleService import ArticleService"
   ]
  },
  {
   "cell_type": "code",
   "execution_count": 41,
   "id": "61559d1d-35c6-41a4-b91e-51f00a65638c",
   "metadata": {
    "tags": []
   },
   "outputs": [],
   "source": [
    "from tqdm.notebook import tqdm_notebook\n",
    "tqdm_notebook.pandas()"
   ]
  },
  {
   "cell_type": "code",
   "execution_count": 42,
   "id": "13bbf80d-064d-4d81-96d7-e4473187e82a",
   "metadata": {
    "tags": []
   },
   "outputs": [],
   "source": [
    "import re"
   ]
  },
  {
   "cell_type": "code",
   "execution_count": 70,
   "id": "c940ff66-d0b2-4737-923a-23ee9b1328a8",
   "metadata": {
    "tags": []
   },
   "outputs": [],
   "source": [
    "ignore_first_level = ['money-control']\n",
    "subcat_sources = ['live-mint','economic-times', 'cnbc-tv-18']\n",
    "cat_sources = ['navi', 'zerodha-varsity', 'wint-wealth', 'investopedia', 'groww', 'business-world', 'bq-prime']\n",
    "\n",
    "def extract_category_subcategory(row):\n",
    "    # 20 and 25 identified based on iterative analysis\n",
    "    source = row['source_name']\n",
    "    x = row['url']\n",
    "    if source in cat_sources:\n",
    "        cat_url = re.split('.com/|.in/', x)[1]\n",
    "        cat = cat_url.split('/')[0]\n",
    "        if len(cat) < 20:\n",
    "            return cat, ''\n",
    "        else:\n",
    "            return '',''\n",
    "    elif source in subcat_sources:\n",
    "        cat_url = re.split('.com/|.in/', x)[1]\n",
    "        cat = cat_url.split('/')[0]\n",
    "        sub_cat = cat_url.split('/')[1]\n",
    "        if len(sub_cat) < 25:\n",
    "            return cat, sub_cat\n",
    "        else:\n",
    "            return cat, ''\n",
    "    elif source in ignore_first_level:\n",
    "        cat_url = re.split('.com/|.in/', x)[1]\n",
    "        cat_split = cat_url.split('/')\n",
    "        cat = cat_split[1]\n",
    "        if len(cat_split) > 2 and len(cat_split[2]) < 25:\n",
    "            sub_cat = cat_split[2]\n",
    "            return cat, sub_cat\n",
    "        else:\n",
    "            return cat, ''\n",
    "    else:\n",
    "        return '', ''"
   ]
  },
  {
   "cell_type": "code",
   "execution_count": 71,
   "id": "103a4b14-f6aa-40c5-83df-6a7857206cf8",
   "metadata": {
    "tags": []
   },
   "outputs": [],
   "source": [
    "articles_df[['cat', 'subcat']] = articles_df.apply(extract_category_subcategory, axis = 1, result_type='expand')"
   ]
  },
  {
   "cell_type": "code",
   "execution_count": 72,
   "id": "e6fab714-6452-4d2a-ad32-0555175fc692",
   "metadata": {
    "tags": []
   },
   "outputs": [
    {
     "data": {
      "text/plain": [
       "cat\n",
       "1099-g-form-4782667    1\n",
       "after-8347322          1\n",
       "ajay-banga-7494796     1\n",
       "alphanomics-7974094    1\n",
       "ameribor-6260927       1\n",
       "Name: cat, dtype: int64"
      ]
     },
     "execution_count": 72,
     "metadata": {},
     "output_type": "execute_result"
    }
   ],
   "source": [
    "articles_df.groupby('cat')['cat'].count().nsmallest()"
   ]
  },
  {
   "cell_type": "code",
   "execution_count": 73,
   "id": "0ebd0a29-14a1-4f7d-8edb-bb819e6142f7",
   "metadata": {
    "tags": []
   },
   "outputs": [],
   "source": [
    "# removing those entries where there is only 1 cat count or 1 subcat count\n",
    "invalid_cats = articles_df[articles_df.groupby('cat')['cat'].transform('count') == 1].cat.unique()\n",
    "\n",
    "invalid_subcats = articles_df[articles_df.groupby('subcat')['subcat'].transform('count') == 1].subcat.unique()\n",
    "\n",
    "articles_df.loc[articles_df.cat.isin(invalid_cats),'cat'] = ''\n",
    "articles_df.loc[articles_df.subcat.isin(invalid_subcats),'subcat'] = ''"
   ]
  },
  {
   "cell_type": "code",
   "execution_count": 74,
   "id": "57f5bf69-368d-4e42-83a3-2dc510fd266f",
   "metadata": {
    "tags": []
   },
   "outputs": [],
   "source": [
    "articles_df['fullcat'] = articles_df['source_name'] + '-' + articles_df['cat'] + '-' + articles_df['subcat']"
   ]
  },
  {
   "cell_type": "code",
   "execution_count": 75,
   "id": "60caa92a-8bd5-4aaa-a105-6602fd9e585e",
   "metadata": {
    "tags": []
   },
   "outputs": [
    {
     "data": {
      "text/plain": [
       "223"
      ]
     },
     "execution_count": 75,
     "metadata": {},
     "output_type": "execute_result"
    }
   ],
   "source": [
    "len(articles_df.groupby('fullcat')['article_id'].count())"
   ]
  },
  {
   "cell_type": "markdown",
   "id": "9b5f0a4a-2e95-42e9-840e-ea8a4e5b1f35",
   "metadata": {},
   "source": [
    "### Re-balancing categories for more even representation"
   ]
  },
  {
   "cell_type": "code",
   "execution_count": 76,
   "id": "107a51b2-422a-4190-9286-f3637eeb37bf",
   "metadata": {
    "tags": []
   },
   "outputs": [],
   "source": [
    "fullcat_prob = articles_df.groupby('fullcat')['article_id'].count()/len(articles_df)"
   ]
  },
  {
   "cell_type": "code",
   "execution_count": 77,
   "id": "771f98e2-74a4-43ee-b974-1cce414c7346",
   "metadata": {
    "tags": []
   },
   "outputs": [
    {
     "data": {
      "text/plain": [
       "fullcat\n",
       "money-control-business-earnings    0.099182\n",
       "cnbc--                             0.090063\n",
       "money-control-business-            0.065003\n",
       "investopedia--                     0.054503\n",
       "live-mint-market-live-blog         0.045726\n",
       "Name: article_id, dtype: float64"
      ]
     },
     "execution_count": 77,
     "metadata": {},
     "output_type": "execute_result"
    }
   ],
   "source": [
    "fullcat_prob.nlargest()"
   ]
  },
  {
   "cell_type": "code",
   "execution_count": 448,
   "id": "524f3d27-7ac4-473f-8652-adc7954a3819",
   "metadata": {
    "tags": []
   },
   "outputs": [],
   "source": [
    "reweighted_fullcat_prob = np.power(fullcat_prob, -0.5)/np.sum(np.power(fullcat_prob, -0.5))"
   ]
  },
  {
   "cell_type": "code",
   "execution_count": 449,
   "id": "605d6003-0174-426e-8bdb-ec4e37734e29",
   "metadata": {
    "tags": []
   },
   "outputs": [
    {
     "data": {
      "text/plain": [
       "fullcat\n",
       "bbc--                          0.011819\n",
       "bq-prime--                     0.000012\n",
       "bq-prime-business-             0.004504\n",
       "bq-prime-economy-finance-      0.000156\n",
       "bq-prime-ipos-                 0.000358\n",
       "                                 ...   \n",
       "money-control-markets-bonds    0.000012\n",
       "navi-blog-                     0.009911\n",
       "reuters--                      0.006725\n",
       "wint-wealth-blog-              0.010078\n",
       "zerodha-varsity-varsity-       0.005054\n",
       "Name: article_id, Length: 223, dtype: float64"
      ]
     },
     "execution_count": 449,
     "metadata": {},
     "output_type": "execute_result"
    }
   ],
   "source": [
    "fullcat_prob"
   ]
  },
  {
   "cell_type": "code",
   "execution_count": 450,
   "id": "0f5a35f0-53f9-4971-a973-bbe1c062b801",
   "metadata": {
    "tags": []
   },
   "outputs": [
    {
     "data": {
      "text/plain": [
       "'economic-times-industry-environment'"
      ]
     },
     "execution_count": 450,
     "metadata": {},
     "output_type": "execute_result"
    }
   ],
   "source": [
    "reweighted_fullcat_prob.keys()[reweighted_fullcat_prob.argmax()]"
   ]
  },
  {
   "cell_type": "code",
   "execution_count": 451,
   "id": "735ec9a6-17f1-4db0-8e0a-48c14f36a2e6",
   "metadata": {
    "tags": []
   },
   "outputs": [
    {
     "data": {
      "text/plain": [
       "fullcat\n",
       "bbc--                          0.000432\n",
       "bq-prime--                     0.013807\n",
       "bq-prime-business-             0.000700\n",
       "bq-prime-economy-finance-      0.003758\n",
       "bq-prime-ipos-                 0.002480\n",
       "                                 ...   \n",
       "money-control-markets-bonds    0.013807\n",
       "navi-blog-                     0.000472\n",
       "reuters--                      0.000573\n",
       "wint-wealth-blog-              0.000468\n",
       "zerodha-varsity-varsity-       0.000660\n",
       "Name: article_id, Length: 223, dtype: float64"
      ]
     },
     "execution_count": 451,
     "metadata": {},
     "output_type": "execute_result"
    }
   ],
   "source": [
    "reweighted_fullcat_prob"
   ]
  },
  {
   "cell_type": "code",
   "execution_count": 452,
   "id": "13160c40-3631-4ffc-a550-fc3a8d8397c9",
   "metadata": {
    "tags": []
   },
   "outputs": [
    {
     "data": {
      "text/plain": [
       "0.0001490882762890219"
      ]
     },
     "execution_count": 452,
     "metadata": {},
     "output_type": "execute_result"
    }
   ],
   "source": [
    "reweighted_fullcat_prob['money-control-business-earnings']"
   ]
  },
  {
   "cell_type": "code",
   "execution_count": 453,
   "id": "706af4a6-d3cf-4b34-9999-36d527d5af5f",
   "metadata": {
    "tags": []
   },
   "outputs": [
    {
     "data": {
      "text/plain": [
       "1.0"
      ]
     },
     "execution_count": 453,
     "metadata": {},
     "output_type": "execute_result"
    }
   ],
   "source": [
    "reweighted_fullcat_prob.sum()"
   ]
  },
  {
   "cell_type": "code",
   "execution_count": 454,
   "id": "afed4249-2a8d-41dd-a4dc-026578b1598c",
   "metadata": {
    "tags": []
   },
   "outputs": [
    {
     "data": {
      "text/plain": [
       "0.00015645360267678725"
      ]
     },
     "execution_count": 454,
     "metadata": {},
     "output_type": "execute_result"
    }
   ],
   "source": [
    "reweighted_fullcat_prob['cnbc--']"
   ]
  },
  {
   "cell_type": "code",
   "execution_count": 455,
   "id": "6415c39f-ae59-4834-8353-d3692c377584",
   "metadata": {
    "scrolled": true,
    "tags": []
   },
   "outputs": [
    {
     "data": {
      "text/plain": [
       "fullcat\n",
       "bbc--                          0.000432\n",
       "bq-prime--                     0.013807\n",
       "bq-prime-business-             0.000700\n",
       "bq-prime-economy-finance-      0.003758\n",
       "bq-prime-ipos-                 0.002480\n",
       "                                 ...   \n",
       "money-control-markets-bonds    0.013807\n",
       "navi-blog-                     0.000472\n",
       "reuters--                      0.000573\n",
       "wint-wealth-blog-              0.000468\n",
       "zerodha-varsity-varsity-       0.000660\n",
       "Name: article_id, Length: 223, dtype: float64"
      ]
     },
     "execution_count": 455,
     "metadata": {},
     "output_type": "execute_result"
    }
   ],
   "source": [
    "reweighted_fullcat_prob"
   ]
  },
  {
   "cell_type": "code",
   "execution_count": 456,
   "id": "5ffc076b-8612-4794-9037-0f215b05e4ec",
   "metadata": {
    "tags": []
   },
   "outputs": [],
   "source": [
    "reweighted_fullcat_prob_df = pd.DataFrame(reweighted_fullcat_prob).rename(columns = {'article_id': 'proportion'}).reset_index()"
   ]
  },
  {
   "cell_type": "code",
   "execution_count": 2,
   "id": "fa8ced2b-6056-4f73-8b92-a7be95f979a8",
   "metadata": {
    "tags": []
   },
   "outputs": [],
   "source": [
    "import numpy as np"
   ]
  },
  {
   "cell_type": "code",
   "execution_count": 6,
   "id": "3149d609-e949-4942-843b-25ee0bb3c42e",
   "metadata": {
    "tags": []
   },
   "outputs": [
    {
     "data": {
      "text/plain": [
       "float"
      ]
     },
     "execution_count": 6,
     "metadata": {},
     "output_type": "execute_result"
    }
   ],
   "source": [
    "type(np.random.rand())"
   ]
  },
  {
   "cell_type": "code",
   "execution_count": 457,
   "id": "01e15089-8192-48df-a2df-b18901040be8",
   "metadata": {
    "tags": []
   },
   "outputs": [],
   "source": [
    "if 'proportion' in articles_df.columns:\n",
    "    articles_df = articles_df.drop(columns = {'proportion'})\n",
    "articles_df = pd.merge(articles_df, reweighted_fullcat_prob_df, how = 'left')"
   ]
  },
  {
   "cell_type": "code",
   "execution_count": 458,
   "id": "6ccbff40-72b2-4cc9-a725-f8642b5a39c6",
   "metadata": {
    "tags": []
   },
   "outputs": [],
   "source": [
    "baselevel = np.sum(articles_df['proportion'])"
   ]
  },
  {
   "cell_type": "code",
   "execution_count": 517,
   "id": "f0a6c5c8-2c54-4ce1-82af-d90610ef1991",
   "metadata": {
    "tags": []
   },
   "outputs": [],
   "source": [
    "num_articles = 1500"
   ]
  },
  {
   "cell_type": "code",
   "execution_count": 518,
   "id": "b720dd3a-22da-4f14-88c6-50b0c29e55a1",
   "metadata": {
    "tags": []
   },
   "outputs": [],
   "source": [
    "articles_df['scaled_proportion'] = articles_df['proportion'] * (num_articles/baselevel)"
   ]
  },
  {
   "cell_type": "code",
   "execution_count": 519,
   "id": "31ab665d-c1fb-4fb1-9dee-6e414d3410be",
   "metadata": {
    "tags": []
   },
   "outputs": [
    {
     "data": {
      "text/plain": [
       "1500.0000000000002"
      ]
     },
     "execution_count": 519,
     "metadata": {},
     "output_type": "execute_result"
    }
   ],
   "source": [
    "articles_df.scaled_proportion.sum()"
   ]
  },
  {
   "cell_type": "code",
   "execution_count": 520,
   "id": "acc9c7c0-2282-4d33-9d37-03a0a89c6a13",
   "metadata": {
    "tags": []
   },
   "outputs": [],
   "source": [
    "articles_df['prob'] = [np.random.rand() for i in range(len(articles_df))]"
   ]
  },
  {
   "cell_type": "code",
   "execution_count": 521,
   "id": "5381eb31-6477-47e6-9e64-a9e1b50a6ead",
   "metadata": {
    "tags": []
   },
   "outputs": [],
   "source": [
    "articles_df['is_selected'] = articles_df['prob'] < articles_df['scaled_proportion']"
   ]
  },
  {
   "cell_type": "code",
   "execution_count": 522,
   "id": "a153d547-b3b8-4187-b7ed-53633fc7da91",
   "metadata": {
    "tags": []
   },
   "outputs": [
    {
     "data": {
      "text/plain": [
       "1502"
      ]
     },
     "execution_count": 522,
     "metadata": {},
     "output_type": "execute_result"
    }
   ],
   "source": [
    "articles_df.is_selected.sum()"
   ]
  },
  {
   "cell_type": "code",
   "execution_count": 523,
   "id": "24f9634f-40fb-4d45-a26e-71c499225b94",
   "metadata": {
    "tags": []
   },
   "outputs": [
    {
     "data": {
      "text/plain": [
       "source_name\n",
       "live-mint           342\n",
       "money-control       311\n",
       "economic-times      265\n",
       "investopedia        148\n",
       "cnbc-tv-18          133\n",
       "business-world       97\n",
       "cnbc                 41\n",
       "wint-wealth          22\n",
       "bq-prime             21\n",
       "groww                19\n",
       "business-insider     19\n",
       "reuters              16\n",
       "navi                 16\n",
       "bbc                  15\n",
       "finshots             15\n",
       "economist             8\n",
       "zerodha-varsity       8\n",
       "inc42                 6\n",
       "Name: is_selected, dtype: int64"
      ]
     },
     "execution_count": 523,
     "metadata": {},
     "output_type": "execute_result"
    }
   ],
   "source": [
    "articles_df[articles_df.is_selected == 1].groupby('source_name')['is_selected'].sum().nlargest(100)"
   ]
  },
  {
   "cell_type": "code",
   "execution_count": 530,
   "id": "cfb34d1e-633f-4d4b-98d5-02ae55275597",
   "metadata": {
    "tags": []
   },
   "outputs": [],
   "source": [
    "shortlisted_articles = articles_df[articles_df.is_selected == True]\n",
    "shortlisted_articles = shortlisted_articles.sample(frac=1)"
   ]
  },
  {
   "cell_type": "code",
   "execution_count": 524,
   "id": "1f340c99-2bed-4cdf-a61a-86cbfcb180f5",
   "metadata": {
    "tags": []
   },
   "outputs": [],
   "source": [
    "representation_cutoff = int(0.05 * num_articles)"
   ]
  },
  {
   "cell_type": "code",
   "execution_count": 525,
   "id": "788ba4b7-be6b-44f1-9edc-534325f721dc",
   "metadata": {
    "tags": []
   },
   "outputs": [
    {
     "data": {
      "text/plain": [
       "75"
      ]
     },
     "execution_count": 525,
     "metadata": {},
     "output_type": "execute_result"
    }
   ],
   "source": [
    "representation_cutoff"
   ]
  },
  {
   "cell_type": "code",
   "execution_count": 526,
   "id": "1a388bc0-a6b3-4bde-9656-dda90ce368c3",
   "metadata": {
    "tags": []
   },
   "outputs": [],
   "source": [
    "under_represented_sources = articles_df[articles_df.is_selected == 1].groupby('source_name').filter(lambda x: len(x) < representation_cutoff)['source_name'].unique()"
   ]
  },
  {
   "cell_type": "code",
   "execution_count": 527,
   "id": "3e3edc18-5e7b-4471-b2f1-da5092308b3b",
   "metadata": {
    "tags": []
   },
   "outputs": [],
   "source": [
    "cur_representation = articles_df[articles_df.is_selected == 1].groupby('source_name').filter(lambda x: len(x) < representation_cutoff).groupby('source_name')['source_name'].count()"
   ]
  },
  {
   "cell_type": "code",
   "execution_count": 528,
   "id": "20bdd07e-c12e-4cb1-83a2-c33b4acce064",
   "metadata": {
    "tags": []
   },
   "outputs": [],
   "source": [
    "oversampling_requirement = representation_cutoff - cur_representation"
   ]
  },
  {
   "cell_type": "code",
   "execution_count": 529,
   "id": "625891da-d63c-43b5-b577-bfc94c01a770",
   "metadata": {
    "tags": []
   },
   "outputs": [
    {
     "data": {
      "text/plain": [
       "source_name\n",
       "bbc                 60\n",
       "bq-prime            54\n",
       "business-insider    56\n",
       "cnbc                34\n",
       "economist           67\n",
       "finshots            60\n",
       "groww               56\n",
       "inc42               69\n",
       "navi                59\n",
       "reuters             59\n",
       "wint-wealth         53\n",
       "zerodha-varsity     67\n",
       "Name: source_name, dtype: int64"
      ]
     },
     "execution_count": 529,
     "metadata": {},
     "output_type": "execute_result"
    }
   ],
   "source": [
    "oversampling_requirement"
   ]
  },
  {
   "cell_type": "code",
   "execution_count": 531,
   "id": "07b8ac46-4992-4a2e-b140-bb50b20f6f65",
   "metadata": {
    "tags": []
   },
   "outputs": [],
   "source": [
    "# Empty DataFrame to hold the sampled data.\n",
    "oversampled_articles_df = pd.DataFrame()\n",
    "\n",
    "# Loop through each group, sample, and append to the sampled_df.\n",
    "for group, num_samples in dict(oversampling_requirement).items():\n",
    "    group_sample = articles_df[articles_df['source_name'] == group].sample(n=min(len(articles_df[articles_df['source_name'] == group]), num_samples))\n",
    "    oversampled_articles_df = pd.concat([oversampled_articles_df, group_sample])\n",
    "\n",
    "# sampled_df now contains the sampled rows."
   ]
  },
  {
   "cell_type": "code",
   "execution_count": 532,
   "id": "ede7b3d6-72b9-4d57-bc16-cbb1c43cc348",
   "metadata": {
    "tags": []
   },
   "outputs": [
    {
     "data": {
      "text/html": [
       "<div>\n",
       "<style scoped>\n",
       "    .dataframe tbody tr th:only-of-type {\n",
       "        vertical-align: middle;\n",
       "    }\n",
       "\n",
       "    .dataframe tbody tr th {\n",
       "        vertical-align: top;\n",
       "    }\n",
       "\n",
       "    .dataframe thead th {\n",
       "        text-align: right;\n",
       "    }\n",
       "</style>\n",
       "<table border=\"1\" class=\"dataframe\">\n",
       "  <thead>\n",
       "    <tr style=\"text-align: right;\">\n",
       "      <th></th>\n",
       "      <th>article_id</th>\n",
       "      <th>url</th>\n",
       "      <th>source_id</th>\n",
       "      <th>authors</th>\n",
       "      <th>reactions</th>\n",
       "      <th>image_url</th>\n",
       "      <th>is_premium_article</th>\n",
       "      <th>last_updated_time</th>\n",
       "      <th>published_time</th>\n",
       "      <th>short_description</th>\n",
       "      <th>...</th>\n",
       "      <th>prob</th>\n",
       "      <th>id</th>\n",
       "      <th>decay</th>\n",
       "      <th>source_name</th>\n",
       "      <th>cat</th>\n",
       "      <th>subcat</th>\n",
       "      <th>fullcat</th>\n",
       "      <th>scaled_proportion</th>\n",
       "      <th>is_selected</th>\n",
       "      <th>proportion</th>\n",
       "    </tr>\n",
       "  </thead>\n",
       "  <tbody>\n",
       "    <tr>\n",
       "      <th>1033</th>\n",
       "      <td>658d47274b25ce4814fb361c</td>\n",
       "      <td>https://www.bbc.com/news/business-65457098</td>\n",
       "      <td>6560a5bddf69601d3e2ce0c1</td>\n",
       "      <td>[https://www.facebook.com/bbcnews]</td>\n",
       "      <td>{}</td>\n",
       "      <td>https://ichef.bbci.co.uk/news/1024/branded_new...</td>\n",
       "      <td>False</td>\n",
       "      <td>2023-05-02T17:38:37+0000</td>\n",
       "      <td>2023-05-02T17:38:37+0000</td>\n",
       "      <td>The owner of the dating app follows other glob...</td>\n",
       "      <td>...</td>\n",
       "      <td>0.094097</td>\n",
       "      <td>18</td>\n",
       "      <td>0.9</td>\n",
       "      <td>bbc</td>\n",
       "      <td></td>\n",
       "      <td></td>\n",
       "      <td>bbc--</td>\n",
       "      <td>0.008711</td>\n",
       "      <td>False</td>\n",
       "      <td>0.000432</td>\n",
       "    </tr>\n",
       "    <tr>\n",
       "      <th>1011</th>\n",
       "      <td>658d47494b25ce4814fb389b</td>\n",
       "      <td>https://www.bbc.com/news/business-66854695</td>\n",
       "      <td>6560a5bddf69601d3e2ce0c1</td>\n",
       "      <td>[https://www.facebook.com/bbcnews]</td>\n",
       "      <td>{}</td>\n",
       "      <td>https://ichef.bbci.co.uk/news/1024/branded_new...</td>\n",
       "      <td>False</td>\n",
       "      <td>2023-09-26T23:06:58+0000</td>\n",
       "      <td>2023-09-26T23:06:58+0000</td>\n",
       "      <td>Co-founder of Little Moons, Vivien Wong, on wh...</td>\n",
       "      <td>...</td>\n",
       "      <td>0.113490</td>\n",
       "      <td>18</td>\n",
       "      <td>0.9</td>\n",
       "      <td>bbc</td>\n",
       "      <td></td>\n",
       "      <td></td>\n",
       "      <td>bbc--</td>\n",
       "      <td>0.008711</td>\n",
       "      <td>False</td>\n",
       "      <td>0.000432</td>\n",
       "    </tr>\n",
       "    <tr>\n",
       "      <th>2517</th>\n",
       "      <td>658d475c4b25ce4814fb3a00</td>\n",
       "      <td>https://www.bbc.com/news/business-66717609</td>\n",
       "      <td>6560a5bddf69601d3e2ce0c1</td>\n",
       "      <td>[https://www.facebook.com/bbcnews]</td>\n",
       "      <td>{}</td>\n",
       "      <td>https://ichef.bbci.co.uk/news/1024/branded_new...</td>\n",
       "      <td>False</td>\n",
       "      <td>2023-09-06T10:31:24+0000</td>\n",
       "      <td>2023-09-06T10:31:24+0000</td>\n",
       "      <td>Some had to skip meals, take on debt or dip in...</td>\n",
       "      <td>...</td>\n",
       "      <td>0.303434</td>\n",
       "      <td>18</td>\n",
       "      <td>0.9</td>\n",
       "      <td>bbc</td>\n",
       "      <td></td>\n",
       "      <td></td>\n",
       "      <td>bbc--</td>\n",
       "      <td>0.008711</td>\n",
       "      <td>False</td>\n",
       "      <td>0.000432</td>\n",
       "    </tr>\n",
       "    <tr>\n",
       "      <th>1105</th>\n",
       "      <td>658d47264b25ce4814fb35ff</td>\n",
       "      <td>https://www.bbc.com/news/business-63486782</td>\n",
       "      <td>6560a5bddf69601d3e2ce0c1</td>\n",
       "      <td>[https://www.facebook.com/bbcnews]</td>\n",
       "      <td>{}</td>\n",
       "      <td>https://ichef.bbci.co.uk/news/1024/branded_new...</td>\n",
       "      <td>False</td>\n",
       "      <td>2023-08-10T12:44:55+0000</td>\n",
       "      <td>2023-08-10T12:44:55+0000</td>\n",
       "      <td>Many homeowners are worried about higher mortg...</td>\n",
       "      <td>...</td>\n",
       "      <td>0.156812</td>\n",
       "      <td>18</td>\n",
       "      <td>0.9</td>\n",
       "      <td>bbc</td>\n",
       "      <td></td>\n",
       "      <td></td>\n",
       "      <td>bbc--</td>\n",
       "      <td>0.008711</td>\n",
       "      <td>False</td>\n",
       "      <td>0.000432</td>\n",
       "    </tr>\n",
       "    <tr>\n",
       "      <th>1080</th>\n",
       "      <td>658d47534b25ce4814fb394f</td>\n",
       "      <td>https://www.bbc.com/news/business-64629081</td>\n",
       "      <td>6560a5bddf69601d3e2ce0c1</td>\n",
       "      <td>[https://www.facebook.com/bbcnews]</td>\n",
       "      <td>{}</td>\n",
       "      <td>https://ichef.bbci.co.uk/news/1024/branded_new...</td>\n",
       "      <td>False</td>\n",
       "      <td>2023-02-14T13:27:57+0000</td>\n",
       "      <td>2023-02-14T13:27:57+0000</td>\n",
       "      <td>Lenders will have to do better affordability c...</td>\n",
       "      <td>...</td>\n",
       "      <td>0.941664</td>\n",
       "      <td>18</td>\n",
       "      <td>0.9</td>\n",
       "      <td>bbc</td>\n",
       "      <td></td>\n",
       "      <td></td>\n",
       "      <td>bbc--</td>\n",
       "      <td>0.008711</td>\n",
       "      <td>False</td>\n",
       "      <td>0.000432</td>\n",
       "    </tr>\n",
       "    <tr>\n",
       "      <th>...</th>\n",
       "      <td>...</td>\n",
       "      <td>...</td>\n",
       "      <td>...</td>\n",
       "      <td>...</td>\n",
       "      <td>...</td>\n",
       "      <td>...</td>\n",
       "      <td>...</td>\n",
       "      <td>...</td>\n",
       "      <td>...</td>\n",
       "      <td>...</td>\n",
       "      <td>...</td>\n",
       "      <td>...</td>\n",
       "      <td>...</td>\n",
       "      <td>...</td>\n",
       "      <td>...</td>\n",
       "      <td>...</td>\n",
       "      <td>...</td>\n",
       "      <td>...</td>\n",
       "      <td>...</td>\n",
       "      <td>...</td>\n",
       "      <td>...</td>\n",
       "    </tr>\n",
       "    <tr>\n",
       "      <th>170769</th>\n",
       "      <td>652ebba21e5cc42b1b13995e</td>\n",
       "      <td>https://zerodha.com/varsity/chapter/working-th...</td>\n",
       "      <td>65291b1e9a2fbc229e5f29c9</td>\n",
       "      <td>[]</td>\n",
       "      <td>{}</td>\n",
       "      <td>https://zerodha.com/varsity/wp-content/uploads...</td>\n",
       "      <td>False</td>\n",
       "      <td>2020-01-29T06:37:15+0000</td>\n",
       "      <td>2020-01-29T06:37:15+0000</td>\n",
       "      <td>Don't let guilt paralyze you. Work through you...</td>\n",
       "      <td>...</td>\n",
       "      <td>0.383380</td>\n",
       "      <td>3</td>\n",
       "      <td>1</td>\n",
       "      <td>zerodha-varsity</td>\n",
       "      <td>varsity</td>\n",
       "      <td></td>\n",
       "      <td>zerodha-varsity-varsity-</td>\n",
       "      <td>0.013321</td>\n",
       "      <td>False</td>\n",
       "      <td>0.000660</td>\n",
       "    </tr>\n",
       "    <tr>\n",
       "      <th>168757</th>\n",
       "      <td>652ebbc41e5cc42b1b139a55</td>\n",
       "      <td>https://zerodha.com/varsity/chapter/developing...</td>\n",
       "      <td>65291b1e9a2fbc229e5f29c9</td>\n",
       "      <td>[]</td>\n",
       "      <td>{}</td>\n",
       "      <td>https://zerodha.com/varsity/wp-content/uploads...</td>\n",
       "      <td>False</td>\n",
       "      <td>2020-05-06T06:29:46+0000</td>\n",
       "      <td>2020-05-06T06:29:46+0000</td>\n",
       "      <td>A trader's mindset plays a pivotal role in ach...</td>\n",
       "      <td>...</td>\n",
       "      <td>0.920339</td>\n",
       "      <td>3</td>\n",
       "      <td>1</td>\n",
       "      <td>zerodha-varsity</td>\n",
       "      <td>varsity</td>\n",
       "      <td></td>\n",
       "      <td>zerodha-varsity-varsity-</td>\n",
       "      <td>0.013321</td>\n",
       "      <td>False</td>\n",
       "      <td>0.000660</td>\n",
       "    </tr>\n",
       "    <tr>\n",
       "      <th>169040</th>\n",
       "      <td>652ebbbf1e5cc42b1b139a1d</td>\n",
       "      <td>https://zerodha.com/varsity/chapter/overconfid...</td>\n",
       "      <td>65291b1e9a2fbc229e5f29c9</td>\n",
       "      <td>[]</td>\n",
       "      <td>{}</td>\n",
       "      <td>https://zerodha.com/varsity/wp-content/uploads...</td>\n",
       "      <td>False</td>\n",
       "      <td>2020-07-20T10:57:32+0000</td>\n",
       "      <td>2020-07-20T10:57:32+0000</td>\n",
       "      <td>Question your knowledge. Gain Information. Doi...</td>\n",
       "      <td>...</td>\n",
       "      <td>0.657339</td>\n",
       "      <td>3</td>\n",
       "      <td>1</td>\n",
       "      <td>zerodha-varsity</td>\n",
       "      <td>varsity</td>\n",
       "      <td></td>\n",
       "      <td>zerodha-varsity-varsity-</td>\n",
       "      <td>0.013321</td>\n",
       "      <td>False</td>\n",
       "      <td>0.000660</td>\n",
       "    </tr>\n",
       "    <tr>\n",
       "      <th>169361</th>\n",
       "      <td>652ebbd11e5cc42b1b139ade</td>\n",
       "      <td>https://zerodha.com/varsity/chapter/shifting-g...</td>\n",
       "      <td>65291b1e9a2fbc229e5f29c9</td>\n",
       "      <td>[]</td>\n",
       "      <td>{}</td>\n",
       "      <td>https://zerodha.com/varsity/wp-content/uploads...</td>\n",
       "      <td>False</td>\n",
       "      <td>2020-12-15T06:31:41+0000</td>\n",
       "      <td>2020-12-15T06:31:41+0000</td>\n",
       "      <td>So if you are stuck in a losing rut, don't be ...</td>\n",
       "      <td>...</td>\n",
       "      <td>0.459618</td>\n",
       "      <td>3</td>\n",
       "      <td>1</td>\n",
       "      <td>zerodha-varsity</td>\n",
       "      <td>varsity</td>\n",
       "      <td></td>\n",
       "      <td>zerodha-varsity-varsity-</td>\n",
       "      <td>0.013321</td>\n",
       "      <td>False</td>\n",
       "      <td>0.000660</td>\n",
       "    </tr>\n",
       "    <tr>\n",
       "      <th>170355</th>\n",
       "      <td>652ebbc91e5cc42b1b139a87</td>\n",
       "      <td>https://zerodha.com/varsity/chapter/considerin...</td>\n",
       "      <td>65291b1e9a2fbc229e5f29c9</td>\n",
       "      <td>[]</td>\n",
       "      <td>{}</td>\n",
       "      <td>https://zerodha.com/varsity/wp-content/uploads...</td>\n",
       "      <td>False</td>\n",
       "      <td>2020-09-01T06:07:19+0000</td>\n",
       "      <td>2020-09-01T06:07:19+0000</td>\n",
       "      <td>Consider every possibility and have a detailed...</td>\n",
       "      <td>...</td>\n",
       "      <td>0.848832</td>\n",
       "      <td>3</td>\n",
       "      <td>1</td>\n",
       "      <td>zerodha-varsity</td>\n",
       "      <td>varsity</td>\n",
       "      <td></td>\n",
       "      <td>zerodha-varsity-varsity-</td>\n",
       "      <td>0.013321</td>\n",
       "      <td>False</td>\n",
       "      <td>0.000660</td>\n",
       "    </tr>\n",
       "  </tbody>\n",
       "</table>\n",
       "<p>694 rows × 23 columns</p>\n",
       "</div>"
      ],
      "text/plain": [
       "                      article_id  \\\n",
       "1033    658d47274b25ce4814fb361c   \n",
       "1011    658d47494b25ce4814fb389b   \n",
       "2517    658d475c4b25ce4814fb3a00   \n",
       "1105    658d47264b25ce4814fb35ff   \n",
       "1080    658d47534b25ce4814fb394f   \n",
       "...                          ...   \n",
       "170769  652ebba21e5cc42b1b13995e   \n",
       "168757  652ebbc41e5cc42b1b139a55   \n",
       "169040  652ebbbf1e5cc42b1b139a1d   \n",
       "169361  652ebbd11e5cc42b1b139ade   \n",
       "170355  652ebbc91e5cc42b1b139a87   \n",
       "\n",
       "                                                      url  \\\n",
       "1033           https://www.bbc.com/news/business-65457098   \n",
       "1011           https://www.bbc.com/news/business-66854695   \n",
       "2517           https://www.bbc.com/news/business-66717609   \n",
       "1105           https://www.bbc.com/news/business-63486782   \n",
       "1080           https://www.bbc.com/news/business-64629081   \n",
       "...                                                   ...   \n",
       "170769  https://zerodha.com/varsity/chapter/working-th...   \n",
       "168757  https://zerodha.com/varsity/chapter/developing...   \n",
       "169040  https://zerodha.com/varsity/chapter/overconfid...   \n",
       "169361  https://zerodha.com/varsity/chapter/shifting-g...   \n",
       "170355  https://zerodha.com/varsity/chapter/considerin...   \n",
       "\n",
       "                       source_id                             authors  \\\n",
       "1033    6560a5bddf69601d3e2ce0c1  [https://www.facebook.com/bbcnews]   \n",
       "1011    6560a5bddf69601d3e2ce0c1  [https://www.facebook.com/bbcnews]   \n",
       "2517    6560a5bddf69601d3e2ce0c1  [https://www.facebook.com/bbcnews]   \n",
       "1105    6560a5bddf69601d3e2ce0c1  [https://www.facebook.com/bbcnews]   \n",
       "1080    6560a5bddf69601d3e2ce0c1  [https://www.facebook.com/bbcnews]   \n",
       "...                          ...                                 ...   \n",
       "170769  65291b1e9a2fbc229e5f29c9                                  []   \n",
       "168757  65291b1e9a2fbc229e5f29c9                                  []   \n",
       "169040  65291b1e9a2fbc229e5f29c9                                  []   \n",
       "169361  65291b1e9a2fbc229e5f29c9                                  []   \n",
       "170355  65291b1e9a2fbc229e5f29c9                                  []   \n",
       "\n",
       "       reactions                                          image_url  \\\n",
       "1033          {}  https://ichef.bbci.co.uk/news/1024/branded_new...   \n",
       "1011          {}  https://ichef.bbci.co.uk/news/1024/branded_new...   \n",
       "2517          {}  https://ichef.bbci.co.uk/news/1024/branded_new...   \n",
       "1105          {}  https://ichef.bbci.co.uk/news/1024/branded_new...   \n",
       "1080          {}  https://ichef.bbci.co.uk/news/1024/branded_new...   \n",
       "...          ...                                                ...   \n",
       "170769        {}  https://zerodha.com/varsity/wp-content/uploads...   \n",
       "168757        {}  https://zerodha.com/varsity/wp-content/uploads...   \n",
       "169040        {}  https://zerodha.com/varsity/wp-content/uploads...   \n",
       "169361        {}  https://zerodha.com/varsity/wp-content/uploads...   \n",
       "170355        {}  https://zerodha.com/varsity/wp-content/uploads...   \n",
       "\n",
       "       is_premium_article         last_updated_time            published_time  \\\n",
       "1033                False  2023-05-02T17:38:37+0000  2023-05-02T17:38:37+0000   \n",
       "1011                False  2023-09-26T23:06:58+0000  2023-09-26T23:06:58+0000   \n",
       "2517                False  2023-09-06T10:31:24+0000  2023-09-06T10:31:24+0000   \n",
       "1105                False  2023-08-10T12:44:55+0000  2023-08-10T12:44:55+0000   \n",
       "1080                False  2023-02-14T13:27:57+0000  2023-02-14T13:27:57+0000   \n",
       "...                   ...                       ...                       ...   \n",
       "170769              False  2020-01-29T06:37:15+0000  2020-01-29T06:37:15+0000   \n",
       "168757              False  2020-05-06T06:29:46+0000  2020-05-06T06:29:46+0000   \n",
       "169040              False  2020-07-20T10:57:32+0000  2020-07-20T10:57:32+0000   \n",
       "169361              False  2020-12-15T06:31:41+0000  2020-12-15T06:31:41+0000   \n",
       "170355              False  2020-09-01T06:07:19+0000  2020-09-01T06:07:19+0000   \n",
       "\n",
       "                                        short_description  ...      prob  id  \\\n",
       "1033    The owner of the dating app follows other glob...  ...  0.094097  18   \n",
       "1011    Co-founder of Little Moons, Vivien Wong, on wh...  ...  0.113490  18   \n",
       "2517    Some had to skip meals, take on debt or dip in...  ...  0.303434  18   \n",
       "1105    Many homeowners are worried about higher mortg...  ...  0.156812  18   \n",
       "1080    Lenders will have to do better affordability c...  ...  0.941664  18   \n",
       "...                                                   ...  ...       ...  ..   \n",
       "170769  Don't let guilt paralyze you. Work through you...  ...  0.383380   3   \n",
       "168757  A trader's mindset plays a pivotal role in ach...  ...  0.920339   3   \n",
       "169040  Question your knowledge. Gain Information. Doi...  ...  0.657339   3   \n",
       "169361  So if you are stuck in a losing rut, don't be ...  ...  0.459618   3   \n",
       "170355  Consider every possibility and have a detailed...  ...  0.848832   3   \n",
       "\n",
       "       decay      source_name      cat subcat                   fullcat  \\\n",
       "1033     0.9              bbc                                     bbc--   \n",
       "1011     0.9              bbc                                     bbc--   \n",
       "2517     0.9              bbc                                     bbc--   \n",
       "1105     0.9              bbc                                     bbc--   \n",
       "1080     0.9              bbc                                     bbc--   \n",
       "...      ...              ...      ...    ...                       ...   \n",
       "170769     1  zerodha-varsity  varsity         zerodha-varsity-varsity-   \n",
       "168757     1  zerodha-varsity  varsity         zerodha-varsity-varsity-   \n",
       "169040     1  zerodha-varsity  varsity         zerodha-varsity-varsity-   \n",
       "169361     1  zerodha-varsity  varsity         zerodha-varsity-varsity-   \n",
       "170355     1  zerodha-varsity  varsity         zerodha-varsity-varsity-   \n",
       "\n",
       "       scaled_proportion is_selected proportion  \n",
       "1033            0.008711       False   0.000432  \n",
       "1011            0.008711       False   0.000432  \n",
       "2517            0.008711       False   0.000432  \n",
       "1105            0.008711       False   0.000432  \n",
       "1080            0.008711       False   0.000432  \n",
       "...                  ...         ...        ...  \n",
       "170769          0.013321       False   0.000660  \n",
       "168757          0.013321       False   0.000660  \n",
       "169040          0.013321       False   0.000660  \n",
       "169361          0.013321       False   0.000660  \n",
       "170355          0.013321       False   0.000660  \n",
       "\n",
       "[694 rows x 23 columns]"
      ]
     },
     "execution_count": 532,
     "metadata": {},
     "output_type": "execute_result"
    }
   ],
   "source": [
    "oversampled_articles_df"
   ]
  },
  {
   "cell_type": "code",
   "execution_count": 533,
   "id": "ba39d329-2e0b-428e-93d3-b1d4cdad04ba",
   "metadata": {
    "tags": []
   },
   "outputs": [],
   "source": [
    "final_shortlisted_articles = pd.concat([shortlisted_articles, oversampled_articles_df])"
   ]
  },
  {
   "cell_type": "code",
   "execution_count": 537,
   "id": "ee0fe170-fd13-49b1-ad04-7926bd4ed6ab",
   "metadata": {
    "tags": []
   },
   "outputs": [
    {
     "data": {
      "text/html": [
       "<div>\n",
       "<style scoped>\n",
       "    .dataframe tbody tr th:only-of-type {\n",
       "        vertical-align: middle;\n",
       "    }\n",
       "\n",
       "    .dataframe tbody tr th {\n",
       "        vertical-align: top;\n",
       "    }\n",
       "\n",
       "    .dataframe thead th {\n",
       "        text-align: right;\n",
       "    }\n",
       "</style>\n",
       "<table border=\"1\" class=\"dataframe\">\n",
       "  <thead>\n",
       "    <tr style=\"text-align: right;\">\n",
       "      <th></th>\n",
       "      <th>article_id</th>\n",
       "      <th>url</th>\n",
       "      <th>source_id</th>\n",
       "      <th>authors</th>\n",
       "      <th>reactions</th>\n",
       "      <th>image_url</th>\n",
       "      <th>is_premium_article</th>\n",
       "      <th>last_updated_time</th>\n",
       "      <th>published_time</th>\n",
       "      <th>short_description</th>\n",
       "      <th>...</th>\n",
       "      <th>prob</th>\n",
       "      <th>id</th>\n",
       "      <th>decay</th>\n",
       "      <th>source_name</th>\n",
       "      <th>cat</th>\n",
       "      <th>subcat</th>\n",
       "      <th>fullcat</th>\n",
       "      <th>scaled_proportion</th>\n",
       "      <th>is_selected</th>\n",
       "      <th>proportion</th>\n",
       "    </tr>\n",
       "  </thead>\n",
       "  <tbody>\n",
       "    <tr>\n",
       "      <th>162953</th>\n",
       "      <td>6571c2eb25cc9a343f03c5e2</td>\n",
       "      <td>https://www.moneycontrol.com/news/business/ear...</td>\n",
       "      <td>6560af039952a16bbc397224</td>\n",
       "      <td>[Abhishek Shingare]</td>\n",
       "      <td>{}</td>\n",
       "      <td>https://images.moneycontrol.com/static-mcnews/...</td>\n",
       "      <td>False</td>\n",
       "      <td>2023-08-14T20:20:50+05:30</td>\n",
       "      <td>2023-08-14T20:00:50+05:30</td>\n",
       "      <td>NaN</td>\n",
       "      <td>...</td>\n",
       "      <td>0.001560</td>\n",
       "      <td>20</td>\n",
       "      <td>0.9</td>\n",
       "      <td>money-control</td>\n",
       "      <td>business</td>\n",
       "      <td>earnings</td>\n",
       "      <td>money-control-business-earnings</td>\n",
       "      <td>0.003007</td>\n",
       "      <td>True</td>\n",
       "      <td>0.000149</td>\n",
       "    </tr>\n",
       "    <tr>\n",
       "      <th>120299</th>\n",
       "      <td>6571c35925cc9a343f03fcee</td>\n",
       "      <td>https://www.moneycontrol.com/news/business/cor...</td>\n",
       "      <td>6560af039952a16bbc397224</td>\n",
       "      <td>[Ankit Saproo]</td>\n",
       "      <td>{}</td>\n",
       "      <td>https://images.moneycontrol.com/static-mcnews/...</td>\n",
       "      <td>False</td>\n",
       "      <td>2023-04-03T07:27:23+05:30</td>\n",
       "      <td>2023-04-03T07:27:23+05:30</td>\n",
       "      <td>A round-up of top newspaper stories to keep yo...</td>\n",
       "      <td>...</td>\n",
       "      <td>0.161765</td>\n",
       "      <td>20</td>\n",
       "      <td>0.9</td>\n",
       "      <td>money-control</td>\n",
       "      <td>business</td>\n",
       "      <td>corporate-action</td>\n",
       "      <td>money-control-business-corporate-action</td>\n",
       "      <td>0.278475</td>\n",
       "      <td>True</td>\n",
       "      <td>0.013807</td>\n",
       "    </tr>\n",
       "    <tr>\n",
       "      <th>143284</th>\n",
       "      <td>6581079d683f430d81565e1b</td>\n",
       "      <td>https://www.cnbctv18.com/real-estate/ashiana-h...</td>\n",
       "      <td>6555992096fb32eef21a562d</td>\n",
       "      <td>[Sonal Bhutra]</td>\n",
       "      <td>{}</td>\n",
       "      <td>https://images.cnbctv18.com/wp-content/uploads...</td>\n",
       "      <td>False</td>\n",
       "      <td>2023-12-18T19:38:36+05:30</td>\n",
       "      <td>2023-12-18T19:38:36+05:30</td>\n",
       "      <td>In an interview with CNBC-TV18, Varun Gupta, D...</td>\n",
       "      <td>...</td>\n",
       "      <td>0.030506</td>\n",
       "      <td>14</td>\n",
       "      <td>0.9</td>\n",
       "      <td>cnbc-tv-18</td>\n",
       "      <td>real-estate</td>\n",
       "      <td></td>\n",
       "      <td>cnbc-tv-18-real-estate-</td>\n",
       "      <td>0.031839</td>\n",
       "      <td>True</td>\n",
       "      <td>0.001579</td>\n",
       "    </tr>\n",
       "    <tr>\n",
       "      <th>100815</th>\n",
       "      <td>651e02b8a662d76276b852f2</td>\n",
       "      <td>https://economictimes.indiatimes.com/news/poli...</td>\n",
       "      <td>6512cdcad01a9c8e86263e05</td>\n",
       "      <td>[PTI]</td>\n",
       "      <td>{}</td>\n",
       "      <td>https://economictimes.indiatimes.com/thumb/msi...</td>\n",
       "      <td>False</td>\n",
       "      <td>2023-07-03T19:08:00+05:30</td>\n",
       "      <td>2023-07-03T19:06:00+05:30</td>\n",
       "      <td>BJP's Mahesh Jethmalani, however, made a stron...</td>\n",
       "      <td>...</td>\n",
       "      <td>0.004322</td>\n",
       "      <td>1</td>\n",
       "      <td>0.9</td>\n",
       "      <td>economic-times</td>\n",
       "      <td>news</td>\n",
       "      <td>politics-and-nation</td>\n",
       "      <td>economic-times-news-politics-and-nation</td>\n",
       "      <td>0.007129</td>\n",
       "      <td>True</td>\n",
       "      <td>0.000353</td>\n",
       "    </tr>\n",
       "    <tr>\n",
       "      <th>155746</th>\n",
       "      <td>6555cbee4b13023f934a30ec</td>\n",
       "      <td>https://www.cnbctv18.com/photos/market/shree-c...</td>\n",
       "      <td>6555992096fb32eef21a562d</td>\n",
       "      <td>[Kanishka Sarkar]</td>\n",
       "      <td>{}</td>\n",
       "      <td>https://images.cnbctv18.com/wp-content/uploads...</td>\n",
       "      <td>False</td>\n",
       "      <td>2023-05-23T09:20:32+05:30</td>\n",
       "      <td>2023-05-23T09:20:32+05:30</td>\n",
       "      <td>Brokerage calls for May 23: Macquarie has give...</td>\n",
       "      <td>...</td>\n",
       "      <td>0.015341</td>\n",
       "      <td>14</td>\n",
       "      <td>0.9</td>\n",
       "      <td>cnbc-tv-18</td>\n",
       "      <td>photos</td>\n",
       "      <td>market</td>\n",
       "      <td>cnbc-tv-18-photos-market</td>\n",
       "      <td>0.019866</td>\n",
       "      <td>True</td>\n",
       "      <td>0.000985</td>\n",
       "    </tr>\n",
       "    <tr>\n",
       "      <th>...</th>\n",
       "      <td>...</td>\n",
       "      <td>...</td>\n",
       "      <td>...</td>\n",
       "      <td>...</td>\n",
       "      <td>...</td>\n",
       "      <td>...</td>\n",
       "      <td>...</td>\n",
       "      <td>...</td>\n",
       "      <td>...</td>\n",
       "      <td>...</td>\n",
       "      <td>...</td>\n",
       "      <td>...</td>\n",
       "      <td>...</td>\n",
       "      <td>...</td>\n",
       "      <td>...</td>\n",
       "      <td>...</td>\n",
       "      <td>...</td>\n",
       "      <td>...</td>\n",
       "      <td>...</td>\n",
       "      <td>...</td>\n",
       "      <td>...</td>\n",
       "    </tr>\n",
       "    <tr>\n",
       "      <th>170769</th>\n",
       "      <td>652ebba21e5cc42b1b13995e</td>\n",
       "      <td>https://zerodha.com/varsity/chapter/working-th...</td>\n",
       "      <td>65291b1e9a2fbc229e5f29c9</td>\n",
       "      <td>[]</td>\n",
       "      <td>{}</td>\n",
       "      <td>https://zerodha.com/varsity/wp-content/uploads...</td>\n",
       "      <td>False</td>\n",
       "      <td>2020-01-29T06:37:15+0000</td>\n",
       "      <td>2020-01-29T06:37:15+0000</td>\n",
       "      <td>Don't let guilt paralyze you. Work through you...</td>\n",
       "      <td>...</td>\n",
       "      <td>0.383380</td>\n",
       "      <td>3</td>\n",
       "      <td>1</td>\n",
       "      <td>zerodha-varsity</td>\n",
       "      <td>varsity</td>\n",
       "      <td></td>\n",
       "      <td>zerodha-varsity-varsity-</td>\n",
       "      <td>0.013321</td>\n",
       "      <td>False</td>\n",
       "      <td>0.000660</td>\n",
       "    </tr>\n",
       "    <tr>\n",
       "      <th>168757</th>\n",
       "      <td>652ebbc41e5cc42b1b139a55</td>\n",
       "      <td>https://zerodha.com/varsity/chapter/developing...</td>\n",
       "      <td>65291b1e9a2fbc229e5f29c9</td>\n",
       "      <td>[]</td>\n",
       "      <td>{}</td>\n",
       "      <td>https://zerodha.com/varsity/wp-content/uploads...</td>\n",
       "      <td>False</td>\n",
       "      <td>2020-05-06T06:29:46+0000</td>\n",
       "      <td>2020-05-06T06:29:46+0000</td>\n",
       "      <td>A trader's mindset plays a pivotal role in ach...</td>\n",
       "      <td>...</td>\n",
       "      <td>0.920339</td>\n",
       "      <td>3</td>\n",
       "      <td>1</td>\n",
       "      <td>zerodha-varsity</td>\n",
       "      <td>varsity</td>\n",
       "      <td></td>\n",
       "      <td>zerodha-varsity-varsity-</td>\n",
       "      <td>0.013321</td>\n",
       "      <td>False</td>\n",
       "      <td>0.000660</td>\n",
       "    </tr>\n",
       "    <tr>\n",
       "      <th>169040</th>\n",
       "      <td>652ebbbf1e5cc42b1b139a1d</td>\n",
       "      <td>https://zerodha.com/varsity/chapter/overconfid...</td>\n",
       "      <td>65291b1e9a2fbc229e5f29c9</td>\n",
       "      <td>[]</td>\n",
       "      <td>{}</td>\n",
       "      <td>https://zerodha.com/varsity/wp-content/uploads...</td>\n",
       "      <td>False</td>\n",
       "      <td>2020-07-20T10:57:32+0000</td>\n",
       "      <td>2020-07-20T10:57:32+0000</td>\n",
       "      <td>Question your knowledge. Gain Information. Doi...</td>\n",
       "      <td>...</td>\n",
       "      <td>0.657339</td>\n",
       "      <td>3</td>\n",
       "      <td>1</td>\n",
       "      <td>zerodha-varsity</td>\n",
       "      <td>varsity</td>\n",
       "      <td></td>\n",
       "      <td>zerodha-varsity-varsity-</td>\n",
       "      <td>0.013321</td>\n",
       "      <td>False</td>\n",
       "      <td>0.000660</td>\n",
       "    </tr>\n",
       "    <tr>\n",
       "      <th>169361</th>\n",
       "      <td>652ebbd11e5cc42b1b139ade</td>\n",
       "      <td>https://zerodha.com/varsity/chapter/shifting-g...</td>\n",
       "      <td>65291b1e9a2fbc229e5f29c9</td>\n",
       "      <td>[]</td>\n",
       "      <td>{}</td>\n",
       "      <td>https://zerodha.com/varsity/wp-content/uploads...</td>\n",
       "      <td>False</td>\n",
       "      <td>2020-12-15T06:31:41+0000</td>\n",
       "      <td>2020-12-15T06:31:41+0000</td>\n",
       "      <td>So if you are stuck in a losing rut, don't be ...</td>\n",
       "      <td>...</td>\n",
       "      <td>0.459618</td>\n",
       "      <td>3</td>\n",
       "      <td>1</td>\n",
       "      <td>zerodha-varsity</td>\n",
       "      <td>varsity</td>\n",
       "      <td></td>\n",
       "      <td>zerodha-varsity-varsity-</td>\n",
       "      <td>0.013321</td>\n",
       "      <td>False</td>\n",
       "      <td>0.000660</td>\n",
       "    </tr>\n",
       "    <tr>\n",
       "      <th>170355</th>\n",
       "      <td>652ebbc91e5cc42b1b139a87</td>\n",
       "      <td>https://zerodha.com/varsity/chapter/considerin...</td>\n",
       "      <td>65291b1e9a2fbc229e5f29c9</td>\n",
       "      <td>[]</td>\n",
       "      <td>{}</td>\n",
       "      <td>https://zerodha.com/varsity/wp-content/uploads...</td>\n",
       "      <td>False</td>\n",
       "      <td>2020-09-01T06:07:19+0000</td>\n",
       "      <td>2020-09-01T06:07:19+0000</td>\n",
       "      <td>Consider every possibility and have a detailed...</td>\n",
       "      <td>...</td>\n",
       "      <td>0.848832</td>\n",
       "      <td>3</td>\n",
       "      <td>1</td>\n",
       "      <td>zerodha-varsity</td>\n",
       "      <td>varsity</td>\n",
       "      <td></td>\n",
       "      <td>zerodha-varsity-varsity-</td>\n",
       "      <td>0.013321</td>\n",
       "      <td>False</td>\n",
       "      <td>0.000660</td>\n",
       "    </tr>\n",
       "  </tbody>\n",
       "</table>\n",
       "<p>2196 rows × 23 columns</p>\n",
       "</div>"
      ],
      "text/plain": [
       "                      article_id  \\\n",
       "162953  6571c2eb25cc9a343f03c5e2   \n",
       "120299  6571c35925cc9a343f03fcee   \n",
       "143284  6581079d683f430d81565e1b   \n",
       "100815  651e02b8a662d76276b852f2   \n",
       "155746  6555cbee4b13023f934a30ec   \n",
       "...                          ...   \n",
       "170769  652ebba21e5cc42b1b13995e   \n",
       "168757  652ebbc41e5cc42b1b139a55   \n",
       "169040  652ebbbf1e5cc42b1b139a1d   \n",
       "169361  652ebbd11e5cc42b1b139ade   \n",
       "170355  652ebbc91e5cc42b1b139a87   \n",
       "\n",
       "                                                      url  \\\n",
       "162953  https://www.moneycontrol.com/news/business/ear...   \n",
       "120299  https://www.moneycontrol.com/news/business/cor...   \n",
       "143284  https://www.cnbctv18.com/real-estate/ashiana-h...   \n",
       "100815  https://economictimes.indiatimes.com/news/poli...   \n",
       "155746  https://www.cnbctv18.com/photos/market/shree-c...   \n",
       "...                                                   ...   \n",
       "170769  https://zerodha.com/varsity/chapter/working-th...   \n",
       "168757  https://zerodha.com/varsity/chapter/developing...   \n",
       "169040  https://zerodha.com/varsity/chapter/overconfid...   \n",
       "169361  https://zerodha.com/varsity/chapter/shifting-g...   \n",
       "170355  https://zerodha.com/varsity/chapter/considerin...   \n",
       "\n",
       "                       source_id              authors reactions  \\\n",
       "162953  6560af039952a16bbc397224  [Abhishek Shingare]        {}   \n",
       "120299  6560af039952a16bbc397224       [Ankit Saproo]        {}   \n",
       "143284  6555992096fb32eef21a562d       [Sonal Bhutra]        {}   \n",
       "100815  6512cdcad01a9c8e86263e05                [PTI]        {}   \n",
       "155746  6555992096fb32eef21a562d    [Kanishka Sarkar]        {}   \n",
       "...                          ...                  ...       ...   \n",
       "170769  65291b1e9a2fbc229e5f29c9                   []        {}   \n",
       "168757  65291b1e9a2fbc229e5f29c9                   []        {}   \n",
       "169040  65291b1e9a2fbc229e5f29c9                   []        {}   \n",
       "169361  65291b1e9a2fbc229e5f29c9                   []        {}   \n",
       "170355  65291b1e9a2fbc229e5f29c9                   []        {}   \n",
       "\n",
       "                                                image_url is_premium_article  \\\n",
       "162953  https://images.moneycontrol.com/static-mcnews/...              False   \n",
       "120299  https://images.moneycontrol.com/static-mcnews/...              False   \n",
       "143284  https://images.cnbctv18.com/wp-content/uploads...              False   \n",
       "100815  https://economictimes.indiatimes.com/thumb/msi...              False   \n",
       "155746  https://images.cnbctv18.com/wp-content/uploads...              False   \n",
       "...                                                   ...                ...   \n",
       "170769  https://zerodha.com/varsity/wp-content/uploads...              False   \n",
       "168757  https://zerodha.com/varsity/wp-content/uploads...              False   \n",
       "169040  https://zerodha.com/varsity/wp-content/uploads...              False   \n",
       "169361  https://zerodha.com/varsity/wp-content/uploads...              False   \n",
       "170355  https://zerodha.com/varsity/wp-content/uploads...              False   \n",
       "\n",
       "                last_updated_time             published_time  \\\n",
       "162953  2023-08-14T20:20:50+05:30  2023-08-14T20:00:50+05:30   \n",
       "120299  2023-04-03T07:27:23+05:30  2023-04-03T07:27:23+05:30   \n",
       "143284  2023-12-18T19:38:36+05:30  2023-12-18T19:38:36+05:30   \n",
       "100815  2023-07-03T19:08:00+05:30  2023-07-03T19:06:00+05:30   \n",
       "155746  2023-05-23T09:20:32+05:30  2023-05-23T09:20:32+05:30   \n",
       "...                           ...                        ...   \n",
       "170769   2020-01-29T06:37:15+0000   2020-01-29T06:37:15+0000   \n",
       "168757   2020-05-06T06:29:46+0000   2020-05-06T06:29:46+0000   \n",
       "169040   2020-07-20T10:57:32+0000   2020-07-20T10:57:32+0000   \n",
       "169361   2020-12-15T06:31:41+0000   2020-12-15T06:31:41+0000   \n",
       "170355   2020-09-01T06:07:19+0000   2020-09-01T06:07:19+0000   \n",
       "\n",
       "                                        short_description  ...      prob  id  \\\n",
       "162953                                                NaN  ...  0.001560  20   \n",
       "120299  A round-up of top newspaper stories to keep yo...  ...  0.161765  20   \n",
       "143284  In an interview with CNBC-TV18, Varun Gupta, D...  ...  0.030506  14   \n",
       "100815  BJP's Mahesh Jethmalani, however, made a stron...  ...  0.004322   1   \n",
       "155746  Brokerage calls for May 23: Macquarie has give...  ...  0.015341  14   \n",
       "...                                                   ...  ...       ...  ..   \n",
       "170769  Don't let guilt paralyze you. Work through you...  ...  0.383380   3   \n",
       "168757  A trader's mindset plays a pivotal role in ach...  ...  0.920339   3   \n",
       "169040  Question your knowledge. Gain Information. Doi...  ...  0.657339   3   \n",
       "169361  So if you are stuck in a losing rut, don't be ...  ...  0.459618   3   \n",
       "170355  Consider every possibility and have a detailed...  ...  0.848832   3   \n",
       "\n",
       "       decay      source_name          cat               subcat  \\\n",
       "162953   0.9    money-control     business             earnings   \n",
       "120299   0.9    money-control     business     corporate-action   \n",
       "143284   0.9       cnbc-tv-18  real-estate                        \n",
       "100815   0.9   economic-times         news  politics-and-nation   \n",
       "155746   0.9       cnbc-tv-18       photos               market   \n",
       "...      ...              ...          ...                  ...   \n",
       "170769     1  zerodha-varsity      varsity                        \n",
       "168757     1  zerodha-varsity      varsity                        \n",
       "169040     1  zerodha-varsity      varsity                        \n",
       "169361     1  zerodha-varsity      varsity                        \n",
       "170355     1  zerodha-varsity      varsity                        \n",
       "\n",
       "                                        fullcat scaled_proportion is_selected  \\\n",
       "162953          money-control-business-earnings          0.003007        True   \n",
       "120299  money-control-business-corporate-action          0.278475        True   \n",
       "143284                  cnbc-tv-18-real-estate-          0.031839        True   \n",
       "100815  economic-times-news-politics-and-nation          0.007129        True   \n",
       "155746                 cnbc-tv-18-photos-market          0.019866        True   \n",
       "...                                         ...               ...         ...   \n",
       "170769                 zerodha-varsity-varsity-          0.013321       False   \n",
       "168757                 zerodha-varsity-varsity-          0.013321       False   \n",
       "169040                 zerodha-varsity-varsity-          0.013321       False   \n",
       "169361                 zerodha-varsity-varsity-          0.013321       False   \n",
       "170355                 zerodha-varsity-varsity-          0.013321       False   \n",
       "\n",
       "       proportion  \n",
       "162953   0.000149  \n",
       "120299   0.013807  \n",
       "143284   0.001579  \n",
       "100815   0.000353  \n",
       "155746   0.000985  \n",
       "...           ...  \n",
       "170769   0.000660  \n",
       "168757   0.000660  \n",
       "169040   0.000660  \n",
       "169361   0.000660  \n",
       "170355   0.000660  \n",
       "\n",
       "[2196 rows x 23 columns]"
      ]
     },
     "execution_count": 537,
     "metadata": {},
     "output_type": "execute_result"
    }
   ],
   "source": [
    "final_shortlisted_articles"
   ]
  },
  {
   "cell_type": "code",
   "execution_count": 539,
   "id": "4187da16-c8c3-4757-9d23-7508b260d0ba",
   "metadata": {
    "scrolled": true,
    "tags": []
   },
   "outputs": [],
   "source": [
    "final_shortlisted_articles = final_shortlisted_articles.drop_duplicates('article_id')"
   ]
  },
  {
   "cell_type": "code",
   "execution_count": 540,
   "id": "6d0bc4a7-e2ac-43f1-b399-b6cbb2037d76",
   "metadata": {
    "tags": []
   },
   "outputs": [
    {
     "data": {
      "text/plain": [
       "source_name\n",
       "bbc                  74\n",
       "bq-prime             75\n",
       "business-insider     75\n",
       "business-world       97\n",
       "cnbc                 75\n",
       "cnbc-tv-18          133\n",
       "economic-times      265\n",
       "economist            74\n",
       "finshots             75\n",
       "groww                75\n",
       "inc42                73\n",
       "investopedia        148\n",
       "live-mint           342\n",
       "money-control       311\n",
       "navi                 75\n",
       "reuters              72\n",
       "wint-wealth          75\n",
       "zerodha-varsity      74\n",
       "Name: url, dtype: int64"
      ]
     },
     "execution_count": 540,
     "metadata": {},
     "output_type": "execute_result"
    }
   ],
   "source": [
    "final_shortlisted_articles.groupby('source_name')['url'].count()"
   ]
  },
  {
   "cell_type": "code",
   "execution_count": 541,
   "id": "764af40c-cb76-4e6d-a3a4-f265a0f8fcc0",
   "metadata": {
    "tags": []
   },
   "outputs": [],
   "source": [
    "def __generate_full_content(title: str, cleaned_text: str) -> str:\n",
    "    return f'|headline|: {title} \\n |content|: {cleaned_text}'\n",
    "\n",
    "def __clean_article_content(article_content: str):\n",
    "    # removing new line symbol\n",
    "    # article_content = article_content.replace('\\n', '')\n",
    "    # article_content = article_content.replace('\\t', '')\n",
    "    # removing characters which are not part of alphabets, numbers, currencies, percent, dot, dash, brackets, space, slash\n",
    "    article_content = re.sub(r\"[^a-zA-Z0-9$€₹%\\-:/()\\[\\]{} .]\", \"\", article_content)\n",
    "    return article_content\n",
    "\n",
    "def get_article_text(article_id):\n",
    "    article_data = ArticleService.get_article_text_from_s3(article_id)\n",
    "    title = article_data['meta_data']['title']\n",
    "    cleaned_text = article_data['cleaned_text']\n",
    "    full_content = __generate_full_content(title, cleaned_text)\n",
    "    cleaned_text = __clean_article_content(full_content)\n",
    "    return cleaned_text"
   ]
  },
  {
   "cell_type": "code",
   "execution_count": 542,
   "id": "6b2477f2-86eb-45c5-9471-0995c7fec596",
   "metadata": {
    "tags": []
   },
   "outputs": [
    {
     "data": {
      "application/vnd.jupyter.widget-view+json": {
       "model_id": "7a938a13c929452c81d5c809fe0b901d",
       "version_major": 2,
       "version_minor": 0
      },
      "text/plain": [
       "  0%|          | 0/2188 [00:00<?, ?it/s]"
      ]
     },
     "metadata": {},
     "output_type": "display_data"
    }
   ],
   "source": [
    "final_shortlisted_articles['full_content'] = final_shortlisted_articles['article_id'].progress_apply(lambda x: get_article_text(x))"
   ]
  },
  {
   "cell_type": "code",
   "execution_count": 546,
   "id": "4b8d6df4-266c-48d3-b012-e0e8a5ad5e01",
   "metadata": {
    "tags": []
   },
   "outputs": [
    {
     "data": {
      "text/plain": [
       "'https://www.moneycontrol.com/news/business/earnings/standard-surfac-standalone-june-2023-net-sales-at-rs-29-52-crore-down-31-42-y-o-y-11186781.html'"
      ]
     },
     "execution_count": 546,
     "metadata": {},
     "output_type": "execute_result"
    }
   ],
   "source": [
    "final_shortlisted_articles.iloc[0].url"
   ]
  },
  {
   "cell_type": "code",
   "execution_count": 544,
   "id": "7bb8554d-6f5e-4737-acbe-44abf7b0c2c2",
   "metadata": {
    "tags": []
   },
   "outputs": [
    {
     "data": {
      "text/plain": [
       "'headline: Standard Surfac Standalone June 2023 Net Sales at Rs 29.52 crore down 31.42% Y-o-Y  content: Reported Standalone quarterly numbers for Standard Surfactants are: Net Sales at Rs 29.52 crore in June 2023 down 31.42% from Rs. 43.04 crore in June 2022. Story continues below Advertisement Remove Ad Quarterly Net Profit at Rs. 0.45 crore in June 2023 down 32.55% from Rs. 0.66 crore in June 2022. EBITDA stands at Rs. 0.92 crore in June 2023 down 31.85% from Rs. 1.35 crore in June 2022. Standard Surfac EPS has decreased to Rs. 0.54 in June 2023 from Rs. 0.93 in June 2022. Standard Surfac shares closed at 57.39 on August 14 2023 (BSE) and has given -9.26% returns over the last 6 months and -15.10% over the last 12 months.'"
      ]
     },
     "execution_count": 544,
     "metadata": {},
     "output_type": "execute_result"
    }
   ],
   "source": [
    "final_shortlisted_articles.iloc[0].full_content"
   ]
  },
  {
   "cell_type": "code",
   "execution_count": 548,
   "id": "369b6ee6-cce1-4651-828c-018fb0dfb6df",
   "metadata": {
    "tags": []
   },
   "outputs": [],
   "source": [
    "final_shortlisted_articles['num_words'] = final_shortlisted_articles['full_content'].apply(lambda x: len(x.split(' ')))"
   ]
  },
  {
   "cell_type": "code",
   "execution_count": 549,
   "id": "4d907d05-88fb-48af-ac87-bdb29d841349",
   "metadata": {
    "tags": []
   },
   "outputs": [],
   "source": [
    "pd.options.display.max_rows = 200"
   ]
  },
  {
   "cell_type": "code",
   "execution_count": 550,
   "id": "98431cf4-8638-4c9f-92a8-edb5dc2400e6",
   "metadata": {
    "tags": []
   },
   "outputs": [],
   "source": [
    "shortlisted_articles = final_shortlisted_articles"
   ]
  },
  {
   "cell_type": "code",
   "execution_count": 551,
   "id": "5dc8b510-90a3-4b0d-a544-dd6093a4bb17",
   "metadata": {
    "tags": []
   },
   "outputs": [],
   "source": [
    "shortlisted_articles = shortlisted_articles.sample(frac=1)"
   ]
  },
  {
   "cell_type": "code",
   "execution_count": 552,
   "id": "ecc0396e-3208-4fb2-8b0f-acd7ee8a9a2f",
   "metadata": {
    "tags": []
   },
   "outputs": [
    {
     "data": {
      "text/plain": [
       "2188"
      ]
     },
     "execution_count": 552,
     "metadata": {},
     "output_type": "execute_result"
    }
   ],
   "source": [
    "len(shortlisted_articles)"
   ]
  },
  {
   "cell_type": "code",
   "execution_count": 579,
   "id": "a7ea4831-dddf-4dbf-9b2b-0e8c0d426a98",
   "metadata": {
    "tags": []
   },
   "outputs": [],
   "source": [
    "shortlisted_articles.to_csv('shortlisted_articles-29-Dec-23.csv')"
   ]
  },
  {
   "cell_type": "code",
   "execution_count": 556,
   "id": "fa16af33-3983-4340-94d8-69c1ab24731a",
   "metadata": {
    "scrolled": true,
    "tags": []
   },
   "outputs": [
    {
     "data": {
      "text/plain": [
       "count     2188.000000\n",
       "mean       705.929159\n",
       "std        633.173013\n",
       "min          7.000000\n",
       "25%        345.750000\n",
       "50%        535.000000\n",
       "75%        878.250000\n",
       "max      12777.000000\n",
       "Name: num_words, dtype: float64"
      ]
     },
     "execution_count": 556,
     "metadata": {},
     "output_type": "execute_result"
    }
   ],
   "source": [
    "shortlisted_articles.num_words.describe()"
   ]
  },
  {
   "cell_type": "code",
   "execution_count": 207,
   "id": "533722f6-3c33-4dcc-ae7a-d5a4b17a290a",
   "metadata": {
    "tags": []
   },
   "outputs": [],
   "source": [
    "test_set = shortlisted_articles[:250]"
   ]
  },
  {
   "cell_type": "code",
   "execution_count": 208,
   "id": "e3e8e169-f14e-4b5e-a778-8f8968dae8aa",
   "metadata": {
    "tags": []
   },
   "outputs": [],
   "source": [
    "train_set = shortlisted_articles[250:]"
   ]
  },
  {
   "cell_type": "markdown",
   "id": "72b93c6e-9b48-4c00-b2c4-18ff071e49cf",
   "metadata": {},
   "source": [
    "### Creating the prompt"
   ]
  },
  {
   "cell_type": "code",
   "execution_count": 578,
   "id": "f16b65b8-0497-4ecd-8429-f53045bb7656",
   "metadata": {
    "tags": []
   },
   "outputs": [],
   "source": [
    "system_prompt = '''\n",
    "You are an expert chief editor for a leading Indian business and financial content website. You evaluate critical attributes of articles to gate keep content quality. The following are 18 attributes with the format of attribute: <instruction>\n",
    "\n",
    "1. summary:  <Summarize the following article with following instructions.\n",
    "\n",
    "a. Readability: Follow proper grammer and maintain easy readability with no more than 1-3 points and upto a total of less than 80 words. 1-2 points for short articles and 3 points for long articles\n",
    "b. Faithfulness: Don't mention any details which are not part of the article\n",
    "c. Accuracy: All the numbers, dates, events should have the correct attribution. Do not, at any cost mix up numbers or dates. \n",
    "d. Recall: No critical info should be missed\n",
    "e. structure: Each point should be only a single line. Prefix the point with a relevant label for that point. The points should overall capture the essence of the article. The labels should be human readable and don’t use any _ or programming symbols. \n",
    "f. format: html bullet point format with bolded labels like following. We’ll call this format as _summary_html_format_\n",
    "\n",
    "“\n",
    "<ul>\n",
    "  <li><strong>label1</strong>: point1</li>\n",
    "  <li><strong>label2</strong>: point2</li>\n",
    " …\n",
    "</ul>\n",
    "“\n",
    "no preamble or postamble. Make sure that you adhear to the maximum limit of 3 points. It is very important that the format is a valid html format and has bullets, lines and bolded labels>\n",
    "\n",
    "2. summary_critique (short text): <critique the summary above by comparing with the article and the instructions. check for any important details missed or changes needed in Readability, Faithfulness, Accuracy and Recall of the expected format. Evaluate if there are too many or too few points based on article length. Access the validity of the html format as well against _summary_html_format_>\n",
    "3. improved_summary: <create an improved summary by considering summary and summary_critique in the same format as a valid _summary_html_format_>\n",
    "4. top_categories (5 semi colon separated words): <List 5 progressively general categories separated by semicolons (;), avoiding quotes to prevent json.loads() failures>\n",
    "5. business_or_financial_article (True/False) : <True or False, based on the article's relevance to Indian corporations, investors, and policies impacting them.>\n",
    "6. indian_or_international (indian/international): <is the article specific for india or is an international content>\n",
    "7. relevant_for_indians (True/False) : <True or False, considering the article's relevance and applicability to Indian readers, including international and multinational contexts.>\n",
    "8. article_validity_duration_evaluation (short text) : <analyse the factors for the relevance duration. stock fluctuations for 1 day; significant policy changes - few days; educational are timeless unless it references any regulations or acts, in which case a max of 30 days (regulations change). quarterly results valid for 3 days, yearly results for a 7>\n",
    "9. article_validity_duration (one of 1, 3, 7, 14, 30, -1) : <calculate number of days based on previous attribute among one of 1,3,7,14,30. -1 for timeless. Don’t provide any other number apart from these>\n",
    "10. popularity_evaluation (short text): <evaluate the likely popularity of the article based on the following criteria:\n",
    "\n",
    "a. reader_interest_score: how many people among casual business news readers are likely to be interested. Considering what score to give between 0 to 1\n",
    "b. headline_effectiveness: ability of headline to engage. Considering what score to give between 0 to 1\n",
    "c. event_novently: how frequently the event occurs or this type of content is available. every few hours, days, weeks or months. Considering what score to give between 0 to 1. Anything which happens only every few quarters is more novel. \n",
    "d. emotional_impact: what is the most common emotion that readers are going to go through and how many readers will likely have the emotion. Considering what score to give between 0 to 1\n",
    "\n",
    "Be stingy in giving scores more than 0.4\n",
    ">\n",
    "11. popularity_evaluation_critique (short text): <critique the each of the scores by re looking at the article and seeing if there is anything which is over rated or anything which is under rated>\n",
    "12. final_reader_interest_score: <0 to 1 float>\n",
    "13. final_headline_effectiveness_score: <0 to 1 float>\n",
    "14. final_event_novently_score: <0 to 1 float>\n",
    "15. final_emotional_impact_score: <0 to 1 float>\n",
    "16. improved_headline (short text) : <Write a headline based on the content of the article to grab attention by evoking curiosity or an emotional/intellectual response, but avoid a click bait headline>\n",
    "17. article_type (fact/opinion/analysis/educational/sponsored) : <Determine if the article is fact, opinion, analysis, educational, or sponsored, based on content and presentation. Predictions without sufficient data to backup is opinion, with data is analysis. >\n",
    "18. article_sentiment(bull/bear/NA): <sentiment of the article is bullish, bearish or NA. balanced is NA>\n",
    "\n",
    "\n",
    "your response should be a json structure with all the 18 above keys without missing any key. It is very important that the response is directly readable with json.loads(). no preamble or postamble. \n",
    "\n",
    "|article|\n",
    "'''"
   ]
  },
  {
   "cell_type": "markdown",
   "id": "0bbcb2be-712a-4f6a-aa80-a9f733cd40a9",
   "metadata": {},
   "source": [
    "### Calling GPT-4"
   ]
  },
  {
   "cell_type": "code",
   "execution_count": 559,
   "id": "f2df43f3-8de2-4d2e-a435-e3bdfd98fafe",
   "metadata": {
    "tags": []
   },
   "outputs": [],
   "source": [
    "import openai"
   ]
  },
  {
   "cell_type": "code",
   "execution_count": 560,
   "id": "4c4c6b62-05ce-40f0-98bc-2cc452982cad",
   "metadata": {
    "tags": []
   },
   "outputs": [],
   "source": [
    "openai.api_key = ''"
   ]
  },
  {
   "cell_type": "code",
   "execution_count": 561,
   "id": "a7c156b9-e6df-4514-8984-e07fbdbb0871",
   "metadata": {
    "tags": []
   },
   "outputs": [
    {
     "data": {
      "text/plain": [
       "'653168bc1e5cc42b1b13b724'"
      ]
     },
     "execution_count": 561,
     "metadata": {},
     "output_type": "execute_result"
    }
   ],
   "source": [
    "shortlisted_articles.iloc[0].article_id"
   ]
  },
  {
   "cell_type": "code",
   "execution_count": 562,
   "id": "6ec747d9-ce83-4efc-a51d-5ebe8849d8b4",
   "metadata": {
    "tags": []
   },
   "outputs": [],
   "source": [
    "res1 = openai.ChatCompletion.create(model = \"gpt-4\", messages = [{'role': 'system', 'content': system_prompt}, {'role': 'user', 'content': shortlisted_articles.iloc[0].full_content}])"
   ]
  },
  {
   "cell_type": "code",
   "execution_count": 563,
   "id": "3475cd77-6e33-4316-832f-ddaed0deb66b",
   "metadata": {
    "tags": []
   },
   "outputs": [],
   "source": [
    "import json"
   ]
  },
  {
   "cell_type": "code",
   "execution_count": 564,
   "id": "61d77046-56fb-40e9-a6e6-9131894e8ed1",
   "metadata": {
    "tags": []
   },
   "outputs": [],
   "source": [
    "parsed_json = json.loads(res1['choices'][0]['message']['content'])"
   ]
  },
  {
   "cell_type": "code",
   "execution_count": 565,
   "id": "70f5fa2e-5676-4616-b7fe-5b69139f66c9",
   "metadata": {
    "tags": []
   },
   "outputs": [
    {
     "data": {
      "text/plain": [
       "{'summary': '<ul><li><strong>Investment Opportunity</strong>: Lower valuations in small- and mid-cap stocks could potentially offer Indian investors long-term advantages, suggests Vinit Sambre of DSP Mutual Fund.</li><li><strong>Investment Strategy</strong>: Investors aspiring to invest in these categories should be ready to maintain long-term outlooks of at least five years and be willing to diversify their portfolios.</li><li><strong>Market Outlook</strong>: Indian market is expected to be in a consolidation phase for the near term due to macroeconomic conditions and slowing growth rates for Indian corporations.</li></ul>',\n",
       " 'summary_critique': 'The summary has captured the critical points from the article accurately following good readability, faithfulness, and recall. HTML format adheres to _summary_html_format_ and the number of points is appropriate relative to the length of the article.',\n",
       " 'improved_summary': \"<ul><li><strong>Investment Outlook</strong>: DSP Mutual Fund's Vinit Sambre recommends considering small- and mid-cap stocks for long-term gains due to lower valuations.</li><li><strong>Investment Guidance</strong>: Sambre emphasizes the need for a long-term view of at least five years and portfolio diversification when investing in volatile small- and mid-cap stocks.</li><li><strong>Market Prediction</strong>: Indian stock markets will likely remain in a consolidation phase due to macroeconomic uncertainties and projected slow corporate growth rates.</li></ul>\",\n",
       " 'top_categories': 'Indian Financial News; Small and Mid Cap Stocks; DSP Mutual Fund; Long term Investment; Stock Market Consolidation',\n",
       " 'business_or_financial_article': True,\n",
       " 'indian_or_international': 'indian',\n",
       " 'relevant_for_indians': True,\n",
       " 'article_validity_duration_evaluation': 'The article is a mix of informative and predictive content. The validity period would thus primarily be dictated by market trends and economic events.',\n",
       " 'article_validity_duration': 30,\n",
       " 'popularity_evaluation': \"reader_interest_score: 0.5, considering the interest in investment opportunities. headline_effectiveness: 0.4, since it broadly covers the article content. event_novently: 0.3, as fluctuations in stock values occur regularly. emotional_impact: 0.2, given the subject matter's informational character.\",\n",
       " 'popularity_evaluation_critique': \"The scores seem well-adjusted. The headline's effectiveness, though slightly less engaging, properly reflects the article's content.\",\n",
       " 'final_reader_interest_score': 0.5,\n",
       " 'final_headline_effectiveness_score': 0.4,\n",
       " 'final_event_novently_score': 0.3,\n",
       " 'final_emotional_impact_score': 0.2,\n",
       " 'improved_headline': \"Seize Long-term Advantages in India's Small & Mid-cap Categories, recommends DSP Mutual Fund\",\n",
       " 'article_type': 'analysis',\n",
       " 'article_sentiment': 'bull'}"
      ]
     },
     "execution_count": 565,
     "metadata": {},
     "output_type": "execute_result"
    }
   ],
   "source": [
    "parsed_json"
   ]
  },
  {
   "cell_type": "code",
   "execution_count": 266,
   "id": "2458a2f4-f646-4026-8713-3c1f41286e08",
   "metadata": {
    "tags": []
   },
   "outputs": [],
   "source": [
    "response_tuple = [('65316faa1e5cc42b1b141024', res1)]"
   ]
  },
  {
   "cell_type": "code",
   "execution_count": 268,
   "id": "a5375805-6762-476f-98a7-645690220d06",
   "metadata": {
    "tags": []
   },
   "outputs": [],
   "source": [
    "pd.DataFrame(response_tuple, columns = ['article_id', 'response']).to_csv('gpt-4-responses-22-nov.csv',header=None, mode='a')"
   ]
  },
  {
   "cell_type": "code",
   "execution_count": 280,
   "id": "bd18c50d-0d80-4308-8548-dfd61c53e8f3",
   "metadata": {
    "tags": []
   },
   "outputs": [
    {
     "data": {
      "text/html": [
       "<div>\n",
       "<style scoped>\n",
       "    .dataframe tbody tr th:only-of-type {\n",
       "        vertical-align: middle;\n",
       "    }\n",
       "\n",
       "    .dataframe tbody tr th {\n",
       "        vertical-align: top;\n",
       "    }\n",
       "\n",
       "    .dataframe thead th {\n",
       "        text-align: right;\n",
       "    }\n",
       "</style>\n",
       "<table border=\"1\" class=\"dataframe\">\n",
       "  <thead>\n",
       "    <tr style=\"text-align: right;\">\n",
       "      <th></th>\n",
       "      <th>article_id</th>\n",
       "      <th>system_prompt</th>\n",
       "      <th>user_prompt</th>\n",
       "      <th>model</th>\n",
       "      <th>content</th>\n",
       "      <th>prompt_tokens</th>\n",
       "      <th>completion_tokens</th>\n",
       "    </tr>\n",
       "  </thead>\n",
       "  <tbody>\n",
       "    <tr>\n",
       "      <th>i</th>\n",
       "      <td>65316faa1e5cc42b1b141024</td>\n",
       "      <td>\\nYou are the chief editor for a leading India...</td>\n",
       "      <td>Sebi halves listing time to three days  Mint: ...</td>\n",
       "      <td>gpt-4-0613</td>\n",
       "      <td>{'analysis_is_financial_or_business_news': \"Th...</td>\n",
       "      <td>1370</td>\n",
       "      <td>535</td>\n",
       "    </tr>\n",
       "  </tbody>\n",
       "</table>\n",
       "</div>"
      ],
      "text/plain": [
       "                 article_id  \\\n",
       "i  65316faa1e5cc42b1b141024   \n",
       "\n",
       "                                       system_prompt  \\\n",
       "i  \\nYou are the chief editor for a leading India...   \n",
       "\n",
       "                                         user_prompt       model  \\\n",
       "i  Sebi halves listing time to three days  Mint: ...  gpt-4-0613   \n",
       "\n",
       "                                             content  prompt_tokens  \\\n",
       "i  {'analysis_is_financial_or_business_news': \"Th...           1370   \n",
       "\n",
       "   completion_tokens  \n",
       "i                535  "
      ]
     },
     "execution_count": 280,
     "metadata": {},
     "output_type": "execute_result"
    }
   ],
   "source": [
    "pd.DataFrame(k,index=['i',])"
   ]
  },
  {
   "cell_type": "code",
   "execution_count": 566,
   "id": "97f57da1-0a10-4793-adb1-1eae9573155f",
   "metadata": {
    "tags": []
   },
   "outputs": [],
   "source": [
    "from tqdm.notebook import tqdm"
   ]
  },
  {
   "cell_type": "code",
   "execution_count": 284,
   "id": "23b9cf7d-4965-436f-b591-f0c8a6418a39",
   "metadata": {
    "tags": []
   },
   "outputs": [],
   "source": [
    "# gpt35_encoding = tiktoken.encoding_for_model(\"gpt-3.5-turbo-16k\")"
   ]
  },
  {
   "cell_type": "code",
   "execution_count": 283,
   "id": "1eb106ac-fcea-47cf-aff6-f44c6ef884a0",
   "metadata": {
    "tags": []
   },
   "outputs": [],
   "source": [
    "# def find_token_limit(text, token_limit, l):\n",
    "#     left = 0\n",
    "#     right = len(text)\n",
    "\n",
    "#     while left < right:\n",
    "#         mid = left + (right - left) // 2\n",
    "#         left_tokens = len(gpt35_encoding.encode(text[:mid]))\n",
    "#         right_tokens = len(gpt35_encoding.encode(text[mid:]))\n",
    "\n",
    "#         if left_tokens + right_tokens <= token_limit:\n",
    "#             right = mid\n",
    "#         else:\n",
    "#             left = mid + 1\n",
    "\n",
    "#     return left"
   ]
  },
  {
   "cell_type": "code",
   "execution_count": 567,
   "id": "21f9352f-b54d-47c1-8d51-6590b0554819",
   "metadata": {
    "tags": []
   },
   "outputs": [],
   "source": [
    "def calculate_tokens(text, encoder):  # Placeholder for your actual token calculation function\n",
    "    # Your implementation will go here.\n",
    "    return len(encoder.encode(text))  # Example: counting characters as tokens\n",
    "\n",
    "def find_token_limit(text,encoder, token_limit):\n",
    "    # First, check if the whole text is under the token limit\n",
    "    if calculate_tokens(text, encoder) <= token_limit:\n",
    "        return text  # The entire text is within the limit\n",
    "\n",
    "    def is_under_limit(index):\n",
    "        # Use the provided function to calculate tokens for the substring\n",
    "        return calculate_tokens(text[:index], encoder) <= token_limit\n",
    "\n",
    "    left, right = 0, len(text)\n",
    "    valid_limit = 0  # This will hold the index of the last valid token position\n",
    "\n",
    "    # Binary search to find the token limit\n",
    "    while left <= right:\n",
    "        mid = (left + right) // 2  # Find the midpoint\n",
    "        if is_under_limit(mid):\n",
    "            # If the midpoint is under the limit, store it as a valid limit\n",
    "            valid_limit = mid\n",
    "            left = mid + 1  # Move the left boundary to the right\n",
    "        else:\n",
    "            right = mid - 1  # Move the right boundary to the left\n",
    "\n",
    "    # Find the last space before the valid_limit to ensure we're at a word boundary\n",
    "    space_index = text.rfind(' ', 0, valid_limit)\n",
    "    if space_index == -1:\n",
    "        # If there's no space, we've hit the start of the text\n",
    "        return text[:valid_limit]  # Return up to the valid limit even if mid-word\n",
    "\n",
    "    # Return the text up to the last word within the token limit\n",
    "    return text[:space_index]\n",
    "\n",
    "# Example usage:\n",
    "text = \"Your text goes here, and it could be very long.\"\n",
    "token_limit = 100  # Replace with your actual token limit"
   ]
  },
  {
   "cell_type": "code",
   "execution_count": 569,
   "id": "0ac78560-660c-4ece-ad01-ba2dfa702c8f",
   "metadata": {
    "tags": []
   },
   "outputs": [],
   "source": [
    "import tiktoken"
   ]
  },
  {
   "cell_type": "code",
   "execution_count": 570,
   "id": "e648bad6-8ffb-4791-a7f1-ce98d8f71fe6",
   "metadata": {
    "tags": []
   },
   "outputs": [],
   "source": [
    "shorted_article_assessments = []"
   ]
  },
  {
   "cell_type": "code",
   "execution_count": 571,
   "id": "5fd042ba-dd49-4151-a8bf-1ce9f80d14d2",
   "metadata": {
    "tags": []
   },
   "outputs": [
    {
     "data": {
      "text/plain": [
       "0"
      ]
     },
     "execution_count": 571,
     "metadata": {},
     "output_type": "execute_result"
    }
   ],
   "source": [
    "len(shorted_article_assessments)"
   ]
  },
  {
   "cell_type": "code",
   "execution_count": 572,
   "id": "4d973bab-8ced-431f-a41f-bad37e56ebdd",
   "metadata": {
    "tags": []
   },
   "outputs": [
    {
     "data": {
      "text/plain": [
       "2188"
      ]
     },
     "execution_count": 572,
     "metadata": {},
     "output_type": "execute_result"
    }
   ],
   "source": [
    "len(shortlisted_articles)"
   ]
  },
  {
   "cell_type": "code",
   "execution_count": 573,
   "id": "bc63dada-f543-4b11-b267-268f078aa50c",
   "metadata": {
    "tags": []
   },
   "outputs": [],
   "source": [
    "model = 'gpt-4'"
   ]
  },
  {
   "cell_type": "code",
   "execution_count": 575,
   "id": "ef79d665-d7ff-415d-8153-55584438ecee",
   "metadata": {
    "tags": []
   },
   "outputs": [],
   "source": [
    "def parse_gpt_api_response(article_id, system_prompt, user_prompt, api_response):\n",
    "    # Load the response into a dictionary if it's a string\n",
    "    if isinstance(api_response, str):\n",
    "        api_response = json.loads(api_response)\n",
    "    \n",
    "    # Extract the required information from the response\n",
    "    id = api_response.get('id')\n",
    "    model = api_response.get('model')\n",
    "    prompt_tokens = api_response['usage'].get('prompt_tokens')\n",
    "    completion_tokens = api_response['usage'].get('completion_tokens')\n",
    "\n",
    "    # The content within the choices is a string of json, so it needs to be loaded\n",
    "    # replacers = {'\\\\\\'':\"'\", '],':']\",', ',[':',\"['}\n",
    "    try:\n",
    "        content = json.loads(api_response['choices'][0]['message']['content'])\n",
    "    except:\n",
    "        print(f'trying to get fixed json for articleId {article_id}')\n",
    "        improved_api_response = openai.ChatCompletion.create(model = 'gpt-4', messages = [{'role': 'system', 'content': 'fix the following json to be readable using json.loads(). simply out the new json. no preamble and no postamble'}, {'role': 'user', 'content': api_response['choices'][0]['message']['content']}])\n",
    "        content = json.loads(improved_api_response['choices'][0]['message']['content'])\n",
    "        # content = json.loads(api_response['choices'][0]['message']['content'].replace(replacers))\n",
    "        # content = json.loads(api_response['choices'][0]['message']['content'].replace('],',']\",').replace(',[',',\"[').replace('\\\\\\'',\"'\").replace('\\\\ \"', '\\\\\"'))\n",
    "        # content = json.loads(api_response['choices'][0]['message']['content'])\n",
    "    # Build the dictionary with the required information\n",
    "    extracted_data = {\n",
    "        'article_id': article_id,\n",
    "        'system_prompt': system_prompt,\n",
    "        'user_prompt': user_prompt,\n",
    "        'model': model,\n",
    "        'content': json.dumps(content),\n",
    "        'prompt_tokens': prompt_tokens,\n",
    "        'completion_tokens': completion_tokens\n",
    "    }\n",
    "\n",
    "    return extracted_data"
   ]
  },
  {
   "cell_type": "code",
   "execution_count": 460,
   "id": "e78debfe-c002-4221-a7bf-d9692c067791",
   "metadata": {
    "tags": []
   },
   "outputs": [],
   "source": [
    "import ast"
   ]
  },
  {
   "cell_type": "code",
   "execution_count": 576,
   "id": "8841a851-1505-4de3-a62c-18b91f94393f",
   "metadata": {
    "tags": []
   },
   "outputs": [],
   "source": [
    "from tqdm.notebook import tqdm"
   ]
  },
  {
   "cell_type": "code",
   "execution_count": 577,
   "id": "10c22c84-4efc-478b-9a61-e966c6234345",
   "metadata": {
    "tags": []
   },
   "outputs": [],
   "source": [
    "import json"
   ]
  },
  {
   "cell_type": "code",
   "execution_count": 20,
   "id": "0f38425a-4aba-493a-ae56-edd0e43d754a",
   "metadata": {
    "tags": []
   },
   "outputs": [
    {
     "data": {
      "application/vnd.jupyter.widget-view+json": {
       "model_id": "ce01a19a5f534a138c997c56dc9d862c",
       "version_major": 2,
       "version_minor": 0
      },
      "text/plain": [
       "  0%|          | 0/108 [00:00<?, ?it/s]"
      ]
     },
     "metadata": {},
     "output_type": "display_data"
    },
    {
     "name": "stdout",
     "output_type": "stream",
     "text": [
      "trying to get fixed json for articleId 651e17b8a662d76276b88483\n",
      "trying to get fixed json for articleId 65316ede1e5cc42b1b13e889\n",
      "trying to get fixed json for articleId 6555cbe14b13023f934a283c\n",
      "trying to get fixed json for articleId 65316e651e5cc42b1b13e4f2\n",
      "trying to get fixed json for articleId 6555cbe74b13023f934a2c6c\n",
      "trying to get fixed json for articleId 6531690b1e5cc42b1b13cb89\n",
      "trying to get fixed json for articleId 6555c82b4b13023f9349150e\n"
     ]
    }
   ],
   "source": [
    "encoder = tiktoken.encoding_for_model(model)\n",
    "num_system_tokens = len(encoder.encode(system_prompt))\n",
    "total_tokens = 7000\n",
    "available_tokens = total_tokens - num_system_tokens\n",
    "total_rows = len(shortlisted_articles)\n",
    "for i in tqdm(range(718, total_rows)):\n",
    "    row = shortlisted_articles.iloc[i]\n",
    "    truncated_content = find_token_limit(text=row.full_content, encoder=encoder, token_limit=available_tokens)\n",
    "    res_gpt = openai.ChatCompletion.create(model = model, messages = [{'role': 'system', 'content': system_prompt.replace('\\n',' ')}, {'role': 'user', 'content': truncated_content}])\n",
    "    parsed_res = parse_gpt_api_response(article_id=row.article_id, system_prompt=system_prompt, user_prompt=truncated_content, api_response=res_gpt)\n",
    "    cur_df = pd.DataFrame(parsed_res, index = ['i',])\n",
    "    cur_df.to_csv('gpt-4-responses-22-nov.csv',header=None, mode='a')\n",
    "    shorted_article_assessments.append(parsed_res)"
   ]
  },
  {
   "cell_type": "markdown",
   "id": "0fa87a6b-8d5a-46be-9c58-3f0367182ee4",
   "metadata": {},
   "source": [
    "#### Analysis"
   ]
  },
  {
   "cell_type": "code",
   "execution_count": 24,
   "id": "aa133f13-1cda-47ea-b8f8-0a3d7e9babf2",
   "metadata": {
    "tags": []
   },
   "outputs": [],
   "source": [
    "all_article_responses = pd.read_csv('gpt-4-responses-22-nov.csv', header=None)"
   ]
  },
  {
   "cell_type": "code",
   "execution_count": null,
   "id": "3f46f8de-d794-4beb-b23b-00c0a91ce7f1",
   "metadata": {},
   "outputs": [],
   "source": [
    "all_article_responses.rename(columns = {'0'})"
   ]
  },
  {
   "cell_type": "code",
   "execution_count": 27,
   "id": "347155dc-ad96-4533-992a-c8000f8c3d26",
   "metadata": {
    "tags": []
   },
   "outputs": [
    {
     "data": {
      "text/plain": [
       "825"
      ]
     },
     "execution_count": 27,
     "metadata": {},
     "output_type": "execute_result"
    }
   ],
   "source": [
    "all_article_responses[1].nunique()"
   ]
  },
  {
   "cell_type": "code",
   "execution_count": 30,
   "id": "76324f4a-b04f-4588-acb9-9c6842a363e7",
   "metadata": {
    "tags": []
   },
   "outputs": [
    {
     "data": {
      "text/plain": [
       "4017.768"
      ]
     },
     "execution_count": 30,
     "metadata": {},
     "output_type": "execute_result"
    }
   ],
   "source": [
    "all_article_responses[6].sum() * 0.03 * 80/1000"
   ]
  },
  {
   "cell_type": "code",
   "execution_count": 31,
   "id": "9530aceb-4afa-402d-b7e5-6b6d65c3a1e5",
   "metadata": {
    "tags": []
   },
   "outputs": [
    {
     "data": {
      "text/plain": [
       "2145.3984"
      ]
     },
     "execution_count": 31,
     "metadata": {},
     "output_type": "execute_result"
    }
   ],
   "source": [
    "all_article_responses[7].sum() * 0.06 * 80/1000"
   ]
  },
  {
   "cell_type": "code",
   "execution_count": 32,
   "id": "33183945-c981-4bb6-99a7-81e585d01c2b",
   "metadata": {
    "tags": []
   },
   "outputs": [],
   "source": [
    "invalid_response_article_ids = []"
   ]
  },
  {
   "cell_type": "code",
   "execution_count": 33,
   "id": "4e988322-038d-4283-b1d4-1422d0f2c302",
   "metadata": {
    "scrolled": true,
    "tags": []
   },
   "outputs": [
    {
     "data": {
      "application/vnd.jupyter.widget-view+json": {
       "model_id": "bb9c6e38e1624e6b95e4cda8515b9711",
       "version_major": 2,
       "version_minor": 0
      },
      "text/plain": [
       "  0%|          | 0/828 [00:00<?, ?it/s]"
      ]
     },
     "metadata": {},
     "output_type": "display_data"
    }
   ],
   "source": [
    "resp = []\n",
    "for i in tqdm(range(len(all_article_responses))):\n",
    "    row = all_article_responses.iloc[i]\n",
    "    try:\n",
    "        resp.append(json.loads(row[5]))\n",
    "    except:\n",
    "        invalid_response_article_ids.append(row[1])"
   ]
  },
  {
   "cell_type": "code",
   "execution_count": 34,
   "id": "8c0d5f72-9646-4455-ac89-37f5fad10ebb",
   "metadata": {
    "tags": []
   },
   "outputs": [
    {
     "data": {
      "text/plain": [
       "121"
      ]
     },
     "execution_count": 34,
     "metadata": {},
     "output_type": "execute_result"
    }
   ],
   "source": [
    "len(invalid_response_article_ids)"
   ]
  },
  {
   "cell_type": "code",
   "execution_count": 56,
   "id": "50a14963-7899-4add-b433-0862b70e7098",
   "metadata": {
    "tags": []
   },
   "outputs": [],
   "source": [
    "resp_df = pd.DataFrame(resp[:220])"
   ]
  },
  {
   "cell_type": "code",
   "execution_count": 61,
   "id": "bf62c501-9afe-496c-90be-3713d9ab48a1",
   "metadata": {
    "tags": []
   },
   "outputs": [],
   "source": [
    "resp_df['is_financial_or_business_news'] = resp_df['is_financial_or_business_news'].astype('int')\n",
    "resp_df['relevant_for_india'] = resp_df['relevant_for_india'].astype('int')\n",
    "resp_df['article_validity_duration'] = resp_df['article_validity_duration'].astype('int')"
   ]
  },
  {
   "cell_type": "code",
   "execution_count": 63,
   "id": "15326a57-379d-4117-9d3b-4259ca31a502",
   "metadata": {
    "tags": []
   },
   "outputs": [
    {
     "data": {
      "text/plain": [
       "0.8863636363636364"
      ]
     },
     "execution_count": 63,
     "metadata": {},
     "output_type": "execute_result"
    }
   ],
   "source": [
    "resp_df.is_financial_or_business_news.mean()"
   ]
  },
  {
   "cell_type": "code",
   "execution_count": 64,
   "id": "0edda65c-07e7-47ee-ab46-49e671c8eeae",
   "metadata": {
    "tags": []
   },
   "outputs": [
    {
     "data": {
      "text/plain": [
       "0.8090909090909091"
      ]
     },
     "execution_count": 64,
     "metadata": {},
     "output_type": "execute_result"
    }
   ],
   "source": [
    "resp_df.relevant_for_india.mean()"
   ]
  },
  {
   "cell_type": "code",
   "execution_count": 69,
   "id": "c0e5a733-778f-4344-8833-2bd5ca219291",
   "metadata": {
    "tags": []
   },
   "outputs": [
    {
     "data": {
      "text/plain": [
       "popularity\n",
       "breaking_news          33\n",
       "moderately_popular    115\n",
       "niche                  72\n",
       "Name: popularity, dtype: int64"
      ]
     },
     "execution_count": 69,
     "metadata": {},
     "output_type": "execute_result"
    }
   ],
   "source": [
    "resp_df.groupby('popularity')['popularity'].count()"
   ]
  },
  {
   "cell_type": "markdown",
   "id": "eaed4d6a-e498-4bf4-bb4e-268cd063cecc",
   "metadata": {},
   "source": [
    "### Rerunning for invalid article responses"
   ]
  },
  {
   "cell_type": "code",
   "execution_count": null,
   "id": "743e2a4d-0825-418e-849f-07f5381f372a",
   "metadata": {},
   "outputs": [],
   "source": [
    "invalid_response_article_ids"
   ]
  },
  {
   "cell_type": "code",
   "execution_count": null,
   "id": "ec90681e-556f-4c7a-a869-3ed4f520af64",
   "metadata": {},
   "outputs": [],
   "source": [
    "shortlisted_articles"
   ]
  },
  {
   "cell_type": "code",
   "execution_count": 80,
   "id": "e2f40414-cae4-46d2-8d32-7f574cd7b54a",
   "metadata": {
    "tags": []
   },
   "outputs": [
    {
     "data": {
      "application/vnd.jupyter.widget-view+json": {
       "model_id": "032e0924a0ba49ca81c319d09e095e98",
       "version_major": 2,
       "version_minor": 0
      },
      "text/plain": [
       "  0%|          | 0/29 [00:00<?, ?it/s]"
      ]
     },
     "metadata": {},
     "output_type": "display_data"
    }
   ],
   "source": [
    "encoder = tiktoken.encoding_for_model(model)\n",
    "num_system_tokens = len(encoder.encode(system_prompt))\n",
    "total_tokens = 7000\n",
    "available_tokens = total_tokens - num_system_tokens\n",
    "total_rows = len(shortlisted_articles)\n",
    "for i in tqdm(invalid_response_article_ids[92:]):\n",
    "    row = shortlisted_articles.loc[shortlisted_articles.article_id == i].iloc[0]\n",
    "    truncated_content = find_token_limit(text=row.full_content, encoder=encoder, token_limit=available_tokens)\n",
    "    res_gpt = openai.ChatCompletion.create(model = model, messages = [{'role': 'system', 'content': system_prompt.replace('\\n',' ')}, {'role': 'user', 'content': truncated_content}])\n",
    "    parsed_res = parse_gpt_api_response(article_id=row.article_id, system_prompt=system_prompt, user_prompt=truncated_content, api_response=res_gpt)\n",
    "    cur_df = pd.DataFrame(parsed_res, index = ['i',])\n",
    "    cur_df.to_csv('gpt-4-responses-22-nov.csv',header=None, mode='a')\n",
    "    shorted_article_assessments.append(parsed_res)"
   ]
  },
  {
   "cell_type": "code",
   "execution_count": 500,
   "id": "aa5a5e53-c5ba-4c20-8ff7-80e4e549fe7e",
   "metadata": {
    "tags": []
   },
   "outputs": [],
   "source": [
    "df1 = pd.DataFrame(shorted_article_assessments)"
   ]
  },
  {
   "cell_type": "code",
   "execution_count": 503,
   "id": "bae73c87-cde9-46e3-be8d-af4ec07e7f90",
   "metadata": {
    "tags": []
   },
   "outputs": [],
   "source": [
    "df1['json_safe_content'] = df1['content'].apply(lambda x: json.dumps(x))"
   ]
  },
  {
   "cell_type": "code",
   "execution_count": 506,
   "id": "ecce8a0b-7cc0-4c70-afbe-583a6e51f3ba",
   "metadata": {
    "tags": []
   },
   "outputs": [],
   "source": [
    "df1.to_csv('gpt-responses.csv')"
   ]
  },
  {
   "cell_type": "code",
   "execution_count": 510,
   "id": "2a58b631-c83c-4152-85ae-098888b181a0",
   "metadata": {
    "tags": []
   },
   "outputs": [],
   "source": [
    "df1['total_cost'] = df1['prompt_tokens'] * (0.03 * 80/1000) + df1['completion_tokens'] * (0.06 * 80/1000)"
   ]
  },
  {
   "cell_type": "code",
   "execution_count": 512,
   "id": "57473c47-9fc4-4630-be42-ec3180a14d7f",
   "metadata": {
    "tags": []
   },
   "outputs": [
    {
     "data": {
      "text/plain": [
       "879.1272"
      ]
     },
     "execution_count": 512,
     "metadata": {},
     "output_type": "execute_result"
    }
   ],
   "source": [
    "df1.total_cost.sum()"
   ]
  },
  {
   "cell_type": "code",
   "execution_count": 495,
   "id": "73950b6a-f258-4041-b540-aecc17faa0ac",
   "metadata": {
    "tags": []
   },
   "outputs": [],
   "source": [
    "pd.DataFrame(shorted_article_assessments).to_csv('gpt-responses.csv')"
   ]
  },
  {
   "cell_type": "markdown",
   "id": "d167fc2b-5f96-4fa0-b356-4202654e5bca",
   "metadata": {},
   "source": [
    "#### Standardizing responses"
   ]
  },
  {
   "cell_type": "code",
   "execution_count": 2,
   "id": "609b3f97-b875-4243-8165-45e3411cd397",
   "metadata": {
    "tags": []
   },
   "outputs": [],
   "source": [
    "import pandas as pd\n",
    "import numpy as np\n",
    "import json"
   ]
  },
  {
   "cell_type": "code",
   "execution_count": 5,
   "id": "39812c21-ed8b-4365-af1f-df23180cb9da",
   "metadata": {
    "tags": []
   },
   "outputs": [],
   "source": [
    "df = pd.read_csv('gpt-4-responses-22-nov.csv', header=None)"
   ]
  },
  {
   "cell_type": "code",
   "execution_count": 7,
   "id": "4e86aab4-0d12-4754-acca-76de2937b5e2",
   "metadata": {
    "tags": []
   },
   "outputs": [],
   "source": [
    "df = df.rename(columns = {1: 'article_id', 2: 'system_prompt', 3: 'article_content', 4: 'gpt-model', 5: 'gpt-response', 6: 'input_tokens', 7: 'output_tokens'})"
   ]
  },
  {
   "cell_type": "code",
   "execution_count": 157,
   "id": "961aa721-316e-4688-9789-179f5c432024",
   "metadata": {
    "tags": []
   },
   "outputs": [],
   "source": [
    "article_wise_responses = {}"
   ]
  },
  {
   "cell_type": "code",
   "execution_count": 158,
   "id": "8c901a1c-0bc6-45b9-b106-dabbec284ae9",
   "metadata": {
    "tags": []
   },
   "outputs": [],
   "source": [
    "for i in range(len(df)):\n",
    "    row = df.iloc[i]\n",
    "    art_id = row['article_id']\n",
    "    try:\n",
    "        article_wise_responses[art_id] = {}\n",
    "        article_wise_responses[art_id]['response'] = json.loads(row['gpt-response'])\n",
    "        article_wise_responses[art_id]['content'] = row['article_content']\n",
    "    except:\n",
    "        pass"
   ]
  },
  {
   "cell_type": "code",
   "execution_count": 61,
   "id": "cdaeeb22-3c3f-42a9-b314-60496c61acf7",
   "metadata": {
    "tags": []
   },
   "outputs": [],
   "source": [
    "def correct_json_using_gpt(summary_json):\n",
    "    print(f'trying to get fixed json for summary')\n",
    "    improved_summary_json = openai.ChatCompletion.create(model = 'gpt-4', messages = [{'role': 'system', 'content': 'fix the following json to be readable using json.loads(). simply out the new json. no preamble and no postamble'}, {'role': 'user', 'content': summary_json}])\n",
    "    content = json.loads(improved_summary_json['choices'][0]['message']['content'])\n",
    "    return content"
   ]
  },
  {
   "cell_type": "code",
   "execution_count": 156,
   "id": "7f31c090-d1a9-422d-ae1c-23e07c7ddc77",
   "metadata": {
    "tags": []
   },
   "outputs": [],
   "source": [
    "from tqdm.notebook import tqdm\n",
    "import tqdm as td\n",
    "\n",
    "from copy import deepcopy"
   ]
  },
  {
   "cell_type": "code",
   "execution_count": 185,
   "id": "475a6b57-d46e-48d0-9d5b-eaa5f6092359",
   "metadata": {
    "tags": []
   },
   "outputs": [
    {
     "data": {
      "text/plain": [
       "[{'missing_entities': 'Nirmala Sitharaman; US India Business Council; Digitalization impact',\n",
       "  'denser_summary': 'Union Finance Minister Nirmala Sitharaman urged American businesses to invest in India, asserting that it meets the requirements of a fair and transparent economy. The invitation came during a business roundtable organized by the US India Business Council. Sitharaman emphasized on the progress India has made in terms of digitalization and economic formalization.'},\n",
       " {'missing_entities': 'Taranjit Singh Sandhu; US and India trade; National Financial Information Registry',\n",
       "  'denser_summary': \"Indian Ambassador to the US, Taranjit Singh Sandhu reiterated India's commitment to engagement at the G20. He also noted that the US-India bilateral trade crossed $190 billion last year. The importance of a national financial information registry was emphasized to expand credit access.\"},\n",
       " {'missing_entities': 'Startup policies; Public Infrastructure; Fintech Ecosystem',\n",
       "  'denser_summary': \"The finance minister and industry executives discussed policies to deepen India's capital markets and enable Indian startups to tap global investment. The potential of India's digital public infrastructure was translated into private sector innovation. The importance of a progressive fintech ecosystem was highlighted.\"}]"
      ]
     },
     "execution_count": 185,
     "metadata": {},
     "output_type": "execute_result"
    }
   ],
   "source": [
    "response['summary_list']"
   ]
  },
  {
   "cell_type": "code",
   "execution_count": 190,
   "id": "4eb00fa6-0b43-4caf-8fe1-f2d8bf5a7767",
   "metadata": {
    "scrolled": true,
    "tags": []
   },
   "outputs": [
    {
     "name": "stderr",
     "output_type": "stream",
     "text": [
      "  0%|          | 0/825 [00:00<?, ?it/s]"
     ]
    },
    {
     "name": "stdout",
     "output_type": "stream",
     "text": [
      "trying to get fixed json for summary\n"
     ]
    },
    {
     "name": "stderr",
     "output_type": "stream",
     "text": [
      "  0%|          | 3/825 [00:15<1:12:02,  5.26s/it]"
     ]
    },
    {
     "name": "stdout",
     "output_type": "stream",
     "text": [
      "trying to get fixed json for summary\n"
     ]
    },
    {
     "name": "stderr",
     "output_type": "stream",
     "text": [
      "  0%|          | 4/825 [00:35<2:16:53, 10.00s/it]"
     ]
    },
    {
     "name": "stdout",
     "output_type": "stream",
     "text": [
      "trying to get fixed json for summary\n"
     ]
    },
    {
     "name": "stderr",
     "output_type": "stream",
     "text": [
      "  1%|          | 6/825 [01:04<2:45:05, 12.09s/it]"
     ]
    },
    {
     "name": "stdout",
     "output_type": "stream",
     "text": [
      "trying to get fixed json for summary\n"
     ]
    },
    {
     "name": "stderr",
     "output_type": "stream",
     "text": [
      "  1%|          | 8/825 [01:26<2:37:29, 11.57s/it]"
     ]
    },
    {
     "name": "stdout",
     "output_type": "stream",
     "text": [
      "trying to get fixed json for summary\n"
     ]
    },
    {
     "name": "stderr",
     "output_type": "stream",
     "text": [
      "  1%|▏         | 11/825 [01:37<1:47:39,  7.94s/it]"
     ]
    },
    {
     "name": "stdout",
     "output_type": "stream",
     "text": [
      "trying to get fixed json for summary\n"
     ]
    },
    {
     "name": "stderr",
     "output_type": "stream",
     "text": [
      "  2%|▏         | 13/825 [01:58<1:57:26,  8.68s/it]"
     ]
    },
    {
     "name": "stdout",
     "output_type": "stream",
     "text": [
      "trying to get fixed json for summary\n"
     ]
    },
    {
     "name": "stderr",
     "output_type": "stream",
     "text": [
      "  3%|▎         | 22/825 [02:18<59:15,  4.43s/it]  "
     ]
    },
    {
     "name": "stdout",
     "output_type": "stream",
     "text": [
      "trying to get fixed json for summary\n"
     ]
    },
    {
     "name": "stderr",
     "output_type": "stream",
     "text": [
      "  3%|▎         | 23/825 [02:32<1:11:53,  5.38s/it]"
     ]
    },
    {
     "name": "stdout",
     "output_type": "stream",
     "text": [
      "trying to get fixed json for summary\n"
     ]
    },
    {
     "name": "stderr",
     "output_type": "stream",
     "text": [
      "  3%|▎         | 25/825 [02:45<1:14:21,  5.58s/it]"
     ]
    },
    {
     "name": "stdout",
     "output_type": "stream",
     "text": [
      "trying to get fixed json for summary\n"
     ]
    },
    {
     "name": "stderr",
     "output_type": "stream",
     "text": [
      "  4%|▍         | 32/825 [02:58<48:01,  3.63s/it]  "
     ]
    },
    {
     "name": "stdout",
     "output_type": "stream",
     "text": [
      "trying to get fixed json for summary\n"
     ]
    },
    {
     "name": "stderr",
     "output_type": "stream",
     "text": [
      "  4%|▍         | 34/825 [03:08<51:45,  3.93s/it]"
     ]
    },
    {
     "name": "stdout",
     "output_type": "stream",
     "text": [
      "trying to get fixed json for summary\n"
     ]
    },
    {
     "name": "stderr",
     "output_type": "stream",
     "text": [
      "  4%|▍         | 36/825 [03:32<1:12:02,  5.48s/it]"
     ]
    },
    {
     "name": "stdout",
     "output_type": "stream",
     "text": [
      "trying to get fixed json for summary\n"
     ]
    },
    {
     "name": "stderr",
     "output_type": "stream",
     "text": [
      "  4%|▍         | 37/825 [03:54<1:39:15,  7.56s/it]"
     ]
    },
    {
     "name": "stdout",
     "output_type": "stream",
     "text": [
      "trying to get fixed json for summary\n"
     ]
    },
    {
     "name": "stderr",
     "output_type": "stream",
     "text": [
      "  5%|▍         | 38/825 [04:12<2:00:05,  9.16s/it]"
     ]
    },
    {
     "name": "stdout",
     "output_type": "stream",
     "text": [
      "trying to get fixed json for summary\n"
     ]
    },
    {
     "name": "stderr",
     "output_type": "stream",
     "text": [
      "  5%|▍         | 39/825 [04:21<1:58:29,  9.04s/it]"
     ]
    },
    {
     "name": "stdout",
     "output_type": "stream",
     "text": [
      "trying to get fixed json for summary\n"
     ]
    },
    {
     "name": "stderr",
     "output_type": "stream",
     "text": [
      "  5%|▌         | 43/825 [04:40<1:29:27,  6.86s/it]"
     ]
    },
    {
     "name": "stdout",
     "output_type": "stream",
     "text": [
      "trying to get fixed json for summary\n"
     ]
    },
    {
     "name": "stderr",
     "output_type": "stream",
     "text": [
      "  5%|▌         | 44/825 [04:59<1:53:30,  8.72s/it]"
     ]
    },
    {
     "name": "stdout",
     "output_type": "stream",
     "text": [
      "trying to get fixed json for summary\n"
     ]
    },
    {
     "name": "stderr",
     "output_type": "stream",
     "text": [
      "  6%|▌         | 50/825 [05:12<1:05:43,  5.09s/it]"
     ]
    },
    {
     "name": "stdout",
     "output_type": "stream",
     "text": [
      "trying to get fixed json for summary\n"
     ]
    },
    {
     "name": "stderr",
     "output_type": "stream",
     "text": [
      "  6%|▋         | 53/825 [05:29<1:07:24,  5.24s/it]"
     ]
    },
    {
     "name": "stdout",
     "output_type": "stream",
     "text": [
      "trying to get fixed json for summary\n"
     ]
    },
    {
     "name": "stderr",
     "output_type": "stream",
     "text": [
      "  7%|▋         | 54/825 [05:53<1:36:28,  7.51s/it]"
     ]
    },
    {
     "name": "stdout",
     "output_type": "stream",
     "text": [
      "trying to get fixed json for summary\n"
     ]
    },
    {
     "name": "stderr",
     "output_type": "stream",
     "text": [
      "  7%|▋         | 57/825 [06:11<1:28:23,  6.91s/it]"
     ]
    },
    {
     "name": "stdout",
     "output_type": "stream",
     "text": [
      "trying to get fixed json for summary\n"
     ]
    },
    {
     "name": "stderr",
     "output_type": "stream",
     "text": [
      "  7%|▋         | 59/825 [06:22<1:24:45,  6.64s/it]"
     ]
    },
    {
     "name": "stdout",
     "output_type": "stream",
     "text": [
      "trying to get fixed json for summary\n"
     ]
    },
    {
     "name": "stderr",
     "output_type": "stream",
     "text": [
      "  7%|▋         | 61/825 [06:45<1:39:39,  7.83s/it]"
     ]
    },
    {
     "name": "stdout",
     "output_type": "stream",
     "text": [
      "trying to get fixed json for summary\n"
     ]
    },
    {
     "name": "stderr",
     "output_type": "stream",
     "text": [
      "  8%|▊         | 62/825 [07:02<1:57:41,  9.25s/it]"
     ]
    },
    {
     "name": "stdout",
     "output_type": "stream",
     "text": [
      "trying to get fixed json for summary\n"
     ]
    },
    {
     "name": "stderr",
     "output_type": "stream",
     "text": [
      "  8%|▊         | 69/825 [07:25<1:10:50,  5.62s/it]"
     ]
    },
    {
     "name": "stdout",
     "output_type": "stream",
     "text": [
      "trying to get fixed json for summary\n"
     ]
    },
    {
     "name": "stderr",
     "output_type": "stream",
     "text": [
      "  9%|▊         | 71/825 [07:45<1:22:26,  6.56s/it]"
     ]
    },
    {
     "name": "stdout",
     "output_type": "stream",
     "text": [
      "trying to get fixed json for summary\n"
     ]
    },
    {
     "name": "stderr",
     "output_type": "stream",
     "text": [
      "  9%|▉         | 74/825 [07:59<1:14:30,  5.95s/it]"
     ]
    },
    {
     "name": "stdout",
     "output_type": "stream",
     "text": [
      "trying to get fixed json for summary\n"
     ]
    },
    {
     "name": "stderr",
     "output_type": "stream",
     "text": [
      "  9%|▉         | 75/825 [08:21<1:40:20,  8.03s/it]"
     ]
    },
    {
     "name": "stdout",
     "output_type": "stream",
     "text": [
      "trying to get fixed json for summary\n"
     ]
    },
    {
     "name": "stderr",
     "output_type": "stream",
     "text": [
      "  9%|▉         | 76/825 [08:47<2:14:09, 10.75s/it]"
     ]
    },
    {
     "name": "stdout",
     "output_type": "stream",
     "text": [
      "trying to get fixed json for summary\n"
     ]
    },
    {
     "name": "stderr",
     "output_type": "stream",
     "text": [
      "  9%|▉         | 78/825 [09:04<2:03:41,  9.94s/it]"
     ]
    },
    {
     "name": "stdout",
     "output_type": "stream",
     "text": [
      "trying to get fixed json for summary\n"
     ]
    },
    {
     "name": "stderr",
     "output_type": "stream",
     "text": [
      " 10%|▉         | 80/825 [09:25<2:06:09, 10.16s/it]"
     ]
    },
    {
     "name": "stdout",
     "output_type": "stream",
     "text": [
      "trying to get fixed json for summary\n"
     ]
    },
    {
     "name": "stderr",
     "output_type": "stream",
     "text": [
      " 10%|█         | 85/825 [09:44<1:24:10,  6.82s/it]"
     ]
    },
    {
     "name": "stdout",
     "output_type": "stream",
     "text": [
      "trying to get fixed json for summary\n"
     ]
    },
    {
     "name": "stderr",
     "output_type": "stream",
     "text": [
      " 11%|█         | 89/825 [10:03<1:14:19,  6.06s/it]"
     ]
    },
    {
     "name": "stdout",
     "output_type": "stream",
     "text": [
      "trying to get fixed json for summary\n"
     ]
    },
    {
     "name": "stderr",
     "output_type": "stream",
     "text": [
      " 11%|█         | 91/825 [10:27<1:29:47,  7.34s/it]"
     ]
    },
    {
     "name": "stdout",
     "output_type": "stream",
     "text": [
      "trying to get fixed json for summary\n"
     ]
    },
    {
     "name": "stderr",
     "output_type": "stream",
     "text": [
      " 12%|█▏        | 95/825 [10:46<1:17:43,  6.39s/it]"
     ]
    },
    {
     "name": "stdout",
     "output_type": "stream",
     "text": [
      "trying to get fixed json for summary\n"
     ]
    },
    {
     "name": "stderr",
     "output_type": "stream",
     "text": [
      " 12%|█▏        | 96/825 [11:05<1:35:49,  7.89s/it]"
     ]
    },
    {
     "name": "stdout",
     "output_type": "stream",
     "text": [
      "trying to get fixed json for summary\n"
     ]
    },
    {
     "name": "stderr",
     "output_type": "stream",
     "text": [
      " 12%|█▏        | 97/825 [11:30<2:04:37, 10.27s/it]"
     ]
    },
    {
     "name": "stdout",
     "output_type": "stream",
     "text": [
      "trying to get fixed json for summary\n"
     ]
    },
    {
     "name": "stderr",
     "output_type": "stream",
     "text": [
      " 12%|█▏        | 100/825 [11:59<2:01:40, 10.07s/it]"
     ]
    },
    {
     "name": "stdout",
     "output_type": "stream",
     "text": [
      "trying to get fixed json for summary\n"
     ]
    },
    {
     "name": "stderr",
     "output_type": "stream",
     "text": [
      " 12%|█▏        | 102/825 [12:16<1:56:31,  9.67s/it]"
     ]
    },
    {
     "name": "stdout",
     "output_type": "stream",
     "text": [
      "trying to get fixed json for summary\n"
     ]
    },
    {
     "name": "stderr",
     "output_type": "stream",
     "text": [
      " 13%|█▎        | 110/825 [12:40<1:07:34,  5.67s/it]"
     ]
    },
    {
     "name": "stdout",
     "output_type": "stream",
     "text": [
      "trying to get fixed json for summary\n"
     ]
    },
    {
     "name": "stderr",
     "output_type": "stream",
     "text": [
      " 14%|█▎        | 113/825 [12:56<1:05:45,  5.54s/it]"
     ]
    },
    {
     "name": "stdout",
     "output_type": "stream",
     "text": [
      "trying to get fixed json for summary\n"
     ]
    },
    {
     "name": "stderr",
     "output_type": "stream",
     "text": [
      " 14%|█▍        | 116/825 [13:16<1:09:12,  5.86s/it]"
     ]
    },
    {
     "name": "stdout",
     "output_type": "stream",
     "text": [
      "trying to get fixed json for summary\n"
     ]
    },
    {
     "name": "stderr",
     "output_type": "stream",
     "text": [
      " 15%|█▌        | 127/825 [13:28<36:17,  3.12s/it]  "
     ]
    },
    {
     "name": "stdout",
     "output_type": "stream",
     "text": [
      "trying to get fixed json for summary\n"
     ]
    },
    {
     "name": "stderr",
     "output_type": "stream",
     "text": [
      " 20%|██        | 166/825 [13:42<11:39,  1.06s/it]"
     ]
    },
    {
     "name": "stdout",
     "output_type": "stream",
     "text": [
      "trying to get fixed json for summary\n"
     ]
    },
    {
     "name": "stderr",
     "output_type": "stream",
     "text": [
      " 20%|██        | 169/825 [14:19<20:49,  1.90s/it]"
     ]
    },
    {
     "name": "stdout",
     "output_type": "stream",
     "text": [
      "trying to get fixed json for summary\n"
     ]
    },
    {
     "name": "stderr",
     "output_type": "stream",
     "text": [
      " 21%|██        | 173/825 [14:25<20:06,  1.85s/it]"
     ]
    },
    {
     "name": "stdout",
     "output_type": "stream",
     "text": [
      "6525a756598c6618f0608b3b error 2\n",
      "trying to get fixed json for summary\n"
     ]
    },
    {
     "name": "stderr",
     "output_type": "stream",
     "text": [
      " 23%|██▎       | 193/825 [14:43<14:43,  1.40s/it]"
     ]
    },
    {
     "name": "stdout",
     "output_type": "stream",
     "text": [
      "trying to get fixed json for summary\n"
     ]
    },
    {
     "name": "stderr",
     "output_type": "stream",
     "text": [
      " 24%|██▍       | 200/825 [14:59<16:34,  1.59s/it]"
     ]
    },
    {
     "name": "stdout",
     "output_type": "stream",
     "text": [
      "trying to get fixed json for summary\n"
     ]
    },
    {
     "name": "stderr",
     "output_type": "stream",
     "text": [
      " 25%|██▌       | 208/825 [15:16<17:37,  1.71s/it]"
     ]
    },
    {
     "name": "stdout",
     "output_type": "stream",
     "text": [
      "trying to get fixed json for summary\n"
     ]
    },
    {
     "name": "stderr",
     "output_type": "stream",
     "text": [
      " 27%|██▋       | 222/825 [15:27<13:45,  1.37s/it]"
     ]
    },
    {
     "name": "stdout",
     "output_type": "stream",
     "text": [
      "trying to get fixed json for summary\n"
     ]
    },
    {
     "name": "stderr",
     "output_type": "stream",
     "text": [
      " 27%|██▋       | 224/825 [15:37<16:17,  1.63s/it]"
     ]
    },
    {
     "name": "stdout",
     "output_type": "stream",
     "text": [
      "trying to get fixed json for summary\n"
     ]
    },
    {
     "name": "stderr",
     "output_type": "stream",
     "text": [
      " 28%|██▊       | 228/825 [15:57<21:49,  2.19s/it]"
     ]
    },
    {
     "name": "stdout",
     "output_type": "stream",
     "text": [
      "trying to get fixed json for summary\n"
     ]
    },
    {
     "name": "stderr",
     "output_type": "stream",
     "text": [
      " 28%|██▊       | 230/825 [16:15<28:50,  2.91s/it]"
     ]
    },
    {
     "name": "stdout",
     "output_type": "stream",
     "text": [
      "trying to get fixed json for summary\n"
     ]
    },
    {
     "name": "stderr",
     "output_type": "stream",
     "text": [
      " 29%|██▉       | 242/825 [16:35<22:37,  2.33s/it]"
     ]
    },
    {
     "name": "stdout",
     "output_type": "stream",
     "text": [
      "trying to get fixed json for summary\n"
     ]
    },
    {
     "name": "stderr",
     "output_type": "stream",
     "text": [
      " 30%|██▉       | 246/825 [16:49<24:29,  2.54s/it]"
     ]
    },
    {
     "name": "stdout",
     "output_type": "stream",
     "text": [
      "trying to get fixed json for summary\n"
     ]
    },
    {
     "name": "stderr",
     "output_type": "stream",
     "text": [
      " 32%|███▏      | 261/825 [17:08<17:46,  1.89s/it]"
     ]
    },
    {
     "name": "stdout",
     "output_type": "stream",
     "text": [
      "trying to get fixed json for summary\n"
     ]
    },
    {
     "name": "stderr",
     "output_type": "stream",
     "text": [
      " 32%|███▏      | 264/825 [17:31<24:39,  2.64s/it]"
     ]
    },
    {
     "name": "stdout",
     "output_type": "stream",
     "text": [
      "trying to get fixed json for summary\n"
     ]
    },
    {
     "name": "stderr",
     "output_type": "stream",
     "text": [
      " 32%|███▏      | 268/825 [17:57<31:11,  3.36s/it]"
     ]
    },
    {
     "name": "stdout",
     "output_type": "stream",
     "text": [
      "trying to get fixed json for summary\n"
     ]
    },
    {
     "name": "stderr",
     "output_type": "stream",
     "text": [
      " 33%|███▎      | 273/825 [18:16<31:58,  3.48s/it]"
     ]
    },
    {
     "name": "stdout",
     "output_type": "stream",
     "text": [
      "trying to get fixed json for summary\n"
     ]
    },
    {
     "name": "stderr",
     "output_type": "stream",
     "text": [
      " 34%|███▎      | 277/825 [18:34<33:36,  3.68s/it]"
     ]
    },
    {
     "name": "stdout",
     "output_type": "stream",
     "text": [
      "trying to get fixed json for summary\n"
     ]
    },
    {
     "name": "stderr",
     "output_type": "stream",
     "text": [
      " 34%|███▍      | 279/825 [18:54<41:41,  4.58s/it]"
     ]
    },
    {
     "name": "stdout",
     "output_type": "stream",
     "text": [
      "trying to get fixed json for summary\n"
     ]
    },
    {
     "name": "stderr",
     "output_type": "stream",
     "text": [
      " 34%|███▍      | 283/825 [19:08<38:40,  4.28s/it]"
     ]
    },
    {
     "name": "stdout",
     "output_type": "stream",
     "text": [
      "trying to get fixed json for summary\n"
     ]
    },
    {
     "name": "stderr",
     "output_type": "stream",
     "text": [
      " 35%|███▍      | 286/825 [19:30<44:50,  4.99s/it]"
     ]
    },
    {
     "name": "stdout",
     "output_type": "stream",
     "text": [
      "trying to get fixed json for summary\n"
     ]
    },
    {
     "name": "stderr",
     "output_type": "stream",
     "text": [
      " 36%|███▌      | 296/825 [19:47<28:40,  3.25s/it]"
     ]
    },
    {
     "name": "stdout",
     "output_type": "stream",
     "text": [
      "trying to get fixed json for summary\n"
     ]
    },
    {
     "name": "stderr",
     "output_type": "stream",
     "text": [
      " 39%|███▉      | 321/825 [20:12<14:52,  1.77s/it]"
     ]
    },
    {
     "name": "stdout",
     "output_type": "stream",
     "text": [
      "trying to get fixed json for summary\n"
     ]
    },
    {
     "name": "stderr",
     "output_type": "stream",
     "text": [
      " 39%|███▉      | 325/825 [20:35<19:14,  2.31s/it]"
     ]
    },
    {
     "name": "stdout",
     "output_type": "stream",
     "text": [
      "trying to get fixed json for summary\n"
     ]
    },
    {
     "name": "stderr",
     "output_type": "stream",
     "text": [
      " 40%|████      | 330/825 [20:50<19:58,  2.42s/it]"
     ]
    },
    {
     "name": "stdout",
     "output_type": "stream",
     "text": [
      "trying to get fixed json for summary\n"
     ]
    },
    {
     "name": "stderr",
     "output_type": "stream",
     "text": [
      " 40%|████      | 334/825 [20:59<19:40,  2.40s/it]"
     ]
    },
    {
     "name": "stdout",
     "output_type": "stream",
     "text": [
      "trying to get fixed json for summary\n"
     ]
    },
    {
     "name": "stderr",
     "output_type": "stream",
     "text": [
      " 41%|████      | 335/825 [21:13<25:28,  3.12s/it]"
     ]
    },
    {
     "name": "stdout",
     "output_type": "stream",
     "text": [
      "652ebbc51e5cc42b1b139a60 error 2\n",
      "trying to get fixed json for summary\n"
     ]
    },
    {
     "name": "stderr",
     "output_type": "stream",
     "text": [
      " 42%|████▏     | 349/825 [21:27<15:36,  1.97s/it]"
     ]
    },
    {
     "name": "stdout",
     "output_type": "stream",
     "text": [
      "trying to get fixed json for summary\n"
     ]
    },
    {
     "name": "stderr",
     "output_type": "stream",
     "text": [
      " 43%|████▎     | 355/825 [21:44<17:04,  2.18s/it]"
     ]
    },
    {
     "name": "stdout",
     "output_type": "stream",
     "text": [
      "trying to get fixed json for summary\n"
     ]
    },
    {
     "name": "stderr",
     "output_type": "stream",
     "text": [
      " 43%|████▎     | 358/825 [22:05<22:29,  2.89s/it]"
     ]
    },
    {
     "name": "stdout",
     "output_type": "stream",
     "text": [
      "trying to get fixed json for summary\n"
     ]
    },
    {
     "name": "stderr",
     "output_type": "stream",
     "text": [
      " 46%|████▌     | 381/825 [22:28<12:38,  1.71s/it]"
     ]
    },
    {
     "name": "stdout",
     "output_type": "stream",
     "text": [
      "trying to get fixed json for summary\n"
     ]
    },
    {
     "name": "stderr",
     "output_type": "stream",
     "text": [
      " 47%|████▋     | 385/825 [22:49<16:09,  2.20s/it]"
     ]
    },
    {
     "name": "stdout",
     "output_type": "stream",
     "text": [
      "trying to get fixed json for summary\n"
     ]
    },
    {
     "name": "stderr",
     "output_type": "stream",
     "text": [
      " 47%|████▋     | 389/825 [23:03<17:22,  2.39s/it]"
     ]
    },
    {
     "name": "stdout",
     "output_type": "stream",
     "text": [
      "65316f991e5cc42b1b140ac8 error 2\n",
      "trying to get fixed json for summary\n"
     ]
    },
    {
     "name": "stderr",
     "output_type": "stream",
     "text": [
      " 53%|█████▎    | 435/825 [23:32<07:17,  1.12s/it]"
     ]
    },
    {
     "name": "stdout",
     "output_type": "stream",
     "text": [
      "trying to get fixed json for summary\n"
     ]
    },
    {
     "name": "stderr",
     "output_type": "stream",
     "text": [
      " 53%|█████▎    | 436/825 [23:49<09:32,  1.47s/it]"
     ]
    },
    {
     "name": "stdout",
     "output_type": "stream",
     "text": [
      "trying to get fixed json for summary\n"
     ]
    },
    {
     "name": "stderr",
     "output_type": "stream",
     "text": [
      " 54%|█████▍    | 445/825 [24:04<09:27,  1.49s/it]"
     ]
    },
    {
     "name": "stdout",
     "output_type": "stream",
     "text": [
      "trying to get fixed json for summary\n"
     ]
    },
    {
     "name": "stderr",
     "output_type": "stream",
     "text": [
      " 54%|█████▍    | 447/825 [24:21<12:28,  1.98s/it]"
     ]
    },
    {
     "name": "stdout",
     "output_type": "stream",
     "text": [
      "trying to get fixed json for summary\n"
     ]
    },
    {
     "name": "stderr",
     "output_type": "stream",
     "text": [
      " 54%|█████▍    | 448/825 [24:42<17:38,  2.81s/it]"
     ]
    },
    {
     "name": "stdout",
     "output_type": "stream",
     "text": [
      "trying to get fixed json for summary\n"
     ]
    },
    {
     "name": "stderr",
     "output_type": "stream",
     "text": [
      " 55%|█████▍    | 450/825 [25:01<22:08,  3.54s/it]"
     ]
    },
    {
     "name": "stdout",
     "output_type": "stream",
     "text": [
      "trying to get fixed json for summary\n"
     ]
    },
    {
     "name": "stderr",
     "output_type": "stream",
     "text": [
      " 56%|█████▌    | 458/825 [25:29<21:46,  3.56s/it]"
     ]
    },
    {
     "name": "stdout",
     "output_type": "stream",
     "text": [
      "trying to get fixed json for summary\n"
     ]
    },
    {
     "name": "stderr",
     "output_type": "stream",
     "text": [
      " 57%|█████▋    | 471/825 [25:50<15:27,  2.62s/it]"
     ]
    },
    {
     "name": "stdout",
     "output_type": "stream",
     "text": [
      "trying to get fixed json for summary\n"
     ]
    },
    {
     "name": "stderr",
     "output_type": "stream",
     "text": [
      " 57%|█████▋    | 472/825 [26:13<21:18,  3.62s/it]"
     ]
    },
    {
     "name": "stdout",
     "output_type": "stream",
     "text": [
      "trying to get fixed json for summary\n"
     ]
    },
    {
     "name": "stderr",
     "output_type": "stream",
     "text": [
      " 57%|█████▋    | 474/825 [26:35<26:36,  4.55s/it]"
     ]
    },
    {
     "name": "stdout",
     "output_type": "stream",
     "text": [
      "trying to get fixed json for summary\n"
     ]
    },
    {
     "name": "stderr",
     "output_type": "stream",
     "text": [
      " 58%|█████▊    | 475/825 [26:56<34:27,  5.91s/it]"
     ]
    },
    {
     "name": "stdout",
     "output_type": "stream",
     "text": [
      "trying to get fixed json for summary\n"
     ]
    },
    {
     "name": "stderr",
     "output_type": "stream",
     "text": [
      " 59%|█████▉    | 486/825 [27:17<20:50,  3.69s/it]"
     ]
    },
    {
     "name": "stdout",
     "output_type": "stream",
     "text": [
      "trying to get fixed json for summary\n"
     ]
    },
    {
     "name": "stderr",
     "output_type": "stream",
     "text": [
      " 59%|█████▉    | 487/825 [27:39<27:32,  4.89s/it]"
     ]
    },
    {
     "name": "stdout",
     "output_type": "stream",
     "text": [
      "trying to get fixed json for summary\n"
     ]
    },
    {
     "name": "stderr",
     "output_type": "stream",
     "text": [
      " 60%|█████▉    | 494/825 [28:14<27:15,  4.94s/it]"
     ]
    },
    {
     "name": "stdout",
     "output_type": "stream",
     "text": [
      "trying to get fixed json for summary\n"
     ]
    },
    {
     "name": "stderr",
     "output_type": "stream",
     "text": [
      " 60%|██████    | 495/825 [28:38<35:22,  6.43s/it]"
     ]
    },
    {
     "name": "stdout",
     "output_type": "stream",
     "text": [
      "trying to get fixed json for summary\n"
     ]
    },
    {
     "name": "stderr",
     "output_type": "stream",
     "text": [
      " 60%|██████    | 496/825 [28:58<42:32,  7.76s/it]"
     ]
    },
    {
     "name": "stdout",
     "output_type": "stream",
     "text": [
      "trying to get fixed json for summary\n"
     ]
    },
    {
     "name": "stderr",
     "output_type": "stream",
     "text": [
      " 60%|██████    | 497/825 [29:21<52:20,  9.58s/it]"
     ]
    },
    {
     "name": "stdout",
     "output_type": "stream",
     "text": [
      "trying to get fixed json for summary\n"
     ]
    },
    {
     "name": "stderr",
     "output_type": "stream",
     "text": [
      " 60%|██████    | 498/825 [30:09<1:23:17, 15.28s/it]"
     ]
    },
    {
     "name": "stdout",
     "output_type": "stream",
     "text": [
      "trying to get fixed json for summary\n"
     ]
    },
    {
     "name": "stderr",
     "output_type": "stream",
     "text": [
      " 60%|██████    | 499/825 [30:24<1:23:03, 15.29s/it]"
     ]
    },
    {
     "name": "stdout",
     "output_type": "stream",
     "text": [
      "trying to get fixed json for summary\n"
     ]
    },
    {
     "name": "stderr",
     "output_type": "stream",
     "text": [
      " 61%|██████    | 503/825 [30:51<59:23, 11.07s/it]  "
     ]
    },
    {
     "name": "stdout",
     "output_type": "stream",
     "text": [
      "trying to get fixed json for summary\n"
     ]
    },
    {
     "name": "stderr",
     "output_type": "stream",
     "text": [
      " 61%|██████▏   | 506/825 [31:17<53:58, 10.15s/it]"
     ]
    },
    {
     "name": "stdout",
     "output_type": "stream",
     "text": [
      "trying to get fixed json for summary\n"
     ]
    },
    {
     "name": "stderr",
     "output_type": "stream",
     "text": [
      " 62%|██████▏   | 510/825 [31:39<43:50,  8.35s/it]"
     ]
    },
    {
     "name": "stdout",
     "output_type": "stream",
     "text": [
      "trying to get fixed json for summary\n"
     ]
    },
    {
     "name": "stderr",
     "output_type": "stream",
     "text": [
      " 62%|██████▏   | 511/825 [31:52<46:45,  8.93s/it]"
     ]
    },
    {
     "name": "stdout",
     "output_type": "stream",
     "text": [
      "trying to get fixed json for summary\n"
     ]
    },
    {
     "name": "stderr",
     "output_type": "stream",
     "text": [
      " 63%|██████▎   | 520/825 [32:13<24:33,  4.83s/it]"
     ]
    },
    {
     "name": "stdout",
     "output_type": "stream",
     "text": [
      "trying to get fixed json for summary\n"
     ]
    },
    {
     "name": "stderr",
     "output_type": "stream",
     "text": [
      " 63%|██████▎   | 522/825 [32:26<26:03,  5.16s/it]"
     ]
    },
    {
     "name": "stdout",
     "output_type": "stream",
     "text": [
      "trying to get fixed json for summary\n"
     ]
    },
    {
     "name": "stderr",
     "output_type": "stream",
     "text": [
      " 63%|██████▎   | 523/825 [32:48<34:36,  6.88s/it]"
     ]
    },
    {
     "name": "stdout",
     "output_type": "stream",
     "text": [
      "trying to get fixed json for summary\n"
     ]
    },
    {
     "name": "stderr",
     "output_type": "stream",
     "text": [
      " 64%|██████▍   | 527/825 [33:11<31:54,  6.42s/it]"
     ]
    },
    {
     "name": "stdout",
     "output_type": "stream",
     "text": [
      "trying to get fixed json for summary\n"
     ]
    },
    {
     "name": "stderr",
     "output_type": "stream",
     "text": [
      " 65%|██████▍   | 536/825 [33:28<19:09,  3.98s/it]"
     ]
    },
    {
     "name": "stdout",
     "output_type": "stream",
     "text": [
      "trying to get fixed json for summary\n"
     ]
    },
    {
     "name": "stderr",
     "output_type": "stream",
     "text": [
      " 65%|██████▌   | 537/825 [33:49<25:33,  5.32s/it]"
     ]
    },
    {
     "name": "stdout",
     "output_type": "stream",
     "text": [
      "trying to get fixed json for summary\n"
     ]
    },
    {
     "name": "stderr",
     "output_type": "stream",
     "text": [
      " 65%|██████▌   | 538/825 [34:07<31:34,  6.60s/it]"
     ]
    },
    {
     "name": "stdout",
     "output_type": "stream",
     "text": [
      "trying to get fixed json for summary\n"
     ]
    },
    {
     "name": "stderr",
     "output_type": "stream",
     "text": [
      " 66%|██████▌   | 544/825 [34:32<25:48,  5.51s/it]"
     ]
    },
    {
     "name": "stdout",
     "output_type": "stream",
     "text": [
      "trying to get fixed json for summary\n"
     ]
    },
    {
     "name": "stderr",
     "output_type": "stream",
     "text": [
      " 66%|██████▌   | 545/825 [34:46<29:18,  6.28s/it]"
     ]
    },
    {
     "name": "stdout",
     "output_type": "stream",
     "text": [
      "trying to get fixed json for summary\n"
     ]
    },
    {
     "name": "stderr",
     "output_type": "stream",
     "text": [
      " 66%|██████▌   | 546/825 [35:00<33:48,  7.27s/it]"
     ]
    },
    {
     "name": "stdout",
     "output_type": "stream",
     "text": [
      "trying to get fixed json for summary\n"
     ]
    },
    {
     "name": "stderr",
     "output_type": "stream",
     "text": [
      " 68%|██████▊   | 557/825 [35:27<18:17,  4.09s/it]"
     ]
    },
    {
     "name": "stdout",
     "output_type": "stream",
     "text": [
      "trying to get fixed json for summary\n"
     ]
    },
    {
     "name": "stderr",
     "output_type": "stream",
     "text": [
      " 68%|██████▊   | 558/825 [35:45<23:14,  5.22s/it]"
     ]
    },
    {
     "name": "stdout",
     "output_type": "stream",
     "text": [
      "trying to get fixed json for summary\n"
     ]
    },
    {
     "name": "stderr",
     "output_type": "stream",
     "text": [
      " 68%|██████▊   | 561/825 [36:14<27:52,  6.33s/it]"
     ]
    },
    {
     "name": "stdout",
     "output_type": "stream",
     "text": [
      "trying to get fixed json for summary\n"
     ]
    },
    {
     "name": "stderr",
     "output_type": "stream",
     "text": [
      " 68%|██████▊   | 562/825 [36:35<34:43,  7.92s/it]"
     ]
    },
    {
     "name": "stdout",
     "output_type": "stream",
     "text": [
      "trying to get fixed json for summary\n"
     ]
    },
    {
     "name": "stderr",
     "output_type": "stream",
     "text": [
      " 69%|██████▊   | 566/825 [36:48<26:11,  6.07s/it]"
     ]
    },
    {
     "name": "stdout",
     "output_type": "stream",
     "text": [
      "trying to get fixed json for summary\n"
     ]
    },
    {
     "name": "stderr",
     "output_type": "stream",
     "text": [
      " 69%|██████▉   | 570/825 [37:07<23:57,  5.64s/it]"
     ]
    },
    {
     "name": "stdout",
     "output_type": "stream",
     "text": [
      "trying to get fixed json for summary\n"
     ]
    },
    {
     "name": "stderr",
     "output_type": "stream",
     "text": [
      " 69%|██████▉   | 571/825 [37:30<32:15,  7.62s/it]"
     ]
    },
    {
     "name": "stdout",
     "output_type": "stream",
     "text": [
      "trying to get fixed json for summary\n"
     ]
    },
    {
     "name": "stderr",
     "output_type": "stream",
     "text": [
      " 70%|███████   | 578/825 [37:50<20:55,  5.08s/it]"
     ]
    },
    {
     "name": "stdout",
     "output_type": "stream",
     "text": [
      "trying to get fixed json for summary\n"
     ]
    },
    {
     "name": "stderr",
     "output_type": "stream",
     "text": [
      " 70%|███████   | 579/825 [38:15<28:54,  7.05s/it]"
     ]
    },
    {
     "name": "stdout",
     "output_type": "stream",
     "text": [
      "trying to get fixed json for summary\n"
     ]
    },
    {
     "name": "stderr",
     "output_type": "stream",
     "text": [
      " 71%|███████   | 582/825 [38:33<27:15,  6.73s/it]"
     ]
    },
    {
     "name": "stdout",
     "output_type": "stream",
     "text": [
      "trying to get fixed json for summary\n"
     ]
    },
    {
     "name": "stderr",
     "output_type": "stream",
     "text": [
      " 71%|███████   | 583/825 [38:43<28:28,  7.06s/it]"
     ]
    },
    {
     "name": "stdout",
     "output_type": "stream",
     "text": [
      "trying to get fixed json for summary\n"
     ]
    },
    {
     "name": "stderr",
     "output_type": "stream",
     "text": [
      " 72%|███████▏  | 591/825 [39:03<17:19,  4.44s/it]"
     ]
    },
    {
     "name": "stdout",
     "output_type": "stream",
     "text": [
      "trying to get fixed json for summary\n"
     ]
    },
    {
     "name": "stderr",
     "output_type": "stream",
     "text": [
      " 72%|███████▏  | 593/825 [39:19<19:19,  5.00s/it]"
     ]
    },
    {
     "name": "stdout",
     "output_type": "stream",
     "text": [
      "trying to get fixed json for summary\n"
     ]
    },
    {
     "name": "stderr",
     "output_type": "stream",
     "text": [
      " 72%|███████▏  | 596/825 [39:30<17:52,  4.68s/it]"
     ]
    },
    {
     "name": "stdout",
     "output_type": "stream",
     "text": [
      "trying to get fixed json for summary\n"
     ]
    },
    {
     "name": "stderr",
     "output_type": "stream",
     "text": [
      " 72%|███████▏  | 597/825 [39:49<24:09,  6.36s/it]"
     ]
    },
    {
     "name": "stdout",
     "output_type": "stream",
     "text": [
      "trying to get fixed json for summary\n"
     ]
    },
    {
     "name": "stderr",
     "output_type": "stream",
     "text": [
      " 73%|███████▎  | 603/825 [40:15<19:45,  5.34s/it]"
     ]
    },
    {
     "name": "stdout",
     "output_type": "stream",
     "text": [
      "trying to get fixed json for summary\n"
     ]
    },
    {
     "name": "stderr",
     "output_type": "stream",
     "text": [
      " 73%|███████▎  | 604/825 [40:29<22:57,  6.23s/it]"
     ]
    },
    {
     "name": "stdout",
     "output_type": "stream",
     "text": [
      "trying to get fixed json for summary\n"
     ]
    },
    {
     "name": "stderr",
     "output_type": "stream",
     "text": [
      " 73%|███████▎  | 605/825 [40:51<30:20,  8.28s/it]"
     ]
    },
    {
     "name": "stdout",
     "output_type": "stream",
     "text": [
      "trying to get fixed json for summary\n"
     ]
    },
    {
     "name": "stderr",
     "output_type": "stream",
     "text": [
      " 73%|███████▎  | 606/825 [41:23<43:38, 11.96s/it]"
     ]
    },
    {
     "name": "stdout",
     "output_type": "stream",
     "text": [
      "trying to get fixed json for summary\n"
     ]
    },
    {
     "name": "stderr",
     "output_type": "stream",
     "text": [
      " 74%|███████▎  | 607/825 [41:51<54:12, 14.92s/it]"
     ]
    },
    {
     "name": "stdout",
     "output_type": "stream",
     "text": [
      "trying to get fixed json for summary\n"
     ]
    },
    {
     "name": "stderr",
     "output_type": "stream",
     "text": [
      " 74%|███████▍  | 609/825 [42:11<48:00, 13.34s/it]"
     ]
    },
    {
     "name": "stdout",
     "output_type": "stream",
     "text": [
      "trying to get fixed json for summary\n"
     ]
    },
    {
     "name": "stderr",
     "output_type": "stream",
     "text": [
      " 74%|███████▍  | 610/825 [42:26<48:42, 13.59s/it]"
     ]
    },
    {
     "name": "stdout",
     "output_type": "stream",
     "text": [
      "trying to get fixed json for summary\n"
     ]
    },
    {
     "name": "stderr",
     "output_type": "stream",
     "text": [
      " 74%|███████▍  | 613/825 [42:49<38:21, 10.86s/it]"
     ]
    },
    {
     "name": "stdout",
     "output_type": "stream",
     "text": [
      "trying to get fixed json for summary\n"
     ]
    },
    {
     "name": "stderr",
     "output_type": "stream",
     "text": [
      " 74%|███████▍  | 614/825 [43:11<45:35, 12.97s/it]"
     ]
    },
    {
     "name": "stdout",
     "output_type": "stream",
     "text": [
      "trying to get fixed json for summary\n"
     ]
    },
    {
     "name": "stderr",
     "output_type": "stream",
     "text": [
      " 75%|███████▍  | 615/825 [43:38<55:02, 15.73s/it]"
     ]
    },
    {
     "name": "stdout",
     "output_type": "stream",
     "text": [
      "trying to get fixed json for summary\n"
     ]
    },
    {
     "name": "stderr",
     "output_type": "stream",
     "text": [
      " 75%|███████▍  | 616/825 [44:02<1:01:23, 17.62s/it]"
     ]
    },
    {
     "name": "stdout",
     "output_type": "stream",
     "text": [
      "trying to get fixed json for summary\n"
     ]
    },
    {
     "name": "stderr",
     "output_type": "stream",
     "text": [
      " 75%|███████▍  | 617/825 [44:23<1:03:52, 18.43s/it]"
     ]
    },
    {
     "name": "stdout",
     "output_type": "stream",
     "text": [
      "trying to get fixed json for summary\n"
     ]
    },
    {
     "name": "stderr",
     "output_type": "stream",
     "text": [
      " 75%|███████▌  | 620/825 [44:40<40:52, 11.96s/it]  "
     ]
    },
    {
     "name": "stdout",
     "output_type": "stream",
     "text": [
      "trying to get fixed json for summary\n"
     ]
    },
    {
     "name": "stderr",
     "output_type": "stream",
     "text": [
      " 75%|███████▌  | 621/825 [45:08<51:19, 15.10s/it]"
     ]
    },
    {
     "name": "stdout",
     "output_type": "stream",
     "text": [
      "trying to get fixed json for summary\n"
     ]
    },
    {
     "name": "stderr",
     "output_type": "stream",
     "text": [
      " 76%|███████▌  | 627/825 [45:35<27:40,  8.39s/it]"
     ]
    },
    {
     "name": "stdout",
     "output_type": "stream",
     "text": [
      "trying to get fixed json for summary\n"
     ]
    },
    {
     "name": "stderr",
     "output_type": "stream",
     "text": [
      " 76%|███████▌  | 629/825 [45:53<27:56,  8.56s/it]"
     ]
    },
    {
     "name": "stdout",
     "output_type": "stream",
     "text": [
      "trying to get fixed json for summary\n"
     ]
    },
    {
     "name": "stderr",
     "output_type": "stream",
     "text": [
      " 76%|███████▋  | 630/825 [46:09<31:26,  9.67s/it]"
     ]
    },
    {
     "name": "stdout",
     "output_type": "stream",
     "text": [
      "trying to get fixed json for summary\n"
     ]
    },
    {
     "name": "stderr",
     "output_type": "stream",
     "text": [
      " 77%|███████▋  | 636/825 [46:21<17:13,  5.47s/it]"
     ]
    },
    {
     "name": "stdout",
     "output_type": "stream",
     "text": [
      "trying to get fixed json for summary\n"
     ]
    },
    {
     "name": "stderr",
     "output_type": "stream",
     "text": [
      " 77%|███████▋  | 638/825 [46:36<18:22,  5.89s/it]"
     ]
    },
    {
     "name": "stdout",
     "output_type": "stream",
     "text": [
      "trying to get fixed json for summary\n"
     ]
    },
    {
     "name": "stderr",
     "output_type": "stream",
     "text": [
      " 78%|███████▊  | 640/825 [46:56<20:55,  6.79s/it]"
     ]
    },
    {
     "name": "stdout",
     "output_type": "stream",
     "text": [
      "trying to get fixed json for summary\n"
     ]
    },
    {
     "name": "stderr",
     "output_type": "stream",
     "text": [
      " 78%|███████▊  | 645/825 [47:15<16:14,  5.41s/it]"
     ]
    },
    {
     "name": "stdout",
     "output_type": "stream",
     "text": [
      "trying to get fixed json for summary\n"
     ]
    },
    {
     "name": "stderr",
     "output_type": "stream",
     "text": [
      " 79%|███████▊  | 648/825 [47:38<17:53,  6.06s/it]"
     ]
    },
    {
     "name": "stdout",
     "output_type": "stream",
     "text": [
      "trying to get fixed json for summary\n"
     ]
    },
    {
     "name": "stderr",
     "output_type": "stream",
     "text": [
      " 79%|███████▊  | 649/825 [47:52<20:27,  6.97s/it]"
     ]
    },
    {
     "name": "stdout",
     "output_type": "stream",
     "text": [
      "trying to get fixed json for summary\n"
     ]
    },
    {
     "name": "stderr",
     "output_type": "stream",
     "text": [
      " 79%|███████▉  | 652/825 [48:15<20:51,  7.24s/it]"
     ]
    },
    {
     "name": "stdout",
     "output_type": "stream",
     "text": [
      "trying to get fixed json for summary\n"
     ]
    },
    {
     "name": "stderr",
     "output_type": "stream",
     "text": [
      " 79%|███████▉  | 655/825 [48:27<17:37,  6.22s/it]"
     ]
    },
    {
     "name": "stdout",
     "output_type": "stream",
     "text": [
      "trying to get fixed json for summary\n"
     ]
    },
    {
     "name": "stderr",
     "output_type": "stream",
     "text": [
      " 80%|███████▉  | 657/825 [48:42<18:08,  6.48s/it]"
     ]
    },
    {
     "name": "stdout",
     "output_type": "stream",
     "text": [
      "trying to get fixed json for summary\n"
     ]
    },
    {
     "name": "stderr",
     "output_type": "stream",
     "text": [
      " 80%|███████▉  | 659/825 [49:14<24:39,  8.91s/it]"
     ]
    },
    {
     "name": "stdout",
     "output_type": "stream",
     "text": [
      "trying to get fixed json for summary\n"
     ]
    },
    {
     "name": "stderr",
     "output_type": "stream",
     "text": [
      " 80%|████████  | 661/825 [49:30<23:45,  8.69s/it]"
     ]
    },
    {
     "name": "stdout",
     "output_type": "stream",
     "text": [
      "trying to get fixed json for summary\n"
     ]
    },
    {
     "name": "stderr",
     "output_type": "stream",
     "text": [
      " 80%|████████  | 662/825 [49:57<31:28, 11.59s/it]"
     ]
    },
    {
     "name": "stdout",
     "output_type": "stream",
     "text": [
      "trying to get fixed json for summary\n"
     ]
    },
    {
     "name": "stderr",
     "output_type": "stream",
     "text": [
      " 82%|████████▏ | 675/825 [50:17<10:12,  4.09s/it]"
     ]
    },
    {
     "name": "stdout",
     "output_type": "stream",
     "text": [
      "trying to get fixed json for summary\n"
     ]
    },
    {
     "name": "stderr",
     "output_type": "stream",
     "text": [
      " 82%|████████▏ | 678/825 [50:53<13:50,  5.65s/it]"
     ]
    },
    {
     "name": "stdout",
     "output_type": "stream",
     "text": [
      "65316ef41e5cc42b1b13ea81 error 2\n",
      "trying to get fixed json for summary\n"
     ]
    },
    {
     "name": "stderr",
     "output_type": "stream",
     "text": [
      " 83%|████████▎ | 681/825 [51:13<13:57,  5.82s/it]"
     ]
    },
    {
     "name": "stdout",
     "output_type": "stream",
     "text": [
      "trying to get fixed json for summary\n"
     ]
    },
    {
     "name": "stderr",
     "output_type": "stream",
     "text": [
      " 83%|████████▎ | 683/825 [51:37<16:28,  6.96s/it]"
     ]
    },
    {
     "name": "stdout",
     "output_type": "stream",
     "text": [
      "trying to get fixed json for summary\n"
     ]
    },
    {
     "name": "stderr",
     "output_type": "stream",
     "text": [
      " 83%|████████▎ | 686/825 [51:58<16:02,  6.93s/it]"
     ]
    },
    {
     "name": "stdout",
     "output_type": "stream",
     "text": [
      "trying to get fixed json for summary\n"
     ]
    },
    {
     "name": "stderr",
     "output_type": "stream",
     "text": [
      " 83%|████████▎ | 688/825 [52:18<17:19,  7.59s/it]"
     ]
    },
    {
     "name": "stdout",
     "output_type": "stream",
     "text": [
      "trying to get fixed json for summary\n"
     ]
    },
    {
     "name": "stderr",
     "output_type": "stream",
     "text": [
      " 84%|████████▎ | 689/825 [52:36<20:15,  8.94s/it]"
     ]
    },
    {
     "name": "stdout",
     "output_type": "stream",
     "text": [
      "trying to get fixed json for summary\n"
     ]
    },
    {
     "name": "stderr",
     "output_type": "stream",
     "text": [
      " 84%|████████▎ | 690/825 [52:55<23:23, 10.40s/it]"
     ]
    },
    {
     "name": "stdout",
     "output_type": "stream",
     "text": [
      "trying to get fixed json for summary\n"
     ]
    },
    {
     "name": "stderr",
     "output_type": "stream",
     "text": [
      " 84%|████████▍ | 691/825 [53:22<29:52, 13.38s/it]"
     ]
    },
    {
     "name": "stdout",
     "output_type": "stream",
     "text": [
      "trying to get fixed json for summary\n"
     ]
    },
    {
     "name": "stderr",
     "output_type": "stream",
     "text": [
      " 84%|████████▍ | 695/825 [53:36<18:04,  8.34s/it]"
     ]
    },
    {
     "name": "stdout",
     "output_type": "stream",
     "text": [
      "trying to get fixed json for summary\n"
     ]
    },
    {
     "name": "stderr",
     "output_type": "stream",
     "text": [
      " 84%|████████▍ | 697/825 [53:58<19:19,  9.06s/it]"
     ]
    },
    {
     "name": "stdout",
     "output_type": "stream",
     "text": [
      "trying to get fixed json for summary\n"
     ]
    },
    {
     "name": "stderr",
     "output_type": "stream",
     "text": [
      " 85%|████████▌ | 705/825 [54:12<09:18,  4.66s/it]"
     ]
    },
    {
     "name": "stdout",
     "output_type": "stream",
     "text": [
      "trying to get fixed json for summary\n"
     ]
    },
    {
     "name": "stderr",
     "output_type": "stream",
     "text": [
      " 86%|████████▌ | 707/825 [54:28<10:19,  5.25s/it]"
     ]
    },
    {
     "name": "stdout",
     "output_type": "stream",
     "text": [
      "trying to get fixed json for summary\n"
     ]
    },
    {
     "name": "stderr",
     "output_type": "stream",
     "text": [
      " 86%|████████▌ | 708/825 [54:47<13:18,  6.82s/it]"
     ]
    },
    {
     "name": "stdout",
     "output_type": "stream",
     "text": [
      "trying to get fixed json for summary\n"
     ]
    },
    {
     "name": "stderr",
     "output_type": "stream",
     "text": [
      " 87%|████████▋ | 718/825 [55:01<06:09,  3.46s/it]"
     ]
    },
    {
     "name": "stdout",
     "output_type": "stream",
     "text": [
      "trying to get fixed json for summary\n"
     ]
    },
    {
     "name": "stderr",
     "output_type": "stream",
     "text": [
      " 87%|████████▋ | 719/825 [55:18<08:06,  4.59s/it]"
     ]
    },
    {
     "name": "stdout",
     "output_type": "stream",
     "text": [
      "trying to get fixed json for summary\n"
     ]
    },
    {
     "name": "stderr",
     "output_type": "stream",
     "text": [
      " 87%|████████▋ | 721/825 [55:38<09:42,  5.60s/it]"
     ]
    },
    {
     "name": "stdout",
     "output_type": "stream",
     "text": [
      "trying to get fixed json for summary\n"
     ]
    },
    {
     "name": "stderr",
     "output_type": "stream",
     "text": [
      " 88%|████████▊ | 722/825 [55:59<12:42,  7.40s/it]"
     ]
    },
    {
     "name": "stdout",
     "output_type": "stream",
     "text": [
      "trying to get fixed json for summary\n"
     ]
    },
    {
     "name": "stderr",
     "output_type": "stream",
     "text": [
      " 88%|████████▊ | 724/825 [56:14<12:26,  7.39s/it]"
     ]
    },
    {
     "name": "stdout",
     "output_type": "stream",
     "text": [
      "trying to get fixed json for summary\n"
     ]
    },
    {
     "name": "stderr",
     "output_type": "stream",
     "text": [
      " 88%|████████▊ | 725/825 [56:33<15:25,  9.26s/it]"
     ]
    },
    {
     "name": "stdout",
     "output_type": "stream",
     "text": [
      "trying to get fixed json for summary\n"
     ]
    },
    {
     "name": "stderr",
     "output_type": "stream",
     "text": [
      " 88%|████████▊ | 726/825 [56:49<17:13, 10.44s/it]"
     ]
    },
    {
     "name": "stdout",
     "output_type": "stream",
     "text": [
      "trying to get fixed json for summary\n"
     ]
    },
    {
     "name": "stderr",
     "output_type": "stream",
     "text": [
      " 88%|████████▊ | 728/825 [57:10<16:57, 10.49s/it]"
     ]
    },
    {
     "name": "stdout",
     "output_type": "stream",
     "text": [
      "trying to get fixed json for summary\n"
     ]
    },
    {
     "name": "stderr",
     "output_type": "stream",
     "text": [
      " 88%|████████▊ | 730/825 [57:19<13:33,  8.56s/it]"
     ]
    },
    {
     "name": "stdout",
     "output_type": "stream",
     "text": [
      "trying to get fixed json for summary\n"
     ]
    },
    {
     "name": "stderr",
     "output_type": "stream",
     "text": [
      " 89%|████████▊ | 732/825 [57:38<13:33,  8.75s/it]"
     ]
    },
    {
     "name": "stdout",
     "output_type": "stream",
     "text": [
      "trying to get fixed json for summary\n"
     ]
    },
    {
     "name": "stderr",
     "output_type": "stream",
     "text": [
      " 89%|████████▉ | 733/825 [57:56<16:12, 10.58s/it]"
     ]
    },
    {
     "name": "stdout",
     "output_type": "stream",
     "text": [
      "trying to get fixed json for summary\n"
     ]
    },
    {
     "name": "stderr",
     "output_type": "stream",
     "text": [
      " 89%|████████▉ | 736/825 [58:14<12:33,  8.47s/it]"
     ]
    },
    {
     "name": "stdout",
     "output_type": "stream",
     "text": [
      "trying to get fixed json for summary\n"
     ]
    },
    {
     "name": "stderr",
     "output_type": "stream",
     "text": [
      " 89%|████████▉ | 738/825 [58:29<11:59,  8.26s/it]"
     ]
    },
    {
     "name": "stdout",
     "output_type": "stream",
     "text": [
      "trying to get fixed json for summary\n"
     ]
    },
    {
     "name": "stderr",
     "output_type": "stream",
     "text": [
      " 90%|████████▉ | 739/825 [58:53<15:45, 11.00s/it]"
     ]
    },
    {
     "name": "stdout",
     "output_type": "stream",
     "text": [
      "trying to get fixed json for summary\n"
     ]
    },
    {
     "name": "stderr",
     "output_type": "stream",
     "text": [
      " 91%|█████████ | 748/825 [59:13<06:17,  4.90s/it]"
     ]
    },
    {
     "name": "stdout",
     "output_type": "stream",
     "text": [
      "trying to get fixed json for summary\n"
     ]
    },
    {
     "name": "stderr",
     "output_type": "stream",
     "text": [
      " 91%|█████████ | 750/825 [59:36<07:37,  6.10s/it]"
     ]
    },
    {
     "name": "stdout",
     "output_type": "stream",
     "text": [
      "trying to get fixed json for summary\n"
     ]
    },
    {
     "name": "stderr",
     "output_type": "stream",
     "text": [
      " 92%|█████████▏| 757/825 [59:53<04:57,  4.37s/it]"
     ]
    },
    {
     "name": "stdout",
     "output_type": "stream",
     "text": [
      "trying to get fixed json for summary\n"
     ]
    },
    {
     "name": "stderr",
     "output_type": "stream",
     "text": [
      " 92%|█████████▏| 763/825 [1:00:19<04:30,  4.36s/it]"
     ]
    },
    {
     "name": "stdout",
     "output_type": "stream",
     "text": [
      "trying to get fixed json for summary\n"
     ]
    },
    {
     "name": "stderr",
     "output_type": "stream",
     "text": [
      " 93%|█████████▎| 764/825 [1:00:37<05:30,  5.42s/it]"
     ]
    },
    {
     "name": "stdout",
     "output_type": "stream",
     "text": [
      "trying to get fixed json for summary\n"
     ]
    },
    {
     "name": "stderr",
     "output_type": "stream",
     "text": [
      " 93%|█████████▎| 765/825 [1:00:53<06:34,  6.58s/it]"
     ]
    },
    {
     "name": "stdout",
     "output_type": "stream",
     "text": [
      "trying to get fixed json for summary\n"
     ]
    },
    {
     "name": "stderr",
     "output_type": "stream",
     "text": [
      " 93%|█████████▎| 768/825 [1:01:14<06:18,  6.64s/it]"
     ]
    },
    {
     "name": "stdout",
     "output_type": "stream",
     "text": [
      "trying to get fixed json for summary\n"
     ]
    },
    {
     "name": "stderr",
     "output_type": "stream",
     "text": [
      " 94%|█████████▎| 773/825 [1:01:30<04:30,  5.20s/it]"
     ]
    },
    {
     "name": "stdout",
     "output_type": "stream",
     "text": [
      "trying to get fixed json for summary\n"
     ]
    },
    {
     "name": "stderr",
     "output_type": "stream",
     "text": [
      " 94%|█████████▍| 778/825 [1:01:44<03:23,  4.34s/it]"
     ]
    },
    {
     "name": "stdout",
     "output_type": "stream",
     "text": [
      "trying to get fixed json for summary\n"
     ]
    },
    {
     "name": "stderr",
     "output_type": "stream",
     "text": [
      " 94%|█████████▍| 779/825 [1:02:06<04:34,  5.98s/it]"
     ]
    },
    {
     "name": "stdout",
     "output_type": "stream",
     "text": [
      "trying to get fixed json for summary\n"
     ]
    },
    {
     "name": "stderr",
     "output_type": "stream",
     "text": [
      " 95%|█████████▍| 780/825 [1:02:26<05:49,  7.77s/it]"
     ]
    },
    {
     "name": "stdout",
     "output_type": "stream",
     "text": [
      "trying to get fixed json for summary\n"
     ]
    },
    {
     "name": "stderr",
     "output_type": "stream",
     "text": [
      " 95%|█████████▍| 781/825 [1:02:44<06:46,  9.24s/it]"
     ]
    },
    {
     "name": "stdout",
     "output_type": "stream",
     "text": [
      "trying to get fixed json for summary\n"
     ]
    },
    {
     "name": "stderr",
     "output_type": "stream",
     "text": [
      " 95%|█████████▍| 782/825 [1:02:57<07:02,  9.82s/it]"
     ]
    },
    {
     "name": "stdout",
     "output_type": "stream",
     "text": [
      "trying to get fixed json for summary\n"
     ]
    },
    {
     "name": "stderr",
     "output_type": "stream",
     "text": [
      " 95%|█████████▍| 783/825 [1:03:29<10:03, 14.38s/it]"
     ]
    },
    {
     "name": "stdout",
     "output_type": "stream",
     "text": [
      "trying to get fixed json for summary\n"
     ]
    },
    {
     "name": "stderr",
     "output_type": "stream",
     "text": [
      " 95%|█████████▌| 784/825 [1:03:50<10:45, 15.74s/it]"
     ]
    },
    {
     "name": "stdout",
     "output_type": "stream",
     "text": [
      "trying to get fixed json for summary\n"
     ]
    },
    {
     "name": "stderr",
     "output_type": "stream",
     "text": [
      " 96%|█████████▌| 788/825 [1:04:07<05:45,  9.34s/it]"
     ]
    },
    {
     "name": "stdout",
     "output_type": "stream",
     "text": [
      "trying to get fixed json for summary\n"
     ]
    },
    {
     "name": "stderr",
     "output_type": "stream",
     "text": [
      " 96%|█████████▋| 795/825 [1:04:31<02:55,  5.86s/it]"
     ]
    },
    {
     "name": "stdout",
     "output_type": "stream",
     "text": [
      "trying to get fixed json for summary\n"
     ]
    },
    {
     "name": "stderr",
     "output_type": "stream",
     "text": [
      " 97%|█████████▋| 797/825 [1:04:55<03:19,  7.11s/it]"
     ]
    },
    {
     "name": "stdout",
     "output_type": "stream",
     "text": [
      "trying to get fixed json for summary\n"
     ]
    },
    {
     "name": "stderr",
     "output_type": "stream",
     "text": [
      " 97%|█████████▋| 800/825 [1:05:11<02:44,  6.60s/it]"
     ]
    },
    {
     "name": "stdout",
     "output_type": "stream",
     "text": [
      "trying to get fixed json for summary\n"
     ]
    },
    {
     "name": "stderr",
     "output_type": "stream",
     "text": [
      " 97%|█████████▋| 803/825 [1:05:30<02:22,  6.48s/it]"
     ]
    },
    {
     "name": "stdout",
     "output_type": "stream",
     "text": [
      "trying to get fixed json for summary\n"
     ]
    },
    {
     "name": "stderr",
     "output_type": "stream",
     "text": [
      " 97%|█████████▋| 804/825 [1:05:45<02:38,  7.56s/it]"
     ]
    },
    {
     "name": "stdout",
     "output_type": "stream",
     "text": [
      "trying to get fixed json for summary\n"
     ]
    },
    {
     "name": "stderr",
     "output_type": "stream",
     "text": [
      " 98%|█████████▊| 805/825 [1:06:04<03:03,  9.20s/it]"
     ]
    },
    {
     "name": "stdout",
     "output_type": "stream",
     "text": [
      "trying to get fixed json for summary\n"
     ]
    },
    {
     "name": "stderr",
     "output_type": "stream",
     "text": [
      " 98%|█████████▊| 810/825 [1:06:22<01:35,  6.34s/it]"
     ]
    },
    {
     "name": "stdout",
     "output_type": "stream",
     "text": [
      "trying to get fixed json for summary\n"
     ]
    },
    {
     "name": "stderr",
     "output_type": "stream",
     "text": [
      " 99%|█████████▉| 816/825 [1:06:37<00:40,  4.54s/it]"
     ]
    },
    {
     "name": "stdout",
     "output_type": "stream",
     "text": [
      "trying to get fixed json for summary\n"
     ]
    },
    {
     "name": "stderr",
     "output_type": "stream",
     "text": [
      " 99%|█████████▉| 817/825 [1:06:55<00:46,  5.86s/it]"
     ]
    },
    {
     "name": "stdout",
     "output_type": "stream",
     "text": [
      "trying to get fixed json for summary\n"
     ]
    },
    {
     "name": "stderr",
     "output_type": "stream",
     "text": [
      " 99%|█████████▉| 818/825 [1:07:17<00:55,  7.90s/it]"
     ]
    },
    {
     "name": "stdout",
     "output_type": "stream",
     "text": [
      "trying to get fixed json for summary\n"
     ]
    },
    {
     "name": "stderr",
     "output_type": "stream",
     "text": [
      "100%|█████████▉| 821/825 [1:07:31<00:27,  6.81s/it]"
     ]
    },
    {
     "name": "stdout",
     "output_type": "stream",
     "text": [
      "trying to get fixed json for summary\n"
     ]
    },
    {
     "name": "stderr",
     "output_type": "stream",
     "text": [
      "100%|█████████▉| 822/825 [1:07:55<00:27,  9.17s/it]"
     ]
    },
    {
     "name": "stdout",
     "output_type": "stream",
     "text": [
      "trying to get fixed json for summary\n"
     ]
    },
    {
     "name": "stderr",
     "output_type": "stream",
     "text": [
      "100%|██████████| 825/825 [1:08:09<00:00,  4.96s/it]\n"
     ]
    }
   ],
   "source": [
    "standardized_responses = {}\n",
    "errenous_summaries = []\n",
    "for art_id in td.tqdm(article_wise_responses.keys()):\n",
    "    response = article_wise_responses[art_id]['response']\n",
    "    expected_keys_1 = ['analysis_is_financial_or_business_news', 'is_financial_or_business_news', 'analysis_of_relevant_for_india', 'relevant_for_india',\n",
    "                        'analysis_of_article_validity_duration', 'article_validity_duration', 'analysis_of_popularity', 'popularity', 'analysis_of_article_type', 'article_type', \n",
    "                        'analysis_of_article_sentiment', 'article_sentiment', 'headline_suggestion']\n",
    "    expected_keys_2 = ['summary_list']\n",
    "    if isinstance(response, list):\n",
    "        res = {}\n",
    "        for ele in response:\n",
    "            res.update(ele)\n",
    "        response = res\n",
    "        # response = deepcopy(article_wise_responses[art_id]['response'][0])\n",
    "        # try:\n",
    "        #     response.update(article_wise_responses[art_id]['response'][1])\n",
    "        # except:\n",
    "        #     pass\n",
    "        # assert sorted(set(response[0].keys()).intersection(expected_keys_1)) == sorted(expected_keys_1), f\"{art_id}\"\n",
    "        # assert set(response[1].keys()) == expected_keys_2\n",
    "        # try:\n",
    "        #     summaries = json.loads(response[1]['summary_list'])\n",
    "        # except:\n",
    "        #     errenous_summaries.append(art_id)\n",
    "        #     continue\n",
    "        #     # print(f'articleId is {art_id}')\n",
    "        #     # summaries = correct_json_using_gpt(summary_json = response[1]['summary_list'])\n",
    "        # assert isinstance(summaries, list)\n",
    "        # assert len(summaries) == 3\n",
    "        # for summary in summaries:\n",
    "        #     assert 'missing_entities' in summary and 'denser_summary' in summary\n",
    "        # standardized_responses[art_id] = []\n",
    "        # standardized_responses[art_id].append(response[1])\n",
    "        # standardized_responses[art_id].append(summaries)\n",
    "        # elif isinstance(response, dict):\n",
    "    try:\n",
    "        assert sorted(set(response.keys()).intersection(set(expected_keys_1).union(set(expected_keys_2)))) == sorted(set(expected_keys_1).union(set(expected_keys_2)))\n",
    "    except:\n",
    "        errenous_summaries.append(art_id)\n",
    "        print(f'{art_id} error 0')\n",
    "        continue\n",
    "        # print(f'articleId is {art_id}')\n",
    "        # summaries = correct_json_using_gpt(summary_json = response['summary_list'])\n",
    "    try:\n",
    "        if isinstance(response['summary_list'], str):\n",
    "            summaries = json.loads(response['summary_list'])\n",
    "        elif isinstance(response['summary_list'], list):\n",
    "            summaries = response['summary_list']\n",
    "    except:\n",
    "        corrected_summary = correct_json_using_gpt(response['summary_list'])\n",
    "        try:\n",
    "            summaries = corrected_summary\n",
    "        except:\n",
    "            errenous_summaries.append(art_id)\n",
    "            print(f'{art_id} error 1')\n",
    "            continue\n",
    "    assert isinstance(summaries, list)\n",
    "    try:\n",
    "        assert len(summaries) == 3\n",
    "    except:\n",
    "        print(f'{art_id} error 2')\n",
    "        errenous_summaries.append(art_id)\n",
    "        continue\n",
    "    for summary in summaries:\n",
    "        try:\n",
    "            assert 'missing_entities' in summary and ('denser_summary' in summary or 'summary_text' in summary)\n",
    "            if 'summary_text' in summary:\n",
    "                summary['denser_summary'] = summary.pop('summary_text')\n",
    "        except:\n",
    "            print(f'{art_id} error 3')\n",
    "            errenous_summaries.append(art_id)\n",
    "            continue\n",
    "    standardized_responses[art_id] = {}\n",
    "    standardized_responses[art_id]['response'] = []\n",
    "    attribute_response = {}\n",
    "    for key in expected_keys_1:\n",
    "        attribute_response[key] = response[key]\n",
    "    standardized_responses[art_id]['response'].append(attribute_response)\n",
    "    standardized_responses[art_id]['response'].append(summaries)\n",
    "    standardized_responses[art_id]['content'] = article_wise_responses[art_id]['content']"
   ]
  },
  {
   "cell_type": "code",
   "execution_count": 163,
   "id": "49c6b2b9-b826-4a25-92e1-b0e80e30334c",
   "metadata": {
    "tags": []
   },
   "outputs": [
    {
     "data": {
      "text/plain": [
       "['6555ccc44b13023f934acd61',\n",
       " '651e0c73a662d76276b86a15',\n",
       " '651dd71da662d76276b7e3c2',\n",
       " '6555cb9f4b13023f9349fa71',\n",
       " '6555cba44b13023f9349fdd1',\n",
       " '6555cab84b13023f93495f7c',\n",
       " '6555c7ec4b13023f9348ee4a',\n",
       " '654cbbcadc4fa72a6c403e10',\n",
       " '6555c0084b13023f9348c97b',\n",
       " '6555ccd14b13023f934ad8ab',\n",
       " '651df9b1a662d76276b83c5d',\n",
       " '6555cbf64b13023f934a3718',\n",
       " '65316f1c1e5cc42b1b13efc1',\n",
       " '651e088ba662d76276b86119',\n",
       " '653168bd1e5cc42b1b13b78d',\n",
       " '655c5595eee55a44e0ac1e51',\n",
       " '6555c84a4b13023f934924ce',\n",
       " '651dca7ca662d76276b7c1c9',\n",
       " '651df878a662d76276b83979',\n",
       " '6555c80e4b13023f934901a6']"
      ]
     },
     "execution_count": 163,
     "metadata": {},
     "output_type": "execute_result"
    }
   ],
   "source": [
    "list(standardized_responses.keys())[-20:]"
   ]
  },
  {
   "cell_type": "code",
   "execution_count": 191,
   "id": "d28236d6-e273-4760-b4c4-3d4b513e579a",
   "metadata": {
    "tags": []
   },
   "outputs": [
    {
     "data": {
      "text/plain": [
       "821"
      ]
     },
     "execution_count": 191,
     "metadata": {},
     "output_type": "execute_result"
    }
   ],
   "source": [
    "len(standardized_responses.keys())"
   ]
  },
  {
   "cell_type": "code",
   "execution_count": 192,
   "id": "61ec6e32-a10d-472e-9c6a-a988c8ad8206",
   "metadata": {
    "tags": []
   },
   "outputs": [
    {
     "data": {
      "text/plain": [
       "4"
      ]
     },
     "execution_count": 192,
     "metadata": {},
     "output_type": "execute_result"
    }
   ],
   "source": [
    "len(errenous_summaries)"
   ]
  },
  {
   "cell_type": "code",
   "execution_count": 195,
   "id": "22e388dd-94f7-46ba-8c66-c1e2cfea644e",
   "metadata": {
    "tags": []
   },
   "outputs": [],
   "source": [
    "test_article_ids = list(df.iloc[:101].article_id.values)"
   ]
  },
  {
   "cell_type": "code",
   "execution_count": 196,
   "id": "84c7b6fb-57a6-478e-8ef3-03024023abfa",
   "metadata": {
    "tags": []
   },
   "outputs": [
    {
     "data": {
      "text/plain": [
       "100"
      ]
     },
     "execution_count": 196,
     "metadata": {},
     "output_type": "execute_result"
    }
   ],
   "source": [
    "len(set(test_article_ids).intersection(set(standardized_responses.keys())))"
   ]
  },
  {
   "cell_type": "code",
   "execution_count": 197,
   "id": "8253d7f8-20bd-4012-88ec-460c3033781d",
   "metadata": {
    "tags": []
   },
   "outputs": [],
   "source": [
    "train_article_ids = [x for x in standardized_responses.keys() if x not in test_article_ids]"
   ]
  },
  {
   "cell_type": "code",
   "execution_count": 201,
   "id": "9a565267-d044-41ce-ad0b-96ec449d53e4",
   "metadata": {
    "tags": []
   },
   "outputs": [
    {
     "data": {
      "text/plain": [
       "721"
      ]
     },
     "execution_count": 201,
     "metadata": {},
     "output_type": "execute_result"
    }
   ],
   "source": [
    "len(train_article_ids)"
   ]
  },
  {
   "cell_type": "code",
   "execution_count": 202,
   "id": "8cfbd00c-8d68-4a30-aefc-669609f37090",
   "metadata": {
    "tags": []
   },
   "outputs": [],
   "source": [
    "train_standardized_responses = {k: standardized_responses[k] for k in train_article_ids}"
   ]
  },
  {
   "cell_type": "code",
   "execution_count": 203,
   "id": "7b7637d7-b38a-4435-9a52-f7717b1f60ce",
   "metadata": {
    "tags": []
   },
   "outputs": [
    {
     "data": {
      "text/plain": [
       "721"
      ]
     },
     "execution_count": 203,
     "metadata": {},
     "output_type": "execute_result"
    }
   ],
   "source": [
    "len(train_standardized_responses)"
   ]
  },
  {
   "cell_type": "code",
   "execution_count": 204,
   "id": "565e5a2f-9a35-45de-880c-1370f51a160c",
   "metadata": {
    "tags": []
   },
   "outputs": [],
   "source": [
    "with open('train_set_full_27_nov.json', 'w') as f:\n",
    "    json.dump(train_standardized_responses, f)"
   ]
  },
  {
   "cell_type": "code",
   "execution_count": 205,
   "id": "9f5831ed-86e4-4170-93c7-4511754373bb",
   "metadata": {
    "tags": []
   },
   "outputs": [],
   "source": [
    "test_standardized_responses = {k: standardized_responses[k] for k in test_article_ids}"
   ]
  },
  {
   "cell_type": "code",
   "execution_count": 206,
   "id": "1a228670-bcc4-4c57-ae81-55397d9b7a8f",
   "metadata": {
    "tags": []
   },
   "outputs": [],
   "source": [
    "with open('test_set_full_27_nov.json', 'w') as f:\n",
    "    json.dump(test_standardized_responses, f)"
   ]
  },
  {
   "cell_type": "code",
   "execution_count": null,
   "id": "7f743138-ed01-408f-b937-9c56d169051a",
   "metadata": {},
   "outputs": [],
   "source": []
  }
 ],
 "metadata": {
  "kernelspec": {
   "display_name": "recoenv",
   "language": "python",
   "name": "recoenv"
  },
  "language_info": {
   "codemirror_mode": {
    "name": "ipython",
    "version": 3
   },
   "file_extension": ".py",
   "mimetype": "text/x-python",
   "name": "python",
   "nbconvert_exporter": "python",
   "pygments_lexer": "ipython3",
   "version": "3.11.5"
  }
 },
 "nbformat": 4,
 "nbformat_minor": 5
}
