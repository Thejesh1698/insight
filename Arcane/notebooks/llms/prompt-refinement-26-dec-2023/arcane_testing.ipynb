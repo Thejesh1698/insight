{
 "cells": [
  {
   "cell_type": "code",
   "execution_count": 1,
   "id": "818778d4-a94c-4e59-8050-f2a970ace3eb",
   "metadata": {
    "tags": []
   },
   "outputs": [],
   "source": [
    "parent_folder = '/Users/username/Desktop/ML/Recommendations/arcane/'\n",
    "from hydra import compose, initialize\n",
    "import os\n",
    "\n",
    "import xml.etree.ElementTree as ET\n",
    "\n",
    "tree = ET.parse('../../../conf/application.run.xml')\n",
    "root = tree.getroot()\n",
    "\n",
    "envs_element = root.find('./configuration/envs')\n",
    "for variable in envs_element.findall('env'):\n",
    "    name = variable.get('name')\n",
    "    value = variable.get('value')\n",
    "    os.environ[name] = value\n",
    "\n",
    "import sys\n",
    "sys.path.append('/Users/username/Desktop/ML/Recommendations/arcane/')\n",
    "\n",
    "from src.articles.ArticleService import ArticleService\n",
    "\n",
    "from src.data_models.Article import Article\n",
    "\n",
    "import re"
   ]
  },
  {
   "cell_type": "code",
   "execution_count": 2,
   "id": "ceb217d2-6631-4505-9ef4-de9c95e9bc3f",
   "metadata": {
    "tags": []
   },
   "outputs": [
    {
     "name": "stdout",
     "output_type": "stream",
     "text": [
      "sagemaker.config INFO - Not applying SDK defaults from location: /Library/Application Support/sagemaker/config.yaml\n",
      "sagemaker.config INFO - Not applying SDK defaults from location: /Users/username/Library/Application Support/sagemaker/config.yaml\n"
     ]
    }
   ],
   "source": [
    "from src.articles.ArticleAttributesService import ArticleAttributesService"
   ]
  },
  {
   "cell_type": "code",
   "execution_count": 3,
   "id": "0a393fcf-c530-4a31-bddb-233b0a3443c3",
   "metadata": {
    "tags": []
   },
   "outputs": [],
   "source": [
    "os.environ['DEBUG'] = 'True'"
   ]
  },
  {
   "cell_type": "code",
   "execution_count": 4,
   "id": "78e6a859-2470-4141-9379-011b5ccb24d6",
   "metadata": {
    "tags": []
   },
   "outputs": [],
   "source": [
    "os.environ['LLM_SAGEMAKER_ENDPOINT'] = 'OpenHermes-ApricotTangerineScallop-TGI'"
   ]
  },
  {
   "cell_type": "code",
   "execution_count": 5,
   "id": "254635f6-cc6d-4dba-927e-85f965f65ed4",
   "metadata": {
    "tags": []
   },
   "outputs": [
    {
     "name": "stderr",
     "output_type": "stream",
     "text": [
      "Special tokens have been added in the vocabulary, make sure the associated word embeddings are fine-tuned or trained.\n",
      "Special tokens have been added in the vocabulary, make sure the associated word embeddings are fine-tuned or trained.\n"
     ]
    }
   ],
   "source": [
    "attributes_service = ArticleAttributesService()"
   ]
  },
  {
   "cell_type": "code",
   "execution_count": 10,
   "id": "e95b595f-e3cb-4f4a-a9df-c41e66ab4401",
   "metadata": {
    "tags": []
   },
   "outputs": [
    {
     "data": {
      "text/plain": [
       "'https://www.moneycontrol.com/news/business/budget/budget-2024-gdp-growth-tax-collections-relationship-is-now-complicated-11995461.html'"
      ]
     },
     "execution_count": 10,
     "metadata": {},
     "output_type": "execute_result"
    }
   ],
   "source": [
    "attributes_service.get_article('659657954b25ce4814fb4bf0').url"
   ]
  },
  {
   "cell_type": "code",
   "execution_count": 6,
   "id": "d004f563-98ac-45b8-a7c8-2101bed0ee34",
   "metadata": {
    "tags": []
   },
   "outputs": [
    {
     "name": "stderr",
     "output_type": "stream",
     "text": [
      "attempt 0 for getting attributes from fine tuned llm for 659657954b25ce4814fb4bf0. request id 02d039da-b1cb-4ca9-b97a-8587a46f3199\n",
      "llm request raised for 659657954b25ce4814fb4bf0\n",
      "llm response received for 659657954b25ce4814fb4bf0\n",
      "error converting the response body to json and saving to mongo\n",
      "response received as b'[{\"generated_text\":\"\\\\\"{\\\\\\\\\\\\\"summary\\\\\\\\\\\\\": \\\\\\\\\\\\\"**GDP-Tax Relation**: The finance ministry\\'s Budget is now more complicated due to the complex relationship between India\\'s GDP growth and tax collections. <br> **GDP Growth Projection**: The projection of GDP growth for 2024-25 is important for predicting tax collections. <br> **Tax Buoyancy**: Tax collections are growing faster than GDP, leading to a tax buoyancy of 1.7, higher than the average of 1.2 from the pre-pandemic years.\\\\\\\\\\\\\", \\\\\\\\\\\\\"summary_critique\\\\\\\\\\\\\": \\\\\\\\\\\\\"The summary accurately encapsulates the main points of the article, maintaining the correct balance between faithfulness, accuracy, and recall. However, it could have mentioned the implications of this tax buoyancy on the government\\'s Budget. The readability and structure are good.\\\\\\\\\\\\\", \\\\\\\\\\\\\"improved_summary\\\\\\\\\\\\\": \\\\\\\\\\\\\"**GDP-Tax Relation**: The finance ministry\\'s Budget is now more complex due to the complicated relationship between India\\'s GDP growth and tax collections. <br> **GDP Growth Projection**: The projection of GDP growth for 2024-25 is crucial for predicting tax collections. <br> **Tax Buoyancy and Budget**: The surge in tax buoyancy to 1.7 from an average of 1.2 in the pre-pandemic years is a positive for the government\\'s Budget. However, the relationship between GDP growth and tax collections is becoming complex.\\\\\\\\\\\\\", \\\\\\\\\\\\\"top_categories\\\\\\\\\\\\\": \\\\\\\\\\\\\"Finance; Budget; Taxation; GDP Growth; Economy\\\\\\\\\\\\\", \\\\\\\\\\\\\"business_or_financial_article\\\\\\\\\\\\\": true, \\\\\\\\\\\\\"indian_or_international\\\\\\\\\\\\\": \\\\\\\\\\\\\"indian\\\\\\\\\\\\\", \\\\\\\\\\\\\"relevant_for_indians\\\\\\\\\\\\\": true, \\\\\\\\\\\\\"article_validity_duration_evaluation\\\\\\\\\\\\\": \\\\\\\\\\\\\"The article discusses the current economic situation and the projected GDP growth for the 2024-25 budget which is relevant until the budget is presented in July 2024.\\\\\\\\\\\\\", \\\\\\\\\\\\\"article_validity_duration\\\\\\\\\\\\\": 30, \\\\\\\\\\\\\"popularity_evaluation\\\\\\\\\\\\\": \\\\\\\\\\\\\"reader_interest_score: 0.6, headline_effectiveness: 0.5, event_novelty: 0.7, emotional_impact: 0.2\\\\\\\\\\\\\", \\\\\\\\\\\\\"popularity_evaluation_critique\\\\\\\\\\\\\": \\\\\\\\\\\\\"The article is of high interest to those interested in finance and the Indian economy. The headline could be more engaging. The event is novel as the GDP growth and tax collections are being closely watched. Emotional impact is moderate as it doesn\\'t provoke strong emotions.\\\\\\\\\\\\\", \\\\\\\\\\\\\"final_reader_interest_score\\\\\\\\\\\\\": 0.6, \\\\\\\\\\\\\"final_headline_effectiveness_score\\\\\\\\\\\\\": 0.5, \\\\\\\\\\\\\"final_event_novelty_score\\\\\\\\\\\\\": 0.7, \\\\\\\\\\\\\"final_emotional_impact_score\\\\\\\\\\\\\": 0.2, \\\\\\\\\\\\\"improved_headline\\\\\\\\\\\\\": \\\\\\\\\\\\\"The Complicated Relationship Between GDP Growth and Tax Collections in the 2024-25 Budget\\\\\\\\\\\\\", \\\\\\\\\\\\\"article_type\\\\\\\\\\\\\": \\\\\\\\\\\\\"analysis\\\\\\\\\\\\\", \\\\\\\\\\\\\"article_sentiment\\\\\\\\\\\\\": \\\\\\\\\\\\\"na\\\\\\\\\\\\\"}\\\\\"\"}]'\n",
      "article attributes for 659657954b25ce4814fb4bf0 saved to db\n",
      "659657954b25ce4814fb4bf0 added to candidates\n"
     ]
    }
   ],
   "source": [
    "a = attributes_service.compute_save_article_attributes_from_llm(article_id='659657954b25ce4814fb4bf0')"
   ]
  },
  {
   "cell_type": "code",
   "execution_count": 7,
   "id": "d557a629-54f9-4ac8-892f-676869b0f065",
   "metadata": {
    "tags": []
   },
   "outputs": [
    {
     "data": {
      "text/plain": [
       "{'summary': \"**GDP-Tax Relation**: The finance ministry's Budget is now more complicated due to the complex relationship between India's GDP growth and tax collections. <br> **GDP Growth Projection**: The projection of GDP growth for 2024-25 is important for predicting tax collections. <br> **Tax Buoyancy**: Tax collections are growing faster than GDP, leading to a tax buoyancy of 1.7, higher than the average of 1.2 from the pre-pandemic years.\",\n",
       " 'summary_critique': \"The summary accurately encapsulates the main points of the article, maintaining the correct balance between faithfulness, accuracy, and recall. However, it could have mentioned the implications of this tax buoyancy on the government's Budget. The readability and structure are good.\",\n",
       " 'improved_summary': \"<strong>GDP-Tax Relation</strong>: The finance ministry's Budget is now more complex due to the complicated relationship between India's GDP growth and tax collections.<br><strong>GDP Growth Projection</strong>: The projection of GDP growth for 2024-25 is crucial for predicting tax collections.<br><strong>Tax Buoyancy and Budget</strong>: The surge in tax buoyancy to 1.7 from an average of 1.2 in the pre-pandemic years is a positive for the government's Budget. However, the relationship between GDP growth and tax collections is becoming complex.\",\n",
       " 'top_categories': 'Finance; Budget; Taxation; GDP Growth; Economy',\n",
       " 'business_or_financial_article': True,\n",
       " 'indian_or_international': 'indian',\n",
       " 'relevant_for_indians': True,\n",
       " 'article_validity_duration_evaluation': 'The article discusses the current economic situation and the projected GDP growth for the 2024-25 budget which is relevant until the budget is presented in July 2024.',\n",
       " 'article_validity_duration': 30,\n",
       " 'popularity_evaluation': 'reader_interest_score: 0.6, headline_effectiveness: 0.5, event_novelty: 0.7, emotional_impact: 0.2',\n",
       " 'popularity_evaluation_critique': \"The article is of high interest to those interested in finance and the Indian economy. The headline could be more engaging. The event is novel as the GDP growth and tax collections are being closely watched. Emotional impact is moderate as it doesn't provoke strong emotions.\",\n",
       " 'final_reader_interest_score': 0.6,\n",
       " 'final_headline_effectiveness_score': 0.5,\n",
       " 'final_event_novelty_score': 0.7,\n",
       " 'final_emotional_impact_score': 0.2,\n",
       " 'improved_headline': 'The Complicated Relationship Between GDP Growth and Tax Collections in the 2024-25 Budget',\n",
       " 'article_type': 'analysis',\n",
       " 'article_sentiment': 'na',\n",
       " 'financial_or_business_news': True,\n",
       " 'relevant_for_india': True,\n",
       " 'popularity': 'moderately_popular',\n",
       " 'hours_since_publication': 15.17046170611111,\n",
       " 'financial_news': True,\n",
       " 'validity_in_hours': 720}"
      ]
     },
     "execution_count": 7,
     "metadata": {},
     "output_type": "execute_result"
    }
   ],
   "source": [
    "a"
   ]
  },
  {
   "cell_type": "code",
   "execution_count": 9,
   "id": "5aefec91-bbba-4cc2-b397-303506ca2437",
   "metadata": {
    "tags": []
   },
   "outputs": [
    {
     "data": {
      "text/plain": [
       "6"
      ]
     },
     "execution_count": 9,
     "metadata": {},
     "output_type": "execute_result"
    }
   ],
   "source": [
    "int(round(5.6))"
   ]
  },
  {
   "cell_type": "code",
   "execution_count": 9,
   "id": "dfd67815-5d67-46d6-a6d4-66a9024d293e",
   "metadata": {
    "tags": []
   },
   "outputs": [
    {
     "data": {
      "text/plain": [
       "{'summary': '**Vacation Deprivation**: The average U.S. worker took 11 hours of vacation in 2022, according to Expedia. <br> **Employee Benefits**: Companies are offering paid vacation and travel reimbursements to improve employee retention and combat burnout. <br> **List of Companies**: Airbnb, BambooHR, Calendly, Thirty Madison, Tripadvisor, and Philo offer travel reimbursements to employees.',\n",
       " 'summary_critique': 'The summary accurately captures the key points of the article. It adheres to the readability and faithfulness requirements. It has three distinct points and the markdown format is correctly used. However, the labels could be more specific to better identify the points.',\n",
       " 'improved_summary': '<strong>Vacation Shortage</strong>: Expedia reported that U.S. workers took an average of 11 hours of vacation in 2022.<br><strong>Employee Perks</strong>: Firms are offering paid vacations and travel benefits to boost employee retention and combat burnout.<br><strong>Travel Aid Employers</strong>: Airbnb, BambooHR, Calendly, Thirty Madison, Tripadvisor, and Philo are examples of companies that offer travel reimbursements to employees.',\n",
       " 'top_categories': 'Employee Benefits;Vacation Policies;Travel Reimbursements;Work Culture;Business Strategies',\n",
       " 'business_or_financial_article': True,\n",
       " 'indian_or_international': 'international',\n",
       " 'relevant_for_indians': True,\n",
       " 'article_validity_duration_evaluation': 'The article contains timeless content as it discusses employee benefits and strategies, and does not mention any time-sensitive details.',\n",
       " 'article_validity_duration': -1,\n",
       " 'popularity_evaluation': 'reader_interest_score: 0.8; headline_effectiveness: 0.7; event_novelty: 0.4; emotional_impact: 0.3',\n",
       " 'popularity_evaluation_critique': 'The scores seem reasonable. The reader_interest_score is high due to the growing interest in work culture and employee benefits. The headline_effectiveness is good, but the event_novelty could be lower as employee benefits are a common topic. Emotional_impact is moderate as it relates to employee well-being.',\n",
       " 'final_reader_interest_score': 0.8,\n",
       " 'final_headline_effectiveness_score': 0.7,\n",
       " 'final_event_novelty_score': 0.3,\n",
       " 'final_emotional_impact_score': 0.3,\n",
       " 'improved_headline': 'Escaping Vacation Deprivation: 6 Companies Offering Travel Perks to Boost Work-Life Balance',\n",
       " 'article_type': 'fact',\n",
       " 'article_sentiment': 'na',\n",
       " 'financial_or_business_news': True,\n",
       " 'relevant_for_india': True,\n",
       " 'popularity': 'moderately_popular'}"
      ]
     },
     "execution_count": 9,
     "metadata": {},
     "output_type": "execute_result"
    }
   ],
   "source": [
    "a"
   ]
  },
  {
   "cell_type": "code",
   "execution_count": 7,
   "id": "da2d8bbc-0749-4520-aaa1-9d4d30538937",
   "metadata": {
    "tags": []
   },
   "outputs": [
    {
     "data": {
      "text/plain": [
       "{'summary': '**Match Details**: Chelsea will play Real Madrid in the second-leg of the Champions League quarterfinal at Stamford Bridge on April 18. <br> **Context**: The match holds significant importance for Chelsea, with a loss potentially ending their season with no silverware. <br> **Streaming**: Fans worldwide can watch the match online via various streaming services.',\n",
       " 'summary_critique': 'The summary accurately captures the key details of the article. It adheres to the readability, faithfulness, accuracy, and recall requirements, and the structure is appropriate. It follows the _summary_markdown_format_.',\n",
       " 'improved_summary': '<strong>Match Details</strong>: Chelsea and Real Madrid are set to face each other in the crucial second-leg of the Champions League quarterfinal on April 18 at Stamford Bridge.<br><strong>Significance</strong>: The match is pivotal for Chelsea, with the possibility of a season without any silverware looming.<br><strong>Viewing Options</strong>: Fans worldwide can watch the game online on various streaming services.',\n",
       " 'top_categories': 'Football;Sports;Champions League;Chelsea;Real Madrid',\n",
       " 'business_or_financial_article': False,\n",
       " 'indian_or_international': 'international',\n",
       " 'relevant_for_indians': True,\n",
       " 'article_validity_duration_evaluation': 'The article is about a specific football match happening on April 18, 2023. Thus, the relevance of the article will be only for that day.',\n",
       " 'article_validity_duration': 1,\n",
       " 'popularity_evaluation': 'reader_interest_score: 0.6, considering the international popularity of football and the international teams involved. <br> headline_effectiveness: 0.5, it is informative but not very engaging. <br> event_novelty: 0.4, as it is a significant event but occurs regularly (quarterfinals in a football season). <br> emotional_impact: 0.3, football fans will have a certain level of interest and emotion in this match.',\n",
       " 'popularity_evaluation_critique': 'The scores seem fair. The reader interest score could be higher considering the international appeal of football. The emotional impact score could be higher as football is a highly emotive sport.',\n",
       " 'final_reader_interest_score': 0.7,\n",
       " 'final_headline_effectiveness_score': 0.5,\n",
       " 'final_event_novelty_score': 0.4,\n",
       " 'final_emotional_impact_score': 0.4,\n",
       " 'improved_headline': \"Chelsea's Season on the Line in Focal Second-Leg Against Real Madrid in Champions League\",\n",
       " 'article_type': 'fact',\n",
       " 'article_sentiment': 'na',\n",
       " 'financial_or_business_news': False,\n",
       " 'relevant_for_india': True,\n",
       " 'popularity': 'moderately_popular'}"
      ]
     },
     "execution_count": 7,
     "metadata": {},
     "output_type": "execute_result"
    }
   ],
   "source": [
    "a"
   ]
  },
  {
   "cell_type": "code",
   "execution_count": 6,
   "id": "d074b6c0-a4e5-46c7-98d4-fa4cd6c8d898",
   "metadata": {
    "scrolled": true,
    "tags": []
   },
   "outputs": [
    {
     "data": {
      "text/plain": [
       "Article(article_id='651e1c48a662d76276b88eee', title='Chelsea vs Real Madrid: Live streaming, where to watch Champions League match', cleaned_text=\"Chelsea will play Real Madrid in a crucial Champions League quarterfinal second-leg on April 18 at Stamford Bridge. The first-leg in Madrid saw the Blues suffer a 2-0 defeat, as Karim Benzema and Marco Asensio scored to give the defending champions a comfortable win at Santiago Bernabeu.For Chelsea, the return leg marks a pivotal moment in their season, with a Champions League exit ending their hopes of silverware. However, the team under Frank Lampard's management has struggled lately, with three consecutive defeats, making their task even more daunting.Fortunately, fans worldwide will have the chance to stream the game online. The Sporting News has provided all the necessary details on how to do so.Chelsea vs Real Madrid Live StreamChampions League streaming coverage will be offered by beIN Sports in Singapore, Hong Kong, and Malaysia, while JioTV and Sony LIV will be the streaming options available in India.These two teams have both won the Champions League in the last two seasons, and they have defeated each other on their path to becoming European champions.Benzema has played a pivotal role in their recent encounters, notably scoring a magnificent hat-trick against Chelsea at Stamford Bridge in 2022.Chelsea vs Real Madrid timing, channel Date Kickoff time StreamingIndia Wednesday, Apr. 19 00:30 IST JioTV, Sony LIVUK Tue, Apr. 18 20:00 BST BT Sport site/appUSA Tue, Apr. 18 15:00 ET Fubo, Paramount+, ViXFAQsQ1: When is the Chelsea vs Real Madrid match scheduled?A: The Chelsea vs Real Madrid match is scheduled for today, April 18, 2023.Q2: What time will the match begin?A: The match will begin at 8:00 PM GMT.\", is_premium_article=False, published_time='2023-04-18T15:18:00+05:30', source_id='6512cdcad01a9c8e86263e05', url='https://economictimes.indiatimes.com/news/new-updates/chelsea-vs-real-madrid-live-streaming-where-to-watch-champions-league-match/articleshow/99583600.cms', image_url=None, full_content='Chelsea vs Real Madrid: Live streaming where to watch Champions League match: Chelsea will play Real Madrid in a crucial Champions League quarterfinal second-leg on April 18 at Stamford Bridge. The first-leg in Madrid saw the Blues suffer a 2-0 defeat as Karim Benzema and Marco Asensio scored to give the defending champions a comfortable win at Santiago Bernabeu.For Chelsea the return leg marks a pivotal moment in their season with a Champions League exit ending their hopes of silverware. However the team under Frank Lampards management has struggled lately with three consecutive defeats making their task even more daunting.Fortunately fans worldwide will have the chance to stream the game online. The Sporting News has provided all the necessary details on how to do so.Chelsea vs Real Madrid Live StreamChampions League streaming coverage will be offered by beIN Sports in Singapore Hong Kong and Malaysia while JioTV and Sony LIV will be the streaming options available in India.These two teams have both won the Champions League in the last two seasons and they have defeated each other on their path to becoming European champions.Benzema has played a pivotal role in their recent encounters notably scoring a magnificent hat-trick against Chelsea at Stamford Bridge in 2022.Chelsea vs Real Madrid timing channel Date Kickoff time StreamingIndia Wednesday Apr. 19 00:30 IST JioTV Sony LIVUK Tue Apr. 18 20:00 BST BT Sport site/appUSA Tue Apr. 18 15:00 ET Fubo Paramount ViXFAQsQ1: When is the Chelsea vs Real Madrid match scheduledA: The Chelsea vs Real Madrid match is scheduled for today April 18 2023.Q2: What time will the match beginA: The match will begin at 8:00 PM GMT.')"
      ]
     },
     "execution_count": 6,
     "metadata": {},
     "output_type": "execute_result"
    }
   ],
   "source": [
    "ArticleAttributesService.get_article('651e1c48a662d76276b88eee')"
   ]
  },
  {
   "cell_type": "code",
   "execution_count": null,
   "id": "c564a812-859c-4af7-b422-0f524c74e22c",
   "metadata": {},
   "outputs": [],
   "source": [
    "prompt = "
   ]
  },
  {
   "cell_type": "code",
   "execution_count": 3,
   "id": "0b658ab9-d318-4b97-8714-69d8b8668eec",
   "metadata": {
    "tags": []
   },
   "outputs": [],
   "source": [
    "art = ArticleService.get_article_json_from_s3_and_api('651e1c48a662d76276b88eee')"
   ]
  },
  {
   "cell_type": "code",
   "execution_count": 9,
   "id": "e32dc4a2-dd71-457b-b0ab-d77d8657baa8",
   "metadata": {
    "tags": []
   },
   "outputs": [],
   "source": [
    "def convert_key(k):\n",
    "    return re.sub(r'(?<!^)(?=[A-Z])', '_', k).lower()"
   ]
  },
  {
   "cell_type": "code",
   "execution_count": 13,
   "id": "a4ad41b1-a201-4b8d-8e90-6498552e6aea",
   "metadata": {
    "tags": []
   },
   "outputs": [
    {
     "data": {
      "text/plain": [
       "'article_id'"
      ]
     },
     "execution_count": 13,
     "metadata": {},
     "output_type": "execute_result"
    }
   ],
   "source": [
    "convert_key('article_id')"
   ]
  },
  {
   "cell_type": "code",
   "execution_count": 17,
   "id": "fda655ea-eda1-41e6-a0e1-f65e11e790bf",
   "metadata": {
    "tags": []
   },
   "outputs": [],
   "source": [
    "keys = list(art.keys())\n",
    "for k in keys:\n",
    "    art[convert_key(k)] = art[k]"
   ]
  },
  {
   "cell_type": "code",
   "execution_count": 21,
   "id": "9fc0c6dc-d071-4420-913b-507c6db3023c",
   "metadata": {
    "tags": []
   },
   "outputs": [],
   "source": [
    "a = Article.from_dict(art)"
   ]
  },
  {
   "cell_type": "code",
   "execution_count": 22,
   "id": "7428a576-db24-4f95-b164-3438eea82335",
   "metadata": {
    "tags": []
   },
   "outputs": [
    {
     "data": {
      "text/plain": [
       "'Chelsea vs Real Madrid: Live streaming where to watch Champions League match: Chelsea will play Real Madrid in a crucial Champions League quarterfinal second-leg on April 18 at Stamford Bridge. The first-leg in Madrid saw the Blues suffer a 2-0 defeat as Karim Benzema and Marco Asensio scored to give the defending champions a comfortable win at Santiago Bernabeu.For Chelsea the return leg marks a pivotal moment in their season with a Champions League exit ending their hopes of silverware. However the team under Frank Lampards management has struggled lately with three consecutive defeats making their task even more daunting.Fortunately fans worldwide will have the chance to stream the game online. The Sporting News has provided all the necessary details on how to do so.Chelsea vs Real Madrid Live StreamChampions League streaming coverage will be offered by beIN Sports in Singapore Hong Kong and Malaysia while JioTV and Sony LIV will be the streaming options available in India.These two teams have both won the Champions League in the last two seasons and they have defeated each other on their path to becoming European champions.Benzema has played a pivotal role in their recent encounters notably scoring a magnificent hat-trick against Chelsea at Stamford Bridge in 2022.Chelsea vs Real Madrid timing channel Date Kickoff time StreamingIndia Wednesday Apr. 19 00:30 IST JioTV Sony LIVUK Tue Apr. 18 20:00 BST BT Sport site/appUSA Tue Apr. 18 15:00 ET Fubo Paramount ViXFAQsQ1: When is the Chelsea vs Real Madrid match scheduledA: The Chelsea vs Real Madrid match is scheduled for today April 18 2023.Q2: What time will the match beginA: The match will begin at 8:00 PM GMT.'"
      ]
     },
     "execution_count": 22,
     "metadata": {},
     "output_type": "execute_result"
    }
   ],
   "source": [
    "a.full_content"
   ]
  },
  {
   "cell_type": "code",
   "execution_count": 4,
   "id": "b8ef6746-a5b0-4615-9087-94acc59ee270",
   "metadata": {
    "scrolled": true,
    "tags": []
   },
   "outputs": [
    {
     "data": {
      "text/plain": [
       "{'meta_data': {'is_premium_article': False,\n",
       "  'title': 'Chelsea vs Real Madrid: Live streaming, where to watch Champions League match',\n",
       "  'short_description': ' Chelsea and Real Madrid will face each other in a highly anticipated Champions League match today. The match will be crucial for both teams as they battle it out for a spot in the final.',\n",
       "  'published_time': '2023-04-18T15:18:00+05:30',\n",
       "  'last_updated_time': '2023-04-18T15:18:00+05:30',\n",
       "  'tags': ['How to Watch Chelsea vs Real Madrid',\n",
       "   'chelsea',\n",
       "   'real madrid',\n",
       "   'live streaming',\n",
       "   'benzema',\n",
       "   'sony',\n",
       "   'ist',\n",
       "   'Chelsea vs Real Madrid Live Streaming',\n",
       "   'Where to watch Chelsea vs Real Madrid'],\n",
       "  'image_url': 'https://economictimes.indiatimes.com/thumb/msid-99583700,width-1920,height-1280,imgsize-123384,overlay-economictimes/photo.jpg',\n",
       "  'authors': ['The Feed']},\n",
       " 'cleaned_text': \"Chelsea will play Real Madrid in a crucial Champions League quarterfinal second-leg on April 18 at Stamford Bridge. The first-leg in Madrid saw the Blues suffer a 2-0 defeat, as Karim Benzema and Marco Asensio scored to give the defending champions a comfortable win at Santiago Bernabeu.For Chelsea, the return leg marks a pivotal moment in their season, with a Champions League exit ending their hopes of silverware. However, the team under Frank Lampard's management has struggled lately, with three consecutive defeats, making their task even more daunting.Fortunately, fans worldwide will have the chance to stream the game online. The Sporting News has provided all the necessary details on how to do so.Chelsea vs Real Madrid Live StreamChampions League streaming coverage will be offered by beIN Sports in Singapore, Hong Kong, and Malaysia, while JioTV and Sony LIV will be the streaming options available in India.These two teams have both won the Champions League in the last two seasons, and they have defeated each other on their path to becoming European champions.Benzema has played a pivotal role in their recent encounters, notably scoring a magnificent hat-trick against Chelsea at Stamford Bridge in 2022.Chelsea vs Real Madrid timing, channel Date Kickoff time StreamingIndia Wednesday, Apr. 19 00:30 IST JioTV, Sony LIVUK Tue, Apr. 18 20:00 BST BT Sport site/appUSA Tue, Apr. 18 15:00 ET Fubo, Paramount+, ViXFAQsQ1: When is the Chelsea vs Real Madrid match scheduled?A: The Chelsea vs Real Madrid match is scheduled for today, April 18, 2023.Q2: What time will the match begin?A: The match will begin at 8:00 PM GMT.\",\n",
       " 'article_images': [{'image_url': 'https://img.etimg.com/thumb/msid-99583700,width-300,height-225,imgsize-123384,,resizemode-75/chelsea-vs-real-madrid-live-streaming-where-to-watch-champions-league-match.jpg',\n",
       "   'image_caption': None}],\n",
       " 'articleId': '651e1c48a662d76276b88eee',\n",
       " 'url': 'https://economictimes.indiatimes.com/news/new-updates/chelsea-vs-real-madrid-live-streaming-where-to-watch-champions-league-match/articleshow/99583600.cms',\n",
       " 'title': 'Chelsea vs Real Madrid: Live streaming, where to watch Champions League match',\n",
       " 'shortDescription': ' Chelsea and Real Madrid will face each other in a highly anticipated Champions League match today. The match will be crucial for both teams as they battle it out for a spot in the final.',\n",
       " 'publishedTime': '2023-04-18T15:18:00+05:30',\n",
       " 'lastUpdatedTime': '2023-04-18T15:18:00+05:30',\n",
       " 'tags': ['How to Watch Chelsea vs Real Madrid',\n",
       "  'chelsea',\n",
       "  'real madrid',\n",
       "  'live streaming',\n",
       "  'benzema',\n",
       "  'sony',\n",
       "  'ist',\n",
       "  'Chelsea vs Real Madrid Live Streaming',\n",
       "  'Where to watch Chelsea vs Real Madrid'],\n",
       " 'articleImageUrl': 'https://economictimes.indiatimes.com/thumb/msid-99583700,width-1920,height-1280,imgsize-123384,overlay-economictimes/photo.jpg',\n",
       " 'category': None,\n",
       " 'authors': ['The Feed'],\n",
       " 'isPremiumArticle': False,\n",
       " 'source': {'sourceId': '6512cdcad01a9c8e86263e05',\n",
       "  'sourceName': 'economic-times',\n",
       "  'sourceLogo': 'https://d21f9i7sgc5q85.cloudfront.net/economic-times/logo.webp'},\n",
       " 'sourceId': '6512cdcad01a9c8e86263e05',\n",
       " 'sourceName': 'economic-times',\n",
       " 'sourceLogo': 'https://d21f9i7sgc5q85.cloudfront.net/economic-times/logo.webp'}"
      ]
     },
     "execution_count": 4,
     "metadata": {},
     "output_type": "execute_result"
    }
   ],
   "source": [
    "art"
   ]
  },
  {
   "cell_type": "markdown",
   "id": "03438218-c07a-4dd5-95a0-c08a37987fb8",
   "metadata": {},
   "source": [
    "### Attributes testing"
   ]
  },
  {
   "cell_type": "code",
   "execution_count": 13,
   "id": "16e34d77-d1c1-4f4a-bf75-5646d8b682e9",
   "metadata": {
    "tags": []
   },
   "outputs": [],
   "source": [
    "import pandas as pd"
   ]
  },
  {
   "cell_type": "code",
   "execution_count": 11,
   "id": "bbf64cee-512f-457e-930b-901d55c77862",
   "metadata": {},
   "outputs": [],
   "source": [
    "a = [{'a': 2, 'b': 3}, {'a': 4, 'b': 5}]"
   ]
  },
  {
   "cell_type": "code",
   "execution_count": 15,
   "id": "cda44e3f-0feb-4cd7-8f08-b4b78ea43df9",
   "metadata": {},
   "outputs": [],
   "source": [
    "d = pd.DataFrame(a).to_dict('records')"
   ]
  },
  {
   "cell_type": "code",
   "execution_count": 18,
   "id": "07de3a36-fe78-4a09-ba09-27f5de3018fc",
   "metadata": {
    "tags": []
   },
   "outputs": [],
   "source": [
    "def loop():\n",
    "    a = []\n",
    "    for i in range(100):\n",
    "        a.append(i) "
   ]
  },
  {
   "cell_type": "code",
   "execution_count": 19,
   "id": "b1df3474-5121-4588-a635-ba68dddc3b22",
   "metadata": {
    "tags": []
   },
   "outputs": [
    {
     "name": "stdout",
     "output_type": "stream",
     "text": [
      "7.1 µs ± 0 ns per loop (mean ± std. dev. of 1 run, 10 loops each)\n"
     ]
    }
   ],
   "source": [
    "%timeit -n 10 -r 1 loop()"
   ]
  },
  {
   "cell_type": "code",
   "execution_count": 20,
   "id": "e1c7ad32-aec7-40f8-b38b-aad4a51a539e",
   "metadata": {
    "tags": []
   },
   "outputs": [],
   "source": [
    "def listcomp():\n",
    "    a = [i for i in range(100)]"
   ]
  },
  {
   "cell_type": "code",
   "execution_count": 21,
   "id": "26af1c94-8be7-4358-85b1-0cef9816244f",
   "metadata": {
    "tags": []
   },
   "outputs": [
    {
     "name": "stdout",
     "output_type": "stream",
     "text": [
      "6.92 µs ± 0 ns per loop (mean ± std. dev. of 1 run, 10 loops each)\n"
     ]
    }
   ],
   "source": [
    "%timeit -n 10 -r 1 listcomp()"
   ]
  },
  {
   "cell_type": "code",
   "execution_count": 16,
   "id": "cdebf219-cbe2-4a36-8b5e-116f6fc4462b",
   "metadata": {
    "tags": []
   },
   "outputs": [
    {
     "data": {
      "text/plain": [
       "[{'a': 2, 'b': 3}, {'a': 4, 'b': 5}]"
      ]
     },
     "execution_count": 16,
     "metadata": {},
     "output_type": "execute_result"
    }
   ],
   "source": [
    "for dic in d:\n",
    "    dic[]"
   ]
  },
  {
   "cell_type": "code",
   "execution_count": 2,
   "id": "ceb1e99c-6f62-4453-b9d1-3b06e499a9d1",
   "metadata": {
    "tags": []
   },
   "outputs": [],
   "source": [
    "from src.candidates.CandidatesService import CandidatesService"
   ]
  },
  {
   "cell_type": "code",
   "execution_count": 3,
   "id": "53462c16-2709-43b3-afd0-a1c632bda87b",
   "metadata": {
    "tags": []
   },
   "outputs": [
    {
     "name": "stdout",
     "output_type": "stream",
     "text": [
      "total sum is 0.6\n",
      "total sum is 1.1\n",
      "total sum is 1.8\n",
      "total sum is 2.0\n",
      "total sum is 0.7\n",
      "total sum is 1.2999999999999998\n",
      "total sum is 1.7999999999999998\n",
      "total sum is 2.3\n"
     ]
    }
   ],
   "source": [
    "df = CandidatesService.get_llm_attributes()"
   ]
  },
  {
   "cell_type": "code",
   "execution_count": 6,
   "id": "acb52067-e736-4887-baaf-0205fc30af1d",
   "metadata": {
    "tags": []
   },
   "outputs": [
    {
     "data": {
      "text/html": [
       "<div>\n",
       "<style scoped>\n",
       "    .dataframe tbody tr th:only-of-type {\n",
       "        vertical-align: middle;\n",
       "    }\n",
       "\n",
       "    .dataframe tbody tr th {\n",
       "        vertical-align: top;\n",
       "    }\n",
       "\n",
       "    .dataframe thead th {\n",
       "        text-align: right;\n",
       "    }\n",
       "</style>\n",
       "<table border=\"1\" class=\"dataframe\">\n",
       "  <thead>\n",
       "    <tr style=\"text-align: right;\">\n",
       "      <th></th>\n",
       "      <th>article_id</th>\n",
       "      <th>financial_news</th>\n",
       "      <th>relevant_for_india</th>\n",
       "      <th>validity_duration</th>\n",
       "      <th>expected_popularity</th>\n",
       "      <th>final_reader_interest_score</th>\n",
       "      <th>final_headline_effectiveness_score</th>\n",
       "      <th>final_event_novelty_score</th>\n",
       "      <th>final_emotional_impact_score</th>\n",
       "      <th>validity_in_hours</th>\n",
       "      <th>prior_a</th>\n",
       "    </tr>\n",
       "  </thead>\n",
       "  <tbody>\n",
       "    <tr>\n",
       "      <th>83446</th>\n",
       "      <td>659657954b25ce4814fb4bf0</td>\n",
       "      <td>True</td>\n",
       "      <td>True</td>\n",
       "      <td>30</td>\n",
       "      <td>moderately_popular</td>\n",
       "      <td>0.6</td>\n",
       "      <td>0.5</td>\n",
       "      <td>0.7</td>\n",
       "      <td>0.2</td>\n",
       "      <td>720</td>\n",
       "      <td>8</td>\n",
       "    </tr>\n",
       "    <tr>\n",
       "      <th>153500</th>\n",
       "      <td>6555c8144b13023f934905a2</td>\n",
       "      <td>True</td>\n",
       "      <td>True</td>\n",
       "      <td>30</td>\n",
       "      <td>moderately_popular</td>\n",
       "      <td>0.7</td>\n",
       "      <td>0.6</td>\n",
       "      <td>0.5</td>\n",
       "      <td>0.5</td>\n",
       "      <td>720</td>\n",
       "      <td>9</td>\n",
       "    </tr>\n",
       "  </tbody>\n",
       "</table>\n",
       "</div>"
      ],
      "text/plain": [
       "                      article_id  financial_news  relevant_for_india  \\\n",
       "83446   659657954b25ce4814fb4bf0            True                True   \n",
       "153500  6555c8144b13023f934905a2            True                True   \n",
       "\n",
       "        validity_duration expected_popularity final_reader_interest_score  \\\n",
       "83446                  30  moderately_popular                         0.6   \n",
       "153500                 30  moderately_popular                         0.7   \n",
       "\n",
       "       final_headline_effectiveness_score final_event_novelty_score  \\\n",
       "83446                                 0.5                       0.7   \n",
       "153500                                0.6                       0.5   \n",
       "\n",
       "       final_emotional_impact_score  validity_in_hours  prior_a  \n",
       "83446                           0.2                720        8  \n",
       "153500                          0.5                720        9  "
      ]
     },
     "execution_count": 6,
     "metadata": {},
     "output_type": "execute_result"
    }
   ],
   "source": [
    "df[df.final_reader_interest_score.notnull()]"
   ]
  },
  {
   "cell_type": "code",
   "execution_count": 7,
   "id": "8f24c1ad-4083-4fd5-8b9b-2c908a6acd0a",
   "metadata": {
    "tags": []
   },
   "outputs": [],
   "source": [
    "def calculate_score(article_attributes):\n",
    "    # Attributes to check\n",
    "    attributes = ['final_reader_interest_score', 'final_headline_effectiveness_score', 'final_event_novelty_score', 'final_emotional_impact_score']\n",
    "    \n",
    "    try:\n",
    "        # Sum the values of the attributes if they exist, else raise ValueError\n",
    "        total_sum = sum(float(article_attributes[att]) for att in attributes if att in article_attributes)\n",
    "        print(f'total sum is {total_sum}')\n",
    "        # If all scores exist, return 4 times the sum of individual values\n",
    "        if all(att in article_attributes for att in attributes):\n",
    "            return int(round(total_sum * 4))\n",
    "    except ValueError:\n",
    "        pass\n",
    "    \n",
    "    # Return None or an appropriate value if valid scores aren't found\n",
    "    return None"
   ]
  },
  {
   "cell_type": "code",
   "execution_count": 9,
   "id": "74856103-e946-4aac-8695-739246b34526",
   "metadata": {
    "tags": []
   },
   "outputs": [
    {
     "name": "stdout",
     "output_type": "stream",
     "text": [
      "total sum is 0.8999999999999999\n"
     ]
    }
   ],
   "source": [
    "calculate_score({'final_reader_interest_score': 0.3, 'final_event_novelty_score': 0.3, 'final_emotional_impact_score': 0.3})"
   ]
  },
  {
   "cell_type": "code",
   "execution_count": null,
   "id": "1d233997-471f-4794-8896-34412a0b2cbc",
   "metadata": {},
   "outputs": [],
   "source": []
  }
 ],
 "metadata": {
  "kernelspec": {
   "display_name": "recoenv",
   "language": "python",
   "name": "recoenv"
  },
  "language_info": {
   "codemirror_mode": {
    "name": "ipython",
    "version": 3
   },
   "file_extension": ".py",
   "mimetype": "text/x-python",
   "name": "python",
   "nbconvert_exporter": "python",
   "pygments_lexer": "ipython3",
   "version": "3.11.5"
  }
 },
 "nbformat": 4,
 "nbformat_minor": 5
}
