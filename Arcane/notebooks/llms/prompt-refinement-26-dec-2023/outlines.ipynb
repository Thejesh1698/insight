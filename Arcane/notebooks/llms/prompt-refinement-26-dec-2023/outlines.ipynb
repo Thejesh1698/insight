{
 "cells": [
  {
   "cell_type": "code",
   "execution_count": 4,
   "id": "bb993f7e-ac17-424e-8636-7d9f01b50091",
   "metadata": {
    "tags": []
   },
   "outputs": [],
   "source": [
    "import outlines\n",
    "import openai\n",
    "import tiktoken"
   ]
  },
  {
   "cell_type": "code",
   "execution_count": 5,
   "id": "3ff8231e-488f-4109-83ea-f6650d90d3d4",
   "metadata": {
    "tags": []
   },
   "outputs": [
    {
     "ename": "ImportError",
     "evalue": "cannot import name 'Outlines' from 'outlines' (/Users/ravi.tej/anaconda3/lib/python3.11/site-packages/outlines/__init__.py)",
     "output_type": "error",
     "traceback": [
      "\u001b[0;31m---------------------------------------------------------------------------\u001b[0m",
      "\u001b[0;31mImportError\u001b[0m                               Traceback (most recent call last)",
      "Cell \u001b[0;32mIn[5], line 1\u001b[0m\n\u001b[0;32m----> 1\u001b[0m \u001b[38;5;28;01mfrom\u001b[39;00m \u001b[38;5;21;01moutlines\u001b[39;00m \u001b[38;5;28;01mimport\u001b[39;00m Outlines, Text, Choice\n\u001b[1;32m      2\u001b[0m \u001b[38;5;28;01mimport\u001b[39;00m \u001b[38;5;21;01mopenai\u001b[39;00m\n",
      "\u001b[0;31mImportError\u001b[0m: cannot import name 'Outlines' from 'outlines' (/Users/ravi.tej/anaconda3/lib/python3.11/site-packages/outlines/__init__.py)"
     ]
    }
   ],
   "source": [
    "from outlines import Outlines, Text, Choice\n",
    "import openai"
   ]
  },
  {
   "cell_type": "code",
   "execution_count": null,
   "id": "7f4c1323-9cac-4779-bfeb-5e6a7a4048c2",
   "metadata": {},
   "outputs": [],
   "source": []
  }
 ],
 "metadata": {
  "kernelspec": {
   "display_name": "llms",
   "language": "python",
   "name": "llms"
  },
  "language_info": {
   "codemirror_mode": {
    "name": "ipython",
    "version": 3
   },
   "file_extension": ".py",
   "mimetype": "text/x-python",
   "name": "python",
   "nbconvert_exporter": "python",
   "pygments_lexer": "ipython3",
   "version": "3.11.4"
  }
 },
 "nbformat": 4,
 "nbformat_minor": 5
}
