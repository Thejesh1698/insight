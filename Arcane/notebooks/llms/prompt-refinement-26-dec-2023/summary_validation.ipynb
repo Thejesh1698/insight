{
 "cells": [
  {
   "cell_type": "code",
   "execution_count": 1,
   "id": "6111e0e2-75cc-4bfd-b214-f3b06fae884f",
   "metadata": {
    "tags": []
   },
   "outputs": [],
   "source": [
    "import re\n",
    "import json\n",
    "\n",
    "import pandas as pd"
   ]
  },
  {
   "cell_type": "code",
   "execution_count": 2,
   "id": "c02fd5ee-bdbc-4deb-9888-ab3e1475ad42",
   "metadata": {
    "tags": []
   },
   "outputs": [],
   "source": [
    "import warnings\n",
    "warnings.filterwarnings(\"ignore\")"
   ]
  },
  {
   "cell_type": "code",
   "execution_count": 78,
   "id": "19e67f2f-e351-4985-9b6c-a0818446b909",
   "metadata": {
    "tags": []
   },
   "outputs": [],
   "source": [
    "def replace_with_br(s):\n",
    "    # Define the patterns to be replaced with <br>\n",
    "    patterns = [r\"\\.\\s\", r\"\\.<br>\", r\"\\.\\s<br>\"]\n",
    "\n",
    "    # Replace each pattern in the string with <br>\n",
    "    for pattern in patterns:\n",
    "        s = re.sub(pattern, \"<br>\", s)\n",
    "\n",
    "    # Replace consecutive <br> tags with a single <br>\n",
    "    s = re.sub(r\"(<br>)+\", \"<br>\", s)\n",
    "\n",
    "    return s"
   ]
  },
  {
   "cell_type": "code",
   "execution_count": 79,
   "id": "653e8742-cb05-4f91-bfe8-3c9c8e4883c0",
   "metadata": {
    "tags": []
   },
   "outputs": [],
   "source": [
    "test_replace_string = \"This is a sentence. Followed by another. And another.<br> This one has space. And this one too. <br>Finally, this one has space and a break.<br>\""
   ]
  },
  {
   "cell_type": "code",
   "execution_count": 80,
   "id": "8f1b46f5-9c0c-4afb-a50b-b52725eaed40",
   "metadata": {
    "tags": []
   },
   "outputs": [
    {
     "data": {
      "text/plain": [
       "'This is a sentence<br>Followed by another<br>And another<br> This one has space<br>And this one too<br>Finally, this one has space and a break<br>'"
      ]
     },
     "execution_count": 80,
     "metadata": {},
     "output_type": "execute_result"
    }
   ],
   "source": [
    "replace_with_br(test_replace_string)"
   ]
  },
  {
   "cell_type": "code",
   "execution_count": 86,
   "id": "e72de356-0ed9-4920-b522-466edeb98d73",
   "metadata": {
    "tags": []
   },
   "outputs": [],
   "source": [
    "def check_format_by_splitting_debug(s):\n",
    "    # Split the string based on <br> and strip each resulting string\n",
    "    s = s.replace('\\n', '<br>')\n",
    "    # s = replace_with_br(s)\n",
    "    # s = s.replace('<br>', '.')\n",
    "    points = [point.strip() for point in s.split('<br>') if point.strip()]\n",
    "\n",
    "    # Check if the number of points is 2 or 3\n",
    "    # if len(points) not in [2, 3, 4, 5, 6]:\n",
    "    #     return False, 'num_points'\n",
    "\n",
    "#     # Check each point for the \"**label**: point\" format\n",
    "#     for point in points:\n",
    "#         if not (re.match(r\"^\\*\\*[^*]+\\*\\*:?\\s+[^*]+\", point) or re.match(r\"^:\\*\\*[^*]+\\*\\*\\s+[^*]+\", point)):\n",
    "#             return False, 'formatting'\n",
    "\n",
    "#     # If all checks pass\n",
    "#     return True, ''\n",
    "\n",
    "\n",
    "    # Check each point for the \"**label**: point\" format with optional space after the colon\n",
    "#     for point in points:\n",
    "#         # Extracting label and actual point content\n",
    "#         label_match = re.match(r\"^\\*\\*[^*]+\\*\\*:?\\s*\", point)\n",
    "#         if not label_match:\n",
    "#             return False, 'formatting'\n",
    "#         label = label_match.group(0)\n",
    "#         actual_point = point[len(label):].lstrip()  # Strip leading spaces from the point part\n",
    "\n",
    "#         # Checking if the actual point content contains asterisks\n",
    "#         if '*' in actual_point:\n",
    "#             return False, 'asterisks_in_point'\n",
    "\n",
    "#     # If all checks pass\n",
    "#     return True, ''\n",
    "        # Check each point for the \"**label**: point\" or \"<strong>label</strong>: point\" format with optional space after the colon\n",
    "    for point in points:\n",
    "        # Extracting label and actual point content\n",
    "        label_match = re.match(r\"^(\\*\\*[^*]+\\*\\*|<strong>[^<]+</strong>|<b>[^<]+</b>):?\\s*\", point)\n",
    "        if not label_match:\n",
    "            return False, 'formatting'\n",
    "        label = label_match.group(0)\n",
    "        actual_point = point[len(label):].lstrip()  # Strip leading spaces from the point part\n",
    "\n",
    "        # Checking if the actual point content contains asterisks or <strong> tags\n",
    "        if '*' in actual_point or '<strong>' in actual_point or '</strong>' in actual_point:\n",
    "            return actual_point\n",
    "            return False, 'invalid_content_in_point'\n",
    "\n",
    "    # If all checks pass\n",
    "    return True, ''"
   ]
  },
  {
   "cell_type": "code",
   "execution_count": 43,
   "id": "f9ec9740-7b82-4f4e-b856-da824c7a6d9a",
   "metadata": {
    "tags": []
   },
   "outputs": [],
   "source": [
    "gpt_responses = pd.read_csv('gpt-4-responses-29-dec-v2.csv', header=None)"
   ]
  },
  {
   "cell_type": "code",
   "execution_count": 44,
   "id": "9b814414-4eec-4bf8-a48d-5430874fdc52",
   "metadata": {
    "tags": []
   },
   "outputs": [
    {
     "data": {
      "text/plain": [
       "2146"
      ]
     },
     "execution_count": 44,
     "metadata": {},
     "output_type": "execute_result"
    }
   ],
   "source": [
    "gpt_responses[1].nunique()"
   ]
  },
  {
   "cell_type": "code",
   "execution_count": 104,
   "id": "1b56b650-a93d-41aa-a816-cd680739a8d5",
   "metadata": {
    "tags": []
   },
   "outputs": [],
   "source": [
    "gpt_responses = gpt_responses.rename(columns = {1: 'article_id', 2: 'prompt', 3: 'full_content', 4: 'model', 5: 'attributes', 6: 'prompt_tokens', 7: 'completion_tokens', 8: 'json_generated'})"
   ]
  },
  {
   "cell_type": "code",
   "execution_count": 105,
   "id": "b9d26065-11a7-4a4e-a731-7b489e87e65d",
   "metadata": {
    "tags": []
   },
   "outputs": [
    {
     "data": {
      "text/html": [
       "<div>\n",
       "<style scoped>\n",
       "    .dataframe tbody tr th:only-of-type {\n",
       "        vertical-align: middle;\n",
       "    }\n",
       "\n",
       "    .dataframe tbody tr th {\n",
       "        vertical-align: top;\n",
       "    }\n",
       "\n",
       "    .dataframe thead th {\n",
       "        text-align: right;\n",
       "    }\n",
       "</style>\n",
       "<table border=\"1\" class=\"dataframe\">\n",
       "  <thead>\n",
       "    <tr style=\"text-align: right;\">\n",
       "      <th></th>\n",
       "      <th>0</th>\n",
       "      <th>article_id</th>\n",
       "      <th>prompt</th>\n",
       "      <th>full_content</th>\n",
       "      <th>model</th>\n",
       "      <th>attributes</th>\n",
       "      <th>prompt_tokens</th>\n",
       "      <th>completion_tokens</th>\n",
       "      <th>json_generated</th>\n",
       "    </tr>\n",
       "  </thead>\n",
       "  <tbody>\n",
       "    <tr>\n",
       "      <th>0</th>\n",
       "      <td>i</td>\n",
       "      <td>65316d5c1e5cc42b1b13e25a</td>\n",
       "      <td>\\nYou are an expert chief editor for a leading...</td>\n",
       "      <td>headline: Mindless creation of brands has begu...</td>\n",
       "      <td>gpt-4-0613</td>\n",
       "      <td>{\"summary\": \"**Brand Evolution**: Interbrand I...</td>\n",
       "      <td>2463</td>\n",
       "      <td>587</td>\n",
       "      <td>True</td>\n",
       "    </tr>\n",
       "    <tr>\n",
       "      <th>1</th>\n",
       "      <td>i</td>\n",
       "      <td>65316ead1e5cc42b1b13e61a</td>\n",
       "      <td>\\nYou are an expert chief editor for a leading...</td>\n",
       "      <td>headline: Hero MotoCorp raises price of Harley...</td>\n",
       "      <td>gpt-4-0613</td>\n",
       "      <td>{\"summary\": \"**Price Hike**: Hero MotoCorp has...</td>\n",
       "      <td>1869</td>\n",
       "      <td>537</td>\n",
       "      <td>True</td>\n",
       "    </tr>\n",
       "    <tr>\n",
       "      <th>2</th>\n",
       "      <td>i</td>\n",
       "      <td>6555bf484b13023f9348c6db</td>\n",
       "      <td>\\nYou are an expert chief editor for a leading...</td>\n",
       "      <td>headline: Chinas Q3 GDP growth Sept activity s...</td>\n",
       "      <td>gpt-4-0613</td>\n",
       "      <td>{\"summary\": \"**Growth Rate**: China's economy ...</td>\n",
       "      <td>2010</td>\n",
       "      <td>534</td>\n",
       "      <td>True</td>\n",
       "    </tr>\n",
       "    <tr>\n",
       "      <th>3</th>\n",
       "      <td>i</td>\n",
       "      <td>6555cb624b13023f9349d07e</td>\n",
       "      <td>\\nYou are an expert chief editor for a leading...</td>\n",
       "      <td>headline: Dividends Interest Rates and Their E...</td>\n",
       "      <td>gpt-4-0613</td>\n",
       "      <td>{\"summary\": \"**Understanding options**: Stock ...</td>\n",
       "      <td>2997</td>\n",
       "      <td>563</td>\n",
       "      <td>True</td>\n",
       "    </tr>\n",
       "    <tr>\n",
       "      <th>4</th>\n",
       "      <td>i</td>\n",
       "      <td>65316fd51e5cc42b1b141f53</td>\n",
       "      <td>\\nYou are an expert chief editor for a leading...</td>\n",
       "      <td>headline: New rule on sale of gold items to ki...</td>\n",
       "      <td>gpt-4-0613</td>\n",
       "      <td>{\"summary\": \"**Rule Change**: Hallmarked gold ...</td>\n",
       "      <td>2202</td>\n",
       "      <td>587</td>\n",
       "      <td>True</td>\n",
       "    </tr>\n",
       "    <tr>\n",
       "      <th>...</th>\n",
       "      <td>...</td>\n",
       "      <td>...</td>\n",
       "      <td>...</td>\n",
       "      <td>...</td>\n",
       "      <td>...</td>\n",
       "      <td>...</td>\n",
       "      <td>...</td>\n",
       "      <td>...</td>\n",
       "      <td>...</td>\n",
       "    </tr>\n",
       "    <tr>\n",
       "      <th>2261</th>\n",
       "      <td>i</td>\n",
       "      <td>6555cb144b13023f93499dfa</td>\n",
       "      <td>\\nYou are an expert chief editor for a leading...</td>\n",
       "      <td>headline: In a rare phone call Secretary of St...</td>\n",
       "      <td>gpt-4-0613</td>\n",
       "      <td>{\"summary\": \"**Detainment**: Secretary of Stat...</td>\n",
       "      <td>2066</td>\n",
       "      <td>513</td>\n",
       "      <td>True</td>\n",
       "    </tr>\n",
       "    <tr>\n",
       "      <th>2262</th>\n",
       "      <td>i</td>\n",
       "      <td>6555ccc54b13023f934ace89</td>\n",
       "      <td>\\nYou are an expert chief editor for a leading...</td>\n",
       "      <td>headline: This retail stock is a good long ter...</td>\n",
       "      <td>gpt-4-0613</td>\n",
       "      <td>{\"summary\": \"**Performance Update**: Grocery c...</td>\n",
       "      <td>1706</td>\n",
       "      <td>557</td>\n",
       "      <td>True</td>\n",
       "    </tr>\n",
       "    <tr>\n",
       "      <th>2263</th>\n",
       "      <td>i</td>\n",
       "      <td>6560d515e1d8342798a46941</td>\n",
       "      <td>\\nYou are an expert chief editor for a leading...</td>\n",
       "      <td>headline: Welspun Corp Gets Nod To Set Up Manu...</td>\n",
       "      <td>gpt-4-0613</td>\n",
       "      <td>{\"summary\": \"**Approval granted**: Welspun Cor...</td>\n",
       "      <td>1791</td>\n",
       "      <td>501</td>\n",
       "      <td>True</td>\n",
       "    </tr>\n",
       "    <tr>\n",
       "      <th>2264</th>\n",
       "      <td>i</td>\n",
       "      <td>658d47384b25ce4814fb374f</td>\n",
       "      <td>\\nYou are an expert chief editor for a leading...</td>\n",
       "      <td>headline: How does a photorealistic game look ...</td>\n",
       "      <td>gpt-4-0613</td>\n",
       "      <td>{\"summary\": \"**Game Update**: Games maker, Dra...</td>\n",
       "      <td>1819</td>\n",
       "      <td>395</td>\n",
       "      <td>True</td>\n",
       "    </tr>\n",
       "    <tr>\n",
       "      <th>2265</th>\n",
       "      <td>i</td>\n",
       "      <td>6564771596c80a0efa90fd99</td>\n",
       "      <td>\\nYou are an expert chief editor for a leading...</td>\n",
       "      <td>headline: The Perfect Storm is here or is it  ...</td>\n",
       "      <td>gpt-4-0613</td>\n",
       "      <td>{\"summary\": \"**Market Downturn**: Stock market...</td>\n",
       "      <td>2111</td>\n",
       "      <td>584</td>\n",
       "      <td>True</td>\n",
       "    </tr>\n",
       "  </tbody>\n",
       "</table>\n",
       "<p>2266 rows × 9 columns</p>\n",
       "</div>"
      ],
      "text/plain": [
       "      0                article_id  \\\n",
       "0     i  65316d5c1e5cc42b1b13e25a   \n",
       "1     i  65316ead1e5cc42b1b13e61a   \n",
       "2     i  6555bf484b13023f9348c6db   \n",
       "3     i  6555cb624b13023f9349d07e   \n",
       "4     i  65316fd51e5cc42b1b141f53   \n",
       "...  ..                       ...   \n",
       "2261  i  6555cb144b13023f93499dfa   \n",
       "2262  i  6555ccc54b13023f934ace89   \n",
       "2263  i  6560d515e1d8342798a46941   \n",
       "2264  i  658d47384b25ce4814fb374f   \n",
       "2265  i  6564771596c80a0efa90fd99   \n",
       "\n",
       "                                                 prompt  \\\n",
       "0     \\nYou are an expert chief editor for a leading...   \n",
       "1     \\nYou are an expert chief editor for a leading...   \n",
       "2     \\nYou are an expert chief editor for a leading...   \n",
       "3     \\nYou are an expert chief editor for a leading...   \n",
       "4     \\nYou are an expert chief editor for a leading...   \n",
       "...                                                 ...   \n",
       "2261  \\nYou are an expert chief editor for a leading...   \n",
       "2262  \\nYou are an expert chief editor for a leading...   \n",
       "2263  \\nYou are an expert chief editor for a leading...   \n",
       "2264  \\nYou are an expert chief editor for a leading...   \n",
       "2265  \\nYou are an expert chief editor for a leading...   \n",
       "\n",
       "                                           full_content       model  \\\n",
       "0     headline: Mindless creation of brands has begu...  gpt-4-0613   \n",
       "1     headline: Hero MotoCorp raises price of Harley...  gpt-4-0613   \n",
       "2     headline: Chinas Q3 GDP growth Sept activity s...  gpt-4-0613   \n",
       "3     headline: Dividends Interest Rates and Their E...  gpt-4-0613   \n",
       "4     headline: New rule on sale of gold items to ki...  gpt-4-0613   \n",
       "...                                                 ...         ...   \n",
       "2261  headline: In a rare phone call Secretary of St...  gpt-4-0613   \n",
       "2262  headline: This retail stock is a good long ter...  gpt-4-0613   \n",
       "2263  headline: Welspun Corp Gets Nod To Set Up Manu...  gpt-4-0613   \n",
       "2264  headline: How does a photorealistic game look ...  gpt-4-0613   \n",
       "2265  headline: The Perfect Storm is here or is it  ...  gpt-4-0613   \n",
       "\n",
       "                                             attributes  prompt_tokens  \\\n",
       "0     {\"summary\": \"**Brand Evolution**: Interbrand I...           2463   \n",
       "1     {\"summary\": \"**Price Hike**: Hero MotoCorp has...           1869   \n",
       "2     {\"summary\": \"**Growth Rate**: China's economy ...           2010   \n",
       "3     {\"summary\": \"**Understanding options**: Stock ...           2997   \n",
       "4     {\"summary\": \"**Rule Change**: Hallmarked gold ...           2202   \n",
       "...                                                 ...            ...   \n",
       "2261  {\"summary\": \"**Detainment**: Secretary of Stat...           2066   \n",
       "2262  {\"summary\": \"**Performance Update**: Grocery c...           1706   \n",
       "2263  {\"summary\": \"**Approval granted**: Welspun Cor...           1791   \n",
       "2264  {\"summary\": \"**Game Update**: Games maker, Dra...           1819   \n",
       "2265  {\"summary\": \"**Market Downturn**: Stock market...           2111   \n",
       "\n",
       "      completion_tokens  json_generated  \n",
       "0                   587            True  \n",
       "1                   537            True  \n",
       "2                   534            True  \n",
       "3                   563            True  \n",
       "4                   587            True  \n",
       "...                 ...             ...  \n",
       "2261                513            True  \n",
       "2262                557            True  \n",
       "2263                501            True  \n",
       "2264                395            True  \n",
       "2265                584            True  \n",
       "\n",
       "[2266 rows x 9 columns]"
      ]
     },
     "execution_count": 105,
     "metadata": {},
     "output_type": "execute_result"
    }
   ],
   "source": [
    "gpt_responses"
   ]
  },
  {
   "cell_type": "code",
   "execution_count": 49,
   "id": "0b5d9b70-e607-4e76-8890-dbfc39d3d27e",
   "metadata": {
    "tags": []
   },
   "outputs": [],
   "source": [
    "invalid_response_article_ids = []"
   ]
  },
  {
   "cell_type": "code",
   "execution_count": 50,
   "id": "adcef928-7cf9-4ba7-bdb3-bfbe304fac3f",
   "metadata": {
    "tags": []
   },
   "outputs": [],
   "source": [
    "resp = []\n",
    "for i in range(len(gpt_responses)):\n",
    "    row = gpt_responses.iloc[i]\n",
    "    try:\n",
    "        valid_json = json.loads(row['attributes'])\n",
    "        if isinstance(valid_json, dict):\n",
    "            valid_json['article_id'] = row['article_id']\n",
    "            resp.append(valid_json)\n",
    "    except:\n",
    "        invalid_response_article_ids.append(row[1])"
   ]
  },
  {
   "cell_type": "code",
   "execution_count": 10,
   "id": "4b3cdc37-bca0-4a7e-9467-d57566680bed",
   "metadata": {
    "tags": []
   },
   "outputs": [],
   "source": [
    "resp_df = pd.DataFrame(resp)"
   ]
  },
  {
   "cell_type": "code",
   "execution_count": 11,
   "id": "0c72749b-0d17-44ce-90b8-dd7f1f3d9b00",
   "metadata": {
    "tags": []
   },
   "outputs": [],
   "source": [
    "resp_df = resp_df[resp_df.improved_summary.notnull()]"
   ]
  },
  {
   "cell_type": "code",
   "execution_count": 99,
   "id": "7590849e-ff31-4031-87db-d8d1436a8e4e",
   "metadata": {
    "tags": []
   },
   "outputs": [
    {
     "data": {
      "text/plain": [
       "summary                                 1.000000\n",
       "summary_critique                        1.000000\n",
       "improved_summary                        1.000000\n",
       "top_categories                          1.000000\n",
       "business_or_financial_article           1.000000\n",
       "indian_or_international                 1.000000\n",
       "relevant_for_indians                    1.000000\n",
       "article_validity_duration_evaluation    1.000000\n",
       "article_validity_duration               1.000000\n",
       "popularity_evaluation                   1.000000\n",
       "popularity_evaluation_critique          1.000000\n",
       "final_reader_interest_score             1.000000\n",
       "final_headline_effectiveness_score      1.000000\n",
       "final_event_novelty_score               1.000000\n",
       "final_emotional_impact_score            1.000000\n",
       "improved_headline                       1.000000\n",
       "article_type                            1.000000\n",
       "article_sentiment                       1.000000\n",
       "article_id                              1.000000\n",
       "final_event_novelity_score              0.010166\n",
       "name                                    0.000000\n",
       "age                                     0.000000\n",
       "city                                    0.000000\n",
       "valid_summary_format                    1.000000\n",
       "reason                                  1.000000\n",
       "dtype: float64"
      ]
     },
     "execution_count": 99,
     "metadata": {},
     "output_type": "execute_result"
    }
   ],
   "source": [
    "resp_df[resp_df.age.isnull()].notnull().mean()"
   ]
  },
  {
   "cell_type": "code",
   "execution_count": 12,
   "id": "a8366dbe-e926-4965-b2cc-2df969daa4cb",
   "metadata": {
    "tags": []
   },
   "outputs": [],
   "source": [
    "resp_df['final_event_novelty_score'] = resp_df.apply(lambda x: x['final_event_novelty_score'] if pd.notnull(x['final_event_novelty_score']) else x['final_event_novelity_score'], axis = 1)"
   ]
  },
  {
   "cell_type": "code",
   "execution_count": 87,
   "id": "f56aea0d-eb13-495b-8768-936afc1dce22",
   "metadata": {
    "tags": []
   },
   "outputs": [],
   "source": [
    "resp_df['valid_summary_format'], resp_df['reason'] = zip(*resp_df['improved_summary'].apply(lambda x: check_format_by_splitting_debug(x)))"
   ]
  },
  {
   "cell_type": "code",
   "execution_count": 88,
   "id": "12fc2aba-635c-4a53-870a-db5cf2594bb7",
   "metadata": {
    "tags": []
   },
   "outputs": [
    {
     "data": {
      "text/plain": [
       "reason\n",
       "formatting    34\n",
       "Name: reason, dtype: int64"
      ]
     },
     "execution_count": 88,
     "metadata": {},
     "output_type": "execute_result"
    }
   ],
   "source": [
    "resp_df[resp_df['valid_summary_format'] == False].groupby('reason')['reason'].count()"
   ]
  },
  {
   "cell_type": "code",
   "execution_count": 113,
   "id": "a7bcd34c-873f-4966-9bac-a282064c41fb",
   "metadata": {
    "tags": []
   },
   "outputs": [
    {
     "data": {
      "text/html": [
       "<div>\n",
       "<style scoped>\n",
       "    .dataframe tbody tr th:only-of-type {\n",
       "        vertical-align: middle;\n",
       "    }\n",
       "\n",
       "    .dataframe tbody tr th {\n",
       "        vertical-align: top;\n",
       "    }\n",
       "\n",
       "    .dataframe thead th {\n",
       "        text-align: right;\n",
       "    }\n",
       "</style>\n",
       "<table border=\"1\" class=\"dataframe\">\n",
       "  <thead>\n",
       "    <tr style=\"text-align: right;\">\n",
       "      <th></th>\n",
       "      <th>summary</th>\n",
       "      <th>summary_critique</th>\n",
       "      <th>improved_summary</th>\n",
       "      <th>top_categories</th>\n",
       "      <th>business_or_financial_article</th>\n",
       "      <th>indian_or_international</th>\n",
       "      <th>relevant_for_indians</th>\n",
       "      <th>article_validity_duration_evaluation</th>\n",
       "      <th>article_validity_duration</th>\n",
       "      <th>popularity_evaluation</th>\n",
       "      <th>...</th>\n",
       "      <th>improved_headline</th>\n",
       "      <th>article_type</th>\n",
       "      <th>article_sentiment</th>\n",
       "      <th>article_id</th>\n",
       "      <th>final_event_novelity_score</th>\n",
       "      <th>name</th>\n",
       "      <th>age</th>\n",
       "      <th>city</th>\n",
       "      <th>valid_summary_format</th>\n",
       "      <th>reason</th>\n",
       "    </tr>\n",
       "  </thead>\n",
       "  <tbody>\n",
       "    <tr>\n",
       "      <th>0</th>\n",
       "      <td>**Brand Evolution**: Interbrand India MD discu...</td>\n",
       "      <td>The summary encapsulates the key points of the...</td>\n",
       "      <td>**Brand Evolution**: Amidst post-COVID changes...</td>\n",
       "      <td>Indian Market; Brand Marketing; Business Consu...</td>\n",
       "      <td>True</td>\n",
       "      <td>indian</td>\n",
       "      <td>True</td>\n",
       "      <td>The article detail relevant industry trends an...</td>\n",
       "      <td>-1</td>\n",
       "      <td>reader_interest_score: 0.7, as discussions on ...</td>\n",
       "      <td>...</td>\n",
       "      <td>Post-COVID Brands' Evolution: The Rise of Cust...</td>\n",
       "      <td>analysis</td>\n",
       "      <td>NA</td>\n",
       "      <td>65316d5c1e5cc42b1b13e25a</td>\n",
       "      <td>NaN</td>\n",
       "      <td>NaN</td>\n",
       "      <td>NaN</td>\n",
       "      <td>NaN</td>\n",
       "      <td>True</td>\n",
       "      <td></td>\n",
       "    </tr>\n",
       "    <tr>\n",
       "      <th>1</th>\n",
       "      <td>**Price Hike**: Hero MotoCorp has increased th...</td>\n",
       "      <td>The summary is well captured with good Readabi...</td>\n",
       "      <td>**Price Hike**: Hero MotoCorp has raised the p...</td>\n",
       "      <td>Business;Automobile;Finance;Pricing;Sales</td>\n",
       "      <td>True</td>\n",
       "      <td>indian</td>\n",
       "      <td>True</td>\n",
       "      <td>This article is valid for a short duration of ...</td>\n",
       "      <td>1</td>\n",
       "      <td>**reader_interest_score**: 0.5, given that it'...</td>\n",
       "      <td>...</td>\n",
       "      <td>Hero MotoCorp Boosts Harley Davidson X440 Pric...</td>\n",
       "      <td>fact</td>\n",
       "      <td>NA</td>\n",
       "      <td>65316ead1e5cc42b1b13e61a</td>\n",
       "      <td>NaN</td>\n",
       "      <td>NaN</td>\n",
       "      <td>NaN</td>\n",
       "      <td>NaN</td>\n",
       "      <td>True</td>\n",
       "      <td></td>\n",
       "    </tr>\n",
       "    <tr>\n",
       "      <th>2</th>\n",
       "      <td>**Growth Rate**: China's economy grew faster t...</td>\n",
       "      <td>The summary accurately captures the key points...</td>\n",
       "      <td>**Q3 Growth**: China's third-quarter economy s...</td>\n",
       "      <td>Global Economy; Chinese Economy; GDP Growth; P...</td>\n",
       "      <td>True</td>\n",
       "      <td>international</td>\n",
       "      <td>True</td>\n",
       "      <td>The article content pertains to Q3 economic st...</td>\n",
       "      <td>90</td>\n",
       "      <td>reader_interest_score: 0.35, due to the releva...</td>\n",
       "      <td>...</td>\n",
       "      <td>Q3 Surge: China's Economic Rise Above Predicti...</td>\n",
       "      <td>fact</td>\n",
       "      <td>bull</td>\n",
       "      <td>6555bf484b13023f9348c6db</td>\n",
       "      <td>NaN</td>\n",
       "      <td>NaN</td>\n",
       "      <td>NaN</td>\n",
       "      <td>NaN</td>\n",
       "      <td>True</td>\n",
       "      <td></td>\n",
       "    </tr>\n",
       "  </tbody>\n",
       "</table>\n",
       "<p>3 rows × 25 columns</p>\n",
       "</div>"
      ],
      "text/plain": [
       "                                             summary  \\\n",
       "0  **Brand Evolution**: Interbrand India MD discu...   \n",
       "1  **Price Hike**: Hero MotoCorp has increased th...   \n",
       "2  **Growth Rate**: China's economy grew faster t...   \n",
       "\n",
       "                                    summary_critique  \\\n",
       "0  The summary encapsulates the key points of the...   \n",
       "1  The summary is well captured with good Readabi...   \n",
       "2  The summary accurately captures the key points...   \n",
       "\n",
       "                                    improved_summary  \\\n",
       "0  **Brand Evolution**: Amidst post-COVID changes...   \n",
       "1  **Price Hike**: Hero MotoCorp has raised the p...   \n",
       "2  **Q3 Growth**: China's third-quarter economy s...   \n",
       "\n",
       "                                      top_categories  \\\n",
       "0  Indian Market; Brand Marketing; Business Consu...   \n",
       "1          Business;Automobile;Finance;Pricing;Sales   \n",
       "2  Global Economy; Chinese Economy; GDP Growth; P...   \n",
       "\n",
       "  business_or_financial_article indian_or_international relevant_for_indians  \\\n",
       "0                          True                  indian                 True   \n",
       "1                          True                  indian                 True   \n",
       "2                          True           international                 True   \n",
       "\n",
       "                article_validity_duration_evaluation  \\\n",
       "0  The article detail relevant industry trends an...   \n",
       "1  This article is valid for a short duration of ...   \n",
       "2  The article content pertains to Q3 economic st...   \n",
       "\n",
       "  article_validity_duration  \\\n",
       "0                        -1   \n",
       "1                         1   \n",
       "2                        90   \n",
       "\n",
       "                               popularity_evaluation  ...  \\\n",
       "0  reader_interest_score: 0.7, as discussions on ...  ...   \n",
       "1  **reader_interest_score**: 0.5, given that it'...  ...   \n",
       "2  reader_interest_score: 0.35, due to the releva...  ...   \n",
       "\n",
       "                                   improved_headline article_type  \\\n",
       "0  Post-COVID Brands' Evolution: The Rise of Cust...     analysis   \n",
       "1  Hero MotoCorp Boosts Harley Davidson X440 Pric...         fact   \n",
       "2  Q3 Surge: China's Economic Rise Above Predicti...         fact   \n",
       "\n",
       "  article_sentiment                article_id final_event_novelity_score name  \\\n",
       "0                NA  65316d5c1e5cc42b1b13e25a                        NaN  NaN   \n",
       "1                NA  65316ead1e5cc42b1b13e61a                        NaN  NaN   \n",
       "2              bull  6555bf484b13023f9348c6db                        NaN  NaN   \n",
       "\n",
       "  age city valid_summary_format reason  \n",
       "0 NaN  NaN                 True         \n",
       "1 NaN  NaN                 True         \n",
       "2 NaN  NaN                 True         \n",
       "\n",
       "[3 rows x 25 columns]"
      ]
     },
     "execution_count": 113,
     "metadata": {},
     "output_type": "execute_result"
    }
   ],
   "source": [
    "resp_df.head(3)"
   ]
  },
  {
   "cell_type": "code",
   "execution_count": 114,
   "id": "2f94b954-6a25-4e2e-9e75-98bbd491ac44",
   "metadata": {
    "tags": []
   },
   "outputs": [
    {
     "data": {
      "text/plain": [
       "article_type\n",
       "                               8\n",
       "Analysis                      26\n",
       "Educational                   12\n",
       "Fact                          49\n",
       "NA                             1\n",
       "News                           1\n",
       "Review                         1\n",
       "advice                         1\n",
       "analysis                     340\n",
       "announcement                   1\n",
       "blank                          1\n",
       "educational                  344\n",
       "fact                        1339\n",
       "facts                          1\n",
       "forecast                       2\n",
       "insufficient information       1\n",
       "interview                      3\n",
       "investigation                  1\n",
       "news                           6\n",
       "opinion                       20\n",
       "personal                       1\n",
       "profile                        1\n",
       "research                       1\n",
       "review                         2\n",
       "sponsored                      1\n",
       "Name: article_type, dtype: int64"
      ]
     },
     "execution_count": 114,
     "metadata": {},
     "output_type": "execute_result"
    }
   ],
   "source": [
    "resp_df.groupby('article_type')['article_type'].count()"
   ]
  },
  {
   "cell_type": "code",
   "execution_count": 100,
   "id": "f2e29b5b-351f-430e-a5e7-741d0fcb40a5",
   "metadata": {
    "tags": []
   },
   "outputs": [],
   "source": [
    "valid_article_responses = list(resp_df[(resp_df['valid_summary_format'] == True) & (resp_df.age.isnull())].article_id.unique())"
   ]
  },
  {
   "cell_type": "code",
   "execution_count": 106,
   "id": "7882af2d-1029-46d3-848f-335dfb967146",
   "metadata": {
    "tags": []
   },
   "outputs": [],
   "source": [
    "valid_resp_df = gpt_responses[gpt_responses['article_id'].isin(valid_article_responses)]"
   ]
  },
  {
   "cell_type": "code",
   "execution_count": 115,
   "id": "a08a3abd-7e71-404a-93bd-ffc5f2a04b78",
   "metadata": {
    "tags": []
   },
   "outputs": [
    {
     "data": {
      "text/plain": [
       "count    2104.000000\n",
       "mean      567.939163\n",
       "std        67.498903\n",
       "min       125.000000\n",
       "25%       528.000000\n",
       "50%       566.000000\n",
       "75%       609.000000\n",
       "max       919.000000\n",
       "Name: completion_tokens, dtype: float64"
      ]
     },
     "execution_count": 115,
     "metadata": {},
     "output_type": "execute_result"
    }
   ],
   "source": [
    "valid_resp_df['completion_tokens'].describe()"
   ]
  },
  {
   "cell_type": "code",
   "execution_count": 112,
   "id": "c79562c2-77a2-4b2a-b17a-147d93993135",
   "metadata": {
    "tags": []
   },
   "outputs": [],
   "source": [
    "valid_resp_df.to_csv('gpt-responses-29-dec-with-headers.csv',index = False)"
   ]
  },
  {
   "cell_type": "markdown",
   "id": "0e3f33b6-a331-4634-b5bb-90e945abffdd",
   "metadata": {},
   "source": [
    "### Standardizing responses"
   ]
  },
  {
   "cell_type": "code",
   "execution_count": 107,
   "id": "2e1e8ebe-5049-4c2c-93ca-f42563cc9324",
   "metadata": {
    "tags": []
   },
   "outputs": [],
   "source": [
    "article_wise_responses = {}"
   ]
  },
  {
   "cell_type": "code",
   "execution_count": 108,
   "id": "4f7468ac-1cc4-44aa-b380-4a3f99c10274",
   "metadata": {
    "tags": []
   },
   "outputs": [],
   "source": [
    "for i in range(len(valid_resp_df)):\n",
    "    row = valid_resp_df.iloc[i]\n",
    "    art_id = row['article_id']\n",
    "    try:\n",
    "        article_wise_responses[art_id] = {}\n",
    "        article_wise_responses[art_id]['response'] = json.loads(row['attributes'])\n",
    "        article_wise_responses[art_id]['content'] = row['full_content']\n",
    "    except:\n",
    "        pass"
   ]
  },
  {
   "cell_type": "code",
   "execution_count": 109,
   "id": "39606d34-a7be-4a38-80cd-844d32c378ad",
   "metadata": {
    "tags": []
   },
   "outputs": [
    {
     "data": {
      "text/html": [
       "<div>\n",
       "<style scoped>\n",
       "    .dataframe tbody tr th:only-of-type {\n",
       "        vertical-align: middle;\n",
       "    }\n",
       "\n",
       "    .dataframe tbody tr th {\n",
       "        vertical-align: top;\n",
       "    }\n",
       "\n",
       "    .dataframe thead th {\n",
       "        text-align: right;\n",
       "    }\n",
       "</style>\n",
       "<table border=\"1\" class=\"dataframe\">\n",
       "  <thead>\n",
       "    <tr style=\"text-align: right;\">\n",
       "      <th></th>\n",
       "      <th>0</th>\n",
       "      <th>article_id</th>\n",
       "      <th>prompt</th>\n",
       "      <th>full_content</th>\n",
       "      <th>model</th>\n",
       "      <th>attributes</th>\n",
       "      <th>prompt_tokens</th>\n",
       "      <th>completion_tokens</th>\n",
       "      <th>json_generated</th>\n",
       "    </tr>\n",
       "  </thead>\n",
       "  <tbody>\n",
       "    <tr>\n",
       "      <th>0</th>\n",
       "      <td>i</td>\n",
       "      <td>65316d5c1e5cc42b1b13e25a</td>\n",
       "      <td>\\nYou are an expert chief editor for a leading...</td>\n",
       "      <td>headline: Mindless creation of brands has begu...</td>\n",
       "      <td>gpt-4-0613</td>\n",
       "      <td>{\"summary\": \"**Brand Evolution**: Interbrand I...</td>\n",
       "      <td>2463</td>\n",
       "      <td>587</td>\n",
       "      <td>True</td>\n",
       "    </tr>\n",
       "    <tr>\n",
       "      <th>1</th>\n",
       "      <td>i</td>\n",
       "      <td>65316ead1e5cc42b1b13e61a</td>\n",
       "      <td>\\nYou are an expert chief editor for a leading...</td>\n",
       "      <td>headline: Hero MotoCorp raises price of Harley...</td>\n",
       "      <td>gpt-4-0613</td>\n",
       "      <td>{\"summary\": \"**Price Hike**: Hero MotoCorp has...</td>\n",
       "      <td>1869</td>\n",
       "      <td>537</td>\n",
       "      <td>True</td>\n",
       "    </tr>\n",
       "    <tr>\n",
       "      <th>2</th>\n",
       "      <td>i</td>\n",
       "      <td>6555bf484b13023f9348c6db</td>\n",
       "      <td>\\nYou are an expert chief editor for a leading...</td>\n",
       "      <td>headline: Chinas Q3 GDP growth Sept activity s...</td>\n",
       "      <td>gpt-4-0613</td>\n",
       "      <td>{\"summary\": \"**Growth Rate**: China's economy ...</td>\n",
       "      <td>2010</td>\n",
       "      <td>534</td>\n",
       "      <td>True</td>\n",
       "    </tr>\n",
       "  </tbody>\n",
       "</table>\n",
       "</div>"
      ],
      "text/plain": [
       "   0                article_id  \\\n",
       "0  i  65316d5c1e5cc42b1b13e25a   \n",
       "1  i  65316ead1e5cc42b1b13e61a   \n",
       "2  i  6555bf484b13023f9348c6db   \n",
       "\n",
       "                                              prompt  \\\n",
       "0  \\nYou are an expert chief editor for a leading...   \n",
       "1  \\nYou are an expert chief editor for a leading...   \n",
       "2  \\nYou are an expert chief editor for a leading...   \n",
       "\n",
       "                                        full_content       model  \\\n",
       "0  headline: Mindless creation of brands has begu...  gpt-4-0613   \n",
       "1  headline: Hero MotoCorp raises price of Harley...  gpt-4-0613   \n",
       "2  headline: Chinas Q3 GDP growth Sept activity s...  gpt-4-0613   \n",
       "\n",
       "                                          attributes  prompt_tokens  \\\n",
       "0  {\"summary\": \"**Brand Evolution**: Interbrand I...           2463   \n",
       "1  {\"summary\": \"**Price Hike**: Hero MotoCorp has...           1869   \n",
       "2  {\"summary\": \"**Growth Rate**: China's economy ...           2010   \n",
       "\n",
       "   completion_tokens  json_generated  \n",
       "0                587            True  \n",
       "1                537            True  \n",
       "2                534            True  "
      ]
     },
     "execution_count": 109,
     "metadata": {},
     "output_type": "execute_result"
    }
   ],
   "source": [
    "valid_resp_df.head(3)"
   ]
  },
  {
   "cell_type": "code",
   "execution_count": 110,
   "id": "26dbc090-b960-40c7-80c0-2cb0e21f7861",
   "metadata": {
    "tags": []
   },
   "outputs": [
    {
     "data": {
      "text/plain": [
       "{'response': {'summary': \"**Brand Evolution**: Interbrand India MD discusses post-COVID brand requirements, highlighting the pared back salience-drive marketing trend and the rise of 'Rebranding 3.0' <br> **Market Changes**: Traditional brands slowed during COVID while tech accelerated; a mixed experience for Interbrand India. Brands now reconsidering marketing tactics. <br> **Consumer Expectations**: Customers increasingly need control, flexibility, and personalization, driving brands to adapt pricing, communication, and logistics strategies.\",\n",
       "  'summary_critique': 'The summary encapsulates the key points of the article accurately and concisely. It effectively communicates changes in the marketing landscape, the differing experiences of traditional and tech brands, and the evolution of consumer expectations.',\n",
       "  'improved_summary': \"**Brand Evolution**: Amidst post-COVID changes, Indian brands move towards a more considerate approach, shifting from salience-driven marketing to 'Rebranding 3.0', notes Interbrand India. <br> **Pandemic Impact**: COVID-19 disruption left traditional brands struggling, while tech brands gained pace; marking a pivotal turn for brand marketing strategy. <br> **Consumer Shifts**: Customers now demand control, flexibility, and personalisation, obliging brands to rethink their pricing models, engagement methods and delivery options.\",\n",
       "  'top_categories': 'Indian Market; Brand Marketing; Business Consulting; Consumer Behaviour; Pandemic Impact',\n",
       "  'business_or_financial_article': True,\n",
       "  'indian_or_international': 'indian',\n",
       "  'relevant_for_indians': True,\n",
       "  'article_validity_duration_evaluation': 'The article detail relevant industry trends and shifts in consumer behavior. It provides a timeless educational value, particularly within the context of COVID-19.',\n",
       "  'article_validity_duration': -1,\n",
       "  'popularity_evaluation': \"reader_interest_score: 0.7, as discussions on brand marketing and industry trends can capture significant interest.<br> headline_effectiveness: 0.6, 'Mindless creation of brands' is a strong phrasing that grabs attention but the overall message can be more concise.<br> event_novelty: 0.4, Post-COVID changes and impacts are a common topic.<br> emotional_impact: 0.3, The article primarily provides an analysis without significant emotional appeal.\",\n",
       "  'popularity_evaluation_critique': 'Appropriate scores overall, although the emotional impact could be underestimated considering the significant changes brands and consumers undergo.',\n",
       "  'final_reader_interest_score': 0.7,\n",
       "  'final_headline_effectiveness_score': 0.6,\n",
       "  'final_event_novelty_score': 0.4,\n",
       "  'final_emotional_impact_score': 0.3,\n",
       "  'improved_headline': \"Post-COVID Brands' Evolution: The Rise of Customer-Centric Tactics\",\n",
       "  'article_type': 'analysis',\n",
       "  'article_sentiment': 'NA'},\n",
       " 'content': 'headline: Mindless creation of brands has begun to get revisited  Mint  content:  NEW DELHI : Brand and business consultant Interbrand part of the global marketing and communications conglomerate Omnicon Group has worked on significant projects for Britannia Godrej Jio and Mahindra among others in the country. In an interview Ashish Mishra managing director Interbrand India talks about the post-covid world marked by new requirements from brands and consumers and the opportune time for Rebranding 3.0. Edited excerpts: Did Interbrand India lose clients owing to covid disruption in the past two years It was a contradictory set of experiences we had. On the one hand we experienced slowdown and reprioritization from a set of traditional sector clients. Simultaneously we had another set understandably from the tech sector which accelerated the pace of work. So while our implementation of the breakthrough segmented approach to realty branding and marketing for Godrej took a back seat in the wake of crisis management and the new WFH-fuelled residential demand the launch of the electric brand and shift to the future of mobility for Hero MotoCorp followed a turbo-charged course. Are brands returning as they resume business and life limps back to normalcy First up there is absolutely no questioning the palpable anxiety that is rampant across sectors and regions. Pent-up demand is creating a robust pipeline of projects for many but the ability to pay is constrained. However as confidence returns gradually there surely is a new curiosity and appreciation towards doing the right things with the brand. The erstwhile attitude of salience-driven marketing by the advertising-bred Indian marketers seems to be substantially weakened. The mindless creation of brands has begun to get revisited. Working in silos inefficiencies of engaging multiple specialists barely governed for brand coherence the fixation with the TV commercial and many such flawed ways of working are being questioned as the brands in their new avatars take centre stage. What questions are brands asking experts like you in a post-covid world One of the fundamental shifts is about thinking of a brand beyond advertising. Blinkered seeking of tearjerkers preachy progressiveness anthemic grandiosity or hilarious jokes to surrogate for all that brands can do is on the wane. For long advertising was wrongly seen as the only way of building brands. With the media consumption transforming due to the pandemic-accelerated OTT boom and the ad industry struggling to find new relevance clients are increasingly keen to know more ways of what can be done with and through their brands. Are some of them looking to overhaul or refresh brands Indeed. I am calling it The Rebranding 3.0. The first wave of Rebranding was when brands were seeking to evolve from quality assurance to a dramatized-albeit-generic category promise in Independent India. The second wave or the Rebranding 2.0 was witnessed during the 90s when post the opening up of the economy Indian brands evolved to catch up with their global counterparts who were now competing with them in their backyard. This new wave of Rebranding 3.0 is more mature and closer to global dynamics. Repositioning to find new relevance optimizing portfolios extending business categories and channels transforming to be relevant for the future connecting with new customers gender diversity opportunities progressive appeals essentially doing right doing more with less. At Interbrand we have been finding ways of demonstrating the business value-driving abilities of brands and of inspiring our partners by showing them the new possibilities in the flux. What is the biggest pressure that brands are facing from customers With customers being spoilt for choice and demand creation being critical for survival for businesses there are immense new pressures brands are facing from customers oscillating between fear and hope. Customers are interested in an If not a What. In volatility you are more likely to sell options and futures on products and services rather than products and services themselves. The demand for flexible conditionsfrom trials to returns to extensionsmeans your customers are actually paying for rights. You are trading in what could be. Even Air India much before its vaunted takeover began to provide a free change of dates for all flights cancelled due to coronavirus. Businesses will have to rebuild their customers confidence by giving them control and personalizing space and time through planned at-my time experiences. What was once the distinguishing trait of luxury showroomsappointmentsis likely to become a norm for a wide variety of stores clubs and dealerships. For customers brands now compete with cash and savings. In times of uncertainty savings and cash are brands toughest competitors. Customers expect brands to design pricing models and financing solutions that reframe value and create accessmaking financing a strategic edge not an opportunistic shortcut. Customers want what is essential and savour its emotionality. In anxiety household essentials become heroes. Whether you help keep people connected insured or clean step forward. Create an emotional bond with your brand. As fear wraps the future ostentation will be replaced by investment in things that endure and hold their value over time. Brands could do well by focusing on their products worth and meaning. Customers want you to evolve your channel strategy into their personal logistics. With direct-to-consumer a less vulnerable route to market personal supply chains offering consumers complete control of their immediate environments flourish. Customizing activities such as viewing ordering collecting assembling discussing sharing and enjoying gives rise to near-personalize logistics chains. '}"
      ]
     },
     "execution_count": 110,
     "metadata": {},
     "output_type": "execute_result"
    }
   ],
   "source": [
    "article_wise_responses['65316d5c1e5cc42b1b13e25a']"
   ]
  },
  {
   "cell_type": "code",
   "execution_count": 111,
   "id": "2e3b3b02-4265-4d24-a36a-d20bbe31167a",
   "metadata": {
    "tags": []
   },
   "outputs": [],
   "source": [
    "with open('gpt_responses_full_29_dec.json', 'w') as f:\n",
    "    json.dump(article_wise_responses, f)"
   ]
  },
  {
   "cell_type": "code",
   "execution_count": null,
   "id": "c591fd10-26c0-409e-8289-f1abb88a481c",
   "metadata": {},
   "outputs": [],
   "source": []
  }
 ],
 "metadata": {
  "kernelspec": {
   "display_name": "llms",
   "language": "python",
   "name": "llms"
  },
  "language_info": {
   "codemirror_mode": {
    "name": "ipython",
    "version": 3
   },
   "file_extension": ".py",
   "mimetype": "text/x-python",
   "name": "python",
   "nbconvert_exporter": "python",
   "pygments_lexer": "ipython3",
   "version": "3.11.4"
  }
 },
 "nbformat": 4,
 "nbformat_minor": 5
}
