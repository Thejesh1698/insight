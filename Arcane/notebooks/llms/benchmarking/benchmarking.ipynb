{
 "cells": [
  {
   "cell_type": "code",
   "execution_count": 2,
   "id": "2544cdf7-3110-4f33-88d7-35c3a5b7f8d1",
   "metadata": {
    "tags": []
   },
   "outputs": [],
   "source": [
    "import json\n",
    "import numpy as np\n",
    "import pandas as pd"
   ]
  },
  {
   "cell_type": "markdown",
   "id": "05203b42-8832-4cb7-8aa3-05ce99e6bbd8",
   "metadata": {},
   "source": [
    "### GPT Responses"
   ]
  },
  {
   "cell_type": "code",
   "execution_count": 3,
   "id": "6aba8148-97f7-4141-a037-31be144d7d90",
   "metadata": {
    "tags": []
   },
   "outputs": [],
   "source": [
    "with open('test_set_full_27_nov.json') as f:\n",
    "    test_set = json.load(f)"
   ]
  },
  {
   "cell_type": "code",
   "execution_count": 8,
   "id": "87c90f70-5645-45d6-9a91-3c573c1986ec",
   "metadata": {
    "tags": []
   },
   "outputs": [],
   "source": [
    "# structuring the format\n",
    "for art_id in test_set:\n",
    "    res = test_set[art_id]['response']\n",
    "    test_set[art_id] = {'content': test_set[art_id]['content'], 'response': {}}\n",
    "    test_set[art_id]['response']['attributes'] = res[0]\n",
    "    test_set[art_id]['response']['summaries'] = res[1]"
   ]
  },
  {
   "cell_type": "code",
   "execution_count": 9,
   "id": "749392d8-5dba-4199-bec8-1a4009319e8f",
   "metadata": {
    "tags": []
   },
   "outputs": [],
   "source": [
    "def correct_validity_duration(val):\n",
    "    val = int(val)\n",
    "    valid_days = [-1, 1, 3, 7, 14, 30]\n",
    "    if val in valid_days:\n",
    "        return val\n",
    "    else:\n",
    "        for i in valid_days:\n",
    "            if val > i:\n",
    "                valid_value = i\n",
    "        return valid_value"
   ]
  },
  {
   "cell_type": "code",
   "execution_count": 10,
   "id": "1bffd3d9-a698-4b86-b322-3bc3e436d1b7",
   "metadata": {
    "tags": []
   },
   "outputs": [],
   "source": [
    "for art_id in test_set:\n",
    "    test_set[art_id]['unified_response'] = test_set[art_id]['response']['attributes']\n",
    "    test_set[art_id]['unified_response']['summary'] = test_set[art_id]['response']['summaries'][0]['denser_summary']\n",
    "    test_set[art_id]['unified_response']['is_financial_or_business_news'] = True if int(test_set[art_id]['response']['attributes']['is_financial_or_business_news']) == 1 else False if int(test_set[art_id]['response']['attributes']['is_financial_or_business_news']) == 0 else None\n",
    "    test_set[art_id]['unified_response']['relevant_for_india'] = True if int(test_set[art_id]['response']['attributes']['relevant_for_india']) == 1 else False if int(test_set[art_id]['response']['attributes']['relevant_for_india']) == 0 else None\n",
    "    test_set[art_id]['unified_response']['article_validity_duration'] = correct_validity_duration(test_set[art_id]['response']['attributes']['article_validity_duration'])"
   ]
  },
  {
   "cell_type": "code",
   "execution_count": 12,
   "id": "dd651bca-31a8-44eb-b5fc-191674c3d074",
   "metadata": {
    "tags": []
   },
   "outputs": [],
   "source": [
    "response_list = []\n",
    "for art_id in test_set:\n",
    "    cur_res = test_set[art_id]['unified_response']\n",
    "    cur_tuple = (art_id, cur_res['is_financial_or_business_news'], cur_res['relevant_for_india'], cur_res['article_validity_duration'], cur_res['popularity'], cur_res['article_type'], cur_res['article_sentiment'], cur_res['headline_suggestion'], cur_res['summary'])\n",
    "    response_list.append(cur_tuple)"
   ]
  },
  {
   "cell_type": "code",
   "execution_count": 13,
   "id": "05fac22f-0814-465b-8f7e-59f5c45315a7",
   "metadata": {
    "tags": []
   },
   "outputs": [],
   "source": [
    "response_df = pd.DataFrame(response_list, columns = ['article_id', 'is_financial_or_business_news', 'relevant_for_india', 'article_validity_duration', 'popularity', 'article_type', 'article_sentiment', 'headline_suggestion', 'summary'])"
   ]
  },
  {
   "cell_type": "code",
   "execution_count": 15,
   "id": "5ec26ccd-20d7-48c5-b186-46feb07977bb",
   "metadata": {
    "tags": []
   },
   "outputs": [],
   "source": [
    "response_df.to_csv('test-set-gpt-responses.csv', index = False)"
   ]
  },
  {
   "cell_type": "code",
   "execution_count": 11,
   "id": "c07eb1cf-b77e-4897-933e-4ba9ae42c951",
   "metadata": {
    "tags": []
   },
   "outputs": [
    {
     "data": {
      "text/plain": [
       "{'analysis_is_financial_or_business_news': 'This article relates to a change in regulations by the Securities and Exchange Board of India. This affects Indian corporations and investors.',\n",
       " 'is_financial_or_business_news': True,\n",
       " 'analysis_of_relevant_for_india': 'The information is highly relevant for Indian entities involved in public listings, as it directly affects the IPO process and timeline.',\n",
       " 'relevant_for_india': True,\n",
       " 'analysis_of_article_validity_duration': 'As a significant regulatory change, the article is pertinent for weeks.',\n",
       " 'article_validity_duration': 14,\n",
       " 'analysis_of_popularity': 'As this involves markets and IPOs, the article will be moderately popular given the implications on the broader business community.',\n",
       " 'popularity': 'moderately_popular',\n",
       " 'analysis_of_article_type': 'The article appears to be factual, presenting an announcement regarding a regulatory change.',\n",
       " 'article_type': 'fact',\n",
       " 'analysis_of_article_sentiment': \"The sentiment seems neutral as it's just relaying information and no prediction is given.\",\n",
       " 'article_sentiment': 'NA',\n",
       " 'headline_suggestion': 'SEBI Reduces IPO Listing Time in a Push for Enhanced Business Ease',\n",
       " 'summary': 'Mumbai-based Securities and Exchange Board of India (Sebi) reduces IPO listing time to three days. The change will become mandatory from 1st December.'}"
      ]
     },
     "execution_count": 11,
     "metadata": {},
     "output_type": "execute_result"
    }
   ],
   "source": [
    "test_set['65316faa1e5cc42b1b141024']['unified_response']"
   ]
  },
  {
   "cell_type": "code",
   "execution_count": 7,
   "id": "19767e27-b4f7-4878-ae97-3bf18bd62968",
   "metadata": {
    "tags": []
   },
   "outputs": [
    {
     "data": {
      "text/plain": [
       "{'analysis_is_financial_or_business_news': 'This article relates to a change in regulations by the Securities and Exchange Board of India. This affects Indian corporations and investors.',\n",
       " 'is_financial_or_business_news': '1',\n",
       " 'analysis_of_relevant_for_india': 'The information is highly relevant for Indian entities involved in public listings, as it directly affects the IPO process and timeline.',\n",
       " 'relevant_for_india': '1',\n",
       " 'analysis_of_article_validity_duration': 'As a significant regulatory change, the article is pertinent for weeks.',\n",
       " 'article_validity_duration': '14',\n",
       " 'analysis_of_popularity': 'As this involves markets and IPOs, the article will be moderately popular given the implications on the broader business community.',\n",
       " 'popularity': 'moderately_popular',\n",
       " 'analysis_of_article_type': 'The article appears to be factual, presenting an announcement regarding a regulatory change.',\n",
       " 'article_type': 'fact',\n",
       " 'analysis_of_article_sentiment': \"The sentiment seems neutral as it's just relaying information and no prediction is given.\",\n",
       " 'article_sentiment': 'NA',\n",
       " 'headline_suggestion': 'SEBI Reduces IPO Listing Time in a Push for Enhanced Business Ease'}"
      ]
     },
     "execution_count": 7,
     "metadata": {},
     "output_type": "execute_result"
    }
   ],
   "source": [
    "test_set['65316faa1e5cc42b1b141024']['response'][0]"
   ]
  },
  {
   "cell_type": "markdown",
   "id": "6aed9030-3960-47ab-926f-99a74566258a",
   "metadata": {},
   "source": [
    "### Open Hermes Responses"
   ]
  },
  {
   "cell_type": "code",
   "execution_count": 19,
   "id": "f1a2c539-d1b8-453e-9cfd-d814db9334c8",
   "metadata": {
    "tags": []
   },
   "outputs": [],
   "source": [
    "with open('openhermes-finetuned-responses-test.json', 'rb') as f:\n",
    "    hermes_test_set = json.load(f)"
   ]
  },
  {
   "cell_type": "code",
   "execution_count": 29,
   "id": "5d76d366-8146-4bc7-bcc3-38987304bb15",
   "metadata": {
    "tags": []
   },
   "outputs": [
    {
     "name": "stdout",
     "output_type": "stream",
     "text": [
      "values of is_financial_or_business_news are {False, True}\n",
      "values of relevant_for_india are {False, True}\n",
      "values of article_validity_duration are {1, 3, 7, 14, 30, -1}\n",
      "values of popularity are {'moderately_popular', 'breaking_news', 'niche'}\n",
      "values of article_type are {'educational', 'fact', 'opinion', 'fable'}\n",
      "values of article_sentiment are {'NA', 'bull', 'bear'}\n"
     ]
    }
   ],
   "source": [
    "for cols in ['is_financial_or_business_news', 'relevant_for_india', 'article_validity_duration', 'popularity', 'article_type', 'article_sentiment']:\n",
    "    print(f'values of {cols} are {set([v[cols] for k, v in hermes_test_set.items()])}')"
   ]
  },
  {
   "cell_type": "code",
   "execution_count": 30,
   "id": "6a66b8b0-cc0e-4557-87fe-b7663cef004f",
   "metadata": {
    "tags": []
   },
   "outputs": [
    {
     "data": {
      "text/plain": [
       "[{'analysis_is_financial_or_business_news': 'The article is a fable about a novice trader, discussing trading strategies, risk management and risk taking.',\n",
       "  'is_financial_or_business_news': True,\n",
       "  'analysis_of_relevant_for_india': 'The article is about trading, which is universally applicable, hence, relevant for Indians.',\n",
       "  'relevant_for_india': True,\n",
       "  'analysis_of_article_validity_duration': 'The article is a fable, and the trading principles discussed are timeless unless there are changes in trading practices.',\n",
       "  'article_validity_duration': -1,\n",
       "  'analysis_of_popularity': 'The article is educational and targeted towards novice traders. Hence, it would be niche.',\n",
       "  'popularity': 'niche',\n",
       "  'analysis_of_article_type': 'The article is a fable, which is a fictional story with a moral or lesson to learn.',\n",
       "  'article_type': 'fable',\n",
       "  'analysis_of_article_sentiment': 'The article is neutral, presenting a story without showing a positive or negative outlook.',\n",
       "  'article_sentiment': 'NA',\n",
       "  'headline_suggestion': 'Trading Fable: Lessons From a Novice Trader',\n",
       "  'summary': 'The fable revolves around a novice trader, Bert, who tries to trade a $30,000 account, facing unexpected losses and learning the importance of risk management.'}]"
      ]
     },
     "execution_count": 30,
     "metadata": {},
     "output_type": "execute_result"
    }
   ],
   "source": [
    "[v for k, v in hermes_test_set.items() if v['article_type'] == 'fable']"
   ]
  },
  {
   "cell_type": "markdown",
   "id": "bcf875a2-eb70-4b2f-88a2-afb0a330e99e",
   "metadata": {
    "jp-MarkdownHeadingCollapsed": true,
    "tags": []
   },
   "source": [
    "----\n",
    "Since all the values are already fine (except 1 article with article type), we don't do any correction\n",
    "\n",
    "\n",
    "---"
   ]
  },
  {
   "cell_type": "code",
   "execution_count": 31,
   "id": "ced63a31-7dd1-4c4e-8943-7e5a31351167",
   "metadata": {
    "tags": []
   },
   "outputs": [],
   "source": [
    "hermes_response_list = []\n",
    "for art_id in hermes_test_set:\n",
    "    cur_res = hermes_test_set[art_id]\n",
    "    cur_tuple = (art_id, cur_res['is_financial_or_business_news'], cur_res['relevant_for_india'], cur_res['article_validity_duration'], cur_res['popularity'], cur_res['article_type'], cur_res['article_sentiment'], cur_res['headline_suggestion'], cur_res['summary'])\n",
    "    hermes_response_list.append(cur_tuple)"
   ]
  },
  {
   "cell_type": "code",
   "execution_count": 32,
   "id": "cab7cc84-1d0e-4587-8813-654308b3e4b6",
   "metadata": {
    "tags": []
   },
   "outputs": [],
   "source": [
    "hermes_response_df = pd.DataFrame(hermes_response_list, columns = ['article_id', 'is_financial_or_business_news', 'relevant_for_india', 'article_validity_duration', 'popularity', 'article_type', 'article_sentiment', 'headline_suggestion', 'summary'])"
   ]
  },
  {
   "cell_type": "code",
   "execution_count": 33,
   "id": "a45fa801-a14a-4166-8d6a-2a1b1a808d91",
   "metadata": {
    "tags": []
   },
   "outputs": [],
   "source": [
    "hermes_response_df.to_csv('test-set-open-hermes-responses.csv', index = False)"
   ]
  },
  {
   "cell_type": "markdown",
   "id": "38881888-c47e-4b9e-a0e7-2e274a35bdef",
   "metadata": {},
   "source": [
    "### Benchmark"
   ]
  },
  {
   "cell_type": "code",
   "execution_count": 4,
   "id": "7012a58d-6a6e-49d8-9211-483c4a41f88a",
   "metadata": {},
   "outputs": [],
   "source": [
    "benchmark_df = pd.read_csv('benchmark_responses.csv')"
   ]
  },
  {
   "cell_type": "code",
   "execution_count": 5,
   "id": "6fd98629-97ef-4750-9fa5-59e8a7bcc952",
   "metadata": {
    "tags": []
   },
   "outputs": [],
   "source": [
    "hermes_response_df = pd.read_csv('test-set-open-hermes-responses.csv')\n",
    "gpt_response_df = pd.read_csv('test-set-gpt-responses.csv')"
   ]
  },
  {
   "cell_type": "code",
   "execution_count": 6,
   "id": "0ae1b991-cf12-4a35-930c-c3202a5715f8",
   "metadata": {
    "tags": []
   },
   "outputs": [],
   "source": [
    "benchmark_df=benchmark_df[benchmark_df.is_financial_or_business_news.notnull()]"
   ]
  },
  {
   "cell_type": "code",
   "execution_count": 29,
   "id": "700dcbc5-75a1-4f1c-931f-d977fec323c6",
   "metadata": {
    "tags": []
   },
   "outputs": [],
   "source": [
    "benchmark_df['relevant_for_india'] = benchmark_df['relevant_for_india'].replace('TRUE', True).replace('FALSE', False)"
   ]
  },
  {
   "cell_type": "code",
   "execution_count": 13,
   "id": "0de0ab53-4c0c-4575-b415-62a2ff2160e2",
   "metadata": {
    "tags": []
   },
   "outputs": [],
   "source": [
    "from functools import reduce\n",
    "from sklearn.metrics import confusion_matrix\n",
    "import seaborn as sns"
   ]
  },
  {
   "cell_type": "code",
   "execution_count": 10,
   "id": "be240e1f-0269-4c03-8076-3630fbdd9fcc",
   "metadata": {
    "scrolled": true,
    "tags": []
   },
   "outputs": [
    {
     "name": "stdout",
     "output_type": "stream",
     "text": [
      "Requirement already satisfied: matplotlib in /Users/ravi.tej/anaconda3/envs/llms/lib/python3.11/site-packages (3.8.2)\n",
      "Requirement already satisfied: seaborn in /Users/ravi.tej/anaconda3/envs/llms/lib/python3.11/site-packages (0.13.0)\n",
      "Collecting scikit-learn\n",
      "  Obtaining dependency information for scikit-learn from https://files.pythonhosted.org/packages/40/c6/2e91eefb757822e70d351e02cc38d07c137212ae7c41ac12746415b4860a/scikit_learn-1.3.2-cp311-cp311-macosx_12_0_arm64.whl.metadata\n",
      "  Downloading scikit_learn-1.3.2-cp311-cp311-macosx_12_0_arm64.whl.metadata (11 kB)\n",
      "Requirement already satisfied: contourpy>=1.0.1 in /Users/ravi.tej/anaconda3/envs/llms/lib/python3.11/site-packages (from matplotlib) (1.2.0)\n",
      "Requirement already satisfied: cycler>=0.10 in /Users/ravi.tej/anaconda3/envs/llms/lib/python3.11/site-packages (from matplotlib) (0.12.1)\n",
      "Requirement already satisfied: fonttools>=4.22.0 in /Users/ravi.tej/anaconda3/envs/llms/lib/python3.11/site-packages (from matplotlib) (4.45.1)\n",
      "Requirement already satisfied: kiwisolver>=1.3.1 in /Users/ravi.tej/anaconda3/envs/llms/lib/python3.11/site-packages (from matplotlib) (1.4.5)\n",
      "Requirement already satisfied: numpy<2,>=1.21 in /Users/ravi.tej/anaconda3/envs/llms/lib/python3.11/site-packages (from matplotlib) (1.26.0)\n",
      "Requirement already satisfied: packaging>=20.0 in /Users/ravi.tej/anaconda3/envs/llms/lib/python3.11/site-packages (from matplotlib) (23.1)\n",
      "Requirement already satisfied: pillow>=8 in /Users/ravi.tej/anaconda3/envs/llms/lib/python3.11/site-packages (from matplotlib) (10.1.0)\n",
      "Requirement already satisfied: pyparsing>=2.3.1 in /Users/ravi.tej/anaconda3/envs/llms/lib/python3.11/site-packages (from matplotlib) (3.1.1)\n",
      "Requirement already satisfied: python-dateutil>=2.7 in /Users/ravi.tej/anaconda3/envs/llms/lib/python3.11/site-packages (from matplotlib) (2.8.2)\n",
      "Requirement already satisfied: pandas>=1.2 in /Users/ravi.tej/anaconda3/envs/llms/lib/python3.11/site-packages (from seaborn) (2.1.0)\n",
      "Requirement already satisfied: scipy>=1.5.0 in /Users/ravi.tej/anaconda3/envs/llms/lib/python3.11/site-packages (from scikit-learn) (1.11.4)\n",
      "Requirement already satisfied: joblib>=1.1.1 in /Users/ravi.tej/anaconda3/envs/llms/lib/python3.11/site-packages (from scikit-learn) (1.3.2)\n",
      "Collecting threadpoolctl>=2.0.0 (from scikit-learn)\n",
      "  Obtaining dependency information for threadpoolctl>=2.0.0 from https://files.pythonhosted.org/packages/81/12/fd4dea011af9d69e1cad05c75f3f7202cdcbeac9b712eea58ca779a72865/threadpoolctl-3.2.0-py3-none-any.whl.metadata\n",
      "  Downloading threadpoolctl-3.2.0-py3-none-any.whl.metadata (10.0 kB)\n",
      "Requirement already satisfied: pytz>=2020.1 in /Users/ravi.tej/anaconda3/envs/llms/lib/python3.11/site-packages (from pandas>=1.2->seaborn) (2023.3.post1)\n",
      "Requirement already satisfied: tzdata>=2022.1 in /Users/ravi.tej/anaconda3/envs/llms/lib/python3.11/site-packages (from pandas>=1.2->seaborn) (2023.3)\n",
      "Requirement already satisfied: six>=1.5 in /Users/ravi.tej/anaconda3/envs/llms/lib/python3.11/site-packages (from python-dateutil>=2.7->matplotlib) (1.16.0)\n",
      "Downloading scikit_learn-1.3.2-cp311-cp311-macosx_12_0_arm64.whl (9.4 MB)\n",
      "\u001b[2K   \u001b[90m━━━━━━━━━━━━━━━━━━━━━━━━━━━━━━━━━━━━━━━━\u001b[0m \u001b[32m9.4/9.4 MB\u001b[0m \u001b[31m10.8 MB/s\u001b[0m eta \u001b[36m0:00:00\u001b[0m00:01\u001b[0m00:01\u001b[0m\n",
      "\u001b[?25hDownloading threadpoolctl-3.2.0-py3-none-any.whl (15 kB)\n",
      "Installing collected packages: threadpoolctl, scikit-learn\n",
      "Successfully installed scikit-learn-1.3.2 threadpoolctl-3.2.0\n"
     ]
    }
   ],
   "source": [
    "!pip install matplotlib seaborn scikit-learn"
   ]
  },
  {
   "cell_type": "code",
   "execution_count": 20,
   "id": "0b4a6577-acdb-4369-ac46-b2baf8fd6983",
   "metadata": {
    "tags": []
   },
   "outputs": [],
   "source": [
    "import pandas as pd\n",
    "from sklearn.metrics import confusion_matrix\n",
    "import seaborn as sns\n",
    "import matplotlib.pyplot as plt\n",
    "import numpy as np"
   ]
  },
  {
   "cell_type": "code",
   "execution_count": 62,
   "id": "20a9e921-5062-428c-8f29-65c70312dfdb",
   "metadata": {
    "tags": []
   },
   "outputs": [],
   "source": [
    "dtypes = {'relevant_for_india': bool, 'article_validity_duration': int}"
   ]
  },
  {
   "cell_type": "code",
   "execution_count": 66,
   "id": "3920d4cc-55ab-4ee7-b41b-2bd91d344a33",
   "metadata": {
    "tags": []
   },
   "outputs": [],
   "source": [
    "benchmark_df = benchmark_df.replace('-', None)"
   ]
  },
  {
   "cell_type": "code",
   "execution_count": 61,
   "id": "12bb4345-7ca8-4957-a711-fe1e239080fa",
   "metadata": {
    "tags": []
   },
   "outputs": [
    {
     "data": {
      "text/plain": [
       "article_id                       object\n",
       "is_financial_or_business_news      bool\n",
       "relevant_for_india               object\n",
       "article_validity_duration        object\n",
       "popularity                       object\n",
       "article_type                     object\n",
       "article_sentiment                object\n",
       "dtype: object"
      ]
     },
     "execution_count": 61,
     "metadata": {},
     "output_type": "execute_result"
    }
   ],
   "source": [
    "benchmark_df.dtypes"
   ]
  },
  {
   "cell_type": "code",
   "execution_count": 101,
   "id": "85cf809a-0388-4129-9007-85be26f738ce",
   "metadata": {
    "tags": []
   },
   "outputs": [],
   "source": [
    "def get_merged_df(col):\n",
    "    data_frames = [benchmark_df[['article_id', col]].rename(columns = {col: 'benchmark'}), \n",
    "                   hermes_response_df[['article_id', col]].rename(columns = {col: 'descartes'}),\n",
    "                  gpt_response_df[['article_id', col]].rename(columns = {col: 'gpt4'})]\n",
    "    df_merged = reduce(lambda  left,right: pd.merge(left,right,on=['article_id'],\n",
    "                                            how='inner'), data_frames)\n",
    "    df_merged = df_merged.dropna()\n",
    "    if col in dtypes:\n",
    "        df_merged['benchmark'] = df_merged['benchmark'].astype(dtypes[col])\n",
    "    return df_merged"
   ]
  },
  {
   "cell_type": "markdown",
   "id": "c782234e-d8fd-4a92-8259-863b630d0fa6",
   "metadata": {},
   "source": [
    "#### Is financial"
   ]
  },
  {
   "cell_type": "code",
   "execution_count": 99,
   "id": "1097c823-674c-4d25-a9df-f26a6387fc9d",
   "metadata": {
    "tags": []
   },
   "outputs": [],
   "source": [
    "is_financial = get_merged_df('is_financial_or_business_news')"
   ]
  },
  {
   "cell_type": "code",
   "execution_count": 102,
   "id": "761a48dd-5725-4c4c-964f-8e14b998fdda",
   "metadata": {
    "tags": []
   },
   "outputs": [],
   "source": [
    "is_financial['descartes_accurate'] = is_financial['benchmark'] == is_financial['descartes']\n",
    "is_financial['gpt4_accurate'] = is_financial['benchmark'] == is_financial['gpt4']"
   ]
  },
  {
   "cell_type": "code",
   "execution_count": 105,
   "id": "c4bb34a3-8cce-431c-9a35-5f65501584f8",
   "metadata": {
    "tags": []
   },
   "outputs": [
    {
     "data": {
      "text/plain": [
       "descartes_accurate    93.333333\n",
       "gpt4_accurate         93.333333\n",
       "dtype: float64"
      ]
     },
     "execution_count": 105,
     "metadata": {},
     "output_type": "execute_result"
    }
   ],
   "source": [
    "is_financial[['descartes_accurate', 'gpt4_accurate']].mean() * 100"
   ]
  },
  {
   "cell_type": "code",
   "execution_count": 104,
   "id": "db3d8eca-bf21-4e30-8095-da803a97b1ed",
   "metadata": {
    "tags": []
   },
   "outputs": [
    {
     "data": {
      "text/html": [
       "<div>\n",
       "<style scoped>\n",
       "    .dataframe tbody tr th:only-of-type {\n",
       "        vertical-align: middle;\n",
       "    }\n",
       "\n",
       "    .dataframe tbody tr th {\n",
       "        vertical-align: top;\n",
       "    }\n",
       "\n",
       "    .dataframe thead th {\n",
       "        text-align: right;\n",
       "    }\n",
       "</style>\n",
       "<table border=\"1\" class=\"dataframe\">\n",
       "  <thead>\n",
       "    <tr style=\"text-align: right;\">\n",
       "      <th></th>\n",
       "      <th>article_id</th>\n",
       "      <th>benchmark</th>\n",
       "      <th>descartes</th>\n",
       "      <th>gpt4</th>\n",
       "      <th>descartes_accurate</th>\n",
       "      <th>gpt4_accurate</th>\n",
       "    </tr>\n",
       "  </thead>\n",
       "  <tbody>\n",
       "    <tr>\n",
       "      <th>8</th>\n",
       "      <td>651e1a84a662d76276b88aee</td>\n",
       "      <td>False</td>\n",
       "      <td>True</td>\n",
       "      <td>True</td>\n",
       "      <td>False</td>\n",
       "      <td>False</td>\n",
       "    </tr>\n",
       "    <tr>\n",
       "      <th>50</th>\n",
       "      <td>6555b5a54b13023f9348be03</td>\n",
       "      <td>False</td>\n",
       "      <td>True</td>\n",
       "      <td>True</td>\n",
       "      <td>False</td>\n",
       "      <td>False</td>\n",
       "    </tr>\n",
       "    <tr>\n",
       "      <th>58</th>\n",
       "      <td>651dc6d5a662d76276b7b79b</td>\n",
       "      <td>False</td>\n",
       "      <td>True</td>\n",
       "      <td>True</td>\n",
       "      <td>False</td>\n",
       "      <td>False</td>\n",
       "    </tr>\n",
       "    <tr>\n",
       "      <th>68</th>\n",
       "      <td>651e062fa662d76276b85b8e</td>\n",
       "      <td>False</td>\n",
       "      <td>True</td>\n",
       "      <td>True</td>\n",
       "      <td>False</td>\n",
       "      <td>False</td>\n",
       "    </tr>\n",
       "    <tr>\n",
       "      <th>72</th>\n",
       "      <td>651df243a662d76276b82b3e</td>\n",
       "      <td>False</td>\n",
       "      <td>True</td>\n",
       "      <td>True</td>\n",
       "      <td>False</td>\n",
       "      <td>False</td>\n",
       "    </tr>\n",
       "    <tr>\n",
       "      <th>74</th>\n",
       "      <td>6555c2124b13023f9348d13d</td>\n",
       "      <td>False</td>\n",
       "      <td>False</td>\n",
       "      <td>True</td>\n",
       "      <td>True</td>\n",
       "      <td>False</td>\n",
       "    </tr>\n",
       "  </tbody>\n",
       "</table>\n",
       "</div>"
      ],
      "text/plain": [
       "                  article_id  benchmark  descartes  gpt4  descartes_accurate  \\\n",
       "8   651e1a84a662d76276b88aee      False       True  True               False   \n",
       "50  6555b5a54b13023f9348be03      False       True  True               False   \n",
       "58  651dc6d5a662d76276b7b79b      False       True  True               False   \n",
       "68  651e062fa662d76276b85b8e      False       True  True               False   \n",
       "72  651df243a662d76276b82b3e      False       True  True               False   \n",
       "74  6555c2124b13023f9348d13d      False      False  True                True   \n",
       "\n",
       "    gpt4_accurate  \n",
       "8           False  \n",
       "50          False  \n",
       "58          False  \n",
       "68          False  \n",
       "72          False  \n",
       "74          False  "
      ]
     },
     "execution_count": 104,
     "metadata": {},
     "output_type": "execute_result"
    }
   ],
   "source": [
    "is_financial[is_financial.gpt4_accurate == False]"
   ]
  },
  {
   "cell_type": "markdown",
   "id": "4ca42a3b-6fa8-4087-9b15-c9fb88ed0097",
   "metadata": {},
   "source": [
    "#### Relevant for India"
   ]
  },
  {
   "cell_type": "code",
   "execution_count": 72,
   "id": "f74c09cf-bd1b-4163-9e52-0e40671efd92",
   "metadata": {
    "tags": []
   },
   "outputs": [],
   "source": [
    "relevant_for_india = get_merged_df('relevant_for_india')"
   ]
  },
  {
   "cell_type": "code",
   "execution_count": 74,
   "id": "d3d4a14f-895c-43be-83ae-e722d170149b",
   "metadata": {
    "tags": []
   },
   "outputs": [],
   "source": [
    "relevant_for_india['descartes_accurate'] = relevant_for_india['benchmark'] == relevant_for_india['descartes']\n",
    "relevant_for_india['gpt4_accurate'] = relevant_for_india['benchmark'] == relevant_for_india['gpt4']"
   ]
  },
  {
   "cell_type": "code",
   "execution_count": 106,
   "id": "b789d77a-9370-4523-8fdc-ba064f7b2160",
   "metadata": {
    "tags": []
   },
   "outputs": [
    {
     "data": {
      "text/plain": [
       "descartes_accurate    89.855072\n",
       "gpt4_accurate         91.304348\n",
       "dtype: float64"
      ]
     },
     "execution_count": 106,
     "metadata": {},
     "output_type": "execute_result"
    }
   ],
   "source": [
    "relevant_for_india[['descartes_accurate', 'gpt4_accurate']].mean() * 100"
   ]
  },
  {
   "cell_type": "code",
   "execution_count": 124,
   "id": "6a18bd42-bae5-4733-984b-b13cd183331d",
   "metadata": {
    "tags": []
   },
   "outputs": [
    {
     "data": {
      "text/html": [
       "<div>\n",
       "<style scoped>\n",
       "    .dataframe tbody tr th:only-of-type {\n",
       "        vertical-align: middle;\n",
       "    }\n",
       "\n",
       "    .dataframe tbody tr th {\n",
       "        vertical-align: top;\n",
       "    }\n",
       "\n",
       "    .dataframe thead th {\n",
       "        text-align: right;\n",
       "    }\n",
       "</style>\n",
       "<table border=\"1\" class=\"dataframe\">\n",
       "  <thead>\n",
       "    <tr style=\"text-align: right;\">\n",
       "      <th></th>\n",
       "      <th>article_id</th>\n",
       "      <th>benchmark</th>\n",
       "      <th>descartes</th>\n",
       "      <th>gpt4</th>\n",
       "      <th>descartes_accurate</th>\n",
       "      <th>gpt4_accurate</th>\n",
       "    </tr>\n",
       "  </thead>\n",
       "  <tbody>\n",
       "    <tr>\n",
       "      <th>6</th>\n",
       "      <td>6555c1124b13023f9348ce03</td>\n",
       "      <td>True</td>\n",
       "      <td>False</td>\n",
       "      <td>True</td>\n",
       "      <td>False</td>\n",
       "      <td>True</td>\n",
       "    </tr>\n",
       "    <tr>\n",
       "      <th>7</th>\n",
       "      <td>6555c5694b13023f9348dcc0</td>\n",
       "      <td>True</td>\n",
       "      <td>False</td>\n",
       "      <td>True</td>\n",
       "      <td>False</td>\n",
       "      <td>True</td>\n",
       "    </tr>\n",
       "    <tr>\n",
       "      <th>15</th>\n",
       "      <td>6555cb9f4b13023f9349fa84</td>\n",
       "      <td>True</td>\n",
       "      <td>False</td>\n",
       "      <td>True</td>\n",
       "      <td>False</td>\n",
       "      <td>True</td>\n",
       "    </tr>\n",
       "    <tr>\n",
       "      <th>21</th>\n",
       "      <td>6555c3c24b13023f9348d582</td>\n",
       "      <td>True</td>\n",
       "      <td>False</td>\n",
       "      <td>False</td>\n",
       "      <td>False</td>\n",
       "      <td>False</td>\n",
       "    </tr>\n",
       "    <tr>\n",
       "      <th>27</th>\n",
       "      <td>6555c31b4b13023f9348d38e</td>\n",
       "      <td>True</td>\n",
       "      <td>False</td>\n",
       "      <td>False</td>\n",
       "      <td>False</td>\n",
       "      <td>False</td>\n",
       "    </tr>\n",
       "    <tr>\n",
       "      <th>52</th>\n",
       "      <td>6555cbb74b13023f934a0b16</td>\n",
       "      <td>True</td>\n",
       "      <td>False</td>\n",
       "      <td>True</td>\n",
       "      <td>False</td>\n",
       "      <td>True</td>\n",
       "    </tr>\n",
       "    <tr>\n",
       "      <th>87</th>\n",
       "      <td>651dd41ca662d76276b7dca8</td>\n",
       "      <td>True</td>\n",
       "      <td>False</td>\n",
       "      <td>False</td>\n",
       "      <td>False</td>\n",
       "      <td>False</td>\n",
       "    </tr>\n",
       "  </tbody>\n",
       "</table>\n",
       "</div>"
      ],
      "text/plain": [
       "                  article_id  benchmark  descartes   gpt4  descartes_accurate  \\\n",
       "6   6555c1124b13023f9348ce03       True      False   True               False   \n",
       "7   6555c5694b13023f9348dcc0       True      False   True               False   \n",
       "15  6555cb9f4b13023f9349fa84       True      False   True               False   \n",
       "21  6555c3c24b13023f9348d582       True      False  False               False   \n",
       "27  6555c31b4b13023f9348d38e       True      False  False               False   \n",
       "52  6555cbb74b13023f934a0b16       True      False   True               False   \n",
       "87  651dd41ca662d76276b7dca8       True      False  False               False   \n",
       "\n",
       "    gpt4_accurate  \n",
       "6            True  \n",
       "7            True  \n",
       "15           True  \n",
       "21          False  \n",
       "27          False  \n",
       "52           True  \n",
       "87          False  "
      ]
     },
     "execution_count": 124,
     "metadata": {},
     "output_type": "execute_result"
    }
   ],
   "source": [
    "relevant_for_india[relevant_for_india.descartes_accurate == False]"
   ]
  },
  {
   "cell_type": "markdown",
   "id": "f9717251-e6d3-4a86-9e61-f1b5c0051393",
   "metadata": {},
   "source": [
    "### Validity duration"
   ]
  },
  {
   "cell_type": "code",
   "execution_count": 78,
   "id": "46a33482-12ab-4d85-82a5-e9cabed34b3e",
   "metadata": {
    "tags": []
   },
   "outputs": [],
   "source": [
    "validity = get_merged_df('article_validity_duration')"
   ]
  },
  {
   "cell_type": "code",
   "execution_count": 82,
   "id": "025e801c-36eb-40c5-86ee-a75e2fe52964",
   "metadata": {
    "tags": []
   },
   "outputs": [],
   "source": [
    "validity['log_benchmark'] = validity['benchmark'].apply(lambda x: np.ceil(np.log2(x)) if x > 0 else 10)\n",
    "validity['log_descartes'] = validity['descartes'].apply(lambda x: np.ceil(np.log2(x)) if x > 0 else 10)\n",
    "validity['log_gpt4'] = validity['gpt4'].apply(lambda x: np.ceil(np.log2(x)) if x > 0 else 10)"
   ]
  },
  {
   "cell_type": "code",
   "execution_count": 84,
   "id": "8a42463d-62ee-4725-89d5-eecf669bdcec",
   "metadata": {
    "tags": []
   },
   "outputs": [],
   "source": [
    "validity['descartes_error'] = validity['log_descartes'] - validity['log_benchmark']\n",
    "validity['gpt4_error'] = validity['log_gpt4'] - validity['log_benchmark']"
   ]
  },
  {
   "cell_type": "code",
   "execution_count": 86,
   "id": "480d9a2d-08f5-45d6-a54a-cc7497140d05",
   "metadata": {
    "tags": []
   },
   "outputs": [],
   "source": [
    "validity['descartes_accuracy'] = validity['descartes_error'] == 0.0\n",
    "validity['gpt4_accuracy'] = validity['gpt4_error'] == 0.0"
   ]
  },
  {
   "cell_type": "code",
   "execution_count": 88,
   "id": "63b5c407-15cf-477e-90a8-7e1ecf77989d",
   "metadata": {
    "tags": []
   },
   "outputs": [],
   "source": [
    "validity['descartes_partial_accuracy'] = np.abs(validity['descartes_error']) <= 1.0\n",
    "validity['gpt4_partial_accuracy'] = np.abs(validity['gpt4_error']) <= 0.0"
   ]
  },
  {
   "cell_type": "code",
   "execution_count": 107,
   "id": "b2c8db4e-6b7d-4c33-bdf1-e964b1ee81fc",
   "metadata": {
    "tags": []
   },
   "outputs": [
    {
     "data": {
      "text/plain": [
       "gpt4_accuracy                 35.593220\n",
       "descartes_accuracy            30.508475\n",
       "gpt4_partial_accuracy         35.593220\n",
       "descartes_partial_accuracy    52.542373\n",
       "dtype: float64"
      ]
     },
     "execution_count": 107,
     "metadata": {},
     "output_type": "execute_result"
    }
   ],
   "source": [
    "validity[['gpt4_accuracy', 'descartes_accuracy', 'gpt4_partial_accuracy', 'descartes_partial_accuracy']].mean()*100"
   ]
  },
  {
   "cell_type": "code",
   "execution_count": 125,
   "id": "c3669090-b58d-4e9a-a78a-e53a5b666e23",
   "metadata": {
    "tags": []
   },
   "outputs": [
    {
     "data": {
      "text/html": [
       "<div>\n",
       "<style scoped>\n",
       "    .dataframe tbody tr th:only-of-type {\n",
       "        vertical-align: middle;\n",
       "    }\n",
       "\n",
       "    .dataframe tbody tr th {\n",
       "        vertical-align: top;\n",
       "    }\n",
       "\n",
       "    .dataframe thead th {\n",
       "        text-align: right;\n",
       "    }\n",
       "</style>\n",
       "<table border=\"1\" class=\"dataframe\">\n",
       "  <thead>\n",
       "    <tr style=\"text-align: right;\">\n",
       "      <th></th>\n",
       "      <th>article_id</th>\n",
       "      <th>benchmark</th>\n",
       "      <th>descartes</th>\n",
       "      <th>gpt4</th>\n",
       "      <th>log_benchmark</th>\n",
       "      <th>log_descartes</th>\n",
       "      <th>log_gpt4</th>\n",
       "      <th>descartes_error</th>\n",
       "      <th>gpt4_error</th>\n",
       "      <th>descartes_accuracy</th>\n",
       "      <th>gpt4_accuracy</th>\n",
       "      <th>descartes_partial_accuracy</th>\n",
       "      <th>gpt4_partial_accuracy</th>\n",
       "    </tr>\n",
       "  </thead>\n",
       "  <tbody>\n",
       "    <tr>\n",
       "      <th>3</th>\n",
       "      <td>651de15fa662d76276b7fecf</td>\n",
       "      <td>3</td>\n",
       "      <td>30</td>\n",
       "      <td>-1</td>\n",
       "      <td>2.0</td>\n",
       "      <td>5.0</td>\n",
       "      <td>10.0</td>\n",
       "      <td>3.0</td>\n",
       "      <td>8.0</td>\n",
       "      <td>False</td>\n",
       "      <td>False</td>\n",
       "      <td>False</td>\n",
       "      <td>False</td>\n",
       "    </tr>\n",
       "    <tr>\n",
       "      <th>4</th>\n",
       "      <td>651e1b59a662d76276b88cc8</td>\n",
       "      <td>3</td>\n",
       "      <td>30</td>\n",
       "      <td>30</td>\n",
       "      <td>2.0</td>\n",
       "      <td>5.0</td>\n",
       "      <td>5.0</td>\n",
       "      <td>3.0</td>\n",
       "      <td>3.0</td>\n",
       "      <td>False</td>\n",
       "      <td>False</td>\n",
       "      <td>False</td>\n",
       "      <td>False</td>\n",
       "    </tr>\n",
       "    <tr>\n",
       "      <th>5</th>\n",
       "      <td>6555cc194b13023f934a4fa1</td>\n",
       "      <td>7</td>\n",
       "      <td>14</td>\n",
       "      <td>14</td>\n",
       "      <td>3.0</td>\n",
       "      <td>4.0</td>\n",
       "      <td>4.0</td>\n",
       "      <td>1.0</td>\n",
       "      <td>1.0</td>\n",
       "      <td>False</td>\n",
       "      <td>False</td>\n",
       "      <td>True</td>\n",
       "      <td>False</td>\n",
       "    </tr>\n",
       "    <tr>\n",
       "      <th>6</th>\n",
       "      <td>6555c1124b13023f9348ce03</td>\n",
       "      <td>3</td>\n",
       "      <td>14</td>\n",
       "      <td>-1</td>\n",
       "      <td>2.0</td>\n",
       "      <td>4.0</td>\n",
       "      <td>10.0</td>\n",
       "      <td>2.0</td>\n",
       "      <td>8.0</td>\n",
       "      <td>False</td>\n",
       "      <td>False</td>\n",
       "      <td>False</td>\n",
       "      <td>False</td>\n",
       "    </tr>\n",
       "    <tr>\n",
       "      <th>7</th>\n",
       "      <td>6555c5694b13023f9348dcc0</td>\n",
       "      <td>3</td>\n",
       "      <td>30</td>\n",
       "      <td>30</td>\n",
       "      <td>2.0</td>\n",
       "      <td>5.0</td>\n",
       "      <td>5.0</td>\n",
       "      <td>3.0</td>\n",
       "      <td>3.0</td>\n",
       "      <td>False</td>\n",
       "      <td>False</td>\n",
       "      <td>False</td>\n",
       "      <td>False</td>\n",
       "    </tr>\n",
       "    <tr>\n",
       "      <th>9</th>\n",
       "      <td>6555cc534b13023f934a7aa8</td>\n",
       "      <td>7</td>\n",
       "      <td>3</td>\n",
       "      <td>14</td>\n",
       "      <td>3.0</td>\n",
       "      <td>2.0</td>\n",
       "      <td>4.0</td>\n",
       "      <td>-1.0</td>\n",
       "      <td>1.0</td>\n",
       "      <td>False</td>\n",
       "      <td>False</td>\n",
       "      <td>True</td>\n",
       "      <td>False</td>\n",
       "    </tr>\n",
       "    <tr>\n",
       "      <th>11</th>\n",
       "      <td>6555cb974b13023f9349f4ae</td>\n",
       "      <td>14</td>\n",
       "      <td>-1</td>\n",
       "      <td>-1</td>\n",
       "      <td>4.0</td>\n",
       "      <td>10.0</td>\n",
       "      <td>10.0</td>\n",
       "      <td>6.0</td>\n",
       "      <td>6.0</td>\n",
       "      <td>False</td>\n",
       "      <td>False</td>\n",
       "      <td>False</td>\n",
       "      <td>False</td>\n",
       "    </tr>\n",
       "    <tr>\n",
       "      <th>12</th>\n",
       "      <td>6555cc4c4b13023f934a75cf</td>\n",
       "      <td>7</td>\n",
       "      <td>14</td>\n",
       "      <td>14</td>\n",
       "      <td>3.0</td>\n",
       "      <td>4.0</td>\n",
       "      <td>4.0</td>\n",
       "      <td>1.0</td>\n",
       "      <td>1.0</td>\n",
       "      <td>False</td>\n",
       "      <td>False</td>\n",
       "      <td>True</td>\n",
       "      <td>False</td>\n",
       "    </tr>\n",
       "    <tr>\n",
       "      <th>13</th>\n",
       "      <td>6555ccc94b13023f934ad203</td>\n",
       "      <td>14</td>\n",
       "      <td>30</td>\n",
       "      <td>-1</td>\n",
       "      <td>4.0</td>\n",
       "      <td>5.0</td>\n",
       "      <td>10.0</td>\n",
       "      <td>1.0</td>\n",
       "      <td>6.0</td>\n",
       "      <td>False</td>\n",
       "      <td>False</td>\n",
       "      <td>True</td>\n",
       "      <td>False</td>\n",
       "    </tr>\n",
       "    <tr>\n",
       "      <th>15</th>\n",
       "      <td>6555cb9f4b13023f9349fa84</td>\n",
       "      <td>30</td>\n",
       "      <td>30</td>\n",
       "      <td>14</td>\n",
       "      <td>5.0</td>\n",
       "      <td>5.0</td>\n",
       "      <td>4.0</td>\n",
       "      <td>0.0</td>\n",
       "      <td>-1.0</td>\n",
       "      <td>True</td>\n",
       "      <td>False</td>\n",
       "      <td>True</td>\n",
       "      <td>False</td>\n",
       "    </tr>\n",
       "    <tr>\n",
       "      <th>17</th>\n",
       "      <td>6555cac44b13023f9349673f</td>\n",
       "      <td>14</td>\n",
       "      <td>7</td>\n",
       "      <td>30</td>\n",
       "      <td>4.0</td>\n",
       "      <td>3.0</td>\n",
       "      <td>5.0</td>\n",
       "      <td>-1.0</td>\n",
       "      <td>1.0</td>\n",
       "      <td>False</td>\n",
       "      <td>False</td>\n",
       "      <td>True</td>\n",
       "      <td>False</td>\n",
       "    </tr>\n",
       "    <tr>\n",
       "      <th>18</th>\n",
       "      <td>65316f5e1e5cc42b1b13fbde</td>\n",
       "      <td>3</td>\n",
       "      <td>3</td>\n",
       "      <td>1</td>\n",
       "      <td>2.0</td>\n",
       "      <td>2.0</td>\n",
       "      <td>0.0</td>\n",
       "      <td>0.0</td>\n",
       "      <td>-2.0</td>\n",
       "      <td>True</td>\n",
       "      <td>False</td>\n",
       "      <td>True</td>\n",
       "      <td>False</td>\n",
       "    </tr>\n",
       "    <tr>\n",
       "      <th>21</th>\n",
       "      <td>6555c3c24b13023f9348d582</td>\n",
       "      <td>7</td>\n",
       "      <td>7</td>\n",
       "      <td>30</td>\n",
       "      <td>3.0</td>\n",
       "      <td>3.0</td>\n",
       "      <td>5.0</td>\n",
       "      <td>0.0</td>\n",
       "      <td>2.0</td>\n",
       "      <td>True</td>\n",
       "      <td>False</td>\n",
       "      <td>True</td>\n",
       "      <td>False</td>\n",
       "    </tr>\n",
       "    <tr>\n",
       "      <th>23</th>\n",
       "      <td>6531691c1e5cc42b1b13d0c9</td>\n",
       "      <td>7</td>\n",
       "      <td>30</td>\n",
       "      <td>14</td>\n",
       "      <td>3.0</td>\n",
       "      <td>5.0</td>\n",
       "      <td>4.0</td>\n",
       "      <td>2.0</td>\n",
       "      <td>1.0</td>\n",
       "      <td>False</td>\n",
       "      <td>False</td>\n",
       "      <td>False</td>\n",
       "      <td>False</td>\n",
       "    </tr>\n",
       "    <tr>\n",
       "      <th>27</th>\n",
       "      <td>6555c31b4b13023f9348d38e</td>\n",
       "      <td>3</td>\n",
       "      <td>1</td>\n",
       "      <td>14</td>\n",
       "      <td>2.0</td>\n",
       "      <td>0.0</td>\n",
       "      <td>4.0</td>\n",
       "      <td>-2.0</td>\n",
       "      <td>2.0</td>\n",
       "      <td>False</td>\n",
       "      <td>False</td>\n",
       "      <td>False</td>\n",
       "      <td>False</td>\n",
       "    </tr>\n",
       "    <tr>\n",
       "      <th>32</th>\n",
       "      <td>651dd877a662d76276b7e743</td>\n",
       "      <td>3</td>\n",
       "      <td>14</td>\n",
       "      <td>1</td>\n",
       "      <td>2.0</td>\n",
       "      <td>4.0</td>\n",
       "      <td>0.0</td>\n",
       "      <td>2.0</td>\n",
       "      <td>-2.0</td>\n",
       "      <td>False</td>\n",
       "      <td>False</td>\n",
       "      <td>False</td>\n",
       "      <td>False</td>\n",
       "    </tr>\n",
       "    <tr>\n",
       "      <th>33</th>\n",
       "      <td>65316f021e5cc42b1b13ec21</td>\n",
       "      <td>1</td>\n",
       "      <td>1</td>\n",
       "      <td>7</td>\n",
       "      <td>0.0</td>\n",
       "      <td>0.0</td>\n",
       "      <td>3.0</td>\n",
       "      <td>0.0</td>\n",
       "      <td>3.0</td>\n",
       "      <td>True</td>\n",
       "      <td>False</td>\n",
       "      <td>True</td>\n",
       "      <td>False</td>\n",
       "    </tr>\n",
       "    <tr>\n",
       "      <th>34</th>\n",
       "      <td>6531692b1e5cc42b1b13d499</td>\n",
       "      <td>7</td>\n",
       "      <td>30</td>\n",
       "      <td>14</td>\n",
       "      <td>3.0</td>\n",
       "      <td>5.0</td>\n",
       "      <td>4.0</td>\n",
       "      <td>2.0</td>\n",
       "      <td>1.0</td>\n",
       "      <td>False</td>\n",
       "      <td>False</td>\n",
       "      <td>False</td>\n",
       "      <td>False</td>\n",
       "    </tr>\n",
       "    <tr>\n",
       "      <th>35</th>\n",
       "      <td>653168c51e5cc42b1b13b90b</td>\n",
       "      <td>7</td>\n",
       "      <td>30</td>\n",
       "      <td>30</td>\n",
       "      <td>3.0</td>\n",
       "      <td>5.0</td>\n",
       "      <td>5.0</td>\n",
       "      <td>2.0</td>\n",
       "      <td>2.0</td>\n",
       "      <td>False</td>\n",
       "      <td>False</td>\n",
       "      <td>False</td>\n",
       "      <td>False</td>\n",
       "    </tr>\n",
       "    <tr>\n",
       "      <th>37</th>\n",
       "      <td>65316f1d1e5cc42b1b13eff1</td>\n",
       "      <td>1</td>\n",
       "      <td>1</td>\n",
       "      <td>3</td>\n",
       "      <td>0.0</td>\n",
       "      <td>0.0</td>\n",
       "      <td>2.0</td>\n",
       "      <td>0.0</td>\n",
       "      <td>2.0</td>\n",
       "      <td>True</td>\n",
       "      <td>False</td>\n",
       "      <td>True</td>\n",
       "      <td>False</td>\n",
       "    </tr>\n",
       "    <tr>\n",
       "      <th>38</th>\n",
       "      <td>6555b5044b13023f9348b8db</td>\n",
       "      <td>30</td>\n",
       "      <td>-1</td>\n",
       "      <td>-1</td>\n",
       "      <td>5.0</td>\n",
       "      <td>10.0</td>\n",
       "      <td>10.0</td>\n",
       "      <td>5.0</td>\n",
       "      <td>5.0</td>\n",
       "      <td>False</td>\n",
       "      <td>False</td>\n",
       "      <td>False</td>\n",
       "      <td>False</td>\n",
       "    </tr>\n",
       "    <tr>\n",
       "      <th>48</th>\n",
       "      <td>65316f4f1e5cc42b1b13f8c0</td>\n",
       "      <td>1</td>\n",
       "      <td>14</td>\n",
       "      <td>7</td>\n",
       "      <td>0.0</td>\n",
       "      <td>4.0</td>\n",
       "      <td>3.0</td>\n",
       "      <td>4.0</td>\n",
       "      <td>3.0</td>\n",
       "      <td>False</td>\n",
       "      <td>False</td>\n",
       "      <td>False</td>\n",
       "      <td>False</td>\n",
       "    </tr>\n",
       "    <tr>\n",
       "      <th>51</th>\n",
       "      <td>653168971e5cc42b1b13b0f9</td>\n",
       "      <td>7</td>\n",
       "      <td>30</td>\n",
       "      <td>30</td>\n",
       "      <td>3.0</td>\n",
       "      <td>5.0</td>\n",
       "      <td>5.0</td>\n",
       "      <td>2.0</td>\n",
       "      <td>2.0</td>\n",
       "      <td>False</td>\n",
       "      <td>False</td>\n",
       "      <td>False</td>\n",
       "      <td>False</td>\n",
       "    </tr>\n",
       "    <tr>\n",
       "      <th>52</th>\n",
       "      <td>6555cbb74b13023f934a0b16</td>\n",
       "      <td>7</td>\n",
       "      <td>-1</td>\n",
       "      <td>-1</td>\n",
       "      <td>3.0</td>\n",
       "      <td>10.0</td>\n",
       "      <td>10.0</td>\n",
       "      <td>7.0</td>\n",
       "      <td>7.0</td>\n",
       "      <td>False</td>\n",
       "      <td>False</td>\n",
       "      <td>False</td>\n",
       "      <td>False</td>\n",
       "    </tr>\n",
       "    <tr>\n",
       "      <th>53</th>\n",
       "      <td>6555c7c34b13023f9348e053</td>\n",
       "      <td>7</td>\n",
       "      <td>14</td>\n",
       "      <td>30</td>\n",
       "      <td>3.0</td>\n",
       "      <td>4.0</td>\n",
       "      <td>5.0</td>\n",
       "      <td>1.0</td>\n",
       "      <td>2.0</td>\n",
       "      <td>False</td>\n",
       "      <td>False</td>\n",
       "      <td>True</td>\n",
       "      <td>False</td>\n",
       "    </tr>\n",
       "    <tr>\n",
       "      <th>56</th>\n",
       "      <td>653168b31e5cc42b1b13b59c</td>\n",
       "      <td>3</td>\n",
       "      <td>14</td>\n",
       "      <td>30</td>\n",
       "      <td>2.0</td>\n",
       "      <td>4.0</td>\n",
       "      <td>5.0</td>\n",
       "      <td>2.0</td>\n",
       "      <td>3.0</td>\n",
       "      <td>False</td>\n",
       "      <td>False</td>\n",
       "      <td>False</td>\n",
       "      <td>False</td>\n",
       "    </tr>\n",
       "    <tr>\n",
       "      <th>64</th>\n",
       "      <td>651dd0eaa662d76276b7d380</td>\n",
       "      <td>3</td>\n",
       "      <td>1</td>\n",
       "      <td>7</td>\n",
       "      <td>2.0</td>\n",
       "      <td>0.0</td>\n",
       "      <td>3.0</td>\n",
       "      <td>-2.0</td>\n",
       "      <td>1.0</td>\n",
       "      <td>False</td>\n",
       "      <td>False</td>\n",
       "      <td>False</td>\n",
       "      <td>False</td>\n",
       "    </tr>\n",
       "    <tr>\n",
       "      <th>65</th>\n",
       "      <td>6555ccc44b13023f934acd28</td>\n",
       "      <td>3</td>\n",
       "      <td>14</td>\n",
       "      <td>14</td>\n",
       "      <td>2.0</td>\n",
       "      <td>4.0</td>\n",
       "      <td>4.0</td>\n",
       "      <td>2.0</td>\n",
       "      <td>2.0</td>\n",
       "      <td>False</td>\n",
       "      <td>False</td>\n",
       "      <td>False</td>\n",
       "      <td>False</td>\n",
       "    </tr>\n",
       "    <tr>\n",
       "      <th>69</th>\n",
       "      <td>6555cb434b13023f9349bb7a</td>\n",
       "      <td>3</td>\n",
       "      <td>-1</td>\n",
       "      <td>14</td>\n",
       "      <td>2.0</td>\n",
       "      <td>10.0</td>\n",
       "      <td>4.0</td>\n",
       "      <td>8.0</td>\n",
       "      <td>2.0</td>\n",
       "      <td>False</td>\n",
       "      <td>False</td>\n",
       "      <td>False</td>\n",
       "      <td>False</td>\n",
       "    </tr>\n",
       "    <tr>\n",
       "      <th>71</th>\n",
       "      <td>6555ccbe4b13023f934ac833</td>\n",
       "      <td>7</td>\n",
       "      <td>-1</td>\n",
       "      <td>30</td>\n",
       "      <td>3.0</td>\n",
       "      <td>10.0</td>\n",
       "      <td>5.0</td>\n",
       "      <td>7.0</td>\n",
       "      <td>2.0</td>\n",
       "      <td>False</td>\n",
       "      <td>False</td>\n",
       "      <td>False</td>\n",
       "      <td>False</td>\n",
       "    </tr>\n",
       "    <tr>\n",
       "      <th>73</th>\n",
       "      <td>65316aec1e5cc42b1b13dda1</td>\n",
       "      <td>7</td>\n",
       "      <td>30</td>\n",
       "      <td>30</td>\n",
       "      <td>3.0</td>\n",
       "      <td>5.0</td>\n",
       "      <td>5.0</td>\n",
       "      <td>2.0</td>\n",
       "      <td>2.0</td>\n",
       "      <td>False</td>\n",
       "      <td>False</td>\n",
       "      <td>False</td>\n",
       "      <td>False</td>\n",
       "    </tr>\n",
       "    <tr>\n",
       "      <th>79</th>\n",
       "      <td>651e1912a662d76276b887a0</td>\n",
       "      <td>7</td>\n",
       "      <td>30</td>\n",
       "      <td>30</td>\n",
       "      <td>3.0</td>\n",
       "      <td>5.0</td>\n",
       "      <td>5.0</td>\n",
       "      <td>2.0</td>\n",
       "      <td>2.0</td>\n",
       "      <td>False</td>\n",
       "      <td>False</td>\n",
       "      <td>False</td>\n",
       "      <td>False</td>\n",
       "    </tr>\n",
       "    <tr>\n",
       "      <th>80</th>\n",
       "      <td>6555b5dc4b13023f9348c38c</td>\n",
       "      <td>3</td>\n",
       "      <td>7</td>\n",
       "      <td>7</td>\n",
       "      <td>2.0</td>\n",
       "      <td>3.0</td>\n",
       "      <td>3.0</td>\n",
       "      <td>1.0</td>\n",
       "      <td>1.0</td>\n",
       "      <td>False</td>\n",
       "      <td>False</td>\n",
       "      <td>True</td>\n",
       "      <td>False</td>\n",
       "    </tr>\n",
       "    <tr>\n",
       "      <th>83</th>\n",
       "      <td>651e192ba662d76276b887da</td>\n",
       "      <td>3</td>\n",
       "      <td>30</td>\n",
       "      <td>30</td>\n",
       "      <td>2.0</td>\n",
       "      <td>5.0</td>\n",
       "      <td>5.0</td>\n",
       "      <td>3.0</td>\n",
       "      <td>3.0</td>\n",
       "      <td>False</td>\n",
       "      <td>False</td>\n",
       "      <td>False</td>\n",
       "      <td>False</td>\n",
       "    </tr>\n",
       "    <tr>\n",
       "      <th>84</th>\n",
       "      <td>6555b5dd4b13023f9348c3cb</td>\n",
       "      <td>3</td>\n",
       "      <td>7</td>\n",
       "      <td>7</td>\n",
       "      <td>2.0</td>\n",
       "      <td>3.0</td>\n",
       "      <td>3.0</td>\n",
       "      <td>1.0</td>\n",
       "      <td>1.0</td>\n",
       "      <td>False</td>\n",
       "      <td>False</td>\n",
       "      <td>True</td>\n",
       "      <td>False</td>\n",
       "    </tr>\n",
       "    <tr>\n",
       "      <th>85</th>\n",
       "      <td>65367fe21e5cc42b1b143c7d</td>\n",
       "      <td>30</td>\n",
       "      <td>-1</td>\n",
       "      <td>14</td>\n",
       "      <td>5.0</td>\n",
       "      <td>10.0</td>\n",
       "      <td>4.0</td>\n",
       "      <td>5.0</td>\n",
       "      <td>-1.0</td>\n",
       "      <td>False</td>\n",
       "      <td>False</td>\n",
       "      <td>False</td>\n",
       "      <td>False</td>\n",
       "    </tr>\n",
       "    <tr>\n",
       "      <th>86</th>\n",
       "      <td>6555c80a4b13023f9348ff84</td>\n",
       "      <td>30</td>\n",
       "      <td>-1</td>\n",
       "      <td>-1</td>\n",
       "      <td>5.0</td>\n",
       "      <td>10.0</td>\n",
       "      <td>10.0</td>\n",
       "      <td>5.0</td>\n",
       "      <td>5.0</td>\n",
       "      <td>False</td>\n",
       "      <td>False</td>\n",
       "      <td>False</td>\n",
       "      <td>False</td>\n",
       "    </tr>\n",
       "    <tr>\n",
       "      <th>87</th>\n",
       "      <td>651dd41ca662d76276b7dca8</td>\n",
       "      <td>30</td>\n",
       "      <td>14</td>\n",
       "      <td>14</td>\n",
       "      <td>5.0</td>\n",
       "      <td>4.0</td>\n",
       "      <td>4.0</td>\n",
       "      <td>-1.0</td>\n",
       "      <td>-1.0</td>\n",
       "      <td>False</td>\n",
       "      <td>False</td>\n",
       "      <td>True</td>\n",
       "      <td>False</td>\n",
       "    </tr>\n",
       "  </tbody>\n",
       "</table>\n",
       "</div>"
      ],
      "text/plain": [
       "                  article_id  benchmark  descartes  gpt4  log_benchmark  \\\n",
       "3   651de15fa662d76276b7fecf          3         30    -1            2.0   \n",
       "4   651e1b59a662d76276b88cc8          3         30    30            2.0   \n",
       "5   6555cc194b13023f934a4fa1          7         14    14            3.0   \n",
       "6   6555c1124b13023f9348ce03          3         14    -1            2.0   \n",
       "7   6555c5694b13023f9348dcc0          3         30    30            2.0   \n",
       "9   6555cc534b13023f934a7aa8          7          3    14            3.0   \n",
       "11  6555cb974b13023f9349f4ae         14         -1    -1            4.0   \n",
       "12  6555cc4c4b13023f934a75cf          7         14    14            3.0   \n",
       "13  6555ccc94b13023f934ad203         14         30    -1            4.0   \n",
       "15  6555cb9f4b13023f9349fa84         30         30    14            5.0   \n",
       "17  6555cac44b13023f9349673f         14          7    30            4.0   \n",
       "18  65316f5e1e5cc42b1b13fbde          3          3     1            2.0   \n",
       "21  6555c3c24b13023f9348d582          7          7    30            3.0   \n",
       "23  6531691c1e5cc42b1b13d0c9          7         30    14            3.0   \n",
       "27  6555c31b4b13023f9348d38e          3          1    14            2.0   \n",
       "32  651dd877a662d76276b7e743          3         14     1            2.0   \n",
       "33  65316f021e5cc42b1b13ec21          1          1     7            0.0   \n",
       "34  6531692b1e5cc42b1b13d499          7         30    14            3.0   \n",
       "35  653168c51e5cc42b1b13b90b          7         30    30            3.0   \n",
       "37  65316f1d1e5cc42b1b13eff1          1          1     3            0.0   \n",
       "38  6555b5044b13023f9348b8db         30         -1    -1            5.0   \n",
       "48  65316f4f1e5cc42b1b13f8c0          1         14     7            0.0   \n",
       "51  653168971e5cc42b1b13b0f9          7         30    30            3.0   \n",
       "52  6555cbb74b13023f934a0b16          7         -1    -1            3.0   \n",
       "53  6555c7c34b13023f9348e053          7         14    30            3.0   \n",
       "56  653168b31e5cc42b1b13b59c          3         14    30            2.0   \n",
       "64  651dd0eaa662d76276b7d380          3          1     7            2.0   \n",
       "65  6555ccc44b13023f934acd28          3         14    14            2.0   \n",
       "69  6555cb434b13023f9349bb7a          3         -1    14            2.0   \n",
       "71  6555ccbe4b13023f934ac833          7         -1    30            3.0   \n",
       "73  65316aec1e5cc42b1b13dda1          7         30    30            3.0   \n",
       "79  651e1912a662d76276b887a0          7         30    30            3.0   \n",
       "80  6555b5dc4b13023f9348c38c          3          7     7            2.0   \n",
       "83  651e192ba662d76276b887da          3         30    30            2.0   \n",
       "84  6555b5dd4b13023f9348c3cb          3          7     7            2.0   \n",
       "85  65367fe21e5cc42b1b143c7d         30         -1    14            5.0   \n",
       "86  6555c80a4b13023f9348ff84         30         -1    -1            5.0   \n",
       "87  651dd41ca662d76276b7dca8         30         14    14            5.0   \n",
       "\n",
       "    log_descartes  log_gpt4  descartes_error  gpt4_error  descartes_accuracy  \\\n",
       "3             5.0      10.0              3.0         8.0               False   \n",
       "4             5.0       5.0              3.0         3.0               False   \n",
       "5             4.0       4.0              1.0         1.0               False   \n",
       "6             4.0      10.0              2.0         8.0               False   \n",
       "7             5.0       5.0              3.0         3.0               False   \n",
       "9             2.0       4.0             -1.0         1.0               False   \n",
       "11           10.0      10.0              6.0         6.0               False   \n",
       "12            4.0       4.0              1.0         1.0               False   \n",
       "13            5.0      10.0              1.0         6.0               False   \n",
       "15            5.0       4.0              0.0        -1.0                True   \n",
       "17            3.0       5.0             -1.0         1.0               False   \n",
       "18            2.0       0.0              0.0        -2.0                True   \n",
       "21            3.0       5.0              0.0         2.0                True   \n",
       "23            5.0       4.0              2.0         1.0               False   \n",
       "27            0.0       4.0             -2.0         2.0               False   \n",
       "32            4.0       0.0              2.0        -2.0               False   \n",
       "33            0.0       3.0              0.0         3.0                True   \n",
       "34            5.0       4.0              2.0         1.0               False   \n",
       "35            5.0       5.0              2.0         2.0               False   \n",
       "37            0.0       2.0              0.0         2.0                True   \n",
       "38           10.0      10.0              5.0         5.0               False   \n",
       "48            4.0       3.0              4.0         3.0               False   \n",
       "51            5.0       5.0              2.0         2.0               False   \n",
       "52           10.0      10.0              7.0         7.0               False   \n",
       "53            4.0       5.0              1.0         2.0               False   \n",
       "56            4.0       5.0              2.0         3.0               False   \n",
       "64            0.0       3.0             -2.0         1.0               False   \n",
       "65            4.0       4.0              2.0         2.0               False   \n",
       "69           10.0       4.0              8.0         2.0               False   \n",
       "71           10.0       5.0              7.0         2.0               False   \n",
       "73            5.0       5.0              2.0         2.0               False   \n",
       "79            5.0       5.0              2.0         2.0               False   \n",
       "80            3.0       3.0              1.0         1.0               False   \n",
       "83            5.0       5.0              3.0         3.0               False   \n",
       "84            3.0       3.0              1.0         1.0               False   \n",
       "85           10.0       4.0              5.0        -1.0               False   \n",
       "86           10.0      10.0              5.0         5.0               False   \n",
       "87            4.0       4.0             -1.0        -1.0               False   \n",
       "\n",
       "    gpt4_accuracy  descartes_partial_accuracy  gpt4_partial_accuracy  \n",
       "3           False                       False                  False  \n",
       "4           False                       False                  False  \n",
       "5           False                        True                  False  \n",
       "6           False                       False                  False  \n",
       "7           False                       False                  False  \n",
       "9           False                        True                  False  \n",
       "11          False                       False                  False  \n",
       "12          False                        True                  False  \n",
       "13          False                        True                  False  \n",
       "15          False                        True                  False  \n",
       "17          False                        True                  False  \n",
       "18          False                        True                  False  \n",
       "21          False                        True                  False  \n",
       "23          False                       False                  False  \n",
       "27          False                       False                  False  \n",
       "32          False                       False                  False  \n",
       "33          False                        True                  False  \n",
       "34          False                       False                  False  \n",
       "35          False                       False                  False  \n",
       "37          False                        True                  False  \n",
       "38          False                       False                  False  \n",
       "48          False                       False                  False  \n",
       "51          False                       False                  False  \n",
       "52          False                       False                  False  \n",
       "53          False                        True                  False  \n",
       "56          False                       False                  False  \n",
       "64          False                       False                  False  \n",
       "65          False                       False                  False  \n",
       "69          False                       False                  False  \n",
       "71          False                       False                  False  \n",
       "73          False                       False                  False  \n",
       "79          False                       False                  False  \n",
       "80          False                        True                  False  \n",
       "83          False                       False                  False  \n",
       "84          False                        True                  False  \n",
       "85          False                       False                  False  \n",
       "86          False                       False                  False  \n",
       "87          False                        True                  False  "
      ]
     },
     "execution_count": 125,
     "metadata": {},
     "output_type": "execute_result"
    }
   ],
   "source": [
    "validity[validity.gpt4_partial_accuracy == False]"
   ]
  },
  {
   "cell_type": "markdown",
   "id": "f818a92f-28d7-44b1-934d-726517a19139",
   "metadata": {},
   "source": [
    "#### Popularity"
   ]
  },
  {
   "cell_type": "code",
   "execution_count": 108,
   "id": "50d97593-c3df-4e55-81b6-06a2f6e6e78a",
   "metadata": {
    "tags": []
   },
   "outputs": [],
   "source": [
    "popularity = get_merged_df('popularity')"
   ]
  },
  {
   "cell_type": "code",
   "execution_count": 119,
   "id": "1f681268-c7db-44d1-bf07-bad22c46e877",
   "metadata": {
    "tags": []
   },
   "outputs": [],
   "source": [
    "popularity['descartes_accuracy'] = popularity['descartes'] == popularity['benchmark']\n",
    "popularity['gpt4_accuracy'] = popularity['gpt4'] == popularity['benchmark']"
   ]
  },
  {
   "cell_type": "code",
   "execution_count": 121,
   "id": "fae96506-dfb8-4aa9-ab76-92dda156ffd4",
   "metadata": {
    "tags": []
   },
   "outputs": [
    {
     "data": {
      "text/plain": [
       "descartes_accuracy    55.932203\n",
       "gpt4_accuracy         59.322034\n",
       "dtype: float64"
      ]
     },
     "execution_count": 121,
     "metadata": {},
     "output_type": "execute_result"
    }
   ],
   "source": [
    "popularity[['descartes_accuracy', 'gpt4_accuracy']].mean() * 100"
   ]
  },
  {
   "cell_type": "code",
   "execution_count": 115,
   "id": "daf7bee6-0669-4ff5-868d-2c27186901d0",
   "metadata": {
    "tags": []
   },
   "outputs": [
    {
     "data": {
      "text/html": [
       "<div>\n",
       "<style scoped>\n",
       "    .dataframe tbody tr th:only-of-type {\n",
       "        vertical-align: middle;\n",
       "    }\n",
       "\n",
       "    .dataframe tbody tr th {\n",
       "        vertical-align: top;\n",
       "    }\n",
       "\n",
       "    .dataframe thead tr th {\n",
       "        text-align: left;\n",
       "    }\n",
       "\n",
       "    .dataframe thead tr:last-of-type th {\n",
       "        text-align: right;\n",
       "    }\n",
       "</style>\n",
       "<table border=\"1\" class=\"dataframe\">\n",
       "  <thead>\n",
       "    <tr>\n",
       "      <th></th>\n",
       "      <th colspan=\"3\" halign=\"left\">article_id</th>\n",
       "    </tr>\n",
       "    <tr>\n",
       "      <th>descartes</th>\n",
       "      <th>breaking_news</th>\n",
       "      <th>moderately_popular</th>\n",
       "      <th>niche</th>\n",
       "    </tr>\n",
       "    <tr>\n",
       "      <th>benchmark</th>\n",
       "      <th></th>\n",
       "      <th></th>\n",
       "      <th></th>\n",
       "    </tr>\n",
       "  </thead>\n",
       "  <tbody>\n",
       "    <tr>\n",
       "      <th>breaking_news</th>\n",
       "      <td>1.0</td>\n",
       "      <td>4.0</td>\n",
       "      <td>NaN</td>\n",
       "    </tr>\n",
       "    <tr>\n",
       "      <th>moderately_popular</th>\n",
       "      <td>7.0</td>\n",
       "      <td>26.0</td>\n",
       "      <td>9.0</td>\n",
       "    </tr>\n",
       "    <tr>\n",
       "      <th>niche</th>\n",
       "      <td>1.0</td>\n",
       "      <td>5.0</td>\n",
       "      <td>6.0</td>\n",
       "    </tr>\n",
       "  </tbody>\n",
       "</table>\n",
       "</div>"
      ],
      "text/plain": [
       "                      article_id                         \n",
       "descartes          breaking_news moderately_popular niche\n",
       "benchmark                                                \n",
       "breaking_news                1.0                4.0   NaN\n",
       "moderately_popular           7.0               26.0   9.0\n",
       "niche                        1.0                5.0   6.0"
      ]
     },
     "execution_count": 115,
     "metadata": {},
     "output_type": "execute_result"
    }
   ],
   "source": [
    "pd.pivot_table(popularity[['benchmark', 'descartes', 'article_id']], index = 'benchmark', columns = 'descartes', aggfunc='count')"
   ]
  },
  {
   "cell_type": "code",
   "execution_count": 117,
   "id": "f68b72a0-a055-4434-b5ef-77cfee207d6d",
   "metadata": {
    "tags": []
   },
   "outputs": [
    {
     "data": {
      "text/html": [
       "<div>\n",
       "<style scoped>\n",
       "    .dataframe tbody tr th:only-of-type {\n",
       "        vertical-align: middle;\n",
       "    }\n",
       "\n",
       "    .dataframe tbody tr th {\n",
       "        vertical-align: top;\n",
       "    }\n",
       "\n",
       "    .dataframe thead tr th {\n",
       "        text-align: left;\n",
       "    }\n",
       "\n",
       "    .dataframe thead tr:last-of-type th {\n",
       "        text-align: right;\n",
       "    }\n",
       "</style>\n",
       "<table border=\"1\" class=\"dataframe\">\n",
       "  <thead>\n",
       "    <tr>\n",
       "      <th></th>\n",
       "      <th colspan=\"3\" halign=\"left\">article_id</th>\n",
       "    </tr>\n",
       "    <tr>\n",
       "      <th>gpt4</th>\n",
       "      <th>breaking_news</th>\n",
       "      <th>moderately_popular</th>\n",
       "      <th>niche</th>\n",
       "    </tr>\n",
       "    <tr>\n",
       "      <th>benchmark</th>\n",
       "      <th></th>\n",
       "      <th></th>\n",
       "      <th></th>\n",
       "    </tr>\n",
       "  </thead>\n",
       "  <tbody>\n",
       "    <tr>\n",
       "      <th>breaking_news</th>\n",
       "      <td>2.0</td>\n",
       "      <td>2.0</td>\n",
       "      <td>1.0</td>\n",
       "    </tr>\n",
       "    <tr>\n",
       "      <th>moderately_popular</th>\n",
       "      <td>5.0</td>\n",
       "      <td>28.0</td>\n",
       "      <td>8.0</td>\n",
       "    </tr>\n",
       "    <tr>\n",
       "      <th>niche</th>\n",
       "      <td>NaN</td>\n",
       "      <td>7.0</td>\n",
       "      <td>5.0</td>\n",
       "    </tr>\n",
       "  </tbody>\n",
       "</table>\n",
       "</div>"
      ],
      "text/plain": [
       "                      article_id                         \n",
       "gpt4               breaking_news moderately_popular niche\n",
       "benchmark                                                \n",
       "breaking_news                2.0                2.0   1.0\n",
       "moderately_popular           5.0               28.0   8.0\n",
       "niche                        NaN                7.0   5.0"
      ]
     },
     "execution_count": 117,
     "metadata": {},
     "output_type": "execute_result"
    }
   ],
   "source": [
    "pd.pivot_table(popularity[popularity.gpt4 != 'moderate_popularity'][['benchmark', 'gpt4', 'article_id']], index = 'benchmark', columns = 'gpt4', aggfunc='count')"
   ]
  },
  {
   "cell_type": "code",
   "execution_count": 126,
   "id": "5a69d499-2fea-4976-a7ee-24ceda35e818",
   "metadata": {
    "tags": []
   },
   "outputs": [
    {
     "data": {
      "text/plain": [
       "descartes\n",
       "breaking_news          9\n",
       "moderately_popular    35\n",
       "niche                 15\n",
       "Name: descartes, dtype: int64"
      ]
     },
     "execution_count": 126,
     "metadata": {},
     "output_type": "execute_result"
    }
   ],
   "source": [
    "popularity.groupby('descartes')['descartes'].count()"
   ]
  },
  {
   "cell_type": "code",
   "execution_count": 127,
   "id": "47765565-3a77-49ce-b132-c5c59468f54c",
   "metadata": {
    "tags": []
   },
   "outputs": [
    {
     "data": {
      "text/plain": [
       "gpt4\n",
       "breaking_news           7\n",
       "moderate_popularity     1\n",
       "moderately_popular     37\n",
       "niche                  14\n",
       "Name: gpt4, dtype: int64"
      ]
     },
     "execution_count": 127,
     "metadata": {},
     "output_type": "execute_result"
    }
   ],
   "source": [
    "popularity.groupby('gpt4')['gpt4'].count()"
   ]
  },
  {
   "cell_type": "code",
   "execution_count": 128,
   "id": "3fad8010-abd6-4ea9-8a23-cd3cbfa28e58",
   "metadata": {
    "tags": []
   },
   "outputs": [
    {
     "data": {
      "text/plain": [
       "benchmark\n",
       "breaking_news          5\n",
       "moderately_popular    42\n",
       "niche                 12\n",
       "Name: benchmark, dtype: int64"
      ]
     },
     "execution_count": 128,
     "metadata": {},
     "output_type": "execute_result"
    }
   ],
   "source": [
    "popularity.groupby('benchmark')['benchmark'].count()"
   ]
  },
  {
   "cell_type": "code",
   "execution_count": 118,
   "id": "64a75a31-19d3-4152-8913-5ea02ef2b8c2",
   "metadata": {
    "tags": []
   },
   "outputs": [
    {
     "data": {
      "text/plain": [
       "59"
      ]
     },
     "execution_count": 118,
     "metadata": {},
     "output_type": "execute_result"
    }
   ],
   "source": [
    "len(popularity)"
   ]
  },
  {
   "cell_type": "code",
   "execution_count": 111,
   "id": "3d14447a-b3db-435f-be1d-11e9a6e22653",
   "metadata": {
    "tags": []
   },
   "outputs": [
    {
     "data": {
      "text/plain": [
       "benchmark\n",
       "breaking_news          5\n",
       "moderately_popular    42\n",
       "niche                 12\n",
       "Name: descartes, dtype: int64"
      ]
     },
     "execution_count": 111,
     "metadata": {},
     "output_type": "execute_result"
    }
   ],
   "source": [
    "popularity.groupby('benchmark')['descartes'].count()"
   ]
  },
  {
   "cell_type": "code",
   "execution_count": 91,
   "id": "c65fdde9-4953-4f4c-8228-5384963003ca",
   "metadata": {
    "tags": []
   },
   "outputs": [
    {
     "data": {
      "text/plain": [
       "0.3559322033898305"
      ]
     },
     "execution_count": 91,
     "metadata": {},
     "output_type": "execute_result"
    }
   ],
   "source": [
    "validity['gpt4_partial_accuracy'].mean()"
   ]
  },
  {
   "cell_type": "code",
   "execution_count": 92,
   "id": "ac16de4e-dbe6-43e9-a89d-8400b12f2d78",
   "metadata": {
    "tags": []
   },
   "outputs": [
    {
     "data": {
      "text/plain": [
       "0.3050847457627119"
      ]
     },
     "execution_count": 92,
     "metadata": {},
     "output_type": "execute_result"
    }
   ],
   "source": [
    "validity['descartes_accuracy'].mean()"
   ]
  },
  {
   "cell_type": "code",
   "execution_count": 93,
   "id": "d3bb2b33-3c95-44db-baa6-f0df103c7539",
   "metadata": {
    "tags": []
   },
   "outputs": [
    {
     "data": {
      "text/plain": [
       "0.3559322033898305"
      ]
     },
     "execution_count": 93,
     "metadata": {},
     "output_type": "execute_result"
    }
   ],
   "source": [
    "validity['gpt4_accuracy'].mean()"
   ]
  },
  {
   "cell_type": "code",
   "execution_count": 95,
   "id": "c4194df7-a646-4635-ac06-17318a97aa0e",
   "metadata": {
    "scrolled": true,
    "tags": []
   },
   "outputs": [
    {
     "data": {
      "text/html": [
       "<div>\n",
       "<style scoped>\n",
       "    .dataframe tbody tr th:only-of-type {\n",
       "        vertical-align: middle;\n",
       "    }\n",
       "\n",
       "    .dataframe tbody tr th {\n",
       "        vertical-align: top;\n",
       "    }\n",
       "\n",
       "    .dataframe thead th {\n",
       "        text-align: right;\n",
       "    }\n",
       "</style>\n",
       "<table border=\"1\" class=\"dataframe\">\n",
       "  <thead>\n",
       "    <tr style=\"text-align: right;\">\n",
       "      <th></th>\n",
       "      <th>article_id</th>\n",
       "      <th>benchmark</th>\n",
       "      <th>descartes</th>\n",
       "      <th>gpt4</th>\n",
       "      <th>log_benchmark</th>\n",
       "      <th>log_descartes</th>\n",
       "      <th>log_gpt4</th>\n",
       "      <th>descartes_error</th>\n",
       "      <th>gpt4_error</th>\n",
       "      <th>descartes_accuracy</th>\n",
       "      <th>gpt4_accuracy</th>\n",
       "      <th>descartes_partial_accuracy</th>\n",
       "      <th>gpt4_partial_accuracy</th>\n",
       "    </tr>\n",
       "  </thead>\n",
       "  <tbody>\n",
       "    <tr>\n",
       "      <th>3</th>\n",
       "      <td>651de15fa662d76276b7fecf</td>\n",
       "      <td>3</td>\n",
       "      <td>30</td>\n",
       "      <td>-1</td>\n",
       "      <td>2.0</td>\n",
       "      <td>5.0</td>\n",
       "      <td>10.0</td>\n",
       "      <td>3.0</td>\n",
       "      <td>8.0</td>\n",
       "      <td>False</td>\n",
       "      <td>False</td>\n",
       "      <td>False</td>\n",
       "      <td>False</td>\n",
       "    </tr>\n",
       "    <tr>\n",
       "      <th>4</th>\n",
       "      <td>651e1b59a662d76276b88cc8</td>\n",
       "      <td>3</td>\n",
       "      <td>30</td>\n",
       "      <td>30</td>\n",
       "      <td>2.0</td>\n",
       "      <td>5.0</td>\n",
       "      <td>5.0</td>\n",
       "      <td>3.0</td>\n",
       "      <td>3.0</td>\n",
       "      <td>False</td>\n",
       "      <td>False</td>\n",
       "      <td>False</td>\n",
       "      <td>False</td>\n",
       "    </tr>\n",
       "    <tr>\n",
       "      <th>5</th>\n",
       "      <td>6555cc194b13023f934a4fa1</td>\n",
       "      <td>7</td>\n",
       "      <td>14</td>\n",
       "      <td>14</td>\n",
       "      <td>3.0</td>\n",
       "      <td>4.0</td>\n",
       "      <td>4.0</td>\n",
       "      <td>1.0</td>\n",
       "      <td>1.0</td>\n",
       "      <td>False</td>\n",
       "      <td>False</td>\n",
       "      <td>True</td>\n",
       "      <td>False</td>\n",
       "    </tr>\n",
       "    <tr>\n",
       "      <th>6</th>\n",
       "      <td>6555c1124b13023f9348ce03</td>\n",
       "      <td>3</td>\n",
       "      <td>14</td>\n",
       "      <td>-1</td>\n",
       "      <td>2.0</td>\n",
       "      <td>4.0</td>\n",
       "      <td>10.0</td>\n",
       "      <td>2.0</td>\n",
       "      <td>8.0</td>\n",
       "      <td>False</td>\n",
       "      <td>False</td>\n",
       "      <td>False</td>\n",
       "      <td>False</td>\n",
       "    </tr>\n",
       "    <tr>\n",
       "      <th>7</th>\n",
       "      <td>6555c5694b13023f9348dcc0</td>\n",
       "      <td>3</td>\n",
       "      <td>30</td>\n",
       "      <td>30</td>\n",
       "      <td>2.0</td>\n",
       "      <td>5.0</td>\n",
       "      <td>5.0</td>\n",
       "      <td>3.0</td>\n",
       "      <td>3.0</td>\n",
       "      <td>False</td>\n",
       "      <td>False</td>\n",
       "      <td>False</td>\n",
       "      <td>False</td>\n",
       "    </tr>\n",
       "    <tr>\n",
       "      <th>9</th>\n",
       "      <td>6555cc534b13023f934a7aa8</td>\n",
       "      <td>7</td>\n",
       "      <td>3</td>\n",
       "      <td>14</td>\n",
       "      <td>3.0</td>\n",
       "      <td>2.0</td>\n",
       "      <td>4.0</td>\n",
       "      <td>-1.0</td>\n",
       "      <td>1.0</td>\n",
       "      <td>False</td>\n",
       "      <td>False</td>\n",
       "      <td>True</td>\n",
       "      <td>False</td>\n",
       "    </tr>\n",
       "    <tr>\n",
       "      <th>11</th>\n",
       "      <td>6555cb974b13023f9349f4ae</td>\n",
       "      <td>14</td>\n",
       "      <td>-1</td>\n",
       "      <td>-1</td>\n",
       "      <td>4.0</td>\n",
       "      <td>10.0</td>\n",
       "      <td>10.0</td>\n",
       "      <td>6.0</td>\n",
       "      <td>6.0</td>\n",
       "      <td>False</td>\n",
       "      <td>False</td>\n",
       "      <td>False</td>\n",
       "      <td>False</td>\n",
       "    </tr>\n",
       "    <tr>\n",
       "      <th>12</th>\n",
       "      <td>6555cc4c4b13023f934a75cf</td>\n",
       "      <td>7</td>\n",
       "      <td>14</td>\n",
       "      <td>14</td>\n",
       "      <td>3.0</td>\n",
       "      <td>4.0</td>\n",
       "      <td>4.0</td>\n",
       "      <td>1.0</td>\n",
       "      <td>1.0</td>\n",
       "      <td>False</td>\n",
       "      <td>False</td>\n",
       "      <td>True</td>\n",
       "      <td>False</td>\n",
       "    </tr>\n",
       "    <tr>\n",
       "      <th>13</th>\n",
       "      <td>6555ccc94b13023f934ad203</td>\n",
       "      <td>14</td>\n",
       "      <td>30</td>\n",
       "      <td>-1</td>\n",
       "      <td>4.0</td>\n",
       "      <td>5.0</td>\n",
       "      <td>10.0</td>\n",
       "      <td>1.0</td>\n",
       "      <td>6.0</td>\n",
       "      <td>False</td>\n",
       "      <td>False</td>\n",
       "      <td>True</td>\n",
       "      <td>False</td>\n",
       "    </tr>\n",
       "    <tr>\n",
       "      <th>15</th>\n",
       "      <td>6555cb9f4b13023f9349fa84</td>\n",
       "      <td>30</td>\n",
       "      <td>30</td>\n",
       "      <td>14</td>\n",
       "      <td>5.0</td>\n",
       "      <td>5.0</td>\n",
       "      <td>4.0</td>\n",
       "      <td>0.0</td>\n",
       "      <td>-1.0</td>\n",
       "      <td>True</td>\n",
       "      <td>False</td>\n",
       "      <td>True</td>\n",
       "      <td>False</td>\n",
       "    </tr>\n",
       "    <tr>\n",
       "      <th>17</th>\n",
       "      <td>6555cac44b13023f9349673f</td>\n",
       "      <td>14</td>\n",
       "      <td>7</td>\n",
       "      <td>30</td>\n",
       "      <td>4.0</td>\n",
       "      <td>3.0</td>\n",
       "      <td>5.0</td>\n",
       "      <td>-1.0</td>\n",
       "      <td>1.0</td>\n",
       "      <td>False</td>\n",
       "      <td>False</td>\n",
       "      <td>True</td>\n",
       "      <td>False</td>\n",
       "    </tr>\n",
       "    <tr>\n",
       "      <th>18</th>\n",
       "      <td>65316f5e1e5cc42b1b13fbde</td>\n",
       "      <td>3</td>\n",
       "      <td>3</td>\n",
       "      <td>1</td>\n",
       "      <td>2.0</td>\n",
       "      <td>2.0</td>\n",
       "      <td>0.0</td>\n",
       "      <td>0.0</td>\n",
       "      <td>-2.0</td>\n",
       "      <td>True</td>\n",
       "      <td>False</td>\n",
       "      <td>True</td>\n",
       "      <td>False</td>\n",
       "    </tr>\n",
       "    <tr>\n",
       "      <th>21</th>\n",
       "      <td>6555c3c24b13023f9348d582</td>\n",
       "      <td>7</td>\n",
       "      <td>7</td>\n",
       "      <td>30</td>\n",
       "      <td>3.0</td>\n",
       "      <td>3.0</td>\n",
       "      <td>5.0</td>\n",
       "      <td>0.0</td>\n",
       "      <td>2.0</td>\n",
       "      <td>True</td>\n",
       "      <td>False</td>\n",
       "      <td>True</td>\n",
       "      <td>False</td>\n",
       "    </tr>\n",
       "    <tr>\n",
       "      <th>23</th>\n",
       "      <td>6531691c1e5cc42b1b13d0c9</td>\n",
       "      <td>7</td>\n",
       "      <td>30</td>\n",
       "      <td>14</td>\n",
       "      <td>3.0</td>\n",
       "      <td>5.0</td>\n",
       "      <td>4.0</td>\n",
       "      <td>2.0</td>\n",
       "      <td>1.0</td>\n",
       "      <td>False</td>\n",
       "      <td>False</td>\n",
       "      <td>False</td>\n",
       "      <td>False</td>\n",
       "    </tr>\n",
       "    <tr>\n",
       "      <th>27</th>\n",
       "      <td>6555c31b4b13023f9348d38e</td>\n",
       "      <td>3</td>\n",
       "      <td>1</td>\n",
       "      <td>14</td>\n",
       "      <td>2.0</td>\n",
       "      <td>0.0</td>\n",
       "      <td>4.0</td>\n",
       "      <td>-2.0</td>\n",
       "      <td>2.0</td>\n",
       "      <td>False</td>\n",
       "      <td>False</td>\n",
       "      <td>False</td>\n",
       "      <td>False</td>\n",
       "    </tr>\n",
       "    <tr>\n",
       "      <th>32</th>\n",
       "      <td>651dd877a662d76276b7e743</td>\n",
       "      <td>3</td>\n",
       "      <td>14</td>\n",
       "      <td>1</td>\n",
       "      <td>2.0</td>\n",
       "      <td>4.0</td>\n",
       "      <td>0.0</td>\n",
       "      <td>2.0</td>\n",
       "      <td>-2.0</td>\n",
       "      <td>False</td>\n",
       "      <td>False</td>\n",
       "      <td>False</td>\n",
       "      <td>False</td>\n",
       "    </tr>\n",
       "    <tr>\n",
       "      <th>33</th>\n",
       "      <td>65316f021e5cc42b1b13ec21</td>\n",
       "      <td>1</td>\n",
       "      <td>1</td>\n",
       "      <td>7</td>\n",
       "      <td>0.0</td>\n",
       "      <td>0.0</td>\n",
       "      <td>3.0</td>\n",
       "      <td>0.0</td>\n",
       "      <td>3.0</td>\n",
       "      <td>True</td>\n",
       "      <td>False</td>\n",
       "      <td>True</td>\n",
       "      <td>False</td>\n",
       "    </tr>\n",
       "    <tr>\n",
       "      <th>34</th>\n",
       "      <td>6531692b1e5cc42b1b13d499</td>\n",
       "      <td>7</td>\n",
       "      <td>30</td>\n",
       "      <td>14</td>\n",
       "      <td>3.0</td>\n",
       "      <td>5.0</td>\n",
       "      <td>4.0</td>\n",
       "      <td>2.0</td>\n",
       "      <td>1.0</td>\n",
       "      <td>False</td>\n",
       "      <td>False</td>\n",
       "      <td>False</td>\n",
       "      <td>False</td>\n",
       "    </tr>\n",
       "    <tr>\n",
       "      <th>35</th>\n",
       "      <td>653168c51e5cc42b1b13b90b</td>\n",
       "      <td>7</td>\n",
       "      <td>30</td>\n",
       "      <td>30</td>\n",
       "      <td>3.0</td>\n",
       "      <td>5.0</td>\n",
       "      <td>5.0</td>\n",
       "      <td>2.0</td>\n",
       "      <td>2.0</td>\n",
       "      <td>False</td>\n",
       "      <td>False</td>\n",
       "      <td>False</td>\n",
       "      <td>False</td>\n",
       "    </tr>\n",
       "    <tr>\n",
       "      <th>37</th>\n",
       "      <td>65316f1d1e5cc42b1b13eff1</td>\n",
       "      <td>1</td>\n",
       "      <td>1</td>\n",
       "      <td>3</td>\n",
       "      <td>0.0</td>\n",
       "      <td>0.0</td>\n",
       "      <td>2.0</td>\n",
       "      <td>0.0</td>\n",
       "      <td>2.0</td>\n",
       "      <td>True</td>\n",
       "      <td>False</td>\n",
       "      <td>True</td>\n",
       "      <td>False</td>\n",
       "    </tr>\n",
       "    <tr>\n",
       "      <th>38</th>\n",
       "      <td>6555b5044b13023f9348b8db</td>\n",
       "      <td>30</td>\n",
       "      <td>-1</td>\n",
       "      <td>-1</td>\n",
       "      <td>5.0</td>\n",
       "      <td>10.0</td>\n",
       "      <td>10.0</td>\n",
       "      <td>5.0</td>\n",
       "      <td>5.0</td>\n",
       "      <td>False</td>\n",
       "      <td>False</td>\n",
       "      <td>False</td>\n",
       "      <td>False</td>\n",
       "    </tr>\n",
       "    <tr>\n",
       "      <th>48</th>\n",
       "      <td>65316f4f1e5cc42b1b13f8c0</td>\n",
       "      <td>1</td>\n",
       "      <td>14</td>\n",
       "      <td>7</td>\n",
       "      <td>0.0</td>\n",
       "      <td>4.0</td>\n",
       "      <td>3.0</td>\n",
       "      <td>4.0</td>\n",
       "      <td>3.0</td>\n",
       "      <td>False</td>\n",
       "      <td>False</td>\n",
       "      <td>False</td>\n",
       "      <td>False</td>\n",
       "    </tr>\n",
       "    <tr>\n",
       "      <th>51</th>\n",
       "      <td>653168971e5cc42b1b13b0f9</td>\n",
       "      <td>7</td>\n",
       "      <td>30</td>\n",
       "      <td>30</td>\n",
       "      <td>3.0</td>\n",
       "      <td>5.0</td>\n",
       "      <td>5.0</td>\n",
       "      <td>2.0</td>\n",
       "      <td>2.0</td>\n",
       "      <td>False</td>\n",
       "      <td>False</td>\n",
       "      <td>False</td>\n",
       "      <td>False</td>\n",
       "    </tr>\n",
       "    <tr>\n",
       "      <th>52</th>\n",
       "      <td>6555cbb74b13023f934a0b16</td>\n",
       "      <td>7</td>\n",
       "      <td>-1</td>\n",
       "      <td>-1</td>\n",
       "      <td>3.0</td>\n",
       "      <td>10.0</td>\n",
       "      <td>10.0</td>\n",
       "      <td>7.0</td>\n",
       "      <td>7.0</td>\n",
       "      <td>False</td>\n",
       "      <td>False</td>\n",
       "      <td>False</td>\n",
       "      <td>False</td>\n",
       "    </tr>\n",
       "    <tr>\n",
       "      <th>53</th>\n",
       "      <td>6555c7c34b13023f9348e053</td>\n",
       "      <td>7</td>\n",
       "      <td>14</td>\n",
       "      <td>30</td>\n",
       "      <td>3.0</td>\n",
       "      <td>4.0</td>\n",
       "      <td>5.0</td>\n",
       "      <td>1.0</td>\n",
       "      <td>2.0</td>\n",
       "      <td>False</td>\n",
       "      <td>False</td>\n",
       "      <td>True</td>\n",
       "      <td>False</td>\n",
       "    </tr>\n",
       "    <tr>\n",
       "      <th>56</th>\n",
       "      <td>653168b31e5cc42b1b13b59c</td>\n",
       "      <td>3</td>\n",
       "      <td>14</td>\n",
       "      <td>30</td>\n",
       "      <td>2.0</td>\n",
       "      <td>4.0</td>\n",
       "      <td>5.0</td>\n",
       "      <td>2.0</td>\n",
       "      <td>3.0</td>\n",
       "      <td>False</td>\n",
       "      <td>False</td>\n",
       "      <td>False</td>\n",
       "      <td>False</td>\n",
       "    </tr>\n",
       "    <tr>\n",
       "      <th>64</th>\n",
       "      <td>651dd0eaa662d76276b7d380</td>\n",
       "      <td>3</td>\n",
       "      <td>1</td>\n",
       "      <td>7</td>\n",
       "      <td>2.0</td>\n",
       "      <td>0.0</td>\n",
       "      <td>3.0</td>\n",
       "      <td>-2.0</td>\n",
       "      <td>1.0</td>\n",
       "      <td>False</td>\n",
       "      <td>False</td>\n",
       "      <td>False</td>\n",
       "      <td>False</td>\n",
       "    </tr>\n",
       "    <tr>\n",
       "      <th>65</th>\n",
       "      <td>6555ccc44b13023f934acd28</td>\n",
       "      <td>3</td>\n",
       "      <td>14</td>\n",
       "      <td>14</td>\n",
       "      <td>2.0</td>\n",
       "      <td>4.0</td>\n",
       "      <td>4.0</td>\n",
       "      <td>2.0</td>\n",
       "      <td>2.0</td>\n",
       "      <td>False</td>\n",
       "      <td>False</td>\n",
       "      <td>False</td>\n",
       "      <td>False</td>\n",
       "    </tr>\n",
       "    <tr>\n",
       "      <th>69</th>\n",
       "      <td>6555cb434b13023f9349bb7a</td>\n",
       "      <td>3</td>\n",
       "      <td>-1</td>\n",
       "      <td>14</td>\n",
       "      <td>2.0</td>\n",
       "      <td>10.0</td>\n",
       "      <td>4.0</td>\n",
       "      <td>8.0</td>\n",
       "      <td>2.0</td>\n",
       "      <td>False</td>\n",
       "      <td>False</td>\n",
       "      <td>False</td>\n",
       "      <td>False</td>\n",
       "    </tr>\n",
       "    <tr>\n",
       "      <th>71</th>\n",
       "      <td>6555ccbe4b13023f934ac833</td>\n",
       "      <td>7</td>\n",
       "      <td>-1</td>\n",
       "      <td>30</td>\n",
       "      <td>3.0</td>\n",
       "      <td>10.0</td>\n",
       "      <td>5.0</td>\n",
       "      <td>7.0</td>\n",
       "      <td>2.0</td>\n",
       "      <td>False</td>\n",
       "      <td>False</td>\n",
       "      <td>False</td>\n",
       "      <td>False</td>\n",
       "    </tr>\n",
       "    <tr>\n",
       "      <th>73</th>\n",
       "      <td>65316aec1e5cc42b1b13dda1</td>\n",
       "      <td>7</td>\n",
       "      <td>30</td>\n",
       "      <td>30</td>\n",
       "      <td>3.0</td>\n",
       "      <td>5.0</td>\n",
       "      <td>5.0</td>\n",
       "      <td>2.0</td>\n",
       "      <td>2.0</td>\n",
       "      <td>False</td>\n",
       "      <td>False</td>\n",
       "      <td>False</td>\n",
       "      <td>False</td>\n",
       "    </tr>\n",
       "    <tr>\n",
       "      <th>79</th>\n",
       "      <td>651e1912a662d76276b887a0</td>\n",
       "      <td>7</td>\n",
       "      <td>30</td>\n",
       "      <td>30</td>\n",
       "      <td>3.0</td>\n",
       "      <td>5.0</td>\n",
       "      <td>5.0</td>\n",
       "      <td>2.0</td>\n",
       "      <td>2.0</td>\n",
       "      <td>False</td>\n",
       "      <td>False</td>\n",
       "      <td>False</td>\n",
       "      <td>False</td>\n",
       "    </tr>\n",
       "    <tr>\n",
       "      <th>80</th>\n",
       "      <td>6555b5dc4b13023f9348c38c</td>\n",
       "      <td>3</td>\n",
       "      <td>7</td>\n",
       "      <td>7</td>\n",
       "      <td>2.0</td>\n",
       "      <td>3.0</td>\n",
       "      <td>3.0</td>\n",
       "      <td>1.0</td>\n",
       "      <td>1.0</td>\n",
       "      <td>False</td>\n",
       "      <td>False</td>\n",
       "      <td>True</td>\n",
       "      <td>False</td>\n",
       "    </tr>\n",
       "    <tr>\n",
       "      <th>83</th>\n",
       "      <td>651e192ba662d76276b887da</td>\n",
       "      <td>3</td>\n",
       "      <td>30</td>\n",
       "      <td>30</td>\n",
       "      <td>2.0</td>\n",
       "      <td>5.0</td>\n",
       "      <td>5.0</td>\n",
       "      <td>3.0</td>\n",
       "      <td>3.0</td>\n",
       "      <td>False</td>\n",
       "      <td>False</td>\n",
       "      <td>False</td>\n",
       "      <td>False</td>\n",
       "    </tr>\n",
       "    <tr>\n",
       "      <th>84</th>\n",
       "      <td>6555b5dd4b13023f9348c3cb</td>\n",
       "      <td>3</td>\n",
       "      <td>7</td>\n",
       "      <td>7</td>\n",
       "      <td>2.0</td>\n",
       "      <td>3.0</td>\n",
       "      <td>3.0</td>\n",
       "      <td>1.0</td>\n",
       "      <td>1.0</td>\n",
       "      <td>False</td>\n",
       "      <td>False</td>\n",
       "      <td>True</td>\n",
       "      <td>False</td>\n",
       "    </tr>\n",
       "    <tr>\n",
       "      <th>85</th>\n",
       "      <td>65367fe21e5cc42b1b143c7d</td>\n",
       "      <td>30</td>\n",
       "      <td>-1</td>\n",
       "      <td>14</td>\n",
       "      <td>5.0</td>\n",
       "      <td>10.0</td>\n",
       "      <td>4.0</td>\n",
       "      <td>5.0</td>\n",
       "      <td>-1.0</td>\n",
       "      <td>False</td>\n",
       "      <td>False</td>\n",
       "      <td>False</td>\n",
       "      <td>False</td>\n",
       "    </tr>\n",
       "    <tr>\n",
       "      <th>86</th>\n",
       "      <td>6555c80a4b13023f9348ff84</td>\n",
       "      <td>30</td>\n",
       "      <td>-1</td>\n",
       "      <td>-1</td>\n",
       "      <td>5.0</td>\n",
       "      <td>10.0</td>\n",
       "      <td>10.0</td>\n",
       "      <td>5.0</td>\n",
       "      <td>5.0</td>\n",
       "      <td>False</td>\n",
       "      <td>False</td>\n",
       "      <td>False</td>\n",
       "      <td>False</td>\n",
       "    </tr>\n",
       "    <tr>\n",
       "      <th>87</th>\n",
       "      <td>651dd41ca662d76276b7dca8</td>\n",
       "      <td>30</td>\n",
       "      <td>14</td>\n",
       "      <td>14</td>\n",
       "      <td>5.0</td>\n",
       "      <td>4.0</td>\n",
       "      <td>4.0</td>\n",
       "      <td>-1.0</td>\n",
       "      <td>-1.0</td>\n",
       "      <td>False</td>\n",
       "      <td>False</td>\n",
       "      <td>True</td>\n",
       "      <td>False</td>\n",
       "    </tr>\n",
       "  </tbody>\n",
       "</table>\n",
       "</div>"
      ],
      "text/plain": [
       "                  article_id  benchmark  descartes  gpt4  log_benchmark  \\\n",
       "3   651de15fa662d76276b7fecf          3         30    -1            2.0   \n",
       "4   651e1b59a662d76276b88cc8          3         30    30            2.0   \n",
       "5   6555cc194b13023f934a4fa1          7         14    14            3.0   \n",
       "6   6555c1124b13023f9348ce03          3         14    -1            2.0   \n",
       "7   6555c5694b13023f9348dcc0          3         30    30            2.0   \n",
       "9   6555cc534b13023f934a7aa8          7          3    14            3.0   \n",
       "11  6555cb974b13023f9349f4ae         14         -1    -1            4.0   \n",
       "12  6555cc4c4b13023f934a75cf          7         14    14            3.0   \n",
       "13  6555ccc94b13023f934ad203         14         30    -1            4.0   \n",
       "15  6555cb9f4b13023f9349fa84         30         30    14            5.0   \n",
       "17  6555cac44b13023f9349673f         14          7    30            4.0   \n",
       "18  65316f5e1e5cc42b1b13fbde          3          3     1            2.0   \n",
       "21  6555c3c24b13023f9348d582          7          7    30            3.0   \n",
       "23  6531691c1e5cc42b1b13d0c9          7         30    14            3.0   \n",
       "27  6555c31b4b13023f9348d38e          3          1    14            2.0   \n",
       "32  651dd877a662d76276b7e743          3         14     1            2.0   \n",
       "33  65316f021e5cc42b1b13ec21          1          1     7            0.0   \n",
       "34  6531692b1e5cc42b1b13d499          7         30    14            3.0   \n",
       "35  653168c51e5cc42b1b13b90b          7         30    30            3.0   \n",
       "37  65316f1d1e5cc42b1b13eff1          1          1     3            0.0   \n",
       "38  6555b5044b13023f9348b8db         30         -1    -1            5.0   \n",
       "48  65316f4f1e5cc42b1b13f8c0          1         14     7            0.0   \n",
       "51  653168971e5cc42b1b13b0f9          7         30    30            3.0   \n",
       "52  6555cbb74b13023f934a0b16          7         -1    -1            3.0   \n",
       "53  6555c7c34b13023f9348e053          7         14    30            3.0   \n",
       "56  653168b31e5cc42b1b13b59c          3         14    30            2.0   \n",
       "64  651dd0eaa662d76276b7d380          3          1     7            2.0   \n",
       "65  6555ccc44b13023f934acd28          3         14    14            2.0   \n",
       "69  6555cb434b13023f9349bb7a          3         -1    14            2.0   \n",
       "71  6555ccbe4b13023f934ac833          7         -1    30            3.0   \n",
       "73  65316aec1e5cc42b1b13dda1          7         30    30            3.0   \n",
       "79  651e1912a662d76276b887a0          7         30    30            3.0   \n",
       "80  6555b5dc4b13023f9348c38c          3          7     7            2.0   \n",
       "83  651e192ba662d76276b887da          3         30    30            2.0   \n",
       "84  6555b5dd4b13023f9348c3cb          3          7     7            2.0   \n",
       "85  65367fe21e5cc42b1b143c7d         30         -1    14            5.0   \n",
       "86  6555c80a4b13023f9348ff84         30         -1    -1            5.0   \n",
       "87  651dd41ca662d76276b7dca8         30         14    14            5.0   \n",
       "\n",
       "    log_descartes  log_gpt4  descartes_error  gpt4_error  descartes_accuracy  \\\n",
       "3             5.0      10.0              3.0         8.0               False   \n",
       "4             5.0       5.0              3.0         3.0               False   \n",
       "5             4.0       4.0              1.0         1.0               False   \n",
       "6             4.0      10.0              2.0         8.0               False   \n",
       "7             5.0       5.0              3.0         3.0               False   \n",
       "9             2.0       4.0             -1.0         1.0               False   \n",
       "11           10.0      10.0              6.0         6.0               False   \n",
       "12            4.0       4.0              1.0         1.0               False   \n",
       "13            5.0      10.0              1.0         6.0               False   \n",
       "15            5.0       4.0              0.0        -1.0                True   \n",
       "17            3.0       5.0             -1.0         1.0               False   \n",
       "18            2.0       0.0              0.0        -2.0                True   \n",
       "21            3.0       5.0              0.0         2.0                True   \n",
       "23            5.0       4.0              2.0         1.0               False   \n",
       "27            0.0       4.0             -2.0         2.0               False   \n",
       "32            4.0       0.0              2.0        -2.0               False   \n",
       "33            0.0       3.0              0.0         3.0                True   \n",
       "34            5.0       4.0              2.0         1.0               False   \n",
       "35            5.0       5.0              2.0         2.0               False   \n",
       "37            0.0       2.0              0.0         2.0                True   \n",
       "38           10.0      10.0              5.0         5.0               False   \n",
       "48            4.0       3.0              4.0         3.0               False   \n",
       "51            5.0       5.0              2.0         2.0               False   \n",
       "52           10.0      10.0              7.0         7.0               False   \n",
       "53            4.0       5.0              1.0         2.0               False   \n",
       "56            4.0       5.0              2.0         3.0               False   \n",
       "64            0.0       3.0             -2.0         1.0               False   \n",
       "65            4.0       4.0              2.0         2.0               False   \n",
       "69           10.0       4.0              8.0         2.0               False   \n",
       "71           10.0       5.0              7.0         2.0               False   \n",
       "73            5.0       5.0              2.0         2.0               False   \n",
       "79            5.0       5.0              2.0         2.0               False   \n",
       "80            3.0       3.0              1.0         1.0               False   \n",
       "83            5.0       5.0              3.0         3.0               False   \n",
       "84            3.0       3.0              1.0         1.0               False   \n",
       "85           10.0       4.0              5.0        -1.0               False   \n",
       "86           10.0      10.0              5.0         5.0               False   \n",
       "87            4.0       4.0             -1.0        -1.0               False   \n",
       "\n",
       "    gpt4_accuracy  descartes_partial_accuracy  gpt4_partial_accuracy  \n",
       "3           False                       False                  False  \n",
       "4           False                       False                  False  \n",
       "5           False                        True                  False  \n",
       "6           False                       False                  False  \n",
       "7           False                       False                  False  \n",
       "9           False                        True                  False  \n",
       "11          False                       False                  False  \n",
       "12          False                        True                  False  \n",
       "13          False                        True                  False  \n",
       "15          False                        True                  False  \n",
       "17          False                        True                  False  \n",
       "18          False                        True                  False  \n",
       "21          False                        True                  False  \n",
       "23          False                       False                  False  \n",
       "27          False                       False                  False  \n",
       "32          False                       False                  False  \n",
       "33          False                        True                  False  \n",
       "34          False                       False                  False  \n",
       "35          False                       False                  False  \n",
       "37          False                        True                  False  \n",
       "38          False                       False                  False  \n",
       "48          False                       False                  False  \n",
       "51          False                       False                  False  \n",
       "52          False                       False                  False  \n",
       "53          False                        True                  False  \n",
       "56          False                       False                  False  \n",
       "64          False                       False                  False  \n",
       "65          False                       False                  False  \n",
       "69          False                       False                  False  \n",
       "71          False                       False                  False  \n",
       "73          False                       False                  False  \n",
       "79          False                       False                  False  \n",
       "80          False                        True                  False  \n",
       "83          False                       False                  False  \n",
       "84          False                        True                  False  \n",
       "85          False                       False                  False  \n",
       "86          False                       False                  False  \n",
       "87          False                        True                  False  "
      ]
     },
     "execution_count": 95,
     "metadata": {},
     "output_type": "execute_result"
    }
   ],
   "source": [
    "validity[validity.gpt4_accuracy == False]"
   ]
  },
  {
   "cell_type": "code",
   "execution_count": 68,
   "id": "d10098c7-5986-4e35-8ad3-701aa73a62f7",
   "metadata": {
    "tags": []
   },
   "outputs": [],
   "source": [
    "def plot_confusion_matrix(col):\n",
    "    df = get_merged_df(col)\n",
    "    cmaps = {'descartes': 'Greens','gpt4': 'Blues'}\n",
    "    for col in ['descartes', 'gpt4']:\n",
    "        conf_matrix = confusion_matrix(df['benchmark'], df[col])\n",
    "        return conf_matrix\n",
    "        # Normalize the confusion matrix to get percentages\n",
    "        conf_matrix_normalized = conf_matrix.astype('float') / conf_matrix.sum(axis=1)[:, np.newaxis]\n",
    "\n",
    "        # Create a pandas DataFrame from the matrix for easier plotting\n",
    "        conf_matrix_df = pd.DataFrame(conf_matrix_normalized, \n",
    "                                      index=['Actual: False', 'Actual: True'], \n",
    "                                      columns=['Predicted: False', 'Predicted: True'])\n",
    "\n",
    "        # Plotting\n",
    "        plt.figure(figsize=(8, 6))\n",
    "        sns.heatmap(conf_matrix_df, annot=True, fmt=\".2%\",cmap=cmaps[col])\n",
    "        plt.title(f'Confusion Matrix for {col}')\n",
    "        plt.ylabel('Actual Label')\n",
    "        plt.xlabel('Predicted Label')\n",
    "        plt.show()"
   ]
  },
  {
   "cell_type": "code",
   "execution_count": 70,
   "id": "9a68f709-6398-4db2-bdff-7c60f3bcd4ba",
   "metadata": {
    "tags": []
   },
   "outputs": [
    {
     "data": {
      "text/plain": [
       "59"
      ]
     },
     "execution_count": 70,
     "metadata": {},
     "output_type": "execute_result"
    }
   ],
   "source": [
    "np.sum(plot_confusion_matrix('article_validity_duration'))"
   ]
  },
  {
   "cell_type": "code",
   "execution_count": 55,
   "id": "251fcd6a-2bcc-4f42-bcb4-d05a9f3d26ba",
   "metadata": {
    "tags": []
   },
   "outputs": [
    {
     "data": {
      "image/png": "[encoded data removed]",
      "text/plain": [
       "<Figure size 800x600 with 2 Axes>"
      ]
     },
     "metadata": {},
     "output_type": "display_data"
    },
    {
     "data": {
      "image/png": "[encoded data removed]",
      "text/plain": [
       "<Figure size 800x600 with 2 Axes>"
      ]
     },
     "metadata": {},
     "output_type": "display_data"
    }
   ],
   "source": [
    "plot_confusion_matrix('relevant_for_india')"
   ]
  },
  {
   "cell_type": "code",
   "execution_count": 30,
   "id": "765e2fab-0493-45aa-9da8-578655fbd4a2",
   "metadata": {
    "tags": []
   },
   "outputs": [
    {
     "data": {
      "text/plain": [
       "array([[16,  6],\n",
       "       [ 0, 68]])"
      ]
     },
     "execution_count": 30,
     "metadata": {},
     "output_type": "execute_result"
    }
   ],
   "source": [
    "confusion_matrix(is_fin['benchmark'], is_fin['descartes'])"
   ]
  },
  {
   "cell_type": "code",
   "execution_count": 31,
   "id": "9822b63b-87ec-415b-958e-f4e8735aaf10",
   "metadata": {
    "tags": []
   },
   "outputs": [
    {
     "data": {
      "text/plain": [
       "array([[16,  6],\n",
       "       [ 0, 68]])"
      ]
     },
     "execution_count": 31,
     "metadata": {},
     "output_type": "execute_result"
    }
   ],
   "source": [
    "confusion_matrix(is_fin['benchmark'], is_fin['gpt4'])"
   ]
  },
  {
   "cell_type": "code",
   "execution_count": null,
   "id": "87374828-3b2b-42e4-a0e5-446d6cfbd6de",
   "metadata": {},
   "outputs": [],
   "source": [
    "def get_"
   ]
  },
  {
   "cell_type": "code",
   "execution_count": 29,
   "id": "b645789d-1b6c-4116-9897-ce053cc11572",
   "metadata": {
    "tags": []
   },
   "outputs": [],
   "source": [
    "is_fin = get_merged_df('is_financial_or_business_news')"
   ]
  },
  {
   "cell_type": "code",
   "execution_count": null,
   "id": "1abb6190-9141-4e02-a771-1eb0017ef565",
   "metadata": {},
   "outputs": [],
   "source": [
    "is_fin = get_merged_df('is_financial_or_business_news')"
   ]
  },
  {
   "cell_type": "code",
   "execution_count": null,
   "id": "1209b3af-bccd-4e9a-a421-9e249ebbacf9",
   "metadata": {},
   "outputs": [],
   "source": [
    "relevance_df = pd.merge(benchmark_df[['article_id', 'relevant_for_india']].rename(columns = {'relevant_for_india': 'benchmark'}))"
   ]
  },
  {
   "cell_type": "code",
   "execution_count": 57,
   "id": "19861be4-c439-47af-8f74-555725517e17",
   "metadata": {
    "tags": []
   },
   "outputs": [
    {
     "data": {
      "text/plain": [
       "article_id                       object\n",
       "is_financial_or_business_news      bool\n",
       "relevant_for_india               object\n",
       "article_validity_duration        object\n",
       "popularity                       object\n",
       "article_type                     object\n",
       "article_sentiment                object\n",
       "dtype: object"
      ]
     },
     "execution_count": 57,
     "metadata": {},
     "output_type": "execute_result"
    }
   ],
   "source": [
    "benchmark_df.dtypes"
   ]
  },
  {
   "cell_type": "code",
   "execution_count": 20,
   "id": "ab3e5bd3-ecca-495f-a678-b0c7b256a191",
   "metadata": {
    "tags": []
   },
   "outputs": [
    {
     "data": {
      "text/plain": [
       "0      14\n",
       "1       1\n",
       "2       -\n",
       "3       3\n",
       "4       3\n",
       "     ... \n",
       "95     30\n",
       "96     30\n",
       "97     30\n",
       "98    NaN\n",
       "99      1\n",
       "Name: article_validity_duration, Length: 100, dtype: object"
      ]
     },
     "execution_count": 20,
     "metadata": {},
     "output_type": "execute_result"
    }
   ],
   "source": [
    "benchmark_df.article_validity_duration"
   ]
  },
  {
   "cell_type": "code",
   "execution_count": null,
   "id": "fec97b6f-3cfc-4e19-b525-e09ab95c072e",
   "metadata": {},
   "outputs": [],
   "source": []
  }
 ],
 "metadata": {
  "kernelspec": {
   "display_name": "Python 3 (ipykernel)",
   "language": "python",
   "name": "python3"
  },
  "language_info": {
   "codemirror_mode": {
    "name": "ipython",
    "version": 3
   },
   "file_extension": ".py",
   "mimetype": "text/x-python",
   "name": "python",
   "nbconvert_exporter": "python",
   "pygments_lexer": "ipython3",
   "version": "3.11.5"
  }
 },
 "nbformat": 4,
 "nbformat_minor": 5
}
