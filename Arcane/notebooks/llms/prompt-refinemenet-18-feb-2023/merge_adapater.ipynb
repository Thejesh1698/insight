{
 "cells": [
  {
   "cell_type": "code",
   "execution_count": 1,
   "id": "fae3ebab-36e1-44ce-93f4-7ab9009e5cba",
   "metadata": {
    "tags": []
   },
   "outputs": [],
   "source": [
    "from peft import AutoPeftModelForCausalLM"
   ]
  },
  {
   "cell_type": "code",
   "execution_count": 1,
   "id": "1d2c4076-0631-4710-965f-b2e498605c04",
   "metadata": {
    "tags": []
   },
   "outputs": [],
   "source": [
    "# model = AutoPeftModelForCausalLM.from_pretrained('./OpenHermes-2.5-Adapter-Attributes-WatermelonUvulaMarigold/')"
   ]
  },
  {
   "cell_type": "code",
   "execution_count": 2,
   "id": "1c792b8a-153b-4136-a6f1-e472ab386dee",
   "metadata": {
    "tags": []
   },
   "outputs": [],
   "source": [
    "from transformers import AutoTokenizer"
   ]
  },
  {
   "cell_type": "code",
   "execution_count": 3,
   "id": "2b7973d5-c3a4-4f8c-bb96-1722afb89b8b",
   "metadata": {},
   "outputs": [
    {
     "name": "stderr",
     "output_type": "stream",
     "text": [
      "Special tokens have been added in the vocabulary, make sure the associated word embeddings are fine-tuned or trained.\n",
      "Special tokens have been added in the vocabulary, make sure the associated word embeddings are fine-tuned or trained.\n"
     ]
    }
   ],
   "source": [
    "tokenizer = AutoTokenizer.from_pretrained('teknium/OpenHermes-2.5-Mistral-7B',use_fast=True,trust_remote_code=True)"
   ]
  },
  {
   "cell_type": "code",
   "execution_count": 4,
   "id": "f7ba92ae-e8e8-43c4-aae7-6a31b6baa57a",
   "metadata": {
    "tags": []
   },
   "outputs": [
    {
     "data": {
      "application/vnd.jupyter.widget-view+json": {
       "model_id": "9aebccc754004135959bd083cafd8e83",
       "version_major": 2,
       "version_minor": 0
      },
      "text/plain": [
       "tokenizer.model:   0%|          | 0.00/493k [00:00<?, ?B/s]"
      ]
     },
     "metadata": {},
     "output_type": "display_data"
    },
    {
     "data": {
      "text/plain": [
       "CommitInfo(commit_url='https://huggingface.co/WintWealth/OpenHermes-2.5-Attributes-WatermelonUvulaMarigold/commit/09a0ef37a740284c5596b3c40dd005fce12d3d7e', commit_message='Upload tokenizer', commit_description='', oid='09a0ef37a740284c5596b3c40dd005fce12d3d7e', pr_url=None, pr_revision=None, pr_num=None)"
      ]
     },
     "execution_count": 4,
     "metadata": {},
     "output_type": "execute_result"
    }
   ],
   "source": [
    "tokenizer.push_to_hub('WintWealth/OpenHermes-2.5-Attributes-WatermelonUvulaMarigold',private=True)"
   ]
  },
  {
   "cell_type": "code",
   "execution_count": null,
   "id": "09232777-4ec9-4282-bc4d-0c3ae6245f7d",
   "metadata": {},
   "outputs": [],
   "source": []
  }
 ],
 "metadata": {
  "kernelspec": {
   "display_name": "bertopicenv",
   "language": "python",
   "name": "bertopicenv"
  },
  "language_info": {
   "codemirror_mode": {
    "name": "ipython",
    "version": 3
   },
   "file_extension": ".py",
   "mimetype": "text/x-python",
   "name": "python",
   "nbconvert_exporter": "python",
   "pygments_lexer": "ipython3",
   "version": "3.9.18"
  }
 },
 "nbformat": 4,
 "nbformat_minor": 5
}
