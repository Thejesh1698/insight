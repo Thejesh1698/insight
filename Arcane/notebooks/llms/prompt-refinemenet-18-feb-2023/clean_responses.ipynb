{
 "cells": [
  {
   "cell_type": "code",
   "execution_count": 1,
   "id": "b49df6d8-ca0b-4d14-bcea-01d12989fbd8",
   "metadata": {
    "tags": []
   },
   "outputs": [],
   "source": [
    "parent_folder = '/Users/ravi.tej/Desktop/ML/Recommendations/arcane/'\n",
    "from hydra import compose, initialize\n",
    "import os\n",
    "\n",
    "import xml.etree.ElementTree as ET\n",
    "\n",
    "tree = ET.parse('../../../conf/application.run.xml')\n",
    "root = tree.getroot()\n",
    "\n",
    "envs_element = root.find('./configuration/envs')\n",
    "for variable in envs_element.findall('env'):\n",
    "    name = variable.get('name')\n",
    "    value = variable.get('value')\n",
    "    os.environ[name] = value\n",
    "\n",
    "import sys\n",
    "sys.path.append('/Users/ravi.tej/Desktop/ML/Recommendations/arcane/')\n",
    "import pandas as pd"
   ]
  },
  {
   "cell_type": "code",
   "execution_count": 2,
   "id": "f2711998-4ff9-446a-b39a-7f62c22174d5",
   "metadata": {
    "tags": []
   },
   "outputs": [],
   "source": [
    "from src.llm_finetuning.ResponseCleanerService import ResponseCleanerService"
   ]
  },
  {
   "cell_type": "code",
   "execution_count": 3,
   "id": "e0fbc906-3122-4d05-a95b-bc3111d0b15d",
   "metadata": {
    "tags": []
   },
   "outputs": [],
   "source": [
    "Cleaner = ResponseCleanerService(response_file_path='gpt-4-responses-2024-Feb-19.csv',original_data_file_path='attributes_1000_shortlisted_articles_Feb_19.csv')"
   ]
  },
  {
   "cell_type": "code",
   "execution_count": 4,
   "id": "25bf0d0a-f26e-4acf-aca5-63f92b3df2d4",
   "metadata": {
    "tags": []
   },
   "outputs": [
    {
     "name": "stdout",
     "output_type": "stream",
     "text": [
      "651df968a662d76276b83baa\n",
      "65a7b4b11c9bc64bb8adfa18\n",
      "6571c21825cc9a343f037148\n",
      "6555ca974b13023f93494ac9\n",
      "6555ccde4b13023f934ae2bc\n",
      "6555ca974b13023f93494ae5\n",
      "651e09d5a662d76276b863ff\n",
      "658d472d4b25ce4814fb368b\n",
      "6536800b1e5cc42b1b143ed4\n",
      "6531692f1e5cc42b1b13d540\n"
     ]
    }
   ],
   "source": [
    "Cleaner.clean_responses()"
   ]
  },
  {
   "cell_type": "code",
   "execution_count": 6,
   "id": "635393b6-ae9e-464a-85ea-a0074d86b60f",
   "metadata": {
    "tags": []
   },
   "outputs": [
    {
     "data": {
      "text/plain": [
       "['emoji1',\n",
       " 'emoji2',\n",
       " 'emoji3',\n",
       " '_💳',\n",
       " '💰',\n",
       " '🏠',\n",
       " '⚠️',\n",
       " 'emoji1',\n",
       " 'emoji2',\n",
       " 'emoji3',\n",
       " 'emoji1',\n",
       " 'emoji2',\n",
       " 'emoji3',\n",
       " '_💳',\n",
       " '💰',\n",
       " '_👛',\n",
       " 'emoji1',\n",
       " 'emoji2',\n",
       " 'emoji3',\n",
       " 'emoji1',\n",
       " 'emoji2',\n",
       " 'emoji3',\n",
       " 'emoji1',\n",
       " 'emoji2',\n",
       " 'emoji3']"
      ]
     },
     "execution_count": 6,
     "metadata": {},
     "output_type": "execute_result"
    }
   ],
   "source": [
    "Cleaner.missing_emoji_texts"
   ]
  },
  {
   "cell_type": "code",
   "execution_count": 15,
   "id": "99cda522-9b54-488c-98e6-007eab7b161d",
   "metadata": {
    "tags": []
   },
   "outputs": [],
   "source": [
    "import json"
   ]
  },
  {
   "cell_type": "code",
   "execution_count": 16,
   "id": "82ee769d-75f5-4b59-8fc8-ddd66a485f72",
   "metadata": {
    "tags": []
   },
   "outputs": [
    {
     "data": {
      "text/plain": [
       "'\"\\\\ud83c\\\\udfe0\"'"
      ]
     },
     "execution_count": 16,
     "metadata": {},
     "output_type": "execute_result"
    }
   ],
   "source": [
    "json.dumps(k[5])"
   ]
  },
  {
   "cell_type": "code",
   "execution_count": 6,
   "id": "6b419b5b-d018-43a3-bed6-8b7bc3e45cd6",
   "metadata": {
    "tags": []
   },
   "outputs": [
    {
     "data": {
      "text/plain": [
       "summary                                    0\n",
       "summary_critique                           0\n",
       "improved_summary                           0\n",
       "top_queries                                0\n",
       "indian_or_international                    1\n",
       "business_or_financial_article              0\n",
       "relevant_for_indians                       0\n",
       "category                                   4\n",
       "article_interest_duration_evaluation       0\n",
       "article_interest_duration                  0\n",
       "popularity_evaluation                      0\n",
       "popularity_evaluation_critique             0\n",
       "final_reader_interest_score                0\n",
       "final_headline_effectiveness_score         0\n",
       "final_event_novelty_score                  0\n",
       "final_emotional_impact_score               0\n",
       "improved_headline                          0\n",
       "article_type                               8\n",
       "article_sentiment                          3\n",
       "article_id                                 0\n",
       "user_prompt                                0\n",
       "final_event_novelity_score              1170\n",
       "is_summary_valid                           0\n",
       "extracted_summary                          0\n",
       "is_emoji_valid                             0\n",
       "cleaned_summary                           24\n",
       "cleaned_first_summary                     14\n",
       "is_english                                 0\n",
       "is_valid_response                          0\n",
       "dtype: int64"
      ]
     },
     "execution_count": 6,
     "metadata": {},
     "output_type": "execute_result"
    }
   ],
   "source": [
    "Cleaner.attributes_df.isnull().sum()"
   ]
  },
  {
   "cell_type": "markdown",
   "id": "17838ba1-e2f4-4d7d-bc9a-51cdc3428718",
   "metadata": {},
   "source": [
    "### Total cost"
   ]
  },
  {
   "cell_type": "code",
   "execution_count": 13,
   "id": "1e2e772e-0b76-4026-97f5-ba204190d1e4",
   "metadata": {
    "tags": []
   },
   "outputs": [],
   "source": [
    "df = pd.read_csv('gpt-4-responses-2024-Feb-19.csv',header=None)"
   ]
  },
  {
   "cell_type": "code",
   "execution_count": 15,
   "id": "52540acc-729e-4adc-94d2-0be22d972df2",
   "metadata": {
    "tags": []
   },
   "outputs": [
    {
     "data": {
      "text/plain": [
       "105.06987"
      ]
     },
     "execution_count": 15,
     "metadata": {},
     "output_type": "execute_result"
    }
   ],
   "source": [
    "total_cost_usd = (df[6].sum() * 0.03 + df[7].sum() * 0.06)/1000\n",
    "total_cost_usd"
   ]
  },
  {
   "cell_type": "code",
   "execution_count": 17,
   "id": "78f0150d-7b5e-4993-860f-6903d9b06481",
   "metadata": {
    "tags": []
   },
   "outputs": [
    {
     "data": {
      "text/plain": [
       "{'_💳',\n",
       " 'agreement',\n",
       " 'airplane',\n",
       " 'airplane_departure',\n",
       " 'americas',\n",
       " 'approved',\n",
       " 'arrow-up-right',\n",
       " 'arrow_down',\n",
       " 'arrow_downward',\n",
       " 'arrow_up_small',\n",
       " 'art',\n",
       " 'baby',\n",
       " 'ballot_box_emoji',\n",
       " 'bangbang',\n",
       " 'banking',\n",
       " 'banknote',\n",
       " 'bankrupt',\n",
       " 'bell',\n",
       " 'bike',\n",
       " 'biohazard_emoji',\n",
       " 'bitcoin',\n",
       " 'bomb',\n",
       " 'bse_volume',\n",
       " 'building_construction',\n",
       " 'bulb',\n",
       " 'business',\n",
       " 'business_news',\n",
       " 'calendar_icon',\n",
       " 'cap_emoji',\n",
       " 'capital_abcd',\n",
       " 'challenges',\n",
       " 'charge',\n",
       " 'chart',\n",
       " 'chart_emoji',\n",
       " 'chart_with_downwards_trend',\n",
       " 'chart_with_upwards_trend',\n",
       " 'cityscape',\n",
       " 'clock12',\n",
       " 'coat',\n",
       " 'college_student',\n",
       " 'company',\n",
       " 'computer',\n",
       " 'construction',\n",
       " 'construction_worker',\n",
       " 'cricket',\n",
       " 'crown',\n",
       " 'crypto',\n",
       " 'crystal_ball',\n",
       " 'currency-exchange',\n",
       " 'dart',\n",
       " 'data',\n",
       " 'digital',\n",
       " 'disappointed',\n",
       " 'dollar-bill',\n",
       " 'dollar_sign',\n",
       " 'double_exclamation_mark',\n",
       " 'down',\n",
       " 'earth_africa',\n",
       " 'earth_americas',\n",
       " 'economical-impact',\n",
       " 'economy',\n",
       " 'electric',\n",
       " 'electric_plug',\n",
       " 'emoji1',\n",
       " 'emoji2',\n",
       " 'emoji3',\n",
       " 'emoji_duration',\n",
       " 'emoji_graph',\n",
       " 'emoji_market',\n",
       " 'everlodge',\n",
       " 'exchange',\n",
       " 'exclamation',\n",
       " 'eye',\n",
       " 'eyes',\n",
       " 'factory',\n",
       " 'family',\n",
       " 'file_folder',\n",
       " 'film',\n",
       " 'finance',\n",
       " 'financial_analysis',\n",
       " 'flag',\n",
       " 'flag_in',\n",
       " 'flashlight',\n",
       " 'future',\n",
       " 'future_emoji',\n",
       " 'future_outlook',\n",
       " 'gavel_emoji',\n",
       " 'gear',\n",
       " 'globus',\n",
       " 'goal',\n",
       " 'goal_net',\n",
       " 'graph',\n",
       " 'graph_emoji',\n",
       " 'green_heart',\n",
       " 'growing_heart',\n",
       " 'growth',\n",
       " 'hammer_and_wrench',\n",
       " 'handcuffs',\n",
       " 'heavy_dollar_sign',\n",
       " 'hesitation',\n",
       " 'history-icon',\n",
       " 'home',\n",
       " 'hotel',\n",
       " 'hourglass-flipping',\n",
       " 'hourglass-icon',\n",
       " 'house',\n",
       " 'id',\n",
       " 'idea',\n",
       " 'industry',\n",
       " 'infinity',\n",
       " 'information_source',\n",
       " 'justice_scale',\n",
       " 'law-icon',\n",
       " 'lawyer',\n",
       " 'light_bulb',\n",
       " 'location',\n",
       " 'loop',\n",
       " 'loss_emoji',\n",
       " 'loudspeaker_emoji',\n",
       " 'mag_right',\n",
       " 'male_detective',\n",
       " 'man_in_suit',\n",
       " 'man_judge',\n",
       " 'man_office_worker',\n",
       " 'mask',\n",
       " 'medal',\n",
       " 'medal_emoji',\n",
       " 'mega',\n",
       " 'memo',\n",
       " 'mine',\n",
       " 'mobile',\n",
       " 'money_icon',\n",
       " 'money_mouth_face',\n",
       " 'mortar_board',\n",
       " 'movie_emoji',\n",
       " 'news',\n",
       " 'notes',\n",
       " 'office',\n",
       " 'oil',\n",
       " 'oil_drum',\n",
       " 'older_adult',\n",
       " 'older_man',\n",
       " 'open_book_emoji',\n",
       " 'optimism',\n",
       " 'percent',\n",
       " 'performance_emoji',\n",
       " 'person',\n",
       " 'person-icon',\n",
       " 'phone',\n",
       " 'pill',\n",
       " 'pointer',\n",
       " 'police',\n",
       " 'police_car_light',\n",
       " 'policeman',\n",
       " 'politics',\n",
       " 'prediction_emoji',\n",
       " 'price_trend',\n",
       " 'price_update',\n",
       " 'profit',\n",
       " 'profit_emoji',\n",
       " 'project',\n",
       " 'recycle',\n",
       " 'regional_performance_emoji',\n",
       " 'relieved_face',\n",
       " 'revenue',\n",
       " 'revenue_emoji',\n",
       " 'rising:_arrow',\n",
       " 'robot',\n",
       " 'robot_face',\n",
       " 'rocket',\n",
       " 'sad_face',\n",
       " 'safety',\n",
       " 'school',\n",
       " 'scroll',\n",
       " 'search',\n",
       " 'ship',\n",
       " 'shopping_cart',\n",
       " 'smartphone_with_encircled_digit',\n",
       " 'smith',\n",
       " 'soccer_ball',\n",
       " 'soon',\n",
       " 'speech_balloon',\n",
       " 'stadium',\n",
       " 'star2',\n",
       " 'stars',\n",
       " 'stats',\n",
       " 'stock-chart-emoji',\n",
       " 'stock_chart_with_upwards_trend',\n",
       " 'stock_down',\n",
       " 'stock_down_arrow',\n",
       " 'stock_graph',\n",
       " 'stock_icon',\n",
       " 'stock_price',\n",
       " 'stocks',\n",
       " 'store',\n",
       " 'subscription',\n",
       " 'sun_with_face',\n",
       " 'switch',\n",
       " 'syringe',\n",
       " 'tag',\n",
       " 'target',\n",
       " 'telescope',\n",
       " 'thinking_face',\n",
       " 'three_button_mouse',\n",
       " 'thumbs-up',\n",
       " 'thumbs_down',\n",
       " 'thumbs_up',\n",
       " 'thumbsup',\n",
       " 'ticket',\n",
       " 'tickets_emoji',\n",
       " 'trophy',\n",
       " 'truck',\n",
       " 'tv_media',\n",
       " 'uk_flag',\n",
       " 'unlock',\n",
       " 'upward-trend',\n",
       " 'upwards_chart',\n",
       " 'vote_emoji',\n",
       " 'warning_sign',\n",
       " 'world',\n",
       " 'world-globe',\n",
       " 'wrench',\n",
       " '⚠️',\n",
       " '🏠',\n",
       " '💰'}"
      ]
     },
     "execution_count": 17,
     "metadata": {},
     "output_type": "execute_result"
    }
   ],
   "source": [
    "set(Cleaner.missing_emoji_texts)"
   ]
  },
  {
   "cell_type": "code",
   "execution_count": null,
   "id": "8ad5c5d2-12fc-44ca-af2f-063bffd86e84",
   "metadata": {},
   "outputs": [
    {
     "data": {
      "text/plain": [
       "'gpt-4-responses-2024-Feb-19_cleaned.csv'"
      ]
     },
     "execution_count": 9,
     "metadata": {},
     "output_type": "execute_result"
    }
   ],
   "source": [
    "Cleaner.cleaned_path"
   ]
  },
  {
   "cell_type": "code",
   "execution_count": 10,
   "id": "fde14cbf-0fe1-4ca6-a9a9-86d45ac456d8",
   "metadata": {
    "tags": []
   },
   "outputs": [
    {
     "data": {
      "text/plain": [
       "[]"
      ]
     },
     "execution_count": 10,
     "metadata": {},
     "output_type": "execute_result"
    }
   ],
   "source": [
    "Cleaner.missing_emoji_texts"
   ]
  },
  {
   "cell_type": "code",
   "execution_count": 9,
   "id": "bafedf4b-0c41-4b47-95a8-b8e86dc5576d",
   "metadata": {
    "tags": []
   },
   "outputs": [],
   "source": [
    "pd.options.display.max_columns = 30"
   ]
  },
  {
   "cell_type": "code",
   "execution_count": 17,
   "id": "df384bd5-6c7b-4065-b9af-3a768235314a",
   "metadata": {
    "tags": []
   },
   "outputs": [],
   "source": [
    "k = Cleaner.attributes_df[Cleaner.attributes_df.is_valid_response == False].summary.values"
   ]
  },
  {
   "cell_type": "code",
   "execution_count": 18,
   "id": "8bda870c-73ab-46ac-bbd6-86f05b48b335",
   "metadata": {
    "tags": []
   },
   "outputs": [
    {
     "data": {
      "text/plain": [
       "array(['!💼 Business Need: Businesses require reliable asset management software (AMS) to efficiently manage and track their IT assets and reduce costs.\\n!🏆 Top Choice: ManageEngine AssetExplorer is the top pick for its advanced features, reasonable price, and comprehensive asset management capabilities.\\n!👍 Other Contenders: Other top choices include InvGate Assets for small to medium businesses with limited IT staff, and Ivanti IT Asset Management for custom reporting.'],\n",
       "      dtype=object)"
      ]
     },
     "execution_count": 18,
     "metadata": {},
     "output_type": "execute_result"
    }
   ],
   "source": [
    "k"
   ]
  },
  {
   "cell_type": "code",
   "execution_count": 13,
   "id": "6b0b70f1-0c23-4097-ade4-b0fdb265ab9b",
   "metadata": {
    "tags": []
   },
   "outputs": [
    {
     "data": {
      "text/plain": [
       "[{'emoji': 'property',\n",
       "  'label': 'Daily Launches',\n",
       "  'point': \"Mumbai's luxury real estate market saw a rise in daily property launches, from 100 in pre-COVID years to 150 units per day in H1 2023.\"},\n",
       " {'emoji': 'sales growth',\n",
       "  'label': 'Sales Surge',\n",
       "  'point': 'The city experienced a robust surge in luxury home sales, with a 50% increase in H1 2023 (533 units) compared to the same period in 2022 (419 units).'},\n",
       " {'emoji': 'forecast',\n",
       "  'label': 'Long-Term Stability',\n",
       "  'point': \"Mumbai's real estate sector is poised to maintain market growth and stability in 2024, owing to high demand in the luxury housing sector.\"},\n",
       " {'emoji': 'investment',\n",
       "  'label': 'Investment Opportunities',\n",
       "  'point': 'Projected growth of 5% in prime residential prices in 2024 presents potential opportunities for investors.'}]"
      ]
     },
     "execution_count": 13,
     "metadata": {},
     "output_type": "execute_result"
    }
   ],
   "source": [
    "Cleaner.convert_to_dicts(k)"
   ]
  },
  {
   "cell_type": "code",
   "execution_count": 14,
   "id": "619238c9-d481-4428-b3d5-42b3b32b3878",
   "metadata": {
    "tags": []
   },
   "outputs": [
    {
     "data": {
      "text/plain": [
       "\"!emoji! lawsuit news: Trump's lawyer won't present witnesses in the rape defamation trial launched by E. Jean Carroll; their key witness is unwell. Trump has denied the accusations!emoji! legal proceedings: The jury deliberations are to commence next week, with Carroll's lawyers set to rest their case this Thursday. \\n!emoji! Controversy: Carroll accuses Trump of rape in the 90s at a department store, which Trump denies, even confusing Carroll with his ex-wife in a photo, and a 2005 video of Trump's inappropriate comments about women is brought up.\""
      ]
     },
     "execution_count": 14,
     "metadata": {},
     "output_type": "execute_result"
    }
   ],
   "source": [
    "Cleaner.attributes_df[Cleaner.attributes_df.is_emoji_valid == False].iloc[1].improved_summary"
   ]
  },
  {
   "cell_type": "code",
   "execution_count": 18,
   "id": "a28ca2f2-b44e-4223-9eb6-7d45a2245c9c",
   "metadata": {
    "tags": []
   },
   "outputs": [],
   "source": [
    "invalid_emojis = []"
   ]
  },
  {
   "cell_type": "code",
   "execution_count": 23,
   "id": "040cec50-d1a7-41cf-b02d-cbd9ce37bfcc",
   "metadata": {
    "tags": []
   },
   "outputs": [
    {
     "data": {
      "text/plain": [
       "{'backward-arrow',\n",
       " 'bank',\n",
       " 'book',\n",
       " 'books',\n",
       " 'calendar',\n",
       " 'chart_decreasing',\n",
       " 'check',\n",
       " 'clock',\n",
       " 'dollar',\n",
       " 'downward-trend',\n",
       " 'earnings_emoji',\n",
       " 'earthquake',\n",
       " 'emoji',\n",
       " 'forecast',\n",
       " 'forecast_emoji',\n",
       " 'gavel',\n",
       " 'globe_with_meridians',\n",
       " 'history',\n",
       " 'increase',\n",
       " 'investment',\n",
       " 'legal',\n",
       " 'loss',\n",
       " 'man_raising_hand',\n",
       " 'market_cap',\n",
       " 'money-bag',\n",
       " 'money_bag',\n",
       " 'money_with_wings',\n",
       " 'moneybag',\n",
       " 'oil_derrick',\n",
       " 'pencil',\n",
       " 'pipeline_emoji',\n",
       " 'property',\n",
       " 'repeat',\n",
       " 'report',\n",
       " 'shrug',\n",
       " 'shuffle',\n",
       " 'stock',\n",
       " 'stock-market',\n",
       " 'stock_emoji',\n",
       " 'stock_info',\n",
       " 'stock_market',\n",
       " 'thumbs-down',\n",
       " 'trade_info',\n",
       " 'trend_upward',\n",
       " 'trends_emoji',\n",
       " 'warning'}"
      ]
     },
     "execution_count": 23,
     "metadata": {},
     "output_type": "execute_result"
    }
   ],
   "source": [
    "set(invalid_emojis)"
   ]
  },
  {
   "cell_type": "code",
   "execution_count": 17,
   "id": "5df320ea-dfac-4ddc-ab01-b5aeb721d2d0",
   "metadata": {
    "tags": []
   },
   "outputs": [
    {
     "data": {
      "text/plain": [
       "[{'emoji': 'oil_derrick',\n",
       "  'label': 'Major Mergers',\n",
       "  'point': 'ExxonMobil and Pioneer Natural Resources are merging in a $64.5bn deal, while Chevron is acquiring Hess for $60bn, signaling major shifts in the Western oil industry.'},\n",
       " {'emoji': 'globe_with_meridians',\n",
       "  'label': 'Western Challenge',\n",
       "  'point': 'These moves are part of an ambition to boost production in the Americas, posing a new challenge to OPEC+ and petrostate monopolies.'},\n",
       " {'emoji': 'money_with_wings',\n",
       "  'label': 'Profit Focus',\n",
       "  'point': \"These corporations aim for profitability in all market conditions, differentiating their strategy from OPEC+'s price regulation approach.\"}]"
      ]
     },
     "execution_count": 17,
     "metadata": {},
     "output_type": "execute_result"
    }
   ],
   "source": [
    "Cleaner.convert_to_dicts(Cleaner.attributes_df[Cleaner.attributes_df.is_emoji_valid == False].iloc[3].improved_summary)"
   ]
  },
  {
   "cell_type": "code",
   "execution_count": 9,
   "id": "a9065947-9461-404d-b65e-a294f6df6049",
   "metadata": {
    "tags": []
   },
   "outputs": [
    {
     "data": {
      "text/plain": [
       "'!🖥️ AMS Importance: Due to the escalating complexity of IT assets in businesses, an effective asset management software (AMS) is essential for cost reduction and efficient management.\\n!🥇 ManageEngine AssetExplorer: Stands out as the best overall AMS given its advanced features including unique relationship maps and support for physical and virtual assets.\\n!🔍 Other Key Players: InvGate Assets is preferred for small and medium businesses with limited IT staff, while Ivanti IT Asset Management excels for custom reporting.'"
      ]
     },
     "execution_count": 9,
     "metadata": {},
     "output_type": "execute_result"
    }
   ],
   "source": []
  },
  {
   "cell_type": "code",
   "execution_count": 78,
   "id": "40a76dd1-6de2-4ee4-9d3e-5ee457ddfafb",
   "metadata": {
    "tags": []
   },
   "outputs": [],
   "source": [
    "import pandas as pd"
   ]
  },
  {
   "cell_type": "code",
   "execution_count": 13,
   "id": "0435f097-90da-40e6-9459-b8c34d37c25a",
   "metadata": {
    "tags": []
   },
   "outputs": [],
   "source": [
    "df = pd.read_csv('gpt-4-responses-2024-Feb-19.csv', header=None)\n",
    "df = df.drop(columns = {0, 8})\n",
    "df = df.rename(columns = {1: 'article_id', 2: 'system_prompt', 3: 'full_content', 4: 'model', 5: 'attributes', 6: 'input_tokens', 7: 'output_tokens'})"
   ]
  },
  {
   "cell_type": "code",
   "execution_count": 14,
   "id": "7a41114d-e786-4365-a532-d14c9aafdc7d",
   "metadata": {
    "tags": []
   },
   "outputs": [
    {
     "data": {
      "text/html": [
       "<div>\n",
       "<style scoped>\n",
       "    .dataframe tbody tr th:only-of-type {\n",
       "        vertical-align: middle;\n",
       "    }\n",
       "\n",
       "    .dataframe tbody tr th {\n",
       "        vertical-align: top;\n",
       "    }\n",
       "\n",
       "    .dataframe thead th {\n",
       "        text-align: right;\n",
       "    }\n",
       "</style>\n",
       "<table border=\"1\" class=\"dataframe\">\n",
       "  <thead>\n",
       "    <tr style=\"text-align: right;\">\n",
       "      <th></th>\n",
       "      <th>article_id</th>\n",
       "      <th>system_prompt</th>\n",
       "      <th>full_content</th>\n",
       "      <th>model</th>\n",
       "      <th>attributes</th>\n",
       "      <th>input_tokens</th>\n",
       "      <th>output_tokens</th>\n",
       "    </tr>\n",
       "  </thead>\n",
       "  <tbody>\n",
       "    <tr>\n",
       "      <th>0</th>\n",
       "      <td>6555cbe64b13023f934a2b24</td>\n",
       "      <td>You are an expert chief editor for a leading I...</td>\n",
       "      <td>headline: Wake Up Call: Nifty 50 looks to cont...</td>\n",
       "      <td>gpt-4-0613</td>\n",
       "      <td>{\"summary\": \"!\\ud83e\\uddd0! Key Points: US Fed...</td>\n",
       "      <td>1390</td>\n",
       "      <td>464</td>\n",
       "    </tr>\n",
       "    <tr>\n",
       "      <th>1</th>\n",
       "      <td>6555cb2f4b13023f9349af27</td>\n",
       "      <td>You are an expert chief editor for a leading I...</td>\n",
       "      <td>headline: Supreme Court decision on student lo...</td>\n",
       "      <td>gpt-4-0613</td>\n",
       "      <td>{\"summary\": \"!\\u2696\\ufe0f! Decision Expectati...</td>\n",
       "      <td>1728</td>\n",
       "      <td>511</td>\n",
       "    </tr>\n",
       "    <tr>\n",
       "      <th>2</th>\n",
       "      <td>6555c7f34b13023f9348f1e7</td>\n",
       "      <td>You are an expert chief editor for a leading I...</td>\n",
       "      <td>headline: The 6 Best Asset Management Software...</td>\n",
       "      <td>gpt-4-0613</td>\n",
       "      <td>{\"summary\": \"!\\ud83d\\udcbc Business Need: Busi...</td>\n",
       "      <td>2432</td>\n",
       "      <td>554</td>\n",
       "    </tr>\n",
       "    <tr>\n",
       "      <th>3</th>\n",
       "      <td>65b1cee36391ac19baa87ba2</td>\n",
       "      <td>You are an expert chief editor for a leading I...</td>\n",
       "      <td>headline: Tata Steel shareholders meet today; ...</td>\n",
       "      <td>gpt-4-0613</td>\n",
       "      <td>{\"summary\": \"!\\ud83d\\udcc5! Event Date: Tata S...</td>\n",
       "      <td>2432</td>\n",
       "      <td>662</td>\n",
       "    </tr>\n",
       "    <tr>\n",
       "      <th>4</th>\n",
       "      <td>658a41db683f430d81566a67</td>\n",
       "      <td>You are an expert chief editor for a leading I...</td>\n",
       "      <td>headline: What Does it Mean to Use Technical D...</td>\n",
       "      <td>gpt-4-0613</td>\n",
       "      <td>{\"summary\": \"!\\ud83d\\udca1! Divergence Overvie...</td>\n",
       "      <td>1382</td>\n",
       "      <td>651</td>\n",
       "    </tr>\n",
       "    <tr>\n",
       "      <th>...</th>\n",
       "      <td>...</td>\n",
       "      <td>...</td>\n",
       "      <td>...</td>\n",
       "      <td>...</td>\n",
       "      <td>...</td>\n",
       "      <td>...</td>\n",
       "      <td>...</td>\n",
       "    </tr>\n",
       "    <tr>\n",
       "      <th>124</th>\n",
       "      <td>6555bed84b13023f9348c58d</td>\n",
       "      <td>You are an expert chief editor for a leading I...</td>\n",
       "      <td>headline: LANDBANK approves loans worth over P...</td>\n",
       "      <td>gpt-4-0613</td>\n",
       "      <td>{\"summary\": \"!\\ud83d\\udc16! Hog Repopulation: ...</td>\n",
       "      <td>1212</td>\n",
       "      <td>525</td>\n",
       "    </tr>\n",
       "    <tr>\n",
       "      <th>125</th>\n",
       "      <td>65d0213dabb31841109d0518</td>\n",
       "      <td>You are an expert chief editor for a leading I...</td>\n",
       "      <td>headline: Shikhar Consultants reports standalo...</td>\n",
       "      <td>gpt-4-0613</td>\n",
       "      <td>{\"summary\": \"!\\ud83d\\udcb8! Financial report: ...</td>\n",
       "      <td>1010</td>\n",
       "      <td>549</td>\n",
       "    </tr>\n",
       "    <tr>\n",
       "      <th>126</th>\n",
       "      <td>652fc89a1e5cc42b1b13a006</td>\n",
       "      <td>You are an expert chief editor for a leading I...</td>\n",
       "      <td>headline: Guide for Ghaziabad Commercial Real ...</td>\n",
       "      <td>gpt-4-0613</td>\n",
       "      <td>{\"summary\": \"!\\ud83c\\udfd8\\ufe0f! Investment G...</td>\n",
       "      <td>2429</td>\n",
       "      <td>744</td>\n",
       "    </tr>\n",
       "    <tr>\n",
       "      <th>127</th>\n",
       "      <td>6555c2d44b13023f9348d2fb</td>\n",
       "      <td>You are an expert chief editor for a leading I...</td>\n",
       "      <td>headline: Thailand's monarchy looms over battl...</td>\n",
       "      <td>gpt-4-0613</td>\n",
       "      <td>{\"summary\": \"!\\ud83d\\udc51! Monarchy's Influen...</td>\n",
       "      <td>2075</td>\n",
       "      <td>548</td>\n",
       "    </tr>\n",
       "    <tr>\n",
       "      <th>128</th>\n",
       "      <td>65316a681e5cc42b1b13dc29</td>\n",
       "      <td>You are an expert chief editor for a leading I...</td>\n",
       "      <td>headline: D2C brands behind 84% of all objecti...</td>\n",
       "      <td>gpt-4-0613</td>\n",
       "      <td>{\"summary\": \"!\\ud83d\\udc44! Ad violations: Acc...</td>\n",
       "      <td>1601</td>\n",
       "      <td>607</td>\n",
       "    </tr>\n",
       "  </tbody>\n",
       "</table>\n",
       "<p>129 rows × 7 columns</p>\n",
       "</div>"
      ],
      "text/plain": [
       "                   article_id  \\\n",
       "0    6555cbe64b13023f934a2b24   \n",
       "1    6555cb2f4b13023f9349af27   \n",
       "2    6555c7f34b13023f9348f1e7   \n",
       "3    65b1cee36391ac19baa87ba2   \n",
       "4    658a41db683f430d81566a67   \n",
       "..                        ...   \n",
       "124  6555bed84b13023f9348c58d   \n",
       "125  65d0213dabb31841109d0518   \n",
       "126  652fc89a1e5cc42b1b13a006   \n",
       "127  6555c2d44b13023f9348d2fb   \n",
       "128  65316a681e5cc42b1b13dc29   \n",
       "\n",
       "                                         system_prompt  \\\n",
       "0    You are an expert chief editor for a leading I...   \n",
       "1    You are an expert chief editor for a leading I...   \n",
       "2    You are an expert chief editor for a leading I...   \n",
       "3    You are an expert chief editor for a leading I...   \n",
       "4    You are an expert chief editor for a leading I...   \n",
       "..                                                 ...   \n",
       "124  You are an expert chief editor for a leading I...   \n",
       "125  You are an expert chief editor for a leading I...   \n",
       "126  You are an expert chief editor for a leading I...   \n",
       "127  You are an expert chief editor for a leading I...   \n",
       "128  You are an expert chief editor for a leading I...   \n",
       "\n",
       "                                          full_content       model  \\\n",
       "0    headline: Wake Up Call: Nifty 50 looks to cont...  gpt-4-0613   \n",
       "1    headline: Supreme Court decision on student lo...  gpt-4-0613   \n",
       "2    headline: The 6 Best Asset Management Software...  gpt-4-0613   \n",
       "3    headline: Tata Steel shareholders meet today; ...  gpt-4-0613   \n",
       "4    headline: What Does it Mean to Use Technical D...  gpt-4-0613   \n",
       "..                                                 ...         ...   \n",
       "124  headline: LANDBANK approves loans worth over P...  gpt-4-0613   \n",
       "125  headline: Shikhar Consultants reports standalo...  gpt-4-0613   \n",
       "126  headline: Guide for Ghaziabad Commercial Real ...  gpt-4-0613   \n",
       "127  headline: Thailand's monarchy looms over battl...  gpt-4-0613   \n",
       "128  headline: D2C brands behind 84% of all objecti...  gpt-4-0613   \n",
       "\n",
       "                                            attributes  input_tokens  \\\n",
       "0    {\"summary\": \"!\\ud83e\\uddd0! Key Points: US Fed...          1390   \n",
       "1    {\"summary\": \"!\\u2696\\ufe0f! Decision Expectati...          1728   \n",
       "2    {\"summary\": \"!\\ud83d\\udcbc Business Need: Busi...          2432   \n",
       "3    {\"summary\": \"!\\ud83d\\udcc5! Event Date: Tata S...          2432   \n",
       "4    {\"summary\": \"!\\ud83d\\udca1! Divergence Overvie...          1382   \n",
       "..                                                 ...           ...   \n",
       "124  {\"summary\": \"!\\ud83d\\udc16! Hog Repopulation: ...          1212   \n",
       "125  {\"summary\": \"!\\ud83d\\udcb8! Financial report: ...          1010   \n",
       "126  {\"summary\": \"!\\ud83c\\udfd8\\ufe0f! Investment G...          2429   \n",
       "127  {\"summary\": \"!\\ud83d\\udc51! Monarchy's Influen...          2075   \n",
       "128  {\"summary\": \"!\\ud83d\\udc44! Ad violations: Acc...          1601   \n",
       "\n",
       "     output_tokens  \n",
       "0              464  \n",
       "1              511  \n",
       "2              554  \n",
       "3              662  \n",
       "4              651  \n",
       "..             ...  \n",
       "124            525  \n",
       "125            549  \n",
       "126            744  \n",
       "127            548  \n",
       "128            607  \n",
       "\n",
       "[129 rows x 7 columns]"
      ]
     },
     "execution_count": 14,
     "metadata": {},
     "output_type": "execute_result"
    }
   ],
   "source": [
    "df"
   ]
  },
  {
   "cell_type": "code",
   "execution_count": 16,
   "id": "e2780bad-deb9-4675-b865-61d132f0fec0",
   "metadata": {
    "tags": []
   },
   "outputs": [],
   "source": [
    "import json"
   ]
  },
  {
   "cell_type": "code",
   "execution_count": 29,
   "id": "c4cd79b3-445c-43d8-a60e-82ab9217a4a8",
   "metadata": {
    "tags": []
   },
   "outputs": [],
   "source": [
    "from copy import deepcopy"
   ]
  },
  {
   "cell_type": "code",
   "execution_count": 33,
   "id": "38fbd87f-c998-48ef-b428-2ce286e6db36",
   "metadata": {
    "tags": []
   },
   "outputs": [],
   "source": [
    "all_attributes = []\n",
    "for row in df.itertuples():\n",
    "    cur_att = json.loads(deepcopy(row.attributes))\n",
    "    cur_att['article_id'] = row.article_id\n",
    "    all_attributes.append(cur_att)"
   ]
  },
  {
   "cell_type": "code",
   "execution_count": 35,
   "id": "88d4b351-8267-41a6-bd54-80b72a171c0f",
   "metadata": {
    "tags": []
   },
   "outputs": [],
   "source": [
    "attributes_df = pd.DataFrame.from_records(all_attributes)"
   ]
  },
  {
   "cell_type": "code",
   "execution_count": 45,
   "id": "fc30e173-2520-4e0f-a65f-68accd6065b6",
   "metadata": {
    "tags": []
   },
   "outputs": [],
   "source": [
    "def fix_category(cat):\n",
    "    valid_cats = ['business', 'economic_policy', 'finance', 'irrelevant', 'personal_finance']\n",
    "    cat = cat.lower()\n",
    "    if cat in valid_cats:\n",
    "        return cat\n",
    "    else:\n",
    "        return None"
   ]
  },
  {
   "cell_type": "code",
   "execution_count": 46,
   "id": "13d27069-e52e-4220-bd22-d9c467f55a14",
   "metadata": {
    "tags": []
   },
   "outputs": [],
   "source": [
    "def fix_india_flag(india_flag):\n",
    "    valid_cats = ['indian', 'international']\n",
    "    cat = cat.lower()\n",
    "    if cat in valid_cats:\n",
    "        return cat\n",
    "    else:\n",
    "        return None"
   ]
  },
  {
   "cell_type": "code",
   "execution_count": 52,
   "id": "50109bae-fbec-4794-a713-9403f8f8062d",
   "metadata": {
    "tags": []
   },
   "outputs": [],
   "source": [
    "def fix_bool_flag(bool_flag):\n",
    "    trues = ['True', 'true', '1', 1, True]\n",
    "    falses = ['False', 'false', '0', 0, False]\n",
    "    if bool_flag in trues:\n",
    "        return True\n",
    "    elif bool_flag in falses:\n",
    "        return False\n",
    "    else:\n",
    "        return None"
   ]
  },
  {
   "cell_type": "code",
   "execution_count": 56,
   "id": "08431b95-36d6-4680-b98e-45b8a2f659f8",
   "metadata": {
    "tags": []
   },
   "outputs": [],
   "source": [
    "def fix_float(float_val):\n",
    "    try:\n",
    "        val = float(float_val)\n",
    "        return val\n",
    "    except:\n",
    "        return None"
   ]
  },
  {
   "cell_type": "code",
   "execution_count": 62,
   "id": "227e1f9e-9a2a-4f9c-a711-ea557c74a23c",
   "metadata": {
    "tags": []
   },
   "outputs": [],
   "source": [
    "def convert_to_dicts(s):\n",
    "    # Split the string into parts based on \"\\n\" to get each point\n",
    "    points = s.split(\"\\\\n\")\n",
    "    result = []\n",
    "\n",
    "    for point in points:\n",
    "        # Split each point into emoji and the rest based on the first \"!\"\n",
    "        emoji_split = point.split(\"!\", 2)\n",
    "        if len(emoji_split) < 3:\n",
    "            continue  # Skip if the format does not match expected\n",
    "        \n",
    "        emoji, rest = emoji_split[1], emoji_split[2]\n",
    "        # Split the rest into label and point based on the first \":\"\n",
    "        label_point_split = rest.split(\":\", 1)\n",
    "        if len(label_point_split) < 2:\n",
    "            continue  # Skip if the format does not match expected\n",
    "\n",
    "        label, point = label_point_split[0].strip(), label_point_split[1].strip()\n",
    "        # Append the result as a dict to the result list\n",
    "        result.append({\"emoji\": emoji, \"label\": label, \"point\": point})\n",
    "\n",
    "    return result"
   ]
  },
  {
   "cell_type": "code",
   "execution_count": 63,
   "id": "024cc832-814f-44d2-ab3e-3f535efee290",
   "metadata": {
    "tags": []
   },
   "outputs": [],
   "source": [
    "def validate_summary(summary):\n",
    "    summary_dict = convert_to_dicts(summary)\n",
    "    if summary_dict:\n",
    "        return True\n",
    "    else:\n",
    "        False"
   ]
  },
  {
   "cell_type": "code",
   "execution_count": 72,
   "id": "481089ae-f4e2-4eb0-81b8-d64e2475585b",
   "metadata": {
    "tags": []
   },
   "outputs": [],
   "source": [
    "def fix_article_type(article_type):\n",
    "    article_type = article_type.lower()\n",
    "    if article_type in ['fact', 'Fact', 'factual', 'announcement', 'news']:\n",
    "        return 'fact'\n",
    "    if article_type in ['research', 'forecast', 'investigation', 'analysis', 'review']:\n",
    "        return 'analysis'\n",
    "    if article_type in ['advice', 'opinion', 'interview', 'personal']:\n",
    "        return 'opinion'\n",
    "    if article_type in ['educational', 'education']:\n",
    "        return 'educational'\n",
    "    if article_type in ['sponsored', 'advertisement', 'promotion', 'ad']:\n",
    "        return 'promotion'\n",
    "    return None"
   ]
  },
  {
   "cell_type": "code",
   "execution_count": 74,
   "id": "3989816b-1fdc-472b-bf60-bc2877bf9d69",
   "metadata": {
    "tags": []
   },
   "outputs": [],
   "source": [
    "def fix_article_sentiment(sentiment):\n",
    "    sentiment = sentiment.lower()\n",
    "    if sentiment in ['bearish', 'bear']:\n",
    "        return 'bear'\n",
    "    if sentiment in ['bullish', 'bull']:\n",
    "        return 'bull'\n",
    "    if sentiment in ['na', 'neutral']:\n",
    "        return 'na'\n",
    "    return None"
   ]
  },
  {
   "cell_type": "code",
   "execution_count": 65,
   "id": "ec4e43c3-55e3-4c3c-9377-bae26d24a05c",
   "metadata": {
    "tags": []
   },
   "outputs": [
    {
     "data": {
      "text/plain": [
       "True"
      ]
     },
     "execution_count": 65,
     "metadata": {},
     "output_type": "execute_result"
    }
   ],
   "source": [
    "validate_summary(attributes_df.iloc[30]['improved_summary'])"
   ]
  },
  {
   "cell_type": "code",
   "execution_count": 67,
   "id": "7849f22b-fb4d-4e6b-a773-e751a6ac5eb4",
   "metadata": {
    "tags": []
   },
   "outputs": [
    {
     "data": {
      "text/plain": [
       "article_type\n",
       "Fact            1\n",
       "analysis       11\n",
       "educational    17\n",
       "fact           97\n",
       "opinion         2\n",
       "personal        1\n",
       "Name: article_type, dtype: int64"
      ]
     },
     "execution_count": 67,
     "metadata": {},
     "output_type": "execute_result"
    }
   ],
   "source": [
    "attributes_df.groupby('article_type')['article_type'].count()"
   ]
  },
  {
   "cell_type": "code",
   "execution_count": 85,
   "id": "511dde05-d82b-4f40-a007-47675c7805d6",
   "metadata": {
    "tags": []
   },
   "outputs": [],
   "source": [
    "x = '👄'"
   ]
  },
  {
   "cell_type": "code",
   "execution_count": 99,
   "id": "3e6e0ce1-dc00-43aa-a57d-3044295a41d1",
   "metadata": {
    "tags": []
   },
   "outputs": [],
   "source": [
    "y = 'book23iuy3y512-io/?()UY**PU%$#%U'"
   ]
  },
  {
   "cell_type": "code",
   "execution_count": null,
   "id": "a70f2d7a-24da-44a5-8090-b5dd9fa51d41",
   "metadata": {},
   "outputs": [],
   "source": []
  },
  {
   "cell_type": "code",
   "execution_count": 100,
   "id": "c38bf314-430f-4910-a574-5b04a4da0bd8",
   "metadata": {
    "tags": []
   },
   "outputs": [
    {
     "name": "stdout",
     "output_type": "stream",
     "text": [
      "98\n",
      "111\n",
      "111\n",
      "107\n",
      "50\n",
      "51\n",
      "105\n",
      "117\n",
      "121\n",
      "51\n",
      "121\n",
      "53\n",
      "49\n",
      "50\n",
      "45\n",
      "105\n",
      "111\n",
      "47\n",
      "63\n",
      "40\n",
      "41\n",
      "85\n",
      "89\n",
      "42\n",
      "42\n",
      "80\n",
      "85\n",
      "37\n",
      "36\n",
      "35\n",
      "37\n",
      "85\n"
     ]
    }
   ],
   "source": [
    "is_emoji = True\n",
    "for k in y:\n",
    "    print(ord(k))"
   ]
  },
  {
   "cell_type": "code",
   "execution_count": 96,
   "id": "e8ff87dc-3dc2-4b32-9799-b730d8ef5621",
   "metadata": {
    "tags": []
   },
   "outputs": [
    {
     "data": {
      "text/plain": [
       "0"
      ]
     },
     "execution_count": 96,
     "metadata": {},
     "output_type": "execute_result"
    }
   ],
   "source": [
    "is_emoji"
   ]
  },
  {
   "cell_type": "code",
   "execution_count": 88,
   "id": "02aad375-e8a4-418d-9d74-e6306303816c",
   "metadata": {
    "tags": []
   },
   "outputs": [
    {
     "ename": "TypeError",
     "evalue": "ord() expected a character, but string of length 4 found",
     "output_type": "error",
     "traceback": [
      "\u001b[0;31m---------------------------------------------------------------------------\u001b[0m",
      "\u001b[0;31mTypeError\u001b[0m                                 Traceback (most recent call last)",
      "Cell \u001b[0;32mIn[88], line 1\u001b[0m\n\u001b[0;32m----> 1\u001b[0m \u001b[38;5;28;43mord\u001b[39;49m\u001b[43m(\u001b[49m\u001b[38;5;124;43m'\u001b[39;49m\u001b[38;5;124;43mbody\u001b[39;49m\u001b[38;5;124;43m'\u001b[39;49m\u001b[43m)\u001b[49m\n",
      "\u001b[0;31mTypeError\u001b[0m: ord() expected a character, but string of length 4 found"
     ]
    }
   ],
   "source": [
    "ord('body')"
   ]
  },
  {
   "cell_type": "code",
   "execution_count": 86,
   "id": "dcb4a85d-8b43-4427-91e9-59bd713a9e6e",
   "metadata": {
    "tags": []
   },
   "outputs": [
    {
     "ename": "AttributeError",
     "evalue": "'str' object has no attribute 'decode'",
     "output_type": "error",
     "traceback": [
      "\u001b[0;31m---------------------------------------------------------------------------\u001b[0m",
      "\u001b[0;31mAttributeError\u001b[0m                            Traceback (most recent call last)",
      "Cell \u001b[0;32mIn[86], line 1\u001b[0m\n\u001b[0;32m----> 1\u001b[0m \u001b[43mx\u001b[49m\u001b[38;5;241;43m.\u001b[39;49m\u001b[43mdecode\u001b[49m(\u001b[38;5;124m'\u001b[39m\u001b[38;5;124mutf-8\u001b[39m\u001b[38;5;124m'\u001b[39m)\n",
      "\u001b[0;31mAttributeError\u001b[0m: 'str' object has no attribute 'decode'"
     ]
    }
   ],
   "source": [
    "x.decode('utf-8')"
   ]
  },
  {
   "cell_type": "code",
   "execution_count": 81,
   "id": "0e859f87-ab9b-472e-860d-97b190861b0d",
   "metadata": {
    "tags": []
   },
   "outputs": [
    {
     "data": {
      "text/plain": [
       "True"
      ]
     },
     "execution_count": 81,
     "metadata": {},
     "output_type": "execute_result"
    }
   ],
   "source": [
    "isinstance(x, str)"
   ]
  },
  {
   "cell_type": "code",
   "execution_count": 80,
   "id": "6dec5aef-5560-4e32-bb35-a813d3cfd1e0",
   "metadata": {
    "tags": []
   },
   "outputs": [
    {
     "data": {
      "text/plain": [
       "'\"\\\\ud83d\\\\udc44\"'"
      ]
     },
     "execution_count": 80,
     "metadata": {},
     "output_type": "execute_result"
    }
   ],
   "source": [
    "json.dumps(x)"
   ]
  },
  {
   "cell_type": "code",
   "execution_count": 77,
   "id": "4e304a09-f2d1-4a1b-8716-4c590aa6ed77",
   "metadata": {
    "scrolled": true,
    "tags": []
   },
   "outputs": [
    {
     "data": {
      "text/html": [
       "<div>\n",
       "<style scoped>\n",
       "    .dataframe tbody tr th:only-of-type {\n",
       "        vertical-align: middle;\n",
       "    }\n",
       "\n",
       "    .dataframe tbody tr th {\n",
       "        vertical-align: top;\n",
       "    }\n",
       "\n",
       "    .dataframe thead th {\n",
       "        text-align: right;\n",
       "    }\n",
       "</style>\n",
       "<table border=\"1\" class=\"dataframe\">\n",
       "  <thead>\n",
       "    <tr style=\"text-align: right;\">\n",
       "      <th></th>\n",
       "      <th>summary</th>\n",
       "      <th>summary_critique</th>\n",
       "      <th>improved_summary</th>\n",
       "      <th>top_queries</th>\n",
       "      <th>indian_or_international</th>\n",
       "      <th>business_or_financial_article</th>\n",
       "      <th>relevant_for_indians</th>\n",
       "      <th>category</th>\n",
       "      <th>article_interest_duration_evaluation</th>\n",
       "      <th>article_interest_duration</th>\n",
       "      <th>popularity_evaluation</th>\n",
       "      <th>popularity_evaluation_critique</th>\n",
       "      <th>final_reader_interest_score</th>\n",
       "      <th>final_headline_effectiveness_score</th>\n",
       "      <th>final_event_novelty_score</th>\n",
       "      <th>final_emotional_impact_score</th>\n",
       "      <th>improved_headline</th>\n",
       "      <th>article_type</th>\n",
       "      <th>article_sentiment</th>\n",
       "      <th>article_id</th>\n",
       "    </tr>\n",
       "  </thead>\n",
       "  <tbody>\n",
       "    <tr>\n",
       "      <th>0</th>\n",
       "      <td>!🧐! Key Points: US Fed takes a hawkish pause, ...</td>\n",
       "      <td>The summary captures all crucial details of th...</td>\n",
       "      <td>!📈! Market Overview: Nifty 50 stays strong, tr...</td>\n",
       "      <td>US Federal Reserve decisions; Nifty 50 perform...</td>\n",
       "      <td>indian</td>\n",
       "      <td>True</td>\n",
       "      <td>True</td>\n",
       "      <td>financial</td>\n",
       "      <td>The article's information would be of interest...</td>\n",
       "      <td>7</td>\n",
       "      <td>0.4</td>\n",
       "      <td>The popularity score adequately reflects the a...</td>\n",
       "      <td>0.75</td>\n",
       "      <td>0.8</td>\n",
       "      <td>0.6</td>\n",
       "      <td>0.5</td>\n",
       "      <td>Nifty Defies US Fed's Hawkish Pause, Trends Up...</td>\n",
       "      <td>fact</td>\n",
       "      <td>bullish</td>\n",
       "      <td>6555cbe64b13023f934a2b24</td>\n",
       "    </tr>\n",
       "    <tr>\n",
       "      <th>1</th>\n",
       "      <td>!⚖️! Decision Expectation: The Supreme Court d...</td>\n",
       "      <td>The summary covers major details, is readable ...</td>\n",
       "      <td>!⚖️! Ruling Due: Friday is the expected day fo...</td>\n",
       "      <td>Supreme Court decision on student loan forgive...</td>\n",
       "      <td>international</td>\n",
       "      <td>True</td>\n",
       "      <td>False</td>\n",
       "      <td>economic_policy</td>\n",
       "      <td>The article's information is relevant until th...</td>\n",
       "      <td>1</td>\n",
       "      <td>0.4</td>\n",
       "      <td>assigned score of 0.4 is fair considering the ...</td>\n",
       "      <td>0.6</td>\n",
       "      <td>0.5</td>\n",
       "      <td>0.4</td>\n",
       "      <td>0.4</td>\n",
       "      <td>Court's Verdict on Biden's Student Debt Cancel...</td>\n",
       "      <td>fact</td>\n",
       "      <td>NA</td>\n",
       "      <td>6555cb2f4b13023f9349af27</td>\n",
       "    </tr>\n",
       "    <tr>\n",
       "      <th>2</th>\n",
       "      <td>!💼 Business Need: Businesses require reliable ...</td>\n",
       "      <td>The summary is thorough and accurately reflect...</td>\n",
       "      <td>!🖥️ AMS Importance: Due to the escalating comp...</td>\n",
       "      <td>best asset management software; features of Ma...</td>\n",
       "      <td>international</td>\n",
       "      <td>True</td>\n",
       "      <td>True</td>\n",
       "      <td>business</td>\n",
       "      <td>The content of the article targeting specific ...</td>\n",
       "      <td>30</td>\n",
       "      <td>0.25</td>\n",
       "      <td>The article discusses a subject of interest fo...</td>\n",
       "      <td>0.3</td>\n",
       "      <td>0.4</td>\n",
       "      <td>0.2</td>\n",
       "      <td>0.1</td>\n",
       "      <td>Revolutionizing IT Infrastructure: 6 Top Asset...</td>\n",
       "      <td>analysis</td>\n",
       "      <td>NA</td>\n",
       "      <td>6555c7f34b13023f9348f1e7</td>\n",
       "    </tr>\n",
       "    <tr>\n",
       "      <th>3</th>\n",
       "      <td>!📅! Event Date: Tata Steel's shareholders' mee...</td>\n",
       "      <td>The summary provides a thorough briefing of th...</td>\n",
       "      <td>!🗓️! Shareholders Meeting: Tata Steel plans to...</td>\n",
       "      <td>Tata Steel shareholders meeting; Tata Steel me...</td>\n",
       "      <td>indian</td>\n",
       "      <td>True</td>\n",
       "      <td>True</td>\n",
       "      <td>business</td>\n",
       "      <td>The article's relevance may extend for a week ...</td>\n",
       "      <td>7</td>\n",
       "      <td>0.3</td>\n",
       "      <td>Given the importance of Tata Steel in India's ...</td>\n",
       "      <td>0.4</td>\n",
       "      <td>0.5</td>\n",
       "      <td>0.3</td>\n",
       "      <td>0.2</td>\n",
       "      <td>Tata Steel's Shareholder Action: Merger Talks ...</td>\n",
       "      <td>fact</td>\n",
       "      <td>bullish</td>\n",
       "      <td>65b1cee36391ac19baa87ba2</td>\n",
       "    </tr>\n",
       "    <tr>\n",
       "      <th>4</th>\n",
       "      <td>!💡! Divergence Overview: Technical divergence ...</td>\n",
       "      <td>The summary covers the main points in the cont...</td>\n",
       "      <td>!💡! Divergence Overview: Divergence, in techni...</td>\n",
       "      <td>What is technical divergence; Types of diverge...</td>\n",
       "      <td>international</td>\n",
       "      <td>True</td>\n",
       "      <td>True</td>\n",
       "      <td>financial</td>\n",
       "      <td>The information regarding divergence in techni...</td>\n",
       "      <td>-1</td>\n",
       "      <td>0.6</td>\n",
       "      <td>Considering the significant importance of the ...</td>\n",
       "      <td>0.7</td>\n",
       "      <td>0.6</td>\n",
       "      <td>0.4</td>\n",
       "      <td>0.3</td>\n",
       "      <td>Understanding Divergence: The Game-Changing St...</td>\n",
       "      <td>educational</td>\n",
       "      <td>NA</td>\n",
       "      <td>658a41db683f430d81566a67</td>\n",
       "    </tr>\n",
       "    <tr>\n",
       "      <th>...</th>\n",
       "      <td>...</td>\n",
       "      <td>...</td>\n",
       "      <td>...</td>\n",
       "      <td>...</td>\n",
       "      <td>...</td>\n",
       "      <td>...</td>\n",
       "      <td>...</td>\n",
       "      <td>...</td>\n",
       "      <td>...</td>\n",
       "      <td>...</td>\n",
       "      <td>...</td>\n",
       "      <td>...</td>\n",
       "      <td>...</td>\n",
       "      <td>...</td>\n",
       "      <td>...</td>\n",
       "      <td>...</td>\n",
       "      <td>...</td>\n",
       "      <td>...</td>\n",
       "      <td>...</td>\n",
       "      <td>...</td>\n",
       "    </tr>\n",
       "    <tr>\n",
       "      <th>124</th>\n",
       "      <td>!🐖! Hog Repopulation: LANDBANK of the Philippi...</td>\n",
       "      <td>The summary covers the essential details of th...</td>\n",
       "      <td>!🐖! Hog repopulation Progress: LANDBANK furnis...</td>\n",
       "      <td>LANDBANK; SWINE Lending Program; Hog repopulat...</td>\n",
       "      <td>international</td>\n",
       "      <td>True</td>\n",
       "      <td>False</td>\n",
       "      <td>business</td>\n",
       "      <td>The information in the article is likely to be...</td>\n",
       "      <td>7</td>\n",
       "      <td>0.3</td>\n",
       "      <td>The popularity estimate appears reasonable as ...</td>\n",
       "      <td>0.35</td>\n",
       "      <td>0.4</td>\n",
       "      <td>0.3</td>\n",
       "      <td>0.2</td>\n",
       "      <td>LANDBANK Boosts Hog Repopulation with P8.05B L...</td>\n",
       "      <td>fact</td>\n",
       "      <td>bullish</td>\n",
       "      <td>6555bed84b13023f9348c58d</td>\n",
       "    </tr>\n",
       "    <tr>\n",
       "      <th>125</th>\n",
       "      <td>!💸! Financial report: Shikhar Consultants repo...</td>\n",
       "      <td>The summary captures all the main points accur...</td>\n",
       "      <td>!💸! Financial report: Shikhar Consultants disc...</td>\n",
       "      <td>Shikhar Consultants net loss; Q4 2023 financia...</td>\n",
       "      <td>indian</td>\n",
       "      <td>True</td>\n",
       "      <td>True</td>\n",
       "      <td>financial</td>\n",
       "      <td>This is an update for the December 2023 quarte...</td>\n",
       "      <td>90</td>\n",
       "      <td>0.2</td>\n",
       "      <td>The popularity score seems to be fair consider...</td>\n",
       "      <td>0.1</td>\n",
       "      <td>0.3</td>\n",
       "      <td>0.2</td>\n",
       "      <td>0.1</td>\n",
       "      <td>Shikhar Consultants: Jump in Net Loss to Rs 0....</td>\n",
       "      <td>fact</td>\n",
       "      <td>bearish</td>\n",
       "      <td>65d0213dabb31841109d0518</td>\n",
       "    </tr>\n",
       "    <tr>\n",
       "      <th>126</th>\n",
       "      <td>!🏘️! Investment Guide: Ghaziabad presents prom...</td>\n",
       "      <td>The summary provided encapsulates the key poin...</td>\n",
       "      <td>!🏘️! Investment Guide: Ghaziabad provides seve...</td>\n",
       "      <td>commercial property investment in Ghaziabad; C...</td>\n",
       "      <td>indian</td>\n",
       "      <td>True</td>\n",
       "      <td>True</td>\n",
       "      <td>personal_finance</td>\n",
       "      <td>This article's details can be beneficial for a...</td>\n",
       "      <td>-1</td>\n",
       "      <td>0.35</td>\n",
       "      <td>The score seems appropriate as the article has...</td>\n",
       "      <td>0.7</td>\n",
       "      <td>0.6</td>\n",
       "      <td>0.3</td>\n",
       "      <td>0.2</td>\n",
       "      <td>Commercial Real Estate in Ghaziabad: A Lucrati...</td>\n",
       "      <td>educational</td>\n",
       "      <td>NA</td>\n",
       "      <td>652fc89a1e5cc42b1b13a006</td>\n",
       "    </tr>\n",
       "    <tr>\n",
       "      <th>127</th>\n",
       "      <td>!👑! Monarchy's Influence: Thailand's monarchy'...</td>\n",
       "      <td>The summary is thorough and doesn't miss any k...</td>\n",
       "      <td>!👑! Monarchy Vs Politics: Thailand's historica...</td>\n",
       "      <td>Thailand political crisis; Move Forward party ...</td>\n",
       "      <td>international</td>\n",
       "      <td>False</td>\n",
       "      <td>False</td>\n",
       "      <td>irrelevant</td>\n",
       "      <td>The information in the article would be of int...</td>\n",
       "      <td>7</td>\n",
       "      <td>0.3</td>\n",
       "      <td>Given the global interest in democracy and pol...</td>\n",
       "      <td>0.3</td>\n",
       "      <td>0.2</td>\n",
       "      <td>0.3</td>\n",
       "      <td>0.2</td>\n",
       "      <td>Thailand's Monarchy's Historical Legacy Forges...</td>\n",
       "      <td>fact</td>\n",
       "      <td>NA</td>\n",
       "      <td>6555c2d44b13023f9348d2fb</td>\n",
       "    </tr>\n",
       "    <tr>\n",
       "      <th>128</th>\n",
       "      <td>!👄! Ad violations: According to ASCI, personal...</td>\n",
       "      <td>The summary includes key details from the arti...</td>\n",
       "      <td>!👄! Personal Care Ad Violations: Personal care...</td>\n",
       "      <td>ASCI report 2023; objectionable ads in persona...</td>\n",
       "      <td>indian</td>\n",
       "      <td>True</td>\n",
       "      <td>True</td>\n",
       "      <td>business</td>\n",
       "      <td>The information in this article is likely to b...</td>\n",
       "      <td>14</td>\n",
       "      <td>0.35</td>\n",
       "      <td>The popularity score is fair as the article hi...</td>\n",
       "      <td>0.37</td>\n",
       "      <td>0.35</td>\n",
       "      <td>0.4</td>\n",
       "      <td>0.3</td>\n",
       "      <td>'Personal Care Brands Lead in Violation of Ad ...</td>\n",
       "      <td>fact</td>\n",
       "      <td>NA</td>\n",
       "      <td>65316a681e5cc42b1b13dc29</td>\n",
       "    </tr>\n",
       "  </tbody>\n",
       "</table>\n",
       "<p>129 rows × 20 columns</p>\n",
       "</div>"
      ],
      "text/plain": [
       "                                               summary  \\\n",
       "0    !🧐! Key Points: US Fed takes a hawkish pause, ...   \n",
       "1    !⚖️! Decision Expectation: The Supreme Court d...   \n",
       "2    !💼 Business Need: Businesses require reliable ...   \n",
       "3    !📅! Event Date: Tata Steel's shareholders' mee...   \n",
       "4    !💡! Divergence Overview: Technical divergence ...   \n",
       "..                                                 ...   \n",
       "124  !🐖! Hog Repopulation: LANDBANK of the Philippi...   \n",
       "125  !💸! Financial report: Shikhar Consultants repo...   \n",
       "126  !🏘️! Investment Guide: Ghaziabad presents prom...   \n",
       "127  !👑! Monarchy's Influence: Thailand's monarchy'...   \n",
       "128  !👄! Ad violations: According to ASCI, personal...   \n",
       "\n",
       "                                      summary_critique  \\\n",
       "0    The summary captures all crucial details of th...   \n",
       "1    The summary covers major details, is readable ...   \n",
       "2    The summary is thorough and accurately reflect...   \n",
       "3    The summary provides a thorough briefing of th...   \n",
       "4    The summary covers the main points in the cont...   \n",
       "..                                                 ...   \n",
       "124  The summary covers the essential details of th...   \n",
       "125  The summary captures all the main points accur...   \n",
       "126  The summary provided encapsulates the key poin...   \n",
       "127  The summary is thorough and doesn't miss any k...   \n",
       "128  The summary includes key details from the arti...   \n",
       "\n",
       "                                      improved_summary  \\\n",
       "0    !📈! Market Overview: Nifty 50 stays strong, tr...   \n",
       "1    !⚖️! Ruling Due: Friday is the expected day fo...   \n",
       "2    !🖥️ AMS Importance: Due to the escalating comp...   \n",
       "3    !🗓️! Shareholders Meeting: Tata Steel plans to...   \n",
       "4    !💡! Divergence Overview: Divergence, in techni...   \n",
       "..                                                 ...   \n",
       "124  !🐖! Hog repopulation Progress: LANDBANK furnis...   \n",
       "125  !💸! Financial report: Shikhar Consultants disc...   \n",
       "126  !🏘️! Investment Guide: Ghaziabad provides seve...   \n",
       "127  !👑! Monarchy Vs Politics: Thailand's historica...   \n",
       "128  !👄! Personal Care Ad Violations: Personal care...   \n",
       "\n",
       "                                           top_queries  \\\n",
       "0    US Federal Reserve decisions; Nifty 50 perform...   \n",
       "1    Supreme Court decision on student loan forgive...   \n",
       "2    best asset management software; features of Ma...   \n",
       "3    Tata Steel shareholders meeting; Tata Steel me...   \n",
       "4    What is technical divergence; Types of diverge...   \n",
       "..                                                 ...   \n",
       "124  LANDBANK; SWINE Lending Program; Hog repopulat...   \n",
       "125  Shikhar Consultants net loss; Q4 2023 financia...   \n",
       "126  commercial property investment in Ghaziabad; C...   \n",
       "127  Thailand political crisis; Move Forward party ...   \n",
       "128  ASCI report 2023; objectionable ads in persona...   \n",
       "\n",
       "    indian_or_international business_or_financial_article  \\\n",
       "0                    indian                          True   \n",
       "1             international                          True   \n",
       "2             international                          True   \n",
       "3                    indian                          True   \n",
       "4             international                          True   \n",
       "..                      ...                           ...   \n",
       "124           international                          True   \n",
       "125                  indian                          True   \n",
       "126                  indian                          True   \n",
       "127           international                         False   \n",
       "128                  indian                          True   \n",
       "\n",
       "    relevant_for_indians          category  \\\n",
       "0                   True         financial   \n",
       "1                  False   economic_policy   \n",
       "2                   True          business   \n",
       "3                   True          business   \n",
       "4                   True         financial   \n",
       "..                   ...               ...   \n",
       "124                False          business   \n",
       "125                 True         financial   \n",
       "126                 True  personal_finance   \n",
       "127                False        irrelevant   \n",
       "128                 True          business   \n",
       "\n",
       "                  article_interest_duration_evaluation  \\\n",
       "0    The article's information would be of interest...   \n",
       "1    The article's information is relevant until th...   \n",
       "2    The content of the article targeting specific ...   \n",
       "3    The article's relevance may extend for a week ...   \n",
       "4    The information regarding divergence in techni...   \n",
       "..                                                 ...   \n",
       "124  The information in the article is likely to be...   \n",
       "125  This is an update for the December 2023 quarte...   \n",
       "126  This article's details can be beneficial for a...   \n",
       "127  The information in the article would be of int...   \n",
       "128  The information in this article is likely to b...   \n",
       "\n",
       "    article_interest_duration popularity_evaluation  \\\n",
       "0                           7                   0.4   \n",
       "1                           1                   0.4   \n",
       "2                          30                  0.25   \n",
       "3                           7                   0.3   \n",
       "4                          -1                   0.6   \n",
       "..                        ...                   ...   \n",
       "124                         7                   0.3   \n",
       "125                        90                   0.2   \n",
       "126                        -1                  0.35   \n",
       "127                         7                   0.3   \n",
       "128                        14                  0.35   \n",
       "\n",
       "                        popularity_evaluation_critique  \\\n",
       "0    The popularity score adequately reflects the a...   \n",
       "1    assigned score of 0.4 is fair considering the ...   \n",
       "2    The article discusses a subject of interest fo...   \n",
       "3    Given the importance of Tata Steel in India's ...   \n",
       "4    Considering the significant importance of the ...   \n",
       "..                                                 ...   \n",
       "124  The popularity estimate appears reasonable as ...   \n",
       "125  The popularity score seems to be fair consider...   \n",
       "126  The score seems appropriate as the article has...   \n",
       "127  Given the global interest in democracy and pol...   \n",
       "128  The popularity score is fair as the article hi...   \n",
       "\n",
       "    final_reader_interest_score final_headline_effectiveness_score  \\\n",
       "0                          0.75                                0.8   \n",
       "1                           0.6                                0.5   \n",
       "2                           0.3                                0.4   \n",
       "3                           0.4                                0.5   \n",
       "4                           0.7                                0.6   \n",
       "..                          ...                                ...   \n",
       "124                        0.35                                0.4   \n",
       "125                         0.1                                0.3   \n",
       "126                         0.7                                0.6   \n",
       "127                         0.3                                0.2   \n",
       "128                        0.37                               0.35   \n",
       "\n",
       "    final_event_novelty_score final_emotional_impact_score  \\\n",
       "0                         0.6                          0.5   \n",
       "1                         0.4                          0.4   \n",
       "2                         0.2                          0.1   \n",
       "3                         0.3                          0.2   \n",
       "4                         0.4                          0.3   \n",
       "..                        ...                          ...   \n",
       "124                       0.3                          0.2   \n",
       "125                       0.2                          0.1   \n",
       "126                       0.3                          0.2   \n",
       "127                       0.3                          0.2   \n",
       "128                       0.4                          0.3   \n",
       "\n",
       "                                     improved_headline article_type  \\\n",
       "0    Nifty Defies US Fed's Hawkish Pause, Trends Up...         fact   \n",
       "1    Court's Verdict on Biden's Student Debt Cancel...         fact   \n",
       "2    Revolutionizing IT Infrastructure: 6 Top Asset...     analysis   \n",
       "3    Tata Steel's Shareholder Action: Merger Talks ...         fact   \n",
       "4    Understanding Divergence: The Game-Changing St...  educational   \n",
       "..                                                 ...          ...   \n",
       "124  LANDBANK Boosts Hog Repopulation with P8.05B L...         fact   \n",
       "125  Shikhar Consultants: Jump in Net Loss to Rs 0....         fact   \n",
       "126  Commercial Real Estate in Ghaziabad: A Lucrati...  educational   \n",
       "127  Thailand's Monarchy's Historical Legacy Forges...         fact   \n",
       "128  'Personal Care Brands Lead in Violation of Ad ...         fact   \n",
       "\n",
       "    article_sentiment                article_id  \n",
       "0             bullish  6555cbe64b13023f934a2b24  \n",
       "1                  NA  6555cb2f4b13023f9349af27  \n",
       "2                  NA  6555c7f34b13023f9348f1e7  \n",
       "3             bullish  65b1cee36391ac19baa87ba2  \n",
       "4                  NA  658a41db683f430d81566a67  \n",
       "..                ...                       ...  \n",
       "124           bullish  6555bed84b13023f9348c58d  \n",
       "125           bearish  65d0213dabb31841109d0518  \n",
       "126                NA  652fc89a1e5cc42b1b13a006  \n",
       "127                NA  6555c2d44b13023f9348d2fb  \n",
       "128                NA  65316a681e5cc42b1b13dc29  \n",
       "\n",
       "[129 rows x 20 columns]"
      ]
     },
     "execution_count": 77,
     "metadata": {},
     "output_type": "execute_result"
    }
   ],
   "source": [
    "attributes_df"
   ]
  },
  {
   "cell_type": "code",
   "execution_count": 76,
   "id": "f565dab5-bf4c-4231-811c-e49c0d9a7e6a",
   "metadata": {
    "tags": []
   },
   "outputs": [
    {
     "data": {
      "text/plain": [
       "'US Federal Reserve decisions; Nifty 50 performance; Foreign institutional investors in India; Domestic institutional investors selling; Future interest rate hikes'"
      ]
     },
     "execution_count": 76,
     "metadata": {},
     "output_type": "execute_result"
    }
   ],
   "source": [
    "attributes_df.iloc[0].top_queries"
   ]
  },
  {
   "cell_type": "code",
   "execution_count": 71,
   "id": "4ab31723-a3cd-416e-8283-b337f733a732",
   "metadata": {
    "tags": []
   },
   "outputs": [
    {
     "data": {
      "text/html": [
       "<div>\n",
       "<style scoped>\n",
       "    .dataframe tbody tr th:only-of-type {\n",
       "        vertical-align: middle;\n",
       "    }\n",
       "\n",
       "    .dataframe tbody tr th {\n",
       "        vertical-align: top;\n",
       "    }\n",
       "\n",
       "    .dataframe thead th {\n",
       "        text-align: right;\n",
       "    }\n",
       "</style>\n",
       "<table border=\"1\" class=\"dataframe\">\n",
       "  <thead>\n",
       "    <tr style=\"text-align: right;\">\n",
       "      <th></th>\n",
       "      <th>summary</th>\n",
       "      <th>summary_critique</th>\n",
       "      <th>improved_summary</th>\n",
       "      <th>top_queries</th>\n",
       "      <th>indian_or_international</th>\n",
       "      <th>business_or_financial_article</th>\n",
       "      <th>relevant_for_indians</th>\n",
       "      <th>category</th>\n",
       "      <th>article_interest_duration_evaluation</th>\n",
       "      <th>article_interest_duration</th>\n",
       "      <th>popularity_evaluation</th>\n",
       "      <th>popularity_evaluation_critique</th>\n",
       "      <th>final_reader_interest_score</th>\n",
       "      <th>final_headline_effectiveness_score</th>\n",
       "      <th>final_event_novelty_score</th>\n",
       "      <th>final_emotional_impact_score</th>\n",
       "      <th>improved_headline</th>\n",
       "      <th>article_type</th>\n",
       "      <th>article_sentiment</th>\n",
       "      <th>article_id</th>\n",
       "    </tr>\n",
       "  </thead>\n",
       "  <tbody>\n",
       "    <tr>\n",
       "      <th>47</th>\n",
       "      <td>!🏞️! Trail Discovery: A native of Milwaukee di...</td>\n",
       "      <td>The summary captures essential article details...</td>\n",
       "      <td>!🏞️! Trail Discovery: The author, a Milwaukee ...</td>\n",
       "      <td>Seven Bridges Trail; Grant Park; Milwaukee hik...</td>\n",
       "      <td>international</td>\n",
       "      <td>False</td>\n",
       "      <td>False</td>\n",
       "      <td>irrelevant</td>\n",
       "      <td>The article is a personal story of the author'...</td>\n",
       "      <td>-1</td>\n",
       "      <td>0.3</td>\n",
       "      <td>The score seems suitable, considering the arti...</td>\n",
       "      <td>0.3</td>\n",
       "      <td>0.2</td>\n",
       "      <td>0.15</td>\n",
       "      <td>0.25</td>\n",
       "      <td>Rediscovering Milwaukee: A Native's First Expe...</td>\n",
       "      <td>personal</td>\n",
       "      <td>NA</td>\n",
       "      <td>65a7c1b31c9bc64bb8ae4775</td>\n",
       "    </tr>\n",
       "  </tbody>\n",
       "</table>\n",
       "</div>"
      ],
      "text/plain": [
       "                                              summary  \\\n",
       "47  !🏞️! Trail Discovery: A native of Milwaukee di...   \n",
       "\n",
       "                                     summary_critique  \\\n",
       "47  The summary captures essential article details...   \n",
       "\n",
       "                                     improved_summary  \\\n",
       "47  !🏞️! Trail Discovery: The author, a Milwaukee ...   \n",
       "\n",
       "                                          top_queries indian_or_international  \\\n",
       "47  Seven Bridges Trail; Grant Park; Milwaukee hik...           international   \n",
       "\n",
       "   business_or_financial_article relevant_for_indians    category  \\\n",
       "47                         False                False  irrelevant   \n",
       "\n",
       "                 article_interest_duration_evaluation  \\\n",
       "47  The article is a personal story of the author'...   \n",
       "\n",
       "   article_interest_duration popularity_evaluation  \\\n",
       "47                        -1                   0.3   \n",
       "\n",
       "                       popularity_evaluation_critique  \\\n",
       "47  The score seems suitable, considering the arti...   \n",
       "\n",
       "   final_reader_interest_score final_headline_effectiveness_score  \\\n",
       "47                         0.3                                0.2   \n",
       "\n",
       "   final_event_novelty_score final_emotional_impact_score  \\\n",
       "47                      0.15                         0.25   \n",
       "\n",
       "                                    improved_headline article_type  \\\n",
       "47  Rediscovering Milwaukee: A Native's First Expe...     personal   \n",
       "\n",
       "   article_sentiment                article_id  \n",
       "47                NA  65a7c1b31c9bc64bb8ae4775  "
      ]
     },
     "execution_count": 71,
     "metadata": {},
     "output_type": "execute_result"
    }
   ],
   "source": [
    "attributes_df[attributes_df.article_type == 'personal']"
   ]
  },
  {
   "cell_type": "code",
   "execution_count": 69,
   "id": "3cab1b45-9392-44f8-aaa2-c493ce316acd",
   "metadata": {
    "tags": []
   },
   "outputs": [
    {
     "data": {
      "text/plain": [
       "article_sentiment\n",
       "Bearish     1\n",
       "NA         73\n",
       "bearish    18\n",
       "bullish    35\n",
       "neutral     2\n",
       "Name: article_type, dtype: int64"
      ]
     },
     "execution_count": 69,
     "metadata": {},
     "output_type": "execute_result"
    }
   ],
   "source": [
    "attributes_df.groupby('article_sentiment')['article_type'].count()"
   ]
  },
  {
   "cell_type": "code",
   "execution_count": 37,
   "id": "9aab2b4b-231a-445e-909c-9716802baedf",
   "metadata": {
    "tags": []
   },
   "outputs": [
    {
     "data": {
      "text/plain": [
       "category\n",
       "business            56\n",
       "economic_policy     10\n",
       "financial           45\n",
       "irrelevant          12\n",
       "personal_finance     6\n",
       "Name: category, dtype: int64"
      ]
     },
     "execution_count": 37,
     "metadata": {},
     "output_type": "execute_result"
    }
   ],
   "source": [
    "attributes_df.groupby('category')['category'].count()"
   ]
  },
  {
   "cell_type": "code",
   "execution_count": 39,
   "id": "83f844f5-1a65-402f-a770-43769d9c1744",
   "metadata": {
    "tags": []
   },
   "outputs": [
    {
     "data": {
      "text/plain": [
       "indian_or_international\n",
       "International     2\n",
       "indian           67\n",
       "international    60\n",
       "Name: category, dtype: int64"
      ]
     },
     "execution_count": 39,
     "metadata": {},
     "output_type": "execute_result"
    }
   ],
   "source": [
    "attributes_df.groupby('indian_or_international')['category'].count()"
   ]
  },
  {
   "cell_type": "code",
   "execution_count": 40,
   "id": "8b17c1c2-df5a-456c-90d4-d9abc5055acc",
   "metadata": {
    "tags": []
   },
   "outputs": [
    {
     "data": {
      "text/plain": [
       "business_or_financial_article\n",
       "False     10\n",
       "True     110\n",
       "False      3\n",
       "True       6\n",
       "Name: category, dtype: int64"
      ]
     },
     "execution_count": 40,
     "metadata": {},
     "output_type": "execute_result"
    }
   ],
   "source": [
    "attributes_df.groupby('business_or_financial_article')['category'].count()"
   ]
  },
  {
   "cell_type": "code",
   "execution_count": 44,
   "id": "a7bd9560-4ec8-4e88-9d15-7095dc5a6cee",
   "metadata": {
    "tags": []
   },
   "outputs": [
    {
     "data": {
      "text/plain": [
       "final_headline_effectiveness_score\n",
       "0.1      1\n",
       "0.2      2\n",
       "0.3     10\n",
       "0.34     1\n",
       "0.35     3\n",
       "0.4     11\n",
       "0.45     4\n",
       "0.48     1\n",
       "0.5      6\n",
       "0.6     20\n",
       "0.7     18\n",
       "0.75     1\n",
       "0.8      3\n",
       "0.2      1\n",
       "0.3      7\n",
       "0.33     2\n",
       "0.35     3\n",
       "0.38     1\n",
       "0.4     10\n",
       "0.45     1\n",
       "0.5      6\n",
       "0.6      7\n",
       "0.7      8\n",
       "0.8      1\n",
       "0.9      1\n",
       "Name: category, dtype: int64"
      ]
     },
     "execution_count": 44,
     "metadata": {},
     "output_type": "execute_result"
    }
   ],
   "source": [
    "attributes_df.groupby('final_headline_effectiveness_score')['category'].count()"
   ]
  },
  {
   "cell_type": "code",
   "execution_count": 38,
   "id": "8e00f079-a7a2-4846-b4dc-e136cf74143b",
   "metadata": {
    "tags": []
   },
   "outputs": [
    {
     "data": {
      "text/html": [
       "<div>\n",
       "<style scoped>\n",
       "    .dataframe tbody tr th:only-of-type {\n",
       "        vertical-align: middle;\n",
       "    }\n",
       "\n",
       "    .dataframe tbody tr th {\n",
       "        vertical-align: top;\n",
       "    }\n",
       "\n",
       "    .dataframe thead th {\n",
       "        text-align: right;\n",
       "    }\n",
       "</style>\n",
       "<table border=\"1\" class=\"dataframe\">\n",
       "  <thead>\n",
       "    <tr style=\"text-align: right;\">\n",
       "      <th></th>\n",
       "      <th>summary</th>\n",
       "      <th>summary_critique</th>\n",
       "      <th>improved_summary</th>\n",
       "      <th>top_queries</th>\n",
       "      <th>indian_or_international</th>\n",
       "      <th>business_or_financial_article</th>\n",
       "      <th>relevant_for_indians</th>\n",
       "      <th>category</th>\n",
       "      <th>article_interest_duration_evaluation</th>\n",
       "      <th>article_interest_duration</th>\n",
       "      <th>popularity_evaluation</th>\n",
       "      <th>popularity_evaluation_critique</th>\n",
       "      <th>final_reader_interest_score</th>\n",
       "      <th>final_headline_effectiveness_score</th>\n",
       "      <th>final_event_novelty_score</th>\n",
       "      <th>final_emotional_impact_score</th>\n",
       "      <th>improved_headline</th>\n",
       "      <th>article_type</th>\n",
       "      <th>article_sentiment</th>\n",
       "      <th>article_id</th>\n",
       "    </tr>\n",
       "  </thead>\n",
       "  <tbody>\n",
       "    <tr>\n",
       "      <th>8</th>\n",
       "      <td>!emoji! lawsuit news: Trump's lawyer won't pre...</td>\n",
       "      <td>The summary is thorough, faithful to the artic...</td>\n",
       "      <td>!emoji! lawsuit news: Trump's lawyer won't pre...</td>\n",
       "      <td>Trump E. Jean Carroll trial; Trump lawyer won'...</td>\n",
       "      <td>international</td>\n",
       "      <td>False</td>\n",
       "      <td>False</td>\n",
       "      <td>irrelevant</td>\n",
       "      <td>The article relates to an ongoing legal case a...</td>\n",
       "      <td>30</td>\n",
       "      <td>0.5</td>\n",
       "      <td>Considering the high profile nature of the ind...</td>\n",
       "      <td>0.7</td>\n",
       "      <td>0.6</td>\n",
       "      <td>0.4</td>\n",
       "      <td>0.6</td>\n",
       "      <td>No Witnesses Will be Presented by Trump's Lawy...</td>\n",
       "      <td>fact</td>\n",
       "      <td>NA</td>\n",
       "      <td>6555c9fa4b13023f93492d9c</td>\n",
       "    </tr>\n",
       "    <tr>\n",
       "      <th>18</th>\n",
       "      <td>!☁️! Climatic change: India's climate change i...</td>\n",
       "      <td>The summary accurately condenses the key point...</td>\n",
       "      <td>!🌏! Climate Alteration: Climate change is alte...</td>\n",
       "      <td>Climate change in India; Impact of climate cha...</td>\n",
       "      <td>indian</td>\n",
       "      <td>False</td>\n",
       "      <td>True</td>\n",
       "      <td>irrelevant</td>\n",
       "      <td>While the overall climate change topic is an o...</td>\n",
       "      <td>7</td>\n",
       "      <td>0.4</td>\n",
       "      <td>The score seems fair considering the growing i...</td>\n",
       "      <td>0.4</td>\n",
       "      <td>0.3</td>\n",
       "      <td>0.5</td>\n",
       "      <td>0.3</td>\n",
       "      <td>Climate Change Rewriting the Rhythm of India's...</td>\n",
       "      <td>fact</td>\n",
       "      <td>NA</td>\n",
       "      <td>651ddfada662d76276b7fa40</td>\n",
       "    </tr>\n",
       "    <tr>\n",
       "      <th>23</th>\n",
       "      <td>!🏊! Misdeeds: Nebraska-based Premier Pools and...</td>\n",
       "      <td>The summary covers all the critical points in ...</td>\n",
       "      <td>!🏊! Misdeeds: Premier Pools and Spas in Nebras...</td>\n",
       "      <td>Premier Pools and Spas lawsuit; Defrauding cus...</td>\n",
       "      <td>international</td>\n",
       "      <td>False</td>\n",
       "      <td>False</td>\n",
       "      <td>irrelevant</td>\n",
       "      <td>The significance of the article would last unt...</td>\n",
       "      <td>30</td>\n",
       "      <td>0.4</td>\n",
       "      <td>The evaluation correctly anticipates moderate ...</td>\n",
       "      <td>0.4</td>\n",
       "      <td>0.7</td>\n",
       "      <td>0.4</td>\n",
       "      <td>0.5</td>\n",
       "      <td>Nebraska's Premier Pools and Spas Allegedly De...</td>\n",
       "      <td>fact</td>\n",
       "      <td>NA</td>\n",
       "      <td>65a7baae1c9bc64bb8ae32ba</td>\n",
       "    </tr>\n",
       "    <tr>\n",
       "      <th>37</th>\n",
       "      <td>!💥! Event: An American tourist died after a fe...</td>\n",
       "      <td>The summary is thorough, covers all important ...</td>\n",
       "      <td>!💥! Event: An American tourist died after a fe...</td>\n",
       "      <td>Bahamas ferry accident; American tourist death...</td>\n",
       "      <td>international</td>\n",
       "      <td>False</td>\n",
       "      <td>False</td>\n",
       "      <td>irrelevant</td>\n",
       "      <td>The article is about an accident that happened...</td>\n",
       "      <td>1</td>\n",
       "      <td>0.2</td>\n",
       "      <td>The score seems fair as the news could solicit...</td>\n",
       "      <td>0.2</td>\n",
       "      <td>0.3</td>\n",
       "      <td>0.2</td>\n",
       "      <td>0.3</td>\n",
       "      <td>Tragic End to Vacation: American Tourist Dies ...</td>\n",
       "      <td>fact</td>\n",
       "      <td>NA</td>\n",
       "      <td>655747d54b13023f934aef30</td>\n",
       "    </tr>\n",
       "    <tr>\n",
       "      <th>47</th>\n",
       "      <td>!🏞️! Trail Discovery: A native of Milwaukee di...</td>\n",
       "      <td>The summary captures essential article details...</td>\n",
       "      <td>!🏞️! Trail Discovery: The author, a Milwaukee ...</td>\n",
       "      <td>Seven Bridges Trail; Grant Park; Milwaukee hik...</td>\n",
       "      <td>international</td>\n",
       "      <td>False</td>\n",
       "      <td>False</td>\n",
       "      <td>irrelevant</td>\n",
       "      <td>The article is a personal story of the author'...</td>\n",
       "      <td>-1</td>\n",
       "      <td>0.3</td>\n",
       "      <td>The score seems suitable, considering the arti...</td>\n",
       "      <td>0.3</td>\n",
       "      <td>0.2</td>\n",
       "      <td>0.15</td>\n",
       "      <td>0.25</td>\n",
       "      <td>Rediscovering Milwaukee: A Native's First Expe...</td>\n",
       "      <td>personal</td>\n",
       "      <td>NA</td>\n",
       "      <td>65a7c1b31c9bc64bb8ae4775</td>\n",
       "    </tr>\n",
       "    <tr>\n",
       "      <th>66</th>\n",
       "      <td>!🔍! Overview: UDF opposition in Kerala Assembl...</td>\n",
       "      <td>The summary covers key points from the article...</td>\n",
       "      <td>!🔍! Overview: The opposition UDF in Kerala Ass...</td>\n",
       "      <td>UDF allegations against Kerala CM; Pinarayi Vi...</td>\n",
       "      <td>indian</td>\n",
       "      <td>False</td>\n",
       "      <td>True</td>\n",
       "      <td>irrelevant</td>\n",
       "      <td>While the issue of police conduct is an ongoin...</td>\n",
       "      <td>14</td>\n",
       "      <td>0.5</td>\n",
       "      <td>The score might be overestimated. While the al...</td>\n",
       "      <td>0.45</td>\n",
       "      <td>0.6</td>\n",
       "      <td>0.75</td>\n",
       "      <td>0.4</td>\n",
       "      <td>'Coterie' in CM's Office Controls Kerala Polic...</td>\n",
       "      <td>fact</td>\n",
       "      <td>NA</td>\n",
       "      <td>651dd671a662d76276b7e237</td>\n",
       "    </tr>\n",
       "    <tr>\n",
       "      <th>78</th>\n",
       "      <td>!earthquake! Quake Info: A 4.6 magnitude earth...</td>\n",
       "      <td>The summary is readable and faithful to the ar...</td>\n",
       "      <td>!earthquake! Quake info: 4.6 Magnitude earthqu...</td>\n",
       "      <td>Southern California earthquake; Earthquake mag...</td>\n",
       "      <td>international</td>\n",
       "      <td>False</td>\n",
       "      <td>False</td>\n",
       "      <td>irrelevant</td>\n",
       "      <td>The information in this article is of immediat...</td>\n",
       "      <td>1</td>\n",
       "      <td>0.35</td>\n",
       "      <td>The assessment seems fair. While an earthquake...</td>\n",
       "      <td>0.3</td>\n",
       "      <td>0.6</td>\n",
       "      <td>0.5</td>\n",
       "      <td>0.25</td>\n",
       "      <td>Minor 4.6 Magnitude Earthquake Shakes Southern...</td>\n",
       "      <td>fact</td>\n",
       "      <td>NA</td>\n",
       "      <td>65c6e6c2f4fc8477f2ed68df</td>\n",
       "    </tr>\n",
       "    <tr>\n",
       "      <th>97</th>\n",
       "      <td>!⚽! Key Details: Lionel Messi's Inter Miami is...</td>\n",
       "      <td>The summary is thorough and includes all the m...</td>\n",
       "      <td>!⚽! Game Details: On Saturday, September 16, M...</td>\n",
       "      <td>Lionel Messi Inter Miami vs Atlanta United; Ho...</td>\n",
       "      <td>international</td>\n",
       "      <td>False</td>\n",
       "      <td>True</td>\n",
       "      <td>irrelevant</td>\n",
       "      <td>The article has specific time-bound interest. ...</td>\n",
       "      <td>1</td>\n",
       "      <td>0.3</td>\n",
       "      <td>The popularity estimation is fair given Lionel...</td>\n",
       "      <td>0.3</td>\n",
       "      <td>0.4</td>\n",
       "      <td>0.2</td>\n",
       "      <td>0.2</td>\n",
       "      <td>Lionel Messi's Inter Miami vs Atlanta United: ...</td>\n",
       "      <td>fact</td>\n",
       "      <td>NA</td>\n",
       "      <td>651dca31a662d76276b7c0fe</td>\n",
       "    </tr>\n",
       "    <tr>\n",
       "      <th>98</th>\n",
       "      <td>!🎭! Character vs Reality: Lily-Rose Depp's act...</td>\n",
       "      <td>The summary is thorough and faithful to the ar...</td>\n",
       "      <td>!🎬! Real vs Reel: Lily-Rose Depp's actual upbr...</td>\n",
       "      <td>Lily-Rose Depp; The Idol; Comment on upbringin...</td>\n",
       "      <td>international</td>\n",
       "      <td>False</td>\n",
       "      <td>False</td>\n",
       "      <td>irrelevant</td>\n",
       "      <td>The details mentioned in this article will onl...</td>\n",
       "      <td>3</td>\n",
       "      <td>0.3</td>\n",
       "      <td>The estimated popularity could be slightly hig...</td>\n",
       "      <td>0.36</td>\n",
       "      <td>0.3</td>\n",
       "      <td>0.2</td>\n",
       "      <td>0.15</td>\n",
       "      <td>'My Parents Ensured a Normal Childhood,' Says ...</td>\n",
       "      <td>fact</td>\n",
       "      <td>NA</td>\n",
       "      <td>651df968a662d76276b83baa</td>\n",
       "    </tr>\n",
       "    <tr>\n",
       "      <th>102</th>\n",
       "      <td>!pencil! Highlight: Kota, the major coaching h...</td>\n",
       "      <td>The summary is thorough as it includes details...</td>\n",
       "      <td>!pencil! Highlights: Major coaching hub, Kota,...</td>\n",
       "      <td>Kota coaching hub; student suicides increase; ...</td>\n",
       "      <td>indian</td>\n",
       "      <td>False</td>\n",
       "      <td>True</td>\n",
       "      <td>irrelevant</td>\n",
       "      <td>The news is of immediate impact and importance...</td>\n",
       "      <td>7</td>\n",
       "      <td>0.3</td>\n",
       "      <td>The possibility of underestimating the article...</td>\n",
       "      <td>0.55</td>\n",
       "      <td>0.4</td>\n",
       "      <td>0.3</td>\n",
       "      <td>0.5</td>\n",
       "      <td>Kota's Coaching Crisis: Increase in Student Su...</td>\n",
       "      <td>fact</td>\n",
       "      <td>NA</td>\n",
       "      <td>651dc927a662d76276b7be28</td>\n",
       "    </tr>\n",
       "    <tr>\n",
       "      <th>116</th>\n",
       "      <td>!🌊! Ocean Temperature: Recent readings show re...</td>\n",
       "      <td>The summary covers all major details from the ...</td>\n",
       "      <td>!🌍! Climate Concerns: Record sea-surface tempe...</td>\n",
       "      <td>What is El Niño?; Impact of global heating; Ef...</td>\n",
       "      <td>international</td>\n",
       "      <td>False</td>\n",
       "      <td>True</td>\n",
       "      <td>irrelevant</td>\n",
       "      <td>The information in the article will be of inte...</td>\n",
       "      <td>-1</td>\n",
       "      <td>0.4</td>\n",
       "      <td>While the topic holds global relevance and can...</td>\n",
       "      <td>0.4</td>\n",
       "      <td>0.7</td>\n",
       "      <td>0.4</td>\n",
       "      <td>0.3</td>\n",
       "      <td>Climate Alarm: Unprecedented Sea-Surface Temps...</td>\n",
       "      <td>analysis</td>\n",
       "      <td>NA</td>\n",
       "      <td>65316d861e5cc42b1b13e2f9</td>\n",
       "    </tr>\n",
       "    <tr>\n",
       "      <th>127</th>\n",
       "      <td>!👑! Monarchy's Influence: Thailand's monarchy'...</td>\n",
       "      <td>The summary is thorough and doesn't miss any k...</td>\n",
       "      <td>!👑! Monarchy Vs Politics: Thailand's historica...</td>\n",
       "      <td>Thailand political crisis; Move Forward party ...</td>\n",
       "      <td>international</td>\n",
       "      <td>False</td>\n",
       "      <td>False</td>\n",
       "      <td>irrelevant</td>\n",
       "      <td>The information in the article would be of int...</td>\n",
       "      <td>7</td>\n",
       "      <td>0.3</td>\n",
       "      <td>Given the global interest in democracy and pol...</td>\n",
       "      <td>0.3</td>\n",
       "      <td>0.2</td>\n",
       "      <td>0.3</td>\n",
       "      <td>0.2</td>\n",
       "      <td>Thailand's Monarchy's Historical Legacy Forges...</td>\n",
       "      <td>fact</td>\n",
       "      <td>NA</td>\n",
       "      <td>6555c2d44b13023f9348d2fb</td>\n",
       "    </tr>\n",
       "  </tbody>\n",
       "</table>\n",
       "</div>"
      ],
      "text/plain": [
       "                                               summary  \\\n",
       "8    !emoji! lawsuit news: Trump's lawyer won't pre...   \n",
       "18   !☁️! Climatic change: India's climate change i...   \n",
       "23   !🏊! Misdeeds: Nebraska-based Premier Pools and...   \n",
       "37   !💥! Event: An American tourist died after a fe...   \n",
       "47   !🏞️! Trail Discovery: A native of Milwaukee di...   \n",
       "66   !🔍! Overview: UDF opposition in Kerala Assembl...   \n",
       "78   !earthquake! Quake Info: A 4.6 magnitude earth...   \n",
       "97   !⚽! Key Details: Lionel Messi's Inter Miami is...   \n",
       "98   !🎭! Character vs Reality: Lily-Rose Depp's act...   \n",
       "102  !pencil! Highlight: Kota, the major coaching h...   \n",
       "116  !🌊! Ocean Temperature: Recent readings show re...   \n",
       "127  !👑! Monarchy's Influence: Thailand's monarchy'...   \n",
       "\n",
       "                                      summary_critique  \\\n",
       "8    The summary is thorough, faithful to the artic...   \n",
       "18   The summary accurately condenses the key point...   \n",
       "23   The summary covers all the critical points in ...   \n",
       "37   The summary is thorough, covers all important ...   \n",
       "47   The summary captures essential article details...   \n",
       "66   The summary covers key points from the article...   \n",
       "78   The summary is readable and faithful to the ar...   \n",
       "97   The summary is thorough and includes all the m...   \n",
       "98   The summary is thorough and faithful to the ar...   \n",
       "102  The summary is thorough as it includes details...   \n",
       "116  The summary covers all major details from the ...   \n",
       "127  The summary is thorough and doesn't miss any k...   \n",
       "\n",
       "                                      improved_summary  \\\n",
       "8    !emoji! lawsuit news: Trump's lawyer won't pre...   \n",
       "18   !🌏! Climate Alteration: Climate change is alte...   \n",
       "23   !🏊! Misdeeds: Premier Pools and Spas in Nebras...   \n",
       "37   !💥! Event: An American tourist died after a fe...   \n",
       "47   !🏞️! Trail Discovery: The author, a Milwaukee ...   \n",
       "66   !🔍! Overview: The opposition UDF in Kerala Ass...   \n",
       "78   !earthquake! Quake info: 4.6 Magnitude earthqu...   \n",
       "97   !⚽! Game Details: On Saturday, September 16, M...   \n",
       "98   !🎬! Real vs Reel: Lily-Rose Depp's actual upbr...   \n",
       "102  !pencil! Highlights: Major coaching hub, Kota,...   \n",
       "116  !🌍! Climate Concerns: Record sea-surface tempe...   \n",
       "127  !👑! Monarchy Vs Politics: Thailand's historica...   \n",
       "\n",
       "                                           top_queries  \\\n",
       "8    Trump E. Jean Carroll trial; Trump lawyer won'...   \n",
       "18   Climate change in India; Impact of climate cha...   \n",
       "23   Premier Pools and Spas lawsuit; Defrauding cus...   \n",
       "37   Bahamas ferry accident; American tourist death...   \n",
       "47   Seven Bridges Trail; Grant Park; Milwaukee hik...   \n",
       "66   UDF allegations against Kerala CM; Pinarayi Vi...   \n",
       "78   Southern California earthquake; Earthquake mag...   \n",
       "97   Lionel Messi Inter Miami vs Atlanta United; Ho...   \n",
       "98   Lily-Rose Depp; The Idol; Comment on upbringin...   \n",
       "102  Kota coaching hub; student suicides increase; ...   \n",
       "116  What is El Niño?; Impact of global heating; Ef...   \n",
       "127  Thailand political crisis; Move Forward party ...   \n",
       "\n",
       "    indian_or_international business_or_financial_article  \\\n",
       "8             international                         False   \n",
       "18                   indian                         False   \n",
       "23            international                         False   \n",
       "37            international                         False   \n",
       "47            international                         False   \n",
       "66                   indian                         False   \n",
       "78            international                         False   \n",
       "97            international                         False   \n",
       "98            international                         False   \n",
       "102                  indian                         False   \n",
       "116           international                         False   \n",
       "127           international                         False   \n",
       "\n",
       "    relevant_for_indians    category  \\\n",
       "8                  False  irrelevant   \n",
       "18                  True  irrelevant   \n",
       "23                 False  irrelevant   \n",
       "37                 False  irrelevant   \n",
       "47                 False  irrelevant   \n",
       "66                  True  irrelevant   \n",
       "78                 False  irrelevant   \n",
       "97                  True  irrelevant   \n",
       "98                 False  irrelevant   \n",
       "102                 True  irrelevant   \n",
       "116                 True  irrelevant   \n",
       "127                False  irrelevant   \n",
       "\n",
       "                  article_interest_duration_evaluation  \\\n",
       "8    The article relates to an ongoing legal case a...   \n",
       "18   While the overall climate change topic is an o...   \n",
       "23   The significance of the article would last unt...   \n",
       "37   The article is about an accident that happened...   \n",
       "47   The article is a personal story of the author'...   \n",
       "66   While the issue of police conduct is an ongoin...   \n",
       "78   The information in this article is of immediat...   \n",
       "97   The article has specific time-bound interest. ...   \n",
       "98   The details mentioned in this article will onl...   \n",
       "102  The news is of immediate impact and importance...   \n",
       "116  The information in the article will be of inte...   \n",
       "127  The information in the article would be of int...   \n",
       "\n",
       "    article_interest_duration popularity_evaluation  \\\n",
       "8                          30                   0.5   \n",
       "18                          7                   0.4   \n",
       "23                         30                   0.4   \n",
       "37                          1                   0.2   \n",
       "47                         -1                   0.3   \n",
       "66                         14                   0.5   \n",
       "78                          1                  0.35   \n",
       "97                          1                   0.3   \n",
       "98                          3                   0.3   \n",
       "102                         7                   0.3   \n",
       "116                        -1                   0.4   \n",
       "127                         7                   0.3   \n",
       "\n",
       "                        popularity_evaluation_critique  \\\n",
       "8    Considering the high profile nature of the ind...   \n",
       "18   The score seems fair considering the growing i...   \n",
       "23   The evaluation correctly anticipates moderate ...   \n",
       "37   The score seems fair as the news could solicit...   \n",
       "47   The score seems suitable, considering the arti...   \n",
       "66   The score might be overestimated. While the al...   \n",
       "78   The assessment seems fair. While an earthquake...   \n",
       "97   The popularity estimation is fair given Lionel...   \n",
       "98   The estimated popularity could be slightly hig...   \n",
       "102  The possibility of underestimating the article...   \n",
       "116  While the topic holds global relevance and can...   \n",
       "127  Given the global interest in democracy and pol...   \n",
       "\n",
       "    final_reader_interest_score final_headline_effectiveness_score  \\\n",
       "8                           0.7                                0.6   \n",
       "18                          0.4                                0.3   \n",
       "23                          0.4                                0.7   \n",
       "37                          0.2                                0.3   \n",
       "47                          0.3                                0.2   \n",
       "66                         0.45                                0.6   \n",
       "78                          0.3                                0.6   \n",
       "97                          0.3                                0.4   \n",
       "98                         0.36                                0.3   \n",
       "102                        0.55                                0.4   \n",
       "116                         0.4                                0.7   \n",
       "127                         0.3                                0.2   \n",
       "\n",
       "    final_event_novelty_score final_emotional_impact_score  \\\n",
       "8                         0.4                          0.6   \n",
       "18                        0.5                          0.3   \n",
       "23                        0.4                          0.5   \n",
       "37                        0.2                          0.3   \n",
       "47                       0.15                         0.25   \n",
       "66                       0.75                          0.4   \n",
       "78                        0.5                         0.25   \n",
       "97                        0.2                          0.2   \n",
       "98                        0.2                         0.15   \n",
       "102                       0.3                          0.5   \n",
       "116                       0.4                          0.3   \n",
       "127                       0.3                          0.2   \n",
       "\n",
       "                                     improved_headline article_type  \\\n",
       "8    No Witnesses Will be Presented by Trump's Lawy...         fact   \n",
       "18   Climate Change Rewriting the Rhythm of India's...         fact   \n",
       "23   Nebraska's Premier Pools and Spas Allegedly De...         fact   \n",
       "37   Tragic End to Vacation: American Tourist Dies ...         fact   \n",
       "47   Rediscovering Milwaukee: A Native's First Expe...     personal   \n",
       "66   'Coterie' in CM's Office Controls Kerala Polic...         fact   \n",
       "78   Minor 4.6 Magnitude Earthquake Shakes Southern...         fact   \n",
       "97   Lionel Messi's Inter Miami vs Atlanta United: ...         fact   \n",
       "98   'My Parents Ensured a Normal Childhood,' Says ...         fact   \n",
       "102  Kota's Coaching Crisis: Increase in Student Su...         fact   \n",
       "116  Climate Alarm: Unprecedented Sea-Surface Temps...     analysis   \n",
       "127  Thailand's Monarchy's Historical Legacy Forges...         fact   \n",
       "\n",
       "    article_sentiment                article_id  \n",
       "8                  NA  6555c9fa4b13023f93492d9c  \n",
       "18                 NA  651ddfada662d76276b7fa40  \n",
       "23                 NA  65a7baae1c9bc64bb8ae32ba  \n",
       "37                 NA  655747d54b13023f934aef30  \n",
       "47                 NA  65a7c1b31c9bc64bb8ae4775  \n",
       "66                 NA  651dd671a662d76276b7e237  \n",
       "78                 NA  65c6e6c2f4fc8477f2ed68df  \n",
       "97                 NA  651dca31a662d76276b7c0fe  \n",
       "98                 NA  651df968a662d76276b83baa  \n",
       "102                NA  651dc927a662d76276b7be28  \n",
       "116                NA  65316d861e5cc42b1b13e2f9  \n",
       "127                NA  6555c2d44b13023f9348d2fb  "
      ]
     },
     "execution_count": 38,
     "metadata": {},
     "output_type": "execute_result"
    }
   ],
   "source": [
    "attributes_df[attributes_df.category=='irrelevant']"
   ]
  },
  {
   "cell_type": "code",
   "execution_count": null,
   "id": "7fa6cb78-cf79-48fd-9a31-697e46198394",
   "metadata": {},
   "outputs": [],
   "source": [
    "attributes_df.groupby('')"
   ]
  },
  {
   "cell_type": "code",
   "execution_count": 21,
   "id": "aabc04be-a572-4b91-be02-70e153323bbe",
   "metadata": {
    "tags": []
   },
   "outputs": [],
   "source": [
    "import ast\n",
    "res = []\n",
    "for i in range(len(df)):\n",
    "    try:\n",
    "        res.append(json.loads(df.iloc[i]['attributes'])['article_interest_duration'])\n",
    "    except:\n",
    "        res.append(ast.literal_eval(json.loads(df.iloc[i]['attributes']))['article_interest_duration'])"
   ]
  },
  {
   "cell_type": "code",
   "execution_count": 23,
   "id": "6630c173-6352-4e9f-8071-54548dd5dace",
   "metadata": {
    "tags": []
   },
   "outputs": [],
   "source": [
    "df['validity'] = res"
   ]
  },
  {
   "cell_type": "code",
   "execution_count": 24,
   "id": "794e8d6c-0a2b-45e8-a7cc-37851433c3bc",
   "metadata": {
    "tags": []
   },
   "outputs": [
    {
     "data": {
      "text/plain": [
       "validity\n",
       "-1     13\n",
       "1       8\n",
       "3       4\n",
       "7       7\n",
       "14     16\n",
       "30      9\n",
       "90      1\n",
       "365     1\n",
       "-1      7\n",
       "1       8\n",
       "14     12\n",
       "3       7\n",
       "30     17\n",
       "365     3\n",
       "7      12\n",
       "90      4\n",
       "Name: validity, dtype: int64"
      ]
     },
     "execution_count": 24,
     "metadata": {},
     "output_type": "execute_result"
    }
   ],
   "source": [
    "df.groupby('validity')['validity'].count()"
   ]
  },
  {
   "cell_type": "code",
   "execution_count": 25,
   "id": "6794fd9b-6538-48cc-93bf-d371fac7881a",
   "metadata": {
    "tags": []
   },
   "outputs": [],
   "source": [
    "# structuring the format\n",
    "all_responses = {}\n",
    "for row in df.itertuples():\n",
    "    res = row.attributes\n",
    "    all_responses[row.article_id] = {'content': row.full_content, 'response': {}}\n",
    "    all_responses[row.article_id]['attributes'] = json.loads(res)"
   ]
  },
  {
   "cell_type": "code",
   "execution_count": 26,
   "id": "1df7d540-ab91-4ee1-a11d-312b1a2e2d35",
   "metadata": {
    "tags": []
   },
   "outputs": [],
   "source": [
    "def correct_validity_duration(val):\n",
    "    val = int(val)\n",
    "    valid_days = [-1, 1, 3, 7, 14, 30]\n",
    "    if val in valid_days:\n",
    "        return val\n",
    "    else:\n",
    "        for i in valid_days:\n",
    "            if val > i:\n",
    "                valid_value = i\n",
    "        return valid_value"
   ]
  },
  {
   "cell_type": "code",
   "execution_count": null,
   "id": "18e44b2e-392c-4e7d-a119-ed28f61492aa",
   "metadata": {},
   "outputs": [],
   "source": [
    "malformed = []\n",
    "cleaned_train_set = {}\n",
    "for art_id in all_responses:\n",
    "    cleaned_train_set[art_id] = {}\n",
    "    try:\n",
    "        attributes = all_responses[art_id]['attributes']\n",
    "        keys = sorted(list(attributes.keys()))\n",
    "        if not keys == expected_keys:\n",
    "            print(f'keys are not the same {art_id}')\n",
    "            malformed.append(art_id)\n",
    "            cleaned_train_set.pop(art_id)\n",
    "            continue\n",
    "        cleaned_train_set[art_id] = {'content': all_responses[art_id]['content'], 'attributes': deepcopy(attributes)}\n",
    "        cleaned_train_set[art_id]['attributes']['business_or_financial_article'] = True if bool(attributes['business_or_financial_article']) == 1 else False if bool(attributes['business_or_financial_article']) == 0 else None\n",
    "        cleaned_train_set[art_id]['attributes']['relevant_for_indians'] = True if bool(attributes['relevant_for_indians']) == 1 else False if bool(attributes['relevant_for_indians']) == 0 else None\n",
    "        cleaned_train_set[art_id]['attributes']['article_interest_duration'] = correct_validity_duration(attributes['article_interest_duration'])\n",
    "    except:\n",
    "        malformed.append(art_id)\n",
    "        cleaned_train_set.pop(art_id)\n",
    "        continue"
   ]
  },
  {
   "cell_type": "code",
   "execution_count": 22,
   "id": "5becfbd0-0501-40af-9d9d-3f57d6d9c46c",
   "metadata": {
    "tags": []
   },
   "outputs": [
    {
     "data": {
      "text/plain": [
       "[7,\n",
       " 1,\n",
       " '30',\n",
       " '7',\n",
       " -1,\n",
       " '30',\n",
       " '3',\n",
       " 14,\n",
       " '30',\n",
       " '14',\n",
       " 3,\n",
       " '30',\n",
       " 30,\n",
       " '-1',\n",
       " 30,\n",
       " 14,\n",
       " 3,\n",
       " '14',\n",
       " '7',\n",
       " 7,\n",
       " 14,\n",
       " '3',\n",
       " '1',\n",
       " '30',\n",
       " '365',\n",
       " '14',\n",
       " '1',\n",
       " '14',\n",
       " '30',\n",
       " '30',\n",
       " 14,\n",
       " '30',\n",
       " 14,\n",
       " -1,\n",
       " '30',\n",
       " '-1',\n",
       " -1,\n",
       " '1',\n",
       " '30',\n",
       " 7,\n",
       " 7,\n",
       " 1,\n",
       " '3',\n",
       " 30,\n",
       " 30,\n",
       " '30',\n",
       " '1',\n",
       " '-1',\n",
       " '3',\n",
       " 30,\n",
       " '3',\n",
       " '3',\n",
       " '90',\n",
       " 1,\n",
       " '14',\n",
       " 14,\n",
       " '1',\n",
       " '-1',\n",
       " '30',\n",
       " -1,\n",
       " 7,\n",
       " -1,\n",
       " 1,\n",
       " '14',\n",
       " '7',\n",
       " -1,\n",
       " 14,\n",
       " 14,\n",
       " '1',\n",
       " 7,\n",
       " 1,\n",
       " 3,\n",
       " 14,\n",
       " 1,\n",
       " '30',\n",
       " '14',\n",
       " '7',\n",
       " '1',\n",
       " 1,\n",
       " '1',\n",
       " '14',\n",
       " 14,\n",
       " -1,\n",
       " '-1',\n",
       " 14,\n",
       " '30',\n",
       " '14',\n",
       " '30',\n",
       " '7',\n",
       " 30,\n",
       " 14,\n",
       " '7',\n",
       " '-1',\n",
       " -1,\n",
       " '14',\n",
       " -1,\n",
       " 365,\n",
       " 1,\n",
       " '3',\n",
       " 14,\n",
       " 3,\n",
       " '-1',\n",
       " '7',\n",
       " '7',\n",
       " '14',\n",
       " -1,\n",
       " 14,\n",
       " '90',\n",
       " '30',\n",
       " '30',\n",
       " '14',\n",
       " '7',\n",
       " '365',\n",
       " '90',\n",
       " 14,\n",
       " '90',\n",
       " -1,\n",
       " 30,\n",
       " -1,\n",
       " '7',\n",
       " 7,\n",
       " '365',\n",
       " 30,\n",
       " 30,\n",
       " '7',\n",
       " 90,\n",
       " -1,\n",
       " '7',\n",
       " 14]"
      ]
     },
     "execution_count": 22,
     "metadata": {},
     "output_type": "execute_result"
    }
   ],
   "source": [
    "res"
   ]
  },
  {
   "cell_type": "code",
   "execution_count": null,
   "id": "a801f088-3070-4dc0-967d-3b833982fc24",
   "metadata": {},
   "outputs": [],
   "source": []
  }
 ],
 "metadata": {
  "kernelspec": {
   "display_name": "bertopicenv",
   "language": "python",
   "name": "bertopicenv"
  },
  "language_info": {
   "codemirror_mode": {
    "name": "ipython",
    "version": 3
   },
   "file_extension": ".py",
   "mimetype": "text/x-python",
   "name": "python",
   "nbconvert_exporter": "python",
   "pygments_lexer": "ipython3",
   "version": "3.9.18"
  }
 },
 "nbformat": 4,
 "nbformat_minor": 5
}
