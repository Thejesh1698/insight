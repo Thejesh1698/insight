{
 "cells": [
  {
   "cell_type": "code",
   "execution_count": 1,
   "id": "c5401dc5-dac9-4021-8d1f-c047f787deec",
   "metadata": {
    "tags": []
   },
   "outputs": [],
   "source": [
    "parent_folder = '/Users/ravi.tej/Desktop/ML/Recommendations/arcane/'\n",
    "from hydra import compose, initialize\n",
    "import os\n",
    "\n",
    "import xml.etree.ElementTree as ET\n",
    "\n",
    "tree = ET.parse('../../../conf/application.run.xml')\n",
    "root = tree.getroot()\n",
    "\n",
    "envs_element = root.find('./configuration/envs')\n",
    "for variable in envs_element.findall('env'):\n",
    "    name = variable.get('name')\n",
    "    value = variable.get('value')\n",
    "    os.environ[name] = value\n",
    "\n",
    "import sys\n",
    "sys.path.append('/Users/ravi.tej/Desktop/ML/Recommendations/arcane/')\n",
    "import pandas as pd\n",
    "\n",
    "os.environ['PATH'] = '/Users/ravi.tej/anaconda3/envs/bertopicenv/bin:/Users/ravi.tej/anaconda3/condabin:/usr/bin:/bin:/usr/sbin:/sbin'"
   ]
  },
  {
   "cell_type": "code",
   "execution_count": 2,
   "id": "6df5249e-a243-4cc5-96f9-90a0b7403f9d",
   "metadata": {
    "tags": []
   },
   "outputs": [],
   "source": [
    "from src.articles.ArticleAttributesService import ArticleAttributesService"
   ]
  },
  {
   "cell_type": "code",
   "execution_count": 3,
   "id": "07e0e5a9-35c8-4118-9c55-c610296a1987",
   "metadata": {
    "tags": []
   },
   "outputs": [
    {
     "name": "stderr",
     "output_type": "stream",
     "text": [
      "Special tokens have been added in the vocabulary, make sure the associated word embeddings are fine-tuned or trained.\n",
      "Special tokens have been added in the vocabulary, make sure the associated word embeddings are fine-tuned or trained.\n"
     ]
    }
   ],
   "source": [
    "aas = ArticleAttributesService()"
   ]
  },
  {
   "cell_type": "code",
   "execution_count": 4,
   "id": "1ca254f9-59b5-4340-b093-ef731ce53a7b",
   "metadata": {
    "tags": []
   },
   "outputs": [
    {
     "name": "stderr",
     "output_type": "stream",
     "text": [
      "attempt 0 for getting attributes from fine tuned llm for 6555b48d4b13023f9348b683. request id 6db91c41-fc24-4ebf-9939-896199036750\n",
      "llm request raised for 6555b48d4b13023f9348b683\n",
      "llm response received for 6555b48d4b13023f9348b683\n",
      "error converting the response body to json and saving to mongo\n",
      "response received as b'[{\"generated_text\":\"\\\\\"{\\\\\\\\\\\\\"summary\\\\\\\\\\\\\": \\\\\\\\\\\\\"!\\\\\\\\\\\\\\\\ud83d\\\\\\\\\\\\\\\\udcb0! Top SIPs: The article lists 10 best SIP plans for 5 years in India in 2023. \\\\\\\\\\\\\\\\n !\\\\\\\\\\\\\\\\ud83d\\\\\\\\\\\\\\\\udcc8! Performance: The Tata Digital India Fund leads with 22.73% annualised returns, followed by ICICI Prudential Technology Fund with 21.95%. \\\\\\\\\\\\\\\\n !\\\\\\\\\\\\\\\\ud83d\\\\\\\\\\\\\\\\udd0d! Details: The list includes details of AUM, NAV, expense ratio, minimum SIP investment, category of fund, risk level, and annualised returns for each fund.\\\\\\\\\\\\\", \\\\\\\\\\\\\"summary_critique\\\\\\\\\\\\\": \\\\\\\\\\\\\"The summary is accurate and faithful to the article. It includes the main points of the article such as the list of top SIPs, their performance, and details about each fund. However, it does not mention the risk associated with each SIP plan.\\\\\\\\\\\\\", \\\\\\\\\\\\\"improved_summary\\\\\\\\\\\\\": \\\\\\\\\\\\\"!\\\\\\\\\\\\\\\\ud83d\\\\\\\\\\\\\\\\udcb0! Top SIPs: The article lists 10 best SIP plans for 5 years in India in 2023. \\\\\\\\\\\\\\\\n !\\\\\\\\\\\\\\\\ud83d\\\\\\\\\\\\\\\\udcc8! Performance: The Tata Digital India Fund leads with 22.73% annualised returns, followed by ICICI Prudential Technology Fund with 21.95%. \\\\\\\\\\\\\\\\n !\\\\\\\\\\\\\\\\ud83d\\\\\\\\\\\\\\\\udd0d! Details: The list includes details of AUM, NAV, expense ratio, minimum SIP investment, category of fund, risk level, and annualised returns for each fund. \\\\\\\\\\\\\\\\n !\\\\\\\\\\\\\\\\u26a0\\\\\\\\\\\\\\\\ufe0f! Risk: All SIP plans carry a high risk, as mentioned in the article.\\\\\\\\\\\\\", \\\\\\\\\\\\\"top_queries\\\\\\\\\\\\\": \\\\\\\\\\\\\"Best SIP plans in India 2023; Tata Digital India Fund performance; ICICI Prudential Technology Fund returns; SBI Technology Opportunities Fund details; Risk of SIP plans\\\\\\\\\\\\\", \\\\\\\\\\\\\"indian_or_international\\\\\\\\\\\\\": \\\\\\\\\\\\\"indian\\\\\\\\\\\\\", \\\\\\\\\\\\\"business_or_financial_article\\\\\\\\\\\\\": true, \\\\\\\\\\\\\"relevant_for_indians\\\\\\\\\\\\\": true, \\\\\\\\\\\\\"category\\\\\\\\\\\\\": \\\\\\\\\\\\\"personal_finance\\\\\\\\\\\\\", \\\\\\\\\\\\\"article_interest_duration_evaluation\\\\\\\\\\\\\": \\\\\\\\\\\\\"The article will be of interest to users until the next list of best SIP plans is published, which is usually on a yearly basis.\\\\\\\\\\\\\", \\\\\\\\\\\\\"article_interest_duration\\\\\\\\\\\\\": 30, \\\\\\\\\\\\\"popularity_evaluation\\\\\\\\\\\\\": \\\\\\\\\\\\\"reader_interest: 0.6, headline_effectiveness: 0.5, event_novelty: 0.4, emotional_impact: 0.3\\\\\\\\\\\\\", \\\\\\\\\\\\\"popularity_evaluation_critique\\\\\\\\\\\\\": \\\\\\\\\\\\\"The scores seem to be reasonable. The topic is of high interest to readers interested in finance and investment. The headline is effective, but could be more engaging. The novelty of the event is moderate as new lists of SIP plans are published annually. The emotional impact is relatively low as it is more informational than emotional.\\\\\\\\\\\\\", \\\\\\\\\\\\\"final_reader_interest_score\\\\\\\\\\\\\": 0.6, \\\\\\\\\\\\\"final_headline_effectiveness_score\\\\\\\\\\\\\": 0.5, \\\\\\\\\\\\\"final_event_novelty_score\\\\\\\\\\\\\": 0.4, \\\\\\\\\\\\\"final_emotional_impact_score\\\\\\\\\\\\\": 0.3, \\\\\\\\\\\\\"improved_headline\\\\\\\\\\\\\": \\\\\\\\\\\\\"Top 10 Best SIP Plans for 5 Years in India: A Comprehensive Guide for 2023\\\\\\\\\\\\\", \\\\\\\\\\\\\"article_type\\\\\\\\\\\\\": \\\\\\\\\\\\\"fact\\\\\\\\\\\\\", \\\\\\\\\\\\\"article_sentiment\\\\\\\\\\\\\": \\\\\\\\\\\\\"na\\\\\\\\\\\\\"}\\\\\"\"}]'\n",
      "article attributes for 6555b48d4b13023f9348b683 saved to db\n",
      "6555b48d4b13023f9348b683 removed from candidates\n",
      "INFO:__name__:6555b48d4b13023f9348b683 removed from candidates\n"
     ]
    }
   ],
   "source": [
    "k = aas.compute_save_article_attributes_from_llm(article_id='6555b48d4b13023f9348b683')"
   ]
  },
  {
   "cell_type": "code",
   "execution_count": 10,
   "id": "62aaa367-0a35-47d9-b3b2-01bebb7b216e",
   "metadata": {
    "tags": []
   },
   "outputs": [],
   "source": [
    "import requests"
   ]
  },
  {
   "cell_type": "code",
   "execution_count": 15,
   "id": "def50be4-2523-4c04-a713-0341f5a045cc",
   "metadata": {
    "tags": []
   },
   "outputs": [],
   "source": [
    "r = requests.post('http://Carbine-env.eba-tgfee4hb.ap-south-1.elasticbeanstalk.com/get_article_attributes_from_llm',json={'articleId': '6555b5754b13023f9348bc07'})"
   ]
  },
  {
   "cell_type": "code",
   "execution_count": 16,
   "id": "0181a431-cce0-4b34-b670-ca1798945293",
   "metadata": {
    "tags": []
   },
   "outputs": [
    {
     "data": {
      "text/plain": [
       "'{\"summary\": \"!\\\\ud83d\\\\udcbc! LTV Full Form: The full form of LTV is Loan to value ratio. It is a significant financial ratio for lenders to measure the risk of a loan. \\\\n !\\\\ud83d\\\\udcb0! RBI Guidelines: RBI has set guidelines for all lenders that govern loan disbursement policy. \\\\n !\\\\ud83d\\\\udcca! Formula to Calculate LTV: LTV Ratio (%) = Amount Borrowed/Property Value X 100\", \"summary_critique\": \"The summary is accurate and adheres to the _summary_markdown_format_. It covers all the essential details from the article, including the full form of LTV, RBI guidelines, and the LTV calculation formula.\", \"improved_summary\": \"[{\\\\\"emoji\\\\\": \\\\\"\\\\\\\\ud83d\\\\\\\\udcbc\\\\\", \\\\\"label\\\\\": \\\\\"LTV Full Form\\\\\", \\\\\"point\\\\\": \\\\\"The full form of LTV is Loan to value ratio. It\\'s a crucial financial ratio that helps lenders assess loan risk.\\\\\"}, {\\\\\"emoji\\\\\": \\\\\"\\\\\\\\ud83d\\\\\\\\udcb0\\\\\", \\\\\"label\\\\\": \\\\\"RBI Guidelines\\\\\", \\\\\"point\\\\\": \\\\\"RBI lays out guidelines for all lenders regarding loan disbursements.\\\\\"}, {\\\\\"emoji\\\\\": \\\\\"\\\\\\\\ud83d\\\\\\\\udcca\\\\\", \\\\\"label\\\\\": \\\\\"LTV Calculation\\\\\", \\\\\"point\\\\\": \\\\\"LTV Ratio (%) = Amount Borrowed/Property Value X 100\\\\\"}]\", \"top_queries\": \"What is LTV; RBI guidelines on LTV; How to calculate LTV; Importance of LTV in loans; Understanding LTV ratio\", \"indian_or_international\": \"indian\", \"business_or_financial_article\": true, \"relevant_for_indians\": true, \"category\": \"financial\", \"article_interest_duration_evaluation\": \"The information in the article is evergreen as it pertains to financial ratios and their significance. It does not depend on time-bound events or data.\", \"article_interest_duration\": -1, \"popularity_evaluation\": \"reader_interest: 0.7, headline_effectiveness: 0.6, event_novelty: 0.2, emotional_impact: 0.2\", \"popularity_evaluation_critique\": \"The reader interest score is high due to the financial relevance of LTV. However, the novelty score is low as LTV is a common term in finance. The headline is effective but doesn\\'t create much emotional impact.\", \"final_reader_interest_score\": 0.7, \"final_headline_effectiveness_score\": 0.6, \"final_event_novelty_score\": 0.2, \"final_emotional_impact_score\": 0.2, \"improved_headline\": \"Decoding LTV: Full Form, RBI Guidelines, and Calculation Formula\", \"article_type\": \"educational\", \"article_sentiment\": \"na\", \"financial_or_business_news\": true, \"relevant_for_india\": true, \"article_validity_duration\": -1, \"popularity\": \"moderately_popular\", \"hours_since_publication\": 7870.961813443611, \"financial_news\": true, \"validity_in_hours\": -24}'"
      ]
     },
     "execution_count": 16,
     "metadata": {},
     "output_type": "execute_result"
    }
   ],
   "source": [
    "r.text"
   ]
  },
  {
   "cell_type": "code",
   "execution_count": 9,
   "id": "d622a481-3e18-4b6d-993a-d2994778d84d",
   "metadata": {
    "tags": []
   },
   "outputs": [
    {
     "data": {
      "text/plain": [
       "[{'emoji': '💰',\n",
       "  'label': 'Top SIPs',\n",
       "  'point': 'The article lists 10 best SIP plans for 5 years in India in 2023.'},\n",
       " {'emoji': '📈',\n",
       "  'label': 'Performance',\n",
       "  'point': 'The Tata Digital India Fund leads with 22.73% annualised returns, followed by ICICI Prudential Technology Fund with 21.95%.'},\n",
       " {'emoji': '🔍',\n",
       "  'label': 'Details',\n",
       "  'point': 'The list includes details of AUM, NAV, expense ratio, minimum SIP investment, category of fund, risk level, and annualised returns for each fund.'},\n",
       " {'emoji': '⚠️',\n",
       "  'label': 'Risk',\n",
       "  'point': 'All SIP plans carry a high risk, as mentioned in the article.'}]"
      ]
     },
     "execution_count": 9,
     "metadata": {},
     "output_type": "execute_result"
    }
   ],
   "source": [
    "json.loads(k['improved_summary'])"
   ]
  },
  {
   "cell_type": "code",
   "execution_count": 8,
   "id": "63d51bda-7848-4371-948d-52ca08c0d275",
   "metadata": {
    "tags": []
   },
   "outputs": [],
   "source": [
    "import json"
   ]
  },
  {
   "cell_type": "code",
   "execution_count": 11,
   "id": "7b5b53da-191a-4eef-88fb-0954dd7a27e3",
   "metadata": {
    "tags": []
   },
   "outputs": [
    {
     "data": {
      "text/plain": [
       "{'article_start': 'headline: 10 Best SIP Plans for 5 years in India to Invest in 2023.',\n",
       " 'summary': '!emoji1! Financial: Article discusses the best SIP mutual fund plans for a 5-year investment period in India, listing top funds and their returns.\\n!emoji2! Business: Provides guidance on individual financial management, focusing on mutual fund investments and wealth growth.\\n',\n",
       " 'summary_critique': 'Thoroughness: Includes essential details about SIP plans and mutual funds.\\nReadability: Sentences are clear, but some terms may require explanation.\\nFaithfulness: Accurately summarizes the article.\\nAccuracy: Numbers and dates are correct.\\nStructure: Single-line points preceded by relevant emoji and label.\\nFormat: Uses !emoji! label and point format without preamble/postamble, adhering to a 3-point maximum.\\n',\n",
       " 'improved_summary': '!emoji1! Financial: Learn about the top 10 SIP mutual fund plans for a 5-year investment in India, along with their returns.\\n!emoji2! Business: Discover how to grow wealth steadily through mutual funds with high growth potential.\\n',\n",
       " 'top_queries': 'SIP plans, mutual funds, investment, wealth growth, financial management',\n",
       " 'indian_or_international': 'Indian',\n",
       " 'business_or_financial_article': 'True',\n",
       " 'relevant_for_indians': 'True',\n",
       " 'category': 'personal_finance',\n",
       " 'article_interest_duration_evaluation': \"Assess the article's potential interest for Indian readers.\",\n",
       " 'article_interest_duration': '30',\n",
       " 'popularity_evaluation': 'Reader_interest: 0.6\\nHeadline_effectiveness: 0.5\\nEvent_novelty: 0.3\\nEmotional_impact: 0.2',\n",
       " 'popularity_evaluation_critique': 'Reader_interest: Seems to have potential for Indian readers\\nHeadline_effectiveness: Could be improved\\nEvent_novelty: Article may not be new for finance enthusiasts\\nEmotional_impact: Minimal emotional appeal',\n",
       " 'final_reader_interest_score': '0.6',\n",
       " 'final_headline_effectiveness_score': '0.5',\n",
       " 'final_event_novelty_score': '0.3',\n",
       " 'final_emotional_impact_score': '0.2',\n",
       " 'improved_headline': 'Top 10 SIP Plans for 5-Year Investment in India: Grow Your Wealth Steady',\n",
       " 'article_type': 'educational',\n",
       " 'article_sentiment': 'NA'}"
      ]
     },
     "execution_count": 11,
     "metadata": {},
     "output_type": "execute_result"
    }
   ],
   "source": [
    "json.loads(json.loads(k)[0]['generated_text'])"
   ]
  },
  {
   "cell_type": "code",
   "execution_count": null,
   "id": "4acf6070-bdc8-454c-8322-df24fc42a26e",
   "metadata": {},
   "outputs": [],
   "source": []
  }
 ],
 "metadata": {
  "kernelspec": {
   "display_name": "bertopicenv",
   "language": "python",
   "name": "bertopicenv"
  },
  "language_info": {
   "codemirror_mode": {
    "name": "ipython",
    "version": 3
   },
   "file_extension": ".py",
   "mimetype": "text/x-python",
   "name": "python",
   "nbconvert_exporter": "python",
   "pygments_lexer": "ipython3",
   "version": "3.9.18"
  }
 },
 "nbformat": 4,
 "nbformat_minor": 5
}
