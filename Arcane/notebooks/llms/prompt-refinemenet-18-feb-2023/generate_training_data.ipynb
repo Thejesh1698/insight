{
 "cells": [
  {
   "cell_type": "code",
   "execution_count": 1,
   "id": "b08d4071-07d3-4fee-b8ef-cb1633c32afc",
   "metadata": {
    "tags": []
   },
   "outputs": [],
   "source": [
    "parent_folder = '/Users/username/Desktop/ML/Recommendations/arcane/'\n",
    "from hydra import compose, initialize\n",
    "import os\n",
    "\n",
    "import xml.etree.ElementTree as ET\n",
    "\n",
    "tree = ET.parse('../../../conf/application.run.xml')\n",
    "root = tree.getroot()\n",
    "\n",
    "envs_element = root.find('./configuration/envs')\n",
    "for variable in envs_element.findall('env'):\n",
    "    name = variable.get('name')\n",
    "    value = variable.get('value')\n",
    "    os.environ[name] = value\n",
    "\n",
    "import sys\n",
    "sys.path.append('/Users/username/Desktop/ML/Recommendations/arcane/')\n",
    "import pandas as pd"
   ]
  },
  {
   "cell_type": "code",
   "execution_count": 3,
   "id": "f9fc1a89-f690-4377-9424-d4de37592774",
   "metadata": {
    "tags": []
   },
   "outputs": [],
   "source": [
    "from src.llm_finetuning.TrainingDataGenerationService import TrainingDataGenerationService"
   ]
  },
  {
   "cell_type": "code",
   "execution_count": 4,
   "id": "9e260276-e033-454a-a985-bd937479d0ac",
   "metadata": {
    "tags": []
   },
   "outputs": [],
   "source": [
    "shortlisted_articles_df = pd.read_csv('attributes_1000_shortlisted_articles_Feb_19.csv')"
   ]
  },
  {
   "cell_type": "code",
   "execution_count": 5,
   "id": "a9442cf0-f4e1-4efb-a963-5c2993dbb8da",
   "metadata": {
    "tags": []
   },
   "outputs": [],
   "source": [
    "TrainingDataGenerator = TrainingDataGenerationService(shortlisted_articles_df=shortlisted_articles_df, folder_path='/Users/username/Desktop/ML/Recommendations/arcane/notebooks/llms/prompt-refinemenet-18-feb-2023',model='gpt-4')"
   ]
  },
  {
   "cell_type": "code",
   "execution_count": 9,
   "id": "e668d6a0-ea08-413d-ba65-c1348a7359bc",
   "metadata": {
    "tags": []
   },
   "outputs": [
    {
     "data": {
      "text/plain": [
       "1173"
      ]
     },
     "execution_count": 9,
     "metadata": {},
     "output_type": "execute_result"
    }
   ],
   "source": [
    "len(TrainingDataGenerator.shortlisted_articles_df)"
   ]
  },
  {
   "cell_type": "code",
   "execution_count": 6,
   "id": "ecd56201-85b9-4e67-8f55-9a76f45d0668",
   "metadata": {
    "tags": []
   },
   "outputs": [],
   "source": [
    "shortlisted_articles_df['all_content_tokens'] = shortlisted_articles_df['full_content'].apply(lambda x: len(TrainingDataGenerator.encoder.encode(x)))"
   ]
  },
  {
   "cell_type": "code",
   "execution_count": 10,
   "id": "d5211175-cbd6-4b40-859e-e8d5b98880ac",
   "metadata": {
    "tags": []
   },
   "outputs": [
    {
     "name": "stdout",
     "output_type": "stream",
     "text": [
      "completed 50 in 118.27990818023682 seconds\n",
      "completed 100 in 248.94330596923828 seconds\n",
      "completed 150 in 368.1834270954132 seconds\n",
      "completed 200 in 482.02743005752563 seconds\n",
      "completed 250 in 591.8838729858398 seconds\n",
      "completed 300 in 706.3727412223816 seconds\n",
      "completed 350 in 827.9119689464569 seconds\n",
      "completed 400 in 921.6106412410736 seconds\n",
      "completed 450 in 1037.3360950946808 seconds\n",
      "completed 500 in 1151.0613429546356 seconds\n",
      "completed 550 in 1264.3340148925781 seconds\n",
      "completed 600 in 1368.896956205368 seconds\n",
      "completed 650 in 1475.0333890914917 seconds\n",
      "now 20 invalid responses\n",
      "completed 700 in 1580.4480760097504 seconds\n",
      "completed 750 in 1682.3313100337982 seconds\n",
      "completed 800 in 1785.8359830379486 seconds\n",
      "completed 850 in 1894.472097158432 seconds\n",
      "completed 900 in 2006.1392121315002 seconds\n",
      "completed 950 in 2122.244528055191 seconds\n",
      "completed 1000 in 2223.6898329257965 seconds\n",
      "completed 1050 in 2328.9982540607452 seconds\n",
      "completed 1100 in 2430.1684880256653 seconds\n",
      "done in 2536.4320912361145 seconds\n"
     ]
    },
    {
     "data": {
      "text/plain": [
       "1144"
      ]
     },
     "execution_count": 10,
     "metadata": {},
     "output_type": "execute_result"
    }
   ],
   "source": [
    "TrainingDataGenerator.get_gpt4_attributes_for_article_ids(fraction=1)"
   ]
  },
  {
   "cell_type": "code",
   "execution_count": 11,
   "id": "fd87c6c9-9e97-44fc-a665-7fed94a3cf4a",
   "metadata": {
    "tags": []
   },
   "outputs": [
    {
     "data": {
      "text/plain": [
       "29"
      ]
     },
     "execution_count": 11,
     "metadata": {},
     "output_type": "execute_result"
    }
   ],
   "source": [
    "len(TrainingDataGenerator.invalid_response_dict)"
   ]
  },
  {
   "cell_type": "code",
   "execution_count": 18,
   "id": "335c07bb-2e2b-4f33-a8c7-556fe2c46de4",
   "metadata": {
    "tags": []
   },
   "outputs": [],
   "source": [
    "from concurrent.futures import as_completed, ThreadPoolExecutor"
   ]
  },
  {
   "cell_type": "code",
   "execution_count": 19,
   "id": "9ab4e614-5bd5-48a1-9bc2-39561d3506f5",
   "metadata": {
    "tags": []
   },
   "outputs": [
    {
     "name": "stdout",
     "output_type": "stream",
     "text": [
      "json not properly generated for 65bb79cdf3aa2a77a58bfe97 at Feb 19, 2024 04:23\n",
      "json not properly generated for 65316eb01e5cc42b1b13e628 at Feb 19, 2024 04:24\n",
      "json not properly generated for 6560cea7e1d8342798a45325 at Feb 19, 2024 04:24\n",
      "json not properly generated for 65c443c3da99411d4747695a at Feb 19, 2024 04:24\n"
     ]
    }
   ],
   "source": [
    "with ThreadPoolExecutor(max_workers=10) as executor:\n",
    "    futures = [executor.submit(TrainingDataGenerator.fix_json_for_invalid_response, article_id) for article_id in list(TrainingDataGenerator.invalid_response_dict.keys())]\n",
    "    for future in as_completed(futures):\n",
    "        json_generated, parsed_response = future.result()\n",
    "        if json_generated:\n",
    "            TrainingDataGenerator.save_attributes(response_json=parsed_response)\n",
    "            TrainingDataGenerator.invalid_response_dict.pop(parsed_response['article_id'])"
   ]
  },
  {
   "cell_type": "code",
   "execution_count": 21,
   "id": "ee154d60-4be1-47af-8143-d0a098c8fdb2",
   "metadata": {
    "tags": []
   },
   "outputs": [
    {
     "data": {
      "text/plain": [
       "4"
      ]
     },
     "execution_count": 21,
     "metadata": {},
     "output_type": "execute_result"
    }
   ],
   "source": [
    "len(TrainingDataGenerator.invalid_response_dict)"
   ]
  },
  {
   "cell_type": "code",
   "execution_count": 7,
   "id": "62e2e1d6-d2f0-43ae-8051-6b04fefbd06f",
   "metadata": {
    "tags": []
   },
   "outputs": [
    {
     "data": {
      "text/plain": [
       "893"
      ]
     },
     "execution_count": 7,
     "metadata": {},
     "output_type": "execute_result"
    }
   ],
   "source": [
    "TrainingDataGenerator.system_tokens"
   ]
  },
  {
   "cell_type": "code",
   "execution_count": 8,
   "id": "b9bfa64f-f210-4a47-b1bf-07a9740c4b13",
   "metadata": {
    "tags": []
   },
   "outputs": [
    {
     "data": {
      "text/plain": [
       "1536"
      ]
     },
     "execution_count": 8,
     "metadata": {},
     "output_type": "execute_result"
    }
   ],
   "source": [
    "TrainingDataGenerator.content_tokens"
   ]
  },
  {
   "cell_type": "code",
   "execution_count": 9,
   "id": "1063a6b9-aecd-4b73-950f-5c934298dbd4",
   "metadata": {
    "tags": []
   },
   "outputs": [],
   "source": [
    "shortlisted_articles_df['corrected_tokens'] = shortlisted_articles_df['all_content_tokens'].apply(lambda x: min(x, 1536))"
   ]
  },
  {
   "cell_type": "code",
   "execution_count": 10,
   "id": "b96e2e5e-ef9c-47e8-8448-450a542ee075",
   "metadata": {
    "tags": []
   },
   "outputs": [],
   "source": [
    "import pandas as pd"
   ]
  },
  {
   "cell_type": "code",
   "execution_count": 19,
   "id": "2bce2750-4a06-42f7-a04f-4f3ca06aa310",
   "metadata": {
    "tags": []
   },
   "outputs": [],
   "source": [
    "from copy import deepcopy"
   ]
  },
  {
   "cell_type": "code",
   "execution_count": 20,
   "id": "940f4136-aa8c-4ba3-8aeb-ef13b0fc7859",
   "metadata": {
    "tags": []
   },
   "outputs": [],
   "source": [
    "invalid_json = deepcopy(TrainingDataGenerator.invalid_response_dict['65316a681e5cc42b1b13dc29']['model_response'])"
   ]
  },
  {
   "cell_type": "code",
   "execution_count": 15,
   "id": "71fc5f43-cd7e-4a71-8f7b-825fc36b7573",
   "metadata": {
    "tags": []
   },
   "outputs": [],
   "source": [
    "import json"
   ]
  },
  {
   "cell_type": "code",
   "execution_count": 7,
   "id": "cd2e709d-b5f0-429f-9d2b-10d5eda90fc8",
   "metadata": {
    "tags": []
   },
   "outputs": [],
   "source": [
    "b = {\n",
    "  \"summary\": \"!👄! Ad violations: According to ASCI, personal care product companies produced the most objectionable ads in FY22 and 1Q-3Q FY23. \\n !📈! Rising trend: ASCI noted a 272% rise in the number of upheld objections from 2019 to 2023. The personal care industry contributes to 12% of all ads deemed objectionable. \\n !📲! Influencers and D2C Brands: 68% of the ads processed in the personal care category were linked to influencers, while 84% of violative ads were from D2C brands.\",\n",
    "  \"summary_critique\": \"The summary includes key details from the article such as the role of D2C brands and influencers in the rise of objectionable ads in the personal care sector. It adheres to the _summary_markdown_format_, is readable, accurately represents the information in the article, and is faithful to the content.\",\n",
    "  \"improved_summary\": \"!👄! Personal Care Ad Violations: Personal care companies accounted for most 'objectionable' ads in FY22, and 1Q-3Q FY23, reveals an ASCI report. \\n !📈! Growing Trend: There was a 272% surge in upheld objections from 2019 to 2023, the personal care sector making up 12% of all such ads. \\n !📲! Influencer and D2C Impact: Influencers were linked to 68% of processed ads in the category, and D2C brands were associated with 84% of violative ads.\",\n",
    "  \"top_queries\": \"ASCI report 2023; objectionable ads in personal care; rise in ad violations; role of influencers in ad violations; contribution of D2C brands to ad violations\",\n",
    "  \"indian_or_international\": \"indian\",\n",
    "  \"business_or_financial_article\": True,\n",
    "  \"relevant_for_indians\": True,\n",
    "  \"category\": \"business\",\n",
    "  \"article_interest_duration_evaluation\": \"The information in this article is likely to be of interest to readers until the end of the financial year 2022-23, when new reports and data will be published.\",\n",
    "  \"article_interest_duration\": 14,\n",
    "  \"popularity_evaluation\": 0.35,\n",
    "  \"popularity_evaluation_critique\": \"The popularity score is fair as the article highlights a concerning trend in a prevalent industry but lacks strong emotional appeal.\",\n",
    "  \"final_reader_interest_score\": 0.37,\n",
    "  \"final_headline_effectiveness_score\": 0.35,\n",
    "  \"final_event_novelty_score\": 0.4,\n",
    "  \"final_emotional_impact_score\": 0.3,\n",
    "  \"improved_headline\": \"'Personal Care Brands Lead in Violation of Ad Codes: An ASCI Report'\",\n",
    "  \"article_type\": \"fact\",\n",
    "  \"article_sentiment\": \"NA\"\n",
    "}"
   ]
  },
  {
   "cell_type": "code",
   "execution_count": 8,
   "id": "1b44c73b-5edf-464e-ab49-4064ec67b3f2",
   "metadata": {
    "tags": []
   },
   "outputs": [
    {
     "data": {
      "text/plain": [
       "['summary',\n",
       " 'summary_critique',\n",
       " 'improved_summary',\n",
       " 'top_queries',\n",
       " 'indian_or_international',\n",
       " 'business_or_financial_article',\n",
       " 'relevant_for_indians',\n",
       " 'category',\n",
       " 'article_interest_duration_evaluation',\n",
       " 'article_interest_duration',\n",
       " 'popularity_evaluation',\n",
       " 'popularity_evaluation_critique',\n",
       " 'final_reader_interest_score',\n",
       " 'final_headline_effectiveness_score',\n",
       " 'final_event_novelty_score',\n",
       " 'final_emotional_impact_score',\n",
       " 'improved_headline',\n",
       " 'article_type',\n",
       " 'article_sentiment']"
      ]
     },
     "execution_count": 8,
     "metadata": {},
     "output_type": "execute_result"
    }
   ],
   "source": [
    "list(b.keys())"
   ]
  },
  {
   "cell_type": "code",
   "execution_count": 17,
   "id": "7eaabb80-f4c0-439b-bfcd-01c49bd6c422",
   "metadata": {
    "tags": []
   },
   "outputs": [],
   "source": [
    "fixed_json = json.dumps({\n",
    "  \"summary\": \"!👄! Ad violations: According to ASCI, personal care product companies produced the most objectionable ads in FY22 and 1Q-3Q FY23. \\n !📈! Rising trend: ASCI noted a 272% rise in the number of upheld objections from 2019 to 2023. The personal care industry contributes to 12% of all ads deemed objectionable. \\n !📲! Influencers and D2C Brands: 68% of the ads processed in the personal care category were linked to influencers, while 84% of violative ads were from D2C brands.\",\n",
    "  \"summary_critique\": \"The summary includes key details from the article such as the role of D2C brands and influencers in the rise of objectionable ads in the personal care sector. It adheres to the _summary_markdown_format_, is readable, accurately represents the information in the article, and is faithful to the content.\",\n",
    "  \"improved_summary\": \"!👄! Personal Care Ad Violations: Personal care companies accounted for most 'objectionable' ads in FY22, and 1Q-3Q FY23, reveals an ASCI report. \\n !📈! Growing Trend: There was a 272% surge in upheld objections from 2019 to 2023, the personal care sector making up 12% of all such ads. \\n !📲! Influencer and D2C Impact: Influencers were linked to 68% of processed ads in the category, and D2C brands were associated with 84% of violative ads.\",\n",
    "  \"top_queries\": \"ASCI report 2023; objectionable ads in personal care; rise in ad violations; role of influencers in ad violations; contribution of D2C brands to ad violations\",\n",
    "  \"indian_or_international\": \"indian\",\n",
    "  \"business_or_financial_article\": True,\n",
    "  \"relevant_for_indians\": True,\n",
    "  \"category\": \"business\",\n",
    "  \"article_interest_duration_evaluation\": \"The information in this article is likely to be of interest to readers until the end of the financial year 2022-23, when new reports and data will be published.\",\n",
    "  \"article_interest_duration\": 14,\n",
    "  \"popularity_evaluation\": 0.35,\n",
    "  \"popularity_evaluation_critique\": \"The popularity score is fair as the article highlights a concerning trend in a prevalent industry but lacks strong emotional appeal.\",\n",
    "  \"final_reader_interest_score\": 0.37,\n",
    "  \"final_headline_effectiveness_score\": 0.35,\n",
    "  \"final_event_novelty_score\": 0.4,\n",
    "  \"final_emotional_impact_score\": 0.3,\n",
    "  \"improved_headline\": \"'Personal Care Brands Lead in Violation of Ad Codes: An ASCI Report'\",\n",
    "  \"article_type\": \"fact\",\n",
    "  \"article_sentiment\": \"NA\"\n",
    "})"
   ]
  },
  {
   "cell_type": "code",
   "execution_count": 21,
   "id": "0678a802-7bfd-49df-bbcf-9eb7b1427d71",
   "metadata": {
    "tags": []
   },
   "outputs": [],
   "source": [
    "TrainingDataGenerator.invalid_response_dict['65316a681e5cc42b1b13dc29']['model_response'] = fixed_json"
   ]
  },
  {
   "cell_type": "code",
   "execution_count": 23,
   "id": "4755c5e0-f966-4557-9187-77ad195b4385",
   "metadata": {
    "tags": []
   },
   "outputs": [],
   "source": [
    "TrainingDataGenerator.invalid_response_dict['65316a681e5cc42b1b13dc29']['proper_json_generated'] = True"
   ]
  },
  {
   "cell_type": "code",
   "execution_count": 25,
   "id": "df3c548e-0402-46ec-baca-ab8e89336bf6",
   "metadata": {
    "tags": []
   },
   "outputs": [],
   "source": [
    "TrainingDataGenerator.save_attributes(response_json=TrainingDataGenerator.invalid_response_dict['65316a681e5cc42b1b13dc29'])"
   ]
  },
  {
   "cell_type": "code",
   "execution_count": 11,
   "id": "aaa8b1ac-cde5-4b40-8a67-f194d5c6113c",
   "metadata": {
    "tags": []
   },
   "outputs": [],
   "source": [
    "import json"
   ]
  },
  {
   "cell_type": "code",
   "execution_count": 17,
   "id": "7cf26a9c-41b4-4da6-9d8b-b8e51611b50d",
   "metadata": {
    "tags": []
   },
   "outputs": [
    {
     "data": {
      "text/plain": [
       "{'summary': '!💡! Key Points: Rule-based investing strategy could help investors improve their financial outcomes by eliminating emotional biases; It involves defining the investment objective, identifying core investment competencies, selecting the technical and fundamental indicators, determining the Entry and exit rules, setting risk management and position sizing rules, and back-testing the strategy.',\n",
       " 'summary_critique': 'The mentioned summary accurately corresponds to the article details primarily focusing on rule-based investment strategy. However, it lacks some crucial information such as using paper trading for testing the strategy and direct implementation after validating the strategy.',\n",
       " 'improved_summary': '!💹! Investment Strategy: Following a rule-based investment strategy can curtail losses and improve trading performance. \\\\n !📝! Process: The strategy involves defining an investment objective, identifying core investment competencies, choosing relevant technical and fundamental indicators, and carefully crafting entry and exit rules.\\\\n !🛠️! Validation: The strategy must be back-tested with historical data, evaluated with paper trading in a simulated environment, and then implemented in live markets.',\n",
       " 'top_queries': 'Rule-based investing strategy; Criteria for rule-based investment; Benefits of rule-based investing; Improving trading performance; Evaluation of investment strategies',\n",
       " 'indian_or_international': 'indian',\n",
       " 'business_or_financial_article': True,\n",
       " 'relevant_for_indians': True,\n",
       " 'category': 'personal_finance',\n",
       " 'article_interest_duration_evaluation': \"This article provides advice that could be useful for investors at any time. It's not tied to a specific event or moment.\",\n",
       " 'article_interest_duration': -1,\n",
       " 'popularity_evaluation': 0.3,\n",
       " 'popularity_evaluation_critique': \"The relevance of the article to a broad category of investors including new entrants and professionals, and the topic's timeless nature account for the reasonable score.\",\n",
       " 'final_reader_interest_score': 0.7,\n",
       " 'final_headline_effectiveness_score': 0.6,\n",
       " 'final_event_novelty_score': 0.2,\n",
       " 'final_emotional_impact_score': 0.3,\n",
       " 'improved_headline': 'Mastering Investments: The Power of Rule-Based Investment Strategies',\n",
       " 'article_type': 'educational',\n",
       " 'article_sentiment': 'NA'}"
      ]
     },
     "execution_count": 17,
     "metadata": {},
     "output_type": "execute_result"
    }
   ],
   "source": [
    "json.loads(TrainingDataGenerator.valid_response_dict['651dd837a662d76276b7e69b']"
   ]
  },
  {
   "cell_type": "code",
   "execution_count": 21,
   "id": "703978b0-1f2c-46b0-8e6a-c9c944a37edc",
   "metadata": {
    "tags": []
   },
   "outputs": [
    {
     "data": {
      "text/plain": [
       "{'summary': \"CCI Intervention: The Competition Commission of India (CCI) orders Denmark’s A.P. Moller-Maersk and Dubai’s DP World to withdraw customer advisories, which allegedly hamper growth at Mumbai's Jawaharlal Nehru Port Trust 🚢\\nAntitrust Allegations: Probe ordered due to suspected antitrust violations. Singapore’s PSA International Pte Ltd alleges Maersk and DP World are hindering the growth of PSA’s terminal by colluding on port charges 🔍\\nInterim Solution: The advisory withdrawal order is an interim measure. DP World and Maersk deny allegations, arguing the advisories were based on 'commercial justifications' 🛡️\",\n",
       " 'summary_critique': 'The summary accurately reflects the contents of the article, covering all important points. The adherence to the format is great, with labels and emoji making the summary engaging and easier to read. The grammar and punctuation are also correct, signifying good readability.',\n",
       " 'improved_summary': \"CCI Directive 🗒️: Denmark’s A.P. Moller-Maersk and Dubai’s DP World are ordered by India's CCI to withdraw certain customer advisories hampering growth at Jawaharlal Nehru Port Trust, Mumbai\\nAlleged Anti-competitive Behavior 🔍: A probe is ordered to investigate suspected antitrust conduct. Maersk and DP World are claimed by Singapore’s PSA to create hindrances to the growth of their terminal by colluding on certain port charges\\nTemporary Measure 🛡️: Advisory withdrawal order is issued as a short-term solution. Both companies deny the allegations and insist that the advisories are born out of 'commercial justifications'.\",\n",
       " 'top_queries': \"What was the CCI's order to Maersk and DP World; What did Singapore’s PSA International Pte Ltd allege; How does the advisory withdrawal affect Jawaharlal Nehru Port Trust; Are Maersk and DP World guilty of antitrust violations; What are the implications of the ongoing probe\",\n",
       " 'indian_or_international': 'international',\n",
       " 'business_or_financial_article': True,\n",
       " 'relevant_for_indians': True,\n",
       " 'category': 'business',\n",
       " 'article_validity_duration_evaluation': \"The validity of this article's content is prolonged due to the ongoing nature of antitrust probe, which will take time to reach a conclusion. The implications of the probe for parties involved and the outcome will remain relevant even if a final decision is delayed.\",\n",
       " 'article_validity_duration': 30,\n",
       " 'popularity_evaluation': 0.4,\n",
       " 'popularity_evaluation_critique': 'Popularity estimation seems to be adequate. The business community will likely be interested due to the possible implications of the antitrust issue. It may not reach the broader audience, hence the score of 0.4 is justified.',\n",
       " 'final_reader_interest_score': 0.4,\n",
       " 'final_headline_effectiveness_score': 0.3,\n",
       " 'final_event_novelty_score': 0.5,\n",
       " 'final_emotional_impact_score': 0.3,\n",
       " 'improved_headline': \"CCI's Watchdog Role: Maersk and DP World Ordered to Retract Advisories Amid Antitrust Allegations\",\n",
       " 'article_type': 'fact',\n",
       " 'article_sentiment': 'NA'}"
      ]
     },
     "execution_count": 21,
     "metadata": {},
     "output_type": "execute_result"
    }
   ],
   "source": [
    "json.loads(TrainingDataGenerator.valid_response_dict['65316cb11e5cc42b1b13e0f4']['model_response'])"
   ]
  },
  {
   "cell_type": "code",
   "execution_count": 35,
   "id": "61badb60-ad20-4dfb-94cb-5e3b2a8521ff",
   "metadata": {
    "tags": []
   },
   "outputs": [],
   "source": [
    "import json"
   ]
  },
  {
   "cell_type": "code",
   "execution_count": 43,
   "id": "0fdec8c8-39a6-488d-8129-2ff0f9211013",
   "metadata": {
    "tags": []
   },
   "outputs": [],
   "source": [
    "k = {\"summary\": \"<Summarize the article, focusing on: a. Thoroughness: Include essential details and expand on headline points. b. Readability: Ensure proper grammar, 2-3 points, up to 80 words. c. Faithfulness: Don't mention any details which are not part of the article. d. Accuracy: Verify numbers, dates, and events. f. Structure: Single-line points preceded by relevant label and emoji. g. Format: Use !emoji! label: point format without preamble/postamble, adhering to a 3-point maximum. We will call this format as _summary_markdown_format_ -> '!emoji1! label1: point1 \\n !emoji2! label2: point2. The platform is visited by users of all age groups and hence do not use any inappropriate content or emojis>\", \"summary_critique\": \"<Evaluate the summary against the article for thoroughness, readability, faithfulness, accuracy, and the _summary_markdown_format_, noting any missed details or format issues>\", \"improved_summary\": \"<Improve the summary using feedback from the critique, following the _summary_markdown_format_>\", \"top_queries\": \"<List 5 relevant keywords/queries, separated by semicolons, without quotes to ensure JSON compatibility. keywords are short 1-2 words, while queries last from 3-6 words>\", \"indian_or_international\": \"<Specify if the article is \\'indian\\' or \\'international\\'>\", \"business_or_financial_article\": \"<True or False, based on the article\\'s relevance to Indian corporations, investors, and policies impacting them>\", \"relevant_for_indians\": \"<True or False, considering the article\\'s applicability to Indian readers. Most international news are not relevant for Indians, except if they are of very popular entities (like google, openai, Microsoft) or have global impact like fed changes>\", \"category\": \"<categorize the article into one of the 5 distinct categories based on the primary focus of article. a. irrelevant: if business_or_financial_article is False  b. financial: information of markets, financial instruments or company financial reports. c. business: information of operational, strategic, leadership or other non financial news of companies. d. economic_policy: information of economic trends or policy and regulatory impacts on larger industry. e. personal_finance: provides guidance on individual financial management, such as investment for personal goals, savings, taxation, budget updates, insurance or other financial products, directly targeting individual consumers and passive investors>\", \"article_interest_duration_evaluation\": \"<Analyze for how many days the information in the article will of interest to users after it is published>\", \"article_interest_duration\": \"<Determine the article\\'s interest duration from options: 1, 3, 7, 14, 30, -1 (timeless), based on the evaluation>\", \"popularity_evaluation\": \"<Assess the article\\'s potential popularity considering reader interest, headline effectiveness, event novelty, and emotional impact, with scores from 0 to 1. Be conservative with scores over 0.4>\", \"popularity_evaluation_critique\": \"<Critique the popularity assessment for possible overestimations or underestimations>\", \"final_reader_interest_score\": \"<0 to 1 float>\", \"final_headline_effectiveness_score\": \"<0 to 1 float>\", \"final_event_novelty_score\": \"<0 to 1 float>\", \"final_emotional_impact_score\": \"<0 to 1 float>\", \"improved_headline\": \"<Craft an engaging headline that captures the article\\'s essence without resorting to clickbait>\", \"article_type\": \"<Identify the article as fact, opinion, analysis, educational, or sponsored, based on its content and presentation>\", \"article_sentiment\": \"<Determine if the article\\'s sentiment is bullish, bearish, or NA (neutral)>\"}"
   ]
  },
  {
   "cell_type": "code",
   "execution_count": 44,
   "id": "509ef985-8bb2-470d-b3db-ab0d8a7462b7",
   "metadata": {
    "tags": []
   },
   "outputs": [
    {
     "data": {
      "text/plain": [
       "dict_keys(['summary', 'summary_critique', 'improved_summary', 'top_queries', 'indian_or_international', 'business_or_financial_article', 'relevant_for_indians', 'category', 'article_interest_duration_evaluation', 'article_interest_duration', 'popularity_evaluation', 'popularity_evaluation_critique', 'final_reader_interest_score', 'final_headline_effectiveness_score', 'final_event_novelty_score', 'final_emotional_impact_score', 'improved_headline', 'article_type', 'article_sentiment'])"
      ]
     },
     "execution_count": 44,
     "metadata": {},
     "output_type": "execute_result"
    }
   ],
   "source": [
    "k.keys()"
   ]
  },
  {
   "cell_type": "code",
   "execution_count": 45,
   "id": "88f928a1-104b-497f-8b83-5c785affa430",
   "metadata": {
    "tags": []
   },
   "outputs": [
    {
     "data": {
      "text/plain": [
       "'{\"summary\": \"<Summarize the article, focusing on: a. Thoroughness: Include essential details and expand on headline points. b. Readability: Ensure proper grammar, 2-3 points, up to 80 words. c. Faithfulness: Don\\'t mention any details which are not part of the article. d. Accuracy: Verify numbers, dates, and events. f. Structure: Single-line points preceded by relevant label and emoji. g. Format: Use !emoji! label: point format without preamble/postamble, adhering to a 3-point maximum. We will call this format as _summary_markdown_format_ -> \\'!emoji1! label1: point1 \\\\n !emoji2! label2: point2. The platform is visited by users of all age groups and hence do not use any inappropriate content or emojis>\", \"summary_critique\": \"<Evaluate the summary against the article for thoroughness, readability, faithfulness, accuracy, and the _summary_markdown_format_, noting any missed details or format issues>\", \"improved_summary\": \"<Improve the summary using feedback from the critique, following the _summary_markdown_format_>\", \"top_queries\": \"<List 5 relevant keywords/queries, separated by semicolons, without quotes to ensure JSON compatibility. keywords are short 1-2 words, while queries last from 3-6 words>\", \"indian_or_international\": \"<Specify if the article is \\'indian\\' or \\'international\\'>\", \"business_or_financial_article\": \"<True or False, based on the article\\'s relevance to Indian corporations, investors, and policies impacting them>\", \"relevant_for_indians\": \"<True or False, considering the article\\'s applicability to Indian readers. Most international news are not relevant for Indians, except if they are of very popular entities (like google, openai, Microsoft) or have global impact like fed changes>\", \"category\": \"<categorize the article into one of the 5 distinct categories based on the primary focus of article. a. irrelevant: if business_or_financial_article is False  b. financial: information of markets, financial instruments or company financial reports. c. business: information of operational, strategic, leadership or other non financial news of companies. d. economic_policy: information of economic trends or policy and regulatory impacts on larger industry. e. personal_finance: provides guidance on individual financial management, such as investment for personal goals, savings, taxation, budget updates, insurance or other financial products, directly targeting individual consumers and passive investors>\", \"article_interest_duration_evaluation\": \"<Analyze for how many days the information in the article will of interest to users after it is published>\", \"article_interest_duration\": \"<Determine the article\\'s interest duration from options: 1, 3, 7, 14, 30, -1 (timeless), based on the evaluation>\", \"popularity_evaluation\": \"<Assess the article\\'s potential popularity considering reader interest, headline effectiveness, event novelty, and emotional impact, with scores from 0 to 1. Be conservative with scores over 0.4>\", \"popularity_evaluation_critique\": \"<Critique the popularity assessment for possible overestimations or underestimations>\", \"final_reader_interest_score\": \"<0 to 1 float>\", \"final_headline_effectiveness_score\": \"<0 to 1 float>\", \"final_event_novelty_score\": \"<0 to 1 float>\", \"final_emotional_impact_score\": \"<0 to 1 float>\", \"improved_headline\": \"<Craft an engaging headline that captures the article\\'s essence without resorting to clickbait>\", \"article_type\": \"<Identify the article as fact, opinion, analysis, educational, or sponsored, based on its content and presentation>\", \"article_sentiment\": \"<Determine if the article\\'s sentiment is bullish, bearish, or NA (neutral)>\"}'"
      ]
     },
     "execution_count": 45,
     "metadata": {},
     "output_type": "execute_result"
    }
   ],
   "source": [
    "json.dumps(k)"
   ]
  },
  {
   "cell_type": "code",
   "execution_count": 14,
   "id": "f6cfda37-f527-465f-956b-2299b4646d47",
   "metadata": {
    "tags": []
   },
   "outputs": [
    {
     "name": "stdout",
     "output_type": "stream",
     "text": [
      "[{'emoji': 'emoji1', 'label': 'label1', 'point': 'point1'}, {'emoji': 'emoji2', 'label': 'label2', 'point': 'point2'}]\n"
     ]
    }
   ],
   "source": [
    "def convert_to_dicts(s):\n",
    "    # Split the string into parts based on \"\\n\" to get each point\n",
    "    points = s.split(\"\\\\n\")\n",
    "    result = []\n",
    "\n",
    "    for point in points:\n",
    "        # Split each point into emoji and the rest based on the first \"!\"\n",
    "        emoji_split = point.split(\"!\", 2)\n",
    "        if len(emoji_split) < 3:\n",
    "            continue  # Skip if the format does not match expected\n",
    "        \n",
    "        emoji, rest = emoji_split[1], emoji_split[2]\n",
    "        # Split the rest into label and point based on the first \":\"\n",
    "        label_point_split = rest.split(\":\", 1)\n",
    "        if len(label_point_split) < 2:\n",
    "            continue  # Skip if the format does not match expected\n",
    "\n",
    "        label, point = label_point_split[0].strip(), label_point_split[1].strip()\n",
    "        # Append the result as a dict to the result list\n",
    "        result.append({\"emoji\": emoji, \"label\": label, \"point\": point})\n",
    "\n",
    "    return result\n",
    "\n",
    "# Example usage\n",
    "s = \"!emoji1! label1: point1 \\\\n !emoji2! label2: point2\"\n",
    "converted = convert_to_dicts(s)\n",
    "print(converted)"
   ]
  },
  {
   "cell_type": "code",
   "execution_count": 15,
   "id": "304680ed-6971-4e4c-adb9-d9b06c3bae29",
   "metadata": {
    "tags": []
   },
   "outputs": [],
   "source": [
    "s1 = '!💹! Investment Strategy: Following a rule-based investment strategy can curtail losses and improve trading performance. \\\\n !📝! Process: The strategy involves defining an investment objective, identifying core investment competencies, choosing relevant technical and fundamental indicators, and carefully crafting entry and exit rules.\\\\n !🛠️! Validation: The strategy must be back-tested with historical data, evaluated with paper trading in a simulated environment, and then implemented in live markets.'"
   ]
  },
  {
   "cell_type": "code",
   "execution_count": 16,
   "id": "0f7e5bd6-d8ee-4c09-9915-4688b41f1cd5",
   "metadata": {
    "tags": []
   },
   "outputs": [
    {
     "data": {
      "text/plain": [
       "[{'emoji': '💹',\n",
       "  'label': 'Investment Strategy',\n",
       "  'point': 'Following a rule-based investment strategy can curtail losses and improve trading performance.'},\n",
       " {'emoji': '📝',\n",
       "  'label': 'Process',\n",
       "  'point': 'The strategy involves defining an investment objective, identifying core investment competencies, choosing relevant technical and fundamental indicators, and carefully crafting entry and exit rules.'},\n",
       " {'emoji': '🛠️',\n",
       "  'label': 'Validation',\n",
       "  'point': 'The strategy must be back-tested with historical data, evaluated with paper trading in a simulated environment, and then implemented in live markets.'}]"
      ]
     },
     "execution_count": 16,
     "metadata": {},
     "output_type": "execute_result"
    }
   ],
   "source": [
    "convert_to_dicts(s1)"
   ]
  },
  {
   "cell_type": "code",
   "execution_count": null,
   "id": "5252ea39-93e9-4d64-91f3-871b67a0c130",
   "metadata": {},
   "outputs": [],
   "source": [
    "1609 * "
   ]
  },
  {
   "cell_type": "code",
   "execution_count": 5,
   "id": "0fadbd77-8ff9-4856-a3c1-2c561fedb57d",
   "metadata": {
    "tags": []
   },
   "outputs": [
    {
     "data": {
      "text/html": [
       "<div>\n",
       "<style scoped>\n",
       "    .dataframe tbody tr th:only-of-type {\n",
       "        vertical-align: middle;\n",
       "    }\n",
       "\n",
       "    .dataframe tbody tr th {\n",
       "        vertical-align: top;\n",
       "    }\n",
       "\n",
       "    .dataframe thead th {\n",
       "        text-align: right;\n",
       "    }\n",
       "</style>\n",
       "<table border=\"1\" class=\"dataframe\">\n",
       "  <thead>\n",
       "    <tr style=\"text-align: right;\">\n",
       "      <th></th>\n",
       "      <th>url</th>\n",
       "      <th>source_id</th>\n",
       "      <th>published_time</th>\n",
       "      <th>short_description</th>\n",
       "      <th>tags</th>\n",
       "      <th>title</th>\n",
       "      <th>authors</th>\n",
       "      <th>ai_generated_info</th>\n",
       "      <th>cleaned_text</th>\n",
       "      <th>article_id</th>\n",
       "      <th>source_name</th>\n",
       "      <th>cat</th>\n",
       "      <th>subcat</th>\n",
       "      <th>fullcat</th>\n",
       "      <th>proportion</th>\n",
       "      <th>scaled_proportion</th>\n",
       "      <th>prob</th>\n",
       "      <th>is_selected</th>\n",
       "      <th>full_content</th>\n",
       "    </tr>\n",
       "  </thead>\n",
       "  <tbody>\n",
       "    <tr>\n",
       "      <th>0</th>\n",
       "      <td>https://economictimes.indiatimes.com/news/inte...</td>\n",
       "      <td>6512cdcad01a9c8e86263e05</td>\n",
       "      <td>2023-07-29T16:46:00+05:30</td>\n",
       "      <td>Sony has adjusted the release dates of several...</td>\n",
       "      <td>['Sony film releases', 'Spider Verse', 'sony',...</td>\n",
       "      <td>Sony delays major film releases: From 'Spider-...</td>\n",
       "      <td>['The Feed']</td>\n",
       "      <td>{'summary': {'OpenHermes_WatermelonSapphireZip...</td>\n",
       "      <td>Sony Pictures has made significant changes to ...</td>\n",
       "      <td>651df121a662d76276b82825</td>\n",
       "      <td>economic-times</td>\n",
       "      <td>news</td>\n",
       "      <td>international</td>\n",
       "      <td>economic-times-news-international</td>\n",
       "      <td>0.000229</td>\n",
       "      <td>0.004977</td>\n",
       "      <td>0.000648</td>\n",
       "      <td>True</td>\n",
       "      <td>headline: Sony delays major film releases: Fro...</td>\n",
       "    </tr>\n",
       "    <tr>\n",
       "      <th>1</th>\n",
       "      <td>https://www.bworldonline.com/infographics/2023...</td>\n",
       "      <td>65559d0c96fb32eef21a562f</td>\n",
       "      <td>2023-07-04T16:02:07+00:00</td>\n",
       "      <td>The Philippines ranked 102nd and 80th out of 1...</td>\n",
       "      <td>NaN</td>\n",
       "      <td>Philippines ranks 102nd and 80th in freedom an...</td>\n",
       "      <td>['CEDadiantiTyClea']</td>\n",
       "      <td>{'summary': {'OpenHermes_WatermelonSapphireZip...</td>\n",
       "      <td>Home Infographics Philippines ranks 102nd and ...</td>\n",
       "      <td>6555c1164b13023f9348ce12</td>\n",
       "      <td>business-world</td>\n",
       "      <td>infographics</td>\n",
       "      <td>NaN</td>\n",
       "      <td>business-world-infographics-</td>\n",
       "      <td>0.001185</td>\n",
       "      <td>0.025799</td>\n",
       "      <td>0.024488</td>\n",
       "      <td>True</td>\n",
       "      <td>headline: Philippines ranks 102nd and 80th in ...</td>\n",
       "    </tr>\n",
       "    <tr>\n",
       "      <th>2</th>\n",
       "      <td>https://zerodha.com/varsity/chapter/maintainin...</td>\n",
       "      <td>65291b1e9a2fbc229e5f29c9</td>\n",
       "      <td>2020-04-29T07:53:50+0000</td>\n",
       "      <td>Maintaining discipline is vital for trading su...</td>\n",
       "      <td>NaN</td>\n",
       "      <td>251. Maintaining Discipline   : Innerworth -...</td>\n",
       "      <td>[]</td>\n",
       "      <td>{'summary': {'OpenHermes_WatermelonSapphireZip...</td>\n",
       "      <td>The winning trader is a disciplined trader. Di...</td>\n",
       "      <td>652ebbbc1e5cc42b1b139a05</td>\n",
       "      <td>zerodha-varsity</td>\n",
       "      <td>varsity</td>\n",
       "      <td>NaN</td>\n",
       "      <td>zerodha-varsity-varsity-</td>\n",
       "      <td>0.000686</td>\n",
       "      <td>0.014937</td>\n",
       "      <td>0.000935</td>\n",
       "      <td>True</td>\n",
       "      <td>headline:   251. Maintaining Discipline   : In...</td>\n",
       "    </tr>\n",
       "    <tr>\n",
       "      <th>3</th>\n",
       "      <td>https://www.livemint.com/market/patanjali-ofs-...</td>\n",
       "      <td>650046bd005149c49201269f</td>\n",
       "      <td>2023-07-13T17:14:17+05:30</td>\n",
       "      <td>Patanjali Foods' non-retail open offer for 2.5...</td>\n",
       "      <td>['Patanjali foods', 'OFS', 'equity shares offe...</td>\n",
       "      <td>Patanjali OFS: Non-retail portion fully subscr...</td>\n",
       "      <td>['Kaustubh Bhosale']</td>\n",
       "      <td>{'summary': {'OpenHermes_WatermelonSapphireZip...</td>\n",
       "      <td>The non-retail portion of the open offer (OFS...</td>\n",
       "      <td>65316f2b1e5cc42b1b13f1fa</td>\n",
       "      <td>live-mint</td>\n",
       "      <td>market</td>\n",
       "      <td>NaN</td>\n",
       "      <td>live-mint-market-</td>\n",
       "      <td>0.001210</td>\n",
       "      <td>0.026338</td>\n",
       "      <td>0.024126</td>\n",
       "      <td>True</td>\n",
       "      <td>headline: Patanjali OFS: Non-retail portion fu...</td>\n",
       "    </tr>\n",
       "    <tr>\n",
       "      <th>4</th>\n",
       "      <td>https://www.livemint.com/market/live-blog/ange...</td>\n",
       "      <td>650046bd005149c49201269f</td>\n",
       "      <td>2024-01-23T09:17:53+05:30</td>\n",
       "      <td>Angel One stock price went down today, 23 Jan ...</td>\n",
       "      <td>['Angel One Share Price Live', 'Angel One Stoc...</td>\n",
       "      <td>Angel One share price Today Live Updates : Ang...</td>\n",
       "      <td>['Livemint']</td>\n",
       "      <td>{'summary': {'OpenHermes_ApricotTangerineScall...</td>\n",
       "      <td>Angel One Share Price Today : On the last day,...</td>\n",
       "      <td>65af640c6391ac19baa87413</td>\n",
       "      <td>live-mint</td>\n",
       "      <td>market</td>\n",
       "      <td>live-blog</td>\n",
       "      <td>live-mint-market-live-blog</td>\n",
       "      <td>0.000181</td>\n",
       "      <td>0.003937</td>\n",
       "      <td>0.000101</td>\n",
       "      <td>True</td>\n",
       "      <td>headline: Angel One share price Today Live Upd...</td>\n",
       "    </tr>\n",
       "    <tr>\n",
       "      <th>...</th>\n",
       "      <td>...</td>\n",
       "      <td>...</td>\n",
       "      <td>...</td>\n",
       "      <td>...</td>\n",
       "      <td>...</td>\n",
       "      <td>...</td>\n",
       "      <td>...</td>\n",
       "      <td>...</td>\n",
       "      <td>...</td>\n",
       "      <td>...</td>\n",
       "      <td>...</td>\n",
       "      <td>...</td>\n",
       "      <td>...</td>\n",
       "      <td>...</td>\n",
       "      <td>...</td>\n",
       "      <td>...</td>\n",
       "      <td>...</td>\n",
       "      <td>...</td>\n",
       "      <td>...</td>\n",
       "    </tr>\n",
       "    <tr>\n",
       "      <th>2307</th>\n",
       "      <td>https://zerodha.com/varsity/chapter/surviving-...</td>\n",
       "      <td>65291b1e9a2fbc229e5f29c9</td>\n",
       "      <td>2020-12-17T06:02:28+0000</td>\n",
       "      <td>It may be hard not to feel a little disappoint...</td>\n",
       "      <td>NaN</td>\n",
       "      <td>Surviving a Slump : Innerworth - Mind over mar...</td>\n",
       "      <td>[]</td>\n",
       "      <td>{'summary': {'OpenHermes_WatermelonSapphireZip...</td>\n",
       "      <td>Despite what we might wish for, it’s hard to m...</td>\n",
       "      <td>652ebbd21e5cc42b1b139ae3</td>\n",
       "      <td>zerodha-varsity</td>\n",
       "      <td>varsity</td>\n",
       "      <td>NaN</td>\n",
       "      <td>zerodha-varsity-varsity-</td>\n",
       "      <td>0.000686</td>\n",
       "      <td>0.014937</td>\n",
       "      <td>0.279419</td>\n",
       "      <td>False</td>\n",
       "      <td>headline: Surviving a Slump : Innerworth - Min...</td>\n",
       "    </tr>\n",
       "    <tr>\n",
       "      <th>2308</th>\n",
       "      <td>https://zerodha.com/varsity/chapter/clear-and-...</td>\n",
       "      <td>65291b1e9a2fbc229e5f29c9</td>\n",
       "      <td>2020-01-29T06:11:39+0000</td>\n",
       "      <td>Goals direct and motivate. Without clear and s...</td>\n",
       "      <td>NaN</td>\n",
       "      <td>52. Clear and Specific Goals   : Innerworth ...</td>\n",
       "      <td>[]</td>\n",
       "      <td>{'summary': {'OpenHermes_WatermelonSapphireZip...</td>\n",
       "      <td>Trading can be tedious at times. Day in and da...</td>\n",
       "      <td>652ebb9f1e5cc42b1b13994c</td>\n",
       "      <td>zerodha-varsity</td>\n",
       "      <td>varsity</td>\n",
       "      <td>NaN</td>\n",
       "      <td>zerodha-varsity-varsity-</td>\n",
       "      <td>0.000686</td>\n",
       "      <td>0.014937</td>\n",
       "      <td>0.595580</td>\n",
       "      <td>False</td>\n",
       "      <td>headline:   52. Clear and Specific Goals   : I...</td>\n",
       "    </tr>\n",
       "    <tr>\n",
       "      <th>2309</th>\n",
       "      <td>https://zerodha.com/varsity/chapter/valuation-...</td>\n",
       "      <td>65291b1e9a2fbc229e5f29c9</td>\n",
       "      <td>2022-05-12T04:30:44+0000</td>\n",
       "      <td>14.1 – Valuations basics We are at the last st...</td>\n",
       "      <td>NaN</td>\n",
       "      <td>14. Valuation (Part 1) – Overview   : Integr...</td>\n",
       "      <td>[]</td>\n",
       "      <td>{'summary': {'OpenHermes_WatermelonSapphireZip...</td>\n",
       "      <td>14.1 – Valuations basicsWe are at the last sta...</td>\n",
       "      <td>652ebbe51e5cc42b1b139c3d</td>\n",
       "      <td>zerodha-varsity</td>\n",
       "      <td>varsity</td>\n",
       "      <td>NaN</td>\n",
       "      <td>zerodha-varsity-varsity-</td>\n",
       "      <td>0.000686</td>\n",
       "      <td>0.014937</td>\n",
       "      <td>0.159576</td>\n",
       "      <td>False</td>\n",
       "      <td>headline:   14. Valuation (Part 1) – Overview ...</td>\n",
       "    </tr>\n",
       "    <tr>\n",
       "      <th>2310</th>\n",
       "      <td>https://zerodha.com/varsity/chapter/finale-hel...</td>\n",
       "      <td>65291b1e9a2fbc229e5f29c9</td>\n",
       "      <td>2021-01-01T08:51:46+0000</td>\n",
       "      <td>The need for a Charting Software along with an...</td>\n",
       "      <td>NaN</td>\n",
       "      <td>19. The Finale – Helping you get started   :...</td>\n",
       "      <td>[]</td>\n",
       "      <td>{'summary': {'OpenHermes_WatermelonSapphireZip...</td>\n",
       "      <td>19.1 – The Charting SoftwareOver the last 18 c...</td>\n",
       "      <td>652ebbdc1e5cc42b1b139b7a</td>\n",
       "      <td>zerodha-varsity</td>\n",
       "      <td>varsity</td>\n",
       "      <td>NaN</td>\n",
       "      <td>zerodha-varsity-varsity-</td>\n",
       "      <td>0.000686</td>\n",
       "      <td>0.014937</td>\n",
       "      <td>0.843301</td>\n",
       "      <td>False</td>\n",
       "      <td>headline:   19. The Finale – Helping you get s...</td>\n",
       "    </tr>\n",
       "    <tr>\n",
       "      <th>2311</th>\n",
       "      <td>https://zerodha.com/varsity/chapter/the-automa...</td>\n",
       "      <td>65291b1e9a2fbc229e5f29c9</td>\n",
       "      <td>2020-03-02T05:07:10+0000</td>\n",
       "      <td>It's possible through over-learning to read si...</td>\n",
       "      <td>NaN</td>\n",
       "      <td>The Automatic Trader : Innerworth - Mind over ...</td>\n",
       "      <td>[]</td>\n",
       "      <td>{'summary': {'OpenHermes_WatermelonSapphireZip...</td>\n",
       "      <td>The winning trader has an intuitive feel for t...</td>\n",
       "      <td>652ebbaf1e5cc42b1b1399ac</td>\n",
       "      <td>zerodha-varsity</td>\n",
       "      <td>varsity</td>\n",
       "      <td>NaN</td>\n",
       "      <td>zerodha-varsity-varsity-</td>\n",
       "      <td>0.000686</td>\n",
       "      <td>0.014937</td>\n",
       "      <td>0.125665</td>\n",
       "      <td>False</td>\n",
       "      <td>headline: The Automatic Trader : Innerworth - ...</td>\n",
       "    </tr>\n",
       "  </tbody>\n",
       "</table>\n",
       "<p>2312 rows × 19 columns</p>\n",
       "</div>"
      ],
      "text/plain": [
       "                                                    url  \\\n",
       "0     https://economictimes.indiatimes.com/news/inte...   \n",
       "1     https://www.bworldonline.com/infographics/2023...   \n",
       "2     https://zerodha.com/varsity/chapter/maintainin...   \n",
       "3     https://www.livemint.com/market/patanjali-ofs-...   \n",
       "4     https://www.livemint.com/market/live-blog/ange...   \n",
       "...                                                 ...   \n",
       "2307  https://zerodha.com/varsity/chapter/surviving-...   \n",
       "2308  https://zerodha.com/varsity/chapter/clear-and-...   \n",
       "2309  https://zerodha.com/varsity/chapter/valuation-...   \n",
       "2310  https://zerodha.com/varsity/chapter/finale-hel...   \n",
       "2311  https://zerodha.com/varsity/chapter/the-automa...   \n",
       "\n",
       "                     source_id             published_time  \\\n",
       "0     6512cdcad01a9c8e86263e05  2023-07-29T16:46:00+05:30   \n",
       "1     65559d0c96fb32eef21a562f  2023-07-04T16:02:07+00:00   \n",
       "2     65291b1e9a2fbc229e5f29c9   2020-04-29T07:53:50+0000   \n",
       "3     650046bd005149c49201269f  2023-07-13T17:14:17+05:30   \n",
       "4     650046bd005149c49201269f  2024-01-23T09:17:53+05:30   \n",
       "...                        ...                        ...   \n",
       "2307  65291b1e9a2fbc229e5f29c9   2020-12-17T06:02:28+0000   \n",
       "2308  65291b1e9a2fbc229e5f29c9   2020-01-29T06:11:39+0000   \n",
       "2309  65291b1e9a2fbc229e5f29c9   2022-05-12T04:30:44+0000   \n",
       "2310  65291b1e9a2fbc229e5f29c9   2021-01-01T08:51:46+0000   \n",
       "2311  65291b1e9a2fbc229e5f29c9   2020-03-02T05:07:10+0000   \n",
       "\n",
       "                                      short_description  \\\n",
       "0     Sony has adjusted the release dates of several...   \n",
       "1     The Philippines ranked 102nd and 80th out of 1...   \n",
       "2     Maintaining discipline is vital for trading su...   \n",
       "3     Patanjali Foods' non-retail open offer for 2.5...   \n",
       "4     Angel One stock price went down today, 23 Jan ...   \n",
       "...                                                 ...   \n",
       "2307  It may be hard not to feel a little disappoint...   \n",
       "2308  Goals direct and motivate. Without clear and s...   \n",
       "2309  14.1 – Valuations basics We are at the last st...   \n",
       "2310  The need for a Charting Software along with an...   \n",
       "2311  It's possible through over-learning to read si...   \n",
       "\n",
       "                                                   tags  \\\n",
       "0     ['Sony film releases', 'Spider Verse', 'sony',...   \n",
       "1                                                   NaN   \n",
       "2                                                   NaN   \n",
       "3     ['Patanjali foods', 'OFS', 'equity shares offe...   \n",
       "4     ['Angel One Share Price Live', 'Angel One Stoc...   \n",
       "...                                                 ...   \n",
       "2307                                                NaN   \n",
       "2308                                                NaN   \n",
       "2309                                                NaN   \n",
       "2310                                                NaN   \n",
       "2311                                                NaN   \n",
       "\n",
       "                                                  title               authors  \\\n",
       "0     Sony delays major film releases: From 'Spider-...          ['The Feed']   \n",
       "1     Philippines ranks 102nd and 80th in freedom an...  ['CEDadiantiTyClea']   \n",
       "2       251. Maintaining Discipline   : Innerworth -...                    []   \n",
       "3     Patanjali OFS: Non-retail portion fully subscr...  ['Kaustubh Bhosale']   \n",
       "4     Angel One share price Today Live Updates : Ang...          ['Livemint']   \n",
       "...                                                 ...                   ...   \n",
       "2307  Surviving a Slump : Innerworth - Mind over mar...                    []   \n",
       "2308    52. Clear and Specific Goals   : Innerworth ...                    []   \n",
       "2309    14. Valuation (Part 1) – Overview   : Integr...                    []   \n",
       "2310    19. The Finale – Helping you get started   :...                    []   \n",
       "2311  The Automatic Trader : Innerworth - Mind over ...                    []   \n",
       "\n",
       "                                      ai_generated_info  \\\n",
       "0     {'summary': {'OpenHermes_WatermelonSapphireZip...   \n",
       "1     {'summary': {'OpenHermes_WatermelonSapphireZip...   \n",
       "2     {'summary': {'OpenHermes_WatermelonSapphireZip...   \n",
       "3     {'summary': {'OpenHermes_WatermelonSapphireZip...   \n",
       "4     {'summary': {'OpenHermes_ApricotTangerineScall...   \n",
       "...                                                 ...   \n",
       "2307  {'summary': {'OpenHermes_WatermelonSapphireZip...   \n",
       "2308  {'summary': {'OpenHermes_WatermelonSapphireZip...   \n",
       "2309  {'summary': {'OpenHermes_WatermelonSapphireZip...   \n",
       "2310  {'summary': {'OpenHermes_WatermelonSapphireZip...   \n",
       "2311  {'summary': {'OpenHermes_WatermelonSapphireZip...   \n",
       "\n",
       "                                           cleaned_text  \\\n",
       "0     Sony Pictures has made significant changes to ...   \n",
       "1     Home Infographics Philippines ranks 102nd and ...   \n",
       "2     The winning trader is a disciplined trader. Di...   \n",
       "3      The non-retail portion of the open offer (OFS...   \n",
       "4     Angel One Share Price Today : On the last day,...   \n",
       "...                                                 ...   \n",
       "2307  Despite what we might wish for, it’s hard to m...   \n",
       "2308  Trading can be tedious at times. Day in and da...   \n",
       "2309  14.1 – Valuations basicsWe are at the last sta...   \n",
       "2310  19.1 – The Charting SoftwareOver the last 18 c...   \n",
       "2311  The winning trader has an intuitive feel for t...   \n",
       "\n",
       "                    article_id      source_name           cat         subcat  \\\n",
       "0     651df121a662d76276b82825   economic-times          news  international   \n",
       "1     6555c1164b13023f9348ce12   business-world  infographics            NaN   \n",
       "2     652ebbbc1e5cc42b1b139a05  zerodha-varsity       varsity            NaN   \n",
       "3     65316f2b1e5cc42b1b13f1fa        live-mint        market            NaN   \n",
       "4     65af640c6391ac19baa87413        live-mint        market      live-blog   \n",
       "...                        ...              ...           ...            ...   \n",
       "2307  652ebbd21e5cc42b1b139ae3  zerodha-varsity       varsity            NaN   \n",
       "2308  652ebb9f1e5cc42b1b13994c  zerodha-varsity       varsity            NaN   \n",
       "2309  652ebbe51e5cc42b1b139c3d  zerodha-varsity       varsity            NaN   \n",
       "2310  652ebbdc1e5cc42b1b139b7a  zerodha-varsity       varsity            NaN   \n",
       "2311  652ebbaf1e5cc42b1b1399ac  zerodha-varsity       varsity            NaN   \n",
       "\n",
       "                                fullcat  proportion  scaled_proportion  \\\n",
       "0     economic-times-news-international    0.000229           0.004977   \n",
       "1          business-world-infographics-    0.001185           0.025799   \n",
       "2              zerodha-varsity-varsity-    0.000686           0.014937   \n",
       "3                     live-mint-market-    0.001210           0.026338   \n",
       "4            live-mint-market-live-blog    0.000181           0.003937   \n",
       "...                                 ...         ...                ...   \n",
       "2307           zerodha-varsity-varsity-    0.000686           0.014937   \n",
       "2308           zerodha-varsity-varsity-    0.000686           0.014937   \n",
       "2309           zerodha-varsity-varsity-    0.000686           0.014937   \n",
       "2310           zerodha-varsity-varsity-    0.000686           0.014937   \n",
       "2311           zerodha-varsity-varsity-    0.000686           0.014937   \n",
       "\n",
       "          prob  is_selected                                       full_content  \n",
       "0     0.000648         True  headline: Sony delays major film releases: Fro...  \n",
       "1     0.024488         True  headline: Philippines ranks 102nd and 80th in ...  \n",
       "2     0.000935         True  headline:   251. Maintaining Discipline   : In...  \n",
       "3     0.024126         True  headline: Patanjali OFS: Non-retail portion fu...  \n",
       "4     0.000101         True  headline: Angel One share price Today Live Upd...  \n",
       "...        ...          ...                                                ...  \n",
       "2307  0.279419        False  headline: Surviving a Slump : Innerworth - Min...  \n",
       "2308  0.595580        False  headline:   52. Clear and Specific Goals   : I...  \n",
       "2309  0.159576        False  headline:   14. Valuation (Part 1) – Overview ...  \n",
       "2310  0.843301        False  headline:   19. The Finale – Helping you get s...  \n",
       "2311  0.125665        False  headline: The Automatic Trader : Innerworth - ...  \n",
       "\n",
       "[2312 rows x 19 columns]"
      ]
     },
     "execution_count": 5,
     "metadata": {},
     "output_type": "execute_result"
    }
   ],
   "source": [
    "shortlisted_articles_df"
   ]
  },
  {
   "cell_type": "code",
   "execution_count": null,
   "id": "1b7e7ca4-e163-4754-be11-370f04eefbde",
   "metadata": {},
   "outputs": [],
   "source": []
  }
 ],
 "metadata": {
  "kernelspec": {
   "display_name": "bertopicenv",
   "language": "python",
   "name": "bertopicenv"
  },
  "language_info": {
   "codemirror_mode": {
    "name": "ipython",
    "version": 3
   },
   "file_extension": ".py",
   "mimetype": "text/x-python",
   "name": "python",
   "nbconvert_exporter": "python",
   "pygments_lexer": "ipython3",
   "version": "3.9.18"
  }
 },
 "nbformat": 4,
 "nbformat_minor": 5
}
