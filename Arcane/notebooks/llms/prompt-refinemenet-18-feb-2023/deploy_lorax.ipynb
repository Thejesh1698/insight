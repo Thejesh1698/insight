{
 "cells": [
  {
   "cell_type": "code",
   "execution_count": 1,
   "id": "bcda1825-e4db-4297-ae08-33eb20d87bad",
   "metadata": {
    "tags": []
   },
   "outputs": [],
   "source": [
    "parent_folder = '/Users/ravi.tej/Desktop/ML/Recommendations/arcane/'\n",
    "from hydra import compose, initialize\n",
    "import os\n",
    "\n",
    "import xml.etree.ElementTree as ET\n",
    "\n",
    "tree = ET.parse('../../../conf/application.run.xml')\n",
    "root = tree.getroot()\n",
    "\n",
    "envs_element = root.find('./configuration/envs')\n",
    "for variable in envs_element.findall('env'):\n",
    "    name = variable.get('name')\n",
    "    value = variable.get('value')\n",
    "    os.environ[name] = value\n",
    "\n",
    "import sys\n",
    "sys.path.append('/Users/ravi.tej/Desktop/ML/Recommendations/arcane/')\n",
    "import pandas as pd\n",
    "\n",
    "os.environ['PATH'] = '/Users/ravi.tej/anaconda3/envs/bertopicenv/bin:/Users/ravi.tej/anaconda3/condabin:/usr/bin:/bin:/usr/sbin:/sbin'"
   ]
  },
  {
   "cell_type": "code",
   "execution_count": 2,
   "id": "036fa05e-8671-4bdd-adb3-f92f55d59f2a",
   "metadata": {
    "tags": []
   },
   "outputs": [
    {
     "name": "stdout",
     "output_type": "stream",
     "text": [
      "sagemaker.config INFO - Not applying SDK defaults from location: /Library/Application Support/sagemaker/config.yaml\n",
      "sagemaker.config INFO - Not applying SDK defaults from location: /Users/ravi.tej/Library/Application Support/sagemaker/config.yaml\n"
     ]
    }
   ],
   "source": [
    "from src.llm_finetuning.LoraxDeployment import LoraxDeployment"
   ]
  },
  {
   "cell_type": "code",
   "execution_count": 3,
   "id": "f9a0d84b-23c8-4634-881d-ee94b51e4bf6",
   "metadata": {
    "tags": []
   },
   "outputs": [
    {
     "name": "stdout",
     "output_type": "stream",
     "text": [
      "sagemaker.config INFO - Not applying SDK defaults from location: /Library/Application Support/sagemaker/config.yaml\n",
      "sagemaker.config INFO - Not applying SDK defaults from location: /Users/ravi.tej/Library/Application Support/sagemaker/config.yaml\n",
      "sagemaker.config INFO - Not applying SDK defaults from location: /Library/Application Support/sagemaker/config.yaml\n",
      "sagemaker.config INFO - Not applying SDK defaults from location: /Users/ravi.tej/Library/Application Support/sagemaker/config.yaml\n"
     ]
    }
   ],
   "source": [
    "lorax = LoraxDeployment(model_name='teknium/OpenHermes-2.5-Mistral-7B', endpoint_name='LORAX-Openhermes', instance_type='ml.g5.2xlarge')"
   ]
  },
  {
   "cell_type": "code",
   "execution_count": 4,
   "id": "29f34970-fbf0-42a0-aa56-1843bb933de3",
   "metadata": {
    "tags": []
   },
   "outputs": [],
   "source": [
    "# lorax = LoraxDeployment(model_name='NousResearch/Nous-Capybara-34B', endpoint_name='LORAX-Capybara', instance_type='ml.g5.xlarge')"
   ]
  },
  {
   "cell_type": "code",
   "execution_count": 5,
   "id": "dec5b08a-d7d1-45c9-8be6-c01c9d46f50a",
   "metadata": {
    "tags": []
   },
   "outputs": [],
   "source": [
    "lorax.set_config()"
   ]
  },
  {
   "cell_type": "code",
   "execution_count": 6,
   "id": "e1f29b13-168c-47a2-88ea-566a67ff932e",
   "metadata": {
    "tags": []
   },
   "outputs": [
    {
     "name": "stdout",
     "output_type": "stream",
     "text": [
      "-----------!"
     ]
    }
   ],
   "source": [
    "lorax.deploy_lorax()"
   ]
  },
  {
   "cell_type": "code",
   "execution_count": 7,
   "id": "d9c78bca-9f4f-402e-9582-36a095dde787",
   "metadata": {
    "tags": []
   },
   "outputs": [],
   "source": [
    "df = pd.read_csv('gpt-4-responses-2024-Feb-19_cleaned.csv')"
   ]
  },
  {
   "cell_type": "code",
   "execution_count": 8,
   "id": "090c9068-999f-4f24-9e0a-0aa998df0cd7",
   "metadata": {
    "tags": []
   },
   "outputs": [
    {
     "name": "stderr",
     "output_type": "stream",
     "text": [
      "Special tokens have been added in the vocabulary, make sure the associated word embeddings are fine-tuned or trained.\n",
      "Special tokens have been added in the vocabulary, make sure the associated word embeddings are fine-tuned or trained.\n"
     ]
    }
   ],
   "source": [
    "from transformers import AutoTokenizer\n",
    "\n",
    "tokenizer = AutoTokenizer.from_pretrained('teknium/OpenHermes-2.5-Mistral-7B', trust_remote_code=True)"
   ]
  },
  {
   "cell_type": "code",
   "execution_count": 9,
   "id": "9141b09a-9106-46c8-9099-e4ed1957f77a",
   "metadata": {
    "tags": []
   },
   "outputs": [],
   "source": [
    "from botocore.config import Config\n",
    "import boto3\n",
    "\n",
    "my_config = Config(\n",
    "        region_name='ap-south-1',\n",
    "        retries={\n",
    "            'max_attempts': 3,\n",
    "            'mode': 'standard'\n",
    "        },\n",
    "        max_pool_connections=40  # Increase the pool size\n",
    "    )\n",
    "\n",
    "    # Create a SageMaker Runtime client with the custom configuration\n",
    "sess1 = boto3.session.Session()\n",
    "sagemaker_runtime = sess1.client(\"sagemaker-runtime\", config=my_config)"
   ]
  },
  {
   "cell_type": "code",
   "execution_count": 10,
   "id": "113b6f6b-838b-4d39-91f6-5de22b02d208",
   "metadata": {
    "tags": []
   },
   "outputs": [],
   "source": [
    "SYSTEM_PROMPT = prompt = df.iloc[0].system_prompt"
   ]
  },
  {
   "cell_type": "code",
   "execution_count": 11,
   "id": "fc8612eb-6bbe-45b9-a5d4-7098314b513a",
   "metadata": {
    "tags": []
   },
   "outputs": [],
   "source": [
    "from src.articles._utils import truncate_text_to_token_limit"
   ]
  },
  {
   "cell_type": "code",
   "execution_count": 12,
   "id": "76645b80-7a8e-46a6-9bb0-c84d34b55b23",
   "metadata": {
    "tags": []
   },
   "outputs": [],
   "source": [
    "train_row = df.iloc[600]"
   ]
  },
  {
   "cell_type": "code",
   "execution_count": 13,
   "id": "5677958b-866d-42dd-96ca-9dc60a571b9e",
   "metadata": {
    "tags": []
   },
   "outputs": [],
   "source": [
    "content = truncate_text_to_token_limit(text=train_row['full_content'], encoder=tokenizer, token_limit=1536)"
   ]
  },
  {
   "cell_type": "code",
   "execution_count": 14,
   "id": "4bea2dba-d982-48b7-895b-fe3f4c6218a1",
   "metadata": {
    "tags": []
   },
   "outputs": [],
   "source": [
    "messages = [{\"role\": \"system\", \"content\": SYSTEM_PROMPT},\n",
    "                    {\"role\": \"user\", \"content\": f\"{content}\\n\"}]\n",
    "context_prompt = tokenizer.decode(tokenizer.apply_chat_template(messages, add_generation_prompt=True))"
   ]
  },
  {
   "cell_type": "code",
   "execution_count": 15,
   "id": "fc66d3ef-56fe-4098-93de-0db3c8e4f048",
   "metadata": {
    "tags": []
   },
   "outputs": [
    {
     "data": {
      "text/plain": [
       "'headline: FM invites JBIC for engagement with NIIF, EXIM Bank of India. \\n content: Finance Minister Nirmala Sitharaman on Wednesday invited Japan Bank for International Cooperation (JBIC) for an active engagement with National Investment and Infrastructure Fund (NIIF), EXIM Bank of India and other financial institutions citing huge opportunity for investment in the country. Share Market Live NSE During the meeting with JBIC Governor Hayashi Nobumitsu here, both exchanged views on JBIC’s recent activities in India contributing towards Japan’s investment target of five trillion yen over the next five years. \"The Union Finance Minister observed that India has been ranked by the JBIC as one of the most attractive #investment destinations in recent years’ survey of Japanese manufacturing companies and encouraged engagement of JBIC with Indian financial institutions such as Exim Bank @IndiaEximBank, NIIF and lending banks to leverage the strength and complementarities of both countries,\" the finance ministry said in a statement posted on X. Japan has agreed to provide 5 trillion yen in public-private investment and loans to India over the next 5 years. This goal was set by both countries during Prime Minister Kishida Fumio’s visit to India in March of last year. Sitharaman informed the JBIC governor about various initiatives of the government including PM GatiShakti and other enabling policies for development of the blue economy. She urged JBIC to bring in investment to India for processing of marine food products, logistics and transportation development and also in emerging sectors viz. artificial intelligence, Hydrogen-based energy and semi-conductors. JBIC governor appreciated the initiatives of the government of India towards facilitating investment through various instruments like PLI schemes and National Infrastructure Pipeline (NIP); besides GST reforms. Hayashi Nobumitsu stated that JBIC is also looking forward to explore more opportunities for mutually beneficial engagements between the two countries.'"
      ]
     },
     "execution_count": 15,
     "metadata": {},
     "output_type": "execute_result"
    }
   ],
   "source": [
    "content"
   ]
  },
  {
   "cell_type": "code",
   "execution_count": 16,
   "id": "f5fd5cbc-78c4-4842-bfd5-876071668dc0",
   "metadata": {
    "tags": []
   },
   "outputs": [],
   "source": [
    "parameters = {\n",
    "    \"do_sample\": True,\n",
    "    \"top_p\": 0.95,\n",
    "    \"temperature\": 0.7,\n",
    "    \"max_new_tokens\": 1024,\n",
    "    \"repetition_penalty\": 1.02,\n",
    "    \"stop\": [\"###\", \"</s>\", '<|im_end|>']\n",
    "}\n",
    "params = {\"inputs\": context_prompt, \"parameters\": parameters, \"stream\": False}"
   ]
  },
  {
   "cell_type": "code",
   "execution_count": 17,
   "id": "9b3fd722-ef76-4eb0-a764-895483bf9ea0",
   "metadata": {
    "tags": []
   },
   "outputs": [],
   "source": [
    "params['parameters']['adapter_id'] = 'lorax/OpenHermes-2.5-Adapter-Attributes-WatermelonUvulaMarigold'\n",
    "params['parameters']['adapter_source'] = 's3'\n",
    "# params['parameters']['temperature'] = 0.2\n",
    "# params['parameters']['top_p'] = 0.7"
   ]
  },
  {
   "cell_type": "code",
   "execution_count": 24,
   "id": "64db8589-6734-4fa9-8bc1-676b37e55a83",
   "metadata": {
    "tags": []
   },
   "outputs": [],
   "source": [
    "import time"
   ]
  },
  {
   "cell_type": "code",
   "execution_count": 25,
   "id": "da915af1-57b1-4642-aefb-f12f745fcd4e",
   "metadata": {
    "tags": []
   },
   "outputs": [
    {
     "name": "stdout",
     "output_type": "stream",
     "text": [
      "done in 48.70272493362427\n"
     ]
    }
   ],
   "source": [
    "t = time.time()\n",
    "import json\n",
    "response = sagemaker_runtime.invoke_endpoint(\n",
    "            EndpointName='LORAX-Openhermes',\n",
    "            Body=json.dumps(params),\n",
    "            ContentType=\"application/json\")\n",
    "print(f'done in {time.time() - t}')"
   ]
  },
  {
   "cell_type": "code",
   "execution_count": 26,
   "id": "c15948d5-d289-4177-98d8-bfcbe34388da",
   "metadata": {
    "tags": []
   },
   "outputs": [],
   "source": [
    "r = response['Body'].read()\n",
    "\n",
    "k = json.loads(json.loads(json.loads(r)[0]['generated_text']))"
   ]
  },
  {
   "cell_type": "code",
   "execution_count": 27,
   "id": "e341cc27-e773-44b1-ab53-92b589d0924e",
   "metadata": {
    "tags": []
   },
   "outputs": [
    {
     "data": {
      "text/plain": [
       "{'summary': '!💼! Invitation: FM Nirmala Sitharaman invites Japan Bank for International Cooperation (JBIC) to engage with National Investment and Infrastructure Fund (NIIF), EXIM Bank of India and other financial institutions due to huge investment opportunities in India. \\n !📚! Investment target: JBIC aims to invest 5 trillion yen in India over the next five years. \\n !🌍! Government initiatives: Sitharaman highlighted various Indian government initiatives for investment facilitation, urging JBIC to bring investment in processing of marine food products, logistics and transportation development, and emerging sectors.',\n",
       " 'summary_critique': 'The summary is thorough, readable, and faithful to the article. It highlights the main points and follows the _summary_markdown_format_. However, it could include more specifics regarding the areas of investment and sectors targeted by JBIC.',\n",
       " 'improved_summary': '!💼! Invitation: FM Nirmala Sitharaman invites Japan Bank for International Cooperation (JBIC) to engage with National Investment and Infrastructure Fund (NIIF), EXIM Bank of India and other financial institutions due to huge investment opportunities in sectors like marine food processing, logistics & transportation development and emerging sectors like AI, Hydrogen-based energy, and semiconductors. \\n !📚! Investment target: JBIC aims to invest 5 trillion yen in India over the next five years. \\n !🌍! Government initiatives: Sitharaman also highlighted various Indian government initiatives for investment facilitation.',\n",
       " 'top_queries': 'JBIC India investment; NIIF and JBIC collaboration; Japanese investment in India; India investment opportunities; Government initiatives for investment',\n",
       " 'indian_or_international': 'international',\n",
       " 'business_or_financial_article': True,\n",
       " 'relevant_for_indians': True,\n",
       " 'category': 'business',\n",
       " 'article_interest_duration_evaluation': \"The article's information is of interest until JBIC and the Indian financial institutions finalize their collaborations and begin investing as per the MoU.\",\n",
       " 'article_interest_duration': 14,\n",
       " 'popularity_evaluation': \"Reader Interest: 0.6, due to the significant investment opportunity. Headline Effectiveness: 0.5, it is informative but could be more engaging. Event Novelty: 0.4, JBIC's investment in India is newsworthy but not unprecedented. Emotional Impact: 0.3, the article's content is factual and lacks emotional appeal.\",\n",
       " 'popularity_evaluation_critique': \"The popularity evaluation seems reasonable, with a high reader interest due to investment opportunities, but limited emotional impact as it's a factual news piece.\",\n",
       " 'final_reader_interest_score': 0.6,\n",
       " 'final_headline_effectiveness_score': 0.5,\n",
       " 'final_event_novelty_score': 0.4,\n",
       " 'final_emotional_impact_score': 0.3,\n",
       " 'improved_headline': 'India Invites JBIC for Massive Investment Opportunities in Multiple Sectors',\n",
       " 'article_type': 'fact',\n",
       " 'article_sentiment': 'bull'}"
      ]
     },
     "execution_count": 27,
     "metadata": {},
     "output_type": "execute_result"
    }
   ],
   "source": [
    "k"
   ]
  },
  {
   "cell_type": "code",
   "execution_count": 20,
   "id": "3742cbab-9bd6-4787-bd79-198f612a6803",
   "metadata": {
    "tags": []
   },
   "outputs": [],
   "source": [
    "from src.llm_finetuning.ResponseCleanerService import ResponseCleanerService"
   ]
  },
  {
   "cell_type": "code",
   "execution_count": 22,
   "id": "7b8d0244-87e5-48b1-997a-4a46260c4f49",
   "metadata": {
    "tags": []
   },
   "outputs": [
    {
     "ename": "AttributeError",
     "evalue": "'str' object has no attribute '_load_response_df'",
     "output_type": "error",
     "traceback": [
      "\u001b[0;31m---------------------------------------------------------------------------\u001b[0m",
      "\u001b[0;31mAttributeError\u001b[0m                            Traceback (most recent call last)",
      "Cell \u001b[0;32mIn[22], line 1\u001b[0m\n\u001b[0;32m----> 1\u001b[0m \u001b[43mResponseCleanerService\u001b[49m\u001b[38;5;241;43m.\u001b[39;49m\u001b[43mclean_responses\u001b[49m\u001b[43m(\u001b[49m\u001b[43mk\u001b[49m\u001b[43m[\u001b[49m\u001b[38;5;124;43m'\u001b[39;49m\u001b[38;5;124;43mimproved_summary\u001b[39;49m\u001b[38;5;124;43m'\u001b[39;49m\u001b[43m]\u001b[49m\u001b[43m)\u001b[49m\n",
      "File \u001b[0;32m~/Desktop/ML/Recommendations/arcane/src/llm_finetuning/ResponseCleanerService.py:44\u001b[0m, in \u001b[0;36mResponseCleanerService.clean_responses\u001b[0;34m(self)\u001b[0m\n\u001b[1;32m     43\u001b[0m \u001b[38;5;28;01mdef\u001b[39;00m \u001b[38;5;21mclean_responses\u001b[39m(\u001b[38;5;28mself\u001b[39m):\n\u001b[0;32m---> 44\u001b[0m     \u001b[38;5;28;43mself\u001b[39;49m\u001b[38;5;241;43m.\u001b[39;49m\u001b[43m_load_response_df\u001b[49m()\n\u001b[1;32m     45\u001b[0m     \u001b[38;5;28mself\u001b[39m\u001b[38;5;241m.\u001b[39m_create_attributes_df()\n\u001b[1;32m     46\u001b[0m     \u001b[38;5;28mself\u001b[39m\u001b[38;5;241m.\u001b[39m_clean_attributes_df()\n",
      "\u001b[0;31mAttributeError\u001b[0m: 'str' object has no attribute '_load_response_df'"
     ]
    }
   ],
   "source": [
    "ResponseCleanerService.clean_responses(k['improved_summary'])"
   ]
  },
  {
   "cell_type": "code",
   "execution_count": 131,
   "id": "209fa8f6-3633-4b24-9732-3065c8182697",
   "metadata": {
    "tags": []
   },
   "outputs": [
    {
     "data": {
      "text/plain": [
       "\"!📈! Investment Opportunity: FM invites JBIC for investment in India; cites NIIF, EXIM Bank of India as potential partners. \\n!🌍! Global Collaboration: Discusses JBIC's recent activities in India and Japan's investment target of five trillion yen over five years. \\n!💡! Sectors of Interest: FM highlights potential investment sectors and government initiatives. \\n!🎯! JBIC's View: JBIC appreciates India's initiatives and looks forward to further collaborations.\""
      ]
     },
     "execution_count": 131,
     "metadata": {},
     "output_type": "execute_result"
    }
   ],
   "source": []
  },
  {
   "cell_type": "code",
   "execution_count": null,
   "id": "f3255206-b1fe-43f2-b2f0-23cbbfc36215",
   "metadata": {},
   "outputs": [],
   "source": []
  }
 ],
 "metadata": {
  "kernelspec": {
   "display_name": "bertopicenv",
   "language": "python",
   "name": "bertopicenv"
  },
  "language_info": {
   "codemirror_mode": {
    "name": "ipython",
    "version": 3
   },
   "file_extension": ".py",
   "mimetype": "text/x-python",
   "name": "python",
   "nbconvert_exporter": "python",
   "pygments_lexer": "ipython3",
   "version": "3.9.18"
  }
 },
 "nbformat": 4,
 "nbformat_minor": 5
}
