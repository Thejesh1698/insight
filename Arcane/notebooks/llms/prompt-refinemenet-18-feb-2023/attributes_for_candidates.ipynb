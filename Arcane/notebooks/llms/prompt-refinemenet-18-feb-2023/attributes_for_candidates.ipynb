{
 "cells": [
  {
   "cell_type": "code",
   "execution_count": 1,
   "id": "029a46d6-8477-4b0e-8356-34bb5bdd3654",
   "metadata": {
    "tags": []
   },
   "outputs": [],
   "source": [
    "parent_folder = '/Users/ravi.tej/Desktop/ML/Recommendations/arcane/'\n",
    "from hydra import compose, initialize\n",
    "import os\n",
    "\n",
    "import xml.etree.ElementTree as ET\n",
    "\n",
    "tree = ET.parse('../../../conf/application.run.xml')\n",
    "root = tree.getroot()\n",
    "\n",
    "envs_element = root.find('./configuration/envs')\n",
    "for variable in envs_element.findall('env'):\n",
    "    name = variable.get('name')\n",
    "    value = variable.get('value')\n",
    "    os.environ[name] = value\n",
    "\n",
    "import sys\n",
    "sys.path.append('/Users/ravi.tej/Desktop/ML/Recommendations/arcane/')\n",
    "import pandas as pd\n",
    "\n",
    "os.environ['PATH'] = '/Users/ravi.tej/anaconda3/envs/bertopicenv/bin:/Users/ravi.tej/anaconda3/condabin:/usr/bin:/bin:/usr/sbin:/sbin'"
   ]
  },
  {
   "cell_type": "code",
   "execution_count": 2,
   "id": "506af2fa-52e1-40dd-a950-71abb9e647dd",
   "metadata": {
    "tags": []
   },
   "outputs": [],
   "source": [
    "from sql.PostgresDatabaseOperation import PostgresDatabaseOperation"
   ]
  },
  {
   "cell_type": "code",
   "execution_count": 8,
   "id": "7d5e017b-0520-4304-be72-22340f348242",
   "metadata": {
    "tags": []
   },
   "outputs": [],
   "source": [
    "with PostgresDatabaseOperation() as cursor:\n",
    "    sql = \"SELECT DISTINCT article_id FROM candidate_articles WHERE content_type = 'ARTICLE'\"\n",
    "    cursor.execute(sql)\n",
    "    candidates = cursor.fetchall()"
   ]
  },
  {
   "cell_type": "code",
   "execution_count": 2,
   "id": "c2e3361a-fdd4-476a-9052-f235f3c0a12f",
   "metadata": {
    "tags": []
   },
   "outputs": [],
   "source": [
    "import json"
   ]
  },
  {
   "cell_type": "code",
   "execution_count": 9,
   "id": "f252876e-b190-491e-ac94-cea4bd2e7a89",
   "metadata": {
    "tags": []
   },
   "outputs": [],
   "source": [
    "candidates = [x[0] for x in candidates]"
   ]
  },
  {
   "cell_type": "code",
   "execution_count": 11,
   "id": "9b9a6bff-90db-43f1-8301-ba832fe5326f",
   "metadata": {
    "tags": []
   },
   "outputs": [
    {
     "data": {
      "text/plain": [
       "4522"
      ]
     },
     "execution_count": 11,
     "metadata": {},
     "output_type": "execute_result"
    }
   ],
   "source": [
    "len(candidates)"
   ]
  },
  {
   "cell_type": "code",
   "execution_count": 10,
   "id": "a7783e44-3007-4ab4-8e05-2da17dc78618",
   "metadata": {
    "tags": []
   },
   "outputs": [
    {
     "data": {
      "text/plain": [
       "'65cb4bd88c9dc047f1e0407e'"
      ]
     },
     "execution_count": 10,
     "metadata": {},
     "output_type": "execute_result"
    }
   ],
   "source": [
    "candidates[0]"
   ]
  },
  {
   "cell_type": "code",
   "execution_count": 16,
   "id": "ed1c7bb2-6acf-4191-b617-66349930d3b0",
   "metadata": {
    "tags": []
   },
   "outputs": [],
   "source": [
    "with PostgresDatabaseOperation() as cursor:\n",
    "    sql = 'SELECT DISTINCT article_id FROM user_article_interactions'\n",
    "    cursor.execute(sql)\n",
    "    interacted = cursor.fetchall()"
   ]
  },
  {
   "cell_type": "code",
   "execution_count": 17,
   "id": "4ab3318e-100c-4878-b55d-6e6df7ddc1bd",
   "metadata": {
    "tags": []
   },
   "outputs": [],
   "source": [
    "interacted = [x[0] for x in interacted]"
   ]
  },
  {
   "cell_type": "code",
   "execution_count": 18,
   "id": "0b90688c-fae8-4926-b75c-1c2f4567ad9d",
   "metadata": {
    "tags": []
   },
   "outputs": [
    {
     "data": {
      "text/plain": [
       "16968"
      ]
     },
     "execution_count": 18,
     "metadata": {},
     "output_type": "execute_result"
    }
   ],
   "source": [
    "len(interacted)"
   ]
  },
  {
   "cell_type": "code",
   "execution_count": 19,
   "id": "6b026dc7-927d-4718-83e2-b71580ec238c",
   "metadata": {
    "tags": []
   },
   "outputs": [],
   "source": [
    "from sql.articles.MongoDBArticle import MongoDBArticle"
   ]
  },
  {
   "cell_type": "code",
   "execution_count": 20,
   "id": "05d10b9e-673a-42c0-8743-db750b6d28d8",
   "metadata": {
    "tags": []
   },
   "outputs": [],
   "source": [
    "combined = list(set(candidates).union(interacted))"
   ]
  },
  {
   "cell_type": "code",
   "execution_count": 21,
   "id": "cbe3a13c-af2c-4d02-89bf-4b2d1db25dca",
   "metadata": {
    "tags": []
   },
   "outputs": [
    {
     "data": {
      "text/plain": [
       "20037"
      ]
     },
     "execution_count": 21,
     "metadata": {},
     "output_type": "execute_result"
    }
   ],
   "source": [
    "len(combined)"
   ]
  },
  {
   "cell_type": "code",
   "execution_count": 22,
   "id": "7c9b7463-dabb-4e86-a8fe-5ab735e4e3d9",
   "metadata": {
    "tags": []
   },
   "outputs": [],
   "source": [
    "relevant_articles = MongoDBArticle.fetch_documents_by_ids(combined)"
   ]
  },
  {
   "cell_type": "code",
   "execution_count": 23,
   "id": "a671724c-164c-45f1-ab07-d9a4d185d110",
   "metadata": {
    "tags": []
   },
   "outputs": [
    {
     "data": {
      "text/plain": [
       "19975"
      ]
     },
     "execution_count": 23,
     "metadata": {},
     "output_type": "execute_result"
    }
   ],
   "source": [
    "len(relevant_articles)"
   ]
  },
  {
   "cell_type": "code",
   "execution_count": 27,
   "id": "bd0428f3-f3d0-48ea-b914-d7dc6d6950f9",
   "metadata": {
    "tags": []
   },
   "outputs": [],
   "source": [
    "article_full_contents = []"
   ]
  },
  {
   "cell_type": "code",
   "execution_count": 25,
   "id": "5e1b3d17-b28a-4399-89ba-cecb48cdce23",
   "metadata": {
    "tags": []
   },
   "outputs": [
    {
     "data": {
      "text/plain": [
       "{'_id': ObjectId('651dc6e4a662d76276b7b7c3'),\n",
       " 'url': 'https://economictimes.indiatimes.com/news/india/us-europe-and-india-need-to-create-competitive-alternative-model-to-chinas-coercive-production-model-rahul-gandhi/articleshow/103508725.cms',\n",
       " 'source_id': ObjectId('6512cdcad01a9c8e86263e05'),\n",
       " '_class': 'com.wintWealth.insight.common.models.entities.Article',\n",
       " 'image_url': 'https://economictimes.indiatimes.com/thumb/msid-103508762,width-2254,height-1280,imgsize-54818,overlay-economictimes/photo.jpg',\n",
       " 'is_premium_article': False,\n",
       " 'last_updated_time': '2023-09-08T17:27:00+05:30',\n",
       " 'published_time': '2023-09-08T16:45:00+05:30',\n",
       " 'short_description': \"Congress leader Rahul Gandhi has called for the United States, Europe, and India to create an alternative and competitive model to China's coercive production model. Speaking at the Brussels Press Club, Gandhi emphasized the need for a democratic environment that offers political and economic freedom. \",\n",
       " 'tags': ['Rahul Gandhi',\n",
       "  'xi jinping',\n",
       "  'europe',\n",
       "  'china',\n",
       "  'United States',\n",
       "  'Belt and Road Initiative',\n",
       "  'G20'],\n",
       " 'title': \"US, Europe, and India need to create competitive alternative model to China's coercive production model: R\",\n",
       " 'authors': ['PTI'],\n",
       " 'ai_generated_info': {'summary': {'OpenHermes_WatermelonSapphireZipline': {'generated_at': datetime.datetime(2023, 12, 6, 6, 8, 10, 305000),\n",
       "    'value': \"Rahul Gandhi, Indian Congress leader, called for a competitive alternative production model to China's coercive model. His call comes during a visit to Brussels, where he held discussions with EU officials. He emphasized the need for democracies like US, Europe, and India to work together against China's influence.\"}},\n",
       "  'title': {'OpenHermes_WatermelonSapphireZipline': {'generated_at': datetime.datetime(2023, 12, 6, 6, 8, 10, 305000),\n",
       "    'value': \"Rahul Gandhi Calls for a Competitive Model Against China's Coercive Production\"}}},\n",
       " 'reactions': {},\n",
       " 'content_type': 'ARTICLE',\n",
       " 'cleaned_text': \"Congress leader Rahul Gandhi on Friday said the United States, Europe, and India need to create an alternative, competitive model to the Chinese production model that is  coercive.  Gandhi was addressing the journalists at the Brussels Press Club in Brussels on the second day of his visit. Gandhi is on an almost week-long tour of Europe during which he is to hold meetings with European Union (EU) lawmakers, students, and the Indian Diaspora. Stating that  China is proposing a particular view or particular vision of the planet,  Gandhi said,  They (China) are putting on the table the idea of the Belt and Road (the Belt and Road Initiative (BRI). And one of the reasons they are able to do that is because they have become a centre of global production.  The ambitious Belt and Road Initiative initiated by Chinese President Xi Jinping in 2013 envisions connecting China with Europe and beyond through rebuilding the old Silk Road trade route.  But I don't see an alternative vision coming from our side. That vision requires a vision for production in a democratic environment. What the Chinese have basically shown is that it is possible to produce effectively in a coercive environment, where you don't give people freedom, where you restrict their freedom but you offer them prosperity without political freedom,  the Congress leader said in response to a question. Emphasising that the  challenge for us is can we provide an alternative vision where we do production under democratic conditions with political and economic freedom,  the Gandhi scion said,  There is a lot of cooperation that can happen between the US, Europe and between us and I think that's where a lot of our focus should go. How can we create an alternative to the Chinese production model that is a coercive production model? A competitive vision?  He was answering a question regarding his next political priorities and his world vision on international relations in view of the growing global tensions, including the Russia-Ukraine conflict. Gandhi had commented on similar lines during his visit to Cambridge in March 2023. Earlier on Thursday, Gandhi said he had held a closed-door meeting with some members of the European Parliament (MEPs). Gandhi is expected to return by September 11, following the conclusion of the G20 Leaders Summit being held in Delhi from September 9-10. India is hosting the summit with over 30 heads of state and international dignitaries in attendance.\"}"
      ]
     },
     "execution_count": 25,
     "metadata": {},
     "output_type": "execute_result"
    }
   ],
   "source": [
    "relevant_articles[0]"
   ]
  },
  {
   "cell_type": "code",
   "execution_count": 26,
   "id": "196ed4bd-cff3-4a44-b2dd-1571ee953863",
   "metadata": {
    "tags": []
   },
   "outputs": [],
   "source": [
    "from src.data_models.Article import Article"
   ]
  },
  {
   "cell_type": "code",
   "execution_count": 28,
   "id": "925ef137-6515-4891-9635-36bc34d8d59e",
   "metadata": {
    "tags": []
   },
   "outputs": [],
   "source": [
    "for art in relevant_articles:\n",
    "    if art['content_type'] == 'ARTICLE' and 'cleaned_text' in art:\n",
    "        art_id = str(art['_id'])\n",
    "        full_content = Article._generate_full_content(art['title'], art['cleaned_text'])\n",
    "        article_full_contents.append({'article_id': art_id, 'full_content': full_content})"
   ]
  },
  {
   "cell_type": "code",
   "execution_count": 30,
   "id": "7e6e36db-3639-445c-a70d-36170b5a7168",
   "metadata": {
    "tags": []
   },
   "outputs": [],
   "source": [
    "candidates_content_df = pd.DataFrame(article_full_contents)"
   ]
  },
  {
   "cell_type": "code",
   "execution_count": 31,
   "id": "adfde57b-6ce1-4a0f-be32-3a4123c48f01",
   "metadata": {
    "tags": []
   },
   "outputs": [],
   "source": [
    "candidates_content_df.to_csv('candidates_content_df.csv',index = False)"
   ]
  },
  {
   "cell_type": "markdown",
   "id": "6658a8a9-1570-48eb-93b9-17b3bc9812e2",
   "metadata": {},
   "source": [
    "### Fetching responses from LLM"
   ]
  },
  {
   "cell_type": "code",
   "execution_count": 4,
   "id": "4c74421c-bf19-4409-bbe9-753366e8f657",
   "metadata": {
    "tags": []
   },
   "outputs": [],
   "source": [
    "from src.llm_finetuning.constants import SYSTEM_PROMPT\n",
    "from src.articles._utils import truncate_text_to_token_limit"
   ]
  },
  {
   "cell_type": "code",
   "execution_count": 5,
   "id": "c6a53e56-da08-4470-b314-00484bb4caa3",
   "metadata": {
    "tags": []
   },
   "outputs": [],
   "source": [
    "candidates_content_df = pd.read_csv('candidates_content_df.csv')\n",
    "category_classifier_test_df = pd.read_csv('/Users/ravi.tej/Desktop/ML/Recommendations/arcane/notebooks/embeddings/titles_classes_gpt4_with_full_content.csv')\n",
    "test = category_classifier_test_df[category_classifier_test_df.test_flag == 1]\n",
    "test_articles_df = test[['id', 'full_content']].rename(columns = {'id': 'article_id'})\n",
    "candidates_df = pd.concat([candidates_content_df, test_articles_df])"
   ]
  },
  {
   "cell_type": "code",
   "execution_count": 6,
   "id": "3c6d0e5f-12a4-4bd8-a546-87f428ee6a8f",
   "metadata": {
    "tags": []
   },
   "outputs": [
    {
     "data": {
      "text/html": [
       "<div>\n",
       "<style scoped>\n",
       "    .dataframe tbody tr th:only-of-type {\n",
       "        vertical-align: middle;\n",
       "    }\n",
       "\n",
       "    .dataframe tbody tr th {\n",
       "        vertical-align: top;\n",
       "    }\n",
       "\n",
       "    .dataframe thead th {\n",
       "        text-align: right;\n",
       "    }\n",
       "</style>\n",
       "<table border=\"1\" class=\"dataframe\">\n",
       "  <thead>\n",
       "    <tr style=\"text-align: right;\">\n",
       "      <th></th>\n",
       "      <th>article_id</th>\n",
       "      <th>full_content</th>\n",
       "    </tr>\n",
       "  </thead>\n",
       "  <tbody>\n",
       "    <tr>\n",
       "      <th>0</th>\n",
       "      <td>651dc6e4a662d76276b7b7c3</td>\n",
       "      <td>headline: US, Europe, and India need to create...</td>\n",
       "    </tr>\n",
       "    <tr>\n",
       "      <th>1</th>\n",
       "      <td>651dc855a662d76276b7bbeb</td>\n",
       "      <td>headline: RBI issues revised norms for classif...</td>\n",
       "    </tr>\n",
       "    <tr>\n",
       "      <th>2</th>\n",
       "      <td>651dc87ba662d76276b7bc54</td>\n",
       "      <td>headline: Gold, silver trade flat in line with...</td>\n",
       "    </tr>\n",
       "    <tr>\n",
       "      <th>3</th>\n",
       "      <td>651dca46a662d76276b7c135</td>\n",
       "      <td>headline: Blue Dart rebrands delivery service ...</td>\n",
       "    </tr>\n",
       "    <tr>\n",
       "      <th>4</th>\n",
       "      <td>651dca5ca662d76276b7c16e</td>\n",
       "      <td>headline: Hunter Biden indicted in federal cas...</td>\n",
       "    </tr>\n",
       "    <tr>\n",
       "      <th>...</th>\n",
       "      <td>...</td>\n",
       "      <td>...</td>\n",
       "    </tr>\n",
       "    <tr>\n",
       "      <th>4962</th>\n",
       "      <td>65cb1397f4fc8477f2ed8f2a</td>\n",
       "      <td>title: Mazagon Dock Standalone December 2023 N...</td>\n",
       "    </tr>\n",
       "    <tr>\n",
       "      <th>4963</th>\n",
       "      <td>65c98a44f4fc8477f2ed7cb1</td>\n",
       "      <td>title: Stock Market LIVE Updates | Nifty 50, S...</td>\n",
       "    </tr>\n",
       "    <tr>\n",
       "      <th>4965</th>\n",
       "      <td>65cc2d0706df7536a8f6864b</td>\n",
       "      <td>title: Abbott's heart valve repair device gets...</td>\n",
       "    </tr>\n",
       "    <tr>\n",
       "      <th>4967</th>\n",
       "      <td>65c0878dc119ff6e57a3f042</td>\n",
       "      <td>title: Megatherm Induction share price makes a...</td>\n",
       "    </tr>\n",
       "    <tr>\n",
       "      <th>4971</th>\n",
       "      <td>65bf6e4fc119ff6e57a3ee50</td>\n",
       "      <td>title: Increased capex on infra to spur steel ...</td>\n",
       "    </tr>\n",
       "  </tbody>\n",
       "</table>\n",
       "<p>20561 rows × 2 columns</p>\n",
       "</div>"
      ],
      "text/plain": [
       "                    article_id  \\\n",
       "0     651dc6e4a662d76276b7b7c3   \n",
       "1     651dc855a662d76276b7bbeb   \n",
       "2     651dc87ba662d76276b7bc54   \n",
       "3     651dca46a662d76276b7c135   \n",
       "4     651dca5ca662d76276b7c16e   \n",
       "...                        ...   \n",
       "4962  65cb1397f4fc8477f2ed8f2a   \n",
       "4963  65c98a44f4fc8477f2ed7cb1   \n",
       "4965  65cc2d0706df7536a8f6864b   \n",
       "4967  65c0878dc119ff6e57a3f042   \n",
       "4971  65bf6e4fc119ff6e57a3ee50   \n",
       "\n",
       "                                           full_content  \n",
       "0     headline: US, Europe, and India need to create...  \n",
       "1     headline: RBI issues revised norms for classif...  \n",
       "2     headline: Gold, silver trade flat in line with...  \n",
       "3     headline: Blue Dart rebrands delivery service ...  \n",
       "4     headline: Hunter Biden indicted in federal cas...  \n",
       "...                                                 ...  \n",
       "4962  title: Mazagon Dock Standalone December 2023 N...  \n",
       "4963  title: Stock Market LIVE Updates | Nifty 50, S...  \n",
       "4965  title: Abbott's heart valve repair device gets...  \n",
       "4967  title: Megatherm Induction share price makes a...  \n",
       "4971  title: Increased capex on infra to spur steel ...  \n",
       "\n",
       "[20561 rows x 2 columns]"
      ]
     },
     "execution_count": 6,
     "metadata": {},
     "output_type": "execute_result"
    }
   ],
   "source": [
    "candidates_df"
   ]
  },
  {
   "cell_type": "code",
   "execution_count": 7,
   "id": "6dae5b52-3daf-4d21-b3ff-e40ac71e3882",
   "metadata": {
    "tags": []
   },
   "outputs": [
    {
     "name": "stdout",
     "output_type": "stream",
     "text": [
      "/Users/ravi.tej/Desktop/ML/Recommendations/arcane/notebooks/llms/prompt-refinemenet-18-feb-2023\n"
     ]
    }
   ],
   "source": [
    "!pwd"
   ]
  },
  {
   "cell_type": "code",
   "execution_count": 8,
   "id": "4a8c72e4-e210-4e5a-9759-cac4634dc71f",
   "metadata": {
    "tags": []
   },
   "outputs": [
    {
     "name": "stderr",
     "output_type": "stream",
     "text": [
      "Special tokens have been added in the vocabulary, make sure the associated word embeddings are fine-tuned or trained.\n",
      "Special tokens have been added in the vocabulary, make sure the associated word embeddings are fine-tuned or trained.\n"
     ]
    }
   ],
   "source": [
    "from transformers import AutoTokenizer\n",
    "tokenizer = AutoTokenizer.from_pretrained('teknium/OpenHermes-2.5-Mistral-7B', trust_remote_code=True)"
   ]
  },
  {
   "cell_type": "code",
   "execution_count": 11,
   "id": "faada801-b3e6-4d5c-ad7d-a69cb929c0dd",
   "metadata": {
    "tags": []
   },
   "outputs": [],
   "source": [
    "def create_missing_article_details(article_id):\n",
    "    r = requests.post('http://Carbine-env.eba-tgfee4hb.ap-south-1.elasticbeanstalk.com/get_article_attributes_from_llm', json={'articleId': article_id})"
   ]
  },
  {
   "cell_type": "code",
   "execution_count": 138,
   "id": "cb8dff16-e20a-41d9-925e-86a66751beee",
   "metadata": {
    "tags": []
   },
   "outputs": [],
   "source": [
    "import time\n",
    "from datetime import datetime\n",
    "from concurrent.futures import ThreadPoolExecutor, as_completed\n",
    "import requests"
   ]
  },
  {
   "cell_type": "code",
   "execution_count": 213,
   "id": "19f6a35d-33d9-4135-b8d5-4d1633f3a1a0",
   "metadata": {
    "tags": []
   },
   "outputs": [],
   "source": [
    "from sql.PostgresDatabaseOperation import PostgresDatabaseOperation"
   ]
  },
  {
   "cell_type": "code",
   "execution_count": 214,
   "id": "49b1e0b5-7ad1-48ec-b1b1-ddc039bff282",
   "metadata": {
    "tags": []
   },
   "outputs": [],
   "source": [
    "with PostgresDatabaseOperation() as cursor:\n",
    "    sql = \"SELECT DISTINCT article_id FROM llm_article_attributes WHERE model_finetune_id = 'OpenHermes_WatermelonUvulaMarigold'\"\n",
    "    cursor.execute(sql)\n",
    "    results = cursor.fetchall()"
   ]
  },
  {
   "cell_type": "code",
   "execution_count": 215,
   "id": "765b06f2-4846-477b-8a45-76d37cdc8c01",
   "metadata": {
    "tags": []
   },
   "outputs": [],
   "source": [
    "completed = [x[0] for x in results]"
   ]
  },
  {
   "cell_type": "code",
   "execution_count": 216,
   "id": "0aba8842-1dd0-48f8-bb8c-a2172f554b3c",
   "metadata": {
    "tags": []
   },
   "outputs": [
    {
     "data": {
      "text/plain": [
       "32994"
      ]
     },
     "execution_count": 216,
     "metadata": {},
     "output_type": "execute_result"
    }
   ],
   "source": [
    "len(completed)"
   ]
  },
  {
   "cell_type": "code",
   "execution_count": 217,
   "id": "a771b123-1954-4aa7-bdb1-5735f22c6b34",
   "metadata": {
    "tags": []
   },
   "outputs": [],
   "source": [
    "with PostgresDatabaseOperation() as cursor:\n",
    "    sql = \"SELECT DISTINCT article_id FROM candidate_articles\"\n",
    "    cursor.execute(sql)\n",
    "    results = cursor.fetchall()"
   ]
  },
  {
   "cell_type": "code",
   "execution_count": 218,
   "id": "92b6a6a7-26fd-4fb5-b66a-b1d1ebbe6f62",
   "metadata": {
    "tags": []
   },
   "outputs": [],
   "source": [
    "union = [x[0] for x in results]"
   ]
  },
  {
   "cell_type": "code",
   "execution_count": 219,
   "id": "f82a0d95-8240-478a-a586-d55f76428e65",
   "metadata": {
    "tags": []
   },
   "outputs": [
    {
     "data": {
      "text/plain": [
       "3871"
      ]
     },
     "execution_count": 219,
     "metadata": {},
     "output_type": "execute_result"
    }
   ],
   "source": [
    "len(union)"
   ]
  },
  {
   "cell_type": "code",
   "execution_count": 220,
   "id": "1c725dee-c9d7-40c6-bb0d-d242b7dd884f",
   "metadata": {
    "tags": []
   },
   "outputs": [],
   "source": [
    "union = [x for x in union if x not in completed]"
   ]
  },
  {
   "cell_type": "code",
   "execution_count": 221,
   "id": "525082c9-587b-40a4-b94a-fc84891d682e",
   "metadata": {
    "tags": []
   },
   "outputs": [],
   "source": [
    "# union = list(candidates_df[~candidates_df.article_id.isin(completed)]['article_id'].unique())"
   ]
  },
  {
   "cell_type": "code",
   "execution_count": 222,
   "id": "2e6da2e2-56d2-41b6-91d6-c42b2e2ecaa1",
   "metadata": {
    "tags": []
   },
   "outputs": [],
   "source": [
    "import numpy as np"
   ]
  },
  {
   "cell_type": "code",
   "execution_count": 223,
   "id": "4bd32a58-67e1-4fb5-a45b-d68096650f63",
   "metadata": {
    "tags": []
   },
   "outputs": [],
   "source": [
    "np.random.shuffle(union)"
   ]
  },
  {
   "cell_type": "code",
   "execution_count": 224,
   "id": "f774b4af-9437-4a8c-a7ff-5a7973156159",
   "metadata": {
    "tags": []
   },
   "outputs": [
    {
     "data": {
      "text/plain": [
       "1056"
      ]
     },
     "execution_count": 224,
     "metadata": {},
     "output_type": "execute_result"
    }
   ],
   "source": [
    "len(union)"
   ]
  },
  {
   "cell_type": "code",
   "execution_count": 225,
   "id": "4549113c-353d-427f-8dc4-bf8971fb4500",
   "metadata": {
    "tags": []
   },
   "outputs": [],
   "source": [
    "chunk_size = 12\n",
    "num_chunks = len(union)//chunk_size + 1"
   ]
  },
  {
   "cell_type": "code",
   "execution_count": null,
   "id": "f9477e5c-4b05-4da4-8c43-3d5164217e71",
   "metadata": {
    "scrolled": true,
    "tags": []
   },
   "outputs": [
    {
     "name": "stdout",
     "output_type": "stream",
     "text": [
      "starting creation at Feb 24, 2024 18:32\n",
      "completed chunk 12 articles at Feb 24, 2024 18:33 in 1.5166666666666666 minutes\n",
      "starting creation at Feb 24, 2024 18:33\n",
      "completed chunk 24 articles at Feb 24, 2024 18:35 in 1.4833333333333334 minutes\n",
      "starting creation at Feb 24, 2024 18:35\n",
      "completed chunk 36 articles at Feb 24, 2024 18:36 in 1.65 minutes\n",
      "starting creation at Feb 24, 2024 18:36\n",
      "completed chunk 48 articles at Feb 24, 2024 18:38 in 1.45 minutes\n",
      "starting creation at Feb 24, 2024 18:38\n",
      "completed chunk 60 articles at Feb 24, 2024 18:38 in 0.2 minutes\n",
      "starting creation at Feb 24, 2024 18:38\n",
      "completed chunk 72 articles at Feb 24, 2024 18:39 in 1.0 minutes\n",
      "starting creation at Feb 24, 2024 18:39\n",
      "completed chunk 84 articles at Feb 24, 2024 18:40 in 1.1833333333333333 minutes\n",
      "starting creation at Feb 24, 2024 18:40\n",
      "completed chunk 96 articles at Feb 24, 2024 18:42 in 1.75 minutes\n",
      "starting creation at Feb 24, 2024 18:42\n",
      "completed chunk 108 articles at Feb 24, 2024 18:44 in 1.7333333333333334 minutes\n",
      "starting creation at Feb 24, 2024 18:44\n",
      "completed chunk 120 articles at Feb 24, 2024 18:45 in 1.6 minutes\n",
      "starting creation at Feb 24, 2024 18:45\n",
      "completed chunk 132 articles at Feb 24, 2024 18:46 in 1.0 minutes\n",
      "starting creation at Feb 24, 2024 18:46\n",
      "completed chunk 144 articles at Feb 24, 2024 18:47 in 0.8833333333333333 minutes\n",
      "starting creation at Feb 24, 2024 18:47\n",
      "completed chunk 156 articles at Feb 24, 2024 18:48 in 0.9 minutes\n",
      "starting creation at Feb 24, 2024 18:48\n",
      "completed chunk 168 articles at Feb 24, 2024 18:49 in 1.2 minutes\n",
      "starting creation at Feb 24, 2024 18:49\n",
      "completed chunk 180 articles at Feb 24, 2024 18:51 in 1.0833333333333333 minutes\n",
      "starting creation at Feb 24, 2024 18:51\n",
      "completed chunk 192 articles at Feb 24, 2024 18:51 in 0.7833333333333333 minutes\n",
      "starting creation at Feb 24, 2024 18:51\n",
      "completed chunk 204 articles at Feb 24, 2024 18:51 in 0.03333333333333333 minutes\n",
      "starting creation at Feb 24, 2024 18:51\n",
      "completed chunk 216 articles at Feb 24, 2024 18:52 in 1.0166666666666666 minutes\n",
      "starting creation at Feb 24, 2024 18:52\n",
      "completed chunk 228 articles at Feb 24, 2024 18:53 in 0.8 minutes\n",
      "starting creation at Feb 24, 2024 18:53\n",
      "completed chunk 240 articles at Feb 24, 2024 18:54 in 1.0166666666666666 minutes\n",
      "starting creation at Feb 24, 2024 18:54\n",
      "completed chunk 252 articles at Feb 24, 2024 18:55 in 0.8 minutes\n",
      "starting creation at Feb 24, 2024 18:55\n",
      "completed chunk 264 articles at Feb 24, 2024 18:56 in 0.7166666666666667 minutes\n",
      "starting creation at Feb 24, 2024 18:56\n",
      "completed chunk 276 articles at Feb 24, 2024 18:57 in 0.8166666666666667 minutes\n",
      "starting creation at Feb 24, 2024 18:57\n",
      "completed chunk 288 articles at Feb 24, 2024 18:57 in 0.6666666666666666 minutes\n",
      "starting creation at Feb 24, 2024 18:57\n",
      "completed chunk 300 articles at Feb 24, 2024 18:58 in 1.0166666666666666 minutes\n",
      "starting creation at Feb 24, 2024 18:58\n",
      "completed chunk 312 articles at Feb 24, 2024 18:59 in 0.95 minutes\n",
      "starting creation at Feb 24, 2024 18:59\n",
      "completed chunk 324 articles at Feb 24, 2024 19:00 in 0.7333333333333333 minutes\n",
      "starting creation at Feb 24, 2024 19:00\n",
      "completed chunk 336 articles at Feb 24, 2024 19:00 in 0.03333333333333333 minutes\n",
      "starting creation at Feb 24, 2024 19:00\n",
      "completed chunk 348 articles at Feb 24, 2024 19:01 in 1.0166666666666666 minutes\n",
      "starting creation at Feb 24, 2024 19:01\n",
      "completed chunk 360 articles at Feb 24, 2024 19:02 in 0.7666666666666667 minutes\n",
      "starting creation at Feb 24, 2024 19:02\n",
      "completed chunk 372 articles at Feb 24, 2024 19:03 in 1.0166666666666666 minutes\n",
      "starting creation at Feb 24, 2024 19:03\n",
      "completed chunk 384 articles at Feb 24, 2024 19:04 in 0.9 minutes\n",
      "starting creation at Feb 24, 2024 19:04\n",
      "completed chunk 396 articles at Feb 24, 2024 19:05 in 0.9 minutes\n",
      "starting creation at Feb 24, 2024 19:05\n",
      "completed chunk 408 articles at Feb 24, 2024 19:05 in 0.7833333333333333 minutes\n",
      "starting creation at Feb 24, 2024 19:05\n",
      "completed chunk 420 articles at Feb 24, 2024 19:06 in 0.6333333333333333 minutes\n",
      "starting creation at Feb 24, 2024 19:06\n",
      "completed chunk 432 articles at Feb 24, 2024 19:07 in 0.6833333333333333 minutes\n",
      "starting creation at Feb 24, 2024 19:07\n",
      "completed chunk 444 articles at Feb 24, 2024 19:08 in 1.0 minutes\n",
      "starting creation at Feb 24, 2024 19:08\n",
      "completed chunk 456 articles at Feb 24, 2024 19:09 in 0.8833333333333333 minutes\n",
      "starting creation at Feb 24, 2024 19:09\n"
     ]
    }
   ],
   "source": [
    "for i in range(num_chunks):\n",
    "    article_chunk = union[i*chunk_size:(i+1)*chunk_size]\n",
    "    print(f'starting creation at {\"{:%b %d, %Y %H:%M}\".format(datetime.now())}')\n",
    "    start_time = time.time()\n",
    "    with ThreadPoolExecutor(max_workers=6) as executor:\n",
    "        futures = [executor.submit(create_missing_article_details, art_id) for art_id in article_chunk]\n",
    "        for future in as_completed(futures):\n",
    "            response = future.result()\n",
    "            if response:  # Timeout or other errors\n",
    "                completed_article_ids.append(response)\n",
    "                continue\n",
    "    print(f'completed chunk {(i + 1) * chunk_size} articles at {\"{:%b %d, %Y %H:%M}\".format(datetime.now())} in {int(time.time() - start_time)/60} minutes')"
   ]
  },
  {
   "cell_type": "code",
   "execution_count": null,
   "id": "44714c7e-203c-4329-b86f-c1cc453c828a",
   "metadata": {
    "tags": []
   },
   "outputs": [],
   "source": [
    "2"
   ]
  },
  {
   "cell_type": "code",
   "execution_count": 42,
   "id": "bf38450d-56cf-45cb-9cfc-6529d421fd3e",
   "metadata": {
    "tags": []
   },
   "outputs": [
    {
     "data": {
      "text/plain": [
       "5"
      ]
     },
     "execution_count": 42,
     "metadata": {},
     "output_type": "execute_result"
    }
   ],
   "source": [
    "5"
   ]
  },
  {
   "cell_type": "code",
   "execution_count": 43,
   "id": "da1654a2-3477-4d75-a1e2-60838db98e94",
   "metadata": {
    "tags": []
   },
   "outputs": [
    {
     "data": {
      "text/plain": [
       "2"
      ]
     },
     "execution_count": 43,
     "metadata": {},
     "output_type": "execute_result"
    }
   ],
   "source": [
    "2"
   ]
  },
  {
   "cell_type": "code",
   "execution_count": 44,
   "id": "c294d4e7-1838-4f05-89ee-b086adb3b361",
   "metadata": {
    "tags": []
   },
   "outputs": [
    {
     "data": {
      "text/plain": [
       "3"
      ]
     },
     "execution_count": 44,
     "metadata": {},
     "output_type": "execute_result"
    }
   ],
   "source": [
    "3"
   ]
  },
  {
   "cell_type": "code",
   "execution_count": 45,
   "id": "7ff1ac67-ed27-4e1b-8210-d58fd2ef1e68",
   "metadata": {
    "tags": []
   },
   "outputs": [
    {
     "data": {
      "text/plain": [
       "4"
      ]
     },
     "execution_count": 45,
     "metadata": {},
     "output_type": "execute_result"
    }
   ],
   "source": [
    "4"
   ]
  },
  {
   "cell_type": "code",
   "execution_count": 10,
   "id": "d9d4d0a9-22df-4f89-8bfa-d47dee4e09b1",
   "metadata": {
    "tags": []
   },
   "outputs": [],
   "source": [
    "# from botocore.config import Config\n",
    "# import boto3\n",
    "\n",
    "# my_config = Config(\n",
    "#         region_name='ap-south-1',\n",
    "#         connect_timeout=120,\n",
    "#         read_timeout=120,\n",
    "#         retries={\n",
    "#             'max_attempts': 1,\n",
    "#             'mode': 'standard'\n",
    "#         },\n",
    "#         max_pool_connections=40  # Increase the pool size\n",
    "#     )\n",
    "\n",
    "#     # Create a SageMaker Runtime client with the custom configuration\n",
    "# sess1 = boto3.session.Session()\n",
    "# sagemaker_runtime = sess1.client(\"sagemaker-runtime\", config=my_config)"
   ]
  },
  {
   "cell_type": "code",
   "execution_count": 9,
   "id": "f6cdf83a-32e0-4c64-ae67-4e6a53d9935c",
   "metadata": {
    "tags": []
   },
   "outputs": [],
   "source": [
    "# candidates_df['truncated_content'] = candidates_df['full_content'].apply(lambda x: truncate_text_to_token_limit(text=x, \n",
    "#                                                                                                                 encoder=tokenizer,\n",
    "#                                                                                                                 token_limit=1536))"
   ]
  },
  {
   "cell_type": "code",
   "execution_count": 44,
   "id": "0eee26d4-0ca2-427e-8d0e-7bcd667f46a8",
   "metadata": {
    "tags": []
   },
   "outputs": [],
   "source": [
    "num_sys_prompt = 2560 - len(tokenizer.encode(SYSTEM_PROMPT))"
   ]
  },
  {
   "cell_type": "code",
   "execution_count": 108,
   "id": "ad3c509a-efe5-4c49-af1b-fc2c07574c5d",
   "metadata": {
    "tags": []
   },
   "outputs": [],
   "source": [
    "def generate_prompt_for_row(row):\n",
    "    truncated = truncate_text_to_token_limit(text=row['full_content'],encoder=tokenizer,token_limit=2560-num_sys_prompt-10)\n",
    "    messages = [{\"role\": \"system\", \"content\": SYSTEM_PROMPT},\n",
    "                    {\"role\": \"user\", \"content\": f\"{truncated}\\n\"}]\n",
    "    context_prompt = tokenizer.decode(tokenizer.apply_chat_template(messages, add_generation_prompt=True))\n",
    "    return context_prompt"
   ]
  },
  {
   "cell_type": "code",
   "execution_count": 109,
   "id": "fe084fda-4a49-4a2e-90f1-e4d072850f2a",
   "metadata": {
    "tags": []
   },
   "outputs": [],
   "source": [
    "def generate_params_for_row(row):\n",
    "    context_prompt = generate_prompt_for_row(row)\n",
    "    parameters = {\n",
    "    \"do_sample\": True,\n",
    "    \"top_p\": 0.95,\n",
    "    \"temperature\": 0.5,\n",
    "    \"max_new_tokens\": 1024,\n",
    "    \"repetition_penalty\": 1.02,\n",
    "    \"stop\": [\"###\", \"</s>\", '<|im_end|>']\n",
    "    }\n",
    "    params = {\"inputs\": context_prompt, \"parameters\": parameters, \"stream\": False}\n",
    "    params['parameters']['adapter_id'] = 'lorax/OpenHermes-2.5-Adapter-Attributes-WatermelonUvulaMarigold'\n",
    "    params['parameters']['adapter_source'] = 's3'\n",
    "    return params"
   ]
  },
  {
   "cell_type": "code",
   "execution_count": 110,
   "id": "c4976f67-740d-4c2a-8e8e-69bd578ca41b",
   "metadata": {
    "tags": []
   },
   "outputs": [],
   "source": [
    "import json"
   ]
  },
  {
   "cell_type": "code",
   "execution_count": 129,
   "id": "eb2209c4-e298-445c-835f-84c025e9f920",
   "metadata": {
    "tags": []
   },
   "outputs": [],
   "source": [
    "def get_attributes_for_candidate(row):\n",
    "    my_config = Config(\n",
    "        region_name='ap-south-1',\n",
    "        retries={\n",
    "            'max_attempts': 1,\n",
    "            'mode': 'standard'\n",
    "        },\n",
    "        max_pool_connections=40  # Increase the pool size\n",
    "    )\n",
    "    sess1 = boto3.session.Session()\n",
    "    sagemaker_runtime = sess1.client(\"sagemaker-runtime\", config=my_config)\n",
    "    params = generate_params_for_row(row)\n",
    "    response = sagemaker_runtime.invoke_endpoint(\n",
    "            EndpointName='LORAX-Openhermes',\n",
    "            Body=json.dumps(params),\n",
    "            ContentType=\"application/json\")\n",
    "    r = response['Body'].read()\n",
    "    print(f\"response received for {row['article_id']}\")\n",
    "    try:\n",
    "        attributes = json.loads(json.loads(r)[0]['generated_text'])\n",
    "        if isinstance(attributes, dict):\n",
    "            return row['article_id'], attributes, True\n",
    "        else:\n",
    "            try:\n",
    "                attributes = json.loads(attributes)\n",
    "                return row['article_id'], attributes, True\n",
    "            except:\n",
    "                return row['article_id'], attributes, False\n",
    "    except:\n",
    "        return row['article_id'], json.loads(r)[0]['generated_text'], False"
   ]
  },
  {
   "cell_type": "code",
   "execution_count": 101,
   "id": "e2607e64-ed48-41da-824c-3f05fcdedf7f",
   "metadata": {
    "tags": []
   },
   "outputs": [],
   "source": [
    "params = generate_params_for_row(candidates_dict[20])"
   ]
  },
  {
   "cell_type": "code",
   "execution_count": 115,
   "id": "d647f064-a1ea-4ecd-ab5e-a3a4ba3155b3",
   "metadata": {
    "tags": []
   },
   "outputs": [],
   "source": [
    "response = sagemaker_runtime.invoke_endpoint(\n",
    "            EndpointName='LORAX-Openhermes',\n",
    "            Body=json.dumps(params),\n",
    "            ContentType=\"application/json\")\n",
    "r = response['Body'].read()"
   ]
  },
  {
   "cell_type": "code",
   "execution_count": 117,
   "id": "4e761c34-1e43-48d6-8600-e7c1d5de27ae",
   "metadata": {
    "tags": []
   },
   "outputs": [
    {
     "name": "stdout",
     "output_type": "stream",
     "text": [
      "45.74726986885071\n"
     ]
    }
   ],
   "source": [
    "s = time.time()\n",
    "a, b, c = get_attributes_for_candidate(candidates_dict[20])\n",
    "print(time.time()-s)"
   ]
  },
  {
   "cell_type": "code",
   "execution_count": 67,
   "id": "c30fddfe-71d1-4461-9319-0141dbbe717e",
   "metadata": {
    "tags": []
   },
   "outputs": [],
   "source": [
    "import time\n",
    "from datetime import datetime\n",
    "from concurrent.futures import as_completed, ThreadPoolExecutor"
   ]
  },
  {
   "cell_type": "code",
   "execution_count": 118,
   "id": "a318ff6b-de00-4ce3-92e5-7c9367bce29c",
   "metadata": {
    "tags": []
   },
   "outputs": [],
   "source": [
    "def save_attributes(response_json):\n",
    "    cur_df = pd.DataFrame(response_json, index=['i', ])\n",
    "    cur_df.to_csv('candidates_lorax_responses.csv', header=None, mode='a')"
   ]
  },
  {
   "cell_type": "code",
   "execution_count": 131,
   "id": "936db601-c007-44a8-9f92-0c06a8376cb1",
   "metadata": {
    "tags": []
   },
   "outputs": [],
   "source": [
    "responses_df = pd.read_csv('candidates_lorax_responses.csv',header=None)"
   ]
  },
  {
   "cell_type": "code",
   "execution_count": 132,
   "id": "9cbb705c-cf3f-40d8-81ff-e7ce6d016342",
   "metadata": {
    "tags": []
   },
   "outputs": [],
   "source": [
    "candidates_dict = candidates_df[~candidates_df.article_id.isin(list(responses_df[1].unique()))].to_dict('records')"
   ]
  },
  {
   "cell_type": "code",
   "execution_count": 133,
   "id": "5c24a772-7f49-49a1-8c65-272f9b36aeed",
   "metadata": {
    "tags": []
   },
   "outputs": [
    {
     "data": {
      "text/plain": [
       "20561"
      ]
     },
     "execution_count": 133,
     "metadata": {},
     "output_type": "execute_result"
    }
   ],
   "source": [
    "len(candidates_df)"
   ]
  },
  {
   "cell_type": "code",
   "execution_count": 134,
   "id": "fe143fc6-6c3f-490d-8af0-0ea996e1c03b",
   "metadata": {
    "tags": []
   },
   "outputs": [
    {
     "data": {
      "text/plain": [
       "20446"
      ]
     },
     "execution_count": 134,
     "metadata": {},
     "output_type": "execute_result"
    }
   ],
   "source": [
    "len(candidates_dict)"
   ]
  },
  {
   "cell_type": "code",
   "execution_count": 135,
   "id": "0ee32387-64fa-4ab8-ae15-2a5d64117a4d",
   "metadata": {
    "tags": []
   },
   "outputs": [],
   "source": [
    "valid_responses = []\n",
    "invalid_responses = []"
   ]
  },
  {
   "cell_type": "code",
   "execution_count": 136,
   "id": "5de5446f-990a-4a46-a75e-87a2e6ba49b1",
   "metadata": {
    "tags": []
   },
   "outputs": [],
   "source": [
    "import json"
   ]
  },
  {
   "cell_type": "code",
   "execution_count": 137,
   "id": "92f2e2f1-31cc-4865-99a2-956192d81c13",
   "metadata": {
    "tags": []
   },
   "outputs": [
    {
     "name": "stdout",
     "output_type": "stream",
     "text": [
      "starting at 2024-02-20 12:03:28.534511\n",
      "response received for 652fc61d1e5cc42b1b139ed5\n",
      "response received for 652fcacd1e5cc42b1b13a11f\n",
      "response received for 652fcb091e5cc42b1b13a13e\n",
      "response received for 652fcbbb1e5cc42b1b13a19a\n",
      "response received for 652fcbdc1e5cc42b1b13a1ac\n",
      "response received for 652fcfd41e5cc42b1b13a36b\n",
      "response received for 652fcffe1e5cc42b1b13a380\n",
      "response received for 652fcad81e5cc42b1b13a125response received for 652fc7f51e5cc42b1b139fb6\n",
      "\n",
      "response received for 652fcbf51e5cc42b1b13a1b9\n",
      "response received for 652fd00c1e5cc42b1b13a387\n",
      "response received for 652fd01a1e5cc42b1b13a38d\n",
      "response received for 652fd0481e5cc42b1b13a3a3\n",
      "response received for 652fd13b1e5cc42b1b13a41b\n",
      "response received for 652fd0561e5cc42b1b13a3aa\n",
      "response received for 652fd23b1e5cc42b1b13a49b\n",
      "response received for 652fd35d1e5cc42b1b13a529\n",
      "response received for 652fd0521e5cc42b1b13a3a8\n",
      "response received for 6530d40c1e5cc42b1b13a6cf\n",
      "response received for 652fd1d21e5cc42b1b13a466\n",
      "response received for 6531686e1e5cc42b1b13abd3\n",
      "response received for 652fd3351e5cc42b1b13a516\n",
      "response received for 653168a71e5cc42b1b13b361\n",
      "response received for 653168bb1e5cc42b1b13b716\n",
      "response received for 653168901e5cc42b1b13afea\n",
      "response received for 653168cd1e5cc42b1b13bae8\n",
      "response received for 653168ff1e5cc42b1b13c7ef\n",
      "response received for 653169011e5cc42b1b13c8b6\n",
      "response received for 653169051e5cc42b1b13c990\n",
      "response received for 653168cc1e5cc42b1b13baa3\n",
      "response received for 6531690c1e5cc42b1b13cbca\n",
      "response received for 653169081e5cc42b1b13ca7c\n",
      "response received for 6531690c1e5cc42b1b13cbdc\n",
      "response received for 653169101e5cc42b1b13cd06\n",
      "response received for 6531690c1e5cc42b1b13cbe0\n",
      "response received for 6531690e1e5cc42b1b13cc44\n"
     ]
    },
    {
     "name": "stderr",
     "output_type": "stream",
     "text": [
      "\n",
      "KeyboardInterrupt\n",
      "\n"
     ]
    },
    {
     "name": "stdout",
     "output_type": "stream",
     "text": [
      "response received for 653169101e5cc42b1b13cd15\n",
      "response received for 653169111e5cc42b1b13cd2f\n",
      "response received for 653169121e5cc42b1b13cdbb\n",
      "response received for 653169121e5cc42b1b13cdb2response received for 653169101e5cc42b1b13cd0d\n",
      "response received for 653169181e5cc42b1b13cf4c\n",
      "response received for 653169181e5cc42b1b13cf73\n",
      "response received for 653169181e5cc42b1b13cf9c\n",
      "response received for 6531691a1e5cc42b1b13cfed\n",
      "response received for 653169191e5cc42b1b13cfe1\n",
      "response received for 6531691c1e5cc42b1b13d09a\n",
      "response received for 653169241e5cc42b1b13d2fc\n",
      "response received for 6531692b1e5cc42b1b13d48a\n",
      "response received for 653169361e5cc42b1b13d668\n",
      "response received for 65316a681e5cc42b1b13dc28\n",
      "response received for 65316a971e5cc42b1b13dd23\n",
      "response received for 6531694a1e5cc42b1b13d8b0\n",
      "response received for 65316b631e5cc42b1b13dea7\n",
      "response received for 65316a411e5cc42b1b13dbb7\n",
      "response received for 653169601e5cc42b1b13d9ae\n",
      "response received for 65316a721e5cc42b1b13dc54\n",
      "response received for 65316bcc1e5cc42b1b13df66\n",
      "response received for 65316e401e5cc42b1b13e484\n",
      "response received for 65316ea41e5cc42b1b13e5e2\n",
      "response received for 65316f3a1e5cc42b1b13f48e\n",
      "response received for 65316f2e1e5cc42b1b13f277\n",
      "response received for 65316eb01e5cc42b1b13e628\n",
      "response received for 65316ef41e5cc42b1b13ea7c\n",
      "response received for 65316f481e5cc42b1b13f767\n",
      "response received for 65316f511e5cc42b1b13f925\n",
      "response received for 65316f531e5cc42b1b13f984\n",
      "response received for 65316f561e5cc42b1b13fa40\n",
      "response received for 65316f481e5cc42b1b13f743\n",
      "response received for 65316f5e1e5cc42b1b13fbd2\n",
      "response received for 65316f651e5cc42b1b13fd62\n",
      "response received for 65316f651e5cc42b1b13fd64\n",
      "response received for 65316f571e5cc42b1b13fa5e\n",
      "response received for 65316f651e5cc42b1b13fd7f\n",
      "response received for 65316f591e5cc42b1b13fac1\n",
      "response received for 65316f691e5cc42b1b13fe73\n",
      "response received for 65316f691e5cc42b1b13fe7d\n",
      "response received for 65316f701e5cc42b1b13fffb\n",
      "response received for 65316f751e5cc42b1b140123\n",
      "response received for 65316f711e5cc42b1b140032\n",
      "response received for 65316f781e5cc42b1b1401ec\n",
      "response received for 65316f791e5cc42b1b14023a\n",
      "response received for 65316f881e5cc42b1b140648\n",
      "response received for 65316f811e5cc42b1b140456\n",
      "response received for 65316f761e5cc42b1b14015f\n",
      "response received for 65316f831e5cc42b1b1404bd\n",
      "response received for 65316fa11e5cc42b1b140d35\n",
      "response received for 65316fa01e5cc42b1b140cdc\n",
      "response received for 65316faa1e5cc42b1b141022\n",
      "response received for 65316f921e5cc42b1b1408d4\n",
      "response received for 65316fd21e5cc42b1b141e21\n",
      "response received for 65316fd31e5cc42b1b141ec2\n",
      "response received for 65316fd61e5cc42b1b141fb2\n",
      "response received for 65316f981e5cc42b1b140ab0\n",
      "response received for 65316fb61e5cc42b1b141430\n",
      "response received for 65316fda1e5cc42b1b14214f\n",
      "response received for 65316fdd1e5cc42b1b14224d\n",
      "response received for 65316fdf1e5cc42b1b14234f\n",
      "response received for 65316fd91e5cc42b1b1420d8\n",
      "response received for 65316fe31e5cc42b1b1424a6\n",
      "response received for 65316fdc1e5cc42b1b142203\n",
      "response received for 65316fda1e5cc42b1b142159\n",
      "response received for 65316fef1e5cc42b1b14299f\n",
      "response received for 65316fe91e5cc42b1b142766\n",
      "response received for 65316fef1e5cc42b1b1429b6\n",
      "response received for 65316fef1e5cc42b1b1429c6\n",
      "response received for 65316fe51e5cc42b1b142594\n",
      "response received for 65316ff01e5cc42b1b142a33\n",
      "response received for 65316ff41e5cc42b1b142bb6\n",
      "response received for 65316ff51e5cc42b1b142c11\n",
      "response received for 65316ff51e5cc42b1b142c36\n",
      "response received for 65316ff51e5cc42b1b142c3b\n",
      "response received for 65316ff51e5cc42b1b142c49\n",
      "response received for 65316ff81e5cc42b1b142d6b\n",
      "response received for 65316ff81e5cc42b1b142d5d\n",
      "response received for 65316ff61e5cc42b1b142c62\n",
      "response received for 65316ffe1e5cc42b1b142fbb\n",
      "response received for 65316ffa1e5cc42b1b142e31\n",
      "response received for 65316ffc1e5cc42b1b142ef4\n",
      "response received for 65316ffe1e5cc42b1b142fdb\n",
      "response received for 65316ffd1e5cc42b1b142f6b\n",
      "response received for 653170001e5cc42b1b1430e6\n",
      "response received for 653170011e5cc42b1b143126\n",
      "response received for 65316ffe1e5cc42b1b142fbd\n",
      "response received for 65316ffe1e5cc42b1b142feb\n",
      "response received for 653170011e5cc42b1b14315d\n",
      "response received for 65316ffe1e5cc42b1b142ff4\n",
      "response received for 653225a01e5cc42b1b14386d\n",
      "response received for 6532259a1e5cc42b1b143851\n",
      "response received for 6534c8891e5cc42b1b143954\n",
      "response received for 653225991e5cc42b1b14384b\n",
      "response received for 65367fce1e5cc42b1b143be4\n",
      "response received for 65367fd31e5cc42b1b143bfc\n",
      "response received for 65367fdc1e5cc42b1b143c40\n",
      "response received for 65367fc41e5cc42b1b143bc1\n",
      "response received for 65367fdf1e5cc42b1b143c56\n",
      "response received for 65367fde1e5cc42b1b143c50\n",
      "response received for 65367fea1e5cc42b1b143ccf\n",
      "response received for 65367ffa1e5cc42b1b143db0\n",
      "response received for 65367ffc1e5cc42b1b143dbc\n",
      "response received for 65367fec1e5cc42b1b143cdf\n",
      "response received for 65367ffc1e5cc42b1b143dca\n",
      "response received for 65367ff31e5cc42b1b143d3d\n",
      "response received for 65367ff11e5cc42b1b143d1c\n",
      "response received for 653680001e5cc42b1b143e10\n",
      "response received for 653680051e5cc42b1b143e54\n",
      "response received for 653680081e5cc42b1b143e96\n",
      "response received for 653680091e5cc42b1b143ea0\n",
      "response received for 653680071e5cc42b1b143e80\n",
      "response received for 6536800e1e5cc42b1b143eff\n",
      "response received for 6536800c1e5cc42b1b143ee2\n",
      "response received for 653680131e5cc42b1b143f75\n",
      "response received for 653680101e5cc42b1b143f34\n",
      "response received for 653680111e5cc42b1b143f47\n",
      "response received for 653680161e5cc42b1b143fab\n",
      "response received for 653680171e5cc42b1b143fc1\n",
      "response received for 6536801a1e5cc42b1b144000\n",
      "response received for 653680181e5cc42b1b143fd1\n",
      "response received for 6536800e1e5cc42b1b143f00\n",
      "response received for 653680231e5cc42b1b1440f0\n",
      "response received for 653680271e5cc42b1b144167\n",
      "response received for 653680181e5cc42b1b143fe8\n",
      "response received for 653680281e5cc42b1b144178\n",
      "response received for 6536801b1e5cc42b1b144027\n",
      "response received for 653680241e5cc42b1b14410d\n",
      "response received for 653680291e5cc42b1b144182\n",
      "response received for 6536802a1e5cc42b1b1441a1\n",
      "response received for 6536802a1e5cc42b1b1441a4\n",
      "response received for 6536802a1e5cc42b1b1441a2\n",
      "response received for 6536802a1e5cc42b1b1441ad\n",
      "response received for 6536802a1e5cc42b1b1441ae\n",
      "response received for 6536802a1e5cc42b1b1441a0\n",
      "response received for 653680291e5cc42b1b14419a\n",
      "response received for 6536802b1e5cc42b1b1441bd\n",
      "response received for 6536802d1e5cc42b1b1441f9\n",
      "response received for 6536802e1e5cc42b1b144208\n",
      "response received for 6536802b1e5cc42b1b1441b3\n",
      "response received for 6536802e1e5cc42b1b144209\n",
      "response received for 6536802b1e5cc42b1b1441ba\n",
      "response received for 6536802b1e5cc42b1b1441c6\n",
      "response received for 6536802e1e5cc42b1b144213\n",
      "response received for 6536802e1e5cc42b1b144219\n",
      "response received for 6536802e1e5cc42b1b144217\n",
      "response received for 6536802e1e5cc42b1b14420c\n",
      "response received for 6536802e1e5cc42b1b144224\n",
      "response received for 6536802e1e5cc42b1b14420f\n",
      "response received for 6536802f1e5cc42b1b14422e\n",
      "response received for 6536802e1e5cc42b1b144229\n",
      "response received for 6536802f1e5cc42b1b14422f\n",
      "response received for 6536802f1e5cc42b1b14423d\n",
      "response received for 6536802f1e5cc42b1b144235\n",
      "response received for 653680301e5cc42b1b144246\n",
      "response received for 653680301e5cc42b1b14425b\n",
      "response received for 653680301e5cc42b1b144259\n",
      "response received for 653680301e5cc42b1b144251\n",
      "response received for 653680311e5cc42b1b144260\n",
      "response received for 653680311e5cc42b1b14426f\n",
      "response received for 653680321e5cc42b1b144273\n"
     ]
    }
   ],
   "source": [
    "start_time = time.time()\n",
    "print(f'starting at {datetime.now()}')\n",
    "valid_response_count = 0\n",
    "invalid_response_count = 0\n",
    "timedout = 0\n",
    "with ThreadPoolExecutor(max_workers=6) as executor:\n",
    "    futures = [executor.submit(get_attributes_for_candidate, article) for article in candidates_dict]\n",
    "    for future in as_completed(futures):\n",
    "        try:\n",
    "            article_id, attributes, valid = future.result(timeout=60)\n",
    "            if valid:  # Timeout or other errors\n",
    "                valid_response_count += 1\n",
    "                response_json = {'article_id': article_id, 'attributes': json.dumps(attributes), 'valid': True}\n",
    "                valid_responses.append(response_json)\n",
    "                if valid_response_count % 100 == 0:\n",
    "                    print(f'completed {valid_response_count} in {time.time() - start_time} seconds')\n",
    "            else:\n",
    "                invalid_response_count += 1\n",
    "                response_json = {'article_id': article_id, 'attributes': json.dumps(attributes), 'valid': False}\n",
    "                invalid_responses.append(response_json)\n",
    "                if invalid_response_count % 50 == 0:\n",
    "                    print(f'now {invalid_response_count} invalid responses')\n",
    "            save_attributes(response_json)\n",
    "        except concurrent.futures.TimeoutError:\n",
    "            timedout += 1\n",
    "print(f'done in {time.time() - start_time} seconds')"
   ]
  },
  {
   "cell_type": "code",
   "execution_count": null,
   "id": "6295a2d7-425b-4e92-a1d9-d801cea89286",
   "metadata": {},
   "outputs": [],
   "source": []
  }
 ],
 "metadata": {
  "kernelspec": {
   "display_name": "bertopicenv",
   "language": "python",
   "name": "bertopicenv"
  },
  "language_info": {
   "codemirror_mode": {
    "name": "ipython",
    "version": 3
   },
   "file_extension": ".py",
   "mimetype": "text/x-python",
   "name": "python",
   "nbconvert_exporter": "python",
   "pygments_lexer": "ipython3",
   "version": "3.9.18"
  }
 },
 "nbformat": 4,
 "nbformat_minor": 5
}
