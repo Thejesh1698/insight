{
 "cells": [
  {
   "cell_type": "code",
   "execution_count": 1,
   "id": "1ece03f9-26b3-4cbf-bc91-9f5bdf4b710c",
   "metadata": {
    "tags": []
   },
   "outputs": [],
   "source": [
    "parent_folder = '/Users/ravi.tej/Desktop/ML/Recommendations/arcane/'\n",
    "from hydra import compose, initialize\n",
    "import os\n",
    "\n",
    "import xml.etree.ElementTree as ET\n",
    "\n",
    "tree = ET.parse('../../../conf/application.run.xml')\n",
    "root = tree.getroot()\n",
    "\n",
    "envs_element = root.find('./configuration/envs')\n",
    "for variable in envs_element.findall('env'):\n",
    "    name = variable.get('name')\n",
    "    value = variable.get('value')\n",
    "    os.environ[name] = value\n",
    "\n",
    "import sys\n",
    "sys.path.append('/Users/ravi.tej/Desktop/ML/Recommendations/arcane/')\n",
    "import pandas as pd\n",
    "\n",
    "os.environ['PATH'] = '/Users/ravi.tej/anaconda3/envs/bertopicenv/bin:/Users/ravi.tej/anaconda3/condabin:/usr/bin:/bin:/usr/sbin:/sbin'"
   ]
  },
  {
   "cell_type": "code",
   "execution_count": 2,
   "id": "61f70b3c-14f3-4f55-a61c-47316267e3a2",
   "metadata": {
    "tags": []
   },
   "outputs": [],
   "source": [
    "from src.llm_finetuning.ModelDownloader import ModelDownloader"
   ]
  },
  {
   "cell_type": "code",
   "execution_count": 3,
   "id": "7666c122-854c-4070-9d42-782de80d832f",
   "metadata": {
    "tags": []
   },
   "outputs": [],
   "source": [
    "Downloader = ModelDownloader(model_s3_path='s3://sagemaker-ap-south-1-005418323977/huggingface-qlora-teknium-OpenHermes-2--2024-02-19-00-25-15-965/output/model/',\n",
    "                            original_hf_model_id='teknium/OpenHermes-2.5-Mistral-7B',\n",
    "                            finetune_id='WatermelonUvulaMarigold',\n",
    "                            local_parent_path='/Users/ravi.tej/Desktop/ML/Recommendations/arcane/notebooks/llms/prompt-refinemenet-18-feb-2023',\n",
    "                             region_name='us-east-1',\n",
    "                            is_adapter=True)"
   ]
  },
  {
   "cell_type": "code",
   "execution_count": 5,
   "id": "a1dbc08b-152b-4450-bb6f-9293e1f70516",
   "metadata": {
    "tags": []
   },
   "outputs": [
    {
     "data": {
      "text/plain": [
       "'OpenHermes-2.5-Adapter-Attributes-WatermelonUvulaMarigold'"
      ]
     },
     "execution_count": 5,
     "metadata": {},
     "output_type": "execute_result"
    }
   ],
   "source": [
    "Downloader.hf_finetuned_model_name"
   ]
  },
  {
   "cell_type": "code",
   "execution_count": 6,
   "id": "ea5ed84f-138d-4f82-8fbd-f1f31d192ec0",
   "metadata": {
    "tags": []
   },
   "outputs": [
    {
     "data": {
      "text/plain": [
       "'/Users/ravi.tej/Desktop/ML/Recommendations/arcane/notebooks/llms/prompt-refinemenet-18-feb-2023/OpenHermes-2.5-Adapter-Attributes-WatermelonUvulaMarigold/'"
      ]
     },
     "execution_count": 6,
     "metadata": {},
     "output_type": "execute_result"
    }
   ],
   "source": [
    "Downloader.local_folder_path"
   ]
  },
  {
   "cell_type": "code",
   "execution_count": 4,
   "id": "c78de619-eb37-4b64-a4ca-46b7876e9535",
   "metadata": {
    "tags": []
   },
   "outputs": [],
   "source": [
    "# Downloader.download_model()"
   ]
  },
  {
   "cell_type": "code",
   "execution_count": 5,
   "id": "1a7a1ffa-fc76-4b06-8370-708d6a8760cb",
   "metadata": {
    "scrolled": true,
    "tags": []
   },
   "outputs": [],
   "source": [
    "# !pip install peft==0.5.0"
   ]
  },
  {
   "cell_type": "code",
   "execution_count": 4,
   "id": "435ff21c-02d9-4d2c-adfa-7c8520a2e00d",
   "metadata": {
    "tags": []
   },
   "outputs": [
    {
     "data": {
      "application/vnd.jupyter.widget-view+json": {
       "model_id": "6e3034d3c7054738ad42873d2c79e7b1",
       "version_major": 2,
       "version_minor": 0
      },
      "text/plain": [
       "model.safetensors.index.json:   0%|          | 0.00/25.1k [00:00<?, ?B/s]"
      ]
     },
     "metadata": {},
     "output_type": "display_data"
    },
    {
     "data": {
      "application/vnd.jupyter.widget-view+json": {
       "model_id": "7110492598534c12bf65d8d30ceb9631",
       "version_major": 2,
       "version_minor": 0
      },
      "text/plain": [
       "Downloading shards:   0%|          | 0/2 [00:00<?, ?it/s]"
      ]
     },
     "metadata": {},
     "output_type": "display_data"
    },
    {
     "data": {
      "application/vnd.jupyter.widget-view+json": {
       "model_id": "85cb2ef0a8474af19fd463250729a852",
       "version_major": 2,
       "version_minor": 0
      },
      "text/plain": [
       "model-00001-of-00002.safetensors:   0%|          | 0.00/9.94G [00:00<?, ?B/s]"
      ]
     },
     "metadata": {},
     "output_type": "display_data"
    },
    {
     "data": {
      "application/vnd.jupyter.widget-view+json": {
       "model_id": "50a2bef346bb401ebc7289c91ced1df5",
       "version_major": 2,
       "version_minor": 0
      },
      "text/plain": [
       "model-00002-of-00002.safetensors:   0%|          | 0.00/4.54G [00:00<?, ?B/s]"
      ]
     },
     "metadata": {},
     "output_type": "display_data"
    },
    {
     "data": {
      "application/vnd.jupyter.widget-view+json": {
       "model_id": "a6af2dbadcf347fb8ffdc07f1d7b106d",
       "version_major": 2,
       "version_minor": 0
      },
      "text/plain": [
       "Loading checkpoint shards:   0%|          | 0/2 [00:00<?, ?it/s]"
      ]
     },
     "metadata": {},
     "output_type": "display_data"
    },
    {
     "data": {
      "application/vnd.jupyter.widget-view+json": {
       "model_id": "2194815315264ca388aed879eb42b7a2",
       "version_major": 2,
       "version_minor": 0
      },
      "text/plain": [
       "generation_config.json:   0%|          | 0.00/120 [00:00<?, ?B/s]"
      ]
     },
     "metadata": {},
     "output_type": "display_data"
    },
    {
     "data": {
      "application/vnd.jupyter.widget-view+json": {
       "model_id": "07d954e33fb44e63bb6ef105f72482bf",
       "version_major": 2,
       "version_minor": 0
      },
      "text/plain": [
       "adapter_model.safetensors:   0%|          | 0.00/671M [00:00<?, ?B/s]"
      ]
     },
     "metadata": {},
     "output_type": "display_data"
    },
    {
     "name": "stderr",
     "output_type": "stream",
     "text": [
      "Special tokens have been added in the vocabulary, make sure the associated word embeddings are fine-tuned or trained.\n",
      "Special tokens have been added in the vocabulary, make sure the associated word embeddings are fine-tuned or trained.\n"
     ]
    },
    {
     "data": {
      "application/vnd.jupyter.widget-view+json": {
       "model_id": "f691522f64da469988960b14b7176685",
       "version_major": 2,
       "version_minor": 0
      },
      "text/plain": [
       "README.md:   0%|          | 0.00/5.18k [00:00<?, ?B/s]"
      ]
     },
     "metadata": {},
     "output_type": "display_data"
    },
    {
     "data": {
      "application/vnd.jupyter.widget-view+json": {
       "model_id": "8c11697ed49b4556bf037c18befe7ede",
       "version_major": 2,
       "version_minor": 0
      },
      "text/plain": [
       "tokenizer.model:   0%|          | 0.00/493k [00:00<?, ?B/s]"
      ]
     },
     "metadata": {},
     "output_type": "display_data"
    }
   ],
   "source": [
    "Downloader.upload_model_to_hf()"
   ]
  },
  {
   "cell_type": "code",
   "execution_count": 4,
   "id": "d659a345-5f69-433f-bc45-0d27f78a9f95",
   "metadata": {
    "tags": []
   },
   "outputs": [
    {
     "name": "stdout",
     "output_type": "stream",
     "text": [
      "adapter uploaded to lorax/OpenHermes-2.5-Adapter-Attributes-WatermelonUvulaMarigold\n"
     ]
    }
   ],
   "source": [
    "Downloader.upload_adapter_to_s3_for_lorax()"
   ]
  },
  {
   "cell_type": "code",
   "execution_count": null,
   "id": "37d30fd4-003a-4b0c-894b-9c90f9710eeb",
   "metadata": {},
   "outputs": [],
   "source": []
  }
 ],
 "metadata": {
  "kernelspec": {
   "display_name": "bertopicenv",
   "language": "python",
   "name": "bertopicenv"
  },
  "language_info": {
   "codemirror_mode": {
    "name": "ipython",
    "version": 3
   },
   "file_extension": ".py",
   "mimetype": "text/x-python",
   "name": "python",
   "nbconvert_exporter": "python",
   "pygments_lexer": "ipython3",
   "version": "3.9.18"
  }
 },
 "nbformat": 4,
 "nbformat_minor": 5
}
