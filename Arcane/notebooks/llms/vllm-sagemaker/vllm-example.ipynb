{
 "cells": [
  {
   "cell_type": "markdown",
   "id": "42621abe-acb4-4cff-a62c-48d63a4330d9",
   "metadata": {},
   "source": [
    "#### Source:\n",
    "\n",
    "https://docs.djl.ai/docs/demos/aws/sagemaker/large-model-inference/sample-llm/vllm_deploy_llama_13b.html"
   ]
  },
  {
   "cell_type": "code",
   "execution_count": null,
   "id": "3994a59e-54f1-401c-a682-c344fff1843d",
   "metadata": {
    "tags": []
   },
   "outputs": [],
   "source": [
    "sagemaker.__version__"
   ]
  },
  {
   "cell_type": "code",
   "execution_count": 12,
   "id": "c3f99bde-73ca-445c-b805-06b708109f02",
   "metadata": {
    "scrolled": true,
    "tags": []
   },
   "outputs": [
    {
     "name": "stdout",
     "output_type": "stream",
     "text": [
      "Requirement already satisfied: sagemaker in /Users/username/anaconda3/envs/recoenv/lib/python3.11/site-packages (2.196.0)\n",
      "Collecting sagemaker\n",
      "  Obtaining dependency information for sagemaker from https://files.pythonhosted.org/packages/c9/18/39b659879f4312fc484c79043b0f49fd5446ecd1e1ad90c5043bd6d1c459/sagemaker-2.203.1-py3-none-any.whl.metadata\n",
      "  Downloading sagemaker-2.203.1-py3-none-any.whl.metadata (13 kB)\n",
      "Requirement already satisfied: attrs<24,>=23.1.0 in /Users/username/anaconda3/envs/recoenv/lib/python3.11/site-packages (from sagemaker) (23.1.0)\n",
      "Collecting boto3<2.0,>=1.33.3 (from sagemaker)\n",
      "  Obtaining dependency information for boto3<2.0,>=1.33.3 from https://files.pythonhosted.org/packages/49/ae/1349402cb049379bb9787a1f3302c8ce0af2f588da3ea417575e4a3eac43/boto3-1.34.15-py3-none-any.whl.metadata\n",
      "  Downloading boto3-1.34.15-py3-none-any.whl.metadata (6.6 kB)\n",
      "Requirement already satisfied: cloudpickle==2.2.1 in /Users/username/anaconda3/envs/recoenv/lib/python3.11/site-packages (from sagemaker) (2.2.1)\n",
      "Requirement already satisfied: google-pasta in /Users/username/anaconda3/envs/recoenv/lib/python3.11/site-packages (from sagemaker) (0.2.0)\n",
      "Requirement already satisfied: numpy<2.0,>=1.9.0 in /Users/username/anaconda3/envs/recoenv/lib/python3.11/site-packages (from sagemaker) (1.24.3)\n",
      "Requirement already satisfied: protobuf<5.0,>=3.12 in /Users/username/anaconda3/envs/recoenv/lib/python3.11/site-packages (from sagemaker) (4.24.4)\n",
      "Requirement already satisfied: smdebug-rulesconfig==1.0.1 in /Users/username/anaconda3/envs/recoenv/lib/python3.11/site-packages (from sagemaker) (1.0.1)\n",
      "Requirement already satisfied: importlib-metadata<7.0,>=1.4.0 in /Users/username/anaconda3/envs/recoenv/lib/python3.11/site-packages (from sagemaker) (6.0.0)\n",
      "Requirement already satisfied: packaging>=20.0 in /Users/username/anaconda3/envs/recoenv/lib/python3.11/site-packages (from sagemaker) (23.1)\n",
      "Requirement already satisfied: pandas in /Users/username/anaconda3/envs/recoenv/lib/python3.11/site-packages (from sagemaker) (2.0.3)\n",
      "Requirement already satisfied: pathos in /Users/username/anaconda3/envs/recoenv/lib/python3.11/site-packages (from sagemaker) (0.3.1)\n",
      "Requirement already satisfied: schema in /Users/username/anaconda3/envs/recoenv/lib/python3.11/site-packages (from sagemaker) (0.7.5)\n",
      "Requirement already satisfied: PyYAML~=6.0 in /Users/username/anaconda3/envs/recoenv/lib/python3.11/site-packages (from sagemaker) (6.0)\n",
      "Requirement already satisfied: jsonschema in /Users/username/anaconda3/envs/recoenv/lib/python3.11/site-packages (from sagemaker) (4.17.3)\n",
      "Requirement already satisfied: platformdirs in /Users/username/anaconda3/envs/recoenv/lib/python3.11/site-packages (from sagemaker) (3.10.0)\n",
      "Requirement already satisfied: tblib<3,>=1.7.0 in /Users/username/anaconda3/envs/recoenv/lib/python3.11/site-packages (from sagemaker) (1.7.0)\n",
      "Requirement already satisfied: urllib3<1.27 in /Users/username/anaconda3/envs/recoenv/lib/python3.11/site-packages (from sagemaker) (1.26.16)\n",
      "Collecting uvicorn==0.22.0 (from sagemaker)\n",
      "  Downloading uvicorn-0.22.0-py3-none-any.whl (58 kB)\n",
      "\u001b[2K     \u001b[90m━━━━━━━━━━━━━━━━━━━━━━━━━━━━━━━━━━━━━━━\u001b[0m \u001b[32m58.3/58.3 kB\u001b[0m \u001b[31m867.7 kB/s\u001b[0m eta \u001b[36m0:00:00\u001b[0m \u001b[36m0:00:01\u001b[0m\n",
      "\u001b[?25hCollecting fastapi==0.95.2 (from sagemaker)\n",
      "  Obtaining dependency information for fastapi==0.95.2 from https://files.pythonhosted.org/packages/4e/1a/04887c641b67e6649bde845b9a631f73a7abfbe3afda83957e09b95d88eb/fastapi-0.95.2-py3-none-any.whl.metadata\n",
      "  Downloading fastapi-0.95.2-py3-none-any.whl.metadata (24 kB)\n",
      "Requirement already satisfied: requests in /Users/username/anaconda3/envs/recoenv/lib/python3.11/site-packages (from sagemaker) (2.31.0)\n",
      "Collecting docker (from sagemaker)\n",
      "  Obtaining dependency information for docker from https://files.pythonhosted.org/packages/18/bd/9706c10bb12e05043ef138dc8d412cfd17f29c8df0fb28ad71c96a98785d/docker-7.0.0-py3-none-any.whl.metadata\n",
      "  Downloading docker-7.0.0-py3-none-any.whl.metadata (3.5 kB)\n",
      "Requirement already satisfied: tqdm in /Users/username/anaconda3/envs/recoenv/lib/python3.11/site-packages (from sagemaker) (4.65.0)\n",
      "Requirement already satisfied: psutil in /Users/username/anaconda3/envs/recoenv/lib/python3.11/site-packages (from sagemaker) (5.9.0)\n",
      "Collecting pydantic!=1.7,!=1.7.1,!=1.7.2,!=1.7.3,!=1.8,!=1.8.1,<2.0.0,>=1.6.2 (from fastapi==0.95.2->sagemaker)\n",
      "  Obtaining dependency information for pydantic!=1.7,!=1.7.1,!=1.7.2,!=1.7.3,!=1.8,!=1.8.1,<2.0.0,>=1.6.2 from https://files.pythonhosted.org/packages/35/19/d579c5f85320cc3c89dfb74311084e5f552af904b3e6d2c11d383854a827/pydantic-1.10.13-cp311-cp311-macosx_11_0_arm64.whl.metadata\n",
      "  Downloading pydantic-1.10.13-cp311-cp311-macosx_11_0_arm64.whl.metadata (149 kB)\n",
      "\u001b[2K     \u001b[90m━━━━━━━━━━━━━━━━━━━━━━━━━━━━━━━━━━━━━━━\u001b[0m \u001b[32m149.6/149.6 kB\u001b[0m \u001b[31m2.1 MB/s\u001b[0m eta \u001b[36m0:00:00\u001b[0ma \u001b[36m0:00:01\u001b[0m\n",
      "\u001b[?25hCollecting starlette<0.28.0,>=0.27.0 (from fastapi==0.95.2->sagemaker)\n",
      "  Obtaining dependency information for starlette<0.28.0,>=0.27.0 from https://files.pythonhosted.org/packages/58/f8/e2cca22387965584a409795913b774235752be4176d276714e15e1a58884/starlette-0.27.0-py3-none-any.whl.metadata\n",
      "  Downloading starlette-0.27.0-py3-none-any.whl.metadata (5.8 kB)\n",
      "Requirement already satisfied: click>=7.0 in /Users/username/anaconda3/envs/recoenv/lib/python3.11/site-packages (from uvicorn==0.22.0->sagemaker) (8.0.4)\n",
      "Collecting h11>=0.8 (from uvicorn==0.22.0->sagemaker)\n",
      "  Using cached h11-0.14.0-py3-none-any.whl (58 kB)\n",
      "Collecting botocore<1.35.0,>=1.34.15 (from boto3<2.0,>=1.33.3->sagemaker)\n",
      "  Obtaining dependency information for botocore<1.35.0,>=1.34.15 from https://files.pythonhosted.org/packages/e9/40/126106415e25e927363107b6879260853b4ef8ade2fafc0e451e44cc2c75/botocore-1.34.15-py3-none-any.whl.metadata\n",
      "  Downloading botocore-1.34.15-py3-none-any.whl.metadata (5.6 kB)\n",
      "Requirement already satisfied: jmespath<2.0.0,>=0.7.1 in /Users/username/anaconda3/envs/recoenv/lib/python3.11/site-packages (from boto3<2.0,>=1.33.3->sagemaker) (0.10.0)\n",
      "Collecting s3transfer<0.11.0,>=0.10.0 (from boto3<2.0,>=1.33.3->sagemaker)\n",
      "  Obtaining dependency information for s3transfer<0.11.0,>=0.10.0 from https://files.pythonhosted.org/packages/12/bb/7e7912e18cd558e7880d9b58ffc57300b2c28ffba9882b3a54ba5ce3ebc4/s3transfer-0.10.0-py3-none-any.whl.metadata\n",
      "  Downloading s3transfer-0.10.0-py3-none-any.whl.metadata (1.7 kB)\n",
      "Requirement already satisfied: zipp>=0.5 in /Users/username/anaconda3/envs/recoenv/lib/python3.11/site-packages (from importlib-metadata<7.0,>=1.4.0->sagemaker) (3.11.0)\n",
      "Requirement already satisfied: charset-normalizer<4,>=2 in /Users/username/anaconda3/envs/recoenv/lib/python3.11/site-packages (from requests->sagemaker) (2.0.4)\n",
      "Requirement already satisfied: idna<4,>=2.5 in /Users/username/anaconda3/envs/recoenv/lib/python3.11/site-packages (from requests->sagemaker) (3.4)\n",
      "Requirement already satisfied: certifi>=2017.4.17 in /Users/username/anaconda3/envs/recoenv/lib/python3.11/site-packages (from requests->sagemaker) (2023.7.22)\n",
      "Requirement already satisfied: six in /Users/username/anaconda3/envs/recoenv/lib/python3.11/site-packages (from google-pasta->sagemaker) (1.16.0)\n",
      "Requirement already satisfied: pyrsistent!=0.17.0,!=0.17.1,!=0.17.2,>=0.14.0 in /Users/username/anaconda3/envs/recoenv/lib/python3.11/site-packages (from jsonschema->sagemaker) (0.18.0)\n",
      "Requirement already satisfied: python-dateutil>=2.8.2 in /Users/username/anaconda3/envs/recoenv/lib/python3.11/site-packages (from pandas->sagemaker) (2.8.2)\n",
      "Requirement already satisfied: pytz>=2020.1 in /Users/username/anaconda3/envs/recoenv/lib/python3.11/site-packages (from pandas->sagemaker) (2022.7)\n",
      "Requirement already satisfied: tzdata>=2022.1 in /Users/username/anaconda3/envs/recoenv/lib/python3.11/site-packages (from pandas->sagemaker) (2023.3)\n",
      "Requirement already satisfied: ppft>=1.7.6.7 in /Users/username/anaconda3/envs/recoenv/lib/python3.11/site-packages (from pathos->sagemaker) (1.7.6.7)\n",
      "Requirement already satisfied: dill>=0.3.7 in /Users/username/anaconda3/envs/recoenv/lib/python3.11/site-packages (from pathos->sagemaker) (0.3.7)\n",
      "Requirement already satisfied: pox>=0.3.3 in /Users/username/anaconda3/envs/recoenv/lib/python3.11/site-packages (from pathos->sagemaker) (0.3.3)\n",
      "Requirement already satisfied: multiprocess>=0.70.15 in /Users/username/anaconda3/envs/recoenv/lib/python3.11/site-packages (from pathos->sagemaker) (0.70.15)\n",
      "Requirement already satisfied: contextlib2>=0.5.5 in /Users/username/anaconda3/envs/recoenv/lib/python3.11/site-packages (from schema->sagemaker) (21.6.0)\n",
      "Requirement already satisfied: typing-extensions>=4.2.0 in /Users/username/anaconda3/envs/recoenv/lib/python3.11/site-packages (from pydantic!=1.7,!=1.7.1,!=1.7.2,!=1.7.3,!=1.8,!=1.8.1,<2.0.0,>=1.6.2->fastapi==0.95.2->sagemaker) (4.7.1)\n",
      "Requirement already satisfied: anyio<5,>=3.4.0 in /Users/username/anaconda3/envs/recoenv/lib/python3.11/site-packages (from starlette<0.28.0,>=0.27.0->fastapi==0.95.2->sagemaker) (3.5.0)\n",
      "Requirement already satisfied: sniffio>=1.1 in /Users/username/anaconda3/envs/recoenv/lib/python3.11/site-packages (from anyio<5,>=3.4.0->starlette<0.28.0,>=0.27.0->fastapi==0.95.2->sagemaker) (1.2.0)\n",
      "Downloading sagemaker-2.203.1-py3-none-any.whl (1.4 MB)\n",
      "\u001b[2K   \u001b[90m━━━━━━━━━━━━━━━━━━━━━━━━━━━━━━━━━━━━━━━━\u001b[0m \u001b[32m1.4/1.4 MB\u001b[0m \u001b[31m8.2 MB/s\u001b[0m eta \u001b[36m0:00:00\u001b[0ma \u001b[36m0:00:01\u001b[0m\n",
      "\u001b[?25hDownloading fastapi-0.95.2-py3-none-any.whl (56 kB)\n",
      "\u001b[2K   \u001b[90m━━━━━━━━━━━━━━━━━━━━━━━━━━━━━━━━━━━━━━━━\u001b[0m \u001b[32m57.0/57.0 kB\u001b[0m \u001b[31m5.1 MB/s\u001b[0m eta \u001b[36m0:00:00\u001b[0m\n",
      "\u001b[?25hDownloading boto3-1.34.15-py3-none-any.whl (139 kB)\n",
      "\u001b[2K   \u001b[90m━━━━━━━━━━━━━━━━━━━━━━━━━━━━━━━━━━━━━━━━\u001b[0m \u001b[32m139.3/139.3 kB\u001b[0m \u001b[31m16.4 MB/s\u001b[0m eta \u001b[36m0:00:00\u001b[0m\n",
      "\u001b[?25hDownloading docker-7.0.0-py3-none-any.whl (147 kB)\n",
      "\u001b[2K   \u001b[90m━━━━━━━━━━━━━━━━━━━━━━━━━━━━━━━━━━━━━━━━\u001b[0m \u001b[32m147.6/147.6 kB\u001b[0m \u001b[31m16.2 MB/s\u001b[0m eta \u001b[36m0:00:00\u001b[0m\n",
      "\u001b[?25hDownloading botocore-1.34.15-py3-none-any.whl (11.9 MB)\n",
      "\u001b[2K   \u001b[90m━━━━━━━━━━━━━━━━━━━━━━━━━━━━━━━━━━━━━━━━\u001b[0m \u001b[32m11.9/11.9 MB\u001b[0m \u001b[31m16.8 MB/s\u001b[0m eta \u001b[36m0:00:00\u001b[0m00:01\u001b[0m00:01\u001b[0m\n",
      "\u001b[?25hDownloading pydantic-1.10.13-cp311-cp311-macosx_11_0_arm64.whl (2.5 MB)\n",
      "\u001b[2K   \u001b[90m━━━━━━━━━━━━━━━━━━━━━━━━━━━━━━━━━━━━━━━━\u001b[0m \u001b[32m2.5/2.5 MB\u001b[0m \u001b[31m18.6 MB/s\u001b[0m eta \u001b[36m0:00:00\u001b[0ma \u001b[36m0:00:01\u001b[0m\n",
      "\u001b[?25hDownloading s3transfer-0.10.0-py3-none-any.whl (82 kB)\n",
      "\u001b[2K   \u001b[90m━━━━━━━━━━━━━━━━━━━━━━━━━━━━━━━━━━━━━━━━\u001b[0m \u001b[32m82.1/82.1 kB\u001b[0m \u001b[31m9.4 MB/s\u001b[0m eta \u001b[36m0:00:00\u001b[0m\n",
      "\u001b[?25hDownloading starlette-0.27.0-py3-none-any.whl (66 kB)\n",
      "\u001b[2K   \u001b[90m━━━━━━━━━━━━━━━━━━━━━━━━━━━━━━━━━━━━━━━━\u001b[0m \u001b[32m67.0/67.0 kB\u001b[0m \u001b[31m9.8 MB/s\u001b[0m eta \u001b[36m0:00:00\u001b[0m\n",
      "\u001b[?25hInstalling collected packages: pydantic, h11, uvicorn, starlette, docker, botocore, s3transfer, fastapi, boto3, sagemaker\n",
      "  Attempting uninstall: pydantic\n",
      "    Found existing installation: pydantic 2.3.0\n",
      "    Uninstalling pydantic-2.3.0:\n",
      "      Successfully uninstalled pydantic-2.3.0\n",
      "  Attempting uninstall: botocore\n",
      "    Found existing installation: botocore 1.31.85\n",
      "    Uninstalling botocore-1.31.85:\n",
      "      Successfully uninstalled botocore-1.31.85\n",
      "  Attempting uninstall: s3transfer\n",
      "    Found existing installation: s3transfer 0.7.0\n",
      "    Uninstalling s3transfer-0.7.0:\n",
      "      Successfully uninstalled s3transfer-0.7.0\n",
      "  Attempting uninstall: boto3\n",
      "    Found existing installation: boto3 1.28.73\n",
      "    Uninstalling boto3-1.28.73:\n",
      "      Successfully uninstalled boto3-1.28.73\n",
      "  Attempting uninstall: sagemaker\n",
      "    Found existing installation: sagemaker 2.196.0\n",
      "    Uninstalling sagemaker-2.196.0:\n",
      "      Successfully uninstalled sagemaker-2.196.0\n",
      "\u001b[31mERROR: pip's dependency resolver does not currently take into account all the packages that are installed. This behaviour is the source of the following dependency conflicts.\n",
      "aiobotocore 2.7.0 requires botocore<1.31.65,>=1.31.16, but you have botocore 1.34.15 which is incompatible.\n",
      "awscli 1.29.73 requires botocore==1.31.73, but you have botocore 1.34.15 which is incompatible.\n",
      "awscli 1.29.73 requires s3transfer<0.8.0,>=0.7.0, but you have s3transfer 0.10.0 which is incompatible.\u001b[0m\u001b[31m\n",
      "\u001b[0mSuccessfully installed boto3-1.34.15 botocore-1.34.15 docker-7.0.0 fastapi-0.95.2 h11-0.14.0 pydantic-1.10.13 s3transfer-0.10.0 sagemaker-2.203.1 starlette-0.27.0 uvicorn-0.22.0\n"
     ]
    }
   ],
   "source": [
    "!pip install -U sagemaker"
   ]
  },
  {
   "cell_type": "code",
   "execution_count": 3,
   "id": "6bc88dca-e8e2-47f6-a230-14413ec718c5",
   "metadata": {
    "tags": []
   },
   "outputs": [],
   "source": [
    "# import boto3\n",
    "# import sagemaker\n",
    "# from sagemaker import Model, image_uris, serializers, deserializers\n",
    "\n",
    "# role = sagemaker.get_execution_role()  # execution role for the endpoint\n",
    "# sess = sagemaker.session.Session()  # sagemaker session for interacting with different AWS APIs\n",
    "# region = sess._region_name  # region name of the current SageMaker Studio environment\n",
    "# account_id = sess.account_id()  # account_id of the current SageMaker Studio environment"
   ]
  },
  {
   "cell_type": "code",
   "execution_count": 1,
   "id": "8b1d6e07-1558-430a-a05f-2daa42f8f868",
   "metadata": {
    "tags": []
   },
   "outputs": [
    {
     "name": "stdout",
     "output_type": "stream",
     "text": [
      "sagemaker.config INFO - Not applying SDK defaults from location: /Library/Application Support/sagemaker/config.yaml\n",
      "sagemaker.config INFO - Not applying SDK defaults from location: /Users/username/Library/Application Support/sagemaker/config.yaml\n"
     ]
    },
    {
     "name": "stderr",
     "output_type": "stream",
     "text": [
      "Couldn't call 'get_role' to get Role ARN from role name username to get Role path.\n"
     ]
    },
    {
     "name": "stdout",
     "output_type": "stream",
     "text": [
      "sagemaker role arn: arn:aws:iam::005418323977:role/service-role/AmazonSageMaker-ExecutionRole-20231030T210397\n",
      "sagemaker bucket: sagemaker-ap-south-1-005418323977\n",
      "sagemaker session region: ap-south-1\n"
     ]
    }
   ],
   "source": [
    "import sagemaker\n",
    "import boto3\n",
    "sess = sagemaker.Session()\n",
    "sagemaker_session_bucket=None\n",
    "if sagemaker_session_bucket is None and sess is not None:\n",
    "    sagemaker_session_bucket = sess.default_bucket()\n",
    "try:\n",
    "    role = sagemaker.get_execution_role()\n",
    "except ValueError:\n",
    "    iam = boto3.client('iam')\n",
    "    role = iam.get_role(RoleName='AmazonSageMaker-ExecutionRole-20231030T210397')['Role']['Arn']\n",
    "sess = sagemaker.Session(default_bucket=sagemaker_session_bucket)\n",
    "print(f\"sagemaker role arn: {role}\")\n",
    "print(f\"sagemaker bucket: {sess.default_bucket()}\")\n",
    "print(f\"sagemaker session region: {sess.boto_region_name}\")"
   ]
  },
  {
   "cell_type": "code",
   "execution_count": 10,
   "id": "6e4f70b1-89b8-4353-9309-3eb246d8e54e",
   "metadata": {
    "tags": []
   },
   "outputs": [
    {
     "name": "stdout",
     "output_type": "stream",
     "text": [
      "Writing serving.properties\n"
     ]
    }
   ],
   "source": [
    "%%writefile serving.properties\n",
    "engine=Python\n",
    "option.model_id=teknium/OpenHermes-2.5-Mistral-7B\n",
    "option.task=text-generation\n",
    "option.trust_remote_code=true\n",
    "option.tensor_parallel_degree=1\n",
    "option.rolling_batch=vllm\n",
    "option.dtype=fp16"
   ]
  },
  {
   "cell_type": "code",
   "execution_count": 11,
   "id": "da01798d-9c0e-4341-86f1-a6023389c3fe",
   "metadata": {
    "tags": []
   },
   "outputs": [
    {
     "name": "stderr",
     "output_type": "stream",
     "text": [
      "a mymodel\n",
      "a mymodel/serving.properties\n"
     ]
    }
   ],
   "source": [
    "%%sh\n",
    "mkdir mymodel\n",
    "mv serving.properties mymodel/\n",
    "tar czvf mymodel.tar.gz mymodel/\n",
    "rm -rf mymodel"
   ]
  },
  {
   "cell_type": "code",
   "execution_count": 12,
   "id": "da157e4c-1569-4cfe-8f06-45630ff08276",
   "metadata": {
    "tags": []
   },
   "outputs": [],
   "source": [
    "from sagemaker import Model, image_uris, serializers, deserializers"
   ]
  },
  {
   "cell_type": "code",
   "execution_count": 13,
   "id": "61af3e6d-1c6a-4a45-8f50-a07a8e2b0451",
   "metadata": {
    "tags": []
   },
   "outputs": [],
   "source": [
    "image_uri = image_uris.retrieve(\n",
    "        framework=\"djl-deepspeed\",\n",
    "        region=sess.boto_session.region_name,\n",
    "        version=\"0.25.0\"\n",
    "    )"
   ]
  },
  {
   "cell_type": "code",
   "execution_count": 14,
   "id": "86f832fa-d8f9-4963-a0a7-e413039f7a97",
   "metadata": {
    "tags": []
   },
   "outputs": [
    {
     "name": "stdout",
     "output_type": "stream",
     "text": [
      "S3 Code or Model tar ball uploaded to --- &gt; s3://sagemaker-ap-south-1-005418323977/large-model-lmi/code/mymodel.tar.gz\n"
     ]
    }
   ],
   "source": [
    "s3_code_prefix = \"large-model-lmi/code\"\n",
    "bucket = sess.default_bucket()  # bucket to house artifacts\n",
    "code_artifact = sess.upload_data(\"mymodel.tar.gz\", bucket, s3_code_prefix)\n",
    "print(f\"S3 Code or Model tar ball uploaded to --- &gt; {code_artifact}\")"
   ]
  },
  {
   "cell_type": "code",
   "execution_count": 15,
   "id": "9cc06f95-d4df-40ad-89aa-ee87828c9c4b",
   "metadata": {
    "tags": []
   },
   "outputs": [],
   "source": [
    "model = Model(image_uri=image_uri, model_data=code_artifact, role=role)"
   ]
  },
  {
   "cell_type": "code",
   "execution_count": 16,
   "id": "c4d784ed-626f-4f49-a5db-c44d3cd33233",
   "metadata": {
    "tags": []
   },
   "outputs": [],
   "source": [
    "instance_type = \"ml.g5.2xlarge\"\n",
    "endpoint_name = sagemaker.utils.name_from_base(\"lmi-model\")"
   ]
  },
  {
   "cell_type": "code",
   "execution_count": 17,
   "id": "297b8617-8b28-4eeb-a000-e6c6b3758665",
   "metadata": {
    "tags": []
   },
   "outputs": [
    {
     "data": {
      "text/plain": [
       "'lmi-model-2024-01-10-08-57-31-997'"
      ]
     },
     "execution_count": 17,
     "metadata": {},
     "output_type": "execute_result"
    }
   ],
   "source": [
    "endpoint_name"
   ]
  },
  {
   "cell_type": "code",
   "execution_count": 18,
   "id": "3b09b9bc-e7a7-4b2a-96f3-813637cdc8de",
   "metadata": {
    "scrolled": true,
    "tags": []
   },
   "outputs": [
    {
     "name": "stdout",
     "output_type": "stream",
     "text": [
      "-----------!"
     ]
    }
   ],
   "source": [
    "model.deploy(initial_instance_count=1,\n",
    "             instance_type=instance_type,\n",
    "             endpoint_name=endpoint_name,\n",
    "             container_startup_health_check_timeout=1800\n",
    "            )"
   ]
  },
  {
   "cell_type": "code",
   "execution_count": 19,
   "id": "10b71586-f759-4d52-afe0-9bee0c74e411",
   "metadata": {
    "tags": []
   },
   "outputs": [],
   "source": [
    "# our requests and responses will be in json format so we specify the serializer and the deserializer\n",
    "predictor = sagemaker.Predictor(\n",
    "    endpoint_name=endpoint_name,\n",
    "    sagemaker_session=sess,\n",
    "    serializer=serializers.JSONSerializer(),\n",
    ")"
   ]
  },
  {
   "cell_type": "code",
   "execution_count": 21,
   "id": "de09fa06-cdc1-4308-86c6-bac54120b363",
   "metadata": {
    "tags": []
   },
   "outputs": [],
   "source": [
    "import time"
   ]
  },
  {
   "cell_type": "code",
   "execution_count": 22,
   "id": "4c879772-c517-4abd-bda6-dd25a45303cc",
   "metadata": {
    "tags": []
   },
   "outputs": [
    {
     "name": "stdout",
     "output_type": "stream",
     "text": [
      "done in 4.874484062194824\n"
     ]
    }
   ],
   "source": [
    "s = time.time()\n",
    "predictor.predict(\n",
    "    {\"inputs\": \"tell me a story of the little red riding hood\", \"parameters\": {\"max_tokens\":128}}\n",
    ")\n",
    "print(f'done in {time.time() - s}')"
   ]
  },
  {
   "cell_type": "code",
   "execution_count": 23,
   "id": "a7b7a8a0-046b-4353-bc73-d1c7b2d2d1a2",
   "metadata": {
    "tags": []
   },
   "outputs": [],
   "source": [
    "sess.delete_endpoint(endpoint_name)\n",
    "sess.delete_endpoint_config(endpoint_name)\n",
    "model.delete_model()"
   ]
  },
  {
   "cell_type": "code",
   "execution_count": null,
   "id": "58822719-1f3b-43ea-9d9d-bb526071cc6e",
   "metadata": {},
   "outputs": [],
   "source": []
  }
 ],
 "metadata": {
  "kernelspec": {
   "display_name": "recoenv",
   "language": "python",
   "name": "recoenv"
  },
  "language_info": {
   "codemirror_mode": {
    "name": "ipython",
    "version": 3
   },
   "file_extension": ".py",
   "mimetype": "text/x-python",
   "name": "python",
   "nbconvert_exporter": "python",
   "pygments_lexer": "ipython3",
   "version": "3.11.5"
  }
 },
 "nbformat": 4,
 "nbformat_minor": 5
}
