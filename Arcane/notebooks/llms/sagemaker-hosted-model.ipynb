{
 "cells": [
  {
   "cell_type": "code",
   "execution_count": 4,
   "id": "e66e7c14-0b20-473c-835e-a5a1190e2e14",
   "metadata": {
    "scrolled": true,
    "tags": []
   },
   "outputs": [
    {
     "name": "stdout",
     "output_type": "stream",
     "text": [
      "Collecting sagemaker\n",
      "  Downloading sagemaker-2.198.0.tar.gz (919 kB)\n",
      "\u001b[2K     \u001b[90m━━━━━━━━━━━━━━━━━━━━━━━━━━━━━━━━━━━━━━━\u001b[0m \u001b[32m919.4/919.4 kB\u001b[0m \u001b[31m2.3 MB/s\u001b[0m eta \u001b[36m0:00:00\u001b[0ma \u001b[36m0:00:01\u001b[0m\n",
      "\u001b[?25h  Preparing metadata (setup.py) ... \u001b[?25ldone\n",
      "\u001b[?25hCollecting attrs<24,>=23.1.0 (from sagemaker)\n",
      "  Using cached attrs-23.1.0-py3-none-any.whl (61 kB)\n",
      "Requirement already satisfied: boto3<2.0,>=1.29.6 in /Users/ravi.tej/anaconda3/envs/llms/lib/python3.11/site-packages (from sagemaker) (1.33.0)\n",
      "Collecting cloudpickle==2.2.1 (from sagemaker)\n",
      "  Using cached cloudpickle-2.2.1-py3-none-any.whl (25 kB)\n",
      "Collecting google-pasta (from sagemaker)\n",
      "  Using cached google_pasta-0.2.0-py3-none-any.whl (57 kB)\n",
      "Requirement already satisfied: numpy<2.0,>=1.9.0 in /Users/ravi.tej/anaconda3/envs/llms/lib/python3.11/site-packages (from sagemaker) (1.26.0)\n",
      "Collecting protobuf<5.0,>=3.12 (from sagemaker)\n",
      "  Obtaining dependency information for protobuf<5.0,>=3.12 from https://files.pythonhosted.org/packages/e6/db/7b2edc72807d45d72f9db42f3eb86ddaf37f9e55d923159b1dbfc9d835bc/protobuf-4.25.1-cp37-abi3-macosx_10_9_universal2.whl.metadata\n",
      "  Downloading protobuf-4.25.1-cp37-abi3-macosx_10_9_universal2.whl.metadata (541 bytes)\n",
      "Collecting smdebug_rulesconfig==1.0.1 (from sagemaker)\n",
      "  Using cached smdebug_rulesconfig-1.0.1-py2.py3-none-any.whl (20 kB)\n",
      "Collecting importlib-metadata<7.0,>=1.4.0 (from sagemaker)\n",
      "  Obtaining dependency information for importlib-metadata<7.0,>=1.4.0 from https://files.pythonhosted.org/packages/cc/37/db7ba97e676af155f5fcb1a35466f446eadc9104e25b83366e8088c9c926/importlib_metadata-6.8.0-py3-none-any.whl.metadata\n",
      "  Downloading importlib_metadata-6.8.0-py3-none-any.whl.metadata (5.1 kB)\n",
      "Requirement already satisfied: packaging>=20.0 in /Users/ravi.tej/anaconda3/envs/llms/lib/python3.11/site-packages (from sagemaker) (23.1)\n",
      "Requirement already satisfied: pandas in /Users/ravi.tej/anaconda3/envs/llms/lib/python3.11/site-packages (from sagemaker) (2.1.0)\n",
      "Collecting pathos (from sagemaker)\n",
      "  Obtaining dependency information for pathos from https://files.pythonhosted.org/packages/d8/08/ac94fa6f9eefe32963b8a54e573dab0dbc0d3df24fd34924bd9ce7eab7c4/pathos-0.3.1-py3-none-any.whl.metadata\n",
      "  Using cached pathos-0.3.1-py3-none-any.whl.metadata (11 kB)\n",
      "Collecting schema (from sagemaker)\n",
      "  Using cached schema-0.7.5-py2.py3-none-any.whl (17 kB)\n",
      "Requirement already satisfied: PyYAML~=6.0 in /Users/ravi.tej/anaconda3/envs/llms/lib/python3.11/site-packages (from sagemaker) (6.0)\n",
      "Requirement already satisfied: jsonschema in /Users/ravi.tej/anaconda3/envs/llms/lib/python3.11/site-packages (from sagemaker) (4.17.3)\n",
      "Requirement already satisfied: platformdirs in /Users/ravi.tej/anaconda3/envs/llms/lib/python3.11/site-packages (from sagemaker) (3.10.0)\n",
      "Collecting tblib==1.7.0 (from sagemaker)\n",
      "  Using cached tblib-1.7.0-py2.py3-none-any.whl (12 kB)\n",
      "Requirement already satisfied: botocore<1.34.0,>=1.33.0 in /Users/ravi.tej/anaconda3/envs/llms/lib/python3.11/site-packages (from boto3<2.0,>=1.29.6->sagemaker) (1.33.0)\n",
      "Requirement already satisfied: jmespath<2.0.0,>=0.7.1 in /Users/ravi.tej/anaconda3/envs/llms/lib/python3.11/site-packages (from boto3<2.0,>=1.29.6->sagemaker) (1.0.1)\n",
      "Requirement already satisfied: s3transfer<0.9.0,>=0.8.0 in /Users/ravi.tej/anaconda3/envs/llms/lib/python3.11/site-packages (from boto3<2.0,>=1.29.6->sagemaker) (0.8.0)\n",
      "Collecting zipp>=0.5 (from importlib-metadata<7.0,>=1.4.0->sagemaker)\n",
      "  Obtaining dependency information for zipp>=0.5 from https://files.pythonhosted.org/packages/d9/66/48866fc6b158c81cc2bfecc04c480f105c6040e8b077bc54c634b4a67926/zipp-3.17.0-py3-none-any.whl.metadata\n",
      "  Downloading zipp-3.17.0-py3-none-any.whl.metadata (3.7 kB)\n",
      "Requirement already satisfied: six in /Users/ravi.tej/anaconda3/envs/llms/lib/python3.11/site-packages (from google-pasta->sagemaker) (1.16.0)\n",
      "Requirement already satisfied: pyrsistent!=0.17.0,!=0.17.1,!=0.17.2,>=0.14.0 in /Users/ravi.tej/anaconda3/envs/llms/lib/python3.11/site-packages (from jsonschema->sagemaker) (0.18.0)\n",
      "Requirement already satisfied: python-dateutil>=2.8.2 in /Users/ravi.tej/anaconda3/envs/llms/lib/python3.11/site-packages (from pandas->sagemaker) (2.8.2)\n",
      "Requirement already satisfied: pytz>=2020.1 in /Users/ravi.tej/anaconda3/envs/llms/lib/python3.11/site-packages (from pandas->sagemaker) (2023.3.post1)\n",
      "Requirement already satisfied: tzdata>=2022.1 in /Users/ravi.tej/anaconda3/envs/llms/lib/python3.11/site-packages (from pandas->sagemaker) (2023.3)\n",
      "Collecting ppft>=1.7.6.7 (from pathos->sagemaker)\n",
      "  Obtaining dependency information for ppft>=1.7.6.7 from https://files.pythonhosted.org/packages/f0/f8/0a493dfdf73edbfe58cae1323aec72d0152f463c7a351bd285e9d500985c/ppft-1.7.6.7-py3-none-any.whl.metadata\n",
      "  Using cached ppft-1.7.6.7-py3-none-any.whl.metadata (12 kB)\n",
      "Requirement already satisfied: dill>=0.3.7 in /Users/ravi.tej/anaconda3/envs/llms/lib/python3.11/site-packages (from pathos->sagemaker) (0.3.7)\n",
      "Collecting pox>=0.3.3 (from pathos->sagemaker)\n",
      "  Obtaining dependency information for pox>=0.3.3 from https://files.pythonhosted.org/packages/17/c7/ef7e37e5a895f5de068b408a52bee0710b1092574b6b4ab247a767e9fbd5/pox-0.3.3-py3-none-any.whl.metadata\n",
      "  Using cached pox-0.3.3-py3-none-any.whl.metadata (8.0 kB)\n",
      "Requirement already satisfied: multiprocess>=0.70.15 in /Users/ravi.tej/anaconda3/envs/llms/lib/python3.11/site-packages (from pathos->sagemaker) (0.70.15)\n",
      "Collecting contextlib2>=0.5.5 (from schema->sagemaker)\n",
      "  Using cached contextlib2-21.6.0-py2.py3-none-any.whl (13 kB)\n",
      "Requirement already satisfied: urllib3<2.1,>=1.25.4 in /Users/ravi.tej/anaconda3/envs/llms/lib/python3.11/site-packages (from botocore<1.34.0,>=1.33.0->boto3<2.0,>=1.29.6->sagemaker) (1.26.16)\n",
      "Downloading importlib_metadata-6.8.0-py3-none-any.whl (22 kB)\n",
      "Downloading protobuf-4.25.1-cp37-abi3-macosx_10_9_universal2.whl (394 kB)\n",
      "\u001b[2K   \u001b[90m━━━━━━━━━━━━━━━━━━━━━━━━━━━━━━━━━━━━━━━━\u001b[0m \u001b[32m394.2/394.2 kB\u001b[0m \u001b[31m3.1 MB/s\u001b[0m eta \u001b[36m0:00:00\u001b[0m00:01\u001b[0m00:01\u001b[0m\n",
      "\u001b[?25hUsing cached pathos-0.3.1-py3-none-any.whl (82 kB)\n",
      "Using cached pox-0.3.3-py3-none-any.whl (29 kB)\n",
      "Using cached ppft-1.7.6.7-py3-none-any.whl (56 kB)\n",
      "Downloading zipp-3.17.0-py3-none-any.whl (7.4 kB)\n",
      "Building wheels for collected packages: sagemaker\n",
      "  Building wheel for sagemaker (setup.py) ... \u001b[?25ldone\n",
      "\u001b[?25h  Created wheel for sagemaker: filename=sagemaker-2.198.0-py2.py3-none-any.whl size=1225858 sha256=b0d075881d90938c5c9ff7873b3b329b51b7786a79ba56e245a269cef729cb93\n",
      "  Stored in directory: /Users/ravi.tej/Library/Caches/pip/wheels/04/11/49/908c01ee123ed813d4a5072b1648ad56f456ca9d462aca34cf\n",
      "Successfully built sagemaker\n",
      "Installing collected packages: zipp, tblib, smdebug_rulesconfig, protobuf, ppft, pox, google-pasta, contextlib2, cloudpickle, attrs, schema, pathos, importlib-metadata, sagemaker\n",
      "  Attempting uninstall: attrs\n",
      "    Found existing installation: attrs 22.1.0\n",
      "    Uninstalling attrs-22.1.0:\n",
      "      Successfully uninstalled attrs-22.1.0\n",
      "Successfully installed attrs-23.1.0 cloudpickle-2.2.1 contextlib2-21.6.0 google-pasta-0.2.0 importlib-metadata-6.8.0 pathos-0.3.1 pox-0.3.3 ppft-1.7.6.7 protobuf-4.25.1 sagemaker-2.198.0 schema-0.7.5 smdebug_rulesconfig-1.0.1 tblib-1.7.0 zipp-3.17.0\n"
     ]
    }
   ],
   "source": [
    "!pip install sagemaker"
   ]
  },
  {
   "cell_type": "code",
   "execution_count": 85,
   "id": "1c38a36c-7e5e-429d-8df7-f8aeaae602c2",
   "metadata": {
    "tags": []
   },
   "outputs": [],
   "source": [
    "import boto3\n",
    "\n",
    "# Create an IAM client\n",
    "iam = boto3.client('iam')\n",
    "\n",
    "# List roles\n",
    "response = iam.list_roles()\n",
    "\n",
    "# If you want to filter for SageMaker roles, you can do it in Python\n",
    "sagemaker_roles = [role for role in response['Roles'] if 'SageMaker' in role['RoleName']]\n",
    "\n",
    "# `sagemaker_roles` now contains a list of SageMaker roles"
   ]
  },
  {
   "cell_type": "code",
   "execution_count": 2,
   "id": "ef45c735-47e9-4a91-bf1a-b8647484628e",
   "metadata": {
    "tags": []
   },
   "outputs": [
    {
     "data": {
      "text/plain": [
       "'AmazonSageMaker-ExecutionRole-20231030T210397'"
      ]
     },
     "execution_count": 2,
     "metadata": {},
     "output_type": "execute_result"
    }
   ],
   "source": [
    "sagemaker_roles[0]['RoleName']"
   ]
  },
  {
   "cell_type": "code",
   "execution_count": 3,
   "id": "c06ec71d-f4a4-4da7-8619-bd5ba4694334",
   "metadata": {
    "tags": []
   },
   "outputs": [
    {
     "name": "stdout",
     "output_type": "stream",
     "text": [
      "sagemaker.config INFO - Not applying SDK defaults from location: /Library/Application Support/sagemaker/config.yaml\n",
      "sagemaker.config INFO - Not applying SDK defaults from location: /Users/ravi.tej/Library/Application Support/sagemaker/config.yaml\n",
      "sagemaker.config INFO - Not applying SDK defaults from location: /Library/Application Support/sagemaker/config.yaml\n",
      "sagemaker.config INFO - Not applying SDK defaults from location: /Users/ravi.tej/Library/Application Support/sagemaker/config.yaml\n",
      "sagemaker.config INFO - Not applying SDK defaults from location: /Library/Application Support/sagemaker/config.yaml\n",
      "sagemaker.config INFO - Not applying SDK defaults from location: /Users/ravi.tej/Library/Application Support/sagemaker/config.yaml\n"
     ]
    },
    {
     "name": "stderr",
     "output_type": "stream",
     "text": [
      "Couldn't call 'get_role' to get Role ARN from role name ravi_tej to get Role path.\n"
     ]
    },
    {
     "name": "stdout",
     "output_type": "stream",
     "text": [
      "sagemaker.config INFO - Not applying SDK defaults from location: /Library/Application Support/sagemaker/config.yaml\n",
      "sagemaker.config INFO - Not applying SDK defaults from location: /Users/ravi.tej/Library/Application Support/sagemaker/config.yaml\n",
      "sagemaker role arn: arn:aws:iam::005418323977:role/service-role/AmazonSageMaker-ExecutionRole-20231030T210397\n",
      "sagemaker bucket: sagemaker-ap-south-1-005418323977\n",
      "sagemaker session region: ap-south-1\n"
     ]
    }
   ],
   "source": [
    "import sagemaker\n",
    "import boto3\n",
    "sess = sagemaker.Session()\n",
    "# sagemaker session bucket -> used for uploading data, models and logs\n",
    "# sagemaker will automatically create this bucket if it not exists\n",
    "sagemaker_session_bucket=None\n",
    "if sagemaker_session_bucket is None and sess is not None:\n",
    "    # set to default bucket if a bucket name is not given\n",
    "    sagemaker_session_bucket = sess.default_bucket()\n",
    "\n",
    "try:\n",
    "    role = sagemaker.get_execution_role()\n",
    "except ValueError:\n",
    "    iam = boto3.client('iam')\n",
    "    role = iam.get_role(RoleName='AmazonSageMaker-ExecutionRole-20231030T210397')['Role']['Arn']\n",
    "\n",
    "sess = sagemaker.Session(default_bucket=sagemaker_session_bucket)\n",
    "\n",
    "print(f\"sagemaker role arn: {role}\")\n",
    "print(f\"sagemaker bucket: {sess.default_bucket()}\")\n",
    "print(f\"sagemaker session region: {sess.boto_region_name}\")"
   ]
  },
  {
   "cell_type": "code",
   "execution_count": 4,
   "id": "e3056e3a-4788-4c83-b4d8-94a32767a9e3",
   "metadata": {
    "tags": []
   },
   "outputs": [],
   "source": [
    "import pandas as pd\n",
    "import numpy as np\n",
    "import json"
   ]
  },
  {
   "cell_type": "code",
   "execution_count": 5,
   "id": "31f41c0a-f6f6-480b-aa3f-b9bc914b9758",
   "metadata": {
    "tags": []
   },
   "outputs": [],
   "source": [
    "system_prompt =  '''\n",
    "You are the chief editor for a leading Indian financial and business news website. You evaluate critical attributes of articles to gate keep content quality. For many attributes, you will first provide a brief analysis of less than 30 words, followed by assessment.\n",
    "\n",
    "1. analysis_is_financial_or_business_news (short text) : <analyse if article pertains to finance/business or not. government policies directly impacting indian corporations or investors are ok, but not if aren't>\n",
    "2. is_financial_or_business_news (1/0) : <1 or 0 based on previous attribute>\n",
    "3. analysis_of_relevant_for_india (short text) : <analyse if article is relevant for indians. for example articles about 401k or small foreign companies won't be relevant for india. however changes to fed interest rates or nasdaq or large multinational important news will be relevant>\n",
    "4. relevant_for_india (1/0) : <1 or 0 based on previous attribute>\n",
    "5. analysis_of_article_validity_duration (short text) : <Analyse relevance duration: Stock fluctuations, 1 day; significant policy changes, weeks; educational content is timeless unless it refers to any tax or other regulations in which case only 30 days. International news in India has shorter lifespan. popular topics are usually not timeless; quarterly analysis is valid for a week, yearly for a couple of weeks and a much longer one for a month>\n",
    "6. article_validity_duration (one of 1, 3, 7, 14, 30, -1) : <calculate number of days based on previous attribute. -1: timeless. 1: article is relevant only for that day. 3: for a couple of days. 7: for a week. 14: for a couple of weeks. 30: for a month>\n",
    "7. analysis_of_popularity (short text) : <analyse likely popularity of article - if its for niche audience, moderate_popularity or should be part of breaking_news section, depending on number of people who will be impacted by the news and the scale of the event. foreign entities known in india but not very popular will be mostly niche or rarely moderately popular. articles targeted to very specific business or pratices will be niche. infotainment business and financial articles with some drama are likely to be more popular. articles with a list of rules without compelling story-telling will be for niche audience>\n",
    "8. popularity (one of niche, moderately_popular, breaking_news) : <based on previous attribute>\n",
    "9. analysis_of_article_type (short text) : <analyse if the article is majorly factual, is an opinion piece, analysis, educational or likely sponsored. factual articles relay events. opinion pieces have predictions either from the author or from statements without data. analysis pieces have substantial data to justify. if an article is overly zealous on certain stock and seems like an ad, then it is sponsored>\n",
    "10. article_type (one of fact, opinion, analysis, educational, sponsored) : <based on previous attribute>\n",
    "11. analysis_of_article_sentiment (short_text): <analyse if the sentiment of the article is bullish, bearish or NA. balanced is NA>\n",
    "12. article_sentiment (one of bull, bear, NA): <based on previous attribute>\n",
    "13. summary_list (text of 60 words) : <Generate increasingly concise, entity-dense summaries. Repeat the following steps 3 times. \n",
    "Step a. Identify 1-3 informative Entities (semicolon delimited) from the Article which are missing from the previously generated summary. \n",
    "Step b. Write a new, denser summary of identical length which covers every entity and detail from the previous summary plus the Missing Entities. \n",
    "\n",
    "A Missing Entity is: \n",
    "Relevant to the main story: Specific, descriptive yet concise (5 words or fewer); \n",
    "Novel: not in the previous summary; \n",
    "Faithful: present in the Article; \n",
    "\n",
    "Guidelines: Don't refer to the article in third person, but summarize the contents. The first summary should be long (4-5 sentences, ~60 words) yet highly non-specific. Subsequently rewrite the previous summary to improve flow and make space for additional entities. Make space with compression and removal of uninformative phrases like 'the article discusses'. The summaries should become highly dense but easily understood without the Article. Never drop entities from the previous summary. If space cannot be made, add fewer new entities. Remember, use the exact same number of words for each summary. generate a list of 3 dictionaries whose keys are 'missing_entities' and 'denser_summary'. and put the entire list in double quotes (\") for safe overall json decoding>\n",
    "14. headline_suggestion (short text) : <Write a headline based on the content of the article>\n",
    "\n",
    "your response should be a list of 2 json structures with all the 14 above keys without missing any key. It is very important that the response is directly readable with json.loads(). no preamble or postamble. respond in the exact following structure:\n",
    "{\"attributes\":\n",
    "{\n",
    "\"analysis_is_financial_or_business_news\": \"\",\n",
    "\"is_financial_or_business_news\": \"\",\n",
    "\"analysis_of_relevant_for_india\": \"\",\n",
    "\"relevant_for_india\": \"\",\n",
    "\"analysis_of_article_validity_duration\": \"\",\n",
    "\"article_validity_duration\": \"\",\n",
    "\"evaluation_of_article_validity_duration\": \"\",\n",
    "\"analysis_of_popularity\": \"\",\n",
    "\"popularity\": \"\",\n",
    "\"analysis_of_article_type\": \"\",\n",
    "\"article_type\": \"\",\n",
    "\"analysis_of_article_sentiment\": \"\",\n",
    "\"article_sentiment\": \"\",\n",
    "\"assessment_article_type\": \"\",\n",
    "\"headline_suggestion\": \"\"},\n",
    "\"summaries\": [{\"missing_entities\":\"\", \"denser_summary\": \"\"}, {\"missing_entities\":\"\", \"denser_summary\": \"\"}, {\"missing_entities\":\"\", \"denser_summary\": \"\"}]\n",
    "}\n",
    "\n",
    "|article|\n",
    "'''"
   ]
  },
  {
   "cell_type": "code",
   "execution_count": 235,
   "id": "09f9f55b-c609-4514-b718-a109a87b8577",
   "metadata": {
    "tags": []
   },
   "outputs": [],
   "source": [
    "old_system_prompt = '''\n",
    "You are the chief editor for a leading Indian financial and business news website. You evaluate critical attributes of articles to gate keep content quality. For many attributes, you will first provide a brief analysis of 15 to 30 words, followed by assessment.\n",
    "\n",
    "1. analysis_is_financial_or_business_news (short text) : <analyse if article pertains to finance/business or not. government policies directly impacting indian corporations or investors are ok, but not if aren't>\n",
    "2. is_financial_or_business_news (True or False) : <True or False based on previous attribute>\n",
    "3. analysis_of_relevant_for_india (short text) : <analyse if article is relevant for indians. for example articles about 401k or small foreign companies won't be relevant for india. however changes to fed interest rates or nasdaq or large multinational important news will be relevant>\n",
    "4. relevant_for_india (True or False) : <True or False based on previous attribute>\n",
    "5. analysis_of_article_validity_duration (short text) : <Analyse relevance duration: Stock fluctuations, 1 day; significant policy changes, weeks; educational content is timeless unless it refers to any tax or other regulations in which case only 30 days. International news in India has shorter lifespan. popular topics are usually not timeless; quarterly analysis is valid for a week, yearly for a couple of weeks and a much longer one for a month>\n",
    "6. article_validity_duration (one of 1, 3, 7, 14, 30, -1) : <calculate number of days based on previous attribute. -1: timeless. 1: article is relevant only for that day. 3: for a couple of days. 7: for a week. 14: for a couple of weeks. 30: for a month>\n",
    "7. analysis_of_popularity (short text) : <analyse likely popularity of article - if its for niche audience, moderate_popularity or should be part of breaking_news section, depending on number of people who will be impacted by the news and the scale of the event. foreign entities known in india but not very popular will be mostly niche or rarely moderately popular. articles targeted to very specific business or pratices will be niche. infotainment business and financial articles with some drama are likely to be more popular. articles with a list of rules without compelling story-telling will be for niche audience>\n",
    "8. popularity (one of niche, moderately_popular, breaking_news) : <based on previous attribute>\n",
    "9. analysis_of_article_type (short text) : <analyse if the article is majorly factual, is an opinion piece, analysis, educational or likely sponsored. factual articles relay events. opinion pieces have predictions either from the author or from statements without data. analysis pieces have substantial data to justify. if an article is overly zealous on certain stock and seems like an ad, then it is sponsored>\n",
    "10. article_type (one of fact, opinion, analysis, educational, sponsored) : <based on previous attribute>\n",
    "11. analysis_of_article_sentiment (short_text): <analyse if the sentiment of the article is bullish, bearish or NA. balanced is NA>\n",
    "12. article_sentiment (one of bull, bear, NA): <based on previous attribute>\n",
    "13. headline_suggestion (short text) : <Write a headline based on the content of the article>\n",
    "14. summary (text of 60 words) : <Generate concise, entity-dense summary. The summary should become highly dense but easily understood without the Article. Don't keep the summary too short, but limit it to no more than 60 words>\n",
    "\n",
    "your response should be a json structure with all the 14 above keys without missing any key. It is very important that the response is directly readable with json.loads(). no preamble or postamble. respond in the exact following structure:\n",
    "\n",
    "{\n",
    "\"analysis_is_financial_or_business_news\": \"\",\n",
    "\"is_financial_or_business_news\": \"\",\n",
    "\"analysis_of_relevant_for_india\": \"\",\n",
    "\"relevant_for_india\": \"\",\n",
    "\"analysis_of_article_validity_duration\": \"\",\n",
    "\"article_validity_duration\": \"\",\n",
    "\"analysis_of_popularity\": \"\",\n",
    "\"popularity\": \"\",\n",
    "\"analysis_of_article_type\": \"\",\n",
    "\"article_type\": \"\",\n",
    "\"analysis_of_article_sentiment\": \"\",\n",
    "\"article_sentiment\": \"\",\n",
    "\"headline_suggestion\": \"\",\n",
    "\"summary\": \"\"\n",
    "}\n",
    "\n",
    "|article|\n",
    "'''"
   ]
  },
  {
   "cell_type": "code",
   "execution_count": 324,
   "id": "87bff9fb-4623-44c9-b41c-8da7304496c4",
   "metadata": {
    "tags": []
   },
   "outputs": [],
   "source": [
    "new_system_prompt = '''\n",
    "You are the chief editor for a leading Indian financial and business news website. You evaluate critical attributes of articles to gate keep content quality. For many attributes, you will first provide a brief analysis of 15 to 30 words, followed by assessment.\n",
    "\n",
    "1. analysis_is_financial_or_business_news (short text) : <analyse if article pertains to finance/business or not. government policies directly impacting indian corporations or investors are ok, but not if aren't>\n",
    "2. is_financial_or_business_news (True or False) : <True or False based on previous attribute>\n",
    "3. analysis_of_relevant_for_india (short text) : <analyse if article is relevant for indians. for example articles about 401k or small foreign companies won't be relevant for india. however changes to fed interest rates or nasdaq or large multinational important news will be relevant>\n",
    "4. relevant_for_india (True or False) : <True or False based on previous attribute>\n",
    "5. analysis_of_article_validity_duration (short text) : <Analyse relevance duration: Stock fluctuations, 1 day; significant policy changes, weeks; educational content is timeless unless it refers to any tax or other regulations in which case only 30 days. International news in India has shorter lifespan. popular topics are usually not timeless; quarterly analysis is valid for a week, yearly for a couple of weeks and a much longer one for a month>\n",
    "6. article_validity_duration (one of 1, 3, 7, 14, 30, -1) : <calculate number of days based on previous attribute. -1: timeless. 1: article is relevant only for that day. 3: for a couple of days. 7: for a week. 14: for a couple of weeks. 30: for a month>\n",
    "7. analysis_of_popularity (short text) : <analyse likely popularity of article - if its for niche audience, moderate_popularity or should be part of breaking_news section, depending on number of people who will be impacted by the news and the scale of the event. foreign entities known in india but not very popular will be mostly niche or rarely moderately popular. articles targeted to very specific business or pratices will be niche. infotainment business and financial articles with some drama are likely to be more popular. articles with a list of rules without compelling story-telling will be for niche audience>\n",
    "8. popularity (one of niche, moderately_popular, breaking_news) : <based on previous attribute>\n",
    "9. analysis_of_article_type (short text) : <analyse if the article is majorly factual, is an opinion piece, analysis, educational or likely sponsored. factual articles relay events. opinion pieces have predictions either from the author or from statements without data. analysis pieces have substantial data to justify. if an article is overly zealous on certain stock and seems like an ad, then it is sponsored>\n",
    "10. article_type (one of fact, opinion, analysis, educational, sponsored) : <based on previous attribute>\n",
    "11. analysis_of_article_sentiment (short_text): <analyse if the sentiment of the article is bullish, bearish or NA. balanced is NA>\n",
    "12. article_sentiment (one of bull, bear, NA): <based on previous attribute>\n",
    "13. headline_suggestion (short text) : <Write a headline based on the content of the article>\n",
    "14. summary (text of 60 words) : <Generate concise, entity-dense summary. The summary should become highly dense but easily understood without the Article. Don't keep the summary too short, but limit it to no more than 60 words>\n",
    "\n",
    "your response should be a json structure with all the 14 above keys without missing any key. It is very important that the response is directly readable with json.loads(). no preamble or postamble. respond in the exact following structure:\n",
    "\n",
    "{\n",
    "\"analysis_is_financial_or_business_news\": \"\",\n",
    "\"is_financial_or_business_news\": \"\",\n",
    "\"analysis_of_relevant_for_india\": \"\",\n",
    "\"relevant_for_india\": \"\",\n",
    "\"analysis_of_article_validity_duration\": \"\",\n",
    "\"article_validity_duration\": \"\",\n",
    "\"analysis_of_popularity\": \"\",\n",
    "\"popularity\": \"\",\n",
    "\"analysis_of_article_type\": \"\",\n",
    "\"article_type\": \"\",\n",
    "\"analysis_of_article_sentiment\": \"\",\n",
    "\"article_sentiment\": \"\",\n",
    "\"headline_suggestion\": \"\",\n",
    "\"summary\": \"\"\n",
    "}\n",
    "'''"
   ]
  },
  {
   "cell_type": "code",
   "execution_count": 233,
   "id": "52d4a6dd-9827-4d58-b73a-4398345700db",
   "metadata": {
    "tags": []
   },
   "outputs": [],
   "source": [
    "old_endpoint_name = 'huggingface-pytorch-tgi-inference-2023-11-29-10-43-04-737'"
   ]
  },
  {
   "cell_type": "code",
   "execution_count": 234,
   "id": "9cd7e71a-d030-4601-b15a-42a47dd380f0",
   "metadata": {
    "tags": []
   },
   "outputs": [],
   "source": [
    "endpoint_name = 'huggingface-pytorch-tgi-inference-2023-12-01-00-40-05-774'"
   ]
  },
  {
   "cell_type": "code",
   "execution_count": 323,
   "id": "64381553-aa49-44be-b67c-d1114e3ff832",
   "metadata": {
    "tags": []
   },
   "outputs": [],
   "source": [
    "endpoint_name = 'open-hermes-25-KindleBrothWayfarer'"
   ]
  },
  {
   "cell_type": "code",
   "execution_count": 336,
   "id": "3aed54bc-9a98-46d7-93e1-ea98e99de80b",
   "metadata": {
    "tags": []
   },
   "outputs": [],
   "source": [
    "def format_article_for_prompt(article_text):\n",
    "    instruction = f\"<|im_start|>system\\n{new_system_prompt}<|im_end|>\\n\"\n",
    "    # not adding context as instruction ends with |actual_article|\n",
    "    truncated_content = truncate_text_to_token_limit(text=article_text, encoder=tokenizer, token_limit=ARTICLE_TOKEN_LIMIT)\n",
    "    context = f\"### <|im_start|>user\\n{truncated_content}|im_end|>\\n\"\n",
    "    response = f\"### <|im_start|>assistant\\n\"\n",
    "    prompt = \"\\n\\n\".join([i for i in [instruction, context, response] if i is not None])\n",
    "    prompt = re.sub(r'\\n+','\\n',prompt)\n",
    "    return prompt"
   ]
  },
  {
   "cell_type": "code",
   "execution_count": 326,
   "id": "082be6b7-60f5-4433-b18d-fdb73847d556",
   "metadata": {
    "tags": []
   },
   "outputs": [],
   "source": [
    "# def format_article_for_prompt(content):\n",
    "#     truncated_content = truncate_text_to_token_limit(text=content, encoder=tokenizer, token_limit=ARTICLE_TOKEN_LIMIT)\n",
    "#     messages = [{\"role\": \"system\", \"content\": new_system_prompt},\n",
    "#                 {\"role\": \"user\", \"content\": f\"|article_start|\\n {truncated_content}\\n|article_end|\\n\"}]\n",
    "#     context_prompt = tokenizer.decode(tokenizer.apply_chat_template(messages, add_generation_prompt=True))\n",
    "#     prompt = context_prompt\n",
    "#     prompt = re.sub(r'\\n+','\\n',prompt)\n",
    "#     return prompt"
   ]
  },
  {
   "cell_type": "code",
   "execution_count": 8,
   "id": "0d74a5c2-d571-4bc8-b45f-b46547984308",
   "metadata": {
    "tags": []
   },
   "outputs": [
    {
     "name": "stderr",
     "output_type": "stream",
     "text": [
      "/Users/ravi.tej/anaconda3/envs/recoenv/lib/python3.11/site-packages/umap/distances.py:1063: NumbaDeprecationWarning: \u001b[1mThe 'nopython' keyword argument was not supplied to the 'numba.jit' decorator. The implicit default value for this argument is currently False, but it will be changed to True in Numba 0.59.0. See https://numba.readthedocs.io/en/stable/reference/deprecation.html#deprecation-of-object-mode-fall-back-behaviour-when-using-jit for details.\u001b[0m\n",
      "  @numba.jit()\n",
      "/Users/ravi.tej/anaconda3/envs/recoenv/lib/python3.11/site-packages/umap/distances.py:1071: NumbaDeprecationWarning: \u001b[1mThe 'nopython' keyword argument was not supplied to the 'numba.jit' decorator. The implicit default value for this argument is currently False, but it will be changed to True in Numba 0.59.0. See https://numba.readthedocs.io/en/stable/reference/deprecation.html#deprecation-of-object-mode-fall-back-behaviour-when-using-jit for details.\u001b[0m\n",
      "  @numba.jit()\n",
      "/Users/ravi.tej/anaconda3/envs/recoenv/lib/python3.11/site-packages/umap/distances.py:1086: NumbaDeprecationWarning: \u001b[1mThe 'nopython' keyword argument was not supplied to the 'numba.jit' decorator. The implicit default value for this argument is currently False, but it will be changed to True in Numba 0.59.0. See https://numba.readthedocs.io/en/stable/reference/deprecation.html#deprecation-of-object-mode-fall-back-behaviour-when-using-jit for details.\u001b[0m\n",
      "  @numba.jit()\n",
      "/Users/ravi.tej/anaconda3/envs/recoenv/lib/python3.11/site-packages/umap/umap_.py:660: NumbaDeprecationWarning: \u001b[1mThe 'nopython' keyword argument was not supplied to the 'numba.jit' decorator. The implicit default value for this argument is currently False, but it will be changed to True in Numba 0.59.0. See https://numba.readthedocs.io/en/stable/reference/deprecation.html#deprecation-of-object-mode-fall-back-behaviour-when-using-jit for details.\u001b[0m\n",
      "  @numba.jit()\n"
     ]
    }
   ],
   "source": [
    "parent_folder = '/Users/ravi.tej/Desktop/ML/Recommendations/arcane/'\n",
    "from hydra import compose, initialize\n",
    "import os\n",
    "\n",
    "import xml.etree.ElementTree as ET\n",
    "\n",
    "tree = ET.parse('../../conf/application.run.xml')\n",
    "root = tree.getroot()\n",
    "\n",
    "envs_element = root.find('./configuration/envs')\n",
    "for variable in envs_element.findall('env'):\n",
    "    name = variable.get('name')\n",
    "    value = variable.get('value')\n",
    "    os.environ[name] = value\n",
    "\n",
    "import sys\n",
    "sys.path.append('/Users/ravi.tej/Desktop/ML/Recommendations/arcane/')\n",
    "\n",
    "from src._utils import load_bertopic_model_from_hf"
   ]
  },
  {
   "cell_type": "code",
   "execution_count": 9,
   "id": "cf8f6120-b683-4bbb-b439-3f4554788f14",
   "metadata": {
    "tags": []
   },
   "outputs": [],
   "source": [
    "from src.articles.ArticleService import ArticleService"
   ]
  },
  {
   "cell_type": "code",
   "execution_count": 122,
   "id": "7f06b257-9c3c-4ba7-bd66-46cf54d8d4a8",
   "metadata": {
    "tags": []
   },
   "outputs": [],
   "source": [
    "art = ArticleService._get_article_json_from_s3_and_api('655acf674b13023f934af2ec')"
   ]
  },
  {
   "cell_type": "code",
   "execution_count": 123,
   "id": "b6dc0597-cccf-48ec-9af6-eeac9689c37c",
   "metadata": {
    "tags": []
   },
   "outputs": [],
   "source": [
    "full_content = art['title'] + art['cleaned_text']"
   ]
  },
  {
   "cell_type": "code",
   "execution_count": 124,
   "id": "cdfba9bd-2c69-4afe-adde-d3b182fb4a4b",
   "metadata": {
    "tags": []
   },
   "outputs": [
    {
     "data": {
      "text/plain": [
       "'BusinessWorld forum to focus on economic outlook, business opportunities - BusinessWorld OnlineTHE PHILIPPINE economy’s prospects as well as business opportunities and risks will be the focus of the BusinessWorld Forecast 2024 economic forum on Wednesday. The forum, which will be held at the Grand Hyatt Manila, will feature keynote presentations, panel discussions and fi reside chats on the theme “PH Rising: Keeping the Momentum.” Pavit Ramachandran, country director for the Philippines at the Asian Development Bank, will deliver a keynote speech on the Philippine economic outlook. Ndiamé Diop, country director for Brunei, Malaysia, Philippines and Thailand at the World Bank, will also give a keynote address about development imperatives in a post-pandemic world. In his keynote speech, Ragnar Gudmundsson, resident representative to the Philippines at the International Monetary Fund, will discuss Philippine fi nancial stability risks for 2024. A panel discussion on “Growing Prospects in Philippine Property” will feature Jon Canto, partner and managing partner of the Manila o ffi ce of McKinsey & Company; William Thomas F. Mirasol, president of Federal Land, Inc.; and Noli D. Hernandez, executive vice-president for sales and marketing at Megaworld Corp. For the panel on “Equipping Energy for Greater Demands,” speakers include Anthony Oundjian, managing director and senior partner for Manila at Boston Consulting Group; Emmanuel V. Rubio, president and chief executive officer (CEO) of Aboitiz Power Corp.; John Eric T. Francia, president and CEO of ACEN; and Jerome H. Cainglet, president and chief operations officer (COO) of Energy Development Corp. Panelists for “Points of Convergence: Meeting Consumers Where They Currently Are” include Yukiko Tsukamoto, partner at Bain & Company; Patricia Poco-Palacios, president and COO of Global Dominion Financing, Inc.; and Stella Christine D. Dizon, vice-president for Business-to-Business at Globe Telecom. The panel for “Next Generation Management: Young Drivers of Business” will feature Carlos Ramon C. Aboitiz, chief corporate services officer at Aboitiz Power Corp., Isabelle Gotianun Yap, executive director and vice-president of Eastwest Banking Corp., and Jericho P. Go, senior vice-president and business unit general manager of Robinsons Land Corp. There will also be one-on-one fi reside chats with leading experts. Ramon S. Monzon, president and CEO of the Philippine Stock Exchange, will speak on the market outlook for bonds and equities in 2024; while David R. Hardoon, CEO of Aboitiz Data Innovation, will speak about generative artificial intelligence and its capabilities. The upcoming BusinessWorld Forecast 2024 conference is presented by AboitizPower and Megaworld; with gold sponsors ACEN, Ayala Corp., First Gen Corp., GCash, Globe, National Grid Corp. of the Philippines, Prime Infra, and SM Investments Corp.; silver sponsors BDO, Federal Land NRE Global, Inc., Global Dominion Financing Inc., and SM Supermalls; bronze sponsors AppleOne Properties, Inc., Meralco, Robinsons Land Corp., SGV, Toyota Motor Philippines, and Villar City; partner organizations Asia Society of the Philippines, Bank Marketing Association of the Philippines,British Chamber of Commerce of the Philippines, French Chamber of Commerce and Industry of the Philippines, Fiera de Manila, Inc., J. Legaspi Computer Graphics, Management Association of the Philippines, Nordic Chamber of Commerce of the Philippines, Philippine Chamber of Commerce and Industry, Philippine Franchise Association, and Philippine Retailers Association; and media partners The Philippine STAR and One News.'"
      ]
     },
     "execution_count": 124,
     "metadata": {},
     "output_type": "execute_result"
    }
   ],
   "source": [
    "full_content"
   ]
  },
  {
   "cell_type": "code",
   "execution_count": 125,
   "id": "ae6d8e75-a78b-4b1e-945a-35ffc4a7f913",
   "metadata": {
    "tags": []
   },
   "outputs": [],
   "source": [
    "smr = sess.boto_session.client(\"sagemaker-runtime\")"
   ]
  },
  {
   "cell_type": "code",
   "execution_count": 334,
   "id": "bf13e5d5-803a-4c1c-8860-1be266a96188",
   "metadata": {
    "tags": []
   },
   "outputs": [],
   "source": [
    "parameters = {\n",
    "    \"do_sample\": True,\n",
    "    \"top_p\": 0.9,\n",
    "    \"temperature\": 0.5,\n",
    "    \"max_new_tokens\": 1024,\n",
    "    \"repetition_penalty\": 1.03,\n",
    "    \"stop\": [\"###\", \"</s>\"],\n",
    "}"
   ]
  },
  {
   "cell_type": "code",
   "execution_count": 127,
   "id": "84642861-d987-400c-ae49-3dad1d89840b",
   "metadata": {
    "tags": []
   },
   "outputs": [],
   "source": [
    "import re"
   ]
  },
  {
   "cell_type": "code",
   "execution_count": 128,
   "id": "e2796349-c34c-45ab-a8d2-4b98ec2caa06",
   "metadata": {
    "tags": []
   },
   "outputs": [],
   "source": [
    "request = {\"inputs\": format_article_for_prompt(full_content), \"parameters\": parameters, \"stream\": False}"
   ]
  },
  {
   "cell_type": "code",
   "execution_count": 129,
   "id": "0139ad4d-2585-4ab5-b572-fc7077a6b071",
   "metadata": {
    "tags": []
   },
   "outputs": [],
   "source": [
    "import time"
   ]
  },
  {
   "cell_type": "code",
   "execution_count": 130,
   "id": "f97448a7-db3f-4374-85c9-6c0c95af3917",
   "metadata": {
    "tags": []
   },
   "outputs": [
    {
     "name": "stdout",
     "output_type": "stream",
     "text": [
      "done in 15.922027826309204\n"
     ]
    }
   ],
   "source": [
    "start_time = time.time()\n",
    "resp = smr.invoke_endpoint(\n",
    "    EndpointName=endpoint_name,\n",
    "    Body=json.dumps(request),\n",
    "    ContentType=\"application/json\",\n",
    ")\n",
    "print(f'done in {time.time() - start_time}')"
   ]
  },
  {
   "cell_type": "code",
   "execution_count": 131,
   "id": "9f8fb860-4063-4bc0-ac59-bfab97e4b1c4",
   "metadata": {
    "scrolled": true,
    "tags": []
   },
   "outputs": [
    {
     "data": {
      "text/plain": [
       "{'analysis_is_financial_or_business_news': 'The article discusses the upcoming BusinessWorld Forecast 2024 economic forum, focusing on the Philippine economy, business opportunities, and development.',\n",
       " 'is_financial_or_business_news': True,\n",
       " 'analysis_of_relevant_for_india': \"The article is about the Philippines' economic outlook and business opportunities, which may not be directly relevant for India.\",\n",
       " 'relevant_for_india': False,\n",
       " 'analysis_of_article_validity_duration': 'The article talks about a future event, hence its relevance will last until the event occurs.',\n",
       " 'article_validity_duration': 14,\n",
       " 'analysis_of_popularity': 'The article is about a specific event and is likely to appeal to a niche audience interested in the Philippine economy.',\n",
       " 'popularity': 'niche',\n",
       " 'analysis_of_article_type': 'The article is factual, presenting information about the upcoming BusinessWorld Forecast 2024.',\n",
       " 'article_type': 'fact',\n",
       " 'analysis_of_article_sentiment': 'The article is neutral, providing factual information about the event.',\n",
       " 'article_sentiment': 'NA',\n",
       " 'headline_suggestion': 'Philippine Economic Outlook and Business Opportunities to be Discussed in Upcoming BusinessWorld Forecast 2024 Forum',\n",
       " 'summary': 'The BusinessWorld Forecast 2024 economic forum, featuring keynote presentations, panel discussions and fi re-side chats, will focus on the Philippine economic outlook and business opportunities. Key speakers include representatives from the ADB, WB, and IMF.'}"
      ]
     },
     "execution_count": 131,
     "metadata": {},
     "output_type": "execute_result"
    }
   ],
   "source": [
    "k = resp['Body'].read()\n",
    "\n",
    "json.loads(json.loads(k)[0]['generated_text'])"
   ]
  },
  {
   "cell_type": "code",
   "execution_count": 43,
   "id": "ddd1fc01-4560-4ab2-a56e-66c23e786495",
   "metadata": {
    "tags": []
   },
   "outputs": [],
   "source": [
    "article_ids = [\"652cdf8e50af0e25a912311a\",\n",
    "\"652df8f35669b40a3b5ab660\",\n",
    "\"652df8dc5669b40a3b5ab607\",\n",
    "\"655acf984b13023f934af2ef\",\n",
    "\"655acf824b13023f934af2ee\",\n",
    "\"655acf734b13023f934af2ed\",\n",
    "\"655acf674b13023f934af2ec\",\n",
    "\"655acf664b13023f934af2eb\",\n",
    "\"655acf5d4b13023f934af2ea\"]"
   ]
  },
  {
   "cell_type": "code",
   "execution_count": 57,
   "id": "c9031209-18a7-4da5-93b9-9429f160101f",
   "metadata": {
    "tags": []
   },
   "outputs": [],
   "source": [
    "article_ids= pd.read_csv('data-1701156717673.csv')"
   ]
  },
  {
   "cell_type": "code",
   "execution_count": 61,
   "id": "f5e38ba6-fd39-4800-9d02-3f259fdd313b",
   "metadata": {
    "tags": []
   },
   "outputs": [],
   "source": [
    "article_ids = [k[0] for k in article_ids.values]"
   ]
  },
  {
   "cell_type": "code",
   "execution_count": 132,
   "id": "a4c8ac13-c915-4e25-b9db-89a1fa7f2648",
   "metadata": {
    "tags": []
   },
   "outputs": [],
   "source": [
    "article_ids = [\n",
    "\"651dcf2ea662d76276b7cea4\",\n",
    "\"652cacd650af0e25a912308e\",\n",
    "\"652caceb50af0e25a91230cc\",\n",
    "\"652cacf250af0e25a91230f3\",\n",
    "\"652df8eb5669b40a3b5ab638\",\n",
    "\"652df8ee5669b40a3b5ab645\",\n",
    "\"652df8ef5669b40a3b5ab64a\",\n",
    "\"652df9085669b40a3b5ab6fb\",\n",
    "\"652e31195669b40a3b5ab767\",\n",
    "\"652ebb761e5cc42b1b1398c4\"]"
   ]
  },
  {
   "cell_type": "code",
   "execution_count": 28,
   "id": "2a4ac892-b21f-48b7-ac93-b30cd72ccf4c",
   "metadata": {
    "tags": []
   },
   "outputs": [],
   "source": [
    "import time"
   ]
  },
  {
   "cell_type": "code",
   "execution_count": 64,
   "id": "4fb62faf-30c4-4c95-8c9a-917c4fe9ed6d",
   "metadata": {
    "tags": []
   },
   "outputs": [],
   "source": [
    "from transformers import AutoModelForCausalLM, AutoTokenizer"
   ]
  },
  {
   "cell_type": "code",
   "execution_count": 335,
   "id": "d7c7933d-9bb7-45ce-ace7-89d362f4e584",
   "metadata": {
    "tags": []
   },
   "outputs": [],
   "source": [
    "def calculate_tokens(text, encoder):  # Placeholder for your actual token calculation function\n",
    "    # Your implementation will go here.\n",
    "    return len(encoder.encode(text))  # Example: counting characters as tokens\n",
    "\n",
    "def truncate_text_to_token_limit(text,encoder, token_limit):\n",
    "    # First, check if the whole text is under the token limit\n",
    "    if calculate_tokens(text, encoder) <= token_limit:\n",
    "        return text  # The entire text is within the limit\n",
    "\n",
    "    def is_under_limit(index):\n",
    "        # Use the provided function to calculate tokens for the substring\n",
    "        return calculate_tokens(text[:index], encoder) <= token_limit\n",
    "\n",
    "    left, right = 0, len(text)\n",
    "    valid_limit = 0  # This will hold the index of the last valid token position\n",
    "\n",
    "    # Binary search to find the token limit\n",
    "    while left <= right:\n",
    "        mid = (left + right) // 2  # Find the midpoint\n",
    "        if is_under_limit(mid):\n",
    "            # If the midpoint is under the limit, store it as a valid limit\n",
    "            valid_limit = mid\n",
    "            left = mid + 1  # Move the left boundary to the right\n",
    "        else:\n",
    "            right = mid - 1  # Move the right boundary to the left\n",
    "\n",
    "    # Find the last space before the valid_limit to ensure we're at a word boundary\n",
    "    space_index = text.rfind(' ', 0, valid_limit)\n",
    "    if space_index == -1:\n",
    "        # If there's no space, we've hit the start of the text\n",
    "        return text[:valid_limit]  # Return up to the valid limit even if mid-word\n",
    "\n",
    "    # Return the text up to the last word within the token limit\n",
    "    return text[:space_index]\n",
    "\n",
    "# Example usage:\n",
    "text = \"Your text goes here, and it could be very long.\"\n",
    "token_limit = 100  # Replace with your actual token limit"
   ]
  },
  {
   "cell_type": "code",
   "execution_count": 76,
   "id": "5ae6d135-f9a1-47b0-abc7-f4965844202f",
   "metadata": {
    "tags": []
   },
   "outputs": [],
   "source": [
    "s = find_token_limit(text = k, encoder=tokenizer, token_limit=1643)"
   ]
  },
  {
   "cell_type": "code",
   "execution_count": 134,
   "id": "8f7f2213-9d4b-4e0f-afbd-930c30f6cabb",
   "metadata": {
    "tags": []
   },
   "outputs": [
    {
     "name": "stderr",
     "output_type": "stream",
     "text": [
      "Special tokens have been added in the vocabulary, make sure the associated word embeddings are fine-tuned or trained.\n",
      "Special tokens have been added in the vocabulary, make sure the associated word embeddings are fine-tuned or trained.\n"
     ]
    }
   ],
   "source": [
    "tokenizer = AutoTokenizer.from_pretrained('teknium/OpenHermes-2.5-Mistral-7B', use_fast=True)"
   ]
  },
  {
   "cell_type": "code",
   "execution_count": 135,
   "id": "66c3398f-44cd-4fd1-be02-c0d95d2d4390",
   "metadata": {
    "tags": []
   },
   "outputs": [],
   "source": [
    "prompt_tokens = tokenizer(system_prompt)"
   ]
  },
  {
   "cell_type": "code",
   "execution_count": 136,
   "id": "f65e49aa-4894-4f3e-b89d-e437fa1a4c22",
   "metadata": {
    "tags": []
   },
   "outputs": [
    {
     "data": {
      "text/plain": [
       "1429"
      ]
     },
     "execution_count": 136,
     "metadata": {},
     "output_type": "execute_result"
    }
   ],
   "source": [
    "len(prompt_tokens['input_ids'])"
   ]
  },
  {
   "cell_type": "code",
   "execution_count": 363,
   "id": "ec417e53-bd1f-4e3e-9ab6-e47164b11883",
   "metadata": {
    "tags": []
   },
   "outputs": [],
   "source": [
    "def get_attributes_from_llm(article_id):\n",
    "    try:\n",
    "        art = ArticleService._get_article_json_from_s3_and_api(article_id)\n",
    "    except:\n",
    "        print(article_id, \"no data\")\n",
    "        return article_id, 'nothing'\n",
    "    full_content = art['title'] + art['cleaned_text']\n",
    "    full_response = {}\n",
    "    full_response['content'] = full_content\n",
    "    full_input = format_article_for_prompt(full_content)\n",
    "    return full_input\n",
    "    # truncated_input = truncate_text_to_token_limit(full_input, encoder=tokenizer, token_limit=3072)\n",
    "    request = {\"inputs\": full_input, \"parameters\": parameters, \"stream\": False}\n",
    "    try:\n",
    "        resp = smr.invoke_endpoint(\n",
    "            EndpointName=endpoint_name,\n",
    "            Body=json.dumps(request),\n",
    "            ContentType=\"application/json\",\n",
    "            )\n",
    "        k = resp['Body'].read()\n",
    "        return k\n",
    "        # try:\n",
    "        #     full_response['llm_attributes'] = json.loads(k)[0]['generated_text']\n",
    "        #     print(article_id, full_response['llm_attributes'])\n",
    "        #     return article_id, full_response\n",
    "        # except:\n",
    "        #     print(article_id, k)\n",
    "        #     return article_id, k\n",
    "    except:\n",
    "        print(article_id, 'some error')\n",
    "        article_id, ''"
   ]
  },
  {
   "cell_type": "code",
   "execution_count": 247,
   "id": "917fe1a0-2fa8-45d2-97f6-cbc9a3b23c52",
   "metadata": {
    "tags": []
   },
   "outputs": [],
   "source": [
    "art = ArticleService._get_article_json_from_s3_and_api('6555cbba4b13023f934a0d12')"
   ]
  },
  {
   "cell_type": "code",
   "execution_count": 333,
   "id": "10bb0c50-5350-4dd0-8c93-7d5d34f1aa76",
   "metadata": {
    "tags": []
   },
   "outputs": [
    {
     "data": {
      "text/plain": [
       "1976"
      ]
     },
     "execution_count": 333,
     "metadata": {},
     "output_type": "execute_result"
    }
   ],
   "source": [
    "OUTPUT_TOKEN_LIMIT = 1024\n",
    "INSTRUCTION_TOKENS = len(tokenizer.encode(new_system_prompt))\n",
    "\n",
    "BUFFER_TOKENS = 21\n",
    "\n",
    "ARTICLE_TOKEN_LIMIT = 4096 - OUTPUT_TOKEN_LIMIT - INSTRUCTION_TOKENS - BUFFER_TOKENS\n",
    "\n",
    "ARTICLE_TOKEN_LIMIT"
   ]
  },
  {
   "cell_type": "code",
   "execution_count": 252,
   "id": "7cf46db5-3032-4b76-b580-668538d4cf93",
   "metadata": {
    "tags": []
   },
   "outputs": [],
   "source": [
    "full_content = art['title'] + art['cleaned_text']\n",
    "full_input = format_article_for_prompt(full_content)"
   ]
  },
  {
   "cell_type": "code",
   "execution_count": 263,
   "id": "75abef9e-eeb1-44b7-a86e-3d1196c8a8cb",
   "metadata": {
    "tags": []
   },
   "outputs": [
    {
     "name": "stdout",
     "output_type": "stream",
     "text": [
      "653168c51e5cc42b1b13b90b\n"
     ]
    }
   ],
   "source": [
    "get_attributes_from_llm('653168c51e5cc42b1b13b90b')"
   ]
  },
  {
   "cell_type": "code",
   "execution_count": 137,
   "id": "93371ee3-2100-4dda-a793-5f894541822c",
   "metadata": {
    "tags": []
   },
   "outputs": [],
   "source": [
    "from concurrent.futures import ThreadPoolExecutor, as_completed"
   ]
  },
  {
   "cell_type": "code",
   "execution_count": 138,
   "id": "31c14841-611d-4e28-8e92-b4247b633ab2",
   "metadata": {
    "scrolled": true,
    "tags": []
   },
   "outputs": [
    {
     "name": "stdout",
     "output_type": "stream",
     "text": [
      "done with 10 in 28.532365083694458 seconds\n"
     ]
    }
   ],
   "source": [
    "start_time = time.time()\n",
    "import boto3\n",
    "import concurrent.futures\n",
    "# # Your IDs and corresponding data\n",
    "# request_data = {\n",
    "#     'id1': 'data1',\n",
    "#     'id2': 'data2',\n",
    "#     # ... add more id: data pairs\n",
    "# }\n",
    "\n",
    "# Using ThreadPoolExecutor to make parallel calls\n",
    "responses = {}\n",
    "with ThreadPoolExecutor(max_workers=10) as executor:\n",
    "    # Submit each call to the executor\n",
    "    futures = [executor.submit(get_attributes_from_llm, art_id) for art_id in article_ids]\n",
    "    # Collect the responses in a dictionary\n",
    "    for future in as_completed(futures):\n",
    "        art_id, response = future.result()\n",
    "        responses[art_id] = response\n",
    "#     future_to_id = {executor.submit(get_attributes_from_llm, article_id): article_id for article_id in article_ids}\n",
    "\n",
    "#     # Collect the responses in a dictionary\n",
    "#     for future in concurrent.futures.as_completed(future_to_id):\n",
    "#         article_id = future_to_id[future]\n",
    "#         try:\n",
    "#             _, response = future.result()\n",
    "#             responses[article_id] = response\n",
    "#         except Exception as exc:\n",
    "#             print(f'ID {article_id} generated an exception: {exc}')\n",
    "\n",
    "# responses now contains your results\n",
    "print(f'done with {len(article_ids)} in {time.time() - start_time} seconds')"
   ]
  },
  {
   "cell_type": "markdown",
   "id": "0cc2e516-dc8c-415d-b38d-3ad311e04407",
   "metadata": {},
   "source": [
    "### Testing"
   ]
  },
  {
   "cell_type": "code",
   "execution_count": 170,
   "id": "0859da0a-ebbe-41a9-819f-a892f48bbccc",
   "metadata": {
    "tags": []
   },
   "outputs": [],
   "source": [
    "with open('test_set_full_27_nov.json', 'r') as f:\n",
    "    test_set = json.load(f)"
   ]
  },
  {
   "cell_type": "code",
   "execution_count": 175,
   "id": "69d0c4c3-9906-451e-b556-f48da2f252e4",
   "metadata": {
    "scrolled": true,
    "tags": []
   },
   "outputs": [],
   "source": [
    "test_article_ids = list(test_set.keys())"
   ]
  },
  {
   "cell_type": "code",
   "execution_count": 180,
   "id": "9ad1ecfa-70ec-449a-8db4-86730fdd4c12",
   "metadata": {
    "tags": []
   },
   "outputs": [],
   "source": [
    "# def get_attributes_for_article_ids(article_ids):\n",
    "#     start_time = time.time()\n",
    "#     # Using ThreadPoolExecutor to make parallel calls\n",
    "#     responses = {}\n",
    "#     with ThreadPoolExecutor(max_workers=10) as executor:\n",
    "#         # Submit each call to the executor\n",
    "#         futures = [executor.submit(get_attributes_from_llm, art_id) for art_id in article_ids]\n",
    "        \n",
    "#         valid_attributes = {}\n",
    "#         invalid_response_ids = []\n",
    "#         # Collect the responses in a dictionary\n",
    "#         for future in as_completed(futures):\n",
    "#             art_id, response = future.result()\n",
    "#             responses[art_id] = response\n",
    "#             try:\n",
    "#                 valid_attributes[art_id] = json.loads(response['llm_attributes'])\n",
    "#             except:\n",
    "#                 invalid_response_ids.append(art_id)\n",
    "#     print(f'done with {len(article_ids)} in {time.time() - start_time} seconds')\n",
    "#     return valid_attributes"
   ]
  },
  {
   "cell_type": "code",
   "execution_count": 347,
   "id": "5accc7e8-34fb-49a9-b704-e5d6763f65c5",
   "metadata": {
    "tags": []
   },
   "outputs": [],
   "source": [
    "def get_attributes_for_article_ids(article_ids, max_retries=0, retry_count=0):\n",
    "    start_time = time.time()\n",
    "    responses = {}\n",
    "    valid_attributes = {}\n",
    "    invalid_response_ids = []\n",
    "\n",
    "    with ThreadPoolExecutor(max_workers=10) as executor:\n",
    "        futures = [executor.submit(get_attributes_from_llm, art_id) for art_id in article_ids]\n",
    "        print(f'completed in {time.time() - start_time} seconds')\n",
    "        for future in as_completed(futures):\n",
    "            art_id, response = future.result()\n",
    "            if response is None:  # Timeout or other errors\n",
    "                invalid_response_ids.append(art_id)\n",
    "                continue\n",
    "\n",
    "            responses[art_id] = response\n",
    "            try:\n",
    "                valid_attributes[art_id] = json.loads(response['llm_attributes'])\n",
    "            except:\n",
    "                return response\n",
    "                # invalid_response_ids.append(art_id)\n",
    "\n",
    "    print(f'Attempt {retry_count + 1}: Processed {len(article_ids)} IDs in {time.time() - start_time} seconds')\n",
    "\n",
    "    if invalid_response_ids and retry_count < max_retries:\n",
    "        print(f'Retrying for {len(invalid_response_ids)} invalid IDs')\n",
    "        valid_attributes_retry = get_attributes_for_article_ids(invalid_response_ids, max_retries, retry_count + 1)\n",
    "        valid_attributes.update(valid_attributes_retry)\n",
    "\n",
    "    return valid_attributes"
   ]
  },
  {
   "cell_type": "code",
   "execution_count": 331,
   "id": "e5d58ba3-babd-406e-9ca9-8a1b3dcaaa5a",
   "metadata": {
    "tags": []
   },
   "outputs": [],
   "source": [
    "random_articles = np.random.choice(test_article_ids, 25)"
   ]
  },
  {
   "cell_type": "code",
   "execution_count": 364,
   "id": "cf06165c-8c80-4211-a6c0-feb64e07ec3c",
   "metadata": {
    "tags": []
   },
   "outputs": [],
   "source": [
    "b1 = get_attributes_from_llm('651dd41ca662d76276b7dca8')"
   ]
  },
  {
   "cell_type": "code",
   "execution_count": 365,
   "id": "aa0b283f-ff29-48b2-92aa-d2d3fa7cea65",
   "metadata": {
    "tags": []
   },
   "outputs": [
    {
     "data": {
      "text/plain": [
       "'<|im_start|>system\\nYou are the chief editor for a leading Indian financial and business news website. You evaluate critical attributes of articles to gate keep content quality. For many attributes, you will first provide a brief analysis of 15 to 30 words, followed by assessment.\\n1. analysis_is_financial_or_business_news (short text) : <analyse if article pertains to finance/business or not. government policies directly impacting indian corporations or investors are ok, but not if aren\\'t>\\n2. is_financial_or_business_news (True or False) : <True or False based on previous attribute>\\n3. analysis_of_relevant_for_india (short text) : <analyse if article is relevant for indians. for example articles about 401k or small foreign companies won\\'t be relevant for india. however changes to fed interest rates or nasdaq or large multinational important news will be relevant>\\n4. relevant_for_india (True or False) : <True or False based on previous attribute>\\n5. analysis_of_article_validity_duration (short text) : <Analyse relevance duration: Stock fluctuations, 1 day; significant policy changes, weeks; educational content is timeless unless it refers to any tax or other regulations in which case only 30 days. International news in India has shorter lifespan. popular topics are usually not timeless; quarterly analysis is valid for a week, yearly for a couple of weeks and a much longer one for a month>\\n6. article_validity_duration (one of 1, 3, 7, 14, 30, -1) : <calculate number of days based on previous attribute. -1: timeless. 1: article is relevant only for that day. 3: for a couple of days. 7: for a week. 14: for a couple of weeks. 30: for a month>\\n7. analysis_of_popularity (short text) : <analyse likely popularity of article - if its for niche audience, moderate_popularity or should be part of breaking_news section, depending on number of people who will be impacted by the news and the scale of the event. foreign entities known in india but not very popular will be mostly niche or rarely moderately popular. articles targeted to very specific business or pratices will be niche. infotainment business and financial articles with some drama are likely to be more popular. articles with a list of rules without compelling story-telling will be for niche audience>\\n8. popularity (one of niche, moderately_popular, breaking_news) : <based on previous attribute>\\n9. analysis_of_article_type (short text) : <analyse if the article is majorly factual, is an opinion piece, analysis, educational or likely sponsored. factual articles relay events. opinion pieces have predictions either from the author or from statements without data. analysis pieces have substantial data to justify. if an article is overly zealous on certain stock and seems like an ad, then it is sponsored>\\n10. article_type (one of fact, opinion, analysis, educational, sponsored) : <based on previous attribute>\\n11. analysis_of_article_sentiment (short_text): <analyse if the sentiment of the article is bullish, bearish or NA. balanced is NA>\\n12. article_sentiment (one of bull, bear, NA): <based on previous attribute>\\n13. headline_suggestion (short text) : <Write a headline based on the content of the article>\\n14. summary (text of 60 words) : <Generate concise, entity-dense summary. The summary should become highly dense but easily understood without the Article. Don\\'t keep the summary too short, but limit it to no more than 60 words>\\nyour response should be a json structure with all the 14 above keys without missing any key. It is very important that the response is directly readable with json.loads(). no preamble or postamble. respond in the exact following structure:\\n{\\n\"analysis_is_financial_or_business_news\": \"\",\\n\"is_financial_or_business_news\": \"\",\\n\"analysis_of_relevant_for_india\": \"\",\\n\"relevant_for_india\": \"\",\\n\"analysis_of_article_validity_duration\": \"\",\\n\"article_validity_duration\": \"\",\\n\"analysis_of_popularity\": \"\",\\n\"popularity\": \"\",\\n\"analysis_of_article_type\": \"\",\\n\"article_type\": \"\",\\n\"analysis_of_article_sentiment\": \"\",\\n\"article_sentiment\": \"\",\\n\"headline_suggestion\": \"\",\\n\"summary\": \"\"\\n}\\n<|im_end|>\\n### <|im_start|>user\\nWhy are Americans shifting to Spain?Recent research by Spain\\'s General Council of Notaries reveals a staggering 88% increase in American home purchases in the country during the first half of 2022. Spain\\'s warm climate, relatively affordable prices, and introduction of digital nomad visas have made it an increasingly popular destination for Americans seeking a new way of life.Sunny weatherThe allure of Spain\\'s sunny weather and diverse landscapes has drawn many Americans, especially those from colder regions, to invest in Spanish real estate. Despite the burden of high taxes, the affordable property prices remain attractive for American buyers looking for a slice of Mediterranean paradise.Digital Nomad visasMoreover, the introduction of digital nomad visas in Spain, Portugal, and Greece has provided an excellent opportunity for remote workers to embrace a change of scenery and work from a different cultural hub. This incentive has further fueled the surge in American interest in Spanish real estate.Vibrant cultureNotably, record-breaking numbers of home purchases by US citizens have been observed across major Spanish cities, showcasing the growing trend of Americans embracing the Spanish lifestyle. The country\\'s vibrant culture, rich history, and investment opportunities have contributed to this influx of interest from the American market.Affordable pricesAs Spain actively seeks to attract foreign investment and talent, it opens up new avenues for Americans to capitalize on business ventures and property ownership. This has led to increased investment opportunities, further enticing Americans to explore the potential of the Spanish market.However, the soaring demand from foreign buyers has brought some challenges to the local population. Wealthy foreigners, including Americans, competing for housing in already distorted markets, coupled with the rise of Airbnbs and corporate real estate investment, have made it harder for locals to find affordable housing. This phenomenon has led to a generation of southern Europeans struggling to achieve independence, with over 90 percent of those under 35 living with their parents, surpassing the rates seen in their American counterparts.While Spain\\'s popularity among American homebuyers continues to grow, it also raises important questions about the impact of foreign investment on the local communities and housing markets. As Spain adapts to this influx, policymakers may need to strike a balance between attracting international investors and ensuring affordable housing options for their citizens.Spain\\'s real estate market has become a magnet for American buyers, attracted by its warm climate, affordable prices, and opportunities for digital nomads. As this trend persists, Spain faces the challenge of addressing housing affordability concerns for locals amid the surge in foreign investment.|im_end|>\\n### <|im_start|>assistant\\n'"
      ]
     },
     "execution_count": 365,
     "metadata": {},
     "output_type": "execute_result"
    }
   ],
   "source": [
    "b1"
   ]
  },
  {
   "cell_type": "code",
   "execution_count": 361,
   "id": "a7d1dad2-c43a-4bd1-85e6-40e90ec005a8",
   "metadata": {
    "tags": []
   },
   "outputs": [
    {
     "data": {
      "text/plain": [
       "'You are the chief editor for a leading Indian financial and business news website. You evaluate critical attributes of articles to gate keep content quality. For many attributes, you will first provide a brief analysis of 15 to 30 words, followed by assessment.\\n1. analysis_is_financial_or_business_news (short text) : <analyse if article pertains to finance/business or not. government policies directly impacting indian corporations or investors are ok, but not if aren\\'t>\\n2. is_financial_or_business_news (True or False) : <True or False based on previous attribute>\\n3. analysis_of_relevant_for_india (short text) : <analyse if article is relevant for indians. for example articles about 401k or small foreign companies won\\'t be relevant for india. however changes to fed interest rates or nasdaq or large multinational important news will be relevant>\\n4. relevant_for_india (True or False) : <True or False based on previous attribute>\\n5. analysis_of_article_validity_duration (short text) : <Analyse relevance duration: Stock fluctuations, 1 day; significant policy changes, weeks; educational content is timeless unless it refers to any tax or other regulations in which case only 30 days. International news in India has shorter lifespan. popular topics are usually not timeless; quarterly analysis is valid for a week, yearly for a couple of weeks and a much longer one for a month>\\n6. article_validity_duration (one of 1, 3, 7, 14, 30, -1) : <calculate number of days based on previous attribute. -1: timeless. 1: article is relevant only for that day. 3: for a couple of days. 7: for a week. 14: for a couple of weeks. 30: for a month>\\n7. analysis_of_popularity (short text) : <analyse likely popularity of article - if its for niche audience, moderate_popularity or should be part of breaking_news section, depending on number of people who will be impacted by the news and the scale of the event. foreign entities known in india but not very popular will be mostly niche or rarely moderately popular. articles targeted to very specific business or pratices will be niche. infotainment business and financial articles with some drama are likely to be more popular. articles with a list of rules without compelling story-telling will be for niche audience>\\n8. popularity (one of niche, moderately_popular, breaking_news) : <based on previous attribute>\\n9. analysis_of_article_type (short text) : <analyse if the article is majorly factual, is an opinion piece, analysis, educational or likely sponsored. factual articles relay events. opinion pieces have predictions either from the author or from statements without data. analysis pieces have substantial data to justify. if an article is overly zealous on certain stock and seems like an ad, then it is sponsored>\\n10. article_type (one of fact, opinion, analysis, educational, sponsored) : <based on previous attribute>\\n11. analysis_of_article_sentiment (short_text): <analyse if the sentiment of the article is bullish, bearish or NA. balanced is NA>\\n12. article_sentiment (one of bull, bear, NA): <based on previous attribute>\\n13. headline_suggestion (short text) : <Write a headline based on the content of the article>\\n14. summary (text of 60 words) : <Generate concise, entity-dense summary. The summary should become highly dense but easily understood without the Article. Don\\'t keep the summary too short, but limit it to no more than 60 words>\\nyour response should be a json structure with all the 14 above keys without missing any key. It is very important that the response is directly readable with json.loads(). no preamble or postamble. respond in the exact following structure:\\n{\\n\"analysis_is_financial_or_business_news\": \"\",\\n\"is_financial_or_business_news\": \"\",\\n\"analysis_of_relevant_for_india\": \"\",\\n\"relevant_for_india\": \"\",\\n\"analysis_of_article_validity_duration\": \"\",\\n\"article_validity_duration\": \"\",\\n\"analysis_of_popularity\": \"\",\\n\"popularity\": \"\",\\n\"analysis_of_article_type\": \"\",'"
      ]
     },
     "execution_count": 361,
     "metadata": {},
     "output_type": "execute_result"
    }
   ],
   "source": [
    "json.loads(b1)[0]['generated_text']"
   ]
  },
  {
   "cell_type": "code",
   "execution_count": 353,
   "id": "47075b2b-88b1-42b7-80b7-e07d1675bdfd",
   "metadata": {
    "tags": []
   },
   "outputs": [
    {
     "name": "stdout",
     "output_type": "stream",
     "text": [
      "completed in 0.07057404518127441 seconds\n",
      "651e1036a662d76276b872e4 \n",
      "651def1aa662d76276b822fe \n",
      "6555cbba4b13023f934a0d12 \n",
      "6555b5a54b13023f9348be03 \n",
      "651e192ba662d76276b887da \n",
      "651e1036a662d76276b872e4 \n",
      "653168c51e5cc42b1b13b90b no data\n",
      "65316f061e5cc42b1b13eca2 \n",
      "651debaaa662d76276b819f6 \n",
      "651e1912a662d76276b887a0 \n",
      "6555cc3a4b13023f934a68c8 \n",
      "651debaaa662d76276b819f6 some error\n",
      "6555b5a54b13023f9348be03 some error\n",
      "6555b5a54b13023f9348be03 some error\n",
      "651def1aa662d76276b822fe65316f061e5cc42b1b13eca2 some error\n",
      " some error\n",
      "6555cb974b13023f9349f4ae some error\n",
      "651e1036a662d76276b872e4 some error\n",
      "651df04ba662d76276b825f3 some error\n",
      "652ebbe61e5cc42b1b139c4f some error\n",
      "6555b5d84b13023f9348c264 some error\n",
      "651dd41ca662d76276b7dca8 \n",
      "651dd41ca662d76276b7dca8 \n",
      "65316fd51e5cc42b1b141f77651e1f32a662d76276b895fe \n",
      "65316f061e5cc42b1b13eca2 \n",
      "6555cc194b13023f934a4fa1 \n",
      "6555c49e4b13023f9348d93e \n",
      "6555c1124b13023f9348ce03 \n",
      "6531690a1e5cc42b1b13cb19 \n",
      "651e192ba662d76276b887da some error\n",
      "653168c51e5cc42b1b13b90b no data\n",
      "65316fd51e5cc42b1b141f77 some error\n",
      "6555cbba4b13023f934a0d12 some error\n",
      "651e1036a662d76276b872e4 some error\n",
      "6555cc3a4b13023f934a68c8 some error\n",
      "651e1912a662d76276b887a0 some error\n",
      "6555cc194b13023f934a4fa1 some error\n",
      "65316f061e5cc42b1b13eca2 some error\n",
      "651e1f32a662d76276b895fe some error\n",
      "651dd41ca662d76276b7dca8 some error\n",
      "651dd41ca662d76276b7dca8 You are the chief editor for a leading Indian financial and business news website. You evaluate critical attributes of articles to gate keep content quality. For many attributes, you will first provide a brief analysis of 15 to 30 words, followed by assessment.\n",
      "1. analysis_is_financial_or_business_news (short text) : <analyse if article pertains to finance/business or not. government policies directly impacting indian corporations or investors are ok, but not if aren't>\n",
      "2. is_financial_or_business_news (True or False) : <True or False based on previous attribute>\n",
      "3. analysis_of_relevant_for_india (short text) : <analyse if article is relevant for indians. for example articles about 401k or small foreign companies won't be relevant for india. however changes to fed interest rates or nasdaq or large multinational important news will be relevant>\n",
      "4. relevant_for_india (True or False) : <True or False based on previous attribute>\n",
      "5. analysis_of_article_validity_duration (short text) : <Analyse relevance duration: Stock fluctuations, 1 day; significant policy changes, weeks; educational content is timeless unless it refers to any tax or other regulations in which case only 30 days. International news in India has shorter lifespan. popular topics are usually not timeless; quarterly analysis is valid for a week, yearly for a couple of weeks and a much longer one for a month>\n",
      "6. article_validity_duration (one of 1, 3, 7, 14, 30, -1) : <calculate number of days based on previous attribute. -1: timeless. 1: article is relevant only for that day. 3: for a couple of days. 7: for a week. 14: for a couple of weeks. 30: for a month>\n",
      "7. analysis_of_popularity (short text) : <analyse likely popularity of article - if its for niche audience, moderate_popularity or should be part of breaking_news section, depending on number of people who will be impacted by the news and the scale of the event. foreign entities known in india but not very popular will be mostly niche or rarely moderately popular. articles targeted to very specific business or pratices will be niche. infotainment business and financial articles with some drama are likely to be more popular. articles with a list of rules without compelling story-telling will be for niche audience>\n",
      "8. popularity (one of niche, moderately_popular, breaking_news) : <based on previous attribute>\n",
      "9. analysis_of_article_type (short text) : <analyse if the article is majorly factual, is an opinion piece, analysis, educational or likely sponsored. factual articles relay events. opinion pieces have predictions either from the author or from statements without data. analysis pieces have substantial data to justify. if an article is overly zealous on certain stock and seems like an ad, then it is sponsored>\n",
      "10. article_type (one of fact, opinion, analysis, educational, sponsored) : <based on previous attribute>\n",
      "11. analysis_of_article_sentiment (short_text): <analyse if the sentiment of the article is bullish, bearish or NA. balanced is NA>\n",
      "12. article_sentiment (one of bull, bear, NA): <based on previous attribute>\n",
      "13. headline_suggestion (short text) : <Write a headline based on the content of the article>\n",
      "14. summary (text of 60 words) : <Generate concise, entity-dense summary. The summary should become highly dense but easily understood without the Article. Don't keep the summary too short, but limit it to no more than 60 words>\n",
      "your response should be a json structure with all the 14 above keys without missing any key. It is very important that the response is directly readable with json.loads(). no preamble or postamble. respond in the exact following structure:\n",
      "{\n",
      "\"analysis_is_financial_or_business_news\": \"\",\n",
      "\"is_financial_or_business_news\": \"\",\n",
      "\"analysis_of_relevant_for_india\": \"\",\n",
      "\"relevant_for_india\": \"\",\n",
      "\"analysis_of_article_validity_duration\": \"\",\n",
      "\"article_validity_duration\": \"\",\n",
      "\"analysis_of_popularity\": \"\",\n",
      "\"popularity\": \"\",\n",
      "\"analysis_of_article_type\": \"\",\n",
      "6555c49e4b13023f9348d93e You are the chief editor for a leading Indian financial and business news website. You evaluate critical attributes of articles to gate keep content quality. For many attributes, you will first provide a brief analysis of 15 to 30 words, followed by assessment.\n",
      "1. analysis_is_financial_or_business_news (short text) : <analyse if article pertains to finance/business or not. government policies directly impacting indian corporations or investors are ok, but not if aren't>\n",
      "2. is_financial_or_business_news (True or False) : <True or False based on previous attribute>\n",
      "3. analysis_of_relevant_for_india (short text) : <analyse if article is relevant for indians. for example articles about 401k or small foreign companies won't be relevant for india. however changes to fed interest rates or nasdaq or large multinational important news will be relevant>\n",
      "4. relevant_for_india (True or False) : <True or False based on previous attribute>\n",
      "5. analysis_of_article_validity_duration (short text) : <Analyse relevance duration: Stock fluctuations, 1 day; significant policy changes, weeks; educational content is timeless unless it refers to any tax or other regulations in which case only 30 days. International news in India has shorter lifespan. popular topics are usually not timeless; quarterly analysis is valid for a week, yearly for a couple of weeks and a much longer one for a month>\n",
      "6. article_validity_duration (one of 1, 3, 7, 14, 30, -1) : <calculate number of days based on previous attribute. -1: timeless. 1: article is relevant only for that day. 3: for a couple of days. 7: for a week. 14: for a couple of weeks. 30: for a month>\n",
      "7. analysis_of_popularity (short text) : <analyse likely popularity of article - if its for niche audience, moderate_popularity or should be part of breaking_news section, depending on number of people who will be impacted by the news and the scale of the event. foreign entities known in india but not very popular will be mostly niche or rarely moderately popular. articles targeted to very specific business or pratices will be niche. infotainment business and financial articles with some drama are likely to be more popular. articles with a list of rules without compelling story-telling will be for niche audience>\n",
      "8. popularity (one of niche, moderately_popular, breaking_news) : <based on previous attribute>\n",
      "9. analysis_of_article_type (short text) : <analyse if the article is majorly factual, is an opinion piece, analysis, educational or likely sponsored. factual articles relay events. opinion pieces have predictions either from the author or from statements without data. analysis pieces have substantial data to justify. if an article is overly zealous on certain stock and seems like an ad, then it is sponsored>\n",
      "10. article_type (one of fact, opinion, analysis, educational, sponsored) : <based on previous attribute>\n",
      "11. analysis_of_article_sentiment (short_text): <analyse if the sentiment of the article is bullish, bearish or NA. balanced is NA>\n",
      "12. article_sentiment (one of bull, bear, NA): <based on previous attribute>\n",
      "13. headline_suggestion (short text) : <Write a headline based on the content of the article>\n",
      "14. summary (text of 60 words) : <Generate concise, entity-dense summary. The summary should become highly dense but easily understood without the Article. Don't keep the summary too short, but limit it to no more than 60 words>\n",
      "your response should be a json structure with all the 14 above keys without missing any key. It is very important that the response is directly readable with json.loads(). no preamble or postamble. respond in the exact following structure:\n",
      "{\n",
      "\"analysis_is_financial_or_business_news\": \"\",\n",
      "\"is_financial_or_business_news\": \"\",\n",
      "\"analysis_of_relevant_for_india\": \"\",\n",
      "\"relevant_for_india\": \"\",\n",
      "\"analysis_of_article_validity_duration\": \"\",\n",
      "\"article_validity_duration\": \"\",\n",
      "\"analysis_of_popularity\": \"\",\n",
      "\"popularity\": \"\",\n",
      "\"analysis_of_article_type\": \"\",\n",
      "6555c1124b13023f9348ce03 You are the chief editor for a leading Indian financial and business news website. You evaluate critical attributes of articles to gate keep content quality. For many attributes, you will first provide a brief analysis of 15 to 30 words, followed by assessment.\n",
      "1. analysis_is_financial_or_business_news (short text) : <analyse if article pertains to finance/business or not. government policies directly impacting indian corporations or investors are ok, but not if aren't>\n",
      "2. is_financial_or_business_news (True or False) : <True or False based on previous attribute>\n",
      "3. analysis_of_relevant_for_india (short text) : <analyse if article is relevant for indians. for example articles about 401k or small foreign companies won't be relevant for india. however changes to fed interest rates or nasdaq or large multinational important news will be relevant>\n",
      "4. relevant_for_india (True or False) : <True or False based on previous attribute>\n",
      "5. analysis_of_article_validity_duration (short text) : <Analyse relevance duration: Stock fluctuations, 1 day; significant policy changes, weeks; educational content is timeless unless it refers to any tax or other regulations in which case only 30 days. International news in India has shorter lifespan. popular topics are usually not timeless; quarterly analysis is valid for a week, yearly for a couple of weeks and a much longer one for a month>\n",
      "6. article_validity_duration (one of 1, 3, 7, 14, 30, -1) : <calculate number of days based on previous attribute. -1: timeless. 1: article is relevant only for that day. 3: for a couple of days. 7: for a week. 14: for a couple of weeks. 30: for a month>\n",
      "7. analysis_of_popularity (short text) : <analyse likely popularity of article - if its for niche audience, moderate_popularity or should be part of breaking_news section, depending on number of people who will be impacted by the news and the scale of the event. foreign entities known in india but not very popular will be mostly niche or rarely moderately popular. articles targeted to very specific business or pratices will be niche. infotainment business and financial articles with some drama are likely to be more popular. articles with a list of rules without compelling story-telling will be for niche audience>\n",
      "8. popularity (one of niche, moderately_popular, breaking_news) : <based on previous attribute>\n",
      "9. analysis_of_article_type (short text) : <analyse if the article is majorly factual, is an opinion piece, analysis, educational or likely sponsored. factual articles relay events. opinion pieces have predictions either from the author or from statements without data. analysis pieces have substantial data to justify. if an article is overly zealous on certain stock and seems like an ad, then it is sponsored>\n",
      "10. article_type (one of fact, opinion, analysis, educational, sponsored) : <based on previous attribute>\n",
      "11. analysis_of_article_sentiment (short_text): <analyse if the sentiment of the article is bullish, bearish or NA. balanced is NA>\n",
      "12. article_sentiment (one of bull, bear, NA): <based on previous attribute>\n",
      "13. headline_suggestion (short text) : <Write a headline based on the content of the article>\n",
      "14. summary (text of 60 words) : <Generate concise, entity-dense summary. The summary should become highly dense but easily understood without the Article. Don't keep the summary too short, but limit it to no more than 60 words>\n",
      "your response should be a json structure with all the 14 above keys without missing any key. It is very important that the response is directly readable with json.loads(). no preamble or postamble. respond in the exact following structure:\n",
      "{\n",
      "\"analysis_is_financial_or_business_news\": \"\",\n",
      "\"is_financial_or_business_news\": \"\",\n",
      "\"analysis_of_relevant_for_india\": \"\",\n",
      "\"relevant_for_india\": \"\",\n",
      "\"analysis_of_article_validity_duration\": \"\",\n",
      "\"article_validity_duration\": \"\",\n",
      "\"analysis_of_popularity\": \"\",\n",
      "\"popularity\": \"\",\n",
      "\"analysis_of_article_type\": \"\",\n",
      "6531690a1e5cc42b1b13cb19 You are the chief editor for a leading Indian financial and business news website. You evaluate critical attributes of articles to gate keep content quality. For many attributes, you will first provide a brief analysis of 15 to 30 words, followed by assessment.\n",
      "1. analysis_is_financial_or_business_news (short text) : <analyse if article pertains to finance/business or not. government policies directly impacting indian corporations or investors are ok, but not if aren't>\n",
      "2. is_financial_or_business_news (True or False) : <True or False based on previous attribute>\n",
      "3. analysis_of_relevant_for_india (short text) : <analyse if article is relevant for indians. for example articles about 401k or small foreign companies won't be relevant for india. however changes to fed interest rates or nasdaq or large multinational important news will be relevant>\n",
      "4. relevant_for_india (True or False) : <True or False based on previous attribute>\n",
      "5. analysis_of_article_validity_duration (short text) : <Analyse relevance duration: Stock fluctuations, 1 day; significant policy changes, weeks; educational content is timeless unless it refers to any tax or other regulations in which case only 30 days. International news in India has shorter lifespan. popular topics are usually not timeless; quarterly analysis is valid for a week, yearly for a couple of weeks and a much longer one for a month>\n",
      "6. article_validity_duration (one of 1, 3, 7, 14, 30, -1) : <calculate number of days based on previous attribute. -1: timeless. 1: article is relevant only for that day. 3: for a couple of days. 7: for a week. 14: for a couple of weeks. 30: for a month>\n",
      "7. analysis_of_popularity (short text) : <analyse likely popularity of article - if its for niche audience, moderate_popularity or should be part of breaking_news section, depending on number of people who will be impacted by the news and the scale of the event. foreign entities known in india but not very popular will be mostly niche or rarely moderately popular. articles targeted to very specific business or pratices will be niche. infotainment business and financial articles with some drama are likely to be more popular. articles with a list of rules without compelling story-telling will be for niche audience>\n",
      "8. popularity (one of niche, moderately_popular, breaking_news) : <based on previous attribute>\n",
      "9. analysis_of_article_type (short text) : <analyse if the article is majorly factual, is an opinion piece, analysis, educational or likely sponsored. factual articles relay events. opinion pieces have predictions either from the author or from statements without data. analysis pieces have substantial data to justify. if an article is overly zealous on certain stock and seems like an ad, then it is sponsored>\n",
      "10. article_type (one of fact, opinion, analysis, educational, sponsored) : <based on previous attribute>\n",
      "11. analysis_of_article_sentiment (short_text): <analyse if the sentiment of the article is bullish, bearish or NA. balanced is NA>\n",
      "12. article_sentiment (one of bull, bear, NA): <based on previous attribute>\n",
      "13. headline_suggestion (short text) : <Write a headline based on the content of the article>\n",
      "14. summary (text of 60 words) : <Generate concise, entity-dense summary. The summary should become highly dense but easily understood without the Article. Don't keep the summary too short, but limit it to no more than 60 words>\n",
      "your response should be a json structure with all the 14 above keys without missing any key. It is very important that the response is directly readable with json.loads(). no preamble or postamble. respond in the exact following structure:\n",
      "{\n",
      "\"analysis_is_financial_or_business_news\": \"\",\n",
      "\"is_financial_or_business_news\": \"\",\n",
      "\"analysis_of_relevant_for_india\": \"\",\n",
      "\"relevant_for_india\": \"\",\n",
      "\"analysis_of_article_validity_duration\": \"\",\n",
      "\"article_validity_duration\": \"\",\n",
      "\"analysis_of_popularity\": \"\",\n",
      "\"popularity\": \"\",\n",
      "\"analysis_of_article_type\": \"\",\n"
     ]
    },
    {
     "ename": "TypeError",
     "evalue": "cannot unpack non-iterable NoneType object",
     "output_type": "error",
     "traceback": [
      "\u001b[0;31m---------------------------------------------------------------------------\u001b[0m",
      "\u001b[0;31mTypeError\u001b[0m                                 Traceback (most recent call last)",
      "Cell \u001b[0;32mIn[353], line 1\u001b[0m\n\u001b[0;32m----> 1\u001b[0m va_latest \u001b[38;5;241m=\u001b[39m get_attributes_for_article_ids(random_articles)\n",
      "Cell \u001b[0;32mIn[347], line 11\u001b[0m, in \u001b[0;36mget_attributes_for_article_ids\u001b[0;34m(article_ids, max_retries, retry_count)\u001b[0m\n\u001b[1;32m      9\u001b[0m \u001b[38;5;28mprint\u001b[39m(\u001b[38;5;124mf\u001b[39m\u001b[38;5;124m'\u001b[39m\u001b[38;5;124mcompleted in \u001b[39m\u001b[38;5;132;01m{\u001b[39;00mtime\u001b[38;5;241m.\u001b[39mtime()\u001b[38;5;250m \u001b[39m\u001b[38;5;241m-\u001b[39m\u001b[38;5;250m \u001b[39mstart_time\u001b[38;5;132;01m}\u001b[39;00m\u001b[38;5;124m seconds\u001b[39m\u001b[38;5;124m'\u001b[39m)\n\u001b[1;32m     10\u001b[0m \u001b[38;5;28;01mfor\u001b[39;00m future \u001b[38;5;129;01min\u001b[39;00m as_completed(futures):\n\u001b[0;32m---> 11\u001b[0m     art_id, response \u001b[38;5;241m=\u001b[39m future\u001b[38;5;241m.\u001b[39mresult()\n\u001b[1;32m     12\u001b[0m     \u001b[38;5;28;01mif\u001b[39;00m response \u001b[38;5;129;01mis\u001b[39;00m \u001b[38;5;28;01mNone\u001b[39;00m:  \u001b[38;5;66;03m# Timeout or other errors\u001b[39;00m\n\u001b[1;32m     13\u001b[0m         invalid_response_ids\u001b[38;5;241m.\u001b[39mappend(art_id)\n",
      "\u001b[0;31mTypeError\u001b[0m: cannot unpack non-iterable NoneType object"
     ]
    }
   ],
   "source": [
    "va_latest = get_attributes_for_article_ids(random_articles)"
   ]
  },
  {
   "cell_type": "code",
   "execution_count": 271,
   "id": "925953cc-c370-4a19-91d5-41252b0947fc",
   "metadata": {
    "tags": []
   },
   "outputs": [
    {
     "name": "stdout",
     "output_type": "stream",
     "text": [
      "6555cbf84b13023f934a382d\n",
      "653168c51e5cc42b1b13b90b\n",
      "65316f521e5cc42b1b13f95e\n",
      "Attempt 1: Processed 100 IDs in 240.7760512828827 seconds\n",
      "Retrying for 3 invalid IDs\n",
      "653168c51e5cc42b1b13b90b\n",
      "6555cbf84b13023f934a382d\n",
      "65316f521e5cc42b1b13f95e\n",
      "Attempt 2: Processed 3 IDs in 0.6003978252410889 seconds\n",
      "Retrying for 3 invalid IDs\n",
      "65316f521e5cc42b1b13f95e\n",
      "653168c51e5cc42b1b13b90b\n",
      "6555cbf84b13023f934a382d\n",
      "Attempt 3: Processed 3 IDs in 0.4265472888946533 seconds\n"
     ]
    }
   ],
   "source": [
    "va_new = get_attributes_for_article_ids(test_article_ids)"
   ]
  },
  {
   "cell_type": "code",
   "execution_count": 278,
   "id": "c6289ef1-d980-4c0c-be42-6eb66c3bd26a",
   "metadata": {
    "tags": []
   },
   "outputs": [
    {
     "data": {
      "text/plain": [
       "{'analysis_is_financial_or_business_news': \"Article discusses India's economic policies and potential for investment by American businesses.\",\n",
       " 'is_financial_or_business_news': True,\n",
       " 'analysis_of_relevant_for_india': \"The article discusses India's economic policies, making it relevant for Indians.\",\n",
       " 'relevant_for_india': True,\n",
       " 'analysis_of_article_validity_duration': 'The article discusses policies and potential investments, making it relevant for several weeks.',\n",
       " 'article_validity_duration': 14,\n",
       " 'analysis_of_popularity': 'The article discusses policies that may impact a broad audience of business and investors.',\n",
       " 'popularity': 'moderately_popular',\n",
       " 'analysis_of_article_type': 'The article is factual, discussing policies and potential investments.',\n",
       " 'article_type': 'fact',\n",
       " 'analysis_of_article_sentiment': 'The article is neutral, discussing policies and potential investments.',\n",
       " 'article_sentiment': 'NA',\n",
       " 'headline_suggestion': 'Finance Minister Invites US Businesses to Invest in India',\n",
       " 'summary': \"India's Finance Minister, Nirmala Sitharaman, has invited American businesses to invest in the country, highlighting India's economic policies and potential.\"}"
      ]
     },
     "execution_count": 278,
     "metadata": {},
     "output_type": "execute_result"
    }
   ],
   "source": [
    "va_new['651e1b59a662d76276b88cc8']"
   ]
  },
  {
   "cell_type": "code",
   "execution_count": 282,
   "id": "52352de3-2007-44d2-8603-2c4c1133bf25",
   "metadata": {
    "tags": []
   },
   "outputs": [
    {
     "data": {
      "text/plain": [
       "{'analysis_is_financial_or_business_news': 'The article is about a movie, not directly related to finance or business.',\n",
       " 'is_financial_or_business_news': False,\n",
       " 'analysis_of_relevant_for_india': \"The movie is American, but its relevance to India is limited as it doesn't have any direct impact on Indian finance or business.\",\n",
       " 'relevant_for_india': False,\n",
       " 'analysis_of_article_validity_duration': \"The article is about an upcoming movie, thus it's relevant until the movie's release.\",\n",
       " 'article_validity_duration': 30,\n",
       " 'analysis_of_popularity': \"The article is about a popular movie franchise, but since it's about a new release, it's likely to be of moderate popularity.\",\n",
       " 'popularity': 'moderately_popular',\n",
       " 'analysis_of_article_type': 'The article is mostly factual, providing details about the upcoming movie.',\n",
       " 'article_type': 'fact',\n",
       " 'analysis_of_article_sentiment': 'The article is neutral, providing information about a movie without any bullish or bearish sentiment.',\n",
       " 'article_sentiment': 'NA',\n",
       " 'headline_suggestion': \"George A. Romero's Last Zombie Movie, 'Twilight of the Dead', to Begin Production Soon\",\n",
       " 'summary': \"George A. Romero's last zombie movie, 'Twilight of the Dead', is set to begin production soon. The film will be made according to Romero's original vision and will continue his legacy of social commentary and horror.\"}"
      ]
     },
     "execution_count": 282,
     "metadata": {},
     "output_type": "execute_result"
    }
   ],
   "source": [
    "va['651dd87da662d76276b7e750']"
   ]
  },
  {
   "cell_type": "code",
   "execution_count": 281,
   "id": "25978b32-1f7f-4e5e-abf2-23dbf5f2ed7b",
   "metadata": {
    "tags": []
   },
   "outputs": [
    {
     "data": {
      "text/plain": [
       "{'analysis_is_financial_or_business_news': 'The article is about a film project, not finance or business.',\n",
       " 'is_financial_or_business_news': False,\n",
       " 'analysis_of_relevant_for_india': 'The article is about a Hollywood film project, not relevant to Indian finance or business.',\n",
       " 'relevant_for_india': False,\n",
       " 'analysis_of_article_validity_duration': \"The article is about a future film project, so it's relevant until the film is released.\",\n",
       " 'article_validity_duration': -1,\n",
       " 'analysis_of_popularity': \"The article is about a well-known filmmaker's final project, likely to be of interest to a niche audience.\",\n",
       " 'popularity': 'niche',\n",
       " 'analysis_of_article_type': 'The article is factual, reporting on a future film project.',\n",
       " 'article_type': 'fact',\n",
       " 'analysis_of_article_sentiment': 'The article is neutral, simply reporting on a future film project.',\n",
       " 'article_sentiment': 'NA',\n",
       " 'headline_suggestion': \"George A. Romero's Final Film Project, 'Twilight of the Dead', Set to Begin Production\",\n",
       " 'summary': \"The late filmmaker George A. Romero's final project, 'Twilight of the Dead', is set to begin production. The film is about the last humans on Earth battling zombies on a tropical island.\"}"
      ]
     },
     "execution_count": 281,
     "metadata": {},
     "output_type": "execute_result"
    }
   ],
   "source": [
    "va_new['651dd87da662d76276b7e750']"
   ]
  },
  {
   "cell_type": "code",
   "execution_count": 286,
   "id": "3152020d-55cb-4929-9d76-3b2e1ca0c09e",
   "metadata": {
    "tags": []
   },
   "outputs": [],
   "source": [
    "messages = [{\"role\": \"system\", \"content\": system_prompt},\n",
    "                    {\"role\": \"user\", \"content\": f\"|article_start|\\n {''}\\n|article_end|\\n\"}]"
   ]
  },
  {
   "cell_type": "code",
   "execution_count": 290,
   "id": "88439997-8ff1-46f8-903b-04b5d2850056",
   "metadata": {
    "tags": []
   },
   "outputs": [
    {
     "data": {
      "text/plain": [
       "'huggingface-pytorch-tgi-inference-2023-12-01-00-40-05-774'"
      ]
     },
     "execution_count": 290,
     "metadata": {},
     "output_type": "execute_result"
    }
   ],
   "source": [
    "endpoint_name"
   ]
  },
  {
   "cell_type": "code",
   "execution_count": 292,
   "id": "441e7af5-9f2d-4b4a-bdbc-65fafe8995d4",
   "metadata": {
    "tags": []
   },
   "outputs": [
    {
     "name": "stdout",
     "output_type": "stream",
     "text": [
      "6555cbf84b13023f934a382d\n",
      "653168c51e5cc42b1b13b90b\n",
      "65316f521e5cc42b1b13f95e\n",
      "Attempt 1: Processed 100 IDs in 396.51358580589294 seconds\n",
      "Retrying for 4 invalid IDs\n",
      "6555cbf84b13023f934a382d\n",
      "653168c51e5cc42b1b13b90b\n",
      "65316f521e5cc42b1b13f95e\n",
      "Attempt 2: Processed 4 IDs in 23.909919023513794 seconds\n",
      "Retrying for 3 invalid IDs\n",
      "6555cbf84b13023f934a382d\n",
      "653168c51e5cc42b1b13b90b\n",
      "65316f521e5cc42b1b13f95e\n",
      "Attempt 3: Processed 3 IDs in 0.6318709850311279 seconds\n"
     ]
    }
   ],
   "source": [
    "va_new_2 = get_attributes_for_article_ids(test_article_ids)"
   ]
  },
  {
   "cell_type": "code",
   "execution_count": 303,
   "id": "2e53fe33-2299-4109-86eb-79ba501ce856",
   "metadata": {
    "scrolled": true,
    "tags": []
   },
   "outputs": [
    {
     "name": "stdout",
     "output_type": "stream",
     "text": [
      "6555cbf84b13023f934a382d\n",
      "653168c51e5cc42b1b13b90b\n",
      "65316f521e5cc42b1b13f95e\n"
     ]
    },
    {
     "ename": "ReadTimeoutError",
     "evalue": "Read timeout on endpoint URL: \"https://runtime.sagemaker.ap-south-1.amazonaws.com/endpoints/huggingface-pytorch-tgi-inference-2023-12-01-00-40-05-774/invocations\"",
     "output_type": "error",
     "traceback": [
      "\u001b[0;31m---------------------------------------------------------------------------\u001b[0m",
      "\u001b[0;31mTimeoutError\u001b[0m                              Traceback (most recent call last)",
      "File \u001b[0;32m~/anaconda3/envs/recoenv/lib/python3.11/site-packages/urllib3/connectionpool.py:466\u001b[0m, in \u001b[0;36mHTTPConnectionPool._make_request\u001b[0;34m(self, conn, method, url, timeout, chunked, **httplib_request_kw)\u001b[0m\n\u001b[1;32m    462\u001b[0m         \u001b[38;5;28;01mexcept\u001b[39;00m \u001b[38;5;167;01mBaseException\u001b[39;00m \u001b[38;5;28;01mas\u001b[39;00m e:\n\u001b[1;32m    463\u001b[0m             \u001b[38;5;66;03m# Remove the TypeError from the exception chain in\u001b[39;00m\n\u001b[1;32m    464\u001b[0m             \u001b[38;5;66;03m# Python 3 (including for exceptions like SystemExit).\u001b[39;00m\n\u001b[1;32m    465\u001b[0m             \u001b[38;5;66;03m# Otherwise it looks like a bug in the code.\u001b[39;00m\n\u001b[0;32m--> 466\u001b[0m             six\u001b[38;5;241m.\u001b[39mraise_from(e, \u001b[38;5;28;01mNone\u001b[39;00m)\n\u001b[1;32m    467\u001b[0m \u001b[38;5;28;01mexcept\u001b[39;00m (SocketTimeout, BaseSSLError, SocketError) \u001b[38;5;28;01mas\u001b[39;00m e:\n",
      "File \u001b[0;32m<string>:3\u001b[0m, in \u001b[0;36mraise_from\u001b[0;34m(value, from_value)\u001b[0m\n",
      "File \u001b[0;32m~/anaconda3/envs/recoenv/lib/python3.11/site-packages/urllib3/connectionpool.py:461\u001b[0m, in \u001b[0;36mHTTPConnectionPool._make_request\u001b[0;34m(self, conn, method, url, timeout, chunked, **httplib_request_kw)\u001b[0m\n\u001b[1;32m    460\u001b[0m \u001b[38;5;28;01mtry\u001b[39;00m:\n\u001b[0;32m--> 461\u001b[0m     httplib_response \u001b[38;5;241m=\u001b[39m conn\u001b[38;5;241m.\u001b[39mgetresponse()\n\u001b[1;32m    462\u001b[0m \u001b[38;5;28;01mexcept\u001b[39;00m \u001b[38;5;167;01mBaseException\u001b[39;00m \u001b[38;5;28;01mas\u001b[39;00m e:\n\u001b[1;32m    463\u001b[0m     \u001b[38;5;66;03m# Remove the TypeError from the exception chain in\u001b[39;00m\n\u001b[1;32m    464\u001b[0m     \u001b[38;5;66;03m# Python 3 (including for exceptions like SystemExit).\u001b[39;00m\n\u001b[1;32m    465\u001b[0m     \u001b[38;5;66;03m# Otherwise it looks like a bug in the code.\u001b[39;00m\n",
      "File \u001b[0;32m~/anaconda3/envs/recoenv/lib/python3.11/http/client.py:1378\u001b[0m, in \u001b[0;36mHTTPConnection.getresponse\u001b[0;34m(self)\u001b[0m\n\u001b[1;32m   1377\u001b[0m \u001b[38;5;28;01mtry\u001b[39;00m:\n\u001b[0;32m-> 1378\u001b[0m     response\u001b[38;5;241m.\u001b[39mbegin()\n\u001b[1;32m   1379\u001b[0m \u001b[38;5;28;01mexcept\u001b[39;00m \u001b[38;5;167;01mConnectionError\u001b[39;00m:\n",
      "File \u001b[0;32m~/anaconda3/envs/recoenv/lib/python3.11/http/client.py:318\u001b[0m, in \u001b[0;36mHTTPResponse.begin\u001b[0;34m(self)\u001b[0m\n\u001b[1;32m    317\u001b[0m \u001b[38;5;28;01mwhile\u001b[39;00m \u001b[38;5;28;01mTrue\u001b[39;00m:\n\u001b[0;32m--> 318\u001b[0m     version, status, reason \u001b[38;5;241m=\u001b[39m \u001b[38;5;28mself\u001b[39m\u001b[38;5;241m.\u001b[39m_read_status()\n\u001b[1;32m    319\u001b[0m     \u001b[38;5;28;01mif\u001b[39;00m status \u001b[38;5;241m!=\u001b[39m CONTINUE:\n",
      "File \u001b[0;32m~/anaconda3/envs/recoenv/lib/python3.11/http/client.py:279\u001b[0m, in \u001b[0;36mHTTPResponse._read_status\u001b[0;34m(self)\u001b[0m\n\u001b[1;32m    278\u001b[0m \u001b[38;5;28;01mdef\u001b[39;00m \u001b[38;5;21m_read_status\u001b[39m(\u001b[38;5;28mself\u001b[39m):\n\u001b[0;32m--> 279\u001b[0m     line \u001b[38;5;241m=\u001b[39m \u001b[38;5;28mstr\u001b[39m(\u001b[38;5;28mself\u001b[39m\u001b[38;5;241m.\u001b[39mfp\u001b[38;5;241m.\u001b[39mreadline(_MAXLINE \u001b[38;5;241m+\u001b[39m \u001b[38;5;241m1\u001b[39m), \u001b[38;5;124m\"\u001b[39m\u001b[38;5;124miso-8859-1\u001b[39m\u001b[38;5;124m\"\u001b[39m)\n\u001b[1;32m    280\u001b[0m     \u001b[38;5;28;01mif\u001b[39;00m \u001b[38;5;28mlen\u001b[39m(line) \u001b[38;5;241m>\u001b[39m _MAXLINE:\n",
      "File \u001b[0;32m~/anaconda3/envs/recoenv/lib/python3.11/socket.py:706\u001b[0m, in \u001b[0;36mSocketIO.readinto\u001b[0;34m(self, b)\u001b[0m\n\u001b[1;32m    705\u001b[0m \u001b[38;5;28;01mtry\u001b[39;00m:\n\u001b[0;32m--> 706\u001b[0m     \u001b[38;5;28;01mreturn\u001b[39;00m \u001b[38;5;28mself\u001b[39m\u001b[38;5;241m.\u001b[39m_sock\u001b[38;5;241m.\u001b[39mrecv_into(b)\n\u001b[1;32m    707\u001b[0m \u001b[38;5;28;01mexcept\u001b[39;00m timeout:\n",
      "File \u001b[0;32m~/anaconda3/envs/recoenv/lib/python3.11/ssl.py:1311\u001b[0m, in \u001b[0;36mSSLSocket.recv_into\u001b[0;34m(self, buffer, nbytes, flags)\u001b[0m\n\u001b[1;32m   1308\u001b[0m         \u001b[38;5;28;01mraise\u001b[39;00m \u001b[38;5;167;01mValueError\u001b[39;00m(\n\u001b[1;32m   1309\u001b[0m           \u001b[38;5;124m\"\u001b[39m\u001b[38;5;124mnon-zero flags not allowed in calls to recv_into() on \u001b[39m\u001b[38;5;132;01m%s\u001b[39;00m\u001b[38;5;124m\"\u001b[39m \u001b[38;5;241m%\u001b[39m\n\u001b[1;32m   1310\u001b[0m           \u001b[38;5;28mself\u001b[39m\u001b[38;5;241m.\u001b[39m\u001b[38;5;18m__class__\u001b[39m)\n\u001b[0;32m-> 1311\u001b[0m     \u001b[38;5;28;01mreturn\u001b[39;00m \u001b[38;5;28mself\u001b[39m\u001b[38;5;241m.\u001b[39mread(nbytes, buffer)\n\u001b[1;32m   1312\u001b[0m \u001b[38;5;28;01melse\u001b[39;00m:\n",
      "File \u001b[0;32m~/anaconda3/envs/recoenv/lib/python3.11/ssl.py:1167\u001b[0m, in \u001b[0;36mSSLSocket.read\u001b[0;34m(self, len, buffer)\u001b[0m\n\u001b[1;32m   1166\u001b[0m \u001b[38;5;28;01mif\u001b[39;00m buffer \u001b[38;5;129;01mis\u001b[39;00m \u001b[38;5;129;01mnot\u001b[39;00m \u001b[38;5;28;01mNone\u001b[39;00m:\n\u001b[0;32m-> 1167\u001b[0m     \u001b[38;5;28;01mreturn\u001b[39;00m \u001b[38;5;28mself\u001b[39m\u001b[38;5;241m.\u001b[39m_sslobj\u001b[38;5;241m.\u001b[39mread(\u001b[38;5;28mlen\u001b[39m, buffer)\n\u001b[1;32m   1168\u001b[0m \u001b[38;5;28;01melse\u001b[39;00m:\n",
      "\u001b[0;31mTimeoutError\u001b[0m: The read operation timed out",
      "\nDuring handling of the above exception, another exception occurred:\n",
      "\u001b[0;31mReadTimeoutError\u001b[0m                          Traceback (most recent call last)",
      "File \u001b[0;32m~/anaconda3/envs/recoenv/lib/python3.11/site-packages/botocore/httpsession.py:464\u001b[0m, in \u001b[0;36mURLLib3Session.send\u001b[0;34m(self, request)\u001b[0m\n\u001b[1;32m    463\u001b[0m request_target \u001b[38;5;241m=\u001b[39m \u001b[38;5;28mself\u001b[39m\u001b[38;5;241m.\u001b[39m_get_request_target(request\u001b[38;5;241m.\u001b[39murl, proxy_url)\n\u001b[0;32m--> 464\u001b[0m urllib_response \u001b[38;5;241m=\u001b[39m conn\u001b[38;5;241m.\u001b[39murlopen(\n\u001b[1;32m    465\u001b[0m     method\u001b[38;5;241m=\u001b[39mrequest\u001b[38;5;241m.\u001b[39mmethod,\n\u001b[1;32m    466\u001b[0m     url\u001b[38;5;241m=\u001b[39mrequest_target,\n\u001b[1;32m    467\u001b[0m     body\u001b[38;5;241m=\u001b[39mrequest\u001b[38;5;241m.\u001b[39mbody,\n\u001b[1;32m    468\u001b[0m     headers\u001b[38;5;241m=\u001b[39mrequest\u001b[38;5;241m.\u001b[39mheaders,\n\u001b[1;32m    469\u001b[0m     retries\u001b[38;5;241m=\u001b[39mRetry(\u001b[38;5;28;01mFalse\u001b[39;00m),\n\u001b[1;32m    470\u001b[0m     assert_same_host\u001b[38;5;241m=\u001b[39m\u001b[38;5;28;01mFalse\u001b[39;00m,\n\u001b[1;32m    471\u001b[0m     preload_content\u001b[38;5;241m=\u001b[39m\u001b[38;5;28;01mFalse\u001b[39;00m,\n\u001b[1;32m    472\u001b[0m     decode_content\u001b[38;5;241m=\u001b[39m\u001b[38;5;28;01mFalse\u001b[39;00m,\n\u001b[1;32m    473\u001b[0m     chunked\u001b[38;5;241m=\u001b[39m\u001b[38;5;28mself\u001b[39m\u001b[38;5;241m.\u001b[39m_chunked(request\u001b[38;5;241m.\u001b[39mheaders),\n\u001b[1;32m    474\u001b[0m )\n\u001b[1;32m    476\u001b[0m http_response \u001b[38;5;241m=\u001b[39m botocore\u001b[38;5;241m.\u001b[39mawsrequest\u001b[38;5;241m.\u001b[39mAWSResponse(\n\u001b[1;32m    477\u001b[0m     request\u001b[38;5;241m.\u001b[39murl,\n\u001b[1;32m    478\u001b[0m     urllib_response\u001b[38;5;241m.\u001b[39mstatus,\n\u001b[1;32m    479\u001b[0m     urllib_response\u001b[38;5;241m.\u001b[39mheaders,\n\u001b[1;32m    480\u001b[0m     urllib_response,\n\u001b[1;32m    481\u001b[0m )\n",
      "File \u001b[0;32m~/anaconda3/envs/recoenv/lib/python3.11/site-packages/urllib3/connectionpool.py:798\u001b[0m, in \u001b[0;36mHTTPConnectionPool.urlopen\u001b[0;34m(self, method, url, body, headers, retries, redirect, assert_same_host, timeout, pool_timeout, release_conn, chunked, body_pos, **response_kw)\u001b[0m\n\u001b[1;32m    796\u001b[0m     e \u001b[38;5;241m=\u001b[39m ProtocolError(\u001b[38;5;124m\"\u001b[39m\u001b[38;5;124mConnection aborted.\u001b[39m\u001b[38;5;124m\"\u001b[39m, e)\n\u001b[0;32m--> 798\u001b[0m retries \u001b[38;5;241m=\u001b[39m retries\u001b[38;5;241m.\u001b[39mincrement(\n\u001b[1;32m    799\u001b[0m     method, url, error\u001b[38;5;241m=\u001b[39me, _pool\u001b[38;5;241m=\u001b[39m\u001b[38;5;28mself\u001b[39m, _stacktrace\u001b[38;5;241m=\u001b[39msys\u001b[38;5;241m.\u001b[39mexc_info()[\u001b[38;5;241m2\u001b[39m]\n\u001b[1;32m    800\u001b[0m )\n\u001b[1;32m    801\u001b[0m retries\u001b[38;5;241m.\u001b[39msleep()\n",
      "File \u001b[0;32m~/anaconda3/envs/recoenv/lib/python3.11/site-packages/urllib3/util/retry.py:525\u001b[0m, in \u001b[0;36mRetry.increment\u001b[0;34m(self, method, url, response, error, _pool, _stacktrace)\u001b[0m\n\u001b[1;32m    523\u001b[0m \u001b[38;5;28;01mif\u001b[39;00m \u001b[38;5;28mself\u001b[39m\u001b[38;5;241m.\u001b[39mtotal \u001b[38;5;129;01mis\u001b[39;00m \u001b[38;5;28;01mFalse\u001b[39;00m \u001b[38;5;129;01mand\u001b[39;00m error:\n\u001b[1;32m    524\u001b[0m     \u001b[38;5;66;03m# Disabled, indicate to re-raise the error.\u001b[39;00m\n\u001b[0;32m--> 525\u001b[0m     \u001b[38;5;28;01mraise\u001b[39;00m six\u001b[38;5;241m.\u001b[39mreraise(\u001b[38;5;28mtype\u001b[39m(error), error, _stacktrace)\n\u001b[1;32m    527\u001b[0m total \u001b[38;5;241m=\u001b[39m \u001b[38;5;28mself\u001b[39m\u001b[38;5;241m.\u001b[39mtotal\n",
      "File \u001b[0;32m~/anaconda3/envs/recoenv/lib/python3.11/site-packages/urllib3/packages/six.py:770\u001b[0m, in \u001b[0;36mreraise\u001b[0;34m(tp, value, tb)\u001b[0m\n\u001b[1;32m    769\u001b[0m         \u001b[38;5;28;01mraise\u001b[39;00m value\u001b[38;5;241m.\u001b[39mwith_traceback(tb)\n\u001b[0;32m--> 770\u001b[0m     \u001b[38;5;28;01mraise\u001b[39;00m value\n\u001b[1;32m    771\u001b[0m \u001b[38;5;28;01mfinally\u001b[39;00m:\n",
      "File \u001b[0;32m~/anaconda3/envs/recoenv/lib/python3.11/site-packages/urllib3/connectionpool.py:714\u001b[0m, in \u001b[0;36mHTTPConnectionPool.urlopen\u001b[0;34m(self, method, url, body, headers, retries, redirect, assert_same_host, timeout, pool_timeout, release_conn, chunked, body_pos, **response_kw)\u001b[0m\n\u001b[1;32m    713\u001b[0m \u001b[38;5;66;03m# Make the request on the httplib connection object.\u001b[39;00m\n\u001b[0;32m--> 714\u001b[0m httplib_response \u001b[38;5;241m=\u001b[39m \u001b[38;5;28mself\u001b[39m\u001b[38;5;241m.\u001b[39m_make_request(\n\u001b[1;32m    715\u001b[0m     conn,\n\u001b[1;32m    716\u001b[0m     method,\n\u001b[1;32m    717\u001b[0m     url,\n\u001b[1;32m    718\u001b[0m     timeout\u001b[38;5;241m=\u001b[39mtimeout_obj,\n\u001b[1;32m    719\u001b[0m     body\u001b[38;5;241m=\u001b[39mbody,\n\u001b[1;32m    720\u001b[0m     headers\u001b[38;5;241m=\u001b[39mheaders,\n\u001b[1;32m    721\u001b[0m     chunked\u001b[38;5;241m=\u001b[39mchunked,\n\u001b[1;32m    722\u001b[0m )\n\u001b[1;32m    724\u001b[0m \u001b[38;5;66;03m# If we're going to release the connection in ``finally:``, then\u001b[39;00m\n\u001b[1;32m    725\u001b[0m \u001b[38;5;66;03m# the response doesn't need to know about the connection. Otherwise\u001b[39;00m\n\u001b[1;32m    726\u001b[0m \u001b[38;5;66;03m# it will also try to release it and we'll have a double-release\u001b[39;00m\n\u001b[1;32m    727\u001b[0m \u001b[38;5;66;03m# mess.\u001b[39;00m\n",
      "File \u001b[0;32m~/anaconda3/envs/recoenv/lib/python3.11/site-packages/urllib3/connectionpool.py:468\u001b[0m, in \u001b[0;36mHTTPConnectionPool._make_request\u001b[0;34m(self, conn, method, url, timeout, chunked, **httplib_request_kw)\u001b[0m\n\u001b[1;32m    467\u001b[0m \u001b[38;5;28;01mexcept\u001b[39;00m (SocketTimeout, BaseSSLError, SocketError) \u001b[38;5;28;01mas\u001b[39;00m e:\n\u001b[0;32m--> 468\u001b[0m     \u001b[38;5;28mself\u001b[39m\u001b[38;5;241m.\u001b[39m_raise_timeout(err\u001b[38;5;241m=\u001b[39me, url\u001b[38;5;241m=\u001b[39murl, timeout_value\u001b[38;5;241m=\u001b[39mread_timeout)\n\u001b[1;32m    469\u001b[0m     \u001b[38;5;28;01mraise\u001b[39;00m\n",
      "File \u001b[0;32m~/anaconda3/envs/recoenv/lib/python3.11/site-packages/urllib3/connectionpool.py:357\u001b[0m, in \u001b[0;36mHTTPConnectionPool._raise_timeout\u001b[0;34m(self, err, url, timeout_value)\u001b[0m\n\u001b[1;32m    356\u001b[0m \u001b[38;5;28;01mif\u001b[39;00m \u001b[38;5;28misinstance\u001b[39m(err, SocketTimeout):\n\u001b[0;32m--> 357\u001b[0m     \u001b[38;5;28;01mraise\u001b[39;00m ReadTimeoutError(\n\u001b[1;32m    358\u001b[0m         \u001b[38;5;28mself\u001b[39m, url, \u001b[38;5;124m\"\u001b[39m\u001b[38;5;124mRead timed out. (read timeout=\u001b[39m\u001b[38;5;132;01m%s\u001b[39;00m\u001b[38;5;124m)\u001b[39m\u001b[38;5;124m\"\u001b[39m \u001b[38;5;241m%\u001b[39m timeout_value\n\u001b[1;32m    359\u001b[0m     )\n\u001b[1;32m    361\u001b[0m \u001b[38;5;66;03m# See the above comment about EAGAIN in Python 3. In Python 2 we have\u001b[39;00m\n\u001b[1;32m    362\u001b[0m \u001b[38;5;66;03m# to specifically catch it and throw the timeout error\u001b[39;00m\n",
      "\u001b[0;31mReadTimeoutError\u001b[0m: AWSHTTPSConnectionPool(host='runtime.sagemaker.ap-south-1.amazonaws.com', port=443): Read timed out. (read timeout=60)",
      "\nDuring handling of the above exception, another exception occurred:\n",
      "\u001b[0;31mReadTimeoutError\u001b[0m                          Traceback (most recent call last)",
      "Cell \u001b[0;32mIn[303], line 1\u001b[0m\n\u001b[0;32m----> 1\u001b[0m va_new_3 \u001b[38;5;241m=\u001b[39m get_attributes_for_article_ids(test_article_ids)\n",
      "Cell \u001b[0;32mIn[300], line 11\u001b[0m, in \u001b[0;36mget_attributes_for_article_ids\u001b[0;34m(article_ids, max_retries, retry_count)\u001b[0m\n\u001b[1;32m      8\u001b[0m futures \u001b[38;5;241m=\u001b[39m [executor\u001b[38;5;241m.\u001b[39msubmit(get_attributes_from_llm, art_id) \u001b[38;5;28;01mfor\u001b[39;00m art_id \u001b[38;5;129;01min\u001b[39;00m article_ids]\n\u001b[1;32m     10\u001b[0m \u001b[38;5;28;01mfor\u001b[39;00m future \u001b[38;5;129;01min\u001b[39;00m as_completed(futures):\n\u001b[0;32m---> 11\u001b[0m     art_id, response \u001b[38;5;241m=\u001b[39m future\u001b[38;5;241m.\u001b[39mresult()\n\u001b[1;32m     12\u001b[0m     \u001b[38;5;28;01mif\u001b[39;00m response \u001b[38;5;129;01mis\u001b[39;00m \u001b[38;5;28;01mNone\u001b[39;00m:  \u001b[38;5;66;03m# Timeout or other errors\u001b[39;00m\n\u001b[1;32m     13\u001b[0m         invalid_response_ids\u001b[38;5;241m.\u001b[39mappend(art_id)\n",
      "File \u001b[0;32m~/anaconda3/envs/recoenv/lib/python3.11/concurrent/futures/_base.py:449\u001b[0m, in \u001b[0;36mFuture.result\u001b[0;34m(self, timeout)\u001b[0m\n\u001b[1;32m    447\u001b[0m     \u001b[38;5;28;01mraise\u001b[39;00m CancelledError()\n\u001b[1;32m    448\u001b[0m \u001b[38;5;28;01melif\u001b[39;00m \u001b[38;5;28mself\u001b[39m\u001b[38;5;241m.\u001b[39m_state \u001b[38;5;241m==\u001b[39m FINISHED:\n\u001b[0;32m--> 449\u001b[0m     \u001b[38;5;28;01mreturn\u001b[39;00m \u001b[38;5;28mself\u001b[39m\u001b[38;5;241m.\u001b[39m__get_result()\n\u001b[1;32m    451\u001b[0m \u001b[38;5;28mself\u001b[39m\u001b[38;5;241m.\u001b[39m_condition\u001b[38;5;241m.\u001b[39mwait(timeout)\n\u001b[1;32m    453\u001b[0m \u001b[38;5;28;01mif\u001b[39;00m \u001b[38;5;28mself\u001b[39m\u001b[38;5;241m.\u001b[39m_state \u001b[38;5;129;01min\u001b[39;00m [CANCELLED, CANCELLED_AND_NOTIFIED]:\n",
      "File \u001b[0;32m~/anaconda3/envs/recoenv/lib/python3.11/concurrent/futures/_base.py:401\u001b[0m, in \u001b[0;36mFuture.__get_result\u001b[0;34m(self)\u001b[0m\n\u001b[1;32m    399\u001b[0m \u001b[38;5;28;01mif\u001b[39;00m \u001b[38;5;28mself\u001b[39m\u001b[38;5;241m.\u001b[39m_exception:\n\u001b[1;32m    400\u001b[0m     \u001b[38;5;28;01mtry\u001b[39;00m:\n\u001b[0;32m--> 401\u001b[0m         \u001b[38;5;28;01mraise\u001b[39;00m \u001b[38;5;28mself\u001b[39m\u001b[38;5;241m.\u001b[39m_exception\n\u001b[1;32m    402\u001b[0m     \u001b[38;5;28;01mfinally\u001b[39;00m:\n\u001b[1;32m    403\u001b[0m         \u001b[38;5;66;03m# Break a reference cycle with the exception in self._exception\u001b[39;00m\n\u001b[1;32m    404\u001b[0m         \u001b[38;5;28mself\u001b[39m \u001b[38;5;241m=\u001b[39m \u001b[38;5;28;01mNone\u001b[39;00m\n",
      "File \u001b[0;32m~/anaconda3/envs/recoenv/lib/python3.11/concurrent/futures/thread.py:58\u001b[0m, in \u001b[0;36m_WorkItem.run\u001b[0;34m(self)\u001b[0m\n\u001b[1;32m     55\u001b[0m     \u001b[38;5;28;01mreturn\u001b[39;00m\n\u001b[1;32m     57\u001b[0m \u001b[38;5;28;01mtry\u001b[39;00m:\n\u001b[0;32m---> 58\u001b[0m     result \u001b[38;5;241m=\u001b[39m \u001b[38;5;28mself\u001b[39m\u001b[38;5;241m.\u001b[39mfn(\u001b[38;5;241m*\u001b[39m\u001b[38;5;28mself\u001b[39m\u001b[38;5;241m.\u001b[39margs, \u001b[38;5;241m*\u001b[39m\u001b[38;5;241m*\u001b[39m\u001b[38;5;28mself\u001b[39m\u001b[38;5;241m.\u001b[39mkwargs)\n\u001b[1;32m     59\u001b[0m \u001b[38;5;28;01mexcept\u001b[39;00m \u001b[38;5;167;01mBaseException\u001b[39;00m \u001b[38;5;28;01mas\u001b[39;00m exc:\n\u001b[1;32m     60\u001b[0m     \u001b[38;5;28mself\u001b[39m\u001b[38;5;241m.\u001b[39mfuture\u001b[38;5;241m.\u001b[39mset_exception(exc)\n",
      "Cell \u001b[0;32mIn[301], line 13\u001b[0m, in \u001b[0;36mget_attributes_from_llm\u001b[0;34m(article_id)\u001b[0m\n\u001b[1;32m     11\u001b[0m \u001b[38;5;66;03m# truncated_input = truncate_text_to_token_limit(full_input, encoder=tokenizer, token_limit=3072)\u001b[39;00m\n\u001b[1;32m     12\u001b[0m request \u001b[38;5;241m=\u001b[39m {\u001b[38;5;124m\"\u001b[39m\u001b[38;5;124minputs\u001b[39m\u001b[38;5;124m\"\u001b[39m: full_input, \u001b[38;5;124m\"\u001b[39m\u001b[38;5;124mparameters\u001b[39m\u001b[38;5;124m\"\u001b[39m: parameters, \u001b[38;5;124m\"\u001b[39m\u001b[38;5;124mstream\u001b[39m\u001b[38;5;124m\"\u001b[39m: \u001b[38;5;28;01mFalse\u001b[39;00m}\n\u001b[0;32m---> 13\u001b[0m resp \u001b[38;5;241m=\u001b[39m smr\u001b[38;5;241m.\u001b[39minvoke_endpoint(\n\u001b[1;32m     14\u001b[0m     EndpointName\u001b[38;5;241m=\u001b[39mendpoint_name,\n\u001b[1;32m     15\u001b[0m     Body\u001b[38;5;241m=\u001b[39mjson\u001b[38;5;241m.\u001b[39mdumps(request),\n\u001b[1;32m     16\u001b[0m     ContentType\u001b[38;5;241m=\u001b[39m\u001b[38;5;124m\"\u001b[39m\u001b[38;5;124mapplication/json\u001b[39m\u001b[38;5;124m\"\u001b[39m,\n\u001b[1;32m     17\u001b[0m     )\n\u001b[1;32m     18\u001b[0m k \u001b[38;5;241m=\u001b[39m resp[\u001b[38;5;124m'\u001b[39m\u001b[38;5;124mBody\u001b[39m\u001b[38;5;124m'\u001b[39m]\u001b[38;5;241m.\u001b[39mread()\n\u001b[1;32m     19\u001b[0m \u001b[38;5;28;01mtry\u001b[39;00m:\n",
      "File \u001b[0;32m~/anaconda3/envs/recoenv/lib/python3.11/site-packages/botocore/client.py:535\u001b[0m, in \u001b[0;36mClientCreator._create_api_method.<locals>._api_call\u001b[0;34m(self, *args, **kwargs)\u001b[0m\n\u001b[1;32m    531\u001b[0m     \u001b[38;5;28;01mraise\u001b[39;00m \u001b[38;5;167;01mTypeError\u001b[39;00m(\n\u001b[1;32m    532\u001b[0m         \u001b[38;5;124mf\u001b[39m\u001b[38;5;124m\"\u001b[39m\u001b[38;5;132;01m{\u001b[39;00mpy_operation_name\u001b[38;5;132;01m}\u001b[39;00m\u001b[38;5;124m() only accepts keyword arguments.\u001b[39m\u001b[38;5;124m\"\u001b[39m\n\u001b[1;32m    533\u001b[0m     )\n\u001b[1;32m    534\u001b[0m \u001b[38;5;66;03m# The \"self\" in this scope is referring to the BaseClient.\u001b[39;00m\n\u001b[0;32m--> 535\u001b[0m \u001b[38;5;28;01mreturn\u001b[39;00m \u001b[38;5;28mself\u001b[39m\u001b[38;5;241m.\u001b[39m_make_api_call(operation_name, kwargs)\n",
      "File \u001b[0;32m~/anaconda3/envs/recoenv/lib/python3.11/site-packages/botocore/client.py:963\u001b[0m, in \u001b[0;36mBaseClient._make_api_call\u001b[0;34m(self, operation_name, api_params)\u001b[0m\n\u001b[1;32m    959\u001b[0m     maybe_compress_request(\n\u001b[1;32m    960\u001b[0m         \u001b[38;5;28mself\u001b[39m\u001b[38;5;241m.\u001b[39mmeta\u001b[38;5;241m.\u001b[39mconfig, request_dict, operation_model\n\u001b[1;32m    961\u001b[0m     )\n\u001b[1;32m    962\u001b[0m     apply_request_checksum(request_dict)\n\u001b[0;32m--> 963\u001b[0m     http, parsed_response \u001b[38;5;241m=\u001b[39m \u001b[38;5;28mself\u001b[39m\u001b[38;5;241m.\u001b[39m_make_request(\n\u001b[1;32m    964\u001b[0m         operation_model, request_dict, request_context\n\u001b[1;32m    965\u001b[0m     )\n\u001b[1;32m    967\u001b[0m \u001b[38;5;28mself\u001b[39m\u001b[38;5;241m.\u001b[39mmeta\u001b[38;5;241m.\u001b[39mevents\u001b[38;5;241m.\u001b[39memit(\n\u001b[1;32m    968\u001b[0m     \u001b[38;5;124m'\u001b[39m\u001b[38;5;124mafter-call.\u001b[39m\u001b[38;5;132;01m{service_id}\u001b[39;00m\u001b[38;5;124m.\u001b[39m\u001b[38;5;132;01m{operation_name}\u001b[39;00m\u001b[38;5;124m'\u001b[39m\u001b[38;5;241m.\u001b[39mformat(\n\u001b[1;32m    969\u001b[0m         service_id\u001b[38;5;241m=\u001b[39mservice_id, operation_name\u001b[38;5;241m=\u001b[39moperation_name\n\u001b[0;32m   (...)\u001b[0m\n\u001b[1;32m    974\u001b[0m     context\u001b[38;5;241m=\u001b[39mrequest_context,\n\u001b[1;32m    975\u001b[0m )\n\u001b[1;32m    977\u001b[0m \u001b[38;5;28;01mif\u001b[39;00m http\u001b[38;5;241m.\u001b[39mstatus_code \u001b[38;5;241m>\u001b[39m\u001b[38;5;241m=\u001b[39m \u001b[38;5;241m300\u001b[39m:\n",
      "File \u001b[0;32m~/anaconda3/envs/recoenv/lib/python3.11/site-packages/botocore/client.py:986\u001b[0m, in \u001b[0;36mBaseClient._make_request\u001b[0;34m(self, operation_model, request_dict, request_context)\u001b[0m\n\u001b[1;32m    984\u001b[0m \u001b[38;5;28;01mdef\u001b[39;00m \u001b[38;5;21m_make_request\u001b[39m(\u001b[38;5;28mself\u001b[39m, operation_model, request_dict, request_context):\n\u001b[1;32m    985\u001b[0m     \u001b[38;5;28;01mtry\u001b[39;00m:\n\u001b[0;32m--> 986\u001b[0m         \u001b[38;5;28;01mreturn\u001b[39;00m \u001b[38;5;28mself\u001b[39m\u001b[38;5;241m.\u001b[39m_endpoint\u001b[38;5;241m.\u001b[39mmake_request(operation_model, request_dict)\n\u001b[1;32m    987\u001b[0m     \u001b[38;5;28;01mexcept\u001b[39;00m \u001b[38;5;167;01mException\u001b[39;00m \u001b[38;5;28;01mas\u001b[39;00m e:\n\u001b[1;32m    988\u001b[0m         \u001b[38;5;28mself\u001b[39m\u001b[38;5;241m.\u001b[39mmeta\u001b[38;5;241m.\u001b[39mevents\u001b[38;5;241m.\u001b[39memit(\n\u001b[1;32m    989\u001b[0m             \u001b[38;5;124m'\u001b[39m\u001b[38;5;124mafter-call-error.\u001b[39m\u001b[38;5;132;01m{service_id}\u001b[39;00m\u001b[38;5;124m.\u001b[39m\u001b[38;5;132;01m{operation_name}\u001b[39;00m\u001b[38;5;124m'\u001b[39m\u001b[38;5;241m.\u001b[39mformat(\n\u001b[1;32m    990\u001b[0m                 service_id\u001b[38;5;241m=\u001b[39m\u001b[38;5;28mself\u001b[39m\u001b[38;5;241m.\u001b[39m_service_model\u001b[38;5;241m.\u001b[39mservice_id\u001b[38;5;241m.\u001b[39mhyphenize(),\n\u001b[0;32m   (...)\u001b[0m\n\u001b[1;32m    994\u001b[0m             context\u001b[38;5;241m=\u001b[39mrequest_context,\n\u001b[1;32m    995\u001b[0m         )\n",
      "File \u001b[0;32m~/anaconda3/envs/recoenv/lib/python3.11/site-packages/botocore/endpoint.py:119\u001b[0m, in \u001b[0;36mEndpoint.make_request\u001b[0;34m(self, operation_model, request_dict)\u001b[0m\n\u001b[1;32m    113\u001b[0m \u001b[38;5;28;01mdef\u001b[39;00m \u001b[38;5;21mmake_request\u001b[39m(\u001b[38;5;28mself\u001b[39m, operation_model, request_dict):\n\u001b[1;32m    114\u001b[0m     logger\u001b[38;5;241m.\u001b[39mdebug(\n\u001b[1;32m    115\u001b[0m         \u001b[38;5;124m\"\u001b[39m\u001b[38;5;124mMaking request for \u001b[39m\u001b[38;5;132;01m%s\u001b[39;00m\u001b[38;5;124m with params: \u001b[39m\u001b[38;5;132;01m%s\u001b[39;00m\u001b[38;5;124m\"\u001b[39m,\n\u001b[1;32m    116\u001b[0m         operation_model,\n\u001b[1;32m    117\u001b[0m         request_dict,\n\u001b[1;32m    118\u001b[0m     )\n\u001b[0;32m--> 119\u001b[0m     \u001b[38;5;28;01mreturn\u001b[39;00m \u001b[38;5;28mself\u001b[39m\u001b[38;5;241m.\u001b[39m_send_request(request_dict, operation_model)\n",
      "File \u001b[0;32m~/anaconda3/envs/recoenv/lib/python3.11/site-packages/botocore/endpoint.py:202\u001b[0m, in \u001b[0;36mEndpoint._send_request\u001b[0;34m(self, request_dict, operation_model)\u001b[0m\n\u001b[1;32m    198\u001b[0m request \u001b[38;5;241m=\u001b[39m \u001b[38;5;28mself\u001b[39m\u001b[38;5;241m.\u001b[39mcreate_request(request_dict, operation_model)\n\u001b[1;32m    199\u001b[0m success_response, exception \u001b[38;5;241m=\u001b[39m \u001b[38;5;28mself\u001b[39m\u001b[38;5;241m.\u001b[39m_get_response(\n\u001b[1;32m    200\u001b[0m     request, operation_model, context\n\u001b[1;32m    201\u001b[0m )\n\u001b[0;32m--> 202\u001b[0m \u001b[38;5;28;01mwhile\u001b[39;00m \u001b[38;5;28mself\u001b[39m\u001b[38;5;241m.\u001b[39m_needs_retry(\n\u001b[1;32m    203\u001b[0m     attempts,\n\u001b[1;32m    204\u001b[0m     operation_model,\n\u001b[1;32m    205\u001b[0m     request_dict,\n\u001b[1;32m    206\u001b[0m     success_response,\n\u001b[1;32m    207\u001b[0m     exception,\n\u001b[1;32m    208\u001b[0m ):\n\u001b[1;32m    209\u001b[0m     attempts \u001b[38;5;241m+\u001b[39m\u001b[38;5;241m=\u001b[39m \u001b[38;5;241m1\u001b[39m\n\u001b[1;32m    210\u001b[0m     \u001b[38;5;28mself\u001b[39m\u001b[38;5;241m.\u001b[39m_update_retries_context(context, attempts, success_response)\n",
      "File \u001b[0;32m~/anaconda3/envs/recoenv/lib/python3.11/site-packages/botocore/endpoint.py:354\u001b[0m, in \u001b[0;36mEndpoint._needs_retry\u001b[0;34m(self, attempts, operation_model, request_dict, response, caught_exception)\u001b[0m\n\u001b[1;32m    352\u001b[0m service_id \u001b[38;5;241m=\u001b[39m operation_model\u001b[38;5;241m.\u001b[39mservice_model\u001b[38;5;241m.\u001b[39mservice_id\u001b[38;5;241m.\u001b[39mhyphenize()\n\u001b[1;32m    353\u001b[0m event_name \u001b[38;5;241m=\u001b[39m \u001b[38;5;124mf\u001b[39m\u001b[38;5;124m\"\u001b[39m\u001b[38;5;124mneeds-retry.\u001b[39m\u001b[38;5;132;01m{\u001b[39;00mservice_id\u001b[38;5;132;01m}\u001b[39;00m\u001b[38;5;124m.\u001b[39m\u001b[38;5;132;01m{\u001b[39;00moperation_model\u001b[38;5;241m.\u001b[39mname\u001b[38;5;132;01m}\u001b[39;00m\u001b[38;5;124m\"\u001b[39m\n\u001b[0;32m--> 354\u001b[0m responses \u001b[38;5;241m=\u001b[39m \u001b[38;5;28mself\u001b[39m\u001b[38;5;241m.\u001b[39m_event_emitter\u001b[38;5;241m.\u001b[39memit(\n\u001b[1;32m    355\u001b[0m     event_name,\n\u001b[1;32m    356\u001b[0m     response\u001b[38;5;241m=\u001b[39mresponse,\n\u001b[1;32m    357\u001b[0m     endpoint\u001b[38;5;241m=\u001b[39m\u001b[38;5;28mself\u001b[39m,\n\u001b[1;32m    358\u001b[0m     operation\u001b[38;5;241m=\u001b[39moperation_model,\n\u001b[1;32m    359\u001b[0m     attempts\u001b[38;5;241m=\u001b[39mattempts,\n\u001b[1;32m    360\u001b[0m     caught_exception\u001b[38;5;241m=\u001b[39mcaught_exception,\n\u001b[1;32m    361\u001b[0m     request_dict\u001b[38;5;241m=\u001b[39mrequest_dict,\n\u001b[1;32m    362\u001b[0m )\n\u001b[1;32m    363\u001b[0m handler_response \u001b[38;5;241m=\u001b[39m first_non_none_response(responses)\n\u001b[1;32m    364\u001b[0m \u001b[38;5;28;01mif\u001b[39;00m handler_response \u001b[38;5;129;01mis\u001b[39;00m \u001b[38;5;28;01mNone\u001b[39;00m:\n",
      "File \u001b[0;32m~/anaconda3/envs/recoenv/lib/python3.11/site-packages/botocore/hooks.py:412\u001b[0m, in \u001b[0;36mEventAliaser.emit\u001b[0;34m(self, event_name, **kwargs)\u001b[0m\n\u001b[1;32m    410\u001b[0m \u001b[38;5;28;01mdef\u001b[39;00m \u001b[38;5;21memit\u001b[39m(\u001b[38;5;28mself\u001b[39m, event_name, \u001b[38;5;241m*\u001b[39m\u001b[38;5;241m*\u001b[39mkwargs):\n\u001b[1;32m    411\u001b[0m     aliased_event_name \u001b[38;5;241m=\u001b[39m \u001b[38;5;28mself\u001b[39m\u001b[38;5;241m.\u001b[39m_alias_event_name(event_name)\n\u001b[0;32m--> 412\u001b[0m     \u001b[38;5;28;01mreturn\u001b[39;00m \u001b[38;5;28mself\u001b[39m\u001b[38;5;241m.\u001b[39m_emitter\u001b[38;5;241m.\u001b[39memit(aliased_event_name, \u001b[38;5;241m*\u001b[39m\u001b[38;5;241m*\u001b[39mkwargs)\n",
      "File \u001b[0;32m~/anaconda3/envs/recoenv/lib/python3.11/site-packages/botocore/hooks.py:256\u001b[0m, in \u001b[0;36mHierarchicalEmitter.emit\u001b[0;34m(self, event_name, **kwargs)\u001b[0m\n\u001b[1;32m    245\u001b[0m \u001b[38;5;28;01mdef\u001b[39;00m \u001b[38;5;21memit\u001b[39m(\u001b[38;5;28mself\u001b[39m, event_name, \u001b[38;5;241m*\u001b[39m\u001b[38;5;241m*\u001b[39mkwargs):\n\u001b[1;32m    246\u001b[0m \u001b[38;5;250m    \u001b[39m\u001b[38;5;124;03m\"\"\"\u001b[39;00m\n\u001b[1;32m    247\u001b[0m \u001b[38;5;124;03m    Emit an event by name with arguments passed as keyword args.\u001b[39;00m\n\u001b[1;32m    248\u001b[0m \n\u001b[0;32m   (...)\u001b[0m\n\u001b[1;32m    254\u001b[0m \u001b[38;5;124;03m             handlers.\u001b[39;00m\n\u001b[1;32m    255\u001b[0m \u001b[38;5;124;03m    \"\"\"\u001b[39;00m\n\u001b[0;32m--> 256\u001b[0m     \u001b[38;5;28;01mreturn\u001b[39;00m \u001b[38;5;28mself\u001b[39m\u001b[38;5;241m.\u001b[39m_emit(event_name, kwargs)\n",
      "File \u001b[0;32m~/anaconda3/envs/recoenv/lib/python3.11/site-packages/botocore/hooks.py:239\u001b[0m, in \u001b[0;36mHierarchicalEmitter._emit\u001b[0;34m(self, event_name, kwargs, stop_on_response)\u001b[0m\n\u001b[1;32m    237\u001b[0m \u001b[38;5;28;01mfor\u001b[39;00m handler \u001b[38;5;129;01min\u001b[39;00m handlers_to_call:\n\u001b[1;32m    238\u001b[0m     logger\u001b[38;5;241m.\u001b[39mdebug(\u001b[38;5;124m'\u001b[39m\u001b[38;5;124mEvent \u001b[39m\u001b[38;5;132;01m%s\u001b[39;00m\u001b[38;5;124m: calling handler \u001b[39m\u001b[38;5;132;01m%s\u001b[39;00m\u001b[38;5;124m'\u001b[39m, event_name, handler)\n\u001b[0;32m--> 239\u001b[0m     response \u001b[38;5;241m=\u001b[39m handler(\u001b[38;5;241m*\u001b[39m\u001b[38;5;241m*\u001b[39mkwargs)\n\u001b[1;32m    240\u001b[0m     responses\u001b[38;5;241m.\u001b[39mappend((handler, response))\n\u001b[1;32m    241\u001b[0m     \u001b[38;5;28;01mif\u001b[39;00m stop_on_response \u001b[38;5;129;01mand\u001b[39;00m response \u001b[38;5;129;01mis\u001b[39;00m \u001b[38;5;129;01mnot\u001b[39;00m \u001b[38;5;28;01mNone\u001b[39;00m:\n",
      "File \u001b[0;32m~/anaconda3/envs/recoenv/lib/python3.11/site-packages/botocore/retryhandler.py:207\u001b[0m, in \u001b[0;36mRetryHandler.__call__\u001b[0;34m(self, attempts, response, caught_exception, **kwargs)\u001b[0m\n\u001b[1;32m    204\u001b[0m     retries_context \u001b[38;5;241m=\u001b[39m kwargs[\u001b[38;5;124m'\u001b[39m\u001b[38;5;124mrequest_dict\u001b[39m\u001b[38;5;124m'\u001b[39m][\u001b[38;5;124m'\u001b[39m\u001b[38;5;124mcontext\u001b[39m\u001b[38;5;124m'\u001b[39m]\u001b[38;5;241m.\u001b[39mget(\u001b[38;5;124m'\u001b[39m\u001b[38;5;124mretries\u001b[39m\u001b[38;5;124m'\u001b[39m)\n\u001b[1;32m    205\u001b[0m     checker_kwargs\u001b[38;5;241m.\u001b[39mupdate({\u001b[38;5;124m'\u001b[39m\u001b[38;5;124mretries_context\u001b[39m\u001b[38;5;124m'\u001b[39m: retries_context})\n\u001b[0;32m--> 207\u001b[0m \u001b[38;5;28;01mif\u001b[39;00m \u001b[38;5;28mself\u001b[39m\u001b[38;5;241m.\u001b[39m_checker(\u001b[38;5;241m*\u001b[39m\u001b[38;5;241m*\u001b[39mchecker_kwargs):\n\u001b[1;32m    208\u001b[0m     result \u001b[38;5;241m=\u001b[39m \u001b[38;5;28mself\u001b[39m\u001b[38;5;241m.\u001b[39m_action(attempts\u001b[38;5;241m=\u001b[39mattempts)\n\u001b[1;32m    209\u001b[0m     logger\u001b[38;5;241m.\u001b[39mdebug(\u001b[38;5;124m\"\u001b[39m\u001b[38;5;124mRetry needed, action of: \u001b[39m\u001b[38;5;132;01m%s\u001b[39;00m\u001b[38;5;124m\"\u001b[39m, result)\n",
      "File \u001b[0;32m~/anaconda3/envs/recoenv/lib/python3.11/site-packages/botocore/retryhandler.py:284\u001b[0m, in \u001b[0;36mMaxAttemptsDecorator.__call__\u001b[0;34m(self, attempt_number, response, caught_exception, retries_context)\u001b[0m\n\u001b[1;32m    279\u001b[0m \u001b[38;5;28;01mif\u001b[39;00m retries_context:\n\u001b[1;32m    280\u001b[0m     retries_context[\u001b[38;5;124m'\u001b[39m\u001b[38;5;124mmax\u001b[39m\u001b[38;5;124m'\u001b[39m] \u001b[38;5;241m=\u001b[39m \u001b[38;5;28mmax\u001b[39m(\n\u001b[1;32m    281\u001b[0m         retries_context\u001b[38;5;241m.\u001b[39mget(\u001b[38;5;124m'\u001b[39m\u001b[38;5;124mmax\u001b[39m\u001b[38;5;124m'\u001b[39m, \u001b[38;5;241m0\u001b[39m), \u001b[38;5;28mself\u001b[39m\u001b[38;5;241m.\u001b[39m_max_attempts\n\u001b[1;32m    282\u001b[0m     )\n\u001b[0;32m--> 284\u001b[0m should_retry \u001b[38;5;241m=\u001b[39m \u001b[38;5;28mself\u001b[39m\u001b[38;5;241m.\u001b[39m_should_retry(\n\u001b[1;32m    285\u001b[0m     attempt_number, response, caught_exception\n\u001b[1;32m    286\u001b[0m )\n\u001b[1;32m    287\u001b[0m \u001b[38;5;28;01mif\u001b[39;00m should_retry:\n\u001b[1;32m    288\u001b[0m     \u001b[38;5;28;01mif\u001b[39;00m attempt_number \u001b[38;5;241m>\u001b[39m\u001b[38;5;241m=\u001b[39m \u001b[38;5;28mself\u001b[39m\u001b[38;5;241m.\u001b[39m_max_attempts:\n\u001b[1;32m    289\u001b[0m         \u001b[38;5;66;03m# explicitly set MaxAttemptsReached\u001b[39;00m\n",
      "File \u001b[0;32m~/anaconda3/envs/recoenv/lib/python3.11/site-packages/botocore/retryhandler.py:320\u001b[0m, in \u001b[0;36mMaxAttemptsDecorator._should_retry\u001b[0;34m(self, attempt_number, response, caught_exception)\u001b[0m\n\u001b[1;32m    316\u001b[0m         \u001b[38;5;28;01mreturn\u001b[39;00m \u001b[38;5;28;01mTrue\u001b[39;00m\n\u001b[1;32m    317\u001b[0m \u001b[38;5;28;01melse\u001b[39;00m:\n\u001b[1;32m    318\u001b[0m     \u001b[38;5;66;03m# If we've exceeded the max attempts we just let the exception\u001b[39;00m\n\u001b[1;32m    319\u001b[0m     \u001b[38;5;66;03m# propogate if one has occurred.\u001b[39;00m\n\u001b[0;32m--> 320\u001b[0m     \u001b[38;5;28;01mreturn\u001b[39;00m \u001b[38;5;28mself\u001b[39m\u001b[38;5;241m.\u001b[39m_checker(attempt_number, response, caught_exception)\n",
      "File \u001b[0;32m~/anaconda3/envs/recoenv/lib/python3.11/site-packages/botocore/retryhandler.py:363\u001b[0m, in \u001b[0;36mMultiChecker.__call__\u001b[0;34m(self, attempt_number, response, caught_exception)\u001b[0m\n\u001b[1;32m    361\u001b[0m \u001b[38;5;28;01mdef\u001b[39;00m \u001b[38;5;21m__call__\u001b[39m(\u001b[38;5;28mself\u001b[39m, attempt_number, response, caught_exception):\n\u001b[1;32m    362\u001b[0m     \u001b[38;5;28;01mfor\u001b[39;00m checker \u001b[38;5;129;01min\u001b[39;00m \u001b[38;5;28mself\u001b[39m\u001b[38;5;241m.\u001b[39m_checkers:\n\u001b[0;32m--> 363\u001b[0m         checker_response \u001b[38;5;241m=\u001b[39m checker(\n\u001b[1;32m    364\u001b[0m             attempt_number, response, caught_exception\n\u001b[1;32m    365\u001b[0m         )\n\u001b[1;32m    366\u001b[0m         \u001b[38;5;28;01mif\u001b[39;00m checker_response:\n\u001b[1;32m    367\u001b[0m             \u001b[38;5;28;01mreturn\u001b[39;00m checker_response\n",
      "File \u001b[0;32m~/anaconda3/envs/recoenv/lib/python3.11/site-packages/botocore/retryhandler.py:247\u001b[0m, in \u001b[0;36mBaseChecker.__call__\u001b[0;34m(self, attempt_number, response, caught_exception)\u001b[0m\n\u001b[1;32m    245\u001b[0m     \u001b[38;5;28;01mreturn\u001b[39;00m \u001b[38;5;28mself\u001b[39m\u001b[38;5;241m.\u001b[39m_check_response(attempt_number, response)\n\u001b[1;32m    246\u001b[0m \u001b[38;5;28;01melif\u001b[39;00m caught_exception \u001b[38;5;129;01mis\u001b[39;00m \u001b[38;5;129;01mnot\u001b[39;00m \u001b[38;5;28;01mNone\u001b[39;00m:\n\u001b[0;32m--> 247\u001b[0m     \u001b[38;5;28;01mreturn\u001b[39;00m \u001b[38;5;28mself\u001b[39m\u001b[38;5;241m.\u001b[39m_check_caught_exception(\n\u001b[1;32m    248\u001b[0m         attempt_number, caught_exception\n\u001b[1;32m    249\u001b[0m     )\n\u001b[1;32m    250\u001b[0m \u001b[38;5;28;01melse\u001b[39;00m:\n\u001b[1;32m    251\u001b[0m     \u001b[38;5;28;01mraise\u001b[39;00m \u001b[38;5;167;01mValueError\u001b[39;00m(\u001b[38;5;124m\"\u001b[39m\u001b[38;5;124mBoth response and caught_exception are None.\u001b[39m\u001b[38;5;124m\"\u001b[39m)\n",
      "File \u001b[0;32m~/anaconda3/envs/recoenv/lib/python3.11/site-packages/botocore/retryhandler.py:416\u001b[0m, in \u001b[0;36mExceptionRaiser._check_caught_exception\u001b[0;34m(self, attempt_number, caught_exception)\u001b[0m\n\u001b[1;32m    408\u001b[0m \u001b[38;5;28;01mdef\u001b[39;00m \u001b[38;5;21m_check_caught_exception\u001b[39m(\u001b[38;5;28mself\u001b[39m, attempt_number, caught_exception):\n\u001b[1;32m    409\u001b[0m     \u001b[38;5;66;03m# This is implementation specific, but this class is useful by\u001b[39;00m\n\u001b[1;32m    410\u001b[0m     \u001b[38;5;66;03m# coordinating with the MaxAttemptsDecorator.\u001b[39;00m\n\u001b[0;32m   (...)\u001b[0m\n\u001b[1;32m    414\u001b[0m     \u001b[38;5;66;03m# the MaxAttemptsDecorator is not interested in retrying the exception\u001b[39;00m\n\u001b[1;32m    415\u001b[0m     \u001b[38;5;66;03m# then this exception just propogates out past the retry code.\u001b[39;00m\n\u001b[0;32m--> 416\u001b[0m     \u001b[38;5;28;01mraise\u001b[39;00m caught_exception\n",
      "File \u001b[0;32m~/anaconda3/envs/recoenv/lib/python3.11/site-packages/botocore/endpoint.py:281\u001b[0m, in \u001b[0;36mEndpoint._do_get_response\u001b[0;34m(self, request, operation_model, context)\u001b[0m\n\u001b[1;32m    279\u001b[0m     http_response \u001b[38;5;241m=\u001b[39m first_non_none_response(responses)\n\u001b[1;32m    280\u001b[0m     \u001b[38;5;28;01mif\u001b[39;00m http_response \u001b[38;5;129;01mis\u001b[39;00m \u001b[38;5;28;01mNone\u001b[39;00m:\n\u001b[0;32m--> 281\u001b[0m         http_response \u001b[38;5;241m=\u001b[39m \u001b[38;5;28mself\u001b[39m\u001b[38;5;241m.\u001b[39m_send(request)\n\u001b[1;32m    282\u001b[0m \u001b[38;5;28;01mexcept\u001b[39;00m HTTPClientError \u001b[38;5;28;01mas\u001b[39;00m e:\n\u001b[1;32m    283\u001b[0m     \u001b[38;5;28;01mreturn\u001b[39;00m (\u001b[38;5;28;01mNone\u001b[39;00m, e)\n",
      "File \u001b[0;32m~/anaconda3/envs/recoenv/lib/python3.11/site-packages/botocore/endpoint.py:377\u001b[0m, in \u001b[0;36mEndpoint._send\u001b[0;34m(self, request)\u001b[0m\n\u001b[1;32m    376\u001b[0m \u001b[38;5;28;01mdef\u001b[39;00m \u001b[38;5;21m_send\u001b[39m(\u001b[38;5;28mself\u001b[39m, request):\n\u001b[0;32m--> 377\u001b[0m     \u001b[38;5;28;01mreturn\u001b[39;00m \u001b[38;5;28mself\u001b[39m\u001b[38;5;241m.\u001b[39mhttp_session\u001b[38;5;241m.\u001b[39msend(request)\n",
      "File \u001b[0;32m~/anaconda3/envs/recoenv/lib/python3.11/site-packages/botocore/httpsession.py:501\u001b[0m, in \u001b[0;36mURLLib3Session.send\u001b[0;34m(self, request)\u001b[0m\n\u001b[1;32m    499\u001b[0m     \u001b[38;5;28;01mraise\u001b[39;00m ConnectTimeoutError(endpoint_url\u001b[38;5;241m=\u001b[39mrequest\u001b[38;5;241m.\u001b[39murl, error\u001b[38;5;241m=\u001b[39me)\n\u001b[1;32m    500\u001b[0m \u001b[38;5;28;01mexcept\u001b[39;00m URLLib3ReadTimeoutError \u001b[38;5;28;01mas\u001b[39;00m e:\n\u001b[0;32m--> 501\u001b[0m     \u001b[38;5;28;01mraise\u001b[39;00m ReadTimeoutError(endpoint_url\u001b[38;5;241m=\u001b[39mrequest\u001b[38;5;241m.\u001b[39murl, error\u001b[38;5;241m=\u001b[39me)\n\u001b[1;32m    502\u001b[0m \u001b[38;5;28;01mexcept\u001b[39;00m ProtocolError \u001b[38;5;28;01mas\u001b[39;00m e:\n\u001b[1;32m    503\u001b[0m     \u001b[38;5;28;01mraise\u001b[39;00m ConnectionClosedError(\n\u001b[1;32m    504\u001b[0m         error\u001b[38;5;241m=\u001b[39me, request\u001b[38;5;241m=\u001b[39mrequest, endpoint_url\u001b[38;5;241m=\u001b[39mrequest\u001b[38;5;241m.\u001b[39murl\n\u001b[1;32m    505\u001b[0m     )\n",
      "\u001b[0;31mReadTimeoutError\u001b[0m: Read timeout on endpoint URL: \"https://runtime.sagemaker.ap-south-1.amazonaws.com/endpoints/huggingface-pytorch-tgi-inference-2023-12-01-00-40-05-774/invocations\""
     ]
    }
   ],
   "source": [
    "va_new_3 = get_attributes_for_article_ids(test_article_ids)"
   ]
  },
  {
   "cell_type": "code",
   "execution_count": 318,
   "id": "282483ce-7367-471e-9eb3-6e2703acfe82",
   "metadata": {
    "tags": []
   },
   "outputs": [],
   "source": [
    "k = get_attributes_for_article_ids(['651e1a84a662d76276b88aee'])"
   ]
  },
  {
   "cell_type": "code",
   "execution_count": 320,
   "id": "923f16e8-0de9-4adc-b0f2-78ab13b5f702",
   "metadata": {
    "tags": []
   },
   "outputs": [
    {
     "data": {
      "text/plain": [
       "'You are the chief editor for a leading Indian financial and business news website. You evaluate critical attributes of articles to gate keep content quality. For many attributes, you will first provide a brief analysis of 15 to 30 words, followed by assessment.\\n1. analysis_is_financial_or_business_news (short text) : <analyse if article pertains to finance/business or not. government policies directly impacting indian corporations or investors are ok, but not if aren\\'t>\\n2. is_financial_or_business_news (True or False) : <True or False based on previous attribute>\\n3. analysis_of_relevant_for_india (short text) : <analyse if article is relevant for indians. for example articles about 401k or small foreign companies won\\'t be relevant for india. however changes to fed interest rates or nasdaq or large multinational important news will be relevant>\\n4. relevant_for_india (True or False) : <True or False based on previous attribute>\\n5. analysis_of_article_validity_duration (short text) : <Analyse relevance duration: Stock fluctuations, 1 day; significant policy changes, weeks; educational content is timeless unless it refers to any tax or other regulations in which case only 30 days. International news in India has shorter lifespan. popular topics are usually not timeless; quarterly analysis is valid for a week, yearly for a couple of weeks and a much longer one for a month>\\n6. article_validity_duration (one of 1, 3, 7, 14, 30, -1) : <calculate number of days based on previous attribute. -1: timeless. 1: article is relevant only for that day. 3: for a couple of days. 7: for a week. 14: for a couple of weeks. 30: for a month>\\n7. analysis_of_popularity (short text) : <analyse likely popularity of article - if its for niche audience, moderate_popularity or should be part of breaking_news section, depending on number of people who will be impacted by the news and the scale of the event. foreign entities known in india but not very popular will be mostly niche or rarely moderately popular. articles targeted to very specific business or pratices will be niche. infotainment business and financial articles with some drama are likely to be more popular. articles with a list of rules without compelling story-telling will be for niche audience>\\n8. popularity (one of niche, moderately_popular, breaking_news) : <based on previous attribute>\\n9. analysis_of_article_type (short text) : <analyse if the article is majorly factual, is an opinion piece, analysis, educational or likely sponsored. factual articles relay events. opinion pieces have predictions either from the author or from statements without data. analysis pieces have substantial data to justify. if an article is overly zealous on certain stock and seems like an ad, then it is sponsored>\\n10. article_type (one of fact, opinion, analysis, educational, sponsored) : <based on previous attribute>\\n11. analysis_of_article_sentiment (short_text): <analyse if the sentiment of the article is bullish, bearish or NA. balanced is NA>\\n12. article_sentiment (one of bull, bear, NA): <based on previous attribute>\\n13. headline_suggestion (short text) : <Write a headline based on the content of the article>\\n14. summary (text of 60 words) : <Generate concise, entity-dense summary. The summary should become highly dense but easily understood without the Article. Don\\'t keep the summary too short, but limit it to no more than 60 words>\\nyour response should be a json structure with all the 14 above keys without missing any key. It is very important that the response is directly readable with json.loads(). no preamble or postamble. respond in the exact following structure:\\n{\\n\"analysis_is_financial_or_business_news\": \"\",\\n\"is_financial_or_business_news\": \"\",\\n\"analysis_of_relevant_for_india\": \"\",\\n\"relevant_for_india\": \"\",\\n\"analysis_of_article_validity_duration\": \"\",\\n\"article_validity_duration\": \"\",\\n\"analysis_of_popularity\": \"\",\\n\"popularity\": \"\",\\n\"analysis_of_article_type\": \"\",'"
      ]
     },
     "execution_count": 320,
     "metadata": {},
     "output_type": "execute_result"
    }
   ],
   "source": [
    "k['llm_attributes']"
   ]
  },
  {
   "cell_type": "code",
   "execution_count": 293,
   "id": "6eb905f9-46a7-4970-8550-bc9f837700e1",
   "metadata": {
    "scrolled": true,
    "tags": []
   },
   "outputs": [
    {
     "data": {
      "text/plain": [
       "{'651e1a84a662d76276b88aee': {'analysis_is_financial_or_business_news': 'The article discusses changes to a train service, not related to finance or business.',\n",
       "  'is_financial_or_business_news': False,\n",
       "  'analysis_of_relevant_for_india': 'The article is relevant for Indians as it discusses changes to a popular train service in India.',\n",
       "  'relevant_for_india': True,\n",
       "  'analysis_of_article_validity_duration': 'The article is about a change in a train service which will remain in effect until it is changed again.',\n",
       "  'article_validity_duration': -1,\n",
       "  'analysis_of_popularity': 'The article targets a specific audience - those interested in Indian trains, and is likely to be moderately popular among that group.',\n",
       "  'popularity': 'moderately_popular',\n",
       "  'analysis_of_article_type': 'The article is factual, providing details about changes to a train service.',\n",
       "  'article_type': 'fact',\n",
       "  'analysis_of_article_sentiment': 'The article is neutral, not expressing any bullish or bearish sentiment.',\n",
       "  'article_sentiment': 'NA',\n",
       "  'headline_suggestion': 'Second Vistadome Coach to be Attached to Mumbai-Goa Tejas Express',\n",
       "  'summary': 'The Tejas Express train operating between Mumbai and Karmali in Goa will have the second Vistadome coach, providing a panoramic view of the surroundings, from April 14.'},\n",
       " '6555cc534b13023f934a7aa8': {'analysis_is_financial_or_business_news': 'The article discusses mutual fund investments in Indian stocks, making it financial news.',\n",
       "  'is_financial_or_business_news': True,\n",
       "  'analysis_of_relevant_for_india': 'The article discusses mutual fund investments in Indian stocks, making it relevant for Indians.',\n",
       "  'relevant_for_india': True,\n",
       "  'analysis_of_article_validity_duration': 'The article is educational and provides data about mutual fund investments in March 2023.',\n",
       "  'article_validity_duration': -1,\n",
       "  'analysis_of_popularity': 'The article is about mutual funds in India, which may appeal to a niche audience interested in financial investments.',\n",
       "  'popularity': 'niche',\n",
       "  'analysis_of_article_type': 'The article is factual and provides data on mutual fund investments.',\n",
       "  'article_type': 'fact',\n",
       "  'analysis_of_article_sentiment': 'The article is neutral as it provides data on mutual fund investments.',\n",
       "  'article_sentiment': 'NA',\n",
       "  'headline_suggestion': 'Mutual Fund Investments in India: A Comprehensive Overview of March 2023',\n",
       "  'summary': 'Mutual funds in India were seen investing in large, mid, and small-cap stocks in March 2023, as per data from ICICI Direct and Ace Equity.'},\n",
       " '6555c5694b13023f9348dcc0': {'analysis_is_financial_or_business_news': 'The article discusses the inflows of foreign direct investments in the Philippines.',\n",
       "  'is_financial_or_business_news': True,\n",
       "  'analysis_of_relevant_for_india': 'The article discusses financial trends in the Philippines, not directly relevant to India.',\n",
       "  'relevant_for_india': False,\n",
       "  'analysis_of_article_validity_duration': 'The article discusses a specific monthly financial trend, making it relevant for a short period.',\n",
       "  'article_validity_duration': 3,\n",
       "  'analysis_of_popularity': 'The article discusses a specific financial trend in the Philippines, which may be of interest to a niche audience.',\n",
       "  'popularity': 'niche',\n",
       "  'analysis_of_article_type': 'The article presents factual data on foreign direct investment inflows in the Philippines.',\n",
       "  'article_type': 'fact',\n",
       "  'analysis_of_article_sentiment': 'The article presents a neutral stance, presenting facts without any bullish or bearish sentiment.',\n",
       "  'article_sentiment': 'NA',\n",
       "  'headline_suggestion': 'Net Foreign Direct Investment in Philippines Reaches Highest Level in Three Months',\n",
       "  'summary': 'Net foreign direct investments (FDI) in the Philippines reached its highest level in three months in July, driven by improved investor sentiment.'},\n",
       " '651e1b59a662d76276b88cc8': {'analysis_is_financial_or_business_news': \"Article discusses India's economic policies and investment prospects, which pertains to finance.\",\n",
       "  'is_financial_or_business_news': True,\n",
       "  'analysis_of_relevant_for_india': \"The article discusses India's economic policies, making it relevant for Indians.\",\n",
       "  'relevant_for_india': True,\n",
       "  'analysis_of_article_validity_duration': 'The article discusses policies and economic prospects, which has a longer validity.',\n",
       "  'article_validity_duration': 30,\n",
       "  'analysis_of_popularity': \"The article discusses India's economic policies, which may attract a niche audience.\",\n",
       "  'popularity': 'niche',\n",
       "  'analysis_of_article_type': \"The article is factual, providing details about India's economic policies and discussions.\",\n",
       "  'article_type': 'fact',\n",
       "  'analysis_of_article_sentiment': 'The article is neutral, discussing facts and potential opportunities.',\n",
       "  'article_sentiment': 'NA',\n",
       "  'headline_suggestion': \"India's Economic Policies Invite Investments Amidst Global Turmoil\",\n",
       "  'summary': \"India's Finance Minister, Nirmala Sitharaman, invited American businesses to invest in India, highlighting India's economic policies and their potential for growth.\"},\n",
       " '6555c1124b13023f9348ce03': {'analysis_is_financial_or_business_news': \"The article discusses the US sanctions imposed on entities related to Russia's war in Ukraine, affecting global business and financial sectors.\",\n",
       "  'is_financial_or_business_news': True,\n",
       "  'analysis_of_relevant_for_india': 'The article discusses global financial sanctions and their impact on international business, making it relevant for Indian readers.',\n",
       "  'relevant_for_india': True,\n",
       "  'analysis_of_article_validity_duration': 'The article is about ongoing sanctions, which may remain relevant for weeks or months until changes occur.',\n",
       "  'article_validity_duration': 30,\n",
       "  'analysis_of_popularity': 'The article covers global sanctions and their implications on international business and finance, making it relevant to a broad audience.',\n",
       "  'popularity': 'moderately_popular',\n",
       "  'analysis_of_article_type': 'The article is factual, providing details about the US sanctions and their impact.',\n",
       "  'article_type': 'fact',\n",
       "  'analysis_of_article_sentiment': 'The article maintains a neutral sentiment, reporting on the sanctions without expressing a bullish or bearish outlook.',\n",
       "  'article_sentiment': 'NA',\n",
       "  'headline_suggestion': 'US Sanctions Target Russian Entities Amid Ukraine War, Affect Global Businesses',\n",
       "  'summary': \"The US imposed sanctions on over 120 targets linked to Russia's war in Ukraine, targeting Russian elites and companies in global financial sectors.\"},\n",
       " '651de15fa662d76276b7fecf': {'analysis_is_financial_or_business_news': 'The article discusses the launch of an online system for property registration, which pertains to the business of real estate.',\n",
       "  'is_financial_or_business_news': True,\n",
       "  'analysis_of_relevant_for_india': 'The article is relevant for India as it discusses an important system implemented by the Indian revenue department, impacting the real estate sector.',\n",
       "  'relevant_for_india': True,\n",
       "  'analysis_of_article_validity_duration': 'The article is about a new system, which is expected to have a long-term impact on property registration process, making it relevant for several months.',\n",
       "  'article_validity_duration': 30,\n",
       "  'analysis_of_popularity': 'The article covers a new system that impacts the real estate sector, which is a significant industry in India. Hence, it should have moderate popularity.',\n",
       "  'popularity': 'moderately_popular',\n",
       "  'analysis_of_article_type': 'The article is factual, providing details about the new system and its impact.',\n",
       "  'article_type': 'fact',\n",
       "  'analysis_of_article_sentiment': 'The article is neutral, providing factual information about the new system.',\n",
       "  'article_sentiment': 'NA',\n",
       "  'headline_suggestion': 'Revolutionary System Launched for Property Registration in India',\n",
       "  'summary': 'The Indian revenue department has introduced an online system for property registration, including property documents, wills, leases, rent agreements, and others. This pilot project is being implemented at Defence Colony and Najafgarh sub-registrar offices.'},\n",
       " '6555ccc84b13023f934ad130': {'analysis_is_financial_or_business_news': \"The article discusses the upcoming listing of Mankind Pharma's shares on the BSE and NSE.\",\n",
       "  'is_financial_or_business_news': True,\n",
       "  'analysis_of_relevant_for_india': 'The article is relevant for Indians as it discusses the listing of an Indian pharmaceutical company on Indian stock exchanges.',\n",
       "  'relevant_for_india': True,\n",
       "  'analysis_of_article_validity_duration': \"The article is about a specific event - the listing of Mankind Pharma's shares on stock exchanges. The event is scheduled to happen on a specific date (May 9), making it time-bound.\",\n",
       "  'article_validity_duration': 1,\n",
       "  'analysis_of_popularity': 'The article covers a major stock market event involving a popular Indian company. Hence, it should attract a wide audience.',\n",
       "  'popularity': 'breaking_news',\n",
       "  'analysis_of_article_type': \"The article is factual as it provides information about the upcoming listing of Mankind Pharma's shares on stock exchanges.\",\n",
       "  'article_type': 'fact',\n",
       "  'analysis_of_article_sentiment': 'The sentiment of the article is neutral as it provides factual information about the upcoming listing.',\n",
       "  'article_sentiment': 'NA',\n",
       "  'headline_suggestion': \"Mankind Pharma's Shares Listing on Stock Exchanges: A Look at the Expectations\",\n",
       "  'summary': \"Mankind Pharma's shares are set to debut on the BSE and NSE on May 9. The company's grey market premium is at 120, indicating a bullish sentiment towards the listing.\"},\n",
       " '65316faa1e5cc42b1b141024': {'analysis_is_financial_or_business_news': \"Article pertains to Sebi's decision to reduce listing time for companies from six to three days.\",\n",
       "  'is_financial_or_business_news': True,\n",
       "  'analysis_of_relevant_for_india': \"Article pertains to a significant change in Sebi's policies, relevant for Indian corporations and investors.\",\n",
       "  'relevant_for_india': True,\n",
       "  'analysis_of_article_validity_duration': \"The change in Sebi's policy is significant and will have long-term implications.\",\n",
       "  'article_validity_duration': 30,\n",
       "  'analysis_of_popularity': \"The change in Sebi's policy will impact a large number of companies and investors, making it moderately popular.\",\n",
       "  'popularity': 'moderately_popular',\n",
       "  'analysis_of_article_type': \"The article is factual, reporting Sebi's policy change.\",\n",
       "  'article_type': 'fact',\n",
       "  'analysis_of_article_sentiment': \"Neutral sentiment as it's a factual report.\",\n",
       "  'article_sentiment': 'NA',\n",
       "  'headline_suggestion': 'Sebi Halves Listing Time for Companies to Three Days',\n",
       "  'summary': 'Sebi has reduced the listing time for companies on stock exchanges to three days from six days, aiming to enhance ease of doing business for issuers and provide investors with quicker access to capital and liquidity.'},\n",
       " '6555cc194b13023f934a4fa1': {'analysis_is_financial_or_business_news': 'The article discusses the launch of a new feature phone by Reliance Industries, impacting the telecom industry.',\n",
       "  'is_financial_or_business_news': True,\n",
       "  'analysis_of_relevant_for_india': 'The article discusses a significant development in the Indian telecom industry, thus making it relevant to Indian readers.',\n",
       "  'relevant_for_india': True,\n",
       "  'analysis_of_article_validity_duration': 'The news is about a new product launch and its impact on the market, which will remain relevant for a few weeks.',\n",
       "  'article_validity_duration': 14,\n",
       "  'analysis_of_popularity': 'The article covers a significant event in the Indian telecom industry, making it likely to be moderately popular.',\n",
       "  'popularity': 'moderately_popular',\n",
       "  'analysis_of_article_type': 'The article is factual, providing details about the new product launch, its impact on the market, and opinions from analysts.',\n",
       "  'article_type': 'fact',\n",
       "  'analysis_of_article_sentiment': 'The article maintains a neutral sentiment, presenting facts about the new product launch.',\n",
       "  'article_sentiment': 'NA',\n",
       "  'headline_suggestion': 'Reliance Industries Launches Disruptive JioBharat Feature Phone',\n",
       "  'summary': 'Reliance Industries has launched a new feature phone, JioBharat, priced at Rs 999, aiming to disrupt the Indian telecom industry.'},\n",
       " '651de04fa662d76276b7fbfb': {'analysis_is_financial_or_business_news': 'The article pertains to politics, not finance or business.',\n",
       "  'is_financial_or_business_news': False,\n",
       "  'analysis_of_relevant_for_india': 'The news about Mark Ridley Thomas is of local interest and does not impact Indian finance or business.',\n",
       "  'relevant_for_india': False,\n",
       "  'analysis_of_article_validity_duration': 'This news is about a legal decision and will remain relevant until the next significant update.',\n",
       "  'article_validity_duration': 30,\n",
       "  'analysis_of_popularity': 'The article covers a public figure and a significant legal decision, which may attract moderate attention.',\n",
       "  'popularity': 'moderately_popular',\n",
       "  'analysis_of_article_type': 'The article is factual and provides details about the legal proceedings and sentencing of Mark Ridley Thomas.',\n",
       "  'article_type': 'fact',\n",
       "  'analysis_of_article_sentiment': 'The sentiment of the article is neutral as it presents facts about the legal proceedings.',\n",
       "  'article_sentiment': 'NA',\n",
       "  'headline_suggestion': 'Mark Ridley Thomas Sentenced to 42 Months in Prison for Corruption Charges',\n",
       "  'summary': 'Former Los Angeles Supervisor and City Councilman Mark Ridley Thomas has been sentenced to three years and six months in prison for corruption charges. He was accused of voting in favor of county contracts favoring the University of South Carolina, which would have benefited his son.'},\n",
       " '6555cb974b13023f9349f4ae': {'analysis_is_financial_or_business_news': 'The article discusses founder burnout and its impact on businesses, indicating a financial aspect.',\n",
       "  'is_financial_or_business_news': True,\n",
       "  'analysis_of_relevant_for_india': 'The topic is relevant globally, including India, as it affects businesses and employees globally.',\n",
       "  'relevant_for_india': True,\n",
       "  'analysis_of_article_validity_duration': \"The topic is educational and doesn't involve time-sensitive information, making it timeless.\",\n",
       "  'article_validity_duration': -1,\n",
       "  'analysis_of_popularity': 'The article is relevant to a broad audience, especially business owners and entrepreneurs, making it moderately popular.',\n",
       "  'popularity': 'moderately_popular',\n",
       "  'analysis_of_article_type': 'The article is educational, providing insights into the causes of burnout and how it impacts businesses.',\n",
       "  'article_type': 'educational',\n",
       "  'analysis_of_article_sentiment': 'The article is neutral and informative, neither bullish nor bearish.',\n",
       "  'article_sentiment': 'NA',\n",
       "  'headline_suggestion': 'Overworked Founders Turn to Wellness Retreats to Combat Burnout',\n",
       "  'summary': \"Founders like Anthony Lorubbio are overworked, leading to burnout. They're turning to wellness retreats to rejuvenate, including a solo journey through the Southwestern US.\"},\n",
       " '6555cc4c4b13023f934a75cf': {'analysis_is_financial_or_business_news': \"Article discusses India's investment prospects, and the potential impact of Chinese demand on India's growth.\",\n",
       "  'is_financial_or_business_news': True,\n",
       "  'analysis_of_relevant_for_india': \"Article discusses India's economy and investment potential, making it relevant for Indian investors.\",\n",
       "  'relevant_for_india': True,\n",
       "  'analysis_of_article_validity_duration': 'This article discusses ongoing trends and forecasts, making it relevant for a few weeks.',\n",
       "  'article_validity_duration': 14,\n",
       "  'analysis_of_popularity': \"The article discusses India's investment landscape, making it moderately popular among investors and economists.\",\n",
       "  'popularity': 'moderately_popular',\n",
       "  'analysis_of_article_type': \"The article is factual, providing insights into India's economic outlook.\",\n",
       "  'article_type': 'fact',\n",
       "  'analysis_of_article_sentiment': \"The article is bullish, predicting India's growth and potential despite challenges.\",\n",
       "  'article_sentiment': 'bull',\n",
       "  'headline_suggestion': \"India's Growth Prospects: A Bullish Outlook Amidst Chinese Challenges\",\n",
       "  'summary': \"India's economy, supported by Nifty's 21-DMA, is expected to continue its uptrend. However, potential challenges include potential softening demand from China.\"},\n",
       " '652ebb961e5cc42b1b139924': {'analysis_is_financial_or_business_news': 'The article is a fable about trading, a topic related to finance.',\n",
       "  'is_financial_or_business_news': True,\n",
       "  'analysis_of_relevant_for_india': 'The article is universal in nature and applies to trading in general, hence it is relevant for Indian readers.',\n",
       "  'relevant_for_india': True,\n",
       "  'analysis_of_article_validity_duration': 'The article is educational and timeless in nature as it discusses the trading mindset, which is relevant regardless of market conditions.',\n",
       "  'article_validity_duration': -1,\n",
       "  'analysis_of_popularity': 'The article is likely to be popular among traders and investors as it discusses a common trading scenario.',\n",
       "  'popularity': 'moderately_popular',\n",
       "  'analysis_of_article_type': 'The article is a narrative of a trading incident and contains lessons from it, making it educational in nature.',\n",
       "  'article_type': 'educational',\n",
       "  'analysis_of_article_sentiment': 'The article is neutral as it does not express a bullish or bearish viewpoint.',\n",
       "  'article_sentiment': 'NA',\n",
       "  'headline_suggestion': 'A Trading Fable: Lessons from a Novice Trader',\n",
       "  'summary': 'The article is a fable about a novice trader named Bert who tried to aggressively trade a $30,000 account. It discusses his misguided approach, and the lessons that can be learned from it.'},\n",
       " '6555cb9f4b13023f9349fa84': {'analysis_is_financial_or_business_news': 'The article discusses tax implications of NFTs, a financial asset.',\n",
       "  'is_financial_or_business_news': True,\n",
       "  'analysis_of_relevant_for_india': 'The article is about US tax laws on NFTs, which is not directly relevant to Indian tax laws.',\n",
       "  'relevant_for_india': False,\n",
       "  'analysis_of_article_validity_duration': 'The article is educational and provides information about the tax treatment of NFTs. It is not time-bound.',\n",
       "  'article_validity_duration': -1,\n",
       "  'analysis_of_popularity': 'The topic is specific to NFT owners or investors, making it niche.',\n",
       "  'popularity': 'niche',\n",
       "  'analysis_of_article_type': 'The article is educational and informative, providing insights into the tax implications of NFTs.',\n",
       "  'article_type': 'educational',\n",
       "  'analysis_of_article_sentiment': 'The article is neutral, providing factual information on NFT taxation.',\n",
       "  'article_sentiment': 'NA',\n",
       "  'headline_suggestion': 'Understanding Tax Treatment of NFTs: A Comprehensive Guide',\n",
       "  'summary': 'The IRS seeks public comments on tax treatment of NFTs, categorizing them as collectibles, which could result in higher capital gains tax rates.'},\n",
       " '6555ccc94b13023f934ad203': {'analysis_is_financial_or_business_news': \"The article discusses the concept of 'Hyperbitcoinisation', a prediction of Bitcoin's future role in global finance.\",\n",
       "  'is_financial_or_business_news': True,\n",
       "  'analysis_of_relevant_for_india': 'The article discusses a global trend that impacts the financial market, which is relevant to Indians as well.',\n",
       "  'relevant_for_india': True,\n",
       "  'analysis_of_article_validity_duration': 'The topic is educational and does not refer to any time-bound events or trends, making it timeless.',\n",
       "  'article_validity_duration': -1,\n",
       "  'analysis_of_popularity': \"The article covers a popular topic in the financial sector, Bitcoin's potential role in the future of finance, which should attract a broad audience.\",\n",
       "  'popularity': 'moderately_popular',\n",
       "  'analysis_of_article_type': \"The article is educational, explaining what 'Hyperbitcoinisation' is and its potential implications.\",\n",
       "  'article_type': 'educational',\n",
       "  'analysis_of_article_sentiment': 'The article is neutral, providing information without expressing a bullish or bearish sentiment.',\n",
       "  'article_sentiment': 'NA',\n",
       "  'headline_suggestion': \"Hyperbitcoinisation: A Prediction of Bitcoin's Future Role in Global Finance\",\n",
       "  'summary': \"Hyperbitcoinisation is a prediction that Bitcoin will be adopted as the world's primary monetary reserve, replacing fiat currencies. The article cites evidence from the growth of Bitcoin ownership and expert predictions. It also discusses the potential implications of such a shift.\"},\n",
       " '651debaaa662d76276b819f6': {'analysis_is_financial_or_business_news': 'The article discusses a federal investigation into election fraud, which is not related to finance or business.',\n",
       "  'is_financial_or_business_news': False,\n",
       "  'analysis_of_relevant_for_india': 'The article is about a US election investigation, which is not relevant for Indian audience.',\n",
       "  'relevant_for_india': False,\n",
       "  'analysis_of_article_validity_duration': 'This article is about a long-term investigation, making it relevant for weeks.',\n",
       "  'article_validity_duration': 14,\n",
       "  'analysis_of_popularity': 'The article pertains to a specific investigation in the US, which may not have broad appeal.',\n",
       "  'popularity': 'niche',\n",
       "  'analysis_of_article_type': 'The article is factual, providing details about a federal investigation.',\n",
       "  'article_type': 'fact',\n",
       "  'analysis_of_article_sentiment': 'The article maintains a neutral tone, neither bullish nor bearish.',\n",
       "  'article_sentiment': 'NA',\n",
       "  'headline_suggestion': 'Probe into 2020 Election Fraud Targets Former President Trump',\n",
       "  'summary': 'Federal prosecutors are investigating efforts by Trump allies to overturn the 2020 election, including the creation of fake electors from states won by Biden.'},\n",
       " '6555cac44b13023f9349673f': {'analysis_is_financial_or_business_news': \"The article is about Samsung's decision to ban the use of AI tools like ChatGPT for employees due to misuse.\",\n",
       "  'is_financial_or_business_news': True,\n",
       "  'analysis_of_relevant_for_india': 'The news is about Samsung, a global company, and its actions regarding AI use among employees. This is relevant to Indian readers.',\n",
       "  'relevant_for_india': True,\n",
       "  'analysis_of_article_validity_duration': 'The article discusses a recent corporate decision. Its relevance will be for a short period as it is a recent event.',\n",
       "  'article_validity_duration': 7,\n",
       "  'analysis_of_popularity': \"The news is about a major company's decision and has implications for AI usage. It is likely to be moderately popular.\",\n",
       "  'popularity': 'moderately_popular',\n",
       "  'analysis_of_article_type': 'The article is factual and presents the events that occurred.',\n",
       "  'article_type': 'fact',\n",
       "  'analysis_of_article_sentiment': 'The article is neutral and simply states the facts.',\n",
       "  'article_sentiment': 'NA',\n",
       "  'headline_suggestion': 'Samsung Bans AI Use Among Employees Amid Misuse',\n",
       "  'summary': 'Samsung has banned the use of AI tools like ChatGPT among employees due to misuse.'},\n",
       " '65316f5e1e5cc42b1b13fbde': {'analysis_is_financial_or_business_news': 'The article discusses the performance of Servotech Power Systems, a stock, in the Indian market.',\n",
       "  'is_financial_or_business_news': True,\n",
       "  'analysis_of_relevant_for_india': 'The article discusses an Indian stock, Servotech Power Systems, which is relevant for Indian investors.',\n",
       "  'relevant_for_india': True,\n",
       "  'analysis_of_article_validity_duration': 'The article discusses the stock performance, which is relevant for a day.',\n",
       "  'article_validity_duration': 1,\n",
       "  'analysis_of_popularity': 'The article discusses a stock, which is relevant to a niche audience of investors.',\n",
       "  'popularity': 'niche',\n",
       "  'analysis_of_article_type': 'The article is factual, providing information about the stock performance.',\n",
       "  'article_type': 'fact',\n",
       "  'analysis_of_article_sentiment': 'The article is bullish, discussing the positive performance of the stock.',\n",
       "  'article_sentiment': 'bull',\n",
       "  'headline_suggestion': 'Servotech Power Systems Surges 1350% in a Year, Hits Upper Circuit After Q1 Results',\n",
       "  'summary': 'Shares of Servotech Power Systems, a small-cap stock, have surged 1350% in the past year, reaching the upper circuit on the NSE.'},\n",
       " '652cdf9950af0e25a912312f': {'analysis_is_financial_or_business_news': 'The article discusses the rising inflows in thematic and hybrid mutual funds in India.',\n",
       "  'is_financial_or_business_news': True,\n",
       "  'analysis_of_relevant_for_india': 'The article discusses the mutual fund investments in India, making it relevant for Indian readers.',\n",
       "  'relevant_for_india': True,\n",
       "  'analysis_of_article_validity_duration': 'The article discusses the recent trends in mutual fund investments, which is relevant for a month.',\n",
       "  'article_validity_duration': 30,\n",
       "  'analysis_of_popularity': 'The article discusses the mutual fund investments, which is relevant for a niche audience interested in mutual funds.',\n",
       "  'popularity': 'niche',\n",
       "  'analysis_of_article_type': 'The article is factual, presenting data on mutual fund investments.',\n",
       "  'article_type': 'fact',\n",
       "  'analysis_of_article_sentiment': 'The sentiment is bullish as it discusses the increasing inflows into mutual funds.',\n",
       "  'article_sentiment': 'bull',\n",
       "  'headline_suggestion': 'Thematic and Hybrid Mutual Funds Witness Rising Inflows in September',\n",
       "  'summary': 'The Association of Mutual Funds in India (AMFI) reports that the mutual fund sector witnessed inflows worth ₹16000 crores in September, indicating increased investor interest in thematic and hybrid funds.'},\n",
       " '652ebbe61e5cc42b1b139c4f': {'analysis_is_financial_or_business_news': 'The article discusses trading psychology, making it relevant to finance.',\n",
       "  'is_financial_or_business_news': True,\n",
       "  'analysis_of_relevant_for_india': 'The article is about trading psychology, applicable universally, including Indian traders.',\n",
       "  'relevant_for_india': True,\n",
       "  'analysis_of_article_validity_duration': 'This is an educational article on trading psychology, which is timeless unless it refers to any changes in trading strategies or market conditions.',\n",
       "  'article_validity_duration': -1,\n",
       "  'analysis_of_popularity': 'The article is educational and targeted towards traders, making it niche.',\n",
       "  'popularity': 'niche',\n",
       "  'analysis_of_article_type': 'The article is educational, providing insights into trading psychology.',\n",
       "  'article_type': 'educational',\n",
       "  'analysis_of_article_sentiment': 'The article is neutral, providing insights without predicting market trends.',\n",
       "  'article_sentiment': 'NA',\n",
       "  'headline_suggestion': 'Mastering Trading Psychology: Working Around Your Natural Inclinations',\n",
       "  'summary': 'The article discusses trading psychology and advises traders to work around their natural inclinations to achieve success. It discusses the fearful and overconfident traders, both of which pose challenges to achieving consistent success.'},\n",
       " '651e000ca662d76276b84c0d': {'analysis_is_financial_or_business_news': \"The article discusses sports, specifically Indian cricket team's squad selection for their tour of the West Indies, not finance or business.\",\n",
       "  'is_financial_or_business_news': False,\n",
       "  'analysis_of_relevant_for_india': 'The article is relevant for India as it discusses the selection of Indian cricket team for their tour of the West Indies.',\n",
       "  'relevant_for_india': True,\n",
       "  'analysis_of_article_validity_duration': 'This article is about a specific event (the selection of Indian cricket team for a tour), so its relevance is short-term.',\n",
       "  'article_validity_duration': 3,\n",
       "  'analysis_of_popularity': \"The article is about Indian cricket team's selection for an upcoming tour, which is likely to be popular among Indian sports fans.\",\n",
       "  'popularity': 'moderately_popular',\n",
       "  'analysis_of_article_type': \"The article is factual, presenting the details of Indian cricket team's selection for their tour of the West Indies.\",\n",
       "  'article_type': 'fact',\n",
       "  'analysis_of_article_sentiment': 'The article is neutral as it presents facts about the cricket team selection.',\n",
       "  'article_sentiment': 'NA',\n",
       "  'headline_suggestion': \"Indian Cricket Team's Selection for West Indies Tour: An Insight\",\n",
       "  'summary': \"The Indian cricket team's squad selection for their tour of the West Indies has raised eyebrows due to the exclusion of Cheteshwar Pujara.\"},\n",
       " '6555c3c24b13023f9348d582': {'analysis_is_financial_or_business_news': 'The article discusses the issue of online gambling sites impacting e-wallet platforms, which falls under the realm of finance.',\n",
       "  'is_financial_or_business_news': True,\n",
       "  'analysis_of_relevant_for_india': \"The issue of online gambling sites impacting e-wallet platforms is not specifically tied to India, hence it's not relevant to India.\",\n",
       "  'relevant_for_india': False,\n",
       "  'analysis_of_article_validity_duration': \"The article discusses an ongoing issue of online gambling sites impacting e-wallet platforms. It's relevant until the issue is resolved.\",\n",
       "  'article_validity_duration': 30,\n",
       "  'analysis_of_popularity': \"Given the scale of the issue, it's relevant to a broad audience. However, it's not likely to be a breaking news item.\",\n",
       "  'popularity': 'moderately_popular',\n",
       "  'analysis_of_article_type': 'The article is factual, presenting the issue of online gambling sites impacting e-wallet platforms.',\n",
       "  'article_type': 'fact',\n",
       "  'analysis_of_article_sentiment': \"The article doesn't have a bullish or bearish sentiment, as it's mostly neutral.\",\n",
       "  'article_sentiment': 'NA',\n",
       "  'headline_suggestion': \"Online Gambling Sites Threaten E-Wallet Platforms: A Digital Advocacy Group's Call\",\n",
       "  'summary': 'Digital Pinoys calls on the NTC to block online gambling sites as they pose risks to e-wallet platforms.'},\n",
       " '6531691c1e5cc42b1b13d0c9': {'analysis_is_financial_or_business_news': 'The article discusses government policies and their potential impact on the textile industry, making it financial news.',\n",
       "  'is_financial_or_business_news': True,\n",
       "  'analysis_of_relevant_for_india': 'The article is relevant for India as it discusses government policies affecting the Indian textile industry.',\n",
       "  'relevant_for_india': True,\n",
       "  'analysis_of_article_validity_duration': 'The article is about government policies, which typically remain unchanged for weeks or months.',\n",
       "  'article_validity_duration': 30,\n",
       "  'analysis_of_popularity': 'The article discusses government policies affecting a large number of people working in the textile industry, making it moderately popular.',\n",
       "  'popularity': 'moderately_popular',\n",
       "  'analysis_of_article_type': 'The article is factual, presenting information about government policies and their potential impact on the textile industry.',\n",
       "  'article_type': 'fact',\n",
       "  'analysis_of_article_sentiment': \"The article does not present a bullish or bearish sentiment as it's a factual report.\",\n",
       "  'article_sentiment': 'NA',\n",
       "  'headline_suggestion': 'Government Likely to Announce Fiscal Incentives for Textile Industry',\n",
       "  'summary': 'Government likely to announce fiscal incentives for the textile and apparel industry by the end of this year, to mitigate the impact of falling overseas orders.'},\n",
       " '6555cbba4b13023f934a0d12': {'analysis_is_financial_or_business_news': 'Article discusses layoffs in US companies, impacted by high borrowing costs and need to cut expenses.',\n",
       "  'is_financial_or_business_news': True,\n",
       "  'analysis_of_relevant_for_india': 'Although the article is about US companies, it discusses global economic trends, which can impact Indian corporations and investors.',\n",
       "  'relevant_for_india': True,\n",
       "  'analysis_of_article_validity_duration': 'The article discusses current trends in layoffs, which will remain relevant for a few weeks.',\n",
       "  'article_validity_duration': 14,\n",
       "  'analysis_of_popularity': 'The article is relevant to a broad audience interested in global economic trends and employment trends.',\n",
       "  'popularity': 'moderately_popular',\n",
       "  'analysis_of_article_type': 'The article provides factual information about layoffs in US companies, without extensive analysis or opinion.',\n",
       "  'article_type': 'fact',\n",
       "  'analysis_of_article_sentiment': 'The article is neutral, providing information without leaning towards bullish or bearish sentiment.',\n",
       "  'article_sentiment': 'NA',\n",
       "  'headline_suggestion': 'Layoffs Surge in US Amid High Borrowing Costs',\n",
       "  'summary': 'Layoffs in US companies soared in March and Q1 of 2023 due to high borrowing costs and need to cut expenses. Technology companies accounted for 38% of layoffs this year.'},\n",
       " '651def1aa662d76276b822fe': {'analysis_is_financial_or_business_news': 'The article is about India-China diplomatic issues, not directly related to finance or business.',\n",
       "  'is_financial_or_business_news': False,\n",
       "  'analysis_of_relevant_for_india': \"The article discusses India-China diplomatic issues, relevant for India's foreign policy.\",\n",
       "  'relevant_for_india': True,\n",
       "  'analysis_of_article_validity_duration': 'The diplomatic issues discussed in the article will remain relevant until the situation changes.',\n",
       "  'article_validity_duration': -1,\n",
       "  'analysis_of_popularity': 'The article deals with India-China diplomacy, which is a topic of high interest among Indians, making it moderately popular.',\n",
       "  'popularity': 'moderately_popular',\n",
       "  'analysis_of_article_type': 'The article is factual, relaying events and statements from the meetings.',\n",
       "  'article_type': 'fact',\n",
       "  'analysis_of_article_sentiment': 'The sentiment of the article is neutral, not bullish or bearish.',\n",
       "  'article_sentiment': 'NA',\n",
       "  'headline_suggestion': \"India's NSA Doval Conveys Concerns Over LAC Situation in BRICS Meeting\",\n",
       "  'summary': \"India's National Security Advisor Ajit Doval, at the 13th BRICS National Security Advisor's meeting in Johannesburg, expressed concerns over the deteriorating trust between India and China due to the ongoing border issues along the Line of Actual Control (LAC). He emphasized the need for ongoing efforts to address the situation and restore peace in the border areas.\"},\n",
       " '651dd87da662d76276b7e750': {'analysis_is_financial_or_business_news': 'The article is about a movie, not finance or business.',\n",
       "  'is_financial_or_business_news': False,\n",
       "  'analysis_of_relevant_for_india': 'The movie is a global horror film, and the information is relevant to international audiences, including Indians.',\n",
       "  'relevant_for_india': True,\n",
       "  'analysis_of_article_validity_duration': 'The article is about a movie release, which will be relevant until the movie is released.',\n",
       "  'article_validity_duration': 30,\n",
       "  'analysis_of_popularity': 'The article is about a well-known movie franchise, so it should have moderate popularity.',\n",
       "  'popularity': 'moderately_popular',\n",
       "  'analysis_of_article_type': 'The article is mostly factual, providing information about the upcoming movie.',\n",
       "  'article_type': 'fact',\n",
       "  'analysis_of_article_sentiment': 'The article is neutral, providing information about the movie.',\n",
       "  'article_sentiment': 'NA',\n",
       "  'headline_suggestion': \"George A. Romero's Final Zombie Film, 'Twilight of the Dead', to Release Soon\",\n",
       "  'summary': \"The late George A. Romero's final zombie film, 'Twilight of the Dead', is set to release soon. The movie will continue the story of the last humans on Earth fighting against zombies on a tropical island.\"},\n",
       " '6555c31b4b13023f9348d38e': {'analysis_is_financial_or_business_news': 'The article discusses a business partnership between PT&T and Netlinkz for Starlink product distribution.',\n",
       "  'is_financial_or_business_news': True,\n",
       "  'analysis_of_relevant_for_india': 'The article is about a business partnership in the Philippines, not directly relevant to India.',\n",
       "  'relevant_for_india': False,\n",
       "  'analysis_of_article_validity_duration': \"The partnership announcement is a significant business development, but it doesn't involve any time-sensitive information.\",\n",
       "  'article_validity_duration': -1,\n",
       "  'analysis_of_popularity': 'This news is likely to be of moderate popularity as it involves a significant business partnership.',\n",
       "  'popularity': 'moderately_popular',\n",
       "  'analysis_of_article_type': 'The article is factual, providing information about a business partnership.',\n",
       "  'article_type': 'fact',\n",
       "  'analysis_of_article_sentiment': 'The article sentiment is neutral as it is reporting a business partnership without expressing a bullish or bearish view.',\n",
       "  'article_sentiment': 'NA',\n",
       "  'headline_suggestion': 'PT&T Partners with Netlinkz to Distribute Starlink Products',\n",
       "  'summary': 'Philippine Telegraph and Telephone Corp. (PT&T) has partnered with Australian tech firm Netlinkz Ltd. to distribute Starlink products.'},\n",
       " '65316f961e5cc42b1b1409ef': {'analysis_is_financial_or_business_news': 'The article discusses the stock performance of NTPC, a state-owned power company.',\n",
       "  'is_financial_or_business_news': True,\n",
       "  'analysis_of_relevant_for_india': 'The article is relevant for Indian investors and investors in NTPC stock.',\n",
       "  'relevant_for_india': True,\n",
       "  'analysis_of_article_validity_duration': \"The article discusses daily stock fluctuations, thus its relevance is limited to the day's trading.\",\n",
       "  'article_validity_duration': 1,\n",
       "  'analysis_of_popularity': \"The article is about a state-owned power company's stock performance, which may interest a niche audience.\",\n",
       "  'popularity': 'niche',\n",
       "  'analysis_of_article_type': 'The article provides factual updates about the stock price of NTPC.',\n",
       "  'article_type': 'fact',\n",
       "  'analysis_of_article_sentiment': \"The article's sentiment is neutral as it provides factual updates about the stock's performance.\",\n",
       "  'article_sentiment': 'NA',\n",
       "  'headline_suggestion': \"NTPC's Stock Performance: A Daily Update\",\n",
       "  'summary': \"The article discusses the daily performance of NTPC's stock, highlighting its fluctuations.\"},\n",
       " '65316d2a1e5cc42b1b13e1fc': {'analysis_is_financial_or_business_news': 'The article discusses global warming and its impact on penguins, not related to finance or business.',\n",
       "  'is_financial_or_business_news': False,\n",
       "  'analysis_of_relevant_for_india': 'The article discusses global warming and its impact on penguins, which is a universal concern and not specific to India.',\n",
       "  'relevant_for_india': True,\n",
       "  'analysis_of_article_validity_duration': 'The article discusses global warming and its impact on penguins, a topic that is relevant for a long period due to ongoing climate change.',\n",
       "  'article_validity_duration': -1,\n",
       "  'analysis_of_popularity': 'The article is about global warming and penguins, a topic of interest to a wide audience, but it does not have a list of rules or a compelling story-telling style.',\n",
       "  'popularity': 'moderately_popular',\n",
       "  'analysis_of_article_type': 'The article is factual, presenting the findings of a study on global warming and its impact on penguins.',\n",
       "  'article_type': 'fact',\n",
       "  'analysis_of_article_sentiment': 'The article is neutral, presenting facts about global warming and its impact on penguins.',\n",
       "  'article_sentiment': 'NA',\n",
       "  'headline_suggestion': 'Global Warming Threatens Penguin Species, Raising Concerns for Humanity',\n",
       "  'summary': 'Global warming threatens penguins, a species that relies on sea ice for breeding. This poses a philosophical question: why should humans care about disappearing species, even if they have no direct use for us.'},\n",
       " '651e1c4ea662d76276b88f01': {'analysis_is_financial_or_business_news': 'The article discusses sports and sports business, specifically football and the management of football clubs.',\n",
       "  'is_financial_or_business_news': True,\n",
       "  'analysis_of_relevant_for_india': 'The article is about a football match and football club, which is not relevant to the Indian audience unless they are interested in football or the club.',\n",
       "  'relevant_for_india': False,\n",
       "  'analysis_of_article_validity_duration': 'The article is about a football match, which is a one-time event. Therefore, its relevance is limited to the date of the event.',\n",
       "  'article_validity_duration': 1,\n",
       "  'analysis_of_popularity': 'The article is about a football club, which is a popular sport in India. However, it is specific to the Chelsea-Real Madrid match, which may not be of interest to a broad audience.',\n",
       "  'popularity': 'moderately_popular',\n",
       "  'analysis_of_article_type': 'The article is factual, providing details about the upcoming football match and the history of the teams involved.',\n",
       "  'article_type': 'fact',\n",
       "  'analysis_of_article_sentiment': 'The article is neutral, providing factual information about the match.',\n",
       "  'article_sentiment': 'NA',\n",
       "  'headline_suggestion': \"Carlo Ancelotti's Return to Chelsea Highlights Fluctuating Fortunes\",\n",
       "  'summary': 'Carlo Ancelotti returns to Chelsea, reminding of better times, as he leads Real Madrid in a Champions League quarter-final second leg clash.'},\n",
       " '6555cc3a4b13023f934a68c8': {'analysis_is_financial_or_business_news': 'The article discusses two robo-advisor platforms, Merrill Guided Investing and E*TRADE Core Portfolios, making it financial news.',\n",
       "  'is_financial_or_business_news': True,\n",
       "  'analysis_of_relevant_for_india': 'While the platforms discussed are US-based, the information is still relevant for Indian readers interested in international financial services.',\n",
       "  'relevant_for_india': True,\n",
       "  'analysis_of_article_validity_duration': 'The article provides information about two robo-advisor platforms and their features, which is not subject to frequent changes.',\n",
       "  'article_validity_duration': -1,\n",
       "  'analysis_of_popularity': 'The article discusses popular robo-advisor platforms, which should be moderately popular among Indian investors interested in international financial services.',\n",
       "  'popularity': 'moderately_popular',\n",
       "  'analysis_of_article_type': 'The article is factual, presenting information about the two robo-advisor platforms.',\n",
       "  'article_type': 'fact',\n",
       "  'analysis_of_article_sentiment': 'The article is neutral, presenting facts about the two robo-advisor platforms.',\n",
       "  'article_sentiment': 'NA',\n",
       "  'headline_suggestion': 'Comparing Merrill Guided Investing and E*TRADE Core Portfolios: A Comprehensive Look',\n",
       "  'summary': 'The article compares two robo-advisor platforms, Merrill Guided Investing and E*TRADE Core Portfolios, highlighting their features, pricing, and investment options.'},\n",
       " '65316f021e5cc42b1b13ec21': {'analysis_is_financial_or_business_news': \"Article discusses LIC's share performance and stock transactions.\",\n",
       "  'is_financial_or_business_news': True,\n",
       "  'analysis_of_relevant_for_india': 'Article is about LIC, an Indian company, and its stock performance.',\n",
       "  'relevant_for_india': True,\n",
       "  'analysis_of_article_validity_duration': \"The article is about a day's stock performance, making it relevant for that day.\",\n",
       "  'article_validity_duration': 1,\n",
       "  'analysis_of_popularity': 'The article is about a popular entity, LIC, and its stock performance, thus it could be moderately popular.',\n",
       "  'popularity': 'moderately_popular',\n",
       "  'analysis_of_article_type': \"The article is factual, reporting on LIC's stock performance.\",\n",
       "  'article_type': 'fact',\n",
       "  'analysis_of_article_sentiment': 'The article is neutral, reporting on stock performance without predicting future trends.',\n",
       "  'article_sentiment': 'NA',\n",
       "  'headline_suggestion': 'LIC Shares Surge 4% in Early Trade, Extend Gains for Fourth Straight Day',\n",
       "  'summary': 'LIC shares rallied more than 4% in early trade, marking the fourth consecutive day of gains.'},\n",
       " '651e14c4a662d76276b87d81': {'analysis_is_financial_or_business_news': 'Article pertains to military collaboration between India and Sri Lanka, not related to finance or business.',\n",
       "  'is_financial_or_business_news': False,\n",
       "  'analysis_of_relevant_for_india': \"The article is relevant for Indians as it discusses India's naval collaboration with Sri Lanka.\",\n",
       "  'relevant_for_india': True,\n",
       "  'analysis_of_article_validity_duration': 'The article is about a planned event, and its relevance will last until the event takes place.',\n",
       "  'article_validity_duration': 14,\n",
       "  'analysis_of_popularity': 'The article pertains to a national-level event involving the Indian Navy and Sri Lanka Navy, making it moderately popular.',\n",
       "  'popularity': 'moderately_popular',\n",
       "  'analysis_of_article_type': 'The article provides factual information about the upcoming naval exercise.',\n",
       "  'article_type': 'fact',\n",
       "  'analysis_of_article_sentiment': 'The article maintains a neutral tone, providing information without expressing bullish or bearish sentiment.',\n",
       "  'article_sentiment': 'NA',\n",
       "  'headline_suggestion': 'India and Sri Lanka Prepare for Sea Phase of SLINEX 2023',\n",
       "  'summary': 'India and Sri Lanka are preparing for the Sea Phase of SLINEX 2023, a naval exercise, from April 6-8 off Colombo. The exercise includes Indian Navy, Sri Lankan Navy and Sri Lankan Air Force.'},\n",
       " '651dd877a662d76276b7e743': {'analysis_is_financial_or_business_news': 'The article discusses the financial activities of Foreign Institutional Investors (FPIs) in India, specifically their stock transactions.',\n",
       "  'is_financial_or_business_news': True,\n",
       "  'analysis_of_relevant_for_india': \"The article discusses FPIs' stock transactions in India, making it relevant for Indian investors and financial sector.\",\n",
       "  'relevant_for_india': True,\n",
       "  'analysis_of_article_validity_duration': 'The article discusses a recent stock transaction by FPIs. This information is time-bound, and its relevance will decrease as the stock market fluctuates.',\n",
       "  'article_validity_duration': 1,\n",
       "  'analysis_of_popularity': \"The article's relevance is broad, as it discusses stock transactions of FPIs, which is of interest to investors and financial enthusiasts.\",\n",
       "  'popularity': 'moderately_popular',\n",
       "  'analysis_of_article_type': \"The article presents factual information about FPIs' stock transactions in India.\",\n",
       "  'article_type': 'fact',\n",
       "  'analysis_of_article_sentiment': \"The sentiment of the article is neutral as it reports on FPIs' actions without speculating on their impact.\",\n",
       "  'article_sentiment': 'NA',\n",
       "  'headline_suggestion': 'FPIs Sell Stocks to the Tune of Rs 7,543 Crore in August',\n",
       "  'summary': \"Foreign Institutional Investors (FPIs) sold stocks worth Rs 7,543 crore in August, marking a reversal of their three-month buying spree. The FPIs' stock transactions are influenced by the strength of the dollar index and US 10-year bond yields.\"},\n",
       " '6531692b1e5cc42b1b13d499': {'analysis_is_financial_or_business_news': 'The article discusses the funding trends in the proptech sector, making it relevant to business and finance.',\n",
       "  'is_financial_or_business_news': True,\n",
       "  'analysis_of_relevant_for_india': 'The article discusses the Indian proptech sector, making it relevant for Indian readers.',\n",
       "  'relevant_for_india': True,\n",
       "  'analysis_of_article_validity_duration': 'The article is based on annual data and has a timeless relevance.',\n",
       "  'article_validity_duration': -1,\n",
       "  'analysis_of_popularity': 'The article discusses the PropTech industry, which caters to a niche audience interested in the field.',\n",
       "  'popularity': 'niche',\n",
       "  'analysis_of_article_type': 'The article presents factual information about the funding trends in the PropTech industry.',\n",
       "  'article_type': 'fact',\n",
       "  'analysis_of_article_sentiment': 'The article is neutral as it presents factual information without any bullish or bearish sentiment.',\n",
       "  'article_sentiment': 'NA',\n",
       "  'headline_suggestion': 'PropTech Funding Dips 3% in 2022, Still Remains Strong',\n",
       "  'summary': \"Despite global economic uncertainties, investments in proptech companies fell by just 3% in 2022, according to Housing.com's report. The sector's cumulative funding amounted to $4 billion since 2009.\"},\n",
       " '651dd2cea662d76276b7d91e': {'analysis_is_financial_or_business_news': \"The article discusses political strategies and policies of political parties, which doesn't pertain to finance or business.\",\n",
       "  'is_financial_or_business_news': False,\n",
       "  'analysis_of_relevant_for_india': 'The article discusses political developments in India, specifically in Uttar Pradesh, which is relevant to Indian readers.',\n",
       "  'relevant_for_india': True,\n",
       "  'analysis_of_article_validity_duration': 'Political strategies and policies have long-term implications. However, the article is based on a specific event and thus has a shorter validity.',\n",
       "  'article_validity_duration': 3,\n",
       "  'analysis_of_popularity': 'The article is about political strategies and policies, which is of interest to a niche audience interested in politics.',\n",
       "  'popularity': 'niche',\n",
       "  'analysis_of_article_type': \"The article is largely factual, relaying Mayawati's statements and actions.\",\n",
       "  'article_type': 'fact',\n",
       "  'analysis_of_article_sentiment': \"The sentiment of the article is neutral, presenting Mayawati's statements without predicting future outcomes.\",\n",
       "  'article_sentiment': 'NA',\n",
       "  'headline_suggestion': \"Mayawati Reiterates BSP's Stance on Election Strategy\",\n",
       "  'summary': 'BSP Chief Mayawati reiterated her stance on maintaining complete distance from the NDA and INDIA bloc for the upcoming Lok Sabha elections. She emphasized the importance of strengthening the party.'},\n",
       " '65316f1d1e5cc42b1b13eff1': {'analysis_is_financial_or_business_news': 'The article discusses the oil prices and their fluctuations due to various factors, including government policies and market trends.',\n",
       "  'is_financial_or_business_news': True,\n",
       "  'analysis_of_relevant_for_india': 'The article is relevant for India as it discusses the impact of global oil prices on the Indian market and the potential implications of government policies on the energy sector.',\n",
       "  'relevant_for_india': True,\n",
       "  'analysis_of_article_validity_duration': 'The article discusses global oil prices and their fluctuations, which is a topic of ongoing interest, making it relevant for a few weeks.',\n",
       "  'article_validity_duration': 14,\n",
       "  'analysis_of_popularity': 'Given the global importance of oil prices, the article is likely to attract a wide audience interested in the energy sector.',\n",
       "  'popularity': 'breaking_news',\n",
       "  'analysis_of_article_type': 'The article provides factual information about the oil price trends and their causes, making it a factual piece.',\n",
       "  'article_type': 'fact',\n",
       "  'analysis_of_article_sentiment': 'The article maintains a neutral sentiment, providing factual information without predicting future trends.',\n",
       "  'article_sentiment': 'NA',\n",
       "  'headline_suggestion': 'Global Oil Prices Extend Losses Amid US Government Credit Downgrade',\n",
       "  'summary': \"Oil prices extended losses despite a historic drop in US crude stocks due to a downgrade of the US government's credit rating by Fitch. This downgrade, along with weak global markets, contributed to the negative sentiment.\"},\n",
       " '6555b5d84b13023f9348c264': {'analysis_is_financial_or_business_news': 'The article discusses capital account management, a key financial aspect of a company.',\n",
       "  'is_financial_or_business_news': True,\n",
       "  'analysis_of_relevant_for_india': 'The article discusses capital account management, a universal financial concept applicable to businesses worldwide, including India.',\n",
       "  'relevant_for_india': True,\n",
       "  'analysis_of_article_validity_duration': \"This article is educational, discussing the importance and mechanics of capital accounts. It's not tied to any tax or other regulations, making it timeless.\",\n",
       "  'article_validity_duration': -1,\n",
       "  'analysis_of_popularity': 'The article is educational and may appeal to a niche audience interested in finance and accounting.',\n",
       "  'popularity': 'niche',\n",
       "  'analysis_of_article_type': 'The article is educational, providing detailed information about capital accounts and their importance.',\n",
       "  'article_type': 'educational',\n",
       "  'analysis_of_article_sentiment': 'The article is neutral, providing factual information about capital accounts.',\n",
       "  'article_sentiment': 'NA',\n",
       "  'headline_suggestion': 'Understanding Capital Accounts: A Comprehensive Guide',\n",
       "  'summary': 'The article provides a comprehensive guide on capital accounts, explaining their importance, working, and importance for businesses. It explains the importance of capital account management for businesses and how to maintain it.'},\n",
       " '652fd3521e5cc42b1b13a524': {'analysis_is_financial_or_business_news': 'The article discusses the public issue of NCDs by Edelweiss Financial Services Ltd.',\n",
       "  'is_financial_or_business_news': True,\n",
       "  'analysis_of_relevant_for_india': \"The article discusses an Indian company's NCD issue, making it relevant for Indian investors.\",\n",
       "  'relevant_for_india': True,\n",
       "  'analysis_of_article_validity_duration': 'The article discusses a public issue of NCDs, which is a one-time event.',\n",
       "  'article_validity_duration': 1,\n",
       "  'analysis_of_popularity': \"The article discusses a specific company's NCD issue, which is a niche topic.\",\n",
       "  'popularity': 'niche',\n",
       "  'analysis_of_article_type': 'The article is factual, providing details about the NCD issue.',\n",
       "  'article_type': 'fact',\n",
       "  'analysis_of_article_sentiment': 'The article is neutral, providing information about the NCD issue.',\n",
       "  'article_sentiment': 'NA',\n",
       "  'headline_suggestion': 'Edelweiss Financial Services Launches Public Issue of NCDs',\n",
       "  'summary': 'Edelweiss Financial Services Ltd has issued a public issue of NCDs to raise funds from the debt market.'},\n",
       " '6555b5044b13023f9348b8db': {'analysis_is_financial_or_business_news': 'The article is about equity portfolio management, a topic related to finance.',\n",
       "  'is_financial_or_business_news': True,\n",
       "  'analysis_of_relevant_for_india': 'The article is relevant to Indian investors and those interested in Indian financial markets.',\n",
       "  'relevant_for_india': True,\n",
       "  'analysis_of_article_validity_duration': 'The content is educational and educational content is timeless unless it refers to any tax or other regulations in which case only 30 days. International news in India has shorter lifespan. popular topics are usually not timeless; quarterly analysis is valid for a week, yearly for a couple of weeks and a much longer one for a month.',\n",
       "  'article_validity_duration': -1,\n",
       "  'analysis_of_popularity': 'The article is educational and is likely to attract a niche audience interested in financial markets and portfolio management.',\n",
       "  'popularity': 'niche',\n",
       "  'analysis_of_article_type': 'The article is educational, explaining the concept of equity portfolio management, its techniques, and limitations.',\n",
       "  'article_type': 'educational',\n",
       "  'analysis_of_article_sentiment': 'The article is neutral, providing factual information about equity portfolio management.',\n",
       "  'article_sentiment': 'NA',\n",
       "  'headline_suggestion': 'Understanding Equity Portfolio Management: A Comprehensive Guide',\n",
       "  'summary': 'Equity portfolio management is a professional practice involving stock selection and management, and is often used to manage large portfolios.'},\n",
       " '6555c49e4b13023f9348d93e': {'analysis_is_financial_or_business_news': \"The article is about a court decision involving Melco Resorts' tax refund claim.\",\n",
       "  'is_financial_or_business_news': True,\n",
       "  'analysis_of_relevant_for_india': \"The case involves a Philippine company and a tax dispute, but it doesn't directly impact Indian corporations or investors.\",\n",
       "  'relevant_for_india': False,\n",
       "  'analysis_of_article_validity_duration': 'The article is about a court decision and its impact will last until a new development occurs.',\n",
       "  'article_validity_duration': 30,\n",
       "  'analysis_of_popularity': 'The article involves a major corporation and a tax dispute, which may attract attention from a niche audience interested in tax laws.',\n",
       "  'popularity': 'niche',\n",
       "  'analysis_of_article_type': 'The article is factual, providing information about a court decision.',\n",
       "  'article_type': 'fact',\n",
       "  'analysis_of_article_sentiment': 'The article is neutral as it simply reports the court decision.',\n",
       "  'article_sentiment': 'NA',\n",
       "  'headline_suggestion': \"Philippine Court Affirms Denial of Melco Resorts' Tax Refund Claim\",\n",
       "  'summary': \"The Court of Tax Appeals (CTA) upholds its decision denying Melco Resorts' P81.12 million tax refund claim.\"},\n",
       " '6555c2e64b13023f9348d32b': {'analysis_is_financial_or_business_news': \"The article discusses Tala Philippines' plans to improve its financial products and wallet features.\",\n",
       "  'is_financial_or_business_news': True,\n",
       "  'analysis_of_relevant_for_india': \"The news pertains to a Philippines-based company's product development strategy, not relevant for Indians.\",\n",
       "  'relevant_for_india': False,\n",
       "  'analysis_of_article_validity_duration': \"The article is about a company's product development strategy, relevant for a few weeks.\",\n",
       "  'article_validity_duration': 14,\n",
       "  'analysis_of_popularity': \"The article is about a company's product development strategy, which may interest a niche audience.\",\n",
       "  'popularity': 'niche',\n",
       "  'analysis_of_article_type': \"The article is factual, discussing Tala Philippines' plans for product improvement.\",\n",
       "  'article_type': 'fact',\n",
       "  'analysis_of_article_sentiment': 'The article is neutral, not indicating a bullish or bearish sentiment.',\n",
       "  'article_sentiment': 'NA',\n",
       "  'headline_suggestion': 'Tala Philippines Plans to Enhance Products and Wallet Features',\n",
       "  'summary': 'Tala Philippines is planning to improve its financial products and add new features to the Tala Wallet to attract more users.'},\n",
       " '651de1bea662d76276b7ffb8': {'analysis_is_financial_or_business_news': \"The article is primarily about Hurricane Idalia's impact on Florida and Georgia, not directly related to finance or business.\",\n",
       "  'is_financial_or_business_news': False,\n",
       "  'analysis_of_relevant_for_india': 'The article discusses a hurricane in Florida and Georgia, not relevant for Indian audience.',\n",
       "  'relevant_for_india': False,\n",
       "  'analysis_of_article_validity_duration': \"This article covers a specific event (Hurricane Idalia) which had a short-term impact. It's relevance would be limited to a few days.\",\n",
       "  'article_validity_duration': 3,\n",
       "  'analysis_of_popularity': 'The article covers a significant event (Hurricane Idalia), which could attract a wide audience interested in international news.',\n",
       "  'popularity': 'moderately_popular',\n",
       "  'analysis_of_article_type': \"The article is factual, providing details about Hurricane Idalia's impact and its progress.\",\n",
       "  'article_type': 'fact',\n",
       "  'analysis_of_article_sentiment': \"The article presents a factual account of Hurricane Idalia's impact, without expressing any bullish or bearish sentiment.\",\n",
       "  'article_sentiment': 'NA',\n",
       "  'headline_suggestion': \"Hurricane Idalia's Impact on Florida and Georgia: A Comprehensive Overview\",\n",
       "  'summary': 'Hurricane Idalia hit Florida with 125 mph winds, causing widespread damage, flooding and power outages. It later hit Georgia, causing further damage.'},\n",
       " '651df8e7a662d76276b83a76': {'analysis_is_financial_or_business_news': 'The article discusses the top clothing manufacturers globally, providing insights into their business models, environmental sustainability, and production processes.',\n",
       "  'is_financial_or_business_news': True,\n",
       "  'analysis_of_relevant_for_india': 'The article discusses global clothing manufacturers, including those in India, making it relevant to Indian readers.',\n",
       "  'relevant_for_india': True,\n",
       "  'analysis_of_article_validity_duration': 'The article provides an overview of top clothing manufacturers, making it timeless until any significant changes occur in the industry.',\n",
       "  'article_validity_duration': -1,\n",
       "  'analysis_of_popularity': 'The article covers a broad topic, appealing to a wide audience interested in fashion and global manufacturing.',\n",
       "  'popularity': 'moderately_popular',\n",
       "  'analysis_of_article_type': 'The article is informative, providing factual information about the top clothing manufacturers.',\n",
       "  'article_type': 'fact',\n",
       "  'analysis_of_article_sentiment': 'The article is neutral, providing factual information without indicating a bullish or bearish sentiment.',\n",
       "  'article_sentiment': 'NA',\n",
       "  'headline_suggestion': 'Discover the Top 10 Global Clothing Manufacturers',\n",
       "  'summary': 'This article highlights the top 10 global clothing manufacturers, highlighting their business models, environmental stewardship, and production capabilities. It highlights companies such as Appareify, Prange Apparel, Good Clothing Company, MPY Textile Manufacturing, and Hawthorn.'},\n",
       " '65316f9b1e5cc42b1b140b85': {'analysis_is_financial_or_business_news': 'The article discusses the performance of the Indian Rupee against the US dollar, indicating a financial news',\n",
       "  'is_financial_or_business_news': True,\n",
       "  'analysis_of_relevant_for_india': \"The article discusses the Indian Rupee's performance against the US dollar, making it relevant for Indians\",\n",
       "  'relevant_for_india': True,\n",
       "  'analysis_of_article_validity_duration': \"The article discusses daily fluctuations in the Rupee's value, making it relevant for a day\",\n",
       "  'article_validity_duration': 1,\n",
       "  'analysis_of_popularity': 'The article discusses the Indian Rupee, which is relevant to a broad audience, making it moderately popular',\n",
       "  'popularity': 'moderately_popular',\n",
       "  'analysis_of_article_type': \"The article is factual, reporting on the daily fluctuations in the Rupee's value\",\n",
       "  'article_type': 'fact',\n",
       "  'analysis_of_article_sentiment': \"The article is neutral as it reports on the fluctuation of the Rupee's value\",\n",
       "  'article_sentiment': 'NA',\n",
       "  'headline_suggestion': 'Rupee Gains for First Time in Five Days, Ends 3 Paise Higher Against US Dollar',\n",
       "  'summary': 'The Indian Rupee witnessed a marginal gain for the first time in five sessions, closing 3 paise higher against the US dollar.'},\n",
       " '6555c0da4b13023f9348cd0d': {'analysis_is_financial_or_business_news': 'The article discusses the financial performance of Philippine banking industry.',\n",
       "  'is_financial_or_business_news': True,\n",
       "  'analysis_of_relevant_for_india': 'The article is relevant for India as it provides insights into the banking sector of Philippines, which is of interest to Indian investors and financial analysts.',\n",
       "  'relevant_for_india': True,\n",
       "  'analysis_of_article_validity_duration': 'The article discusses financial performance of a quarter, which is relevant for a month.',\n",
       "  'article_validity_duration': 30,\n",
       "  'analysis_of_popularity': \"The article is of moderate popularity as it discusses the banking industry's financial performance, which may interest a broad range of readers.\",\n",
       "  'popularity': 'moderately_popular',\n",
       "  'analysis_of_article_type': 'The article is factual as it presents the financial data of the banking industry.',\n",
       "  'article_type': 'fact',\n",
       "  'analysis_of_article_sentiment': 'The article presents a positive sentiment as it highlights the positive financial performance of the banking industry.',\n",
       "  'article_sentiment': 'bull',\n",
       "  'headline_suggestion': \"Philippine Banking Industry's Profits Surge 10% Amid High Interest Rates\",\n",
       "  'summary': \"Philippine banking industry's net income rose by 10% as of end-September due to higher interest income and lower losses on financial assets, according to BSP data.\"},\n",
       " '653680241e5cc42b1b1440fc': {'analysis_is_financial_or_business_news': 'The article discusses investment philosophy and strategies for investing in the Indian stock market.',\n",
       "  'is_financial_or_business_news': True,\n",
       "  'analysis_of_relevant_for_india': 'The article discusses Indian stock market investment strategies, making it relevant for Indian investors.',\n",
       "  'relevant_for_india': True,\n",
       "  'analysis_of_article_validity_duration': 'The article discusses investment philosophy and strategies, which are timeless unless there are changes in market dynamics.',\n",
       "  'article_validity_duration': -1,\n",
       "  'analysis_of_popularity': 'The article discusses a specific investment philosophy and strategy for the Indian stock market, making it appealing to a niche audience.',\n",
       "  'popularity': 'niche',\n",
       "  'analysis_of_article_type': 'The article is an opinion piece, presenting a particular investment philosophy and strategy.',\n",
       "  'article_type': 'opinion',\n",
       "  'analysis_of_article_sentiment': 'The sentiment of the article is neutral as it presents a philosophical perspective on stock market investing.',\n",
       "  'article_sentiment': 'NA',\n",
       "  'headline_suggestion': 'Unveiling a Philosophy for Successful Stock Market Investments',\n",
       "  'summary': 'The article discusses an investment philosophy and strategy for the Indian stock market. It emphasizes investing in high-quality companies, building a core portfolio, and keeping track of market trends.'},\n",
       " '6555c8144b13023f934905b9': {'analysis_is_financial_or_business_news': \"Article discusses Paycom's financial results, impacting its stock and competitors.\",\n",
       "  'is_financial_or_business_news': True,\n",
       "  'analysis_of_relevant_for_india': 'Although Paycom is a US-based company, its financial performance impacts global investors including Indian investors.',\n",
       "  'relevant_for_india': True,\n",
       "  'analysis_of_article_validity_duration': 'The article discusses Q3 results and future projections, making it relevant for a month.',\n",
       "  'article_validity_duration': 30,\n",
       "  'analysis_of_popularity': \"The article discusses a popular company's financial performance, which could attract a broad audience.\",\n",
       "  'popularity': 'breaking_news',\n",
       "  'analysis_of_article_type': \"The article provides factual information about Paycom's financial performance and projections.\",\n",
       "  'article_type': 'fact',\n",
       "  'analysis_of_article_sentiment': \"The article has a bearish sentiment, discussing the company's financial challenges.\",\n",
       "  'article_sentiment': 'bear',\n",
       "  'headline_suggestion': 'Paycom Shares Tumble Amidst Worst Quarter Results and Revenue Projection Cut',\n",
       "  'summary': \"Paycom's shares plummeted after posting disappointing Q3 results and cutting its outlook, citing a shift to an automated payroll system that has impacted revenue.\"},\n",
       " '651e1036a662d76276b872e4': {'analysis_is_financial_or_business_news': 'Article pertains to changes in customs policies related to import and export of medicinal products.',\n",
       "  'is_financial_or_business_news': True,\n",
       "  'analysis_of_relevant_for_india': 'The article discusses changes to Indian customs policies affecting import-export of medicinal products, relevant for Indian readers.',\n",
       "  'relevant_for_india': True,\n",
       "  'analysis_of_article_validity_duration': \"The change in customs policies will be effective from June 1, hence it's relevant for a month.\",\n",
       "  'article_validity_duration': 30,\n",
       "  'analysis_of_popularity': 'The topic is specific to those involved in import-export of medicinal products, making it niche.',\n",
       "  'popularity': 'niche',\n",
       "  'analysis_of_article_type': 'The article is factual, presenting changes in customs policies.',\n",
       "  'article_type': 'fact',\n",
       "  'analysis_of_article_sentiment': \"The sentiment of the article is neutral as it's a factual report.\",\n",
       "  'article_sentiment': 'NA',\n",
       "  'headline_suggestion': 'Customs to Introduce Additional Disclosures for Export-Import of Medicinal Products from June 1',\n",
       "  'summary': 'The Customs Department is proposing to introduce additional disclosures for the export and import of medicinal products from June 1, to reduce queries of Customs officials.'},\n",
       " '651ddcd8a662d76276b7f2b4': {'analysis_is_financial_or_business_news': 'The article is about a political event, not related to finance or business.',\n",
       "  'is_financial_or_business_news': False,\n",
       "  'analysis_of_relevant_for_india': 'The article is about a political event in India, specifically in Tamil Nadu, making it relevant for Indians.',\n",
       "  'relevant_for_india': True,\n",
       "  'analysis_of_article_validity_duration': 'The article is about a political event, which is time-bound and will lose relevance once the event concludes.',\n",
       "  'article_validity_duration': 1,\n",
       "  'analysis_of_popularity': 'The article is about a major political event in Tamil Nadu, which is likely to attract moderate attention from readers interested in politics.',\n",
       "  'popularity': 'moderately_popular',\n",
       "  'analysis_of_article_type': 'The article is factual, providing details about the AIADMK conference.',\n",
       "  'article_type': 'fact',\n",
       "  'analysis_of_article_sentiment': 'The article is neutral, presenting facts about the AIADMK conference.',\n",
       "  'article_sentiment': 'NA',\n",
       "  'headline_suggestion': 'AIADMK Conference Begins in Tamil Nadu, Edappadi K Palaniswami Hoists Party Flag',\n",
       "  'summary': \"AIADMK's state conference commenced in Madurai with Edappadi K Palaniswami hoisting the party flag.\"},\n",
       " '65316f4f1e5cc42b1b13f8c0': {'analysis_is_financial_or_business_news': 'The article discusses the IPO of Drone Destination Ltd, a drone service provider.',\n",
       "  'is_financial_or_business_news': True,\n",
       "  'analysis_of_relevant_for_india': \"The article is about an Indian company's IPO, which is relevant to Indian investors.\",\n",
       "  'relevant_for_india': True,\n",
       "  'analysis_of_article_validity_duration': 'The article provides information about an ongoing IPO and its subscription status, making it valid until the end of the IPO.',\n",
       "  'article_validity_duration': 14,\n",
       "  'analysis_of_popularity': 'The article discusses an upcoming IPO, which may attract a moderate audience.',\n",
       "  'popularity': 'moderately_popular',\n",
       "  'analysis_of_article_type': 'The article is factual, providing information about the IPO, its status, and other details.',\n",
       "  'article_type': 'fact',\n",
       "  'analysis_of_article_sentiment': 'The article is neutral, providing factual information about the IPO.',\n",
       "  'article_sentiment': 'NA',\n",
       "  'headline_suggestion': 'Drone Destination IPO: Details, Subscription Status, and More',\n",
       "  'summary': \"Drone Destination Ltd's IPO, open for subscription from July 7, aims to raise ₹44.20 crore.\"},\n",
       " '651dd2aea662d76276b7d8bb': {'analysis_is_financial_or_business_news': \"The article discusses Celine Dion's health and career, not related to finance or business.\",\n",
       "  'is_financial_or_business_news': False,\n",
       "  'analysis_of_relevant_for_india': 'The article is about a global celebrity, Celine Dion, and her health condition, which could be relevant to Indian readers interested in international news.',\n",
       "  'relevant_for_india': True,\n",
       "  'analysis_of_article_validity_duration': \"This is a health update on a celebrity, which is a timely news item. However, since it's about a specific event, it will be relevant for a short period.\",\n",
       "  'article_validity_duration': 14,\n",
       "  'analysis_of_popularity': 'Celebrity news, especially about a globally known singer like Celine Dion, tends to attract a wide audience.',\n",
       "  'popularity': 'breaking_news',\n",
       "  'analysis_of_article_type': \"The article is factual, providing information about Celine Dion's health condition and updates.\",\n",
       "  'article_type': 'fact',\n",
       "  'analysis_of_article_sentiment': \"The article is neutral as it provides factual updates on Celine Dion's health.\",\n",
       "  'article_sentiment': 'NA',\n",
       "  'headline_suggestion': 'Celine Dion Health Update: Sister Reveals Struggles with Rare Disease',\n",
       "  'summary': \"Celine Dion, a renowned singer, has been diagnosed with a rare disease called 'Stiff Person Syndrome'. The disease causes unbearable muscle spasms, leading to the cancellation of her tour.\"},\n",
       " '6555b5a54b13023f9348be03': {'analysis_is_financial_or_business_news': 'Article discusses additional security measures at Delhi airport affecting Air India passengers, not related to finance or business.',\n",
       "  'is_financial_or_business_news': False,\n",
       "  'analysis_of_relevant_for_india': 'The article pertains to a major Indian airport and impacts Indian airline passengers, thus relevant to Indian readers.',\n",
       "  'relevant_for_india': True,\n",
       "  'analysis_of_article_validity_duration': 'This is a current event, and its relevance would last until the measures are withdrawn or extended.',\n",
       "  'article_validity_duration': 30,\n",
       "  'analysis_of_popularity': 'The news is about a major Indian airport and a major Indian airline, making it moderately popular.',\n",
       "  'popularity': 'moderately_popular',\n",
       "  'analysis_of_article_type': 'The article is factual, reporting on events happening at the Delhi airport.',\n",
       "  'article_type': 'fact',\n",
       "  'analysis_of_article_sentiment': 'The sentiment of the article is neutral, reporting events without any bias.',\n",
       "  'article_sentiment': 'NA',\n",
       "  'headline_suggestion': 'Additional Security Measures at Delhi Airport Impact Air India Passengers',\n",
       "  'summary': \"India's Air India passengers flying from Delhi and Punjab airports are subject to additional security checks due to increased threat perception. Visitor entry tickets have been suspended at the Delhi airport until November 30.\"},\n",
       " '653168971e5cc42b1b13b0f9': {'analysis_is_financial_or_business_news': 'Article discusses business partnership between FanCode and ICC for World Cup merchandise.',\n",
       "  'is_financial_or_business_news': True,\n",
       "  'analysis_of_relevant_for_india': 'Article is relevant for India as it discusses business partnership with ICC for World Cup merchandise.',\n",
       "  'relevant_for_india': True,\n",
       "  'analysis_of_article_validity_duration': 'This article discusses a business partnership that will last for the duration of the World Cup.',\n",
       "  'article_validity_duration': 30,\n",
       "  'analysis_of_popularity': 'The article discusses a popular sports event and a business partnership, making it moderately popular.',\n",
       "  'popularity': 'moderately_popular',\n",
       "  'analysis_of_article_type': 'The article is factual, detailing the business partnership between FanCode and ICC.',\n",
       "  'article_type': 'fact',\n",
       "  'analysis_of_article_sentiment': 'The article is neutral, providing factual information about the partnership.',\n",
       "  'article_sentiment': 'NA',\n",
       "  'headline_suggestion': 'FanCode to Partner with ICC for World Cup Merchandise',\n",
       "  'summary': \"FanCode, backed by Dream Sports, will partner with ICC for the upcoming Men's Cricket World Cup merchandise. The company will operate official in-venue outlets for merchandise of all ten participating teams.\"},\n",
       " '6555ca8b4b13023f934944d1': {'analysis_is_financial_or_business_news': 'The article discusses a legal case against a utility company for causing wildfires, which is related to business and finance.',\n",
       "  'is_financial_or_business_news': True,\n",
       "  'analysis_of_relevant_for_india': \"The article is about a legal case in Hawaii, which is not directly relevant to India's financial or business landscape.\",\n",
       "  'relevant_for_india': False,\n",
       "  'analysis_of_article_validity_duration': 'The article is about a recent event, making it relevant for a short period. However, the implications of the case might continue to be relevant for a longer period.',\n",
       "  'article_validity_duration': 14,\n",
       "  'analysis_of_popularity': \"The article covers a significant event, but it's specific to a particular case and location, making it niche.\",\n",
       "  'popularity': 'niche',\n",
       "  'analysis_of_article_type': 'The article is factual, relaying events surrounding the wildfire lawsuit.',\n",
       "  'article_type': 'fact',\n",
       "  'analysis_of_article_sentiment': 'The article is neutral as it simply reports on the wildfire lawsuit.',\n",
       "  'article_sentiment': 'NA',\n",
       "  'headline_suggestion': 'Hawaiian Utility Faces Wildfire Lawsuit Over Alleged Negligence',\n",
       "  'summary': \"The lawsuit alleges that Hawaiian Electric's negligence led to wildfires, killing 115 people. The company has not yet responded to the lawsuit.\"},\n",
       " '6555cbb74b13023f934a0b16': {'analysis_is_financial_or_business_news': \"The article discusses Richard Anderson's career and accomplishments in the aviation and healthcare sectors, which are business-related.\",\n",
       "  'is_financial_or_business_news': True,\n",
       "  'analysis_of_relevant_for_india': \"The article does not mention any direct relevance to India or Indian corporations. However, it's still informative for readers interested in global business and aviation.\",\n",
       "  'relevant_for_india': False,\n",
       "  'analysis_of_article_validity_duration': \"The article is educational and informative about Richard Anderson's career and accomplishments. It's timeless as it doesn't refer to any specific event or policy changes.\",\n",
       "  'article_validity_duration': -1,\n",
       "  'analysis_of_popularity': \"The article is focused on Richard Anderson's career, which may be of interest to a niche audience interested in aviation and healthcare industries.\",\n",
       "  'popularity': 'niche',\n",
       "  'analysis_of_article_type': \"The article is factual, providing information about Richard Anderson's career and achievements.\",\n",
       "  'article_type': 'fact',\n",
       "  'analysis_of_article_sentiment': \"The article is neutral, providing factual information about Richard Anderson's career and accomplishments.\",\n",
       "  'article_sentiment': 'NA',\n",
       "  'headline_suggestion': 'The Journey of Richard Anderson: A Deep Dive into his Career in Aviation and Healthcare',\n",
       "  'summary': 'Richard Anderson, an American businessman, has had a significant impact on the aviation industry. He served as the CEO of Northwest Airlines, Delta Air Lines, and Amtrak. He was awarded the Tony Jannus Award for distinguished service in the commercial airline industry.'},\n",
       " '6555c7c34b13023f9348e053': {'analysis_is_financial_or_business_news': \"The article discusses Polestar's plan to launch a smartphone in China.\",\n",
       "  'is_financial_or_business_news': True,\n",
       "  'analysis_of_relevant_for_india': \"This news about Polestar's smartphone launch in China may not be directly relevant to India.\",\n",
       "  'relevant_for_india': False,\n",
       "  'analysis_of_article_validity_duration': 'The article discusses a future event, so its validity will last until the event occurs.',\n",
       "  'article_validity_duration': 30,\n",
       "  'analysis_of_popularity': 'The article is about a new product launch by Polestar, a well-known brand in the EV market. It might attract a niche audience.',\n",
       "  'popularity': 'niche',\n",
       "  'analysis_of_article_type': \"The article is factual, providing information about Polestar's upcoming product launches.\",\n",
       "  'article_type': 'fact',\n",
       "  'analysis_of_article_sentiment': \"The article is neutral, presenting facts about Polestar's upcoming product launch.\",\n",
       "  'article_sentiment': 'NA',\n",
       "  'headline_suggestion': 'Polestar to Launch Smartphone in China with Delivery of First SUV',\n",
       "  'summary': 'Polestar, a Swedish EV maker, plans to launch a smartphone in China alongside the delivery of its first SUV, the Polestar 4.'},\n",
       " '6555c20b4b13023f9348d12a': {'analysis_is_financial_or_business_news': 'The article discusses the latest data on inflation in the Philippines, which directly impacts the economy.',\n",
       "  'is_financial_or_business_news': True,\n",
       "  'analysis_of_relevant_for_india': 'The article is about Philippine inflation rates, which is not directly relevant to Indian economy.',\n",
       "  'relevant_for_india': False,\n",
       "  'analysis_of_article_validity_duration': 'The article reports on a monthly update on inflation rates, making it relevant for a month.',\n",
       "  'article_validity_duration': 30,\n",
       "  'analysis_of_popularity': 'The article discusses inflation rates in the Philippines, which might be of interest to a niche audience.',\n",
       "  'popularity': 'niche',\n",
       "  'analysis_of_article_type': 'The article provides factual data on inflation rates, making it a factual article.',\n",
       "  'article_type': 'fact',\n",
       "  'analysis_of_article_sentiment': 'The article presents factual data on inflation rates, making it neutral in terms of sentiment.',\n",
       "  'article_sentiment': 'NA',\n",
       "  'headline_suggestion': \"Philippines' Inflation Rate Dips Amid Easing Food Prices\",\n",
       "  'summary': \"Philippines' annual inflation rate fell in October, following two months of acceleration, as key food prices dropped. The Philippine Statistics Authority (PSA) reported the latest data.\"},\n",
       " '651ddef1a662d76276b7f833': {'analysis_is_financial_or_business_news': \"The article discusses India's diplomatic relations with Greece, which is not directly related to finance or business.\",\n",
       "  'is_financial_or_business_news': False,\n",
       "  'analysis_of_relevant_for_india': \"The article discusses India's diplomatic relations with Greece, which is relevant for Indians.\",\n",
       "  'relevant_for_india': True,\n",
       "  'analysis_of_article_validity_duration': 'The article is about a diplomatic event, which has a long-lasting relevance.',\n",
       "  'article_validity_duration': -1,\n",
       "  'analysis_of_popularity': 'The article is about diplomatic relations between India and Greece, which may be of interest to a niche audience.',\n",
       "  'popularity': 'niche',\n",
       "  'analysis_of_article_type': 'The article is factual, providing details about a diplomatic event.',\n",
       "  'article_type': 'fact',\n",
       "  'analysis_of_article_sentiment': 'The article is neutral, not showing any bullish or bearish sentiment.',\n",
       "  'article_sentiment': 'NA',\n",
       "  'headline_suggestion': \"India's Prime Minister Narendra Modi Honored with Grand Cross of the Order of Honour by Greece\",\n",
       "  'summary': \"India's Prime Minister Narendra Modi received the Grand Cross of the Order of Honour from Greek President Katerina N Sakellaropoulou, a prestigious honor reflecting the India-Greece partnership.\"},\n",
       " '6555ca884b13023f9349438c': {'analysis_is_financial_or_business_news': 'The article discusses robo-advisory companies, their features, and evaluates their performance.',\n",
       "  'is_financial_or_business_news': True,\n",
       "  'analysis_of_relevant_for_india': 'The article is about global robo-advisory companies, relevant for Indian readers interested in financial planning.',\n",
       "  'relevant_for_india': True,\n",
       "  'analysis_of_article_validity_duration': \"The article is educational, discussing robo-advisory companies, their features, and evaluation. It doesn't mention any time-bound events.\",\n",
       "  'article_validity_duration': -1,\n",
       "  'analysis_of_popularity': 'The article is educational, discussing robo-advisory companies and their features. It should appeal to a niche audience interested in financial planning.',\n",
       "  'popularity': 'niche',\n",
       "  'analysis_of_article_type': 'The article is factual, providing detailed information about robo-advisory companies, their features, and evaluation.',\n",
       "  'article_type': 'fact',\n",
       "  'analysis_of_article_sentiment': 'The article is neutral, providing factual information about robo-advisory companies.',\n",
       "  'article_sentiment': 'NA',\n",
       "  'headline_suggestion': 'Unveiling the Best Robo-Advisors for 2023: A Comprehensive Guide',\n",
       "  'summary': 'This article presents a comprehensive evaluation of robo-advisory companies, highlighting the best ones for 2023. It discusses various parameters such as fees, account types, portfolio management, and customer support, making it a valuable guide for anyone interested in robo-advisory investing.'},\n",
       " '653168b31e5cc42b1b13b59c': {'analysis_is_financial_or_business_news': \"The article discusses Sebi's investigation into allegations against the Adani group, which is related to finance.\",\n",
       "  'is_financial_or_business_news': True,\n",
       "  'analysis_of_relevant_for_india': 'The article discusses the investigation of a major Indian corporation, making it relevant to Indian readers.',\n",
       "  'relevant_for_india': True,\n",
       "  'analysis_of_article_validity_duration': 'The article discusses a current investigation, which could be relevant for weeks.',\n",
       "  'article_validity_duration': 14,\n",
       "  'analysis_of_popularity': 'The article discusses a high-profile investigation involving a major Indian corporation, making it likely to be of interest to a wide audience.',\n",
       "  'popularity': 'moderately_popular',\n",
       "  'analysis_of_article_type': 'The article is factual, providing details about the ongoing investigation.',\n",
       "  'article_type': 'fact',\n",
       "  'analysis_of_article_sentiment': 'The article is neutral, presenting facts about the investigation.',\n",
       "  'article_sentiment': 'NA',\n",
       "  'headline_suggestion': \"Sebi's Investigation into Adani Group Allegations Extended to August 14\",\n",
       "  'summary': \"Sebi's investigation into allegations against the Adani group, made by Hindenburg Research, is extended to August 14.\"},\n",
       " '653680151e5cc42b1b143f8e': {'analysis_is_financial_or_business_news': 'The article discusses the economic growth of various countries, making it financial news.',\n",
       "  'is_financial_or_business_news': True,\n",
       "  'analysis_of_relevant_for_india': 'The article discusses global economic growth, including India, which makes it relevant for Indians.',\n",
       "  'relevant_for_india': True,\n",
       "  'analysis_of_article_validity_duration': 'This article discusses economic growth, which is a long-term trend. Therefore, it remains relevant for a month.',\n",
       "  'article_validity_duration': 30,\n",
       "  'analysis_of_popularity': 'The article discusses global economic growth, which is a topic of widespread interest, making it moderately popular.',\n",
       "  'popularity': 'moderately_popular',\n",
       "  'analysis_of_article_type': 'The article is factual, providing information about global economic growth.',\n",
       "  'article_type': 'fact',\n",
       "  'analysis_of_article_sentiment': 'The article is neutral, presenting facts about global economic growth.',\n",
       "  'article_sentiment': 'NA',\n",
       "  'headline_suggestion': 'Global Economic Growth: A Comprehensive Overview',\n",
       "  'summary': 'This article presents the global economic growth rates of various countries, highlighting the top 10 fastest-growing economies in 2023.'},\n",
       " '6555c0064b13023f9348c972': {'analysis_is_financial_or_business_news': 'The article discusses the digitalization of the fintech industry in the Philippines, which falls under financial news.',\n",
       "  'is_financial_or_business_news': True,\n",
       "  'analysis_of_relevant_for_india': \"The article discusses the Philippines' fintech industry, which is not directly relevant to India's financial or business sector.\",\n",
       "  'relevant_for_india': False,\n",
       "  'analysis_of_article_validity_duration': 'The article discusses the digitalization of fintech in the Philippines, a topic that will remain relevant until the next significant change.',\n",
       "  'article_validity_duration': -1,\n",
       "  'analysis_of_popularity': 'The article is about the fintech industry in the Philippines, which may not be widely popular among Indian readers.',\n",
       "  'popularity': 'niche',\n",
       "  'analysis_of_article_type': 'The article is factual, providing data and insights into the growth of fintech in the Philippines.',\n",
       "  'article_type': 'fact',\n",
       "  'analysis_of_article_sentiment': \"The article maintains a neutral sentiment, presenting facts about the fintech industry's growth.\",\n",
       "  'article_sentiment': 'NA',\n",
       "  'headline_suggestion': \"Philippines' Fintech Industry Sees Sustained Growth Amid Digitalization Push\",\n",
       "  'summary': 'The article discusses the digitalization of the fintech industry in the Philippines, driven by government initiatives, and anticipates sustained growth. It highlights the rising demand for fintech services, digital payments, and the role of AI in the industry.'},\n",
       " '651dc6d5a662d76276b7b79b': {'analysis_is_financial_or_business_news': 'The article discusses the G20 Summit, a global economic forum, which impacts international finance.',\n",
       "  'is_financial_or_business_news': True,\n",
       "  'analysis_of_relevant_for_india': \"The article discusses India's role in the G20 Summit, making it relevant to Indian readers.\",\n",
       "  'relevant_for_india': True,\n",
       "  'analysis_of_article_validity_duration': 'The article covers an international event, but its relevance may decrease as the event concludes.',\n",
       "  'article_validity_duration': 3,\n",
       "  'analysis_of_popularity': 'The article discusses a significant international event, which may attract a wide audience.',\n",
       "  'popularity': 'moderately_popular',\n",
       "  'analysis_of_article_type': 'The article is factual, providing information about the G20 Summit.',\n",
       "  'article_type': 'fact',\n",
       "  'analysis_of_article_sentiment': 'The sentiment of the article is neutral as it reports on the G20 Summit.',\n",
       "  'article_sentiment': 'NA',\n",
       "  'headline_suggestion': 'G20 Summit: Modi Seeks to Define Summit Around Inclusion of Global South',\n",
       "  'summary': 'Prime Minister Narendra Modi has sought to define the G20 Summit, emphasizing inclusion of the Global South. The inclusion of the AU in the G20 is a significant development, signaling a positive step towards reforms in UNSC and global multilateral financial institutions.'},\n",
       " '6555ca844b13023f93494190': {'analysis_is_financial_or_business_news': 'The article is about the benefits of Just-in-time (JIT) production strategy, a business strategy.',\n",
       "  'is_financial_or_business_news': True,\n",
       "  'analysis_of_relevant_for_india': \"The article discusses a global business strategy that is relevant to Indian businesses as well, hence, it's relevant for Indians.\",\n",
       "  'relevant_for_india': True,\n",
       "  'analysis_of_article_validity_duration': 'The article is educational and explains the benefits of JIT production strategy. The information is timeless unless it refers to any tax or other regulations in which case only 30 days.',\n",
       "  'article_validity_duration': -1,\n",
       "  'analysis_of_popularity': 'The article is educational and is likely to appeal to a niche audience of business professionals interested in production strategies.',\n",
       "  'popularity': 'niche',\n",
       "  'analysis_of_article_type': 'The article is educational, explaining the benefits of the JIT production strategy.',\n",
       "  'article_type': 'educational',\n",
       "  'analysis_of_article_sentiment': 'The article is neutral, presenting a factual overview of the JIT production strategy.',\n",
       "  'article_sentiment': 'NA',\n",
       "  'headline_suggestion': 'Unlocking Profitability: The Benefits of JIT Production Strategy',\n",
       "  'summary': 'The article explains the benefits of Just-in-time (JIT) production strategy, a business strategy that reduces inventories and increases efficiency.'},\n",
       " '653168c91e5cc42b1b13b9f1': {'analysis_is_financial_or_business_news': \"The article discusses Zomato's Q1 results, financial performance, and business strategies.\",\n",
       "  'is_financial_or_business_news': True,\n",
       "  'analysis_of_relevant_for_india': \"The article is about Indian company Zomato's Q1 results, making it relevant for Indian readers.\",\n",
       "  'relevant_for_india': True,\n",
       "  'analysis_of_article_validity_duration': 'The article is about quarterly results of a company, making it relevant for a week.',\n",
       "  'article_validity_duration': 7,\n",
       "  'analysis_of_popularity': \"The article discusses Zomato's Q1 results, which may interest a wide audience.\",\n",
       "  'popularity': 'moderately_popular',\n",
       "  'analysis_of_article_type': \"The article is factual, presenting the company's Q1 results.\",\n",
       "  'article_type': 'fact',\n",
       "  'analysis_of_article_sentiment': \"The article presents positive news about Zomato's Q1 results.\",\n",
       "  'article_sentiment': 'bull',\n",
       "  'headline_suggestion': \"Zomato's Q1 Results: First-ever Net Profit of ₹2 Crore\",\n",
       "  'summary': 'Zomato, a leading Indian food delivery platform, reported its first-ever quarterly net profit of ₹2 crore in Q1 of FY24, marking a significant leap from a loss of ₹186 crore in the previous year.'},\n",
       " '651dfe1ca662d76276b84729': {'analysis_is_financial_or_business_news': 'The article discusses a technical issue in an Indigo flight, which is related to aviation industry, thus making it relevant to business news.',\n",
       "  'is_financial_or_business_news': True,\n",
       "  'analysis_of_relevant_for_india': 'The article discusses a domestic airline, Indigo, and its emergency landing at Delhi Airport, which is relevant for Indian readers.',\n",
       "  'relevant_for_india': True,\n",
       "  'analysis_of_article_validity_duration': 'The article is about an event that occurred in the past, and its relevance is likely to last for a week.',\n",
       "  'article_validity_duration': 7,\n",
       "  'analysis_of_popularity': 'The article discusses a popular airline, and its emergency landing can attract a wide audience.',\n",
       "  'popularity': 'breaking_news',\n",
       "  'analysis_of_article_type': 'The article is factual, providing information about an event that occurred.',\n",
       "  'article_type': 'fact',\n",
       "  'analysis_of_article_sentiment': 'The article is neutral, presenting facts about the event.',\n",
       "  'article_sentiment': 'NA',\n",
       "  'headline_suggestion': 'Indigo Flight Makes Emergency Landing at Delhi Airport Due to Technical Issue',\n",
       "  'summary': \"A Dehradun-bound Indigo flight, carrying 108 passengers, made an emergency landing at Delhi's Indira Gandhi International Airport due to a technical issue. The flight was originally scheduled to take off at 2:10 pm, but it took off later at 2:36 pm. The passengers were safe.\"},\n",
       " '6555bec34b13023f9348c534': {'analysis_is_financial_or_business_news': \"Article discusses First Gen Corp's renewable energy expansion plans.\",\n",
       "  'is_financial_or_business_news': True,\n",
       "  'analysis_of_relevant_for_india': \"Article is about First Gen Corp's renewable energy expansion plans in the Philippines, not directly relevant to India.\",\n",
       "  'relevant_for_india': False,\n",
       "  'analysis_of_article_validity_duration': \"This article discusses a company's long-term strategy, making it relevant for a few weeks.\",\n",
       "  'article_validity_duration': 14,\n",
       "  'analysis_of_popularity': \"The article is about a major company's renewable energy expansion plans, likely to be of moderate interest.\",\n",
       "  'popularity': 'moderately_popular',\n",
       "  'analysis_of_article_type': \"The article provides factual information about First Gen Corp's plans, making it a factual piece.\",\n",
       "  'article_type': 'fact',\n",
       "  'analysis_of_article_sentiment': \"The article is neutral, presenting the facts about First Gen Corp's renewable energy expansion plans.\",\n",
       "  'article_sentiment': 'NA',\n",
       "  'headline_suggestion': \"First Gen Corp's Renewable Energy Expansion Plans\",\n",
       "  'summary': 'First Gen Corp, a Philippine energy company, plans to expand its renewable energy portfolio, with projects set to commence construction and operation this year.'},\n",
       " '651dd0eaa662d76276b7d380': {'analysis_is_financial_or_business_news': 'The article discusses the performance of several midcap stocks, indicating a financial context.',\n",
       "  'is_financial_or_business_news': True,\n",
       "  'analysis_of_relevant_for_india': 'The article discusses Indian stocks, making it relevant for Indian investors and businesses.',\n",
       "  'relevant_for_india': True,\n",
       "  'analysis_of_article_validity_duration': 'The information about stock performance is relevant until the next trading day.',\n",
       "  'article_validity_duration': 1,\n",
       "  'analysis_of_popularity': 'The article covers stock performances, which might attract a niche audience interested in finance.',\n",
       "  'popularity': 'niche',\n",
       "  'analysis_of_article_type': 'The article provides factual information about stock performances.',\n",
       "  'article_type': 'fact',\n",
       "  'analysis_of_article_sentiment': 'The article is neutral, providing factual information about stock performance.',\n",
       "  'article_sentiment': 'NA',\n",
       "  'headline_suggestion': 'Midcap Stocks Surpass 100-Day SMA: An Overview',\n",
       "  'summary': 'The article discusses the performance of five Indian midcap stocks surpassing their 100-day Simple Moving Average (SMA). The stocks include Astral, Poonawalla Fincorp, KPIT Technologies, Gujarat Fluorochemicals, and Pfizer.'},\n",
       " '651e0d65a662d76276b86c48': {'analysis_is_financial_or_business_news': 'The article discusses the impacts of climate change on the world, which is not directly related to finance or business.',\n",
       "  'is_financial_or_business_news': False,\n",
       "  'analysis_of_relevant_for_india': 'The article discusses global climate change which is relevant to everyone including Indians. However, it does not specifically mention India or its economic or business implications.',\n",
       "  'relevant_for_india': True,\n",
       "  'analysis_of_article_validity_duration': \"The article is about a forecast of climate change, which is a long-term issue. It's not time-bound, and the information will remain relevant for several months.\",\n",
       "  'article_validity_duration': -1,\n",
       "  'analysis_of_popularity': \"The article discusses climate change, which is a topic of global interest. However, it doesn't focus on the Indian perspective or business implications, which could limit its appeal.\",\n",
       "  'popularity': 'moderately_popular',\n",
       "  'analysis_of_article_type': 'The article is largely factual, presenting data from the World Meteorological Organisation report.',\n",
       "  'article_type': 'fact',\n",
       "  'analysis_of_article_sentiment': 'The article is neutral, presenting facts about climate change.',\n",
       "  'article_sentiment': 'NA',\n",
       "  'headline_suggestion': 'Global Warming: A 66% Likelihood of Temporary Surpassing 1.5₹C Threshold',\n",
       "  'summary': \"The World Meteorological Organisation's latest report predicts a 66% chance of temporary warming surpassing 1.5₹C, the global temperature threshold for limiting climate change's worst effects.\"},\n",
       " '6531690a1e5cc42b1b13cb19': {'analysis_is_financial_or_business_news': 'The article discusses the contradictory signals from various financial markets, which is relevant to finance.',\n",
       "  'is_financial_or_business_news': True,\n",
       "  'analysis_of_relevant_for_india': 'The article discusses global financial markets, which may interest Indian investors and financial analysts.',\n",
       "  'relevant_for_india': True,\n",
       "  'analysis_of_article_validity_duration': 'The article discusses current market trends, which will remain relevant for a few weeks.',\n",
       "  'article_validity_duration': 14,\n",
       "  'analysis_of_popularity': 'The article discusses global financial markets, which attracts a niche audience interested in finance.',\n",
       "  'popularity': 'niche',\n",
       "  'analysis_of_article_type': 'The article provides an analysis of the contradictory signals from different markets, making it an analysis piece.',\n",
       "  'article_type': 'analysis',\n",
       "  'analysis_of_article_sentiment': 'The article is neutral, presenting opposing views without predicting the future of markets.',\n",
       "  'article_sentiment': 'NA',\n",
       "  'headline_suggestion': 'The Contradictory Signals of Global Financial Markets: A Bearish or Bullish Outlook?',\n",
       "  'summary': 'The article discusses the conflicting signals from various financial markets, including the anticipation of a Federal Reserve rate hike, the inverted yield curve, and the bearish sentiment of bank stocks.'},\n",
       " '65316f061e5cc42b1b13eca2': {'analysis_is_financial_or_business_news': 'The article discusses the expected performance of Indian stock market indices, Nifty 50 and Sensex, which are financial indices.',\n",
       "  'is_financial_or_business_news': True,\n",
       "  'analysis_of_relevant_for_india': 'The article is relevant for Indians as it discusses the performance of Indian stock market indices.',\n",
       "  'relevant_for_india': True,\n",
       "  'analysis_of_article_validity_duration': 'The article discusses the expected performance of stock market indices for a single day, making it relevant only for that day.',\n",
       "  'article_validity_duration': 1,\n",
       "  'analysis_of_popularity': 'The article is relevant for a broad audience interested in the stock market, making it moderately popular.',\n",
       "  'popularity': 'moderately_popular',\n",
       "  'analysis_of_article_type': 'The article provides a forecast of stock market indices, making it an analysis piece.',\n",
       "  'article_type': 'analysis',\n",
       "  'analysis_of_article_sentiment': 'The sentiment of the article is bullish, indicating a positive outlook for the stock market.',\n",
       "  'article_sentiment': 'bull',\n",
       "  'headline_suggestion': 'Indian Stock Market Indexes Predicted to Open Flat with a Bullish Bias on October 5',\n",
       "  'summary': 'The Indian stock market indices are expected to open flat with a bullish bias on October 5, as indicated by the Gift Nifty.'},\n",
       " '6555ccc44b13023f934acd28': {'analysis_is_financial_or_business_news': \"The article is about Bharti Airtel's stock performance and recommendations from brokerage firm Motilal Oswal.\",\n",
       "  'is_financial_or_business_news': True,\n",
       "  'analysis_of_relevant_for_india': \"The article discusses Bharti Airtel, an Indian telecom company's stock performance and recommendations from a brokerage firm. This is relevant for Indian investors and stakeholders.\",\n",
       "  'relevant_for_india': True,\n",
       "  'analysis_of_article_validity_duration': \"The article is an analysis of Bharti Airtel's stock performance and recommendations, which is relevant for a week.\",\n",
       "  'article_validity_duration': 7,\n",
       "  'analysis_of_popularity': \"The article discusses a well-known Indian telecom company's stock performance, making it moderately popular.\",\n",
       "  'popularity': 'moderately_popular',\n",
       "  'analysis_of_article_type': \"The article is an analysis of Bharti Airtel's stock performance and recommendations from a brokerage firm.\",\n",
       "  'article_type': 'analysis',\n",
       "  'analysis_of_article_sentiment': \"The article is neutral as it provides factual information and analysis of Bharti Airtel's stock performance.\",\n",
       "  'article_sentiment': 'NA',\n",
       "  'headline_suggestion': \"Analyst Recommends Buy on Bharti Airtel's Stock\",\n",
       "  'summary': \"Analyst Motilal Oswal Securities recommends investors to buy Bharti Airtel's stock, setting a target price of Rs 950, indicating a potential 24% upside.\"},\n",
       " '651e062fa662d76276b85b8e': {'analysis_is_financial_or_business_news': 'The article discusses the Kerala Lottery, a government-run lottery system in India.',\n",
       "  'is_financial_or_business_news': True,\n",
       "  'analysis_of_relevant_for_india': 'The article is relevant for Indians as it discusses the Kerala Lottery, a popular gambling system in India.',\n",
       "  'relevant_for_india': True,\n",
       "  'analysis_of_article_validity_duration': 'The article is informative and educational, discussing the Kerala Lottery system, which is a stable system and does not change frequently.',\n",
       "  'article_validity_duration': -1,\n",
       "  'analysis_of_popularity': 'The article is likely to be moderately popular, as it discusses a popular gambling system in India.',\n",
       "  'popularity': 'moderately_popular',\n",
       "  'analysis_of_article_type': 'The article is educational and informative, explaining the functioning of the Kerala Lottery.',\n",
       "  'article_type': 'educational',\n",
       "  'analysis_of_article_sentiment': 'The article is neutral, providing information about the Kerala Lottery.',\n",
       "  'article_sentiment': 'NA',\n",
       "  'headline_suggestion': 'Understanding the Kerala Lottery: An Overview of the Popular Gambling System in India',\n",
       "  'summary': 'The article provides a comprehensive overview of the Kerala Lottery system, a popular gambling system in India. It discusses its establishment in 1967, the weekly lottery draws, and how the results are announced.'},\n",
       " '6555cb434b13023f9349bb7a': {'analysis_is_financial_or_business_news': 'The article discusses a business deal between Disney and The Trade Desk, focusing on targeted automated ad integration.',\n",
       "  'is_financial_or_business_news': True,\n",
       "  'analysis_of_relevant_for_india': \"Disney and The Trade Desk's deal is global in nature, so it could be relevant to Indian readers interested in advertising tech.\",\n",
       "  'relevant_for_india': True,\n",
       "  'analysis_of_article_validity_duration': \"The deal is a significant business development, but its impact could take time to fully manifest. The article's validity could last for a few weeks.\",\n",
       "  'article_validity_duration': 14,\n",
       "  'analysis_of_popularity': 'The news is relevant to a niche audience, specifically those involved in advertising tech.',\n",
       "  'popularity': 'niche',\n",
       "  'analysis_of_article_type': 'The article is factual, providing details about a deal between Disney and The Trade Desk.',\n",
       "  'article_type': 'fact',\n",
       "  'analysis_of_article_sentiment': 'The article is neutral as it reports on a business deal.',\n",
       "  'article_sentiment': 'NA',\n",
       "  'headline_suggestion': 'Disney and The Trade Desk Partner for Targeted Automated Ad Integration',\n",
       "  'summary': \"Disney and The Trade Desk have signed a deal to integrate targeted, automated ads across Disney's properties, including Disney's Clean Room and Trade Desk's Unified ID 2.0, a first-party identity framework.\"},\n",
       " '6555ccbe4b13023f934ac833': {'analysis_is_financial_or_business_news': 'The article discusses changes in apartment sizes in major Indian cities, which pertains to the real estate sector.',\n",
       "  'is_financial_or_business_news': True,\n",
       "  'analysis_of_relevant_for_india': 'The article is relevant for Indians as it discusses changes in apartment sizes in major Indian cities.',\n",
       "  'relevant_for_india': True,\n",
       "  'analysis_of_article_validity_duration': 'The article provides data for Q1 2023, making it relevant for a few weeks.',\n",
       "  'article_validity_duration': 14,\n",
       "  'analysis_of_popularity': 'The article discusses changes in apartment sizes, which may be of interest to a wide audience.',\n",
       "  'popularity': 'moderately_popular',\n",
       "  'analysis_of_article_type': 'The article is factual, providing data on changes in apartment sizes.',\n",
       "  'article_type': 'fact',\n",
       "  'analysis_of_article_sentiment': 'The article is neutral as it simply presents data without speculating on future trends.',\n",
       "  'article_sentiment': 'NA',\n",
       "  'headline_suggestion': 'Average Apartment Sizes Increase in Major Indian Cities',\n",
       "  'summary': \"Average apartment sizes in major Indian cities increased from 1,150 sq. ft. in 2018 to 1,225 sq. ft. in Q1 2023, according to ANAROCK's latest data. NCR sees the highest growth, while Mumbai and Chennai witness a decline in larger homes.\"},\n",
       " '652fc87e1e5cc42b1b139ff9': {'analysis_is_financial_or_business_news': 'The article discusses financial planning for early retirement, which falls under personal finance.',\n",
       "  'is_financial_or_business_news': True,\n",
       "  'analysis_of_relevant_for_india': 'The article is relevant for Indians as it talks about Indian financial planning and tax laws.',\n",
       "  'relevant_for_india': True,\n",
       "  'analysis_of_article_validity_duration': 'This article provides financial advice for early retirement which is timeless unless there are changes in tax laws or other regulations.',\n",
       "  'article_validity_duration': -1,\n",
       "  'analysis_of_popularity': 'This article is targeted towards a niche audience, those who are planning for early retirement.',\n",
       "  'popularity': 'niche',\n",
       "  'analysis_of_article_type': \"This article provides financial advice for early retirement, hence it's an educational piece.\",\n",
       "  'article_type': 'educational',\n",
       "  'analysis_of_article_sentiment': 'The article maintains a neutral tone, providing financial advice without expressing a bullish or bearish sentiment.',\n",
       "  'article_sentiment': 'NA',\n",
       "  'headline_suggestion': 'Mastering Early Retirement: Financial Tips for Indians',\n",
       "  'summary': 'The article provides comprehensive financial advice for early retirement for Indians. It emphasizes financial planning, debt management, and investing.'},\n",
       " '6555c2124b13023f9348d13d': {'analysis_is_financial_or_business_news': 'The article discusses geopolitical tensions between China and Taiwan, which does not directly pertain to finance or business.',\n",
       "  'is_financial_or_business_news': False,\n",
       "  'analysis_of_relevant_for_india': 'While the article discusses geopolitical tensions in Asia, it does not directly impact India or its financial or business sectors.',\n",
       "  'relevant_for_india': False,\n",
       "  'analysis_of_article_validity_duration': 'The article discusses a recent event and the implications of geopolitical tensions, which will remain relevant for a few weeks.',\n",
       "  'article_validity_duration': 14,\n",
       "  'analysis_of_popularity': 'The article discusses a geopolitical issue, which may interest a niche audience interested in international affairs.',\n",
       "  'popularity': 'niche',\n",
       "  'analysis_of_article_type': 'The article is factual, providing information about the geopolitical situation between China and Taiwan.',\n",
       "  'article_type': 'fact',\n",
       "  'analysis_of_article_sentiment': 'The article maintains a neutral tone, not indicating a bullish or bearish sentiment.',\n",
       "  'article_sentiment': 'NA',\n",
       "  'headline_suggestion': \"Taiwan President Condemns 'Irresponsible' Chinese Military Drills\",\n",
       "  'summary': \"Taiwanese President Tsai Ing-wen criticized China's recent military exercises around Taiwan, deeming them irresponsible acts for a major country.\"},\n",
       " '652fc5811e5cc42b1b139e8f': {'analysis_is_financial_or_business_news': 'The article discusses real estate investment opportunities in Narela, Delhi, which is related to finance.',\n",
       "  'is_financial_or_business_news': True,\n",
       "  'analysis_of_relevant_for_india': 'The article discusses the real estate sector of Narela, Delhi, which is relevant to Indian readers.',\n",
       "  'relevant_for_india': True,\n",
       "  'analysis_of_article_validity_duration': 'This article is educational and informative, discussing the potential of residential real estate investment in Narela, Delhi. The information is timeless unless there are changes in the real estate market.',\n",
       "  'article_validity_duration': -1,\n",
       "  'analysis_of_popularity': 'This article targets a niche audience interested in real estate investment in Narela, Delhi. It does not cater to general public.',\n",
       "  'popularity': 'niche',\n",
       "  'analysis_of_article_type': 'The article is an analysis of real estate investment opportunities in Narela, Delhi, which makes it educational.',\n",
       "  'article_type': 'educational',\n",
       "  'analysis_of_article_sentiment': 'The article maintains a neutral tone, presenting facts about the real estate sector of Narela, Delhi.',\n",
       "  'article_sentiment': 'NA',\n",
       "  'headline_suggestion': 'Exploring Residential Real Estate Investment Opportunities in Narela, Delhi',\n",
       "  'summary': 'Narela, a sub-city of Delhi Development Authority (DDA), offers great infrastructural facilities, connectivity, and amenities, making it a popular residential real estate investment destination.'},\n",
       " '65316aec1e5cc42b1b13dda1': {'analysis_is_financial_or_business_news': 'The article discusses the forecasted growth of the Indian road logistics sector, highlighting factors like investment demand, digitalization, and infrastructure development.',\n",
       "  'is_financial_or_business_news': True,\n",
       "  'analysis_of_relevant_for_india': 'The article discusses the Indian road logistics industry, making it relevant for Indians. It covers factors such as the impact of monsoons on the economy, shifting trends towards digitalization, and the implementation of policies like the National Logistics Policy.',\n",
       "  'relevant_for_india': True,\n",
       "  'analysis_of_article_validity_duration': \"The article provides a comprehensive analysis of the industry's growth projections for FY24, making it relevant for a month.\",\n",
       "  'article_validity_duration': 30,\n",
       "  'analysis_of_popularity': 'The article covers a niche sector of the Indian economy, making it relevant for a niche audience, primarily those interested in the logistics sector.',\n",
       "  'popularity': 'niche',\n",
       "  'analysis_of_article_type': \"The article is largely factual, presenting data and predictions from Icra's report.\",\n",
       "  'article_type': 'fact',\n",
       "  'analysis_of_article_sentiment': 'The article is neutral, presenting both positive and negative factors affecting the industry.',\n",
       "  'article_sentiment': 'NA',\n",
       "  'headline_suggestion': 'Indian Road Logistics Sector to See High Single-Digit Growth in FY24',\n",
       "  'summary': 'Icra predicts the Indian road logistics sector to achieve high single-digit revenue growth in FY24, driven by stable domestic consumption, investment demand, and a shift towards organized players.'},\n",
       " '651df243a662d76276b82b3e': {'analysis_is_financial_or_business_news': 'The article pertains to government expenditure for the restoration and conservation of ancient monuments in Uttar Pradesh, which is not directly related to finance or business.',\n",
       "  'is_financial_or_business_news': False,\n",
       "  'analysis_of_relevant_for_india': 'The article discusses the restoration and conservation of ancient monuments in Uttar Pradesh, which is relevant for Indians as it involves governmental actions and funds.',\n",
       "  'relevant_for_india': True,\n",
       "  'analysis_of_article_validity_duration': 'The article is about government policies and expenditure for the conservation and restoration of ancient monuments. The validity of this information is for a few weeks.',\n",
       "  'article_validity_duration': 14,\n",
       "  'analysis_of_popularity': 'The article pertains to the conservation and restoration of ancient monuments in Uttar Pradesh, which might attract moderate attention from readers interested in history and culture.',\n",
       "  'popularity': 'moderately_popular',\n",
       "  'analysis_of_article_type': 'The article is factual, providing information about the allocation of funds for the restoration and conservation of ancient monuments in Uttar Pradesh.',\n",
       "  'article_type': 'fact',\n",
       "  'analysis_of_article_sentiment': 'The article does not express a bullish or bearish sentiment as it is reporting facts about government expenditure.',\n",
       "  'article_sentiment': 'NA',\n",
       "  'headline_suggestion': 'Government Allocates Rs 53.60 Crore for Restoration and Conservation of Ancient Monuments in Uttar Pradesh',\n",
       "  'summary': 'The current financial year has seen a total fund allocation of Rs 53.60 crore for the restoration and conservation of centrally-protected monuments in Uttar Pradesh.'},\n",
       " '6555c41a4b13023f9348d71a': {'analysis_is_financial_or_business_news': \"The article discusses the Philippines' position in the renewable energy industry, which falls under business and finance.\",\n",
       "  'is_financial_or_business_news': True,\n",
       "  'analysis_of_relevant_for_india': \"The article does not mention India directly, but it does discuss the Philippines' position in renewable energy, which may be of interest to Indian investors or businesses.\",\n",
       "  'relevant_for_india': True,\n",
       "  'analysis_of_article_validity_duration': 'The article discusses a biannual report, which makes it relevant for a few weeks.',\n",
       "  'article_validity_duration': 14,\n",
       "  'analysis_of_popularity': \"The article talks about a country's position in renewable energy, which is a niche topic.\",\n",
       "  'popularity': 'niche',\n",
       "  'analysis_of_article_type': 'The article is factual, presenting the results of the report.',\n",
       "  'article_type': 'fact',\n",
       "  'analysis_of_article_sentiment': 'The article is neutral, presenting facts without speculating on the future of the industry.',\n",
       "  'article_sentiment': 'NA',\n",
       "  'headline_suggestion': \"Philippines Slips in Renewable Energy Rankings: EY's Report\",\n",
       "  'summary': \"Philippines fell six places to 33rd in the 61st edition of Ernst & Young's Renewable Energy Country Attractiveness Index (RECAI), ranking above Vietnam and Thailand.\"},\n",
       " '652fd13b1e5cc42b1b13a41b': {'analysis_is_financial_or_business_news': 'The article is about the real estate investment opportunities in Ahmadnagar, a city in Maharashtra, India.',\n",
       "  'is_financial_or_business_news': True,\n",
       "  'analysis_of_relevant_for_india': 'The article discusses real estate investments in a city in India, hence it is relevant for Indians.',\n",
       "  'relevant_for_india': True,\n",
       "  'analysis_of_article_validity_duration': 'The article discusses the potential of Ahmadnagar for real estate investments, which is a long-term investment. Hence, it has a long validity duration.',\n",
       "  'article_validity_duration': -1,\n",
       "  'analysis_of_popularity': 'The article is about a specific location in India, and is targeted towards a niche audience interested in real estate investments.',\n",
       "  'popularity': 'niche',\n",
       "  'analysis_of_article_type': 'The article is factual, providing information about the real estate investment opportunities in Ahmadnagar.',\n",
       "  'article_type': 'fact',\n",
       "  'analysis_of_article_sentiment': \"The article maintains a neutral sentiment, presenting facts about Ahmadnagar's economic potential.\",\n",
       "  'article_sentiment': 'NA',\n",
       "  'headline_suggestion': 'Exploring Real Estate Investment Opportunities in Ahmadnagar, India',\n",
       "  'summary': \"The article discusses the potential of Ahmadnagar, a city in Maharashtra, India, for real estate investments. It discusses the city's economic strength, potential for growth, and investment opportunities.\"},\n",
       " '651e1a63a662d76276b88a9f': {'analysis_is_financial_or_business_news': 'The article discusses the changes in gold and silver prices in India and internationally, which is related to finance.',\n",
       "  'is_financial_or_business_news': True,\n",
       "  'analysis_of_relevant_for_india': 'The article is relevant for Indians as it discusses the changes in gold and silver prices in India.',\n",
       "  'relevant_for_india': True,\n",
       "  'analysis_of_article_validity_duration': 'The article is relevant for a day as it discusses daily fluctuations in gold and silver prices.',\n",
       "  'article_validity_duration': 1,\n",
       "  'analysis_of_popularity': 'Given the wide popularity of gold and silver in India, the article may attract moderate attention.',\n",
       "  'popularity': 'moderately_popular',\n",
       "  'analysis_of_article_type': 'The article is factual, providing updates on the changes in gold and silver prices.',\n",
       "  'article_type': 'fact',\n",
       "  'analysis_of_article_sentiment': 'The article is neutral, providing updates on gold and silver prices without predicting their future direction.',\n",
       "  'article_sentiment': 'NA',\n",
       "  'headline_suggestion': 'Gold and Silver Prices Surge in India Amid International Trends',\n",
       "  'summary': 'Gold prices in India rose by Rs 280 to Rs 60,680 per 10 gram, while silver climbed by Rs 470 to Rs 74,950 per kg.'},\n",
       " '651df9a8a662d76276b83c48': {'analysis_is_financial_or_business_news': \"Article discusses India's energy sector, nuclear technology, and potential collaboration with US.\",\n",
       "  'is_financial_or_business_news': True,\n",
       "  'analysis_of_relevant_for_india': \"Article is highly relevant for India as it discusses India's energy needs, nuclear technology, and potential collaboration with US.\",\n",
       "  'relevant_for_india': True,\n",
       "  'analysis_of_article_validity_duration': 'Article discusses potential collaboration between India and US, which is a long-term issue. Hence, it has a long validity duration.',\n",
       "  'article_validity_duration': 30,\n",
       "  'analysis_of_popularity': 'The topic is of high interest to a wide audience, including those interested in energy, nuclear technology, and international relations.',\n",
       "  'popularity': 'breaking_news',\n",
       "  'analysis_of_article_type': 'The article is factual, providing information about potential collaboration between India and US on energy technology.',\n",
       "  'article_type': 'fact',\n",
       "  'analysis_of_article_sentiment': 'The article is neutral, providing factual information about the potential collaboration.',\n",
       "  'article_sentiment': 'NA',\n",
       "  'headline_suggestion': 'India and US Set to Agree on Nuclear Compact for Enhanced Energy Cooperation',\n",
       "  'summary': \"Indian-American executive Kris Singh, CEO of Holtec International, hopes for a nuclear compact between India and the US to enhance cooperation on energy technology, benefiting India's energy requirements and pollution control.\"},\n",
       " '651e1912a662d76276b887a0': {'analysis_is_financial_or_business_news': 'The article is related to the rollout of 5G services by telecom operators in India, which is a business and financial topic.',\n",
       "  'is_financial_or_business_news': True,\n",
       "  'analysis_of_relevant_for_india': 'The article is relevant for Indians as it discusses the rollout of 5G services in India, which impacts the telecom industry and consumers.',\n",
       "  'relevant_for_india': True,\n",
       "  'analysis_of_article_validity_duration': 'This article is about the ongoing rollout of 5G services in India, making it relevant for a few weeks.',\n",
       "  'article_validity_duration': 14,\n",
       "  'analysis_of_popularity': \"This article is likely to be moderately popular as it discusses a significant development in India's telecom sector, which impacts a large number of consumers and businesses.\",\n",
       "  'popularity': 'moderately_popular',\n",
       "  'analysis_of_article_type': 'The article is factual, providing information about the rollout of 5G services in India.',\n",
       "  'article_type': 'fact',\n",
       "  'analysis_of_article_sentiment': 'The article is neutral, providing factual information about the rollout of 5G services.',\n",
       "  'article_sentiment': 'NA',\n",
       "  'headline_suggestion': 'COAI Asserts Telecom Operators Are Cautious of Service Quality in 5G Rollout',\n",
       "  'summary': 'COAI says Indian telecom operators are cautious of adhering to service quality as they roll out 5G, highlighting the rollout is happening in a phased manner.'},\n",
       " '6555b5dc4b13023f9348c38c': {'analysis_is_financial_or_business_news': 'The article discusses the financial performance of Subros Ltd.',\n",
       "  'is_financial_or_business_news': True,\n",
       "  'analysis_of_relevant_for_india': 'The article is about an Indian company, Subros Ltd., and its performance, hence relevant for India.',\n",
       "  'relevant_for_india': True,\n",
       "  'analysis_of_article_validity_duration': 'The article discusses quarterly results, which are relevant for a week.',\n",
       "  'article_validity_duration': 7,\n",
       "  'analysis_of_popularity': \"The article covers a company's financial performance, which may interest investors, making it moderately popular.\",\n",
       "  'popularity': 'moderately_popular',\n",
       "  'analysis_of_article_type': \"The article is factual, providing details about Subros's financial performance.\",\n",
       "  'article_type': 'fact',\n",
       "  'analysis_of_article_sentiment': \"The article is neutral, reporting facts about the company's financial performance.\",\n",
       "  'article_sentiment': 'NA',\n",
       "  'headline_suggestion': 'Subros Ltd. Shares Surge Amidst Profit Boost',\n",
       "  'summary': \"Subros Ltd.'s shares surge to highest level in over two months after Q2 profit doubles, beating analysts' estimates.\"},\n",
       " '651df04ba662d76276b825f3': {'analysis_is_financial_or_business_news': 'The article discusses the IPO of Yatharth Hospital, a business news',\n",
       "  'is_financial_or_business_news': True,\n",
       "  'analysis_of_relevant_for_india': \"The news is about an Indian company's IPO, relevant for Indian investors\",\n",
       "  'relevant_for_india': True,\n",
       "  'analysis_of_article_validity_duration': 'The news is about an upcoming event, valid until the IPO is completed',\n",
       "  'article_validity_duration': 1,\n",
       "  'analysis_of_popularity': 'The news is about a significant event, likely to attract moderate attention',\n",
       "  'popularity': 'moderately_popular',\n",
       "  'analysis_of_article_type': 'The article provides factual information about the IPO',\n",
       "  'article_type': 'fact',\n",
       "  'analysis_of_article_sentiment': 'The article is neutral, not bearing a bullish or bearish sentiment',\n",
       "  'article_sentiment': 'NA',\n",
       "  'headline_suggestion': 'Yatharth Hospital Raises Rs 206 Crore from Anchor Investors for IPO',\n",
       "  'summary': 'Yatharth Hospital, a Delhi-based hospital chain, has collected Rs 206 crore from anchor investors ahead of its IPO.'},\n",
       " '6555c8474b13023f93492470': {'analysis_is_financial_or_business_news': 'Article discusses a potential power transmission project involving the Philippines and neighboring countries, which pertains to the energy sector.',\n",
       "  'is_financial_or_business_news': True,\n",
       "  'analysis_of_relevant_for_india': 'Article is about a power transmission project in the Philippines, not directly relevant to India.',\n",
       "  'relevant_for_india': False,\n",
       "  'analysis_of_article_validity_duration': 'The article discusses a feasibility study which may take months to complete, making it relevant for a few weeks.',\n",
       "  'article_validity_duration': 14,\n",
       "  'analysis_of_popularity': 'The article discusses a potential power transmission project, which may interest a niche audience interested in energy projects.',\n",
       "  'popularity': 'niche',\n",
       "  'analysis_of_article_type': 'The article provides factual information about the potential power transmission project, making it a factual piece.',\n",
       "  'article_type': 'fact',\n",
       "  'analysis_of_article_sentiment': 'The article is neutral, simply providing information about a project.',\n",
       "  'article_sentiment': 'NA',\n",
       "  'headline_suggestion': 'Philippines, Neighbors Study Power Transmission Project Connecting Palawan and Borneo',\n",
       "  'summary': 'The Department of Energy of the Philippines is conducting a feasibility study for a power transmission project connecting Palawan Island to Northern Borneo, which could eventually connect to Singapore.'},\n",
       " '651e192ba662d76276b887da': {'analysis_is_financial_or_business_news': 'The article discusses the improvements being made at Srinagar International Airport, which is related to infrastructure and business.',\n",
       "  'is_financial_or_business_news': True,\n",
       "  'analysis_of_relevant_for_india': 'The article is relevant for Indians as it discusses the improvements being made at the Srinagar International Airport, which is an important hub for Indian air travel.',\n",
       "  'relevant_for_india': True,\n",
       "  'analysis_of_article_validity_duration': 'The article is about an ongoing improvement project at an airport. The changes may take time to implement, so it has a long validity.',\n",
       "  'article_validity_duration': 30,\n",
       "  'analysis_of_popularity': 'The article discusses improvements at a major airport, which is of interest to a broad audience.',\n",
       "  'popularity': 'moderately_popular',\n",
       "  'analysis_of_article_type': 'The article is factual, providing details about the improvements being made at the airport.',\n",
       "  'article_type': 'fact',\n",
       "  'analysis_of_article_sentiment': \"The article is neutral as it reports facts about the airport's improvement project.\",\n",
       "  'article_sentiment': 'NA',\n",
       "  'headline_suggestion': 'Srinagar Airport to Enhance Facilities for Increased Passenger Footfall',\n",
       "  'summary': 'Srinagar International Airport is preparing to enhance its facilities to accommodate increased footfall due to upcoming G20 events and the tourist season. Measures include setting up more baggage checking machines, introducing electric vehicles, setting up a police unit and a police facilitation counter.'},\n",
       " '6555b5dd4b13023f9348c3cb': {'analysis_is_financial_or_business_news': 'The article discusses the financial performance of Somany Ceramics Ltd., a ceramic tile manufacturer.',\n",
       "  'is_financial_or_business_news': True,\n",
       "  'analysis_of_relevant_for_india': 'The article is about the performance of an Indian company, Somany Ceramics, which is relevant to Indian investors.',\n",
       "  'relevant_for_india': True,\n",
       "  'analysis_of_article_validity_duration': 'The article discusses quarterly performance, which is relevant for a short period, i.e., a week.',\n",
       "  'article_validity_duration': 7,\n",
       "  'analysis_of_popularity': 'The article discusses the financial performance of a well-known Indian company, which could attract a moderate audience.',\n",
       "  'popularity': 'moderately_popular',\n",
       "  'analysis_of_article_type': \"The article is factual, providing data on the company's financial performance.\",\n",
       "  'article_type': 'fact',\n",
       "  'analysis_of_article_sentiment': \"The article is neutral, presenting the facts about the company's performance.\",\n",
       "  'article_sentiment': 'NA',\n",
       "  'headline_suggestion': \"Somany Ceramics' Q2 Profit More Than Doubles, Stock Surges\",\n",
       "  'summary': \"Somany Ceramics Ltd.'s Q2 profit doubled, surpassing analysts' expectations. Shares surged 8% to their highest in two weeks.\"},\n",
       " '6555c80a4b13023f9348ff84': {'analysis_is_financial_or_business_news': 'The article discusses the impact of the underground economy on GDP, a financial indicator.',\n",
       "  'is_financial_or_business_news': True,\n",
       "  'analysis_of_relevant_for_india': 'The topic is relevant globally, including India, due to the impact of underground economy on GDP.',\n",
       "  'relevant_for_india': True,\n",
       "  'analysis_of_article_validity_duration': 'The article is educational and does not refer to any time-bound event or policy changes.',\n",
       "  'article_validity_duration': -1,\n",
       "  'analysis_of_popularity': 'The article discusses a significant global economic phenomenon, making it moderately popular.',\n",
       "  'popularity': 'moderately_popular',\n",
       "  'analysis_of_article_type': 'The article is largely educational, explaining the impact of the underground economy on GDP.',\n",
       "  'article_type': 'educational',\n",
       "  'analysis_of_article_sentiment': 'The article is neutral, presenting the facts about the underground economy.',\n",
       "  'article_sentiment': 'NA',\n",
       "  'headline_suggestion': 'Understanding the Impact of the Underground Economy on GDP',\n",
       "  'summary': 'The article explains the underground economy, including illicit activities like prostitution and drug sales, and its effect on GDP.'},\n",
       " '651dd41ca662d76276b7dca8': {'analysis_is_financial_or_business_news': 'Article discusses the surge in American home purchases in Spain, due to various factors such as climate, affordable prices, and digital nomad visas.',\n",
       "  'is_financial_or_business_news': True,\n",
       "  'analysis_of_relevant_for_india': \"The article is about the trend of American home purchases in Spain, which isn't directly relevant to Indians or Indian real estate market.\",\n",
       "  'relevant_for_india': False,\n",
       "  'analysis_of_article_validity_duration': 'The article is about a recent trend in home buying in Spain, which is relevant for a few weeks.',\n",
       "  'article_validity_duration': 14,\n",
       "  'analysis_of_popularity': 'The article covers a popular topic - American home purchases in Spain, which should attract a wide audience.',\n",
       "  'popularity': 'breaking_news',\n",
       "  'analysis_of_article_type': 'The article is factual, providing data on the increase in American home purchases in Spain.',\n",
       "  'article_type': 'fact',\n",
       "  'analysis_of_article_sentiment': 'The article has a neutral sentiment, presenting facts about the increase in American home purchases in Spain.',\n",
       "  'article_sentiment': 'NA',\n",
       "  'headline_suggestion': 'Why Are Americans Shifting to Spain: An Insight into Home Buying Trends',\n",
       "  'summary': 'The article discusses the increase in American home purchases in Spain, citing factors like warm climate, affordable prices, and digital nomad visas.'},\n",
       " '65367fe21e5cc42b1b143c7d': {'analysis_is_financial_or_business_news': \"The article discusses Reliance Industries' business strategies and acquisitions, making it relevant to finance/business.\",\n",
       "  'is_financial_or_business_news': True,\n",
       "  'analysis_of_relevant_for_india': 'The article is about an Indian company, Reliance Industries, its operations and strategies, making it relevant to Indian investors and business enthusiasts.',\n",
       "  'relevant_for_india': True,\n",
       "  'analysis_of_article_validity_duration': \"The article covers a range of topics related to Reliance Industries' business strategies, which is a long-term strategy. Thus, it is relevant for a significant period.\",\n",
       "  'article_validity_duration': 30,\n",
       "  'analysis_of_popularity': 'Reliance Industries is a significant player in the Indian corporate sector. Hence, the article is likely to attract a large audience.',\n",
       "  'popularity': 'moderately_popular',\n",
       "  'analysis_of_article_type': \"The article is largely factual, providing details about Reliance Industries' business strategies and acquisitions.\",\n",
       "  'article_type': 'fact',\n",
       "  'analysis_of_article_sentiment': \"The article maintains a neutral sentiment as it presents facts about Reliance Industries' business strategies.\",\n",
       "  'article_sentiment': 'NA',\n",
       "  'headline_suggestion': \"Reliance Industries' Shift: From Oil to Convergence\",\n",
       "  'summary': 'Reliance Industries, a major Indian corporation, is shifting its focus from oil to a conglomerate of industries. The company has a presence in Retail, Digital Services, Media and Entertainment, Oil to Chemicals, Oil and Gas Exploration and Production.'},\n",
       " '6555c8184b13023f93490818': {'analysis_is_financial_or_business_news': 'Article is about politics and not finance or business.',\n",
       "  'is_financial_or_business_news': False,\n",
       "  'analysis_of_relevant_for_india': 'Article is about US politics and not relevant for Indian audience.',\n",
       "  'relevant_for_india': False,\n",
       "  'analysis_of_article_validity_duration': 'This article is about an ongoing political situation in the US and is relevant for a week.',\n",
       "  'article_validity_duration': 7,\n",
       "  'analysis_of_popularity': 'Article is about US politics and may attract a moderate audience.',\n",
       "  'popularity': 'moderately_popular',\n",
       "  'analysis_of_article_type': 'Article is factual and reports on recent political developments.',\n",
       "  'article_type': 'fact',\n",
       "  'analysis_of_article_sentiment': 'The sentiment of the article is neutral as it reports on the ongoing political situation.',\n",
       "  'article_sentiment': 'NA',\n",
       "  'headline_suggestion': 'GOP Lawmakers Trying to Coalesce Around House Speaker Nominee',\n",
       "  'summary': 'GOP lawmakers are trying to coalesce around a House speaker nominee for the third time. The GOP nominee will face an internal party vote on Tuesday. Without a clear winner, the House remains leaderless and faces a Nov. 17 government shutdown deadline.'},\n",
       " '65316fd51e5cc42b1b141f77': {'analysis_is_financial_or_business_news': 'The article discusses the performance of Indian stocks, highlighting specific stocks.',\n",
       "  'is_financial_or_business_news': True,\n",
       "  'analysis_of_relevant_for_india': 'The article discusses Indian stocks, making it relevant for Indian investors.',\n",
       "  'relevant_for_india': True,\n",
       "  'analysis_of_article_validity_duration': 'The article discusses the stock market performance for a specific day, thus it has a short validity.',\n",
       "  'article_validity_duration': 1,\n",
       "  'analysis_of_popularity': 'The article discusses stock market performance, which may be of interest to a niche audience, particularly investors.',\n",
       "  'popularity': 'niche',\n",
       "  'analysis_of_article_type': 'The article is factual, presenting information about the stock market performance.',\n",
       "  'article_type': 'fact',\n",
       "  'analysis_of_article_sentiment': 'The article does not have a bullish or bearish sentiment as it is presenting factual information.',\n",
       "  'article_sentiment': 'NA',\n",
       "  'headline_suggestion': 'Indian Stocks in Focus: Insights into August 02 Performance',\n",
       "  'summary': 'The Indian stock market ended with marginal declines on August 1, with the Sensex and Nifty dropping by 0.1%.'},\n",
       " '651e1f32a662d76276b895fe': {'analysis_is_financial_or_business_news': 'The article discusses religious festivals in Islam, not directly related to finance or business.',\n",
       "  'is_financial_or_business_news': False,\n",
       "  'analysis_of_relevant_for_india': \"The article discusses Islamic festivals, which are relevant to a global audience, including Indians. However, it doesn't specifically mention India or its financial or business aspects.\",\n",
       "  'relevant_for_india': True,\n",
       "  'analysis_of_article_validity_duration': 'The article is educational, explaining Islamic festivals. It is not time-bound and is relevant year-round.',\n",
       "  'article_validity_duration': -1,\n",
       "  'analysis_of_popularity': 'The article covers a religious festival celebrated globally, making it relevant to a wide audience. However, it does not discuss popular topics or trends.',\n",
       "  'popularity': 'moderately_popular',\n",
       "  'analysis_of_article_type': 'The article is educational, explaining the significance of Islamic festivals and their practices.',\n",
       "  'article_type': 'educational',\n",
       "  'analysis_of_article_sentiment': 'The article is neutral, providing information about Islamic festivals.',\n",
       "  'article_sentiment': 'NA',\n",
       "  'headline_suggestion': 'Understanding the Islamic Festivals: Eid al-Fitr and Eid al-Adha',\n",
       "  'summary': \"Eid al-Fitr, celebrated on April 21 or April 22, is an Islamic festival marking the end of Ramadan, the month of fasting. Eid al-Adha, celebrated in June, commemorates Ibrahim's sacrifice and the pilgrimage of Muslims to Mecca.\"}}"
      ]
     },
     "execution_count": 293,
     "metadata": {},
     "output_type": "execute_result"
    }
   ],
   "source": [
    "va_new_2"
   ]
  },
  {
   "cell_type": "code",
   "execution_count": 289,
   "id": "01a7ecc6-762e-4a01-a207-b4bab309f6d5",
   "metadata": {
    "tags": []
   },
   "outputs": [
    {
     "data": {
      "text/plain": [
       "'<|im_start|>system\\n\\nYou are the chief editor for a leading Indian financial and business news website. You evaluate critical attributes of articles to gate keep content quality. For many attributes, you will first provide a brief analysis of less than 30 words, followed by assessment.\\n\\n1. analysis_is_financial_or_business_news (short text) : <analyse if article pertains to finance/business or not. government policies directly impacting indian corporations or investors are ok, but not if aren\\'t>\\n2. is_financial_or_business_news (1/0) : <1 or 0 based on previous attribute>\\n3. analysis_of_relevant_for_india (short text) : <analyse if article is relevant for indians. for example articles about 401k or small foreign companies won\\'t be relevant for india. however changes to fed interest rates or nasdaq or large multinational important news will be relevant>\\n4. relevant_for_india (1/0) : <1 or 0 based on previous attribute>\\n5. analysis_of_article_validity_duration (short text) : <Analyse relevance duration: Stock fluctuations, 1 day; significant policy changes, weeks; educational content is timeless unless it refers to any tax or other regulations in which case only 30 days. International news in India has shorter lifespan. popular topics are usually not timeless; quarterly analysis is valid for a week, yearly for a couple of weeks and a much longer one for a month>\\n6. article_validity_duration (one of 1, 3, 7, 14, 30, -1) : <calculate number of days based on previous attribute. -1: timeless. 1: article is relevant only for that day. 3: for a couple of days. 7: for a week. 14: for a couple of weeks. 30: for a month>\\n7. analysis_of_popularity (short text) : <analyse likely popularity of article - if its for niche audience, moderate_popularity or should be part of breaking_news section, depending on number of people who will be impacted by the news and the scale of the event. foreign entities known in india but not very popular will be mostly niche or rarely moderately popular. articles targeted to very specific business or pratices will be niche. infotainment business and financial articles with some drama are likely to be more popular. articles with a list of rules without compelling story-telling will be for niche audience>\\n8. popularity (one of niche, moderately_popular, breaking_news) : <based on previous attribute>\\n9. analysis_of_article_type (short text) : <analyse if the article is majorly factual, is an opinion piece, analysis, educational or likely sponsored. factual articles relay events. opinion pieces have predictions either from the author or from statements without data. analysis pieces have substantial data to justify. if an article is overly zealous on certain stock and seems like an ad, then it is sponsored>\\n10. article_type (one of fact, opinion, analysis, educational, sponsored) : <based on previous attribute>\\n11. analysis_of_article_sentiment (short_text): <analyse if the sentiment of the article is bullish, bearish or NA. balanced is NA>\\n12. article_sentiment (one of bull, bear, NA): <based on previous attribute>\\n13. summary_list (text of 60 words) : <Generate increasingly concise, entity-dense summaries. Repeat the following steps 3 times. \\nStep a. Identify 1-3 informative Entities (semicolon delimited) from the Article which are missing from the previously generated summary. \\nStep b. Write a new, denser summary of identical length which covers every entity and detail from the previous summary plus the Missing Entities. \\n\\nA Missing Entity is: \\nRelevant to the main story: Specific, descriptive yet concise (5 words or fewer); \\nNovel: not in the previous summary; \\nFaithful: present in the Article; \\n\\nGuidelines: Don\\'t refer to the article in third person, but summarize the contents. The first summary should be long (4-5 sentences, ~60 words) yet highly non-specific. Subsequently rewrite the previous summary to improve flow and make space for additional entities. Make space with compression and removal of uninformative phrases like \\'the article discusses\\'. The summaries should become highly dense but easily understood without the Article. Never drop entities from the previous summary. If space cannot be made, add fewer new entities. Remember, use the exact same number of words for each summary. generate a list of 3 dictionaries whose keys are \\'missing_entities\\' and \\'denser_summary\\'. and put the entire list in double quotes (\") for safe overall json decoding>\\n14. headline_suggestion (short text) : <Write a headline based on the content of the article>\\n\\nyour response should be a list of 2 json structures with all the 14 above keys without missing any key. It is very important that the response is directly readable with json.loads(). no preamble or postamble. respond in the exact following structure:\\n{\"attributes\":\\n{\\n\"analysis_is_financial_or_business_news\": \"\",\\n\"is_financial_or_business_news\": \"\",\\n\"analysis_of_relevant_for_india\": \"\",\\n\"relevant_for_india\": \"\",\\n\"analysis_of_article_validity_duration\": \"\",\\n\"article_validity_duration\": \"\",\\n\"evaluation_of_article_validity_duration\": \"\",\\n\"analysis_of_popularity\": \"\",\\n\"popularity\": \"\",\\n\"analysis_of_article_type\": \"\",\\n\"article_type\": \"\",\\n\"analysis_of_article_sentiment\": \"\",\\n\"article_sentiment\": \"\",\\n\"assessment_article_type\": \"\",\\n\"headline_suggestion\": \"\"},\\n\"summaries\": [{\"missing_entities\":\"\", \"denser_summary\": \"\"}, {\"missing_entities\":\"\", \"denser_summary\": \"\"}, {\"missing_entities\":\"\", \"denser_summary\": \"\"}]\\n}\\n\\n|article|\\n<|im_end|>\\n<|im_start|>user\\n|article_start|\\n \\n|article_end|\\n<|im_end|>\\n<|im_start|>assistant\\n'"
      ]
     },
     "execution_count": 289,
     "metadata": {},
     "output_type": "execute_result"
    }
   ],
   "source": [
    "tokenizer.apply_chat_template(messages, tokenize=False, add_generation_prompt=True)"
   ]
  },
  {
   "cell_type": "code",
   "execution_count": 182,
   "id": "1b40ad3d-a5c7-4629-933f-9d8d9892184f",
   "metadata": {
    "tags": []
   },
   "outputs": [
    {
     "name": "stdout",
     "output_type": "stream",
     "text": [
      "Attempt 1: Processed 100 IDs in 477.2520661354065 seconds\n",
      "Retrying for 10 invalid IDs\n",
      "Attempt 2: Processed 10 IDs in 311.21561217308044 seconds\n",
      "Retrying for 10 invalid IDs\n",
      "Attempt 3: Processed 10 IDs in 314.3252320289612 seconds\n",
      "Retrying for 10 invalid IDs\n",
      "Attempt 4: Processed 10 IDs in 311.9431040287018 seconds\n"
     ]
    }
   ],
   "source": [
    "va = get_attributes_for_article_ids(test_article_ids)"
   ]
  },
  {
   "cell_type": "code",
   "execution_count": 225,
   "id": "bdceaa4c-ccf6-4020-8ec3-e8703fd5cf54",
   "metadata": {
    "tags": []
   },
   "outputs": [
    {
     "data": {
      "text/plain": [
       "{'analysis_is_financial_or_business_news': \"The article discusses Reliance Industries' diversification into various sectors.\",\n",
       " 'is_financial_or_business_news': True,\n",
       " 'analysis_of_relevant_for_india': 'The article is about Reliance, an Indian multinational corporation, and its growth in various sectors.',\n",
       " 'relevant_for_india': True,\n",
       " 'analysis_of_article_validity_duration': 'The article discusses long-term business strategies and growth of Reliance, making it timeless.',\n",
       " 'article_validity_duration': -1,\n",
       " 'analysis_of_popularity': 'Reliance Industries is a popular company in India, so the article will attract a wide audience.',\n",
       " 'popularity': 'breaking_news',\n",
       " 'analysis_of_article_type': \"The article provides factual information about Reliance's business diversification.\",\n",
       " 'article_type': 'fact',\n",
       " 'analysis_of_article_sentiment': \"The article presents a bullish sentiment towards Reliance's growth and diversification.\",\n",
       " 'article_sentiment': 'bull',\n",
       " 'headline_suggestion': \"Reliance's Diversification: From Oil to Digital\",\n",
       " 'summary': 'Reliance Industries has diversified its business from being a major oil company to a conglomerate. The company now has a presence in various sectors including retail, digital services, media, and entertainment.'}"
      ]
     },
     "execution_count": 225,
     "metadata": {},
     "output_type": "execute_result"
    }
   ],
   "source": [
    "va['65367fe21e5cc42b1b143c7d']"
   ]
  },
  {
   "cell_type": "code",
   "execution_count": 232,
   "id": "9a710429-6044-4d25-ae8c-6b82a8487c22",
   "metadata": {
    "tags": []
   },
   "outputs": [],
   "source": [
    "with open('openhermes-finetuned-responses-test.json', 'w') as f:\n",
    "    json.dump(va, f)"
   ]
  },
  {
   "cell_type": "code",
   "execution_count": 226,
   "id": "3a96c8a2-e31c-4822-8631-c9bc07ae09f1",
   "metadata": {
    "tags": []
   },
   "outputs": [
    {
     "data": {
      "text/plain": [
       "dict_keys(['6555cc534b13023f934a7aa8', '651de15fa662d76276b7fecf', '651e1a84a662d76276b88aee', '6555c5694b13023f9348dcc0', '65316faa1e5cc42b1b141024', '651e1b59a662d76276b88cc8', '6555ccc84b13023f934ad130', '6555cc194b13023f934a4fa1', '651de04fa662d76276b7fbfb', '6555c1124b13023f9348ce03', '652ebb961e5cc42b1b139924', '6555ccc94b13023f934ad203', '6555cac44b13023f9349673f', '6555cb974b13023f9349f4ae', '651debaaa662d76276b819f6', '6555cc4c4b13023f934a75cf', '651e1f32a662d76276b895fe', '6555cb9f4b13023f9349fa84', '65316f5e1e5cc42b1b13fbde', '652cdf9950af0e25a912312f', '651e000ca662d76276b84c0d', '652ebbe61e5cc42b1b139c4f', '6555c3c24b13023f9348d582', '6531691c1e5cc42b1b13d0c9', '6555cbba4b13023f934a0d12', '6555c31b4b13023f9348d38e', '651def1aa662d76276b822fe', '651dd87da662d76276b7e750', '65316d2a1e5cc42b1b13e1fc', '651e1c4ea662d76276b88f01', '6555cbf84b13023f934a382d', '651e14c4a662d76276b87d81', '65316f021e5cc42b1b13ec21', '651dd877a662d76276b7e743', '653168c51e5cc42b1b13b90b', '651dd2cea662d76276b7d91e', '6531692b1e5cc42b1b13d499', '65316f1d1e5cc42b1b13eff1', '6555b5044b13023f9348b8db', '6555c49e4b13023f9348d93e', '651de1bea662d76276b7ffb8', '6555c2e64b13023f9348d32b', '65316f9b1e5cc42b1b140b85', '653680241e5cc42b1b1440fc', '6555c0da4b13023f9348cd0d', '6555c8144b13023f934905b9', '651e1036a662d76276b872e4', '651ddcd8a662d76276b7f2b4', '65316f4f1e5cc42b1b13f8c0', '651dd2aea662d76276b7d8bb', '6555b5a54b13023f9348be03', '653168971e5cc42b1b13b0f9', '6555cbb74b13023f934a0b16', '6555c7c34b13023f9348e053', '651ddef1a662d76276b7f833', '6555c20b4b13023f9348d12a', '653168b31e5cc42b1b13b59c', '6555c0064b13023f9348c972', '651dc6d5a662d76276b7b79b', '653168c91e5cc42b1b13b9f1', '6555ca844b13023f93494190', '651dfe1ca662d76276b84729', '651e0d65a662d76276b86c48', '6555bec34b13023f9348c534', '651dd0eaa662d76276b7d380', '6555ccc44b13023f934acd28', '6531690a1e5cc42b1b13cb19', '65316f061e5cc42b1b13eca2', '651e062fa662d76276b85b8e', '6555cb434b13023f9349bb7a', '65316f521e5cc42b1b13f95e', '6555ccbe4b13023f934ac833', '651df243a662d76276b82b3e', '65316aec1e5cc42b1b13dda1', '6555c2124b13023f9348d13d', '652fc87e1e5cc42b1b139ff9', '651df9a8a662d76276b83c48', '651e1a63a662d76276b88a9f', '6555c41a4b13023f9348d71a', '651e1912a662d76276b887a0', '6555b5dc4b13023f9348c38c', '6555c8474b13023f93492470', '651df04ba662d76276b825f3', '651e192ba662d76276b887da', '6555b5dd4b13023f9348c3cb', '65367fe21e5cc42b1b143c7d', '6555c80a4b13023f9348ff84', '651dd41ca662d76276b7dca8', '65316fd51e5cc42b1b141f77', '6555c8184b13023f93490818'])"
      ]
     },
     "execution_count": 226,
     "metadata": {},
     "output_type": "execute_result"
    }
   ],
   "source": [
    "va.keys()"
   ]
  },
  {
   "cell_type": "code",
   "execution_count": 196,
   "id": "04781203-daff-429a-9a45-732729c0131f",
   "metadata": {
    "tags": []
   },
   "outputs": [
    {
     "data": {
      "text/plain": [
       "['6555ccc84b13023f934ad130',\n",
       " '6555cac44b13023f9349673f',\n",
       " '651e000ca662d76276b84c0d',\n",
       " '651def1aa662d76276b822fe',\n",
       " '651e1c4ea662d76276b88f01',\n",
       " '651dd2aea662d76276b7d8bb',\n",
       " '653168971e5cc42b1b13b0f9',\n",
       " '651ddef1a662d76276b7f833',\n",
       " '653168b31e5cc42b1b13b59c',\n",
       " '6555ccc44b13023f934acd28',\n",
       " '6555cb434b13023f9349bb7a',\n",
       " '651df243a662d76276b82b3e',\n",
       " '652fc87e1e5cc42b1b139ff9',\n",
       " '651e1912a662d76276b887a0',\n",
       " '65367fe21e5cc42b1b143c7d']"
      ]
     },
     "execution_count": 196,
     "metadata": {},
     "output_type": "execute_result"
    }
   ],
   "source": [
    "[k for k in va.keys() if va[k]['popularity'] == 'breaking_news']"
   ]
  },
  {
   "cell_type": "code",
   "execution_count": 211,
   "id": "d11fc47b-298d-4bf8-a00a-8b7784f4693b",
   "metadata": {
    "tags": []
   },
   "outputs": [
    {
     "data": {
      "text/plain": [
       "{'analysis_is_financial_or_business_news': \"The article discusses Reliance Industries' diversification into various sectors.\",\n",
       " 'is_financial_or_business_news': True,\n",
       " 'analysis_of_relevant_for_india': 'The article is about Reliance, an Indian multinational corporation, and its growth in various sectors.',\n",
       " 'relevant_for_india': True,\n",
       " 'analysis_of_article_validity_duration': 'The article discusses long-term business strategies and growth of Reliance, making it timeless.',\n",
       " 'article_validity_duration': -1,\n",
       " 'analysis_of_popularity': 'Reliance Industries is a popular company in India, so the article will attract a wide audience.',\n",
       " 'popularity': 'breaking_news',\n",
       " 'analysis_of_article_type': \"The article provides factual information about Reliance's business diversification.\",\n",
       " 'article_type': 'fact',\n",
       " 'analysis_of_article_sentiment': \"The article presents a bullish sentiment towards Reliance's growth and diversification.\",\n",
       " 'article_sentiment': 'bull',\n",
       " 'headline_suggestion': \"Reliance's Diversification: From Oil to Digital\",\n",
       " 'summary': 'Reliance Industries has diversified its business from being a major oil company to a conglomerate. The company now has a presence in various sectors including retail, digital services, media, and entertainment.'}"
      ]
     },
     "execution_count": 211,
     "metadata": {},
     "output_type": "execute_result"
    }
   ],
   "source": [
    "va['65367fe21e5cc42b1b143c7d']"
   ]
  },
  {
   "cell_type": "code",
   "execution_count": 218,
   "id": "c9a92905-7baf-4b4d-b598-01868d60187f",
   "metadata": {
    "tags": []
   },
   "outputs": [],
   "source": [
    "a, b = get_attributes_from_llm('652fc5811e5cc42b1b139e8f')"
   ]
  },
  {
   "cell_type": "code",
   "execution_count": 223,
   "id": "edfb983d-33db-49f8-8f14-e1b1248730b7",
   "metadata": {
    "tags": []
   },
   "outputs": [
    {
     "data": {
      "text/plain": [
       "{'analysis_is_financial_or_business_news': 'The article discusses the real estate market in Narela, Delhi, and provides guidance for potential investors.',\n",
       " 'is_financial_or_business_news': True,\n",
       " 'analysis_of_relevant_for_india': 'The article is highly relevant for Indians, particularly those interested in investing in the real estate market in Delhi.',\n",
       " 'relevant_for_india': True,\n",
       " 'analysis_of_article_validity_duration': 'The article provides a comprehensive guide to investing in the Narela real estate market. It is timeless unless there are changes in the market conditions.',\n",
       " 'article_validity_duration': -1,\n",
       " 'analysis_of_popularity': 'The article is likely to be moderately popular as it discusses the real estate market in Delhi, which is of interest to many Indians.',\n",
       " 'popularity': 'moderately_popular',\n",
       " 'analysis_of_article_type': 'The article is an informative guide to investing in the Narela real estate market, providing factual information and advice.',\n",
       " 'article_type': 'fact',\n",
       " 'analysis_of_article_sentiment': 'The article maintains a neutral sentiment as it provides information without making any predictions or recommendations.',\n",
       " 'article_sentiment': 'NA',\n",
       " 'headline_suggestion': 'Guide to Investing in the Narela Real Estate Market',\n",
       " 'summary': 'The article discusses the potential for investing in the real estate market in Narela, Delhi, highlighting its excellent connectivity, infrastructural features, and growing demand.'}"
      ]
     },
     "execution_count": 223,
     "metadata": {},
     "output_type": "execute_result"
    }
   ],
   "source": [
    "json.loads(b['llm_attributes'].strip().strip('assistant'))"
   ]
  },
  {
   "cell_type": "code",
   "execution_count": 185,
   "id": "d20e816b-167a-4d05-afc1-6c5c5132a8d9",
   "metadata": {
    "scrolled": true,
    "tags": []
   },
   "outputs": [
    {
     "data": {
      "text/plain": [
       "['6555cc534b13023f934a7aa8',\n",
       " '651de15fa662d76276b7fecf',\n",
       " '651e1a84a662d76276b88aee',\n",
       " '6555c5694b13023f9348dcc0',\n",
       " '65316faa1e5cc42b1b141024',\n",
       " '651e1b59a662d76276b88cc8',\n",
       " '6555ccc84b13023f934ad130',\n",
       " '6555cc194b13023f934a4fa1',\n",
       " '651de04fa662d76276b7fbfb',\n",
       " '6555c1124b13023f9348ce03',\n",
       " '652ebb961e5cc42b1b139924',\n",
       " '6555ccc94b13023f934ad203',\n",
       " '6555cac44b13023f9349673f',\n",
       " '6555cb974b13023f9349f4ae',\n",
       " '651debaaa662d76276b819f6',\n",
       " '6555cc4c4b13023f934a75cf',\n",
       " '651e1f32a662d76276b895fe',\n",
       " '6555cb9f4b13023f9349fa84',\n",
       " '65316f5e1e5cc42b1b13fbde',\n",
       " '652cdf9950af0e25a912312f',\n",
       " '651e000ca662d76276b84c0d',\n",
       " '652ebbe61e5cc42b1b139c4f',\n",
       " '6555c3c24b13023f9348d582',\n",
       " '6531691c1e5cc42b1b13d0c9',\n",
       " '6555cbba4b13023f934a0d12',\n",
       " '6555c31b4b13023f9348d38e',\n",
       " '651def1aa662d76276b822fe',\n",
       " '651dd87da662d76276b7e750',\n",
       " '65316d2a1e5cc42b1b13e1fc',\n",
       " '651e1c4ea662d76276b88f01',\n",
       " '6555cbf84b13023f934a382d',\n",
       " '651e14c4a662d76276b87d81',\n",
       " '65316f021e5cc42b1b13ec21',\n",
       " '651dd877a662d76276b7e743',\n",
       " '653168c51e5cc42b1b13b90b',\n",
       " '651dd2cea662d76276b7d91e',\n",
       " '6531692b1e5cc42b1b13d499',\n",
       " '65316f1d1e5cc42b1b13eff1',\n",
       " '6555b5044b13023f9348b8db',\n",
       " '6555c49e4b13023f9348d93e',\n",
       " '651de1bea662d76276b7ffb8',\n",
       " '6555c2e64b13023f9348d32b',\n",
       " '65316f9b1e5cc42b1b140b85',\n",
       " '653680241e5cc42b1b1440fc',\n",
       " '6555c0da4b13023f9348cd0d',\n",
       " '6555c8144b13023f934905b9',\n",
       " '651e1036a662d76276b872e4',\n",
       " '651ddcd8a662d76276b7f2b4',\n",
       " '65316f4f1e5cc42b1b13f8c0',\n",
       " '651dd2aea662d76276b7d8bb',\n",
       " '6555b5a54b13023f9348be03',\n",
       " '653168971e5cc42b1b13b0f9',\n",
       " '6555cbb74b13023f934a0b16',\n",
       " '6555c7c34b13023f9348e053',\n",
       " '651ddef1a662d76276b7f833',\n",
       " '6555c20b4b13023f9348d12a',\n",
       " '653168b31e5cc42b1b13b59c',\n",
       " '6555c0064b13023f9348c972',\n",
       " '651dc6d5a662d76276b7b79b',\n",
       " '653168c91e5cc42b1b13b9f1',\n",
       " '6555ca844b13023f93494190',\n",
       " '651dfe1ca662d76276b84729',\n",
       " '651e0d65a662d76276b86c48',\n",
       " '6555bec34b13023f9348c534',\n",
       " '651dd0eaa662d76276b7d380',\n",
       " '6555ccc44b13023f934acd28',\n",
       " '6531690a1e5cc42b1b13cb19',\n",
       " '65316f061e5cc42b1b13eca2',\n",
       " '651e062fa662d76276b85b8e',\n",
       " '6555cb434b13023f9349bb7a',\n",
       " '65316f521e5cc42b1b13f95e',\n",
       " '6555ccbe4b13023f934ac833',\n",
       " '651df243a662d76276b82b3e',\n",
       " '65316aec1e5cc42b1b13dda1',\n",
       " '6555c2124b13023f9348d13d',\n",
       " '652fc87e1e5cc42b1b139ff9',\n",
       " '651df9a8a662d76276b83c48',\n",
       " '651e1a63a662d76276b88a9f',\n",
       " '6555c41a4b13023f9348d71a',\n",
       " '651e1912a662d76276b887a0',\n",
       " '6555b5dc4b13023f9348c38c',\n",
       " '6555c8474b13023f93492470',\n",
       " '651df04ba662d76276b825f3',\n",
       " '651e192ba662d76276b887da',\n",
       " '6555b5dd4b13023f9348c3cb',\n",
       " '65367fe21e5cc42b1b143c7d',\n",
       " '6555c80a4b13023f9348ff84',\n",
       " '651dd41ca662d76276b7dca8',\n",
       " '65316fd51e5cc42b1b141f77',\n",
       " '6555c8184b13023f93490818']"
      ]
     },
     "execution_count": 185,
     "metadata": {},
     "output_type": "execute_result"
    }
   ],
   "source": [
    "list(va.keys())"
   ]
  },
  {
   "cell_type": "code",
   "execution_count": 215,
   "id": "90c6589a-1a8d-4067-a796-915862dc1a5e",
   "metadata": {
    "tags": []
   },
   "outputs": [
    {
     "data": {
      "text/plain": [
       "{'651df8e7a662d76276b83a76',\n",
       " '652fc5811e5cc42b1b139e8f',\n",
       " '652fd13b1e5cc42b1b13a41b',\n",
       " '652fd3521e5cc42b1b13a524',\n",
       " '65316f961e5cc42b1b1409ef',\n",
       " '653680151e5cc42b1b143f8e',\n",
       " '6555b5d84b13023f9348c264',\n",
       " '6555ca884b13023f9349438c',\n",
       " '6555ca8b4b13023f934944d1',\n",
       " '6555cc3a4b13023f934a68c8'}"
      ]
     },
     "execution_count": 215,
     "metadata": {},
     "output_type": "execute_result"
    }
   ],
   "source": [
    "set(test_article_ids) - set(va.keys())"
   ]
  },
  {
   "cell_type": "code",
   "execution_count": null,
   "id": "16cb756a-6e26-4a61-ba51-98007ccb22e4",
   "metadata": {},
   "outputs": [],
   "source": []
  }
 ],
 "metadata": {
  "kernelspec": {
   "display_name": "recoenv",
   "language": "python",
   "name": "recoenv"
  },
  "language_info": {
   "codemirror_mode": {
    "name": "ipython",
    "version": 3
   },
   "file_extension": ".py",
   "mimetype": "text/x-python",
   "name": "python",
   "nbconvert_exporter": "python",
   "pygments_lexer": "ipython3",
   "version": "3.11.5"
  }
 },
 "nbformat": 4,
 "nbformat_minor": 5
}
