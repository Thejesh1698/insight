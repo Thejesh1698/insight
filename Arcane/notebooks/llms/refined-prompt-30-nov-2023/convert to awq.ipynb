{
 "cells": [
  {
   "cell_type": "code",
   "execution_count": 3,
   "id": "839d8e78-ac44-42ea-9411-53fff7fc02b2",
   "metadata": {
    "tags": []
   },
   "outputs": [],
   "source": [
    "import torch"
   ]
  },
  {
   "cell_type": "code",
   "execution_count": 7,
   "id": "b2d04551-30f8-45cd-b92d-b88ab276eff8",
   "metadata": {
    "tags": []
   },
   "outputs": [
    {
     "name": "stdout",
     "output_type": "stream",
     "text": [
      "\u001b[31mERROR: autoawq-0.1.6+cu118-cp310-cp310-linux_x86_64.whl is not a supported wheel on this platform.\u001b[0m\u001b[31m\n",
      "\u001b[0m"
     ]
    }
   ],
   "source": [
    "!pip install -q -U https://github.com/casper-hansen/AutoAWQ/releases/download/v0.1.6/autoawq-0.1.6+cu118-cp310-cp310-linux_x86_64.whl"
   ]
  },
  {
   "cell_type": "code",
   "execution_count": 4,
   "id": "77c7b951-fd8c-4a09-a1a3-0a28a1f6eb6f",
   "metadata": {
    "tags": []
   },
   "outputs": [
    {
     "data": {
      "text/plain": [
       "'2.0.1'"
      ]
     },
     "execution_count": 4,
     "metadata": {},
     "output_type": "execute_result"
    }
   ],
   "source": [
    "torch.__version__"
   ]
  },
  {
   "cell_type": "code",
   "execution_count": 2,
   "id": "56befd2a-8e3c-4e23-b3c1-f7bdda7105bc",
   "metadata": {
    "tags": []
   },
   "outputs": [
    {
     "name": "stdout",
     "output_type": "stream",
     "text": [
      "Package               Version\n",
      "--------------------- -------------\n",
      "accelerate            0.24.1\n",
      "aiofiles              22.1.0\n",
      "aiohttp               3.8.5\n",
      "aiosignal             1.3.1\n",
      "aiosqlite             0.18.0\n",
      "annotated-types       0.6.0\n",
      "anyio                 3.5.0\n",
      "appnope               0.1.2\n",
      "argon2-cffi           21.3.0\n",
      "argon2-cffi-bindings  21.2.0\n",
      "asttokens             2.0.5\n",
      "astunparse            1.6.3\n",
      "async-timeout         4.0.3\n",
      "attrs                 23.1.0\n",
      "Babel                 2.11.0\n",
      "backcall              0.2.0\n",
      "beartype              0.16.4\n",
      "beautifulsoup4        4.12.2\n",
      "bitsandbytes          0.41.2.post2\n",
      "bleach                4.1.0\n",
      "boto3                 1.33.0\n",
      "botocore              1.33.0\n",
      "brotlipy              0.7.0\n",
      "certifi               2023.11.17\n",
      "cffi                  1.15.1\n",
      "charset-normalizer    2.0.4\n",
      "cloudpickle           2.2.1\n",
      "comm                  0.1.2\n",
      "contextlib2           21.6.0\n",
      "contourpy             1.2.0\n",
      "cryptography          41.0.3\n",
      "ctransformers         0.2.27\n",
      "cycler                0.12.1\n",
      "datasets              2.14.5\n",
      "debugpy               1.6.7\n",
      "decorator             5.1.1\n",
      "defusedxml            0.7.1\n",
      "dill                  0.3.7\n",
      "distro                1.8.0\n",
      "einops                0.6.1\n",
      "entrypoints           0.4\n",
      "executing             0.8.3\n",
      "fastjsonschema        2.16.2\n",
      "filelock              3.13.1\n",
      "fonttools             4.45.1\n",
      "frozenlist            1.4.0\n",
      "fsspec                2023.6.0\n",
      "gmpy2                 2.1.2\n",
      "google-pasta          0.2.0\n",
      "h11                   0.14.0\n",
      "httpcore              1.0.2\n",
      "httpx                 0.25.1\n",
      "huggingface-hub       0.17.2\n",
      "icontract             2.6.6\n",
      "idna                  3.4\n",
      "importlib-metadata    6.8.0\n",
      "interegular           0.3.2\n",
      "ipykernel             6.25.0\n",
      "ipython               8.15.0\n",
      "ipython-genutils      0.2.0\n",
      "jedi                  0.18.1\n",
      "Jinja2                3.1.2\n",
      "jmespath              1.0.1\n",
      "joblib                1.3.2\n",
      "json5                 0.9.6\n",
      "jsonformer            0.12.0\n",
      "jsonschema            4.17.3\n",
      "jupyter_client        7.4.9\n",
      "jupyter_core          5.3.0\n",
      "jupyter-events        0.6.3\n",
      "jupyter-server        1.23.4\n",
      "jupyter_server_fileid 0.9.0\n",
      "jupyter_server_ydoc   0.8.0\n",
      "jupyter-ydoc          0.2.4\n",
      "jupyterlab            3.6.3\n",
      "jupyterlab-pygments   0.1.2\n",
      "jupyterlab_server     2.22.0\n",
      "kiwisolver            1.4.5\n",
      "lark                  1.1.8\n",
      "llvmlite              0.41.1\n",
      "lm-format-enforcer    0.7.1\n",
      "lmql                  0.7.3\n",
      "lxml                  4.9.3\n",
      "MarkupSafe            2.1.1\n",
      "matplotlib            3.8.2\n",
      "matplotlib-inline     0.1.6\n",
      "mistune               0.8.4\n",
      "mpmath                1.3.0\n",
      "multidict             6.0.4\n",
      "multiprocess          0.70.15\n",
      "nbclassic             0.5.5\n",
      "nbclient              0.5.13\n",
      "nbconvert             6.5.4\n",
      "nbformat              5.9.2\n",
      "nest-asyncio          1.5.6\n",
      "networkx              3.1\n",
      "notebook              6.5.4\n",
      "notebook_shim         0.2.2\n",
      "numba                 0.58.1\n",
      "numpy                 1.26.2\n",
      "openai                1.3.2\n",
      "outlines              0.0.12\n",
      "packaging             23.1\n",
      "pandas                2.1.0\n",
      "pandocfilters         1.5.0\n",
      "parso                 0.8.3\n",
      "pathos                0.3.1\n",
      "perscache             0.6.1\n",
      "pexpect               4.8.0\n",
      "pickleshare           0.7.5\n",
      "Pillow                10.1.0\n",
      "pip                   23.2.1\n",
      "platformdirs          3.10.0\n",
      "pox                   0.3.3\n",
      "ppft                  1.7.6.7\n",
      "prometheus-client     0.14.1\n",
      "prompt-toolkit        3.0.36\n",
      "protobuf              4.25.1\n",
      "psutil                5.9.0\n",
      "ptyprocess            0.7.0\n",
      "pure-eval             0.2.2\n",
      "py-cpuinfo            9.0.0\n",
      "pyarrow               13.0.0\n",
      "pycparser             2.21\n",
      "pydantic              2.5.1\n",
      "pydantic_core         2.14.3\n",
      "Pygments              2.15.1\n",
      "pyOpenSSL             23.2.0\n",
      "pyparsing             3.1.1\n",
      "pyrsistent            0.18.0\n",
      "PySocks               1.7.1\n",
      "python-dateutil       2.8.2\n",
      "python-json-logger    2.0.7\n",
      "pytz                  2023.3.post1\n",
      "PyYAML                6.0\n",
      "pyzmq                 23.2.0\n",
      "referencing           0.31.0\n",
      "regex                 2023.8.8\n",
      "requests              2.31.0\n",
      "rfc3339-validator     0.1.4\n",
      "rfc3986-validator     0.1.1\n",
      "rpds-py               0.13.1\n",
      "s3transfer            0.8.0\n",
      "safetensors           0.3.3\n",
      "sagemaker             2.198.0\n",
      "schema                0.7.5\n",
      "scikit-learn          1.3.2\n",
      "scipy                 1.11.4\n",
      "seaborn               0.13.0\n",
      "Send2Trash            1.8.0\n",
      "sentencepiece         0.1.99\n",
      "setuptools            68.0.0\n",
      "six                   1.16.0\n",
      "smdebug-rulesconfig   1.0.1\n",
      "sniffio               1.2.0\n",
      "soupsieve             2.4\n",
      "stack-data            0.2.0\n",
      "sympy                 1.12\n",
      "tblib                 1.7.0\n",
      "tenacity              8.2.3\n",
      "termcolor             2.3.0\n",
      "terminado             0.17.1\n",
      "threadpoolctl         3.2.0\n",
      "tiktoken              0.5.1\n",
      "tinycss2              1.2.1\n",
      "tokenizers            0.15.0\n",
      "torch                 2.1.0.post100\n",
      "tornado               6.3.2\n",
      "tqdm                  4.66.1\n",
      "traitlets             5.7.1\n",
      "transformers          4.35.2\n",
      "typing_extensions     4.7.1\n",
      "tzdata                2023.3\n",
      "urllib3               1.26.16\n",
      "wcwidth               0.2.5\n",
      "webencodings          0.5.1\n",
      "websocket-client      0.58.0\n",
      "wheel                 0.38.4\n",
      "xxhash                3.3.0\n",
      "y-py                  0.5.9\n",
      "yarl                  1.9.2\n",
      "ypy-websocket         0.8.2\n",
      "zipp                  3.17.0\n"
     ]
    }
   ],
   "source": [
    "!pip list"
   ]
  },
  {
   "cell_type": "code",
   "execution_count": null,
   "id": "b2ee590c-ce4a-471c-8946-f7cd7626625f",
   "metadata": {},
   "outputs": [],
   "source": []
  }
 ],
 "metadata": {
  "kernelspec": {
   "display_name": "llms",
   "language": "python",
   "name": "llms"
  },
  "language_info": {
   "codemirror_mode": {
    "name": "ipython",
    "version": 3
   },
   "file_extension": ".py",
   "mimetype": "text/x-python",
   "name": "python",
   "nbconvert_exporter": "python",
   "pygments_lexer": "ipython3",
   "version": "3.11.4"
  }
 },
 "nbformat": 4,
 "nbformat_minor": 5
}
