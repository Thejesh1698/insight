{
 "cells": [
  {
   "cell_type": "code",
   "execution_count": 2,
   "id": "cdfa01e5-9d77-49e0-b76e-0b8691b340e6",
   "metadata": {
    "tags": []
   },
   "outputs": [
    {
     "name": "stderr",
     "output_type": "stream",
     "text": [
      "/Users/ravi.tej/anaconda3/envs/recoenv/lib/python3.11/site-packages/umap/distances.py:1063: NumbaDeprecationWarning: \u001b[1mThe 'nopython' keyword argument was not supplied to the 'numba.jit' decorator. The implicit default value for this argument is currently False, but it will be changed to True in Numba 0.59.0. See https://numba.readthedocs.io/en/stable/reference/deprecation.html#deprecation-of-object-mode-fall-back-behaviour-when-using-jit for details.\u001b[0m\n",
      "  @numba.jit()\n",
      "/Users/ravi.tej/anaconda3/envs/recoenv/lib/python3.11/site-packages/umap/distances.py:1071: NumbaDeprecationWarning: \u001b[1mThe 'nopython' keyword argument was not supplied to the 'numba.jit' decorator. The implicit default value for this argument is currently False, but it will be changed to True in Numba 0.59.0. See https://numba.readthedocs.io/en/stable/reference/deprecation.html#deprecation-of-object-mode-fall-back-behaviour-when-using-jit for details.\u001b[0m\n",
      "  @numba.jit()\n",
      "/Users/ravi.tej/anaconda3/envs/recoenv/lib/python3.11/site-packages/umap/distances.py:1086: NumbaDeprecationWarning: \u001b[1mThe 'nopython' keyword argument was not supplied to the 'numba.jit' decorator. The implicit default value for this argument is currently False, but it will be changed to True in Numba 0.59.0. See https://numba.readthedocs.io/en/stable/reference/deprecation.html#deprecation-of-object-mode-fall-back-behaviour-when-using-jit for details.\u001b[0m\n",
      "  @numba.jit()\n",
      "/Users/ravi.tej/anaconda3/envs/recoenv/lib/python3.11/site-packages/umap/umap_.py:660: NumbaDeprecationWarning: \u001b[1mThe 'nopython' keyword argument was not supplied to the 'numba.jit' decorator. The implicit default value for this argument is currently False, but it will be changed to True in Numba 0.59.0. See https://numba.readthedocs.io/en/stable/reference/deprecation.html#deprecation-of-object-mode-fall-back-behaviour-when-using-jit for details.\u001b[0m\n",
      "  @numba.jit()\n"
     ]
    }
   ],
   "source": [
    "parent_folder = '/Users/ravi.tej/Desktop/ML/Recommendations/arcane/'\n",
    "from hydra import compose, initialize\n",
    "import os\n",
    "\n",
    "import xml.etree.ElementTree as ET\n",
    "\n",
    "tree = ET.parse('../../../conf/application.run.xml')\n",
    "root = tree.getroot()\n",
    "\n",
    "envs_element = root.find('./configuration/envs')\n",
    "for variable in envs_element.findall('env'):\n",
    "    name = variable.get('name')\n",
    "    value = variable.get('value')\n",
    "    os.environ[name] = value\n",
    "\n",
    "import sys\n",
    "sys.path.append('/Users/ravi.tej/Desktop/ML/Recommendations/arcane/')\n",
    "\n",
    "from src._utils import load_bertopic_model_from_hf"
   ]
  },
  {
   "cell_type": "code",
   "execution_count": 18,
   "id": "9aabaab7-9b78-487a-b0e4-d9f8c3bbd5ed",
   "metadata": {
    "tags": []
   },
   "outputs": [],
   "source": [
    "from sql.articles.ArticleAttributesSQL import ArticleAttributesSQL"
   ]
  },
  {
   "cell_type": "code",
   "execution_count": 4,
   "id": "98c63362-b785-4830-b2fc-b5f3d7f51fd7",
   "metadata": {
    "tags": []
   },
   "outputs": [],
   "source": [
    "import pandas as pd\n",
    "import numpy as np\n",
    "import json"
   ]
  },
  {
   "cell_type": "code",
   "execution_count": 6,
   "id": "762d0a36-5ea4-4be5-adf1-86cba07bc0d5",
   "metadata": {
    "tags": []
   },
   "outputs": [],
   "source": [
    "df = pd.read_csv('all_article_attributes_WatermelonSapphireZipline.csv')"
   ]
  },
  {
   "cell_type": "code",
   "execution_count": 7,
   "id": "26361215-f5a5-4bf8-9ce3-248c796eae00",
   "metadata": {
    "tags": []
   },
   "outputs": [
    {
     "data": {
      "text/plain": [
       "10966"
      ]
     },
     "execution_count": 7,
     "metadata": {},
     "output_type": "execute_result"
    }
   ],
   "source": [
    "len(df)"
   ]
  },
  {
   "cell_type": "code",
   "execution_count": 8,
   "id": "2ce27152-08ad-46e0-ad3b-d2a0c8e6cad4",
   "metadata": {
    "tags": []
   },
   "outputs": [
    {
     "data": {
      "text/plain": [
       "10654"
      ]
     },
     "execution_count": 8,
     "metadata": {},
     "output_type": "execute_result"
    }
   ],
   "source": [
    "df.article_id.nunique()"
   ]
  },
  {
   "cell_type": "code",
   "execution_count": 10,
   "id": "36eef6ef-e18e-40c3-9eb5-bf9aa4f664eb",
   "metadata": {
    "tags": []
   },
   "outputs": [],
   "source": [
    "articles = {row.article_id: json.loads(row.attributes) for row in df.itertuples()}"
   ]
  },
  {
   "cell_type": "code",
   "execution_count": 11,
   "id": "086b1952-b221-4f4d-a6d7-41ad877a3e9a",
   "metadata": {
    "tags": []
   },
   "outputs": [
    {
     "data": {
      "text/plain": [
       "10654"
      ]
     },
     "execution_count": 11,
     "metadata": {},
     "output_type": "execute_result"
    }
   ],
   "source": [
    "len(articles)"
   ]
  },
  {
   "cell_type": "code",
   "execution_count": 20,
   "id": "ba343335-f75d-432d-a451-4506ade37261",
   "metadata": {
    "tags": []
   },
   "outputs": [],
   "source": [
    "from sql.PostgresDatabaseOperation import PostgresDatabaseOperation"
   ]
  },
  {
   "cell_type": "code",
   "execution_count": 13,
   "id": "edc43ca4-fa82-4548-b80c-f22b6b47ec8a",
   "metadata": {
    "tags": []
   },
   "outputs": [],
   "source": [
    "import time"
   ]
  },
  {
   "cell_type": "code",
   "execution_count": 16,
   "id": "21f73746-47ae-4c35-884b-f5f65e9e5753",
   "metadata": {
    "tags": []
   },
   "outputs": [
    {
     "name": "stdout",
     "output_type": "stream",
     "text": [
      "sagemaker.config INFO - Not applying SDK defaults from location: /Library/Application Support/sagemaker/config.yaml\n",
      "sagemaker.config INFO - Not applying SDK defaults from location: /Users/ravi.tej/Library/Application Support/sagemaker/config.yaml\n"
     ]
    }
   ],
   "source": [
    "from src.articles.ArticleAttributesService import ArticleAttributesService"
   ]
  },
  {
   "cell_type": "code",
   "execution_count": 28,
   "id": "bd632773-8bf8-47c3-b832-956deeaf8ec4",
   "metadata": {
    "tags": []
   },
   "outputs": [],
   "source": [
    "with PostgresDatabaseOperation() as cursor:\n",
    "    sql = 'SELECT DISTINCT article_id FROM llm_article_attributes'\n",
    "    cursor.execute(sql)\n",
    "    results = cursor.fetchall()\n",
    "db_saved_results = [x[0] for x in results]"
   ]
  },
  {
   "cell_type": "code",
   "execution_count": 29,
   "id": "67341896-dc7b-4db8-865a-22e1f1a23375",
   "metadata": {
    "tags": []
   },
   "outputs": [],
   "source": [
    "pending_articles = set(articles.keys()) - set(db_saved_results)"
   ]
  },
  {
   "cell_type": "code",
   "execution_count": 25,
   "id": "2eba1ca8-6575-4291-83b2-e836d2cda4c9",
   "metadata": {
    "tags": []
   },
   "outputs": [],
   "source": [
    "pending_article_attributes = {article_id: attributes for article_id, attributes in articles.items() if article_id in pending_articles}"
   ]
  },
  {
   "cell_type": "code",
   "execution_count": 27,
   "id": "36583046-a387-4371-854b-8e656fe76497",
   "metadata": {
    "scrolled": true,
    "tags": []
   },
   "outputs": [
    {
     "name": "stdout",
     "output_type": "stream",
     "text": [
      "completed 100 in 22.978924989700317 seconds\n",
      "completed 200 in 45.89204001426697 seconds\n",
      "completed 300 in 69.36836218833923 seconds\n",
      "completed 400 in 92.23325991630554 seconds\n",
      "article_id 651dc736a662d76276b7b8ae is invalid\n",
      "completed 500 in 114.56410908699036 seconds\n",
      "completed 600 in 142.0421130657196 seconds\n",
      "completed 700 in 170.21020317077637 seconds\n",
      "completed 800 in 197.18556904792786 seconds\n",
      "completed 900 in 220.73140597343445 seconds\n",
      "completed 1000 in 272.73933815956116 seconds\n",
      "completed 1100 in 301.4587731361389 seconds\n",
      "article_id 651dca24a662d76276b7c0da is invalid\n",
      "completed 1200 in 325.1629910469055 seconds\n",
      "completed 1300 in 348.51268696784973 seconds\n",
      "completed 1400 in 371.5058002471924 seconds\n",
      "completed 1500 in 394.9644021987915 seconds\n",
      "completed 1600 in 417.5018150806427 seconds\n",
      "completed 1700 in 439.99999618530273 seconds\n",
      "completed 1800 in 467.857568025589 seconds\n",
      "article_id 651dcccfa662d76276b7c808 is invalid\n",
      "completed 1900 in 492.623370885849 seconds\n",
      "completed 2000 in 518.9174561500549 seconds\n",
      "completed 2100 in 543.5164461135864 seconds\n",
      "completed 2200 in 567.809757232666 seconds\n",
      "completed 2300 in 592.9116940498352 seconds\n",
      "completed 2400 in 615.3458831310272 seconds\n",
      "completed 2500 in 638.4212520122528 seconds\n",
      "completed 2600 in 661.1862261295319 seconds\n",
      "completed 2700 in 686.0295689105988 seconds\n",
      "completed 2800 in 723.0998840332031 seconds\n",
      "completed 2900 in 746.8745110034943 seconds\n",
      "completed 3000 in 770.721479177475 seconds\n",
      "completed 3100 in 794.1389002799988 seconds\n",
      "completed 3200 in 819.4167652130127 seconds\n",
      "completed 3300 in 842.5202028751373 seconds\n",
      "completed 3400 in 870.2186138629913 seconds\n",
      "completed 3500 in 894.4289109706879 seconds\n",
      "completed 3600 in 919.4503688812256 seconds\n",
      "completed 3700 in 943.2416422367096 seconds\n",
      "article_id 651dd482a662d76276b7dda7 is invalid\n",
      "completed 3800 in 966.473170042038 seconds\n",
      "completed 3900 in 990.0787560939789 seconds\n",
      "completed 4000 in 1012.9967861175537 seconds\n",
      "completed 4100 in 1038.1525180339813 seconds\n",
      "completed 4200 in 1064.8071341514587 seconds\n",
      "completed 4300 in 1091.3426039218903 seconds\n",
      "completed 4400 in 1114.2965862751007 seconds\n",
      "completed 4500 in 1136.9724740982056 seconds\n",
      "completed 4600 in 1159.5372400283813 seconds\n",
      "completed 4700 in 1184.844204902649 seconds\n",
      "completed 4800 in 1207.8738369941711 seconds\n",
      "completed 4900 in 1233.2073020935059 seconds\n",
      "completed 5000 in 1256.2970249652863 seconds\n",
      "completed 5100 in 1279.226175069809 seconds\n",
      "completed 5200 in 1302.1037900447845 seconds\n",
      "completed 5300 in 1325.1997110843658 seconds\n",
      "completed 5400 in 1348.7020661830902 seconds\n",
      "completed 5500 in 1371.2318120002747 seconds\n",
      "completed 5600 in 1394.120770931244 seconds\n",
      "completed 5700 in 1417.02503490448 seconds\n",
      "completed 5800 in 1440.1474390029907 seconds\n",
      "completed 5900 in 1463.0894451141357 seconds\n",
      "completed 6000 in 1488.840273141861 seconds\n",
      "completed 6100 in 1512.687227010727 seconds\n",
      "completed 6200 in 1536.9531319141388 seconds\n",
      "completed 6300 in 1560.145644903183 seconds\n",
      "completed 6400 in 1583.1016380786896 seconds\n",
      "completed 6500 in 1605.9610381126404 seconds\n",
      "completed 6600 in 1630.9765100479126 seconds\n",
      "completed 6700 in 1654.261855840683 seconds\n",
      "completed 6800 in 1677.7520470619202 seconds\n",
      "completed 6900 in 1701.112046957016 seconds\n",
      "completed 7000 in 1724.0518398284912 seconds\n",
      "completed 7100 in 1746.7898819446564 seconds\n",
      "completed 7200 in 1772.184545993805 seconds\n",
      "completed 7300 in 1795.5055809020996 seconds\n",
      "completed 7400 in 1821.2971260547638 seconds\n",
      "completed 7500 in 1848.3894481658936 seconds\n",
      "completed 7600 in 1873.3215651512146 seconds\n",
      "article_id 651de559a662d76276b80961 is invalid\n",
      "completed 7700 in 1896.165640115738 seconds\n",
      "completed 7800 in 1919.2209692001343 seconds\n",
      "completed 7900 in 1944.618222951889 seconds\n",
      "completed 8000 in 1970.7200911045074 seconds\n",
      "completed 8100 in 1994.5423860549927 seconds\n",
      "completed 8200 in 2023.2386448383331 seconds\n",
      "completed 8300 in 2047.3071341514587 seconds\n",
      "completed 8400 in 2070.244183063507 seconds\n",
      "completed 8500 in 2093.153028011322 seconds\n",
      "completed 8600 in 2116.2364251613617 seconds\n",
      "completed 8700 in 2139.1631269454956 seconds\n",
      "completed 8800 in 2166.1594972610474 seconds\n",
      "article_id 651dea3da662d76276b81638 is invalid\n",
      "completed 8900 in 2188.967694044113 seconds\n",
      "completed 9000 in 2212.140450000763 seconds\n",
      "completed 9100 in 2234.657777070999 seconds\n",
      "completed 9200 in 2257.651843070984 seconds\n",
      "completed 9300 in 2281.171350002289 seconds\n",
      "completed 9400 in 2304.8189301490784 seconds\n",
      "completed 9500 in 2327.690502166748 seconds\n",
      "completed 9600 in 2353.1686811447144 seconds\n",
      "completed 9700 in 2376.262468099594 seconds\n",
      "completed 9800 in 2399.0699989795685 seconds\n",
      "completed 9900 in 2422.192496061325 seconds\n",
      "completed 10000 in 2447.3474411964417 seconds\n",
      "completed 10100 in 2469.7798912525177 seconds\n",
      "completed 10200 in 2492.6087350845337 seconds\n"
     ]
    }
   ],
   "source": [
    "completed = 0\n",
    "start_time = time.time()\n",
    "invalid_articles = []\n",
    "for article_id, article_attributes in pending_article_attributes.items():\n",
    "    try:\n",
    "        ArticleAttributesService.save_llm_article_attributes(article_id=article_id, article_attributes=article_attributes)\n",
    "        completed += 1\n",
    "        if completed % 100 == 0:\n",
    "            print(f'completed {completed} in {time.time() - start_time} seconds')\n",
    "    except:\n",
    "        invalid_articles.append(article_id)\n",
    "        print(f'article_id {article_id} is invalid')"
   ]
  },
  {
   "cell_type": "code",
   "execution_count": 70,
   "id": "2f91ae9e-7f5c-433c-a82b-1391313dd729",
   "metadata": {
    "tags": []
   },
   "outputs": [
    {
     "data": {
      "text/plain": [
       "{'analysis_of_article_sentiment': 'The article is neutral in nature, neither bullish nor bearish.',\n",
       " 'analysis_of_article_type': 'The article provides factual information on a football match, as well as details about the teams and their past performances.',\n",
       " 'analysis_of_article_validity_duration': 'The article pertains to a football match happening on Wednesday, October 4, hence its relevance duration is for one day.',\n",
       " 'analysis_of_financial_or_business_news': \"The article pertains to football, specifically UEFA Champions League, and doesn't cover financial or business news.\",\n",
       " 'analysis_of_popularity': 'The article is about a popular sport, football. It would likely appeal to football fans, making it moderately popular.',\n",
       " 'analysis_of_relevant_for_india': 'This article is about a UEFA Champions League match between Manchester City and RB Leipzig, which is an international sporting event, relevant for football enthusiasts worldwide including Indians.',\n",
       " 'article_sentiment': 'na',\n",
       " 'article_type': 'fact',\n",
       " 'article_validity_duration': 1,\n",
       " 'final_summary': \"Manchester City's first Premier League defeat in this season could impact their UEFA Champions League match against RB Leipzig. The teams' past performances suggest a tough clash. The match will take place on October 4 and can be viewed on various platforms.\",\n",
       " 'financial_or_business_news': False,\n",
       " 'first_attempt_summary': \"Manchester City's shock first Premier League defeat in this season could impact their UEFA Champions League match against RB Leipzig. Both teams are considered frontrunners to secure a spot in the UEFA Champions League knockout stages. The match will be held at Red Bull Arena on October 4, and viewers can watch it on Paramount+, ViX, and fuboTV.\",\n",
       " 'headline_suggestion': 'Manchester City vs RB Leipzig: Live Stream, Kick-Off Time, and Match Details',\n",
       " 'improved_summary': \"The article mentions that RB Leipzig's record this season and Manchester City's unexpected defeat at Wolverhampton Wanderers may affect the outcome of the UEFA Champions League match. The kick-off time is 3 pm ET and the game will be live streamed on ViX and fuboTV.\",\n",
       " 'popularity': 'moderately_popular',\n",
       " 'relevant_for_india': True,\n",
       " 'top_categories': 'Sports; Football; UEFA Champions League; Manchester City; RB Leipzig'}"
      ]
     },
     "execution_count": 70,
     "metadata": {},
     "output_type": "execute_result"
    }
   ],
   "source": [
    "articles['651dacd0701055199ecf9966']"
   ]
  },
  {
   "cell_type": "code",
   "execution_count": 5,
   "id": "aecb9b0e-8395-4243-b11b-b5ffc3ca51d8",
   "metadata": {
    "tags": []
   },
   "outputs": [
    {
     "data": {
      "text/plain": [
       "367"
      ]
     },
     "execution_count": 5,
     "metadata": {},
     "output_type": "execute_result"
    }
   ],
   "source": [
    "len('This article details private currencies their role and their usage throughout history. It also addresses global trends such as digital currencies. While private currencies have usage limitations many still exist. Some currencies have been backed by physical commodities to enhance their value. In terms of legality creating private currencies in the US is prohibited.')"
   ]
  },
  {
   "cell_type": "code",
   "execution_count": 64,
   "id": "23302fe4-140a-46d3-9b5b-c35abe44e819",
   "metadata": {
    "tags": []
   },
   "outputs": [],
   "source": [
    "from src.articles.ArticleAttributesService import ArticleAttributesService"
   ]
  },
  {
   "cell_type": "code",
   "execution_count": 65,
   "id": "b5d63a48-d6bf-4e33-b9f0-490ef9519a00",
   "metadata": {
    "tags": []
   },
   "outputs": [
    {
     "data": {
      "text/plain": [
       "\u001b[0;31mSignature:\u001b[0m\n",
       "\u001b[0mArticleAttributesService\u001b[0m\u001b[0;34m.\u001b[0m\u001b[0msave_llm_article_attributes\u001b[0m\u001b[0;34m(\u001b[0m\u001b[0;34m\u001b[0m\n",
       "\u001b[0;34m\u001b[0m    \u001b[0marticle_id\u001b[0m\u001b[0;34m,\u001b[0m\u001b[0;34m\u001b[0m\n",
       "\u001b[0;34m\u001b[0m    \u001b[0marticle_attributes\u001b[0m\u001b[0;34m,\u001b[0m\u001b[0;34m\u001b[0m\n",
       "\u001b[0;34m\u001b[0m\u001b[0;34m)\u001b[0m\u001b[0;34m\u001b[0m\u001b[0;34m\u001b[0m\u001b[0m\n",
       "\u001b[0;31mDocstring:\u001b[0m <no docstring>\n",
       "\u001b[0;31mFile:\u001b[0m      ~/Desktop/ML/Recommendations/arcane/src/articles/ArticleAttributesService.py\n",
       "\u001b[0;31mType:\u001b[0m      function"
      ]
     },
     "metadata": {},
     "output_type": "display_data"
    }
   ],
   "source": [
    "ArticleAttributesService.save_llm_article_attributes?"
   ]
  },
  {
   "cell_type": "code",
   "execution_count": 52,
   "id": "d9f39346-4563-425a-8f9f-cc2eadc727db",
   "metadata": {
    "tags": []
   },
   "outputs": [],
   "source": [
    "def save_summary_json_details_to_mongo(article_id, article_attributes, finetune_id):\n",
    "    url = f'http://insight-user-app-beta-env.eba-rnrpvmin.ap-south-1.elasticbeanstalk.com/cloud/articles/{article_id}/ai-generated-info'\n",
    "    data = {'model': finetune_id, 'summary': {'value': article_attributes['final_summary'], 'additionalInfo': {}}, 'title': {'value': article_attributes['headline_suggestion'], 'additionalInfo': {}}}\n",
    "    r = requests.put(url,json=data)\n",
    "    return r"
   ]
  },
  {
   "cell_type": "code",
   "execution_count": 53,
   "id": "f50bacc4-7802-4b61-b2fd-864881392549",
   "metadata": {
    "tags": []
   },
   "outputs": [],
   "source": [
    "r = save_summary_json_details_to_mongo(article_id=random_row.article_id, article_attributes=json.loads(random_row.attributes), finetune_id=finetune_id)"
   ]
  },
  {
   "cell_type": "code",
   "execution_count": 54,
   "id": "8057cdf0-0c95-422b-b05d-63f9278c510c",
   "metadata": {
    "tags": []
   },
   "outputs": [
    {
     "data": {
      "text/plain": [
       "200"
      ]
     },
     "execution_count": 54,
     "metadata": {},
     "output_type": "execute_result"
    }
   ],
   "source": [
    "r.status_code"
   ]
  },
  {
   "cell_type": "code",
   "execution_count": 55,
   "id": "b4cf69ad-fe9f-4cc1-accb-df5c0b09d7e3",
   "metadata": {
    "tags": []
   },
   "outputs": [
    {
     "data": {
      "text/plain": [
       "'{\"message\":\"Success\"}'"
      ]
     },
     "execution_count": 55,
     "metadata": {},
     "output_type": "execute_result"
    }
   ],
   "source": [
    "r.text"
   ]
  },
  {
   "cell_type": "code",
   "execution_count": 27,
   "id": "a27f49da-258c-4bbc-8a1e-efbb2e39aed4",
   "metadata": {
    "tags": []
   },
   "outputs": [
    {
     "data": {
      "text/plain": [
       "\"India's capital markets regulator SEBI is proposing to set up a Performance Validation Agency (PVA) to authenticate the performance claims of registered intermediaries, including investment advisers, research analysts, and portfolio managers. This measure is expected to enhance credibility in the intermediaries' services and potentially draw more clients. The agency would validate performance against specified parameters such as returns, risk, and volatility. SEBI seeks comments on this proposal till September 21.\""
      ]
     },
     "execution_count": 27,
     "metadata": {},
     "output_type": "execute_result"
    }
   ],
   "source": [
    "json.loads(random_row.attributes)['final_summary']"
   ]
  },
  {
   "cell_type": "code",
   "execution_count": 29,
   "id": "893bd92e-264a-4f38-8cb0-0af1be21075b",
   "metadata": {
    "tags": []
   },
   "outputs": [
    {
     "data": {
      "text/plain": [
       "'SEBI to Set Up Performance Validation Agency to Authenticate Intermediaries'"
      ]
     },
     "execution_count": 29,
     "metadata": {},
     "output_type": "execute_result"
    }
   ],
   "source": [
    "json.loads(random_row.attributes)['headline_suggestion']"
   ]
  },
  {
   "cell_type": "code",
   "execution_count": 21,
   "id": "4e16dffb-4792-4203-8572-5b1a7a4417e0",
   "metadata": {
    "tags": []
   },
   "outputs": [
    {
     "data": {
      "text/plain": [
       "'{\"analysis_of_article_sentiment\": \"The article portrays a neutral sentiment as it presents a new regulation without expressing any positive or negative implications.\", \"analysis_of_article_type\": \"The article is primarily a factual piece providing information about a new proposed regulation by SEBI.\", \"analysis_of_article_validity_duration\": \"This news is about a regulatory change proposed by SEBI, which will affect the intermediaries in the market for a longer period.\", \"analysis_of_financial_or_business_news\": \"The article is about SEBI\\'s proposal to set up a Performance Validation Agency (PVA) to validate intermediaries\\' claims, which falls under finance and business news.\", \"analysis_of_popularity\": \"SEBI being a financial regulator in India, this news is likely to be of high interest to financial professionals and the general investing public.\", \"analysis_of_relevant_for_india\": \"The article is specifically about SEBI, the Indian securities market regulator, and its proposed regulation, hence it is relevant to India.\", \"article_sentiment\": \"na\", \"article_type\": \"fact\", \"article_validity_duration\": 30, \"final_summary\": \"India\\'s capital markets regulator SEBI is proposing to set up a Performance Validation Agency (PVA) to authenticate the performance claims of registered intermediaries, including investment advisers, research analysts, and portfolio managers. This measure is expected to enhance credibility in the intermediaries\\' services and potentially draw more clients. The agency would validate performance against specified parameters such as returns, risk, and volatility. SEBI seeks comments on this proposal till September 21.\", \"financial_or_business_news\": true, \"first_attempt_summary\": \"Capital markets regulator SEBI is proposing to set up a Performance Validation Agency (PVA) to validate claims of performance by registered intermediaries. This measure is aimed at enhancing the credibility of these intermediaries in the eyes of investors and to boost their services. The proposed PVA will validate performance based on specified parameters such as returns, risk, volatility, etc. Sebi will receive comments on the proposal until September 21.\", \"headline_suggestion\": \"SEBI to Set Up Performance Validation Agency to Authenticate Intermediaries\", \"improved_summary\": \"SEBI is proposing to set up a Performance Validation Agency (PVA) to authenticate claims of performance made by registered intermediaries. This move is expected to increase the credibility of these intermediaries and potentially attract more clients. SEBI is seeking comments on this proposal until September 21.\", \"popularity\": \"moderately_popular\", \"relevant_for_india\": true, \"top_categories\": \"Finance; Regulatory Compliance; Investment Advisors; SEBI; Financial Services\"}'"
      ]
     },
     "execution_count": 21,
     "metadata": {},
     "output_type": "execute_result"
    }
   ],
   "source": [
    "random_row.attributes"
   ]
  },
  {
   "cell_type": "code",
   "execution_count": 22,
   "id": "d60ff943-0c46-47bb-ac49-2c9f77234ed1",
   "metadata": {
    "tags": []
   },
   "outputs": [],
   "source": [
    "ArticleAttributesSQL.save_article_attributes(article_id=random_row.article_id, article_attributes=json.loads(random_row.attributes), finetune_id='WatermelonSapphireZipline')"
   ]
  },
  {
   "cell_type": "code",
   "execution_count": 11,
   "id": "84a820a6-f0aa-4ab2-a924-c7651f2182ae",
   "metadata": {
    "tags": []
   },
   "outputs": [
    {
     "data": {
      "text/plain": [
       "{'analysis_of_article_sentiment': 'The sentiment is bullish as the issuance of NCDs successfully raised Rs 200 crore.',\n",
       " 'analysis_of_article_type': 'This is a factual article, presenting information about the successful bond issuance by Credit Saison India.',\n",
       " 'analysis_of_article_validity_duration': 'This is a one-time event and a significant achievement for the company. It will stay relevant for a few days.',\n",
       " 'analysis_of_financial_or_business_news': 'This article discusses the successful issuance of NCDs by Credit Saison India, a non-banking financial corporation.',\n",
       " 'analysis_of_popularity': 'This news is likely to be moderately popular as it pertains to the successful bond issuance by a non-banking financial corporation, Credit Saison India.',\n",
       " 'analysis_of_relevant_for_india': 'This is relevant for India as it discusses a significant financial event of a non-banking financial corporation based in India, Credit Saison India.',\n",
       " 'article_sentiment': 'bull',\n",
       " 'article_type': 'fact',\n",
       " 'article_validity_duration': 7,\n",
       " 'final_summary': \"Credit Saison India successfully raised its first NCD of Rs 200 crore, raising its total AUM to Rs 7,200 crore. The bond, listed on NSE, carries a fixed coupon rate of 7.95% per annum for three years, and the proceeds will be used to diversify the company's liability profile.\",\n",
       " 'financial_or_business_news': True,\n",
       " 'first_attempt_summary': \"Credit Saison India has successfully raised its maiden issuance of non-convertible debentures (NCDs) worth Rs 200 crore, raising its total AUM to Rs 7,200 crore. The NCD issue, listing on NSE, carries a fixed coupon rate of 7.95% per annum for three years and will help diversify the company's liability profile.\",\n",
       " 'headline_suggestion': 'Credit Saison India Successfully Raises Rs 200 Cr NCD',\n",
       " 'improved_summary': 'The NCD issuance will pave the way for future market issuances, including commercial papers. Credit Saison India has raised almost Rs 10,000 crore from Japanese, PSU, private, and foreign banks over the last two years.',\n",
       " 'popularity': 'moderately_popular',\n",
       " 'relevant_for_india': True,\n",
       " 'top_categories': 'Finance; Business News; Non-Banking Financial Corporations; Bond Issuance; Credit Saison India'}"
      ]
     },
     "execution_count": 11,
     "metadata": {},
     "output_type": "execute_result"
    }
   ],
   "source": [
    "json.loads(random_row.attributes)"
   ]
  },
  {
   "cell_type": "code",
   "execution_count": 140,
   "id": "b242b462-62f2-43a6-b5bc-384e2b2f6ad1",
   "metadata": {
    "tags": []
   },
   "outputs": [],
   "source": [
    "results = {row.article_id: json.loads(row.attributes) for row in df.itertuples()}"
   ]
  },
  {
   "cell_type": "code",
   "execution_count": 142,
   "id": "77d05561-be17-4d68-b2e9-40ed2909e275",
   "metadata": {
    "scrolled": true,
    "tags": []
   },
   "outputs": [
    {
     "data": {
      "text/html": [
       "<div>\n",
       "<style scoped>\n",
       "    .dataframe tbody tr th:only-of-type {\n",
       "        vertical-align: middle;\n",
       "    }\n",
       "\n",
       "    .dataframe tbody tr th {\n",
       "        vertical-align: top;\n",
       "    }\n",
       "\n",
       "    .dataframe thead th {\n",
       "        text-align: right;\n",
       "    }\n",
       "</style>\n",
       "<table border=\"1\" class=\"dataframe\">\n",
       "  <thead>\n",
       "    <tr style=\"text-align: right;\">\n",
       "      <th></th>\n",
       "      <th>article_id</th>\n",
       "      <th>attributes</th>\n",
       "    </tr>\n",
       "  </thead>\n",
       "  <tbody>\n",
       "    <tr>\n",
       "      <th>4756</th>\n",
       "      <td>651dd66ca662d76276b7e22b</td>\n",
       "      <td>{\"analysis_of_article_sentiment\": \"The sentime...</td>\n",
       "    </tr>\n",
       "    <tr>\n",
       "      <th>3664</th>\n",
       "      <td>651dd1bfa662d76276b7d5e9</td>\n",
       "      <td>{\"analysis_of_article_sentiment\": \"The sentime...</td>\n",
       "    </tr>\n",
       "    <tr>\n",
       "      <th>2816</th>\n",
       "      <td>651dce96a662d76276b7ccf9</td>\n",
       "      <td>{\"analysis_of_article_sentiment\": \"The sentime...</td>\n",
       "    </tr>\n",
       "    <tr>\n",
       "      <th>6155</th>\n",
       "      <td>651ddc21a662d76276b7f0cb</td>\n",
       "      <td>{\"analysis_of_article_sentiment\": \"The sentime...</td>\n",
       "    </tr>\n",
       "    <tr>\n",
       "      <th>913</th>\n",
       "      <td>651dc7aaa662d76276b7ba09</td>\n",
       "      <td>{\"analysis_of_article_sentiment\": \"The article...</td>\n",
       "    </tr>\n",
       "    <tr>\n",
       "      <th>4680</th>\n",
       "      <td>651dd617a662d76276b7e160</td>\n",
       "      <td>{\"analysis_of_article_sentiment\": \"The article...</td>\n",
       "    </tr>\n",
       "    <tr>\n",
       "      <th>5833</th>\n",
       "      <td>651ddae1a662d76276b7ed80</td>\n",
       "      <td>{\"analysis_of_article_sentiment\": \"The article...</td>\n",
       "    </tr>\n",
       "    <tr>\n",
       "      <th>6407</th>\n",
       "      <td>651ddd41a662d76276b7f3c7</td>\n",
       "      <td>{\"analysis_of_article_sentiment\": \"The article...</td>\n",
       "    </tr>\n",
       "    <tr>\n",
       "      <th>5909</th>\n",
       "      <td>651ddb16a662d76276b7ee09</td>\n",
       "      <td>{\"analysis_of_article_sentiment\": \"The article...</td>\n",
       "    </tr>\n",
       "    <tr>\n",
       "      <th>2243</th>\n",
       "      <td>651dcce1a662d76276b7c83b</td>\n",
       "      <td>{\"analysis_of_article_sentiment\": \"The sentime...</td>\n",
       "    </tr>\n",
       "    <tr>\n",
       "      <th>1812</th>\n",
       "      <td>651dcb11a662d76276b7c363</td>\n",
       "      <td>{\"analysis_of_article_sentiment\": \"The article...</td>\n",
       "    </tr>\n",
       "    <tr>\n",
       "      <th>4408</th>\n",
       "      <td>651dd49ba662d76276b7ddef</td>\n",
       "      <td>{\"analysis_of_article_sentiment\": \"The article...</td>\n",
       "    </tr>\n",
       "    <tr>\n",
       "      <th>6340</th>\n",
       "      <td>651ddcd8a662d76276b7f2b4</td>\n",
       "      <td>{\"analysis_of_article_sentiment\": \"The article...</td>\n",
       "    </tr>\n",
       "    <tr>\n",
       "      <th>4309</th>\n",
       "      <td>651dd439a662d76276b7dcef</td>\n",
       "      <td>{\"analysis_of_article_sentiment\": \"The sentime...</td>\n",
       "    </tr>\n",
       "    <tr>\n",
       "      <th>5605</th>\n",
       "      <td>651dd9e9a662d76276b7eafc</td>\n",
       "      <td>{\"analysis_of_article_sentiment\": \"The article...</td>\n",
       "    </tr>\n",
       "    <tr>\n",
       "      <th>69</th>\n",
       "      <td>651dc404a662d76276b7b09c</td>\n",
       "      <td>{\"analysis_of_article_sentiment\": \"The article...</td>\n",
       "    </tr>\n",
       "    <tr>\n",
       "      <th>2964</th>\n",
       "      <td>651dcf76a662d76276b7cf69</td>\n",
       "      <td>{\"analysis_of_article_sentiment\": \"The sentime...</td>\n",
       "    </tr>\n",
       "    <tr>\n",
       "      <th>247</th>\n",
       "      <td>651dc4d8a662d76276b7b2b3</td>\n",
       "      <td>{\"analysis_of_article_sentiment\": \"The article...</td>\n",
       "    </tr>\n",
       "    <tr>\n",
       "      <th>4907</th>\n",
       "      <td>651dd740a662d76276b7e41c</td>\n",
       "      <td>{\"analysis_of_article_sentiment\": \"The article...</td>\n",
       "    </tr>\n",
       "    <tr>\n",
       "      <th>1534</th>\n",
       "      <td>651dca7da662d76276b7c1ce</td>\n",
       "      <td>{\"analysis_of_article_sentiment\": \"The sentime...</td>\n",
       "    </tr>\n",
       "    <tr>\n",
       "      <th>449</th>\n",
       "      <td>651dc5f5a662d76276b7b55d</td>\n",
       "      <td>{\"analysis_of_article_sentiment\": \"The article...</td>\n",
       "    </tr>\n",
       "    <tr>\n",
       "      <th>2615</th>\n",
       "      <td>651dcdfda662d76276b7cb45</td>\n",
       "      <td>{\"analysis_of_article_sentiment\": \"The article...</td>\n",
       "    </tr>\n",
       "    <tr>\n",
       "      <th>1571</th>\n",
       "      <td>651dca9ca662d76276b7c22b</td>\n",
       "      <td>{\"analysis_of_article_sentiment\": \"The sentime...</td>\n",
       "    </tr>\n",
       "    <tr>\n",
       "      <th>804</th>\n",
       "      <td>651dc762a662d76276b7b936</td>\n",
       "      <td>{\"analysis_of_article_sentiment\": \"The sentime...</td>\n",
       "    </tr>\n",
       "    <tr>\n",
       "      <th>862</th>\n",
       "      <td>651dc78ba662d76276b7b9aa</td>\n",
       "      <td>{\"analysis_of_article_sentiment\": \"The article...</td>\n",
       "    </tr>\n",
       "    <tr>\n",
       "      <th>3485</th>\n",
       "      <td>651dd172a662d76276b7d4fb</td>\n",
       "      <td>{\"analysis_of_article_sentiment\": \"The article...</td>\n",
       "    </tr>\n",
       "    <tr>\n",
       "      <th>2707</th>\n",
       "      <td>651dce64a662d76276b7cc6b</td>\n",
       "      <td>{\"analysis_of_article_sentiment\": \"The sentime...</td>\n",
       "    </tr>\n",
       "    <tr>\n",
       "      <th>2036</th>\n",
       "      <td>651dcbf4a662d76276b7c5c6</td>\n",
       "      <td>{\"analysis_of_article_sentiment\": \"The article...</td>\n",
       "    </tr>\n",
       "    <tr>\n",
       "      <th>620</th>\n",
       "      <td>651dc6d5a662d76276b7b79b</td>\n",
       "      <td>{\"analysis_of_article_sentiment\": \"The sentime...</td>\n",
       "    </tr>\n",
       "    <tr>\n",
       "      <th>655</th>\n",
       "      <td>651dc6fba662d76276b7b7ff</td>\n",
       "      <td>{\"analysis_of_article_sentiment\": \"The sentime...</td>\n",
       "    </tr>\n",
       "    <tr>\n",
       "      <th>2367</th>\n",
       "      <td>651dcd7da662d76276b7c9ec</td>\n",
       "      <td>{\"analysis_of_article_sentiment\": \"The sentime...</td>\n",
       "    </tr>\n",
       "    <tr>\n",
       "      <th>5981</th>\n",
       "      <td>651ddb89a662d76276b7ef2b</td>\n",
       "      <td>{\"analysis_of_article_sentiment\": \"The sentime...</td>\n",
       "    </tr>\n",
       "    <tr>\n",
       "      <th>2361</th>\n",
       "      <td>651dcd6ea662d76276b7c9c0</td>\n",
       "      <td>{\"analysis_of_article_sentiment\": \"The article...</td>\n",
       "    </tr>\n",
       "    <tr>\n",
       "      <th>4011</th>\n",
       "      <td>651dd335a662d76276b7da43</td>\n",
       "      <td>{\"analysis_of_article_sentiment\": \"The sentime...</td>\n",
       "    </tr>\n",
       "    <tr>\n",
       "      <th>2578</th>\n",
       "      <td>651dcddca662d76276b7cae9</td>\n",
       "      <td>{\"analysis_of_article_sentiment\": \"The article...</td>\n",
       "    </tr>\n",
       "    <tr>\n",
       "      <th>2428</th>\n",
       "      <td>651dcd60a662d76276b7c99a</td>\n",
       "      <td>{\"analysis_of_article_sentiment\": \"The sentime...</td>\n",
       "    </tr>\n",
       "    <tr>\n",
       "      <th>3230</th>\n",
       "      <td>651dd029a662d76276b7d15e</td>\n",
       "      <td>{\"analysis_of_article_sentiment\": \"The article...</td>\n",
       "    </tr>\n",
       "    <tr>\n",
       "      <th>2866</th>\n",
       "      <td>651dced6a662d76276b7cdaa</td>\n",
       "      <td>{\"analysis_of_article_sentiment\": \"The sentime...</td>\n",
       "    </tr>\n",
       "    <tr>\n",
       "      <th>6235</th>\n",
       "      <td>651ddc64a662d76276b7f185</td>\n",
       "      <td>{\"analysis_of_article_sentiment\": \"The sentime...</td>\n",
       "    </tr>\n",
       "    <tr>\n",
       "      <th>42</th>\n",
       "      <td>651dc3dba662d76276b7b031</td>\n",
       "      <td>{\"analysis_of_article_sentiment\": \"The article...</td>\n",
       "    </tr>\n",
       "  </tbody>\n",
       "</table>\n",
       "</div>"
      ],
      "text/plain": [
       "                    article_id  \\\n",
       "4756  651dd66ca662d76276b7e22b   \n",
       "3664  651dd1bfa662d76276b7d5e9   \n",
       "2816  651dce96a662d76276b7ccf9   \n",
       "6155  651ddc21a662d76276b7f0cb   \n",
       "913   651dc7aaa662d76276b7ba09   \n",
       "4680  651dd617a662d76276b7e160   \n",
       "5833  651ddae1a662d76276b7ed80   \n",
       "6407  651ddd41a662d76276b7f3c7   \n",
       "5909  651ddb16a662d76276b7ee09   \n",
       "2243  651dcce1a662d76276b7c83b   \n",
       "1812  651dcb11a662d76276b7c363   \n",
       "4408  651dd49ba662d76276b7ddef   \n",
       "6340  651ddcd8a662d76276b7f2b4   \n",
       "4309  651dd439a662d76276b7dcef   \n",
       "5605  651dd9e9a662d76276b7eafc   \n",
       "69    651dc404a662d76276b7b09c   \n",
       "2964  651dcf76a662d76276b7cf69   \n",
       "247   651dc4d8a662d76276b7b2b3   \n",
       "4907  651dd740a662d76276b7e41c   \n",
       "1534  651dca7da662d76276b7c1ce   \n",
       "449   651dc5f5a662d76276b7b55d   \n",
       "2615  651dcdfda662d76276b7cb45   \n",
       "1571  651dca9ca662d76276b7c22b   \n",
       "804   651dc762a662d76276b7b936   \n",
       "862   651dc78ba662d76276b7b9aa   \n",
       "3485  651dd172a662d76276b7d4fb   \n",
       "2707  651dce64a662d76276b7cc6b   \n",
       "2036  651dcbf4a662d76276b7c5c6   \n",
       "620   651dc6d5a662d76276b7b79b   \n",
       "655   651dc6fba662d76276b7b7ff   \n",
       "2367  651dcd7da662d76276b7c9ec   \n",
       "5981  651ddb89a662d76276b7ef2b   \n",
       "2361  651dcd6ea662d76276b7c9c0   \n",
       "4011  651dd335a662d76276b7da43   \n",
       "2578  651dcddca662d76276b7cae9   \n",
       "2428  651dcd60a662d76276b7c99a   \n",
       "3230  651dd029a662d76276b7d15e   \n",
       "2866  651dced6a662d76276b7cdaa   \n",
       "6235  651ddc64a662d76276b7f185   \n",
       "42    651dc3dba662d76276b7b031   \n",
       "\n",
       "                                             attributes  \n",
       "4756  {\"analysis_of_article_sentiment\": \"The sentime...  \n",
       "3664  {\"analysis_of_article_sentiment\": \"The sentime...  \n",
       "2816  {\"analysis_of_article_sentiment\": \"The sentime...  \n",
       "6155  {\"analysis_of_article_sentiment\": \"The sentime...  \n",
       "913   {\"analysis_of_article_sentiment\": \"The article...  \n",
       "4680  {\"analysis_of_article_sentiment\": \"The article...  \n",
       "5833  {\"analysis_of_article_sentiment\": \"The article...  \n",
       "6407  {\"analysis_of_article_sentiment\": \"The article...  \n",
       "5909  {\"analysis_of_article_sentiment\": \"The article...  \n",
       "2243  {\"analysis_of_article_sentiment\": \"The sentime...  \n",
       "1812  {\"analysis_of_article_sentiment\": \"The article...  \n",
       "4408  {\"analysis_of_article_sentiment\": \"The article...  \n",
       "6340  {\"analysis_of_article_sentiment\": \"The article...  \n",
       "4309  {\"analysis_of_article_sentiment\": \"The sentime...  \n",
       "5605  {\"analysis_of_article_sentiment\": \"The article...  \n",
       "69    {\"analysis_of_article_sentiment\": \"The article...  \n",
       "2964  {\"analysis_of_article_sentiment\": \"The sentime...  \n",
       "247   {\"analysis_of_article_sentiment\": \"The article...  \n",
       "4907  {\"analysis_of_article_sentiment\": \"The article...  \n",
       "1534  {\"analysis_of_article_sentiment\": \"The sentime...  \n",
       "449   {\"analysis_of_article_sentiment\": \"The article...  \n",
       "2615  {\"analysis_of_article_sentiment\": \"The article...  \n",
       "1571  {\"analysis_of_article_sentiment\": \"The sentime...  \n",
       "804   {\"analysis_of_article_sentiment\": \"The sentime...  \n",
       "862   {\"analysis_of_article_sentiment\": \"The article...  \n",
       "3485  {\"analysis_of_article_sentiment\": \"The article...  \n",
       "2707  {\"analysis_of_article_sentiment\": \"The sentime...  \n",
       "2036  {\"analysis_of_article_sentiment\": \"The article...  \n",
       "620   {\"analysis_of_article_sentiment\": \"The sentime...  \n",
       "655   {\"analysis_of_article_sentiment\": \"The sentime...  \n",
       "2367  {\"analysis_of_article_sentiment\": \"The sentime...  \n",
       "5981  {\"analysis_of_article_sentiment\": \"The sentime...  \n",
       "2361  {\"analysis_of_article_sentiment\": \"The article...  \n",
       "4011  {\"analysis_of_article_sentiment\": \"The sentime...  \n",
       "2578  {\"analysis_of_article_sentiment\": \"The article...  \n",
       "2428  {\"analysis_of_article_sentiment\": \"The sentime...  \n",
       "3230  {\"analysis_of_article_sentiment\": \"The article...  \n",
       "2866  {\"analysis_of_article_sentiment\": \"The sentime...  \n",
       "6235  {\"analysis_of_article_sentiment\": \"The sentime...  \n",
       "42    {\"analysis_of_article_sentiment\": \"The article...  "
      ]
     },
     "execution_count": 142,
     "metadata": {},
     "output_type": "execute_result"
    }
   ],
   "source": [
    "df.sample(40)"
   ]
  },
  {
   "cell_type": "code",
   "execution_count": 82,
   "id": "f5bd7c41-0d39-4865-a542-34abcccecbf1",
   "metadata": {
    "scrolled": true,
    "tags": []
   },
   "outputs": [],
   "source": [
    "s = pd.DataFrame([k['financial_or_business_news'] for i, k in results.items() if 'financial_or_business_news' in k])"
   ]
  },
  {
   "cell_type": "code",
   "execution_count": 83,
   "id": "b8ed9d92-5494-4ef3-aa79-e495f977bdd0",
   "metadata": {
    "tags": []
   },
   "outputs": [
    {
     "data": {
      "text/plain": [
       "0\n",
       "False    671\n",
       "True     885\n",
       "Name: 0, dtype: int64"
      ]
     },
     "execution_count": 83,
     "metadata": {},
     "output_type": "execute_result"
    }
   ],
   "source": [
    "s.groupby(0)[0].count()"
   ]
  },
  {
   "cell_type": "code",
   "execution_count": 144,
   "id": "07c91c15-de5f-4917-b5ab-d4aa66abca06",
   "metadata": {
    "tags": []
   },
   "outputs": [
    {
     "data": {
      "text/plain": [
       "{'analysis_of_article_sentiment': 'The article is neutral as it presents factual information without expressing a positive or negative sentiment.',\n",
       " 'analysis_of_article_type': 'This article is factual, providing information about Vivek Ramaswamy and his political journey.',\n",
       " 'analysis_of_article_validity_duration': 'This article is relevant until the next major event in the 2024 Presidential primaries, approximately a week.',\n",
       " 'analysis_of_financial_or_business_news': \"The article focuses on Vivek Ramaswamy, a businessman running for the Republican Party's nomination for the 2024 US Presidential elections.\",\n",
       " 'analysis_of_popularity': 'The news is of interest to those interested in US politics and business, and may have moderate popularity.',\n",
       " 'analysis_of_relevant_for_india': \"Though focused on an Indian-origin candidate in the US politics, the article holds minimal relevance for an Indian audience, as it doesn't directly pertain to India or Indian corporations.\",\n",
       " 'article_sentiment': 'na',\n",
       " 'article_type': 'fact',\n",
       " 'article_validity_duration': 7,\n",
       " 'final_summary': \"Vivek Ramaswamy, a successful businessman and first-time candidate for the 2024 US Republican Party's nomination, shined during the recent primary debate. Notably, his vivid portrayal of his humble beginnings, his business successes, and his stance on the US economy and social issues captured widespread attention. His distinct approach and his potential influence in the upcoming primaries were also highlighted.\",\n",
       " 'financial_or_business_news': True,\n",
       " 'first_attempt_summary': 'Vivek Ramaswamy, a successful tech entrepreneur and first-time candidate in the 2024 US Republican Party presidential primaries, made waves in the recent primary debate. His rise in the polls has been attributed to his humble beginnings, business successes, and forward-thinking ideas. His contribution to the conversation was also noted, as he defended his ideas in the face of criticism from opponents.',\n",
       " 'headline_suggestion': 'Rise and Rise of Vivek Ramaswamy in the US Presidential Primaries',\n",
       " 'improved_summary': \"The article highlights Ramaswamy's unconventional approach, his rise in the polls, his statement on the US economy, and his ideas about the US social justice system.\",\n",
       " 'popularity': 'moderately_popular',\n",
       " 'relevant_for_india': False,\n",
       " 'top_categories': 'Politics; US Elections; Business; Entrepreneurship; Technology'}"
      ]
     },
     "execution_count": 144,
     "metadata": {},
     "output_type": "execute_result"
    }
   ],
   "source": [
    "results['651ddd41a662d76276b7f3c7']"
   ]
  },
  {
   "cell_type": "code",
   "execution_count": null,
   "id": "827dbcbd-8a25-45c7-b946-1846d7b9e7f3",
   "metadata": {},
   "outputs": [],
   "source": [
    "ArticleAttributesSQL."
   ]
  }
 ],
 "metadata": {
  "kernelspec": {
   "display_name": "recoenv",
   "language": "python",
   "name": "recoenv"
  },
  "language_info": {
   "codemirror_mode": {
    "name": "ipython",
    "version": 3
   },
   "file_extension": ".py",
   "mimetype": "text/x-python",
   "name": "python",
   "nbconvert_exporter": "python",
   "pygments_lexer": "ipython3",
   "version": "3.11.5"
  }
 },
 "nbformat": 4,
 "nbformat_minor": 5
}
