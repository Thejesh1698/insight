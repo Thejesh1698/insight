{
 "cells": [
  {
   "cell_type": "code",
   "execution_count": 2,
   "id": "fe82d4cd-2cd6-45b5-a5fb-2acb3c3756f4",
   "metadata": {
    "tags": []
   },
   "outputs": [
    {
     "name": "stderr",
     "output_type": "stream",
     "text": [
      "/Users/ravi.tej/anaconda3/envs/recoenv/lib/python3.11/site-packages/umap/distances.py:1063: NumbaDeprecationWarning: \u001b[1mThe 'nopython' keyword argument was not supplied to the 'numba.jit' decorator. The implicit default value for this argument is currently False, but it will be changed to True in Numba 0.59.0. See https://numba.readthedocs.io/en/stable/reference/deprecation.html#deprecation-of-object-mode-fall-back-behaviour-when-using-jit for details.\u001b[0m\n",
      "  @numba.jit()\n",
      "/Users/ravi.tej/anaconda3/envs/recoenv/lib/python3.11/site-packages/umap/distances.py:1071: NumbaDeprecationWarning: \u001b[1mThe 'nopython' keyword argument was not supplied to the 'numba.jit' decorator. The implicit default value for this argument is currently False, but it will be changed to True in Numba 0.59.0. See https://numba.readthedocs.io/en/stable/reference/deprecation.html#deprecation-of-object-mode-fall-back-behaviour-when-using-jit for details.\u001b[0m\n",
      "  @numba.jit()\n",
      "/Users/ravi.tej/anaconda3/envs/recoenv/lib/python3.11/site-packages/umap/distances.py:1086: NumbaDeprecationWarning: \u001b[1mThe 'nopython' keyword argument was not supplied to the 'numba.jit' decorator. The implicit default value for this argument is currently False, but it will be changed to True in Numba 0.59.0. See https://numba.readthedocs.io/en/stable/reference/deprecation.html#deprecation-of-object-mode-fall-back-behaviour-when-using-jit for details.\u001b[0m\n",
      "  @numba.jit()\n",
      "/Users/ravi.tej/anaconda3/envs/recoenv/lib/python3.11/site-packages/umap/umap_.py:660: NumbaDeprecationWarning: \u001b[1mThe 'nopython' keyword argument was not supplied to the 'numba.jit' decorator. The implicit default value for this argument is currently False, but it will be changed to True in Numba 0.59.0. See https://numba.readthedocs.io/en/stable/reference/deprecation.html#deprecation-of-object-mode-fall-back-behaviour-when-using-jit for details.\u001b[0m\n",
      "  @numba.jit()\n"
     ]
    }
   ],
   "source": [
    "parent_folder = '/Users/ravi.tej/Desktop/ML/Recommendations/arcane/'\n",
    "from hydra import compose, initialize\n",
    "import os\n",
    "\n",
    "import xml.etree.ElementTree as ET\n",
    "\n",
    "tree = ET.parse('../../../conf/application.run.xml')\n",
    "root = tree.getroot()\n",
    "\n",
    "envs_element = root.find('./configuration/envs')\n",
    "for variable in envs_element.findall('env'):\n",
    "    name = variable.get('name')\n",
    "    value = variable.get('value')\n",
    "    os.environ[name] = value\n",
    "\n",
    "import sys\n",
    "sys.path.append('/Users/ravi.tej/Desktop/ML/Recommendations/arcane/')\n",
    "\n",
    "from src._utils import load_bertopic_model_from_hf"
   ]
  },
  {
   "cell_type": "markdown",
   "id": "0da5e753-5190-4927-9dd9-e585c1418909",
   "metadata": {},
   "source": [
    "### Loading article df"
   ]
  },
  {
   "cell_type": "code",
   "execution_count": 1,
   "id": "0b9785e9-7645-4c51-a714-86a6d2dd540b",
   "metadata": {
    "tags": []
   },
   "outputs": [
    {
     "name": "stdout",
     "output_type": "stream",
     "text": [
      "/Users/ravi.tej/Desktop/ML/Recommendations/arcane/notebooks/llms/refined-prompt-30-nov-2023\n"
     ]
    }
   ],
   "source": [
    "!pwd"
   ]
  },
  {
   "cell_type": "code",
   "execution_count": 4,
   "id": "c84e20e4-353f-4a1b-9bd2-9a7c74e7a2af",
   "metadata": {
    "tags": []
   },
   "outputs": [],
   "source": [
    "data_folder = \"../../../data/\"\n",
    "import json\n",
    "with open(data_folder + 'insight_db_articles.json') as f:\n",
    "    insight_articles = json.load(f)"
   ]
  },
  {
   "cell_type": "code",
   "execution_count": 5,
   "id": "872e4ae4-4c94-41c7-bdfd-585e14520776",
   "metadata": {
    "tags": []
   },
   "outputs": [],
   "source": [
    "valid_articles = {}\n",
    "\n",
    "for k in insight_articles:\n",
    "    if 'is_premium_article' in k and k['is_premium_article'] == False:\n",
    "        article_id = k['_id']['$oid']\n",
    "        valid_articles[article_id] = k\n",
    "        valid_articles[article_id]['source_id'] = k['source_id']['$oid']"
   ]
  },
  {
   "cell_type": "code",
   "execution_count": 6,
   "id": "16037a87-ab2e-4812-ab7e-eaf88bd6e7d0",
   "metadata": {
    "tags": []
   },
   "outputs": [
    {
     "data": {
      "text/plain": [
       "162012"
      ]
     },
     "execution_count": 6,
     "metadata": {},
     "output_type": "execute_result"
    }
   ],
   "source": [
    "len(valid_articles)"
   ]
  },
  {
   "cell_type": "code",
   "execution_count": 7,
   "id": "6ef6f35b-907f-4ada-b988-13adb6574cfe",
   "metadata": {
    "tags": []
   },
   "outputs": [],
   "source": [
    "import numpy as np\n",
    "import pandas as pd"
   ]
  },
  {
   "cell_type": "code",
   "execution_count": 8,
   "id": "c18654f1-d219-45c7-a667-801bd745f72d",
   "metadata": {
    "tags": []
   },
   "outputs": [],
   "source": [
    "all_articles_df = pd.DataFrame(valid_articles).T.reset_index()\n",
    "all_articles_df = all_articles_df.rename(columns = {'index': 'article_id'})\n",
    "all_articles_df = all_articles_df.drop(columns = {'_id', '_class'})"
   ]
  },
  {
   "cell_type": "code",
   "execution_count": 9,
   "id": "7eb29da9-4003-4f8e-8dd4-e84ac7b416a0",
   "metadata": {
    "tags": []
   },
   "outputs": [],
   "source": [
    "all_articles_df[all_articles_df.groupby('url')['url'].transform('count') > 1].sort_values('url').to_csv('duplicate_articles_df.csv')"
   ]
  },
  {
   "cell_type": "code",
   "execution_count": 10,
   "id": "f49c46ce-75bb-469a-9574-12a5cb27952b",
   "metadata": {
    "tags": []
   },
   "outputs": [],
   "source": [
    "articles_df = pd.DataFrame(valid_articles).T.reset_index()\n",
    "articles_df = articles_df.rename(columns = {'index': 'article_id'})\n",
    "articles_df = articles_df.drop(columns = {'_id', '_class'})\n",
    "articles_df['prob'] = [np.random.rand() for i in range(len(articles_df))]"
   ]
  },
  {
   "cell_type": "code",
   "execution_count": 11,
   "id": "c697057b-20f1-4b91-86db-19085f18cc2c",
   "metadata": {
    "tags": []
   },
   "outputs": [],
   "source": [
    "from sql.PostgresDatabaseOperation import PostgresDatabaseOperation"
   ]
  },
  {
   "cell_type": "code",
   "execution_count": 12,
   "id": "0e4fcfc6-f6e1-41e7-8eb4-981626aafe01",
   "metadata": {
    "tags": []
   },
   "outputs": [],
   "source": [
    "with PostgresDatabaseOperation() as cursor:\n",
    "    sql = 'SELECT * FROM source_id_characteristics'\n",
    "    cursor.execute(sql)\n",
    "    results = cursor.fetchall()"
   ]
  },
  {
   "cell_type": "code",
   "execution_count": 13,
   "id": "dc466a9f-2540-4050-aa11-395528434d10",
   "metadata": {
    "tags": []
   },
   "outputs": [
    {
     "data": {
      "text/plain": [
       "[(4, '652d53256a2736f06f46cfcf', Decimal('1'), 'wint-wealth'),\n",
       " (3, '65291b1e9a2fbc229e5f29c9', Decimal('1'), 'zerodha-varsity'),\n",
       " (5, '6530d40d9a7559d3ec6b9871', Decimal('1.0'), 'groww'),\n",
       " (1, '6512cdcad01a9c8e86263e05', Decimal('0.9'), 'economic-times'),\n",
       " (2, '650046bd005149c49201269f', Decimal('0.9'), 'live-mint'),\n",
       " (10, '65558d1f672118037c541088', Decimal('1.0'), 'navi'),\n",
       " (11, '655597ea96fb32eef21a562a', Decimal('0.9'), 'investopedia'),\n",
       " (12, '6555987996fb32eef21a562b', Decimal('0.9'), 'business-standard'),\n",
       " (13, '655598ab96fb32eef21a562c', Decimal('0.9'), 'business-insider'),\n",
       " (14, '6555992096fb32eef21a562d', Decimal('0.9'), 'cnbc-tv-18'),\n",
       " (15, '6555995596fb32eef21a562e', Decimal('0.9'), 'cnbc'),\n",
       " (16, '65559d0c96fb32eef21a562f', Decimal('0.9'), 'business-world'),\n",
       " (17, '65559d4296fb32eef21a5630', Decimal('0.9'), 'bq-prime'),\n",
       " (18, '6560a5bddf69601d3e2ce0c1', Decimal('0.9'), 'bbc'),\n",
       " (19, '6560ac8b9952a16bbc397223', Decimal('0.9'), 'yahoo-finance'),\n",
       " (20, '6560af039952a16bbc397224', Decimal('0.9'), 'money-control'),\n",
       " (21, '6560b3a49952a16bbc397225', Decimal('1.0'), 'finshots'),\n",
       " (22, '6560b4cc9952a16bbc397226', Decimal('0.9'), 'reuters'),\n",
       " (23, '6560b6109952a16bbc397227', Decimal('0.9'), 'economist')]"
      ]
     },
     "execution_count": 13,
     "metadata": {},
     "output_type": "execute_result"
    }
   ],
   "source": [
    "results"
   ]
  },
  {
   "cell_type": "code",
   "execution_count": 14,
   "id": "3bcef207-1e67-4184-a94c-8187cae4ed76",
   "metadata": {
    "tags": []
   },
   "outputs": [],
   "source": [
    "source_df = pd.DataFrame(results, columns = ['id', 'source_id', 'decay', 'source_name'])"
   ]
  },
  {
   "cell_type": "code",
   "execution_count": 15,
   "id": "dc033a11-61c7-4fae-8c62-256a2b57fb22",
   "metadata": {
    "tags": []
   },
   "outputs": [],
   "source": [
    "articles_df = pd.merge(articles_df, source_df, how = 'left', on = 'source_id')"
   ]
  },
  {
   "cell_type": "markdown",
   "id": "f80fa006-e50d-4966-8b4a-cbb8b62b140e",
   "metadata": {},
   "source": [
    "### Finding any removing duplicate articles"
   ]
  },
  {
   "cell_type": "code",
   "execution_count": 16,
   "id": "d319f23f-4cbd-4415-94cc-1c4f8557e40f",
   "metadata": {
    "tags": []
   },
   "outputs": [
    {
     "data": {
      "text/plain": [
       "source_name\n",
       "bq-prime             0.0\n",
       "business-insider    43.0\n",
       "business-world       5.0\n",
       "cnbc                49.0\n",
       "cnbc-tv-18          38.0\n",
       "economic-times       0.0\n",
       "groww                0.0\n",
       "investopedia        50.0\n",
       "live-mint           42.0\n",
       "navi                 0.0\n",
       "wint-wealth          0.0\n",
       "zerodha-varsity      2.0\n",
       "Name: url, dtype: float64"
      ]
     },
     "execution_count": 16,
     "metadata": {},
     "output_type": "execute_result"
    }
   ],
   "source": [
    "round(100 * (articles_df.groupby('source_name')['url'].count() - articles_df.groupby('source_name')['url'].nunique())/articles_df.groupby('source_name')['url'].count())"
   ]
  },
  {
   "cell_type": "code",
   "execution_count": 17,
   "id": "a8589380-598d-4bf7-b50f-92f7816f2edf",
   "metadata": {
    "scrolled": true,
    "tags": []
   },
   "outputs": [
    {
     "data": {
      "text/plain": [
       "url\n",
       "https://www.livemint.com/auto-news/the-100cc-bike-rides-into-a-downturn-11669146313134.html                                                                                             10\n",
       "https://www.livemint.com/auto-news/upcoming-cars-expected-to-debut-this-diwali-season-tata-punch-ev-renault-duster-more-11698740598121.html                                             10\n",
       "https://www.livemint.com/companies/company-results/gail-india-q2-results-net-profit-jumps-70-to-rs-2-405-crore-revenue-dips-1-3-qoq-11698742923532.html                                 10\n",
       "https://www.livemint.com/companies/company-results/lt-q2-results-live-updates-l-t-results-2023-l-t-q2-earnings-l-t-q2-profit-l-t-share-price-11698721205148.html                        10\n",
       "https://www.livemint.com/companies/company-results/lt-q2-results-preview-net-profit-likely-to-rise-25-revenue-to-grow-18-yoy-on-strong-orders-11698723519988.html                       10\n",
       "https://www.livemint.com/companies/company-results/q2-results-today-larsen-toubro-bharti-airtel-indian-oil-corporation-others-to-announce-q2-earnings-11698719863560.html               10\n",
       "https://www.livemint.com/companies/diwali-2023-save-extra-on-flight-train-bus-tickets-this-holiday-season-with-paytm-carnival-sale-check-details-here-11698734475655.html               10\n",
       "https://www.livemint.com/companies/news/google-ceo-defends-payments-to-tech-giants-like-apple-to-make-google-default-search-engine-11698713779755.html                                  10\n",
       "https://www.livemint.com/companies/news/meta-in-copyright-battle-for-threads-after-british-firm-claims-trademark-of-11-years-gives-30-days-notice-11698726295490.html                   10\n",
       "https://www.livemint.com/companies/news/siemens-energy-weighs-sale-of-stake-in-indian-firm-to-siemens-11698713772464.html                                                               10\n",
       "https://www.livemint.com/companies/news/xs-value-falls-to-19-billion-lower-than-elon-musks-20-billion-estimate-and-44-billion-that-he-paid-for-it-11698721520799.html                   10\n",
       "https://www.livemint.com/companies/start-ups/space-policy-has-been-a-game-changer-in-india-s-private-space-tech-arena-skyroot-co-founder-pawan-kumar-chandana-11698732544514.html       10\n",
       "https://www.livemint.com/economy/cost-of-living-updates-live-oct-30-fuel-prices-steady-check-petrol-and-diesel-prices-in-your-city-today-11698697832032.html                            10\n",
       "https://www.livemint.com/economy/cost-of-living-updates-live-oct-31-fuel-prices-steady-check-petrol-and-diesel-prices-in-your-city-today-11698723166616.html                            10\n",
       "https://www.livemint.com/economy/onion-prices-at-rs-80-kg-centre-monitoring-rise-export-curbs-imposed-11698726069256.html                                                               10\n",
       "https://www.livemint.com/industry/leo-box-office-collection-day-12-thalapathy-vijays-film-worldwide-collection-to-cross-540-crore-today-11698722833620.html                             10\n",
       "https://www.livemint.com/industry/media/murty-media-partners-cosmos-maya-for-animated-series-based-on-sudha-murty-s-stories-11698737371915.html                                         10\n",
       "https://www.livemint.com/market/commodities/gold-and-silver-prices-today-on-31-10-2023-check-latest-rates-in-your-city-11698727511244.html                                              10\n",
       "https://www.livemint.com/market/commodities/gold-silver-rate-today-under-pressure-ahead-of-us-fed-meeting-will-gold-price-climb-to-a-new-peak-before-diwali-2023-11698725201771.html    10\n",
       "https://www.livemint.com/market/ipo/esaf-small-finance-bank-ipo-opens-on-november-3-price-band-set-at-rs-57-to-rs-60-per-share-11698722753812.html                                      10\n",
       "https://www.livemint.com/market/ipo/honasa-consumer-ipo-check-out-10-key-risks-before-investing-your-money-in-mamaearth-parents-offer-11698731267053.html                               10\n",
       "https://www.livemint.com/market/ipo/mamaearth-ipo-opens-tomorrow-gmp-price-band-review-here-are-10-key-things-to-know-about-the-offer-11698670777580.html                               10\n",
       "https://www.livemint.com/market/ipo/mamaearth-ipo-public-issue-of-honasa-consumer-opens-today-gmp-review-subscription-status-apply-or-not-11698719711065.html                           10\n",
       "https://www.livemint.com/market/ipo/mamaearth-ipo-should-you-subscribe-heres-what-top-5-brokerages-say-on-honasa-consumers-book-build-issue-11698735949398.html                         10\n",
       "https://www.livemint.com/market/ipo/rajgor-castor-derivatives-listing-shares-debut-at-18-premium-at-rs-59-on-nse-sme-11698728313294.html                                                10\n",
       "https://www.livemint.com/market/ipo/seven-mutual-funds-via-19-schemes-invest-rs-253-crore-in-mamaearth-ipo-check-details-11698724063637.html                                            10\n",
       "https://www.livemint.com/market/ipo/vrundavan-plantation-ipo-gmp-subscription-status-other-details-about-bse-sme-issue-11698732160389.html                                              10\n",
       "https://www.livemint.com/market/live-blog/acc-share-price-live-blog-for-31-oct-2023-11698719833139.html                                                                                 10\n",
       "https://www.livemint.com/market/live-blog/ace-men-engineering-share-price-live-blog-for-31-oct-2023-11698720726853.html                                                                 10\n",
       "https://www.livemint.com/market/live-blog/adani-energy-solutions-share-price-live-blog-for-31-oct-2023-11698720203421.html                                                              10\n",
       "Name: url, dtype: int64"
      ]
     },
     "execution_count": 17,
     "metadata": {},
     "output_type": "execute_result"
    }
   ],
   "source": [
    "articles_df.groupby('url')['url'].count().nlargest(30)"
   ]
  },
  {
   "cell_type": "code",
   "execution_count": 18,
   "id": "9289315b-5049-4d06-b94f-9a0bd891b8b0",
   "metadata": {
    "tags": []
   },
   "outputs": [],
   "source": [
    "articles_df = articles_df.drop_duplicates('url')"
   ]
  },
  {
   "cell_type": "code",
   "execution_count": 19,
   "id": "8f78d762-1f07-4a41-badb-0aa33f3377a1",
   "metadata": {
    "tags": []
   },
   "outputs": [
    {
     "data": {
      "text/plain": [
       "source_name\n",
       "bq-prime              522\n",
       "business-insider     1646\n",
       "business-world       6767\n",
       "cnbc                13778\n",
       "cnbc-tv-18          11032\n",
       "economic-times      23795\n",
       "groww                1731\n",
       "investopedia        18343\n",
       "live-mint           23124\n",
       "navi                 1714\n",
       "wint-wealth          1743\n",
       "zerodha-varsity       859\n",
       "Name: url, dtype: int64"
      ]
     },
     "execution_count": 19,
     "metadata": {},
     "output_type": "execute_result"
    }
   ],
   "source": [
    "articles_df.groupby('source_name')['url'].count()"
   ]
  },
  {
   "cell_type": "code",
   "execution_count": 20,
   "id": "93be9fef-8beb-498e-938b-f60b510c1d7e",
   "metadata": {
    "tags": []
   },
   "outputs": [
    {
     "data": {
      "text/plain": [
       "url\n",
       "https://economictimes.indiatimes.com/industry/auto/auto-components/adoption-of-electric-vehicles-expected-to-accelerate-in-coming-years-rane-brake-linings-ltd/articleshow/101434376.cms             1\n",
       "https://economictimes.indiatimes.com/industry/auto/auto-components/assurance-intl-goodyear-unveil-new-range-of-filters-batteries-in-india/articleshow/102611689.cms                                  1\n",
       "https://economictimes.indiatimes.com/industry/auto/auto-components/auto-component-industry-reports-highest-turnover-in-fy23-aims-to-log-double-digit-growth-this-fiscal/articleshow/102501507.cms    1\n",
       "https://economictimes.indiatimes.com/industry/auto/auto-components/delphi-tvs-technologies-to-take-up-capital-expansion-at-chennai-plant/articleshow/99403761.cms                                    1\n",
       "https://economictimes.indiatimes.com/industry/auto/auto-components/eveready-industries-cuts-number-of-direct-distributors-to-1000-from-5000-earlier/articleshow/100279158.cms                        1\n",
       "Name: source_name, dtype: int64"
      ]
     },
     "execution_count": 20,
     "metadata": {},
     "output_type": "execute_result"
    }
   ],
   "source": [
    "articles_df.groupby('url')['source_name'].nunique().nlargest()"
   ]
  },
  {
   "cell_type": "code",
   "execution_count": 88,
   "id": "0b775223-1144-4bfb-91f2-a9684d712f41",
   "metadata": {
    "tags": []
   },
   "outputs": [
    {
     "data": {
      "text/plain": [
       "array(['https://www.wintwealth.com/blog/a-step-by-step-guide-to-uan-generation-and-activation-process',\n",
       "       'https://www.wintwealth.com/blog/a-step-by-step-guide-to-uan-generation-and-activation-process-2',\n",
       "       'https://navi.com/blog/uan/'], dtype=object)"
      ]
     },
     "execution_count": 88,
     "metadata": {},
     "output_type": "execute_result"
    }
   ],
   "source": [
    "articles_df[articles_df.title == 'A Step-by-Step Guide to UAN Generation and Activation Process'].url.values"
   ]
  },
  {
   "cell_type": "code",
   "execution_count": 89,
   "id": "c05e32f3-4c8e-4680-9d78-c54051b5bbd0",
   "metadata": {
    "tags": []
   },
   "outputs": [
    {
     "data": {
      "text/plain": [
       "array(['https://economictimes.indiatimes.com/news/economy/foreign-trade/commerce-ministry-asks-exporters-to-focus-on-potential-sectors-key-markets-to-boost-exports/articleshow/101464696.cms',\n",
       "       'https://www.cnbctv18.com/business/commerce-ministry-asks-exporters-to-focus-on-potential-sectors-key-markets-to-boost-exports-17105661.htm'],\n",
       "      dtype=object)"
      ]
     },
     "execution_count": 89,
     "metadata": {},
     "output_type": "execute_result"
    }
   ],
   "source": [
    "articles_df[articles_df.title == 'Commerce ministry asks exporters to focus on potential sectors, key markets to boost exports'].url.values"
   ]
  },
  {
   "cell_type": "code",
   "execution_count": 96,
   "id": "403cd8dd-51a8-4ff5-b175-b6025e9aa1a4",
   "metadata": {
    "tags": []
   },
   "outputs": [
    {
     "data": {
      "text/plain": [
       "array(['https://www.cnbctv18.com/market/oil-extends-gains-as-opec-to-mull-deeper-cuts-18362691.htm',\n",
       "       'https://www.cnbc.com/2023/11/20/oil-extends-gains-as-opec-to-mull-deeper-cuts.html'],\n",
       "      dtype=object)"
      ]
     },
     "execution_count": 96,
     "metadata": {},
     "output_type": "execute_result"
    }
   ],
   "source": [
    "articles_df[articles_df.title == 'Oil extends gains as OPEC+ to mull deeper cuts'].url.values"
   ]
  },
  {
   "cell_type": "code",
   "execution_count": 94,
   "id": "4d929ab5-6b35-4d0f-b389-ad51cebe88ae",
   "metadata": {
    "tags": []
   },
   "outputs": [],
   "source": [
    "pd.options.display.max_rows = 200"
   ]
  },
  {
   "cell_type": "code",
   "execution_count": 95,
   "id": "c7afa892-d824-4003-9545-5f08a9cb0776",
   "metadata": {
    "scrolled": true,
    "tags": []
   },
   "outputs": [
    {
     "data": {
      "text/plain": [
       "title\n",
       "A Step-by-Step Guide to UAN Generation and Activation Process                                                     [wint-wealth, navi]\n",
       "Adani Ports' move to buy back USD 130-million bonds an opportunistic exchange: S&P Global Ratings        [economic-times, cnbc-tv-18]\n",
       "Adani Wilmar files police complaint against sale of counterfeit Fortune brand products                   [economic-times, cnbc-tv-18]\n",
       "Airbnb inks pact with tourism ministry to promote heritage stays, cultural tourism                       [economic-times, cnbc-tv-18]\n",
       "Amtrak train with 198 passengers derails after hitting truck on tracks in Southern California                  [cnbc, economic-times]\n",
       "B'luru, H'bad, Chennai contribute 59 pc to total office leasing across 7 cities in Apr-Jun: Report       [economic-times, cnbc-tv-18]\n",
       "BHEL logs over 17% rise in new orders in 2022-23                                                         [economic-times, cnbc-tv-18]\n",
       "Bajaj Allianz Life declares bonus worth Rs 1,201 crore in FY23                                           [economic-times, cnbc-tv-18]\n",
       "Bank of Baroda launches facility for cash withdrawals using UPI on its ATMs                              [economic-times, cnbc-tv-18]\n",
       "Boris Johnson quits as UK lawmaker after being told he will be sanctioned for misleading Parliament            [cnbc, economic-times]\n",
       "Byju's staff say morale waning amid turmoil at Indian edtech firm                                                  [cnbc, cnbc-tv-18]\n",
       "CBI arrests joint DG of foreign trade, two others in bribery case                                        [economic-times, cnbc-tv-18]\n",
       "Cairn Oil & Gas commences gas flow from Hazarigaon field in North-East                                   [economic-times, cnbc-tv-18]\n",
       "Chinese employers ordered to limit outdoor work as country struggles with heat, flooding and drought           [economic-times, cnbc]\n",
       "Coal ministry transfers Rs 704 crore upfront payment to 6 coal-bearing states                            [economic-times, cnbc-tv-18]\n",
       "Commerce ministry asks exporters to focus on potential sectors, key markets to boost exports             [economic-times, cnbc-tv-18]\n",
       "DGCA puts SpiceJet under enhanced surveillance; airline refutes                                          [economic-times, cnbc-tv-18]\n",
       "Delhi govt collects Rs 1,700 crore in excise duty, VAT in April-June quarter                             [economic-times, cnbc-tv-18]\n",
       "ED arrests two M3M promoters in money laundering case                                                    [economic-times, cnbc-tv-18]\n",
       "FPIs bring in Rs 30,945 cr in May on strong economic fundamentals                                        [economic-times, cnbc-tv-18]\n",
       "FPIs' buying spree continues; invest Rs 45,365 cr in equities in July                                    [economic-times, cnbc-tv-18]\n",
       "Factors Affecting the Performance of Mutual Funds                                                                [wint-wealth, groww]\n",
       "Finance Ministry sets up panel to review pension system for government employees                         [economic-times, cnbc-tv-18]\n",
       "GSTN looking for consultancy firm to prepare roadmap for transitioning IT systems to GST 2.0             [economic-times, cnbc-tv-18]\n",
       "GlobalFoundries sues IBM, says trade secrets were unlawfully given to Japan's Rapidus                              [cnbc, cnbc-tv-18]\n",
       "Gold set to break longest losing streak in 7 years as bond selloff cools                                           [cnbc, cnbc-tv-18]\n",
       "Green funding: SBI plans to bundle home loans with rooftop solar installations                           [economic-times, cnbc-tv-18]\n",
       "HDFC Bank starts rebranding HDFC Ltd offices, branches after merger                                      [economic-times, cnbc-tv-18]\n",
       "Have commenced dispensing CNG and PNG connections to households: IndianOil                               [economic-times, cnbc-tv-18]\n",
       "How $6 billion in Ukraine aid collapsed in a government funding bill despite big support in Congress           [cnbc, economic-times]\n",
       "How to Claim Fixed Deposit After Death?                                                                          [wint-wealth, groww]\n",
       "IMF board to meet on July 12 to review Pakistan's loan agreement                                         [economic-times, cnbc-tv-18]\n",
       "India removes additional duties on certain US products                                                   [economic-times, cnbc-tv-18]\n",
       "India to be exporter of renewables equipment, solar manufacturing to touch 100GW by 2026                 [economic-times, cnbc-tv-18]\n",
       "India to remove retaliatory customs duties on eight US products                                          [economic-times, cnbc-tv-18]\n",
       "India wins bid to host international conference on cement in 2027                                        [economic-times, cnbc-tv-18]\n",
       "India's economic narrative brighter; takes charismatic lead in global economic evolution: K M Birla      [economic-times, cnbc-tv-18]\n",
       "India, Saudi Arabia tie up for electrical interconnections, green hydrogen                               [economic-times, cnbc-tv-18]\n",
       "Inox India files draft papers with Sebi for IPO                                                          [economic-times, cnbc-tv-18]\n",
       "Manufacturing operations disrupted at Sikkim plant due to flash floods: Alembic Pharma                   [economic-times, cnbc-tv-18]\n",
       "Mcap of eight of top-10 valued firms climbs Rs 82,169 cr last week; HDFC twins sparkle                   [economic-times, cnbc-tv-18]\n",
       "Mobile retail firm Celekt launches 'Mission E-waste'                                                     [economic-times, cnbc-tv-18]\n",
       "Moderation in inflation expected to help gross margin expansion: Dabur                                   [economic-times, cnbc-tv-18]\n",
       "NARCL likely to wind up Srei group's equipment finance arm; retain SIFL for business continuity          [economic-times, cnbc-tv-18]\n",
       "NLC India board approves raising up to Rs 5,000 crore via bonds                                          [economic-times, cnbc-tv-18]\n",
       "NLC India inks pact to supply 300 MW solar power to Rajasthan                                            [economic-times, cnbc-tv-18]\n",
       "NSE to introduce WTI crude oil, natural gas futures contracts from May 15                                [economic-times, cnbc-tv-18]\n",
       "NSE warns investors against entities running dabba trading activities                                    [economic-times, cnbc-tv-18]\n",
       "Nexus Select Trust REIT IPO receives 57% subscription on Day 2 of offer                                  [economic-times, cnbc-tv-18]\n",
       "North Korean leader Kim Jong Un arrives in Russia before an expected meeting with Putin                        [economic-times, cnbc]\n",
       "Oil extends gains as OPEC+ to mull deeper cuts                                                                     [cnbc-tv-18, cnbc]\n",
       "Oil settles lower but ends quarter up 28% on tight global supply                                                   [cnbc-tv-18, cnbc]\n",
       "Oil steady as markets weigh supply cuts against weak economic data                                                 [cnbc, cnbc-tv-18]\n",
       "Oil up 1% on signs of slow US output, posts first weekly loss in 8 weeks                                           [cnbc-tv-18, cnbc]\n",
       "PNB MetLife's claim settlement ratio surpasses 99% in FY23                                               [economic-times, cnbc-tv-18]\n",
       "PSU banks set target for selling flagship government insurance schemes in FY24                           [economic-times, cnbc-tv-18]\n",
       "Paras Buildtech targets Rs 108 crore revenue from new commercial project in Gurugram                     [economic-times, cnbc-tv-18]\n",
       "PepsiCo reports 'double-digit organic revenue growth' in March quarter in India                          [economic-times, cnbc-tv-18]\n",
       "RBI approves AP Hota's appointment as Federal Bank's non-executive chairman                              [economic-times, cnbc-tv-18]\n",
       "RBI expands scope of TReDS, includes insurers as participants                                            [economic-times, cnbc-tv-18]\n",
       "RBI selects McKinsey and Company, Accenture Solutions to use AI, ML to improve regulatory supervision    [economic-times, cnbc-tv-18]\n",
       "RBI to harmonise Internal Ombudsman framework to strengthen customer grievance mechanism                 [economic-times, cnbc-tv-18]\n",
       "Reliance seeks shareholder nod to appoint Ambani as head for another 5 years at nil salary               [economic-times, cnbc-tv-18]\n",
       "Russia downs 20 drones over Crimea following a spate of attacks on Moscow                                      [cnbc, economic-times]\n",
       "Russia loses election to three UN bodies over Ukraine                                                          [cnbc, economic-times]\n",
       "SBI Funds completes liquidation of assets in Franklin Templeton MF's six debt schemes                    [economic-times, cnbc-tv-18]\n",
       "SJVN inks two pacts to supply 1,200 MW solar power to Punjab                                             [economic-times, cnbc-tv-18]\n",
       "Sai Silks fixes IPO price band at Rs 210-222/share                                                       [economic-times, cnbc-tv-18]\n",
       "Sanofi board approves demerger of its consumer healthcare business                                       [economic-times, cnbc-tv-18]\n",
       "Sebi mulls prohibiting differential rights to AIF investors                                              [economic-times, cnbc-tv-18]\n",
       "Sebi orders attachment of bank, demat, MF accounts of Videocon's Dhoot to recover dues                   [economic-times, cnbc-tv-18]\n",
       "TVS Motor expects growth momentum to continue this fiscal                                                [economic-times, cnbc-tv-18]\n",
       "TVS Supply Chain Solutions gets Sebi nod to float IPO                                                    [economic-times, cnbc-tv-18]\n",
       "Tata Power DDL inks pact with NTPC Vidyut Vyapar Nigam for hydro power supply                            [economic-times, cnbc-tv-18]\n",
       "Tata Steel offers Rs 83 lakh funding for R&D projects in low carbon segment                              [economic-times, cnbc-tv-18]\n",
       "Toyota's Japan production at standstill as system failure hits assembly plants                                 [economic-times, cnbc]\n",
       "Tupperware shares soar on agreement with lenders to restructure debt                                               [cnbc, cnbc-tv-18]\n",
       "UPS shares fall after delivery giant reports disappointing earnings                                                [cnbc, cnbc-tv-18]\n",
       "Ukraine targets a key Crimean city a day after striking Russia's Black Sea Fleet headquarters                  [economic-times, cnbc]\n",
       "Ukraine's dam collapse is both a fast-moving disaster and a slow-moving ecological catastrophe                 [cnbc, economic-times]\n",
       "Unsold homes highest in Thane at 1.07 lakh units, lowest in Chennai at 19,900 units: PropEquity          [economic-times, cnbc-tv-18]\n",
       "Urban Enviro Waste Management to launch IPO on June 12                                                   [economic-times, cnbc-tv-18]\n",
       "V Jagannathan quits from Board of Star Health and Allied Insurance Company                               [economic-times, cnbc-tv-18]\n",
       "Wipro aims to be among top three companies in lighting industry by FY25-end                              [economic-times, cnbc-tv-18]\n",
       "Name: source_name, dtype: object"
      ]
     },
     "execution_count": 95,
     "metadata": {},
     "output_type": "execute_result"
    }
   ],
   "source": [
    "articles_df[articles_df.groupby(['title'])['source_name'].transform('nunique') > 1].groupby('title')['source_name'].unique()"
   ]
  },
  {
   "cell_type": "code",
   "execution_count": 54,
   "id": "28d7cfbd-21c5-4606-8752-078b2706ac7f",
   "metadata": {
    "tags": []
   },
   "outputs": [
    {
     "data": {
      "text/plain": [
       "source_name\n",
       "bq-prime            0.004969\n",
       "business-insider    0.015668\n",
       "business-world      0.064414\n",
       "cnbc                0.131152\n",
       "cnbc-tv-18          0.105013\n",
       "economic-times      0.226503\n",
       "groww               0.016477\n",
       "investopedia        0.174605\n",
       "live-mint           0.220115\n",
       "navi                0.016315\n",
       "wint-wealth         0.016591\n",
       "zerodha-varsity     0.008177\n",
       "Name: url, dtype: float64"
      ]
     },
     "execution_count": 54,
     "metadata": {},
     "output_type": "execute_result"
    }
   ],
   "source": [
    "articles_df.groupby('source_name')['url'].count()/len(articles_df)"
   ]
  },
  {
   "cell_type": "markdown",
   "id": "8c8a03f7-a749-4322-b158-31ef45398ebb",
   "metadata": {},
   "source": [
    "### Extracting cat, subcat"
   ]
  },
  {
   "cell_type": "code",
   "execution_count": 57,
   "id": "de181628-01b2-48f4-9aed-75bc8e579781",
   "metadata": {
    "tags": []
   },
   "outputs": [
    {
     "data": {
      "text/plain": [
       "array(['https://www.bqprime.com/business/eight-indigo-passengers-left-stranded-in-bengaluru-airline-blames-lack-of-time',\n",
       "       'https://www.bqprime.com/business/government-cuts-windfall-tax-on-crude-diesel',\n",
       "       'https://www.bqprime.com/business/maharashtra-needs-153-trillion-investment-in-6-years-for-its-1-trillion-economy-vision',\n",
       "       'https://www.bqprime.com/business/indigo-parent-interglobe-plans-to-launch-electric-air-taxi-service-in-india-in-2026',\n",
       "       'https://www.bqprime.com/markets/fpis-stay-net-sellers-for-the-14th-straight-day-3'],\n",
       "      dtype=object)"
      ]
     },
     "execution_count": 57,
     "metadata": {},
     "output_type": "execute_result"
    }
   ],
   "source": [
    "articles_df[articles_df.source_name == 'bq-prime'].sample(5).url.values"
   ]
  },
  {
   "cell_type": "code",
   "execution_count": 66,
   "id": "6881a6d2-97ea-4558-9318-2879c998d990",
   "metadata": {
    "tags": []
   },
   "outputs": [
    {
     "data": {
      "text/plain": [
       "array(['https://www.businessinsider.com/sc/how-twilio-is-embracing-ai-to-personalize-engagement',\n",
       "       'https://www.businessinsider.com/guides/learning/princeton-university-free-online-courses',\n",
       "       'https://www.businessinsider.com/moving-to-leaving-florida-reasons-home-prices-affordability-weather-2023-11',\n",
       "       'https://www.businessinsider.com/kaiser-permanente-worker-strike-union-patient-health-risk-2023-9',\n",
       "       'https://www.businessinsider.com/why-apple-has-smarter-pricing-strategy-than-facebook-headset-2023-6'],\n",
       "      dtype=object)"
      ]
     },
     "execution_count": 66,
     "metadata": {},
     "output_type": "execute_result"
    }
   ],
   "source": [
    "# no proper structure cat in business insider\n",
    "articles_df[articles_df.source_name == 'business-insider'].sample(5).url.values"
   ]
  },
  {
   "cell_type": "code",
   "execution_count": 67,
   "id": "98196182-892e-4fe6-bb09-437fa885b05c",
   "metadata": {
    "tags": []
   },
   "outputs": [
    {
     "data": {
      "text/plain": [
       "array(['https://www.bworldonline.com/world/2023/11/16/557974/czech-government-freezes-russian-states-real-estate-assets/',\n",
       "       'https://www.bworldonline.com/infographics/2023/07/26/535964/philippines-ranks-12th-most-attractive-country-for-offshore-services/',\n",
       "       'https://www.bworldonline.com/world/2023/07/21/535324/chinese-hackers-breach-us-ambassadors-emails-wsj/',\n",
       "       'https://www.bworldonline.com/corporate/2023/04/21/518191/globe-smart-still-keen-on-longer-sim-deadline/',\n",
       "       'https://www.bworldonline.com/agribusiness/2023/10/02/549016/phl-2024-broiler-chicken-production-forecast-at-1-53-million-metric-tons/'],\n",
       "      dtype=object)"
      ]
     },
     "execution_count": 67,
     "metadata": {},
     "output_type": "execute_result"
    }
   ],
   "source": [
    "articles_df[articles_df.source_name == 'business-world'].sample(5).url.values"
   ]
  },
  {
   "cell_type": "code",
   "execution_count": 71,
   "id": "d24eb800-7aa6-45e6-8038-f3f9f2d2ce97",
   "metadata": {
    "tags": []
   },
   "outputs": [
    {
     "data": {
      "text/plain": [
       "array(['https://www.cnbc.com/2023/08/31/trump-pleads-not-guilty-to-election-charges-in-georgia-waives-arraignment.html',\n",
       "       'https://www.cnbc.com/2023/08/24/first-trial-of-trump-co-defendant-in-georgia-case-will-begin-oct-23-judge-rules.html',\n",
       "       'https://www.cnbc.com/2023/11/02/starbucks-sbux-earnings-q4-2023.html',\n",
       "       'https://www.cnbc.com/2023/09/17/russell-brands-agency-terminates-ties-following-sexual-assault-allegations.html',\n",
       "       'https://www.cnbc.com/2023/10/04/health-care-workers-strike-at-kaiser-permanente.html'],\n",
       "      dtype=object)"
      ]
     },
     "execution_count": 71,
     "metadata": {},
     "output_type": "execute_result"
    }
   ],
   "source": [
    "articles_df[articles_df.source_name == 'cnbc'].sample(5).url.values"
   ]
  },
  {
   "cell_type": "code",
   "execution_count": 75,
   "id": "d0a29465-4ee0-4f07-8d99-2516d73d4143",
   "metadata": {
    "tags": []
   },
   "outputs": [
    {
     "data": {
      "text/plain": [
       "array(['https://www.cnbctv18.com/finance/canfin-homes-ceo-exclusive-interview-suresh-srinivasan-iyer-fraud-ambala-branch-cheque-process-17333691.htm',\n",
       "       'https://www.cnbctv18.com/market/nse-signs-mou-with-maharashtra-moneybee-institute-to-create-financial-literacy-nagpur-devendra-fadnavis-16941571.htm',\n",
       "       'https://www.cnbctv18.com/market/stocks/tata-teleservices-new-ucaas-launch-microsoft-teams-integration-shares-rally-17275581.htm',\n",
       "       'https://www.cnbctv18.com/economy/indian-govt-fta-fears-eu-carbon-tariffs-will-raise-compliance-costs-impede-free-trade-17144621.htm',\n",
       "       'https://www.cnbctv18.com/market/commodities/saxo-bank-forecasts-gold-prices-to-reach-2100-dollar-per-ounce-asset-class-investment-16494651.htm'],\n",
       "      dtype=object)"
      ]
     },
     "execution_count": 75,
     "metadata": {},
     "output_type": "execute_result"
    }
   ],
   "source": [
    "articles_df[articles_df.source_name == 'cnbc-tv-18'].sample(5).url.values"
   ]
  },
  {
   "cell_type": "code",
   "execution_count": 97,
   "id": "0facab41-014e-48b5-9efc-87795ea1c0b5",
   "metadata": {
    "tags": []
   },
   "outputs": [
    {
     "data": {
      "text/plain": [
       "array(['https://economictimes.indiatimes.com/news/india/mumbai-creek-tragedy-bodies-of-2-boys-found-1-still-missing/articleshow/101815438.cms',\n",
       "       'https://economictimes.indiatimes.com/news/international/us/demon-slayer-season-4-what-you-need-to-know/articleshow/104449422.cms',\n",
       "       'https://economictimes.indiatimes.com/news/india/heavy-rain-lashes-delhi-waterlogging-causes-traffic-congestion-in-parts-of-city/articleshow/101788655.cms',\n",
       "       'https://economictimes.indiatimes.com/news/india/sc-trashes-appeal-of-former-isro-scientist-against-dismissal-from-service/articleshow/100232069.cms',\n",
       "       'https://economictimes.indiatimes.com/news/politics-and-nation/shiv-sena-ubt-leader-sanjay-raut-backs-yogi-adityanath-on-encounters-says-no-question-of-caste-religion-if-up-cm-wants-to-end-mafia-raj/articleshow/99499420.cms'],\n",
       "      dtype=object)"
      ]
     },
     "execution_count": 97,
     "metadata": {},
     "output_type": "execute_result"
    }
   ],
   "source": [
    "articles_df[articles_df.source_name == 'economic-times'].sample(5).url.values"
   ]
  },
  {
   "cell_type": "code",
   "execution_count": 98,
   "id": "c98a9225-becf-4461-b5a1-0eb43a46bd9b",
   "metadata": {
    "tags": []
   },
   "outputs": [
    {
     "data": {
      "text/plain": [
       "array(['https://groww.in/blog/best-fund-managers-in-india',\n",
       "       'https://groww.in/blog/apollo-hospitals-q1-results-fy22-2023-pat-down-by-35-to-rs-317-crore',\n",
       "       'https://groww.in/blog/bandhan-bank-quarterly-results-q3-fy22',\n",
       "       'https://groww.in/blog/best-dividend-paying-penny-stocks-in-india',\n",
       "       'https://groww.in/blog/reasons-not-invest-small-cap-funds'],\n",
       "      dtype=object)"
      ]
     },
     "execution_count": 98,
     "metadata": {},
     "output_type": "execute_result"
    }
   ],
   "source": [
    "articles_df[articles_df.source_name == 'groww'].sample(5).url.values"
   ]
  },
  {
   "cell_type": "code",
   "execution_count": 107,
   "id": "e3285a4a-b89e-4b6e-96f2-c0e24e910ac7",
   "metadata": {
    "tags": []
   },
   "outputs": [
    {
     "data": {
      "text/plain": [
       "array(['https://www.investopedia.com/terms/a/at-par.asp',\n",
       "       'https://www.investopedia.com/articles/financial-advisors/101315/are-etfs-good-fit-401k-plans.asp',\n",
       "       'https://www.investopedia.com/mortgage-rates-continue-upward-surge-7557401',\n",
       "       'https://www.investopedia.com/articles/exchangetradedfunds/11/benefits-etfs-hedging.asp',\n",
       "       'https://www.investopedia.com/articles/personal-finance/120715/what-happens-retirement-accounts-if-spouse-dies.asp'],\n",
       "      dtype=object)"
      ]
     },
     "execution_count": 107,
     "metadata": {},
     "output_type": "execute_result"
    }
   ],
   "source": [
    "articles_df[articles_df.source_name == 'investopedia'].sample(5).url.values"
   ]
  },
  {
   "cell_type": "code",
   "execution_count": 101,
   "id": "c29c01ba-15f9-4d94-8e5e-78eaf80d0577",
   "metadata": {
    "tags": []
   },
   "outputs": [
    {
     "data": {
      "text/plain": [
       "array(['https://www.livemint.com/market/live-blog/tata-chemicals-share-price-live-blog-for-16-nov-2023-11700102665178.html',\n",
       "       'https://www.livemint.com/companies/elon-musk-s-neuralink-gets-fda-approval-for-study-of-brain-implants-in-humans-11685119212072.html',\n",
       "       'https://www.livemint.com/companies/start-ups/kotak-investment-advisors-to-close-its-startup-fund-cites-falling-valuations-as-a-reason-11681394105602.html',\n",
       "       'https://www.livemint.com/market/live-blog/indian-railway-catering-tourism-corporation-share-price-live-blog-for-25-oct-2023-11698202356607.html',\n",
       "       'https://www.livemint.com/industry/media/adipurush-box-office-collection-movie-continues-to-mint-money-despite-controversy-11687157962872.html'],\n",
       "      dtype=object)"
      ]
     },
     "execution_count": 101,
     "metadata": {},
     "output_type": "execute_result"
    }
   ],
   "source": [
    "articles_df[articles_df.source_name == 'live-mint'].sample(5).url.values"
   ]
  },
  {
   "cell_type": "code",
   "execution_count": 102,
   "id": "76016bef-5ccc-40fd-8229-1f1ab97ac2b3",
   "metadata": {
    "tags": []
   },
   "outputs": [
    {
     "data": {
      "text/plain": [
       "array(['https://navi.com/blog/hybrid-mutual-funds/',\n",
       "       'https://navi.com/blog/tpa-third-party-administrator/',\n",
       "       'https://navi.com/blog/telangana-land-records/',\n",
       "       'https://navi.com/blog/yield-curve-inversion/',\n",
       "       'https://navi.com/blog/equity-portfoliomanagement/'], dtype=object)"
      ]
     },
     "execution_count": 102,
     "metadata": {},
     "output_type": "execute_result"
    }
   ],
   "source": [
    "articles_df[articles_df.source_name == 'navi'].sample(5).url.values"
   ]
  },
  {
   "cell_type": "code",
   "execution_count": 103,
   "id": "21304c0d-6bd9-41fe-9c52-52fb429e5e82",
   "metadata": {
    "tags": []
   },
   "outputs": [
    {
     "data": {
      "text/plain": [
       "array(['https://www.wintwealth.com/blog/munger-commercial-real-estate-investment',\n",
       "       'https://www.wintwealth.com/blog/commercial-real-estate-investment-in-muzaffarpur',\n",
       "       'https://www.wintwealth.com/blog/face-value-of-shares-meaning-working-importance',\n",
       "       'https://www.wintwealth.com/blog/know-the-features-and-benefits-of-a-trading-account',\n",
       "       'https://www.wintwealth.com/blog/get-sukanya-samriddhi-account-passbook-online'],\n",
       "      dtype=object)"
      ]
     },
     "execution_count": 103,
     "metadata": {},
     "output_type": "execute_result"
    }
   ],
   "source": [
    "articles_df[articles_df.source_name == 'wint-wealth'].sample(5).url.values"
   ]
  },
  {
   "cell_type": "code",
   "execution_count": 104,
   "id": "87f99b71-9a98-4571-a1da-0fc3a658d591",
   "metadata": {
    "tags": []
   },
   "outputs": [
    {
     "data": {
      "text/plain": [
       "array(['https://zerodha.com/varsity/the-history-of-indian-venture-capital/',\n",
       "       'https://zerodha.com/varsity/chapter/dont-deliberate-just-do-it/',\n",
       "       'https://zerodha.com/varsity/chapter/getting-ready-to-trade/',\n",
       "       'https://zerodha.com/varsity/chapter/disappointment-and-regret-the-other-trading-emotions/',\n",
       "       'https://zerodha.com/varsity/chapter/discipline-takes-practice/'],\n",
       "      dtype=object)"
      ]
     },
     "execution_count": 104,
     "metadata": {},
     "output_type": "execute_result"
    }
   ],
   "source": [
    "articles_df[articles_df.source_name == 'zerodha-varsity'].sample(5).url.values"
   ]
  },
  {
   "cell_type": "code",
   "execution_count": 21,
   "id": "ec41ca4c-56bb-4db9-84cd-e1c5a26f14ea",
   "metadata": {
    "tags": []
   },
   "outputs": [],
   "source": [
    "from src.articles.ArticleService import ArticleService"
   ]
  },
  {
   "cell_type": "code",
   "execution_count": 22,
   "id": "61559d1d-35c6-41a4-b91e-51f00a65638c",
   "metadata": {
    "tags": []
   },
   "outputs": [],
   "source": [
    "from tqdm.notebook import tqdm_notebook\n",
    "tqdm_notebook.pandas()"
   ]
  },
  {
   "cell_type": "code",
   "execution_count": 23,
   "id": "13bbf80d-064d-4d81-96d7-e4473187e82a",
   "metadata": {
    "tags": []
   },
   "outputs": [],
   "source": [
    "import re"
   ]
  },
  {
   "cell_type": "code",
   "execution_count": 24,
   "id": "c940ff66-d0b2-4737-923a-23ee9b1328a8",
   "metadata": {
    "tags": []
   },
   "outputs": [],
   "source": [
    "subcat_sources = ['live-mint','economic-times', 'cnbc-tv-18']\n",
    "cat_sources = ['navi', 'zerodha-varsity', 'wint-wealth', 'investopedia', 'groww', 'business-world', 'bq-prime']\n",
    "\n",
    "def extract_category_subcategory(row):\n",
    "    # 20 and 25 identified based on iterative analysis\n",
    "    source = row['source_name']\n",
    "    x = row['url']\n",
    "    if source in cat_sources:\n",
    "        cat_url = re.split('.com/|.in/', x)[1]\n",
    "        cat = cat_url.split('/')[0]\n",
    "        if len(cat) < 20:\n",
    "            return cat, ''\n",
    "        else:\n",
    "            return '',''\n",
    "    elif source in subcat_sources:\n",
    "        cat_url = re.split('.com/|.in/', x)[1]\n",
    "        cat = cat_url.split('/')[0]\n",
    "        sub_cat = cat_url.split('/')[1]\n",
    "        if len(sub_cat) < 25:\n",
    "            return cat, sub_cat\n",
    "        else:\n",
    "            return cat, ''\n",
    "    else:\n",
    "        return '', ''"
   ]
  },
  {
   "cell_type": "code",
   "execution_count": 25,
   "id": "103a4b14-f6aa-40c5-83df-6a7857206cf8",
   "metadata": {
    "tags": []
   },
   "outputs": [],
   "source": [
    "articles_df[['cat', 'subcat']] = articles_df.apply(extract_category_subcategory, axis = 1, result_type='expand')"
   ]
  },
  {
   "cell_type": "code",
   "execution_count": 26,
   "id": "c449dd37-31f7-4344-98ed-f0e14264d81f",
   "metadata": {
    "tags": []
   },
   "outputs": [
    {
     "data": {
      "text/plain": [
       "21"
      ]
     },
     "execution_count": 26,
     "metadata": {},
     "output_type": "execute_result"
    }
   ],
   "source": [
    "len('personal-finance-news')"
   ]
  },
  {
   "cell_type": "code",
   "execution_count": 27,
   "id": "e6fab714-6452-4d2a-ad32-0555175fc692",
   "metadata": {
    "tags": []
   },
   "outputs": [
    {
     "data": {
      "text/plain": [
       "cat\n",
       "1099-g-form-4782667    1\n",
       "after-8347322          1\n",
       "ajay-banga-7494796     1\n",
       "alphanomics-7974094    1\n",
       "ameribor-6260927       1\n",
       "Name: cat, dtype: int64"
      ]
     },
     "execution_count": 27,
     "metadata": {},
     "output_type": "execute_result"
    }
   ],
   "source": [
    "articles_df.groupby('cat')['cat'].count().nsmallest()"
   ]
  },
  {
   "cell_type": "code",
   "execution_count": 28,
   "id": "0ebd0a29-14a1-4f7d-8edb-bb819e6142f7",
   "metadata": {
    "tags": []
   },
   "outputs": [],
   "source": [
    "# removing those entries where there is only 1 cat count or 1 subcat count\n",
    "invalid_cats = articles_df[articles_df.groupby('cat')['cat'].transform('count') == 1].cat.unique()\n",
    "\n",
    "invalid_subcats = articles_df[articles_df.groupby('subcat')['subcat'].transform('count') == 1].subcat.unique()\n",
    "\n",
    "articles_df.loc[articles_df.cat.isin(invalid_cats),'cat'] = ''\n",
    "articles_df.loc[articles_df.subcat.isin(invalid_subcats),'subcat'] = ''"
   ]
  },
  {
   "cell_type": "code",
   "execution_count": 29,
   "id": "57f5bf69-368d-4e42-83a3-2dc510fd266f",
   "metadata": {
    "tags": []
   },
   "outputs": [],
   "source": [
    "articles_df['fullcat'] = articles_df['source_name'] + '-' + articles_df['cat'] + '-' + articles_df['subcat']"
   ]
  },
  {
   "cell_type": "code",
   "execution_count": 30,
   "id": "60caa92a-8bd5-4aaa-a105-6602fd9e585e",
   "metadata": {
    "tags": []
   },
   "outputs": [
    {
     "data": {
      "text/plain": [
       "185"
      ]
     },
     "execution_count": 30,
     "metadata": {},
     "output_type": "execute_result"
    }
   ],
   "source": [
    "len(articles_df.groupby('fullcat')['article_id'].count())"
   ]
  },
  {
   "cell_type": "markdown",
   "id": "9b5f0a4a-2e95-42e9-840e-ea8a4e5b1f35",
   "metadata": {},
   "source": [
    "### Re-balancing categories for more even representation"
   ]
  },
  {
   "cell_type": "code",
   "execution_count": 31,
   "id": "107a51b2-422a-4190-9286-f3637eeb37bf",
   "metadata": {
    "tags": []
   },
   "outputs": [],
   "source": [
    "fullcat_prob = articles_df.groupby('fullcat')['article_id'].count()/len(articles_df)"
   ]
  },
  {
   "cell_type": "code",
   "execution_count": 32,
   "id": "771f98e2-74a4-43ee-b974-1cce414c7346",
   "metadata": {
    "tags": []
   },
   "outputs": [
    {
     "data": {
      "text/plain": [
       "fullcat\n",
       "cnbc--                                0.131152\n",
       "investopedia--                        0.073991\n",
       "economic-times-news-international     0.062416\n",
       "investopedia-terms-                   0.054172\n",
       "live-mint-market-stock-market-news    0.052459\n",
       "Name: article_id, dtype: float64"
      ]
     },
     "execution_count": 32,
     "metadata": {},
     "output_type": "execute_result"
    }
   ],
   "source": [
    "fullcat_prob.nlargest()"
   ]
  },
  {
   "cell_type": "code",
   "execution_count": 167,
   "id": "524f3d27-7ac4-473f-8652-adc7954a3819",
   "metadata": {
    "tags": []
   },
   "outputs": [],
   "source": [
    "reweighted_fullcat_prob = np.power(fullcat_prob, -0.33)/np.sum(np.power(fullcat_prob, -0.33))"
   ]
  },
  {
   "cell_type": "code",
   "execution_count": 168,
   "id": "afed4249-2a8d-41dd-a4dc-026578b1598c",
   "metadata": {
    "tags": []
   },
   "outputs": [
    {
     "data": {
      "text/plain": [
       "0.0006711166081477496"
      ]
     },
     "execution_count": 168,
     "metadata": {},
     "output_type": "execute_result"
    }
   ],
   "source": [
    "reweighted_fullcat_prob['cnbc--']"
   ]
  },
  {
   "cell_type": "code",
   "execution_count": 169,
   "id": "6415c39f-ae59-4834-8353-d3692c377584",
   "metadata": {
    "scrolled": true,
    "tags": []
   },
   "outputs": [
    {
     "data": {
      "text/plain": [
       "fullcat\n",
       "bq-prime-business-                0.002253\n",
       "bq-prime-economy-finance-         0.007290\n",
       "bq-prime-ipos-                    0.004505\n",
       "bq-prime-law-and-policy-          0.007548\n",
       "bq-prime-markets-                 0.003314\n",
       "                                    ...   \n",
       "live-mint-technology-apps         0.012399\n",
       "live-mint-technology-tech-news    0.010846\n",
       "navi-blog-                        0.001335\n",
       "wint-wealth-blog-                 0.001328\n",
       "zerodha-varsity-varsity-          0.001677\n",
       "Name: article_id, Length: 185, dtype: float64"
      ]
     },
     "execution_count": 169,
     "metadata": {},
     "output_type": "execute_result"
    }
   ],
   "source": [
    "reweighted_fullcat_prob"
   ]
  },
  {
   "cell_type": "code",
   "execution_count": 170,
   "id": "5ffc076b-8612-4794-9037-0f215b05e4ec",
   "metadata": {
    "tags": []
   },
   "outputs": [],
   "source": [
    "reweighted_fullcat_prob_df = pd.DataFrame(reweighted_fullcat_prob).rename(columns = {'article_id': 'proportion'}).reset_index()"
   ]
  },
  {
   "cell_type": "code",
   "execution_count": 171,
   "id": "01e15089-8192-48df-a2df-b18901040be8",
   "metadata": {
    "tags": []
   },
   "outputs": [],
   "source": [
    "if 'proportion' in articles_df.columns:\n",
    "    articles_df = articles_df.drop(columns = {'proportion'})\n",
    "articles_df = pd.merge(articles_df, reweighted_fullcat_prob_df, how = 'left')"
   ]
  },
  {
   "cell_type": "code",
   "execution_count": 172,
   "id": "6ccbff40-72b2-4cc9-a725-f8642b5a39c6",
   "metadata": {
    "tags": []
   },
   "outputs": [],
   "source": [
    "baselevel = np.sum(articles_df['proportion'])"
   ]
  },
  {
   "cell_type": "code",
   "execution_count": 173,
   "id": "f0a6c5c8-2c54-4ce1-82af-d90610ef1991",
   "metadata": {
    "tags": []
   },
   "outputs": [],
   "source": [
    "num_articles = 1500"
   ]
  },
  {
   "cell_type": "code",
   "execution_count": 174,
   "id": "b720dd3a-22da-4f14-88c6-50b0c29e55a1",
   "metadata": {
    "tags": []
   },
   "outputs": [],
   "source": [
    "articles_df['scaled_proportion'] = articles_df['proportion'] * (num_articles/baselevel)"
   ]
  },
  {
   "cell_type": "code",
   "execution_count": 175,
   "id": "31ab665d-c1fb-4fb1-9dee-6e414d3410be",
   "metadata": {
    "tags": []
   },
   "outputs": [
    {
     "data": {
      "text/plain": [
       "1500.0"
      ]
     },
     "execution_count": 175,
     "metadata": {},
     "output_type": "execute_result"
    }
   ],
   "source": [
    "articles_df.scaled_proportion.sum()"
   ]
  },
  {
   "cell_type": "code",
   "execution_count": 176,
   "id": "acc9c7c0-2282-4d33-9d37-03a0a89c6a13",
   "metadata": {
    "tags": []
   },
   "outputs": [],
   "source": [
    "articles_df['prob'] = [np.random.rand() for i in range(len(articles_df))]"
   ]
  },
  {
   "cell_type": "code",
   "execution_count": 177,
   "id": "5381eb31-6477-47e6-9e64-a9e1b50a6ead",
   "metadata": {
    "tags": []
   },
   "outputs": [],
   "source": [
    "articles_df['is_selected'] = articles_df['prob'] < articles_df['scaled_proportion']"
   ]
  },
  {
   "cell_type": "code",
   "execution_count": 178,
   "id": "a153d547-b3b8-4187-b7ed-53633fc7da91",
   "metadata": {
    "tags": []
   },
   "outputs": [
    {
     "data": {
      "text/plain": [
       "1503"
      ]
     },
     "execution_count": 178,
     "metadata": {},
     "output_type": "execute_result"
    }
   ],
   "source": [
    "articles_df.is_selected.sum()"
   ]
  },
  {
   "cell_type": "code",
   "execution_count": 179,
   "id": "24f9634f-40fb-4d45-a26e-71c499225b94",
   "metadata": {
    "tags": []
   },
   "outputs": [
    {
     "data": {
      "text/plain": [
       "source_name\n",
       "economic-times      381\n",
       "live-mint           379\n",
       "investopedia        225\n",
       "cnbc-tv-18          181\n",
       "business-world      114\n",
       "cnbc                103\n",
       "navi                 25\n",
       "wint-wealth          24\n",
       "business-insider     22\n",
       "zerodha-varsity      18\n",
       "bq-prime             16\n",
       "groww                15\n",
       "Name: is_selected, dtype: int64"
      ]
     },
     "execution_count": 179,
     "metadata": {},
     "output_type": "execute_result"
    }
   ],
   "source": [
    "articles_df[articles_df.is_selected == 1].groupby('source_name')['is_selected'].sum().nlargest(100)"
   ]
  },
  {
   "cell_type": "code",
   "execution_count": 180,
   "id": "ea7a2bb7-c0db-4b3b-ae19-090e02807397",
   "metadata": {
    "tags": []
   },
   "outputs": [
    {
     "data": {
      "text/plain": [
       "source_name\n",
       "economic-times      23795\n",
       "live-mint           23124\n",
       "investopedia        18343\n",
       "cnbc                13778\n",
       "cnbc-tv-18          11032\n",
       "business-world       6767\n",
       "wint-wealth          1743\n",
       "groww                1731\n",
       "navi                 1714\n",
       "business-insider     1646\n",
       "zerodha-varsity       859\n",
       "bq-prime              522\n",
       "Name: is_selected, dtype: int64"
      ]
     },
     "execution_count": 180,
     "metadata": {},
     "output_type": "execute_result"
    }
   ],
   "source": [
    "articles_df.groupby('source_name')['is_selected'].count().nlargest(100)"
   ]
  },
  {
   "cell_type": "code",
   "execution_count": 181,
   "id": "ff1c3f1a-1215-43cb-b5a8-83873f5725cd",
   "metadata": {
    "scrolled": true,
    "tags": []
   },
   "outputs": [
    {
     "data": {
      "text/plain": [
       "fullcat\n",
       "cnbc--                                103\n",
       "investopedia--                         70\n",
       "economic-times-news-international      64\n",
       "investopedia-terms-                    55\n",
       "live-mint-market-stock-market-news     54\n",
       "                                     ... \n",
       "live-mint-market-mark-to-market         3\n",
       "live-mint-money-                        3\n",
       "live-mint-news-india                    3\n",
       "bq-prime-markets-                       2\n",
       "business-world-special-features-        2\n",
       "Name: is_selected, Length: 100, dtype: int64"
      ]
     },
     "execution_count": 181,
     "metadata": {},
     "output_type": "execute_result"
    }
   ],
   "source": [
    "articles_df[articles_df.is_selected == 1].groupby('fullcat')['is_selected'].sum().nlargest(100)"
   ]
  },
  {
   "cell_type": "code",
   "execution_count": 182,
   "id": "f8567816-2efc-48b3-a4ea-c5478c4e4b6c",
   "metadata": {
    "tags": []
   },
   "outputs": [
    {
     "data": {
      "text/plain": [
       "133"
      ]
     },
     "execution_count": 182,
     "metadata": {},
     "output_type": "execute_result"
    }
   ],
   "source": [
    "len(articles_df[articles_df.is_selected == 1].groupby('fullcat')['is_selected'].sum())"
   ]
  },
  {
   "cell_type": "code",
   "execution_count": 183,
   "id": "d15ad54d-dc4b-4450-a00a-4c676ab9bf00",
   "metadata": {
    "scrolled": true,
    "tags": []
   },
   "outputs": [
    {
     "data": {
      "text/plain": [
       "subcat\n",
       "international          64\n",
       "india                  55\n",
       "politics-and-nation    39\n",
       "defence                18\n",
       "sports                 18\n",
       "new-updates            17\n",
       "economy                16\n",
       "elections              16\n",
       "environment             6\n",
       "science                 5\n",
       "                        4\n",
       "company                 4\n",
       "how-to                  3\n",
       "world                   1\n",
       "Name: is_selected, dtype: int64"
      ]
     },
     "execution_count": 183,
     "metadata": {},
     "output_type": "execute_result"
    }
   ],
   "source": [
    "articles_df[(articles_df.is_selected == 1) & (articles_df.cat == 'news')].groupby('subcat')['is_selected'].sum().nlargest(50)"
   ]
  },
  {
   "cell_type": "code",
   "execution_count": 184,
   "id": "fcce50ea-59c3-4bb2-9301-13ae92f2a482",
   "metadata": {
    "scrolled": true,
    "tags": []
   },
   "outputs": [
    {
     "data": {
      "text/plain": [
       "cat\n",
       "news                 266\n",
       "market               204\n",
       "                     195\n",
       "industry             152\n",
       "companies             70\n",
       "business              65\n",
       "blog                  64\n",
       "terms                 55\n",
       "economy               45\n",
       "articles              40\n",
       "markets               36\n",
       "ask                   31\n",
       "money                 27\n",
       "opinion               22\n",
       "banking-finance       18\n",
       "varsity               18\n",
       "corporate             17\n",
       "world                 17\n",
       "photos                16\n",
       "personal-finance      14\n",
       "top-stories           14\n",
       "auto-news             13\n",
       "cryptocurrency         9\n",
       "finance                9\n",
       "financial-edge         8\n",
       "small-biz              8\n",
       "stock-market           8\n",
       "Opinion                6\n",
       "velocity               6\n",
       "property               5\n",
       "agribusiness           4\n",
       "wealth                 4\n",
       "infographics           3\n",
       "investing              3\n",
       "ipos                   3\n",
       "tech                   3\n",
       "Industry               2\n",
       "Money                  2\n",
       "budget                 2\n",
       "insights               2\n",
       "retirement             2\n",
       "special-features       2\n",
       "updates                2\n",
       "economy-finance        1\n",
       "financial-advisor      1\n",
       "mortgage               1\n",
       "mutual-fund            1\n",
       "politics               1\n",
       "real-estate            1\n",
       "research               1\n",
       "Name: is_selected, dtype: int64"
      ]
     },
     "execution_count": 184,
     "metadata": {},
     "output_type": "execute_result"
    }
   ],
   "source": [
    "articles_df[articles_df.is_selected == 1].groupby('cat')['is_selected'].sum().nlargest(50)"
   ]
  },
  {
   "cell_type": "code",
   "execution_count": 194,
   "id": "cfb34d1e-633f-4d4b-98d5-02ae55275597",
   "metadata": {
    "tags": []
   },
   "outputs": [],
   "source": [
    "shortlisted_articles = articles_df[articles_df.is_selected == True]\n",
    "shortlisted_articles = shortlisted_articles.sample(frac=1)"
   ]
  },
  {
   "cell_type": "code",
   "execution_count": 195,
   "id": "17a1a3f8-5808-4951-9961-24b56eae736b",
   "metadata": {
    "tags": []
   },
   "outputs": [],
   "source": [
    "oversampled_blog_articles = articles_df[articles_df.source_name.isin(['groww', 'wint-wealth', 'zerodha-varsity', 'business-insider'])].groupby('source_name').sample(20)"
   ]
  },
  {
   "cell_type": "code",
   "execution_count": 196,
   "id": "ba39d329-2e0b-428e-93d3-b1d4cdad04ba",
   "metadata": {
    "tags": []
   },
   "outputs": [],
   "source": [
    "shortlisted_articles = pd.concat([shortlisted_articles, oversampled_blog_articles])"
   ]
  },
  {
   "cell_type": "code",
   "execution_count": 190,
   "id": "4187da16-c8c3-4757-9d23-7508b260d0ba",
   "metadata": {
    "scrolled": true,
    "tags": []
   },
   "outputs": [
    {
     "data": {
      "text/html": [
       "<div>\n",
       "<style scoped>\n",
       "    .dataframe tbody tr th:only-of-type {\n",
       "        vertical-align: middle;\n",
       "    }\n",
       "\n",
       "    .dataframe tbody tr th {\n",
       "        vertical-align: top;\n",
       "    }\n",
       "\n",
       "    .dataframe thead th {\n",
       "        text-align: right;\n",
       "    }\n",
       "</style>\n",
       "<table border=\"1\" class=\"dataframe\">\n",
       "  <thead>\n",
       "    <tr style=\"text-align: right;\">\n",
       "      <th></th>\n",
       "      <th>article_id</th>\n",
       "      <th>url</th>\n",
       "      <th>source_id</th>\n",
       "      <th>authors</th>\n",
       "      <th>image_url</th>\n",
       "      <th>is_premium_article</th>\n",
       "      <th>last_updated_time</th>\n",
       "      <th>published_time</th>\n",
       "      <th>short_description</th>\n",
       "      <th>tags</th>\n",
       "      <th>...</th>\n",
       "      <th>prob</th>\n",
       "      <th>id</th>\n",
       "      <th>decay</th>\n",
       "      <th>source_name</th>\n",
       "      <th>cat</th>\n",
       "      <th>subcat</th>\n",
       "      <th>fullcat</th>\n",
       "      <th>scaled_proportion</th>\n",
       "      <th>is_selected</th>\n",
       "      <th>proportion</th>\n",
       "    </tr>\n",
       "  </thead>\n",
       "  <tbody>\n",
       "    <tr>\n",
       "      <th>30152</th>\n",
       "      <td>65316a351e5cc42b1b13db99</td>\n",
       "      <td>https://www.livemint.com/industry/advertising/...</td>\n",
       "      <td>650046bd005149c49201269f</td>\n",
       "      <td>[Varuni Khosla]</td>\n",
       "      <td>https://images.livemint.com/img/2023/02/14/160...</td>\n",
       "      <td>False</td>\n",
       "      <td>2023-02-14T15:40:52+05:30</td>\n",
       "      <td>2023-02-14T15:40:52+05:30</td>\n",
       "      <td>There will be a 15.5% increase in ad spends in...</td>\n",
       "      <td>[digital advertising, ad spends, Wavemaker, Es...</td>\n",
       "      <td>...</td>\n",
       "      <td>0.026106</td>\n",
       "      <td>2</td>\n",
       "      <td>0.9</td>\n",
       "      <td>live-mint</td>\n",
       "      <td>industry</td>\n",
       "      <td>advertising</td>\n",
       "      <td>live-mint-industry-advertising</td>\n",
       "      <td>0.039024</td>\n",
       "      <td>True</td>\n",
       "      <td>0.003584</td>\n",
       "    </tr>\n",
       "    <tr>\n",
       "      <th>97625</th>\n",
       "      <td>6555cc054b13023f934a4124</td>\n",
       "      <td>https://www.cnbctv18.com/business/companies/ai...</td>\n",
       "      <td>6555992096fb32eef21a562d</td>\n",
       "      <td>[Anand Singha]</td>\n",
       "      <td>https://images.cnbctv18.com/wp-content/uploads...</td>\n",
       "      <td>False</td>\n",
       "      <td>2023-10-18T15:03:43+00:00</td>\n",
       "      <td>2023-10-17T17:33:35+00:00</td>\n",
       "      <td>While Tony Fernandes' LinkedIn post initially ...</td>\n",
       "      <td>[AirAsia CEO, Tony Fernandes, Shirtless meetin...</td>\n",
       "      <td>...</td>\n",
       "      <td>0.002965</td>\n",
       "      <td>14</td>\n",
       "      <td>0.9</td>\n",
       "      <td>cnbc-tv-18</td>\n",
       "      <td>business</td>\n",
       "      <td>companies</td>\n",
       "      <td>cnbc-tv-18-business-companies</td>\n",
       "      <td>0.013210</td>\n",
       "      <td>True</td>\n",
       "      <td>0.001213</td>\n",
       "    </tr>\n",
       "    <tr>\n",
       "      <th>103939</th>\n",
       "      <td>65597a4e4b13023f934af118</td>\n",
       "      <td>https://www.cnbc.com/2023/11/18/niro-sivanatha...</td>\n",
       "      <td>6555995596fb32eef21a562e</td>\n",
       "      <td>[Megan Sauer]</td>\n",
       "      <td>https://image.cnbcfm.com/api/v1/image/10733602...</td>\n",
       "      <td>False</td>\n",
       "      <td>2023-11-18T14:00:01+00:00</td>\n",
       "      <td>2023-11-18T14:00:01+00:00</td>\n",
       "      <td>There's an \"easy fix\" to becoming more persuas...</td>\n",
       "      <td>[Psychology,Leadership]</td>\n",
       "      <td>...</td>\n",
       "      <td>0.000754</td>\n",
       "      <td>15</td>\n",
       "      <td>0.9</td>\n",
       "      <td>cnbc</td>\n",
       "      <td></td>\n",
       "      <td></td>\n",
       "      <td>cnbc--</td>\n",
       "      <td>0.007308</td>\n",
       "      <td>True</td>\n",
       "      <td>0.000671</td>\n",
       "    </tr>\n",
       "    <tr>\n",
       "      <th>70841</th>\n",
       "      <td>651e2632a662d76276b8a69e</td>\n",
       "      <td>https://economictimes.indiatimes.com/news/indi...</td>\n",
       "      <td>6512cdcad01a9c8e86263e05</td>\n",
       "      <td>[ANI]</td>\n",
       "      <td>https://economictimes.indiatimes.com/thumb/msi...</td>\n",
       "      <td>False</td>\n",
       "      <td>2023-05-01T11:59:00+05:30</td>\n",
       "      <td>2023-04-30T08:16:00+05:30</td>\n",
       "      <td>Earthquake of Magnitude:4.1, Occurred on 30-0...</td>\n",
       "      <td>[earthquake, jammu, kashmir, National Center f...</td>\n",
       "      <td>...</td>\n",
       "      <td>0.001980</td>\n",
       "      <td>1</td>\n",
       "      <td>0.9</td>\n",
       "      <td>economic-times</td>\n",
       "      <td>news</td>\n",
       "      <td>india</td>\n",
       "      <td>economic-times-news-india</td>\n",
       "      <td>0.010293</td>\n",
       "      <td>True</td>\n",
       "      <td>0.000945</td>\n",
       "    </tr>\n",
       "    <tr>\n",
       "      <th>103829</th>\n",
       "      <td>655828f04b13023f934af086</td>\n",
       "      <td>https://www.bqprime.com/business/banks-to-need...</td>\n",
       "      <td>65559d4296fb32eef21a5630</td>\n",
       "      <td>[PTI]</td>\n",
       "      <td>https://gumlet.assettype.com/bloombergquint%2F...</td>\n",
       "      <td>False</td>\n",
       "      <td>2023-11-17T17:43:06+00:00</td>\n",
       "      <td>2023-11-17T17:43:09+00:00</td>\n",
       "      <td>The banking system will need Rs 84,000 crore o...</td>\n",
       "      <td>[PTI,bqfree]</td>\n",
       "      <td>...</td>\n",
       "      <td>0.006518</td>\n",
       "      <td>17</td>\n",
       "      <td>0.9</td>\n",
       "      <td>bq-prime</td>\n",
       "      <td>business</td>\n",
       "      <td></td>\n",
       "      <td>bq-prime-business-</td>\n",
       "      <td>0.024534</td>\n",
       "      <td>True</td>\n",
       "      <td>0.002253</td>\n",
       "    </tr>\n",
       "    <tr>\n",
       "      <th>...</th>\n",
       "      <td>...</td>\n",
       "      <td>...</td>\n",
       "      <td>...</td>\n",
       "      <td>...</td>\n",
       "      <td>...</td>\n",
       "      <td>...</td>\n",
       "      <td>...</td>\n",
       "      <td>...</td>\n",
       "      <td>...</td>\n",
       "      <td>...</td>\n",
       "      <td>...</td>\n",
       "      <td>...</td>\n",
       "      <td>...</td>\n",
       "      <td>...</td>\n",
       "      <td>...</td>\n",
       "      <td>...</td>\n",
       "      <td>...</td>\n",
       "      <td>...</td>\n",
       "      <td>...</td>\n",
       "      <td>...</td>\n",
       "      <td>...</td>\n",
       "    </tr>\n",
       "    <tr>\n",
       "      <th>322</th>\n",
       "      <td>652ebbd41e5cc42b1b139b06</td>\n",
       "      <td>https://zerodha.com/varsity/chapter/socially-r...</td>\n",
       "      <td>65291b1e9a2fbc229e5f29c9</td>\n",
       "      <td>[]</td>\n",
       "      <td>https://zerodha.com/varsity/wp-content/uploads...</td>\n",
       "      <td>False</td>\n",
       "      <td>2020-12-21T06:09:30+0000</td>\n",
       "      <td>2020-12-21T06:09:30+0000</td>\n",
       "      <td>The investor is overweighted in power.  He or ...</td>\n",
       "      <td>None</td>\n",
       "      <td>...</td>\n",
       "      <td>0.226553</td>\n",
       "      <td>3</td>\n",
       "      <td>1</td>\n",
       "      <td>zerodha-varsity</td>\n",
       "      <td>varsity</td>\n",
       "      <td></td>\n",
       "      <td>zerodha-varsity-varsity-</td>\n",
       "      <td>0.018260</td>\n",
       "      <td>False</td>\n",
       "      <td>0.001677</td>\n",
       "    </tr>\n",
       "    <tr>\n",
       "      <th>581</th>\n",
       "      <td>652ebbe01e5cc42b1b139bb4</td>\n",
       "      <td>https://zerodha.com/varsity/chapter/crude-oil-...</td>\n",
       "      <td>65291b1e9a2fbc229e5f29c9</td>\n",
       "      <td>[]</td>\n",
       "      <td>http://zerodha.com/varsity/wp-content/uploads/...</td>\n",
       "      <td>False</td>\n",
       "      <td>2022-03-30T01:45:09+0000</td>\n",
       "      <td>2022-03-30T01:45:09+0000</td>\n",
       "      <td>11.1 – Mapping companies I’m hoping that the p...</td>\n",
       "      <td>None</td>\n",
       "      <td>...</td>\n",
       "      <td>0.178623</td>\n",
       "      <td>3</td>\n",
       "      <td>1</td>\n",
       "      <td>zerodha-varsity</td>\n",
       "      <td>varsity</td>\n",
       "      <td></td>\n",
       "      <td>zerodha-varsity-varsity-</td>\n",
       "      <td>0.018260</td>\n",
       "      <td>False</td>\n",
       "      <td>0.001677</td>\n",
       "    </tr>\n",
       "    <tr>\n",
       "      <th>149</th>\n",
       "      <td>652ebba11e5cc42b1b139958</td>\n",
       "      <td>https://zerodha.com/varsity/chapter/maintainin...</td>\n",
       "      <td>65291b1e9a2fbc229e5f29c9</td>\n",
       "      <td>[]</td>\n",
       "      <td>https://zerodha.com/varsity/wp-content/uploads...</td>\n",
       "      <td>False</td>\n",
       "      <td>2020-03-19T07:22:25+0000</td>\n",
       "      <td>2020-03-19T07:22:25+0000</td>\n",
       "      <td>Successful traders have a carefree attitude wh...</td>\n",
       "      <td>None</td>\n",
       "      <td>...</td>\n",
       "      <td>0.578346</td>\n",
       "      <td>3</td>\n",
       "      <td>1</td>\n",
       "      <td>zerodha-varsity</td>\n",
       "      <td>varsity</td>\n",
       "      <td></td>\n",
       "      <td>zerodha-varsity-varsity-</td>\n",
       "      <td>0.018260</td>\n",
       "      <td>False</td>\n",
       "      <td>0.001677</td>\n",
       "    </tr>\n",
       "    <tr>\n",
       "      <th>398</th>\n",
       "      <td>652ebb9d1e5cc42b1b139941</td>\n",
       "      <td>https://zerodha.com/varsity/chapter/the-fly-an...</td>\n",
       "      <td>65291b1e9a2fbc229e5f29c9</td>\n",
       "      <td>[]</td>\n",
       "      <td>https://zerodha.com/varsity/wp-content/uploads...</td>\n",
       "      <td>False</td>\n",
       "      <td>2020-01-29T05:28:03+0000</td>\n",
       "      <td>2020-01-29T05:28:03+0000</td>\n",
       "      <td>As traders it’s vital that you solve trading p...</td>\n",
       "      <td>None</td>\n",
       "      <td>...</td>\n",
       "      <td>0.142492</td>\n",
       "      <td>3</td>\n",
       "      <td>1</td>\n",
       "      <td>zerodha-varsity</td>\n",
       "      <td>varsity</td>\n",
       "      <td></td>\n",
       "      <td>zerodha-varsity-varsity-</td>\n",
       "      <td>0.018260</td>\n",
       "      <td>False</td>\n",
       "      <td>0.001677</td>\n",
       "    </tr>\n",
       "    <tr>\n",
       "      <th>1197</th>\n",
       "      <td>652ebbe51e5cc42b1b139c33</td>\n",
       "      <td>https://zerodha.com/varsity/chapter/the-intrin...</td>\n",
       "      <td>65291b1e9a2fbc229e5f29c9</td>\n",
       "      <td>[]</td>\n",
       "      <td>https://zerodha.com/varsity/wp-content/uploads...</td>\n",
       "      <td>False</td>\n",
       "      <td>2021-02-24T03:33:43+0000</td>\n",
       "      <td>2021-02-24T03:33:43+0000</td>\n",
       "      <td>The more you can see the intrinsic rewards of ...</td>\n",
       "      <td>None</td>\n",
       "      <td>...</td>\n",
       "      <td>0.416592</td>\n",
       "      <td>3</td>\n",
       "      <td>1</td>\n",
       "      <td>zerodha-varsity</td>\n",
       "      <td>varsity</td>\n",
       "      <td></td>\n",
       "      <td>zerodha-varsity-varsity-</td>\n",
       "      <td>0.018260</td>\n",
       "      <td>False</td>\n",
       "      <td>0.001677</td>\n",
       "    </tr>\n",
       "  </tbody>\n",
       "</table>\n",
       "<p>1583 rows × 22 columns</p>\n",
       "</div>"
      ],
      "text/plain": [
       "                      article_id  \\\n",
       "30152   65316a351e5cc42b1b13db99   \n",
       "97625   6555cc054b13023f934a4124   \n",
       "103939  65597a4e4b13023f934af118   \n",
       "70841   651e2632a662d76276b8a69e   \n",
       "103829  655828f04b13023f934af086   \n",
       "...                          ...   \n",
       "322     652ebbd41e5cc42b1b139b06   \n",
       "581     652ebbe01e5cc42b1b139bb4   \n",
       "149     652ebba11e5cc42b1b139958   \n",
       "398     652ebb9d1e5cc42b1b139941   \n",
       "1197    652ebbe51e5cc42b1b139c33   \n",
       "\n",
       "                                                      url  \\\n",
       "30152   https://www.livemint.com/industry/advertising/...   \n",
       "97625   https://www.cnbctv18.com/business/companies/ai...   \n",
       "103939  https://www.cnbc.com/2023/11/18/niro-sivanatha...   \n",
       "70841   https://economictimes.indiatimes.com/news/indi...   \n",
       "103829  https://www.bqprime.com/business/banks-to-need...   \n",
       "...                                                   ...   \n",
       "322     https://zerodha.com/varsity/chapter/socially-r...   \n",
       "581     https://zerodha.com/varsity/chapter/crude-oil-...   \n",
       "149     https://zerodha.com/varsity/chapter/maintainin...   \n",
       "398     https://zerodha.com/varsity/chapter/the-fly-an...   \n",
       "1197    https://zerodha.com/varsity/chapter/the-intrin...   \n",
       "\n",
       "                       source_id          authors  \\\n",
       "30152   650046bd005149c49201269f  [Varuni Khosla]   \n",
       "97625   6555992096fb32eef21a562d   [Anand Singha]   \n",
       "103939  6555995596fb32eef21a562e    [Megan Sauer]   \n",
       "70841   6512cdcad01a9c8e86263e05            [ANI]   \n",
       "103829  65559d4296fb32eef21a5630            [PTI]   \n",
       "...                          ...              ...   \n",
       "322     65291b1e9a2fbc229e5f29c9               []   \n",
       "581     65291b1e9a2fbc229e5f29c9               []   \n",
       "149     65291b1e9a2fbc229e5f29c9               []   \n",
       "398     65291b1e9a2fbc229e5f29c9               []   \n",
       "1197    65291b1e9a2fbc229e5f29c9               []   \n",
       "\n",
       "                                                image_url is_premium_article  \\\n",
       "30152   https://images.livemint.com/img/2023/02/14/160...              False   \n",
       "97625   https://images.cnbctv18.com/wp-content/uploads...              False   \n",
       "103939  https://image.cnbcfm.com/api/v1/image/10733602...              False   \n",
       "70841   https://economictimes.indiatimes.com/thumb/msi...              False   \n",
       "103829  https://gumlet.assettype.com/bloombergquint%2F...              False   \n",
       "...                                                   ...                ...   \n",
       "322     https://zerodha.com/varsity/wp-content/uploads...              False   \n",
       "581     http://zerodha.com/varsity/wp-content/uploads/...              False   \n",
       "149     https://zerodha.com/varsity/wp-content/uploads...              False   \n",
       "398     https://zerodha.com/varsity/wp-content/uploads...              False   \n",
       "1197    https://zerodha.com/varsity/wp-content/uploads...              False   \n",
       "\n",
       "                last_updated_time             published_time  \\\n",
       "30152   2023-02-14T15:40:52+05:30  2023-02-14T15:40:52+05:30   \n",
       "97625   2023-10-18T15:03:43+00:00  2023-10-17T17:33:35+00:00   \n",
       "103939  2023-11-18T14:00:01+00:00  2023-11-18T14:00:01+00:00   \n",
       "70841   2023-05-01T11:59:00+05:30  2023-04-30T08:16:00+05:30   \n",
       "103829  2023-11-17T17:43:06+00:00  2023-11-17T17:43:09+00:00   \n",
       "...                           ...                        ...   \n",
       "322      2020-12-21T06:09:30+0000   2020-12-21T06:09:30+0000   \n",
       "581      2022-03-30T01:45:09+0000   2022-03-30T01:45:09+0000   \n",
       "149      2020-03-19T07:22:25+0000   2020-03-19T07:22:25+0000   \n",
       "398      2020-01-29T05:28:03+0000   2020-01-29T05:28:03+0000   \n",
       "1197     2021-02-24T03:33:43+0000   2021-02-24T03:33:43+0000   \n",
       "\n",
       "                                        short_description  \\\n",
       "30152   There will be a 15.5% increase in ad spends in...   \n",
       "97625   While Tony Fernandes' LinkedIn post initially ...   \n",
       "103939  There's an \"easy fix\" to becoming more persuas...   \n",
       "70841    Earthquake of Magnitude:4.1, Occurred on 30-0...   \n",
       "103829  The banking system will need Rs 84,000 crore o...   \n",
       "...                                                   ...   \n",
       "322     The investor is overweighted in power.  He or ...   \n",
       "581     11.1 – Mapping companies I’m hoping that the p...   \n",
       "149     Successful traders have a carefree attitude wh...   \n",
       "398     As traders it’s vital that you solve trading p...   \n",
       "1197    The more you can see the intrinsic rewards of ...   \n",
       "\n",
       "                                                     tags  ...      prob  id  \\\n",
       "30152   [digital advertising, ad spends, Wavemaker, Es...  ...  0.026106   2   \n",
       "97625   [AirAsia CEO, Tony Fernandes, Shirtless meetin...  ...  0.002965  14   \n",
       "103939                            [Psychology,Leadership]  ...  0.000754  15   \n",
       "70841   [earthquake, jammu, kashmir, National Center f...  ...  0.001980   1   \n",
       "103829                                       [PTI,bqfree]  ...  0.006518  17   \n",
       "...                                                   ...  ...       ...  ..   \n",
       "322                                                  None  ...  0.226553   3   \n",
       "581                                                  None  ...  0.178623   3   \n",
       "149                                                  None  ...  0.578346   3   \n",
       "398                                                  None  ...  0.142492   3   \n",
       "1197                                                 None  ...  0.416592   3   \n",
       "\n",
       "        decay      source_name       cat       subcat  \\\n",
       "30152     0.9        live-mint  industry  advertising   \n",
       "97625     0.9       cnbc-tv-18  business    companies   \n",
       "103939    0.9             cnbc                          \n",
       "70841     0.9   economic-times      news        india   \n",
       "103829    0.9         bq-prime  business                \n",
       "...       ...              ...       ...          ...   \n",
       "322         1  zerodha-varsity   varsity                \n",
       "581         1  zerodha-varsity   varsity                \n",
       "149         1  zerodha-varsity   varsity                \n",
       "398         1  zerodha-varsity   varsity                \n",
       "1197        1  zerodha-varsity   varsity                \n",
       "\n",
       "                               fullcat scaled_proportion is_selected  \\\n",
       "30152   live-mint-industry-advertising          0.039024        True   \n",
       "97625    cnbc-tv-18-business-companies          0.013210        True   \n",
       "103939                          cnbc--          0.007308        True   \n",
       "70841        economic-times-news-india          0.010293        True   \n",
       "103829              bq-prime-business-          0.024534        True   \n",
       "...                                ...               ...         ...   \n",
       "322           zerodha-varsity-varsity-          0.018260       False   \n",
       "581           zerodha-varsity-varsity-          0.018260       False   \n",
       "149           zerodha-varsity-varsity-          0.018260       False   \n",
       "398           zerodha-varsity-varsity-          0.018260       False   \n",
       "1197          zerodha-varsity-varsity-          0.018260       False   \n",
       "\n",
       "        proportion  \n",
       "30152     0.003584  \n",
       "97625     0.001213  \n",
       "103939    0.000671  \n",
       "70841     0.000945  \n",
       "103829    0.002253  \n",
       "...            ...  \n",
       "322       0.001677  \n",
       "581       0.001677  \n",
       "149       0.001677  \n",
       "398       0.001677  \n",
       "1197      0.001677  \n",
       "\n",
       "[1583 rows x 22 columns]"
      ]
     },
     "execution_count": 190,
     "metadata": {},
     "output_type": "execute_result"
    }
   ],
   "source": [
    "shortlisted_articles"
   ]
  },
  {
   "cell_type": "code",
   "execution_count": 191,
   "id": "6d0bc4a7-e2ac-43f1-b399-b6cbb2037d76",
   "metadata": {
    "tags": []
   },
   "outputs": [
    {
     "data": {
      "text/plain": [
       "source_name\n",
       "bq-prime             16\n",
       "business-insider     42\n",
       "business-world      114\n",
       "cnbc                103\n",
       "cnbc-tv-18          181\n",
       "economic-times      381\n",
       "groww                35\n",
       "investopedia        225\n",
       "live-mint           379\n",
       "navi                 25\n",
       "wint-wealth          44\n",
       "zerodha-varsity      38\n",
       "Name: url, dtype: int64"
      ]
     },
     "execution_count": 191,
     "metadata": {},
     "output_type": "execute_result"
    }
   ],
   "source": [
    "shortlisted_articles.groupby('source_name')['url'].count()"
   ]
  },
  {
   "cell_type": "code",
   "execution_count": 200,
   "id": "764af40c-cb76-4e6d-a3a4-f265a0f8fcc0",
   "metadata": {
    "tags": []
   },
   "outputs": [],
   "source": [
    "def __generate_full_content(title: str, cleaned_text: str) -> str:\n",
    "    return title + ': ' + cleaned_text\n",
    "\n",
    "def __clean_article_content(article_content: str):\n",
    "    # removing new line symbol\n",
    "    article_content = article_content.replace('\\n', '')\n",
    "    article_content = article_content.replace('\\t', '')\n",
    "    # removing characters which are not part of alphabets, numbers, currencies, percent, dot, dash, brackets, space, slash\n",
    "    article_content = re.sub(r\"[^a-zA-Z0-9$€₹%\\-:/()\\[\\]{} .]\", \"\", article_content)\n",
    "    return article_content\n",
    "\n",
    "def get_article_text(article_id):\n",
    "    article_data = ArticleService.get_article_text_from_s3(article_id)\n",
    "    title = article_data['meta_data']['title']\n",
    "    cleaned_text = article_data['cleaned_text']\n",
    "    full_content = __generate_full_content(title, cleaned_text)\n",
    "    cleaned_text = __clean_article_content(full_content)\n",
    "    return cleaned_text"
   ]
  },
  {
   "cell_type": "code",
   "execution_count": 202,
   "id": "6b2477f2-86eb-45c5-9471-0995c7fec596",
   "metadata": {
    "tags": []
   },
   "outputs": [
    {
     "data": {
      "application/vnd.jupyter.widget-view+json": {
       "model_id": "1573115f19b945a5835ede7ff65c3ee7",
       "version_major": 2,
       "version_minor": 0
      },
      "text/plain": [
       "  0%|          | 0/1583 [00:00<?, ?it/s]"
      ]
     },
     "metadata": {},
     "output_type": "display_data"
    }
   ],
   "source": [
    "shortlisted_articles['full_content'] = shortlisted_articles['article_id'].progress_apply(lambda x: get_article_text(x))"
   ]
  },
  {
   "cell_type": "code",
   "execution_count": 203,
   "id": "369b6ee6-cce1-4651-828c-018fb0dfb6df",
   "metadata": {
    "tags": []
   },
   "outputs": [],
   "source": [
    "shortlisted_articles['num_words'] = shortlisted_articles['full_content'].apply(lambda x: len(x.split(' ')))"
   ]
  },
  {
   "cell_type": "code",
   "execution_count": 283,
   "id": "4d907d05-88fb-48af-ac87-bdb29d841349",
   "metadata": {
    "tags": []
   },
   "outputs": [],
   "source": [
    "pd.options.display.max_rows = 200"
   ]
  },
  {
   "cell_type": "code",
   "execution_count": 204,
   "id": "5dc8b510-90a3-4b0d-a544-dd6093a4bb17",
   "metadata": {
    "tags": []
   },
   "outputs": [],
   "source": [
    "shortlisted_articles = shortlisted_articles.sample(frac=1)"
   ]
  },
  {
   "cell_type": "code",
   "execution_count": 205,
   "id": "ecc0396e-3208-4fb2-8b0f-acd7ee8a9a2f",
   "metadata": {
    "tags": []
   },
   "outputs": [
    {
     "data": {
      "text/plain": [
       "1583"
      ]
     },
     "execution_count": 205,
     "metadata": {},
     "output_type": "execute_result"
    }
   ],
   "source": [
    "len(shortlisted_articles)"
   ]
  },
  {
   "cell_type": "code",
   "execution_count": 206,
   "id": "a7ea4831-dddf-4dbf-9b2b-0e8c0d426a98",
   "metadata": {
    "tags": []
   },
   "outputs": [],
   "source": [
    "shortlisted_articles.to_csv('shortlisted_articles-30-Nov-23.csv')"
   ]
  },
  {
   "cell_type": "code",
   "execution_count": 207,
   "id": "533722f6-3c33-4dcc-ae7a-d5a4b17a290a",
   "metadata": {
    "tags": []
   },
   "outputs": [],
   "source": [
    "test_set = shortlisted_articles[:250]"
   ]
  },
  {
   "cell_type": "code",
   "execution_count": 208,
   "id": "e3e8e169-f14e-4b5e-a778-8f8968dae8aa",
   "metadata": {
    "tags": []
   },
   "outputs": [],
   "source": [
    "train_set = shortlisted_articles[250:]"
   ]
  },
  {
   "cell_type": "markdown",
   "id": "72b93c6e-9b48-4c00-b2c4-18ff071e49cf",
   "metadata": {},
   "source": [
    "### Creating the prompt"
   ]
  },
  {
   "cell_type": "code",
   "execution_count": 242,
   "id": "e1ba27f5-62ea-444f-a4f0-bff080d8a3a1",
   "metadata": {
    "tags": []
   },
   "outputs": [],
   "source": [
    "old_system_prompt = '''\n",
    "You are the editor for a leading Indian financial news website. Your role is to evaluate incoming articles based on critical attributes to maintain the website's standard. Use the structure <attribute name> (<accepted value range>): <evaluation criteria> to assess articles:\n",
    "\n",
    "1. evaluation_of_is_financial_news_or_not (short text of less than 20 words): Determine whether the article pertains to finance, excluding political, sports, entertainment, and other non-financial topics.\n",
    "2. assessment_is_financial_news (1 or 0): 1 if it is a financial article, 0 if not\n",
    "3. evaluation_of_relevant_for_india (short text of less than 20 words): Judge if the news article is relevant for indian readers. for example news articles about 401k is finance related but not for india. however changes to fed interest rates/nasdaq will be relevant for indian investors\n",
    "4. assessment_relevant_for_india (1 or 0 ): 1 if it is relevant for indian readers, 0 if not\n",
    "5. evaluation_of_is_article_safe (text between 10 words to 50 words): Judge if the article has any harmful, hateful, biased content. Check for blatent sponsored articles, opinions/recommendations contrary to well established financial practices. You can expect most of the articles to be completely safe since they will be merely facts or education pieces.\n",
    "6. assessment_is_article_safe (1 or 0): 1 if the article is safe, 0 if not\n",
    "7. evaluation_of_article_validity_duration (short text of less than 20 words): Judge for long will that article be relevant for the readers. For example, articles related to stock price fluctuations would be valid for 1 day. Earning call results probably for a few days. Important government policy changes or major economic events for a few weeks. Educational articles or opinion pieces on general practice will be timeless\n",
    "8. assessment_article_validity_duration (one of 1, 3, 7, 14, 30, 60, -1): give score based on evaluation_of_article_validity_duration. -1 if the article is timeless. 1 if the article is relevant only for that day. 3 if for a couple of days and similarity 7, 14, 30, 60\n",
    "9. evaluation_article_has_advanced_concepts (text between 10 to 50 words): Judge what level of technical knowledge is needed to read and comprehend the article. Readers on the platform understand stock movements, and usual business metrics. However, opinion or educational pieces need more technical financial knowledge to understand\n",
    "10. assessment_article_has_advanced_concepts (1 or 0): 1 if the article needs advanced financial knowledge to understand and 0 if not\n",
    "11. evaluation_of_likely_popularity (short text of less than 20 words): Judge how popular the article is likely going to be based how significant the news is, on how many people are going to be impacted by the news, quality of the article. minor stock fluctuations of various are likely less popular, and large fluctuations are more popular. minor government policy changes are likely to have medium popularity while important changes are going to be very popular. popularity of educational articles, opinion and analysis pieces is going to depend on the popularity of entities talked about and the quality of the content\n",
    "12. assessment_likely_popularity (one of 1, 2, 3, 4, 5): give score based on evaluation_of_likely_popularity. 1 if the article is not likely to be popular, 5 if the article is likely to be very popular. be ruthless in enforcing a power law distribution on popularity - wherein most articles are likely to be 1, followed by 2, 3, 4, 5 in reducing popularity. 50% of the accessements should be 1, 20% should be 2, 15% should be 3, 10% should be 4, 5% should be 5\n",
    "13. evaluation_of_article_type (short text of less than 20 words): Judge if the article majorly talks about facts, or is an opinion piece or is an education piece\n",
    "14. assessment_article_type (one of factual, opinion, educational): if evaluation of evaluation_of_article_type indicates that article mainly talks about facts. opinion if it has mainly analysis or opinion piece. education if it an instructional and educational article\n",
    "15. summary (text between 30 to 150 words): Give a succint summary of the article while being brief but retaining the key aspects of the article. don't critique the article itself or mention the article in third person. It should be a shorter summarized article\n",
    "16. headline_suggestion (short text of less than 20 words): Recommend a headline based on the content of the article\n",
    "\n",
    "all of your evaluations should capture the thought process behind the judgement while being brief. It should be the rationale on which the corresponding assessment attributes are based on and the evaluation should justify the assessment.\n",
    "\n",
    "your response should be in a json structure with the above keys use double quotes (\") and not single quotes (') for keys and values so that json can be decoded. no preamble or postamble. the following is the json structure that i expected:\n",
    "\n",
    "{\n",
    "\"evaluation_of_is_financial_news_or_not\": \"\",\n",
    "\"assessment_is_financial_news\": \"\",\n",
    "\"evaluation_of_relevant_for_india\": \"\",\n",
    "\"assessment_relevant_for_india\": \"\",\n",
    "\"evaluation_of_is_article_safe\": \"\",\n",
    "\"assessment_is_article_safe\": \"\",\n",
    "\"evaluation_of_article_validity_duration\": \"\",\n",
    "\"assessment_article_validity_duration\": \"\",\n",
    "\"evaluation_article_has_advanced_concepts\": \"\",\n",
    "\"assessment_article_has_advanced_concepts\": \"\",\n",
    "\"evaluation_of_likely_popularity\": \"\",\n",
    "\"assessment_likely_popularity\": \"\",\n",
    "\"evaluation_of_article_type\": \"\",\n",
    "\"assessment_article_type\": \"\",\n",
    "\"summary\": \"\",\n",
    "\"headline_suggestion\": \"\"\n",
    "}\n",
    "\n",
    "|actual article text|\n",
    "\n",
    "'''"
   ]
  },
  {
   "cell_type": "code",
   "execution_count": 5,
   "id": "f16b65b8-0497-4ecd-8429-f53045bb7656",
   "metadata": {
    "tags": []
   },
   "outputs": [],
   "source": [
    "system_prompt = '''\n",
    "You are the chief editor for a leading Indian financial and business news website. You evaluate critical attributes of articles to gate keep content quality. For many attributes, you will first provide a brief analysis of less than 30 words, followed by assessment.\n",
    "\n",
    "1. analysis_is_financial_or_business_news (short text) : <analyse if article pertains to finance/business or not. government policies directly impacting indian corporations or investors are ok, but not if aren't>\n",
    "2. is_financial_or_business_news (1/0) : <1 or 0 based on previous attribute>\n",
    "3. analysis_of_relevant_for_india (short text) : <analyse if article is relevant for indians. for example articles about 401k or small foreign companies won't be relevant for india. however changes to fed interest rates or nasdaq or large multinational important news will be relevant>\n",
    "4. relevant_for_india (1/0) : <1 or 0 based on previous attribute>\n",
    "5. analysis_of_article_validity_duration (short text) : <Analyse relevance duration: Stock fluctuations, 1 day; significant policy changes, weeks; educational content is timeless unless it refers to any tax or other regulations in which case only 30 days. International news in India has shorter lifespan. popular topics are usually not timeless; quarterly analysis is valid for a week, yearly for a couple of weeks and a much longer one for a month>\n",
    "6. article_validity_duration (one of 1, 3, 7, 14, 30, -1) : <calculate number of days based on previous attribute. -1: timeless. 1: article is relevant only for that day. 3: for a couple of days. 7: for a week. 14: for a couple of weeks. 30: for a month>\n",
    "7. analysis_of_popularity (short text) : <analyse likely popularity of article - if its for niche audience, moderate_popularity or should be part of breaking_news section, depending on number of people who will be impacted by the news and the scale of the event. foreign entities known in india but not very popular will be mostly niche or rarely moderately popular. articles targeted to very specific business or pratices will be niche. infotainment business and financial articles with some drama are likely to be more popular. articles with a list of rules without compelling story-telling will be for niche audience>\n",
    "8. popularity (one of niche, moderately_popular, breaking_news) : <based on previous attribute>\n",
    "9. analysis_of_article_type (short text) : <analyse if the article is majorly factual, is an opinion piece, analysis, educational or likely sponsored. factual articles relay events. opinion pieces have predictions either from the author or from statements without data. analysis pieces have substantial data to justify. if an article is overly zealous on certain stock and seems like an ad, then it is sponsored>\n",
    "10. article_type (one of fact, opinion, analysis, educational, sponsored) : <based on previous attribute>\n",
    "11. analysis_of_article_sentiment (short_text): <analyse if the sentiment of the article is bullish, bearish or NA. balanced is NA>\n",
    "12. article_sentiment (one of bull, bear, NA): <based on previous attribute>\n",
    "13. summary_list (text of 60 words) : <Generate increasingly concise, entity-dense summaries. Repeat the following steps 3 times. \n",
    "Step a. Identify 1-3 informative Entities (semicolon delimited) from the Article which are missing from the previously generated summary. \n",
    "Step b. Write a new, denser summary of identical length which covers every entity and detail from the previous summary plus the Missing Entities. \n",
    "\n",
    "A Missing Entity is: \n",
    "Relevant to the main story: Specific, descriptive yet concise (5 words or fewer); \n",
    "Novel: not in the previous summary; \n",
    "Faithful: present in the Article; \n",
    "\n",
    "Guidelines: Don't refer to the article in third person, but summarize the contents. The first summary should be long (4-5 sentences, ~60 words) yet highly non-specific. Subsequently rewrite the previous summary to improve flow and make space for additional entities. Make space with compression and removal of uninformative phrases like 'the article discusses'. The summaries should become highly dense but easily understood without the Article. Never drop entities from the previous summary. If space cannot be made, add fewer new entities. Remember, use the exact same number of words for each summary. generate a list of 3 dictionaries whose keys are 'missing_entities' and 'denser_summary'>\n",
    "14. headline_suggestion (short text) : <Write a headline based on the content of the article>\n",
    "15. relevant_questions (list of 5 strings) : <List of 5 questions for which this article would be an answer. Each string should be a question>\n",
    "16. relevant_search_queries (list of 5 strings) : <List of 5 google type search queries for which this article would be an answer. Don't make the queries too specific or too generic like finance, business, india>\n",
    "17. keywords (list of 5 strings): <List of 5 important keywords for the article>\n",
    "\n",
    "your response should be in a json structure with all the 17 above keys without missing any key. use (\") and not (') for keys and values so that json can be decoded. no preamble or postamble.\n",
    "\n",
    "|article|\n",
    "'''"
   ]
  },
  {
   "cell_type": "code",
   "execution_count": 244,
   "id": "31d2ae74-e312-4b9f-8f5b-9f892910ea90",
   "metadata": {
    "tags": []
   },
   "outputs": [],
   "source": [
    "import re"
   ]
  },
  {
   "cell_type": "code",
   "execution_count": 245,
   "id": "74421c88-b5da-4070-8d70-2567c9847ff0",
   "metadata": {
    "tags": []
   },
   "outputs": [
    {
     "data": {
      "text/plain": [
       "1"
      ]
     },
     "execution_count": 245,
     "metadata": {},
     "output_type": "execute_result"
    }
   ],
   "source": [
    "len(re.split('_ \\s', system_prompt))"
   ]
  },
  {
   "cell_type": "code",
   "execution_count": 246,
   "id": "f80798ef-a29a-4533-979e-b80232352fd8",
   "metadata": {
    "tags": []
   },
   "outputs": [
    {
     "data": {
      "text/plain": [
       "1"
      ]
     },
     "execution_count": 246,
     "metadata": {},
     "output_type": "execute_result"
    }
   ],
   "source": [
    "len(re.split('_ ', system_prompt))"
   ]
  },
  {
   "cell_type": "code",
   "execution_count": 247,
   "id": "210b6c20-8ab5-40be-af06-df39ca72581b",
   "metadata": {
    "tags": []
   },
   "outputs": [
    {
     "data": {
      "text/plain": [
       "812"
      ]
     },
     "execution_count": 247,
     "metadata": {},
     "output_type": "execute_result"
    }
   ],
   "source": [
    "len(system_prompt.replace('_', ' ').split(' '))"
   ]
  },
  {
   "cell_type": "markdown",
   "id": "0bbcb2be-712a-4f6a-aa80-a9f733cd40a9",
   "metadata": {},
   "source": [
    "### Calling GPT-4"
   ]
  },
  {
   "cell_type": "code",
   "execution_count": 57,
   "id": "f2df43f3-8de2-4d2e-a435-e3bdfd98fafe",
   "metadata": {
    "tags": []
   },
   "outputs": [],
   "source": [
    "import openai"
   ]
  },
  {
   "cell_type": "code",
   "execution_count": 58,
   "id": "4c4c6b62-05ce-40f0-98bc-2cc452982cad",
   "metadata": {
    "tags": []
   },
   "outputs": [],
   "source": [
    "openai.api_key = ''"
   ]
  },
  {
   "cell_type": "code",
   "execution_count": 250,
   "id": "a7c156b9-e6df-4514-8984-e07fbdbb0871",
   "metadata": {
    "tags": []
   },
   "outputs": [
    {
     "data": {
      "text/plain": [
       "'65316faa1e5cc42b1b141024'"
      ]
     },
     "execution_count": 250,
     "metadata": {},
     "output_type": "execute_result"
    }
   ],
   "source": [
    "shortlisted_articles.iloc[0].article_id"
   ]
  },
  {
   "cell_type": "code",
   "execution_count": 252,
   "id": "6ec747d9-ce83-4efc-a51d-5ebe8849d8b4",
   "metadata": {
    "tags": []
   },
   "outputs": [],
   "source": [
    "res1 = openai.ChatCompletion.create(model = \"gpt-4\", messages = [{'role': 'system', 'content': system_prompt}, {'role': 'user', 'content': shortlisted_articles.iloc[0].full_content}])"
   ]
  },
  {
   "cell_type": "code",
   "execution_count": 253,
   "id": "3475cd77-6e33-4316-832f-ddaed0deb66b",
   "metadata": {
    "tags": []
   },
   "outputs": [],
   "source": [
    "import json"
   ]
  },
  {
   "cell_type": "code",
   "execution_count": 258,
   "id": "61d77046-56fb-40e9-a6e6-9131894e8ed1",
   "metadata": {
    "tags": []
   },
   "outputs": [],
   "source": [
    "parsed_json = json.loads(res1['choices'][0]['message']['content'])"
   ]
  },
  {
   "cell_type": "code",
   "execution_count": 266,
   "id": "2458a2f4-f646-4026-8713-3c1f41286e08",
   "metadata": {
    "tags": []
   },
   "outputs": [],
   "source": [
    "response_tuple = [('65316faa1e5cc42b1b141024', res1)]"
   ]
  },
  {
   "cell_type": "code",
   "execution_count": 268,
   "id": "a5375805-6762-476f-98a7-645690220d06",
   "metadata": {
    "tags": []
   },
   "outputs": [],
   "source": [
    "pd.DataFrame(response_tuple, columns = ['article_id', 'response']).to_csv('gpt-4-responses-22-nov.csv',header=None, mode='a')"
   ]
  },
  {
   "cell_type": "code",
   "execution_count": 280,
   "id": "bd18c50d-0d80-4308-8548-dfd61c53e8f3",
   "metadata": {
    "tags": []
   },
   "outputs": [
    {
     "data": {
      "text/html": [
       "<div>\n",
       "<style scoped>\n",
       "    .dataframe tbody tr th:only-of-type {\n",
       "        vertical-align: middle;\n",
       "    }\n",
       "\n",
       "    .dataframe tbody tr th {\n",
       "        vertical-align: top;\n",
       "    }\n",
       "\n",
       "    .dataframe thead th {\n",
       "        text-align: right;\n",
       "    }\n",
       "</style>\n",
       "<table border=\"1\" class=\"dataframe\">\n",
       "  <thead>\n",
       "    <tr style=\"text-align: right;\">\n",
       "      <th></th>\n",
       "      <th>article_id</th>\n",
       "      <th>system_prompt</th>\n",
       "      <th>user_prompt</th>\n",
       "      <th>model</th>\n",
       "      <th>content</th>\n",
       "      <th>prompt_tokens</th>\n",
       "      <th>completion_tokens</th>\n",
       "    </tr>\n",
       "  </thead>\n",
       "  <tbody>\n",
       "    <tr>\n",
       "      <th>i</th>\n",
       "      <td>65316faa1e5cc42b1b141024</td>\n",
       "      <td>\\nYou are the chief editor for a leading India...</td>\n",
       "      <td>Sebi halves listing time to three days  Mint: ...</td>\n",
       "      <td>gpt-4-0613</td>\n",
       "      <td>{'analysis_is_financial_or_business_news': \"Th...</td>\n",
       "      <td>1370</td>\n",
       "      <td>535</td>\n",
       "    </tr>\n",
       "  </tbody>\n",
       "</table>\n",
       "</div>"
      ],
      "text/plain": [
       "                 article_id  \\\n",
       "i  65316faa1e5cc42b1b141024   \n",
       "\n",
       "                                       system_prompt  \\\n",
       "i  \\nYou are the chief editor for a leading India...   \n",
       "\n",
       "                                         user_prompt       model  \\\n",
       "i  Sebi halves listing time to three days  Mint: ...  gpt-4-0613   \n",
       "\n",
       "                                             content  prompt_tokens  \\\n",
       "i  {'analysis_is_financial_or_business_news': \"Th...           1370   \n",
       "\n",
       "   completion_tokens  \n",
       "i                535  "
      ]
     },
     "execution_count": 280,
     "metadata": {},
     "output_type": "execute_result"
    }
   ],
   "source": [
    "pd.DataFrame(k,index=['i',])"
   ]
  },
  {
   "cell_type": "code",
   "execution_count": 281,
   "id": "97f57da1-0a10-4793-adb1-1eae9573155f",
   "metadata": {
    "tags": []
   },
   "outputs": [],
   "source": [
    "from tqdm.notebook import tqdm"
   ]
  },
  {
   "cell_type": "code",
   "execution_count": 284,
   "id": "23b9cf7d-4965-436f-b591-f0c8a6418a39",
   "metadata": {
    "tags": []
   },
   "outputs": [],
   "source": [
    "# gpt35_encoding = tiktoken.encoding_for_model(\"gpt-3.5-turbo-16k\")"
   ]
  },
  {
   "cell_type": "code",
   "execution_count": 283,
   "id": "1eb106ac-fcea-47cf-aff6-f44c6ef884a0",
   "metadata": {
    "tags": []
   },
   "outputs": [],
   "source": [
    "# def find_token_limit(text, token_limit, l):\n",
    "#     left = 0\n",
    "#     right = len(text)\n",
    "\n",
    "#     while left < right:\n",
    "#         mid = left + (right - left) // 2\n",
    "#         left_tokens = len(gpt35_encoding.encode(text[:mid]))\n",
    "#         right_tokens = len(gpt35_encoding.encode(text[mid:]))\n",
    "\n",
    "#         if left_tokens + right_tokens <= token_limit:\n",
    "#             right = mid\n",
    "#         else:\n",
    "#             left = mid + 1\n",
    "\n",
    "#     return left"
   ]
  },
  {
   "cell_type": "code",
   "execution_count": 8,
   "id": "21f9352f-b54d-47c1-8d51-6590b0554819",
   "metadata": {
    "tags": []
   },
   "outputs": [],
   "source": [
    "def calculate_tokens(text, encoder):  # Placeholder for your actual token calculation function\n",
    "    # Your implementation will go here.\n",
    "    return len(encoder.encode(text))  # Example: counting characters as tokens\n",
    "\n",
    "def find_token_limit(text,encoder, token_limit):\n",
    "    # First, check if the whole text is under the token limit\n",
    "    if calculate_tokens(text, encoder) <= token_limit:\n",
    "        return text  # The entire text is within the limit\n",
    "\n",
    "    def is_under_limit(index):\n",
    "        # Use the provided function to calculate tokens for the substring\n",
    "        return calculate_tokens(text[:index], encoder) <= token_limit\n",
    "\n",
    "    left, right = 0, len(text)\n",
    "    valid_limit = 0  # This will hold the index of the last valid token position\n",
    "\n",
    "    # Binary search to find the token limit\n",
    "    while left <= right:\n",
    "        mid = (left + right) // 2  # Find the midpoint\n",
    "        if is_under_limit(mid):\n",
    "            # If the midpoint is under the limit, store it as a valid limit\n",
    "            valid_limit = mid\n",
    "            left = mid + 1  # Move the left boundary to the right\n",
    "        else:\n",
    "            right = mid - 1  # Move the right boundary to the left\n",
    "\n",
    "    # Find the last space before the valid_limit to ensure we're at a word boundary\n",
    "    space_index = text.rfind(' ', 0, valid_limit)\n",
    "    if space_index == -1:\n",
    "        # If there's no space, we've hit the start of the text\n",
    "        return text[:valid_limit]  # Return up to the valid limit even if mid-word\n",
    "\n",
    "    # Return the text up to the last word within the token limit\n",
    "    return text[:space_index]\n",
    "\n",
    "# Example usage:\n",
    "text = \"Your text goes here, and it could be very long.\"\n",
    "token_limit = 100  # Replace with your actual token limit"
   ]
  },
  {
   "cell_type": "code",
   "execution_count": 461,
   "id": "09159ca2-2741-4a04-aaad-4a2df7366691",
   "metadata": {
    "tags": []
   },
   "outputs": [
    {
     "data": {
      "text/plain": [
       "'Your text goes'"
      ]
     },
     "execution_count": 461,
     "metadata": {},
     "output_type": "execute_result"
    }
   ],
   "source": [
    "find_token_limit(text, gpt35_encoding, token_limit=5)"
   ]
  },
  {
   "cell_type": "code",
   "execution_count": 437,
   "id": "aa81d9b4-8449-4862-9835-23e2f438ec80",
   "metadata": {
    "tags": []
   },
   "outputs": [
    {
     "data": {
      "text/plain": [
       "3348"
      ]
     },
     "execution_count": 437,
     "metadata": {},
     "output_type": "execute_result"
    }
   ],
   "source": [
    "len(tokens_integer)"
   ]
  },
  {
   "cell_type": "code",
   "execution_count": 425,
   "id": "f8baddea-28e0-4ca6-b2a0-6889f0762870",
   "metadata": {
    "scrolled": true,
    "tags": []
   },
   "outputs": [
    {
     "name": "stdout",
     "output_type": "stream",
     "text": [
      "Collecting tiktoken\n",
      "  Obtaining dependency information for tiktoken from https://files.pythonhosted.org/packages/fb/2a/3d02ef030f387c373acbeca6d5a2307405a1da735285ec12a9ed0b6302ea/tiktoken-0.5.1-cp311-cp311-macosx_11_0_arm64.whl.metadata\n",
      "  Downloading tiktoken-0.5.1-cp311-cp311-macosx_11_0_arm64.whl.metadata (6.6 kB)\n",
      "Requirement already satisfied: regex>=2022.1.18 in /Users/ravi.tej/anaconda3/envs/recoenv/lib/python3.11/site-packages (from tiktoken) (2022.7.9)\n",
      "Requirement already satisfied: requests>=2.26.0 in /Users/ravi.tej/anaconda3/envs/recoenv/lib/python3.11/site-packages (from tiktoken) (2.31.0)\n",
      "Requirement already satisfied: charset-normalizer<4,>=2 in /Users/ravi.tej/anaconda3/envs/recoenv/lib/python3.11/site-packages (from requests>=2.26.0->tiktoken) (2.0.4)\n",
      "Requirement already satisfied: idna<4,>=2.5 in /Users/ravi.tej/anaconda3/envs/recoenv/lib/python3.11/site-packages (from requests>=2.26.0->tiktoken) (3.4)\n",
      "Requirement already satisfied: urllib3<3,>=1.21.1 in /Users/ravi.tej/anaconda3/envs/recoenv/lib/python3.11/site-packages (from requests>=2.26.0->tiktoken) (1.26.16)\n",
      "Requirement already satisfied: certifi>=2017.4.17 in /Users/ravi.tej/anaconda3/envs/recoenv/lib/python3.11/site-packages (from requests>=2.26.0->tiktoken) (2023.7.22)\n",
      "Downloading tiktoken-0.5.1-cp311-cp311-macosx_11_0_arm64.whl (924 kB)\n",
      "\u001b[2K   \u001b[90m━━━━━━━━━━━━━━━━━━━━━━━━━━━━━━━━━━━━━━━━\u001b[0m \u001b[32m924.4/924.4 kB\u001b[0m \u001b[31m5.8 MB/s\u001b[0m eta \u001b[36m0:00:00\u001b[0m00:01\u001b[0m00:01\u001b[0m\n",
      "\u001b[?25hInstalling collected packages: tiktoken\n",
      "Successfully installed tiktoken-0.5.1\n"
     ]
    }
   ],
   "source": [
    "!pip install tiktoken"
   ]
  },
  {
   "cell_type": "code",
   "execution_count": 9,
   "id": "0ac78560-660c-4ece-ad01-ba2dfa702c8f",
   "metadata": {
    "tags": []
   },
   "outputs": [],
   "source": [
    "import tiktoken"
   ]
  },
  {
   "cell_type": "code",
   "execution_count": 10,
   "id": "e648bad6-8ffb-4791-a7f1-ce98d8f71fe6",
   "metadata": {
    "tags": []
   },
   "outputs": [],
   "source": [
    "shorted_article_assessments = []"
   ]
  },
  {
   "cell_type": "code",
   "execution_count": 287,
   "id": "5fd042ba-dd49-4151-a8bf-1ce9f80d14d2",
   "metadata": {
    "tags": []
   },
   "outputs": [
    {
     "data": {
      "text/plain": [
       "0"
      ]
     },
     "execution_count": 287,
     "metadata": {},
     "output_type": "execute_result"
    }
   ],
   "source": [
    "len(shorted_article_assessments)"
   ]
  },
  {
   "cell_type": "code",
   "execution_count": 288,
   "id": "4d973bab-8ced-431f-a41f-bad37e56ebdd",
   "metadata": {
    "tags": []
   },
   "outputs": [
    {
     "data": {
      "text/plain": [
       "826"
      ]
     },
     "execution_count": 288,
     "metadata": {},
     "output_type": "execute_result"
    }
   ],
   "source": [
    "len(shortlisted_articles)"
   ]
  },
  {
   "cell_type": "code",
   "execution_count": 11,
   "id": "bc63dada-f543-4b11-b267-268f078aa50c",
   "metadata": {
    "tags": []
   },
   "outputs": [],
   "source": [
    "model = 'gpt-4'"
   ]
  },
  {
   "cell_type": "code",
   "execution_count": 502,
   "id": "1d4bb49e-60b3-4103-9341-d7bec6a022d1",
   "metadata": {
    "tags": []
   },
   "outputs": [],
   "source": [
    "archived_system_prompt = '''\n",
    "You are the chief editor for a leading Indian financial and business news website. You evaluate critical attributes of articles to gate keep content quality. For many attributes, you will first provide a brief analysis of less than 30 words, followed by assessment.\n",
    "\n",
    "1. analysis_is_financial_or_business_news (short text) : <analyse if article pertains to finance/business or not. government policies directly impacting indian corporations or investors are ok, but not if aren't>\n",
    "2. is_financial_or_business_news (1/0) : <1 or 0 based on previous attribute>\n",
    "3. analysis_of_relevant_for_india (short text) : <analyse if article is relevant for indians. for example articles about 401k or small foreign companies won't be relevant for india. however changes to fed interest rates or nasdaq or large multinational important news will be relevant>\n",
    "4. relevant_for_india (1/0) : <1 or 0 based on previous attribute>\n",
    "5. analysis_of_article_validity_duration (short text) : <Analyse relevance duration: Stock fluctuations, 1 day; significant policy changes, weeks; educational content is timeless unless it refers to any tax or other regulations in which case only 30 days. International news in India has shorter lifespan. popular topics are usually not timeless; quarterly analysis is valid for a week, yearly for a couple of weeks and a much longer one for a month>\n",
    "6. article_validity_duration (one of 1, 3, 7, 14, 30, -1) : <calculate number of days based on previous attribute. -1: timeless. 1: article is relevant only for that day. 3: for a couple of days. 7: for a week. 14: for a couple of weeks. 30: for a month>\n",
    "7. analysis_of_popularity (short text) : <analyse likely popularity of article - if its for niche audience, moderate_popularity or should be part of breaking_news section, depending on number of people who will be impacted by the news and the scale of the event. foreign entities known in india but not very popular will be mostly niche or rarely moderately popular. articles targeted to very specific business or pratices will be niche. infotainment business and financial articles with some drama are likely to be more popular. articles with a list of rules without compelling story-telling will be for niche audience>\n",
    "8. popularity (one of niche, moderately_popular, breaking_news) : <based on previous attribute>\n",
    "9. analysis_of_article_type (short text) : <analyse if the article is majorly factual, is an opinion piece, analysis, educational or likely sponsored. factual articles relay events. opinion pieces have predictions either from the author or from statements without data. analysis pieces have substantial data to justify. if an article is overly zealous on certain stock and seems like an ad, then it is sponsored>\n",
    "10. article_type (one of fact, opinion, analysis, educational, sponsored) : <based on previous attribute>\n",
    "11. analysis_of_article_sentiment (short_text): <analyse if the sentiment of the article is bullish, bearish or NA. balanced is NA>\n",
    "12. article_sentiment (one of bull, bear, NA): <based on previous attribute>\n",
    "13. summary_list (text of 60 words) : <Generate increasingly concise, entity-dense summaries. Repeat the following steps 3 times. \n",
    "Step a. Identify 1-3 informative Entities (semicolon delimited) from the Article which are missing from the previously generated summary. \n",
    "Step b. Write a new, denser summary of identical length which covers every entity and detail from the previous summary plus the Missing Entities. \n",
    "\n",
    "A Missing Entity is: \n",
    "Relevant to the main story: Specific, descriptive yet concise (5 words or fewer); \n",
    "Novel: not in the previous summary; \n",
    "Faithful: present in the Article; \n",
    "\n",
    "Guidelines: Don't refer to the article in third person, but summarize the contents. The first summary should be long (4-5 sentences, ~60 words) yet highly non-specific. Subsequently rewrite the previous summary to improve flow and make space for additional entities. Make space with compression and removal of uninformative phrases like 'the article discusses'. The summaries should become highly dense but easily understood without the Article. Never drop entities from the previous summary. If space cannot be made, add fewer new entities. Remember, use the exact same number of words for each summary. generate a list of 3 dictionaries whose keys are 'missing_entities' and 'denser_summary'. and put the entire list in double quotes (\") for safe overall json decoding>\n",
    "14. headline_suggestion (short text) : <Write a headline based on the content of the article>\n",
    "15. relevant_questions (text of 5 questions) : <comma seperated 5 questions for which this article would be an answer. Each string should be a question>\n",
    "16. relevant_search_queries (text of 5 queries) : <comma seperated 5 google type search queries for which this article would be an answer. Don't make the queries too specific or too generic like finance, business, india>\n",
    "17. keywords (text of 5 keywords): <comma seperated 5 important keywords for the article>\n",
    "\n",
    "your response should be a json structure with all the 17 above keys without missing any key. use (\") and not (') for keys and values so that json can be decoded. no preamble or postamble. respond in the exact following structure:\n",
    "\n",
    "{\n",
    "\"analysis_is_financial_or_business_news\": \"\",\n",
    "\"is_financial_or_business_news\": \"\",\n",
    "\"analysis_of_relevant_for_india\": \"\",\n",
    "\"relevant_for_india\": \"\",\n",
    "\"analysis_of_article_validity_duration\": \"\",\n",
    "\"article_validity_duration\": \"\",\n",
    "\"evaluation_of_article_validity_duration\": \"\",\n",
    "\"analysis_of_popularity\": \"\",\n",
    "\"popularity\": \"\",\n",
    "\"analysis_of_article_type\": \"\",\n",
    "\"article_type\": \"\",\n",
    "\"analysis_of_article_sentiment\": \"\",\n",
    "\"article_sentiment\": \"\",\n",
    "\"assessment_article_type\": \"\",\n",
    "\"summary_list\": \"\",\n",
    "\"headline_suggestion\": \"\",\n",
    "\"relevant_questions\": \"\",\n",
    "\"relevant_search_queries\": \"\",\n",
    "\"keywords\": \"\"}\n",
    "\n",
    "|article|\n",
    "'''"
   ]
  },
  {
   "cell_type": "code",
   "execution_count": 12,
   "id": "a26338c0-dc34-44cd-87e0-c92b0242731d",
   "metadata": {
    "tags": []
   },
   "outputs": [],
   "source": [
    "system_prompt =  '''\n",
    "You are the chief editor for a leading Indian financial and business news website. You evaluate critical attributes of articles to gate keep content quality. For many attributes, you will first provide a brief analysis of less than 30 words, followed by assessment.\n",
    "\n",
    "1. analysis_is_financial_or_business_news (short text) : <analyse if article pertains to finance/business or not. government policies directly impacting indian corporations or investors are ok, but not if aren't>\n",
    "2. is_financial_or_business_news (1/0) : <1 or 0 based on previous attribute>\n",
    "3. analysis_of_relevant_for_india (short text) : <analyse if article is relevant for indians. for example articles about 401k or small foreign companies won't be relevant for india. however changes to fed interest rates or nasdaq or large multinational important news will be relevant>\n",
    "4. relevant_for_india (1/0) : <1 or 0 based on previous attribute>\n",
    "5. analysis_of_article_validity_duration (short text) : <Analyse relevance duration: Stock fluctuations, 1 day; significant policy changes, weeks; educational content is timeless unless it refers to any tax or other regulations in which case only 30 days. International news in India has shorter lifespan. popular topics are usually not timeless; quarterly analysis is valid for a week, yearly for a couple of weeks and a much longer one for a month>\n",
    "6. article_validity_duration (one of 1, 3, 7, 14, 30, -1) : <calculate number of days based on previous attribute. -1: timeless. 1: article is relevant only for that day. 3: for a couple of days. 7: for a week. 14: for a couple of weeks. 30: for a month>\n",
    "7. analysis_of_popularity (short text) : <analyse likely popularity of article - if its for niche audience, moderate_popularity or should be part of breaking_news section, depending on number of people who will be impacted by the news and the scale of the event. foreign entities known in india but not very popular will be mostly niche or rarely moderately popular. articles targeted to very specific business or pratices will be niche. infotainment business and financial articles with some drama are likely to be more popular. articles with a list of rules without compelling story-telling will be for niche audience>\n",
    "8. popularity (one of niche, moderately_popular, breaking_news) : <based on previous attribute>\n",
    "9. analysis_of_article_type (short text) : <analyse if the article is majorly factual, is an opinion piece, analysis, educational or likely sponsored. factual articles relay events. opinion pieces have predictions either from the author or from statements without data. analysis pieces have substantial data to justify. if an article is overly zealous on certain stock and seems like an ad, then it is sponsored>\n",
    "10. article_type (one of fact, opinion, analysis, educational, sponsored) : <based on previous attribute>\n",
    "11. analysis_of_article_sentiment (short_text): <analyse if the sentiment of the article is bullish, bearish or NA. balanced is NA>\n",
    "12. article_sentiment (one of bull, bear, NA): <based on previous attribute>\n",
    "13. summary_list (text of 60 words) : <Generate increasingly concise, entity-dense summaries. Repeat the following steps 3 times. \n",
    "Step a. Identify 1-3 informative Entities (semicolon delimited) from the Article which are missing from the previously generated summary. \n",
    "Step b. Write a new, denser summary of identical length which covers every entity and detail from the previous summary plus the Missing Entities. \n",
    "\n",
    "A Missing Entity is: \n",
    "Relevant to the main story: Specific, descriptive yet concise (5 words or fewer); \n",
    "Novel: not in the previous summary; \n",
    "Faithful: present in the Article; \n",
    "\n",
    "Guidelines: Don't refer to the article in third person, but summarize the contents. The first summary should be long (4-5 sentences, ~60 words) yet highly non-specific. Subsequently rewrite the previous summary to improve flow and make space for additional entities. Make space with compression and removal of uninformative phrases like 'the article discusses'. The summaries should become highly dense but easily understood without the Article. Never drop entities from the previous summary. If space cannot be made, add fewer new entities. Remember, use the exact same number of words for each summary. generate a list of 3 dictionaries whose keys are 'missing_entities' and 'denser_summary'. and put the entire list in double quotes (\") for safe overall json decoding>\n",
    "14. headline_suggestion (short text) : <Write a headline based on the content of the article>\n",
    "\n",
    "your response should be a list of 2 json structures with all the 14 above keys without missing any key. It is very important that the response is directly readable with json.loads(). no preamble or postamble. respond in the exact following structure:\n",
    "[\n",
    "{\n",
    "\"analysis_is_financial_or_business_news\": \"\",\n",
    "\"is_financial_or_business_news\": \"\",\n",
    "\"analysis_of_relevant_for_india\": \"\",\n",
    "\"relevant_for_india\": \"\",\n",
    "\"analysis_of_article_validity_duration\": \"\",\n",
    "\"article_validity_duration\": \"\",\n",
    "\"evaluation_of_article_validity_duration\": \"\",\n",
    "\"analysis_of_popularity\": \"\",\n",
    "\"popularity\": \"\",\n",
    "\"analysis_of_article_type\": \"\",\n",
    "\"article_type\": \"\",\n",
    "\"analysis_of_article_sentiment\": \"\",\n",
    "\"article_sentiment\": \"\",\n",
    "\"assessment_article_type\": \"\",\n",
    "\"headline_suggestion\": \"\"},\n",
    "{\"summary_list\": \"\"}\n",
    "]\n",
    "\n",
    "|article|\n",
    "'''"
   ]
  },
  {
   "cell_type": "code",
   "execution_count": 330,
   "id": "19cac18a-8475-47fd-b13e-ff0b95443db9",
   "metadata": {
    "tags": []
   },
   "outputs": [
    {
     "data": {
      "text/plain": [
       "'\\n\\n{\\n\"analysis_is_financial_or_business_news\": \"\",\\n\"is_financial_or_business_news\": \"\",\\n\"analysis_of_relevant_for_india\": \"\",\\n\"relevant_for_india\": \"\",\\n\"analysis_of_article_validity_duration\": \"\",\\n\"article_validity_duration\": \"\",\\n\"evaluation_of_article_validity_duration\": \"\",\\n\"analysis_of_popularity\": \"\",\\n\"popularity\": \"\",\\n\"analysis_of_article_type\": \"\",\\n\"article_type\": \"\",\\n\"analysis_of_article_sentiment\": \"\",\\n\"article_sentiment\": \"\",\\n\"assessment_article_type\": \"\",\\n\"summary_list\": \"\",\\n\"headline_suggestion\": \"\",\\n\"relevant_questions\": \"\",\\n\"relevant_search_queries\": \"\",\\n\"keywords\": \"\"\\n}\\n'"
      ]
     },
     "execution_count": 330,
     "metadata": {},
     "output_type": "execute_result"
    }
   ],
   "source": [
    "'''\n",
    "\n",
    "{\n",
    "\"analysis_is_financial_or_business_news\": \"\",\n",
    "\"is_financial_or_business_news\": \"\",\n",
    "\"analysis_of_relevant_for_india\": \"\",\n",
    "\"relevant_for_india\": \"\",\n",
    "\"analysis_of_article_validity_duration\": \"\",\n",
    "\"article_validity_duration\": \"\",\n",
    "\"evaluation_of_article_validity_duration\": \"\",\n",
    "\"analysis_of_popularity\": \"\",\n",
    "\"popularity\": \"\",\n",
    "\"analysis_of_article_type\": \"\",\n",
    "\"article_type\": \"\",\n",
    "\"analysis_of_article_sentiment\": \"\",\n",
    "\"article_sentiment\": \"\",\n",
    "\"assessment_article_type\": \"\",\n",
    "\"summary_list\": \"\",\n",
    "\"headline_suggestion\": \"\",\n",
    "\"relevant_questions\": \"\",\n",
    "\"relevant_search_queries\": \"\",\n",
    "\"keywords\": \"\"\n",
    "}\n",
    "'''"
   ]
  },
  {
   "cell_type": "code",
   "execution_count": 332,
   "id": "68af0ac9-0d70-4b28-8bfc-5e7bda322a55",
   "metadata": {
    "tags": []
   },
   "outputs": [
    {
     "data": {
      "text/plain": [
       "' You are the chief editor for a leading Indian financial and business news website. You evaluate critical attributes of articles to gate keep content quality. For many attributes, you will first provide a brief analysis of less than 30 words, followed by assessment.  1. analysis_is_financial_or_business_news (short text) : <analyse if article pertains to finance/business or not. government policies directly impacting indian corporations or investors are ok, but not if aren\\'t> 2. is_financial_or_business_news (1/0) : <1 or 0 based on previous attribute> 3. analysis_of_relevant_for_india (short text) : <analyse if article is relevant for indians. for example articles about 401k or small foreign companies won\\'t be relevant for india. however changes to fed interest rates or nasdaq or large multinational important news will be relevant> 4. relevant_for_india (1/0) : <1 or 0 based on previous attribute> 5. analysis_of_article_validity_duration (short text) : <Analyse relevance duration: Stock fluctuations, 1 day; significant policy changes, weeks; educational content is timeless unless it refers to any tax or other regulations in which case only 30 days. International news in India has shorter lifespan. popular topics are usually not timeless; quarterly analysis is valid for a week, yearly for a couple of weeks and a much longer one for a month> 6. article_validity_duration (one of 1, 3, 7, 14, 30, -1) : <calculate number of days based on previous attribute. -1: timeless. 1: article is relevant only for that day. 3: for a couple of days. 7: for a week. 14: for a couple of weeks. 30: for a month> 7. analysis_of_popularity (short text) : <analyse likely popularity of article - if its for niche audience, moderate_popularity or should be part of breaking_news section, depending on number of people who will be impacted by the news and the scale of the event. foreign entities known in india but not very popular will be mostly niche or rarely moderately popular. articles targeted to very specific business or pratices will be niche. infotainment business and financial articles with some drama are likely to be more popular. articles with a list of rules without compelling story-telling will be for niche audience> 8. popularity (one of niche, moderately_popular, breaking_news) : <based on previous attribute> 9. analysis_of_article_type (short text) : <analyse if the article is majorly factual, is an opinion piece, analysis, educational or likely sponsored. factual articles relay events. opinion pieces have predictions either from the author or from statements without data. analysis pieces have substantial data to justify. if an article is overly zealous on certain stock and seems like an ad, then it is sponsored> 10. article_type (one of fact, opinion, analysis, educational, sponsored) : <based on previous attribute> 11. analysis_of_article_sentiment (short_text): <analyse if the sentiment of the article is bullish, bearish or NA. balanced is NA> 12. article_sentiment (one of bull, bear, NA): <based on previous attribute> 13. summary_list (text of 60 words) : <Generate increasingly concise, entity-dense summaries. Repeat the following steps 3 times.  Step a. Identify 1-3 informative Entities (semicolon delimited) from the Article which are missing from the previously generated summary.  Step b. Write a new, denser summary of identical length which covers every entity and detail from the previous summary plus the Missing Entities.   A Missing Entity is:  Relevant to the main story: Specific, descriptive yet concise (5 words or fewer);  Novel: not in the previous summary;  Faithful: present in the Article;   Guidelines: Don\\'t refer to the article in third person, but summarize the contents. The first summary should be long (4-5 sentences, ~60 words) yet highly non-specific. Subsequently rewrite the previous summary to improve flow and make space for additional entities. Make space with compression and removal of uninformative phrases like \\'the article discusses\\'. The summaries should become highly dense but easily understood without the Article. Never drop entities from the previous summary. If space cannot be made, add fewer new entities. Remember, use the exact same number of words for each summary. generate a list of 3 dictionaries whose keys are \\'missing_entities\\' and \\'denser_summary\\'> 14. headline_suggestion (short text) : <Write a headline based on the content of the article> 15. relevant_questions (list of 5 strings) : <List of 5 questions for which this article would be an answer. Each string should be a question> 16. relevant_search_queries (list of 5 strings) : <List of 5 google type search queries for which this article would be an answer. Don\\'t make the queries too specific or too generic like finance, business, india> 17. keywords (list of 5 strings): <List of 5 important keywords for the article>  your response should be in a json structure with all the 17 above keys without missing any key. use (\") and not (\\') for keys and values so that json can be decoded. no preamble or postamble. respond in the exact following structure:  |article| '"
      ]
     },
     "execution_count": 332,
     "metadata": {},
     "output_type": "execute_result"
    }
   ],
   "source": [
    "system_prompt.replace('\\n',' ')"
   ]
  },
  {
   "cell_type": "code",
   "execution_count": 410,
   "id": "eccda004-e5a9-40a4-ab27-2c7e82dbd639",
   "metadata": {
    "tags": []
   },
   "outputs": [
    {
     "data": {
      "text/plain": [
       "{'analysis_is_financial_or_business_news': 'The article discusses a geo-political issue.',\n",
       " 'is_financial_or_business_news': 0,\n",
       " 'analysis_of_relevant_for_india': \"Article covers a Ukraine-Russia conflict situation which isn't directly related to India.\",\n",
       " 'relevant_for_india': 0,\n",
       " 'analysis_of_article_validity_duration': 'The situation in Ukraine is frequently changing, the article has short validity.',\n",
       " 'article_validity_duration': 1,\n",
       " 'analysis_of_popularity': 'The situation in Ukraine is a global issue, but the article covers a very specific strategic point which might limit the audience.',\n",
       " 'popularity': 'moderately_popular',\n",
       " 'analysis_of_article_type': 'This article purely details events in Ukraine, making it a factual piece.',\n",
       " 'article_type': 'fact',\n",
       " 'analysis_of_article_sentiment': 'The situation described in the article is neutral in terms of market sentiment.',\n",
       " 'article_sentiment': 'NA',\n",
       " 'summary_list': '[{\"missing_entities\": \"Russi\\'s forces, supplying route, Bakhmut\", \"denser_summary\": \"Russi\\'s forces attempt to control a vital supply route in Bakhmut; Ukraine asserts control. The situation remains tense and volatile.\"}, {\"missing_entities\": \"Ukraine\\'s defense forces, Russian attacks, Maryinka\", \"denser_summary\": \"Defending attacks from Russia, Ukraine\\'s defense forces maintain control over Bakhmut\\'s supply route; Maryinka also faces similar assaults.\"}, {\"missing_entities\": \"Wagner Group, Yevgeny Prigozhin, ammunition shortage\", \"denser_summary\": \"Ukraine holds against Russian, Wagner Group forces led by Prigozhin; asserts control over Bakhmut amidst ammunition shortage.\"}]',\n",
       " 'headline_suggestion': 'Ukraine Thwarts Russian Attempt to Control Vital Supply Route into Bakhmut Amid Ammunition Crisis',\n",
       " 'relevant_questions': '[\"What is the key supply route into Bakhmut?\", \"What role is Russia\\'s Wagner group playing in the Ukraine conflict?\", \"How are the Ukrainian troops responding to Russian attacks?\", \"What is the impact of the ammunition shortage on the Russian forces?\", \"What is the strategic significance of Bakhmut in the Ukraine-Russia conflict?\"]',\n",
       " 'relevant_search_queries': '[\"Ukraine Russia conflict Bakhmut\", \"Wagner Group in Ukraine conflict\", \"Ukraine\\'s defense against Russia\", \"Ammunition shortage in Russia\\'s forces\", \"Importance of Bakhmut in Ukraine conflict\"]',\n",
       " 'keywords': '[\"Russia\", \"Ukraine\", \"Bakhmut\", \"Wagner Group\", \"supply route\"]'}"
      ]
     },
     "execution_count": 410,
     "metadata": {},
     "output_type": "execute_result"
    }
   ],
   "source": [
    "json.loads(res_gpt['choices'][0]['message']['content'].replace('\\\\\\'',\"'\"))"
   ]
  },
  {
   "cell_type": "code",
   "execution_count": 378,
   "id": "f09115a5-72e9-45f9-ae0b-f4b36e8eabe7",
   "metadata": {
    "tags": []
   },
   "outputs": [
    {
     "data": {
      "text/plain": [
       "'uers.\\\\\" }]\", \"headline_suggestion\": \"Navigating th'"
      ]
     },
     "execution_count": 378,
     "metadata": {},
     "output_type": "execute_result"
    }
   ],
   "source": [
    "res_gpt['choices'][0]['message']['content'][2150:2200]"
   ]
  },
  {
   "cell_type": "code",
   "execution_count": 13,
   "id": "ef79d665-d7ff-415d-8153-55584438ecee",
   "metadata": {
    "tags": []
   },
   "outputs": [],
   "source": [
    "def parse_gpt_api_response(article_id, system_prompt, user_prompt, api_response):\n",
    "    # Load the response into a dictionary if it's a string\n",
    "    if isinstance(api_response, str):\n",
    "        api_response = json.loads(api_response)\n",
    "    \n",
    "    # Extract the required information from the response\n",
    "    id = api_response.get('id')\n",
    "    model = api_response.get('model')\n",
    "    prompt_tokens = api_response['usage'].get('prompt_tokens')\n",
    "    completion_tokens = api_response['usage'].get('completion_tokens')\n",
    "\n",
    "    # The content within the choices is a string of json, so it needs to be loaded\n",
    "    replacers = {'\\\\\\'':\"'\", '],':']\",', ',[':',\"['}\n",
    "    try:\n",
    "        content = json.loads(api_response['choices'][0]['message']['content'])\n",
    "    except:\n",
    "        print(f'trying to get fixed json for articleId {article_id}')\n",
    "        improved_api_response = openai.ChatCompletion.create(model = 'gpt-4', messages = [{'role': 'system', 'content': 'fix the following json to be readable using json.loads(). simply out the new json. no preamble and no postamble'}, {'role': 'user', 'content': api_response['choices'][0]['message']['content']}])\n",
    "        content = json.loads(improved_api_response['choices'][0]['message']['content'])\n",
    "        # content = json.loads(api_response['choices'][0]['message']['content'].replace(replacers))\n",
    "        # content = json.loads(api_response['choices'][0]['message']['content'].replace('],',']\",').replace(',[',',\"[').replace('\\\\\\'',\"'\").replace('\\\\ \"', '\\\\\"'))\n",
    "        # content = json.loads(api_response['choices'][0]['message']['content'])\n",
    "    # Build the dictionary with the required information\n",
    "    extracted_data = {\n",
    "        'article_id': article_id,\n",
    "        'system_prompt': system_prompt,\n",
    "        'user_prompt': user_prompt,\n",
    "        'model': model,\n",
    "        'content': json.dumps(content),\n",
    "        'prompt_tokens': prompt_tokens,\n",
    "        'completion_tokens': completion_tokens\n",
    "    }\n",
    "\n",
    "    return extracted_data"
   ]
  },
  {
   "cell_type": "code",
   "execution_count": 447,
   "id": "0ddb9d7c-d08b-4cbd-a7cb-82b1fb4d3d22",
   "metadata": {
    "tags": []
   },
   "outputs": [],
   "source": [
    "r = openai.ChatCompletion.create(model = 'gpt-4', messages = [{'role': 'system', 'content': ''}, {'role': 'user', 'content': \n",
    "                                                                                            '''fix the following json to be readable using json.loads(). simply out the new json. no preamble and no postamble\n",
    "                                                                                            '{ \"analysis_is_financial_or_business_news\": \"The article focuses on the daily stock price activity of Aditya Birla Capital\", \"is_financial_or_business_news\": \"1\", \"analysis_of_relevant_for_india\": \"The article pertains to an Indian company\\'s stock, hence relevant to Indian investors\", \"relevant_for_india\": \"1\", \"analysis_of_article_validity_duration\": \"Article pertains to daily stock price changes, hence it has a short relevance life\", \"article_validity_duration\": \"1\", \"analysis_of_popularity\": \"The article\\'s content is pretty niche, centred around a specific company\\'s stock\\'s activity\", \"popularity\": \"niche\", \"analysis_of_article_type\": \"The article is factual, giving precise data regarding stock prices\", \"article_type\": \"fact\", \"analysis_of_article_sentiment\": \"The article shows no apparent positive or negative perspective towards the stock\", \"article_sentiment\": \"NA\", \"summary_list\": \"[{\\\\\"missing_entities\\\\\": \\\\\"Aditya Birla Capital; stock price; 03 Nov 2023\\\\\", \\\\\"denser_summary\\\\\": \\\\\"Aditya Birla Capital\\'s live stock price on 03 Nov 2023, opened at ₹171.75, reached a high of ₹173.3, and closed at ₹170.05 while its 52-week high is ₹199.4 and low is ₹115.85.\\\\\"}, {\\\\\"missing_entities\\\\\": \\\\\"BSE volume; Market capitalization\\\\\", \\\\\"denser_summary\\\\\": \\\\\"On 03 Nov 2023, Aditya Birla Capital\\'s stock volume on BSE was 64553 shares; Market cap is ₹44866.44 crore. 52-week range is ₹115.85-₹199.4.\\\\\"}, {\\\\\"missing_entities\\\\\": \\\\\"LiveMint; AI-generated live blog\\\\\", \\\\\"denser_summary\\\\\": \\\\\"LiveMint\\'s AI-generated blog: On 03 Nov 2023, Aditya Birla Capital\\'s BSE stock volume was 64553; Market cap ₹44866.44 crore; 52-week range ₹115.85-₹199.4.\\\\\"}]\", \"headline_suggestion\": \"Aditya Birla Capital\\'s Stock Prices on 03 Nov 2023\", \"relevant_questions\": \"[\\\\\"What was the closing price of Aditya Birla Capital\\'s stock on 03 Nov 2023?\\\\\", \\\\\"What was the BSE volume for Aditya Birla Capital on 03 Nov 2023?\\\\\", \\\\\"What was Aditya Birla Capital\\'s market capitalization on 03 Nov 2023?\\\\\",\\n\\\\\"What are the 52-week high and low for Aditya Birla Capital?\\\\\", \\\\\"What were the opening and closing prices for Aditya Birla Capital on 03 Nov 2023?\\\\\"]\", \"relevant_search_queries\": \"[\\\\\"Aditya Birla Capital stock price on 03 Nov 2023\\\\\", \\\\\"BSE volume of Aditya Birla Capital on 03 Nov 2023\\\\\", \\\\\"52-week high & low for Aditya Birla Capital\\\\\", \\\\\"Market capitalization of Aditya Birla Capital on 03 Nov 2023\\\\\", \\\\\"Closing price of Aditya Birla Capital on 03 Nov 2023\\\\\"]\", \"keywords\": \"[\\\\\"Aditya Birla Capital\\\\\", \\\\\"BSE volume\\\\\", \\\\\"stock prices\\\\\", \\\\\"market capitalization\\\\\", \\\\\"52-week high & low\\\\\"]\" }'\n",
    "                                                                                            '''}])"
   ]
  },
  {
   "cell_type": "code",
   "execution_count": 449,
   "id": "d7af67d9-c170-4d2e-a9f3-39d3963a9f93",
   "metadata": {
    "tags": []
   },
   "outputs": [
    {
     "data": {
      "text/plain": [
       "{'analysis_is_financial_or_business_news': 'The article focuses on the daily stock price activity of Aditya Birla Capital',\n",
       " 'is_financial_or_business_news': '1',\n",
       " 'analysis_of_relevant_for_india': \"The article pertains to an Indian company's stock, hence relevant to Indian investors\",\n",
       " 'relevant_for_india': '1',\n",
       " 'analysis_of_article_validity_duration': 'Article pertains to daily stock price changes, hence it has a short relevance life',\n",
       " 'article_validity_duration': '1',\n",
       " 'analysis_of_popularity': \"The article's content is pretty niche, centred around a specific company's stock's activity\",\n",
       " 'popularity': 'niche',\n",
       " 'analysis_of_article_type': 'The article is factual, giving precise data regarding stock prices',\n",
       " 'article_type': 'fact',\n",
       " 'analysis_of_article_sentiment': 'The article shows no apparent positive or negative perspective towards the stock',\n",
       " 'article_sentiment': 'NA',\n",
       " 'summary_list': [{'missing_entities': 'Aditya Birla Capital; stock price; 03 Nov 2023',\n",
       "   'denser_summary': \"Aditya Birla Capital's live stock price on 03 Nov 2023, opened at ₹171.75, reached a high of ₹173.3, and closed at ₹170.05 while its 52-week high is ₹199.4 and low is ₹115.85.\"},\n",
       "  {'missing_entities': 'BSE volume; Market capitalization',\n",
       "   'denser_summary': \"On 03 Nov 2023, Aditya Birla Capital's stock volume on BSE was 64553 shares; Market cap is ₹44866.44 crore. 52-week range is ₹115.85-₹199.4.\"},\n",
       "  {'missing_entities': 'LiveMint; AI-generated live blog',\n",
       "   'denser_summary': \"LiveMint's AI-generated blog: On 03 Nov 2023, Aditya Birla Capital's BSE stock volume was 64553; Market cap ₹44866.44 crore; 52-week range ₹115.85-₹199.4.\"}],\n",
       " 'headline_suggestion': \"Aditya Birla Capital's Stock Prices on 03 Nov 2023\",\n",
       " 'relevant_questions': [\"What was the closing price of Aditya Birla Capital's stock on 03 Nov 2023?\",\n",
       "  'What was the BSE volume for Aditya Birla Capital on 03 Nov 2023?',\n",
       "  \"What was Aditya Birla Capital's market capitalization on 03 Nov 2023?\",\n",
       "  'What are the 52-week high and low for Aditya Birla Capital?',\n",
       "  'What were the opening and closing prices for Aditya Birla Capital on 03 Nov 2023?'],\n",
       " 'relevant_search_queries': ['Aditya Birla Capital stock price on 03 Nov 2023',\n",
       "  'BSE volume of Aditya Birla Capital on 03 Nov 2023',\n",
       "  '52-week high & low for Aditya Birla Capital',\n",
       "  'Market capitalization of Aditya Birla Capital on 03 Nov 2023',\n",
       "  'Closing price of Aditya Birla Capital on 03 Nov 2023'],\n",
       " 'keywords': ['Aditya Birla Capital',\n",
       "  'BSE volume',\n",
       "  'stock prices',\n",
       "  'market capitalization',\n",
       "  '52-week high & low']}"
      ]
     },
     "execution_count": 449,
     "metadata": {},
     "output_type": "execute_result"
    }
   ],
   "source": [
    "json.loads(r['choices'][0]['message']['content'])"
   ]
  },
  {
   "cell_type": "code",
   "execution_count": 445,
   "id": "4e544c5f-8a10-4b9e-a9be-9b27a85c6bdd",
   "metadata": {
    "tags": []
   },
   "outputs": [
    {
     "data": {
      "text/plain": [
       "'{ \"analysis_is_financial_or_business_news\": \"The article focuses on the daily stock price activity of Aditya Birla Capital\", \"is_financial_or_business_news\": \"1\", \"analysis_of_relevant_for_india\": \"The article pertains to an Indian company\\'s stock, hence relevant to Indian investors\", \"relevant_for_india\": \"1\", \"analysis_of_article_validity_duration\": \"Article pertains to daily stock price changes, hence it has a short relevance life\", \"article_validity_duration\": \"1\", \"analysis_of_popularity\": \"The article\\'s content is pretty niche, centred around a specific company\\'s stock\\'s activity\", \"popularity\": \"niche\", \"analysis_of_article_type\": \"The article is factual, giving precise data regarding stock prices\", \"article_type\": \"fact\", \"analysis_of_article_sentiment\": \"The article shows no apparent positive or negative perspective towards the stock\", \"article_sentiment\": \"NA\", \"summary_list\": \"[{\\\\\"missing_entities\\\\\": \\\\\"Aditya Birla Capital; stock price; 03 Nov 2023\\\\\", \\\\\"denser_summary\\\\\": \\\\\"Aditya Birla Capital\\'s live stock price on 03 Nov 2023, opened at ₹171.75, reached a high of ₹173.3, and closed at ₹170.05 while its 52-week high is ₹199.4 and low is ₹115.85.\\\\\"}, {\\\\\"missing_entities\\\\\": \\\\\"BSE volume; Market capitalization\\\\\", \\\\\"denser_summary\\\\\": \\\\\"On 03 Nov 2023, Aditya Birla Capital\\'s stock volume on BSE was 64553 shares; Market cap is ₹44866.44 crore. 52-week range is ₹115.85-₹199.4.\\\\\"}, {\\\\\"missing_entities\\\\\": \\\\\"LiveMint; AI-generated live blog\\\\\", \\\\\"denser_summary\\\\\": \\\\\"LiveMint\\'s AI-generated blog: On 03 Nov 2023, Aditya Birla Capital\\'s BSE stock volume was 64553; Market cap ₹44866.44 crore; 52-week range ₹115.85-₹199.4.\\\\\"}]\", \"headline_suggestion\": \"Aditya Birla Capital\\'s Stock Prices on 03 Nov 2023\", \"relevant_questions\": \"[\\\\\"What was the closing price of Aditya Birla Capital\\'s stock on 03 Nov 2023?\\\\\", \\\\\"What was the BSE volume for Aditya Birla Capital on 03 Nov 2023?\\\\\", \\\\\"What was Aditya Birla Capital\\'s market capitalization on 03 Nov 2023?\\\\\",\\n\\\\\"What are the 52-week high and low for Aditya Birla Capital?\\\\\", \\\\\"What were the opening and closing prices for Aditya Birla Capital on 03 Nov 2023?\\\\\"]\", \"relevant_search_queries\": \"[\\\\\"Aditya Birla Capital stock price on 03 Nov 2023\\\\\", \\\\\"BSE volume of Aditya Birla Capital on 03 Nov 2023\\\\\", \\\\\"52-week high & low for Aditya Birla Capital\\\\\", \\\\\"Market capitalization of Aditya Birla Capital on 03 Nov 2023\\\\\", \\\\\"Closing price of Aditya Birla Capital on 03 Nov 2023\\\\\"]\", \"keywords\": \"[\\\\\"Aditya Birla Capital\\\\\", \\\\\"BSE volume\\\\\", \\\\\"stock prices\\\\\", \\\\\"market capitalization\\\\\", \\\\\"52-week high & low\\\\\"]\" }'"
      ]
     },
     "execution_count": 445,
     "metadata": {},
     "output_type": "execute_result"
    }
   ],
   "source": [
    "res_gpt['choices'][0]['message']['content']"
   ]
  },
  {
   "cell_type": "code",
   "execution_count": 431,
   "id": "86a3bc34-fde1-45c7-aa29-ee550593229a",
   "metadata": {
    "tags": []
   },
   "outputs": [
    {
     "data": {
      "text/plain": [
       "'r QR codes on products?\"]\", \"relevant_search_queries\": \"[\\\\\"Delhi High Court PIL on QR codes\\\\\", \\\\\"Benefit of QR codes for visually impaired\\\\\", \\\\\"Kapila and Nirmal Hingorani Foundation PIL\\\\\", \\\\\"Aman Hingorani QR code PIL\\\\\", \\\\\"Centre\\'s reaction to QR code PIL\\\\\"]\", \"keywords\": \"[\\\\\"PIL\\\\\", \\\\\"QR codes\\\\\", \\\\\"Delhi High Court\\\\\", \\\\\"visually impaired\\\\\", \\\\\"Centre\\'s response\\\\\"]\" }'"
      ]
     },
     "execution_count": 431,
     "metadata": {},
     "output_type": "execute_result"
    }
   ],
   "source": [
    "res_gpt['choices'][0]['message']['content'][2200:].replace('],',']\",').replace(',[',',\"[').replace('\\\\\\'',\"'\")"
   ]
  },
  {
   "cell_type": "code",
   "execution_count": 460,
   "id": "e78debfe-c002-4221-a7bf-d9692c067791",
   "metadata": {
    "tags": []
   },
   "outputs": [],
   "source": [
    "import ast"
   ]
  },
  {
   "cell_type": "code",
   "execution_count": 15,
   "id": "edc062ba-6a84-4836-a67e-6c54cfff1824",
   "metadata": {
    "tags": []
   },
   "outputs": [
    {
     "data": {
      "text/html": [
       "<div>\n",
       "<style scoped>\n",
       "    .dataframe tbody tr th:only-of-type {\n",
       "        vertical-align: middle;\n",
       "    }\n",
       "\n",
       "    .dataframe tbody tr th {\n",
       "        vertical-align: top;\n",
       "    }\n",
       "\n",
       "    .dataframe thead th {\n",
       "        text-align: right;\n",
       "    }\n",
       "</style>\n",
       "<table border=\"1\" class=\"dataframe\">\n",
       "  <thead>\n",
       "    <tr style=\"text-align: right;\">\n",
       "      <th></th>\n",
       "      <th>Unnamed: 0</th>\n",
       "      <th>article_id</th>\n",
       "      <th>url</th>\n",
       "      <th>source_id</th>\n",
       "      <th>authors</th>\n",
       "      <th>image_url</th>\n",
       "      <th>is_premium_article</th>\n",
       "      <th>last_updated_time</th>\n",
       "      <th>published_time</th>\n",
       "      <th>short_description</th>\n",
       "      <th>...</th>\n",
       "      <th>source_name</th>\n",
       "      <th>ends_with_html</th>\n",
       "      <th>cat</th>\n",
       "      <th>subcat</th>\n",
       "      <th>fullcat</th>\n",
       "      <th>proportion</th>\n",
       "      <th>scaled_proportion</th>\n",
       "      <th>is_selected</th>\n",
       "      <th>full_content</th>\n",
       "      <th>num_words</th>\n",
       "    </tr>\n",
       "  </thead>\n",
       "  <tbody>\n",
       "    <tr>\n",
       "      <th>717</th>\n",
       "      <td>81790</td>\n",
       "      <td>6555cc7d4b13023f934a987a</td>\n",
       "      <td>https://www.cnbctv18.com/market/ten-year-treas...</td>\n",
       "      <td>6555992096fb32eef21a562d</td>\n",
       "      <td>['Bloomberg']</td>\n",
       "      <td>https://images.cnbctv18.com/wp-content/uploads...</td>\n",
       "      <td>False</td>\n",
       "      <td>2023-10-23T15:37:32+00:00</td>\n",
       "      <td>2023-10-23T15:35:32+00:00</td>\n",
       "      <td>The rise in the global bond benchmark above th...</td>\n",
       "      <td>...</td>\n",
       "      <td>cnbc-tv-18</td>\n",
       "      <td>False</td>\n",
       "      <td>market</td>\n",
       "      <td>NaN</td>\n",
       "      <td>cnbc-tv-18-market-</td>\n",
       "      <td>0.001088</td>\n",
       "      <td>0.005925</td>\n",
       "      <td>True</td>\n",
       "      <td>Ten-year treasury yield breaches 5% for first ...</td>\n",
       "      <td>517</td>\n",
       "    </tr>\n",
       "  </tbody>\n",
       "</table>\n",
       "<p>1 rows × 26 columns</p>\n",
       "</div>"
      ],
      "text/plain": [
       "     Unnamed: 0                article_id  \\\n",
       "717       81790  6555cc7d4b13023f934a987a   \n",
       "\n",
       "                                                   url  \\\n",
       "717  https://www.cnbctv18.com/market/ten-year-treas...   \n",
       "\n",
       "                    source_id        authors  \\\n",
       "717  6555992096fb32eef21a562d  ['Bloomberg']   \n",
       "\n",
       "                                             image_url  is_premium_article  \\\n",
       "717  https://images.cnbctv18.com/wp-content/uploads...               False   \n",
       "\n",
       "             last_updated_time             published_time  \\\n",
       "717  2023-10-23T15:37:32+00:00  2023-10-23T15:35:32+00:00   \n",
       "\n",
       "                                     short_description  ... source_name  \\\n",
       "717  The rise in the global bond benchmark above th...  ...  cnbc-tv-18   \n",
       "\n",
       "    ends_with_html     cat  subcat             fullcat  proportion  \\\n",
       "717          False  market     NaN  cnbc-tv-18-market-    0.001088   \n",
       "\n",
       "    scaled_proportion  is_selected  \\\n",
       "717          0.005925         True   \n",
       "\n",
       "                                          full_content num_words  \n",
       "717  Ten-year treasury yield breaches 5% for first ...       517  \n",
       "\n",
       "[1 rows x 26 columns]"
      ]
     },
     "execution_count": 15,
     "metadata": {},
     "output_type": "execute_result"
    }
   ],
   "source": [
    "shortlisted_articles[shortlisted_articles.article_id == '6555cc7d4b13023f934a987a']"
   ]
  },
  {
   "cell_type": "code",
   "execution_count": 17,
   "id": "8841a851-1505-4de3-a62c-18b91f94393f",
   "metadata": {
    "tags": []
   },
   "outputs": [],
   "source": [
    "from tqdm.notebook import tqdm"
   ]
  },
  {
   "cell_type": "code",
   "execution_count": 19,
   "id": "10c22c84-4efc-478b-9a61-e966c6234345",
   "metadata": {
    "tags": []
   },
   "outputs": [],
   "source": [
    "import json"
   ]
  },
  {
   "cell_type": "code",
   "execution_count": 20,
   "id": "0f38425a-4aba-493a-ae56-edd0e43d754a",
   "metadata": {
    "tags": []
   },
   "outputs": [
    {
     "data": {
      "application/vnd.jupyter.widget-view+json": {
       "model_id": "ce01a19a5f534a138c997c56dc9d862c",
       "version_major": 2,
       "version_minor": 0
      },
      "text/plain": [
       "  0%|          | 0/108 [00:00<?, ?it/s]"
      ]
     },
     "metadata": {},
     "output_type": "display_data"
    },
    {
     "name": "stdout",
     "output_type": "stream",
     "text": [
      "trying to get fixed json for articleId 651e17b8a662d76276b88483\n",
      "trying to get fixed json for articleId 65316ede1e5cc42b1b13e889\n",
      "trying to get fixed json for articleId 6555cbe14b13023f934a283c\n",
      "trying to get fixed json for articleId 65316e651e5cc42b1b13e4f2\n",
      "trying to get fixed json for articleId 6555cbe74b13023f934a2c6c\n",
      "trying to get fixed json for articleId 6531690b1e5cc42b1b13cb89\n",
      "trying to get fixed json for articleId 6555c82b4b13023f9349150e\n"
     ]
    }
   ],
   "source": [
    "encoder = tiktoken.encoding_for_model(model)\n",
    "num_system_tokens = len(encoder.encode(system_prompt))\n",
    "total_tokens = 7000\n",
    "available_tokens = total_tokens - num_system_tokens\n",
    "total_rows = len(shortlisted_articles)\n",
    "for i in tqdm(range(718, total_rows)):\n",
    "    row = shortlisted_articles.iloc[i]\n",
    "    truncated_content = find_token_limit(text=row.full_content, encoder=encoder, token_limit=available_tokens)\n",
    "    res_gpt = openai.ChatCompletion.create(model = model, messages = [{'role': 'system', 'content': system_prompt.replace('\\n',' ')}, {'role': 'user', 'content': truncated_content}])\n",
    "    parsed_res = parse_gpt_api_response(article_id=row.article_id, system_prompt=system_prompt, user_prompt=truncated_content, api_response=res_gpt)\n",
    "    cur_df = pd.DataFrame(parsed_res, index = ['i',])\n",
    "    cur_df.to_csv('gpt-4-responses-22-nov.csv',header=None, mode='a')\n",
    "    shorted_article_assessments.append(parsed_res)"
   ]
  },
  {
   "cell_type": "markdown",
   "id": "0fa87a6b-8d5a-46be-9c58-3f0367182ee4",
   "metadata": {},
   "source": [
    "#### Analysis"
   ]
  },
  {
   "cell_type": "code",
   "execution_count": 24,
   "id": "aa133f13-1cda-47ea-b8f8-0a3d7e9babf2",
   "metadata": {
    "tags": []
   },
   "outputs": [],
   "source": [
    "all_article_responses = pd.read_csv('gpt-4-responses-22-nov.csv', header=None)"
   ]
  },
  {
   "cell_type": "code",
   "execution_count": null,
   "id": "3f46f8de-d794-4beb-b23b-00c0a91ce7f1",
   "metadata": {},
   "outputs": [],
   "source": [
    "all_article_responses.rename(columns = {'0'})"
   ]
  },
  {
   "cell_type": "code",
   "execution_count": 27,
   "id": "347155dc-ad96-4533-992a-c8000f8c3d26",
   "metadata": {
    "tags": []
   },
   "outputs": [
    {
     "data": {
      "text/plain": [
       "825"
      ]
     },
     "execution_count": 27,
     "metadata": {},
     "output_type": "execute_result"
    }
   ],
   "source": [
    "all_article_responses[1].nunique()"
   ]
  },
  {
   "cell_type": "code",
   "execution_count": 30,
   "id": "76324f4a-b04f-4588-acb9-9c6842a363e7",
   "metadata": {
    "tags": []
   },
   "outputs": [
    {
     "data": {
      "text/plain": [
       "4017.768"
      ]
     },
     "execution_count": 30,
     "metadata": {},
     "output_type": "execute_result"
    }
   ],
   "source": [
    "all_article_responses[6].sum() * 0.03 * 80/1000"
   ]
  },
  {
   "cell_type": "code",
   "execution_count": 31,
   "id": "9530aceb-4afa-402d-b7e5-6b6d65c3a1e5",
   "metadata": {
    "tags": []
   },
   "outputs": [
    {
     "data": {
      "text/plain": [
       "2145.3984"
      ]
     },
     "execution_count": 31,
     "metadata": {},
     "output_type": "execute_result"
    }
   ],
   "source": [
    "all_article_responses[7].sum() * 0.06 * 80/1000"
   ]
  },
  {
   "cell_type": "code",
   "execution_count": 32,
   "id": "33183945-c981-4bb6-99a7-81e585d01c2b",
   "metadata": {
    "tags": []
   },
   "outputs": [],
   "source": [
    "invalid_response_article_ids = []"
   ]
  },
  {
   "cell_type": "code",
   "execution_count": 33,
   "id": "4e988322-038d-4283-b1d4-1422d0f2c302",
   "metadata": {
    "scrolled": true,
    "tags": []
   },
   "outputs": [
    {
     "data": {
      "application/vnd.jupyter.widget-view+json": {
       "model_id": "bb9c6e38e1624e6b95e4cda8515b9711",
       "version_major": 2,
       "version_minor": 0
      },
      "text/plain": [
       "  0%|          | 0/828 [00:00<?, ?it/s]"
      ]
     },
     "metadata": {},
     "output_type": "display_data"
    }
   ],
   "source": [
    "resp = []\n",
    "for i in tqdm(range(len(all_article_responses))):\n",
    "    row = all_article_responses.iloc[i]\n",
    "    try:\n",
    "        resp.append(json.loads(row[5]))\n",
    "    except:\n",
    "        invalid_response_article_ids.append(row[1])"
   ]
  },
  {
   "cell_type": "code",
   "execution_count": 34,
   "id": "8c0d5f72-9646-4455-ac89-37f5fad10ebb",
   "metadata": {
    "tags": []
   },
   "outputs": [
    {
     "data": {
      "text/plain": [
       "121"
      ]
     },
     "execution_count": 34,
     "metadata": {},
     "output_type": "execute_result"
    }
   ],
   "source": [
    "len(invalid_response_article_ids)"
   ]
  },
  {
   "cell_type": "code",
   "execution_count": 56,
   "id": "50a14963-7899-4add-b433-0862b70e7098",
   "metadata": {
    "tags": []
   },
   "outputs": [],
   "source": [
    "resp_df = pd.DataFrame(resp[:220])"
   ]
  },
  {
   "cell_type": "code",
   "execution_count": 61,
   "id": "bf62c501-9afe-496c-90be-3713d9ab48a1",
   "metadata": {
    "tags": []
   },
   "outputs": [],
   "source": [
    "resp_df['is_financial_or_business_news'] = resp_df['is_financial_or_business_news'].astype('int')\n",
    "resp_df['relevant_for_india'] = resp_df['relevant_for_india'].astype('int')\n",
    "resp_df['article_validity_duration'] = resp_df['article_validity_duration'].astype('int')"
   ]
  },
  {
   "cell_type": "code",
   "execution_count": 63,
   "id": "15326a57-379d-4117-9d3b-4259ca31a502",
   "metadata": {
    "tags": []
   },
   "outputs": [
    {
     "data": {
      "text/plain": [
       "0.8863636363636364"
      ]
     },
     "execution_count": 63,
     "metadata": {},
     "output_type": "execute_result"
    }
   ],
   "source": [
    "resp_df.is_financial_or_business_news.mean()"
   ]
  },
  {
   "cell_type": "code",
   "execution_count": 64,
   "id": "0edda65c-07e7-47ee-ab46-49e671c8eeae",
   "metadata": {
    "tags": []
   },
   "outputs": [
    {
     "data": {
      "text/plain": [
       "0.8090909090909091"
      ]
     },
     "execution_count": 64,
     "metadata": {},
     "output_type": "execute_result"
    }
   ],
   "source": [
    "resp_df.relevant_for_india.mean()"
   ]
  },
  {
   "cell_type": "code",
   "execution_count": 69,
   "id": "c0e5a733-778f-4344-8833-2bd5ca219291",
   "metadata": {
    "tags": []
   },
   "outputs": [
    {
     "data": {
      "text/plain": [
       "popularity\n",
       "breaking_news          33\n",
       "moderately_popular    115\n",
       "niche                  72\n",
       "Name: popularity, dtype: int64"
      ]
     },
     "execution_count": 69,
     "metadata": {},
     "output_type": "execute_result"
    }
   ],
   "source": [
    "resp_df.groupby('popularity')['popularity'].count()"
   ]
  },
  {
   "cell_type": "markdown",
   "id": "eaed4d6a-e498-4bf4-bb4e-268cd063cecc",
   "metadata": {},
   "source": [
    "### Rerunning for invalid article responses"
   ]
  },
  {
   "cell_type": "code",
   "execution_count": null,
   "id": "743e2a4d-0825-418e-849f-07f5381f372a",
   "metadata": {},
   "outputs": [],
   "source": [
    "invalid_response_article_ids"
   ]
  },
  {
   "cell_type": "code",
   "execution_count": null,
   "id": "ec90681e-556f-4c7a-a869-3ed4f520af64",
   "metadata": {},
   "outputs": [],
   "source": [
    "shortlisted_articles"
   ]
  },
  {
   "cell_type": "code",
   "execution_count": 80,
   "id": "e2f40414-cae4-46d2-8d32-7f574cd7b54a",
   "metadata": {
    "tags": []
   },
   "outputs": [
    {
     "data": {
      "application/vnd.jupyter.widget-view+json": {
       "model_id": "032e0924a0ba49ca81c319d09e095e98",
       "version_major": 2,
       "version_minor": 0
      },
      "text/plain": [
       "  0%|          | 0/29 [00:00<?, ?it/s]"
      ]
     },
     "metadata": {},
     "output_type": "display_data"
    }
   ],
   "source": [
    "encoder = tiktoken.encoding_for_model(model)\n",
    "num_system_tokens = len(encoder.encode(system_prompt))\n",
    "total_tokens = 7000\n",
    "available_tokens = total_tokens - num_system_tokens\n",
    "total_rows = len(shortlisted_articles)\n",
    "for i in tqdm(invalid_response_article_ids[92:]):\n",
    "    row = shortlisted_articles.loc[shortlisted_articles.article_id == i].iloc[0]\n",
    "    truncated_content = find_token_limit(text=row.full_content, encoder=encoder, token_limit=available_tokens)\n",
    "    res_gpt = openai.ChatCompletion.create(model = model, messages = [{'role': 'system', 'content': system_prompt.replace('\\n',' ')}, {'role': 'user', 'content': truncated_content}])\n",
    "    parsed_res = parse_gpt_api_response(article_id=row.article_id, system_prompt=system_prompt, user_prompt=truncated_content, api_response=res_gpt)\n",
    "    cur_df = pd.DataFrame(parsed_res, index = ['i',])\n",
    "    cur_df.to_csv('gpt-4-responses-22-nov.csv',header=None, mode='a')\n",
    "    shorted_article_assessments.append(parsed_res)"
   ]
  },
  {
   "cell_type": "code",
   "execution_count": 500,
   "id": "aa5a5e53-c5ba-4c20-8ff7-80e4e549fe7e",
   "metadata": {
    "tags": []
   },
   "outputs": [],
   "source": [
    "df1 = pd.DataFrame(shorted_article_assessments)"
   ]
  },
  {
   "cell_type": "code",
   "execution_count": 503,
   "id": "bae73c87-cde9-46e3-be8d-af4ec07e7f90",
   "metadata": {
    "tags": []
   },
   "outputs": [],
   "source": [
    "df1['json_safe_content'] = df1['content'].apply(lambda x: json.dumps(x))"
   ]
  },
  {
   "cell_type": "code",
   "execution_count": 506,
   "id": "ecce8a0b-7cc0-4c70-afbe-583a6e51f3ba",
   "metadata": {
    "tags": []
   },
   "outputs": [],
   "source": [
    "df1.to_csv('gpt-responses.csv')"
   ]
  },
  {
   "cell_type": "code",
   "execution_count": 510,
   "id": "2a58b631-c83c-4152-85ae-098888b181a0",
   "metadata": {
    "tags": []
   },
   "outputs": [],
   "source": [
    "df1['total_cost'] = df1['prompt_tokens'] * (0.03 * 80/1000) + df1['completion_tokens'] * (0.06 * 80/1000)"
   ]
  },
  {
   "cell_type": "code",
   "execution_count": 512,
   "id": "57473c47-9fc4-4630-be42-ec3180a14d7f",
   "metadata": {
    "tags": []
   },
   "outputs": [
    {
     "data": {
      "text/plain": [
       "879.1272"
      ]
     },
     "execution_count": 512,
     "metadata": {},
     "output_type": "execute_result"
    }
   ],
   "source": [
    "df1.total_cost.sum()"
   ]
  },
  {
   "cell_type": "code",
   "execution_count": 495,
   "id": "73950b6a-f258-4041-b540-aecc17faa0ac",
   "metadata": {
    "tags": []
   },
   "outputs": [],
   "source": [
    "pd.DataFrame(shorted_article_assessments).to_csv('gpt-responses.csv')"
   ]
  },
  {
   "cell_type": "markdown",
   "id": "d167fc2b-5f96-4fa0-b356-4202654e5bca",
   "metadata": {},
   "source": [
    "#### Standardizing responses"
   ]
  },
  {
   "cell_type": "code",
   "execution_count": 2,
   "id": "609b3f97-b875-4243-8165-45e3411cd397",
   "metadata": {
    "tags": []
   },
   "outputs": [],
   "source": [
    "import pandas as pd\n",
    "import numpy as np\n",
    "import json"
   ]
  },
  {
   "cell_type": "code",
   "execution_count": 5,
   "id": "39812c21-ed8b-4365-af1f-df23180cb9da",
   "metadata": {
    "tags": []
   },
   "outputs": [],
   "source": [
    "df = pd.read_csv('gpt-4-responses-22-nov.csv', header=None)"
   ]
  },
  {
   "cell_type": "code",
   "execution_count": 7,
   "id": "4e86aab4-0d12-4754-acca-76de2937b5e2",
   "metadata": {
    "tags": []
   },
   "outputs": [],
   "source": [
    "df = df.rename(columns = {1: 'article_id', 2: 'system_prompt', 3: 'article_content', 4: 'gpt-model', 5: 'gpt-response', 6: 'input_tokens', 7: 'output_tokens'})"
   ]
  },
  {
   "cell_type": "code",
   "execution_count": 157,
   "id": "961aa721-316e-4688-9789-179f5c432024",
   "metadata": {
    "tags": []
   },
   "outputs": [],
   "source": [
    "article_wise_responses = {}"
   ]
  },
  {
   "cell_type": "code",
   "execution_count": 158,
   "id": "8c901a1c-0bc6-45b9-b106-dabbec284ae9",
   "metadata": {
    "tags": []
   },
   "outputs": [],
   "source": [
    "for i in range(len(df)):\n",
    "    row = df.iloc[i]\n",
    "    art_id = row['article_id']\n",
    "    try:\n",
    "        article_wise_responses[art_id] = {}\n",
    "        article_wise_responses[art_id]['response'] = json.loads(row['gpt-response'])\n",
    "        article_wise_responses[art_id]['content'] = row['article_content']\n",
    "    except:\n",
    "        pass"
   ]
  },
  {
   "cell_type": "code",
   "execution_count": 61,
   "id": "cdaeeb22-3c3f-42a9-b314-60496c61acf7",
   "metadata": {
    "tags": []
   },
   "outputs": [],
   "source": [
    "def correct_json_using_gpt(summary_json):\n",
    "    print(f'trying to get fixed json for summary')\n",
    "    improved_summary_json = openai.ChatCompletion.create(model = 'gpt-4', messages = [{'role': 'system', 'content': 'fix the following json to be readable using json.loads(). simply out the new json. no preamble and no postamble'}, {'role': 'user', 'content': summary_json}])\n",
    "    content = json.loads(improved_summary_json['choices'][0]['message']['content'])\n",
    "    return content"
   ]
  },
  {
   "cell_type": "code",
   "execution_count": 156,
   "id": "7f31c090-d1a9-422d-ae1c-23e07c7ddc77",
   "metadata": {
    "tags": []
   },
   "outputs": [],
   "source": [
    "from tqdm.notebook import tqdm\n",
    "import tqdm as td\n",
    "\n",
    "from copy import deepcopy"
   ]
  },
  {
   "cell_type": "code",
   "execution_count": 185,
   "id": "475a6b57-d46e-48d0-9d5b-eaa5f6092359",
   "metadata": {
    "tags": []
   },
   "outputs": [
    {
     "data": {
      "text/plain": [
       "[{'missing_entities': 'Nirmala Sitharaman; US India Business Council; Digitalization impact',\n",
       "  'denser_summary': 'Union Finance Minister Nirmala Sitharaman urged American businesses to invest in India, asserting that it meets the requirements of a fair and transparent economy. The invitation came during a business roundtable organized by the US India Business Council. Sitharaman emphasized on the progress India has made in terms of digitalization and economic formalization.'},\n",
       " {'missing_entities': 'Taranjit Singh Sandhu; US and India trade; National Financial Information Registry',\n",
       "  'denser_summary': \"Indian Ambassador to the US, Taranjit Singh Sandhu reiterated India's commitment to engagement at the G20. He also noted that the US-India bilateral trade crossed $190 billion last year. The importance of a national financial information registry was emphasized to expand credit access.\"},\n",
       " {'missing_entities': 'Startup policies; Public Infrastructure; Fintech Ecosystem',\n",
       "  'denser_summary': \"The finance minister and industry executives discussed policies to deepen India's capital markets and enable Indian startups to tap global investment. The potential of India's digital public infrastructure was translated into private sector innovation. The importance of a progressive fintech ecosystem was highlighted.\"}]"
      ]
     },
     "execution_count": 185,
     "metadata": {},
     "output_type": "execute_result"
    }
   ],
   "source": [
    "response['summary_list']"
   ]
  },
  {
   "cell_type": "code",
   "execution_count": 190,
   "id": "4eb00fa6-0b43-4caf-8fe1-f2d8bf5a7767",
   "metadata": {
    "scrolled": true,
    "tags": []
   },
   "outputs": [
    {
     "name": "stderr",
     "output_type": "stream",
     "text": [
      "  0%|          | 0/825 [00:00<?, ?it/s]"
     ]
    },
    {
     "name": "stdout",
     "output_type": "stream",
     "text": [
      "trying to get fixed json for summary\n"
     ]
    },
    {
     "name": "stderr",
     "output_type": "stream",
     "text": [
      "  0%|          | 3/825 [00:15<1:12:02,  5.26s/it]"
     ]
    },
    {
     "name": "stdout",
     "output_type": "stream",
     "text": [
      "trying to get fixed json for summary\n"
     ]
    },
    {
     "name": "stderr",
     "output_type": "stream",
     "text": [
      "  0%|          | 4/825 [00:35<2:16:53, 10.00s/it]"
     ]
    },
    {
     "name": "stdout",
     "output_type": "stream",
     "text": [
      "trying to get fixed json for summary\n"
     ]
    },
    {
     "name": "stderr",
     "output_type": "stream",
     "text": [
      "  1%|          | 6/825 [01:04<2:45:05, 12.09s/it]"
     ]
    },
    {
     "name": "stdout",
     "output_type": "stream",
     "text": [
      "trying to get fixed json for summary\n"
     ]
    },
    {
     "name": "stderr",
     "output_type": "stream",
     "text": [
      "  1%|          | 8/825 [01:26<2:37:29, 11.57s/it]"
     ]
    },
    {
     "name": "stdout",
     "output_type": "stream",
     "text": [
      "trying to get fixed json for summary\n"
     ]
    },
    {
     "name": "stderr",
     "output_type": "stream",
     "text": [
      "  1%|▏         | 11/825 [01:37<1:47:39,  7.94s/it]"
     ]
    },
    {
     "name": "stdout",
     "output_type": "stream",
     "text": [
      "trying to get fixed json for summary\n"
     ]
    },
    {
     "name": "stderr",
     "output_type": "stream",
     "text": [
      "  2%|▏         | 13/825 [01:58<1:57:26,  8.68s/it]"
     ]
    },
    {
     "name": "stdout",
     "output_type": "stream",
     "text": [
      "trying to get fixed json for summary\n"
     ]
    },
    {
     "name": "stderr",
     "output_type": "stream",
     "text": [
      "  3%|▎         | 22/825 [02:18<59:15,  4.43s/it]  "
     ]
    },
    {
     "name": "stdout",
     "output_type": "stream",
     "text": [
      "trying to get fixed json for summary\n"
     ]
    },
    {
     "name": "stderr",
     "output_type": "stream",
     "text": [
      "  3%|▎         | 23/825 [02:32<1:11:53,  5.38s/it]"
     ]
    },
    {
     "name": "stdout",
     "output_type": "stream",
     "text": [
      "trying to get fixed json for summary\n"
     ]
    },
    {
     "name": "stderr",
     "output_type": "stream",
     "text": [
      "  3%|▎         | 25/825 [02:45<1:14:21,  5.58s/it]"
     ]
    },
    {
     "name": "stdout",
     "output_type": "stream",
     "text": [
      "trying to get fixed json for summary\n"
     ]
    },
    {
     "name": "stderr",
     "output_type": "stream",
     "text": [
      "  4%|▍         | 32/825 [02:58<48:01,  3.63s/it]  "
     ]
    },
    {
     "name": "stdout",
     "output_type": "stream",
     "text": [
      "trying to get fixed json for summary\n"
     ]
    },
    {
     "name": "stderr",
     "output_type": "stream",
     "text": [
      "  4%|▍         | 34/825 [03:08<51:45,  3.93s/it]"
     ]
    },
    {
     "name": "stdout",
     "output_type": "stream",
     "text": [
      "trying to get fixed json for summary\n"
     ]
    },
    {
     "name": "stderr",
     "output_type": "stream",
     "text": [
      "  4%|▍         | 36/825 [03:32<1:12:02,  5.48s/it]"
     ]
    },
    {
     "name": "stdout",
     "output_type": "stream",
     "text": [
      "trying to get fixed json for summary\n"
     ]
    },
    {
     "name": "stderr",
     "output_type": "stream",
     "text": [
      "  4%|▍         | 37/825 [03:54<1:39:15,  7.56s/it]"
     ]
    },
    {
     "name": "stdout",
     "output_type": "stream",
     "text": [
      "trying to get fixed json for summary\n"
     ]
    },
    {
     "name": "stderr",
     "output_type": "stream",
     "text": [
      "  5%|▍         | 38/825 [04:12<2:00:05,  9.16s/it]"
     ]
    },
    {
     "name": "stdout",
     "output_type": "stream",
     "text": [
      "trying to get fixed json for summary\n"
     ]
    },
    {
     "name": "stderr",
     "output_type": "stream",
     "text": [
      "  5%|▍         | 39/825 [04:21<1:58:29,  9.04s/it]"
     ]
    },
    {
     "name": "stdout",
     "output_type": "stream",
     "text": [
      "trying to get fixed json for summary\n"
     ]
    },
    {
     "name": "stderr",
     "output_type": "stream",
     "text": [
      "  5%|▌         | 43/825 [04:40<1:29:27,  6.86s/it]"
     ]
    },
    {
     "name": "stdout",
     "output_type": "stream",
     "text": [
      "trying to get fixed json for summary\n"
     ]
    },
    {
     "name": "stderr",
     "output_type": "stream",
     "text": [
      "  5%|▌         | 44/825 [04:59<1:53:30,  8.72s/it]"
     ]
    },
    {
     "name": "stdout",
     "output_type": "stream",
     "text": [
      "trying to get fixed json for summary\n"
     ]
    },
    {
     "name": "stderr",
     "output_type": "stream",
     "text": [
      "  6%|▌         | 50/825 [05:12<1:05:43,  5.09s/it]"
     ]
    },
    {
     "name": "stdout",
     "output_type": "stream",
     "text": [
      "trying to get fixed json for summary\n"
     ]
    },
    {
     "name": "stderr",
     "output_type": "stream",
     "text": [
      "  6%|▋         | 53/825 [05:29<1:07:24,  5.24s/it]"
     ]
    },
    {
     "name": "stdout",
     "output_type": "stream",
     "text": [
      "trying to get fixed json for summary\n"
     ]
    },
    {
     "name": "stderr",
     "output_type": "stream",
     "text": [
      "  7%|▋         | 54/825 [05:53<1:36:28,  7.51s/it]"
     ]
    },
    {
     "name": "stdout",
     "output_type": "stream",
     "text": [
      "trying to get fixed json for summary\n"
     ]
    },
    {
     "name": "stderr",
     "output_type": "stream",
     "text": [
      "  7%|▋         | 57/825 [06:11<1:28:23,  6.91s/it]"
     ]
    },
    {
     "name": "stdout",
     "output_type": "stream",
     "text": [
      "trying to get fixed json for summary\n"
     ]
    },
    {
     "name": "stderr",
     "output_type": "stream",
     "text": [
      "  7%|▋         | 59/825 [06:22<1:24:45,  6.64s/it]"
     ]
    },
    {
     "name": "stdout",
     "output_type": "stream",
     "text": [
      "trying to get fixed json for summary\n"
     ]
    },
    {
     "name": "stderr",
     "output_type": "stream",
     "text": [
      "  7%|▋         | 61/825 [06:45<1:39:39,  7.83s/it]"
     ]
    },
    {
     "name": "stdout",
     "output_type": "stream",
     "text": [
      "trying to get fixed json for summary\n"
     ]
    },
    {
     "name": "stderr",
     "output_type": "stream",
     "text": [
      "  8%|▊         | 62/825 [07:02<1:57:41,  9.25s/it]"
     ]
    },
    {
     "name": "stdout",
     "output_type": "stream",
     "text": [
      "trying to get fixed json for summary\n"
     ]
    },
    {
     "name": "stderr",
     "output_type": "stream",
     "text": [
      "  8%|▊         | 69/825 [07:25<1:10:50,  5.62s/it]"
     ]
    },
    {
     "name": "stdout",
     "output_type": "stream",
     "text": [
      "trying to get fixed json for summary\n"
     ]
    },
    {
     "name": "stderr",
     "output_type": "stream",
     "text": [
      "  9%|▊         | 71/825 [07:45<1:22:26,  6.56s/it]"
     ]
    },
    {
     "name": "stdout",
     "output_type": "stream",
     "text": [
      "trying to get fixed json for summary\n"
     ]
    },
    {
     "name": "stderr",
     "output_type": "stream",
     "text": [
      "  9%|▉         | 74/825 [07:59<1:14:30,  5.95s/it]"
     ]
    },
    {
     "name": "stdout",
     "output_type": "stream",
     "text": [
      "trying to get fixed json for summary\n"
     ]
    },
    {
     "name": "stderr",
     "output_type": "stream",
     "text": [
      "  9%|▉         | 75/825 [08:21<1:40:20,  8.03s/it]"
     ]
    },
    {
     "name": "stdout",
     "output_type": "stream",
     "text": [
      "trying to get fixed json for summary\n"
     ]
    },
    {
     "name": "stderr",
     "output_type": "stream",
     "text": [
      "  9%|▉         | 76/825 [08:47<2:14:09, 10.75s/it]"
     ]
    },
    {
     "name": "stdout",
     "output_type": "stream",
     "text": [
      "trying to get fixed json for summary\n"
     ]
    },
    {
     "name": "stderr",
     "output_type": "stream",
     "text": [
      "  9%|▉         | 78/825 [09:04<2:03:41,  9.94s/it]"
     ]
    },
    {
     "name": "stdout",
     "output_type": "stream",
     "text": [
      "trying to get fixed json for summary\n"
     ]
    },
    {
     "name": "stderr",
     "output_type": "stream",
     "text": [
      " 10%|▉         | 80/825 [09:25<2:06:09, 10.16s/it]"
     ]
    },
    {
     "name": "stdout",
     "output_type": "stream",
     "text": [
      "trying to get fixed json for summary\n"
     ]
    },
    {
     "name": "stderr",
     "output_type": "stream",
     "text": [
      " 10%|█         | 85/825 [09:44<1:24:10,  6.82s/it]"
     ]
    },
    {
     "name": "stdout",
     "output_type": "stream",
     "text": [
      "trying to get fixed json for summary\n"
     ]
    },
    {
     "name": "stderr",
     "output_type": "stream",
     "text": [
      " 11%|█         | 89/825 [10:03<1:14:19,  6.06s/it]"
     ]
    },
    {
     "name": "stdout",
     "output_type": "stream",
     "text": [
      "trying to get fixed json for summary\n"
     ]
    },
    {
     "name": "stderr",
     "output_type": "stream",
     "text": [
      " 11%|█         | 91/825 [10:27<1:29:47,  7.34s/it]"
     ]
    },
    {
     "name": "stdout",
     "output_type": "stream",
     "text": [
      "trying to get fixed json for summary\n"
     ]
    },
    {
     "name": "stderr",
     "output_type": "stream",
     "text": [
      " 12%|█▏        | 95/825 [10:46<1:17:43,  6.39s/it]"
     ]
    },
    {
     "name": "stdout",
     "output_type": "stream",
     "text": [
      "trying to get fixed json for summary\n"
     ]
    },
    {
     "name": "stderr",
     "output_type": "stream",
     "text": [
      " 12%|█▏        | 96/825 [11:05<1:35:49,  7.89s/it]"
     ]
    },
    {
     "name": "stdout",
     "output_type": "stream",
     "text": [
      "trying to get fixed json for summary\n"
     ]
    },
    {
     "name": "stderr",
     "output_type": "stream",
     "text": [
      " 12%|█▏        | 97/825 [11:30<2:04:37, 10.27s/it]"
     ]
    },
    {
     "name": "stdout",
     "output_type": "stream",
     "text": [
      "trying to get fixed json for summary\n"
     ]
    },
    {
     "name": "stderr",
     "output_type": "stream",
     "text": [
      " 12%|█▏        | 100/825 [11:59<2:01:40, 10.07s/it]"
     ]
    },
    {
     "name": "stdout",
     "output_type": "stream",
     "text": [
      "trying to get fixed json for summary\n"
     ]
    },
    {
     "name": "stderr",
     "output_type": "stream",
     "text": [
      " 12%|█▏        | 102/825 [12:16<1:56:31,  9.67s/it]"
     ]
    },
    {
     "name": "stdout",
     "output_type": "stream",
     "text": [
      "trying to get fixed json for summary\n"
     ]
    },
    {
     "name": "stderr",
     "output_type": "stream",
     "text": [
      " 13%|█▎        | 110/825 [12:40<1:07:34,  5.67s/it]"
     ]
    },
    {
     "name": "stdout",
     "output_type": "stream",
     "text": [
      "trying to get fixed json for summary\n"
     ]
    },
    {
     "name": "stderr",
     "output_type": "stream",
     "text": [
      " 14%|█▎        | 113/825 [12:56<1:05:45,  5.54s/it]"
     ]
    },
    {
     "name": "stdout",
     "output_type": "stream",
     "text": [
      "trying to get fixed json for summary\n"
     ]
    },
    {
     "name": "stderr",
     "output_type": "stream",
     "text": [
      " 14%|█▍        | 116/825 [13:16<1:09:12,  5.86s/it]"
     ]
    },
    {
     "name": "stdout",
     "output_type": "stream",
     "text": [
      "trying to get fixed json for summary\n"
     ]
    },
    {
     "name": "stderr",
     "output_type": "stream",
     "text": [
      " 15%|█▌        | 127/825 [13:28<36:17,  3.12s/it]  "
     ]
    },
    {
     "name": "stdout",
     "output_type": "stream",
     "text": [
      "trying to get fixed json for summary\n"
     ]
    },
    {
     "name": "stderr",
     "output_type": "stream",
     "text": [
      " 20%|██        | 166/825 [13:42<11:39,  1.06s/it]"
     ]
    },
    {
     "name": "stdout",
     "output_type": "stream",
     "text": [
      "trying to get fixed json for summary\n"
     ]
    },
    {
     "name": "stderr",
     "output_type": "stream",
     "text": [
      " 20%|██        | 169/825 [14:19<20:49,  1.90s/it]"
     ]
    },
    {
     "name": "stdout",
     "output_type": "stream",
     "text": [
      "trying to get fixed json for summary\n"
     ]
    },
    {
     "name": "stderr",
     "output_type": "stream",
     "text": [
      " 21%|██        | 173/825 [14:25<20:06,  1.85s/it]"
     ]
    },
    {
     "name": "stdout",
     "output_type": "stream",
     "text": [
      "6525a756598c6618f0608b3b error 2\n",
      "trying to get fixed json for summary\n"
     ]
    },
    {
     "name": "stderr",
     "output_type": "stream",
     "text": [
      " 23%|██▎       | 193/825 [14:43<14:43,  1.40s/it]"
     ]
    },
    {
     "name": "stdout",
     "output_type": "stream",
     "text": [
      "trying to get fixed json for summary\n"
     ]
    },
    {
     "name": "stderr",
     "output_type": "stream",
     "text": [
      " 24%|██▍       | 200/825 [14:59<16:34,  1.59s/it]"
     ]
    },
    {
     "name": "stdout",
     "output_type": "stream",
     "text": [
      "trying to get fixed json for summary\n"
     ]
    },
    {
     "name": "stderr",
     "output_type": "stream",
     "text": [
      " 25%|██▌       | 208/825 [15:16<17:37,  1.71s/it]"
     ]
    },
    {
     "name": "stdout",
     "output_type": "stream",
     "text": [
      "trying to get fixed json for summary\n"
     ]
    },
    {
     "name": "stderr",
     "output_type": "stream",
     "text": [
      " 27%|██▋       | 222/825 [15:27<13:45,  1.37s/it]"
     ]
    },
    {
     "name": "stdout",
     "output_type": "stream",
     "text": [
      "trying to get fixed json for summary\n"
     ]
    },
    {
     "name": "stderr",
     "output_type": "stream",
     "text": [
      " 27%|██▋       | 224/825 [15:37<16:17,  1.63s/it]"
     ]
    },
    {
     "name": "stdout",
     "output_type": "stream",
     "text": [
      "trying to get fixed json for summary\n"
     ]
    },
    {
     "name": "stderr",
     "output_type": "stream",
     "text": [
      " 28%|██▊       | 228/825 [15:57<21:49,  2.19s/it]"
     ]
    },
    {
     "name": "stdout",
     "output_type": "stream",
     "text": [
      "trying to get fixed json for summary\n"
     ]
    },
    {
     "name": "stderr",
     "output_type": "stream",
     "text": [
      " 28%|██▊       | 230/825 [16:15<28:50,  2.91s/it]"
     ]
    },
    {
     "name": "stdout",
     "output_type": "stream",
     "text": [
      "trying to get fixed json for summary\n"
     ]
    },
    {
     "name": "stderr",
     "output_type": "stream",
     "text": [
      " 29%|██▉       | 242/825 [16:35<22:37,  2.33s/it]"
     ]
    },
    {
     "name": "stdout",
     "output_type": "stream",
     "text": [
      "trying to get fixed json for summary\n"
     ]
    },
    {
     "name": "stderr",
     "output_type": "stream",
     "text": [
      " 30%|██▉       | 246/825 [16:49<24:29,  2.54s/it]"
     ]
    },
    {
     "name": "stdout",
     "output_type": "stream",
     "text": [
      "trying to get fixed json for summary\n"
     ]
    },
    {
     "name": "stderr",
     "output_type": "stream",
     "text": [
      " 32%|███▏      | 261/825 [17:08<17:46,  1.89s/it]"
     ]
    },
    {
     "name": "stdout",
     "output_type": "stream",
     "text": [
      "trying to get fixed json for summary\n"
     ]
    },
    {
     "name": "stderr",
     "output_type": "stream",
     "text": [
      " 32%|███▏      | 264/825 [17:31<24:39,  2.64s/it]"
     ]
    },
    {
     "name": "stdout",
     "output_type": "stream",
     "text": [
      "trying to get fixed json for summary\n"
     ]
    },
    {
     "name": "stderr",
     "output_type": "stream",
     "text": [
      " 32%|███▏      | 268/825 [17:57<31:11,  3.36s/it]"
     ]
    },
    {
     "name": "stdout",
     "output_type": "stream",
     "text": [
      "trying to get fixed json for summary\n"
     ]
    },
    {
     "name": "stderr",
     "output_type": "stream",
     "text": [
      " 33%|███▎      | 273/825 [18:16<31:58,  3.48s/it]"
     ]
    },
    {
     "name": "stdout",
     "output_type": "stream",
     "text": [
      "trying to get fixed json for summary\n"
     ]
    },
    {
     "name": "stderr",
     "output_type": "stream",
     "text": [
      " 34%|███▎      | 277/825 [18:34<33:36,  3.68s/it]"
     ]
    },
    {
     "name": "stdout",
     "output_type": "stream",
     "text": [
      "trying to get fixed json for summary\n"
     ]
    },
    {
     "name": "stderr",
     "output_type": "stream",
     "text": [
      " 34%|███▍      | 279/825 [18:54<41:41,  4.58s/it]"
     ]
    },
    {
     "name": "stdout",
     "output_type": "stream",
     "text": [
      "trying to get fixed json for summary\n"
     ]
    },
    {
     "name": "stderr",
     "output_type": "stream",
     "text": [
      " 34%|███▍      | 283/825 [19:08<38:40,  4.28s/it]"
     ]
    },
    {
     "name": "stdout",
     "output_type": "stream",
     "text": [
      "trying to get fixed json for summary\n"
     ]
    },
    {
     "name": "stderr",
     "output_type": "stream",
     "text": [
      " 35%|███▍      | 286/825 [19:30<44:50,  4.99s/it]"
     ]
    },
    {
     "name": "stdout",
     "output_type": "stream",
     "text": [
      "trying to get fixed json for summary\n"
     ]
    },
    {
     "name": "stderr",
     "output_type": "stream",
     "text": [
      " 36%|███▌      | 296/825 [19:47<28:40,  3.25s/it]"
     ]
    },
    {
     "name": "stdout",
     "output_type": "stream",
     "text": [
      "trying to get fixed json for summary\n"
     ]
    },
    {
     "name": "stderr",
     "output_type": "stream",
     "text": [
      " 39%|███▉      | 321/825 [20:12<14:52,  1.77s/it]"
     ]
    },
    {
     "name": "stdout",
     "output_type": "stream",
     "text": [
      "trying to get fixed json for summary\n"
     ]
    },
    {
     "name": "stderr",
     "output_type": "stream",
     "text": [
      " 39%|███▉      | 325/825 [20:35<19:14,  2.31s/it]"
     ]
    },
    {
     "name": "stdout",
     "output_type": "stream",
     "text": [
      "trying to get fixed json for summary\n"
     ]
    },
    {
     "name": "stderr",
     "output_type": "stream",
     "text": [
      " 40%|████      | 330/825 [20:50<19:58,  2.42s/it]"
     ]
    },
    {
     "name": "stdout",
     "output_type": "stream",
     "text": [
      "trying to get fixed json for summary\n"
     ]
    },
    {
     "name": "stderr",
     "output_type": "stream",
     "text": [
      " 40%|████      | 334/825 [20:59<19:40,  2.40s/it]"
     ]
    },
    {
     "name": "stdout",
     "output_type": "stream",
     "text": [
      "trying to get fixed json for summary\n"
     ]
    },
    {
     "name": "stderr",
     "output_type": "stream",
     "text": [
      " 41%|████      | 335/825 [21:13<25:28,  3.12s/it]"
     ]
    },
    {
     "name": "stdout",
     "output_type": "stream",
     "text": [
      "652ebbc51e5cc42b1b139a60 error 2\n",
      "trying to get fixed json for summary\n"
     ]
    },
    {
     "name": "stderr",
     "output_type": "stream",
     "text": [
      " 42%|████▏     | 349/825 [21:27<15:36,  1.97s/it]"
     ]
    },
    {
     "name": "stdout",
     "output_type": "stream",
     "text": [
      "trying to get fixed json for summary\n"
     ]
    },
    {
     "name": "stderr",
     "output_type": "stream",
     "text": [
      " 43%|████▎     | 355/825 [21:44<17:04,  2.18s/it]"
     ]
    },
    {
     "name": "stdout",
     "output_type": "stream",
     "text": [
      "trying to get fixed json for summary\n"
     ]
    },
    {
     "name": "stderr",
     "output_type": "stream",
     "text": [
      " 43%|████▎     | 358/825 [22:05<22:29,  2.89s/it]"
     ]
    },
    {
     "name": "stdout",
     "output_type": "stream",
     "text": [
      "trying to get fixed json for summary\n"
     ]
    },
    {
     "name": "stderr",
     "output_type": "stream",
     "text": [
      " 46%|████▌     | 381/825 [22:28<12:38,  1.71s/it]"
     ]
    },
    {
     "name": "stdout",
     "output_type": "stream",
     "text": [
      "trying to get fixed json for summary\n"
     ]
    },
    {
     "name": "stderr",
     "output_type": "stream",
     "text": [
      " 47%|████▋     | 385/825 [22:49<16:09,  2.20s/it]"
     ]
    },
    {
     "name": "stdout",
     "output_type": "stream",
     "text": [
      "trying to get fixed json for summary\n"
     ]
    },
    {
     "name": "stderr",
     "output_type": "stream",
     "text": [
      " 47%|████▋     | 389/825 [23:03<17:22,  2.39s/it]"
     ]
    },
    {
     "name": "stdout",
     "output_type": "stream",
     "text": [
      "65316f991e5cc42b1b140ac8 error 2\n",
      "trying to get fixed json for summary\n"
     ]
    },
    {
     "name": "stderr",
     "output_type": "stream",
     "text": [
      " 53%|█████▎    | 435/825 [23:32<07:17,  1.12s/it]"
     ]
    },
    {
     "name": "stdout",
     "output_type": "stream",
     "text": [
      "trying to get fixed json for summary\n"
     ]
    },
    {
     "name": "stderr",
     "output_type": "stream",
     "text": [
      " 53%|█████▎    | 436/825 [23:49<09:32,  1.47s/it]"
     ]
    },
    {
     "name": "stdout",
     "output_type": "stream",
     "text": [
      "trying to get fixed json for summary\n"
     ]
    },
    {
     "name": "stderr",
     "output_type": "stream",
     "text": [
      " 54%|█████▍    | 445/825 [24:04<09:27,  1.49s/it]"
     ]
    },
    {
     "name": "stdout",
     "output_type": "stream",
     "text": [
      "trying to get fixed json for summary\n"
     ]
    },
    {
     "name": "stderr",
     "output_type": "stream",
     "text": [
      " 54%|█████▍    | 447/825 [24:21<12:28,  1.98s/it]"
     ]
    },
    {
     "name": "stdout",
     "output_type": "stream",
     "text": [
      "trying to get fixed json for summary\n"
     ]
    },
    {
     "name": "stderr",
     "output_type": "stream",
     "text": [
      " 54%|█████▍    | 448/825 [24:42<17:38,  2.81s/it]"
     ]
    },
    {
     "name": "stdout",
     "output_type": "stream",
     "text": [
      "trying to get fixed json for summary\n"
     ]
    },
    {
     "name": "stderr",
     "output_type": "stream",
     "text": [
      " 55%|█████▍    | 450/825 [25:01<22:08,  3.54s/it]"
     ]
    },
    {
     "name": "stdout",
     "output_type": "stream",
     "text": [
      "trying to get fixed json for summary\n"
     ]
    },
    {
     "name": "stderr",
     "output_type": "stream",
     "text": [
      " 56%|█████▌    | 458/825 [25:29<21:46,  3.56s/it]"
     ]
    },
    {
     "name": "stdout",
     "output_type": "stream",
     "text": [
      "trying to get fixed json for summary\n"
     ]
    },
    {
     "name": "stderr",
     "output_type": "stream",
     "text": [
      " 57%|█████▋    | 471/825 [25:50<15:27,  2.62s/it]"
     ]
    },
    {
     "name": "stdout",
     "output_type": "stream",
     "text": [
      "trying to get fixed json for summary\n"
     ]
    },
    {
     "name": "stderr",
     "output_type": "stream",
     "text": [
      " 57%|█████▋    | 472/825 [26:13<21:18,  3.62s/it]"
     ]
    },
    {
     "name": "stdout",
     "output_type": "stream",
     "text": [
      "trying to get fixed json for summary\n"
     ]
    },
    {
     "name": "stderr",
     "output_type": "stream",
     "text": [
      " 57%|█████▋    | 474/825 [26:35<26:36,  4.55s/it]"
     ]
    },
    {
     "name": "stdout",
     "output_type": "stream",
     "text": [
      "trying to get fixed json for summary\n"
     ]
    },
    {
     "name": "stderr",
     "output_type": "stream",
     "text": [
      " 58%|█████▊    | 475/825 [26:56<34:27,  5.91s/it]"
     ]
    },
    {
     "name": "stdout",
     "output_type": "stream",
     "text": [
      "trying to get fixed json for summary\n"
     ]
    },
    {
     "name": "stderr",
     "output_type": "stream",
     "text": [
      " 59%|█████▉    | 486/825 [27:17<20:50,  3.69s/it]"
     ]
    },
    {
     "name": "stdout",
     "output_type": "stream",
     "text": [
      "trying to get fixed json for summary\n"
     ]
    },
    {
     "name": "stderr",
     "output_type": "stream",
     "text": [
      " 59%|█████▉    | 487/825 [27:39<27:32,  4.89s/it]"
     ]
    },
    {
     "name": "stdout",
     "output_type": "stream",
     "text": [
      "trying to get fixed json for summary\n"
     ]
    },
    {
     "name": "stderr",
     "output_type": "stream",
     "text": [
      " 60%|█████▉    | 494/825 [28:14<27:15,  4.94s/it]"
     ]
    },
    {
     "name": "stdout",
     "output_type": "stream",
     "text": [
      "trying to get fixed json for summary\n"
     ]
    },
    {
     "name": "stderr",
     "output_type": "stream",
     "text": [
      " 60%|██████    | 495/825 [28:38<35:22,  6.43s/it]"
     ]
    },
    {
     "name": "stdout",
     "output_type": "stream",
     "text": [
      "trying to get fixed json for summary\n"
     ]
    },
    {
     "name": "stderr",
     "output_type": "stream",
     "text": [
      " 60%|██████    | 496/825 [28:58<42:32,  7.76s/it]"
     ]
    },
    {
     "name": "stdout",
     "output_type": "stream",
     "text": [
      "trying to get fixed json for summary\n"
     ]
    },
    {
     "name": "stderr",
     "output_type": "stream",
     "text": [
      " 60%|██████    | 497/825 [29:21<52:20,  9.58s/it]"
     ]
    },
    {
     "name": "stdout",
     "output_type": "stream",
     "text": [
      "trying to get fixed json for summary\n"
     ]
    },
    {
     "name": "stderr",
     "output_type": "stream",
     "text": [
      " 60%|██████    | 498/825 [30:09<1:23:17, 15.28s/it]"
     ]
    },
    {
     "name": "stdout",
     "output_type": "stream",
     "text": [
      "trying to get fixed json for summary\n"
     ]
    },
    {
     "name": "stderr",
     "output_type": "stream",
     "text": [
      " 60%|██████    | 499/825 [30:24<1:23:03, 15.29s/it]"
     ]
    },
    {
     "name": "stdout",
     "output_type": "stream",
     "text": [
      "trying to get fixed json for summary\n"
     ]
    },
    {
     "name": "stderr",
     "output_type": "stream",
     "text": [
      " 61%|██████    | 503/825 [30:51<59:23, 11.07s/it]  "
     ]
    },
    {
     "name": "stdout",
     "output_type": "stream",
     "text": [
      "trying to get fixed json for summary\n"
     ]
    },
    {
     "name": "stderr",
     "output_type": "stream",
     "text": [
      " 61%|██████▏   | 506/825 [31:17<53:58, 10.15s/it]"
     ]
    },
    {
     "name": "stdout",
     "output_type": "stream",
     "text": [
      "trying to get fixed json for summary\n"
     ]
    },
    {
     "name": "stderr",
     "output_type": "stream",
     "text": [
      " 62%|██████▏   | 510/825 [31:39<43:50,  8.35s/it]"
     ]
    },
    {
     "name": "stdout",
     "output_type": "stream",
     "text": [
      "trying to get fixed json for summary\n"
     ]
    },
    {
     "name": "stderr",
     "output_type": "stream",
     "text": [
      " 62%|██████▏   | 511/825 [31:52<46:45,  8.93s/it]"
     ]
    },
    {
     "name": "stdout",
     "output_type": "stream",
     "text": [
      "trying to get fixed json for summary\n"
     ]
    },
    {
     "name": "stderr",
     "output_type": "stream",
     "text": [
      " 63%|██████▎   | 520/825 [32:13<24:33,  4.83s/it]"
     ]
    },
    {
     "name": "stdout",
     "output_type": "stream",
     "text": [
      "trying to get fixed json for summary\n"
     ]
    },
    {
     "name": "stderr",
     "output_type": "stream",
     "text": [
      " 63%|██████▎   | 522/825 [32:26<26:03,  5.16s/it]"
     ]
    },
    {
     "name": "stdout",
     "output_type": "stream",
     "text": [
      "trying to get fixed json for summary\n"
     ]
    },
    {
     "name": "stderr",
     "output_type": "stream",
     "text": [
      " 63%|██████▎   | 523/825 [32:48<34:36,  6.88s/it]"
     ]
    },
    {
     "name": "stdout",
     "output_type": "stream",
     "text": [
      "trying to get fixed json for summary\n"
     ]
    },
    {
     "name": "stderr",
     "output_type": "stream",
     "text": [
      " 64%|██████▍   | 527/825 [33:11<31:54,  6.42s/it]"
     ]
    },
    {
     "name": "stdout",
     "output_type": "stream",
     "text": [
      "trying to get fixed json for summary\n"
     ]
    },
    {
     "name": "stderr",
     "output_type": "stream",
     "text": [
      " 65%|██████▍   | 536/825 [33:28<19:09,  3.98s/it]"
     ]
    },
    {
     "name": "stdout",
     "output_type": "stream",
     "text": [
      "trying to get fixed json for summary\n"
     ]
    },
    {
     "name": "stderr",
     "output_type": "stream",
     "text": [
      " 65%|██████▌   | 537/825 [33:49<25:33,  5.32s/it]"
     ]
    },
    {
     "name": "stdout",
     "output_type": "stream",
     "text": [
      "trying to get fixed json for summary\n"
     ]
    },
    {
     "name": "stderr",
     "output_type": "stream",
     "text": [
      " 65%|██████▌   | 538/825 [34:07<31:34,  6.60s/it]"
     ]
    },
    {
     "name": "stdout",
     "output_type": "stream",
     "text": [
      "trying to get fixed json for summary\n"
     ]
    },
    {
     "name": "stderr",
     "output_type": "stream",
     "text": [
      " 66%|██████▌   | 544/825 [34:32<25:48,  5.51s/it]"
     ]
    },
    {
     "name": "stdout",
     "output_type": "stream",
     "text": [
      "trying to get fixed json for summary\n"
     ]
    },
    {
     "name": "stderr",
     "output_type": "stream",
     "text": [
      " 66%|██████▌   | 545/825 [34:46<29:18,  6.28s/it]"
     ]
    },
    {
     "name": "stdout",
     "output_type": "stream",
     "text": [
      "trying to get fixed json for summary\n"
     ]
    },
    {
     "name": "stderr",
     "output_type": "stream",
     "text": [
      " 66%|██████▌   | 546/825 [35:00<33:48,  7.27s/it]"
     ]
    },
    {
     "name": "stdout",
     "output_type": "stream",
     "text": [
      "trying to get fixed json for summary\n"
     ]
    },
    {
     "name": "stderr",
     "output_type": "stream",
     "text": [
      " 68%|██████▊   | 557/825 [35:27<18:17,  4.09s/it]"
     ]
    },
    {
     "name": "stdout",
     "output_type": "stream",
     "text": [
      "trying to get fixed json for summary\n"
     ]
    },
    {
     "name": "stderr",
     "output_type": "stream",
     "text": [
      " 68%|██████▊   | 558/825 [35:45<23:14,  5.22s/it]"
     ]
    },
    {
     "name": "stdout",
     "output_type": "stream",
     "text": [
      "trying to get fixed json for summary\n"
     ]
    },
    {
     "name": "stderr",
     "output_type": "stream",
     "text": [
      " 68%|██████▊   | 561/825 [36:14<27:52,  6.33s/it]"
     ]
    },
    {
     "name": "stdout",
     "output_type": "stream",
     "text": [
      "trying to get fixed json for summary\n"
     ]
    },
    {
     "name": "stderr",
     "output_type": "stream",
     "text": [
      " 68%|██████▊   | 562/825 [36:35<34:43,  7.92s/it]"
     ]
    },
    {
     "name": "stdout",
     "output_type": "stream",
     "text": [
      "trying to get fixed json for summary\n"
     ]
    },
    {
     "name": "stderr",
     "output_type": "stream",
     "text": [
      " 69%|██████▊   | 566/825 [36:48<26:11,  6.07s/it]"
     ]
    },
    {
     "name": "stdout",
     "output_type": "stream",
     "text": [
      "trying to get fixed json for summary\n"
     ]
    },
    {
     "name": "stderr",
     "output_type": "stream",
     "text": [
      " 69%|██████▉   | 570/825 [37:07<23:57,  5.64s/it]"
     ]
    },
    {
     "name": "stdout",
     "output_type": "stream",
     "text": [
      "trying to get fixed json for summary\n"
     ]
    },
    {
     "name": "stderr",
     "output_type": "stream",
     "text": [
      " 69%|██████▉   | 571/825 [37:30<32:15,  7.62s/it]"
     ]
    },
    {
     "name": "stdout",
     "output_type": "stream",
     "text": [
      "trying to get fixed json for summary\n"
     ]
    },
    {
     "name": "stderr",
     "output_type": "stream",
     "text": [
      " 70%|███████   | 578/825 [37:50<20:55,  5.08s/it]"
     ]
    },
    {
     "name": "stdout",
     "output_type": "stream",
     "text": [
      "trying to get fixed json for summary\n"
     ]
    },
    {
     "name": "stderr",
     "output_type": "stream",
     "text": [
      " 70%|███████   | 579/825 [38:15<28:54,  7.05s/it]"
     ]
    },
    {
     "name": "stdout",
     "output_type": "stream",
     "text": [
      "trying to get fixed json for summary\n"
     ]
    },
    {
     "name": "stderr",
     "output_type": "stream",
     "text": [
      " 71%|███████   | 582/825 [38:33<27:15,  6.73s/it]"
     ]
    },
    {
     "name": "stdout",
     "output_type": "stream",
     "text": [
      "trying to get fixed json for summary\n"
     ]
    },
    {
     "name": "stderr",
     "output_type": "stream",
     "text": [
      " 71%|███████   | 583/825 [38:43<28:28,  7.06s/it]"
     ]
    },
    {
     "name": "stdout",
     "output_type": "stream",
     "text": [
      "trying to get fixed json for summary\n"
     ]
    },
    {
     "name": "stderr",
     "output_type": "stream",
     "text": [
      " 72%|███████▏  | 591/825 [39:03<17:19,  4.44s/it]"
     ]
    },
    {
     "name": "stdout",
     "output_type": "stream",
     "text": [
      "trying to get fixed json for summary\n"
     ]
    },
    {
     "name": "stderr",
     "output_type": "stream",
     "text": [
      " 72%|███████▏  | 593/825 [39:19<19:19,  5.00s/it]"
     ]
    },
    {
     "name": "stdout",
     "output_type": "stream",
     "text": [
      "trying to get fixed json for summary\n"
     ]
    },
    {
     "name": "stderr",
     "output_type": "stream",
     "text": [
      " 72%|███████▏  | 596/825 [39:30<17:52,  4.68s/it]"
     ]
    },
    {
     "name": "stdout",
     "output_type": "stream",
     "text": [
      "trying to get fixed json for summary\n"
     ]
    },
    {
     "name": "stderr",
     "output_type": "stream",
     "text": [
      " 72%|███████▏  | 597/825 [39:49<24:09,  6.36s/it]"
     ]
    },
    {
     "name": "stdout",
     "output_type": "stream",
     "text": [
      "trying to get fixed json for summary\n"
     ]
    },
    {
     "name": "stderr",
     "output_type": "stream",
     "text": [
      " 73%|███████▎  | 603/825 [40:15<19:45,  5.34s/it]"
     ]
    },
    {
     "name": "stdout",
     "output_type": "stream",
     "text": [
      "trying to get fixed json for summary\n"
     ]
    },
    {
     "name": "stderr",
     "output_type": "stream",
     "text": [
      " 73%|███████▎  | 604/825 [40:29<22:57,  6.23s/it]"
     ]
    },
    {
     "name": "stdout",
     "output_type": "stream",
     "text": [
      "trying to get fixed json for summary\n"
     ]
    },
    {
     "name": "stderr",
     "output_type": "stream",
     "text": [
      " 73%|███████▎  | 605/825 [40:51<30:20,  8.28s/it]"
     ]
    },
    {
     "name": "stdout",
     "output_type": "stream",
     "text": [
      "trying to get fixed json for summary\n"
     ]
    },
    {
     "name": "stderr",
     "output_type": "stream",
     "text": [
      " 73%|███████▎  | 606/825 [41:23<43:38, 11.96s/it]"
     ]
    },
    {
     "name": "stdout",
     "output_type": "stream",
     "text": [
      "trying to get fixed json for summary\n"
     ]
    },
    {
     "name": "stderr",
     "output_type": "stream",
     "text": [
      " 74%|███████▎  | 607/825 [41:51<54:12, 14.92s/it]"
     ]
    },
    {
     "name": "stdout",
     "output_type": "stream",
     "text": [
      "trying to get fixed json for summary\n"
     ]
    },
    {
     "name": "stderr",
     "output_type": "stream",
     "text": [
      " 74%|███████▍  | 609/825 [42:11<48:00, 13.34s/it]"
     ]
    },
    {
     "name": "stdout",
     "output_type": "stream",
     "text": [
      "trying to get fixed json for summary\n"
     ]
    },
    {
     "name": "stderr",
     "output_type": "stream",
     "text": [
      " 74%|███████▍  | 610/825 [42:26<48:42, 13.59s/it]"
     ]
    },
    {
     "name": "stdout",
     "output_type": "stream",
     "text": [
      "trying to get fixed json for summary\n"
     ]
    },
    {
     "name": "stderr",
     "output_type": "stream",
     "text": [
      " 74%|███████▍  | 613/825 [42:49<38:21, 10.86s/it]"
     ]
    },
    {
     "name": "stdout",
     "output_type": "stream",
     "text": [
      "trying to get fixed json for summary\n"
     ]
    },
    {
     "name": "stderr",
     "output_type": "stream",
     "text": [
      " 74%|███████▍  | 614/825 [43:11<45:35, 12.97s/it]"
     ]
    },
    {
     "name": "stdout",
     "output_type": "stream",
     "text": [
      "trying to get fixed json for summary\n"
     ]
    },
    {
     "name": "stderr",
     "output_type": "stream",
     "text": [
      " 75%|███████▍  | 615/825 [43:38<55:02, 15.73s/it]"
     ]
    },
    {
     "name": "stdout",
     "output_type": "stream",
     "text": [
      "trying to get fixed json for summary\n"
     ]
    },
    {
     "name": "stderr",
     "output_type": "stream",
     "text": [
      " 75%|███████▍  | 616/825 [44:02<1:01:23, 17.62s/it]"
     ]
    },
    {
     "name": "stdout",
     "output_type": "stream",
     "text": [
      "trying to get fixed json for summary\n"
     ]
    },
    {
     "name": "stderr",
     "output_type": "stream",
     "text": [
      " 75%|███████▍  | 617/825 [44:23<1:03:52, 18.43s/it]"
     ]
    },
    {
     "name": "stdout",
     "output_type": "stream",
     "text": [
      "trying to get fixed json for summary\n"
     ]
    },
    {
     "name": "stderr",
     "output_type": "stream",
     "text": [
      " 75%|███████▌  | 620/825 [44:40<40:52, 11.96s/it]  "
     ]
    },
    {
     "name": "stdout",
     "output_type": "stream",
     "text": [
      "trying to get fixed json for summary\n"
     ]
    },
    {
     "name": "stderr",
     "output_type": "stream",
     "text": [
      " 75%|███████▌  | 621/825 [45:08<51:19, 15.10s/it]"
     ]
    },
    {
     "name": "stdout",
     "output_type": "stream",
     "text": [
      "trying to get fixed json for summary\n"
     ]
    },
    {
     "name": "stderr",
     "output_type": "stream",
     "text": [
      " 76%|███████▌  | 627/825 [45:35<27:40,  8.39s/it]"
     ]
    },
    {
     "name": "stdout",
     "output_type": "stream",
     "text": [
      "trying to get fixed json for summary\n"
     ]
    },
    {
     "name": "stderr",
     "output_type": "stream",
     "text": [
      " 76%|███████▌  | 629/825 [45:53<27:56,  8.56s/it]"
     ]
    },
    {
     "name": "stdout",
     "output_type": "stream",
     "text": [
      "trying to get fixed json for summary\n"
     ]
    },
    {
     "name": "stderr",
     "output_type": "stream",
     "text": [
      " 76%|███████▋  | 630/825 [46:09<31:26,  9.67s/it]"
     ]
    },
    {
     "name": "stdout",
     "output_type": "stream",
     "text": [
      "trying to get fixed json for summary\n"
     ]
    },
    {
     "name": "stderr",
     "output_type": "stream",
     "text": [
      " 77%|███████▋  | 636/825 [46:21<17:13,  5.47s/it]"
     ]
    },
    {
     "name": "stdout",
     "output_type": "stream",
     "text": [
      "trying to get fixed json for summary\n"
     ]
    },
    {
     "name": "stderr",
     "output_type": "stream",
     "text": [
      " 77%|███████▋  | 638/825 [46:36<18:22,  5.89s/it]"
     ]
    },
    {
     "name": "stdout",
     "output_type": "stream",
     "text": [
      "trying to get fixed json for summary\n"
     ]
    },
    {
     "name": "stderr",
     "output_type": "stream",
     "text": [
      " 78%|███████▊  | 640/825 [46:56<20:55,  6.79s/it]"
     ]
    },
    {
     "name": "stdout",
     "output_type": "stream",
     "text": [
      "trying to get fixed json for summary\n"
     ]
    },
    {
     "name": "stderr",
     "output_type": "stream",
     "text": [
      " 78%|███████▊  | 645/825 [47:15<16:14,  5.41s/it]"
     ]
    },
    {
     "name": "stdout",
     "output_type": "stream",
     "text": [
      "trying to get fixed json for summary\n"
     ]
    },
    {
     "name": "stderr",
     "output_type": "stream",
     "text": [
      " 79%|███████▊  | 648/825 [47:38<17:53,  6.06s/it]"
     ]
    },
    {
     "name": "stdout",
     "output_type": "stream",
     "text": [
      "trying to get fixed json for summary\n"
     ]
    },
    {
     "name": "stderr",
     "output_type": "stream",
     "text": [
      " 79%|███████▊  | 649/825 [47:52<20:27,  6.97s/it]"
     ]
    },
    {
     "name": "stdout",
     "output_type": "stream",
     "text": [
      "trying to get fixed json for summary\n"
     ]
    },
    {
     "name": "stderr",
     "output_type": "stream",
     "text": [
      " 79%|███████▉  | 652/825 [48:15<20:51,  7.24s/it]"
     ]
    },
    {
     "name": "stdout",
     "output_type": "stream",
     "text": [
      "trying to get fixed json for summary\n"
     ]
    },
    {
     "name": "stderr",
     "output_type": "stream",
     "text": [
      " 79%|███████▉  | 655/825 [48:27<17:37,  6.22s/it]"
     ]
    },
    {
     "name": "stdout",
     "output_type": "stream",
     "text": [
      "trying to get fixed json for summary\n"
     ]
    },
    {
     "name": "stderr",
     "output_type": "stream",
     "text": [
      " 80%|███████▉  | 657/825 [48:42<18:08,  6.48s/it]"
     ]
    },
    {
     "name": "stdout",
     "output_type": "stream",
     "text": [
      "trying to get fixed json for summary\n"
     ]
    },
    {
     "name": "stderr",
     "output_type": "stream",
     "text": [
      " 80%|███████▉  | 659/825 [49:14<24:39,  8.91s/it]"
     ]
    },
    {
     "name": "stdout",
     "output_type": "stream",
     "text": [
      "trying to get fixed json for summary\n"
     ]
    },
    {
     "name": "stderr",
     "output_type": "stream",
     "text": [
      " 80%|████████  | 661/825 [49:30<23:45,  8.69s/it]"
     ]
    },
    {
     "name": "stdout",
     "output_type": "stream",
     "text": [
      "trying to get fixed json for summary\n"
     ]
    },
    {
     "name": "stderr",
     "output_type": "stream",
     "text": [
      " 80%|████████  | 662/825 [49:57<31:28, 11.59s/it]"
     ]
    },
    {
     "name": "stdout",
     "output_type": "stream",
     "text": [
      "trying to get fixed json for summary\n"
     ]
    },
    {
     "name": "stderr",
     "output_type": "stream",
     "text": [
      " 82%|████████▏ | 675/825 [50:17<10:12,  4.09s/it]"
     ]
    },
    {
     "name": "stdout",
     "output_type": "stream",
     "text": [
      "trying to get fixed json for summary\n"
     ]
    },
    {
     "name": "stderr",
     "output_type": "stream",
     "text": [
      " 82%|████████▏ | 678/825 [50:53<13:50,  5.65s/it]"
     ]
    },
    {
     "name": "stdout",
     "output_type": "stream",
     "text": [
      "65316ef41e5cc42b1b13ea81 error 2\n",
      "trying to get fixed json for summary\n"
     ]
    },
    {
     "name": "stderr",
     "output_type": "stream",
     "text": [
      " 83%|████████▎ | 681/825 [51:13<13:57,  5.82s/it]"
     ]
    },
    {
     "name": "stdout",
     "output_type": "stream",
     "text": [
      "trying to get fixed json for summary\n"
     ]
    },
    {
     "name": "stderr",
     "output_type": "stream",
     "text": [
      " 83%|████████▎ | 683/825 [51:37<16:28,  6.96s/it]"
     ]
    },
    {
     "name": "stdout",
     "output_type": "stream",
     "text": [
      "trying to get fixed json for summary\n"
     ]
    },
    {
     "name": "stderr",
     "output_type": "stream",
     "text": [
      " 83%|████████▎ | 686/825 [51:58<16:02,  6.93s/it]"
     ]
    },
    {
     "name": "stdout",
     "output_type": "stream",
     "text": [
      "trying to get fixed json for summary\n"
     ]
    },
    {
     "name": "stderr",
     "output_type": "stream",
     "text": [
      " 83%|████████▎ | 688/825 [52:18<17:19,  7.59s/it]"
     ]
    },
    {
     "name": "stdout",
     "output_type": "stream",
     "text": [
      "trying to get fixed json for summary\n"
     ]
    },
    {
     "name": "stderr",
     "output_type": "stream",
     "text": [
      " 84%|████████▎ | 689/825 [52:36<20:15,  8.94s/it]"
     ]
    },
    {
     "name": "stdout",
     "output_type": "stream",
     "text": [
      "trying to get fixed json for summary\n"
     ]
    },
    {
     "name": "stderr",
     "output_type": "stream",
     "text": [
      " 84%|████████▎ | 690/825 [52:55<23:23, 10.40s/it]"
     ]
    },
    {
     "name": "stdout",
     "output_type": "stream",
     "text": [
      "trying to get fixed json for summary\n"
     ]
    },
    {
     "name": "stderr",
     "output_type": "stream",
     "text": [
      " 84%|████████▍ | 691/825 [53:22<29:52, 13.38s/it]"
     ]
    },
    {
     "name": "stdout",
     "output_type": "stream",
     "text": [
      "trying to get fixed json for summary\n"
     ]
    },
    {
     "name": "stderr",
     "output_type": "stream",
     "text": [
      " 84%|████████▍ | 695/825 [53:36<18:04,  8.34s/it]"
     ]
    },
    {
     "name": "stdout",
     "output_type": "stream",
     "text": [
      "trying to get fixed json for summary\n"
     ]
    },
    {
     "name": "stderr",
     "output_type": "stream",
     "text": [
      " 84%|████████▍ | 697/825 [53:58<19:19,  9.06s/it]"
     ]
    },
    {
     "name": "stdout",
     "output_type": "stream",
     "text": [
      "trying to get fixed json for summary\n"
     ]
    },
    {
     "name": "stderr",
     "output_type": "stream",
     "text": [
      " 85%|████████▌ | 705/825 [54:12<09:18,  4.66s/it]"
     ]
    },
    {
     "name": "stdout",
     "output_type": "stream",
     "text": [
      "trying to get fixed json for summary\n"
     ]
    },
    {
     "name": "stderr",
     "output_type": "stream",
     "text": [
      " 86%|████████▌ | 707/825 [54:28<10:19,  5.25s/it]"
     ]
    },
    {
     "name": "stdout",
     "output_type": "stream",
     "text": [
      "trying to get fixed json for summary\n"
     ]
    },
    {
     "name": "stderr",
     "output_type": "stream",
     "text": [
      " 86%|████████▌ | 708/825 [54:47<13:18,  6.82s/it]"
     ]
    },
    {
     "name": "stdout",
     "output_type": "stream",
     "text": [
      "trying to get fixed json for summary\n"
     ]
    },
    {
     "name": "stderr",
     "output_type": "stream",
     "text": [
      " 87%|████████▋ | 718/825 [55:01<06:09,  3.46s/it]"
     ]
    },
    {
     "name": "stdout",
     "output_type": "stream",
     "text": [
      "trying to get fixed json for summary\n"
     ]
    },
    {
     "name": "stderr",
     "output_type": "stream",
     "text": [
      " 87%|████████▋ | 719/825 [55:18<08:06,  4.59s/it]"
     ]
    },
    {
     "name": "stdout",
     "output_type": "stream",
     "text": [
      "trying to get fixed json for summary\n"
     ]
    },
    {
     "name": "stderr",
     "output_type": "stream",
     "text": [
      " 87%|████████▋ | 721/825 [55:38<09:42,  5.60s/it]"
     ]
    },
    {
     "name": "stdout",
     "output_type": "stream",
     "text": [
      "trying to get fixed json for summary\n"
     ]
    },
    {
     "name": "stderr",
     "output_type": "stream",
     "text": [
      " 88%|████████▊ | 722/825 [55:59<12:42,  7.40s/it]"
     ]
    },
    {
     "name": "stdout",
     "output_type": "stream",
     "text": [
      "trying to get fixed json for summary\n"
     ]
    },
    {
     "name": "stderr",
     "output_type": "stream",
     "text": [
      " 88%|████████▊ | 724/825 [56:14<12:26,  7.39s/it]"
     ]
    },
    {
     "name": "stdout",
     "output_type": "stream",
     "text": [
      "trying to get fixed json for summary\n"
     ]
    },
    {
     "name": "stderr",
     "output_type": "stream",
     "text": [
      " 88%|████████▊ | 725/825 [56:33<15:25,  9.26s/it]"
     ]
    },
    {
     "name": "stdout",
     "output_type": "stream",
     "text": [
      "trying to get fixed json for summary\n"
     ]
    },
    {
     "name": "stderr",
     "output_type": "stream",
     "text": [
      " 88%|████████▊ | 726/825 [56:49<17:13, 10.44s/it]"
     ]
    },
    {
     "name": "stdout",
     "output_type": "stream",
     "text": [
      "trying to get fixed json for summary\n"
     ]
    },
    {
     "name": "stderr",
     "output_type": "stream",
     "text": [
      " 88%|████████▊ | 728/825 [57:10<16:57, 10.49s/it]"
     ]
    },
    {
     "name": "stdout",
     "output_type": "stream",
     "text": [
      "trying to get fixed json for summary\n"
     ]
    },
    {
     "name": "stderr",
     "output_type": "stream",
     "text": [
      " 88%|████████▊ | 730/825 [57:19<13:33,  8.56s/it]"
     ]
    },
    {
     "name": "stdout",
     "output_type": "stream",
     "text": [
      "trying to get fixed json for summary\n"
     ]
    },
    {
     "name": "stderr",
     "output_type": "stream",
     "text": [
      " 89%|████████▊ | 732/825 [57:38<13:33,  8.75s/it]"
     ]
    },
    {
     "name": "stdout",
     "output_type": "stream",
     "text": [
      "trying to get fixed json for summary\n"
     ]
    },
    {
     "name": "stderr",
     "output_type": "stream",
     "text": [
      " 89%|████████▉ | 733/825 [57:56<16:12, 10.58s/it]"
     ]
    },
    {
     "name": "stdout",
     "output_type": "stream",
     "text": [
      "trying to get fixed json for summary\n"
     ]
    },
    {
     "name": "stderr",
     "output_type": "stream",
     "text": [
      " 89%|████████▉ | 736/825 [58:14<12:33,  8.47s/it]"
     ]
    },
    {
     "name": "stdout",
     "output_type": "stream",
     "text": [
      "trying to get fixed json for summary\n"
     ]
    },
    {
     "name": "stderr",
     "output_type": "stream",
     "text": [
      " 89%|████████▉ | 738/825 [58:29<11:59,  8.26s/it]"
     ]
    },
    {
     "name": "stdout",
     "output_type": "stream",
     "text": [
      "trying to get fixed json for summary\n"
     ]
    },
    {
     "name": "stderr",
     "output_type": "stream",
     "text": [
      " 90%|████████▉ | 739/825 [58:53<15:45, 11.00s/it]"
     ]
    },
    {
     "name": "stdout",
     "output_type": "stream",
     "text": [
      "trying to get fixed json for summary\n"
     ]
    },
    {
     "name": "stderr",
     "output_type": "stream",
     "text": [
      " 91%|█████████ | 748/825 [59:13<06:17,  4.90s/it]"
     ]
    },
    {
     "name": "stdout",
     "output_type": "stream",
     "text": [
      "trying to get fixed json for summary\n"
     ]
    },
    {
     "name": "stderr",
     "output_type": "stream",
     "text": [
      " 91%|█████████ | 750/825 [59:36<07:37,  6.10s/it]"
     ]
    },
    {
     "name": "stdout",
     "output_type": "stream",
     "text": [
      "trying to get fixed json for summary\n"
     ]
    },
    {
     "name": "stderr",
     "output_type": "stream",
     "text": [
      " 92%|█████████▏| 757/825 [59:53<04:57,  4.37s/it]"
     ]
    },
    {
     "name": "stdout",
     "output_type": "stream",
     "text": [
      "trying to get fixed json for summary\n"
     ]
    },
    {
     "name": "stderr",
     "output_type": "stream",
     "text": [
      " 92%|█████████▏| 763/825 [1:00:19<04:30,  4.36s/it]"
     ]
    },
    {
     "name": "stdout",
     "output_type": "stream",
     "text": [
      "trying to get fixed json for summary\n"
     ]
    },
    {
     "name": "stderr",
     "output_type": "stream",
     "text": [
      " 93%|█████████▎| 764/825 [1:00:37<05:30,  5.42s/it]"
     ]
    },
    {
     "name": "stdout",
     "output_type": "stream",
     "text": [
      "trying to get fixed json for summary\n"
     ]
    },
    {
     "name": "stderr",
     "output_type": "stream",
     "text": [
      " 93%|█████████▎| 765/825 [1:00:53<06:34,  6.58s/it]"
     ]
    },
    {
     "name": "stdout",
     "output_type": "stream",
     "text": [
      "trying to get fixed json for summary\n"
     ]
    },
    {
     "name": "stderr",
     "output_type": "stream",
     "text": [
      " 93%|█████████▎| 768/825 [1:01:14<06:18,  6.64s/it]"
     ]
    },
    {
     "name": "stdout",
     "output_type": "stream",
     "text": [
      "trying to get fixed json for summary\n"
     ]
    },
    {
     "name": "stderr",
     "output_type": "stream",
     "text": [
      " 94%|█████████▎| 773/825 [1:01:30<04:30,  5.20s/it]"
     ]
    },
    {
     "name": "stdout",
     "output_type": "stream",
     "text": [
      "trying to get fixed json for summary\n"
     ]
    },
    {
     "name": "stderr",
     "output_type": "stream",
     "text": [
      " 94%|█████████▍| 778/825 [1:01:44<03:23,  4.34s/it]"
     ]
    },
    {
     "name": "stdout",
     "output_type": "stream",
     "text": [
      "trying to get fixed json for summary\n"
     ]
    },
    {
     "name": "stderr",
     "output_type": "stream",
     "text": [
      " 94%|█████████▍| 779/825 [1:02:06<04:34,  5.98s/it]"
     ]
    },
    {
     "name": "stdout",
     "output_type": "stream",
     "text": [
      "trying to get fixed json for summary\n"
     ]
    },
    {
     "name": "stderr",
     "output_type": "stream",
     "text": [
      " 95%|█████████▍| 780/825 [1:02:26<05:49,  7.77s/it]"
     ]
    },
    {
     "name": "stdout",
     "output_type": "stream",
     "text": [
      "trying to get fixed json for summary\n"
     ]
    },
    {
     "name": "stderr",
     "output_type": "stream",
     "text": [
      " 95%|█████████▍| 781/825 [1:02:44<06:46,  9.24s/it]"
     ]
    },
    {
     "name": "stdout",
     "output_type": "stream",
     "text": [
      "trying to get fixed json for summary\n"
     ]
    },
    {
     "name": "stderr",
     "output_type": "stream",
     "text": [
      " 95%|█████████▍| 782/825 [1:02:57<07:02,  9.82s/it]"
     ]
    },
    {
     "name": "stdout",
     "output_type": "stream",
     "text": [
      "trying to get fixed json for summary\n"
     ]
    },
    {
     "name": "stderr",
     "output_type": "stream",
     "text": [
      " 95%|█████████▍| 783/825 [1:03:29<10:03, 14.38s/it]"
     ]
    },
    {
     "name": "stdout",
     "output_type": "stream",
     "text": [
      "trying to get fixed json for summary\n"
     ]
    },
    {
     "name": "stderr",
     "output_type": "stream",
     "text": [
      " 95%|█████████▌| 784/825 [1:03:50<10:45, 15.74s/it]"
     ]
    },
    {
     "name": "stdout",
     "output_type": "stream",
     "text": [
      "trying to get fixed json for summary\n"
     ]
    },
    {
     "name": "stderr",
     "output_type": "stream",
     "text": [
      " 96%|█████████▌| 788/825 [1:04:07<05:45,  9.34s/it]"
     ]
    },
    {
     "name": "stdout",
     "output_type": "stream",
     "text": [
      "trying to get fixed json for summary\n"
     ]
    },
    {
     "name": "stderr",
     "output_type": "stream",
     "text": [
      " 96%|█████████▋| 795/825 [1:04:31<02:55,  5.86s/it]"
     ]
    },
    {
     "name": "stdout",
     "output_type": "stream",
     "text": [
      "trying to get fixed json for summary\n"
     ]
    },
    {
     "name": "stderr",
     "output_type": "stream",
     "text": [
      " 97%|█████████▋| 797/825 [1:04:55<03:19,  7.11s/it]"
     ]
    },
    {
     "name": "stdout",
     "output_type": "stream",
     "text": [
      "trying to get fixed json for summary\n"
     ]
    },
    {
     "name": "stderr",
     "output_type": "stream",
     "text": [
      " 97%|█████████▋| 800/825 [1:05:11<02:44,  6.60s/it]"
     ]
    },
    {
     "name": "stdout",
     "output_type": "stream",
     "text": [
      "trying to get fixed json for summary\n"
     ]
    },
    {
     "name": "stderr",
     "output_type": "stream",
     "text": [
      " 97%|█████████▋| 803/825 [1:05:30<02:22,  6.48s/it]"
     ]
    },
    {
     "name": "stdout",
     "output_type": "stream",
     "text": [
      "trying to get fixed json for summary\n"
     ]
    },
    {
     "name": "stderr",
     "output_type": "stream",
     "text": [
      " 97%|█████████▋| 804/825 [1:05:45<02:38,  7.56s/it]"
     ]
    },
    {
     "name": "stdout",
     "output_type": "stream",
     "text": [
      "trying to get fixed json for summary\n"
     ]
    },
    {
     "name": "stderr",
     "output_type": "stream",
     "text": [
      " 98%|█████████▊| 805/825 [1:06:04<03:03,  9.20s/it]"
     ]
    },
    {
     "name": "stdout",
     "output_type": "stream",
     "text": [
      "trying to get fixed json for summary\n"
     ]
    },
    {
     "name": "stderr",
     "output_type": "stream",
     "text": [
      " 98%|█████████▊| 810/825 [1:06:22<01:35,  6.34s/it]"
     ]
    },
    {
     "name": "stdout",
     "output_type": "stream",
     "text": [
      "trying to get fixed json for summary\n"
     ]
    },
    {
     "name": "stderr",
     "output_type": "stream",
     "text": [
      " 99%|█████████▉| 816/825 [1:06:37<00:40,  4.54s/it]"
     ]
    },
    {
     "name": "stdout",
     "output_type": "stream",
     "text": [
      "trying to get fixed json for summary\n"
     ]
    },
    {
     "name": "stderr",
     "output_type": "stream",
     "text": [
      " 99%|█████████▉| 817/825 [1:06:55<00:46,  5.86s/it]"
     ]
    },
    {
     "name": "stdout",
     "output_type": "stream",
     "text": [
      "trying to get fixed json for summary\n"
     ]
    },
    {
     "name": "stderr",
     "output_type": "stream",
     "text": [
      " 99%|█████████▉| 818/825 [1:07:17<00:55,  7.90s/it]"
     ]
    },
    {
     "name": "stdout",
     "output_type": "stream",
     "text": [
      "trying to get fixed json for summary\n"
     ]
    },
    {
     "name": "stderr",
     "output_type": "stream",
     "text": [
      "100%|█████████▉| 821/825 [1:07:31<00:27,  6.81s/it]"
     ]
    },
    {
     "name": "stdout",
     "output_type": "stream",
     "text": [
      "trying to get fixed json for summary\n"
     ]
    },
    {
     "name": "stderr",
     "output_type": "stream",
     "text": [
      "100%|█████████▉| 822/825 [1:07:55<00:27,  9.17s/it]"
     ]
    },
    {
     "name": "stdout",
     "output_type": "stream",
     "text": [
      "trying to get fixed json for summary\n"
     ]
    },
    {
     "name": "stderr",
     "output_type": "stream",
     "text": [
      "100%|██████████| 825/825 [1:08:09<00:00,  4.96s/it]\n"
     ]
    }
   ],
   "source": [
    "standardized_responses = {}\n",
    "errenous_summaries = []\n",
    "for art_id in td.tqdm(article_wise_responses.keys()):\n",
    "    response = article_wise_responses[art_id]['response']\n",
    "    expected_keys_1 = ['analysis_is_financial_or_business_news', 'is_financial_or_business_news', 'analysis_of_relevant_for_india', 'relevant_for_india',\n",
    "                        'analysis_of_article_validity_duration', 'article_validity_duration', 'analysis_of_popularity', 'popularity', 'analysis_of_article_type', 'article_type', \n",
    "                        'analysis_of_article_sentiment', 'article_sentiment', 'headline_suggestion']\n",
    "    expected_keys_2 = ['summary_list']\n",
    "    if isinstance(response, list):\n",
    "        res = {}\n",
    "        for ele in response:\n",
    "            res.update(ele)\n",
    "        response = res\n",
    "        # response = deepcopy(article_wise_responses[art_id]['response'][0])\n",
    "        # try:\n",
    "        #     response.update(article_wise_responses[art_id]['response'][1])\n",
    "        # except:\n",
    "        #     pass\n",
    "        # assert sorted(set(response[0].keys()).intersection(expected_keys_1)) == sorted(expected_keys_1), f\"{art_id}\"\n",
    "        # assert set(response[1].keys()) == expected_keys_2\n",
    "        # try:\n",
    "        #     summaries = json.loads(response[1]['summary_list'])\n",
    "        # except:\n",
    "        #     errenous_summaries.append(art_id)\n",
    "        #     continue\n",
    "        #     # print(f'articleId is {art_id}')\n",
    "        #     # summaries = correct_json_using_gpt(summary_json = response[1]['summary_list'])\n",
    "        # assert isinstance(summaries, list)\n",
    "        # assert len(summaries) == 3\n",
    "        # for summary in summaries:\n",
    "        #     assert 'missing_entities' in summary and 'denser_summary' in summary\n",
    "        # standardized_responses[art_id] = []\n",
    "        # standardized_responses[art_id].append(response[1])\n",
    "        # standardized_responses[art_id].append(summaries)\n",
    "        # elif isinstance(response, dict):\n",
    "    try:\n",
    "        assert sorted(set(response.keys()).intersection(set(expected_keys_1).union(set(expected_keys_2)))) == sorted(set(expected_keys_1).union(set(expected_keys_2)))\n",
    "    except:\n",
    "        errenous_summaries.append(art_id)\n",
    "        print(f'{art_id} error 0')\n",
    "        continue\n",
    "        # print(f'articleId is {art_id}')\n",
    "        # summaries = correct_json_using_gpt(summary_json = response['summary_list'])\n",
    "    try:\n",
    "        if isinstance(response['summary_list'], str):\n",
    "            summaries = json.loads(response['summary_list'])\n",
    "        elif isinstance(response['summary_list'], list):\n",
    "            summaries = response['summary_list']\n",
    "    except:\n",
    "        corrected_summary = correct_json_using_gpt(response['summary_list'])\n",
    "        try:\n",
    "            summaries = corrected_summary\n",
    "        except:\n",
    "            errenous_summaries.append(art_id)\n",
    "            print(f'{art_id} error 1')\n",
    "            continue\n",
    "    assert isinstance(summaries, list)\n",
    "    try:\n",
    "        assert len(summaries) == 3\n",
    "    except:\n",
    "        print(f'{art_id} error 2')\n",
    "        errenous_summaries.append(art_id)\n",
    "        continue\n",
    "    for summary in summaries:\n",
    "        try:\n",
    "            assert 'missing_entities' in summary and ('denser_summary' in summary or 'summary_text' in summary)\n",
    "            if 'summary_text' in summary:\n",
    "                summary['denser_summary'] = summary.pop('summary_text')\n",
    "        except:\n",
    "            print(f'{art_id} error 3')\n",
    "            errenous_summaries.append(art_id)\n",
    "            continue\n",
    "    standardized_responses[art_id] = {}\n",
    "    standardized_responses[art_id]['response'] = []\n",
    "    attribute_response = {}\n",
    "    for key in expected_keys_1:\n",
    "        attribute_response[key] = response[key]\n",
    "    standardized_responses[art_id]['response'].append(attribute_response)\n",
    "    standardized_responses[art_id]['response'].append(summaries)\n",
    "    standardized_responses[art_id]['content'] = article_wise_responses[art_id]['content']"
   ]
  },
  {
   "cell_type": "code",
   "execution_count": 163,
   "id": "49c6b2b9-b826-4a25-92e1-b0e80e30334c",
   "metadata": {
    "tags": []
   },
   "outputs": [
    {
     "data": {
      "text/plain": [
       "['6555ccc44b13023f934acd61',\n",
       " '651e0c73a662d76276b86a15',\n",
       " '651dd71da662d76276b7e3c2',\n",
       " '6555cb9f4b13023f9349fa71',\n",
       " '6555cba44b13023f9349fdd1',\n",
       " '6555cab84b13023f93495f7c',\n",
       " '6555c7ec4b13023f9348ee4a',\n",
       " '654cbbcadc4fa72a6c403e10',\n",
       " '6555c0084b13023f9348c97b',\n",
       " '6555ccd14b13023f934ad8ab',\n",
       " '651df9b1a662d76276b83c5d',\n",
       " '6555cbf64b13023f934a3718',\n",
       " '65316f1c1e5cc42b1b13efc1',\n",
       " '651e088ba662d76276b86119',\n",
       " '653168bd1e5cc42b1b13b78d',\n",
       " '655c5595eee55a44e0ac1e51',\n",
       " '6555c84a4b13023f934924ce',\n",
       " '651dca7ca662d76276b7c1c9',\n",
       " '651df878a662d76276b83979',\n",
       " '6555c80e4b13023f934901a6']"
      ]
     },
     "execution_count": 163,
     "metadata": {},
     "output_type": "execute_result"
    }
   ],
   "source": [
    "list(standardized_responses.keys())[-20:]"
   ]
  },
  {
   "cell_type": "code",
   "execution_count": 191,
   "id": "d28236d6-e273-4760-b4c4-3d4b513e579a",
   "metadata": {
    "tags": []
   },
   "outputs": [
    {
     "data": {
      "text/plain": [
       "821"
      ]
     },
     "execution_count": 191,
     "metadata": {},
     "output_type": "execute_result"
    }
   ],
   "source": [
    "len(standardized_responses.keys())"
   ]
  },
  {
   "cell_type": "code",
   "execution_count": 192,
   "id": "61ec6e32-a10d-472e-9c6a-a988c8ad8206",
   "metadata": {
    "tags": []
   },
   "outputs": [
    {
     "data": {
      "text/plain": [
       "4"
      ]
     },
     "execution_count": 192,
     "metadata": {},
     "output_type": "execute_result"
    }
   ],
   "source": [
    "len(errenous_summaries)"
   ]
  },
  {
   "cell_type": "code",
   "execution_count": 195,
   "id": "22e388dd-94f7-46ba-8c66-c1e2cfea644e",
   "metadata": {
    "tags": []
   },
   "outputs": [],
   "source": [
    "test_article_ids = list(df.iloc[:101].article_id.values)"
   ]
  },
  {
   "cell_type": "code",
   "execution_count": 196,
   "id": "84c7b6fb-57a6-478e-8ef3-03024023abfa",
   "metadata": {
    "tags": []
   },
   "outputs": [
    {
     "data": {
      "text/plain": [
       "100"
      ]
     },
     "execution_count": 196,
     "metadata": {},
     "output_type": "execute_result"
    }
   ],
   "source": [
    "len(set(test_article_ids).intersection(set(standardized_responses.keys())))"
   ]
  },
  {
   "cell_type": "code",
   "execution_count": 197,
   "id": "8253d7f8-20bd-4012-88ec-460c3033781d",
   "metadata": {
    "tags": []
   },
   "outputs": [],
   "source": [
    "train_article_ids = [x for x in standardized_responses.keys() if x not in test_article_ids]"
   ]
  },
  {
   "cell_type": "code",
   "execution_count": 201,
   "id": "9a565267-d044-41ce-ad0b-96ec449d53e4",
   "metadata": {
    "tags": []
   },
   "outputs": [
    {
     "data": {
      "text/plain": [
       "721"
      ]
     },
     "execution_count": 201,
     "metadata": {},
     "output_type": "execute_result"
    }
   ],
   "source": [
    "len(train_article_ids)"
   ]
  },
  {
   "cell_type": "code",
   "execution_count": 202,
   "id": "8cfbd00c-8d68-4a30-aefc-669609f37090",
   "metadata": {
    "tags": []
   },
   "outputs": [],
   "source": [
    "train_standardized_responses = {k: standardized_responses[k] for k in train_article_ids}"
   ]
  },
  {
   "cell_type": "code",
   "execution_count": 203,
   "id": "7b7637d7-b38a-4435-9a52-f7717b1f60ce",
   "metadata": {
    "tags": []
   },
   "outputs": [
    {
     "data": {
      "text/plain": [
       "721"
      ]
     },
     "execution_count": 203,
     "metadata": {},
     "output_type": "execute_result"
    }
   ],
   "source": [
    "len(train_standardized_responses)"
   ]
  },
  {
   "cell_type": "code",
   "execution_count": 204,
   "id": "565e5a2f-9a35-45de-880c-1370f51a160c",
   "metadata": {
    "tags": []
   },
   "outputs": [],
   "source": [
    "with open('train_set_full_27_nov.json', 'w') as f:\n",
    "    json.dump(train_standardized_responses, f)"
   ]
  },
  {
   "cell_type": "code",
   "execution_count": 205,
   "id": "9f5831ed-86e4-4170-93c7-4511754373bb",
   "metadata": {
    "tags": []
   },
   "outputs": [],
   "source": [
    "test_standardized_responses = {k: standardized_responses[k] for k in test_article_ids}"
   ]
  },
  {
   "cell_type": "code",
   "execution_count": 206,
   "id": "1a228670-bcc4-4c57-ae81-55397d9b7a8f",
   "metadata": {
    "tags": []
   },
   "outputs": [],
   "source": [
    "with open('test_set_full_27_nov.json', 'w') as f:\n",
    "    json.dump(test_standardized_responses, f)"
   ]
  },
  {
   "cell_type": "code",
   "execution_count": null,
   "id": "7f743138-ed01-408f-b937-9c56d169051a",
   "metadata": {},
   "outputs": [],
   "source": []
  }
 ],
 "metadata": {
  "kernelspec": {
   "display_name": "recoenv",
   "language": "python",
   "name": "recoenv"
  },
  "language_info": {
   "codemirror_mode": {
    "name": "ipython",
    "version": 3
   },
   "file_extension": ".py",
   "mimetype": "text/x-python",
   "name": "python",
   "nbconvert_exporter": "python",
   "pygments_lexer": "ipython3",
   "version": "3.11.5"
  }
 },
 "nbformat": 4,
 "nbformat_minor": 5
}
