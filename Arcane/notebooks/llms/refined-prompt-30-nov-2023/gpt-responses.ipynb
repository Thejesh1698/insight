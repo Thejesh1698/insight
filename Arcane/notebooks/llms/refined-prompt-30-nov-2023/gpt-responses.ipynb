{
 "cells": [
  {
   "cell_type": "code",
   "execution_count": 20,
   "id": "773d080b-7996-4291-be1d-4ed49ae163ac",
   "metadata": {
    "tags": []
   },
   "outputs": [],
   "source": [
    "import re\n",
    "import pandas as pd\n",
    "import numpy as np\n",
    "import openai\n",
    "import json\n",
    "import tiktoken\n",
    "from concurrent.futures import ThreadPoolExecutor, as_completed\n",
    "import time"
   ]
  },
  {
   "cell_type": "markdown",
   "id": "eeabd012-9b5e-4f63-b731-5f2cbb4da82f",
   "metadata": {},
   "source": [
    "### Calling GPT-4"
   ]
  },
  {
   "cell_type": "code",
   "execution_count": 3,
   "id": "189456ed-df7b-4e87-94c9-dcd823df8795",
   "metadata": {
    "tags": []
   },
   "outputs": [],
   "source": [
    "openai.api_key = ''"
   ]
  },
  {
   "cell_type": "code",
   "execution_count": 77,
   "id": "9446e20d-4a16-4c83-822b-9d3e8f252870",
   "metadata": {
    "tags": []
   },
   "outputs": [],
   "source": [
    "system_prompt = '''\n",
    "You are the chief editor for a leading Indian financial and business news website. You evaluate critical attributes of articles to gate keep content quality. For many attributes, you will first provide a brief analysis of 15 to 30 words, followed by assessment.\n",
    "\n",
    "1. analysis_of_financial_or_business_news (short text) : <analyse if article pertains to finance/business or not. government policies directly impacting indian corporations or investors are ok, but not if aren't>\n",
    "2. financial_or_business_news (True or False) : <True or False based on previous attribute>\n",
    "3. analysis_of_relevant_for_india (short text) : <analyse if article is relevant for indians. for example international articles about 401k or small foreign companies won't be relevant for india. however changes to fed interest rates or nasdaq or important news of large multinational corporations will be relevant>\n",
    "4. relevant_for_india (True or False) : <True or False based on previous attribute>\n",
    "5. analysis_of_article_validity_duration (short text) : <analyse relevance duration. Be stingy: Stock fluctuations, 1 day; significant policy changes - few days or a week; educational content with references to any regulations is 30 unless there are none - in which case is timeless. International news in India has shorter lifespan. breaking news are usually not timeless; quarterly analysis or results are usually valid for a 3 days, yearly analysis or results for a weeks and a much longer one for a month.>\n",
    "6. article_validity_duration (one of 1, 3, 7, 14, 30, -1) : <calculate number of days based on previous attribute. -1: timeless. 1: article is relevant only for that day. 3: for a couple of days. 7: for a week. 14: for a couple of weeks. 30: for a month>\n",
    "7. analysis_of_popularity (short text) : <analyse likely popularity of article - if its for niche audience, moderate_popularity or should be part of breaking_news section, depending on number of people who will be impacted by the news and the scale of the event. foreign entities known in india but not very popular will be mostly niche or rarely moderately popular. articles targeted to very specific business or pratices will be niche. infotainment business and financial articles with some drama are likely to be more popular. articles with a list of rules without compelling story-telling will be for niche audience>\n",
    "8. popularity (one of niche, moderately_popular, breaking_news) : <based on previous attribute>\n",
    "9. analysis_of_article_type (short text) : <analyse if the article is majorly factual, is an opinion piece, analysis, educational or likely sponsored. factual articles pass on information on events. opinion pieces have inferences or predictions either from the author or from statements without data. analysis pieces have substantial data to justify their inferences or predictions. if an article is overly zealous on certain stock and seems like an ad, then it is sponsored>\n",
    "10. article_type (one of fact, opinion, analysis, educational, sponsored) : <based on previous attribute>\n",
    "11. analysis_of_article_sentiment (short_text): <analyse if the sentiment of the article is bullish, bearish or NA. balanced is NA>\n",
    "12. article_sentiment (one of bull, bear, NA): <based on previous attribute>\n",
    "13. headline_suggestion (short text) : <Write a headline based on the content of the article>\n",
    "14. first_attempt_summary (text of 60 words) : <Generate concise, entity-dense summary. The summary should become highly dense but easily understood without the Article. Don't keep the summary too short, but limit it to no more than 60 words>\n",
    "15. improved_summary (text of 60 words): <Identify contents of the article which are missing from the previous summary but are important part of the article>\n",
    "16. final_summary (text of 60 words): <The finalised summary which is a mixture of first_attempt_summary and improved_summary. This summary should be very dense and also all the important information of the article and yet concise. By reading this in most cases the users need not read the article>\n",
    "17. categories_hierarchy (5 semi colon seperated categories): <Hierarchy of 5 categories or keywords. Start with a generic category and make it progressively specific. Select only 5 and seperate them by (;). Don't use either single or double quotes at any cost to avoid json.loads() failure>\n",
    "\n",
    "your response should be a json structure with all the 17 above keys without missing any key. It is very important that the response is directly readable with json.loads(). no preamble or postamble. respond in the exact following structure:\n",
    "\n",
    "{\n",
    "\"analysis_of_financial_or_business_news\": \"\",\n",
    "\"financial_or_business_news\": \"\",\n",
    "\"analysis_of_relevant_for_india\": \"\",\n",
    "\"relevant_for_india\": \"\",\n",
    "\"analysis_of_article_validity_duration\": \"\",\n",
    "\"article_validity_duration\": \"\",\n",
    "\"analysis_of_popularity\": \"\",\n",
    "\"popularity\": \"\",\n",
    "\"analysis_of_article_type\": \"\",\n",
    "\"article_type\": \"\",\n",
    "\"analysis_of_article_sentiment\": \"\",\n",
    "\"article_sentiment\": \"\",\n",
    "\"headline_suggestion\": \"\",\n",
    "\"first_attempt_summary\": \"\",\n",
    "\"improved_summary\": \"\",\n",
    "\"final_summary\": \"\",\n",
    "\"top_categories\": \"\"\n",
    "}\n",
    "\n",
    "|article_start|\n",
    "'''"
   ]
  },
  {
   "cell_type": "code",
   "execution_count": 5,
   "id": "39f5938e-9385-41d2-bb4e-12a2890736c1",
   "metadata": {
    "tags": []
   },
   "outputs": [],
   "source": [
    "shortlisted_articles = pd.read_csv('shortlisted_articles_30_Nov_23.csv')"
   ]
  },
  {
   "cell_type": "code",
   "execution_count": 6,
   "id": "c3cc7d2d-a638-48c1-af9e-5c5cd4480942",
   "metadata": {
    "tags": []
   },
   "outputs": [],
   "source": [
    "def calculate_tokens(text, encoder):  # Placeholder for your actual token calculation function\n",
    "    # Your implementation will go here.\n",
    "    return len(encoder.encode(text))  # Example: counting characters as tokens\n",
    "\n",
    "def truncate_text_for_token_limit(text,encoder, token_limit):\n",
    "    # First, check if the whole text is under the token limit\n",
    "    if calculate_tokens(text, encoder) <= token_limit:\n",
    "        return text  # The entire text is within the limit\n",
    "\n",
    "    def is_under_limit(index):\n",
    "        # Use the provided function to calculate tokens for the substring\n",
    "        return calculate_tokens(text[:index], encoder) <= token_limit\n",
    "\n",
    "    left, right = 0, len(text)\n",
    "    valid_limit = 0  # This will hold the index of the last valid token position\n",
    "\n",
    "    # Binary search to find the token limit\n",
    "    while left <= right:\n",
    "        mid = (left + right) // 2  # Find the midpoint\n",
    "        if is_under_limit(mid):\n",
    "            # If the midpoint is under the limit, store it as a valid limit\n",
    "            valid_limit = mid\n",
    "            left = mid + 1  # Move the left boundary to the right\n",
    "        else:\n",
    "            right = mid - 1  # Move the right boundary to the left\n",
    "\n",
    "    # Find the last space before the valid_limit to ensure we're at a word boundary\n",
    "    space_index = text.rfind(' ', 0, valid_limit)\n",
    "    if space_index == -1:\n",
    "        # If there's no space, we've hit the start of the text\n",
    "        return text[:valid_limit]  # Return up to the valid limit even if mid-word\n",
    "\n",
    "    # Return the text up to the last word within the token limit\n",
    "    return text[:space_index]"
   ]
  },
  {
   "cell_type": "code",
   "execution_count": 7,
   "id": "6d789693-d7d7-42cc-9e4a-30ff4ca5927b",
   "metadata": {
    "tags": []
   },
   "outputs": [],
   "source": [
    "model = 'gpt-4'"
   ]
  },
  {
   "cell_type": "code",
   "execution_count": 8,
   "id": "a3e9a903-0f69-4d41-a9c9-0defc3f1ddbf",
   "metadata": {
    "tags": []
   },
   "outputs": [],
   "source": [
    "from datetime import datetime"
   ]
  },
  {
   "cell_type": "code",
   "execution_count": 9,
   "id": "97b91db9-1838-44e0-b116-039e7c8bb9b7",
   "metadata": {
    "tags": []
   },
   "outputs": [],
   "source": [
    "def parse_gpt_api_response(article_id, system_prompt, user_prompt, api_response):\n",
    "    # Load the response into a dictionary if it's a string\n",
    "    if isinstance(api_response, str):\n",
    "        api_response = json.loads(api_response)\n",
    "    \n",
    "    # Extract the required information from the response\n",
    "    id = api_response.get('id')\n",
    "    model = api_response.get('model')\n",
    "    prompt_tokens = api_response['usage'].get('prompt_tokens')\n",
    "    completion_tokens = api_response['usage'].get('completion_tokens')\n",
    "    json_generated = False\n",
    "    try:\n",
    "        content = json.loads(api_response['choices'][0]['message']['content'])\n",
    "        json_generated = True\n",
    "    except:\n",
    "        print(f'trying to get fixed json for articleId {article_id}')\n",
    "        improved_api_response = openai.ChatCompletion.create(model = 'gpt-4', messages = [{'role': 'system', 'content': 'fix the following json to be readable using json.loads(). simply out the new json. no preamble and no postamble'}, {'role': 'user', 'content': api_response['choices'][0]['message']['content']}])\n",
    "        try:\n",
    "            content = json.loads(improved_api_response['choices'][0]['message']['content'])\n",
    "            json_generated = True\n",
    "        except:\n",
    "            content = api_response['choices'][0]['message']['content']\n",
    "            print(f'json not properly generated for {article_id} at {\"{:%b %d, %Y %H:%M}\".format(datetime.now())}')\n",
    "    # Build the dictionary with the required information\n",
    "    extracted_data = {\n",
    "        'article_id': article_id,\n",
    "        'system_prompt': system_prompt,\n",
    "        'user_prompt': user_prompt,\n",
    "        'model': model,\n",
    "        'content': json.dumps(content),\n",
    "        'prompt_tokens': prompt_tokens,\n",
    "        'completion_tokens': completion_tokens,\n",
    "        'proper_json_generated': json_generated\n",
    "    }\n",
    "\n",
    "    return extracted_data"
   ]
  },
  {
   "cell_type": "code",
   "execution_count": 10,
   "id": "32b9155e-c1ce-42f7-a5c9-e32e8bf32eca",
   "metadata": {
    "tags": []
   },
   "outputs": [],
   "source": [
    "from tqdm.notebook import tqdm"
   ]
  },
  {
   "cell_type": "code",
   "execution_count": 11,
   "id": "78dd5834-eab1-4f0a-b9ea-6e5c3f3ff8da",
   "metadata": {
    "tags": []
   },
   "outputs": [],
   "source": [
    "import json"
   ]
  },
  {
   "cell_type": "code",
   "execution_count": 12,
   "id": "b2f399a1-6df0-4df0-ab30-9285e9275f5e",
   "metadata": {
    "tags": []
   },
   "outputs": [],
   "source": [
    "model = 'gpt-4'\n",
    "encoder = tiktoken.encoding_for_model(model)\n",
    "num_system_tokens = len(encoder.encode(system_prompt))\n",
    "output_tokens = 1024\n",
    "total_tokens = 4096\n",
    "available_tokens = total_tokens - num_system_tokens - output_tokens"
   ]
  },
  {
   "cell_type": "code",
   "execution_count": 43,
   "id": "853a1cdd-a122-4611-aa95-104e755c8e28",
   "metadata": {
    "tags": []
   },
   "outputs": [],
   "source": [
    "def fetch_save_attributes(article_row):\n",
    "    truncated_content = truncate_text_for_token_limit(text=article_row.full_content, encoder=encoder, token_limit=available_tokens)\n",
    "    try:\n",
    "        res_gpt = openai.ChatCompletion.create(model = model, messages = [{'role': 'system', 'content': system_prompt.replace('\\n',' ')}, {'role': 'user', 'content': f'{truncated_content}|article_end|'}])\n",
    "        parsed_res = parse_gpt_api_response(article_id=article_row.article_id, system_prompt=system_prompt, user_prompt=truncated_content, api_response=res_gpt)\n",
    "        cur_df = pd.DataFrame(parsed_res, index = ['i',])\n",
    "        cur_df.to_csv('gpt-4-responses-1-dec.csv',header=None, mode='a')\n",
    "        return True\n",
    "    except:\n",
    "        return False"
   ]
  },
  {
   "cell_type": "code",
   "execution_count": 17,
   "id": "1b869310-94f3-43d1-8765-961293bfcad5",
   "metadata": {
    "tags": []
   },
   "outputs": [],
   "source": [
    "import time"
   ]
  },
  {
   "cell_type": "code",
   "execution_count": 38,
   "id": "0ddb054c-dd02-4088-b516-e9f4799b3e31",
   "metadata": {
    "tags": []
   },
   "outputs": [],
   "source": [
    "def get_gpt4_attributes_for_article_ids(fraction):\n",
    "    start_time = time.time()\n",
    "    responses = {}\n",
    "    valid_attributes = {}\n",
    "    valid_responses = 0\n",
    "    shortlisted_rows = shortlisted_articles.sample(frac=fraction)\n",
    "    with ThreadPoolExecutor(max_workers=10) as executor:\n",
    "        futures = [executor.submit(fetch_save_attributes, article_row) for article_row in shortlisted_rows.itertuples()]\n",
    "        \n",
    "        for future in as_completed(futures):\n",
    "            fetched = future.result()\n",
    "            if fetched:  # Timeout or other errors\n",
    "                valid_responses += 1\n",
    "                continue\n",
    "    print(f'done in {time.time() - start_time} seconds')\n",
    "    return valid_responses"
   ]
  },
  {
   "cell_type": "code",
   "execution_count": 42,
   "id": "162927c4-f06b-4fa6-ae83-d5e93aaa99f0",
   "metadata": {
    "tags": []
   },
   "outputs": [
    {
     "name": "stdout",
     "output_type": "stream",
     "text": [
      "trying to get fixed json for articleId 651e0533a662d76276b85936\n",
      "trying to get fixed json for articleId 651e0533a662d76276b85936\n",
      "trying to get fixed json for articleId 651e0533a662d76276b85936\n",
      "trying to get fixed json for articleId 651e0533a662d76276b85936\n",
      "trying to get fixed json for articleId 651e0533a662d76276b85936\n",
      "trying to get fixed json for articleId 651e0533a662d76276b85936\n",
      "trying to get fixed json for articleId 651e0533a662d76276b85936\n",
      "trying to get fixed json for articleId 651e0533a662d76276b85936\n",
      "trying to get fixed json for articleId 651e0533a662d76276b85936\n",
      "trying to get fixed json for articleId 651e0533a662d76276b85936\n",
      "trying to get fixed json for articleId 651e0533a662d76276b85936\n",
      "trying to get fixed json for articleId 651e0533a662d76276b85936\n",
      "trying to get fixed json for articleId 651e0533a662d76276b85936\n",
      "trying to get fixed json for articleId 651e0533a662d76276b85936\n",
      "trying to get fixed json for articleId 651e0533a662d76276b85936\n",
      "trying to get fixed json for articleId 651e0533a662d76276b85936\n",
      "trying to get fixed json for articleId 651e0533a662d76276b85936\n",
      "trying to get fixed json for articleId 651e0533a662d76276b85936\n",
      "trying to get fixed json for articleId 651e0533a662d76276b85936\n",
      "trying to get fixed json for articleId 651e0533a662d76276b85936\n",
      "trying to get fixed json for articleId 651e0533a662d76276b85936\n",
      "json not properly generated for 651e0533a662d76276b85936 at Dec 01, 2023 05:33\n",
      "trying to get fixed json for articleId 651e0533a662d76276b85936\n",
      "trying to get fixed json for articleId 651e0533a662d76276b85936\n",
      "trying to get fixed json for articleId 651e0533a662d76276b85936\n",
      "trying to get fixed json for articleId 651e0533a662d76276b85936\n",
      "trying to get fixed json for articleId 651e0533a662d76276b85936\n",
      "trying to get fixed json for articleId 651e0533a662d76276b85936\n",
      "trying to get fixed json for articleId 651e0533a662d76276b85936\n",
      "trying to get fixed json for articleId 651e0533a662d76276b85936\n",
      "trying to get fixed json for articleId 651e0533a662d76276b85936\n",
      "json not properly generated for 651e0533a662d76276b85936 at Dec 01, 2023 05:46\n",
      "trying to get fixed json for articleId 651e0533a662d76276b85936\n",
      "trying to get fixed json for articleId 651e0533a662d76276b85936\n",
      "trying to get fixed json for articleId 651e0533a662d76276b85936\n",
      "trying to get fixed json for articleId 651e0533a662d76276b85936\n",
      "trying to get fixed json for articleId 651e0533a662d76276b85936\n",
      "trying to get fixed json for articleId 651e0533a662d76276b85936\n",
      "trying to get fixed json for articleId 651e0533a662d76276b85936\n",
      "json not properly generated for 651e0533a662d76276b85936 at Dec 01, 2023 06:01\n",
      "trying to get fixed json for articleId 651e0533a662d76276b85936\n",
      "json not properly generated for 651e0533a662d76276b85936 at Dec 01, 2023 06:03\n",
      "trying to get fixed json for articleId 651e0533a662d76276b85936\n",
      "trying to get fixed json for articleId 651e0533a662d76276b85936\n",
      "trying to get fixed json for articleId 651e0533a662d76276b85936\n",
      "trying to get fixed json for articleId 651e0533a662d76276b85936\n",
      "json not properly generated for 651e0533a662d76276b85936 at Dec 01, 2023 06:06\n",
      "trying to get fixed json for articleId 651e0533a662d76276b85936\n",
      "trying to get fixed json for articleId 651e0533a662d76276b85936\n",
      "trying to get fixed json for articleId 651e0533a662d76276b85936\n",
      "trying to get fixed json for articleId 651e0533a662d76276b85936\n",
      "trying to get fixed json for articleId 651e0533a662d76276b85936\n",
      "trying to get fixed json for articleId 651e0533a662d76276b85936\n",
      "trying to get fixed json for articleId 651e0533a662d76276b85936\n",
      "trying to get fixed json for articleId 651e0533a662d76276b85936\n",
      "trying to get fixed json for articleId 651e0533a662d76276b85936\n",
      "trying to get fixed json for articleId 651e0533a662d76276b85936\n",
      "trying to get fixed json for articleId 651e0533a662d76276b85936\n",
      "trying to get fixed json for articleId 651e0533a662d76276b85936\n",
      "trying to get fixed json for articleId 651e0533a662d76276b85936\n",
      "trying to get fixed json for articleId 651e0533a662d76276b85936\n",
      "trying to get fixed json for articleId 651e0533a662d76276b85936\n",
      "trying to get fixed json for articleId 651e0533a662d76276b85936\n",
      "trying to get fixed json for articleId 651e0533a662d76276b85936\n",
      "trying to get fixed json for articleId 651e0533a662d76276b85936\n",
      "json not properly generated for 651e0533a662d76276b85936 at Dec 01, 2023 06:34\n",
      "trying to get fixed json for articleId 651e0533a662d76276b85936\n",
      "trying to get fixed json for articleId 651e0533a662d76276b85936\n",
      "trying to get fixed json for articleId 651e0533a662d76276b85936\n",
      "trying to get fixed json for articleId 651e0533a662d76276b85936\n",
      "trying to get fixed json for articleId 651e0533a662d76276b85936\n",
      "trying to get fixed json for articleId 651e0533a662d76276b85936\n",
      "json not properly generated for 651e0533a662d76276b85936 at Dec 01, 2023 06:42\n",
      "trying to get fixed json for articleId 651e0533a662d76276b85936\n",
      "done in 5590.288990974426 seconds\n"
     ]
    }
   ],
   "source": [
    "n = get_gpt4_attributes_for_article_ids(1)"
   ]
  },
  {
   "cell_type": "markdown",
   "id": "c2789807-eb06-4c1a-9ff3-8fb5a17a3697",
   "metadata": {},
   "source": [
    "#### Correcting responses"
   ]
  },
  {
   "cell_type": "code",
   "execution_count": 47,
   "id": "57cec655-7cb9-4d5d-a07d-a4df6cef1146",
   "metadata": {
    "tags": []
   },
   "outputs": [],
   "source": [
    "actual_articles_df = shortlisted_articles[['article_id', 'full_content']]"
   ]
  },
  {
   "cell_type": "code",
   "execution_count": 50,
   "id": "e483bba5-cb48-407b-9fd9-0232e7e75d31",
   "metadata": {
    "tags": []
   },
   "outputs": [],
   "source": [
    "gpt_responses = pd.read_csv('gpt-4-responses-1-dec.csv', header=None)"
   ]
  },
  {
   "cell_type": "code",
   "execution_count": 54,
   "id": "b7f594f5-e89b-42d0-be83-a2247be3fca4",
   "metadata": {
    "tags": []
   },
   "outputs": [],
   "source": [
    "gpt_responses = gpt_responses.rename(columns = {2: 'prompt', 3: 'full_content', 4: 'model', 5: 'attributes', 6: 'prompt_tokens', 7: 'completion_tokens', 8: 'json_generated'})"
   ]
  },
  {
   "cell_type": "code",
   "execution_count": 57,
   "id": "951fddcc-7e0c-4ed3-ad06-ae35f5891028",
   "metadata": {
    "tags": []
   },
   "outputs": [
    {
     "data": {
      "text/plain": [
       "count    1581.000000\n",
       "mean      507.270715\n",
       "std        48.156720\n",
       "min       327.000000\n",
       "25%       475.000000\n",
       "50%       505.000000\n",
       "75%       538.000000\n",
       "max       676.000000\n",
       "Name: completion_tokens, dtype: float64"
      ]
     },
     "execution_count": 57,
     "metadata": {},
     "output_type": "execute_result"
    }
   ],
   "source": [
    "gpt_responses['completion_tokens'].describe()"
   ]
  },
  {
   "cell_type": "code",
   "execution_count": 59,
   "id": "0a131ea7-2498-4787-88ee-9eb4431d57ba",
   "metadata": {
    "tags": []
   },
   "outputs": [
    {
     "data": {
      "text/plain": [
       "1581"
      ]
     },
     "execution_count": 59,
     "metadata": {},
     "output_type": "execute_result"
    }
   ],
   "source": [
    "len(gpt_responses)"
   ]
  },
  {
   "cell_type": "code",
   "execution_count": 61,
   "id": "d0cf941a-4089-4419-b1a5-82f543438c49",
   "metadata": {
    "tags": []
   },
   "outputs": [
    {
     "data": {
      "text/plain": [
       "1580"
      ]
     },
     "execution_count": 61,
     "metadata": {},
     "output_type": "execute_result"
    }
   ],
   "source": [
    "gpt_responses.full_content.nunique()"
   ]
  },
  {
   "cell_type": "code",
   "execution_count": 73,
   "id": "9db71f5f-0889-495a-85b9-2d74e6cef3c0",
   "metadata": {
    "tags": []
   },
   "outputs": [],
   "source": [
    "merged_gpt_responses = pd.merge(gpt_responses, actual_articles_df, how = 'inner', on = 'full_content')"
   ]
  },
  {
   "cell_type": "code",
   "execution_count": 76,
   "id": "a11796b2-54c4-42db-8373-a679fcad9b1e",
   "metadata": {
    "tags": []
   },
   "outputs": [
    {
     "data": {
      "text/plain": [
       "1517"
      ]
     },
     "execution_count": 76,
     "metadata": {},
     "output_type": "execute_result"
    }
   ],
   "source": [
    "len(merged_gpt_responses)"
   ]
  },
  {
   "cell_type": "code",
   "execution_count": 75,
   "id": "53fb7775-64dd-444e-9e16-b6ba8a771692",
   "metadata": {
    "tags": []
   },
   "outputs": [],
   "source": [
    "merged_gpt_responses.to_csv('gpt-4-responses-1-dec-with-headers.csv', index = False)"
   ]
  },
  {
   "cell_type": "code",
   "execution_count": 41,
   "id": "43d845e4-2f8e-4bb5-9846-4ef199beac67",
   "metadata": {
    "tags": []
   },
   "outputs": [
    {
     "data": {
      "text/plain": [
       "1583"
      ]
     },
     "execution_count": 41,
     "metadata": {},
     "output_type": "execute_result"
    }
   ],
   "source": [
    "len(shortlisted_articles)"
   ]
  },
  {
   "cell_type": "markdown",
   "id": "5aaaac75-d50c-48be-9dcd-edd2c9a9e01f",
   "metadata": {},
   "source": [
    "#### Analysis"
   ]
  },
  {
   "cell_type": "code",
   "execution_count": 24,
   "id": "75fa80c6-035b-4c54-a48b-5fd49b9f43f8",
   "metadata": {
    "tags": []
   },
   "outputs": [],
   "source": [
    "all_article_responses = pd.read_csv('gpt-4-responses-22-nov.csv', header=None)"
   ]
  },
  {
   "cell_type": "code",
   "execution_count": null,
   "id": "9bf9261d-8bc1-4af1-abd9-330eb0e05892",
   "metadata": {},
   "outputs": [],
   "source": [
    "all_article_responses.rename(columns = {'0'})"
   ]
  },
  {
   "cell_type": "code",
   "execution_count": 27,
   "id": "71ca32a4-31ac-4592-9bb6-cab1a770709b",
   "metadata": {
    "tags": []
   },
   "outputs": [
    {
     "data": {
      "text/plain": [
       "825"
      ]
     },
     "execution_count": 27,
     "metadata": {},
     "output_type": "execute_result"
    }
   ],
   "source": [
    "all_article_responses[1].nunique()"
   ]
  },
  {
   "cell_type": "code",
   "execution_count": 30,
   "id": "4881f1d6-6a23-442f-b2a7-94bdb231fb4e",
   "metadata": {
    "tags": []
   },
   "outputs": [
    {
     "data": {
      "text/plain": [
       "4017.768"
      ]
     },
     "execution_count": 30,
     "metadata": {},
     "output_type": "execute_result"
    }
   ],
   "source": [
    "all_article_responses[6].sum() * 0.03 * 80/1000"
   ]
  },
  {
   "cell_type": "code",
   "execution_count": 31,
   "id": "b9ace756-c6ef-4149-8631-a2dbf6ca2c87",
   "metadata": {
    "tags": []
   },
   "outputs": [
    {
     "data": {
      "text/plain": [
       "2145.3984"
      ]
     },
     "execution_count": 31,
     "metadata": {},
     "output_type": "execute_result"
    }
   ],
   "source": [
    "all_article_responses[7].sum() * 0.06 * 80/1000"
   ]
  },
  {
   "cell_type": "code",
   "execution_count": 32,
   "id": "2d7fee66-6717-4d5a-8fae-3edf74e55b28",
   "metadata": {
    "tags": []
   },
   "outputs": [],
   "source": [
    "invalid_response_article_ids = []"
   ]
  },
  {
   "cell_type": "code",
   "execution_count": 33,
   "id": "8a6024e9-9b77-402a-bc60-ee57eac91bdd",
   "metadata": {
    "scrolled": true,
    "tags": []
   },
   "outputs": [
    {
     "data": {
      "application/vnd.jupyter.widget-view+json": {
       "model_id": "bb9c6e38e1624e6b95e4cda8515b9711",
       "version_major": 2,
       "version_minor": 0
      },
      "text/plain": [
       "  0%|          | 0/828 [00:00<?, ?it/s]"
      ]
     },
     "metadata": {},
     "output_type": "display_data"
    }
   ],
   "source": [
    "resp = []\n",
    "for i in tqdm(range(len(all_article_responses))):\n",
    "    row = all_article_responses.iloc[i]\n",
    "    try:\n",
    "        resp.append(json.loads(row[5]))\n",
    "    except:\n",
    "        invalid_response_article_ids.append(row[1])"
   ]
  },
  {
   "cell_type": "code",
   "execution_count": 34,
   "id": "7cce7ec3-31e4-4e2d-b5b7-b47010945a25",
   "metadata": {
    "tags": []
   },
   "outputs": [
    {
     "data": {
      "text/plain": [
       "121"
      ]
     },
     "execution_count": 34,
     "metadata": {},
     "output_type": "execute_result"
    }
   ],
   "source": [
    "len(invalid_response_article_ids)"
   ]
  },
  {
   "cell_type": "code",
   "execution_count": 56,
   "id": "47fd1b46-8361-4ae2-ab61-c18cc3e7c0ed",
   "metadata": {
    "tags": []
   },
   "outputs": [],
   "source": [
    "resp_df = pd.DataFrame(resp[:220])"
   ]
  },
  {
   "cell_type": "code",
   "execution_count": 61,
   "id": "39ac7284-ec3b-47ba-ac82-44c5652a5f79",
   "metadata": {
    "tags": []
   },
   "outputs": [],
   "source": [
    "resp_df['is_financial_or_business_news'] = resp_df['is_financial_or_business_news'].astype('int')\n",
    "resp_df['relevant_for_india'] = resp_df['relevant_for_india'].astype('int')\n",
    "resp_df['article_validity_duration'] = resp_df['article_validity_duration'].astype('int')"
   ]
  },
  {
   "cell_type": "code",
   "execution_count": 63,
   "id": "d16539a0-41c3-42d9-95c2-e37176b3e927",
   "metadata": {
    "tags": []
   },
   "outputs": [
    {
     "data": {
      "text/plain": [
       "0.8863636363636364"
      ]
     },
     "execution_count": 63,
     "metadata": {},
     "output_type": "execute_result"
    }
   ],
   "source": [
    "resp_df.is_financial_or_business_news.mean()"
   ]
  },
  {
   "cell_type": "code",
   "execution_count": 64,
   "id": "a18dc6fd-c440-4259-a748-8ae866cac0b2",
   "metadata": {
    "tags": []
   },
   "outputs": [
    {
     "data": {
      "text/plain": [
       "0.8090909090909091"
      ]
     },
     "execution_count": 64,
     "metadata": {},
     "output_type": "execute_result"
    }
   ],
   "source": [
    "resp_df.relevant_for_india.mean()"
   ]
  },
  {
   "cell_type": "code",
   "execution_count": 69,
   "id": "c0d3ed9b-5f42-435f-8b9d-504fcd4b0b86",
   "metadata": {
    "tags": []
   },
   "outputs": [
    {
     "data": {
      "text/plain": [
       "popularity\n",
       "breaking_news          33\n",
       "moderately_popular    115\n",
       "niche                  72\n",
       "Name: popularity, dtype: int64"
      ]
     },
     "execution_count": 69,
     "metadata": {},
     "output_type": "execute_result"
    }
   ],
   "source": [
    "resp_df.groupby('popularity')['popularity'].count()"
   ]
  },
  {
   "cell_type": "markdown",
   "id": "6bb7067f-5036-4394-af2a-d674ce4751e0",
   "metadata": {},
   "source": [
    "### Rerunning for invalid article responses"
   ]
  },
  {
   "cell_type": "code",
   "execution_count": null,
   "id": "927eb14d-1906-4a41-a6d3-a3c78f1708f0",
   "metadata": {},
   "outputs": [],
   "source": [
    "invalid_response_article_ids"
   ]
  },
  {
   "cell_type": "code",
   "execution_count": null,
   "id": "62620c49-905e-471e-a820-3b1f042a4cf6",
   "metadata": {},
   "outputs": [],
   "source": [
    "shortlisted_articles"
   ]
  },
  {
   "cell_type": "code",
   "execution_count": 80,
   "id": "d6947780-47a8-4205-9bb5-cadbf8349d7f",
   "metadata": {
    "tags": []
   },
   "outputs": [
    {
     "data": {
      "application/vnd.jupyter.widget-view+json": {
       "model_id": "032e0924a0ba49ca81c319d09e095e98",
       "version_major": 2,
       "version_minor": 0
      },
      "text/plain": [
       "  0%|          | 0/29 [00:00<?, ?it/s]"
      ]
     },
     "metadata": {},
     "output_type": "display_data"
    }
   ],
   "source": [
    "encoder = tiktoken.encoding_for_model(model)\n",
    "num_system_tokens = len(encoder.encode(system_prompt))\n",
    "total_tokens = 7000\n",
    "available_tokens = total_tokens - num_system_tokens\n",
    "total_rows = len(shortlisted_articles)\n",
    "for i in tqdm(invalid_response_article_ids[92:]):\n",
    "    row = shortlisted_articles.loc[shortlisted_articles.article_id == i].iloc[0]\n",
    "    truncated_content = find_token_limit(text=row.full_content, encoder=encoder, token_limit=available_tokens)\n",
    "    res_gpt = openai.ChatCompletion.create(model = model, messages = [{'role': 'system', 'content': system_prompt.replace('\\n',' ')}, {'role': 'user', 'content': truncated_content}])\n",
    "    parsed_res = parse_gpt_api_response(article_id=row.article_id, system_prompt=system_prompt, user_prompt=truncated_content, api_response=res_gpt)\n",
    "    cur_df = pd.DataFrame(parsed_res, index = ['i',])\n",
    "    cur_df.to_csv('gpt-4-responses-22-nov.csv',header=None, mode='a')\n",
    "    shorted_article_assessments.append(parsed_res)"
   ]
  },
  {
   "cell_type": "code",
   "execution_count": 500,
   "id": "f77eb88e-d531-4809-9dfd-0c7d99fc4b73",
   "metadata": {
    "tags": []
   },
   "outputs": [],
   "source": [
    "df1 = pd.DataFrame(shorted_article_assessments)"
   ]
  },
  {
   "cell_type": "code",
   "execution_count": 503,
   "id": "c6243f02-b0d5-41a6-8646-d1435491fcb8",
   "metadata": {
    "tags": []
   },
   "outputs": [],
   "source": [
    "df1['json_safe_content'] = df1['content'].apply(lambda x: json.dumps(x))"
   ]
  },
  {
   "cell_type": "code",
   "execution_count": 506,
   "id": "08936996-51f1-4ac5-8802-6777c84e9e1a",
   "metadata": {
    "tags": []
   },
   "outputs": [],
   "source": [
    "df1.to_csv('gpt-responses.csv')"
   ]
  },
  {
   "cell_type": "code",
   "execution_count": 510,
   "id": "12975481-839f-4c79-9493-828478983f6f",
   "metadata": {
    "tags": []
   },
   "outputs": [],
   "source": [
    "df1['total_cost'] = df1['prompt_tokens'] * (0.03 * 80/1000) + df1['completion_tokens'] * (0.06 * 80/1000)"
   ]
  },
  {
   "cell_type": "code",
   "execution_count": 512,
   "id": "ac36d580-3cd9-4d24-8fd8-cc33965b7bfc",
   "metadata": {
    "tags": []
   },
   "outputs": [
    {
     "data": {
      "text/plain": [
       "879.1272"
      ]
     },
     "execution_count": 512,
     "metadata": {},
     "output_type": "execute_result"
    }
   ],
   "source": [
    "df1.total_cost.sum()"
   ]
  },
  {
   "cell_type": "code",
   "execution_count": 495,
   "id": "8fe32000-776c-4ccd-95d9-175247815317",
   "metadata": {
    "tags": []
   },
   "outputs": [],
   "source": [
    "pd.DataFrame(shorted_article_assessments).to_csv('gpt-responses.csv')"
   ]
  },
  {
   "cell_type": "markdown",
   "id": "311256f5-a1bb-42ed-8d23-2145b81a34be",
   "metadata": {},
   "source": [
    "#### Standardizing responses"
   ]
  },
  {
   "cell_type": "code",
   "execution_count": 2,
   "id": "9a2fb1d9-4e2e-401a-8027-14d10d0a8474",
   "metadata": {
    "tags": []
   },
   "outputs": [],
   "source": [
    "import pandas as pd\n",
    "import numpy as np\n",
    "import json"
   ]
  },
  {
   "cell_type": "code",
   "execution_count": 5,
   "id": "0ebf3b51-971b-48e9-87c2-b8b4f4e8556b",
   "metadata": {
    "tags": []
   },
   "outputs": [],
   "source": [
    "df = pd.read_csv('gpt-4-responses-22-nov.csv', header=None)"
   ]
  },
  {
   "cell_type": "code",
   "execution_count": 7,
   "id": "7fe12fa0-84a8-477f-b62b-dc9cfb1aac46",
   "metadata": {
    "tags": []
   },
   "outputs": [],
   "source": [
    "df = df.rename(columns = {1: 'article_id', 2: 'system_prompt', 3: 'article_content', 4: 'gpt-model', 5: 'gpt-response', 6: 'input_tokens', 7: 'output_tokens'})"
   ]
  },
  {
   "cell_type": "code",
   "execution_count": 157,
   "id": "c459629d-af45-4865-9885-5ab3d687029a",
   "metadata": {
    "tags": []
   },
   "outputs": [],
   "source": [
    "article_wise_responses = {}"
   ]
  },
  {
   "cell_type": "code",
   "execution_count": 158,
   "id": "3cabe09f-8784-48bd-a43a-2c27efe51128",
   "metadata": {
    "tags": []
   },
   "outputs": [],
   "source": [
    "for i in range(len(df)):\n",
    "    row = df.iloc[i]\n",
    "    art_id = row['article_id']\n",
    "    try:\n",
    "        article_wise_responses[art_id] = {}\n",
    "        article_wise_responses[art_id]['response'] = json.loads(row['gpt-response'])\n",
    "        article_wise_responses[art_id]['content'] = row['article_content']\n",
    "    except:\n",
    "        pass"
   ]
  },
  {
   "cell_type": "code",
   "execution_count": 61,
   "id": "678a7d22-e55a-424a-8022-086faaad0768",
   "metadata": {
    "tags": []
   },
   "outputs": [],
   "source": [
    "def correct_json_using_gpt(summary_json):\n",
    "    print(f'trying to get fixed json for summary')\n",
    "    improved_summary_json = openai.ChatCompletion.create(model = 'gpt-4', messages = [{'role': 'system', 'content': 'fix the following json to be readable using json.loads(). simply out the new json. no preamble and no postamble'}, {'role': 'user', 'content': summary_json}])\n",
    "    content = json.loads(improved_summary_json['choices'][0]['message']['content'])\n",
    "    return content"
   ]
  },
  {
   "cell_type": "code",
   "execution_count": 156,
   "id": "361e821f-4086-4dca-a047-21e52663374b",
   "metadata": {
    "tags": []
   },
   "outputs": [],
   "source": [
    "from tqdm.notebook import tqdm\n",
    "import tqdm as td\n",
    "\n",
    "from copy import deepcopy"
   ]
  },
  {
   "cell_type": "code",
   "execution_count": 185,
   "id": "1ce16873-4f2f-4224-8776-432819cf3288",
   "metadata": {
    "tags": []
   },
   "outputs": [
    {
     "data": {
      "text/plain": [
       "[{'missing_entities': 'Nirmala Sitharaman; US India Business Council; Digitalization impact',\n",
       "  'denser_summary': 'Union Finance Minister Nirmala Sitharaman urged American businesses to invest in India, asserting that it meets the requirements of a fair and transparent economy. The invitation came during a business roundtable organized by the US India Business Council. Sitharaman emphasized on the progress India has made in terms of digitalization and economic formalization.'},\n",
       " {'missing_entities': 'Taranjit Singh Sandhu; US and India trade; National Financial Information Registry',\n",
       "  'denser_summary': \"Indian Ambassador to the US, Taranjit Singh Sandhu reiterated India's commitment to engagement at the G20. He also noted that the US-India bilateral trade crossed $190 billion last year. The importance of a national financial information registry was emphasized to expand credit access.\"},\n",
       " {'missing_entities': 'Startup policies; Public Infrastructure; Fintech Ecosystem',\n",
       "  'denser_summary': \"The finance minister and industry executives discussed policies to deepen India's capital markets and enable Indian startups to tap global investment. The potential of India's digital public infrastructure was translated into private sector innovation. The importance of a progressive fintech ecosystem was highlighted.\"}]"
      ]
     },
     "execution_count": 185,
     "metadata": {},
     "output_type": "execute_result"
    }
   ],
   "source": [
    "response['summary_list']"
   ]
  },
  {
   "cell_type": "code",
   "execution_count": 190,
   "id": "2ec461cd-577f-4ab2-b31e-4eb41697f51b",
   "metadata": {
    "scrolled": true,
    "tags": []
   },
   "outputs": [
    {
     "name": "stderr",
     "output_type": "stream",
     "text": [
      "  0%|          | 0/825 [00:00<?, ?it/s]"
     ]
    },
    {
     "name": "stdout",
     "output_type": "stream",
     "text": [
      "trying to get fixed json for summary\n"
     ]
    },
    {
     "name": "stderr",
     "output_type": "stream",
     "text": [
      "  0%|          | 3/825 [00:15<1:12:02,  5.26s/it]"
     ]
    },
    {
     "name": "stdout",
     "output_type": "stream",
     "text": [
      "trying to get fixed json for summary\n"
     ]
    },
    {
     "name": "stderr",
     "output_type": "stream",
     "text": [
      "  0%|          | 4/825 [00:35<2:16:53, 10.00s/it]"
     ]
    },
    {
     "name": "stdout",
     "output_type": "stream",
     "text": [
      "trying to get fixed json for summary\n"
     ]
    },
    {
     "name": "stderr",
     "output_type": "stream",
     "text": [
      "  1%|          | 6/825 [01:04<2:45:05, 12.09s/it]"
     ]
    },
    {
     "name": "stdout",
     "output_type": "stream",
     "text": [
      "trying to get fixed json for summary\n"
     ]
    },
    {
     "name": "stderr",
     "output_type": "stream",
     "text": [
      "  1%|          | 8/825 [01:26<2:37:29, 11.57s/it]"
     ]
    },
    {
     "name": "stdout",
     "output_type": "stream",
     "text": [
      "trying to get fixed json for summary\n"
     ]
    },
    {
     "name": "stderr",
     "output_type": "stream",
     "text": [
      "  1%|▏         | 11/825 [01:37<1:47:39,  7.94s/it]"
     ]
    },
    {
     "name": "stdout",
     "output_type": "stream",
     "text": [
      "trying to get fixed json for summary\n"
     ]
    },
    {
     "name": "stderr",
     "output_type": "stream",
     "text": [
      "  2%|▏         | 13/825 [01:58<1:57:26,  8.68s/it]"
     ]
    },
    {
     "name": "stdout",
     "output_type": "stream",
     "text": [
      "trying to get fixed json for summary\n"
     ]
    },
    {
     "name": "stderr",
     "output_type": "stream",
     "text": [
      "  3%|▎         | 22/825 [02:18<59:15,  4.43s/it]  "
     ]
    },
    {
     "name": "stdout",
     "output_type": "stream",
     "text": [
      "trying to get fixed json for summary\n"
     ]
    },
    {
     "name": "stderr",
     "output_type": "stream",
     "text": [
      "  3%|▎         | 23/825 [02:32<1:11:53,  5.38s/it]"
     ]
    },
    {
     "name": "stdout",
     "output_type": "stream",
     "text": [
      "trying to get fixed json for summary\n"
     ]
    },
    {
     "name": "stderr",
     "output_type": "stream",
     "text": [
      "  3%|▎         | 25/825 [02:45<1:14:21,  5.58s/it]"
     ]
    },
    {
     "name": "stdout",
     "output_type": "stream",
     "text": [
      "trying to get fixed json for summary\n"
     ]
    },
    {
     "name": "stderr",
     "output_type": "stream",
     "text": [
      "  4%|▍         | 32/825 [02:58<48:01,  3.63s/it]  "
     ]
    },
    {
     "name": "stdout",
     "output_type": "stream",
     "text": [
      "trying to get fixed json for summary\n"
     ]
    },
    {
     "name": "stderr",
     "output_type": "stream",
     "text": [
      "  4%|▍         | 34/825 [03:08<51:45,  3.93s/it]"
     ]
    },
    {
     "name": "stdout",
     "output_type": "stream",
     "text": [
      "trying to get fixed json for summary\n"
     ]
    },
    {
     "name": "stderr",
     "output_type": "stream",
     "text": [
      "  4%|▍         | 36/825 [03:32<1:12:02,  5.48s/it]"
     ]
    },
    {
     "name": "stdout",
     "output_type": "stream",
     "text": [
      "trying to get fixed json for summary\n"
     ]
    },
    {
     "name": "stderr",
     "output_type": "stream",
     "text": [
      "  4%|▍         | 37/825 [03:54<1:39:15,  7.56s/it]"
     ]
    },
    {
     "name": "stdout",
     "output_type": "stream",
     "text": [
      "trying to get fixed json for summary\n"
     ]
    },
    {
     "name": "stderr",
     "output_type": "stream",
     "text": [
      "  5%|▍         | 38/825 [04:12<2:00:05,  9.16s/it]"
     ]
    },
    {
     "name": "stdout",
     "output_type": "stream",
     "text": [
      "trying to get fixed json for summary\n"
     ]
    },
    {
     "name": "stderr",
     "output_type": "stream",
     "text": [
      "  5%|▍         | 39/825 [04:21<1:58:29,  9.04s/it]"
     ]
    },
    {
     "name": "stdout",
     "output_type": "stream",
     "text": [
      "trying to get fixed json for summary\n"
     ]
    },
    {
     "name": "stderr",
     "output_type": "stream",
     "text": [
      "  5%|▌         | 43/825 [04:40<1:29:27,  6.86s/it]"
     ]
    },
    {
     "name": "stdout",
     "output_type": "stream",
     "text": [
      "trying to get fixed json for summary\n"
     ]
    },
    {
     "name": "stderr",
     "output_type": "stream",
     "text": [
      "  5%|▌         | 44/825 [04:59<1:53:30,  8.72s/it]"
     ]
    },
    {
     "name": "stdout",
     "output_type": "stream",
     "text": [
      "trying to get fixed json for summary\n"
     ]
    },
    {
     "name": "stderr",
     "output_type": "stream",
     "text": [
      "  6%|▌         | 50/825 [05:12<1:05:43,  5.09s/it]"
     ]
    },
    {
     "name": "stdout",
     "output_type": "stream",
     "text": [
      "trying to get fixed json for summary\n"
     ]
    },
    {
     "name": "stderr",
     "output_type": "stream",
     "text": [
      "  6%|▋         | 53/825 [05:29<1:07:24,  5.24s/it]"
     ]
    },
    {
     "name": "stdout",
     "output_type": "stream",
     "text": [
      "trying to get fixed json for summary\n"
     ]
    },
    {
     "name": "stderr",
     "output_type": "stream",
     "text": [
      "  7%|▋         | 54/825 [05:53<1:36:28,  7.51s/it]"
     ]
    },
    {
     "name": "stdout",
     "output_type": "stream",
     "text": [
      "trying to get fixed json for summary\n"
     ]
    },
    {
     "name": "stderr",
     "output_type": "stream",
     "text": [
      "  7%|▋         | 57/825 [06:11<1:28:23,  6.91s/it]"
     ]
    },
    {
     "name": "stdout",
     "output_type": "stream",
     "text": [
      "trying to get fixed json for summary\n"
     ]
    },
    {
     "name": "stderr",
     "output_type": "stream",
     "text": [
      "  7%|▋         | 59/825 [06:22<1:24:45,  6.64s/it]"
     ]
    },
    {
     "name": "stdout",
     "output_type": "stream",
     "text": [
      "trying to get fixed json for summary\n"
     ]
    },
    {
     "name": "stderr",
     "output_type": "stream",
     "text": [
      "  7%|▋         | 61/825 [06:45<1:39:39,  7.83s/it]"
     ]
    },
    {
     "name": "stdout",
     "output_type": "stream",
     "text": [
      "trying to get fixed json for summary\n"
     ]
    },
    {
     "name": "stderr",
     "output_type": "stream",
     "text": [
      "  8%|▊         | 62/825 [07:02<1:57:41,  9.25s/it]"
     ]
    },
    {
     "name": "stdout",
     "output_type": "stream",
     "text": [
      "trying to get fixed json for summary\n"
     ]
    },
    {
     "name": "stderr",
     "output_type": "stream",
     "text": [
      "  8%|▊         | 69/825 [07:25<1:10:50,  5.62s/it]"
     ]
    },
    {
     "name": "stdout",
     "output_type": "stream",
     "text": [
      "trying to get fixed json for summary\n"
     ]
    },
    {
     "name": "stderr",
     "output_type": "stream",
     "text": [
      "  9%|▊         | 71/825 [07:45<1:22:26,  6.56s/it]"
     ]
    },
    {
     "name": "stdout",
     "output_type": "stream",
     "text": [
      "trying to get fixed json for summary\n"
     ]
    },
    {
     "name": "stderr",
     "output_type": "stream",
     "text": [
      "  9%|▉         | 74/825 [07:59<1:14:30,  5.95s/it]"
     ]
    },
    {
     "name": "stdout",
     "output_type": "stream",
     "text": [
      "trying to get fixed json for summary\n"
     ]
    },
    {
     "name": "stderr",
     "output_type": "stream",
     "text": [
      "  9%|▉         | 75/825 [08:21<1:40:20,  8.03s/it]"
     ]
    },
    {
     "name": "stdout",
     "output_type": "stream",
     "text": [
      "trying to get fixed json for summary\n"
     ]
    },
    {
     "name": "stderr",
     "output_type": "stream",
     "text": [
      "  9%|▉         | 76/825 [08:47<2:14:09, 10.75s/it]"
     ]
    },
    {
     "name": "stdout",
     "output_type": "stream",
     "text": [
      "trying to get fixed json for summary\n"
     ]
    },
    {
     "name": "stderr",
     "output_type": "stream",
     "text": [
      "  9%|▉         | 78/825 [09:04<2:03:41,  9.94s/it]"
     ]
    },
    {
     "name": "stdout",
     "output_type": "stream",
     "text": [
      "trying to get fixed json for summary\n"
     ]
    },
    {
     "name": "stderr",
     "output_type": "stream",
     "text": [
      " 10%|▉         | 80/825 [09:25<2:06:09, 10.16s/it]"
     ]
    },
    {
     "name": "stdout",
     "output_type": "stream",
     "text": [
      "trying to get fixed json for summary\n"
     ]
    },
    {
     "name": "stderr",
     "output_type": "stream",
     "text": [
      " 10%|█         | 85/825 [09:44<1:24:10,  6.82s/it]"
     ]
    },
    {
     "name": "stdout",
     "output_type": "stream",
     "text": [
      "trying to get fixed json for summary\n"
     ]
    },
    {
     "name": "stderr",
     "output_type": "stream",
     "text": [
      " 11%|█         | 89/825 [10:03<1:14:19,  6.06s/it]"
     ]
    },
    {
     "name": "stdout",
     "output_type": "stream",
     "text": [
      "trying to get fixed json for summary\n"
     ]
    },
    {
     "name": "stderr",
     "output_type": "stream",
     "text": [
      " 11%|█         | 91/825 [10:27<1:29:47,  7.34s/it]"
     ]
    },
    {
     "name": "stdout",
     "output_type": "stream",
     "text": [
      "trying to get fixed json for summary\n"
     ]
    },
    {
     "name": "stderr",
     "output_type": "stream",
     "text": [
      " 12%|█▏        | 95/825 [10:46<1:17:43,  6.39s/it]"
     ]
    },
    {
     "name": "stdout",
     "output_type": "stream",
     "text": [
      "trying to get fixed json for summary\n"
     ]
    },
    {
     "name": "stderr",
     "output_type": "stream",
     "text": [
      " 12%|█▏        | 96/825 [11:05<1:35:49,  7.89s/it]"
     ]
    },
    {
     "name": "stdout",
     "output_type": "stream",
     "text": [
      "trying to get fixed json for summary\n"
     ]
    },
    {
     "name": "stderr",
     "output_type": "stream",
     "text": [
      " 12%|█▏        | 97/825 [11:30<2:04:37, 10.27s/it]"
     ]
    },
    {
     "name": "stdout",
     "output_type": "stream",
     "text": [
      "trying to get fixed json for summary\n"
     ]
    },
    {
     "name": "stderr",
     "output_type": "stream",
     "text": [
      " 12%|█▏        | 100/825 [11:59<2:01:40, 10.07s/it]"
     ]
    },
    {
     "name": "stdout",
     "output_type": "stream",
     "text": [
      "trying to get fixed json for summary\n"
     ]
    },
    {
     "name": "stderr",
     "output_type": "stream",
     "text": [
      " 12%|█▏        | 102/825 [12:16<1:56:31,  9.67s/it]"
     ]
    },
    {
     "name": "stdout",
     "output_type": "stream",
     "text": [
      "trying to get fixed json for summary\n"
     ]
    },
    {
     "name": "stderr",
     "output_type": "stream",
     "text": [
      " 13%|█▎        | 110/825 [12:40<1:07:34,  5.67s/it]"
     ]
    },
    {
     "name": "stdout",
     "output_type": "stream",
     "text": [
      "trying to get fixed json for summary\n"
     ]
    },
    {
     "name": "stderr",
     "output_type": "stream",
     "text": [
      " 14%|█▎        | 113/825 [12:56<1:05:45,  5.54s/it]"
     ]
    },
    {
     "name": "stdout",
     "output_type": "stream",
     "text": [
      "trying to get fixed json for summary\n"
     ]
    },
    {
     "name": "stderr",
     "output_type": "stream",
     "text": [
      " 14%|█▍        | 116/825 [13:16<1:09:12,  5.86s/it]"
     ]
    },
    {
     "name": "stdout",
     "output_type": "stream",
     "text": [
      "trying to get fixed json for summary\n"
     ]
    },
    {
     "name": "stderr",
     "output_type": "stream",
     "text": [
      " 15%|█▌        | 127/825 [13:28<36:17,  3.12s/it]  "
     ]
    },
    {
     "name": "stdout",
     "output_type": "stream",
     "text": [
      "trying to get fixed json for summary\n"
     ]
    },
    {
     "name": "stderr",
     "output_type": "stream",
     "text": [
      " 20%|██        | 166/825 [13:42<11:39,  1.06s/it]"
     ]
    },
    {
     "name": "stdout",
     "output_type": "stream",
     "text": [
      "trying to get fixed json for summary\n"
     ]
    },
    {
     "name": "stderr",
     "output_type": "stream",
     "text": [
      " 20%|██        | 169/825 [14:19<20:49,  1.90s/it]"
     ]
    },
    {
     "name": "stdout",
     "output_type": "stream",
     "text": [
      "trying to get fixed json for summary\n"
     ]
    },
    {
     "name": "stderr",
     "output_type": "stream",
     "text": [
      " 21%|██        | 173/825 [14:25<20:06,  1.85s/it]"
     ]
    },
    {
     "name": "stdout",
     "output_type": "stream",
     "text": [
      "6525a756598c6618f0608b3b error 2\n",
      "trying to get fixed json for summary\n"
     ]
    },
    {
     "name": "stderr",
     "output_type": "stream",
     "text": [
      " 23%|██▎       | 193/825 [14:43<14:43,  1.40s/it]"
     ]
    },
    {
     "name": "stdout",
     "output_type": "stream",
     "text": [
      "trying to get fixed json for summary\n"
     ]
    },
    {
     "name": "stderr",
     "output_type": "stream",
     "text": [
      " 24%|██▍       | 200/825 [14:59<16:34,  1.59s/it]"
     ]
    },
    {
     "name": "stdout",
     "output_type": "stream",
     "text": [
      "trying to get fixed json for summary\n"
     ]
    },
    {
     "name": "stderr",
     "output_type": "stream",
     "text": [
      " 25%|██▌       | 208/825 [15:16<17:37,  1.71s/it]"
     ]
    },
    {
     "name": "stdout",
     "output_type": "stream",
     "text": [
      "trying to get fixed json for summary\n"
     ]
    },
    {
     "name": "stderr",
     "output_type": "stream",
     "text": [
      " 27%|██▋       | 222/825 [15:27<13:45,  1.37s/it]"
     ]
    },
    {
     "name": "stdout",
     "output_type": "stream",
     "text": [
      "trying to get fixed json for summary\n"
     ]
    },
    {
     "name": "stderr",
     "output_type": "stream",
     "text": [
      " 27%|██▋       | 224/825 [15:37<16:17,  1.63s/it]"
     ]
    },
    {
     "name": "stdout",
     "output_type": "stream",
     "text": [
      "trying to get fixed json for summary\n"
     ]
    },
    {
     "name": "stderr",
     "output_type": "stream",
     "text": [
      " 28%|██▊       | 228/825 [15:57<21:49,  2.19s/it]"
     ]
    },
    {
     "name": "stdout",
     "output_type": "stream",
     "text": [
      "trying to get fixed json for summary\n"
     ]
    },
    {
     "name": "stderr",
     "output_type": "stream",
     "text": [
      " 28%|██▊       | 230/825 [16:15<28:50,  2.91s/it]"
     ]
    },
    {
     "name": "stdout",
     "output_type": "stream",
     "text": [
      "trying to get fixed json for summary\n"
     ]
    },
    {
     "name": "stderr",
     "output_type": "stream",
     "text": [
      " 29%|██▉       | 242/825 [16:35<22:37,  2.33s/it]"
     ]
    },
    {
     "name": "stdout",
     "output_type": "stream",
     "text": [
      "trying to get fixed json for summary\n"
     ]
    },
    {
     "name": "stderr",
     "output_type": "stream",
     "text": [
      " 30%|██▉       | 246/825 [16:49<24:29,  2.54s/it]"
     ]
    },
    {
     "name": "stdout",
     "output_type": "stream",
     "text": [
      "trying to get fixed json for summary\n"
     ]
    },
    {
     "name": "stderr",
     "output_type": "stream",
     "text": [
      " 32%|███▏      | 261/825 [17:08<17:46,  1.89s/it]"
     ]
    },
    {
     "name": "stdout",
     "output_type": "stream",
     "text": [
      "trying to get fixed json for summary\n"
     ]
    },
    {
     "name": "stderr",
     "output_type": "stream",
     "text": [
      " 32%|███▏      | 264/825 [17:31<24:39,  2.64s/it]"
     ]
    },
    {
     "name": "stdout",
     "output_type": "stream",
     "text": [
      "trying to get fixed json for summary\n"
     ]
    },
    {
     "name": "stderr",
     "output_type": "stream",
     "text": [
      " 32%|███▏      | 268/825 [17:57<31:11,  3.36s/it]"
     ]
    },
    {
     "name": "stdout",
     "output_type": "stream",
     "text": [
      "trying to get fixed json for summary\n"
     ]
    },
    {
     "name": "stderr",
     "output_type": "stream",
     "text": [
      " 33%|███▎      | 273/825 [18:16<31:58,  3.48s/it]"
     ]
    },
    {
     "name": "stdout",
     "output_type": "stream",
     "text": [
      "trying to get fixed json for summary\n"
     ]
    },
    {
     "name": "stderr",
     "output_type": "stream",
     "text": [
      " 34%|███▎      | 277/825 [18:34<33:36,  3.68s/it]"
     ]
    },
    {
     "name": "stdout",
     "output_type": "stream",
     "text": [
      "trying to get fixed json for summary\n"
     ]
    },
    {
     "name": "stderr",
     "output_type": "stream",
     "text": [
      " 34%|███▍      | 279/825 [18:54<41:41,  4.58s/it]"
     ]
    },
    {
     "name": "stdout",
     "output_type": "stream",
     "text": [
      "trying to get fixed json for summary\n"
     ]
    },
    {
     "name": "stderr",
     "output_type": "stream",
     "text": [
      " 34%|███▍      | 283/825 [19:08<38:40,  4.28s/it]"
     ]
    },
    {
     "name": "stdout",
     "output_type": "stream",
     "text": [
      "trying to get fixed json for summary\n"
     ]
    },
    {
     "name": "stderr",
     "output_type": "stream",
     "text": [
      " 35%|███▍      | 286/825 [19:30<44:50,  4.99s/it]"
     ]
    },
    {
     "name": "stdout",
     "output_type": "stream",
     "text": [
      "trying to get fixed json for summary\n"
     ]
    },
    {
     "name": "stderr",
     "output_type": "stream",
     "text": [
      " 36%|███▌      | 296/825 [19:47<28:40,  3.25s/it]"
     ]
    },
    {
     "name": "stdout",
     "output_type": "stream",
     "text": [
      "trying to get fixed json for summary\n"
     ]
    },
    {
     "name": "stderr",
     "output_type": "stream",
     "text": [
      " 39%|███▉      | 321/825 [20:12<14:52,  1.77s/it]"
     ]
    },
    {
     "name": "stdout",
     "output_type": "stream",
     "text": [
      "trying to get fixed json for summary\n"
     ]
    },
    {
     "name": "stderr",
     "output_type": "stream",
     "text": [
      " 39%|███▉      | 325/825 [20:35<19:14,  2.31s/it]"
     ]
    },
    {
     "name": "stdout",
     "output_type": "stream",
     "text": [
      "trying to get fixed json for summary\n"
     ]
    },
    {
     "name": "stderr",
     "output_type": "stream",
     "text": [
      " 40%|████      | 330/825 [20:50<19:58,  2.42s/it]"
     ]
    },
    {
     "name": "stdout",
     "output_type": "stream",
     "text": [
      "trying to get fixed json for summary\n"
     ]
    },
    {
     "name": "stderr",
     "output_type": "stream",
     "text": [
      " 40%|████      | 334/825 [20:59<19:40,  2.40s/it]"
     ]
    },
    {
     "name": "stdout",
     "output_type": "stream",
     "text": [
      "trying to get fixed json for summary\n"
     ]
    },
    {
     "name": "stderr",
     "output_type": "stream",
     "text": [
      " 41%|████      | 335/825 [21:13<25:28,  3.12s/it]"
     ]
    },
    {
     "name": "stdout",
     "output_type": "stream",
     "text": [
      "652ebbc51e5cc42b1b139a60 error 2\n",
      "trying to get fixed json for summary\n"
     ]
    },
    {
     "name": "stderr",
     "output_type": "stream",
     "text": [
      " 42%|████▏     | 349/825 [21:27<15:36,  1.97s/it]"
     ]
    },
    {
     "name": "stdout",
     "output_type": "stream",
     "text": [
      "trying to get fixed json for summary\n"
     ]
    },
    {
     "name": "stderr",
     "output_type": "stream",
     "text": [
      " 43%|████▎     | 355/825 [21:44<17:04,  2.18s/it]"
     ]
    },
    {
     "name": "stdout",
     "output_type": "stream",
     "text": [
      "trying to get fixed json for summary\n"
     ]
    },
    {
     "name": "stderr",
     "output_type": "stream",
     "text": [
      " 43%|████▎     | 358/825 [22:05<22:29,  2.89s/it]"
     ]
    },
    {
     "name": "stdout",
     "output_type": "stream",
     "text": [
      "trying to get fixed json for summary\n"
     ]
    },
    {
     "name": "stderr",
     "output_type": "stream",
     "text": [
      " 46%|████▌     | 381/825 [22:28<12:38,  1.71s/it]"
     ]
    },
    {
     "name": "stdout",
     "output_type": "stream",
     "text": [
      "trying to get fixed json for summary\n"
     ]
    },
    {
     "name": "stderr",
     "output_type": "stream",
     "text": [
      " 47%|████▋     | 385/825 [22:49<16:09,  2.20s/it]"
     ]
    },
    {
     "name": "stdout",
     "output_type": "stream",
     "text": [
      "trying to get fixed json for summary\n"
     ]
    },
    {
     "name": "stderr",
     "output_type": "stream",
     "text": [
      " 47%|████▋     | 389/825 [23:03<17:22,  2.39s/it]"
     ]
    },
    {
     "name": "stdout",
     "output_type": "stream",
     "text": [
      "65316f991e5cc42b1b140ac8 error 2\n",
      "trying to get fixed json for summary\n"
     ]
    },
    {
     "name": "stderr",
     "output_type": "stream",
     "text": [
      " 53%|█████▎    | 435/825 [23:32<07:17,  1.12s/it]"
     ]
    },
    {
     "name": "stdout",
     "output_type": "stream",
     "text": [
      "trying to get fixed json for summary\n"
     ]
    },
    {
     "name": "stderr",
     "output_type": "stream",
     "text": [
      " 53%|█████▎    | 436/825 [23:49<09:32,  1.47s/it]"
     ]
    },
    {
     "name": "stdout",
     "output_type": "stream",
     "text": [
      "trying to get fixed json for summary\n"
     ]
    },
    {
     "name": "stderr",
     "output_type": "stream",
     "text": [
      " 54%|█████▍    | 445/825 [24:04<09:27,  1.49s/it]"
     ]
    },
    {
     "name": "stdout",
     "output_type": "stream",
     "text": [
      "trying to get fixed json for summary\n"
     ]
    },
    {
     "name": "stderr",
     "output_type": "stream",
     "text": [
      " 54%|█████▍    | 447/825 [24:21<12:28,  1.98s/it]"
     ]
    },
    {
     "name": "stdout",
     "output_type": "stream",
     "text": [
      "trying to get fixed json for summary\n"
     ]
    },
    {
     "name": "stderr",
     "output_type": "stream",
     "text": [
      " 54%|█████▍    | 448/825 [24:42<17:38,  2.81s/it]"
     ]
    },
    {
     "name": "stdout",
     "output_type": "stream",
     "text": [
      "trying to get fixed json for summary\n"
     ]
    },
    {
     "name": "stderr",
     "output_type": "stream",
     "text": [
      " 55%|█████▍    | 450/825 [25:01<22:08,  3.54s/it]"
     ]
    },
    {
     "name": "stdout",
     "output_type": "stream",
     "text": [
      "trying to get fixed json for summary\n"
     ]
    },
    {
     "name": "stderr",
     "output_type": "stream",
     "text": [
      " 56%|█████▌    | 458/825 [25:29<21:46,  3.56s/it]"
     ]
    },
    {
     "name": "stdout",
     "output_type": "stream",
     "text": [
      "trying to get fixed json for summary\n"
     ]
    },
    {
     "name": "stderr",
     "output_type": "stream",
     "text": [
      " 57%|█████▋    | 471/825 [25:50<15:27,  2.62s/it]"
     ]
    },
    {
     "name": "stdout",
     "output_type": "stream",
     "text": [
      "trying to get fixed json for summary\n"
     ]
    },
    {
     "name": "stderr",
     "output_type": "stream",
     "text": [
      " 57%|█████▋    | 472/825 [26:13<21:18,  3.62s/it]"
     ]
    },
    {
     "name": "stdout",
     "output_type": "stream",
     "text": [
      "trying to get fixed json for summary\n"
     ]
    },
    {
     "name": "stderr",
     "output_type": "stream",
     "text": [
      " 57%|█████▋    | 474/825 [26:35<26:36,  4.55s/it]"
     ]
    },
    {
     "name": "stdout",
     "output_type": "stream",
     "text": [
      "trying to get fixed json for summary\n"
     ]
    },
    {
     "name": "stderr",
     "output_type": "stream",
     "text": [
      " 58%|█████▊    | 475/825 [26:56<34:27,  5.91s/it]"
     ]
    },
    {
     "name": "stdout",
     "output_type": "stream",
     "text": [
      "trying to get fixed json for summary\n"
     ]
    },
    {
     "name": "stderr",
     "output_type": "stream",
     "text": [
      " 59%|█████▉    | 486/825 [27:17<20:50,  3.69s/it]"
     ]
    },
    {
     "name": "stdout",
     "output_type": "stream",
     "text": [
      "trying to get fixed json for summary\n"
     ]
    },
    {
     "name": "stderr",
     "output_type": "stream",
     "text": [
      " 59%|█████▉    | 487/825 [27:39<27:32,  4.89s/it]"
     ]
    },
    {
     "name": "stdout",
     "output_type": "stream",
     "text": [
      "trying to get fixed json for summary\n"
     ]
    },
    {
     "name": "stderr",
     "output_type": "stream",
     "text": [
      " 60%|█████▉    | 494/825 [28:14<27:15,  4.94s/it]"
     ]
    },
    {
     "name": "stdout",
     "output_type": "stream",
     "text": [
      "trying to get fixed json for summary\n"
     ]
    },
    {
     "name": "stderr",
     "output_type": "stream",
     "text": [
      " 60%|██████    | 495/825 [28:38<35:22,  6.43s/it]"
     ]
    },
    {
     "name": "stdout",
     "output_type": "stream",
     "text": [
      "trying to get fixed json for summary\n"
     ]
    },
    {
     "name": "stderr",
     "output_type": "stream",
     "text": [
      " 60%|██████    | 496/825 [28:58<42:32,  7.76s/it]"
     ]
    },
    {
     "name": "stdout",
     "output_type": "stream",
     "text": [
      "trying to get fixed json for summary\n"
     ]
    },
    {
     "name": "stderr",
     "output_type": "stream",
     "text": [
      " 60%|██████    | 497/825 [29:21<52:20,  9.58s/it]"
     ]
    },
    {
     "name": "stdout",
     "output_type": "stream",
     "text": [
      "trying to get fixed json for summary\n"
     ]
    },
    {
     "name": "stderr",
     "output_type": "stream",
     "text": [
      " 60%|██████    | 498/825 [30:09<1:23:17, 15.28s/it]"
     ]
    },
    {
     "name": "stdout",
     "output_type": "stream",
     "text": [
      "trying to get fixed json for summary\n"
     ]
    },
    {
     "name": "stderr",
     "output_type": "stream",
     "text": [
      " 60%|██████    | 499/825 [30:24<1:23:03, 15.29s/it]"
     ]
    },
    {
     "name": "stdout",
     "output_type": "stream",
     "text": [
      "trying to get fixed json for summary\n"
     ]
    },
    {
     "name": "stderr",
     "output_type": "stream",
     "text": [
      " 61%|██████    | 503/825 [30:51<59:23, 11.07s/it]  "
     ]
    },
    {
     "name": "stdout",
     "output_type": "stream",
     "text": [
      "trying to get fixed json for summary\n"
     ]
    },
    {
     "name": "stderr",
     "output_type": "stream",
     "text": [
      " 61%|██████▏   | 506/825 [31:17<53:58, 10.15s/it]"
     ]
    },
    {
     "name": "stdout",
     "output_type": "stream",
     "text": [
      "trying to get fixed json for summary\n"
     ]
    },
    {
     "name": "stderr",
     "output_type": "stream",
     "text": [
      " 62%|██████▏   | 510/825 [31:39<43:50,  8.35s/it]"
     ]
    },
    {
     "name": "stdout",
     "output_type": "stream",
     "text": [
      "trying to get fixed json for summary\n"
     ]
    },
    {
     "name": "stderr",
     "output_type": "stream",
     "text": [
      " 62%|██████▏   | 511/825 [31:52<46:45,  8.93s/it]"
     ]
    },
    {
     "name": "stdout",
     "output_type": "stream",
     "text": [
      "trying to get fixed json for summary\n"
     ]
    },
    {
     "name": "stderr",
     "output_type": "stream",
     "text": [
      " 63%|██████▎   | 520/825 [32:13<24:33,  4.83s/it]"
     ]
    },
    {
     "name": "stdout",
     "output_type": "stream",
     "text": [
      "trying to get fixed json for summary\n"
     ]
    },
    {
     "name": "stderr",
     "output_type": "stream",
     "text": [
      " 63%|██████▎   | 522/825 [32:26<26:03,  5.16s/it]"
     ]
    },
    {
     "name": "stdout",
     "output_type": "stream",
     "text": [
      "trying to get fixed json for summary\n"
     ]
    },
    {
     "name": "stderr",
     "output_type": "stream",
     "text": [
      " 63%|██████▎   | 523/825 [32:48<34:36,  6.88s/it]"
     ]
    },
    {
     "name": "stdout",
     "output_type": "stream",
     "text": [
      "trying to get fixed json for summary\n"
     ]
    },
    {
     "name": "stderr",
     "output_type": "stream",
     "text": [
      " 64%|██████▍   | 527/825 [33:11<31:54,  6.42s/it]"
     ]
    },
    {
     "name": "stdout",
     "output_type": "stream",
     "text": [
      "trying to get fixed json for summary\n"
     ]
    },
    {
     "name": "stderr",
     "output_type": "stream",
     "text": [
      " 65%|██████▍   | 536/825 [33:28<19:09,  3.98s/it]"
     ]
    },
    {
     "name": "stdout",
     "output_type": "stream",
     "text": [
      "trying to get fixed json for summary\n"
     ]
    },
    {
     "name": "stderr",
     "output_type": "stream",
     "text": [
      " 65%|██████▌   | 537/825 [33:49<25:33,  5.32s/it]"
     ]
    },
    {
     "name": "stdout",
     "output_type": "stream",
     "text": [
      "trying to get fixed json for summary\n"
     ]
    },
    {
     "name": "stderr",
     "output_type": "stream",
     "text": [
      " 65%|██████▌   | 538/825 [34:07<31:34,  6.60s/it]"
     ]
    },
    {
     "name": "stdout",
     "output_type": "stream",
     "text": [
      "trying to get fixed json for summary\n"
     ]
    },
    {
     "name": "stderr",
     "output_type": "stream",
     "text": [
      " 66%|██████▌   | 544/825 [34:32<25:48,  5.51s/it]"
     ]
    },
    {
     "name": "stdout",
     "output_type": "stream",
     "text": [
      "trying to get fixed json for summary\n"
     ]
    },
    {
     "name": "stderr",
     "output_type": "stream",
     "text": [
      " 66%|██████▌   | 545/825 [34:46<29:18,  6.28s/it]"
     ]
    },
    {
     "name": "stdout",
     "output_type": "stream",
     "text": [
      "trying to get fixed json for summary\n"
     ]
    },
    {
     "name": "stderr",
     "output_type": "stream",
     "text": [
      " 66%|██████▌   | 546/825 [35:00<33:48,  7.27s/it]"
     ]
    },
    {
     "name": "stdout",
     "output_type": "stream",
     "text": [
      "trying to get fixed json for summary\n"
     ]
    },
    {
     "name": "stderr",
     "output_type": "stream",
     "text": [
      " 68%|██████▊   | 557/825 [35:27<18:17,  4.09s/it]"
     ]
    },
    {
     "name": "stdout",
     "output_type": "stream",
     "text": [
      "trying to get fixed json for summary\n"
     ]
    },
    {
     "name": "stderr",
     "output_type": "stream",
     "text": [
      " 68%|██████▊   | 558/825 [35:45<23:14,  5.22s/it]"
     ]
    },
    {
     "name": "stdout",
     "output_type": "stream",
     "text": [
      "trying to get fixed json for summary\n"
     ]
    },
    {
     "name": "stderr",
     "output_type": "stream",
     "text": [
      " 68%|██████▊   | 561/825 [36:14<27:52,  6.33s/it]"
     ]
    },
    {
     "name": "stdout",
     "output_type": "stream",
     "text": [
      "trying to get fixed json for summary\n"
     ]
    },
    {
     "name": "stderr",
     "output_type": "stream",
     "text": [
      " 68%|██████▊   | 562/825 [36:35<34:43,  7.92s/it]"
     ]
    },
    {
     "name": "stdout",
     "output_type": "stream",
     "text": [
      "trying to get fixed json for summary\n"
     ]
    },
    {
     "name": "stderr",
     "output_type": "stream",
     "text": [
      " 69%|██████▊   | 566/825 [36:48<26:11,  6.07s/it]"
     ]
    },
    {
     "name": "stdout",
     "output_type": "stream",
     "text": [
      "trying to get fixed json for summary\n"
     ]
    },
    {
     "name": "stderr",
     "output_type": "stream",
     "text": [
      " 69%|██████▉   | 570/825 [37:07<23:57,  5.64s/it]"
     ]
    },
    {
     "name": "stdout",
     "output_type": "stream",
     "text": [
      "trying to get fixed json for summary\n"
     ]
    },
    {
     "name": "stderr",
     "output_type": "stream",
     "text": [
      " 69%|██████▉   | 571/825 [37:30<32:15,  7.62s/it]"
     ]
    },
    {
     "name": "stdout",
     "output_type": "stream",
     "text": [
      "trying to get fixed json for summary\n"
     ]
    },
    {
     "name": "stderr",
     "output_type": "stream",
     "text": [
      " 70%|███████   | 578/825 [37:50<20:55,  5.08s/it]"
     ]
    },
    {
     "name": "stdout",
     "output_type": "stream",
     "text": [
      "trying to get fixed json for summary\n"
     ]
    },
    {
     "name": "stderr",
     "output_type": "stream",
     "text": [
      " 70%|███████   | 579/825 [38:15<28:54,  7.05s/it]"
     ]
    },
    {
     "name": "stdout",
     "output_type": "stream",
     "text": [
      "trying to get fixed json for summary\n"
     ]
    },
    {
     "name": "stderr",
     "output_type": "stream",
     "text": [
      " 71%|███████   | 582/825 [38:33<27:15,  6.73s/it]"
     ]
    },
    {
     "name": "stdout",
     "output_type": "stream",
     "text": [
      "trying to get fixed json for summary\n"
     ]
    },
    {
     "name": "stderr",
     "output_type": "stream",
     "text": [
      " 71%|███████   | 583/825 [38:43<28:28,  7.06s/it]"
     ]
    },
    {
     "name": "stdout",
     "output_type": "stream",
     "text": [
      "trying to get fixed json for summary\n"
     ]
    },
    {
     "name": "stderr",
     "output_type": "stream",
     "text": [
      " 72%|███████▏  | 591/825 [39:03<17:19,  4.44s/it]"
     ]
    },
    {
     "name": "stdout",
     "output_type": "stream",
     "text": [
      "trying to get fixed json for summary\n"
     ]
    },
    {
     "name": "stderr",
     "output_type": "stream",
     "text": [
      " 72%|███████▏  | 593/825 [39:19<19:19,  5.00s/it]"
     ]
    },
    {
     "name": "stdout",
     "output_type": "stream",
     "text": [
      "trying to get fixed json for summary\n"
     ]
    },
    {
     "name": "stderr",
     "output_type": "stream",
     "text": [
      " 72%|███████▏  | 596/825 [39:30<17:52,  4.68s/it]"
     ]
    },
    {
     "name": "stdout",
     "output_type": "stream",
     "text": [
      "trying to get fixed json for summary\n"
     ]
    },
    {
     "name": "stderr",
     "output_type": "stream",
     "text": [
      " 72%|███████▏  | 597/825 [39:49<24:09,  6.36s/it]"
     ]
    },
    {
     "name": "stdout",
     "output_type": "stream",
     "text": [
      "trying to get fixed json for summary\n"
     ]
    },
    {
     "name": "stderr",
     "output_type": "stream",
     "text": [
      " 73%|███████▎  | 603/825 [40:15<19:45,  5.34s/it]"
     ]
    },
    {
     "name": "stdout",
     "output_type": "stream",
     "text": [
      "trying to get fixed json for summary\n"
     ]
    },
    {
     "name": "stderr",
     "output_type": "stream",
     "text": [
      " 73%|███████▎  | 604/825 [40:29<22:57,  6.23s/it]"
     ]
    },
    {
     "name": "stdout",
     "output_type": "stream",
     "text": [
      "trying to get fixed json for summary\n"
     ]
    },
    {
     "name": "stderr",
     "output_type": "stream",
     "text": [
      " 73%|███████▎  | 605/825 [40:51<30:20,  8.28s/it]"
     ]
    },
    {
     "name": "stdout",
     "output_type": "stream",
     "text": [
      "trying to get fixed json for summary\n"
     ]
    },
    {
     "name": "stderr",
     "output_type": "stream",
     "text": [
      " 73%|███████▎  | 606/825 [41:23<43:38, 11.96s/it]"
     ]
    },
    {
     "name": "stdout",
     "output_type": "stream",
     "text": [
      "trying to get fixed json for summary\n"
     ]
    },
    {
     "name": "stderr",
     "output_type": "stream",
     "text": [
      " 74%|███████▎  | 607/825 [41:51<54:12, 14.92s/it]"
     ]
    },
    {
     "name": "stdout",
     "output_type": "stream",
     "text": [
      "trying to get fixed json for summary\n"
     ]
    },
    {
     "name": "stderr",
     "output_type": "stream",
     "text": [
      " 74%|███████▍  | 609/825 [42:11<48:00, 13.34s/it]"
     ]
    },
    {
     "name": "stdout",
     "output_type": "stream",
     "text": [
      "trying to get fixed json for summary\n"
     ]
    },
    {
     "name": "stderr",
     "output_type": "stream",
     "text": [
      " 74%|███████▍  | 610/825 [42:26<48:42, 13.59s/it]"
     ]
    },
    {
     "name": "stdout",
     "output_type": "stream",
     "text": [
      "trying to get fixed json for summary\n"
     ]
    },
    {
     "name": "stderr",
     "output_type": "stream",
     "text": [
      " 74%|███████▍  | 613/825 [42:49<38:21, 10.86s/it]"
     ]
    },
    {
     "name": "stdout",
     "output_type": "stream",
     "text": [
      "trying to get fixed json for summary\n"
     ]
    },
    {
     "name": "stderr",
     "output_type": "stream",
     "text": [
      " 74%|███████▍  | 614/825 [43:11<45:35, 12.97s/it]"
     ]
    },
    {
     "name": "stdout",
     "output_type": "stream",
     "text": [
      "trying to get fixed json for summary\n"
     ]
    },
    {
     "name": "stderr",
     "output_type": "stream",
     "text": [
      " 75%|███████▍  | 615/825 [43:38<55:02, 15.73s/it]"
     ]
    },
    {
     "name": "stdout",
     "output_type": "stream",
     "text": [
      "trying to get fixed json for summary\n"
     ]
    },
    {
     "name": "stderr",
     "output_type": "stream",
     "text": [
      " 75%|███████▍  | 616/825 [44:02<1:01:23, 17.62s/it]"
     ]
    },
    {
     "name": "stdout",
     "output_type": "stream",
     "text": [
      "trying to get fixed json for summary\n"
     ]
    },
    {
     "name": "stderr",
     "output_type": "stream",
     "text": [
      " 75%|███████▍  | 617/825 [44:23<1:03:52, 18.43s/it]"
     ]
    },
    {
     "name": "stdout",
     "output_type": "stream",
     "text": [
      "trying to get fixed json for summary\n"
     ]
    },
    {
     "name": "stderr",
     "output_type": "stream",
     "text": [
      " 75%|███████▌  | 620/825 [44:40<40:52, 11.96s/it]  "
     ]
    },
    {
     "name": "stdout",
     "output_type": "stream",
     "text": [
      "trying to get fixed json for summary\n"
     ]
    },
    {
     "name": "stderr",
     "output_type": "stream",
     "text": [
      " 75%|███████▌  | 621/825 [45:08<51:19, 15.10s/it]"
     ]
    },
    {
     "name": "stdout",
     "output_type": "stream",
     "text": [
      "trying to get fixed json for summary\n"
     ]
    },
    {
     "name": "stderr",
     "output_type": "stream",
     "text": [
      " 76%|███████▌  | 627/825 [45:35<27:40,  8.39s/it]"
     ]
    },
    {
     "name": "stdout",
     "output_type": "stream",
     "text": [
      "trying to get fixed json for summary\n"
     ]
    },
    {
     "name": "stderr",
     "output_type": "stream",
     "text": [
      " 76%|███████▌  | 629/825 [45:53<27:56,  8.56s/it]"
     ]
    },
    {
     "name": "stdout",
     "output_type": "stream",
     "text": [
      "trying to get fixed json for summary\n"
     ]
    },
    {
     "name": "stderr",
     "output_type": "stream",
     "text": [
      " 76%|███████▋  | 630/825 [46:09<31:26,  9.67s/it]"
     ]
    },
    {
     "name": "stdout",
     "output_type": "stream",
     "text": [
      "trying to get fixed json for summary\n"
     ]
    },
    {
     "name": "stderr",
     "output_type": "stream",
     "text": [
      " 77%|███████▋  | 636/825 [46:21<17:13,  5.47s/it]"
     ]
    },
    {
     "name": "stdout",
     "output_type": "stream",
     "text": [
      "trying to get fixed json for summary\n"
     ]
    },
    {
     "name": "stderr",
     "output_type": "stream",
     "text": [
      " 77%|███████▋  | 638/825 [46:36<18:22,  5.89s/it]"
     ]
    },
    {
     "name": "stdout",
     "output_type": "stream",
     "text": [
      "trying to get fixed json for summary\n"
     ]
    },
    {
     "name": "stderr",
     "output_type": "stream",
     "text": [
      " 78%|███████▊  | 640/825 [46:56<20:55,  6.79s/it]"
     ]
    },
    {
     "name": "stdout",
     "output_type": "stream",
     "text": [
      "trying to get fixed json for summary\n"
     ]
    },
    {
     "name": "stderr",
     "output_type": "stream",
     "text": [
      " 78%|███████▊  | 645/825 [47:15<16:14,  5.41s/it]"
     ]
    },
    {
     "name": "stdout",
     "output_type": "stream",
     "text": [
      "trying to get fixed json for summary\n"
     ]
    },
    {
     "name": "stderr",
     "output_type": "stream",
     "text": [
      " 79%|███████▊  | 648/825 [47:38<17:53,  6.06s/it]"
     ]
    },
    {
     "name": "stdout",
     "output_type": "stream",
     "text": [
      "trying to get fixed json for summary\n"
     ]
    },
    {
     "name": "stderr",
     "output_type": "stream",
     "text": [
      " 79%|███████▊  | 649/825 [47:52<20:27,  6.97s/it]"
     ]
    },
    {
     "name": "stdout",
     "output_type": "stream",
     "text": [
      "trying to get fixed json for summary\n"
     ]
    },
    {
     "name": "stderr",
     "output_type": "stream",
     "text": [
      " 79%|███████▉  | 652/825 [48:15<20:51,  7.24s/it]"
     ]
    },
    {
     "name": "stdout",
     "output_type": "stream",
     "text": [
      "trying to get fixed json for summary\n"
     ]
    },
    {
     "name": "stderr",
     "output_type": "stream",
     "text": [
      " 79%|███████▉  | 655/825 [48:27<17:37,  6.22s/it]"
     ]
    },
    {
     "name": "stdout",
     "output_type": "stream",
     "text": [
      "trying to get fixed json for summary\n"
     ]
    },
    {
     "name": "stderr",
     "output_type": "stream",
     "text": [
      " 80%|███████▉  | 657/825 [48:42<18:08,  6.48s/it]"
     ]
    },
    {
     "name": "stdout",
     "output_type": "stream",
     "text": [
      "trying to get fixed json for summary\n"
     ]
    },
    {
     "name": "stderr",
     "output_type": "stream",
     "text": [
      " 80%|███████▉  | 659/825 [49:14<24:39,  8.91s/it]"
     ]
    },
    {
     "name": "stdout",
     "output_type": "stream",
     "text": [
      "trying to get fixed json for summary\n"
     ]
    },
    {
     "name": "stderr",
     "output_type": "stream",
     "text": [
      " 80%|████████  | 661/825 [49:30<23:45,  8.69s/it]"
     ]
    },
    {
     "name": "stdout",
     "output_type": "stream",
     "text": [
      "trying to get fixed json for summary\n"
     ]
    },
    {
     "name": "stderr",
     "output_type": "stream",
     "text": [
      " 80%|████████  | 662/825 [49:57<31:28, 11.59s/it]"
     ]
    },
    {
     "name": "stdout",
     "output_type": "stream",
     "text": [
      "trying to get fixed json for summary\n"
     ]
    },
    {
     "name": "stderr",
     "output_type": "stream",
     "text": [
      " 82%|████████▏ | 675/825 [50:17<10:12,  4.09s/it]"
     ]
    },
    {
     "name": "stdout",
     "output_type": "stream",
     "text": [
      "trying to get fixed json for summary\n"
     ]
    },
    {
     "name": "stderr",
     "output_type": "stream",
     "text": [
      " 82%|████████▏ | 678/825 [50:53<13:50,  5.65s/it]"
     ]
    },
    {
     "name": "stdout",
     "output_type": "stream",
     "text": [
      "65316ef41e5cc42b1b13ea81 error 2\n",
      "trying to get fixed json for summary\n"
     ]
    },
    {
     "name": "stderr",
     "output_type": "stream",
     "text": [
      " 83%|████████▎ | 681/825 [51:13<13:57,  5.82s/it]"
     ]
    },
    {
     "name": "stdout",
     "output_type": "stream",
     "text": [
      "trying to get fixed json for summary\n"
     ]
    },
    {
     "name": "stderr",
     "output_type": "stream",
     "text": [
      " 83%|████████▎ | 683/825 [51:37<16:28,  6.96s/it]"
     ]
    },
    {
     "name": "stdout",
     "output_type": "stream",
     "text": [
      "trying to get fixed json for summary\n"
     ]
    },
    {
     "name": "stderr",
     "output_type": "stream",
     "text": [
      " 83%|████████▎ | 686/825 [51:58<16:02,  6.93s/it]"
     ]
    },
    {
     "name": "stdout",
     "output_type": "stream",
     "text": [
      "trying to get fixed json for summary\n"
     ]
    },
    {
     "name": "stderr",
     "output_type": "stream",
     "text": [
      " 83%|████████▎ | 688/825 [52:18<17:19,  7.59s/it]"
     ]
    },
    {
     "name": "stdout",
     "output_type": "stream",
     "text": [
      "trying to get fixed json for summary\n"
     ]
    },
    {
     "name": "stderr",
     "output_type": "stream",
     "text": [
      " 84%|████████▎ | 689/825 [52:36<20:15,  8.94s/it]"
     ]
    },
    {
     "name": "stdout",
     "output_type": "stream",
     "text": [
      "trying to get fixed json for summary\n"
     ]
    },
    {
     "name": "stderr",
     "output_type": "stream",
     "text": [
      " 84%|████████▎ | 690/825 [52:55<23:23, 10.40s/it]"
     ]
    },
    {
     "name": "stdout",
     "output_type": "stream",
     "text": [
      "trying to get fixed json for summary\n"
     ]
    },
    {
     "name": "stderr",
     "output_type": "stream",
     "text": [
      " 84%|████████▍ | 691/825 [53:22<29:52, 13.38s/it]"
     ]
    },
    {
     "name": "stdout",
     "output_type": "stream",
     "text": [
      "trying to get fixed json for summary\n"
     ]
    },
    {
     "name": "stderr",
     "output_type": "stream",
     "text": [
      " 84%|████████▍ | 695/825 [53:36<18:04,  8.34s/it]"
     ]
    },
    {
     "name": "stdout",
     "output_type": "stream",
     "text": [
      "trying to get fixed json for summary\n"
     ]
    },
    {
     "name": "stderr",
     "output_type": "stream",
     "text": [
      " 84%|████████▍ | 697/825 [53:58<19:19,  9.06s/it]"
     ]
    },
    {
     "name": "stdout",
     "output_type": "stream",
     "text": [
      "trying to get fixed json for summary\n"
     ]
    },
    {
     "name": "stderr",
     "output_type": "stream",
     "text": [
      " 85%|████████▌ | 705/825 [54:12<09:18,  4.66s/it]"
     ]
    },
    {
     "name": "stdout",
     "output_type": "stream",
     "text": [
      "trying to get fixed json for summary\n"
     ]
    },
    {
     "name": "stderr",
     "output_type": "stream",
     "text": [
      " 86%|████████▌ | 707/825 [54:28<10:19,  5.25s/it]"
     ]
    },
    {
     "name": "stdout",
     "output_type": "stream",
     "text": [
      "trying to get fixed json for summary\n"
     ]
    },
    {
     "name": "stderr",
     "output_type": "stream",
     "text": [
      " 86%|████████▌ | 708/825 [54:47<13:18,  6.82s/it]"
     ]
    },
    {
     "name": "stdout",
     "output_type": "stream",
     "text": [
      "trying to get fixed json for summary\n"
     ]
    },
    {
     "name": "stderr",
     "output_type": "stream",
     "text": [
      " 87%|████████▋ | 718/825 [55:01<06:09,  3.46s/it]"
     ]
    },
    {
     "name": "stdout",
     "output_type": "stream",
     "text": [
      "trying to get fixed json for summary\n"
     ]
    },
    {
     "name": "stderr",
     "output_type": "stream",
     "text": [
      " 87%|████████▋ | 719/825 [55:18<08:06,  4.59s/it]"
     ]
    },
    {
     "name": "stdout",
     "output_type": "stream",
     "text": [
      "trying to get fixed json for summary\n"
     ]
    },
    {
     "name": "stderr",
     "output_type": "stream",
     "text": [
      " 87%|████████▋ | 721/825 [55:38<09:42,  5.60s/it]"
     ]
    },
    {
     "name": "stdout",
     "output_type": "stream",
     "text": [
      "trying to get fixed json for summary\n"
     ]
    },
    {
     "name": "stderr",
     "output_type": "stream",
     "text": [
      " 88%|████████▊ | 722/825 [55:59<12:42,  7.40s/it]"
     ]
    },
    {
     "name": "stdout",
     "output_type": "stream",
     "text": [
      "trying to get fixed json for summary\n"
     ]
    },
    {
     "name": "stderr",
     "output_type": "stream",
     "text": [
      " 88%|████████▊ | 724/825 [56:14<12:26,  7.39s/it]"
     ]
    },
    {
     "name": "stdout",
     "output_type": "stream",
     "text": [
      "trying to get fixed json for summary\n"
     ]
    },
    {
     "name": "stderr",
     "output_type": "stream",
     "text": [
      " 88%|████████▊ | 725/825 [56:33<15:25,  9.26s/it]"
     ]
    },
    {
     "name": "stdout",
     "output_type": "stream",
     "text": [
      "trying to get fixed json for summary\n"
     ]
    },
    {
     "name": "stderr",
     "output_type": "stream",
     "text": [
      " 88%|████████▊ | 726/825 [56:49<17:13, 10.44s/it]"
     ]
    },
    {
     "name": "stdout",
     "output_type": "stream",
     "text": [
      "trying to get fixed json for summary\n"
     ]
    },
    {
     "name": "stderr",
     "output_type": "stream",
     "text": [
      " 88%|████████▊ | 728/825 [57:10<16:57, 10.49s/it]"
     ]
    },
    {
     "name": "stdout",
     "output_type": "stream",
     "text": [
      "trying to get fixed json for summary\n"
     ]
    },
    {
     "name": "stderr",
     "output_type": "stream",
     "text": [
      " 88%|████████▊ | 730/825 [57:19<13:33,  8.56s/it]"
     ]
    },
    {
     "name": "stdout",
     "output_type": "stream",
     "text": [
      "trying to get fixed json for summary\n"
     ]
    },
    {
     "name": "stderr",
     "output_type": "stream",
     "text": [
      " 89%|████████▊ | 732/825 [57:38<13:33,  8.75s/it]"
     ]
    },
    {
     "name": "stdout",
     "output_type": "stream",
     "text": [
      "trying to get fixed json for summary\n"
     ]
    },
    {
     "name": "stderr",
     "output_type": "stream",
     "text": [
      " 89%|████████▉ | 733/825 [57:56<16:12, 10.58s/it]"
     ]
    },
    {
     "name": "stdout",
     "output_type": "stream",
     "text": [
      "trying to get fixed json for summary\n"
     ]
    },
    {
     "name": "stderr",
     "output_type": "stream",
     "text": [
      " 89%|████████▉ | 736/825 [58:14<12:33,  8.47s/it]"
     ]
    },
    {
     "name": "stdout",
     "output_type": "stream",
     "text": [
      "trying to get fixed json for summary\n"
     ]
    },
    {
     "name": "stderr",
     "output_type": "stream",
     "text": [
      " 89%|████████▉ | 738/825 [58:29<11:59,  8.26s/it]"
     ]
    },
    {
     "name": "stdout",
     "output_type": "stream",
     "text": [
      "trying to get fixed json for summary\n"
     ]
    },
    {
     "name": "stderr",
     "output_type": "stream",
     "text": [
      " 90%|████████▉ | 739/825 [58:53<15:45, 11.00s/it]"
     ]
    },
    {
     "name": "stdout",
     "output_type": "stream",
     "text": [
      "trying to get fixed json for summary\n"
     ]
    },
    {
     "name": "stderr",
     "output_type": "stream",
     "text": [
      " 91%|█████████ | 748/825 [59:13<06:17,  4.90s/it]"
     ]
    },
    {
     "name": "stdout",
     "output_type": "stream",
     "text": [
      "trying to get fixed json for summary\n"
     ]
    },
    {
     "name": "stderr",
     "output_type": "stream",
     "text": [
      " 91%|█████████ | 750/825 [59:36<07:37,  6.10s/it]"
     ]
    },
    {
     "name": "stdout",
     "output_type": "stream",
     "text": [
      "trying to get fixed json for summary\n"
     ]
    },
    {
     "name": "stderr",
     "output_type": "stream",
     "text": [
      " 92%|█████████▏| 757/825 [59:53<04:57,  4.37s/it]"
     ]
    },
    {
     "name": "stdout",
     "output_type": "stream",
     "text": [
      "trying to get fixed json for summary\n"
     ]
    },
    {
     "name": "stderr",
     "output_type": "stream",
     "text": [
      " 92%|█████████▏| 763/825 [1:00:19<04:30,  4.36s/it]"
     ]
    },
    {
     "name": "stdout",
     "output_type": "stream",
     "text": [
      "trying to get fixed json for summary\n"
     ]
    },
    {
     "name": "stderr",
     "output_type": "stream",
     "text": [
      " 93%|█████████▎| 764/825 [1:00:37<05:30,  5.42s/it]"
     ]
    },
    {
     "name": "stdout",
     "output_type": "stream",
     "text": [
      "trying to get fixed json for summary\n"
     ]
    },
    {
     "name": "stderr",
     "output_type": "stream",
     "text": [
      " 93%|█████████▎| 765/825 [1:00:53<06:34,  6.58s/it]"
     ]
    },
    {
     "name": "stdout",
     "output_type": "stream",
     "text": [
      "trying to get fixed json for summary\n"
     ]
    },
    {
     "name": "stderr",
     "output_type": "stream",
     "text": [
      " 93%|█████████▎| 768/825 [1:01:14<06:18,  6.64s/it]"
     ]
    },
    {
     "name": "stdout",
     "output_type": "stream",
     "text": [
      "trying to get fixed json for summary\n"
     ]
    },
    {
     "name": "stderr",
     "output_type": "stream",
     "text": [
      " 94%|█████████▎| 773/825 [1:01:30<04:30,  5.20s/it]"
     ]
    },
    {
     "name": "stdout",
     "output_type": "stream",
     "text": [
      "trying to get fixed json for summary\n"
     ]
    },
    {
     "name": "stderr",
     "output_type": "stream",
     "text": [
      " 94%|█████████▍| 778/825 [1:01:44<03:23,  4.34s/it]"
     ]
    },
    {
     "name": "stdout",
     "output_type": "stream",
     "text": [
      "trying to get fixed json for summary\n"
     ]
    },
    {
     "name": "stderr",
     "output_type": "stream",
     "text": [
      " 94%|█████████▍| 779/825 [1:02:06<04:34,  5.98s/it]"
     ]
    },
    {
     "name": "stdout",
     "output_type": "stream",
     "text": [
      "trying to get fixed json for summary\n"
     ]
    },
    {
     "name": "stderr",
     "output_type": "stream",
     "text": [
      " 95%|█████████▍| 780/825 [1:02:26<05:49,  7.77s/it]"
     ]
    },
    {
     "name": "stdout",
     "output_type": "stream",
     "text": [
      "trying to get fixed json for summary\n"
     ]
    },
    {
     "name": "stderr",
     "output_type": "stream",
     "text": [
      " 95%|█████████▍| 781/825 [1:02:44<06:46,  9.24s/it]"
     ]
    },
    {
     "name": "stdout",
     "output_type": "stream",
     "text": [
      "trying to get fixed json for summary\n"
     ]
    },
    {
     "name": "stderr",
     "output_type": "stream",
     "text": [
      " 95%|█████████▍| 782/825 [1:02:57<07:02,  9.82s/it]"
     ]
    },
    {
     "name": "stdout",
     "output_type": "stream",
     "text": [
      "trying to get fixed json for summary\n"
     ]
    },
    {
     "name": "stderr",
     "output_type": "stream",
     "text": [
      " 95%|█████████▍| 783/825 [1:03:29<10:03, 14.38s/it]"
     ]
    },
    {
     "name": "stdout",
     "output_type": "stream",
     "text": [
      "trying to get fixed json for summary\n"
     ]
    },
    {
     "name": "stderr",
     "output_type": "stream",
     "text": [
      " 95%|█████████▌| 784/825 [1:03:50<10:45, 15.74s/it]"
     ]
    },
    {
     "name": "stdout",
     "output_type": "stream",
     "text": [
      "trying to get fixed json for summary\n"
     ]
    },
    {
     "name": "stderr",
     "output_type": "stream",
     "text": [
      " 96%|█████████▌| 788/825 [1:04:07<05:45,  9.34s/it]"
     ]
    },
    {
     "name": "stdout",
     "output_type": "stream",
     "text": [
      "trying to get fixed json for summary\n"
     ]
    },
    {
     "name": "stderr",
     "output_type": "stream",
     "text": [
      " 96%|█████████▋| 795/825 [1:04:31<02:55,  5.86s/it]"
     ]
    },
    {
     "name": "stdout",
     "output_type": "stream",
     "text": [
      "trying to get fixed json for summary\n"
     ]
    },
    {
     "name": "stderr",
     "output_type": "stream",
     "text": [
      " 97%|█████████▋| 797/825 [1:04:55<03:19,  7.11s/it]"
     ]
    },
    {
     "name": "stdout",
     "output_type": "stream",
     "text": [
      "trying to get fixed json for summary\n"
     ]
    },
    {
     "name": "stderr",
     "output_type": "stream",
     "text": [
      " 97%|█████████▋| 800/825 [1:05:11<02:44,  6.60s/it]"
     ]
    },
    {
     "name": "stdout",
     "output_type": "stream",
     "text": [
      "trying to get fixed json for summary\n"
     ]
    },
    {
     "name": "stderr",
     "output_type": "stream",
     "text": [
      " 97%|█████████▋| 803/825 [1:05:30<02:22,  6.48s/it]"
     ]
    },
    {
     "name": "stdout",
     "output_type": "stream",
     "text": [
      "trying to get fixed json for summary\n"
     ]
    },
    {
     "name": "stderr",
     "output_type": "stream",
     "text": [
      " 97%|█████████▋| 804/825 [1:05:45<02:38,  7.56s/it]"
     ]
    },
    {
     "name": "stdout",
     "output_type": "stream",
     "text": [
      "trying to get fixed json for summary\n"
     ]
    },
    {
     "name": "stderr",
     "output_type": "stream",
     "text": [
      " 98%|█████████▊| 805/825 [1:06:04<03:03,  9.20s/it]"
     ]
    },
    {
     "name": "stdout",
     "output_type": "stream",
     "text": [
      "trying to get fixed json for summary\n"
     ]
    },
    {
     "name": "stderr",
     "output_type": "stream",
     "text": [
      " 98%|█████████▊| 810/825 [1:06:22<01:35,  6.34s/it]"
     ]
    },
    {
     "name": "stdout",
     "output_type": "stream",
     "text": [
      "trying to get fixed json for summary\n"
     ]
    },
    {
     "name": "stderr",
     "output_type": "stream",
     "text": [
      " 99%|█████████▉| 816/825 [1:06:37<00:40,  4.54s/it]"
     ]
    },
    {
     "name": "stdout",
     "output_type": "stream",
     "text": [
      "trying to get fixed json for summary\n"
     ]
    },
    {
     "name": "stderr",
     "output_type": "stream",
     "text": [
      " 99%|█████████▉| 817/825 [1:06:55<00:46,  5.86s/it]"
     ]
    },
    {
     "name": "stdout",
     "output_type": "stream",
     "text": [
      "trying to get fixed json for summary\n"
     ]
    },
    {
     "name": "stderr",
     "output_type": "stream",
     "text": [
      " 99%|█████████▉| 818/825 [1:07:17<00:55,  7.90s/it]"
     ]
    },
    {
     "name": "stdout",
     "output_type": "stream",
     "text": [
      "trying to get fixed json for summary\n"
     ]
    },
    {
     "name": "stderr",
     "output_type": "stream",
     "text": [
      "100%|█████████▉| 821/825 [1:07:31<00:27,  6.81s/it]"
     ]
    },
    {
     "name": "stdout",
     "output_type": "stream",
     "text": [
      "trying to get fixed json for summary\n"
     ]
    },
    {
     "name": "stderr",
     "output_type": "stream",
     "text": [
      "100%|█████████▉| 822/825 [1:07:55<00:27,  9.17s/it]"
     ]
    },
    {
     "name": "stdout",
     "output_type": "stream",
     "text": [
      "trying to get fixed json for summary\n"
     ]
    },
    {
     "name": "stderr",
     "output_type": "stream",
     "text": [
      "100%|██████████| 825/825 [1:08:09<00:00,  4.96s/it]\n"
     ]
    }
   ],
   "source": [
    "standardized_responses = {}\n",
    "errenous_summaries = []\n",
    "for art_id in td.tqdm(article_wise_responses.keys()):\n",
    "    response = article_wise_responses[art_id]['response']\n",
    "    expected_keys_1 = ['analysis_is_financial_or_business_news', 'is_financial_or_business_news', 'analysis_of_relevant_for_india', 'relevant_for_india',\n",
    "                        'analysis_of_article_validity_duration', 'article_validity_duration', 'analysis_of_popularity', 'popularity', 'analysis_of_article_type', 'article_type', \n",
    "                        'analysis_of_article_sentiment', 'article_sentiment', 'headline_suggestion']\n",
    "    expected_keys_2 = ['summary_list']\n",
    "    if isinstance(response, list):\n",
    "        res = {}\n",
    "        for ele in response:\n",
    "            res.update(ele)\n",
    "        response = res\n",
    "        # response = deepcopy(article_wise_responses[art_id]['response'][0])\n",
    "        # try:\n",
    "        #     response.update(article_wise_responses[art_id]['response'][1])\n",
    "        # except:\n",
    "        #     pass\n",
    "        # assert sorted(set(response[0].keys()).intersection(expected_keys_1)) == sorted(expected_keys_1), f\"{art_id}\"\n",
    "        # assert set(response[1].keys()) == expected_keys_2\n",
    "        # try:\n",
    "        #     summaries = json.loads(response[1]['summary_list'])\n",
    "        # except:\n",
    "        #     errenous_summaries.append(art_id)\n",
    "        #     continue\n",
    "        #     # print(f'articleId is {art_id}')\n",
    "        #     # summaries = correct_json_using_gpt(summary_json = response[1]['summary_list'])\n",
    "        # assert isinstance(summaries, list)\n",
    "        # assert len(summaries) == 3\n",
    "        # for summary in summaries:\n",
    "        #     assert 'missing_entities' in summary and 'denser_summary' in summary\n",
    "        # standardized_responses[art_id] = []\n",
    "        # standardized_responses[art_id].append(response[1])\n",
    "        # standardized_responses[art_id].append(summaries)\n",
    "        # elif isinstance(response, dict):\n",
    "    try:\n",
    "        assert sorted(set(response.keys()).intersection(set(expected_keys_1).union(set(expected_keys_2)))) == sorted(set(expected_keys_1).union(set(expected_keys_2)))\n",
    "    except:\n",
    "        errenous_summaries.append(art_id)\n",
    "        print(f'{art_id} error 0')\n",
    "        continue\n",
    "        # print(f'articleId is {art_id}')\n",
    "        # summaries = correct_json_using_gpt(summary_json = response['summary_list'])\n",
    "    try:\n",
    "        if isinstance(response['summary_list'], str):\n",
    "            summaries = json.loads(response['summary_list'])\n",
    "        elif isinstance(response['summary_list'], list):\n",
    "            summaries = response['summary_list']\n",
    "    except:\n",
    "        corrected_summary = correct_json_using_gpt(response['summary_list'])\n",
    "        try:\n",
    "            summaries = corrected_summary\n",
    "        except:\n",
    "            errenous_summaries.append(art_id)\n",
    "            print(f'{art_id} error 1')\n",
    "            continue\n",
    "    assert isinstance(summaries, list)\n",
    "    try:\n",
    "        assert len(summaries) == 3\n",
    "    except:\n",
    "        print(f'{art_id} error 2')\n",
    "        errenous_summaries.append(art_id)\n",
    "        continue\n",
    "    for summary in summaries:\n",
    "        try:\n",
    "            assert 'missing_entities' in summary and ('denser_summary' in summary or 'summary_text' in summary)\n",
    "            if 'summary_text' in summary:\n",
    "                summary['denser_summary'] = summary.pop('summary_text')\n",
    "        except:\n",
    "            print(f'{art_id} error 3')\n",
    "            errenous_summaries.append(art_id)\n",
    "            continue\n",
    "    standardized_responses[art_id] = {}\n",
    "    standardized_responses[art_id]['response'] = []\n",
    "    attribute_response = {}\n",
    "    for key in expected_keys_1:\n",
    "        attribute_response[key] = response[key]\n",
    "    standardized_responses[art_id]['response'].append(attribute_response)\n",
    "    standardized_responses[art_id]['response'].append(summaries)\n",
    "    standardized_responses[art_id]['content'] = article_wise_responses[art_id]['content']"
   ]
  },
  {
   "cell_type": "code",
   "execution_count": 163,
   "id": "fb3b40f4-c255-4901-ac0f-d3369b9b8e9b",
   "metadata": {
    "tags": []
   },
   "outputs": [
    {
     "data": {
      "text/plain": [
       "['6555ccc44b13023f934acd61',\n",
       " '651e0c73a662d76276b86a15',\n",
       " '651dd71da662d76276b7e3c2',\n",
       " '6555cb9f4b13023f9349fa71',\n",
       " '6555cba44b13023f9349fdd1',\n",
       " '6555cab84b13023f93495f7c',\n",
       " '6555c7ec4b13023f9348ee4a',\n",
       " '654cbbcadc4fa72a6c403e10',\n",
       " '6555c0084b13023f9348c97b',\n",
       " '6555ccd14b13023f934ad8ab',\n",
       " '651df9b1a662d76276b83c5d',\n",
       " '6555cbf64b13023f934a3718',\n",
       " '65316f1c1e5cc42b1b13efc1',\n",
       " '651e088ba662d76276b86119',\n",
       " '653168bd1e5cc42b1b13b78d',\n",
       " '655c5595eee55a44e0ac1e51',\n",
       " '6555c84a4b13023f934924ce',\n",
       " '651dca7ca662d76276b7c1c9',\n",
       " '651df878a662d76276b83979',\n",
       " '6555c80e4b13023f934901a6']"
      ]
     },
     "execution_count": 163,
     "metadata": {},
     "output_type": "execute_result"
    }
   ],
   "source": [
    "list(standardized_responses.keys())[-20:]"
   ]
  },
  {
   "cell_type": "code",
   "execution_count": 191,
   "id": "b9d1d019-92b8-4c45-bda7-82afb1840c3f",
   "metadata": {
    "tags": []
   },
   "outputs": [
    {
     "data": {
      "text/plain": [
       "821"
      ]
     },
     "execution_count": 191,
     "metadata": {},
     "output_type": "execute_result"
    }
   ],
   "source": [
    "len(standardized_responses.keys())"
   ]
  },
  {
   "cell_type": "code",
   "execution_count": 192,
   "id": "a349e47c-16a4-4755-a280-3005d1e0586c",
   "metadata": {
    "tags": []
   },
   "outputs": [
    {
     "data": {
      "text/plain": [
       "4"
      ]
     },
     "execution_count": 192,
     "metadata": {},
     "output_type": "execute_result"
    }
   ],
   "source": [
    "len(errenous_summaries)"
   ]
  },
  {
   "cell_type": "code",
   "execution_count": 195,
   "id": "aa0b1e91-4619-44ab-bfa8-aeb7100e00ac",
   "metadata": {
    "tags": []
   },
   "outputs": [],
   "source": [
    "test_article_ids = list(df.iloc[:101].article_id.values)"
   ]
  },
  {
   "cell_type": "code",
   "execution_count": 196,
   "id": "d5fc78e4-1651-4ffa-8c1e-db7b339395af",
   "metadata": {
    "tags": []
   },
   "outputs": [
    {
     "data": {
      "text/plain": [
       "100"
      ]
     },
     "execution_count": 196,
     "metadata": {},
     "output_type": "execute_result"
    }
   ],
   "source": [
    "len(set(test_article_ids).intersection(set(standardized_responses.keys())))"
   ]
  },
  {
   "cell_type": "code",
   "execution_count": 197,
   "id": "c94e2511-eb8b-4451-86c9-b3adc735eeaa",
   "metadata": {
    "tags": []
   },
   "outputs": [],
   "source": [
    "train_article_ids = [x for x in standardized_responses.keys() if x not in test_article_ids]"
   ]
  },
  {
   "cell_type": "code",
   "execution_count": 201,
   "id": "91793590-8a60-4b61-ab2f-04d9ad5f0357",
   "metadata": {
    "tags": []
   },
   "outputs": [
    {
     "data": {
      "text/plain": [
       "721"
      ]
     },
     "execution_count": 201,
     "metadata": {},
     "output_type": "execute_result"
    }
   ],
   "source": [
    "len(train_article_ids)"
   ]
  },
  {
   "cell_type": "code",
   "execution_count": 202,
   "id": "6e4cd334-0d4c-4ef4-86e6-8a55f8d271f3",
   "metadata": {
    "tags": []
   },
   "outputs": [],
   "source": [
    "train_standardized_responses = {k: standardized_responses[k] for k in train_article_ids}"
   ]
  },
  {
   "cell_type": "code",
   "execution_count": 203,
   "id": "c3fe7716-2fed-4d34-8c5c-31b12976404f",
   "metadata": {
    "tags": []
   },
   "outputs": [
    {
     "data": {
      "text/plain": [
       "721"
      ]
     },
     "execution_count": 203,
     "metadata": {},
     "output_type": "execute_result"
    }
   ],
   "source": [
    "len(train_standardized_responses)"
   ]
  },
  {
   "cell_type": "code",
   "execution_count": 204,
   "id": "87f57c8f-c440-4bea-b140-ef12450e3d11",
   "metadata": {
    "tags": []
   },
   "outputs": [],
   "source": [
    "with open('train_set_full_27_nov.json', 'w') as f:\n",
    "    json.dump(train_standardized_responses, f)"
   ]
  },
  {
   "cell_type": "code",
   "execution_count": 205,
   "id": "faa411e6-2769-475a-87e0-bf2fb9539738",
   "metadata": {
    "tags": []
   },
   "outputs": [],
   "source": [
    "test_standardized_responses = {k: standardized_responses[k] for k in test_article_ids}"
   ]
  },
  {
   "cell_type": "code",
   "execution_count": 206,
   "id": "90a2880a-df92-4026-a1c4-4717157cc03c",
   "metadata": {
    "tags": []
   },
   "outputs": [],
   "source": [
    "with open('test_set_full_27_nov.json', 'w') as f:\n",
    "    json.dump(test_standardized_responses, f)"
   ]
  },
  {
   "cell_type": "code",
   "execution_count": null,
   "id": "3bf36333-6a18-41c5-bdd2-eeaa0a78d770",
   "metadata": {},
   "outputs": [],
   "source": []
  },
  {
   "cell_type": "code",
   "execution_count": null,
   "id": "7f35d39a-ede1-42cb-964e-c03881efa6b8",
   "metadata": {},
   "outputs": [],
   "source": []
  }
 ],
 "metadata": {
  "kernelspec": {
   "display_name": "recoenv",
   "language": "python",
   "name": "recoenv"
  },
  "language_info": {
   "codemirror_mode": {
    "name": "ipython",
    "version": 3
   },
   "file_extension": ".py",
   "mimetype": "text/x-python",
   "name": "python",
   "nbconvert_exporter": "python",
   "pygments_lexer": "ipython3",
   "version": "3.11.5"
  }
 },
 "nbformat": 4,
 "nbformat_minor": 5
}
