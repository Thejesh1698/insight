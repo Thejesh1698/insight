{
 "cells": [
  {
   "cell_type": "code",
   "execution_count": 1,
   "id": "d9bd356a-9dd9-464c-a015-7bb336eeec14",
   "metadata": {
    "tags": []
   },
   "outputs": [],
   "source": [
    "parent_folder = '/Users/username/Desktop/ML/Recommendations/arcane/'\n",
    "from hydra import compose, initialize\n",
    "import os\n",
    "\n",
    "import xml.etree.ElementTree as ET\n",
    "\n",
    "tree = ET.parse('../../../conf/application.run.xml')\n",
    "root = tree.getroot()\n",
    "\n",
    "envs_element = root.find('./configuration/envs')\n",
    "for variable in envs_element.findall('env'):\n",
    "    name = variable.get('name')\n",
    "    value = variable.get('value')\n",
    "    os.environ[name] = value\n",
    "\n",
    "import sys\n",
    "sys.path.append('/Users/username/Desktop/ML/Recommendations/arcane/')\n",
    "\n",
    "from src._utils import load_bertopic_model_from_hf"
   ]
  },
  {
   "cell_type": "code",
   "execution_count": 2,
   "id": "9bf7da33-ba39-4470-be1c-ba799f447e90",
   "metadata": {
    "tags": []
   },
   "outputs": [],
   "source": [
    "import json"
   ]
  },
  {
   "cell_type": "code",
   "execution_count": 3,
   "id": "766fa792-8fac-4414-89f8-fb043c780280",
   "metadata": {
    "tags": []
   },
   "outputs": [],
   "source": [
    "import numpy as np\n",
    "import pandas as pd"
   ]
  },
  {
   "cell_type": "markdown",
   "id": "16f36dfb-194a-481b-945f-9cbdbbd41304",
   "metadata": {},
   "source": [
    "### Getting pending articles"
   ]
  },
  {
   "cell_type": "code",
   "execution_count": 138,
   "id": "06e37993-574a-4516-8498-ab94f594439e",
   "metadata": {
    "tags": []
   },
   "outputs": [],
   "source": [
    "from sql.PostgresDatabaseOperation import PostgresDatabaseOperation\n",
    "\n",
    "with PostgresDatabaseOperation() as cursor:\n",
    "    sql = 'SELECT DISTINCT article_id FROM embeddings'\n",
    "    cursor.execute(sql)\n",
    "    results = cursor.fetchall()\n",
    "\n",
    "all_article_ids = [x[0] for x in results]"
   ]
  },
  {
   "cell_type": "code",
   "execution_count": 291,
   "id": "ed2c2b2e-459f-41cc-a45f-5a3b49c84699",
   "metadata": {
    "tags": []
   },
   "outputs": [],
   "source": [
    "# valid_articles = {}\n",
    "\n",
    "# for k in insight_articles:\n",
    "#     if 'is_premium_article' in k and k['is_premium_article'] == False:\n",
    "#         article_id = k['_id']['$oid']\n",
    "#         valid_articles[article_id] = k\n",
    "#         valid_articles[article_id]['source_id'] = k['source_id']['$oid']\n",
    "\n",
    "# valid_article_ids = list(valid_articles.keys())"
   ]
  },
  {
   "cell_type": "code",
   "execution_count": 292,
   "id": "93eb9335-eb42-425d-9418-cf2de58ed729",
   "metadata": {
    "tags": []
   },
   "outputs": [],
   "source": [
    "# created_articles_df = pd.read_csv('all_article_attributes_WatermelonSapphireZipline.csv')\n",
    "\n",
    "# created_articles = list(created_articles_df.article_id.unique())"
   ]
  },
  {
   "cell_type": "code",
   "execution_count": 139,
   "id": "6127a14b-8b06-4227-93da-cb8367ab985f",
   "metadata": {
    "tags": []
   },
   "outputs": [],
   "source": [
    "from sql.PostgresDatabaseOperation import PostgresDatabaseOperation"
   ]
  },
  {
   "cell_type": "code",
   "execution_count": 140,
   "id": "8527b16b-c68c-4a96-b2ff-fd2fea136c13",
   "metadata": {
    "tags": []
   },
   "outputs": [],
   "source": [
    "with PostgresDatabaseOperation() as cursor:\n",
    "    sql = 'SELECT DISTINCT article_id FROM llm_article_attributes'\n",
    "    cursor.execute(sql)\n",
    "    results = cursor.fetchall()"
   ]
  },
  {
   "cell_type": "code",
   "execution_count": 141,
   "id": "6c1faa5c-5de5-485f-bf10-743c4b925e2f",
   "metadata": {
    "tags": []
   },
   "outputs": [],
   "source": [
    "db_saved_results = [x[0] for x in results]"
   ]
  },
  {
   "cell_type": "code",
   "execution_count": 142,
   "id": "44464cfe-8978-456e-93f8-cc7e4fa12dbb",
   "metadata": {
    "tags": []
   },
   "outputs": [
    {
     "data": {
      "text/plain": [
       "153957"
      ]
     },
     "execution_count": 142,
     "metadata": {},
     "output_type": "execute_result"
    }
   ],
   "source": [
    "len(db_saved_results)"
   ]
  },
  {
   "cell_type": "code",
   "execution_count": 143,
   "id": "ec11c98f-f788-4d29-bdaf-9bcc04a63c70",
   "metadata": {
    "tags": []
   },
   "outputs": [],
   "source": [
    "pending_articles = list(set(all_article_ids) - set(db_saved_results))"
   ]
  },
  {
   "cell_type": "code",
   "execution_count": 144,
   "id": "5b3120f9-ec68-4783-add8-86f9257c03cc",
   "metadata": {
    "tags": []
   },
   "outputs": [
    {
     "data": {
      "text/plain": [
       "11"
      ]
     },
     "execution_count": 144,
     "metadata": {},
     "output_type": "execute_result"
    }
   ],
   "source": [
    "len(pending_articles)"
   ]
  },
  {
   "cell_type": "code",
   "execution_count": 146,
   "id": "5872abef-ad21-4486-ab86-04978ae7c716",
   "metadata": {
    "tags": []
   },
   "outputs": [
    {
     "data": {
      "text/plain": [
       "'651dc3b6a662d76276b7afd8'"
      ]
     },
     "execution_count": 146,
     "metadata": {},
     "output_type": "execute_result"
    }
   ],
   "source": [
    "db_saved_results[20]"
   ]
  },
  {
   "cell_type": "code",
   "execution_count": 145,
   "id": "78376b2c-baa4-4e2d-bff8-524e2d52d5f0",
   "metadata": {
    "tags": []
   },
   "outputs": [
    {
     "data": {
      "text/plain": [
       "['65316f1f1e5cc42b1b13f01b',\n",
       " '65316eaf1e5cc42b1b13e625',\n",
       " '65316eaf1e5cc42b1b13e623',\n",
       " '65316f121e5cc42b1b13ee36',\n",
       " '65316ea41e5cc42b1b13e5e2',\n",
       " '65316f151e5cc42b1b13eea8',\n",
       " '65316f1d1e5cc42b1b13efcc',\n",
       " '65316ebe1e5cc42b1b13e69e',\n",
       " '65316e9b1e5cc42b1b13e5b7',\n",
       " '65316f0a1e5cc42b1b13ed29',\n",
       " '65316ea21e5cc42b1b13e5da']"
      ]
     },
     "execution_count": 145,
     "metadata": {},
     "output_type": "execute_result"
    }
   ],
   "source": [
    "pending_articles"
   ]
  },
  {
   "cell_type": "markdown",
   "id": "f5eb7c08-21c7-4216-8c98-5e82fb9d27c1",
   "metadata": {},
   "source": [
    "### Fetching function"
   ]
  },
  {
   "cell_type": "code",
   "execution_count": 2,
   "id": "f7878fc2-5169-4cfa-a5ac-dd1bc2c3d4f6",
   "metadata": {
    "tags": []
   },
   "outputs": [],
   "source": [
    "from concurrent.futures import ThreadPoolExecutor, as_completed\n",
    "import requests\n",
    "import time\n",
    "from datetime import datetime"
   ]
  },
  {
   "cell_type": "code",
   "execution_count": 3,
   "id": "c8fa8fe1-b3a3-4720-bd1b-ca4246967173",
   "metadata": {
    "tags": []
   },
   "outputs": [],
   "source": [
    "def get_attributes_from_llm(article_id):\n",
    "    url = 'http://Arcane-env.eba-mrsaixmg.ap-south-1.elasticbeanstalk.com/get_article_attributes_from_llm'\n",
    "    r = requests.post(url, json = {'articleId': article_id})\n",
    "    return article_id, r.text"
   ]
  },
  {
   "cell_type": "code",
   "execution_count": 125,
   "id": "250f1ccf-ef4d-43e5-9477-4580c4de0c18",
   "metadata": {
    "tags": []
   },
   "outputs": [],
   "source": [
    "def get_attributes_for_article_ids(article_ids):\n",
    "    start_time = time.time()\n",
    "    valid_attributes = {}\n",
    "    completed = 0\n",
    "    with ThreadPoolExecutor(max_workers=40) as executor:\n",
    "        futures = [executor.submit(get_attributes_from_llm, art_id) for art_id in article_ids]\n",
    "        \n",
    "        for future in as_completed(futures):\n",
    "            if future.result():\n",
    "                art_id, response = future.result()\n",
    "                if response:\n",
    "                    try:\n",
    "                        valid_attributes[art_id] = json.loads(response)\n",
    "                        completed += 1\n",
    "                    except:\n",
    "                        pass\n",
    "    print(f'Processed {completed} IDs in {time.time() - start_time} seconds at {datetime.now()}')\n",
    "    return valid_attributes"
   ]
  },
  {
   "cell_type": "code",
   "execution_count": 15,
   "id": "ca7e8877-f9b4-4f04-ad20-939b5e3395ae",
   "metadata": {
    "tags": []
   },
   "outputs": [],
   "source": [
    "a, b = get_attributes_from_llm('6555cab94b13023f93495fa6')"
   ]
  },
  {
   "cell_type": "code",
   "execution_count": 9,
   "id": "e9a6578b-c909-429f-8c2a-9c95c56dc913",
   "metadata": {
    "tags": []
   },
   "outputs": [],
   "source": [
    "import json"
   ]
  },
  {
   "cell_type": "code",
   "execution_count": 16,
   "id": "5ba1ae20-1022-4676-86e2-200d7a6d80d9",
   "metadata": {
    "tags": []
   },
   "outputs": [
    {
     "data": {
      "text/plain": [
       "{'analysis_of_article_sentiment': 'The sentiment in the article is neutral as it reports on facts about the current situation.',\n",
       " 'analysis_of_article_type': 'The article presents factual information about a report on retirement savings of both sexes by Bank of America, with some inferences about the pay gaps.',\n",
       " 'analysis_of_article_validity_duration': 'The report focuses on the findings of a 2022 report. Given its nature, the implications of the data would last for a week.',\n",
       " 'analysis_of_financial_or_business_news': 'The article discusses retirement savings statistics and how they vary between men and women.',\n",
       " 'analysis_of_popularity': 'This article might garner moderate interest as it talks about saving patterns, a common concern among the public.',\n",
       " 'analysis_of_relevant_for_india': 'The news revolves around a US Banking report about retirement savings. While Indians might be interested in similar issues in the US, the specifics of the study would be less relevant.',\n",
       " 'article_sentiment': 'na',\n",
       " 'article_type': 'fact',\n",
       " 'article_validity_duration': 7,\n",
       " 'final_summary': 'Bank of Americas 2022 report shows that mens 401(k) retirement accounts average $89000 compared to womens at $59000. While the divide is greatest for older generations younger women are saving more. The study also highlights the declining interest in 401(k) retirement plans. Alongside this it highlights other employee benefits being utilized.',\n",
       " 'financial_or_business_news': True,\n",
       " 'first_attempt_summary': 'A 2022 report by Bank of America states that in 2022 the average 401(k) account amount for men was $89,000, whereas for women, it was $59,000. Despite this, younger women appear to be saving more than preceding generations. The study also highlighted the steady decline in interest in 401(k) accounts and increasing use of other benefits.',\n",
       " 'headline_suggestion': 'Bank of America Report Highlights Retirement Savings Gap Between Men and Women',\n",
       " 'improved_summary': \"Bank of America's 2022 report reveals that men's 401(k) account averaged $89,000, while women's averaged $59,000. The study, covering 6 million workers across 25000 companies, also highlights an increase in other employee benefit usage.\",\n",
       " 'popularity': 'moderately_popular',\n",
       " 'relevant_for_india': False,\n",
       " 'top_categories': 'Finance;Banking;Retirement Savings;Employee Benefits;Gender Differences',\n",
       " 'hours_since_publication': 3850.4762852325}"
      ]
     },
     "execution_count": 16,
     "metadata": {},
     "output_type": "execute_result"
    }
   ],
   "source": [
    "json.loads(b)"
   ]
  },
  {
   "cell_type": "markdown",
   "id": "a5df687f-4b27-42c5-9fc1-51822d82bd7f",
   "metadata": {},
   "source": [
    "### Firing in chunks"
   ]
  },
  {
   "cell_type": "code",
   "execution_count": 135,
   "id": "7a9032d1-0ec8-47e7-a487-b715cb16d090",
   "metadata": {
    "tags": []
   },
   "outputs": [
    {
     "data": {
      "text/plain": [
       "1"
      ]
     },
     "execution_count": 135,
     "metadata": {},
     "output_type": "execute_result"
    }
   ],
   "source": [
    "chunk_size = 200\n",
    "num_chunks = (len(pending_articles)//chunk_size) + 1\n",
    "num_chunks"
   ]
  },
  {
   "cell_type": "code",
   "execution_count": 136,
   "id": "6c815674-4d2c-42a5-88fa-7b4b720c6afb",
   "metadata": {
    "scrolled": true,
    "tags": []
   },
   "outputs": [
    {
     "name": "stdout",
     "output_type": "stream",
     "text": [
      "Processed 0 IDs in 3.1425819396972656 seconds at 2023-12-10 13:06:15.110960\n"
     ]
    }
   ],
   "source": [
    "for i in range(num_chunks):\n",
    "    cur_article_ids = pending_articles[i * chunk_size: (i+1)*chunk_size]\n",
    "    get_attributes_for_article_ids(cur_article_ids)"
   ]
  },
  {
   "cell_type": "code",
   "execution_count": 22,
   "id": "5af08b15-c32d-4de3-ab92-b7f037e68284",
   "metadata": {
    "tags": []
   },
   "outputs": [],
   "source": [
    "sample_articles = list(valid_articles.keys())[:10]"
   ]
  },
  {
   "cell_type": "code",
   "execution_count": 263,
   "id": "a6c620ad-45c2-4648-abc2-491f66aba883",
   "metadata": {
    "tags": []
   },
   "outputs": [],
   "source": [
    "random_articles = np.random.choice(list(valid_articles.keys()), 20)"
   ]
  },
  {
   "cell_type": "code",
   "execution_count": 261,
   "id": "6096cca8-562c-4932-8792-8b225dfd6ac0",
   "metadata": {
    "tags": []
   },
   "outputs": [
    {
     "data": {
      "text/plain": [
       "'651e1c02a662d76276b88e46'"
      ]
     },
     "execution_count": 261,
     "metadata": {},
     "output_type": "execute_result"
    }
   ],
   "source": [
    "random_articles[0]"
   ]
  },
  {
   "cell_type": "code",
   "execution_count": 212,
   "id": "c341470d-c190-441d-b3df-35a3d9bd3db9",
   "metadata": {
    "tags": []
   },
   "outputs": [
    {
     "data": {
      "text/plain": [
       "('65316ff01e5cc42b1b142a01',\n",
       " '{\"analysis_of_article_sentiment\": \"The sentiment of the article is neutral as it provides factual details without expressing a specific positive or negative opinion.\", \"analysis_of_article_type\": \"The article is factual as it presents daily updates on Tata Steel stock prices.\", \"analysis_of_article_validity_duration\": \"This is a daily stock update which is not tied to any policy change or upcoming event, and hence, is not valid for long term.\", \"analysis_of_financial_or_business_news\": \"The article discusses the stock performance of Tata Steel, thus it falls under the financial news.\", \"analysis_of_popularity\": \"This information targets a specific audience i.e., stock traders or investors interested in Tata Steel, making it a niche piece.\", \"analysis_of_relevant_for_india\": \"Tata Steel is a key Indian corporation, hence its stock performances can be of interest to Indian investors and financial news enthusiasts.\", \"article_sentiment\": \"na\", \"article_type\": \"fact\", \"article_validity_duration\": 1, \"final_summary\": \"Todays Tata Steel stock price had minor fluctuations a rise of 0.4% to Rs 112 with a net change of 0.45. It opened at Rs 111.15 and closed at Rs 111.75. The company has shown slight variations in its stock performance recently with an overall slight decline.\", \"financial_or_business_news\": true, \"first_attempt_summary\": \"Today\\'s Tata Steel stock closed at Rs 112, a 0.4% increase from its previous day\\'s closing price. The day\\'s stock price fluctuated slightly. In the last week, the stock has shown a downward trend with minor fluctuations. Tata Steel is a key Indian corporation, hence its stock performance is often a point of interest.\", \"headline_suggestion\": \"Today\\'s Tata Steel Stock Price: Slight Increase and Minor Fluctuations\", \"improved_summary\": \"Today\\'s Tata Steel stock price showed slight fluctuations, opening at Rs 111.15, closing at Rs 111.75, and reaching a high of Rs 112.1. The stock experienced a slight increase of 0.4% in its closing price. The company\\'s stock has been seen as exhibiting slight declines in recent times.\", \"popularity\": \"niche\", \"relevant_for_india\": true, \"top_categories\": \"Business; Finance; Stock Market; Indian Companies; Tata Steel\"}')"
      ]
     },
     "execution_count": 212,
     "metadata": {},
     "output_type": "execute_result"
    }
   ],
   "source": [
    "get_attributes_from_llm(article_id=random_articles[0])"
   ]
  },
  {
   "cell_type": "code",
   "execution_count": 146,
   "id": "41000d1b-a6ab-4815-b473-b9635ac030cc",
   "metadata": {
    "tags": []
   },
   "outputs": [
    {
     "name": "stdout",
     "output_type": "stream",
     "text": [
      "Processed 15 IDs in 105.27986407279968 seconds at 2023-12-04 19:01:01.400113\n"
     ]
    }
   ],
   "source": [
    "va = get_attributes_for_article_ids(random_articles)"
   ]
  },
  {
   "cell_type": "code",
   "execution_count": 135,
   "id": "d9460c2f-9c43-4c60-95bc-b7a579f2cf0a",
   "metadata": {
    "tags": []
   },
   "outputs": [
    {
     "data": {
      "text/plain": [
       "4.826086956521739"
      ]
     },
     "execution_count": 135,
     "metadata": {},
     "output_type": "execute_result"
    }
   ],
   "source": [
    "111/23"
   ]
  },
  {
   "cell_type": "code",
   "execution_count": 76,
   "id": "e2f86c0f-03c0-4fc0-a1bb-ad6e4515be83",
   "metadata": {
    "tags": []
   },
   "outputs": [],
   "source": [
    "def get_attributes_for_list_from_llm(article_ids):\n",
    "    url = 'http://Arcane-env.eba-mrsaixmg.ap-south-1.elasticbeanstalk.com/get_article_attributes_from_llm'\n",
    "    r = requests.post(url, json = {'articleIds': ','.join(article_ids)})\n",
    "    return article_ids, r.text"
   ]
  },
  {
   "cell_type": "code",
   "execution_count": 264,
   "id": "26cd53b4-46be-475f-aed3-7476b8319055",
   "metadata": {
    "tags": []
   },
   "outputs": [
    {
     "data": {
      "text/plain": [
       "'655c1d6e4b13023f934af568'"
      ]
     },
     "execution_count": 264,
     "metadata": {},
     "output_type": "execute_result"
    }
   ],
   "source": [
    "random_articles[1]"
   ]
  },
  {
   "cell_type": "code",
   "execution_count": 265,
   "id": "97e490b5-756e-4a07-8dee-e36fd2799bf5",
   "metadata": {
    "tags": []
   },
   "outputs": [],
   "source": [
    "import time"
   ]
  },
  {
   "cell_type": "code",
   "execution_count": 266,
   "id": "4987b10a-1f45-4f49-9c8b-b355a11848fb",
   "metadata": {
    "tags": []
   },
   "outputs": [
    {
     "name": "stdout",
     "output_type": "stream",
     "text": [
      "done in -31.320125818252563 seconds\n"
     ]
    }
   ],
   "source": [
    "start_time = time.time()\n",
    "ax, bx = get_attributes_from_llm(random_articles[1])\n",
    "print(f'done in {start_time - time.time()} seconds')"
   ]
  },
  {
   "cell_type": "code",
   "execution_count": 267,
   "id": "d1634eae-c916-46d2-a320-b5f969f11993",
   "metadata": {
    "tags": []
   },
   "outputs": [
    {
     "data": {
      "text/plain": [
       "'{\"analysis_of_article_sentiment\": \"The overall sentiment of the article is neutral, presenting various products and deals without favoring any particular company.\", \"analysis_of_article_type\": \"This article is fact-driven, providing a list of deals and products available ahead of Black Friday.\", \"analysis_of_article_validity_duration\": \"The validity of these deals is limited due to the impending Black Friday event, valid through November 24, 2023.\", \"analysis_of_financial_or_business_news\": \"This article focuses on early Black Friday deals, discussing a variety of products ranging from electronics to home goods and appliances.\", \"analysis_of_popularity\": \"The article targets consumers interested in Black Friday deals, making it niche. However, due to the widespread popularity of Black Friday, the content should garner a relatively wide audience.\", \"analysis_of_relevant_for_india\": \"Despite being based in the US, the article pertains to global consumer behavior, particularly surrounding Black Friday deals, and most of the items mentioned can be easily found online.\", \"article_sentiment\": \"na\", \"article_type\": \"fact\", \"article_validity_duration\": 1, \"final_summary\": \"Ahead of Black Friday this guide encompasses deals across gaming equipment electronics kitchen appliances and home furnishings. Popular brands such as Apple Sony Logitech Hisense and Samsung are represented. With discounts ranging from 11% to 56% these deals provide great value and provide anticipation for Black Fridays offers.\", \"financial_or_business_news\": true, \"first_attempt_summary\": \"This article discusses early Black Friday deals available before the official event on November 24, 2023. Products range from electronics to home goods and appliances including gaming equipment, smart TVs, air fryers, appliances, home decorations, and gaming gear. It features a variety of big name brands and their discounted products. Provides listings of deals from major retailers.\", \"headline_suggestion\": \"Early Black Friday Deals: A Comprehensive Guide to Savings on Electronics, Home Goods, and More\", \"improved_summary\": \"The guide provides insight into what to expect from Black Friday, showcasing popular products from brands like Apple, Sony, Logitech, Hisense, Samsung, and more. Offers range from minor discounts of 11% to significant savings of up to 56%. Highlights popular products and predicts deals that will likely be available during Black Friday.\", \"popularity\": \"moderately_popular\", \"relevant_for_india\": true, \"top_categories\": \"Technology; Retail; Black Friday; Consumer Electronics; Shopping\"}'"
      ]
     },
     "execution_count": 267,
     "metadata": {},
     "output_type": "execute_result"
    }
   ],
   "source": [
    "bx"
   ]
  },
  {
   "cell_type": "code",
   "execution_count": 111,
   "id": "25489ca4-f7cf-47c0-ab65-e3698bec5b76",
   "metadata": {
    "tags": []
   },
   "outputs": [],
   "source": [
    "url = 'http://Arcane-env.eba-mrsaixmg.ap-south-1.elasticbeanstalk.com/get_article_attributes_from_llm'"
   ]
  },
  {
   "cell_type": "code",
   "execution_count": 120,
   "id": "671d2123-6d65-494a-9d6b-65c982def89d",
   "metadata": {
    "tags": []
   },
   "outputs": [],
   "source": [
    "r = requests.post(url, json = {'articleId': '6555cc3f4b13023f934a6c2b'})"
   ]
  },
  {
   "cell_type": "code",
   "execution_count": 121,
   "id": "75f5fe43-0cff-4dfc-9c3f-140261e45827",
   "metadata": {
    "tags": []
   },
   "outputs": [
    {
     "data": {
      "text/plain": [
       "'{\"analysis_of_article_sentiment\": \"The sentiment of the article is mixed, with negative sentiments regarding the hike in prices and positive sentiments about the impact on the EV industry.\", \"analysis_of_article_type\": \"The article is largely factual, covering specific developments and announcements from Ather Energy about price hikes, regulation compliance, and the impact on the EV industry.\", \"analysis_of_article_validity_duration\": \"The article covers a short-term price hike, future plans of the company, and regulatory compliance. It has validity over a short period.\", \"analysis_of_financial_or_business_news\": \"The article talks about a price hike by Ather Energy for its electric scooter, its reasoning behind it, the consequences of the price hike and its impacts on its products, production plans and future plans.\", \"analysis_of_popularity\": \"The article would appeal to a niche audience including those interested in the EV industry, economic policies, price hikes, business strategies and Electric Vehicle market trends.\", \"analysis_of_relevant_for_india\": \"This is a news about Indian company Ather Energy, whose price hike would impact their business and customers within the country.\", \"article_sentiment\": \"na\", \"article_type\": \"fact\", \"article_validity_duration\": 3, \"final_summary\": \"Ather Energy after suffering a Rs 32000 subsidy loss per scooter has partially mitigated it by raising the scooter price by Rs 7000. Furthermore it expects the total subsidy offset in 18 months after raising the entry-level models price by Rs 25000-30000. The company also pledged to reimburse Rs 140 crore to its customers for selling the charger separately.\", \"financial_or_business_news\": true, \"first_attempt_summary\": \"Ather Energy partially absorbed a Rs 32,000 per unit subsidy loss by increasing the scooter price by Rs 7000. The decision was based on the companys profitability per individual product. The company expects to fully refund customers in six months and offset subsidy loss in 18 months, by selling the charger separately. The article also mentions the brand had previously pledged to refund Rs 140 crores to customers who bought the charger separately.\", \"headline_suggestion\": \"Ather Energy Partially Absorbs Subsidy Loss; Raises Prices\", \"improved_summary\": \"In this article, Ather Energy, after facing a Rs 32,000 per unit subsidy loss, raised the scooter price by Rs 7000, partially absorbing the subsidy loss. The company also raised the price of its entry-level model, priced between Rs 25000-30000. It has pledged to refund its customers for previously selling charger separately.\", \"popularity\": \"niche\", \"relevant_for_india\": true, \"top_categories\": \"Business News; Automobile Industry; Electric Vehicles; Price Hike; Subsidies\"}'"
      ]
     },
     "execution_count": 121,
     "metadata": {},
     "output_type": "execute_result"
    }
   ],
   "source": [
    "r.text"
   ]
  },
  {
   "cell_type": "code",
   "execution_count": 117,
   "id": "02e334d0-b22f-48e5-bfc4-15138a01bd7f",
   "metadata": {
    "tags": []
   },
   "outputs": [],
   "source": [
    "import uuid"
   ]
  },
  {
   "cell_type": "code",
   "execution_count": 77,
   "id": "eac1c065-24c2-4797-9b0a-b79e44e40a22",
   "metadata": {
    "tags": []
   },
   "outputs": [
    {
     "data": {
      "text/plain": [
       "'6555cc3f4b13023f934a6c2b'"
      ]
     },
     "execution_count": 77,
     "metadata": {},
     "output_type": "execute_result"
    }
   ],
   "source": [
    "random_articles[0]"
   ]
  },
  {
   "cell_type": "code",
   "execution_count": 109,
   "id": "89021b19-f7b1-4593-be19-23bd38c7cd41",
   "metadata": {
    "tags": []
   },
   "outputs": [
    {
     "data": {
      "text/plain": [
       "'651dee54a662d76276b820fb'"
      ]
     },
     "execution_count": 109,
     "metadata": {},
     "output_type": "execute_result"
    }
   ],
   "source": [
    "random_articles[0]"
   ]
  },
  {
   "cell_type": "code",
   "execution_count": 106,
   "id": "e8796f1d-8b4e-4acd-8185-36eb292e2b7a",
   "metadata": {
    "tags": []
   },
   "outputs": [],
   "source": [
    "a, b = get_attributes_from_llm(random_articles[0])"
   ]
  },
  {
   "cell_type": "code",
   "execution_count": 107,
   "id": "c5480b97-a9d4-4dc9-a699-96f37f1a5fb4",
   "metadata": {
    "tags": []
   },
   "outputs": [
    {
     "data": {
      "text/plain": [
       "'<!doctype html>\\n<html lang=en>\\n<title>500 Internal Server Error</title>\\n<h1>Internal Server Error</h1>\\n<p>The server encountered an internal error and was unable to complete your request. Either the server is overloaded or there is an error in the application.</p>\\n'"
      ]
     },
     "execution_count": 107,
     "metadata": {},
     "output_type": "execute_result"
    }
   ],
   "source": [
    "b"
   ]
  },
  {
   "cell_type": "code",
   "execution_count": 92,
   "id": "a6a8bb78-c852-4865-aec9-1dda81a496c0",
   "metadata": {
    "tags": []
   },
   "outputs": [
    {
     "data": {
      "text/plain": [
       "dict_keys(['651dcf62a662d76276b7cf37', '651e0ce0a662d76276b86b12', '653168de1e5cc42b1b13bf01', '65316f5d1e5cc42b1b13fbb5', '6555c3ab4b13023f9348d52e', '6555c8144b13023f934905d3', '6555ca924b13023f934947f2', '6555caac4b13023f93495712', '6555cc3f4b13023f934a6c2b', '655c1eb74b13023f934af585'])"
      ]
     },
     "execution_count": 92,
     "metadata": {},
     "output_type": "execute_result"
    }
   ],
   "source": [
    "json.loads(b).keys()"
   ]
  },
  {
   "cell_type": "code",
   "execution_count": 96,
   "id": "26e14c94-b993-43cd-88a8-1d0fec1b5dd6",
   "metadata": {
    "tags": []
   },
   "outputs": [
    {
     "data": {
      "text/plain": [
       "{'analysis_of_article_sentiment': 'The sentiment in the article is bullish since it discusses a growth in leasing',\n",
       " 'analysis_of_article_type': 'The article is factual, presenting information on a research report and giving data on rents',\n",
       " 'analysis_of_article_validity_duration': 'The article has a specific timeframe i.e., the first half of 2023. Its validity would be a couple of months until a new report is released',\n",
       " 'analysis_of_financial_or_business_news': 'The article covers data on retail leasing in Delhi-NCR, how it has grown, and the trend in rents',\n",
       " 'analysis_of_popularity': 'The article would be of moderate interest as it covers a growth in a specific geographical area and discusses popular brands',\n",
       " 'analysis_of_relevant_for_india': 'The information is specifically relevant for India, talking about changes in property trends in Delhi-NCR',\n",
       " 'article_sentiment': 'bull',\n",
       " 'article_type': 'fact',\n",
       " 'article_validity_duration': 30,\n",
       " 'final_summary': 'In H1 2023 Delhi-NCR saw a significant increase in retail leasing by 65% indicating an encouraging market environment. While investment-grade malls high streets and standalone developments recorded high growth key international brands made their debut in Delhi-NCR contributing to the leasing dynamics. Notably retail leasing growth across India rose by 24% in H1 2023.',\n",
       " 'financial_or_business_news': True,\n",
       " 'first_attempt_summary': 'Delhi-NCR has seen a 65% rise in retail leasing in the first half of 2023, indicating a bullish trend in the market. The report also shows positive leasing sentiments from retailers, reflecting their interest in expanding operations and setting up new shops. International brands such as Apple, Pret A Manger, and Tim Hortons entered Delhi-NCR, strengthening their presence.',\n",
       " 'headline_suggestion': 'Retail Leasing in Delhi-NCR Rises by 65% in H1 2023',\n",
       " 'improved_summary': 'In addition to retail leasing growth, the report mentions the rise in retail leasing across India by 24% in H1 2023. Key global brands also marked their debut in Delhi-NCR, contributing to the increased retail activity.',\n",
       " 'popularity': 'moderately_popular',\n",
       " 'relevant_for_india': True,\n",
       " 'top_categories': 'Business; Retail; Real Estate; Investment; Delhi-NCR'}"
      ]
     },
     "execution_count": 96,
     "metadata": {},
     "output_type": "execute_result"
    }
   ],
   "source": [
    "json.loads(b)['653168de1e5cc42b1b13bf01']"
   ]
  },
  {
   "cell_type": "code",
   "execution_count": 80,
   "id": "f3d629e2-503a-46c3-8007-dbbc7162aba1",
   "metadata": {
    "tags": []
   },
   "outputs": [
    {
     "data": {
      "text/plain": [
       "'6555cc3f4b13023f934a6c2b'"
      ]
     },
     "execution_count": 80,
     "metadata": {},
     "output_type": "execute_result"
    }
   ],
   "source": [
    "a"
   ]
  },
  {
   "cell_type": "code",
   "execution_count": 79,
   "id": "db8cc418-8686-442e-930f-2be8eb04464b",
   "metadata": {
    "tags": []
   },
   "outputs": [
    {
     "data": {
      "text/plain": [
       "'{}\\n'"
      ]
     },
     "execution_count": 79,
     "metadata": {},
     "output_type": "execute_result"
    }
   ],
   "source": [
    "b"
   ]
  },
  {
   "cell_type": "code",
   "execution_count": 75,
   "id": "d0af2129-8995-4a5d-b151-5b16c4951048",
   "metadata": {
    "tags": []
   },
   "outputs": [
    {
     "data": {
      "text/plain": [
       "'6555cc3f4b13023f934a6c2b,651dcf62a662d76276b7cf37,651e0ce0a662d76276b86b12,65316f5d1e5cc42b1b13fbb5,6555c3ab4b13023f9348d52e,6555caac4b13023f93495712,6555c8144b13023f934905d3,655c1eb74b13023f934af585,653168de1e5cc42b1b13bf01,6555ca924b13023f934947f2'"
      ]
     },
     "execution_count": 75,
     "metadata": {},
     "output_type": "execute_result"
    }
   ],
   "source": [
    "','.join(random_articles)"
   ]
  },
  {
   "cell_type": "code",
   "execution_count": 64,
   "id": "2a6c3ba2-49d8-4cf4-a723-72a083810253",
   "metadata": {
    "tags": []
   },
   "outputs": [
    {
     "data": {
      "text/plain": [
       "array(['6555cc3f4b13023f934a6c2b', '651dcf62a662d76276b7cf37',\n",
       "       '651e0ce0a662d76276b86b12', '65316f5d1e5cc42b1b13fbb5',\n",
       "       '6555c3ab4b13023f9348d52e', '6555caac4b13023f93495712',\n",
       "       '6555c8144b13023f934905d3', '655c1eb74b13023f934af585',\n",
       "       '653168de1e5cc42b1b13bf01', '6555ca924b13023f934947f2'],\n",
       "      dtype='<U24')"
      ]
     },
     "execution_count": 64,
     "metadata": {},
     "output_type": "execute_result"
    }
   ],
   "source": [
    "random_articles"
   ]
  },
  {
   "cell_type": "code",
   "execution_count": 71,
   "id": "8a8f8a13-69b6-42a5-9e67-24ba8d68a528",
   "metadata": {
    "scrolled": true,
    "tags": []
   },
   "outputs": [],
   "source": [
    "a, b = get_attributes_for_list_from_llm(random_articles)"
   ]
  },
  {
   "cell_type": "code",
   "execution_count": 73,
   "id": "b88b3496-8907-4d2d-83ea-72eb203ad1e0",
   "metadata": {
    "tags": []
   },
   "outputs": [
    {
     "data": {
      "text/plain": [
       "array(['6555cc3f4b13023f934a6c2b', '651dcf62a662d76276b7cf37',\n",
       "       '651e0ce0a662d76276b86b12', '65316f5d1e5cc42b1b13fbb5',\n",
       "       '6555c3ab4b13023f9348d52e', '6555caac4b13023f93495712',\n",
       "       '6555c8144b13023f934905d3', '655c1eb74b13023f934af585',\n",
       "       '653168de1e5cc42b1b13bf01', '6555ca924b13023f934947f2'],\n",
       "      dtype='<U24')"
      ]
     },
     "execution_count": 73,
     "metadata": {},
     "output_type": "execute_result"
    }
   ],
   "source": [
    "a"
   ]
  },
  {
   "cell_type": "code",
   "execution_count": 74,
   "id": "4483de24-f685-433f-b772-b60c81ab69f8",
   "metadata": {
    "tags": []
   },
   "outputs": [
    {
     "data": {
      "text/plain": [
       "'<html>\\r\\n<head><title>504 Gateway Time-out</title></head>\\r\\n<body>\\r\\n<center><h1>504 Gateway Time-out</h1></center>\\r\\n<hr><center>nginx</center>\\r\\n</body>\\r\\n</html>\\r\\n'"
      ]
     },
     "execution_count": 74,
     "metadata": {},
     "output_type": "execute_result"
    }
   ],
   "source": [
    "b"
   ]
  },
  {
   "cell_type": "code",
   "execution_count": 60,
   "id": "65724581-f5ca-44b0-944e-f96b67e63ea1",
   "metadata": {
    "tags": []
   },
   "outputs": [
    {
     "data": {
      "text/plain": [
       "8"
      ]
     },
     "execution_count": 60,
     "metadata": {},
     "output_type": "execute_result"
    }
   ],
   "source": [
    "len(b.keys())"
   ]
  },
  {
   "cell_type": "code",
   "execution_count": 61,
   "id": "2119934a-52ed-44a2-b583-afc11aa395dd",
   "metadata": {
    "tags": []
   },
   "outputs": [
    {
     "data": {
      "text/plain": [
       "dict_keys(['6555cbf54b13023f934a364f', '651e1916a662d76276b887ab'])"
      ]
     },
     "execution_count": 61,
     "metadata": {},
     "output_type": "execute_result"
    }
   ],
   "source": [
    "a.keys()"
   ]
  },
  {
   "cell_type": "code",
   "execution_count": 62,
   "id": "5f41e422-8434-4713-9bc3-3239634d2e4d",
   "metadata": {
    "tags": []
   },
   "outputs": [
    {
     "data": {
      "text/plain": [
       "{'65316f701e5cc42b1b140028': '<html>\\r\\n<head><title>504 Gateway Time-out</title></head>\\r\\n<body>\\r\\n<center><h1>504 Gateway Time-out</h1></center>\\r\\n<hr><center>nginx</center>\\r\\n</body>\\r\\n</html>\\r\\n',\n",
       " '6555c0934b13023f9348cbe5': '<html>\\r\\n<head><title>504 Gateway Time-out</title></head>\\r\\n<body>\\r\\n<center><h1>504 Gateway Time-out</h1></center>\\r\\n<hr><center>nginx</center>\\r\\n</body>\\r\\n</html>\\r\\n',\n",
       " '6555c7ea4b13023f9348edbb': '<html>\\r\\n<head><title>504 Gateway Time-out</title></head>\\r\\n<body>\\r\\n<center><h1>504 Gateway Time-out</h1></center>\\r\\n<hr><center>nginx</center>\\r\\n</body>\\r\\n</html>\\r\\n',\n",
       " '651dd820a662d76276b7e662': '<html>\\r\\n<head><title>504 Gateway Time-out</title></head>\\r\\n<body>\\r\\n<center><h1>504 Gateway Time-out</h1></center>\\r\\n<hr><center>nginx</center>\\r\\n</body>\\r\\n</html>\\r\\n',\n",
       " '651dc9c2a662d76276b7bfd3': '<html>\\r\\n<head><title>504 Gateway Time-out</title></head>\\r\\n<body>\\r\\n<center><h1>504 Gateway Time-out</h1></center>\\r\\n<hr><center>nginx</center>\\r\\n</body>\\r\\n</html>\\r\\n',\n",
       " '6531684e1e5cc42b1b13a931': '<html>\\r\\n<head><title>504 Gateway Time-out</title></head>\\r\\n<body>\\r\\n<center><h1>504 Gateway Time-out</h1></center>\\r\\n<hr><center>nginx</center>\\r\\n</body>\\r\\n</html>\\r\\n',\n",
       " '6555cc7a4b13023f934a9623': '<html>\\r\\n<head><title>504 Gateway Time-out</title></head>\\r\\n<body>\\r\\n<center><h1>504 Gateway Time-out</h1></center>\\r\\n<hr><center>nginx</center>\\r\\n</body>\\r\\n</html>\\r\\n',\n",
       " '6555caab4b13023f934956c4': '<html>\\r\\n<head><title>504 Gateway Time-out</title></head>\\r\\n<body>\\r\\n<center><h1>504 Gateway Time-out</h1></center>\\r\\n<hr><center>nginx</center>\\r\\n</body>\\r\\n</html>\\r\\n'}"
      ]
     },
     "execution_count": 62,
     "metadata": {},
     "output_type": "execute_result"
    }
   ],
   "source": [
    "b"
   ]
  },
  {
   "cell_type": "code",
   "execution_count": 56,
   "id": "19937384-0d87-4f16-803f-c325a966b0ed",
   "metadata": {
    "tags": []
   },
   "outputs": [
    {
     "data": {
      "text/plain": [
       "{'651e1d97a662d76276b89226': '<html>\\r\\n<head><title>504 Gateway Time-out</title></head>\\r\\n<body>\\r\\n<center><h1>504 Gateway Time-out</h1></center>\\r\\n<hr><center>nginx</center>\\r\\n</body>\\r\\n</html>\\r\\n',\n",
       " '6555bfb74b13023f9348c81c': '<html>\\r\\n<head><title>504 Gateway Time-out</title></head>\\r\\n<body>\\r\\n<center><h1>504 Gateway Time-out</h1></center>\\r\\n<hr><center>nginx</center>\\r\\n</body>\\r\\n</html>\\r\\n',\n",
       " '65316f341e5cc42b1b13f39b': '<html>\\r\\n<head><title>504 Gateway Time-out</title></head>\\r\\n<body>\\r\\n<center><h1>504 Gateway Time-out</h1></center>\\r\\n<hr><center>nginx</center>\\r\\n</body>\\r\\n</html>\\r\\n',\n",
       " '6555cc174b13023f934a4e3e': '<html>\\r\\n<head><title>504 Gateway Time-out</title></head>\\r\\n<body>\\r\\n<center><h1>504 Gateway Time-out</h1></center>\\r\\n<hr><center>nginx</center>\\r\\n</body>\\r\\n</html>\\r\\n',\n",
       " '651e03bfa662d76276b8558e': '<html>\\r\\n<head><title>504 Gateway Time-out</title></head>\\r\\n<body>\\r\\n<center><h1>504 Gateway Time-out</h1></center>\\r\\n<hr><center>nginx</center>\\r\\n</body>\\r\\n</html>\\r\\n',\n",
       " '6555c8214b13023f93490e91': '<html>\\r\\n<head><title>504 Gateway Time-out</title></head>\\r\\n<body>\\r\\n<center><h1>504 Gateway Time-out</h1></center>\\r\\n<hr><center>nginx</center>\\r\\n</body>\\r\\n</html>\\r\\n',\n",
       " '651de9cca662d76276b81503': '<html>\\r\\n<head><title>504 Gateway Time-out</title></head>\\r\\n<body>\\r\\n<center><h1>504 Gateway Time-out</h1></center>\\r\\n<hr><center>nginx</center>\\r\\n</body>\\r\\n</html>\\r\\n',\n",
       " '656476d196c80a0efa90f84e': '<html>\\r\\n<head><title>504 Gateway Time-out</title></head>\\r\\n<body>\\r\\n<center><h1>504 Gateway Time-out</h1></center>\\r\\n<hr><center>nginx</center>\\r\\n</body>\\r\\n</html>\\r\\n'}"
      ]
     },
     "execution_count": 56,
     "metadata": {},
     "output_type": "execute_result"
    }
   ],
   "source": [
    "b"
   ]
  },
  {
   "cell_type": "code",
   "execution_count": 38,
   "id": "df714b9e-79a5-47d0-99e9-c64ef4a37ae4",
   "metadata": {
    "tags": []
   },
   "outputs": [
    {
     "data": {
      "text/plain": [
       "['6531690a1e5cc42b1b13cb4e', '653168f41e5cc42b1b13c4fa']"
      ]
     },
     "execution_count": 38,
     "metadata": {},
     "output_type": "execute_result"
    }
   ],
   "source": [
    "sample_articles[:2]"
   ]
  },
  {
   "cell_type": "code",
   "execution_count": 36,
   "id": "32ca9da8-ef56-4a66-b03e-8f50c8df30dc",
   "metadata": {
    "tags": []
   },
   "outputs": [
    {
     "data": {
      "text/plain": [
       "{'analysis_of_article_sentiment': 'The sentiment is bearish due to the negative outcome in the court case to Zee Entertainment.',\n",
       " 'analysis_of_article_type': 'This article is factual, presenting the particular event of ZEE Entertainment giving a detailed account of the situation.',\n",
       " 'analysis_of_article_validity_duration': 'This news news of business and legal matters having financial implications and information that may change, it should be valid for a few days.',\n",
       " 'analysis_of_financial_or_business_news': 'The article pertains to business, speaking about the current legal dispute between two media networks about the proposed merger.',\n",
       " 'analysis_of_popularity': \"It's a business news about two well-known media enterprises - Zee and Sony. It has potential for moderate popularity.\",\n",
       " 'analysis_of_relevant_for_india': 'The event focuses on a business merger operation encompassing Indian and foreign entities. It holds relevance for Indian readers.',\n",
       " 'article_sentiment': 'bear',\n",
       " 'article_type': 'fact',\n",
       " 'article_validity_duration': 7,\n",
       " 'final_summary': 'Zee Enterprise sought remedy with NCLAT over an interim order from NCLT which directed Tse and Bse to reconsider their approval for ZEE and Sonys Merger. The order also insisted on re-assessing the non-compete clause of the proposal. An initial decision from NCLT led to a wide array of resistance. The stand-off is a key component of the ongoing trade dispute in the Indian entertainment industry.',\n",
       " 'financial_or_business_news': True,\n",
       " 'first_attempt_summary': 'Zee Entertainment enterprise has signed on to appeal to NCLAT over an interim ruling by NCLT, regarding Zees proposed merger with Sony Pictures. The ruling demanded the heads of the BSE and NSE reconsider their prior approvals. The court further spoke out and said that ZEE could not respond to order. The court further suggested Zee conduct an ex-perce enumeration of financial accounting in accountancy process.',\n",
       " 'headline_suggestion': \"Zee Enters In Appeal, for Academy's Ruling on Proposed Merger with Sony\",\n",
       " 'improved_summary': \"The ongoing row between Zee and Sony in the Entertainment Industry over the proposed merger made its way to the newly-blossoming dispute and cash-crony coronations in India's business sector. ZEE, following the interim order given by NCLT, pleaded with NCLAT, urging the courts to start looking at the deal and its business aspect.\",\n",
       " 'popularity': 'moderately_popular',\n",
       " 'relevant_for_india': True,\n",
       " 'top_categories': 'Business; Entertainment; Mergers and Acquisitions; Legal Appeal; Audiobook Industry'}"
      ]
     },
     "execution_count": 36,
     "metadata": {},
     "output_type": "execute_result"
    }
   ],
   "source": [
    "json.loads(b['653168f41e5cc42b1b13c4fa'])"
   ]
  },
  {
   "cell_type": "code",
   "execution_count": 37,
   "id": "7f4a2a24-572b-46de-bcb8-4752d04c285b",
   "metadata": {
    "tags": []
   },
   "outputs": [
    {
     "data": {
      "text/plain": [
       "{'653168f41e5cc42b1b13c4fa': '{\"analysis_of_article_sentiment\":\"The sentiment is bearish due to the negative outcome in the court case to Zee Entertainment.\",\"analysis_of_article_type\":\"This article is factual, presenting the particular event of ZEE Entertainment giving a detailed account of the situation.\",\"analysis_of_article_validity_duration\":\"This news news of business and legal matters having financial implications and information that may change, it should be valid for a few days.\",\"analysis_of_financial_or_business_news\":\"The article pertains to business, speaking about the current legal dispute between two media networks about the proposed merger.\",\"analysis_of_popularity\":\"It\\'s a business news about two well-known media enterprises - Zee and Sony. It has potential for moderate popularity.\",\"analysis_of_relevant_for_india\":\"The event focuses on a business merger operation encompassing Indian and foreign entities. It holds relevance for Indian readers.\",\"article_sentiment\":\"bear\",\"article_type\":\"fact\",\"article_validity_duration\":7,\"final_summary\":\"Zee Enterprise sought remedy with NCLAT over an interim order from NCLT which directed Tse and Bse to reconsider their approval for ZEE and Sonys Merger. The order also insisted on re-assessing the non-compete clause of the proposal. An initial decision from NCLT led to a wide array of resistance. The stand-off is a key component of the ongoing trade dispute in the Indian entertainment industry.\",\"financial_or_business_news\":true,\"first_attempt_summary\":\"Zee Entertainment enterprise has signed on to appeal to NCLAT over an interim ruling by NCLT, regarding Zees proposed merger with Sony Pictures. The ruling demanded the heads of the BSE and NSE reconsider their prior approvals. The court further spoke out and said that ZEE could not respond to order. The court further suggested Zee conduct an ex-perce enumeration of financial accounting in accountancy process.\",\"headline_suggestion\":\"Zee Enters In Appeal, for Academy\\'s Ruling on Proposed Merger with Sony\",\"improved_summary\":\"The ongoing row between Zee and Sony in the Entertainment Industry over the proposed merger made its way to the newly-blossoming dispute and cash-crony coronations in India\\'s business sector. ZEE, following the interim order given by NCLT, pleaded with NCLAT, urging the courts to start looking at the deal and its business aspect.\",\"popularity\":\"moderately_popular\",\"relevant_for_india\":true,\"top_categories\":\"Business; Entertainment; Mergers and Acquisitions; Legal Appeal; Audiobook Industry\"}\\n',\n",
       " '6531690a1e5cc42b1b13cb4e': '<html>\\r\\n<head><title>504 Gateway Time-out</title></head>\\r\\n<body>\\r\\n<center><h1>504 Gateway Time-out</h1></center>\\r\\n<hr><center>nginx</center>\\r\\n</body>\\r\\n</html>\\r\\n'}"
      ]
     },
     "execution_count": 37,
     "metadata": {},
     "output_type": "execute_result"
    }
   ],
   "source": [
    "b"
   ]
  },
  {
   "cell_type": "code",
   "execution_count": null,
   "id": "f572d4f4-3581-447c-bd07-72d38c8074a3",
   "metadata": {},
   "outputs": [],
   "source": []
  }
 ],
 "metadata": {
  "kernelspec": {
   "display_name": "bertopicenv",
   "language": "python",
   "name": "bertopicenv"
  },
  "language_info": {
   "codemirror_mode": {
    "name": "ipython",
    "version": 3
   },
   "file_extension": ".py",
   "mimetype": "text/x-python",
   "name": "python",
   "nbconvert_exporter": "python",
   "pygments_lexer": "ipython3",
   "version": "3.9.18"
  }
 },
 "nbformat": 4,
 "nbformat_minor": 5
}
