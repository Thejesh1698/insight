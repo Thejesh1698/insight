{
 "cells": [
  {
   "cell_type": "code",
   "execution_count": 1,
   "id": "d2af27e6-ffd6-45c6-820d-3f73f029bb98",
   "metadata": {
    "tags": []
   },
   "outputs": [],
   "source": [
    "parent_folder = '/Users/ravi.tej/Desktop/ML/Recommendations/arcane/'\n",
    "from hydra import compose, initialize\n",
    "import os\n",
    "\n",
    "import xml.etree.ElementTree as ET\n",
    "\n",
    "tree = ET.parse('../../conf/application.run.xml')\n",
    "root = tree.getroot()\n",
    "\n",
    "envs_element = root.find('./configuration/envs')\n",
    "for variable in envs_element.findall('env'):\n",
    "    name = variable.get('name')\n",
    "    value = variable.get('value')\n",
    "    os.environ[name] = value\n",
    "\n",
    "import sys\n",
    "sys.path.append('/Users/ravi.tej/Desktop/ML/Recommendations/arcane/')\n",
    "\n",
    "from src._utils import load_bertopic_model_from_hf"
   ]
  },
  {
   "cell_type": "code",
   "execution_count": 2,
   "id": "7a436ebc-1b21-4e79-8d25-8c9d36a02f2d",
   "metadata": {
    "tags": []
   },
   "outputs": [],
   "source": [
    "import json\n",
    "import requests"
   ]
  },
  {
   "cell_type": "markdown",
   "id": "29569231-bad0-413e-a830-1ef28c0776fc",
   "metadata": {},
   "source": [
    "### Missing embeddings"
   ]
  },
  {
   "cell_type": "code",
   "execution_count": 3,
   "id": "231df900-7bb2-4c32-84bf-ac4198fd15c2",
   "metadata": {
    "tags": []
   },
   "outputs": [],
   "source": [
    "from src.articles.ArticleService import ArticleService"
   ]
  },
  {
   "cell_type": "code",
   "execution_count": 4,
   "id": "9f0b550c-70ae-42b7-b525-de74e6126772",
   "metadata": {
    "scrolled": true,
    "tags": []
   },
   "outputs": [
    {
     "name": "stderr",
     "output_type": "stream",
     "text": [
      "2024-01-15 09:13:47,689| ERROR   | Problem setting SSH Forwarder up: Couldn't open tunnel 127.0.0.1:27017 <> insight-beta-article-db.cluster-chmaiagjipqy.ap-south-1.docdb.amazonaws.com:27017 might be in use or destination not reachable\n"
     ]
    },
    {
     "ename": "Exception",
     "evalue": "Error in _get_collection: Error in connecting to db: Failed to connect to MongoDB: An error occurred while opening tunnels.",
     "output_type": "error",
     "traceback": [
      "\u001b[0;31m---------------------------------------------------------------------------\u001b[0m",
      "\u001b[0;31mHandlerSSHTunnelForwarderError\u001b[0m            Traceback (most recent call last)",
      "File \u001b[0;32m~/Desktop/ML/Recommendations/arcane/sql/MongoDatabaseConnection.py:40\u001b[0m, in \u001b[0;36mMongoDatabaseConnection.__new__\u001b[0;34m(cls)\u001b[0m\n\u001b[1;32m     38\u001b[0m \u001b[38;5;28;01mif\u001b[39;00m os\u001b[38;5;241m.\u001b[39menviron\u001b[38;5;241m.\u001b[39mget(\u001b[38;5;124m'\u001b[39m\u001b[38;5;124mENVIRONMENT\u001b[39m\u001b[38;5;124m'\u001b[39m) \u001b[38;5;241m==\u001b[39m \u001b[38;5;124m'\u001b[39m\u001b[38;5;124mlocal\u001b[39m\u001b[38;5;124m'\u001b[39m:\n\u001b[1;32m     39\u001b[0m     \u001b[38;5;66;03m# initiate mongo client via ssh tunneling\u001b[39;00m\n\u001b[0;32m---> 40\u001b[0m     \u001b[38;5;28mcls\u001b[39m\u001b[38;5;241m.\u001b[39m_instance\u001b[38;5;241m.\u001b[39m_client \u001b[38;5;241m=\u001b[39m \u001b[38;5;28;43mcls\u001b[39;49m\u001b[38;5;241;43m.\u001b[39;49m\u001b[43m_connect_to_mongodb_using_ssh\u001b[49m\u001b[43m(\u001b[49m\u001b[43m)\u001b[49m\n\u001b[1;32m     41\u001b[0m \u001b[38;5;28;01melse\u001b[39;00m:\n\u001b[1;32m     42\u001b[0m     \u001b[38;5;66;03m# initiate mongo client\u001b[39;00m\n",
      "File \u001b[0;32m~/Desktop/ML/Recommendations/arcane/sql/MongoDatabaseConnection.py:90\u001b[0m, in \u001b[0;36mMongoDatabaseConnection._connect_to_mongodb_using_ssh\u001b[0;34m(cls)\u001b[0m\n\u001b[1;32m     89\u001b[0m \u001b[38;5;28mcls\u001b[39m\u001b[38;5;241m.\u001b[39m_tunnel \u001b[38;5;241m=\u001b[39m \u001b[38;5;28mcls\u001b[39m\u001b[38;5;241m.\u001b[39m_establish_tunnel()\n\u001b[0;32m---> 90\u001b[0m \u001b[38;5;28;43mcls\u001b[39;49m\u001b[38;5;241;43m.\u001b[39;49m\u001b[43m_tunnel\u001b[49m\u001b[38;5;241;43m.\u001b[39;49m\u001b[43mstart\u001b[49m\u001b[43m(\u001b[49m\u001b[43m)\u001b[49m\n\u001b[1;32m     92\u001b[0m \u001b[38;5;28;01mreturn\u001b[39;00m MongoClient(\n\u001b[1;32m     93\u001b[0m     directConnection\u001b[38;5;241m=\u001b[39m\u001b[38;5;28;01mTrue\u001b[39;00m,\n\u001b[1;32m     94\u001b[0m     \u001b[38;5;241m*\u001b[39m\u001b[38;5;241m*\u001b[39mDB_PARAMS\n\u001b[1;32m     95\u001b[0m )\n",
      "File \u001b[0;32m~/anaconda3/envs/bertopicenv/lib/python3.9/site-packages/sshtunnel.py:1344\u001b[0m, in \u001b[0;36mSSHTunnelForwarder.start\u001b[0;34m(self)\u001b[0m\n\u001b[1;32m   1343\u001b[0m \u001b[38;5;28;01mif\u001b[39;00m \u001b[38;5;129;01mnot\u001b[39;00m \u001b[38;5;28mself\u001b[39m\u001b[38;5;241m.\u001b[39mis_alive:\n\u001b[0;32m-> 1344\u001b[0m     \u001b[38;5;28;43mself\u001b[39;49m\u001b[38;5;241;43m.\u001b[39;49m\u001b[43m_raise\u001b[49m\u001b[43m(\u001b[49m\u001b[43mHandlerSSHTunnelForwarderError\u001b[49m\u001b[43m,\u001b[49m\n\u001b[1;32m   1345\u001b[0m \u001b[43m                \u001b[49m\u001b[38;5;124;43m'\u001b[39;49m\u001b[38;5;124;43mAn error occurred while opening tunnels.\u001b[39;49m\u001b[38;5;124;43m'\u001b[39;49m\u001b[43m)\u001b[49m\n",
      "File \u001b[0;32m~/anaconda3/envs/bertopicenv/lib/python3.9/site-packages/sshtunnel.py:1174\u001b[0m, in \u001b[0;36mSSHTunnelForwarder._raise\u001b[0;34m(self, exception, reason)\u001b[0m\n\u001b[1;32m   1173\u001b[0m \u001b[38;5;28;01mif\u001b[39;00m \u001b[38;5;28mself\u001b[39m\u001b[38;5;241m.\u001b[39m_raise_fwd_exc:\n\u001b[0;32m-> 1174\u001b[0m     \u001b[38;5;28;01mraise\u001b[39;00m exception(reason)\n\u001b[1;32m   1175\u001b[0m \u001b[38;5;28;01melse\u001b[39;00m:\n",
      "\u001b[0;31mHandlerSSHTunnelForwarderError\u001b[0m: An error occurred while opening tunnels.",
      "\nDuring handling of the above exception, another exception occurred:\n",
      "\u001b[0;31mException\u001b[0m                                 Traceback (most recent call last)",
      "File \u001b[0;32m~/Desktop/ML/Recommendations/arcane/sql/articles/MongoDBArticle.py:16\u001b[0m, in \u001b[0;36mMongoDBArticle.get_db\u001b[0;34m()\u001b[0m\n\u001b[1;32m     14\u001b[0m \u001b[38;5;28;01mtry\u001b[39;00m:\n\u001b[1;32m     15\u001b[0m     \u001b[38;5;66;03m# setup mongo connection\u001b[39;00m\n\u001b[0;32m---> 16\u001b[0m     mongo_conn \u001b[38;5;241m=\u001b[39m \u001b[43mMongoDatabaseConnection\u001b[49m\u001b[43m(\u001b[49m\u001b[43m)\u001b[49m\n\u001b[1;32m     17\u001b[0m     mongo_client \u001b[38;5;241m=\u001b[39m mongo_conn\u001b[38;5;241m.\u001b[39mget_client()\n",
      "File \u001b[0;32m~/Desktop/ML/Recommendations/arcane/sql/MongoDatabaseConnection.py:45\u001b[0m, in \u001b[0;36mMongoDatabaseConnection.__new__\u001b[0;34m(cls)\u001b[0m\n\u001b[1;32m     44\u001b[0m     \u001b[38;5;28;01mexcept\u001b[39;00m \u001b[38;5;167;01mException\u001b[39;00m \u001b[38;5;28;01mas\u001b[39;00m e:\n\u001b[0;32m---> 45\u001b[0m         \u001b[38;5;28;01mraise\u001b[39;00m \u001b[38;5;167;01mException\u001b[39;00m(\u001b[38;5;124mf\u001b[39m\u001b[38;5;124m\"\u001b[39m\u001b[38;5;124mFailed to connect to MongoDB: \u001b[39m\u001b[38;5;132;01m{\u001b[39;00me\u001b[38;5;132;01m}\u001b[39;00m\u001b[38;5;124m\"\u001b[39m)\n\u001b[1;32m     47\u001b[0m \u001b[38;5;28;01mreturn\u001b[39;00m \u001b[38;5;28mcls\u001b[39m\u001b[38;5;241m.\u001b[39m_instance\n",
      "\u001b[0;31mException\u001b[0m: Failed to connect to MongoDB: An error occurred while opening tunnels.",
      "\nDuring handling of the above exception, another exception occurred:\n",
      "\u001b[0;31mException\u001b[0m                                 Traceback (most recent call last)",
      "File \u001b[0;32m~/Desktop/ML/Recommendations/arcane/sql/articles/MongoDBArticle.py:28\u001b[0m, in \u001b[0;36mMongoDBArticle.get_collection\u001b[0;34m(collection_name)\u001b[0m\n\u001b[1;32m     27\u001b[0m \u001b[38;5;28;01mtry\u001b[39;00m:\n\u001b[0;32m---> 28\u001b[0m     db \u001b[38;5;241m=\u001b[39m \u001b[43mMongoDBArticle\u001b[49m\u001b[38;5;241;43m.\u001b[39;49m\u001b[43mget_db\u001b[49m\u001b[43m(\u001b[49m\u001b[43m)\u001b[49m\n\u001b[1;32m     29\u001b[0m     \u001b[38;5;28;01mif\u001b[39;00m collection_name \u001b[38;5;129;01mis\u001b[39;00m \u001b[38;5;28;01mNone\u001b[39;00m:\n",
      "File \u001b[0;32m~/Desktop/ML/Recommendations/arcane/sql/articles/MongoDBArticle.py:23\u001b[0m, in \u001b[0;36mMongoDBArticle.get_db\u001b[0;34m()\u001b[0m\n\u001b[1;32m     22\u001b[0m     mongo_conn\u001b[38;5;241m.\u001b[39mclose_connection()\n\u001b[0;32m---> 23\u001b[0m \u001b[38;5;28;01mraise\u001b[39;00m \u001b[38;5;167;01mException\u001b[39;00m(\u001b[38;5;124mf\u001b[39m\u001b[38;5;124m\"\u001b[39m\u001b[38;5;124mError in connecting to db: \u001b[39m\u001b[38;5;132;01m{\u001b[39;00me\u001b[38;5;132;01m}\u001b[39;00m\u001b[38;5;124m\"\u001b[39m)\n",
      "\u001b[0;31mException\u001b[0m: Error in connecting to db: Failed to connect to MongoDB: An error occurred while opening tunnels.",
      "\nDuring handling of the above exception, another exception occurred:\n",
      "\u001b[0;31mException\u001b[0m                                 Traceback (most recent call last)",
      "Cell \u001b[0;32mIn[4], line 1\u001b[0m\n\u001b[0;32m----> 1\u001b[0m a \u001b[38;5;241m=\u001b[39m \u001b[43mArticleService\u001b[49m\u001b[38;5;241;43m.\u001b[39;49m\u001b[43mget_Article\u001b[49m\u001b[43m(\u001b[49m\u001b[38;5;124;43m'\u001b[39;49m\u001b[38;5;124;43m65a49fcfea435f28caee4d67\u001b[39;49m\u001b[38;5;124;43m'\u001b[39;49m\u001b[43m)\u001b[49m\n",
      "File \u001b[0;32m~/Desktop/ML/Recommendations/arcane/src/articles/ArticleService.py:26\u001b[0m, in \u001b[0;36mArticleService.get_Article\u001b[0;34m(article_id)\u001b[0m\n\u001b[1;32m     24\u001b[0m \u001b[38;5;129m@staticmethod\u001b[39m\n\u001b[1;32m     25\u001b[0m \u001b[38;5;28;01mdef\u001b[39;00m \u001b[38;5;21mget_Article\u001b[39m(article_id: \u001b[38;5;28mstr\u001b[39m) \u001b[38;5;241m-\u001b[39m\u001b[38;5;241m>\u001b[39m Union[Article, \u001b[38;5;28;01mNone\u001b[39;00m]:\n\u001b[0;32m---> 26\u001b[0m     article_json \u001b[38;5;241m=\u001b[39m \u001b[43mArticleService\u001b[49m\u001b[38;5;241;43m.\u001b[39;49m\u001b[43m__get_article_json_from_s3_and_mongo\u001b[49m\u001b[43m(\u001b[49m\u001b[43marticle_id\u001b[49m\u001b[38;5;241;43m=\u001b[39;49m\u001b[43marticle_id\u001b[49m\u001b[43m)\u001b[49m\n\u001b[1;32m     27\u001b[0m     is_valid \u001b[38;5;241m=\u001b[39m ArticleService\u001b[38;5;241m.\u001b[39m__validate_article_json(article_json\u001b[38;5;241m=\u001b[39marticle_json, article_id\u001b[38;5;241m=\u001b[39marticle_id)\n\u001b[1;32m     28\u001b[0m     \u001b[38;5;28;01mif\u001b[39;00m is_valid:\n",
      "File \u001b[0;32m~/Desktop/ML/Recommendations/arcane/src/articles/ArticleService.py:52\u001b[0m, in \u001b[0;36mArticleService.__get_article_json_from_s3_and_mongo\u001b[0;34m(article_id)\u001b[0m\n\u001b[1;32m     49\u001b[0m \u001b[38;5;129m@staticmethod\u001b[39m\n\u001b[1;32m     50\u001b[0m \u001b[38;5;28;01mdef\u001b[39;00m \u001b[38;5;21m__get_article_json_from_s3_and_mongo\u001b[39m(article_id: \u001b[38;5;28mstr\u001b[39m) \u001b[38;5;241m-\u001b[39m\u001b[38;5;241m>\u001b[39m \u001b[38;5;28mdict\u001b[39m:\n\u001b[1;32m     51\u001b[0m     article_json \u001b[38;5;241m=\u001b[39m ArticleService\u001b[38;5;241m.\u001b[39mget_article_text_from_s3(article_id\u001b[38;5;241m=\u001b[39marticle_id)\n\u001b[0;32m---> 52\u001b[0m     article_metadata_full_json \u001b[38;5;241m=\u001b[39m \u001b[43mMongoDBArticle\u001b[49m\u001b[38;5;241;43m.\u001b[39;49m\u001b[43mfetch_metadata_for_article_ids\u001b[49m\u001b[43m(\u001b[49m\u001b[43marticle_ids\u001b[49m\u001b[38;5;241;43m=\u001b[39;49m\u001b[43m[\u001b[49m\u001b[43marticle_id\u001b[49m\u001b[43m]\u001b[49m\u001b[43m)\u001b[49m\n\u001b[1;32m     53\u001b[0m     cur_article_metadata_json \u001b[38;5;241m=\u001b[39m article_metadata_full_json[article_id]\n\u001b[1;32m     54\u001b[0m     \u001b[38;5;28;01mif\u001b[39;00m article_json:\n",
      "File \u001b[0;32m~/Desktop/ML/Recommendations/arcane/sql/articles/MongoDBArticle.py:126\u001b[0m, in \u001b[0;36mMongoDBArticle.fetch_metadata_for_article_ids\u001b[0;34m(article_ids)\u001b[0m\n\u001b[1;32m    123\u001b[0m \u001b[38;5;66;03m# Projection to specify which fields to include\u001b[39;00m\n\u001b[1;32m    124\u001b[0m projection \u001b[38;5;241m=\u001b[39m {\u001b[38;5;124m\"\u001b[39m\u001b[38;5;124m_id\u001b[39m\u001b[38;5;124m\"\u001b[39m: \u001b[38;5;241m1\u001b[39m, \u001b[38;5;124m\"\u001b[39m\u001b[38;5;124mpublished_time\u001b[39m\u001b[38;5;124m\"\u001b[39m: \u001b[38;5;241m1\u001b[39m, \u001b[38;5;124m\"\u001b[39m\u001b[38;5;124msource_id\u001b[39m\u001b[38;5;124m\"\u001b[39m: \u001b[38;5;241m1\u001b[39m, \u001b[38;5;124m\"\u001b[39m\u001b[38;5;124murl\u001b[39m\u001b[38;5;124m\"\u001b[39m: \u001b[38;5;241m1\u001b[39m, \u001b[38;5;124m\"\u001b[39m\u001b[38;5;124mtitle\u001b[39m\u001b[38;5;124m\"\u001b[39m: \u001b[38;5;241m1\u001b[39m, \u001b[38;5;124m\"\u001b[39m\u001b[38;5;124mimage_url\u001b[39m\u001b[38;5;124m\"\u001b[39m: \u001b[38;5;241m1\u001b[39m, \u001b[38;5;124m'\u001b[39m\u001b[38;5;124mshort_description\u001b[39m\u001b[38;5;124m'\u001b[39m: \u001b[38;5;241m1\u001b[39m, \u001b[38;5;124m'\u001b[39m\u001b[38;5;124mcontent_type\u001b[39m\u001b[38;5;124m'\u001b[39m: \u001b[38;5;241m1\u001b[39m}\n\u001b[0;32m--> 126\u001b[0m collection \u001b[38;5;241m=\u001b[39m \u001b[43mMongoDBArticle\u001b[49m\u001b[38;5;241;43m.\u001b[39;49m\u001b[43mget_collection\u001b[49m\u001b[43m(\u001b[49m\u001b[43m)\u001b[49m\n\u001b[1;32m    127\u001b[0m documents \u001b[38;5;241m=\u001b[39m \u001b[38;5;28mlist\u001b[39m(collection\u001b[38;5;241m.\u001b[39mfind(query, projection))\n\u001b[1;32m    128\u001b[0m doc_dict \u001b[38;5;241m=\u001b[39m {}\n",
      "File \u001b[0;32m~/Desktop/ML/Recommendations/arcane/sql/articles/MongoDBArticle.py:34\u001b[0m, in \u001b[0;36mMongoDBArticle.get_collection\u001b[0;34m(collection_name)\u001b[0m\n\u001b[1;32m     32\u001b[0m         \u001b[38;5;28;01mreturn\u001b[39;00m db[collection_name]\n\u001b[1;32m     33\u001b[0m \u001b[38;5;28;01mexcept\u001b[39;00m \u001b[38;5;167;01mException\u001b[39;00m \u001b[38;5;28;01mas\u001b[39;00m e:\n\u001b[0;32m---> 34\u001b[0m     \u001b[38;5;28;01mraise\u001b[39;00m \u001b[38;5;167;01mException\u001b[39;00m(\u001b[38;5;124mf\u001b[39m\u001b[38;5;124m\"\u001b[39m\u001b[38;5;124mError in _get_collection: \u001b[39m\u001b[38;5;132;01m{\u001b[39;00me\u001b[38;5;132;01m}\u001b[39;00m\u001b[38;5;124m\"\u001b[39m)\n",
      "\u001b[0;31mException\u001b[0m: Error in _get_collection: Error in connecting to db: Failed to connect to MongoDB: An error occurred while opening tunnels."
     ]
    }
   ],
   "source": [
    "a = ArticleService.get_Article('65a49fcfea435f28caee4d67')"
   ]
  },
  {
   "cell_type": "code",
   "execution_count": 3,
   "id": "e9f7dd9d-1e49-475a-b3c6-e4dcda6621c4",
   "metadata": {
    "tags": []
   },
   "outputs": [],
   "source": [
    "from sql.articles.ArticleAttributesSQL import ArticleAttributesSQL"
   ]
  },
  {
   "cell_type": "code",
   "execution_count": 4,
   "id": "b26f33fb-3da3-47ea-9b59-ee41a36daebc",
   "metadata": {
    "tags": []
   },
   "outputs": [],
   "source": [
    "att = ArticleAttributesSQL.get_attributes_for_article_id('65a49fcfea435f28caee4d67')"
   ]
  },
  {
   "cell_type": "code",
   "execution_count": 5,
   "id": "08033661-9b9b-4251-b63d-6000e52f1e2a",
   "metadata": {
    "tags": []
   },
   "outputs": [
    {
     "data": {
      "text/plain": [
       "{'65a49fcfea435f28caee4d67': {'financial_news': True,\n",
       "  'relevant_for_india': True,\n",
       "  'validity_duration': 1,\n",
       "  'expected_popularity': 'niche'}}"
      ]
     },
     "execution_count": 5,
     "metadata": {},
     "output_type": "execute_result"
    }
   ],
   "source": [
    "att"
   ]
  },
  {
   "cell_type": "code",
   "execution_count": null,
   "id": "71fb8fa0-572f-49b2-a19f-1d1252986738",
   "metadata": {},
   "outputs": [],
   "source": [
    "from application import evaluate_save_article_to_candidates"
   ]
  },
  {
   "cell_type": "code",
   "execution_count": 32,
   "id": "9f29d1d4-ac1e-4362-8602-72d4b0bfb620",
   "metadata": {
    "tags": []
   },
   "outputs": [
    {
     "data": {
      "text/plain": [
       "1601"
      ]
     },
     "execution_count": 32,
     "metadata": {},
     "output_type": "execute_result"
    }
   ],
   "source": [
    "len(results)"
   ]
  },
  {
   "cell_type": "code",
   "execution_count": 17,
   "id": "6417facc-44b9-4d12-851f-172fcbf30aba",
   "metadata": {
    "tags": []
   },
   "outputs": [],
   "source": [
    "r = requests.post('http://Arcane-env.eba-mrsaixmg.ap-south-1.elasticbeanstalk.com/assign_cluster', json = {'articleId': '65a49fcfea435f28caee4d67'})"
   ]
  },
  {
   "cell_type": "code",
   "execution_count": 18,
   "id": "aa5145bd-28d3-47b2-9be3-2b31aaf2afe0",
   "metadata": {
    "tags": []
   },
   "outputs": [
    {
     "data": {
      "text/plain": [
       "'cluster successfully assigned for articleId 65a49fcfea435f28caee4d67'"
      ]
     },
     "execution_count": 18,
     "metadata": {},
     "output_type": "execute_result"
    }
   ],
   "source": [
    "r.text"
   ]
  },
  {
   "cell_type": "code",
   "execution_count": 10,
   "id": "8976821f-ba59-4d77-8553-765734421bad",
   "metadata": {
    "tags": []
   },
   "outputs": [],
   "source": [
    "# r = requests.post('http://Arcane-env.eba-mrsaixmg.ap-south-1.elasticbeanstalk.com/get_missing_candidate_summaries')"
   ]
  },
  {
   "cell_type": "code",
   "execution_count": 287,
   "id": "29dd93c5-6d68-4206-88ff-0d4f3d787e19",
   "metadata": {
    "tags": []
   },
   "outputs": [],
   "source": [
    "# r = requests.post('http://Arcane-env.eba-mrsaixmg.ap-south-1.elasticbeanstalk.com/update_candidates')"
   ]
  },
  {
   "cell_type": "code",
   "execution_count": 30,
   "id": "2dae7bfc-ef44-4e41-bc5c-c41fc1c3ce79",
   "metadata": {
    "tags": []
   },
   "outputs": [],
   "source": [
    "k = json.loads(r.text)"
   ]
  },
  {
   "cell_type": "code",
   "execution_count": 31,
   "id": "b8baae1e-ba03-4570-998a-c81bd181ea57",
   "metadata": {
    "tags": []
   },
   "outputs": [],
   "source": [
    "recent_articles = k['articleIds']"
   ]
  },
  {
   "cell_type": "code",
   "execution_count": 32,
   "id": "419f717a-648e-4ab0-94b0-9ed685744a76",
   "metadata": {
    "tags": []
   },
   "outputs": [
    {
     "data": {
      "text/plain": [
       "770"
      ]
     },
     "execution_count": 32,
     "metadata": {},
     "output_type": "execute_result"
    }
   ],
   "source": [
    "len(recent_articles)"
   ]
  },
  {
   "cell_type": "code",
   "execution_count": 33,
   "id": "6f5584be-061c-4f3d-98a0-ef7792cce655",
   "metadata": {
    "tags": []
   },
   "outputs": [],
   "source": [
    "from datetime import datetime, timedelta, timezone"
   ]
  },
  {
   "cell_type": "code",
   "execution_count": 36,
   "id": "d822ab6d-ccfd-4a78-8f1c-1aef4fa3ba8c",
   "metadata": {
    "tags": []
   },
   "outputs": [],
   "source": [
    "from sql.PostgresDatabaseOperation import PostgresDatabaseOperation"
   ]
  },
  {
   "cell_type": "code",
   "execution_count": 37,
   "id": "38781f4d-d252-4a05-926b-56562ed105e1",
   "metadata": {
    "tags": []
   },
   "outputs": [],
   "source": [
    "with PostgresDatabaseOperation() as cursor:\n",
    "    sql = 'SELECT DISTINCT article_id FROM embeddings'\n",
    "    cursor.execute(sql)\n",
    "    results = cursor.fetchall()\n",
    "embeddings_articles = [x[0] for x in results]"
   ]
  },
  {
   "cell_type": "code",
   "execution_count": 38,
   "id": "8ba06d2c-6604-4f6f-93e6-2407123299c7",
   "metadata": {
    "tags": []
   },
   "outputs": [],
   "source": [
    "missing_articles = set(recent_articles) - set(embeddings_articles)\n",
    "\n",
    "missing_articles = list(missing_articles)"
   ]
  },
  {
   "cell_type": "code",
   "execution_count": 39,
   "id": "66aba6da-4fed-4cdc-b8a7-bbee754f0ea7",
   "metadata": {
    "tags": []
   },
   "outputs": [
    {
     "data": {
      "text/plain": [
       "0"
      ]
     },
     "execution_count": 39,
     "metadata": {},
     "output_type": "execute_result"
    }
   ],
   "source": [
    "len(missing_articles)"
   ]
  },
  {
   "cell_type": "code",
   "execution_count": 314,
   "id": "76f4037a-4bda-4ff1-bb05-9849603aca87",
   "metadata": {
    "tags": []
   },
   "outputs": [],
   "source": [
    "a,b = get_all_relevant_embeddings()"
   ]
  },
  {
   "cell_type": "code",
   "execution_count": 254,
   "id": "142ed906-0819-4be9-9e48-b090342c6d0c",
   "metadata": {
    "tags": []
   },
   "outputs": [],
   "source": [
    "num_chunks = len(missing_articles)//100 + 1"
   ]
  },
  {
   "cell_type": "code",
   "execution_count": 20,
   "id": "ea8802c1-8c33-4e62-8096-8d50195f73fb",
   "metadata": {
    "tags": []
   },
   "outputs": [],
   "source": [
    "def create_missing_article_embedding(article_id):\n",
    "    r = requests.post('http://Arcane-env.eba-mrsaixmg.ap-south-1.elasticbeanstalk.com/create_embedding', json={'articleId': article_id})\n",
    "    if r.status_code == 200:\n",
    "        return article_id"
   ]
  },
  {
   "cell_type": "code",
   "execution_count": 16,
   "id": "84788f4a-57e9-495e-96f3-94037a13f9d7",
   "metadata": {
    "tags": []
   },
   "outputs": [],
   "source": [
    "r = requests.post('http://Arcane-env.eba-mrsaixmg.ap-south-1.elasticbeanstalk.com/create_embedding', json={'articleId': '659faf5fe362d630b647262a'})"
   ]
  },
  {
   "cell_type": "code",
   "execution_count": 18,
   "id": "bf954729-2814-4eb9-90a1-d8a5305ebea5",
   "metadata": {
    "tags": []
   },
   "outputs": [],
   "source": [
    "podcast_episodes = ['659faf5fe362d630b647262a', '659faf60e362d630b647262b', '659faf61e362d630b647262e', '659faf61e362d630b647262d', \n",
    "                    '659faf64e362d630b6472634', '659faf63e362d630b6472632', '659faf65e362d630b6472635', '659faf64e362d630b6472633',\n",
    "                   '659faf63e362d630b6472631', '659faf60e362d630b647262c', '659faf66e362d630b6472638', '659faf62e362d630b6472630',\n",
    "                   '659faf65e362d630b6472636', '659faf66e362d630b6472637', '659faf67e362d630b6472639', '659faf62e362d630b647262f', \n",
    "                   '659fb612e362d630b647263a', '659fb615e362d630b647263f', '659fb616e362d630b6472640', '659fb615e362d630b647263e', \n",
    "                   '659fb617e362d630b6472642', '659fb613e362d630b647263b', '659fb614e362d630b647263c']"
   ]
  },
  {
   "cell_type": "code",
   "execution_count": 22,
   "id": "6430c519-769f-4f12-a2b6-e220af6edb9f",
   "metadata": {
    "tags": []
   },
   "outputs": [
    {
     "data": {
      "text/plain": [
       "23"
      ]
     },
     "execution_count": 22,
     "metadata": {},
     "output_type": "execute_result"
    }
   ],
   "source": [
    "len(podcast_episodes)"
   ]
  },
  {
   "cell_type": "code",
   "execution_count": 21,
   "id": "73f894aa-517b-4ed1-a977-82be2c9e7d33",
   "metadata": {
    "tags": []
   },
   "outputs": [],
   "source": [
    "for art in podcast_episodes:\n",
    "    create_missing_article_embedding(art)"
   ]
  },
  {
   "cell_type": "code",
   "execution_count": 23,
   "id": "6e9fc732-99bc-4827-9c54-21ef10e9b0bd",
   "metadata": {
    "tags": []
   },
   "outputs": [],
   "source": [
    "def create_podcast_attributes(article_id):\n",
    "    r = requests.post('http://Arcane-env.eba-mrsaixmg.ap-south-1.elasticbeanstalk.com/get_article_attributes_from_llm', json={'articleId': article_id})\n",
    "    if r.status_code == 200:\n",
    "        return article_id"
   ]
  },
  {
   "cell_type": "code",
   "execution_count": 25,
   "id": "838314b6-ef66-447f-a13a-26a38b0f00b7",
   "metadata": {
    "tags": []
   },
   "outputs": [],
   "source": [
    "for art in podcast_episodes:\n",
    "    create_podcast_attributes(art)"
   ]
  },
  {
   "cell_type": "code",
   "execution_count": 28,
   "id": "5995880b-4fe4-4bd4-9691-685150c675bb",
   "metadata": {
    "tags": []
   },
   "outputs": [
    {
     "data": {
      "text/plain": [
       "<Response [200]>"
      ]
     },
     "execution_count": 28,
     "metadata": {},
     "output_type": "execute_result"
    }
   ],
   "source": [
    "requests.post('http://Arcane-env.eba-mrsaixmg.ap-south-1.elasticbeanstalk.com/get_article_attributes_from_llm', json={'articleId': '659fca41e362d630b647264a'})"
   ]
  },
  {
   "cell_type": "code",
   "execution_count": 98,
   "id": "382e1528-e75b-45e6-94a3-d631347b7e2f",
   "metadata": {
    "tags": []
   },
   "outputs": [
    {
     "data": {
      "text/plain": [
       "<Response [200]>"
      ]
     },
     "execution_count": 98,
     "metadata": {},
     "output_type": "execute_result"
    }
   ],
   "source": [
    "requests.post('http://Arcane-env.eba-mrsaixmg.ap-south-1.elasticbeanstalk.com/get_article_attributes_from_llm', json={'articleId': '653680261e5cc42b1b144145'})"
   ]
  },
  {
   "cell_type": "code",
   "execution_count": 17,
   "id": "a6df53dc-f8e0-4646-b405-c407cc6fadc0",
   "metadata": {
    "tags": []
   },
   "outputs": [
    {
     "data": {
      "text/plain": [
       "\"embeddings created for articleId 659faf5fe362d630b647262a and got response of {'MD5OfMessageBody': '7b28515ef1a434131c204debe17c3ee1', 'MessageId': '10b99120-d845-445c-afec-bd7dc5e63ea9', 'ResponseMetadata': {'RequestId': '92e52317-da82-5bd5-984c-7d0e23fdc7db', 'HTTPStatusCode': 200, 'HTTPHeaders': {'x-amzn-requestid': '92e52317-da82-5bd5-984c-7d0e23fdc7db', 'date': 'Thu, 11 Jan 2024 14:12:15 GMT', 'content-type': 'text/xml', 'content-length': '378', 'connection': 'keep-alive'}, 'RetryAttempts': 0}}\""
      ]
     },
     "execution_count": 17,
     "metadata": {},
     "output_type": "execute_result"
    }
   ],
   "source": [
    "r.text"
   ]
  },
  {
   "cell_type": "code",
   "execution_count": 245,
   "id": "a3c7c9cc-c674-4db5-b97c-5cb13f5e8dc6",
   "metadata": {
    "tags": []
   },
   "outputs": [
    {
     "data": {
      "text/plain": [
       "'657aa8823a7a250d32265353'"
      ]
     },
     "execution_count": 245,
     "metadata": {},
     "output_type": "execute_result"
    }
   ],
   "source": [
    "create_missing_article_embedding(some_article)"
   ]
  },
  {
   "cell_type": "code",
   "execution_count": 239,
   "id": "03daa0a9-254c-457e-b8ba-1ac0ae09bebd",
   "metadata": {
    "tags": []
   },
   "outputs": [],
   "source": [
    "import time"
   ]
  },
  {
   "cell_type": "code",
   "execution_count": 255,
   "id": "4c145f3e-3c3d-4383-bfcc-c503fee398d6",
   "metadata": {
    "tags": []
   },
   "outputs": [],
   "source": [
    "completed_article_ids = []"
   ]
  },
  {
   "cell_type": "code",
   "execution_count": 256,
   "id": "86737494-45aa-4079-ba75-0f2fdcbc1a22",
   "metadata": {
    "tags": []
   },
   "outputs": [
    {
     "name": "stdout",
     "output_type": "stream",
     "text": [
      "starting creation at Dec 14, 2023 14:18\n",
      "completed chunk 100 articles at Dec 14, 2023 14:22 in 4.466666666666667 minutes\n"
     ]
    }
   ],
   "source": [
    "for i in range(num_chunks):\n",
    "    article_chunk = missing_articles[i*100:(i+1)*100]\n",
    "    print(f'starting creation at {\"{:%b %d, %Y %H:%M}\".format(datetime.now())}')\n",
    "    start_time = time.time()\n",
    "    with ThreadPoolExecutor(max_workers=10) as executor:\n",
    "        futures = [executor.submit(create_missing_article_embedding, art_id) for art_id in article_chunk]\n",
    "\n",
    "        for future in as_completed(futures):\n",
    "            response = future.result()\n",
    "            if response:  # Timeout or other errors\n",
    "                completed_article_ids.append(response)\n",
    "                continue\n",
    "    print(f'completed chunk {(i + 1) * 100} articles at {\"{:%b %d, %Y %H:%M}\".format(datetime.now())} in {int(time.time() - start_time)/60} minutes')"
   ]
  },
  {
   "cell_type": "markdown",
   "id": "44216307-1102-4d41-9c6b-f8ce4e5f2361",
   "metadata": {},
   "source": [
    "### Missing cluster mapping"
   ]
  },
  {
   "cell_type": "code",
   "execution_count": 316,
   "id": "23fbc75e-4c9f-4bd2-845b-e31426869fe7",
   "metadata": {
    "tags": []
   },
   "outputs": [],
   "source": [
    "with PostgresDatabaseOperation() as cursor:\n",
    "    sql = 'SELECT DISTINCT article_id FROM embeddings'\n",
    "    cursor.execute(sql)\n",
    "    results = cursor.fetchall()\n",
    "embeddings_articles = [x[0] for x in results]"
   ]
  },
  {
   "cell_type": "code",
   "execution_count": 317,
   "id": "85c7447f-3850-4224-a393-9e4a19367bea",
   "metadata": {
    "tags": []
   },
   "outputs": [],
   "source": [
    "with PostgresDatabaseOperation() as cursor:\n",
    "    sql = 'SELECT DISTINCT article_id FROM article_to_cluster_mapping'\n",
    "    cursor.execute(sql)\n",
    "    results = cursor.fetchall()\n",
    "clustered_articles = [x[0] for x in results]"
   ]
  },
  {
   "cell_type": "code",
   "execution_count": 318,
   "id": "647366c2-e38d-4b81-b36b-a403ebab19b3",
   "metadata": {
    "tags": []
   },
   "outputs": [],
   "source": [
    "unclustered_articles = list(set(recent_articles) - set(clustered_articles))"
   ]
  },
  {
   "cell_type": "code",
   "execution_count": 319,
   "id": "55486cda-b728-4585-91ec-a7afac54cab6",
   "metadata": {
    "tags": []
   },
   "outputs": [
    {
     "data": {
      "text/plain": [
       "561"
      ]
     },
     "execution_count": 319,
     "metadata": {},
     "output_type": "execute_result"
    }
   ],
   "source": [
    "len(unclustered_articles)"
   ]
  },
  {
   "cell_type": "code",
   "execution_count": 324,
   "id": "e0c5b3e6-249d-45eb-b478-c458a206b1e3",
   "metadata": {
    "tags": []
   },
   "outputs": [],
   "source": [
    "r = requests.post('http://Arcane-env.eba-mrsaixmg.ap-south-1.elasticbeanstalk.com/update_candidates')"
   ]
  },
  {
   "cell_type": "code",
   "execution_count": 325,
   "id": "be086fb6-0fe6-4639-b231-cf7e22ebf7fb",
   "metadata": {
    "tags": []
   },
   "outputs": [
    {
     "data": {
      "text/plain": [
       "'candidates updated'"
      ]
     },
     "execution_count": 325,
     "metadata": {},
     "output_type": "execute_result"
    }
   ],
   "source": [
    "r.text"
   ]
  },
  {
   "cell_type": "code",
   "execution_count": 19,
   "id": "c731be06-292f-4915-8b17-2746882c009c",
   "metadata": {
    "tags": []
   },
   "outputs": [],
   "source": [
    "from sql.PostgresDatabaseOperation import PostgresDatabaseOperation"
   ]
  },
  {
   "cell_type": "code",
   "execution_count": 31,
   "id": "3eec3948-5d20-4e55-b0e6-cf1852ebddd7",
   "metadata": {
    "tags": []
   },
   "outputs": [],
   "source": [
    "with PostgresDatabaseOperation() as cursor:\n",
    "    sql = \"SELECT article_id FROM embeddings e WHERE e.created_at > '2024-01-01' AND article_id NOT IN (SELECT article_id FROM article_to_cluster_mapping)\"\n",
    "    cursor.execute(sql)\n",
    "    results = cursor.fetchall()"
   ]
  },
  {
   "cell_type": "code",
   "execution_count": 35,
   "id": "2d418931-df4b-4d8b-b0d7-d1271a51a164",
   "metadata": {
    "tags": []
   },
   "outputs": [],
   "source": [
    "unclustered_articles = [x[0] for x in results]"
   ]
  },
  {
   "cell_type": "code",
   "execution_count": 33,
   "id": "21906444-6433-4069-bdde-7e87f1c1b190",
   "metadata": {
    "tags": []
   },
   "outputs": [],
   "source": [
    "def assign_missing_article_clusters(article_id):\n",
    "    r = requests.post('http://Arcane-env.eba-mrsaixmg.ap-south-1.elasticbeanstalk.com/assign_cluster', json={'articleId': article_id})\n",
    "    if r.status_code == 200:\n",
    "        return article_id"
   ]
  },
  {
   "cell_type": "code",
   "execution_count": 37,
   "id": "98ef0fda-6384-40fb-bdc1-5efad9b44b1e",
   "metadata": {
    "tags": []
   },
   "outputs": [],
   "source": [
    "num_chunks = len(unclustered_articles)//50 + 1"
   ]
  },
  {
   "cell_type": "code",
   "execution_count": 38,
   "id": "a1fcb11a-280b-4d21-9972-5de9eaf0b465",
   "metadata": {
    "tags": []
   },
   "outputs": [],
   "source": [
    "completed_article_ids = []"
   ]
  },
  {
   "cell_type": "code",
   "execution_count": 42,
   "id": "1cf27157-ca8a-48ee-a19e-261e0ac59428",
   "metadata": {
    "tags": []
   },
   "outputs": [],
   "source": [
    "from datetime import datetime\n",
    "import time\n",
    "from concurrent.futures import ThreadPoolExecutor, as_completed"
   ]
  },
  {
   "cell_type": "code",
   "execution_count": 43,
   "id": "13d41e95-65cc-47c2-a963-8c1d079c0bc4",
   "metadata": {
    "scrolled": true,
    "tags": []
   },
   "outputs": [
    {
     "name": "stdout",
     "output_type": "stream",
     "text": [
      "starting creation at Jan 15, 2024 10:56\n",
      "completed chunk 50 articles at Jan 15, 2024 10:56 in 0.15 minutes\n",
      "starting creation at Jan 15, 2024 10:56\n",
      "completed chunk 100 articles at Jan 15, 2024 10:57 in 0.16666666666666666 minutes\n",
      "starting creation at Jan 15, 2024 10:57\n",
      "completed chunk 150 articles at Jan 15, 2024 10:57 in 0.13333333333333333 minutes\n",
      "starting creation at Jan 15, 2024 10:57\n",
      "completed chunk 200 articles at Jan 15, 2024 10:57 in 0.15 minutes\n",
      "starting creation at Jan 15, 2024 10:57\n",
      "completed chunk 250 articles at Jan 15, 2024 10:57 in 0.15 minutes\n",
      "starting creation at Jan 15, 2024 10:57\n",
      "completed chunk 300 articles at Jan 15, 2024 10:57 in 0.16666666666666666 minutes\n",
      "starting creation at Jan 15, 2024 10:57\n",
      "completed chunk 350 articles at Jan 15, 2024 10:57 in 0.13333333333333333 minutes\n",
      "starting creation at Jan 15, 2024 10:57\n",
      "completed chunk 400 articles at Jan 15, 2024 10:58 in 0.15 minutes\n",
      "starting creation at Jan 15, 2024 10:58\n",
      "completed chunk 450 articles at Jan 15, 2024 10:58 in 0.15 minutes\n",
      "starting creation at Jan 15, 2024 10:58\n",
      "completed chunk 500 articles at Jan 15, 2024 10:58 in 0.15 minutes\n",
      "starting creation at Jan 15, 2024 10:58\n",
      "completed chunk 550 articles at Jan 15, 2024 10:58 in 0.15 minutes\n",
      "starting creation at Jan 15, 2024 10:58\n",
      "completed chunk 600 articles at Jan 15, 2024 10:58 in 0.15 minutes\n",
      "starting creation at Jan 15, 2024 10:58\n",
      "completed chunk 650 articles at Jan 15, 2024 10:58 in 0.15 minutes\n",
      "starting creation at Jan 15, 2024 10:58\n",
      "completed chunk 700 articles at Jan 15, 2024 10:59 in 0.15 minutes\n",
      "starting creation at Jan 15, 2024 10:59\n",
      "completed chunk 750 articles at Jan 15, 2024 10:59 in 0.15 minutes\n",
      "starting creation at Jan 15, 2024 10:59\n",
      "completed chunk 800 articles at Jan 15, 2024 10:59 in 0.13333333333333333 minutes\n",
      "starting creation at Jan 15, 2024 10:59\n",
      "completed chunk 850 articles at Jan 15, 2024 10:59 in 0.15 minutes\n",
      "starting creation at Jan 15, 2024 10:59\n",
      "completed chunk 900 articles at Jan 15, 2024 10:59 in 0.15 minutes\n",
      "starting creation at Jan 15, 2024 10:59\n",
      "completed chunk 950 articles at Jan 15, 2024 10:59 in 0.15 minutes\n",
      "starting creation at Jan 15, 2024 10:59\n",
      "completed chunk 1000 articles at Jan 15, 2024 11:00 in 0.16666666666666666 minutes\n",
      "starting creation at Jan 15, 2024 11:00\n",
      "completed chunk 1050 articles at Jan 15, 2024 11:00 in 0.13333333333333333 minutes\n",
      "starting creation at Jan 15, 2024 11:00\n",
      "completed chunk 1100 articles at Jan 15, 2024 11:00 in 0.16666666666666666 minutes\n",
      "starting creation at Jan 15, 2024 11:00\n",
      "completed chunk 1150 articles at Jan 15, 2024 11:00 in 0.13333333333333333 minutes\n",
      "starting creation at Jan 15, 2024 11:00\n",
      "completed chunk 1200 articles at Jan 15, 2024 11:00 in 0.15 minutes\n",
      "starting creation at Jan 15, 2024 11:00\n",
      "completed chunk 1250 articles at Jan 15, 2024 11:00 in 0.15 minutes\n",
      "starting creation at Jan 15, 2024 11:00\n",
      "completed chunk 1300 articles at Jan 15, 2024 11:00 in 0.13333333333333333 minutes\n",
      "starting creation at Jan 15, 2024 11:00\n",
      "completed chunk 1350 articles at Jan 15, 2024 11:01 in 0.13333333333333333 minutes\n",
      "starting creation at Jan 15, 2024 11:01\n",
      "completed chunk 1400 articles at Jan 15, 2024 11:01 in 0.13333333333333333 minutes\n",
      "starting creation at Jan 15, 2024 11:01\n",
      "completed chunk 1450 articles at Jan 15, 2024 11:01 in 0.15 minutes\n",
      "starting creation at Jan 15, 2024 11:01\n",
      "completed chunk 1500 articles at Jan 15, 2024 11:01 in 0.15 minutes\n",
      "starting creation at Jan 15, 2024 11:01\n",
      "completed chunk 1550 articles at Jan 15, 2024 11:01 in 0.16666666666666666 minutes\n",
      "starting creation at Jan 15, 2024 11:01\n",
      "completed chunk 1600 articles at Jan 15, 2024 11:01 in 0.15 minutes\n",
      "starting creation at Jan 15, 2024 11:01\n",
      "completed chunk 1650 articles at Jan 15, 2024 11:01 in 0.0 minutes\n"
     ]
    }
   ],
   "source": [
    "for i in range(num_chunks):\n",
    "    article_chunk = unclustered_articles[i*50:(i+1)*50]\n",
    "    print(f'starting creation at {\"{:%b %d, %Y %H:%M}\".format(datetime.now())}')\n",
    "    start_time = time.time()\n",
    "    with ThreadPoolExecutor(max_workers=10) as executor:\n",
    "        futures = [executor.submit(assign_missing_article_clusters, art_id) for art_id in article_chunk]\n",
    "\n",
    "        for future in as_completed(futures):\n",
    "            response = future.result()\n",
    "            if response:  # Timeout or other errors\n",
    "                completed_article_ids.append(response)\n",
    "                continue\n",
    "    print(f'completed chunk {(i + 1) * 50} articles at {\"{:%b %d, %Y %H:%M}\".format(datetime.now())} in {int(time.time() - start_time)/60} minutes')"
   ]
  },
  {
   "cell_type": "markdown",
   "id": "2ca651aa-6302-4fb7-81e1-5dbda5e5110f",
   "metadata": {},
   "source": [
    "#### LLM attributes for missing articles"
   ]
  },
  {
   "cell_type": "code",
   "execution_count": 95,
   "id": "3d148c65-573a-4c8b-8dda-5e26cdd91914",
   "metadata": {
    "tags": []
   },
   "outputs": [],
   "source": [
    "with PostgresDatabaseOperation() as cursor:\n",
    "    sql = 'SELECT DISTINCT article_id FROM llm_article_attributes'\n",
    "    cursor.execute(sql)\n",
    "    results = cursor.fetchall()\n",
    "llm_attribute_articles = [x[0] for x in results]"
   ]
  },
  {
   "cell_type": "code",
   "execution_count": 96,
   "id": "5e28ae57-6828-417c-aac4-725f9d934ecf",
   "metadata": {
    "tags": []
   },
   "outputs": [],
   "source": [
    "pending_attributes_articles = list(set(recent_articles) - set(llm_attribute_articles))"
   ]
  },
  {
   "cell_type": "code",
   "execution_count": 97,
   "id": "ac58a9be-34db-4c99-8474-d5beb433c978",
   "metadata": {
    "tags": []
   },
   "outputs": [
    {
     "data": {
      "text/plain": [
       "1"
      ]
     },
     "execution_count": 97,
     "metadata": {},
     "output_type": "execute_result"
    }
   ],
   "source": [
    "len(pending_attributes_articles)"
   ]
  },
  {
   "cell_type": "code",
   "execution_count": 50,
   "id": "f38852a4-4508-4948-947c-3dc5698d79c7",
   "metadata": {
    "tags": []
   },
   "outputs": [],
   "source": [
    "def get_missing_article_attributes(article_id):\n",
    "    r = requests.post('http://Arcane-env.eba-mrsaixmg.ap-south-1.elasticbeanstalk.com/get_article_attributes_from_llm', json={'articleId': article_id})\n",
    "    if r.status_code == 200:\n",
    "        return article_id"
   ]
  },
  {
   "cell_type": "code",
   "execution_count": 83,
   "id": "2fc14580-bba8-4e86-82c6-04d4cdfcebfc",
   "metadata": {
    "tags": []
   },
   "outputs": [],
   "source": [
    "num_chunks = len(pending_attributes_articles)//20 + 1"
   ]
  },
  {
   "cell_type": "code",
   "execution_count": 84,
   "id": "5c3d17aa-366a-405f-a5f0-f195b106c8ee",
   "metadata": {
    "tags": []
   },
   "outputs": [],
   "source": [
    "completed_article_ids = []"
   ]
  },
  {
   "cell_type": "code",
   "execution_count": 85,
   "id": "df343225-ecc0-4c83-82fb-f545c990fac6",
   "metadata": {
    "tags": []
   },
   "outputs": [],
   "source": [
    "import time"
   ]
  },
  {
   "cell_type": "code",
   "execution_count": 86,
   "id": "f948af5c-c2e4-482b-8bc9-f885e286fb85",
   "metadata": {
    "tags": []
   },
   "outputs": [],
   "source": [
    "from concurrent.futures import ThreadPoolExecutor, as_completed"
   ]
  },
  {
   "cell_type": "code",
   "execution_count": 88,
   "id": "1fa98db3-5a1e-4534-9c70-6431f7b0f284",
   "metadata": {
    "tags": []
   },
   "outputs": [
    {
     "name": "stdout",
     "output_type": "stream",
     "text": [
      "starting creation at Jan 12, 2024 11:00\n",
      "completed chunk 100 articles at Jan 12, 2024 11:01 in 1.0 minutes\n"
     ]
    }
   ],
   "source": [
    "for i in range(num_chunks):\n",
    "    article_chunk = pending_attributes_articles[i*20:(i+1)*20]\n",
    "    print(f'starting creation at {\"{:%b %d, %Y %H:%M}\".format(datetime.now())}')\n",
    "    start_time = time.time()\n",
    "    with ThreadPoolExecutor(max_workers=10) as executor:\n",
    "        futures = [executor.submit(get_missing_article_attributes, art_id) for art_id in article_chunk]\n",
    "\n",
    "        for future in as_completed(futures):\n",
    "            response = future.result()\n",
    "            if response:  # Timeout or other errors\n",
    "                completed_article_ids.append(response)\n",
    "                continue\n",
    "    print(f'completed chunk {(i + 1) * 100} articles at {\"{:%b %d, %Y %H:%M}\".format(datetime.now())} in {int(time.time() - start_time)/60} minutes')"
   ]
  },
  {
   "cell_type": "code",
   "execution_count": null,
   "id": "1c56143b-1d78-4970-962a-f06831233f0b",
   "metadata": {},
   "outputs": [],
   "source": []
  }
 ],
 "metadata": {
  "kernelspec": {
   "display_name": "bertopicenv",
   "language": "python",
   "name": "bertopicenv"
  },
  "language_info": {
   "codemirror_mode": {
    "name": "ipython",
    "version": 3
   },
   "file_extension": ".py",
   "mimetype": "text/x-python",
   "name": "python",
   "nbconvert_exporter": "python",
   "pygments_lexer": "ipython3",
   "version": "3.9.18"
  }
 },
 "nbformat": 4,
 "nbformat_minor": 5
}
