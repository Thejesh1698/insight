{
 "cells": [
  {
   "cell_type": "code",
   "execution_count": 1,
   "id": "4fd90174-42ec-4b7d-bcb4-b6da3ec3adf6",
   "metadata": {
    "tags": []
   },
   "outputs": [],
   "source": [
    "parent_folder = '/Users/username/Desktop/ML/Recommendations/arcane/'\n",
    "from hydra import compose, initialize\n",
    "# with initialize(config_path=\"../../conf\"):\n",
    "#     # Compose the configuration\n",
    "#     cfg = compose(config_name=\"ClustersResetService.yaml\")\n",
    "\n",
    "import os\n",
    "\n",
    "import xml.etree.ElementTree as ET\n",
    "\n",
    "tree = ET.parse('../../conf/application.run.xml')\n",
    "root = tree.getroot()\n",
    "\n",
    "envs_element = root.find('./configuration/envs')\n",
    "for variable in envs_element.findall('env'):\n",
    "    name = variable.get('name')\n",
    "    value = variable.get('value')\n",
    "    os.environ[name] = value"
   ]
  },
  {
   "cell_type": "code",
   "execution_count": 2,
   "id": "bf78029b-d9e1-421a-95f3-1d3d5b2f36ee",
   "metadata": {
    "tags": []
   },
   "outputs": [],
   "source": [
    "import sys\n",
    "\n",
    "sys.path.append('/Users/username/Desktop/ML/Recommendations/arcane/')\n",
    "\n",
    "import hydra\n",
    "import os\n",
    "from hydra import compose, initialize"
   ]
  },
  {
   "cell_type": "code",
   "execution_count": 3,
   "id": "ea985c73-c326-46ab-bd56-2ec0f46aee78",
   "metadata": {
    "tags": []
   },
   "outputs": [],
   "source": [
    "from src.articles.ArticleService import ArticleService"
   ]
  },
  {
   "cell_type": "code",
   "execution_count": 4,
   "id": "4a9486f3-942f-4678-bfa8-6fd68635990f",
   "metadata": {
    "tags": []
   },
   "outputs": [],
   "source": [
    "article = ArticleService.get_Article('653168871e5cc42b1b13aeb9')"
   ]
  },
  {
   "cell_type": "code",
   "execution_count": 5,
   "id": "f4534834-a1ae-4ed5-8c80-b7ad01b5f1b1",
   "metadata": {
    "tags": []
   },
   "outputs": [
    {
     "data": {
      "text/plain": [
       "'Persistent Systems Q1 results: Consolidated net profit comes in at ₹228.8 crore  Mint:  IT firm Persistent Systems has announced its earnings today with the consolidated net profit coming in at ₹ 228.8 crore for the quarter ended June 30 2023 as compared to ₹ 211.6 crore in the year-ago period. The revenue from operations was at ₹ 2321.2 crore in Q1 versus ₹ 1878.1 crore in quarter ending June 30 2022 it said in a stock regulatory filing on 20 July. The EBITDA for Q1FY24 stood at ₹ 422.9 crore that grew 1.6 percent QoQ and 26.9 percent YoY. The firm also appointed Dr Ajit Ranade as an Independent Director to the Board. In addition to this the firm at its 33rd Annual General Meeting passed the resolutions for a final dividend payment of ₹ 12 per share and a special dividend of ₹ 10 per share on achieving $1 Billion in annual revenue. This makes the total dividend for FY23 to be ₹ 50 per share as compared to ₹ 31 per share for FY22. We commenced the year by celebrating a significant milestone of surpassing $1 billion in annual revenue with our clients partners and team members. As we enter our new fiscal year Im pleased to share that we have sustained our growth momentum despite the challenging macroeconomic conditions. Our Digital Engineering leadership extensive experience across key industries curated partner ecosystem and the ability to stay ahead of disruptive technology trends has led to our ongoing success  said Persistent CEO Sandeep Kalra. We also want to extend our warm welcome to Dr. Ajit Ranade a renowned academician corporate executive economist and thought leader as an Independent Director to our Board. He will bring his impressive experience of 32 years to help guide our strategy and accelerate our growth journey he added. Persistent Systems closed trading in BSE on Thursday at ₹ 5050.80 up down 88.35 or 1.72 percent as compared to the previous close of ₹ 5139.15. '"
      ]
     },
     "execution_count": 5,
     "metadata": {},
     "output_type": "execute_result"
    }
   ],
   "source": [
    "article.full_content"
   ]
  },
  {
   "cell_type": "code",
   "execution_count": 13,
   "id": "cea67687-df8c-48fd-8bb6-87efb826e2f3",
   "metadata": {
    "tags": []
   },
   "outputs": [],
   "source": [
    "endpoint = 'huggingface-pytorch-inference-2023-10-30-13-16-43-720'"
   ]
  },
  {
   "cell_type": "code",
   "execution_count": 7,
   "id": "1eb5cc2a-6f42-4af3-bf8e-42ce84721e72",
   "metadata": {
    "tags": []
   },
   "outputs": [],
   "source": [
    "import requests"
   ]
  },
  {
   "cell_type": "code",
   "execution_count": 9,
   "id": "4424b80f-5daf-4dc4-bbba-6fc530597d07",
   "metadata": {
    "tags": []
   },
   "outputs": [],
   "source": [
    "import boto3\n",
    "\n",
    "# Create a low-level client representing Amazon SageMaker Runtime\n",
    "sagemaker_runtime = boto3.client(\n",
    "    \"sagemaker-runtime\", region_name='ap-south-1')"
   ]
  },
  {
   "cell_type": "code",
   "execution_count": 34,
   "id": "c03aeffe-0716-4ed4-9bbe-914458cf7339",
   "metadata": {
    "tags": []
   },
   "outputs": [],
   "source": []
  },
  {
   "cell_type": "code",
   "execution_count": 21,
   "id": "9195d3ff-118e-48bd-a098-27e84aac5bcb",
   "metadata": {
    "tags": []
   },
   "outputs": [],
   "source": [
    "import json"
   ]
  },
  {
   "cell_type": "code",
   "execution_count": 36,
   "id": "75435eb9-190e-4bb9-a0d8-98d53fd710c9",
   "metadata": {
    "tags": []
   },
   "outputs": [],
   "source": [
    "response = sagemaker_runtime.invoke_endpoint(\n",
    "EndpointName=endpoint, \n",
    "Body=bytes(f'{dct}'.replace(\"'\", '\"'), 'utf-8'),\n",
    "ContentType = 'application/json'\n",
    ")"
   ]
  },
  {
   "cell_type": "code",
   "execution_count": 37,
   "id": "62e800e6-857b-4cd3-903d-9af1da2694cb",
   "metadata": {
    "tags": []
   },
   "outputs": [],
   "source": [
    "vec = response['Body']"
   ]
  },
  {
   "cell_type": "code",
   "execution_count": 38,
   "id": "2aa5444a-1e66-4b0c-80dc-92f54e942983",
   "metadata": {
    "tags": []
   },
   "outputs": [],
   "source": [
    "vec = json.loads(vec.read()) "
   ]
  },
  {
   "cell_type": "code",
   "execution_count": 42,
   "id": "59eb1bb0-2764-4c55-8bd7-b1363177dd91",
   "metadata": {
    "tags": []
   },
   "outputs": [
    {
     "data": {
      "text/plain": [
       "float"
      ]
     },
     "execution_count": 42,
     "metadata": {},
     "output_type": "execute_result"
    }
   ],
   "source": [
    "type(vec['vectors'][0][0])"
   ]
  },
  {
   "cell_type": "code",
   "execution_count": 8,
   "id": "c5d9e2b0-1d7a-48fd-a7f4-b1175d0de4a5",
   "metadata": {
    "tags": []
   },
   "outputs": [],
   "source": [
    "dct = {'inputs': article.full_content}"
   ]
  },
  {
   "cell_type": "markdown",
   "id": "99e56ea7-96d7-4c2a-8439-7707c3655d03",
   "metadata": {},
   "source": [
    "### Creation of embeddings using server"
   ]
  },
  {
   "cell_type": "code",
   "execution_count": 1,
   "id": "b7b22811-c2f6-431e-8063-88332b699e98",
   "metadata": {
    "tags": []
   },
   "outputs": [],
   "source": [
    "import requests"
   ]
  },
  {
   "cell_type": "code",
   "execution_count": 16,
   "id": "393b89ea-e7ec-41f5-9944-0bf0f1353022",
   "metadata": {
    "tags": []
   },
   "outputs": [],
   "source": [
    "r = requests.post('http://arcane-env.eba-mrsaixmg.ap-south-1.elasticbeanstalk.com/create_embedding', json = {'articleId': '6555ca474b13023f93493141'})"
   ]
  },
  {
   "cell_type": "code",
   "execution_count": 17,
   "id": "e852108f-f822-47b2-84be-78811f7904b5",
   "metadata": {
    "tags": []
   },
   "outputs": [
    {
     "data": {
      "text/plain": [
       "\"embeddings created for articleId 6555ca474b13023f93493141 and got response of {'MD5OfMessageBody': 'ee445fed16e87d041c8b60e541236f1e', 'MessageId': '45daf51a-3920-437b-a085-8e2d1ce0cb8f', 'ResponseMetadata': {'RequestId': 'fa420462-9938-5f82-a02c-5990d0bc8930', 'HTTPStatusCode': 200, 'HTTPHeaders': {'x-amzn-requestid': 'fa420462-9938-5f82-a02c-5990d0bc8930', 'date': 'Tue, 12 Dec 2023 11:43:00 GMT', 'content-type': 'text/xml', 'content-length': '378', 'connection': 'keep-alive'}, 'RetryAttempts': 0}}\""
      ]
     },
     "execution_count": 17,
     "metadata": {},
     "output_type": "execute_result"
    }
   ],
   "source": [
    "r.text"
   ]
  },
  {
   "cell_type": "code",
   "execution_count": 8,
   "id": "c884f6ae-4349-49e4-8684-4a061625e7c1",
   "metadata": {
    "tags": []
   },
   "outputs": [],
   "source": [
    "def log_free_ram():\n",
    "    # Run the 'free' command and extract the free memory information\n",
    "    result = subprocess.run(['free', '-m'], capture_output=True, text=True)\n",
    "    free_ram_info = result.stdout.split('\\n')[1].split()\n",
    "    \n",
    "    # Extract the free memory value\n",
    "    free_ram = float(free_ram_info[3])\n",
    "\n",
    "    # Log the free RAM information\n",
    "    logging.info(f\"Free RAM: {free_ram:.2f} MB\")"
   ]
  },
  {
   "cell_type": "code",
   "execution_count": 10,
   "id": "da45490b-d2a9-45d6-9a46-618115967668",
   "metadata": {
    "tags": []
   },
   "outputs": [],
   "source": [
    "import subprocess"
   ]
  },
  {
   "cell_type": "code",
   "execution_count": 12,
   "id": "8ad855a2-5489-4558-a6be-df779bb46d82",
   "metadata": {
    "tags": []
   },
   "outputs": [],
   "source": [
    "import psutil"
   ]
  },
  {
   "cell_type": "code",
   "execution_count": 13,
   "id": "1af2942c-d12c-4cd0-acd6-4de95ed31602",
   "metadata": {
    "tags": []
   },
   "outputs": [
    {
     "data": {
      "text/plain": [
       "3277.9375"
      ]
     },
     "execution_count": 13,
     "metadata": {},
     "output_type": "execute_result"
    }
   ],
   "source": []
  },
  {
   "cell_type": "code",
   "execution_count": 11,
   "id": "94702c81-36ab-4ef2-a8ee-a931521417ef",
   "metadata": {
    "tags": []
   },
   "outputs": [
    {
     "ename": "FileNotFoundError",
     "evalue": "[Errno 2] No such file or directory: 'free'",
     "output_type": "error",
     "traceback": [
      "\u001b[0;31m---------------------------------------------------------------------------\u001b[0m",
      "\u001b[0;31mFileNotFoundError\u001b[0m                         Traceback (most recent call last)",
      "Cell \u001b[0;32mIn[11], line 1\u001b[0m\n\u001b[0;32m----> 1\u001b[0m log_free_ram()\n",
      "Cell \u001b[0;32mIn[8], line 3\u001b[0m, in \u001b[0;36mlog_free_ram\u001b[0;34m()\u001b[0m\n\u001b[1;32m      1\u001b[0m \u001b[38;5;28;01mdef\u001b[39;00m \u001b[38;5;21mlog_free_ram\u001b[39m():\n\u001b[1;32m      2\u001b[0m     \u001b[38;5;66;03m# Run the 'free' command and extract the free memory information\u001b[39;00m\n\u001b[0;32m----> 3\u001b[0m     result \u001b[38;5;241m=\u001b[39m subprocess\u001b[38;5;241m.\u001b[39mrun([\u001b[38;5;124m'\u001b[39m\u001b[38;5;124mfree\u001b[39m\u001b[38;5;124m'\u001b[39m, \u001b[38;5;124m'\u001b[39m\u001b[38;5;124m-m\u001b[39m\u001b[38;5;124m'\u001b[39m], capture_output\u001b[38;5;241m=\u001b[39m\u001b[38;5;28;01mTrue\u001b[39;00m, text\u001b[38;5;241m=\u001b[39m\u001b[38;5;28;01mTrue\u001b[39;00m)\n\u001b[1;32m      4\u001b[0m     free_ram_info \u001b[38;5;241m=\u001b[39m result\u001b[38;5;241m.\u001b[39mstdout\u001b[38;5;241m.\u001b[39msplit(\u001b[38;5;124m'\u001b[39m\u001b[38;5;130;01m\\n\u001b[39;00m\u001b[38;5;124m'\u001b[39m)[\u001b[38;5;241m1\u001b[39m]\u001b[38;5;241m.\u001b[39msplit()\n\u001b[1;32m      6\u001b[0m     \u001b[38;5;66;03m# Extract the free memory value\u001b[39;00m\n",
      "File \u001b[0;32m~/anaconda3/envs/recoenv/lib/python3.11/subprocess.py:548\u001b[0m, in \u001b[0;36mrun\u001b[0;34m(input, capture_output, timeout, check, *popenargs, **kwargs)\u001b[0m\n\u001b[1;32m    545\u001b[0m     kwargs[\u001b[38;5;124m'\u001b[39m\u001b[38;5;124mstdout\u001b[39m\u001b[38;5;124m'\u001b[39m] \u001b[38;5;241m=\u001b[39m PIPE\n\u001b[1;32m    546\u001b[0m     kwargs[\u001b[38;5;124m'\u001b[39m\u001b[38;5;124mstderr\u001b[39m\u001b[38;5;124m'\u001b[39m] \u001b[38;5;241m=\u001b[39m PIPE\n\u001b[0;32m--> 548\u001b[0m \u001b[38;5;28;01mwith\u001b[39;00m Popen(\u001b[38;5;241m*\u001b[39mpopenargs, \u001b[38;5;241m*\u001b[39m\u001b[38;5;241m*\u001b[39mkwargs) \u001b[38;5;28;01mas\u001b[39;00m process:\n\u001b[1;32m    549\u001b[0m     \u001b[38;5;28;01mtry\u001b[39;00m:\n\u001b[1;32m    550\u001b[0m         stdout, stderr \u001b[38;5;241m=\u001b[39m process\u001b[38;5;241m.\u001b[39mcommunicate(\u001b[38;5;28minput\u001b[39m, timeout\u001b[38;5;241m=\u001b[39mtimeout)\n",
      "File \u001b[0;32m~/anaconda3/envs/recoenv/lib/python3.11/subprocess.py:1026\u001b[0m, in \u001b[0;36mPopen.__init__\u001b[0;34m(self, args, bufsize, executable, stdin, stdout, stderr, preexec_fn, close_fds, shell, cwd, env, universal_newlines, startupinfo, creationflags, restore_signals, start_new_session, pass_fds, user, group, extra_groups, encoding, errors, text, umask, pipesize, process_group)\u001b[0m\n\u001b[1;32m   1022\u001b[0m         \u001b[38;5;28;01mif\u001b[39;00m \u001b[38;5;28mself\u001b[39m\u001b[38;5;241m.\u001b[39mtext_mode:\n\u001b[1;32m   1023\u001b[0m             \u001b[38;5;28mself\u001b[39m\u001b[38;5;241m.\u001b[39mstderr \u001b[38;5;241m=\u001b[39m io\u001b[38;5;241m.\u001b[39mTextIOWrapper(\u001b[38;5;28mself\u001b[39m\u001b[38;5;241m.\u001b[39mstderr,\n\u001b[1;32m   1024\u001b[0m                     encoding\u001b[38;5;241m=\u001b[39mencoding, errors\u001b[38;5;241m=\u001b[39merrors)\n\u001b[0;32m-> 1026\u001b[0m     \u001b[38;5;28mself\u001b[39m\u001b[38;5;241m.\u001b[39m_execute_child(args, executable, preexec_fn, close_fds,\n\u001b[1;32m   1027\u001b[0m                         pass_fds, cwd, env,\n\u001b[1;32m   1028\u001b[0m                         startupinfo, creationflags, shell,\n\u001b[1;32m   1029\u001b[0m                         p2cread, p2cwrite,\n\u001b[1;32m   1030\u001b[0m                         c2pread, c2pwrite,\n\u001b[1;32m   1031\u001b[0m                         errread, errwrite,\n\u001b[1;32m   1032\u001b[0m                         restore_signals,\n\u001b[1;32m   1033\u001b[0m                         gid, gids, uid, umask,\n\u001b[1;32m   1034\u001b[0m                         start_new_session, process_group)\n\u001b[1;32m   1035\u001b[0m \u001b[38;5;28;01mexcept\u001b[39;00m:\n\u001b[1;32m   1036\u001b[0m     \u001b[38;5;66;03m# Cleanup if the child failed starting.\u001b[39;00m\n\u001b[1;32m   1037\u001b[0m     \u001b[38;5;28;01mfor\u001b[39;00m f \u001b[38;5;129;01min\u001b[39;00m \u001b[38;5;28mfilter\u001b[39m(\u001b[38;5;28;01mNone\u001b[39;00m, (\u001b[38;5;28mself\u001b[39m\u001b[38;5;241m.\u001b[39mstdin, \u001b[38;5;28mself\u001b[39m\u001b[38;5;241m.\u001b[39mstdout, \u001b[38;5;28mself\u001b[39m\u001b[38;5;241m.\u001b[39mstderr)):\n",
      "File \u001b[0;32m~/anaconda3/envs/recoenv/lib/python3.11/subprocess.py:1950\u001b[0m, in \u001b[0;36mPopen._execute_child\u001b[0;34m(self, args, executable, preexec_fn, close_fds, pass_fds, cwd, env, startupinfo, creationflags, shell, p2cread, p2cwrite, c2pread, c2pwrite, errread, errwrite, restore_signals, gid, gids, uid, umask, start_new_session, process_group)\u001b[0m\n\u001b[1;32m   1948\u001b[0m     \u001b[38;5;28;01mif\u001b[39;00m errno_num \u001b[38;5;241m!=\u001b[39m \u001b[38;5;241m0\u001b[39m:\n\u001b[1;32m   1949\u001b[0m         err_msg \u001b[38;5;241m=\u001b[39m os\u001b[38;5;241m.\u001b[39mstrerror(errno_num)\n\u001b[0;32m-> 1950\u001b[0m     \u001b[38;5;28;01mraise\u001b[39;00m child_exception_type(errno_num, err_msg, err_filename)\n\u001b[1;32m   1951\u001b[0m \u001b[38;5;28;01mraise\u001b[39;00m child_exception_type(err_msg)\n",
      "\u001b[0;31mFileNotFoundError\u001b[0m: [Errno 2] No such file or directory: 'free'"
     ]
    }
   ],
   "source": [
    "log_free_ram()"
   ]
  },
  {
   "cell_type": "code",
   "execution_count": null,
   "id": "32ab6460-517f-4d7a-9772-c56fca0e7bf4",
   "metadata": {},
   "outputs": [],
   "source": []
  }
 ],
 "metadata": {
  "kernelspec": {
   "display_name": "recoenv",
   "language": "python",
   "name": "recoenv"
  },
  "language_info": {
   "codemirror_mode": {
    "name": "ipython",
    "version": 3
   },
   "file_extension": ".py",
   "mimetype": "text/x-python",
   "name": "python",
   "nbconvert_exporter": "python",
   "pygments_lexer": "ipython3",
   "version": "3.11.5"
  }
 },
 "nbformat": 4,
 "nbformat_minor": 5
}
