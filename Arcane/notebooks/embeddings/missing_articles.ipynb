{
 "cells": [
  {
   "cell_type": "code",
   "execution_count": 29,
   "id": "86d84bda-1b30-4ae1-a2e1-e0c003d0af18",
   "metadata": {
    "tags": []
   },
   "outputs": [],
   "source": [
    "import requests"
   ]
  },
  {
   "cell_type": "code",
   "execution_count": 41,
   "id": "933bcab6-e861-4dd7-93a1-c918f0aef437",
   "metadata": {
    "tags": []
   },
   "outputs": [],
   "source": [
    "r = requests.post('http://Carbine-env.eba-tgfee4hb.ap-south-1.elasticbeanstalk.com/update_candidates')"
   ]
  },
  {
   "cell_type": "code",
   "execution_count": 42,
   "id": "dd7eb8f4-c583-4163-940d-f539ccf96652",
   "metadata": {
    "tags": []
   },
   "outputs": [
    {
     "data": {
      "text/plain": [
       "'candidates updated'"
      ]
     },
     "execution_count": 42,
     "metadata": {},
     "output_type": "execute_result"
    }
   ],
   "source": [
    "r.text"
   ]
  },
  {
   "cell_type": "code",
   "execution_count": 43,
   "id": "ab69de25-fce7-498e-b039-4972ac7f2f9d",
   "metadata": {
    "tags": []
   },
   "outputs": [],
   "source": [
    "with PostgresDatabaseOperation() as cursor:\n",
    "    sql= '''\n",
    "    SELECT source_name,COUNT(article_id)\n",
    "    FROM candidate_articles ca LEFT JOIN source_id_characteristics sc\n",
    "    ON ca.source_id = sc.source_id\n",
    "    GROUP BY source_name\n",
    "    '''\n",
    "    cursor.execute(sql)\n",
    "    results = cursor.fetchall()"
   ]
  },
  {
   "cell_type": "code",
   "execution_count": 44,
   "id": "e8c17d1b-9d51-4e5d-a217-6a5460b273bf",
   "metadata": {
    "tags": []
   },
   "outputs": [],
   "source": [
    "import pandas as pd"
   ]
  },
  {
   "cell_type": "code",
   "execution_count": 45,
   "id": "b431b53f-0120-4dd8-b492-bb12d507e25d",
   "metadata": {
    "tags": []
   },
   "outputs": [
    {
     "data": {
      "text/html": [
       "<div>\n",
       "<style scoped>\n",
       "    .dataframe tbody tr th:only-of-type {\n",
       "        vertical-align: middle;\n",
       "    }\n",
       "\n",
       "    .dataframe tbody tr th {\n",
       "        vertical-align: top;\n",
       "    }\n",
       "\n",
       "    .dataframe thead th {\n",
       "        text-align: right;\n",
       "    }\n",
       "</style>\n",
       "<table border=\"1\" class=\"dataframe\">\n",
       "  <thead>\n",
       "    <tr style=\"text-align: right;\">\n",
       "      <th></th>\n",
       "      <th>0</th>\n",
       "      <th>1</th>\n",
       "    </tr>\n",
       "  </thead>\n",
       "  <tbody>\n",
       "    <tr>\n",
       "      <th>0</th>\n",
       "      <td>None</td>\n",
       "      <td>421</td>\n",
       "    </tr>\n",
       "    <tr>\n",
       "      <th>1</th>\n",
       "      <td>navi</td>\n",
       "      <td>206</td>\n",
       "    </tr>\n",
       "    <tr>\n",
       "      <th>2</th>\n",
       "      <td>inc42</td>\n",
       "      <td>47</td>\n",
       "    </tr>\n",
       "    <tr>\n",
       "      <th>3</th>\n",
       "      <td>economic-times</td>\n",
       "      <td>13</td>\n",
       "    </tr>\n",
       "    <tr>\n",
       "      <th>4</th>\n",
       "      <td>investopedia</td>\n",
       "      <td>68</td>\n",
       "    </tr>\n",
       "    <tr>\n",
       "      <th>5</th>\n",
       "      <td>cnbc-tv-18</td>\n",
       "      <td>75</td>\n",
       "    </tr>\n",
       "    <tr>\n",
       "      <th>6</th>\n",
       "      <td>reuters</td>\n",
       "      <td>225</td>\n",
       "    </tr>\n",
       "    <tr>\n",
       "      <th>7</th>\n",
       "      <td>economist</td>\n",
       "      <td>9</td>\n",
       "    </tr>\n",
       "    <tr>\n",
       "      <th>8</th>\n",
       "      <td>live-mint</td>\n",
       "      <td>115</td>\n",
       "    </tr>\n",
       "    <tr>\n",
       "      <th>9</th>\n",
       "      <td>zerodha-varsity</td>\n",
       "      <td>34</td>\n",
       "    </tr>\n",
       "    <tr>\n",
       "      <th>10</th>\n",
       "      <td>money-control</td>\n",
       "      <td>206</td>\n",
       "    </tr>\n",
       "    <tr>\n",
       "      <th>11</th>\n",
       "      <td>business-standard</td>\n",
       "      <td>139</td>\n",
       "    </tr>\n",
       "    <tr>\n",
       "      <th>12</th>\n",
       "      <td>finshots</td>\n",
       "      <td>6</td>\n",
       "    </tr>\n",
       "    <tr>\n",
       "      <th>13</th>\n",
       "      <td>bbc</td>\n",
       "      <td>22</td>\n",
       "    </tr>\n",
       "    <tr>\n",
       "      <th>14</th>\n",
       "      <td>groww</td>\n",
       "      <td>37</td>\n",
       "    </tr>\n",
       "    <tr>\n",
       "      <th>15</th>\n",
       "      <td>wint-wealth</td>\n",
       "      <td>20</td>\n",
       "    </tr>\n",
       "  </tbody>\n",
       "</table>\n",
       "</div>"
      ],
      "text/plain": [
       "                    0    1\n",
       "0                None  421\n",
       "1                navi  206\n",
       "2               inc42   47\n",
       "3      economic-times   13\n",
       "4        investopedia   68\n",
       "5          cnbc-tv-18   75\n",
       "6             reuters  225\n",
       "7           economist    9\n",
       "8           live-mint  115\n",
       "9     zerodha-varsity   34\n",
       "10      money-control  206\n",
       "11  business-standard  139\n",
       "12           finshots    6\n",
       "13                bbc   22\n",
       "14              groww   37\n",
       "15        wint-wealth   20"
      ]
     },
     "execution_count": 45,
     "metadata": {},
     "output_type": "execute_result"
    }
   ],
   "source": [
    "pd.DataFrame(results)"
   ]
  },
  {
   "cell_type": "code",
   "execution_count": 46,
   "id": "4b5c61fe-0289-490b-a00e-57f3ef819ae8",
   "metadata": {
    "tags": []
   },
   "outputs": [],
   "source": [
    "with PostgresDatabaseOperation() as cursor:\n",
    "    sql = 'SELECT article_id FROM embeddings'\n",
    "    cursor.execute(sql)\n",
    "    results = cursor.fetchall()"
   ]
  },
  {
   "cell_type": "code",
   "execution_count": 47,
   "id": "2f506016-960a-41f8-8b63-9901636c0648",
   "metadata": {
    "tags": []
   },
   "outputs": [],
   "source": [
    "embedding_articles = [x[0] for x in results]"
   ]
  },
  {
   "cell_type": "code",
   "execution_count": 48,
   "id": "d88bc050-2941-4358-8573-686647f6acd8",
   "metadata": {
    "tags": []
   },
   "outputs": [],
   "source": [
    "from sql.MongoDBArticle import MongoDBArticle"
   ]
  },
  {
   "cell_type": "code",
   "execution_count": 52,
   "id": "0f51dfbd-0cfa-4186-aaff-406a7f4bd28c",
   "metadata": {
    "tags": []
   },
   "outputs": [],
   "source": [
    "mongo_articles = MongoDBArticle.fetch_all_document_ids()"
   ]
  },
  {
   "cell_type": "code",
   "execution_count": 63,
   "id": "8ed1bed4-776a-48cb-8eb5-c657d7fea36a",
   "metadata": {
    "tags": []
   },
   "outputs": [],
   "source": [
    "from bson import ObjectId"
   ]
  },
  {
   "cell_type": "code",
   "execution_count": 69,
   "id": "998e5716-a5c0-4928-b638-3d81e2e7a661",
   "metadata": {
    "tags": []
   },
   "outputs": [],
   "source": [
    "def fetch_documents_after_date(min_published_date):\n",
    "    query = {\"is_premium_article\": False, \"published_time\": {\"$gt\": min_published_date}}\n",
    "    projection = {\"_id\": 1}\n",
    "    collection = MongoDBArticle.get_collection()\n",
    "    documents = list(collection.find(query, projection))\n",
    "    return [str(doc['_id']) for doc in documents]"
   ]
  },
  {
   "cell_type": "code",
   "execution_count": 53,
   "id": "70f489c7-c40a-4529-87f3-42595dc333ae",
   "metadata": {
    "tags": []
   },
   "outputs": [
    {
     "data": {
      "text/plain": [
       "235994"
      ]
     },
     "execution_count": 53,
     "metadata": {},
     "output_type": "execute_result"
    }
   ],
   "source": [
    "len(mongo_articles)"
   ]
  },
  {
   "cell_type": "code",
   "execution_count": 54,
   "id": "aeffc7ce-b47c-4920-b12e-7463c4d6c8e3",
   "metadata": {
    "tags": []
   },
   "outputs": [
    {
     "data": {
      "text/plain": [
       "211131"
      ]
     },
     "execution_count": 54,
     "metadata": {},
     "output_type": "execute_result"
    }
   ],
   "source": [
    "len(embedding_articles)"
   ]
  },
  {
   "cell_type": "code",
   "execution_count": 55,
   "id": "bd3561fa-45aa-4cc6-9382-6058ecd7fe74",
   "metadata": {
    "tags": []
   },
   "outputs": [],
   "source": [
    "excess_articles = set(embedding_articles) - set(mongo_articles)"
   ]
  },
  {
   "cell_type": "code",
   "execution_count": 57,
   "id": "c1cf5e4f-ca45-4e23-a0f8-90a2cc4adb5d",
   "metadata": {
    "tags": []
   },
   "outputs": [
    {
     "data": {
      "text/plain": [
       "5290"
      ]
     },
     "execution_count": 57,
     "metadata": {},
     "output_type": "execute_result"
    }
   ],
   "source": [
    "len(excess_articles)"
   ]
  },
  {
   "cell_type": "code",
   "execution_count": 58,
   "id": "6e72c832-6d0f-41f8-8927-987c88768331",
   "metadata": {
    "tags": []
   },
   "outputs": [],
   "source": [
    "missing_articles = set(mongo_articles) - set(embedding_articles)"
   ]
  },
  {
   "cell_type": "code",
   "execution_count": 59,
   "id": "261487ca-3384-4684-9602-05dbfb1dd4d3",
   "metadata": {
    "tags": []
   },
   "outputs": [
    {
     "data": {
      "text/plain": [
       "30153"
      ]
     },
     "execution_count": 59,
     "metadata": {},
     "output_type": "execute_result"
    }
   ],
   "source": [
    "len(missing_articles)"
   ]
  },
  {
   "cell_type": "code",
   "execution_count": 67,
   "id": "c65c73b8-17a9-49a9-a29d-3b87dd4b1614",
   "metadata": {
    "tags": []
   },
   "outputs": [],
   "source": [
    "latest_mongo_articles = fetch_documents_after_date('2024-01-01')"
   ]
  },
  {
   "cell_type": "code",
   "execution_count": 68,
   "id": "9efe5af1-b115-4fa1-8ab1-2a64728622d3",
   "metadata": {
    "tags": []
   },
   "outputs": [
    {
     "data": {
      "text/plain": [
       "36346"
      ]
     },
     "execution_count": 68,
     "metadata": {},
     "output_type": "execute_result"
    }
   ],
   "source": [
    "len(latest_mongo_articles)"
   ]
  },
  {
   "cell_type": "code",
   "execution_count": 70,
   "id": "16e03aa1-78a3-475d-8f8f-4a780fc31ff1",
   "metadata": {
    "tags": []
   },
   "outputs": [],
   "source": [
    "missing_latest_articles = set(latest_mongo_articles) - set(embedding_articles)"
   ]
  },
  {
   "cell_type": "code",
   "execution_count": 71,
   "id": "544cee30-e8de-4583-8cce-fc868a5725db",
   "metadata": {
    "tags": []
   },
   "outputs": [
    {
     "data": {
      "text/plain": [
       "13747"
      ]
     },
     "execution_count": 71,
     "metadata": {},
     "output_type": "execute_result"
    }
   ],
   "source": [
    "len(missing_latest_articles)"
   ]
  }
 ],
 "metadata": {
  "kernelspec": {
   "display_name": "recoenv",
   "language": "python",
   "name": "recoenv"
  },
  "language_info": {
   "codemirror_mode": {
    "name": "ipython",
    "version": 3
   },
   "file_extension": ".py",
   "mimetype": "text/x-python",
   "name": "python",
   "nbconvert_exporter": "python",
   "pygments_lexer": "ipython3",
   "version": "3.11.5"
  }
 },
 "nbformat": 4,
 "nbformat_minor": 5
}
