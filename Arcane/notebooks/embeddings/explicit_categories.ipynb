{
 "cells": [
  {
   "cell_type": "code",
   "execution_count": 2,
   "id": "03afd3d1-b3f9-4595-8c29-36fd2bdcedbb",
   "metadata": {
    "tags": []
   },
   "outputs": [],
   "source": [
    "parent_folder = '/Users/ravi.tej/Desktop/ML/Recommendations/arcane/'\n",
    "from hydra import compose, initialize\n",
    "import os\n",
    "\n",
    "import xml.etree.ElementTree as ET\n",
    "\n",
    "tree = ET.parse('../../conf/application.run.xml')\n",
    "root = tree.getroot()\n",
    "\n",
    "envs_element = root.find('./configuration/envs')\n",
    "for variable in envs_element.findall('env'):\n",
    "    name = variable.get('name')\n",
    "    value = variable.get('value')\n",
    "    os.environ[name] = value\n",
    "\n",
    "import sys\n",
    "sys.path.append('/Users/ravi.tej/Desktop/ML/Recommendations/arcane/')\n",
    "\n",
    "import numpy as np\n",
    "import pandas as pd\n",
    "import json\n",
    "\n",
    "from sql.articles.MongoDBArticle import MongoDBArticle\n",
    "\n",
    "from sql.PostgresDatabaseOperation import PostgresDatabaseOperation"
   ]
  },
  {
   "cell_type": "code",
   "execution_count": 12,
   "id": "397add54-3fe6-48e8-8864-8dd105b6ae1d",
   "metadata": {
    "tags": []
   },
   "outputs": [],
   "source": [
    "with PostgresDatabaseOperation() as cursor:\n",
    "    get_sql = \"\"\"SELECT DISTINCT ca.article_id, published_at, financial_news, relevant_for_india, india_flag, source_name\n",
    "                 FROM candidate_articles ca \n",
    "                 LEFT JOIN source_id_characteristics s ON ca.source_id = s.source_id\n",
    "                 LEFT JOIN llm_article_attributes laa ON ca.article_id = laa.article_id\n",
    "                 WHERE ca.content_type = 'ARTICLE'\n",
    "                 \"\"\"\n",
    "    cursor.execute(get_sql)\n",
    "    results = cursor.fetchall()"
   ]
  },
  {
   "cell_type": "code",
   "execution_count": 14,
   "id": "e8cb1ef6-aff5-43f0-a229-c2499e6a3bb4",
   "metadata": {
    "tags": []
   },
   "outputs": [],
   "source": [
    "df = pd.DataFrame(results, columns = ['article_id', 'published_at', 'financial_news', 'relevant_for_india', 'india_flag', 'source_name'])"
   ]
  },
  {
   "cell_type": "code",
   "execution_count": 18,
   "id": "7cbd9f66-56d4-4811-8459-62faaa7baac5",
   "metadata": {
    "tags": []
   },
   "outputs": [],
   "source": [
    "articles = MongoDBArticle.fetch_documents_by_ids(list(df.article_id.unique()))"
   ]
  },
  {
   "cell_type": "code",
   "execution_count": 20,
   "id": "ab030c7f-49df-4719-9193-bedd42e9f3bf",
   "metadata": {
    "tags": []
   },
   "outputs": [],
   "source": [
    "articles = {str(k['_id']): k for k in articles}"
   ]
  },
  {
   "cell_type": "code",
   "execution_count": 25,
   "id": "3e499071-220b-43af-bd6d-2c3857958520",
   "metadata": {
    "tags": []
   },
   "outputs": [],
   "source": [
    "df['title'] = [articles[x]['title'] for x in df['article_id']]"
   ]
  },
  {
   "cell_type": "code",
   "execution_count": 34,
   "id": "8faec4ec-a948-4a2e-aff2-f0ed87f2ad14",
   "metadata": {
    "tags": []
   },
   "outputs": [
    {
     "data": {
      "text/html": [
       "<div>\n",
       "<style scoped>\n",
       "    .dataframe tbody tr th:only-of-type {\n",
       "        vertical-align: middle;\n",
       "    }\n",
       "\n",
       "    .dataframe tbody tr th {\n",
       "        vertical-align: top;\n",
       "    }\n",
       "\n",
       "    .dataframe thead th {\n",
       "        text-align: right;\n",
       "    }\n",
       "</style>\n",
       "<table border=\"1\" class=\"dataframe\">\n",
       "  <thead>\n",
       "    <tr style=\"text-align: right;\">\n",
       "      <th></th>\n",
       "      <th>article_id</th>\n",
       "      <th>published_at</th>\n",
       "      <th>financial_news</th>\n",
       "      <th>relevant_for_india</th>\n",
       "      <th>india_flag</th>\n",
       "      <th>source_name</th>\n",
       "      <th>title</th>\n",
       "    </tr>\n",
       "  </thead>\n",
       "  <tbody>\n",
       "  </tbody>\n",
       "</table>\n",
       "</div>"
      ],
      "text/plain": [
       "Empty DataFrame\n",
       "Columns: [article_id, published_at, financial_news, relevant_for_india, india_flag, source_name, title]\n",
       "Index: []"
      ]
     },
     "execution_count": 34,
     "metadata": {},
     "output_type": "execute_result"
    }
   ],
   "source": [
    "df[(df.source_name == 'yahoo-finance') & (df.title.str.contains('BGHL'))]"
   ]
  },
  {
   "cell_type": "code",
   "execution_count": 54,
   "id": "e2eb17a5-bf0c-4ed1-adcf-b06703e0ae7a",
   "metadata": {
    "tags": []
   },
   "outputs": [
    {
     "name": "stderr",
     "output_type": "stream",
     "text": [
      "2024-02-15 12:20:44,268| ERROR   | Could not establish connection from local ('127.0.0.1', 3712) to remote ('insight-beta-article-db.cluster-chmaiagjipqy.ap-south-1.docdb.amazonaws.com', 27017) side of the tunnel: open new channel ssh error: SSH session not active\n"
     ]
    }
   ],
   "source": [
    "thousand_titles = ';'.join(df.sample(1000).title.values)"
   ]
  },
  {
   "cell_type": "code",
   "execution_count": 55,
   "id": "3dc4ea23-a2a3-4a80-af3a-4b8b2cd5663e",
   "metadata": {
    "tags": []
   },
   "outputs": [
    {
     "data": {
      "text/plain": [
       "'A.K.Capital Ser Standalone December 2023 Net Sales at Rs 31.44 crore, up 7.24% Y-o-Y;Inox Wind to execute India\\'s single largest wind project order of 1,500 MW from CESC;L&T construction wins \"large\" orders in India and the Middle East, its third in three days;Italian Edibles lists at 19% discount over IPO price on NSE SME;Uttar Pradesh govt targets 1 million tonne capacity and 120,000 jobs;Indices trade flat, fiscal deficit target set at 5.1% of GDP for FY25;HDFC Bank announces raising $750 mn through multi-year overseas bonds;MC Explains | All you need to know about Chinese stock market rout;UBS CEO says more capital not the way to make it safer;ISL Consulting standalone net profit rises 3540.00% in the December 2023 quarter | Capital Market News - Business Standard;Bosch pushes back margin target, warns of further job cuts;Docmode Health Tech IPO allotment finalised; here\\'s how to check allotment status | Mint;Growth pattern shows all sectors of economy are revving up, says FM Sitharaman;ITC\\'s largest shareholder BAT is working towards monetising some of its stake;Will INOVIQ (ASX:IIQ) Spend Its Cash Wisely?;Interim Budget: Disinvestment, monetisation target set at Rs 50,000 crore;Why Apple\\'s iconic Super Bowl ad still resonates 4 decades later;Mission Shakti: Under longest-serving woman FM, gender Budget hits a high;India is considering to extend parboiled rice tax in risk to world supply;So what do I do if I need to get VC funding? – Varsity by Zerodha;Religare shares worth Rs 338 crore change hands; Burman family likely buyers;Budget 2024: What to expect from Sitharaman\\'s interim budget presentation;Selan Explore Standalone December 2023 Net Sales at Rs 43.57 crore, up 50.19% Y-o-Y;Philippines\\' San Miguel-led group makes top offer in airport bid;Olectra Greentech Share Price Live blog for 13 Feb 2024 | Mint;The Home Depot Named on Fortune’s 2024 Most Admired Companies List, Ranking #1 in Specialty Retail for the Second Year;AMS Polymers standalone net profit rises 480.00% in the December 2023 quarter | Capital Market News - Business Standard;Budget 2024: Capex outlay raised by 11.1% to ₹11.11 trillion | Mint;Foldable iPhone or iPad? Apple prepares to enter foldable device market by 2027, suggests report | Mint;Zuckerberg wins on Wall Street after Washington hit;Keysight to Showcase Wireless Innovations at Mobile World Congress 2024;Aster DM Healthcare to add 1,500 beds in 3 years, lines up Rs 850 crore investments;15 Best Short Term Mutual Funds in India to Invest in April 2023;Respite For Paytm? Fintech Giant Set To Secure Govt Nod To Invest In Payments Gateway Arm;How fast can I get an emergency loan?;HUDCO Standalone December 2023 Net Sales at Rs 2,012.66 crore, up 17.73% Y-o-Y;White paper on UPA regime\\'s mismanagement to be tabled soon: Finance Minister;Are Tax Brackets Adjusted for Inflation?;ITR filing: Income Tax department notifies ITR-2, ITR-3 forms for FY 2023-24. Details here;IIFL Securities, Angel One, ICICI Direct, other brokers hike margin on BNPL facility: Report;Rupa and Comp Standalone December 2023 Net Sales at Rs 312.74 crore, up 36.76% Y-o-Y;PowerGrid trades 5% higher after Q3 net profit rises 10%;Large number of messages from bots, unrelated accounts: brokerage on #BoycottZerodha;ISPRL signs deal with Hindustan Petroleum to lease 300,000 MT space;RBI Monetary Policy: FY24 inflation forecast unchanged at 5.4%; FY25 estimate at 4.5%;Civil aviation ministry to get Rs 2,300 cr budgetary allocation for 2024-25;WeWork founder Adam Neumann trying to buy back company;Union Budget: FM announces plans to increase milk, dairy production;Budget 2024: Power PSUs NHPC, SJVN rally to record high after higher allocation;Tapestry lifts 2024 profit forecast on China demand rebound, strong margins;Fed\\'s Barkin says he\\'s cautious about accuracy of recent economic data;Hybrid Financial Services reports consolidated net profit of Rs 0.32 crore in the December 2023 quarter;Miner Freeport-McMoRan names insider Kathleen Quirk as CEO;Viksit Bharat: Centre to provide Rs 75,000 crore interest-free loan to states;What is Sharpe Ratio in Mutual Fund and What is Its Significance?;Indraprastha Gas signs MoU to establish Compressed Biogas (CBG) plants;\\'Paytm captain stands strong\\': Indian startups founders show support for Vijay Shekhar Sharma amid RBI\\'s curbs | Mint;Red Sea crisis disrupts Audi India\\'s supply chain, firm eyes recovery soon | Auto - Business Standard;Interim Budget: Infra focus, fiscal prudence are positives for street;Biggest consumer fintech trends to watch in 2024;Parliament Budget Session: India\\'s coal production rises 10.3% to 99.73 MT in Jan 2024;Sterling & Wilson subsidiary mulls legal action for Australia contract termination;E-commerce startup ShipBob seeks to hire banks for 2024 IPO -sources;\\'India moving fast in defence production, 2,920 items indigenised so far\\';FM Nirmala Sitharaman calls for more SBI-sized banks as India\\'s economy grows | Mint;Budget: Govt panel to look into India\\'s demographic challenges;Rajdarshan Ind Standalone December 2023 Net Sales at Rs 0.68 crore, up 69.53% Y-o-Y;La Opala RG Standalone December 2023 Net Sales at Rs 107.14 crore, down 15.22% Y-o-Y;Hudson Pacific Properties Reports Fourth Quarter 2023 Financial Results;How Twitter\\'s descent into chaos is paving the way for a new web;Russia extends permit for LNG supplies to Germany\\'s SEFE until 2040;Competent Auto Standalone December 2023 Net Sales at Rs 669.30 crore, up 29.3% Y-o-Y;D2C Brand Yu Raises Capital To Expand Food Products Portfolio;Q3 results today: Maruti Suzuki, Sun Pharma, Ambuja Cements, Dabur, Bank of Baroda and more | Mint;Inani Marbles Standalone December 2023 Net Sales at Rs 13.54 crore, up 23.96% Y-o-Y;How to Get a Personal Loan without Income Proof?;Exclusive: Rubrik plans April listing amid U.S. probe into former employee -sources;Tata Chemicals Share Price Live blog for 13 Feb 2024 | Mint;Fintech major Paytm denies any ED investigation into money laundering;Stove Kraft Standalone December 2023 Net Sales at Rs 361.59 crore, up 11.42% Y-o-Y;RBI MPC 2024: Governor Shaktikanta Das highlights initial nine points of the policy review;Buy TeamLease; target of Rs 3450: Motilal Oswal;PharmEasy-Owned Thyrocare To Acquire Think Health Diagnostics To Offer ECG Services At Home;If There\\'s 1 Must-Have Investment in Your Portfolio, It\\'s This ETF;Veer Energy & Infrastructure standalone net profit declines 84.62% in the December 2023 quarter | Capital Market News - Business Standard;Who gained and who lost in PM Modi’s last budget before polls;India\\'s Paytm bank\\'s slow drop-off in transactions may prompt deadline extension -sources;  2. Cement   : Sector Analysis;Prime Focus Consolidated December 2023 Net Sales at Rs 840.85 crore, down 23.97% Y-o-Y;9 in 10 Indian manufacturers expect higher production this quarter — domestic demand a key highlight: FICCI;RCF to roll out first prototype of Vande Metro coach by April: S Srinivas | News - Business Standard;US farm exports hit three-year low in 2023 as China slows buying -Braun;Lancer Containe Standalone December 2023 Net Sales at Rs 104.83 crore, down 22.96% Y-o-Y;Interim Budget 2024: Youth scaling new heights in sports - Sitharaman;Deductions on Salary Under Section 16 of the Income Tax Act, 1961;Swadeshi Polyte Standalone December 2023 Net Sales at Rs 54.55 crore, up 448.26% Y-o-Y;Dividend news: Page Industries to give 3rd interim dividend of ₹100 per equity share;Know the incentives of those selling you a financial product – Varsity by Zerodha;Sensex falls amid weakness in banking stocks, analysts eye Nifty to reclaim 22,000 for renewed rally;Fed\\'s Collins says her baseline expectation is 75 bps of rate cuts this year;Commercial Drone Alliance and Massachusetts Institute of Technology Lincoln Laboratory Announce Research Partnership;Sinnar Bidi Standalone December 2023 Net Sales at Rs 1.21 crore, down 29.52% Y-o-Y;India\\'s January CPI inflation eases to 5.10%, core inflation drops to 3.6%;Berger Paints India Share Price Live blog for 13 Feb 2024 | Mint;Will the Interim Budget 2024 give relief to debt mutual fund schemes?;ADM closes on flavor company purchase amid accounting probe;SAIL shares fall 5% as Q3 profit suffers a 22% dent;Operating Leverage: What It Is, How It Works, How to Calculate;Nirmala Sitharaman invokes Vajpayee, Shastri\\'s iconic slogan in Budget 2024 speech;Embraer, Mahindra sign deal to collaborate on C-390 transport aircraft | Mint;Zee Entertain Standalone December 2023 Net Sales at Rs 1,914.20 crore, down 0.88% Y-o-Y;Corporate Affairs Ministry To Review CCI’s Performance Amid Delay In Antitrust Probes;Skipper Q3 net profit jumps 115% to Rs 20.4 crore;India\\'s United Breweries posts Q3 profit;Vision Sensing Acquisition Corp. Announces Payment of Fee to Extend Period to Consummate Initial Business Combination to March 3, 2024;ANMI approves proposal to extend trading hours for index futures: Report | Mint;India aims to raise up to $2.4 bn selling stakes in state-run firms;Budget 2024 highlights: Jal Marg Vikas Project allocation;Cyber Media (India) consolidated net profit declines 68.06% in the December 2023 quarter;These Return Metrics Don\\'t Make Kerjaya Prospek Group Berhad (KLSE:KERJAYA) Look Too Strong;Cracking the code: How to master UPI fraud management? MintGenie explains | Mint;Budget 2024: No profound impact on market; global cues to dictate trends, says Vinod Nair of Geojit Financial Services | Mint;Exicure, Inc. and Bluejay Therapeutics Inc. Enter into a Patent License Agreement to Develop Cavrotolimod for the Treatment of Hepatitis;Builders seek interest rate cut in RBI\\'s next meet to boost housing demand;Manappuram Fin Standalone December 2023 Net Sales at Rs 1,522.05 crore, up 22.46% Y-o-Y;Prime Focus Standalone December 2023 Net Sales at Rs 7.12 crore, down 1.69% Y-o-Y;How stock experts minted money from TV shows;BoI MF aims to raise Rs 500 cr from multi-asset allocation fund in NFO;NPCI appoints Ajay Kumar Choudhary as non-executive chairman of board;Regent Ent Standalone December 2023 Net Sales at Rs 181.05 crore, down 11.44% Y-o-Y;RBI clampdown on Paytm Payments Bank followed persistent non-compliance;A quick guide to India\\'s Interim Budget;20 Best Liquid Funds to Invest in India (April 2023);Why JPMorgan Chase Is Banking on Opening 500 New U.S. Locations;What is the Full Form of IFSC Code and How to Find it?;Luxury group Zegna to open new shoe and leather goods factory in Italy;MSCI rejig on Feb 13: Jindal Stainless, PNB, BHEL, among others likely to enter global index;I-T dept collects over Rs 1,260 cr in TDS from online gaming, crypto trade;The US Is Investing $5B in Chip R&D—Here\\'s What You Need to Know;What are Small-Cap Mutual Funds - Benefits, Taxation and Risks;India Budget: Manufacturing seeks business-friendly policies, thrust on innovation;Google To Spearhead AI-Led Development In Maharashtra;Why the e-bike boom is raising fire fears;Vibhor Steel Tubes garners Rs 22 cr from anchor investors;What are Indian Government Bonds - Types and Interest Rates;Short sellers take bets on nearly 8% of German bank PBB, filings show;CGI Inc. (TSE:GIB.A) Just Reported And Analysts Have Been Lifting Their Price Targets;Amazon to cut a few hundred jobs at healthcare units;Unilever takes sales hit in Indonesia over anti-Israel boycotts;India\\'s retail inflation eases to 3-month low of 5.1% in January 2024;Shree Kr Paper Standalone December 2023 Net Sales at Rs 25.97 crore, down 36.49% Y-o-Y;Stock market today: Why Bank stocks are rising ahead of US CPI data release — explained with two reasons | Mint;FPIs on bullish stance; infuse over Rs 15,000 cr in debt market in Feb | News on Markets - Business Standard;Reliance Industries becomes India\\'s first ₹20 lakh crore company; stock at record high;Gokaldas Exports completes acquisition of Coral Investments;Sharif Party to Hold Talks With Rival on Pakistan Coalition;Interim Budget FY24-25 — why it conveys a clear message for the upcoming elections;Wires and Fabri Standalone December 2023 Net Sales at Rs 29.02 crore, up 2.91% Y-o-Y;5 takeaways from the Interim Budget 2024 for investors;Ageas Federal Life Insurance launches Multicap Fund in ULIP portfolio;Vibhor Steel Tubes IPO fully subscribed: GMP, subscription status, review, other details in 10 points. Apply or not? | Mint;Joe Biden Wants to Make Big Changes to Social Security: 10 Things You Need to Know;PayPal Stock Slides as Company Transformation Weighs on Guidance—Key Price Levels to Watch;Congo\\'s Gecamines and Entreprise Generale du Cobalt sign mining deal;What Is Prime Cost? Definition, Formula, Calculation, and Purpose;Apollo Tyres Share Price Live blog for 13 Feb 2024 | Mint;India aims to lower fiscal deficit to 5.8% this year, expects 10.5% nominal GDP growth in dollar terms;Paushak standalone net profit declines 9.25% in the December 2023 quarter;Polychem Standalone December 2023 Net Sales at Rs 9.48 crore, up 11.81% Y-o-Y;UPI, RuPay services to be launched in Sri Lanka, Mauritius on Monday;Do you evaluate before availing a loan?;Air India launches Namaste World Sale. Price, date, other details | Mint;Can go to NCLT to enforce Sony merger deal after SIAC rejects petition: Zee;VRL Logistics standalone net profit declines 72.26% in the December 2023 quarter;Opinion: Sitharaman\\'s growth push finds a dependable ally in RBI;Goldman Sachs Fund Unit Finds Value After Green Market Rout;Italy readies targeted tax breaks for farmers, minister says;Creative New Standalone December 2023 Net Sales at Rs 493.06 crore, up 20.25% Y-o-Y;What are the Advantages and Disadvantages of Credit Card?;Anarock’s expansion plan: Setting up office brokerage platform with ₹200 crore investment;What is Treasury Bill (T-Bill)? - Meaning, Types, Features and Benefits;Interim Budget: Ayushman Bharat cover to be extended to all ASHA workers;Saudi Arabia considers $10 bln Aramco share sale, Bloomberg reports;Hyundai picks JP Morgan, Citi and HSBC as advisors for mega IPO of India arm;RBI action against Paytm will hit ordinary Indians most: Cong slams govt;Budget 2024: Tax exemption deadline extended by one year for these categories | Mint;Star Health Standalone December 2023 Net Sales at Rs 3,578.35 crore, up 16.46% Y-o-Y;RBI on Paytm Payments Bank: Not a case of regulatory deficiency, but issue of compliance, says Governor Das | Mint;Indonesia 2023 GDP growth slows to 5.1% on falling commodity prices;United Drilling Standalone December 2023 Net Sales at Rs 34.04 crore, up 28.42% Y-o-Y;GST fake invoices: Govt to do away with edit option to revise output liability, says Revenue Secretary;Neil Diamond’s \"I Am… I Said\" Featured in Volkswagen’s \"An American Love Story\" Extended Cut in Advance of Super Bowl LVIII Advertisement;VeriSign Inc Reports Solid Financial Growth Amidst Global Economic Challenges;Housing Expense Ratio: What it is, How it Works;Paytm Bank fiasco: Mutual funds that have highest and lowest exposure to Vijay Shekhar Sharma\\'s Paytm | Mint;Olympic Fin Ser Standalone December 2023 Net Sales at Rs 0.02 crore, down 6.59% Y-o-Y;Mahadev Online Book Promoters Under DGGI Scanner For GST Dues Worth INR 30,000 Cr;SoftBank-backed Meesho unveils Valmo to enable low-cost deliveries;No fixed disinvestment target in FY25 Budget, says DIPAM Secretary;Paytm Money rebuffs media report on CDSL\\'s scrutiny of KYC process, says it is \\'routine audit’ | Mint;Cabinet approves six multi-tracking projects worth Rs 12,000 crore;Sovereign Gold Bonds 2016 Series I to give 101% profit at maturity: Check final redemption date;State Bank of India eyes 12-13% growth in international loan book;Tax on Dividend Income: Sources, Tax Rate and TDS on dividend income;Digjam Standalone December 2023 Net Sales at Rs 5.78 crore, down 35.27% Y-o-Y;Week Ahead: Inflation data, Q3 results, global cues among key market triggers this week | Mint;Virgin Galactic reports flight-related issue to FAA;Eicher Motors Share Price Live blog for 13 Feb 2024 | Mint;Thai PM: will keep urging c.bank to cut rates;China’s small-cap crash shows what happens without market rescue;From ABBA to SRK: 3 hidden money lessons from movies and music to bloom this Valentine\\'s Day 2024 | Mint;PM-KISAN e-KYC deadline today! Here\\'s how to secure your ₹2000 instalment | Mint;BJP vs Congress: Centre refutes Karnataka\\'s claims as face-off over tax devolution heats up;Why Steris (STE) is a Top Growth Stock for the Long-Term;Indusind Bank Share Price Live blog for 13 Feb 2024 | Mint;Centre\\'s white paper lists how Modi govt \\'rescued economy from state of crisis\\';What happened to Paytm Payments Bank? RBI\\'s clampdown explained;Budget and its numbers: A breakdown of key estimates for FY25;Budget 2024 allocates Rs 57 crore for drone and drone components under PLI scheme;Viacom18 expands horizon, tunes into live events | Mint;BS-IMGC India conclave: Redefining role of financiers in housing ecosystem;Software firm Everbridge to be taken private by Thoma Bravo in $1.5 bln deal;Liquidity Adjustment Facility (LAF): Meaning, Importance and Roles;Bunge posts profit beat, warns weaker margins to dent 2024 results;ISEE Commercially Deploys World’s First Fully Autonomous Truck Yard;MM Forgings Standalone December 2023 Net Sales at Rs 387.75 crore, up 7.39% Y-o-Y;EaseMyTrip Eyes Foray Into Hospitality Space With 5-Star Hotel In Ayodhya;Natural Capsules standalone net profit declines 67.62% in the December 2023 quarter | Capital Market News - Business Standard;Why the $5.2 billion sale of Russia\\'s Yandex is significant;Market Action: 4 IPOs to open for subscription, 9 companies scheduled for debut on bourses next week;US recall says Tesla brake warnings were too small;With neutral policy tone & liquidity management, rate cut unlikely any time soon;Marketbuzz Podcast with Kanishka Sarkar: Here are 10 key talking points;Interim Budget makes no attempt to woo voters, says Harsh Gupta;Scandal-hit business group will survive, says new boss;GST collections to drive FY25 gross tax revenue to Rs 38.31 trillion;Ryanair CEO: Boeing quality is a concern, further delays possible;Fed Chair Powell faces tough communications task on rate cuts ahead;AbbVie Cuts Its Guidance on ImmunoGen Deal;Jana Small Finance Bank IPO opens next week. Price band fixed at ₹393 to ₹414 per share | Mint;FM Sitharaman allocates Rs 13,042 crore to Department of Space in interim Budget, marking 18% increase;IMF\\'s Kristalina Georgieva says she\\'s confident on global economic outlook despite uncertainties | Mint;66 Nifty 500 stocks rallied between 20% and 104% in CY24 so far; NBCC, SJVN, UCO Bank among top performers | Mint;How to Check Your TDS Status by Using Your PAN Card?;Cochin Minerals Standalone December 2023 Net Sales at Rs 82.16 crore, down 30.98% Y-o-Y;Ralph Lauren rides strong holiday demand, China rebound to post upbeat results;Could a standalone non-profit be the answer to FAA oversight of Boeing?;Tesla opens first South America store in Chilean capital;Ukraine\\'s farm unions ask government to protect free EU market access;Sovereign Gold Bond Scheme 2023-24 Series IV opens — a look at historical returns | Mint;Bayer CEO says company stands behind glyphosate;Paytm wallet business at risk as licence transfer uncertain: Report;Budget 2024: Govt allocates ₹1,200 crore for North-east gas subsidy scheme | Mint;Bank of Canada says more time needed to bring down inflation;Ucal opens an after-market division | Capital Market News - Business Standard;India\\'s Ola Electric considers bid for lithium mining rights, sources say;Budget 2024 Key Highlights LIVE Updates: No changes in direct, indirect tax rates; FY25 fiscal deficit target at 5.1% | Mint;Zambian businessman loses London lawsuit against Bob Diamond\\'s Atlas Mara;Karnataka HC tells state to recover stuck homebuyers\\' money within 4 months;Shinjini Kumar resigned from PPBL board, attended 2 meets as special guest;Disney answers activists with gaming investment, ESPN streaming plans;Budget 2024 showcases positive macro picture: Fiscal recovery, capex-led growth, and surging corporate profits;Different Types of Debit Cards in India;Tax Lien Foreclosure: Definition, How It Works, Vs. Tax Deed Sale;RBI Policy: India\\'s real GDP growth for FY25 projected at 7% | Mint;Vascon Engineer Consolidated December 2023 Net Sales at Rs 280.25 crore, up 10.33% Y-o-Y;Is Cyprus Considered a Tax Haven?;Petrobras in talks for projects with Gulf, Indian, Chinese firms, CEO says;Cummins urges continued infrastructure spending and GST subsidies in Budget 2024;Shri Jagdamba Standalone December 2023 Net Sales at Rs 70.61 crore, up 8.7% Y-o-Y;RBI keeps repo rate unchanged. What does that mean for your home loan EMI | Mint;Beware of Pig Butchering Scams – Varsity by Zerodha;Jeff Bezos Sells Nearly 12 Million Amazon Shares Worth at Least $2 Billion;Short Run and Long Run Cost;Mallcom (India) Standalone December 2023 Net Sales at Rs 92.01 crore, down 3.4% Y-o-Y;LIC Housing Finance expects to report 15% improvement in FY25 loan book;Brightcom Group Share Price Live blog for 13 Feb 2024 | Mint;ONGC in talks to restart Libya operations, expand in Venezuela: Report;Sovereign Gold Bond: Various investment platforms offer options to invest in SGB; how it is compared to physical gold | Mint;Heartland Express Inc (HTLD) Reports Record Annual Operating Revenue Amidst Industry Challenges;DMR Hydroengineering & Infrastructures invests subscribes to rights issue of DM Consulting | Capital Market News - Business Standard;Kazakhstan\\'s Air Astana raises $120 mln in dual London, local IPO;Bombay Wire Ropes reports standalone net loss of Rs 0.14 crore in the December 2023 quarter;Budget 2024 highlights food distribution scheme ONORC allocation;Print: What It Is and How It Applies to Finance;How to transfer money from Amazon Pay wallet to your bank account — a step-by-step guide;Stocks to Watch: Hero Motocorp, ONGC, MCX, Pfizer, DOMS Industries, Bandhan Bank | Mint;Jattashankar Standalone December 2023 Net Sales at Rs 3.45 crore, up 14.7% Y-o-Y;Oil prices headed for weekly gains as Israel rejects ceasefire offer;Lorenzini Apparels standalone net profit rises 1294.12% in the December 2023 quarter;Bank of England\\'s Dhingra sees little credibility risk from early rate cut;TotalEnergies Texas refinery shuts down days after restart -sources;Budget 2024 highlights: Rashtriya Krishi Vikas Yojana allocation;Accrued Interest - Definition, Example & How to Calculate it?;Why This 1 Value Stock Could Be a Great Addition to Your Portfolio;Vedanta chairman Anil Agarwal outlines $4 bn plan to double oil production;JM Financial\\'s Q3 net profit jumps 46% to Rs 278 crore;DB Realty board to meet on Feb 9 to review existing corporate structure;India\\'s industrial production grows 3.8% in December 2023, beats estimate;Dev Information Technology standalone net profit declines 51.47% in the December 2023 quarter;Shifting Tesla incorporation to Texas may not give Musk what he wants;Shaily Engg Standalone December 2023 Net Sales at Rs 144.71 crore, up 7.82% Y-o-Y;Go First\\'s lenders to seek extension of insolvency process by 60 days;Crypto exchange FTX expects to repay customers in full: Bankruptcy lawyer;Marriott International adds 12 properties with 1,431 rooms in India in 2023;Banks must tell borrowers the entire cost of a loan including fees and other charges: RBI;India\\'s Wadia-owned Bombay Dyeing posts Q3 profit on gain from land sale;How To Boost Conversions By 86% With Right Landing Page;Union Ministers laud \\'inclusive Budget\\', Oppn terms it \\'election Budget\\';Tata Consumer slips after Q3 PAT slides 21% YoY to Rs 279 cr | Capital Market News - Business Standard;SK Innovation projects slower growth in global EV demand;John Stoltzfus says India will remain on global investors\\' radar for these reasons;Rs 5,077 crore FDI reported by companies operating in defence sector: Govt | News - Business Standard;Tata-owned Trent Q3 profit jumps more than two-fold on festive demand;Will Section 80C tax benefits get hiked in the Election Budget?;Interim Budget withdraws certain small, disputed direct tax demands;Paytm looks like ‘no-go zone’, investors will take time to regain confidence: Nilesh Shah;PM Modi launches Rs 7,550 crore development projects in MP;Global chip sales forecast to jump 13% after rocky 2023: Industry group;Allcargo Logistics falls 5% after Q3 net profit declines 88% on poor revenue;Italy\\'s Treasury submits bid for Telecom Italia unit Sparkle;Copper giant Freeport to handle Asian sales from Indonesia;IBBI amends norms related to insolvency resolution process for personal guarantors;GS Auto Standalone December 2023 Net Sales at Rs 39.01 crore, up 20.56% Y-o-Y;Eugia US Manufacturing to dispose its assets to Empower Clinic Services New Jersey;India\\'s IOC sees growth in gasoline, diesel sales in FY2024/2025;IRCTC, Grasim Industries, Biocon, Bhel in focus;How to Raise, Resolve and Check Your CIBIL Dispute?;Wind power outpaced gas plants in Europe for the first time in 2023 - Ember;Oil heads for weekly drop as talks for Gaza ceasefire advance;Nila Spaces reports consolidated net profit of Rs 11.63 crore in the December 2023 quarter;Sodium to Debut in Small Microcars First for Mobility Applications, Reports IDTechEx;MRF Share Price Live blog for 13 Feb 2024 | Mint;Germany to vote in favour of EU plans to cut truck emissions -govt sources;Apply for EC Online in Karnataka 2023 - Fees and Charges;Portuguese prosecutors seek to annul environment permit for Savannah lithium mine;Union Budget 2024: What is Economic Survey and why is it important?;Hotels : Sector Analysis;Italy\\'s Panetta sees time for ECB rate cuts \"fast approaching\";Hope is not a strategy;Sachin Bansal\\'s Navi Finserv Seeks To Raise INR 600 Cr;Milan bourse to bid farewell to Tod\\'s, Saras after buyout offers;10 Best National Pension Schemes (NPS) in India in April 2023;Lupin Share Price Live blog for 13 Feb 2024 | Mint;Why brokerages are cautious on Dr Reddy\\'s after third quarter earnings;Why banking stocks are diverging post RBI’s policy announcement;Siemens investors call for further unbundling of the group;Biocon receives Complete Response Letter for Biologics License Application | Capital Market News - Business Standard;Kiran Mazumdar-Shaw reacts to Nirmala Sitharaman\\'s interim Budget: \\'Growth focused\\';Mauria Udyog Standalone December 2023 Net Sales at Rs 84.17 crore, up 102.26% Y-o-Y;Boeing Finds New Problem With 737 MAX Fuselages | Mint;China\\'s Fosun explores sale of minority stake in $800 mln Club Med -sources;Barclays to end direct financing of new oil and gas fields;Phoenix Mills Share Price Live blog for 13 Feb 2024 | Mint;PhysicsWallah Launches New School To Provide Elementary Education;redBus Taps ONDC To Offer Metro, Auto Rickshaw Bookings;Budget 2024 turns out to be a non-event for banking industry;US Inflation Rate by President: From Eisenhower to Biden;SME IPO: Indian Emulsifier files draft papers for IPO with NSE;Neutral Jyothy Laboratories; target of Rs 500: Motilal Oswal;Iraq condemns US strikes, calls it \\'violation of sovereginty\\';Cactus Venture Partners raises Rs 630 cr fund to invest in startups | Company News - Business Standard;Rajasthan may see drop in mustard production during 2023-2024 crop season;Altria edges past quarterly profit expectations on higher pricing;Suits spinoff ‘Suits: L.A.’: This is what you may want to know;iHeartMedia (NASDAQ:IHRT) Has Some Difficulty Using Its Capital Effectively;Fine Organics Standalone December 2023 Net Sales at Rs 425.76 crore, down 43.22% Y-o-Y;Hyundai Motor picks JPMorgan, Citi to accelerate $3 billion IPO: Report | Company News - Business Standard;7 best travel credit cards in India: Check annual fees, key benefits, more;OpenAI hits landmark $2 billion revenue as growth zooms | Mint;South Korea\\'s LG Chem signs $19 billion cathode supply deal with General Motors;Parvati Sweet Standalone December 2023 Net Sales at Rs 9.82 crore, down 9.12% Y-o-Y;Citigroup weighs cutting 10% of wealth employees in London;Wall Street snubs China for India in a historic markets shift | Mint;Mazagon Dock Shipbuilders Share Price Live blog for 13 Feb 2024 | Mint;Adidas says it plans to sell remaining Yeezy sneakers;L&T bags \\'large\\' contract for hydrocarbon biz from IndianOil Adani Ventures;KIOCL Standalone December 2023 Net Sales at Rs 549.48 crore, up 90.86% Y-o-Y;Moderna shares slide on concerns over drop in RSV vaccine efficacy;ED probing Paytm, its bank unit over currency transactions: Report;Intesa CEO critical of excessive bank buybacks, underprovisioning;Gold eases as U.S. CPI takes centre stage;MultiChoice will pay settlement of $37.3 mln to Nigerian tax authorities;Chile copper miner Codelco\\'s 2023 production declines, but recovery seen this year;Cash-strapped Dunzo promises to pay former staff by March-end | Mint;Power minister RK Singh aims to wipe out genco dues within a year;Indian Railway Finance Corporation Share Price Live blog for 13 Feb 2024 | Mint;Lupin Q3 results: Net profit jumps four times to Rs 613 crore, revenue up 20%;Asia Pacific Buy Now Pay Later Business Report 2024: BNPL Payments are Expected to Grow by 17.3% to Reach $232.5 Billion in 2024 - Forecasts to 2029;Top CDs Today: Leading Rate Drops in 3 Terms, but 5.75% Overall Leader Remains;RBI Governor Says ‘Hardly Any Room’ To Review Action On Paytm Payments Bank;Budget 2024: Skill India Mission has trained, upskilled 1.4 crore youth, says FM Sitharaman;MC Exclusive | Life insurers urge IRDAI to relax proposed higher surrender value norms;Vesuvius India standalone net profit rises 106.48% in the December 2023 quarter | Capital Market News - Business Standard;Xiaomi set to launch flagship Xiaomi 14 series globally on February 25, CEO Lei Jun confirms | Mint;NBFC Home Loans: Complete List, Interest Rates and How to Apply;India to invest $67 bn in 5-6 years for developing gas sector: PM Modi;Texting Employees Cost 16 More Financial Firms $81 Million In Fines;Budget pegs RBI, PSU banks dividend in FY25 at Rs 1.02 lakh crore;12 Bills passed by both Houses in 17th LS: Union Minister Pralhad Joshi | Budget 2024 News - Business Standard;Lowering ENA costs in Budget will help alco-beverage industry, say experts;Is IQVIA Holdings (NYSE:IQV) A Risky Investment?;Why Tesla Is Recalling Nearly 2.2M Vehicles, Almost All Its Cars Sold in the US;Final series of Sovereign Gold Bond 2023-24 open now: A look at returns and ways to invest;Power PSUs to implement PM Suryodaya Yojana: Power minister R K Singh;Thailand records current account surplus of $2.1 bln in December;Budget 2024: Saksham Anganwadi and Poshan 2.0 scheme gets ₹21,200 crore | Mint;Mangalore Chemicals announces merger with Paradeep Phosphates, arbitrage implies 18% upside;Banking sector will grow but you have to figure out where the sunset of the leadership is: Motilal Oswal’s Raamdeo Agrawal;Gross sugar output may fall 10% to 330.5 lakh tonnes in 2023-24 marketing year ending September: ISMA;Sri Lanka approves lifting some limits on rupee conversion for outward\\xa0remittances;TTL Enterprises Standalone December 2023 Net Sales at Rs 9.74 crore, up 207.19% Y-o-Y;Bridging The Gap: How Fintech-Bank Partnerships Are Transforming India\\'s Financial Landscape;How AI & Data-Backed Insights Are Changing The Pace Of Offline Retail Growth;Consumer confidence stays on the recovery path, says RBI survey;The Bear Season 3: Here\\'s what we know about release date, cast, plot and more;Reading Truck Announces the Acquisition of General Truck Body; Solidifies its Presence in the South-Central US Region;IIT KGP, Ericsson announce cooperation for joint research in AI, tech;Europe\\'s telcos can continue to charge for intra-EU calls until 2028; Diverse policy will be well represented by unified govt : Pak army chief amid rigging charges;Europe Emerging Infectious Disease Diagnostics Market Research Report 2024;Austria seeking to end Russian gas import contract, energy minister says;How to Transfer Car Insurance Policy;Investors dump oil after US refinery shutdown;Puravankara plans to deliver 2,000 units, develop over 2 million sq ft by Q4FY24;Newsletter | Delhi on high alert as farmers\\' march towards Parliament begins; India\\'s significant diplomatic win in Qatar & more;Nano DAP to bring down fertiliser subsidy bills, says industry body;Centum Electronics fixes record date for interim dividend;Hdfc Bank Share Price Live blog for 13 Feb 2024 | Mint;FY24 could see some weakness before strong growth takes off in FY25: GIC RE CMD;Indian space sector to be turned into a business activity: ISRO chairman;Bao Fan: Missing China billionaire banker resigns from all roles;Advent kickstarts merger process of Suven Pharma & Cohance; engages Kotak & Citi;Budget 2024: Upto 10 mn taxpayers to be free from petty tax claims dating back to 1962;Novo confirms Catalent Indiana plant has started filling Wegovy pens;Moneyboxx Finance turns profitable in Q3;Budget 2024: Green fuel gets boost, FM presents scheme for biomanufacturing;BHEL awarded ₹5,500 crore order from Haryana Power Generation Corporation;Kerala budget: FM Balagopal increases support price of rubber; allocates ₹1,698 crore for agri sector;PM Modi\\'s four castes and when I almost wrote the Budget Speech;Post Office victims had lives \\'utterly destroyed\\';MCA Issues Notice To BharatPe, Seeks Evidence Presented In Courts Against Ashneer Grover;Concord Biotech\\'s Unit I receives Brazilian Health Regulatory Agency approval;Section 112A of Income Tax Act: Taxation on Long-Term Capital Gains;Video of Tesla driver wearing new Apple headset raises safety concerns;Gujarat presents ₹3.32 lakh crore budget; no new taxes proposed;  32. Personal finance review (Part 2)   : Personal Finance - Mutual Funds;Board of Bayer CropScience approves change in directorate;What is Basis Point: Recent Increase, Formula and Calculation;Will RBI make money dance to its tunes?;Interim Budget extends tax benefits for startups, sovereign wealth funds, GIFT IFSC units;ADB appoints Mio Oka as country director for India;Nvidia Stock Climbs to Fresh High After Reports of Custom Chip Unit Plans;India\\'s oil imports from Russia hit 12-month low in Jan as sanctions bite;CRISIL upgrades rating on Adani Power\\'s bank loan facilities to \\'AA-\\';Boeing 737 MAX 9 door plug bolts appeared to be missing on Alaska jet, NTSB says;Chase Makes Multi-Billion Dollar Investment in its Branch Network;Trade Setup for February 13: Nifty may remain in sell-on-rise mode below 21,850;Infrastructure sector gets no big bang announcements from Union Budget but support continues;Budget to boost healthcare sector, bolster bulk drug manufacturing: Expert;Court Summons Zomato Over ‘Fradulent’ Fresh Food Delivery;New rail corridors to cost Rs 11 trn, add 40K km of tracks: Vaishnaw;Titan Share Price Live blog for 13 Feb 2024 | Mint;Expect our govt will be blessed again by people with resounding mandate: FM Nirmala Sitharaman;Hyundai Motor chooses Citi, JPMorgan for India unit IPO;25 Signs You Should Sell Your Car Right Now;Repo Rate Unchanged: RBI holds policy rates, stance unchanged over inflation concerns;Kilburn Engineering standalone net profit rises 37.47% in the December 2023 quarter | Capital Market News - Business Standard;Hyundai picks JPMorgan, Citi to accelerate $3 bln India IPO - sources;Indag Rubber Standalone December 2023 Net Sales at Rs 62.33 crore, up 3.12% Y-o-Y;CBI settles legal action brought by sacked boss Tony Danker;Piramal Pharma Consolidated December 2023 Net Sales at Rs 1,958.57 crore, up 14.14% Y-o-Y;CPI Card Group Inc.\\'s (NASDAQ:PMTS) largest shareholders are private equity firms with 57% ownership, institutions own 23%;India mandates stock disclosure of rice, paddy for various entities across states, UTs;Equipping Frontline Workers with Digital Tools for Success Amid Skilled Labor Shortages: The Right Communications Solutions Boost Frontline Worker Productivity, Comfort, and Safety;Mark Zuckerberg to get $700 million a year from Meta’s new dividend;Capital Trade Standalone December 2023 Net Sales at Rs 11.88 crore, up 149.29% Y-o-Y;Perfect-Octave Standalone December 2023 Net Sales at Rs 0.48 crore, down 8.64% Y-o-Y;Global Aircraft Lighting Market Size To Worth USD 5.4 Billion By 2033 | CAGR of 5.37%;What Is Blue Collar? Definition and Job Examples;Lakhotia Poly Standalone December 2023 Net Sales at Rs 15.91 crore, up 420.16% Y-o-Y;Fresh Development On Google’s Billing Policy: SC Agrees To Hear Startups Pleas;Mutual Funds vs bank deposits: A strategic shift in investment trend that you must know | Mint;Global gold demand down 5% in 2023 on continuing ETF outflows: WGC Report;Decadal perspective: Filing of tax returns made easier under Modi govt;Agri Picks Report February 06, 2024: Geojit;Groww MF launches Nifty Smallcap 250 Index Fund: Should you invest?;Disney\\'s Epic deal shows sharp cut in Fortnite maker\\'s valuation -The Information;The Christmas Saints of Wall Street;What is Primary Deficit? - Example, Formula & Measures;Gloster Standalone December 2023 Net Sales at Rs 137.52 crore, down 13.07% Y-o-Y;Economic Recovery: Definition, Process, Signs, and Indicators;India’s bad bank has not made much progress yet, says DFS secretary Vivek Joshi;Veeram Sec Standalone December 2023 Net Sales at Rs 5.68 crore, up 27.68% Y-o-Y;GlaxoSmithKline Pharma Q3 net profit dips 72% to Rs 46 cr;S P Apparels Standalone December 2023 Net Sales at Rs 223.81 crore, up 2.04% Y-o-Y;Trimble, CymaBay Therapy rise; Big Lots, Monday.com fall, Monday, 2/12/2024;India considering to extend parboiled rice tax in risk to world supply;PPC hit with EU antitrust charges of selling below-cost electricity;No exclusive policy for Tesla incentives in India: Ministry;Crypto exchange FTX abandons efforts to restart its crypto exchange;South Korea watchdog warns financial firms on risk management;Govt to increase coal-fired capacity in 2024 by 14 GW: Power Ministry;LIC briefly crosses Rs 1,150 on stellar Q3 earnings: Should you buy, hold or sell the stock?;Fintech major Paytm denies reports on violation of foreign exchange rules;Deutsche Boerse urges swift introduction of EU rules to shift euro clearing from London;Yellen sees more commercial real estate stress, losses, but no systemic banking risk;Shree Karthik P Standalone December 2023 Net Sales at Rs 14.66 crore, down 29.62% Y-o-Y;How Long Should I Keep My Tax Records?;RBI allows HDFC Bank group to buy up to 9.5% stake in ICICI Bank, 5 others;Power consumption rises nearly 6% to 133.83 billion units in January;Telecom Italia CEO held talks with Vivendi in Paris on Thursday - sources;Return on Equity (ROE) - Meaning, Calculation and Example;CII chief suggests ways to unlock full potential of women who constitute 50% of India’s workforce;B2B SaaS Startup Rupyz Nets Funding To Offer Supply Chain Management Solutions;PNB Share Price Live blog for 13 Feb 2024 | Mint;Digital India: Driving The New Wave Of Entrepreneurship Across The Nation;Indian Bank credit growth could moderate in FY25 on tighter liquidity: S&P;5 Reasons for Life Insurance Claim Rejection;GMDC Q3 Results: Stock falls 11% after quarterly profit halves, revenue dips;FY24 asset monetisation falls short of target at Rs 1.50 trn: Official;AZAD ENGINEERING Share Price Live blog for 13 Feb 2024 | Mint;FM Sitharaman says RBI to take a call on interest rates keeping growth in mind;SEBI issues guidelines for resubmission of draft offer documents;Debt mutual fund inflows surge in January: Is it the right time to invest?;Indo Thai Secu Consolidated December 2023 Net Sales at Rs 9.28 crore, up 266.6% Y-o-Y;Digital music group Believe gets takeover offer of 15 euros per share;Exclusive: BYJU’S FY23 Revenue Touches INR 6,500 Cr;Kunal Shah’s CRED Acquires Kuvera To Take On Zerodha, Groww;UFO Moviez Consolidated December 2023 Net Sales at Rs 118.12 crore, up 6.81% Y-o-Y;Sensex Today | Share Market Live Updates : Asian shares firm up; Gift Nifty indicates muted start | Mint;TPA in Health Insurance - Meaning, Full Form, Functions and Roles;How 8.25% EPF interest rate has one more goody in its bag;RBI approves HDFC Bank proposal to buy up to 9.5% in IndusInd Bank;Fed\\'s Mester open to rate cuts if it\\'s clear inflation is easing further;SC agrees to hear AAI\\'s plea against GMR for Nagpur airport operation | Mint;United Brewerie Standalone December 2023 Net Sales at Rs 1,822.66 crore, up 13.14% Y-o-Y;Budget 2024: India hopes to tap the gender dividend with focus on Nari Shakti;Spirit Airlines uncertainty has some pilots dusting off their resumes;Hertz shares regain traction after wider-than-expected Q4 loss;IndianOil-Adani Gas JV to invest $300 mln to double gas sales;12 income tax terms you should know ahead of Budget 2024;Biocon inks pact with Sandoz for sale of 2 biosimilar products in Australia;Buoyant demand pushes India\\'s services PMI to 6-month high in January;Standard Chartered\\'s Fook Hien Yap explains India investment strategy for the year;Mutual fund houses launch three NFOs today: Key things to know before investing;India to be largest global oil demand growth driver through 2030: IEA;IBBI rationalises regulatory framework for insolvency professional entities;Indian edtech Byju\\'s US unit files for bankruptcy in Delaware;Mankind Pharma wants to enter export market of niche products;Interim Budget 2024-25: \\'Commitment to fiscal prudence and growth\\';V2 Retail Standalone December 2023 Net Sales at Rs 373.76 crore, up 55.96% Y-o-Y;Buy Greenpanel Industries; target of Rs 481: Prabhudas Lilladher;Flag coercive call from management to extend duty: Unions ask A-I pilots;Budget 2024: Govt focused on GDP - Governance, Development and Performance, says FM Nirmala Sitharaman | Mint;Exclusive: Russia\\'s Novatek sets up China office to market gas amid sanctions- sources;Capital Small Finance Bank IPO: 10 things to know before subscribing to Rs 523-crore issue;Government aims to earn Rs 1.20 lakh crore from communication services;Israel\\'s Tower Semiconductor proposes $8 bn chip plant in India: Report | Company News - Business Standard;Budget 2024: Finance Minister Sitharaman maintains status quo on standard deduction;Can China save its stock market from India?;Free trade agreement with India by year-end: Sri Lankan foreign minister;Exclusive: India anti-fraud agency probing Paytm and bank unit over forex violations - sources;Rashi Peripherals\\' Rs 600 cr IPO fully subscribed on Day 1 of offer;What Interim Budget 2024 holds in store for the agriculture sector?;Budget 2024 highlights: Startup India Seed Fund Scheme allocation;Moratorium Period: Working, Examples and Calculation;Persistent Systems launches Gen-AI powered Population Health Management solution;Alembic Pharma Q3 results: Profit at Rs 180 cr on strong domestic, US sales;Natco Pharma Share Price Live blog for 13 Feb 2024 | Mint;Why Does The U.S. Economy Keep Beating Expectations?;Govt to adhere to fiscal consolidation roadmap; inflation, bond yields, borrowing costs to trend lower: RBI Governor;Crude oil may stay in $78-85 range; see more momentum in Bitcoin: Peter McGuire;OMC capex of ₹30,000 crore revised down and deferred to FY25;Satin Creditcare Network consolidated net profit rises 92.59% in the December 2023 quarter;Tata Consumer Q3 preview: Revenue growth seen weak, but higher margin to aid net profit;U.S. Permian deal frenzy dims U.S. oil output growth prospects for 2024;Spotify\\'s podcast exclusive days are over as Joe Rogan\\'s show expands to other platforms;Monetary policy: New rules for verification of digital payments on cards;7 Types of Income Tax Assessment Under Income Tax Act;How to Link Aadhaar with Driving Licence Online and Offline;Spain\\'s Amadeus buys face-recognition specialist Vision-Box;Health sector to benefit from focus on public healthcare;Dr. Scott Kamelle Grant for Healthcare Students Paves the Way for Future Leaders in Healthcare;RBI hits Paytm Payments Bank with more restrictions; almost all services to stop from Feb 29;Tata Power falls 2.5% on muted Q3 profit, revenue grows 6.2%;Fiscal deficit target reflects govt\\'s confidence in private spending revival, says Neelkanth Mishra;Emerson Electric expects 2024 profit above estimates, posts upbeat Q1 results;Asia crude oil imports start 2024 strongly as India leads;Esconet Technologies secures orders from NICSI for servers, object storage;E*TRADE from Morgan Stanley Recognized as #1 Online Broker for Mobile Investing and Web Trading by StockBrokers.com;Animal spirit back in economy, private investment picking up: CEA;Best AI Stocks for February 2024;Irdai proposes changes in listing requirements of insurance companies;National Grid, Constellation Energy agree on LNG supply deal for Massachusetts facility;Zimbabwe bets on no till farming to reduce El Nino impact on grain;Empower India Standalone December 2023 Net Sales at Rs 2.94 crore, down 31.65% Y-o-Y;Aviation lessor settlements with Russia over trapped planes;5 Consequences of Credit Card Defaulter - How to Avoid;Metroglobal Standalone December 2023 Net Sales at Rs 68.22 crore, up 69.78% Y-o-Y;Univastu India Standalone December 2023 Net Sales at Rs 14.68 crore, down 45.38% Y-o-Y;BP says power restored, operations stabilized at Whiting, Indiana, refinery;Apple building prototype of at least two foldable clamshell iPhones: Report | Company News - Business Standard;Donear Ind Standalone December 2023 Net Sales at Rs 206.36 crore, down 1.76% Y-o-Y;BLS Infotech reports standalone net profit of Rs 0.01 crore in the December 2023 quarter | Capital Market News - Business Standard;\\'Your money is safe\\': Paytm Payments Bank assures customers in email, text | Mint;JYOTI CNC AUTOMATION Share Price Live blog for 13 Feb 2024 | Mint;List of GST State Codes and Jurisdiction 2023;Nouveau Global Ventures reports standalone net loss of Rs 0.02 crore in the December 2023 quarter;ECB doesn\\'t need to dampen still weak economy - Cipollone;Income tax e-filing website to be unavailable on these days;Bosch Share Price Live blog for 13 Feb 2024 | Mint;Turkey\\'s drone maker Baykar begins to build plant in Ukraine;Ecoplast Standalone December 2023 Net Sales at Rs 28.40 crore, up 21.95% Y-o-Y;Suzlon Share Price Live blog for 13 Feb 2024 | Mint;EPFO may reinvest half of ETF redemption proceeds in equity: Report | Mint;2 Alternative alignments examined for Kerala Sabari rail project: Vaishnaw;Insurance Sector Budget: What’s in store for the sector? Here’s what experts say;Secmark Consultancy reports consolidated net profit of Rs 0.02 crore in the December 2023 quarter | Capital Market News - Business Standard;Deepak Spinners Standalone December 2023 Net Sales at Rs 116.11 crore, down 16.61% Y-o-Y;Will Startup M&As Pick Pace In 2024?;HUL aims to double ecommerce contribution in the next 5 years: CEO Rohit Jawa;How to Open an NPS Account Online and Offline?;5 takeaways from Budget 2024 for educators, students, jobs;Urban Company launches policy to support service partners facing abuse;Colorchips New  Standalone December 2023 Net Sales at Rs 0.05 crore, down 73.68% Y-o-Y;Gopalan Enterprises in Bengaluru eyes Rs 5,000 cr revenue by FY25 with mall portfolio repurposing;Happi Planet Bags Funding From Fireside Ventures To Offer Non-Toxic Home Care Products;APEEJAY SURRENDRA PARK HOTELS Share Price Live blog for 13 Feb 2024 | Mint;Paytm CEO Vijay Shekhar Sharma, Officials Meet RBI To Discuss Roadmap On Regulatory Action;LS passes Finance Bill, completes exercise for interim budget 2024-25;D. P. Abhushan Standalone December 2023 Net Sales at Rs 765.46 crore, up 13.94% Y-o-Y;Apeejay Surrendra Park Hotels IPO listing date today. Experts predict up to 25% listing gain for share allottees | Mint;Employee Provident Fund (EPF) in India - Eligibility, Schemes, Calculation and Forms;Global Electric Three-Wheeler Market Forecast, 2018-2028: Global E-Mobility Shift Drives Electric Three-Wheeler Market to New Heights;Thumbs-up for \\'guarantee\\': Budget hits a sweet spot, says PM Modi;Brazilian airline Gol probes rival\\'s effort to poach aircraft;What will MOFSL\\'s Raamdeo Agrawal be tracking in the Election Budget?;Zomato Share Price Live blog for 13 Feb 2024 | Mint;Guide for Mulugu Commercial Real Estate Investment\\xa0￼;Draft broadcasting Bill could have ‘chilling effect’ on freedom of speech, says industry body | Mint;Interim Budget puts spotlight on three key priorities;Paytm readies three-member group advisory committee; RFP for auditors | Company News - Business Standard;Cost Of Living Live Updates February 8: Check, fuel prices and expenses in major cities | Mint;Bajaj Electric Consolidated December 2023 Net Sales at Rs 1,228.24 crore, down 17.26% Y-o-Y;Sebi mulls removing 1% security deposit for IPOs and rights issue;Explainer: How could Germany expropriate Rosneft assets?;Aadhaar Card Centres in Gurgaon (Updated List 2023);Mattel bets on cost savings to drive 2024 profit as toy demand dulls;Airlines cancel 7,427 flights in 2023 for various reasons: VK Singh;Cummins India hits record high as Q3 PAT jumps 26% YoY | Capital Market News - Business Standard;Focus: Western miners lag as oil powers enter race for Africa\\'s critical metals;Govt increases windfall tax on crude petroleum to ₹3,200/tonne | Mint;Here\\'s all you need to know of the incentives and government support that women homebuyers currently enjoy;Japan economy likely returned to growth in Q4, but remains fragile: Reuters poll;Banks should be mindful of legal, cyber risks emanating from AI: RBI dy guv | Banking - Business Standard;US official to testify at Senate hearing looking into Biden\\'s LNG pause;Adani starts talks for first Dollar Bond sale since Hindenburg;EPFO recommends increasing provident fund interest rate to 3-year high of 8.25%;Novartis to acquire cancer-centric MorphoSys for $2.9 billion;Budget’s focus on poor, women and youth aligns perfectly with life insurance sector’s commitment: IndiaFirst Life CEO RM Vishakha;RailTel Corp bags order worth Rs 125 crore from Western Railways;White Paper on Indian economy tabled: Tracks \\'Fragile 5\\' to \\'Top 5\\' journey;Cloudflare Stock Surges on Strong Earnings, Upbeat Outlook—Key Price Level to Watch;Govt eyes deal with EU countries that could draw $100 billion investment;Budget 2024: Full text of Finance Minister Nirmala Sitharaman\\'s Speech;Google signs its largest offshore power agreement with Dutch wind projects;Trade setup for Tuesday: 15 things to know before opening bell;Stock Market LIVE Updates: Wall Street rises, Asia trades higher; GIFT Nifty up 100 pts;PAN Card for Minors: Process, Benefits and Documents Required;Budget 2024: India largest milk producer in world but productivity remains low, says Nirmala Sitharaman | Mint;Parl Panel Flags PhonePe & Google Pay’s Dominance In UPI Space;Au Small Finance Bank Share Price Live blog for 13 Feb 2024 | Mint;Astral Ltd Consolidated December 2023 Net Sales at Rs 1,370.20 crore, up 8.08% Y-o-Y;How to Link Aadhaar with LIC Policy Online and Offline;Centrum Capital Standalone December 2023 Net Sales at Rs 13.56 crore, up 120.4% Y-o-Y;Paytm forms advisory committee under former Sebi chief Damodaran;Global Bathroom Mirror Cabinets Market Size is Estimated to Reach USD 1,369.62 million by 2031, Growing at a CAGR of 5.9%: Straits Research;Stamp Duty in Haryana 2023 - Property Registration Charges;PM Modi lays foundation stones of projects worth Rs 68,000 crore in Odisha;Merchandise exports set to moderate to $435 billion in FY24: Exim Bank;D B realty board gives in-principal nod to demerge hospitality business;Cordiance Announces TACS For Indirect Tax Engine Users;India will be world\\'s biggest oil demand growth driver through 2030: IEA;EV two-wheeler sales breach FY23 figures despite cut in FAME-II subsidy;Steve Jobs Didn\\'t Think He Needed To Shower Because He Only Ate Fruit — But His Body Odor Had Him Banished To The Night Shift When Colleagues Complained About The Smell;US Treasury team heads to China to talk subsidies, economic policies;Vidhi Specialty Food Ingredients consolidated net profit rises 11.99% in the December 2023 quarter;RBI Monetary Policy Committee meet: Check date, time and what to expect;Companies raising funds via IPOs under SEBI scrutiny: Report | Mint;Short Call | Change in repo rate unlikely at RBI MPC; Delta Corp awaits ease in GST, IEX shadow pilot, Trent in focus;Mindspace REIT Standalone December 2023 Net Sales at Rs 357.50 crore, up 9.8% Y-o-Y;Deccan Gold Mines says reviewing data on critical minerals in India;Wholistic Child and Family Services Empowers Youth with New Semi-Independent Living Home and Innovative Day Programming in Pickering;Arvind SmartSpaces edges higher after PAT more than doubles in Q3; quarterly bookings at Rs 280 crore;Perdoceo Education Corporation Announces Quarterly Dividend;Living Frugally and Happily in Retirement;Electrolux expects further weak consumer sentiment in early 2024;Manappuram Finance consolidated net profit rises 46.08% in the December 2023 quarter;4 Eye-Catching Growth Stocks You\\'ll Regret Not Buying in the Wake of the Nasdaq Bear Market Dip;Budget 2024 finds no mention of reduction in cess on crude oil;Stellantis to invest $111 mln in Hungary facility to produce electric drive modules;HSBC Investdirect Financial Services India standalone net profit rises 53.36% in the December 2023 quarter;Landmark Cars gets LoI from MG Motor for Mumbai dealership;NPS vs OPS: Will Budget 2024 settle the debate in an election year?;Paytm e-commerce renamed \\'Pai Platforms\\', acquires ONDC seller firm Bitsila | Company News - Business Standard;Entero Healthcare garners Rs 716 cr from anchor investors, IPO opens;Budget 2024: Affordable housing, rooftop solar and farmer benefits likely to be in spotlight;Board of D B Realty to review corporate structure;What are Credit Card Validators and How to Use them?;Finance Minister Sitharaman says PLI scheme has created 7 lakh jobs with ₹1.07 lakh crore investment;Vodafone Idea Share Price Live blog for 13 Feb 2024 | Mint;Amber Enterpris Standalone December 2023 Net Sales at Rs 809.70 crore, down 11.25% Y-o-Y;Adani\\'s $1.2 billion copper plant to spur India\\'s metal production;January 2024 GST collection rises 10.4% to over ₹1.72 lakh crore;Assam govt presents ₹2.9 lakh crore budget, no new tax;Blackstone exploring stake sale in telecom networks company Sipartech -sources;RBI\\'s grip tightens: What lies ahead for Paytm after regulatory blow | Mint;CAPITAL SMALL FINANCE BANK share price Today Live Updates : CAPITAL SMALL FINANCE BANK stock plummets on the market | Mint;Financing uncertainty clouds South Korea\\'s push for massive arms deals;Govt okays continuation of apparel exports incentive scheme till Mar 2026;IEA lowers renewables forecast for clean hydrogen;Prashant Ruia, Deloitte CEO among four appointed to US-India forum;Mumbai Feels The Chill As Startup Funding Plummets To A 3-Year Low Of $1.5 Bn In 2023;Repo Rate: RBI keeps repo rate unchanged at 6.5%: What should borrowers do?;India’s largest MF house launches Energy Opportunities Fund: Should you invest?;Will PSBs get fresh capital from FM Sitharaman in Budget this time? Unlikely;Bhilwara Spinners standalone net profit declines 76.62% in the December 2023 quarter | Capital Market News - Business Standard;Buy Star Health and Allied Insurance; target of Rs 728: ICICI Securities;Zimmer Biomet (ZBH) Q4 Earnings Top Estimates, Margins Grow;Budget 2024: What the nation wants from Finance Minister Nirmala Sitharaman;EU competition regulators to investigate Corsair\\'s revised revamp;Working on portfolio of CNG bikes, first launch in FY25: Bajaj Auto;Year after train derailment, President Biden to travel to East Palestine next week;How to Check Aadhaar Authentication History Online - Working and Benefits;Sanjivani Paren Standalone December 2023 Net Sales at Rs 14.96 crore, up 64.04% Y-o-Y;Life insurance policy terms, premium amounts detailed in one table;Budget 2024-25: All you need to know about the \\'Lakhpati Didi scheme\\';I-T Dept issues final notice to Shree Cement over Rs 4,000 cr tax liability;Nvidia overtakes Amazon in market value of $1.78 trillion | Mint;LNG export review should weigh impact on green hydrogen market, US official says;American Express National Bank Review: No monthly fees and around-the-clock customer support;10 Best Tax Saving SIPs in 2023 - Best ELSS Funds to Invest;Kerala Budget: Support price of rubber hiked, agri sector gets Rs 1,698 cr;Oil could stall as strong US output offsets geopolitics;Budget 2024 | Fiscal deficit and capex numbers hold the key for market sentiment;Bitcoin surges past $46,000, close to month-highs on ETF inflows, plans for halving | Mint;Interim Budget 2024 is \\'Judicious, non-populace, visionary,\\' says KV Subramanian | Mint;Dabur to invest Rs 135 cr for new manufacturing facility in south India;Weekly Wrapup: Crash and burn;Fuel consumption rises 8.2% in January on strong industrial activity;Budget 2024: What did FM Sitharaman say on education, Skill India Mission;RBI to introduce offline digital rupee transactions soon: Governor Das;Nirmala Sitharaman\\'s unique acronym twist in Budget 2024: FDI, GDP and GYAN;Shree Vasu Standalone December 2023 Net Sales at Rs 30.77 crore, up 19.78% Y-o-Y;7Seas Tech Standalone December 2023 Net Sales at Rs 3.01 crore, up 75.63% Y-o-Y;Government\\'s power sector schemes get 50% higher funds in Budget 2024;Budget 2024 Expectations: Better financial backing, spending power will support MSMEs value chain: Tarun Joshi, CEO, IGP | Mint;LIC unveils Jeevan Dhara II featuring unique annuity choices; here\\'s all you need to know | Mint;Orissa Minerals Standalone December 2023 Net Sales at Rs 28.28 crore, up 257.67% Y-o-Y;India offers to supply LNG to Sri Lankan power plants - Sri Lanka minister;Key advantages and risks of investing in international funds;\\'RBI plans tokenisation of assets, bonds under wholesale CBDC pilot\\' | Economy & Policy News - Business Standard;Budget 2024 highlights: UDAY allocation;NPCI - Full Form, Roles and Responsibilities;Tata Motors cuts EV prices by up to ₹1.2 lakh. Check new prices here | Mint;Deep Polymers L Standalone December 2023 Net Sales at Rs 23.34 crore, down 14.82% Y-o-Y;CIF Number - Full Form and How to Get CIF Number of SBI?;Paytm gains 3% on setting up advisory panel to guide on compliance, regulations;Exclusive: Engaged Capital gains support of VF heirs to shake up North Face owner;Volkswagen\\'s Audi cuts output at Brussels plant due to parts shortage;Top 10 stocks to bet on as market likely to lack a direction in trade this week;Automotive Axle Standalone December 2023 Net Sales at Rs 541.33 crore, down 17.45% Y-o-Y;Brookfield India Real Estate Trust to distribute ₹209 crore to unitholders for Q3 | Mint;IPO-bound Arkade Developers plans around Rs 700 crore investment in 3 projects;US CBO forecasts slightly smaller $1.5 trillion deficit for 2024;PG Foils Standalone December 2023 Net Sales at Rs 68.09 crore, down 5.54% Y-o-Y;Budget 2024: What is this fiscal exercise all about? Everything answered;Bharti Airtel Share Price Live blog for 13 Feb 2024 | Mint;Budget done, here’s what will drive the market now;Govt Hikes Allocation Under FAME II To INR 11,500 Cr; Scheme Extended Till March;FM Sitharaman’s Interim Budget sets tone for Viksit Bharat roadmap;Exclusive: Retail fuel price cut possible if crude supply stays stable, says Hardeep Puri;Jet Freight Log Standalone December 2023 Net Sales at Rs 90.52 crore, up 4.08% Y-o-Y;Paytm, Maruti Suzuki and more: Thursday\\'s top brokerage calls;Sebi proposes to make nominations in financial assets simpler;OMV sells its stake in SapuraOMV to Total Energies;Take Five: Enter the Dragon;US banking regulator imposes $65 mln fine on RBC unit City National Bank;Premier Synth Standalone December 2023 Net Sales at Rs 9.21 crore, down 24.46% Y-o-Y;NG Industries Standalone December 2023 Net Sales at Rs 3.95 crore, down 3.01% Y-o-Y;Companies Are Feeling the Business Impact of Conflict in the Middle East;Foghorn (FHTX) Jumps 55% as Lilly Takes Up FHD-909 Development;Biogen\\'s rare genetic disorder drug gets approval in EU;Pennar Inds Standalone December 2023 Net Sales at Rs 584.66 crore, up 8.94% Y-o-Y;Abbott launches protein shake brand to help people on weight-loss drug;Fed holds rates steady, says more \\'confidence\\' needed in inflation slowdown before cuts;Regulating \\'shadow banks\\' is hard going, says Bank of England;Decadal perspective: Stock market has more than doubled under the Modi govt;Tesla to bring LFP battery supply chain to US - Bloomberg News;Billy Jack Haynes, the ex-wrestler, arrested after wife found dead inside home, claims report;Aircraft lessor DAE expects further Boeing delays;Coal India Q3 Results: Profit soars 18% YoY to Rs 9,094 crore;Do truckers need valets?;Warm winter, droughts destroying crops in Italy, farming lobby warns;Panjon Standalone December 2023 Net Sales at Rs 4.81 crore, up 250.1% Y-o-Y;Tata Motors sales rises 6% YoY in January 2024;Krishna Janmashtami 2023 Holiday (Thursday, 6th September 2023);RBI Proposes to enable additional use cases for CBDC pilot;Mahindra Defence Systems signs MoU with Embraer Defense;Sri Havisha Standalone December 2023 Net Sales at Rs 3.92 crore, down 7.49% Y-o-Y;Snap-E Cabs raises $2.5 million, plans to add 300-400 EVs by FY24;Tata Steel, South East Railway join hands to develop sustainable infra;Polson Standalone December 2023 Net Sales at Rs 20.29 crore, up 22.59% Y-o-Y;Ashoka Buildcon trades 5% down despite winning Rs 520-crore NHAI project;Interim Budget announces 5 aquaparks, shrimp-feed stocks gain;Delton Cables Standalone December 2023 Net Sales at Rs 109.67 crore, up 62.03% Y-o-Y;Can infrastructure stocks continue to rerate, post Modi\\'s Budget?;US Treasury raises auction sizes through April, but no further increases seen in next few quarters;Budget 2024 highlights: Income tax exemption extended by one year for three key areas;Interim Budget: Housing scheme for \\'deserving\\' middle class soon, says FM;Return 50% of tax amount paid by Maharashtra: Uddhav Thackeray to Centre;Titan Company Consolidated December 2023 Net Sales at Rs 14,164.00 crore, up 22.01% Y-o-Y;Budget 2024: Focus on infra, capex allocation up for road transport ministry | Mint;Weak IQOS shipments drive Philip Morris\\' Q4 disappointment;Novo Nordisk\\'s parent to buy Catalent for $16.5 bln to boost Wegovy supply;Kyverna Therapeutics targets up to $711 mln valuation in US IPO;Radhe Developer Standalone December 2023 Net Sales at Rs 1.22 crore, down 75.38% Y-o-Y;PTC Industries, HAL sign MoU to make raw material, components for aircraft, choppers;IMF\\'s Gopinath urges BOJ to go slow in raising interest rates;Sell-off in PSU space erodes ₹5 lakh crore in investor wealth in two sessions;Borosil Standalone December 2023 Net Sales at Rs 302.45 crore, up 15.74% Y-o-Y;China Offers Support to Accelerate EV Makers’ Global Push | Mint;Zee shareholder files fresh plea in NCLT against Sony\\'s move on merger pact | Company News - Business Standard;Gold flat as dollar strength counters safe-haven demand;Revenue Secretary Sanjay Malhotra sees no reason to cut excise on fuel, given global crude prices;FM’s Viksit Bharat theme to boost the real estate sector in Tier II and Tier III cities: Experts;Boeing CEO says door plug issue under control, apologizes to United\\'s Kirby;Cenntro Electric Group Provides Update Regarding Rescheduled Second Court Hearing and Scheme Timetable;Private capex, Nari Shakti, and energy transition: Saurabh Mukherjea\\'s top themes from Interim Budget;SocGen to cut about 900 jobs in France, sources say;India-Middle East-Europe corridor game changer for us, says FM Sitharaman;Working to make India a developed nation by 2047: Nirmala Sitharaman;Mindteck Standalone December 2023 Net Sales at Rs 34.67 crore, up 9.85% Y-o-Y;India wants multi-year oil purchase deal with Guyana -Guyana minister;IDFC First Bank Share Price Live blog for 13 Feb 2024 | Mint;PSU Rally: Kotak Institutional Equities says market ignoring three downside risks;Budget 2024 paves way for inclusive and sustainable economic growth: Group CFO, Allcargo Group;It\\'s not interim Budget, but \\'antim\\' Budget of BJP govt at Centre: Mamata;Saudi Aramco in investment discussions with Indian companies - exec;January manufacturing PMI rises to 56.5, highest in 4 months;Majestic Auto consolidated net profit rises 596.19% in the December 2023 quarter | Capital Market News - Business Standard;Buy or sell: Ruchit Jain of 5paisa recommends buying United Spirits and Apollo Hospitals stock this week | Mint;Modi\\'s Budget keeps agrochem sector on a fertile pitch;DTDC expands to Malaysia, bolstering its footprint in Southeast Asia;Explained: Paytm fiasco impact on mutual fund investors;Spirit Airlines calls speculation about its future \\'misguided narrative\\';Budget focus on infra, connectivity to help real estate growth: Experts;New crypto exchange Pi42 avoids flat 30% tax -- but is it safe?;Swiss GRC targets revenue of $10 million from Indian market in FY25;Indian Strategic Petroleum Reserve signs deal with Hindustan Petroleum to lease space;Law ministry gets Rs 6,461 crore allocation in Interim Budget 2024;Tata Motors total vehicle sales climb 6% to 86,125 units in January;WATCH: 2024 Budget wishlist of agriculture, education and other key sectors;Smart Home Automation Startup Keus Raises $12 Mn Led By OAKS Asset Management’s Consumer Fund;Stuck housing projects: Greater Noida Authority to pave way for registry of 6,500 apartments;IRCTC up, signs MoU with Uttarakhand to operate tourists trains;Just Dial shares zoom 12% after share allotment to employees;HAF.VC Launches INR 150 Cr Maiden Fund To Back AI Startups;Fiscal stimulus withdrawal a counter-cyclical necessity: Finance Secretary Somanathan;2 Regional bank selloff continues as New York Community Bancorp slumps;Dai-Ichi Karkar Standalone December 2023 Net Sales at Rs 35.27 crore, down 27.84% Y-o-Y;US bitcoin ETFs raise questions over broader financial system risks;Emami Q3 net profit rises 12% to Rs 260.65 crore, revenue up marginally;Arrival names EY as administrator for two UK units;Restructurings set to rise in German-speaking countries, study finds;Saudis agree $3.2 bln deal to buy South Korean missile defence system - ministry;Indian stock market: 5 key things that changed for market over weekend - Gift Nifty, oil prices to FPI outflows | Mint;Several startups get RBI approval to operate as payment aggregators;Cabinet approves signing of India-UAE Bilateral Investment Treaty;Tenet Healthcare expects full-year profit above estimates on higher admissions;Zee Media issues clarification after Sebi takes action against guest experts for unlawful trading | Mint;Tata Digital announces appointment of Naveen Tahilyani as new CEO;Centrum Capital reports consolidated net loss of Rs 28.08 crore in the December 2023 quarter;NestlÃ© axes classic Breakaway bar after 54 years;New York Fed finds slightly higher supply chain pressure in January;EU agrees on looser fiscal rules to cut debt, boost investments;What is e-KYC: Aadhaar eKYC Online and Offline Process;TABLE-LNG tankers heading to Britain, Belgium, the Netherlands and Germany;List of NSE Holidays 2023;Dabur India approves ₹135 crore capex for new plant in South India;Women Taking On More Financial Responsibility;Sai Silks Standalone December 2023 Net Sales at Rs 382.45 crore, up 1.01% Y-o-Y;Budget 2024:Govt to provide viability gap funding for 1GW offshore wind capacity | Mint;Neeraj Paper Standalone December 2023 Net Sales at Rs 43.23 crore, down 0.51% Y-o-Y;ICDS Standalone December 2023 Net Sales at Rs 0.32 crore, up 2.19% Y-o-Y;☕Weekly Wrapup: A recipe for disaster;Dynacons Sys Standalone December 2023 Net Sales at Rs 226.74 crore, up 31.86% Y-o-Y;Source oil and gas locally, urges Equinor energy boss;PAN Card Status - Track and Check UTI PAN Status Online;IndianOil, Adani Gas JV to invest $300 million to double gas sales | Company News - Business Standard;Interim Budget 2024 is positive for bond yields and banks;Carl Icahn reports near 10% stake in Jetblue;Agriculture minister launches SARATHI portal for insurance products, helpline to resolve crop insurance-related grievance;Fiscally prudent interim Budget gives RBI liquidity wriggle room: Axis Bank\\'s Gambhir;Ruchira Papers Standalone December 2023 Net Sales at Rs 158.52 crore, down 21.67% Y-o-Y;Budget 2024 expectations- Direct Taxation;MG Comet receives a MASSIVE price cut! Check out new new prices | Mint;TV Mohandas Pai weighs in on the RBI\\'s clampdown on Paytm;Bharat Electronics shares gain on Rs 2,167.47-crore order from navy;Mirae Asset Mutual Fund launches India\\'s first multi-factor ETF on Nifty Smallcap250 Index. Five things to know | Mint;To aid infra finance, Sebi proposes allowing AIF funds to pledge investee company equity;I-T Dept collects over Rs 1,260 cr in TDS from online gaming;UAW says majority of workers at VW Tennessee plant seek to join union;Paytm Confirms Exit Of Manju Agarwal From Paytm Payments Bank\\'s Board;TCS market cap hits ₹15 lakh crore as stock touches new all-time high | Mint;Latest UCO Bank FD Interest Rate April 2023;BHEL gains on winning Rs 5,500-crore order;Atos ditches share sale for bank talks, shares plunge;Centum Electron Consolidated December 2023 Net Sales at Rs 298.20 crore, up 51.28% Y-o-Y;Gujarat Fluorochemicals arm commits Rs 6000 cr investment for EV and ESS battery solutions;RBI Das: Confident of handling higher inflows from JPMorgan bond index inclusion;Biomass gets a boost as budget promises financial help in buying machinery;Paytm’s Payment bank business at risk with RBI order: Bernstein;Tech firm Affle India eyes ₹1,800 crore FY24 revenue following YouAppi\\'s integration;Paytm CEO Vijay Shekhar Sharma calls RBI action \\'speed bump\\', says \\'we will work with other banks and not...\\' | Mint;Accumulate Apar Industries; target of Rs 6890: Prabhudas Lilladher;Filatex India standalone net profit rises 1181.02% in the December 2023 quarter | Capital Market News - Business Standard;What is an Investment Committee? – Varsity by Zerodha;Will IndiGo clock the highest-ever profit by an airline in India?;Section 80C of Income Tax Act Deduction Limit FY 2022-23;Why Workday (WDAY) Dipped More Than Broader Market Today;Inox Wind Energ Standalone December 2023 Net Sales at Rs 4.95 crore, up 280.77% Y-o-Y;DCM Standalone December 2023 Net Sales at Rs 1.20 crore, up 1900% Y-o-Y;Piyush Goyal welcomes investment in railway corridors under Budget 2024;Index Funds - Meaning, Types, Advantages and Disadvantages in 2023;Rashi Peripherals IPO ends with strong subscription | Capital Market News - Business Standard;Budget: India Inc results may mirror govt expenditure in upcoming qtrs;Uber makes changes to Super Bowl ad after backlash;Saudi Arabia to manufacture parts of Lockheed missile defense system;These BSE Midcap index stocks gained up to 451% since Budget 2023; what’s next?;Govt relaxed about OPEC+ cutting oil output, says oil minister Puri | News - Business Standard;Astrotalk To Raise About $20 Mn From Left Lane Capital;Gagan Gases standalone net profit declines 96.09% in the December 2023 quarter | Capital Market News - Business Standard;EPFO releases guidelines for EPS members having multiple accounts;Insurance regulator mandates inclusion of AYUSH treatments in policies starting April 1;Grocery stores should cut prices as costs ease, Biden White House says;Vippy Spinpro Standalone December 2023 Net Sales at Rs 60.04 crore, up 82.57% Y-o-Y;India Gelatine & Chemicals standalone net profit rises 1.83% in the December 2023 quarter | Capital Market News - Business Standard;Rustomjee to focus on homes with Rs 1-7 crore price tag in Mumbai, says Boman Irani;Where Can I Buy Government Bonds?;Ritco Logistics standalone net profit rises 38.64% in the December 2023 quarter;Next govt\\'s fiscal moves key to sovereign rating: S&P Global Ratings;Microsoft CEO Satya Nadella caps a decade of change and tremendous growth;Enbridge says Canada oil pipeline congestion may continue even once TMX starts;Indian stock market: 8 key things that changed for market overnight - Gift Nifty, inflation to Bitcoin price rally | Mint;EU takes first step to use Russia\\'s frozen assets for Ukraine;Zomato Looks To Build On Hyperpure Scale; Q3 Revenue Close To INR 1,000 Cr Mark;FSN E-Co Nykaa Consolidated December 2023 Net Sales at Rs 1,788.80 crore, up 22.28% Y-o-Y;Masked Aadhaar Card - Meaning, Uses & How to Download?;India\\'s oil need stabilises global price and demand: Minister Hardeep Puri;Board of Page Industries approves change in directorate;South Korea\\'s LG Chem signs $19 bln cathode supply deal with General Motors;Top 10 banks offering most competitive personal loan interest rates; check full list here | Mint;Budget 2024: FM Sitharaman says Poor, Women, Youth, and Farmers four castes for govt, committed to their welfare;EURUSD Extends Gains From Eight-Week Low But Stays Short Of Reclaiming $1.08 Mark; German Industrial Output Down 1.6% In December;Banking Central | Did the Paytm Bank Board fail to do its duties?;\\'Date of DBK payment is date of credit to exporter\\'s bank account\\';Germany sees jump in wind installations as new laws hike activity;Elden Ring Mobile Game: This is what we know so far;India\\'s Ola Electric considers bid for lithium mining rights - sources;Can I stop paying for insurance if I have saved enough? – Varsity by Zerodha;Capital Small Finance Bank\\'s weak listing; debuts at 8% discount to IPO issue price;LIC m-cap crosses Rs 6-lakh crore; trades above  IPO price;L&T wins contract for Assam bridge, to boost link to textile hub Sualkuchi;Why China is limping into the Year of the Dragon;Newsletter | Budget 2024: No change in income tax slabs; Will present detailed roadmap for Vikasit Bharat in July, says FM; Expert analysis & more;Tracxn Tech Standalone December 2023 Net Sales at Rs 21.14 crore, up 4.39% Y-o-Y;Fertiliser stocks jump as FM Sitharaman announces expansion of nano DAP application in Budget 2024;Tata Chemicals Q3 results: Profit drops 60% to Rs 158 cr on weak demand;Battery maker ACC secures financing for three European factories;Jefferies sees 15% upside for Bharti Airtel stock; lists three key takeaways for Bharti Hexacom IPO | Mint;Douyin CEO Kelly Zhang resigns to take new role at ByteDance;Ador Welding standalone net profit declines 16.26% in the December 2023 quarter;Cement rules Moneycontrol list of 7 stocks with potential to double earnings in FY25;BSL Standalone December 2023 Net Sales at Rs 171.00 crore, up 58.39% Y-o-Y;Nifty 50 may hit 23,400 in pre-election rally; expect PSU banks, IT, power stocks to lead gains, says ICICI Securities | Mint;HUL to make key changes to its management committee, effective from April 1;Budget: Tax devolution to states seen at 32%, but lags 15th FC advice;Intesa CEO says still trying to finalise Russian exit;Apeejay Surrendra Park Hotels IPO last date to apply: GMP drops, check issue details, review, more. Apply or not? | Mint;Deadline to update FASTag KYC extended to Feb 29: Check process and key details;Canada\\'s BlackBerry to lay off more staff in cost-cutting drive;Borosil Renew Consolidated December 2023 Net Sales at Rs 330.01 crore, up 34.29% Y-o-Y;  10. Clearing and Settlement Process   : Introduction to Stock Markets;Exclusive: Chinese automakers hit by production issues with Huawei computing unit;At Rs 9.82 trillion, April-Dec fiscal deficit 55% of govt\\'s annual target;Universal Cable Standalone December 2023 Net Sales at Rs 466.54 crore, down 21.06% Y-o-Y;Fine-line Circ Standalone December 2023 Net Sales at Rs 6.50 crore, up 11.08% Y-o-Y;Graphite India Share Price Live blog for 13 Feb 2024 | Mint'"
      ]
     },
     "execution_count": 55,
     "metadata": {},
     "output_type": "execute_result"
    },
    {
     "name": "stderr",
     "output_type": "stream",
     "text": [
      "2024-02-15 12:20:54,330| ERROR   | Could not establish connection from local ('127.0.0.1', 3712) to remote ('insight-beta-article-db.cluster-chmaiagjipqy.ap-south-1.docdb.amazonaws.com', 27017) side of the tunnel: open new channel ssh error: SSH session not active\n",
      "2024-02-15 12:21:04,408| ERROR   | Could not establish connection from local ('127.0.0.1', 3712) to remote ('insight-beta-article-db.cluster-chmaiagjipqy.ap-south-1.docdb.amazonaws.com', 27017) side of the tunnel: open new channel ssh error: SSH session not active\n",
      "2024-02-15 12:21:14,481| ERROR   | Could not establish connection from local ('127.0.0.1', 3712) to remote ('insight-beta-article-db.cluster-chmaiagjipqy.ap-south-1.docdb.amazonaws.com', 27017) side of the tunnel: open new channel ssh error: SSH session not active\n",
      "2024-02-15 12:21:24,549| ERROR   | Could not establish connection from local ('127.0.0.1', 3712) to remote ('insight-beta-article-db.cluster-chmaiagjipqy.ap-south-1.docdb.amazonaws.com', 27017) side of the tunnel: open new channel ssh error: SSH session not active\n",
      "2024-02-15 12:21:34,612| ERROR   | Could not establish connection from local ('127.0.0.1', 3712) to remote ('insight-beta-article-db.cluster-chmaiagjipqy.ap-south-1.docdb.amazonaws.com', 27017) side of the tunnel: open new channel ssh error: SSH session not active\n",
      "2024-02-15 12:21:44,694| ERROR   | Could not establish connection from local ('127.0.0.1', 3712) to remote ('insight-beta-article-db.cluster-chmaiagjipqy.ap-south-1.docdb.amazonaws.com', 27017) side of the tunnel: open new channel ssh error: SSH session not active\n",
      "2024-02-15 12:21:54,770| ERROR   | Could not establish connection from local ('127.0.0.1', 3712) to remote ('insight-beta-article-db.cluster-chmaiagjipqy.ap-south-1.docdb.amazonaws.com', 27017) side of the tunnel: open new channel ssh error: SSH session not active\n",
      "2024-02-15 12:22:04,841| ERROR   | Could not establish connection from local ('127.0.0.1', 3712) to remote ('insight-beta-article-db.cluster-chmaiagjipqy.ap-south-1.docdb.amazonaws.com', 27017) side of the tunnel: open new channel ssh error: SSH session not active\n",
      "2024-02-15 12:22:14,916| ERROR   | Could not establish connection from local ('127.0.0.1', 3712) to remote ('insight-beta-article-db.cluster-chmaiagjipqy.ap-south-1.docdb.amazonaws.com', 27017) side of the tunnel: open new channel ssh error: SSH session not active\n",
      "2024-02-15 12:22:24,977| ERROR   | Could not establish connection from local ('127.0.0.1', 3712) to remote ('insight-beta-article-db.cluster-chmaiagjipqy.ap-south-1.docdb.amazonaws.com', 27017) side of the tunnel: open new channel ssh error: SSH session not active\n",
      "2024-02-15 12:22:35,042| ERROR   | Could not establish connection from local ('127.0.0.1', 3712) to remote ('insight-beta-article-db.cluster-chmaiagjipqy.ap-south-1.docdb.amazonaws.com', 27017) side of the tunnel: open new channel ssh error: SSH session not active\n",
      "2024-02-15 12:22:45,107| ERROR   | Could not establish connection from local ('127.0.0.1', 3712) to remote ('insight-beta-article-db.cluster-chmaiagjipqy.ap-south-1.docdb.amazonaws.com', 27017) side of the tunnel: open new channel ssh error: SSH session not active\n",
      "2024-02-15 12:22:55,174| ERROR   | Could not establish connection from local ('127.0.0.1', 3712) to remote ('insight-beta-article-db.cluster-chmaiagjipqy.ap-south-1.docdb.amazonaws.com', 27017) side of the tunnel: open new channel ssh error: SSH session not active\n",
      "2024-02-15 12:23:05,232| ERROR   | Could not establish connection from local ('127.0.0.1', 3712) to remote ('insight-beta-article-db.cluster-chmaiagjipqy.ap-south-1.docdb.amazonaws.com', 27017) side of the tunnel: open new channel ssh error: SSH session not active\n",
      "2024-02-15 12:23:15,304| ERROR   | Could not establish connection from local ('127.0.0.1', 3712) to remote ('insight-beta-article-db.cluster-chmaiagjipqy.ap-south-1.docdb.amazonaws.com', 27017) side of the tunnel: open new channel ssh error: SSH session not active\n",
      "2024-02-15 12:23:25,372| ERROR   | Could not establish connection from local ('127.0.0.1', 3712) to remote ('insight-beta-article-db.cluster-chmaiagjipqy.ap-south-1.docdb.amazonaws.com', 27017) side of the tunnel: open new channel ssh error: SSH session not active\n",
      "2024-02-15 12:23:35,447| ERROR   | Could not establish connection from local ('127.0.0.1', 3712) to remote ('insight-beta-article-db.cluster-chmaiagjipqy.ap-south-1.docdb.amazonaws.com', 27017) side of the tunnel: open new channel ssh error: SSH session not active\n",
      "2024-02-15 12:23:45,513| ERROR   | Could not establish connection from local ('127.0.0.1', 3712) to remote ('insight-beta-article-db.cluster-chmaiagjipqy.ap-south-1.docdb.amazonaws.com', 27017) side of the tunnel: open new channel ssh error: SSH session not active\n",
      "2024-02-15 12:23:55,579| ERROR   | Could not establish connection from local ('127.0.0.1', 3712) to remote ('insight-beta-article-db.cluster-chmaiagjipqy.ap-south-1.docdb.amazonaws.com', 27017) side of the tunnel: open new channel ssh error: SSH session not active\n",
      "2024-02-15 12:24:05,652| ERROR   | Could not establish connection from local ('127.0.0.1', 3712) to remote ('insight-beta-article-db.cluster-chmaiagjipqy.ap-south-1.docdb.amazonaws.com', 27017) side of the tunnel: open new channel ssh error: SSH session not active\n",
      "2024-02-15 12:24:15,728| ERROR   | Could not establish connection from local ('127.0.0.1', 3712) to remote ('insight-beta-article-db.cluster-chmaiagjipqy.ap-south-1.docdb.amazonaws.com', 27017) side of the tunnel: open new channel ssh error: SSH session not active\n",
      "2024-02-15 12:24:25,798| ERROR   | Could not establish connection from local ('127.0.0.1', 3712) to remote ('insight-beta-article-db.cluster-chmaiagjipqy.ap-south-1.docdb.amazonaws.com', 27017) side of the tunnel: open new channel ssh error: SSH session not active\n",
      "2024-02-15 12:24:35,865| ERROR   | Could not establish connection from local ('127.0.0.1', 3712) to remote ('insight-beta-article-db.cluster-chmaiagjipqy.ap-south-1.docdb.amazonaws.com', 27017) side of the tunnel: open new channel ssh error: SSH session not active\n",
      "2024-02-15 12:24:45,937| ERROR   | Could not establish connection from local ('127.0.0.1', 3712) to remote ('insight-beta-article-db.cluster-chmaiagjipqy.ap-south-1.docdb.amazonaws.com', 27017) side of the tunnel: open new channel ssh error: SSH session not active\n",
      "2024-02-15 12:24:56,004| ERROR   | Could not establish connection from local ('127.0.0.1', 3712) to remote ('insight-beta-article-db.cluster-chmaiagjipqy.ap-south-1.docdb.amazonaws.com', 27017) side of the tunnel: open new channel ssh error: SSH session not active\n",
      "2024-02-15 12:25:06,078| ERROR   | Could not establish connection from local ('127.0.0.1', 3712) to remote ('insight-beta-article-db.cluster-chmaiagjipqy.ap-south-1.docdb.amazonaws.com', 27017) side of the tunnel: open new channel ssh error: SSH session not active\n",
      "2024-02-15 12:25:16,151| ERROR   | Could not establish connection from local ('127.0.0.1', 3712) to remote ('insight-beta-article-db.cluster-chmaiagjipqy.ap-south-1.docdb.amazonaws.com', 27017) side of the tunnel: open new channel ssh error: SSH session not active\n",
      "2024-02-15 12:25:26,218| ERROR   | Could not establish connection from local ('127.0.0.1', 3712) to remote ('insight-beta-article-db.cluster-chmaiagjipqy.ap-south-1.docdb.amazonaws.com', 27017) side of the tunnel: open new channel ssh error: SSH session not active\n",
      "2024-02-15 12:25:36,302| ERROR   | Could not establish connection from local ('127.0.0.1', 3712) to remote ('insight-beta-article-db.cluster-chmaiagjipqy.ap-south-1.docdb.amazonaws.com', 27017) side of the tunnel: open new channel ssh error: SSH session not active\n",
      "2024-02-15 12:25:46,393| ERROR   | Could not establish connection from local ('127.0.0.1', 3712) to remote ('insight-beta-article-db.cluster-chmaiagjipqy.ap-south-1.docdb.amazonaws.com', 27017) side of the tunnel: open new channel ssh error: SSH session not active\n",
      "2024-02-15 12:25:56,532| ERROR   | Could not establish connection from local ('127.0.0.1', 3712) to remote ('insight-beta-article-db.cluster-chmaiagjipqy.ap-south-1.docdb.amazonaws.com', 27017) side of the tunnel: open new channel ssh error: SSH session not active\n",
      "2024-02-15 12:26:06,656| ERROR   | Could not establish connection from local ('127.0.0.1', 3712) to remote ('insight-beta-article-db.cluster-chmaiagjipqy.ap-south-1.docdb.amazonaws.com', 27017) side of the tunnel: open new channel ssh error: SSH session not active\n",
      "2024-02-15 12:26:16,741| ERROR   | Could not establish connection from local ('127.0.0.1', 3712) to remote ('insight-beta-article-db.cluster-chmaiagjipqy.ap-south-1.docdb.amazonaws.com', 27017) side of the tunnel: open new channel ssh error: SSH session not active\n",
      "2024-02-15 12:26:26,834| ERROR   | Could not establish connection from local ('127.0.0.1', 3712) to remote ('insight-beta-article-db.cluster-chmaiagjipqy.ap-south-1.docdb.amazonaws.com', 27017) side of the tunnel: open new channel ssh error: SSH session not active\n",
      "2024-02-15 12:26:36,899| ERROR   | Could not establish connection from local ('127.0.0.1', 3712) to remote ('insight-beta-article-db.cluster-chmaiagjipqy.ap-south-1.docdb.amazonaws.com', 27017) side of the tunnel: open new channel ssh error: SSH session not active\n",
      "2024-02-15 12:26:46,966| ERROR   | Could not establish connection from local ('127.0.0.1', 3712) to remote ('insight-beta-article-db.cluster-chmaiagjipqy.ap-south-1.docdb.amazonaws.com', 27017) side of the tunnel: open new channel ssh error: SSH session not active\n",
      "2024-02-15 12:26:57,036| ERROR   | Could not establish connection from local ('127.0.0.1', 3712) to remote ('insight-beta-article-db.cluster-chmaiagjipqy.ap-south-1.docdb.amazonaws.com', 27017) side of the tunnel: open new channel ssh error: SSH session not active\n",
      "2024-02-15 12:27:07,101| ERROR   | Could not establish connection from local ('127.0.0.1', 3712) to remote ('insight-beta-article-db.cluster-chmaiagjipqy.ap-south-1.docdb.amazonaws.com', 27017) side of the tunnel: open new channel ssh error: SSH session not active\n",
      "2024-02-15 12:27:17,169| ERROR   | Could not establish connection from local ('127.0.0.1', 3712) to remote ('insight-beta-article-db.cluster-chmaiagjipqy.ap-south-1.docdb.amazonaws.com', 27017) side of the tunnel: open new channel ssh error: SSH session not active\n",
      "2024-02-15 12:27:27,241| ERROR   | Could not establish connection from local ('127.0.0.1', 3712) to remote ('insight-beta-article-db.cluster-chmaiagjipqy.ap-south-1.docdb.amazonaws.com', 27017) side of the tunnel: open new channel ssh error: SSH session not active\n",
      "2024-02-15 12:27:37,320| ERROR   | Could not establish connection from local ('127.0.0.1', 3712) to remote ('insight-beta-article-db.cluster-chmaiagjipqy.ap-south-1.docdb.amazonaws.com', 27017) side of the tunnel: open new channel ssh error: SSH session not active\n",
      "2024-02-15 12:27:47,390| ERROR   | Could not establish connection from local ('127.0.0.1', 3712) to remote ('insight-beta-article-db.cluster-chmaiagjipqy.ap-south-1.docdb.amazonaws.com', 27017) side of the tunnel: open new channel ssh error: SSH session not active\n",
      "2024-02-15 12:27:57,457| ERROR   | Could not establish connection from local ('127.0.0.1', 3712) to remote ('insight-beta-article-db.cluster-chmaiagjipqy.ap-south-1.docdb.amazonaws.com', 27017) side of the tunnel: open new channel ssh error: SSH session not active\n",
      "2024-02-15 12:28:07,533| ERROR   | Could not establish connection from local ('127.0.0.1', 3712) to remote ('insight-beta-article-db.cluster-chmaiagjipqy.ap-south-1.docdb.amazonaws.com', 27017) side of the tunnel: open new channel ssh error: SSH session not active\n",
      "2024-02-15 12:28:17,603| ERROR   | Could not establish connection from local ('127.0.0.1', 3712) to remote ('insight-beta-article-db.cluster-chmaiagjipqy.ap-south-1.docdb.amazonaws.com', 27017) side of the tunnel: open new channel ssh error: SSH session not active\n",
      "2024-02-15 12:28:27,677| ERROR   | Could not establish connection from local ('127.0.0.1', 3712) to remote ('insight-beta-article-db.cluster-chmaiagjipqy.ap-south-1.docdb.amazonaws.com', 27017) side of the tunnel: open new channel ssh error: SSH session not active\n",
      "2024-02-15 12:28:37,735| ERROR   | Could not establish connection from local ('127.0.0.1', 3712) to remote ('insight-beta-article-db.cluster-chmaiagjipqy.ap-south-1.docdb.amazonaws.com', 27017) side of the tunnel: open new channel ssh error: SSH session not active\n",
      "2024-02-15 12:28:47,793| ERROR   | Could not establish connection from local ('127.0.0.1', 3712) to remote ('insight-beta-article-db.cluster-chmaiagjipqy.ap-south-1.docdb.amazonaws.com', 27017) side of the tunnel: open new channel ssh error: SSH session not active\n",
      "2024-02-15 12:28:57,871| ERROR   | Could not establish connection from local ('127.0.0.1', 3712) to remote ('insight-beta-article-db.cluster-chmaiagjipqy.ap-south-1.docdb.amazonaws.com', 27017) side of the tunnel: open new channel ssh error: SSH session not active\n",
      "2024-02-15 12:29:07,949| ERROR   | Could not establish connection from local ('127.0.0.1', 3712) to remote ('insight-beta-article-db.cluster-chmaiagjipqy.ap-south-1.docdb.amazonaws.com', 27017) side of the tunnel: open new channel ssh error: SSH session not active\n",
      "2024-02-15 12:29:18,018| ERROR   | Could not establish connection from local ('127.0.0.1', 3712) to remote ('insight-beta-article-db.cluster-chmaiagjipqy.ap-south-1.docdb.amazonaws.com', 27017) side of the tunnel: open new channel ssh error: SSH session not active\n",
      "2024-02-15 12:29:28,089| ERROR   | Could not establish connection from local ('127.0.0.1', 3712) to remote ('insight-beta-article-db.cluster-chmaiagjipqy.ap-south-1.docdb.amazonaws.com', 27017) side of the tunnel: open new channel ssh error: SSH session not active\n",
      "2024-02-15 12:29:38,151| ERROR   | Could not establish connection from local ('127.0.0.1', 3712) to remote ('insight-beta-article-db.cluster-chmaiagjipqy.ap-south-1.docdb.amazonaws.com', 27017) side of the tunnel: open new channel ssh error: SSH session not active\n",
      "2024-02-15 12:29:48,231| ERROR   | Could not establish connection from local ('127.0.0.1', 3712) to remote ('insight-beta-article-db.cluster-chmaiagjipqy.ap-south-1.docdb.amazonaws.com', 27017) side of the tunnel: open new channel ssh error: SSH session not active\n",
      "2024-02-15 12:29:58,311| ERROR   | Could not establish connection from local ('127.0.0.1', 3712) to remote ('insight-beta-article-db.cluster-chmaiagjipqy.ap-south-1.docdb.amazonaws.com', 27017) side of the tunnel: open new channel ssh error: SSH session not active\n",
      "2024-02-15 12:30:08,380| ERROR   | Could not establish connection from local ('127.0.0.1', 3712) to remote ('insight-beta-article-db.cluster-chmaiagjipqy.ap-south-1.docdb.amazonaws.com', 27017) side of the tunnel: open new channel ssh error: SSH session not active\n",
      "2024-02-15 12:30:18,454| ERROR   | Could not establish connection from local ('127.0.0.1', 3712) to remote ('insight-beta-article-db.cluster-chmaiagjipqy.ap-south-1.docdb.amazonaws.com', 27017) side of the tunnel: open new channel ssh error: SSH session not active\n",
      "2024-02-15 12:30:28,514| ERROR   | Could not establish connection from local ('127.0.0.1', 3712) to remote ('insight-beta-article-db.cluster-chmaiagjipqy.ap-south-1.docdb.amazonaws.com', 27017) side of the tunnel: open new channel ssh error: SSH session not active\n",
      "2024-02-15 12:30:38,588| ERROR   | Could not establish connection from local ('127.0.0.1', 3712) to remote ('insight-beta-article-db.cluster-chmaiagjipqy.ap-south-1.docdb.amazonaws.com', 27017) side of the tunnel: open new channel ssh error: SSH session not active\n",
      "2024-02-15 12:30:48,668| ERROR   | Could not establish connection from local ('127.0.0.1', 3712) to remote ('insight-beta-article-db.cluster-chmaiagjipqy.ap-south-1.docdb.amazonaws.com', 27017) side of the tunnel: open new channel ssh error: SSH session not active\n",
      "2024-02-15 12:30:58,742| ERROR   | Could not establish connection from local ('127.0.0.1', 3712) to remote ('insight-beta-article-db.cluster-chmaiagjipqy.ap-south-1.docdb.amazonaws.com', 27017) side of the tunnel: open new channel ssh error: SSH session not active\n",
      "2024-02-15 12:31:08,801| ERROR   | Could not establish connection from local ('127.0.0.1', 3712) to remote ('insight-beta-article-db.cluster-chmaiagjipqy.ap-south-1.docdb.amazonaws.com', 27017) side of the tunnel: open new channel ssh error: SSH session not active\n",
      "2024-02-15 12:31:18,868| ERROR   | Could not establish connection from local ('127.0.0.1', 3712) to remote ('insight-beta-article-db.cluster-chmaiagjipqy.ap-south-1.docdb.amazonaws.com', 27017) side of the tunnel: open new channel ssh error: SSH session not active\n",
      "2024-02-15 12:31:28,944| ERROR   | Could not establish connection from local ('127.0.0.1', 3712) to remote ('insight-beta-article-db.cluster-chmaiagjipqy.ap-south-1.docdb.amazonaws.com', 27017) side of the tunnel: open new channel ssh error: SSH session not active\n",
      "2024-02-15 12:31:39,026| ERROR   | Could not establish connection from local ('127.0.0.1', 3712) to remote ('insight-beta-article-db.cluster-chmaiagjipqy.ap-south-1.docdb.amazonaws.com', 27017) side of the tunnel: open new channel ssh error: SSH session not active\n",
      "2024-02-15 12:31:49,105| ERROR   | Could not establish connection from local ('127.0.0.1', 3712) to remote ('insight-beta-article-db.cluster-chmaiagjipqy.ap-south-1.docdb.amazonaws.com', 27017) side of the tunnel: open new channel ssh error: SSH session not active\n",
      "2024-02-15 12:31:59,189| ERROR   | Could not establish connection from local ('127.0.0.1', 3712) to remote ('insight-beta-article-db.cluster-chmaiagjipqy.ap-south-1.docdb.amazonaws.com', 27017) side of the tunnel: open new channel ssh error: SSH session not active\n",
      "2024-02-15 12:32:09,259| ERROR   | Could not establish connection from local ('127.0.0.1', 3712) to remote ('insight-beta-article-db.cluster-chmaiagjipqy.ap-south-1.docdb.amazonaws.com', 27017) side of the tunnel: open new channel ssh error: SSH session not active\n",
      "2024-02-15 12:32:19,333| ERROR   | Could not establish connection from local ('127.0.0.1', 3712) to remote ('insight-beta-article-db.cluster-chmaiagjipqy.ap-south-1.docdb.amazonaws.com', 27017) side of the tunnel: open new channel ssh error: SSH session not active\n",
      "2024-02-15 12:32:29,408| ERROR   | Could not establish connection from local ('127.0.0.1', 3712) to remote ('insight-beta-article-db.cluster-chmaiagjipqy.ap-south-1.docdb.amazonaws.com', 27017) side of the tunnel: open new channel ssh error: SSH session not active\n",
      "2024-02-15 12:32:39,465| ERROR   | Could not establish connection from local ('127.0.0.1', 3712) to remote ('insight-beta-article-db.cluster-chmaiagjipqy.ap-south-1.docdb.amazonaws.com', 27017) side of the tunnel: open new channel ssh error: SSH session not active\n",
      "2024-02-15 12:32:49,531| ERROR   | Could not establish connection from local ('127.0.0.1', 3712) to remote ('insight-beta-article-db.cluster-chmaiagjipqy.ap-south-1.docdb.amazonaws.com', 27017) side of the tunnel: open new channel ssh error: SSH session not active\n",
      "2024-02-15 12:32:59,601| ERROR   | Could not establish connection from local ('127.0.0.1', 3712) to remote ('insight-beta-article-db.cluster-chmaiagjipqy.ap-south-1.docdb.amazonaws.com', 27017) side of the tunnel: open new channel ssh error: SSH session not active\n",
      "2024-02-15 12:33:09,661| ERROR   | Could not establish connection from local ('127.0.0.1', 3712) to remote ('insight-beta-article-db.cluster-chmaiagjipqy.ap-south-1.docdb.amazonaws.com', 27017) side of the tunnel: open new channel ssh error: SSH session not active\n",
      "2024-02-15 12:33:19,728| ERROR   | Could not establish connection from local ('127.0.0.1', 3712) to remote ('insight-beta-article-db.cluster-chmaiagjipqy.ap-south-1.docdb.amazonaws.com', 27017) side of the tunnel: open new channel ssh error: SSH session not active\n",
      "2024-02-15 12:33:29,805| ERROR   | Could not establish connection from local ('127.0.0.1', 3712) to remote ('insight-beta-article-db.cluster-chmaiagjipqy.ap-south-1.docdb.amazonaws.com', 27017) side of the tunnel: open new channel ssh error: SSH session not active\n",
      "2024-02-15 12:33:39,877| ERROR   | Could not establish connection from local ('127.0.0.1', 3712) to remote ('insight-beta-article-db.cluster-chmaiagjipqy.ap-south-1.docdb.amazonaws.com', 27017) side of the tunnel: open new channel ssh error: SSH session not active\n",
      "2024-02-15 12:33:49,969| ERROR   | Could not establish connection from local ('127.0.0.1', 3712) to remote ('insight-beta-article-db.cluster-chmaiagjipqy.ap-south-1.docdb.amazonaws.com', 27017) side of the tunnel: open new channel ssh error: SSH session not active\n",
      "2024-02-15 12:34:00,046| ERROR   | Could not establish connection from local ('127.0.0.1', 3712) to remote ('insight-beta-article-db.cluster-chmaiagjipqy.ap-south-1.docdb.amazonaws.com', 27017) side of the tunnel: open new channel ssh error: SSH session not active\n",
      "2024-02-15 12:34:10,114| ERROR   | Could not establish connection from local ('127.0.0.1', 3712) to remote ('insight-beta-article-db.cluster-chmaiagjipqy.ap-south-1.docdb.amazonaws.com', 27017) side of the tunnel: open new channel ssh error: SSH session not active\n"
     ]
    }
   ],
   "source": [
    "thousand_titles"
   ]
  },
  {
   "cell_type": "code",
   "execution_count": 92,
   "id": "edcdb935-e454-4893-98e5-e902efa70a09",
   "metadata": {
    "tags": []
   },
   "outputs": [
    {
     "name": "stderr",
     "output_type": "stream",
     "text": [
      "2024-02-15 12:40:52,966| ERROR   | Could not establish connection from local ('127.0.0.1', 3712) to remote ('insight-beta-article-db.cluster-chmaiagjipqy.ap-south-1.docdb.amazonaws.com', 27017) side of the tunnel: open new channel ssh error: SSH session not active\n"
     ]
    }
   ],
   "source": [
    "responses_from_gpt = '''{\"title\": \"A.K.Capital Ser Standalone December 2023 Net Sales at Rs 31.44 crore, up 7.24% Y-o-Y\", \"category\": \"corporate_developments\"},\n",
    "  {\"title\": \"Inox Wind to execute India's single largest wind project order of 1,500 MW from CESC\", \"category\": \"corporate_developments\"},\n",
    "  {\"title\": \"L&T construction wins \\\"large\\\" orders in India and the Middle East, its third in three days\", \"category\": \"corporate_developments\"},\n",
    "  {\"title\": \"Italian Edibles lists at 19% discount over IPO price on NSE SME\", \"category\": \"market_strategies\"},\n",
    "  {\"title\": \"Uttar Pradesh govt targets 1 million tonne capacity and 120,000 jobs\", \"category\": \"policy_impact\"},\n",
    "  {\"title\": \"Indices trade flat, fiscal deficit target set at 5.1% of GDP for FY25\", \"category\": \"policy_impact\"},\n",
    "  {\"title\": \"HDFC Bank announces raising $750 mn through multi-year overseas bonds\", \"category\": \"corporate_developments\"},\n",
    "  {\"title\": \"All you need to know about Chinese stock market rout\", \"category\": \"market_strategies\"},\n",
    "  {\"title\": \"UBS CEO says more capital not the way to make it safer\", \"category\": \"corporate_developments\"},\n",
    "  {\"title\": \"ISL Consulting standalone net profit rises 3540.00% in the December 2023 quarter\", \"category\": \"corporate_developments\"},\n",
    "  {\"title\": \"Bosch pushes back margin target, warns of further job cuts\", \"category\": \"corporate_developments\"},\n",
    "  {\"title\": \"Docmode Health Tech IPO allotment finalised; here's how to check allotment status\", \"category\": \"market_strategies\"},\n",
    "  {\"title\": \"Growth pattern shows all sectors of economy are revving up, says FM Sitharaman\", \"category\": \"policy_impact\"},\n",
    "  {\"title\": \"ITC's largest shareholder BAT is working towards monetising some of its stake\", \"category\": \"corporate_developments\"},\n",
    "  {\"title\": \"Will INOVIQ (ASX:IIQ) Spend Its Cash Wisely?\", \"category\": \"corporate_developments\"},\n",
    "  {\"title\": \"Interim Budget: Disinvestment, monetisation target set at Rs 50,000 crore\", \"category\": \"policy_impact\"},\n",
    "  {\"title\": \"Why Apple's iconic Super Bowl ad still resonates 4 decades later\", \"category\": \"corporate_developments\"},\n",
    "  {\"title\": \"Mission Shakti: Under longest-serving woman FM, gender Budget hits a high\", \"category\": \"policy_impact\"},\n",
    "  {\"title\": \"India is considering to extend parboiled rice tax in risk to world supply\", \"category\": \"policy_impact\"},\n",
    "  {\"title\": \"So what do I do if I need to get VC funding? – Varsity by Zerodha\", \"category\": \"startup_ecosystem\"},\n",
    "  {\"title\": \"Religare shares worth Rs 338 crore change hands; Burman family likely buyers\", \"category\": \"market_strategies\"},\n",
    "  {\"title\": \"Budget 2024: What to expect from Sitharaman's interim budget presentation\", \"category\": \"policy_impact\"},\n",
    "  {\"title\": \"Selan Explore Standalone December 2023 Net Sales at Rs 43.57 crore, up 50.19% Y-o-Y\", \"category\": \"corporate_developments\"},\n",
    "  {\"title\": \"Philippines' San Miguel-led group makes top offer in airport bid\", \"category\": \"corporate_developments\"},\n",
    "  {\"title\": \"Olectra Greentech Share Price Live blog for 13 Feb 2024\", \"category\": \"market_strategies\"},\n",
    "  {\"title\": \"The Home Depot Named on Fortune’s 2024 Most Admired Companies List\", \"category\": \"corporate_developments\"},\n",
    "  {\"title\": \"AMS Polymers standalone net profit rises 480.00% in the December 2023 quarter\", \"category\": \"corporate_developments\"},\n",
    "  {\"title\": \"Budget 2024: Capex outlay raised by 11.1% to ₹11.11 trillion\", \"category\": \"policy_impact\"},\n",
    "  {\"title\": \"Foldable iPhone or iPad? Apple prepares to enter foldable device market by 2027\", \"category\": \"corporate_developments\"},\n",
    "  {\"title\": \"Zuckerberg wins on Wall Street after Washington hit\", \"category\": \"corporate_developments\"},\n",
    "  {\"title\": \"Keysight to Showcase Wireless Innovations at Mobile World Congress 2024\", \"category\": \"corporate_developments\"},\n",
    "  {\"title\": \"Aster DM Healthcare to add 1,500 beds in 3 years, lines up Rs 850 crore investments\", \"category\": \"corporate_developments\"},\n",
    "  {\"title\": \"15 Best Short Term Mutual Funds in India to Invest in April 2023\", \"category\": \"personal_finance\"},\n",
    "  {\"title\": \"Respite For Paytm? Fintech Giant Set To Secure Govt Nod To Invest In Payments Gateway Arm\", \"category\": \"corporate_developments\"},\n",
    "  {\"title\": \"How fast can I get an emergency loan?\", \"category\": \"personal_finance\"},\n",
    "  {\"title\": \"HUDCO Standalone December 2023 Net Sales at Rs 2,012.66 crore, up 17.73% Y-o-Y\", \"category\": \"corporate_developments\"},\n",
    "  {\"title\": \"White paper on UPA regime's mismanagement to be tabled soon: Finance Minister\", \"category\": \"policy_impact\"},\n",
    "  {\"title\": \"Are Tax Brackets Adjusted for Inflation?\", \"category\": \"personal_finance\"},\n",
    "  {\"title\": \"ITR filing: Income Tax department notifies ITR-2, ITR-3 forms for FY 2023-24. Details here\", \"category\": \"personal_finance\"},\n",
    "  {\"title\": \"IIFL Securities, Angel One, ICICI Direct, other brokers hike margin on BNPL facility: Report\", \"category\": \"market_strategies\"},\n",
    "  {\"title\": \"Rupa and Comp Standalone December 2023 Net Sales at Rs 312.74 crore, up 36.76% Y-o-Y\", \"category\": \"corporate_developments\"},\n",
    "  {\"title\": \"PowerGrid trades 5% higher after Q3 net profit rises 10%\", \"category\": \"market_strategies\"},\n",
    "  {\"title\": \"Large number of messages from bots, unrelated accounts: brokerage on #BoycottZerodha\", \"category\": \"market_strategies\"},\n",
    "  {\"title\": \"ISPRL signs deal with Hindustan Petroleum to lease 300,000 MT space\", \"category\": \"corporate_developments\"},\n",
    "  {\"title\": \"RBI Monetary Policy: FY24 inflation forecast unchanged at 5.4%; FY25 estimate at 4.5%\", \"category\": \"policy_impact\"},\n",
    "  {\"title\": \"Civil aviation ministry to get Rs 2,300 cr budgetary allocation for 2024-25\", \"category\": \"policy_impact\"},\n",
    "  {\"title\": \"WeWork founder Adam Neumann trying to buy back company\", \"category\": \"startup_ecosystem\"},\n",
    "  {\"title\": \"Union Budget: FM announces plans to increase milk, dairy production\", \"category\": \"policy_impact\"},\n",
    "  {\"title\": \"Budget 2024: Power PSUs NHPC, SJVN rally to record high after higher allocation\", \"category\": \"policy_impact\"},\n",
    "  {\"title\": \"Tapestry lifts 2024 profit forecast on China demand rebound, strong margins\", \"category\": \"corporate_developments\"},\n",
    "  {\"title\": \"Fed's Barkin says he's cautious about accuracy of recent economic data\", \"category\": \"economic_trends\"},\n",
    "  {\"title\": \"Hybrid Financial Services reports consolidated net profit of Rs 0.32 crore in the December 2023 quarter\", \"category\": \"corporate_developments\"},\n",
    "  {\"title\": \"Miner Freeport-McMoRan names insider Kathleen Quirk as CEO\", \"category\": \"corporate_developments\"},\n",
    "  {\"title\": \"Viksit Bharat: Centre to provide Rs 75,000 crore interest-free loan to states\", \"category\": \"policy_impact\"},\n",
    "  {\"title\": \"What is Sharpe Ratio in Mutual Fund and What is Its Significance?\", \"category\": \"personal_finance\"},\n",
    "  {\"title\": \"Indraprastha Gas signs MoU to establish Compressed Biogas (CBG) plants\", \"category\": \"corporate_developments\"},\n",
    "  {\"title\": \"'Paytm captain stands strong': Indian startups founders show support for Vijay Shekhar Sharma amid RBI's curbs\", \"category\": \"startup_ecosystem\"},\n",
    "  {\"title\": \"Red Sea crisis disrupts Audi India's supply chain, firm eyes recovery soon\", \"category\": \"corporate_developments\"},\n",
    "  {\"title\": \"Interim Budget: Infra focus, fiscal prudence are positives for street\", \"category\": \"policy_impact\"},\n",
    "  {\"title\": \"Biggest consumer fintech trends to watch in 2024\", \"category\": \"market_strategies\"},\n",
    "  {\"title\": \"Parliament Budget Session: India's coal production rises 10.3% to 99.73 MT in Jan 2024\", \"category\": \"economic_trends\"},\n",
    "  {\"title\": \"Sterling & Wilson subsidiary mulls legal action for Australia contract termination\", \"category\": \"corporate_developments\"},\n",
    "  {\"title\": \"E-commerce startup ShipBob seeks to hire banks for 2024 IPO -sources\", \"category\": \"startup_ecosystem\"},\n",
    "  {\"title\": \"'India moving fast in defence production, 2,920 items indigenised so far'\", \"category\": \"policy_impact\"},\n",
    "  {\"title\": \"FM Nirmala Sitharaman calls for more SBI-sized banks as India's economy grows\", \"category\": \"policy_impact\"},\n",
    "  {\"title\": \"Budget: Govt panel to look into India's demographic challenges\", \"category\": \"policy_impact\"},\n",
    "  {\"title\": \"Rajdarshan Ind Standalone December 2023 Net Sales at Rs 0.68 crore, up 69.53% Y-o-Y\", \"category\": \"corporate_developments\"},\n",
    "  {\"title\": \"La Opala RG Standalone December 2023 Net Sales at Rs 107.14 crore, down 15.22% Y-o-Y\", \"category\": \"corporate_developments\"},\n",
    "  {\"title\": \"Hudson Pacific Properties Reports Fourth Quarter 2023 Financial Results\", \"category\": \"corporate_developments\"},\n",
    "  {\"title\": \"How Twitter's descent into chaos is paving the way for a new web\", \"category\": \"corporate_developments\"},\n",
    "  {\"title\": \"Russia extends permit for LNG supplies to Germany's SEFE until 2040\", \"category\": \"corporate_developments\"},\n",
    "  {\"title\": \"Competent Auto Standalone December 2023 Net Sales at Rs 669.30 crore, up 29.3% Y-o-Y\", \"category\": \"corporate_developments\"},\n",
    "  {\"title\": \"D2C Brand Yu Raises Capital To Expand Food Products Portfolio\", \"category\": \"startup_ecosystem\"},\n",
    "  {\"title\": \"Q3 results today: Maruti Suzuki, Sun Pharma, Ambuja Cements, Dabur, Bank of Baroda and more\", \"category\": \"corporate_developments\"},\n",
    "  {\"title\": \"Inani Marbles Standalone December 2023 Net Sales at Rs 13.54 crore, up 23.96% Y-o-Y\", \"category\": \"corporate_developments\"},\n",
    "  {\"title\": \"How to Get a Personal Loan without Income Proof?\", \"category\": \"personal_finance\"},\n",
    "  {\"title\": \"Exclusive: Rubrik plans April listing amid U.S. probe into former employee -sources\", \"category\": \"market_strategies\"},\n",
    "  {\"title\": \"Tata Chemicals Share Price Live blog for 13 Feb 2024\", \"category\": \"market_strategies\"},\n",
    "  {\"title\": \"Fintech major Paytm denies any ED investigation into money laundering\", \"category\": \"corporate_developments\"},\n",
    "  {\"title\": \"Stove Kraft Standalone December 2023 Net Sales at Rs 361.59 crore, up 11.42% Y-o-Y\", \"category\": \"corporate_developments\"},\n",
    "  {\"title\": \"RBI MPC 2024: Governor Shaktikanta Das highlights initial nine points of the policy review\", \"category\": \"policy_impact\"},\n",
    "  {\"title\": \"Buy TeamLease; target of Rs 3450: Motilal Oswal\", \"category\": \"market_strategies\"},\n",
    "  {\"title\": \"PharmEasy-Owned Thyrocare To Acquire Think Health Diagnostics To Offer ECG Services At Home\", \"category\": \"corporate_developments\"},\n",
    "  {\"title\": \"If There's 1 Must-Have Investment in Your Portfolio, It's This ETF\", \"category\": \"personal_finance\"},\n",
    "  {\"title\": \"Veer Energy & Infrastructure standalone net profit declines 84.62% in the December 2023 quarter\", \"category\": \"corporate_developments\"},\n",
    "  {\"title\": \"Who gained and who lost in PM Modi’s last budget before polls\", \"category\": \"policy_impact\"},\n",
    "  {\"title\": \"India's Paytm bank's slow drop-off in transactions may prompt deadline extension -sources\", \"category\": \"corporate_developments\"},\n",
    "  {\"title\": \"Prime Focus Consolidated December 2023 Net Sales at Rs 840.85 crore, down 23.97% Y-o-Y\", \"category\": \"corporate_developments\"},\n",
    "  {\"title\": \"9 in 10 Indian manufacturers expect higher production this quarter — domestic demand a key highlight: FICCI\", \"category\": \"economic_trends\"},\n",
    "  {\"title\": \"RCF to roll out first prototype of Vande Metro coach by April: S Srinivas\", \"category\": \"corporate_developments\"},\n",
    "  {\"title\": \"US farm exports hit three-year low in 2023 as China slows buying -Braun\", \"category\": \"economic_trends\"},\n",
    "  {\"title\": \"Lancer Containe Standalone December 2023 Net Sales at Rs 104.83 crore, down 22.96% Y-o-Y\", \"category\": \"corporate_developments\"},\n",
    "  {\"title\": \"Interim Budget 2024: Youth scaling new heights in sports - Sitharaman\", \"category\": \"policy_impact\"},\n",
    "  {\"title\": \"Deductions on Salary Under Section 16 of the Income Tax Act, 1961\", \"category\": \"personal_finance\"},\n",
    "  {\"title\": \"Swadeshi Polyte Standalone December 2023 Net Sales at Rs 54.55 crore, up 448.26% Y-o-Y\", \"category\": \"corporate_developments\"},\n",
    "  {\"title\": \"Dividend news: Page Industries to give 3rd interim dividend of ₹100 per equity share\", \"category\": \"market_strategies\"},\n",
    "  {\"title\": \"Know the incentives of those selling you a financial product – Varsity by Zerodha\", \"category\": \"personal_finance\"},\n",
    "  {\"title\": \"Sensex falls amid weakness in banking stocks, analysts eye Nifty to reclaim 22,000 for renewed rally\", \"category\": \"market_strategies\"},\n",
    "  {\"title\": \"Fed's Collins says her baseline expectation is 75 bps of rate cuts this year\", \"category\": \"economic_trends\"},\n",
    "  {\"title\": \"Commercial Drone Alliance and Massachusetts Institute of Technology Lincoln Laboratory Announce Research Partnership\", \"category\": \"corporate_developments\"},\n",
    "  {\"title\": \"Sinnar Bidi Standalone December 2023 Net Sales at Rs 1.21 crore, down 29.52% Y-o-Y\", \"category\": \"corporate_developments\"},\n",
    "  {\"title\": \"India's January CPI inflation eases to 5.10%, core inflation drops to 3.6%\", \"category\": \"economic_trends\"},\n",
    "  {\"title\": \"Berger Paints India Share Price Live blog for 13 Feb 2024\", \"category\": \"market_strategies\"},\n",
    "  {\"title\": \"Will the Interim Budget 2024 give relief to debt mutual fund schemes?\", \"category\": \"policy_impact\"},\n",
    "  {\"title\": \"ADM closes on flavor company purchase amid accounting probe\", \"category\": \"corporate_developments\"},\n",
    "  {\"title\": \"SAIL shares fall 5% as Q3 profit suffers a 22% dent\", \"category\": \"market_strategies\"},\n",
    "  {\"title\": \"Operating Leverage: What It Is, How It Works, How to Calculate\", \"category\": \"market_strategies\"},\n",
    "  {\"title\": \"Nirmala Sitharaman invokes Vajpayee, Shastri's iconic slogan in Budget 2024 speech\", \"category\": \"policy_impact\"},\n",
    "  {\"title\": \"Embraer, Mahindra sign deal to collaborate on C-390 transport aircraft\", \"category\": \"corporate_developments\"},\n",
    "  {\"title\": \"Zee Entertain Standalone December 2023 Net Sales at Rs 1,914.20 crore, down 0.88% Y-o-Y\", \"category\": \"corporate_developments\"},\n",
    "  {\"title\": \"Corporate Affairs Ministry To Review CCI’s Performance Amid Delay In Antitrust Probes\", \"category\": \"policy_impact\"},\n",
    "  {\"title\": \"Skipper Q3 net profit jumps 115% to Rs 20.4 crore\", \"category\": \"market_strategies\"},\n",
    "  {\"title\": \"India's United Breweries posts Q3 profit\", \"category\": \"market_strategies\"},\n",
    "  {\"title\": \"Vision Sensing Acquisition Corp. Announces Payment of Fee to Extend Period to Consummate Initial Business Combination to March 3, 2024\", \"category\": \"market_strategies\"},\n",
    "  {\"title\": \"ANMI approves proposal to extend trading hours for index futures: Report\", \"category\": \"market_strategies\"},\n",
    "  {\"title\": \"India aims to raise up to $2.4 bn selling stakes in state-run firms\", \"category\": \"policy_impact\"},\n",
    "  {\"title\": \"Budget 2024 highlights: Jal Marg Vikas Project allocation\", \"category\": \"policy_impact\"},\n",
    "  {\"title\": \"Cyber Media (India) consolidated net profit declines 68.06% in the December 2023 quarter\", \"category\": \"corporate_developments\"},\n",
    "  {\"title\": \"These Return Metrics Don't Make Kerjaya Prospek Group Berhad (KLSE:KERJAYA) Look Too Strong\", \"category\": \"market_strategies\"},\n",
    "  {\"title\": \"Cracking the code: How to master UPI fraud management? MintGenie explains\", \"category\": \"personal_finance\"},\n",
    "  {\"title\": \"Budget 2024: No profound impact on market; global cues to dictate trends, says Vinod Nair of Geojit Financial Services\", \"category\": \"market_strategies\"},\n",
    "  {\"title\": \"Exicure, Inc. and Bluejay Therapeutics Inc. Enter into a Patent License Agreement to Develop Cavrotolimod for the Treatment of Hepatitis\", \"category\": \"corporate_developments\"},\n",
    "  {\"title\": \"Builders seek interest rate cut in RBI's next meet to boost housing demand\", \"category\": \"policy_impact\"},\n",
    "  {\"title\": \"Manappuram Fin Standalone December 2023 Net Sales at Rs 1,522.05 crore, up 22.46% Y-o-Y\", \"category\": \"corporate_developments\"},\n",
    "  {\"title\": \"Prime Focus Standalone December 2023 Net Sales at Rs 7.12 crore, down 1.69% Y-o-Y\", \"category\": \"corporate_developments\"},\n",
    "  {\"title\": \"How stock experts minted money from TV shows\", \"category\": \"market_strategies\"},\n",
    "  {\"title\": \"BoI MF aims to raise Rs 500 cr from multi-asset allocation fund in NFO\", \"category\": \"personal_finance\"},\n",
    "  {\"title\": \"NPCI appoints Ajay Kumar Choudhary as non-executive chairman of board\", \"category\": \"corporate_developments\"},\n",
    "  {\"title\": \"Regent Ent Standalone December 2023 Net Sales at Rs 181.05 crore, down 11.44% Y-o-Y\", \"category\": \"corporate_developments\"},\n",
    "  {\"title\": \"RBI clampdown on Paytm Payments Bank followed persistent non-compliance\", \"category\": \"corporate_developments\"},\n",
    "  {\"title\": \"A quick guide to India's Interim Budget\", \"category\": \"policy_impact\"},\n",
    "  {\"title\": \"20 Best Liquid Funds to Invest in India (April 2023)\", \"category\": \"personal_finance\"},\n",
    "  {\"title\": \"Why JPMorgan Chase Is Banking on Opening 500 New U.S. Locations\", \"category\": \"corporate_developments\"},\n",
    "  {\"title\": \"What is the Full Form of IFSC Code and How to Find it?\", \"category\": \"personal_finance\"},\n",
    "  {\"title\": \"Luxury group Zegna to open new shoe and leather goods factory in Italy\", \"category\": \"corporate_developments\"},\n",
    "  {\"title\": \"MSCI rejig on Feb 13: Jindal Stainless, PNB, BHEL, among others likely to enter global index\", \"category\": \"market_strategies\"},\n",
    "  {\"title\": \"I-T dept collects over Rs 1,260 cr in TDS from online gaming, crypto trade\", \"category\": \"policy_impact\"},\n",
    "  {\"title\": \"The US Is Investing $5B in Chip R&D—Here's What You Need to Know\", \"category\": \"policy_impact\"},\n",
    "  {\"title\": \"What are Small-Cap Mutual Funds - Benefits, Taxation and Risks\", \"category\": \"personal_finance\"},\n",
    "  {\"title\": \"India Budget: Manufacturing seeks business-friendly policies, thrust on innovation\", \"category\": \"policy_impact\"},\n",
    "  {\"title\": \"Google To Spearhead AI-Led Development In Maharashtra\", \"category\": \"policy_impact\"},\n",
    "  {\"title\": \"Why the e-bike boom is raising fire fears\", \"category\": \"market_strategies\"},\n",
    "  {\"title\": \"Vibhor Steel Tubes garners Rs 22 cr from anchor investors\", \"category\": \"market_strategies\"},\n",
    "  {\"title\": \"What are Indian Government Bonds - Types and Interest Rates\", \"category\": \"personal_finance\"},\n",
    "  {\"title\": \"Short sellers take bets on nearly 8% of German bank PBB, filings show\", \"category\": \"market_strategies\"},\n",
    "  {\"title\": \"CGI Inc. (TSE:GIB.A) Just Reported And Analysts Have Been Lifting Their Price Targets\", \"category\": \"market_strategies\"},\n",
    "  {\"title\": \"Amazon to cut a few hundred jobs at healthcare units\", \"category\": \"corporate_developments\"},\n",
    "  {\"title\": \"Unilever takes sales hit in Indonesia over anti-Israel boycotts\", \"category\": \"corporate_developments\"},\n",
    "  {\"title\": \"India's retail inflation eases to 3-month low of 5.1% in January 2024\", \"category\": \"economic_trends\"},\n",
    "  {\"title\": \"Shree Kr Paper Standalone December 2023 Net Sales at Rs 25.97 crore, down 36.49% Y-o-Y\", \"category\": \"corporate_developments\"},\n",
    "  {\"title\": \"Stock market today: Why Bank stocks are rising ahead of US CPI data release — explained with two reasons\", \"category\": \"market_strategies\"},\n",
    "  {\"title\": \"FPIs on bullish stance; infuse over Rs 15,000 cr in debt market in Feb | News on Markets - Business Standard\", \"category\": \"market_strategies\"},\n",
    "  {\"title\": \"Reliance Industries becomes India's first ₹20 lakh crore company; stock at record high\", \"category\": \"market_strategies\"},\n",
    "  {\"title\": \"Gokaldas Exports completes acquisition of Coral Investments\", \"category\": \"corporate_developments\"},\n",
    "  {\"title\": \"Sharif Party to Hold Talks With Rival on Pakistan Coalition\", \"category\": \"economic_trends\"},\n",
    "  {\"title\": \"Interim Budget FY24-25 — why it conveys a clear message for the upcoming elections\", \"category\": \"policy_impact\"},\n",
    "  {\"title\": \"Wires and Fabri Standalone December 2023 Net Sales at Rs 29.02 crore, up 2.91% Y-o-Y\", \"category\": \"corporate_developments\"},\n",
    "  {\"title\": \"5 takeaways from the Interim Budget 2024 for investors\", \"category\": \"market_strategies\"},\n",
    "  {\"title\": \"Ageas Federal Life Insurance launches Multicap Fund in ULIP portfolio\", \"category\": \"personal_finance\"},\n",
    "  {\"title\": \"Vibhor Steel Tubes IPO fully subscribed: GMP, subscription status, review, other details in 10 points. Apply or not?\", \"category\": \"market_strategies\"},\n",
    "  {\"title\": \"Joe Biden Wants to Make Big Changes to Social Security: 10 Things You Need to Know\", \"category\": \"economic_trends\"},\n",
    "  {\"title\": \"PayPal Stock Slides as Company Transformation Weighs on Guidance—Key Price Levels to Watch\", \"category\": \"market_strategies\"},\n",
    "  {\"title\": \"Congo's Gecamines and Entreprise Generale du Cobalt sign mining deal\", \"category\": \"corporate_developments\"},\n",
    "  {\"title\": \"What Is Prime Cost? Definition, Formula, Calculation, and Purpose\", \"category\": \"market_strategies\"},\n",
    "  {\"title\": \"Apollo Tyres Share Price Live blog for 13 Feb 2024\", \"category\": \"market_strategies\"},\n",
    "  {\"title\": \"India aims to lower fiscal deficit to 5.8% this year, expects 10.5% nominal GDP growth in dollar terms\", \"category\": \"policy_impact\"},\n",
    "  {\"title\": \"Paushak standalone net profit declines 9.25% in the December 2023 quarter\", \"category\": \"corporate_developments\"},\n",
    "  {\"title\": \"Polychem Standalone December 2023 Net Sales at Rs 9.48 crore, up 11.81% Y-o-Y\", \"category\": \"corporate_developments\"},\n",
    "  {\"title\": \"UPI, RuPay services to be launched in Sri Lanka, Mauritius on Monday\", \"category\": \"corporate_developments\"},\n",
    "  {\"title\": \"Do you evaluate before availing a loan?\", \"category\": \"personal_finance\"},\n",
    "  {\"title\": \"Air India launches Namaste World Sale. Price, date, other details\", \"category\": \"market_strategies\"},\n",
    "  {\"title\": \"Can go to NCLT to enforce Sony merger deal after SIAC rejects petition: Zee\", \"category\": \"corporate_developments\"},\n",
    "  {\"title\": \"VRL Logistics standalone net profit declines 72.26% in the December 2023 quarter\", \"category\": \"corporate_developments\"},\n",
    "  {\"title\": \"Opinion: Sitharaman's growth push finds a dependable ally in RBI\", \"category\": \"policy_impact\"},\n",
    "  {\"title\": \"Goldman Sachs Fund Unit Finds Value After Green Market Rout\", \"category\": \"market_strategies\"},\n",
    "  {\"title\": \"Italy readies targeted tax breaks for farmers, minister says\", \"category\": \"policy_impact\"},\n",
    "  {\"title\": \"Creative New Standalone December 2023 Net Sales at Rs 493.06 crore, up 20.25% Y-o-Y\", \"category\": \"corporate_developments\"},\n",
    "  {\"title\": \"What are the Advantages and Disadvantages of Credit Card?\", \"category\": \"personal_finance\"},\n",
    "  {\"title\": \"Anarock’s expansion plan: Setting up office brokerage platform with ₹200 crore investment\", \"category\": \"corporate_developments\"},\n",
    "  {\"title\": \"What is Treasury Bill (T-Bill)? - Meaning, Types, Features and Benefits\", \"category\": \"personal_finance\"},\n",
    "  {\"title\": \"Interim Budget: Ayushman Bharat cover to be extended to all ASHA workers\", \"category\": \"policy_impact\"},\n",
    "  {\"title\": \"Saudi Arabia considers $10 bln Aramco share sale, Bloomberg reports\", \"category\": \"market_strategies\"},\n",
    "  {\"title\": \"Hyundai picks JP Morgan, Citi and HSBC as advisors for mega IPO of India arm\", \"category\": \"market_strategies\"},\n",
    "  {\"title\": \"RBI action against Paytm will hit ordinary Indians most: Cong slams govt\", \"category\": \"policy_impact\"},\n",
    "  {\"title\": \"Budget 2024: Tax exemption deadline extended by one year for these categories\", \"category\": \"policy_impact\"},\n",
    "  {\"title\": \"Star Health Standalone December 2023 Net Sales at Rs 3,578.35 crore, up 16.46% Y-o-Y\", \"category\": \"corporate_developments\"},\n",
    "  {\"title\": \"RBI on Paytm Payments Bank: Not a case of regulatory deficiency, but issue of compliance, says Governor Das\", \"category\": \"policy_impact\"},\n",
    "  {\"title\": \"Indonesia 2023 GDP growth slows to 5.1% on falling commodity prices\", \"category\": \"economic_trends\"},\n",
    "  {\"title\": \"United Drilling Standalone December 2023 Net Sales at Rs 34.04 crore, up 28.42% Y-o-Y\", \"category\": \"corporate_developments\"},\n",
    "  {\"title\": \"GST fake invoices: Govt to do away with edit option to revise output liability, says Revenue Secretary\", \"category\": \"policy_impact\"},\n",
    "  {\"title\": \"Neil Diamond’s \\\"I Am… I Said\\\" Featured in Volkswagen’s \\\"An American Love Story\\\" Extended Cut in Advance of Super Bowl LVIII Advertisement\", \"category\": \"corporate_developments\"},\n",
    "  {\"title\": \"VeriSign Inc Reports Solid Financial Growth Amidst Global Economic Challenges\", \"category\": \"corporate_developments\"},\n",
    "  {\"title\": \"Housing Expense Ratio: What it is, How it Works\", \"category\": \"personal_finance\"},\n",
    "  {\"title\": \"Paytm Bank fiasco: Mutual funds that have highest and lowest exposure to Vijay Shekhar Sharma's Paytm\", \"category\": \"market_strategies\"},\n",
    "  {\"title\": \"Olympic Fin Ser Standalone December 2023 Net Sales at Rs 0.02 crore, down 6.59% Y-o-Y\", \"category\": \"corporate_developments\"},\n",
    "  {\"title\": \"Mahadev Online Book Promoters Under DGGI Scanner For GST Dues Worth INR 30,000 Cr\", \"category\": \"policy_impact\"},\n",
    "  {\"title\": \"SoftBank-backed Meesho unveils Valmo to enable low-cost deliveries\", \"category\": \"startup_ecosystem\"},\n",
    "  {\"title\": \"No fixed disinvestment target in FY25 Budget, says DIPAM Secretary\", \"category\": \"policy_impact\"},\n",
    "  {\"title\": \"Paytm Money rebuffs media report on CDSL's scrutiny of KYC process, says it is 'routine audit’\", \"category\": \"corporate_developments\"},\n",
    "  {\"title\": \"Cabinet approves six multi-tracking projects worth Rs 12,000 crore\", \"category\": \"policy_impact\"},\n",
    "  {\"title\": \"Sovereign Gold Bonds 2016 Series I to give 101% profit at maturity: Check final redemption date\", \"category\": \"personal_finance\"},\n",
    "  {\"title\": \"State Bank of India eyes 12-13% growth in international loan book\", \"category\": \"corporate_developments\"},\n",
    "  {\"title\": \"Tax on Dividend Income: Sources, Tax Rate and TDS on dividend income\", \"category\": \"personal_finance\"},\n",
    "  {\"title\": \"Digjam Standalone December 2023 Net Sales at Rs 5.78 crore, down 35.27% Y-o-Y\", \"category\": \"corporate_developments\"},\n",
    "  {\"title\": \"Week Ahead: Inflation data, Q3 results, global cues among key market triggers this week\", \"category\": \"market_strategies\"},\n",
    "  {\"title\": \"Virgin Galactic reports flight-related issue to FAA\", \"category\": \"corporate_developments\"},\n",
    "  {\"title\": \"Eicher Motors Share Price Live blog for 13 Feb 2024\", \"category\": \"market_strategies\"},\n",
    "  {\"title\": \"Thai PM: will keep urging c.bank to cut rates\", \"category\": \"economic_trends\"},\n",
    "  {\"title\": \"China’s small-cap crash shows what happens without market rescue\", \"category\": \"market_strategies\"},\n",
    "  {\"title\": \"From ABBA to SRK: 3 hidden money lessons from movies and music to bloom this Valentine's Day 2024\", \"category\": \"personal_finance\"},\n",
    "  {\"title\": \"PM-KISAN e-KYC deadline today! Here's how to secure your ₹2000 instalment\", \"category\": \"policy_impact\"},\n",
    "  {\"title\": \"BJP vs Congress: Centre refutes Karnataka's claims as face-off over tax devolution heats up\", \"category\": \"policy_impact\"},\n",
    "  {\"title\": \"Why Steris (STE) is a Top Growth Stock for the Long-Term\", \"category\": \"market_strategies\"},\n",
    "  {\"title\": \"Indusind Bank Share Price Live blog for 13 Feb 2024\", \"category\": \"market_strategies\"},\n",
    "  {\"title\": \"Centre's white paper lists how Modi govt 'rescued economy from state of crisis'\", \"category\": \"policy_impact\"},\n",
    "  {\"title\": \"What happened to Paytm Payments Bank? RBI's clampdown explained\", \"category\": \"corporate_developments\"},\n",
    "  {\"title\": \"Budget and its numbers: A breakdown of key estimates for FY25\", \"category\": \"policy_impact\"},\n",
    "  {\"title\": \"Budget 2024 allocates Rs 57 crore for drone and drone components under PLI scheme\", \"category\": \"policy_impact\"},\n",
    "  {\"title\": \"Viacom18 expands horizon, tunes into live events\", \"category\": \"corporate_developments\"},\n",
    "  {\"title\": \"BS-IMGC India conclave: Redefining role of financiers in housing ecosystem\", \"category\": \"policy_impact\"},\n",
    "  {\"title\": \"Software firm Everbridge to be taken private by Thoma Bravo in $1.5 bln deal\", \"category\": \"market_strategies\"},\n",
    "  {\"title\": \"Liquidity Adjustment Facility (LAF): Meaning, Importance and Roles\", \"category\": \"economic_trends\"},\n",
    "  {\"title\": \"Bunge posts profit beat, warns weaker margins to dent 2024 results\", \"category\": \"corporate_developments\"},\n",
    "  {\"title\": \"ISEE Commercially Deploys World’s First Fully Autonomous Truck Yard\", \"category\": \"corporate_developments\"},\n",
    "  {\"title\": \"MM Forgings Standalone December 2023 Net Sales at Rs 387.75 crore, up 7.39% Y-o-Y\", \"category\": \"corporate_developments\"},\n",
    "  {\"title\": \"EaseMyTrip Eyes Foray Into Hospitality Space With 5-Star Hotel In Ayodhya\", \"category\": \"corporate_developments\"},\n",
    "  {\"title\": \"Natural Capsules standalone net profit declines 67.62% in the December 2023 quarter\", \"category\": \"corporate_developments\"},\n",
    "  {\"title\": \"Why the $5.2 billion sale of Russia's Yandex is significant\", \"category\": \"market_strategies\"},\n",
    "  {\"title\": \"Market Action: 4 IPOs to open for subscription, 9 companies scheduled for debut on bourses next week\", \"category\": \"market_strategies\"},\n",
    "  {\"title\": \"US recall says Tesla brake warnings were too small\", \"category\": \"corporate_developments\"},\n",
    "  {\"title\": \"With neutral policy tone & liquidity management, rate cut unlikely any time soon\", \"category\": \"economic_trends\"},\n",
    "  {\"title\": \"Marketbuzz Podcast with Kanishka Sarkar: Here are 10 key talking points\", \"category\": \"market_strategies\"},\n",
    "  {\"title\": \"Interim Budget makes no attempt to woo voters, says Harsh Gupta\", \"category\": \"policy_impact\"},\n",
    "  {\"title\": \"Scandal-hit business group will survive, says new boss\", \"category\": \"corporate_developments\"},\n",
    "  {\"title\": \"GST collections to drive FY25 gross tax revenue to Rs 38.31 trillion\", \"category\": \"policy_impact\"},\n",
    "  {\"title\": \"Ryanair CEO: Boeing quality is a concern, further delays possible\", \"category\": \"corporate_developments\"},\n",
    "  {\"title\": \"Fed Chair Powell faces tough communications task on rate cuts ahead\", \"category\": \"economic_trends\"},\n",
    "  {\"title\": \"AbbVie Cuts Its Guidance on ImmunoGen Deal\", \"category\": \"corporate_developments\"},\n",
    "  {\"title\": \"Jana Small Finance Bank IPO opens next week. Price band fixed at ₹393 to ₹414 per share\", \"category\": \"market_strategies\"},\n",
    "  {\"title\": \"FM Sitharaman allocates Rs 13,042 crore to Department of Space in interim Budget, marking 18% increase\", \"category\": \"policy_impact\"},\n",
    "  {\"title\": \"IMF's Kristalina Georgieva says she's confident on global economic outlook despite uncertainties\", \"category\": \"economic_trends\"},\n",
    "  {\"title\": \"66 Nifty 500 stocks rallied between 20% and 104% in CY24 so far; NBCC, SJVN, UCO Bank among top performers\", \"category\": \"market_strategies\"},\n",
    "  {\"title\": \"How to Check Your TDS Status by Using Your PAN Card?\", \"category\": \"personal_finance\"},\n",
    "  {\"title\": \"Cochin Minerals Standalone December 2023 Net Sales at Rs 82.16 crore, down 30.98% Y-o-Y\", \"category\": \"corporate_developments\"},\n",
    "  {\"title\": \"Ralph Lauren rides strong holiday demand, China rebound to post upbeat results\", \"category\": \"corporate_developments\"},\n",
    "  {\"title\": \"Could a standalone non-profit be the answer to FAA oversight of Boeing?\", \"category\": \"policy_impact\"},\n",
    "  {\"title\": \"Tesla opens first South America store in Chilean capital\", \"category\": \"market_strategies\"},\n",
    "  {\"title\": \"Ukraine's farm unions ask government to protect free EU market access\", \"category\": \"policy_impact\"},\n",
    "  {\"title\": \"Sovereign Gold Bond Scheme 2023-24 Series IV opens — a look at historical returns\", \"category\": \"personal_finance\"},\n",
    "  {\"title\": \"Bayer CEO says company stands behind glyphosate\", \"category\": \"corporate_developments\"},\n",
    "  {\"title\": \"Paytm wallet business at risk as licence transfer uncertain: Report\", \"category\": \"corporate_developments\"},\n",
    "  {\"title\": \"Budget 2024: Govt allocates ₹1,200 crore for North-east gas subsidy scheme\", \"category\": \"policy_impact\"},\n",
    "  {\"title\": \"Bank of Canada says more time needed to bring down inflation\", \"category\": \"economic_trends\"},\n",
    "  {\"title\": \"Ucal opens an after-market division\", \"category\": \"corporate_developments\"},\n",
    "  {\"title\": \"India's Ola Electric considers bid for lithium mining rights, sources say\", \"category\": \"corporate_developments\"},\n",
    "  {\"title\": \"Budget 2024 Key Highlights LIVE Updates: No changes in direct, indirect tax rates; FY25 fiscal deficit target at 5.1%\", \"category\": \"policy_impact\"},\n",
    "  {\"title\": \"Zambian businessman loses London lawsuit against Bob Diamond's Atlas Mara\", \"category\": \"economic_trends\"},\n",
    "  {\"title\": \"Karnataka HC tells state to recover stuck homebuyers' money within 4 months\", \"category\": \"policy_impact\"},\n",
    "  {\"title\": \"Shinjini Kumar resigned from PPBL board, attended 2 meets as special guest\", \"category\": \"corporate_developments\"},\n",
    "  {\"title\": \"Disney answers activists with gaming investment, ESPN streaming plans\", \"category\": \"corporate_developments\"},\n",
    "  {\"title\": \"Budget 2024 showcases positive macro picture: Fiscal recovery, capex-led growth, and surging corporate profits\", \"category\": \"policy_impact\"},\n",
    "  {\"title\": \"Different Types of Debit Cards in India\", \"category\": \"personal_finance\"},\n",
    "  {\"title\": \"Tax Lien Foreclosure: Definition, How It Works, Vs. Tax Deed Sale\", \"category\": \"personal_finance\"},\n",
    "  {\"title\": \"RBI Policy: India's real GDP growth for FY25 projected at 7%\", \"category\": \"policy_impact\"},\n",
    "  {\"title\": \"Vascon Engineer Consolidated December 2023 Net Sales at Rs 280.25 crore, up 10.33% Y-o-Y\", \"category\": \"corporate_developments\"},\n",
    "  {\"title\": \"Is Cyprus Considered a Tax Haven?\", \"category\": \"economic_trends\"},\n",
    "  {\"title\": \"Petrobras in talks for projects with Gulf, Indian, Chinese firms, CEO says\", \"category\": \"corporate_developments\"},\n",
    "  {\"title\": \"Cummins urges continued infrastructure spending and GST subsidies in Budget 2024\", \"category\": \"policy_impact\"},\n",
    "  {\"title\": \"Shri Jagdamba Standalone December 2023 Net Sales at Rs 70.61 crore, up 8.7% Y-o-Y\", \"category\": \"corporate_developments\"},\n",
    "  {\"title\": \"RBI keeps repo rate unchanged. What does that mean for your home loan EMI\", \"category\": \"policy_impact\"},\n",
    "  {\"title\": \"Beware of Pig Butchering Scams – Varsity by Zerodha\", \"category\": \"personal_finance\"},\n",
    "  {\"title\": \"Jeff Bezos Sells Nearly 12 Million Amazon Shares Worth at Least $2 Billion\", \"category\": \"market_strategies\"},\n",
    "  {\"title\": \"Short Run and Long Run Cost\", \"category\": \"market_strategies\"},\n",
    "  {\"title\": \"Mallcom (India) Standalone December 2023 Net Sales at Rs 92.01 crore, down 3.4% Y-o-Y\", \"category\": \"corporate_developments\"},\n",
    "  {\"title\": \"LIC Housing Finance expects to report 15% improvement in FY25 loan book\", \"category\": \"market_strategies\"},\n",
    "  {\"title\": \"Brightcom Group Share Price Live blog for 13 Feb 2024\", \"category\": \"market_strategies\"},\n",
    "  {\"title\": \"ONGC in talks to restart Libya operations, expand in Venezuela: Report\", \"category\": \"corporate_developments\"},\n",
    "  {\"title\": \"Sovereign Gold Bond: Various investment platforms offer options to invest in SGB; how it is compared to physical gold\", \"category\": \"personal_finance\"},\n",
    "  {\"title\": \"Heartland Express Inc (HTLD) Reports Record Annual Operating Revenue Amidst Industry Challenges\", \"category\": \"corporate_developments\"},\n",
    "  {\"title\": \"DMR Hydroengineering & Infrastructures invests subscribes to rights issue of DM Consulting\", \"category\": \"corporate_developments\"},\n",
    "  {\"title\": \"Kazakhstan's Air Astana raises $120 mln in dual London, local IPO\", \"category\": \"market_strategies\"}'''"
   ]
  },
  {
   "cell_type": "code",
   "execution_count": 62,
   "id": "8a6f2aea-67a1-48ff-abad-6a1fe3696433",
   "metadata": {
    "tags": []
   },
   "outputs": [],
   "source": [
    "import json"
   ]
  },
  {
   "cell_type": "code",
   "execution_count": 93,
   "id": "90134068-e52d-4153-8e34-db05f931354d",
   "metadata": {
    "tags": []
   },
   "outputs": [],
   "source": [
    "res = responses_from_gpt.replace('\\n','')"
   ]
  },
  {
   "cell_type": "code",
   "execution_count": 94,
   "id": "a364945f-2d9b-4c29-99de-ed1926b7a114",
   "metadata": {
    "tags": []
   },
   "outputs": [],
   "source": [
    "k = res.split('},')"
   ]
  },
  {
   "cell_type": "code",
   "execution_count": 95,
   "id": "b1e4118e-b71c-4b16-b581-7bfbc53bced1",
   "metadata": {
    "tags": []
   },
   "outputs": [],
   "source": [
    "k1 = []\n",
    "for x in k:\n",
    "    try:\n",
    "        k1.append(json.loads(x + '}'))\n",
    "    except:\n",
    "        pass"
   ]
  },
  {
   "cell_type": "code",
   "execution_count": 97,
   "id": "5eafe815-6aa2-4baf-ac4b-ec3658ac0642",
   "metadata": {
    "tags": []
   },
   "outputs": [
    {
     "name": "stderr",
     "output_type": "stream",
     "text": [
      "2024-02-15 12:42:03,463| ERROR   | Could not establish connection from local ('127.0.0.1', 3712) to remote ('insight-beta-article-db.cluster-chmaiagjipqy.ap-south-1.docdb.amazonaws.com', 27017) side of the tunnel: open new channel ssh error: SSH session not active\n"
     ]
    }
   ],
   "source": [
    "dfk = pd.DataFrame(k1)"
   ]
  },
  {
   "cell_type": "code",
   "execution_count": 98,
   "id": "6c3891f2-5169-457a-a81f-4aea1ff7825a",
   "metadata": {
    "tags": []
   },
   "outputs": [
    {
     "data": {
      "text/plain": [
       "category\n",
       "corporate_developments    105\n",
       "economic_trends            18\n",
       "market_strategies          58\n",
       "personal_finance           29\n",
       "policy_impact              62\n",
       "startup_ecosystem           6\n",
       "Name: title, dtype: int64"
      ]
     },
     "execution_count": 98,
     "metadata": {},
     "output_type": "execute_result"
    }
   ],
   "source": [
    "dfk.groupby('category')['title'].count()"
   ]
  },
  {
   "cell_type": "code",
   "execution_count": null,
   "id": "1944be50-6016-4622-bdfb-c023f967e769",
   "metadata": {
    "tags": []
   },
   "outputs": [],
   "source": [
    "dfk[dfk.category == 'economic_trends']"
   ]
  },
  {
   "cell_type": "code",
   "execution_count": null,
   "id": "8cea21bf-cd99-4d36-8a90-046d33a0a2bb",
   "metadata": {},
   "outputs": [],
   "source": []
  },
  {
   "cell_type": "code",
   "execution_count": 88,
   "id": "72e5aca9-4694-4bad-af48-259945dd0df6",
   "metadata": {
    "tags": []
   },
   "outputs": [
    {
     "data": {
      "text/plain": [
       "213"
      ]
     },
     "execution_count": 88,
     "metadata": {},
     "output_type": "execute_result"
    },
    {
     "name": "stderr",
     "output_type": "stream",
     "text": [
      "2024-02-15 12:39:22,316| ERROR   | Could not establish connection from local ('127.0.0.1', 3712) to remote ('insight-beta-article-db.cluster-chmaiagjipqy.ap-south-1.docdb.amazonaws.com', 27017) side of the tunnel: open new channel ssh error: SSH session not active\n"
     ]
    }
   ],
   "source": [
    "len(k1)"
   ]
  },
  {
   "cell_type": "code",
   "execution_count": 81,
   "id": "05ff253c-fd8f-4781-a96a-c6d8c00381e3",
   "metadata": {
    "scrolled": true,
    "tags": []
   },
   "outputs": [
    {
     "ename": "JSONDecodeError",
     "evalue": "Expecting ',' delimiter: line 1 column 37 (char 36)",
     "output_type": "error",
     "traceback": [
      "\u001b[0;31m---------------------------------------------------------------------------\u001b[0m",
      "\u001b[0;31mJSONDecodeError\u001b[0m                           Traceback (most recent call last)",
      "Cell \u001b[0;32mIn[81], line 1\u001b[0m\n\u001b[0;32m----> 1\u001b[0m k \u001b[38;5;241m=\u001b[39m [json\u001b[38;5;241m.\u001b[39mloads(x \u001b[38;5;241m+\u001b[39m \u001b[38;5;124m'\u001b[39m\u001b[38;5;124m}\u001b[39m\u001b[38;5;124m'\u001b[39m) \u001b[38;5;28;01mfor\u001b[39;00m x \u001b[38;5;129;01min\u001b[39;00m k]\n",
      "Cell \u001b[0;32mIn[81], line 1\u001b[0m, in \u001b[0;36m<listcomp>\u001b[0;34m(.0)\u001b[0m\n\u001b[0;32m----> 1\u001b[0m k \u001b[38;5;241m=\u001b[39m [\u001b[43mjson\u001b[49m\u001b[38;5;241;43m.\u001b[39;49m\u001b[43mloads\u001b[49m\u001b[43m(\u001b[49m\u001b[43mx\u001b[49m\u001b[43m \u001b[49m\u001b[38;5;241;43m+\u001b[39;49m\u001b[43m \u001b[49m\u001b[38;5;124;43m'\u001b[39;49m\u001b[38;5;124;43m}\u001b[39;49m\u001b[38;5;124;43m'\u001b[39;49m\u001b[43m)\u001b[49m \u001b[38;5;28;01mfor\u001b[39;00m x \u001b[38;5;129;01min\u001b[39;00m k]\n",
      "File \u001b[0;32m~/anaconda3/envs/bertopicenv/lib/python3.9/json/__init__.py:346\u001b[0m, in \u001b[0;36mloads\u001b[0;34m(s, cls, object_hook, parse_float, parse_int, parse_constant, object_pairs_hook, **kw)\u001b[0m\n\u001b[1;32m    341\u001b[0m     s \u001b[38;5;241m=\u001b[39m s\u001b[38;5;241m.\u001b[39mdecode(detect_encoding(s), \u001b[38;5;124m'\u001b[39m\u001b[38;5;124msurrogatepass\u001b[39m\u001b[38;5;124m'\u001b[39m)\n\u001b[1;32m    343\u001b[0m \u001b[38;5;28;01mif\u001b[39;00m (\u001b[38;5;28mcls\u001b[39m \u001b[38;5;129;01mis\u001b[39;00m \u001b[38;5;28;01mNone\u001b[39;00m \u001b[38;5;129;01mand\u001b[39;00m object_hook \u001b[38;5;129;01mis\u001b[39;00m \u001b[38;5;28;01mNone\u001b[39;00m \u001b[38;5;129;01mand\u001b[39;00m\n\u001b[1;32m    344\u001b[0m         parse_int \u001b[38;5;129;01mis\u001b[39;00m \u001b[38;5;28;01mNone\u001b[39;00m \u001b[38;5;129;01mand\u001b[39;00m parse_float \u001b[38;5;129;01mis\u001b[39;00m \u001b[38;5;28;01mNone\u001b[39;00m \u001b[38;5;129;01mand\u001b[39;00m\n\u001b[1;32m    345\u001b[0m         parse_constant \u001b[38;5;129;01mis\u001b[39;00m \u001b[38;5;28;01mNone\u001b[39;00m \u001b[38;5;129;01mand\u001b[39;00m object_pairs_hook \u001b[38;5;129;01mis\u001b[39;00m \u001b[38;5;28;01mNone\u001b[39;00m \u001b[38;5;129;01mand\u001b[39;00m \u001b[38;5;129;01mnot\u001b[39;00m kw):\n\u001b[0;32m--> 346\u001b[0m     \u001b[38;5;28;01mreturn\u001b[39;00m \u001b[43m_default_decoder\u001b[49m\u001b[38;5;241;43m.\u001b[39;49m\u001b[43mdecode\u001b[49m\u001b[43m(\u001b[49m\u001b[43ms\u001b[49m\u001b[43m)\u001b[49m\n\u001b[1;32m    347\u001b[0m \u001b[38;5;28;01mif\u001b[39;00m \u001b[38;5;28mcls\u001b[39m \u001b[38;5;129;01mis\u001b[39;00m \u001b[38;5;28;01mNone\u001b[39;00m:\n\u001b[1;32m    348\u001b[0m     \u001b[38;5;28mcls\u001b[39m \u001b[38;5;241m=\u001b[39m JSONDecoder\n",
      "File \u001b[0;32m~/anaconda3/envs/bertopicenv/lib/python3.9/json/decoder.py:337\u001b[0m, in \u001b[0;36mJSONDecoder.decode\u001b[0;34m(self, s, _w)\u001b[0m\n\u001b[1;32m    332\u001b[0m \u001b[38;5;28;01mdef\u001b[39;00m \u001b[38;5;21mdecode\u001b[39m(\u001b[38;5;28mself\u001b[39m, s, _w\u001b[38;5;241m=\u001b[39mWHITESPACE\u001b[38;5;241m.\u001b[39mmatch):\n\u001b[1;32m    333\u001b[0m \u001b[38;5;250m    \u001b[39m\u001b[38;5;124;03m\"\"\"Return the Python representation of ``s`` (a ``str`` instance\u001b[39;00m\n\u001b[1;32m    334\u001b[0m \u001b[38;5;124;03m    containing a JSON document).\u001b[39;00m\n\u001b[1;32m    335\u001b[0m \n\u001b[1;32m    336\u001b[0m \u001b[38;5;124;03m    \"\"\"\u001b[39;00m\n\u001b[0;32m--> 337\u001b[0m     obj, end \u001b[38;5;241m=\u001b[39m \u001b[38;5;28;43mself\u001b[39;49m\u001b[38;5;241;43m.\u001b[39;49m\u001b[43mraw_decode\u001b[49m\u001b[43m(\u001b[49m\u001b[43ms\u001b[49m\u001b[43m,\u001b[49m\u001b[43m \u001b[49m\u001b[43midx\u001b[49m\u001b[38;5;241;43m=\u001b[39;49m\u001b[43m_w\u001b[49m\u001b[43m(\u001b[49m\u001b[43ms\u001b[49m\u001b[43m,\u001b[49m\u001b[43m \u001b[49m\u001b[38;5;241;43m0\u001b[39;49m\u001b[43m)\u001b[49m\u001b[38;5;241;43m.\u001b[39;49m\u001b[43mend\u001b[49m\u001b[43m(\u001b[49m\u001b[43m)\u001b[49m\u001b[43m)\u001b[49m\n\u001b[1;32m    338\u001b[0m     end \u001b[38;5;241m=\u001b[39m _w(s, end)\u001b[38;5;241m.\u001b[39mend()\n\u001b[1;32m    339\u001b[0m     \u001b[38;5;28;01mif\u001b[39;00m end \u001b[38;5;241m!=\u001b[39m \u001b[38;5;28mlen\u001b[39m(s):\n",
      "File \u001b[0;32m~/anaconda3/envs/bertopicenv/lib/python3.9/json/decoder.py:353\u001b[0m, in \u001b[0;36mJSONDecoder.raw_decode\u001b[0;34m(self, s, idx)\u001b[0m\n\u001b[1;32m    344\u001b[0m \u001b[38;5;250m\u001b[39m\u001b[38;5;124;03m\"\"\"Decode a JSON document from ``s`` (a ``str`` beginning with\u001b[39;00m\n\u001b[1;32m    345\u001b[0m \u001b[38;5;124;03ma JSON document) and return a 2-tuple of the Python\u001b[39;00m\n\u001b[1;32m    346\u001b[0m \u001b[38;5;124;03mrepresentation and the index in ``s`` where the document ended.\u001b[39;00m\n\u001b[0;32m   (...)\u001b[0m\n\u001b[1;32m    350\u001b[0m \n\u001b[1;32m    351\u001b[0m \u001b[38;5;124;03m\"\"\"\u001b[39;00m\n\u001b[1;32m    352\u001b[0m \u001b[38;5;28;01mtry\u001b[39;00m:\n\u001b[0;32m--> 353\u001b[0m     obj, end \u001b[38;5;241m=\u001b[39m \u001b[38;5;28;43mself\u001b[39;49m\u001b[38;5;241;43m.\u001b[39;49m\u001b[43mscan_once\u001b[49m\u001b[43m(\u001b[49m\u001b[43ms\u001b[49m\u001b[43m,\u001b[49m\u001b[43m \u001b[49m\u001b[43midx\u001b[49m\u001b[43m)\u001b[49m\n\u001b[1;32m    354\u001b[0m \u001b[38;5;28;01mexcept\u001b[39;00m \u001b[38;5;167;01mStopIteration\u001b[39;00m \u001b[38;5;28;01mas\u001b[39;00m err:\n\u001b[1;32m    355\u001b[0m     \u001b[38;5;28;01mraise\u001b[39;00m JSONDecodeError(\u001b[38;5;124m\"\u001b[39m\u001b[38;5;124mExpecting value\u001b[39m\u001b[38;5;124m\"\u001b[39m, s, err\u001b[38;5;241m.\u001b[39mvalue) \u001b[38;5;28;01mfrom\u001b[39;00m \u001b[38;5;28;01mNone\u001b[39;00m\n",
      "\u001b[0;31mJSONDecodeError\u001b[0m: Expecting ',' delimiter: line 1 column 37 (char 36)"
     ]
    },
    {
     "name": "stderr",
     "output_type": "stream",
     "text": [
      "2024-02-15 12:38:01,714| ERROR   | Could not establish connection from local ('127.0.0.1', 3712) to remote ('insight-beta-article-db.cluster-chmaiagjipqy.ap-south-1.docdb.amazonaws.com', 27017) side of the tunnel: open new channel ssh error: SSH session not active\n",
      "2024-02-15 12:38:11,777| ERROR   | Could not establish connection from local ('127.0.0.1', 3712) to remote ('insight-beta-article-db.cluster-chmaiagjipqy.ap-south-1.docdb.amazonaws.com', 27017) side of the tunnel: open new channel ssh error: SSH session not active\n"
     ]
    }
   ],
   "source": [
    "k = [json.loads(x + '}') for x in k ]"
   ]
  },
  {
   "cell_type": "code",
   "execution_count": 79,
   "id": "5890a852-3e6f-455a-84a8-92e8ec310a0b",
   "metadata": {
    "tags": []
   },
   "outputs": [
    {
     "data": {
      "text/plain": [
       "{'title': 'A.K.Capital Ser Standalone December 2023 Net Sales at Rs 31.44 crore, up 7.24% Y-o-Y',\n",
       " 'category': 'corporate_developments'}"
      ]
     },
     "execution_count": 79,
     "metadata": {},
     "output_type": "execute_result"
    },
    {
     "name": "stderr",
     "output_type": "stream",
     "text": [
      "2024-02-15 12:37:31,480| ERROR   | Could not establish connection from local ('127.0.0.1', 3712) to remote ('insight-beta-article-db.cluster-chmaiagjipqy.ap-south-1.docdb.amazonaws.com', 27017) side of the tunnel: open new channel ssh error: SSH session not active\n",
      "2024-02-15 12:37:41,567| ERROR   | Could not establish connection from local ('127.0.0.1', 3712) to remote ('insight-beta-article-db.cluster-chmaiagjipqy.ap-south-1.docdb.amazonaws.com', 27017) side of the tunnel: open new channel ssh error: SSH session not active\n"
     ]
    }
   ],
   "source": [
    "json.loads(k[0] + '}')"
   ]
  },
  {
   "cell_type": "code",
   "execution_count": 64,
   "id": "7628a252-ac86-4cab-ae7a-3ce9df6c8b8f",
   "metadata": {
    "scrolled": true,
    "tags": []
   },
   "outputs": [
    {
     "ename": "JSONDecodeError",
     "evalue": "Expecting ',' delimiter: line 3 column 37 (char 313)",
     "output_type": "error",
     "traceback": [
      "\u001b[0;31m---------------------------------------------------------------------------\u001b[0m",
      "\u001b[0;31mJSONDecodeError\u001b[0m                           Traceback (most recent call last)",
      "Cell \u001b[0;32mIn[64], line 1\u001b[0m\n\u001b[0;32m----> 1\u001b[0m \u001b[43mjson\u001b[49m\u001b[38;5;241;43m.\u001b[39;49m\u001b[43mloads\u001b[49m\u001b[43m(\u001b[49m\u001b[43mresponses_from_gpt\u001b[49m\u001b[43m)\u001b[49m\n",
      "File \u001b[0;32m~/anaconda3/envs/bertopicenv/lib/python3.9/json/__init__.py:346\u001b[0m, in \u001b[0;36mloads\u001b[0;34m(s, cls, object_hook, parse_float, parse_int, parse_constant, object_pairs_hook, **kw)\u001b[0m\n\u001b[1;32m    341\u001b[0m     s \u001b[38;5;241m=\u001b[39m s\u001b[38;5;241m.\u001b[39mdecode(detect_encoding(s), \u001b[38;5;124m'\u001b[39m\u001b[38;5;124msurrogatepass\u001b[39m\u001b[38;5;124m'\u001b[39m)\n\u001b[1;32m    343\u001b[0m \u001b[38;5;28;01mif\u001b[39;00m (\u001b[38;5;28mcls\u001b[39m \u001b[38;5;129;01mis\u001b[39;00m \u001b[38;5;28;01mNone\u001b[39;00m \u001b[38;5;129;01mand\u001b[39;00m object_hook \u001b[38;5;129;01mis\u001b[39;00m \u001b[38;5;28;01mNone\u001b[39;00m \u001b[38;5;129;01mand\u001b[39;00m\n\u001b[1;32m    344\u001b[0m         parse_int \u001b[38;5;129;01mis\u001b[39;00m \u001b[38;5;28;01mNone\u001b[39;00m \u001b[38;5;129;01mand\u001b[39;00m parse_float \u001b[38;5;129;01mis\u001b[39;00m \u001b[38;5;28;01mNone\u001b[39;00m \u001b[38;5;129;01mand\u001b[39;00m\n\u001b[1;32m    345\u001b[0m         parse_constant \u001b[38;5;129;01mis\u001b[39;00m \u001b[38;5;28;01mNone\u001b[39;00m \u001b[38;5;129;01mand\u001b[39;00m object_pairs_hook \u001b[38;5;129;01mis\u001b[39;00m \u001b[38;5;28;01mNone\u001b[39;00m \u001b[38;5;129;01mand\u001b[39;00m \u001b[38;5;129;01mnot\u001b[39;00m kw):\n\u001b[0;32m--> 346\u001b[0m     \u001b[38;5;28;01mreturn\u001b[39;00m \u001b[43m_default_decoder\u001b[49m\u001b[38;5;241;43m.\u001b[39;49m\u001b[43mdecode\u001b[49m\u001b[43m(\u001b[49m\u001b[43ms\u001b[49m\u001b[43m)\u001b[49m\n\u001b[1;32m    347\u001b[0m \u001b[38;5;28;01mif\u001b[39;00m \u001b[38;5;28mcls\u001b[39m \u001b[38;5;129;01mis\u001b[39;00m \u001b[38;5;28;01mNone\u001b[39;00m:\n\u001b[1;32m    348\u001b[0m     \u001b[38;5;28mcls\u001b[39m \u001b[38;5;241m=\u001b[39m JSONDecoder\n",
      "File \u001b[0;32m~/anaconda3/envs/bertopicenv/lib/python3.9/json/decoder.py:337\u001b[0m, in \u001b[0;36mJSONDecoder.decode\u001b[0;34m(self, s, _w)\u001b[0m\n\u001b[1;32m    332\u001b[0m \u001b[38;5;28;01mdef\u001b[39;00m \u001b[38;5;21mdecode\u001b[39m(\u001b[38;5;28mself\u001b[39m, s, _w\u001b[38;5;241m=\u001b[39mWHITESPACE\u001b[38;5;241m.\u001b[39mmatch):\n\u001b[1;32m    333\u001b[0m \u001b[38;5;250m    \u001b[39m\u001b[38;5;124;03m\"\"\"Return the Python representation of ``s`` (a ``str`` instance\u001b[39;00m\n\u001b[1;32m    334\u001b[0m \u001b[38;5;124;03m    containing a JSON document).\u001b[39;00m\n\u001b[1;32m    335\u001b[0m \n\u001b[1;32m    336\u001b[0m \u001b[38;5;124;03m    \"\"\"\u001b[39;00m\n\u001b[0;32m--> 337\u001b[0m     obj, end \u001b[38;5;241m=\u001b[39m \u001b[38;5;28;43mself\u001b[39;49m\u001b[38;5;241;43m.\u001b[39;49m\u001b[43mraw_decode\u001b[49m\u001b[43m(\u001b[49m\u001b[43ms\u001b[49m\u001b[43m,\u001b[49m\u001b[43m \u001b[49m\u001b[43midx\u001b[49m\u001b[38;5;241;43m=\u001b[39;49m\u001b[43m_w\u001b[49m\u001b[43m(\u001b[49m\u001b[43ms\u001b[49m\u001b[43m,\u001b[49m\u001b[43m \u001b[49m\u001b[38;5;241;43m0\u001b[39;49m\u001b[43m)\u001b[49m\u001b[38;5;241;43m.\u001b[39;49m\u001b[43mend\u001b[49m\u001b[43m(\u001b[49m\u001b[43m)\u001b[49m\u001b[43m)\u001b[49m\n\u001b[1;32m    338\u001b[0m     end \u001b[38;5;241m=\u001b[39m _w(s, end)\u001b[38;5;241m.\u001b[39mend()\n\u001b[1;32m    339\u001b[0m     \u001b[38;5;28;01mif\u001b[39;00m end \u001b[38;5;241m!=\u001b[39m \u001b[38;5;28mlen\u001b[39m(s):\n",
      "File \u001b[0;32m~/anaconda3/envs/bertopicenv/lib/python3.9/json/decoder.py:353\u001b[0m, in \u001b[0;36mJSONDecoder.raw_decode\u001b[0;34m(self, s, idx)\u001b[0m\n\u001b[1;32m    344\u001b[0m \u001b[38;5;250m\u001b[39m\u001b[38;5;124;03m\"\"\"Decode a JSON document from ``s`` (a ``str`` beginning with\u001b[39;00m\n\u001b[1;32m    345\u001b[0m \u001b[38;5;124;03ma JSON document) and return a 2-tuple of the Python\u001b[39;00m\n\u001b[1;32m    346\u001b[0m \u001b[38;5;124;03mrepresentation and the index in ``s`` where the document ended.\u001b[39;00m\n\u001b[0;32m   (...)\u001b[0m\n\u001b[1;32m    350\u001b[0m \n\u001b[1;32m    351\u001b[0m \u001b[38;5;124;03m\"\"\"\u001b[39;00m\n\u001b[1;32m    352\u001b[0m \u001b[38;5;28;01mtry\u001b[39;00m:\n\u001b[0;32m--> 353\u001b[0m     obj, end \u001b[38;5;241m=\u001b[39m \u001b[38;5;28;43mself\u001b[39;49m\u001b[38;5;241;43m.\u001b[39;49m\u001b[43mscan_once\u001b[49m\u001b[43m(\u001b[49m\u001b[43ms\u001b[49m\u001b[43m,\u001b[49m\u001b[43m \u001b[49m\u001b[43midx\u001b[49m\u001b[43m)\u001b[49m\n\u001b[1;32m    354\u001b[0m \u001b[38;5;28;01mexcept\u001b[39;00m \u001b[38;5;167;01mStopIteration\u001b[39;00m \u001b[38;5;28;01mas\u001b[39;00m err:\n\u001b[1;32m    355\u001b[0m     \u001b[38;5;28;01mraise\u001b[39;00m JSONDecodeError(\u001b[38;5;124m\"\u001b[39m\u001b[38;5;124mExpecting value\u001b[39m\u001b[38;5;124m\"\u001b[39m, s, err\u001b[38;5;241m.\u001b[39mvalue) \u001b[38;5;28;01mfrom\u001b[39;00m \u001b[38;5;28;01mNone\u001b[39;00m\n",
      "\u001b[0;31mJSONDecodeError\u001b[0m: Expecting ',' delimiter: line 3 column 37 (char 313)"
     ]
    },
    {
     "name": "stderr",
     "output_type": "stream",
     "text": [
      "2024-02-15 12:35:10,524| ERROR   | Could not establish connection from local ('127.0.0.1', 3712) to remote ('insight-beta-article-db.cluster-chmaiagjipqy.ap-south-1.docdb.amazonaws.com', 27017) side of the tunnel: open new channel ssh error: SSH session not active\n"
     ]
    }
   ],
   "source": [
    "json.loads(responses_from_gpt)"
   ]
  },
  {
   "cell_type": "code",
   "execution_count": 51,
   "id": "6193a3fc-b9bb-498e-806b-11c262c40287",
   "metadata": {
    "scrolled": true,
    "tags": []
   },
   "outputs": [
    {
     "data": {
      "text/html": [
       "<div>\n",
       "<style scoped>\n",
       "    .dataframe tbody tr th:only-of-type {\n",
       "        vertical-align: middle;\n",
       "    }\n",
       "\n",
       "    .dataframe tbody tr th {\n",
       "        vertical-align: top;\n",
       "    }\n",
       "\n",
       "    .dataframe thead th {\n",
       "        text-align: right;\n",
       "    }\n",
       "</style>\n",
       "<table border=\"1\" class=\"dataframe\">\n",
       "  <thead>\n",
       "    <tr style=\"text-align: right;\">\n",
       "      <th></th>\n",
       "      <th>article_id</th>\n",
       "      <th>published_at</th>\n",
       "      <th>financial_news</th>\n",
       "      <th>relevant_for_india</th>\n",
       "      <th>india_flag</th>\n",
       "      <th>source_name</th>\n",
       "      <th>title</th>\n",
       "    </tr>\n",
       "  </thead>\n",
       "  <tbody>\n",
       "    <tr>\n",
       "      <th>49</th>\n",
       "      <td>652ebbe41e5cc42b1b139c1f</td>\n",
       "      <td>2023-02-16 11:36:31+00:00</td>\n",
       "      <td>True</td>\n",
       "      <td>True</td>\n",
       "      <td>None</td>\n",
       "      <td>zerodha-varsity</td>\n",
       "      <td>14. Supplementary note – Rights, OFS, FPO   ...</td>\n",
       "    </tr>\n",
       "    <tr>\n",
       "      <th>288</th>\n",
       "      <td>652ebbda1e5cc42b1b139b56</td>\n",
       "      <td>2023-04-20 06:36:51+00:00</td>\n",
       "      <td>True</td>\n",
       "      <td>True</td>\n",
       "      <td>None</td>\n",
       "      <td>zerodha-varsity</td>\n",
       "      <td>15. Supplementary note – The 20 market depth...</td>\n",
       "    </tr>\n",
       "    <tr>\n",
       "      <th>391</th>\n",
       "      <td>65b0b5956391ac19baa878e8</td>\n",
       "      <td>2024-01-24 06:36:21+00:00</td>\n",
       "      <td>True</td>\n",
       "      <td>True</td>\n",
       "      <td>indian</td>\n",
       "      <td>zerodha-varsity</td>\n",
       "      <td>Things to look for in the (Interim) Budget – V...</td>\n",
       "    </tr>\n",
       "    <tr>\n",
       "      <th>595</th>\n",
       "      <td>652ebbdc1e5cc42b1b139b75</td>\n",
       "      <td>2023-09-13 12:16:41+00:00</td>\n",
       "      <td>True</td>\n",
       "      <td>True</td>\n",
       "      <td>None</td>\n",
       "      <td>zerodha-varsity</td>\n",
       "      <td>10. Clearing and Settlement Process   : Intr...</td>\n",
       "    </tr>\n",
       "    <tr>\n",
       "      <th>757</th>\n",
       "      <td>6538f5501e5cc42b1b1444a9</td>\n",
       "      <td>2023-10-25 08:12:00+00:00</td>\n",
       "      <td>True</td>\n",
       "      <td>True</td>\n",
       "      <td>None</td>\n",
       "      <td>zerodha-varsity</td>\n",
       "      <td>What is Venture Capital? – Varsity by Zerodha</td>\n",
       "    </tr>\n",
       "    <tr>\n",
       "      <th>834</th>\n",
       "      <td>652ebbe41e5cc42b1b139c29</td>\n",
       "      <td>2023-07-24 07:00:23+00:00</td>\n",
       "      <td>True</td>\n",
       "      <td>True</td>\n",
       "      <td>None</td>\n",
       "      <td>zerodha-varsity</td>\n",
       "      <td>4. The IPO Markets (Part 1)   : Introduction...</td>\n",
       "    </tr>\n",
       "    <tr>\n",
       "      <th>1038</th>\n",
       "      <td>652ebbe11e5cc42b1b139bd2</td>\n",
       "      <td>2023-10-13 09:53:01+00:00</td>\n",
       "      <td>True</td>\n",
       "      <td>True</td>\n",
       "      <td>None</td>\n",
       "      <td>zerodha-varsity</td>\n",
       "      <td>10. Steel (Part 1)   : Sector Analysis</td>\n",
       "    </tr>\n",
       "    <tr>\n",
       "      <th>1051</th>\n",
       "      <td>65a1fcd1e362d630b6473533</td>\n",
       "      <td>2024-01-12 13:07:32+00:00</td>\n",
       "      <td>True</td>\n",
       "      <td>True</td>\n",
       "      <td>indian</td>\n",
       "      <td>zerodha-varsity</td>\n",
       "      <td>Modes of raising funds : Social Stock Exchange...</td>\n",
       "    </tr>\n",
       "    <tr>\n",
       "      <th>1178</th>\n",
       "      <td>652ebbe01e5cc42b1b139bb3</td>\n",
       "      <td>2023-08-10 10:52:53+00:00</td>\n",
       "      <td>True</td>\n",
       "      <td>True</td>\n",
       "      <td>None</td>\n",
       "      <td>zerodha-varsity</td>\n",
       "      <td>29. Exchange-traded funds (ETF)   : Personal...</td>\n",
       "    </tr>\n",
       "    <tr>\n",
       "      <th>1335</th>\n",
       "      <td>65570f8e4b13023f934aee90</td>\n",
       "      <td>2023-11-17 05:36:44+00:00</td>\n",
       "      <td>True</td>\n",
       "      <td>True</td>\n",
       "      <td>None</td>\n",
       "      <td>zerodha-varsity</td>\n",
       "      <td>How to forecast the economy? Economic Indicato...</td>\n",
       "    </tr>\n",
       "    <tr>\n",
       "      <th>1343</th>\n",
       "      <td>65856c4f683f430d81566677</td>\n",
       "      <td>2023-12-22 07:11:36+00:00</td>\n",
       "      <td>True</td>\n",
       "      <td>True</td>\n",
       "      <td>None</td>\n",
       "      <td>zerodha-varsity</td>\n",
       "      <td>Hotels : Sector Analysis</td>\n",
       "    </tr>\n",
       "    <tr>\n",
       "      <th>1414</th>\n",
       "      <td>652ebbe51e5cc42b1b139c4d</td>\n",
       "      <td>2023-10-07 07:52:03+00:00</td>\n",
       "      <td>True</td>\n",
       "      <td>True</td>\n",
       "      <td>None</td>\n",
       "      <td>zerodha-varsity</td>\n",
       "      <td>8. Banking (Part 1)   : Sector Analysis</td>\n",
       "    </tr>\n",
       "    <tr>\n",
       "      <th>1517</th>\n",
       "      <td>652ebbdf1e5cc42b1b139bb2</td>\n",
       "      <td>2023-06-08 10:47:12+00:00</td>\n",
       "      <td>True</td>\n",
       "      <td>True</td>\n",
       "      <td>None</td>\n",
       "      <td>zerodha-varsity</td>\n",
       "      <td>1. Sector analysis overview   : Sector Analysis</td>\n",
       "    </tr>\n",
       "    <tr>\n",
       "      <th>1732</th>\n",
       "      <td>655d6ed8e1d8342798a448dd</td>\n",
       "      <td>2023-11-21 11:52:06+00:00</td>\n",
       "      <td>True</td>\n",
       "      <td>True</td>\n",
       "      <td>None</td>\n",
       "      <td>zerodha-varsity</td>\n",
       "      <td>Do you know how much you need for your retirem...</td>\n",
       "    </tr>\n",
       "    <tr>\n",
       "      <th>1870</th>\n",
       "      <td>652ebb861e5cc42b1b1398e8</td>\n",
       "      <td>2023-10-11 11:53:18+00:00</td>\n",
       "      <td>True</td>\n",
       "      <td>True</td>\n",
       "      <td>None</td>\n",
       "      <td>zerodha-varsity</td>\n",
       "      <td>Hope is not a strategy</td>\n",
       "    </tr>\n",
       "    <tr>\n",
       "      <th>2084</th>\n",
       "      <td>652ebbe01e5cc42b1b139bb8</td>\n",
       "      <td>2023-02-15 05:58:30+00:00</td>\n",
       "      <td>True</td>\n",
       "      <td>True</td>\n",
       "      <td>None</td>\n",
       "      <td>zerodha-varsity</td>\n",
       "      <td>4. The USD INR Pair (Part 1)   : Currency, C...</td>\n",
       "    </tr>\n",
       "    <tr>\n",
       "      <th>2151</th>\n",
       "      <td>657c31c98f821120f67a071d</td>\n",
       "      <td>2023-12-15 10:41:40+00:00</td>\n",
       "      <td>True</td>\n",
       "      <td>True</td>\n",
       "      <td>None</td>\n",
       "      <td>zerodha-varsity</td>\n",
       "      <td>What is an Investment Committee? – Varsity by ...</td>\n",
       "    </tr>\n",
       "    <tr>\n",
       "      <th>2188</th>\n",
       "      <td>652ebbe31e5cc42b1b139c0a</td>\n",
       "      <td>2023-04-20 06:33:00+00:00</td>\n",
       "      <td>True</td>\n",
       "      <td>True</td>\n",
       "      <td>None</td>\n",
       "      <td>zerodha-varsity</td>\n",
       "      <td>4. Taxation for Investors   : Markets and Ta...</td>\n",
       "    </tr>\n",
       "    <tr>\n",
       "      <th>2461</th>\n",
       "      <td>652ebbe41e5cc42b1b139c18</td>\n",
       "      <td>2023-05-17 05:38:06+00:00</td>\n",
       "      <td>True</td>\n",
       "      <td>True</td>\n",
       "      <td>None</td>\n",
       "      <td>zerodha-varsity</td>\n",
       "      <td>2. Basics   : Markets and Taxation</td>\n",
       "    </tr>\n",
       "    <tr>\n",
       "      <th>2527</th>\n",
       "      <td>65b9f00cf3aa2a77a58bf6d9</td>\n",
       "      <td>2024-01-31 06:04:48+00:00</td>\n",
       "      <td>True</td>\n",
       "      <td>True</td>\n",
       "      <td>indian</td>\n",
       "      <td>zerodha-varsity</td>\n",
       "      <td>Writing a Will Vs Nomination – Varsity by Zerodha</td>\n",
       "    </tr>\n",
       "    <tr>\n",
       "      <th>2540</th>\n",
       "      <td>652ebbe41e5cc42b1b139c2c</td>\n",
       "      <td>2023-05-15 06:26:32+00:00</td>\n",
       "      <td>True</td>\n",
       "      <td>True</td>\n",
       "      <td>None</td>\n",
       "      <td>zerodha-varsity</td>\n",
       "      <td>16. Momentum Portfolios   : Trading Systems</td>\n",
       "    </tr>\n",
       "    <tr>\n",
       "      <th>2875</th>\n",
       "      <td>655201c24b13023f9348b42a</td>\n",
       "      <td>2023-11-13 10:30:50+00:00</td>\n",
       "      <td>True</td>\n",
       "      <td>True</td>\n",
       "      <td>None</td>\n",
       "      <td>zerodha-varsity</td>\n",
       "      <td>So what do I do if I need to get VC funding? –...</td>\n",
       "    </tr>\n",
       "    <tr>\n",
       "      <th>3179</th>\n",
       "      <td>652ebb751e5cc42b1b1398c3</td>\n",
       "      <td>2023-10-04 06:30:32+00:00</td>\n",
       "      <td>True</td>\n",
       "      <td>True</td>\n",
       "      <td>None</td>\n",
       "      <td>zerodha-varsity</td>\n",
       "      <td>Stock market scams and how to avoid them - Pum...</td>\n",
       "    </tr>\n",
       "    <tr>\n",
       "      <th>3564</th>\n",
       "      <td>65b471c61b79671c6b70d006</td>\n",
       "      <td>2024-01-26 14:52:51+00:00</td>\n",
       "      <td>True</td>\n",
       "      <td>True</td>\n",
       "      <td>indian</td>\n",
       "      <td>zerodha-varsity</td>\n",
       "      <td>Know the incentives of those selling you a fin...</td>\n",
       "    </tr>\n",
       "    <tr>\n",
       "      <th>3738</th>\n",
       "      <td>652ebb761e5cc42b1b1398c4</td>\n",
       "      <td>2023-10-05 09:50:16+00:00</td>\n",
       "      <td>True</td>\n",
       "      <td>True</td>\n",
       "      <td>None</td>\n",
       "      <td>zerodha-varsity</td>\n",
       "      <td>Stock market scams and how to avoid them – Phi...</td>\n",
       "    </tr>\n",
       "    <tr>\n",
       "      <th>3742</th>\n",
       "      <td>652ebb7e1e5cc42b1b1398cd</td>\n",
       "      <td>2023-10-07 08:20:58+00:00</td>\n",
       "      <td>True</td>\n",
       "      <td>True</td>\n",
       "      <td>None</td>\n",
       "      <td>zerodha-varsity</td>\n",
       "      <td>Stock market scams and how to avoid them – How...</td>\n",
       "    </tr>\n",
       "    <tr>\n",
       "      <th>3835</th>\n",
       "      <td>652ebbe31e5cc42b1b139c0e</td>\n",
       "      <td>2023-03-24 06:49:59+00:00</td>\n",
       "      <td>True</td>\n",
       "      <td>True</td>\n",
       "      <td>None</td>\n",
       "      <td>zerodha-varsity</td>\n",
       "      <td>32. Personal finance review (Part 2)   : Per...</td>\n",
       "    </tr>\n",
       "    <tr>\n",
       "      <th>3960</th>\n",
       "      <td>652ebb781e5cc42b1b1398c5</td>\n",
       "      <td>2023-10-12 12:32:27+00:00</td>\n",
       "      <td>True</td>\n",
       "      <td>True</td>\n",
       "      <td>None</td>\n",
       "      <td>zerodha-varsity</td>\n",
       "      <td>Do you evaluate before availing a loan?</td>\n",
       "    </tr>\n",
       "    <tr>\n",
       "      <th>4241</th>\n",
       "      <td>652ebbe31e5cc42b1b139c02</td>\n",
       "      <td>2023-07-24 04:58:04+00:00</td>\n",
       "      <td>True</td>\n",
       "      <td>True</td>\n",
       "      <td>None</td>\n",
       "      <td>zerodha-varsity</td>\n",
       "      <td>3. Insurance (Part 1)   : Sector Analysis</td>\n",
       "    </tr>\n",
       "    <tr>\n",
       "      <th>4281</th>\n",
       "      <td>6560d40ce1d8342798a46825</td>\n",
       "      <td>2023-11-22 09:43:01+00:00</td>\n",
       "      <td>True</td>\n",
       "      <td>True</td>\n",
       "      <td>None</td>\n",
       "      <td>zerodha-varsity</td>\n",
       "      <td>Beware of Pig Butchering Scams – Varsity by Ze...</td>\n",
       "    </tr>\n",
       "    <tr>\n",
       "      <th>4458</th>\n",
       "      <td>652ebbe11e5cc42b1b139bdd</td>\n",
       "      <td>2023-06-20 10:48:21+00:00</td>\n",
       "      <td>True</td>\n",
       "      <td>True</td>\n",
       "      <td>None</td>\n",
       "      <td>zerodha-varsity</td>\n",
       "      <td>2. Cement   : Sector Analysis</td>\n",
       "    </tr>\n",
       "    <tr>\n",
       "      <th>4562</th>\n",
       "      <td>65befdc5f3aa2a77a58c0696</td>\n",
       "      <td>2024-02-03 11:43:06+00:00</td>\n",
       "      <td>True</td>\n",
       "      <td>True</td>\n",
       "      <td>indian</td>\n",
       "      <td>zerodha-varsity</td>\n",
       "      <td>Can I stop paying for insurance if I have save...</td>\n",
       "    </tr>\n",
       "  </tbody>\n",
       "</table>\n",
       "</div>"
      ],
      "text/plain": [
       "                    article_id              published_at  financial_news  \\\n",
       "49    652ebbe41e5cc42b1b139c1f 2023-02-16 11:36:31+00:00            True   \n",
       "288   652ebbda1e5cc42b1b139b56 2023-04-20 06:36:51+00:00            True   \n",
       "391   65b0b5956391ac19baa878e8 2024-01-24 06:36:21+00:00            True   \n",
       "595   652ebbdc1e5cc42b1b139b75 2023-09-13 12:16:41+00:00            True   \n",
       "757   6538f5501e5cc42b1b1444a9 2023-10-25 08:12:00+00:00            True   \n",
       "834   652ebbe41e5cc42b1b139c29 2023-07-24 07:00:23+00:00            True   \n",
       "1038  652ebbe11e5cc42b1b139bd2 2023-10-13 09:53:01+00:00            True   \n",
       "1051  65a1fcd1e362d630b6473533 2024-01-12 13:07:32+00:00            True   \n",
       "1178  652ebbe01e5cc42b1b139bb3 2023-08-10 10:52:53+00:00            True   \n",
       "1335  65570f8e4b13023f934aee90 2023-11-17 05:36:44+00:00            True   \n",
       "1343  65856c4f683f430d81566677 2023-12-22 07:11:36+00:00            True   \n",
       "1414  652ebbe51e5cc42b1b139c4d 2023-10-07 07:52:03+00:00            True   \n",
       "1517  652ebbdf1e5cc42b1b139bb2 2023-06-08 10:47:12+00:00            True   \n",
       "1732  655d6ed8e1d8342798a448dd 2023-11-21 11:52:06+00:00            True   \n",
       "1870  652ebb861e5cc42b1b1398e8 2023-10-11 11:53:18+00:00            True   \n",
       "2084  652ebbe01e5cc42b1b139bb8 2023-02-15 05:58:30+00:00            True   \n",
       "2151  657c31c98f821120f67a071d 2023-12-15 10:41:40+00:00            True   \n",
       "2188  652ebbe31e5cc42b1b139c0a 2023-04-20 06:33:00+00:00            True   \n",
       "2461  652ebbe41e5cc42b1b139c18 2023-05-17 05:38:06+00:00            True   \n",
       "2527  65b9f00cf3aa2a77a58bf6d9 2024-01-31 06:04:48+00:00            True   \n",
       "2540  652ebbe41e5cc42b1b139c2c 2023-05-15 06:26:32+00:00            True   \n",
       "2875  655201c24b13023f9348b42a 2023-11-13 10:30:50+00:00            True   \n",
       "3179  652ebb751e5cc42b1b1398c3 2023-10-04 06:30:32+00:00            True   \n",
       "3564  65b471c61b79671c6b70d006 2024-01-26 14:52:51+00:00            True   \n",
       "3738  652ebb761e5cc42b1b1398c4 2023-10-05 09:50:16+00:00            True   \n",
       "3742  652ebb7e1e5cc42b1b1398cd 2023-10-07 08:20:58+00:00            True   \n",
       "3835  652ebbe31e5cc42b1b139c0e 2023-03-24 06:49:59+00:00            True   \n",
       "3960  652ebb781e5cc42b1b1398c5 2023-10-12 12:32:27+00:00            True   \n",
       "4241  652ebbe31e5cc42b1b139c02 2023-07-24 04:58:04+00:00            True   \n",
       "4281  6560d40ce1d8342798a46825 2023-11-22 09:43:01+00:00            True   \n",
       "4458  652ebbe11e5cc42b1b139bdd 2023-06-20 10:48:21+00:00            True   \n",
       "4562  65befdc5f3aa2a77a58c0696 2024-02-03 11:43:06+00:00            True   \n",
       "\n",
       "      relevant_for_india india_flag      source_name  \\\n",
       "49                  True       None  zerodha-varsity   \n",
       "288                 True       None  zerodha-varsity   \n",
       "391                 True     indian  zerodha-varsity   \n",
       "595                 True       None  zerodha-varsity   \n",
       "757                 True       None  zerodha-varsity   \n",
       "834                 True       None  zerodha-varsity   \n",
       "1038                True       None  zerodha-varsity   \n",
       "1051                True     indian  zerodha-varsity   \n",
       "1178                True       None  zerodha-varsity   \n",
       "1335                True       None  zerodha-varsity   \n",
       "1343                True       None  zerodha-varsity   \n",
       "1414                True       None  zerodha-varsity   \n",
       "1517                True       None  zerodha-varsity   \n",
       "1732                True       None  zerodha-varsity   \n",
       "1870                True       None  zerodha-varsity   \n",
       "2084                True       None  zerodha-varsity   \n",
       "2151                True       None  zerodha-varsity   \n",
       "2188                True       None  zerodha-varsity   \n",
       "2461                True       None  zerodha-varsity   \n",
       "2527                True     indian  zerodha-varsity   \n",
       "2540                True       None  zerodha-varsity   \n",
       "2875                True       None  zerodha-varsity   \n",
       "3179                True       None  zerodha-varsity   \n",
       "3564                True     indian  zerodha-varsity   \n",
       "3738                True       None  zerodha-varsity   \n",
       "3742                True       None  zerodha-varsity   \n",
       "3835                True       None  zerodha-varsity   \n",
       "3960                True       None  zerodha-varsity   \n",
       "4241                True       None  zerodha-varsity   \n",
       "4281                True       None  zerodha-varsity   \n",
       "4458                True       None  zerodha-varsity   \n",
       "4562                True     indian  zerodha-varsity   \n",
       "\n",
       "                                                  title  \n",
       "49      14. Supplementary note – Rights, OFS, FPO   ...  \n",
       "288     15. Supplementary note – The 20 market depth...  \n",
       "391   Things to look for in the (Interim) Budget – V...  \n",
       "595     10. Clearing and Settlement Process   : Intr...  \n",
       "757       What is Venture Capital? – Varsity by Zerodha  \n",
       "834     4. The IPO Markets (Part 1)   : Introduction...  \n",
       "1038             10. Steel (Part 1)   : Sector Analysis  \n",
       "1051  Modes of raising funds : Social Stock Exchange...  \n",
       "1178    29. Exchange-traded funds (ETF)   : Personal...  \n",
       "1335  How to forecast the economy? Economic Indicato...  \n",
       "1343                           Hotels : Sector Analysis  \n",
       "1414            8. Banking (Part 1)   : Sector Analysis  \n",
       "1517    1. Sector analysis overview   : Sector Analysis  \n",
       "1732  Do you know how much you need for your retirem...  \n",
       "1870                             Hope is not a strategy  \n",
       "2084    4. The USD INR Pair (Part 1)   : Currency, C...  \n",
       "2151  What is an Investment Committee? – Varsity by ...  \n",
       "2188    4. Taxation for Investors   : Markets and Ta...  \n",
       "2461                 2. Basics   : Markets and Taxation  \n",
       "2527  Writing a Will Vs Nomination – Varsity by Zerodha  \n",
       "2540        16. Momentum Portfolios   : Trading Systems  \n",
       "2875  So what do I do if I need to get VC funding? –...  \n",
       "3179  Stock market scams and how to avoid them - Pum...  \n",
       "3564  Know the incentives of those selling you a fin...  \n",
       "3738  Stock market scams and how to avoid them – Phi...  \n",
       "3742  Stock market scams and how to avoid them – How...  \n",
       "3835    32. Personal finance review (Part 2)   : Per...  \n",
       "3960            Do you evaluate before availing a loan?  \n",
       "4241          3. Insurance (Part 1)   : Sector Analysis  \n",
       "4281  Beware of Pig Butchering Scams – Varsity by Ze...  \n",
       "4458                      2. Cement   : Sector Analysis  \n",
       "4562  Can I stop paying for insurance if I have save...  "
      ]
     },
     "execution_count": 51,
     "metadata": {},
     "output_type": "execute_result"
    }
   ],
   "source": [
    "df[df.source_name == 'zerodha-varsity']"
   ]
  },
  {
   "cell_type": "code",
   "execution_count": 28,
   "id": "f13ccb49-0c0d-4a3d-a0d8-590df7d536c1",
   "metadata": {
    "tags": []
   },
   "outputs": [
    {
     "data": {
      "text/plain": [
       "india_flag\n",
       "Indian            109\n",
       "International       2\n",
       "indian           2905\n",
       "international    1402\n",
       "Name: article_id, dtype: int64"
      ]
     },
     "execution_count": 28,
     "metadata": {},
     "output_type": "execute_result"
    }
   ],
   "source": [
    "df.groupby('india_flag')['article_id'].count()"
   ]
  },
  {
   "cell_type": "code",
   "execution_count": 22,
   "id": "2fda2928-7fd3-4df9-b21a-3bc60a81e62e",
   "metadata": {
    "scrolled": true,
    "tags": []
   },
   "outputs": [
    {
     "data": {
      "text/plain": [
       "{'_id': ObjectId('652ebb751e5cc42b1b1398c3'),\n",
       " 'url': 'https://zerodha.com/varsity/stock-market-scams-and-how-to-avoid-them-pump-and-dump/',\n",
       " 'source_id': ObjectId('65291b1e9a2fbc229e5f29c9'),\n",
       " '_class': 'com.wintWealth.insight.common.models.entities.Article',\n",
       " 'image_url': 'https://zerodha.com/varsity/wp-content/uploads/2023/10/Frame-623-300x171.png',\n",
       " 'is_premium_article': False,\n",
       " 'last_updated_time': '2023-10-04T06:30:32+0000',\n",
       " 'published_time': '2023-10-04T06:30:32+0000',\n",
       " 'short_description': 'Several stocks have given 1000% returns within a few months. Who could have predicted that kind of rally for any stock? Hardly anyone. Most rallies are a surprise. However, many people do predict massive gains for various stocks. Several channels and groups on YouTube, WhatsApp, and Instagram make tall predictions.\\xa0 This ₹20 stock will go […]',\n",
       " 'tags': ['Equity Investing'],\n",
       " 'title': 'Stock market scams and how to avoid them - Pump and Dump – Varsity by Zerodha',\n",
       " 'authors': ['Vineet Rajani'],\n",
       " 'ai_generated_info': {'summary': {'OpenHermes_WatermelonSapphireZipline': {'generated_at': datetime.datetime(2023, 12, 4, 23, 17, 50, 37000),\n",
       "    'value': 'Zerodha urges investors to stay cautious of stock market scams like Pump and Dump which create artificial hype using social engineering and illicit lending data. Stock fluctuations extreme price and volume changes and insufficient information about companies are red flags. Better options are mutual funds or conducting thorough analysis.'}},\n",
       "  'title': {'OpenHermes_WatermelonSapphireZipline': {'generated_at': datetime.datetime(2023, 12, 4, 23, 17, 50, 37000),\n",
       "    'value': \"Navigating Stock Market Scams: Avoiding 'Pump and Dump'\"}}},\n",
       " 'reactions': {},\n",
       " 'content_type': 'ARTICLE',\n",
       " 'cleaned_text': 'Several stocks have given 1000% returns within a few months. Who could have predicted that kind of rally for any stock? Hardly anyone. Most rallies are a surprise.However, many people do predict massive gains for various stocks. Several channels and groups on YouTube, WhatsApp, and Instagram make tall predictions.This ₹20 stock will go to ₹50 in one month.This ₹30 stock will touch ₹300 in three months.Your investment of ₹2,000 will become ₹1,00,000 in six months.Such predictions are almost always wrong. So why do they make these predictions?Topump and dumpthe stock!Market operators may buy a penny stock and create excitement around it. Any person or entity that can significantly influence a stock’s price is amarket operator. A trader with just ₹5 lakhs could influence a ₹10 Cr market capital company, while a company worth ₹1000 Cr could be manipulated using ₹5-10 Cr.They create excitement around some stocks by peddling ideas throughAd-powered posts on YouTube, Instagram, Facebook, and Twitter,Telegram and Whatsapp groups,SMSes, andEmails.These operators work in sync. They buy and sell penny stocks among each other to artificially pump up the price. Sometimes, promoters may be involved, too. They trade with related parties or other operators.Since the purpose of such market operators is to manipulate retail investors, let’s call them scammers. Scammers can get access to your phone numbers and email addresses by malicious social engineering and purchasing your contact information. Some predatory lending apps and free online services are often willing to sell your contact information, as it is a revenue source for them.The prospects of quick gains can sound exciting. Small investors may flock in, pumping the price higher. Market operators quietly exit (dump) at high prices. Trading volumes suddenly fall. The price starts declining. When small investors try to restrict losses by selling, there are not many buyers. The selling pressure further causes the prices to decline. Small investors are left with big losses.How to avoid falling for such scams?Penny stocks could be rigged, bankrupt, or dying. Microcaps are risky, too. Avoid such stocks as their information flow is infrequent and mostly irregular.Be careful if a stock sees extreme movements in price and volume.If an opportunity looks too good to be true, it is probably false. Avoid it.Conduct your own analysis, and do not rely on sensational orurgentinformation.Play safe with mutual funds if you do not want to analyze.This is the first in a series of blogs I will write covering different stock market scams. Stay tuned to read the next one, which will be on how Phishing is used to scam traders and investors.'}"
      ]
     },
     "execution_count": 22,
     "metadata": {},
     "output_type": "execute_result"
    }
   ],
   "source": [
    "articles['652ebb751e5cc42b1b1398c3']"
   ]
  },
  {
   "cell_type": "code",
   "execution_count": 16,
   "id": "2aebd8d1-475c-4f08-be57-65d147f63173",
   "metadata": {
    "tags": []
   },
   "outputs": [
    {
     "data": {
      "text/plain": [
       "source_name\n",
       "bbc                    52\n",
       "business-standard     960\n",
       "cnbc-tv-18            413\n",
       "economic-times         30\n",
       "finshots               10\n",
       "groww                  34\n",
       "inc42                 134\n",
       "investopedia          158\n",
       "live-mint             470\n",
       "money-control        1174\n",
       "navi                  180\n",
       "reuters               789\n",
       "wint-wealth             8\n",
       "yahoo-finance         222\n",
       "zerodha-varsity        32\n",
       "Name: article_id, dtype: int64"
      ]
     },
     "execution_count": 16,
     "metadata": {},
     "output_type": "execute_result"
    }
   ],
   "source": [
    "df.groupby('source_name')['article_id'].count()"
   ]
  },
  {
   "cell_type": "code",
   "execution_count": null,
   "id": "8dca9e08-f9fd-4fef-88a0-a277671192c0",
   "metadata": {},
   "outputs": [],
   "source": []
  }
 ],
 "metadata": {
  "kernelspec": {
   "display_name": "bertopicenv",
   "language": "python",
   "name": "bertopicenv"
  },
  "language_info": {
   "codemirror_mode": {
    "name": "ipython",
    "version": 3
   },
   "file_extension": ".py",
   "mimetype": "text/x-python",
   "name": "python",
   "nbconvert_exporter": "python",
   "pygments_lexer": "ipython3",
   "version": "3.9.18"
  }
 },
 "nbformat": 4,
 "nbformat_minor": 5
}
