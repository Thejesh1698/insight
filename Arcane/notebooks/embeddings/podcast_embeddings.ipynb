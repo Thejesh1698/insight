{
 "cells": [
  {
   "cell_type": "code",
   "execution_count": 1,
   "id": "17e99528-06a0-4028-856b-55f29cf279be",
   "metadata": {
    "tags": []
   },
   "outputs": [],
   "source": [
    "parent_folder = '/Users/ravi.tej/Desktop/ML/Recommendations/arcane/'\n",
    "from hydra import compose, initialize\n",
    "import os\n",
    "\n",
    "import xml.etree.ElementTree as ET\n",
    "\n",
    "tree = ET.parse('../../conf/application.run.xml')\n",
    "root = tree.getroot()\n",
    "\n",
    "envs_element = root.find('./configuration/envs')\n",
    "for variable in envs_element.findall('env'):\n",
    "    name = variable.get('name')\n",
    "    value = variable.get('value')\n",
    "    os.environ[name] = value\n",
    "\n",
    "import sys\n",
    "sys.path.append('/Users/ravi.tej/Desktop/ML/Recommendations/arcane/')"
   ]
  },
  {
   "cell_type": "code",
   "execution_count": 2,
   "id": "eddab743-aa50-451c-b5c0-3dd4c2540a61",
   "metadata": {
    "tags": []
   },
   "outputs": [],
   "source": [
    "from src.articles.ArticleService import ArticleService"
   ]
  },
  {
   "cell_type": "code",
   "execution_count": 3,
   "id": "1e85d921-9a69-4577-ba58-84f36ff14533",
   "metadata": {
    "tags": []
   },
   "outputs": [
    {
     "name": "stderr",
     "output_type": "stream",
     "text": [
      "No such object in the bucket.\n"
     ]
    }
   ],
   "source": [
    "article_id = '659faf5ee362d630b6472629'\n",
    "article= ArticleService.get_Article(article_id)"
   ]
  },
  {
   "cell_type": "code",
   "execution_count": 4,
   "id": "15ff615b-e53d-41d7-b469-b7bc24f8978a",
   "metadata": {
    "tags": []
   },
   "outputs": [
    {
     "data": {
      "text/plain": [
       "Article(article_id='659faf5ee362d630b6472629', title='Welcome to the Business Line Podcast!', is_premium_article=False, published_time='2023-09-15T10:30:00+00:00', source_id='659f9ad8c7d0b17ce3bc2340', url='https://d2o0junn7v21kh.cloudfront.net/659faf5ee362d630b6472629/podcastEpisodeAudio.mp3', cleaned_text='', content_type='PODCAST_EPISODE', short_description='Welcome to The Business Line Podcast, with Brian & Manish. Tune in every week for thought-provoking conversations with business experts from around the world.You can watch all our episodes on YouTube!Connect with us!LinkedInFacebookInstagramLearn more about Panacea Smart Solutions.', image_url='', full_content='headline: Welcome to the Business Line Podcast.  content: Welcome to The Business Line Podcast with Brian  Manish. Tune in every week for thought-provoking conversations with business experts from around the world.You can watch all our episodes on YouTubeConnect with usLinkedInFacebookInstagramLearn more about Panacea Smart Solutions.')"
      ]
     },
     "execution_count": 4,
     "metadata": {},
     "output_type": "execute_result"
    }
   ],
   "source": [
    "article"
   ]
  },
  {
   "cell_type": "code",
   "execution_count": 1,
   "id": "5f4b46cb-95c0-4b0d-bf55-6844507d6ecb",
   "metadata": {
    "tags": []
   },
   "outputs": [],
   "source": [
    "import requests"
   ]
  },
  {
   "cell_type": "code",
   "execution_count": 2,
   "id": "5b32e998-71d5-465d-9ae0-f8514eb14a13",
   "metadata": {
    "tags": []
   },
   "outputs": [],
   "source": [
    "import json"
   ]
  },
  {
   "cell_type": "code",
   "execution_count": 3,
   "id": "2ec53af8-ff30-44d9-84ff-457bf7432dad",
   "metadata": {
    "tags": []
   },
   "outputs": [],
   "source": [
    "with open('podcast_ids.json', 'rb') as f:\n",
    "    podcast_emb = json.load(f)"
   ]
  },
  {
   "cell_type": "code",
   "execution_count": 4,
   "id": "622bf537-9afa-4345-9e73-48981a517bc9",
   "metadata": {
    "tags": []
   },
   "outputs": [],
   "source": [
    "pod_ids = [x['_id']['$oid'] for x in podcast_emb]"
   ]
  },
  {
   "cell_type": "code",
   "execution_count": 5,
   "id": "d423571a-efb0-4ade-bf4b-81b9980e29be",
   "metadata": {
    "tags": []
   },
   "outputs": [],
   "source": [
    "def create_embeddings(article_id):\n",
    "    r = requests.post('http://Arcane-env.eba-mrsaixmg.ap-south-1.elasticbeanstalk.com/create_embedding', json={'articleId': article_id})\n",
    "    if r.status_code == 200:\n",
    "        return article_id"
   ]
  },
  {
   "cell_type": "code",
   "execution_count": 10,
   "id": "08264f75-4d84-49a7-9d6c-937131c65c79",
   "metadata": {
    "tags": []
   },
   "outputs": [
    {
     "data": {
      "text/plain": [
       "2533"
      ]
     },
     "execution_count": 10,
     "metadata": {},
     "output_type": "execute_result"
    }
   ],
   "source": [
    "len(pod_ids)"
   ]
  },
  {
   "cell_type": "code",
   "execution_count": 6,
   "id": "70912cb3-afd7-4e6d-87d8-59114c79d425",
   "metadata": {
    "tags": []
   },
   "outputs": [],
   "source": [
    "num_chunks = len(pod_ids)//50 + 1"
   ]
  },
  {
   "cell_type": "code",
   "execution_count": 7,
   "id": "fd1062a1-8c9a-49f4-b481-cd55fd81c535",
   "metadata": {
    "tags": []
   },
   "outputs": [],
   "source": [
    "completed_article_ids = []"
   ]
  },
  {
   "cell_type": "code",
   "execution_count": 8,
   "id": "77aea385-dd3f-4040-9c93-0e1c8c67e1fb",
   "metadata": {
    "tags": []
   },
   "outputs": [],
   "source": [
    "from datetime import datetime\n",
    "import time\n",
    "from concurrent.futures import ThreadPoolExecutor, as_completed"
   ]
  },
  {
   "cell_type": "code",
   "execution_count": 9,
   "id": "31d4a346-478b-4b1d-9b83-0e3deadf8903",
   "metadata": {
    "scrolled": true,
    "tags": []
   },
   "outputs": [
    {
     "name": "stdout",
     "output_type": "stream",
     "text": [
      "starting creation at Jan 15, 2024 11:14\n",
      "completed chunk 50 articles at Jan 15, 2024 11:17 in 2.5 minutes\n",
      "starting creation at Jan 15, 2024 11:17\n",
      "completed chunk 100 articles at Jan 15, 2024 11:19 in 2.7666666666666666 minutes\n",
      "starting creation at Jan 15, 2024 11:19\n",
      "completed chunk 150 articles at Jan 15, 2024 11:22 in 2.6166666666666667 minutes\n",
      "starting creation at Jan 15, 2024 11:22\n",
      "completed chunk 200 articles at Jan 15, 2024 11:24 in 2.2 minutes\n",
      "starting creation at Jan 15, 2024 11:24\n",
      "completed chunk 250 articles at Jan 15, 2024 11:26 in 2.0166666666666666 minutes\n",
      "starting creation at Jan 15, 2024 11:26\n",
      "completed chunk 300 articles at Jan 15, 2024 11:29 in 2.716666666666667 minutes\n",
      "starting creation at Jan 15, 2024 11:29\n",
      "completed chunk 350 articles at Jan 15, 2024 11:30 in 1.2833333333333334 minutes\n",
      "starting creation at Jan 15, 2024 11:30\n",
      "completed chunk 400 articles at Jan 15, 2024 11:32 in 1.4666666666666666 minutes\n",
      "starting creation at Jan 15, 2024 11:32\n",
      "completed chunk 450 articles at Jan 15, 2024 11:33 in 1.5666666666666667 minutes\n",
      "starting creation at Jan 15, 2024 11:33\n",
      "completed chunk 500 articles at Jan 15, 2024 11:35 in 1.55 minutes\n",
      "starting creation at Jan 15, 2024 11:35\n",
      "completed chunk 550 articles at Jan 15, 2024 11:36 in 1.5333333333333334 minutes\n",
      "starting creation at Jan 15, 2024 11:36\n",
      "completed chunk 600 articles at Jan 15, 2024 11:39 in 2.7333333333333334 minutes\n",
      "starting creation at Jan 15, 2024 11:39\n",
      "completed chunk 650 articles at Jan 15, 2024 11:42 in 2.65 minutes\n",
      "starting creation at Jan 15, 2024 11:42\n",
      "completed chunk 700 articles at Jan 15, 2024 11:45 in 3.2 minutes\n",
      "starting creation at Jan 15, 2024 11:45\n",
      "completed chunk 750 articles at Jan 15, 2024 11:49 in 4.016666666666667 minutes\n",
      "starting creation at Jan 15, 2024 11:49\n",
      "completed chunk 800 articles at Jan 15, 2024 11:52 in 2.8666666666666667 minutes\n",
      "starting creation at Jan 15, 2024 11:52\n",
      "completed chunk 850 articles at Jan 15, 2024 11:53 in 0.8833333333333333 minutes\n",
      "starting creation at Jan 15, 2024 11:53\n",
      "completed chunk 900 articles at Jan 15, 2024 11:53 in 0.6166666666666667 minutes\n",
      "starting creation at Jan 15, 2024 11:53\n",
      "completed chunk 950 articles at Jan 15, 2024 11:54 in 0.6166666666666667 minutes\n",
      "starting creation at Jan 15, 2024 11:54\n",
      "completed chunk 1000 articles at Jan 15, 2024 11:55 in 0.6333333333333333 minutes\n",
      "starting creation at Jan 15, 2024 11:55\n",
      "completed chunk 1050 articles at Jan 15, 2024 11:55 in 0.6333333333333333 minutes\n",
      "starting creation at Jan 15, 2024 11:55\n",
      "completed chunk 1100 articles at Jan 15, 2024 11:56 in 0.5666666666666667 minutes\n",
      "starting creation at Jan 15, 2024 11:56\n",
      "completed chunk 1150 articles at Jan 15, 2024 11:56 in 0.55 minutes\n",
      "starting creation at Jan 15, 2024 11:56\n",
      "completed chunk 1200 articles at Jan 15, 2024 11:57 in 0.5333333333333333 minutes\n",
      "starting creation at Jan 15, 2024 11:57\n",
      "completed chunk 1250 articles at Jan 15, 2024 11:58 in 0.5333333333333333 minutes\n",
      "starting creation at Jan 15, 2024 11:58\n",
      "completed chunk 1300 articles at Jan 15, 2024 11:58 in 0.5333333333333333 minutes\n",
      "starting creation at Jan 15, 2024 11:58\n",
      "completed chunk 1350 articles at Jan 15, 2024 11:59 in 0.5166666666666667 minutes\n",
      "starting creation at Jan 15, 2024 11:59\n",
      "completed chunk 1400 articles at Jan 15, 2024 11:59 in 0.5333333333333333 minutes\n",
      "starting creation at Jan 15, 2024 11:59\n",
      "completed chunk 1450 articles at Jan 15, 2024 12:00 in 0.55 minutes\n",
      "starting creation at Jan 15, 2024 12:00\n",
      "completed chunk 1500 articles at Jan 15, 2024 12:00 in 0.5333333333333333 minutes\n",
      "starting creation at Jan 15, 2024 12:00\n",
      "completed chunk 1550 articles at Jan 15, 2024 12:01 in 0.6166666666666667 minutes\n",
      "starting creation at Jan 15, 2024 12:01\n",
      "completed chunk 1600 articles at Jan 15, 2024 12:02 in 0.7333333333333333 minutes\n",
      "starting creation at Jan 15, 2024 12:02\n",
      "completed chunk 1650 articles at Jan 15, 2024 12:02 in 0.7166666666666667 minutes\n",
      "starting creation at Jan 15, 2024 12:02\n",
      "completed chunk 1700 articles at Jan 15, 2024 12:03 in 0.7833333333333333 minutes\n",
      "starting creation at Jan 15, 2024 12:03\n",
      "completed chunk 1750 articles at Jan 15, 2024 12:04 in 0.65 minutes\n",
      "starting creation at Jan 15, 2024 12:04\n",
      "completed chunk 1800 articles at Jan 15, 2024 12:04 in 0.6833333333333333 minutes\n",
      "starting creation at Jan 15, 2024 12:04\n",
      "completed chunk 1850 articles at Jan 15, 2024 12:05 in 0.7333333333333333 minutes\n",
      "starting creation at Jan 15, 2024 12:05\n",
      "completed chunk 1900 articles at Jan 15, 2024 12:06 in 0.9333333333333333 minutes\n",
      "starting creation at Jan 15, 2024 12:06\n",
      "completed chunk 1950 articles at Jan 15, 2024 12:07 in 0.65 minutes\n",
      "starting creation at Jan 15, 2024 12:07\n",
      "completed chunk 2000 articles at Jan 15, 2024 12:08 in 1.15 minutes\n",
      "starting creation at Jan 15, 2024 12:08\n",
      "completed chunk 2050 articles at Jan 15, 2024 12:09 in 1.15 minutes\n",
      "starting creation at Jan 15, 2024 12:09\n",
      "completed chunk 2100 articles at Jan 15, 2024 12:10 in 1.0833333333333333 minutes\n",
      "starting creation at Jan 15, 2024 12:10\n",
      "completed chunk 2150 articles at Jan 15, 2024 12:11 in 0.8 minutes\n",
      "starting creation at Jan 15, 2024 12:11\n",
      "completed chunk 2200 articles at Jan 15, 2024 12:12 in 0.8333333333333334 minutes\n",
      "starting creation at Jan 15, 2024 12:12\n",
      "completed chunk 2250 articles at Jan 15, 2024 12:13 in 0.8666666666666667 minutes\n",
      "starting creation at Jan 15, 2024 12:13\n",
      "completed chunk 2300 articles at Jan 15, 2024 12:14 in 1.0166666666666666 minutes\n",
      "starting creation at Jan 15, 2024 12:14\n",
      "completed chunk 2350 articles at Jan 15, 2024 12:15 in 1.1333333333333333 minutes\n",
      "starting creation at Jan 15, 2024 12:15\n",
      "completed chunk 2400 articles at Jan 15, 2024 12:16 in 1.1833333333333333 minutes\n",
      "starting creation at Jan 15, 2024 12:16\n",
      "completed chunk 2450 articles at Jan 15, 2024 12:17 in 0.8666666666666667 minutes\n",
      "starting creation at Jan 15, 2024 12:17\n",
      "completed chunk 2500 articles at Jan 15, 2024 12:18 in 0.8666666666666667 minutes\n",
      "starting creation at Jan 15, 2024 12:18\n",
      "completed chunk 2550 articles at Jan 15, 2024 12:20 in 1.9833333333333334 minutes\n"
     ]
    }
   ],
   "source": [
    "for i in range(num_chunks):\n",
    "    article_chunk = pod_ids[i*50:(i+1)*50]\n",
    "    print(f'starting creation at {\"{:%b %d, %Y %H:%M}\".format(datetime.now())}')\n",
    "    start_time = time.time()\n",
    "    with ThreadPoolExecutor(max_workers=10) as executor:\n",
    "        futures = [executor.submit(create_embeddings, art_id) for art_id in article_chunk]\n",
    "\n",
    "        for future in as_completed(futures):\n",
    "            response = future.result()\n",
    "            if response:  # Timeout or other errors\n",
    "                completed_article_ids.append(response)\n",
    "                continue\n",
    "    print(f'completed chunk {(i + 1) * 50} articles at {\"{:%b %d, %Y %H:%M}\".format(datetime.now())} in {int(time.time() - start_time)/60} minutes')"
   ]
  },
  {
   "cell_type": "code",
   "execution_count": 11,
   "id": "17598244-dfd0-41df-b87c-4e7655620973",
   "metadata": {
    "tags": []
   },
   "outputs": [],
   "source": [
    "def create_attributes(article_id):\n",
    "    r = requests.post('http://Arcane-env.eba-mrsaixmg.ap-south-1.elasticbeanstalk.com/get_article_attributes_from_llm', json={'articleId': article_id})\n",
    "    if r.status_code == 200:\n",
    "        return article_id"
   ]
  },
  {
   "cell_type": "code",
   "execution_count": 12,
   "id": "80234224-9a90-45bf-ad90-cba2c1dbcd81",
   "metadata": {
    "tags": []
   },
   "outputs": [],
   "source": [
    "completed_article_ids = []"
   ]
  },
  {
   "cell_type": "code",
   "execution_count": 13,
   "id": "029859bb-50a1-4ff6-b8af-b9e99f86d725",
   "metadata": {
    "scrolled": true,
    "tags": []
   },
   "outputs": [
    {
     "name": "stdout",
     "output_type": "stream",
     "text": [
      "starting creation at Jan 15, 2024 13:03\n",
      "completed chunk 50 articles at Jan 15, 2024 13:04 in 0.13333333333333333 minutes\n",
      "starting creation at Jan 15, 2024 13:04\n",
      "completed chunk 100 articles at Jan 15, 2024 13:04 in 0.13333333333333333 minutes\n",
      "starting creation at Jan 15, 2024 13:04\n",
      "completed chunk 150 articles at Jan 15, 2024 13:04 in 0.13333333333333333 minutes\n",
      "starting creation at Jan 15, 2024 13:04\n",
      "completed chunk 200 articles at Jan 15, 2024 13:04 in 0.13333333333333333 minutes\n",
      "starting creation at Jan 15, 2024 13:04\n",
      "completed chunk 250 articles at Jan 15, 2024 13:04 in 0.15 minutes\n",
      "starting creation at Jan 15, 2024 13:04\n",
      "completed chunk 300 articles at Jan 15, 2024 13:04 in 0.13333333333333333 minutes\n",
      "starting creation at Jan 15, 2024 13:04\n",
      "completed chunk 350 articles at Jan 15, 2024 13:04 in 0.13333333333333333 minutes\n",
      "starting creation at Jan 15, 2024 13:04\n",
      "completed chunk 400 articles at Jan 15, 2024 13:05 in 0.15 minutes\n",
      "starting creation at Jan 15, 2024 13:05\n",
      "completed chunk 450 articles at Jan 15, 2024 13:05 in 0.15 minutes\n",
      "starting creation at Jan 15, 2024 13:05\n",
      "completed chunk 500 articles at Jan 15, 2024 13:05 in 0.13333333333333333 minutes\n",
      "starting creation at Jan 15, 2024 13:05\n",
      "completed chunk 550 articles at Jan 15, 2024 13:05 in 0.13333333333333333 minutes\n",
      "starting creation at Jan 15, 2024 13:05\n",
      "completed chunk 600 articles at Jan 15, 2024 13:05 in 0.13333333333333333 minutes\n",
      "starting creation at Jan 15, 2024 13:05\n",
      "completed chunk 650 articles at Jan 15, 2024 13:05 in 0.13333333333333333 minutes\n",
      "starting creation at Jan 15, 2024 13:05\n",
      "completed chunk 700 articles at Jan 15, 2024 13:05 in 0.13333333333333333 minutes\n",
      "starting creation at Jan 15, 2024 13:05\n",
      "completed chunk 750 articles at Jan 15, 2024 13:06 in 0.15 minutes\n",
      "starting creation at Jan 15, 2024 13:06\n",
      "completed chunk 800 articles at Jan 15, 2024 13:06 in 0.13333333333333333 minutes\n",
      "starting creation at Jan 15, 2024 13:06\n",
      "completed chunk 850 articles at Jan 15, 2024 13:06 in 0.13333333333333333 minutes\n",
      "starting creation at Jan 15, 2024 13:06\n",
      "completed chunk 900 articles at Jan 15, 2024 13:06 in 0.13333333333333333 minutes\n",
      "starting creation at Jan 15, 2024 13:06\n",
      "completed chunk 950 articles at Jan 15, 2024 13:06 in 0.13333333333333333 minutes\n",
      "starting creation at Jan 15, 2024 13:06\n",
      "completed chunk 1000 articles at Jan 15, 2024 13:06 in 0.13333333333333333 minutes\n",
      "starting creation at Jan 15, 2024 13:06\n",
      "completed chunk 1050 articles at Jan 15, 2024 13:06 in 0.15 minutes\n",
      "starting creation at Jan 15, 2024 13:06\n",
      "completed chunk 1100 articles at Jan 15, 2024 13:07 in 0.13333333333333333 minutes\n",
      "starting creation at Jan 15, 2024 13:07\n",
      "completed chunk 1150 articles at Jan 15, 2024 13:07 in 0.15 minutes\n",
      "starting creation at Jan 15, 2024 13:07\n",
      "completed chunk 1200 articles at Jan 15, 2024 13:07 in 0.13333333333333333 minutes\n",
      "starting creation at Jan 15, 2024 13:07\n",
      "completed chunk 1250 articles at Jan 15, 2024 13:07 in 0.13333333333333333 minutes\n",
      "starting creation at Jan 15, 2024 13:07\n",
      "completed chunk 1300 articles at Jan 15, 2024 13:07 in 0.13333333333333333 minutes\n",
      "starting creation at Jan 15, 2024 13:07\n",
      "completed chunk 1350 articles at Jan 15, 2024 13:07 in 0.15 minutes\n",
      "starting creation at Jan 15, 2024 13:07\n",
      "completed chunk 1400 articles at Jan 15, 2024 13:08 in 0.13333333333333333 minutes\n",
      "starting creation at Jan 15, 2024 13:08\n",
      "completed chunk 1450 articles at Jan 15, 2024 13:08 in 0.13333333333333333 minutes\n",
      "starting creation at Jan 15, 2024 13:08\n",
      "completed chunk 1500 articles at Jan 15, 2024 13:08 in 0.13333333333333333 minutes\n",
      "starting creation at Jan 15, 2024 13:08\n",
      "completed chunk 1550 articles at Jan 15, 2024 13:08 in 0.13333333333333333 minutes\n",
      "starting creation at Jan 15, 2024 13:08\n",
      "completed chunk 1600 articles at Jan 15, 2024 13:08 in 0.13333333333333333 minutes\n",
      "starting creation at Jan 15, 2024 13:08\n",
      "completed chunk 1650 articles at Jan 15, 2024 13:08 in 0.11666666666666667 minutes\n",
      "starting creation at Jan 15, 2024 13:08\n",
      "completed chunk 1700 articles at Jan 15, 2024 13:08 in 0.15 minutes\n",
      "starting creation at Jan 15, 2024 13:08\n",
      "completed chunk 1750 articles at Jan 15, 2024 13:09 in 0.13333333333333333 minutes\n",
      "starting creation at Jan 15, 2024 13:09\n",
      "completed chunk 1800 articles at Jan 15, 2024 13:09 in 0.15 minutes\n",
      "starting creation at Jan 15, 2024 13:09\n",
      "completed chunk 1850 articles at Jan 15, 2024 13:09 in 0.13333333333333333 minutes\n",
      "starting creation at Jan 15, 2024 13:09\n",
      "completed chunk 1900 articles at Jan 15, 2024 13:09 in 0.13333333333333333 minutes\n",
      "starting creation at Jan 15, 2024 13:09\n",
      "completed chunk 1950 articles at Jan 15, 2024 13:09 in 0.13333333333333333 minutes\n",
      "starting creation at Jan 15, 2024 13:09\n",
      "completed chunk 2000 articles at Jan 15, 2024 13:09 in 0.13333333333333333 minutes\n",
      "starting creation at Jan 15, 2024 13:09\n",
      "completed chunk 2050 articles at Jan 15, 2024 13:09 in 0.13333333333333333 minutes\n",
      "starting creation at Jan 15, 2024 13:09\n",
      "completed chunk 2100 articles at Jan 15, 2024 13:10 in 0.15 minutes\n",
      "starting creation at Jan 15, 2024 13:10\n",
      "completed chunk 2150 articles at Jan 15, 2024 13:10 in 0.13333333333333333 minutes\n",
      "starting creation at Jan 15, 2024 13:10\n",
      "completed chunk 2200 articles at Jan 15, 2024 13:10 in 0.15 minutes\n",
      "starting creation at Jan 15, 2024 13:10\n",
      "completed chunk 2250 articles at Jan 15, 2024 13:10 in 0.13333333333333333 minutes\n",
      "starting creation at Jan 15, 2024 13:10\n",
      "completed chunk 2300 articles at Jan 15, 2024 13:10 in 0.15 minutes\n",
      "starting creation at Jan 15, 2024 13:10\n",
      "completed chunk 2350 articles at Jan 15, 2024 13:10 in 0.13333333333333333 minutes\n",
      "starting creation at Jan 15, 2024 13:10\n",
      "completed chunk 2400 articles at Jan 15, 2024 13:10 in 0.13333333333333333 minutes\n",
      "starting creation at Jan 15, 2024 13:10\n",
      "completed chunk 2450 articles at Jan 15, 2024 13:11 in 0.13333333333333333 minutes\n",
      "starting creation at Jan 15, 2024 13:11\n",
      "completed chunk 2500 articles at Jan 15, 2024 13:11 in 0.13333333333333333 minutes\n",
      "starting creation at Jan 15, 2024 13:11\n",
      "completed chunk 2550 articles at Jan 15, 2024 13:11 in 0.08333333333333333 minutes\n"
     ]
    }
   ],
   "source": [
    "for i in range(num_chunks):\n",
    "    article_chunk = pod_ids[i*50:(i+1)*50]\n",
    "    print(f'starting creation at {\"{:%b %d, %Y %H:%M}\".format(datetime.now())}')\n",
    "    start_time = time.time()\n",
    "    with ThreadPoolExecutor(max_workers=10) as executor:\n",
    "        futures = [executor.submit(create_attributes, art_id) for art_id in article_chunk]\n",
    "\n",
    "        for future in as_completed(futures):\n",
    "            response = future.result()\n",
    "            if response:  # Timeout or other errors\n",
    "                completed_article_ids.append(response)\n",
    "                continue\n",
    "    print(f'completed chunk {(i + 1) * 50} articles at {\"{:%b %d, %Y %H:%M}\".format(datetime.now())} in {int(time.time() - start_time)/60} minutes')"
   ]
  },
  {
   "cell_type": "code",
   "execution_count": null,
   "id": "7c184a31-29e5-4f65-9c2b-9ab1b31985bd",
   "metadata": {},
   "outputs": [],
   "source": []
  },
  {
   "cell_type": "code",
   "execution_count": null,
   "id": "cec0df40-fd98-4cbe-8b50-24d520a69d91",
   "metadata": {},
   "outputs": [],
   "source": []
  },
  {
   "cell_type": "code",
   "execution_count": 4,
   "id": "4768fc74-c5ea-43f9-ae89-8dfb6e62b73c",
   "metadata": {
    "tags": []
   },
   "outputs": [],
   "source": [
    "from src.embeddings.EmbeddingsService import EmbeddingsService\n",
    "from src.articles.ArticleAttributesService import ArticleAttributesService"
   ]
  },
  {
   "cell_type": "code",
   "execution_count": 6,
   "id": "d056d36b-bdd8-431e-839a-51c9ff6a2579",
   "metadata": {
    "tags": []
   },
   "outputs": [],
   "source": [
    "embedding_service = EmbeddingsService(hf_model_path='BAAI/bge-large-en-v1.5')"
   ]
  },
  {
   "cell_type": "code",
   "execution_count": 7,
   "id": "1ae3fc75-e5f0-414f-8f32-b5e1a7da4194",
   "metadata": {
    "tags": []
   },
   "outputs": [],
   "source": [
    "embedding_service.create_article_embeddings(article=article)"
   ]
  },
  {
   "cell_type": "code",
   "execution_count": 5,
   "id": "5ec86c39-a0b9-4fe9-adc4-c57d1491cb98",
   "metadata": {
    "tags": []
   },
   "outputs": [
    {
     "name": "stderr",
     "output_type": "stream",
     "text": [
      "Special tokens have been added in the vocabulary, make sure the associated word embeddings are fine-tuned or trained.\n",
      "Special tokens have been added in the vocabulary, make sure the associated word embeddings are fine-tuned or trained.\n"
     ]
    }
   ],
   "source": [
    "attributes_service = ArticleAttributesService()"
   ]
  },
  {
   "cell_type": "code",
   "execution_count": 6,
   "id": "08c11f6c-7d38-410e-a3f6-a510174f866e",
   "metadata": {
    "scrolled": true,
    "tags": []
   },
   "outputs": [
    {
     "name": "stderr",
     "output_type": "stream",
     "text": [
      "No such object in the bucket.\n",
      "659faf5ee362d630b6472629 added to candidates\n"
     ]
    }
   ],
   "source": [
    "article_attributes = attributes_service.compute_save_article_attributes_from_llm(article_id=article_id)"
   ]
  },
  {
   "cell_type": "code",
   "execution_count": 9,
   "id": "003cbb6e-bfb9-44d0-a02a-a7dfe54c9c14",
   "metadata": {
    "tags": []
   },
   "outputs": [],
   "source": [
    "import numpy as np"
   ]
  },
  {
   "cell_type": "code",
   "execution_count": 10,
   "id": "56eb4fd1-7db0-450c-b51c-5ea6ae1457b8",
   "metadata": {
    "tags": []
   },
   "outputs": [
    {
     "data": {
      "text/plain": [
       "True"
      ]
     },
     "execution_count": 10,
     "metadata": {},
     "output_type": "execute_result"
    }
   ],
   "source": [
    "1999 < np.inf"
   ]
  },
  {
   "cell_type": "code",
   "execution_count": 8,
   "id": "50219768-a936-41cd-864b-6e3ab7aa2d40",
   "metadata": {
    "tags": []
   },
   "outputs": [],
   "source": [
    "from src.candidates._utils import is_candidate"
   ]
  },
  {
   "cell_type": "code",
   "execution_count": 9,
   "id": "e614b3e3-067c-48fa-85a5-dbdedac955d3",
   "metadata": {
    "tags": []
   },
   "outputs": [
    {
     "data": {
      "text/plain": [
       "True"
      ]
     },
     "execution_count": 9,
     "metadata": {},
     "output_type": "execute_result"
    }
   ],
   "source": [
    "is_candidate(article_attributes)"
   ]
  },
  {
   "cell_type": "code",
   "execution_count": 10,
   "id": "e91aab31-ba33-40fe-ba58-0f7076045d61",
   "metadata": {
    "scrolled": true,
    "tags": []
   },
   "outputs": [
    {
     "data": {
      "text/plain": [
       "{'summary': '',\n",
       " 'summary_critique': '',\n",
       " 'improved_summary': '',\n",
       " 'top_categories': '',\n",
       " 'financial_or_business_news': True,\n",
       " 'indian_or_international': 'indian',\n",
       " 'relevant_for_india': True,\n",
       " 'article_validity_duration_evaluation': '',\n",
       " 'article_validity_duration': -1,\n",
       " 'popularity_evaluation': '',\n",
       " 'popularity_evaluation_critique': '',\n",
       " 'final_reader_interest_score': 0.5,\n",
       " 'final_headline_effectiveness_score': 0.5,\n",
       " 'final_event_novelty_score': 0.5,\n",
       " 'final_emotional_impact_score': 0.5,\n",
       " 'popularity': 'moderately_popular',\n",
       " 'improved_headline': '',\n",
       " 'article_type': 'opinion',\n",
       " 'article_sentiment': 'na',\n",
       " 'hours_since_publication': 2839.805743280833,\n",
       " 'financial_news': True,\n",
       " 'validity_in_hours': -24}"
      ]
     },
     "execution_count": 10,
     "metadata": {},
     "output_type": "execute_result"
    }
   ],
   "source": [
    "article_attributes"
   ]
  },
  {
   "cell_type": "code",
   "execution_count": 14,
   "id": "b2520a01-6167-4127-bf58-e7f4cb7f3e1b",
   "metadata": {
    "tags": []
   },
   "outputs": [],
   "source": [
    "from sql.clustering.ClusteringSQL import ClusteringSQL"
   ]
  },
  {
   "cell_type": "code",
   "execution_count": 15,
   "id": "5a12f39a-86ff-41b9-8d98-749d077caa41",
   "metadata": {
    "tags": []
   },
   "outputs": [],
   "source": [
    "clustering_run_id = ClusteringSQL.get_latest_run_id()"
   ]
  },
  {
   "cell_type": "code",
   "execution_count": 17,
   "id": "2a1fe10f-82ec-4599-b49e-d30b54adbe3a",
   "metadata": {
    "tags": []
   },
   "outputs": [],
   "source": [
    "from src._utils import load_bertopic_model_from_hf"
   ]
  },
  {
   "cell_type": "code",
   "execution_count": 18,
   "id": "1b636609-3bf5-465c-b0d9-e23f770faa0f",
   "metadata": {
    "tags": []
   },
   "outputs": [],
   "source": [
    "bertopic_model = load_bertopic_model_from_hf(run_id=clustering_run_id)"
   ]
  },
  {
   "cell_type": "code",
   "execution_count": 20,
   "id": "a66adc0b-3aea-46b5-b034-08f3de2b944c",
   "metadata": {
    "tags": []
   },
   "outputs": [],
   "source": [
    "from src.clustering.ClusterAssignmentService import ClusterAssignmentService"
   ]
  },
  {
   "cell_type": "code",
   "execution_count": 21,
   "id": "7a6293cd-0859-4d2b-8522-961903d2624f",
   "metadata": {
    "tags": []
   },
   "outputs": [],
   "source": [
    "cluster_assignment_service = ClusterAssignmentService(clustering_run_id=clustering_run_id, bertopic_model=bertopic_model)"
   ]
  },
  {
   "cell_type": "code",
   "execution_count": 22,
   "id": "d23ef685-48c0-49f3-8efa-f1c612a02bbe",
   "metadata": {
    "tags": []
   },
   "outputs": [
    {
     "data": {
      "text/plain": [
       "Article(article_id='659faf5ee362d630b6472629', title='Welcome to the Business Line Podcast!', is_premium_article=False, published_time='2023-09-15T10:30:00+00:00', source_id='659f9ad8c7d0b17ce3bc2340', url='https://d2o0junn7v21kh.cloudfront.net/659faf5ee362d630b6472629/podcastEpisodeAudio.mp3', cleaned_text='', content_type='PODCAST_EPISODE', short_description='Welcome to The Business Line Podcast, with Brian & Manish. Tune in every week for thought-provoking conversations with business experts from around the world.You can watch all our episodes on YouTube!Connect with us!LinkedInFacebookInstagramLearn more about Panacea Smart Solutions.', image_url='', full_content='headline: Welcome to the Business Line Podcast.  content: Welcome to The Business Line Podcast with Brian  Manish. Tune in every week for thought-provoking conversations with business experts from around the world.You can watch all our episodes on YouTubeConnect with usLinkedInFacebookInstagramLearn more about Panacea Smart Solutions.')"
      ]
     },
     "execution_count": 22,
     "metadata": {},
     "output_type": "execute_result"
    }
   ],
   "source": [
    "article"
   ]
  },
  {
   "cell_type": "code",
   "execution_count": 23,
   "id": "65a064a9-2d40-4a34-8b58-7fc9c8fbbb74",
   "metadata": {
    "tags": []
   },
   "outputs": [],
   "source": [
    "cluster_assignment_service.compute_save_cluster_id_for_article_id(article_id=article_id, article_text=article.full_content)"
   ]
  },
  {
   "cell_type": "code",
   "execution_count": 4,
   "id": "fc234e48-cba2-42da-8126-ee8df8f322a7",
   "metadata": {
    "tags": []
   },
   "outputs": [],
   "source": [
    "from src.candidates.CandidatesService import CandidatesService"
   ]
  },
  {
   "cell_type": "code",
   "execution_count": 5,
   "id": "7533e589-1c3b-4853-9b2d-cd0237460e80",
   "metadata": {
    "tags": []
   },
   "outputs": [
    {
     "name": "stderr",
     "output_type": "stream",
     "text": [
      "WARNING:root:cleaned article 659faf60e362d630b647262b - headline: The D1 Sports Influence.  content:  has less than 10 words or 30 characters\n",
      "WARNING:root:cleaned article 659fb612e362d630b647263a - headline: Trailer.  content:  has less than 10 words or 30 characters\n"
     ]
    },
    {
     "name": "stdout",
     "output_type": "stream",
     "text": [
      "Article(article_id='659faf5ee362d630b6472629', title='Welcome to the Business Line Podcast!', is_premium_article=False, published_time='2023-09-15T10:30:00+00:00', source_id='659f9ad8c7d0b17ce3bc2340', url='https://d2o0junn7v21kh.cloudfront.net/659faf5ee362d630b6472629/podcastEpisodeAudio.mp3', cleaned_text='', content_type='PODCAST_EPISODE', short_description='', image_url='', full_content='headline: Welcome to the Business Line Podcast.  content: ')\n"
     ]
    }
   ],
   "source": [
    "CandidatesService.update_candidate_articles()"
   ]
  },
  {
   "cell_type": "code",
   "execution_count": null,
   "id": "01100e9a-604d-48dd-8ce1-15880f3a8cee",
   "metadata": {},
   "outputs": [],
   "source": []
  }
 ],
 "metadata": {
  "kernelspec": {
   "display_name": "bertopicenv",
   "language": "python",
   "name": "bertopicenv"
  },
  "language_info": {
   "codemirror_mode": {
    "name": "ipython",
    "version": 3
   },
   "file_extension": ".py",
   "mimetype": "text/x-python",
   "name": "python",
   "nbconvert_exporter": "python",
   "pygments_lexer": "ipython3",
   "version": "3.9.18"
  }
 },
 "nbformat": 4,
 "nbformat_minor": 5
}
