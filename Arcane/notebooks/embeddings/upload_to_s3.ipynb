{
 "cells": [
  {
   "cell_type": "code",
   "execution_count": 1,
   "id": "006effca-9c03-48c2-a9b6-2ec54559b77f",
   "metadata": {
    "tags": []
   },
   "outputs": [],
   "source": [
    "import pandas as pd\n",
    "parent_folder = '/Users/username/Desktop/ML/Recommendations/arcane/'\n",
    "from hydra import compose, initialize\n",
    "import os\n",
    "\n",
    "import xml.etree.ElementTree as ET\n",
    "\n",
    "tree = ET.parse('../../conf/application.run.xml')\n",
    "root = tree.getroot()\n",
    "\n",
    "envs_element = root.find('./configuration/envs')\n",
    "for variable in envs_element.findall('env'):\n",
    "    name = variable.get('name')\n",
    "    value = variable.get('value')\n",
    "    os.environ[name] = value\n",
    "\n",
    "import sys\n",
    "sys.path.append('/Users/username/Desktop/ML/Recommendations/arcane/')\n",
    "\n",
    "import numpy as np\n",
    "import pandas as pd\n",
    "import json\n",
    "from sql.articles.MongoDBArticle import MongoDBArticle\n",
    "from sql.PostgresDatabaseOperation import PostgresDatabaseOperation"
   ]
  },
  {
   "cell_type": "code",
   "execution_count": 2,
   "id": "087b6ecd-ea73-4b00-b614-6f12cc209581",
   "metadata": {
    "tags": []
   },
   "outputs": [],
   "source": [
    "data_df = pd.read_csv('titles_classes_gpt4_results.csv')"
   ]
  },
  {
   "cell_type": "code",
   "execution_count": 3,
   "id": "4f067c65-cfcd-402a-b088-06f24537b7ae",
   "metadata": {
    "tags": []
   },
   "outputs": [],
   "source": [
    "data_article_ids = list(data_df.id.unique())"
   ]
  },
  {
   "cell_type": "code",
   "execution_count": 4,
   "id": "1f0f45ef-b34f-40e5-b1b3-d0a28bb16d3a",
   "metadata": {
    "tags": []
   },
   "outputs": [],
   "source": [
    "data_articles = MongoDBArticle.fetch_documents_by_ids(data_article_ids)"
   ]
  },
  {
   "cell_type": "code",
   "execution_count": 5,
   "id": "a44795a8-f779-4080-bc59-484713e3c795",
   "metadata": {
    "tags": []
   },
   "outputs": [],
   "source": [
    "data_articles_dict = {str(x['_id']): x for x in data_articles}"
   ]
  },
  {
   "cell_type": "code",
   "execution_count": 6,
   "id": "c37a467e-5d13-4c18-b86e-606c5fb8d3ef",
   "metadata": {
    "tags": []
   },
   "outputs": [],
   "source": [
    "for idx, x in data_articles_dict.items():\n",
    "    x['full_content'] = f\"title: {x['title']}. content: {x['cleaned_text']}\""
   ]
  },
  {
   "cell_type": "code",
   "execution_count": 8,
   "id": "565d41dd-9a70-4578-b3b2-da3992fb5582",
   "metadata": {
    "tags": []
   },
   "outputs": [],
   "source": [
    "data_df['full_content'] = data_df['id'].apply(lambda x: data_articles_dict[x]['full_content'])"
   ]
  },
  {
   "cell_type": "code",
   "execution_count": 10,
   "id": "8891db72-e28e-45cc-838c-a12bad491038",
   "metadata": {
    "tags": []
   },
   "outputs": [],
   "source": [
    "data_df.to_csv('titles_classes_gpt4_with_full_content.csv',index = False)"
   ]
  },
  {
   "cell_type": "code",
   "execution_count": 11,
   "id": "6bd099d5-747a-4f70-9f32-c758240112cd",
   "metadata": {
    "tags": []
   },
   "outputs": [
    {
     "data": {
      "text/plain": [
       "'AmazonSageMaker-ExecutionRole-20231030T210397'"
      ]
     },
     "execution_count": 11,
     "metadata": {},
     "output_type": "execute_result"
    }
   ],
   "source": [
    "import boto3\n",
    "iam = boto3.client('iam')\n",
    "response = iam.list_roles()\n",
    "sagemaker_roles = [role for role in response['Roles'] if 'SageMaker' in role['RoleName']]\n",
    "sagemaker_roles[0]['RoleName']"
   ]
  },
  {
   "cell_type": "code",
   "execution_count": 12,
   "id": "81ea740f-c887-48ed-a85b-2126face34ef",
   "metadata": {
    "tags": []
   },
   "outputs": [
    {
     "name": "stdout",
     "output_type": "stream",
     "text": [
      "sagemaker.config INFO - Not applying SDK defaults from location: /Library/Application Support/sagemaker/config.yaml\n",
      "sagemaker.config INFO - Not applying SDK defaults from location: /Users/username/Library/Application Support/sagemaker/config.yaml\n",
      "sagemaker.config INFO - Not applying SDK defaults from location: /Library/Application Support/sagemaker/config.yaml\n",
      "sagemaker.config INFO - Not applying SDK defaults from location: /Users/username/Library/Application Support/sagemaker/config.yaml\n",
      "sagemaker.config INFO - Not applying SDK defaults from location: /Library/Application Support/sagemaker/config.yaml\n",
      "sagemaker.config INFO - Not applying SDK defaults from location: /Users/username/Library/Application Support/sagemaker/config.yaml\n"
     ]
    },
    {
     "name": "stderr",
     "output_type": "stream",
     "text": [
      "Couldn't call 'get_role' to get Role ARN from role name username to get Role path.\n"
     ]
    },
    {
     "name": "stdout",
     "output_type": "stream",
     "text": [
      "sagemaker.config INFO - Not applying SDK defaults from location: /Library/Application Support/sagemaker/config.yaml\n",
      "sagemaker.config INFO - Not applying SDK defaults from location: /Users/username/Library/Application Support/sagemaker/config.yaml\n",
      "sagemaker role arn: arn:aws:iam::005418323977:role/service-role/AmazonSageMaker-ExecutionRole-20231030T210397\n",
      "sagemaker bucket: sagemaker-ap-south-1-005418323977\n",
      "sagemaker session region: ap-south-1\n"
     ]
    }
   ],
   "source": [
    "import sagemaker\n",
    "import boto3\n",
    "sess = sagemaker.Session()\n",
    "sagemaker_session_bucket=None\n",
    "if sagemaker_session_bucket is None and sess is not None:\n",
    "    sagemaker_session_bucket = sess.default_bucket()\n",
    "try:\n",
    "    role = sagemaker.get_execution_role()\n",
    "except ValueError:\n",
    "    iam = boto3.client('iam')\n",
    "    role = iam.get_role(RoleName='AmazonSageMaker-ExecutionRole-20231030T210397')['Role']['Arn']\n",
    "sess = sagemaker.Session(default_bucket=sagemaker_session_bucket)\n",
    "print(f\"sagemaker role arn: {role}\")\n",
    "print(f\"sagemaker bucket: {sess.default_bucket()}\")\n",
    "print(f\"sagemaker session region: {sess.boto_region_name}\")"
   ]
  },
  {
   "cell_type": "code",
   "execution_count": 14,
   "id": "79ccf594-17ef-435a-b6e3-b70a8671b539",
   "metadata": {
    "tags": []
   },
   "outputs": [],
   "source": [
    "from io import StringIO # python3; python2: BytesIO "
   ]
  },
  {
   "cell_type": "code",
   "execution_count": 19,
   "id": "ef5620eb-ef7d-4d88-a704-939f7957e6a3",
   "metadata": {
    "tags": []
   },
   "outputs": [],
   "source": [
    "csv_buffer = StringIO()\n",
    "data_df.to_csv(csv_buffer)"
   ]
  },
  {
   "cell_type": "code",
   "execution_count": 20,
   "id": "2de1ac9f-33fa-43dc-b307-19631ccb5994",
   "metadata": {
    "tags": []
   },
   "outputs": [
    {
     "data": {
      "text/plain": [
       "{'ResponseMetadata': {'RequestId': 'WVMZXG5ST8QJQ2W4',\n",
       "  'HostId': 'JlD0qOlmALnGb4LSbfjbFE7bzsZJCO2nMNiTCry0ampRH7DiLW7QKhkiiOsQhN5odXGUplcxfeQ=',\n",
       "  'HTTPStatusCode': 200,\n",
       "  'HTTPHeaders': {'x-amz-id-2': 'JlD0qOlmALnGb4LSbfjbFE7bzsZJCO2nMNiTCry0ampRH7DiLW7QKhkiiOsQhN5odXGUplcxfeQ=',\n",
       "   'x-amz-request-id': 'WVMZXG5ST8QJQ2W4',\n",
       "   'date': 'Sat, 17 Feb 2024 06:30:50 GMT',\n",
       "   'x-amz-server-side-encryption': 'AES256',\n",
       "   'etag': '\"f89655f8a08edb25c45983d19da8d646\"',\n",
       "   'server': 'AmazonS3',\n",
       "   'content-length': '0'},\n",
       "  'RetryAttempts': 0},\n",
       " 'ETag': '\"f89655f8a08edb25c45983d19da8d646\"',\n",
       " 'ServerSideEncryption': 'AES256'}"
      ]
     },
     "execution_count": 20,
     "metadata": {},
     "output_type": "execute_result"
    }
   ],
   "source": [
    "bucket = sess.default_bucket() # already created on S3\n",
    "s3_resource = boto3.resource('s3')\n",
    "s3_resource.Object(bucket, 'datasets/recommendations/title_category_training_data.csv').put(Body=csv_buffer.getvalue())"
   ]
  },
  {
   "cell_type": "code",
   "execution_count": null,
   "id": "c5b2bfe1-9e40-4434-971b-8ca8050ab5ba",
   "metadata": {},
   "outputs": [],
   "source": [
    "training_input_path = f's3://{sess.default_bucket()}/fine_tuning_datasets/{finetune_dataset_config[\"date\"]}-{finetune_dataset_config[\"finetune_id\"]}'\n",
    "lm_dataset.save_to_disk(training_input_path)"
   ]
  }
 ],
 "metadata": {
  "kernelspec": {
   "display_name": "bertopicenv",
   "language": "python",
   "name": "bertopicenv"
  },
  "language_info": {
   "codemirror_mode": {
    "name": "ipython",
    "version": 3
   },
   "file_extension": ".py",
   "mimetype": "text/x-python",
   "name": "python",
   "nbconvert_exporter": "python",
   "pygments_lexer": "ipython3",
   "version": "3.9.18"
  }
 },
 "nbformat": 4,
 "nbformat_minor": 5
}
