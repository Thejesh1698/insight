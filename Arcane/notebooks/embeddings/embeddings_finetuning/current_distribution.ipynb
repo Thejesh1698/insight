{
 "cells": [
  {
   "cell_type": "code",
   "execution_count": 1,
   "id": "9420b577-7245-4527-adca-e0d0169deac4",
   "metadata": {
    "tags": []
   },
   "outputs": [],
   "source": [
    "from sentence_transformers import SentenceTransformer"
   ]
  },
  {
   "cell_type": "code",
   "execution_count": 2,
   "id": "2a254b6e-7280-4f52-b69b-6805ac4a7f09",
   "metadata": {
    "tags": []
   },
   "outputs": [],
   "source": [
    "sentence_transformer = SentenceTransformer(model_name_or_path='BAAI/bge-large-en-v1.5')"
   ]
  },
  {
   "cell_type": "code",
   "execution_count": 3,
   "id": "4f445dc9-10c9-486c-bbbb-1d7053eaf045",
   "metadata": {
    "tags": []
   },
   "outputs": [],
   "source": [
    "article1 = '''\n",
    "No review of action against Paytm Payments Bank: RBI gov Shaktikanta Das\n",
    "Shaktikanta Das said the central bank's decision came after a comprehensive assessment of the Paytm Payments Bank's operations and was taken in the interest of the consumers.\n",
    "\n",
    "Subhash Narayan\n",
    " Reserve Bank of India Governor Shaktikanta Das addresses a press conference. (PTI)\n",
    "Reserve Bank of India Governor Shaktikanta Das addresses a press conference. (PTI)\n",
    "NEW DELHI : Reserve Bank of India (RBI) governor Shaktikanta Das on Monday ruled out any review of the central bank’s action against Paytm Payments Bank Ltd (PPBL), saying the decision was taken after a lot of consideration and a comprehensive analysis of the lender’s functioning.\n",
    "\n",
    "The RBI on 31 January directed PPBL to stop accepting deposits or top-ups in customer accounts, wallets, FASTTags and other instruments after 29 February citing large scale non-compliance of regulations and supervisory concerns.\n",
    "\n",
    "“At the moment let me say very clearly, there is no review of this decision. If you are expecting a review of the decision, let me very clearly say there is no review of the decision and nothing is on the table,\" Das said at a press conference after a meeting of the RBI’s central board of directors. The meeting was also addressed by finance minister Nirmala Sitharaman.\n",
    "\n",
    "The RBI chief said any decision against an entity regulated by the central bank is taken after lot of thought and months—often years—of painstaking analysis and assessment of the functioning of the entity.\n",
    "\n",
    "“Decisions are taken in most serious manner in public interest. We take action only when we see no action on part of the regulated entities,\" Das said.\n",
    "\n",
    "While emphasizing that the RBI is supportive of the fintech sector, Das said it is also committed to protecting the interest of customers as well as ensuring financial stability.\n",
    "\n",
    "The central bank is expected to issue a set of FAQs (Frequently Asked Questions) on the Paytm matter this week. Das said the FAQs are being issued keeping the customer and depositor interest on top.\n",
    "\n",
    "Earlier too, on 11 March, 2022, the RBI had barred PPBL from onboarding new customers with immediate effect. While taking the decision on the bank, RBI has, however, allowed credit of interest, cashbacks or refunds even beyond 29 February.\n",
    "\n",
    "On the question of economic growth, the RBI governor said that the central bank was confident that the 7% gross domestic product growth projected for FY25 would be achieved on the back of strong momentum in economic activity.\n",
    "\n",
    "“Whether it is in the aggregate demand or investment cycle, overall momentum of economic activity continues to be strong. Our analysis shows that GDP growth in FY25 will touch 7%,\" Das said.\n",
    "\n",
    "He also said that private investment may pick up in next fiscal as the government moves ahead on the path of fiscal consolidation, which has also translated into lower borrowings by the Centre, making more resources available in the banking system for being used by the private sector.\n",
    "\n",
    "“Fiscal consolidation and lower central borrowings are growth inducing measures that should also induce investment by the private sector as more credit will be available to them,\" he said.\n",
    "\n",
    "The FY25 interim budget has brought down the fiscal deficit levels for FY24 from projected 5.9% to 5.8% and has budgeted a deficit of 5.1% for FY25 with the goal of taking it to targeted 4.5 % in FY26 as part of the fiscal consolidation glide path. This should also moderate the high debt-to-GDP ratio that currently stands at around 81%.\n",
    "\n",
    "“India is at the forefront of path of fiscal consolidation among all emerging economies,\" Das said.\n",
    "\n",
    "Das said the path toward growth- inducing fiscal consolidation may also lower bond yields and help to stabilize and moderate inflation.\n",
    "\n",
    "Inflation has seen moderation in the past few months, with retail inflation easing to 5.10% on an annual basis in January as against a four-month high of 5.69% in December.\n",
    "\n",
    "Das also said finance minister Nirmala Sitharaman on Monday launched linkage of India’s UPI system with fast payment systems of Mauritius and Sri Lanka that will allow users in both neighbouring countries to transact using a QR code for merchant purchases and other activities. The RuPay card will also be issued by banks in Mauritius that could be used for digital payments and ATM withdrawals in both the countries.\n",
    "\n",
    "“The arrangement with Sri Lanka is the third in the SAARC region after UPI services were also started in Nepal and Bhutan earlier. The arrangement with Mauritius is the first in the African region and it will act as a gateway for taking UPI to other African countries,\" Das said.\n",
    "\n",
    "He also highlighted that during her address to RBI central board of directors, the finance minister listed out priorities of the government as provided in the budget.\n",
    "\n",
    "Das said that the high capex provided in the budget was a GDP multiplier that would help the economy grow further.\n",
    "\n",
    "Here’s your comprehensive 3-minute summary of all the things Finance Minister Nirmala Sitharaman said in her Budget speech: Click to download!\n",
    "\n",
    "Related Premium Stories\n",
    "\n",
    "Catch all the Corporate news and Updates on Live Mint. Check all the latest action on Budget 2024 here. Download The Mint News App to get Daily Market Updates & Live Business News.\n",
    "More\n",
    "Published: 12 Feb 2024, 04:20 PM IST\n",
    "\n",
    "Topics You May Be Interested In\n",
    "'''"
   ]
  },
  {
   "cell_type": "code",
   "execution_count": 4,
   "id": "d3d8b660-bd86-4cf9-a83f-3ffb2b674877",
   "metadata": {
    "tags": []
   },
   "outputs": [],
   "source": [
    "article2 = '''\n",
    "Will RBI review its action against Paytm Payments Bank? Shaktikanta Das says…\n",
    "On January 31, the RBI had stopped Paytm Payments Bank from accepting all deposits from February 29.\n",
    "\n",
    "Reserve Bank of India governor Shaktikanta Das on Monday made it clear that the central bank will not review its action against Paytm Payments Bank, while adding that the action was taken after a comprehensive assessment of the functioning of the lender.\n",
    "\n",
    "\"At the moment let me say very clearly there is no review of this (PPBL) decision. If your are expecting a review of the decision, let me very clearly say there is (going to be) no review of the decision,\" PTI quoted the governor as saying at a press conference after the meeting of the Central Board of Directors of the Reserve Bank of India.\n",
    "\n",
    " Reserve Bank of India (RBI) Governor Shaktikanta Das(PTI)\n",
    "Reserve Bank of India (RBI) Governor Shaktikanta Das(PTI)\n",
    "‘Committed to protect the interest of customers’: RBI governor\n",
    "\n",
    "\n",
    "The meeting was addressed by Union finance minister Nirmala Sitharaman. The RBI governor said that the bank is supportive of the fintech sector and added that it is also committed to ‘ protect the interest of customers as well as ensure financial stability’.\n",
    "\n",
    "Discover the thrill of cricket like never before, exclusively on HT. Explore now!\n",
    "On January 31, the RBI had stopped Paytm Payments Bank from accepting all deposits from February 29.\n",
    "\n",
    "“No further deposits or credit transactions or top ups shall be allowed in any customer accounts, prepaid instruments, wallets, FASTags, NCMC cards, etc. after February 29, 2024, other than any interest, cashbacks, or refunds which may be credited anytime,” the central bank order had said.\n",
    "\n",
    "During the briefing held after the monetary policy committee announcement, the RBI had said that the action against the Paytm subsidiary was taken due to the lender's ‘persistent non-compliance’.\n",
    "\n",
    "\"We give sufficient time to every entity to comply and sometimes more than sufficient time to the entities for compliance. If they would comply, why would a regulator like us would have to take action?\" Das had said days after Paytm founder and CEO Vijay Shekhar Sharma had met the RBI and finance minister Sitharaman.\n",
    "\n",
    "According to reports, the RBI had refused to grant concessions to Paytm which included the extension of February 29 deadline.\n",
    "\n",
    "On the other hand, Sitharaman made it clear to Vijay Shekhar Sharma that the action by RBI was a regulatory one and the government cannot help the company with.\n",
    "\n",
    "(With PTI inputs)\n",
    "'''"
   ]
  },
  {
   "cell_type": "code",
   "execution_count": 6,
   "id": "48c74847-6b49-4e00-9f4a-cfb3a2fa0377",
   "metadata": {
    "tags": []
   },
   "outputs": [],
   "source": [
    "emb1 = sentence_transformer.encode(article1)"
   ]
  },
  {
   "cell_type": "code",
   "execution_count": 7,
   "id": "c8eee68f-bba7-434f-9338-e2f87f67bcb6",
   "metadata": {
    "tags": []
   },
   "outputs": [],
   "source": [
    "emb2 = sentence_transformer.encode(article2)"
   ]
  },
  {
   "cell_type": "code",
   "execution_count": 8,
   "id": "d9ace553-d1c7-47cb-8e10-8c6146bbf093",
   "metadata": {
    "tags": []
   },
   "outputs": [],
   "source": [
    "from sklearn.metrics.pairwise import cosine_similarity"
   ]
  },
  {
   "cell_type": "code",
   "execution_count": 10,
   "id": "0f6a3116-4a26-4076-84c9-d58a3572b9b0",
   "metadata": {
    "tags": []
   },
   "outputs": [
    {
     "data": {
      "text/plain": [
       "array([[0.9456756]], dtype=float32)"
      ]
     },
     "execution_count": 10,
     "metadata": {},
     "output_type": "execute_result"
    }
   ],
   "source": [
    "cosine_similarity([emb1], [emb2])"
   ]
  },
  {
   "cell_type": "code",
   "execution_count": 11,
   "id": "c6548508-22d4-4335-8d99-51e5ed54efa7",
   "metadata": {
    "tags": []
   },
   "outputs": [],
   "source": [
    "article3 = '''\n",
    "Outlook 2024: Paytm's path to profitability: Leaner structure, banking on AI\n",
    "The fintech major's journey to profitability in 2024 involves a multi-faceted strategy encompassing cost optimisation, AI integration, and a renewed focus on core business areas.\n",
    "\n",
    "\n",
    "\n",
    "In a strategic move to optimise operations and address cost concerns, Paytm, the fintech giant under One97 Communications, has undertaken a series of measures aimed at achieving profitability in 2024. This includes a significant reduction in staff costs, AI-led automation initiatives, and a focus on core business areas. However, as the company navigates these changes, challenges such as regulatory shifts, market dynamics, and competitive pressures have emerged, impacting its stock performance.\n",
    "\n",
    "Staff reductions and AI integration\n",
    "\n",
    "Paytm's recent decision to lay off hundreds of employees across various departments, constituting approximately 10 percent of its workforce, reflects a commitment to optimising operations and reducing staff costs by 10-15 percent in the current fiscal year. The move is rooted in performance-related concerns, and the company aims to balance cost optimization with sustained growth.\n",
    "\n",
    "Advt\n",
    "\n",
    "To mitigate the impact on its workforce, Paytm is actively incorporating AI-led automation to replace certain roles, particularly in areas affected by layoffs. The introduction of AI in operations aims to bring about cost efficiencies, improve operational efficiency, and expedite product development, reducing the timeline from weeks to days.\n",
    "\n",
    "Strategic focus areas\n",
    "\n",
    "While streamlining its workforce, Paytm simultaneously plans to strengthen its core payments business by hiring approximately 15,000 employees in the coming year. The company emphasises its commitment to developing new products within its wealth management vertical and expanding its presence in the insurance distribution business, anticipating the creation of fresh job opportunities in these strategic areas.\n",
    "\n",
    "Paytm's founder and CEO, Vijay Shekhar Sharma, outlined key changes for 2024, including separating the Paytm app's home screen and Paytm Payments Bank to enhance user experience. The firm is aggressively expanding its AI capabilities, leveraging tools from Microsoft and Google to drive efficiency, reduce costs, and deliver more than expected.\n",
    "\n",
    "Stock performance and challenges\n",
    "\n",
    "Paytm's stock faced a tumultuous journey in 2022, experiencing a significant decline in market capitalization. However, the year 2023 saw a revival, with an 80% rally until October, driven by improvements in its bottom line, loan disbursement business, and overall growth trajectory. Nevertheless, the tightening of norms by the Reserve Bank of India (RBI) for unsecured lending led to setbacks, causing Paytm to scale down its postpaid loan vertical.\n",
    "\n",
    "Advt\n",
    "\n",
    "Analysts and investors responded cautiously, with concerns about increased competition and a potential slowdown in growth. The decision to scale down small-ticket loans further impacted the stock, prompting adjustments in revenue estimates by brokerages.\n",
    "\n",
    "Path to profitability in 2024\n",
    "\n",
    "Paytm's CEO, Vijay Shekhar Sharma, remains optimistic about the company's strategic direction. The focus on three key areas—strengthening online wealth management services (Paytm Money), tapping into more merchants, and doubling down on AI automation to cut employee costs—reflects the company's commitment to achieving operational profitability within a year.\n",
    "\n",
    "However, analysts, including Goldman Sachs and Jefferies, have extended the timeline for Paytm's profitability to FY26, citing challenges and adjustments in revenue estimates. The market sentiment suggests caution, with technical analysts expressing concerns about stock performance unless certain key levels are breached.\n",
    "\n",
    "Join the community of 2M+ industry professionals\n",
    "\n",
    "Subscribe to our newsletter to get latest insights & analysis.\n",
    "\n",
    "\n",
    "Newsletter icon\n",
    "'''"
   ]
  },
  {
   "cell_type": "code",
   "execution_count": 12,
   "id": "c2f06cb5-72c2-405e-b0c9-b0c12320b051",
   "metadata": {
    "tags": []
   },
   "outputs": [],
   "source": [
    "emb3 = sentence_transformer.encode(article3)"
   ]
  },
  {
   "cell_type": "code",
   "execution_count": 13,
   "id": "063b1a92-441f-4c30-a6d7-cd26618d4900",
   "metadata": {
    "tags": []
   },
   "outputs": [
    {
     "data": {
      "text/plain": [
       "array([[0.6531184]], dtype=float32)"
      ]
     },
     "execution_count": 13,
     "metadata": {},
     "output_type": "execute_result"
    }
   ],
   "source": [
    "cosine_similarity([emb1], [emb3])"
   ]
  },
  {
   "cell_type": "code",
   "execution_count": 14,
   "id": "768c39c6-59e1-48cf-acde-2315a7473e7d",
   "metadata": {
    "tags": []
   },
   "outputs": [],
   "source": [
    "article4 = '''\n",
    "Paytm suffers 6% plunge below Rs 400 after Macquarie cuts target price to Rs 275\n",
    "Macquarie has downgraded Paytm (One97 Communications) to an 'underperform' rating and sharply cut target price to Rs 275 from Rs 650.\n",
    "\n",
    "Since January 31, Paytm shares have fallen around 48 percent.\n",
    "Since January 31, Paytm shares have fallen around 48 percent.\n",
    "\n",
    "Shares of Paytm extended losses in early trade on February 13, shedding more than 6 percent, after foreign broking firm Macquarie downgraded One97 Communications to 'underperform' and sharply cut the target price to Rs 275 from Rs 650.\n",
    "\n",
    "Macquarie analyst Suresh Ganapathy believes that Paytm faces a serious risk of customer exodus which significantly jeopardises its monetisation and business model. The target price is a steep 33 percent lower than the previous closing price of Rs 416 for One97 Communications, which operates Paytm.\n",
    "\n",
    "Also Read | Paytm crisis: Macquarie cuts target price by 57% to Rs 275, sees huge customer exodus\n",
    "\n",
    "\"We increase loss estimates by 170 percent/40 percent over FY25/26, factoring 60-65 percent decline in revenues due to lower payments and distribution revenue,\" Ganapathy wrote in his report.\n",
    "\n",
    "As of 9.25am, Paytm shares were quoting Rs 396.6 on the NSE, lower by 6.06 percent and under the key Rs 400-mark. Since January 31, when the RBI directed Paytm Payments Bank to put restrictions on Paytm, shares of the firm have fallen around 48 percent.\n",
    "\n",
    "On February 12, Paytm operator One97 Communications’ board formed a Group Advisory Committee chaired by former Sebi chief M Damodaran to work towards strengthening the compliance and regulatory matters. The development comes after the RBI on January 31 imposed major business restrictions on Paytm Payments Bank, citing prolonged non-compliance to prudential regulations.\n",
    "\n",
    "Follow our market blog to catch all the live updates\n",
    "\n",
    "On January 31, the RBI asked the digital lender to stop accepting deposits or credit transactions or top-ups in any customer accounts, prepaid instruments, wallets, FASTags, and NCMC cards after February 29. This is excluding cashbacks, or refunds.\n",
    "\n",
    "The RBI has also directed the payments bank to settle all pipeline transaction and nodal accounts by March 15. But sources have told Moneycontrol that the Reserve Bank of India (RBI) is considering cancelling the licence of Paytm Payments Bank after the deadline.\n",
    "\n",
    "Disclaimer: The views and investment tips expressed by investment experts on Moneycontrol.com are their own and not those of the website or its management. Moneycontrol.com advises users to check with certified experts before taking any investment decisions.\n",
    "'''"
   ]
  },
  {
   "cell_type": "code",
   "execution_count": 15,
   "id": "26508f84-a560-4eab-b1ea-fc6d22764dc4",
   "metadata": {
    "tags": []
   },
   "outputs": [],
   "source": [
    "emb4 = sentence_transformer.encode(article4)"
   ]
  },
  {
   "cell_type": "code",
   "execution_count": 17,
   "id": "bc270ffe-d0bf-4e15-a32e-ffb16fd13384",
   "metadata": {
    "tags": []
   },
   "outputs": [
    {
     "data": {
      "text/plain": [
       "array([[0.6903374]], dtype=float32)"
      ]
     },
     "execution_count": 17,
     "metadata": {},
     "output_type": "execute_result"
    }
   ],
   "source": [
    "cosine_similarity([emb1], [emb4])"
   ]
  },
  {
   "cell_type": "code",
   "execution_count": 18,
   "id": "bc3ceb90-8b0f-4fad-82c2-e3a5f4b4001c",
   "metadata": {
    "tags": []
   },
   "outputs": [],
   "source": [
    "article5 = '''\n",
    "Taking Stock: Sensex, Nifty close in the red; PSU banks take a hit\n",
    "Small and midcaps bleed. The BSE midcap index falls 2.6 percent and the smallcap index 3 percent\n",
    "\n",
    ".\n",
    "Few experts that we spoke to believe that PSU Banks have some strength left in them and may bounce back after some more correction - going by the charts.\n",
    "\n",
    "The Indian market opened marginally higher but failed to build on the gains as the sell-off intensified as the session progressed, with the Sensex and the Nifty closing near the day’s low ahead of CPI inflation data announcement.\n",
    "\n",
    "The Sensex, which sank to the day’s low of 70,922.57, narrowed losses to close 523 points, or 0.73 percent, lower at 71,073. The Nifty ended the day 166.50 points, or 0.76 percent, down at 21,616. During the day, it slipped to 21,575.\n",
    "\n",
    "The Nifty Bank index came under intense pressure to sink to the day’s low of 44,633.85. It ended the day 1.65 percent lower at 44,882.25.\n",
    "\n",
    "Stocks and sectors\n",
    "\n",
    "Top Nifty losers included Coal India, Hero MotoCorp, BPCL, ONGC and NTPC, while gainers were Dr Reddy's Laboratories, Apollo Hospitals, Wipro, Divis Labs and HCL Technologies.\n",
    "\n",
    "On the sectoral front, FMCG, PSU bank, capital goods, metal, oil & gas, power and realty were down 1-4 percent each, while healthcare and IT indices ended in the green.\n",
    "\n",
    "The BSE midcap index fell 2.6 percent and the smallcap index shed 3 percent.\n",
    "\n",
    "Among individual stocks, a volume spike of more than 200 percent was seen in Nalco, Bandhan Bank and Astral.\n",
    "\n",
    "A long build-up was seen in Zydus Life, MRF and Astral, while a short build-up was seen in Bharat Forge, MCX India and Nalco.\n",
    "\n",
    "More than 350 stock touched their 52-week high on the BSE including Zydus Life, Zomato, Strides Pharma, Star Cement, Parag Milk Foods, Oracle Financial Services, Max Healthcare, L&T Technology, Kirloskar Oil, JSW Holdings, JSW Energy, JBM Auto, Indian Hotels, HCL Technologies, GTL Infra, Global Health, Dr Reddy's Labs, Bharat Forge, Apollo Hospitals, ACC, Aarti Industries, among others. Click here for the full list\n",
    "\n",
    "Outlook for February 13\n",
    "\n",
    "Rupak De, Senior Technical Analyst, LKP Securities\n",
    "\n",
    "Nifty declined further after a consolidation breakdown on the hourly chart, indicating an increase in pessimism. The daily chart shows the index forming a lower top, signaling diminishing bullish sentiment.\n",
    "\n",
    "The momentum indicator aligns with this bearish outlook, displaying a crossover. The Nifty might remain sell on rise as long as it remains below 21850. On the downside, support is situated at 21500.\n",
    "\n",
    "Mandar Bhojane, Research Analyst at Choice Broking\n",
    "\n",
    "Indian equity indices concluded lower on February 12, with the Nifty hovering around 21,600, as selling pressure affected various sectors except for IT and pharmaceutical companies.\n",
    "\n",
    "On the daily chart, Nifty experienced a breakdown of the daily trendline and formed a bearish engulfing pattern with significant volume, indicating weakness in the index. The Relative Strength Index (RSI) exhibited a downward slope at 50.7, suggesting the persistence of bearish momentum. Immediate support levels are identified at 21,500-21,400, while hurdles are anticipated at 21,800 and 21,950.\n",
    "\n",
    "Disclaimer: The views and investment tips expressed by investment experts on Moneycontrol.com are their own and not those of the website or its management. Moneycontrol.com advises users to check with certified experts before taking any investment decisions.\n",
    "'''"
   ]
  },
  {
   "cell_type": "code",
   "execution_count": 19,
   "id": "ee7e6a9c-da14-4bad-9af0-227196ab3b11",
   "metadata": {
    "tags": []
   },
   "outputs": [],
   "source": [
    "emb5 = sentence_transformer.encode(article5)"
   ]
  },
  {
   "cell_type": "code",
   "execution_count": 20,
   "id": "0965cb9a-a116-437f-ab72-21dde6b725e7",
   "metadata": {
    "tags": []
   },
   "outputs": [
    {
     "data": {
      "text/plain": [
       "array([[0.620559]], dtype=float32)"
      ]
     },
     "execution_count": 20,
     "metadata": {},
     "output_type": "execute_result"
    }
   ],
   "source": [
    "cosine_similarity([emb4], [emb5])"
   ]
  },
  {
   "cell_type": "code",
   "execution_count": null,
   "id": "63e27054-146d-4084-91da-cf6675fd86d6",
   "metadata": {},
   "outputs": [],
   "source": []
  }
 ],
 "metadata": {
  "kernelspec": {
   "display_name": "bertopicenv",
   "language": "python",
   "name": "bertopicenv"
  },
  "language_info": {
   "codemirror_mode": {
    "name": "ipython",
    "version": 3
   },
   "file_extension": ".py",
   "mimetype": "text/x-python",
   "name": "python",
   "nbconvert_exporter": "python",
   "pygments_lexer": "ipython3",
   "version": "3.9.18"
  }
 },
 "nbformat": 4,
 "nbformat_minor": 5
}
