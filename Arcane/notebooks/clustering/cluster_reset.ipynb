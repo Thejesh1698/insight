{
 "cells": [
  {
   "cell_type": "code",
   "execution_count": 1,
   "id": "c5e5b1bd-7e65-4257-9e40-a6be6b93fd59",
   "metadata": {
    "tags": []
   },
   "outputs": [],
   "source": [
    "parent_folder = '/Users/ravi.tej/Desktop/ML/Recommendations/arcane/'\n",
    "from hydra import compose, initialize\n",
    "import os\n",
    "\n",
    "import xml.etree.ElementTree as ET\n",
    "\n",
    "tree = ET.parse('../../conf/application.run.xml')\n",
    "root = tree.getroot()\n",
    "\n",
    "envs_element = root.find('./configuration/envs')\n",
    "for variable in envs_element.findall('env'):\n",
    "    name = variable.get('name')\n",
    "    value = variable.get('value')\n",
    "    os.environ[name] = value\n",
    "\n",
    "import sys\n",
    "sys.path.append('/Users/ravi.tej/Desktop/ML/Recommendations/arcane/')\n",
    "\n",
    "from src._utils import load_bertopic_model_from_hf"
   ]
  },
  {
   "cell_type": "code",
   "execution_count": 2,
   "id": "9e49dc68-80c3-42da-81b2-855708aa157a",
   "metadata": {
    "tags": []
   },
   "outputs": [],
   "source": [
    "import requests"
   ]
  },
  {
   "cell_type": "code",
   "execution_count": 3,
   "id": "91115ab0-eeb6-4971-8850-5cae2b63b02d",
   "metadata": {
    "tags": []
   },
   "outputs": [],
   "source": [
    "r = requests.post('http://Carbine-env.eba-tgfee4hb.ap-south-1.elasticbeanstalk.com/get_recent_published_document_ids', json = {'num_days': 2})"
   ]
  },
  {
   "cell_type": "code",
   "execution_count": null,
   "id": "81ba44ae-03d5-402c-977c-73edaa1736c5",
   "metadata": {},
   "outputs": [],
   "source": [
    "r.text"
   ]
  },
  {
   "cell_type": "code",
   "execution_count": 9,
   "id": "a0f08bd1-ad92-4c35-b40b-28f1f81164fe",
   "metadata": {
    "tags": []
   },
   "outputs": [
    {
     "data": {
      "text/plain": [
       "<Response [504]>"
      ]
     },
     "execution_count": 9,
     "metadata": {},
     "output_type": "execute_result"
    }
   ],
   "source": [
    "requests.post('http://Arcane-env.eba-mrsaixmg.ap-south-1.elasticbeanstalk.com/generate_new_clusters_to_s3')"
   ]
  },
  {
   "cell_type": "code",
   "execution_count": 2,
   "id": "b18c0dcc-f553-427e-8642-3625d863e3db",
   "metadata": {
    "tags": []
   },
   "outputs": [],
   "source": [
    "with initialize(config_path=\"../../conf\"):\n",
    "    # Compose the configuration\n",
    "    cfg = compose(config_name=\"ClustersResetService.yaml\")"
   ]
  },
  {
   "cell_type": "code",
   "execution_count": 3,
   "id": "6d91d1e4-13b6-4fa2-a640-5cde0368d86b",
   "metadata": {
    "tags": []
   },
   "outputs": [],
   "source": [
    "from src.articles.ArticleService import ArticleService"
   ]
  },
  {
   "cell_type": "code",
   "execution_count": 17,
   "id": "43e059c4-6302-4da6-91eb-0d1f2c429d8a",
   "metadata": {
    "tags": []
   },
   "outputs": [
    {
     "data": {
      "text/plain": [
       "Article(article_id='65316e121e5cc42b1b13e420', title='Improving GST | Mint', cleaned_text=' Three months into the goods and services tax (GST), the GST Council’s recalibration on Friday offered some immediate relief but left a number of questions unanswered. Both cutting rates on 27 GST items and easing up on exporters are welcome steps. As for lowering compliance costs for small enterprises, it is strange that the burden of filing returns on a monthly basis was recognized only now. It would also be wise to keep in mind the possibility of unintended consequences—seen with other micro, small and medium enterprises regulations that provide perverse incentives to stay small. In the longer run, shuffling items from one GST slab to another will not be enough. Finance minister Arun Jaitley has spoken of eventually reducing the number of slabs. This is essential. So are other structural changes like getting rid of the anti-profiteering provisions, which are a bad idea through and through. And it will be worth keeping an eye on the hard-hit textile sector as a bellwether for how the GST impacts largely informal sectors. ', is_premium_article=False, published_time='2017-10-08T23:44:28+05:30', source_id='650046bd005149c49201269f', source_name='live-mint', url='https://www.livemint.com/Opinion/pGXzcDo4xyhJskcKM4fXWP/Improving-GST.html', full_content='Improving GST  Mint:  Three months into the goods and services tax (GST) the GST Councils recalibration on Friday offered some immediate relief but left a number of questions unanswered. Both cutting rates on 27 GST items and easing up on exporters are welcome steps. As for lowering compliance costs for small enterprises it is strange that the burden of filing returns on a monthly basis was recognized only now. It would also be wise to keep in mind the possibility of unintended consequencesseen with other micro small and medium enterprises regulations that provide perverse incentives to stay small. In the longer run shuffling items from one GST slab to another will not be enough. Finance minister Arun Jaitley has spoken of eventually reducing the number of slabs. This is essential. So are other structural changes like getting rid of the anti-profiteering provisions which are a bad idea through and through. And it will be worth keeping an eye on the hard-hit textile sector as a bellwether for how the GST impacts largely informal sectors. ')"
      ]
     },
     "execution_count": 17,
     "metadata": {},
     "output_type": "execute_result"
    }
   ],
   "source": [
    "ArticleService.get_Article('65316e121e5cc42b1b13e420')"
   ]
  },
  {
   "cell_type": "code",
   "execution_count": 3,
   "id": "65f1b925-407d-4a5b-9eb3-390384fa39eb",
   "metadata": {
    "tags": []
   },
   "outputs": [],
   "source": [
    "from src.clustering.ClustersResetService import ClustersResetService"
   ]
  },
  {
   "cell_type": "markdown",
   "id": "5e295201-4989-48ec-8ca0-3ee83124c4bf",
   "metadata": {},
   "source": [
    "- how does Qlora work\n",
    "- how is QA lora different\n",
    "- why do adapter network add high latency overhead\n",
    "- what is the meaning of 'intrinsic' dimension\n",
    "- why not use the lora technique for pre-training of the model?\n",
    "- how is that f32 takes 4 bits, f16 2, int8 - 1, int4 - 1/2?\n",
    "- how do the weights of an LLM look like? whats the distribution?"
   ]
  },
  {
   "cell_type": "code",
   "execution_count": 5,
   "id": "10d07017-cb89-4557-9b95-38b29241afbc",
   "metadata": {
    "tags": []
   },
   "outputs": [],
   "source": [
    "# from sql.PostgresDatabaseOperation import PostgresDatabaseOperation\n",
    "\n",
    "# def create_table_backup(table_name):\n",
    "#     backup_table_name = f'{table_name}_backup'\n",
    "#     with PostgresDatabaseOperation() as cursor:\n",
    "#         create_backup_table_sql = f\"CREATE TABLE {backup_table_name} AS TABLE {table_name};\"\n",
    "#         cursor.execute(create_backup_table_sql)\n",
    "\n",
    "# for table in ['article_to_cluster_mapping', 'cluster_hierarchy', 'storyline_to_cluster_mapping', 'topic_cluster_preference_mapping']:\n",
    "#     create_table_backup(table)"
   ]
  },
  {
   "cell_type": "code",
   "execution_count": 4,
   "id": "e5ec7db5-2808-4f0b-8dd1-96350cb2e0dc",
   "metadata": {
    "scrolled": true,
    "tags": []
   },
   "outputs": [
    {
     "name": "stdout",
     "output_type": "stream",
     "text": [
      "fetched all embeddings\n",
      "proceeding to fetch article details\n"
     ]
    },
    {
     "name": "stderr",
     "output_type": "stream",
     "text": [
      "WARNING:root:cleaned article 65316eaf1e5cc42b1b13e623 - On demonetisation  Mint:   has less than 10 words or 30 characters\n",
      "WARNING:root:cleaned article 65316ea21e5cc42b1b13e5da - Tamil Nadu in turmoil  Mint:   has less than 10 words or 30 characters\n",
      "WARNING:root:cleaned article 65316eaf1e5cc42b1b13e625 - Unofficial alliances  Mint:   has less than 10 words or 30 characters\n",
      "WARNING:root:cleaned article 65316f0a1e5cc42b1b13ed29 - On Karnataka elections  Mint:   has less than 10 words or 30 characters\n",
      "WARNING:root:cleaned article 65316f151e5cc42b1b13eea8 - On RBI vs Government  Mint:   has less than 10 words or 30 characters\n",
      "WARNING:root:cleaned article 65316f121e5cc42b1b13ee36 - On the Cauvery issue  Mint:   has less than 10 words or 30 characters\n",
      "WARNING:root:cleaned article 65316e9b1e5cc42b1b13e5b7 - On the statue vandalism issue  Mint:   has less than 10 words or 30 characters\n",
      "WARNING:root:cleaned article 65316ea41e5cc42b1b13e5e2 - On China and Maldives emergency  Mint:   has less than 10 words or 30 characters\n",
      "WARNING:root:cleaned article 65316ebe1e5cc42b1b13e69e - On Aadhaar  Mint:   has less than 10 words or 30 characters\n",
      "WARNING:root:cleaned article 65316f1d1e5cc42b1b13efcc - On the Facebook data breach  Mint:   has less than 10 words or 30 characters\n",
      "WARNING:root:cleaned article 65316f1f1e5cc42b1b13f01b - On US-China trade war  Mint:   has less than 10 words or 30 characters\n"
     ]
    },
    {
     "name": "stdout",
     "output_type": "stream",
     "text": [
      "article details fetched\n",
      "bertopic model instantiated\n"
     ]
    },
    {
     "name": "stderr",
     "output_type": "stream",
     "text": [
      "2023-11-08 16:14:53,549 - BERTopic - Reduced dimensionality\n",
      "2023-11-08 16:15:31,059 - BERTopic - Clustered reduced embeddings\n"
     ]
    },
    {
     "name": "stdout",
     "output_type": "stream",
     "text": [
      "model fit to documents\n"
     ]
    },
    {
     "name": "stderr",
     "output_type": "stream",
     "text": [
      "100%|██████████| 169/169 [00:05<00:00, 30.04it/s]\n"
     ]
    },
    {
     "data": {
      "application/vnd.jupyter.widget-view+json": {
       "model_id": "66e2437bf6d940cb89a50674bbb4ba9a",
       "version_major": 2,
       "version_minor": 0
      },
      "text/plain": [
       "ctfidf_config.json:   0%|          | 0.00/115M [00:00<?, ?B/s]"
      ]
     },
     "metadata": {},
     "output_type": "display_data"
    },
    {
     "data": {
      "application/vnd.jupyter.widget-view+json": {
       "model_id": "381c17dde53545ba8df92d1ac6be78d1",
       "version_major": 2,
       "version_minor": 0
      },
      "text/plain": [
       "Upload 3 LFS files:   0%|          | 0/3 [00:00<?, ?it/s]"
      ]
     },
     "metadata": {},
     "output_type": "display_data"
    },
    {
     "data": {
      "application/vnd.jupyter.widget-view+json": {
       "model_id": "bb56772992fe444a8edbd5710298a174",
       "version_major": 2,
       "version_minor": 0
      },
      "text/plain": [
       "ctfidf.safetensors:   0%|          | 0.00/101M [00:00<?, ?B/s]"
      ]
     },
     "metadata": {},
     "output_type": "display_data"
    },
    {
     "data": {
      "application/vnd.jupyter.widget-view+json": {
       "model_id": "d8a6da18b67f4adaa9ae92fd80956514",
       "version_major": 2,
       "version_minor": 0
      },
      "text/plain": [
       "topic_embeddings.safetensors:   0%|          | 0.00/701k [00:00<?, ?B/s]"
      ]
     },
     "metadata": {},
     "output_type": "display_data"
    },
    {
     "name": "stdout",
     "output_type": "stream",
     "text": [
      "docs assigned to balanced clusters\n"
     ]
    }
   ],
   "source": [
    "clusters = ClustersResetService(cfg=cfg, random_state=86)"
   ]
  },
  {
   "cell_type": "code",
   "execution_count": 7,
   "id": "f5d7522f-5c3f-4349-87fb-2b8d817d9a83",
   "metadata": {
    "tags": []
   },
   "outputs": [],
   "source": [
    "from src._utils import save_bertopic_model_to_s3"
   ]
  },
  {
   "cell_type": "code",
   "execution_count": 9,
   "id": "e85277de-c052-4e01-b6d1-e6799510d8b2",
   "metadata": {
    "tags": []
   },
   "outputs": [],
   "source": [
    "save_bertopic_model_to_s3(model=clusters.bertopic_model, run_id=clusters.run_id)"
   ]
  },
  {
   "cell_type": "code",
   "execution_count": 5,
   "id": "fd26c8e0-ba2d-46c8-9497-49b9c7df22a4",
   "metadata": {
    "tags": []
   },
   "outputs": [
    {
     "data": {
      "text/plain": [
       "'RosemaryJackalReindeer'"
      ]
     },
     "execution_count": 5,
     "metadata": {},
     "output_type": "execute_result"
    }
   ],
   "source": [
    "clusters.run_id"
   ]
  },
  {
   "cell_type": "code",
   "execution_count": 11,
   "id": "2809ab71-62c0-4e28-b1b6-fced01d44ef7",
   "metadata": {
    "tags": []
   },
   "outputs": [],
   "source": [
    "df = clusters.cluster_hierarchy.hierarchy_df"
   ]
  },
  {
   "cell_type": "code",
   "execution_count": 6,
   "id": "bb6ae2a8-02b6-4a03-bd4f-a3c0f61ea839",
   "metadata": {
    "scrolled": true,
    "tags": []
   },
   "outputs": [
    {
     "data": {
      "text/plain": [
       "28"
      ]
     },
     "execution_count": 6,
     "metadata": {},
     "output_type": "execute_result"
    }
   ],
   "source": [
    "len(clusters.cluster_hierarchy.balanced_clusters)"
   ]
  },
  {
   "cell_type": "code",
   "execution_count": 18,
   "id": "ed26b85b-8ba0-4bbb-a5af-cf12cfdd5d69",
   "metadata": {
    "tags": []
   },
   "outputs": [],
   "source": [
    "from sql.PostgresDatabaseOperation import PostgresDatabaseOperation"
   ]
  },
  {
   "cell_type": "code",
   "execution_count": 21,
   "id": "57ee1998-7b11-4457-8f68-8f11587006e7",
   "metadata": {
    "tags": []
   },
   "outputs": [
    {
     "name": "stdout",
     "output_type": "stream",
     "text": [
      "took 27.75 minutes to finish\n"
     ]
    }
   ],
   "source": [
    "start_time = time.time()\n",
    "save_article_story_cluster_mapping(clusters.article_story_cluster_map, clusters.run_id)\n",
    "print(f'took {int(time.time() - start_time)/60} minutes to finish')"
   ]
  },
  {
   "cell_type": "code",
   "execution_count": 20,
   "id": "c7c2c38d-df58-4f6e-9de8-3cc0d15a1faa",
   "metadata": {
    "tags": []
   },
   "outputs": [],
   "source": [
    "def save_article_story_cluster_mapping(article_story_cluster_mapping: dict, clustering_run_id: str):\n",
    "    def chunked_data(data, size):\n",
    "        \"\"\"Yield successive chunk_size-sized chunks from data.\"\"\"\n",
    "        for i in range(0, len(data), size):\n",
    "            yield data[i:i + size]\n",
    "\n",
    "    with PostgresDatabaseOperation() as cursor:\n",
    "        # Create a temporary table\n",
    "        cursor.execute(\"CREATE TABLE temp_article_to_cluster_mapping (LIKE article_to_cluster_mapping INCLUDING ALL)\")\n",
    "\n",
    "        # Prepare data for bulk insert\n",
    "        bulk_data = []\n",
    "        for article_id, article_dict in article_story_cluster_mapping.items():\n",
    "            bulk_data.append((\n",
    "                article_id,\n",
    "                int(article_dict['storyline_id']),\n",
    "                int(article_dict['cluster_id']),\n",
    "                clustering_run_id,\n",
    "                float(article_dict['storyline_prob']),\n",
    "                int(article_dict['story_cluster_id']),\n",
    "                int(article_dict['max_agg_cluster_id']),\n",
    "                float(article_dict['agg_cluster_prob'])\n",
    "            ))\n",
    "\n",
    "        # Bulk insert in chunks\n",
    "        insert_sql = f\"\"\"INSERT INTO temp_article_to_cluster_mapping \n",
    "                         (article_id, storyline_id, cluster_id, clustering_run_id, storyline_prob, story_cluster_id, max_agg_cluster_id, agg_cluster_prob)\n",
    "                         VALUES (%s, %s, %s, %s, %s, %s, %s, %s)\n",
    "                      \"\"\"\n",
    "        chunk_size = 10000\n",
    "        for chunk in chunked_data(bulk_data, chunk_size):\n",
    "            cursor.executemany(insert_sql, chunk)\n",
    "        \n",
    "        cursor.execute(\"BEGIN\")\n",
    "        # Rename tables\n",
    "        cursor.execute(\"ALTER TABLE article_to_cluster_mapping RENAME TO article_to_cluster_mapping_old\")\n",
    "        cursor.execute(\"COMMIT\")\n",
    "        # cursor.execute(\"CREATE TABLE article_to_cluster_mapping AS TABLE temp_article_to_cluster_mapping\")\n",
    "        cursor.execute(\"ALTER TABLE temp_article_to_cluster_mapping RENAME TO article_to_cluster_mapping\")\n",
    "        cursor.execute(\"DROP TABLE article_to_cluster_mapping_old CASCADE\")"
   ]
  },
  {
   "cell_type": "code",
   "execution_count": 22,
   "id": "e285780c-8d70-4f3a-b9c7-30a45b247208",
   "metadata": {
    "tags": []
   },
   "outputs": [],
   "source": [
    "from sql.clustering.ClusteringSQL import ClusteringSQL"
   ]
  },
  {
   "cell_type": "code",
   "execution_count": 25,
   "id": "54917c58-fd64-48b7-b939-7bc67898249e",
   "metadata": {
    "tags": []
   },
   "outputs": [],
   "source": [
    "from copy import deepcopy"
   ]
  },
  {
   "cell_type": "code",
   "execution_count": 26,
   "id": "7c98c417-fadb-4359-9f5b-3284c4dcb05f",
   "metadata": {
    "scrolled": true,
    "tags": []
   },
   "outputs": [],
   "source": [
    "renamed_hierarchy_df = deepcopy(clusters.cluster_hierarchy.hierarchy_df)"
   ]
  },
  {
   "cell_type": "code",
   "execution_count": 27,
   "id": "f86f9798-9e84-42d4-a533-19a18aa5d07d",
   "metadata": {
    "tags": []
   },
   "outputs": [],
   "source": [
    "renamed_hierarchy_df = renamed_hierarchy_df.rename(columns = {'cluster_id': 'parent_id', 'cluster_name': 'parent_name', 'storylines': 'child_storyline_list',\n",
    "                                      'left_child_id': 'child_left_id', 'left_child_name': 'child_left_name', \n",
    "                                       'right_child_id': 'child_right_id','right_child_name': 'child_right_name'})"
   ]
  },
  {
   "cell_type": "code",
   "execution_count": 28,
   "id": "2b7208e9-5318-4dd8-9694-a33d410950bc",
   "metadata": {
    "tags": []
   },
   "outputs": [],
   "source": [
    "ClusteringSQL.insert_cluster_hierarchy(cluster_hierarchy_df=renamed_hierarchy_df, clustering_run_id=clusters.run_id)"
   ]
  },
  {
   "cell_type": "code",
   "execution_count": 29,
   "id": "80d3cf43-96f7-412c-8f85-1384cd45666d",
   "metadata": {
    "tags": []
   },
   "outputs": [],
   "source": [
    "ClusteringSQL.insert_storyline_to_cluster_mapping(story_to_cluster_mapping=clusters.cluster_hierarchy.story_cluster_map,\n",
    "                                                 clustering_run_id=clusters.run_id)"
   ]
  },
  {
   "cell_type": "code",
   "execution_count": 32,
   "id": "ba79f995-458f-4ca6-89c1-4ca4382770d5",
   "metadata": {
    "tags": []
   },
   "outputs": [],
   "source": [
    "insert_story_embeddings(story_embeddings=clusters.bertopic_model.topic_embeddings_, clustering_run_id=clusters.run_id)"
   ]
  },
  {
   "cell_type": "code",
   "execution_count": 31,
   "id": "a8c9c0dc-3540-4c2b-a230-d471e23b7d02",
   "metadata": {
    "tags": []
   },
   "outputs": [],
   "source": [
    "def insert_story_embeddings(story_embeddings, clustering_run_id):\n",
    "    with PostgresDatabaseOperation() as cursor:\n",
    "        truncate_sql = f\"\"\"\n",
    "                        TRUNCATE TABLE story_embeddings RESTART IDENTITY\n",
    "                        \"\"\"\n",
    "        cursor.execute(truncate_sql)\n",
    "\n",
    "        insert_sql = f\"\"\"INSERT INTO story_embeddings (story_id, story_embedding, clustering_run_id)\n",
    "                        VALUES (%s, %s, %s)\n",
    "                        \"\"\"\n",
    "        # TODO: - can't ideally assume that -1 exists. should come from clustering run - refactor\n",
    "        for i in range(-1, len(story_embeddings) - 1):\n",
    "            story_embedding = list(story_embeddings[i + 1])\n",
    "            cursor.execute(insert_sql, (i, story_embedding, clustering_run_id))"
   ]
  },
  {
   "cell_type": "code",
   "execution_count": 33,
   "id": "20a4df8f-b3be-4d0d-a030-73504545a3d6",
   "metadata": {
    "tags": []
   },
   "outputs": [],
   "source": [
    "from src._utils import save_bertopic_model_to_hf, save_bertopic_model_to_s3"
   ]
  },
  {
   "cell_type": "code",
   "execution_count": 35,
   "id": "1253fd75-633d-4a22-9b8c-c37772620b62",
   "metadata": {
    "tags": []
   },
   "outputs": [],
   "source": [
    "save_bertopic_model_to_s3(model = clusters.bertopic_model, run_id=clusters.run_id)"
   ]
  },
  {
   "cell_type": "code",
   "execution_count": 59,
   "id": "b1141737-f92a-4408-b653-fabb186aff3a",
   "metadata": {
    "tags": []
   },
   "outputs": [],
   "source": [
    "import joblib"
   ]
  },
  {
   "cell_type": "code",
   "execution_count": 61,
   "id": "b2938a98-c346-480a-b082-6f94d5a810eb",
   "metadata": {
    "scrolled": true,
    "tags": []
   },
   "outputs": [
    {
     "name": "stdout",
     "output_type": "stream",
     "text": [
      "Requirement already satisfied: joblib in /Users/ravi.tej/anaconda3/envs/recoenv/lib/python3.11/site-packages (1.2.0)\n",
      "Collecting joblib\n",
      "  Obtaining dependency information for joblib from https://files.pythonhosted.org/packages/10/40/d551139c85db202f1f384ba8bcf96aca2f329440a844f924c8a0040b6d02/joblib-1.3.2-py3-none-any.whl.metadata\n",
      "  Downloading joblib-1.3.2-py3-none-any.whl.metadata (5.4 kB)\n",
      "Downloading joblib-1.3.2-py3-none-any.whl (302 kB)\n",
      "\u001b[2K   \u001b[90m━━━━━━━━━━━━━━━━━━━━━━━━━━━━━━━━━━━━━━━\u001b[0m \u001b[32m302.2/302.2 kB\u001b[0m \u001b[31m337.5 kB/s\u001b[0m eta \u001b[36m0:00:00\u001b[0ma \u001b[36m0:00:01\u001b[0m\n",
      "\u001b[?25hInstalling collected packages: joblib\n",
      "  Attempting uninstall: joblib\n",
      "    Found existing installation: joblib 1.2.0\n",
      "    Uninstalling joblib-1.2.0:\n",
      "      Successfully uninstalled joblib-1.2.0\n",
      "Successfully installed joblib-1.3.2\n"
     ]
    }
   ],
   "source": [
    "!pip install --upgrade joblib"
   ]
  },
  {
   "cell_type": "code",
   "execution_count": 65,
   "id": "344e1978-8869-4718-ab4a-e8fd12f95b99",
   "metadata": {
    "tags": []
   },
   "outputs": [],
   "source": [
    "import tempfile\n",
    "import joblib\n",
    "import boto3"
   ]
  },
  {
   "cell_type": "code",
   "execution_count": 66,
   "id": "15a890e2-6a9f-458c-bec9-8112b8a8877b",
   "metadata": {
    "tags": []
   },
   "outputs": [],
   "source": [
    "import os"
   ]
  },
  {
   "cell_type": "code",
   "execution_count": 68,
   "id": "96a0439d-a554-4cfd-b60d-f3bd44f51e79",
   "metadata": {
    "tags": []
   },
   "outputs": [
    {
     "data": {
      "text/plain": [
       "<bertopic._bertopic.BERTopic at 0x34067c890>"
      ]
     },
     "execution_count": 68,
     "metadata": {},
     "output_type": "execute_result"
    }
   ],
   "source": [
    "clusters.bertopic_model"
   ]
  },
  {
   "cell_type": "code",
   "execution_count": 69,
   "id": "93a7e641-cac9-4c17-866e-327d76fbfff8",
   "metadata": {
    "tags": []
   },
   "outputs": [],
   "source": [
    "from copy import deepcopy"
   ]
  },
  {
   "cell_type": "code",
   "execution_count": 71,
   "id": "6fb54563-eb6b-4b3d-9c7c-5c4b6230d767",
   "metadata": {
    "tags": []
   },
   "outputs": [],
   "source": [
    "from bertopic import BERTopic"
   ]
  },
  {
   "cell_type": "code",
   "execution_count": null,
   "id": "ece079a1-4e21-4cac-affd-81303b9d9ab6",
   "metadata": {},
   "outputs": [],
   "source": [
    "# WRITE\n",
    "with tempfile.TemporaryFile() as fp:\n",
    "    joblib.dump(model, fp)\n",
    "    fp.seek(0)\n",
    "    s3_client.put_object(Body=fp.read(), Bucket=bucket_name, Key=key)"
   ]
  },
  {
   "cell_type": "code",
   "execution_count": 73,
   "id": "59d9c8ec-6bea-455a-bef8-798189dc5f7c",
   "metadata": {
    "tags": []
   },
   "outputs": [],
   "source": [
    "s3_bucket = 'insight-ml-models'\n",
    "s3_bertopic_folder = 'bertopic'"
   ]
  },
  {
   "cell_type": "code",
   "execution_count": 77,
   "id": "4c6e1366-3cc9-4be1-a5f9-4b8d40c91e00",
   "metadata": {
    "tags": []
   },
   "outputs": [],
   "source": [
    "def save_bertopic_model_to_s3_joblib(model: BERTopic, run_id: str):\n",
    "    filename = 'BERTopic_' + run_id\n",
    "    model = deepcopy(model)\n",
    "    model.embedding_model = None\n",
    "    s3_resource = boto3.resource('s3', aws_access_key_id=os.environ['AWS_ACCESS_KEY'], aws_secret_access_key=os.environ['AWS_SECRET_KEY'])\n",
    "    # pickle_byte_obj = pickle.dumps(model)\n",
    "    with tempfile.TemporaryFile() as fp:\n",
    "        joblib.dump(model, fp)\n",
    "        fp.seek(0)\n",
    "        s3_resource.Object(s3_bucket, f'{s3_bertopic_folder}/{filename}').put(Body=fp.read())"
   ]
  },
  {
   "cell_type": "code",
   "execution_count": 78,
   "id": "189cf3be-9846-4fae-b7d3-0855e3d7c17f",
   "metadata": {
    "tags": []
   },
   "outputs": [],
   "source": [
    "save_bertopic_model_to_s3_joblib(model=clusters.bertopic_model, run_id=clusters.run_id)"
   ]
  },
  {
   "cell_type": "code",
   "execution_count": 37,
   "id": "afb9b1ff-eff5-4025-8029-2ad4716acced",
   "metadata": {
    "tags": []
   },
   "outputs": [
    {
     "data": {
      "application/vnd.jupyter.widget-view+json": {
       "model_id": "9a8dd9b789f9489687ddc1ebdc2bdc32",
       "version_major": 2,
       "version_minor": 0
      },
      "text/plain": [
       "topic_embeddings.safetensors:   0%|          | 0.00/717k [00:00<?, ?B/s]"
      ]
     },
     "metadata": {},
     "output_type": "display_data"
    },
    {
     "data": {
      "application/vnd.jupyter.widget-view+json": {
       "model_id": "dbde940f7fb64555844f2d87c9e19019",
       "version_major": 2,
       "version_minor": 0
      },
      "text/plain": [
       "ctfidf.safetensors:   0%|          | 0.00/101M [00:00<?, ?B/s]"
      ]
     },
     "metadata": {},
     "output_type": "display_data"
    },
    {
     "data": {
      "application/vnd.jupyter.widget-view+json": {
       "model_id": "59ec13fc7ee54859ae5a424273079caa",
       "version_major": 2,
       "version_minor": 0
      },
      "text/plain": [
       "ctfidf_config.json:   0%|          | 0.00/115M [00:00<?, ?B/s]"
      ]
     },
     "metadata": {},
     "output_type": "display_data"
    },
    {
     "data": {
      "application/vnd.jupyter.widget-view+json": {
       "model_id": "afa1ab5a90ea4829a5a4211479b8cbe0",
       "version_major": 2,
       "version_minor": 0
      },
      "text/plain": [
       "Upload 3 LFS files:   0%|          | 0/3 [00:00<?, ?it/s]"
      ]
     },
     "metadata": {},
     "output_type": "display_data"
    }
   ],
   "source": [
    "save_bertopic_model_to_hf(model = clusters.bertopic_model, run_id=clusters.run_id, is_dev=True)"
   ]
  },
  {
   "cell_type": "code",
   "execution_count": 84,
   "id": "0d9486f9-4365-4583-b359-e20d6a4ff438",
   "metadata": {
    "tags": []
   },
   "outputs": [],
   "source": [
    "s3_resource = boto3.client('s3', aws_access_key_id=os.environ['AWS_ACCESS_KEY'], aws_secret_access_key=os.environ['AWS_SECRET_KEY'])"
   ]
  },
  {
   "cell_type": "code",
   "execution_count": 85,
   "id": "70873bee-f739-4df6-99c8-745b08ec52c6",
   "metadata": {
    "scrolled": true,
    "tags": []
   },
   "outputs": [
    {
     "data": {
      "text/plain": [
       "\u001b[0;31mSignature:\u001b[0m\n",
       "\u001b[0ms3_resource\u001b[0m\u001b[0;34m.\u001b[0m\u001b[0mdownload_fileobj\u001b[0m\u001b[0;34m(\u001b[0m\u001b[0;34m\u001b[0m\n",
       "\u001b[0;34m\u001b[0m    \u001b[0mBucket\u001b[0m\u001b[0;34m,\u001b[0m\u001b[0;34m\u001b[0m\n",
       "\u001b[0;34m\u001b[0m    \u001b[0mKey\u001b[0m\u001b[0;34m,\u001b[0m\u001b[0;34m\u001b[0m\n",
       "\u001b[0;34m\u001b[0m    \u001b[0mFileobj\u001b[0m\u001b[0;34m,\u001b[0m\u001b[0;34m\u001b[0m\n",
       "\u001b[0;34m\u001b[0m    \u001b[0mExtraArgs\u001b[0m\u001b[0;34m=\u001b[0m\u001b[0;32mNone\u001b[0m\u001b[0;34m,\u001b[0m\u001b[0;34m\u001b[0m\n",
       "\u001b[0;34m\u001b[0m    \u001b[0mCallback\u001b[0m\u001b[0;34m=\u001b[0m\u001b[0;32mNone\u001b[0m\u001b[0;34m,\u001b[0m\u001b[0;34m\u001b[0m\n",
       "\u001b[0;34m\u001b[0m    \u001b[0mConfig\u001b[0m\u001b[0;34m=\u001b[0m\u001b[0;32mNone\u001b[0m\u001b[0;34m,\u001b[0m\u001b[0;34m\u001b[0m\n",
       "\u001b[0;34m\u001b[0m\u001b[0;34m)\u001b[0m\u001b[0;34m\u001b[0m\u001b[0;34m\u001b[0m\u001b[0m\n",
       "\u001b[0;31mDocstring:\u001b[0m\n",
       "Download an object from S3 to a file-like object.\n",
       "\n",
       "The file-like object must be in binary mode.\n",
       "\n",
       "This is a managed transfer which will perform a multipart download in\n",
       "multiple threads if necessary.\n",
       "\n",
       "Usage::\n",
       "\n",
       "    import boto3\n",
       "    s3 = boto3.client('s3')\n",
       "\n",
       "    with open('filename', 'wb') as data:\n",
       "        s3.download_fileobj('mybucket', 'mykey', data)\n",
       "\n",
       ":type Bucket: str\n",
       ":param Bucket: The name of the bucket to download from.\n",
       "\n",
       ":type Key: str\n",
       ":param Key: The name of the key to download from.\n",
       "\n",
       ":type Fileobj: a file-like object\n",
       ":param Fileobj: A file-like object to download into. At a minimum, it must\n",
       "    implement the `write` method and must accept bytes.\n",
       "\n",
       ":type ExtraArgs: dict\n",
       ":param ExtraArgs: Extra arguments that may be passed to the\n",
       "    client operation. For allowed download arguments see\n",
       "    boto3.s3.transfer.S3Transfer.ALLOWED_DOWNLOAD_ARGS.\n",
       "\n",
       ":type Callback: function\n",
       ":param Callback: A method which takes a number of bytes transferred to\n",
       "    be periodically called during the download.\n",
       "\n",
       ":type Config: boto3.s3.transfer.TransferConfig\n",
       ":param Config: The transfer configuration to be used when performing the\n",
       "    download.\n",
       "\u001b[0;31mFile:\u001b[0m      ~/anaconda3/envs/recoenv/lib/python3.11/site-packages/boto3/s3/inject.py\n",
       "\u001b[0;31mType:\u001b[0m      method"
      ]
     },
     "metadata": {},
     "output_type": "display_data"
    }
   ],
   "source": [
    "s3_resource.download_fileobj?"
   ]
  },
  {
   "cell_type": "code",
   "execution_count": 106,
   "id": "c500ab1e-77dd-46d5-b621-24d915a58a44",
   "metadata": {
    "tags": []
   },
   "outputs": [],
   "source": [
    "from io import BytesIO\n"
   ]
  },
  {
   "cell_type": "code",
   "execution_count": 109,
   "id": "02ef9130-1ca3-44fb-85f8-a5114dc87ec0",
   "metadata": {
    "tags": []
   },
   "outputs": [],
   "source": [
    "def load_bertopic_model_from_s3(run_id: str, hf_embedding_model_name: str) -> BERTopic:\n",
    "    filename = 'BERTopic_' + run_id\n",
    "    s3_resource = boto3.resource('s3', aws_access_key_id=os.environ['AWS_ACCESS_KEY'], aws_secret_access_key=os.environ['AWS_SECRET_KEY'])\n",
    "    # s3_object = s3_resource.Object(s3_bucket, f'{s3_bertopic_folder}/{filename}')\n",
    "    # s3_client = boto3.client('s3', aws_access_key_id=os.environ['AWS_ACCESS_KEY'], aws_secret_access_key=os.environ['AWS_SECRET_KEY'])\n",
    "    # response = s3_client.get_object(Bucket=s3_bucket, Key=f'{s3_bertopic_folder}/{filename}')\n",
    "    with BytesIO() as data:\n",
    "        s3_resource.Bucket(s3_bucket).download_fileobj(f'{s3_bertopic_folder}/{filename}', data)\n",
    "        print('preparing to seek')\n",
    "        data.seek(0)    # move back to the beginning after writing\n",
    "        print('seeked')\n",
    "        model = joblib.load(data)\n",
    "        print('loading now')\n",
    "    # Load the model from the response Body using joblib\n",
    "    # model = joblib.load(response['Body'].read())\n",
    "    assert isinstance(model, BERTopic), f\"Filed to load model from S3. model {filename} is not of type BERTopic. \"\n",
    "    model.embedding_model = SentenceTransformerBackend(embedding_model=hf_embedding_model_name)\n",
    "    return model"
   ]
  },
  {
   "cell_type": "code",
   "execution_count": 104,
   "id": "c5f4281e-fbca-417d-bddb-76e9feef9d46",
   "metadata": {
    "tags": []
   },
   "outputs": [],
   "source": [
    "# with open('/tmp/' + fileName, 'wb') as data:      \n",
    "#     s3.Bucket(\"bucket-name\").download_fileobj(fileName, data)  \n",
    "# with open('/tmp/' + fileName, 'rb') as data:      \n",
    "#     model = joblib.load(data)  return model"
   ]
  },
  {
   "cell_type": "code",
   "execution_count": 110,
   "id": "885a37e3-66ac-4053-9caa-924776a54f2c",
   "metadata": {
    "tags": []
   },
   "outputs": [
    {
     "name": "stdout",
     "output_type": "stream",
     "text": [
      "preparing to seek\n",
      "seeked\n",
      "loading now\n"
     ]
    }
   ],
   "source": [
    "some_model = load_bertopic_model_from_s3(run_id=clusters.run_id, hf_embedding_model_name='BAAI/bge-large-en-v1.5')"
   ]
  },
  {
   "cell_type": "code",
   "execution_count": 112,
   "id": "1d24d245-3118-41b0-ac1b-f949d5454c32",
   "metadata": {
    "tags": []
   },
   "outputs": [
    {
     "data": {
      "text/plain": [
       "array([ 0.03268695, -0.01644479,  0.02162185, ...,  0.01125305,\n",
       "       -0.0424784 ,  0.0104564 ], dtype=float32)"
      ]
     },
     "execution_count": 112,
     "metadata": {},
     "output_type": "execute_result"
    }
   ],
   "source": [
    "some_model.embedding_model.embed_words('something something big words')"
   ]
  },
  {
   "cell_type": "code",
   "execution_count": null,
   "id": "1b045fe8-cac8-480e-b750-593b7e6ab43c",
   "metadata": {},
   "outputs": [],
   "source": []
  },
  {
   "cell_type": "code",
   "execution_count": null,
   "id": "ba9d825b-755e-46c8-8b47-693e3aa2e540",
   "metadata": {},
   "outputs": [],
   "source": []
  },
  {
   "cell_type": "code",
   "execution_count": null,
   "id": "1d1b2b24-3157-433d-94a1-dd056ba39c15",
   "metadata": {},
   "outputs": [],
   "source": [
    "def \n",
    "# READ\n",
    "with tempfile.TemporaryFile() as fp:\n",
    "    s3_client.download_fileobj(Fileobj=fp, Bucket=bucket_name, Key=key)\n",
    "    fp.seek(0)\n",
    "    model = joblib.load(fp)"
   ]
  },
  {
   "cell_type": "code",
   "execution_count": 42,
   "id": "5b103c88-8028-4a9a-ad29-4b4ae797e15f",
   "metadata": {
    "tags": []
   },
   "outputs": [],
   "source": [
    "from src.topics.TopicClusterMapping import TopicClusterMapping"
   ]
  },
  {
   "cell_type": "code",
   "execution_count": 44,
   "id": "d612fac3-04a1-4745-9c28-d1b5d11d7f25",
   "metadata": {
    "tags": []
   },
   "outputs": [],
   "source": [
    "from sql.PostgresDatabaseOperation import PostgresDatabaseOperation"
   ]
  },
  {
   "cell_type": "code",
   "execution_count": 47,
   "id": "fedf0fae-9426-4ff8-a290-23a1e0ba0566",
   "metadata": {
    "tags": []
   },
   "outputs": [],
   "source": [
    "from bertopic.backend._sentencetransformers import SentenceTransformerBackend"
   ]
  },
  {
   "cell_type": "code",
   "execution_count": 48,
   "id": "b145c52a-4f78-4160-a844-38bfc9794b16",
   "metadata": {
    "tags": []
   },
   "outputs": [],
   "source": [
    "emb_model = SentenceTransformerBackend('BAAI/bge-large-en-v1.5')"
   ]
  },
  {
   "cell_type": "code",
   "execution_count": 49,
   "id": "7dc880b5-7c32-498d-947a-27fb589aa991",
   "metadata": {
    "tags": []
   },
   "outputs": [],
   "source": [
    "clusters.bertopic_model.embedding_model = emb_model"
   ]
  },
  {
   "cell_type": "code",
   "execution_count": 52,
   "id": "c1f5e44b-e27e-4846-9cb5-0ab71d98a1a3",
   "metadata": {
    "tags": []
   },
   "outputs": [],
   "source": [
    "_trigger_topic_preferences_recalculation(run_id=clusters.run_id, bertopic_model=clusters.bertopic_model)"
   ]
  },
  {
   "cell_type": "code",
   "execution_count": 40,
   "id": "50edf285-50af-4eb2-b0fa-4d274747d682",
   "metadata": {
    "tags": []
   },
   "outputs": [],
   "source": [
    "def _trigger_topic_preferences_recalculation(run_id, bertopic_model):\n",
    "    with initialize(config_path=\"../../conf\"):\n",
    "        # Compose the configuration\n",
    "        topic_cfg = compose(config_name=\"TopicClusterMapping.yaml\")\n",
    "    topic_cluster_mapping = TopicClusterMapping(clustering_run_id=run_id, bertopic_model=bertopic_model, cfg=topic_cfg)\n",
    "    topic_cluster_mapping.recompute_preferences_for_all_topics()"
   ]
  },
  {
   "cell_type": "code",
   "execution_count": 57,
   "id": "b1542fa2-9785-43fd-8998-925014429dd5",
   "metadata": {
    "tags": []
   },
   "outputs": [],
   "source": [
    "def add_new_source_details(source_id, source_name,publication_date_decay):\n",
    "    with PostgresDatabaseOperation() as cursor:\n",
    "        insert_sql = \"\"\"\n",
    "        INSERT INTO source_id_characteristics (source_id, publication_date_decay, source_name)\n",
    "        VALUES (%s, %s, %s)\n",
    "        ON CONFLICT (source_id)\n",
    "        DO UPDATE SET\n",
    "            publication_date_decay = EXCLUDED.publication_date_decay,\n",
    "            source_name = EXCLUDED.source_name\n",
    "        \"\"\"\n",
    "        cursor.execute(insert_sql, (source_id, publication_date_decay, source_name))"
   ]
  },
  {
   "cell_type": "code",
   "execution_count": 58,
   "id": "7d1fee48-63d0-4be1-946a-cc9cb25f1567",
   "metadata": {
    "tags": []
   },
   "outputs": [],
   "source": [
    "add_new_source_details(source_id='6512cdcad01a9c8e86263e05', source_name='economic-times', publication_date_decay=0.9)"
   ]
  },
  {
   "cell_type": "code",
   "execution_count": 8,
   "id": "63b20fb9-e099-46d6-a285-b62f76018f25",
   "metadata": {
    "tags": []
   },
   "outputs": [
    {
     "data": {
      "text/plain": [
       "[6, 50, 73, 74, 71, 67, 68, 72, 79]"
      ]
     },
     "execution_count": 8,
     "metadata": {},
     "output_type": "execute_result"
    }
   ],
   "source": [
    "clusters.cluster_hierarchy.balanced_clusters"
   ]
  },
  {
   "cell_type": "code",
   "execution_count": 38,
   "id": "b53ba8b2-b356-4780-a016-11401fc16893",
   "metadata": {
    "scrolled": true,
    "tags": []
   },
   "outputs": [
    {
     "data": {
      "text/plain": [
       "array(['Messi Meets America Documentary Series: Heres release schedule streaming platform and everything you m: Lionel Messi the famous footballer played his first match for Inter Miami FC in Major League Soccer in July. It was his North American debut.A documentary series titled Messi Meets America chronicles Messis transition from international football fame to playing for a less-known team in a less popular league. Messis move to Miami had a significant impact on soccer viewership in North America even prompting Adidas to release special T-shirts in his honor.Messi Meets America Documentary Series: Release Schedule Streaming PlatformThis documentary consists of six episodes. The first three episodes are currently available for streaming on Apple TV. The fourth episode will be available for streaming on November 1. Release dates for episodes five and six are yet to be announced.Messi Meets America Documentary Series: Production TeamThe series includes interviews with David Beckham who is the president and co-owner of Inter Miami FC. It is executive produced by Tim Pastore Patrick Milling Smith Brian Carmody Matt Renner and Scott Boggins.FAQsWhere can I watch Messi Meets America documentary series onlineYou can watch Messi Meets America on Apple TV a streaming service that offers the series for on-demand viewing.How many episodes are there in the Messi Meets America documentary series and when is the next episode releasingThe series consists of six episodes with the next episode scheduled for streaming on November 1 while release dates for episodes five and six are pending.',\n",
       "       'Lessons in Chemistry: How to watch and what you need to know: B4As the days grow shorter and the leaves fall its the perfect season to cozy up and embark on a new television journey. The upcoming series  Lessons in Chemistry  based on Bonnie Garmus bestselling novel is set to capture our screens and our hearts. With the first two episodes of this eight-episode limited series premiering on Friday October 13 its time to get to know everything you need about this eagerly awaited show. Lessons in Chemistry  CastTaking us back to the early 1960s the series features the talented actress Brie Larson in the role of Elizabeth Zott. Elizabeth is a gifted chemist whose life takes an unexpected turn when she becomes a single mother and an unlikely star of a TV cooking show. In this new role Elizabeths mission is to teach a nation of overlooked housewives and even the men who are now paying attention much more than just recipes. The shows synopsis tantalizingly hints at Elizabeths journey into uncharted territories.Alongside Brie Larson we have Lewis Pullman known for his role in  Top Gun: Maverick  who adds his charisma to this intriguing series. And thats not all the cast also includes the talented Aja Naomi King an NAACP Image Award winner and a star of  How to Get Away With Murder.  Stephanie Koenig Kevin Sussman Patrick Walker and Thomas Mann are also among the remarkable cast members who bring this story to life. Lessons in Chemistry  Trailer Back in September a thrilling trailer was released giving viewers a glimpse into whats in store. The trailer promises a captivating journey through the story of a determined woman defying societal norms in the 60s and challenging her nation to dare and be different. Lessons in Chemistry  draws its inspiration from Bonnie Garmus debut novel released in April 2022. This novel quickly made its mark earning the title of the 2022 Barnes  Noble Book of the Year and becoming a featured pick in the April 2022  GMA  Book Club selection. As Bonnie Garmus puts it the story offers not only laughter but also inspiration from a woman who refuses to conform to her eras expectations.Where to Catch  Lessons in Chemistry  If youre to delve into the world of  Lessons in Chemistry  youre in for a treat. The series will be available for streaming exclusively on Apple TV. With new episodes set to drop weekly on Fridays the experience will extend through November 24 promising an exciting journey into the world of Elizabeth Zott where chemistry takes on a whole new meaning.FAQs:What is Apple TVApple TV is a subscription-based streaming service offered by Apple Inc. It provides access to a variety of original television shows movies and documentaries. Apple TV was launched in November 2019 and has since produced a range of high-quality exclusive content. Who is Brie LarsonBrie Larson whose real name is Brianne Sidonie Desaulniers is an American actress and filmmaker. She was born on October 1 1989 in Sacramento California. Brie Larson is known for her versatile acting career which includes roles in various films and television series. She gained widespread recognition and acclaim for her portrayal of Ma in the 2015 drama film  Room  for which she won several awards including the Academy Award BAFTA Award Critics Choice Award Golden Globe Award and Screen Actors Guild Award for Best Actress.What is Apple TVApple TV is a subscription-based streaming service offered by Apple Inc. It provides access to a variety of original television shows movies and documentaries. Apple TV was launched in November 2019 and has since produced a range of high-quality exclusive content. Who is Brie LarsonBrie Larson whose real name is Brianne Sidonie Desaulniers is an American actress and filmmaker. She was born on October 1 1989 in Sacramento California. Brie Larson is known for her versatile acting career which includes roles in various films and television series. She gained widespread recognition and acclaim for her portrayal of Ma in the 2015 drama film  Room  for which she won several awards including the Academy Award BAFTA Award Critics Choice Award Golden Globe Award and Screen Actors Guild Award for Best Actress.',\n",
       "       'PinkPantheresss Debut Album Heaven Knows: Heres release date and more: PinkPantheress revealed her first album Heaven Knows will be launched on November 10. This album encompasses two years of her work featuring familiar tunes and guest appearances.In an Instagram post PinkPantheress expressed her excitement for the upcoming release. She thanked her dedicated fan base and shared her appreciation for their support emphasizing that they have been with her since the beginning.The announcement aligns closely with the two-year mark of her debut mixtape To Hell With It which was released on October 15 2021. She followed this with a remixes version on January 28 2022. During this time PinkPantheress known for her eclectic blend of genres including bedroom pop drum-n-bass 2-step garage 90s RB and more gained significant popularity on TikTok. Her collaboration with Ice Spice Boys a Liar even reached No. 3 on the Billboard Hot 100.PinkPantheress acknowledged the uniqueness of her music in the internet space. She highlighted her desire to collaborate with other Black artists who share a similar creative space.FAQsWhen will PinkPantheress debut album Heaven Knows be releasedPinkPantheress debut album Heaven Knows is scheduled to arrive on November 10. The album is a compilation of two years of her work. How has PinkPantheresss music evolved since her debut mixtape To Hell With ItSince her debut mixtape in 2021 PinkPantheress has ventured into various music genres and gained viral popularity on TikTok with her recent hit  Boys a Liar  even reaching No. 3 on the Billboard Hot 100.',\n",
       "       ...,\n",
       "       'Wonderla Holidays shares surge 10% after company receives approvals for Chennai project  Mint:  Wonderla Holidays shares surged by 10% in todays trading session reaching a historic high of ₹ 887 per share. This significant increase came after the company received all the necessary approvals clearances and no-objection certificates (NOCs) from the Government of Tamil Nadu for its Chennai project. With these key permissions now in hand Wonderla is set to commence construction on this project. Simultaneously construction work on the new Odisha Park is progressing rapidly. At 2:00 PM the shares were trading with a gain of 6.20% at ₹ 858 apiece. Wonderla is set to unveil a stunning amusement park located 45 kilometers away from Chennai nestled along the scenic Old Mahabalipuram Road. This enchanting destination will be situated in the charming village of Illalur a mere 2 kilometers from the OMR highway. The grand vision for this project involves a substantial investment of approximately 400 crores spanning across a sprawling 62-acre expanse in Illalur village within the Thiruporur taluk of Chengalpet district the company said in an exchange filing today. This upcoming amusement park promises to be an iconic addition to the companys expansion plans. It is poised to be a shining jewel in the organizations crown offering a remarkable recreational experience to visitors the company added. Wonderla is also exploring opportunities to establish amusement parks in Madhya Pradesh Punjab and Goa. The company is a leading player in the Indian amusement park industry. It has nearly two decades of expertise in administering parks in the three different cities of Kochi Bengaluru and Hyderabad. Amusement Park companies are witnessing positive momentum towards pre-pandemic levels of business after facing COVID-induced headwinds in recent years. The growth is due to the rearrangement of operations and recovery from pandemic restrictions involving social distancing remote working and the closure of commercial activities. The companys shares in the current year so far have delivered a multi-bagger return of 151% the highest yearly performance since listing in CY14. Regarding financials it reported a 24% YoY surge in its consolidated revenue from operations to ₹ 185 crore in Q1FY24 and a profit after tax (PAT) of ₹ 84 crore an increase of 31.25% YoY. FY23 was a landmark year in the history of the company marked by record-breaking achievements across all key metrics. It was a stellar year wherein the company recorded its highest EPS ever clocking 130% growth over the earlier peak EPS of FY20. In the process of more than doubling the previous peak EPS Wonderla has broken all the previous records and registered all-time high footfall revenue EBITDA and PAT. In FY2023 the company had an average footfall rise of 39% across all of its parks. The total number of visitors for the year stood at an incredible 33 lakhs averaging over 10 lakhs of footfall per park. Its parks in Bangalore Cochin and Hyderabad registered significant growth. In Bangalore there were 12 lakhs visitors 11.4 lakhs in Cochin and 9.7 lakhs in Hyderabad according to the companys FY23 annual report. Disclaimer: The views and recommendations given in this article are those of individual analysts. These do not represent the views of Mint. We advise investors to check with certified experts before taking any investment decisions. ',\n",
       "       'Not just numbers Elon Musk goes emotional on Tesla earnings call Analysts call him little baby  Mint:  Its heart-wrenching to see how some trivialize our efforts Tesla CEO Elon Musk went emotional during the companys earnings call . A question about production delays triggered Musks meltdown according to a report published by The Times of India. He said People dont understand the blood sweat and tears that go into making these revolutionary products. Its not just about numbers and spreadsheets. Financial analyst Kevin Paffrath compared Musks behavior with that of a little baby. Almost in tears he said as quoted by The Independent. However he also called it pathetic for a leader to cry about the economy rather than funneling that and coming up with a plan TOI reported. Some listeners also empathized with the pressure he must be under. Some leaders also raised questions about Musks leadership style and emotional stability as they argued that the billionaire should maintain a level of composure on public platforms. They believe that this kind of emotional breakdown can affect investors confidence and leave an impact on the companys stock price. Elon Musk worlds richest man. saw a slump in his fortune on the back of weak third-quarter earning from Tesla. Elon Musks fortune slumped by $16.7 billion last week. He possesses a fortune of $209 billion. The Tesla CEO owns 13% of Tesla and derives the majority of his wealth from the auto company. Teslas shares fell by 9.3% after it missed both earnings and sales expectations for the quarter. Elon Musks Tesla reported its first quarterly fall in sales this year delivering 435059 vehicles while margins fell to the lowest in over four years after the company repeatedly cut prices for its cars. Despite its struggles Tesla maintains that it will put 1.8 million customers into new vehicles by the year-end. Tesla remains the most valuable vehicle producer in the world and said it will deliver its first long-awaited Cybertrucks in November about two years behind schedule. CEO Elon Musk said Tesla had managed to maintain demand with a series of price cuts but added he was concerned that rising interest rates would make cars unaffordable. ',\n",
       "       'FBI exposes million-dollar crypto scam orchestrated by six Indians in New York: Report  Mint:  The US FBI has charged six Indians in a million-dollar cryptocurrency scam according to media reports. The six Indians--Shaileshkumar Goyani Brijeshkumar Patel Hirenkumar Patel Naineshkumar Patel Nileshkumar Patel and Raju Patel--allegedly operated an illegal $30 million money-transmitting business using cryptocurrencies according to Coindesk report. As per the FBIs investigation the six Indians conducted illegal business by using the darknet to convert Bitcoin or other cryptocurrencies into cash between July 2021 and September 2023. Also read: Bitcoin soars to $35000 at one-and-a-half-year high on ETF bets The FBI began an investigation in around April 2021 when one of the officials identified a vendor on multiple dark web marketplaces who offered a service to ship cash via the US Postal Service in exchange for Bitcoin or other cryptocurrency. Law enforcement arrested an individual who had been mailing packages of cash from a post office in Westchester County New York according to a media report citing a court document. The informant obtained the cash by meeting people around three times a week and receiving amounts ranging between $100000 and $300000 each time. The locations were discussed on Telegram and WhatsApp. Also read: Bitcoin spiked 58% in last 1 year. Is this the time to relook at cryptocurrencies as a credible asset class FBI investigation revealed that one of the men made frequent trips outside of New York including to New Jersey Massachusetts Georgia and Pennsylvania. Another two men made trips to and from South Carolina. One of the arrested men told the law enforcement agency that his wealthiest clients were hackers and some made money selling drugs. The six Indians were conspired to transmit money illegally through an informal value transfer network Coindesk added. '],\n",
       "      dtype='<U84199')"
      ]
     },
     "execution_count": 38,
     "metadata": {},
     "output_type": "execute_result"
    }
   ],
   "source": [
    "clusters.documents"
   ]
  },
  {
   "cell_type": "code",
   "execution_count": 7,
   "id": "98a7e24e-2e39-4e02-a762-7638addaca82",
   "metadata": {
    "tags": []
   },
   "outputs": [],
   "source": [
    "from src.clustering.ClusterHierarchyService import ClusterHierarchyService"
   ]
  },
  {
   "cell_type": "code",
   "execution_count": 6,
   "id": "83516bc9-15a2-4aac-86ea-45d37bef3569",
   "metadata": {
    "tags": []
   },
   "outputs": [
    {
     "data": {
      "text/plain": [
       "<bertopic._bertopic.BERTopic at 0x3cd5309d0>"
      ]
     },
     "execution_count": 6,
     "metadata": {},
     "output_type": "execute_result"
    }
   ],
   "source": [
    "clusters.bertopic_model"
   ]
  },
  {
   "cell_type": "code",
   "execution_count": 13,
   "id": "e5d115a6-6885-41b2-b35e-5fa433609d2b",
   "metadata": {
    "tags": []
   },
   "outputs": [],
   "source": [
    "import numpy as np"
   ]
  },
  {
   "cell_type": "code",
   "execution_count": 17,
   "id": "45933c44-6c6a-499d-8963-c1327db7e54e",
   "metadata": {
    "tags": []
   },
   "outputs": [
    {
     "data": {
      "text/plain": [
       "865"
      ]
     },
     "execution_count": 17,
     "metadata": {},
     "output_type": "execute_result"
    }
   ],
   "source": [
    "np.argmax(clusters.bertopic_model.probabilities_[0])"
   ]
  },
  {
   "cell_type": "code",
   "execution_count": 18,
   "id": "4a0db60e-5604-4170-b54b-90fa04a4fa7c",
   "metadata": {
    "tags": []
   },
   "outputs": [
    {
     "data": {
      "text/plain": [
       "0.07908182017400811"
      ]
     },
     "execution_count": 18,
     "metadata": {},
     "output_type": "execute_result"
    }
   ],
   "source": [
    "np.max(clusters.bertopic_model.probabilities_[1])"
   ]
  },
  {
   "cell_type": "code",
   "execution_count": 9,
   "id": "67a71c00-647a-42a2-83a0-b5317b95ab91",
   "metadata": {
    "tags": []
   },
   "outputs": [
    {
     "name": "stderr",
     "output_type": "stream",
     "text": [
      "100%|██████████| 1387/1387 [00:46<00:00, 30.11it/s]\n"
     ]
    }
   ],
   "source": [
    "chs = ClusterHierarchyService(documents=clusters.documents, bertopic_model=clusters.bertopic_model,cfg=clusters.cfg)"
   ]
  },
  {
   "cell_type": "code",
   "execution_count": 24,
   "id": "c5be1bc0-bfe6-4f7c-8e59-7ae7c48cd785",
   "metadata": {
    "tags": []
   },
   "outputs": [
    {
     "ename": "SyntaxError",
     "evalue": "invalid syntax (2783995047.py, line 1)",
     "output_type": "error",
     "traceback": [
      "\u001b[0;36m  Cell \u001b[0;32mIn[24], line 1\u001b[0;36m\u001b[0m\n\u001b[0;31m    from src.clustering.ClusterHierarchyService import ClusterHierarchyService._populate_levels\u001b[0m\n\u001b[0m                                                                              ^\u001b[0m\n\u001b[0;31mSyntaxError\u001b[0m\u001b[0;31m:\u001b[0m invalid syntax\n"
     ]
    }
   ],
   "source": [
    "from src.clustering.ClusterHierarchyService import ClusterHierarchyService"
   ]
  },
  {
   "cell_type": "code",
   "execution_count": 28,
   "id": "6632d0da-9fb6-462f-97fa-2e519ff7870d",
   "metadata": {
    "tags": []
   },
   "outputs": [
    {
     "data": {
      "text/html": [
       "<div>\n",
       "<style scoped>\n",
       "    .dataframe tbody tr th:only-of-type {\n",
       "        vertical-align: middle;\n",
       "    }\n",
       "\n",
       "    .dataframe tbody tr th {\n",
       "        vertical-align: top;\n",
       "    }\n",
       "\n",
       "    .dataframe thead th {\n",
       "        text-align: right;\n",
       "    }\n",
       "</style>\n",
       "<table border=\"1\" class=\"dataframe\">\n",
       "  <thead>\n",
       "    <tr style=\"text-align: right;\">\n",
       "      <th></th>\n",
       "      <th>cluster_id</th>\n",
       "      <th>cluster_name</th>\n",
       "      <th>storylines</th>\n",
       "      <th>left_child_id</th>\n",
       "      <th>left_child_name</th>\n",
       "      <th>right_child_id</th>\n",
       "      <th>right_child_name</th>\n",
       "      <th>distance</th>\n",
       "    </tr>\n",
       "  </thead>\n",
       "  <tbody>\n",
       "    <tr>\n",
       "      <th>0</th>\n",
       "      <td>2774</td>\n",
       "      <td>change_net change_stock price_percent change_p...</td>\n",
       "      <td>[0, 1, 2, 3, 4, 5, 6, 7, 8, 9, 10, 11, 12, 13,...</td>\n",
       "      <td>2772</td>\n",
       "      <td>cent_real_estate_real estate_quarter</td>\n",
       "      <td>2773</td>\n",
       "      <td>change_net change_stock price_percent change_s...</td>\n",
       "      <td>5.913270</td>\n",
       "    </tr>\n",
       "    <tr>\n",
       "      <th>1</th>\n",
       "      <td>2773</td>\n",
       "      <td>change_net change_stock price_percent change_s...</td>\n",
       "      <td>[31, 67, 77, 86, 106, 126, 131, 135, 137, 139,...</td>\n",
       "      <td>2748</td>\n",
       "      <td>divis_divis lab_lab_live blog_blog</td>\n",
       "      <td>2766</td>\n",
       "      <td>change_net change_stock price_percent change_s...</td>\n",
       "      <td>4.711992</td>\n",
       "    </tr>\n",
       "    <tr>\n",
       "      <th>2</th>\n",
       "      <td>2772</td>\n",
       "      <td>cent_real_estate_real estate_quarter</td>\n",
       "      <td>[0, 1, 2, 3, 4, 5, 6, 7, 8, 9, 10, 11, 12, 13,...</td>\n",
       "      <td>2771</td>\n",
       "      <td>real_estate_real estate_quarter_commercial</td>\n",
       "      <td>2767</td>\n",
       "      <td>nifty_gold_index_dollar_inflation</td>\n",
       "      <td>3.571896</td>\n",
       "    </tr>\n",
       "    <tr>\n",
       "      <th>3</th>\n",
       "      <td>2771</td>\n",
       "      <td>real_estate_real estate_quarter_commercial</td>\n",
       "      <td>[0, 2, 6, 7, 8, 10, 11, 13, 14, 15, 17, 18, 19...</td>\n",
       "      <td>2769</td>\n",
       "      <td>real_estate_real estate_residential_property</td>\n",
       "      <td>2770</td>\n",
       "      <td>ipo_quarter_yoy_dividend_revenue</td>\n",
       "      <td>2.855762</td>\n",
       "    </tr>\n",
       "    <tr>\n",
       "      <th>4</th>\n",
       "      <td>2770</td>\n",
       "      <td>ipo_quarter_yoy_dividend_revenue</td>\n",
       "      <td>[2, 10, 14, 17, 19, 23, 24, 26, 27, 30, 38, 39...</td>\n",
       "      <td>2668</td>\n",
       "      <td>ipo_issue_gmp_subscribed_allotment</td>\n",
       "      <td>2759</td>\n",
       "      <td>quarter_yoy_dividend_revenue_net profit</td>\n",
       "      <td>2.719312</td>\n",
       "    </tr>\n",
       "    <tr>\n",
       "      <th>...</th>\n",
       "      <td>...</td>\n",
       "      <td>...</td>\n",
       "      <td>...</td>\n",
       "      <td>...</td>\n",
       "      <td>...</td>\n",
       "      <td>...</td>\n",
       "      <td>...</td>\n",
       "      <td>...</td>\n",
       "    </tr>\n",
       "    <tr>\n",
       "      <th>2771</th>\n",
       "      <td>1384</td>\n",
       "      <td>1383</td>\n",
       "      <td>[]</td>\n",
       "      <td>None</td>\n",
       "      <td></td>\n",
       "      <td>None</td>\n",
       "      <td></td>\n",
       "      <td>NaN</td>\n",
       "    </tr>\n",
       "    <tr>\n",
       "      <th>2772</th>\n",
       "      <td>1385</td>\n",
       "      <td>1384</td>\n",
       "      <td>[]</td>\n",
       "      <td>None</td>\n",
       "      <td></td>\n",
       "      <td>None</td>\n",
       "      <td></td>\n",
       "      <td>NaN</td>\n",
       "    </tr>\n",
       "    <tr>\n",
       "      <th>2773</th>\n",
       "      <td>1386</td>\n",
       "      <td>1385</td>\n",
       "      <td>[]</td>\n",
       "      <td>None</td>\n",
       "      <td></td>\n",
       "      <td>None</td>\n",
       "      <td></td>\n",
       "      <td>NaN</td>\n",
       "    </tr>\n",
       "    <tr>\n",
       "      <th>2774</th>\n",
       "      <td>1387</td>\n",
       "      <td>1386</td>\n",
       "      <td>[]</td>\n",
       "      <td>None</td>\n",
       "      <td></td>\n",
       "      <td>None</td>\n",
       "      <td></td>\n",
       "      <td>NaN</td>\n",
       "    </tr>\n",
       "    <tr>\n",
       "      <th>2775</th>\n",
       "      <td>1388</td>\n",
       "      <td>1387</td>\n",
       "      <td>[]</td>\n",
       "      <td>None</td>\n",
       "      <td></td>\n",
       "      <td>None</td>\n",
       "      <td></td>\n",
       "      <td>NaN</td>\n",
       "    </tr>\n",
       "  </tbody>\n",
       "</table>\n",
       "<p>2776 rows × 8 columns</p>\n",
       "</div>"
      ],
      "text/plain": [
       "      cluster_id                                       cluster_name  \\\n",
       "0           2774  change_net change_stock price_percent change_p...   \n",
       "1           2773  change_net change_stock price_percent change_s...   \n",
       "2           2772               cent_real_estate_real estate_quarter   \n",
       "3           2771         real_estate_real estate_quarter_commercial   \n",
       "4           2770                   ipo_quarter_yoy_dividend_revenue   \n",
       "...          ...                                                ...   \n",
       "2771        1384                                               1383   \n",
       "2772        1385                                               1384   \n",
       "2773        1386                                               1385   \n",
       "2774        1387                                               1386   \n",
       "2775        1388                                               1387   \n",
       "\n",
       "                                             storylines left_child_id  \\\n",
       "0     [0, 1, 2, 3, 4, 5, 6, 7, 8, 9, 10, 11, 12, 13,...          2772   \n",
       "1     [31, 67, 77, 86, 106, 126, 131, 135, 137, 139,...          2748   \n",
       "2     [0, 1, 2, 3, 4, 5, 6, 7, 8, 9, 10, 11, 12, 13,...          2771   \n",
       "3     [0, 2, 6, 7, 8, 10, 11, 13, 14, 15, 17, 18, 19...          2769   \n",
       "4     [2, 10, 14, 17, 19, 23, 24, 26, 27, 30, 38, 39...          2668   \n",
       "...                                                 ...           ...   \n",
       "2771                                                 []          None   \n",
       "2772                                                 []          None   \n",
       "2773                                                 []          None   \n",
       "2774                                                 []          None   \n",
       "2775                                                 []          None   \n",
       "\n",
       "                                   left_child_name right_child_id  \\\n",
       "0             cent_real_estate_real estate_quarter           2773   \n",
       "1               divis_divis lab_lab_live blog_blog           2766   \n",
       "2       real_estate_real estate_quarter_commercial           2767   \n",
       "3     real_estate_real estate_residential_property           2770   \n",
       "4               ipo_issue_gmp_subscribed_allotment           2759   \n",
       "...                                            ...            ...   \n",
       "2771                                                         None   \n",
       "2772                                                         None   \n",
       "2773                                                         None   \n",
       "2774                                                         None   \n",
       "2775                                                         None   \n",
       "\n",
       "                                       right_child_name  distance  \n",
       "0     change_net change_stock price_percent change_s...  5.913270  \n",
       "1     change_net change_stock price_percent change_s...  4.711992  \n",
       "2                     nifty_gold_index_dollar_inflation  3.571896  \n",
       "3                      ipo_quarter_yoy_dividend_revenue  2.855762  \n",
       "4               quarter_yoy_dividend_revenue_net profit  2.719312  \n",
       "...                                                 ...       ...  \n",
       "2771                                                          NaN  \n",
       "2772                                                          NaN  \n",
       "2773                                                          NaN  \n",
       "2774                                                          NaN  \n",
       "2775                                                          NaN  \n",
       "\n",
       "[2776 rows x 8 columns]"
      ]
     },
     "execution_count": 28,
     "metadata": {},
     "output_type": "execute_result"
    }
   ],
   "source": [
    "chs.hierarchy_df"
   ]
  },
  {
   "cell_type": "code",
   "execution_count": 31,
   "id": "842cf6b8-fbf6-4533-9645-6a942c41d387",
   "metadata": {
    "tags": []
   },
   "outputs": [],
   "source": [
    "row = chs.hierarchy_df[chs.hierarchy_df.cluster_id == 2774].squeeze()"
   ]
  },
  {
   "cell_type": "code",
   "execution_count": 32,
   "id": "ea868fe2-213d-4621-958e-cef0e4c88c26",
   "metadata": {
    "tags": []
   },
   "outputs": [
    {
     "data": {
      "text/plain": [
       "cluster_id                                                       2774\n",
       "cluster_name        change_net change_stock price_percent change_p...\n",
       "storylines          [0, 1, 2, 3, 4, 5, 6, 7, 8, 9, 10, 11, 12, 13,...\n",
       "left_child_id                                                    2772\n",
       "left_child_name                  cent_real_estate_real estate_quarter\n",
       "right_child_id                                                   2773\n",
       "right_child_name    change_net change_stock price_percent change_s...\n",
       "distance                                                      5.91327\n",
       "Name: 0, dtype: object"
      ]
     },
     "execution_count": 32,
     "metadata": {},
     "output_type": "execute_result"
    }
   ],
   "source": [
    "row"
   ]
  },
  {
   "cell_type": "code",
   "execution_count": 33,
   "id": "7b1ad174-56ed-457b-851c-90890aac9d7f",
   "metadata": {
    "tags": []
   },
   "outputs": [],
   "source": [
    "left_child_id = row.left_child_id"
   ]
  },
  {
   "cell_type": "code",
   "execution_count": 34,
   "id": "f83ac554-60d5-4c75-ac46-4784518238cb",
   "metadata": {
    "tags": []
   },
   "outputs": [],
   "source": [
    "rigth_child_id = row.right_child_id"
   ]
  },
  {
   "cell_type": "code",
   "execution_count": 36,
   "id": "b3406726-f86d-46b1-bcfd-d9d8813a7435",
   "metadata": {
    "tags": []
   },
   "outputs": [],
   "source": [
    "levels = {2774: 0}"
   ]
  },
  {
   "cell_type": "code",
   "execution_count": 37,
   "id": "55c25ebd-7975-46bb-9582-36f6b347e818",
   "metadata": {
    "tags": []
   },
   "outputs": [],
   "source": [
    "levels.update({})"
   ]
  },
  {
   "cell_type": "code",
   "execution_count": 26,
   "id": "37758a9c-4f9a-4459-8459-9aee3db1689b",
   "metadata": {
    "tags": []
   },
   "outputs": [
    {
     "ename": "ValueError",
     "evalue": "The truth value of a Series is ambiguous. Use a.empty, a.bool(), a.item(), a.any() or a.all().",
     "output_type": "error",
     "traceback": [
      "\u001b[0;31m---------------------------------------------------------------------------\u001b[0m",
      "\u001b[0;31mValueError\u001b[0m                                Traceback (most recent call last)",
      "\u001b[0;32m/var/folders/d4/cgyr_gnj7nn2wy_hq40gkq8c0000gq/T/ipykernel_41379/949840144.py\u001b[0m in \u001b[0;36m?\u001b[0;34m()\u001b[0m\n\u001b[0;32m----> 1\u001b[0;31m \u001b[0mchs\u001b[0m\u001b[0;34m.\u001b[0m\u001b[0m_populate_levels\u001b[0m\u001b[0;34m(\u001b[0m\u001b[0mparent_cluster_id\u001b[0m\u001b[0;34m=\u001b[0m\u001b[0;36m2774\u001b[0m\u001b[0;34m,\u001b[0m\u001b[0mparent_level\u001b[0m\u001b[0;34m=\u001b[0m\u001b[0;36m0\u001b[0m\u001b[0;34m)\u001b[0m\u001b[0;34m\u001b[0m\u001b[0;34m\u001b[0m\u001b[0m\n\u001b[0m",
      "\u001b[0;32m~/Desktop/ML/Recommendations/arcane/src/clustering/ClusterHierarchyService.py\u001b[0m in \u001b[0;36m?\u001b[0;34m(self, parent_cluster_id, parent_level)\u001b[0m\n\u001b[1;32m    109\u001b[0m         \u001b[0mcluster_row\u001b[0m \u001b[0;34m=\u001b[0m \u001b[0mself\u001b[0m\u001b[0;34m.\u001b[0m\u001b[0mhierarchy_df\u001b[0m\u001b[0;34m[\u001b[0m\u001b[0mself\u001b[0m\u001b[0;34m.\u001b[0m\u001b[0mhierarchy_df\u001b[0m\u001b[0;34m[\u001b[0m\u001b[0mClusterHierarchyColumns\u001b[0m\u001b[0;34m.\u001b[0m\u001b[0mcluster_id\u001b[0m\u001b[0;34m]\u001b[0m \u001b[0;34m==\u001b[0m \u001b[0mparent_cluster_id\u001b[0m\u001b[0;34m]\u001b[0m\u001b[0;34m.\u001b[0m\u001b[0msqueeze\u001b[0m\u001b[0;34m(\u001b[0m\u001b[0;34m)\u001b[0m\u001b[0;34m\u001b[0m\u001b[0;34m\u001b[0m\u001b[0m\n\u001b[1;32m    110\u001b[0m         \u001b[0;32mif\u001b[0m \u001b[0;32mnot\u001b[0m \u001b[0mcluster_row\u001b[0m\u001b[0;34m.\u001b[0m\u001b[0mempty\u001b[0m\u001b[0;34m:\u001b[0m  \u001b[0;31m# We already asserted above that a cluster has a max of 1 row\u001b[0m\u001b[0;34m\u001b[0m\u001b[0;34m\u001b[0m\u001b[0m\n\u001b[1;32m    111\u001b[0m             \u001b[0mleft_child_id\u001b[0m \u001b[0;34m=\u001b[0m \u001b[0mcluster_row\u001b[0m\u001b[0;34m[\u001b[0m\u001b[0mClusterHierarchyColumns\u001b[0m\u001b[0;34m.\u001b[0m\u001b[0mleft_child_id\u001b[0m\u001b[0;34m]\u001b[0m\u001b[0;34m\u001b[0m\u001b[0;34m\u001b[0m\u001b[0m\n\u001b[1;32m    112\u001b[0m             \u001b[0mright_child_id\u001b[0m \u001b[0;34m=\u001b[0m \u001b[0mcluster_row\u001b[0m\u001b[0;34m[\u001b[0m\u001b[0mClusterHierarchyColumns\u001b[0m\u001b[0;34m.\u001b[0m\u001b[0mright_child_id\u001b[0m\u001b[0;34m]\u001b[0m\u001b[0;34m\u001b[0m\u001b[0;34m\u001b[0m\u001b[0m\n\u001b[0;32m--> 113\u001b[0;31m             \u001b[0mlevels\u001b[0m\u001b[0;34m.\u001b[0m\u001b[0mupdate\u001b[0m\u001b[0;34m(\u001b[0m\u001b[0mself\u001b[0m\u001b[0;34m.\u001b[0m\u001b[0m_populate_levels\u001b[0m\u001b[0;34m(\u001b[0m\u001b[0mleft_child_id\u001b[0m\u001b[0;34m,\u001b[0m \u001b[0mparent_level\u001b[0m \u001b[0;34m+\u001b[0m \u001b[0;36m1\u001b[0m\u001b[0;34m)\u001b[0m\u001b[0;34m)\u001b[0m\u001b[0;34m\u001b[0m\u001b[0;34m\u001b[0m\u001b[0m\n\u001b[0m\u001b[1;32m    114\u001b[0m             \u001b[0mlevels\u001b[0m\u001b[0;34m.\u001b[0m\u001b[0mupdate\u001b[0m\u001b[0;34m(\u001b[0m\u001b[0mself\u001b[0m\u001b[0;34m.\u001b[0m\u001b[0m_populate_levels\u001b[0m\u001b[0;34m(\u001b[0m\u001b[0mright_child_id\u001b[0m\u001b[0;34m,\u001b[0m \u001b[0mparent_level\u001b[0m \u001b[0;34m+\u001b[0m \u001b[0;36m1\u001b[0m\u001b[0;34m)\u001b[0m\u001b[0;34m)\u001b[0m\u001b[0;34m\u001b[0m\u001b[0;34m\u001b[0m\u001b[0m\n\u001b[1;32m    115\u001b[0m         \u001b[0;32mreturn\u001b[0m \u001b[0mlevels\u001b[0m\u001b[0;34m\u001b[0m\u001b[0;34m\u001b[0m\u001b[0m\n",
      "\u001b[0;32m~/Desktop/ML/Recommendations/arcane/src/clustering/ClusterHierarchyService.py\u001b[0m in \u001b[0;36m?\u001b[0;34m(self, parent_cluster_id, parent_level)\u001b[0m\n\u001b[1;32m    109\u001b[0m         \u001b[0mcluster_row\u001b[0m \u001b[0;34m=\u001b[0m \u001b[0mself\u001b[0m\u001b[0;34m.\u001b[0m\u001b[0mhierarchy_df\u001b[0m\u001b[0;34m[\u001b[0m\u001b[0mself\u001b[0m\u001b[0;34m.\u001b[0m\u001b[0mhierarchy_df\u001b[0m\u001b[0;34m[\u001b[0m\u001b[0mClusterHierarchyColumns\u001b[0m\u001b[0;34m.\u001b[0m\u001b[0mcluster_id\u001b[0m\u001b[0;34m]\u001b[0m \u001b[0;34m==\u001b[0m \u001b[0mparent_cluster_id\u001b[0m\u001b[0;34m]\u001b[0m\u001b[0;34m.\u001b[0m\u001b[0msqueeze\u001b[0m\u001b[0;34m(\u001b[0m\u001b[0;34m)\u001b[0m\u001b[0;34m\u001b[0m\u001b[0;34m\u001b[0m\u001b[0m\n\u001b[1;32m    110\u001b[0m         \u001b[0;32mif\u001b[0m \u001b[0;32mnot\u001b[0m \u001b[0mcluster_row\u001b[0m\u001b[0;34m.\u001b[0m\u001b[0mempty\u001b[0m\u001b[0;34m:\u001b[0m  \u001b[0;31m# We already asserted above that a cluster has a max of 1 row\u001b[0m\u001b[0;34m\u001b[0m\u001b[0;34m\u001b[0m\u001b[0m\n\u001b[1;32m    111\u001b[0m             \u001b[0mleft_child_id\u001b[0m \u001b[0;34m=\u001b[0m \u001b[0mcluster_row\u001b[0m\u001b[0;34m[\u001b[0m\u001b[0mClusterHierarchyColumns\u001b[0m\u001b[0;34m.\u001b[0m\u001b[0mleft_child_id\u001b[0m\u001b[0;34m]\u001b[0m\u001b[0;34m\u001b[0m\u001b[0;34m\u001b[0m\u001b[0m\n\u001b[1;32m    112\u001b[0m             \u001b[0mright_child_id\u001b[0m \u001b[0;34m=\u001b[0m \u001b[0mcluster_row\u001b[0m\u001b[0;34m[\u001b[0m\u001b[0mClusterHierarchyColumns\u001b[0m\u001b[0;34m.\u001b[0m\u001b[0mright_child_id\u001b[0m\u001b[0;34m]\u001b[0m\u001b[0;34m\u001b[0m\u001b[0;34m\u001b[0m\u001b[0m\n\u001b[0;32m--> 113\u001b[0;31m             \u001b[0mlevels\u001b[0m\u001b[0;34m.\u001b[0m\u001b[0mupdate\u001b[0m\u001b[0;34m(\u001b[0m\u001b[0mself\u001b[0m\u001b[0;34m.\u001b[0m\u001b[0m_populate_levels\u001b[0m\u001b[0;34m(\u001b[0m\u001b[0mleft_child_id\u001b[0m\u001b[0;34m,\u001b[0m \u001b[0mparent_level\u001b[0m \u001b[0;34m+\u001b[0m \u001b[0;36m1\u001b[0m\u001b[0;34m)\u001b[0m\u001b[0;34m)\u001b[0m\u001b[0;34m\u001b[0m\u001b[0;34m\u001b[0m\u001b[0m\n\u001b[0m\u001b[1;32m    114\u001b[0m             \u001b[0mlevels\u001b[0m\u001b[0;34m.\u001b[0m\u001b[0mupdate\u001b[0m\u001b[0;34m(\u001b[0m\u001b[0mself\u001b[0m\u001b[0;34m.\u001b[0m\u001b[0m_populate_levels\u001b[0m\u001b[0;34m(\u001b[0m\u001b[0mright_child_id\u001b[0m\u001b[0;34m,\u001b[0m \u001b[0mparent_level\u001b[0m \u001b[0;34m+\u001b[0m \u001b[0;36m1\u001b[0m\u001b[0;34m)\u001b[0m\u001b[0;34m)\u001b[0m\u001b[0;34m\u001b[0m\u001b[0;34m\u001b[0m\u001b[0m\n\u001b[1;32m    115\u001b[0m         \u001b[0;32mreturn\u001b[0m \u001b[0mlevels\u001b[0m\u001b[0;34m\u001b[0m\u001b[0;34m\u001b[0m\u001b[0m\n",
      "\u001b[0;32m~/Desktop/ML/Recommendations/arcane/src/clustering/ClusterHierarchyService.py\u001b[0m in \u001b[0;36m?\u001b[0;34m(self, parent_cluster_id, parent_level)\u001b[0m\n\u001b[1;32m    109\u001b[0m         \u001b[0mcluster_row\u001b[0m \u001b[0;34m=\u001b[0m \u001b[0mself\u001b[0m\u001b[0;34m.\u001b[0m\u001b[0mhierarchy_df\u001b[0m\u001b[0;34m[\u001b[0m\u001b[0mself\u001b[0m\u001b[0;34m.\u001b[0m\u001b[0mhierarchy_df\u001b[0m\u001b[0;34m[\u001b[0m\u001b[0mClusterHierarchyColumns\u001b[0m\u001b[0;34m.\u001b[0m\u001b[0mcluster_id\u001b[0m\u001b[0;34m]\u001b[0m \u001b[0;34m==\u001b[0m \u001b[0mparent_cluster_id\u001b[0m\u001b[0;34m]\u001b[0m\u001b[0;34m.\u001b[0m\u001b[0msqueeze\u001b[0m\u001b[0;34m(\u001b[0m\u001b[0;34m)\u001b[0m\u001b[0;34m\u001b[0m\u001b[0;34m\u001b[0m\u001b[0m\n\u001b[1;32m    110\u001b[0m         \u001b[0;32mif\u001b[0m \u001b[0;32mnot\u001b[0m \u001b[0mcluster_row\u001b[0m\u001b[0;34m.\u001b[0m\u001b[0mempty\u001b[0m\u001b[0;34m:\u001b[0m  \u001b[0;31m# We already asserted above that a cluster has a max of 1 row\u001b[0m\u001b[0;34m\u001b[0m\u001b[0;34m\u001b[0m\u001b[0m\n\u001b[1;32m    111\u001b[0m             \u001b[0mleft_child_id\u001b[0m \u001b[0;34m=\u001b[0m \u001b[0mcluster_row\u001b[0m\u001b[0;34m[\u001b[0m\u001b[0mClusterHierarchyColumns\u001b[0m\u001b[0;34m.\u001b[0m\u001b[0mleft_child_id\u001b[0m\u001b[0;34m]\u001b[0m\u001b[0;34m\u001b[0m\u001b[0;34m\u001b[0m\u001b[0m\n\u001b[1;32m    112\u001b[0m             \u001b[0mright_child_id\u001b[0m \u001b[0;34m=\u001b[0m \u001b[0mcluster_row\u001b[0m\u001b[0;34m[\u001b[0m\u001b[0mClusterHierarchyColumns\u001b[0m\u001b[0;34m.\u001b[0m\u001b[0mright_child_id\u001b[0m\u001b[0;34m]\u001b[0m\u001b[0;34m\u001b[0m\u001b[0;34m\u001b[0m\u001b[0m\n\u001b[0;32m--> 113\u001b[0;31m             \u001b[0mlevels\u001b[0m\u001b[0;34m.\u001b[0m\u001b[0mupdate\u001b[0m\u001b[0;34m(\u001b[0m\u001b[0mself\u001b[0m\u001b[0;34m.\u001b[0m\u001b[0m_populate_levels\u001b[0m\u001b[0;34m(\u001b[0m\u001b[0mleft_child_id\u001b[0m\u001b[0;34m,\u001b[0m \u001b[0mparent_level\u001b[0m \u001b[0;34m+\u001b[0m \u001b[0;36m1\u001b[0m\u001b[0;34m)\u001b[0m\u001b[0;34m)\u001b[0m\u001b[0;34m\u001b[0m\u001b[0;34m\u001b[0m\u001b[0m\n\u001b[0m\u001b[1;32m    114\u001b[0m             \u001b[0mlevels\u001b[0m\u001b[0;34m.\u001b[0m\u001b[0mupdate\u001b[0m\u001b[0;34m(\u001b[0m\u001b[0mself\u001b[0m\u001b[0;34m.\u001b[0m\u001b[0m_populate_levels\u001b[0m\u001b[0;34m(\u001b[0m\u001b[0mright_child_id\u001b[0m\u001b[0;34m,\u001b[0m \u001b[0mparent_level\u001b[0m \u001b[0;34m+\u001b[0m \u001b[0;36m1\u001b[0m\u001b[0;34m)\u001b[0m\u001b[0;34m)\u001b[0m\u001b[0;34m\u001b[0m\u001b[0;34m\u001b[0m\u001b[0m\n\u001b[1;32m    115\u001b[0m         \u001b[0;32mreturn\u001b[0m \u001b[0mlevels\u001b[0m\u001b[0;34m\u001b[0m\u001b[0;34m\u001b[0m\u001b[0m\n",
      "\u001b[0;32m~/Desktop/ML/Recommendations/arcane/src/clustering/ClusterHierarchyService.py\u001b[0m in \u001b[0;36m?\u001b[0;34m(self, parent_cluster_id, parent_level)\u001b[0m\n\u001b[1;32m    109\u001b[0m         \u001b[0mcluster_row\u001b[0m \u001b[0;34m=\u001b[0m \u001b[0mself\u001b[0m\u001b[0;34m.\u001b[0m\u001b[0mhierarchy_df\u001b[0m\u001b[0;34m[\u001b[0m\u001b[0mself\u001b[0m\u001b[0;34m.\u001b[0m\u001b[0mhierarchy_df\u001b[0m\u001b[0;34m[\u001b[0m\u001b[0mClusterHierarchyColumns\u001b[0m\u001b[0;34m.\u001b[0m\u001b[0mcluster_id\u001b[0m\u001b[0;34m]\u001b[0m \u001b[0;34m==\u001b[0m \u001b[0mparent_cluster_id\u001b[0m\u001b[0;34m]\u001b[0m\u001b[0;34m.\u001b[0m\u001b[0msqueeze\u001b[0m\u001b[0;34m(\u001b[0m\u001b[0;34m)\u001b[0m\u001b[0;34m\u001b[0m\u001b[0;34m\u001b[0m\u001b[0m\n\u001b[1;32m    110\u001b[0m         \u001b[0;32mif\u001b[0m \u001b[0;32mnot\u001b[0m \u001b[0mcluster_row\u001b[0m\u001b[0;34m.\u001b[0m\u001b[0mempty\u001b[0m\u001b[0;34m:\u001b[0m  \u001b[0;31m# We already asserted above that a cluster has a max of 1 row\u001b[0m\u001b[0;34m\u001b[0m\u001b[0;34m\u001b[0m\u001b[0m\n\u001b[1;32m    111\u001b[0m             \u001b[0mleft_child_id\u001b[0m \u001b[0;34m=\u001b[0m \u001b[0mcluster_row\u001b[0m\u001b[0;34m[\u001b[0m\u001b[0mClusterHierarchyColumns\u001b[0m\u001b[0;34m.\u001b[0m\u001b[0mleft_child_id\u001b[0m\u001b[0;34m]\u001b[0m\u001b[0;34m\u001b[0m\u001b[0;34m\u001b[0m\u001b[0m\n\u001b[1;32m    112\u001b[0m             \u001b[0mright_child_id\u001b[0m \u001b[0;34m=\u001b[0m \u001b[0mcluster_row\u001b[0m\u001b[0;34m[\u001b[0m\u001b[0mClusterHierarchyColumns\u001b[0m\u001b[0;34m.\u001b[0m\u001b[0mright_child_id\u001b[0m\u001b[0;34m]\u001b[0m\u001b[0;34m\u001b[0m\u001b[0;34m\u001b[0m\u001b[0m\n\u001b[0;32m--> 113\u001b[0;31m             \u001b[0mlevels\u001b[0m\u001b[0;34m.\u001b[0m\u001b[0mupdate\u001b[0m\u001b[0;34m(\u001b[0m\u001b[0mself\u001b[0m\u001b[0;34m.\u001b[0m\u001b[0m_populate_levels\u001b[0m\u001b[0;34m(\u001b[0m\u001b[0mleft_child_id\u001b[0m\u001b[0;34m,\u001b[0m \u001b[0mparent_level\u001b[0m \u001b[0;34m+\u001b[0m \u001b[0;36m1\u001b[0m\u001b[0;34m)\u001b[0m\u001b[0;34m)\u001b[0m\u001b[0;34m\u001b[0m\u001b[0;34m\u001b[0m\u001b[0m\n\u001b[0m\u001b[1;32m    114\u001b[0m             \u001b[0mlevels\u001b[0m\u001b[0;34m.\u001b[0m\u001b[0mupdate\u001b[0m\u001b[0;34m(\u001b[0m\u001b[0mself\u001b[0m\u001b[0;34m.\u001b[0m\u001b[0m_populate_levels\u001b[0m\u001b[0;34m(\u001b[0m\u001b[0mright_child_id\u001b[0m\u001b[0;34m,\u001b[0m \u001b[0mparent_level\u001b[0m \u001b[0;34m+\u001b[0m \u001b[0;36m1\u001b[0m\u001b[0;34m)\u001b[0m\u001b[0;34m)\u001b[0m\u001b[0;34m\u001b[0m\u001b[0;34m\u001b[0m\u001b[0m\n\u001b[1;32m    115\u001b[0m         \u001b[0;32mreturn\u001b[0m \u001b[0mlevels\u001b[0m\u001b[0;34m\u001b[0m\u001b[0;34m\u001b[0m\u001b[0m\n",
      "\u001b[0;32m~/Desktop/ML/Recommendations/arcane/src/clustering/ClusterHierarchyService.py\u001b[0m in \u001b[0;36m?\u001b[0;34m(self, parent_cluster_id, parent_level)\u001b[0m\n\u001b[1;32m    110\u001b[0m         \u001b[0;32mif\u001b[0m \u001b[0;32mnot\u001b[0m \u001b[0mcluster_row\u001b[0m\u001b[0;34m.\u001b[0m\u001b[0mempty\u001b[0m\u001b[0;34m:\u001b[0m  \u001b[0;31m# We already asserted above that a cluster has a max of 1 row\u001b[0m\u001b[0;34m\u001b[0m\u001b[0;34m\u001b[0m\u001b[0m\n\u001b[1;32m    111\u001b[0m             \u001b[0mleft_child_id\u001b[0m \u001b[0;34m=\u001b[0m \u001b[0mcluster_row\u001b[0m\u001b[0;34m[\u001b[0m\u001b[0mClusterHierarchyColumns\u001b[0m\u001b[0;34m.\u001b[0m\u001b[0mleft_child_id\u001b[0m\u001b[0;34m]\u001b[0m\u001b[0;34m\u001b[0m\u001b[0;34m\u001b[0m\u001b[0m\n\u001b[1;32m    112\u001b[0m             \u001b[0mright_child_id\u001b[0m \u001b[0;34m=\u001b[0m \u001b[0mcluster_row\u001b[0m\u001b[0;34m[\u001b[0m\u001b[0mClusterHierarchyColumns\u001b[0m\u001b[0;34m.\u001b[0m\u001b[0mright_child_id\u001b[0m\u001b[0;34m]\u001b[0m\u001b[0;34m\u001b[0m\u001b[0;34m\u001b[0m\u001b[0m\n\u001b[1;32m    113\u001b[0m             \u001b[0mlevels\u001b[0m\u001b[0;34m.\u001b[0m\u001b[0mupdate\u001b[0m\u001b[0;34m(\u001b[0m\u001b[0mself\u001b[0m\u001b[0;34m.\u001b[0m\u001b[0m_populate_levels\u001b[0m\u001b[0;34m(\u001b[0m\u001b[0mleft_child_id\u001b[0m\u001b[0;34m,\u001b[0m \u001b[0mparent_level\u001b[0m \u001b[0;34m+\u001b[0m \u001b[0;36m1\u001b[0m\u001b[0;34m)\u001b[0m\u001b[0;34m)\u001b[0m\u001b[0;34m\u001b[0m\u001b[0;34m\u001b[0m\u001b[0m\n\u001b[0;32m--> 114\u001b[0;31m             \u001b[0mlevels\u001b[0m\u001b[0;34m.\u001b[0m\u001b[0mupdate\u001b[0m\u001b[0;34m(\u001b[0m\u001b[0mself\u001b[0m\u001b[0;34m.\u001b[0m\u001b[0m_populate_levels\u001b[0m\u001b[0;34m(\u001b[0m\u001b[0mright_child_id\u001b[0m\u001b[0;34m,\u001b[0m \u001b[0mparent_level\u001b[0m \u001b[0;34m+\u001b[0m \u001b[0;36m1\u001b[0m\u001b[0;34m)\u001b[0m\u001b[0;34m)\u001b[0m\u001b[0;34m\u001b[0m\u001b[0;34m\u001b[0m\u001b[0m\n\u001b[0m\u001b[1;32m    115\u001b[0m         \u001b[0;32mreturn\u001b[0m \u001b[0mlevels\u001b[0m\u001b[0;34m\u001b[0m\u001b[0;34m\u001b[0m\u001b[0m\n",
      "\u001b[0;32m~/Desktop/ML/Recommendations/arcane/src/clustering/ClusterHierarchyService.py\u001b[0m in \u001b[0;36m?\u001b[0;34m(self, parent_cluster_id, parent_level)\u001b[0m\n\u001b[1;32m    109\u001b[0m         \u001b[0mcluster_row\u001b[0m \u001b[0;34m=\u001b[0m \u001b[0mself\u001b[0m\u001b[0;34m.\u001b[0m\u001b[0mhierarchy_df\u001b[0m\u001b[0;34m[\u001b[0m\u001b[0mself\u001b[0m\u001b[0;34m.\u001b[0m\u001b[0mhierarchy_df\u001b[0m\u001b[0;34m[\u001b[0m\u001b[0mClusterHierarchyColumns\u001b[0m\u001b[0;34m.\u001b[0m\u001b[0mcluster_id\u001b[0m\u001b[0;34m]\u001b[0m \u001b[0;34m==\u001b[0m \u001b[0mparent_cluster_id\u001b[0m\u001b[0;34m]\u001b[0m\u001b[0;34m.\u001b[0m\u001b[0msqueeze\u001b[0m\u001b[0;34m(\u001b[0m\u001b[0;34m)\u001b[0m\u001b[0;34m\u001b[0m\u001b[0;34m\u001b[0m\u001b[0m\n\u001b[1;32m    110\u001b[0m         \u001b[0;32mif\u001b[0m \u001b[0;32mnot\u001b[0m \u001b[0mcluster_row\u001b[0m\u001b[0;34m.\u001b[0m\u001b[0mempty\u001b[0m\u001b[0;34m:\u001b[0m  \u001b[0;31m# We already asserted above that a cluster has a max of 1 row\u001b[0m\u001b[0;34m\u001b[0m\u001b[0;34m\u001b[0m\u001b[0m\n\u001b[1;32m    111\u001b[0m             \u001b[0mleft_child_id\u001b[0m \u001b[0;34m=\u001b[0m \u001b[0mcluster_row\u001b[0m\u001b[0;34m[\u001b[0m\u001b[0mClusterHierarchyColumns\u001b[0m\u001b[0;34m.\u001b[0m\u001b[0mleft_child_id\u001b[0m\u001b[0;34m]\u001b[0m\u001b[0;34m\u001b[0m\u001b[0;34m\u001b[0m\u001b[0m\n\u001b[1;32m    112\u001b[0m             \u001b[0mright_child_id\u001b[0m \u001b[0;34m=\u001b[0m \u001b[0mcluster_row\u001b[0m\u001b[0;34m[\u001b[0m\u001b[0mClusterHierarchyColumns\u001b[0m\u001b[0;34m.\u001b[0m\u001b[0mright_child_id\u001b[0m\u001b[0;34m]\u001b[0m\u001b[0;34m\u001b[0m\u001b[0;34m\u001b[0m\u001b[0m\n\u001b[0;32m--> 113\u001b[0;31m             \u001b[0mlevels\u001b[0m\u001b[0;34m.\u001b[0m\u001b[0mupdate\u001b[0m\u001b[0;34m(\u001b[0m\u001b[0mself\u001b[0m\u001b[0;34m.\u001b[0m\u001b[0m_populate_levels\u001b[0m\u001b[0;34m(\u001b[0m\u001b[0mleft_child_id\u001b[0m\u001b[0;34m,\u001b[0m \u001b[0mparent_level\u001b[0m \u001b[0;34m+\u001b[0m \u001b[0;36m1\u001b[0m\u001b[0;34m)\u001b[0m\u001b[0;34m)\u001b[0m\u001b[0;34m\u001b[0m\u001b[0;34m\u001b[0m\u001b[0m\n\u001b[0m\u001b[1;32m    114\u001b[0m             \u001b[0mlevels\u001b[0m\u001b[0;34m.\u001b[0m\u001b[0mupdate\u001b[0m\u001b[0;34m(\u001b[0m\u001b[0mself\u001b[0m\u001b[0;34m.\u001b[0m\u001b[0m_populate_levels\u001b[0m\u001b[0;34m(\u001b[0m\u001b[0mright_child_id\u001b[0m\u001b[0;34m,\u001b[0m \u001b[0mparent_level\u001b[0m \u001b[0;34m+\u001b[0m \u001b[0;36m1\u001b[0m\u001b[0;34m)\u001b[0m\u001b[0;34m)\u001b[0m\u001b[0;34m\u001b[0m\u001b[0;34m\u001b[0m\u001b[0m\n\u001b[1;32m    115\u001b[0m         \u001b[0;32mreturn\u001b[0m \u001b[0mlevels\u001b[0m\u001b[0;34m\u001b[0m\u001b[0;34m\u001b[0m\u001b[0m\n",
      "\u001b[0;32m~/Desktop/ML/Recommendations/arcane/src/clustering/ClusterHierarchyService.py\u001b[0m in \u001b[0;36m?\u001b[0;34m(self, parent_cluster_id, parent_level)\u001b[0m\n\u001b[1;32m    109\u001b[0m         \u001b[0mcluster_row\u001b[0m \u001b[0;34m=\u001b[0m \u001b[0mself\u001b[0m\u001b[0;34m.\u001b[0m\u001b[0mhierarchy_df\u001b[0m\u001b[0;34m[\u001b[0m\u001b[0mself\u001b[0m\u001b[0;34m.\u001b[0m\u001b[0mhierarchy_df\u001b[0m\u001b[0;34m[\u001b[0m\u001b[0mClusterHierarchyColumns\u001b[0m\u001b[0;34m.\u001b[0m\u001b[0mcluster_id\u001b[0m\u001b[0;34m]\u001b[0m \u001b[0;34m==\u001b[0m \u001b[0mparent_cluster_id\u001b[0m\u001b[0;34m]\u001b[0m\u001b[0;34m.\u001b[0m\u001b[0msqueeze\u001b[0m\u001b[0;34m(\u001b[0m\u001b[0;34m)\u001b[0m\u001b[0;34m\u001b[0m\u001b[0;34m\u001b[0m\u001b[0m\n\u001b[1;32m    110\u001b[0m         \u001b[0;32mif\u001b[0m \u001b[0;32mnot\u001b[0m \u001b[0mcluster_row\u001b[0m\u001b[0;34m.\u001b[0m\u001b[0mempty\u001b[0m\u001b[0;34m:\u001b[0m  \u001b[0;31m# We already asserted above that a cluster has a max of 1 row\u001b[0m\u001b[0;34m\u001b[0m\u001b[0;34m\u001b[0m\u001b[0m\n\u001b[1;32m    111\u001b[0m             \u001b[0mleft_child_id\u001b[0m \u001b[0;34m=\u001b[0m \u001b[0mcluster_row\u001b[0m\u001b[0;34m[\u001b[0m\u001b[0mClusterHierarchyColumns\u001b[0m\u001b[0;34m.\u001b[0m\u001b[0mleft_child_id\u001b[0m\u001b[0;34m]\u001b[0m\u001b[0;34m\u001b[0m\u001b[0;34m\u001b[0m\u001b[0m\n\u001b[1;32m    112\u001b[0m             \u001b[0mright_child_id\u001b[0m \u001b[0;34m=\u001b[0m \u001b[0mcluster_row\u001b[0m\u001b[0;34m[\u001b[0m\u001b[0mClusterHierarchyColumns\u001b[0m\u001b[0;34m.\u001b[0m\u001b[0mright_child_id\u001b[0m\u001b[0;34m]\u001b[0m\u001b[0;34m\u001b[0m\u001b[0;34m\u001b[0m\u001b[0m\n\u001b[0;32m--> 113\u001b[0;31m             \u001b[0mlevels\u001b[0m\u001b[0;34m.\u001b[0m\u001b[0mupdate\u001b[0m\u001b[0;34m(\u001b[0m\u001b[0mself\u001b[0m\u001b[0;34m.\u001b[0m\u001b[0m_populate_levels\u001b[0m\u001b[0;34m(\u001b[0m\u001b[0mleft_child_id\u001b[0m\u001b[0;34m,\u001b[0m \u001b[0mparent_level\u001b[0m \u001b[0;34m+\u001b[0m \u001b[0;36m1\u001b[0m\u001b[0;34m)\u001b[0m\u001b[0;34m)\u001b[0m\u001b[0;34m\u001b[0m\u001b[0;34m\u001b[0m\u001b[0m\n\u001b[0m\u001b[1;32m    114\u001b[0m             \u001b[0mlevels\u001b[0m\u001b[0;34m.\u001b[0m\u001b[0mupdate\u001b[0m\u001b[0;34m(\u001b[0m\u001b[0mself\u001b[0m\u001b[0;34m.\u001b[0m\u001b[0m_populate_levels\u001b[0m\u001b[0;34m(\u001b[0m\u001b[0mright_child_id\u001b[0m\u001b[0;34m,\u001b[0m \u001b[0mparent_level\u001b[0m \u001b[0;34m+\u001b[0m \u001b[0;36m1\u001b[0m\u001b[0;34m)\u001b[0m\u001b[0;34m)\u001b[0m\u001b[0;34m\u001b[0m\u001b[0;34m\u001b[0m\u001b[0m\n\u001b[1;32m    115\u001b[0m         \u001b[0;32mreturn\u001b[0m \u001b[0mlevels\u001b[0m\u001b[0;34m\u001b[0m\u001b[0;34m\u001b[0m\u001b[0m\n",
      "\u001b[0;32m~/Desktop/ML/Recommendations/arcane/src/clustering/ClusterHierarchyService.py\u001b[0m in \u001b[0;36m?\u001b[0;34m(self, parent_cluster_id, parent_level)\u001b[0m\n\u001b[1;32m    109\u001b[0m         \u001b[0mcluster_row\u001b[0m \u001b[0;34m=\u001b[0m \u001b[0mself\u001b[0m\u001b[0;34m.\u001b[0m\u001b[0mhierarchy_df\u001b[0m\u001b[0;34m[\u001b[0m\u001b[0mself\u001b[0m\u001b[0;34m.\u001b[0m\u001b[0mhierarchy_df\u001b[0m\u001b[0;34m[\u001b[0m\u001b[0mClusterHierarchyColumns\u001b[0m\u001b[0;34m.\u001b[0m\u001b[0mcluster_id\u001b[0m\u001b[0;34m]\u001b[0m \u001b[0;34m==\u001b[0m \u001b[0mparent_cluster_id\u001b[0m\u001b[0;34m]\u001b[0m\u001b[0;34m.\u001b[0m\u001b[0msqueeze\u001b[0m\u001b[0;34m(\u001b[0m\u001b[0;34m)\u001b[0m\u001b[0;34m\u001b[0m\u001b[0;34m\u001b[0m\u001b[0m\n\u001b[1;32m    110\u001b[0m         \u001b[0;32mif\u001b[0m \u001b[0;32mnot\u001b[0m \u001b[0mcluster_row\u001b[0m\u001b[0;34m.\u001b[0m\u001b[0mempty\u001b[0m\u001b[0;34m:\u001b[0m  \u001b[0;31m# We already asserted above that a cluster has a max of 1 row\u001b[0m\u001b[0;34m\u001b[0m\u001b[0;34m\u001b[0m\u001b[0m\n\u001b[1;32m    111\u001b[0m             \u001b[0mleft_child_id\u001b[0m \u001b[0;34m=\u001b[0m \u001b[0mcluster_row\u001b[0m\u001b[0;34m[\u001b[0m\u001b[0mClusterHierarchyColumns\u001b[0m\u001b[0;34m.\u001b[0m\u001b[0mleft_child_id\u001b[0m\u001b[0;34m]\u001b[0m\u001b[0;34m\u001b[0m\u001b[0;34m\u001b[0m\u001b[0m\n\u001b[1;32m    112\u001b[0m             \u001b[0mright_child_id\u001b[0m \u001b[0;34m=\u001b[0m \u001b[0mcluster_row\u001b[0m\u001b[0;34m[\u001b[0m\u001b[0mClusterHierarchyColumns\u001b[0m\u001b[0;34m.\u001b[0m\u001b[0mright_child_id\u001b[0m\u001b[0;34m]\u001b[0m\u001b[0;34m\u001b[0m\u001b[0;34m\u001b[0m\u001b[0m\n\u001b[0;32m--> 113\u001b[0;31m             \u001b[0mlevels\u001b[0m\u001b[0;34m.\u001b[0m\u001b[0mupdate\u001b[0m\u001b[0;34m(\u001b[0m\u001b[0mself\u001b[0m\u001b[0;34m.\u001b[0m\u001b[0m_populate_levels\u001b[0m\u001b[0;34m(\u001b[0m\u001b[0mleft_child_id\u001b[0m\u001b[0;34m,\u001b[0m \u001b[0mparent_level\u001b[0m \u001b[0;34m+\u001b[0m \u001b[0;36m1\u001b[0m\u001b[0;34m)\u001b[0m\u001b[0;34m)\u001b[0m\u001b[0;34m\u001b[0m\u001b[0;34m\u001b[0m\u001b[0m\n\u001b[0m\u001b[1;32m    114\u001b[0m             \u001b[0mlevels\u001b[0m\u001b[0;34m.\u001b[0m\u001b[0mupdate\u001b[0m\u001b[0;34m(\u001b[0m\u001b[0mself\u001b[0m\u001b[0;34m.\u001b[0m\u001b[0m_populate_levels\u001b[0m\u001b[0;34m(\u001b[0m\u001b[0mright_child_id\u001b[0m\u001b[0;34m,\u001b[0m \u001b[0mparent_level\u001b[0m \u001b[0;34m+\u001b[0m \u001b[0;36m1\u001b[0m\u001b[0;34m)\u001b[0m\u001b[0;34m)\u001b[0m\u001b[0;34m\u001b[0m\u001b[0;34m\u001b[0m\u001b[0m\n\u001b[1;32m    115\u001b[0m         \u001b[0;32mreturn\u001b[0m \u001b[0mlevels\u001b[0m\u001b[0;34m\u001b[0m\u001b[0;34m\u001b[0m\u001b[0m\n",
      "\u001b[0;32m~/Desktop/ML/Recommendations/arcane/src/clustering/ClusterHierarchyService.py\u001b[0m in \u001b[0;36m?\u001b[0;34m(self, parent_cluster_id, parent_level)\u001b[0m\n\u001b[1;32m    103\u001b[0m     \u001b[0;32mdef\u001b[0m \u001b[0m_populate_levels\u001b[0m\u001b[0;34m(\u001b[0m\u001b[0mself\u001b[0m\u001b[0;34m,\u001b[0m \u001b[0mparent_cluster_id\u001b[0m\u001b[0;34m,\u001b[0m \u001b[0mparent_level\u001b[0m\u001b[0;34m)\u001b[0m\u001b[0;34m:\u001b[0m\u001b[0;34m\u001b[0m\u001b[0;34m\u001b[0m\u001b[0m\n\u001b[1;32m    104\u001b[0m         \u001b[0;31m# notice that not all leaf clusters: stories are at the same level.\u001b[0m\u001b[0;34m\u001b[0m\u001b[0;34m\u001b[0m\u001b[0m\n\u001b[0;32m--> 105\u001b[0;31m         \u001b[0;32mif\u001b[0m \u001b[0mpd\u001b[0m\u001b[0;34m.\u001b[0m\u001b[0misna\u001b[0m\u001b[0;34m(\u001b[0m\u001b[0mparent_cluster_id\u001b[0m\u001b[0;34m)\u001b[0m \u001b[0;32mor\u001b[0m \u001b[0mparent_cluster_id\u001b[0m \u001b[0;32mis\u001b[0m \u001b[0;32mNone\u001b[0m\u001b[0;34m:\u001b[0m  \u001b[0;31m# Using pd.na because Nones are converted to pd.na by pandas dataframe\u001b[0m\u001b[0;34m\u001b[0m\u001b[0;34m\u001b[0m\u001b[0m\n\u001b[0m\u001b[1;32m    106\u001b[0m             \u001b[0;32mreturn\u001b[0m \u001b[0;34m{\u001b[0m\u001b[0;34m}\u001b[0m\u001b[0;34m\u001b[0m\u001b[0;34m\u001b[0m\u001b[0m\n\u001b[1;32m    107\u001b[0m \u001b[0;34m\u001b[0m\u001b[0m\n\u001b[1;32m    108\u001b[0m         \u001b[0mlevels\u001b[0m \u001b[0;34m=\u001b[0m \u001b[0;34m{\u001b[0m\u001b[0mparent_cluster_id\u001b[0m\u001b[0;34m:\u001b[0m \u001b[0mparent_level\u001b[0m\u001b[0;34m}\u001b[0m\u001b[0;34m\u001b[0m\u001b[0;34m\u001b[0m\u001b[0m\n",
      "\u001b[0;32m~/anaconda3/envs/recoenv/lib/python3.11/site-packages/pandas/core/generic.py\u001b[0m in \u001b[0;36m?\u001b[0;34m(self)\u001b[0m\n\u001b[1;32m   1464\u001b[0m     \u001b[0;34m@\u001b[0m\u001b[0mfinal\u001b[0m\u001b[0;34m\u001b[0m\u001b[0;34m\u001b[0m\u001b[0m\n\u001b[1;32m   1465\u001b[0m     \u001b[0;32mdef\u001b[0m \u001b[0m__nonzero__\u001b[0m\u001b[0;34m(\u001b[0m\u001b[0mself\u001b[0m\u001b[0;34m)\u001b[0m \u001b[0;34m->\u001b[0m \u001b[0mNoReturn\u001b[0m\u001b[0;34m:\u001b[0m\u001b[0;34m\u001b[0m\u001b[0;34m\u001b[0m\u001b[0m\n\u001b[0;32m-> 1466\u001b[0;31m         raise ValueError(\n\u001b[0m\u001b[1;32m   1467\u001b[0m             \u001b[0;34mf\"The truth value of a {type(self).__name__} is ambiguous. \"\u001b[0m\u001b[0;34m\u001b[0m\u001b[0;34m\u001b[0m\u001b[0m\n\u001b[1;32m   1468\u001b[0m             \u001b[0;34m\"Use a.empty, a.bool(), a.item(), a.any() or a.all().\"\u001b[0m\u001b[0;34m\u001b[0m\u001b[0;34m\u001b[0m\u001b[0m\n\u001b[1;32m   1469\u001b[0m         )\n",
      "\u001b[0;31mValueError\u001b[0m: The truth value of a Series is ambiguous. Use a.empty, a.bool(), a.item(), a.any() or a.all()."
     ]
    }
   ],
   "source": [
    "chs._populate_levels(parent_cluster_id=2774,parent_level=0)"
   ]
  },
  {
   "cell_type": "code",
   "execution_count": 19,
   "id": "4d8def92-d59b-498b-9a6d-939d73f7bebb",
   "metadata": {
    "tags": []
   },
   "outputs": [
    {
     "ename": "ValueError",
     "evalue": "The truth value of a Series is ambiguous. Use a.empty, a.bool(), a.item(), a.any() or a.all().",
     "output_type": "error",
     "traceback": [
      "\u001b[0;31m---------------------------------------------------------------------------\u001b[0m",
      "\u001b[0;31mValueError\u001b[0m                                Traceback (most recent call last)",
      "\u001b[0;32m/var/folders/d4/cgyr_gnj7nn2wy_hq40gkq8c0000gq/T/ipykernel_41379/1522543230.py\u001b[0m in \u001b[0;36m?\u001b[0;34m()\u001b[0m\n\u001b[0;32m----> 1\u001b[0;31m \u001b[0mchs\u001b[0m\u001b[0;34m.\u001b[0m\u001b[0msetup\u001b[0m\u001b[0;34m(\u001b[0m\u001b[0;34m)\u001b[0m\u001b[0;34m\u001b[0m\u001b[0;34m\u001b[0m\u001b[0m\n\u001b[0m",
      "\u001b[0;32m~/Desktop/ML/Recommendations/arcane/src/clustering/ClusterHierarchyService.py\u001b[0m in \u001b[0;36m?\u001b[0;34m(self)\u001b[0m\n\u001b[1;32m     39\u001b[0m         \u001b[0mself\u001b[0m\u001b[0;34m.\u001b[0m\u001b[0m_perform_validations\u001b[0m\u001b[0;34m(\u001b[0m\u001b[0;34m)\u001b[0m\u001b[0;34m\u001b[0m\u001b[0;34m\u001b[0m\u001b[0m\n\u001b[1;32m     40\u001b[0m         \u001b[0mself\u001b[0m\u001b[0;34m.\u001b[0m\u001b[0m_find_root_cluster_id\u001b[0m\u001b[0;34m(\u001b[0m\u001b[0;34m)\u001b[0m\u001b[0;34m\u001b[0m\u001b[0;34m\u001b[0m\u001b[0m\n\u001b[1;32m     41\u001b[0m         \u001b[0mself\u001b[0m\u001b[0;34m.\u001b[0m\u001b[0m_add_leaf_topics_to_hierarchy_df\u001b[0m\u001b[0;34m(\u001b[0m\u001b[0;34m)\u001b[0m\u001b[0;34m\u001b[0m\u001b[0;34m\u001b[0m\u001b[0m\n\u001b[1;32m     42\u001b[0m \u001b[0;34m\u001b[0m\u001b[0m\n\u001b[0;32m---> 43\u001b[0;31m         \u001b[0mlevels\u001b[0m \u001b[0;34m=\u001b[0m \u001b[0mself\u001b[0m\u001b[0;34m.\u001b[0m\u001b[0m_populate_levels\u001b[0m\u001b[0;34m(\u001b[0m\u001b[0mparent_cluster_id\u001b[0m\u001b[0;34m=\u001b[0m\u001b[0mself\u001b[0m\u001b[0;34m.\u001b[0m\u001b[0mroot_cluster_id\u001b[0m\u001b[0;34m,\u001b[0m \u001b[0mparent_level\u001b[0m\u001b[0;34m=\u001b[0m\u001b[0;36m0\u001b[0m\u001b[0;34m)\u001b[0m\u001b[0;34m\u001b[0m\u001b[0;34m\u001b[0m\u001b[0m\n\u001b[0m\u001b[1;32m     44\u001b[0m         \u001b[0mself\u001b[0m\u001b[0;34m.\u001b[0m\u001b[0m_find_documents_in_cluster\u001b[0m\u001b[0;34m(\u001b[0m\u001b[0mcluster_id\u001b[0m\u001b[0;34m=\u001b[0m\u001b[0mself\u001b[0m\u001b[0;34m.\u001b[0m\u001b[0mroot_cluster_id\u001b[0m\u001b[0;34m)\u001b[0m\u001b[0;34m\u001b[0m\u001b[0;34m\u001b[0m\u001b[0m\n\u001b[1;32m     45\u001b[0m \u001b[0;34m\u001b[0m\u001b[0m\n\u001b[1;32m     46\u001b[0m         \u001b[0mself\u001b[0m\u001b[0;34m.\u001b[0m\u001b[0mhierarchy_df\u001b[0m\u001b[0;34m[\u001b[0m\u001b[0mClusterHierarchyColumns\u001b[0m\u001b[0;34m.\u001b[0m\u001b[0mlevel\u001b[0m\u001b[0;34m]\u001b[0m \u001b[0;34m=\u001b[0m \u001b[0mself\u001b[0m\u001b[0;34m.\u001b[0m\u001b[0mhierarchy_df\u001b[0m\u001b[0;34m[\u001b[0m\u001b[0mClusterHierarchyColumns\u001b[0m\u001b[0;34m.\u001b[0m\u001b[0mcluster_id\u001b[0m\u001b[0;34m]\u001b[0m\u001b[0;34m.\u001b[0m\u001b[0mmap\u001b[0m\u001b[0;34m(\u001b[0m\u001b[0mlevels\u001b[0m\u001b[0;34m)\u001b[0m\u001b[0;34m\u001b[0m\u001b[0;34m\u001b[0m\u001b[0m\n",
      "\u001b[0;32m~/Desktop/ML/Recommendations/arcane/src/clustering/ClusterHierarchyService.py\u001b[0m in \u001b[0;36m?\u001b[0;34m(self, parent_cluster_id, parent_level)\u001b[0m\n\u001b[1;32m    109\u001b[0m         \u001b[0mcluster_row\u001b[0m \u001b[0;34m=\u001b[0m \u001b[0mself\u001b[0m\u001b[0;34m.\u001b[0m\u001b[0mhierarchy_df\u001b[0m\u001b[0;34m[\u001b[0m\u001b[0mself\u001b[0m\u001b[0;34m.\u001b[0m\u001b[0mhierarchy_df\u001b[0m\u001b[0;34m[\u001b[0m\u001b[0mClusterHierarchyColumns\u001b[0m\u001b[0;34m.\u001b[0m\u001b[0mcluster_id\u001b[0m\u001b[0;34m]\u001b[0m \u001b[0;34m==\u001b[0m \u001b[0mparent_cluster_id\u001b[0m\u001b[0;34m]\u001b[0m\u001b[0;34m.\u001b[0m\u001b[0msqueeze\u001b[0m\u001b[0;34m(\u001b[0m\u001b[0;34m)\u001b[0m\u001b[0;34m\u001b[0m\u001b[0;34m\u001b[0m\u001b[0m\n\u001b[1;32m    110\u001b[0m         \u001b[0;32mif\u001b[0m \u001b[0;32mnot\u001b[0m \u001b[0mcluster_row\u001b[0m\u001b[0;34m.\u001b[0m\u001b[0mempty\u001b[0m\u001b[0;34m:\u001b[0m  \u001b[0;31m# We already asserted above that a cluster has a max of 1 row\u001b[0m\u001b[0;34m\u001b[0m\u001b[0;34m\u001b[0m\u001b[0m\n\u001b[1;32m    111\u001b[0m             \u001b[0mleft_child_id\u001b[0m \u001b[0;34m=\u001b[0m \u001b[0mcluster_row\u001b[0m\u001b[0;34m[\u001b[0m\u001b[0mClusterHierarchyColumns\u001b[0m\u001b[0;34m.\u001b[0m\u001b[0mleft_child_id\u001b[0m\u001b[0;34m]\u001b[0m\u001b[0;34m\u001b[0m\u001b[0;34m\u001b[0m\u001b[0m\n\u001b[1;32m    112\u001b[0m             \u001b[0mright_child_id\u001b[0m \u001b[0;34m=\u001b[0m \u001b[0mcluster_row\u001b[0m\u001b[0;34m[\u001b[0m\u001b[0mClusterHierarchyColumns\u001b[0m\u001b[0;34m.\u001b[0m\u001b[0mright_child_id\u001b[0m\u001b[0;34m]\u001b[0m\u001b[0;34m\u001b[0m\u001b[0;34m\u001b[0m\u001b[0m\n\u001b[0;32m--> 113\u001b[0;31m             \u001b[0mlevels\u001b[0m\u001b[0;34m.\u001b[0m\u001b[0mupdate\u001b[0m\u001b[0;34m(\u001b[0m\u001b[0mself\u001b[0m\u001b[0;34m.\u001b[0m\u001b[0m_populate_levels\u001b[0m\u001b[0;34m(\u001b[0m\u001b[0mleft_child_id\u001b[0m\u001b[0;34m,\u001b[0m \u001b[0mparent_level\u001b[0m \u001b[0;34m+\u001b[0m \u001b[0;36m1\u001b[0m\u001b[0;34m)\u001b[0m\u001b[0;34m)\u001b[0m\u001b[0;34m\u001b[0m\u001b[0;34m\u001b[0m\u001b[0m\n\u001b[0m\u001b[1;32m    114\u001b[0m             \u001b[0mlevels\u001b[0m\u001b[0;34m.\u001b[0m\u001b[0mupdate\u001b[0m\u001b[0;34m(\u001b[0m\u001b[0mself\u001b[0m\u001b[0;34m.\u001b[0m\u001b[0m_populate_levels\u001b[0m\u001b[0;34m(\u001b[0m\u001b[0mright_child_id\u001b[0m\u001b[0;34m,\u001b[0m \u001b[0mparent_level\u001b[0m \u001b[0;34m+\u001b[0m \u001b[0;36m1\u001b[0m\u001b[0;34m)\u001b[0m\u001b[0;34m)\u001b[0m\u001b[0;34m\u001b[0m\u001b[0;34m\u001b[0m\u001b[0m\n\u001b[1;32m    115\u001b[0m         \u001b[0;32mreturn\u001b[0m \u001b[0mlevels\u001b[0m\u001b[0;34m\u001b[0m\u001b[0;34m\u001b[0m\u001b[0m\n",
      "\u001b[0;32m~/Desktop/ML/Recommendations/arcane/src/clustering/ClusterHierarchyService.py\u001b[0m in \u001b[0;36m?\u001b[0;34m(self, parent_cluster_id, parent_level)\u001b[0m\n\u001b[1;32m    109\u001b[0m         \u001b[0mcluster_row\u001b[0m \u001b[0;34m=\u001b[0m \u001b[0mself\u001b[0m\u001b[0;34m.\u001b[0m\u001b[0mhierarchy_df\u001b[0m\u001b[0;34m[\u001b[0m\u001b[0mself\u001b[0m\u001b[0;34m.\u001b[0m\u001b[0mhierarchy_df\u001b[0m\u001b[0;34m[\u001b[0m\u001b[0mClusterHierarchyColumns\u001b[0m\u001b[0;34m.\u001b[0m\u001b[0mcluster_id\u001b[0m\u001b[0;34m]\u001b[0m \u001b[0;34m==\u001b[0m \u001b[0mparent_cluster_id\u001b[0m\u001b[0;34m]\u001b[0m\u001b[0;34m.\u001b[0m\u001b[0msqueeze\u001b[0m\u001b[0;34m(\u001b[0m\u001b[0;34m)\u001b[0m\u001b[0;34m\u001b[0m\u001b[0;34m\u001b[0m\u001b[0m\n\u001b[1;32m    110\u001b[0m         \u001b[0;32mif\u001b[0m \u001b[0;32mnot\u001b[0m \u001b[0mcluster_row\u001b[0m\u001b[0;34m.\u001b[0m\u001b[0mempty\u001b[0m\u001b[0;34m:\u001b[0m  \u001b[0;31m# We already asserted above that a cluster has a max of 1 row\u001b[0m\u001b[0;34m\u001b[0m\u001b[0;34m\u001b[0m\u001b[0m\n\u001b[1;32m    111\u001b[0m             \u001b[0mleft_child_id\u001b[0m \u001b[0;34m=\u001b[0m \u001b[0mcluster_row\u001b[0m\u001b[0;34m[\u001b[0m\u001b[0mClusterHierarchyColumns\u001b[0m\u001b[0;34m.\u001b[0m\u001b[0mleft_child_id\u001b[0m\u001b[0;34m]\u001b[0m\u001b[0;34m\u001b[0m\u001b[0;34m\u001b[0m\u001b[0m\n\u001b[1;32m    112\u001b[0m             \u001b[0mright_child_id\u001b[0m \u001b[0;34m=\u001b[0m \u001b[0mcluster_row\u001b[0m\u001b[0;34m[\u001b[0m\u001b[0mClusterHierarchyColumns\u001b[0m\u001b[0;34m.\u001b[0m\u001b[0mright_child_id\u001b[0m\u001b[0;34m]\u001b[0m\u001b[0;34m\u001b[0m\u001b[0;34m\u001b[0m\u001b[0m\n\u001b[0;32m--> 113\u001b[0;31m             \u001b[0mlevels\u001b[0m\u001b[0;34m.\u001b[0m\u001b[0mupdate\u001b[0m\u001b[0;34m(\u001b[0m\u001b[0mself\u001b[0m\u001b[0;34m.\u001b[0m\u001b[0m_populate_levels\u001b[0m\u001b[0;34m(\u001b[0m\u001b[0mleft_child_id\u001b[0m\u001b[0;34m,\u001b[0m \u001b[0mparent_level\u001b[0m \u001b[0;34m+\u001b[0m \u001b[0;36m1\u001b[0m\u001b[0;34m)\u001b[0m\u001b[0;34m)\u001b[0m\u001b[0;34m\u001b[0m\u001b[0;34m\u001b[0m\u001b[0m\n\u001b[0m\u001b[1;32m    114\u001b[0m             \u001b[0mlevels\u001b[0m\u001b[0;34m.\u001b[0m\u001b[0mupdate\u001b[0m\u001b[0;34m(\u001b[0m\u001b[0mself\u001b[0m\u001b[0;34m.\u001b[0m\u001b[0m_populate_levels\u001b[0m\u001b[0;34m(\u001b[0m\u001b[0mright_child_id\u001b[0m\u001b[0;34m,\u001b[0m \u001b[0mparent_level\u001b[0m \u001b[0;34m+\u001b[0m \u001b[0;36m1\u001b[0m\u001b[0;34m)\u001b[0m\u001b[0;34m)\u001b[0m\u001b[0;34m\u001b[0m\u001b[0;34m\u001b[0m\u001b[0m\n\u001b[1;32m    115\u001b[0m         \u001b[0;32mreturn\u001b[0m \u001b[0mlevels\u001b[0m\u001b[0;34m\u001b[0m\u001b[0;34m\u001b[0m\u001b[0m\n",
      "\u001b[0;32m~/Desktop/ML/Recommendations/arcane/src/clustering/ClusterHierarchyService.py\u001b[0m in \u001b[0;36m?\u001b[0;34m(self, parent_cluster_id, parent_level)\u001b[0m\n\u001b[1;32m    109\u001b[0m         \u001b[0mcluster_row\u001b[0m \u001b[0;34m=\u001b[0m \u001b[0mself\u001b[0m\u001b[0;34m.\u001b[0m\u001b[0mhierarchy_df\u001b[0m\u001b[0;34m[\u001b[0m\u001b[0mself\u001b[0m\u001b[0;34m.\u001b[0m\u001b[0mhierarchy_df\u001b[0m\u001b[0;34m[\u001b[0m\u001b[0mClusterHierarchyColumns\u001b[0m\u001b[0;34m.\u001b[0m\u001b[0mcluster_id\u001b[0m\u001b[0;34m]\u001b[0m \u001b[0;34m==\u001b[0m \u001b[0mparent_cluster_id\u001b[0m\u001b[0;34m]\u001b[0m\u001b[0;34m.\u001b[0m\u001b[0msqueeze\u001b[0m\u001b[0;34m(\u001b[0m\u001b[0;34m)\u001b[0m\u001b[0;34m\u001b[0m\u001b[0;34m\u001b[0m\u001b[0m\n\u001b[1;32m    110\u001b[0m         \u001b[0;32mif\u001b[0m \u001b[0;32mnot\u001b[0m \u001b[0mcluster_row\u001b[0m\u001b[0;34m.\u001b[0m\u001b[0mempty\u001b[0m\u001b[0;34m:\u001b[0m  \u001b[0;31m# We already asserted above that a cluster has a max of 1 row\u001b[0m\u001b[0;34m\u001b[0m\u001b[0;34m\u001b[0m\u001b[0m\n\u001b[1;32m    111\u001b[0m             \u001b[0mleft_child_id\u001b[0m \u001b[0;34m=\u001b[0m \u001b[0mcluster_row\u001b[0m\u001b[0;34m[\u001b[0m\u001b[0mClusterHierarchyColumns\u001b[0m\u001b[0;34m.\u001b[0m\u001b[0mleft_child_id\u001b[0m\u001b[0;34m]\u001b[0m\u001b[0;34m\u001b[0m\u001b[0;34m\u001b[0m\u001b[0m\n\u001b[1;32m    112\u001b[0m             \u001b[0mright_child_id\u001b[0m \u001b[0;34m=\u001b[0m \u001b[0mcluster_row\u001b[0m\u001b[0;34m[\u001b[0m\u001b[0mClusterHierarchyColumns\u001b[0m\u001b[0;34m.\u001b[0m\u001b[0mright_child_id\u001b[0m\u001b[0;34m]\u001b[0m\u001b[0;34m\u001b[0m\u001b[0;34m\u001b[0m\u001b[0m\n\u001b[0;32m--> 113\u001b[0;31m             \u001b[0mlevels\u001b[0m\u001b[0;34m.\u001b[0m\u001b[0mupdate\u001b[0m\u001b[0;34m(\u001b[0m\u001b[0mself\u001b[0m\u001b[0;34m.\u001b[0m\u001b[0m_populate_levels\u001b[0m\u001b[0;34m(\u001b[0m\u001b[0mleft_child_id\u001b[0m\u001b[0;34m,\u001b[0m \u001b[0mparent_level\u001b[0m \u001b[0;34m+\u001b[0m \u001b[0;36m1\u001b[0m\u001b[0;34m)\u001b[0m\u001b[0;34m)\u001b[0m\u001b[0;34m\u001b[0m\u001b[0;34m\u001b[0m\u001b[0m\n\u001b[0m\u001b[1;32m    114\u001b[0m             \u001b[0mlevels\u001b[0m\u001b[0;34m.\u001b[0m\u001b[0mupdate\u001b[0m\u001b[0;34m(\u001b[0m\u001b[0mself\u001b[0m\u001b[0;34m.\u001b[0m\u001b[0m_populate_levels\u001b[0m\u001b[0;34m(\u001b[0m\u001b[0mright_child_id\u001b[0m\u001b[0;34m,\u001b[0m \u001b[0mparent_level\u001b[0m \u001b[0;34m+\u001b[0m \u001b[0;36m1\u001b[0m\u001b[0;34m)\u001b[0m\u001b[0;34m)\u001b[0m\u001b[0;34m\u001b[0m\u001b[0;34m\u001b[0m\u001b[0m\n\u001b[1;32m    115\u001b[0m         \u001b[0;32mreturn\u001b[0m \u001b[0mlevels\u001b[0m\u001b[0;34m\u001b[0m\u001b[0;34m\u001b[0m\u001b[0m\n",
      "\u001b[0;32m~/Desktop/ML/Recommendations/arcane/src/clustering/ClusterHierarchyService.py\u001b[0m in \u001b[0;36m?\u001b[0;34m(self, parent_cluster_id, parent_level)\u001b[0m\n\u001b[1;32m    109\u001b[0m         \u001b[0mcluster_row\u001b[0m \u001b[0;34m=\u001b[0m \u001b[0mself\u001b[0m\u001b[0;34m.\u001b[0m\u001b[0mhierarchy_df\u001b[0m\u001b[0;34m[\u001b[0m\u001b[0mself\u001b[0m\u001b[0;34m.\u001b[0m\u001b[0mhierarchy_df\u001b[0m\u001b[0;34m[\u001b[0m\u001b[0mClusterHierarchyColumns\u001b[0m\u001b[0;34m.\u001b[0m\u001b[0mcluster_id\u001b[0m\u001b[0;34m]\u001b[0m \u001b[0;34m==\u001b[0m \u001b[0mparent_cluster_id\u001b[0m\u001b[0;34m]\u001b[0m\u001b[0;34m.\u001b[0m\u001b[0msqueeze\u001b[0m\u001b[0;34m(\u001b[0m\u001b[0;34m)\u001b[0m\u001b[0;34m\u001b[0m\u001b[0;34m\u001b[0m\u001b[0m\n\u001b[1;32m    110\u001b[0m         \u001b[0;32mif\u001b[0m \u001b[0;32mnot\u001b[0m \u001b[0mcluster_row\u001b[0m\u001b[0;34m.\u001b[0m\u001b[0mempty\u001b[0m\u001b[0;34m:\u001b[0m  \u001b[0;31m# We already asserted above that a cluster has a max of 1 row\u001b[0m\u001b[0;34m\u001b[0m\u001b[0;34m\u001b[0m\u001b[0m\n\u001b[1;32m    111\u001b[0m             \u001b[0mleft_child_id\u001b[0m \u001b[0;34m=\u001b[0m \u001b[0mcluster_row\u001b[0m\u001b[0;34m[\u001b[0m\u001b[0mClusterHierarchyColumns\u001b[0m\u001b[0;34m.\u001b[0m\u001b[0mleft_child_id\u001b[0m\u001b[0;34m]\u001b[0m\u001b[0;34m\u001b[0m\u001b[0;34m\u001b[0m\u001b[0m\n\u001b[1;32m    112\u001b[0m             \u001b[0mright_child_id\u001b[0m \u001b[0;34m=\u001b[0m \u001b[0mcluster_row\u001b[0m\u001b[0;34m[\u001b[0m\u001b[0mClusterHierarchyColumns\u001b[0m\u001b[0;34m.\u001b[0m\u001b[0mright_child_id\u001b[0m\u001b[0;34m]\u001b[0m\u001b[0;34m\u001b[0m\u001b[0;34m\u001b[0m\u001b[0m\n\u001b[0;32m--> 113\u001b[0;31m             \u001b[0mlevels\u001b[0m\u001b[0;34m.\u001b[0m\u001b[0mupdate\u001b[0m\u001b[0;34m(\u001b[0m\u001b[0mself\u001b[0m\u001b[0;34m.\u001b[0m\u001b[0m_populate_levels\u001b[0m\u001b[0;34m(\u001b[0m\u001b[0mleft_child_id\u001b[0m\u001b[0;34m,\u001b[0m \u001b[0mparent_level\u001b[0m \u001b[0;34m+\u001b[0m \u001b[0;36m1\u001b[0m\u001b[0;34m)\u001b[0m\u001b[0;34m)\u001b[0m\u001b[0;34m\u001b[0m\u001b[0;34m\u001b[0m\u001b[0m\n\u001b[0m\u001b[1;32m    114\u001b[0m             \u001b[0mlevels\u001b[0m\u001b[0;34m.\u001b[0m\u001b[0mupdate\u001b[0m\u001b[0;34m(\u001b[0m\u001b[0mself\u001b[0m\u001b[0;34m.\u001b[0m\u001b[0m_populate_levels\u001b[0m\u001b[0;34m(\u001b[0m\u001b[0mright_child_id\u001b[0m\u001b[0;34m,\u001b[0m \u001b[0mparent_level\u001b[0m \u001b[0;34m+\u001b[0m \u001b[0;36m1\u001b[0m\u001b[0;34m)\u001b[0m\u001b[0;34m)\u001b[0m\u001b[0;34m\u001b[0m\u001b[0;34m\u001b[0m\u001b[0m\n\u001b[1;32m    115\u001b[0m         \u001b[0;32mreturn\u001b[0m \u001b[0mlevels\u001b[0m\u001b[0;34m\u001b[0m\u001b[0;34m\u001b[0m\u001b[0m\n",
      "\u001b[0;32m~/Desktop/ML/Recommendations/arcane/src/clustering/ClusterHierarchyService.py\u001b[0m in \u001b[0;36m?\u001b[0;34m(self, parent_cluster_id, parent_level)\u001b[0m\n\u001b[1;32m    110\u001b[0m         \u001b[0;32mif\u001b[0m \u001b[0;32mnot\u001b[0m \u001b[0mcluster_row\u001b[0m\u001b[0;34m.\u001b[0m\u001b[0mempty\u001b[0m\u001b[0;34m:\u001b[0m  \u001b[0;31m# We already asserted above that a cluster has a max of 1 row\u001b[0m\u001b[0;34m\u001b[0m\u001b[0;34m\u001b[0m\u001b[0m\n\u001b[1;32m    111\u001b[0m             \u001b[0mleft_child_id\u001b[0m \u001b[0;34m=\u001b[0m \u001b[0mcluster_row\u001b[0m\u001b[0;34m[\u001b[0m\u001b[0mClusterHierarchyColumns\u001b[0m\u001b[0;34m.\u001b[0m\u001b[0mleft_child_id\u001b[0m\u001b[0;34m]\u001b[0m\u001b[0;34m\u001b[0m\u001b[0;34m\u001b[0m\u001b[0m\n\u001b[1;32m    112\u001b[0m             \u001b[0mright_child_id\u001b[0m \u001b[0;34m=\u001b[0m \u001b[0mcluster_row\u001b[0m\u001b[0;34m[\u001b[0m\u001b[0mClusterHierarchyColumns\u001b[0m\u001b[0;34m.\u001b[0m\u001b[0mright_child_id\u001b[0m\u001b[0;34m]\u001b[0m\u001b[0;34m\u001b[0m\u001b[0;34m\u001b[0m\u001b[0m\n\u001b[1;32m    113\u001b[0m             \u001b[0mlevels\u001b[0m\u001b[0;34m.\u001b[0m\u001b[0mupdate\u001b[0m\u001b[0;34m(\u001b[0m\u001b[0mself\u001b[0m\u001b[0;34m.\u001b[0m\u001b[0m_populate_levels\u001b[0m\u001b[0;34m(\u001b[0m\u001b[0mleft_child_id\u001b[0m\u001b[0;34m,\u001b[0m \u001b[0mparent_level\u001b[0m \u001b[0;34m+\u001b[0m \u001b[0;36m1\u001b[0m\u001b[0;34m)\u001b[0m\u001b[0;34m)\u001b[0m\u001b[0;34m\u001b[0m\u001b[0;34m\u001b[0m\u001b[0m\n\u001b[0;32m--> 114\u001b[0;31m             \u001b[0mlevels\u001b[0m\u001b[0;34m.\u001b[0m\u001b[0mupdate\u001b[0m\u001b[0;34m(\u001b[0m\u001b[0mself\u001b[0m\u001b[0;34m.\u001b[0m\u001b[0m_populate_levels\u001b[0m\u001b[0;34m(\u001b[0m\u001b[0mright_child_id\u001b[0m\u001b[0;34m,\u001b[0m \u001b[0mparent_level\u001b[0m \u001b[0;34m+\u001b[0m \u001b[0;36m1\u001b[0m\u001b[0;34m)\u001b[0m\u001b[0;34m)\u001b[0m\u001b[0;34m\u001b[0m\u001b[0;34m\u001b[0m\u001b[0m\n\u001b[0m\u001b[1;32m    115\u001b[0m         \u001b[0;32mreturn\u001b[0m \u001b[0mlevels\u001b[0m\u001b[0;34m\u001b[0m\u001b[0;34m\u001b[0m\u001b[0m\n",
      "\u001b[0;32m~/Desktop/ML/Recommendations/arcane/src/clustering/ClusterHierarchyService.py\u001b[0m in \u001b[0;36m?\u001b[0;34m(self, parent_cluster_id, parent_level)\u001b[0m\n\u001b[1;32m    109\u001b[0m         \u001b[0mcluster_row\u001b[0m \u001b[0;34m=\u001b[0m \u001b[0mself\u001b[0m\u001b[0;34m.\u001b[0m\u001b[0mhierarchy_df\u001b[0m\u001b[0;34m[\u001b[0m\u001b[0mself\u001b[0m\u001b[0;34m.\u001b[0m\u001b[0mhierarchy_df\u001b[0m\u001b[0;34m[\u001b[0m\u001b[0mClusterHierarchyColumns\u001b[0m\u001b[0;34m.\u001b[0m\u001b[0mcluster_id\u001b[0m\u001b[0;34m]\u001b[0m \u001b[0;34m==\u001b[0m \u001b[0mparent_cluster_id\u001b[0m\u001b[0;34m]\u001b[0m\u001b[0;34m.\u001b[0m\u001b[0msqueeze\u001b[0m\u001b[0;34m(\u001b[0m\u001b[0;34m)\u001b[0m\u001b[0;34m\u001b[0m\u001b[0;34m\u001b[0m\u001b[0m\n\u001b[1;32m    110\u001b[0m         \u001b[0;32mif\u001b[0m \u001b[0;32mnot\u001b[0m \u001b[0mcluster_row\u001b[0m\u001b[0;34m.\u001b[0m\u001b[0mempty\u001b[0m\u001b[0;34m:\u001b[0m  \u001b[0;31m# We already asserted above that a cluster has a max of 1 row\u001b[0m\u001b[0;34m\u001b[0m\u001b[0;34m\u001b[0m\u001b[0m\n\u001b[1;32m    111\u001b[0m             \u001b[0mleft_child_id\u001b[0m \u001b[0;34m=\u001b[0m \u001b[0mcluster_row\u001b[0m\u001b[0;34m[\u001b[0m\u001b[0mClusterHierarchyColumns\u001b[0m\u001b[0;34m.\u001b[0m\u001b[0mleft_child_id\u001b[0m\u001b[0;34m]\u001b[0m\u001b[0;34m\u001b[0m\u001b[0;34m\u001b[0m\u001b[0m\n\u001b[1;32m    112\u001b[0m             \u001b[0mright_child_id\u001b[0m \u001b[0;34m=\u001b[0m \u001b[0mcluster_row\u001b[0m\u001b[0;34m[\u001b[0m\u001b[0mClusterHierarchyColumns\u001b[0m\u001b[0;34m.\u001b[0m\u001b[0mright_child_id\u001b[0m\u001b[0;34m]\u001b[0m\u001b[0;34m\u001b[0m\u001b[0;34m\u001b[0m\u001b[0m\n\u001b[0;32m--> 113\u001b[0;31m             \u001b[0mlevels\u001b[0m\u001b[0;34m.\u001b[0m\u001b[0mupdate\u001b[0m\u001b[0;34m(\u001b[0m\u001b[0mself\u001b[0m\u001b[0;34m.\u001b[0m\u001b[0m_populate_levels\u001b[0m\u001b[0;34m(\u001b[0m\u001b[0mleft_child_id\u001b[0m\u001b[0;34m,\u001b[0m \u001b[0mparent_level\u001b[0m \u001b[0;34m+\u001b[0m \u001b[0;36m1\u001b[0m\u001b[0;34m)\u001b[0m\u001b[0;34m)\u001b[0m\u001b[0;34m\u001b[0m\u001b[0;34m\u001b[0m\u001b[0m\n\u001b[0m\u001b[1;32m    114\u001b[0m             \u001b[0mlevels\u001b[0m\u001b[0;34m.\u001b[0m\u001b[0mupdate\u001b[0m\u001b[0;34m(\u001b[0m\u001b[0mself\u001b[0m\u001b[0;34m.\u001b[0m\u001b[0m_populate_levels\u001b[0m\u001b[0;34m(\u001b[0m\u001b[0mright_child_id\u001b[0m\u001b[0;34m,\u001b[0m \u001b[0mparent_level\u001b[0m \u001b[0;34m+\u001b[0m \u001b[0;36m1\u001b[0m\u001b[0;34m)\u001b[0m\u001b[0;34m)\u001b[0m\u001b[0;34m\u001b[0m\u001b[0;34m\u001b[0m\u001b[0m\n\u001b[1;32m    115\u001b[0m         \u001b[0;32mreturn\u001b[0m \u001b[0mlevels\u001b[0m\u001b[0;34m\u001b[0m\u001b[0;34m\u001b[0m\u001b[0m\n",
      "\u001b[0;32m~/Desktop/ML/Recommendations/arcane/src/clustering/ClusterHierarchyService.py\u001b[0m in \u001b[0;36m?\u001b[0;34m(self, parent_cluster_id, parent_level)\u001b[0m\n\u001b[1;32m    109\u001b[0m         \u001b[0mcluster_row\u001b[0m \u001b[0;34m=\u001b[0m \u001b[0mself\u001b[0m\u001b[0;34m.\u001b[0m\u001b[0mhierarchy_df\u001b[0m\u001b[0;34m[\u001b[0m\u001b[0mself\u001b[0m\u001b[0;34m.\u001b[0m\u001b[0mhierarchy_df\u001b[0m\u001b[0;34m[\u001b[0m\u001b[0mClusterHierarchyColumns\u001b[0m\u001b[0;34m.\u001b[0m\u001b[0mcluster_id\u001b[0m\u001b[0;34m]\u001b[0m \u001b[0;34m==\u001b[0m \u001b[0mparent_cluster_id\u001b[0m\u001b[0;34m]\u001b[0m\u001b[0;34m.\u001b[0m\u001b[0msqueeze\u001b[0m\u001b[0;34m(\u001b[0m\u001b[0;34m)\u001b[0m\u001b[0;34m\u001b[0m\u001b[0;34m\u001b[0m\u001b[0m\n\u001b[1;32m    110\u001b[0m         \u001b[0;32mif\u001b[0m \u001b[0;32mnot\u001b[0m \u001b[0mcluster_row\u001b[0m\u001b[0;34m.\u001b[0m\u001b[0mempty\u001b[0m\u001b[0;34m:\u001b[0m  \u001b[0;31m# We already asserted above that a cluster has a max of 1 row\u001b[0m\u001b[0;34m\u001b[0m\u001b[0;34m\u001b[0m\u001b[0m\n\u001b[1;32m    111\u001b[0m             \u001b[0mleft_child_id\u001b[0m \u001b[0;34m=\u001b[0m \u001b[0mcluster_row\u001b[0m\u001b[0;34m[\u001b[0m\u001b[0mClusterHierarchyColumns\u001b[0m\u001b[0;34m.\u001b[0m\u001b[0mleft_child_id\u001b[0m\u001b[0;34m]\u001b[0m\u001b[0;34m\u001b[0m\u001b[0;34m\u001b[0m\u001b[0m\n\u001b[1;32m    112\u001b[0m             \u001b[0mright_child_id\u001b[0m \u001b[0;34m=\u001b[0m \u001b[0mcluster_row\u001b[0m\u001b[0;34m[\u001b[0m\u001b[0mClusterHierarchyColumns\u001b[0m\u001b[0;34m.\u001b[0m\u001b[0mright_child_id\u001b[0m\u001b[0;34m]\u001b[0m\u001b[0;34m\u001b[0m\u001b[0;34m\u001b[0m\u001b[0m\n\u001b[0;32m--> 113\u001b[0;31m             \u001b[0mlevels\u001b[0m\u001b[0;34m.\u001b[0m\u001b[0mupdate\u001b[0m\u001b[0;34m(\u001b[0m\u001b[0mself\u001b[0m\u001b[0;34m.\u001b[0m\u001b[0m_populate_levels\u001b[0m\u001b[0;34m(\u001b[0m\u001b[0mleft_child_id\u001b[0m\u001b[0;34m,\u001b[0m \u001b[0mparent_level\u001b[0m \u001b[0;34m+\u001b[0m \u001b[0;36m1\u001b[0m\u001b[0;34m)\u001b[0m\u001b[0;34m)\u001b[0m\u001b[0;34m\u001b[0m\u001b[0;34m\u001b[0m\u001b[0m\n\u001b[0m\u001b[1;32m    114\u001b[0m             \u001b[0mlevels\u001b[0m\u001b[0;34m.\u001b[0m\u001b[0mupdate\u001b[0m\u001b[0;34m(\u001b[0m\u001b[0mself\u001b[0m\u001b[0;34m.\u001b[0m\u001b[0m_populate_levels\u001b[0m\u001b[0;34m(\u001b[0m\u001b[0mright_child_id\u001b[0m\u001b[0;34m,\u001b[0m \u001b[0mparent_level\u001b[0m \u001b[0;34m+\u001b[0m \u001b[0;36m1\u001b[0m\u001b[0;34m)\u001b[0m\u001b[0;34m)\u001b[0m\u001b[0;34m\u001b[0m\u001b[0;34m\u001b[0m\u001b[0m\n\u001b[1;32m    115\u001b[0m         \u001b[0;32mreturn\u001b[0m \u001b[0mlevels\u001b[0m\u001b[0;34m\u001b[0m\u001b[0;34m\u001b[0m\u001b[0m\n",
      "\u001b[0;32m~/Desktop/ML/Recommendations/arcane/src/clustering/ClusterHierarchyService.py\u001b[0m in \u001b[0;36m?\u001b[0;34m(self, parent_cluster_id, parent_level)\u001b[0m\n\u001b[1;32m    109\u001b[0m         \u001b[0mcluster_row\u001b[0m \u001b[0;34m=\u001b[0m \u001b[0mself\u001b[0m\u001b[0;34m.\u001b[0m\u001b[0mhierarchy_df\u001b[0m\u001b[0;34m[\u001b[0m\u001b[0mself\u001b[0m\u001b[0;34m.\u001b[0m\u001b[0mhierarchy_df\u001b[0m\u001b[0;34m[\u001b[0m\u001b[0mClusterHierarchyColumns\u001b[0m\u001b[0;34m.\u001b[0m\u001b[0mcluster_id\u001b[0m\u001b[0;34m]\u001b[0m \u001b[0;34m==\u001b[0m \u001b[0mparent_cluster_id\u001b[0m\u001b[0;34m]\u001b[0m\u001b[0;34m.\u001b[0m\u001b[0msqueeze\u001b[0m\u001b[0;34m(\u001b[0m\u001b[0;34m)\u001b[0m\u001b[0;34m\u001b[0m\u001b[0;34m\u001b[0m\u001b[0m\n\u001b[1;32m    110\u001b[0m         \u001b[0;32mif\u001b[0m \u001b[0;32mnot\u001b[0m \u001b[0mcluster_row\u001b[0m\u001b[0;34m.\u001b[0m\u001b[0mempty\u001b[0m\u001b[0;34m:\u001b[0m  \u001b[0;31m# We already asserted above that a cluster has a max of 1 row\u001b[0m\u001b[0;34m\u001b[0m\u001b[0;34m\u001b[0m\u001b[0m\n\u001b[1;32m    111\u001b[0m             \u001b[0mleft_child_id\u001b[0m \u001b[0;34m=\u001b[0m \u001b[0mcluster_row\u001b[0m\u001b[0;34m[\u001b[0m\u001b[0mClusterHierarchyColumns\u001b[0m\u001b[0;34m.\u001b[0m\u001b[0mleft_child_id\u001b[0m\u001b[0;34m]\u001b[0m\u001b[0;34m\u001b[0m\u001b[0;34m\u001b[0m\u001b[0m\n\u001b[1;32m    112\u001b[0m             \u001b[0mright_child_id\u001b[0m \u001b[0;34m=\u001b[0m \u001b[0mcluster_row\u001b[0m\u001b[0;34m[\u001b[0m\u001b[0mClusterHierarchyColumns\u001b[0m\u001b[0;34m.\u001b[0m\u001b[0mright_child_id\u001b[0m\u001b[0;34m]\u001b[0m\u001b[0;34m\u001b[0m\u001b[0;34m\u001b[0m\u001b[0m\n\u001b[0;32m--> 113\u001b[0;31m             \u001b[0mlevels\u001b[0m\u001b[0;34m.\u001b[0m\u001b[0mupdate\u001b[0m\u001b[0;34m(\u001b[0m\u001b[0mself\u001b[0m\u001b[0;34m.\u001b[0m\u001b[0m_populate_levels\u001b[0m\u001b[0;34m(\u001b[0m\u001b[0mleft_child_id\u001b[0m\u001b[0;34m,\u001b[0m \u001b[0mparent_level\u001b[0m \u001b[0;34m+\u001b[0m \u001b[0;36m1\u001b[0m\u001b[0;34m)\u001b[0m\u001b[0;34m)\u001b[0m\u001b[0;34m\u001b[0m\u001b[0;34m\u001b[0m\u001b[0m\n\u001b[0m\u001b[1;32m    114\u001b[0m             \u001b[0mlevels\u001b[0m\u001b[0;34m.\u001b[0m\u001b[0mupdate\u001b[0m\u001b[0;34m(\u001b[0m\u001b[0mself\u001b[0m\u001b[0;34m.\u001b[0m\u001b[0m_populate_levels\u001b[0m\u001b[0;34m(\u001b[0m\u001b[0mright_child_id\u001b[0m\u001b[0;34m,\u001b[0m \u001b[0mparent_level\u001b[0m \u001b[0;34m+\u001b[0m \u001b[0;36m1\u001b[0m\u001b[0;34m)\u001b[0m\u001b[0;34m)\u001b[0m\u001b[0;34m\u001b[0m\u001b[0;34m\u001b[0m\u001b[0m\n\u001b[1;32m    115\u001b[0m         \u001b[0;32mreturn\u001b[0m \u001b[0mlevels\u001b[0m\u001b[0;34m\u001b[0m\u001b[0;34m\u001b[0m\u001b[0m\n",
      "\u001b[0;32m~/Desktop/ML/Recommendations/arcane/src/clustering/ClusterHierarchyService.py\u001b[0m in \u001b[0;36m?\u001b[0;34m(self, parent_cluster_id, parent_level)\u001b[0m\n\u001b[1;32m    103\u001b[0m     \u001b[0;32mdef\u001b[0m \u001b[0m_populate_levels\u001b[0m\u001b[0;34m(\u001b[0m\u001b[0mself\u001b[0m\u001b[0;34m,\u001b[0m \u001b[0mparent_cluster_id\u001b[0m\u001b[0;34m,\u001b[0m \u001b[0mparent_level\u001b[0m\u001b[0;34m)\u001b[0m\u001b[0;34m:\u001b[0m\u001b[0;34m\u001b[0m\u001b[0;34m\u001b[0m\u001b[0m\n\u001b[1;32m    104\u001b[0m         \u001b[0;31m# notice that not all leaf clusters: stories are at the same level.\u001b[0m\u001b[0;34m\u001b[0m\u001b[0;34m\u001b[0m\u001b[0m\n\u001b[0;32m--> 105\u001b[0;31m         \u001b[0;32mif\u001b[0m \u001b[0mpd\u001b[0m\u001b[0;34m.\u001b[0m\u001b[0misna\u001b[0m\u001b[0;34m(\u001b[0m\u001b[0mparent_cluster_id\u001b[0m\u001b[0;34m)\u001b[0m \u001b[0;32mor\u001b[0m \u001b[0mparent_cluster_id\u001b[0m \u001b[0;32mis\u001b[0m \u001b[0;32mNone\u001b[0m\u001b[0;34m:\u001b[0m  \u001b[0;31m# Using pd.na because Nones are converted to pd.na by pandas dataframe\u001b[0m\u001b[0;34m\u001b[0m\u001b[0;34m\u001b[0m\u001b[0m\n\u001b[0m\u001b[1;32m    106\u001b[0m             \u001b[0;32mreturn\u001b[0m \u001b[0;34m{\u001b[0m\u001b[0;34m}\u001b[0m\u001b[0;34m\u001b[0m\u001b[0;34m\u001b[0m\u001b[0m\n\u001b[1;32m    107\u001b[0m \u001b[0;34m\u001b[0m\u001b[0m\n\u001b[1;32m    108\u001b[0m         \u001b[0mlevels\u001b[0m \u001b[0;34m=\u001b[0m \u001b[0;34m{\u001b[0m\u001b[0mparent_cluster_id\u001b[0m\u001b[0;34m:\u001b[0m \u001b[0mparent_level\u001b[0m\u001b[0;34m}\u001b[0m\u001b[0;34m\u001b[0m\u001b[0;34m\u001b[0m\u001b[0m\n",
      "\u001b[0;32m~/anaconda3/envs/recoenv/lib/python3.11/site-packages/pandas/core/generic.py\u001b[0m in \u001b[0;36m?\u001b[0;34m(self)\u001b[0m\n\u001b[1;32m   1464\u001b[0m     \u001b[0;34m@\u001b[0m\u001b[0mfinal\u001b[0m\u001b[0;34m\u001b[0m\u001b[0;34m\u001b[0m\u001b[0m\n\u001b[1;32m   1465\u001b[0m     \u001b[0;32mdef\u001b[0m \u001b[0m__nonzero__\u001b[0m\u001b[0;34m(\u001b[0m\u001b[0mself\u001b[0m\u001b[0;34m)\u001b[0m \u001b[0;34m->\u001b[0m \u001b[0mNoReturn\u001b[0m\u001b[0;34m:\u001b[0m\u001b[0;34m\u001b[0m\u001b[0;34m\u001b[0m\u001b[0m\n\u001b[0;32m-> 1466\u001b[0;31m         raise ValueError(\n\u001b[0m\u001b[1;32m   1467\u001b[0m             \u001b[0;34mf\"The truth value of a {type(self).__name__} is ambiguous. \"\u001b[0m\u001b[0;34m\u001b[0m\u001b[0;34m\u001b[0m\u001b[0m\n\u001b[1;32m   1468\u001b[0m             \u001b[0;34m\"Use a.empty, a.bool(), a.item(), a.any() or a.all().\"\u001b[0m\u001b[0;34m\u001b[0m\u001b[0;34m\u001b[0m\u001b[0m\n\u001b[1;32m   1469\u001b[0m         )\n",
      "\u001b[0;31mValueError\u001b[0m: The truth value of a Series is ambiguous. Use a.empty, a.bool(), a.item(), a.any() or a.all()."
     ]
    }
   ],
   "source": [
    "chs.setup()"
   ]
  },
  {
   "cell_type": "code",
   "execution_count": 10,
   "id": "fc761c7a-637c-47e5-a6f3-c43f196f37cf",
   "metadata": {
    "tags": []
   },
   "outputs": [
    {
     "data": {
      "text/html": [
       "<div>\n",
       "<style scoped>\n",
       "    .dataframe tbody tr th:only-of-type {\n",
       "        vertical-align: middle;\n",
       "    }\n",
       "\n",
       "    .dataframe tbody tr th {\n",
       "        vertical-align: top;\n",
       "    }\n",
       "\n",
       "    .dataframe thead th {\n",
       "        text-align: right;\n",
       "    }\n",
       "</style>\n",
       "<table border=\"1\" class=\"dataframe\">\n",
       "  <thead>\n",
       "    <tr style=\"text-align: right;\">\n",
       "      <th></th>\n",
       "      <th>Parent_ID</th>\n",
       "      <th>Parent_Name</th>\n",
       "      <th>Topics</th>\n",
       "      <th>Child_Left_ID</th>\n",
       "      <th>Child_Left_Name</th>\n",
       "      <th>Child_Right_ID</th>\n",
       "      <th>Child_Right_Name</th>\n",
       "      <th>Distance</th>\n",
       "    </tr>\n",
       "  </thead>\n",
       "  <tbody>\n",
       "    <tr>\n",
       "      <th>1386</th>\n",
       "      <td>2774</td>\n",
       "      <td>change_net change_stock price_percent change_p...</td>\n",
       "      <td>[0, 1, 2, 3, 4, 5, 6, 7, 8, 9, 10, 11, 12, 13,...</td>\n",
       "      <td>2772</td>\n",
       "      <td>cent_real_estate_real estate_quarter</td>\n",
       "      <td>2773</td>\n",
       "      <td>change_net change_stock price_percent change_s...</td>\n",
       "      <td>5.913270</td>\n",
       "    </tr>\n",
       "    <tr>\n",
       "      <th>1385</th>\n",
       "      <td>2773</td>\n",
       "      <td>change_net change_stock price_percent change_s...</td>\n",
       "      <td>[31, 67, 77, 86, 106, 126, 131, 135, 137, 139,...</td>\n",
       "      <td>2748</td>\n",
       "      <td>divis_divis lab_lab_live blog_blog</td>\n",
       "      <td>2766</td>\n",
       "      <td>change_net change_stock price_percent change_s...</td>\n",
       "      <td>4.711992</td>\n",
       "    </tr>\n",
       "    <tr>\n",
       "      <th>1384</th>\n",
       "      <td>2772</td>\n",
       "      <td>cent_real_estate_real estate_quarter</td>\n",
       "      <td>[0, 1, 2, 3, 4, 5, 6, 7, 8, 9, 10, 11, 12, 13,...</td>\n",
       "      <td>2771</td>\n",
       "      <td>real_estate_real estate_quarter_commercial</td>\n",
       "      <td>2767</td>\n",
       "      <td>nifty_gold_index_dollar_inflation</td>\n",
       "      <td>3.571896</td>\n",
       "    </tr>\n",
       "    <tr>\n",
       "      <th>1383</th>\n",
       "      <td>2771</td>\n",
       "      <td>real_estate_real estate_quarter_commercial</td>\n",
       "      <td>[0, 2, 6, 7, 8, 10, 11, 13, 14, 15, 17, 18, 19...</td>\n",
       "      <td>2769</td>\n",
       "      <td>real_estate_real estate_residential_property</td>\n",
       "      <td>2770</td>\n",
       "      <td>ipo_quarter_yoy_dividend_revenue</td>\n",
       "      <td>2.855762</td>\n",
       "    </tr>\n",
       "    <tr>\n",
       "      <th>1382</th>\n",
       "      <td>2770</td>\n",
       "      <td>ipo_quarter_yoy_dividend_revenue</td>\n",
       "      <td>[2, 10, 14, 17, 19, 23, 24, 26, 27, 30, 38, 39...</td>\n",
       "      <td>2668</td>\n",
       "      <td>ipo_issue_gmp_subscribed_allotment</td>\n",
       "      <td>2759</td>\n",
       "      <td>quarter_yoy_dividend_revenue_net profit</td>\n",
       "      <td>2.719312</td>\n",
       "    </tr>\n",
       "    <tr>\n",
       "      <th>...</th>\n",
       "      <td>...</td>\n",
       "      <td>...</td>\n",
       "      <td>...</td>\n",
       "      <td>...</td>\n",
       "      <td>...</td>\n",
       "      <td>...</td>\n",
       "      <td>...</td>\n",
       "      <td>...</td>\n",
       "    </tr>\n",
       "    <tr>\n",
       "      <th>4</th>\n",
       "      <td>1392</td>\n",
       "      <td>bharti_bharti airtel_airtel_bharti airtels_air...</td>\n",
       "      <td>[176, 1197]</td>\n",
       "      <td>1197</td>\n",
       "      <td>bharti_bharti airtel_airtel_data bharti_bharti...</td>\n",
       "      <td>176</td>\n",
       "      <td>bharti_bharti airtel_airtel_bharti airtels_air...</td>\n",
       "      <td>0.105899</td>\n",
       "    </tr>\n",
       "    <tr>\n",
       "      <th>3</th>\n",
       "      <td>1391</td>\n",
       "      <td>ultra cem_cem_ultra_cem stock_price ultra</td>\n",
       "      <td>[289, 989]</td>\n",
       "      <td>989</td>\n",
       "      <td>ultra cem_cem_ultra_cem stock_price ultra</td>\n",
       "      <td>289</td>\n",
       "      <td>ultra cem_cem_ultra_cem stock_price ultra</td>\n",
       "      <td>0.103334</td>\n",
       "    </tr>\n",
       "    <tr>\n",
       "      <th>2</th>\n",
       "      <td>1390</td>\n",
       "      <td>divis_divis lab_lab_lab stock_price divis</td>\n",
       "      <td>[527, 588]</td>\n",
       "      <td>527</td>\n",
       "      <td>divis_divis lab_lab_lab stock_price divis</td>\n",
       "      <td>588</td>\n",
       "      <td>divis_divis lab_lab_price divis_lab stock</td>\n",
       "      <td>0.091630</td>\n",
       "    </tr>\n",
       "    <tr>\n",
       "      <th>1</th>\n",
       "      <td>1389</td>\n",
       "      <td>04 jul_blog 04_jul 2023_jul_mint disclaimer</td>\n",
       "      <td>[31, 852]</td>\n",
       "      <td>852</td>\n",
       "      <td>blog 04_04 jul_jul 2023_jul_mint disclaimer</td>\n",
       "      <td>31</td>\n",
       "      <td>04 jul_blog 04_jul 2023_jul_staff download</td>\n",
       "      <td>0.057531</td>\n",
       "    </tr>\n",
       "    <tr>\n",
       "      <th>0</th>\n",
       "      <td>1388</td>\n",
       "      <td>sum insured_insured_sum_make claim_claim bonus</td>\n",
       "      <td>[957, 1264]</td>\n",
       "      <td>957</td>\n",
       "      <td>sum insured_insured_sum_make claim_claim bonus</td>\n",
       "      <td>1264</td>\n",
       "      <td>sum insured_insured_sum_make claim_claim bonus</td>\n",
       "      <td>0.056756</td>\n",
       "    </tr>\n",
       "  </tbody>\n",
       "</table>\n",
       "<p>1387 rows × 8 columns</p>\n",
       "</div>"
      ],
      "text/plain": [
       "     Parent_ID                                        Parent_Name  \\\n",
       "1386      2774  change_net change_stock price_percent change_p...   \n",
       "1385      2773  change_net change_stock price_percent change_s...   \n",
       "1384      2772               cent_real_estate_real estate_quarter   \n",
       "1383      2771         real_estate_real estate_quarter_commercial   \n",
       "1382      2770                   ipo_quarter_yoy_dividend_revenue   \n",
       "...        ...                                                ...   \n",
       "4         1392  bharti_bharti airtel_airtel_bharti airtels_air...   \n",
       "3         1391          ultra cem_cem_ultra_cem stock_price ultra   \n",
       "2         1390          divis_divis lab_lab_lab stock_price divis   \n",
       "1         1389        04 jul_blog 04_jul 2023_jul_mint disclaimer   \n",
       "0         1388     sum insured_insured_sum_make claim_claim bonus   \n",
       "\n",
       "                                                 Topics Child_Left_ID  \\\n",
       "1386  [0, 1, 2, 3, 4, 5, 6, 7, 8, 9, 10, 11, 12, 13,...          2772   \n",
       "1385  [31, 67, 77, 86, 106, 126, 131, 135, 137, 139,...          2748   \n",
       "1384  [0, 1, 2, 3, 4, 5, 6, 7, 8, 9, 10, 11, 12, 13,...          2771   \n",
       "1383  [0, 2, 6, 7, 8, 10, 11, 13, 14, 15, 17, 18, 19...          2769   \n",
       "1382  [2, 10, 14, 17, 19, 23, 24, 26, 27, 30, 38, 39...          2668   \n",
       "...                                                 ...           ...   \n",
       "4                                           [176, 1197]          1197   \n",
       "3                                            [289, 989]           989   \n",
       "2                                            [527, 588]           527   \n",
       "1                                             [31, 852]           852   \n",
       "0                                           [957, 1264]           957   \n",
       "\n",
       "                                        Child_Left_Name Child_Right_ID  \\\n",
       "1386               cent_real_estate_real estate_quarter           2773   \n",
       "1385                 divis_divis lab_lab_live blog_blog           2766   \n",
       "1384         real_estate_real estate_quarter_commercial           2767   \n",
       "1383       real_estate_real estate_residential_property           2770   \n",
       "1382                 ipo_issue_gmp_subscribed_allotment           2759   \n",
       "...                                                 ...            ...   \n",
       "4     bharti_bharti airtel_airtel_data bharti_bharti...            176   \n",
       "3             ultra cem_cem_ultra_cem stock_price ultra            289   \n",
       "2             divis_divis lab_lab_lab stock_price divis            588   \n",
       "1           blog 04_04 jul_jul 2023_jul_mint disclaimer             31   \n",
       "0        sum insured_insured_sum_make claim_claim bonus           1264   \n",
       "\n",
       "                                       Child_Right_Name  Distance  \n",
       "1386  change_net change_stock price_percent change_s...  5.913270  \n",
       "1385  change_net change_stock price_percent change_s...  4.711992  \n",
       "1384                  nifty_gold_index_dollar_inflation  3.571896  \n",
       "1383                   ipo_quarter_yoy_dividend_revenue  2.855762  \n",
       "1382            quarter_yoy_dividend_revenue_net profit  2.719312  \n",
       "...                                                 ...       ...  \n",
       "4     bharti_bharti airtel_airtel_bharti airtels_air...  0.105899  \n",
       "3             ultra cem_cem_ultra_cem stock_price ultra  0.103334  \n",
       "2             divis_divis lab_lab_price divis_lab stock  0.091630  \n",
       "1            04 jul_blog 04_jul 2023_jul_staff download  0.057531  \n",
       "0        sum insured_insured_sum_make claim_claim bonus  0.056756  \n",
       "\n",
       "[1387 rows x 8 columns]"
      ]
     },
     "execution_count": 10,
     "metadata": {},
     "output_type": "execute_result"
    }
   ],
   "source": [
    "chs.hierarchy_df"
   ]
  },
  {
   "cell_type": "code",
   "execution_count": 7,
   "id": "df3a3247-e7cd-48d2-a5c5-dc29f5667ba4",
   "metadata": {
    "tags": []
   },
   "outputs": [
    {
     "ename": "NameError",
     "evalue": "name 'clusters' is not defined",
     "output_type": "error",
     "traceback": [
      "\u001b[0;31m---------------------------------------------------------------------------\u001b[0m",
      "\u001b[0;31mNameError\u001b[0m                                 Traceback (most recent call last)",
      "Cell \u001b[0;32mIn[7], line 1\u001b[0m\n\u001b[0;32m----> 1\u001b[0m clusters\n",
      "\u001b[0;31mNameError\u001b[0m: name 'clusters' is not defined"
     ]
    }
   ],
   "source": [
    "clusters"
   ]
  },
  {
   "cell_type": "code",
   "execution_count": null,
   "id": "9e272ac6-399c-4576-a5c6-ff869dcb8ce1",
   "metadata": {
    "tags": []
   },
   "outputs": [],
   "source": [
    "# from src.articles.ArticleService import ArticleService\n",
    "\n",
    "# ArticleService.get_Article('65316eaf1e5cc42b1b13e623')"
   ]
  },
  {
   "cell_type": "code",
   "execution_count": null,
   "id": "932add77-5ec5-4fc6-acd1-05d686b8550a",
   "metadata": {},
   "outputs": [],
   "source": []
  }
 ],
 "metadata": {
  "kernelspec": {
   "display_name": "bertopicenv",
   "language": "python",
   "name": "bertopicenv"
  },
  "language_info": {
   "codemirror_mode": {
    "name": "ipython",
    "version": 3
   },
   "file_extension": ".py",
   "mimetype": "text/x-python",
   "name": "python",
   "nbconvert_exporter": "python",
   "pygments_lexer": "ipython3",
   "version": "3.9.18"
  }
 },
 "nbformat": 4,
 "nbformat_minor": 5
}
