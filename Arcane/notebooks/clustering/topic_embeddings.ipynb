{
 "cells": [
  {
   "cell_type": "code",
   "execution_count": 2,
   "id": "2d179478-36fa-4178-8657-766bbcbc0824",
   "metadata": {
    "tags": []
   },
   "outputs": [
    {
     "name": "stderr",
     "output_type": "stream",
     "text": [
      "/Users/username/anaconda3/envs/recoenv/lib/python3.11/site-packages/umap/distances.py:1063: NumbaDeprecationWarning: \u001b[1mThe 'nopython' keyword argument was not supplied to the 'numba.jit' decorator. The implicit default value for this argument is currently False, but it will be changed to True in Numba 0.59.0. See https://numba.readthedocs.io/en/stable/reference/deprecation.html#deprecation-of-object-mode-fall-back-behaviour-when-using-jit for details.\u001b[0m\n",
      "  @numba.jit()\n",
      "/Users/username/anaconda3/envs/recoenv/lib/python3.11/site-packages/umap/distances.py:1071: NumbaDeprecationWarning: \u001b[1mThe 'nopython' keyword argument was not supplied to the 'numba.jit' decorator. The implicit default value for this argument is currently False, but it will be changed to True in Numba 0.59.0. See https://numba.readthedocs.io/en/stable/reference/deprecation.html#deprecation-of-object-mode-fall-back-behaviour-when-using-jit for details.\u001b[0m\n",
      "  @numba.jit()\n",
      "/Users/username/anaconda3/envs/recoenv/lib/python3.11/site-packages/umap/distances.py:1086: NumbaDeprecationWarning: \u001b[1mThe 'nopython' keyword argument was not supplied to the 'numba.jit' decorator. The implicit default value for this argument is currently False, but it will be changed to True in Numba 0.59.0. See https://numba.readthedocs.io/en/stable/reference/deprecation.html#deprecation-of-object-mode-fall-back-behaviour-when-using-jit for details.\u001b[0m\n",
      "  @numba.jit()\n",
      "/Users/username/anaconda3/envs/recoenv/lib/python3.11/site-packages/umap/umap_.py:660: NumbaDeprecationWarning: \u001b[1mThe 'nopython' keyword argument was not supplied to the 'numba.jit' decorator. The implicit default value for this argument is currently False, but it will be changed to True in Numba 0.59.0. See https://numba.readthedocs.io/en/stable/reference/deprecation.html#deprecation-of-object-mode-fall-back-behaviour-when-using-jit for details.\u001b[0m\n",
      "  @numba.jit()\n"
     ]
    }
   ],
   "source": [
    "parent_folder = '/Users/username/Desktop/ML/Recommendations/arcane/'\n",
    "from hydra import compose, initialize\n",
    "# with initialize(config_path=\"../../conf\"):\n",
    "#     # Compose the configuration\n",
    "#     cfg = compose(config_name=\"ClustersResetService.yaml\")\n",
    "\n",
    "import os\n",
    "\n",
    "import xml.etree.ElementTree as ET\n",
    "\n",
    "tree = ET.parse('../../conf/application.run.xml')\n",
    "root = tree.getroot()\n",
    "\n",
    "envs_element = root.find('./configuration/envs')\n",
    "for variable in envs_element.findall('env'):\n",
    "    name = variable.get('name')\n",
    "    value = variable.get('value')\n",
    "    os.environ[name] = value\n",
    "\n",
    "import sys\n",
    "sys.path.append('/Users/username/Desktop/ML/Recommendations/arcane/')\n",
    "\n",
    "from src._utils import load_bertopic_model_from_hf"
   ]
  },
  {
   "cell_type": "code",
   "execution_count": 3,
   "id": "74571845-3ddf-4d64-ae83-0754f6503b85",
   "metadata": {
    "tags": []
   },
   "outputs": [],
   "source": [
    "bertopic = load_bertopic_model_from_hf()\n",
    "\n",
    "# len(bertopic.topic_embeddings_)\n",
    "\n",
    "# story_embeddings = {i: list([float(x) for x in bertopic.topic_embeddings_[i+1]]) for i in range(-1,len(bertopic.topic_embeddings_)-1)}"
   ]
  },
  {
   "cell_type": "code",
   "execution_count": 30,
   "id": "53fa6cfc-7113-40f0-87be-ac6aafaf81d4",
   "metadata": {
    "tags": []
   },
   "outputs": [
    {
     "data": {
      "text/plain": [
       "\u001b[0;31mSignature:\u001b[0m\n",
       "\u001b[0mbertopic\u001b[0m\u001b[0;34m.\u001b[0m\u001b[0msave\u001b[0m\u001b[0;34m(\u001b[0m\u001b[0;34m\u001b[0m\n",
       "\u001b[0;34m\u001b[0m    \u001b[0mpath\u001b[0m\u001b[0;34m,\u001b[0m\u001b[0;34m\u001b[0m\n",
       "\u001b[0;34m\u001b[0m    \u001b[0mserialization\u001b[0m\u001b[0;34m:\u001b[0m \u001b[0mLiteral\u001b[0m\u001b[0;34m[\u001b[0m\u001b[0;34m'safetensors'\u001b[0m\u001b[0;34m,\u001b[0m \u001b[0;34m'pickle'\u001b[0m\u001b[0;34m,\u001b[0m \u001b[0;34m'pytorch'\u001b[0m\u001b[0;34m]\u001b[0m \u001b[0;34m=\u001b[0m \u001b[0;34m'pickle'\u001b[0m\u001b[0;34m,\u001b[0m\u001b[0;34m\u001b[0m\n",
       "\u001b[0;34m\u001b[0m    \u001b[0msave_embedding_model\u001b[0m\u001b[0;34m:\u001b[0m \u001b[0mUnion\u001b[0m\u001b[0;34m[\u001b[0m\u001b[0mbool\u001b[0m\u001b[0;34m,\u001b[0m \u001b[0mstr\u001b[0m\u001b[0;34m]\u001b[0m \u001b[0;34m=\u001b[0m \u001b[0;32mTrue\u001b[0m\u001b[0;34m,\u001b[0m\u001b[0;34m\u001b[0m\n",
       "\u001b[0;34m\u001b[0m    \u001b[0msave_ctfidf\u001b[0m\u001b[0;34m:\u001b[0m \u001b[0mbool\u001b[0m \u001b[0;34m=\u001b[0m \u001b[0;32mFalse\u001b[0m\u001b[0;34m,\u001b[0m\u001b[0;34m\u001b[0m\n",
       "\u001b[0;34m\u001b[0m\u001b[0;34m)\u001b[0m\u001b[0;34m\u001b[0m\u001b[0;34m\u001b[0m\u001b[0m\n",
       "\u001b[0;31mDocstring:\u001b[0m\n",
       "Saves the model to the specified path or folder\n",
       "\n",
       "When saving the model, make sure to also keep track of the versions\n",
       "of dependencies and Python used. Loading and saving the model should\n",
       "be done using the same dependencies and Python. Moreover, models\n",
       "saved in one version of BERTopic should not be loaded in other versions.\n",
       "\n",
       "Arguments:\n",
       "    path: If `serialization` is 'safetensors' or `pytorch`, this is a directory.\n",
       "          If `serialization` is `pickle`, then this is file.\n",
       "    serialization: If `pickle`, the entire model will be pickled. If `safetensors`\n",
       "                   or `pytorch` the model will be saved without the embedding,\n",
       "                   dimensionality reduction, and clustering algorithms.\n",
       "                   This is a very efficient format and typically advised.\n",
       "    save_embedding_model: If serialization `pickle`, then you can choose to skip\n",
       "                          saving the embedding model. If serialization `safetensors`\n",
       "                          or `pytorch`, this variable can be used as a string pointing\n",
       "                          towards a huggingface model.\n",
       "    save_ctfidf: Whether to save c-TF-IDF information if serialization is `safetensors`\n",
       "                 or `pytorch`\n",
       "\n",
       "Examples:\n",
       "\n",
       "To save the model in an efficient and safe format (safetensors) with c-TF-IDF information:\n",
       "\n",
       "```python\n",
       "topic_model.save(\"model_dir\", serialization=\"safetensors\", save_ctfidf=True)\n",
       "```\n",
       "\n",
       "If you wish to also add a pointer to the embedding model, which will be downloaded from\n",
       "HuggingFace upon loading:\n",
       "\n",
       "```python\n",
       "embedding_model = \"sentence-transformers/all-MiniLM-L6-v2\"\n",
       "topic_model.save(\"model_dir\", serialization=\"safetensors\", save_embedding_model=embedding_model)\n",
       "```\n",
       "\n",
       "or if you want save the full model with pickle:\n",
       "\n",
       "```python\n",
       "topic_model.save(\"my_model\")\n",
       "```\n",
       "\n",
       "NOTE: Pickle can run arbitrary code and is generally considered to be less safe than\n",
       "safetensors.\n",
       "\u001b[0;31mFile:\u001b[0m      ~/anaconda3/envs/recoenv/lib/python3.11/site-packages/bertopic/_bertopic.py\n",
       "\u001b[0;31mType:\u001b[0m      method"
      ]
     },
     "metadata": {},
     "output_type": "display_data"
    }
   ],
   "source": [
    "bertopic.save?"
   ]
  },
  {
   "cell_type": "code",
   "execution_count": 4,
   "id": "927c066a-19d7-4200-a5ac-6303f65142a9",
   "metadata": {
    "tags": []
   },
   "outputs": [],
   "source": [
    "from sql.clustering.ClusteringSQL import ClusteringSQL"
   ]
  },
  {
   "cell_type": "code",
   "execution_count": 5,
   "id": "830c1421-2669-49b0-83f5-d83672b5d9b7",
   "metadata": {
    "tags": []
   },
   "outputs": [],
   "source": [
    "latest_run = ClusteringSQL.get_latest_run_id()"
   ]
  },
  {
   "cell_type": "code",
   "execution_count": 6,
   "id": "ea20f009-b686-4861-9e25-84f8a30330e1",
   "metadata": {
    "tags": []
   },
   "outputs": [],
   "source": [
    "# with PostgresDatabaseOperation() as cursor:\n",
    "#     sql = \"\"\"\n",
    "#             INSERT INTO story_embeddings (story_id, story_embedding, clustering_run_id)\n",
    "#             VALUES (%s, %s, %s)\n",
    "#             ON CONFLICT (story_id, clustering_run_id)\n",
    "#             DO UPDATE SET \n",
    "#             story_embedding = EXCLUDED.story_embedding;\n",
    "#     \"\"\"\n",
    "#     for story_id in story_embeddings.keys():\n",
    "#         cursor.execute(sql, (story_id, story_embeddings[story_id], latest_run))"
   ]
  },
  {
   "cell_type": "code",
   "execution_count": 6,
   "id": "efc1a1cc-8c37-462d-9523-4f3606744f5f",
   "metadata": {
    "tags": []
   },
   "outputs": [],
   "source": [
    "from sql.PostgresDatabaseOperation import PostgresDatabaseOperation"
   ]
  },
  {
   "cell_type": "code",
   "execution_count": 7,
   "id": "718e81bd-b009-4635-87a1-c42a2a3b2d38",
   "metadata": {
    "tags": []
   },
   "outputs": [],
   "source": [
    "with PostgresDatabaseOperation() as cursor:\n",
    "    sql = 'SELECT article_id, embedding FROM embeddings ORDER BY created_at DESC LIMIT 10'\n",
    "    cursor.execute(sql)\n",
    "    result = cursor.fetchall()"
   ]
  },
  {
   "cell_type": "code",
   "execution_count": 8,
   "id": "94f36893-dd16-40b3-a201-8862670cd10a",
   "metadata": {
    "tags": []
   },
   "outputs": [],
   "source": [
    "emb = {x[0]: [float(k) for k in x[1]] for x in result}"
   ]
  },
  {
   "cell_type": "code",
   "execution_count": 9,
   "id": "2fe84949-0d3a-4017-943e-64eb98ed57c0",
   "metadata": {
    "tags": []
   },
   "outputs": [],
   "source": [
    "from sklearn.metrics.pairwise import cosine_similarity"
   ]
  },
  {
   "cell_type": "code",
   "execution_count": 10,
   "id": "829aa569-6052-4c54-b08b-f22cdf68bfdc",
   "metadata": {
    "tags": []
   },
   "outputs": [
    {
     "data": {
      "text/plain": [
       "dict_keys(['6538f5531e5cc42b1b1444b4', '6538f54f1e5cc42b1b1444a8', '6538f5511e5cc42b1b1444ab', '6538f5531e5cc42b1b1444b8', '6538f5511e5cc42b1b1444ac', '6538f5501e5cc42b1b1444aa', '6538f5511e5cc42b1b1444b0', '6538f5511e5cc42b1b1444af', '6538f5521e5cc42b1b1444b1', '6538f54b1e5cc42b1b1444a1'])"
      ]
     },
     "execution_count": 10,
     "metadata": {},
     "output_type": "execute_result"
    }
   ],
   "source": [
    "emb.keys()"
   ]
  },
  {
   "cell_type": "code",
   "execution_count": 12,
   "id": "b2504496-858c-4a91-b641-ee7d289282cb",
   "metadata": {
    "tags": []
   },
   "outputs": [],
   "source": [
    "from sql.clustering.ClusteringSQL import ClusteringSQL"
   ]
  },
  {
   "cell_type": "code",
   "execution_count": 13,
   "id": "3bb510b0-f4c8-43bf-bc55-15befb3fbdde",
   "metadata": {
    "tags": []
   },
   "outputs": [],
   "source": [
    "story_embeddings = ClusteringSQL.get_all_story_embeddings()"
   ]
  },
  {
   "cell_type": "code",
   "execution_count": 14,
   "id": "a7bcb166-e77c-4ea9-91ab-59021408a0bb",
   "metadata": {
    "tags": []
   },
   "outputs": [],
   "source": [
    "sim_matrix = cosine_similarity([emb['6538f5511e5cc42b1b1444af']], list(story_embeddings.values()))"
   ]
  },
  {
   "cell_type": "code",
   "execution_count": 16,
   "id": "3738c3d0-f58d-41d3-8803-9db38555e3b9",
   "metadata": {
    "tags": []
   },
   "outputs": [
    {
     "data": {
      "text/plain": [
       "array([ 72,   9,   0,  20,  11,  30,   4,  45,  36,  53,  22,   6,  46,\n",
       "        75,  34,  12,  48, 104,   2,  57,  68,   5,  47,  71,  43,  52,\n",
       "        39,  13,   1,  55,  67,  33,  65,  78,  83,   3, 100,  96, 108,\n",
       "        19,  26,  29,  77,   8,  49,  37,  99,  61,  73,  95,  58,  27,\n",
       "        40,  18,  79,  25,  35,  50, 112,  28,  41,  91,  51, 109,  59,\n",
       "        86, 101, 102,  17,  74,  60, 107,  90,  88,  24,  93,  31,  14,\n",
       "        97,  32,   7,  54,  89,  64, 111,  38, 105,  63,  44,  81,  84,\n",
       "        21,  56,  76,  94,  80, 103, 110,  69, 106,  70,  82,  87,  92,\n",
       "        62,  10,  66,  98,  42,  16,  85,  23,  15])"
      ]
     },
     "execution_count": 16,
     "metadata": {},
     "output_type": "execute_result"
    }
   ],
   "source": [
    "np.argsort(sim_matrix)[0][::-1]"
   ]
  },
  {
   "cell_type": "code",
   "execution_count": 11,
   "id": "4191f3b2-0e9a-4269-8525-ade7a9ca3a2e",
   "metadata": {
    "tags": []
   },
   "outputs": [],
   "source": [
    "import numpy as np"
   ]
  },
  {
   "cell_type": "code",
   "execution_count": 19,
   "id": "890f499f-073f-4ea0-80fb-f7fade8229e6",
   "metadata": {
    "tags": []
   },
   "outputs": [],
   "source": [
    "from src.articles.ArticleService import ArticleService"
   ]
  },
  {
   "cell_type": "code",
   "execution_count": 20,
   "id": "320700c2-643b-4136-bfcb-f2e0a3c5febc",
   "metadata": {},
   "outputs": [],
   "source": [
    "art = ArticleService.get_Article('6538f5511e5cc42b1b1444af')"
   ]
  },
  {
   "cell_type": "code",
   "execution_count": 21,
   "id": "fff5cbc1-8cbd-44a3-9b82-de237cdb2d28",
   "metadata": {
    "tags": []
   },
   "outputs": [
    {
     "data": {
      "text/plain": [
       "'PowerGrid to announce dividend Q2 results on November 7 fixes record date  Mint:  Power Grid Corporation of India the state-run power transmission company will announce its financial results for the second quarter of FY24 on November 7 Tuesday. The companys board will also declare an interim dividend in the quarterly earnings. PowerGrids board of directors will meet on November 7 to announce the earnings for the quarter ended September 2023 and an interim dividend it said in a release. The company has also fixed 16th November 2023 as the record date for the dividend it added. (Exciting news Mint is now on WhatsApp Channels Subscribe today by clicking the link and stay updated with the latest financial insights Click here ) ... a Meeting of Board of Directors of POWERGRID is scheduled to be held on Tuesday 7th November 2023 to consider and approve amongst other items of Agenda the Unaudited Financial Results of the Company for the quarter and half year ended 30th September 2023 after these results are reviewed by the Audit Committee and the declaration of Interim Dividend out of the profits of the Company for the FY 2023-24 PowerGrid Corporation of India said in a regulatory filing. Further it informed that the company has fixed Thursday 16th November 2023 as the Record Date for the purpose of ascertaining the eligibility of the shareholders for payment of Interim Dividend if declared by the Board of Directors. Meanwhile Power Grid Corporation of India announced its April-June quarter results for fiscal 2023-24 (Q1FY24) on July 31 reporting a decline of 5.9% in standalone net profit at ₹ 3542.7 crore compared to ₹ 3766 crore in the corresponding period last year. Read here: Power Grid Q1 Results: Net profit declines 5.9% to ₹ 3542 crore board approves bonus shares fundraising The state-owned power majors revenue from operations during the first quarter of the current fiscal stood at ₹ 10436 crore registering a marginal decline of 0.1% compared to ₹ 10446 crore in the year-ago period. The companys board had recommended the issue of bonus shares in the ratio of 1:3 which means that for every three shares investors hold they will get one additional share. The board had also approved raising of funds up to ₹ 12000 crore from the domestic market through bonds under private placement during fiscal 2024-25 in one or more tranches. At 2:30 pm PowerGrid Corporation of India shares were trading 0.43% higher at ₹ 200.45 apiece on the BSE . Catch Live Market Updates here '"
      ]
     },
     "execution_count": 21,
     "metadata": {},
     "output_type": "execute_result"
    }
   ],
   "source": [
    "art.full_content"
   ]
  },
  {
   "cell_type": "code",
   "execution_count": 24,
   "id": "56d6cff2-258c-44f9-832b-1b263a98c2b5",
   "metadata": {},
   "outputs": [
    {
     "data": {
      "application/vnd.jupyter.widget-view+json": {
       "model_id": "546f2c0e1cc5437c91ffbbe62edbe5c4",
       "version_major": 2,
       "version_minor": 0
      },
      "text/plain": [
       "Batches:   0%|          | 0/1 [00:00<?, ?it/s]"
      ]
     },
     "metadata": {},
     "output_type": "display_data"
    }
   ],
   "source": [
    "story, probabilities = bertopic.transform(art.full_content)"
   ]
  },
  {
   "cell_type": "code",
   "execution_count": 26,
   "id": "1b3b5bef-eb17-4e97-a0e7-97ca79298d56",
   "metadata": {
    "tags": []
   },
   "outputs": [
    {
     "data": {
      "text/plain": [
       "1"
      ]
     },
     "execution_count": 26,
     "metadata": {},
     "output_type": "execute_result"
    }
   ],
   "source": [
    "len(probabilities)"
   ]
  },
  {
   "cell_type": "code",
   "execution_count": 32,
   "id": "4bf8a5f9-694f-4590-9d68-6ee0e1425539",
   "metadata": {
    "tags": []
   },
   "outputs": [],
   "source": [
    "bertopic.probabilities_"
   ]
  },
  {
   "cell_type": "code",
   "execution_count": 29,
   "id": "a3642aed-e86a-4618-8af1-11b6d59d7f20",
   "metadata": {
    "tags": []
   },
   "outputs": [
    {
     "data": {
      "text/plain": [
       "array([[0.01013445, 0.00913752, 0.00929994, 0.00906823, 0.00955794,\n",
       "        0.00927624, 0.00943177, 0.00861935, 0.00900229, 0.01016088,\n",
       "        0.00806689, 0.00970106, 0.00935434, 0.00917096, 0.00864661,\n",
       "        0.00724174, 0.00787508, 0.00872756, 0.00884577, 0.0090534 ,\n",
       "        0.01009753, 0.00843978, 0.00944846, 0.00735803, 0.00869124,\n",
       "        0.00883011, 0.00904457, 0.00885108, 0.00879388, 0.00901111,\n",
       "        0.00959751, 0.00866394, 0.00863887, 0.00909585, 0.00935624,\n",
       "        0.00881877, 0.00946455, 0.00899415, 0.00854697, 0.00920905,\n",
       "        0.00884671, 0.00879101, 0.00791075, 0.00924157, 0.00848669,\n",
       "        0.00947602, 0.00941952, 0.00927273, 0.00934367, 0.00899566,\n",
       "        0.00881873, 0.00878701, 0.00922298, 0.00944989, 0.00861321,\n",
       "        0.0091172 , 0.00842922, 0.00929889, 0.00892131, 0.00875411,\n",
       "        0.00872094, 0.00896726, 0.00807443, 0.00849578, 0.00856595,\n",
       "        0.00909321, 0.00800432, 0.00909839, 0.00929489, 0.00832921,\n",
       "        0.00827075, 0.00924606, 0.01083172, 0.00896353, 0.00872355,\n",
       "        0.00938901, 0.00840718, 0.00900574, 0.00908257, 0.00883486,\n",
       "        0.00834237, 0.00846082, 0.00821065, 0.00907712, 0.00845099,\n",
       "        0.00779087, 0.00875269, 0.00818462, 0.00869451, 0.00857888,\n",
       "        0.0087016 , 0.00878896, 0.00817183, 0.00868021, 0.00837863,\n",
       "        0.00893053, 0.00906654, 0.00864579, 0.00797695, 0.00898565,\n",
       "        0.00906681, 0.00874116, 0.00873174, 0.00833778, 0.0093    ,\n",
       "        0.00851593, 0.00828553, 0.00870803, 0.00906066, 0.00876981,\n",
       "        0.0083324 , 0.00854957, 0.00881043]], dtype=float32)"
      ]
     },
     "execution_count": 29,
     "metadata": {},
     "output_type": "execute_result"
    }
   ],
   "source": [
    "probabilities/np.sum(probabilities)"
   ]
  },
  {
   "cell_type": "code",
   "execution_count": 25,
   "id": "bdff1162-a7d2-41cf-a717-87dcdb807cb5",
   "metadata": {
    "tags": []
   },
   "outputs": [
    {
     "data": {
      "text/plain": [
       "array([[0.7708198 , 0.69499433, 0.707348  , 0.6897237 , 0.72697085,\n",
       "        0.70554525, 0.7173747 , 0.65558225, 0.6847087 , 0.7728302 ,\n",
       "        0.613563  , 0.7378565 , 0.7114855 , 0.6975376 , 0.6576555 ,\n",
       "        0.5508023 , 0.5989735 , 0.663813  , 0.672804  , 0.6885962 ,\n",
       "        0.76801217, 0.6419248 , 0.71864367, 0.5596472 , 0.66104996,\n",
       "        0.6716125 , 0.6879246 , 0.67320734, 0.66885716, 0.6853792 ,\n",
       "        0.7299807 , 0.6589739 , 0.65706694, 0.6918249 , 0.71162975,\n",
       "        0.6707501 , 0.71986777, 0.6840894 , 0.6500775 , 0.70043427,\n",
       "        0.67287517, 0.6686387 , 0.6016866 , 0.70290804, 0.6454922 ,\n",
       "        0.72073996, 0.71644306, 0.7052778 , 0.71067375, 0.684204  ,\n",
       "        0.6707468 , 0.6683346 , 0.7014938 , 0.718753  , 0.65511525,\n",
       "        0.69344884, 0.6411214 , 0.7072676 , 0.6785494 , 0.6658325 ,\n",
       "        0.6633096 , 0.68204427, 0.61413646, 0.6461841 , 0.6515208 ,\n",
       "        0.69162405, 0.6088034 , 0.6920183 , 0.7069638 , 0.63351476,\n",
       "        0.6290681 , 0.7032495 , 0.8238541 , 0.6817606 , 0.6635078 ,\n",
       "        0.71412194, 0.6394447 , 0.6849711 , 0.690815  , 0.6719742 ,\n",
       "        0.6345153 , 0.6435247 , 0.6244967 , 0.6903999 , 0.6427771 ,\n",
       "        0.5925687 , 0.665724  , 0.6225171 , 0.6612991 , 0.652504  ,\n",
       "        0.6618386 , 0.668483  , 0.6215446 , 0.6602117 , 0.6372734 ,\n",
       "        0.67925084, 0.68959534, 0.6575936 , 0.60672176, 0.68344283,\n",
       "        0.6896162 , 0.66484743, 0.66413045, 0.634166  , 0.7073525 ,\n",
       "        0.6477165 , 0.63019216, 0.6623274 , 0.68914783, 0.66702664,\n",
       "        0.633757  , 0.6502751 , 0.6701158 ]], dtype=float32)"
      ]
     },
     "execution_count": 25,
     "metadata": {},
     "output_type": "execute_result"
    }
   ],
   "source": [
    "probabilities"
   ]
  },
  {
   "cell_type": "code",
   "execution_count": null,
   "id": "d086eb88-9b05-4d79-8bae-44b0a94b988a",
   "metadata": {},
   "outputs": [],
   "source": [
    "sim_matrix"
   ]
  },
  {
   "cell_type": "code",
   "execution_count": 23,
   "id": "3d0677a1-7947-44f1-80aa-3318fd43f6ac",
   "metadata": {
    "tags": []
   },
   "outputs": [
    {
     "data": {
      "text/plain": [
       "array([[0.77082022, 0.69499476, 0.70734843, 0.68972419, 0.7269712 ,\n",
       "        0.70554563, 0.71737527, 0.65558253, 0.68470908, 0.77283045,\n",
       "        0.61356334, 0.73785692, 0.711486  , 0.69753794, 0.65765581,\n",
       "        0.55080274, 0.59897392, 0.66381355, 0.67280446, 0.68859658,\n",
       "        0.76801257, 0.64192531, 0.71864413, 0.55964749, 0.66105032,\n",
       "        0.67161279, 0.68792496, 0.67320774, 0.66885745, 0.68537964,\n",
       "        0.72998106, 0.65897434, 0.65706727, 0.69182519, 0.71163003,\n",
       "        0.67075057, 0.71986833, 0.68408984, 0.65007806, 0.70043454,\n",
       "        0.67287558, 0.66863916, 0.60168704, 0.70290838, 0.64549252,\n",
       "        0.72074039, 0.71644342, 0.70527816, 0.71067424, 0.68420434,\n",
       "        0.67074721, 0.66833503, 0.70149425, 0.71875331, 0.65511562,\n",
       "        0.69344925, 0.64112177, 0.70726803, 0.67854977, 0.66583288,\n",
       "        0.66330997, 0.68204458, 0.61413682, 0.64618449, 0.65152127,\n",
       "        0.69162447, 0.60880379, 0.69201856, 0.70696416, 0.63351519,\n",
       "        0.62906844, 0.70325003, 0.82385453, 0.68176107, 0.66350839,\n",
       "        0.71412235, 0.6394452 , 0.68497146, 0.69081538, 0.67197452,\n",
       "        0.63451563, 0.64352512, 0.62449703, 0.69040026, 0.64277746,\n",
       "        0.59256913, 0.66572447, 0.62251763, 0.66129955, 0.65250431,\n",
       "        0.66183891, 0.66848345, 0.62154514, 0.66021207, 0.63727373,\n",
       "        0.67925138, 0.68959583, 0.65759399, 0.60672211, 0.68344322,\n",
       "        0.68961659, 0.66484782, 0.66413091, 0.63416649, 0.70735277,\n",
       "        0.64771684, 0.63019259, 0.66232777, 0.68914821, 0.66702703,\n",
       "        0.63375737, 0.65027535, 0.67011623]])"
      ]
     },
     "execution_count": 23,
     "metadata": {},
     "output_type": "execute_result"
    }
   ],
   "source": [
    "sim_matrix"
   ]
  },
  {
   "cell_type": "code",
   "execution_count": 28,
   "id": "d0a865cf-2802-4721-a36b-caeac5b6fbac",
   "metadata": {
    "tags": []
   },
   "outputs": [
    {
     "data": {
      "text/plain": [
       "True"
      ]
     },
     "execution_count": 28,
     "metadata": {},
     "output_type": "execute_result"
    }
   ],
   "source": [
    "np.allclose(probabilities, sim_matrix)"
   ]
  }
 ],
 "metadata": {
  "kernelspec": {
   "display_name": "recoenv",
   "language": "python",
   "name": "recoenv"
  },
  "language_info": {
   "codemirror_mode": {
    "name": "ipython",
    "version": 3
   },
   "file_extension": ".py",
   "mimetype": "text/x-python",
   "name": "python",
   "nbconvert_exporter": "python",
   "pygments_lexer": "ipython3",
   "version": "3.11.5"
  }
 },
 "nbformat": 4,
 "nbformat_minor": 5
}
