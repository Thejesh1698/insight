{
 "cells": [
  {
   "cell_type": "code",
   "execution_count": 2,
   "id": "0bcbb85d-9965-4590-8c7f-59c41fdd444c",
   "metadata": {
    "tags": []
   },
   "outputs": [],
   "source": [
    "parent_folder = '/Users/ravi.tej/Desktop/ML/Recommendations/arcane/'\n",
    "from hydra import compose, initialize\n",
    "import os\n",
    "\n",
    "import xml.etree.ElementTree as ET\n",
    "\n",
    "tree = ET.parse('../../../conf/application.run.xml')\n",
    "root = tree.getroot()\n",
    "\n",
    "envs_element = root.find('./configuration/envs')\n",
    "for variable in envs_element.findall('env'):\n",
    "    name = variable.get('name')\n",
    "    value = variable.get('value')\n",
    "    os.environ[name] = value\n",
    "\n",
    "import sys\n",
    "sys.path.append('/Users/ravi.tej/Desktop/ML/Recommendations/arcane/')\n",
    "import pandas as pd\n",
    "\n",
    "os.environ['PATH'] = '/Users/ravi.tej/anaconda3/envs/bertopicenv/bin:/Users/ravi.tej/anaconda3/condabin:/usr/bin:/bin:/usr/sbin:/sbin'"
   ]
  },
  {
   "cell_type": "code",
   "execution_count": 2,
   "id": "5e0e918e-cf14-4bcd-b9a1-d9c4252c36c2",
   "metadata": {
    "tags": []
   },
   "outputs": [
    {
     "name": "stderr",
     "output_type": "stream",
     "text": [
      "/var/folders/d4/cgyr_gnj7nn2wy_hq40gkq8c0000gq/T/ipykernel_25917/2116630580.py:1: UserWarning: \n",
      "The version_base parameter is not specified.\n",
      "Please specify a compatability version level, or None.\n",
      "Will assume defaults for version 1.1\n",
      "  with initialize(config_path=\"../../../conf\"):\n"
     ]
    }
   ],
   "source": [
    "with initialize(config_path=\"../../../conf\"):\n",
    "    # Compose the configuration\n",
    "    cfg = compose(config_name=\"ClustersResetService.yaml\")"
   ]
  },
  {
   "cell_type": "code",
   "execution_count": 33,
   "id": "9ce9bf53-45b4-4fb9-9065-15206816fb4d",
   "metadata": {
    "tags": []
   },
   "outputs": [],
   "source": [
    "from sql.PostgresDatabaseOperation import PostgresDatabaseOperation"
   ]
  },
  {
   "cell_type": "code",
   "execution_count": 34,
   "id": "4c4f5cd3-f5c0-4e22-9de9-278facbb7bdd",
   "metadata": {
    "tags": []
   },
   "outputs": [],
   "source": [
    "with PostgresDatabaseOperation() as cursor:\n",
    "    sql = \"SELECT * FROM llm_article_attributes WHERE model_finetune_id = 'OpenHermes_WatermelonUvulaMarigold'\"\n",
    "    cursor.execute(sql)\n",
    "    results = cursor.fetchall()"
   ]
  },
  {
   "cell_type": "code",
   "execution_count": 35,
   "id": "77869b08-3aa0-450c-9c00-80b3baed5d3e",
   "metadata": {
    "tags": []
   },
   "outputs": [],
   "source": [
    "category_classifier_test_df = pd.read_csv('/Users/ravi.tej/Desktop/ML/Recommendations/arcane/notebooks/embeddings/titles_classes_gpt4_with_full_content.csv')\n",
    "test = category_classifier_test_df[category_classifier_test_df.test_flag == 1]"
   ]
  },
  {
   "cell_type": "code",
   "execution_count": 36,
   "id": "7c0c3814-8cc6-4be2-9b54-cc53d4cd6ed5",
   "metadata": {
    "tags": []
   },
   "outputs": [],
   "source": [
    "df = pd.DataFrame(results)"
   ]
  },
  {
   "cell_type": "code",
   "execution_count": 37,
   "id": "18d950a1-820f-46d5-8f4f-c18eb2fda537",
   "metadata": {
    "tags": []
   },
   "outputs": [
    {
     "data": {
      "text/html": [
       "<div>\n",
       "<style scoped>\n",
       "    .dataframe tbody tr th:only-of-type {\n",
       "        vertical-align: middle;\n",
       "    }\n",
       "\n",
       "    .dataframe tbody tr th {\n",
       "        vertical-align: top;\n",
       "    }\n",
       "\n",
       "    .dataframe thead th {\n",
       "        text-align: right;\n",
       "    }\n",
       "</style>\n",
       "<table border=\"1\" class=\"dataframe\">\n",
       "  <thead>\n",
       "    <tr style=\"text-align: right;\">\n",
       "      <th></th>\n",
       "      <th>0</th>\n",
       "      <th>1</th>\n",
       "      <th>2</th>\n",
       "      <th>3</th>\n",
       "      <th>4</th>\n",
       "      <th>5</th>\n",
       "      <th>6</th>\n",
       "      <th>7</th>\n",
       "      <th>8</th>\n",
       "      <th>9</th>\n",
       "      <th>10</th>\n",
       "      <th>11</th>\n",
       "      <th>12</th>\n",
       "      <th>13</th>\n",
       "      <th>14</th>\n",
       "      <th>15</th>\n",
       "      <th>16</th>\n",
       "    </tr>\n",
       "  </thead>\n",
       "  <tbody>\n",
       "    <tr>\n",
       "      <th>28</th>\n",
       "      <td>451333</td>\n",
       "      <td>65c1a0e1c119ff6e57a3f321</td>\n",
       "      <td>True</td>\n",
       "      <td>True</td>\n",
       "      <td>14</td>\n",
       "      <td>niche</td>\n",
       "      <td>fact</td>\n",
       "      <td>na</td>\n",
       "      <td>OpenHermes_WatermelonUvulaMarigold</td>\n",
       "      <td>2024-02-21 23:45:36.429660+00:00</td>\n",
       "      <td>2024-02-21 23:45:36.428526+00:00</td>\n",
       "      <td>0.3</td>\n",
       "      <td>0.4</td>\n",
       "      <td>0.2</td>\n",
       "      <td>0.1</td>\n",
       "      <td>international</td>\n",
       "      <td>business</td>\n",
       "    </tr>\n",
       "    <tr>\n",
       "      <th>108</th>\n",
       "      <td>451413</td>\n",
       "      <td>65c1d6a3c119ff6e57a42637</td>\n",
       "      <td>True</td>\n",
       "      <td>False</td>\n",
       "      <td>1</td>\n",
       "      <td>niche</td>\n",
       "      <td>fact</td>\n",
       "      <td>na</td>\n",
       "      <td>OpenHermes_WatermelonUvulaMarigold</td>\n",
       "      <td>2024-02-21 23:55:33.505379+00:00</td>\n",
       "      <td>2024-02-21 23:55:33.504423+00:00</td>\n",
       "      <td>0.3</td>\n",
       "      <td>0.4</td>\n",
       "      <td>0.2</td>\n",
       "      <td>0.1</td>\n",
       "      <td>international</td>\n",
       "      <td>financial</td>\n",
       "    </tr>\n",
       "    <tr>\n",
       "      <th>112</th>\n",
       "      <td>451417</td>\n",
       "      <td>65c3631517f2c04a90ee5065</td>\n",
       "      <td>False</td>\n",
       "      <td>False</td>\n",
       "      <td>1</td>\n",
       "      <td>niche</td>\n",
       "      <td>fact</td>\n",
       "      <td>na</td>\n",
       "      <td>OpenHermes_WatermelonUvulaMarigold</td>\n",
       "      <td>2024-02-21 23:56:19.072749+00:00</td>\n",
       "      <td>2024-02-21 23:56:19.071748+00:00</td>\n",
       "      <td>0.3</td>\n",
       "      <td>0.2</td>\n",
       "      <td>0.3</td>\n",
       "      <td>0.1</td>\n",
       "      <td>international</td>\n",
       "      <td>irrelevant</td>\n",
       "    </tr>\n",
       "    <tr>\n",
       "      <th>240</th>\n",
       "      <td>451544</td>\n",
       "      <td>65ced022abb31841109ceaab</td>\n",
       "      <td>True</td>\n",
       "      <td>False</td>\n",
       "      <td>3</td>\n",
       "      <td>niche</td>\n",
       "      <td>fact</td>\n",
       "      <td>bull</td>\n",
       "      <td>OpenHermes_WatermelonUvulaMarigold</td>\n",
       "      <td>2024-02-22 00:07:51.829366+00:00</td>\n",
       "      <td>2024-02-22 00:07:51.828399+00:00</td>\n",
       "      <td>0.3</td>\n",
       "      <td>0.4</td>\n",
       "      <td>0.4</td>\n",
       "      <td>0.2</td>\n",
       "      <td>international</td>\n",
       "      <td>business</td>\n",
       "    </tr>\n",
       "    <tr>\n",
       "      <th>303</th>\n",
       "      <td>451607</td>\n",
       "      <td>65cadbc2f4fc8477f2ed8884</td>\n",
       "      <td>True</td>\n",
       "      <td>False</td>\n",
       "      <td>14</td>\n",
       "      <td>niche</td>\n",
       "      <td>fact</td>\n",
       "      <td>na</td>\n",
       "      <td>OpenHermes_WatermelonUvulaMarigold</td>\n",
       "      <td>2024-02-22 00:14:47.119213+00:00</td>\n",
       "      <td>2024-02-22 00:14:47.118352+00:00</td>\n",
       "      <td>0.3</td>\n",
       "      <td>0.4</td>\n",
       "      <td>0.3</td>\n",
       "      <td>0.2</td>\n",
       "      <td>international</td>\n",
       "      <td>business</td>\n",
       "    </tr>\n",
       "    <tr>\n",
       "      <th>...</th>\n",
       "      <td>...</td>\n",
       "      <td>...</td>\n",
       "      <td>...</td>\n",
       "      <td>...</td>\n",
       "      <td>...</td>\n",
       "      <td>...</td>\n",
       "      <td>...</td>\n",
       "      <td>...</td>\n",
       "      <td>...</td>\n",
       "      <td>...</td>\n",
       "      <td>...</td>\n",
       "      <td>...</td>\n",
       "      <td>...</td>\n",
       "      <td>...</td>\n",
       "      <td>...</td>\n",
       "      <td>...</td>\n",
       "      <td>...</td>\n",
       "    </tr>\n",
       "    <tr>\n",
       "      <th>27654</th>\n",
       "      <td>465695</td>\n",
       "      <td>65cc2cda06df7536a8f68486</td>\n",
       "      <td>True</td>\n",
       "      <td>False</td>\n",
       "      <td>14</td>\n",
       "      <td>niche</td>\n",
       "      <td>fact</td>\n",
       "      <td>na</td>\n",
       "      <td>OpenHermes_WatermelonUvulaMarigold</td>\n",
       "      <td>2024-02-23 10:26:55.657220+00:00</td>\n",
       "      <td>2024-02-23 10:26:55.655844+00:00</td>\n",
       "      <td>0.3</td>\n",
       "      <td>0.2</td>\n",
       "      <td>0.3</td>\n",
       "      <td>0.2</td>\n",
       "      <td>international</td>\n",
       "      <td>business</td>\n",
       "    </tr>\n",
       "    <tr>\n",
       "      <th>27686</th>\n",
       "      <td>465727</td>\n",
       "      <td>65c443d6da99411d47476a07</td>\n",
       "      <td>True</td>\n",
       "      <td>True</td>\n",
       "      <td>1</td>\n",
       "      <td>niche</td>\n",
       "      <td>fact</td>\n",
       "      <td>na</td>\n",
       "      <td>OpenHermes_WatermelonUvulaMarigold</td>\n",
       "      <td>2024-02-23 10:30:18.830372+00:00</td>\n",
       "      <td>2024-02-23 10:30:18.828948+00:00</td>\n",
       "      <td>0.3</td>\n",
       "      <td>0.2</td>\n",
       "      <td>0.1</td>\n",
       "      <td>0.1</td>\n",
       "      <td>indian</td>\n",
       "      <td>financial</td>\n",
       "    </tr>\n",
       "    <tr>\n",
       "      <th>27714</th>\n",
       "      <td>465755</td>\n",
       "      <td>65c32accc119ff6e57a44282</td>\n",
       "      <td>True</td>\n",
       "      <td>False</td>\n",
       "      <td>30</td>\n",
       "      <td>moderately_popular</td>\n",
       "      <td>fact</td>\n",
       "      <td>bull</td>\n",
       "      <td>OpenHermes_WatermelonUvulaMarigold</td>\n",
       "      <td>2024-02-23 10:32:55.097308+00:00</td>\n",
       "      <td>2024-02-23 10:32:55.095929+00:00</td>\n",
       "      <td>0.6</td>\n",
       "      <td>0.7</td>\n",
       "      <td>0.5</td>\n",
       "      <td>0.2</td>\n",
       "      <td>international</td>\n",
       "      <td>business</td>\n",
       "    </tr>\n",
       "    <tr>\n",
       "      <th>27748</th>\n",
       "      <td>465789</td>\n",
       "      <td>65c5961861e505075796706a</td>\n",
       "      <td>True</td>\n",
       "      <td>False</td>\n",
       "      <td>30</td>\n",
       "      <td>niche</td>\n",
       "      <td>fact</td>\n",
       "      <td>bull</td>\n",
       "      <td>OpenHermes_WatermelonUvulaMarigold</td>\n",
       "      <td>2024-02-23 10:37:09.622687+00:00</td>\n",
       "      <td>2024-02-23 10:37:09.621313+00:00</td>\n",
       "      <td>0.3</td>\n",
       "      <td>0.4</td>\n",
       "      <td>0.2</td>\n",
       "      <td>0.1</td>\n",
       "      <td>international</td>\n",
       "      <td>business</td>\n",
       "    </tr>\n",
       "    <tr>\n",
       "      <th>27749</th>\n",
       "      <td>465790</td>\n",
       "      <td>65c2f2d3c119ff6e57a43cd5</td>\n",
       "      <td>True</td>\n",
       "      <td>False</td>\n",
       "      <td>7</td>\n",
       "      <td>niche</td>\n",
       "      <td>fact</td>\n",
       "      <td>bull</td>\n",
       "      <td>OpenHermes_WatermelonUvulaMarigold</td>\n",
       "      <td>2024-02-23 10:37:14.494982+00:00</td>\n",
       "      <td>2024-02-23 10:37:14.493585+00:00</td>\n",
       "      <td>0.3</td>\n",
       "      <td>0.4</td>\n",
       "      <td>0.2</td>\n",
       "      <td>0.1</td>\n",
       "      <td>international</td>\n",
       "      <td>financial</td>\n",
       "    </tr>\n",
       "  </tbody>\n",
       "</table>\n",
       "<p>587 rows × 17 columns</p>\n",
       "</div>"
      ],
      "text/plain": [
       "           0                         1      2      3   4                   5   \\\n",
       "28     451333  65c1a0e1c119ff6e57a3f321   True   True  14               niche   \n",
       "108    451413  65c1d6a3c119ff6e57a42637   True  False   1               niche   \n",
       "112    451417  65c3631517f2c04a90ee5065  False  False   1               niche   \n",
       "240    451544  65ced022abb31841109ceaab   True  False   3               niche   \n",
       "303    451607  65cadbc2f4fc8477f2ed8884   True  False  14               niche   \n",
       "...       ...                       ...    ...    ...  ..                 ...   \n",
       "27654  465695  65cc2cda06df7536a8f68486   True  False  14               niche   \n",
       "27686  465727  65c443d6da99411d47476a07   True   True   1               niche   \n",
       "27714  465755  65c32accc119ff6e57a44282   True  False  30  moderately_popular   \n",
       "27748  465789  65c5961861e505075796706a   True  False  30               niche   \n",
       "27749  465790  65c2f2d3c119ff6e57a43cd5   True  False   7               niche   \n",
       "\n",
       "         6     7                                   8   \\\n",
       "28     fact    na  OpenHermes_WatermelonUvulaMarigold   \n",
       "108    fact    na  OpenHermes_WatermelonUvulaMarigold   \n",
       "112    fact    na  OpenHermes_WatermelonUvulaMarigold   \n",
       "240    fact  bull  OpenHermes_WatermelonUvulaMarigold   \n",
       "303    fact    na  OpenHermes_WatermelonUvulaMarigold   \n",
       "...     ...   ...                                 ...   \n",
       "27654  fact    na  OpenHermes_WatermelonUvulaMarigold   \n",
       "27686  fact    na  OpenHermes_WatermelonUvulaMarigold   \n",
       "27714  fact  bull  OpenHermes_WatermelonUvulaMarigold   \n",
       "27748  fact  bull  OpenHermes_WatermelonUvulaMarigold   \n",
       "27749  fact  bull  OpenHermes_WatermelonUvulaMarigold   \n",
       "\n",
       "                                    9                                10   11  \\\n",
       "28    2024-02-21 23:45:36.429660+00:00 2024-02-21 23:45:36.428526+00:00  0.3   \n",
       "108   2024-02-21 23:55:33.505379+00:00 2024-02-21 23:55:33.504423+00:00  0.3   \n",
       "112   2024-02-21 23:56:19.072749+00:00 2024-02-21 23:56:19.071748+00:00  0.3   \n",
       "240   2024-02-22 00:07:51.829366+00:00 2024-02-22 00:07:51.828399+00:00  0.3   \n",
       "303   2024-02-22 00:14:47.119213+00:00 2024-02-22 00:14:47.118352+00:00  0.3   \n",
       "...                                ...                              ...  ...   \n",
       "27654 2024-02-23 10:26:55.657220+00:00 2024-02-23 10:26:55.655844+00:00  0.3   \n",
       "27686 2024-02-23 10:30:18.830372+00:00 2024-02-23 10:30:18.828948+00:00  0.3   \n",
       "27714 2024-02-23 10:32:55.097308+00:00 2024-02-23 10:32:55.095929+00:00  0.6   \n",
       "27748 2024-02-23 10:37:09.622687+00:00 2024-02-23 10:37:09.621313+00:00  0.3   \n",
       "27749 2024-02-23 10:37:14.494982+00:00 2024-02-23 10:37:14.493585+00:00  0.3   \n",
       "\n",
       "        12   13   14             15          16  \n",
       "28     0.4  0.2  0.1  international    business  \n",
       "108    0.4  0.2  0.1  international   financial  \n",
       "112    0.2  0.3  0.1  international  irrelevant  \n",
       "240    0.4  0.4  0.2  international    business  \n",
       "303    0.4  0.3  0.2  international    business  \n",
       "...    ...  ...  ...            ...         ...  \n",
       "27654  0.2  0.3  0.2  international    business  \n",
       "27686  0.2  0.1  0.1         indian   financial  \n",
       "27714  0.7  0.5  0.2  international    business  \n",
       "27748  0.4  0.2  0.1  international    business  \n",
       "27749  0.4  0.2  0.1  international   financial  \n",
       "\n",
       "[587 rows x 17 columns]"
      ]
     },
     "execution_count": 37,
     "metadata": {},
     "output_type": "execute_result"
    }
   ],
   "source": [
    "df[list(df[1].isin(test['id'].unique()))]"
   ]
  },
  {
   "cell_type": "code",
   "execution_count": 23,
   "id": "b88bff52-393b-4070-80c9-0cdc6ed44b20",
   "metadata": {
    "tags": []
   },
   "outputs": [],
   "source": [
    "df1 = pd.merge(test, df[[1,16]], how = 'inner', left_on = 'id', right_on = 1)"
   ]
  },
  {
   "cell_type": "code",
   "execution_count": 30,
   "id": "c12b5609-e6b2-4fe7-9309-bd659b34b717",
   "metadata": {
    "scrolled": true,
    "tags": []
   },
   "outputs": [
    {
     "data": {
      "text/html": [
       "<div>\n",
       "<style scoped>\n",
       "    .dataframe tbody tr th:only-of-type {\n",
       "        vertical-align: middle;\n",
       "    }\n",
       "\n",
       "    .dataframe tbody tr th {\n",
       "        vertical-align: top;\n",
       "    }\n",
       "\n",
       "    .dataframe thead th {\n",
       "        text-align: right;\n",
       "    }\n",
       "</style>\n",
       "<table border=\"1\" class=\"dataframe\">\n",
       "  <thead>\n",
       "    <tr style=\"text-align: right;\">\n",
       "      <th></th>\n",
       "      <th>id</th>\n",
       "      <th>title</th>\n",
       "      <th>category</th>\n",
       "      <th>test_flag</th>\n",
       "      <th>full_content</th>\n",
       "      <th>1</th>\n",
       "      <th>16</th>\n",
       "    </tr>\n",
       "  </thead>\n",
       "  <tbody>\n",
       "    <tr>\n",
       "      <th>442</th>\n",
       "      <td>65c1d5efc119ff6e57a41cea</td>\n",
       "      <td>Japan extends subsidies to downturn-hit Kioxia...</td>\n",
       "      <td>economic_policies_trends</td>\n",
       "      <td>1</td>\n",
       "      <td>title: Japan extends subsidies to downturn-hit...</td>\n",
       "      <td>65c1d5efc119ff6e57a41cea</td>\n",
       "      <td>business</td>\n",
       "    </tr>\n",
       "    <tr>\n",
       "      <th>134</th>\n",
       "      <td>65bc5ad2f3aa2a77a58c0051</td>\n",
       "      <td>A dream budget for economists, thanks to its f...</td>\n",
       "      <td>economic_policies_trends</td>\n",
       "      <td>1</td>\n",
       "      <td>title: A dream budget for economists, thanks t...</td>\n",
       "      <td>65bc5ad2f3aa2a77a58c0051</td>\n",
       "      <td>economic_policy</td>\n",
       "    </tr>\n",
       "    <tr>\n",
       "      <th>385</th>\n",
       "      <td>65bb79d9f3aa2a77a58bff15</td>\n",
       "      <td>FM mentions financial aid under PM Kisan Yojan...</td>\n",
       "      <td>economic_policies_trends</td>\n",
       "      <td>1</td>\n",
       "      <td>title: FM mentions financial aid under PM Kisa...</td>\n",
       "      <td>65bb79d9f3aa2a77a58bff15</td>\n",
       "      <td>economic_policy</td>\n",
       "    </tr>\n",
       "    <tr>\n",
       "      <th>423</th>\n",
       "      <td>65cadb40f4fc8477f2ed82ea</td>\n",
       "      <td>EU Sanctions Proposal: Why is the European Uni...</td>\n",
       "      <td>economic_policies_trends</td>\n",
       "      <td>1</td>\n",
       "      <td>title: EU Sanctions Proposal: Why is the Europ...</td>\n",
       "      <td>65cadb40f4fc8477f2ed82ea</td>\n",
       "      <td>business</td>\n",
       "    </tr>\n",
       "    <tr>\n",
       "      <th>292</th>\n",
       "      <td>65cd7f06abb31841109cdce2</td>\n",
       "      <td>Amidst slowing demand, India's next EV policy ...</td>\n",
       "      <td>economic_policies_trends</td>\n",
       "      <td>1</td>\n",
       "      <td>title: Amidst slowing demand, India's next EV ...</td>\n",
       "      <td>65cd7f06abb31841109cdce2</td>\n",
       "      <td>business</td>\n",
       "    </tr>\n",
       "    <tr>\n",
       "      <th>8</th>\n",
       "      <td>65cc9d96abb31841109cd231</td>\n",
       "      <td>Zambia's central bank increases lending rate b...</td>\n",
       "      <td>economic_policies_trends</td>\n",
       "      <td>1</td>\n",
       "      <td>title: Zambia's central bank increases lending...</td>\n",
       "      <td>65cc9d96abb31841109cd231</td>\n",
       "      <td>financial</td>\n",
       "    </tr>\n",
       "    <tr>\n",
       "      <th>95</th>\n",
       "      <td>65c5955b61e50507579666f2</td>\n",
       "      <td>Govt saves $6 bn on Qatar LNG deal renewal, si...</td>\n",
       "      <td>economic_policies_trends</td>\n",
       "      <td>1</td>\n",
       "      <td>title: Govt saves $6 bn on Qatar LNG deal rene...</td>\n",
       "      <td>65c5955b61e50507579666f2</td>\n",
       "      <td>business</td>\n",
       "    </tr>\n",
       "    <tr>\n",
       "      <th>289</th>\n",
       "      <td>65c44454da99411d47476f74</td>\n",
       "      <td>Fed's Kugler Optimistic Inflation Progress Wil...</td>\n",
       "      <td>economic_policies_trends</td>\n",
       "      <td>1</td>\n",
       "      <td>title: Fed's Kugler Optimistic Inflation Progr...</td>\n",
       "      <td>65c44454da99411d47476f74</td>\n",
       "      <td>financial</td>\n",
       "    </tr>\n",
       "    <tr>\n",
       "      <th>256</th>\n",
       "      <td>65c98a14f4fc8477f2ed7c12</td>\n",
       "      <td>To house Nenookaasi residents, Minneapolis awa...</td>\n",
       "      <td>economic_policies_trends</td>\n",
       "      <td>1</td>\n",
       "      <td>title: To house Nenookaasi residents, Minneapo...</td>\n",
       "      <td>65c98a14f4fc8477f2ed7c12</td>\n",
       "      <td>irrelevant</td>\n",
       "    </tr>\n",
       "    <tr>\n",
       "      <th>405</th>\n",
       "      <td>65be1ccff3aa2a77a58c060b</td>\n",
       "      <td>Budget 2024: Sitharaman bats for developing ic...</td>\n",
       "      <td>economic_policies_trends</td>\n",
       "      <td>1</td>\n",
       "      <td>title: Budget 2024: Sitharaman bats for develo...</td>\n",
       "      <td>65be1ccff3aa2a77a58c060b</td>\n",
       "      <td>economic_policy</td>\n",
       "    </tr>\n",
       "    <tr>\n",
       "      <th>302</th>\n",
       "      <td>65c5961861e505075796706d</td>\n",
       "      <td>Advent International plans to invest $5-10 bil...</td>\n",
       "      <td>economic_policies_trends</td>\n",
       "      <td>1</td>\n",
       "      <td>title: Advent International plans to invest $5...</td>\n",
       "      <td>65c5961861e505075796706d</td>\n",
       "      <td>business</td>\n",
       "    </tr>\n",
       "    <tr>\n",
       "      <th>394</th>\n",
       "      <td>65be1ccdf3aa2a77a58c05fb</td>\n",
       "      <td>Budget 2024: External affairs ministry gets al...</td>\n",
       "      <td>economic_policies_trends</td>\n",
       "      <td>1</td>\n",
       "      <td>title: Budget 2024: External affairs ministry ...</td>\n",
       "      <td>65be1ccdf3aa2a77a58c05fb</td>\n",
       "      <td>economic_policy</td>\n",
       "    </tr>\n",
       "    <tr>\n",
       "      <th>191</th>\n",
       "      <td>65c2f29bc119ff6e57a439e2</td>\n",
       "      <td>Canadian Investment Regulatory Organization Tr...</td>\n",
       "      <td>economic_policies_trends</td>\n",
       "      <td>1</td>\n",
       "      <td>title: Canadian Investment Regulatory Organiza...</td>\n",
       "      <td>65c2f29bc119ff6e57a439e2</td>\n",
       "      <td>business</td>\n",
       "    </tr>\n",
       "    <tr>\n",
       "      <th>214</th>\n",
       "      <td>65c1d4d4c119ff6e57a40e9b</td>\n",
       "      <td>NNPA Salutes U.S. Federal Communications Commi...</td>\n",
       "      <td>economic_policies_trends</td>\n",
       "      <td>1</td>\n",
       "      <td>title: NNPA Salutes U.S. Federal Communication...</td>\n",
       "      <td>65c1d4d4c119ff6e57a40e9b</td>\n",
       "      <td>business</td>\n",
       "    </tr>\n",
       "    <tr>\n",
       "      <th>261</th>\n",
       "      <td>65c9fa87f4fc8477f2ed821f</td>\n",
       "      <td>Surgical Drapes &amp; Gowns Market Size to Surpass...</td>\n",
       "      <td>economic_policies_trends</td>\n",
       "      <td>1</td>\n",
       "      <td>title: Surgical Drapes &amp; Gowns Market Size to ...</td>\n",
       "      <td>65c9fa87f4fc8477f2ed821f</td>\n",
       "      <td>business</td>\n",
       "    </tr>\n",
       "    <tr>\n",
       "      <th>285</th>\n",
       "      <td>65c8385af4fc8477f2ed74b9</td>\n",
       "      <td>NDA removed supply hitch, created infra: White...</td>\n",
       "      <td>economic_policies_trends</td>\n",
       "      <td>1</td>\n",
       "      <td>title: NDA removed supply hitch, created infra...</td>\n",
       "      <td>65c8385af4fc8477f2ed74b9</td>\n",
       "      <td>economic_policy</td>\n",
       "    </tr>\n",
       "    <tr>\n",
       "      <th>92</th>\n",
       "      <td>65c6e6ddf4fc8477f2ed6a4e</td>\n",
       "      <td>Andhra Pradesh govt tables interim budget of R...</td>\n",
       "      <td>economic_policies_trends</td>\n",
       "      <td>1</td>\n",
       "      <td>title: Andhra Pradesh govt tables interim budg...</td>\n",
       "      <td>65c6e6ddf4fc8477f2ed6a4e</td>\n",
       "      <td>financial</td>\n",
       "    </tr>\n",
       "    <tr>\n",
       "      <th>388</th>\n",
       "      <td>65c83859f4fc8477f2ed7499</td>\n",
       "      <td>Emphasis on capex is the highlight of Interim ...</td>\n",
       "      <td>economic_policies_trends</td>\n",
       "      <td>1</td>\n",
       "      <td>title: Emphasis on capex is the highlight of I...</td>\n",
       "      <td>65c83859f4fc8477f2ed7499</td>\n",
       "      <td>economic_policy</td>\n",
       "    </tr>\n",
       "    <tr>\n",
       "      <th>386</th>\n",
       "      <td>65cf083babb31841109cf4df</td>\n",
       "      <td>EnTrust Global’s Blue Ocean Reaches Agreement ...</td>\n",
       "      <td>economic_policies_trends</td>\n",
       "      <td>1</td>\n",
       "      <td>title: EnTrust Global’s Blue Ocean Reaches Agr...</td>\n",
       "      <td>65cf083babb31841109cf4df</td>\n",
       "      <td>business</td>\n",
       "    </tr>\n",
       "    <tr>\n",
       "      <th>118</th>\n",
       "      <td>65cc2d2606df7536a8f687d2</td>\n",
       "      <td>South Dakota Enacts APRN Compact</td>\n",
       "      <td>economic_policies_trends</td>\n",
       "      <td>1</td>\n",
       "      <td>title: South Dakota Enacts APRN Compact. conte...</td>\n",
       "      <td>65cc2d2606df7536a8f687d2</td>\n",
       "      <td>irrelevant</td>\n",
       "    </tr>\n",
       "  </tbody>\n",
       "</table>\n",
       "</div>"
      ],
      "text/plain": [
       "                           id  \\\n",
       "442  65c1d5efc119ff6e57a41cea   \n",
       "134  65bc5ad2f3aa2a77a58c0051   \n",
       "385  65bb79d9f3aa2a77a58bff15   \n",
       "423  65cadb40f4fc8477f2ed82ea   \n",
       "292  65cd7f06abb31841109cdce2   \n",
       "8    65cc9d96abb31841109cd231   \n",
       "95   65c5955b61e50507579666f2   \n",
       "289  65c44454da99411d47476f74   \n",
       "256  65c98a14f4fc8477f2ed7c12   \n",
       "405  65be1ccff3aa2a77a58c060b   \n",
       "302  65c5961861e505075796706d   \n",
       "394  65be1ccdf3aa2a77a58c05fb   \n",
       "191  65c2f29bc119ff6e57a439e2   \n",
       "214  65c1d4d4c119ff6e57a40e9b   \n",
       "261  65c9fa87f4fc8477f2ed821f   \n",
       "285  65c8385af4fc8477f2ed74b9   \n",
       "92   65c6e6ddf4fc8477f2ed6a4e   \n",
       "388  65c83859f4fc8477f2ed7499   \n",
       "386  65cf083babb31841109cf4df   \n",
       "118  65cc2d2606df7536a8f687d2   \n",
       "\n",
       "                                                 title  \\\n",
       "442  Japan extends subsidies to downturn-hit Kioxia...   \n",
       "134  A dream budget for economists, thanks to its f...   \n",
       "385  FM mentions financial aid under PM Kisan Yojan...   \n",
       "423  EU Sanctions Proposal: Why is the European Uni...   \n",
       "292  Amidst slowing demand, India's next EV policy ...   \n",
       "8    Zambia's central bank increases lending rate b...   \n",
       "95   Govt saves $6 bn on Qatar LNG deal renewal, si...   \n",
       "289  Fed's Kugler Optimistic Inflation Progress Wil...   \n",
       "256  To house Nenookaasi residents, Minneapolis awa...   \n",
       "405  Budget 2024: Sitharaman bats for developing ic...   \n",
       "302  Advent International plans to invest $5-10 bil...   \n",
       "394  Budget 2024: External affairs ministry gets al...   \n",
       "191  Canadian Investment Regulatory Organization Tr...   \n",
       "214  NNPA Salutes U.S. Federal Communications Commi...   \n",
       "261  Surgical Drapes & Gowns Market Size to Surpass...   \n",
       "285  NDA removed supply hitch, created infra: White...   \n",
       "92   Andhra Pradesh govt tables interim budget of R...   \n",
       "388  Emphasis on capex is the highlight of Interim ...   \n",
       "386  EnTrust Global’s Blue Ocean Reaches Agreement ...   \n",
       "118                   South Dakota Enacts APRN Compact   \n",
       "\n",
       "                     category  test_flag  \\\n",
       "442  economic_policies_trends          1   \n",
       "134  economic_policies_trends          1   \n",
       "385  economic_policies_trends          1   \n",
       "423  economic_policies_trends          1   \n",
       "292  economic_policies_trends          1   \n",
       "8    economic_policies_trends          1   \n",
       "95   economic_policies_trends          1   \n",
       "289  economic_policies_trends          1   \n",
       "256  economic_policies_trends          1   \n",
       "405  economic_policies_trends          1   \n",
       "302  economic_policies_trends          1   \n",
       "394  economic_policies_trends          1   \n",
       "191  economic_policies_trends          1   \n",
       "214  economic_policies_trends          1   \n",
       "261  economic_policies_trends          1   \n",
       "285  economic_policies_trends          1   \n",
       "92   economic_policies_trends          1   \n",
       "388  economic_policies_trends          1   \n",
       "386  economic_policies_trends          1   \n",
       "118  economic_policies_trends          1   \n",
       "\n",
       "                                          full_content  \\\n",
       "442  title: Japan extends subsidies to downturn-hit...   \n",
       "134  title: A dream budget for economists, thanks t...   \n",
       "385  title: FM mentions financial aid under PM Kisa...   \n",
       "423  title: EU Sanctions Proposal: Why is the Europ...   \n",
       "292  title: Amidst slowing demand, India's next EV ...   \n",
       "8    title: Zambia's central bank increases lending...   \n",
       "95   title: Govt saves $6 bn on Qatar LNG deal rene...   \n",
       "289  title: Fed's Kugler Optimistic Inflation Progr...   \n",
       "256  title: To house Nenookaasi residents, Minneapo...   \n",
       "405  title: Budget 2024: Sitharaman bats for develo...   \n",
       "302  title: Advent International plans to invest $5...   \n",
       "394  title: Budget 2024: External affairs ministry ...   \n",
       "191  title: Canadian Investment Regulatory Organiza...   \n",
       "214  title: NNPA Salutes U.S. Federal Communication...   \n",
       "261  title: Surgical Drapes & Gowns Market Size to ...   \n",
       "285  title: NDA removed supply hitch, created infra...   \n",
       "92   title: Andhra Pradesh govt tables interim budg...   \n",
       "388  title: Emphasis on capex is the highlight of I...   \n",
       "386  title: EnTrust Global’s Blue Ocean Reaches Agr...   \n",
       "118  title: South Dakota Enacts APRN Compact. conte...   \n",
       "\n",
       "                            1               16  \n",
       "442  65c1d5efc119ff6e57a41cea         business  \n",
       "134  65bc5ad2f3aa2a77a58c0051  economic_policy  \n",
       "385  65bb79d9f3aa2a77a58bff15  economic_policy  \n",
       "423  65cadb40f4fc8477f2ed82ea         business  \n",
       "292  65cd7f06abb31841109cdce2         business  \n",
       "8    65cc9d96abb31841109cd231        financial  \n",
       "95   65c5955b61e50507579666f2         business  \n",
       "289  65c44454da99411d47476f74        financial  \n",
       "256  65c98a14f4fc8477f2ed7c12       irrelevant  \n",
       "405  65be1ccff3aa2a77a58c060b  economic_policy  \n",
       "302  65c5961861e505075796706d         business  \n",
       "394  65be1ccdf3aa2a77a58c05fb  economic_policy  \n",
       "191  65c2f29bc119ff6e57a439e2         business  \n",
       "214  65c1d4d4c119ff6e57a40e9b         business  \n",
       "261  65c9fa87f4fc8477f2ed821f         business  \n",
       "285  65c8385af4fc8477f2ed74b9  economic_policy  \n",
       "92   65c6e6ddf4fc8477f2ed6a4e        financial  \n",
       "388  65c83859f4fc8477f2ed7499  economic_policy  \n",
       "386  65cf083babb31841109cf4df         business  \n",
       "118  65cc2d2606df7536a8f687d2       irrelevant  "
      ]
     },
     "execution_count": 30,
     "metadata": {},
     "output_type": "execute_result"
    }
   ],
   "source": [
    "df1[df1.category == 'economic_policies_trends'].sample(20)"
   ]
  },
  {
   "cell_type": "code",
   "execution_count": 25,
   "id": "b452dabc-1fe4-4e2f-8bc6-11d9972d17ae",
   "metadata": {
    "tags": []
   },
   "outputs": [
    {
     "data": {
      "text/plain": [
       "category                  16              \n",
       "company_business_news     business            113\n",
       "                          financial            43\n",
       "                          irrelevant            3\n",
       "economic_policies_trends  business             37\n",
       "                          economic_policy      13\n",
       "                          financial            11\n",
       "                          irrelevant            4\n",
       "market_news               business             48\n",
       "                          financial           161\n",
       "non_financial             business              8\n",
       "                          economic_policy       1\n",
       "                          irrelevant           13\n",
       "                          personal_finance      1\n",
       "personal_finance          business              4\n",
       "                          financial             5\n",
       "                          irrelevant            2\n",
       "                          personal_finance     10\n",
       "Name: 16, dtype: int64"
      ]
     },
     "execution_count": 25,
     "metadata": {},
     "output_type": "execute_result"
    }
   ],
   "source": [
    "df1.groupby(['category', 16])[16].count()"
   ]
  },
  {
   "cell_type": "code",
   "execution_count": 38,
   "id": "663a0493-789f-4940-b5b7-55e6626ced61",
   "metadata": {
    "tags": []
   },
   "outputs": [
    {
     "data": {
      "text/plain": [
       "27763"
      ]
     },
     "execution_count": 38,
     "metadata": {},
     "output_type": "execute_result"
    }
   ],
   "source": [
    "len(df)"
   ]
  },
  {
   "cell_type": "code",
   "execution_count": 39,
   "id": "864b3273-f0d8-4ab1-b90e-95930e1723f8",
   "metadata": {
    "tags": []
   },
   "outputs": [
    {
     "data": {
      "text/plain": [
       "16\n",
       "business            13368\n",
       "economic_policy      1142\n",
       "financial           11264\n",
       "irrelevant           1042\n",
       "personal_finance      947\n",
       "Name: 16, dtype: int64"
      ]
     },
     "execution_count": 39,
     "metadata": {},
     "output_type": "execute_result"
    }
   ],
   "source": [
    "df.groupby(16)[16].count()"
   ]
  },
  {
   "cell_type": "markdown",
   "id": "280e4dca-6fae-46b1-a12a-af1e9c3abfa1",
   "metadata": {},
   "source": [
    "### Cluster creation"
   ]
  },
  {
   "cell_type": "code",
   "execution_count": 3,
   "id": "f683c008-713e-4cd9-aad6-04da73270f0b",
   "metadata": {
    "tags": []
   },
   "outputs": [],
   "source": [
    "from src.clustering.ClustersResetService import ClustersResetService"
   ]
  },
  {
   "cell_type": "code",
   "execution_count": 4,
   "id": "a5aa32c3-5493-429e-93df-9116c3cd90e7",
   "metadata": {
    "tags": []
   },
   "outputs": [],
   "source": [
    "import logging\n",
    "\n",
    "logger = logging.getLogger('__name__')\n",
    "\n",
    "level = logging.INFO\n",
    "logger.setLevel(level)"
   ]
  },
  {
   "cell_type": "code",
   "execution_count": 5,
   "id": "b1efa9e3-b237-4451-8d83-bc7527dfd479",
   "metadata": {
    "tags": []
   },
   "outputs": [],
   "source": [
    "crs = ClustersResetService(cfg=cfg,category='financial',random_state=86,desired_clusters=4)"
   ]
  },
  {
   "cell_type": "code",
   "execution_count": 7,
   "id": "e8286a9f-50dd-49ed-b0cc-a4fe0b8486cf",
   "metadata": {
    "tags": []
   },
   "outputs": [],
   "source": [
    "from umap import UMAP"
   ]
  },
  {
   "cell_type": "code",
   "execution_count": 8,
   "id": "d91c6d27-8f54-4530-8514-c30ecdaceeb3",
   "metadata": {
    "tags": []
   },
   "outputs": [],
   "source": [
    "custom_umap_model = UMAP(n_neighbors=32,\n",
    "                         n_components=10,\n",
    "                         metric='cosine',\n",
    "                         random_state=86)"
   ]
  },
  {
   "cell_type": "code",
   "execution_count": 11,
   "id": "6c8a1deb-0c0f-4c2b-b0fb-7cd0efe07339",
   "metadata": {
    "tags": []
   },
   "outputs": [],
   "source": [
    "num_docs = len(crs.documents)\n",
    "crs.min_cluster_size = int(num_docs/(3 * crs.desired_clusters))\n",
    "crs.min_samples = int(num_docs/(4 * crs.desired_clusters))"
   ]
  },
  {
   "cell_type": "code",
   "execution_count": 14,
   "id": "383056c3-d57b-4e3a-b0c4-61aad9974715",
   "metadata": {
    "tags": []
   },
   "outputs": [
    {
     "data": {
      "text/plain": [
       "4136"
      ]
     },
     "execution_count": 14,
     "metadata": {},
     "output_type": "execute_result"
    }
   ],
   "source": [
    "num_docs"
   ]
  },
  {
   "cell_type": "code",
   "execution_count": 15,
   "id": "6c1107a1-9ce7-40c9-93db-be0206c34496",
   "metadata": {
    "tags": []
   },
   "outputs": [],
   "source": [
    "from hdbscan import HDBSCAN"
   ]
  },
  {
   "cell_type": "code",
   "execution_count": 16,
   "id": "22538c23-e5ab-4420-ad4d-6b612c1129ce",
   "metadata": {
    "tags": []
   },
   "outputs": [],
   "source": [
    "custom_hdbscan_model = HDBSCAN(min_cluster_size=crs.min_cluster_size,\n",
    "                               min_samples=crs.min_samples,\n",
    "                               metric='cosine',\n",
    "                               prediction_data=True)"
   ]
  },
  {
   "cell_type": "code",
   "execution_count": 18,
   "id": "e29aa7b5-1a2d-47d9-95a2-83736fc39376",
   "metadata": {
    "tags": []
   },
   "outputs": [],
   "source": [
    "from sklearn.feature_extraction.text import CountVectorizer"
   ]
  },
  {
   "cell_type": "code",
   "execution_count": 19,
   "id": "bf921610-b3f5-4719-aa02-40a217503900",
   "metadata": {
    "tags": []
   },
   "outputs": [],
   "source": [
    "vectorizer_model = CountVectorizer(stop_words=\"english\",\n",
    "                                   max_df=0.7,\n",
    "                                   ngram_range=(1, 2))"
   ]
  },
  {
   "cell_type": "code",
   "execution_count": 20,
   "id": "56018e0a-bfc2-4852-822f-2149db35dbd2",
   "metadata": {
    "tags": []
   },
   "outputs": [],
   "source": [
    "from bertopic import BERTopic"
   ]
  },
  {
   "cell_type": "code",
   "execution_count": 22,
   "id": "8f146502-dcf5-4389-9e19-638ba9e781d1",
   "metadata": {
    "tags": []
   },
   "outputs": [],
   "source": [
    "from sentence_transformers import SentenceTransformer"
   ]
  },
  {
   "cell_type": "code",
   "execution_count": 23,
   "id": "8bf65af1-c31a-4d34-a9ce-225e4e50b3dc",
   "metadata": {
    "tags": []
   },
   "outputs": [],
   "source": [
    "bertopic_model = BERTopic(umap_model=custom_umap_model,\n",
    "                          hdbscan_model=custom_hdbscan_model,\n",
    "                          vectorizer_model=vectorizer_model,\n",
    "                          embedding_model=SentenceTransformer(crs.model_name),\n",
    "                          verbose=True,\n",
    "                          calculate_probabilities=True)"
   ]
  },
  {
   "cell_type": "code",
   "execution_count": 24,
   "id": "dfec3242-3aab-4d15-a471-69addda44662",
   "metadata": {
    "tags": []
   },
   "outputs": [],
   "source": [
    "logging.info(\"bertopic model instantiated\")"
   ]
  },
  {
   "cell_type": "code",
   "execution_count": null,
   "id": "da425c8e-86e1-4a0d-9e3f-36e775322331",
   "metadata": {
    "tags": []
   },
   "outputs": [
    {
     "name": "stderr",
     "output_type": "stream",
     "text": [
      "OMP: Info #276: omp_set_nested routine deprecated, please use omp_set_max_active_levels instead.\n"
     ]
    }
   ],
   "source": [
    "bertopic_model.fit_transform(documents=crs.documents, embeddings=crs.embeddings)"
   ]
  },
  {
   "cell_type": "code",
   "execution_count": null,
   "id": "1c0e89df-c02a-4a6b-b12b-8d555a377ec7",
   "metadata": {},
   "outputs": [],
   "source": [
    "def _fit_bertopic_model_to_documents(self):\n",
    "    custom_umap_model = UMAP(n_neighbors=32,\n",
    "                             n_components=10,\n",
    "                             metric='cosine',\n",
    "                             random_state=86)\n",
    "    num_docs = len(self.documents)\n",
    "    self.min_cluster_size = int(num_docs)/(3 * self.desired_clusters)\n",
    "    self.min_samples = int(num_docs)/(4 * self.desired_clusters)\n",
    "    # custom_hdbscan_model = HDBSCAN(min_cluster_size=self.cfg.hdbscan_min_cluster_size,\n",
    "    #                                min_samples=self.cfg.hdbscan_min_samples,\n",
    "    #                                metric='cosine',\n",
    "    #                                prediction_data=True)\n",
    "    custom_hdbscan_model = HDBSCAN(min_cluster_size=self.min_cluster_size,\n",
    "                                   min_samples=self.min_samples,\n",
    "                                   metric='cosine',\n",
    "                                   prediction_data=True)\n",
    "    vectorizer_model = CountVectorizer(stop_words=\"english\",\n",
    "                                       max_df=0.7,\n",
    "                                       ngram_range=(1, 2))\n",
    "    bertopic_model = BERTopic(umap_model=custom_umap_model,\n",
    "                              hdbscan_model=custom_hdbscan_model,\n",
    "                              vectorizer_model=vectorizer_model,\n",
    "                              embedding_model=SentenceTransformer(self.model_name),\n",
    "                              verbose=True,\n",
    "                              calculate_probabilities=True)\n",
    "    logging.info(\"bertopic model instantiated\")\n",
    "\n",
    "    bertopic_model.fit_transform(documents=self.documents, embeddings=self.embeddings)\n",
    "    bertopic_model.generate_topic_labels(nr_words=5, separator=\", \")\n",
    "    logging.info(f\"model fit to documents\")\n",
    "    return bertopic_model"
   ]
  },
  {
   "cell_type": "code",
   "execution_count": null,
   "id": "6e1daeb4-a5b1-4d68-8ac4-00f81019cb2f",
   "metadata": {
    "tags": []
   },
   "outputs": [],
   "source": [
    "1"
   ]
  },
  {
   "cell_type": "code",
   "execution_count": null,
   "id": "9de5c4a4-ec62-4249-ba54-6e76a072500d",
   "metadata": {
    "tags": []
   },
   "outputs": [],
   "source": [
    "1"
   ]
  },
  {
   "cell_type": "code",
   "execution_count": 7,
   "id": "bfd21104-54da-4927-abc2-3564edaf45f8",
   "metadata": {
    "tags": []
   },
   "outputs": [
    {
     "data": {
      "text/plain": [
       "3567"
      ]
     },
     "execution_count": 7,
     "metadata": {},
     "output_type": "execute_result"
    }
   ],
   "source": [
    "len(crs.embeddings)"
   ]
  },
  {
   "cell_type": "code",
   "execution_count": 16,
   "id": "d9a1f0b8-faba-4385-a171-904255c6d68d",
   "metadata": {
    "tags": []
   },
   "outputs": [
    {
     "data": {
      "text/plain": [
       "'Tata Power share price falls 3% after Q2 results; time to buy the stock? | Mint'"
      ]
     },
     "execution_count": 16,
     "metadata": {},
     "output_type": "execute_result"
    }
   ],
   "source": [
    "crs.documents[150]"
   ]
  },
  {
   "cell_type": "code",
   "execution_count": 61,
   "id": "6fe989d6-0f71-4100-abcd-086fc873f810",
   "metadata": {
    "tags": []
   },
   "outputs": [
    {
     "data": {
      "text/plain": [
       "16                3    \n",
       "business          False    2237\n",
       "                  True      921\n",
       "economic_policy   False      58\n",
       "                  True      157\n",
       "financial         False     962\n",
       "                  True     1242\n",
       "irrelevant        False     247\n",
       "                  True      106\n",
       "personal_finance  False      83\n",
       "                  True      334\n",
       "Name: 16, dtype: int64"
      ]
     },
     "execution_count": 61,
     "metadata": {},
     "output_type": "execute_result"
    }
   ],
   "source": [
    "df.groupby([16,3])[16].count()"
   ]
  },
  {
   "cell_type": "code",
   "execution_count": 47,
   "id": "9440252c-d51c-4702-b17c-7e14615bcabb",
   "metadata": {
    "tags": []
   },
   "outputs": [
    {
     "data": {
      "text/html": [
       "<div>\n",
       "<style scoped>\n",
       "    .dataframe tbody tr th:only-of-type {\n",
       "        vertical-align: middle;\n",
       "    }\n",
       "\n",
       "    .dataframe tbody tr th {\n",
       "        vertical-align: top;\n",
       "    }\n",
       "\n",
       "    .dataframe thead th {\n",
       "        text-align: right;\n",
       "    }\n",
       "</style>\n",
       "<table border=\"1\" class=\"dataframe\">\n",
       "  <thead>\n",
       "    <tr style=\"text-align: right;\">\n",
       "      <th></th>\n",
       "      <th>0</th>\n",
       "      <th>1</th>\n",
       "      <th>2</th>\n",
       "      <th>3</th>\n",
       "      <th>4</th>\n",
       "      <th>5</th>\n",
       "      <th>6</th>\n",
       "      <th>7</th>\n",
       "      <th>8</th>\n",
       "      <th>9</th>\n",
       "      <th>10</th>\n",
       "      <th>11</th>\n",
       "      <th>12</th>\n",
       "      <th>13</th>\n",
       "      <th>14</th>\n",
       "      <th>15</th>\n",
       "      <th>16</th>\n",
       "    </tr>\n",
       "  </thead>\n",
       "  <tbody>\n",
       "    <tr>\n",
       "      <th>1042</th>\n",
       "      <td>439476</td>\n",
       "      <td>657040ec53e8a6117bd30b6f</td>\n",
       "      <td>True</td>\n",
       "      <td>False</td>\n",
       "      <td>30</td>\n",
       "      <td>breaking_news</td>\n",
       "      <td>fact</td>\n",
       "      <td>na</td>\n",
       "      <td>OpenHermes_WatermelonUvulaMarigold</td>\n",
       "      <td>2024-02-20 12:37:32.491153+00:00</td>\n",
       "      <td>2024-02-20 12:37:32.490360+00:00</td>\n",
       "      <td>0.7</td>\n",
       "      <td>0.6</td>\n",
       "      <td>0.7</td>\n",
       "      <td>0.5</td>\n",
       "      <td>international</td>\n",
       "      <td>economic_policy</td>\n",
       "    </tr>\n",
       "    <tr>\n",
       "      <th>973</th>\n",
       "      <td>439407</td>\n",
       "      <td>656719d5207bb033b910ea6c</td>\n",
       "      <td>True</td>\n",
       "      <td>True</td>\n",
       "      <td>14</td>\n",
       "      <td>moderately_popular</td>\n",
       "      <td>fact</td>\n",
       "      <td>bear</td>\n",
       "      <td>OpenHermes_WatermelonUvulaMarigold</td>\n",
       "      <td>2024-02-20 12:25:03.350909+00:00</td>\n",
       "      <td>2024-02-20 12:25:03.349350+00:00</td>\n",
       "      <td>0.6</td>\n",
       "      <td>0.5</td>\n",
       "      <td>0.6</td>\n",
       "      <td>0.5</td>\n",
       "      <td>international</td>\n",
       "      <td>economic_policy</td>\n",
       "    </tr>\n",
       "    <tr>\n",
       "      <th>1357</th>\n",
       "      <td>439791</td>\n",
       "      <td>6577cd31b8b4d445277abade</td>\n",
       "      <td>True</td>\n",
       "      <td>True</td>\n",
       "      <td>30</td>\n",
       "      <td>moderately_popular</td>\n",
       "      <td>fact</td>\n",
       "      <td>bull</td>\n",
       "      <td>OpenHermes_WatermelonUvulaMarigold</td>\n",
       "      <td>2024-02-20 13:18:50.469335+00:00</td>\n",
       "      <td>2024-02-20 13:18:50.468488+00:00</td>\n",
       "      <td>0.7</td>\n",
       "      <td>0.6</td>\n",
       "      <td>0.5</td>\n",
       "      <td>0.4</td>\n",
       "      <td>indian</td>\n",
       "      <td>economic_policy</td>\n",
       "    </tr>\n",
       "    <tr>\n",
       "      <th>1021</th>\n",
       "      <td>439455</td>\n",
       "      <td>656eca8a9f528f16c001a789</td>\n",
       "      <td>True</td>\n",
       "      <td>True</td>\n",
       "      <td>30</td>\n",
       "      <td>moderately_popular</td>\n",
       "      <td>fact</td>\n",
       "      <td>bull</td>\n",
       "      <td>OpenHermes_WatermelonUvulaMarigold</td>\n",
       "      <td>2024-02-20 12:33:30.740216+00:00</td>\n",
       "      <td>2024-02-20 12:33:30.739421+00:00</td>\n",
       "      <td>0.7</td>\n",
       "      <td>0.6</td>\n",
       "      <td>0.5</td>\n",
       "      <td>0.4</td>\n",
       "      <td>indian</td>\n",
       "      <td>economic_policy</td>\n",
       "    </tr>\n",
       "    <tr>\n",
       "      <th>1088</th>\n",
       "      <td>439522</td>\n",
       "      <td>6571c25e25cc9a343f0383c1</td>\n",
       "      <td>True</td>\n",
       "      <td>True</td>\n",
       "      <td>7</td>\n",
       "      <td>moderately_popular</td>\n",
       "      <td>fact</td>\n",
       "      <td>na</td>\n",
       "      <td>OpenHermes_WatermelonUvulaMarigold</td>\n",
       "      <td>2024-02-20 12:44:42.149039+00:00</td>\n",
       "      <td>2024-02-20 12:44:42.147351+00:00</td>\n",
       "      <td>0.7</td>\n",
       "      <td>0.6</td>\n",
       "      <td>0.5</td>\n",
       "      <td>0.4</td>\n",
       "      <td>indian</td>\n",
       "      <td>economic_policy</td>\n",
       "    </tr>\n",
       "    <tr>\n",
       "      <th>...</th>\n",
       "      <td>...</td>\n",
       "      <td>...</td>\n",
       "      <td>...</td>\n",
       "      <td>...</td>\n",
       "      <td>...</td>\n",
       "      <td>...</td>\n",
       "      <td>...</td>\n",
       "      <td>...</td>\n",
       "      <td>...</td>\n",
       "      <td>...</td>\n",
       "      <td>...</td>\n",
       "      <td>...</td>\n",
       "      <td>...</td>\n",
       "      <td>...</td>\n",
       "      <td>...</td>\n",
       "      <td>...</td>\n",
       "      <td>...</td>\n",
       "    </tr>\n",
       "    <tr>\n",
       "      <th>1633</th>\n",
       "      <td>440067</td>\n",
       "      <td>657bc159857ad322091600ac</td>\n",
       "      <td>True</td>\n",
       "      <td>False</td>\n",
       "      <td>1</td>\n",
       "      <td>niche</td>\n",
       "      <td>fact</td>\n",
       "      <td>bull</td>\n",
       "      <td>OpenHermes_WatermelonUvulaMarigold</td>\n",
       "      <td>2024-02-20 13:52:13.561265+00:00</td>\n",
       "      <td>2024-02-20 13:52:13.560306+00:00</td>\n",
       "      <td>0.3</td>\n",
       "      <td>0.4</td>\n",
       "      <td>0.2</td>\n",
       "      <td>0.1</td>\n",
       "      <td>international</td>\n",
       "      <td>economic_policy</td>\n",
       "    </tr>\n",
       "    <tr>\n",
       "      <th>1197</th>\n",
       "      <td>439631</td>\n",
       "      <td>65d4a24c504cea1b1d2efaea</td>\n",
       "      <td>True</td>\n",
       "      <td>True</td>\n",
       "      <td>30</td>\n",
       "      <td>niche</td>\n",
       "      <td>fact</td>\n",
       "      <td>na</td>\n",
       "      <td>OpenHermes_WatermelonUvulaMarigold</td>\n",
       "      <td>2024-02-20 13:02:23.703827+00:00</td>\n",
       "      <td>2024-02-20 13:02:23.703090+00:00</td>\n",
       "      <td>0.3</td>\n",
       "      <td>0.4</td>\n",
       "      <td>0.3</td>\n",
       "      <td>0.1</td>\n",
       "      <td>international</td>\n",
       "      <td>economic_policy</td>\n",
       "    </tr>\n",
       "    <tr>\n",
       "      <th>1475</th>\n",
       "      <td>439909</td>\n",
       "      <td>65798ed6a3d42e7319c281ca</td>\n",
       "      <td>True</td>\n",
       "      <td>False</td>\n",
       "      <td>-1</td>\n",
       "      <td>niche</td>\n",
       "      <td>educational</td>\n",
       "      <td>na</td>\n",
       "      <td>OpenHermes_WatermelonUvulaMarigold</td>\n",
       "      <td>2024-02-20 13:33:30.546598+00:00</td>\n",
       "      <td>2024-02-20 13:33:30.545660+00:00</td>\n",
       "      <td>0.3</td>\n",
       "      <td>0.2</td>\n",
       "      <td>0.1</td>\n",
       "      <td>0.1</td>\n",
       "      <td>international</td>\n",
       "      <td>economic_policy</td>\n",
       "    </tr>\n",
       "    <tr>\n",
       "      <th>1421</th>\n",
       "      <td>439855</td>\n",
       "      <td>65791eda1678087a99296615</td>\n",
       "      <td>True</td>\n",
       "      <td>True</td>\n",
       "      <td>30</td>\n",
       "      <td>niche</td>\n",
       "      <td>fact</td>\n",
       "      <td>na</td>\n",
       "      <td>OpenHermes_WatermelonUvulaMarigold</td>\n",
       "      <td>2024-02-20 13:26:25.855098+00:00</td>\n",
       "      <td>2024-02-20 13:26:25.854221+00:00</td>\n",
       "      <td>0.4</td>\n",
       "      <td>0.3</td>\n",
       "      <td>0.2</td>\n",
       "      <td>0.1</td>\n",
       "      <td>indian</td>\n",
       "      <td>economic_policy</td>\n",
       "    </tr>\n",
       "    <tr>\n",
       "      <th>100</th>\n",
       "      <td>438150</td>\n",
       "      <td>651de3bba662d76276b80541</td>\n",
       "      <td>True</td>\n",
       "      <td>True</td>\n",
       "      <td>14</td>\n",
       "      <td>niche</td>\n",
       "      <td>fact</td>\n",
       "      <td>bull</td>\n",
       "      <td>OpenHermes_WatermelonUvulaMarigold</td>\n",
       "      <td>2024-02-20 09:15:52.452509+00:00</td>\n",
       "      <td>2024-02-20 09:15:52.451846+00:00</td>\n",
       "      <td>0.3</td>\n",
       "      <td>0.4</td>\n",
       "      <td>0.3</td>\n",
       "      <td>0.1</td>\n",
       "      <td>indian</td>\n",
       "      <td>economic_policy</td>\n",
       "    </tr>\n",
       "  </tbody>\n",
       "</table>\n",
       "<p>102 rows × 17 columns</p>\n",
       "</div>"
      ],
      "text/plain": [
       "          0                         1     2      3   4                   5   \\\n",
       "1042  439476  657040ec53e8a6117bd30b6f  True  False  30       breaking_news   \n",
       "973   439407  656719d5207bb033b910ea6c  True   True  14  moderately_popular   \n",
       "1357  439791  6577cd31b8b4d445277abade  True   True  30  moderately_popular   \n",
       "1021  439455  656eca8a9f528f16c001a789  True   True  30  moderately_popular   \n",
       "1088  439522  6571c25e25cc9a343f0383c1  True   True   7  moderately_popular   \n",
       "...      ...                       ...   ...    ...  ..                 ...   \n",
       "1633  440067  657bc159857ad322091600ac  True  False   1               niche   \n",
       "1197  439631  65d4a24c504cea1b1d2efaea  True   True  30               niche   \n",
       "1475  439909  65798ed6a3d42e7319c281ca  True  False  -1               niche   \n",
       "1421  439855  65791eda1678087a99296615  True   True  30               niche   \n",
       "100   438150  651de3bba662d76276b80541  True   True  14               niche   \n",
       "\n",
       "               6     7                                   8   \\\n",
       "1042         fact    na  OpenHermes_WatermelonUvulaMarigold   \n",
       "973          fact  bear  OpenHermes_WatermelonUvulaMarigold   \n",
       "1357         fact  bull  OpenHermes_WatermelonUvulaMarigold   \n",
       "1021         fact  bull  OpenHermes_WatermelonUvulaMarigold   \n",
       "1088         fact    na  OpenHermes_WatermelonUvulaMarigold   \n",
       "...           ...   ...                                 ...   \n",
       "1633         fact  bull  OpenHermes_WatermelonUvulaMarigold   \n",
       "1197         fact    na  OpenHermes_WatermelonUvulaMarigold   \n",
       "1475  educational    na  OpenHermes_WatermelonUvulaMarigold   \n",
       "1421         fact    na  OpenHermes_WatermelonUvulaMarigold   \n",
       "100          fact  bull  OpenHermes_WatermelonUvulaMarigold   \n",
       "\n",
       "                                   9                                10   11  \\\n",
       "1042 2024-02-20 12:37:32.491153+00:00 2024-02-20 12:37:32.490360+00:00  0.7   \n",
       "973  2024-02-20 12:25:03.350909+00:00 2024-02-20 12:25:03.349350+00:00  0.6   \n",
       "1357 2024-02-20 13:18:50.469335+00:00 2024-02-20 13:18:50.468488+00:00  0.7   \n",
       "1021 2024-02-20 12:33:30.740216+00:00 2024-02-20 12:33:30.739421+00:00  0.7   \n",
       "1088 2024-02-20 12:44:42.149039+00:00 2024-02-20 12:44:42.147351+00:00  0.7   \n",
       "...                               ...                              ...  ...   \n",
       "1633 2024-02-20 13:52:13.561265+00:00 2024-02-20 13:52:13.560306+00:00  0.3   \n",
       "1197 2024-02-20 13:02:23.703827+00:00 2024-02-20 13:02:23.703090+00:00  0.3   \n",
       "1475 2024-02-20 13:33:30.546598+00:00 2024-02-20 13:33:30.545660+00:00  0.3   \n",
       "1421 2024-02-20 13:26:25.855098+00:00 2024-02-20 13:26:25.854221+00:00  0.4   \n",
       "100  2024-02-20 09:15:52.452509+00:00 2024-02-20 09:15:52.451846+00:00  0.3   \n",
       "\n",
       "       12   13   14             15               16  \n",
       "1042  0.6  0.7  0.5  international  economic_policy  \n",
       "973   0.5  0.6  0.5  international  economic_policy  \n",
       "1357  0.6  0.5  0.4         indian  economic_policy  \n",
       "1021  0.6  0.5  0.4         indian  economic_policy  \n",
       "1088  0.6  0.5  0.4         indian  economic_policy  \n",
       "...   ...  ...  ...            ...              ...  \n",
       "1633  0.4  0.2  0.1  international  economic_policy  \n",
       "1197  0.4  0.3  0.1  international  economic_policy  \n",
       "1475  0.2  0.1  0.1  international  economic_policy  \n",
       "1421  0.3  0.2  0.1         indian  economic_policy  \n",
       "100   0.4  0.3  0.1         indian  economic_policy  \n",
       "\n",
       "[102 rows x 17 columns]"
      ]
     },
     "execution_count": 47,
     "metadata": {},
     "output_type": "execute_result"
    }
   ],
   "source": [
    "df[df[16]=='economic_policy'].sort_values(14,ascending=False)"
   ]
  },
  {
   "cell_type": "code",
   "execution_count": 2,
   "id": "eb7fca45-c4a3-4629-880b-0c50fb7cc576",
   "metadata": {
    "tags": []
   },
   "outputs": [],
   "source": [
    "sample_responses = pd.read_csv('/Users/ravi.tej/Desktop/ML/Recommendations/arcane/notebooks/llms/prompt-refinemenet-18-feb-2023/candidates_lorax_responses.csv',header=None)"
   ]
  },
  {
   "cell_type": "code",
   "execution_count": 4,
   "id": "987471eb-469b-4c23-9092-bf474351639d",
   "metadata": {
    "tags": []
   },
   "outputs": [],
   "source": [
    "import json"
   ]
  },
  {
   "cell_type": "code",
   "execution_count": 7,
   "id": "d3956a05-b0a3-4ec5-97eb-109b061aa2a4",
   "metadata": {
    "tags": []
   },
   "outputs": [
    {
     "data": {
      "text/plain": [
       "'651dc87ba662d76276b7bc54'"
      ]
     },
     "execution_count": 7,
     "metadata": {},
     "output_type": "execute_result"
    }
   ],
   "source": [
    "art[2]"
   ]
  },
  {
   "cell_type": "code",
   "execution_count": 17,
   "id": "6ec89be1-ceec-4f25-b9ef-6d447f2ae6a2",
   "metadata": {
    "tags": []
   },
   "outputs": [],
   "source": [
    "res = []\n",
    "for art in sample_responses.itertuples():\n",
    "    cur_res = json.loads(art[3])\n",
    "    cur_res['article_id'] = art[2]\n",
    "    res.append(cur_res)"
   ]
  },
  {
   "cell_type": "code",
   "execution_count": 18,
   "id": "61b0a9f0-7a64-44d5-ba08-7495fa8da2e9",
   "metadata": {
    "tags": []
   },
   "outputs": [],
   "source": [
    "df = pd.DataFrame(res)"
   ]
  },
  {
   "cell_type": "code",
   "execution_count": 20,
   "id": "906311b8-d64a-4912-a3f3-2fa3f5c345df",
   "metadata": {
    "tags": []
   },
   "outputs": [
    {
     "data": {
      "text/plain": [
       "category\n",
       "business            27\n",
       "economic_policy      6\n",
       "financial           46\n",
       "irrelevant          27\n",
       "personal_finance    34\n",
       "Name: article_id, dtype: int64"
      ]
     },
     "execution_count": 20,
     "metadata": {},
     "output_type": "execute_result"
    }
   ],
   "source": [
    "df.groupby('category')['article_id'].count()"
   ]
  },
  {
   "cell_type": "code",
   "execution_count": 9,
   "id": "becfb3f0-1831-448c-ae0f-b2de5f42fc60",
   "metadata": {
    "tags": []
   },
   "outputs": [
    {
     "data": {
      "text/plain": [
       "{'summary': \"!💰! Gold price: Gold prices remained flat at Rs 60,000 per 10 grams in Delhi, following global trends. \\n !📈! Silver price: Silver also traded flat at Rs 74,400 per kg. \\n !📉! US CPI: Traders await the US CPI report, which will influence Federal Reserve's interest-rate path.\",\n",
       " 'summary_critique': 'The summary is thorough, capturing the key details of the article. It is accurate, faithful, and readable. The _summary_markdown_format_ has been correctly followed. The emojis are appropriate and in unicode format.',\n",
       " 'improved_summary': \"!💰! Gold price: Gold prices in Delhi remained flat at Rs 60,000 per 10 grams, following global cues. \\n !📈! Silver price: Silver also remained steady at Rs 74,400 per kg. \\n !📉! US CPI: Traders are anticipating the US CPI report, which will influence the Federal Reserve's interest-rate path.\",\n",
       " 'top_queries': 'Gold price in India; Silver price in India; US CPI report; Federal Reserve interest rates; Gold and Silver trading trends',\n",
       " 'indian_or_international': 'indian',\n",
       " 'business_or_financial_article': True,\n",
       " 'relevant_for_indians': True,\n",
       " 'category': 'financial',\n",
       " 'article_interest_duration_evaluation': \"The article's information is time-bound and will be of interest to users until the next update in the gold and silver prices, or any major event in the financial markets.\",\n",
       " 'article_interest_duration': 1,\n",
       " 'popularity_evaluation': \"The article has moderate reader interest due to its relevance to Indian investors and those interested in precious metals. The headline is effective and straightforward. The event isn't novel as market fluctuations are common. The emotional impact is low as it's a routine market update.\",\n",
       " 'popularity_evaluation_critique': \"The assessment seems fair. The article's potential popularity is correctly evaluated, taking into account its content and presentation.\",\n",
       " 'final_reader_interest_score': 0.3,\n",
       " 'final_headline_effectiveness_score': 0.3,\n",
       " 'final_event_novelty_score': 0.1,\n",
       " 'final_emotional_impact_score': 0.1,\n",
       " 'improved_headline': 'Gold and Silver Trade Flat: Awaiting US CPI Report',\n",
       " 'article_type': 'fact',\n",
       " 'article_sentiment': 'na'}"
      ]
     },
     "execution_count": 9,
     "metadata": {},
     "output_type": "execute_result"
    }
   ],
   "source": [
    "res['651dc87ba662d76276b7bc54']"
   ]
  },
  {
   "cell_type": "code",
   "execution_count": null,
   "id": "d188e9d4-56c3-4565-8d30-1261529e2314",
   "metadata": {},
   "outputs": [],
   "source": []
  }
 ],
 "metadata": {
  "kernelspec": {
   "display_name": "bertopicenv",
   "language": "python",
   "name": "bertopicenv"
  },
  "language_info": {
   "codemirror_mode": {
    "name": "ipython",
    "version": 3
   },
   "file_extension": ".py",
   "mimetype": "text/x-python",
   "name": "python",
   "nbconvert_exporter": "python",
   "pygments_lexer": "ipython3",
   "version": "3.9.18"
  }
 },
 "nbformat": 4,
 "nbformat_minor": 5
}
