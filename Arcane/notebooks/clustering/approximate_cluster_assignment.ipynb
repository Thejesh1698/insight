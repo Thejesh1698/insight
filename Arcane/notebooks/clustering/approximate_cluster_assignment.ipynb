{
 "cells": [
  {
   "cell_type": "markdown",
   "id": "5ef88962-9fdd-428d-81d4-8a5dbed262a7",
   "metadata": {},
   "source": [
    "### Objective\n",
    "\n",
    "- Identify what is the best distance metric to find closest story for a given article - by comparing manhattan distance vs cosine similarity\n",
    "\n",
    "Hypothesis is that cosine similarity might be poorer since the magnitude isn't considered\n",
    "\n",
    "Findings: TLDR: - Cosine similarity wins"
   ]
  },
  {
   "cell_type": "code",
   "execution_count": 1,
   "id": "3d35c079-0ccb-4384-8610-8df283a9b72c",
   "metadata": {
    "tags": []
   },
   "outputs": [],
   "source": [
    "import boto3\n",
    "import pandas as pd\n",
    "from bertopic import BERTopic\n",
    "\n",
    "parent_folder = '/Users/ravi.tej/Desktop/ML/Recommendations/arcane/'\n",
    "from hydra import compose, initialize\n",
    "import os\n",
    "\n",
    "import xml.etree.ElementTree as ET\n",
    "\n",
    "tree = ET.parse('../../conf/application.run.xml')\n",
    "root = tree.getroot()\n",
    "\n",
    "envs_element = root.find('./configuration/envs')\n",
    "for variable in envs_element.findall('env'):\n",
    "    name = variable.get('name')\n",
    "    value = variable.get('value')\n",
    "    os.environ[name] = value\n",
    "\n",
    "import sys\n",
    "sys.path.append('/Users/ravi.tej/Desktop/ML/Recommendations/arcane/')\n",
    "\n",
    "from src._utils import load_bertopic_model_from_hf\n",
    "\n",
    "import json\n",
    "from io import StringIO\n",
    "import pickle\n",
    "from smart_open import open\n",
    "from bertopic.backend._sentencetransformers import SentenceTransformerBackend"
   ]
  },
  {
   "cell_type": "code",
   "execution_count": 2,
   "id": "fe28f1a3-4036-49bc-869e-f8942fe5df4e",
   "metadata": {
    "tags": []
   },
   "outputs": [],
   "source": [
    "def load_bertopic_model_from_s3(run_id: str, hf_embedding_model_name: str) -> BERTopic:\n",
    "    filename = 'BERTopic_' + run_id\n",
    "    foldername = run_id\n",
    "    s3_path = f's3://{s3_bucket}/{s3_bertopic_folder}/{foldername}/{filename}'\n",
    "\n",
    "    # Stream the model directly from S3\n",
    "    with open(s3_path, 'rb',\n",
    "              transport_params={'client': boto3.client('s3',\n",
    "                                                       aws_access_key_id=os.environ['AWS_ACCESS_KEY'],\n",
    "                                                       aws_secret_access_key=os.environ['AWS_SECRET_KEY'])}) as f:\n",
    "        model = pickle.load(f)\n",
    "    print('bertopic streamed successfully')\n",
    "\n",
    "    assert isinstance(model, BERTopic), f\"Failed to load model from S3. Model {filename} is not of type BERTopic.\"\n",
    "    model.embedding_model = SentenceTransformerBackend(embedding_model=hf_embedding_model_name)\n",
    "    return model"
   ]
  },
  {
   "cell_type": "code",
   "execution_count": 3,
   "id": "74387045-efc5-48ba-9269-7fe5c2b50e89",
   "metadata": {
    "tags": []
   },
   "outputs": [],
   "source": [
    "def load_json_from_s3(run_id: str, json_file_name: str) -> BERTopic:\n",
    "    foldername = run_id\n",
    "    s3_resource = boto3.resource('s3', aws_access_key_id=os.environ['AWS_ACCESS_KEY'], aws_secret_access_key=os.environ['AWS_SECRET_KEY'])\n",
    "    response = s3_resource.Object(s3_bucket, f'{s3_bertopic_folder}/{foldername}/{json_file_name}.json').get()\n",
    "    return json.loads(response['Body'].read().decode('utf-8'))\n",
    "    # return json.dumps(response)"
   ]
  },
  {
   "cell_type": "code",
   "execution_count": 4,
   "id": "77de0f28-083e-4ad9-9ee7-1f2dbb5599a3",
   "metadata": {
    "tags": []
   },
   "outputs": [],
   "source": [
    "def load_csv_from_s3(run_id: str, csv_file_name: str) -> BERTopic:\n",
    "    foldername = run_id\n",
    "    s3_resource = boto3.resource('s3', aws_access_key_id=os.environ['AWS_ACCESS_KEY'], aws_secret_access_key=os.environ['AWS_SECRET_KEY'])\n",
    "    response = s3_resource.Object(s3_bucket, f'{s3_bertopic_folder}/{foldername}/{csv_file_name}.csv').get()\n",
    "    csv_string = response['Body'].read().decode('utf-8')\n",
    "    return pd.read_csv(StringIO(csv_string))\n",
    "    # return json.dumps(response)"
   ]
  },
  {
   "cell_type": "code",
   "execution_count": 8,
   "id": "614e90c3-41c0-4fad-8680-68571360666d",
   "metadata": {
    "tags": []
   },
   "outputs": [],
   "source": [
    "run_id = 'TomatoEmeraldCandle'\n",
    "s3_bucket = 'insight-ml-models'\n",
    "s3_bertopic_folder = 'bertopic'"
   ]
  },
  {
   "cell_type": "code",
   "execution_count": 9,
   "id": "d6d7b261-59c6-4747-94fe-38bcbb91d738",
   "metadata": {
    "tags": []
   },
   "outputs": [],
   "source": [
    "article_story_cluster_mapping = load_json_from_s3(run_id = run_id, json_file_name='article_story_cluster_mapping')\n",
    "story_cluster_mapping = load_json_from_s3(run_id = run_id, json_file_name='story_cluster_mapping')\n",
    "story_embeddings = load_json_from_s3(run_id = run_id, json_file_name='story_embeddings')\n",
    "df = load_csv_from_s3(run_id=run_id, csv_file_name='cluster_hierarchy')"
   ]
  },
  {
   "cell_type": "code",
   "execution_count": 10,
   "id": "cb5045ee-81ac-47ed-9355-9ce9bdac2969",
   "metadata": {
    "tags": []
   },
   "outputs": [],
   "source": [
    "clusters = list(set(story_cluster_mapping.values()))"
   ]
  },
  {
   "cell_type": "code",
   "execution_count": 12,
   "id": "da79cdaa-3749-4d26-8db1-529d738d38b6",
   "metadata": {
    "tags": []
   },
   "outputs": [],
   "source": [
    "outliers = {}\n",
    "for article_id in article_story_cluster_mapping:\n",
    "    if article_story_cluster_mapping[article_id]['storyline_id'] == -1:\n",
    "        outliers.setdefault(article_story_cluster_mapping[article_id]['cluster_id'], []).append(article_id)"
   ]
  },
  {
   "cell_type": "code",
   "execution_count": 13,
   "id": "f66775e1-d808-41b1-b53c-1279a181b0ea",
   "metadata": {
    "tags": []
   },
   "outputs": [],
   "source": [
    "cluster_count = {}\n",
    "for cluster in outliers:\n",
    "    cluster_count[cluster] = len(outliers[cluster])"
   ]
  },
  {
   "cell_type": "code",
   "execution_count": 14,
   "id": "1695a535-d2b6-4151-b24a-ea5329e9e59b",
   "metadata": {
    "tags": []
   },
   "outputs": [],
   "source": [
    "outliers_count_df = pd.DataFrame([(key, value) for key, value in cluster_count.items()], columns = ['cluster_id', 'outlier_count'])"
   ]
  },
  {
   "cell_type": "code",
   "execution_count": 15,
   "id": "45eebe3f-1e73-4da2-a303-159413a8d201",
   "metadata": {
    "tags": []
   },
   "outputs": [],
   "source": [
    "df['parent_id'] = df['parent_id'].astype('int')"
   ]
  },
  {
   "cell_type": "code",
   "execution_count": 16,
   "id": "fdb21953-aec8-4929-bdd6-5a7a83f48442",
   "metadata": {
    "tags": []
   },
   "outputs": [],
   "source": [
    "df = pd.merge(df, outliers_count_df, how = 'left', left_on = 'parent_id', right_on = 'cluster_id')"
   ]
  },
  {
   "cell_type": "code",
   "execution_count": 17,
   "id": "0dc173a2-cd95-4433-beaa-3ea78530d249",
   "metadata": {
    "tags": []
   },
   "outputs": [],
   "source": [
    "df['total_count'] = df['num_docs'] + df['outlier_count']\n",
    "df['outlier_percent'] = df['outlier_count']/df['total_count']"
   ]
  },
  {
   "cell_type": "code",
   "execution_count": 20,
   "id": "8b9f566b-476a-4546-94a7-a2db4a6d94b3",
   "metadata": {
    "tags": []
   },
   "outputs": [],
   "source": [
    "from sklearn.metrics.pairwise import cosine_similarity, manhattan_distances"
   ]
  },
  {
   "cell_type": "code",
   "execution_count": 24,
   "id": "ef933b0d-9fe0-4538-8e19-63324bf70fd7",
   "metadata": {
    "tags": []
   },
   "outputs": [],
   "source": [
    "import numpy as np"
   ]
  },
  {
   "cell_type": "code",
   "execution_count": 130,
   "id": "bef1cc52-c463-45df-8f66-014ae9a4cd37",
   "metadata": {
    "tags": []
   },
   "outputs": [],
   "source": [
    "story_names = {int(x['parent_id']): x['parent_name'] for i, x in df[df.child_left_id.isnull()].iterrows()}"
   ]
  },
  {
   "cell_type": "markdown",
   "id": "bf48ac24-e3de-4fe8-9507-d60d9de86aeb",
   "metadata": {},
   "source": [
    "### Testing article to story distances"
   ]
  },
  {
   "cell_type": "code",
   "execution_count": 83,
   "id": "108075a0-5f3e-4224-a989-0dc4b10bef26",
   "metadata": {
    "tags": []
   },
   "outputs": [],
   "source": [
    "import requests"
   ]
  },
  {
   "cell_type": "code",
   "execution_count": 88,
   "id": "686baf99-ab06-4de8-9001-305f4965202f",
   "metadata": {
    "tags": []
   },
   "outputs": [],
   "source": [
    "r = requests.post('http://Arcane-env.eba-mrsaixmg.ap-south-1.elasticbeanstalk.com/get_recent_published_document_ids', json = {'num_days': 1})\n",
    "recent_articles = json.loads(r.text)['articleIds']"
   ]
  },
  {
   "cell_type": "code",
   "execution_count": 157,
   "id": "935e071b-b62f-44fd-b3d1-67f7e00e60b0",
   "metadata": {
    "tags": []
   },
   "outputs": [],
   "source": [
    "sample_articles = np.random.choice(recent_articles, 30)"
   ]
  },
  {
   "cell_type": "code",
   "execution_count": 156,
   "id": "c8e229b9-9ef2-4b88-afc9-6eee19da48e3",
   "metadata": {
    "tags": []
   },
   "outputs": [],
   "source": [
    "from sql.PostgresDatabaseOperation import PostgresDatabaseOperation\n",
    "from src.articles.ArticleService import ArticleService"
   ]
  },
  {
   "cell_type": "markdown",
   "id": "a6a48c8d-d5a7-49f4-8944-1171379198f6",
   "metadata": {},
   "source": [
    "#### Getting embeddings"
   ]
  },
  {
   "cell_type": "code",
   "execution_count": 92,
   "id": "9cfe1b47-3fbb-4c30-9278-cc381a7a4f75",
   "metadata": {
    "tags": []
   },
   "outputs": [],
   "source": [
    "def get_embedding(article_id):\n",
    "    with PostgresDatabaseOperation() as cursor:\n",
    "        sql = 'SELECT embedding FROM embeddings WHERE article_id = %s'\n",
    "        cursor.execute(sql, (article_id,))\n",
    "        results = cursor.fetchall()\n",
    "    return results[0][0]"
   ]
  },
  {
   "cell_type": "code",
   "execution_count": 158,
   "id": "8df5ff29-33c6-473c-af6d-b8080a79c708",
   "metadata": {
    "tags": []
   },
   "outputs": [],
   "source": [
    "sample_article_embeddings = {x: get_embedding(x) for x in sample_articles}"
   ]
  },
  {
   "cell_type": "code",
   "execution_count": 159,
   "id": "44c8d463-fcac-4cfc-a957-5782b3088b1b",
   "metadata": {
    "tags": []
   },
   "outputs": [
    {
     "data": {
      "text/plain": [
       "dict_keys(['65791e521678087a992964b2', '657956f85b3cac4e9dcc5be3', '65791e551678087a992964d0', '65791e5b1678087a99296542', '65780583b8b4d445277abb81', '65783d471678087a992963e5', '65791e4f1678087a99296490', '65791e4b1678087a9929646b', '65791ed41678087a992965ec', '657956f85b3cac4e9dcc5be5', '65791e5b1678087a99296537', '65783dbb1678087a9929643d', '65791e4f1678087a99296497', '6578050cb8b4d445277abb32', '65791e521678087a992964ae', '65791ed81678087a99296602', '65791e4d1678087a99296481', '657956855b3cac4e9dcc5b87', '6579568c5b3cac4e9dcc5bb5', '65791e5b1678087a9929653f', '65791e571678087a99296500', '6579568b5b3cac4e9dcc5baa', '65791e461678087a9929645c', '65791e521678087a992964c1', '65791e561678087a992964f4', '65780508b8b4d445277abb12', '65783d4d1678087a992963f4', '65791e551678087a992964d4'])"
      ]
     },
     "execution_count": 159,
     "metadata": {},
     "output_type": "execute_result"
    }
   ],
   "source": [
    "sample_article_embeddings.keys()"
   ]
  },
  {
   "cell_type": "code",
   "execution_count": 160,
   "id": "bf56eb2e-42a8-47e1-936e-da510598dbe2",
   "metadata": {
    "scrolled": true,
    "tags": []
   },
   "outputs": [],
   "source": [
    "sample_article_embeddings = {x: [float(x) for x in val[0]] for x, val in sample_article_embeddings.items()}"
   ]
  },
  {
   "cell_type": "markdown",
   "id": "9881ea4e-18aa-4768-963d-8517abc4c3f5",
   "metadata": {},
   "source": [
    "#### Getting article data"
   ]
  },
  {
   "cell_type": "code",
   "execution_count": 161,
   "id": "2286da07-64c8-40be-b53d-b3ea030a5da9",
   "metadata": {
    "tags": []
   },
   "outputs": [],
   "source": [
    "sample_articles_data = {x: ArticleService.get_article_json_from_s3_and_api(x) for x in sample_articles}"
   ]
  },
  {
   "cell_type": "markdown",
   "id": "e8fdc9ea-c23d-4f2c-93af-4e25b8787a0d",
   "metadata": {},
   "source": [
    "#### Calculating distances to stories"
   ]
  },
  {
   "cell_type": "code",
   "execution_count": 162,
   "id": "15c36b14-e84e-4a78-8649-00043b957a0c",
   "metadata": {
    "tags": []
   },
   "outputs": [],
   "source": [
    "story_wise_distances = {x: {} for x in sample_articles}"
   ]
  },
  {
   "cell_type": "code",
   "execution_count": 163,
   "id": "34b3d2e0-4a07-4ac6-a88b-12b39340d2db",
   "metadata": {
    "tags": []
   },
   "outputs": [],
   "source": [
    "# calculating the cosine similarity and manhattan distance for all stories against each article except the outlier story\n",
    "for x in story_wise_distances:\n",
    "    story_wise_distances[x]['manhattan'] = manhattan_distances(np.array([sample_article_embeddings[x]]), list(story_embeddings.values())[1:])\n",
    "    story_wise_distances[x]['cosine'] = cosine_similarity(np.array([sample_article_embeddings[x]]), list(story_embeddings.values())[1:])"
   ]
  },
  {
   "cell_type": "code",
   "execution_count": 165,
   "id": "77089eb9-dd8c-4c32-9558-c0b8795594b8",
   "metadata": {
    "tags": []
   },
   "outputs": [],
   "source": [
    "def get_article_closest_stories(article_id):\n",
    "    article_data = {'title': sample_articles_data[article_id]['title']}\n",
    "    article_data['top_manhattan'] = [story_names[x] for x in np.argsort(story_wise_distances[article_id]['manhattan'])[0][:3]]\n",
    "    article_data['top_cosine'] = [story_names[x] for x in np.argsort(story_wise_distances[article_id]['cosine'])[0][::-1][:3]]\n",
    "    return article_data"
   ]
  },
  {
   "cell_type": "code",
   "execution_count": 166,
   "id": "94b401b4-90cd-4a88-8ebc-ad3db42976da",
   "metadata": {
    "tags": []
   },
   "outputs": [],
   "source": [
    "closest_stories = {x: get_article_closest_stories(x) for x in sample_articles}"
   ]
  },
  {
   "cell_type": "code",
   "execution_count": 167,
   "id": "ced9f4dc-3136-420f-805f-e8c6819c08ef",
   "metadata": {
    "scrolled": true,
    "tags": []
   },
   "outputs": [
    {
     "data": {
      "text/plain": [
       "{'65791e521678087a992964b2': {'title': 'Sbi Life Share Price Live blog for 13 Dec 2023 | Mint',\n",
       "  'top_manhattan': ['75_dec 2023_dec_05 dec_blog 05',\n",
       "   '87_moneycontrol selects_selects stories_selects_moneycontrol',\n",
       "   '217_day morning_started day_scan big_morning scan'],\n",
       "  'top_cosine': ['75_dec 2023_dec_05 dec_blog 05',\n",
       "   '234_mint sbi_sbi_sbi life_sbi closed',\n",
       "   '2_live blog_blog_price live_2023 mint']},\n",
       " '657956f85b3cac4e9dcc5be3': {'title': \"IMF board clears first review of Bangladesh's $4.7 billion bailout - BusinessWorld Online\",\n",
       "  'top_manhattan': ['87_moneycontrol selects_selects stories_selects_moneycontrol',\n",
       "   '160_exam_result_result 2023_class 10',\n",
       "   '217_day morning_started day_scan big_morning scan'],\n",
       "  'top_cosine': ['16_gdp_growth_gdp growth_economy',\n",
       "   '90_bank england_england_ecb_central bank',\n",
       "   '110_cop28_climate_fossil_fossil fuel']},\n",
       " '65791e551678087a992964d0': {'title': \"GTA Online's Chop Shop Update: Check out new vehicles\",\n",
       "  'top_manhattan': ['180_auto standalone_auto_auto consolidated_motor',\n",
       "   '0_standalone_2023 net_net sales_sales rs',\n",
       "   '63_wrapup_weekly wrapup_weekly_sunny'],\n",
       "  'top_cosine': ['3_suzuki_maruti_maruti suzuki_suv',\n",
       "   '56_hero_hero motocorp_motocorp_enfield',\n",
       "   '21_tesla_ev_ford_gm']},\n",
       " '65791e5b1678087a99296542': {'title': 'India imports 1,500 tonnes of Asafoetida annually valued at Rs 940 crore',\n",
       "  'top_manhattan': ['198_trade spotlight_spotlight_today trade_trade',\n",
       "   '163_foods_foods standalone_foods consolidated_food standalone',\n",
       "   '87_moneycontrol selects_selects stories_selects_moneycontrol'],\n",
       "  'top_cosine': ['188_picks report_agri picks_geojit_agri',\n",
       "   '89_wheat_2023 geojit_picks report_agri picks',\n",
       "   '52_usfda_glenmark_pharma_drug']},\n",
       " '65780583b8b4d445277abb81': {'title': 'Motisons Jewellers fixes price band at ₹52-55 for IPO, plans to raise ₹151 crore',\n",
       "  'top_manhattan': ['278_gems standalone_gems_diamond_diamond standalone',\n",
       "   '198_trade spotlight_spotlight_today trade_trade',\n",
       "   '0_standalone_2023 net_net sales_sales rs'],\n",
       "  'top_cosine': ['290_senco_senco gold_vaibhav_gold ipo',\n",
       "   '362_kalyan_kalyan jewellers_jewellers_mint kalyan',\n",
       "   '4_ipo_status_allotment_gmp']},\n",
       " '65783d471678087a992963e5': {'title': 'Debate over bank privatisation rages on, but experts say it is inevitable',\n",
       "  'top_manhattan': ['87_moneycontrol selects_selects stories_selects_moneycontrol',\n",
       "   '160_exam_result_result 2023_class 10',\n",
       "   '217_day morning_started day_scan big_morning scan'],\n",
       "  'top_cosine': ['34_rbi_nbfcs_banks_unsecured',\n",
       "   '81_kotak_uday kotak_uday_md',\n",
       "   '38_bank_net profit_bank q1_profit']},\n",
       " '65791e4f1678087a99296490': {'title': 'Reliance Industries Share Price Live blog for 13 Dec 2023 | Mint',\n",
       "  'top_manhattan': ['75_dec 2023_dec_05 dec_blog 05',\n",
       "   '87_moneycontrol selects_selects stories_selects_moneycontrol',\n",
       "   '217_day morning_started day_scan big_morning scan'],\n",
       "  'top_cosine': ['75_dec 2023_dec_05 dec_blog 05',\n",
       "   '2_live blog_blog_price live_2023 mint',\n",
       "   '230_reliance_reliance industries_ril_mint reliance']},\n",
       " '65791e4b1678087a9929646b': {'title': 'Gujarat State Fertilizers & Chemicals Share Price Live blog for 13 Dec 2023 | Mint',\n",
       "  'top_manhattan': ['75_dec 2023_dec_05 dec_blog 05',\n",
       "   '65_chem_chem standalone_chem consolidated_fert',\n",
       "   '87_moneycontrol selects_selects stories_selects_moneycontrol'],\n",
       "  'top_cosine': ['75_dec 2023_dec_05 dec_blog 05',\n",
       "   '27_chemical_chemicals_target rs_srf',\n",
       "   '2_live blog_blog_price live_2023 mint']},\n",
       " '65791ed41678087a992965ec': {'title': '‘Too many things unaffordable:’ Biden fires up price wars as inflation cools',\n",
       "  'top_manhattan': ['63_wrapup_weekly wrapup_weekly_sunny',\n",
       "   '217_day morning_started day_scan big_morning scan',\n",
       "   '87_moneycontrol selects_selects stories_selects_moneycontrol'],\n",
       "  'top_cosine': ['24_fed_rate_powell_mint fed',\n",
       "   '113_inflation_consumer_consumer sentiment_rose',\n",
       "   '85_debt ceiling_ceiling_debt_shutdown']},\n",
       " '657956f85b3cac4e9dcc5be5': {'title': 'Australia to create navy nuclear safety watchdog for AUKUS - BusinessWorld Online',\n",
       "  'top_manhattan': ['160_exam_result_result 2023_class 10',\n",
       "   '63_wrapup_weekly wrapup_weekly_sunny',\n",
       "   '198_trade spotlight_spotlight_today trade_trade'],\n",
       "  'top_cosine': ['17_power_solar_mw_renewable',\n",
       "   '203_minerals_lithium_critical_mining',\n",
       "   '273_iaf_jets_tejas_engines']},\n",
       " '65791e5b1678087a99296537': {'title': \"Biden says Israel is losing international support because of the 'indiscriminate bombing' in Gaza\",\n",
       "  'top_manhattan': ['63_wrapup_weekly wrapup_weekly_sunny',\n",
       "   '217_day morning_started day_scan big_morning scan',\n",
       "   '71_modi_pm_pm modi_visit'],\n",
       "  'top_cosine': ['173_israel_hamas_gaza_war',\n",
       "   '102_ukraine_russia_russian_wagner',\n",
       "   '103_china_taiwan_xi_yellen']},\n",
       " '65783dbb1678087a9929643d': {'title': 'Children are the best investment for China — Beijing think tank - BusinessWorld Online',\n",
       "  'top_manhattan': ['57_estate investment_investment guide_real estate_estate',\n",
       "   '217_day morning_started day_scan big_morning scan',\n",
       "   '87_moneycontrol selects_selects stories_selects_moneycontrol'],\n",
       "  'top_cosine': ['26_china_evergrande_mint china_property',\n",
       "   '251_population_demographic_india population_demographic dividend',\n",
       "   '16_gdp_growth_gdp growth_economy']},\n",
       " '65791e4f1678087a99296497': {'title': 'Godrej Industries Share Price Live blog for 13 Dec 2023 | Mint',\n",
       "  'top_manhattan': ['75_dec 2023_dec_05 dec_blog 05',\n",
       "   '87_moneycontrol selects_selects stories_selects_moneycontrol',\n",
       "   '198_trade spotlight_spotlight_today trade_trade'],\n",
       "  'top_cosine': ['75_dec 2023_dec_05 dec_blog 05',\n",
       "   '2_live blog_blog_price live_2023 mint',\n",
       "   '294_godrej consumer_godrej_consumer_consumer products']},\n",
       " '6578050cb8b4d445277abb32': {'title': 'Mahindra and Mahindra gains on higher production, sales volumes',\n",
       "  'top_manhattan': ['180_auto standalone_auto_auto consolidated_motor',\n",
       "   '0_standalone_2023 net_net sales_sales rs',\n",
       "   '43_steel standalone_steel_metals_steels'],\n",
       "  'top_cosine': ['121_mahindra_mahindra mahindra_buy mahindra_mahindra cie',\n",
       "   '180_auto standalone_auto_auto consolidated_motor',\n",
       "   '207_tech mahindra_mahindra_mint tech_mahindra closed']},\n",
       " '65791e521678087a992964ae': {'title': 'Axis Bank Share Price Live blog for 13 Dec 2023 | Mint',\n",
       "  'top_manhattan': ['75_dec 2023_dec_05 dec_blog 05',\n",
       "   '87_moneycontrol selects_selects stories_selects_moneycontrol',\n",
       "   '198_trade spotlight_spotlight_today trade_trade'],\n",
       "  'top_cosine': ['75_dec 2023_dec_05 dec_blog 05',\n",
       "   '179_axis bank_axis_mint axis_bank closed',\n",
       "   '2_live blog_blog_price live_2023 mint']},\n",
       " '65791ed81678087a99296602': {'title': \"Advance tax deadline only 4 days away: Who's exempted from paying it?\",\n",
       "  'top_manhattan': ['160_exam_result_result 2023_class 10',\n",
       "   '87_moneycontrol selects_selects stories_selects_moneycontrol',\n",
       "   '217_day morning_started day_scan big_morning scan'],\n",
       "  'top_cosine': ['15_income tax_tax_income_itr',\n",
       "   '220_tax_irs_taxes_form 1099',\n",
       "   '141_gst_gst council_council_fake']},\n",
       " '65791e4d1678087a99296481': {'title': 'Campus Activewear Share Price Live blog for 13 Dec 2023 | Mint',\n",
       "  'top_manhattan': ['75_dec 2023_dec_05 dec_blog 05',\n",
       "   '160_exam_result_result 2023_class 10',\n",
       "   '87_moneycontrol selects_selects stories_selects_moneycontrol'],\n",
       "  'top_cosine': ['75_dec 2023_dec_05 dec_blog 05',\n",
       "   '142_birla fashion_bata_fashion_aditya birla',\n",
       "   '327_04 jul_jul 2023_jul_blog 04']},\n",
       " '657956855b3cac4e9dcc5b87': {'title': \"Elon Musk's humanoid robot can do squats and boil eggs. All you need to know about Optimus Gen-2 | Mint\",\n",
       "  'top_manhattan': ['63_wrapup_weekly wrapup_weekly_sunny',\n",
       "   '160_exam_result_result 2023_class 10',\n",
       "   '271_manual_manual nifty_nifty_strike manual'],\n",
       "  'top_cosine': ['21_tesla_ev_ford_gm',\n",
       "   '42_twitter_musk_elon_elon musk',\n",
       "   '3_suzuki_maruti_maruti suzuki_suv']},\n",
       " '6579568c5b3cac4e9dcc5bb5': {'title': 'Making losses on 9.20 short straddle? Backtest suggests adjustments to improve strategy',\n",
       "  'top_manhattan': ['271_manual_manual nifty_nifty_strike manual',\n",
       "   '177_technical view_view_view nifty_technical',\n",
       "   '198_trade spotlight_spotlight_today trade_trade'],\n",
       "  'top_cosine': ['271_manual_manual nifty_nifty_strike manual',\n",
       "   '92_options_option_futures_option strategies',\n",
       "   '225_hot stocks_hot_term hot_short term']},\n",
       " '65791e5b1678087a9929653f': {'title': 'Walmart sources bicycles from India, partners Hero Ecotech',\n",
       "  'top_manhattan': ['63_wrapup_weekly wrapup_weekly_sunny',\n",
       "   '198_trade spotlight_spotlight_today trade_trade',\n",
       "   '160_exam_result_result 2023_class 10'],\n",
       "  'top_cosine': ['56_hero_hero motocorp_motocorp_enfield',\n",
       "   '171_mandaviya_fssai_mansukh_mansukh mandaviya',\n",
       "   '79_walmart_bed bath_bath_bed']},\n",
       " '65791e571678087a99296500': {'title': \"Afro-pop singer who was listed among the BBC's 100 Women, Singer Zahara passes away\",\n",
       "  'top_manhattan': ['160_exam_result_result 2023_class 10',\n",
       "   '329_health standalone_health_health consolidated_zota health',\n",
       "   '243_data protection_protection_data_dpdp'],\n",
       "  'top_cosine': ['171_mandaviya_fssai_mansukh_mansukh mandaviya',\n",
       "   '324_zydus_zydus lifesciences_lifesciences_usfda',\n",
       "   '360_richest_ambani_mukesh ambani_mukesh']},\n",
       " '6579568b5b3cac4e9dcc5baa': {'title': 'Inox India’s OFS to raise Rs 1,459 cr opens Dec 14',\n",
       "  'top_manhattan': ['198_trade spotlight_spotlight_today trade_trade',\n",
       "   '65_chem_chem standalone_chem consolidated_fert',\n",
       "   '157_polymers_polymers standalone_poly_plastics'],\n",
       "  'top_cosine': ['4_ipo_status_allotment_gmp',\n",
       "   '27_chemical_chemicals_target rs_srf',\n",
       "   '205_pvr_pvr inox_inox_mint pvr']},\n",
       " '65791e461678087a9929645c': {'title': 'Reliance Infrastructure Share Price Live blog for 13 Dec 2023 | Mint',\n",
       "  'top_manhattan': ['75_dec 2023_dec_05 dec_blog 05',\n",
       "   '87_moneycontrol selects_selects stories_selects_moneycontrol',\n",
       "   '59_infra_infra standalone_infra consolidated_2023 net'],\n",
       "  'top_cosine': ['75_dec 2023_dec_05 dec_blog 05',\n",
       "   '2_live blog_blog_price live_2023 mint',\n",
       "   '204_persistent_persistent systems_systems_kpit']},\n",
       " '65791e521678087a992964c1': {'title': 'Dividend stock 2023: Rashtriya Chemicals & Fertilizers (RCF) shares to trade ex-dividend today | Mint',\n",
       "  'top_manhattan': ['65_chem_chem standalone_chem consolidated_fert',\n",
       "   '0_standalone_2023 net_net sales_sales rs',\n",
       "   '222_hind_petro_petro standalone_petro consolidated'],\n",
       "  'top_cosine': ['258_ex dividend_dividend_ex_trade ex',\n",
       "   '27_chemical_chemicals_target rs_srf',\n",
       "   '46_multibagger_bonus_multibagger stock_mint multibagger']},\n",
       " '65791e561678087a992964f4': {'title': \"Dictionary.com chooses 'hallucinate' as 2023's Word of the Year. Here's why\",\n",
       "  'top_manhattan': ['63_wrapup_weekly wrapup_weekly_sunny',\n",
       "   '277_puzzle_wordle_quordle_clues',\n",
       "   '160_exam_result_result 2023_class 10'],\n",
       "  'top_cosine': ['18_ai_chatgpt_generative_generative ai',\n",
       "   '20_job_work_people_mark cuban',\n",
       "   '277_puzzle_wordle_quordle_clues']},\n",
       " '65780508b8b4d445277abb12': {'title': 'Torrent Pharma shares gain after US FDA completes inspection',\n",
       "  'top_manhattan': ['149_pharma standalone_pharma_pharma consolidated_pharm',\n",
       "   '198_trade spotlight_spotlight_today trade_trade',\n",
       "   '87_moneycontrol selects_selects stories_selects_moneycontrol'],\n",
       "  'top_cosine': ['52_usfda_glenmark_pharma_drug',\n",
       "   '158_cipla_pharma_sun pharma_sun',\n",
       "   '27_chemical_chemicals_target rs_srf']},\n",
       " '65783d4d1678087a992963f4': {'title': 'Tata Motors reports highest-ever monthly retail sales in November',\n",
       "  'top_manhattan': ['180_auto standalone_auto_auto consolidated_motor',\n",
       "   '0_standalone_2023 net_net sales_sales rs',\n",
       "   '76_spinning standalone_spinning_textiles standalone_textiles'],\n",
       "  'top_cosine': ['3_suzuki_maruti_maruti suzuki_suv',\n",
       "   '136_tata motors_motors_jlr_tata',\n",
       "   '288_festive_amazon_festive season_flipkart']},\n",
       " '65791e551678087a992964d4': {'title': 'India Shelter Finance IPO opens today. GMP, price, review, other details. Should you apply? | Mint',\n",
       "  'top_manhattan': ['87_moneycontrol selects_selects stories_selects_moneycontrol',\n",
       "   '208_realty consolidated_realty_realty standalone_housing fin',\n",
       "   '198_trade spotlight_spotlight_today trade_trade'],\n",
       "  'top_cosine': ['4_ipo_status_allotment_gmp',\n",
       "   '166_small finance_finance bank_bank ipo_sbfc',\n",
       "   '95_housing finance_housing_creditaccess_creditaccess grameen']}}"
      ]
     },
     "execution_count": 167,
     "metadata": {},
     "output_type": "execute_result"
    }
   ],
   "source": [
    "closest_stories"
   ]
  },
  {
   "cell_type": "code",
   "execution_count": 181,
   "id": "945ba2b4-0237-4304-8a0b-61991fe11915",
   "metadata": {
    "tags": []
   },
   "outputs": [],
   "source": [
    "def get_approximate_cluster_details_for_article(article_embeddings):\n",
    "    # calculating cosine similarity for all stories except outlier\n",
    "    cluster_details = {}\n",
    "    sim_matrix = cosine_similarity([article_embeddings], list(story_embeddings.values())[1:])\n",
    "    cluster_details['storyline_id'] = np.argmax(sim_matrix)  # doing -1 for the outlier\n",
    "    cluster_details['cluster_id'] = story_cluster_mapping[str(cluster_details['storyline_id'])]\n",
    "    return cluster_details"
   ]
  },
  {
   "cell_type": "code",
   "execution_count": 179,
   "id": "8d8d40a5-4a81-4f04-8db4-32e9c29c91ac",
   "metadata": {
    "tags": []
   },
   "outputs": [],
   "source": [
    "from sql.clustering.ClusteringSQL import ClusteringSQL"
   ]
  },
  {
   "cell_type": "code",
   "execution_count": 173,
   "id": "95d1ab35-466d-4c33-9001-875c21e04225",
   "metadata": {
    "tags": []
   },
   "outputs": [
    {
     "data": {
      "text/plain": [
       "'65791e521678087a992964b2'"
      ]
     },
     "execution_count": 173,
     "metadata": {},
     "output_type": "execute_result"
    }
   ],
   "source": [
    "sample_articles[0]"
   ]
  },
  {
   "cell_type": "code",
   "execution_count": 178,
   "id": "8712876a-2fdd-47f7-8957-936b80d585ab",
   "metadata": {
    "scrolled": true,
    "tags": []
   },
   "outputs": [
    {
     "data": {
      "text/plain": [
       "{'11': 736,\n",
       " '24': 736,\n",
       " '32': 736,\n",
       " '45': 736,\n",
       " '58': 736,\n",
       " '64': 736,\n",
       " '69': 736,\n",
       " '80': 736,\n",
       " '90': 736,\n",
       " '96': 736,\n",
       " '113': 736,\n",
       " '114': 736,\n",
       " '117': 736,\n",
       " '131': 736,\n",
       " '132': 736,\n",
       " '143': 736,\n",
       " '153': 736,\n",
       " '177': 736,\n",
       " '181': 736,\n",
       " '196': 736,\n",
       " '211': 736,\n",
       " '223': 736,\n",
       " '224': 736,\n",
       " '233': 736,\n",
       " '248': 736,\n",
       " '254': 736,\n",
       " '271': 736,\n",
       " '276': 736,\n",
       " '295': 736,\n",
       " '315': 736,\n",
       " '333': 736,\n",
       " '346': 736,\n",
       " '354': 736,\n",
       " '357': 736,\n",
       " '369': 736,\n",
       " '13': 729,\n",
       " '22': 729,\n",
       " '39': 729,\n",
       " '47': 729,\n",
       " '66': 729,\n",
       " '92': 729,\n",
       " '93': 729,\n",
       " '111': 729,\n",
       " '182': 729,\n",
       " '195': 729,\n",
       " '221': 729,\n",
       " '228': 729,\n",
       " '284': 729,\n",
       " '328': 729,\n",
       " '2': 727,\n",
       " '3': 727,\n",
       " '6': 727,\n",
       " '38': 727,\n",
       " '41': 727,\n",
       " '50': 727,\n",
       " '56': 727,\n",
       " '60': 727,\n",
       " '72': 727,\n",
       " '75': 727,\n",
       " '81': 727,\n",
       " '101': 727,\n",
       " '121': 727,\n",
       " '125': 727,\n",
       " '126': 727,\n",
       " '134': 727,\n",
       " '136': 727,\n",
       " '158': 727,\n",
       " '159': 727,\n",
       " '178': 727,\n",
       " '179': 727,\n",
       " '185': 727,\n",
       " '189': 727,\n",
       " '191': 727,\n",
       " '207': 727,\n",
       " '216': 727,\n",
       " '232': 727,\n",
       " '234': 727,\n",
       " '235': 727,\n",
       " '238': 727,\n",
       " '261': 727,\n",
       " '262': 727,\n",
       " '273': 727,\n",
       " '274': 727,\n",
       " '283': 727,\n",
       " '289': 727,\n",
       " '293': 727,\n",
       " '312': 727,\n",
       " '317': 727,\n",
       " '321': 727,\n",
       " '326': 727,\n",
       " '327': 727,\n",
       " '335': 727,\n",
       " '340': 727,\n",
       " '348': 727,\n",
       " '349': 727,\n",
       " '364': 727,\n",
       " '366': 727,\n",
       " '368': 727,\n",
       " '12': 726,\n",
       " '15': 726,\n",
       " '25': 726,\n",
       " '30': 726,\n",
       " '34': 726,\n",
       " '35': 726,\n",
       " '57': 726,\n",
       " '91': 726,\n",
       " '99': 726,\n",
       " '112': 726,\n",
       " '128': 726,\n",
       " '138': 726,\n",
       " '141': 726,\n",
       " '146': 726,\n",
       " '168': 726,\n",
       " '193': 726,\n",
       " '201': 726,\n",
       " '220': 726,\n",
       " '264': 726,\n",
       " '268': 726,\n",
       " '279': 726,\n",
       " '286': 726,\n",
       " '287': 726,\n",
       " '297': 726,\n",
       " '300': 726,\n",
       " '303': 726,\n",
       " '305': 726,\n",
       " '320': 726,\n",
       " '344': 726,\n",
       " '9': 717,\n",
       " '17': 717,\n",
       " '31': 717,\n",
       " '46': 717,\n",
       " '49': 717,\n",
       " '70': 717,\n",
       " '86': 717,\n",
       " '95': 717,\n",
       " '105': 717,\n",
       " '115': 717,\n",
       " '122': 717,\n",
       " '129': 717,\n",
       " '133': 717,\n",
       " '144': 717,\n",
       " '145': 717,\n",
       " '154': 717,\n",
       " '166': 717,\n",
       " '167': 717,\n",
       " '169': 717,\n",
       " '200': 717,\n",
       " '214': 717,\n",
       " '229': 717,\n",
       " '230': 717,\n",
       " '239': 717,\n",
       " '241': 717,\n",
       " '245': 717,\n",
       " '253': 717,\n",
       " '255': 717,\n",
       " '257': 717,\n",
       " '258': 717,\n",
       " '263': 717,\n",
       " '270': 717,\n",
       " '281': 717,\n",
       " '308': 717,\n",
       " '341': 717,\n",
       " '345': 717,\n",
       " '363': 717,\n",
       " '27': 712,\n",
       " '29': 712,\n",
       " '48': 712,\n",
       " '88': 712,\n",
       " '94': 712,\n",
       " '104': 712,\n",
       " '116': 712,\n",
       " '124': 712,\n",
       " '137': 712,\n",
       " '140': 712,\n",
       " '142': 712,\n",
       " '147': 712,\n",
       " '165': 712,\n",
       " '175': 712,\n",
       " '187': 712,\n",
       " '209': 712,\n",
       " '215': 712,\n",
       " '218': 712,\n",
       " '226': 712,\n",
       " '242': 712,\n",
       " '260': 712,\n",
       " '265': 712,\n",
       " '294': 712,\n",
       " '313': 712,\n",
       " '352': 712,\n",
       " '359': 712,\n",
       " '367': 712,\n",
       " '18': 706,\n",
       " '21': 706,\n",
       " '42': 706,\n",
       " '97': 706,\n",
       " '151': 706,\n",
       " '183': 706,\n",
       " '184': 706,\n",
       " '210': 706,\n",
       " '275': 706,\n",
       " '288': 706,\n",
       " '339': 706,\n",
       " '16': 702,\n",
       " '19': 702,\n",
       " '26': 702,\n",
       " '71': 702,\n",
       " '78': 702,\n",
       " '102': 702,\n",
       " '103': 702,\n",
       " '119': 702,\n",
       " '135': 702,\n",
       " '161': 702,\n",
       " '186': 702,\n",
       " '247': 702,\n",
       " '251': 702,\n",
       " '322': 702,\n",
       " '323': 702,\n",
       " '356': 702,\n",
       " '5': 697,\n",
       " '10': 697,\n",
       " '173': 697,\n",
       " '206': 697,\n",
       " '219': 697,\n",
       " '231': 697,\n",
       " '304': 697,\n",
       " '334': 697,\n",
       " '23': 694,\n",
       " '44': 694,\n",
       " '55': 694,\n",
       " '108': 694,\n",
       " '156': 694,\n",
       " '170': 694,\n",
       " '225': 694,\n",
       " '256': 694,\n",
       " '314': 694,\n",
       " '336': 694,\n",
       " '361': 694,\n",
       " '28': 682,\n",
       " '33': 682,\n",
       " '61': 682,\n",
       " '63': 682,\n",
       " '67': 682,\n",
       " '68': 682,\n",
       " '79': 682,\n",
       " '82': 682,\n",
       " '84': 682,\n",
       " '87': 682,\n",
       " '98': 682,\n",
       " '123': 682,\n",
       " '127': 682,\n",
       " '155': 682,\n",
       " '160': 682,\n",
       " '162': 682,\n",
       " '164': 682,\n",
       " '198': 682,\n",
       " '202': 682,\n",
       " '204': 682,\n",
       " '205': 682,\n",
       " '217': 682,\n",
       " '236': 682,\n",
       " '249': 682,\n",
       " '277': 682,\n",
       " '285': 682,\n",
       " '291': 682,\n",
       " '301': 682,\n",
       " '302': 682,\n",
       " '307': 682,\n",
       " '311': 682,\n",
       " '316': 682,\n",
       " '319': 682,\n",
       " '332': 682,\n",
       " '337': 682,\n",
       " '338': 682,\n",
       " '342': 682,\n",
       " '343': 682,\n",
       " '347': 682,\n",
       " '350': 682,\n",
       " '351': 682,\n",
       " '353': 682,\n",
       " '360': 682,\n",
       " '362': 682,\n",
       " '1': 676,\n",
       " '14': 676,\n",
       " '51': 676,\n",
       " '54': 676,\n",
       " '85': 676,\n",
       " '110': 676,\n",
       " '150': 676,\n",
       " '171': 676,\n",
       " '174': 676,\n",
       " '176': 676,\n",
       " '203': 676,\n",
       " '212': 676,\n",
       " '237': 676,\n",
       " '243': 676,\n",
       " '250': 676,\n",
       " '280': 676,\n",
       " '296': 676,\n",
       " '306': 676,\n",
       " '310': 676,\n",
       " '325': 676,\n",
       " '358': 676,\n",
       " '7': 672,\n",
       " '8': 672,\n",
       " '62': 672,\n",
       " '106': 672,\n",
       " '130': 672,\n",
       " '172': 672,\n",
       " '199': 672,\n",
       " '298': 672,\n",
       " '20': 647,\n",
       " '37': 647,\n",
       " '74': 647,\n",
       " '148': 647,\n",
       " '252': 647,\n",
       " '267': 647,\n",
       " '370': 647,\n",
       " '53': 639,\n",
       " '100': 639,\n",
       " '107': 639,\n",
       " '266': 639,\n",
       " '4': 617,\n",
       " '152': 617,\n",
       " '192': 617,\n",
       " '213': 617,\n",
       " '227': 617,\n",
       " '269': 617,\n",
       " '290': 617,\n",
       " '292': 617,\n",
       " '299': 617,\n",
       " '355': 617,\n",
       " '365': 617,\n",
       " '139': 586,\n",
       " '194': 586,\n",
       " '309': 586,\n",
       " '36': 571,\n",
       " '73': 571,\n",
       " '77': 571,\n",
       " '190': 571,\n",
       " '197': 571,\n",
       " '0': 544,\n",
       " '40': 544,\n",
       " '43': 544,\n",
       " '59': 544,\n",
       " '65': 544,\n",
       " '76': 544,\n",
       " '83': 544,\n",
       " '109': 544,\n",
       " '118': 544,\n",
       " '120': 544,\n",
       " '149': 544,\n",
       " '157': 544,\n",
       " '163': 544,\n",
       " '180': 544,\n",
       " '208': 544,\n",
       " '222': 544,\n",
       " '240': 544,\n",
       " '259': 544,\n",
       " '278': 544,\n",
       " '318': 544,\n",
       " '329': 544,\n",
       " '52': 452,\n",
       " '246': 452,\n",
       " '324': 452,\n",
       " '272': 429,\n",
       " '331': 429,\n",
       " '244': 412,\n",
       " '282': 412,\n",
       " '330': 412,\n",
       " '89': 375,\n",
       " '188': 375}"
      ]
     },
     "execution_count": 178,
     "metadata": {},
     "output_type": "execute_result"
    }
   ],
   "source": [
    "story_cluster_mapping"
   ]
  },
  {
   "cell_type": "code",
   "execution_count": 184,
   "id": "62b83bfd-239f-46a9-b41d-81d8fdfae178",
   "metadata": {
    "tags": []
   },
   "outputs": [],
   "source": [
    "def save_cluster_details_for_article_id_to_db(article_id, article_dict: dict, clustering_run_id: str):\n",
    "\n",
    "    with PostgresDatabaseOperation() as cursor:\n",
    "        # first truncate the data in live table\n",
    "        insert_sql = f\"\"\"\n",
    "                        INSERT INTO article_to_cluster_mapping \n",
    "                         (article_id, storyline_id, cluster_id, clustering_run_id, storyline_prob, story_cluster_id, max_agg_cluster_id, agg_cluster_prob)\n",
    "                         VALUES (%s, %s, %s, %s, %s, %s, %s, %s)\n",
    "                    \"\"\"\n",
    "        cursor.execute(insert_sql, (\n",
    "            article_id,\n",
    "            int(article_dict['storyline_id']),\n",
    "            int(article_dict['cluster_id']),\n",
    "            clustering_run_id,\n",
    "            article_dict.get('storyline_prob', None),\n",
    "            article_dict.get('story_cluster_id', None),\n",
    "            article_dict.get('max_agg_cluster_id', None),\n",
    "            article_dict.get('agg_cluster_prob', None)\n",
    "        ))\n",
    "    return"
   ]
  },
  {
   "cell_type": "code",
   "execution_count": 177,
   "id": "46728f3b-f6a8-4211-a293-1e5fb38a0837",
   "metadata": {
    "tags": []
   },
   "outputs": [
    {
     "data": {
      "text/plain": [
       "75"
      ]
     },
     "execution_count": 177,
     "metadata": {},
     "output_type": "execute_result"
    }
   ],
   "source": [
    "np.argmax(cosine_similarity([sample_article_embeddings['65791e521678087a992964b2']], list(story_embeddings.values())[1:]))"
   ]
  },
  {
   "cell_type": "code",
   "execution_count": 185,
   "id": "eef8fceb-4e53-455f-a0a5-703dd363e1fa",
   "metadata": {
    "tags": []
   },
   "outputs": [],
   "source": [
    "cluster_details = get_approximate_cluster_details_for_article(sample_article_embeddings['65791e521678087a992964b2'])"
   ]
  },
  {
   "cell_type": "code",
   "execution_count": 186,
   "id": "fce14a3a-96e3-4f2c-b2b2-60149b56f0cf",
   "metadata": {
    "tags": []
   },
   "outputs": [
    {
     "data": {
      "text/plain": [
       "'TomatoEmeraldCandle'"
      ]
     },
     "execution_count": 186,
     "metadata": {},
     "output_type": "execute_result"
    }
   ],
   "source": [
    "run_id"
   ]
  },
  {
   "cell_type": "code",
   "execution_count": 188,
   "id": "31f6a4d8-6b95-4cbe-bab5-97f102ab534e",
   "metadata": {
    "tags": []
   },
   "outputs": [],
   "source": [
    "from src._utils import load_bertopic_model_from_hf"
   ]
  },
  {
   "cell_type": "code",
   "execution_count": 190,
   "id": "6defb76a-aa12-41d1-933b-fdcdb1df857b",
   "metadata": {
    "tags": []
   },
   "outputs": [
    {
     "data": {
      "application/vnd.jupyter.widget-view+json": {
       "model_id": "d0dfb4da40554a0b9e8085b9f8dcd5aa",
       "version_major": 2,
       "version_minor": 0
      },
      "text/plain": [
       "topics.json:   0%|          | 0.00/1.25M [00:00<?, ?B/s]"
      ]
     },
     "metadata": {},
     "output_type": "display_data"
    },
    {
     "data": {
      "application/vnd.jupyter.widget-view+json": {
       "model_id": "41178ce114714fdea332a4e04accc195",
       "version_major": 2,
       "version_minor": 0
      },
      "text/plain": [
       "config.json:   0%|          | 0.00/230 [00:00<?, ?B/s]"
      ]
     },
     "metadata": {},
     "output_type": "display_data"
    },
    {
     "data": {
      "application/vnd.jupyter.widget-view+json": {
       "model_id": "c6db7f964845437285a52a429d6ac318",
       "version_major": 2,
       "version_minor": 0
      },
      "text/plain": [
       "topic_embeddings.safetensors:   0%|          | 0.00/1.52M [00:00<?, ?B/s]"
      ]
     },
     "metadata": {},
     "output_type": "display_data"
    },
    {
     "data": {
      "application/vnd.jupyter.widget-view+json": {
       "model_id": "00cca1e796ce47feab3d0c7257d818d7",
       "version_major": 2,
       "version_minor": 0
      },
      "text/plain": [
       "ctfidf_config.json:   0%|          | 0.00/16.0M [00:00<?, ?B/s]"
      ]
     },
     "metadata": {},
     "output_type": "display_data"
    },
    {
     "data": {
      "application/vnd.jupyter.widget-view+json": {
       "model_id": "c4286a882ce445db91f1cef6f52cb5f3",
       "version_major": 2,
       "version_minor": 0
      },
      "text/plain": [
       "ctfidf.safetensors:   0%|          | 0.00/14.3M [00:00<?, ?B/s]"
      ]
     },
     "metadata": {},
     "output_type": "display_data"
    }
   ],
   "source": [
    "hf_model = load_bertopic_model_from_hf(run_id = run_id)"
   ]
  },
  {
   "cell_type": "code",
   "execution_count": 193,
   "id": "adc139b1-02cc-44a1-a24e-5ebe006ea552",
   "metadata": {
    "scrolled": true,
    "tags": []
   },
   "outputs": [
    {
     "data": {
      "text/plain": [
       "([79,\n",
       "  285,\n",
       "  -1,\n",
       "  208,\n",
       "  76,\n",
       "  0,\n",
       "  142,\n",
       "  43,\n",
       "  83,\n",
       "  40,\n",
       "  288,\n",
       "  149,\n",
       "  215,\n",
       "  88,\n",
       "  278,\n",
       "  222,\n",
       "  65,\n",
       "  267,\n",
       "  12,\n",
       "  118,\n",
       "  180,\n",
       "  157,\n",
       "  163,\n",
       "  259,\n",
       "  120,\n",
       "  344,\n",
       "  147,\n",
       "  329,\n",
       "  3,\n",
       "  209],\n",
       " [0.68069476,\n",
       "  0.66753304,\n",
       "  0.66737235,\n",
       "  0.6551521,\n",
       "  0.65170205,\n",
       "  0.6503667,\n",
       "  0.6493062,\n",
       "  0.64658105,\n",
       "  0.645731,\n",
       "  0.6434041,\n",
       "  0.64321506,\n",
       "  0.64306605,\n",
       "  0.6429286,\n",
       "  0.6418499,\n",
       "  0.63972217,\n",
       "  0.6391914,\n",
       "  0.63761747,\n",
       "  0.63719004,\n",
       "  0.63717055,\n",
       "  0.6369741,\n",
       "  0.63653916,\n",
       "  0.6363202,\n",
       "  0.63521266,\n",
       "  0.6328662,\n",
       "  0.6315385,\n",
       "  0.6314287,\n",
       "  0.6300843,\n",
       "  0.627578,\n",
       "  0.62686884,\n",
       "  0.62647474])"
      ]
     },
     "execution_count": 193,
     "metadata": {},
     "output_type": "execute_result"
    }
   ],
   "source": [
    "hf_model.find_topics('sales', top_n=30)"
   ]
  },
  {
   "cell_type": "code",
   "execution_count": 187,
   "id": "6f9e68f6-f768-4821-8059-7800f5d7dc28",
   "metadata": {
    "tags": []
   },
   "outputs": [],
   "source": [
    "save_cluster_details_for_article_id_to_db(article_id='65791e521678087a992964b2',article_dict=cluster_details, clustering_run_id=run_id)"
   ]
  },
  {
   "cell_type": "markdown",
   "id": "01362b18-d080-4eac-b70e-46ba43313e74",
   "metadata": {},
   "source": [
    "### Conclusion\n",
    "\n",
    "- By observing the results, it is clear that cosine similarity is a much better measure of finding the closest story"
   ]
  },
  {
   "cell_type": "code",
   "execution_count": null,
   "id": "496c78bf-18cd-4e85-a47a-207b536d2e1d",
   "metadata": {},
   "outputs": [],
   "source": []
  }
 ],
 "metadata": {
  "kernelspec": {
   "display_name": "bertopicenv",
   "language": "python",
   "name": "bertopicenv"
  },
  "language_info": {
   "codemirror_mode": {
    "name": "ipython",
    "version": 3
   },
   "file_extension": ".py",
   "mimetype": "text/x-python",
   "name": "python",
   "nbconvert_exporter": "python",
   "pygments_lexer": "ipython3",
   "version": "3.9.18"
  }
 },
 "nbformat": 4,
 "nbformat_minor": 5
}
