{
 "cells": [
  {
   "cell_type": "code",
   "execution_count": 1,
   "id": "0c1f50e0-592f-4a92-ad52-dfe47a9f69b7",
   "metadata": {
    "tags": []
   },
   "outputs": [],
   "source": [
    "parent_folder = '/Users/ravi.tej/Desktop/ML/Recommendations/arcane/'\n",
    "from hydra import compose, initialize\n",
    "import os\n",
    "\n",
    "import xml.etree.ElementTree as ET\n",
    "\n",
    "tree = ET.parse('../../conf/application.run.xml')\n",
    "root = tree.getroot()\n",
    "\n",
    "envs_element = root.find('./configuration/envs')\n",
    "for variable in envs_element.findall('env'):\n",
    "    name = variable.get('name')\n",
    "    value = variable.get('value')\n",
    "    os.environ[name] = value\n",
    "\n",
    "import sys\n",
    "sys.path.append('/Users/ravi.tej/Desktop/ML/Recommendations/arcane/')\n",
    "import pandas as pd\n",
    "\n",
    "os.environ['PATH'] = '/Users/ravi.tej/anaconda3/envs/bertopicenv/bin:/Users/ravi.tej/anaconda3/condabin:/usr/bin:/bin:/usr/sbin:/sbin'"
   ]
  },
  {
   "cell_type": "code",
   "execution_count": 2,
   "id": "25e1b9f6-f629-41a6-a2b7-3bf8481f7e19",
   "metadata": {
    "tags": []
   },
   "outputs": [],
   "source": [
    "import requests\n",
    "from datetime import datetime\n",
    "import time\n",
    "import json\n",
    "from concurrent.futures import ThreadPoolExecutor, as_completed"
   ]
  },
  {
   "cell_type": "code",
   "execution_count": 3,
   "id": "87dc42ef-7646-4384-b736-8a3ee3e9675f",
   "metadata": {
    "tags": []
   },
   "outputs": [],
   "source": [
    "from src.articles.ArticleAttributesService import ArticleAttributesService"
   ]
  },
  {
   "cell_type": "code",
   "execution_count": 4,
   "id": "59c46f39-8179-4631-a3cd-eb47280ec8bc",
   "metadata": {
    "tags": []
   },
   "outputs": [
    {
     "name": "stderr",
     "output_type": "stream",
     "text": [
      "Special tokens have been added in the vocabulary, make sure the associated word embeddings are fine-tuned or trained.\n",
      "Special tokens have been added in the vocabulary, make sure the associated word embeddings are fine-tuned or trained.\n"
     ]
    }
   ],
   "source": [
    "aas = ArticleAttributesService()"
   ]
  },
  {
   "cell_type": "code",
   "execution_count": 5,
   "id": "bf0b71ed-6391-47ec-a07b-ad0bfbd9057e",
   "metadata": {
    "tags": []
   },
   "outputs": [],
   "source": [
    "from src.articles.ArticleService import ArticleService"
   ]
  },
  {
   "cell_type": "code",
   "execution_count": 6,
   "id": "46f5f34b-d85e-46bc-8d9f-8476d9dad243",
   "metadata": {
    "tags": []
   },
   "outputs": [],
   "source": [
    "article_id = '65dc6f3d1f6d9144de7ee6c4'"
   ]
  },
  {
   "cell_type": "code",
   "execution_count": 7,
   "id": "4457fb75-edad-4659-993b-21a117aebbe4",
   "metadata": {
    "tags": []
   },
   "outputs": [],
   "source": [
    "article = ArticleService.get_Article(article_id=article_id)"
   ]
  },
  {
   "cell_type": "code",
   "execution_count": 8,
   "id": "4ee6f91c-143c-4f2f-88fc-47483571694c",
   "metadata": {
    "tags": []
   },
   "outputs": [],
   "source": [
    "prompt = aas.generate_prompt(article_content=article.full_content)"
   ]
  },
  {
   "cell_type": "code",
   "execution_count": 9,
   "id": "80bf9c9b-d5cb-4ed4-8098-aa351d1b8e0f",
   "metadata": {
    "scrolled": true,
    "tags": []
   },
   "outputs": [
    {
     "data": {
      "text/plain": [
       "'<|im_start|>system\\nYou are an expert chief editor for a leading Indian business and financial content website. You evaluate critical attributes of articles to gatekeep content quality. The following are 19 attributes with the format of attribute (datatype): <instruction>\\n        \\'{\"summary\": \"<Summarize the article, focusing on: a. Thoroughness: Include essential details and expand on headline points. b. Readability: Ensure proper grammar, 2-3 points, up to 80 words. c. Faithfulness: Don\\'t mention any details which are not part of the article. d. Accuracy: Verify numbers, dates, and events. f. Structure: Single-line points preceded by relevant emoji and label. g. Format: Use !emoji! label: point format without preamble/postamble, adhering to a 3-point maximum. We will call this format as _summary_markdown_format_ -> \\'!emoji1! label1: point1 \\\\n !emoji2! label2: point2. The platform is visited by users of all age groups and hence do not use any inappropriate content or emojis>\", \"summary_critique\": \"<Evaluate the summary against the article for thoroughness, readability, faithfulness, accuracy, and the _summary_markdown_format_, noting any missed details or format issues. Emoji should be in unicode format>\", \"improved_summary\": \"<Improve the summary using feedback from the critique, following the _summary_markdown_format_>\", \"top_queries\": \"<List 5 relevant keywords/queries, separated by semicolons, without quotes to ensure JSON compatibility. keywords are short 1-2 words, while queries last from 3-6 words>\", \"indian_or_international\": \"<Specify if the article is \\'indian\\' or \\'international\\'>\", \"business_or_financial_article\": \"<True or False, based on the article\\'s relevance to Indian corporations, investors, and policies impacting them>\", \"relevant_for_indians\": \"<True or False, considering the article\\'s applicability to Indian readers. Most international news are not relevant for Indians, except if they are of very popular entities (like google, openai, Microsoft) or have global impact like fed changes>\", \"category\": \"<categorize the article into one of the 5 distinct categories based on the primary focus of article. a. irrelevant: if business_or_financial_article is False  b. financial: information of markets, financial instruments or company financial reports. c. business: information of operational, strategic, leadership or other non financial news of companies. d. economic_policy: information of economic trends or policy and regulatory impacts on larger industry. e. personal_finance: provides guidance on individual financial management, such as investment for personal goals, savings, taxation, budget updates, insurance or other financial products, directly targeting individual consumers and passive investors>\", \"article_interest_duration_evaluation\": \"<Analyze for how many days the information in the article will of interest to users after it is published>\", \"article_interest_duration\": \"<Determine the article\\'s interest duration from options: 1, 3, 7, 14, 30, -1 (timeless), based on the evaluation>\", \"popularity_evaluation\": \"<Assess the article\\'s potential popularity. Score each of reader_interest, headline_effectiveness, event_novelty, and emotional_impact between 0 to 1. Be conservative with scores over 0.4>\", \"popularity_evaluation_critique\": \"<Critique the popularity assessment for possible overestimations or underestimations>\", \"final_reader_interest_score\": \"<0 to 1 float>\", \"final_headline_effectiveness_score\": \"<0 to 1 float>\", \"final_event_novelty_score\": \"<0 to 1 float>\", \"final_emotional_impact_score\": \"<0 to 1 float>\", \"improved_headline\": \"<Craft an engaging headline that captures the article\\'s essence without resorting to clickbait>\", \"article_type\": \"<Identify the article as fact, opinion, analysis, educational, or sponsored, based on its content and presentation>\", \"article_sentiment\": \"<Determine if the article\\'s sentiment is bullish, bearish, or NA (neutral)>\"}\\'\\n        your response should be a json structure with all the 19 above keys without missing any key. It is very important that the response is directly readable with json.loads(). no preamble or postamble.<|im_end|>\\n<|im_start|>user\\n|article_start|\\n headline: How Can You Cancel Your Walmart Credit Card?. \\n content: Walmart offers two types of credit cards: the Capital One Walmart Rewards Card , which can be used anywhere, and the Walmart Rewards Card, which can be used exclusively at Walmart. Both are administered through Capital One. To close either of these credit cards, contact Capital One by sending a letter to the address shown on your latest billing statement or by calling the company’s customer service number (you can find it on the back of your card, on your monthly statement, or online). How to Cancel Your Walmart Credit Card If you need to close your account right away, call the customer service phone number on your statement. A customer service representative can help you cancel your card. Otherwise, you can close your Walmart credit card by sending a letter to Capital One at the address on your statement. For delivery assurance, you may want to send the letter via certified mail. Include in the letter your name, billing address, and account number, as well as a request to close the account. You don’t have to explain why you are closing the account, but if the letter is a follow-up to a phone call, then you should include the date and time of the call, as well as the name of the representative with whom you spoke. What Happens When You Close Your Walmart Card? Under most circumstances, you are still liable for the full outstanding credit card balance , even after you have canceled the card. To prevent accumulating additional charges by any other authorized users of your Walmart credit card, collect all the cards that were issued and destroy them. If any authorized users don’t live near you, notify them about your plan to close your Walmart card right away. Until you settle the account in full, the variable annual percentage rate (APR) on your card will apply to any remaining balances. If you have accumulated rewards on a Capital One Walmart Rewards Card or Walmart Rewards Card, then you may lose them when you cancel the card. Users of the Capital One Walmart Rewards Card earn 5% cash back on purchases at Walmart.com, 2% back on restaurants, travel, and purchases at Walmart physical locations and gas stations, and 1% back on purchases wherever Mastercard is accepted. Users of the Walmart Rewards Card earn the same rewards on Walmart purchases, with 5% back on in-store purchases for the first 12 months. How Closing Your Walmart Card Affects Your Credit Score Capital One reports your credit card activity to the three major credit bureaus (Equifax, Experian, and TransUnion). Closing your account may negatively impact your credit history , depending on how long you have had the card. If your Walmart credit card is your oldest credit card, then consider paying off the full balance but keeping your account open; otherwise, the average age of all your accounts will go down, which can reduce your credit score. Walmart offers several payment options for its credit cards, including online, over the phone, by mail, and in-store (at both Walmart and Sam’s Club, if you’re a Sam’s Club member).\\n|article_end|\\n<|im_end|>\\n<|im_start|>assistant\\n'"
      ]
     },
     "execution_count": 9,
     "metadata": {},
     "output_type": "execute_result"
    }
   ],
   "source": [
    "prompt"
   ]
  },
  {
   "cell_type": "code",
   "execution_count": 10,
   "id": "c5b7d9c3-65ca-4947-bdec-f35896a41e8b",
   "metadata": {
    "tags": []
   },
   "outputs": [],
   "source": [
    "params = {\n",
    "    \"do_sample\": True,\n",
    "    \"top_p\": 0.95,\n",
    "    \"temperature\": 0.5,\n",
    "    \"max_new_tokens\": 1024,\n",
    "    \"repetition_penalty\": 1.02,\n",
    "    \"return_full_text\": False,\n",
    "    \"stop\": [\"###\", \"</s>\", aas.tokenizer.eos_token]\n",
    "}\n",
    "request = {\"inputs\": prompt, \"parameters\": params, \"stream\": False}"
   ]
  },
  {
   "cell_type": "code",
   "execution_count": 11,
   "id": "8735f4fe-8e02-4472-94f8-394b0ce28912",
   "metadata": {
    "tags": []
   },
   "outputs": [],
   "source": [
    "from botocore.config import Config"
   ]
  },
  {
   "cell_type": "code",
   "execution_count": 12,
   "id": "ef886c58-64c7-4bfa-8328-152631302443",
   "metadata": {
    "tags": []
   },
   "outputs": [],
   "source": [
    "import boto3"
   ]
  },
  {
   "cell_type": "code",
   "execution_count": 13,
   "id": "319ac1d3-e992-4ca9-aea4-58fd2a2fc206",
   "metadata": {
    "tags": []
   },
   "outputs": [],
   "source": [
    "my_config = Config(\n",
    "            region_name='ap-south-1',\n",
    "            retries={\n",
    "                'max_attempts': 5,\n",
    "                'mode': 'standard'\n",
    "            },\n",
    "            max_pool_connections=40  # Increase the pool size\n",
    "        )\n",
    "\n",
    "        # Create a SageMaker Runtime client with the custom configuration\n",
    "sess1 = boto3.session.Session()\n",
    "sagemaker_runtime = sess1.client(\"sagemaker-runtime\", config=my_config)"
   ]
  },
  {
   "cell_type": "code",
   "execution_count": 14,
   "id": "140b008c-cb2a-47aa-94d9-644b5bfd380f",
   "metadata": {
    "tags": []
   },
   "outputs": [],
   "source": [
    "response = sagemaker_runtime.invoke_endpoint(\n",
    "            EndpointName=aas.llm_endpoint,\n",
    "            Body=json.dumps(request),\n",
    "            ContentType=\"application/json\",\n",
    "        )"
   ]
  },
  {
   "cell_type": "code",
   "execution_count": 15,
   "id": "6bf6335b-26cd-4411-a33e-0b7b2b7f6325",
   "metadata": {
    "tags": []
   },
   "outputs": [],
   "source": [
    "k = response['Body'].read()"
   ]
  },
  {
   "cell_type": "code",
   "execution_count": 26,
   "id": "763fa31c-9d66-44a4-980a-5add91c20ee5",
   "metadata": {
    "tags": []
   },
   "outputs": [
    {
     "data": {
      "text/plain": [
       "False"
      ]
     },
     "execution_count": 26,
     "metadata": {},
     "output_type": "execute_result"
    }
   ],
   "source": [
    "isinstance(json.loads(json.loads(k)[0]['generated_text']), dict)"
   ]
  },
  {
   "cell_type": "code",
   "execution_count": 59,
   "id": "1eb7d135-61ec-40e9-8a8d-20df0a0d3140",
   "metadata": {
    "tags": []
   },
   "outputs": [],
   "source": [
    "l = json.loads(k)[0]['generated_text'].replace(prompt,'')"
   ]
  },
  {
   "cell_type": "code",
   "execution_count": 61,
   "id": "253982bf-c552-4e63-a109-b1ee19e577e4",
   "metadata": {
    "tags": []
   },
   "outputs": [
    {
     "data": {
      "text/plain": [
       "{'summary': '!🚗! Renewal Process: The car insurance renewal process has become straightforward, with options for online and offline renewals. \\n!💼! Update Details: Provide accurate details about your vehicle, driving record, and personal details during the renewal process. \\n!💰! Renewal Benefits: Renewing car insurance provides financial security, legal compliance, and potential discounts.',\n",
       " 'summary_critique': \"The summary is accurate, thorough, and readable. It follows the _summary_markdown_format_ correctly, with relevant emojis and labels. The summary is faithful to the article's content and doesn't include any extraneous information.\",\n",
       " 'improved_summary': '!🚗! Renewal Process: Renewing car insurance online or offline has become hassle-free. \\n!💼! Update Details: Ensure accurate details about your vehicle, driving record, and personal details during the renewal. \\n!💰! Renewal Advantages: Renewing car insurance guarantees financial security, legal compliance, and potential discounts.',\n",
       " 'top_queries': 'car insurance renewal; process of car insurance renewal; benefits of car insurance renewal; renewing car insurance online; car insurance renewal benefits',\n",
       " 'indian_or_international': 'indian',\n",
       " 'business_or_financial_article': True,\n",
       " 'relevant_for_indians': True,\n",
       " 'category': 'personal_finance',\n",
       " 'article_interest_duration_evaluation': \"The article's information is evergreen as it provides guidance on a recurring task - renewing car insurance.\",\n",
       " 'article_interest_duration': -1,\n",
       " 'popularity_evaluation': 'reader_interest: 0.7, headline_effectiveness: 0.5, event_novelty: 0.2, emotional_impact: 0.3',\n",
       " 'popularity_evaluation_critique': \"The article's topic is of high reader interest due to its practical relevance. The headline is effective but could be more engaging. The event novelty is low as renewing car insurance is a routine task. The emotional impact is moderate as it relates to personal finance.\",\n",
       " 'final_reader_interest_score': 0.7,\n",
       " 'final_headline_effectiveness_score': 0.5,\n",
       " 'final_event_novelty_score': 0.2,\n",
       " 'final_emotional_impact_score': 0.3,\n",
       " 'improved_headline': 'Navigating Car Insurance Renewals: A Hassle-Free Guide',\n",
       " 'article_type': 'educational',\n",
       " 'article_sentiment': 'na'}"
      ]
     },
     "execution_count": 61,
     "metadata": {},
     "output_type": "execute_result"
    }
   ],
   "source": [
    "json.loads(json.loads(l))"
   ]
  },
  {
   "cell_type": "code",
   "execution_count": 13,
   "id": "c94591d8-282f-49aa-a6e2-e93380397150",
   "metadata": {
    "tags": []
   },
   "outputs": [
    {
     "data": {
      "text/plain": [
       "<src.articles.ArticleAttributesService.ArticleAttributesService at 0x1528f79a0>"
      ]
     },
     "execution_count": 13,
     "metadata": {},
     "output_type": "execute_result"
    }
   ],
   "source": [
    "aas.generate_prompt"
   ]
  },
  {
   "cell_type": "code",
   "execution_count": null,
   "id": "818822f7-386c-4c76-80c4-5d5597728174",
   "metadata": {},
   "outputs": [],
   "source": []
  },
  {
   "cell_type": "code",
   "execution_count": 3,
   "id": "06c86466-18bc-41ea-af63-fe314183f095",
   "metadata": {
    "tags": []
   },
   "outputs": [],
   "source": [
    "r = requests.post('http://Carbine-env.eba-tgfee4hb.ap-south-1.elasticbeanstalk.com/update_candidates')"
   ]
  },
  {
   "cell_type": "code",
   "execution_count": 27,
   "id": "0d891322-c744-4eb0-adaa-9c696618dd57",
   "metadata": {
    "tags": []
   },
   "outputs": [],
   "source": [
    "r = requests.post('http://Carbine-env.eba-tgfee4hb.ap-south-1.elasticbeanstalk.com/get_article_attributes_from_llm', json = {'articleId': '65dd503096d2a135a7054bdf'})"
   ]
  },
  {
   "cell_type": "code",
   "execution_count": 29,
   "id": "7f893291-6e31-40ba-a915-d7951644b5cd",
   "metadata": {
    "tags": []
   },
   "outputs": [],
   "source": [
    "from sql.articles.MongoDBArticle import MongoDBArticle"
   ]
  },
  {
   "cell_type": "code",
   "execution_count": 71,
   "id": "3260a09e-4037-47fb-b131-4cd5b3daa984",
   "metadata": {
    "tags": []
   },
   "outputs": [],
   "source": [
    "from bson import ObjectId"
   ]
  },
  {
   "cell_type": "code",
   "execution_count": 91,
   "id": "f7da6923-6f2d-44d4-8bd0-693e47b64ec9",
   "metadata": {
    "tags": []
   },
   "outputs": [],
   "source": [
    "def fetch_missing_summarized_articles(limit=None):\n",
    "    query = {\n",
    "        \"is_premium_article\": False,\n",
    "        \"content_type\": 'ARTICLE',\n",
    "        \"cleaned_text\": {\"$exists\": True, \"$ne\": None},\n",
    "        \"ai_generated_info.summary.OpenHermes_WatermelonUvulaMarigold\": {\"$exists\": False},  # Check for the existence of the special_key,\n",
    "        \"ai_generated_info.summary\": {\"$exists\": False},  # Check for the existence of the special_key,\n",
    "        \"published_time\": {\"$gt\": \"2024-01-20\"},\n",
    "          \"source_id\": {\n",
    "                \"$ne\": ObjectId(\"6560ac8b9952a16bbc397223\")\n",
    "  },\n",
    "    }\n",
    "    collection = MongoDBArticle.get_collection()\n",
    "    if isinstance(limit, int):\n",
    "        documents = list(collection.find(query).limit(limit))\n",
    "    else:\n",
    "        documents = list(collection.find(query))\n",
    "    for doc in documents:\n",
    "        doc['article_id'] = str(doc['_id'])\n",
    "        doc['source_id'] = str(doc['source_id'])\n",
    "    return documents"
   ]
  },
  {
   "cell_type": "code",
   "execution_count": 92,
   "id": "bfb06a80-0e8c-4680-b3cb-97500d2b4bcd",
   "metadata": {
    "tags": []
   },
   "outputs": [],
   "source": [
    "missing_articles = fetch_missing_summarized_articles()"
   ]
  },
  {
   "cell_type": "code",
   "execution_count": 93,
   "id": "32a3707a-277c-4f5f-af69-9f06fd163c6b",
   "metadata": {
    "tags": []
   },
   "outputs": [
    {
     "data": {
      "text/plain": [
       "109"
      ]
     },
     "execution_count": 93,
     "metadata": {},
     "output_type": "execute_result"
    }
   ],
   "source": [
    "len(missing_articles)"
   ]
  },
  {
   "cell_type": "code",
   "execution_count": 94,
   "id": "c4c593eb-b304-46bf-aa83-051c5efe5301",
   "metadata": {
    "tags": []
   },
   "outputs": [],
   "source": [
    "missing_article_ids = [str(x['_id']) for x in missing_articles]"
   ]
  },
  {
   "cell_type": "code",
   "execution_count": 95,
   "id": "d1f05d1f-0066-4f21-a162-8b80f8318ac3",
   "metadata": {
    "tags": []
   },
   "outputs": [],
   "source": [
    "from concurrent.futures import ThreadPoolExecutor, as_completed\n",
    "\n",
    "chunk_size = 20\n",
    "num_chunks = len(missing_article_ids)//chunk_size + 1"
   ]
  },
  {
   "cell_type": "code",
   "execution_count": 96,
   "id": "2a086350-7040-49ee-a8a4-0b0b1678226f",
   "metadata": {
    "tags": []
   },
   "outputs": [],
   "source": [
    "def get_attributes(article_id):\n",
    "    r = requests.post('http://Carbine-env.eba-tgfee4hb.ap-south-1.elasticbeanstalk.com/get_article_attributes_from_llm', json = {'articleId': article_id})"
   ]
  },
  {
   "cell_type": "code",
   "execution_count": 97,
   "id": "360c9edd-951c-4b04-b702-6f85ce4b3697",
   "metadata": {
    "tags": []
   },
   "outputs": [],
   "source": [
    "import time\n",
    "from datetime import datetime"
   ]
  },
  {
   "cell_type": "code",
   "execution_count": 98,
   "id": "9dea8599-84fc-4f60-8b81-cb86dc2a5f3d",
   "metadata": {
    "tags": []
   },
   "outputs": [],
   "source": [
    "from tqdm.notebook import tqdm"
   ]
  },
  {
   "cell_type": "code",
   "execution_count": 99,
   "id": "a37d191a-6598-496e-a948-44504b0676e5",
   "metadata": {
    "scrolled": true,
    "tags": []
   },
   "outputs": [
    {
     "name": "stdout",
     "output_type": "stream",
     "text": [
      "completed chunk 20 articles at Feb 28, 2024 13:19 in 1.85 minutes\n",
      "completed chunk 40 articles at Feb 28, 2024 13:21 in 1.6 minutes\n",
      "completed chunk 60 articles at Feb 28, 2024 13:23 in 1.9 minutes\n",
      "completed chunk 80 articles at Feb 28, 2024 13:25 in 1.7666666666666666 minutes\n",
      "completed chunk 100 articles at Feb 28, 2024 13:27 in 1.9833333333333334 minutes\n",
      "completed chunk 120 articles at Feb 28, 2024 13:27 in 0.8833333333333333 minutes\n"
     ]
    }
   ],
   "source": [
    "for i in range(num_chunks):\n",
    "    article_chunk = missing_article_ids[i*chunk_size:(i+1)*chunk_size]\n",
    "    start_time = time.time()\n",
    "    with ThreadPoolExecutor(max_workers=10) as executor:\n",
    "        futures = [executor.submit(get_attributes, art_id) for art_id in article_chunk]\n",
    "        for future in as_completed(futures):\n",
    "            res = future.result()\n",
    "    print(f'completed chunk {(i + 1) * chunk_size} articles at {\"{:%b %d, %Y %H:%M}\".format(datetime.now())} in {int(time.time() - start_time)/60} minutes')"
   ]
  },
  {
   "cell_type": "code",
   "execution_count": null,
   "id": "f04407f5-9f6d-45b0-bf2d-9e061c14bac4",
   "metadata": {},
   "outputs": [],
   "source": []
  },
  {
   "cell_type": "code",
   "execution_count": 8,
   "id": "0e3c9013-d3ca-4b87-a30e-8ff9ef3797af",
   "metadata": {
    "tags": []
   },
   "outputs": [
    {
     "data": {
      "text/plain": [
       "'<!doctype html>\\n<html lang=en>\\n<title>500 Internal Server Error</title>\\n<h1>Internal Server Error</h1>\\n<p>The server encountered an internal error and was unable to complete your request. Either the server is overloaded or there is an error in the application.</p>\\n'"
      ]
     },
     "execution_count": 8,
     "metadata": {},
     "output_type": "execute_result"
    }
   ],
   "source": [
    "r.text"
   ]
  },
  {
   "cell_type": "code",
   "execution_count": 5,
   "id": "c0447bef-3fc3-47d4-b5c1-c01908483184",
   "metadata": {
    "tags": []
   },
   "outputs": [],
   "source": [
    "def assign_article_to_cluster(article_id):\n",
    "    r = requests.post('http://Carbine-env.eba-tgfee4hb.ap-south-1.elasticbeanstalk.com/assign_cluster', json = {'articleId': article_id})\n",
    "    if r.status_code == 200:\n",
    "        return True, article_id\n",
    "    else:\n",
    "        return False, article_id"
   ]
  },
  {
   "cell_type": "code",
   "execution_count": 37,
   "id": "fff78400-4b39-48cc-9f0d-57796c9d37fb",
   "metadata": {
    "tags": []
   },
   "outputs": [],
   "source": [
    "from sql.PostgresDatabaseOperation import PostgresDatabaseOperation"
   ]
  },
  {
   "cell_type": "code",
   "execution_count": 38,
   "id": "fd52d8ac-442b-452b-81a5-1ff02ae86938",
   "metadata": {
    "tags": []
   },
   "outputs": [],
   "source": [
    "with PostgresDatabaseOperation() as cursor:\n",
    "    sql = \"SELECT DISTINCT article_id FROM embeddings WHERE created_at > '2024-02-19'\"\n",
    "    cursor.execute(sql)\n",
    "    results = cursor.fetchall()"
   ]
  },
  {
   "cell_type": "code",
   "execution_count": 39,
   "id": "0338c146-4cb1-4834-b108-70245e871c0c",
   "metadata": {
    "tags": []
   },
   "outputs": [],
   "source": [
    "embedded_articles = [x[0] for x in results]"
   ]
  },
  {
   "cell_type": "code",
   "execution_count": 40,
   "id": "b1117e7b-079b-4e12-9226-3a0fb13934da",
   "metadata": {
    "tags": []
   },
   "outputs": [],
   "source": [
    "with PostgresDatabaseOperation() as cursor:\n",
    "    sql = \"SELECT DISTINCT article_id FROM article_to_cluster_mapping\"\n",
    "    cursor.execute(sql)\n",
    "    results = cursor.fetchall()"
   ]
  },
  {
   "cell_type": "code",
   "execution_count": 41,
   "id": "b30407e0-0dad-4bd9-bc82-bdf7c03a2681",
   "metadata": {
    "tags": []
   },
   "outputs": [],
   "source": [
    "clustered_articles = [x[0] for x in results]"
   ]
  },
  {
   "cell_type": "code",
   "execution_count": 42,
   "id": "b859d051-166d-4ee2-8189-56b326fff98a",
   "metadata": {
    "tags": []
   },
   "outputs": [],
   "source": [
    "pending_articles = list(set(embedded_articles) - set(clustered_articles))"
   ]
  },
  {
   "cell_type": "code",
   "execution_count": 43,
   "id": "d40eeed5-2fc9-40a8-b743-6ae98da9ce5b",
   "metadata": {
    "tags": []
   },
   "outputs": [
    {
     "data": {
      "text/plain": [
       "3"
      ]
     },
     "execution_count": 43,
     "metadata": {},
     "output_type": "execute_result"
    }
   ],
   "source": [
    "len(pending_articles)"
   ]
  },
  {
   "cell_type": "code",
   "execution_count": 32,
   "id": "28038d4c-7b45-4ffb-af48-74126997da45",
   "metadata": {
    "tags": []
   },
   "outputs": [],
   "source": [
    "chunk_size = 32\n",
    "num_chunks = len(pending_articles)//chunk_size + 1"
   ]
  },
  {
   "cell_type": "code",
   "execution_count": 33,
   "id": "f2f52a42-3adc-42e3-b6eb-bd18e2f4aa27",
   "metadata": {
    "tags": []
   },
   "outputs": [],
   "source": [
    "completed_article_ids_new = []\n",
    "pending_article_ids_new = []"
   ]
  },
  {
   "cell_type": "code",
   "execution_count": 34,
   "id": "b6bf7d82-8d84-48a0-9d9d-a98ab006ef4c",
   "metadata": {
    "scrolled": true,
    "tags": []
   },
   "outputs": [
    {
     "name": "stdout",
     "output_type": "stream",
     "text": [
      "starting creation at Feb 27, 2024 06:02\n",
      "completed chunk 32 articles at Feb 27, 2024 06:03 in 0.08333333333333333 minutes\n",
      "starting creation at Feb 27, 2024 06:03\n",
      "completed chunk 64 articles at Feb 27, 2024 06:03 in 0.08333333333333333 minutes\n",
      "starting creation at Feb 27, 2024 06:03\n",
      "completed chunk 96 articles at Feb 27, 2024 06:03 in 0.08333333333333333 minutes\n",
      "starting creation at Feb 27, 2024 06:03\n",
      "completed chunk 128 articles at Feb 27, 2024 06:03 in 0.08333333333333333 minutes\n",
      "starting creation at Feb 27, 2024 06:03\n",
      "completed chunk 160 articles at Feb 27, 2024 06:03 in 0.08333333333333333 minutes\n",
      "starting creation at Feb 27, 2024 06:03\n",
      "completed chunk 192 articles at Feb 27, 2024 06:03 in 0.1 minutes\n",
      "starting creation at Feb 27, 2024 06:03\n",
      "completed chunk 224 articles at Feb 27, 2024 06:03 in 0.08333333333333333 minutes\n",
      "starting creation at Feb 27, 2024 06:03\n",
      "completed chunk 256 articles at Feb 27, 2024 06:03 in 0.05 minutes\n"
     ]
    }
   ],
   "source": [
    "for i in range(num_chunks):\n",
    "    article_chunk = pending_articles[i*chunk_size:(i+1)*chunk_size]\n",
    "    print(f'starting creation at {\"{:%b %d, %Y %H:%M}\".format(datetime.now())}')\n",
    "    start_time = time.time()\n",
    "    with ThreadPoolExecutor(max_workers=16) as executor:\n",
    "        futures = [executor.submit(assign_article_to_cluster, art_id) for art_id in article_chunk]\n",
    "        for future in as_completed(futures):\n",
    "            success, art_id = future.result()\n",
    "            if success:  # Timeout or other errors\n",
    "                completed_article_ids_new.append(art_id)\n",
    "            else:\n",
    "                pending_article_ids_new.append(art_id)\n",
    "    print(f'completed chunk {(i + 1) * chunk_size} articles at {\"{:%b %d, %Y %H:%M}\".format(datetime.now())} in {int(time.time() - start_time)/60} minutes')"
   ]
  },
  {
   "cell_type": "code",
   "execution_count": null,
   "id": "88798dfe-131b-49dd-ba4f-803836373a8e",
   "metadata": {},
   "outputs": [],
   "source": []
  }
 ],
 "metadata": {
  "kernelspec": {
   "display_name": "bertopicenv",
   "language": "python",
   "name": "bertopicenv"
  },
  "language_info": {
   "codemirror_mode": {
    "name": "ipython",
    "version": 3
   },
   "file_extension": ".py",
   "mimetype": "text/x-python",
   "name": "python",
   "nbconvert_exporter": "python",
   "pygments_lexer": "ipython3",
   "version": "3.9.18"
  }
 },
 "nbformat": 4,
 "nbformat_minor": 5
}
