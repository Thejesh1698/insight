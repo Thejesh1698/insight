{
 "cells": [
  {
   "cell_type": "code",
   "execution_count": 1,
   "id": "c25c4096-8066-4037-8aaf-93f14283b085",
   "metadata": {
    "tags": []
   },
   "outputs": [],
   "source": [
    "import boto3"
   ]
  },
  {
   "cell_type": "code",
   "execution_count": 4,
   "id": "22b097ed-d15c-47e1-9bed-039c29264e59",
   "metadata": {
    "tags": []
   },
   "outputs": [],
   "source": [
    "import pandas as pd"
   ]
  },
  {
   "cell_type": "code",
   "execution_count": 9,
   "id": "7880678e-b513-4fb9-b8e5-faab218628da",
   "metadata": {
    "tags": []
   },
   "outputs": [],
   "source": [
    "parent_folder = '/Users/ravi.tej/Desktop/ML/Recommendations/arcane/'\n",
    "from hydra import compose, initialize\n",
    "import os\n",
    "\n",
    "import xml.etree.ElementTree as ET\n",
    "\n",
    "tree = ET.parse('../../conf/application.run.xml')\n",
    "root = tree.getroot()\n",
    "\n",
    "envs_element = root.find('./configuration/envs')\n",
    "for variable in envs_element.findall('env'):\n",
    "    name = variable.get('name')\n",
    "    value = variable.get('value')\n",
    "    os.environ[name] = value\n",
    "\n",
    "import sys\n",
    "sys.path.append('/Users/ravi.tej/Desktop/ML/Recommendations/arcane/')\n",
    "\n",
    "from src._utils import load_bertopic_model_from_hf"
   ]
  },
  {
   "cell_type": "code",
   "execution_count": 2,
   "id": "f0db1a52-9def-4c99-9143-a7feb3394606",
   "metadata": {
    "tags": []
   },
   "outputs": [],
   "source": [
    "s3_bucket = 'insight-ml-models'\n",
    "s3_bertopic_folder = 'bertopic'"
   ]
  },
  {
   "cell_type": "code",
   "execution_count": 5,
   "id": "bbc10b87-6302-45f3-95db-f13c35f1fec3",
   "metadata": {
    "tags": []
   },
   "outputs": [],
   "source": [
    "test_df = pd.DataFrame([(1, 'a'), (2, 'b')], columns = ['num', 'char'])"
   ]
  },
  {
   "cell_type": "code",
   "execution_count": 7,
   "id": "b543858a-9100-46f9-9c9c-07563ff7d603",
   "metadata": {
    "tags": []
   },
   "outputs": [],
   "source": [
    "from io import StringIO # python3; python2: BytesIO "
   ]
  },
  {
   "cell_type": "code",
   "execution_count": 8,
   "id": "a4325cbb-1b90-4ce2-b424-e710d1600b7e",
   "metadata": {
    "tags": []
   },
   "outputs": [],
   "source": [
    "csv_buffer = StringIO()\n",
    "test_df.to_csv(csv_buffer)"
   ]
  },
  {
   "cell_type": "code",
   "execution_count": 10,
   "id": "cda25ae4-d55b-482c-8ff1-ed512ff08688",
   "metadata": {
    "tags": []
   },
   "outputs": [],
   "source": [
    "s3_resource = boto3.resource('s3', aws_access_key_id=os.environ['AWS_ACCESS_KEY'], aws_secret_access_key=os.environ['AWS_SECRET_KEY'])"
   ]
  },
  {
   "cell_type": "code",
   "execution_count": 11,
   "id": "a9841ff0-19c8-45b8-8acb-b8f46b61c4ab",
   "metadata": {
    "tags": []
   },
   "outputs": [],
   "source": [
    "folder_name = 'test_run_id'"
   ]
  },
  {
   "cell_type": "code",
   "execution_count": 12,
   "id": "0d25ecff-27d9-4c19-9508-a886613e8d5b",
   "metadata": {
    "tags": []
   },
   "outputs": [],
   "source": [
    "filename = 'df.csv'"
   ]
  },
  {
   "cell_type": "code",
   "execution_count": 30,
   "id": "b6f8ca37-797f-4b98-b080-b7280d9bf974",
   "metadata": {
    "tags": []
   },
   "outputs": [],
   "source": [
    "def save_file_to_s3_model_folder(run_id, data, filename, filetype):\n",
    "    folder_name = run_id\n",
    "    s3_resource = boto3.resource('s3', aws_access_key_id=os.environ['AWS_ACCESS_KEY'], aws_secret_access_key=os.environ['AWS_SECRET_KEY'])\n",
    "    if filetype == '.csv':\n",
    "        assert isinstance(data, pd.DataFrame), f\"data for filename {filename} is not of type dataframe to save as csv\"\n",
    "        csv_buffer = StringIO()\n",
    "        data.to_csv(csv_buffer)\n",
    "        filename = filename + '.csv'\n",
    "        s3_resource.Object(s3_bucket, f'{s3_bertopic_folder}/{folder_name}/{filename}').put(Body=csv_buffer.getvalue())\n",
    "    elif filetype == '.json':\n",
    "        assert isinstance(data, dict), f\"data for filename {filename} is not of type dict to save as json\"\n",
    "        filename = filename + '.json'\n",
    "        # s3_resource.Object(s3_bucket, f'{s3_bertopic_folder}/{folder_name}/{filename}').put(Body=(bytes(json.dumps(data).encode('UTF-8'))), ContentType='application/json')\n",
    "        s3_resource.Object(s3_bucket, f'{s3_bertopic_folder}/{folder_name}/{filename}').put(Body=json.dumps(data))"
   ]
  },
  {
   "cell_type": "code",
   "execution_count": null,
   "id": "a61e008a-2fc5-43d4-a474-a23117306792",
   "metadata": {},
   "outputs": [],
   "source": [
    "article_dict = {'storyline_id': article_story_id}\n",
    "    if article_story_id == OUTLIER:\n",
    "        article_dict['storyline_prob'] = 1 - np.sum(article_story_probs)\n",
    "        article_dict['story_cluster_id'] = OUTLIER\n",
    "    else:\n",
    "        article_dict['storyline_prob'] = article_story_probs[article_story_id]\n",
    "        article_dict['story_cluster_id'] = story_cluster_map[article_story_id]\n",
    "\n",
    "    article_dict['max_agg_cluster_id'], article_dict['agg_cluster_prob'] = __get_balanced_cluster_for_outlier(story_cluster_map=story_cluster_map,\n",
    "                                                                                                              article_story_probs=article_story_probs)\n",
    "    if article_story_id == OUTLIER:\n",
    "        article_dict['cluster_id'] = article_dict['max_agg_cluster_id']\n",
    "    else:\n",
    "        article_dict['cluster_id'] = article_dict['story_cluster_id']"
   ]
  },
  {
   "cell_type": "code",
   "execution_count": 35,
   "id": "d5dc5358-df3f-4247-9b02-49431ec0e4f0",
   "metadata": {
    "tags": []
   },
   "outputs": [],
   "source": [
    "k = {'a': {'storyline_id': int(1), 'storyline_prob': 0.873, 'story_cluster_id': int(-1), 'max_agg_cluster_id': int(32), 'cluster_id': int(32)}}"
   ]
  },
  {
   "cell_type": "code",
   "execution_count": 36,
   "id": "bb650adb-dc8c-4713-a7ec-4dc78ac6a99f",
   "metadata": {
    "tags": []
   },
   "outputs": [],
   "source": [
    "import json"
   ]
  },
  {
   "cell_type": "code",
   "execution_count": 37,
   "id": "1559257d-b7d4-4593-9686-cf1f0ab12f81",
   "metadata": {
    "tags": []
   },
   "outputs": [],
   "source": [
    "save_file_to_s3_model_folder('test_run_id', data = k, filename = 'test_json_1', filetype = '.json')"
   ]
  },
  {
   "cell_type": "code",
   "execution_count": 13,
   "id": "de9b7cb1-fcb2-443e-9037-35ff36820e8c",
   "metadata": {
    "tags": []
   },
   "outputs": [
    {
     "data": {
      "text/plain": [
       "{'ResponseMetadata': {'RequestId': '96KW71Z2FN9029FT',\n",
       "  'HostId': 'VLg9GMW2owJt6aO6CkAkWDCv0ArJ2rFmZNfrupH+9SI5xEnVkWlHf6nWgKFW+zo8qKKjLrpvqC8=',\n",
       "  'HTTPStatusCode': 200,\n",
       "  'HTTPHeaders': {'x-amz-id-2': 'VLg9GMW2owJt6aO6CkAkWDCv0ArJ2rFmZNfrupH+9SI5xEnVkWlHf6nWgKFW+zo8qKKjLrpvqC8=',\n",
       "   'x-amz-request-id': '96KW71Z2FN9029FT',\n",
       "   'date': 'Mon, 20 Nov 2023 08:19:43 GMT',\n",
       "   'x-amz-server-side-encryption': 'AES256',\n",
       "   'etag': '\"055f037a19f8477fc0867d1609f251c3\"',\n",
       "   'server': 'AmazonS3',\n",
       "   'content-length': '0'},\n",
       "  'RetryAttempts': 0},\n",
       " 'ETag': '\"055f037a19f8477fc0867d1609f251c3\"',\n",
       " 'ServerSideEncryption': 'AES256'}"
      ]
     },
     "execution_count": 13,
     "metadata": {},
     "output_type": "execute_result"
    }
   ],
   "source": [
    "s3_resource.Object(s3_bucket, f'{s3_bertopic_folder}/{folder_name}/{filename}').put(Body=csv_buffer.getvalue())"
   ]
  },
  {
   "cell_type": "code",
   "execution_count": 6,
   "id": "6e995425-6ef6-41b1-88e7-6de0466a4dff",
   "metadata": {
    "tags": []
   },
   "outputs": [
    {
     "data": {
      "text/html": [
       "<div>\n",
       "<style scoped>\n",
       "    .dataframe tbody tr th:only-of-type {\n",
       "        vertical-align: middle;\n",
       "    }\n",
       "\n",
       "    .dataframe tbody tr th {\n",
       "        vertical-align: top;\n",
       "    }\n",
       "\n",
       "    .dataframe thead th {\n",
       "        text-align: right;\n",
       "    }\n",
       "</style>\n",
       "<table border=\"1\" class=\"dataframe\">\n",
       "  <thead>\n",
       "    <tr style=\"text-align: right;\">\n",
       "      <th></th>\n",
       "      <th>num</th>\n",
       "      <th>char</th>\n",
       "    </tr>\n",
       "  </thead>\n",
       "  <tbody>\n",
       "    <tr>\n",
       "      <th>0</th>\n",
       "      <td>1</td>\n",
       "      <td>a</td>\n",
       "    </tr>\n",
       "    <tr>\n",
       "      <th>1</th>\n",
       "      <td>2</td>\n",
       "      <td>b</td>\n",
       "    </tr>\n",
       "  </tbody>\n",
       "</table>\n",
       "</div>"
      ],
      "text/plain": [
       "   num char\n",
       "0    1    a\n",
       "1    2    b"
      ]
     },
     "execution_count": 6,
     "metadata": {},
     "output_type": "execute_result"
    }
   ],
   "source": [
    "test_df"
   ]
  },
  {
   "cell_type": "code",
   "execution_count": null,
   "id": "86a73194-ca5b-4518-8b70-eafacd75d197",
   "metadata": {},
   "outputs": [],
   "source": []
  }
 ],
 "metadata": {
  "kernelspec": {
   "display_name": "bertopicenv",
   "language": "python",
   "name": "bertopicenv"
  },
  "language_info": {
   "codemirror_mode": {
    "name": "ipython",
    "version": 3
   },
   "file_extension": ".py",
   "mimetype": "text/x-python",
   "name": "python",
   "nbconvert_exporter": "python",
   "pygments_lexer": "ipython3",
   "version": "3.9.18"
  }
 },
 "nbformat": 4,
 "nbformat_minor": 5
}
